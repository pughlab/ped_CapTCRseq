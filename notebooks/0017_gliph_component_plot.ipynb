{
 "cells": [
  {
   "attachments": {},
   "cell_type": "markdown",
   "metadata": {},
   "source": [
    "# Dependencies"
   ]
  },
  {
   "cell_type": "code",
   "execution_count": 5,
   "metadata": {
    "vscode": {
     "languageId": "r"
    }
   },
   "outputs": [],
   "source": [
    "pacman::p_load(\n",
    "    patchwork,\n",
    "    igraph, graphlayouts,\n",
    "    dplyr, ggplot2, GUniFrac, ggsignif,\n",
    "    lsmeans, factoextra\n",
    ")\n"
   ]
  },
  {
   "attachments": {},
   "cell_type": "markdown",
   "metadata": {},
   "source": [
    "# Functions"
   ]
  },
  {
   "cell_type": "code",
   "execution_count": 6,
   "metadata": {
    "vscode": {
     "languageId": "r"
    }
   },
   "outputs": [],
   "source": [
    "source(\"/Users/anabbi/git/ped_CapTCRseq/R/ggplot2_theme.R\")\n",
    "source(\"/Users/anabbi/git/ped_CapTCRseq/R/color_schemes.R\")\n",
    "source(\"/Users/anabbi/git/ped_CapTCRseq/R/Misc_functions.R\")"
   ]
  },
  {
   "cell_type": "code",
   "execution_count": 7,
   "metadata": {
    "vscode": {
     "languageId": "r"
    }
   },
   "outputs": [],
   "source": [
    "cohort_comp.fx <- function(comp_out_sep, sampletype, cycle) {\n",
    "    compout_sampletype <- comp_out_sep[grepl(sampletype, comp_out_sep$basename), ]\n",
    "    compout_sampletype <- compout_sampletype[grepl(cycle, compout_sampletype$basename), ]\n",
    "    emerson_sep <- comp_out_sep[grepl(\"Emerson\", comp_out_sep$PatientDerived_Nodes), ]\n",
    "\n",
    "    compout_int_emerson <- rbind(emerson_sep, compout_sampletype)\n",
    "\n",
    "    mytab <- as.data.frame.matrix(table(compout_int_emerson$cohort, compout_int_emerson$Component_id))\n",
    "    cohort_comp <- as.data.frame(t(mytab))\n",
    "    # length(unique(compout_int_emerson$Component_id))\n",
    "    cohort_comp$grp <- NA\n",
    "    # if AdultEmeson > 0 and others = 0, grp = Adult\n",
    "    cohort_comp$grp[cohort_comp$AdultEmerson > 0 & cohort_comp$ChildEmerson == 0 &\n",
    "        cohort_comp$Leukemia == 0 & cohort_comp$Lymphoma == 0 &\n",
    "        cohort_comp$Solidtumors == 0 & cohort_comp$`T-cellmalignancies` == 0] <- \"Adult\"\n",
    "\n",
    "    cohort_comp$grp[cohort_comp$AdultEmerson == 0 & cohort_comp$ChildEmerson > 0 &\n",
    "        cohort_comp$Leukemia == 0 & cohort_comp$Lymphoma == 0 &\n",
    "        cohort_comp$Solidtumors == 0 & cohort_comp$`T-cellmalignancies` == 0] <- \"Child\"\n",
    "\n",
    "    cohort_comp$grp[cohort_comp$AdultEmerson == 0 & cohort_comp$ChildEmerson == 0 &\n",
    "        cohort_comp$Leukemia > 0 & cohort_comp$Lymphoma == 0 &\n",
    "        cohort_comp$Solidtumors == 0 & cohort_comp$`T-cellmalignancies` == 0] <- \"Leukemia\"\n",
    "\n",
    "    cohort_comp$grp[cohort_comp$AdultEmerson == 0 & cohort_comp$ChildEmerson == 0 &\n",
    "        cohort_comp$Leukemia == 0 & cohort_comp$Lymphoma > 0 &\n",
    "        cohort_comp$Solidtumors == 0 & cohort_comp$`T-cellmalignancies` == 0] <- \"Lymphoma\"\n",
    "\n",
    "    cohort_comp$grp[cohort_comp$AdultEmerson == 0 & cohort_comp$ChildEmerson == 0 &\n",
    "        cohort_comp$Leukemia == 0 & cohort_comp$Lymphoma == 0 &\n",
    "        cohort_comp$Solidtumors > 0 & cohort_comp$`T-cellmalignancies` == 0] <- \"Solid\"\n",
    "\n",
    "    cohort_comp$grp[cohort_comp$AdultEmerson == 0 & cohort_comp$ChildEmerson == 0 &\n",
    "        cohort_comp$Leukemia == 0 & cohort_comp$Lymphoma == 0 &\n",
    "        cohort_comp$Solidtumors == 0 & cohort_comp$`T-cellmalignancies` > 0] <- \"TcellMalig\"\n",
    "\n",
    "    healthies <- cohort_comp$AdultEmerson == 0 & cohort_comp$ChildEmerson == 0\n",
    "    cancers <- rowSums(cohort_comp[, c(\"Leukemia\", \"Lymphoma\", \"Solidtumors\", \"T-cellmalignancies\")] > 0) >= 2\n",
    "    cohort_comp$grp[healthies & cancers] <- \"Cancer\"\n",
    "    healthies <- cohort_comp$AdultEmerson > 0 | cohort_comp$ChildEmerson > 0\n",
    "    cancers <- rowSums(cohort_comp[, c(\n",
    "        \"Leukemia\", \"Lymphoma\",\n",
    "        \"Solidtumors\", \"T-cellmalignancies\"\n",
    "    )] > 0) >= 1\n",
    "    cohort_comp$grp[healthies & cancers] <- \"Common\"\n",
    "    cohort_comp$grp[is.na(cohort_comp$grp)] <- \"Healthy\"\n",
    "    return(cohort_comp)\n",
    "    # table(cohort_comp$grp)\n",
    "}\n"
   ]
  },
  {
   "cell_type": "code",
   "execution_count": 8,
   "metadata": {
    "vscode": {
     "languageId": "r"
    }
   },
   "outputs": [],
   "source": [
    "comp_frac.fx <- function(comp_out_sep, sampletype, cycle) {\n",
    "\n",
    "    compout_sampletype <- comp_out_sep[grepl(sampletype, comp_out_sep$basename), ]\n",
    "    compout_sampletype_cycle <- compout_sampletype[grepl(cycle, compout_sampletype$basename), ]\n",
    "    emerson_sep <- comp_out_sep[grepl(\"Emerson\", comp_out_sep$PatientDerived_Nodes), ]\n",
    "\n",
    "    compout_int_emerson <- rbind(emerson_sep, compout_sampletype_cycle)\n",
    "\n",
    "    pat_tab <- as.data.frame.matrix(table(compout_int_emerson$Patient, compout_int_emerson$cohort))\n",
    "    tail(pat_tab)\n",
    "    pat_tab$cohort <- NA\n",
    "    pat_tab$cohort <- compout_int_emerson$cohort[match(rownames(pat_tab), compout_int_emerson$Patient)]\n",
    "    \n",
    "    pat_tab$total <- NA\n",
    "    mycols <- c(\"CMV\", \"EBV\", \"HPV\", \"HCV\", \"HomoSapiens\", \"MCPyV\", \"Influenca\", \"tuberculosis\", \"pneumoniae\")\n",
    "    for (a in mycols) {\n",
    "        pat_tab[[a]] <- NA\n",
    "    }\n",
    "\n",
    "    for (i in 1:nrow(pat_tab)) {\n",
    "        pt <- rownames(pat_tab)[i]\n",
    "        mycomppt <- compout_int_emerson[compout_int_emerson$Patient == pt, ]\n",
    "        pat_tab$total[i] <- sum(mycomppt$cloneCount) # all clones incluuding those in common components\n",
    "\n",
    "        # mycomppt <- mycomppt[ !mycomppt$Component_id %in% commoncomps,]\n",
    "        # print(table(mycomppt$Component_id))\n",
    "        for (a in c(\"CMV\", \"EBV\", \"HPV\", \"HCV\", \"HomoSapiens\", \"MCPyV\", \"Influenca\", \"tuberculosis\", \"pneumoniae\")) {\n",
    "            pat_tab[[a]][i] <- sum(mycomppt$cloneCount[grepl(a, mycomppt$Component_specificity)], na.rm = T)\n",
    "        }\n",
    "    }\n",
    "    pat_tab[, mycols] <- pat_tab[, mycols] / pat_tab$total\n",
    "\n",
    "    return(pat_tab)\n",
    "}\n"
   ]
  },
  {
   "attachments": {},
   "cell_type": "markdown",
   "metadata": {},
   "source": [
    "# Paths"
   ]
  },
  {
   "cell_type": "code",
   "execution_count": 9,
   "metadata": {
    "vscode": {
     "languageId": "r"
    }
   },
   "outputs": [],
   "source": [
    "datapath <- \"/Users/anabbi/OneDrive - UHN/Documents/INTERCEPT/Data/\"\n",
    "plotpath <- \"/Users/anabbi/OneDrive - UHN/Documents/INTERCEPT/Plots/\"\n",
    "manifestpath <- \"/Users/anabbi/OneDrive - UHN/Documents/INTERCEPT/Manifests/\"\n",
    "gitpath <- \"/Users/anabbi/git/ped_CapTCRseq/\""
   ]
  },
  {
   "cell_type": "code",
   "execution_count": 10,
   "metadata": {
    "vscode": {
     "languageId": "r"
    }
   },
   "outputs": [],
   "source": [
    "h4hpath <- \"/Users/anabbi/Desktop/H4H/INTERCEPT/analysis/GLIPH/run_gliph/\""
   ]
  },
  {
   "attachments": {},
   "cell_type": "markdown",
   "metadata": {},
   "source": [
    "# Main"
   ]
  },
  {
   "cell_type": "markdown",
   "metadata": {},
   "source": [
    "Cleanup int components"
   ]
  },
  {
   "cell_type": "code",
   "execution_count": 11,
   "metadata": {
    "vscode": {
     "languageId": "r"
    }
   },
   "outputs": [],
   "source": [
    "meta_div <- readr::read_rds(paste0(datapath, \"capTCRseq/meta_div_goodsamples.rds\"))"
   ]
  },
  {
   "cell_type": "code",
   "execution_count": 12,
   "metadata": {
    "vscode": {
     "languageId": "r"
    }
   },
   "outputs": [],
   "source": [
    "#remove those samples that we did not have the TCRseq data for\n",
    "meta_div <- meta_div[!is.na(meta_div$TRB),]"
   ]
  },
  {
   "cell_type": "code",
   "execution_count": 13,
   "metadata": {
    "vscode": {
     "languageId": "r"
    }
   },
   "outputs": [
    {
     "data": {
      "text/html": [
       "<table class=\"dataframe\">\n",
       "<caption>A data.frame: 6 x 66</caption>\n",
       "<thead>\n",
       "\t<tr><th></th><th scope=col>sample_id</th><th scope=col>Patient</th><th scope=col>cycle</th><th scope=col>FOLD</th><th scope=col>ATC</th><th scope=col>Age</th><th scope=col>Disease_type</th><th scope=col>TE_fold</th><th scope=col>CD3</th><th scope=col>EM</th><th scope=col>...</th><th scope=col>estimated_Shannon</th><th scope=col>SE_Shannon</th><th scope=col>observed_Simpson</th><th scope=col>estimated_Simpson</th><th scope=col>SE_Simpson</th><th scope=col>basename</th><th scope=col>file</th><th scope=col>sampletype</th><th scope=col>Group</th><th scope=col>log10shann</th></tr>\n",
       "\t<tr><th></th><th scope=col>&lt;chr&gt;</th><th scope=col>&lt;chr&gt;</th><th scope=col>&lt;chr&gt;</th><th scope=col>&lt;dbl&gt;</th><th scope=col>&lt;dbl&gt;</th><th scope=col>&lt;dbl&gt;</th><th scope=col>&lt;chr&gt;</th><th scope=col>&lt;dbl&gt;</th><th scope=col>&lt;int&gt;</th><th scope=col>&lt;int&gt;</th><th scope=col>...</th><th scope=col>&lt;dbl&gt;</th><th scope=col>&lt;dbl&gt;</th><th scope=col>&lt;dbl&gt;</th><th scope=col>&lt;dbl&gt;</th><th scope=col>&lt;dbl&gt;</th><th scope=col>&lt;chr&gt;</th><th scope=col>&lt;chr&gt;</th><th scope=col>&lt;chr&gt;</th><th scope=col>&lt;chr&gt;</th><th scope=col>&lt;dbl&gt;</th></tr>\n",
       "</thead>\n",
       "<tbody>\n",
       "\t<tr><th scope=row>776</th><td>CHP_414_01</td><td>CHP_414</td><td>X01</td><td>0.0</td><td>  0.00</td><td>1</td><td>HB</td><td>0.0</td><td>   0</td><td> NA</td><td>...</td><td>  5.670</td><td>0.023</td><td>  4.932</td><td>  4.932</td><td>0.027</td><td>CHP_414-01_PBMC-DNA</td><td>remaining_batch_3_4May2021/mixcr/clones/CLONES_TRBCHP_414-01_PBMC-DNA.txt      </td><td>PBMC </td><td>CHP</td><td>0.7534298</td></tr>\n",
       "\t<tr><th scope=row>777</th><td>CHP_414_02</td><td>CHP_414</td><td>X02</td><td>0.0</td><td>802.76</td><td>1</td><td>HB</td><td>0.0</td><td>   0</td><td> NA</td><td>...</td><td>595.457</td><td>1.378</td><td>503.215</td><td>506.518</td><td>1.961</td><td>CHP_414-02-PBMC-DNA</td><td>batch13_26Aug2020/mixcr/clones/CLONES_TRBCHP_414-02-PBMC-DNA.txt               </td><td>PBMC </td><td>CHP</td><td>2.7726480</td></tr>\n",
       "\t<tr><th scope=row>778</th><td>CHP_414_03</td><td>CHP_414</td><td>X03</td><td>0.8</td><td> 73.80</td><td>1</td><td>HB</td><td>0.8</td><td>2525</td><td>312</td><td>...</td><td>377.849</td><td>0.674</td><td>319.849</td><td>320.709</td><td>1.023</td><td>CHP_414-03_PBMC-DNA</td><td>remaining_batch_3_4May2021/mixcr/clones/CLONES_TRBCHP_414-03_PBMC-DNA.txt      </td><td>PBMC </td><td>CHP</td><td>2.5763978</td></tr>\n",
       "\t<tr><th scope=row>270</th><td>CHP_414_01</td><td>CHP_414</td><td>X01</td><td>0.0</td><td>  0.00</td><td>1</td><td>HB</td><td>0.0</td><td>   0</td><td> NA</td><td>...</td><td>  7.899</td><td>0.096</td><td>  6.215</td><td>  6.222</td><td>0.107</td><td>CHP_414-01_cfDNA   </td><td>remaining_batch_4_cfDNA_15April2021/mixcr/clones/CLONES_TRBCHP_414-01_cfDNA.txt</td><td>cfDNA</td><td>CHP</td><td>0.8970220</td></tr>\n",
       "\t<tr><th scope=row>271</th><td>CHP_414_02</td><td>CHP_414</td><td>X02</td><td>0.0</td><td>802.76</td><td>1</td><td>HB</td><td>0.0</td><td>   0</td><td> NA</td><td>...</td><td>  3.637</td><td>0.046</td><td>  3.155</td><td>  3.158</td><td>0.059</td><td>CHP_414-02_cfDNA   </td><td>remaining_batch_3_cfDNA_15April2021/mixcr/clones/CLONES_TRBCHP_414-02_cfDNA.txt</td><td>cfDNA</td><td>CHP</td><td>0.5603849</td></tr>\n",
       "\t<tr><th scope=row>272</th><td>CHP_414_03</td><td>CHP_414</td><td>X03</td><td>0.8</td><td> 73.80</td><td>1</td><td>HB</td><td>0.8</td><td>2525</td><td>312</td><td>...</td><td>  6.678</td><td>0.049</td><td>  5.542</td><td>  5.544</td><td>0.055</td><td>CHP_414-03_cfDNA   </td><td>remaining_batch_3_cfDNA_15April2021/mixcr/clones/CLONES_TRBCHP_414-03_cfDNA.txt</td><td>cfDNA</td><td>CHP</td><td>0.8245163</td></tr>\n",
       "</tbody>\n",
       "</table>\n"
      ],
      "text/latex": [
       "A data.frame: 6 x 66\n",
       "\\begin{tabular}{r|lllllllllllllllllllll}\n",
       "  & sample\\_id & Patient & cycle & FOLD & ATC & Age & Disease\\_type & TE\\_fold & CD3 & EM & ... & estimated\\_Shannon & SE\\_Shannon & observed\\_Simpson & estimated\\_Simpson & SE\\_Simpson & basename & file & sampletype & Group & log10shann\\\\\n",
       "  & <chr> & <chr> & <chr> & <dbl> & <dbl> & <dbl> & <chr> & <dbl> & <int> & <int> & ... & <dbl> & <dbl> & <dbl> & <dbl> & <dbl> & <chr> & <chr> & <chr> & <chr> & <dbl>\\\\\n",
       "\\hline\n",
       "\t776 & CHP\\_414\\_01 & CHP\\_414 & X01 & 0.0 &   0.00 & 1 & HB & 0.0 &    0 &  NA & ... &   5.670 & 0.023 &   4.932 &   4.932 & 0.027 & CHP\\_414-01\\_PBMC-DNA & remaining\\_batch\\_3\\_4May2021/mixcr/clones/CLONES\\_TRBCHP\\_414-01\\_PBMC-DNA.txt       & PBMC  & CHP & 0.7534298\\\\\n",
       "\t777 & CHP\\_414\\_02 & CHP\\_414 & X02 & 0.0 & 802.76 & 1 & HB & 0.0 &    0 &  NA & ... & 595.457 & 1.378 & 503.215 & 506.518 & 1.961 & CHP\\_414-02-PBMC-DNA & batch13\\_26Aug2020/mixcr/clones/CLONES\\_TRBCHP\\_414-02-PBMC-DNA.txt                & PBMC  & CHP & 2.7726480\\\\\n",
       "\t778 & CHP\\_414\\_03 & CHP\\_414 & X03 & 0.8 &  73.80 & 1 & HB & 0.8 & 2525 & 312 & ... & 377.849 & 0.674 & 319.849 & 320.709 & 1.023 & CHP\\_414-03\\_PBMC-DNA & remaining\\_batch\\_3\\_4May2021/mixcr/clones/CLONES\\_TRBCHP\\_414-03\\_PBMC-DNA.txt       & PBMC  & CHP & 2.5763978\\\\\n",
       "\t270 & CHP\\_414\\_01 & CHP\\_414 & X01 & 0.0 &   0.00 & 1 & HB & 0.0 &    0 &  NA & ... &   7.899 & 0.096 &   6.215 &   6.222 & 0.107 & CHP\\_414-01\\_cfDNA    & remaining\\_batch\\_4\\_cfDNA\\_15April2021/mixcr/clones/CLONES\\_TRBCHP\\_414-01\\_cfDNA.txt & cfDNA & CHP & 0.8970220\\\\\n",
       "\t271 & CHP\\_414\\_02 & CHP\\_414 & X02 & 0.0 & 802.76 & 1 & HB & 0.0 &    0 &  NA & ... &   3.637 & 0.046 &   3.155 &   3.158 & 0.059 & CHP\\_414-02\\_cfDNA    & remaining\\_batch\\_3\\_cfDNA\\_15April2021/mixcr/clones/CLONES\\_TRBCHP\\_414-02\\_cfDNA.txt & cfDNA & CHP & 0.5603849\\\\\n",
       "\t272 & CHP\\_414\\_03 & CHP\\_414 & X03 & 0.8 &  73.80 & 1 & HB & 0.8 & 2525 & 312 & ... &   6.678 & 0.049 &   5.542 &   5.544 & 0.055 & CHP\\_414-03\\_cfDNA    & remaining\\_batch\\_3\\_cfDNA\\_15April2021/mixcr/clones/CLONES\\_TRBCHP\\_414-03\\_cfDNA.txt & cfDNA & CHP & 0.8245163\\\\\n",
       "\\end{tabular}\n"
      ],
      "text/markdown": [
       "\n",
       "A data.frame: 6 x 66\n",
       "\n",
       "| <!--/--> | sample_id &lt;chr&gt; | Patient &lt;chr&gt; | cycle &lt;chr&gt; | FOLD &lt;dbl&gt; | ATC &lt;dbl&gt; | Age &lt;dbl&gt; | Disease_type &lt;chr&gt; | TE_fold &lt;dbl&gt; | CD3 &lt;int&gt; | EM &lt;int&gt; | ... ... | estimated_Shannon &lt;dbl&gt; | SE_Shannon &lt;dbl&gt; | observed_Simpson &lt;dbl&gt; | estimated_Simpson &lt;dbl&gt; | SE_Simpson &lt;dbl&gt; | basename &lt;chr&gt; | file &lt;chr&gt; | sampletype &lt;chr&gt; | Group &lt;chr&gt; | log10shann &lt;dbl&gt; |\n",
       "|---|---|---|---|---|---|---|---|---|---|---|---|---|---|---|---|---|---|---|---|---|---|\n",
       "| 776 | CHP_414_01 | CHP_414 | X01 | 0.0 |   0.00 | 1 | HB | 0.0 |    0 |  NA | ... |   5.670 | 0.023 |   4.932 |   4.932 | 0.027 | CHP_414-01_PBMC-DNA | remaining_batch_3_4May2021/mixcr/clones/CLONES_TRBCHP_414-01_PBMC-DNA.txt       | PBMC  | CHP | 0.7534298 |\n",
       "| 777 | CHP_414_02 | CHP_414 | X02 | 0.0 | 802.76 | 1 | HB | 0.0 |    0 |  NA | ... | 595.457 | 1.378 | 503.215 | 506.518 | 1.961 | CHP_414-02-PBMC-DNA | batch13_26Aug2020/mixcr/clones/CLONES_TRBCHP_414-02-PBMC-DNA.txt                | PBMC  | CHP | 2.7726480 |\n",
       "| 778 | CHP_414_03 | CHP_414 | X03 | 0.8 |  73.80 | 1 | HB | 0.8 | 2525 | 312 | ... | 377.849 | 0.674 | 319.849 | 320.709 | 1.023 | CHP_414-03_PBMC-DNA | remaining_batch_3_4May2021/mixcr/clones/CLONES_TRBCHP_414-03_PBMC-DNA.txt       | PBMC  | CHP | 2.5763978 |\n",
       "| 270 | CHP_414_01 | CHP_414 | X01 | 0.0 |   0.00 | 1 | HB | 0.0 |    0 |  NA | ... |   7.899 | 0.096 |   6.215 |   6.222 | 0.107 | CHP_414-01_cfDNA    | remaining_batch_4_cfDNA_15April2021/mixcr/clones/CLONES_TRBCHP_414-01_cfDNA.txt | cfDNA | CHP | 0.8970220 |\n",
       "| 271 | CHP_414_02 | CHP_414 | X02 | 0.0 | 802.76 | 1 | HB | 0.0 |    0 |  NA | ... |   3.637 | 0.046 |   3.155 |   3.158 | 0.059 | CHP_414-02_cfDNA    | remaining_batch_3_cfDNA_15April2021/mixcr/clones/CLONES_TRBCHP_414-02_cfDNA.txt | cfDNA | CHP | 0.5603849 |\n",
       "| 272 | CHP_414_03 | CHP_414 | X03 | 0.8 |  73.80 | 1 | HB | 0.8 | 2525 | 312 | ... |   6.678 | 0.049 |   5.542 |   5.544 | 0.055 | CHP_414-03_cfDNA    | remaining_batch_3_cfDNA_15April2021/mixcr/clones/CLONES_TRBCHP_414-03_cfDNA.txt | cfDNA | CHP | 0.8245163 |\n",
       "\n"
      ],
      "text/plain": [
       "    sample_id  Patient cycle FOLD ATC    Age Disease_type TE_fold CD3  EM  ...\n",
       "776 CHP_414_01 CHP_414 X01   0.0    0.00 1   HB           0.0        0  NA ...\n",
       "777 CHP_414_02 CHP_414 X02   0.0  802.76 1   HB           0.0        0  NA ...\n",
       "778 CHP_414_03 CHP_414 X03   0.8   73.80 1   HB           0.8     2525 312 ...\n",
       "270 CHP_414_01 CHP_414 X01   0.0    0.00 1   HB           0.0        0  NA ...\n",
       "271 CHP_414_02 CHP_414 X02   0.0  802.76 1   HB           0.0        0  NA ...\n",
       "272 CHP_414_03 CHP_414 X03   0.8   73.80 1   HB           0.8     2525 312 ...\n",
       "    estimated_Shannon SE_Shannon observed_Simpson estimated_Simpson SE_Simpson\n",
       "776   5.670           0.023        4.932            4.932           0.027     \n",
       "777 595.457           1.378      503.215          506.518           1.961     \n",
       "778 377.849           0.674      319.849          320.709           1.023     \n",
       "270   7.899           0.096        6.215            6.222           0.107     \n",
       "271   3.637           0.046        3.155            3.158           0.059     \n",
       "272   6.678           0.049        5.542            5.544           0.055     \n",
       "    basename           \n",
       "776 CHP_414-01_PBMC-DNA\n",
       "777 CHP_414-02-PBMC-DNA\n",
       "778 CHP_414-03_PBMC-DNA\n",
       "270 CHP_414-01_cfDNA   \n",
       "271 CHP_414-02_cfDNA   \n",
       "272 CHP_414-03_cfDNA   \n",
       "    file                                                                           \n",
       "776 remaining_batch_3_4May2021/mixcr/clones/CLONES_TRBCHP_414-01_PBMC-DNA.txt      \n",
       "777 batch13_26Aug2020/mixcr/clones/CLONES_TRBCHP_414-02-PBMC-DNA.txt               \n",
       "778 remaining_batch_3_4May2021/mixcr/clones/CLONES_TRBCHP_414-03_PBMC-DNA.txt      \n",
       "270 remaining_batch_4_cfDNA_15April2021/mixcr/clones/CLONES_TRBCHP_414-01_cfDNA.txt\n",
       "271 remaining_batch_3_cfDNA_15April2021/mixcr/clones/CLONES_TRBCHP_414-02_cfDNA.txt\n",
       "272 remaining_batch_3_cfDNA_15April2021/mixcr/clones/CLONES_TRBCHP_414-03_cfDNA.txt\n",
       "    sampletype Group log10shann\n",
       "776 PBMC       CHP   0.7534298 \n",
       "777 PBMC       CHP   2.7726480 \n",
       "778 PBMC       CHP   2.5763978 \n",
       "270 cfDNA      CHP   0.8970220 \n",
       "271 cfDNA      CHP   0.5603849 \n",
       "272 cfDNA      CHP   0.8245163 "
      ]
     },
     "metadata": {},
     "output_type": "display_data"
    }
   ],
   "source": [
    "meta_div[ meta_div$Patient == \"CHP_414\",]"
   ]
  },
  {
   "cell_type": "code",
   "execution_count": 7,
   "metadata": {
    "vscode": {
     "languageId": "r"
    }
   },
   "outputs": [
    {
     "data": {
      "text/html": [
       "<style>\n",
       ".list-inline {list-style: none; margin:0; padding: 0}\n",
       ".list-inline>li {display: inline-block}\n",
       ".list-inline>li:not(:last-child)::after {content: \"\\00b7\"; padding: 0 .5ex}\n",
       "</style>\n",
       "<ol class=list-inline><li>'addjurkat.fx'</li><li>'age_pal'</li><li>'align_plots1'</li><li>'calculate_delta.fx'</li><li>'cohort_col'</li><li>'cycle_col'</li><li>'datapath'</li><li>'delta_basespiderplot.fx'</li><li>'gitpath'</li><li>'group_col'</li><li>'h4hpath'</li><li>'histdenp'</li><li>'histp'</li><li>'lsmeans_df.fx'</li><li>'manifestpath'</li><li>'message_parallel'</li><li>'meta_div'</li><li>'myaxis'</li><li>'myplot'</li><li>'plotpath'</li><li>'round_and_format'</li><li>'safe_mclapply'</li><li>'sampletags_columns'</li><li>'text_matrix'</li><li>'toString_onefle.fx'</li><li>'type_col'</li></ol>\n"
      ],
      "text/latex": [
       "\\begin{enumerate*}\n",
       "\\item 'addjurkat.fx'\n",
       "\\item 'age\\_pal'\n",
       "\\item 'align\\_plots1'\n",
       "\\item 'calculate\\_delta.fx'\n",
       "\\item 'cohort\\_col'\n",
       "\\item 'cycle\\_col'\n",
       "\\item 'datapath'\n",
       "\\item 'delta\\_basespiderplot.fx'\n",
       "\\item 'gitpath'\n",
       "\\item 'group\\_col'\n",
       "\\item 'h4hpath'\n",
       "\\item 'histdenp'\n",
       "\\item 'histp'\n",
       "\\item 'lsmeans\\_df.fx'\n",
       "\\item 'manifestpath'\n",
       "\\item 'message\\_parallel'\n",
       "\\item 'meta\\_div'\n",
       "\\item 'myaxis'\n",
       "\\item 'myplot'\n",
       "\\item 'plotpath'\n",
       "\\item 'round\\_and\\_format'\n",
       "\\item 'safe\\_mclapply'\n",
       "\\item 'sampletags\\_columns'\n",
       "\\item 'text\\_matrix'\n",
       "\\item 'toString\\_onefle.fx'\n",
       "\\item 'type\\_col'\n",
       "\\end{enumerate*}\n"
      ],
      "text/markdown": [
       "1. 'addjurkat.fx'\n",
       "2. 'age_pal'\n",
       "3. 'align_plots1'\n",
       "4. 'calculate_delta.fx'\n",
       "5. 'cohort_col'\n",
       "6. 'cycle_col'\n",
       "7. 'datapath'\n",
       "8. 'delta_basespiderplot.fx'\n",
       "9. 'gitpath'\n",
       "10. 'group_col'\n",
       "11. 'h4hpath'\n",
       "12. 'histdenp'\n",
       "13. 'histp'\n",
       "14. 'lsmeans_df.fx'\n",
       "15. 'manifestpath'\n",
       "16. 'message_parallel'\n",
       "17. 'meta_div'\n",
       "18. 'myaxis'\n",
       "19. 'myplot'\n",
       "20. 'plotpath'\n",
       "21. 'round_and_format'\n",
       "22. 'safe_mclapply'\n",
       "23. 'sampletags_columns'\n",
       "24. 'text_matrix'\n",
       "25. 'toString_onefle.fx'\n",
       "26. 'type_col'\n",
       "\n",
       "\n"
      ],
      "text/plain": [
       " [1] \"addjurkat.fx\"            \"age_pal\"                \n",
       " [3] \"align_plots1\"            \"calculate_delta.fx\"     \n",
       " [5] \"cohort_col\"              \"cycle_col\"              \n",
       " [7] \"datapath\"                \"delta_basespiderplot.fx\"\n",
       " [9] \"gitpath\"                 \"group_col\"              \n",
       "[11] \"h4hpath\"                 \"histdenp\"               \n",
       "[13] \"histp\"                   \"lsmeans_df.fx\"          \n",
       "[15] \"manifestpath\"            \"message_parallel\"       \n",
       "[17] \"meta_div\"                \"myaxis\"                 \n",
       "[19] \"myplot\"                  \"plotpath\"               \n",
       "[21] \"round_and_format\"        \"safe_mclapply\"          \n",
       "[23] \"sampletags_columns\"      \"text_matrix\"            \n",
       "[25] \"toString_onefle.fx\"      \"type_col\"               "
      ]
     },
     "metadata": {},
     "output_type": "display_data"
    }
   ],
   "source": [
    "ls()"
   ]
  },
  {
   "cell_type": "code",
   "execution_count": 7,
   "metadata": {
    "vscode": {
     "languageId": "r"
    }
   },
   "outputs": [],
   "source": [
    "tmp <- readr::read_rds(file = paste0(datapath, \"GLIPH/int_gliph_v5_cleaned.rds\"))"
   ]
  },
  {
   "cell_type": "code",
   "execution_count": 8,
   "metadata": {
    "vscode": {
     "languageId": "r"
    }
   },
   "outputs": [],
   "source": [
    "tmp$cdr3_sample <- paste(tmp$TcRb, tmp$Sample, sep = \"_\")"
   ]
  },
  {
   "cell_type": "code",
   "execution_count": 9,
   "metadata": {
    "vscode": {
     "languageId": "r"
    }
   },
   "outputs": [],
   "source": [
    "components <- read.table(paste0(datapath, \"GLIPH/component_stats_intercept_cdr3_gliph2.csv\"), sep = \",\", header = T)"
   ]
  },
  {
   "cell_type": "code",
   "execution_count": 10,
   "metadata": {
    "vscode": {
     "languageId": "r"
    }
   },
   "outputs": [],
   "source": [
    "int_all <- readr::read_rds(file = paste0(datapath, \"capTCRseq/INT_all_gliph_input_v2.rds\"))"
   ]
  },
  {
   "cell_type": "code",
   "execution_count": 11,
   "metadata": {
    "vscode": {
     "languageId": "r"
    }
   },
   "outputs": [],
   "source": [
    "# remove space\n",
    "int_all$`subject:condition` <- gsub(\" \", \"\", int_all$`subject:condition`)"
   ]
  },
  {
   "cell_type": "code",
   "execution_count": 12,
   "metadata": {
    "vscode": {
     "languageId": "r"
    }
   },
   "outputs": [],
   "source": [
    "int_all$basename <- gsub(\".*:\", \"\", int_all$`subject:condition`)"
   ]
  },
  {
   "cell_type": "code",
   "execution_count": 13,
   "metadata": {
    "vscode": {
     "languageId": "r"
    }
   },
   "outputs": [],
   "source": [
    "int_all$cdr3_cancer_basename <- paste0(int_all$CDR3b, \"_\", int_all$`subject:condition`)"
   ]
  },
  {
   "cell_type": "code",
   "execution_count": 14,
   "metadata": {
    "vscode": {
     "languageId": "r"
    }
   },
   "outputs": [
    {
     "data": {
      "text/html": [
       "<style>\n",
       ".list-inline {list-style: none; margin:0; padding: 0}\n",
       ".list-inline>li {display: inline-block}\n",
       ".list-inline>li:not(:last-child)::after {content: \"\\00b7\"; padding: 0 .5ex}\n",
       "</style>\n",
       "<ol class=list-inline><li>'CASSHPDAVNTEAFF_Solidtumors:CHP_350_X01-PBMC'</li><li>'CASSFSLAAYGEQYF_Solidtumors:CHP_350_X01-PBMC'</li><li>'CASTRLLGNTEAFF_Solidtumors:CHP_350_X01-PBMC'</li><li>'CASSSFGQGINTIYF_Solidtumors:CHP_350_X01-PBMC'</li><li>'CASSPRIGQGAPLHF_Solidtumors:CHP_350_X01-PBMC'</li><li>'CATSRTGGGNTEAFF_Solidtumors:CHP_350_X01-PBMC'</li></ol>\n"
      ],
      "text/latex": [
       "\\begin{enumerate*}\n",
       "\\item 'CASSHPDAVNTEAFF\\_Solidtumors:CHP\\_350\\_X01-PBMC'\n",
       "\\item 'CASSFSLAAYGEQYF\\_Solidtumors:CHP\\_350\\_X01-PBMC'\n",
       "\\item 'CASTRLLGNTEAFF\\_Solidtumors:CHP\\_350\\_X01-PBMC'\n",
       "\\item 'CASSSFGQGINTIYF\\_Solidtumors:CHP\\_350\\_X01-PBMC'\n",
       "\\item 'CASSPRIGQGAPLHF\\_Solidtumors:CHP\\_350\\_X01-PBMC'\n",
       "\\item 'CATSRTGGGNTEAFF\\_Solidtumors:CHP\\_350\\_X01-PBMC'\n",
       "\\end{enumerate*}\n"
      ],
      "text/markdown": [
       "1. 'CASSHPDAVNTEAFF_Solidtumors:CHP_350_X01-PBMC'\n",
       "2. 'CASSFSLAAYGEQYF_Solidtumors:CHP_350_X01-PBMC'\n",
       "3. 'CASTRLLGNTEAFF_Solidtumors:CHP_350_X01-PBMC'\n",
       "4. 'CASSSFGQGINTIYF_Solidtumors:CHP_350_X01-PBMC'\n",
       "5. 'CASSPRIGQGAPLHF_Solidtumors:CHP_350_X01-PBMC'\n",
       "6. 'CATSRTGGGNTEAFF_Solidtumors:CHP_350_X01-PBMC'\n",
       "\n",
       "\n"
      ],
      "text/plain": [
       "[1] \"CASSHPDAVNTEAFF_Solidtumors:CHP_350_X01-PBMC\"\n",
       "[2] \"CASSFSLAAYGEQYF_Solidtumors:CHP_350_X01-PBMC\"\n",
       "[3] \"CASTRLLGNTEAFF_Solidtumors:CHP_350_X01-PBMC\" \n",
       "[4] \"CASSSFGQGINTIYF_Solidtumors:CHP_350_X01-PBMC\"\n",
       "[5] \"CASSPRIGQGAPLHF_Solidtumors:CHP_350_X01-PBMC\"\n",
       "[6] \"CATSRTGGGNTEAFF_Solidtumors:CHP_350_X01-PBMC\""
      ]
     },
     "metadata": {},
     "output_type": "display_data"
    }
   ],
   "source": [
    "head(int_all$cdr3_cancer_basename)"
   ]
  },
  {
   "cell_type": "code",
   "execution_count": 15,
   "metadata": {
    "vscode": {
     "languageId": "r"
    }
   },
   "outputs": [
    {
     "data": {
      "text/html": [
       "<style>\n",
       ".list-inline {list-style: none; margin:0; padding: 0}\n",
       ".list-inline>li {display: inline-block}\n",
       ".list-inline>li:not(:last-child)::after {content: \"\\00b7\"; padding: 0 .5ex}\n",
       "</style>\n",
       "<ol class=list-inline><li>'Component_id'</li><li>'Component_size'</li><li>'PatientDerived_Nodes'</li><li>'NumberOf_PatientDerived_Nodes'</li><li>'Number_of_Patients'</li><li>'Sample_Type_Range'</li><li>'Timepoint_Range'</li><li>'Number_of_Timepoints'</li><li>'Component_specificity'</li><li>'KnownExternalTCRs'</li></ol>\n"
      ],
      "text/latex": [
       "\\begin{enumerate*}\n",
       "\\item 'Component\\_id'\n",
       "\\item 'Component\\_size'\n",
       "\\item 'PatientDerived\\_Nodes'\n",
       "\\item 'NumberOf\\_PatientDerived\\_Nodes'\n",
       "\\item 'Number\\_of\\_Patients'\n",
       "\\item 'Sample\\_Type\\_Range'\n",
       "\\item 'Timepoint\\_Range'\n",
       "\\item 'Number\\_of\\_Timepoints'\n",
       "\\item 'Component\\_specificity'\n",
       "\\item 'KnownExternalTCRs'\n",
       "\\end{enumerate*}\n"
      ],
      "text/markdown": [
       "1. 'Component_id'\n",
       "2. 'Component_size'\n",
       "3. 'PatientDerived_Nodes'\n",
       "4. 'NumberOf_PatientDerived_Nodes'\n",
       "5. 'Number_of_Patients'\n",
       "6. 'Sample_Type_Range'\n",
       "7. 'Timepoint_Range'\n",
       "8. 'Number_of_Timepoints'\n",
       "9. 'Component_specificity'\n",
       "10. 'KnownExternalTCRs'\n",
       "\n",
       "\n"
      ],
      "text/plain": [
       " [1] \"Component_id\"                  \"Component_size\"               \n",
       " [3] \"PatientDerived_Nodes\"          \"NumberOf_PatientDerived_Nodes\"\n",
       " [5] \"Number_of_Patients\"            \"Sample_Type_Range\"            \n",
       " [7] \"Timepoint_Range\"               \"Number_of_Timepoints\"         \n",
       " [9] \"Component_specificity\"         \"KnownExternalTCRs\"            "
      ]
     },
     "metadata": {},
     "output_type": "display_data"
    }
   ],
   "source": [
    "colnames(components)"
   ]
  },
  {
   "cell_type": "code",
   "execution_count": 16,
   "metadata": {
    "vscode": {
     "languageId": "r"
    }
   },
   "outputs": [],
   "source": [
    "# separate rows\n",
    "components_sep <- tidyr::separate_rows(components, PatientDerived_Nodes, sep = \",\")"
   ]
  },
  {
   "cell_type": "code",
   "execution_count": 17,
   "metadata": {
    "vscode": {
     "languageId": "r"
    }
   },
   "outputs": [
    {
     "data": {
      "text/html": [
       "'CAAAGGGEAFF_Leukemia:CHP_396_X04-PBMC'"
      ],
      "text/latex": [
       "'CAAAGGGEAFF\\_Leukemia:CHP\\_396\\_X04-PBMC'"
      ],
      "text/markdown": [
       "'CAAAGGGEAFF_Leukemia:CHP_396_X04-PBMC'"
      ],
      "text/plain": [
       "[1] \"CAAAGGGEAFF_Leukemia:CHP_396_X04-PBMC\""
      ]
     },
     "metadata": {},
     "output_type": "display_data"
    }
   ],
   "source": [
    "components_sep$PatientDerived_Nodes[1]"
   ]
  },
  {
   "cell_type": "code",
   "execution_count": 18,
   "metadata": {
    "vscode": {
     "languageId": "r"
    }
   },
   "outputs": [],
   "source": [
    "sampletype <- \"PBMC\""
   ]
  },
  {
   "cell_type": "code",
   "execution_count": 19,
   "metadata": {
    "vscode": {
     "languageId": "r"
    }
   },
   "outputs": [],
   "source": [
    "components_sep_sampletype <- components_sep[grepl(sampletype, components_sep$PatientDerived_Nodes),]"
   ]
  },
  {
   "cell_type": "code",
   "execution_count": 20,
   "metadata": {
    "vscode": {
     "languageId": "r"
    }
   },
   "outputs": [],
   "source": [
    "# generate new columns TCR, cancergroup, sample, patient, cycle\n",
    "components_sep_sampletype$basename <- gsub(\".*:\", \"\", components_sep_sampletype$PatientDerived_Nodes)\n",
    "components_sep_sampletype$Patient <- gsub(\"_X.*\", \"\", components_sep_sampletype$basename)\n",
    "components_sep_sampletype$cycle <- gsub(\".*X\", \"X\", components_sep_sampletype$basename)\n",
    "components_sep_sampletype$cycle <- substring(components_sep_sampletype$cycle, 1, 3)\n",
    "\n",
    "components_sep_sampletype$cancergroup_cdr3 <- gsub(\":.*\", \"\", components_sep_sampletype$PatientDerived_Nodes)\n",
    "components_sep_sampletype$cdr3 <- gsub(\"_.*\", \"\", components_sep_sampletype$cancergroup_cdr3)\n",
    "components_sep_sampletype$cancergroup <- gsub(\".*_\", \"\", components_sep_sampletype$cancergroup_cdr3)"
   ]
  },
  {
   "cell_type": "code",
   "execution_count": 21,
   "metadata": {
    "vscode": {
     "languageId": "r"
    }
   },
   "outputs": [],
   "source": [
    "# add cloneCount\n",
    "rowmatch <- match(components_sep_sampletype$PatientDerived_Nodes, int_all$cdr3_cancer_basename)\n",
    "components_sep_sampletype$cloneCount <- int_all$count[rowmatch]"
   ]
  },
  {
   "cell_type": "code",
   "execution_count": 23,
   "metadata": {
    "vscode": {
     "languageId": "r"
    }
   },
   "outputs": [
    {
     "data": {
      "text/html": [
       "<style>\n",
       ".list-inline {list-style: none; margin:0; padding: 0}\n",
       ".list-inline>li {display: inline-block}\n",
       ".list-inline>li:not(:last-child)::after {content: \"\\00b7\"; padding: 0 .5ex}\n",
       "</style>\n",
       "<ol class=list-inline><li>324</li><li>4</li><li>17</li><li>2</li><li>200</li><li>109</li></ol>\n"
      ],
      "text/latex": [
       "\\begin{enumerate*}\n",
       "\\item 324\n",
       "\\item 4\n",
       "\\item 17\n",
       "\\item 2\n",
       "\\item 200\n",
       "\\item 109\n",
       "\\end{enumerate*}\n"
      ],
      "text/markdown": [
       "1. 324\n",
       "2. 4\n",
       "3. 17\n",
       "4. 2\n",
       "5. 200\n",
       "6. 109\n",
       "\n",
       "\n"
      ],
      "text/plain": [
       "[1] 324   4  17   2 200 109"
      ]
     },
     "metadata": {},
     "output_type": "display_data"
    }
   ],
   "source": [
    "head(components_sep_sampletype$cloneCount)"
   ]
  },
  {
   "cell_type": "code",
   "execution_count": 24,
   "metadata": {
    "vscode": {
     "languageId": "r"
    }
   },
   "outputs": [],
   "source": [
    "# add Fisher score\n",
    "rowmatch <- match(components_sep_sampletype$PatientDerived_Nodes, tmp$cdr3_sample)\n",
    "components_sep_sampletype$Fisher_score <- tmp$Fisher_score[rowmatch]"
   ]
  },
  {
   "cell_type": "code",
   "execution_count": 25,
   "metadata": {
    "vscode": {
     "languageId": "r"
    }
   },
   "outputs": [
    {
     "data": {
      "text/plain": [
       "\n",
       "               LFS           Leukemia           Lymphoma             Normal \n",
       "               319               5546                710                 31 \n",
       "       Solidtumors T-cellmalignancies \n",
       "              2470                474 "
      ]
     },
     "metadata": {},
     "output_type": "display_data"
    }
   ],
   "source": [
    "table(components_sep_sampletype$cancergroup)"
   ]
  },
  {
   "cell_type": "code",
   "execution_count": 26,
   "metadata": {
    "vscode": {
     "languageId": "r"
    }
   },
   "outputs": [],
   "source": [
    "# remove X00\n",
    "components_sep_sampletype <- components_sep_sampletype[!grepl(\"X00\", components_sep_sampletype$cycle),]"
   ]
  },
  {
   "cell_type": "code",
   "execution_count": 27,
   "metadata": {
    "vscode": {
     "languageId": "r"
    }
   },
   "outputs": [
    {
     "data": {
      "text/html": [
       "240"
      ],
      "text/latex": [
       "240"
      ],
      "text/markdown": [
       "240"
      ],
      "text/plain": [
       "[1] 240"
      ]
     },
     "metadata": {},
     "output_type": "display_data"
    }
   ],
   "source": [
    "length(unique(as.character(components_sep_sampletype$Component_id) ) )"
   ]
  },
  {
   "cell_type": "code",
   "execution_count": 28,
   "metadata": {
    "vscode": {
     "languageId": "r"
    }
   },
   "outputs": [],
   "source": [
    "# readr::write_rds(components_sep_sampletype, file = paste0(datapath, \"GLIPH/components_sep_cfDNA.rds\"))"
   ]
  },
  {
   "cell_type": "code",
   "execution_count": 29,
   "metadata": {
    "vscode": {
     "languageId": "r"
    }
   },
   "outputs": [],
   "source": [
    "# get patients with more than one timepoiint and baseline\n",
    "mytab <- table(components_sep_sampletype$Patient, components_sep_sampletype$cycle)\n",
    "mytab <- mytab[rowSums(mytab != 0) > 1, ] # patients with more than one timepoint\n",
    "baseline_patients <- rownames(mytab)[mytab[, 1] > 0] # patients with baseline"
   ]
  },
  {
   "cell_type": "code",
   "execution_count": 30,
   "metadata": {
    "vscode": {
     "languageId": "r"
    }
   },
   "outputs": [
    {
     "data": {
      "text/plain": [
       "         \n",
       "          X01 X02 X03 X04 X05\n",
       "  CHP_323   0   0   9   0  29\n",
       "  CHP_328   0   0   0 101  22\n",
       "  CHP_331   0   0   0   6  30\n",
       "  CHP_338   0   0  82  27  67\n",
       "  CHP_339   0   0   5   0  35\n",
       "  CHP_340   0   0  25  27  97"
      ]
     },
     "metadata": {},
     "output_type": "display_data"
    }
   ],
   "source": [
    "head(mytab)"
   ]
  },
  {
   "cell_type": "code",
   "execution_count": 31,
   "metadata": {
    "vscode": {
     "languageId": "r"
    }
   },
   "outputs": [],
   "source": [
    "df1 <- components_sep_sampletype[components_sep_sampletype$Patient %in% baseline_patients, ]"
   ]
  },
  {
   "cell_type": "code",
   "execution_count": 32,
   "metadata": {
    "vscode": {
     "languageId": "r"
    }
   },
   "outputs": [
    {
     "data": {
      "text/html": [
       "171"
      ],
      "text/latex": [
       "171"
      ],
      "text/markdown": [
       "171"
      ],
      "text/plain": [
       "[1] 171"
      ]
     },
     "metadata": {},
     "output_type": "display_data"
    }
   ],
   "source": [
    "length(unique(as.character(df1$Component_id) ) )"
   ]
  },
  {
   "cell_type": "code",
   "execution_count": 33,
   "metadata": {
    "vscode": {
     "languageId": "r"
    }
   },
   "outputs": [],
   "source": [
    "# separate pre and post\n",
    "df1_pre <- df1[ df1$cycle == \"X01\",]\n",
    "df1_post <- df1[ df1$cycle != \"X01\",]"
   ]
  },
  {
   "cell_type": "code",
   "execution_count": 34,
   "metadata": {
    "vscode": {
     "languageId": "r"
    }
   },
   "outputs": [],
   "source": [
    "# group by patient and pattern, sum frequencyes across samples postchemo\n",
    "df1_post_sum <- df1_post %>%\n",
    "  group_by(Patient, Component_id) %>%\n",
    "  summarise(SumCount = sum(cloneCount), .groups = 'drop') %>%\n",
    "  ungroup()"
   ]
  },
  {
   "cell_type": "code",
   "execution_count": 35,
   "metadata": {
    "vscode": {
     "languageId": "r"
    }
   },
   "outputs": [],
   "source": [
    "# group by samples and patterns, sum the frequencies, if there is > 1 CDR3s in a pattern\n",
    "df1_pre_sum <- df1_pre %>%\n",
    "  group_by(basename, Component_id) %>%\n",
    "  summarise(SumCount = sum(cloneCount), .groups = 'drop') %>%\n",
    "  ungroup()"
   ]
  },
  {
   "cell_type": "code",
   "execution_count": 36,
   "metadata": {
    "vscode": {
     "languageId": "r"
    }
   },
   "outputs": [
    {
     "data": {
      "text/html": [
       "<table class=\"dataframe\">\n",
       "<caption>A tibble: 6 x 18</caption>\n",
       "<thead>\n",
       "\t<tr><th scope=col>Component_id</th><th scope=col>Component_size</th><th scope=col>PatientDerived_Nodes</th><th scope=col>NumberOf_PatientDerived_Nodes</th><th scope=col>Number_of_Patients</th><th scope=col>Sample_Type_Range</th><th scope=col>Timepoint_Range</th><th scope=col>Number_of_Timepoints</th><th scope=col>Component_specificity</th><th scope=col>KnownExternalTCRs</th><th scope=col>basename</th><th scope=col>Patient</th><th scope=col>cycle</th><th scope=col>cancergroup_cdr3</th><th scope=col>cdr3</th><th scope=col>cancergroup</th><th scope=col>cloneCount</th><th scope=col>Fisher_score</th></tr>\n",
       "\t<tr><th scope=col>&lt;int&gt;</th><th scope=col>&lt;int&gt;</th><th scope=col>&lt;chr&gt;</th><th scope=col>&lt;int&gt;</th><th scope=col>&lt;int&gt;</th><th scope=col>&lt;chr&gt;</th><th scope=col>&lt;chr&gt;</th><th scope=col>&lt;int&gt;</th><th scope=col>&lt;chr&gt;</th><th scope=col>&lt;chr&gt;</th><th scope=col>&lt;chr&gt;</th><th scope=col>&lt;chr&gt;</th><th scope=col>&lt;chr&gt;</th><th scope=col>&lt;chr&gt;</th><th scope=col>&lt;chr&gt;</th><th scope=col>&lt;chr&gt;</th><th scope=col>&lt;int&gt;</th><th scope=col>&lt;dbl&gt;</th></tr>\n",
       "</thead>\n",
       "<tbody>\n",
       "\t<tr><td>1</td><td>17492</td><td>CAASSGANEQFF_Solidtumors:CHP_404_X01-PBMC</td><td>8263</td><td>115</td><td>cfDNA,PBMC,Tumor</td><td>X00,X01,X02,X03,X04,X05</td><td>6</td><td>CEF,CMV,EBV,HCV,HomoSapiens,HPV,Influenza,Leukemia,LFS,Lymphoma,M.tuberculosis,MCPyV,MDavis,Normal,S-pneumoniae,Solidtumors,T-cellmalignancies</td><td>CACSVLNTGELFF_MCPyV:T-Ag_KLLEIAPNC,CAGSQDGMNTEAFF_HomoSapiens:TMEM161A_TMEM161A,CAIRDSNTGELFF_MCPyV:T-Ag_KLLEIAPNC,CAIRGQNTGELFF_MCPyV:T-Ag_KLLEIAPNC,CAISEDGMNTEAFF_HomoSapiens:TMEM161A_TMEM161A,CAISGEGNTEAFF_CMV:NA_NA,CAISSGGADTQYF_S-pneumoniae:NA_ECTGLAWEWWRTV,CAISTGDSNQPQHF_EBV:BZLF1_EPLPQGQLTAY,CANSQPGGIEQFF_EBV:BZLF1_EPLPQGQLTAY,CARSVLNTGELFF_MCPyV:T-Ag_KLLEIAPNC,CASDSNTEAFF_HCV:NS3_KLVALGINAV,CASGQGQETQYF_HCV:NS3_KLVALGINAV,CASGTGDSNQPQHF_EBV:BZLF1_EPLPQGQLTAY,CASIRGYEQYF_HomoSapiens:MAA_NA,CASQGGTEAFF_HomoSapiens:MAA_NA,CASRDGDEQYF_S-pneumoniae:NA_ECTGLAWEWWRTV,CASRDQNTGELFF_MCPyV:T-Ag_KLLEIAPNC,CASRDSSSYEQYF_HomoSapiens:PLECp.P3283S_NeoAg-GGIVDSSKSHRVPLD,CASRGGFNEKLFF_CMV:NA_NA,CASRGGSSYNEQFF_MCPyV:T-Ag_KLLEIAPNC,CASRGQNTGELFF_MCPyV:T-Ag_KLLEIAPNC,CASRIGNTGELFF_HomoSapiens:KRAS_p-G13D,CASRQGGQPQHF_HomoSapiens:MAA_NA,CASRQGNTGELFF_HomoSapiens:KRAS_p-G13D,CASRRGPYEQYF_HCV:NS3_KLVALGINAV-orKLVALVINAV,CASRRSNQPQHF_HomoSapiens:CMKLR1_FLEDLSPL,CASSAGAEQYF_HomoSapiens:PIK3CA_p-P449T,CASSASNYGYTF_HomoSapiens:DDX18_VKYHYELLNYIDMPVLAIHGKQKQN,CASSDALQETQYF_CMV:pp65_NLVPMVATV,CASSDDRGPYEQYF_HCV:NS3_KLVALGINAV,CASSDGGEQYF_S-pneumoniae:NA_GLAWEWWRTV,CASSDGGVKYF_S-pneumoniae:NA_ECTGLAWEWWRTV,CASSDGVGTEAFF_HomoSapiens:RPS9p.P68S_NeoAg-AARELLTLDEKDSRRLFE,CASSDPGTEAFF_HomoSapiens:KRAS_GADGVGKSAL,CASSDSYGYTF_HCV:NS3_KLVALGINAV,CASSDYYEQYF_S-pneumoniae:NA_ECTGLAWEWWRTV,CASSEDGMNTEAFF_HomoSapiens:TMEM161A_TMEM161A,CASSEGDTEAFF_HCV:NS3_KLVALGINAV,CASSEGQGNSPLHF_MCPyV:T-Ag_KLLEIAPNC,CASSEGQSYEQYF_MCPyV:T-Ag_KLLEIAPNC,CASSESGRNTEAFX_S-pneumoniae:NA_ECTGLAWEWWRTV,CASSFDRGYGYTF_HomoSapiens:MAGE-A6_NA,CASSFGADTQYF_HCV:NS3_KLVALGINAV,CASSFGGAYEQYF_HomoSapiens:MED13_VQIISCQY,CASSFGGEQFF_HomoSapiens:DOPEY2_FRFSMIWHL,CASSFGSEQYF_MCPyV:T-Ag_KLLEIAPNC,CASSFGSYEQYF_HomoSapiens:NUP214_SVYWSPKGK,CASSFIGGTDTQYF_HomoSapiens:gp100_YLEPGPVTA,CASSFLGTGELFF_HomoSapiens:TARS_p-E331K,CASSFQGFTEAFF_CMV:pp65_NLVPMVATV,CASSFQGYTEAFF_CMV:pp65_NLVPMVATV,CASSFTLNTEAFF_CMV:NA_NA,CASSFWGNTEAFF_HomoSapiens:FAM135A_AGASSIWYR,CASSGDGMNTEAFF_HomoSapiens:TMEM161A_TMEM161A,CASSGENTEAFF_CMV:NA_NA,CASSGQNTGELFF_MCPyV:T-Ag_KLLEIAPNC,CASSGTHNEQFF_EBV:EBNA3A_RPPIFIRRL,CASSGYTGELFF_HCV:NS3_KLVALGINAV,CASSHAGRNTEAFF_HomoSapiens:MAA_NA,CASSHQTGELFF_CMV:pp65_NLVPMVATV,CASSHREGETQYF_S-pneumoniae:NA_ECTGLAWEWWRTV,CASSIGGDYGYTF_HomoSapiens:MLANA27-35_TAA-AAGIGILTV,CASSIGQYEQYF_HCV:NS3_KLVALGINAV,CASSIGVGTEQYF_HomoSapiens:MAA_NA,CASSIGVYGYTF_Influenza:M_GILGFVFTL,CASSIRASYEQYF_Influenza:M_GILGFVFTL,CASSIRSAHEQFF_Influenza:M_GILGFVFTL,CASSIRSSYEQYF_Influenza:M_GILGFVFTL,CASSIRSTDTQYF_Influenza:M_GILGFVFTL,CASSIRSTGELFF_Influenza:M_GILGFVFTL,CASSITLNTEAFF_CMV:NA_NA,CASSLAADTQYF_EBV:NA_NA,CASSLAGDRYF_MCPyV:T-Ag_KLLEIAPNC,CASSLAGDYEQYF_CMV:pp65_NLVPMVATV,CASSLAGFRFF_MCPyV:T-Ag_KLLEIAPNC,CASSLAGFTGELFF_CMV:pp65_NLVPMVATV,CASSLAGPETQYF_HomoSapiens:TP53_p-T172I,CASSLAQGTDTQYF_HomoSapiens:LAMC1p.S1509F_NeoAg-KAKNFVTSLLSIIND,CASSLATGGEQFF_EBV:NA_NA,CASSLDENTEAFF_CMV:NA_NA,CASSLDGMNTEAFF_HomoSapiens:TMEM161A_TMEM161A,CASSLDLYGYTF_CMV:pp65_NLVPMVATV,CASSLDNEKLFF_S-pneumoniae:NA_ECTGLAWEWWRTV,CASSLDPYEQYF_HomoSapiens:CARM1_FAAQAGAWKIY,CASSLDSSNQPQHF_CMV:NA_NA,CASSLEGANYGYTF_HPV:E2-orE5-orE6-orE7_NA,CASSLEGDTEAFF_MCPyV:T-Ag_KLLEIAPNC,CASSLEGSYEQYF_EBV:BZLF1_KLVALGINAV,CASSLEGSYEQYF_HCV:NS3_KLVALGINAV,CASSLETVNTEAFF_CMV:pp65_NLVPMVATV,CASSLETVYGYTF_S-pneumoniae:NA_ECTGLAWEWWRTV,CASSLFGGTEAFF_HomoSapiens:MAA_NA,CASSLGANTGELFF_HomoSapiens:SCML2_LPDHFGLGPV,CASSLGDGNYGYTF_HPV:E2-orE5-orE6-orE7_NA,CASSLGEKLFF_HCV:NS3_KLVALGINAV,CASSLGGAEQFF_HomoSapiens:MAA_NA,CASSLGGDIQYF_HCV:NS3_KLVALGINAV,CASSLGGGPDTQYF_HomoSapiens:PMEL154-162_TAA-KTWGQYWQV,CASSLGGGTDTQYF_HomoSapiens:PMEL154-162_TAA-KTWGQYWQV,CASSLGGNTGELFF_MCPyV:T-Ag_KLLEIAPNC,CASSLGGQPQHF_HomoSapiens:MAA_NA,CASSLGGRTEAFF_HomoSapiens:BPNT1_EAGPDAVLRR,CASSLGGSSYEQYF_HomoSapiens:MLANA27-35_TAA-AAGIGILTV,CASSLGLENEQFF_EBV:BMLF1_GLCTLVAML,CASSLGLLNTEAFF_HomoSapiens:MLANA27-35_TAA-AAGIGILTV,CASSLGLSTDTQYF_HomoSapiens:NCEH1111-119p.G115R_NeoAg-YIHGRGWAL,CASSLGNTEAFF_MCPyV:T-Ag_KLLEIAPNC,CASSLGQAYEQYF_EBV:EBNA3A_FLRGRAYGL,CASSLGQAYEQYF_HomoSapiens:MLANA_EEYLKAWTF,CASSLGQGNSPLHF_CMV:pp65_NLVPMVATV,CASSLGQGNYGYTF_HomoSapiens:MLANA27-35_TAA-AAGIGILTV,CASSLGQLNTEAFF_HomoSapiens:MAA_NA,CASSLGQTNYGYTF_HomoSapiens:KRAS_GADGVGKSAL,CASSLGRGQFF_HCV:NS3_KLVALGINAV,CASSLGTGELFF_CMV:pp65_NLVPMVATV,CASSLIGRDEQFF_EBV:BZLF1_EPLPQGQLTAY,CASSLLDGNTEAFF_HPV:E2-orE5-orE6-orE7_NA,CASSLLGETQYF_EBV:NA_NA,CASSLLLDTQYF_EBV:NA_NA,CASSLLQETQYF_EBV:NA_NA,CASSLLSSNQPQHF_EBV:NA_NA,CASSLMQETQYF_EBV:NA_NA,CASSLQGYEQYF_HPV:E2-orE5-orE6-orE7_NA,CASSLREGETQYF_S-pneumoniae:NA_ECTGLAWEWWRTV,CASSLRGSYEQYV_HomoSapiens:DNMT3A_p-P282S,CASSLRNTGELFF_S-pneumoniae:NA_ECTGLAWEWWRTV,CASSLRRGEQYF_HomoSapiens:MYH6191-198_VIQYFASI,CASSLSDGNYGYTF_HPV:E2-orE5-orE6-orE7_NA,CASSLSFGTEAFF_HomoSapiens:MLANA_ELAGIGILTV_AAGIGILTV,CASSLSGQPQHF_MCPyV:T-Ag_KLLEIAPNC,CASSLSQGTEAFF_HomoSapiens:MAA_NA,CASSLTGGSEAFF_HomoSapiens:LMBRD1_FIFTSIAGIR,CASSLVDGNYGYTF_HPV:E2-orE5-orE6-orE7_NA,CASSLVGTGELFF_CMV:pp65_NLVPMVATV,CASSLWLNEQFF_CMV:pp65_NLVPMVATV,CASSLYQETQYF_EBV:NA_NA,CASSLYTGELFF_HomoSapiens:ZHX2_HPNVILNSLY,CASSMGANEQFF_HCV:NS3_KLVALGINAV,CASSMGGEQYF_HCV:NS3_KLVALGINAV,CASSMGGTYEQYF_HomoSapiens:PMEL_ITDQVPFSV_ILDQVPFSV,CASSMLFQETQYF_HPV:E2-orE5-orE6-orE7_NA,CASSMRSTGELFF_Influenza:M_GILGFVFTL,CASSNGRGTEQFF_S-pneumoniae:NA_ECTGLAWEWWRTV,CASSPARNTEAFF_CMV:pp65_RPHERNGFTV,CASSPDGMNTEAFF_HomoSapiens:TMEM161A_TMEM161A,CASSPEETQYF_M.tuberculosis:CFP10_TAAQAAVVRFQEAAN,CASSPGGATEAFF_HomoSapiens:MAA_NA,CASSPGGELFF_HCV:NS3_KLVALGINAV,CASSPGGETQYF_HomoSapiens:PMEL154-162_TAA-KTWGQYWQV,CASSPGGFEAFF_HomoSapiens:PIK3CA_p-P449T,CASSPGGGNTEAFF_S-pneumoniae:NA_ECTGLAWEWWRTV,CASSPGGNEQFF_HomoSapiens:MAA_NA,CASSPGLAGNEQFF_HomoSapiens:MAA_NA,CASSPGLLTDTQYF_HomoSapiens:MAA_NA,CASSPGLLTDTQYF_HomoSapiens:MLANA27-35_TAA-AAGIGILTV,CASSPGQLNTEAFF_HomoSapiens:MAA_NA,CASSPGQPQHF_HomoSapiens:DCAKD198-207p.S199F_NeoAg-RFLEYLPLRF,CASSPGQRNTEAFF_HomoSapiens:MAA_NA,CASSPGSETQYF_S-pneumoniae:NA_ECTGLAWEWWRTV,CASSPGTENSPLHF_HomoSapiens:KRAS_p-G13D,CASSPGTLTDTQYF_HomoSapiens:MLANA27-35_TAA-AAGIGILTV,CASSPHRNTEAFF_CMV:pp65_RPHERNGFTV,CASSPILQETQYF_HPV:E2-orE5-orE6-orE7_NA,CASSPLQGYEQYF_HPV:E2-orE5-orE6-orE7_NA,CASSPPSSGNTIYF_MCPyV:T-Ag_KLLEIAPNC,CASSPQGLGTEAFF_HomoSapiens:MAA_NA,CASSPQGVNYGYTF_S-pneumoniae:NA_ECTGLAWEWWRTV,CASSPRGDTEAFF_MCPyV:T-Ag_KLLEIAPNC,CASSPRTGNTEAFF_CMV:NA_NA,CASSPRVPNTEAFF_HomoSapiens:HIATL1_p-G380V,CASSPSGGTDTQYF_HomoSapiens:CNOT2_FNGTDGSENVTGFDLSDFPALADRN,CASSPSGLSYEQYF_HomoSapiens:MAA_NA,CASSPSRNTEAFF_CMV:pp65_RPHERNGFTV,CASSPTGVGEQFF_Influenza:M_GILGFVFTL,CASSPWDEQFF_MCPyV:T-Ag_KLLEIAPNC,CASSQDGMNTEAFF_HomoSapiens:TMEM161A_TMEM161A,CASSQDRDTQYF_CMV:UL40_VMAPRTLIL,CASSQETGSYEQFF_EBV:EBNA3A_RPPIFIRRL,CASSQETGSYEQYF_EBV:EBNA3A_RPPIFIRRL,CASSQGGGEQYF_S-pneumoniae:NA_WEWWR,CASSQGNTGELFF_HomoSapiens:KRAS_p-G13D,CASSQGQDTEAFF_HomoSapiens:GLIA-OMEGA1_QPFPQPEQPFP,CASSQGRPSTS_HomoSapiens:MAA_NA,CASSQGSYEQYF_HCV:NS3_KLVALGINAV,CASSQLGYEQYF_HPV:E2-orE5-orE6-orE7_NA,CASSQNTGELFF_HomoSapiens:TYR207-215_TAA-FLPWHRLFL,CASSQQETQYF_CEF:NA_NA,CASSQSSGANVLTF_EBV:EBV_NA,CASSQVGETQYF_MCPyV:T-Ag_KLLEIAPNC,CASSQVGGGEQFF_HomoSapiens:MAA_NA,CASSRADYGYTF_HomoSapiens:SDAD1_MAQMRKELDAAPWKSQKRKYIEIDS,CASSRDGMNTEAFF_HomoSapiens:TMEM161A_TMEM161A,CASSRGDTEAFF_HCV:NS3_KLVALGINAV,CASSRGLNNQPQHF_S-pneumoniae:NA_ECTGLAWEWWRTV,CASSRQGENQPQHF_HomoSapiens:MAGEC2254-262_TAA-NAVGVYAGR,CASSRQGLGTEAFF_HomoSapiens:MAA_NA,CASSRQTNTEAFF_CMV:NA_NA,CASSRTGSTYEQYF_EBV:BZLF1_LPEPLPQGQLTAY,CASSSADGNYGYTF_HPV:E2-orE5-orE6-orE7_NA,CASSSAFYGYTF_CMV:pp65_NLVPMVATV,CASSSANYGYTF_CMV:pp65_NLVPMVATV,CASSSAYYGYTF_CMV:pp65_NLVPMVATV,CASSSDGMNTEAFF_HomoSapiens:TMEM161A_TMEM161A,CASSSGATEAFF_HCV:NS3_KLVALGINAV,CASSSGDGNYGYTF_HPV:E2-orE5-orE6-orE7_NA,CASSSGETQYF_S-pneumoniae:NA_ECTGLAWEWWRTV,CASSSGIYGYTF_CMV:pp65_NLVPMVATV,CASSSGPSYEQYF_HomoSapiens:FLNA_RSSRTLSR,CASSSGQAYEQYF_EBV:EBNA3A_FLRGRAYGL,CASSSLNTEAFF_EBV:BZLF1_RAKFKQLL,CASSSQGGYGYTF_HomoSapiens:MAGE-A6_KVDPIGHVY,CASSSRAAYEQYF_Influenza:M_GILGFVFTL,CASSSRASYEQYF_Influenza:M_GILGFVFTL,CASSSRNSYEQYF_Influenza:NA_NA,CASSSRSSYEQYF_Influenza:M-HA_GILGFVFTL_PKYVKQNTLKLAT,CASSSVNEQFF_CMV:pp65_NLVPMVATV,CASSSVSEAFF_CMV:pp65_NLVPMVATV,CASSTDLNTEAFF_CMV:NA_NA,CASSTGDSNQPQHF_EBV:BZLF1_EPLPQGQLTAY,CASSTGFYGYTF_Influenza:M_GILGFVFTL,CASSTGNEKLFF_CMV:NA_NA,CASSTGNYGYTF_Influenza:M_GILGFVFTL,CASSTGSYGYTF_CMV:pp65_NLVPMVATV,CASSTLFQETQYF_HPV:E2-orE5-orE6-orE7_NA,CASSTRSTGELFF_CMV:pp65_NLVPMVATV,CASSTSTDTQYF_S-pneumoniae:NA_ECTGLAWEWWRTV,CASSVASGTDTQYF_EBV:EBNA3A_FLRGRAYGL,CASSVDGMNTEAFF_HomoSapiens:TMEM161A_TMEM161A,CASSVGQGKAFF_Influenza:HA_PKYVKQNTLKLAT,CASSVGWGGEQFF_EBV:NA_NA,CASSVLFQETQYF_HPV:E2-orE5-orE6-orE7_NA,CASSVLNTGELFF_MCPyV:T-Ag_KLLEIAPNC,CASSVNNEQFF_HPV:E2-orE5-orE6-orE7_NA,CASSVRSTGELFF_Influenza:M_GILGFVFTL,CASSWGGGEQYF_HCV:NS3_KLVALGINAV,CASSWGGNTEAFF_HomoSapiens:ZNF219_CLASLHPR,CASSWGSGANVLTF_HomoSapiens:KPNA2_YLRNLTWTL,CASSYGLAGGEQFF_HomoSapiens:MAA_NA,CASSYGSYEQYF_HCV:NS3_KLVALGINAV,CASSYNNEQFF_HomoSapiens:FLNA_RTWRRTRRGRR,CASSYPGTSQFF_HomoSapiens:MAA_NA,CASSYQGTEAFF_HomoSapiens:TERT_ILAKFLHWL,CASSYRGSGNTIYF_HCV:NS3_KLVALGINAV,CASSYSDGNTEAFF_HPV:E2-orE5-orE6-orE7_NA,CASSYSLNTEAFF_CMV:NA_NA,CASSYSVLNTEAFF_HomoSapiens:MAA_NA,CASSYTGELFF_HCV:NS3_KLVALGINAV,CASTDSNTGELFF_MCPyV:T-Ag_KLLEIAPNC,CASTEGNTEAFF_HomoSapiens:PMEL154-162_TAA-KTWGQYWQV,CASTLQETQYF_EBV:NA_NA,CASTNSGNTIYF_HCV:NS3_KLVALGINAV,CASTPTENTEAFF_CMV:NA_NA,CASTQGSTDTQYF_HCV:NS3_KLVALGINAV,CATGTGDSNQPQHF_EBV:BZLF1_EPLPQGQLTAY,CATRDINTGELFF_MCPyV:T-Ag_KLLEIAPNC,CATRRANEQFF_HomoSapiens:PMEL589-603_TAA-LIMPGQEAGLGQVPL,CATSAGRNEQFF_HomoSapiens:MAA_NA,CATSALGDTQYF_HomoSapiens:MBP_NPVVHFFKNIVTPR,CATSEGNEQFF_CMV:pp65_NLVPMVATV,CATSGTGHSYEQYF_HomoSapiens:PPP2R1A_p-L432S,CATTGGQNTEAFF_HomoSapiens:TP53_NSSCMGGMNLR,CAWAESSYNEQFF_HomoSapiens:TARS_p-E331K,CAWSEQVNTEAFF_HomoSapiens:UBE2I51-60p.P52L_NeoAg-TLWEGGLFKL,CAWSPDGMNTEAFF_HomoSapiens:TMEM161A_TMEM161A,CAWSPVNTEAFF_HomoSapiens:FAM50B72-80p.E78K_NeoAg-DMKARQKAL,CPSSSGDGNYGYTF_HPV:E2-orE5-orE6-orE7_NA,CSADLNTEAFF_HomoSapiens:C2orf16_TLIDVPKV,CSAEQGANTGELFF_HomoSapiens:PMEL154-162_TAA-KTWGQYWQV,CSARGADTQYF_CMV:pp65_NLVPMVATV,CSARTGYNEQFF_MCPyV:T-Ag_KLLEIAPNC,CSASEGAYGYTF_S-pneumoniae:NA_ECTGLAWEWWRTV,CSASMRDEQYF_S-pneumoniae:NA_ECTGLAWEWWRTV,CSATGGTGNTIYF_EBV:NA_NA,CSVEGDTGELFF_CMV:pp65_NLVPMVATV,CSVEGTENTGELFF_EBV:NA_NA,CSVGGAYEQYF_EBV:EBNA3A_RPPIFIRRL,CSVPLTGNTEAFF_EBV:NA_NA,CSVVDRGYGYTF_EBV:NA_NA,CTSSPILQETQYF_HPV:E2-orE5-orE6-orE7_NA,YASSLTGGTEAFF_HomoSapiens:MAA_NA</td><td>CHP_404_X01-PBMC</td><td>CHP_404</td><td>X01</td><td>CAASSGANEQFF_Solidtumors</td><td>CAASSGANEQFF  </td><td>Solidtumors</td><td>  2</td><td>9.9e-10</td></tr>\n",
       "\t<tr><td>1</td><td>17492</td><td>CACSTGGSEQYF_Solidtumors:CHP_381_X01-PBMC</td><td>8263</td><td>115</td><td>cfDNA,PBMC,Tumor</td><td>X00,X01,X02,X03,X04,X05</td><td>6</td><td>CEF,CMV,EBV,HCV,HomoSapiens,HPV,Influenza,Leukemia,LFS,Lymphoma,M.tuberculosis,MCPyV,MDavis,Normal,S-pneumoniae,Solidtumors,T-cellmalignancies</td><td>CACSVLNTGELFF_MCPyV:T-Ag_KLLEIAPNC,CAGSQDGMNTEAFF_HomoSapiens:TMEM161A_TMEM161A,CAIRDSNTGELFF_MCPyV:T-Ag_KLLEIAPNC,CAIRGQNTGELFF_MCPyV:T-Ag_KLLEIAPNC,CAISEDGMNTEAFF_HomoSapiens:TMEM161A_TMEM161A,CAISGEGNTEAFF_CMV:NA_NA,CAISSGGADTQYF_S-pneumoniae:NA_ECTGLAWEWWRTV,CAISTGDSNQPQHF_EBV:BZLF1_EPLPQGQLTAY,CANSQPGGIEQFF_EBV:BZLF1_EPLPQGQLTAY,CARSVLNTGELFF_MCPyV:T-Ag_KLLEIAPNC,CASDSNTEAFF_HCV:NS3_KLVALGINAV,CASGQGQETQYF_HCV:NS3_KLVALGINAV,CASGTGDSNQPQHF_EBV:BZLF1_EPLPQGQLTAY,CASIRGYEQYF_HomoSapiens:MAA_NA,CASQGGTEAFF_HomoSapiens:MAA_NA,CASRDGDEQYF_S-pneumoniae:NA_ECTGLAWEWWRTV,CASRDQNTGELFF_MCPyV:T-Ag_KLLEIAPNC,CASRDSSSYEQYF_HomoSapiens:PLECp.P3283S_NeoAg-GGIVDSSKSHRVPLD,CASRGGFNEKLFF_CMV:NA_NA,CASRGGSSYNEQFF_MCPyV:T-Ag_KLLEIAPNC,CASRGQNTGELFF_MCPyV:T-Ag_KLLEIAPNC,CASRIGNTGELFF_HomoSapiens:KRAS_p-G13D,CASRQGGQPQHF_HomoSapiens:MAA_NA,CASRQGNTGELFF_HomoSapiens:KRAS_p-G13D,CASRRGPYEQYF_HCV:NS3_KLVALGINAV-orKLVALVINAV,CASRRSNQPQHF_HomoSapiens:CMKLR1_FLEDLSPL,CASSAGAEQYF_HomoSapiens:PIK3CA_p-P449T,CASSASNYGYTF_HomoSapiens:DDX18_VKYHYELLNYIDMPVLAIHGKQKQN,CASSDALQETQYF_CMV:pp65_NLVPMVATV,CASSDDRGPYEQYF_HCV:NS3_KLVALGINAV,CASSDGGEQYF_S-pneumoniae:NA_GLAWEWWRTV,CASSDGGVKYF_S-pneumoniae:NA_ECTGLAWEWWRTV,CASSDGVGTEAFF_HomoSapiens:RPS9p.P68S_NeoAg-AARELLTLDEKDSRRLFE,CASSDPGTEAFF_HomoSapiens:KRAS_GADGVGKSAL,CASSDSYGYTF_HCV:NS3_KLVALGINAV,CASSDYYEQYF_S-pneumoniae:NA_ECTGLAWEWWRTV,CASSEDGMNTEAFF_HomoSapiens:TMEM161A_TMEM161A,CASSEGDTEAFF_HCV:NS3_KLVALGINAV,CASSEGQGNSPLHF_MCPyV:T-Ag_KLLEIAPNC,CASSEGQSYEQYF_MCPyV:T-Ag_KLLEIAPNC,CASSESGRNTEAFX_S-pneumoniae:NA_ECTGLAWEWWRTV,CASSFDRGYGYTF_HomoSapiens:MAGE-A6_NA,CASSFGADTQYF_HCV:NS3_KLVALGINAV,CASSFGGAYEQYF_HomoSapiens:MED13_VQIISCQY,CASSFGGEQFF_HomoSapiens:DOPEY2_FRFSMIWHL,CASSFGSEQYF_MCPyV:T-Ag_KLLEIAPNC,CASSFGSYEQYF_HomoSapiens:NUP214_SVYWSPKGK,CASSFIGGTDTQYF_HomoSapiens:gp100_YLEPGPVTA,CASSFLGTGELFF_HomoSapiens:TARS_p-E331K,CASSFQGFTEAFF_CMV:pp65_NLVPMVATV,CASSFQGYTEAFF_CMV:pp65_NLVPMVATV,CASSFTLNTEAFF_CMV:NA_NA,CASSFWGNTEAFF_HomoSapiens:FAM135A_AGASSIWYR,CASSGDGMNTEAFF_HomoSapiens:TMEM161A_TMEM161A,CASSGENTEAFF_CMV:NA_NA,CASSGQNTGELFF_MCPyV:T-Ag_KLLEIAPNC,CASSGTHNEQFF_EBV:EBNA3A_RPPIFIRRL,CASSGYTGELFF_HCV:NS3_KLVALGINAV,CASSHAGRNTEAFF_HomoSapiens:MAA_NA,CASSHQTGELFF_CMV:pp65_NLVPMVATV,CASSHREGETQYF_S-pneumoniae:NA_ECTGLAWEWWRTV,CASSIGGDYGYTF_HomoSapiens:MLANA27-35_TAA-AAGIGILTV,CASSIGQYEQYF_HCV:NS3_KLVALGINAV,CASSIGVGTEQYF_HomoSapiens:MAA_NA,CASSIGVYGYTF_Influenza:M_GILGFVFTL,CASSIRASYEQYF_Influenza:M_GILGFVFTL,CASSIRSAHEQFF_Influenza:M_GILGFVFTL,CASSIRSSYEQYF_Influenza:M_GILGFVFTL,CASSIRSTDTQYF_Influenza:M_GILGFVFTL,CASSIRSTGELFF_Influenza:M_GILGFVFTL,CASSITLNTEAFF_CMV:NA_NA,CASSLAADTQYF_EBV:NA_NA,CASSLAGDRYF_MCPyV:T-Ag_KLLEIAPNC,CASSLAGDYEQYF_CMV:pp65_NLVPMVATV,CASSLAGFRFF_MCPyV:T-Ag_KLLEIAPNC,CASSLAGFTGELFF_CMV:pp65_NLVPMVATV,CASSLAGPETQYF_HomoSapiens:TP53_p-T172I,CASSLAQGTDTQYF_HomoSapiens:LAMC1p.S1509F_NeoAg-KAKNFVTSLLSIIND,CASSLATGGEQFF_EBV:NA_NA,CASSLDENTEAFF_CMV:NA_NA,CASSLDGMNTEAFF_HomoSapiens:TMEM161A_TMEM161A,CASSLDLYGYTF_CMV:pp65_NLVPMVATV,CASSLDNEKLFF_S-pneumoniae:NA_ECTGLAWEWWRTV,CASSLDPYEQYF_HomoSapiens:CARM1_FAAQAGAWKIY,CASSLDSSNQPQHF_CMV:NA_NA,CASSLEGANYGYTF_HPV:E2-orE5-orE6-orE7_NA,CASSLEGDTEAFF_MCPyV:T-Ag_KLLEIAPNC,CASSLEGSYEQYF_EBV:BZLF1_KLVALGINAV,CASSLEGSYEQYF_HCV:NS3_KLVALGINAV,CASSLETVNTEAFF_CMV:pp65_NLVPMVATV,CASSLETVYGYTF_S-pneumoniae:NA_ECTGLAWEWWRTV,CASSLFGGTEAFF_HomoSapiens:MAA_NA,CASSLGANTGELFF_HomoSapiens:SCML2_LPDHFGLGPV,CASSLGDGNYGYTF_HPV:E2-orE5-orE6-orE7_NA,CASSLGEKLFF_HCV:NS3_KLVALGINAV,CASSLGGAEQFF_HomoSapiens:MAA_NA,CASSLGGDIQYF_HCV:NS3_KLVALGINAV,CASSLGGGPDTQYF_HomoSapiens:PMEL154-162_TAA-KTWGQYWQV,CASSLGGGTDTQYF_HomoSapiens:PMEL154-162_TAA-KTWGQYWQV,CASSLGGNTGELFF_MCPyV:T-Ag_KLLEIAPNC,CASSLGGQPQHF_HomoSapiens:MAA_NA,CASSLGGRTEAFF_HomoSapiens:BPNT1_EAGPDAVLRR,CASSLGGSSYEQYF_HomoSapiens:MLANA27-35_TAA-AAGIGILTV,CASSLGLENEQFF_EBV:BMLF1_GLCTLVAML,CASSLGLLNTEAFF_HomoSapiens:MLANA27-35_TAA-AAGIGILTV,CASSLGLSTDTQYF_HomoSapiens:NCEH1111-119p.G115R_NeoAg-YIHGRGWAL,CASSLGNTEAFF_MCPyV:T-Ag_KLLEIAPNC,CASSLGQAYEQYF_EBV:EBNA3A_FLRGRAYGL,CASSLGQAYEQYF_HomoSapiens:MLANA_EEYLKAWTF,CASSLGQGNSPLHF_CMV:pp65_NLVPMVATV,CASSLGQGNYGYTF_HomoSapiens:MLANA27-35_TAA-AAGIGILTV,CASSLGQLNTEAFF_HomoSapiens:MAA_NA,CASSLGQTNYGYTF_HomoSapiens:KRAS_GADGVGKSAL,CASSLGRGQFF_HCV:NS3_KLVALGINAV,CASSLGTGELFF_CMV:pp65_NLVPMVATV,CASSLIGRDEQFF_EBV:BZLF1_EPLPQGQLTAY,CASSLLDGNTEAFF_HPV:E2-orE5-orE6-orE7_NA,CASSLLGETQYF_EBV:NA_NA,CASSLLLDTQYF_EBV:NA_NA,CASSLLQETQYF_EBV:NA_NA,CASSLLSSNQPQHF_EBV:NA_NA,CASSLMQETQYF_EBV:NA_NA,CASSLQGYEQYF_HPV:E2-orE5-orE6-orE7_NA,CASSLREGETQYF_S-pneumoniae:NA_ECTGLAWEWWRTV,CASSLRGSYEQYV_HomoSapiens:DNMT3A_p-P282S,CASSLRNTGELFF_S-pneumoniae:NA_ECTGLAWEWWRTV,CASSLRRGEQYF_HomoSapiens:MYH6191-198_VIQYFASI,CASSLSDGNYGYTF_HPV:E2-orE5-orE6-orE7_NA,CASSLSFGTEAFF_HomoSapiens:MLANA_ELAGIGILTV_AAGIGILTV,CASSLSGQPQHF_MCPyV:T-Ag_KLLEIAPNC,CASSLSQGTEAFF_HomoSapiens:MAA_NA,CASSLTGGSEAFF_HomoSapiens:LMBRD1_FIFTSIAGIR,CASSLVDGNYGYTF_HPV:E2-orE5-orE6-orE7_NA,CASSLVGTGELFF_CMV:pp65_NLVPMVATV,CASSLWLNEQFF_CMV:pp65_NLVPMVATV,CASSLYQETQYF_EBV:NA_NA,CASSLYTGELFF_HomoSapiens:ZHX2_HPNVILNSLY,CASSMGANEQFF_HCV:NS3_KLVALGINAV,CASSMGGEQYF_HCV:NS3_KLVALGINAV,CASSMGGTYEQYF_HomoSapiens:PMEL_ITDQVPFSV_ILDQVPFSV,CASSMLFQETQYF_HPV:E2-orE5-orE6-orE7_NA,CASSMRSTGELFF_Influenza:M_GILGFVFTL,CASSNGRGTEQFF_S-pneumoniae:NA_ECTGLAWEWWRTV,CASSPARNTEAFF_CMV:pp65_RPHERNGFTV,CASSPDGMNTEAFF_HomoSapiens:TMEM161A_TMEM161A,CASSPEETQYF_M.tuberculosis:CFP10_TAAQAAVVRFQEAAN,CASSPGGATEAFF_HomoSapiens:MAA_NA,CASSPGGELFF_HCV:NS3_KLVALGINAV,CASSPGGETQYF_HomoSapiens:PMEL154-162_TAA-KTWGQYWQV,CASSPGGFEAFF_HomoSapiens:PIK3CA_p-P449T,CASSPGGGNTEAFF_S-pneumoniae:NA_ECTGLAWEWWRTV,CASSPGGNEQFF_HomoSapiens:MAA_NA,CASSPGLAGNEQFF_HomoSapiens:MAA_NA,CASSPGLLTDTQYF_HomoSapiens:MAA_NA,CASSPGLLTDTQYF_HomoSapiens:MLANA27-35_TAA-AAGIGILTV,CASSPGQLNTEAFF_HomoSapiens:MAA_NA,CASSPGQPQHF_HomoSapiens:DCAKD198-207p.S199F_NeoAg-RFLEYLPLRF,CASSPGQRNTEAFF_HomoSapiens:MAA_NA,CASSPGSETQYF_S-pneumoniae:NA_ECTGLAWEWWRTV,CASSPGTENSPLHF_HomoSapiens:KRAS_p-G13D,CASSPGTLTDTQYF_HomoSapiens:MLANA27-35_TAA-AAGIGILTV,CASSPHRNTEAFF_CMV:pp65_RPHERNGFTV,CASSPILQETQYF_HPV:E2-orE5-orE6-orE7_NA,CASSPLQGYEQYF_HPV:E2-orE5-orE6-orE7_NA,CASSPPSSGNTIYF_MCPyV:T-Ag_KLLEIAPNC,CASSPQGLGTEAFF_HomoSapiens:MAA_NA,CASSPQGVNYGYTF_S-pneumoniae:NA_ECTGLAWEWWRTV,CASSPRGDTEAFF_MCPyV:T-Ag_KLLEIAPNC,CASSPRTGNTEAFF_CMV:NA_NA,CASSPRVPNTEAFF_HomoSapiens:HIATL1_p-G380V,CASSPSGGTDTQYF_HomoSapiens:CNOT2_FNGTDGSENVTGFDLSDFPALADRN,CASSPSGLSYEQYF_HomoSapiens:MAA_NA,CASSPSRNTEAFF_CMV:pp65_RPHERNGFTV,CASSPTGVGEQFF_Influenza:M_GILGFVFTL,CASSPWDEQFF_MCPyV:T-Ag_KLLEIAPNC,CASSQDGMNTEAFF_HomoSapiens:TMEM161A_TMEM161A,CASSQDRDTQYF_CMV:UL40_VMAPRTLIL,CASSQETGSYEQFF_EBV:EBNA3A_RPPIFIRRL,CASSQETGSYEQYF_EBV:EBNA3A_RPPIFIRRL,CASSQGGGEQYF_S-pneumoniae:NA_WEWWR,CASSQGNTGELFF_HomoSapiens:KRAS_p-G13D,CASSQGQDTEAFF_HomoSapiens:GLIA-OMEGA1_QPFPQPEQPFP,CASSQGRPSTS_HomoSapiens:MAA_NA,CASSQGSYEQYF_HCV:NS3_KLVALGINAV,CASSQLGYEQYF_HPV:E2-orE5-orE6-orE7_NA,CASSQNTGELFF_HomoSapiens:TYR207-215_TAA-FLPWHRLFL,CASSQQETQYF_CEF:NA_NA,CASSQSSGANVLTF_EBV:EBV_NA,CASSQVGETQYF_MCPyV:T-Ag_KLLEIAPNC,CASSQVGGGEQFF_HomoSapiens:MAA_NA,CASSRADYGYTF_HomoSapiens:SDAD1_MAQMRKELDAAPWKSQKRKYIEIDS,CASSRDGMNTEAFF_HomoSapiens:TMEM161A_TMEM161A,CASSRGDTEAFF_HCV:NS3_KLVALGINAV,CASSRGLNNQPQHF_S-pneumoniae:NA_ECTGLAWEWWRTV,CASSRQGENQPQHF_HomoSapiens:MAGEC2254-262_TAA-NAVGVYAGR,CASSRQGLGTEAFF_HomoSapiens:MAA_NA,CASSRQTNTEAFF_CMV:NA_NA,CASSRTGSTYEQYF_EBV:BZLF1_LPEPLPQGQLTAY,CASSSADGNYGYTF_HPV:E2-orE5-orE6-orE7_NA,CASSSAFYGYTF_CMV:pp65_NLVPMVATV,CASSSANYGYTF_CMV:pp65_NLVPMVATV,CASSSAYYGYTF_CMV:pp65_NLVPMVATV,CASSSDGMNTEAFF_HomoSapiens:TMEM161A_TMEM161A,CASSSGATEAFF_HCV:NS3_KLVALGINAV,CASSSGDGNYGYTF_HPV:E2-orE5-orE6-orE7_NA,CASSSGETQYF_S-pneumoniae:NA_ECTGLAWEWWRTV,CASSSGIYGYTF_CMV:pp65_NLVPMVATV,CASSSGPSYEQYF_HomoSapiens:FLNA_RSSRTLSR,CASSSGQAYEQYF_EBV:EBNA3A_FLRGRAYGL,CASSSLNTEAFF_EBV:BZLF1_RAKFKQLL,CASSSQGGYGYTF_HomoSapiens:MAGE-A6_KVDPIGHVY,CASSSRAAYEQYF_Influenza:M_GILGFVFTL,CASSSRASYEQYF_Influenza:M_GILGFVFTL,CASSSRNSYEQYF_Influenza:NA_NA,CASSSRSSYEQYF_Influenza:M-HA_GILGFVFTL_PKYVKQNTLKLAT,CASSSVNEQFF_CMV:pp65_NLVPMVATV,CASSSVSEAFF_CMV:pp65_NLVPMVATV,CASSTDLNTEAFF_CMV:NA_NA,CASSTGDSNQPQHF_EBV:BZLF1_EPLPQGQLTAY,CASSTGFYGYTF_Influenza:M_GILGFVFTL,CASSTGNEKLFF_CMV:NA_NA,CASSTGNYGYTF_Influenza:M_GILGFVFTL,CASSTGSYGYTF_CMV:pp65_NLVPMVATV,CASSTLFQETQYF_HPV:E2-orE5-orE6-orE7_NA,CASSTRSTGELFF_CMV:pp65_NLVPMVATV,CASSTSTDTQYF_S-pneumoniae:NA_ECTGLAWEWWRTV,CASSVASGTDTQYF_EBV:EBNA3A_FLRGRAYGL,CASSVDGMNTEAFF_HomoSapiens:TMEM161A_TMEM161A,CASSVGQGKAFF_Influenza:HA_PKYVKQNTLKLAT,CASSVGWGGEQFF_EBV:NA_NA,CASSVLFQETQYF_HPV:E2-orE5-orE6-orE7_NA,CASSVLNTGELFF_MCPyV:T-Ag_KLLEIAPNC,CASSVNNEQFF_HPV:E2-orE5-orE6-orE7_NA,CASSVRSTGELFF_Influenza:M_GILGFVFTL,CASSWGGGEQYF_HCV:NS3_KLVALGINAV,CASSWGGNTEAFF_HomoSapiens:ZNF219_CLASLHPR,CASSWGSGANVLTF_HomoSapiens:KPNA2_YLRNLTWTL,CASSYGLAGGEQFF_HomoSapiens:MAA_NA,CASSYGSYEQYF_HCV:NS3_KLVALGINAV,CASSYNNEQFF_HomoSapiens:FLNA_RTWRRTRRGRR,CASSYPGTSQFF_HomoSapiens:MAA_NA,CASSYQGTEAFF_HomoSapiens:TERT_ILAKFLHWL,CASSYRGSGNTIYF_HCV:NS3_KLVALGINAV,CASSYSDGNTEAFF_HPV:E2-orE5-orE6-orE7_NA,CASSYSLNTEAFF_CMV:NA_NA,CASSYSVLNTEAFF_HomoSapiens:MAA_NA,CASSYTGELFF_HCV:NS3_KLVALGINAV,CASTDSNTGELFF_MCPyV:T-Ag_KLLEIAPNC,CASTEGNTEAFF_HomoSapiens:PMEL154-162_TAA-KTWGQYWQV,CASTLQETQYF_EBV:NA_NA,CASTNSGNTIYF_HCV:NS3_KLVALGINAV,CASTPTENTEAFF_CMV:NA_NA,CASTQGSTDTQYF_HCV:NS3_KLVALGINAV,CATGTGDSNQPQHF_EBV:BZLF1_EPLPQGQLTAY,CATRDINTGELFF_MCPyV:T-Ag_KLLEIAPNC,CATRRANEQFF_HomoSapiens:PMEL589-603_TAA-LIMPGQEAGLGQVPL,CATSAGRNEQFF_HomoSapiens:MAA_NA,CATSALGDTQYF_HomoSapiens:MBP_NPVVHFFKNIVTPR,CATSEGNEQFF_CMV:pp65_NLVPMVATV,CATSGTGHSYEQYF_HomoSapiens:PPP2R1A_p-L432S,CATTGGQNTEAFF_HomoSapiens:TP53_NSSCMGGMNLR,CAWAESSYNEQFF_HomoSapiens:TARS_p-E331K,CAWSEQVNTEAFF_HomoSapiens:UBE2I51-60p.P52L_NeoAg-TLWEGGLFKL,CAWSPDGMNTEAFF_HomoSapiens:TMEM161A_TMEM161A,CAWSPVNTEAFF_HomoSapiens:FAM50B72-80p.E78K_NeoAg-DMKARQKAL,CPSSSGDGNYGYTF_HPV:E2-orE5-orE6-orE7_NA,CSADLNTEAFF_HomoSapiens:C2orf16_TLIDVPKV,CSAEQGANTGELFF_HomoSapiens:PMEL154-162_TAA-KTWGQYWQV,CSARGADTQYF_CMV:pp65_NLVPMVATV,CSARTGYNEQFF_MCPyV:T-Ag_KLLEIAPNC,CSASEGAYGYTF_S-pneumoniae:NA_ECTGLAWEWWRTV,CSASMRDEQYF_S-pneumoniae:NA_ECTGLAWEWWRTV,CSATGGTGNTIYF_EBV:NA_NA,CSVEGDTGELFF_CMV:pp65_NLVPMVATV,CSVEGTENTGELFF_EBV:NA_NA,CSVGGAYEQYF_EBV:EBNA3A_RPPIFIRRL,CSVPLTGNTEAFF_EBV:NA_NA,CSVVDRGYGYTF_EBV:NA_NA,CTSSPILQETQYF_HPV:E2-orE5-orE6-orE7_NA,YASSLTGGTEAFF_HomoSapiens:MAA_NA</td><td>CHP_381_X01-PBMC</td><td>CHP_381</td><td>X01</td><td>CACSTGGSEQYF_Solidtumors</td><td>CACSTGGSEQYF  </td><td>Solidtumors</td><td>125</td><td>9.0e-07</td></tr>\n",
       "\t<tr><td>1</td><td>17492</td><td>CAFSGDSSYNEQFF_Leukemia:CHP_373_X01-PBMC </td><td>8263</td><td>115</td><td>cfDNA,PBMC,Tumor</td><td>X00,X01,X02,X03,X04,X05</td><td>6</td><td>CEF,CMV,EBV,HCV,HomoSapiens,HPV,Influenza,Leukemia,LFS,Lymphoma,M.tuberculosis,MCPyV,MDavis,Normal,S-pneumoniae,Solidtumors,T-cellmalignancies</td><td>CACSVLNTGELFF_MCPyV:T-Ag_KLLEIAPNC,CAGSQDGMNTEAFF_HomoSapiens:TMEM161A_TMEM161A,CAIRDSNTGELFF_MCPyV:T-Ag_KLLEIAPNC,CAIRGQNTGELFF_MCPyV:T-Ag_KLLEIAPNC,CAISEDGMNTEAFF_HomoSapiens:TMEM161A_TMEM161A,CAISGEGNTEAFF_CMV:NA_NA,CAISSGGADTQYF_S-pneumoniae:NA_ECTGLAWEWWRTV,CAISTGDSNQPQHF_EBV:BZLF1_EPLPQGQLTAY,CANSQPGGIEQFF_EBV:BZLF1_EPLPQGQLTAY,CARSVLNTGELFF_MCPyV:T-Ag_KLLEIAPNC,CASDSNTEAFF_HCV:NS3_KLVALGINAV,CASGQGQETQYF_HCV:NS3_KLVALGINAV,CASGTGDSNQPQHF_EBV:BZLF1_EPLPQGQLTAY,CASIRGYEQYF_HomoSapiens:MAA_NA,CASQGGTEAFF_HomoSapiens:MAA_NA,CASRDGDEQYF_S-pneumoniae:NA_ECTGLAWEWWRTV,CASRDQNTGELFF_MCPyV:T-Ag_KLLEIAPNC,CASRDSSSYEQYF_HomoSapiens:PLECp.P3283S_NeoAg-GGIVDSSKSHRVPLD,CASRGGFNEKLFF_CMV:NA_NA,CASRGGSSYNEQFF_MCPyV:T-Ag_KLLEIAPNC,CASRGQNTGELFF_MCPyV:T-Ag_KLLEIAPNC,CASRIGNTGELFF_HomoSapiens:KRAS_p-G13D,CASRQGGQPQHF_HomoSapiens:MAA_NA,CASRQGNTGELFF_HomoSapiens:KRAS_p-G13D,CASRRGPYEQYF_HCV:NS3_KLVALGINAV-orKLVALVINAV,CASRRSNQPQHF_HomoSapiens:CMKLR1_FLEDLSPL,CASSAGAEQYF_HomoSapiens:PIK3CA_p-P449T,CASSASNYGYTF_HomoSapiens:DDX18_VKYHYELLNYIDMPVLAIHGKQKQN,CASSDALQETQYF_CMV:pp65_NLVPMVATV,CASSDDRGPYEQYF_HCV:NS3_KLVALGINAV,CASSDGGEQYF_S-pneumoniae:NA_GLAWEWWRTV,CASSDGGVKYF_S-pneumoniae:NA_ECTGLAWEWWRTV,CASSDGVGTEAFF_HomoSapiens:RPS9p.P68S_NeoAg-AARELLTLDEKDSRRLFE,CASSDPGTEAFF_HomoSapiens:KRAS_GADGVGKSAL,CASSDSYGYTF_HCV:NS3_KLVALGINAV,CASSDYYEQYF_S-pneumoniae:NA_ECTGLAWEWWRTV,CASSEDGMNTEAFF_HomoSapiens:TMEM161A_TMEM161A,CASSEGDTEAFF_HCV:NS3_KLVALGINAV,CASSEGQGNSPLHF_MCPyV:T-Ag_KLLEIAPNC,CASSEGQSYEQYF_MCPyV:T-Ag_KLLEIAPNC,CASSESGRNTEAFX_S-pneumoniae:NA_ECTGLAWEWWRTV,CASSFDRGYGYTF_HomoSapiens:MAGE-A6_NA,CASSFGADTQYF_HCV:NS3_KLVALGINAV,CASSFGGAYEQYF_HomoSapiens:MED13_VQIISCQY,CASSFGGEQFF_HomoSapiens:DOPEY2_FRFSMIWHL,CASSFGSEQYF_MCPyV:T-Ag_KLLEIAPNC,CASSFGSYEQYF_HomoSapiens:NUP214_SVYWSPKGK,CASSFIGGTDTQYF_HomoSapiens:gp100_YLEPGPVTA,CASSFLGTGELFF_HomoSapiens:TARS_p-E331K,CASSFQGFTEAFF_CMV:pp65_NLVPMVATV,CASSFQGYTEAFF_CMV:pp65_NLVPMVATV,CASSFTLNTEAFF_CMV:NA_NA,CASSFWGNTEAFF_HomoSapiens:FAM135A_AGASSIWYR,CASSGDGMNTEAFF_HomoSapiens:TMEM161A_TMEM161A,CASSGENTEAFF_CMV:NA_NA,CASSGQNTGELFF_MCPyV:T-Ag_KLLEIAPNC,CASSGTHNEQFF_EBV:EBNA3A_RPPIFIRRL,CASSGYTGELFF_HCV:NS3_KLVALGINAV,CASSHAGRNTEAFF_HomoSapiens:MAA_NA,CASSHQTGELFF_CMV:pp65_NLVPMVATV,CASSHREGETQYF_S-pneumoniae:NA_ECTGLAWEWWRTV,CASSIGGDYGYTF_HomoSapiens:MLANA27-35_TAA-AAGIGILTV,CASSIGQYEQYF_HCV:NS3_KLVALGINAV,CASSIGVGTEQYF_HomoSapiens:MAA_NA,CASSIGVYGYTF_Influenza:M_GILGFVFTL,CASSIRASYEQYF_Influenza:M_GILGFVFTL,CASSIRSAHEQFF_Influenza:M_GILGFVFTL,CASSIRSSYEQYF_Influenza:M_GILGFVFTL,CASSIRSTDTQYF_Influenza:M_GILGFVFTL,CASSIRSTGELFF_Influenza:M_GILGFVFTL,CASSITLNTEAFF_CMV:NA_NA,CASSLAADTQYF_EBV:NA_NA,CASSLAGDRYF_MCPyV:T-Ag_KLLEIAPNC,CASSLAGDYEQYF_CMV:pp65_NLVPMVATV,CASSLAGFRFF_MCPyV:T-Ag_KLLEIAPNC,CASSLAGFTGELFF_CMV:pp65_NLVPMVATV,CASSLAGPETQYF_HomoSapiens:TP53_p-T172I,CASSLAQGTDTQYF_HomoSapiens:LAMC1p.S1509F_NeoAg-KAKNFVTSLLSIIND,CASSLATGGEQFF_EBV:NA_NA,CASSLDENTEAFF_CMV:NA_NA,CASSLDGMNTEAFF_HomoSapiens:TMEM161A_TMEM161A,CASSLDLYGYTF_CMV:pp65_NLVPMVATV,CASSLDNEKLFF_S-pneumoniae:NA_ECTGLAWEWWRTV,CASSLDPYEQYF_HomoSapiens:CARM1_FAAQAGAWKIY,CASSLDSSNQPQHF_CMV:NA_NA,CASSLEGANYGYTF_HPV:E2-orE5-orE6-orE7_NA,CASSLEGDTEAFF_MCPyV:T-Ag_KLLEIAPNC,CASSLEGSYEQYF_EBV:BZLF1_KLVALGINAV,CASSLEGSYEQYF_HCV:NS3_KLVALGINAV,CASSLETVNTEAFF_CMV:pp65_NLVPMVATV,CASSLETVYGYTF_S-pneumoniae:NA_ECTGLAWEWWRTV,CASSLFGGTEAFF_HomoSapiens:MAA_NA,CASSLGANTGELFF_HomoSapiens:SCML2_LPDHFGLGPV,CASSLGDGNYGYTF_HPV:E2-orE5-orE6-orE7_NA,CASSLGEKLFF_HCV:NS3_KLVALGINAV,CASSLGGAEQFF_HomoSapiens:MAA_NA,CASSLGGDIQYF_HCV:NS3_KLVALGINAV,CASSLGGGPDTQYF_HomoSapiens:PMEL154-162_TAA-KTWGQYWQV,CASSLGGGTDTQYF_HomoSapiens:PMEL154-162_TAA-KTWGQYWQV,CASSLGGNTGELFF_MCPyV:T-Ag_KLLEIAPNC,CASSLGGQPQHF_HomoSapiens:MAA_NA,CASSLGGRTEAFF_HomoSapiens:BPNT1_EAGPDAVLRR,CASSLGGSSYEQYF_HomoSapiens:MLANA27-35_TAA-AAGIGILTV,CASSLGLENEQFF_EBV:BMLF1_GLCTLVAML,CASSLGLLNTEAFF_HomoSapiens:MLANA27-35_TAA-AAGIGILTV,CASSLGLSTDTQYF_HomoSapiens:NCEH1111-119p.G115R_NeoAg-YIHGRGWAL,CASSLGNTEAFF_MCPyV:T-Ag_KLLEIAPNC,CASSLGQAYEQYF_EBV:EBNA3A_FLRGRAYGL,CASSLGQAYEQYF_HomoSapiens:MLANA_EEYLKAWTF,CASSLGQGNSPLHF_CMV:pp65_NLVPMVATV,CASSLGQGNYGYTF_HomoSapiens:MLANA27-35_TAA-AAGIGILTV,CASSLGQLNTEAFF_HomoSapiens:MAA_NA,CASSLGQTNYGYTF_HomoSapiens:KRAS_GADGVGKSAL,CASSLGRGQFF_HCV:NS3_KLVALGINAV,CASSLGTGELFF_CMV:pp65_NLVPMVATV,CASSLIGRDEQFF_EBV:BZLF1_EPLPQGQLTAY,CASSLLDGNTEAFF_HPV:E2-orE5-orE6-orE7_NA,CASSLLGETQYF_EBV:NA_NA,CASSLLLDTQYF_EBV:NA_NA,CASSLLQETQYF_EBV:NA_NA,CASSLLSSNQPQHF_EBV:NA_NA,CASSLMQETQYF_EBV:NA_NA,CASSLQGYEQYF_HPV:E2-orE5-orE6-orE7_NA,CASSLREGETQYF_S-pneumoniae:NA_ECTGLAWEWWRTV,CASSLRGSYEQYV_HomoSapiens:DNMT3A_p-P282S,CASSLRNTGELFF_S-pneumoniae:NA_ECTGLAWEWWRTV,CASSLRRGEQYF_HomoSapiens:MYH6191-198_VIQYFASI,CASSLSDGNYGYTF_HPV:E2-orE5-orE6-orE7_NA,CASSLSFGTEAFF_HomoSapiens:MLANA_ELAGIGILTV_AAGIGILTV,CASSLSGQPQHF_MCPyV:T-Ag_KLLEIAPNC,CASSLSQGTEAFF_HomoSapiens:MAA_NA,CASSLTGGSEAFF_HomoSapiens:LMBRD1_FIFTSIAGIR,CASSLVDGNYGYTF_HPV:E2-orE5-orE6-orE7_NA,CASSLVGTGELFF_CMV:pp65_NLVPMVATV,CASSLWLNEQFF_CMV:pp65_NLVPMVATV,CASSLYQETQYF_EBV:NA_NA,CASSLYTGELFF_HomoSapiens:ZHX2_HPNVILNSLY,CASSMGANEQFF_HCV:NS3_KLVALGINAV,CASSMGGEQYF_HCV:NS3_KLVALGINAV,CASSMGGTYEQYF_HomoSapiens:PMEL_ITDQVPFSV_ILDQVPFSV,CASSMLFQETQYF_HPV:E2-orE5-orE6-orE7_NA,CASSMRSTGELFF_Influenza:M_GILGFVFTL,CASSNGRGTEQFF_S-pneumoniae:NA_ECTGLAWEWWRTV,CASSPARNTEAFF_CMV:pp65_RPHERNGFTV,CASSPDGMNTEAFF_HomoSapiens:TMEM161A_TMEM161A,CASSPEETQYF_M.tuberculosis:CFP10_TAAQAAVVRFQEAAN,CASSPGGATEAFF_HomoSapiens:MAA_NA,CASSPGGELFF_HCV:NS3_KLVALGINAV,CASSPGGETQYF_HomoSapiens:PMEL154-162_TAA-KTWGQYWQV,CASSPGGFEAFF_HomoSapiens:PIK3CA_p-P449T,CASSPGGGNTEAFF_S-pneumoniae:NA_ECTGLAWEWWRTV,CASSPGGNEQFF_HomoSapiens:MAA_NA,CASSPGLAGNEQFF_HomoSapiens:MAA_NA,CASSPGLLTDTQYF_HomoSapiens:MAA_NA,CASSPGLLTDTQYF_HomoSapiens:MLANA27-35_TAA-AAGIGILTV,CASSPGQLNTEAFF_HomoSapiens:MAA_NA,CASSPGQPQHF_HomoSapiens:DCAKD198-207p.S199F_NeoAg-RFLEYLPLRF,CASSPGQRNTEAFF_HomoSapiens:MAA_NA,CASSPGSETQYF_S-pneumoniae:NA_ECTGLAWEWWRTV,CASSPGTENSPLHF_HomoSapiens:KRAS_p-G13D,CASSPGTLTDTQYF_HomoSapiens:MLANA27-35_TAA-AAGIGILTV,CASSPHRNTEAFF_CMV:pp65_RPHERNGFTV,CASSPILQETQYF_HPV:E2-orE5-orE6-orE7_NA,CASSPLQGYEQYF_HPV:E2-orE5-orE6-orE7_NA,CASSPPSSGNTIYF_MCPyV:T-Ag_KLLEIAPNC,CASSPQGLGTEAFF_HomoSapiens:MAA_NA,CASSPQGVNYGYTF_S-pneumoniae:NA_ECTGLAWEWWRTV,CASSPRGDTEAFF_MCPyV:T-Ag_KLLEIAPNC,CASSPRTGNTEAFF_CMV:NA_NA,CASSPRVPNTEAFF_HomoSapiens:HIATL1_p-G380V,CASSPSGGTDTQYF_HomoSapiens:CNOT2_FNGTDGSENVTGFDLSDFPALADRN,CASSPSGLSYEQYF_HomoSapiens:MAA_NA,CASSPSRNTEAFF_CMV:pp65_RPHERNGFTV,CASSPTGVGEQFF_Influenza:M_GILGFVFTL,CASSPWDEQFF_MCPyV:T-Ag_KLLEIAPNC,CASSQDGMNTEAFF_HomoSapiens:TMEM161A_TMEM161A,CASSQDRDTQYF_CMV:UL40_VMAPRTLIL,CASSQETGSYEQFF_EBV:EBNA3A_RPPIFIRRL,CASSQETGSYEQYF_EBV:EBNA3A_RPPIFIRRL,CASSQGGGEQYF_S-pneumoniae:NA_WEWWR,CASSQGNTGELFF_HomoSapiens:KRAS_p-G13D,CASSQGQDTEAFF_HomoSapiens:GLIA-OMEGA1_QPFPQPEQPFP,CASSQGRPSTS_HomoSapiens:MAA_NA,CASSQGSYEQYF_HCV:NS3_KLVALGINAV,CASSQLGYEQYF_HPV:E2-orE5-orE6-orE7_NA,CASSQNTGELFF_HomoSapiens:TYR207-215_TAA-FLPWHRLFL,CASSQQETQYF_CEF:NA_NA,CASSQSSGANVLTF_EBV:EBV_NA,CASSQVGETQYF_MCPyV:T-Ag_KLLEIAPNC,CASSQVGGGEQFF_HomoSapiens:MAA_NA,CASSRADYGYTF_HomoSapiens:SDAD1_MAQMRKELDAAPWKSQKRKYIEIDS,CASSRDGMNTEAFF_HomoSapiens:TMEM161A_TMEM161A,CASSRGDTEAFF_HCV:NS3_KLVALGINAV,CASSRGLNNQPQHF_S-pneumoniae:NA_ECTGLAWEWWRTV,CASSRQGENQPQHF_HomoSapiens:MAGEC2254-262_TAA-NAVGVYAGR,CASSRQGLGTEAFF_HomoSapiens:MAA_NA,CASSRQTNTEAFF_CMV:NA_NA,CASSRTGSTYEQYF_EBV:BZLF1_LPEPLPQGQLTAY,CASSSADGNYGYTF_HPV:E2-orE5-orE6-orE7_NA,CASSSAFYGYTF_CMV:pp65_NLVPMVATV,CASSSANYGYTF_CMV:pp65_NLVPMVATV,CASSSAYYGYTF_CMV:pp65_NLVPMVATV,CASSSDGMNTEAFF_HomoSapiens:TMEM161A_TMEM161A,CASSSGATEAFF_HCV:NS3_KLVALGINAV,CASSSGDGNYGYTF_HPV:E2-orE5-orE6-orE7_NA,CASSSGETQYF_S-pneumoniae:NA_ECTGLAWEWWRTV,CASSSGIYGYTF_CMV:pp65_NLVPMVATV,CASSSGPSYEQYF_HomoSapiens:FLNA_RSSRTLSR,CASSSGQAYEQYF_EBV:EBNA3A_FLRGRAYGL,CASSSLNTEAFF_EBV:BZLF1_RAKFKQLL,CASSSQGGYGYTF_HomoSapiens:MAGE-A6_KVDPIGHVY,CASSSRAAYEQYF_Influenza:M_GILGFVFTL,CASSSRASYEQYF_Influenza:M_GILGFVFTL,CASSSRNSYEQYF_Influenza:NA_NA,CASSSRSSYEQYF_Influenza:M-HA_GILGFVFTL_PKYVKQNTLKLAT,CASSSVNEQFF_CMV:pp65_NLVPMVATV,CASSSVSEAFF_CMV:pp65_NLVPMVATV,CASSTDLNTEAFF_CMV:NA_NA,CASSTGDSNQPQHF_EBV:BZLF1_EPLPQGQLTAY,CASSTGFYGYTF_Influenza:M_GILGFVFTL,CASSTGNEKLFF_CMV:NA_NA,CASSTGNYGYTF_Influenza:M_GILGFVFTL,CASSTGSYGYTF_CMV:pp65_NLVPMVATV,CASSTLFQETQYF_HPV:E2-orE5-orE6-orE7_NA,CASSTRSTGELFF_CMV:pp65_NLVPMVATV,CASSTSTDTQYF_S-pneumoniae:NA_ECTGLAWEWWRTV,CASSVASGTDTQYF_EBV:EBNA3A_FLRGRAYGL,CASSVDGMNTEAFF_HomoSapiens:TMEM161A_TMEM161A,CASSVGQGKAFF_Influenza:HA_PKYVKQNTLKLAT,CASSVGWGGEQFF_EBV:NA_NA,CASSVLFQETQYF_HPV:E2-orE5-orE6-orE7_NA,CASSVLNTGELFF_MCPyV:T-Ag_KLLEIAPNC,CASSVNNEQFF_HPV:E2-orE5-orE6-orE7_NA,CASSVRSTGELFF_Influenza:M_GILGFVFTL,CASSWGGGEQYF_HCV:NS3_KLVALGINAV,CASSWGGNTEAFF_HomoSapiens:ZNF219_CLASLHPR,CASSWGSGANVLTF_HomoSapiens:KPNA2_YLRNLTWTL,CASSYGLAGGEQFF_HomoSapiens:MAA_NA,CASSYGSYEQYF_HCV:NS3_KLVALGINAV,CASSYNNEQFF_HomoSapiens:FLNA_RTWRRTRRGRR,CASSYPGTSQFF_HomoSapiens:MAA_NA,CASSYQGTEAFF_HomoSapiens:TERT_ILAKFLHWL,CASSYRGSGNTIYF_HCV:NS3_KLVALGINAV,CASSYSDGNTEAFF_HPV:E2-orE5-orE6-orE7_NA,CASSYSLNTEAFF_CMV:NA_NA,CASSYSVLNTEAFF_HomoSapiens:MAA_NA,CASSYTGELFF_HCV:NS3_KLVALGINAV,CASTDSNTGELFF_MCPyV:T-Ag_KLLEIAPNC,CASTEGNTEAFF_HomoSapiens:PMEL154-162_TAA-KTWGQYWQV,CASTLQETQYF_EBV:NA_NA,CASTNSGNTIYF_HCV:NS3_KLVALGINAV,CASTPTENTEAFF_CMV:NA_NA,CASTQGSTDTQYF_HCV:NS3_KLVALGINAV,CATGTGDSNQPQHF_EBV:BZLF1_EPLPQGQLTAY,CATRDINTGELFF_MCPyV:T-Ag_KLLEIAPNC,CATRRANEQFF_HomoSapiens:PMEL589-603_TAA-LIMPGQEAGLGQVPL,CATSAGRNEQFF_HomoSapiens:MAA_NA,CATSALGDTQYF_HomoSapiens:MBP_NPVVHFFKNIVTPR,CATSEGNEQFF_CMV:pp65_NLVPMVATV,CATSGTGHSYEQYF_HomoSapiens:PPP2R1A_p-L432S,CATTGGQNTEAFF_HomoSapiens:TP53_NSSCMGGMNLR,CAWAESSYNEQFF_HomoSapiens:TARS_p-E331K,CAWSEQVNTEAFF_HomoSapiens:UBE2I51-60p.P52L_NeoAg-TLWEGGLFKL,CAWSPDGMNTEAFF_HomoSapiens:TMEM161A_TMEM161A,CAWSPVNTEAFF_HomoSapiens:FAM50B72-80p.E78K_NeoAg-DMKARQKAL,CPSSSGDGNYGYTF_HPV:E2-orE5-orE6-orE7_NA,CSADLNTEAFF_HomoSapiens:C2orf16_TLIDVPKV,CSAEQGANTGELFF_HomoSapiens:PMEL154-162_TAA-KTWGQYWQV,CSARGADTQYF_CMV:pp65_NLVPMVATV,CSARTGYNEQFF_MCPyV:T-Ag_KLLEIAPNC,CSASEGAYGYTF_S-pneumoniae:NA_ECTGLAWEWWRTV,CSASMRDEQYF_S-pneumoniae:NA_ECTGLAWEWWRTV,CSATGGTGNTIYF_EBV:NA_NA,CSVEGDTGELFF_CMV:pp65_NLVPMVATV,CSVEGTENTGELFF_EBV:NA_NA,CSVGGAYEQYF_EBV:EBNA3A_RPPIFIRRL,CSVPLTGNTEAFF_EBV:NA_NA,CSVVDRGYGYTF_EBV:NA_NA,CTSSPILQETQYF_HPV:E2-orE5-orE6-orE7_NA,YASSLTGGTEAFF_HomoSapiens:MAA_NA</td><td>CHP_373_X01-PBMC</td><td>CHP_373</td><td>X01</td><td>CAFSGDSSYNEQFF_Leukemia </td><td>CAFSGDSSYNEQFF</td><td>Leukemia   </td><td>  6</td><td>4.6e-04</td></tr>\n",
       "\t<tr><td>1</td><td>17492</td><td>CAGRGTGELFF_Leukemia:CHP_373_X01-PBMC    </td><td>8263</td><td>115</td><td>cfDNA,PBMC,Tumor</td><td>X00,X01,X02,X03,X04,X05</td><td>6</td><td>CEF,CMV,EBV,HCV,HomoSapiens,HPV,Influenza,Leukemia,LFS,Lymphoma,M.tuberculosis,MCPyV,MDavis,Normal,S-pneumoniae,Solidtumors,T-cellmalignancies</td><td>CACSVLNTGELFF_MCPyV:T-Ag_KLLEIAPNC,CAGSQDGMNTEAFF_HomoSapiens:TMEM161A_TMEM161A,CAIRDSNTGELFF_MCPyV:T-Ag_KLLEIAPNC,CAIRGQNTGELFF_MCPyV:T-Ag_KLLEIAPNC,CAISEDGMNTEAFF_HomoSapiens:TMEM161A_TMEM161A,CAISGEGNTEAFF_CMV:NA_NA,CAISSGGADTQYF_S-pneumoniae:NA_ECTGLAWEWWRTV,CAISTGDSNQPQHF_EBV:BZLF1_EPLPQGQLTAY,CANSQPGGIEQFF_EBV:BZLF1_EPLPQGQLTAY,CARSVLNTGELFF_MCPyV:T-Ag_KLLEIAPNC,CASDSNTEAFF_HCV:NS3_KLVALGINAV,CASGQGQETQYF_HCV:NS3_KLVALGINAV,CASGTGDSNQPQHF_EBV:BZLF1_EPLPQGQLTAY,CASIRGYEQYF_HomoSapiens:MAA_NA,CASQGGTEAFF_HomoSapiens:MAA_NA,CASRDGDEQYF_S-pneumoniae:NA_ECTGLAWEWWRTV,CASRDQNTGELFF_MCPyV:T-Ag_KLLEIAPNC,CASRDSSSYEQYF_HomoSapiens:PLECp.P3283S_NeoAg-GGIVDSSKSHRVPLD,CASRGGFNEKLFF_CMV:NA_NA,CASRGGSSYNEQFF_MCPyV:T-Ag_KLLEIAPNC,CASRGQNTGELFF_MCPyV:T-Ag_KLLEIAPNC,CASRIGNTGELFF_HomoSapiens:KRAS_p-G13D,CASRQGGQPQHF_HomoSapiens:MAA_NA,CASRQGNTGELFF_HomoSapiens:KRAS_p-G13D,CASRRGPYEQYF_HCV:NS3_KLVALGINAV-orKLVALVINAV,CASRRSNQPQHF_HomoSapiens:CMKLR1_FLEDLSPL,CASSAGAEQYF_HomoSapiens:PIK3CA_p-P449T,CASSASNYGYTF_HomoSapiens:DDX18_VKYHYELLNYIDMPVLAIHGKQKQN,CASSDALQETQYF_CMV:pp65_NLVPMVATV,CASSDDRGPYEQYF_HCV:NS3_KLVALGINAV,CASSDGGEQYF_S-pneumoniae:NA_GLAWEWWRTV,CASSDGGVKYF_S-pneumoniae:NA_ECTGLAWEWWRTV,CASSDGVGTEAFF_HomoSapiens:RPS9p.P68S_NeoAg-AARELLTLDEKDSRRLFE,CASSDPGTEAFF_HomoSapiens:KRAS_GADGVGKSAL,CASSDSYGYTF_HCV:NS3_KLVALGINAV,CASSDYYEQYF_S-pneumoniae:NA_ECTGLAWEWWRTV,CASSEDGMNTEAFF_HomoSapiens:TMEM161A_TMEM161A,CASSEGDTEAFF_HCV:NS3_KLVALGINAV,CASSEGQGNSPLHF_MCPyV:T-Ag_KLLEIAPNC,CASSEGQSYEQYF_MCPyV:T-Ag_KLLEIAPNC,CASSESGRNTEAFX_S-pneumoniae:NA_ECTGLAWEWWRTV,CASSFDRGYGYTF_HomoSapiens:MAGE-A6_NA,CASSFGADTQYF_HCV:NS3_KLVALGINAV,CASSFGGAYEQYF_HomoSapiens:MED13_VQIISCQY,CASSFGGEQFF_HomoSapiens:DOPEY2_FRFSMIWHL,CASSFGSEQYF_MCPyV:T-Ag_KLLEIAPNC,CASSFGSYEQYF_HomoSapiens:NUP214_SVYWSPKGK,CASSFIGGTDTQYF_HomoSapiens:gp100_YLEPGPVTA,CASSFLGTGELFF_HomoSapiens:TARS_p-E331K,CASSFQGFTEAFF_CMV:pp65_NLVPMVATV,CASSFQGYTEAFF_CMV:pp65_NLVPMVATV,CASSFTLNTEAFF_CMV:NA_NA,CASSFWGNTEAFF_HomoSapiens:FAM135A_AGASSIWYR,CASSGDGMNTEAFF_HomoSapiens:TMEM161A_TMEM161A,CASSGENTEAFF_CMV:NA_NA,CASSGQNTGELFF_MCPyV:T-Ag_KLLEIAPNC,CASSGTHNEQFF_EBV:EBNA3A_RPPIFIRRL,CASSGYTGELFF_HCV:NS3_KLVALGINAV,CASSHAGRNTEAFF_HomoSapiens:MAA_NA,CASSHQTGELFF_CMV:pp65_NLVPMVATV,CASSHREGETQYF_S-pneumoniae:NA_ECTGLAWEWWRTV,CASSIGGDYGYTF_HomoSapiens:MLANA27-35_TAA-AAGIGILTV,CASSIGQYEQYF_HCV:NS3_KLVALGINAV,CASSIGVGTEQYF_HomoSapiens:MAA_NA,CASSIGVYGYTF_Influenza:M_GILGFVFTL,CASSIRASYEQYF_Influenza:M_GILGFVFTL,CASSIRSAHEQFF_Influenza:M_GILGFVFTL,CASSIRSSYEQYF_Influenza:M_GILGFVFTL,CASSIRSTDTQYF_Influenza:M_GILGFVFTL,CASSIRSTGELFF_Influenza:M_GILGFVFTL,CASSITLNTEAFF_CMV:NA_NA,CASSLAADTQYF_EBV:NA_NA,CASSLAGDRYF_MCPyV:T-Ag_KLLEIAPNC,CASSLAGDYEQYF_CMV:pp65_NLVPMVATV,CASSLAGFRFF_MCPyV:T-Ag_KLLEIAPNC,CASSLAGFTGELFF_CMV:pp65_NLVPMVATV,CASSLAGPETQYF_HomoSapiens:TP53_p-T172I,CASSLAQGTDTQYF_HomoSapiens:LAMC1p.S1509F_NeoAg-KAKNFVTSLLSIIND,CASSLATGGEQFF_EBV:NA_NA,CASSLDENTEAFF_CMV:NA_NA,CASSLDGMNTEAFF_HomoSapiens:TMEM161A_TMEM161A,CASSLDLYGYTF_CMV:pp65_NLVPMVATV,CASSLDNEKLFF_S-pneumoniae:NA_ECTGLAWEWWRTV,CASSLDPYEQYF_HomoSapiens:CARM1_FAAQAGAWKIY,CASSLDSSNQPQHF_CMV:NA_NA,CASSLEGANYGYTF_HPV:E2-orE5-orE6-orE7_NA,CASSLEGDTEAFF_MCPyV:T-Ag_KLLEIAPNC,CASSLEGSYEQYF_EBV:BZLF1_KLVALGINAV,CASSLEGSYEQYF_HCV:NS3_KLVALGINAV,CASSLETVNTEAFF_CMV:pp65_NLVPMVATV,CASSLETVYGYTF_S-pneumoniae:NA_ECTGLAWEWWRTV,CASSLFGGTEAFF_HomoSapiens:MAA_NA,CASSLGANTGELFF_HomoSapiens:SCML2_LPDHFGLGPV,CASSLGDGNYGYTF_HPV:E2-orE5-orE6-orE7_NA,CASSLGEKLFF_HCV:NS3_KLVALGINAV,CASSLGGAEQFF_HomoSapiens:MAA_NA,CASSLGGDIQYF_HCV:NS3_KLVALGINAV,CASSLGGGPDTQYF_HomoSapiens:PMEL154-162_TAA-KTWGQYWQV,CASSLGGGTDTQYF_HomoSapiens:PMEL154-162_TAA-KTWGQYWQV,CASSLGGNTGELFF_MCPyV:T-Ag_KLLEIAPNC,CASSLGGQPQHF_HomoSapiens:MAA_NA,CASSLGGRTEAFF_HomoSapiens:BPNT1_EAGPDAVLRR,CASSLGGSSYEQYF_HomoSapiens:MLANA27-35_TAA-AAGIGILTV,CASSLGLENEQFF_EBV:BMLF1_GLCTLVAML,CASSLGLLNTEAFF_HomoSapiens:MLANA27-35_TAA-AAGIGILTV,CASSLGLSTDTQYF_HomoSapiens:NCEH1111-119p.G115R_NeoAg-YIHGRGWAL,CASSLGNTEAFF_MCPyV:T-Ag_KLLEIAPNC,CASSLGQAYEQYF_EBV:EBNA3A_FLRGRAYGL,CASSLGQAYEQYF_HomoSapiens:MLANA_EEYLKAWTF,CASSLGQGNSPLHF_CMV:pp65_NLVPMVATV,CASSLGQGNYGYTF_HomoSapiens:MLANA27-35_TAA-AAGIGILTV,CASSLGQLNTEAFF_HomoSapiens:MAA_NA,CASSLGQTNYGYTF_HomoSapiens:KRAS_GADGVGKSAL,CASSLGRGQFF_HCV:NS3_KLVALGINAV,CASSLGTGELFF_CMV:pp65_NLVPMVATV,CASSLIGRDEQFF_EBV:BZLF1_EPLPQGQLTAY,CASSLLDGNTEAFF_HPV:E2-orE5-orE6-orE7_NA,CASSLLGETQYF_EBV:NA_NA,CASSLLLDTQYF_EBV:NA_NA,CASSLLQETQYF_EBV:NA_NA,CASSLLSSNQPQHF_EBV:NA_NA,CASSLMQETQYF_EBV:NA_NA,CASSLQGYEQYF_HPV:E2-orE5-orE6-orE7_NA,CASSLREGETQYF_S-pneumoniae:NA_ECTGLAWEWWRTV,CASSLRGSYEQYV_HomoSapiens:DNMT3A_p-P282S,CASSLRNTGELFF_S-pneumoniae:NA_ECTGLAWEWWRTV,CASSLRRGEQYF_HomoSapiens:MYH6191-198_VIQYFASI,CASSLSDGNYGYTF_HPV:E2-orE5-orE6-orE7_NA,CASSLSFGTEAFF_HomoSapiens:MLANA_ELAGIGILTV_AAGIGILTV,CASSLSGQPQHF_MCPyV:T-Ag_KLLEIAPNC,CASSLSQGTEAFF_HomoSapiens:MAA_NA,CASSLTGGSEAFF_HomoSapiens:LMBRD1_FIFTSIAGIR,CASSLVDGNYGYTF_HPV:E2-orE5-orE6-orE7_NA,CASSLVGTGELFF_CMV:pp65_NLVPMVATV,CASSLWLNEQFF_CMV:pp65_NLVPMVATV,CASSLYQETQYF_EBV:NA_NA,CASSLYTGELFF_HomoSapiens:ZHX2_HPNVILNSLY,CASSMGANEQFF_HCV:NS3_KLVALGINAV,CASSMGGEQYF_HCV:NS3_KLVALGINAV,CASSMGGTYEQYF_HomoSapiens:PMEL_ITDQVPFSV_ILDQVPFSV,CASSMLFQETQYF_HPV:E2-orE5-orE6-orE7_NA,CASSMRSTGELFF_Influenza:M_GILGFVFTL,CASSNGRGTEQFF_S-pneumoniae:NA_ECTGLAWEWWRTV,CASSPARNTEAFF_CMV:pp65_RPHERNGFTV,CASSPDGMNTEAFF_HomoSapiens:TMEM161A_TMEM161A,CASSPEETQYF_M.tuberculosis:CFP10_TAAQAAVVRFQEAAN,CASSPGGATEAFF_HomoSapiens:MAA_NA,CASSPGGELFF_HCV:NS3_KLVALGINAV,CASSPGGETQYF_HomoSapiens:PMEL154-162_TAA-KTWGQYWQV,CASSPGGFEAFF_HomoSapiens:PIK3CA_p-P449T,CASSPGGGNTEAFF_S-pneumoniae:NA_ECTGLAWEWWRTV,CASSPGGNEQFF_HomoSapiens:MAA_NA,CASSPGLAGNEQFF_HomoSapiens:MAA_NA,CASSPGLLTDTQYF_HomoSapiens:MAA_NA,CASSPGLLTDTQYF_HomoSapiens:MLANA27-35_TAA-AAGIGILTV,CASSPGQLNTEAFF_HomoSapiens:MAA_NA,CASSPGQPQHF_HomoSapiens:DCAKD198-207p.S199F_NeoAg-RFLEYLPLRF,CASSPGQRNTEAFF_HomoSapiens:MAA_NA,CASSPGSETQYF_S-pneumoniae:NA_ECTGLAWEWWRTV,CASSPGTENSPLHF_HomoSapiens:KRAS_p-G13D,CASSPGTLTDTQYF_HomoSapiens:MLANA27-35_TAA-AAGIGILTV,CASSPHRNTEAFF_CMV:pp65_RPHERNGFTV,CASSPILQETQYF_HPV:E2-orE5-orE6-orE7_NA,CASSPLQGYEQYF_HPV:E2-orE5-orE6-orE7_NA,CASSPPSSGNTIYF_MCPyV:T-Ag_KLLEIAPNC,CASSPQGLGTEAFF_HomoSapiens:MAA_NA,CASSPQGVNYGYTF_S-pneumoniae:NA_ECTGLAWEWWRTV,CASSPRGDTEAFF_MCPyV:T-Ag_KLLEIAPNC,CASSPRTGNTEAFF_CMV:NA_NA,CASSPRVPNTEAFF_HomoSapiens:HIATL1_p-G380V,CASSPSGGTDTQYF_HomoSapiens:CNOT2_FNGTDGSENVTGFDLSDFPALADRN,CASSPSGLSYEQYF_HomoSapiens:MAA_NA,CASSPSRNTEAFF_CMV:pp65_RPHERNGFTV,CASSPTGVGEQFF_Influenza:M_GILGFVFTL,CASSPWDEQFF_MCPyV:T-Ag_KLLEIAPNC,CASSQDGMNTEAFF_HomoSapiens:TMEM161A_TMEM161A,CASSQDRDTQYF_CMV:UL40_VMAPRTLIL,CASSQETGSYEQFF_EBV:EBNA3A_RPPIFIRRL,CASSQETGSYEQYF_EBV:EBNA3A_RPPIFIRRL,CASSQGGGEQYF_S-pneumoniae:NA_WEWWR,CASSQGNTGELFF_HomoSapiens:KRAS_p-G13D,CASSQGQDTEAFF_HomoSapiens:GLIA-OMEGA1_QPFPQPEQPFP,CASSQGRPSTS_HomoSapiens:MAA_NA,CASSQGSYEQYF_HCV:NS3_KLVALGINAV,CASSQLGYEQYF_HPV:E2-orE5-orE6-orE7_NA,CASSQNTGELFF_HomoSapiens:TYR207-215_TAA-FLPWHRLFL,CASSQQETQYF_CEF:NA_NA,CASSQSSGANVLTF_EBV:EBV_NA,CASSQVGETQYF_MCPyV:T-Ag_KLLEIAPNC,CASSQVGGGEQFF_HomoSapiens:MAA_NA,CASSRADYGYTF_HomoSapiens:SDAD1_MAQMRKELDAAPWKSQKRKYIEIDS,CASSRDGMNTEAFF_HomoSapiens:TMEM161A_TMEM161A,CASSRGDTEAFF_HCV:NS3_KLVALGINAV,CASSRGLNNQPQHF_S-pneumoniae:NA_ECTGLAWEWWRTV,CASSRQGENQPQHF_HomoSapiens:MAGEC2254-262_TAA-NAVGVYAGR,CASSRQGLGTEAFF_HomoSapiens:MAA_NA,CASSRQTNTEAFF_CMV:NA_NA,CASSRTGSTYEQYF_EBV:BZLF1_LPEPLPQGQLTAY,CASSSADGNYGYTF_HPV:E2-orE5-orE6-orE7_NA,CASSSAFYGYTF_CMV:pp65_NLVPMVATV,CASSSANYGYTF_CMV:pp65_NLVPMVATV,CASSSAYYGYTF_CMV:pp65_NLVPMVATV,CASSSDGMNTEAFF_HomoSapiens:TMEM161A_TMEM161A,CASSSGATEAFF_HCV:NS3_KLVALGINAV,CASSSGDGNYGYTF_HPV:E2-orE5-orE6-orE7_NA,CASSSGETQYF_S-pneumoniae:NA_ECTGLAWEWWRTV,CASSSGIYGYTF_CMV:pp65_NLVPMVATV,CASSSGPSYEQYF_HomoSapiens:FLNA_RSSRTLSR,CASSSGQAYEQYF_EBV:EBNA3A_FLRGRAYGL,CASSSLNTEAFF_EBV:BZLF1_RAKFKQLL,CASSSQGGYGYTF_HomoSapiens:MAGE-A6_KVDPIGHVY,CASSSRAAYEQYF_Influenza:M_GILGFVFTL,CASSSRASYEQYF_Influenza:M_GILGFVFTL,CASSSRNSYEQYF_Influenza:NA_NA,CASSSRSSYEQYF_Influenza:M-HA_GILGFVFTL_PKYVKQNTLKLAT,CASSSVNEQFF_CMV:pp65_NLVPMVATV,CASSSVSEAFF_CMV:pp65_NLVPMVATV,CASSTDLNTEAFF_CMV:NA_NA,CASSTGDSNQPQHF_EBV:BZLF1_EPLPQGQLTAY,CASSTGFYGYTF_Influenza:M_GILGFVFTL,CASSTGNEKLFF_CMV:NA_NA,CASSTGNYGYTF_Influenza:M_GILGFVFTL,CASSTGSYGYTF_CMV:pp65_NLVPMVATV,CASSTLFQETQYF_HPV:E2-orE5-orE6-orE7_NA,CASSTRSTGELFF_CMV:pp65_NLVPMVATV,CASSTSTDTQYF_S-pneumoniae:NA_ECTGLAWEWWRTV,CASSVASGTDTQYF_EBV:EBNA3A_FLRGRAYGL,CASSVDGMNTEAFF_HomoSapiens:TMEM161A_TMEM161A,CASSVGQGKAFF_Influenza:HA_PKYVKQNTLKLAT,CASSVGWGGEQFF_EBV:NA_NA,CASSVLFQETQYF_HPV:E2-orE5-orE6-orE7_NA,CASSVLNTGELFF_MCPyV:T-Ag_KLLEIAPNC,CASSVNNEQFF_HPV:E2-orE5-orE6-orE7_NA,CASSVRSTGELFF_Influenza:M_GILGFVFTL,CASSWGGGEQYF_HCV:NS3_KLVALGINAV,CASSWGGNTEAFF_HomoSapiens:ZNF219_CLASLHPR,CASSWGSGANVLTF_HomoSapiens:KPNA2_YLRNLTWTL,CASSYGLAGGEQFF_HomoSapiens:MAA_NA,CASSYGSYEQYF_HCV:NS3_KLVALGINAV,CASSYNNEQFF_HomoSapiens:FLNA_RTWRRTRRGRR,CASSYPGTSQFF_HomoSapiens:MAA_NA,CASSYQGTEAFF_HomoSapiens:TERT_ILAKFLHWL,CASSYRGSGNTIYF_HCV:NS3_KLVALGINAV,CASSYSDGNTEAFF_HPV:E2-orE5-orE6-orE7_NA,CASSYSLNTEAFF_CMV:NA_NA,CASSYSVLNTEAFF_HomoSapiens:MAA_NA,CASSYTGELFF_HCV:NS3_KLVALGINAV,CASTDSNTGELFF_MCPyV:T-Ag_KLLEIAPNC,CASTEGNTEAFF_HomoSapiens:PMEL154-162_TAA-KTWGQYWQV,CASTLQETQYF_EBV:NA_NA,CASTNSGNTIYF_HCV:NS3_KLVALGINAV,CASTPTENTEAFF_CMV:NA_NA,CASTQGSTDTQYF_HCV:NS3_KLVALGINAV,CATGTGDSNQPQHF_EBV:BZLF1_EPLPQGQLTAY,CATRDINTGELFF_MCPyV:T-Ag_KLLEIAPNC,CATRRANEQFF_HomoSapiens:PMEL589-603_TAA-LIMPGQEAGLGQVPL,CATSAGRNEQFF_HomoSapiens:MAA_NA,CATSALGDTQYF_HomoSapiens:MBP_NPVVHFFKNIVTPR,CATSEGNEQFF_CMV:pp65_NLVPMVATV,CATSGTGHSYEQYF_HomoSapiens:PPP2R1A_p-L432S,CATTGGQNTEAFF_HomoSapiens:TP53_NSSCMGGMNLR,CAWAESSYNEQFF_HomoSapiens:TARS_p-E331K,CAWSEQVNTEAFF_HomoSapiens:UBE2I51-60p.P52L_NeoAg-TLWEGGLFKL,CAWSPDGMNTEAFF_HomoSapiens:TMEM161A_TMEM161A,CAWSPVNTEAFF_HomoSapiens:FAM50B72-80p.E78K_NeoAg-DMKARQKAL,CPSSSGDGNYGYTF_HPV:E2-orE5-orE6-orE7_NA,CSADLNTEAFF_HomoSapiens:C2orf16_TLIDVPKV,CSAEQGANTGELFF_HomoSapiens:PMEL154-162_TAA-KTWGQYWQV,CSARGADTQYF_CMV:pp65_NLVPMVATV,CSARTGYNEQFF_MCPyV:T-Ag_KLLEIAPNC,CSASEGAYGYTF_S-pneumoniae:NA_ECTGLAWEWWRTV,CSASMRDEQYF_S-pneumoniae:NA_ECTGLAWEWWRTV,CSATGGTGNTIYF_EBV:NA_NA,CSVEGDTGELFF_CMV:pp65_NLVPMVATV,CSVEGTENTGELFF_EBV:NA_NA,CSVGGAYEQYF_EBV:EBNA3A_RPPIFIRRL,CSVPLTGNTEAFF_EBV:NA_NA,CSVVDRGYGYTF_EBV:NA_NA,CTSSPILQETQYF_HPV:E2-orE5-orE6-orE7_NA,YASSLTGGTEAFF_HomoSapiens:MAA_NA</td><td>CHP_373_X01-PBMC</td><td>CHP_373</td><td>X01</td><td>CAGRGTGELFF_Leukemia    </td><td>CAGRGTGELFF   </td><td>Leukemia   </td><td>  7</td><td>6.2e-06</td></tr>\n",
       "\t<tr><td>1</td><td>17492</td><td>CAGSLGINEQFF_Leukemia:CHP_353_X01-PBMC   </td><td>8263</td><td>115</td><td>cfDNA,PBMC,Tumor</td><td>X00,X01,X02,X03,X04,X05</td><td>6</td><td>CEF,CMV,EBV,HCV,HomoSapiens,HPV,Influenza,Leukemia,LFS,Lymphoma,M.tuberculosis,MCPyV,MDavis,Normal,S-pneumoniae,Solidtumors,T-cellmalignancies</td><td>CACSVLNTGELFF_MCPyV:T-Ag_KLLEIAPNC,CAGSQDGMNTEAFF_HomoSapiens:TMEM161A_TMEM161A,CAIRDSNTGELFF_MCPyV:T-Ag_KLLEIAPNC,CAIRGQNTGELFF_MCPyV:T-Ag_KLLEIAPNC,CAISEDGMNTEAFF_HomoSapiens:TMEM161A_TMEM161A,CAISGEGNTEAFF_CMV:NA_NA,CAISSGGADTQYF_S-pneumoniae:NA_ECTGLAWEWWRTV,CAISTGDSNQPQHF_EBV:BZLF1_EPLPQGQLTAY,CANSQPGGIEQFF_EBV:BZLF1_EPLPQGQLTAY,CARSVLNTGELFF_MCPyV:T-Ag_KLLEIAPNC,CASDSNTEAFF_HCV:NS3_KLVALGINAV,CASGQGQETQYF_HCV:NS3_KLVALGINAV,CASGTGDSNQPQHF_EBV:BZLF1_EPLPQGQLTAY,CASIRGYEQYF_HomoSapiens:MAA_NA,CASQGGTEAFF_HomoSapiens:MAA_NA,CASRDGDEQYF_S-pneumoniae:NA_ECTGLAWEWWRTV,CASRDQNTGELFF_MCPyV:T-Ag_KLLEIAPNC,CASRDSSSYEQYF_HomoSapiens:PLECp.P3283S_NeoAg-GGIVDSSKSHRVPLD,CASRGGFNEKLFF_CMV:NA_NA,CASRGGSSYNEQFF_MCPyV:T-Ag_KLLEIAPNC,CASRGQNTGELFF_MCPyV:T-Ag_KLLEIAPNC,CASRIGNTGELFF_HomoSapiens:KRAS_p-G13D,CASRQGGQPQHF_HomoSapiens:MAA_NA,CASRQGNTGELFF_HomoSapiens:KRAS_p-G13D,CASRRGPYEQYF_HCV:NS3_KLVALGINAV-orKLVALVINAV,CASRRSNQPQHF_HomoSapiens:CMKLR1_FLEDLSPL,CASSAGAEQYF_HomoSapiens:PIK3CA_p-P449T,CASSASNYGYTF_HomoSapiens:DDX18_VKYHYELLNYIDMPVLAIHGKQKQN,CASSDALQETQYF_CMV:pp65_NLVPMVATV,CASSDDRGPYEQYF_HCV:NS3_KLVALGINAV,CASSDGGEQYF_S-pneumoniae:NA_GLAWEWWRTV,CASSDGGVKYF_S-pneumoniae:NA_ECTGLAWEWWRTV,CASSDGVGTEAFF_HomoSapiens:RPS9p.P68S_NeoAg-AARELLTLDEKDSRRLFE,CASSDPGTEAFF_HomoSapiens:KRAS_GADGVGKSAL,CASSDSYGYTF_HCV:NS3_KLVALGINAV,CASSDYYEQYF_S-pneumoniae:NA_ECTGLAWEWWRTV,CASSEDGMNTEAFF_HomoSapiens:TMEM161A_TMEM161A,CASSEGDTEAFF_HCV:NS3_KLVALGINAV,CASSEGQGNSPLHF_MCPyV:T-Ag_KLLEIAPNC,CASSEGQSYEQYF_MCPyV:T-Ag_KLLEIAPNC,CASSESGRNTEAFX_S-pneumoniae:NA_ECTGLAWEWWRTV,CASSFDRGYGYTF_HomoSapiens:MAGE-A6_NA,CASSFGADTQYF_HCV:NS3_KLVALGINAV,CASSFGGAYEQYF_HomoSapiens:MED13_VQIISCQY,CASSFGGEQFF_HomoSapiens:DOPEY2_FRFSMIWHL,CASSFGSEQYF_MCPyV:T-Ag_KLLEIAPNC,CASSFGSYEQYF_HomoSapiens:NUP214_SVYWSPKGK,CASSFIGGTDTQYF_HomoSapiens:gp100_YLEPGPVTA,CASSFLGTGELFF_HomoSapiens:TARS_p-E331K,CASSFQGFTEAFF_CMV:pp65_NLVPMVATV,CASSFQGYTEAFF_CMV:pp65_NLVPMVATV,CASSFTLNTEAFF_CMV:NA_NA,CASSFWGNTEAFF_HomoSapiens:FAM135A_AGASSIWYR,CASSGDGMNTEAFF_HomoSapiens:TMEM161A_TMEM161A,CASSGENTEAFF_CMV:NA_NA,CASSGQNTGELFF_MCPyV:T-Ag_KLLEIAPNC,CASSGTHNEQFF_EBV:EBNA3A_RPPIFIRRL,CASSGYTGELFF_HCV:NS3_KLVALGINAV,CASSHAGRNTEAFF_HomoSapiens:MAA_NA,CASSHQTGELFF_CMV:pp65_NLVPMVATV,CASSHREGETQYF_S-pneumoniae:NA_ECTGLAWEWWRTV,CASSIGGDYGYTF_HomoSapiens:MLANA27-35_TAA-AAGIGILTV,CASSIGQYEQYF_HCV:NS3_KLVALGINAV,CASSIGVGTEQYF_HomoSapiens:MAA_NA,CASSIGVYGYTF_Influenza:M_GILGFVFTL,CASSIRASYEQYF_Influenza:M_GILGFVFTL,CASSIRSAHEQFF_Influenza:M_GILGFVFTL,CASSIRSSYEQYF_Influenza:M_GILGFVFTL,CASSIRSTDTQYF_Influenza:M_GILGFVFTL,CASSIRSTGELFF_Influenza:M_GILGFVFTL,CASSITLNTEAFF_CMV:NA_NA,CASSLAADTQYF_EBV:NA_NA,CASSLAGDRYF_MCPyV:T-Ag_KLLEIAPNC,CASSLAGDYEQYF_CMV:pp65_NLVPMVATV,CASSLAGFRFF_MCPyV:T-Ag_KLLEIAPNC,CASSLAGFTGELFF_CMV:pp65_NLVPMVATV,CASSLAGPETQYF_HomoSapiens:TP53_p-T172I,CASSLAQGTDTQYF_HomoSapiens:LAMC1p.S1509F_NeoAg-KAKNFVTSLLSIIND,CASSLATGGEQFF_EBV:NA_NA,CASSLDENTEAFF_CMV:NA_NA,CASSLDGMNTEAFF_HomoSapiens:TMEM161A_TMEM161A,CASSLDLYGYTF_CMV:pp65_NLVPMVATV,CASSLDNEKLFF_S-pneumoniae:NA_ECTGLAWEWWRTV,CASSLDPYEQYF_HomoSapiens:CARM1_FAAQAGAWKIY,CASSLDSSNQPQHF_CMV:NA_NA,CASSLEGANYGYTF_HPV:E2-orE5-orE6-orE7_NA,CASSLEGDTEAFF_MCPyV:T-Ag_KLLEIAPNC,CASSLEGSYEQYF_EBV:BZLF1_KLVALGINAV,CASSLEGSYEQYF_HCV:NS3_KLVALGINAV,CASSLETVNTEAFF_CMV:pp65_NLVPMVATV,CASSLETVYGYTF_S-pneumoniae:NA_ECTGLAWEWWRTV,CASSLFGGTEAFF_HomoSapiens:MAA_NA,CASSLGANTGELFF_HomoSapiens:SCML2_LPDHFGLGPV,CASSLGDGNYGYTF_HPV:E2-orE5-orE6-orE7_NA,CASSLGEKLFF_HCV:NS3_KLVALGINAV,CASSLGGAEQFF_HomoSapiens:MAA_NA,CASSLGGDIQYF_HCV:NS3_KLVALGINAV,CASSLGGGPDTQYF_HomoSapiens:PMEL154-162_TAA-KTWGQYWQV,CASSLGGGTDTQYF_HomoSapiens:PMEL154-162_TAA-KTWGQYWQV,CASSLGGNTGELFF_MCPyV:T-Ag_KLLEIAPNC,CASSLGGQPQHF_HomoSapiens:MAA_NA,CASSLGGRTEAFF_HomoSapiens:BPNT1_EAGPDAVLRR,CASSLGGSSYEQYF_HomoSapiens:MLANA27-35_TAA-AAGIGILTV,CASSLGLENEQFF_EBV:BMLF1_GLCTLVAML,CASSLGLLNTEAFF_HomoSapiens:MLANA27-35_TAA-AAGIGILTV,CASSLGLSTDTQYF_HomoSapiens:NCEH1111-119p.G115R_NeoAg-YIHGRGWAL,CASSLGNTEAFF_MCPyV:T-Ag_KLLEIAPNC,CASSLGQAYEQYF_EBV:EBNA3A_FLRGRAYGL,CASSLGQAYEQYF_HomoSapiens:MLANA_EEYLKAWTF,CASSLGQGNSPLHF_CMV:pp65_NLVPMVATV,CASSLGQGNYGYTF_HomoSapiens:MLANA27-35_TAA-AAGIGILTV,CASSLGQLNTEAFF_HomoSapiens:MAA_NA,CASSLGQTNYGYTF_HomoSapiens:KRAS_GADGVGKSAL,CASSLGRGQFF_HCV:NS3_KLVALGINAV,CASSLGTGELFF_CMV:pp65_NLVPMVATV,CASSLIGRDEQFF_EBV:BZLF1_EPLPQGQLTAY,CASSLLDGNTEAFF_HPV:E2-orE5-orE6-orE7_NA,CASSLLGETQYF_EBV:NA_NA,CASSLLLDTQYF_EBV:NA_NA,CASSLLQETQYF_EBV:NA_NA,CASSLLSSNQPQHF_EBV:NA_NA,CASSLMQETQYF_EBV:NA_NA,CASSLQGYEQYF_HPV:E2-orE5-orE6-orE7_NA,CASSLREGETQYF_S-pneumoniae:NA_ECTGLAWEWWRTV,CASSLRGSYEQYV_HomoSapiens:DNMT3A_p-P282S,CASSLRNTGELFF_S-pneumoniae:NA_ECTGLAWEWWRTV,CASSLRRGEQYF_HomoSapiens:MYH6191-198_VIQYFASI,CASSLSDGNYGYTF_HPV:E2-orE5-orE6-orE7_NA,CASSLSFGTEAFF_HomoSapiens:MLANA_ELAGIGILTV_AAGIGILTV,CASSLSGQPQHF_MCPyV:T-Ag_KLLEIAPNC,CASSLSQGTEAFF_HomoSapiens:MAA_NA,CASSLTGGSEAFF_HomoSapiens:LMBRD1_FIFTSIAGIR,CASSLVDGNYGYTF_HPV:E2-orE5-orE6-orE7_NA,CASSLVGTGELFF_CMV:pp65_NLVPMVATV,CASSLWLNEQFF_CMV:pp65_NLVPMVATV,CASSLYQETQYF_EBV:NA_NA,CASSLYTGELFF_HomoSapiens:ZHX2_HPNVILNSLY,CASSMGANEQFF_HCV:NS3_KLVALGINAV,CASSMGGEQYF_HCV:NS3_KLVALGINAV,CASSMGGTYEQYF_HomoSapiens:PMEL_ITDQVPFSV_ILDQVPFSV,CASSMLFQETQYF_HPV:E2-orE5-orE6-orE7_NA,CASSMRSTGELFF_Influenza:M_GILGFVFTL,CASSNGRGTEQFF_S-pneumoniae:NA_ECTGLAWEWWRTV,CASSPARNTEAFF_CMV:pp65_RPHERNGFTV,CASSPDGMNTEAFF_HomoSapiens:TMEM161A_TMEM161A,CASSPEETQYF_M.tuberculosis:CFP10_TAAQAAVVRFQEAAN,CASSPGGATEAFF_HomoSapiens:MAA_NA,CASSPGGELFF_HCV:NS3_KLVALGINAV,CASSPGGETQYF_HomoSapiens:PMEL154-162_TAA-KTWGQYWQV,CASSPGGFEAFF_HomoSapiens:PIK3CA_p-P449T,CASSPGGGNTEAFF_S-pneumoniae:NA_ECTGLAWEWWRTV,CASSPGGNEQFF_HomoSapiens:MAA_NA,CASSPGLAGNEQFF_HomoSapiens:MAA_NA,CASSPGLLTDTQYF_HomoSapiens:MAA_NA,CASSPGLLTDTQYF_HomoSapiens:MLANA27-35_TAA-AAGIGILTV,CASSPGQLNTEAFF_HomoSapiens:MAA_NA,CASSPGQPQHF_HomoSapiens:DCAKD198-207p.S199F_NeoAg-RFLEYLPLRF,CASSPGQRNTEAFF_HomoSapiens:MAA_NA,CASSPGSETQYF_S-pneumoniae:NA_ECTGLAWEWWRTV,CASSPGTENSPLHF_HomoSapiens:KRAS_p-G13D,CASSPGTLTDTQYF_HomoSapiens:MLANA27-35_TAA-AAGIGILTV,CASSPHRNTEAFF_CMV:pp65_RPHERNGFTV,CASSPILQETQYF_HPV:E2-orE5-orE6-orE7_NA,CASSPLQGYEQYF_HPV:E2-orE5-orE6-orE7_NA,CASSPPSSGNTIYF_MCPyV:T-Ag_KLLEIAPNC,CASSPQGLGTEAFF_HomoSapiens:MAA_NA,CASSPQGVNYGYTF_S-pneumoniae:NA_ECTGLAWEWWRTV,CASSPRGDTEAFF_MCPyV:T-Ag_KLLEIAPNC,CASSPRTGNTEAFF_CMV:NA_NA,CASSPRVPNTEAFF_HomoSapiens:HIATL1_p-G380V,CASSPSGGTDTQYF_HomoSapiens:CNOT2_FNGTDGSENVTGFDLSDFPALADRN,CASSPSGLSYEQYF_HomoSapiens:MAA_NA,CASSPSRNTEAFF_CMV:pp65_RPHERNGFTV,CASSPTGVGEQFF_Influenza:M_GILGFVFTL,CASSPWDEQFF_MCPyV:T-Ag_KLLEIAPNC,CASSQDGMNTEAFF_HomoSapiens:TMEM161A_TMEM161A,CASSQDRDTQYF_CMV:UL40_VMAPRTLIL,CASSQETGSYEQFF_EBV:EBNA3A_RPPIFIRRL,CASSQETGSYEQYF_EBV:EBNA3A_RPPIFIRRL,CASSQGGGEQYF_S-pneumoniae:NA_WEWWR,CASSQGNTGELFF_HomoSapiens:KRAS_p-G13D,CASSQGQDTEAFF_HomoSapiens:GLIA-OMEGA1_QPFPQPEQPFP,CASSQGRPSTS_HomoSapiens:MAA_NA,CASSQGSYEQYF_HCV:NS3_KLVALGINAV,CASSQLGYEQYF_HPV:E2-orE5-orE6-orE7_NA,CASSQNTGELFF_HomoSapiens:TYR207-215_TAA-FLPWHRLFL,CASSQQETQYF_CEF:NA_NA,CASSQSSGANVLTF_EBV:EBV_NA,CASSQVGETQYF_MCPyV:T-Ag_KLLEIAPNC,CASSQVGGGEQFF_HomoSapiens:MAA_NA,CASSRADYGYTF_HomoSapiens:SDAD1_MAQMRKELDAAPWKSQKRKYIEIDS,CASSRDGMNTEAFF_HomoSapiens:TMEM161A_TMEM161A,CASSRGDTEAFF_HCV:NS3_KLVALGINAV,CASSRGLNNQPQHF_S-pneumoniae:NA_ECTGLAWEWWRTV,CASSRQGENQPQHF_HomoSapiens:MAGEC2254-262_TAA-NAVGVYAGR,CASSRQGLGTEAFF_HomoSapiens:MAA_NA,CASSRQTNTEAFF_CMV:NA_NA,CASSRTGSTYEQYF_EBV:BZLF1_LPEPLPQGQLTAY,CASSSADGNYGYTF_HPV:E2-orE5-orE6-orE7_NA,CASSSAFYGYTF_CMV:pp65_NLVPMVATV,CASSSANYGYTF_CMV:pp65_NLVPMVATV,CASSSAYYGYTF_CMV:pp65_NLVPMVATV,CASSSDGMNTEAFF_HomoSapiens:TMEM161A_TMEM161A,CASSSGATEAFF_HCV:NS3_KLVALGINAV,CASSSGDGNYGYTF_HPV:E2-orE5-orE6-orE7_NA,CASSSGETQYF_S-pneumoniae:NA_ECTGLAWEWWRTV,CASSSGIYGYTF_CMV:pp65_NLVPMVATV,CASSSGPSYEQYF_HomoSapiens:FLNA_RSSRTLSR,CASSSGQAYEQYF_EBV:EBNA3A_FLRGRAYGL,CASSSLNTEAFF_EBV:BZLF1_RAKFKQLL,CASSSQGGYGYTF_HomoSapiens:MAGE-A6_KVDPIGHVY,CASSSRAAYEQYF_Influenza:M_GILGFVFTL,CASSSRASYEQYF_Influenza:M_GILGFVFTL,CASSSRNSYEQYF_Influenza:NA_NA,CASSSRSSYEQYF_Influenza:M-HA_GILGFVFTL_PKYVKQNTLKLAT,CASSSVNEQFF_CMV:pp65_NLVPMVATV,CASSSVSEAFF_CMV:pp65_NLVPMVATV,CASSTDLNTEAFF_CMV:NA_NA,CASSTGDSNQPQHF_EBV:BZLF1_EPLPQGQLTAY,CASSTGFYGYTF_Influenza:M_GILGFVFTL,CASSTGNEKLFF_CMV:NA_NA,CASSTGNYGYTF_Influenza:M_GILGFVFTL,CASSTGSYGYTF_CMV:pp65_NLVPMVATV,CASSTLFQETQYF_HPV:E2-orE5-orE6-orE7_NA,CASSTRSTGELFF_CMV:pp65_NLVPMVATV,CASSTSTDTQYF_S-pneumoniae:NA_ECTGLAWEWWRTV,CASSVASGTDTQYF_EBV:EBNA3A_FLRGRAYGL,CASSVDGMNTEAFF_HomoSapiens:TMEM161A_TMEM161A,CASSVGQGKAFF_Influenza:HA_PKYVKQNTLKLAT,CASSVGWGGEQFF_EBV:NA_NA,CASSVLFQETQYF_HPV:E2-orE5-orE6-orE7_NA,CASSVLNTGELFF_MCPyV:T-Ag_KLLEIAPNC,CASSVNNEQFF_HPV:E2-orE5-orE6-orE7_NA,CASSVRSTGELFF_Influenza:M_GILGFVFTL,CASSWGGGEQYF_HCV:NS3_KLVALGINAV,CASSWGGNTEAFF_HomoSapiens:ZNF219_CLASLHPR,CASSWGSGANVLTF_HomoSapiens:KPNA2_YLRNLTWTL,CASSYGLAGGEQFF_HomoSapiens:MAA_NA,CASSYGSYEQYF_HCV:NS3_KLVALGINAV,CASSYNNEQFF_HomoSapiens:FLNA_RTWRRTRRGRR,CASSYPGTSQFF_HomoSapiens:MAA_NA,CASSYQGTEAFF_HomoSapiens:TERT_ILAKFLHWL,CASSYRGSGNTIYF_HCV:NS3_KLVALGINAV,CASSYSDGNTEAFF_HPV:E2-orE5-orE6-orE7_NA,CASSYSLNTEAFF_CMV:NA_NA,CASSYSVLNTEAFF_HomoSapiens:MAA_NA,CASSYTGELFF_HCV:NS3_KLVALGINAV,CASTDSNTGELFF_MCPyV:T-Ag_KLLEIAPNC,CASTEGNTEAFF_HomoSapiens:PMEL154-162_TAA-KTWGQYWQV,CASTLQETQYF_EBV:NA_NA,CASTNSGNTIYF_HCV:NS3_KLVALGINAV,CASTPTENTEAFF_CMV:NA_NA,CASTQGSTDTQYF_HCV:NS3_KLVALGINAV,CATGTGDSNQPQHF_EBV:BZLF1_EPLPQGQLTAY,CATRDINTGELFF_MCPyV:T-Ag_KLLEIAPNC,CATRRANEQFF_HomoSapiens:PMEL589-603_TAA-LIMPGQEAGLGQVPL,CATSAGRNEQFF_HomoSapiens:MAA_NA,CATSALGDTQYF_HomoSapiens:MBP_NPVVHFFKNIVTPR,CATSEGNEQFF_CMV:pp65_NLVPMVATV,CATSGTGHSYEQYF_HomoSapiens:PPP2R1A_p-L432S,CATTGGQNTEAFF_HomoSapiens:TP53_NSSCMGGMNLR,CAWAESSYNEQFF_HomoSapiens:TARS_p-E331K,CAWSEQVNTEAFF_HomoSapiens:UBE2I51-60p.P52L_NeoAg-TLWEGGLFKL,CAWSPDGMNTEAFF_HomoSapiens:TMEM161A_TMEM161A,CAWSPVNTEAFF_HomoSapiens:FAM50B72-80p.E78K_NeoAg-DMKARQKAL,CPSSSGDGNYGYTF_HPV:E2-orE5-orE6-orE7_NA,CSADLNTEAFF_HomoSapiens:C2orf16_TLIDVPKV,CSAEQGANTGELFF_HomoSapiens:PMEL154-162_TAA-KTWGQYWQV,CSARGADTQYF_CMV:pp65_NLVPMVATV,CSARTGYNEQFF_MCPyV:T-Ag_KLLEIAPNC,CSASEGAYGYTF_S-pneumoniae:NA_ECTGLAWEWWRTV,CSASMRDEQYF_S-pneumoniae:NA_ECTGLAWEWWRTV,CSATGGTGNTIYF_EBV:NA_NA,CSVEGDTGELFF_CMV:pp65_NLVPMVATV,CSVEGTENTGELFF_EBV:NA_NA,CSVGGAYEQYF_EBV:EBNA3A_RPPIFIRRL,CSVPLTGNTEAFF_EBV:NA_NA,CSVVDRGYGYTF_EBV:NA_NA,CTSSPILQETQYF_HPV:E2-orE5-orE6-orE7_NA,YASSLTGGTEAFF_HomoSapiens:MAA_NA</td><td>CHP_353_X01-PBMC</td><td>CHP_353</td><td>X01</td><td>CAGSLGINEQFF_Leukemia   </td><td>CAGSLGINEQFF  </td><td>Leukemia   </td><td>  1</td><td>1.0e-09</td></tr>\n",
       "\t<tr><td>1</td><td>17492</td><td>CAIGDGNQPQHF_Solidtumors:CHP_363_X01-PBMC</td><td>8263</td><td>115</td><td>cfDNA,PBMC,Tumor</td><td>X00,X01,X02,X03,X04,X05</td><td>6</td><td>CEF,CMV,EBV,HCV,HomoSapiens,HPV,Influenza,Leukemia,LFS,Lymphoma,M.tuberculosis,MCPyV,MDavis,Normal,S-pneumoniae,Solidtumors,T-cellmalignancies</td><td>CACSVLNTGELFF_MCPyV:T-Ag_KLLEIAPNC,CAGSQDGMNTEAFF_HomoSapiens:TMEM161A_TMEM161A,CAIRDSNTGELFF_MCPyV:T-Ag_KLLEIAPNC,CAIRGQNTGELFF_MCPyV:T-Ag_KLLEIAPNC,CAISEDGMNTEAFF_HomoSapiens:TMEM161A_TMEM161A,CAISGEGNTEAFF_CMV:NA_NA,CAISSGGADTQYF_S-pneumoniae:NA_ECTGLAWEWWRTV,CAISTGDSNQPQHF_EBV:BZLF1_EPLPQGQLTAY,CANSQPGGIEQFF_EBV:BZLF1_EPLPQGQLTAY,CARSVLNTGELFF_MCPyV:T-Ag_KLLEIAPNC,CASDSNTEAFF_HCV:NS3_KLVALGINAV,CASGQGQETQYF_HCV:NS3_KLVALGINAV,CASGTGDSNQPQHF_EBV:BZLF1_EPLPQGQLTAY,CASIRGYEQYF_HomoSapiens:MAA_NA,CASQGGTEAFF_HomoSapiens:MAA_NA,CASRDGDEQYF_S-pneumoniae:NA_ECTGLAWEWWRTV,CASRDQNTGELFF_MCPyV:T-Ag_KLLEIAPNC,CASRDSSSYEQYF_HomoSapiens:PLECp.P3283S_NeoAg-GGIVDSSKSHRVPLD,CASRGGFNEKLFF_CMV:NA_NA,CASRGGSSYNEQFF_MCPyV:T-Ag_KLLEIAPNC,CASRGQNTGELFF_MCPyV:T-Ag_KLLEIAPNC,CASRIGNTGELFF_HomoSapiens:KRAS_p-G13D,CASRQGGQPQHF_HomoSapiens:MAA_NA,CASRQGNTGELFF_HomoSapiens:KRAS_p-G13D,CASRRGPYEQYF_HCV:NS3_KLVALGINAV-orKLVALVINAV,CASRRSNQPQHF_HomoSapiens:CMKLR1_FLEDLSPL,CASSAGAEQYF_HomoSapiens:PIK3CA_p-P449T,CASSASNYGYTF_HomoSapiens:DDX18_VKYHYELLNYIDMPVLAIHGKQKQN,CASSDALQETQYF_CMV:pp65_NLVPMVATV,CASSDDRGPYEQYF_HCV:NS3_KLVALGINAV,CASSDGGEQYF_S-pneumoniae:NA_GLAWEWWRTV,CASSDGGVKYF_S-pneumoniae:NA_ECTGLAWEWWRTV,CASSDGVGTEAFF_HomoSapiens:RPS9p.P68S_NeoAg-AARELLTLDEKDSRRLFE,CASSDPGTEAFF_HomoSapiens:KRAS_GADGVGKSAL,CASSDSYGYTF_HCV:NS3_KLVALGINAV,CASSDYYEQYF_S-pneumoniae:NA_ECTGLAWEWWRTV,CASSEDGMNTEAFF_HomoSapiens:TMEM161A_TMEM161A,CASSEGDTEAFF_HCV:NS3_KLVALGINAV,CASSEGQGNSPLHF_MCPyV:T-Ag_KLLEIAPNC,CASSEGQSYEQYF_MCPyV:T-Ag_KLLEIAPNC,CASSESGRNTEAFX_S-pneumoniae:NA_ECTGLAWEWWRTV,CASSFDRGYGYTF_HomoSapiens:MAGE-A6_NA,CASSFGADTQYF_HCV:NS3_KLVALGINAV,CASSFGGAYEQYF_HomoSapiens:MED13_VQIISCQY,CASSFGGEQFF_HomoSapiens:DOPEY2_FRFSMIWHL,CASSFGSEQYF_MCPyV:T-Ag_KLLEIAPNC,CASSFGSYEQYF_HomoSapiens:NUP214_SVYWSPKGK,CASSFIGGTDTQYF_HomoSapiens:gp100_YLEPGPVTA,CASSFLGTGELFF_HomoSapiens:TARS_p-E331K,CASSFQGFTEAFF_CMV:pp65_NLVPMVATV,CASSFQGYTEAFF_CMV:pp65_NLVPMVATV,CASSFTLNTEAFF_CMV:NA_NA,CASSFWGNTEAFF_HomoSapiens:FAM135A_AGASSIWYR,CASSGDGMNTEAFF_HomoSapiens:TMEM161A_TMEM161A,CASSGENTEAFF_CMV:NA_NA,CASSGQNTGELFF_MCPyV:T-Ag_KLLEIAPNC,CASSGTHNEQFF_EBV:EBNA3A_RPPIFIRRL,CASSGYTGELFF_HCV:NS3_KLVALGINAV,CASSHAGRNTEAFF_HomoSapiens:MAA_NA,CASSHQTGELFF_CMV:pp65_NLVPMVATV,CASSHREGETQYF_S-pneumoniae:NA_ECTGLAWEWWRTV,CASSIGGDYGYTF_HomoSapiens:MLANA27-35_TAA-AAGIGILTV,CASSIGQYEQYF_HCV:NS3_KLVALGINAV,CASSIGVGTEQYF_HomoSapiens:MAA_NA,CASSIGVYGYTF_Influenza:M_GILGFVFTL,CASSIRASYEQYF_Influenza:M_GILGFVFTL,CASSIRSAHEQFF_Influenza:M_GILGFVFTL,CASSIRSSYEQYF_Influenza:M_GILGFVFTL,CASSIRSTDTQYF_Influenza:M_GILGFVFTL,CASSIRSTGELFF_Influenza:M_GILGFVFTL,CASSITLNTEAFF_CMV:NA_NA,CASSLAADTQYF_EBV:NA_NA,CASSLAGDRYF_MCPyV:T-Ag_KLLEIAPNC,CASSLAGDYEQYF_CMV:pp65_NLVPMVATV,CASSLAGFRFF_MCPyV:T-Ag_KLLEIAPNC,CASSLAGFTGELFF_CMV:pp65_NLVPMVATV,CASSLAGPETQYF_HomoSapiens:TP53_p-T172I,CASSLAQGTDTQYF_HomoSapiens:LAMC1p.S1509F_NeoAg-KAKNFVTSLLSIIND,CASSLATGGEQFF_EBV:NA_NA,CASSLDENTEAFF_CMV:NA_NA,CASSLDGMNTEAFF_HomoSapiens:TMEM161A_TMEM161A,CASSLDLYGYTF_CMV:pp65_NLVPMVATV,CASSLDNEKLFF_S-pneumoniae:NA_ECTGLAWEWWRTV,CASSLDPYEQYF_HomoSapiens:CARM1_FAAQAGAWKIY,CASSLDSSNQPQHF_CMV:NA_NA,CASSLEGANYGYTF_HPV:E2-orE5-orE6-orE7_NA,CASSLEGDTEAFF_MCPyV:T-Ag_KLLEIAPNC,CASSLEGSYEQYF_EBV:BZLF1_KLVALGINAV,CASSLEGSYEQYF_HCV:NS3_KLVALGINAV,CASSLETVNTEAFF_CMV:pp65_NLVPMVATV,CASSLETVYGYTF_S-pneumoniae:NA_ECTGLAWEWWRTV,CASSLFGGTEAFF_HomoSapiens:MAA_NA,CASSLGANTGELFF_HomoSapiens:SCML2_LPDHFGLGPV,CASSLGDGNYGYTF_HPV:E2-orE5-orE6-orE7_NA,CASSLGEKLFF_HCV:NS3_KLVALGINAV,CASSLGGAEQFF_HomoSapiens:MAA_NA,CASSLGGDIQYF_HCV:NS3_KLVALGINAV,CASSLGGGPDTQYF_HomoSapiens:PMEL154-162_TAA-KTWGQYWQV,CASSLGGGTDTQYF_HomoSapiens:PMEL154-162_TAA-KTWGQYWQV,CASSLGGNTGELFF_MCPyV:T-Ag_KLLEIAPNC,CASSLGGQPQHF_HomoSapiens:MAA_NA,CASSLGGRTEAFF_HomoSapiens:BPNT1_EAGPDAVLRR,CASSLGGSSYEQYF_HomoSapiens:MLANA27-35_TAA-AAGIGILTV,CASSLGLENEQFF_EBV:BMLF1_GLCTLVAML,CASSLGLLNTEAFF_HomoSapiens:MLANA27-35_TAA-AAGIGILTV,CASSLGLSTDTQYF_HomoSapiens:NCEH1111-119p.G115R_NeoAg-YIHGRGWAL,CASSLGNTEAFF_MCPyV:T-Ag_KLLEIAPNC,CASSLGQAYEQYF_EBV:EBNA3A_FLRGRAYGL,CASSLGQAYEQYF_HomoSapiens:MLANA_EEYLKAWTF,CASSLGQGNSPLHF_CMV:pp65_NLVPMVATV,CASSLGQGNYGYTF_HomoSapiens:MLANA27-35_TAA-AAGIGILTV,CASSLGQLNTEAFF_HomoSapiens:MAA_NA,CASSLGQTNYGYTF_HomoSapiens:KRAS_GADGVGKSAL,CASSLGRGQFF_HCV:NS3_KLVALGINAV,CASSLGTGELFF_CMV:pp65_NLVPMVATV,CASSLIGRDEQFF_EBV:BZLF1_EPLPQGQLTAY,CASSLLDGNTEAFF_HPV:E2-orE5-orE6-orE7_NA,CASSLLGETQYF_EBV:NA_NA,CASSLLLDTQYF_EBV:NA_NA,CASSLLQETQYF_EBV:NA_NA,CASSLLSSNQPQHF_EBV:NA_NA,CASSLMQETQYF_EBV:NA_NA,CASSLQGYEQYF_HPV:E2-orE5-orE6-orE7_NA,CASSLREGETQYF_S-pneumoniae:NA_ECTGLAWEWWRTV,CASSLRGSYEQYV_HomoSapiens:DNMT3A_p-P282S,CASSLRNTGELFF_S-pneumoniae:NA_ECTGLAWEWWRTV,CASSLRRGEQYF_HomoSapiens:MYH6191-198_VIQYFASI,CASSLSDGNYGYTF_HPV:E2-orE5-orE6-orE7_NA,CASSLSFGTEAFF_HomoSapiens:MLANA_ELAGIGILTV_AAGIGILTV,CASSLSGQPQHF_MCPyV:T-Ag_KLLEIAPNC,CASSLSQGTEAFF_HomoSapiens:MAA_NA,CASSLTGGSEAFF_HomoSapiens:LMBRD1_FIFTSIAGIR,CASSLVDGNYGYTF_HPV:E2-orE5-orE6-orE7_NA,CASSLVGTGELFF_CMV:pp65_NLVPMVATV,CASSLWLNEQFF_CMV:pp65_NLVPMVATV,CASSLYQETQYF_EBV:NA_NA,CASSLYTGELFF_HomoSapiens:ZHX2_HPNVILNSLY,CASSMGANEQFF_HCV:NS3_KLVALGINAV,CASSMGGEQYF_HCV:NS3_KLVALGINAV,CASSMGGTYEQYF_HomoSapiens:PMEL_ITDQVPFSV_ILDQVPFSV,CASSMLFQETQYF_HPV:E2-orE5-orE6-orE7_NA,CASSMRSTGELFF_Influenza:M_GILGFVFTL,CASSNGRGTEQFF_S-pneumoniae:NA_ECTGLAWEWWRTV,CASSPARNTEAFF_CMV:pp65_RPHERNGFTV,CASSPDGMNTEAFF_HomoSapiens:TMEM161A_TMEM161A,CASSPEETQYF_M.tuberculosis:CFP10_TAAQAAVVRFQEAAN,CASSPGGATEAFF_HomoSapiens:MAA_NA,CASSPGGELFF_HCV:NS3_KLVALGINAV,CASSPGGETQYF_HomoSapiens:PMEL154-162_TAA-KTWGQYWQV,CASSPGGFEAFF_HomoSapiens:PIK3CA_p-P449T,CASSPGGGNTEAFF_S-pneumoniae:NA_ECTGLAWEWWRTV,CASSPGGNEQFF_HomoSapiens:MAA_NA,CASSPGLAGNEQFF_HomoSapiens:MAA_NA,CASSPGLLTDTQYF_HomoSapiens:MAA_NA,CASSPGLLTDTQYF_HomoSapiens:MLANA27-35_TAA-AAGIGILTV,CASSPGQLNTEAFF_HomoSapiens:MAA_NA,CASSPGQPQHF_HomoSapiens:DCAKD198-207p.S199F_NeoAg-RFLEYLPLRF,CASSPGQRNTEAFF_HomoSapiens:MAA_NA,CASSPGSETQYF_S-pneumoniae:NA_ECTGLAWEWWRTV,CASSPGTENSPLHF_HomoSapiens:KRAS_p-G13D,CASSPGTLTDTQYF_HomoSapiens:MLANA27-35_TAA-AAGIGILTV,CASSPHRNTEAFF_CMV:pp65_RPHERNGFTV,CASSPILQETQYF_HPV:E2-orE5-orE6-orE7_NA,CASSPLQGYEQYF_HPV:E2-orE5-orE6-orE7_NA,CASSPPSSGNTIYF_MCPyV:T-Ag_KLLEIAPNC,CASSPQGLGTEAFF_HomoSapiens:MAA_NA,CASSPQGVNYGYTF_S-pneumoniae:NA_ECTGLAWEWWRTV,CASSPRGDTEAFF_MCPyV:T-Ag_KLLEIAPNC,CASSPRTGNTEAFF_CMV:NA_NA,CASSPRVPNTEAFF_HomoSapiens:HIATL1_p-G380V,CASSPSGGTDTQYF_HomoSapiens:CNOT2_FNGTDGSENVTGFDLSDFPALADRN,CASSPSGLSYEQYF_HomoSapiens:MAA_NA,CASSPSRNTEAFF_CMV:pp65_RPHERNGFTV,CASSPTGVGEQFF_Influenza:M_GILGFVFTL,CASSPWDEQFF_MCPyV:T-Ag_KLLEIAPNC,CASSQDGMNTEAFF_HomoSapiens:TMEM161A_TMEM161A,CASSQDRDTQYF_CMV:UL40_VMAPRTLIL,CASSQETGSYEQFF_EBV:EBNA3A_RPPIFIRRL,CASSQETGSYEQYF_EBV:EBNA3A_RPPIFIRRL,CASSQGGGEQYF_S-pneumoniae:NA_WEWWR,CASSQGNTGELFF_HomoSapiens:KRAS_p-G13D,CASSQGQDTEAFF_HomoSapiens:GLIA-OMEGA1_QPFPQPEQPFP,CASSQGRPSTS_HomoSapiens:MAA_NA,CASSQGSYEQYF_HCV:NS3_KLVALGINAV,CASSQLGYEQYF_HPV:E2-orE5-orE6-orE7_NA,CASSQNTGELFF_HomoSapiens:TYR207-215_TAA-FLPWHRLFL,CASSQQETQYF_CEF:NA_NA,CASSQSSGANVLTF_EBV:EBV_NA,CASSQVGETQYF_MCPyV:T-Ag_KLLEIAPNC,CASSQVGGGEQFF_HomoSapiens:MAA_NA,CASSRADYGYTF_HomoSapiens:SDAD1_MAQMRKELDAAPWKSQKRKYIEIDS,CASSRDGMNTEAFF_HomoSapiens:TMEM161A_TMEM161A,CASSRGDTEAFF_HCV:NS3_KLVALGINAV,CASSRGLNNQPQHF_S-pneumoniae:NA_ECTGLAWEWWRTV,CASSRQGENQPQHF_HomoSapiens:MAGEC2254-262_TAA-NAVGVYAGR,CASSRQGLGTEAFF_HomoSapiens:MAA_NA,CASSRQTNTEAFF_CMV:NA_NA,CASSRTGSTYEQYF_EBV:BZLF1_LPEPLPQGQLTAY,CASSSADGNYGYTF_HPV:E2-orE5-orE6-orE7_NA,CASSSAFYGYTF_CMV:pp65_NLVPMVATV,CASSSANYGYTF_CMV:pp65_NLVPMVATV,CASSSAYYGYTF_CMV:pp65_NLVPMVATV,CASSSDGMNTEAFF_HomoSapiens:TMEM161A_TMEM161A,CASSSGATEAFF_HCV:NS3_KLVALGINAV,CASSSGDGNYGYTF_HPV:E2-orE5-orE6-orE7_NA,CASSSGETQYF_S-pneumoniae:NA_ECTGLAWEWWRTV,CASSSGIYGYTF_CMV:pp65_NLVPMVATV,CASSSGPSYEQYF_HomoSapiens:FLNA_RSSRTLSR,CASSSGQAYEQYF_EBV:EBNA3A_FLRGRAYGL,CASSSLNTEAFF_EBV:BZLF1_RAKFKQLL,CASSSQGGYGYTF_HomoSapiens:MAGE-A6_KVDPIGHVY,CASSSRAAYEQYF_Influenza:M_GILGFVFTL,CASSSRASYEQYF_Influenza:M_GILGFVFTL,CASSSRNSYEQYF_Influenza:NA_NA,CASSSRSSYEQYF_Influenza:M-HA_GILGFVFTL_PKYVKQNTLKLAT,CASSSVNEQFF_CMV:pp65_NLVPMVATV,CASSSVSEAFF_CMV:pp65_NLVPMVATV,CASSTDLNTEAFF_CMV:NA_NA,CASSTGDSNQPQHF_EBV:BZLF1_EPLPQGQLTAY,CASSTGFYGYTF_Influenza:M_GILGFVFTL,CASSTGNEKLFF_CMV:NA_NA,CASSTGNYGYTF_Influenza:M_GILGFVFTL,CASSTGSYGYTF_CMV:pp65_NLVPMVATV,CASSTLFQETQYF_HPV:E2-orE5-orE6-orE7_NA,CASSTRSTGELFF_CMV:pp65_NLVPMVATV,CASSTSTDTQYF_S-pneumoniae:NA_ECTGLAWEWWRTV,CASSVASGTDTQYF_EBV:EBNA3A_FLRGRAYGL,CASSVDGMNTEAFF_HomoSapiens:TMEM161A_TMEM161A,CASSVGQGKAFF_Influenza:HA_PKYVKQNTLKLAT,CASSVGWGGEQFF_EBV:NA_NA,CASSVLFQETQYF_HPV:E2-orE5-orE6-orE7_NA,CASSVLNTGELFF_MCPyV:T-Ag_KLLEIAPNC,CASSVNNEQFF_HPV:E2-orE5-orE6-orE7_NA,CASSVRSTGELFF_Influenza:M_GILGFVFTL,CASSWGGGEQYF_HCV:NS3_KLVALGINAV,CASSWGGNTEAFF_HomoSapiens:ZNF219_CLASLHPR,CASSWGSGANVLTF_HomoSapiens:KPNA2_YLRNLTWTL,CASSYGLAGGEQFF_HomoSapiens:MAA_NA,CASSYGSYEQYF_HCV:NS3_KLVALGINAV,CASSYNNEQFF_HomoSapiens:FLNA_RTWRRTRRGRR,CASSYPGTSQFF_HomoSapiens:MAA_NA,CASSYQGTEAFF_HomoSapiens:TERT_ILAKFLHWL,CASSYRGSGNTIYF_HCV:NS3_KLVALGINAV,CASSYSDGNTEAFF_HPV:E2-orE5-orE6-orE7_NA,CASSYSLNTEAFF_CMV:NA_NA,CASSYSVLNTEAFF_HomoSapiens:MAA_NA,CASSYTGELFF_HCV:NS3_KLVALGINAV,CASTDSNTGELFF_MCPyV:T-Ag_KLLEIAPNC,CASTEGNTEAFF_HomoSapiens:PMEL154-162_TAA-KTWGQYWQV,CASTLQETQYF_EBV:NA_NA,CASTNSGNTIYF_HCV:NS3_KLVALGINAV,CASTPTENTEAFF_CMV:NA_NA,CASTQGSTDTQYF_HCV:NS3_KLVALGINAV,CATGTGDSNQPQHF_EBV:BZLF1_EPLPQGQLTAY,CATRDINTGELFF_MCPyV:T-Ag_KLLEIAPNC,CATRRANEQFF_HomoSapiens:PMEL589-603_TAA-LIMPGQEAGLGQVPL,CATSAGRNEQFF_HomoSapiens:MAA_NA,CATSALGDTQYF_HomoSapiens:MBP_NPVVHFFKNIVTPR,CATSEGNEQFF_CMV:pp65_NLVPMVATV,CATSGTGHSYEQYF_HomoSapiens:PPP2R1A_p-L432S,CATTGGQNTEAFF_HomoSapiens:TP53_NSSCMGGMNLR,CAWAESSYNEQFF_HomoSapiens:TARS_p-E331K,CAWSEQVNTEAFF_HomoSapiens:UBE2I51-60p.P52L_NeoAg-TLWEGGLFKL,CAWSPDGMNTEAFF_HomoSapiens:TMEM161A_TMEM161A,CAWSPVNTEAFF_HomoSapiens:FAM50B72-80p.E78K_NeoAg-DMKARQKAL,CPSSSGDGNYGYTF_HPV:E2-orE5-orE6-orE7_NA,CSADLNTEAFF_HomoSapiens:C2orf16_TLIDVPKV,CSAEQGANTGELFF_HomoSapiens:PMEL154-162_TAA-KTWGQYWQV,CSARGADTQYF_CMV:pp65_NLVPMVATV,CSARTGYNEQFF_MCPyV:T-Ag_KLLEIAPNC,CSASEGAYGYTF_S-pneumoniae:NA_ECTGLAWEWWRTV,CSASMRDEQYF_S-pneumoniae:NA_ECTGLAWEWWRTV,CSATGGTGNTIYF_EBV:NA_NA,CSVEGDTGELFF_CMV:pp65_NLVPMVATV,CSVEGTENTGELFF_EBV:NA_NA,CSVGGAYEQYF_EBV:EBNA3A_RPPIFIRRL,CSVPLTGNTEAFF_EBV:NA_NA,CSVVDRGYGYTF_EBV:NA_NA,CTSSPILQETQYF_HPV:E2-orE5-orE6-orE7_NA,YASSLTGGTEAFF_HomoSapiens:MAA_NA</td><td>CHP_363_X01-PBMC</td><td>CHP_363</td><td>X01</td><td>CAIGDGNQPQHF_Solidtumors</td><td>CAIGDGNQPQHF  </td><td>Solidtumors</td><td>125</td><td>8.9e-03</td></tr>\n",
       "</tbody>\n",
       "</table>\n"
      ],
      "text/latex": [
       "A tibble: 6 x 18\n",
       "\\begin{tabular}{llllllllllllllllll}\n",
       " Component\\_id & Component\\_size & PatientDerived\\_Nodes & NumberOf\\_PatientDerived\\_Nodes & Number\\_of\\_Patients & Sample\\_Type\\_Range & Timepoint\\_Range & Number\\_of\\_Timepoints & Component\\_specificity & KnownExternalTCRs & basename & Patient & cycle & cancergroup\\_cdr3 & cdr3 & cancergroup & cloneCount & Fisher\\_score\\\\\n",
       " <int> & <int> & <chr> & <int> & <int> & <chr> & <chr> & <int> & <chr> & <chr> & <chr> & <chr> & <chr> & <chr> & <chr> & <chr> & <int> & <dbl>\\\\\n",
       "\\hline\n",
       "\t 1 & 17492 & CAASSGANEQFF\\_Solidtumors:CHP\\_404\\_X01-PBMC & 8263 & 115 & cfDNA,PBMC,Tumor & X00,X01,X02,X03,X04,X05 & 6 & CEF,CMV,EBV,HCV,HomoSapiens,HPV,Influenza,Leukemia,LFS,Lymphoma,M.tuberculosis,MCPyV,MDavis,Normal,S-pneumoniae,Solidtumors,T-cellmalignancies & CACSVLNTGELFF\\_MCPyV:T-Ag\\_KLLEIAPNC,CAGSQDGMNTEAFF\\_HomoSapiens:TMEM161A\\_TMEM161A,CAIRDSNTGELFF\\_MCPyV:T-Ag\\_KLLEIAPNC,CAIRGQNTGELFF\\_MCPyV:T-Ag\\_KLLEIAPNC,CAISEDGMNTEAFF\\_HomoSapiens:TMEM161A\\_TMEM161A,CAISGEGNTEAFF\\_CMV:NA\\_NA,CAISSGGADTQYF\\_S-pneumoniae:NA\\_ECTGLAWEWWRTV,CAISTGDSNQPQHF\\_EBV:BZLF1\\_EPLPQGQLTAY,CANSQPGGIEQFF\\_EBV:BZLF1\\_EPLPQGQLTAY,CARSVLNTGELFF\\_MCPyV:T-Ag\\_KLLEIAPNC,CASDSNTEAFF\\_HCV:NS3\\_KLVALGINAV,CASGQGQETQYF\\_HCV:NS3\\_KLVALGINAV,CASGTGDSNQPQHF\\_EBV:BZLF1\\_EPLPQGQLTAY,CASIRGYEQYF\\_HomoSapiens:MAA\\_NA,CASQGGTEAFF\\_HomoSapiens:MAA\\_NA,CASRDGDEQYF\\_S-pneumoniae:NA\\_ECTGLAWEWWRTV,CASRDQNTGELFF\\_MCPyV:T-Ag\\_KLLEIAPNC,CASRDSSSYEQYF\\_HomoSapiens:PLECp.P3283S\\_NeoAg-GGIVDSSKSHRVPLD,CASRGGFNEKLFF\\_CMV:NA\\_NA,CASRGGSSYNEQFF\\_MCPyV:T-Ag\\_KLLEIAPNC,CASRGQNTGELFF\\_MCPyV:T-Ag\\_KLLEIAPNC,CASRIGNTGELFF\\_HomoSapiens:KRAS\\_p-G13D,CASRQGGQPQHF\\_HomoSapiens:MAA\\_NA,CASRQGNTGELFF\\_HomoSapiens:KRAS\\_p-G13D,CASRRGPYEQYF\\_HCV:NS3\\_KLVALGINAV-orKLVALVINAV,CASRRSNQPQHF\\_HomoSapiens:CMKLR1\\_FLEDLSPL,CASSAGAEQYF\\_HomoSapiens:PIK3CA\\_p-P449T,CASSASNYGYTF\\_HomoSapiens:DDX18\\_VKYHYELLNYIDMPVLAIHGKQKQN,CASSDALQETQYF\\_CMV:pp65\\_NLVPMVATV,CASSDDRGPYEQYF\\_HCV:NS3\\_KLVALGINAV,CASSDGGEQYF\\_S-pneumoniae:NA\\_GLAWEWWRTV,CASSDGGVKYF\\_S-pneumoniae:NA\\_ECTGLAWEWWRTV,CASSDGVGTEAFF\\_HomoSapiens:RPS9p.P68S\\_NeoAg-AARELLTLDEKDSRRLFE,CASSDPGTEAFF\\_HomoSapiens:KRAS\\_GADGVGKSAL,CASSDSYGYTF\\_HCV:NS3\\_KLVALGINAV,CASSDYYEQYF\\_S-pneumoniae:NA\\_ECTGLAWEWWRTV,CASSEDGMNTEAFF\\_HomoSapiens:TMEM161A\\_TMEM161A,CASSEGDTEAFF\\_HCV:NS3\\_KLVALGINAV,CASSEGQGNSPLHF\\_MCPyV:T-Ag\\_KLLEIAPNC,CASSEGQSYEQYF\\_MCPyV:T-Ag\\_KLLEIAPNC,CASSESGRNTEAFX\\_S-pneumoniae:NA\\_ECTGLAWEWWRTV,CASSFDRGYGYTF\\_HomoSapiens:MAGE-A6\\_NA,CASSFGADTQYF\\_HCV:NS3\\_KLVALGINAV,CASSFGGAYEQYF\\_HomoSapiens:MED13\\_VQIISCQY,CASSFGGEQFF\\_HomoSapiens:DOPEY2\\_FRFSMIWHL,CASSFGSEQYF\\_MCPyV:T-Ag\\_KLLEIAPNC,CASSFGSYEQYF\\_HomoSapiens:NUP214\\_SVYWSPKGK,CASSFIGGTDTQYF\\_HomoSapiens:gp100\\_YLEPGPVTA,CASSFLGTGELFF\\_HomoSapiens:TARS\\_p-E331K,CASSFQGFTEAFF\\_CMV:pp65\\_NLVPMVATV,CASSFQGYTEAFF\\_CMV:pp65\\_NLVPMVATV,CASSFTLNTEAFF\\_CMV:NA\\_NA,CASSFWGNTEAFF\\_HomoSapiens:FAM135A\\_AGASSIWYR,CASSGDGMNTEAFF\\_HomoSapiens:TMEM161A\\_TMEM161A,CASSGENTEAFF\\_CMV:NA\\_NA,CASSGQNTGELFF\\_MCPyV:T-Ag\\_KLLEIAPNC,CASSGTHNEQFF\\_EBV:EBNA3A\\_RPPIFIRRL,CASSGYTGELFF\\_HCV:NS3\\_KLVALGINAV,CASSHAGRNTEAFF\\_HomoSapiens:MAA\\_NA,CASSHQTGELFF\\_CMV:pp65\\_NLVPMVATV,CASSHREGETQYF\\_S-pneumoniae:NA\\_ECTGLAWEWWRTV,CASSIGGDYGYTF\\_HomoSapiens:MLANA27-35\\_TAA-AAGIGILTV,CASSIGQYEQYF\\_HCV:NS3\\_KLVALGINAV,CASSIGVGTEQYF\\_HomoSapiens:MAA\\_NA,CASSIGVYGYTF\\_Influenza:M\\_GILGFVFTL,CASSIRASYEQYF\\_Influenza:M\\_GILGFVFTL,CASSIRSAHEQFF\\_Influenza:M\\_GILGFVFTL,CASSIRSSYEQYF\\_Influenza:M\\_GILGFVFTL,CASSIRSTDTQYF\\_Influenza:M\\_GILGFVFTL,CASSIRSTGELFF\\_Influenza:M\\_GILGFVFTL,CASSITLNTEAFF\\_CMV:NA\\_NA,CASSLAADTQYF\\_EBV:NA\\_NA,CASSLAGDRYF\\_MCPyV:T-Ag\\_KLLEIAPNC,CASSLAGDYEQYF\\_CMV:pp65\\_NLVPMVATV,CASSLAGFRFF\\_MCPyV:T-Ag\\_KLLEIAPNC,CASSLAGFTGELFF\\_CMV:pp65\\_NLVPMVATV,CASSLAGPETQYF\\_HomoSapiens:TP53\\_p-T172I,CASSLAQGTDTQYF\\_HomoSapiens:LAMC1p.S1509F\\_NeoAg-KAKNFVTSLLSIIND,CASSLATGGEQFF\\_EBV:NA\\_NA,CASSLDENTEAFF\\_CMV:NA\\_NA,CASSLDGMNTEAFF\\_HomoSapiens:TMEM161A\\_TMEM161A,CASSLDLYGYTF\\_CMV:pp65\\_NLVPMVATV,CASSLDNEKLFF\\_S-pneumoniae:NA\\_ECTGLAWEWWRTV,CASSLDPYEQYF\\_HomoSapiens:CARM1\\_FAAQAGAWKIY,CASSLDSSNQPQHF\\_CMV:NA\\_NA,CASSLEGANYGYTF\\_HPV:E2-orE5-orE6-orE7\\_NA,CASSLEGDTEAFF\\_MCPyV:T-Ag\\_KLLEIAPNC,CASSLEGSYEQYF\\_EBV:BZLF1\\_KLVALGINAV,CASSLEGSYEQYF\\_HCV:NS3\\_KLVALGINAV,CASSLETVNTEAFF\\_CMV:pp65\\_NLVPMVATV,CASSLETVYGYTF\\_S-pneumoniae:NA\\_ECTGLAWEWWRTV,CASSLFGGTEAFF\\_HomoSapiens:MAA\\_NA,CASSLGANTGELFF\\_HomoSapiens:SCML2\\_LPDHFGLGPV,CASSLGDGNYGYTF\\_HPV:E2-orE5-orE6-orE7\\_NA,CASSLGEKLFF\\_HCV:NS3\\_KLVALGINAV,CASSLGGAEQFF\\_HomoSapiens:MAA\\_NA,CASSLGGDIQYF\\_HCV:NS3\\_KLVALGINAV,CASSLGGGPDTQYF\\_HomoSapiens:PMEL154-162\\_TAA-KTWGQYWQV,CASSLGGGTDTQYF\\_HomoSapiens:PMEL154-162\\_TAA-KTWGQYWQV,CASSLGGNTGELFF\\_MCPyV:T-Ag\\_KLLEIAPNC,CASSLGGQPQHF\\_HomoSapiens:MAA\\_NA,CASSLGGRTEAFF\\_HomoSapiens:BPNT1\\_EAGPDAVLRR,CASSLGGSSYEQYF\\_HomoSapiens:MLANA27-35\\_TAA-AAGIGILTV,CASSLGLENEQFF\\_EBV:BMLF1\\_GLCTLVAML,CASSLGLLNTEAFF\\_HomoSapiens:MLANA27-35\\_TAA-AAGIGILTV,CASSLGLSTDTQYF\\_HomoSapiens:NCEH1111-119p.G115R\\_NeoAg-YIHGRGWAL,CASSLGNTEAFF\\_MCPyV:T-Ag\\_KLLEIAPNC,CASSLGQAYEQYF\\_EBV:EBNA3A\\_FLRGRAYGL,CASSLGQAYEQYF\\_HomoSapiens:MLANA\\_EEYLKAWTF,CASSLGQGNSPLHF\\_CMV:pp65\\_NLVPMVATV,CASSLGQGNYGYTF\\_HomoSapiens:MLANA27-35\\_TAA-AAGIGILTV,CASSLGQLNTEAFF\\_HomoSapiens:MAA\\_NA,CASSLGQTNYGYTF\\_HomoSapiens:KRAS\\_GADGVGKSAL,CASSLGRGQFF\\_HCV:NS3\\_KLVALGINAV,CASSLGTGELFF\\_CMV:pp65\\_NLVPMVATV,CASSLIGRDEQFF\\_EBV:BZLF1\\_EPLPQGQLTAY,CASSLLDGNTEAFF\\_HPV:E2-orE5-orE6-orE7\\_NA,CASSLLGETQYF\\_EBV:NA\\_NA,CASSLLLDTQYF\\_EBV:NA\\_NA,CASSLLQETQYF\\_EBV:NA\\_NA,CASSLLSSNQPQHF\\_EBV:NA\\_NA,CASSLMQETQYF\\_EBV:NA\\_NA,CASSLQGYEQYF\\_HPV:E2-orE5-orE6-orE7\\_NA,CASSLREGETQYF\\_S-pneumoniae:NA\\_ECTGLAWEWWRTV,CASSLRGSYEQYV\\_HomoSapiens:DNMT3A\\_p-P282S,CASSLRNTGELFF\\_S-pneumoniae:NA\\_ECTGLAWEWWRTV,CASSLRRGEQYF\\_HomoSapiens:MYH6191-198\\_VIQYFASI,CASSLSDGNYGYTF\\_HPV:E2-orE5-orE6-orE7\\_NA,CASSLSFGTEAFF\\_HomoSapiens:MLANA\\_ELAGIGILTV\\_AAGIGILTV,CASSLSGQPQHF\\_MCPyV:T-Ag\\_KLLEIAPNC,CASSLSQGTEAFF\\_HomoSapiens:MAA\\_NA,CASSLTGGSEAFF\\_HomoSapiens:LMBRD1\\_FIFTSIAGIR,CASSLVDGNYGYTF\\_HPV:E2-orE5-orE6-orE7\\_NA,CASSLVGTGELFF\\_CMV:pp65\\_NLVPMVATV,CASSLWLNEQFF\\_CMV:pp65\\_NLVPMVATV,CASSLYQETQYF\\_EBV:NA\\_NA,CASSLYTGELFF\\_HomoSapiens:ZHX2\\_HPNVILNSLY,CASSMGANEQFF\\_HCV:NS3\\_KLVALGINAV,CASSMGGEQYF\\_HCV:NS3\\_KLVALGINAV,CASSMGGTYEQYF\\_HomoSapiens:PMEL\\_ITDQVPFSV\\_ILDQVPFSV,CASSMLFQETQYF\\_HPV:E2-orE5-orE6-orE7\\_NA,CASSMRSTGELFF\\_Influenza:M\\_GILGFVFTL,CASSNGRGTEQFF\\_S-pneumoniae:NA\\_ECTGLAWEWWRTV,CASSPARNTEAFF\\_CMV:pp65\\_RPHERNGFTV,CASSPDGMNTEAFF\\_HomoSapiens:TMEM161A\\_TMEM161A,CASSPEETQYF\\_M.tuberculosis:CFP10\\_TAAQAAVVRFQEAAN,CASSPGGATEAFF\\_HomoSapiens:MAA\\_NA,CASSPGGELFF\\_HCV:NS3\\_KLVALGINAV,CASSPGGETQYF\\_HomoSapiens:PMEL154-162\\_TAA-KTWGQYWQV,CASSPGGFEAFF\\_HomoSapiens:PIK3CA\\_p-P449T,CASSPGGGNTEAFF\\_S-pneumoniae:NA\\_ECTGLAWEWWRTV,CASSPGGNEQFF\\_HomoSapiens:MAA\\_NA,CASSPGLAGNEQFF\\_HomoSapiens:MAA\\_NA,CASSPGLLTDTQYF\\_HomoSapiens:MAA\\_NA,CASSPGLLTDTQYF\\_HomoSapiens:MLANA27-35\\_TAA-AAGIGILTV,CASSPGQLNTEAFF\\_HomoSapiens:MAA\\_NA,CASSPGQPQHF\\_HomoSapiens:DCAKD198-207p.S199F\\_NeoAg-RFLEYLPLRF,CASSPGQRNTEAFF\\_HomoSapiens:MAA\\_NA,CASSPGSETQYF\\_S-pneumoniae:NA\\_ECTGLAWEWWRTV,CASSPGTENSPLHF\\_HomoSapiens:KRAS\\_p-G13D,CASSPGTLTDTQYF\\_HomoSapiens:MLANA27-35\\_TAA-AAGIGILTV,CASSPHRNTEAFF\\_CMV:pp65\\_RPHERNGFTV,CASSPILQETQYF\\_HPV:E2-orE5-orE6-orE7\\_NA,CASSPLQGYEQYF\\_HPV:E2-orE5-orE6-orE7\\_NA,CASSPPSSGNTIYF\\_MCPyV:T-Ag\\_KLLEIAPNC,CASSPQGLGTEAFF\\_HomoSapiens:MAA\\_NA,CASSPQGVNYGYTF\\_S-pneumoniae:NA\\_ECTGLAWEWWRTV,CASSPRGDTEAFF\\_MCPyV:T-Ag\\_KLLEIAPNC,CASSPRTGNTEAFF\\_CMV:NA\\_NA,CASSPRVPNTEAFF\\_HomoSapiens:HIATL1\\_p-G380V,CASSPSGGTDTQYF\\_HomoSapiens:CNOT2\\_FNGTDGSENVTGFDLSDFPALADRN,CASSPSGLSYEQYF\\_HomoSapiens:MAA\\_NA,CASSPSRNTEAFF\\_CMV:pp65\\_RPHERNGFTV,CASSPTGVGEQFF\\_Influenza:M\\_GILGFVFTL,CASSPWDEQFF\\_MCPyV:T-Ag\\_KLLEIAPNC,CASSQDGMNTEAFF\\_HomoSapiens:TMEM161A\\_TMEM161A,CASSQDRDTQYF\\_CMV:UL40\\_VMAPRTLIL,CASSQETGSYEQFF\\_EBV:EBNA3A\\_RPPIFIRRL,CASSQETGSYEQYF\\_EBV:EBNA3A\\_RPPIFIRRL,CASSQGGGEQYF\\_S-pneumoniae:NA\\_WEWWR,CASSQGNTGELFF\\_HomoSapiens:KRAS\\_p-G13D,CASSQGQDTEAFF\\_HomoSapiens:GLIA-OMEGA1\\_QPFPQPEQPFP,CASSQGRPSTS\\_HomoSapiens:MAA\\_NA,CASSQGSYEQYF\\_HCV:NS3\\_KLVALGINAV,CASSQLGYEQYF\\_HPV:E2-orE5-orE6-orE7\\_NA,CASSQNTGELFF\\_HomoSapiens:TYR207-215\\_TAA-FLPWHRLFL,CASSQQETQYF\\_CEF:NA\\_NA,CASSQSSGANVLTF\\_EBV:EBV\\_NA,CASSQVGETQYF\\_MCPyV:T-Ag\\_KLLEIAPNC,CASSQVGGGEQFF\\_HomoSapiens:MAA\\_NA,CASSRADYGYTF\\_HomoSapiens:SDAD1\\_MAQMRKELDAAPWKSQKRKYIEIDS,CASSRDGMNTEAFF\\_HomoSapiens:TMEM161A\\_TMEM161A,CASSRGDTEAFF\\_HCV:NS3\\_KLVALGINAV,CASSRGLNNQPQHF\\_S-pneumoniae:NA\\_ECTGLAWEWWRTV,CASSRQGENQPQHF\\_HomoSapiens:MAGEC2254-262\\_TAA-NAVGVYAGR,CASSRQGLGTEAFF\\_HomoSapiens:MAA\\_NA,CASSRQTNTEAFF\\_CMV:NA\\_NA,CASSRTGSTYEQYF\\_EBV:BZLF1\\_LPEPLPQGQLTAY,CASSSADGNYGYTF\\_HPV:E2-orE5-orE6-orE7\\_NA,CASSSAFYGYTF\\_CMV:pp65\\_NLVPMVATV,CASSSANYGYTF\\_CMV:pp65\\_NLVPMVATV,CASSSAYYGYTF\\_CMV:pp65\\_NLVPMVATV,CASSSDGMNTEAFF\\_HomoSapiens:TMEM161A\\_TMEM161A,CASSSGATEAFF\\_HCV:NS3\\_KLVALGINAV,CASSSGDGNYGYTF\\_HPV:E2-orE5-orE6-orE7\\_NA,CASSSGETQYF\\_S-pneumoniae:NA\\_ECTGLAWEWWRTV,CASSSGIYGYTF\\_CMV:pp65\\_NLVPMVATV,CASSSGPSYEQYF\\_HomoSapiens:FLNA\\_RSSRTLSR,CASSSGQAYEQYF\\_EBV:EBNA3A\\_FLRGRAYGL,CASSSLNTEAFF\\_EBV:BZLF1\\_RAKFKQLL,CASSSQGGYGYTF\\_HomoSapiens:MAGE-A6\\_KVDPIGHVY,CASSSRAAYEQYF\\_Influenza:M\\_GILGFVFTL,CASSSRASYEQYF\\_Influenza:M\\_GILGFVFTL,CASSSRNSYEQYF\\_Influenza:NA\\_NA,CASSSRSSYEQYF\\_Influenza:M-HA\\_GILGFVFTL\\_PKYVKQNTLKLAT,CASSSVNEQFF\\_CMV:pp65\\_NLVPMVATV,CASSSVSEAFF\\_CMV:pp65\\_NLVPMVATV,CASSTDLNTEAFF\\_CMV:NA\\_NA,CASSTGDSNQPQHF\\_EBV:BZLF1\\_EPLPQGQLTAY,CASSTGFYGYTF\\_Influenza:M\\_GILGFVFTL,CASSTGNEKLFF\\_CMV:NA\\_NA,CASSTGNYGYTF\\_Influenza:M\\_GILGFVFTL,CASSTGSYGYTF\\_CMV:pp65\\_NLVPMVATV,CASSTLFQETQYF\\_HPV:E2-orE5-orE6-orE7\\_NA,CASSTRSTGELFF\\_CMV:pp65\\_NLVPMVATV,CASSTSTDTQYF\\_S-pneumoniae:NA\\_ECTGLAWEWWRTV,CASSVASGTDTQYF\\_EBV:EBNA3A\\_FLRGRAYGL,CASSVDGMNTEAFF\\_HomoSapiens:TMEM161A\\_TMEM161A,CASSVGQGKAFF\\_Influenza:HA\\_PKYVKQNTLKLAT,CASSVGWGGEQFF\\_EBV:NA\\_NA,CASSVLFQETQYF\\_HPV:E2-orE5-orE6-orE7\\_NA,CASSVLNTGELFF\\_MCPyV:T-Ag\\_KLLEIAPNC,CASSVNNEQFF\\_HPV:E2-orE5-orE6-orE7\\_NA,CASSVRSTGELFF\\_Influenza:M\\_GILGFVFTL,CASSWGGGEQYF\\_HCV:NS3\\_KLVALGINAV,CASSWGGNTEAFF\\_HomoSapiens:ZNF219\\_CLASLHPR,CASSWGSGANVLTF\\_HomoSapiens:KPNA2\\_YLRNLTWTL,CASSYGLAGGEQFF\\_HomoSapiens:MAA\\_NA,CASSYGSYEQYF\\_HCV:NS3\\_KLVALGINAV,CASSYNNEQFF\\_HomoSapiens:FLNA\\_RTWRRTRRGRR,CASSYPGTSQFF\\_HomoSapiens:MAA\\_NA,CASSYQGTEAFF\\_HomoSapiens:TERT\\_ILAKFLHWL,CASSYRGSGNTIYF\\_HCV:NS3\\_KLVALGINAV,CASSYSDGNTEAFF\\_HPV:E2-orE5-orE6-orE7\\_NA,CASSYSLNTEAFF\\_CMV:NA\\_NA,CASSYSVLNTEAFF\\_HomoSapiens:MAA\\_NA,CASSYTGELFF\\_HCV:NS3\\_KLVALGINAV,CASTDSNTGELFF\\_MCPyV:T-Ag\\_KLLEIAPNC,CASTEGNTEAFF\\_HomoSapiens:PMEL154-162\\_TAA-KTWGQYWQV,CASTLQETQYF\\_EBV:NA\\_NA,CASTNSGNTIYF\\_HCV:NS3\\_KLVALGINAV,CASTPTENTEAFF\\_CMV:NA\\_NA,CASTQGSTDTQYF\\_HCV:NS3\\_KLVALGINAV,CATGTGDSNQPQHF\\_EBV:BZLF1\\_EPLPQGQLTAY,CATRDINTGELFF\\_MCPyV:T-Ag\\_KLLEIAPNC,CATRRANEQFF\\_HomoSapiens:PMEL589-603\\_TAA-LIMPGQEAGLGQVPL,CATSAGRNEQFF\\_HomoSapiens:MAA\\_NA,CATSALGDTQYF\\_HomoSapiens:MBP\\_NPVVHFFKNIVTPR,CATSEGNEQFF\\_CMV:pp65\\_NLVPMVATV,CATSGTGHSYEQYF\\_HomoSapiens:PPP2R1A\\_p-L432S,CATTGGQNTEAFF\\_HomoSapiens:TP53\\_NSSCMGGMNLR,CAWAESSYNEQFF\\_HomoSapiens:TARS\\_p-E331K,CAWSEQVNTEAFF\\_HomoSapiens:UBE2I51-60p.P52L\\_NeoAg-TLWEGGLFKL,CAWSPDGMNTEAFF\\_HomoSapiens:TMEM161A\\_TMEM161A,CAWSPVNTEAFF\\_HomoSapiens:FAM50B72-80p.E78K\\_NeoAg-DMKARQKAL,CPSSSGDGNYGYTF\\_HPV:E2-orE5-orE6-orE7\\_NA,CSADLNTEAFF\\_HomoSapiens:C2orf16\\_TLIDVPKV,CSAEQGANTGELFF\\_HomoSapiens:PMEL154-162\\_TAA-KTWGQYWQV,CSARGADTQYF\\_CMV:pp65\\_NLVPMVATV,CSARTGYNEQFF\\_MCPyV:T-Ag\\_KLLEIAPNC,CSASEGAYGYTF\\_S-pneumoniae:NA\\_ECTGLAWEWWRTV,CSASMRDEQYF\\_S-pneumoniae:NA\\_ECTGLAWEWWRTV,CSATGGTGNTIYF\\_EBV:NA\\_NA,CSVEGDTGELFF\\_CMV:pp65\\_NLVPMVATV,CSVEGTENTGELFF\\_EBV:NA\\_NA,CSVGGAYEQYF\\_EBV:EBNA3A\\_RPPIFIRRL,CSVPLTGNTEAFF\\_EBV:NA\\_NA,CSVVDRGYGYTF\\_EBV:NA\\_NA,CTSSPILQETQYF\\_HPV:E2-orE5-orE6-orE7\\_NA,YASSLTGGTEAFF\\_HomoSapiens:MAA\\_NA & CHP\\_404\\_X01-PBMC & CHP\\_404 & X01 & CAASSGANEQFF\\_Solidtumors & CAASSGANEQFF   & Solidtumors &   2 & 9.9e-10\\\\\n",
       "\t 1 & 17492 & CACSTGGSEQYF\\_Solidtumors:CHP\\_381\\_X01-PBMC & 8263 & 115 & cfDNA,PBMC,Tumor & X00,X01,X02,X03,X04,X05 & 6 & CEF,CMV,EBV,HCV,HomoSapiens,HPV,Influenza,Leukemia,LFS,Lymphoma,M.tuberculosis,MCPyV,MDavis,Normal,S-pneumoniae,Solidtumors,T-cellmalignancies & CACSVLNTGELFF\\_MCPyV:T-Ag\\_KLLEIAPNC,CAGSQDGMNTEAFF\\_HomoSapiens:TMEM161A\\_TMEM161A,CAIRDSNTGELFF\\_MCPyV:T-Ag\\_KLLEIAPNC,CAIRGQNTGELFF\\_MCPyV:T-Ag\\_KLLEIAPNC,CAISEDGMNTEAFF\\_HomoSapiens:TMEM161A\\_TMEM161A,CAISGEGNTEAFF\\_CMV:NA\\_NA,CAISSGGADTQYF\\_S-pneumoniae:NA\\_ECTGLAWEWWRTV,CAISTGDSNQPQHF\\_EBV:BZLF1\\_EPLPQGQLTAY,CANSQPGGIEQFF\\_EBV:BZLF1\\_EPLPQGQLTAY,CARSVLNTGELFF\\_MCPyV:T-Ag\\_KLLEIAPNC,CASDSNTEAFF\\_HCV:NS3\\_KLVALGINAV,CASGQGQETQYF\\_HCV:NS3\\_KLVALGINAV,CASGTGDSNQPQHF\\_EBV:BZLF1\\_EPLPQGQLTAY,CASIRGYEQYF\\_HomoSapiens:MAA\\_NA,CASQGGTEAFF\\_HomoSapiens:MAA\\_NA,CASRDGDEQYF\\_S-pneumoniae:NA\\_ECTGLAWEWWRTV,CASRDQNTGELFF\\_MCPyV:T-Ag\\_KLLEIAPNC,CASRDSSSYEQYF\\_HomoSapiens:PLECp.P3283S\\_NeoAg-GGIVDSSKSHRVPLD,CASRGGFNEKLFF\\_CMV:NA\\_NA,CASRGGSSYNEQFF\\_MCPyV:T-Ag\\_KLLEIAPNC,CASRGQNTGELFF\\_MCPyV:T-Ag\\_KLLEIAPNC,CASRIGNTGELFF\\_HomoSapiens:KRAS\\_p-G13D,CASRQGGQPQHF\\_HomoSapiens:MAA\\_NA,CASRQGNTGELFF\\_HomoSapiens:KRAS\\_p-G13D,CASRRGPYEQYF\\_HCV:NS3\\_KLVALGINAV-orKLVALVINAV,CASRRSNQPQHF\\_HomoSapiens:CMKLR1\\_FLEDLSPL,CASSAGAEQYF\\_HomoSapiens:PIK3CA\\_p-P449T,CASSASNYGYTF\\_HomoSapiens:DDX18\\_VKYHYELLNYIDMPVLAIHGKQKQN,CASSDALQETQYF\\_CMV:pp65\\_NLVPMVATV,CASSDDRGPYEQYF\\_HCV:NS3\\_KLVALGINAV,CASSDGGEQYF\\_S-pneumoniae:NA\\_GLAWEWWRTV,CASSDGGVKYF\\_S-pneumoniae:NA\\_ECTGLAWEWWRTV,CASSDGVGTEAFF\\_HomoSapiens:RPS9p.P68S\\_NeoAg-AARELLTLDEKDSRRLFE,CASSDPGTEAFF\\_HomoSapiens:KRAS\\_GADGVGKSAL,CASSDSYGYTF\\_HCV:NS3\\_KLVALGINAV,CASSDYYEQYF\\_S-pneumoniae:NA\\_ECTGLAWEWWRTV,CASSEDGMNTEAFF\\_HomoSapiens:TMEM161A\\_TMEM161A,CASSEGDTEAFF\\_HCV:NS3\\_KLVALGINAV,CASSEGQGNSPLHF\\_MCPyV:T-Ag\\_KLLEIAPNC,CASSEGQSYEQYF\\_MCPyV:T-Ag\\_KLLEIAPNC,CASSESGRNTEAFX\\_S-pneumoniae:NA\\_ECTGLAWEWWRTV,CASSFDRGYGYTF\\_HomoSapiens:MAGE-A6\\_NA,CASSFGADTQYF\\_HCV:NS3\\_KLVALGINAV,CASSFGGAYEQYF\\_HomoSapiens:MED13\\_VQIISCQY,CASSFGGEQFF\\_HomoSapiens:DOPEY2\\_FRFSMIWHL,CASSFGSEQYF\\_MCPyV:T-Ag\\_KLLEIAPNC,CASSFGSYEQYF\\_HomoSapiens:NUP214\\_SVYWSPKGK,CASSFIGGTDTQYF\\_HomoSapiens:gp100\\_YLEPGPVTA,CASSFLGTGELFF\\_HomoSapiens:TARS\\_p-E331K,CASSFQGFTEAFF\\_CMV:pp65\\_NLVPMVATV,CASSFQGYTEAFF\\_CMV:pp65\\_NLVPMVATV,CASSFTLNTEAFF\\_CMV:NA\\_NA,CASSFWGNTEAFF\\_HomoSapiens:FAM135A\\_AGASSIWYR,CASSGDGMNTEAFF\\_HomoSapiens:TMEM161A\\_TMEM161A,CASSGENTEAFF\\_CMV:NA\\_NA,CASSGQNTGELFF\\_MCPyV:T-Ag\\_KLLEIAPNC,CASSGTHNEQFF\\_EBV:EBNA3A\\_RPPIFIRRL,CASSGYTGELFF\\_HCV:NS3\\_KLVALGINAV,CASSHAGRNTEAFF\\_HomoSapiens:MAA\\_NA,CASSHQTGELFF\\_CMV:pp65\\_NLVPMVATV,CASSHREGETQYF\\_S-pneumoniae:NA\\_ECTGLAWEWWRTV,CASSIGGDYGYTF\\_HomoSapiens:MLANA27-35\\_TAA-AAGIGILTV,CASSIGQYEQYF\\_HCV:NS3\\_KLVALGINAV,CASSIGVGTEQYF\\_HomoSapiens:MAA\\_NA,CASSIGVYGYTF\\_Influenza:M\\_GILGFVFTL,CASSIRASYEQYF\\_Influenza:M\\_GILGFVFTL,CASSIRSAHEQFF\\_Influenza:M\\_GILGFVFTL,CASSIRSSYEQYF\\_Influenza:M\\_GILGFVFTL,CASSIRSTDTQYF\\_Influenza:M\\_GILGFVFTL,CASSIRSTGELFF\\_Influenza:M\\_GILGFVFTL,CASSITLNTEAFF\\_CMV:NA\\_NA,CASSLAADTQYF\\_EBV:NA\\_NA,CASSLAGDRYF\\_MCPyV:T-Ag\\_KLLEIAPNC,CASSLAGDYEQYF\\_CMV:pp65\\_NLVPMVATV,CASSLAGFRFF\\_MCPyV:T-Ag\\_KLLEIAPNC,CASSLAGFTGELFF\\_CMV:pp65\\_NLVPMVATV,CASSLAGPETQYF\\_HomoSapiens:TP53\\_p-T172I,CASSLAQGTDTQYF\\_HomoSapiens:LAMC1p.S1509F\\_NeoAg-KAKNFVTSLLSIIND,CASSLATGGEQFF\\_EBV:NA\\_NA,CASSLDENTEAFF\\_CMV:NA\\_NA,CASSLDGMNTEAFF\\_HomoSapiens:TMEM161A\\_TMEM161A,CASSLDLYGYTF\\_CMV:pp65\\_NLVPMVATV,CASSLDNEKLFF\\_S-pneumoniae:NA\\_ECTGLAWEWWRTV,CASSLDPYEQYF\\_HomoSapiens:CARM1\\_FAAQAGAWKIY,CASSLDSSNQPQHF\\_CMV:NA\\_NA,CASSLEGANYGYTF\\_HPV:E2-orE5-orE6-orE7\\_NA,CASSLEGDTEAFF\\_MCPyV:T-Ag\\_KLLEIAPNC,CASSLEGSYEQYF\\_EBV:BZLF1\\_KLVALGINAV,CASSLEGSYEQYF\\_HCV:NS3\\_KLVALGINAV,CASSLETVNTEAFF\\_CMV:pp65\\_NLVPMVATV,CASSLETVYGYTF\\_S-pneumoniae:NA\\_ECTGLAWEWWRTV,CASSLFGGTEAFF\\_HomoSapiens:MAA\\_NA,CASSLGANTGELFF\\_HomoSapiens:SCML2\\_LPDHFGLGPV,CASSLGDGNYGYTF\\_HPV:E2-orE5-orE6-orE7\\_NA,CASSLGEKLFF\\_HCV:NS3\\_KLVALGINAV,CASSLGGAEQFF\\_HomoSapiens:MAA\\_NA,CASSLGGDIQYF\\_HCV:NS3\\_KLVALGINAV,CASSLGGGPDTQYF\\_HomoSapiens:PMEL154-162\\_TAA-KTWGQYWQV,CASSLGGGTDTQYF\\_HomoSapiens:PMEL154-162\\_TAA-KTWGQYWQV,CASSLGGNTGELFF\\_MCPyV:T-Ag\\_KLLEIAPNC,CASSLGGQPQHF\\_HomoSapiens:MAA\\_NA,CASSLGGRTEAFF\\_HomoSapiens:BPNT1\\_EAGPDAVLRR,CASSLGGSSYEQYF\\_HomoSapiens:MLANA27-35\\_TAA-AAGIGILTV,CASSLGLENEQFF\\_EBV:BMLF1\\_GLCTLVAML,CASSLGLLNTEAFF\\_HomoSapiens:MLANA27-35\\_TAA-AAGIGILTV,CASSLGLSTDTQYF\\_HomoSapiens:NCEH1111-119p.G115R\\_NeoAg-YIHGRGWAL,CASSLGNTEAFF\\_MCPyV:T-Ag\\_KLLEIAPNC,CASSLGQAYEQYF\\_EBV:EBNA3A\\_FLRGRAYGL,CASSLGQAYEQYF\\_HomoSapiens:MLANA\\_EEYLKAWTF,CASSLGQGNSPLHF\\_CMV:pp65\\_NLVPMVATV,CASSLGQGNYGYTF\\_HomoSapiens:MLANA27-35\\_TAA-AAGIGILTV,CASSLGQLNTEAFF\\_HomoSapiens:MAA\\_NA,CASSLGQTNYGYTF\\_HomoSapiens:KRAS\\_GADGVGKSAL,CASSLGRGQFF\\_HCV:NS3\\_KLVALGINAV,CASSLGTGELFF\\_CMV:pp65\\_NLVPMVATV,CASSLIGRDEQFF\\_EBV:BZLF1\\_EPLPQGQLTAY,CASSLLDGNTEAFF\\_HPV:E2-orE5-orE6-orE7\\_NA,CASSLLGETQYF\\_EBV:NA\\_NA,CASSLLLDTQYF\\_EBV:NA\\_NA,CASSLLQETQYF\\_EBV:NA\\_NA,CASSLLSSNQPQHF\\_EBV:NA\\_NA,CASSLMQETQYF\\_EBV:NA\\_NA,CASSLQGYEQYF\\_HPV:E2-orE5-orE6-orE7\\_NA,CASSLREGETQYF\\_S-pneumoniae:NA\\_ECTGLAWEWWRTV,CASSLRGSYEQYV\\_HomoSapiens:DNMT3A\\_p-P282S,CASSLRNTGELFF\\_S-pneumoniae:NA\\_ECTGLAWEWWRTV,CASSLRRGEQYF\\_HomoSapiens:MYH6191-198\\_VIQYFASI,CASSLSDGNYGYTF\\_HPV:E2-orE5-orE6-orE7\\_NA,CASSLSFGTEAFF\\_HomoSapiens:MLANA\\_ELAGIGILTV\\_AAGIGILTV,CASSLSGQPQHF\\_MCPyV:T-Ag\\_KLLEIAPNC,CASSLSQGTEAFF\\_HomoSapiens:MAA\\_NA,CASSLTGGSEAFF\\_HomoSapiens:LMBRD1\\_FIFTSIAGIR,CASSLVDGNYGYTF\\_HPV:E2-orE5-orE6-orE7\\_NA,CASSLVGTGELFF\\_CMV:pp65\\_NLVPMVATV,CASSLWLNEQFF\\_CMV:pp65\\_NLVPMVATV,CASSLYQETQYF\\_EBV:NA\\_NA,CASSLYTGELFF\\_HomoSapiens:ZHX2\\_HPNVILNSLY,CASSMGANEQFF\\_HCV:NS3\\_KLVALGINAV,CASSMGGEQYF\\_HCV:NS3\\_KLVALGINAV,CASSMGGTYEQYF\\_HomoSapiens:PMEL\\_ITDQVPFSV\\_ILDQVPFSV,CASSMLFQETQYF\\_HPV:E2-orE5-orE6-orE7\\_NA,CASSMRSTGELFF\\_Influenza:M\\_GILGFVFTL,CASSNGRGTEQFF\\_S-pneumoniae:NA\\_ECTGLAWEWWRTV,CASSPARNTEAFF\\_CMV:pp65\\_RPHERNGFTV,CASSPDGMNTEAFF\\_HomoSapiens:TMEM161A\\_TMEM161A,CASSPEETQYF\\_M.tuberculosis:CFP10\\_TAAQAAVVRFQEAAN,CASSPGGATEAFF\\_HomoSapiens:MAA\\_NA,CASSPGGELFF\\_HCV:NS3\\_KLVALGINAV,CASSPGGETQYF\\_HomoSapiens:PMEL154-162\\_TAA-KTWGQYWQV,CASSPGGFEAFF\\_HomoSapiens:PIK3CA\\_p-P449T,CASSPGGGNTEAFF\\_S-pneumoniae:NA\\_ECTGLAWEWWRTV,CASSPGGNEQFF\\_HomoSapiens:MAA\\_NA,CASSPGLAGNEQFF\\_HomoSapiens:MAA\\_NA,CASSPGLLTDTQYF\\_HomoSapiens:MAA\\_NA,CASSPGLLTDTQYF\\_HomoSapiens:MLANA27-35\\_TAA-AAGIGILTV,CASSPGQLNTEAFF\\_HomoSapiens:MAA\\_NA,CASSPGQPQHF\\_HomoSapiens:DCAKD198-207p.S199F\\_NeoAg-RFLEYLPLRF,CASSPGQRNTEAFF\\_HomoSapiens:MAA\\_NA,CASSPGSETQYF\\_S-pneumoniae:NA\\_ECTGLAWEWWRTV,CASSPGTENSPLHF\\_HomoSapiens:KRAS\\_p-G13D,CASSPGTLTDTQYF\\_HomoSapiens:MLANA27-35\\_TAA-AAGIGILTV,CASSPHRNTEAFF\\_CMV:pp65\\_RPHERNGFTV,CASSPILQETQYF\\_HPV:E2-orE5-orE6-orE7\\_NA,CASSPLQGYEQYF\\_HPV:E2-orE5-orE6-orE7\\_NA,CASSPPSSGNTIYF\\_MCPyV:T-Ag\\_KLLEIAPNC,CASSPQGLGTEAFF\\_HomoSapiens:MAA\\_NA,CASSPQGVNYGYTF\\_S-pneumoniae:NA\\_ECTGLAWEWWRTV,CASSPRGDTEAFF\\_MCPyV:T-Ag\\_KLLEIAPNC,CASSPRTGNTEAFF\\_CMV:NA\\_NA,CASSPRVPNTEAFF\\_HomoSapiens:HIATL1\\_p-G380V,CASSPSGGTDTQYF\\_HomoSapiens:CNOT2\\_FNGTDGSENVTGFDLSDFPALADRN,CASSPSGLSYEQYF\\_HomoSapiens:MAA\\_NA,CASSPSRNTEAFF\\_CMV:pp65\\_RPHERNGFTV,CASSPTGVGEQFF\\_Influenza:M\\_GILGFVFTL,CASSPWDEQFF\\_MCPyV:T-Ag\\_KLLEIAPNC,CASSQDGMNTEAFF\\_HomoSapiens:TMEM161A\\_TMEM161A,CASSQDRDTQYF\\_CMV:UL40\\_VMAPRTLIL,CASSQETGSYEQFF\\_EBV:EBNA3A\\_RPPIFIRRL,CASSQETGSYEQYF\\_EBV:EBNA3A\\_RPPIFIRRL,CASSQGGGEQYF\\_S-pneumoniae:NA\\_WEWWR,CASSQGNTGELFF\\_HomoSapiens:KRAS\\_p-G13D,CASSQGQDTEAFF\\_HomoSapiens:GLIA-OMEGA1\\_QPFPQPEQPFP,CASSQGRPSTS\\_HomoSapiens:MAA\\_NA,CASSQGSYEQYF\\_HCV:NS3\\_KLVALGINAV,CASSQLGYEQYF\\_HPV:E2-orE5-orE6-orE7\\_NA,CASSQNTGELFF\\_HomoSapiens:TYR207-215\\_TAA-FLPWHRLFL,CASSQQETQYF\\_CEF:NA\\_NA,CASSQSSGANVLTF\\_EBV:EBV\\_NA,CASSQVGETQYF\\_MCPyV:T-Ag\\_KLLEIAPNC,CASSQVGGGEQFF\\_HomoSapiens:MAA\\_NA,CASSRADYGYTF\\_HomoSapiens:SDAD1\\_MAQMRKELDAAPWKSQKRKYIEIDS,CASSRDGMNTEAFF\\_HomoSapiens:TMEM161A\\_TMEM161A,CASSRGDTEAFF\\_HCV:NS3\\_KLVALGINAV,CASSRGLNNQPQHF\\_S-pneumoniae:NA\\_ECTGLAWEWWRTV,CASSRQGENQPQHF\\_HomoSapiens:MAGEC2254-262\\_TAA-NAVGVYAGR,CASSRQGLGTEAFF\\_HomoSapiens:MAA\\_NA,CASSRQTNTEAFF\\_CMV:NA\\_NA,CASSRTGSTYEQYF\\_EBV:BZLF1\\_LPEPLPQGQLTAY,CASSSADGNYGYTF\\_HPV:E2-orE5-orE6-orE7\\_NA,CASSSAFYGYTF\\_CMV:pp65\\_NLVPMVATV,CASSSANYGYTF\\_CMV:pp65\\_NLVPMVATV,CASSSAYYGYTF\\_CMV:pp65\\_NLVPMVATV,CASSSDGMNTEAFF\\_HomoSapiens:TMEM161A\\_TMEM161A,CASSSGATEAFF\\_HCV:NS3\\_KLVALGINAV,CASSSGDGNYGYTF\\_HPV:E2-orE5-orE6-orE7\\_NA,CASSSGETQYF\\_S-pneumoniae:NA\\_ECTGLAWEWWRTV,CASSSGIYGYTF\\_CMV:pp65\\_NLVPMVATV,CASSSGPSYEQYF\\_HomoSapiens:FLNA\\_RSSRTLSR,CASSSGQAYEQYF\\_EBV:EBNA3A\\_FLRGRAYGL,CASSSLNTEAFF\\_EBV:BZLF1\\_RAKFKQLL,CASSSQGGYGYTF\\_HomoSapiens:MAGE-A6\\_KVDPIGHVY,CASSSRAAYEQYF\\_Influenza:M\\_GILGFVFTL,CASSSRASYEQYF\\_Influenza:M\\_GILGFVFTL,CASSSRNSYEQYF\\_Influenza:NA\\_NA,CASSSRSSYEQYF\\_Influenza:M-HA\\_GILGFVFTL\\_PKYVKQNTLKLAT,CASSSVNEQFF\\_CMV:pp65\\_NLVPMVATV,CASSSVSEAFF\\_CMV:pp65\\_NLVPMVATV,CASSTDLNTEAFF\\_CMV:NA\\_NA,CASSTGDSNQPQHF\\_EBV:BZLF1\\_EPLPQGQLTAY,CASSTGFYGYTF\\_Influenza:M\\_GILGFVFTL,CASSTGNEKLFF\\_CMV:NA\\_NA,CASSTGNYGYTF\\_Influenza:M\\_GILGFVFTL,CASSTGSYGYTF\\_CMV:pp65\\_NLVPMVATV,CASSTLFQETQYF\\_HPV:E2-orE5-orE6-orE7\\_NA,CASSTRSTGELFF\\_CMV:pp65\\_NLVPMVATV,CASSTSTDTQYF\\_S-pneumoniae:NA\\_ECTGLAWEWWRTV,CASSVASGTDTQYF\\_EBV:EBNA3A\\_FLRGRAYGL,CASSVDGMNTEAFF\\_HomoSapiens:TMEM161A\\_TMEM161A,CASSVGQGKAFF\\_Influenza:HA\\_PKYVKQNTLKLAT,CASSVGWGGEQFF\\_EBV:NA\\_NA,CASSVLFQETQYF\\_HPV:E2-orE5-orE6-orE7\\_NA,CASSVLNTGELFF\\_MCPyV:T-Ag\\_KLLEIAPNC,CASSVNNEQFF\\_HPV:E2-orE5-orE6-orE7\\_NA,CASSVRSTGELFF\\_Influenza:M\\_GILGFVFTL,CASSWGGGEQYF\\_HCV:NS3\\_KLVALGINAV,CASSWGGNTEAFF\\_HomoSapiens:ZNF219\\_CLASLHPR,CASSWGSGANVLTF\\_HomoSapiens:KPNA2\\_YLRNLTWTL,CASSYGLAGGEQFF\\_HomoSapiens:MAA\\_NA,CASSYGSYEQYF\\_HCV:NS3\\_KLVALGINAV,CASSYNNEQFF\\_HomoSapiens:FLNA\\_RTWRRTRRGRR,CASSYPGTSQFF\\_HomoSapiens:MAA\\_NA,CASSYQGTEAFF\\_HomoSapiens:TERT\\_ILAKFLHWL,CASSYRGSGNTIYF\\_HCV:NS3\\_KLVALGINAV,CASSYSDGNTEAFF\\_HPV:E2-orE5-orE6-orE7\\_NA,CASSYSLNTEAFF\\_CMV:NA\\_NA,CASSYSVLNTEAFF\\_HomoSapiens:MAA\\_NA,CASSYTGELFF\\_HCV:NS3\\_KLVALGINAV,CASTDSNTGELFF\\_MCPyV:T-Ag\\_KLLEIAPNC,CASTEGNTEAFF\\_HomoSapiens:PMEL154-162\\_TAA-KTWGQYWQV,CASTLQETQYF\\_EBV:NA\\_NA,CASTNSGNTIYF\\_HCV:NS3\\_KLVALGINAV,CASTPTENTEAFF\\_CMV:NA\\_NA,CASTQGSTDTQYF\\_HCV:NS3\\_KLVALGINAV,CATGTGDSNQPQHF\\_EBV:BZLF1\\_EPLPQGQLTAY,CATRDINTGELFF\\_MCPyV:T-Ag\\_KLLEIAPNC,CATRRANEQFF\\_HomoSapiens:PMEL589-603\\_TAA-LIMPGQEAGLGQVPL,CATSAGRNEQFF\\_HomoSapiens:MAA\\_NA,CATSALGDTQYF\\_HomoSapiens:MBP\\_NPVVHFFKNIVTPR,CATSEGNEQFF\\_CMV:pp65\\_NLVPMVATV,CATSGTGHSYEQYF\\_HomoSapiens:PPP2R1A\\_p-L432S,CATTGGQNTEAFF\\_HomoSapiens:TP53\\_NSSCMGGMNLR,CAWAESSYNEQFF\\_HomoSapiens:TARS\\_p-E331K,CAWSEQVNTEAFF\\_HomoSapiens:UBE2I51-60p.P52L\\_NeoAg-TLWEGGLFKL,CAWSPDGMNTEAFF\\_HomoSapiens:TMEM161A\\_TMEM161A,CAWSPVNTEAFF\\_HomoSapiens:FAM50B72-80p.E78K\\_NeoAg-DMKARQKAL,CPSSSGDGNYGYTF\\_HPV:E2-orE5-orE6-orE7\\_NA,CSADLNTEAFF\\_HomoSapiens:C2orf16\\_TLIDVPKV,CSAEQGANTGELFF\\_HomoSapiens:PMEL154-162\\_TAA-KTWGQYWQV,CSARGADTQYF\\_CMV:pp65\\_NLVPMVATV,CSARTGYNEQFF\\_MCPyV:T-Ag\\_KLLEIAPNC,CSASEGAYGYTF\\_S-pneumoniae:NA\\_ECTGLAWEWWRTV,CSASMRDEQYF\\_S-pneumoniae:NA\\_ECTGLAWEWWRTV,CSATGGTGNTIYF\\_EBV:NA\\_NA,CSVEGDTGELFF\\_CMV:pp65\\_NLVPMVATV,CSVEGTENTGELFF\\_EBV:NA\\_NA,CSVGGAYEQYF\\_EBV:EBNA3A\\_RPPIFIRRL,CSVPLTGNTEAFF\\_EBV:NA\\_NA,CSVVDRGYGYTF\\_EBV:NA\\_NA,CTSSPILQETQYF\\_HPV:E2-orE5-orE6-orE7\\_NA,YASSLTGGTEAFF\\_HomoSapiens:MAA\\_NA & CHP\\_381\\_X01-PBMC & CHP\\_381 & X01 & CACSTGGSEQYF\\_Solidtumors & CACSTGGSEQYF   & Solidtumors & 125 & 9.0e-07\\\\\n",
       "\t 1 & 17492 & CAFSGDSSYNEQFF\\_Leukemia:CHP\\_373\\_X01-PBMC  & 8263 & 115 & cfDNA,PBMC,Tumor & X00,X01,X02,X03,X04,X05 & 6 & CEF,CMV,EBV,HCV,HomoSapiens,HPV,Influenza,Leukemia,LFS,Lymphoma,M.tuberculosis,MCPyV,MDavis,Normal,S-pneumoniae,Solidtumors,T-cellmalignancies & CACSVLNTGELFF\\_MCPyV:T-Ag\\_KLLEIAPNC,CAGSQDGMNTEAFF\\_HomoSapiens:TMEM161A\\_TMEM161A,CAIRDSNTGELFF\\_MCPyV:T-Ag\\_KLLEIAPNC,CAIRGQNTGELFF\\_MCPyV:T-Ag\\_KLLEIAPNC,CAISEDGMNTEAFF\\_HomoSapiens:TMEM161A\\_TMEM161A,CAISGEGNTEAFF\\_CMV:NA\\_NA,CAISSGGADTQYF\\_S-pneumoniae:NA\\_ECTGLAWEWWRTV,CAISTGDSNQPQHF\\_EBV:BZLF1\\_EPLPQGQLTAY,CANSQPGGIEQFF\\_EBV:BZLF1\\_EPLPQGQLTAY,CARSVLNTGELFF\\_MCPyV:T-Ag\\_KLLEIAPNC,CASDSNTEAFF\\_HCV:NS3\\_KLVALGINAV,CASGQGQETQYF\\_HCV:NS3\\_KLVALGINAV,CASGTGDSNQPQHF\\_EBV:BZLF1\\_EPLPQGQLTAY,CASIRGYEQYF\\_HomoSapiens:MAA\\_NA,CASQGGTEAFF\\_HomoSapiens:MAA\\_NA,CASRDGDEQYF\\_S-pneumoniae:NA\\_ECTGLAWEWWRTV,CASRDQNTGELFF\\_MCPyV:T-Ag\\_KLLEIAPNC,CASRDSSSYEQYF\\_HomoSapiens:PLECp.P3283S\\_NeoAg-GGIVDSSKSHRVPLD,CASRGGFNEKLFF\\_CMV:NA\\_NA,CASRGGSSYNEQFF\\_MCPyV:T-Ag\\_KLLEIAPNC,CASRGQNTGELFF\\_MCPyV:T-Ag\\_KLLEIAPNC,CASRIGNTGELFF\\_HomoSapiens:KRAS\\_p-G13D,CASRQGGQPQHF\\_HomoSapiens:MAA\\_NA,CASRQGNTGELFF\\_HomoSapiens:KRAS\\_p-G13D,CASRRGPYEQYF\\_HCV:NS3\\_KLVALGINAV-orKLVALVINAV,CASRRSNQPQHF\\_HomoSapiens:CMKLR1\\_FLEDLSPL,CASSAGAEQYF\\_HomoSapiens:PIK3CA\\_p-P449T,CASSASNYGYTF\\_HomoSapiens:DDX18\\_VKYHYELLNYIDMPVLAIHGKQKQN,CASSDALQETQYF\\_CMV:pp65\\_NLVPMVATV,CASSDDRGPYEQYF\\_HCV:NS3\\_KLVALGINAV,CASSDGGEQYF\\_S-pneumoniae:NA\\_GLAWEWWRTV,CASSDGGVKYF\\_S-pneumoniae:NA\\_ECTGLAWEWWRTV,CASSDGVGTEAFF\\_HomoSapiens:RPS9p.P68S\\_NeoAg-AARELLTLDEKDSRRLFE,CASSDPGTEAFF\\_HomoSapiens:KRAS\\_GADGVGKSAL,CASSDSYGYTF\\_HCV:NS3\\_KLVALGINAV,CASSDYYEQYF\\_S-pneumoniae:NA\\_ECTGLAWEWWRTV,CASSEDGMNTEAFF\\_HomoSapiens:TMEM161A\\_TMEM161A,CASSEGDTEAFF\\_HCV:NS3\\_KLVALGINAV,CASSEGQGNSPLHF\\_MCPyV:T-Ag\\_KLLEIAPNC,CASSEGQSYEQYF\\_MCPyV:T-Ag\\_KLLEIAPNC,CASSESGRNTEAFX\\_S-pneumoniae:NA\\_ECTGLAWEWWRTV,CASSFDRGYGYTF\\_HomoSapiens:MAGE-A6\\_NA,CASSFGADTQYF\\_HCV:NS3\\_KLVALGINAV,CASSFGGAYEQYF\\_HomoSapiens:MED13\\_VQIISCQY,CASSFGGEQFF\\_HomoSapiens:DOPEY2\\_FRFSMIWHL,CASSFGSEQYF\\_MCPyV:T-Ag\\_KLLEIAPNC,CASSFGSYEQYF\\_HomoSapiens:NUP214\\_SVYWSPKGK,CASSFIGGTDTQYF\\_HomoSapiens:gp100\\_YLEPGPVTA,CASSFLGTGELFF\\_HomoSapiens:TARS\\_p-E331K,CASSFQGFTEAFF\\_CMV:pp65\\_NLVPMVATV,CASSFQGYTEAFF\\_CMV:pp65\\_NLVPMVATV,CASSFTLNTEAFF\\_CMV:NA\\_NA,CASSFWGNTEAFF\\_HomoSapiens:FAM135A\\_AGASSIWYR,CASSGDGMNTEAFF\\_HomoSapiens:TMEM161A\\_TMEM161A,CASSGENTEAFF\\_CMV:NA\\_NA,CASSGQNTGELFF\\_MCPyV:T-Ag\\_KLLEIAPNC,CASSGTHNEQFF\\_EBV:EBNA3A\\_RPPIFIRRL,CASSGYTGELFF\\_HCV:NS3\\_KLVALGINAV,CASSHAGRNTEAFF\\_HomoSapiens:MAA\\_NA,CASSHQTGELFF\\_CMV:pp65\\_NLVPMVATV,CASSHREGETQYF\\_S-pneumoniae:NA\\_ECTGLAWEWWRTV,CASSIGGDYGYTF\\_HomoSapiens:MLANA27-35\\_TAA-AAGIGILTV,CASSIGQYEQYF\\_HCV:NS3\\_KLVALGINAV,CASSIGVGTEQYF\\_HomoSapiens:MAA\\_NA,CASSIGVYGYTF\\_Influenza:M\\_GILGFVFTL,CASSIRASYEQYF\\_Influenza:M\\_GILGFVFTL,CASSIRSAHEQFF\\_Influenza:M\\_GILGFVFTL,CASSIRSSYEQYF\\_Influenza:M\\_GILGFVFTL,CASSIRSTDTQYF\\_Influenza:M\\_GILGFVFTL,CASSIRSTGELFF\\_Influenza:M\\_GILGFVFTL,CASSITLNTEAFF\\_CMV:NA\\_NA,CASSLAADTQYF\\_EBV:NA\\_NA,CASSLAGDRYF\\_MCPyV:T-Ag\\_KLLEIAPNC,CASSLAGDYEQYF\\_CMV:pp65\\_NLVPMVATV,CASSLAGFRFF\\_MCPyV:T-Ag\\_KLLEIAPNC,CASSLAGFTGELFF\\_CMV:pp65\\_NLVPMVATV,CASSLAGPETQYF\\_HomoSapiens:TP53\\_p-T172I,CASSLAQGTDTQYF\\_HomoSapiens:LAMC1p.S1509F\\_NeoAg-KAKNFVTSLLSIIND,CASSLATGGEQFF\\_EBV:NA\\_NA,CASSLDENTEAFF\\_CMV:NA\\_NA,CASSLDGMNTEAFF\\_HomoSapiens:TMEM161A\\_TMEM161A,CASSLDLYGYTF\\_CMV:pp65\\_NLVPMVATV,CASSLDNEKLFF\\_S-pneumoniae:NA\\_ECTGLAWEWWRTV,CASSLDPYEQYF\\_HomoSapiens:CARM1\\_FAAQAGAWKIY,CASSLDSSNQPQHF\\_CMV:NA\\_NA,CASSLEGANYGYTF\\_HPV:E2-orE5-orE6-orE7\\_NA,CASSLEGDTEAFF\\_MCPyV:T-Ag\\_KLLEIAPNC,CASSLEGSYEQYF\\_EBV:BZLF1\\_KLVALGINAV,CASSLEGSYEQYF\\_HCV:NS3\\_KLVALGINAV,CASSLETVNTEAFF\\_CMV:pp65\\_NLVPMVATV,CASSLETVYGYTF\\_S-pneumoniae:NA\\_ECTGLAWEWWRTV,CASSLFGGTEAFF\\_HomoSapiens:MAA\\_NA,CASSLGANTGELFF\\_HomoSapiens:SCML2\\_LPDHFGLGPV,CASSLGDGNYGYTF\\_HPV:E2-orE5-orE6-orE7\\_NA,CASSLGEKLFF\\_HCV:NS3\\_KLVALGINAV,CASSLGGAEQFF\\_HomoSapiens:MAA\\_NA,CASSLGGDIQYF\\_HCV:NS3\\_KLVALGINAV,CASSLGGGPDTQYF\\_HomoSapiens:PMEL154-162\\_TAA-KTWGQYWQV,CASSLGGGTDTQYF\\_HomoSapiens:PMEL154-162\\_TAA-KTWGQYWQV,CASSLGGNTGELFF\\_MCPyV:T-Ag\\_KLLEIAPNC,CASSLGGQPQHF\\_HomoSapiens:MAA\\_NA,CASSLGGRTEAFF\\_HomoSapiens:BPNT1\\_EAGPDAVLRR,CASSLGGSSYEQYF\\_HomoSapiens:MLANA27-35\\_TAA-AAGIGILTV,CASSLGLENEQFF\\_EBV:BMLF1\\_GLCTLVAML,CASSLGLLNTEAFF\\_HomoSapiens:MLANA27-35\\_TAA-AAGIGILTV,CASSLGLSTDTQYF\\_HomoSapiens:NCEH1111-119p.G115R\\_NeoAg-YIHGRGWAL,CASSLGNTEAFF\\_MCPyV:T-Ag\\_KLLEIAPNC,CASSLGQAYEQYF\\_EBV:EBNA3A\\_FLRGRAYGL,CASSLGQAYEQYF\\_HomoSapiens:MLANA\\_EEYLKAWTF,CASSLGQGNSPLHF\\_CMV:pp65\\_NLVPMVATV,CASSLGQGNYGYTF\\_HomoSapiens:MLANA27-35\\_TAA-AAGIGILTV,CASSLGQLNTEAFF\\_HomoSapiens:MAA\\_NA,CASSLGQTNYGYTF\\_HomoSapiens:KRAS\\_GADGVGKSAL,CASSLGRGQFF\\_HCV:NS3\\_KLVALGINAV,CASSLGTGELFF\\_CMV:pp65\\_NLVPMVATV,CASSLIGRDEQFF\\_EBV:BZLF1\\_EPLPQGQLTAY,CASSLLDGNTEAFF\\_HPV:E2-orE5-orE6-orE7\\_NA,CASSLLGETQYF\\_EBV:NA\\_NA,CASSLLLDTQYF\\_EBV:NA\\_NA,CASSLLQETQYF\\_EBV:NA\\_NA,CASSLLSSNQPQHF\\_EBV:NA\\_NA,CASSLMQETQYF\\_EBV:NA\\_NA,CASSLQGYEQYF\\_HPV:E2-orE5-orE6-orE7\\_NA,CASSLREGETQYF\\_S-pneumoniae:NA\\_ECTGLAWEWWRTV,CASSLRGSYEQYV\\_HomoSapiens:DNMT3A\\_p-P282S,CASSLRNTGELFF\\_S-pneumoniae:NA\\_ECTGLAWEWWRTV,CASSLRRGEQYF\\_HomoSapiens:MYH6191-198\\_VIQYFASI,CASSLSDGNYGYTF\\_HPV:E2-orE5-orE6-orE7\\_NA,CASSLSFGTEAFF\\_HomoSapiens:MLANA\\_ELAGIGILTV\\_AAGIGILTV,CASSLSGQPQHF\\_MCPyV:T-Ag\\_KLLEIAPNC,CASSLSQGTEAFF\\_HomoSapiens:MAA\\_NA,CASSLTGGSEAFF\\_HomoSapiens:LMBRD1\\_FIFTSIAGIR,CASSLVDGNYGYTF\\_HPV:E2-orE5-orE6-orE7\\_NA,CASSLVGTGELFF\\_CMV:pp65\\_NLVPMVATV,CASSLWLNEQFF\\_CMV:pp65\\_NLVPMVATV,CASSLYQETQYF\\_EBV:NA\\_NA,CASSLYTGELFF\\_HomoSapiens:ZHX2\\_HPNVILNSLY,CASSMGANEQFF\\_HCV:NS3\\_KLVALGINAV,CASSMGGEQYF\\_HCV:NS3\\_KLVALGINAV,CASSMGGTYEQYF\\_HomoSapiens:PMEL\\_ITDQVPFSV\\_ILDQVPFSV,CASSMLFQETQYF\\_HPV:E2-orE5-orE6-orE7\\_NA,CASSMRSTGELFF\\_Influenza:M\\_GILGFVFTL,CASSNGRGTEQFF\\_S-pneumoniae:NA\\_ECTGLAWEWWRTV,CASSPARNTEAFF\\_CMV:pp65\\_RPHERNGFTV,CASSPDGMNTEAFF\\_HomoSapiens:TMEM161A\\_TMEM161A,CASSPEETQYF\\_M.tuberculosis:CFP10\\_TAAQAAVVRFQEAAN,CASSPGGATEAFF\\_HomoSapiens:MAA\\_NA,CASSPGGELFF\\_HCV:NS3\\_KLVALGINAV,CASSPGGETQYF\\_HomoSapiens:PMEL154-162\\_TAA-KTWGQYWQV,CASSPGGFEAFF\\_HomoSapiens:PIK3CA\\_p-P449T,CASSPGGGNTEAFF\\_S-pneumoniae:NA\\_ECTGLAWEWWRTV,CASSPGGNEQFF\\_HomoSapiens:MAA\\_NA,CASSPGLAGNEQFF\\_HomoSapiens:MAA\\_NA,CASSPGLLTDTQYF\\_HomoSapiens:MAA\\_NA,CASSPGLLTDTQYF\\_HomoSapiens:MLANA27-35\\_TAA-AAGIGILTV,CASSPGQLNTEAFF\\_HomoSapiens:MAA\\_NA,CASSPGQPQHF\\_HomoSapiens:DCAKD198-207p.S199F\\_NeoAg-RFLEYLPLRF,CASSPGQRNTEAFF\\_HomoSapiens:MAA\\_NA,CASSPGSETQYF\\_S-pneumoniae:NA\\_ECTGLAWEWWRTV,CASSPGTENSPLHF\\_HomoSapiens:KRAS\\_p-G13D,CASSPGTLTDTQYF\\_HomoSapiens:MLANA27-35\\_TAA-AAGIGILTV,CASSPHRNTEAFF\\_CMV:pp65\\_RPHERNGFTV,CASSPILQETQYF\\_HPV:E2-orE5-orE6-orE7\\_NA,CASSPLQGYEQYF\\_HPV:E2-orE5-orE6-orE7\\_NA,CASSPPSSGNTIYF\\_MCPyV:T-Ag\\_KLLEIAPNC,CASSPQGLGTEAFF\\_HomoSapiens:MAA\\_NA,CASSPQGVNYGYTF\\_S-pneumoniae:NA\\_ECTGLAWEWWRTV,CASSPRGDTEAFF\\_MCPyV:T-Ag\\_KLLEIAPNC,CASSPRTGNTEAFF\\_CMV:NA\\_NA,CASSPRVPNTEAFF\\_HomoSapiens:HIATL1\\_p-G380V,CASSPSGGTDTQYF\\_HomoSapiens:CNOT2\\_FNGTDGSENVTGFDLSDFPALADRN,CASSPSGLSYEQYF\\_HomoSapiens:MAA\\_NA,CASSPSRNTEAFF\\_CMV:pp65\\_RPHERNGFTV,CASSPTGVGEQFF\\_Influenza:M\\_GILGFVFTL,CASSPWDEQFF\\_MCPyV:T-Ag\\_KLLEIAPNC,CASSQDGMNTEAFF\\_HomoSapiens:TMEM161A\\_TMEM161A,CASSQDRDTQYF\\_CMV:UL40\\_VMAPRTLIL,CASSQETGSYEQFF\\_EBV:EBNA3A\\_RPPIFIRRL,CASSQETGSYEQYF\\_EBV:EBNA3A\\_RPPIFIRRL,CASSQGGGEQYF\\_S-pneumoniae:NA\\_WEWWR,CASSQGNTGELFF\\_HomoSapiens:KRAS\\_p-G13D,CASSQGQDTEAFF\\_HomoSapiens:GLIA-OMEGA1\\_QPFPQPEQPFP,CASSQGRPSTS\\_HomoSapiens:MAA\\_NA,CASSQGSYEQYF\\_HCV:NS3\\_KLVALGINAV,CASSQLGYEQYF\\_HPV:E2-orE5-orE6-orE7\\_NA,CASSQNTGELFF\\_HomoSapiens:TYR207-215\\_TAA-FLPWHRLFL,CASSQQETQYF\\_CEF:NA\\_NA,CASSQSSGANVLTF\\_EBV:EBV\\_NA,CASSQVGETQYF\\_MCPyV:T-Ag\\_KLLEIAPNC,CASSQVGGGEQFF\\_HomoSapiens:MAA\\_NA,CASSRADYGYTF\\_HomoSapiens:SDAD1\\_MAQMRKELDAAPWKSQKRKYIEIDS,CASSRDGMNTEAFF\\_HomoSapiens:TMEM161A\\_TMEM161A,CASSRGDTEAFF\\_HCV:NS3\\_KLVALGINAV,CASSRGLNNQPQHF\\_S-pneumoniae:NA\\_ECTGLAWEWWRTV,CASSRQGENQPQHF\\_HomoSapiens:MAGEC2254-262\\_TAA-NAVGVYAGR,CASSRQGLGTEAFF\\_HomoSapiens:MAA\\_NA,CASSRQTNTEAFF\\_CMV:NA\\_NA,CASSRTGSTYEQYF\\_EBV:BZLF1\\_LPEPLPQGQLTAY,CASSSADGNYGYTF\\_HPV:E2-orE5-orE6-orE7\\_NA,CASSSAFYGYTF\\_CMV:pp65\\_NLVPMVATV,CASSSANYGYTF\\_CMV:pp65\\_NLVPMVATV,CASSSAYYGYTF\\_CMV:pp65\\_NLVPMVATV,CASSSDGMNTEAFF\\_HomoSapiens:TMEM161A\\_TMEM161A,CASSSGATEAFF\\_HCV:NS3\\_KLVALGINAV,CASSSGDGNYGYTF\\_HPV:E2-orE5-orE6-orE7\\_NA,CASSSGETQYF\\_S-pneumoniae:NA\\_ECTGLAWEWWRTV,CASSSGIYGYTF\\_CMV:pp65\\_NLVPMVATV,CASSSGPSYEQYF\\_HomoSapiens:FLNA\\_RSSRTLSR,CASSSGQAYEQYF\\_EBV:EBNA3A\\_FLRGRAYGL,CASSSLNTEAFF\\_EBV:BZLF1\\_RAKFKQLL,CASSSQGGYGYTF\\_HomoSapiens:MAGE-A6\\_KVDPIGHVY,CASSSRAAYEQYF\\_Influenza:M\\_GILGFVFTL,CASSSRASYEQYF\\_Influenza:M\\_GILGFVFTL,CASSSRNSYEQYF\\_Influenza:NA\\_NA,CASSSRSSYEQYF\\_Influenza:M-HA\\_GILGFVFTL\\_PKYVKQNTLKLAT,CASSSVNEQFF\\_CMV:pp65\\_NLVPMVATV,CASSSVSEAFF\\_CMV:pp65\\_NLVPMVATV,CASSTDLNTEAFF\\_CMV:NA\\_NA,CASSTGDSNQPQHF\\_EBV:BZLF1\\_EPLPQGQLTAY,CASSTGFYGYTF\\_Influenza:M\\_GILGFVFTL,CASSTGNEKLFF\\_CMV:NA\\_NA,CASSTGNYGYTF\\_Influenza:M\\_GILGFVFTL,CASSTGSYGYTF\\_CMV:pp65\\_NLVPMVATV,CASSTLFQETQYF\\_HPV:E2-orE5-orE6-orE7\\_NA,CASSTRSTGELFF\\_CMV:pp65\\_NLVPMVATV,CASSTSTDTQYF\\_S-pneumoniae:NA\\_ECTGLAWEWWRTV,CASSVASGTDTQYF\\_EBV:EBNA3A\\_FLRGRAYGL,CASSVDGMNTEAFF\\_HomoSapiens:TMEM161A\\_TMEM161A,CASSVGQGKAFF\\_Influenza:HA\\_PKYVKQNTLKLAT,CASSVGWGGEQFF\\_EBV:NA\\_NA,CASSVLFQETQYF\\_HPV:E2-orE5-orE6-orE7\\_NA,CASSVLNTGELFF\\_MCPyV:T-Ag\\_KLLEIAPNC,CASSVNNEQFF\\_HPV:E2-orE5-orE6-orE7\\_NA,CASSVRSTGELFF\\_Influenza:M\\_GILGFVFTL,CASSWGGGEQYF\\_HCV:NS3\\_KLVALGINAV,CASSWGGNTEAFF\\_HomoSapiens:ZNF219\\_CLASLHPR,CASSWGSGANVLTF\\_HomoSapiens:KPNA2\\_YLRNLTWTL,CASSYGLAGGEQFF\\_HomoSapiens:MAA\\_NA,CASSYGSYEQYF\\_HCV:NS3\\_KLVALGINAV,CASSYNNEQFF\\_HomoSapiens:FLNA\\_RTWRRTRRGRR,CASSYPGTSQFF\\_HomoSapiens:MAA\\_NA,CASSYQGTEAFF\\_HomoSapiens:TERT\\_ILAKFLHWL,CASSYRGSGNTIYF\\_HCV:NS3\\_KLVALGINAV,CASSYSDGNTEAFF\\_HPV:E2-orE5-orE6-orE7\\_NA,CASSYSLNTEAFF\\_CMV:NA\\_NA,CASSYSVLNTEAFF\\_HomoSapiens:MAA\\_NA,CASSYTGELFF\\_HCV:NS3\\_KLVALGINAV,CASTDSNTGELFF\\_MCPyV:T-Ag\\_KLLEIAPNC,CASTEGNTEAFF\\_HomoSapiens:PMEL154-162\\_TAA-KTWGQYWQV,CASTLQETQYF\\_EBV:NA\\_NA,CASTNSGNTIYF\\_HCV:NS3\\_KLVALGINAV,CASTPTENTEAFF\\_CMV:NA\\_NA,CASTQGSTDTQYF\\_HCV:NS3\\_KLVALGINAV,CATGTGDSNQPQHF\\_EBV:BZLF1\\_EPLPQGQLTAY,CATRDINTGELFF\\_MCPyV:T-Ag\\_KLLEIAPNC,CATRRANEQFF\\_HomoSapiens:PMEL589-603\\_TAA-LIMPGQEAGLGQVPL,CATSAGRNEQFF\\_HomoSapiens:MAA\\_NA,CATSALGDTQYF\\_HomoSapiens:MBP\\_NPVVHFFKNIVTPR,CATSEGNEQFF\\_CMV:pp65\\_NLVPMVATV,CATSGTGHSYEQYF\\_HomoSapiens:PPP2R1A\\_p-L432S,CATTGGQNTEAFF\\_HomoSapiens:TP53\\_NSSCMGGMNLR,CAWAESSYNEQFF\\_HomoSapiens:TARS\\_p-E331K,CAWSEQVNTEAFF\\_HomoSapiens:UBE2I51-60p.P52L\\_NeoAg-TLWEGGLFKL,CAWSPDGMNTEAFF\\_HomoSapiens:TMEM161A\\_TMEM161A,CAWSPVNTEAFF\\_HomoSapiens:FAM50B72-80p.E78K\\_NeoAg-DMKARQKAL,CPSSSGDGNYGYTF\\_HPV:E2-orE5-orE6-orE7\\_NA,CSADLNTEAFF\\_HomoSapiens:C2orf16\\_TLIDVPKV,CSAEQGANTGELFF\\_HomoSapiens:PMEL154-162\\_TAA-KTWGQYWQV,CSARGADTQYF\\_CMV:pp65\\_NLVPMVATV,CSARTGYNEQFF\\_MCPyV:T-Ag\\_KLLEIAPNC,CSASEGAYGYTF\\_S-pneumoniae:NA\\_ECTGLAWEWWRTV,CSASMRDEQYF\\_S-pneumoniae:NA\\_ECTGLAWEWWRTV,CSATGGTGNTIYF\\_EBV:NA\\_NA,CSVEGDTGELFF\\_CMV:pp65\\_NLVPMVATV,CSVEGTENTGELFF\\_EBV:NA\\_NA,CSVGGAYEQYF\\_EBV:EBNA3A\\_RPPIFIRRL,CSVPLTGNTEAFF\\_EBV:NA\\_NA,CSVVDRGYGYTF\\_EBV:NA\\_NA,CTSSPILQETQYF\\_HPV:E2-orE5-orE6-orE7\\_NA,YASSLTGGTEAFF\\_HomoSapiens:MAA\\_NA & CHP\\_373\\_X01-PBMC & CHP\\_373 & X01 & CAFSGDSSYNEQFF\\_Leukemia  & CAFSGDSSYNEQFF & Leukemia    &   6 & 4.6e-04\\\\\n",
       "\t 1 & 17492 & CAGRGTGELFF\\_Leukemia:CHP\\_373\\_X01-PBMC     & 8263 & 115 & cfDNA,PBMC,Tumor & X00,X01,X02,X03,X04,X05 & 6 & CEF,CMV,EBV,HCV,HomoSapiens,HPV,Influenza,Leukemia,LFS,Lymphoma,M.tuberculosis,MCPyV,MDavis,Normal,S-pneumoniae,Solidtumors,T-cellmalignancies & CACSVLNTGELFF\\_MCPyV:T-Ag\\_KLLEIAPNC,CAGSQDGMNTEAFF\\_HomoSapiens:TMEM161A\\_TMEM161A,CAIRDSNTGELFF\\_MCPyV:T-Ag\\_KLLEIAPNC,CAIRGQNTGELFF\\_MCPyV:T-Ag\\_KLLEIAPNC,CAISEDGMNTEAFF\\_HomoSapiens:TMEM161A\\_TMEM161A,CAISGEGNTEAFF\\_CMV:NA\\_NA,CAISSGGADTQYF\\_S-pneumoniae:NA\\_ECTGLAWEWWRTV,CAISTGDSNQPQHF\\_EBV:BZLF1\\_EPLPQGQLTAY,CANSQPGGIEQFF\\_EBV:BZLF1\\_EPLPQGQLTAY,CARSVLNTGELFF\\_MCPyV:T-Ag\\_KLLEIAPNC,CASDSNTEAFF\\_HCV:NS3\\_KLVALGINAV,CASGQGQETQYF\\_HCV:NS3\\_KLVALGINAV,CASGTGDSNQPQHF\\_EBV:BZLF1\\_EPLPQGQLTAY,CASIRGYEQYF\\_HomoSapiens:MAA\\_NA,CASQGGTEAFF\\_HomoSapiens:MAA\\_NA,CASRDGDEQYF\\_S-pneumoniae:NA\\_ECTGLAWEWWRTV,CASRDQNTGELFF\\_MCPyV:T-Ag\\_KLLEIAPNC,CASRDSSSYEQYF\\_HomoSapiens:PLECp.P3283S\\_NeoAg-GGIVDSSKSHRVPLD,CASRGGFNEKLFF\\_CMV:NA\\_NA,CASRGGSSYNEQFF\\_MCPyV:T-Ag\\_KLLEIAPNC,CASRGQNTGELFF\\_MCPyV:T-Ag\\_KLLEIAPNC,CASRIGNTGELFF\\_HomoSapiens:KRAS\\_p-G13D,CASRQGGQPQHF\\_HomoSapiens:MAA\\_NA,CASRQGNTGELFF\\_HomoSapiens:KRAS\\_p-G13D,CASRRGPYEQYF\\_HCV:NS3\\_KLVALGINAV-orKLVALVINAV,CASRRSNQPQHF\\_HomoSapiens:CMKLR1\\_FLEDLSPL,CASSAGAEQYF\\_HomoSapiens:PIK3CA\\_p-P449T,CASSASNYGYTF\\_HomoSapiens:DDX18\\_VKYHYELLNYIDMPVLAIHGKQKQN,CASSDALQETQYF\\_CMV:pp65\\_NLVPMVATV,CASSDDRGPYEQYF\\_HCV:NS3\\_KLVALGINAV,CASSDGGEQYF\\_S-pneumoniae:NA\\_GLAWEWWRTV,CASSDGGVKYF\\_S-pneumoniae:NA\\_ECTGLAWEWWRTV,CASSDGVGTEAFF\\_HomoSapiens:RPS9p.P68S\\_NeoAg-AARELLTLDEKDSRRLFE,CASSDPGTEAFF\\_HomoSapiens:KRAS\\_GADGVGKSAL,CASSDSYGYTF\\_HCV:NS3\\_KLVALGINAV,CASSDYYEQYF\\_S-pneumoniae:NA\\_ECTGLAWEWWRTV,CASSEDGMNTEAFF\\_HomoSapiens:TMEM161A\\_TMEM161A,CASSEGDTEAFF\\_HCV:NS3\\_KLVALGINAV,CASSEGQGNSPLHF\\_MCPyV:T-Ag\\_KLLEIAPNC,CASSEGQSYEQYF\\_MCPyV:T-Ag\\_KLLEIAPNC,CASSESGRNTEAFX\\_S-pneumoniae:NA\\_ECTGLAWEWWRTV,CASSFDRGYGYTF\\_HomoSapiens:MAGE-A6\\_NA,CASSFGADTQYF\\_HCV:NS3\\_KLVALGINAV,CASSFGGAYEQYF\\_HomoSapiens:MED13\\_VQIISCQY,CASSFGGEQFF\\_HomoSapiens:DOPEY2\\_FRFSMIWHL,CASSFGSEQYF\\_MCPyV:T-Ag\\_KLLEIAPNC,CASSFGSYEQYF\\_HomoSapiens:NUP214\\_SVYWSPKGK,CASSFIGGTDTQYF\\_HomoSapiens:gp100\\_YLEPGPVTA,CASSFLGTGELFF\\_HomoSapiens:TARS\\_p-E331K,CASSFQGFTEAFF\\_CMV:pp65\\_NLVPMVATV,CASSFQGYTEAFF\\_CMV:pp65\\_NLVPMVATV,CASSFTLNTEAFF\\_CMV:NA\\_NA,CASSFWGNTEAFF\\_HomoSapiens:FAM135A\\_AGASSIWYR,CASSGDGMNTEAFF\\_HomoSapiens:TMEM161A\\_TMEM161A,CASSGENTEAFF\\_CMV:NA\\_NA,CASSGQNTGELFF\\_MCPyV:T-Ag\\_KLLEIAPNC,CASSGTHNEQFF\\_EBV:EBNA3A\\_RPPIFIRRL,CASSGYTGELFF\\_HCV:NS3\\_KLVALGINAV,CASSHAGRNTEAFF\\_HomoSapiens:MAA\\_NA,CASSHQTGELFF\\_CMV:pp65\\_NLVPMVATV,CASSHREGETQYF\\_S-pneumoniae:NA\\_ECTGLAWEWWRTV,CASSIGGDYGYTF\\_HomoSapiens:MLANA27-35\\_TAA-AAGIGILTV,CASSIGQYEQYF\\_HCV:NS3\\_KLVALGINAV,CASSIGVGTEQYF\\_HomoSapiens:MAA\\_NA,CASSIGVYGYTF\\_Influenza:M\\_GILGFVFTL,CASSIRASYEQYF\\_Influenza:M\\_GILGFVFTL,CASSIRSAHEQFF\\_Influenza:M\\_GILGFVFTL,CASSIRSSYEQYF\\_Influenza:M\\_GILGFVFTL,CASSIRSTDTQYF\\_Influenza:M\\_GILGFVFTL,CASSIRSTGELFF\\_Influenza:M\\_GILGFVFTL,CASSITLNTEAFF\\_CMV:NA\\_NA,CASSLAADTQYF\\_EBV:NA\\_NA,CASSLAGDRYF\\_MCPyV:T-Ag\\_KLLEIAPNC,CASSLAGDYEQYF\\_CMV:pp65\\_NLVPMVATV,CASSLAGFRFF\\_MCPyV:T-Ag\\_KLLEIAPNC,CASSLAGFTGELFF\\_CMV:pp65\\_NLVPMVATV,CASSLAGPETQYF\\_HomoSapiens:TP53\\_p-T172I,CASSLAQGTDTQYF\\_HomoSapiens:LAMC1p.S1509F\\_NeoAg-KAKNFVTSLLSIIND,CASSLATGGEQFF\\_EBV:NA\\_NA,CASSLDENTEAFF\\_CMV:NA\\_NA,CASSLDGMNTEAFF\\_HomoSapiens:TMEM161A\\_TMEM161A,CASSLDLYGYTF\\_CMV:pp65\\_NLVPMVATV,CASSLDNEKLFF\\_S-pneumoniae:NA\\_ECTGLAWEWWRTV,CASSLDPYEQYF\\_HomoSapiens:CARM1\\_FAAQAGAWKIY,CASSLDSSNQPQHF\\_CMV:NA\\_NA,CASSLEGANYGYTF\\_HPV:E2-orE5-orE6-orE7\\_NA,CASSLEGDTEAFF\\_MCPyV:T-Ag\\_KLLEIAPNC,CASSLEGSYEQYF\\_EBV:BZLF1\\_KLVALGINAV,CASSLEGSYEQYF\\_HCV:NS3\\_KLVALGINAV,CASSLETVNTEAFF\\_CMV:pp65\\_NLVPMVATV,CASSLETVYGYTF\\_S-pneumoniae:NA\\_ECTGLAWEWWRTV,CASSLFGGTEAFF\\_HomoSapiens:MAA\\_NA,CASSLGANTGELFF\\_HomoSapiens:SCML2\\_LPDHFGLGPV,CASSLGDGNYGYTF\\_HPV:E2-orE5-orE6-orE7\\_NA,CASSLGEKLFF\\_HCV:NS3\\_KLVALGINAV,CASSLGGAEQFF\\_HomoSapiens:MAA\\_NA,CASSLGGDIQYF\\_HCV:NS3\\_KLVALGINAV,CASSLGGGPDTQYF\\_HomoSapiens:PMEL154-162\\_TAA-KTWGQYWQV,CASSLGGGTDTQYF\\_HomoSapiens:PMEL154-162\\_TAA-KTWGQYWQV,CASSLGGNTGELFF\\_MCPyV:T-Ag\\_KLLEIAPNC,CASSLGGQPQHF\\_HomoSapiens:MAA\\_NA,CASSLGGRTEAFF\\_HomoSapiens:BPNT1\\_EAGPDAVLRR,CASSLGGSSYEQYF\\_HomoSapiens:MLANA27-35\\_TAA-AAGIGILTV,CASSLGLENEQFF\\_EBV:BMLF1\\_GLCTLVAML,CASSLGLLNTEAFF\\_HomoSapiens:MLANA27-35\\_TAA-AAGIGILTV,CASSLGLSTDTQYF\\_HomoSapiens:NCEH1111-119p.G115R\\_NeoAg-YIHGRGWAL,CASSLGNTEAFF\\_MCPyV:T-Ag\\_KLLEIAPNC,CASSLGQAYEQYF\\_EBV:EBNA3A\\_FLRGRAYGL,CASSLGQAYEQYF\\_HomoSapiens:MLANA\\_EEYLKAWTF,CASSLGQGNSPLHF\\_CMV:pp65\\_NLVPMVATV,CASSLGQGNYGYTF\\_HomoSapiens:MLANA27-35\\_TAA-AAGIGILTV,CASSLGQLNTEAFF\\_HomoSapiens:MAA\\_NA,CASSLGQTNYGYTF\\_HomoSapiens:KRAS\\_GADGVGKSAL,CASSLGRGQFF\\_HCV:NS3\\_KLVALGINAV,CASSLGTGELFF\\_CMV:pp65\\_NLVPMVATV,CASSLIGRDEQFF\\_EBV:BZLF1\\_EPLPQGQLTAY,CASSLLDGNTEAFF\\_HPV:E2-orE5-orE6-orE7\\_NA,CASSLLGETQYF\\_EBV:NA\\_NA,CASSLLLDTQYF\\_EBV:NA\\_NA,CASSLLQETQYF\\_EBV:NA\\_NA,CASSLLSSNQPQHF\\_EBV:NA\\_NA,CASSLMQETQYF\\_EBV:NA\\_NA,CASSLQGYEQYF\\_HPV:E2-orE5-orE6-orE7\\_NA,CASSLREGETQYF\\_S-pneumoniae:NA\\_ECTGLAWEWWRTV,CASSLRGSYEQYV\\_HomoSapiens:DNMT3A\\_p-P282S,CASSLRNTGELFF\\_S-pneumoniae:NA\\_ECTGLAWEWWRTV,CASSLRRGEQYF\\_HomoSapiens:MYH6191-198\\_VIQYFASI,CASSLSDGNYGYTF\\_HPV:E2-orE5-orE6-orE7\\_NA,CASSLSFGTEAFF\\_HomoSapiens:MLANA\\_ELAGIGILTV\\_AAGIGILTV,CASSLSGQPQHF\\_MCPyV:T-Ag\\_KLLEIAPNC,CASSLSQGTEAFF\\_HomoSapiens:MAA\\_NA,CASSLTGGSEAFF\\_HomoSapiens:LMBRD1\\_FIFTSIAGIR,CASSLVDGNYGYTF\\_HPV:E2-orE5-orE6-orE7\\_NA,CASSLVGTGELFF\\_CMV:pp65\\_NLVPMVATV,CASSLWLNEQFF\\_CMV:pp65\\_NLVPMVATV,CASSLYQETQYF\\_EBV:NA\\_NA,CASSLYTGELFF\\_HomoSapiens:ZHX2\\_HPNVILNSLY,CASSMGANEQFF\\_HCV:NS3\\_KLVALGINAV,CASSMGGEQYF\\_HCV:NS3\\_KLVALGINAV,CASSMGGTYEQYF\\_HomoSapiens:PMEL\\_ITDQVPFSV\\_ILDQVPFSV,CASSMLFQETQYF\\_HPV:E2-orE5-orE6-orE7\\_NA,CASSMRSTGELFF\\_Influenza:M\\_GILGFVFTL,CASSNGRGTEQFF\\_S-pneumoniae:NA\\_ECTGLAWEWWRTV,CASSPARNTEAFF\\_CMV:pp65\\_RPHERNGFTV,CASSPDGMNTEAFF\\_HomoSapiens:TMEM161A\\_TMEM161A,CASSPEETQYF\\_M.tuberculosis:CFP10\\_TAAQAAVVRFQEAAN,CASSPGGATEAFF\\_HomoSapiens:MAA\\_NA,CASSPGGELFF\\_HCV:NS3\\_KLVALGINAV,CASSPGGETQYF\\_HomoSapiens:PMEL154-162\\_TAA-KTWGQYWQV,CASSPGGFEAFF\\_HomoSapiens:PIK3CA\\_p-P449T,CASSPGGGNTEAFF\\_S-pneumoniae:NA\\_ECTGLAWEWWRTV,CASSPGGNEQFF\\_HomoSapiens:MAA\\_NA,CASSPGLAGNEQFF\\_HomoSapiens:MAA\\_NA,CASSPGLLTDTQYF\\_HomoSapiens:MAA\\_NA,CASSPGLLTDTQYF\\_HomoSapiens:MLANA27-35\\_TAA-AAGIGILTV,CASSPGQLNTEAFF\\_HomoSapiens:MAA\\_NA,CASSPGQPQHF\\_HomoSapiens:DCAKD198-207p.S199F\\_NeoAg-RFLEYLPLRF,CASSPGQRNTEAFF\\_HomoSapiens:MAA\\_NA,CASSPGSETQYF\\_S-pneumoniae:NA\\_ECTGLAWEWWRTV,CASSPGTENSPLHF\\_HomoSapiens:KRAS\\_p-G13D,CASSPGTLTDTQYF\\_HomoSapiens:MLANA27-35\\_TAA-AAGIGILTV,CASSPHRNTEAFF\\_CMV:pp65\\_RPHERNGFTV,CASSPILQETQYF\\_HPV:E2-orE5-orE6-orE7\\_NA,CASSPLQGYEQYF\\_HPV:E2-orE5-orE6-orE7\\_NA,CASSPPSSGNTIYF\\_MCPyV:T-Ag\\_KLLEIAPNC,CASSPQGLGTEAFF\\_HomoSapiens:MAA\\_NA,CASSPQGVNYGYTF\\_S-pneumoniae:NA\\_ECTGLAWEWWRTV,CASSPRGDTEAFF\\_MCPyV:T-Ag\\_KLLEIAPNC,CASSPRTGNTEAFF\\_CMV:NA\\_NA,CASSPRVPNTEAFF\\_HomoSapiens:HIATL1\\_p-G380V,CASSPSGGTDTQYF\\_HomoSapiens:CNOT2\\_FNGTDGSENVTGFDLSDFPALADRN,CASSPSGLSYEQYF\\_HomoSapiens:MAA\\_NA,CASSPSRNTEAFF\\_CMV:pp65\\_RPHERNGFTV,CASSPTGVGEQFF\\_Influenza:M\\_GILGFVFTL,CASSPWDEQFF\\_MCPyV:T-Ag\\_KLLEIAPNC,CASSQDGMNTEAFF\\_HomoSapiens:TMEM161A\\_TMEM161A,CASSQDRDTQYF\\_CMV:UL40\\_VMAPRTLIL,CASSQETGSYEQFF\\_EBV:EBNA3A\\_RPPIFIRRL,CASSQETGSYEQYF\\_EBV:EBNA3A\\_RPPIFIRRL,CASSQGGGEQYF\\_S-pneumoniae:NA\\_WEWWR,CASSQGNTGELFF\\_HomoSapiens:KRAS\\_p-G13D,CASSQGQDTEAFF\\_HomoSapiens:GLIA-OMEGA1\\_QPFPQPEQPFP,CASSQGRPSTS\\_HomoSapiens:MAA\\_NA,CASSQGSYEQYF\\_HCV:NS3\\_KLVALGINAV,CASSQLGYEQYF\\_HPV:E2-orE5-orE6-orE7\\_NA,CASSQNTGELFF\\_HomoSapiens:TYR207-215\\_TAA-FLPWHRLFL,CASSQQETQYF\\_CEF:NA\\_NA,CASSQSSGANVLTF\\_EBV:EBV\\_NA,CASSQVGETQYF\\_MCPyV:T-Ag\\_KLLEIAPNC,CASSQVGGGEQFF\\_HomoSapiens:MAA\\_NA,CASSRADYGYTF\\_HomoSapiens:SDAD1\\_MAQMRKELDAAPWKSQKRKYIEIDS,CASSRDGMNTEAFF\\_HomoSapiens:TMEM161A\\_TMEM161A,CASSRGDTEAFF\\_HCV:NS3\\_KLVALGINAV,CASSRGLNNQPQHF\\_S-pneumoniae:NA\\_ECTGLAWEWWRTV,CASSRQGENQPQHF\\_HomoSapiens:MAGEC2254-262\\_TAA-NAVGVYAGR,CASSRQGLGTEAFF\\_HomoSapiens:MAA\\_NA,CASSRQTNTEAFF\\_CMV:NA\\_NA,CASSRTGSTYEQYF\\_EBV:BZLF1\\_LPEPLPQGQLTAY,CASSSADGNYGYTF\\_HPV:E2-orE5-orE6-orE7\\_NA,CASSSAFYGYTF\\_CMV:pp65\\_NLVPMVATV,CASSSANYGYTF\\_CMV:pp65\\_NLVPMVATV,CASSSAYYGYTF\\_CMV:pp65\\_NLVPMVATV,CASSSDGMNTEAFF\\_HomoSapiens:TMEM161A\\_TMEM161A,CASSSGATEAFF\\_HCV:NS3\\_KLVALGINAV,CASSSGDGNYGYTF\\_HPV:E2-orE5-orE6-orE7\\_NA,CASSSGETQYF\\_S-pneumoniae:NA\\_ECTGLAWEWWRTV,CASSSGIYGYTF\\_CMV:pp65\\_NLVPMVATV,CASSSGPSYEQYF\\_HomoSapiens:FLNA\\_RSSRTLSR,CASSSGQAYEQYF\\_EBV:EBNA3A\\_FLRGRAYGL,CASSSLNTEAFF\\_EBV:BZLF1\\_RAKFKQLL,CASSSQGGYGYTF\\_HomoSapiens:MAGE-A6\\_KVDPIGHVY,CASSSRAAYEQYF\\_Influenza:M\\_GILGFVFTL,CASSSRASYEQYF\\_Influenza:M\\_GILGFVFTL,CASSSRNSYEQYF\\_Influenza:NA\\_NA,CASSSRSSYEQYF\\_Influenza:M-HA\\_GILGFVFTL\\_PKYVKQNTLKLAT,CASSSVNEQFF\\_CMV:pp65\\_NLVPMVATV,CASSSVSEAFF\\_CMV:pp65\\_NLVPMVATV,CASSTDLNTEAFF\\_CMV:NA\\_NA,CASSTGDSNQPQHF\\_EBV:BZLF1\\_EPLPQGQLTAY,CASSTGFYGYTF\\_Influenza:M\\_GILGFVFTL,CASSTGNEKLFF\\_CMV:NA\\_NA,CASSTGNYGYTF\\_Influenza:M\\_GILGFVFTL,CASSTGSYGYTF\\_CMV:pp65\\_NLVPMVATV,CASSTLFQETQYF\\_HPV:E2-orE5-orE6-orE7\\_NA,CASSTRSTGELFF\\_CMV:pp65\\_NLVPMVATV,CASSTSTDTQYF\\_S-pneumoniae:NA\\_ECTGLAWEWWRTV,CASSVASGTDTQYF\\_EBV:EBNA3A\\_FLRGRAYGL,CASSVDGMNTEAFF\\_HomoSapiens:TMEM161A\\_TMEM161A,CASSVGQGKAFF\\_Influenza:HA\\_PKYVKQNTLKLAT,CASSVGWGGEQFF\\_EBV:NA\\_NA,CASSVLFQETQYF\\_HPV:E2-orE5-orE6-orE7\\_NA,CASSVLNTGELFF\\_MCPyV:T-Ag\\_KLLEIAPNC,CASSVNNEQFF\\_HPV:E2-orE5-orE6-orE7\\_NA,CASSVRSTGELFF\\_Influenza:M\\_GILGFVFTL,CASSWGGGEQYF\\_HCV:NS3\\_KLVALGINAV,CASSWGGNTEAFF\\_HomoSapiens:ZNF219\\_CLASLHPR,CASSWGSGANVLTF\\_HomoSapiens:KPNA2\\_YLRNLTWTL,CASSYGLAGGEQFF\\_HomoSapiens:MAA\\_NA,CASSYGSYEQYF\\_HCV:NS3\\_KLVALGINAV,CASSYNNEQFF\\_HomoSapiens:FLNA\\_RTWRRTRRGRR,CASSYPGTSQFF\\_HomoSapiens:MAA\\_NA,CASSYQGTEAFF\\_HomoSapiens:TERT\\_ILAKFLHWL,CASSYRGSGNTIYF\\_HCV:NS3\\_KLVALGINAV,CASSYSDGNTEAFF\\_HPV:E2-orE5-orE6-orE7\\_NA,CASSYSLNTEAFF\\_CMV:NA\\_NA,CASSYSVLNTEAFF\\_HomoSapiens:MAA\\_NA,CASSYTGELFF\\_HCV:NS3\\_KLVALGINAV,CASTDSNTGELFF\\_MCPyV:T-Ag\\_KLLEIAPNC,CASTEGNTEAFF\\_HomoSapiens:PMEL154-162\\_TAA-KTWGQYWQV,CASTLQETQYF\\_EBV:NA\\_NA,CASTNSGNTIYF\\_HCV:NS3\\_KLVALGINAV,CASTPTENTEAFF\\_CMV:NA\\_NA,CASTQGSTDTQYF\\_HCV:NS3\\_KLVALGINAV,CATGTGDSNQPQHF\\_EBV:BZLF1\\_EPLPQGQLTAY,CATRDINTGELFF\\_MCPyV:T-Ag\\_KLLEIAPNC,CATRRANEQFF\\_HomoSapiens:PMEL589-603\\_TAA-LIMPGQEAGLGQVPL,CATSAGRNEQFF\\_HomoSapiens:MAA\\_NA,CATSALGDTQYF\\_HomoSapiens:MBP\\_NPVVHFFKNIVTPR,CATSEGNEQFF\\_CMV:pp65\\_NLVPMVATV,CATSGTGHSYEQYF\\_HomoSapiens:PPP2R1A\\_p-L432S,CATTGGQNTEAFF\\_HomoSapiens:TP53\\_NSSCMGGMNLR,CAWAESSYNEQFF\\_HomoSapiens:TARS\\_p-E331K,CAWSEQVNTEAFF\\_HomoSapiens:UBE2I51-60p.P52L\\_NeoAg-TLWEGGLFKL,CAWSPDGMNTEAFF\\_HomoSapiens:TMEM161A\\_TMEM161A,CAWSPVNTEAFF\\_HomoSapiens:FAM50B72-80p.E78K\\_NeoAg-DMKARQKAL,CPSSSGDGNYGYTF\\_HPV:E2-orE5-orE6-orE7\\_NA,CSADLNTEAFF\\_HomoSapiens:C2orf16\\_TLIDVPKV,CSAEQGANTGELFF\\_HomoSapiens:PMEL154-162\\_TAA-KTWGQYWQV,CSARGADTQYF\\_CMV:pp65\\_NLVPMVATV,CSARTGYNEQFF\\_MCPyV:T-Ag\\_KLLEIAPNC,CSASEGAYGYTF\\_S-pneumoniae:NA\\_ECTGLAWEWWRTV,CSASMRDEQYF\\_S-pneumoniae:NA\\_ECTGLAWEWWRTV,CSATGGTGNTIYF\\_EBV:NA\\_NA,CSVEGDTGELFF\\_CMV:pp65\\_NLVPMVATV,CSVEGTENTGELFF\\_EBV:NA\\_NA,CSVGGAYEQYF\\_EBV:EBNA3A\\_RPPIFIRRL,CSVPLTGNTEAFF\\_EBV:NA\\_NA,CSVVDRGYGYTF\\_EBV:NA\\_NA,CTSSPILQETQYF\\_HPV:E2-orE5-orE6-orE7\\_NA,YASSLTGGTEAFF\\_HomoSapiens:MAA\\_NA & CHP\\_373\\_X01-PBMC & CHP\\_373 & X01 & CAGRGTGELFF\\_Leukemia     & CAGRGTGELFF    & Leukemia    &   7 & 6.2e-06\\\\\n",
       "\t 1 & 17492 & CAGSLGINEQFF\\_Leukemia:CHP\\_353\\_X01-PBMC    & 8263 & 115 & cfDNA,PBMC,Tumor & X00,X01,X02,X03,X04,X05 & 6 & CEF,CMV,EBV,HCV,HomoSapiens,HPV,Influenza,Leukemia,LFS,Lymphoma,M.tuberculosis,MCPyV,MDavis,Normal,S-pneumoniae,Solidtumors,T-cellmalignancies & CACSVLNTGELFF\\_MCPyV:T-Ag\\_KLLEIAPNC,CAGSQDGMNTEAFF\\_HomoSapiens:TMEM161A\\_TMEM161A,CAIRDSNTGELFF\\_MCPyV:T-Ag\\_KLLEIAPNC,CAIRGQNTGELFF\\_MCPyV:T-Ag\\_KLLEIAPNC,CAISEDGMNTEAFF\\_HomoSapiens:TMEM161A\\_TMEM161A,CAISGEGNTEAFF\\_CMV:NA\\_NA,CAISSGGADTQYF\\_S-pneumoniae:NA\\_ECTGLAWEWWRTV,CAISTGDSNQPQHF\\_EBV:BZLF1\\_EPLPQGQLTAY,CANSQPGGIEQFF\\_EBV:BZLF1\\_EPLPQGQLTAY,CARSVLNTGELFF\\_MCPyV:T-Ag\\_KLLEIAPNC,CASDSNTEAFF\\_HCV:NS3\\_KLVALGINAV,CASGQGQETQYF\\_HCV:NS3\\_KLVALGINAV,CASGTGDSNQPQHF\\_EBV:BZLF1\\_EPLPQGQLTAY,CASIRGYEQYF\\_HomoSapiens:MAA\\_NA,CASQGGTEAFF\\_HomoSapiens:MAA\\_NA,CASRDGDEQYF\\_S-pneumoniae:NA\\_ECTGLAWEWWRTV,CASRDQNTGELFF\\_MCPyV:T-Ag\\_KLLEIAPNC,CASRDSSSYEQYF\\_HomoSapiens:PLECp.P3283S\\_NeoAg-GGIVDSSKSHRVPLD,CASRGGFNEKLFF\\_CMV:NA\\_NA,CASRGGSSYNEQFF\\_MCPyV:T-Ag\\_KLLEIAPNC,CASRGQNTGELFF\\_MCPyV:T-Ag\\_KLLEIAPNC,CASRIGNTGELFF\\_HomoSapiens:KRAS\\_p-G13D,CASRQGGQPQHF\\_HomoSapiens:MAA\\_NA,CASRQGNTGELFF\\_HomoSapiens:KRAS\\_p-G13D,CASRRGPYEQYF\\_HCV:NS3\\_KLVALGINAV-orKLVALVINAV,CASRRSNQPQHF\\_HomoSapiens:CMKLR1\\_FLEDLSPL,CASSAGAEQYF\\_HomoSapiens:PIK3CA\\_p-P449T,CASSASNYGYTF\\_HomoSapiens:DDX18\\_VKYHYELLNYIDMPVLAIHGKQKQN,CASSDALQETQYF\\_CMV:pp65\\_NLVPMVATV,CASSDDRGPYEQYF\\_HCV:NS3\\_KLVALGINAV,CASSDGGEQYF\\_S-pneumoniae:NA\\_GLAWEWWRTV,CASSDGGVKYF\\_S-pneumoniae:NA\\_ECTGLAWEWWRTV,CASSDGVGTEAFF\\_HomoSapiens:RPS9p.P68S\\_NeoAg-AARELLTLDEKDSRRLFE,CASSDPGTEAFF\\_HomoSapiens:KRAS\\_GADGVGKSAL,CASSDSYGYTF\\_HCV:NS3\\_KLVALGINAV,CASSDYYEQYF\\_S-pneumoniae:NA\\_ECTGLAWEWWRTV,CASSEDGMNTEAFF\\_HomoSapiens:TMEM161A\\_TMEM161A,CASSEGDTEAFF\\_HCV:NS3\\_KLVALGINAV,CASSEGQGNSPLHF\\_MCPyV:T-Ag\\_KLLEIAPNC,CASSEGQSYEQYF\\_MCPyV:T-Ag\\_KLLEIAPNC,CASSESGRNTEAFX\\_S-pneumoniae:NA\\_ECTGLAWEWWRTV,CASSFDRGYGYTF\\_HomoSapiens:MAGE-A6\\_NA,CASSFGADTQYF\\_HCV:NS3\\_KLVALGINAV,CASSFGGAYEQYF\\_HomoSapiens:MED13\\_VQIISCQY,CASSFGGEQFF\\_HomoSapiens:DOPEY2\\_FRFSMIWHL,CASSFGSEQYF\\_MCPyV:T-Ag\\_KLLEIAPNC,CASSFGSYEQYF\\_HomoSapiens:NUP214\\_SVYWSPKGK,CASSFIGGTDTQYF\\_HomoSapiens:gp100\\_YLEPGPVTA,CASSFLGTGELFF\\_HomoSapiens:TARS\\_p-E331K,CASSFQGFTEAFF\\_CMV:pp65\\_NLVPMVATV,CASSFQGYTEAFF\\_CMV:pp65\\_NLVPMVATV,CASSFTLNTEAFF\\_CMV:NA\\_NA,CASSFWGNTEAFF\\_HomoSapiens:FAM135A\\_AGASSIWYR,CASSGDGMNTEAFF\\_HomoSapiens:TMEM161A\\_TMEM161A,CASSGENTEAFF\\_CMV:NA\\_NA,CASSGQNTGELFF\\_MCPyV:T-Ag\\_KLLEIAPNC,CASSGTHNEQFF\\_EBV:EBNA3A\\_RPPIFIRRL,CASSGYTGELFF\\_HCV:NS3\\_KLVALGINAV,CASSHAGRNTEAFF\\_HomoSapiens:MAA\\_NA,CASSHQTGELFF\\_CMV:pp65\\_NLVPMVATV,CASSHREGETQYF\\_S-pneumoniae:NA\\_ECTGLAWEWWRTV,CASSIGGDYGYTF\\_HomoSapiens:MLANA27-35\\_TAA-AAGIGILTV,CASSIGQYEQYF\\_HCV:NS3\\_KLVALGINAV,CASSIGVGTEQYF\\_HomoSapiens:MAA\\_NA,CASSIGVYGYTF\\_Influenza:M\\_GILGFVFTL,CASSIRASYEQYF\\_Influenza:M\\_GILGFVFTL,CASSIRSAHEQFF\\_Influenza:M\\_GILGFVFTL,CASSIRSSYEQYF\\_Influenza:M\\_GILGFVFTL,CASSIRSTDTQYF\\_Influenza:M\\_GILGFVFTL,CASSIRSTGELFF\\_Influenza:M\\_GILGFVFTL,CASSITLNTEAFF\\_CMV:NA\\_NA,CASSLAADTQYF\\_EBV:NA\\_NA,CASSLAGDRYF\\_MCPyV:T-Ag\\_KLLEIAPNC,CASSLAGDYEQYF\\_CMV:pp65\\_NLVPMVATV,CASSLAGFRFF\\_MCPyV:T-Ag\\_KLLEIAPNC,CASSLAGFTGELFF\\_CMV:pp65\\_NLVPMVATV,CASSLAGPETQYF\\_HomoSapiens:TP53\\_p-T172I,CASSLAQGTDTQYF\\_HomoSapiens:LAMC1p.S1509F\\_NeoAg-KAKNFVTSLLSIIND,CASSLATGGEQFF\\_EBV:NA\\_NA,CASSLDENTEAFF\\_CMV:NA\\_NA,CASSLDGMNTEAFF\\_HomoSapiens:TMEM161A\\_TMEM161A,CASSLDLYGYTF\\_CMV:pp65\\_NLVPMVATV,CASSLDNEKLFF\\_S-pneumoniae:NA\\_ECTGLAWEWWRTV,CASSLDPYEQYF\\_HomoSapiens:CARM1\\_FAAQAGAWKIY,CASSLDSSNQPQHF\\_CMV:NA\\_NA,CASSLEGANYGYTF\\_HPV:E2-orE5-orE6-orE7\\_NA,CASSLEGDTEAFF\\_MCPyV:T-Ag\\_KLLEIAPNC,CASSLEGSYEQYF\\_EBV:BZLF1\\_KLVALGINAV,CASSLEGSYEQYF\\_HCV:NS3\\_KLVALGINAV,CASSLETVNTEAFF\\_CMV:pp65\\_NLVPMVATV,CASSLETVYGYTF\\_S-pneumoniae:NA\\_ECTGLAWEWWRTV,CASSLFGGTEAFF\\_HomoSapiens:MAA\\_NA,CASSLGANTGELFF\\_HomoSapiens:SCML2\\_LPDHFGLGPV,CASSLGDGNYGYTF\\_HPV:E2-orE5-orE6-orE7\\_NA,CASSLGEKLFF\\_HCV:NS3\\_KLVALGINAV,CASSLGGAEQFF\\_HomoSapiens:MAA\\_NA,CASSLGGDIQYF\\_HCV:NS3\\_KLVALGINAV,CASSLGGGPDTQYF\\_HomoSapiens:PMEL154-162\\_TAA-KTWGQYWQV,CASSLGGGTDTQYF\\_HomoSapiens:PMEL154-162\\_TAA-KTWGQYWQV,CASSLGGNTGELFF\\_MCPyV:T-Ag\\_KLLEIAPNC,CASSLGGQPQHF\\_HomoSapiens:MAA\\_NA,CASSLGGRTEAFF\\_HomoSapiens:BPNT1\\_EAGPDAVLRR,CASSLGGSSYEQYF\\_HomoSapiens:MLANA27-35\\_TAA-AAGIGILTV,CASSLGLENEQFF\\_EBV:BMLF1\\_GLCTLVAML,CASSLGLLNTEAFF\\_HomoSapiens:MLANA27-35\\_TAA-AAGIGILTV,CASSLGLSTDTQYF\\_HomoSapiens:NCEH1111-119p.G115R\\_NeoAg-YIHGRGWAL,CASSLGNTEAFF\\_MCPyV:T-Ag\\_KLLEIAPNC,CASSLGQAYEQYF\\_EBV:EBNA3A\\_FLRGRAYGL,CASSLGQAYEQYF\\_HomoSapiens:MLANA\\_EEYLKAWTF,CASSLGQGNSPLHF\\_CMV:pp65\\_NLVPMVATV,CASSLGQGNYGYTF\\_HomoSapiens:MLANA27-35\\_TAA-AAGIGILTV,CASSLGQLNTEAFF\\_HomoSapiens:MAA\\_NA,CASSLGQTNYGYTF\\_HomoSapiens:KRAS\\_GADGVGKSAL,CASSLGRGQFF\\_HCV:NS3\\_KLVALGINAV,CASSLGTGELFF\\_CMV:pp65\\_NLVPMVATV,CASSLIGRDEQFF\\_EBV:BZLF1\\_EPLPQGQLTAY,CASSLLDGNTEAFF\\_HPV:E2-orE5-orE6-orE7\\_NA,CASSLLGETQYF\\_EBV:NA\\_NA,CASSLLLDTQYF\\_EBV:NA\\_NA,CASSLLQETQYF\\_EBV:NA\\_NA,CASSLLSSNQPQHF\\_EBV:NA\\_NA,CASSLMQETQYF\\_EBV:NA\\_NA,CASSLQGYEQYF\\_HPV:E2-orE5-orE6-orE7\\_NA,CASSLREGETQYF\\_S-pneumoniae:NA\\_ECTGLAWEWWRTV,CASSLRGSYEQYV\\_HomoSapiens:DNMT3A\\_p-P282S,CASSLRNTGELFF\\_S-pneumoniae:NA\\_ECTGLAWEWWRTV,CASSLRRGEQYF\\_HomoSapiens:MYH6191-198\\_VIQYFASI,CASSLSDGNYGYTF\\_HPV:E2-orE5-orE6-orE7\\_NA,CASSLSFGTEAFF\\_HomoSapiens:MLANA\\_ELAGIGILTV\\_AAGIGILTV,CASSLSGQPQHF\\_MCPyV:T-Ag\\_KLLEIAPNC,CASSLSQGTEAFF\\_HomoSapiens:MAA\\_NA,CASSLTGGSEAFF\\_HomoSapiens:LMBRD1\\_FIFTSIAGIR,CASSLVDGNYGYTF\\_HPV:E2-orE5-orE6-orE7\\_NA,CASSLVGTGELFF\\_CMV:pp65\\_NLVPMVATV,CASSLWLNEQFF\\_CMV:pp65\\_NLVPMVATV,CASSLYQETQYF\\_EBV:NA\\_NA,CASSLYTGELFF\\_HomoSapiens:ZHX2\\_HPNVILNSLY,CASSMGANEQFF\\_HCV:NS3\\_KLVALGINAV,CASSMGGEQYF\\_HCV:NS3\\_KLVALGINAV,CASSMGGTYEQYF\\_HomoSapiens:PMEL\\_ITDQVPFSV\\_ILDQVPFSV,CASSMLFQETQYF\\_HPV:E2-orE5-orE6-orE7\\_NA,CASSMRSTGELFF\\_Influenza:M\\_GILGFVFTL,CASSNGRGTEQFF\\_S-pneumoniae:NA\\_ECTGLAWEWWRTV,CASSPARNTEAFF\\_CMV:pp65\\_RPHERNGFTV,CASSPDGMNTEAFF\\_HomoSapiens:TMEM161A\\_TMEM161A,CASSPEETQYF\\_M.tuberculosis:CFP10\\_TAAQAAVVRFQEAAN,CASSPGGATEAFF\\_HomoSapiens:MAA\\_NA,CASSPGGELFF\\_HCV:NS3\\_KLVALGINAV,CASSPGGETQYF\\_HomoSapiens:PMEL154-162\\_TAA-KTWGQYWQV,CASSPGGFEAFF\\_HomoSapiens:PIK3CA\\_p-P449T,CASSPGGGNTEAFF\\_S-pneumoniae:NA\\_ECTGLAWEWWRTV,CASSPGGNEQFF\\_HomoSapiens:MAA\\_NA,CASSPGLAGNEQFF\\_HomoSapiens:MAA\\_NA,CASSPGLLTDTQYF\\_HomoSapiens:MAA\\_NA,CASSPGLLTDTQYF\\_HomoSapiens:MLANA27-35\\_TAA-AAGIGILTV,CASSPGQLNTEAFF\\_HomoSapiens:MAA\\_NA,CASSPGQPQHF\\_HomoSapiens:DCAKD198-207p.S199F\\_NeoAg-RFLEYLPLRF,CASSPGQRNTEAFF\\_HomoSapiens:MAA\\_NA,CASSPGSETQYF\\_S-pneumoniae:NA\\_ECTGLAWEWWRTV,CASSPGTENSPLHF\\_HomoSapiens:KRAS\\_p-G13D,CASSPGTLTDTQYF\\_HomoSapiens:MLANA27-35\\_TAA-AAGIGILTV,CASSPHRNTEAFF\\_CMV:pp65\\_RPHERNGFTV,CASSPILQETQYF\\_HPV:E2-orE5-orE6-orE7\\_NA,CASSPLQGYEQYF\\_HPV:E2-orE5-orE6-orE7\\_NA,CASSPPSSGNTIYF\\_MCPyV:T-Ag\\_KLLEIAPNC,CASSPQGLGTEAFF\\_HomoSapiens:MAA\\_NA,CASSPQGVNYGYTF\\_S-pneumoniae:NA\\_ECTGLAWEWWRTV,CASSPRGDTEAFF\\_MCPyV:T-Ag\\_KLLEIAPNC,CASSPRTGNTEAFF\\_CMV:NA\\_NA,CASSPRVPNTEAFF\\_HomoSapiens:HIATL1\\_p-G380V,CASSPSGGTDTQYF\\_HomoSapiens:CNOT2\\_FNGTDGSENVTGFDLSDFPALADRN,CASSPSGLSYEQYF\\_HomoSapiens:MAA\\_NA,CASSPSRNTEAFF\\_CMV:pp65\\_RPHERNGFTV,CASSPTGVGEQFF\\_Influenza:M\\_GILGFVFTL,CASSPWDEQFF\\_MCPyV:T-Ag\\_KLLEIAPNC,CASSQDGMNTEAFF\\_HomoSapiens:TMEM161A\\_TMEM161A,CASSQDRDTQYF\\_CMV:UL40\\_VMAPRTLIL,CASSQETGSYEQFF\\_EBV:EBNA3A\\_RPPIFIRRL,CASSQETGSYEQYF\\_EBV:EBNA3A\\_RPPIFIRRL,CASSQGGGEQYF\\_S-pneumoniae:NA\\_WEWWR,CASSQGNTGELFF\\_HomoSapiens:KRAS\\_p-G13D,CASSQGQDTEAFF\\_HomoSapiens:GLIA-OMEGA1\\_QPFPQPEQPFP,CASSQGRPSTS\\_HomoSapiens:MAA\\_NA,CASSQGSYEQYF\\_HCV:NS3\\_KLVALGINAV,CASSQLGYEQYF\\_HPV:E2-orE5-orE6-orE7\\_NA,CASSQNTGELFF\\_HomoSapiens:TYR207-215\\_TAA-FLPWHRLFL,CASSQQETQYF\\_CEF:NA\\_NA,CASSQSSGANVLTF\\_EBV:EBV\\_NA,CASSQVGETQYF\\_MCPyV:T-Ag\\_KLLEIAPNC,CASSQVGGGEQFF\\_HomoSapiens:MAA\\_NA,CASSRADYGYTF\\_HomoSapiens:SDAD1\\_MAQMRKELDAAPWKSQKRKYIEIDS,CASSRDGMNTEAFF\\_HomoSapiens:TMEM161A\\_TMEM161A,CASSRGDTEAFF\\_HCV:NS3\\_KLVALGINAV,CASSRGLNNQPQHF\\_S-pneumoniae:NA\\_ECTGLAWEWWRTV,CASSRQGENQPQHF\\_HomoSapiens:MAGEC2254-262\\_TAA-NAVGVYAGR,CASSRQGLGTEAFF\\_HomoSapiens:MAA\\_NA,CASSRQTNTEAFF\\_CMV:NA\\_NA,CASSRTGSTYEQYF\\_EBV:BZLF1\\_LPEPLPQGQLTAY,CASSSADGNYGYTF\\_HPV:E2-orE5-orE6-orE7\\_NA,CASSSAFYGYTF\\_CMV:pp65\\_NLVPMVATV,CASSSANYGYTF\\_CMV:pp65\\_NLVPMVATV,CASSSAYYGYTF\\_CMV:pp65\\_NLVPMVATV,CASSSDGMNTEAFF\\_HomoSapiens:TMEM161A\\_TMEM161A,CASSSGATEAFF\\_HCV:NS3\\_KLVALGINAV,CASSSGDGNYGYTF\\_HPV:E2-orE5-orE6-orE7\\_NA,CASSSGETQYF\\_S-pneumoniae:NA\\_ECTGLAWEWWRTV,CASSSGIYGYTF\\_CMV:pp65\\_NLVPMVATV,CASSSGPSYEQYF\\_HomoSapiens:FLNA\\_RSSRTLSR,CASSSGQAYEQYF\\_EBV:EBNA3A\\_FLRGRAYGL,CASSSLNTEAFF\\_EBV:BZLF1\\_RAKFKQLL,CASSSQGGYGYTF\\_HomoSapiens:MAGE-A6\\_KVDPIGHVY,CASSSRAAYEQYF\\_Influenza:M\\_GILGFVFTL,CASSSRASYEQYF\\_Influenza:M\\_GILGFVFTL,CASSSRNSYEQYF\\_Influenza:NA\\_NA,CASSSRSSYEQYF\\_Influenza:M-HA\\_GILGFVFTL\\_PKYVKQNTLKLAT,CASSSVNEQFF\\_CMV:pp65\\_NLVPMVATV,CASSSVSEAFF\\_CMV:pp65\\_NLVPMVATV,CASSTDLNTEAFF\\_CMV:NA\\_NA,CASSTGDSNQPQHF\\_EBV:BZLF1\\_EPLPQGQLTAY,CASSTGFYGYTF\\_Influenza:M\\_GILGFVFTL,CASSTGNEKLFF\\_CMV:NA\\_NA,CASSTGNYGYTF\\_Influenza:M\\_GILGFVFTL,CASSTGSYGYTF\\_CMV:pp65\\_NLVPMVATV,CASSTLFQETQYF\\_HPV:E2-orE5-orE6-orE7\\_NA,CASSTRSTGELFF\\_CMV:pp65\\_NLVPMVATV,CASSTSTDTQYF\\_S-pneumoniae:NA\\_ECTGLAWEWWRTV,CASSVASGTDTQYF\\_EBV:EBNA3A\\_FLRGRAYGL,CASSVDGMNTEAFF\\_HomoSapiens:TMEM161A\\_TMEM161A,CASSVGQGKAFF\\_Influenza:HA\\_PKYVKQNTLKLAT,CASSVGWGGEQFF\\_EBV:NA\\_NA,CASSVLFQETQYF\\_HPV:E2-orE5-orE6-orE7\\_NA,CASSVLNTGELFF\\_MCPyV:T-Ag\\_KLLEIAPNC,CASSVNNEQFF\\_HPV:E2-orE5-orE6-orE7\\_NA,CASSVRSTGELFF\\_Influenza:M\\_GILGFVFTL,CASSWGGGEQYF\\_HCV:NS3\\_KLVALGINAV,CASSWGGNTEAFF\\_HomoSapiens:ZNF219\\_CLASLHPR,CASSWGSGANVLTF\\_HomoSapiens:KPNA2\\_YLRNLTWTL,CASSYGLAGGEQFF\\_HomoSapiens:MAA\\_NA,CASSYGSYEQYF\\_HCV:NS3\\_KLVALGINAV,CASSYNNEQFF\\_HomoSapiens:FLNA\\_RTWRRTRRGRR,CASSYPGTSQFF\\_HomoSapiens:MAA\\_NA,CASSYQGTEAFF\\_HomoSapiens:TERT\\_ILAKFLHWL,CASSYRGSGNTIYF\\_HCV:NS3\\_KLVALGINAV,CASSYSDGNTEAFF\\_HPV:E2-orE5-orE6-orE7\\_NA,CASSYSLNTEAFF\\_CMV:NA\\_NA,CASSYSVLNTEAFF\\_HomoSapiens:MAA\\_NA,CASSYTGELFF\\_HCV:NS3\\_KLVALGINAV,CASTDSNTGELFF\\_MCPyV:T-Ag\\_KLLEIAPNC,CASTEGNTEAFF\\_HomoSapiens:PMEL154-162\\_TAA-KTWGQYWQV,CASTLQETQYF\\_EBV:NA\\_NA,CASTNSGNTIYF\\_HCV:NS3\\_KLVALGINAV,CASTPTENTEAFF\\_CMV:NA\\_NA,CASTQGSTDTQYF\\_HCV:NS3\\_KLVALGINAV,CATGTGDSNQPQHF\\_EBV:BZLF1\\_EPLPQGQLTAY,CATRDINTGELFF\\_MCPyV:T-Ag\\_KLLEIAPNC,CATRRANEQFF\\_HomoSapiens:PMEL589-603\\_TAA-LIMPGQEAGLGQVPL,CATSAGRNEQFF\\_HomoSapiens:MAA\\_NA,CATSALGDTQYF\\_HomoSapiens:MBP\\_NPVVHFFKNIVTPR,CATSEGNEQFF\\_CMV:pp65\\_NLVPMVATV,CATSGTGHSYEQYF\\_HomoSapiens:PPP2R1A\\_p-L432S,CATTGGQNTEAFF\\_HomoSapiens:TP53\\_NSSCMGGMNLR,CAWAESSYNEQFF\\_HomoSapiens:TARS\\_p-E331K,CAWSEQVNTEAFF\\_HomoSapiens:UBE2I51-60p.P52L\\_NeoAg-TLWEGGLFKL,CAWSPDGMNTEAFF\\_HomoSapiens:TMEM161A\\_TMEM161A,CAWSPVNTEAFF\\_HomoSapiens:FAM50B72-80p.E78K\\_NeoAg-DMKARQKAL,CPSSSGDGNYGYTF\\_HPV:E2-orE5-orE6-orE7\\_NA,CSADLNTEAFF\\_HomoSapiens:C2orf16\\_TLIDVPKV,CSAEQGANTGELFF\\_HomoSapiens:PMEL154-162\\_TAA-KTWGQYWQV,CSARGADTQYF\\_CMV:pp65\\_NLVPMVATV,CSARTGYNEQFF\\_MCPyV:T-Ag\\_KLLEIAPNC,CSASEGAYGYTF\\_S-pneumoniae:NA\\_ECTGLAWEWWRTV,CSASMRDEQYF\\_S-pneumoniae:NA\\_ECTGLAWEWWRTV,CSATGGTGNTIYF\\_EBV:NA\\_NA,CSVEGDTGELFF\\_CMV:pp65\\_NLVPMVATV,CSVEGTENTGELFF\\_EBV:NA\\_NA,CSVGGAYEQYF\\_EBV:EBNA3A\\_RPPIFIRRL,CSVPLTGNTEAFF\\_EBV:NA\\_NA,CSVVDRGYGYTF\\_EBV:NA\\_NA,CTSSPILQETQYF\\_HPV:E2-orE5-orE6-orE7\\_NA,YASSLTGGTEAFF\\_HomoSapiens:MAA\\_NA & CHP\\_353\\_X01-PBMC & CHP\\_353 & X01 & CAGSLGINEQFF\\_Leukemia    & CAGSLGINEQFF   & Leukemia    &   1 & 1.0e-09\\\\\n",
       "\t 1 & 17492 & CAIGDGNQPQHF\\_Solidtumors:CHP\\_363\\_X01-PBMC & 8263 & 115 & cfDNA,PBMC,Tumor & X00,X01,X02,X03,X04,X05 & 6 & CEF,CMV,EBV,HCV,HomoSapiens,HPV,Influenza,Leukemia,LFS,Lymphoma,M.tuberculosis,MCPyV,MDavis,Normal,S-pneumoniae,Solidtumors,T-cellmalignancies & CACSVLNTGELFF\\_MCPyV:T-Ag\\_KLLEIAPNC,CAGSQDGMNTEAFF\\_HomoSapiens:TMEM161A\\_TMEM161A,CAIRDSNTGELFF\\_MCPyV:T-Ag\\_KLLEIAPNC,CAIRGQNTGELFF\\_MCPyV:T-Ag\\_KLLEIAPNC,CAISEDGMNTEAFF\\_HomoSapiens:TMEM161A\\_TMEM161A,CAISGEGNTEAFF\\_CMV:NA\\_NA,CAISSGGADTQYF\\_S-pneumoniae:NA\\_ECTGLAWEWWRTV,CAISTGDSNQPQHF\\_EBV:BZLF1\\_EPLPQGQLTAY,CANSQPGGIEQFF\\_EBV:BZLF1\\_EPLPQGQLTAY,CARSVLNTGELFF\\_MCPyV:T-Ag\\_KLLEIAPNC,CASDSNTEAFF\\_HCV:NS3\\_KLVALGINAV,CASGQGQETQYF\\_HCV:NS3\\_KLVALGINAV,CASGTGDSNQPQHF\\_EBV:BZLF1\\_EPLPQGQLTAY,CASIRGYEQYF\\_HomoSapiens:MAA\\_NA,CASQGGTEAFF\\_HomoSapiens:MAA\\_NA,CASRDGDEQYF\\_S-pneumoniae:NA\\_ECTGLAWEWWRTV,CASRDQNTGELFF\\_MCPyV:T-Ag\\_KLLEIAPNC,CASRDSSSYEQYF\\_HomoSapiens:PLECp.P3283S\\_NeoAg-GGIVDSSKSHRVPLD,CASRGGFNEKLFF\\_CMV:NA\\_NA,CASRGGSSYNEQFF\\_MCPyV:T-Ag\\_KLLEIAPNC,CASRGQNTGELFF\\_MCPyV:T-Ag\\_KLLEIAPNC,CASRIGNTGELFF\\_HomoSapiens:KRAS\\_p-G13D,CASRQGGQPQHF\\_HomoSapiens:MAA\\_NA,CASRQGNTGELFF\\_HomoSapiens:KRAS\\_p-G13D,CASRRGPYEQYF\\_HCV:NS3\\_KLVALGINAV-orKLVALVINAV,CASRRSNQPQHF\\_HomoSapiens:CMKLR1\\_FLEDLSPL,CASSAGAEQYF\\_HomoSapiens:PIK3CA\\_p-P449T,CASSASNYGYTF\\_HomoSapiens:DDX18\\_VKYHYELLNYIDMPVLAIHGKQKQN,CASSDALQETQYF\\_CMV:pp65\\_NLVPMVATV,CASSDDRGPYEQYF\\_HCV:NS3\\_KLVALGINAV,CASSDGGEQYF\\_S-pneumoniae:NA\\_GLAWEWWRTV,CASSDGGVKYF\\_S-pneumoniae:NA\\_ECTGLAWEWWRTV,CASSDGVGTEAFF\\_HomoSapiens:RPS9p.P68S\\_NeoAg-AARELLTLDEKDSRRLFE,CASSDPGTEAFF\\_HomoSapiens:KRAS\\_GADGVGKSAL,CASSDSYGYTF\\_HCV:NS3\\_KLVALGINAV,CASSDYYEQYF\\_S-pneumoniae:NA\\_ECTGLAWEWWRTV,CASSEDGMNTEAFF\\_HomoSapiens:TMEM161A\\_TMEM161A,CASSEGDTEAFF\\_HCV:NS3\\_KLVALGINAV,CASSEGQGNSPLHF\\_MCPyV:T-Ag\\_KLLEIAPNC,CASSEGQSYEQYF\\_MCPyV:T-Ag\\_KLLEIAPNC,CASSESGRNTEAFX\\_S-pneumoniae:NA\\_ECTGLAWEWWRTV,CASSFDRGYGYTF\\_HomoSapiens:MAGE-A6\\_NA,CASSFGADTQYF\\_HCV:NS3\\_KLVALGINAV,CASSFGGAYEQYF\\_HomoSapiens:MED13\\_VQIISCQY,CASSFGGEQFF\\_HomoSapiens:DOPEY2\\_FRFSMIWHL,CASSFGSEQYF\\_MCPyV:T-Ag\\_KLLEIAPNC,CASSFGSYEQYF\\_HomoSapiens:NUP214\\_SVYWSPKGK,CASSFIGGTDTQYF\\_HomoSapiens:gp100\\_YLEPGPVTA,CASSFLGTGELFF\\_HomoSapiens:TARS\\_p-E331K,CASSFQGFTEAFF\\_CMV:pp65\\_NLVPMVATV,CASSFQGYTEAFF\\_CMV:pp65\\_NLVPMVATV,CASSFTLNTEAFF\\_CMV:NA\\_NA,CASSFWGNTEAFF\\_HomoSapiens:FAM135A\\_AGASSIWYR,CASSGDGMNTEAFF\\_HomoSapiens:TMEM161A\\_TMEM161A,CASSGENTEAFF\\_CMV:NA\\_NA,CASSGQNTGELFF\\_MCPyV:T-Ag\\_KLLEIAPNC,CASSGTHNEQFF\\_EBV:EBNA3A\\_RPPIFIRRL,CASSGYTGELFF\\_HCV:NS3\\_KLVALGINAV,CASSHAGRNTEAFF\\_HomoSapiens:MAA\\_NA,CASSHQTGELFF\\_CMV:pp65\\_NLVPMVATV,CASSHREGETQYF\\_S-pneumoniae:NA\\_ECTGLAWEWWRTV,CASSIGGDYGYTF\\_HomoSapiens:MLANA27-35\\_TAA-AAGIGILTV,CASSIGQYEQYF\\_HCV:NS3\\_KLVALGINAV,CASSIGVGTEQYF\\_HomoSapiens:MAA\\_NA,CASSIGVYGYTF\\_Influenza:M\\_GILGFVFTL,CASSIRASYEQYF\\_Influenza:M\\_GILGFVFTL,CASSIRSAHEQFF\\_Influenza:M\\_GILGFVFTL,CASSIRSSYEQYF\\_Influenza:M\\_GILGFVFTL,CASSIRSTDTQYF\\_Influenza:M\\_GILGFVFTL,CASSIRSTGELFF\\_Influenza:M\\_GILGFVFTL,CASSITLNTEAFF\\_CMV:NA\\_NA,CASSLAADTQYF\\_EBV:NA\\_NA,CASSLAGDRYF\\_MCPyV:T-Ag\\_KLLEIAPNC,CASSLAGDYEQYF\\_CMV:pp65\\_NLVPMVATV,CASSLAGFRFF\\_MCPyV:T-Ag\\_KLLEIAPNC,CASSLAGFTGELFF\\_CMV:pp65\\_NLVPMVATV,CASSLAGPETQYF\\_HomoSapiens:TP53\\_p-T172I,CASSLAQGTDTQYF\\_HomoSapiens:LAMC1p.S1509F\\_NeoAg-KAKNFVTSLLSIIND,CASSLATGGEQFF\\_EBV:NA\\_NA,CASSLDENTEAFF\\_CMV:NA\\_NA,CASSLDGMNTEAFF\\_HomoSapiens:TMEM161A\\_TMEM161A,CASSLDLYGYTF\\_CMV:pp65\\_NLVPMVATV,CASSLDNEKLFF\\_S-pneumoniae:NA\\_ECTGLAWEWWRTV,CASSLDPYEQYF\\_HomoSapiens:CARM1\\_FAAQAGAWKIY,CASSLDSSNQPQHF\\_CMV:NA\\_NA,CASSLEGANYGYTF\\_HPV:E2-orE5-orE6-orE7\\_NA,CASSLEGDTEAFF\\_MCPyV:T-Ag\\_KLLEIAPNC,CASSLEGSYEQYF\\_EBV:BZLF1\\_KLVALGINAV,CASSLEGSYEQYF\\_HCV:NS3\\_KLVALGINAV,CASSLETVNTEAFF\\_CMV:pp65\\_NLVPMVATV,CASSLETVYGYTF\\_S-pneumoniae:NA\\_ECTGLAWEWWRTV,CASSLFGGTEAFF\\_HomoSapiens:MAA\\_NA,CASSLGANTGELFF\\_HomoSapiens:SCML2\\_LPDHFGLGPV,CASSLGDGNYGYTF\\_HPV:E2-orE5-orE6-orE7\\_NA,CASSLGEKLFF\\_HCV:NS3\\_KLVALGINAV,CASSLGGAEQFF\\_HomoSapiens:MAA\\_NA,CASSLGGDIQYF\\_HCV:NS3\\_KLVALGINAV,CASSLGGGPDTQYF\\_HomoSapiens:PMEL154-162\\_TAA-KTWGQYWQV,CASSLGGGTDTQYF\\_HomoSapiens:PMEL154-162\\_TAA-KTWGQYWQV,CASSLGGNTGELFF\\_MCPyV:T-Ag\\_KLLEIAPNC,CASSLGGQPQHF\\_HomoSapiens:MAA\\_NA,CASSLGGRTEAFF\\_HomoSapiens:BPNT1\\_EAGPDAVLRR,CASSLGGSSYEQYF\\_HomoSapiens:MLANA27-35\\_TAA-AAGIGILTV,CASSLGLENEQFF\\_EBV:BMLF1\\_GLCTLVAML,CASSLGLLNTEAFF\\_HomoSapiens:MLANA27-35\\_TAA-AAGIGILTV,CASSLGLSTDTQYF\\_HomoSapiens:NCEH1111-119p.G115R\\_NeoAg-YIHGRGWAL,CASSLGNTEAFF\\_MCPyV:T-Ag\\_KLLEIAPNC,CASSLGQAYEQYF\\_EBV:EBNA3A\\_FLRGRAYGL,CASSLGQAYEQYF\\_HomoSapiens:MLANA\\_EEYLKAWTF,CASSLGQGNSPLHF\\_CMV:pp65\\_NLVPMVATV,CASSLGQGNYGYTF\\_HomoSapiens:MLANA27-35\\_TAA-AAGIGILTV,CASSLGQLNTEAFF\\_HomoSapiens:MAA\\_NA,CASSLGQTNYGYTF\\_HomoSapiens:KRAS\\_GADGVGKSAL,CASSLGRGQFF\\_HCV:NS3\\_KLVALGINAV,CASSLGTGELFF\\_CMV:pp65\\_NLVPMVATV,CASSLIGRDEQFF\\_EBV:BZLF1\\_EPLPQGQLTAY,CASSLLDGNTEAFF\\_HPV:E2-orE5-orE6-orE7\\_NA,CASSLLGETQYF\\_EBV:NA\\_NA,CASSLLLDTQYF\\_EBV:NA\\_NA,CASSLLQETQYF\\_EBV:NA\\_NA,CASSLLSSNQPQHF\\_EBV:NA\\_NA,CASSLMQETQYF\\_EBV:NA\\_NA,CASSLQGYEQYF\\_HPV:E2-orE5-orE6-orE7\\_NA,CASSLREGETQYF\\_S-pneumoniae:NA\\_ECTGLAWEWWRTV,CASSLRGSYEQYV\\_HomoSapiens:DNMT3A\\_p-P282S,CASSLRNTGELFF\\_S-pneumoniae:NA\\_ECTGLAWEWWRTV,CASSLRRGEQYF\\_HomoSapiens:MYH6191-198\\_VIQYFASI,CASSLSDGNYGYTF\\_HPV:E2-orE5-orE6-orE7\\_NA,CASSLSFGTEAFF\\_HomoSapiens:MLANA\\_ELAGIGILTV\\_AAGIGILTV,CASSLSGQPQHF\\_MCPyV:T-Ag\\_KLLEIAPNC,CASSLSQGTEAFF\\_HomoSapiens:MAA\\_NA,CASSLTGGSEAFF\\_HomoSapiens:LMBRD1\\_FIFTSIAGIR,CASSLVDGNYGYTF\\_HPV:E2-orE5-orE6-orE7\\_NA,CASSLVGTGELFF\\_CMV:pp65\\_NLVPMVATV,CASSLWLNEQFF\\_CMV:pp65\\_NLVPMVATV,CASSLYQETQYF\\_EBV:NA\\_NA,CASSLYTGELFF\\_HomoSapiens:ZHX2\\_HPNVILNSLY,CASSMGANEQFF\\_HCV:NS3\\_KLVALGINAV,CASSMGGEQYF\\_HCV:NS3\\_KLVALGINAV,CASSMGGTYEQYF\\_HomoSapiens:PMEL\\_ITDQVPFSV\\_ILDQVPFSV,CASSMLFQETQYF\\_HPV:E2-orE5-orE6-orE7\\_NA,CASSMRSTGELFF\\_Influenza:M\\_GILGFVFTL,CASSNGRGTEQFF\\_S-pneumoniae:NA\\_ECTGLAWEWWRTV,CASSPARNTEAFF\\_CMV:pp65\\_RPHERNGFTV,CASSPDGMNTEAFF\\_HomoSapiens:TMEM161A\\_TMEM161A,CASSPEETQYF\\_M.tuberculosis:CFP10\\_TAAQAAVVRFQEAAN,CASSPGGATEAFF\\_HomoSapiens:MAA\\_NA,CASSPGGELFF\\_HCV:NS3\\_KLVALGINAV,CASSPGGETQYF\\_HomoSapiens:PMEL154-162\\_TAA-KTWGQYWQV,CASSPGGFEAFF\\_HomoSapiens:PIK3CA\\_p-P449T,CASSPGGGNTEAFF\\_S-pneumoniae:NA\\_ECTGLAWEWWRTV,CASSPGGNEQFF\\_HomoSapiens:MAA\\_NA,CASSPGLAGNEQFF\\_HomoSapiens:MAA\\_NA,CASSPGLLTDTQYF\\_HomoSapiens:MAA\\_NA,CASSPGLLTDTQYF\\_HomoSapiens:MLANA27-35\\_TAA-AAGIGILTV,CASSPGQLNTEAFF\\_HomoSapiens:MAA\\_NA,CASSPGQPQHF\\_HomoSapiens:DCAKD198-207p.S199F\\_NeoAg-RFLEYLPLRF,CASSPGQRNTEAFF\\_HomoSapiens:MAA\\_NA,CASSPGSETQYF\\_S-pneumoniae:NA\\_ECTGLAWEWWRTV,CASSPGTENSPLHF\\_HomoSapiens:KRAS\\_p-G13D,CASSPGTLTDTQYF\\_HomoSapiens:MLANA27-35\\_TAA-AAGIGILTV,CASSPHRNTEAFF\\_CMV:pp65\\_RPHERNGFTV,CASSPILQETQYF\\_HPV:E2-orE5-orE6-orE7\\_NA,CASSPLQGYEQYF\\_HPV:E2-orE5-orE6-orE7\\_NA,CASSPPSSGNTIYF\\_MCPyV:T-Ag\\_KLLEIAPNC,CASSPQGLGTEAFF\\_HomoSapiens:MAA\\_NA,CASSPQGVNYGYTF\\_S-pneumoniae:NA\\_ECTGLAWEWWRTV,CASSPRGDTEAFF\\_MCPyV:T-Ag\\_KLLEIAPNC,CASSPRTGNTEAFF\\_CMV:NA\\_NA,CASSPRVPNTEAFF\\_HomoSapiens:HIATL1\\_p-G380V,CASSPSGGTDTQYF\\_HomoSapiens:CNOT2\\_FNGTDGSENVTGFDLSDFPALADRN,CASSPSGLSYEQYF\\_HomoSapiens:MAA\\_NA,CASSPSRNTEAFF\\_CMV:pp65\\_RPHERNGFTV,CASSPTGVGEQFF\\_Influenza:M\\_GILGFVFTL,CASSPWDEQFF\\_MCPyV:T-Ag\\_KLLEIAPNC,CASSQDGMNTEAFF\\_HomoSapiens:TMEM161A\\_TMEM161A,CASSQDRDTQYF\\_CMV:UL40\\_VMAPRTLIL,CASSQETGSYEQFF\\_EBV:EBNA3A\\_RPPIFIRRL,CASSQETGSYEQYF\\_EBV:EBNA3A\\_RPPIFIRRL,CASSQGGGEQYF\\_S-pneumoniae:NA\\_WEWWR,CASSQGNTGELFF\\_HomoSapiens:KRAS\\_p-G13D,CASSQGQDTEAFF\\_HomoSapiens:GLIA-OMEGA1\\_QPFPQPEQPFP,CASSQGRPSTS\\_HomoSapiens:MAA\\_NA,CASSQGSYEQYF\\_HCV:NS3\\_KLVALGINAV,CASSQLGYEQYF\\_HPV:E2-orE5-orE6-orE7\\_NA,CASSQNTGELFF\\_HomoSapiens:TYR207-215\\_TAA-FLPWHRLFL,CASSQQETQYF\\_CEF:NA\\_NA,CASSQSSGANVLTF\\_EBV:EBV\\_NA,CASSQVGETQYF\\_MCPyV:T-Ag\\_KLLEIAPNC,CASSQVGGGEQFF\\_HomoSapiens:MAA\\_NA,CASSRADYGYTF\\_HomoSapiens:SDAD1\\_MAQMRKELDAAPWKSQKRKYIEIDS,CASSRDGMNTEAFF\\_HomoSapiens:TMEM161A\\_TMEM161A,CASSRGDTEAFF\\_HCV:NS3\\_KLVALGINAV,CASSRGLNNQPQHF\\_S-pneumoniae:NA\\_ECTGLAWEWWRTV,CASSRQGENQPQHF\\_HomoSapiens:MAGEC2254-262\\_TAA-NAVGVYAGR,CASSRQGLGTEAFF\\_HomoSapiens:MAA\\_NA,CASSRQTNTEAFF\\_CMV:NA\\_NA,CASSRTGSTYEQYF\\_EBV:BZLF1\\_LPEPLPQGQLTAY,CASSSADGNYGYTF\\_HPV:E2-orE5-orE6-orE7\\_NA,CASSSAFYGYTF\\_CMV:pp65\\_NLVPMVATV,CASSSANYGYTF\\_CMV:pp65\\_NLVPMVATV,CASSSAYYGYTF\\_CMV:pp65\\_NLVPMVATV,CASSSDGMNTEAFF\\_HomoSapiens:TMEM161A\\_TMEM161A,CASSSGATEAFF\\_HCV:NS3\\_KLVALGINAV,CASSSGDGNYGYTF\\_HPV:E2-orE5-orE6-orE7\\_NA,CASSSGETQYF\\_S-pneumoniae:NA\\_ECTGLAWEWWRTV,CASSSGIYGYTF\\_CMV:pp65\\_NLVPMVATV,CASSSGPSYEQYF\\_HomoSapiens:FLNA\\_RSSRTLSR,CASSSGQAYEQYF\\_EBV:EBNA3A\\_FLRGRAYGL,CASSSLNTEAFF\\_EBV:BZLF1\\_RAKFKQLL,CASSSQGGYGYTF\\_HomoSapiens:MAGE-A6\\_KVDPIGHVY,CASSSRAAYEQYF\\_Influenza:M\\_GILGFVFTL,CASSSRASYEQYF\\_Influenza:M\\_GILGFVFTL,CASSSRNSYEQYF\\_Influenza:NA\\_NA,CASSSRSSYEQYF\\_Influenza:M-HA\\_GILGFVFTL\\_PKYVKQNTLKLAT,CASSSVNEQFF\\_CMV:pp65\\_NLVPMVATV,CASSSVSEAFF\\_CMV:pp65\\_NLVPMVATV,CASSTDLNTEAFF\\_CMV:NA\\_NA,CASSTGDSNQPQHF\\_EBV:BZLF1\\_EPLPQGQLTAY,CASSTGFYGYTF\\_Influenza:M\\_GILGFVFTL,CASSTGNEKLFF\\_CMV:NA\\_NA,CASSTGNYGYTF\\_Influenza:M\\_GILGFVFTL,CASSTGSYGYTF\\_CMV:pp65\\_NLVPMVATV,CASSTLFQETQYF\\_HPV:E2-orE5-orE6-orE7\\_NA,CASSTRSTGELFF\\_CMV:pp65\\_NLVPMVATV,CASSTSTDTQYF\\_S-pneumoniae:NA\\_ECTGLAWEWWRTV,CASSVASGTDTQYF\\_EBV:EBNA3A\\_FLRGRAYGL,CASSVDGMNTEAFF\\_HomoSapiens:TMEM161A\\_TMEM161A,CASSVGQGKAFF\\_Influenza:HA\\_PKYVKQNTLKLAT,CASSVGWGGEQFF\\_EBV:NA\\_NA,CASSVLFQETQYF\\_HPV:E2-orE5-orE6-orE7\\_NA,CASSVLNTGELFF\\_MCPyV:T-Ag\\_KLLEIAPNC,CASSVNNEQFF\\_HPV:E2-orE5-orE6-orE7\\_NA,CASSVRSTGELFF\\_Influenza:M\\_GILGFVFTL,CASSWGGGEQYF\\_HCV:NS3\\_KLVALGINAV,CASSWGGNTEAFF\\_HomoSapiens:ZNF219\\_CLASLHPR,CASSWGSGANVLTF\\_HomoSapiens:KPNA2\\_YLRNLTWTL,CASSYGLAGGEQFF\\_HomoSapiens:MAA\\_NA,CASSYGSYEQYF\\_HCV:NS3\\_KLVALGINAV,CASSYNNEQFF\\_HomoSapiens:FLNA\\_RTWRRTRRGRR,CASSYPGTSQFF\\_HomoSapiens:MAA\\_NA,CASSYQGTEAFF\\_HomoSapiens:TERT\\_ILAKFLHWL,CASSYRGSGNTIYF\\_HCV:NS3\\_KLVALGINAV,CASSYSDGNTEAFF\\_HPV:E2-orE5-orE6-orE7\\_NA,CASSYSLNTEAFF\\_CMV:NA\\_NA,CASSYSVLNTEAFF\\_HomoSapiens:MAA\\_NA,CASSYTGELFF\\_HCV:NS3\\_KLVALGINAV,CASTDSNTGELFF\\_MCPyV:T-Ag\\_KLLEIAPNC,CASTEGNTEAFF\\_HomoSapiens:PMEL154-162\\_TAA-KTWGQYWQV,CASTLQETQYF\\_EBV:NA\\_NA,CASTNSGNTIYF\\_HCV:NS3\\_KLVALGINAV,CASTPTENTEAFF\\_CMV:NA\\_NA,CASTQGSTDTQYF\\_HCV:NS3\\_KLVALGINAV,CATGTGDSNQPQHF\\_EBV:BZLF1\\_EPLPQGQLTAY,CATRDINTGELFF\\_MCPyV:T-Ag\\_KLLEIAPNC,CATRRANEQFF\\_HomoSapiens:PMEL589-603\\_TAA-LIMPGQEAGLGQVPL,CATSAGRNEQFF\\_HomoSapiens:MAA\\_NA,CATSALGDTQYF\\_HomoSapiens:MBP\\_NPVVHFFKNIVTPR,CATSEGNEQFF\\_CMV:pp65\\_NLVPMVATV,CATSGTGHSYEQYF\\_HomoSapiens:PPP2R1A\\_p-L432S,CATTGGQNTEAFF\\_HomoSapiens:TP53\\_NSSCMGGMNLR,CAWAESSYNEQFF\\_HomoSapiens:TARS\\_p-E331K,CAWSEQVNTEAFF\\_HomoSapiens:UBE2I51-60p.P52L\\_NeoAg-TLWEGGLFKL,CAWSPDGMNTEAFF\\_HomoSapiens:TMEM161A\\_TMEM161A,CAWSPVNTEAFF\\_HomoSapiens:FAM50B72-80p.E78K\\_NeoAg-DMKARQKAL,CPSSSGDGNYGYTF\\_HPV:E2-orE5-orE6-orE7\\_NA,CSADLNTEAFF\\_HomoSapiens:C2orf16\\_TLIDVPKV,CSAEQGANTGELFF\\_HomoSapiens:PMEL154-162\\_TAA-KTWGQYWQV,CSARGADTQYF\\_CMV:pp65\\_NLVPMVATV,CSARTGYNEQFF\\_MCPyV:T-Ag\\_KLLEIAPNC,CSASEGAYGYTF\\_S-pneumoniae:NA\\_ECTGLAWEWWRTV,CSASMRDEQYF\\_S-pneumoniae:NA\\_ECTGLAWEWWRTV,CSATGGTGNTIYF\\_EBV:NA\\_NA,CSVEGDTGELFF\\_CMV:pp65\\_NLVPMVATV,CSVEGTENTGELFF\\_EBV:NA\\_NA,CSVGGAYEQYF\\_EBV:EBNA3A\\_RPPIFIRRL,CSVPLTGNTEAFF\\_EBV:NA\\_NA,CSVVDRGYGYTF\\_EBV:NA\\_NA,CTSSPILQETQYF\\_HPV:E2-orE5-orE6-orE7\\_NA,YASSLTGGTEAFF\\_HomoSapiens:MAA\\_NA & CHP\\_363\\_X01-PBMC & CHP\\_363 & X01 & CAIGDGNQPQHF\\_Solidtumors & CAIGDGNQPQHF   & Solidtumors & 125 & 8.9e-03\\\\\n",
       "\\end{tabular}\n"
      ],
      "text/markdown": [
       "\n",
       "A tibble: 6 x 18\n",
       "\n",
       "| Component_id &lt;int&gt; | Component_size &lt;int&gt; | PatientDerived_Nodes &lt;chr&gt; | NumberOf_PatientDerived_Nodes &lt;int&gt; | Number_of_Patients &lt;int&gt; | Sample_Type_Range &lt;chr&gt; | Timepoint_Range &lt;chr&gt; | Number_of_Timepoints &lt;int&gt; | Component_specificity &lt;chr&gt; | KnownExternalTCRs &lt;chr&gt; | basename &lt;chr&gt; | Patient &lt;chr&gt; | cycle &lt;chr&gt; | cancergroup_cdr3 &lt;chr&gt; | cdr3 &lt;chr&gt; | cancergroup &lt;chr&gt; | cloneCount &lt;int&gt; | Fisher_score &lt;dbl&gt; |\n",
       "|---|---|---|---|---|---|---|---|---|---|---|---|---|---|---|---|---|---|\n",
       "| 1 | 17492 | CAASSGANEQFF_Solidtumors:CHP_404_X01-PBMC | 8263 | 115 | cfDNA,PBMC,Tumor | X00,X01,X02,X03,X04,X05 | 6 | CEF,CMV,EBV,HCV,HomoSapiens,HPV,Influenza,Leukemia,LFS,Lymphoma,M.tuberculosis,MCPyV,MDavis,Normal,S-pneumoniae,Solidtumors,T-cellmalignancies | CACSVLNTGELFF_MCPyV:T-Ag_KLLEIAPNC,CAGSQDGMNTEAFF_HomoSapiens:TMEM161A_TMEM161A,CAIRDSNTGELFF_MCPyV:T-Ag_KLLEIAPNC,CAIRGQNTGELFF_MCPyV:T-Ag_KLLEIAPNC,CAISEDGMNTEAFF_HomoSapiens:TMEM161A_TMEM161A,CAISGEGNTEAFF_CMV:NA_NA,CAISSGGADTQYF_S-pneumoniae:NA_ECTGLAWEWWRTV,CAISTGDSNQPQHF_EBV:BZLF1_EPLPQGQLTAY,CANSQPGGIEQFF_EBV:BZLF1_EPLPQGQLTAY,CARSVLNTGELFF_MCPyV:T-Ag_KLLEIAPNC,CASDSNTEAFF_HCV:NS3_KLVALGINAV,CASGQGQETQYF_HCV:NS3_KLVALGINAV,CASGTGDSNQPQHF_EBV:BZLF1_EPLPQGQLTAY,CASIRGYEQYF_HomoSapiens:MAA_NA,CASQGGTEAFF_HomoSapiens:MAA_NA,CASRDGDEQYF_S-pneumoniae:NA_ECTGLAWEWWRTV,CASRDQNTGELFF_MCPyV:T-Ag_KLLEIAPNC,CASRDSSSYEQYF_HomoSapiens:PLECp.P3283S_NeoAg-GGIVDSSKSHRVPLD,CASRGGFNEKLFF_CMV:NA_NA,CASRGGSSYNEQFF_MCPyV:T-Ag_KLLEIAPNC,CASRGQNTGELFF_MCPyV:T-Ag_KLLEIAPNC,CASRIGNTGELFF_HomoSapiens:KRAS_p-G13D,CASRQGGQPQHF_HomoSapiens:MAA_NA,CASRQGNTGELFF_HomoSapiens:KRAS_p-G13D,CASRRGPYEQYF_HCV:NS3_KLVALGINAV-orKLVALVINAV,CASRRSNQPQHF_HomoSapiens:CMKLR1_FLEDLSPL,CASSAGAEQYF_HomoSapiens:PIK3CA_p-P449T,CASSASNYGYTF_HomoSapiens:DDX18_VKYHYELLNYIDMPVLAIHGKQKQN,CASSDALQETQYF_CMV:pp65_NLVPMVATV,CASSDDRGPYEQYF_HCV:NS3_KLVALGINAV,CASSDGGEQYF_S-pneumoniae:NA_GLAWEWWRTV,CASSDGGVKYF_S-pneumoniae:NA_ECTGLAWEWWRTV,CASSDGVGTEAFF_HomoSapiens:RPS9p.P68S_NeoAg-AARELLTLDEKDSRRLFE,CASSDPGTEAFF_HomoSapiens:KRAS_GADGVGKSAL,CASSDSYGYTF_HCV:NS3_KLVALGINAV,CASSDYYEQYF_S-pneumoniae:NA_ECTGLAWEWWRTV,CASSEDGMNTEAFF_HomoSapiens:TMEM161A_TMEM161A,CASSEGDTEAFF_HCV:NS3_KLVALGINAV,CASSEGQGNSPLHF_MCPyV:T-Ag_KLLEIAPNC,CASSEGQSYEQYF_MCPyV:T-Ag_KLLEIAPNC,CASSESGRNTEAFX_S-pneumoniae:NA_ECTGLAWEWWRTV,CASSFDRGYGYTF_HomoSapiens:MAGE-A6_NA,CASSFGADTQYF_HCV:NS3_KLVALGINAV,CASSFGGAYEQYF_HomoSapiens:MED13_VQIISCQY,CASSFGGEQFF_HomoSapiens:DOPEY2_FRFSMIWHL,CASSFGSEQYF_MCPyV:T-Ag_KLLEIAPNC,CASSFGSYEQYF_HomoSapiens:NUP214_SVYWSPKGK,CASSFIGGTDTQYF_HomoSapiens:gp100_YLEPGPVTA,CASSFLGTGELFF_HomoSapiens:TARS_p-E331K,CASSFQGFTEAFF_CMV:pp65_NLVPMVATV,CASSFQGYTEAFF_CMV:pp65_NLVPMVATV,CASSFTLNTEAFF_CMV:NA_NA,CASSFWGNTEAFF_HomoSapiens:FAM135A_AGASSIWYR,CASSGDGMNTEAFF_HomoSapiens:TMEM161A_TMEM161A,CASSGENTEAFF_CMV:NA_NA,CASSGQNTGELFF_MCPyV:T-Ag_KLLEIAPNC,CASSGTHNEQFF_EBV:EBNA3A_RPPIFIRRL,CASSGYTGELFF_HCV:NS3_KLVALGINAV,CASSHAGRNTEAFF_HomoSapiens:MAA_NA,CASSHQTGELFF_CMV:pp65_NLVPMVATV,CASSHREGETQYF_S-pneumoniae:NA_ECTGLAWEWWRTV,CASSIGGDYGYTF_HomoSapiens:MLANA27-35_TAA-AAGIGILTV,CASSIGQYEQYF_HCV:NS3_KLVALGINAV,CASSIGVGTEQYF_HomoSapiens:MAA_NA,CASSIGVYGYTF_Influenza:M_GILGFVFTL,CASSIRASYEQYF_Influenza:M_GILGFVFTL,CASSIRSAHEQFF_Influenza:M_GILGFVFTL,CASSIRSSYEQYF_Influenza:M_GILGFVFTL,CASSIRSTDTQYF_Influenza:M_GILGFVFTL,CASSIRSTGELFF_Influenza:M_GILGFVFTL,CASSITLNTEAFF_CMV:NA_NA,CASSLAADTQYF_EBV:NA_NA,CASSLAGDRYF_MCPyV:T-Ag_KLLEIAPNC,CASSLAGDYEQYF_CMV:pp65_NLVPMVATV,CASSLAGFRFF_MCPyV:T-Ag_KLLEIAPNC,CASSLAGFTGELFF_CMV:pp65_NLVPMVATV,CASSLAGPETQYF_HomoSapiens:TP53_p-T172I,CASSLAQGTDTQYF_HomoSapiens:LAMC1p.S1509F_NeoAg-KAKNFVTSLLSIIND,CASSLATGGEQFF_EBV:NA_NA,CASSLDENTEAFF_CMV:NA_NA,CASSLDGMNTEAFF_HomoSapiens:TMEM161A_TMEM161A,CASSLDLYGYTF_CMV:pp65_NLVPMVATV,CASSLDNEKLFF_S-pneumoniae:NA_ECTGLAWEWWRTV,CASSLDPYEQYF_HomoSapiens:CARM1_FAAQAGAWKIY,CASSLDSSNQPQHF_CMV:NA_NA,CASSLEGANYGYTF_HPV:E2-orE5-orE6-orE7_NA,CASSLEGDTEAFF_MCPyV:T-Ag_KLLEIAPNC,CASSLEGSYEQYF_EBV:BZLF1_KLVALGINAV,CASSLEGSYEQYF_HCV:NS3_KLVALGINAV,CASSLETVNTEAFF_CMV:pp65_NLVPMVATV,CASSLETVYGYTF_S-pneumoniae:NA_ECTGLAWEWWRTV,CASSLFGGTEAFF_HomoSapiens:MAA_NA,CASSLGANTGELFF_HomoSapiens:SCML2_LPDHFGLGPV,CASSLGDGNYGYTF_HPV:E2-orE5-orE6-orE7_NA,CASSLGEKLFF_HCV:NS3_KLVALGINAV,CASSLGGAEQFF_HomoSapiens:MAA_NA,CASSLGGDIQYF_HCV:NS3_KLVALGINAV,CASSLGGGPDTQYF_HomoSapiens:PMEL154-162_TAA-KTWGQYWQV,CASSLGGGTDTQYF_HomoSapiens:PMEL154-162_TAA-KTWGQYWQV,CASSLGGNTGELFF_MCPyV:T-Ag_KLLEIAPNC,CASSLGGQPQHF_HomoSapiens:MAA_NA,CASSLGGRTEAFF_HomoSapiens:BPNT1_EAGPDAVLRR,CASSLGGSSYEQYF_HomoSapiens:MLANA27-35_TAA-AAGIGILTV,CASSLGLENEQFF_EBV:BMLF1_GLCTLVAML,CASSLGLLNTEAFF_HomoSapiens:MLANA27-35_TAA-AAGIGILTV,CASSLGLSTDTQYF_HomoSapiens:NCEH1111-119p.G115R_NeoAg-YIHGRGWAL,CASSLGNTEAFF_MCPyV:T-Ag_KLLEIAPNC,CASSLGQAYEQYF_EBV:EBNA3A_FLRGRAYGL,CASSLGQAYEQYF_HomoSapiens:MLANA_EEYLKAWTF,CASSLGQGNSPLHF_CMV:pp65_NLVPMVATV,CASSLGQGNYGYTF_HomoSapiens:MLANA27-35_TAA-AAGIGILTV,CASSLGQLNTEAFF_HomoSapiens:MAA_NA,CASSLGQTNYGYTF_HomoSapiens:KRAS_GADGVGKSAL,CASSLGRGQFF_HCV:NS3_KLVALGINAV,CASSLGTGELFF_CMV:pp65_NLVPMVATV,CASSLIGRDEQFF_EBV:BZLF1_EPLPQGQLTAY,CASSLLDGNTEAFF_HPV:E2-orE5-orE6-orE7_NA,CASSLLGETQYF_EBV:NA_NA,CASSLLLDTQYF_EBV:NA_NA,CASSLLQETQYF_EBV:NA_NA,CASSLLSSNQPQHF_EBV:NA_NA,CASSLMQETQYF_EBV:NA_NA,CASSLQGYEQYF_HPV:E2-orE5-orE6-orE7_NA,CASSLREGETQYF_S-pneumoniae:NA_ECTGLAWEWWRTV,CASSLRGSYEQYV_HomoSapiens:DNMT3A_p-P282S,CASSLRNTGELFF_S-pneumoniae:NA_ECTGLAWEWWRTV,CASSLRRGEQYF_HomoSapiens:MYH6191-198_VIQYFASI,CASSLSDGNYGYTF_HPV:E2-orE5-orE6-orE7_NA,CASSLSFGTEAFF_HomoSapiens:MLANA_ELAGIGILTV_AAGIGILTV,CASSLSGQPQHF_MCPyV:T-Ag_KLLEIAPNC,CASSLSQGTEAFF_HomoSapiens:MAA_NA,CASSLTGGSEAFF_HomoSapiens:LMBRD1_FIFTSIAGIR,CASSLVDGNYGYTF_HPV:E2-orE5-orE6-orE7_NA,CASSLVGTGELFF_CMV:pp65_NLVPMVATV,CASSLWLNEQFF_CMV:pp65_NLVPMVATV,CASSLYQETQYF_EBV:NA_NA,CASSLYTGELFF_HomoSapiens:ZHX2_HPNVILNSLY,CASSMGANEQFF_HCV:NS3_KLVALGINAV,CASSMGGEQYF_HCV:NS3_KLVALGINAV,CASSMGGTYEQYF_HomoSapiens:PMEL_ITDQVPFSV_ILDQVPFSV,CASSMLFQETQYF_HPV:E2-orE5-orE6-orE7_NA,CASSMRSTGELFF_Influenza:M_GILGFVFTL,CASSNGRGTEQFF_S-pneumoniae:NA_ECTGLAWEWWRTV,CASSPARNTEAFF_CMV:pp65_RPHERNGFTV,CASSPDGMNTEAFF_HomoSapiens:TMEM161A_TMEM161A,CASSPEETQYF_M.tuberculosis:CFP10_TAAQAAVVRFQEAAN,CASSPGGATEAFF_HomoSapiens:MAA_NA,CASSPGGELFF_HCV:NS3_KLVALGINAV,CASSPGGETQYF_HomoSapiens:PMEL154-162_TAA-KTWGQYWQV,CASSPGGFEAFF_HomoSapiens:PIK3CA_p-P449T,CASSPGGGNTEAFF_S-pneumoniae:NA_ECTGLAWEWWRTV,CASSPGGNEQFF_HomoSapiens:MAA_NA,CASSPGLAGNEQFF_HomoSapiens:MAA_NA,CASSPGLLTDTQYF_HomoSapiens:MAA_NA,CASSPGLLTDTQYF_HomoSapiens:MLANA27-35_TAA-AAGIGILTV,CASSPGQLNTEAFF_HomoSapiens:MAA_NA,CASSPGQPQHF_HomoSapiens:DCAKD198-207p.S199F_NeoAg-RFLEYLPLRF,CASSPGQRNTEAFF_HomoSapiens:MAA_NA,CASSPGSETQYF_S-pneumoniae:NA_ECTGLAWEWWRTV,CASSPGTENSPLHF_HomoSapiens:KRAS_p-G13D,CASSPGTLTDTQYF_HomoSapiens:MLANA27-35_TAA-AAGIGILTV,CASSPHRNTEAFF_CMV:pp65_RPHERNGFTV,CASSPILQETQYF_HPV:E2-orE5-orE6-orE7_NA,CASSPLQGYEQYF_HPV:E2-orE5-orE6-orE7_NA,CASSPPSSGNTIYF_MCPyV:T-Ag_KLLEIAPNC,CASSPQGLGTEAFF_HomoSapiens:MAA_NA,CASSPQGVNYGYTF_S-pneumoniae:NA_ECTGLAWEWWRTV,CASSPRGDTEAFF_MCPyV:T-Ag_KLLEIAPNC,CASSPRTGNTEAFF_CMV:NA_NA,CASSPRVPNTEAFF_HomoSapiens:HIATL1_p-G380V,CASSPSGGTDTQYF_HomoSapiens:CNOT2_FNGTDGSENVTGFDLSDFPALADRN,CASSPSGLSYEQYF_HomoSapiens:MAA_NA,CASSPSRNTEAFF_CMV:pp65_RPHERNGFTV,CASSPTGVGEQFF_Influenza:M_GILGFVFTL,CASSPWDEQFF_MCPyV:T-Ag_KLLEIAPNC,CASSQDGMNTEAFF_HomoSapiens:TMEM161A_TMEM161A,CASSQDRDTQYF_CMV:UL40_VMAPRTLIL,CASSQETGSYEQFF_EBV:EBNA3A_RPPIFIRRL,CASSQETGSYEQYF_EBV:EBNA3A_RPPIFIRRL,CASSQGGGEQYF_S-pneumoniae:NA_WEWWR,CASSQGNTGELFF_HomoSapiens:KRAS_p-G13D,CASSQGQDTEAFF_HomoSapiens:GLIA-OMEGA1_QPFPQPEQPFP,CASSQGRPSTS_HomoSapiens:MAA_NA,CASSQGSYEQYF_HCV:NS3_KLVALGINAV,CASSQLGYEQYF_HPV:E2-orE5-orE6-orE7_NA,CASSQNTGELFF_HomoSapiens:TYR207-215_TAA-FLPWHRLFL,CASSQQETQYF_CEF:NA_NA,CASSQSSGANVLTF_EBV:EBV_NA,CASSQVGETQYF_MCPyV:T-Ag_KLLEIAPNC,CASSQVGGGEQFF_HomoSapiens:MAA_NA,CASSRADYGYTF_HomoSapiens:SDAD1_MAQMRKELDAAPWKSQKRKYIEIDS,CASSRDGMNTEAFF_HomoSapiens:TMEM161A_TMEM161A,CASSRGDTEAFF_HCV:NS3_KLVALGINAV,CASSRGLNNQPQHF_S-pneumoniae:NA_ECTGLAWEWWRTV,CASSRQGENQPQHF_HomoSapiens:MAGEC2254-262_TAA-NAVGVYAGR,CASSRQGLGTEAFF_HomoSapiens:MAA_NA,CASSRQTNTEAFF_CMV:NA_NA,CASSRTGSTYEQYF_EBV:BZLF1_LPEPLPQGQLTAY,CASSSADGNYGYTF_HPV:E2-orE5-orE6-orE7_NA,CASSSAFYGYTF_CMV:pp65_NLVPMVATV,CASSSANYGYTF_CMV:pp65_NLVPMVATV,CASSSAYYGYTF_CMV:pp65_NLVPMVATV,CASSSDGMNTEAFF_HomoSapiens:TMEM161A_TMEM161A,CASSSGATEAFF_HCV:NS3_KLVALGINAV,CASSSGDGNYGYTF_HPV:E2-orE5-orE6-orE7_NA,CASSSGETQYF_S-pneumoniae:NA_ECTGLAWEWWRTV,CASSSGIYGYTF_CMV:pp65_NLVPMVATV,CASSSGPSYEQYF_HomoSapiens:FLNA_RSSRTLSR,CASSSGQAYEQYF_EBV:EBNA3A_FLRGRAYGL,CASSSLNTEAFF_EBV:BZLF1_RAKFKQLL,CASSSQGGYGYTF_HomoSapiens:MAGE-A6_KVDPIGHVY,CASSSRAAYEQYF_Influenza:M_GILGFVFTL,CASSSRASYEQYF_Influenza:M_GILGFVFTL,CASSSRNSYEQYF_Influenza:NA_NA,CASSSRSSYEQYF_Influenza:M-HA_GILGFVFTL_PKYVKQNTLKLAT,CASSSVNEQFF_CMV:pp65_NLVPMVATV,CASSSVSEAFF_CMV:pp65_NLVPMVATV,CASSTDLNTEAFF_CMV:NA_NA,CASSTGDSNQPQHF_EBV:BZLF1_EPLPQGQLTAY,CASSTGFYGYTF_Influenza:M_GILGFVFTL,CASSTGNEKLFF_CMV:NA_NA,CASSTGNYGYTF_Influenza:M_GILGFVFTL,CASSTGSYGYTF_CMV:pp65_NLVPMVATV,CASSTLFQETQYF_HPV:E2-orE5-orE6-orE7_NA,CASSTRSTGELFF_CMV:pp65_NLVPMVATV,CASSTSTDTQYF_S-pneumoniae:NA_ECTGLAWEWWRTV,CASSVASGTDTQYF_EBV:EBNA3A_FLRGRAYGL,CASSVDGMNTEAFF_HomoSapiens:TMEM161A_TMEM161A,CASSVGQGKAFF_Influenza:HA_PKYVKQNTLKLAT,CASSVGWGGEQFF_EBV:NA_NA,CASSVLFQETQYF_HPV:E2-orE5-orE6-orE7_NA,CASSVLNTGELFF_MCPyV:T-Ag_KLLEIAPNC,CASSVNNEQFF_HPV:E2-orE5-orE6-orE7_NA,CASSVRSTGELFF_Influenza:M_GILGFVFTL,CASSWGGGEQYF_HCV:NS3_KLVALGINAV,CASSWGGNTEAFF_HomoSapiens:ZNF219_CLASLHPR,CASSWGSGANVLTF_HomoSapiens:KPNA2_YLRNLTWTL,CASSYGLAGGEQFF_HomoSapiens:MAA_NA,CASSYGSYEQYF_HCV:NS3_KLVALGINAV,CASSYNNEQFF_HomoSapiens:FLNA_RTWRRTRRGRR,CASSYPGTSQFF_HomoSapiens:MAA_NA,CASSYQGTEAFF_HomoSapiens:TERT_ILAKFLHWL,CASSYRGSGNTIYF_HCV:NS3_KLVALGINAV,CASSYSDGNTEAFF_HPV:E2-orE5-orE6-orE7_NA,CASSYSLNTEAFF_CMV:NA_NA,CASSYSVLNTEAFF_HomoSapiens:MAA_NA,CASSYTGELFF_HCV:NS3_KLVALGINAV,CASTDSNTGELFF_MCPyV:T-Ag_KLLEIAPNC,CASTEGNTEAFF_HomoSapiens:PMEL154-162_TAA-KTWGQYWQV,CASTLQETQYF_EBV:NA_NA,CASTNSGNTIYF_HCV:NS3_KLVALGINAV,CASTPTENTEAFF_CMV:NA_NA,CASTQGSTDTQYF_HCV:NS3_KLVALGINAV,CATGTGDSNQPQHF_EBV:BZLF1_EPLPQGQLTAY,CATRDINTGELFF_MCPyV:T-Ag_KLLEIAPNC,CATRRANEQFF_HomoSapiens:PMEL589-603_TAA-LIMPGQEAGLGQVPL,CATSAGRNEQFF_HomoSapiens:MAA_NA,CATSALGDTQYF_HomoSapiens:MBP_NPVVHFFKNIVTPR,CATSEGNEQFF_CMV:pp65_NLVPMVATV,CATSGTGHSYEQYF_HomoSapiens:PPP2R1A_p-L432S,CATTGGQNTEAFF_HomoSapiens:TP53_NSSCMGGMNLR,CAWAESSYNEQFF_HomoSapiens:TARS_p-E331K,CAWSEQVNTEAFF_HomoSapiens:UBE2I51-60p.P52L_NeoAg-TLWEGGLFKL,CAWSPDGMNTEAFF_HomoSapiens:TMEM161A_TMEM161A,CAWSPVNTEAFF_HomoSapiens:FAM50B72-80p.E78K_NeoAg-DMKARQKAL,CPSSSGDGNYGYTF_HPV:E2-orE5-orE6-orE7_NA,CSADLNTEAFF_HomoSapiens:C2orf16_TLIDVPKV,CSAEQGANTGELFF_HomoSapiens:PMEL154-162_TAA-KTWGQYWQV,CSARGADTQYF_CMV:pp65_NLVPMVATV,CSARTGYNEQFF_MCPyV:T-Ag_KLLEIAPNC,CSASEGAYGYTF_S-pneumoniae:NA_ECTGLAWEWWRTV,CSASMRDEQYF_S-pneumoniae:NA_ECTGLAWEWWRTV,CSATGGTGNTIYF_EBV:NA_NA,CSVEGDTGELFF_CMV:pp65_NLVPMVATV,CSVEGTENTGELFF_EBV:NA_NA,CSVGGAYEQYF_EBV:EBNA3A_RPPIFIRRL,CSVPLTGNTEAFF_EBV:NA_NA,CSVVDRGYGYTF_EBV:NA_NA,CTSSPILQETQYF_HPV:E2-orE5-orE6-orE7_NA,YASSLTGGTEAFF_HomoSapiens:MAA_NA | CHP_404_X01-PBMC | CHP_404 | X01 | CAASSGANEQFF_Solidtumors | CAASSGANEQFF   | Solidtumors |   2 | 9.9e-10 |\n",
       "| 1 | 17492 | CACSTGGSEQYF_Solidtumors:CHP_381_X01-PBMC | 8263 | 115 | cfDNA,PBMC,Tumor | X00,X01,X02,X03,X04,X05 | 6 | CEF,CMV,EBV,HCV,HomoSapiens,HPV,Influenza,Leukemia,LFS,Lymphoma,M.tuberculosis,MCPyV,MDavis,Normal,S-pneumoniae,Solidtumors,T-cellmalignancies | CACSVLNTGELFF_MCPyV:T-Ag_KLLEIAPNC,CAGSQDGMNTEAFF_HomoSapiens:TMEM161A_TMEM161A,CAIRDSNTGELFF_MCPyV:T-Ag_KLLEIAPNC,CAIRGQNTGELFF_MCPyV:T-Ag_KLLEIAPNC,CAISEDGMNTEAFF_HomoSapiens:TMEM161A_TMEM161A,CAISGEGNTEAFF_CMV:NA_NA,CAISSGGADTQYF_S-pneumoniae:NA_ECTGLAWEWWRTV,CAISTGDSNQPQHF_EBV:BZLF1_EPLPQGQLTAY,CANSQPGGIEQFF_EBV:BZLF1_EPLPQGQLTAY,CARSVLNTGELFF_MCPyV:T-Ag_KLLEIAPNC,CASDSNTEAFF_HCV:NS3_KLVALGINAV,CASGQGQETQYF_HCV:NS3_KLVALGINAV,CASGTGDSNQPQHF_EBV:BZLF1_EPLPQGQLTAY,CASIRGYEQYF_HomoSapiens:MAA_NA,CASQGGTEAFF_HomoSapiens:MAA_NA,CASRDGDEQYF_S-pneumoniae:NA_ECTGLAWEWWRTV,CASRDQNTGELFF_MCPyV:T-Ag_KLLEIAPNC,CASRDSSSYEQYF_HomoSapiens:PLECp.P3283S_NeoAg-GGIVDSSKSHRVPLD,CASRGGFNEKLFF_CMV:NA_NA,CASRGGSSYNEQFF_MCPyV:T-Ag_KLLEIAPNC,CASRGQNTGELFF_MCPyV:T-Ag_KLLEIAPNC,CASRIGNTGELFF_HomoSapiens:KRAS_p-G13D,CASRQGGQPQHF_HomoSapiens:MAA_NA,CASRQGNTGELFF_HomoSapiens:KRAS_p-G13D,CASRRGPYEQYF_HCV:NS3_KLVALGINAV-orKLVALVINAV,CASRRSNQPQHF_HomoSapiens:CMKLR1_FLEDLSPL,CASSAGAEQYF_HomoSapiens:PIK3CA_p-P449T,CASSASNYGYTF_HomoSapiens:DDX18_VKYHYELLNYIDMPVLAIHGKQKQN,CASSDALQETQYF_CMV:pp65_NLVPMVATV,CASSDDRGPYEQYF_HCV:NS3_KLVALGINAV,CASSDGGEQYF_S-pneumoniae:NA_GLAWEWWRTV,CASSDGGVKYF_S-pneumoniae:NA_ECTGLAWEWWRTV,CASSDGVGTEAFF_HomoSapiens:RPS9p.P68S_NeoAg-AARELLTLDEKDSRRLFE,CASSDPGTEAFF_HomoSapiens:KRAS_GADGVGKSAL,CASSDSYGYTF_HCV:NS3_KLVALGINAV,CASSDYYEQYF_S-pneumoniae:NA_ECTGLAWEWWRTV,CASSEDGMNTEAFF_HomoSapiens:TMEM161A_TMEM161A,CASSEGDTEAFF_HCV:NS3_KLVALGINAV,CASSEGQGNSPLHF_MCPyV:T-Ag_KLLEIAPNC,CASSEGQSYEQYF_MCPyV:T-Ag_KLLEIAPNC,CASSESGRNTEAFX_S-pneumoniae:NA_ECTGLAWEWWRTV,CASSFDRGYGYTF_HomoSapiens:MAGE-A6_NA,CASSFGADTQYF_HCV:NS3_KLVALGINAV,CASSFGGAYEQYF_HomoSapiens:MED13_VQIISCQY,CASSFGGEQFF_HomoSapiens:DOPEY2_FRFSMIWHL,CASSFGSEQYF_MCPyV:T-Ag_KLLEIAPNC,CASSFGSYEQYF_HomoSapiens:NUP214_SVYWSPKGK,CASSFIGGTDTQYF_HomoSapiens:gp100_YLEPGPVTA,CASSFLGTGELFF_HomoSapiens:TARS_p-E331K,CASSFQGFTEAFF_CMV:pp65_NLVPMVATV,CASSFQGYTEAFF_CMV:pp65_NLVPMVATV,CASSFTLNTEAFF_CMV:NA_NA,CASSFWGNTEAFF_HomoSapiens:FAM135A_AGASSIWYR,CASSGDGMNTEAFF_HomoSapiens:TMEM161A_TMEM161A,CASSGENTEAFF_CMV:NA_NA,CASSGQNTGELFF_MCPyV:T-Ag_KLLEIAPNC,CASSGTHNEQFF_EBV:EBNA3A_RPPIFIRRL,CASSGYTGELFF_HCV:NS3_KLVALGINAV,CASSHAGRNTEAFF_HomoSapiens:MAA_NA,CASSHQTGELFF_CMV:pp65_NLVPMVATV,CASSHREGETQYF_S-pneumoniae:NA_ECTGLAWEWWRTV,CASSIGGDYGYTF_HomoSapiens:MLANA27-35_TAA-AAGIGILTV,CASSIGQYEQYF_HCV:NS3_KLVALGINAV,CASSIGVGTEQYF_HomoSapiens:MAA_NA,CASSIGVYGYTF_Influenza:M_GILGFVFTL,CASSIRASYEQYF_Influenza:M_GILGFVFTL,CASSIRSAHEQFF_Influenza:M_GILGFVFTL,CASSIRSSYEQYF_Influenza:M_GILGFVFTL,CASSIRSTDTQYF_Influenza:M_GILGFVFTL,CASSIRSTGELFF_Influenza:M_GILGFVFTL,CASSITLNTEAFF_CMV:NA_NA,CASSLAADTQYF_EBV:NA_NA,CASSLAGDRYF_MCPyV:T-Ag_KLLEIAPNC,CASSLAGDYEQYF_CMV:pp65_NLVPMVATV,CASSLAGFRFF_MCPyV:T-Ag_KLLEIAPNC,CASSLAGFTGELFF_CMV:pp65_NLVPMVATV,CASSLAGPETQYF_HomoSapiens:TP53_p-T172I,CASSLAQGTDTQYF_HomoSapiens:LAMC1p.S1509F_NeoAg-KAKNFVTSLLSIIND,CASSLATGGEQFF_EBV:NA_NA,CASSLDENTEAFF_CMV:NA_NA,CASSLDGMNTEAFF_HomoSapiens:TMEM161A_TMEM161A,CASSLDLYGYTF_CMV:pp65_NLVPMVATV,CASSLDNEKLFF_S-pneumoniae:NA_ECTGLAWEWWRTV,CASSLDPYEQYF_HomoSapiens:CARM1_FAAQAGAWKIY,CASSLDSSNQPQHF_CMV:NA_NA,CASSLEGANYGYTF_HPV:E2-orE5-orE6-orE7_NA,CASSLEGDTEAFF_MCPyV:T-Ag_KLLEIAPNC,CASSLEGSYEQYF_EBV:BZLF1_KLVALGINAV,CASSLEGSYEQYF_HCV:NS3_KLVALGINAV,CASSLETVNTEAFF_CMV:pp65_NLVPMVATV,CASSLETVYGYTF_S-pneumoniae:NA_ECTGLAWEWWRTV,CASSLFGGTEAFF_HomoSapiens:MAA_NA,CASSLGANTGELFF_HomoSapiens:SCML2_LPDHFGLGPV,CASSLGDGNYGYTF_HPV:E2-orE5-orE6-orE7_NA,CASSLGEKLFF_HCV:NS3_KLVALGINAV,CASSLGGAEQFF_HomoSapiens:MAA_NA,CASSLGGDIQYF_HCV:NS3_KLVALGINAV,CASSLGGGPDTQYF_HomoSapiens:PMEL154-162_TAA-KTWGQYWQV,CASSLGGGTDTQYF_HomoSapiens:PMEL154-162_TAA-KTWGQYWQV,CASSLGGNTGELFF_MCPyV:T-Ag_KLLEIAPNC,CASSLGGQPQHF_HomoSapiens:MAA_NA,CASSLGGRTEAFF_HomoSapiens:BPNT1_EAGPDAVLRR,CASSLGGSSYEQYF_HomoSapiens:MLANA27-35_TAA-AAGIGILTV,CASSLGLENEQFF_EBV:BMLF1_GLCTLVAML,CASSLGLLNTEAFF_HomoSapiens:MLANA27-35_TAA-AAGIGILTV,CASSLGLSTDTQYF_HomoSapiens:NCEH1111-119p.G115R_NeoAg-YIHGRGWAL,CASSLGNTEAFF_MCPyV:T-Ag_KLLEIAPNC,CASSLGQAYEQYF_EBV:EBNA3A_FLRGRAYGL,CASSLGQAYEQYF_HomoSapiens:MLANA_EEYLKAWTF,CASSLGQGNSPLHF_CMV:pp65_NLVPMVATV,CASSLGQGNYGYTF_HomoSapiens:MLANA27-35_TAA-AAGIGILTV,CASSLGQLNTEAFF_HomoSapiens:MAA_NA,CASSLGQTNYGYTF_HomoSapiens:KRAS_GADGVGKSAL,CASSLGRGQFF_HCV:NS3_KLVALGINAV,CASSLGTGELFF_CMV:pp65_NLVPMVATV,CASSLIGRDEQFF_EBV:BZLF1_EPLPQGQLTAY,CASSLLDGNTEAFF_HPV:E2-orE5-orE6-orE7_NA,CASSLLGETQYF_EBV:NA_NA,CASSLLLDTQYF_EBV:NA_NA,CASSLLQETQYF_EBV:NA_NA,CASSLLSSNQPQHF_EBV:NA_NA,CASSLMQETQYF_EBV:NA_NA,CASSLQGYEQYF_HPV:E2-orE5-orE6-orE7_NA,CASSLREGETQYF_S-pneumoniae:NA_ECTGLAWEWWRTV,CASSLRGSYEQYV_HomoSapiens:DNMT3A_p-P282S,CASSLRNTGELFF_S-pneumoniae:NA_ECTGLAWEWWRTV,CASSLRRGEQYF_HomoSapiens:MYH6191-198_VIQYFASI,CASSLSDGNYGYTF_HPV:E2-orE5-orE6-orE7_NA,CASSLSFGTEAFF_HomoSapiens:MLANA_ELAGIGILTV_AAGIGILTV,CASSLSGQPQHF_MCPyV:T-Ag_KLLEIAPNC,CASSLSQGTEAFF_HomoSapiens:MAA_NA,CASSLTGGSEAFF_HomoSapiens:LMBRD1_FIFTSIAGIR,CASSLVDGNYGYTF_HPV:E2-orE5-orE6-orE7_NA,CASSLVGTGELFF_CMV:pp65_NLVPMVATV,CASSLWLNEQFF_CMV:pp65_NLVPMVATV,CASSLYQETQYF_EBV:NA_NA,CASSLYTGELFF_HomoSapiens:ZHX2_HPNVILNSLY,CASSMGANEQFF_HCV:NS3_KLVALGINAV,CASSMGGEQYF_HCV:NS3_KLVALGINAV,CASSMGGTYEQYF_HomoSapiens:PMEL_ITDQVPFSV_ILDQVPFSV,CASSMLFQETQYF_HPV:E2-orE5-orE6-orE7_NA,CASSMRSTGELFF_Influenza:M_GILGFVFTL,CASSNGRGTEQFF_S-pneumoniae:NA_ECTGLAWEWWRTV,CASSPARNTEAFF_CMV:pp65_RPHERNGFTV,CASSPDGMNTEAFF_HomoSapiens:TMEM161A_TMEM161A,CASSPEETQYF_M.tuberculosis:CFP10_TAAQAAVVRFQEAAN,CASSPGGATEAFF_HomoSapiens:MAA_NA,CASSPGGELFF_HCV:NS3_KLVALGINAV,CASSPGGETQYF_HomoSapiens:PMEL154-162_TAA-KTWGQYWQV,CASSPGGFEAFF_HomoSapiens:PIK3CA_p-P449T,CASSPGGGNTEAFF_S-pneumoniae:NA_ECTGLAWEWWRTV,CASSPGGNEQFF_HomoSapiens:MAA_NA,CASSPGLAGNEQFF_HomoSapiens:MAA_NA,CASSPGLLTDTQYF_HomoSapiens:MAA_NA,CASSPGLLTDTQYF_HomoSapiens:MLANA27-35_TAA-AAGIGILTV,CASSPGQLNTEAFF_HomoSapiens:MAA_NA,CASSPGQPQHF_HomoSapiens:DCAKD198-207p.S199F_NeoAg-RFLEYLPLRF,CASSPGQRNTEAFF_HomoSapiens:MAA_NA,CASSPGSETQYF_S-pneumoniae:NA_ECTGLAWEWWRTV,CASSPGTENSPLHF_HomoSapiens:KRAS_p-G13D,CASSPGTLTDTQYF_HomoSapiens:MLANA27-35_TAA-AAGIGILTV,CASSPHRNTEAFF_CMV:pp65_RPHERNGFTV,CASSPILQETQYF_HPV:E2-orE5-orE6-orE7_NA,CASSPLQGYEQYF_HPV:E2-orE5-orE6-orE7_NA,CASSPPSSGNTIYF_MCPyV:T-Ag_KLLEIAPNC,CASSPQGLGTEAFF_HomoSapiens:MAA_NA,CASSPQGVNYGYTF_S-pneumoniae:NA_ECTGLAWEWWRTV,CASSPRGDTEAFF_MCPyV:T-Ag_KLLEIAPNC,CASSPRTGNTEAFF_CMV:NA_NA,CASSPRVPNTEAFF_HomoSapiens:HIATL1_p-G380V,CASSPSGGTDTQYF_HomoSapiens:CNOT2_FNGTDGSENVTGFDLSDFPALADRN,CASSPSGLSYEQYF_HomoSapiens:MAA_NA,CASSPSRNTEAFF_CMV:pp65_RPHERNGFTV,CASSPTGVGEQFF_Influenza:M_GILGFVFTL,CASSPWDEQFF_MCPyV:T-Ag_KLLEIAPNC,CASSQDGMNTEAFF_HomoSapiens:TMEM161A_TMEM161A,CASSQDRDTQYF_CMV:UL40_VMAPRTLIL,CASSQETGSYEQFF_EBV:EBNA3A_RPPIFIRRL,CASSQETGSYEQYF_EBV:EBNA3A_RPPIFIRRL,CASSQGGGEQYF_S-pneumoniae:NA_WEWWR,CASSQGNTGELFF_HomoSapiens:KRAS_p-G13D,CASSQGQDTEAFF_HomoSapiens:GLIA-OMEGA1_QPFPQPEQPFP,CASSQGRPSTS_HomoSapiens:MAA_NA,CASSQGSYEQYF_HCV:NS3_KLVALGINAV,CASSQLGYEQYF_HPV:E2-orE5-orE6-orE7_NA,CASSQNTGELFF_HomoSapiens:TYR207-215_TAA-FLPWHRLFL,CASSQQETQYF_CEF:NA_NA,CASSQSSGANVLTF_EBV:EBV_NA,CASSQVGETQYF_MCPyV:T-Ag_KLLEIAPNC,CASSQVGGGEQFF_HomoSapiens:MAA_NA,CASSRADYGYTF_HomoSapiens:SDAD1_MAQMRKELDAAPWKSQKRKYIEIDS,CASSRDGMNTEAFF_HomoSapiens:TMEM161A_TMEM161A,CASSRGDTEAFF_HCV:NS3_KLVALGINAV,CASSRGLNNQPQHF_S-pneumoniae:NA_ECTGLAWEWWRTV,CASSRQGENQPQHF_HomoSapiens:MAGEC2254-262_TAA-NAVGVYAGR,CASSRQGLGTEAFF_HomoSapiens:MAA_NA,CASSRQTNTEAFF_CMV:NA_NA,CASSRTGSTYEQYF_EBV:BZLF1_LPEPLPQGQLTAY,CASSSADGNYGYTF_HPV:E2-orE5-orE6-orE7_NA,CASSSAFYGYTF_CMV:pp65_NLVPMVATV,CASSSANYGYTF_CMV:pp65_NLVPMVATV,CASSSAYYGYTF_CMV:pp65_NLVPMVATV,CASSSDGMNTEAFF_HomoSapiens:TMEM161A_TMEM161A,CASSSGATEAFF_HCV:NS3_KLVALGINAV,CASSSGDGNYGYTF_HPV:E2-orE5-orE6-orE7_NA,CASSSGETQYF_S-pneumoniae:NA_ECTGLAWEWWRTV,CASSSGIYGYTF_CMV:pp65_NLVPMVATV,CASSSGPSYEQYF_HomoSapiens:FLNA_RSSRTLSR,CASSSGQAYEQYF_EBV:EBNA3A_FLRGRAYGL,CASSSLNTEAFF_EBV:BZLF1_RAKFKQLL,CASSSQGGYGYTF_HomoSapiens:MAGE-A6_KVDPIGHVY,CASSSRAAYEQYF_Influenza:M_GILGFVFTL,CASSSRASYEQYF_Influenza:M_GILGFVFTL,CASSSRNSYEQYF_Influenza:NA_NA,CASSSRSSYEQYF_Influenza:M-HA_GILGFVFTL_PKYVKQNTLKLAT,CASSSVNEQFF_CMV:pp65_NLVPMVATV,CASSSVSEAFF_CMV:pp65_NLVPMVATV,CASSTDLNTEAFF_CMV:NA_NA,CASSTGDSNQPQHF_EBV:BZLF1_EPLPQGQLTAY,CASSTGFYGYTF_Influenza:M_GILGFVFTL,CASSTGNEKLFF_CMV:NA_NA,CASSTGNYGYTF_Influenza:M_GILGFVFTL,CASSTGSYGYTF_CMV:pp65_NLVPMVATV,CASSTLFQETQYF_HPV:E2-orE5-orE6-orE7_NA,CASSTRSTGELFF_CMV:pp65_NLVPMVATV,CASSTSTDTQYF_S-pneumoniae:NA_ECTGLAWEWWRTV,CASSVASGTDTQYF_EBV:EBNA3A_FLRGRAYGL,CASSVDGMNTEAFF_HomoSapiens:TMEM161A_TMEM161A,CASSVGQGKAFF_Influenza:HA_PKYVKQNTLKLAT,CASSVGWGGEQFF_EBV:NA_NA,CASSVLFQETQYF_HPV:E2-orE5-orE6-orE7_NA,CASSVLNTGELFF_MCPyV:T-Ag_KLLEIAPNC,CASSVNNEQFF_HPV:E2-orE5-orE6-orE7_NA,CASSVRSTGELFF_Influenza:M_GILGFVFTL,CASSWGGGEQYF_HCV:NS3_KLVALGINAV,CASSWGGNTEAFF_HomoSapiens:ZNF219_CLASLHPR,CASSWGSGANVLTF_HomoSapiens:KPNA2_YLRNLTWTL,CASSYGLAGGEQFF_HomoSapiens:MAA_NA,CASSYGSYEQYF_HCV:NS3_KLVALGINAV,CASSYNNEQFF_HomoSapiens:FLNA_RTWRRTRRGRR,CASSYPGTSQFF_HomoSapiens:MAA_NA,CASSYQGTEAFF_HomoSapiens:TERT_ILAKFLHWL,CASSYRGSGNTIYF_HCV:NS3_KLVALGINAV,CASSYSDGNTEAFF_HPV:E2-orE5-orE6-orE7_NA,CASSYSLNTEAFF_CMV:NA_NA,CASSYSVLNTEAFF_HomoSapiens:MAA_NA,CASSYTGELFF_HCV:NS3_KLVALGINAV,CASTDSNTGELFF_MCPyV:T-Ag_KLLEIAPNC,CASTEGNTEAFF_HomoSapiens:PMEL154-162_TAA-KTWGQYWQV,CASTLQETQYF_EBV:NA_NA,CASTNSGNTIYF_HCV:NS3_KLVALGINAV,CASTPTENTEAFF_CMV:NA_NA,CASTQGSTDTQYF_HCV:NS3_KLVALGINAV,CATGTGDSNQPQHF_EBV:BZLF1_EPLPQGQLTAY,CATRDINTGELFF_MCPyV:T-Ag_KLLEIAPNC,CATRRANEQFF_HomoSapiens:PMEL589-603_TAA-LIMPGQEAGLGQVPL,CATSAGRNEQFF_HomoSapiens:MAA_NA,CATSALGDTQYF_HomoSapiens:MBP_NPVVHFFKNIVTPR,CATSEGNEQFF_CMV:pp65_NLVPMVATV,CATSGTGHSYEQYF_HomoSapiens:PPP2R1A_p-L432S,CATTGGQNTEAFF_HomoSapiens:TP53_NSSCMGGMNLR,CAWAESSYNEQFF_HomoSapiens:TARS_p-E331K,CAWSEQVNTEAFF_HomoSapiens:UBE2I51-60p.P52L_NeoAg-TLWEGGLFKL,CAWSPDGMNTEAFF_HomoSapiens:TMEM161A_TMEM161A,CAWSPVNTEAFF_HomoSapiens:FAM50B72-80p.E78K_NeoAg-DMKARQKAL,CPSSSGDGNYGYTF_HPV:E2-orE5-orE6-orE7_NA,CSADLNTEAFF_HomoSapiens:C2orf16_TLIDVPKV,CSAEQGANTGELFF_HomoSapiens:PMEL154-162_TAA-KTWGQYWQV,CSARGADTQYF_CMV:pp65_NLVPMVATV,CSARTGYNEQFF_MCPyV:T-Ag_KLLEIAPNC,CSASEGAYGYTF_S-pneumoniae:NA_ECTGLAWEWWRTV,CSASMRDEQYF_S-pneumoniae:NA_ECTGLAWEWWRTV,CSATGGTGNTIYF_EBV:NA_NA,CSVEGDTGELFF_CMV:pp65_NLVPMVATV,CSVEGTENTGELFF_EBV:NA_NA,CSVGGAYEQYF_EBV:EBNA3A_RPPIFIRRL,CSVPLTGNTEAFF_EBV:NA_NA,CSVVDRGYGYTF_EBV:NA_NA,CTSSPILQETQYF_HPV:E2-orE5-orE6-orE7_NA,YASSLTGGTEAFF_HomoSapiens:MAA_NA | CHP_381_X01-PBMC | CHP_381 | X01 | CACSTGGSEQYF_Solidtumors | CACSTGGSEQYF   | Solidtumors | 125 | 9.0e-07 |\n",
       "| 1 | 17492 | CAFSGDSSYNEQFF_Leukemia:CHP_373_X01-PBMC  | 8263 | 115 | cfDNA,PBMC,Tumor | X00,X01,X02,X03,X04,X05 | 6 | CEF,CMV,EBV,HCV,HomoSapiens,HPV,Influenza,Leukemia,LFS,Lymphoma,M.tuberculosis,MCPyV,MDavis,Normal,S-pneumoniae,Solidtumors,T-cellmalignancies | CACSVLNTGELFF_MCPyV:T-Ag_KLLEIAPNC,CAGSQDGMNTEAFF_HomoSapiens:TMEM161A_TMEM161A,CAIRDSNTGELFF_MCPyV:T-Ag_KLLEIAPNC,CAIRGQNTGELFF_MCPyV:T-Ag_KLLEIAPNC,CAISEDGMNTEAFF_HomoSapiens:TMEM161A_TMEM161A,CAISGEGNTEAFF_CMV:NA_NA,CAISSGGADTQYF_S-pneumoniae:NA_ECTGLAWEWWRTV,CAISTGDSNQPQHF_EBV:BZLF1_EPLPQGQLTAY,CANSQPGGIEQFF_EBV:BZLF1_EPLPQGQLTAY,CARSVLNTGELFF_MCPyV:T-Ag_KLLEIAPNC,CASDSNTEAFF_HCV:NS3_KLVALGINAV,CASGQGQETQYF_HCV:NS3_KLVALGINAV,CASGTGDSNQPQHF_EBV:BZLF1_EPLPQGQLTAY,CASIRGYEQYF_HomoSapiens:MAA_NA,CASQGGTEAFF_HomoSapiens:MAA_NA,CASRDGDEQYF_S-pneumoniae:NA_ECTGLAWEWWRTV,CASRDQNTGELFF_MCPyV:T-Ag_KLLEIAPNC,CASRDSSSYEQYF_HomoSapiens:PLECp.P3283S_NeoAg-GGIVDSSKSHRVPLD,CASRGGFNEKLFF_CMV:NA_NA,CASRGGSSYNEQFF_MCPyV:T-Ag_KLLEIAPNC,CASRGQNTGELFF_MCPyV:T-Ag_KLLEIAPNC,CASRIGNTGELFF_HomoSapiens:KRAS_p-G13D,CASRQGGQPQHF_HomoSapiens:MAA_NA,CASRQGNTGELFF_HomoSapiens:KRAS_p-G13D,CASRRGPYEQYF_HCV:NS3_KLVALGINAV-orKLVALVINAV,CASRRSNQPQHF_HomoSapiens:CMKLR1_FLEDLSPL,CASSAGAEQYF_HomoSapiens:PIK3CA_p-P449T,CASSASNYGYTF_HomoSapiens:DDX18_VKYHYELLNYIDMPVLAIHGKQKQN,CASSDALQETQYF_CMV:pp65_NLVPMVATV,CASSDDRGPYEQYF_HCV:NS3_KLVALGINAV,CASSDGGEQYF_S-pneumoniae:NA_GLAWEWWRTV,CASSDGGVKYF_S-pneumoniae:NA_ECTGLAWEWWRTV,CASSDGVGTEAFF_HomoSapiens:RPS9p.P68S_NeoAg-AARELLTLDEKDSRRLFE,CASSDPGTEAFF_HomoSapiens:KRAS_GADGVGKSAL,CASSDSYGYTF_HCV:NS3_KLVALGINAV,CASSDYYEQYF_S-pneumoniae:NA_ECTGLAWEWWRTV,CASSEDGMNTEAFF_HomoSapiens:TMEM161A_TMEM161A,CASSEGDTEAFF_HCV:NS3_KLVALGINAV,CASSEGQGNSPLHF_MCPyV:T-Ag_KLLEIAPNC,CASSEGQSYEQYF_MCPyV:T-Ag_KLLEIAPNC,CASSESGRNTEAFX_S-pneumoniae:NA_ECTGLAWEWWRTV,CASSFDRGYGYTF_HomoSapiens:MAGE-A6_NA,CASSFGADTQYF_HCV:NS3_KLVALGINAV,CASSFGGAYEQYF_HomoSapiens:MED13_VQIISCQY,CASSFGGEQFF_HomoSapiens:DOPEY2_FRFSMIWHL,CASSFGSEQYF_MCPyV:T-Ag_KLLEIAPNC,CASSFGSYEQYF_HomoSapiens:NUP214_SVYWSPKGK,CASSFIGGTDTQYF_HomoSapiens:gp100_YLEPGPVTA,CASSFLGTGELFF_HomoSapiens:TARS_p-E331K,CASSFQGFTEAFF_CMV:pp65_NLVPMVATV,CASSFQGYTEAFF_CMV:pp65_NLVPMVATV,CASSFTLNTEAFF_CMV:NA_NA,CASSFWGNTEAFF_HomoSapiens:FAM135A_AGASSIWYR,CASSGDGMNTEAFF_HomoSapiens:TMEM161A_TMEM161A,CASSGENTEAFF_CMV:NA_NA,CASSGQNTGELFF_MCPyV:T-Ag_KLLEIAPNC,CASSGTHNEQFF_EBV:EBNA3A_RPPIFIRRL,CASSGYTGELFF_HCV:NS3_KLVALGINAV,CASSHAGRNTEAFF_HomoSapiens:MAA_NA,CASSHQTGELFF_CMV:pp65_NLVPMVATV,CASSHREGETQYF_S-pneumoniae:NA_ECTGLAWEWWRTV,CASSIGGDYGYTF_HomoSapiens:MLANA27-35_TAA-AAGIGILTV,CASSIGQYEQYF_HCV:NS3_KLVALGINAV,CASSIGVGTEQYF_HomoSapiens:MAA_NA,CASSIGVYGYTF_Influenza:M_GILGFVFTL,CASSIRASYEQYF_Influenza:M_GILGFVFTL,CASSIRSAHEQFF_Influenza:M_GILGFVFTL,CASSIRSSYEQYF_Influenza:M_GILGFVFTL,CASSIRSTDTQYF_Influenza:M_GILGFVFTL,CASSIRSTGELFF_Influenza:M_GILGFVFTL,CASSITLNTEAFF_CMV:NA_NA,CASSLAADTQYF_EBV:NA_NA,CASSLAGDRYF_MCPyV:T-Ag_KLLEIAPNC,CASSLAGDYEQYF_CMV:pp65_NLVPMVATV,CASSLAGFRFF_MCPyV:T-Ag_KLLEIAPNC,CASSLAGFTGELFF_CMV:pp65_NLVPMVATV,CASSLAGPETQYF_HomoSapiens:TP53_p-T172I,CASSLAQGTDTQYF_HomoSapiens:LAMC1p.S1509F_NeoAg-KAKNFVTSLLSIIND,CASSLATGGEQFF_EBV:NA_NA,CASSLDENTEAFF_CMV:NA_NA,CASSLDGMNTEAFF_HomoSapiens:TMEM161A_TMEM161A,CASSLDLYGYTF_CMV:pp65_NLVPMVATV,CASSLDNEKLFF_S-pneumoniae:NA_ECTGLAWEWWRTV,CASSLDPYEQYF_HomoSapiens:CARM1_FAAQAGAWKIY,CASSLDSSNQPQHF_CMV:NA_NA,CASSLEGANYGYTF_HPV:E2-orE5-orE6-orE7_NA,CASSLEGDTEAFF_MCPyV:T-Ag_KLLEIAPNC,CASSLEGSYEQYF_EBV:BZLF1_KLVALGINAV,CASSLEGSYEQYF_HCV:NS3_KLVALGINAV,CASSLETVNTEAFF_CMV:pp65_NLVPMVATV,CASSLETVYGYTF_S-pneumoniae:NA_ECTGLAWEWWRTV,CASSLFGGTEAFF_HomoSapiens:MAA_NA,CASSLGANTGELFF_HomoSapiens:SCML2_LPDHFGLGPV,CASSLGDGNYGYTF_HPV:E2-orE5-orE6-orE7_NA,CASSLGEKLFF_HCV:NS3_KLVALGINAV,CASSLGGAEQFF_HomoSapiens:MAA_NA,CASSLGGDIQYF_HCV:NS3_KLVALGINAV,CASSLGGGPDTQYF_HomoSapiens:PMEL154-162_TAA-KTWGQYWQV,CASSLGGGTDTQYF_HomoSapiens:PMEL154-162_TAA-KTWGQYWQV,CASSLGGNTGELFF_MCPyV:T-Ag_KLLEIAPNC,CASSLGGQPQHF_HomoSapiens:MAA_NA,CASSLGGRTEAFF_HomoSapiens:BPNT1_EAGPDAVLRR,CASSLGGSSYEQYF_HomoSapiens:MLANA27-35_TAA-AAGIGILTV,CASSLGLENEQFF_EBV:BMLF1_GLCTLVAML,CASSLGLLNTEAFF_HomoSapiens:MLANA27-35_TAA-AAGIGILTV,CASSLGLSTDTQYF_HomoSapiens:NCEH1111-119p.G115R_NeoAg-YIHGRGWAL,CASSLGNTEAFF_MCPyV:T-Ag_KLLEIAPNC,CASSLGQAYEQYF_EBV:EBNA3A_FLRGRAYGL,CASSLGQAYEQYF_HomoSapiens:MLANA_EEYLKAWTF,CASSLGQGNSPLHF_CMV:pp65_NLVPMVATV,CASSLGQGNYGYTF_HomoSapiens:MLANA27-35_TAA-AAGIGILTV,CASSLGQLNTEAFF_HomoSapiens:MAA_NA,CASSLGQTNYGYTF_HomoSapiens:KRAS_GADGVGKSAL,CASSLGRGQFF_HCV:NS3_KLVALGINAV,CASSLGTGELFF_CMV:pp65_NLVPMVATV,CASSLIGRDEQFF_EBV:BZLF1_EPLPQGQLTAY,CASSLLDGNTEAFF_HPV:E2-orE5-orE6-orE7_NA,CASSLLGETQYF_EBV:NA_NA,CASSLLLDTQYF_EBV:NA_NA,CASSLLQETQYF_EBV:NA_NA,CASSLLSSNQPQHF_EBV:NA_NA,CASSLMQETQYF_EBV:NA_NA,CASSLQGYEQYF_HPV:E2-orE5-orE6-orE7_NA,CASSLREGETQYF_S-pneumoniae:NA_ECTGLAWEWWRTV,CASSLRGSYEQYV_HomoSapiens:DNMT3A_p-P282S,CASSLRNTGELFF_S-pneumoniae:NA_ECTGLAWEWWRTV,CASSLRRGEQYF_HomoSapiens:MYH6191-198_VIQYFASI,CASSLSDGNYGYTF_HPV:E2-orE5-orE6-orE7_NA,CASSLSFGTEAFF_HomoSapiens:MLANA_ELAGIGILTV_AAGIGILTV,CASSLSGQPQHF_MCPyV:T-Ag_KLLEIAPNC,CASSLSQGTEAFF_HomoSapiens:MAA_NA,CASSLTGGSEAFF_HomoSapiens:LMBRD1_FIFTSIAGIR,CASSLVDGNYGYTF_HPV:E2-orE5-orE6-orE7_NA,CASSLVGTGELFF_CMV:pp65_NLVPMVATV,CASSLWLNEQFF_CMV:pp65_NLVPMVATV,CASSLYQETQYF_EBV:NA_NA,CASSLYTGELFF_HomoSapiens:ZHX2_HPNVILNSLY,CASSMGANEQFF_HCV:NS3_KLVALGINAV,CASSMGGEQYF_HCV:NS3_KLVALGINAV,CASSMGGTYEQYF_HomoSapiens:PMEL_ITDQVPFSV_ILDQVPFSV,CASSMLFQETQYF_HPV:E2-orE5-orE6-orE7_NA,CASSMRSTGELFF_Influenza:M_GILGFVFTL,CASSNGRGTEQFF_S-pneumoniae:NA_ECTGLAWEWWRTV,CASSPARNTEAFF_CMV:pp65_RPHERNGFTV,CASSPDGMNTEAFF_HomoSapiens:TMEM161A_TMEM161A,CASSPEETQYF_M.tuberculosis:CFP10_TAAQAAVVRFQEAAN,CASSPGGATEAFF_HomoSapiens:MAA_NA,CASSPGGELFF_HCV:NS3_KLVALGINAV,CASSPGGETQYF_HomoSapiens:PMEL154-162_TAA-KTWGQYWQV,CASSPGGFEAFF_HomoSapiens:PIK3CA_p-P449T,CASSPGGGNTEAFF_S-pneumoniae:NA_ECTGLAWEWWRTV,CASSPGGNEQFF_HomoSapiens:MAA_NA,CASSPGLAGNEQFF_HomoSapiens:MAA_NA,CASSPGLLTDTQYF_HomoSapiens:MAA_NA,CASSPGLLTDTQYF_HomoSapiens:MLANA27-35_TAA-AAGIGILTV,CASSPGQLNTEAFF_HomoSapiens:MAA_NA,CASSPGQPQHF_HomoSapiens:DCAKD198-207p.S199F_NeoAg-RFLEYLPLRF,CASSPGQRNTEAFF_HomoSapiens:MAA_NA,CASSPGSETQYF_S-pneumoniae:NA_ECTGLAWEWWRTV,CASSPGTENSPLHF_HomoSapiens:KRAS_p-G13D,CASSPGTLTDTQYF_HomoSapiens:MLANA27-35_TAA-AAGIGILTV,CASSPHRNTEAFF_CMV:pp65_RPHERNGFTV,CASSPILQETQYF_HPV:E2-orE5-orE6-orE7_NA,CASSPLQGYEQYF_HPV:E2-orE5-orE6-orE7_NA,CASSPPSSGNTIYF_MCPyV:T-Ag_KLLEIAPNC,CASSPQGLGTEAFF_HomoSapiens:MAA_NA,CASSPQGVNYGYTF_S-pneumoniae:NA_ECTGLAWEWWRTV,CASSPRGDTEAFF_MCPyV:T-Ag_KLLEIAPNC,CASSPRTGNTEAFF_CMV:NA_NA,CASSPRVPNTEAFF_HomoSapiens:HIATL1_p-G380V,CASSPSGGTDTQYF_HomoSapiens:CNOT2_FNGTDGSENVTGFDLSDFPALADRN,CASSPSGLSYEQYF_HomoSapiens:MAA_NA,CASSPSRNTEAFF_CMV:pp65_RPHERNGFTV,CASSPTGVGEQFF_Influenza:M_GILGFVFTL,CASSPWDEQFF_MCPyV:T-Ag_KLLEIAPNC,CASSQDGMNTEAFF_HomoSapiens:TMEM161A_TMEM161A,CASSQDRDTQYF_CMV:UL40_VMAPRTLIL,CASSQETGSYEQFF_EBV:EBNA3A_RPPIFIRRL,CASSQETGSYEQYF_EBV:EBNA3A_RPPIFIRRL,CASSQGGGEQYF_S-pneumoniae:NA_WEWWR,CASSQGNTGELFF_HomoSapiens:KRAS_p-G13D,CASSQGQDTEAFF_HomoSapiens:GLIA-OMEGA1_QPFPQPEQPFP,CASSQGRPSTS_HomoSapiens:MAA_NA,CASSQGSYEQYF_HCV:NS3_KLVALGINAV,CASSQLGYEQYF_HPV:E2-orE5-orE6-orE7_NA,CASSQNTGELFF_HomoSapiens:TYR207-215_TAA-FLPWHRLFL,CASSQQETQYF_CEF:NA_NA,CASSQSSGANVLTF_EBV:EBV_NA,CASSQVGETQYF_MCPyV:T-Ag_KLLEIAPNC,CASSQVGGGEQFF_HomoSapiens:MAA_NA,CASSRADYGYTF_HomoSapiens:SDAD1_MAQMRKELDAAPWKSQKRKYIEIDS,CASSRDGMNTEAFF_HomoSapiens:TMEM161A_TMEM161A,CASSRGDTEAFF_HCV:NS3_KLVALGINAV,CASSRGLNNQPQHF_S-pneumoniae:NA_ECTGLAWEWWRTV,CASSRQGENQPQHF_HomoSapiens:MAGEC2254-262_TAA-NAVGVYAGR,CASSRQGLGTEAFF_HomoSapiens:MAA_NA,CASSRQTNTEAFF_CMV:NA_NA,CASSRTGSTYEQYF_EBV:BZLF1_LPEPLPQGQLTAY,CASSSADGNYGYTF_HPV:E2-orE5-orE6-orE7_NA,CASSSAFYGYTF_CMV:pp65_NLVPMVATV,CASSSANYGYTF_CMV:pp65_NLVPMVATV,CASSSAYYGYTF_CMV:pp65_NLVPMVATV,CASSSDGMNTEAFF_HomoSapiens:TMEM161A_TMEM161A,CASSSGATEAFF_HCV:NS3_KLVALGINAV,CASSSGDGNYGYTF_HPV:E2-orE5-orE6-orE7_NA,CASSSGETQYF_S-pneumoniae:NA_ECTGLAWEWWRTV,CASSSGIYGYTF_CMV:pp65_NLVPMVATV,CASSSGPSYEQYF_HomoSapiens:FLNA_RSSRTLSR,CASSSGQAYEQYF_EBV:EBNA3A_FLRGRAYGL,CASSSLNTEAFF_EBV:BZLF1_RAKFKQLL,CASSSQGGYGYTF_HomoSapiens:MAGE-A6_KVDPIGHVY,CASSSRAAYEQYF_Influenza:M_GILGFVFTL,CASSSRASYEQYF_Influenza:M_GILGFVFTL,CASSSRNSYEQYF_Influenza:NA_NA,CASSSRSSYEQYF_Influenza:M-HA_GILGFVFTL_PKYVKQNTLKLAT,CASSSVNEQFF_CMV:pp65_NLVPMVATV,CASSSVSEAFF_CMV:pp65_NLVPMVATV,CASSTDLNTEAFF_CMV:NA_NA,CASSTGDSNQPQHF_EBV:BZLF1_EPLPQGQLTAY,CASSTGFYGYTF_Influenza:M_GILGFVFTL,CASSTGNEKLFF_CMV:NA_NA,CASSTGNYGYTF_Influenza:M_GILGFVFTL,CASSTGSYGYTF_CMV:pp65_NLVPMVATV,CASSTLFQETQYF_HPV:E2-orE5-orE6-orE7_NA,CASSTRSTGELFF_CMV:pp65_NLVPMVATV,CASSTSTDTQYF_S-pneumoniae:NA_ECTGLAWEWWRTV,CASSVASGTDTQYF_EBV:EBNA3A_FLRGRAYGL,CASSVDGMNTEAFF_HomoSapiens:TMEM161A_TMEM161A,CASSVGQGKAFF_Influenza:HA_PKYVKQNTLKLAT,CASSVGWGGEQFF_EBV:NA_NA,CASSVLFQETQYF_HPV:E2-orE5-orE6-orE7_NA,CASSVLNTGELFF_MCPyV:T-Ag_KLLEIAPNC,CASSVNNEQFF_HPV:E2-orE5-orE6-orE7_NA,CASSVRSTGELFF_Influenza:M_GILGFVFTL,CASSWGGGEQYF_HCV:NS3_KLVALGINAV,CASSWGGNTEAFF_HomoSapiens:ZNF219_CLASLHPR,CASSWGSGANVLTF_HomoSapiens:KPNA2_YLRNLTWTL,CASSYGLAGGEQFF_HomoSapiens:MAA_NA,CASSYGSYEQYF_HCV:NS3_KLVALGINAV,CASSYNNEQFF_HomoSapiens:FLNA_RTWRRTRRGRR,CASSYPGTSQFF_HomoSapiens:MAA_NA,CASSYQGTEAFF_HomoSapiens:TERT_ILAKFLHWL,CASSYRGSGNTIYF_HCV:NS3_KLVALGINAV,CASSYSDGNTEAFF_HPV:E2-orE5-orE6-orE7_NA,CASSYSLNTEAFF_CMV:NA_NA,CASSYSVLNTEAFF_HomoSapiens:MAA_NA,CASSYTGELFF_HCV:NS3_KLVALGINAV,CASTDSNTGELFF_MCPyV:T-Ag_KLLEIAPNC,CASTEGNTEAFF_HomoSapiens:PMEL154-162_TAA-KTWGQYWQV,CASTLQETQYF_EBV:NA_NA,CASTNSGNTIYF_HCV:NS3_KLVALGINAV,CASTPTENTEAFF_CMV:NA_NA,CASTQGSTDTQYF_HCV:NS3_KLVALGINAV,CATGTGDSNQPQHF_EBV:BZLF1_EPLPQGQLTAY,CATRDINTGELFF_MCPyV:T-Ag_KLLEIAPNC,CATRRANEQFF_HomoSapiens:PMEL589-603_TAA-LIMPGQEAGLGQVPL,CATSAGRNEQFF_HomoSapiens:MAA_NA,CATSALGDTQYF_HomoSapiens:MBP_NPVVHFFKNIVTPR,CATSEGNEQFF_CMV:pp65_NLVPMVATV,CATSGTGHSYEQYF_HomoSapiens:PPP2R1A_p-L432S,CATTGGQNTEAFF_HomoSapiens:TP53_NSSCMGGMNLR,CAWAESSYNEQFF_HomoSapiens:TARS_p-E331K,CAWSEQVNTEAFF_HomoSapiens:UBE2I51-60p.P52L_NeoAg-TLWEGGLFKL,CAWSPDGMNTEAFF_HomoSapiens:TMEM161A_TMEM161A,CAWSPVNTEAFF_HomoSapiens:FAM50B72-80p.E78K_NeoAg-DMKARQKAL,CPSSSGDGNYGYTF_HPV:E2-orE5-orE6-orE7_NA,CSADLNTEAFF_HomoSapiens:C2orf16_TLIDVPKV,CSAEQGANTGELFF_HomoSapiens:PMEL154-162_TAA-KTWGQYWQV,CSARGADTQYF_CMV:pp65_NLVPMVATV,CSARTGYNEQFF_MCPyV:T-Ag_KLLEIAPNC,CSASEGAYGYTF_S-pneumoniae:NA_ECTGLAWEWWRTV,CSASMRDEQYF_S-pneumoniae:NA_ECTGLAWEWWRTV,CSATGGTGNTIYF_EBV:NA_NA,CSVEGDTGELFF_CMV:pp65_NLVPMVATV,CSVEGTENTGELFF_EBV:NA_NA,CSVGGAYEQYF_EBV:EBNA3A_RPPIFIRRL,CSVPLTGNTEAFF_EBV:NA_NA,CSVVDRGYGYTF_EBV:NA_NA,CTSSPILQETQYF_HPV:E2-orE5-orE6-orE7_NA,YASSLTGGTEAFF_HomoSapiens:MAA_NA | CHP_373_X01-PBMC | CHP_373 | X01 | CAFSGDSSYNEQFF_Leukemia  | CAFSGDSSYNEQFF | Leukemia    |   6 | 4.6e-04 |\n",
       "| 1 | 17492 | CAGRGTGELFF_Leukemia:CHP_373_X01-PBMC     | 8263 | 115 | cfDNA,PBMC,Tumor | X00,X01,X02,X03,X04,X05 | 6 | CEF,CMV,EBV,HCV,HomoSapiens,HPV,Influenza,Leukemia,LFS,Lymphoma,M.tuberculosis,MCPyV,MDavis,Normal,S-pneumoniae,Solidtumors,T-cellmalignancies | CACSVLNTGELFF_MCPyV:T-Ag_KLLEIAPNC,CAGSQDGMNTEAFF_HomoSapiens:TMEM161A_TMEM161A,CAIRDSNTGELFF_MCPyV:T-Ag_KLLEIAPNC,CAIRGQNTGELFF_MCPyV:T-Ag_KLLEIAPNC,CAISEDGMNTEAFF_HomoSapiens:TMEM161A_TMEM161A,CAISGEGNTEAFF_CMV:NA_NA,CAISSGGADTQYF_S-pneumoniae:NA_ECTGLAWEWWRTV,CAISTGDSNQPQHF_EBV:BZLF1_EPLPQGQLTAY,CANSQPGGIEQFF_EBV:BZLF1_EPLPQGQLTAY,CARSVLNTGELFF_MCPyV:T-Ag_KLLEIAPNC,CASDSNTEAFF_HCV:NS3_KLVALGINAV,CASGQGQETQYF_HCV:NS3_KLVALGINAV,CASGTGDSNQPQHF_EBV:BZLF1_EPLPQGQLTAY,CASIRGYEQYF_HomoSapiens:MAA_NA,CASQGGTEAFF_HomoSapiens:MAA_NA,CASRDGDEQYF_S-pneumoniae:NA_ECTGLAWEWWRTV,CASRDQNTGELFF_MCPyV:T-Ag_KLLEIAPNC,CASRDSSSYEQYF_HomoSapiens:PLECp.P3283S_NeoAg-GGIVDSSKSHRVPLD,CASRGGFNEKLFF_CMV:NA_NA,CASRGGSSYNEQFF_MCPyV:T-Ag_KLLEIAPNC,CASRGQNTGELFF_MCPyV:T-Ag_KLLEIAPNC,CASRIGNTGELFF_HomoSapiens:KRAS_p-G13D,CASRQGGQPQHF_HomoSapiens:MAA_NA,CASRQGNTGELFF_HomoSapiens:KRAS_p-G13D,CASRRGPYEQYF_HCV:NS3_KLVALGINAV-orKLVALVINAV,CASRRSNQPQHF_HomoSapiens:CMKLR1_FLEDLSPL,CASSAGAEQYF_HomoSapiens:PIK3CA_p-P449T,CASSASNYGYTF_HomoSapiens:DDX18_VKYHYELLNYIDMPVLAIHGKQKQN,CASSDALQETQYF_CMV:pp65_NLVPMVATV,CASSDDRGPYEQYF_HCV:NS3_KLVALGINAV,CASSDGGEQYF_S-pneumoniae:NA_GLAWEWWRTV,CASSDGGVKYF_S-pneumoniae:NA_ECTGLAWEWWRTV,CASSDGVGTEAFF_HomoSapiens:RPS9p.P68S_NeoAg-AARELLTLDEKDSRRLFE,CASSDPGTEAFF_HomoSapiens:KRAS_GADGVGKSAL,CASSDSYGYTF_HCV:NS3_KLVALGINAV,CASSDYYEQYF_S-pneumoniae:NA_ECTGLAWEWWRTV,CASSEDGMNTEAFF_HomoSapiens:TMEM161A_TMEM161A,CASSEGDTEAFF_HCV:NS3_KLVALGINAV,CASSEGQGNSPLHF_MCPyV:T-Ag_KLLEIAPNC,CASSEGQSYEQYF_MCPyV:T-Ag_KLLEIAPNC,CASSESGRNTEAFX_S-pneumoniae:NA_ECTGLAWEWWRTV,CASSFDRGYGYTF_HomoSapiens:MAGE-A6_NA,CASSFGADTQYF_HCV:NS3_KLVALGINAV,CASSFGGAYEQYF_HomoSapiens:MED13_VQIISCQY,CASSFGGEQFF_HomoSapiens:DOPEY2_FRFSMIWHL,CASSFGSEQYF_MCPyV:T-Ag_KLLEIAPNC,CASSFGSYEQYF_HomoSapiens:NUP214_SVYWSPKGK,CASSFIGGTDTQYF_HomoSapiens:gp100_YLEPGPVTA,CASSFLGTGELFF_HomoSapiens:TARS_p-E331K,CASSFQGFTEAFF_CMV:pp65_NLVPMVATV,CASSFQGYTEAFF_CMV:pp65_NLVPMVATV,CASSFTLNTEAFF_CMV:NA_NA,CASSFWGNTEAFF_HomoSapiens:FAM135A_AGASSIWYR,CASSGDGMNTEAFF_HomoSapiens:TMEM161A_TMEM161A,CASSGENTEAFF_CMV:NA_NA,CASSGQNTGELFF_MCPyV:T-Ag_KLLEIAPNC,CASSGTHNEQFF_EBV:EBNA3A_RPPIFIRRL,CASSGYTGELFF_HCV:NS3_KLVALGINAV,CASSHAGRNTEAFF_HomoSapiens:MAA_NA,CASSHQTGELFF_CMV:pp65_NLVPMVATV,CASSHREGETQYF_S-pneumoniae:NA_ECTGLAWEWWRTV,CASSIGGDYGYTF_HomoSapiens:MLANA27-35_TAA-AAGIGILTV,CASSIGQYEQYF_HCV:NS3_KLVALGINAV,CASSIGVGTEQYF_HomoSapiens:MAA_NA,CASSIGVYGYTF_Influenza:M_GILGFVFTL,CASSIRASYEQYF_Influenza:M_GILGFVFTL,CASSIRSAHEQFF_Influenza:M_GILGFVFTL,CASSIRSSYEQYF_Influenza:M_GILGFVFTL,CASSIRSTDTQYF_Influenza:M_GILGFVFTL,CASSIRSTGELFF_Influenza:M_GILGFVFTL,CASSITLNTEAFF_CMV:NA_NA,CASSLAADTQYF_EBV:NA_NA,CASSLAGDRYF_MCPyV:T-Ag_KLLEIAPNC,CASSLAGDYEQYF_CMV:pp65_NLVPMVATV,CASSLAGFRFF_MCPyV:T-Ag_KLLEIAPNC,CASSLAGFTGELFF_CMV:pp65_NLVPMVATV,CASSLAGPETQYF_HomoSapiens:TP53_p-T172I,CASSLAQGTDTQYF_HomoSapiens:LAMC1p.S1509F_NeoAg-KAKNFVTSLLSIIND,CASSLATGGEQFF_EBV:NA_NA,CASSLDENTEAFF_CMV:NA_NA,CASSLDGMNTEAFF_HomoSapiens:TMEM161A_TMEM161A,CASSLDLYGYTF_CMV:pp65_NLVPMVATV,CASSLDNEKLFF_S-pneumoniae:NA_ECTGLAWEWWRTV,CASSLDPYEQYF_HomoSapiens:CARM1_FAAQAGAWKIY,CASSLDSSNQPQHF_CMV:NA_NA,CASSLEGANYGYTF_HPV:E2-orE5-orE6-orE7_NA,CASSLEGDTEAFF_MCPyV:T-Ag_KLLEIAPNC,CASSLEGSYEQYF_EBV:BZLF1_KLVALGINAV,CASSLEGSYEQYF_HCV:NS3_KLVALGINAV,CASSLETVNTEAFF_CMV:pp65_NLVPMVATV,CASSLETVYGYTF_S-pneumoniae:NA_ECTGLAWEWWRTV,CASSLFGGTEAFF_HomoSapiens:MAA_NA,CASSLGANTGELFF_HomoSapiens:SCML2_LPDHFGLGPV,CASSLGDGNYGYTF_HPV:E2-orE5-orE6-orE7_NA,CASSLGEKLFF_HCV:NS3_KLVALGINAV,CASSLGGAEQFF_HomoSapiens:MAA_NA,CASSLGGDIQYF_HCV:NS3_KLVALGINAV,CASSLGGGPDTQYF_HomoSapiens:PMEL154-162_TAA-KTWGQYWQV,CASSLGGGTDTQYF_HomoSapiens:PMEL154-162_TAA-KTWGQYWQV,CASSLGGNTGELFF_MCPyV:T-Ag_KLLEIAPNC,CASSLGGQPQHF_HomoSapiens:MAA_NA,CASSLGGRTEAFF_HomoSapiens:BPNT1_EAGPDAVLRR,CASSLGGSSYEQYF_HomoSapiens:MLANA27-35_TAA-AAGIGILTV,CASSLGLENEQFF_EBV:BMLF1_GLCTLVAML,CASSLGLLNTEAFF_HomoSapiens:MLANA27-35_TAA-AAGIGILTV,CASSLGLSTDTQYF_HomoSapiens:NCEH1111-119p.G115R_NeoAg-YIHGRGWAL,CASSLGNTEAFF_MCPyV:T-Ag_KLLEIAPNC,CASSLGQAYEQYF_EBV:EBNA3A_FLRGRAYGL,CASSLGQAYEQYF_HomoSapiens:MLANA_EEYLKAWTF,CASSLGQGNSPLHF_CMV:pp65_NLVPMVATV,CASSLGQGNYGYTF_HomoSapiens:MLANA27-35_TAA-AAGIGILTV,CASSLGQLNTEAFF_HomoSapiens:MAA_NA,CASSLGQTNYGYTF_HomoSapiens:KRAS_GADGVGKSAL,CASSLGRGQFF_HCV:NS3_KLVALGINAV,CASSLGTGELFF_CMV:pp65_NLVPMVATV,CASSLIGRDEQFF_EBV:BZLF1_EPLPQGQLTAY,CASSLLDGNTEAFF_HPV:E2-orE5-orE6-orE7_NA,CASSLLGETQYF_EBV:NA_NA,CASSLLLDTQYF_EBV:NA_NA,CASSLLQETQYF_EBV:NA_NA,CASSLLSSNQPQHF_EBV:NA_NA,CASSLMQETQYF_EBV:NA_NA,CASSLQGYEQYF_HPV:E2-orE5-orE6-orE7_NA,CASSLREGETQYF_S-pneumoniae:NA_ECTGLAWEWWRTV,CASSLRGSYEQYV_HomoSapiens:DNMT3A_p-P282S,CASSLRNTGELFF_S-pneumoniae:NA_ECTGLAWEWWRTV,CASSLRRGEQYF_HomoSapiens:MYH6191-198_VIQYFASI,CASSLSDGNYGYTF_HPV:E2-orE5-orE6-orE7_NA,CASSLSFGTEAFF_HomoSapiens:MLANA_ELAGIGILTV_AAGIGILTV,CASSLSGQPQHF_MCPyV:T-Ag_KLLEIAPNC,CASSLSQGTEAFF_HomoSapiens:MAA_NA,CASSLTGGSEAFF_HomoSapiens:LMBRD1_FIFTSIAGIR,CASSLVDGNYGYTF_HPV:E2-orE5-orE6-orE7_NA,CASSLVGTGELFF_CMV:pp65_NLVPMVATV,CASSLWLNEQFF_CMV:pp65_NLVPMVATV,CASSLYQETQYF_EBV:NA_NA,CASSLYTGELFF_HomoSapiens:ZHX2_HPNVILNSLY,CASSMGANEQFF_HCV:NS3_KLVALGINAV,CASSMGGEQYF_HCV:NS3_KLVALGINAV,CASSMGGTYEQYF_HomoSapiens:PMEL_ITDQVPFSV_ILDQVPFSV,CASSMLFQETQYF_HPV:E2-orE5-orE6-orE7_NA,CASSMRSTGELFF_Influenza:M_GILGFVFTL,CASSNGRGTEQFF_S-pneumoniae:NA_ECTGLAWEWWRTV,CASSPARNTEAFF_CMV:pp65_RPHERNGFTV,CASSPDGMNTEAFF_HomoSapiens:TMEM161A_TMEM161A,CASSPEETQYF_M.tuberculosis:CFP10_TAAQAAVVRFQEAAN,CASSPGGATEAFF_HomoSapiens:MAA_NA,CASSPGGELFF_HCV:NS3_KLVALGINAV,CASSPGGETQYF_HomoSapiens:PMEL154-162_TAA-KTWGQYWQV,CASSPGGFEAFF_HomoSapiens:PIK3CA_p-P449T,CASSPGGGNTEAFF_S-pneumoniae:NA_ECTGLAWEWWRTV,CASSPGGNEQFF_HomoSapiens:MAA_NA,CASSPGLAGNEQFF_HomoSapiens:MAA_NA,CASSPGLLTDTQYF_HomoSapiens:MAA_NA,CASSPGLLTDTQYF_HomoSapiens:MLANA27-35_TAA-AAGIGILTV,CASSPGQLNTEAFF_HomoSapiens:MAA_NA,CASSPGQPQHF_HomoSapiens:DCAKD198-207p.S199F_NeoAg-RFLEYLPLRF,CASSPGQRNTEAFF_HomoSapiens:MAA_NA,CASSPGSETQYF_S-pneumoniae:NA_ECTGLAWEWWRTV,CASSPGTENSPLHF_HomoSapiens:KRAS_p-G13D,CASSPGTLTDTQYF_HomoSapiens:MLANA27-35_TAA-AAGIGILTV,CASSPHRNTEAFF_CMV:pp65_RPHERNGFTV,CASSPILQETQYF_HPV:E2-orE5-orE6-orE7_NA,CASSPLQGYEQYF_HPV:E2-orE5-orE6-orE7_NA,CASSPPSSGNTIYF_MCPyV:T-Ag_KLLEIAPNC,CASSPQGLGTEAFF_HomoSapiens:MAA_NA,CASSPQGVNYGYTF_S-pneumoniae:NA_ECTGLAWEWWRTV,CASSPRGDTEAFF_MCPyV:T-Ag_KLLEIAPNC,CASSPRTGNTEAFF_CMV:NA_NA,CASSPRVPNTEAFF_HomoSapiens:HIATL1_p-G380V,CASSPSGGTDTQYF_HomoSapiens:CNOT2_FNGTDGSENVTGFDLSDFPALADRN,CASSPSGLSYEQYF_HomoSapiens:MAA_NA,CASSPSRNTEAFF_CMV:pp65_RPHERNGFTV,CASSPTGVGEQFF_Influenza:M_GILGFVFTL,CASSPWDEQFF_MCPyV:T-Ag_KLLEIAPNC,CASSQDGMNTEAFF_HomoSapiens:TMEM161A_TMEM161A,CASSQDRDTQYF_CMV:UL40_VMAPRTLIL,CASSQETGSYEQFF_EBV:EBNA3A_RPPIFIRRL,CASSQETGSYEQYF_EBV:EBNA3A_RPPIFIRRL,CASSQGGGEQYF_S-pneumoniae:NA_WEWWR,CASSQGNTGELFF_HomoSapiens:KRAS_p-G13D,CASSQGQDTEAFF_HomoSapiens:GLIA-OMEGA1_QPFPQPEQPFP,CASSQGRPSTS_HomoSapiens:MAA_NA,CASSQGSYEQYF_HCV:NS3_KLVALGINAV,CASSQLGYEQYF_HPV:E2-orE5-orE6-orE7_NA,CASSQNTGELFF_HomoSapiens:TYR207-215_TAA-FLPWHRLFL,CASSQQETQYF_CEF:NA_NA,CASSQSSGANVLTF_EBV:EBV_NA,CASSQVGETQYF_MCPyV:T-Ag_KLLEIAPNC,CASSQVGGGEQFF_HomoSapiens:MAA_NA,CASSRADYGYTF_HomoSapiens:SDAD1_MAQMRKELDAAPWKSQKRKYIEIDS,CASSRDGMNTEAFF_HomoSapiens:TMEM161A_TMEM161A,CASSRGDTEAFF_HCV:NS3_KLVALGINAV,CASSRGLNNQPQHF_S-pneumoniae:NA_ECTGLAWEWWRTV,CASSRQGENQPQHF_HomoSapiens:MAGEC2254-262_TAA-NAVGVYAGR,CASSRQGLGTEAFF_HomoSapiens:MAA_NA,CASSRQTNTEAFF_CMV:NA_NA,CASSRTGSTYEQYF_EBV:BZLF1_LPEPLPQGQLTAY,CASSSADGNYGYTF_HPV:E2-orE5-orE6-orE7_NA,CASSSAFYGYTF_CMV:pp65_NLVPMVATV,CASSSANYGYTF_CMV:pp65_NLVPMVATV,CASSSAYYGYTF_CMV:pp65_NLVPMVATV,CASSSDGMNTEAFF_HomoSapiens:TMEM161A_TMEM161A,CASSSGATEAFF_HCV:NS3_KLVALGINAV,CASSSGDGNYGYTF_HPV:E2-orE5-orE6-orE7_NA,CASSSGETQYF_S-pneumoniae:NA_ECTGLAWEWWRTV,CASSSGIYGYTF_CMV:pp65_NLVPMVATV,CASSSGPSYEQYF_HomoSapiens:FLNA_RSSRTLSR,CASSSGQAYEQYF_EBV:EBNA3A_FLRGRAYGL,CASSSLNTEAFF_EBV:BZLF1_RAKFKQLL,CASSSQGGYGYTF_HomoSapiens:MAGE-A6_KVDPIGHVY,CASSSRAAYEQYF_Influenza:M_GILGFVFTL,CASSSRASYEQYF_Influenza:M_GILGFVFTL,CASSSRNSYEQYF_Influenza:NA_NA,CASSSRSSYEQYF_Influenza:M-HA_GILGFVFTL_PKYVKQNTLKLAT,CASSSVNEQFF_CMV:pp65_NLVPMVATV,CASSSVSEAFF_CMV:pp65_NLVPMVATV,CASSTDLNTEAFF_CMV:NA_NA,CASSTGDSNQPQHF_EBV:BZLF1_EPLPQGQLTAY,CASSTGFYGYTF_Influenza:M_GILGFVFTL,CASSTGNEKLFF_CMV:NA_NA,CASSTGNYGYTF_Influenza:M_GILGFVFTL,CASSTGSYGYTF_CMV:pp65_NLVPMVATV,CASSTLFQETQYF_HPV:E2-orE5-orE6-orE7_NA,CASSTRSTGELFF_CMV:pp65_NLVPMVATV,CASSTSTDTQYF_S-pneumoniae:NA_ECTGLAWEWWRTV,CASSVASGTDTQYF_EBV:EBNA3A_FLRGRAYGL,CASSVDGMNTEAFF_HomoSapiens:TMEM161A_TMEM161A,CASSVGQGKAFF_Influenza:HA_PKYVKQNTLKLAT,CASSVGWGGEQFF_EBV:NA_NA,CASSVLFQETQYF_HPV:E2-orE5-orE6-orE7_NA,CASSVLNTGELFF_MCPyV:T-Ag_KLLEIAPNC,CASSVNNEQFF_HPV:E2-orE5-orE6-orE7_NA,CASSVRSTGELFF_Influenza:M_GILGFVFTL,CASSWGGGEQYF_HCV:NS3_KLVALGINAV,CASSWGGNTEAFF_HomoSapiens:ZNF219_CLASLHPR,CASSWGSGANVLTF_HomoSapiens:KPNA2_YLRNLTWTL,CASSYGLAGGEQFF_HomoSapiens:MAA_NA,CASSYGSYEQYF_HCV:NS3_KLVALGINAV,CASSYNNEQFF_HomoSapiens:FLNA_RTWRRTRRGRR,CASSYPGTSQFF_HomoSapiens:MAA_NA,CASSYQGTEAFF_HomoSapiens:TERT_ILAKFLHWL,CASSYRGSGNTIYF_HCV:NS3_KLVALGINAV,CASSYSDGNTEAFF_HPV:E2-orE5-orE6-orE7_NA,CASSYSLNTEAFF_CMV:NA_NA,CASSYSVLNTEAFF_HomoSapiens:MAA_NA,CASSYTGELFF_HCV:NS3_KLVALGINAV,CASTDSNTGELFF_MCPyV:T-Ag_KLLEIAPNC,CASTEGNTEAFF_HomoSapiens:PMEL154-162_TAA-KTWGQYWQV,CASTLQETQYF_EBV:NA_NA,CASTNSGNTIYF_HCV:NS3_KLVALGINAV,CASTPTENTEAFF_CMV:NA_NA,CASTQGSTDTQYF_HCV:NS3_KLVALGINAV,CATGTGDSNQPQHF_EBV:BZLF1_EPLPQGQLTAY,CATRDINTGELFF_MCPyV:T-Ag_KLLEIAPNC,CATRRANEQFF_HomoSapiens:PMEL589-603_TAA-LIMPGQEAGLGQVPL,CATSAGRNEQFF_HomoSapiens:MAA_NA,CATSALGDTQYF_HomoSapiens:MBP_NPVVHFFKNIVTPR,CATSEGNEQFF_CMV:pp65_NLVPMVATV,CATSGTGHSYEQYF_HomoSapiens:PPP2R1A_p-L432S,CATTGGQNTEAFF_HomoSapiens:TP53_NSSCMGGMNLR,CAWAESSYNEQFF_HomoSapiens:TARS_p-E331K,CAWSEQVNTEAFF_HomoSapiens:UBE2I51-60p.P52L_NeoAg-TLWEGGLFKL,CAWSPDGMNTEAFF_HomoSapiens:TMEM161A_TMEM161A,CAWSPVNTEAFF_HomoSapiens:FAM50B72-80p.E78K_NeoAg-DMKARQKAL,CPSSSGDGNYGYTF_HPV:E2-orE5-orE6-orE7_NA,CSADLNTEAFF_HomoSapiens:C2orf16_TLIDVPKV,CSAEQGANTGELFF_HomoSapiens:PMEL154-162_TAA-KTWGQYWQV,CSARGADTQYF_CMV:pp65_NLVPMVATV,CSARTGYNEQFF_MCPyV:T-Ag_KLLEIAPNC,CSASEGAYGYTF_S-pneumoniae:NA_ECTGLAWEWWRTV,CSASMRDEQYF_S-pneumoniae:NA_ECTGLAWEWWRTV,CSATGGTGNTIYF_EBV:NA_NA,CSVEGDTGELFF_CMV:pp65_NLVPMVATV,CSVEGTENTGELFF_EBV:NA_NA,CSVGGAYEQYF_EBV:EBNA3A_RPPIFIRRL,CSVPLTGNTEAFF_EBV:NA_NA,CSVVDRGYGYTF_EBV:NA_NA,CTSSPILQETQYF_HPV:E2-orE5-orE6-orE7_NA,YASSLTGGTEAFF_HomoSapiens:MAA_NA | CHP_373_X01-PBMC | CHP_373 | X01 | CAGRGTGELFF_Leukemia     | CAGRGTGELFF    | Leukemia    |   7 | 6.2e-06 |\n",
       "| 1 | 17492 | CAGSLGINEQFF_Leukemia:CHP_353_X01-PBMC    | 8263 | 115 | cfDNA,PBMC,Tumor | X00,X01,X02,X03,X04,X05 | 6 | CEF,CMV,EBV,HCV,HomoSapiens,HPV,Influenza,Leukemia,LFS,Lymphoma,M.tuberculosis,MCPyV,MDavis,Normal,S-pneumoniae,Solidtumors,T-cellmalignancies | CACSVLNTGELFF_MCPyV:T-Ag_KLLEIAPNC,CAGSQDGMNTEAFF_HomoSapiens:TMEM161A_TMEM161A,CAIRDSNTGELFF_MCPyV:T-Ag_KLLEIAPNC,CAIRGQNTGELFF_MCPyV:T-Ag_KLLEIAPNC,CAISEDGMNTEAFF_HomoSapiens:TMEM161A_TMEM161A,CAISGEGNTEAFF_CMV:NA_NA,CAISSGGADTQYF_S-pneumoniae:NA_ECTGLAWEWWRTV,CAISTGDSNQPQHF_EBV:BZLF1_EPLPQGQLTAY,CANSQPGGIEQFF_EBV:BZLF1_EPLPQGQLTAY,CARSVLNTGELFF_MCPyV:T-Ag_KLLEIAPNC,CASDSNTEAFF_HCV:NS3_KLVALGINAV,CASGQGQETQYF_HCV:NS3_KLVALGINAV,CASGTGDSNQPQHF_EBV:BZLF1_EPLPQGQLTAY,CASIRGYEQYF_HomoSapiens:MAA_NA,CASQGGTEAFF_HomoSapiens:MAA_NA,CASRDGDEQYF_S-pneumoniae:NA_ECTGLAWEWWRTV,CASRDQNTGELFF_MCPyV:T-Ag_KLLEIAPNC,CASRDSSSYEQYF_HomoSapiens:PLECp.P3283S_NeoAg-GGIVDSSKSHRVPLD,CASRGGFNEKLFF_CMV:NA_NA,CASRGGSSYNEQFF_MCPyV:T-Ag_KLLEIAPNC,CASRGQNTGELFF_MCPyV:T-Ag_KLLEIAPNC,CASRIGNTGELFF_HomoSapiens:KRAS_p-G13D,CASRQGGQPQHF_HomoSapiens:MAA_NA,CASRQGNTGELFF_HomoSapiens:KRAS_p-G13D,CASRRGPYEQYF_HCV:NS3_KLVALGINAV-orKLVALVINAV,CASRRSNQPQHF_HomoSapiens:CMKLR1_FLEDLSPL,CASSAGAEQYF_HomoSapiens:PIK3CA_p-P449T,CASSASNYGYTF_HomoSapiens:DDX18_VKYHYELLNYIDMPVLAIHGKQKQN,CASSDALQETQYF_CMV:pp65_NLVPMVATV,CASSDDRGPYEQYF_HCV:NS3_KLVALGINAV,CASSDGGEQYF_S-pneumoniae:NA_GLAWEWWRTV,CASSDGGVKYF_S-pneumoniae:NA_ECTGLAWEWWRTV,CASSDGVGTEAFF_HomoSapiens:RPS9p.P68S_NeoAg-AARELLTLDEKDSRRLFE,CASSDPGTEAFF_HomoSapiens:KRAS_GADGVGKSAL,CASSDSYGYTF_HCV:NS3_KLVALGINAV,CASSDYYEQYF_S-pneumoniae:NA_ECTGLAWEWWRTV,CASSEDGMNTEAFF_HomoSapiens:TMEM161A_TMEM161A,CASSEGDTEAFF_HCV:NS3_KLVALGINAV,CASSEGQGNSPLHF_MCPyV:T-Ag_KLLEIAPNC,CASSEGQSYEQYF_MCPyV:T-Ag_KLLEIAPNC,CASSESGRNTEAFX_S-pneumoniae:NA_ECTGLAWEWWRTV,CASSFDRGYGYTF_HomoSapiens:MAGE-A6_NA,CASSFGADTQYF_HCV:NS3_KLVALGINAV,CASSFGGAYEQYF_HomoSapiens:MED13_VQIISCQY,CASSFGGEQFF_HomoSapiens:DOPEY2_FRFSMIWHL,CASSFGSEQYF_MCPyV:T-Ag_KLLEIAPNC,CASSFGSYEQYF_HomoSapiens:NUP214_SVYWSPKGK,CASSFIGGTDTQYF_HomoSapiens:gp100_YLEPGPVTA,CASSFLGTGELFF_HomoSapiens:TARS_p-E331K,CASSFQGFTEAFF_CMV:pp65_NLVPMVATV,CASSFQGYTEAFF_CMV:pp65_NLVPMVATV,CASSFTLNTEAFF_CMV:NA_NA,CASSFWGNTEAFF_HomoSapiens:FAM135A_AGASSIWYR,CASSGDGMNTEAFF_HomoSapiens:TMEM161A_TMEM161A,CASSGENTEAFF_CMV:NA_NA,CASSGQNTGELFF_MCPyV:T-Ag_KLLEIAPNC,CASSGTHNEQFF_EBV:EBNA3A_RPPIFIRRL,CASSGYTGELFF_HCV:NS3_KLVALGINAV,CASSHAGRNTEAFF_HomoSapiens:MAA_NA,CASSHQTGELFF_CMV:pp65_NLVPMVATV,CASSHREGETQYF_S-pneumoniae:NA_ECTGLAWEWWRTV,CASSIGGDYGYTF_HomoSapiens:MLANA27-35_TAA-AAGIGILTV,CASSIGQYEQYF_HCV:NS3_KLVALGINAV,CASSIGVGTEQYF_HomoSapiens:MAA_NA,CASSIGVYGYTF_Influenza:M_GILGFVFTL,CASSIRASYEQYF_Influenza:M_GILGFVFTL,CASSIRSAHEQFF_Influenza:M_GILGFVFTL,CASSIRSSYEQYF_Influenza:M_GILGFVFTL,CASSIRSTDTQYF_Influenza:M_GILGFVFTL,CASSIRSTGELFF_Influenza:M_GILGFVFTL,CASSITLNTEAFF_CMV:NA_NA,CASSLAADTQYF_EBV:NA_NA,CASSLAGDRYF_MCPyV:T-Ag_KLLEIAPNC,CASSLAGDYEQYF_CMV:pp65_NLVPMVATV,CASSLAGFRFF_MCPyV:T-Ag_KLLEIAPNC,CASSLAGFTGELFF_CMV:pp65_NLVPMVATV,CASSLAGPETQYF_HomoSapiens:TP53_p-T172I,CASSLAQGTDTQYF_HomoSapiens:LAMC1p.S1509F_NeoAg-KAKNFVTSLLSIIND,CASSLATGGEQFF_EBV:NA_NA,CASSLDENTEAFF_CMV:NA_NA,CASSLDGMNTEAFF_HomoSapiens:TMEM161A_TMEM161A,CASSLDLYGYTF_CMV:pp65_NLVPMVATV,CASSLDNEKLFF_S-pneumoniae:NA_ECTGLAWEWWRTV,CASSLDPYEQYF_HomoSapiens:CARM1_FAAQAGAWKIY,CASSLDSSNQPQHF_CMV:NA_NA,CASSLEGANYGYTF_HPV:E2-orE5-orE6-orE7_NA,CASSLEGDTEAFF_MCPyV:T-Ag_KLLEIAPNC,CASSLEGSYEQYF_EBV:BZLF1_KLVALGINAV,CASSLEGSYEQYF_HCV:NS3_KLVALGINAV,CASSLETVNTEAFF_CMV:pp65_NLVPMVATV,CASSLETVYGYTF_S-pneumoniae:NA_ECTGLAWEWWRTV,CASSLFGGTEAFF_HomoSapiens:MAA_NA,CASSLGANTGELFF_HomoSapiens:SCML2_LPDHFGLGPV,CASSLGDGNYGYTF_HPV:E2-orE5-orE6-orE7_NA,CASSLGEKLFF_HCV:NS3_KLVALGINAV,CASSLGGAEQFF_HomoSapiens:MAA_NA,CASSLGGDIQYF_HCV:NS3_KLVALGINAV,CASSLGGGPDTQYF_HomoSapiens:PMEL154-162_TAA-KTWGQYWQV,CASSLGGGTDTQYF_HomoSapiens:PMEL154-162_TAA-KTWGQYWQV,CASSLGGNTGELFF_MCPyV:T-Ag_KLLEIAPNC,CASSLGGQPQHF_HomoSapiens:MAA_NA,CASSLGGRTEAFF_HomoSapiens:BPNT1_EAGPDAVLRR,CASSLGGSSYEQYF_HomoSapiens:MLANA27-35_TAA-AAGIGILTV,CASSLGLENEQFF_EBV:BMLF1_GLCTLVAML,CASSLGLLNTEAFF_HomoSapiens:MLANA27-35_TAA-AAGIGILTV,CASSLGLSTDTQYF_HomoSapiens:NCEH1111-119p.G115R_NeoAg-YIHGRGWAL,CASSLGNTEAFF_MCPyV:T-Ag_KLLEIAPNC,CASSLGQAYEQYF_EBV:EBNA3A_FLRGRAYGL,CASSLGQAYEQYF_HomoSapiens:MLANA_EEYLKAWTF,CASSLGQGNSPLHF_CMV:pp65_NLVPMVATV,CASSLGQGNYGYTF_HomoSapiens:MLANA27-35_TAA-AAGIGILTV,CASSLGQLNTEAFF_HomoSapiens:MAA_NA,CASSLGQTNYGYTF_HomoSapiens:KRAS_GADGVGKSAL,CASSLGRGQFF_HCV:NS3_KLVALGINAV,CASSLGTGELFF_CMV:pp65_NLVPMVATV,CASSLIGRDEQFF_EBV:BZLF1_EPLPQGQLTAY,CASSLLDGNTEAFF_HPV:E2-orE5-orE6-orE7_NA,CASSLLGETQYF_EBV:NA_NA,CASSLLLDTQYF_EBV:NA_NA,CASSLLQETQYF_EBV:NA_NA,CASSLLSSNQPQHF_EBV:NA_NA,CASSLMQETQYF_EBV:NA_NA,CASSLQGYEQYF_HPV:E2-orE5-orE6-orE7_NA,CASSLREGETQYF_S-pneumoniae:NA_ECTGLAWEWWRTV,CASSLRGSYEQYV_HomoSapiens:DNMT3A_p-P282S,CASSLRNTGELFF_S-pneumoniae:NA_ECTGLAWEWWRTV,CASSLRRGEQYF_HomoSapiens:MYH6191-198_VIQYFASI,CASSLSDGNYGYTF_HPV:E2-orE5-orE6-orE7_NA,CASSLSFGTEAFF_HomoSapiens:MLANA_ELAGIGILTV_AAGIGILTV,CASSLSGQPQHF_MCPyV:T-Ag_KLLEIAPNC,CASSLSQGTEAFF_HomoSapiens:MAA_NA,CASSLTGGSEAFF_HomoSapiens:LMBRD1_FIFTSIAGIR,CASSLVDGNYGYTF_HPV:E2-orE5-orE6-orE7_NA,CASSLVGTGELFF_CMV:pp65_NLVPMVATV,CASSLWLNEQFF_CMV:pp65_NLVPMVATV,CASSLYQETQYF_EBV:NA_NA,CASSLYTGELFF_HomoSapiens:ZHX2_HPNVILNSLY,CASSMGANEQFF_HCV:NS3_KLVALGINAV,CASSMGGEQYF_HCV:NS3_KLVALGINAV,CASSMGGTYEQYF_HomoSapiens:PMEL_ITDQVPFSV_ILDQVPFSV,CASSMLFQETQYF_HPV:E2-orE5-orE6-orE7_NA,CASSMRSTGELFF_Influenza:M_GILGFVFTL,CASSNGRGTEQFF_S-pneumoniae:NA_ECTGLAWEWWRTV,CASSPARNTEAFF_CMV:pp65_RPHERNGFTV,CASSPDGMNTEAFF_HomoSapiens:TMEM161A_TMEM161A,CASSPEETQYF_M.tuberculosis:CFP10_TAAQAAVVRFQEAAN,CASSPGGATEAFF_HomoSapiens:MAA_NA,CASSPGGELFF_HCV:NS3_KLVALGINAV,CASSPGGETQYF_HomoSapiens:PMEL154-162_TAA-KTWGQYWQV,CASSPGGFEAFF_HomoSapiens:PIK3CA_p-P449T,CASSPGGGNTEAFF_S-pneumoniae:NA_ECTGLAWEWWRTV,CASSPGGNEQFF_HomoSapiens:MAA_NA,CASSPGLAGNEQFF_HomoSapiens:MAA_NA,CASSPGLLTDTQYF_HomoSapiens:MAA_NA,CASSPGLLTDTQYF_HomoSapiens:MLANA27-35_TAA-AAGIGILTV,CASSPGQLNTEAFF_HomoSapiens:MAA_NA,CASSPGQPQHF_HomoSapiens:DCAKD198-207p.S199F_NeoAg-RFLEYLPLRF,CASSPGQRNTEAFF_HomoSapiens:MAA_NA,CASSPGSETQYF_S-pneumoniae:NA_ECTGLAWEWWRTV,CASSPGTENSPLHF_HomoSapiens:KRAS_p-G13D,CASSPGTLTDTQYF_HomoSapiens:MLANA27-35_TAA-AAGIGILTV,CASSPHRNTEAFF_CMV:pp65_RPHERNGFTV,CASSPILQETQYF_HPV:E2-orE5-orE6-orE7_NA,CASSPLQGYEQYF_HPV:E2-orE5-orE6-orE7_NA,CASSPPSSGNTIYF_MCPyV:T-Ag_KLLEIAPNC,CASSPQGLGTEAFF_HomoSapiens:MAA_NA,CASSPQGVNYGYTF_S-pneumoniae:NA_ECTGLAWEWWRTV,CASSPRGDTEAFF_MCPyV:T-Ag_KLLEIAPNC,CASSPRTGNTEAFF_CMV:NA_NA,CASSPRVPNTEAFF_HomoSapiens:HIATL1_p-G380V,CASSPSGGTDTQYF_HomoSapiens:CNOT2_FNGTDGSENVTGFDLSDFPALADRN,CASSPSGLSYEQYF_HomoSapiens:MAA_NA,CASSPSRNTEAFF_CMV:pp65_RPHERNGFTV,CASSPTGVGEQFF_Influenza:M_GILGFVFTL,CASSPWDEQFF_MCPyV:T-Ag_KLLEIAPNC,CASSQDGMNTEAFF_HomoSapiens:TMEM161A_TMEM161A,CASSQDRDTQYF_CMV:UL40_VMAPRTLIL,CASSQETGSYEQFF_EBV:EBNA3A_RPPIFIRRL,CASSQETGSYEQYF_EBV:EBNA3A_RPPIFIRRL,CASSQGGGEQYF_S-pneumoniae:NA_WEWWR,CASSQGNTGELFF_HomoSapiens:KRAS_p-G13D,CASSQGQDTEAFF_HomoSapiens:GLIA-OMEGA1_QPFPQPEQPFP,CASSQGRPSTS_HomoSapiens:MAA_NA,CASSQGSYEQYF_HCV:NS3_KLVALGINAV,CASSQLGYEQYF_HPV:E2-orE5-orE6-orE7_NA,CASSQNTGELFF_HomoSapiens:TYR207-215_TAA-FLPWHRLFL,CASSQQETQYF_CEF:NA_NA,CASSQSSGANVLTF_EBV:EBV_NA,CASSQVGETQYF_MCPyV:T-Ag_KLLEIAPNC,CASSQVGGGEQFF_HomoSapiens:MAA_NA,CASSRADYGYTF_HomoSapiens:SDAD1_MAQMRKELDAAPWKSQKRKYIEIDS,CASSRDGMNTEAFF_HomoSapiens:TMEM161A_TMEM161A,CASSRGDTEAFF_HCV:NS3_KLVALGINAV,CASSRGLNNQPQHF_S-pneumoniae:NA_ECTGLAWEWWRTV,CASSRQGENQPQHF_HomoSapiens:MAGEC2254-262_TAA-NAVGVYAGR,CASSRQGLGTEAFF_HomoSapiens:MAA_NA,CASSRQTNTEAFF_CMV:NA_NA,CASSRTGSTYEQYF_EBV:BZLF1_LPEPLPQGQLTAY,CASSSADGNYGYTF_HPV:E2-orE5-orE6-orE7_NA,CASSSAFYGYTF_CMV:pp65_NLVPMVATV,CASSSANYGYTF_CMV:pp65_NLVPMVATV,CASSSAYYGYTF_CMV:pp65_NLVPMVATV,CASSSDGMNTEAFF_HomoSapiens:TMEM161A_TMEM161A,CASSSGATEAFF_HCV:NS3_KLVALGINAV,CASSSGDGNYGYTF_HPV:E2-orE5-orE6-orE7_NA,CASSSGETQYF_S-pneumoniae:NA_ECTGLAWEWWRTV,CASSSGIYGYTF_CMV:pp65_NLVPMVATV,CASSSGPSYEQYF_HomoSapiens:FLNA_RSSRTLSR,CASSSGQAYEQYF_EBV:EBNA3A_FLRGRAYGL,CASSSLNTEAFF_EBV:BZLF1_RAKFKQLL,CASSSQGGYGYTF_HomoSapiens:MAGE-A6_KVDPIGHVY,CASSSRAAYEQYF_Influenza:M_GILGFVFTL,CASSSRASYEQYF_Influenza:M_GILGFVFTL,CASSSRNSYEQYF_Influenza:NA_NA,CASSSRSSYEQYF_Influenza:M-HA_GILGFVFTL_PKYVKQNTLKLAT,CASSSVNEQFF_CMV:pp65_NLVPMVATV,CASSSVSEAFF_CMV:pp65_NLVPMVATV,CASSTDLNTEAFF_CMV:NA_NA,CASSTGDSNQPQHF_EBV:BZLF1_EPLPQGQLTAY,CASSTGFYGYTF_Influenza:M_GILGFVFTL,CASSTGNEKLFF_CMV:NA_NA,CASSTGNYGYTF_Influenza:M_GILGFVFTL,CASSTGSYGYTF_CMV:pp65_NLVPMVATV,CASSTLFQETQYF_HPV:E2-orE5-orE6-orE7_NA,CASSTRSTGELFF_CMV:pp65_NLVPMVATV,CASSTSTDTQYF_S-pneumoniae:NA_ECTGLAWEWWRTV,CASSVASGTDTQYF_EBV:EBNA3A_FLRGRAYGL,CASSVDGMNTEAFF_HomoSapiens:TMEM161A_TMEM161A,CASSVGQGKAFF_Influenza:HA_PKYVKQNTLKLAT,CASSVGWGGEQFF_EBV:NA_NA,CASSVLFQETQYF_HPV:E2-orE5-orE6-orE7_NA,CASSVLNTGELFF_MCPyV:T-Ag_KLLEIAPNC,CASSVNNEQFF_HPV:E2-orE5-orE6-orE7_NA,CASSVRSTGELFF_Influenza:M_GILGFVFTL,CASSWGGGEQYF_HCV:NS3_KLVALGINAV,CASSWGGNTEAFF_HomoSapiens:ZNF219_CLASLHPR,CASSWGSGANVLTF_HomoSapiens:KPNA2_YLRNLTWTL,CASSYGLAGGEQFF_HomoSapiens:MAA_NA,CASSYGSYEQYF_HCV:NS3_KLVALGINAV,CASSYNNEQFF_HomoSapiens:FLNA_RTWRRTRRGRR,CASSYPGTSQFF_HomoSapiens:MAA_NA,CASSYQGTEAFF_HomoSapiens:TERT_ILAKFLHWL,CASSYRGSGNTIYF_HCV:NS3_KLVALGINAV,CASSYSDGNTEAFF_HPV:E2-orE5-orE6-orE7_NA,CASSYSLNTEAFF_CMV:NA_NA,CASSYSVLNTEAFF_HomoSapiens:MAA_NA,CASSYTGELFF_HCV:NS3_KLVALGINAV,CASTDSNTGELFF_MCPyV:T-Ag_KLLEIAPNC,CASTEGNTEAFF_HomoSapiens:PMEL154-162_TAA-KTWGQYWQV,CASTLQETQYF_EBV:NA_NA,CASTNSGNTIYF_HCV:NS3_KLVALGINAV,CASTPTENTEAFF_CMV:NA_NA,CASTQGSTDTQYF_HCV:NS3_KLVALGINAV,CATGTGDSNQPQHF_EBV:BZLF1_EPLPQGQLTAY,CATRDINTGELFF_MCPyV:T-Ag_KLLEIAPNC,CATRRANEQFF_HomoSapiens:PMEL589-603_TAA-LIMPGQEAGLGQVPL,CATSAGRNEQFF_HomoSapiens:MAA_NA,CATSALGDTQYF_HomoSapiens:MBP_NPVVHFFKNIVTPR,CATSEGNEQFF_CMV:pp65_NLVPMVATV,CATSGTGHSYEQYF_HomoSapiens:PPP2R1A_p-L432S,CATTGGQNTEAFF_HomoSapiens:TP53_NSSCMGGMNLR,CAWAESSYNEQFF_HomoSapiens:TARS_p-E331K,CAWSEQVNTEAFF_HomoSapiens:UBE2I51-60p.P52L_NeoAg-TLWEGGLFKL,CAWSPDGMNTEAFF_HomoSapiens:TMEM161A_TMEM161A,CAWSPVNTEAFF_HomoSapiens:FAM50B72-80p.E78K_NeoAg-DMKARQKAL,CPSSSGDGNYGYTF_HPV:E2-orE5-orE6-orE7_NA,CSADLNTEAFF_HomoSapiens:C2orf16_TLIDVPKV,CSAEQGANTGELFF_HomoSapiens:PMEL154-162_TAA-KTWGQYWQV,CSARGADTQYF_CMV:pp65_NLVPMVATV,CSARTGYNEQFF_MCPyV:T-Ag_KLLEIAPNC,CSASEGAYGYTF_S-pneumoniae:NA_ECTGLAWEWWRTV,CSASMRDEQYF_S-pneumoniae:NA_ECTGLAWEWWRTV,CSATGGTGNTIYF_EBV:NA_NA,CSVEGDTGELFF_CMV:pp65_NLVPMVATV,CSVEGTENTGELFF_EBV:NA_NA,CSVGGAYEQYF_EBV:EBNA3A_RPPIFIRRL,CSVPLTGNTEAFF_EBV:NA_NA,CSVVDRGYGYTF_EBV:NA_NA,CTSSPILQETQYF_HPV:E2-orE5-orE6-orE7_NA,YASSLTGGTEAFF_HomoSapiens:MAA_NA | CHP_353_X01-PBMC | CHP_353 | X01 | CAGSLGINEQFF_Leukemia    | CAGSLGINEQFF   | Leukemia    |   1 | 1.0e-09 |\n",
       "| 1 | 17492 | CAIGDGNQPQHF_Solidtumors:CHP_363_X01-PBMC | 8263 | 115 | cfDNA,PBMC,Tumor | X00,X01,X02,X03,X04,X05 | 6 | CEF,CMV,EBV,HCV,HomoSapiens,HPV,Influenza,Leukemia,LFS,Lymphoma,M.tuberculosis,MCPyV,MDavis,Normal,S-pneumoniae,Solidtumors,T-cellmalignancies | CACSVLNTGELFF_MCPyV:T-Ag_KLLEIAPNC,CAGSQDGMNTEAFF_HomoSapiens:TMEM161A_TMEM161A,CAIRDSNTGELFF_MCPyV:T-Ag_KLLEIAPNC,CAIRGQNTGELFF_MCPyV:T-Ag_KLLEIAPNC,CAISEDGMNTEAFF_HomoSapiens:TMEM161A_TMEM161A,CAISGEGNTEAFF_CMV:NA_NA,CAISSGGADTQYF_S-pneumoniae:NA_ECTGLAWEWWRTV,CAISTGDSNQPQHF_EBV:BZLF1_EPLPQGQLTAY,CANSQPGGIEQFF_EBV:BZLF1_EPLPQGQLTAY,CARSVLNTGELFF_MCPyV:T-Ag_KLLEIAPNC,CASDSNTEAFF_HCV:NS3_KLVALGINAV,CASGQGQETQYF_HCV:NS3_KLVALGINAV,CASGTGDSNQPQHF_EBV:BZLF1_EPLPQGQLTAY,CASIRGYEQYF_HomoSapiens:MAA_NA,CASQGGTEAFF_HomoSapiens:MAA_NA,CASRDGDEQYF_S-pneumoniae:NA_ECTGLAWEWWRTV,CASRDQNTGELFF_MCPyV:T-Ag_KLLEIAPNC,CASRDSSSYEQYF_HomoSapiens:PLECp.P3283S_NeoAg-GGIVDSSKSHRVPLD,CASRGGFNEKLFF_CMV:NA_NA,CASRGGSSYNEQFF_MCPyV:T-Ag_KLLEIAPNC,CASRGQNTGELFF_MCPyV:T-Ag_KLLEIAPNC,CASRIGNTGELFF_HomoSapiens:KRAS_p-G13D,CASRQGGQPQHF_HomoSapiens:MAA_NA,CASRQGNTGELFF_HomoSapiens:KRAS_p-G13D,CASRRGPYEQYF_HCV:NS3_KLVALGINAV-orKLVALVINAV,CASRRSNQPQHF_HomoSapiens:CMKLR1_FLEDLSPL,CASSAGAEQYF_HomoSapiens:PIK3CA_p-P449T,CASSASNYGYTF_HomoSapiens:DDX18_VKYHYELLNYIDMPVLAIHGKQKQN,CASSDALQETQYF_CMV:pp65_NLVPMVATV,CASSDDRGPYEQYF_HCV:NS3_KLVALGINAV,CASSDGGEQYF_S-pneumoniae:NA_GLAWEWWRTV,CASSDGGVKYF_S-pneumoniae:NA_ECTGLAWEWWRTV,CASSDGVGTEAFF_HomoSapiens:RPS9p.P68S_NeoAg-AARELLTLDEKDSRRLFE,CASSDPGTEAFF_HomoSapiens:KRAS_GADGVGKSAL,CASSDSYGYTF_HCV:NS3_KLVALGINAV,CASSDYYEQYF_S-pneumoniae:NA_ECTGLAWEWWRTV,CASSEDGMNTEAFF_HomoSapiens:TMEM161A_TMEM161A,CASSEGDTEAFF_HCV:NS3_KLVALGINAV,CASSEGQGNSPLHF_MCPyV:T-Ag_KLLEIAPNC,CASSEGQSYEQYF_MCPyV:T-Ag_KLLEIAPNC,CASSESGRNTEAFX_S-pneumoniae:NA_ECTGLAWEWWRTV,CASSFDRGYGYTF_HomoSapiens:MAGE-A6_NA,CASSFGADTQYF_HCV:NS3_KLVALGINAV,CASSFGGAYEQYF_HomoSapiens:MED13_VQIISCQY,CASSFGGEQFF_HomoSapiens:DOPEY2_FRFSMIWHL,CASSFGSEQYF_MCPyV:T-Ag_KLLEIAPNC,CASSFGSYEQYF_HomoSapiens:NUP214_SVYWSPKGK,CASSFIGGTDTQYF_HomoSapiens:gp100_YLEPGPVTA,CASSFLGTGELFF_HomoSapiens:TARS_p-E331K,CASSFQGFTEAFF_CMV:pp65_NLVPMVATV,CASSFQGYTEAFF_CMV:pp65_NLVPMVATV,CASSFTLNTEAFF_CMV:NA_NA,CASSFWGNTEAFF_HomoSapiens:FAM135A_AGASSIWYR,CASSGDGMNTEAFF_HomoSapiens:TMEM161A_TMEM161A,CASSGENTEAFF_CMV:NA_NA,CASSGQNTGELFF_MCPyV:T-Ag_KLLEIAPNC,CASSGTHNEQFF_EBV:EBNA3A_RPPIFIRRL,CASSGYTGELFF_HCV:NS3_KLVALGINAV,CASSHAGRNTEAFF_HomoSapiens:MAA_NA,CASSHQTGELFF_CMV:pp65_NLVPMVATV,CASSHREGETQYF_S-pneumoniae:NA_ECTGLAWEWWRTV,CASSIGGDYGYTF_HomoSapiens:MLANA27-35_TAA-AAGIGILTV,CASSIGQYEQYF_HCV:NS3_KLVALGINAV,CASSIGVGTEQYF_HomoSapiens:MAA_NA,CASSIGVYGYTF_Influenza:M_GILGFVFTL,CASSIRASYEQYF_Influenza:M_GILGFVFTL,CASSIRSAHEQFF_Influenza:M_GILGFVFTL,CASSIRSSYEQYF_Influenza:M_GILGFVFTL,CASSIRSTDTQYF_Influenza:M_GILGFVFTL,CASSIRSTGELFF_Influenza:M_GILGFVFTL,CASSITLNTEAFF_CMV:NA_NA,CASSLAADTQYF_EBV:NA_NA,CASSLAGDRYF_MCPyV:T-Ag_KLLEIAPNC,CASSLAGDYEQYF_CMV:pp65_NLVPMVATV,CASSLAGFRFF_MCPyV:T-Ag_KLLEIAPNC,CASSLAGFTGELFF_CMV:pp65_NLVPMVATV,CASSLAGPETQYF_HomoSapiens:TP53_p-T172I,CASSLAQGTDTQYF_HomoSapiens:LAMC1p.S1509F_NeoAg-KAKNFVTSLLSIIND,CASSLATGGEQFF_EBV:NA_NA,CASSLDENTEAFF_CMV:NA_NA,CASSLDGMNTEAFF_HomoSapiens:TMEM161A_TMEM161A,CASSLDLYGYTF_CMV:pp65_NLVPMVATV,CASSLDNEKLFF_S-pneumoniae:NA_ECTGLAWEWWRTV,CASSLDPYEQYF_HomoSapiens:CARM1_FAAQAGAWKIY,CASSLDSSNQPQHF_CMV:NA_NA,CASSLEGANYGYTF_HPV:E2-orE5-orE6-orE7_NA,CASSLEGDTEAFF_MCPyV:T-Ag_KLLEIAPNC,CASSLEGSYEQYF_EBV:BZLF1_KLVALGINAV,CASSLEGSYEQYF_HCV:NS3_KLVALGINAV,CASSLETVNTEAFF_CMV:pp65_NLVPMVATV,CASSLETVYGYTF_S-pneumoniae:NA_ECTGLAWEWWRTV,CASSLFGGTEAFF_HomoSapiens:MAA_NA,CASSLGANTGELFF_HomoSapiens:SCML2_LPDHFGLGPV,CASSLGDGNYGYTF_HPV:E2-orE5-orE6-orE7_NA,CASSLGEKLFF_HCV:NS3_KLVALGINAV,CASSLGGAEQFF_HomoSapiens:MAA_NA,CASSLGGDIQYF_HCV:NS3_KLVALGINAV,CASSLGGGPDTQYF_HomoSapiens:PMEL154-162_TAA-KTWGQYWQV,CASSLGGGTDTQYF_HomoSapiens:PMEL154-162_TAA-KTWGQYWQV,CASSLGGNTGELFF_MCPyV:T-Ag_KLLEIAPNC,CASSLGGQPQHF_HomoSapiens:MAA_NA,CASSLGGRTEAFF_HomoSapiens:BPNT1_EAGPDAVLRR,CASSLGGSSYEQYF_HomoSapiens:MLANA27-35_TAA-AAGIGILTV,CASSLGLENEQFF_EBV:BMLF1_GLCTLVAML,CASSLGLLNTEAFF_HomoSapiens:MLANA27-35_TAA-AAGIGILTV,CASSLGLSTDTQYF_HomoSapiens:NCEH1111-119p.G115R_NeoAg-YIHGRGWAL,CASSLGNTEAFF_MCPyV:T-Ag_KLLEIAPNC,CASSLGQAYEQYF_EBV:EBNA3A_FLRGRAYGL,CASSLGQAYEQYF_HomoSapiens:MLANA_EEYLKAWTF,CASSLGQGNSPLHF_CMV:pp65_NLVPMVATV,CASSLGQGNYGYTF_HomoSapiens:MLANA27-35_TAA-AAGIGILTV,CASSLGQLNTEAFF_HomoSapiens:MAA_NA,CASSLGQTNYGYTF_HomoSapiens:KRAS_GADGVGKSAL,CASSLGRGQFF_HCV:NS3_KLVALGINAV,CASSLGTGELFF_CMV:pp65_NLVPMVATV,CASSLIGRDEQFF_EBV:BZLF1_EPLPQGQLTAY,CASSLLDGNTEAFF_HPV:E2-orE5-orE6-orE7_NA,CASSLLGETQYF_EBV:NA_NA,CASSLLLDTQYF_EBV:NA_NA,CASSLLQETQYF_EBV:NA_NA,CASSLLSSNQPQHF_EBV:NA_NA,CASSLMQETQYF_EBV:NA_NA,CASSLQGYEQYF_HPV:E2-orE5-orE6-orE7_NA,CASSLREGETQYF_S-pneumoniae:NA_ECTGLAWEWWRTV,CASSLRGSYEQYV_HomoSapiens:DNMT3A_p-P282S,CASSLRNTGELFF_S-pneumoniae:NA_ECTGLAWEWWRTV,CASSLRRGEQYF_HomoSapiens:MYH6191-198_VIQYFASI,CASSLSDGNYGYTF_HPV:E2-orE5-orE6-orE7_NA,CASSLSFGTEAFF_HomoSapiens:MLANA_ELAGIGILTV_AAGIGILTV,CASSLSGQPQHF_MCPyV:T-Ag_KLLEIAPNC,CASSLSQGTEAFF_HomoSapiens:MAA_NA,CASSLTGGSEAFF_HomoSapiens:LMBRD1_FIFTSIAGIR,CASSLVDGNYGYTF_HPV:E2-orE5-orE6-orE7_NA,CASSLVGTGELFF_CMV:pp65_NLVPMVATV,CASSLWLNEQFF_CMV:pp65_NLVPMVATV,CASSLYQETQYF_EBV:NA_NA,CASSLYTGELFF_HomoSapiens:ZHX2_HPNVILNSLY,CASSMGANEQFF_HCV:NS3_KLVALGINAV,CASSMGGEQYF_HCV:NS3_KLVALGINAV,CASSMGGTYEQYF_HomoSapiens:PMEL_ITDQVPFSV_ILDQVPFSV,CASSMLFQETQYF_HPV:E2-orE5-orE6-orE7_NA,CASSMRSTGELFF_Influenza:M_GILGFVFTL,CASSNGRGTEQFF_S-pneumoniae:NA_ECTGLAWEWWRTV,CASSPARNTEAFF_CMV:pp65_RPHERNGFTV,CASSPDGMNTEAFF_HomoSapiens:TMEM161A_TMEM161A,CASSPEETQYF_M.tuberculosis:CFP10_TAAQAAVVRFQEAAN,CASSPGGATEAFF_HomoSapiens:MAA_NA,CASSPGGELFF_HCV:NS3_KLVALGINAV,CASSPGGETQYF_HomoSapiens:PMEL154-162_TAA-KTWGQYWQV,CASSPGGFEAFF_HomoSapiens:PIK3CA_p-P449T,CASSPGGGNTEAFF_S-pneumoniae:NA_ECTGLAWEWWRTV,CASSPGGNEQFF_HomoSapiens:MAA_NA,CASSPGLAGNEQFF_HomoSapiens:MAA_NA,CASSPGLLTDTQYF_HomoSapiens:MAA_NA,CASSPGLLTDTQYF_HomoSapiens:MLANA27-35_TAA-AAGIGILTV,CASSPGQLNTEAFF_HomoSapiens:MAA_NA,CASSPGQPQHF_HomoSapiens:DCAKD198-207p.S199F_NeoAg-RFLEYLPLRF,CASSPGQRNTEAFF_HomoSapiens:MAA_NA,CASSPGSETQYF_S-pneumoniae:NA_ECTGLAWEWWRTV,CASSPGTENSPLHF_HomoSapiens:KRAS_p-G13D,CASSPGTLTDTQYF_HomoSapiens:MLANA27-35_TAA-AAGIGILTV,CASSPHRNTEAFF_CMV:pp65_RPHERNGFTV,CASSPILQETQYF_HPV:E2-orE5-orE6-orE7_NA,CASSPLQGYEQYF_HPV:E2-orE5-orE6-orE7_NA,CASSPPSSGNTIYF_MCPyV:T-Ag_KLLEIAPNC,CASSPQGLGTEAFF_HomoSapiens:MAA_NA,CASSPQGVNYGYTF_S-pneumoniae:NA_ECTGLAWEWWRTV,CASSPRGDTEAFF_MCPyV:T-Ag_KLLEIAPNC,CASSPRTGNTEAFF_CMV:NA_NA,CASSPRVPNTEAFF_HomoSapiens:HIATL1_p-G380V,CASSPSGGTDTQYF_HomoSapiens:CNOT2_FNGTDGSENVTGFDLSDFPALADRN,CASSPSGLSYEQYF_HomoSapiens:MAA_NA,CASSPSRNTEAFF_CMV:pp65_RPHERNGFTV,CASSPTGVGEQFF_Influenza:M_GILGFVFTL,CASSPWDEQFF_MCPyV:T-Ag_KLLEIAPNC,CASSQDGMNTEAFF_HomoSapiens:TMEM161A_TMEM161A,CASSQDRDTQYF_CMV:UL40_VMAPRTLIL,CASSQETGSYEQFF_EBV:EBNA3A_RPPIFIRRL,CASSQETGSYEQYF_EBV:EBNA3A_RPPIFIRRL,CASSQGGGEQYF_S-pneumoniae:NA_WEWWR,CASSQGNTGELFF_HomoSapiens:KRAS_p-G13D,CASSQGQDTEAFF_HomoSapiens:GLIA-OMEGA1_QPFPQPEQPFP,CASSQGRPSTS_HomoSapiens:MAA_NA,CASSQGSYEQYF_HCV:NS3_KLVALGINAV,CASSQLGYEQYF_HPV:E2-orE5-orE6-orE7_NA,CASSQNTGELFF_HomoSapiens:TYR207-215_TAA-FLPWHRLFL,CASSQQETQYF_CEF:NA_NA,CASSQSSGANVLTF_EBV:EBV_NA,CASSQVGETQYF_MCPyV:T-Ag_KLLEIAPNC,CASSQVGGGEQFF_HomoSapiens:MAA_NA,CASSRADYGYTF_HomoSapiens:SDAD1_MAQMRKELDAAPWKSQKRKYIEIDS,CASSRDGMNTEAFF_HomoSapiens:TMEM161A_TMEM161A,CASSRGDTEAFF_HCV:NS3_KLVALGINAV,CASSRGLNNQPQHF_S-pneumoniae:NA_ECTGLAWEWWRTV,CASSRQGENQPQHF_HomoSapiens:MAGEC2254-262_TAA-NAVGVYAGR,CASSRQGLGTEAFF_HomoSapiens:MAA_NA,CASSRQTNTEAFF_CMV:NA_NA,CASSRTGSTYEQYF_EBV:BZLF1_LPEPLPQGQLTAY,CASSSADGNYGYTF_HPV:E2-orE5-orE6-orE7_NA,CASSSAFYGYTF_CMV:pp65_NLVPMVATV,CASSSANYGYTF_CMV:pp65_NLVPMVATV,CASSSAYYGYTF_CMV:pp65_NLVPMVATV,CASSSDGMNTEAFF_HomoSapiens:TMEM161A_TMEM161A,CASSSGATEAFF_HCV:NS3_KLVALGINAV,CASSSGDGNYGYTF_HPV:E2-orE5-orE6-orE7_NA,CASSSGETQYF_S-pneumoniae:NA_ECTGLAWEWWRTV,CASSSGIYGYTF_CMV:pp65_NLVPMVATV,CASSSGPSYEQYF_HomoSapiens:FLNA_RSSRTLSR,CASSSGQAYEQYF_EBV:EBNA3A_FLRGRAYGL,CASSSLNTEAFF_EBV:BZLF1_RAKFKQLL,CASSSQGGYGYTF_HomoSapiens:MAGE-A6_KVDPIGHVY,CASSSRAAYEQYF_Influenza:M_GILGFVFTL,CASSSRASYEQYF_Influenza:M_GILGFVFTL,CASSSRNSYEQYF_Influenza:NA_NA,CASSSRSSYEQYF_Influenza:M-HA_GILGFVFTL_PKYVKQNTLKLAT,CASSSVNEQFF_CMV:pp65_NLVPMVATV,CASSSVSEAFF_CMV:pp65_NLVPMVATV,CASSTDLNTEAFF_CMV:NA_NA,CASSTGDSNQPQHF_EBV:BZLF1_EPLPQGQLTAY,CASSTGFYGYTF_Influenza:M_GILGFVFTL,CASSTGNEKLFF_CMV:NA_NA,CASSTGNYGYTF_Influenza:M_GILGFVFTL,CASSTGSYGYTF_CMV:pp65_NLVPMVATV,CASSTLFQETQYF_HPV:E2-orE5-orE6-orE7_NA,CASSTRSTGELFF_CMV:pp65_NLVPMVATV,CASSTSTDTQYF_S-pneumoniae:NA_ECTGLAWEWWRTV,CASSVASGTDTQYF_EBV:EBNA3A_FLRGRAYGL,CASSVDGMNTEAFF_HomoSapiens:TMEM161A_TMEM161A,CASSVGQGKAFF_Influenza:HA_PKYVKQNTLKLAT,CASSVGWGGEQFF_EBV:NA_NA,CASSVLFQETQYF_HPV:E2-orE5-orE6-orE7_NA,CASSVLNTGELFF_MCPyV:T-Ag_KLLEIAPNC,CASSVNNEQFF_HPV:E2-orE5-orE6-orE7_NA,CASSVRSTGELFF_Influenza:M_GILGFVFTL,CASSWGGGEQYF_HCV:NS3_KLVALGINAV,CASSWGGNTEAFF_HomoSapiens:ZNF219_CLASLHPR,CASSWGSGANVLTF_HomoSapiens:KPNA2_YLRNLTWTL,CASSYGLAGGEQFF_HomoSapiens:MAA_NA,CASSYGSYEQYF_HCV:NS3_KLVALGINAV,CASSYNNEQFF_HomoSapiens:FLNA_RTWRRTRRGRR,CASSYPGTSQFF_HomoSapiens:MAA_NA,CASSYQGTEAFF_HomoSapiens:TERT_ILAKFLHWL,CASSYRGSGNTIYF_HCV:NS3_KLVALGINAV,CASSYSDGNTEAFF_HPV:E2-orE5-orE6-orE7_NA,CASSYSLNTEAFF_CMV:NA_NA,CASSYSVLNTEAFF_HomoSapiens:MAA_NA,CASSYTGELFF_HCV:NS3_KLVALGINAV,CASTDSNTGELFF_MCPyV:T-Ag_KLLEIAPNC,CASTEGNTEAFF_HomoSapiens:PMEL154-162_TAA-KTWGQYWQV,CASTLQETQYF_EBV:NA_NA,CASTNSGNTIYF_HCV:NS3_KLVALGINAV,CASTPTENTEAFF_CMV:NA_NA,CASTQGSTDTQYF_HCV:NS3_KLVALGINAV,CATGTGDSNQPQHF_EBV:BZLF1_EPLPQGQLTAY,CATRDINTGELFF_MCPyV:T-Ag_KLLEIAPNC,CATRRANEQFF_HomoSapiens:PMEL589-603_TAA-LIMPGQEAGLGQVPL,CATSAGRNEQFF_HomoSapiens:MAA_NA,CATSALGDTQYF_HomoSapiens:MBP_NPVVHFFKNIVTPR,CATSEGNEQFF_CMV:pp65_NLVPMVATV,CATSGTGHSYEQYF_HomoSapiens:PPP2R1A_p-L432S,CATTGGQNTEAFF_HomoSapiens:TP53_NSSCMGGMNLR,CAWAESSYNEQFF_HomoSapiens:TARS_p-E331K,CAWSEQVNTEAFF_HomoSapiens:UBE2I51-60p.P52L_NeoAg-TLWEGGLFKL,CAWSPDGMNTEAFF_HomoSapiens:TMEM161A_TMEM161A,CAWSPVNTEAFF_HomoSapiens:FAM50B72-80p.E78K_NeoAg-DMKARQKAL,CPSSSGDGNYGYTF_HPV:E2-orE5-orE6-orE7_NA,CSADLNTEAFF_HomoSapiens:C2orf16_TLIDVPKV,CSAEQGANTGELFF_HomoSapiens:PMEL154-162_TAA-KTWGQYWQV,CSARGADTQYF_CMV:pp65_NLVPMVATV,CSARTGYNEQFF_MCPyV:T-Ag_KLLEIAPNC,CSASEGAYGYTF_S-pneumoniae:NA_ECTGLAWEWWRTV,CSASMRDEQYF_S-pneumoniae:NA_ECTGLAWEWWRTV,CSATGGTGNTIYF_EBV:NA_NA,CSVEGDTGELFF_CMV:pp65_NLVPMVATV,CSVEGTENTGELFF_EBV:NA_NA,CSVGGAYEQYF_EBV:EBNA3A_RPPIFIRRL,CSVPLTGNTEAFF_EBV:NA_NA,CSVVDRGYGYTF_EBV:NA_NA,CTSSPILQETQYF_HPV:E2-orE5-orE6-orE7_NA,YASSLTGGTEAFF_HomoSapiens:MAA_NA | CHP_363_X01-PBMC | CHP_363 | X01 | CAIGDGNQPQHF_Solidtumors | CAIGDGNQPQHF   | Solidtumors | 125 | 8.9e-03 |\n",
       "\n"
      ],
      "text/plain": [
       "  Component_id Component_size PatientDerived_Nodes                     \n",
       "1 1            17492          CAASSGANEQFF_Solidtumors:CHP_404_X01-PBMC\n",
       "2 1            17492          CACSTGGSEQYF_Solidtumors:CHP_381_X01-PBMC\n",
       "3 1            17492          CAFSGDSSYNEQFF_Leukemia:CHP_373_X01-PBMC \n",
       "4 1            17492          CAGRGTGELFF_Leukemia:CHP_373_X01-PBMC    \n",
       "5 1            17492          CAGSLGINEQFF_Leukemia:CHP_353_X01-PBMC   \n",
       "6 1            17492          CAIGDGNQPQHF_Solidtumors:CHP_363_X01-PBMC\n",
       "  NumberOf_PatientDerived_Nodes Number_of_Patients Sample_Type_Range\n",
       "1 8263                          115                cfDNA,PBMC,Tumor \n",
       "2 8263                          115                cfDNA,PBMC,Tumor \n",
       "3 8263                          115                cfDNA,PBMC,Tumor \n",
       "4 8263                          115                cfDNA,PBMC,Tumor \n",
       "5 8263                          115                cfDNA,PBMC,Tumor \n",
       "6 8263                          115                cfDNA,PBMC,Tumor \n",
       "  Timepoint_Range         Number_of_Timepoints\n",
       "1 X00,X01,X02,X03,X04,X05 6                   \n",
       "2 X00,X01,X02,X03,X04,X05 6                   \n",
       "3 X00,X01,X02,X03,X04,X05 6                   \n",
       "4 X00,X01,X02,X03,X04,X05 6                   \n",
       "5 X00,X01,X02,X03,X04,X05 6                   \n",
       "6 X00,X01,X02,X03,X04,X05 6                   \n",
       "  Component_specificity                                                                                                                         \n",
       "1 CEF,CMV,EBV,HCV,HomoSapiens,HPV,Influenza,Leukemia,LFS,Lymphoma,M.tuberculosis,MCPyV,MDavis,Normal,S-pneumoniae,Solidtumors,T-cellmalignancies\n",
       "2 CEF,CMV,EBV,HCV,HomoSapiens,HPV,Influenza,Leukemia,LFS,Lymphoma,M.tuberculosis,MCPyV,MDavis,Normal,S-pneumoniae,Solidtumors,T-cellmalignancies\n",
       "3 CEF,CMV,EBV,HCV,HomoSapiens,HPV,Influenza,Leukemia,LFS,Lymphoma,M.tuberculosis,MCPyV,MDavis,Normal,S-pneumoniae,Solidtumors,T-cellmalignancies\n",
       "4 CEF,CMV,EBV,HCV,HomoSapiens,HPV,Influenza,Leukemia,LFS,Lymphoma,M.tuberculosis,MCPyV,MDavis,Normal,S-pneumoniae,Solidtumors,T-cellmalignancies\n",
       "5 CEF,CMV,EBV,HCV,HomoSapiens,HPV,Influenza,Leukemia,LFS,Lymphoma,M.tuberculosis,MCPyV,MDavis,Normal,S-pneumoniae,Solidtumors,T-cellmalignancies\n",
       "6 CEF,CMV,EBV,HCV,HomoSapiens,HPV,Influenza,Leukemia,LFS,Lymphoma,M.tuberculosis,MCPyV,MDavis,Normal,S-pneumoniae,Solidtumors,T-cellmalignancies\n",
       "  KnownExternalTCRs                                                                                                                                                                                                                                                                                                                                                                                                                                                                                                                                                                                                                                                                                                                                                                                                                                                                                                                                                                                                                                                                                                                                                                                                                                                                                                                                                                                                                                                                                                                                                                                                                                                                                                                                                                                                                                                                                                                                                                                                                                                                                                                                                                                                                                                                                                                                                                                                                                                                                                                                                                                                                                                                                                                                                                                                                                                                                                                                                                                                                                                                                                                                                                                                                                                                                                                                                                                                                                                                                                                                                                                                                                                                                                                                                                                                                                                                                                                                                                                                                                                                                                                                                                                                                                                                                                                                                                                                                                                                                                                                                                                                                                                                                                                                                                                                                                                                                                                                                                                                                                                                                                                                                                                                                                                                                                                                                                                                                                                                                                                                                                                                                                                                                                                                                                                                                                                                                                                                                                                                                                                                                                                                                                                                                                                                                                                                                                                                                                                                                                                                                                                                                                                                                                                                                                                                                                                                                                                                                                                                                                                                                                                                                                                                                                                                                                                                                                                                                                                                                                                                                                                                                                                                                                                                                                                                                                                                                                                                                                                                                                                                                                                                                                                                                                                                                                                                                                                                                                                                                                                                                                                                                                                                                                                                                                                                                                                                                                                                                                                                                                                                                                                                                                                                                                                                                                                                                                                                                                                                                                                                                                                                                                                                                                                                                                                                                                                                                                                                                                                                                                                                                                                                                                                                                                                                                                                                                                                                                                                                                                                                                                                                                                                                                                                                                                                                                                                                               \n",
       "1 CACSVLNTGELFF_MCPyV:T-Ag_KLLEIAPNC,CAGSQDGMNTEAFF_HomoSapiens:TMEM161A_TMEM161A,CAIRDSNTGELFF_MCPyV:T-Ag_KLLEIAPNC,CAIRGQNTGELFF_MCPyV:T-Ag_KLLEIAPNC,CAISEDGMNTEAFF_HomoSapiens:TMEM161A_TMEM161A,CAISGEGNTEAFF_CMV:NA_NA,CAISSGGADTQYF_S-pneumoniae:NA_ECTGLAWEWWRTV,CAISTGDSNQPQHF_EBV:BZLF1_EPLPQGQLTAY,CANSQPGGIEQFF_EBV:BZLF1_EPLPQGQLTAY,CARSVLNTGELFF_MCPyV:T-Ag_KLLEIAPNC,CASDSNTEAFF_HCV:NS3_KLVALGINAV,CASGQGQETQYF_HCV:NS3_KLVALGINAV,CASGTGDSNQPQHF_EBV:BZLF1_EPLPQGQLTAY,CASIRGYEQYF_HomoSapiens:MAA_NA,CASQGGTEAFF_HomoSapiens:MAA_NA,CASRDGDEQYF_S-pneumoniae:NA_ECTGLAWEWWRTV,CASRDQNTGELFF_MCPyV:T-Ag_KLLEIAPNC,CASRDSSSYEQYF_HomoSapiens:PLECp.P3283S_NeoAg-GGIVDSSKSHRVPLD,CASRGGFNEKLFF_CMV:NA_NA,CASRGGSSYNEQFF_MCPyV:T-Ag_KLLEIAPNC,CASRGQNTGELFF_MCPyV:T-Ag_KLLEIAPNC,CASRIGNTGELFF_HomoSapiens:KRAS_p-G13D,CASRQGGQPQHF_HomoSapiens:MAA_NA,CASRQGNTGELFF_HomoSapiens:KRAS_p-G13D,CASRRGPYEQYF_HCV:NS3_KLVALGINAV-orKLVALVINAV,CASRRSNQPQHF_HomoSapiens:CMKLR1_FLEDLSPL,CASSAGAEQYF_HomoSapiens:PIK3CA_p-P449T,CASSASNYGYTF_HomoSapiens:DDX18_VKYHYELLNYIDMPVLAIHGKQKQN,CASSDALQETQYF_CMV:pp65_NLVPMVATV,CASSDDRGPYEQYF_HCV:NS3_KLVALGINAV,CASSDGGEQYF_S-pneumoniae:NA_GLAWEWWRTV,CASSDGGVKYF_S-pneumoniae:NA_ECTGLAWEWWRTV,CASSDGVGTEAFF_HomoSapiens:RPS9p.P68S_NeoAg-AARELLTLDEKDSRRLFE,CASSDPGTEAFF_HomoSapiens:KRAS_GADGVGKSAL,CASSDSYGYTF_HCV:NS3_KLVALGINAV,CASSDYYEQYF_S-pneumoniae:NA_ECTGLAWEWWRTV,CASSEDGMNTEAFF_HomoSapiens:TMEM161A_TMEM161A,CASSEGDTEAFF_HCV:NS3_KLVALGINAV,CASSEGQGNSPLHF_MCPyV:T-Ag_KLLEIAPNC,CASSEGQSYEQYF_MCPyV:T-Ag_KLLEIAPNC,CASSESGRNTEAFX_S-pneumoniae:NA_ECTGLAWEWWRTV,CASSFDRGYGYTF_HomoSapiens:MAGE-A6_NA,CASSFGADTQYF_HCV:NS3_KLVALGINAV,CASSFGGAYEQYF_HomoSapiens:MED13_VQIISCQY,CASSFGGEQFF_HomoSapiens:DOPEY2_FRFSMIWHL,CASSFGSEQYF_MCPyV:T-Ag_KLLEIAPNC,CASSFGSYEQYF_HomoSapiens:NUP214_SVYWSPKGK,CASSFIGGTDTQYF_HomoSapiens:gp100_YLEPGPVTA,CASSFLGTGELFF_HomoSapiens:TARS_p-E331K,CASSFQGFTEAFF_CMV:pp65_NLVPMVATV,CASSFQGYTEAFF_CMV:pp65_NLVPMVATV,CASSFTLNTEAFF_CMV:NA_NA,CASSFWGNTEAFF_HomoSapiens:FAM135A_AGASSIWYR,CASSGDGMNTEAFF_HomoSapiens:TMEM161A_TMEM161A,CASSGENTEAFF_CMV:NA_NA,CASSGQNTGELFF_MCPyV:T-Ag_KLLEIAPNC,CASSGTHNEQFF_EBV:EBNA3A_RPPIFIRRL,CASSGYTGELFF_HCV:NS3_KLVALGINAV,CASSHAGRNTEAFF_HomoSapiens:MAA_NA,CASSHQTGELFF_CMV:pp65_NLVPMVATV,CASSHREGETQYF_S-pneumoniae:NA_ECTGLAWEWWRTV,CASSIGGDYGYTF_HomoSapiens:MLANA27-35_TAA-AAGIGILTV,CASSIGQYEQYF_HCV:NS3_KLVALGINAV,CASSIGVGTEQYF_HomoSapiens:MAA_NA,CASSIGVYGYTF_Influenza:M_GILGFVFTL,CASSIRASYEQYF_Influenza:M_GILGFVFTL,CASSIRSAHEQFF_Influenza:M_GILGFVFTL,CASSIRSSYEQYF_Influenza:M_GILGFVFTL,CASSIRSTDTQYF_Influenza:M_GILGFVFTL,CASSIRSTGELFF_Influenza:M_GILGFVFTL,CASSITLNTEAFF_CMV:NA_NA,CASSLAADTQYF_EBV:NA_NA,CASSLAGDRYF_MCPyV:T-Ag_KLLEIAPNC,CASSLAGDYEQYF_CMV:pp65_NLVPMVATV,CASSLAGFRFF_MCPyV:T-Ag_KLLEIAPNC,CASSLAGFTGELFF_CMV:pp65_NLVPMVATV,CASSLAGPETQYF_HomoSapiens:TP53_p-T172I,CASSLAQGTDTQYF_HomoSapiens:LAMC1p.S1509F_NeoAg-KAKNFVTSLLSIIND,CASSLATGGEQFF_EBV:NA_NA,CASSLDENTEAFF_CMV:NA_NA,CASSLDGMNTEAFF_HomoSapiens:TMEM161A_TMEM161A,CASSLDLYGYTF_CMV:pp65_NLVPMVATV,CASSLDNEKLFF_S-pneumoniae:NA_ECTGLAWEWWRTV,CASSLDPYEQYF_HomoSapiens:CARM1_FAAQAGAWKIY,CASSLDSSNQPQHF_CMV:NA_NA,CASSLEGANYGYTF_HPV:E2-orE5-orE6-orE7_NA,CASSLEGDTEAFF_MCPyV:T-Ag_KLLEIAPNC,CASSLEGSYEQYF_EBV:BZLF1_KLVALGINAV,CASSLEGSYEQYF_HCV:NS3_KLVALGINAV,CASSLETVNTEAFF_CMV:pp65_NLVPMVATV,CASSLETVYGYTF_S-pneumoniae:NA_ECTGLAWEWWRTV,CASSLFGGTEAFF_HomoSapiens:MAA_NA,CASSLGANTGELFF_HomoSapiens:SCML2_LPDHFGLGPV,CASSLGDGNYGYTF_HPV:E2-orE5-orE6-orE7_NA,CASSLGEKLFF_HCV:NS3_KLVALGINAV,CASSLGGAEQFF_HomoSapiens:MAA_NA,CASSLGGDIQYF_HCV:NS3_KLVALGINAV,CASSLGGGPDTQYF_HomoSapiens:PMEL154-162_TAA-KTWGQYWQV,CASSLGGGTDTQYF_HomoSapiens:PMEL154-162_TAA-KTWGQYWQV,CASSLGGNTGELFF_MCPyV:T-Ag_KLLEIAPNC,CASSLGGQPQHF_HomoSapiens:MAA_NA,CASSLGGRTEAFF_HomoSapiens:BPNT1_EAGPDAVLRR,CASSLGGSSYEQYF_HomoSapiens:MLANA27-35_TAA-AAGIGILTV,CASSLGLENEQFF_EBV:BMLF1_GLCTLVAML,CASSLGLLNTEAFF_HomoSapiens:MLANA27-35_TAA-AAGIGILTV,CASSLGLSTDTQYF_HomoSapiens:NCEH1111-119p.G115R_NeoAg-YIHGRGWAL,CASSLGNTEAFF_MCPyV:T-Ag_KLLEIAPNC,CASSLGQAYEQYF_EBV:EBNA3A_FLRGRAYGL,CASSLGQAYEQYF_HomoSapiens:MLANA_EEYLKAWTF,CASSLGQGNSPLHF_CMV:pp65_NLVPMVATV,CASSLGQGNYGYTF_HomoSapiens:MLANA27-35_TAA-AAGIGILTV,CASSLGQLNTEAFF_HomoSapiens:MAA_NA,CASSLGQTNYGYTF_HomoSapiens:KRAS_GADGVGKSAL,CASSLGRGQFF_HCV:NS3_KLVALGINAV,CASSLGTGELFF_CMV:pp65_NLVPMVATV,CASSLIGRDEQFF_EBV:BZLF1_EPLPQGQLTAY,CASSLLDGNTEAFF_HPV:E2-orE5-orE6-orE7_NA,CASSLLGETQYF_EBV:NA_NA,CASSLLLDTQYF_EBV:NA_NA,CASSLLQETQYF_EBV:NA_NA,CASSLLSSNQPQHF_EBV:NA_NA,CASSLMQETQYF_EBV:NA_NA,CASSLQGYEQYF_HPV:E2-orE5-orE6-orE7_NA,CASSLREGETQYF_S-pneumoniae:NA_ECTGLAWEWWRTV,CASSLRGSYEQYV_HomoSapiens:DNMT3A_p-P282S,CASSLRNTGELFF_S-pneumoniae:NA_ECTGLAWEWWRTV,CASSLRRGEQYF_HomoSapiens:MYH6191-198_VIQYFASI,CASSLSDGNYGYTF_HPV:E2-orE5-orE6-orE7_NA,CASSLSFGTEAFF_HomoSapiens:MLANA_ELAGIGILTV_AAGIGILTV,CASSLSGQPQHF_MCPyV:T-Ag_KLLEIAPNC,CASSLSQGTEAFF_HomoSapiens:MAA_NA,CASSLTGGSEAFF_HomoSapiens:LMBRD1_FIFTSIAGIR,CASSLVDGNYGYTF_HPV:E2-orE5-orE6-orE7_NA,CASSLVGTGELFF_CMV:pp65_NLVPMVATV,CASSLWLNEQFF_CMV:pp65_NLVPMVATV,CASSLYQETQYF_EBV:NA_NA,CASSLYTGELFF_HomoSapiens:ZHX2_HPNVILNSLY,CASSMGANEQFF_HCV:NS3_KLVALGINAV,CASSMGGEQYF_HCV:NS3_KLVALGINAV,CASSMGGTYEQYF_HomoSapiens:PMEL_ITDQVPFSV_ILDQVPFSV,CASSMLFQETQYF_HPV:E2-orE5-orE6-orE7_NA,CASSMRSTGELFF_Influenza:M_GILGFVFTL,CASSNGRGTEQFF_S-pneumoniae:NA_ECTGLAWEWWRTV,CASSPARNTEAFF_CMV:pp65_RPHERNGFTV,CASSPDGMNTEAFF_HomoSapiens:TMEM161A_TMEM161A,CASSPEETQYF_M.tuberculosis:CFP10_TAAQAAVVRFQEAAN,CASSPGGATEAFF_HomoSapiens:MAA_NA,CASSPGGELFF_HCV:NS3_KLVALGINAV,CASSPGGETQYF_HomoSapiens:PMEL154-162_TAA-KTWGQYWQV,CASSPGGFEAFF_HomoSapiens:PIK3CA_p-P449T,CASSPGGGNTEAFF_S-pneumoniae:NA_ECTGLAWEWWRTV,CASSPGGNEQFF_HomoSapiens:MAA_NA,CASSPGLAGNEQFF_HomoSapiens:MAA_NA,CASSPGLLTDTQYF_HomoSapiens:MAA_NA,CASSPGLLTDTQYF_HomoSapiens:MLANA27-35_TAA-AAGIGILTV,CASSPGQLNTEAFF_HomoSapiens:MAA_NA,CASSPGQPQHF_HomoSapiens:DCAKD198-207p.S199F_NeoAg-RFLEYLPLRF,CASSPGQRNTEAFF_HomoSapiens:MAA_NA,CASSPGSETQYF_S-pneumoniae:NA_ECTGLAWEWWRTV,CASSPGTENSPLHF_HomoSapiens:KRAS_p-G13D,CASSPGTLTDTQYF_HomoSapiens:MLANA27-35_TAA-AAGIGILTV,CASSPHRNTEAFF_CMV:pp65_RPHERNGFTV,CASSPILQETQYF_HPV:E2-orE5-orE6-orE7_NA,CASSPLQGYEQYF_HPV:E2-orE5-orE6-orE7_NA,CASSPPSSGNTIYF_MCPyV:T-Ag_KLLEIAPNC,CASSPQGLGTEAFF_HomoSapiens:MAA_NA,CASSPQGVNYGYTF_S-pneumoniae:NA_ECTGLAWEWWRTV,CASSPRGDTEAFF_MCPyV:T-Ag_KLLEIAPNC,CASSPRTGNTEAFF_CMV:NA_NA,CASSPRVPNTEAFF_HomoSapiens:HIATL1_p-G380V,CASSPSGGTDTQYF_HomoSapiens:CNOT2_FNGTDGSENVTGFDLSDFPALADRN,CASSPSGLSYEQYF_HomoSapiens:MAA_NA,CASSPSRNTEAFF_CMV:pp65_RPHERNGFTV,CASSPTGVGEQFF_Influenza:M_GILGFVFTL,CASSPWDEQFF_MCPyV:T-Ag_KLLEIAPNC,CASSQDGMNTEAFF_HomoSapiens:TMEM161A_TMEM161A,CASSQDRDTQYF_CMV:UL40_VMAPRTLIL,CASSQETGSYEQFF_EBV:EBNA3A_RPPIFIRRL,CASSQETGSYEQYF_EBV:EBNA3A_RPPIFIRRL,CASSQGGGEQYF_S-pneumoniae:NA_WEWWR,CASSQGNTGELFF_HomoSapiens:KRAS_p-G13D,CASSQGQDTEAFF_HomoSapiens:GLIA-OMEGA1_QPFPQPEQPFP,CASSQGRPSTS_HomoSapiens:MAA_NA,CASSQGSYEQYF_HCV:NS3_KLVALGINAV,CASSQLGYEQYF_HPV:E2-orE5-orE6-orE7_NA,CASSQNTGELFF_HomoSapiens:TYR207-215_TAA-FLPWHRLFL,CASSQQETQYF_CEF:NA_NA,CASSQSSGANVLTF_EBV:EBV_NA,CASSQVGETQYF_MCPyV:T-Ag_KLLEIAPNC,CASSQVGGGEQFF_HomoSapiens:MAA_NA,CASSRADYGYTF_HomoSapiens:SDAD1_MAQMRKELDAAPWKSQKRKYIEIDS,CASSRDGMNTEAFF_HomoSapiens:TMEM161A_TMEM161A,CASSRGDTEAFF_HCV:NS3_KLVALGINAV,CASSRGLNNQPQHF_S-pneumoniae:NA_ECTGLAWEWWRTV,CASSRQGENQPQHF_HomoSapiens:MAGEC2254-262_TAA-NAVGVYAGR,CASSRQGLGTEAFF_HomoSapiens:MAA_NA,CASSRQTNTEAFF_CMV:NA_NA,CASSRTGSTYEQYF_EBV:BZLF1_LPEPLPQGQLTAY,CASSSADGNYGYTF_HPV:E2-orE5-orE6-orE7_NA,CASSSAFYGYTF_CMV:pp65_NLVPMVATV,CASSSANYGYTF_CMV:pp65_NLVPMVATV,CASSSAYYGYTF_CMV:pp65_NLVPMVATV,CASSSDGMNTEAFF_HomoSapiens:TMEM161A_TMEM161A,CASSSGATEAFF_HCV:NS3_KLVALGINAV,CASSSGDGNYGYTF_HPV:E2-orE5-orE6-orE7_NA,CASSSGETQYF_S-pneumoniae:NA_ECTGLAWEWWRTV,CASSSGIYGYTF_CMV:pp65_NLVPMVATV,CASSSGPSYEQYF_HomoSapiens:FLNA_RSSRTLSR,CASSSGQAYEQYF_EBV:EBNA3A_FLRGRAYGL,CASSSLNTEAFF_EBV:BZLF1_RAKFKQLL,CASSSQGGYGYTF_HomoSapiens:MAGE-A6_KVDPIGHVY,CASSSRAAYEQYF_Influenza:M_GILGFVFTL,CASSSRASYEQYF_Influenza:M_GILGFVFTL,CASSSRNSYEQYF_Influenza:NA_NA,CASSSRSSYEQYF_Influenza:M-HA_GILGFVFTL_PKYVKQNTLKLAT,CASSSVNEQFF_CMV:pp65_NLVPMVATV,CASSSVSEAFF_CMV:pp65_NLVPMVATV,CASSTDLNTEAFF_CMV:NA_NA,CASSTGDSNQPQHF_EBV:BZLF1_EPLPQGQLTAY,CASSTGFYGYTF_Influenza:M_GILGFVFTL,CASSTGNEKLFF_CMV:NA_NA,CASSTGNYGYTF_Influenza:M_GILGFVFTL,CASSTGSYGYTF_CMV:pp65_NLVPMVATV,CASSTLFQETQYF_HPV:E2-orE5-orE6-orE7_NA,CASSTRSTGELFF_CMV:pp65_NLVPMVATV,CASSTSTDTQYF_S-pneumoniae:NA_ECTGLAWEWWRTV,CASSVASGTDTQYF_EBV:EBNA3A_FLRGRAYGL,CASSVDGMNTEAFF_HomoSapiens:TMEM161A_TMEM161A,CASSVGQGKAFF_Influenza:HA_PKYVKQNTLKLAT,CASSVGWGGEQFF_EBV:NA_NA,CASSVLFQETQYF_HPV:E2-orE5-orE6-orE7_NA,CASSVLNTGELFF_MCPyV:T-Ag_KLLEIAPNC,CASSVNNEQFF_HPV:E2-orE5-orE6-orE7_NA,CASSVRSTGELFF_Influenza:M_GILGFVFTL,CASSWGGGEQYF_HCV:NS3_KLVALGINAV,CASSWGGNTEAFF_HomoSapiens:ZNF219_CLASLHPR,CASSWGSGANVLTF_HomoSapiens:KPNA2_YLRNLTWTL,CASSYGLAGGEQFF_HomoSapiens:MAA_NA,CASSYGSYEQYF_HCV:NS3_KLVALGINAV,CASSYNNEQFF_HomoSapiens:FLNA_RTWRRTRRGRR,CASSYPGTSQFF_HomoSapiens:MAA_NA,CASSYQGTEAFF_HomoSapiens:TERT_ILAKFLHWL,CASSYRGSGNTIYF_HCV:NS3_KLVALGINAV,CASSYSDGNTEAFF_HPV:E2-orE5-orE6-orE7_NA,CASSYSLNTEAFF_CMV:NA_NA,CASSYSVLNTEAFF_HomoSapiens:MAA_NA,CASSYTGELFF_HCV:NS3_KLVALGINAV,CASTDSNTGELFF_MCPyV:T-Ag_KLLEIAPNC,CASTEGNTEAFF_HomoSapiens:PMEL154-162_TAA-KTWGQYWQV,CASTLQETQYF_EBV:NA_NA,CASTNSGNTIYF_HCV:NS3_KLVALGINAV,CASTPTENTEAFF_CMV:NA_NA,CASTQGSTDTQYF_HCV:NS3_KLVALGINAV,CATGTGDSNQPQHF_EBV:BZLF1_EPLPQGQLTAY,CATRDINTGELFF_MCPyV:T-Ag_KLLEIAPNC,CATRRANEQFF_HomoSapiens:PMEL589-603_TAA-LIMPGQEAGLGQVPL,CATSAGRNEQFF_HomoSapiens:MAA_NA,CATSALGDTQYF_HomoSapiens:MBP_NPVVHFFKNIVTPR,CATSEGNEQFF_CMV:pp65_NLVPMVATV,CATSGTGHSYEQYF_HomoSapiens:PPP2R1A_p-L432S,CATTGGQNTEAFF_HomoSapiens:TP53_NSSCMGGMNLR,CAWAESSYNEQFF_HomoSapiens:TARS_p-E331K,CAWSEQVNTEAFF_HomoSapiens:UBE2I51-60p.P52L_NeoAg-TLWEGGLFKL,CAWSPDGMNTEAFF_HomoSapiens:TMEM161A_TMEM161A,CAWSPVNTEAFF_HomoSapiens:FAM50B72-80p.E78K_NeoAg-DMKARQKAL,CPSSSGDGNYGYTF_HPV:E2-orE5-orE6-orE7_NA,CSADLNTEAFF_HomoSapiens:C2orf16_TLIDVPKV,CSAEQGANTGELFF_HomoSapiens:PMEL154-162_TAA-KTWGQYWQV,CSARGADTQYF_CMV:pp65_NLVPMVATV,CSARTGYNEQFF_MCPyV:T-Ag_KLLEIAPNC,CSASEGAYGYTF_S-pneumoniae:NA_ECTGLAWEWWRTV,CSASMRDEQYF_S-pneumoniae:NA_ECTGLAWEWWRTV,CSATGGTGNTIYF_EBV:NA_NA,CSVEGDTGELFF_CMV:pp65_NLVPMVATV,CSVEGTENTGELFF_EBV:NA_NA,CSVGGAYEQYF_EBV:EBNA3A_RPPIFIRRL,CSVPLTGNTEAFF_EBV:NA_NA,CSVVDRGYGYTF_EBV:NA_NA,CTSSPILQETQYF_HPV:E2-orE5-orE6-orE7_NA,YASSLTGGTEAFF_HomoSapiens:MAA_NA\n",
       "2 CACSVLNTGELFF_MCPyV:T-Ag_KLLEIAPNC,CAGSQDGMNTEAFF_HomoSapiens:TMEM161A_TMEM161A,CAIRDSNTGELFF_MCPyV:T-Ag_KLLEIAPNC,CAIRGQNTGELFF_MCPyV:T-Ag_KLLEIAPNC,CAISEDGMNTEAFF_HomoSapiens:TMEM161A_TMEM161A,CAISGEGNTEAFF_CMV:NA_NA,CAISSGGADTQYF_S-pneumoniae:NA_ECTGLAWEWWRTV,CAISTGDSNQPQHF_EBV:BZLF1_EPLPQGQLTAY,CANSQPGGIEQFF_EBV:BZLF1_EPLPQGQLTAY,CARSVLNTGELFF_MCPyV:T-Ag_KLLEIAPNC,CASDSNTEAFF_HCV:NS3_KLVALGINAV,CASGQGQETQYF_HCV:NS3_KLVALGINAV,CASGTGDSNQPQHF_EBV:BZLF1_EPLPQGQLTAY,CASIRGYEQYF_HomoSapiens:MAA_NA,CASQGGTEAFF_HomoSapiens:MAA_NA,CASRDGDEQYF_S-pneumoniae:NA_ECTGLAWEWWRTV,CASRDQNTGELFF_MCPyV:T-Ag_KLLEIAPNC,CASRDSSSYEQYF_HomoSapiens:PLECp.P3283S_NeoAg-GGIVDSSKSHRVPLD,CASRGGFNEKLFF_CMV:NA_NA,CASRGGSSYNEQFF_MCPyV:T-Ag_KLLEIAPNC,CASRGQNTGELFF_MCPyV:T-Ag_KLLEIAPNC,CASRIGNTGELFF_HomoSapiens:KRAS_p-G13D,CASRQGGQPQHF_HomoSapiens:MAA_NA,CASRQGNTGELFF_HomoSapiens:KRAS_p-G13D,CASRRGPYEQYF_HCV:NS3_KLVALGINAV-orKLVALVINAV,CASRRSNQPQHF_HomoSapiens:CMKLR1_FLEDLSPL,CASSAGAEQYF_HomoSapiens:PIK3CA_p-P449T,CASSASNYGYTF_HomoSapiens:DDX18_VKYHYELLNYIDMPVLAIHGKQKQN,CASSDALQETQYF_CMV:pp65_NLVPMVATV,CASSDDRGPYEQYF_HCV:NS3_KLVALGINAV,CASSDGGEQYF_S-pneumoniae:NA_GLAWEWWRTV,CASSDGGVKYF_S-pneumoniae:NA_ECTGLAWEWWRTV,CASSDGVGTEAFF_HomoSapiens:RPS9p.P68S_NeoAg-AARELLTLDEKDSRRLFE,CASSDPGTEAFF_HomoSapiens:KRAS_GADGVGKSAL,CASSDSYGYTF_HCV:NS3_KLVALGINAV,CASSDYYEQYF_S-pneumoniae:NA_ECTGLAWEWWRTV,CASSEDGMNTEAFF_HomoSapiens:TMEM161A_TMEM161A,CASSEGDTEAFF_HCV:NS3_KLVALGINAV,CASSEGQGNSPLHF_MCPyV:T-Ag_KLLEIAPNC,CASSEGQSYEQYF_MCPyV:T-Ag_KLLEIAPNC,CASSESGRNTEAFX_S-pneumoniae:NA_ECTGLAWEWWRTV,CASSFDRGYGYTF_HomoSapiens:MAGE-A6_NA,CASSFGADTQYF_HCV:NS3_KLVALGINAV,CASSFGGAYEQYF_HomoSapiens:MED13_VQIISCQY,CASSFGGEQFF_HomoSapiens:DOPEY2_FRFSMIWHL,CASSFGSEQYF_MCPyV:T-Ag_KLLEIAPNC,CASSFGSYEQYF_HomoSapiens:NUP214_SVYWSPKGK,CASSFIGGTDTQYF_HomoSapiens:gp100_YLEPGPVTA,CASSFLGTGELFF_HomoSapiens:TARS_p-E331K,CASSFQGFTEAFF_CMV:pp65_NLVPMVATV,CASSFQGYTEAFF_CMV:pp65_NLVPMVATV,CASSFTLNTEAFF_CMV:NA_NA,CASSFWGNTEAFF_HomoSapiens:FAM135A_AGASSIWYR,CASSGDGMNTEAFF_HomoSapiens:TMEM161A_TMEM161A,CASSGENTEAFF_CMV:NA_NA,CASSGQNTGELFF_MCPyV:T-Ag_KLLEIAPNC,CASSGTHNEQFF_EBV:EBNA3A_RPPIFIRRL,CASSGYTGELFF_HCV:NS3_KLVALGINAV,CASSHAGRNTEAFF_HomoSapiens:MAA_NA,CASSHQTGELFF_CMV:pp65_NLVPMVATV,CASSHREGETQYF_S-pneumoniae:NA_ECTGLAWEWWRTV,CASSIGGDYGYTF_HomoSapiens:MLANA27-35_TAA-AAGIGILTV,CASSIGQYEQYF_HCV:NS3_KLVALGINAV,CASSIGVGTEQYF_HomoSapiens:MAA_NA,CASSIGVYGYTF_Influenza:M_GILGFVFTL,CASSIRASYEQYF_Influenza:M_GILGFVFTL,CASSIRSAHEQFF_Influenza:M_GILGFVFTL,CASSIRSSYEQYF_Influenza:M_GILGFVFTL,CASSIRSTDTQYF_Influenza:M_GILGFVFTL,CASSIRSTGELFF_Influenza:M_GILGFVFTL,CASSITLNTEAFF_CMV:NA_NA,CASSLAADTQYF_EBV:NA_NA,CASSLAGDRYF_MCPyV:T-Ag_KLLEIAPNC,CASSLAGDYEQYF_CMV:pp65_NLVPMVATV,CASSLAGFRFF_MCPyV:T-Ag_KLLEIAPNC,CASSLAGFTGELFF_CMV:pp65_NLVPMVATV,CASSLAGPETQYF_HomoSapiens:TP53_p-T172I,CASSLAQGTDTQYF_HomoSapiens:LAMC1p.S1509F_NeoAg-KAKNFVTSLLSIIND,CASSLATGGEQFF_EBV:NA_NA,CASSLDENTEAFF_CMV:NA_NA,CASSLDGMNTEAFF_HomoSapiens:TMEM161A_TMEM161A,CASSLDLYGYTF_CMV:pp65_NLVPMVATV,CASSLDNEKLFF_S-pneumoniae:NA_ECTGLAWEWWRTV,CASSLDPYEQYF_HomoSapiens:CARM1_FAAQAGAWKIY,CASSLDSSNQPQHF_CMV:NA_NA,CASSLEGANYGYTF_HPV:E2-orE5-orE6-orE7_NA,CASSLEGDTEAFF_MCPyV:T-Ag_KLLEIAPNC,CASSLEGSYEQYF_EBV:BZLF1_KLVALGINAV,CASSLEGSYEQYF_HCV:NS3_KLVALGINAV,CASSLETVNTEAFF_CMV:pp65_NLVPMVATV,CASSLETVYGYTF_S-pneumoniae:NA_ECTGLAWEWWRTV,CASSLFGGTEAFF_HomoSapiens:MAA_NA,CASSLGANTGELFF_HomoSapiens:SCML2_LPDHFGLGPV,CASSLGDGNYGYTF_HPV:E2-orE5-orE6-orE7_NA,CASSLGEKLFF_HCV:NS3_KLVALGINAV,CASSLGGAEQFF_HomoSapiens:MAA_NA,CASSLGGDIQYF_HCV:NS3_KLVALGINAV,CASSLGGGPDTQYF_HomoSapiens:PMEL154-162_TAA-KTWGQYWQV,CASSLGGGTDTQYF_HomoSapiens:PMEL154-162_TAA-KTWGQYWQV,CASSLGGNTGELFF_MCPyV:T-Ag_KLLEIAPNC,CASSLGGQPQHF_HomoSapiens:MAA_NA,CASSLGGRTEAFF_HomoSapiens:BPNT1_EAGPDAVLRR,CASSLGGSSYEQYF_HomoSapiens:MLANA27-35_TAA-AAGIGILTV,CASSLGLENEQFF_EBV:BMLF1_GLCTLVAML,CASSLGLLNTEAFF_HomoSapiens:MLANA27-35_TAA-AAGIGILTV,CASSLGLSTDTQYF_HomoSapiens:NCEH1111-119p.G115R_NeoAg-YIHGRGWAL,CASSLGNTEAFF_MCPyV:T-Ag_KLLEIAPNC,CASSLGQAYEQYF_EBV:EBNA3A_FLRGRAYGL,CASSLGQAYEQYF_HomoSapiens:MLANA_EEYLKAWTF,CASSLGQGNSPLHF_CMV:pp65_NLVPMVATV,CASSLGQGNYGYTF_HomoSapiens:MLANA27-35_TAA-AAGIGILTV,CASSLGQLNTEAFF_HomoSapiens:MAA_NA,CASSLGQTNYGYTF_HomoSapiens:KRAS_GADGVGKSAL,CASSLGRGQFF_HCV:NS3_KLVALGINAV,CASSLGTGELFF_CMV:pp65_NLVPMVATV,CASSLIGRDEQFF_EBV:BZLF1_EPLPQGQLTAY,CASSLLDGNTEAFF_HPV:E2-orE5-orE6-orE7_NA,CASSLLGETQYF_EBV:NA_NA,CASSLLLDTQYF_EBV:NA_NA,CASSLLQETQYF_EBV:NA_NA,CASSLLSSNQPQHF_EBV:NA_NA,CASSLMQETQYF_EBV:NA_NA,CASSLQGYEQYF_HPV:E2-orE5-orE6-orE7_NA,CASSLREGETQYF_S-pneumoniae:NA_ECTGLAWEWWRTV,CASSLRGSYEQYV_HomoSapiens:DNMT3A_p-P282S,CASSLRNTGELFF_S-pneumoniae:NA_ECTGLAWEWWRTV,CASSLRRGEQYF_HomoSapiens:MYH6191-198_VIQYFASI,CASSLSDGNYGYTF_HPV:E2-orE5-orE6-orE7_NA,CASSLSFGTEAFF_HomoSapiens:MLANA_ELAGIGILTV_AAGIGILTV,CASSLSGQPQHF_MCPyV:T-Ag_KLLEIAPNC,CASSLSQGTEAFF_HomoSapiens:MAA_NA,CASSLTGGSEAFF_HomoSapiens:LMBRD1_FIFTSIAGIR,CASSLVDGNYGYTF_HPV:E2-orE5-orE6-orE7_NA,CASSLVGTGELFF_CMV:pp65_NLVPMVATV,CASSLWLNEQFF_CMV:pp65_NLVPMVATV,CASSLYQETQYF_EBV:NA_NA,CASSLYTGELFF_HomoSapiens:ZHX2_HPNVILNSLY,CASSMGANEQFF_HCV:NS3_KLVALGINAV,CASSMGGEQYF_HCV:NS3_KLVALGINAV,CASSMGGTYEQYF_HomoSapiens:PMEL_ITDQVPFSV_ILDQVPFSV,CASSMLFQETQYF_HPV:E2-orE5-orE6-orE7_NA,CASSMRSTGELFF_Influenza:M_GILGFVFTL,CASSNGRGTEQFF_S-pneumoniae:NA_ECTGLAWEWWRTV,CASSPARNTEAFF_CMV:pp65_RPHERNGFTV,CASSPDGMNTEAFF_HomoSapiens:TMEM161A_TMEM161A,CASSPEETQYF_M.tuberculosis:CFP10_TAAQAAVVRFQEAAN,CASSPGGATEAFF_HomoSapiens:MAA_NA,CASSPGGELFF_HCV:NS3_KLVALGINAV,CASSPGGETQYF_HomoSapiens:PMEL154-162_TAA-KTWGQYWQV,CASSPGGFEAFF_HomoSapiens:PIK3CA_p-P449T,CASSPGGGNTEAFF_S-pneumoniae:NA_ECTGLAWEWWRTV,CASSPGGNEQFF_HomoSapiens:MAA_NA,CASSPGLAGNEQFF_HomoSapiens:MAA_NA,CASSPGLLTDTQYF_HomoSapiens:MAA_NA,CASSPGLLTDTQYF_HomoSapiens:MLANA27-35_TAA-AAGIGILTV,CASSPGQLNTEAFF_HomoSapiens:MAA_NA,CASSPGQPQHF_HomoSapiens:DCAKD198-207p.S199F_NeoAg-RFLEYLPLRF,CASSPGQRNTEAFF_HomoSapiens:MAA_NA,CASSPGSETQYF_S-pneumoniae:NA_ECTGLAWEWWRTV,CASSPGTENSPLHF_HomoSapiens:KRAS_p-G13D,CASSPGTLTDTQYF_HomoSapiens:MLANA27-35_TAA-AAGIGILTV,CASSPHRNTEAFF_CMV:pp65_RPHERNGFTV,CASSPILQETQYF_HPV:E2-orE5-orE6-orE7_NA,CASSPLQGYEQYF_HPV:E2-orE5-orE6-orE7_NA,CASSPPSSGNTIYF_MCPyV:T-Ag_KLLEIAPNC,CASSPQGLGTEAFF_HomoSapiens:MAA_NA,CASSPQGVNYGYTF_S-pneumoniae:NA_ECTGLAWEWWRTV,CASSPRGDTEAFF_MCPyV:T-Ag_KLLEIAPNC,CASSPRTGNTEAFF_CMV:NA_NA,CASSPRVPNTEAFF_HomoSapiens:HIATL1_p-G380V,CASSPSGGTDTQYF_HomoSapiens:CNOT2_FNGTDGSENVTGFDLSDFPALADRN,CASSPSGLSYEQYF_HomoSapiens:MAA_NA,CASSPSRNTEAFF_CMV:pp65_RPHERNGFTV,CASSPTGVGEQFF_Influenza:M_GILGFVFTL,CASSPWDEQFF_MCPyV:T-Ag_KLLEIAPNC,CASSQDGMNTEAFF_HomoSapiens:TMEM161A_TMEM161A,CASSQDRDTQYF_CMV:UL40_VMAPRTLIL,CASSQETGSYEQFF_EBV:EBNA3A_RPPIFIRRL,CASSQETGSYEQYF_EBV:EBNA3A_RPPIFIRRL,CASSQGGGEQYF_S-pneumoniae:NA_WEWWR,CASSQGNTGELFF_HomoSapiens:KRAS_p-G13D,CASSQGQDTEAFF_HomoSapiens:GLIA-OMEGA1_QPFPQPEQPFP,CASSQGRPSTS_HomoSapiens:MAA_NA,CASSQGSYEQYF_HCV:NS3_KLVALGINAV,CASSQLGYEQYF_HPV:E2-orE5-orE6-orE7_NA,CASSQNTGELFF_HomoSapiens:TYR207-215_TAA-FLPWHRLFL,CASSQQETQYF_CEF:NA_NA,CASSQSSGANVLTF_EBV:EBV_NA,CASSQVGETQYF_MCPyV:T-Ag_KLLEIAPNC,CASSQVGGGEQFF_HomoSapiens:MAA_NA,CASSRADYGYTF_HomoSapiens:SDAD1_MAQMRKELDAAPWKSQKRKYIEIDS,CASSRDGMNTEAFF_HomoSapiens:TMEM161A_TMEM161A,CASSRGDTEAFF_HCV:NS3_KLVALGINAV,CASSRGLNNQPQHF_S-pneumoniae:NA_ECTGLAWEWWRTV,CASSRQGENQPQHF_HomoSapiens:MAGEC2254-262_TAA-NAVGVYAGR,CASSRQGLGTEAFF_HomoSapiens:MAA_NA,CASSRQTNTEAFF_CMV:NA_NA,CASSRTGSTYEQYF_EBV:BZLF1_LPEPLPQGQLTAY,CASSSADGNYGYTF_HPV:E2-orE5-orE6-orE7_NA,CASSSAFYGYTF_CMV:pp65_NLVPMVATV,CASSSANYGYTF_CMV:pp65_NLVPMVATV,CASSSAYYGYTF_CMV:pp65_NLVPMVATV,CASSSDGMNTEAFF_HomoSapiens:TMEM161A_TMEM161A,CASSSGATEAFF_HCV:NS3_KLVALGINAV,CASSSGDGNYGYTF_HPV:E2-orE5-orE6-orE7_NA,CASSSGETQYF_S-pneumoniae:NA_ECTGLAWEWWRTV,CASSSGIYGYTF_CMV:pp65_NLVPMVATV,CASSSGPSYEQYF_HomoSapiens:FLNA_RSSRTLSR,CASSSGQAYEQYF_EBV:EBNA3A_FLRGRAYGL,CASSSLNTEAFF_EBV:BZLF1_RAKFKQLL,CASSSQGGYGYTF_HomoSapiens:MAGE-A6_KVDPIGHVY,CASSSRAAYEQYF_Influenza:M_GILGFVFTL,CASSSRASYEQYF_Influenza:M_GILGFVFTL,CASSSRNSYEQYF_Influenza:NA_NA,CASSSRSSYEQYF_Influenza:M-HA_GILGFVFTL_PKYVKQNTLKLAT,CASSSVNEQFF_CMV:pp65_NLVPMVATV,CASSSVSEAFF_CMV:pp65_NLVPMVATV,CASSTDLNTEAFF_CMV:NA_NA,CASSTGDSNQPQHF_EBV:BZLF1_EPLPQGQLTAY,CASSTGFYGYTF_Influenza:M_GILGFVFTL,CASSTGNEKLFF_CMV:NA_NA,CASSTGNYGYTF_Influenza:M_GILGFVFTL,CASSTGSYGYTF_CMV:pp65_NLVPMVATV,CASSTLFQETQYF_HPV:E2-orE5-orE6-orE7_NA,CASSTRSTGELFF_CMV:pp65_NLVPMVATV,CASSTSTDTQYF_S-pneumoniae:NA_ECTGLAWEWWRTV,CASSVASGTDTQYF_EBV:EBNA3A_FLRGRAYGL,CASSVDGMNTEAFF_HomoSapiens:TMEM161A_TMEM161A,CASSVGQGKAFF_Influenza:HA_PKYVKQNTLKLAT,CASSVGWGGEQFF_EBV:NA_NA,CASSVLFQETQYF_HPV:E2-orE5-orE6-orE7_NA,CASSVLNTGELFF_MCPyV:T-Ag_KLLEIAPNC,CASSVNNEQFF_HPV:E2-orE5-orE6-orE7_NA,CASSVRSTGELFF_Influenza:M_GILGFVFTL,CASSWGGGEQYF_HCV:NS3_KLVALGINAV,CASSWGGNTEAFF_HomoSapiens:ZNF219_CLASLHPR,CASSWGSGANVLTF_HomoSapiens:KPNA2_YLRNLTWTL,CASSYGLAGGEQFF_HomoSapiens:MAA_NA,CASSYGSYEQYF_HCV:NS3_KLVALGINAV,CASSYNNEQFF_HomoSapiens:FLNA_RTWRRTRRGRR,CASSYPGTSQFF_HomoSapiens:MAA_NA,CASSYQGTEAFF_HomoSapiens:TERT_ILAKFLHWL,CASSYRGSGNTIYF_HCV:NS3_KLVALGINAV,CASSYSDGNTEAFF_HPV:E2-orE5-orE6-orE7_NA,CASSYSLNTEAFF_CMV:NA_NA,CASSYSVLNTEAFF_HomoSapiens:MAA_NA,CASSYTGELFF_HCV:NS3_KLVALGINAV,CASTDSNTGELFF_MCPyV:T-Ag_KLLEIAPNC,CASTEGNTEAFF_HomoSapiens:PMEL154-162_TAA-KTWGQYWQV,CASTLQETQYF_EBV:NA_NA,CASTNSGNTIYF_HCV:NS3_KLVALGINAV,CASTPTENTEAFF_CMV:NA_NA,CASTQGSTDTQYF_HCV:NS3_KLVALGINAV,CATGTGDSNQPQHF_EBV:BZLF1_EPLPQGQLTAY,CATRDINTGELFF_MCPyV:T-Ag_KLLEIAPNC,CATRRANEQFF_HomoSapiens:PMEL589-603_TAA-LIMPGQEAGLGQVPL,CATSAGRNEQFF_HomoSapiens:MAA_NA,CATSALGDTQYF_HomoSapiens:MBP_NPVVHFFKNIVTPR,CATSEGNEQFF_CMV:pp65_NLVPMVATV,CATSGTGHSYEQYF_HomoSapiens:PPP2R1A_p-L432S,CATTGGQNTEAFF_HomoSapiens:TP53_NSSCMGGMNLR,CAWAESSYNEQFF_HomoSapiens:TARS_p-E331K,CAWSEQVNTEAFF_HomoSapiens:UBE2I51-60p.P52L_NeoAg-TLWEGGLFKL,CAWSPDGMNTEAFF_HomoSapiens:TMEM161A_TMEM161A,CAWSPVNTEAFF_HomoSapiens:FAM50B72-80p.E78K_NeoAg-DMKARQKAL,CPSSSGDGNYGYTF_HPV:E2-orE5-orE6-orE7_NA,CSADLNTEAFF_HomoSapiens:C2orf16_TLIDVPKV,CSAEQGANTGELFF_HomoSapiens:PMEL154-162_TAA-KTWGQYWQV,CSARGADTQYF_CMV:pp65_NLVPMVATV,CSARTGYNEQFF_MCPyV:T-Ag_KLLEIAPNC,CSASEGAYGYTF_S-pneumoniae:NA_ECTGLAWEWWRTV,CSASMRDEQYF_S-pneumoniae:NA_ECTGLAWEWWRTV,CSATGGTGNTIYF_EBV:NA_NA,CSVEGDTGELFF_CMV:pp65_NLVPMVATV,CSVEGTENTGELFF_EBV:NA_NA,CSVGGAYEQYF_EBV:EBNA3A_RPPIFIRRL,CSVPLTGNTEAFF_EBV:NA_NA,CSVVDRGYGYTF_EBV:NA_NA,CTSSPILQETQYF_HPV:E2-orE5-orE6-orE7_NA,YASSLTGGTEAFF_HomoSapiens:MAA_NA\n",
       "3 CACSVLNTGELFF_MCPyV:T-Ag_KLLEIAPNC,CAGSQDGMNTEAFF_HomoSapiens:TMEM161A_TMEM161A,CAIRDSNTGELFF_MCPyV:T-Ag_KLLEIAPNC,CAIRGQNTGELFF_MCPyV:T-Ag_KLLEIAPNC,CAISEDGMNTEAFF_HomoSapiens:TMEM161A_TMEM161A,CAISGEGNTEAFF_CMV:NA_NA,CAISSGGADTQYF_S-pneumoniae:NA_ECTGLAWEWWRTV,CAISTGDSNQPQHF_EBV:BZLF1_EPLPQGQLTAY,CANSQPGGIEQFF_EBV:BZLF1_EPLPQGQLTAY,CARSVLNTGELFF_MCPyV:T-Ag_KLLEIAPNC,CASDSNTEAFF_HCV:NS3_KLVALGINAV,CASGQGQETQYF_HCV:NS3_KLVALGINAV,CASGTGDSNQPQHF_EBV:BZLF1_EPLPQGQLTAY,CASIRGYEQYF_HomoSapiens:MAA_NA,CASQGGTEAFF_HomoSapiens:MAA_NA,CASRDGDEQYF_S-pneumoniae:NA_ECTGLAWEWWRTV,CASRDQNTGELFF_MCPyV:T-Ag_KLLEIAPNC,CASRDSSSYEQYF_HomoSapiens:PLECp.P3283S_NeoAg-GGIVDSSKSHRVPLD,CASRGGFNEKLFF_CMV:NA_NA,CASRGGSSYNEQFF_MCPyV:T-Ag_KLLEIAPNC,CASRGQNTGELFF_MCPyV:T-Ag_KLLEIAPNC,CASRIGNTGELFF_HomoSapiens:KRAS_p-G13D,CASRQGGQPQHF_HomoSapiens:MAA_NA,CASRQGNTGELFF_HomoSapiens:KRAS_p-G13D,CASRRGPYEQYF_HCV:NS3_KLVALGINAV-orKLVALVINAV,CASRRSNQPQHF_HomoSapiens:CMKLR1_FLEDLSPL,CASSAGAEQYF_HomoSapiens:PIK3CA_p-P449T,CASSASNYGYTF_HomoSapiens:DDX18_VKYHYELLNYIDMPVLAIHGKQKQN,CASSDALQETQYF_CMV:pp65_NLVPMVATV,CASSDDRGPYEQYF_HCV:NS3_KLVALGINAV,CASSDGGEQYF_S-pneumoniae:NA_GLAWEWWRTV,CASSDGGVKYF_S-pneumoniae:NA_ECTGLAWEWWRTV,CASSDGVGTEAFF_HomoSapiens:RPS9p.P68S_NeoAg-AARELLTLDEKDSRRLFE,CASSDPGTEAFF_HomoSapiens:KRAS_GADGVGKSAL,CASSDSYGYTF_HCV:NS3_KLVALGINAV,CASSDYYEQYF_S-pneumoniae:NA_ECTGLAWEWWRTV,CASSEDGMNTEAFF_HomoSapiens:TMEM161A_TMEM161A,CASSEGDTEAFF_HCV:NS3_KLVALGINAV,CASSEGQGNSPLHF_MCPyV:T-Ag_KLLEIAPNC,CASSEGQSYEQYF_MCPyV:T-Ag_KLLEIAPNC,CASSESGRNTEAFX_S-pneumoniae:NA_ECTGLAWEWWRTV,CASSFDRGYGYTF_HomoSapiens:MAGE-A6_NA,CASSFGADTQYF_HCV:NS3_KLVALGINAV,CASSFGGAYEQYF_HomoSapiens:MED13_VQIISCQY,CASSFGGEQFF_HomoSapiens:DOPEY2_FRFSMIWHL,CASSFGSEQYF_MCPyV:T-Ag_KLLEIAPNC,CASSFGSYEQYF_HomoSapiens:NUP214_SVYWSPKGK,CASSFIGGTDTQYF_HomoSapiens:gp100_YLEPGPVTA,CASSFLGTGELFF_HomoSapiens:TARS_p-E331K,CASSFQGFTEAFF_CMV:pp65_NLVPMVATV,CASSFQGYTEAFF_CMV:pp65_NLVPMVATV,CASSFTLNTEAFF_CMV:NA_NA,CASSFWGNTEAFF_HomoSapiens:FAM135A_AGASSIWYR,CASSGDGMNTEAFF_HomoSapiens:TMEM161A_TMEM161A,CASSGENTEAFF_CMV:NA_NA,CASSGQNTGELFF_MCPyV:T-Ag_KLLEIAPNC,CASSGTHNEQFF_EBV:EBNA3A_RPPIFIRRL,CASSGYTGELFF_HCV:NS3_KLVALGINAV,CASSHAGRNTEAFF_HomoSapiens:MAA_NA,CASSHQTGELFF_CMV:pp65_NLVPMVATV,CASSHREGETQYF_S-pneumoniae:NA_ECTGLAWEWWRTV,CASSIGGDYGYTF_HomoSapiens:MLANA27-35_TAA-AAGIGILTV,CASSIGQYEQYF_HCV:NS3_KLVALGINAV,CASSIGVGTEQYF_HomoSapiens:MAA_NA,CASSIGVYGYTF_Influenza:M_GILGFVFTL,CASSIRASYEQYF_Influenza:M_GILGFVFTL,CASSIRSAHEQFF_Influenza:M_GILGFVFTL,CASSIRSSYEQYF_Influenza:M_GILGFVFTL,CASSIRSTDTQYF_Influenza:M_GILGFVFTL,CASSIRSTGELFF_Influenza:M_GILGFVFTL,CASSITLNTEAFF_CMV:NA_NA,CASSLAADTQYF_EBV:NA_NA,CASSLAGDRYF_MCPyV:T-Ag_KLLEIAPNC,CASSLAGDYEQYF_CMV:pp65_NLVPMVATV,CASSLAGFRFF_MCPyV:T-Ag_KLLEIAPNC,CASSLAGFTGELFF_CMV:pp65_NLVPMVATV,CASSLAGPETQYF_HomoSapiens:TP53_p-T172I,CASSLAQGTDTQYF_HomoSapiens:LAMC1p.S1509F_NeoAg-KAKNFVTSLLSIIND,CASSLATGGEQFF_EBV:NA_NA,CASSLDENTEAFF_CMV:NA_NA,CASSLDGMNTEAFF_HomoSapiens:TMEM161A_TMEM161A,CASSLDLYGYTF_CMV:pp65_NLVPMVATV,CASSLDNEKLFF_S-pneumoniae:NA_ECTGLAWEWWRTV,CASSLDPYEQYF_HomoSapiens:CARM1_FAAQAGAWKIY,CASSLDSSNQPQHF_CMV:NA_NA,CASSLEGANYGYTF_HPV:E2-orE5-orE6-orE7_NA,CASSLEGDTEAFF_MCPyV:T-Ag_KLLEIAPNC,CASSLEGSYEQYF_EBV:BZLF1_KLVALGINAV,CASSLEGSYEQYF_HCV:NS3_KLVALGINAV,CASSLETVNTEAFF_CMV:pp65_NLVPMVATV,CASSLETVYGYTF_S-pneumoniae:NA_ECTGLAWEWWRTV,CASSLFGGTEAFF_HomoSapiens:MAA_NA,CASSLGANTGELFF_HomoSapiens:SCML2_LPDHFGLGPV,CASSLGDGNYGYTF_HPV:E2-orE5-orE6-orE7_NA,CASSLGEKLFF_HCV:NS3_KLVALGINAV,CASSLGGAEQFF_HomoSapiens:MAA_NA,CASSLGGDIQYF_HCV:NS3_KLVALGINAV,CASSLGGGPDTQYF_HomoSapiens:PMEL154-162_TAA-KTWGQYWQV,CASSLGGGTDTQYF_HomoSapiens:PMEL154-162_TAA-KTWGQYWQV,CASSLGGNTGELFF_MCPyV:T-Ag_KLLEIAPNC,CASSLGGQPQHF_HomoSapiens:MAA_NA,CASSLGGRTEAFF_HomoSapiens:BPNT1_EAGPDAVLRR,CASSLGGSSYEQYF_HomoSapiens:MLANA27-35_TAA-AAGIGILTV,CASSLGLENEQFF_EBV:BMLF1_GLCTLVAML,CASSLGLLNTEAFF_HomoSapiens:MLANA27-35_TAA-AAGIGILTV,CASSLGLSTDTQYF_HomoSapiens:NCEH1111-119p.G115R_NeoAg-YIHGRGWAL,CASSLGNTEAFF_MCPyV:T-Ag_KLLEIAPNC,CASSLGQAYEQYF_EBV:EBNA3A_FLRGRAYGL,CASSLGQAYEQYF_HomoSapiens:MLANA_EEYLKAWTF,CASSLGQGNSPLHF_CMV:pp65_NLVPMVATV,CASSLGQGNYGYTF_HomoSapiens:MLANA27-35_TAA-AAGIGILTV,CASSLGQLNTEAFF_HomoSapiens:MAA_NA,CASSLGQTNYGYTF_HomoSapiens:KRAS_GADGVGKSAL,CASSLGRGQFF_HCV:NS3_KLVALGINAV,CASSLGTGELFF_CMV:pp65_NLVPMVATV,CASSLIGRDEQFF_EBV:BZLF1_EPLPQGQLTAY,CASSLLDGNTEAFF_HPV:E2-orE5-orE6-orE7_NA,CASSLLGETQYF_EBV:NA_NA,CASSLLLDTQYF_EBV:NA_NA,CASSLLQETQYF_EBV:NA_NA,CASSLLSSNQPQHF_EBV:NA_NA,CASSLMQETQYF_EBV:NA_NA,CASSLQGYEQYF_HPV:E2-orE5-orE6-orE7_NA,CASSLREGETQYF_S-pneumoniae:NA_ECTGLAWEWWRTV,CASSLRGSYEQYV_HomoSapiens:DNMT3A_p-P282S,CASSLRNTGELFF_S-pneumoniae:NA_ECTGLAWEWWRTV,CASSLRRGEQYF_HomoSapiens:MYH6191-198_VIQYFASI,CASSLSDGNYGYTF_HPV:E2-orE5-orE6-orE7_NA,CASSLSFGTEAFF_HomoSapiens:MLANA_ELAGIGILTV_AAGIGILTV,CASSLSGQPQHF_MCPyV:T-Ag_KLLEIAPNC,CASSLSQGTEAFF_HomoSapiens:MAA_NA,CASSLTGGSEAFF_HomoSapiens:LMBRD1_FIFTSIAGIR,CASSLVDGNYGYTF_HPV:E2-orE5-orE6-orE7_NA,CASSLVGTGELFF_CMV:pp65_NLVPMVATV,CASSLWLNEQFF_CMV:pp65_NLVPMVATV,CASSLYQETQYF_EBV:NA_NA,CASSLYTGELFF_HomoSapiens:ZHX2_HPNVILNSLY,CASSMGANEQFF_HCV:NS3_KLVALGINAV,CASSMGGEQYF_HCV:NS3_KLVALGINAV,CASSMGGTYEQYF_HomoSapiens:PMEL_ITDQVPFSV_ILDQVPFSV,CASSMLFQETQYF_HPV:E2-orE5-orE6-orE7_NA,CASSMRSTGELFF_Influenza:M_GILGFVFTL,CASSNGRGTEQFF_S-pneumoniae:NA_ECTGLAWEWWRTV,CASSPARNTEAFF_CMV:pp65_RPHERNGFTV,CASSPDGMNTEAFF_HomoSapiens:TMEM161A_TMEM161A,CASSPEETQYF_M.tuberculosis:CFP10_TAAQAAVVRFQEAAN,CASSPGGATEAFF_HomoSapiens:MAA_NA,CASSPGGELFF_HCV:NS3_KLVALGINAV,CASSPGGETQYF_HomoSapiens:PMEL154-162_TAA-KTWGQYWQV,CASSPGGFEAFF_HomoSapiens:PIK3CA_p-P449T,CASSPGGGNTEAFF_S-pneumoniae:NA_ECTGLAWEWWRTV,CASSPGGNEQFF_HomoSapiens:MAA_NA,CASSPGLAGNEQFF_HomoSapiens:MAA_NA,CASSPGLLTDTQYF_HomoSapiens:MAA_NA,CASSPGLLTDTQYF_HomoSapiens:MLANA27-35_TAA-AAGIGILTV,CASSPGQLNTEAFF_HomoSapiens:MAA_NA,CASSPGQPQHF_HomoSapiens:DCAKD198-207p.S199F_NeoAg-RFLEYLPLRF,CASSPGQRNTEAFF_HomoSapiens:MAA_NA,CASSPGSETQYF_S-pneumoniae:NA_ECTGLAWEWWRTV,CASSPGTENSPLHF_HomoSapiens:KRAS_p-G13D,CASSPGTLTDTQYF_HomoSapiens:MLANA27-35_TAA-AAGIGILTV,CASSPHRNTEAFF_CMV:pp65_RPHERNGFTV,CASSPILQETQYF_HPV:E2-orE5-orE6-orE7_NA,CASSPLQGYEQYF_HPV:E2-orE5-orE6-orE7_NA,CASSPPSSGNTIYF_MCPyV:T-Ag_KLLEIAPNC,CASSPQGLGTEAFF_HomoSapiens:MAA_NA,CASSPQGVNYGYTF_S-pneumoniae:NA_ECTGLAWEWWRTV,CASSPRGDTEAFF_MCPyV:T-Ag_KLLEIAPNC,CASSPRTGNTEAFF_CMV:NA_NA,CASSPRVPNTEAFF_HomoSapiens:HIATL1_p-G380V,CASSPSGGTDTQYF_HomoSapiens:CNOT2_FNGTDGSENVTGFDLSDFPALADRN,CASSPSGLSYEQYF_HomoSapiens:MAA_NA,CASSPSRNTEAFF_CMV:pp65_RPHERNGFTV,CASSPTGVGEQFF_Influenza:M_GILGFVFTL,CASSPWDEQFF_MCPyV:T-Ag_KLLEIAPNC,CASSQDGMNTEAFF_HomoSapiens:TMEM161A_TMEM161A,CASSQDRDTQYF_CMV:UL40_VMAPRTLIL,CASSQETGSYEQFF_EBV:EBNA3A_RPPIFIRRL,CASSQETGSYEQYF_EBV:EBNA3A_RPPIFIRRL,CASSQGGGEQYF_S-pneumoniae:NA_WEWWR,CASSQGNTGELFF_HomoSapiens:KRAS_p-G13D,CASSQGQDTEAFF_HomoSapiens:GLIA-OMEGA1_QPFPQPEQPFP,CASSQGRPSTS_HomoSapiens:MAA_NA,CASSQGSYEQYF_HCV:NS3_KLVALGINAV,CASSQLGYEQYF_HPV:E2-orE5-orE6-orE7_NA,CASSQNTGELFF_HomoSapiens:TYR207-215_TAA-FLPWHRLFL,CASSQQETQYF_CEF:NA_NA,CASSQSSGANVLTF_EBV:EBV_NA,CASSQVGETQYF_MCPyV:T-Ag_KLLEIAPNC,CASSQVGGGEQFF_HomoSapiens:MAA_NA,CASSRADYGYTF_HomoSapiens:SDAD1_MAQMRKELDAAPWKSQKRKYIEIDS,CASSRDGMNTEAFF_HomoSapiens:TMEM161A_TMEM161A,CASSRGDTEAFF_HCV:NS3_KLVALGINAV,CASSRGLNNQPQHF_S-pneumoniae:NA_ECTGLAWEWWRTV,CASSRQGENQPQHF_HomoSapiens:MAGEC2254-262_TAA-NAVGVYAGR,CASSRQGLGTEAFF_HomoSapiens:MAA_NA,CASSRQTNTEAFF_CMV:NA_NA,CASSRTGSTYEQYF_EBV:BZLF1_LPEPLPQGQLTAY,CASSSADGNYGYTF_HPV:E2-orE5-orE6-orE7_NA,CASSSAFYGYTF_CMV:pp65_NLVPMVATV,CASSSANYGYTF_CMV:pp65_NLVPMVATV,CASSSAYYGYTF_CMV:pp65_NLVPMVATV,CASSSDGMNTEAFF_HomoSapiens:TMEM161A_TMEM161A,CASSSGATEAFF_HCV:NS3_KLVALGINAV,CASSSGDGNYGYTF_HPV:E2-orE5-orE6-orE7_NA,CASSSGETQYF_S-pneumoniae:NA_ECTGLAWEWWRTV,CASSSGIYGYTF_CMV:pp65_NLVPMVATV,CASSSGPSYEQYF_HomoSapiens:FLNA_RSSRTLSR,CASSSGQAYEQYF_EBV:EBNA3A_FLRGRAYGL,CASSSLNTEAFF_EBV:BZLF1_RAKFKQLL,CASSSQGGYGYTF_HomoSapiens:MAGE-A6_KVDPIGHVY,CASSSRAAYEQYF_Influenza:M_GILGFVFTL,CASSSRASYEQYF_Influenza:M_GILGFVFTL,CASSSRNSYEQYF_Influenza:NA_NA,CASSSRSSYEQYF_Influenza:M-HA_GILGFVFTL_PKYVKQNTLKLAT,CASSSVNEQFF_CMV:pp65_NLVPMVATV,CASSSVSEAFF_CMV:pp65_NLVPMVATV,CASSTDLNTEAFF_CMV:NA_NA,CASSTGDSNQPQHF_EBV:BZLF1_EPLPQGQLTAY,CASSTGFYGYTF_Influenza:M_GILGFVFTL,CASSTGNEKLFF_CMV:NA_NA,CASSTGNYGYTF_Influenza:M_GILGFVFTL,CASSTGSYGYTF_CMV:pp65_NLVPMVATV,CASSTLFQETQYF_HPV:E2-orE5-orE6-orE7_NA,CASSTRSTGELFF_CMV:pp65_NLVPMVATV,CASSTSTDTQYF_S-pneumoniae:NA_ECTGLAWEWWRTV,CASSVASGTDTQYF_EBV:EBNA3A_FLRGRAYGL,CASSVDGMNTEAFF_HomoSapiens:TMEM161A_TMEM161A,CASSVGQGKAFF_Influenza:HA_PKYVKQNTLKLAT,CASSVGWGGEQFF_EBV:NA_NA,CASSVLFQETQYF_HPV:E2-orE5-orE6-orE7_NA,CASSVLNTGELFF_MCPyV:T-Ag_KLLEIAPNC,CASSVNNEQFF_HPV:E2-orE5-orE6-orE7_NA,CASSVRSTGELFF_Influenza:M_GILGFVFTL,CASSWGGGEQYF_HCV:NS3_KLVALGINAV,CASSWGGNTEAFF_HomoSapiens:ZNF219_CLASLHPR,CASSWGSGANVLTF_HomoSapiens:KPNA2_YLRNLTWTL,CASSYGLAGGEQFF_HomoSapiens:MAA_NA,CASSYGSYEQYF_HCV:NS3_KLVALGINAV,CASSYNNEQFF_HomoSapiens:FLNA_RTWRRTRRGRR,CASSYPGTSQFF_HomoSapiens:MAA_NA,CASSYQGTEAFF_HomoSapiens:TERT_ILAKFLHWL,CASSYRGSGNTIYF_HCV:NS3_KLVALGINAV,CASSYSDGNTEAFF_HPV:E2-orE5-orE6-orE7_NA,CASSYSLNTEAFF_CMV:NA_NA,CASSYSVLNTEAFF_HomoSapiens:MAA_NA,CASSYTGELFF_HCV:NS3_KLVALGINAV,CASTDSNTGELFF_MCPyV:T-Ag_KLLEIAPNC,CASTEGNTEAFF_HomoSapiens:PMEL154-162_TAA-KTWGQYWQV,CASTLQETQYF_EBV:NA_NA,CASTNSGNTIYF_HCV:NS3_KLVALGINAV,CASTPTENTEAFF_CMV:NA_NA,CASTQGSTDTQYF_HCV:NS3_KLVALGINAV,CATGTGDSNQPQHF_EBV:BZLF1_EPLPQGQLTAY,CATRDINTGELFF_MCPyV:T-Ag_KLLEIAPNC,CATRRANEQFF_HomoSapiens:PMEL589-603_TAA-LIMPGQEAGLGQVPL,CATSAGRNEQFF_HomoSapiens:MAA_NA,CATSALGDTQYF_HomoSapiens:MBP_NPVVHFFKNIVTPR,CATSEGNEQFF_CMV:pp65_NLVPMVATV,CATSGTGHSYEQYF_HomoSapiens:PPP2R1A_p-L432S,CATTGGQNTEAFF_HomoSapiens:TP53_NSSCMGGMNLR,CAWAESSYNEQFF_HomoSapiens:TARS_p-E331K,CAWSEQVNTEAFF_HomoSapiens:UBE2I51-60p.P52L_NeoAg-TLWEGGLFKL,CAWSPDGMNTEAFF_HomoSapiens:TMEM161A_TMEM161A,CAWSPVNTEAFF_HomoSapiens:FAM50B72-80p.E78K_NeoAg-DMKARQKAL,CPSSSGDGNYGYTF_HPV:E2-orE5-orE6-orE7_NA,CSADLNTEAFF_HomoSapiens:C2orf16_TLIDVPKV,CSAEQGANTGELFF_HomoSapiens:PMEL154-162_TAA-KTWGQYWQV,CSARGADTQYF_CMV:pp65_NLVPMVATV,CSARTGYNEQFF_MCPyV:T-Ag_KLLEIAPNC,CSASEGAYGYTF_S-pneumoniae:NA_ECTGLAWEWWRTV,CSASMRDEQYF_S-pneumoniae:NA_ECTGLAWEWWRTV,CSATGGTGNTIYF_EBV:NA_NA,CSVEGDTGELFF_CMV:pp65_NLVPMVATV,CSVEGTENTGELFF_EBV:NA_NA,CSVGGAYEQYF_EBV:EBNA3A_RPPIFIRRL,CSVPLTGNTEAFF_EBV:NA_NA,CSVVDRGYGYTF_EBV:NA_NA,CTSSPILQETQYF_HPV:E2-orE5-orE6-orE7_NA,YASSLTGGTEAFF_HomoSapiens:MAA_NA\n",
       "4 CACSVLNTGELFF_MCPyV:T-Ag_KLLEIAPNC,CAGSQDGMNTEAFF_HomoSapiens:TMEM161A_TMEM161A,CAIRDSNTGELFF_MCPyV:T-Ag_KLLEIAPNC,CAIRGQNTGELFF_MCPyV:T-Ag_KLLEIAPNC,CAISEDGMNTEAFF_HomoSapiens:TMEM161A_TMEM161A,CAISGEGNTEAFF_CMV:NA_NA,CAISSGGADTQYF_S-pneumoniae:NA_ECTGLAWEWWRTV,CAISTGDSNQPQHF_EBV:BZLF1_EPLPQGQLTAY,CANSQPGGIEQFF_EBV:BZLF1_EPLPQGQLTAY,CARSVLNTGELFF_MCPyV:T-Ag_KLLEIAPNC,CASDSNTEAFF_HCV:NS3_KLVALGINAV,CASGQGQETQYF_HCV:NS3_KLVALGINAV,CASGTGDSNQPQHF_EBV:BZLF1_EPLPQGQLTAY,CASIRGYEQYF_HomoSapiens:MAA_NA,CASQGGTEAFF_HomoSapiens:MAA_NA,CASRDGDEQYF_S-pneumoniae:NA_ECTGLAWEWWRTV,CASRDQNTGELFF_MCPyV:T-Ag_KLLEIAPNC,CASRDSSSYEQYF_HomoSapiens:PLECp.P3283S_NeoAg-GGIVDSSKSHRVPLD,CASRGGFNEKLFF_CMV:NA_NA,CASRGGSSYNEQFF_MCPyV:T-Ag_KLLEIAPNC,CASRGQNTGELFF_MCPyV:T-Ag_KLLEIAPNC,CASRIGNTGELFF_HomoSapiens:KRAS_p-G13D,CASRQGGQPQHF_HomoSapiens:MAA_NA,CASRQGNTGELFF_HomoSapiens:KRAS_p-G13D,CASRRGPYEQYF_HCV:NS3_KLVALGINAV-orKLVALVINAV,CASRRSNQPQHF_HomoSapiens:CMKLR1_FLEDLSPL,CASSAGAEQYF_HomoSapiens:PIK3CA_p-P449T,CASSASNYGYTF_HomoSapiens:DDX18_VKYHYELLNYIDMPVLAIHGKQKQN,CASSDALQETQYF_CMV:pp65_NLVPMVATV,CASSDDRGPYEQYF_HCV:NS3_KLVALGINAV,CASSDGGEQYF_S-pneumoniae:NA_GLAWEWWRTV,CASSDGGVKYF_S-pneumoniae:NA_ECTGLAWEWWRTV,CASSDGVGTEAFF_HomoSapiens:RPS9p.P68S_NeoAg-AARELLTLDEKDSRRLFE,CASSDPGTEAFF_HomoSapiens:KRAS_GADGVGKSAL,CASSDSYGYTF_HCV:NS3_KLVALGINAV,CASSDYYEQYF_S-pneumoniae:NA_ECTGLAWEWWRTV,CASSEDGMNTEAFF_HomoSapiens:TMEM161A_TMEM161A,CASSEGDTEAFF_HCV:NS3_KLVALGINAV,CASSEGQGNSPLHF_MCPyV:T-Ag_KLLEIAPNC,CASSEGQSYEQYF_MCPyV:T-Ag_KLLEIAPNC,CASSESGRNTEAFX_S-pneumoniae:NA_ECTGLAWEWWRTV,CASSFDRGYGYTF_HomoSapiens:MAGE-A6_NA,CASSFGADTQYF_HCV:NS3_KLVALGINAV,CASSFGGAYEQYF_HomoSapiens:MED13_VQIISCQY,CASSFGGEQFF_HomoSapiens:DOPEY2_FRFSMIWHL,CASSFGSEQYF_MCPyV:T-Ag_KLLEIAPNC,CASSFGSYEQYF_HomoSapiens:NUP214_SVYWSPKGK,CASSFIGGTDTQYF_HomoSapiens:gp100_YLEPGPVTA,CASSFLGTGELFF_HomoSapiens:TARS_p-E331K,CASSFQGFTEAFF_CMV:pp65_NLVPMVATV,CASSFQGYTEAFF_CMV:pp65_NLVPMVATV,CASSFTLNTEAFF_CMV:NA_NA,CASSFWGNTEAFF_HomoSapiens:FAM135A_AGASSIWYR,CASSGDGMNTEAFF_HomoSapiens:TMEM161A_TMEM161A,CASSGENTEAFF_CMV:NA_NA,CASSGQNTGELFF_MCPyV:T-Ag_KLLEIAPNC,CASSGTHNEQFF_EBV:EBNA3A_RPPIFIRRL,CASSGYTGELFF_HCV:NS3_KLVALGINAV,CASSHAGRNTEAFF_HomoSapiens:MAA_NA,CASSHQTGELFF_CMV:pp65_NLVPMVATV,CASSHREGETQYF_S-pneumoniae:NA_ECTGLAWEWWRTV,CASSIGGDYGYTF_HomoSapiens:MLANA27-35_TAA-AAGIGILTV,CASSIGQYEQYF_HCV:NS3_KLVALGINAV,CASSIGVGTEQYF_HomoSapiens:MAA_NA,CASSIGVYGYTF_Influenza:M_GILGFVFTL,CASSIRASYEQYF_Influenza:M_GILGFVFTL,CASSIRSAHEQFF_Influenza:M_GILGFVFTL,CASSIRSSYEQYF_Influenza:M_GILGFVFTL,CASSIRSTDTQYF_Influenza:M_GILGFVFTL,CASSIRSTGELFF_Influenza:M_GILGFVFTL,CASSITLNTEAFF_CMV:NA_NA,CASSLAADTQYF_EBV:NA_NA,CASSLAGDRYF_MCPyV:T-Ag_KLLEIAPNC,CASSLAGDYEQYF_CMV:pp65_NLVPMVATV,CASSLAGFRFF_MCPyV:T-Ag_KLLEIAPNC,CASSLAGFTGELFF_CMV:pp65_NLVPMVATV,CASSLAGPETQYF_HomoSapiens:TP53_p-T172I,CASSLAQGTDTQYF_HomoSapiens:LAMC1p.S1509F_NeoAg-KAKNFVTSLLSIIND,CASSLATGGEQFF_EBV:NA_NA,CASSLDENTEAFF_CMV:NA_NA,CASSLDGMNTEAFF_HomoSapiens:TMEM161A_TMEM161A,CASSLDLYGYTF_CMV:pp65_NLVPMVATV,CASSLDNEKLFF_S-pneumoniae:NA_ECTGLAWEWWRTV,CASSLDPYEQYF_HomoSapiens:CARM1_FAAQAGAWKIY,CASSLDSSNQPQHF_CMV:NA_NA,CASSLEGANYGYTF_HPV:E2-orE5-orE6-orE7_NA,CASSLEGDTEAFF_MCPyV:T-Ag_KLLEIAPNC,CASSLEGSYEQYF_EBV:BZLF1_KLVALGINAV,CASSLEGSYEQYF_HCV:NS3_KLVALGINAV,CASSLETVNTEAFF_CMV:pp65_NLVPMVATV,CASSLETVYGYTF_S-pneumoniae:NA_ECTGLAWEWWRTV,CASSLFGGTEAFF_HomoSapiens:MAA_NA,CASSLGANTGELFF_HomoSapiens:SCML2_LPDHFGLGPV,CASSLGDGNYGYTF_HPV:E2-orE5-orE6-orE7_NA,CASSLGEKLFF_HCV:NS3_KLVALGINAV,CASSLGGAEQFF_HomoSapiens:MAA_NA,CASSLGGDIQYF_HCV:NS3_KLVALGINAV,CASSLGGGPDTQYF_HomoSapiens:PMEL154-162_TAA-KTWGQYWQV,CASSLGGGTDTQYF_HomoSapiens:PMEL154-162_TAA-KTWGQYWQV,CASSLGGNTGELFF_MCPyV:T-Ag_KLLEIAPNC,CASSLGGQPQHF_HomoSapiens:MAA_NA,CASSLGGRTEAFF_HomoSapiens:BPNT1_EAGPDAVLRR,CASSLGGSSYEQYF_HomoSapiens:MLANA27-35_TAA-AAGIGILTV,CASSLGLENEQFF_EBV:BMLF1_GLCTLVAML,CASSLGLLNTEAFF_HomoSapiens:MLANA27-35_TAA-AAGIGILTV,CASSLGLSTDTQYF_HomoSapiens:NCEH1111-119p.G115R_NeoAg-YIHGRGWAL,CASSLGNTEAFF_MCPyV:T-Ag_KLLEIAPNC,CASSLGQAYEQYF_EBV:EBNA3A_FLRGRAYGL,CASSLGQAYEQYF_HomoSapiens:MLANA_EEYLKAWTF,CASSLGQGNSPLHF_CMV:pp65_NLVPMVATV,CASSLGQGNYGYTF_HomoSapiens:MLANA27-35_TAA-AAGIGILTV,CASSLGQLNTEAFF_HomoSapiens:MAA_NA,CASSLGQTNYGYTF_HomoSapiens:KRAS_GADGVGKSAL,CASSLGRGQFF_HCV:NS3_KLVALGINAV,CASSLGTGELFF_CMV:pp65_NLVPMVATV,CASSLIGRDEQFF_EBV:BZLF1_EPLPQGQLTAY,CASSLLDGNTEAFF_HPV:E2-orE5-orE6-orE7_NA,CASSLLGETQYF_EBV:NA_NA,CASSLLLDTQYF_EBV:NA_NA,CASSLLQETQYF_EBV:NA_NA,CASSLLSSNQPQHF_EBV:NA_NA,CASSLMQETQYF_EBV:NA_NA,CASSLQGYEQYF_HPV:E2-orE5-orE6-orE7_NA,CASSLREGETQYF_S-pneumoniae:NA_ECTGLAWEWWRTV,CASSLRGSYEQYV_HomoSapiens:DNMT3A_p-P282S,CASSLRNTGELFF_S-pneumoniae:NA_ECTGLAWEWWRTV,CASSLRRGEQYF_HomoSapiens:MYH6191-198_VIQYFASI,CASSLSDGNYGYTF_HPV:E2-orE5-orE6-orE7_NA,CASSLSFGTEAFF_HomoSapiens:MLANA_ELAGIGILTV_AAGIGILTV,CASSLSGQPQHF_MCPyV:T-Ag_KLLEIAPNC,CASSLSQGTEAFF_HomoSapiens:MAA_NA,CASSLTGGSEAFF_HomoSapiens:LMBRD1_FIFTSIAGIR,CASSLVDGNYGYTF_HPV:E2-orE5-orE6-orE7_NA,CASSLVGTGELFF_CMV:pp65_NLVPMVATV,CASSLWLNEQFF_CMV:pp65_NLVPMVATV,CASSLYQETQYF_EBV:NA_NA,CASSLYTGELFF_HomoSapiens:ZHX2_HPNVILNSLY,CASSMGANEQFF_HCV:NS3_KLVALGINAV,CASSMGGEQYF_HCV:NS3_KLVALGINAV,CASSMGGTYEQYF_HomoSapiens:PMEL_ITDQVPFSV_ILDQVPFSV,CASSMLFQETQYF_HPV:E2-orE5-orE6-orE7_NA,CASSMRSTGELFF_Influenza:M_GILGFVFTL,CASSNGRGTEQFF_S-pneumoniae:NA_ECTGLAWEWWRTV,CASSPARNTEAFF_CMV:pp65_RPHERNGFTV,CASSPDGMNTEAFF_HomoSapiens:TMEM161A_TMEM161A,CASSPEETQYF_M.tuberculosis:CFP10_TAAQAAVVRFQEAAN,CASSPGGATEAFF_HomoSapiens:MAA_NA,CASSPGGELFF_HCV:NS3_KLVALGINAV,CASSPGGETQYF_HomoSapiens:PMEL154-162_TAA-KTWGQYWQV,CASSPGGFEAFF_HomoSapiens:PIK3CA_p-P449T,CASSPGGGNTEAFF_S-pneumoniae:NA_ECTGLAWEWWRTV,CASSPGGNEQFF_HomoSapiens:MAA_NA,CASSPGLAGNEQFF_HomoSapiens:MAA_NA,CASSPGLLTDTQYF_HomoSapiens:MAA_NA,CASSPGLLTDTQYF_HomoSapiens:MLANA27-35_TAA-AAGIGILTV,CASSPGQLNTEAFF_HomoSapiens:MAA_NA,CASSPGQPQHF_HomoSapiens:DCAKD198-207p.S199F_NeoAg-RFLEYLPLRF,CASSPGQRNTEAFF_HomoSapiens:MAA_NA,CASSPGSETQYF_S-pneumoniae:NA_ECTGLAWEWWRTV,CASSPGTENSPLHF_HomoSapiens:KRAS_p-G13D,CASSPGTLTDTQYF_HomoSapiens:MLANA27-35_TAA-AAGIGILTV,CASSPHRNTEAFF_CMV:pp65_RPHERNGFTV,CASSPILQETQYF_HPV:E2-orE5-orE6-orE7_NA,CASSPLQGYEQYF_HPV:E2-orE5-orE6-orE7_NA,CASSPPSSGNTIYF_MCPyV:T-Ag_KLLEIAPNC,CASSPQGLGTEAFF_HomoSapiens:MAA_NA,CASSPQGVNYGYTF_S-pneumoniae:NA_ECTGLAWEWWRTV,CASSPRGDTEAFF_MCPyV:T-Ag_KLLEIAPNC,CASSPRTGNTEAFF_CMV:NA_NA,CASSPRVPNTEAFF_HomoSapiens:HIATL1_p-G380V,CASSPSGGTDTQYF_HomoSapiens:CNOT2_FNGTDGSENVTGFDLSDFPALADRN,CASSPSGLSYEQYF_HomoSapiens:MAA_NA,CASSPSRNTEAFF_CMV:pp65_RPHERNGFTV,CASSPTGVGEQFF_Influenza:M_GILGFVFTL,CASSPWDEQFF_MCPyV:T-Ag_KLLEIAPNC,CASSQDGMNTEAFF_HomoSapiens:TMEM161A_TMEM161A,CASSQDRDTQYF_CMV:UL40_VMAPRTLIL,CASSQETGSYEQFF_EBV:EBNA3A_RPPIFIRRL,CASSQETGSYEQYF_EBV:EBNA3A_RPPIFIRRL,CASSQGGGEQYF_S-pneumoniae:NA_WEWWR,CASSQGNTGELFF_HomoSapiens:KRAS_p-G13D,CASSQGQDTEAFF_HomoSapiens:GLIA-OMEGA1_QPFPQPEQPFP,CASSQGRPSTS_HomoSapiens:MAA_NA,CASSQGSYEQYF_HCV:NS3_KLVALGINAV,CASSQLGYEQYF_HPV:E2-orE5-orE6-orE7_NA,CASSQNTGELFF_HomoSapiens:TYR207-215_TAA-FLPWHRLFL,CASSQQETQYF_CEF:NA_NA,CASSQSSGANVLTF_EBV:EBV_NA,CASSQVGETQYF_MCPyV:T-Ag_KLLEIAPNC,CASSQVGGGEQFF_HomoSapiens:MAA_NA,CASSRADYGYTF_HomoSapiens:SDAD1_MAQMRKELDAAPWKSQKRKYIEIDS,CASSRDGMNTEAFF_HomoSapiens:TMEM161A_TMEM161A,CASSRGDTEAFF_HCV:NS3_KLVALGINAV,CASSRGLNNQPQHF_S-pneumoniae:NA_ECTGLAWEWWRTV,CASSRQGENQPQHF_HomoSapiens:MAGEC2254-262_TAA-NAVGVYAGR,CASSRQGLGTEAFF_HomoSapiens:MAA_NA,CASSRQTNTEAFF_CMV:NA_NA,CASSRTGSTYEQYF_EBV:BZLF1_LPEPLPQGQLTAY,CASSSADGNYGYTF_HPV:E2-orE5-orE6-orE7_NA,CASSSAFYGYTF_CMV:pp65_NLVPMVATV,CASSSANYGYTF_CMV:pp65_NLVPMVATV,CASSSAYYGYTF_CMV:pp65_NLVPMVATV,CASSSDGMNTEAFF_HomoSapiens:TMEM161A_TMEM161A,CASSSGATEAFF_HCV:NS3_KLVALGINAV,CASSSGDGNYGYTF_HPV:E2-orE5-orE6-orE7_NA,CASSSGETQYF_S-pneumoniae:NA_ECTGLAWEWWRTV,CASSSGIYGYTF_CMV:pp65_NLVPMVATV,CASSSGPSYEQYF_HomoSapiens:FLNA_RSSRTLSR,CASSSGQAYEQYF_EBV:EBNA3A_FLRGRAYGL,CASSSLNTEAFF_EBV:BZLF1_RAKFKQLL,CASSSQGGYGYTF_HomoSapiens:MAGE-A6_KVDPIGHVY,CASSSRAAYEQYF_Influenza:M_GILGFVFTL,CASSSRASYEQYF_Influenza:M_GILGFVFTL,CASSSRNSYEQYF_Influenza:NA_NA,CASSSRSSYEQYF_Influenza:M-HA_GILGFVFTL_PKYVKQNTLKLAT,CASSSVNEQFF_CMV:pp65_NLVPMVATV,CASSSVSEAFF_CMV:pp65_NLVPMVATV,CASSTDLNTEAFF_CMV:NA_NA,CASSTGDSNQPQHF_EBV:BZLF1_EPLPQGQLTAY,CASSTGFYGYTF_Influenza:M_GILGFVFTL,CASSTGNEKLFF_CMV:NA_NA,CASSTGNYGYTF_Influenza:M_GILGFVFTL,CASSTGSYGYTF_CMV:pp65_NLVPMVATV,CASSTLFQETQYF_HPV:E2-orE5-orE6-orE7_NA,CASSTRSTGELFF_CMV:pp65_NLVPMVATV,CASSTSTDTQYF_S-pneumoniae:NA_ECTGLAWEWWRTV,CASSVASGTDTQYF_EBV:EBNA3A_FLRGRAYGL,CASSVDGMNTEAFF_HomoSapiens:TMEM161A_TMEM161A,CASSVGQGKAFF_Influenza:HA_PKYVKQNTLKLAT,CASSVGWGGEQFF_EBV:NA_NA,CASSVLFQETQYF_HPV:E2-orE5-orE6-orE7_NA,CASSVLNTGELFF_MCPyV:T-Ag_KLLEIAPNC,CASSVNNEQFF_HPV:E2-orE5-orE6-orE7_NA,CASSVRSTGELFF_Influenza:M_GILGFVFTL,CASSWGGGEQYF_HCV:NS3_KLVALGINAV,CASSWGGNTEAFF_HomoSapiens:ZNF219_CLASLHPR,CASSWGSGANVLTF_HomoSapiens:KPNA2_YLRNLTWTL,CASSYGLAGGEQFF_HomoSapiens:MAA_NA,CASSYGSYEQYF_HCV:NS3_KLVALGINAV,CASSYNNEQFF_HomoSapiens:FLNA_RTWRRTRRGRR,CASSYPGTSQFF_HomoSapiens:MAA_NA,CASSYQGTEAFF_HomoSapiens:TERT_ILAKFLHWL,CASSYRGSGNTIYF_HCV:NS3_KLVALGINAV,CASSYSDGNTEAFF_HPV:E2-orE5-orE6-orE7_NA,CASSYSLNTEAFF_CMV:NA_NA,CASSYSVLNTEAFF_HomoSapiens:MAA_NA,CASSYTGELFF_HCV:NS3_KLVALGINAV,CASTDSNTGELFF_MCPyV:T-Ag_KLLEIAPNC,CASTEGNTEAFF_HomoSapiens:PMEL154-162_TAA-KTWGQYWQV,CASTLQETQYF_EBV:NA_NA,CASTNSGNTIYF_HCV:NS3_KLVALGINAV,CASTPTENTEAFF_CMV:NA_NA,CASTQGSTDTQYF_HCV:NS3_KLVALGINAV,CATGTGDSNQPQHF_EBV:BZLF1_EPLPQGQLTAY,CATRDINTGELFF_MCPyV:T-Ag_KLLEIAPNC,CATRRANEQFF_HomoSapiens:PMEL589-603_TAA-LIMPGQEAGLGQVPL,CATSAGRNEQFF_HomoSapiens:MAA_NA,CATSALGDTQYF_HomoSapiens:MBP_NPVVHFFKNIVTPR,CATSEGNEQFF_CMV:pp65_NLVPMVATV,CATSGTGHSYEQYF_HomoSapiens:PPP2R1A_p-L432S,CATTGGQNTEAFF_HomoSapiens:TP53_NSSCMGGMNLR,CAWAESSYNEQFF_HomoSapiens:TARS_p-E331K,CAWSEQVNTEAFF_HomoSapiens:UBE2I51-60p.P52L_NeoAg-TLWEGGLFKL,CAWSPDGMNTEAFF_HomoSapiens:TMEM161A_TMEM161A,CAWSPVNTEAFF_HomoSapiens:FAM50B72-80p.E78K_NeoAg-DMKARQKAL,CPSSSGDGNYGYTF_HPV:E2-orE5-orE6-orE7_NA,CSADLNTEAFF_HomoSapiens:C2orf16_TLIDVPKV,CSAEQGANTGELFF_HomoSapiens:PMEL154-162_TAA-KTWGQYWQV,CSARGADTQYF_CMV:pp65_NLVPMVATV,CSARTGYNEQFF_MCPyV:T-Ag_KLLEIAPNC,CSASEGAYGYTF_S-pneumoniae:NA_ECTGLAWEWWRTV,CSASMRDEQYF_S-pneumoniae:NA_ECTGLAWEWWRTV,CSATGGTGNTIYF_EBV:NA_NA,CSVEGDTGELFF_CMV:pp65_NLVPMVATV,CSVEGTENTGELFF_EBV:NA_NA,CSVGGAYEQYF_EBV:EBNA3A_RPPIFIRRL,CSVPLTGNTEAFF_EBV:NA_NA,CSVVDRGYGYTF_EBV:NA_NA,CTSSPILQETQYF_HPV:E2-orE5-orE6-orE7_NA,YASSLTGGTEAFF_HomoSapiens:MAA_NA\n",
       "5 CACSVLNTGELFF_MCPyV:T-Ag_KLLEIAPNC,CAGSQDGMNTEAFF_HomoSapiens:TMEM161A_TMEM161A,CAIRDSNTGELFF_MCPyV:T-Ag_KLLEIAPNC,CAIRGQNTGELFF_MCPyV:T-Ag_KLLEIAPNC,CAISEDGMNTEAFF_HomoSapiens:TMEM161A_TMEM161A,CAISGEGNTEAFF_CMV:NA_NA,CAISSGGADTQYF_S-pneumoniae:NA_ECTGLAWEWWRTV,CAISTGDSNQPQHF_EBV:BZLF1_EPLPQGQLTAY,CANSQPGGIEQFF_EBV:BZLF1_EPLPQGQLTAY,CARSVLNTGELFF_MCPyV:T-Ag_KLLEIAPNC,CASDSNTEAFF_HCV:NS3_KLVALGINAV,CASGQGQETQYF_HCV:NS3_KLVALGINAV,CASGTGDSNQPQHF_EBV:BZLF1_EPLPQGQLTAY,CASIRGYEQYF_HomoSapiens:MAA_NA,CASQGGTEAFF_HomoSapiens:MAA_NA,CASRDGDEQYF_S-pneumoniae:NA_ECTGLAWEWWRTV,CASRDQNTGELFF_MCPyV:T-Ag_KLLEIAPNC,CASRDSSSYEQYF_HomoSapiens:PLECp.P3283S_NeoAg-GGIVDSSKSHRVPLD,CASRGGFNEKLFF_CMV:NA_NA,CASRGGSSYNEQFF_MCPyV:T-Ag_KLLEIAPNC,CASRGQNTGELFF_MCPyV:T-Ag_KLLEIAPNC,CASRIGNTGELFF_HomoSapiens:KRAS_p-G13D,CASRQGGQPQHF_HomoSapiens:MAA_NA,CASRQGNTGELFF_HomoSapiens:KRAS_p-G13D,CASRRGPYEQYF_HCV:NS3_KLVALGINAV-orKLVALVINAV,CASRRSNQPQHF_HomoSapiens:CMKLR1_FLEDLSPL,CASSAGAEQYF_HomoSapiens:PIK3CA_p-P449T,CASSASNYGYTF_HomoSapiens:DDX18_VKYHYELLNYIDMPVLAIHGKQKQN,CASSDALQETQYF_CMV:pp65_NLVPMVATV,CASSDDRGPYEQYF_HCV:NS3_KLVALGINAV,CASSDGGEQYF_S-pneumoniae:NA_GLAWEWWRTV,CASSDGGVKYF_S-pneumoniae:NA_ECTGLAWEWWRTV,CASSDGVGTEAFF_HomoSapiens:RPS9p.P68S_NeoAg-AARELLTLDEKDSRRLFE,CASSDPGTEAFF_HomoSapiens:KRAS_GADGVGKSAL,CASSDSYGYTF_HCV:NS3_KLVALGINAV,CASSDYYEQYF_S-pneumoniae:NA_ECTGLAWEWWRTV,CASSEDGMNTEAFF_HomoSapiens:TMEM161A_TMEM161A,CASSEGDTEAFF_HCV:NS3_KLVALGINAV,CASSEGQGNSPLHF_MCPyV:T-Ag_KLLEIAPNC,CASSEGQSYEQYF_MCPyV:T-Ag_KLLEIAPNC,CASSESGRNTEAFX_S-pneumoniae:NA_ECTGLAWEWWRTV,CASSFDRGYGYTF_HomoSapiens:MAGE-A6_NA,CASSFGADTQYF_HCV:NS3_KLVALGINAV,CASSFGGAYEQYF_HomoSapiens:MED13_VQIISCQY,CASSFGGEQFF_HomoSapiens:DOPEY2_FRFSMIWHL,CASSFGSEQYF_MCPyV:T-Ag_KLLEIAPNC,CASSFGSYEQYF_HomoSapiens:NUP214_SVYWSPKGK,CASSFIGGTDTQYF_HomoSapiens:gp100_YLEPGPVTA,CASSFLGTGELFF_HomoSapiens:TARS_p-E331K,CASSFQGFTEAFF_CMV:pp65_NLVPMVATV,CASSFQGYTEAFF_CMV:pp65_NLVPMVATV,CASSFTLNTEAFF_CMV:NA_NA,CASSFWGNTEAFF_HomoSapiens:FAM135A_AGASSIWYR,CASSGDGMNTEAFF_HomoSapiens:TMEM161A_TMEM161A,CASSGENTEAFF_CMV:NA_NA,CASSGQNTGELFF_MCPyV:T-Ag_KLLEIAPNC,CASSGTHNEQFF_EBV:EBNA3A_RPPIFIRRL,CASSGYTGELFF_HCV:NS3_KLVALGINAV,CASSHAGRNTEAFF_HomoSapiens:MAA_NA,CASSHQTGELFF_CMV:pp65_NLVPMVATV,CASSHREGETQYF_S-pneumoniae:NA_ECTGLAWEWWRTV,CASSIGGDYGYTF_HomoSapiens:MLANA27-35_TAA-AAGIGILTV,CASSIGQYEQYF_HCV:NS3_KLVALGINAV,CASSIGVGTEQYF_HomoSapiens:MAA_NA,CASSIGVYGYTF_Influenza:M_GILGFVFTL,CASSIRASYEQYF_Influenza:M_GILGFVFTL,CASSIRSAHEQFF_Influenza:M_GILGFVFTL,CASSIRSSYEQYF_Influenza:M_GILGFVFTL,CASSIRSTDTQYF_Influenza:M_GILGFVFTL,CASSIRSTGELFF_Influenza:M_GILGFVFTL,CASSITLNTEAFF_CMV:NA_NA,CASSLAADTQYF_EBV:NA_NA,CASSLAGDRYF_MCPyV:T-Ag_KLLEIAPNC,CASSLAGDYEQYF_CMV:pp65_NLVPMVATV,CASSLAGFRFF_MCPyV:T-Ag_KLLEIAPNC,CASSLAGFTGELFF_CMV:pp65_NLVPMVATV,CASSLAGPETQYF_HomoSapiens:TP53_p-T172I,CASSLAQGTDTQYF_HomoSapiens:LAMC1p.S1509F_NeoAg-KAKNFVTSLLSIIND,CASSLATGGEQFF_EBV:NA_NA,CASSLDENTEAFF_CMV:NA_NA,CASSLDGMNTEAFF_HomoSapiens:TMEM161A_TMEM161A,CASSLDLYGYTF_CMV:pp65_NLVPMVATV,CASSLDNEKLFF_S-pneumoniae:NA_ECTGLAWEWWRTV,CASSLDPYEQYF_HomoSapiens:CARM1_FAAQAGAWKIY,CASSLDSSNQPQHF_CMV:NA_NA,CASSLEGANYGYTF_HPV:E2-orE5-orE6-orE7_NA,CASSLEGDTEAFF_MCPyV:T-Ag_KLLEIAPNC,CASSLEGSYEQYF_EBV:BZLF1_KLVALGINAV,CASSLEGSYEQYF_HCV:NS3_KLVALGINAV,CASSLETVNTEAFF_CMV:pp65_NLVPMVATV,CASSLETVYGYTF_S-pneumoniae:NA_ECTGLAWEWWRTV,CASSLFGGTEAFF_HomoSapiens:MAA_NA,CASSLGANTGELFF_HomoSapiens:SCML2_LPDHFGLGPV,CASSLGDGNYGYTF_HPV:E2-orE5-orE6-orE7_NA,CASSLGEKLFF_HCV:NS3_KLVALGINAV,CASSLGGAEQFF_HomoSapiens:MAA_NA,CASSLGGDIQYF_HCV:NS3_KLVALGINAV,CASSLGGGPDTQYF_HomoSapiens:PMEL154-162_TAA-KTWGQYWQV,CASSLGGGTDTQYF_HomoSapiens:PMEL154-162_TAA-KTWGQYWQV,CASSLGGNTGELFF_MCPyV:T-Ag_KLLEIAPNC,CASSLGGQPQHF_HomoSapiens:MAA_NA,CASSLGGRTEAFF_HomoSapiens:BPNT1_EAGPDAVLRR,CASSLGGSSYEQYF_HomoSapiens:MLANA27-35_TAA-AAGIGILTV,CASSLGLENEQFF_EBV:BMLF1_GLCTLVAML,CASSLGLLNTEAFF_HomoSapiens:MLANA27-35_TAA-AAGIGILTV,CASSLGLSTDTQYF_HomoSapiens:NCEH1111-119p.G115R_NeoAg-YIHGRGWAL,CASSLGNTEAFF_MCPyV:T-Ag_KLLEIAPNC,CASSLGQAYEQYF_EBV:EBNA3A_FLRGRAYGL,CASSLGQAYEQYF_HomoSapiens:MLANA_EEYLKAWTF,CASSLGQGNSPLHF_CMV:pp65_NLVPMVATV,CASSLGQGNYGYTF_HomoSapiens:MLANA27-35_TAA-AAGIGILTV,CASSLGQLNTEAFF_HomoSapiens:MAA_NA,CASSLGQTNYGYTF_HomoSapiens:KRAS_GADGVGKSAL,CASSLGRGQFF_HCV:NS3_KLVALGINAV,CASSLGTGELFF_CMV:pp65_NLVPMVATV,CASSLIGRDEQFF_EBV:BZLF1_EPLPQGQLTAY,CASSLLDGNTEAFF_HPV:E2-orE5-orE6-orE7_NA,CASSLLGETQYF_EBV:NA_NA,CASSLLLDTQYF_EBV:NA_NA,CASSLLQETQYF_EBV:NA_NA,CASSLLSSNQPQHF_EBV:NA_NA,CASSLMQETQYF_EBV:NA_NA,CASSLQGYEQYF_HPV:E2-orE5-orE6-orE7_NA,CASSLREGETQYF_S-pneumoniae:NA_ECTGLAWEWWRTV,CASSLRGSYEQYV_HomoSapiens:DNMT3A_p-P282S,CASSLRNTGELFF_S-pneumoniae:NA_ECTGLAWEWWRTV,CASSLRRGEQYF_HomoSapiens:MYH6191-198_VIQYFASI,CASSLSDGNYGYTF_HPV:E2-orE5-orE6-orE7_NA,CASSLSFGTEAFF_HomoSapiens:MLANA_ELAGIGILTV_AAGIGILTV,CASSLSGQPQHF_MCPyV:T-Ag_KLLEIAPNC,CASSLSQGTEAFF_HomoSapiens:MAA_NA,CASSLTGGSEAFF_HomoSapiens:LMBRD1_FIFTSIAGIR,CASSLVDGNYGYTF_HPV:E2-orE5-orE6-orE7_NA,CASSLVGTGELFF_CMV:pp65_NLVPMVATV,CASSLWLNEQFF_CMV:pp65_NLVPMVATV,CASSLYQETQYF_EBV:NA_NA,CASSLYTGELFF_HomoSapiens:ZHX2_HPNVILNSLY,CASSMGANEQFF_HCV:NS3_KLVALGINAV,CASSMGGEQYF_HCV:NS3_KLVALGINAV,CASSMGGTYEQYF_HomoSapiens:PMEL_ITDQVPFSV_ILDQVPFSV,CASSMLFQETQYF_HPV:E2-orE5-orE6-orE7_NA,CASSMRSTGELFF_Influenza:M_GILGFVFTL,CASSNGRGTEQFF_S-pneumoniae:NA_ECTGLAWEWWRTV,CASSPARNTEAFF_CMV:pp65_RPHERNGFTV,CASSPDGMNTEAFF_HomoSapiens:TMEM161A_TMEM161A,CASSPEETQYF_M.tuberculosis:CFP10_TAAQAAVVRFQEAAN,CASSPGGATEAFF_HomoSapiens:MAA_NA,CASSPGGELFF_HCV:NS3_KLVALGINAV,CASSPGGETQYF_HomoSapiens:PMEL154-162_TAA-KTWGQYWQV,CASSPGGFEAFF_HomoSapiens:PIK3CA_p-P449T,CASSPGGGNTEAFF_S-pneumoniae:NA_ECTGLAWEWWRTV,CASSPGGNEQFF_HomoSapiens:MAA_NA,CASSPGLAGNEQFF_HomoSapiens:MAA_NA,CASSPGLLTDTQYF_HomoSapiens:MAA_NA,CASSPGLLTDTQYF_HomoSapiens:MLANA27-35_TAA-AAGIGILTV,CASSPGQLNTEAFF_HomoSapiens:MAA_NA,CASSPGQPQHF_HomoSapiens:DCAKD198-207p.S199F_NeoAg-RFLEYLPLRF,CASSPGQRNTEAFF_HomoSapiens:MAA_NA,CASSPGSETQYF_S-pneumoniae:NA_ECTGLAWEWWRTV,CASSPGTENSPLHF_HomoSapiens:KRAS_p-G13D,CASSPGTLTDTQYF_HomoSapiens:MLANA27-35_TAA-AAGIGILTV,CASSPHRNTEAFF_CMV:pp65_RPHERNGFTV,CASSPILQETQYF_HPV:E2-orE5-orE6-orE7_NA,CASSPLQGYEQYF_HPV:E2-orE5-orE6-orE7_NA,CASSPPSSGNTIYF_MCPyV:T-Ag_KLLEIAPNC,CASSPQGLGTEAFF_HomoSapiens:MAA_NA,CASSPQGVNYGYTF_S-pneumoniae:NA_ECTGLAWEWWRTV,CASSPRGDTEAFF_MCPyV:T-Ag_KLLEIAPNC,CASSPRTGNTEAFF_CMV:NA_NA,CASSPRVPNTEAFF_HomoSapiens:HIATL1_p-G380V,CASSPSGGTDTQYF_HomoSapiens:CNOT2_FNGTDGSENVTGFDLSDFPALADRN,CASSPSGLSYEQYF_HomoSapiens:MAA_NA,CASSPSRNTEAFF_CMV:pp65_RPHERNGFTV,CASSPTGVGEQFF_Influenza:M_GILGFVFTL,CASSPWDEQFF_MCPyV:T-Ag_KLLEIAPNC,CASSQDGMNTEAFF_HomoSapiens:TMEM161A_TMEM161A,CASSQDRDTQYF_CMV:UL40_VMAPRTLIL,CASSQETGSYEQFF_EBV:EBNA3A_RPPIFIRRL,CASSQETGSYEQYF_EBV:EBNA3A_RPPIFIRRL,CASSQGGGEQYF_S-pneumoniae:NA_WEWWR,CASSQGNTGELFF_HomoSapiens:KRAS_p-G13D,CASSQGQDTEAFF_HomoSapiens:GLIA-OMEGA1_QPFPQPEQPFP,CASSQGRPSTS_HomoSapiens:MAA_NA,CASSQGSYEQYF_HCV:NS3_KLVALGINAV,CASSQLGYEQYF_HPV:E2-orE5-orE6-orE7_NA,CASSQNTGELFF_HomoSapiens:TYR207-215_TAA-FLPWHRLFL,CASSQQETQYF_CEF:NA_NA,CASSQSSGANVLTF_EBV:EBV_NA,CASSQVGETQYF_MCPyV:T-Ag_KLLEIAPNC,CASSQVGGGEQFF_HomoSapiens:MAA_NA,CASSRADYGYTF_HomoSapiens:SDAD1_MAQMRKELDAAPWKSQKRKYIEIDS,CASSRDGMNTEAFF_HomoSapiens:TMEM161A_TMEM161A,CASSRGDTEAFF_HCV:NS3_KLVALGINAV,CASSRGLNNQPQHF_S-pneumoniae:NA_ECTGLAWEWWRTV,CASSRQGENQPQHF_HomoSapiens:MAGEC2254-262_TAA-NAVGVYAGR,CASSRQGLGTEAFF_HomoSapiens:MAA_NA,CASSRQTNTEAFF_CMV:NA_NA,CASSRTGSTYEQYF_EBV:BZLF1_LPEPLPQGQLTAY,CASSSADGNYGYTF_HPV:E2-orE5-orE6-orE7_NA,CASSSAFYGYTF_CMV:pp65_NLVPMVATV,CASSSANYGYTF_CMV:pp65_NLVPMVATV,CASSSAYYGYTF_CMV:pp65_NLVPMVATV,CASSSDGMNTEAFF_HomoSapiens:TMEM161A_TMEM161A,CASSSGATEAFF_HCV:NS3_KLVALGINAV,CASSSGDGNYGYTF_HPV:E2-orE5-orE6-orE7_NA,CASSSGETQYF_S-pneumoniae:NA_ECTGLAWEWWRTV,CASSSGIYGYTF_CMV:pp65_NLVPMVATV,CASSSGPSYEQYF_HomoSapiens:FLNA_RSSRTLSR,CASSSGQAYEQYF_EBV:EBNA3A_FLRGRAYGL,CASSSLNTEAFF_EBV:BZLF1_RAKFKQLL,CASSSQGGYGYTF_HomoSapiens:MAGE-A6_KVDPIGHVY,CASSSRAAYEQYF_Influenza:M_GILGFVFTL,CASSSRASYEQYF_Influenza:M_GILGFVFTL,CASSSRNSYEQYF_Influenza:NA_NA,CASSSRSSYEQYF_Influenza:M-HA_GILGFVFTL_PKYVKQNTLKLAT,CASSSVNEQFF_CMV:pp65_NLVPMVATV,CASSSVSEAFF_CMV:pp65_NLVPMVATV,CASSTDLNTEAFF_CMV:NA_NA,CASSTGDSNQPQHF_EBV:BZLF1_EPLPQGQLTAY,CASSTGFYGYTF_Influenza:M_GILGFVFTL,CASSTGNEKLFF_CMV:NA_NA,CASSTGNYGYTF_Influenza:M_GILGFVFTL,CASSTGSYGYTF_CMV:pp65_NLVPMVATV,CASSTLFQETQYF_HPV:E2-orE5-orE6-orE7_NA,CASSTRSTGELFF_CMV:pp65_NLVPMVATV,CASSTSTDTQYF_S-pneumoniae:NA_ECTGLAWEWWRTV,CASSVASGTDTQYF_EBV:EBNA3A_FLRGRAYGL,CASSVDGMNTEAFF_HomoSapiens:TMEM161A_TMEM161A,CASSVGQGKAFF_Influenza:HA_PKYVKQNTLKLAT,CASSVGWGGEQFF_EBV:NA_NA,CASSVLFQETQYF_HPV:E2-orE5-orE6-orE7_NA,CASSVLNTGELFF_MCPyV:T-Ag_KLLEIAPNC,CASSVNNEQFF_HPV:E2-orE5-orE6-orE7_NA,CASSVRSTGELFF_Influenza:M_GILGFVFTL,CASSWGGGEQYF_HCV:NS3_KLVALGINAV,CASSWGGNTEAFF_HomoSapiens:ZNF219_CLASLHPR,CASSWGSGANVLTF_HomoSapiens:KPNA2_YLRNLTWTL,CASSYGLAGGEQFF_HomoSapiens:MAA_NA,CASSYGSYEQYF_HCV:NS3_KLVALGINAV,CASSYNNEQFF_HomoSapiens:FLNA_RTWRRTRRGRR,CASSYPGTSQFF_HomoSapiens:MAA_NA,CASSYQGTEAFF_HomoSapiens:TERT_ILAKFLHWL,CASSYRGSGNTIYF_HCV:NS3_KLVALGINAV,CASSYSDGNTEAFF_HPV:E2-orE5-orE6-orE7_NA,CASSYSLNTEAFF_CMV:NA_NA,CASSYSVLNTEAFF_HomoSapiens:MAA_NA,CASSYTGELFF_HCV:NS3_KLVALGINAV,CASTDSNTGELFF_MCPyV:T-Ag_KLLEIAPNC,CASTEGNTEAFF_HomoSapiens:PMEL154-162_TAA-KTWGQYWQV,CASTLQETQYF_EBV:NA_NA,CASTNSGNTIYF_HCV:NS3_KLVALGINAV,CASTPTENTEAFF_CMV:NA_NA,CASTQGSTDTQYF_HCV:NS3_KLVALGINAV,CATGTGDSNQPQHF_EBV:BZLF1_EPLPQGQLTAY,CATRDINTGELFF_MCPyV:T-Ag_KLLEIAPNC,CATRRANEQFF_HomoSapiens:PMEL589-603_TAA-LIMPGQEAGLGQVPL,CATSAGRNEQFF_HomoSapiens:MAA_NA,CATSALGDTQYF_HomoSapiens:MBP_NPVVHFFKNIVTPR,CATSEGNEQFF_CMV:pp65_NLVPMVATV,CATSGTGHSYEQYF_HomoSapiens:PPP2R1A_p-L432S,CATTGGQNTEAFF_HomoSapiens:TP53_NSSCMGGMNLR,CAWAESSYNEQFF_HomoSapiens:TARS_p-E331K,CAWSEQVNTEAFF_HomoSapiens:UBE2I51-60p.P52L_NeoAg-TLWEGGLFKL,CAWSPDGMNTEAFF_HomoSapiens:TMEM161A_TMEM161A,CAWSPVNTEAFF_HomoSapiens:FAM50B72-80p.E78K_NeoAg-DMKARQKAL,CPSSSGDGNYGYTF_HPV:E2-orE5-orE6-orE7_NA,CSADLNTEAFF_HomoSapiens:C2orf16_TLIDVPKV,CSAEQGANTGELFF_HomoSapiens:PMEL154-162_TAA-KTWGQYWQV,CSARGADTQYF_CMV:pp65_NLVPMVATV,CSARTGYNEQFF_MCPyV:T-Ag_KLLEIAPNC,CSASEGAYGYTF_S-pneumoniae:NA_ECTGLAWEWWRTV,CSASMRDEQYF_S-pneumoniae:NA_ECTGLAWEWWRTV,CSATGGTGNTIYF_EBV:NA_NA,CSVEGDTGELFF_CMV:pp65_NLVPMVATV,CSVEGTENTGELFF_EBV:NA_NA,CSVGGAYEQYF_EBV:EBNA3A_RPPIFIRRL,CSVPLTGNTEAFF_EBV:NA_NA,CSVVDRGYGYTF_EBV:NA_NA,CTSSPILQETQYF_HPV:E2-orE5-orE6-orE7_NA,YASSLTGGTEAFF_HomoSapiens:MAA_NA\n",
       "6 CACSVLNTGELFF_MCPyV:T-Ag_KLLEIAPNC,CAGSQDGMNTEAFF_HomoSapiens:TMEM161A_TMEM161A,CAIRDSNTGELFF_MCPyV:T-Ag_KLLEIAPNC,CAIRGQNTGELFF_MCPyV:T-Ag_KLLEIAPNC,CAISEDGMNTEAFF_HomoSapiens:TMEM161A_TMEM161A,CAISGEGNTEAFF_CMV:NA_NA,CAISSGGADTQYF_S-pneumoniae:NA_ECTGLAWEWWRTV,CAISTGDSNQPQHF_EBV:BZLF1_EPLPQGQLTAY,CANSQPGGIEQFF_EBV:BZLF1_EPLPQGQLTAY,CARSVLNTGELFF_MCPyV:T-Ag_KLLEIAPNC,CASDSNTEAFF_HCV:NS3_KLVALGINAV,CASGQGQETQYF_HCV:NS3_KLVALGINAV,CASGTGDSNQPQHF_EBV:BZLF1_EPLPQGQLTAY,CASIRGYEQYF_HomoSapiens:MAA_NA,CASQGGTEAFF_HomoSapiens:MAA_NA,CASRDGDEQYF_S-pneumoniae:NA_ECTGLAWEWWRTV,CASRDQNTGELFF_MCPyV:T-Ag_KLLEIAPNC,CASRDSSSYEQYF_HomoSapiens:PLECp.P3283S_NeoAg-GGIVDSSKSHRVPLD,CASRGGFNEKLFF_CMV:NA_NA,CASRGGSSYNEQFF_MCPyV:T-Ag_KLLEIAPNC,CASRGQNTGELFF_MCPyV:T-Ag_KLLEIAPNC,CASRIGNTGELFF_HomoSapiens:KRAS_p-G13D,CASRQGGQPQHF_HomoSapiens:MAA_NA,CASRQGNTGELFF_HomoSapiens:KRAS_p-G13D,CASRRGPYEQYF_HCV:NS3_KLVALGINAV-orKLVALVINAV,CASRRSNQPQHF_HomoSapiens:CMKLR1_FLEDLSPL,CASSAGAEQYF_HomoSapiens:PIK3CA_p-P449T,CASSASNYGYTF_HomoSapiens:DDX18_VKYHYELLNYIDMPVLAIHGKQKQN,CASSDALQETQYF_CMV:pp65_NLVPMVATV,CASSDDRGPYEQYF_HCV:NS3_KLVALGINAV,CASSDGGEQYF_S-pneumoniae:NA_GLAWEWWRTV,CASSDGGVKYF_S-pneumoniae:NA_ECTGLAWEWWRTV,CASSDGVGTEAFF_HomoSapiens:RPS9p.P68S_NeoAg-AARELLTLDEKDSRRLFE,CASSDPGTEAFF_HomoSapiens:KRAS_GADGVGKSAL,CASSDSYGYTF_HCV:NS3_KLVALGINAV,CASSDYYEQYF_S-pneumoniae:NA_ECTGLAWEWWRTV,CASSEDGMNTEAFF_HomoSapiens:TMEM161A_TMEM161A,CASSEGDTEAFF_HCV:NS3_KLVALGINAV,CASSEGQGNSPLHF_MCPyV:T-Ag_KLLEIAPNC,CASSEGQSYEQYF_MCPyV:T-Ag_KLLEIAPNC,CASSESGRNTEAFX_S-pneumoniae:NA_ECTGLAWEWWRTV,CASSFDRGYGYTF_HomoSapiens:MAGE-A6_NA,CASSFGADTQYF_HCV:NS3_KLVALGINAV,CASSFGGAYEQYF_HomoSapiens:MED13_VQIISCQY,CASSFGGEQFF_HomoSapiens:DOPEY2_FRFSMIWHL,CASSFGSEQYF_MCPyV:T-Ag_KLLEIAPNC,CASSFGSYEQYF_HomoSapiens:NUP214_SVYWSPKGK,CASSFIGGTDTQYF_HomoSapiens:gp100_YLEPGPVTA,CASSFLGTGELFF_HomoSapiens:TARS_p-E331K,CASSFQGFTEAFF_CMV:pp65_NLVPMVATV,CASSFQGYTEAFF_CMV:pp65_NLVPMVATV,CASSFTLNTEAFF_CMV:NA_NA,CASSFWGNTEAFF_HomoSapiens:FAM135A_AGASSIWYR,CASSGDGMNTEAFF_HomoSapiens:TMEM161A_TMEM161A,CASSGENTEAFF_CMV:NA_NA,CASSGQNTGELFF_MCPyV:T-Ag_KLLEIAPNC,CASSGTHNEQFF_EBV:EBNA3A_RPPIFIRRL,CASSGYTGELFF_HCV:NS3_KLVALGINAV,CASSHAGRNTEAFF_HomoSapiens:MAA_NA,CASSHQTGELFF_CMV:pp65_NLVPMVATV,CASSHREGETQYF_S-pneumoniae:NA_ECTGLAWEWWRTV,CASSIGGDYGYTF_HomoSapiens:MLANA27-35_TAA-AAGIGILTV,CASSIGQYEQYF_HCV:NS3_KLVALGINAV,CASSIGVGTEQYF_HomoSapiens:MAA_NA,CASSIGVYGYTF_Influenza:M_GILGFVFTL,CASSIRASYEQYF_Influenza:M_GILGFVFTL,CASSIRSAHEQFF_Influenza:M_GILGFVFTL,CASSIRSSYEQYF_Influenza:M_GILGFVFTL,CASSIRSTDTQYF_Influenza:M_GILGFVFTL,CASSIRSTGELFF_Influenza:M_GILGFVFTL,CASSITLNTEAFF_CMV:NA_NA,CASSLAADTQYF_EBV:NA_NA,CASSLAGDRYF_MCPyV:T-Ag_KLLEIAPNC,CASSLAGDYEQYF_CMV:pp65_NLVPMVATV,CASSLAGFRFF_MCPyV:T-Ag_KLLEIAPNC,CASSLAGFTGELFF_CMV:pp65_NLVPMVATV,CASSLAGPETQYF_HomoSapiens:TP53_p-T172I,CASSLAQGTDTQYF_HomoSapiens:LAMC1p.S1509F_NeoAg-KAKNFVTSLLSIIND,CASSLATGGEQFF_EBV:NA_NA,CASSLDENTEAFF_CMV:NA_NA,CASSLDGMNTEAFF_HomoSapiens:TMEM161A_TMEM161A,CASSLDLYGYTF_CMV:pp65_NLVPMVATV,CASSLDNEKLFF_S-pneumoniae:NA_ECTGLAWEWWRTV,CASSLDPYEQYF_HomoSapiens:CARM1_FAAQAGAWKIY,CASSLDSSNQPQHF_CMV:NA_NA,CASSLEGANYGYTF_HPV:E2-orE5-orE6-orE7_NA,CASSLEGDTEAFF_MCPyV:T-Ag_KLLEIAPNC,CASSLEGSYEQYF_EBV:BZLF1_KLVALGINAV,CASSLEGSYEQYF_HCV:NS3_KLVALGINAV,CASSLETVNTEAFF_CMV:pp65_NLVPMVATV,CASSLETVYGYTF_S-pneumoniae:NA_ECTGLAWEWWRTV,CASSLFGGTEAFF_HomoSapiens:MAA_NA,CASSLGANTGELFF_HomoSapiens:SCML2_LPDHFGLGPV,CASSLGDGNYGYTF_HPV:E2-orE5-orE6-orE7_NA,CASSLGEKLFF_HCV:NS3_KLVALGINAV,CASSLGGAEQFF_HomoSapiens:MAA_NA,CASSLGGDIQYF_HCV:NS3_KLVALGINAV,CASSLGGGPDTQYF_HomoSapiens:PMEL154-162_TAA-KTWGQYWQV,CASSLGGGTDTQYF_HomoSapiens:PMEL154-162_TAA-KTWGQYWQV,CASSLGGNTGELFF_MCPyV:T-Ag_KLLEIAPNC,CASSLGGQPQHF_HomoSapiens:MAA_NA,CASSLGGRTEAFF_HomoSapiens:BPNT1_EAGPDAVLRR,CASSLGGSSYEQYF_HomoSapiens:MLANA27-35_TAA-AAGIGILTV,CASSLGLENEQFF_EBV:BMLF1_GLCTLVAML,CASSLGLLNTEAFF_HomoSapiens:MLANA27-35_TAA-AAGIGILTV,CASSLGLSTDTQYF_HomoSapiens:NCEH1111-119p.G115R_NeoAg-YIHGRGWAL,CASSLGNTEAFF_MCPyV:T-Ag_KLLEIAPNC,CASSLGQAYEQYF_EBV:EBNA3A_FLRGRAYGL,CASSLGQAYEQYF_HomoSapiens:MLANA_EEYLKAWTF,CASSLGQGNSPLHF_CMV:pp65_NLVPMVATV,CASSLGQGNYGYTF_HomoSapiens:MLANA27-35_TAA-AAGIGILTV,CASSLGQLNTEAFF_HomoSapiens:MAA_NA,CASSLGQTNYGYTF_HomoSapiens:KRAS_GADGVGKSAL,CASSLGRGQFF_HCV:NS3_KLVALGINAV,CASSLGTGELFF_CMV:pp65_NLVPMVATV,CASSLIGRDEQFF_EBV:BZLF1_EPLPQGQLTAY,CASSLLDGNTEAFF_HPV:E2-orE5-orE6-orE7_NA,CASSLLGETQYF_EBV:NA_NA,CASSLLLDTQYF_EBV:NA_NA,CASSLLQETQYF_EBV:NA_NA,CASSLLSSNQPQHF_EBV:NA_NA,CASSLMQETQYF_EBV:NA_NA,CASSLQGYEQYF_HPV:E2-orE5-orE6-orE7_NA,CASSLREGETQYF_S-pneumoniae:NA_ECTGLAWEWWRTV,CASSLRGSYEQYV_HomoSapiens:DNMT3A_p-P282S,CASSLRNTGELFF_S-pneumoniae:NA_ECTGLAWEWWRTV,CASSLRRGEQYF_HomoSapiens:MYH6191-198_VIQYFASI,CASSLSDGNYGYTF_HPV:E2-orE5-orE6-orE7_NA,CASSLSFGTEAFF_HomoSapiens:MLANA_ELAGIGILTV_AAGIGILTV,CASSLSGQPQHF_MCPyV:T-Ag_KLLEIAPNC,CASSLSQGTEAFF_HomoSapiens:MAA_NA,CASSLTGGSEAFF_HomoSapiens:LMBRD1_FIFTSIAGIR,CASSLVDGNYGYTF_HPV:E2-orE5-orE6-orE7_NA,CASSLVGTGELFF_CMV:pp65_NLVPMVATV,CASSLWLNEQFF_CMV:pp65_NLVPMVATV,CASSLYQETQYF_EBV:NA_NA,CASSLYTGELFF_HomoSapiens:ZHX2_HPNVILNSLY,CASSMGANEQFF_HCV:NS3_KLVALGINAV,CASSMGGEQYF_HCV:NS3_KLVALGINAV,CASSMGGTYEQYF_HomoSapiens:PMEL_ITDQVPFSV_ILDQVPFSV,CASSMLFQETQYF_HPV:E2-orE5-orE6-orE7_NA,CASSMRSTGELFF_Influenza:M_GILGFVFTL,CASSNGRGTEQFF_S-pneumoniae:NA_ECTGLAWEWWRTV,CASSPARNTEAFF_CMV:pp65_RPHERNGFTV,CASSPDGMNTEAFF_HomoSapiens:TMEM161A_TMEM161A,CASSPEETQYF_M.tuberculosis:CFP10_TAAQAAVVRFQEAAN,CASSPGGATEAFF_HomoSapiens:MAA_NA,CASSPGGELFF_HCV:NS3_KLVALGINAV,CASSPGGETQYF_HomoSapiens:PMEL154-162_TAA-KTWGQYWQV,CASSPGGFEAFF_HomoSapiens:PIK3CA_p-P449T,CASSPGGGNTEAFF_S-pneumoniae:NA_ECTGLAWEWWRTV,CASSPGGNEQFF_HomoSapiens:MAA_NA,CASSPGLAGNEQFF_HomoSapiens:MAA_NA,CASSPGLLTDTQYF_HomoSapiens:MAA_NA,CASSPGLLTDTQYF_HomoSapiens:MLANA27-35_TAA-AAGIGILTV,CASSPGQLNTEAFF_HomoSapiens:MAA_NA,CASSPGQPQHF_HomoSapiens:DCAKD198-207p.S199F_NeoAg-RFLEYLPLRF,CASSPGQRNTEAFF_HomoSapiens:MAA_NA,CASSPGSETQYF_S-pneumoniae:NA_ECTGLAWEWWRTV,CASSPGTENSPLHF_HomoSapiens:KRAS_p-G13D,CASSPGTLTDTQYF_HomoSapiens:MLANA27-35_TAA-AAGIGILTV,CASSPHRNTEAFF_CMV:pp65_RPHERNGFTV,CASSPILQETQYF_HPV:E2-orE5-orE6-orE7_NA,CASSPLQGYEQYF_HPV:E2-orE5-orE6-orE7_NA,CASSPPSSGNTIYF_MCPyV:T-Ag_KLLEIAPNC,CASSPQGLGTEAFF_HomoSapiens:MAA_NA,CASSPQGVNYGYTF_S-pneumoniae:NA_ECTGLAWEWWRTV,CASSPRGDTEAFF_MCPyV:T-Ag_KLLEIAPNC,CASSPRTGNTEAFF_CMV:NA_NA,CASSPRVPNTEAFF_HomoSapiens:HIATL1_p-G380V,CASSPSGGTDTQYF_HomoSapiens:CNOT2_FNGTDGSENVTGFDLSDFPALADRN,CASSPSGLSYEQYF_HomoSapiens:MAA_NA,CASSPSRNTEAFF_CMV:pp65_RPHERNGFTV,CASSPTGVGEQFF_Influenza:M_GILGFVFTL,CASSPWDEQFF_MCPyV:T-Ag_KLLEIAPNC,CASSQDGMNTEAFF_HomoSapiens:TMEM161A_TMEM161A,CASSQDRDTQYF_CMV:UL40_VMAPRTLIL,CASSQETGSYEQFF_EBV:EBNA3A_RPPIFIRRL,CASSQETGSYEQYF_EBV:EBNA3A_RPPIFIRRL,CASSQGGGEQYF_S-pneumoniae:NA_WEWWR,CASSQGNTGELFF_HomoSapiens:KRAS_p-G13D,CASSQGQDTEAFF_HomoSapiens:GLIA-OMEGA1_QPFPQPEQPFP,CASSQGRPSTS_HomoSapiens:MAA_NA,CASSQGSYEQYF_HCV:NS3_KLVALGINAV,CASSQLGYEQYF_HPV:E2-orE5-orE6-orE7_NA,CASSQNTGELFF_HomoSapiens:TYR207-215_TAA-FLPWHRLFL,CASSQQETQYF_CEF:NA_NA,CASSQSSGANVLTF_EBV:EBV_NA,CASSQVGETQYF_MCPyV:T-Ag_KLLEIAPNC,CASSQVGGGEQFF_HomoSapiens:MAA_NA,CASSRADYGYTF_HomoSapiens:SDAD1_MAQMRKELDAAPWKSQKRKYIEIDS,CASSRDGMNTEAFF_HomoSapiens:TMEM161A_TMEM161A,CASSRGDTEAFF_HCV:NS3_KLVALGINAV,CASSRGLNNQPQHF_S-pneumoniae:NA_ECTGLAWEWWRTV,CASSRQGENQPQHF_HomoSapiens:MAGEC2254-262_TAA-NAVGVYAGR,CASSRQGLGTEAFF_HomoSapiens:MAA_NA,CASSRQTNTEAFF_CMV:NA_NA,CASSRTGSTYEQYF_EBV:BZLF1_LPEPLPQGQLTAY,CASSSADGNYGYTF_HPV:E2-orE5-orE6-orE7_NA,CASSSAFYGYTF_CMV:pp65_NLVPMVATV,CASSSANYGYTF_CMV:pp65_NLVPMVATV,CASSSAYYGYTF_CMV:pp65_NLVPMVATV,CASSSDGMNTEAFF_HomoSapiens:TMEM161A_TMEM161A,CASSSGATEAFF_HCV:NS3_KLVALGINAV,CASSSGDGNYGYTF_HPV:E2-orE5-orE6-orE7_NA,CASSSGETQYF_S-pneumoniae:NA_ECTGLAWEWWRTV,CASSSGIYGYTF_CMV:pp65_NLVPMVATV,CASSSGPSYEQYF_HomoSapiens:FLNA_RSSRTLSR,CASSSGQAYEQYF_EBV:EBNA3A_FLRGRAYGL,CASSSLNTEAFF_EBV:BZLF1_RAKFKQLL,CASSSQGGYGYTF_HomoSapiens:MAGE-A6_KVDPIGHVY,CASSSRAAYEQYF_Influenza:M_GILGFVFTL,CASSSRASYEQYF_Influenza:M_GILGFVFTL,CASSSRNSYEQYF_Influenza:NA_NA,CASSSRSSYEQYF_Influenza:M-HA_GILGFVFTL_PKYVKQNTLKLAT,CASSSVNEQFF_CMV:pp65_NLVPMVATV,CASSSVSEAFF_CMV:pp65_NLVPMVATV,CASSTDLNTEAFF_CMV:NA_NA,CASSTGDSNQPQHF_EBV:BZLF1_EPLPQGQLTAY,CASSTGFYGYTF_Influenza:M_GILGFVFTL,CASSTGNEKLFF_CMV:NA_NA,CASSTGNYGYTF_Influenza:M_GILGFVFTL,CASSTGSYGYTF_CMV:pp65_NLVPMVATV,CASSTLFQETQYF_HPV:E2-orE5-orE6-orE7_NA,CASSTRSTGELFF_CMV:pp65_NLVPMVATV,CASSTSTDTQYF_S-pneumoniae:NA_ECTGLAWEWWRTV,CASSVASGTDTQYF_EBV:EBNA3A_FLRGRAYGL,CASSVDGMNTEAFF_HomoSapiens:TMEM161A_TMEM161A,CASSVGQGKAFF_Influenza:HA_PKYVKQNTLKLAT,CASSVGWGGEQFF_EBV:NA_NA,CASSVLFQETQYF_HPV:E2-orE5-orE6-orE7_NA,CASSVLNTGELFF_MCPyV:T-Ag_KLLEIAPNC,CASSVNNEQFF_HPV:E2-orE5-orE6-orE7_NA,CASSVRSTGELFF_Influenza:M_GILGFVFTL,CASSWGGGEQYF_HCV:NS3_KLVALGINAV,CASSWGGNTEAFF_HomoSapiens:ZNF219_CLASLHPR,CASSWGSGANVLTF_HomoSapiens:KPNA2_YLRNLTWTL,CASSYGLAGGEQFF_HomoSapiens:MAA_NA,CASSYGSYEQYF_HCV:NS3_KLVALGINAV,CASSYNNEQFF_HomoSapiens:FLNA_RTWRRTRRGRR,CASSYPGTSQFF_HomoSapiens:MAA_NA,CASSYQGTEAFF_HomoSapiens:TERT_ILAKFLHWL,CASSYRGSGNTIYF_HCV:NS3_KLVALGINAV,CASSYSDGNTEAFF_HPV:E2-orE5-orE6-orE7_NA,CASSYSLNTEAFF_CMV:NA_NA,CASSYSVLNTEAFF_HomoSapiens:MAA_NA,CASSYTGELFF_HCV:NS3_KLVALGINAV,CASTDSNTGELFF_MCPyV:T-Ag_KLLEIAPNC,CASTEGNTEAFF_HomoSapiens:PMEL154-162_TAA-KTWGQYWQV,CASTLQETQYF_EBV:NA_NA,CASTNSGNTIYF_HCV:NS3_KLVALGINAV,CASTPTENTEAFF_CMV:NA_NA,CASTQGSTDTQYF_HCV:NS3_KLVALGINAV,CATGTGDSNQPQHF_EBV:BZLF1_EPLPQGQLTAY,CATRDINTGELFF_MCPyV:T-Ag_KLLEIAPNC,CATRRANEQFF_HomoSapiens:PMEL589-603_TAA-LIMPGQEAGLGQVPL,CATSAGRNEQFF_HomoSapiens:MAA_NA,CATSALGDTQYF_HomoSapiens:MBP_NPVVHFFKNIVTPR,CATSEGNEQFF_CMV:pp65_NLVPMVATV,CATSGTGHSYEQYF_HomoSapiens:PPP2R1A_p-L432S,CATTGGQNTEAFF_HomoSapiens:TP53_NSSCMGGMNLR,CAWAESSYNEQFF_HomoSapiens:TARS_p-E331K,CAWSEQVNTEAFF_HomoSapiens:UBE2I51-60p.P52L_NeoAg-TLWEGGLFKL,CAWSPDGMNTEAFF_HomoSapiens:TMEM161A_TMEM161A,CAWSPVNTEAFF_HomoSapiens:FAM50B72-80p.E78K_NeoAg-DMKARQKAL,CPSSSGDGNYGYTF_HPV:E2-orE5-orE6-orE7_NA,CSADLNTEAFF_HomoSapiens:C2orf16_TLIDVPKV,CSAEQGANTGELFF_HomoSapiens:PMEL154-162_TAA-KTWGQYWQV,CSARGADTQYF_CMV:pp65_NLVPMVATV,CSARTGYNEQFF_MCPyV:T-Ag_KLLEIAPNC,CSASEGAYGYTF_S-pneumoniae:NA_ECTGLAWEWWRTV,CSASMRDEQYF_S-pneumoniae:NA_ECTGLAWEWWRTV,CSATGGTGNTIYF_EBV:NA_NA,CSVEGDTGELFF_CMV:pp65_NLVPMVATV,CSVEGTENTGELFF_EBV:NA_NA,CSVGGAYEQYF_EBV:EBNA3A_RPPIFIRRL,CSVPLTGNTEAFF_EBV:NA_NA,CSVVDRGYGYTF_EBV:NA_NA,CTSSPILQETQYF_HPV:E2-orE5-orE6-orE7_NA,YASSLTGGTEAFF_HomoSapiens:MAA_NA\n",
       "  basename         Patient cycle cancergroup_cdr3         cdr3          \n",
       "1 CHP_404_X01-PBMC CHP_404 X01   CAASSGANEQFF_Solidtumors CAASSGANEQFF  \n",
       "2 CHP_381_X01-PBMC CHP_381 X01   CACSTGGSEQYF_Solidtumors CACSTGGSEQYF  \n",
       "3 CHP_373_X01-PBMC CHP_373 X01   CAFSGDSSYNEQFF_Leukemia  CAFSGDSSYNEQFF\n",
       "4 CHP_373_X01-PBMC CHP_373 X01   CAGRGTGELFF_Leukemia     CAGRGTGELFF   \n",
       "5 CHP_353_X01-PBMC CHP_353 X01   CAGSLGINEQFF_Leukemia    CAGSLGINEQFF  \n",
       "6 CHP_363_X01-PBMC CHP_363 X01   CAIGDGNQPQHF_Solidtumors CAIGDGNQPQHF  \n",
       "  cancergroup cloneCount Fisher_score\n",
       "1 Solidtumors   2        9.9e-10     \n",
       "2 Solidtumors 125        9.0e-07     \n",
       "3 Leukemia      6        4.6e-04     \n",
       "4 Leukemia      7        6.2e-06     \n",
       "5 Leukemia      1        1.0e-09     \n",
       "6 Solidtumors 125        8.9e-03     "
      ]
     },
     "metadata": {},
     "output_type": "display_data"
    }
   ],
   "source": [
    "head(df1_pre)"
   ]
  },
  {
   "cell_type": "code",
   "execution_count": 37,
   "metadata": {
    "vscode": {
     "languageId": "r"
    }
   },
   "outputs": [
    {
     "data": {
      "text/html": [
       "<table class=\"dataframe\">\n",
       "<caption>A tibble: 6 x 3</caption>\n",
       "<thead>\n",
       "\t<tr><th scope=col>Patient</th><th scope=col>Component_id</th><th scope=col>SumCount</th></tr>\n",
       "\t<tr><th scope=col>&lt;chr&gt;</th><th scope=col>&lt;int&gt;</th><th scope=col>&lt;int&gt;</th></tr>\n",
       "</thead>\n",
       "<tbody>\n",
       "\t<tr><td>CHP_347</td><td>1</td><td>1248</td></tr>\n",
       "\t<tr><td>CHP_347</td><td>4</td><td>  32</td></tr>\n",
       "\t<tr><td>CHP_347</td><td>5</td><td>  34</td></tr>\n",
       "\t<tr><td>CHP_347</td><td>6</td><td> 180</td></tr>\n",
       "\t<tr><td>CHP_347</td><td>7</td><td>  39</td></tr>\n",
       "\t<tr><td>CHP_347</td><td>8</td><td>  43</td></tr>\n",
       "</tbody>\n",
       "</table>\n"
      ],
      "text/latex": [
       "A tibble: 6 x 3\n",
       "\\begin{tabular}{lll}\n",
       " Patient & Component\\_id & SumCount\\\\\n",
       " <chr> & <int> & <int>\\\\\n",
       "\\hline\n",
       "\t CHP\\_347 & 1 & 1248\\\\\n",
       "\t CHP\\_347 & 4 &   32\\\\\n",
       "\t CHP\\_347 & 5 &   34\\\\\n",
       "\t CHP\\_347 & 6 &  180\\\\\n",
       "\t CHP\\_347 & 7 &   39\\\\\n",
       "\t CHP\\_347 & 8 &   43\\\\\n",
       "\\end{tabular}\n"
      ],
      "text/markdown": [
       "\n",
       "A tibble: 6 x 3\n",
       "\n",
       "| Patient &lt;chr&gt; | Component_id &lt;int&gt; | SumCount &lt;int&gt; |\n",
       "|---|---|---|\n",
       "| CHP_347 | 1 | 1248 |\n",
       "| CHP_347 | 4 |   32 |\n",
       "| CHP_347 | 5 |   34 |\n",
       "| CHP_347 | 6 |  180 |\n",
       "| CHP_347 | 7 |   39 |\n",
       "| CHP_347 | 8 |   43 |\n",
       "\n"
      ],
      "text/plain": [
       "  Patient Component_id SumCount\n",
       "1 CHP_347 1            1248    \n",
       "2 CHP_347 4              32    \n",
       "3 CHP_347 5              34    \n",
       "4 CHP_347 6             180    \n",
       "5 CHP_347 7              39    \n",
       "6 CHP_347 8              43    "
      ]
     },
     "metadata": {},
     "output_type": "display_data"
    }
   ],
   "source": [
    "head(df1_post_sum)"
   ]
  },
  {
   "cell_type": "code",
   "execution_count": 38,
   "metadata": {
    "vscode": {
     "languageId": "r"
    }
   },
   "outputs": [
    {
     "data": {
      "text/html": [
       "<table class=\"dataframe\">\n",
       "<caption>A tibble: 6 x 3</caption>\n",
       "<thead>\n",
       "\t<tr><th scope=col>basename</th><th scope=col>Component_id</th><th scope=col>SumCount</th></tr>\n",
       "\t<tr><th scope=col>&lt;chr&gt;</th><th scope=col>&lt;int&gt;</th><th scope=col>&lt;int&gt;</th></tr>\n",
       "</thead>\n",
       "<tbody>\n",
       "\t<tr><td>CHP_347_X01-PBMC</td><td> 1</td><td>950</td></tr>\n",
       "\t<tr><td>CHP_347_X01-PBMC</td><td> 4</td><td>101</td></tr>\n",
       "\t<tr><td>CHP_347_X01-PBMC</td><td> 6</td><td> 45</td></tr>\n",
       "\t<tr><td>CHP_347_X01-PBMC</td><td>13</td><td> 57</td></tr>\n",
       "\t<tr><td>CHP_348_X01-PBMC</td><td> 1</td><td>110</td></tr>\n",
       "\t<tr><td>CHP_348_X01-PBMC</td><td> 4</td><td> 10</td></tr>\n",
       "</tbody>\n",
       "</table>\n"
      ],
      "text/latex": [
       "A tibble: 6 x 3\n",
       "\\begin{tabular}{lll}\n",
       " basename & Component\\_id & SumCount\\\\\n",
       " <chr> & <int> & <int>\\\\\n",
       "\\hline\n",
       "\t CHP\\_347\\_X01-PBMC &  1 & 950\\\\\n",
       "\t CHP\\_347\\_X01-PBMC &  4 & 101\\\\\n",
       "\t CHP\\_347\\_X01-PBMC &  6 &  45\\\\\n",
       "\t CHP\\_347\\_X01-PBMC & 13 &  57\\\\\n",
       "\t CHP\\_348\\_X01-PBMC &  1 & 110\\\\\n",
       "\t CHP\\_348\\_X01-PBMC &  4 &  10\\\\\n",
       "\\end{tabular}\n"
      ],
      "text/markdown": [
       "\n",
       "A tibble: 6 x 3\n",
       "\n",
       "| basename &lt;chr&gt; | Component_id &lt;int&gt; | SumCount &lt;int&gt; |\n",
       "|---|---|---|\n",
       "| CHP_347_X01-PBMC |  1 | 950 |\n",
       "| CHP_347_X01-PBMC |  4 | 101 |\n",
       "| CHP_347_X01-PBMC |  6 |  45 |\n",
       "| CHP_347_X01-PBMC | 13 |  57 |\n",
       "| CHP_348_X01-PBMC |  1 | 110 |\n",
       "| CHP_348_X01-PBMC |  4 |  10 |\n",
       "\n"
      ],
      "text/plain": [
       "  basename         Component_id SumCount\n",
       "1 CHP_347_X01-PBMC  1           950     \n",
       "2 CHP_347_X01-PBMC  4           101     \n",
       "3 CHP_347_X01-PBMC  6            45     \n",
       "4 CHP_347_X01-PBMC 13            57     \n",
       "5 CHP_348_X01-PBMC  1           110     \n",
       "6 CHP_348_X01-PBMC  4            10     "
      ]
     },
     "metadata": {},
     "output_type": "display_data"
    }
   ],
   "source": [
    "head(df1_pre_sum)"
   ]
  },
  {
   "cell_type": "code",
   "execution_count": 39,
   "metadata": {
    "vscode": {
     "languageId": "r"
    }
   },
   "outputs": [],
   "source": [
    "df1_pre_sum$Patient <- gsub(\".*CHP\", \"CHP\", df1_pre_sum$basename)\n",
    "df1_pre_sum$Patient <- gsub(\"_X.*\", \"\", df1_pre_sum$Patient)\n",
    "\n",
    "df1_pre_sum$cycle <- gsub(\".*X\", \"X\", df1_pre_sum$basename)\n",
    "df1_pre_sum$cycle <- gsub(\"-.*\", \"\", df1_pre_sum$cycle)"
   ]
  },
  {
   "cell_type": "code",
   "execution_count": 40,
   "metadata": {
    "vscode": {
     "languageId": "r"
    }
   },
   "outputs": [
    {
     "data": {
      "text/html": [
       "<table class=\"dataframe\">\n",
       "<caption>A tibble: 6 x 5</caption>\n",
       "<thead>\n",
       "\t<tr><th scope=col>basename</th><th scope=col>Component_id</th><th scope=col>SumCount</th><th scope=col>Patient</th><th scope=col>cycle</th></tr>\n",
       "\t<tr><th scope=col>&lt;chr&gt;</th><th scope=col>&lt;int&gt;</th><th scope=col>&lt;int&gt;</th><th scope=col>&lt;chr&gt;</th><th scope=col>&lt;chr&gt;</th></tr>\n",
       "</thead>\n",
       "<tbody>\n",
       "\t<tr><td>CHP_347_X01-PBMC</td><td> 1</td><td>950</td><td>CHP_347</td><td>X01</td></tr>\n",
       "\t<tr><td>CHP_347_X01-PBMC</td><td> 4</td><td>101</td><td>CHP_347</td><td>X01</td></tr>\n",
       "\t<tr><td>CHP_347_X01-PBMC</td><td> 6</td><td> 45</td><td>CHP_347</td><td>X01</td></tr>\n",
       "\t<tr><td>CHP_347_X01-PBMC</td><td>13</td><td> 57</td><td>CHP_347</td><td>X01</td></tr>\n",
       "\t<tr><td>CHP_348_X01-PBMC</td><td> 1</td><td>110</td><td>CHP_348</td><td>X01</td></tr>\n",
       "\t<tr><td>CHP_348_X01-PBMC</td><td> 4</td><td> 10</td><td>CHP_348</td><td>X01</td></tr>\n",
       "</tbody>\n",
       "</table>\n"
      ],
      "text/latex": [
       "A tibble: 6 x 5\n",
       "\\begin{tabular}{lllll}\n",
       " basename & Component\\_id & SumCount & Patient & cycle\\\\\n",
       " <chr> & <int> & <int> & <chr> & <chr>\\\\\n",
       "\\hline\n",
       "\t CHP\\_347\\_X01-PBMC &  1 & 950 & CHP\\_347 & X01\\\\\n",
       "\t CHP\\_347\\_X01-PBMC &  4 & 101 & CHP\\_347 & X01\\\\\n",
       "\t CHP\\_347\\_X01-PBMC &  6 &  45 & CHP\\_347 & X01\\\\\n",
       "\t CHP\\_347\\_X01-PBMC & 13 &  57 & CHP\\_347 & X01\\\\\n",
       "\t CHP\\_348\\_X01-PBMC &  1 & 110 & CHP\\_348 & X01\\\\\n",
       "\t CHP\\_348\\_X01-PBMC &  4 &  10 & CHP\\_348 & X01\\\\\n",
       "\\end{tabular}\n"
      ],
      "text/markdown": [
       "\n",
       "A tibble: 6 x 5\n",
       "\n",
       "| basename &lt;chr&gt; | Component_id &lt;int&gt; | SumCount &lt;int&gt; | Patient &lt;chr&gt; | cycle &lt;chr&gt; |\n",
       "|---|---|---|---|---|\n",
       "| CHP_347_X01-PBMC |  1 | 950 | CHP_347 | X01 |\n",
       "| CHP_347_X01-PBMC |  4 | 101 | CHP_347 | X01 |\n",
       "| CHP_347_X01-PBMC |  6 |  45 | CHP_347 | X01 |\n",
       "| CHP_347_X01-PBMC | 13 |  57 | CHP_347 | X01 |\n",
       "| CHP_348_X01-PBMC |  1 | 110 | CHP_348 | X01 |\n",
       "| CHP_348_X01-PBMC |  4 |  10 | CHP_348 | X01 |\n",
       "\n"
      ],
      "text/plain": [
       "  basename         Component_id SumCount Patient cycle\n",
       "1 CHP_347_X01-PBMC  1           950      CHP_347 X01  \n",
       "2 CHP_347_X01-PBMC  4           101      CHP_347 X01  \n",
       "3 CHP_347_X01-PBMC  6            45      CHP_347 X01  \n",
       "4 CHP_347_X01-PBMC 13            57      CHP_347 X01  \n",
       "5 CHP_348_X01-PBMC  1           110      CHP_348 X01  \n",
       "6 CHP_348_X01-PBMC  4            10      CHP_348 X01  "
      ]
     },
     "metadata": {},
     "output_type": "display_data"
    }
   ],
   "source": [
    "head(df1_pre_sum)"
   ]
  },
  {
   "cell_type": "code",
   "execution_count": 41,
   "metadata": {
    "vscode": {
     "languageId": "r"
    }
   },
   "outputs": [],
   "source": [
    "# matrix gliph x patient\n",
    "comppat_mat <- matrix(NA,\n",
    "    nrow = length(unique(df1$Component_id)), ncol = length(unique(df1$Patient)),\n",
    "    dimnames = list(unique(df1$Component_id), unique(df1$Patient))\n",
    ")"
   ]
  },
  {
   "cell_type": "code",
   "execution_count": 42,
   "metadata": {
    "vscode": {
     "languageId": "r"
    }
   },
   "outputs": [],
   "source": [
    "for (i in 1:nrow(comppat_mat)) { # pattern loop\n",
    "    for (j in 1:ncol(comppat_mat)) { # patient loop\n",
    "        myc <- rownames(comppat_mat)[i]\n",
    "        mypt <- colnames(comppat_mat)[j]\n",
    "        pt_pre <- df1_pre_sum[df1_pre_sum$Patient == mypt, ]\n",
    "        pt_post <- df1_post_sum[df1_post_sum$Patient == mypt, ]\n",
    "        if (length(pt_pre$SumCount[pt_pre$Component_id == myc]) != 0 && length(pt_post$SumCount[pt_post$Component_id == myc]) != 0) { # if pattern is present in both pre and post\n",
    "            comppat_mat[i, j] <- pt_post$SumCount[pt_post$Component_id == myc] - pt_pre$SumCount[pt_pre$Component_id == myc] # post - pre\n",
    "        } # end of if\n",
    "    } # end of patient loop\n",
    "} # end of pattern loop"
   ]
  },
  {
   "cell_type": "code",
   "execution_count": 43,
   "metadata": {
    "vscode": {
     "languageId": "r"
    }
   },
   "outputs": [],
   "source": [
    "comppat_mat <- as.data.frame(comppat_mat)"
   ]
  },
  {
   "cell_type": "code",
   "execution_count": 44,
   "metadata": {
    "vscode": {
     "languageId": "r"
    }
   },
   "outputs": [],
   "source": [
    "# group by component_id, median the fisher score\n",
    "df1 <- df1 %>%\n",
    "  group_by(Component_id) %>%\n",
    "  mutate(MedianFisher = median(Fisher_score, na.rm = T)) %>%\n",
    "  ungroup()"
   ]
  },
  {
   "cell_type": "code",
   "execution_count": 45,
   "metadata": {
    "vscode": {
     "languageId": "r"
    }
   },
   "outputs": [],
   "source": [
    "# Add Fisher score to comppat_mat\n",
    "comppat_mat$MedianFisher <- df1$MedianFisher[match(rownames(comppat_mat), df1$Component_id)]"
   ]
  },
  {
   "cell_type": "code",
   "execution_count": 46,
   "metadata": {
    "vscode": {
     "languageId": "r"
    }
   },
   "outputs": [
    {
     "data": {
      "text/html": [
       "<table class=\"dataframe\">\n",
       "<caption>A data.frame: 6 x 34</caption>\n",
       "<thead>\n",
       "\t<tr><th></th><th scope=col>CHP_396</th><th scope=col>CHP_357</th><th scope=col>CHP_404</th><th scope=col>CHP_408</th><th scope=col>CHP_381</th><th scope=col>CHP_409</th><th scope=col>CHP_373</th><th scope=col>CHP_405</th><th scope=col>CHP_353</th><th scope=col>CHP_415</th><th scope=col>...</th><th scope=col>CHP_366</th><th scope=col>CHP_348</th><th scope=col>CHP_397</th><th scope=col>CHP_370</th><th scope=col>CHP_410</th><th scope=col>CHP_349</th><th scope=col>CHP_413</th><th scope=col>CHP_387</th><th scope=col>CHP_367</th><th scope=col>MedianFisher</th></tr>\n",
       "\t<tr><th></th><th scope=col>&lt;int&gt;</th><th scope=col>&lt;int&gt;</th><th scope=col>&lt;int&gt;</th><th scope=col>&lt;int&gt;</th><th scope=col>&lt;int&gt;</th><th scope=col>&lt;int&gt;</th><th scope=col>&lt;int&gt;</th><th scope=col>&lt;int&gt;</th><th scope=col>&lt;int&gt;</th><th scope=col>&lt;int&gt;</th><th scope=col>...</th><th scope=col>&lt;int&gt;</th><th scope=col>&lt;int&gt;</th><th scope=col>&lt;int&gt;</th><th scope=col>&lt;int&gt;</th><th scope=col>&lt;int&gt;</th><th scope=col>&lt;int&gt;</th><th scope=col>&lt;int&gt;</th><th scope=col>&lt;int&gt;</th><th scope=col>&lt;int&gt;</th><th scope=col>&lt;dbl&gt;</th></tr>\n",
       "</thead>\n",
       "<tbody>\n",
       "\t<tr><th scope=row>1</th><td>30739</td><td>1108</td><td>19142</td><td>12346</td><td>-14495</td><td>1265</td><td>-350</td><td>24130</td><td>1640</td><td>1409</td><td>...</td><td>24939</td><td>-75</td><td>12932</td><td>1379</td><td>4910</td><td>1199</td><td>26603</td><td>-364</td><td>220</td><td>7.1e-06</td></tr>\n",
       "\t<tr><th scope=row>2</th><td>   NA</td><td>  NA</td><td>   NA</td><td>   NA</td><td>    NA</td><td>  NA</td><td>  NA</td><td>   NA</td><td>  NA</td><td>  NA</td><td>...</td><td>   NA</td><td> NA</td><td>   NA</td><td>  NA</td><td>  NA</td><td>  NA</td><td>   NA</td><td>  NA</td><td> NA</td><td>0.0e+00</td></tr>\n",
       "\t<tr><th scope=row>3</th><td>   NA</td><td>  NA</td><td>   NA</td><td>   NA</td><td>    NA</td><td>  NA</td><td>  NA</td><td>   NA</td><td>  NA</td><td>  NA</td><td>...</td><td>   NA</td><td> NA</td><td>   NA</td><td>  NA</td><td>  NA</td><td>  NA</td><td>   NA</td><td>  NA</td><td> NA</td><td>7.4e-38</td></tr>\n",
       "\t<tr><th scope=row>4</th><td>  129</td><td> 204</td><td> 1130</td><td>   NA</td><td>  -540</td><td>  NA</td><td>  NA</td><td>   NA</td><td>  NA</td><td>  NA</td><td>...</td><td>   NA</td><td> NA</td><td>  239</td><td>  NA</td><td>  92</td><td>  NA</td><td>   NA</td><td>  NA</td><td> NA</td><td>5.6e-07</td></tr>\n",
       "\t<tr><th scope=row>5</th><td>   NA</td><td>  NA</td><td>  431</td><td>   NA</td><td>    NA</td><td>  NA</td><td>  NA</td><td>   NA</td><td>  NA</td><td>  NA</td><td>...</td><td>   NA</td><td> NA</td><td>   NA</td><td>  NA</td><td>  NA</td><td>  NA</td><td>   NA</td><td>  NA</td><td> NA</td><td>1.6e-06</td></tr>\n",
       "\t<tr><th scope=row>6</th><td>  977</td><td>  17</td><td> 1222</td><td>  724</td><td>  -800</td><td>  NA</td><td> -12</td><td>   NA</td><td>  42</td><td>  NA</td><td>...</td><td>  668</td><td> NA</td><td>   NA</td><td>  NA</td><td> 138</td><td>  NA</td><td>   NA</td><td>  -3</td><td> NA</td><td>1.1e-05</td></tr>\n",
       "</tbody>\n",
       "</table>\n"
      ],
      "text/latex": [
       "A data.frame: 6 x 34\n",
       "\\begin{tabular}{r|lllllllllllllllllllll}\n",
       "  & CHP\\_396 & CHP\\_357 & CHP\\_404 & CHP\\_408 & CHP\\_381 & CHP\\_409 & CHP\\_373 & CHP\\_405 & CHP\\_353 & CHP\\_415 & ... & CHP\\_366 & CHP\\_348 & CHP\\_397 & CHP\\_370 & CHP\\_410 & CHP\\_349 & CHP\\_413 & CHP\\_387 & CHP\\_367 & MedianFisher\\\\\n",
       "  & <int> & <int> & <int> & <int> & <int> & <int> & <int> & <int> & <int> & <int> & ... & <int> & <int> & <int> & <int> & <int> & <int> & <int> & <int> & <int> & <dbl>\\\\\n",
       "\\hline\n",
       "\t1 & 30739 & 1108 & 19142 & 12346 & -14495 & 1265 & -350 & 24130 & 1640 & 1409 & ... & 24939 & -75 & 12932 & 1379 & 4910 & 1199 & 26603 & -364 & 220 & 7.1e-06\\\\\n",
       "\t2 &    NA &   NA &    NA &    NA &     NA &   NA &   NA &    NA &   NA &   NA & ... &    NA &  NA &    NA &   NA &   NA &   NA &    NA &   NA &  NA & 0.0e+00\\\\\n",
       "\t3 &    NA &   NA &    NA &    NA &     NA &   NA &   NA &    NA &   NA &   NA & ... &    NA &  NA &    NA &   NA &   NA &   NA &    NA &   NA &  NA & 7.4e-38\\\\\n",
       "\t4 &   129 &  204 &  1130 &    NA &   -540 &   NA &   NA &    NA &   NA &   NA & ... &    NA &  NA &   239 &   NA &   92 &   NA &    NA &   NA &  NA & 5.6e-07\\\\\n",
       "\t5 &    NA &   NA &   431 &    NA &     NA &   NA &   NA &    NA &   NA &   NA & ... &    NA &  NA &    NA &   NA &   NA &   NA &    NA &   NA &  NA & 1.6e-06\\\\\n",
       "\t6 &   977 &   17 &  1222 &   724 &   -800 &   NA &  -12 &    NA &   42 &   NA & ... &   668 &  NA &    NA &   NA &  138 &   NA &    NA &   -3 &  NA & 1.1e-05\\\\\n",
       "\\end{tabular}\n"
      ],
      "text/markdown": [
       "\n",
       "A data.frame: 6 x 34\n",
       "\n",
       "| <!--/--> | CHP_396 &lt;int&gt; | CHP_357 &lt;int&gt; | CHP_404 &lt;int&gt; | CHP_408 &lt;int&gt; | CHP_381 &lt;int&gt; | CHP_409 &lt;int&gt; | CHP_373 &lt;int&gt; | CHP_405 &lt;int&gt; | CHP_353 &lt;int&gt; | CHP_415 &lt;int&gt; | ... ... | CHP_366 &lt;int&gt; | CHP_348 &lt;int&gt; | CHP_397 &lt;int&gt; | CHP_370 &lt;int&gt; | CHP_410 &lt;int&gt; | CHP_349 &lt;int&gt; | CHP_413 &lt;int&gt; | CHP_387 &lt;int&gt; | CHP_367 &lt;int&gt; | MedianFisher &lt;dbl&gt; |\n",
       "|---|---|---|---|---|---|---|---|---|---|---|---|---|---|---|---|---|---|---|---|---|---|\n",
       "| 1 | 30739 | 1108 | 19142 | 12346 | -14495 | 1265 | -350 | 24130 | 1640 | 1409 | ... | 24939 | -75 | 12932 | 1379 | 4910 | 1199 | 26603 | -364 | 220 | 7.1e-06 |\n",
       "| 2 |    NA |   NA |    NA |    NA |     NA |   NA |   NA |    NA |   NA |   NA | ... |    NA |  NA |    NA |   NA |   NA |   NA |    NA |   NA |  NA | 0.0e+00 |\n",
       "| 3 |    NA |   NA |    NA |    NA |     NA |   NA |   NA |    NA |   NA |   NA | ... |    NA |  NA |    NA |   NA |   NA |   NA |    NA |   NA |  NA | 7.4e-38 |\n",
       "| 4 |   129 |  204 |  1130 |    NA |   -540 |   NA |   NA |    NA |   NA |   NA | ... |    NA |  NA |   239 |   NA |   92 |   NA |    NA |   NA |  NA | 5.6e-07 |\n",
       "| 5 |    NA |   NA |   431 |    NA |     NA |   NA |   NA |    NA |   NA |   NA | ... |    NA |  NA |    NA |   NA |   NA |   NA |    NA |   NA |  NA | 1.6e-06 |\n",
       "| 6 |   977 |   17 |  1222 |   724 |   -800 |   NA |  -12 |    NA |   42 |   NA | ... |   668 |  NA |    NA |   NA |  138 |   NA |    NA |   -3 |  NA | 1.1e-05 |\n",
       "\n"
      ],
      "text/plain": [
       "  CHP_396 CHP_357 CHP_404 CHP_408 CHP_381 CHP_409 CHP_373 CHP_405 CHP_353\n",
       "1 30739   1108    19142   12346   -14495  1265    -350    24130   1640   \n",
       "2    NA     NA       NA      NA       NA    NA      NA       NA     NA   \n",
       "3    NA     NA       NA      NA       NA    NA      NA       NA     NA   \n",
       "4   129    204     1130      NA     -540    NA      NA       NA     NA   \n",
       "5    NA     NA      431      NA       NA    NA      NA       NA     NA   \n",
       "6   977     17     1222     724     -800    NA     -12       NA     42   \n",
       "  CHP_415 ... CHP_366 CHP_348 CHP_397 CHP_370 CHP_410 CHP_349 CHP_413 CHP_387\n",
       "1 1409    ... 24939   -75     12932   1379    4910    1199    26603   -364   \n",
       "2   NA    ...    NA    NA        NA     NA      NA      NA       NA     NA   \n",
       "3   NA    ...    NA    NA        NA     NA      NA      NA       NA     NA   \n",
       "4   NA    ...    NA    NA       239     NA      92      NA       NA     NA   \n",
       "5   NA    ...    NA    NA        NA     NA      NA      NA       NA     NA   \n",
       "6   NA    ...   668    NA        NA     NA     138      NA       NA     -3   \n",
       "  CHP_367 MedianFisher\n",
       "1 220     7.1e-06     \n",
       "2  NA     0.0e+00     \n",
       "3  NA     7.4e-38     \n",
       "4  NA     5.6e-07     \n",
       "5  NA     1.6e-06     \n",
       "6  NA     1.1e-05     "
      ]
     },
     "metadata": {},
     "output_type": "display_data"
    }
   ],
   "source": [
    "head(comppat_mat)"
   ]
  },
  {
   "cell_type": "code",
   "execution_count": 47,
   "metadata": {
    "vscode": {
     "languageId": "r"
    }
   },
   "outputs": [],
   "source": [
    "comppat_mat$Component_id <- rownames(comppat_mat)"
   ]
  },
  {
   "cell_type": "code",
   "execution_count": 48,
   "metadata": {
    "vscode": {
     "languageId": "r"
    }
   },
   "outputs": [
    {
     "data": {
      "text/html": [
       "<style>\n",
       ".list-inline {list-style: none; margin:0; padding: 0}\n",
       ".list-inline>li {display: inline-block}\n",
       ".list-inline>li:not(:last-child)::after {content: \"\\00b7\"; padding: 0 .5ex}\n",
       "</style>\n",
       "<ol class=list-inline><li>'Component_id'</li><li>'Component_size'</li><li>'PatientDerived_Nodes'</li><li>'NumberOf_PatientDerived_Nodes'</li><li>'Number_of_Patients'</li><li>'Sample_Type_Range'</li><li>'Timepoint_Range'</li><li>'Number_of_Timepoints'</li><li>'Component_specificity'</li><li>'KnownExternalTCRs'</li></ol>\n"
      ],
      "text/latex": [
       "\\begin{enumerate*}\n",
       "\\item 'Component\\_id'\n",
       "\\item 'Component\\_size'\n",
       "\\item 'PatientDerived\\_Nodes'\n",
       "\\item 'NumberOf\\_PatientDerived\\_Nodes'\n",
       "\\item 'Number\\_of\\_Patients'\n",
       "\\item 'Sample\\_Type\\_Range'\n",
       "\\item 'Timepoint\\_Range'\n",
       "\\item 'Number\\_of\\_Timepoints'\n",
       "\\item 'Component\\_specificity'\n",
       "\\item 'KnownExternalTCRs'\n",
       "\\end{enumerate*}\n"
      ],
      "text/markdown": [
       "1. 'Component_id'\n",
       "2. 'Component_size'\n",
       "3. 'PatientDerived_Nodes'\n",
       "4. 'NumberOf_PatientDerived_Nodes'\n",
       "5. 'Number_of_Patients'\n",
       "6. 'Sample_Type_Range'\n",
       "7. 'Timepoint_Range'\n",
       "8. 'Number_of_Timepoints'\n",
       "9. 'Component_specificity'\n",
       "10. 'KnownExternalTCRs'\n",
       "\n",
       "\n"
      ],
      "text/plain": [
       " [1] \"Component_id\"                  \"Component_size\"               \n",
       " [3] \"PatientDerived_Nodes\"          \"NumberOf_PatientDerived_Nodes\"\n",
       " [5] \"Number_of_Patients\"            \"Sample_Type_Range\"            \n",
       " [7] \"Timepoint_Range\"               \"Number_of_Timepoints\"         \n",
       " [9] \"Component_specificity\"         \"KnownExternalTCRs\"            "
      ]
     },
     "metadata": {},
     "output_type": "display_data"
    }
   ],
   "source": [
    "colnames(components)"
   ]
  },
  {
   "cell_type": "code",
   "execution_count": 49,
   "metadata": {
    "vscode": {
     "languageId": "r"
    }
   },
   "outputs": [],
   "source": [
    "# match component_ids and add Component_specificity from components to comppat_mat\n",
    "comppat_mat$Component_specificity <- components$Component_specificity[match(comppat_mat$Component_id, components$Component_id)]"
   ]
  },
  {
   "cell_type": "code",
   "execution_count": 50,
   "metadata": {
    "vscode": {
     "languageId": "r"
    }
   },
   "outputs": [],
   "source": [
    "# remove cancergroups from Component_specificity\n",
    "comppat_mat$Component_specificity <- gsub(\"Lymphoma\", \"\", comppat_mat$Component_specificity)\n",
    "comppat_mat$Component_specificity <- gsub(\"Leukemia\", \"\", comppat_mat$Component_specificity)\n",
    "comppat_mat$Component_specificity <- gsub(\"LFS\", \"\", comppat_mat$Component_specificity)\n",
    "comppat_mat$Component_specificity <- gsub(\"Solidtumors\", \"\", comppat_mat$Component_specificity)\n",
    "comppat_mat$Component_specificity <- gsub(\"T-cellmalignancies\", \"\", comppat_mat$Component_specificity)\n",
    "comppat_mat$Component_specificity <- gsub(\"Normal\", \"\", comppat_mat$Component_specificity)\n",
    "comppat_mat$Component_specificity <- gsub(\"MDavis\", \"\", comppat_mat$Component_specificity)\n",
    "comppat_mat$Component_specificity <- gsub(\"CEF\", \"\", comppat_mat$Component_specificity)"
   ]
  },
  {
   "cell_type": "code",
   "execution_count": 51,
   "metadata": {
    "vscode": {
     "languageId": "r"
    }
   },
   "outputs": [],
   "source": [
    "comppat_mat$Component_specificity <- gsub(\",,\", \"\", comppat_mat$Component_specificity)\n",
    "# trailing ,\n",
    "comppat_mat$Component_specificity <- gsub(\",$\", \"\", comppat_mat$Component_specificity)\n",
    "# leading ,\n",
    "comppat_mat$Component_specificity <- gsub(\"^,\", \"\", comppat_mat$Component_specificity)"
   ]
  },
  {
   "cell_type": "code",
   "execution_count": 52,
   "metadata": {
    "vscode": {
     "languageId": "r"
    }
   },
   "outputs": [
    {
     "data": {
      "text/html": [
       "<style>\n",
       ".list-inline {list-style: none; margin:0; padding: 0}\n",
       ".list-inline>li {display: inline-block}\n",
       ".list-inline>li:not(:last-child)::after {content: \"\\00b7\"; padding: 0 .5ex}\n",
       "</style>\n",
       "<ol class=list-inline><li>171</li><li>36</li></ol>\n"
      ],
      "text/latex": [
       "\\begin{enumerate*}\n",
       "\\item 171\n",
       "\\item 36\n",
       "\\end{enumerate*}\n"
      ],
      "text/markdown": [
       "1. 171\n",
       "2. 36\n",
       "\n",
       "\n"
      ],
      "text/plain": [
       "[1] 171  36"
      ]
     },
     "metadata": {},
     "output_type": "display_data"
    }
   ],
   "source": [
    "dim(comppat_mat)"
   ]
  },
  {
   "cell_type": "code",
   "execution_count": 53,
   "metadata": {
    "vscode": {
     "languageId": "r"
    }
   },
   "outputs": [
    {
     "data": {
      "text/html": [
       "<table class=\"dataframe\">\n",
       "<caption>A data.frame: 6 x 36</caption>\n",
       "<thead>\n",
       "\t<tr><th></th><th scope=col>CHP_396</th><th scope=col>CHP_357</th><th scope=col>CHP_404</th><th scope=col>CHP_408</th><th scope=col>CHP_381</th><th scope=col>CHP_409</th><th scope=col>CHP_373</th><th scope=col>CHP_405</th><th scope=col>CHP_353</th><th scope=col>CHP_415</th><th scope=col>...</th><th scope=col>CHP_397</th><th scope=col>CHP_370</th><th scope=col>CHP_410</th><th scope=col>CHP_349</th><th scope=col>CHP_413</th><th scope=col>CHP_387</th><th scope=col>CHP_367</th><th scope=col>MedianFisher</th><th scope=col>Component_id</th><th scope=col>Component_specificity</th></tr>\n",
       "\t<tr><th></th><th scope=col>&lt;int&gt;</th><th scope=col>&lt;int&gt;</th><th scope=col>&lt;int&gt;</th><th scope=col>&lt;int&gt;</th><th scope=col>&lt;int&gt;</th><th scope=col>&lt;int&gt;</th><th scope=col>&lt;int&gt;</th><th scope=col>&lt;int&gt;</th><th scope=col>&lt;int&gt;</th><th scope=col>&lt;int&gt;</th><th scope=col>...</th><th scope=col>&lt;int&gt;</th><th scope=col>&lt;int&gt;</th><th scope=col>&lt;int&gt;</th><th scope=col>&lt;int&gt;</th><th scope=col>&lt;int&gt;</th><th scope=col>&lt;int&gt;</th><th scope=col>&lt;int&gt;</th><th scope=col>&lt;dbl&gt;</th><th scope=col>&lt;chr&gt;</th><th scope=col>&lt;chr&gt;</th></tr>\n",
       "</thead>\n",
       "<tbody>\n",
       "\t<tr><th scope=row>1</th><td>30739</td><td>1108</td><td>19142</td><td>12346</td><td>-14495</td><td>1265</td><td>-350</td><td>24130</td><td>1640</td><td>1409</td><td>...</td><td>12932</td><td>1379</td><td>4910</td><td>1199</td><td>26603</td><td>-364</td><td>220</td><td>7.1e-06</td><td>1</td><td>CMV,EBV,HCV,HomoSapiens,HPV,InfluenzaM.tuberculosis,MCPyV,S-pneumoniae</td></tr>\n",
       "\t<tr><th scope=row>2</th><td>   NA</td><td>  NA</td><td>   NA</td><td>   NA</td><td>    NA</td><td>  NA</td><td>  NA</td><td>   NA</td><td>  NA</td><td>  NA</td><td>...</td><td>   NA</td><td>  NA</td><td>  NA</td><td>  NA</td><td>   NA</td><td>  NA</td><td> NA</td><td>0.0e+00</td><td>2</td><td>HomoSapiens                                                           </td></tr>\n",
       "\t<tr><th scope=row>3</th><td>   NA</td><td>  NA</td><td>   NA</td><td>   NA</td><td>    NA</td><td>  NA</td><td>  NA</td><td>   NA</td><td>  NA</td><td>  NA</td><td>...</td><td>   NA</td><td>  NA</td><td>  NA</td><td>  NA</td><td>   NA</td><td>  NA</td><td> NA</td><td>7.4e-38</td><td>3</td><td>S-pneumoniae                                                          </td></tr>\n",
       "\t<tr><th scope=row>4</th><td>  129</td><td> 204</td><td> 1130</td><td>   NA</td><td>  -540</td><td>  NA</td><td>  NA</td><td>   NA</td><td>  NA</td><td>  NA</td><td>...</td><td>  239</td><td>  NA</td><td>  92</td><td>  NA</td><td>   NA</td><td>  NA</td><td> NA</td><td>5.6e-07</td><td>4</td><td>CMV,HCV,HomoSapiens,HPV                                               </td></tr>\n",
       "\t<tr><th scope=row>5</th><td>   NA</td><td>  NA</td><td>  431</td><td>   NA</td><td>    NA</td><td>  NA</td><td>  NA</td><td>   NA</td><td>  NA</td><td>  NA</td><td>...</td><td>   NA</td><td>  NA</td><td>  NA</td><td>  NA</td><td>   NA</td><td>  NA</td><td> NA</td><td>1.6e-06</td><td>5</td><td>EBV,HomoSapiens,HPV                                                   </td></tr>\n",
       "\t<tr><th scope=row>6</th><td>  977</td><td>  17</td><td> 1222</td><td>  724</td><td>  -800</td><td>  NA</td><td> -12</td><td>   NA</td><td>  42</td><td>  NA</td><td>...</td><td>   NA</td><td>  NA</td><td> 138</td><td>  NA</td><td>   NA</td><td>  -3</td><td> NA</td><td>1.1e-05</td><td>6</td><td>CMV,EBV,HomoSapiens,HPV                                               </td></tr>\n",
       "</tbody>\n",
       "</table>\n"
      ],
      "text/latex": [
       "A data.frame: 6 x 36\n",
       "\\begin{tabular}{r|lllllllllllllllllllll}\n",
       "  & CHP\\_396 & CHP\\_357 & CHP\\_404 & CHP\\_408 & CHP\\_381 & CHP\\_409 & CHP\\_373 & CHP\\_405 & CHP\\_353 & CHP\\_415 & ... & CHP\\_397 & CHP\\_370 & CHP\\_410 & CHP\\_349 & CHP\\_413 & CHP\\_387 & CHP\\_367 & MedianFisher & Component\\_id & Component\\_specificity\\\\\n",
       "  & <int> & <int> & <int> & <int> & <int> & <int> & <int> & <int> & <int> & <int> & ... & <int> & <int> & <int> & <int> & <int> & <int> & <int> & <dbl> & <chr> & <chr>\\\\\n",
       "\\hline\n",
       "\t1 & 30739 & 1108 & 19142 & 12346 & -14495 & 1265 & -350 & 24130 & 1640 & 1409 & ... & 12932 & 1379 & 4910 & 1199 & 26603 & -364 & 220 & 7.1e-06 & 1 & CMV,EBV,HCV,HomoSapiens,HPV,InfluenzaM.tuberculosis,MCPyV,S-pneumoniae\\\\\n",
       "\t2 &    NA &   NA &    NA &    NA &     NA &   NA &   NA &    NA &   NA &   NA & ... &    NA &   NA &   NA &   NA &    NA &   NA &  NA & 0.0e+00 & 2 & HomoSapiens                                                           \\\\\n",
       "\t3 &    NA &   NA &    NA &    NA &     NA &   NA &   NA &    NA &   NA &   NA & ... &    NA &   NA &   NA &   NA &    NA &   NA &  NA & 7.4e-38 & 3 & S-pneumoniae                                                          \\\\\n",
       "\t4 &   129 &  204 &  1130 &    NA &   -540 &   NA &   NA &    NA &   NA &   NA & ... &   239 &   NA &   92 &   NA &    NA &   NA &  NA & 5.6e-07 & 4 & CMV,HCV,HomoSapiens,HPV                                               \\\\\n",
       "\t5 &    NA &   NA &   431 &    NA &     NA &   NA &   NA &    NA &   NA &   NA & ... &    NA &   NA &   NA &   NA &    NA &   NA &  NA & 1.6e-06 & 5 & EBV,HomoSapiens,HPV                                                   \\\\\n",
       "\t6 &   977 &   17 &  1222 &   724 &   -800 &   NA &  -12 &    NA &   42 &   NA & ... &    NA &   NA &  138 &   NA &    NA &   -3 &  NA & 1.1e-05 & 6 & CMV,EBV,HomoSapiens,HPV                                               \\\\\n",
       "\\end{tabular}\n"
      ],
      "text/markdown": [
       "\n",
       "A data.frame: 6 x 36\n",
       "\n",
       "| <!--/--> | CHP_396 &lt;int&gt; | CHP_357 &lt;int&gt; | CHP_404 &lt;int&gt; | CHP_408 &lt;int&gt; | CHP_381 &lt;int&gt; | CHP_409 &lt;int&gt; | CHP_373 &lt;int&gt; | CHP_405 &lt;int&gt; | CHP_353 &lt;int&gt; | CHP_415 &lt;int&gt; | ... ... | CHP_397 &lt;int&gt; | CHP_370 &lt;int&gt; | CHP_410 &lt;int&gt; | CHP_349 &lt;int&gt; | CHP_413 &lt;int&gt; | CHP_387 &lt;int&gt; | CHP_367 &lt;int&gt; | MedianFisher &lt;dbl&gt; | Component_id &lt;chr&gt; | Component_specificity &lt;chr&gt; |\n",
       "|---|---|---|---|---|---|---|---|---|---|---|---|---|---|---|---|---|---|---|---|---|---|\n",
       "| 1 | 30739 | 1108 | 19142 | 12346 | -14495 | 1265 | -350 | 24130 | 1640 | 1409 | ... | 12932 | 1379 | 4910 | 1199 | 26603 | -364 | 220 | 7.1e-06 | 1 | CMV,EBV,HCV,HomoSapiens,HPV,InfluenzaM.tuberculosis,MCPyV,S-pneumoniae |\n",
       "| 2 |    NA |   NA |    NA |    NA |     NA |   NA |   NA |    NA |   NA |   NA | ... |    NA |   NA |   NA |   NA |    NA |   NA |  NA | 0.0e+00 | 2 | HomoSapiens                                                            |\n",
       "| 3 |    NA |   NA |    NA |    NA |     NA |   NA |   NA |    NA |   NA |   NA | ... |    NA |   NA |   NA |   NA |    NA |   NA |  NA | 7.4e-38 | 3 | S-pneumoniae                                                           |\n",
       "| 4 |   129 |  204 |  1130 |    NA |   -540 |   NA |   NA |    NA |   NA |   NA | ... |   239 |   NA |   92 |   NA |    NA |   NA |  NA | 5.6e-07 | 4 | CMV,HCV,HomoSapiens,HPV                                                |\n",
       "| 5 |    NA |   NA |   431 |    NA |     NA |   NA |   NA |    NA |   NA |   NA | ... |    NA |   NA |   NA |   NA |    NA |   NA |  NA | 1.6e-06 | 5 | EBV,HomoSapiens,HPV                                                    |\n",
       "| 6 |   977 |   17 |  1222 |   724 |   -800 |   NA |  -12 |    NA |   42 |   NA | ... |    NA |   NA |  138 |   NA |    NA |   -3 |  NA | 1.1e-05 | 6 | CMV,EBV,HomoSapiens,HPV                                                |\n",
       "\n"
      ],
      "text/plain": [
       "  CHP_396 CHP_357 CHP_404 CHP_408 CHP_381 CHP_409 CHP_373 CHP_405 CHP_353\n",
       "1 30739   1108    19142   12346   -14495  1265    -350    24130   1640   \n",
       "2    NA     NA       NA      NA       NA    NA      NA       NA     NA   \n",
       "3    NA     NA       NA      NA       NA    NA      NA       NA     NA   \n",
       "4   129    204     1130      NA     -540    NA      NA       NA     NA   \n",
       "5    NA     NA      431      NA       NA    NA      NA       NA     NA   \n",
       "6   977     17     1222     724     -800    NA     -12       NA     42   \n",
       "  CHP_415 ... CHP_397 CHP_370 CHP_410 CHP_349 CHP_413 CHP_387 CHP_367\n",
       "1 1409    ... 12932   1379    4910    1199    26603   -364    220    \n",
       "2   NA    ...    NA     NA      NA      NA       NA     NA     NA    \n",
       "3   NA    ...    NA     NA      NA      NA       NA     NA     NA    \n",
       "4   NA    ...   239     NA      92      NA       NA     NA     NA    \n",
       "5   NA    ...    NA     NA      NA      NA       NA     NA     NA    \n",
       "6   NA    ...    NA     NA     138      NA       NA     -3     NA    \n",
       "  MedianFisher Component_id\n",
       "1 7.1e-06      1           \n",
       "2 0.0e+00      2           \n",
       "3 7.4e-38      3           \n",
       "4 5.6e-07      4           \n",
       "5 1.6e-06      5           \n",
       "6 1.1e-05      6           \n",
       "  Component_specificity                                                 \n",
       "1 CMV,EBV,HCV,HomoSapiens,HPV,InfluenzaM.tuberculosis,MCPyV,S-pneumoniae\n",
       "2 HomoSapiens                                                           \n",
       "3 S-pneumoniae                                                          \n",
       "4 CMV,HCV,HomoSapiens,HPV                                               \n",
       "5 EBV,HomoSapiens,HPV                                                   \n",
       "6 CMV,EBV,HomoSapiens,HPV                                               "
      ]
     },
     "metadata": {},
     "output_type": "display_data"
    }
   ],
   "source": [
    "head(comppat_mat)"
   ]
  },
  {
   "cell_type": "code",
   "execution_count": 54,
   "metadata": {
    "vscode": {
     "languageId": "r"
    }
   },
   "outputs": [],
   "source": [
    "# long format keep fisher and gliph as columns\n",
    "comppat_mat_long <- tidyr::pivot_longer(comppat_mat, -c(\"MedianFisher\", \"Component_id\", \"Component_specificity\"), names_to = \"Patient\", values_to = \"Delta\")"
   ]
  },
  {
   "cell_type": "code",
   "execution_count": 55,
   "metadata": {
    "vscode": {
     "languageId": "r"
    }
   },
   "outputs": [
    {
     "data": {
      "text/html": [
       "171"
      ],
      "text/latex": [
       "171"
      ],
      "text/markdown": [
       "171"
      ],
      "text/plain": [
       "[1] 171"
      ]
     },
     "metadata": {},
     "output_type": "display_data"
    }
   ],
   "source": [
    "length(unique(comppat_mat_long$Component_id))"
   ]
  },
  {
   "cell_type": "code",
   "execution_count": 56,
   "metadata": {
    "vscode": {
     "languageId": "r"
    }
   },
   "outputs": [],
   "source": [
    "# remove rows with NA\n",
    "comppat_mat_long <- comppat_mat_long[ !is.na(comppat_mat_long$Delta), ]"
   ]
  },
  {
   "cell_type": "code",
   "execution_count": 57,
   "metadata": {
    "vscode": {
     "languageId": "r"
    }
   },
   "outputs": [
    {
     "data": {
      "text/html": [
       "<table class=\"dataframe\">\n",
       "<caption>A tibble: 6 x 5</caption>\n",
       "<thead>\n",
       "\t<tr><th scope=col>MedianFisher</th><th scope=col>Component_id</th><th scope=col>Component_specificity</th><th scope=col>Patient</th><th scope=col>Delta</th></tr>\n",
       "\t<tr><th scope=col>&lt;dbl&gt;</th><th scope=col>&lt;chr&gt;</th><th scope=col>&lt;chr&gt;</th><th scope=col>&lt;chr&gt;</th><th scope=col>&lt;int&gt;</th></tr>\n",
       "</thead>\n",
       "<tbody>\n",
       "\t<tr><td>7.1e-06</td><td>1</td><td>CMV,EBV,HCV,HomoSapiens,HPV,InfluenzaM.tuberculosis,MCPyV,S-pneumoniae</td><td>CHP_396</td><td> 30739</td></tr>\n",
       "\t<tr><td>7.1e-06</td><td>1</td><td>CMV,EBV,HCV,HomoSapiens,HPV,InfluenzaM.tuberculosis,MCPyV,S-pneumoniae</td><td>CHP_357</td><td>  1108</td></tr>\n",
       "\t<tr><td>7.1e-06</td><td>1</td><td>CMV,EBV,HCV,HomoSapiens,HPV,InfluenzaM.tuberculosis,MCPyV,S-pneumoniae</td><td>CHP_404</td><td> 19142</td></tr>\n",
       "\t<tr><td>7.1e-06</td><td>1</td><td>CMV,EBV,HCV,HomoSapiens,HPV,InfluenzaM.tuberculosis,MCPyV,S-pneumoniae</td><td>CHP_408</td><td> 12346</td></tr>\n",
       "\t<tr><td>7.1e-06</td><td>1</td><td>CMV,EBV,HCV,HomoSapiens,HPV,InfluenzaM.tuberculosis,MCPyV,S-pneumoniae</td><td>CHP_381</td><td>-14495</td></tr>\n",
       "\t<tr><td>7.1e-06</td><td>1</td><td>CMV,EBV,HCV,HomoSapiens,HPV,InfluenzaM.tuberculosis,MCPyV,S-pneumoniae</td><td>CHP_409</td><td>  1265</td></tr>\n",
       "</tbody>\n",
       "</table>\n"
      ],
      "text/latex": [
       "A tibble: 6 x 5\n",
       "\\begin{tabular}{lllll}\n",
       " MedianFisher & Component\\_id & Component\\_specificity & Patient & Delta\\\\\n",
       " <dbl> & <chr> & <chr> & <chr> & <int>\\\\\n",
       "\\hline\n",
       "\t 7.1e-06 & 1 & CMV,EBV,HCV,HomoSapiens,HPV,InfluenzaM.tuberculosis,MCPyV,S-pneumoniae & CHP\\_396 &  30739\\\\\n",
       "\t 7.1e-06 & 1 & CMV,EBV,HCV,HomoSapiens,HPV,InfluenzaM.tuberculosis,MCPyV,S-pneumoniae & CHP\\_357 &   1108\\\\\n",
       "\t 7.1e-06 & 1 & CMV,EBV,HCV,HomoSapiens,HPV,InfluenzaM.tuberculosis,MCPyV,S-pneumoniae & CHP\\_404 &  19142\\\\\n",
       "\t 7.1e-06 & 1 & CMV,EBV,HCV,HomoSapiens,HPV,InfluenzaM.tuberculosis,MCPyV,S-pneumoniae & CHP\\_408 &  12346\\\\\n",
       "\t 7.1e-06 & 1 & CMV,EBV,HCV,HomoSapiens,HPV,InfluenzaM.tuberculosis,MCPyV,S-pneumoniae & CHP\\_381 & -14495\\\\\n",
       "\t 7.1e-06 & 1 & CMV,EBV,HCV,HomoSapiens,HPV,InfluenzaM.tuberculosis,MCPyV,S-pneumoniae & CHP\\_409 &   1265\\\\\n",
       "\\end{tabular}\n"
      ],
      "text/markdown": [
       "\n",
       "A tibble: 6 x 5\n",
       "\n",
       "| MedianFisher &lt;dbl&gt; | Component_id &lt;chr&gt; | Component_specificity &lt;chr&gt; | Patient &lt;chr&gt; | Delta &lt;int&gt; |\n",
       "|---|---|---|---|---|\n",
       "| 7.1e-06 | 1 | CMV,EBV,HCV,HomoSapiens,HPV,InfluenzaM.tuberculosis,MCPyV,S-pneumoniae | CHP_396 |  30739 |\n",
       "| 7.1e-06 | 1 | CMV,EBV,HCV,HomoSapiens,HPV,InfluenzaM.tuberculosis,MCPyV,S-pneumoniae | CHP_357 |   1108 |\n",
       "| 7.1e-06 | 1 | CMV,EBV,HCV,HomoSapiens,HPV,InfluenzaM.tuberculosis,MCPyV,S-pneumoniae | CHP_404 |  19142 |\n",
       "| 7.1e-06 | 1 | CMV,EBV,HCV,HomoSapiens,HPV,InfluenzaM.tuberculosis,MCPyV,S-pneumoniae | CHP_408 |  12346 |\n",
       "| 7.1e-06 | 1 | CMV,EBV,HCV,HomoSapiens,HPV,InfluenzaM.tuberculosis,MCPyV,S-pneumoniae | CHP_381 | -14495 |\n",
       "| 7.1e-06 | 1 | CMV,EBV,HCV,HomoSapiens,HPV,InfluenzaM.tuberculosis,MCPyV,S-pneumoniae | CHP_409 |   1265 |\n",
       "\n"
      ],
      "text/plain": [
       "  MedianFisher Component_id\n",
       "1 7.1e-06      1           \n",
       "2 7.1e-06      1           \n",
       "3 7.1e-06      1           \n",
       "4 7.1e-06      1           \n",
       "5 7.1e-06      1           \n",
       "6 7.1e-06      1           \n",
       "  Component_specificity                                                 \n",
       "1 CMV,EBV,HCV,HomoSapiens,HPV,InfluenzaM.tuberculosis,MCPyV,S-pneumoniae\n",
       "2 CMV,EBV,HCV,HomoSapiens,HPV,InfluenzaM.tuberculosis,MCPyV,S-pneumoniae\n",
       "3 CMV,EBV,HCV,HomoSapiens,HPV,InfluenzaM.tuberculosis,MCPyV,S-pneumoniae\n",
       "4 CMV,EBV,HCV,HomoSapiens,HPV,InfluenzaM.tuberculosis,MCPyV,S-pneumoniae\n",
       "5 CMV,EBV,HCV,HomoSapiens,HPV,InfluenzaM.tuberculosis,MCPyV,S-pneumoniae\n",
       "6 CMV,EBV,HCV,HomoSapiens,HPV,InfluenzaM.tuberculosis,MCPyV,S-pneumoniae\n",
       "  Patient Delta \n",
       "1 CHP_396  30739\n",
       "2 CHP_357   1108\n",
       "3 CHP_404  19142\n",
       "4 CHP_408  12346\n",
       "5 CHP_381 -14495\n",
       "6 CHP_409   1265"
      ]
     },
     "metadata": {},
     "output_type": "display_data"
    }
   ],
   "source": [
    "head(comppat_mat_long)"
   ]
  },
  {
   "cell_type": "code",
   "execution_count": 58,
   "metadata": {
    "vscode": {
     "languageId": "r"
    }
   },
   "outputs": [],
   "source": [
    "comppat_mat_long$cancergroup <- meta_div$cancergroup[match(comppat_mat_long$Patient, meta_div$Patient)]\n",
    "comppat_mat_long$Disease <- meta_div$Disease_type[match(comppat_mat_long$Patient, meta_div$Patient)]\n",
    "comppat_mat_long$Relapse <- meta_div$Relapse[match(comppat_mat_long$Patient, meta_div$Patient)]"
   ]
  },
  {
   "cell_type": "code",
   "execution_count": 59,
   "metadata": {
    "vscode": {
     "languageId": "r"
    }
   },
   "outputs": [
    {
     "data": {
      "text/html": [
       "<table class=\"dataframe\">\n",
       "<caption>A tibble: 6 x 8</caption>\n",
       "<thead>\n",
       "\t<tr><th scope=col>MedianFisher</th><th scope=col>Component_id</th><th scope=col>Component_specificity</th><th scope=col>Patient</th><th scope=col>Delta</th><th scope=col>cancergroup</th><th scope=col>Disease</th><th scope=col>Relapse</th></tr>\n",
       "\t<tr><th scope=col>&lt;dbl&gt;</th><th scope=col>&lt;chr&gt;</th><th scope=col>&lt;chr&gt;</th><th scope=col>&lt;chr&gt;</th><th scope=col>&lt;int&gt;</th><th scope=col>&lt;chr&gt;</th><th scope=col>&lt;chr&gt;</th><th scope=col>&lt;int&gt;</th></tr>\n",
       "</thead>\n",
       "<tbody>\n",
       "\t<tr><td>7.1e-06</td><td>1</td><td>CMV,EBV,HCV,HomoSapiens,HPV,InfluenzaM.tuberculosis,MCPyV,S-pneumoniae</td><td>CHP_396</td><td> 30739</td><td>Leukemia    </td><td>HR ALL</td><td>0</td></tr>\n",
       "\t<tr><td>7.1e-06</td><td>1</td><td>CMV,EBV,HCV,HomoSapiens,HPV,InfluenzaM.tuberculosis,MCPyV,S-pneumoniae</td><td>CHP_357</td><td>  1108</td><td>Leukemia    </td><td>AML   </td><td>0</td></tr>\n",
       "\t<tr><td>7.1e-06</td><td>1</td><td>CMV,EBV,HCV,HomoSapiens,HPV,InfluenzaM.tuberculosis,MCPyV,S-pneumoniae</td><td>CHP_404</td><td> 19142</td><td>Solid tumors</td><td>ERMS  </td><td>0</td></tr>\n",
       "\t<tr><td>7.1e-06</td><td>1</td><td>CMV,EBV,HCV,HomoSapiens,HPV,InfluenzaM.tuberculosis,MCPyV,S-pneumoniae</td><td>CHP_408</td><td> 12346</td><td>Solid tumors</td><td>OS    </td><td>0</td></tr>\n",
       "\t<tr><td>7.1e-06</td><td>1</td><td>CMV,EBV,HCV,HomoSapiens,HPV,InfluenzaM.tuberculosis,MCPyV,S-pneumoniae</td><td>CHP_381</td><td>-14495</td><td>Solid tumors</td><td>EWS   </td><td>0</td></tr>\n",
       "\t<tr><td>7.1e-06</td><td>1</td><td>CMV,EBV,HCV,HomoSapiens,HPV,InfluenzaM.tuberculosis,MCPyV,S-pneumoniae</td><td>CHP_409</td><td>  1265</td><td>Solid tumors</td><td>EWS   </td><td>0</td></tr>\n",
       "</tbody>\n",
       "</table>\n"
      ],
      "text/latex": [
       "A tibble: 6 x 8\n",
       "\\begin{tabular}{llllllll}\n",
       " MedianFisher & Component\\_id & Component\\_specificity & Patient & Delta & cancergroup & Disease & Relapse\\\\\n",
       " <dbl> & <chr> & <chr> & <chr> & <int> & <chr> & <chr> & <int>\\\\\n",
       "\\hline\n",
       "\t 7.1e-06 & 1 & CMV,EBV,HCV,HomoSapiens,HPV,InfluenzaM.tuberculosis,MCPyV,S-pneumoniae & CHP\\_396 &  30739 & Leukemia     & HR ALL & 0\\\\\n",
       "\t 7.1e-06 & 1 & CMV,EBV,HCV,HomoSapiens,HPV,InfluenzaM.tuberculosis,MCPyV,S-pneumoniae & CHP\\_357 &   1108 & Leukemia     & AML    & 0\\\\\n",
       "\t 7.1e-06 & 1 & CMV,EBV,HCV,HomoSapiens,HPV,InfluenzaM.tuberculosis,MCPyV,S-pneumoniae & CHP\\_404 &  19142 & Solid tumors & ERMS   & 0\\\\\n",
       "\t 7.1e-06 & 1 & CMV,EBV,HCV,HomoSapiens,HPV,InfluenzaM.tuberculosis,MCPyV,S-pneumoniae & CHP\\_408 &  12346 & Solid tumors & OS     & 0\\\\\n",
       "\t 7.1e-06 & 1 & CMV,EBV,HCV,HomoSapiens,HPV,InfluenzaM.tuberculosis,MCPyV,S-pneumoniae & CHP\\_381 & -14495 & Solid tumors & EWS    & 0\\\\\n",
       "\t 7.1e-06 & 1 & CMV,EBV,HCV,HomoSapiens,HPV,InfluenzaM.tuberculosis,MCPyV,S-pneumoniae & CHP\\_409 &   1265 & Solid tumors & EWS    & 0\\\\\n",
       "\\end{tabular}\n"
      ],
      "text/markdown": [
       "\n",
       "A tibble: 6 x 8\n",
       "\n",
       "| MedianFisher &lt;dbl&gt; | Component_id &lt;chr&gt; | Component_specificity &lt;chr&gt; | Patient &lt;chr&gt; | Delta &lt;int&gt; | cancergroup &lt;chr&gt; | Disease &lt;chr&gt; | Relapse &lt;int&gt; |\n",
       "|---|---|---|---|---|---|---|---|\n",
       "| 7.1e-06 | 1 | CMV,EBV,HCV,HomoSapiens,HPV,InfluenzaM.tuberculosis,MCPyV,S-pneumoniae | CHP_396 |  30739 | Leukemia     | HR ALL | 0 |\n",
       "| 7.1e-06 | 1 | CMV,EBV,HCV,HomoSapiens,HPV,InfluenzaM.tuberculosis,MCPyV,S-pneumoniae | CHP_357 |   1108 | Leukemia     | AML    | 0 |\n",
       "| 7.1e-06 | 1 | CMV,EBV,HCV,HomoSapiens,HPV,InfluenzaM.tuberculosis,MCPyV,S-pneumoniae | CHP_404 |  19142 | Solid tumors | ERMS   | 0 |\n",
       "| 7.1e-06 | 1 | CMV,EBV,HCV,HomoSapiens,HPV,InfluenzaM.tuberculosis,MCPyV,S-pneumoniae | CHP_408 |  12346 | Solid tumors | OS     | 0 |\n",
       "| 7.1e-06 | 1 | CMV,EBV,HCV,HomoSapiens,HPV,InfluenzaM.tuberculosis,MCPyV,S-pneumoniae | CHP_381 | -14495 | Solid tumors | EWS    | 0 |\n",
       "| 7.1e-06 | 1 | CMV,EBV,HCV,HomoSapiens,HPV,InfluenzaM.tuberculosis,MCPyV,S-pneumoniae | CHP_409 |   1265 | Solid tumors | EWS    | 0 |\n",
       "\n"
      ],
      "text/plain": [
       "  MedianFisher Component_id\n",
       "1 7.1e-06      1           \n",
       "2 7.1e-06      1           \n",
       "3 7.1e-06      1           \n",
       "4 7.1e-06      1           \n",
       "5 7.1e-06      1           \n",
       "6 7.1e-06      1           \n",
       "  Component_specificity                                                 \n",
       "1 CMV,EBV,HCV,HomoSapiens,HPV,InfluenzaM.tuberculosis,MCPyV,S-pneumoniae\n",
       "2 CMV,EBV,HCV,HomoSapiens,HPV,InfluenzaM.tuberculosis,MCPyV,S-pneumoniae\n",
       "3 CMV,EBV,HCV,HomoSapiens,HPV,InfluenzaM.tuberculosis,MCPyV,S-pneumoniae\n",
       "4 CMV,EBV,HCV,HomoSapiens,HPV,InfluenzaM.tuberculosis,MCPyV,S-pneumoniae\n",
       "5 CMV,EBV,HCV,HomoSapiens,HPV,InfluenzaM.tuberculosis,MCPyV,S-pneumoniae\n",
       "6 CMV,EBV,HCV,HomoSapiens,HPV,InfluenzaM.tuberculosis,MCPyV,S-pneumoniae\n",
       "  Patient Delta  cancergroup  Disease Relapse\n",
       "1 CHP_396  30739 Leukemia     HR ALL  0      \n",
       "2 CHP_357   1108 Leukemia     AML     0      \n",
       "3 CHP_404  19142 Solid tumors ERMS    0      \n",
       "4 CHP_408  12346 Solid tumors OS      0      \n",
       "5 CHP_381 -14495 Solid tumors EWS     0      \n",
       "6 CHP_409   1265 Solid tumors EWS     0      "
      ]
     },
     "metadata": {},
     "output_type": "display_data"
    }
   ],
   "source": [
    "head(comppat_mat_long)"
   ]
  },
  {
   "cell_type": "code",
   "execution_count": 60,
   "metadata": {
    "vscode": {
     "languageId": "r"
    }
   },
   "outputs": [
    {
     "data": {
      "text/html": [
       "<style>\n",
       ".dl-inline {width: auto; margin:0; padding: 0}\n",
       ".dl-inline>dt, .dl-inline>dd {float: none; width: auto; display: inline-block}\n",
       ".dl-inline>dt::after {content: \":\\0020\"; padding-right: .5ex}\n",
       ".dl-inline>dt:not(:first-of-type) {padding-left: .5ex}\n",
       "</style><dl class=dl-inline><dt>10%</dt><dd>-358.4</dd><dt>90%</dt><dd>7226.00000000003</dd></dl>\n"
      ],
      "text/latex": [
       "\\begin{description*}\n",
       "\\item[10\\textbackslash{}\\%] -358.4\n",
       "\\item[90\\textbackslash{}\\%] 7226.00000000003\n",
       "\\end{description*}\n"
      ],
      "text/markdown": [
       "10%\n",
       ":   -358.490%\n",
       ":   7226.00000000003\n",
       "\n"
      ],
      "text/plain": [
       "   10%    90% \n",
       "-358.4 7226.0 "
      ]
     },
     "metadata": {},
     "output_type": "display_data"
    }
   ],
   "source": [
    "quantile(comppat_mat_long$Delta, c(0.1, 0.9))"
   ]
  },
  {
   "cell_type": "code",
   "execution_count": 61,
   "metadata": {
    "vscode": {
     "languageId": "r"
    }
   },
   "outputs": [],
   "source": [
    "# comppat_mat_long$antigen[ is.na(comppat_mat_long$antigen)] <- \"Unknown\""
   ]
  },
  {
   "cell_type": "code",
   "execution_count": 62,
   "metadata": {
    "vscode": {
     "languageId": "r"
    }
   },
   "outputs": [],
   "source": [
    "comppat_mat_long$log10MedianFisher <- -log10(comppat_mat_long$MedianFisher)"
   ]
  },
  {
   "cell_type": "code",
   "execution_count": 63,
   "metadata": {
    "vscode": {
     "languageId": "r"
    }
   },
   "outputs": [
    {
     "data": {
      "text/html": [
       "<table class=\"dataframe\">\n",
       "<caption>A tibble: 6 x 9</caption>\n",
       "<thead>\n",
       "\t<tr><th scope=col>MedianFisher</th><th scope=col>Component_id</th><th scope=col>Component_specificity</th><th scope=col>Patient</th><th scope=col>Delta</th><th scope=col>cancergroup</th><th scope=col>Disease</th><th scope=col>Relapse</th><th scope=col>log10MedianFisher</th></tr>\n",
       "\t<tr><th scope=col>&lt;dbl&gt;</th><th scope=col>&lt;chr&gt;</th><th scope=col>&lt;chr&gt;</th><th scope=col>&lt;chr&gt;</th><th scope=col>&lt;int&gt;</th><th scope=col>&lt;chr&gt;</th><th scope=col>&lt;chr&gt;</th><th scope=col>&lt;int&gt;</th><th scope=col>&lt;dbl&gt;</th></tr>\n",
       "</thead>\n",
       "<tbody>\n",
       "\t<tr><td>7.1e-06</td><td>1</td><td>CMV,EBV,HCV,HomoSapiens,HPV,InfluenzaM.tuberculosis,MCPyV,S-pneumoniae</td><td>CHP_396</td><td> 30739</td><td>Leukemia    </td><td>HR ALL</td><td>0</td><td>5.148742</td></tr>\n",
       "\t<tr><td>7.1e-06</td><td>1</td><td>CMV,EBV,HCV,HomoSapiens,HPV,InfluenzaM.tuberculosis,MCPyV,S-pneumoniae</td><td>CHP_357</td><td>  1108</td><td>Leukemia    </td><td>AML   </td><td>0</td><td>5.148742</td></tr>\n",
       "\t<tr><td>7.1e-06</td><td>1</td><td>CMV,EBV,HCV,HomoSapiens,HPV,InfluenzaM.tuberculosis,MCPyV,S-pneumoniae</td><td>CHP_404</td><td> 19142</td><td>Solid tumors</td><td>ERMS  </td><td>0</td><td>5.148742</td></tr>\n",
       "\t<tr><td>7.1e-06</td><td>1</td><td>CMV,EBV,HCV,HomoSapiens,HPV,InfluenzaM.tuberculosis,MCPyV,S-pneumoniae</td><td>CHP_408</td><td> 12346</td><td>Solid tumors</td><td>OS    </td><td>0</td><td>5.148742</td></tr>\n",
       "\t<tr><td>7.1e-06</td><td>1</td><td>CMV,EBV,HCV,HomoSapiens,HPV,InfluenzaM.tuberculosis,MCPyV,S-pneumoniae</td><td>CHP_381</td><td>-14495</td><td>Solid tumors</td><td>EWS   </td><td>0</td><td>5.148742</td></tr>\n",
       "\t<tr><td>7.1e-06</td><td>1</td><td>CMV,EBV,HCV,HomoSapiens,HPV,InfluenzaM.tuberculosis,MCPyV,S-pneumoniae</td><td>CHP_409</td><td>  1265</td><td>Solid tumors</td><td>EWS   </td><td>0</td><td>5.148742</td></tr>\n",
       "</tbody>\n",
       "</table>\n"
      ],
      "text/latex": [
       "A tibble: 6 x 9\n",
       "\\begin{tabular}{lllllllll}\n",
       " MedianFisher & Component\\_id & Component\\_specificity & Patient & Delta & cancergroup & Disease & Relapse & log10MedianFisher\\\\\n",
       " <dbl> & <chr> & <chr> & <chr> & <int> & <chr> & <chr> & <int> & <dbl>\\\\\n",
       "\\hline\n",
       "\t 7.1e-06 & 1 & CMV,EBV,HCV,HomoSapiens,HPV,InfluenzaM.tuberculosis,MCPyV,S-pneumoniae & CHP\\_396 &  30739 & Leukemia     & HR ALL & 0 & 5.148742\\\\\n",
       "\t 7.1e-06 & 1 & CMV,EBV,HCV,HomoSapiens,HPV,InfluenzaM.tuberculosis,MCPyV,S-pneumoniae & CHP\\_357 &   1108 & Leukemia     & AML    & 0 & 5.148742\\\\\n",
       "\t 7.1e-06 & 1 & CMV,EBV,HCV,HomoSapiens,HPV,InfluenzaM.tuberculosis,MCPyV,S-pneumoniae & CHP\\_404 &  19142 & Solid tumors & ERMS   & 0 & 5.148742\\\\\n",
       "\t 7.1e-06 & 1 & CMV,EBV,HCV,HomoSapiens,HPV,InfluenzaM.tuberculosis,MCPyV,S-pneumoniae & CHP\\_408 &  12346 & Solid tumors & OS     & 0 & 5.148742\\\\\n",
       "\t 7.1e-06 & 1 & CMV,EBV,HCV,HomoSapiens,HPV,InfluenzaM.tuberculosis,MCPyV,S-pneumoniae & CHP\\_381 & -14495 & Solid tumors & EWS    & 0 & 5.148742\\\\\n",
       "\t 7.1e-06 & 1 & CMV,EBV,HCV,HomoSapiens,HPV,InfluenzaM.tuberculosis,MCPyV,S-pneumoniae & CHP\\_409 &   1265 & Solid tumors & EWS    & 0 & 5.148742\\\\\n",
       "\\end{tabular}\n"
      ],
      "text/markdown": [
       "\n",
       "A tibble: 6 x 9\n",
       "\n",
       "| MedianFisher &lt;dbl&gt; | Component_id &lt;chr&gt; | Component_specificity &lt;chr&gt; | Patient &lt;chr&gt; | Delta &lt;int&gt; | cancergroup &lt;chr&gt; | Disease &lt;chr&gt; | Relapse &lt;int&gt; | log10MedianFisher &lt;dbl&gt; |\n",
       "|---|---|---|---|---|---|---|---|---|\n",
       "| 7.1e-06 | 1 | CMV,EBV,HCV,HomoSapiens,HPV,InfluenzaM.tuberculosis,MCPyV,S-pneumoniae | CHP_396 |  30739 | Leukemia     | HR ALL | 0 | 5.148742 |\n",
       "| 7.1e-06 | 1 | CMV,EBV,HCV,HomoSapiens,HPV,InfluenzaM.tuberculosis,MCPyV,S-pneumoniae | CHP_357 |   1108 | Leukemia     | AML    | 0 | 5.148742 |\n",
       "| 7.1e-06 | 1 | CMV,EBV,HCV,HomoSapiens,HPV,InfluenzaM.tuberculosis,MCPyV,S-pneumoniae | CHP_404 |  19142 | Solid tumors | ERMS   | 0 | 5.148742 |\n",
       "| 7.1e-06 | 1 | CMV,EBV,HCV,HomoSapiens,HPV,InfluenzaM.tuberculosis,MCPyV,S-pneumoniae | CHP_408 |  12346 | Solid tumors | OS     | 0 | 5.148742 |\n",
       "| 7.1e-06 | 1 | CMV,EBV,HCV,HomoSapiens,HPV,InfluenzaM.tuberculosis,MCPyV,S-pneumoniae | CHP_381 | -14495 | Solid tumors | EWS    | 0 | 5.148742 |\n",
       "| 7.1e-06 | 1 | CMV,EBV,HCV,HomoSapiens,HPV,InfluenzaM.tuberculosis,MCPyV,S-pneumoniae | CHP_409 |   1265 | Solid tumors | EWS    | 0 | 5.148742 |\n",
       "\n"
      ],
      "text/plain": [
       "  MedianFisher Component_id\n",
       "1 7.1e-06      1           \n",
       "2 7.1e-06      1           \n",
       "3 7.1e-06      1           \n",
       "4 7.1e-06      1           \n",
       "5 7.1e-06      1           \n",
       "6 7.1e-06      1           \n",
       "  Component_specificity                                                 \n",
       "1 CMV,EBV,HCV,HomoSapiens,HPV,InfluenzaM.tuberculosis,MCPyV,S-pneumoniae\n",
       "2 CMV,EBV,HCV,HomoSapiens,HPV,InfluenzaM.tuberculosis,MCPyV,S-pneumoniae\n",
       "3 CMV,EBV,HCV,HomoSapiens,HPV,InfluenzaM.tuberculosis,MCPyV,S-pneumoniae\n",
       "4 CMV,EBV,HCV,HomoSapiens,HPV,InfluenzaM.tuberculosis,MCPyV,S-pneumoniae\n",
       "5 CMV,EBV,HCV,HomoSapiens,HPV,InfluenzaM.tuberculosis,MCPyV,S-pneumoniae\n",
       "6 CMV,EBV,HCV,HomoSapiens,HPV,InfluenzaM.tuberculosis,MCPyV,S-pneumoniae\n",
       "  Patient Delta  cancergroup  Disease Relapse log10MedianFisher\n",
       "1 CHP_396  30739 Leukemia     HR ALL  0       5.148742         \n",
       "2 CHP_357   1108 Leukemia     AML     0       5.148742         \n",
       "3 CHP_404  19142 Solid tumors ERMS    0       5.148742         \n",
       "4 CHP_408  12346 Solid tumors OS      0       5.148742         \n",
       "5 CHP_381 -14495 Solid tumors EWS     0       5.148742         \n",
       "6 CHP_409   1265 Solid tumors EWS     0       5.148742         "
      ]
     },
     "metadata": {},
     "output_type": "display_data"
    }
   ],
   "source": [
    "head(comppat_mat_long)"
   ]
  },
  {
   "cell_type": "code",
   "execution_count": 64,
   "metadata": {
    "vscode": {
     "languageId": "r"
    }
   },
   "outputs": [
    {
     "data": {
      "text/plain": [
       "     Min.   1st Qu.    Median      Mean   3rd Qu.      Max. \n",
       "0.000e+00 7.100e-06 9.850e-06 2.454e-03 7.000e-05 9.500e-02 "
      ]
     },
     "metadata": {},
     "output_type": "display_data"
    }
   ],
   "source": [
    "summary(comppat_mat_long$MedianFisher)"
   ]
  },
  {
   "cell_type": "code",
   "execution_count": 65,
   "metadata": {
    "vscode": {
     "languageId": "r"
    }
   },
   "outputs": [
    {
     "data": {
      "text/html": [
       "22"
      ],
      "text/latex": [
       "22"
      ],
      "text/markdown": [
       "22"
      ],
      "text/plain": [
       "[1] 22"
      ]
     },
     "metadata": {},
     "output_type": "display_data"
    },
    {
     "data": {
      "text/html": [
       "33"
      ],
      "text/latex": [
       "33"
      ],
      "text/markdown": [
       "33"
      ],
      "text/plain": [
       "[1] 33"
      ]
     },
     "metadata": {},
     "output_type": "display_data"
    }
   ],
   "source": [
    "length(unique(comppat_mat_long$Component_id))\n",
    "length(unique(comppat_mat_long$Patient))"
   ]
  },
  {
   "cell_type": "code",
   "execution_count": 66,
   "metadata": {
    "vscode": {
     "languageId": "r"
    }
   },
   "outputs": [
    {
     "data": {
      "text/plain": [
       "\n",
       "  1  10  11 111  12  13 151  17 171 173 211 214 222 246 248   4   5  56   6  69 \n",
       " 33   3   1   4   1   9   1   1   1   1   1   1   1   1   2  13   1   1  19   1 \n",
       "  7   8 \n",
       "  8   1 "
      ]
     },
     "metadata": {},
     "output_type": "display_data"
    }
   ],
   "source": [
    "table(comppat_mat_long$Component_id)"
   ]
  },
  {
   "cell_type": "code",
   "execution_count": 67,
   "metadata": {
    "vscode": {
     "languageId": "r"
    }
   },
   "outputs": [],
   "source": [
    "# remove NA\n",
    "comppat_mat_long <- comppat_mat_long[!is.na(comppat_mat_long$MedianFisher),]"
   ]
  },
  {
   "cell_type": "code",
   "execution_count": 68,
   "metadata": {
    "vscode": {
     "languageId": "r"
    }
   },
   "outputs": [
    {
     "data": {
      "text/html": [
       "22"
      ],
      "text/latex": [
       "22"
      ],
      "text/markdown": [
       "22"
      ],
      "text/plain": [
       "[1] 22"
      ]
     },
     "metadata": {},
     "output_type": "display_data"
    },
    {
     "data": {
      "text/html": [
       "33"
      ],
      "text/latex": [
       "33"
      ],
      "text/markdown": [
       "33"
      ],
      "text/plain": [
       "[1] 33"
      ]
     },
     "metadata": {},
     "output_type": "display_data"
    }
   ],
   "source": [
    "length(unique(comppat_mat_long$Component_id))\n",
    "length(unique(comppat_mat_long$Patient))"
   ]
  },
  {
   "cell_type": "code",
   "execution_count": 69,
   "metadata": {
    "vscode": {
     "languageId": "r"
    }
   },
   "outputs": [],
   "source": [
    "# create summary tab\n",
    "comppat_mat_long_summary <- comppat_mat_long %>%\n",
    "  group_by(Component_id) %>%\n",
    "  mutate(MeanDelta = mean(Delta)) %>%\n",
    "  ungroup()"
   ]
  },
  {
   "cell_type": "code",
   "execution_count": 70,
   "metadata": {
    "vscode": {
     "languageId": "r"
    }
   },
   "outputs": [],
   "source": [
    "comppat_mat_long_summary <- comppat_mat_long_summary %>%\n",
    "  group_by(Component_id) %>%\n",
    "  mutate(UniquePatients = n_distinct(Patient)) %>%\n",
    "  ungroup()"
   ]
  },
  {
   "cell_type": "code",
   "execution_count": 71,
   "metadata": {
    "vscode": {
     "languageId": "r"
    }
   },
   "outputs": [],
   "source": [
    "comppat_mat_long_summary <- comppat_mat_long_summary[ !duplicated(comppat_mat_long_summary$Component_id),]"
   ]
  },
  {
   "cell_type": "code",
   "execution_count": 72,
   "metadata": {
    "vscode": {
     "languageId": "r"
    }
   },
   "outputs": [
    {
     "data": {
      "text/html": [
       "<table class=\"dataframe\">\n",
       "<caption>A tibble: 3 x 9</caption>\n",
       "<thead>\n",
       "\t<tr><th scope=col>MedianFisher</th><th scope=col>Component_id</th><th scope=col>Component_specificity</th><th scope=col>Patient</th><th scope=col>Delta</th><th scope=col>cancergroup</th><th scope=col>Disease</th><th scope=col>Relapse</th><th scope=col>log10MedianFisher</th></tr>\n",
       "\t<tr><th scope=col>&lt;dbl&gt;</th><th scope=col>&lt;chr&gt;</th><th scope=col>&lt;chr&gt;</th><th scope=col>&lt;chr&gt;</th><th scope=col>&lt;int&gt;</th><th scope=col>&lt;chr&gt;</th><th scope=col>&lt;chr&gt;</th><th scope=col>&lt;int&gt;</th><th scope=col>&lt;dbl&gt;</th></tr>\n",
       "</thead>\n",
       "<tbody>\n",
       "\t<tr><td>8.35e-05</td><td>10</td><td>EBV,HomoSapiens</td><td>CHP_404</td><td>705</td><td>Solid tumors</td><td>ERMS</td><td>0</td><td>4.078314</td></tr>\n",
       "\t<tr><td>8.35e-05</td><td>10</td><td>EBV,HomoSapiens</td><td>CHP_381</td><td>-16</td><td>Solid tumors</td><td>EWS </td><td>0</td><td>4.078314</td></tr>\n",
       "\t<tr><td>8.35e-05</td><td>10</td><td>EBV,HomoSapiens</td><td>CHP_365</td><td>202</td><td>Leukemia    </td><td>ALL </td><td>0</td><td>4.078314</td></tr>\n",
       "</tbody>\n",
       "</table>\n"
      ],
      "text/latex": [
       "A tibble: 3 x 9\n",
       "\\begin{tabular}{lllllllll}\n",
       " MedianFisher & Component\\_id & Component\\_specificity & Patient & Delta & cancergroup & Disease & Relapse & log10MedianFisher\\\\\n",
       " <dbl> & <chr> & <chr> & <chr> & <int> & <chr> & <chr> & <int> & <dbl>\\\\\n",
       "\\hline\n",
       "\t 8.35e-05 & 10 & EBV,HomoSapiens & CHP\\_404 & 705 & Solid tumors & ERMS & 0 & 4.078314\\\\\n",
       "\t 8.35e-05 & 10 & EBV,HomoSapiens & CHP\\_381 & -16 & Solid tumors & EWS  & 0 & 4.078314\\\\\n",
       "\t 8.35e-05 & 10 & EBV,HomoSapiens & CHP\\_365 & 202 & Leukemia     & ALL  & 0 & 4.078314\\\\\n",
       "\\end{tabular}\n"
      ],
      "text/markdown": [
       "\n",
       "A tibble: 3 x 9\n",
       "\n",
       "| MedianFisher &lt;dbl&gt; | Component_id &lt;chr&gt; | Component_specificity &lt;chr&gt; | Patient &lt;chr&gt; | Delta &lt;int&gt; | cancergroup &lt;chr&gt; | Disease &lt;chr&gt; | Relapse &lt;int&gt; | log10MedianFisher &lt;dbl&gt; |\n",
       "|---|---|---|---|---|---|---|---|---|\n",
       "| 8.35e-05 | 10 | EBV,HomoSapiens | CHP_404 | 705 | Solid tumors | ERMS | 0 | 4.078314 |\n",
       "| 8.35e-05 | 10 | EBV,HomoSapiens | CHP_381 | -16 | Solid tumors | EWS  | 0 | 4.078314 |\n",
       "| 8.35e-05 | 10 | EBV,HomoSapiens | CHP_365 | 202 | Leukemia     | ALL  | 0 | 4.078314 |\n",
       "\n"
      ],
      "text/plain": [
       "  MedianFisher Component_id Component_specificity Patient Delta cancergroup \n",
       "1 8.35e-05     10           EBV,HomoSapiens       CHP_404 705   Solid tumors\n",
       "2 8.35e-05     10           EBV,HomoSapiens       CHP_381 -16   Solid tumors\n",
       "3 8.35e-05     10           EBV,HomoSapiens       CHP_365 202   Leukemia    \n",
       "  Disease Relapse log10MedianFisher\n",
       "1 ERMS    0       4.078314         \n",
       "2 EWS     0       4.078314         \n",
       "3 ALL     0       4.078314         "
      ]
     },
     "metadata": {},
     "output_type": "display_data"
    }
   ],
   "source": [
    "head(comppat_mat_long[ comppat_mat_long$Component_id == \"10\",])"
   ]
  },
  {
   "cell_type": "code",
   "execution_count": 73,
   "metadata": {
    "vscode": {
     "languageId": "r"
    }
   },
   "outputs": [],
   "source": [
    "comppat_mat_long_summary$Delta <- NULL\n",
    "comppat_mat_long_summary$Patient <- NULL\n",
    "comppat_mat_long_summary$cancergroup <- NULL\n",
    "comppat_mat_long_summary$Disease <- NULL\n",
    "comppat_mat_long_summary$Relapse <- NULL"
   ]
  },
  {
   "cell_type": "code",
   "execution_count": 74,
   "metadata": {
    "vscode": {
     "languageId": "r"
    }
   },
   "outputs": [
    {
     "data": {
      "text/html": [
       "<table class=\"dataframe\">\n",
       "<caption>A tibble: 22 x 6</caption>\n",
       "<thead>\n",
       "\t<tr><th scope=col>MedianFisher</th><th scope=col>Component_id</th><th scope=col>Component_specificity</th><th scope=col>log10MedianFisher</th><th scope=col>MeanDelta</th><th scope=col>UniquePatients</th></tr>\n",
       "\t<tr><th scope=col>&lt;dbl&gt;</th><th scope=col>&lt;chr&gt;</th><th scope=col>&lt;chr&gt;</th><th scope=col>&lt;dbl&gt;</th><th scope=col>&lt;dbl&gt;</th><th scope=col>&lt;int&gt;</th></tr>\n",
       "</thead>\n",
       "<tbody>\n",
       "\t<tr><td>7.10e-06</td><td>1  </td><td>CMV,EBV,HCV,HomoSapiens,HPV,InfluenzaM.tuberculosis,MCPyV,S-pneumoniae</td><td>5.148742</td><td> 4411.03030</td><td>33</td></tr>\n",
       "\t<tr><td>8.35e-05</td><td>10 </td><td>EBV,HomoSapiens                                                       </td><td>4.078314</td><td>  297.00000</td><td> 3</td></tr>\n",
       "\t<tr><td>1.20e-09</td><td>11 </td><td>                                                                      </td><td>8.920819</td><td>  241.00000</td><td> 1</td></tr>\n",
       "\t<tr><td>4.20e-03</td><td>111</td><td>CMV,HCV,HomoSapiens                                                   </td><td>2.376751</td><td>  120.25000</td><td> 4</td></tr>\n",
       "\t<tr><td>2.10e-04</td><td>12 </td><td>                                                                      </td><td>3.677781</td><td>  -11.00000</td><td> 1</td></tr>\n",
       "\t<tr><td>7.00e-05</td><td>13 </td><td>CMV,EBV,HPV                                                           </td><td>4.154902</td><td> -270.88889</td><td> 9</td></tr>\n",
       "\t<tr><td>6.30e-05</td><td>151</td><td>                                                                      </td><td>4.200659</td><td> 3133.00000</td><td> 1</td></tr>\n",
       "\t<tr><td>1.75e-05</td><td>17 </td><td>CMV                                                                   </td><td>4.756962</td><td>  -12.00000</td><td> 1</td></tr>\n",
       "\t<tr><td>1.70e-04</td><td>171</td><td>                                                                      </td><td>3.769551</td><td> 1378.00000</td><td> 1</td></tr>\n",
       "\t<tr><td>1.90e-04</td><td>173</td><td>                                                                      </td><td>3.721246</td><td> 1663.00000</td><td> 1</td></tr>\n",
       "\t<tr><td>9.30e-04</td><td>211</td><td>                                                                      </td><td>3.031517</td><td>-1022.00000</td><td> 1</td></tr>\n",
       "\t<tr><td>1.00e-03</td><td>214</td><td>                                                                      </td><td>3.000000</td><td> 3345.00000</td><td> 1</td></tr>\n",
       "\t<tr><td>1.60e-03</td><td>222</td><td>                                                                      </td><td>2.795880</td><td>  478.00000</td><td> 1</td></tr>\n",
       "\t<tr><td>4.20e-02</td><td>246</td><td>                                                                      </td><td>1.376751</td><td>  -12.00000</td><td> 1</td></tr>\n",
       "\t<tr><td>9.50e-02</td><td>248</td><td>                                                                      </td><td>1.022276</td><td>   22.50000</td><td> 2</td></tr>\n",
       "\t<tr><td>5.60e-07</td><td>4  </td><td>CMV,HCV,HomoSapiens,HPV                                               </td><td>6.251812</td><td>  344.38462</td><td>13</td></tr>\n",
       "\t<tr><td>1.60e-06</td><td>5  </td><td>EBV,HomoSapiens,HPV                                                   </td><td>5.795880</td><td>  431.00000</td><td> 1</td></tr>\n",
       "\t<tr><td>2.65e-03</td><td>56 </td><td>                                                                      </td><td>2.576754</td><td>  -66.00000</td><td> 1</td></tr>\n",
       "\t<tr><td>1.10e-05</td><td>6  </td><td>CMV,EBV,HomoSapiens,HPV                                               </td><td>4.958607</td><td>  -29.26316</td><td>19</td></tr>\n",
       "\t<tr><td>6.30e-04</td><td>69 </td><td>                                                                      </td><td>3.200659</td><td>   26.00000</td><td> 1</td></tr>\n",
       "\t<tr><td>9.85e-06</td><td>7  </td><td>CMV,HomoSapiens                                                       </td><td>5.006564</td><td>  212.25000</td><td> 8</td></tr>\n",
       "\t<tr><td>2.10e-05</td><td>8  </td><td>                                                                      </td><td>4.677781</td><td>  354.00000</td><td> 1</td></tr>\n",
       "</tbody>\n",
       "</table>\n"
      ],
      "text/latex": [
       "A tibble: 22 x 6\n",
       "\\begin{tabular}{llllll}\n",
       " MedianFisher & Component\\_id & Component\\_specificity & log10MedianFisher & MeanDelta & UniquePatients\\\\\n",
       " <dbl> & <chr> & <chr> & <dbl> & <dbl> & <int>\\\\\n",
       "\\hline\n",
       "\t 7.10e-06 & 1   & CMV,EBV,HCV,HomoSapiens,HPV,InfluenzaM.tuberculosis,MCPyV,S-pneumoniae & 5.148742 &  4411.03030 & 33\\\\\n",
       "\t 8.35e-05 & 10  & EBV,HomoSapiens                                                        & 4.078314 &   297.00000 &  3\\\\\n",
       "\t 1.20e-09 & 11  &                                                                        & 8.920819 &   241.00000 &  1\\\\\n",
       "\t 4.20e-03 & 111 & CMV,HCV,HomoSapiens                                                    & 2.376751 &   120.25000 &  4\\\\\n",
       "\t 2.10e-04 & 12  &                                                                        & 3.677781 &   -11.00000 &  1\\\\\n",
       "\t 7.00e-05 & 13  & CMV,EBV,HPV                                                            & 4.154902 &  -270.88889 &  9\\\\\n",
       "\t 6.30e-05 & 151 &                                                                        & 4.200659 &  3133.00000 &  1\\\\\n",
       "\t 1.75e-05 & 17  & CMV                                                                    & 4.756962 &   -12.00000 &  1\\\\\n",
       "\t 1.70e-04 & 171 &                                                                        & 3.769551 &  1378.00000 &  1\\\\\n",
       "\t 1.90e-04 & 173 &                                                                        & 3.721246 &  1663.00000 &  1\\\\\n",
       "\t 9.30e-04 & 211 &                                                                        & 3.031517 & -1022.00000 &  1\\\\\n",
       "\t 1.00e-03 & 214 &                                                                        & 3.000000 &  3345.00000 &  1\\\\\n",
       "\t 1.60e-03 & 222 &                                                                        & 2.795880 &   478.00000 &  1\\\\\n",
       "\t 4.20e-02 & 246 &                                                                        & 1.376751 &   -12.00000 &  1\\\\\n",
       "\t 9.50e-02 & 248 &                                                                        & 1.022276 &    22.50000 &  2\\\\\n",
       "\t 5.60e-07 & 4   & CMV,HCV,HomoSapiens,HPV                                                & 6.251812 &   344.38462 & 13\\\\\n",
       "\t 1.60e-06 & 5   & EBV,HomoSapiens,HPV                                                    & 5.795880 &   431.00000 &  1\\\\\n",
       "\t 2.65e-03 & 56  &                                                                        & 2.576754 &   -66.00000 &  1\\\\\n",
       "\t 1.10e-05 & 6   & CMV,EBV,HomoSapiens,HPV                                                & 4.958607 &   -29.26316 & 19\\\\\n",
       "\t 6.30e-04 & 69  &                                                                        & 3.200659 &    26.00000 &  1\\\\\n",
       "\t 9.85e-06 & 7   & CMV,HomoSapiens                                                        & 5.006564 &   212.25000 &  8\\\\\n",
       "\t 2.10e-05 & 8   &                                                                        & 4.677781 &   354.00000 &  1\\\\\n",
       "\\end{tabular}\n"
      ],
      "text/markdown": [
       "\n",
       "A tibble: 22 x 6\n",
       "\n",
       "| MedianFisher &lt;dbl&gt; | Component_id &lt;chr&gt; | Component_specificity &lt;chr&gt; | log10MedianFisher &lt;dbl&gt; | MeanDelta &lt;dbl&gt; | UniquePatients &lt;int&gt; |\n",
       "|---|---|---|---|---|---|\n",
       "| 7.10e-06 | 1   | CMV,EBV,HCV,HomoSapiens,HPV,InfluenzaM.tuberculosis,MCPyV,S-pneumoniae | 5.148742 |  4411.03030 | 33 |\n",
       "| 8.35e-05 | 10  | EBV,HomoSapiens                                                        | 4.078314 |   297.00000 |  3 |\n",
       "| 1.20e-09 | 11  | <!----> | 8.920819 |   241.00000 |  1 |\n",
       "| 4.20e-03 | 111 | CMV,HCV,HomoSapiens                                                    | 2.376751 |   120.25000 |  4 |\n",
       "| 2.10e-04 | 12  | <!----> | 3.677781 |   -11.00000 |  1 |\n",
       "| 7.00e-05 | 13  | CMV,EBV,HPV                                                            | 4.154902 |  -270.88889 |  9 |\n",
       "| 6.30e-05 | 151 | <!----> | 4.200659 |  3133.00000 |  1 |\n",
       "| 1.75e-05 | 17  | CMV                                                                    | 4.756962 |   -12.00000 |  1 |\n",
       "| 1.70e-04 | 171 | <!----> | 3.769551 |  1378.00000 |  1 |\n",
       "| 1.90e-04 | 173 | <!----> | 3.721246 |  1663.00000 |  1 |\n",
       "| 9.30e-04 | 211 | <!----> | 3.031517 | -1022.00000 |  1 |\n",
       "| 1.00e-03 | 214 | <!----> | 3.000000 |  3345.00000 |  1 |\n",
       "| 1.60e-03 | 222 | <!----> | 2.795880 |   478.00000 |  1 |\n",
       "| 4.20e-02 | 246 | <!----> | 1.376751 |   -12.00000 |  1 |\n",
       "| 9.50e-02 | 248 | <!----> | 1.022276 |    22.50000 |  2 |\n",
       "| 5.60e-07 | 4   | CMV,HCV,HomoSapiens,HPV                                                | 6.251812 |   344.38462 | 13 |\n",
       "| 1.60e-06 | 5   | EBV,HomoSapiens,HPV                                                    | 5.795880 |   431.00000 |  1 |\n",
       "| 2.65e-03 | 56  | <!----> | 2.576754 |   -66.00000 |  1 |\n",
       "| 1.10e-05 | 6   | CMV,EBV,HomoSapiens,HPV                                                | 4.958607 |   -29.26316 | 19 |\n",
       "| 6.30e-04 | 69  | <!----> | 3.200659 |    26.00000 |  1 |\n",
       "| 9.85e-06 | 7   | CMV,HomoSapiens                                                        | 5.006564 |   212.25000 |  8 |\n",
       "| 2.10e-05 | 8   | <!----> | 4.677781 |   354.00000 |  1 |\n",
       "\n"
      ],
      "text/plain": [
       "   MedianFisher Component_id\n",
       "1  7.10e-06     1           \n",
       "2  8.35e-05     10          \n",
       "3  1.20e-09     11          \n",
       "4  4.20e-03     111         \n",
       "5  2.10e-04     12          \n",
       "6  7.00e-05     13          \n",
       "7  6.30e-05     151         \n",
       "8  1.75e-05     17          \n",
       "9  1.70e-04     171         \n",
       "10 1.90e-04     173         \n",
       "11 9.30e-04     211         \n",
       "12 1.00e-03     214         \n",
       "13 1.60e-03     222         \n",
       "14 4.20e-02     246         \n",
       "15 9.50e-02     248         \n",
       "16 5.60e-07     4           \n",
       "17 1.60e-06     5           \n",
       "18 2.65e-03     56          \n",
       "19 1.10e-05     6           \n",
       "20 6.30e-04     69          \n",
       "21 9.85e-06     7           \n",
       "22 2.10e-05     8           \n",
       "   Component_specificity                                                 \n",
       "1  CMV,EBV,HCV,HomoSapiens,HPV,InfluenzaM.tuberculosis,MCPyV,S-pneumoniae\n",
       "2  EBV,HomoSapiens                                                       \n",
       "3                                                                        \n",
       "4  CMV,HCV,HomoSapiens                                                   \n",
       "5                                                                        \n",
       "6  CMV,EBV,HPV                                                           \n",
       "7                                                                        \n",
       "8  CMV                                                                   \n",
       "9                                                                        \n",
       "10                                                                       \n",
       "11                                                                       \n",
       "12                                                                       \n",
       "13                                                                       \n",
       "14                                                                       \n",
       "15                                                                       \n",
       "16 CMV,HCV,HomoSapiens,HPV                                               \n",
       "17 EBV,HomoSapiens,HPV                                                   \n",
       "18                                                                       \n",
       "19 CMV,EBV,HomoSapiens,HPV                                               \n",
       "20                                                                       \n",
       "21 CMV,HomoSapiens                                                       \n",
       "22                                                                       \n",
       "   log10MedianFisher MeanDelta   UniquePatients\n",
       "1  5.148742           4411.03030 33            \n",
       "2  4.078314            297.00000  3            \n",
       "3  8.920819            241.00000  1            \n",
       "4  2.376751            120.25000  4            \n",
       "5  3.677781            -11.00000  1            \n",
       "6  4.154902           -270.88889  9            \n",
       "7  4.200659           3133.00000  1            \n",
       "8  4.756962            -12.00000  1            \n",
       "9  3.769551           1378.00000  1            \n",
       "10 3.721246           1663.00000  1            \n",
       "11 3.031517          -1022.00000  1            \n",
       "12 3.000000           3345.00000  1            \n",
       "13 2.795880            478.00000  1            \n",
       "14 1.376751            -12.00000  1            \n",
       "15 1.022276             22.50000  2            \n",
       "16 6.251812            344.38462 13            \n",
       "17 5.795880            431.00000  1            \n",
       "18 2.576754            -66.00000  1            \n",
       "19 4.958607            -29.26316 19            \n",
       "20 3.200659             26.00000  1            \n",
       "21 5.006564            212.25000  8            \n",
       "22 4.677781            354.00000  1            "
      ]
     },
     "metadata": {},
     "output_type": "display_data"
    }
   ],
   "source": [
    "comppat_mat_long_summary[ order(comppat_mat_long_summary$Component_id),]"
   ]
  },
  {
   "cell_type": "code",
   "execution_count": 75,
   "metadata": {
    "vscode": {
     "languageId": "r"
    }
   },
   "outputs": [
    {
     "data": {
      "text/html": [
       "<table class=\"dataframe\">\n",
       "<caption>A tibble: 8 x 9</caption>\n",
       "<thead>\n",
       "\t<tr><th scope=col>MedianFisher</th><th scope=col>Component_id</th><th scope=col>Component_specificity</th><th scope=col>Patient</th><th scope=col>Delta</th><th scope=col>cancergroup</th><th scope=col>Disease</th><th scope=col>Relapse</th><th scope=col>log10MedianFisher</th></tr>\n",
       "\t<tr><th scope=col>&lt;dbl&gt;</th><th scope=col>&lt;chr&gt;</th><th scope=col>&lt;chr&gt;</th><th scope=col>&lt;chr&gt;</th><th scope=col>&lt;int&gt;</th><th scope=col>&lt;chr&gt;</th><th scope=col>&lt;chr&gt;</th><th scope=col>&lt;int&gt;</th><th scope=col>&lt;dbl&gt;</th></tr>\n",
       "</thead>\n",
       "<tbody>\n",
       "\t<tr><td>9.85e-06</td><td>7</td><td>CMV,HomoSapiens</td><td>CHP_396</td><td>1910</td><td>Leukemia    </td><td>HR ALL</td><td>0</td><td>5.006564</td></tr>\n",
       "\t<tr><td>9.85e-06</td><td>7</td><td>CMV,HomoSapiens</td><td>CHP_357</td><td>   5</td><td>Leukemia    </td><td>AML   </td><td>0</td><td>5.006564</td></tr>\n",
       "\t<tr><td>9.85e-06</td><td>7</td><td>CMV,HomoSapiens</td><td>CHP_404</td><td>  54</td><td>Solid tumors</td><td>ERMS  </td><td>0</td><td>5.006564</td></tr>\n",
       "\t<tr><td>9.85e-06</td><td>7</td><td>CMV,HomoSapiens</td><td>CHP_381</td><td>-311</td><td>Solid tumors</td><td>EWS   </td><td>0</td><td>5.006564</td></tr>\n",
       "\t<tr><td>9.85e-06</td><td>7</td><td>CMV,HomoSapiens</td><td>CHP_353</td><td>  39</td><td>Leukemia    </td><td>AML   </td><td>1</td><td>5.006564</td></tr>\n",
       "\t<tr><td>9.85e-06</td><td>7</td><td>CMV,HomoSapiens</td><td>CHP_363</td><td>-160</td><td>Solid tumors</td><td>EWS   </td><td>0</td><td>5.006564</td></tr>\n",
       "\t<tr><td>9.85e-06</td><td>7</td><td>CMV,HomoSapiens</td><td>CHP_365</td><td> 161</td><td>Leukemia    </td><td>ALL   </td><td>0</td><td>5.006564</td></tr>\n",
       "\t<tr><td>9.85e-06</td><td>7</td><td>CMV,HomoSapiens</td><td>CHP_368</td><td>   0</td><td>Solid tumors</td><td>ARMS  </td><td>1</td><td>5.006564</td></tr>\n",
       "</tbody>\n",
       "</table>\n"
      ],
      "text/latex": [
       "A tibble: 8 x 9\n",
       "\\begin{tabular}{lllllllll}\n",
       " MedianFisher & Component\\_id & Component\\_specificity & Patient & Delta & cancergroup & Disease & Relapse & log10MedianFisher\\\\\n",
       " <dbl> & <chr> & <chr> & <chr> & <int> & <chr> & <chr> & <int> & <dbl>\\\\\n",
       "\\hline\n",
       "\t 9.85e-06 & 7 & CMV,HomoSapiens & CHP\\_396 & 1910 & Leukemia     & HR ALL & 0 & 5.006564\\\\\n",
       "\t 9.85e-06 & 7 & CMV,HomoSapiens & CHP\\_357 &    5 & Leukemia     & AML    & 0 & 5.006564\\\\\n",
       "\t 9.85e-06 & 7 & CMV,HomoSapiens & CHP\\_404 &   54 & Solid tumors & ERMS   & 0 & 5.006564\\\\\n",
       "\t 9.85e-06 & 7 & CMV,HomoSapiens & CHP\\_381 & -311 & Solid tumors & EWS    & 0 & 5.006564\\\\\n",
       "\t 9.85e-06 & 7 & CMV,HomoSapiens & CHP\\_353 &   39 & Leukemia     & AML    & 1 & 5.006564\\\\\n",
       "\t 9.85e-06 & 7 & CMV,HomoSapiens & CHP\\_363 & -160 & Solid tumors & EWS    & 0 & 5.006564\\\\\n",
       "\t 9.85e-06 & 7 & CMV,HomoSapiens & CHP\\_365 &  161 & Leukemia     & ALL    & 0 & 5.006564\\\\\n",
       "\t 9.85e-06 & 7 & CMV,HomoSapiens & CHP\\_368 &    0 & Solid tumors & ARMS   & 1 & 5.006564\\\\\n",
       "\\end{tabular}\n"
      ],
      "text/markdown": [
       "\n",
       "A tibble: 8 x 9\n",
       "\n",
       "| MedianFisher &lt;dbl&gt; | Component_id &lt;chr&gt; | Component_specificity &lt;chr&gt; | Patient &lt;chr&gt; | Delta &lt;int&gt; | cancergroup &lt;chr&gt; | Disease &lt;chr&gt; | Relapse &lt;int&gt; | log10MedianFisher &lt;dbl&gt; |\n",
       "|---|---|---|---|---|---|---|---|---|\n",
       "| 9.85e-06 | 7 | CMV,HomoSapiens | CHP_396 | 1910 | Leukemia     | HR ALL | 0 | 5.006564 |\n",
       "| 9.85e-06 | 7 | CMV,HomoSapiens | CHP_357 |    5 | Leukemia     | AML    | 0 | 5.006564 |\n",
       "| 9.85e-06 | 7 | CMV,HomoSapiens | CHP_404 |   54 | Solid tumors | ERMS   | 0 | 5.006564 |\n",
       "| 9.85e-06 | 7 | CMV,HomoSapiens | CHP_381 | -311 | Solid tumors | EWS    | 0 | 5.006564 |\n",
       "| 9.85e-06 | 7 | CMV,HomoSapiens | CHP_353 |   39 | Leukemia     | AML    | 1 | 5.006564 |\n",
       "| 9.85e-06 | 7 | CMV,HomoSapiens | CHP_363 | -160 | Solid tumors | EWS    | 0 | 5.006564 |\n",
       "| 9.85e-06 | 7 | CMV,HomoSapiens | CHP_365 |  161 | Leukemia     | ALL    | 0 | 5.006564 |\n",
       "| 9.85e-06 | 7 | CMV,HomoSapiens | CHP_368 |    0 | Solid tumors | ARMS   | 1 | 5.006564 |\n",
       "\n"
      ],
      "text/plain": [
       "  MedianFisher Component_id Component_specificity Patient Delta cancergroup \n",
       "1 9.85e-06     7            CMV,HomoSapiens       CHP_396 1910  Leukemia    \n",
       "2 9.85e-06     7            CMV,HomoSapiens       CHP_357    5  Leukemia    \n",
       "3 9.85e-06     7            CMV,HomoSapiens       CHP_404   54  Solid tumors\n",
       "4 9.85e-06     7            CMV,HomoSapiens       CHP_381 -311  Solid tumors\n",
       "5 9.85e-06     7            CMV,HomoSapiens       CHP_353   39  Leukemia    \n",
       "6 9.85e-06     7            CMV,HomoSapiens       CHP_363 -160  Solid tumors\n",
       "7 9.85e-06     7            CMV,HomoSapiens       CHP_365  161  Leukemia    \n",
       "8 9.85e-06     7            CMV,HomoSapiens       CHP_368    0  Solid tumors\n",
       "  Disease Relapse log10MedianFisher\n",
       "1 HR ALL  0       5.006564         \n",
       "2 AML     0       5.006564         \n",
       "3 ERMS    0       5.006564         \n",
       "4 EWS     0       5.006564         \n",
       "5 AML     1       5.006564         \n",
       "6 EWS     0       5.006564         \n",
       "7 ALL     0       5.006564         \n",
       "8 ARMS    1       5.006564         "
      ]
     },
     "metadata": {},
     "output_type": "display_data"
    }
   ],
   "source": [
    "comppat_mat_long[ comppat_mat_long$Component_id == 7,]\n",
    "\n",
    "mypts <- comppat_mat_long$Patient[ comppat_mat_long$Component_id == 7]"
   ]
  },
  {
   "cell_type": "code",
   "execution_count": 76,
   "metadata": {
    "vscode": {
     "languageId": "r"
    }
   },
   "outputs": [
    {
     "data": {
      "text/html": [
       "<style>\n",
       ".list-inline {list-style: none; margin:0; padding: 0}\n",
       ".list-inline>li {display: inline-block}\n",
       ".list-inline>li:not(:last-child)::after {content: \"\\00b7\"; padding: 0 .5ex}\n",
       "</style>\n",
       "<ol class=list-inline><li>171</li><li>36</li></ol>\n"
      ],
      "text/latex": [
       "\\begin{enumerate*}\n",
       "\\item 171\n",
       "\\item 36\n",
       "\\end{enumerate*}\n"
      ],
      "text/markdown": [
       "1. 171\n",
       "2. 36\n",
       "\n",
       "\n"
      ],
      "text/plain": [
       "[1] 171  36"
      ]
     },
     "metadata": {},
     "output_type": "display_data"
    }
   ],
   "source": [
    "dim(comppat_mat)"
   ]
  },
  {
   "cell_type": "code",
   "execution_count": 77,
   "metadata": {
    "vscode": {
     "languageId": "r"
    }
   },
   "outputs": [
    {
     "data": {
      "text/html": [
       "<table class=\"dataframe\">\n",
       "<caption>A data.frame: 10 x 8</caption>\n",
       "<thead>\n",
       "\t<tr><th></th><th scope=col>CHP_396</th><th scope=col>CHP_357</th><th scope=col>CHP_404</th><th scope=col>CHP_381</th><th scope=col>CHP_353</th><th scope=col>CHP_363</th><th scope=col>CHP_365</th><th scope=col>CHP_368</th></tr>\n",
       "\t<tr><th></th><th scope=col>&lt;int&gt;</th><th scope=col>&lt;int&gt;</th><th scope=col>&lt;int&gt;</th><th scope=col>&lt;int&gt;</th><th scope=col>&lt;int&gt;</th><th scope=col>&lt;int&gt;</th><th scope=col>&lt;int&gt;</th><th scope=col>&lt;int&gt;</th></tr>\n",
       "</thead>\n",
       "<tbody>\n",
       "\t<tr><th scope=row>1</th><td>30739</td><td>1108</td><td>19142</td><td>-14495</td><td>1640</td><td>-8688</td><td>966</td><td>1045</td></tr>\n",
       "\t<tr><th scope=row>2</th><td>   NA</td><td>  NA</td><td>   NA</td><td>    NA</td><td>  NA</td><td>   NA</td><td> NA</td><td>  NA</td></tr>\n",
       "\t<tr><th scope=row>3</th><td>   NA</td><td>  NA</td><td>   NA</td><td>    NA</td><td>  NA</td><td>   NA</td><td> NA</td><td>  NA</td></tr>\n",
       "\t<tr><th scope=row>4</th><td>  129</td><td> 204</td><td> 1130</td><td>  -540</td><td>  NA</td><td>   NA</td><td>515</td><td>  68</td></tr>\n",
       "\t<tr><th scope=row>5</th><td>   NA</td><td>  NA</td><td>  431</td><td>    NA</td><td>  NA</td><td>   NA</td><td> NA</td><td>  NA</td></tr>\n",
       "\t<tr><th scope=row>6</th><td>  977</td><td>  17</td><td> 1222</td><td>  -800</td><td>  42</td><td> -244</td><td>480</td><td>   1</td></tr>\n",
       "\t<tr><th scope=row>7</th><td> 1910</td><td>   5</td><td>   54</td><td>  -311</td><td>  39</td><td> -160</td><td>161</td><td>   0</td></tr>\n",
       "\t<tr><th scope=row>8</th><td>   NA</td><td>  NA</td><td>  354</td><td>    NA</td><td>  NA</td><td>   NA</td><td> NA</td><td>  NA</td></tr>\n",
       "\t<tr><th scope=row>9</th><td>   NA</td><td>  NA</td><td>   NA</td><td>    NA</td><td>  NA</td><td>   NA</td><td> NA</td><td>  NA</td></tr>\n",
       "\t<tr><th scope=row>10</th><td>   NA</td><td>  NA</td><td>  705</td><td>   -16</td><td>  NA</td><td>   NA</td><td>202</td><td>  NA</td></tr>\n",
       "</tbody>\n",
       "</table>\n"
      ],
      "text/latex": [
       "A data.frame: 10 x 8\n",
       "\\begin{tabular}{r|llllllll}\n",
       "  & CHP\\_396 & CHP\\_357 & CHP\\_404 & CHP\\_381 & CHP\\_353 & CHP\\_363 & CHP\\_365 & CHP\\_368\\\\\n",
       "  & <int> & <int> & <int> & <int> & <int> & <int> & <int> & <int>\\\\\n",
       "\\hline\n",
       "\t1 & 30739 & 1108 & 19142 & -14495 & 1640 & -8688 & 966 & 1045\\\\\n",
       "\t2 &    NA &   NA &    NA &     NA &   NA &    NA &  NA &   NA\\\\\n",
       "\t3 &    NA &   NA &    NA &     NA &   NA &    NA &  NA &   NA\\\\\n",
       "\t4 &   129 &  204 &  1130 &   -540 &   NA &    NA & 515 &   68\\\\\n",
       "\t5 &    NA &   NA &   431 &     NA &   NA &    NA &  NA &   NA\\\\\n",
       "\t6 &   977 &   17 &  1222 &   -800 &   42 &  -244 & 480 &    1\\\\\n",
       "\t7 &  1910 &    5 &    54 &   -311 &   39 &  -160 & 161 &    0\\\\\n",
       "\t8 &    NA &   NA &   354 &     NA &   NA &    NA &  NA &   NA\\\\\n",
       "\t9 &    NA &   NA &    NA &     NA &   NA &    NA &  NA &   NA\\\\\n",
       "\t10 &    NA &   NA &   705 &    -16 &   NA &    NA & 202 &   NA\\\\\n",
       "\\end{tabular}\n"
      ],
      "text/markdown": [
       "\n",
       "A data.frame: 10 x 8\n",
       "\n",
       "| <!--/--> | CHP_396 &lt;int&gt; | CHP_357 &lt;int&gt; | CHP_404 &lt;int&gt; | CHP_381 &lt;int&gt; | CHP_353 &lt;int&gt; | CHP_363 &lt;int&gt; | CHP_365 &lt;int&gt; | CHP_368 &lt;int&gt; |\n",
       "|---|---|---|---|---|---|---|---|---|\n",
       "| 1 | 30739 | 1108 | 19142 | -14495 | 1640 | -8688 | 966 | 1045 |\n",
       "| 2 |    NA |   NA |    NA |     NA |   NA |    NA |  NA |   NA |\n",
       "| 3 |    NA |   NA |    NA |     NA |   NA |    NA |  NA |   NA |\n",
       "| 4 |   129 |  204 |  1130 |   -540 |   NA |    NA | 515 |   68 |\n",
       "| 5 |    NA |   NA |   431 |     NA |   NA |    NA |  NA |   NA |\n",
       "| 6 |   977 |   17 |  1222 |   -800 |   42 |  -244 | 480 |    1 |\n",
       "| 7 |  1910 |    5 |    54 |   -311 |   39 |  -160 | 161 |    0 |\n",
       "| 8 |    NA |   NA |   354 |     NA |   NA |    NA |  NA |   NA |\n",
       "| 9 |    NA |   NA |    NA |     NA |   NA |    NA |  NA |   NA |\n",
       "| 10 |    NA |   NA |   705 |    -16 |   NA |    NA | 202 |   NA |\n",
       "\n"
      ],
      "text/plain": [
       "   CHP_396 CHP_357 CHP_404 CHP_381 CHP_353 CHP_363 CHP_365 CHP_368\n",
       "1  30739   1108    19142   -14495  1640    -8688   966     1045   \n",
       "2     NA     NA       NA       NA    NA       NA    NA       NA   \n",
       "3     NA     NA       NA       NA    NA       NA    NA       NA   \n",
       "4    129    204     1130     -540    NA       NA   515       68   \n",
       "5     NA     NA      431       NA    NA       NA    NA       NA   \n",
       "6    977     17     1222     -800    42     -244   480        1   \n",
       "7   1910      5       54     -311    39     -160   161        0   \n",
       "8     NA     NA      354       NA    NA       NA    NA       NA   \n",
       "9     NA     NA       NA       NA    NA       NA    NA       NA   \n",
       "10    NA     NA      705      -16    NA       NA   202       NA   "
      ]
     },
     "metadata": {},
     "output_type": "display_data"
    }
   ],
   "source": [
    "head(comppat_mat[, colnames(comppat_mat)[colnames(comppat_mat) %in% mypts]], 10)"
   ]
  },
  {
   "cell_type": "code",
   "execution_count": 78,
   "metadata": {
    "vscode": {
     "languageId": "r"
    }
   },
   "outputs": [
    {
     "data": {
      "text/html": [
       "33"
      ],
      "text/latex": [
       "33"
      ],
      "text/markdown": [
       "33"
      ],
      "text/plain": [
       "[1] 33"
      ]
     },
     "metadata": {},
     "output_type": "display_data"
    }
   ],
   "source": [
    "length(unique(comppat_mat_long$Patient))"
   ]
  },
  {
   "cell_type": "code",
   "execution_count": 79,
   "metadata": {
    "vscode": {
     "languageId": "r"
    }
   },
   "outputs": [
    {
     "data": {
      "text/html": [
       "<table class=\"dataframe\">\n",
       "<caption>A tibble: 6 x 9</caption>\n",
       "<thead>\n",
       "\t<tr><th scope=col>MedianFisher</th><th scope=col>Component_id</th><th scope=col>Component_specificity</th><th scope=col>Patient</th><th scope=col>Delta</th><th scope=col>cancergroup</th><th scope=col>Disease</th><th scope=col>Relapse</th><th scope=col>log10MedianFisher</th></tr>\n",
       "\t<tr><th scope=col>&lt;dbl&gt;</th><th scope=col>&lt;chr&gt;</th><th scope=col>&lt;chr&gt;</th><th scope=col>&lt;chr&gt;</th><th scope=col>&lt;int&gt;</th><th scope=col>&lt;chr&gt;</th><th scope=col>&lt;chr&gt;</th><th scope=col>&lt;int&gt;</th><th scope=col>&lt;dbl&gt;</th></tr>\n",
       "</thead>\n",
       "<tbody>\n",
       "\t<tr><td>7.1e-06</td><td>1</td><td>CMV,EBV,HCV,HomoSapiens,HPV,InfluenzaM.tuberculosis,MCPyV,S-pneumoniae</td><td>CHP_396</td><td> 30739</td><td>Leukemia    </td><td>HR ALL</td><td>0</td><td>5.148742</td></tr>\n",
       "\t<tr><td>7.1e-06</td><td>1</td><td>CMV,EBV,HCV,HomoSapiens,HPV,InfluenzaM.tuberculosis,MCPyV,S-pneumoniae</td><td>CHP_357</td><td>  1108</td><td>Leukemia    </td><td>AML   </td><td>0</td><td>5.148742</td></tr>\n",
       "\t<tr><td>7.1e-06</td><td>1</td><td>CMV,EBV,HCV,HomoSapiens,HPV,InfluenzaM.tuberculosis,MCPyV,S-pneumoniae</td><td>CHP_404</td><td> 19142</td><td>Solid tumors</td><td>ERMS  </td><td>0</td><td>5.148742</td></tr>\n",
       "\t<tr><td>7.1e-06</td><td>1</td><td>CMV,EBV,HCV,HomoSapiens,HPV,InfluenzaM.tuberculosis,MCPyV,S-pneumoniae</td><td>CHP_408</td><td> 12346</td><td>Solid tumors</td><td>OS    </td><td>0</td><td>5.148742</td></tr>\n",
       "\t<tr><td>7.1e-06</td><td>1</td><td>CMV,EBV,HCV,HomoSapiens,HPV,InfluenzaM.tuberculosis,MCPyV,S-pneumoniae</td><td>CHP_381</td><td>-14495</td><td>Solid tumors</td><td>EWS   </td><td>0</td><td>5.148742</td></tr>\n",
       "\t<tr><td>7.1e-06</td><td>1</td><td>CMV,EBV,HCV,HomoSapiens,HPV,InfluenzaM.tuberculosis,MCPyV,S-pneumoniae</td><td>CHP_409</td><td>  1265</td><td>Solid tumors</td><td>EWS   </td><td>0</td><td>5.148742</td></tr>\n",
       "</tbody>\n",
       "</table>\n"
      ],
      "text/latex": [
       "A tibble: 6 x 9\n",
       "\\begin{tabular}{lllllllll}\n",
       " MedianFisher & Component\\_id & Component\\_specificity & Patient & Delta & cancergroup & Disease & Relapse & log10MedianFisher\\\\\n",
       " <dbl> & <chr> & <chr> & <chr> & <int> & <chr> & <chr> & <int> & <dbl>\\\\\n",
       "\\hline\n",
       "\t 7.1e-06 & 1 & CMV,EBV,HCV,HomoSapiens,HPV,InfluenzaM.tuberculosis,MCPyV,S-pneumoniae & CHP\\_396 &  30739 & Leukemia     & HR ALL & 0 & 5.148742\\\\\n",
       "\t 7.1e-06 & 1 & CMV,EBV,HCV,HomoSapiens,HPV,InfluenzaM.tuberculosis,MCPyV,S-pneumoniae & CHP\\_357 &   1108 & Leukemia     & AML    & 0 & 5.148742\\\\\n",
       "\t 7.1e-06 & 1 & CMV,EBV,HCV,HomoSapiens,HPV,InfluenzaM.tuberculosis,MCPyV,S-pneumoniae & CHP\\_404 &  19142 & Solid tumors & ERMS   & 0 & 5.148742\\\\\n",
       "\t 7.1e-06 & 1 & CMV,EBV,HCV,HomoSapiens,HPV,InfluenzaM.tuberculosis,MCPyV,S-pneumoniae & CHP\\_408 &  12346 & Solid tumors & OS     & 0 & 5.148742\\\\\n",
       "\t 7.1e-06 & 1 & CMV,EBV,HCV,HomoSapiens,HPV,InfluenzaM.tuberculosis,MCPyV,S-pneumoniae & CHP\\_381 & -14495 & Solid tumors & EWS    & 0 & 5.148742\\\\\n",
       "\t 7.1e-06 & 1 & CMV,EBV,HCV,HomoSapiens,HPV,InfluenzaM.tuberculosis,MCPyV,S-pneumoniae & CHP\\_409 &   1265 & Solid tumors & EWS    & 0 & 5.148742\\\\\n",
       "\\end{tabular}\n"
      ],
      "text/markdown": [
       "\n",
       "A tibble: 6 x 9\n",
       "\n",
       "| MedianFisher &lt;dbl&gt; | Component_id &lt;chr&gt; | Component_specificity &lt;chr&gt; | Patient &lt;chr&gt; | Delta &lt;int&gt; | cancergroup &lt;chr&gt; | Disease &lt;chr&gt; | Relapse &lt;int&gt; | log10MedianFisher &lt;dbl&gt; |\n",
       "|---|---|---|---|---|---|---|---|---|\n",
       "| 7.1e-06 | 1 | CMV,EBV,HCV,HomoSapiens,HPV,InfluenzaM.tuberculosis,MCPyV,S-pneumoniae | CHP_396 |  30739 | Leukemia     | HR ALL | 0 | 5.148742 |\n",
       "| 7.1e-06 | 1 | CMV,EBV,HCV,HomoSapiens,HPV,InfluenzaM.tuberculosis,MCPyV,S-pneumoniae | CHP_357 |   1108 | Leukemia     | AML    | 0 | 5.148742 |\n",
       "| 7.1e-06 | 1 | CMV,EBV,HCV,HomoSapiens,HPV,InfluenzaM.tuberculosis,MCPyV,S-pneumoniae | CHP_404 |  19142 | Solid tumors | ERMS   | 0 | 5.148742 |\n",
       "| 7.1e-06 | 1 | CMV,EBV,HCV,HomoSapiens,HPV,InfluenzaM.tuberculosis,MCPyV,S-pneumoniae | CHP_408 |  12346 | Solid tumors | OS     | 0 | 5.148742 |\n",
       "| 7.1e-06 | 1 | CMV,EBV,HCV,HomoSapiens,HPV,InfluenzaM.tuberculosis,MCPyV,S-pneumoniae | CHP_381 | -14495 | Solid tumors | EWS    | 0 | 5.148742 |\n",
       "| 7.1e-06 | 1 | CMV,EBV,HCV,HomoSapiens,HPV,InfluenzaM.tuberculosis,MCPyV,S-pneumoniae | CHP_409 |   1265 | Solid tumors | EWS    | 0 | 5.148742 |\n",
       "\n"
      ],
      "text/plain": [
       "  MedianFisher Component_id\n",
       "1 7.1e-06      1           \n",
       "2 7.1e-06      1           \n",
       "3 7.1e-06      1           \n",
       "4 7.1e-06      1           \n",
       "5 7.1e-06      1           \n",
       "6 7.1e-06      1           \n",
       "  Component_specificity                                                 \n",
       "1 CMV,EBV,HCV,HomoSapiens,HPV,InfluenzaM.tuberculosis,MCPyV,S-pneumoniae\n",
       "2 CMV,EBV,HCV,HomoSapiens,HPV,InfluenzaM.tuberculosis,MCPyV,S-pneumoniae\n",
       "3 CMV,EBV,HCV,HomoSapiens,HPV,InfluenzaM.tuberculosis,MCPyV,S-pneumoniae\n",
       "4 CMV,EBV,HCV,HomoSapiens,HPV,InfluenzaM.tuberculosis,MCPyV,S-pneumoniae\n",
       "5 CMV,EBV,HCV,HomoSapiens,HPV,InfluenzaM.tuberculosis,MCPyV,S-pneumoniae\n",
       "6 CMV,EBV,HCV,HomoSapiens,HPV,InfluenzaM.tuberculosis,MCPyV,S-pneumoniae\n",
       "  Patient Delta  cancergroup  Disease Relapse log10MedianFisher\n",
       "1 CHP_396  30739 Leukemia     HR ALL  0       5.148742         \n",
       "2 CHP_357   1108 Leukemia     AML     0       5.148742         \n",
       "3 CHP_404  19142 Solid tumors ERMS    0       5.148742         \n",
       "4 CHP_408  12346 Solid tumors OS      0       5.148742         \n",
       "5 CHP_381 -14495 Solid tumors EWS     0       5.148742         \n",
       "6 CHP_409   1265 Solid tumors EWS     0       5.148742         "
      ]
     },
     "metadata": {},
     "output_type": "display_data"
    }
   ],
   "source": [
    "head(comppat_mat_long)"
   ]
  },
  {
   "cell_type": "code",
   "execution_count": 80,
   "metadata": {
    "vscode": {
     "languageId": "r"
    }
   },
   "outputs": [],
   "source": [
    "myorder <- unique(comppat_mat_long$Component_id[ order(comppat_mat_long$MedianFisher)] )\n",
    "\n",
    "comppat_mat_long$Component_id <- factor(comppat_mat_long$Component_id, levels = myorder)"
   ]
  },
  {
   "cell_type": "code",
   "execution_count": 81,
   "metadata": {
    "vscode": {
     "languageId": "r"
    }
   },
   "outputs": [
    {
     "data": {
      "text/html": [
       "105"
      ],
      "text/latex": [
       "105"
      ],
      "text/markdown": [
       "105"
      ],
      "text/plain": [
       "[1] 105"
      ]
     },
     "metadata": {},
     "output_type": "display_data"
    }
   ],
   "source": [
    "length(comppat_mat_long$Component_id)"
   ]
  },
  {
   "cell_type": "code",
   "execution_count": 82,
   "metadata": {
    "vscode": {
     "languageId": "r"
    }
   },
   "outputs": [
    {
     "data": {
      "text/html": [
       "<style>\n",
       ".list-inline {list-style: none; margin:0; padding: 0}\n",
       ".list-inline>li {display: inline-block}\n",
       ".list-inline>li:not(:last-child)::after {content: \"\\00b7\"; padding: 0 .5ex}\n",
       "</style>\n",
       "<ol class=list-inline><li>'11'</li><li>'4'</li><li>'5'</li><li>'1'</li><li>'7'</li><li>'6'</li><li>'17'</li><li>'8'</li><li>'151'</li><li>'13'</li><li>'10'</li><li>'171'</li><li>'173'</li><li>'12'</li><li>'69'</li><li>'211'</li><li>'214'</li><li>'222'</li><li>'56'</li><li>'111'</li><li>'246'</li><li>'248'</li></ol>\n"
      ],
      "text/latex": [
       "\\begin{enumerate*}\n",
       "\\item '11'\n",
       "\\item '4'\n",
       "\\item '5'\n",
       "\\item '1'\n",
       "\\item '7'\n",
       "\\item '6'\n",
       "\\item '17'\n",
       "\\item '8'\n",
       "\\item '151'\n",
       "\\item '13'\n",
       "\\item '10'\n",
       "\\item '171'\n",
       "\\item '173'\n",
       "\\item '12'\n",
       "\\item '69'\n",
       "\\item '211'\n",
       "\\item '214'\n",
       "\\item '222'\n",
       "\\item '56'\n",
       "\\item '111'\n",
       "\\item '246'\n",
       "\\item '248'\n",
       "\\end{enumerate*}\n"
      ],
      "text/markdown": [
       "1. '11'\n",
       "2. '4'\n",
       "3. '5'\n",
       "4. '1'\n",
       "5. '7'\n",
       "6. '6'\n",
       "7. '17'\n",
       "8. '8'\n",
       "9. '151'\n",
       "10. '13'\n",
       "11. '10'\n",
       "12. '171'\n",
       "13. '173'\n",
       "14. '12'\n",
       "15. '69'\n",
       "16. '211'\n",
       "17. '214'\n",
       "18. '222'\n",
       "19. '56'\n",
       "20. '111'\n",
       "21. '246'\n",
       "22. '248'\n",
       "\n",
       "\n"
      ],
      "text/plain": [
       " [1] \"11\"  \"4\"   \"5\"   \"1\"   \"7\"   \"6\"   \"17\"  \"8\"   \"151\" \"13\"  \"10\"  \"171\"\n",
       "[13] \"173\" \"12\"  \"69\"  \"211\" \"214\" \"222\" \"56\"  \"111\" \"246\" \"248\""
      ]
     },
     "metadata": {},
     "output_type": "display_data"
    }
   ],
   "source": [
    "myorder"
   ]
  },
  {
   "cell_type": "code",
   "execution_count": 83,
   "metadata": {
    "vscode": {
     "languageId": "r"
    }
   },
   "outputs": [
    {
     "data": {
      "text/html": [
       "<table class=\"dataframe\">\n",
       "<caption>A tibble: 6 x 9</caption>\n",
       "<thead>\n",
       "\t<tr><th scope=col>MedianFisher</th><th scope=col>Component_id</th><th scope=col>Component_specificity</th><th scope=col>Patient</th><th scope=col>Delta</th><th scope=col>cancergroup</th><th scope=col>Disease</th><th scope=col>Relapse</th><th scope=col>log10MedianFisher</th></tr>\n",
       "\t<tr><th scope=col>&lt;dbl&gt;</th><th scope=col>&lt;fct&gt;</th><th scope=col>&lt;chr&gt;</th><th scope=col>&lt;chr&gt;</th><th scope=col>&lt;int&gt;</th><th scope=col>&lt;chr&gt;</th><th scope=col>&lt;chr&gt;</th><th scope=col>&lt;int&gt;</th><th scope=col>&lt;dbl&gt;</th></tr>\n",
       "</thead>\n",
       "<tbody>\n",
       "\t<tr><td>7.1e-06</td><td>1</td><td>CMV,EBV,HCV,HomoSapiens,HPV,InfluenzaM.tuberculosis,MCPyV,S-pneumoniae</td><td>CHP_396</td><td> 30739</td><td>Leukemia    </td><td>HR ALL</td><td>0</td><td>5.148742</td></tr>\n",
       "\t<tr><td>7.1e-06</td><td>1</td><td>CMV,EBV,HCV,HomoSapiens,HPV,InfluenzaM.tuberculosis,MCPyV,S-pneumoniae</td><td>CHP_357</td><td>  1108</td><td>Leukemia    </td><td>AML   </td><td>0</td><td>5.148742</td></tr>\n",
       "\t<tr><td>7.1e-06</td><td>1</td><td>CMV,EBV,HCV,HomoSapiens,HPV,InfluenzaM.tuberculosis,MCPyV,S-pneumoniae</td><td>CHP_404</td><td> 19142</td><td>Solid tumors</td><td>ERMS  </td><td>0</td><td>5.148742</td></tr>\n",
       "\t<tr><td>7.1e-06</td><td>1</td><td>CMV,EBV,HCV,HomoSapiens,HPV,InfluenzaM.tuberculosis,MCPyV,S-pneumoniae</td><td>CHP_408</td><td> 12346</td><td>Solid tumors</td><td>OS    </td><td>0</td><td>5.148742</td></tr>\n",
       "\t<tr><td>7.1e-06</td><td>1</td><td>CMV,EBV,HCV,HomoSapiens,HPV,InfluenzaM.tuberculosis,MCPyV,S-pneumoniae</td><td>CHP_381</td><td>-14495</td><td>Solid tumors</td><td>EWS   </td><td>0</td><td>5.148742</td></tr>\n",
       "\t<tr><td>7.1e-06</td><td>1</td><td>CMV,EBV,HCV,HomoSapiens,HPV,InfluenzaM.tuberculosis,MCPyV,S-pneumoniae</td><td>CHP_409</td><td>  1265</td><td>Solid tumors</td><td>EWS   </td><td>0</td><td>5.148742</td></tr>\n",
       "</tbody>\n",
       "</table>\n"
      ],
      "text/latex": [
       "A tibble: 6 x 9\n",
       "\\begin{tabular}{lllllllll}\n",
       " MedianFisher & Component\\_id & Component\\_specificity & Patient & Delta & cancergroup & Disease & Relapse & log10MedianFisher\\\\\n",
       " <dbl> & <fct> & <chr> & <chr> & <int> & <chr> & <chr> & <int> & <dbl>\\\\\n",
       "\\hline\n",
       "\t 7.1e-06 & 1 & CMV,EBV,HCV,HomoSapiens,HPV,InfluenzaM.tuberculosis,MCPyV,S-pneumoniae & CHP\\_396 &  30739 & Leukemia     & HR ALL & 0 & 5.148742\\\\\n",
       "\t 7.1e-06 & 1 & CMV,EBV,HCV,HomoSapiens,HPV,InfluenzaM.tuberculosis,MCPyV,S-pneumoniae & CHP\\_357 &   1108 & Leukemia     & AML    & 0 & 5.148742\\\\\n",
       "\t 7.1e-06 & 1 & CMV,EBV,HCV,HomoSapiens,HPV,InfluenzaM.tuberculosis,MCPyV,S-pneumoniae & CHP\\_404 &  19142 & Solid tumors & ERMS   & 0 & 5.148742\\\\\n",
       "\t 7.1e-06 & 1 & CMV,EBV,HCV,HomoSapiens,HPV,InfluenzaM.tuberculosis,MCPyV,S-pneumoniae & CHP\\_408 &  12346 & Solid tumors & OS     & 0 & 5.148742\\\\\n",
       "\t 7.1e-06 & 1 & CMV,EBV,HCV,HomoSapiens,HPV,InfluenzaM.tuberculosis,MCPyV,S-pneumoniae & CHP\\_381 & -14495 & Solid tumors & EWS    & 0 & 5.148742\\\\\n",
       "\t 7.1e-06 & 1 & CMV,EBV,HCV,HomoSapiens,HPV,InfluenzaM.tuberculosis,MCPyV,S-pneumoniae & CHP\\_409 &   1265 & Solid tumors & EWS    & 0 & 5.148742\\\\\n",
       "\\end{tabular}\n"
      ],
      "text/markdown": [
       "\n",
       "A tibble: 6 x 9\n",
       "\n",
       "| MedianFisher &lt;dbl&gt; | Component_id &lt;fct&gt; | Component_specificity &lt;chr&gt; | Patient &lt;chr&gt; | Delta &lt;int&gt; | cancergroup &lt;chr&gt; | Disease &lt;chr&gt; | Relapse &lt;int&gt; | log10MedianFisher &lt;dbl&gt; |\n",
       "|---|---|---|---|---|---|---|---|---|\n",
       "| 7.1e-06 | 1 | CMV,EBV,HCV,HomoSapiens,HPV,InfluenzaM.tuberculosis,MCPyV,S-pneumoniae | CHP_396 |  30739 | Leukemia     | HR ALL | 0 | 5.148742 |\n",
       "| 7.1e-06 | 1 | CMV,EBV,HCV,HomoSapiens,HPV,InfluenzaM.tuberculosis,MCPyV,S-pneumoniae | CHP_357 |   1108 | Leukemia     | AML    | 0 | 5.148742 |\n",
       "| 7.1e-06 | 1 | CMV,EBV,HCV,HomoSapiens,HPV,InfluenzaM.tuberculosis,MCPyV,S-pneumoniae | CHP_404 |  19142 | Solid tumors | ERMS   | 0 | 5.148742 |\n",
       "| 7.1e-06 | 1 | CMV,EBV,HCV,HomoSapiens,HPV,InfluenzaM.tuberculosis,MCPyV,S-pneumoniae | CHP_408 |  12346 | Solid tumors | OS     | 0 | 5.148742 |\n",
       "| 7.1e-06 | 1 | CMV,EBV,HCV,HomoSapiens,HPV,InfluenzaM.tuberculosis,MCPyV,S-pneumoniae | CHP_381 | -14495 | Solid tumors | EWS    | 0 | 5.148742 |\n",
       "| 7.1e-06 | 1 | CMV,EBV,HCV,HomoSapiens,HPV,InfluenzaM.tuberculosis,MCPyV,S-pneumoniae | CHP_409 |   1265 | Solid tumors | EWS    | 0 | 5.148742 |\n",
       "\n"
      ],
      "text/plain": [
       "  MedianFisher Component_id\n",
       "1 7.1e-06      1           \n",
       "2 7.1e-06      1           \n",
       "3 7.1e-06      1           \n",
       "4 7.1e-06      1           \n",
       "5 7.1e-06      1           \n",
       "6 7.1e-06      1           \n",
       "  Component_specificity                                                 \n",
       "1 CMV,EBV,HCV,HomoSapiens,HPV,InfluenzaM.tuberculosis,MCPyV,S-pneumoniae\n",
       "2 CMV,EBV,HCV,HomoSapiens,HPV,InfluenzaM.tuberculosis,MCPyV,S-pneumoniae\n",
       "3 CMV,EBV,HCV,HomoSapiens,HPV,InfluenzaM.tuberculosis,MCPyV,S-pneumoniae\n",
       "4 CMV,EBV,HCV,HomoSapiens,HPV,InfluenzaM.tuberculosis,MCPyV,S-pneumoniae\n",
       "5 CMV,EBV,HCV,HomoSapiens,HPV,InfluenzaM.tuberculosis,MCPyV,S-pneumoniae\n",
       "6 CMV,EBV,HCV,HomoSapiens,HPV,InfluenzaM.tuberculosis,MCPyV,S-pneumoniae\n",
       "  Patient Delta  cancergroup  Disease Relapse log10MedianFisher\n",
       "1 CHP_396  30739 Leukemia     HR ALL  0       5.148742         \n",
       "2 CHP_357   1108 Leukemia     AML     0       5.148742         \n",
       "3 CHP_404  19142 Solid tumors ERMS    0       5.148742         \n",
       "4 CHP_408  12346 Solid tumors OS      0       5.148742         \n",
       "5 CHP_381 -14495 Solid tumors EWS     0       5.148742         \n",
       "6 CHP_409   1265 Solid tumors EWS     0       5.148742         "
      ]
     },
     "metadata": {},
     "output_type": "display_data"
    }
   ],
   "source": [
    "head(comppat_mat_long)"
   ]
  },
  {
   "cell_type": "code",
   "execution_count": 84,
   "metadata": {
    "vscode": {
     "languageId": "r"
    }
   },
   "outputs": [
    {
     "data": {
      "text/html": [
       "<table class=\"dataframe\">\n",
       "<caption>A tibble: 95 x 9</caption>\n",
       "<thead>\n",
       "\t<tr><th scope=col>MedianFisher</th><th scope=col>Component_id</th><th scope=col>Component_specificity</th><th scope=col>Patient</th><th scope=col>Delta</th><th scope=col>cancergroup</th><th scope=col>Disease</th><th scope=col>Relapse</th><th scope=col>log10MedianFisher</th></tr>\n",
       "\t<tr><th scope=col>&lt;dbl&gt;</th><th scope=col>&lt;fct&gt;</th><th scope=col>&lt;chr&gt;</th><th scope=col>&lt;chr&gt;</th><th scope=col>&lt;int&gt;</th><th scope=col>&lt;chr&gt;</th><th scope=col>&lt;chr&gt;</th><th scope=col>&lt;int&gt;</th><th scope=col>&lt;dbl&gt;</th></tr>\n",
       "</thead>\n",
       "<tbody>\n",
       "\t<tr><td>7.1e-06</td><td>1</td><td>CMV,EBV,HCV,HomoSapiens,HPV,InfluenzaM.tuberculosis,MCPyV,S-pneumoniae</td><td>CHP_396</td><td> 30739</td><td>Leukemia           </td><td>HR ALL</td><td>0</td><td>5.148742</td></tr>\n",
       "\t<tr><td>7.1e-06</td><td>1</td><td>CMV,EBV,HCV,HomoSapiens,HPV,InfluenzaM.tuberculosis,MCPyV,S-pneumoniae</td><td>CHP_357</td><td>  1108</td><td>Leukemia           </td><td>AML   </td><td>0</td><td>5.148742</td></tr>\n",
       "\t<tr><td>7.1e-06</td><td>1</td><td>CMV,EBV,HCV,HomoSapiens,HPV,InfluenzaM.tuberculosis,MCPyV,S-pneumoniae</td><td>CHP_404</td><td> 19142</td><td>Solid tumors       </td><td>ERMS  </td><td>0</td><td>5.148742</td></tr>\n",
       "\t<tr><td>7.1e-06</td><td>1</td><td>CMV,EBV,HCV,HomoSapiens,HPV,InfluenzaM.tuberculosis,MCPyV,S-pneumoniae</td><td>CHP_408</td><td> 12346</td><td>Solid tumors       </td><td>OS    </td><td>0</td><td>5.148742</td></tr>\n",
       "\t<tr><td>7.1e-06</td><td>1</td><td>CMV,EBV,HCV,HomoSapiens,HPV,InfluenzaM.tuberculosis,MCPyV,S-pneumoniae</td><td>CHP_381</td><td>-14495</td><td>Solid tumors       </td><td>EWS   </td><td>0</td><td>5.148742</td></tr>\n",
       "\t<tr><td>7.1e-06</td><td>1</td><td>CMV,EBV,HCV,HomoSapiens,HPV,InfluenzaM.tuberculosis,MCPyV,S-pneumoniae</td><td>CHP_409</td><td>  1265</td><td>Solid tumors       </td><td>EWS   </td><td>0</td><td>5.148742</td></tr>\n",
       "\t<tr><td>7.1e-06</td><td>1</td><td>CMV,EBV,HCV,HomoSapiens,HPV,InfluenzaM.tuberculosis,MCPyV,S-pneumoniae</td><td>CHP_373</td><td>  -350</td><td>Leukemia           </td><td>ALL   </td><td>0</td><td>5.148742</td></tr>\n",
       "\t<tr><td>7.1e-06</td><td>1</td><td>CMV,EBV,HCV,HomoSapiens,HPV,InfluenzaM.tuberculosis,MCPyV,S-pneumoniae</td><td>CHP_405</td><td> 24130</td><td>Leukemia           </td><td>CML   </td><td>0</td><td>5.148742</td></tr>\n",
       "\t<tr><td>7.1e-06</td><td>1</td><td>CMV,EBV,HCV,HomoSapiens,HPV,InfluenzaM.tuberculosis,MCPyV,S-pneumoniae</td><td>CHP_353</td><td>  1640</td><td>Leukemia           </td><td>AML   </td><td>1</td><td>5.148742</td></tr>\n",
       "\t<tr><td>7.1e-06</td><td>1</td><td>CMV,EBV,HCV,HomoSapiens,HPV,InfluenzaM.tuberculosis,MCPyV,S-pneumoniae</td><td>CHP_415</td><td>  1409</td><td>Lymphoma           </td><td>HD    </td><td>0</td><td>5.148742</td></tr>\n",
       "\t<tr><td>7.1e-06</td><td>1</td><td>CMV,EBV,HCV,HomoSapiens,HPV,InfluenzaM.tuberculosis,MCPyV,S-pneumoniae</td><td>CHP_347</td><td>   298</td><td>Leukemia           </td><td>ALL   </td><td>0</td><td>5.148742</td></tr>\n",
       "\t<tr><td>7.1e-06</td><td>1</td><td>CMV,EBV,HCV,HomoSapiens,HPV,InfluenzaM.tuberculosis,MCPyV,S-pneumoniae</td><td>CHP_350</td><td>  1231</td><td>Solid tumors       </td><td>HB    </td><td>0</td><td>5.148742</td></tr>\n",
       "\t<tr><td>7.1e-06</td><td>1</td><td>CMV,EBV,HCV,HomoSapiens,HPV,InfluenzaM.tuberculosis,MCPyV,S-pneumoniae</td><td>CHP_361</td><td>    -5</td><td>Lymphoma           </td><td>HD    </td><td>0</td><td>5.148742</td></tr>\n",
       "\t<tr><td>7.1e-06</td><td>1</td><td>CMV,EBV,HCV,HomoSapiens,HPV,InfluenzaM.tuberculosis,MCPyV,S-pneumoniae</td><td>CHP_378</td><td>  -637</td><td>Leukemia           </td><td>ALL   </td><td>0</td><td>5.148742</td></tr>\n",
       "\t<tr><td>7.1e-06</td><td>1</td><td>CMV,EBV,HCV,HomoSapiens,HPV,InfluenzaM.tuberculosis,MCPyV,S-pneumoniae</td><td>CHP_418</td><td>  -312</td><td>Solid tumors       </td><td>NB    </td><td>1</td><td>5.148742</td></tr>\n",
       "\t<tr><td>7.1e-06</td><td>1</td><td>CMV,EBV,HCV,HomoSapiens,HPV,InfluenzaM.tuberculosis,MCPyV,S-pneumoniae</td><td>CHP_363</td><td> -8688</td><td>Solid tumors       </td><td>EWS   </td><td>0</td><td>5.148742</td></tr>\n",
       "\t<tr><td>7.1e-06</td><td>1</td><td>CMV,EBV,HCV,HomoSapiens,HPV,InfluenzaM.tuberculosis,MCPyV,S-pneumoniae</td><td>CHP_369</td><td>-60879</td><td>Leukemia           </td><td>AML   </td><td>0</td><td>5.148742</td></tr>\n",
       "\t<tr><td>7.1e-06</td><td>1</td><td>CMV,EBV,HCV,HomoSapiens,HPV,InfluenzaM.tuberculosis,MCPyV,S-pneumoniae</td><td>CHP_414</td><td> 24458</td><td>Solid tumors       </td><td>HB    </td><td>0</td><td>5.148742</td></tr>\n",
       "\t<tr><td>7.1e-06</td><td>1</td><td>CMV,EBV,HCV,HomoSapiens,HPV,InfluenzaM.tuberculosis,MCPyV,S-pneumoniae</td><td>CHP_365</td><td>   966</td><td>Leukemia           </td><td>ALL   </td><td>0</td><td>5.148742</td></tr>\n",
       "\t<tr><td>7.1e-06</td><td>1</td><td>CMV,EBV,HCV,HomoSapiens,HPV,InfluenzaM.tuberculosis,MCPyV,S-pneumoniae</td><td>CHP_368</td><td>  1045</td><td>Solid tumors       </td><td>ARMS  </td><td>1</td><td>5.148742</td></tr>\n",
       "\t<tr><td>7.1e-06</td><td>1</td><td>CMV,EBV,HCV,HomoSapiens,HPV,InfluenzaM.tuberculosis,MCPyV,S-pneumoniae</td><td>CHP_399</td><td> 16975</td><td>Leukemia           </td><td>HR ALL</td><td>0</td><td>5.148742</td></tr>\n",
       "\t<tr><td>7.1e-06</td><td>1</td><td>CMV,EBV,HCV,HomoSapiens,HPV,InfluenzaM.tuberculosis,MCPyV,S-pneumoniae</td><td>CHP_362</td><td> 13286</td><td>Solid tumors       </td><td>OS    </td><td>0</td><td>5.148742</td></tr>\n",
       "\t<tr><td>7.1e-06</td><td>1</td><td>CMV,EBV,HCV,HomoSapiens,HPV,InfluenzaM.tuberculosis,MCPyV,S-pneumoniae</td><td>CHP_364</td><td>   379</td><td>Solid tumors       </td><td>OS    </td><td>1</td><td>5.148742</td></tr>\n",
       "\t<tr><td>7.1e-06</td><td>1</td><td>CMV,EBV,HCV,HomoSapiens,HPV,InfluenzaM.tuberculosis,MCPyV,S-pneumoniae</td><td>CHP_412</td><td>  8770</td><td>Lymphoma           </td><td>BLL   </td><td>0</td><td>5.148742</td></tr>\n",
       "\t<tr><td>7.1e-06</td><td>1</td><td>CMV,EBV,HCV,HomoSapiens,HPV,InfluenzaM.tuberculosis,MCPyV,S-pneumoniae</td><td>CHP_366</td><td> 24939</td><td>Lymphoma           </td><td>HD    </td><td>0</td><td>5.148742</td></tr>\n",
       "\t<tr><td>7.1e-06</td><td>1</td><td>CMV,EBV,HCV,HomoSapiens,HPV,InfluenzaM.tuberculosis,MCPyV,S-pneumoniae</td><td>CHP_348</td><td>   -75</td><td>Solid tumors       </td><td>OS    </td><td>0</td><td>5.148742</td></tr>\n",
       "\t<tr><td>7.1e-06</td><td>1</td><td>CMV,EBV,HCV,HomoSapiens,HPV,InfluenzaM.tuberculosis,MCPyV,S-pneumoniae</td><td>CHP_397</td><td> 12932</td><td>Leukemia           </td><td>ALL   </td><td>0</td><td>5.148742</td></tr>\n",
       "\t<tr><td>7.1e-06</td><td>1</td><td>CMV,EBV,HCV,HomoSapiens,HPV,InfluenzaM.tuberculosis,MCPyV,S-pneumoniae</td><td>CHP_370</td><td>  1379</td><td>T-cell malignancies</td><td>ALCL  </td><td>0</td><td>5.148742</td></tr>\n",
       "\t<tr><td>7.1e-06</td><td>1</td><td>CMV,EBV,HCV,HomoSapiens,HPV,InfluenzaM.tuberculosis,MCPyV,S-pneumoniae</td><td>CHP_410</td><td>  4910</td><td>Leukemia           </td><td>ALL   </td><td>0</td><td>5.148742</td></tr>\n",
       "\t<tr><td>7.1e-06</td><td>1</td><td>CMV,EBV,HCV,HomoSapiens,HPV,InfluenzaM.tuberculosis,MCPyV,S-pneumoniae</td><td>CHP_349</td><td>  1199</td><td>Leukemia           </td><td>CML   </td><td>1</td><td>5.148742</td></tr>\n",
       "\t<tr><td>...</td><td>...</td><td>...</td><td>...</td><td>...</td><td>...</td><td>...</td><td>...</td><td>...</td></tr>\n",
       "\t<tr><td>1.10e-05</td><td>6  </td><td>CMV,EBV,HomoSapiens,HPV</td><td>CHP_387</td><td>   -3</td><td>T-cell malignancies</td><td>T-ALL </td><td>0</td><td>4.958607</td></tr>\n",
       "\t<tr><td>9.85e-06</td><td>7  </td><td>CMV,HomoSapiens        </td><td>CHP_396</td><td> 1910</td><td>Leukemia           </td><td>HR ALL</td><td>0</td><td>5.006564</td></tr>\n",
       "\t<tr><td>9.85e-06</td><td>7  </td><td>CMV,HomoSapiens        </td><td>CHP_357</td><td>    5</td><td>Leukemia           </td><td>AML   </td><td>0</td><td>5.006564</td></tr>\n",
       "\t<tr><td>9.85e-06</td><td>7  </td><td>CMV,HomoSapiens        </td><td>CHP_404</td><td>   54</td><td>Solid tumors       </td><td>ERMS  </td><td>0</td><td>5.006564</td></tr>\n",
       "\t<tr><td>9.85e-06</td><td>7  </td><td>CMV,HomoSapiens        </td><td>CHP_381</td><td> -311</td><td>Solid tumors       </td><td>EWS   </td><td>0</td><td>5.006564</td></tr>\n",
       "\t<tr><td>9.85e-06</td><td>7  </td><td>CMV,HomoSapiens        </td><td>CHP_353</td><td>   39</td><td>Leukemia           </td><td>AML   </td><td>1</td><td>5.006564</td></tr>\n",
       "\t<tr><td>9.85e-06</td><td>7  </td><td>CMV,HomoSapiens        </td><td>CHP_363</td><td> -160</td><td>Solid tumors       </td><td>EWS   </td><td>0</td><td>5.006564</td></tr>\n",
       "\t<tr><td>9.85e-06</td><td>7  </td><td>CMV,HomoSapiens        </td><td>CHP_365</td><td>  161</td><td>Leukemia           </td><td>ALL   </td><td>0</td><td>5.006564</td></tr>\n",
       "\t<tr><td>9.85e-06</td><td>7  </td><td>CMV,HomoSapiens        </td><td>CHP_368</td><td>    0</td><td>Solid tumors       </td><td>ARMS  </td><td>1</td><td>5.006564</td></tr>\n",
       "\t<tr><td>2.10e-05</td><td>8  </td><td>                       </td><td>CHP_404</td><td>  354</td><td>Solid tumors       </td><td>ERMS  </td><td>0</td><td>4.677781</td></tr>\n",
       "\t<tr><td>8.35e-05</td><td>10 </td><td>EBV,HomoSapiens        </td><td>CHP_404</td><td>  705</td><td>Solid tumors       </td><td>ERMS  </td><td>0</td><td>4.078314</td></tr>\n",
       "\t<tr><td>8.35e-05</td><td>10 </td><td>EBV,HomoSapiens        </td><td>CHP_381</td><td>  -16</td><td>Solid tumors       </td><td>EWS   </td><td>0</td><td>4.078314</td></tr>\n",
       "\t<tr><td>8.35e-05</td><td>10 </td><td>EBV,HomoSapiens        </td><td>CHP_365</td><td>  202</td><td>Leukemia           </td><td>ALL   </td><td>0</td><td>4.078314</td></tr>\n",
       "\t<tr><td>1.20e-09</td><td>11 </td><td>                       </td><td>CHP_396</td><td>  241</td><td>Leukemia           </td><td>HR ALL</td><td>0</td><td>8.920819</td></tr>\n",
       "\t<tr><td>2.10e-04</td><td>12 </td><td>                       </td><td>CHP_378</td><td>  -11</td><td>Leukemia           </td><td>ALL   </td><td>0</td><td>3.677781</td></tr>\n",
       "\t<tr><td>7.00e-05</td><td>13 </td><td>CMV,EBV,HPV            </td><td>CHP_357</td><td>  -62</td><td>Leukemia           </td><td>AML   </td><td>0</td><td>4.154902</td></tr>\n",
       "\t<tr><td>7.00e-05</td><td>13 </td><td>CMV,EBV,HPV            </td><td>CHP_381</td><td>  -39</td><td>Solid tumors       </td><td>EWS   </td><td>0</td><td>4.154902</td></tr>\n",
       "\t<tr><td>7.00e-05</td><td>13 </td><td>CMV,EBV,HPV            </td><td>CHP_361</td><td>   -2</td><td>Lymphoma           </td><td>HD    </td><td>0</td><td>4.154902</td></tr>\n",
       "\t<tr><td>7.00e-05</td><td>13 </td><td>CMV,EBV,HPV            </td><td>CHP_378</td><td> -156</td><td>Leukemia           </td><td>ALL   </td><td>0</td><td>4.154902</td></tr>\n",
       "\t<tr><td>7.00e-05</td><td>13 </td><td>CMV,EBV,HPV            </td><td>CHP_363</td><td>   -3</td><td>Solid tumors       </td><td>EWS   </td><td>0</td><td>4.154902</td></tr>\n",
       "\t<tr><td>7.00e-05</td><td>13 </td><td>CMV,EBV,HPV            </td><td>CHP_369</td><td>-1354</td><td>Leukemia           </td><td>AML   </td><td>0</td><td>4.154902</td></tr>\n",
       "\t<tr><td>7.00e-05</td><td>13 </td><td>CMV,EBV,HPV            </td><td>CHP_414</td><td> -848</td><td>Solid tumors       </td><td>HB    </td><td>0</td><td>4.154902</td></tr>\n",
       "\t<tr><td>7.00e-05</td><td>13 </td><td>CMV,EBV,HPV            </td><td>CHP_368</td><td>   43</td><td>Solid tumors       </td><td>ARMS  </td><td>1</td><td>4.154902</td></tr>\n",
       "\t<tr><td>7.00e-05</td><td>13 </td><td>CMV,EBV,HPV            </td><td>CHP_364</td><td>  -17</td><td>Solid tumors       </td><td>OS    </td><td>1</td><td>4.154902</td></tr>\n",
       "\t<tr><td>1.75e-05</td><td>17 </td><td>CMV                    </td><td>CHP_357</td><td>  -12</td><td>Leukemia           </td><td>AML   </td><td>0</td><td>4.756962</td></tr>\n",
       "\t<tr><td>6.30e-04</td><td>69 </td><td>                       </td><td>CHP_368</td><td>   26</td><td>Solid tumors       </td><td>ARMS  </td><td>1</td><td>3.200659</td></tr>\n",
       "\t<tr><td>6.30e-05</td><td>151</td><td>                       </td><td>CHP_396</td><td> 3133</td><td>Leukemia           </td><td>HR ALL</td><td>0</td><td>4.200659</td></tr>\n",
       "\t<tr><td>1.70e-04</td><td>171</td><td>                       </td><td>CHP_396</td><td> 1378</td><td>Leukemia           </td><td>HR ALL</td><td>0</td><td>3.769551</td></tr>\n",
       "\t<tr><td>1.90e-04</td><td>173</td><td>                       </td><td>CHP_365</td><td> 1663</td><td>Leukemia           </td><td>ALL   </td><td>0</td><td>3.721246</td></tr>\n",
       "\t<tr><td>9.30e-04</td><td>211</td><td>                       </td><td>CHP_363</td><td>-1022</td><td>Solid tumors       </td><td>EWS   </td><td>0</td><td>3.031517</td></tr>\n",
       "</tbody>\n",
       "</table>\n"
      ],
      "text/latex": [
       "A tibble: 95 x 9\n",
       "\\begin{tabular}{lllllllll}\n",
       " MedianFisher & Component\\_id & Component\\_specificity & Patient & Delta & cancergroup & Disease & Relapse & log10MedianFisher\\\\\n",
       " <dbl> & <fct> & <chr> & <chr> & <int> & <chr> & <chr> & <int> & <dbl>\\\\\n",
       "\\hline\n",
       "\t 7.1e-06 & 1 & CMV,EBV,HCV,HomoSapiens,HPV,InfluenzaM.tuberculosis,MCPyV,S-pneumoniae & CHP\\_396 &  30739 & Leukemia            & HR ALL & 0 & 5.148742\\\\\n",
       "\t 7.1e-06 & 1 & CMV,EBV,HCV,HomoSapiens,HPV,InfluenzaM.tuberculosis,MCPyV,S-pneumoniae & CHP\\_357 &   1108 & Leukemia            & AML    & 0 & 5.148742\\\\\n",
       "\t 7.1e-06 & 1 & CMV,EBV,HCV,HomoSapiens,HPV,InfluenzaM.tuberculosis,MCPyV,S-pneumoniae & CHP\\_404 &  19142 & Solid tumors        & ERMS   & 0 & 5.148742\\\\\n",
       "\t 7.1e-06 & 1 & CMV,EBV,HCV,HomoSapiens,HPV,InfluenzaM.tuberculosis,MCPyV,S-pneumoniae & CHP\\_408 &  12346 & Solid tumors        & OS     & 0 & 5.148742\\\\\n",
       "\t 7.1e-06 & 1 & CMV,EBV,HCV,HomoSapiens,HPV,InfluenzaM.tuberculosis,MCPyV,S-pneumoniae & CHP\\_381 & -14495 & Solid tumors        & EWS    & 0 & 5.148742\\\\\n",
       "\t 7.1e-06 & 1 & CMV,EBV,HCV,HomoSapiens,HPV,InfluenzaM.tuberculosis,MCPyV,S-pneumoniae & CHP\\_409 &   1265 & Solid tumors        & EWS    & 0 & 5.148742\\\\\n",
       "\t 7.1e-06 & 1 & CMV,EBV,HCV,HomoSapiens,HPV,InfluenzaM.tuberculosis,MCPyV,S-pneumoniae & CHP\\_373 &   -350 & Leukemia            & ALL    & 0 & 5.148742\\\\\n",
       "\t 7.1e-06 & 1 & CMV,EBV,HCV,HomoSapiens,HPV,InfluenzaM.tuberculosis,MCPyV,S-pneumoniae & CHP\\_405 &  24130 & Leukemia            & CML    & 0 & 5.148742\\\\\n",
       "\t 7.1e-06 & 1 & CMV,EBV,HCV,HomoSapiens,HPV,InfluenzaM.tuberculosis,MCPyV,S-pneumoniae & CHP\\_353 &   1640 & Leukemia            & AML    & 1 & 5.148742\\\\\n",
       "\t 7.1e-06 & 1 & CMV,EBV,HCV,HomoSapiens,HPV,InfluenzaM.tuberculosis,MCPyV,S-pneumoniae & CHP\\_415 &   1409 & Lymphoma            & HD     & 0 & 5.148742\\\\\n",
       "\t 7.1e-06 & 1 & CMV,EBV,HCV,HomoSapiens,HPV,InfluenzaM.tuberculosis,MCPyV,S-pneumoniae & CHP\\_347 &    298 & Leukemia            & ALL    & 0 & 5.148742\\\\\n",
       "\t 7.1e-06 & 1 & CMV,EBV,HCV,HomoSapiens,HPV,InfluenzaM.tuberculosis,MCPyV,S-pneumoniae & CHP\\_350 &   1231 & Solid tumors        & HB     & 0 & 5.148742\\\\\n",
       "\t 7.1e-06 & 1 & CMV,EBV,HCV,HomoSapiens,HPV,InfluenzaM.tuberculosis,MCPyV,S-pneumoniae & CHP\\_361 &     -5 & Lymphoma            & HD     & 0 & 5.148742\\\\\n",
       "\t 7.1e-06 & 1 & CMV,EBV,HCV,HomoSapiens,HPV,InfluenzaM.tuberculosis,MCPyV,S-pneumoniae & CHP\\_378 &   -637 & Leukemia            & ALL    & 0 & 5.148742\\\\\n",
       "\t 7.1e-06 & 1 & CMV,EBV,HCV,HomoSapiens,HPV,InfluenzaM.tuberculosis,MCPyV,S-pneumoniae & CHP\\_418 &   -312 & Solid tumors        & NB     & 1 & 5.148742\\\\\n",
       "\t 7.1e-06 & 1 & CMV,EBV,HCV,HomoSapiens,HPV,InfluenzaM.tuberculosis,MCPyV,S-pneumoniae & CHP\\_363 &  -8688 & Solid tumors        & EWS    & 0 & 5.148742\\\\\n",
       "\t 7.1e-06 & 1 & CMV,EBV,HCV,HomoSapiens,HPV,InfluenzaM.tuberculosis,MCPyV,S-pneumoniae & CHP\\_369 & -60879 & Leukemia            & AML    & 0 & 5.148742\\\\\n",
       "\t 7.1e-06 & 1 & CMV,EBV,HCV,HomoSapiens,HPV,InfluenzaM.tuberculosis,MCPyV,S-pneumoniae & CHP\\_414 &  24458 & Solid tumors        & HB     & 0 & 5.148742\\\\\n",
       "\t 7.1e-06 & 1 & CMV,EBV,HCV,HomoSapiens,HPV,InfluenzaM.tuberculosis,MCPyV,S-pneumoniae & CHP\\_365 &    966 & Leukemia            & ALL    & 0 & 5.148742\\\\\n",
       "\t 7.1e-06 & 1 & CMV,EBV,HCV,HomoSapiens,HPV,InfluenzaM.tuberculosis,MCPyV,S-pneumoniae & CHP\\_368 &   1045 & Solid tumors        & ARMS   & 1 & 5.148742\\\\\n",
       "\t 7.1e-06 & 1 & CMV,EBV,HCV,HomoSapiens,HPV,InfluenzaM.tuberculosis,MCPyV,S-pneumoniae & CHP\\_399 &  16975 & Leukemia            & HR ALL & 0 & 5.148742\\\\\n",
       "\t 7.1e-06 & 1 & CMV,EBV,HCV,HomoSapiens,HPV,InfluenzaM.tuberculosis,MCPyV,S-pneumoniae & CHP\\_362 &  13286 & Solid tumors        & OS     & 0 & 5.148742\\\\\n",
       "\t 7.1e-06 & 1 & CMV,EBV,HCV,HomoSapiens,HPV,InfluenzaM.tuberculosis,MCPyV,S-pneumoniae & CHP\\_364 &    379 & Solid tumors        & OS     & 1 & 5.148742\\\\\n",
       "\t 7.1e-06 & 1 & CMV,EBV,HCV,HomoSapiens,HPV,InfluenzaM.tuberculosis,MCPyV,S-pneumoniae & CHP\\_412 &   8770 & Lymphoma            & BLL    & 0 & 5.148742\\\\\n",
       "\t 7.1e-06 & 1 & CMV,EBV,HCV,HomoSapiens,HPV,InfluenzaM.tuberculosis,MCPyV,S-pneumoniae & CHP\\_366 &  24939 & Lymphoma            & HD     & 0 & 5.148742\\\\\n",
       "\t 7.1e-06 & 1 & CMV,EBV,HCV,HomoSapiens,HPV,InfluenzaM.tuberculosis,MCPyV,S-pneumoniae & CHP\\_348 &    -75 & Solid tumors        & OS     & 0 & 5.148742\\\\\n",
       "\t 7.1e-06 & 1 & CMV,EBV,HCV,HomoSapiens,HPV,InfluenzaM.tuberculosis,MCPyV,S-pneumoniae & CHP\\_397 &  12932 & Leukemia            & ALL    & 0 & 5.148742\\\\\n",
       "\t 7.1e-06 & 1 & CMV,EBV,HCV,HomoSapiens,HPV,InfluenzaM.tuberculosis,MCPyV,S-pneumoniae & CHP\\_370 &   1379 & T-cell malignancies & ALCL   & 0 & 5.148742\\\\\n",
       "\t 7.1e-06 & 1 & CMV,EBV,HCV,HomoSapiens,HPV,InfluenzaM.tuberculosis,MCPyV,S-pneumoniae & CHP\\_410 &   4910 & Leukemia            & ALL    & 0 & 5.148742\\\\\n",
       "\t 7.1e-06 & 1 & CMV,EBV,HCV,HomoSapiens,HPV,InfluenzaM.tuberculosis,MCPyV,S-pneumoniae & CHP\\_349 &   1199 & Leukemia            & CML    & 1 & 5.148742\\\\\n",
       "\t ... & ... & ... & ... & ... & ... & ... & ... & ...\\\\\n",
       "\t 1.10e-05 & 6   & CMV,EBV,HomoSapiens,HPV & CHP\\_387 &    -3 & T-cell malignancies & T-ALL  & 0 & 4.958607\\\\\n",
       "\t 9.85e-06 & 7   & CMV,HomoSapiens         & CHP\\_396 &  1910 & Leukemia            & HR ALL & 0 & 5.006564\\\\\n",
       "\t 9.85e-06 & 7   & CMV,HomoSapiens         & CHP\\_357 &     5 & Leukemia            & AML    & 0 & 5.006564\\\\\n",
       "\t 9.85e-06 & 7   & CMV,HomoSapiens         & CHP\\_404 &    54 & Solid tumors        & ERMS   & 0 & 5.006564\\\\\n",
       "\t 9.85e-06 & 7   & CMV,HomoSapiens         & CHP\\_381 &  -311 & Solid tumors        & EWS    & 0 & 5.006564\\\\\n",
       "\t 9.85e-06 & 7   & CMV,HomoSapiens         & CHP\\_353 &    39 & Leukemia            & AML    & 1 & 5.006564\\\\\n",
       "\t 9.85e-06 & 7   & CMV,HomoSapiens         & CHP\\_363 &  -160 & Solid tumors        & EWS    & 0 & 5.006564\\\\\n",
       "\t 9.85e-06 & 7   & CMV,HomoSapiens         & CHP\\_365 &   161 & Leukemia            & ALL    & 0 & 5.006564\\\\\n",
       "\t 9.85e-06 & 7   & CMV,HomoSapiens         & CHP\\_368 &     0 & Solid tumors        & ARMS   & 1 & 5.006564\\\\\n",
       "\t 2.10e-05 & 8   &                         & CHP\\_404 &   354 & Solid tumors        & ERMS   & 0 & 4.677781\\\\\n",
       "\t 8.35e-05 & 10  & EBV,HomoSapiens         & CHP\\_404 &   705 & Solid tumors        & ERMS   & 0 & 4.078314\\\\\n",
       "\t 8.35e-05 & 10  & EBV,HomoSapiens         & CHP\\_381 &   -16 & Solid tumors        & EWS    & 0 & 4.078314\\\\\n",
       "\t 8.35e-05 & 10  & EBV,HomoSapiens         & CHP\\_365 &   202 & Leukemia            & ALL    & 0 & 4.078314\\\\\n",
       "\t 1.20e-09 & 11  &                         & CHP\\_396 &   241 & Leukemia            & HR ALL & 0 & 8.920819\\\\\n",
       "\t 2.10e-04 & 12  &                         & CHP\\_378 &   -11 & Leukemia            & ALL    & 0 & 3.677781\\\\\n",
       "\t 7.00e-05 & 13  & CMV,EBV,HPV             & CHP\\_357 &   -62 & Leukemia            & AML    & 0 & 4.154902\\\\\n",
       "\t 7.00e-05 & 13  & CMV,EBV,HPV             & CHP\\_381 &   -39 & Solid tumors        & EWS    & 0 & 4.154902\\\\\n",
       "\t 7.00e-05 & 13  & CMV,EBV,HPV             & CHP\\_361 &    -2 & Lymphoma            & HD     & 0 & 4.154902\\\\\n",
       "\t 7.00e-05 & 13  & CMV,EBV,HPV             & CHP\\_378 &  -156 & Leukemia            & ALL    & 0 & 4.154902\\\\\n",
       "\t 7.00e-05 & 13  & CMV,EBV,HPV             & CHP\\_363 &    -3 & Solid tumors        & EWS    & 0 & 4.154902\\\\\n",
       "\t 7.00e-05 & 13  & CMV,EBV,HPV             & CHP\\_369 & -1354 & Leukemia            & AML    & 0 & 4.154902\\\\\n",
       "\t 7.00e-05 & 13  & CMV,EBV,HPV             & CHP\\_414 &  -848 & Solid tumors        & HB     & 0 & 4.154902\\\\\n",
       "\t 7.00e-05 & 13  & CMV,EBV,HPV             & CHP\\_368 &    43 & Solid tumors        & ARMS   & 1 & 4.154902\\\\\n",
       "\t 7.00e-05 & 13  & CMV,EBV,HPV             & CHP\\_364 &   -17 & Solid tumors        & OS     & 1 & 4.154902\\\\\n",
       "\t 1.75e-05 & 17  & CMV                     & CHP\\_357 &   -12 & Leukemia            & AML    & 0 & 4.756962\\\\\n",
       "\t 6.30e-04 & 69  &                         & CHP\\_368 &    26 & Solid tumors        & ARMS   & 1 & 3.200659\\\\\n",
       "\t 6.30e-05 & 151 &                         & CHP\\_396 &  3133 & Leukemia            & HR ALL & 0 & 4.200659\\\\\n",
       "\t 1.70e-04 & 171 &                         & CHP\\_396 &  1378 & Leukemia            & HR ALL & 0 & 3.769551\\\\\n",
       "\t 1.90e-04 & 173 &                         & CHP\\_365 &  1663 & Leukemia            & ALL    & 0 & 3.721246\\\\\n",
       "\t 9.30e-04 & 211 &                         & CHP\\_363 & -1022 & Solid tumors        & EWS    & 0 & 3.031517\\\\\n",
       "\\end{tabular}\n"
      ],
      "text/markdown": [
       "\n",
       "A tibble: 95 x 9\n",
       "\n",
       "| MedianFisher &lt;dbl&gt; | Component_id &lt;fct&gt; | Component_specificity &lt;chr&gt; | Patient &lt;chr&gt; | Delta &lt;int&gt; | cancergroup &lt;chr&gt; | Disease &lt;chr&gt; | Relapse &lt;int&gt; | log10MedianFisher &lt;dbl&gt; |\n",
       "|---|---|---|---|---|---|---|---|---|\n",
       "| 7.1e-06 | 1 | CMV,EBV,HCV,HomoSapiens,HPV,InfluenzaM.tuberculosis,MCPyV,S-pneumoniae | CHP_396 |  30739 | Leukemia            | HR ALL | 0 | 5.148742 |\n",
       "| 7.1e-06 | 1 | CMV,EBV,HCV,HomoSapiens,HPV,InfluenzaM.tuberculosis,MCPyV,S-pneumoniae | CHP_357 |   1108 | Leukemia            | AML    | 0 | 5.148742 |\n",
       "| 7.1e-06 | 1 | CMV,EBV,HCV,HomoSapiens,HPV,InfluenzaM.tuberculosis,MCPyV,S-pneumoniae | CHP_404 |  19142 | Solid tumors        | ERMS   | 0 | 5.148742 |\n",
       "| 7.1e-06 | 1 | CMV,EBV,HCV,HomoSapiens,HPV,InfluenzaM.tuberculosis,MCPyV,S-pneumoniae | CHP_408 |  12346 | Solid tumors        | OS     | 0 | 5.148742 |\n",
       "| 7.1e-06 | 1 | CMV,EBV,HCV,HomoSapiens,HPV,InfluenzaM.tuberculosis,MCPyV,S-pneumoniae | CHP_381 | -14495 | Solid tumors        | EWS    | 0 | 5.148742 |\n",
       "| 7.1e-06 | 1 | CMV,EBV,HCV,HomoSapiens,HPV,InfluenzaM.tuberculosis,MCPyV,S-pneumoniae | CHP_409 |   1265 | Solid tumors        | EWS    | 0 | 5.148742 |\n",
       "| 7.1e-06 | 1 | CMV,EBV,HCV,HomoSapiens,HPV,InfluenzaM.tuberculosis,MCPyV,S-pneumoniae | CHP_373 |   -350 | Leukemia            | ALL    | 0 | 5.148742 |\n",
       "| 7.1e-06 | 1 | CMV,EBV,HCV,HomoSapiens,HPV,InfluenzaM.tuberculosis,MCPyV,S-pneumoniae | CHP_405 |  24130 | Leukemia            | CML    | 0 | 5.148742 |\n",
       "| 7.1e-06 | 1 | CMV,EBV,HCV,HomoSapiens,HPV,InfluenzaM.tuberculosis,MCPyV,S-pneumoniae | CHP_353 |   1640 | Leukemia            | AML    | 1 | 5.148742 |\n",
       "| 7.1e-06 | 1 | CMV,EBV,HCV,HomoSapiens,HPV,InfluenzaM.tuberculosis,MCPyV,S-pneumoniae | CHP_415 |   1409 | Lymphoma            | HD     | 0 | 5.148742 |\n",
       "| 7.1e-06 | 1 | CMV,EBV,HCV,HomoSapiens,HPV,InfluenzaM.tuberculosis,MCPyV,S-pneumoniae | CHP_347 |    298 | Leukemia            | ALL    | 0 | 5.148742 |\n",
       "| 7.1e-06 | 1 | CMV,EBV,HCV,HomoSapiens,HPV,InfluenzaM.tuberculosis,MCPyV,S-pneumoniae | CHP_350 |   1231 | Solid tumors        | HB     | 0 | 5.148742 |\n",
       "| 7.1e-06 | 1 | CMV,EBV,HCV,HomoSapiens,HPV,InfluenzaM.tuberculosis,MCPyV,S-pneumoniae | CHP_361 |     -5 | Lymphoma            | HD     | 0 | 5.148742 |\n",
       "| 7.1e-06 | 1 | CMV,EBV,HCV,HomoSapiens,HPV,InfluenzaM.tuberculosis,MCPyV,S-pneumoniae | CHP_378 |   -637 | Leukemia            | ALL    | 0 | 5.148742 |\n",
       "| 7.1e-06 | 1 | CMV,EBV,HCV,HomoSapiens,HPV,InfluenzaM.tuberculosis,MCPyV,S-pneumoniae | CHP_418 |   -312 | Solid tumors        | NB     | 1 | 5.148742 |\n",
       "| 7.1e-06 | 1 | CMV,EBV,HCV,HomoSapiens,HPV,InfluenzaM.tuberculosis,MCPyV,S-pneumoniae | CHP_363 |  -8688 | Solid tumors        | EWS    | 0 | 5.148742 |\n",
       "| 7.1e-06 | 1 | CMV,EBV,HCV,HomoSapiens,HPV,InfluenzaM.tuberculosis,MCPyV,S-pneumoniae | CHP_369 | -60879 | Leukemia            | AML    | 0 | 5.148742 |\n",
       "| 7.1e-06 | 1 | CMV,EBV,HCV,HomoSapiens,HPV,InfluenzaM.tuberculosis,MCPyV,S-pneumoniae | CHP_414 |  24458 | Solid tumors        | HB     | 0 | 5.148742 |\n",
       "| 7.1e-06 | 1 | CMV,EBV,HCV,HomoSapiens,HPV,InfluenzaM.tuberculosis,MCPyV,S-pneumoniae | CHP_365 |    966 | Leukemia            | ALL    | 0 | 5.148742 |\n",
       "| 7.1e-06 | 1 | CMV,EBV,HCV,HomoSapiens,HPV,InfluenzaM.tuberculosis,MCPyV,S-pneumoniae | CHP_368 |   1045 | Solid tumors        | ARMS   | 1 | 5.148742 |\n",
       "| 7.1e-06 | 1 | CMV,EBV,HCV,HomoSapiens,HPV,InfluenzaM.tuberculosis,MCPyV,S-pneumoniae | CHP_399 |  16975 | Leukemia            | HR ALL | 0 | 5.148742 |\n",
       "| 7.1e-06 | 1 | CMV,EBV,HCV,HomoSapiens,HPV,InfluenzaM.tuberculosis,MCPyV,S-pneumoniae | CHP_362 |  13286 | Solid tumors        | OS     | 0 | 5.148742 |\n",
       "| 7.1e-06 | 1 | CMV,EBV,HCV,HomoSapiens,HPV,InfluenzaM.tuberculosis,MCPyV,S-pneumoniae | CHP_364 |    379 | Solid tumors        | OS     | 1 | 5.148742 |\n",
       "| 7.1e-06 | 1 | CMV,EBV,HCV,HomoSapiens,HPV,InfluenzaM.tuberculosis,MCPyV,S-pneumoniae | CHP_412 |   8770 | Lymphoma            | BLL    | 0 | 5.148742 |\n",
       "| 7.1e-06 | 1 | CMV,EBV,HCV,HomoSapiens,HPV,InfluenzaM.tuberculosis,MCPyV,S-pneumoniae | CHP_366 |  24939 | Lymphoma            | HD     | 0 | 5.148742 |\n",
       "| 7.1e-06 | 1 | CMV,EBV,HCV,HomoSapiens,HPV,InfluenzaM.tuberculosis,MCPyV,S-pneumoniae | CHP_348 |    -75 | Solid tumors        | OS     | 0 | 5.148742 |\n",
       "| 7.1e-06 | 1 | CMV,EBV,HCV,HomoSapiens,HPV,InfluenzaM.tuberculosis,MCPyV,S-pneumoniae | CHP_397 |  12932 | Leukemia            | ALL    | 0 | 5.148742 |\n",
       "| 7.1e-06 | 1 | CMV,EBV,HCV,HomoSapiens,HPV,InfluenzaM.tuberculosis,MCPyV,S-pneumoniae | CHP_370 |   1379 | T-cell malignancies | ALCL   | 0 | 5.148742 |\n",
       "| 7.1e-06 | 1 | CMV,EBV,HCV,HomoSapiens,HPV,InfluenzaM.tuberculosis,MCPyV,S-pneumoniae | CHP_410 |   4910 | Leukemia            | ALL    | 0 | 5.148742 |\n",
       "| 7.1e-06 | 1 | CMV,EBV,HCV,HomoSapiens,HPV,InfluenzaM.tuberculosis,MCPyV,S-pneumoniae | CHP_349 |   1199 | Leukemia            | CML    | 1 | 5.148742 |\n",
       "| ... | ... | ... | ... | ... | ... | ... | ... | ... |\n",
       "| 1.10e-05 | 6   | CMV,EBV,HomoSapiens,HPV | CHP_387 |    -3 | T-cell malignancies | T-ALL  | 0 | 4.958607 |\n",
       "| 9.85e-06 | 7   | CMV,HomoSapiens         | CHP_396 |  1910 | Leukemia            | HR ALL | 0 | 5.006564 |\n",
       "| 9.85e-06 | 7   | CMV,HomoSapiens         | CHP_357 |     5 | Leukemia            | AML    | 0 | 5.006564 |\n",
       "| 9.85e-06 | 7   | CMV,HomoSapiens         | CHP_404 |    54 | Solid tumors        | ERMS   | 0 | 5.006564 |\n",
       "| 9.85e-06 | 7   | CMV,HomoSapiens         | CHP_381 |  -311 | Solid tumors        | EWS    | 0 | 5.006564 |\n",
       "| 9.85e-06 | 7   | CMV,HomoSapiens         | CHP_353 |    39 | Leukemia            | AML    | 1 | 5.006564 |\n",
       "| 9.85e-06 | 7   | CMV,HomoSapiens         | CHP_363 |  -160 | Solid tumors        | EWS    | 0 | 5.006564 |\n",
       "| 9.85e-06 | 7   | CMV,HomoSapiens         | CHP_365 |   161 | Leukemia            | ALL    | 0 | 5.006564 |\n",
       "| 9.85e-06 | 7   | CMV,HomoSapiens         | CHP_368 |     0 | Solid tumors        | ARMS   | 1 | 5.006564 |\n",
       "| 2.10e-05 | 8   | <!----> | CHP_404 |   354 | Solid tumors        | ERMS   | 0 | 4.677781 |\n",
       "| 8.35e-05 | 10  | EBV,HomoSapiens         | CHP_404 |   705 | Solid tumors        | ERMS   | 0 | 4.078314 |\n",
       "| 8.35e-05 | 10  | EBV,HomoSapiens         | CHP_381 |   -16 | Solid tumors        | EWS    | 0 | 4.078314 |\n",
       "| 8.35e-05 | 10  | EBV,HomoSapiens         | CHP_365 |   202 | Leukemia            | ALL    | 0 | 4.078314 |\n",
       "| 1.20e-09 | 11  | <!----> | CHP_396 |   241 | Leukemia            | HR ALL | 0 | 8.920819 |\n",
       "| 2.10e-04 | 12  | <!----> | CHP_378 |   -11 | Leukemia            | ALL    | 0 | 3.677781 |\n",
       "| 7.00e-05 | 13  | CMV,EBV,HPV             | CHP_357 |   -62 | Leukemia            | AML    | 0 | 4.154902 |\n",
       "| 7.00e-05 | 13  | CMV,EBV,HPV             | CHP_381 |   -39 | Solid tumors        | EWS    | 0 | 4.154902 |\n",
       "| 7.00e-05 | 13  | CMV,EBV,HPV             | CHP_361 |    -2 | Lymphoma            | HD     | 0 | 4.154902 |\n",
       "| 7.00e-05 | 13  | CMV,EBV,HPV             | CHP_378 |  -156 | Leukemia            | ALL    | 0 | 4.154902 |\n",
       "| 7.00e-05 | 13  | CMV,EBV,HPV             | CHP_363 |    -3 | Solid tumors        | EWS    | 0 | 4.154902 |\n",
       "| 7.00e-05 | 13  | CMV,EBV,HPV             | CHP_369 | -1354 | Leukemia            | AML    | 0 | 4.154902 |\n",
       "| 7.00e-05 | 13  | CMV,EBV,HPV             | CHP_414 |  -848 | Solid tumors        | HB     | 0 | 4.154902 |\n",
       "| 7.00e-05 | 13  | CMV,EBV,HPV             | CHP_368 |    43 | Solid tumors        | ARMS   | 1 | 4.154902 |\n",
       "| 7.00e-05 | 13  | CMV,EBV,HPV             | CHP_364 |   -17 | Solid tumors        | OS     | 1 | 4.154902 |\n",
       "| 1.75e-05 | 17  | CMV                     | CHP_357 |   -12 | Leukemia            | AML    | 0 | 4.756962 |\n",
       "| 6.30e-04 | 69  | <!----> | CHP_368 |    26 | Solid tumors        | ARMS   | 1 | 3.200659 |\n",
       "| 6.30e-05 | 151 | <!----> | CHP_396 |  3133 | Leukemia            | HR ALL | 0 | 4.200659 |\n",
       "| 1.70e-04 | 171 | <!----> | CHP_396 |  1378 | Leukemia            | HR ALL | 0 | 3.769551 |\n",
       "| 1.90e-04 | 173 | <!----> | CHP_365 |  1663 | Leukemia            | ALL    | 0 | 3.721246 |\n",
       "| 9.30e-04 | 211 | <!----> | CHP_363 | -1022 | Solid tumors        | EWS    | 0 | 3.031517 |\n",
       "\n"
      ],
      "text/plain": [
       "    MedianFisher Component_id\n",
       "1   7.1e-06      1           \n",
       "2   7.1e-06      1           \n",
       "3   7.1e-06      1           \n",
       "4   7.1e-06      1           \n",
       "5   7.1e-06      1           \n",
       "6   7.1e-06      1           \n",
       "7   7.1e-06      1           \n",
       "8   7.1e-06      1           \n",
       "9   7.1e-06      1           \n",
       "10  7.1e-06      1           \n",
       "11  7.1e-06      1           \n",
       "12  7.1e-06      1           \n",
       "13  7.1e-06      1           \n",
       "14  7.1e-06      1           \n",
       "15  7.1e-06      1           \n",
       "16  7.1e-06      1           \n",
       "17  7.1e-06      1           \n",
       "18  7.1e-06      1           \n",
       "19  7.1e-06      1           \n",
       "20  7.1e-06      1           \n",
       "21  7.1e-06      1           \n",
       "22  7.1e-06      1           \n",
       "23  7.1e-06      1           \n",
       "24  7.1e-06      1           \n",
       "25  7.1e-06      1           \n",
       "26  7.1e-06      1           \n",
       "27  7.1e-06      1           \n",
       "28  7.1e-06      1           \n",
       "29  7.1e-06      1           \n",
       "30  7.1e-06      1           \n",
       "... ...          ...         \n",
       "66  1.10e-05     6           \n",
       "67  9.85e-06     7           \n",
       "68  9.85e-06     7           \n",
       "69  9.85e-06     7           \n",
       "70  9.85e-06     7           \n",
       "71  9.85e-06     7           \n",
       "72  9.85e-06     7           \n",
       "73  9.85e-06     7           \n",
       "74  9.85e-06     7           \n",
       "75  2.10e-05     8           \n",
       "76  8.35e-05     10          \n",
       "77  8.35e-05     10          \n",
       "78  8.35e-05     10          \n",
       "79  1.20e-09     11          \n",
       "80  2.10e-04     12          \n",
       "81  7.00e-05     13          \n",
       "82  7.00e-05     13          \n",
       "83  7.00e-05     13          \n",
       "84  7.00e-05     13          \n",
       "85  7.00e-05     13          \n",
       "86  7.00e-05     13          \n",
       "87  7.00e-05     13          \n",
       "88  7.00e-05     13          \n",
       "89  7.00e-05     13          \n",
       "90  1.75e-05     17          \n",
       "91  6.30e-04     69          \n",
       "92  6.30e-05     151         \n",
       "93  1.70e-04     171         \n",
       "94  1.90e-04     173         \n",
       "95  9.30e-04     211         \n",
       "    Component_specificity                                                 \n",
       "1   CMV,EBV,HCV,HomoSapiens,HPV,InfluenzaM.tuberculosis,MCPyV,S-pneumoniae\n",
       "2   CMV,EBV,HCV,HomoSapiens,HPV,InfluenzaM.tuberculosis,MCPyV,S-pneumoniae\n",
       "3   CMV,EBV,HCV,HomoSapiens,HPV,InfluenzaM.tuberculosis,MCPyV,S-pneumoniae\n",
       "4   CMV,EBV,HCV,HomoSapiens,HPV,InfluenzaM.tuberculosis,MCPyV,S-pneumoniae\n",
       "5   CMV,EBV,HCV,HomoSapiens,HPV,InfluenzaM.tuberculosis,MCPyV,S-pneumoniae\n",
       "6   CMV,EBV,HCV,HomoSapiens,HPV,InfluenzaM.tuberculosis,MCPyV,S-pneumoniae\n",
       "7   CMV,EBV,HCV,HomoSapiens,HPV,InfluenzaM.tuberculosis,MCPyV,S-pneumoniae\n",
       "8   CMV,EBV,HCV,HomoSapiens,HPV,InfluenzaM.tuberculosis,MCPyV,S-pneumoniae\n",
       "9   CMV,EBV,HCV,HomoSapiens,HPV,InfluenzaM.tuberculosis,MCPyV,S-pneumoniae\n",
       "10  CMV,EBV,HCV,HomoSapiens,HPV,InfluenzaM.tuberculosis,MCPyV,S-pneumoniae\n",
       "11  CMV,EBV,HCV,HomoSapiens,HPV,InfluenzaM.tuberculosis,MCPyV,S-pneumoniae\n",
       "12  CMV,EBV,HCV,HomoSapiens,HPV,InfluenzaM.tuberculosis,MCPyV,S-pneumoniae\n",
       "13  CMV,EBV,HCV,HomoSapiens,HPV,InfluenzaM.tuberculosis,MCPyV,S-pneumoniae\n",
       "14  CMV,EBV,HCV,HomoSapiens,HPV,InfluenzaM.tuberculosis,MCPyV,S-pneumoniae\n",
       "15  CMV,EBV,HCV,HomoSapiens,HPV,InfluenzaM.tuberculosis,MCPyV,S-pneumoniae\n",
       "16  CMV,EBV,HCV,HomoSapiens,HPV,InfluenzaM.tuberculosis,MCPyV,S-pneumoniae\n",
       "17  CMV,EBV,HCV,HomoSapiens,HPV,InfluenzaM.tuberculosis,MCPyV,S-pneumoniae\n",
       "18  CMV,EBV,HCV,HomoSapiens,HPV,InfluenzaM.tuberculosis,MCPyV,S-pneumoniae\n",
       "19  CMV,EBV,HCV,HomoSapiens,HPV,InfluenzaM.tuberculosis,MCPyV,S-pneumoniae\n",
       "20  CMV,EBV,HCV,HomoSapiens,HPV,InfluenzaM.tuberculosis,MCPyV,S-pneumoniae\n",
       "21  CMV,EBV,HCV,HomoSapiens,HPV,InfluenzaM.tuberculosis,MCPyV,S-pneumoniae\n",
       "22  CMV,EBV,HCV,HomoSapiens,HPV,InfluenzaM.tuberculosis,MCPyV,S-pneumoniae\n",
       "23  CMV,EBV,HCV,HomoSapiens,HPV,InfluenzaM.tuberculosis,MCPyV,S-pneumoniae\n",
       "24  CMV,EBV,HCV,HomoSapiens,HPV,InfluenzaM.tuberculosis,MCPyV,S-pneumoniae\n",
       "25  CMV,EBV,HCV,HomoSapiens,HPV,InfluenzaM.tuberculosis,MCPyV,S-pneumoniae\n",
       "26  CMV,EBV,HCV,HomoSapiens,HPV,InfluenzaM.tuberculosis,MCPyV,S-pneumoniae\n",
       "27  CMV,EBV,HCV,HomoSapiens,HPV,InfluenzaM.tuberculosis,MCPyV,S-pneumoniae\n",
       "28  CMV,EBV,HCV,HomoSapiens,HPV,InfluenzaM.tuberculosis,MCPyV,S-pneumoniae\n",
       "29  CMV,EBV,HCV,HomoSapiens,HPV,InfluenzaM.tuberculosis,MCPyV,S-pneumoniae\n",
       "30  CMV,EBV,HCV,HomoSapiens,HPV,InfluenzaM.tuberculosis,MCPyV,S-pneumoniae\n",
       "... ...                                                                   \n",
       "66  CMV,EBV,HomoSapiens,HPV                                               \n",
       "67  CMV,HomoSapiens                                                       \n",
       "68  CMV,HomoSapiens                                                       \n",
       "69  CMV,HomoSapiens                                                       \n",
       "70  CMV,HomoSapiens                                                       \n",
       "71  CMV,HomoSapiens                                                       \n",
       "72  CMV,HomoSapiens                                                       \n",
       "73  CMV,HomoSapiens                                                       \n",
       "74  CMV,HomoSapiens                                                       \n",
       "75                                                                        \n",
       "76  EBV,HomoSapiens                                                       \n",
       "77  EBV,HomoSapiens                                                       \n",
       "78  EBV,HomoSapiens                                                       \n",
       "79                                                                        \n",
       "80                                                                        \n",
       "81  CMV,EBV,HPV                                                           \n",
       "82  CMV,EBV,HPV                                                           \n",
       "83  CMV,EBV,HPV                                                           \n",
       "84  CMV,EBV,HPV                                                           \n",
       "85  CMV,EBV,HPV                                                           \n",
       "86  CMV,EBV,HPV                                                           \n",
       "87  CMV,EBV,HPV                                                           \n",
       "88  CMV,EBV,HPV                                                           \n",
       "89  CMV,EBV,HPV                                                           \n",
       "90  CMV                                                                   \n",
       "91                                                                        \n",
       "92                                                                        \n",
       "93                                                                        \n",
       "94                                                                        \n",
       "95                                                                        \n",
       "    Patient Delta  cancergroup         Disease Relapse log10MedianFisher\n",
       "1   CHP_396  30739 Leukemia            HR ALL  0       5.148742         \n",
       "2   CHP_357   1108 Leukemia            AML     0       5.148742         \n",
       "3   CHP_404  19142 Solid tumors        ERMS    0       5.148742         \n",
       "4   CHP_408  12346 Solid tumors        OS      0       5.148742         \n",
       "5   CHP_381 -14495 Solid tumors        EWS     0       5.148742         \n",
       "6   CHP_409   1265 Solid tumors        EWS     0       5.148742         \n",
       "7   CHP_373   -350 Leukemia            ALL     0       5.148742         \n",
       "8   CHP_405  24130 Leukemia            CML     0       5.148742         \n",
       "9   CHP_353   1640 Leukemia            AML     1       5.148742         \n",
       "10  CHP_415   1409 Lymphoma            HD      0       5.148742         \n",
       "11  CHP_347    298 Leukemia            ALL     0       5.148742         \n",
       "12  CHP_350   1231 Solid tumors        HB      0       5.148742         \n",
       "13  CHP_361     -5 Lymphoma            HD      0       5.148742         \n",
       "14  CHP_378   -637 Leukemia            ALL     0       5.148742         \n",
       "15  CHP_418   -312 Solid tumors        NB      1       5.148742         \n",
       "16  CHP_363  -8688 Solid tumors        EWS     0       5.148742         \n",
       "17  CHP_369 -60879 Leukemia            AML     0       5.148742         \n",
       "18  CHP_414  24458 Solid tumors        HB      0       5.148742         \n",
       "19  CHP_365    966 Leukemia            ALL     0       5.148742         \n",
       "20  CHP_368   1045 Solid tumors        ARMS    1       5.148742         \n",
       "21  CHP_399  16975 Leukemia            HR ALL  0       5.148742         \n",
       "22  CHP_362  13286 Solid tumors        OS      0       5.148742         \n",
       "23  CHP_364    379 Solid tumors        OS      1       5.148742         \n",
       "24  CHP_412   8770 Lymphoma            BLL     0       5.148742         \n",
       "25  CHP_366  24939 Lymphoma            HD      0       5.148742         \n",
       "26  CHP_348    -75 Solid tumors        OS      0       5.148742         \n",
       "27  CHP_397  12932 Leukemia            ALL     0       5.148742         \n",
       "28  CHP_370   1379 T-cell malignancies ALCL    0       5.148742         \n",
       "29  CHP_410   4910 Leukemia            ALL     0       5.148742         \n",
       "30  CHP_349   1199 Leukemia            CML     1       5.148742         \n",
       "... ...     ...    ...                 ...     ...     ...              \n",
       "66  CHP_387    -3  T-cell malignancies T-ALL   0       4.958607         \n",
       "67  CHP_396  1910  Leukemia            HR ALL  0       5.006564         \n",
       "68  CHP_357     5  Leukemia            AML     0       5.006564         \n",
       "69  CHP_404    54  Solid tumors        ERMS    0       5.006564         \n",
       "70  CHP_381  -311  Solid tumors        EWS     0       5.006564         \n",
       "71  CHP_353    39  Leukemia            AML     1       5.006564         \n",
       "72  CHP_363  -160  Solid tumors        EWS     0       5.006564         \n",
       "73  CHP_365   161  Leukemia            ALL     0       5.006564         \n",
       "74  CHP_368     0  Solid tumors        ARMS    1       5.006564         \n",
       "75  CHP_404   354  Solid tumors        ERMS    0       4.677781         \n",
       "76  CHP_404   705  Solid tumors        ERMS    0       4.078314         \n",
       "77  CHP_381   -16  Solid tumors        EWS     0       4.078314         \n",
       "78  CHP_365   202  Leukemia            ALL     0       4.078314         \n",
       "79  CHP_396   241  Leukemia            HR ALL  0       8.920819         \n",
       "80  CHP_378   -11  Leukemia            ALL     0       3.677781         \n",
       "81  CHP_357   -62  Leukemia            AML     0       4.154902         \n",
       "82  CHP_381   -39  Solid tumors        EWS     0       4.154902         \n",
       "83  CHP_361    -2  Lymphoma            HD      0       4.154902         \n",
       "84  CHP_378  -156  Leukemia            ALL     0       4.154902         \n",
       "85  CHP_363    -3  Solid tumors        EWS     0       4.154902         \n",
       "86  CHP_369 -1354  Leukemia            AML     0       4.154902         \n",
       "87  CHP_414  -848  Solid tumors        HB      0       4.154902         \n",
       "88  CHP_368    43  Solid tumors        ARMS    1       4.154902         \n",
       "89  CHP_364   -17  Solid tumors        OS      1       4.154902         \n",
       "90  CHP_357   -12  Leukemia            AML     0       4.756962         \n",
       "91  CHP_368    26  Solid tumors        ARMS    1       3.200659         \n",
       "92  CHP_396  3133  Leukemia            HR ALL  0       4.200659         \n",
       "93  CHP_396  1378  Leukemia            HR ALL  0       3.769551         \n",
       "94  CHP_365  1663  Leukemia            ALL     0       3.721246         \n",
       "95  CHP_363 -1022  Solid tumors        EWS     0       3.031517         "
      ]
     },
     "metadata": {},
     "output_type": "display_data"
    }
   ],
   "source": [
    "comppat_mat_long[which(comppat_mat_long$MedianFisher < 0.001), ]"
   ]
  },
  {
   "cell_type": "code",
   "execution_count": 85,
   "metadata": {
    "vscode": {
     "languageId": "r"
    }
   },
   "outputs": [
    {
     "data": {
      "text/plain": [
       "    Min.  1st Qu.   Median     Mean  3rd Qu.     Max. \n",
       "-60879.0    -16.5    129.0   1640.2   1164.5  30739.0 "
      ]
     },
     "metadata": {},
     "output_type": "display_data"
    }
   ],
   "source": [
    "summary(comppat_mat_long$Delta[which(comppat_mat_long$MedianFisher < 0.001) ])"
   ]
  },
  {
   "cell_type": "code",
   "execution_count": 86,
   "metadata": {
    "vscode": {
     "languageId": "r"
    }
   },
   "outputs": [
    {
     "data": {
      "text/plain": [
       "\n",
       " 11   4   5   1   7   6  17   8 151  13  10 171 173  12  69 211 214 222  56 111 \n",
       "  1  13   1  33   8  19   1   1   1   9   3   1   1   1   1   1   1   1   1   4 \n",
       "246 248 \n",
       "  1   2 "
      ]
     },
     "metadata": {},
     "output_type": "display_data"
    }
   ],
   "source": [
    "table(comppat_mat_long$Component_id)"
   ]
  },
  {
   "cell_type": "code",
   "execution_count": 87,
   "metadata": {
    "vscode": {
     "languageId": "r"
    }
   },
   "outputs": [
    {
     "data": {
      "text/html": [
       "<table class=\"dataframe\">\n",
       "<caption>A tibble: 6 x 6</caption>\n",
       "<thead>\n",
       "\t<tr><th scope=col>MedianFisher</th><th scope=col>Component_id</th><th scope=col>Component_specificity</th><th scope=col>log10MedianFisher</th><th scope=col>MeanDelta</th><th scope=col>UniquePatients</th></tr>\n",
       "\t<tr><th scope=col>&lt;dbl&gt;</th><th scope=col>&lt;chr&gt;</th><th scope=col>&lt;chr&gt;</th><th scope=col>&lt;dbl&gt;</th><th scope=col>&lt;dbl&gt;</th><th scope=col>&lt;int&gt;</th></tr>\n",
       "</thead>\n",
       "<tbody>\n",
       "\t<tr><td>7.10e-06</td><td>1</td><td>CMV,EBV,HCV,HomoSapiens,HPV,InfluenzaM.tuberculosis,MCPyV,S-pneumoniae</td><td>5.148742</td><td>4411.03030</td><td>33</td></tr>\n",
       "\t<tr><td>5.60e-07</td><td>4</td><td>CMV,HCV,HomoSapiens,HPV                                               </td><td>6.251812</td><td> 344.38462</td><td>13</td></tr>\n",
       "\t<tr><td>1.60e-06</td><td>5</td><td>EBV,HomoSapiens,HPV                                                   </td><td>5.795880</td><td> 431.00000</td><td> 1</td></tr>\n",
       "\t<tr><td>1.10e-05</td><td>6</td><td>CMV,EBV,HomoSapiens,HPV                                               </td><td>4.958607</td><td> -29.26316</td><td>19</td></tr>\n",
       "\t<tr><td>9.85e-06</td><td>7</td><td>CMV,HomoSapiens                                                       </td><td>5.006564</td><td> 212.25000</td><td> 8</td></tr>\n",
       "\t<tr><td>2.10e-05</td><td>8</td><td>                                                                      </td><td>4.677781</td><td> 354.00000</td><td> 1</td></tr>\n",
       "</tbody>\n",
       "</table>\n"
      ],
      "text/latex": [
       "A tibble: 6 x 6\n",
       "\\begin{tabular}{llllll}\n",
       " MedianFisher & Component\\_id & Component\\_specificity & log10MedianFisher & MeanDelta & UniquePatients\\\\\n",
       " <dbl> & <chr> & <chr> & <dbl> & <dbl> & <int>\\\\\n",
       "\\hline\n",
       "\t 7.10e-06 & 1 & CMV,EBV,HCV,HomoSapiens,HPV,InfluenzaM.tuberculosis,MCPyV,S-pneumoniae & 5.148742 & 4411.03030 & 33\\\\\n",
       "\t 5.60e-07 & 4 & CMV,HCV,HomoSapiens,HPV                                                & 6.251812 &  344.38462 & 13\\\\\n",
       "\t 1.60e-06 & 5 & EBV,HomoSapiens,HPV                                                    & 5.795880 &  431.00000 &  1\\\\\n",
       "\t 1.10e-05 & 6 & CMV,EBV,HomoSapiens,HPV                                                & 4.958607 &  -29.26316 & 19\\\\\n",
       "\t 9.85e-06 & 7 & CMV,HomoSapiens                                                        & 5.006564 &  212.25000 &  8\\\\\n",
       "\t 2.10e-05 & 8 &                                                                        & 4.677781 &  354.00000 &  1\\\\\n",
       "\\end{tabular}\n"
      ],
      "text/markdown": [
       "\n",
       "A tibble: 6 x 6\n",
       "\n",
       "| MedianFisher &lt;dbl&gt; | Component_id &lt;chr&gt; | Component_specificity &lt;chr&gt; | log10MedianFisher &lt;dbl&gt; | MeanDelta &lt;dbl&gt; | UniquePatients &lt;int&gt; |\n",
       "|---|---|---|---|---|---|\n",
       "| 7.10e-06 | 1 | CMV,EBV,HCV,HomoSapiens,HPV,InfluenzaM.tuberculosis,MCPyV,S-pneumoniae | 5.148742 | 4411.03030 | 33 |\n",
       "| 5.60e-07 | 4 | CMV,HCV,HomoSapiens,HPV                                                | 6.251812 |  344.38462 | 13 |\n",
       "| 1.60e-06 | 5 | EBV,HomoSapiens,HPV                                                    | 5.795880 |  431.00000 |  1 |\n",
       "| 1.10e-05 | 6 | CMV,EBV,HomoSapiens,HPV                                                | 4.958607 |  -29.26316 | 19 |\n",
       "| 9.85e-06 | 7 | CMV,HomoSapiens                                                        | 5.006564 |  212.25000 |  8 |\n",
       "| 2.10e-05 | 8 | <!----> | 4.677781 |  354.00000 |  1 |\n",
       "\n"
      ],
      "text/plain": [
       "  MedianFisher Component_id\n",
       "1 7.10e-06     1           \n",
       "2 5.60e-07     4           \n",
       "3 1.60e-06     5           \n",
       "4 1.10e-05     6           \n",
       "5 9.85e-06     7           \n",
       "6 2.10e-05     8           \n",
       "  Component_specificity                                                 \n",
       "1 CMV,EBV,HCV,HomoSapiens,HPV,InfluenzaM.tuberculosis,MCPyV,S-pneumoniae\n",
       "2 CMV,HCV,HomoSapiens,HPV                                               \n",
       "3 EBV,HomoSapiens,HPV                                                   \n",
       "4 CMV,EBV,HomoSapiens,HPV                                               \n",
       "5 CMV,HomoSapiens                                                       \n",
       "6                                                                       \n",
       "  log10MedianFisher MeanDelta  UniquePatients\n",
       "1 5.148742          4411.03030 33            \n",
       "2 6.251812           344.38462 13            \n",
       "3 5.795880           431.00000  1            \n",
       "4 4.958607           -29.26316 19            \n",
       "5 5.006564           212.25000  8            \n",
       "6 4.677781           354.00000  1            "
      ]
     },
     "metadata": {},
     "output_type": "display_data"
    }
   ],
   "source": [
    "head(comppat_mat_long_summary)"
   ]
  },
  {
   "cell_type": "code",
   "execution_count": 88,
   "metadata": {
    "vscode": {
     "languageId": "r"
    }
   },
   "outputs": [],
   "source": [
    "comppat_mat_long_summary_morethanone <- comppat_mat_long_summary[comppat_mat_long_summary$UniquePatients > 1,]\n",
    "comppat_mat_long_summary_morethanone <- comppat_mat_long_summary_morethanone[order(comppat_mat_long_summary_morethanone$MeanDelta),]"
   ]
  },
  {
   "cell_type": "code",
   "execution_count": 89,
   "metadata": {
    "vscode": {
     "languageId": "r"
    }
   },
   "outputs": [
    {
     "data": {
      "text/html": [
       "<style>\n",
       ".list-inline {list-style: none; margin:0; padding: 0}\n",
       ".list-inline>li {display: inline-block}\n",
       ".list-inline>li:not(:last-child)::after {content: \"\\00b7\"; padding: 0 .5ex}\n",
       "</style>\n",
       "<ol class=list-inline><li>22</li><li>6</li></ol>\n"
      ],
      "text/latex": [
       "\\begin{enumerate*}\n",
       "\\item 22\n",
       "\\item 6\n",
       "\\end{enumerate*}\n"
      ],
      "text/markdown": [
       "1. 22\n",
       "2. 6\n",
       "\n",
       "\n"
      ],
      "text/plain": [
       "[1] 22  6"
      ]
     },
     "metadata": {},
     "output_type": "display_data"
    }
   ],
   "source": [
    "dim(comppat_mat_long_summary)"
   ]
  },
  {
   "cell_type": "code",
   "execution_count": 90,
   "metadata": {
    "vscode": {
     "languageId": "r"
    }
   },
   "outputs": [
    {
     "data": {
      "text/html": [
       "<style>\n",
       ".list-inline {list-style: none; margin:0; padding: 0}\n",
       ".list-inline>li {display: inline-block}\n",
       ".list-inline>li:not(:last-child)::after {content: \"\\00b7\"; padding: 0 .5ex}\n",
       "</style>\n",
       "<ol class=list-inline><li>8</li><li>6</li></ol>\n"
      ],
      "text/latex": [
       "\\begin{enumerate*}\n",
       "\\item 8\n",
       "\\item 6\n",
       "\\end{enumerate*}\n"
      ],
      "text/markdown": [
       "1. 8\n",
       "2. 6\n",
       "\n",
       "\n"
      ],
      "text/plain": [
       "[1] 8 6"
      ]
     },
     "metadata": {},
     "output_type": "display_data"
    }
   ],
   "source": [
    "dim(comppat_mat_long_summary_morethanone)"
   ]
  },
  {
   "cell_type": "code",
   "execution_count": 91,
   "metadata": {
    "vscode": {
     "languageId": "r"
    }
   },
   "outputs": [
    {
     "data": {
      "text/html": [
       "<style>\n",
       ".list-inline {list-style: none; margin:0; padding: 0}\n",
       ".list-inline>li {display: inline-block}\n",
       ".list-inline>li:not(:last-child)::after {content: \"\\00b7\"; padding: 0 .5ex}\n",
       "</style>\n",
       "<ol class=list-inline><li>'addjurkat.fx'</li><li>'age_pal'</li><li>'align_plots1'</li><li>'baseline_patients'</li><li>'calculate_delta.fx'</li><li>'cohort_col'</li><li>'components'</li><li>'components_sep'</li><li>'components_sep_sampletype'</li><li>'comppat_mat'</li><li>'comppat_mat_long'</li><li>'comppat_mat_long_summary'</li><li>'comppat_mat_long_summary_morethanone'</li><li>'cycle_col'</li><li>'datapath'</li><li>'delta_basespiderplot.fx'</li><li>'df1'</li><li>'df1_post'</li><li>'df1_post_sum'</li><li>'df1_pre'</li><li>'df1_pre_sum'</li><li>'gitpath'</li><li>'group_col'</li><li>'h4hpath'</li><li>'histdenp'</li><li>'histp'</li><li>'i'</li><li>'int_all'</li><li>'j'</li><li>'lsmeans_df.fx'</li><li>'manifestpath'</li><li>'message_parallel'</li><li>'meta_div'</li><li>'myaxis'</li><li>'myc'</li><li>'myorder'</li><li>'myplot'</li><li>'mypt'</li><li>'mypts'</li><li>'mytab'</li><li>'plotpath'</li><li>'pt_post'</li><li>'pt_pre'</li><li>'round_and_format'</li><li>'rowmatch'</li><li>'safe_mclapply'</li><li>'sampletags_columns'</li><li>'sampletype'</li><li>'text_matrix'</li><li>'tmp'</li><li>'toString_onefle.fx'</li><li>'type_col'</li></ol>\n"
      ],
      "text/latex": [
       "\\begin{enumerate*}\n",
       "\\item 'addjurkat.fx'\n",
       "\\item 'age\\_pal'\n",
       "\\item 'align\\_plots1'\n",
       "\\item 'baseline\\_patients'\n",
       "\\item 'calculate\\_delta.fx'\n",
       "\\item 'cohort\\_col'\n",
       "\\item 'components'\n",
       "\\item 'components\\_sep'\n",
       "\\item 'components\\_sep\\_sampletype'\n",
       "\\item 'comppat\\_mat'\n",
       "\\item 'comppat\\_mat\\_long'\n",
       "\\item 'comppat\\_mat\\_long\\_summary'\n",
       "\\item 'comppat\\_mat\\_long\\_summary\\_morethanone'\n",
       "\\item 'cycle\\_col'\n",
       "\\item 'datapath'\n",
       "\\item 'delta\\_basespiderplot.fx'\n",
       "\\item 'df1'\n",
       "\\item 'df1\\_post'\n",
       "\\item 'df1\\_post\\_sum'\n",
       "\\item 'df1\\_pre'\n",
       "\\item 'df1\\_pre\\_sum'\n",
       "\\item 'gitpath'\n",
       "\\item 'group\\_col'\n",
       "\\item 'h4hpath'\n",
       "\\item 'histdenp'\n",
       "\\item 'histp'\n",
       "\\item 'i'\n",
       "\\item 'int\\_all'\n",
       "\\item 'j'\n",
       "\\item 'lsmeans\\_df.fx'\n",
       "\\item 'manifestpath'\n",
       "\\item 'message\\_parallel'\n",
       "\\item 'meta\\_div'\n",
       "\\item 'myaxis'\n",
       "\\item 'myc'\n",
       "\\item 'myorder'\n",
       "\\item 'myplot'\n",
       "\\item 'mypt'\n",
       "\\item 'mypts'\n",
       "\\item 'mytab'\n",
       "\\item 'plotpath'\n",
       "\\item 'pt\\_post'\n",
       "\\item 'pt\\_pre'\n",
       "\\item 'round\\_and\\_format'\n",
       "\\item 'rowmatch'\n",
       "\\item 'safe\\_mclapply'\n",
       "\\item 'sampletags\\_columns'\n",
       "\\item 'sampletype'\n",
       "\\item 'text\\_matrix'\n",
       "\\item 'tmp'\n",
       "\\item 'toString\\_onefle.fx'\n",
       "\\item 'type\\_col'\n",
       "\\end{enumerate*}\n"
      ],
      "text/markdown": [
       "1. 'addjurkat.fx'\n",
       "2. 'age_pal'\n",
       "3. 'align_plots1'\n",
       "4. 'baseline_patients'\n",
       "5. 'calculate_delta.fx'\n",
       "6. 'cohort_col'\n",
       "7. 'components'\n",
       "8. 'components_sep'\n",
       "9. 'components_sep_sampletype'\n",
       "10. 'comppat_mat'\n",
       "11. 'comppat_mat_long'\n",
       "12. 'comppat_mat_long_summary'\n",
       "13. 'comppat_mat_long_summary_morethanone'\n",
       "14. 'cycle_col'\n",
       "15. 'datapath'\n",
       "16. 'delta_basespiderplot.fx'\n",
       "17. 'df1'\n",
       "18. 'df1_post'\n",
       "19. 'df1_post_sum'\n",
       "20. 'df1_pre'\n",
       "21. 'df1_pre_sum'\n",
       "22. 'gitpath'\n",
       "23. 'group_col'\n",
       "24. 'h4hpath'\n",
       "25. 'histdenp'\n",
       "26. 'histp'\n",
       "27. 'i'\n",
       "28. 'int_all'\n",
       "29. 'j'\n",
       "30. 'lsmeans_df.fx'\n",
       "31. 'manifestpath'\n",
       "32. 'message_parallel'\n",
       "33. 'meta_div'\n",
       "34. 'myaxis'\n",
       "35. 'myc'\n",
       "36. 'myorder'\n",
       "37. 'myplot'\n",
       "38. 'mypt'\n",
       "39. 'mypts'\n",
       "40. 'mytab'\n",
       "41. 'plotpath'\n",
       "42. 'pt_post'\n",
       "43. 'pt_pre'\n",
       "44. 'round_and_format'\n",
       "45. 'rowmatch'\n",
       "46. 'safe_mclapply'\n",
       "47. 'sampletags_columns'\n",
       "48. 'sampletype'\n",
       "49. 'text_matrix'\n",
       "50. 'tmp'\n",
       "51. 'toString_onefle.fx'\n",
       "52. 'type_col'\n",
       "\n",
       "\n"
      ],
      "text/plain": [
       " [1] \"addjurkat.fx\"                        \n",
       " [2] \"age_pal\"                             \n",
       " [3] \"align_plots1\"                        \n",
       " [4] \"baseline_patients\"                   \n",
       " [5] \"calculate_delta.fx\"                  \n",
       " [6] \"cohort_col\"                          \n",
       " [7] \"components\"                          \n",
       " [8] \"components_sep\"                      \n",
       " [9] \"components_sep_sampletype\"           \n",
       "[10] \"comppat_mat\"                         \n",
       "[11] \"comppat_mat_long\"                    \n",
       "[12] \"comppat_mat_long_summary\"            \n",
       "[13] \"comppat_mat_long_summary_morethanone\"\n",
       "[14] \"cycle_col\"                           \n",
       "[15] \"datapath\"                            \n",
       "[16] \"delta_basespiderplot.fx\"             \n",
       "[17] \"df1\"                                 \n",
       "[18] \"df1_post\"                            \n",
       "[19] \"df1_post_sum\"                        \n",
       "[20] \"df1_pre\"                             \n",
       "[21] \"df1_pre_sum\"                         \n",
       "[22] \"gitpath\"                             \n",
       "[23] \"group_col\"                           \n",
       "[24] \"h4hpath\"                             \n",
       "[25] \"histdenp\"                            \n",
       "[26] \"histp\"                               \n",
       "[27] \"i\"                                   \n",
       "[28] \"int_all\"                             \n",
       "[29] \"j\"                                   \n",
       "[30] \"lsmeans_df.fx\"                       \n",
       "[31] \"manifestpath\"                        \n",
       "[32] \"message_parallel\"                    \n",
       "[33] \"meta_div\"                            \n",
       "[34] \"myaxis\"                              \n",
       "[35] \"myc\"                                 \n",
       "[36] \"myorder\"                             \n",
       "[37] \"myplot\"                              \n",
       "[38] \"mypt\"                                \n",
       "[39] \"mypts\"                               \n",
       "[40] \"mytab\"                               \n",
       "[41] \"plotpath\"                            \n",
       "[42] \"pt_post\"                             \n",
       "[43] \"pt_pre\"                              \n",
       "[44] \"round_and_format\"                    \n",
       "[45] \"rowmatch\"                            \n",
       "[46] \"safe_mclapply\"                       \n",
       "[47] \"sampletags_columns\"                  \n",
       "[48] \"sampletype\"                          \n",
       "[49] \"text_matrix\"                         \n",
       "[50] \"tmp\"                                 \n",
       "[51] \"toString_onefle.fx\"                  \n",
       "[52] \"type_col\"                            "
      ]
     },
     "metadata": {},
     "output_type": "display_data"
    }
   ],
   "source": [
    "ls()"
   ]
  },
  {
   "cell_type": "code",
   "execution_count": 92,
   "metadata": {
    "vscode": {
     "languageId": "r"
    }
   },
   "outputs": [],
   "source": [
    "comppat_mat_4plot <- comppat_mat_long[ comppat_mat_long$Component_id %in% comppat_mat_long_summary_morethanone$Component_id,]\n",
    "comppat_mat_4plot$Component_id <- factor(comppat_mat_4plot$Component_id, levels = comppat_mat_long_summary_morethanone$Component_id)"
   ]
  },
  {
   "cell_type": "code",
   "execution_count": 93,
   "metadata": {
    "vscode": {
     "languageId": "r"
    }
   },
   "outputs": [
    {
     "data": {
      "text/html": [
       "<table class=\"dataframe\">\n",
       "<caption>A tibble: 1 x 9</caption>\n",
       "<thead>\n",
       "\t<tr><th scope=col>MedianFisher</th><th scope=col>Component_id</th><th scope=col>Component_specificity</th><th scope=col>Patient</th><th scope=col>Delta</th><th scope=col>cancergroup</th><th scope=col>Disease</th><th scope=col>Relapse</th><th scope=col>log10MedianFisher</th></tr>\n",
       "\t<tr><th scope=col>&lt;dbl&gt;</th><th scope=col>&lt;fct&gt;</th><th scope=col>&lt;chr&gt;</th><th scope=col>&lt;chr&gt;</th><th scope=col>&lt;int&gt;</th><th scope=col>&lt;chr&gt;</th><th scope=col>&lt;chr&gt;</th><th scope=col>&lt;int&gt;</th><th scope=col>&lt;dbl&gt;</th></tr>\n",
       "</thead>\n",
       "<tbody>\n",
       "\t<tr><td>9.85e-06</td><td>7</td><td>CMV,HomoSapiens</td><td>CHP_368</td><td>0</td><td>Solid tumors</td><td>ARMS</td><td>1</td><td>5.006564</td></tr>\n",
       "</tbody>\n",
       "</table>\n"
      ],
      "text/latex": [
       "A tibble: 1 x 9\n",
       "\\begin{tabular}{lllllllll}\n",
       " MedianFisher & Component\\_id & Component\\_specificity & Patient & Delta & cancergroup & Disease & Relapse & log10MedianFisher\\\\\n",
       " <dbl> & <fct> & <chr> & <chr> & <int> & <chr> & <chr> & <int> & <dbl>\\\\\n",
       "\\hline\n",
       "\t 9.85e-06 & 7 & CMV,HomoSapiens & CHP\\_368 & 0 & Solid tumors & ARMS & 1 & 5.006564\\\\\n",
       "\\end{tabular}\n"
      ],
      "text/markdown": [
       "\n",
       "A tibble: 1 x 9\n",
       "\n",
       "| MedianFisher &lt;dbl&gt; | Component_id &lt;fct&gt; | Component_specificity &lt;chr&gt; | Patient &lt;chr&gt; | Delta &lt;int&gt; | cancergroup &lt;chr&gt; | Disease &lt;chr&gt; | Relapse &lt;int&gt; | log10MedianFisher &lt;dbl&gt; |\n",
       "|---|---|---|---|---|---|---|---|---|\n",
       "| 9.85e-06 | 7 | CMV,HomoSapiens | CHP_368 | 0 | Solid tumors | ARMS | 1 | 5.006564 |\n",
       "\n"
      ],
      "text/plain": [
       "  MedianFisher Component_id Component_specificity Patient Delta cancergroup \n",
       "1 9.85e-06     7            CMV,HomoSapiens       CHP_368 0     Solid tumors\n",
       "  Disease Relapse log10MedianFisher\n",
       "1 ARMS    1       5.006564         "
      ]
     },
     "metadata": {},
     "output_type": "display_data"
    }
   ],
   "source": [
    "comppat_mat_4plot[ comppat_mat_4plot$Delta == 0,]"
   ]
  },
  {
   "cell_type": "code",
   "execution_count": 94,
   "metadata": {
    "vscode": {
     "languageId": "r"
    }
   },
   "outputs": [],
   "source": [
    "comppat_mat_4plot$Delta_s <- (comppat_mat_4plot$Delta - median(comppat_mat_4plot$Delta) )/ mad(comppat_mat_4plot$Delta)"
   ]
  },
  {
   "cell_type": "code",
   "execution_count": 95,
   "metadata": {
    "vscode": {
     "languageId": "r"
    }
   },
   "outputs": [
    {
     "data": {
      "text/html": [
       "78"
      ],
      "text/latex": [
       "78"
      ],
      "text/markdown": [
       "78"
      ],
      "text/plain": [
       "[1] 78"
      ]
     },
     "metadata": {},
     "output_type": "display_data"
    }
   ],
   "source": [
    "median(comppat_mat_4plot$Delta)"
   ]
  },
  {
   "cell_type": "code",
   "execution_count": 96,
   "metadata": {
    "vscode": {
     "languageId": "r"
    }
   },
   "outputs": [
    {
     "data": {
      "text/html": [
       "<table class=\"dataframe\">\n",
       "<caption>A tibble: 6 x 10</caption>\n",
       "<thead>\n",
       "\t<tr><th scope=col>MedianFisher</th><th scope=col>Component_id</th><th scope=col>Component_specificity</th><th scope=col>Patient</th><th scope=col>Delta</th><th scope=col>cancergroup</th><th scope=col>Disease</th><th scope=col>Relapse</th><th scope=col>log10MedianFisher</th><th scope=col>Delta_s</th></tr>\n",
       "\t<tr><th scope=col>&lt;dbl&gt;</th><th scope=col>&lt;fct&gt;</th><th scope=col>&lt;chr&gt;</th><th scope=col>&lt;chr&gt;</th><th scope=col>&lt;int&gt;</th><th scope=col>&lt;chr&gt;</th><th scope=col>&lt;chr&gt;</th><th scope=col>&lt;int&gt;</th><th scope=col>&lt;dbl&gt;</th><th scope=col>&lt;dbl&gt;</th></tr>\n",
       "</thead>\n",
       "<tbody>\n",
       "\t<tr><td>7.1e-06</td><td>1</td><td>CMV,EBV,HCV,HomoSapiens,HPV,InfluenzaM.tuberculosis,MCPyV,S-pneumoniae</td><td>CHP_396</td><td> 30739</td><td>Leukemia    </td><td>HR ALL</td><td>0</td><td>5.148742</td><td> 61.917848</td></tr>\n",
       "\t<tr><td>7.1e-06</td><td>1</td><td>CMV,EBV,HCV,HomoSapiens,HPV,InfluenzaM.tuberculosis,MCPyV,S-pneumoniae</td><td>CHP_357</td><td>  1108</td><td>Leukemia    </td><td>AML   </td><td>0</td><td>5.148742</td><td>  2.080016</td></tr>\n",
       "\t<tr><td>7.1e-06</td><td>1</td><td>CMV,EBV,HCV,HomoSapiens,HPV,InfluenzaM.tuberculosis,MCPyV,S-pneumoniae</td><td>CHP_404</td><td> 19142</td><td>Solid tumors</td><td>ERMS  </td><td>0</td><td>5.148742</td><td> 38.498479</td></tr>\n",
       "\t<tr><td>7.1e-06</td><td>1</td><td>CMV,EBV,HCV,HomoSapiens,HPV,InfluenzaM.tuberculosis,MCPyV,S-pneumoniae</td><td>CHP_408</td><td> 12346</td><td>Solid tumors</td><td>OS    </td><td>0</td><td>5.148742</td><td> 24.774409</td></tr>\n",
       "\t<tr><td>7.1e-06</td><td>1</td><td>CMV,EBV,HCV,HomoSapiens,HPV,InfluenzaM.tuberculosis,MCPyV,S-pneumoniae</td><td>CHP_381</td><td>-14495</td><td>Solid tumors</td><td>EWS   </td><td>0</td><td>5.148742</td><td>-29.429203</td></tr>\n",
       "\t<tr><td>7.1e-06</td><td>1</td><td>CMV,EBV,HCV,HomoSapiens,HPV,InfluenzaM.tuberculosis,MCPyV,S-pneumoniae</td><td>CHP_409</td><td>  1265</td><td>Solid tumors</td><td>EWS   </td><td>0</td><td>5.148742</td><td>  2.397067</td></tr>\n",
       "</tbody>\n",
       "</table>\n"
      ],
      "text/latex": [
       "A tibble: 6 x 10\n",
       "\\begin{tabular}{llllllllll}\n",
       " MedianFisher & Component\\_id & Component\\_specificity & Patient & Delta & cancergroup & Disease & Relapse & log10MedianFisher & Delta\\_s\\\\\n",
       " <dbl> & <fct> & <chr> & <chr> & <int> & <chr> & <chr> & <int> & <dbl> & <dbl>\\\\\n",
       "\\hline\n",
       "\t 7.1e-06 & 1 & CMV,EBV,HCV,HomoSapiens,HPV,InfluenzaM.tuberculosis,MCPyV,S-pneumoniae & CHP\\_396 &  30739 & Leukemia     & HR ALL & 0 & 5.148742 &  61.917848\\\\\n",
       "\t 7.1e-06 & 1 & CMV,EBV,HCV,HomoSapiens,HPV,InfluenzaM.tuberculosis,MCPyV,S-pneumoniae & CHP\\_357 &   1108 & Leukemia     & AML    & 0 & 5.148742 &   2.080016\\\\\n",
       "\t 7.1e-06 & 1 & CMV,EBV,HCV,HomoSapiens,HPV,InfluenzaM.tuberculosis,MCPyV,S-pneumoniae & CHP\\_404 &  19142 & Solid tumors & ERMS   & 0 & 5.148742 &  38.498479\\\\\n",
       "\t 7.1e-06 & 1 & CMV,EBV,HCV,HomoSapiens,HPV,InfluenzaM.tuberculosis,MCPyV,S-pneumoniae & CHP\\_408 &  12346 & Solid tumors & OS     & 0 & 5.148742 &  24.774409\\\\\n",
       "\t 7.1e-06 & 1 & CMV,EBV,HCV,HomoSapiens,HPV,InfluenzaM.tuberculosis,MCPyV,S-pneumoniae & CHP\\_381 & -14495 & Solid tumors & EWS    & 0 & 5.148742 & -29.429203\\\\\n",
       "\t 7.1e-06 & 1 & CMV,EBV,HCV,HomoSapiens,HPV,InfluenzaM.tuberculosis,MCPyV,S-pneumoniae & CHP\\_409 &   1265 & Solid tumors & EWS    & 0 & 5.148742 &   2.397067\\\\\n",
       "\\end{tabular}\n"
      ],
      "text/markdown": [
       "\n",
       "A tibble: 6 x 10\n",
       "\n",
       "| MedianFisher &lt;dbl&gt; | Component_id &lt;fct&gt; | Component_specificity &lt;chr&gt; | Patient &lt;chr&gt; | Delta &lt;int&gt; | cancergroup &lt;chr&gt; | Disease &lt;chr&gt; | Relapse &lt;int&gt; | log10MedianFisher &lt;dbl&gt; | Delta_s &lt;dbl&gt; |\n",
       "|---|---|---|---|---|---|---|---|---|---|\n",
       "| 7.1e-06 | 1 | CMV,EBV,HCV,HomoSapiens,HPV,InfluenzaM.tuberculosis,MCPyV,S-pneumoniae | CHP_396 |  30739 | Leukemia     | HR ALL | 0 | 5.148742 |  61.917848 |\n",
       "| 7.1e-06 | 1 | CMV,EBV,HCV,HomoSapiens,HPV,InfluenzaM.tuberculosis,MCPyV,S-pneumoniae | CHP_357 |   1108 | Leukemia     | AML    | 0 | 5.148742 |   2.080016 |\n",
       "| 7.1e-06 | 1 | CMV,EBV,HCV,HomoSapiens,HPV,InfluenzaM.tuberculosis,MCPyV,S-pneumoniae | CHP_404 |  19142 | Solid tumors | ERMS   | 0 | 5.148742 |  38.498479 |\n",
       "| 7.1e-06 | 1 | CMV,EBV,HCV,HomoSapiens,HPV,InfluenzaM.tuberculosis,MCPyV,S-pneumoniae | CHP_408 |  12346 | Solid tumors | OS     | 0 | 5.148742 |  24.774409 |\n",
       "| 7.1e-06 | 1 | CMV,EBV,HCV,HomoSapiens,HPV,InfluenzaM.tuberculosis,MCPyV,S-pneumoniae | CHP_381 | -14495 | Solid tumors | EWS    | 0 | 5.148742 | -29.429203 |\n",
       "| 7.1e-06 | 1 | CMV,EBV,HCV,HomoSapiens,HPV,InfluenzaM.tuberculosis,MCPyV,S-pneumoniae | CHP_409 |   1265 | Solid tumors | EWS    | 0 | 5.148742 |   2.397067 |\n",
       "\n"
      ],
      "text/plain": [
       "  MedianFisher Component_id\n",
       "1 7.1e-06      1           \n",
       "2 7.1e-06      1           \n",
       "3 7.1e-06      1           \n",
       "4 7.1e-06      1           \n",
       "5 7.1e-06      1           \n",
       "6 7.1e-06      1           \n",
       "  Component_specificity                                                 \n",
       "1 CMV,EBV,HCV,HomoSapiens,HPV,InfluenzaM.tuberculosis,MCPyV,S-pneumoniae\n",
       "2 CMV,EBV,HCV,HomoSapiens,HPV,InfluenzaM.tuberculosis,MCPyV,S-pneumoniae\n",
       "3 CMV,EBV,HCV,HomoSapiens,HPV,InfluenzaM.tuberculosis,MCPyV,S-pneumoniae\n",
       "4 CMV,EBV,HCV,HomoSapiens,HPV,InfluenzaM.tuberculosis,MCPyV,S-pneumoniae\n",
       "5 CMV,EBV,HCV,HomoSapiens,HPV,InfluenzaM.tuberculosis,MCPyV,S-pneumoniae\n",
       "6 CMV,EBV,HCV,HomoSapiens,HPV,InfluenzaM.tuberculosis,MCPyV,S-pneumoniae\n",
       "  Patient Delta  cancergroup  Disease Relapse log10MedianFisher Delta_s   \n",
       "1 CHP_396  30739 Leukemia     HR ALL  0       5.148742           61.917848\n",
       "2 CHP_357   1108 Leukemia     AML     0       5.148742            2.080016\n",
       "3 CHP_404  19142 Solid tumors ERMS    0       5.148742           38.498479\n",
       "4 CHP_408  12346 Solid tumors OS      0       5.148742           24.774409\n",
       "5 CHP_381 -14495 Solid tumors EWS     0       5.148742          -29.429203\n",
       "6 CHP_409   1265 Solid tumors EWS     0       5.148742            2.397067"
      ]
     },
     "metadata": {},
     "output_type": "display_data"
    }
   ],
   "source": [
    "head(comppat_mat_4plot)"
   ]
  },
  {
   "cell_type": "code",
   "execution_count": 97,
   "metadata": {
    "vscode": {
     "languageId": "r"
    }
   },
   "outputs": [
    {
     "data": {
      "text/plain": [
       "   Min. 1st Qu.  Median    Mean 3rd Qu.    Max. \n",
       " -60879     -28      78    1650    1076   30739 "
      ]
     },
     "metadata": {},
     "output_type": "display_data"
    },
    {
     "data": {
      "text/plain": [
       "     Min.   1st Qu.    Median      Mean   3rd Qu.      Max. \n",
       "-123.0986   -0.2141    0.0000    3.1748    2.0164   61.9179 "
      ]
     },
     "metadata": {},
     "output_type": "display_data"
    },
    {
     "data": {
      "text/html": [
       "<style>\n",
       ".dl-inline {width: auto; margin:0; padding: 0}\n",
       ".dl-inline>dt, .dl-inline>dd {float: none; width: auto; display: inline-block}\n",
       ".dl-inline>dt::after {content: \":\\0020\"; padding-right: .5ex}\n",
       ".dl-inline>dt:not(:first-of-type) {padding-left: .5ex}\n",
       "</style><dl class=dl-inline><dt>10%</dt><dd>-0.892589567930105</dd><dt>90%</dt><dd>24.7744090935894</dd></dl>\n"
      ],
      "text/latex": [
       "\\begin{description*}\n",
       "\\item[10\\textbackslash{}\\%] -0.892589567930105\n",
       "\\item[90\\textbackslash{}\\%] 24.7744090935894\n",
       "\\end{description*}\n"
      ],
      "text/markdown": [
       "10%\n",
       ":   -0.89258956793010590%\n",
       ":   24.7744090935894\n",
       "\n"
      ],
      "text/plain": [
       "       10%        90% \n",
       "-0.8925896 24.7744091 "
      ]
     },
     "metadata": {},
     "output_type": "display_data"
    }
   ],
   "source": [
    "summary(comppat_mat_4plot$Delta)\n",
    "summary(comppat_mat_4plot$Delta_s)\n",
    "quantile(comppat_mat_4plot$Delta_s, c(0.1, 0.9))"
   ]
  },
  {
   "cell_type": "code",
   "execution_count": 98,
   "metadata": {
    "vscode": {
     "languageId": "r"
    }
   },
   "outputs": [
    {
     "data": {
      "text/html": [
       "<table class=\"dataframe\">\n",
       "<caption>A tibble: 6 x 10</caption>\n",
       "<thead>\n",
       "\t<tr><th scope=col>MedianFisher</th><th scope=col>Component_id</th><th scope=col>Component_specificity</th><th scope=col>Patient</th><th scope=col>Delta</th><th scope=col>cancergroup</th><th scope=col>Disease</th><th scope=col>Relapse</th><th scope=col>log10MedianFisher</th><th scope=col>Delta_s</th></tr>\n",
       "\t<tr><th scope=col>&lt;dbl&gt;</th><th scope=col>&lt;fct&gt;</th><th scope=col>&lt;chr&gt;</th><th scope=col>&lt;chr&gt;</th><th scope=col>&lt;int&gt;</th><th scope=col>&lt;chr&gt;</th><th scope=col>&lt;chr&gt;</th><th scope=col>&lt;int&gt;</th><th scope=col>&lt;dbl&gt;</th><th scope=col>&lt;dbl&gt;</th></tr>\n",
       "</thead>\n",
       "<tbody>\n",
       "\t<tr><td>7.1e-06</td><td>1</td><td>CMV,EBV,HCV,HomoSapiens,HPV,InfluenzaM.tuberculosis,MCPyV,S-pneumoniae</td><td>CHP_396</td><td> 30739</td><td>Leukemia    </td><td>HR ALL</td><td>0</td><td>5.148742</td><td> 61.917848</td></tr>\n",
       "\t<tr><td>7.1e-06</td><td>1</td><td>CMV,EBV,HCV,HomoSapiens,HPV,InfluenzaM.tuberculosis,MCPyV,S-pneumoniae</td><td>CHP_357</td><td>  1108</td><td>Leukemia    </td><td>AML   </td><td>0</td><td>5.148742</td><td>  2.080016</td></tr>\n",
       "\t<tr><td>7.1e-06</td><td>1</td><td>CMV,EBV,HCV,HomoSapiens,HPV,InfluenzaM.tuberculosis,MCPyV,S-pneumoniae</td><td>CHP_404</td><td> 19142</td><td>Solid tumors</td><td>ERMS  </td><td>0</td><td>5.148742</td><td> 38.498479</td></tr>\n",
       "\t<tr><td>7.1e-06</td><td>1</td><td>CMV,EBV,HCV,HomoSapiens,HPV,InfluenzaM.tuberculosis,MCPyV,S-pneumoniae</td><td>CHP_408</td><td> 12346</td><td>Solid tumors</td><td>OS    </td><td>0</td><td>5.148742</td><td> 24.774409</td></tr>\n",
       "\t<tr><td>7.1e-06</td><td>1</td><td>CMV,EBV,HCV,HomoSapiens,HPV,InfluenzaM.tuberculosis,MCPyV,S-pneumoniae</td><td>CHP_381</td><td>-14495</td><td>Solid tumors</td><td>EWS   </td><td>0</td><td>5.148742</td><td>-29.429203</td></tr>\n",
       "\t<tr><td>7.1e-06</td><td>1</td><td>CMV,EBV,HCV,HomoSapiens,HPV,InfluenzaM.tuberculosis,MCPyV,S-pneumoniae</td><td>CHP_409</td><td>  1265</td><td>Solid tumors</td><td>EWS   </td><td>0</td><td>5.148742</td><td>  2.397067</td></tr>\n",
       "</tbody>\n",
       "</table>\n"
      ],
      "text/latex": [
       "A tibble: 6 x 10\n",
       "\\begin{tabular}{llllllllll}\n",
       " MedianFisher & Component\\_id & Component\\_specificity & Patient & Delta & cancergroup & Disease & Relapse & log10MedianFisher & Delta\\_s\\\\\n",
       " <dbl> & <fct> & <chr> & <chr> & <int> & <chr> & <chr> & <int> & <dbl> & <dbl>\\\\\n",
       "\\hline\n",
       "\t 7.1e-06 & 1 & CMV,EBV,HCV,HomoSapiens,HPV,InfluenzaM.tuberculosis,MCPyV,S-pneumoniae & CHP\\_396 &  30739 & Leukemia     & HR ALL & 0 & 5.148742 &  61.917848\\\\\n",
       "\t 7.1e-06 & 1 & CMV,EBV,HCV,HomoSapiens,HPV,InfluenzaM.tuberculosis,MCPyV,S-pneumoniae & CHP\\_357 &   1108 & Leukemia     & AML    & 0 & 5.148742 &   2.080016\\\\\n",
       "\t 7.1e-06 & 1 & CMV,EBV,HCV,HomoSapiens,HPV,InfluenzaM.tuberculosis,MCPyV,S-pneumoniae & CHP\\_404 &  19142 & Solid tumors & ERMS   & 0 & 5.148742 &  38.498479\\\\\n",
       "\t 7.1e-06 & 1 & CMV,EBV,HCV,HomoSapiens,HPV,InfluenzaM.tuberculosis,MCPyV,S-pneumoniae & CHP\\_408 &  12346 & Solid tumors & OS     & 0 & 5.148742 &  24.774409\\\\\n",
       "\t 7.1e-06 & 1 & CMV,EBV,HCV,HomoSapiens,HPV,InfluenzaM.tuberculosis,MCPyV,S-pneumoniae & CHP\\_381 & -14495 & Solid tumors & EWS    & 0 & 5.148742 & -29.429203\\\\\n",
       "\t 7.1e-06 & 1 & CMV,EBV,HCV,HomoSapiens,HPV,InfluenzaM.tuberculosis,MCPyV,S-pneumoniae & CHP\\_409 &   1265 & Solid tumors & EWS    & 0 & 5.148742 &   2.397067\\\\\n",
       "\\end{tabular}\n"
      ],
      "text/markdown": [
       "\n",
       "A tibble: 6 x 10\n",
       "\n",
       "| MedianFisher &lt;dbl&gt; | Component_id &lt;fct&gt; | Component_specificity &lt;chr&gt; | Patient &lt;chr&gt; | Delta &lt;int&gt; | cancergroup &lt;chr&gt; | Disease &lt;chr&gt; | Relapse &lt;int&gt; | log10MedianFisher &lt;dbl&gt; | Delta_s &lt;dbl&gt; |\n",
       "|---|---|---|---|---|---|---|---|---|---|\n",
       "| 7.1e-06 | 1 | CMV,EBV,HCV,HomoSapiens,HPV,InfluenzaM.tuberculosis,MCPyV,S-pneumoniae | CHP_396 |  30739 | Leukemia     | HR ALL | 0 | 5.148742 |  61.917848 |\n",
       "| 7.1e-06 | 1 | CMV,EBV,HCV,HomoSapiens,HPV,InfluenzaM.tuberculosis,MCPyV,S-pneumoniae | CHP_357 |   1108 | Leukemia     | AML    | 0 | 5.148742 |   2.080016 |\n",
       "| 7.1e-06 | 1 | CMV,EBV,HCV,HomoSapiens,HPV,InfluenzaM.tuberculosis,MCPyV,S-pneumoniae | CHP_404 |  19142 | Solid tumors | ERMS   | 0 | 5.148742 |  38.498479 |\n",
       "| 7.1e-06 | 1 | CMV,EBV,HCV,HomoSapiens,HPV,InfluenzaM.tuberculosis,MCPyV,S-pneumoniae | CHP_408 |  12346 | Solid tumors | OS     | 0 | 5.148742 |  24.774409 |\n",
       "| 7.1e-06 | 1 | CMV,EBV,HCV,HomoSapiens,HPV,InfluenzaM.tuberculosis,MCPyV,S-pneumoniae | CHP_381 | -14495 | Solid tumors | EWS    | 0 | 5.148742 | -29.429203 |\n",
       "| 7.1e-06 | 1 | CMV,EBV,HCV,HomoSapiens,HPV,InfluenzaM.tuberculosis,MCPyV,S-pneumoniae | CHP_409 |   1265 | Solid tumors | EWS    | 0 | 5.148742 |   2.397067 |\n",
       "\n"
      ],
      "text/plain": [
       "  MedianFisher Component_id\n",
       "1 7.1e-06      1           \n",
       "2 7.1e-06      1           \n",
       "3 7.1e-06      1           \n",
       "4 7.1e-06      1           \n",
       "5 7.1e-06      1           \n",
       "6 7.1e-06      1           \n",
       "  Component_specificity                                                 \n",
       "1 CMV,EBV,HCV,HomoSapiens,HPV,InfluenzaM.tuberculosis,MCPyV,S-pneumoniae\n",
       "2 CMV,EBV,HCV,HomoSapiens,HPV,InfluenzaM.tuberculosis,MCPyV,S-pneumoniae\n",
       "3 CMV,EBV,HCV,HomoSapiens,HPV,InfluenzaM.tuberculosis,MCPyV,S-pneumoniae\n",
       "4 CMV,EBV,HCV,HomoSapiens,HPV,InfluenzaM.tuberculosis,MCPyV,S-pneumoniae\n",
       "5 CMV,EBV,HCV,HomoSapiens,HPV,InfluenzaM.tuberculosis,MCPyV,S-pneumoniae\n",
       "6 CMV,EBV,HCV,HomoSapiens,HPV,InfluenzaM.tuberculosis,MCPyV,S-pneumoniae\n",
       "  Patient Delta  cancergroup  Disease Relapse log10MedianFisher Delta_s   \n",
       "1 CHP_396  30739 Leukemia     HR ALL  0       5.148742           61.917848\n",
       "2 CHP_357   1108 Leukemia     AML     0       5.148742            2.080016\n",
       "3 CHP_404  19142 Solid tumors ERMS    0       5.148742           38.498479\n",
       "4 CHP_408  12346 Solid tumors OS      0       5.148742           24.774409\n",
       "5 CHP_381 -14495 Solid tumors EWS     0       5.148742          -29.429203\n",
       "6 CHP_409   1265 Solid tumors EWS     0       5.148742            2.397067"
      ]
     },
     "metadata": {},
     "output_type": "display_data"
    }
   ],
   "source": [
    "head(comppat_mat_4plot)"
   ]
  },
  {
   "cell_type": "code",
   "execution_count": 99,
   "metadata": {
    "vscode": {
     "languageId": "r"
    }
   },
   "outputs": [],
   "source": [
    "comppat_mat_4plot$Delta_s_trim <- NA\n",
    "comppat_mat_4plot$Delta_s_trim[comppat_mat_4plot$Delta_s < -5] <- -5\n",
    "comppat_mat_4plot$Delta_s_trim[comppat_mat_4plot$Delta_s > 5] <- 5\n",
    "comppat_mat_4plot$Delta_s_trim[comppat_mat_4plot$Delta_s >= -5 & \n",
    "comppat_mat_4plot$Delta_s <= 5] <- comppat_mat_4plot$Delta_s[comppat_mat_4plot$Delta_s >= -5 & \n",
    "comppat_mat_4plot$Delta_s <= 5]"
   ]
  },
  {
   "cell_type": "code",
   "execution_count": 100,
   "metadata": {
    "vscode": {
     "languageId": "r"
    }
   },
   "outputs": [],
   "source": [
    "p4 <- ggplot(\n",
    "    comppat_mat_4plot,\n",
    "    aes(x = Delta_s_trim, y = Component_id, color = cancergroup, shape = as.factor(Relapse) )\n",
    ") +\n",
    "    geom_jitter(size = 5, width = 0, height = 0.3) +\n",
    "    myplot +\n",
    "    myaxis +\n",
    "    theme(\n",
    "        plot.title = element_text(size = 20),\n",
    "        legend.position = \"none\", axis.title.y = element_blank(),\n",
    "        axis.title.x = element_blank(), axis.text.x = element_text(size = 20, angle = 0, hjust = 0.5)\n",
    "    ) +\n",
    "    ggtitle(expression(underline(\"Clonal Change in TCR specificity graph components\"))) +\n",
    "    scale_color_manual(values = group_col) +\n",
    "     geom_hline(yintercept = c(1.5, 2.5, 3.5, 4.5, 5.5, 6.5, 7.5, 8.5, 9.5, 10.5 ), \n",
    "     color = \"grey\", linetype = \"dotted\") +\n",
    "     scale_x_continuous(breaks = c(-5, -2.5, 0, 2.5, 5), \n",
    "     labels = c(\"-5<\", \"-2.5\", \"0\", \"2.5\", \">5\")) +\n",
    "     geom_vline(xintercept = c(-4.9, 4.9), color = \"#8f9296\", linetype = \"dashed\")\n"
   ]
  },
  {
   "cell_type": "code",
   "execution_count": 101,
   "metadata": {
    "vscode": {
     "languageId": "r"
    }
   },
   "outputs": [
    {
     "data": {
      "image/png": "[encoded data removed]",
      "text/plain": [
       "plot without title"
      ]
     },
     "metadata": {
      "image/png": {
       "height": 420,
       "width": 420
      }
     },
     "output_type": "display_data"
    }
   ],
   "source": [
    "p4 #+ coord_cartesian(xlim = c(-5, 5) )"
   ]
  },
  {
   "cell_type": "code",
   "execution_count": 102,
   "metadata": {
    "vscode": {
     "languageId": "r"
    }
   },
   "outputs": [],
   "source": [
    "comppat_mat_unique <- comppat_mat_long[ !duplicated(comppat_mat_long$Component_id),]"
   ]
  },
  {
   "cell_type": "code",
   "execution_count": null,
   "metadata": {
    "vscode": {
     "languageId": "r"
    }
   },
   "outputs": [],
   "source": [
    "# p1 <- ggplot(comppat_mat_unique[which(comppat_mat_unique$MedianFisher < 0.001), ], \n",
    "# aes(x = Component_id, y = MedianFisher)) +\n",
    "#   geom_bar(stat = \"identity\", width = 0.8, alpha = 1) +\n",
    "#   coord_flip() +\n",
    "#   scale_y_reverse() +\n",
    "#   myplot +\n",
    "#  theme( legend.position = \"none\",  plot.title = element_text(size = 20),\n",
    "#    axis.text.y = element_blank(), axis.title.y = element_blank(), \n",
    "#    axis.ticks.y = element_blank(), axis.line.y = element_blank(),\n",
    "#    axis.title.x = element_blank(), axis.text.x = element_text(angle = 30, size = 20, hjust = 1)\n",
    "#  ) + ggtitle(expression(underline(\"Average specificity Fisher score\"))) \n"
   ]
  },
  {
   "cell_type": "code",
   "execution_count": null,
   "metadata": {
    "vscode": {
     "languageId": "r"
    }
   },
   "outputs": [],
   "source": [
    "# summary(comppat_mat_unique$MedianFisher)"
   ]
  },
  {
   "cell_type": "code",
   "execution_count": null,
   "metadata": {
    "vscode": {
     "languageId": "r"
    }
   },
   "outputs": [],
   "source": [
    "# p1"
   ]
  },
  {
   "cell_type": "code",
   "execution_count": 103,
   "metadata": {
    "vscode": {
     "languageId": "r"
    }
   },
   "outputs": [
    {
     "data": {
      "text/html": [
       "<table class=\"dataframe\">\n",
       "<caption>A tibble: 6 x 9</caption>\n",
       "<thead>\n",
       "\t<tr><th scope=col>MedianFisher</th><th scope=col>Component_id</th><th scope=col>Component_specificity</th><th scope=col>Patient</th><th scope=col>Delta</th><th scope=col>cancergroup</th><th scope=col>Disease</th><th scope=col>Relapse</th><th scope=col>log10MedianFisher</th></tr>\n",
       "\t<tr><th scope=col>&lt;dbl&gt;</th><th scope=col>&lt;fct&gt;</th><th scope=col>&lt;chr&gt;</th><th scope=col>&lt;chr&gt;</th><th scope=col>&lt;int&gt;</th><th scope=col>&lt;chr&gt;</th><th scope=col>&lt;chr&gt;</th><th scope=col>&lt;int&gt;</th><th scope=col>&lt;dbl&gt;</th></tr>\n",
       "</thead>\n",
       "<tbody>\n",
       "\t<tr><td>7.10e-06</td><td>1</td><td>CMV,EBV,HCV,HomoSapiens,HPV,InfluenzaM.tuberculosis,MCPyV,S-pneumoniae</td><td>CHP_396</td><td>30739</td><td>Leukemia    </td><td>HR ALL</td><td>0</td><td>5.148742</td></tr>\n",
       "\t<tr><td>5.60e-07</td><td>4</td><td>CMV,HCV,HomoSapiens,HPV                                               </td><td>CHP_396</td><td>  129</td><td>Leukemia    </td><td>HR ALL</td><td>0</td><td>6.251812</td></tr>\n",
       "\t<tr><td>1.60e-06</td><td>5</td><td>EBV,HomoSapiens,HPV                                                   </td><td>CHP_404</td><td>  431</td><td>Solid tumors</td><td>ERMS  </td><td>0</td><td>5.795880</td></tr>\n",
       "\t<tr><td>1.10e-05</td><td>6</td><td>CMV,EBV,HomoSapiens,HPV                                               </td><td>CHP_396</td><td>  977</td><td>Leukemia    </td><td>HR ALL</td><td>0</td><td>4.958607</td></tr>\n",
       "\t<tr><td>9.85e-06</td><td>7</td><td>CMV,HomoSapiens                                                       </td><td>CHP_396</td><td> 1910</td><td>Leukemia    </td><td>HR ALL</td><td>0</td><td>5.006564</td></tr>\n",
       "\t<tr><td>2.10e-05</td><td>8</td><td>                                                                      </td><td>CHP_404</td><td>  354</td><td>Solid tumors</td><td>ERMS  </td><td>0</td><td>4.677781</td></tr>\n",
       "</tbody>\n",
       "</table>\n"
      ],
      "text/latex": [
       "A tibble: 6 x 9\n",
       "\\begin{tabular}{lllllllll}\n",
       " MedianFisher & Component\\_id & Component\\_specificity & Patient & Delta & cancergroup & Disease & Relapse & log10MedianFisher\\\\\n",
       " <dbl> & <fct> & <chr> & <chr> & <int> & <chr> & <chr> & <int> & <dbl>\\\\\n",
       "\\hline\n",
       "\t 7.10e-06 & 1 & CMV,EBV,HCV,HomoSapiens,HPV,InfluenzaM.tuberculosis,MCPyV,S-pneumoniae & CHP\\_396 & 30739 & Leukemia     & HR ALL & 0 & 5.148742\\\\\n",
       "\t 5.60e-07 & 4 & CMV,HCV,HomoSapiens,HPV                                                & CHP\\_396 &   129 & Leukemia     & HR ALL & 0 & 6.251812\\\\\n",
       "\t 1.60e-06 & 5 & EBV,HomoSapiens,HPV                                                    & CHP\\_404 &   431 & Solid tumors & ERMS   & 0 & 5.795880\\\\\n",
       "\t 1.10e-05 & 6 & CMV,EBV,HomoSapiens,HPV                                                & CHP\\_396 &   977 & Leukemia     & HR ALL & 0 & 4.958607\\\\\n",
       "\t 9.85e-06 & 7 & CMV,HomoSapiens                                                        & CHP\\_396 &  1910 & Leukemia     & HR ALL & 0 & 5.006564\\\\\n",
       "\t 2.10e-05 & 8 &                                                                        & CHP\\_404 &   354 & Solid tumors & ERMS   & 0 & 4.677781\\\\\n",
       "\\end{tabular}\n"
      ],
      "text/markdown": [
       "\n",
       "A tibble: 6 x 9\n",
       "\n",
       "| MedianFisher &lt;dbl&gt; | Component_id &lt;fct&gt; | Component_specificity &lt;chr&gt; | Patient &lt;chr&gt; | Delta &lt;int&gt; | cancergroup &lt;chr&gt; | Disease &lt;chr&gt; | Relapse &lt;int&gt; | log10MedianFisher &lt;dbl&gt; |\n",
       "|---|---|---|---|---|---|---|---|---|\n",
       "| 7.10e-06 | 1 | CMV,EBV,HCV,HomoSapiens,HPV,InfluenzaM.tuberculosis,MCPyV,S-pneumoniae | CHP_396 | 30739 | Leukemia     | HR ALL | 0 | 5.148742 |\n",
       "| 5.60e-07 | 4 | CMV,HCV,HomoSapiens,HPV                                                | CHP_396 |   129 | Leukemia     | HR ALL | 0 | 6.251812 |\n",
       "| 1.60e-06 | 5 | EBV,HomoSapiens,HPV                                                    | CHP_404 |   431 | Solid tumors | ERMS   | 0 | 5.795880 |\n",
       "| 1.10e-05 | 6 | CMV,EBV,HomoSapiens,HPV                                                | CHP_396 |   977 | Leukemia     | HR ALL | 0 | 4.958607 |\n",
       "| 9.85e-06 | 7 | CMV,HomoSapiens                                                        | CHP_396 |  1910 | Leukemia     | HR ALL | 0 | 5.006564 |\n",
       "| 2.10e-05 | 8 | <!----> | CHP_404 |   354 | Solid tumors | ERMS   | 0 | 4.677781 |\n",
       "\n"
      ],
      "text/plain": [
       "  MedianFisher Component_id\n",
       "1 7.10e-06     1           \n",
       "2 5.60e-07     4           \n",
       "3 1.60e-06     5           \n",
       "4 1.10e-05     6           \n",
       "5 9.85e-06     7           \n",
       "6 2.10e-05     8           \n",
       "  Component_specificity                                                 \n",
       "1 CMV,EBV,HCV,HomoSapiens,HPV,InfluenzaM.tuberculosis,MCPyV,S-pneumoniae\n",
       "2 CMV,HCV,HomoSapiens,HPV                                               \n",
       "3 EBV,HomoSapiens,HPV                                                   \n",
       "4 CMV,EBV,HomoSapiens,HPV                                               \n",
       "5 CMV,HomoSapiens                                                       \n",
       "6                                                                       \n",
       "  Patient Delta cancergroup  Disease Relapse log10MedianFisher\n",
       "1 CHP_396 30739 Leukemia     HR ALL  0       5.148742         \n",
       "2 CHP_396   129 Leukemia     HR ALL  0       6.251812         \n",
       "3 CHP_404   431 Solid tumors ERMS    0       5.795880         \n",
       "4 CHP_396   977 Leukemia     HR ALL  0       4.958607         \n",
       "5 CHP_396  1910 Leukemia     HR ALL  0       5.006564         \n",
       "6 CHP_404   354 Solid tumors ERMS    0       4.677781         "
      ]
     },
     "metadata": {},
     "output_type": "display_data"
    }
   ],
   "source": [
    "head(comppat_mat_unique)"
   ]
  },
  {
   "cell_type": "code",
   "execution_count": 104,
   "metadata": {
    "vscode": {
     "languageId": "r"
    }
   },
   "outputs": [],
   "source": [
    "mycomps <- comppat_mat_unique[which(comppat_mat_unique$Component_id %in% \n",
    "comppat_mat_long_summary_morethanone$Component_id), ]"
   ]
  },
  {
   "cell_type": "code",
   "execution_count": 105,
   "metadata": {
    "vscode": {
     "languageId": "r"
    }
   },
   "outputs": [],
   "source": [
    "mycomps$x <- 1"
   ]
  },
  {
   "cell_type": "code",
   "execution_count": 106,
   "metadata": {
    "vscode": {
     "languageId": "r"
    }
   },
   "outputs": [],
   "source": [
    "mycomps$Component_specificity[ mycomps$Component_specificity == \"\"] <- \"Unknown\""
   ]
  },
  {
   "cell_type": "code",
   "execution_count": 107,
   "metadata": {
    "vscode": {
     "languageId": "r"
    }
   },
   "outputs": [
    {
     "data": {
      "text/html": [
       "<table class=\"dataframe\">\n",
       "<caption>A tibble: 6 x 10</caption>\n",
       "<thead>\n",
       "\t<tr><th scope=col>MedianFisher</th><th scope=col>Component_id</th><th scope=col>Component_specificity</th><th scope=col>Patient</th><th scope=col>Delta</th><th scope=col>cancergroup</th><th scope=col>Disease</th><th scope=col>Relapse</th><th scope=col>log10MedianFisher</th><th scope=col>x</th></tr>\n",
       "\t<tr><th scope=col>&lt;dbl&gt;</th><th scope=col>&lt;fct&gt;</th><th scope=col>&lt;chr&gt;</th><th scope=col>&lt;chr&gt;</th><th scope=col>&lt;int&gt;</th><th scope=col>&lt;chr&gt;</th><th scope=col>&lt;chr&gt;</th><th scope=col>&lt;int&gt;</th><th scope=col>&lt;dbl&gt;</th><th scope=col>&lt;dbl&gt;</th></tr>\n",
       "</thead>\n",
       "<tbody>\n",
       "\t<tr><td>7.10e-06</td><td>1 </td><td>CMV,EBV,HCV,HomoSapiens,HPV,InfluenzaM.tuberculosis,MCPyV,S-pneumoniae</td><td>CHP_396</td><td>30739</td><td>Leukemia    </td><td>HR ALL</td><td>0</td><td>5.148742</td><td>1</td></tr>\n",
       "\t<tr><td>5.60e-07</td><td>4 </td><td>CMV,HCV,HomoSapiens,HPV                                               </td><td>CHP_396</td><td>  129</td><td>Leukemia    </td><td>HR ALL</td><td>0</td><td>6.251812</td><td>1</td></tr>\n",
       "\t<tr><td>1.10e-05</td><td>6 </td><td>CMV,EBV,HomoSapiens,HPV                                               </td><td>CHP_396</td><td>  977</td><td>Leukemia    </td><td>HR ALL</td><td>0</td><td>4.958607</td><td>1</td></tr>\n",
       "\t<tr><td>9.85e-06</td><td>7 </td><td>CMV,HomoSapiens                                                       </td><td>CHP_396</td><td> 1910</td><td>Leukemia    </td><td>HR ALL</td><td>0</td><td>5.006564</td><td>1</td></tr>\n",
       "\t<tr><td>8.35e-05</td><td>10</td><td>EBV,HomoSapiens                                                       </td><td>CHP_404</td><td>  705</td><td>Solid tumors</td><td>ERMS  </td><td>0</td><td>4.078314</td><td>1</td></tr>\n",
       "\t<tr><td>7.00e-05</td><td>13</td><td>CMV,EBV,HPV                                                           </td><td>CHP_357</td><td>  -62</td><td>Leukemia    </td><td>AML   </td><td>0</td><td>4.154902</td><td>1</td></tr>\n",
       "</tbody>\n",
       "</table>\n"
      ],
      "text/latex": [
       "A tibble: 6 x 10\n",
       "\\begin{tabular}{llllllllll}\n",
       " MedianFisher & Component\\_id & Component\\_specificity & Patient & Delta & cancergroup & Disease & Relapse & log10MedianFisher & x\\\\\n",
       " <dbl> & <fct> & <chr> & <chr> & <int> & <chr> & <chr> & <int> & <dbl> & <dbl>\\\\\n",
       "\\hline\n",
       "\t 7.10e-06 & 1  & CMV,EBV,HCV,HomoSapiens,HPV,InfluenzaM.tuberculosis,MCPyV,S-pneumoniae & CHP\\_396 & 30739 & Leukemia     & HR ALL & 0 & 5.148742 & 1\\\\\n",
       "\t 5.60e-07 & 4  & CMV,HCV,HomoSapiens,HPV                                                & CHP\\_396 &   129 & Leukemia     & HR ALL & 0 & 6.251812 & 1\\\\\n",
       "\t 1.10e-05 & 6  & CMV,EBV,HomoSapiens,HPV                                                & CHP\\_396 &   977 & Leukemia     & HR ALL & 0 & 4.958607 & 1\\\\\n",
       "\t 9.85e-06 & 7  & CMV,HomoSapiens                                                        & CHP\\_396 &  1910 & Leukemia     & HR ALL & 0 & 5.006564 & 1\\\\\n",
       "\t 8.35e-05 & 10 & EBV,HomoSapiens                                                        & CHP\\_404 &   705 & Solid tumors & ERMS   & 0 & 4.078314 & 1\\\\\n",
       "\t 7.00e-05 & 13 & CMV,EBV,HPV                                                            & CHP\\_357 &   -62 & Leukemia     & AML    & 0 & 4.154902 & 1\\\\\n",
       "\\end{tabular}\n"
      ],
      "text/markdown": [
       "\n",
       "A tibble: 6 x 10\n",
       "\n",
       "| MedianFisher &lt;dbl&gt; | Component_id &lt;fct&gt; | Component_specificity &lt;chr&gt; | Patient &lt;chr&gt; | Delta &lt;int&gt; | cancergroup &lt;chr&gt; | Disease &lt;chr&gt; | Relapse &lt;int&gt; | log10MedianFisher &lt;dbl&gt; | x &lt;dbl&gt; |\n",
       "|---|---|---|---|---|---|---|---|---|---|\n",
       "| 7.10e-06 | 1  | CMV,EBV,HCV,HomoSapiens,HPV,InfluenzaM.tuberculosis,MCPyV,S-pneumoniae | CHP_396 | 30739 | Leukemia     | HR ALL | 0 | 5.148742 | 1 |\n",
       "| 5.60e-07 | 4  | CMV,HCV,HomoSapiens,HPV                                                | CHP_396 |   129 | Leukemia     | HR ALL | 0 | 6.251812 | 1 |\n",
       "| 1.10e-05 | 6  | CMV,EBV,HomoSapiens,HPV                                                | CHP_396 |   977 | Leukemia     | HR ALL | 0 | 4.958607 | 1 |\n",
       "| 9.85e-06 | 7  | CMV,HomoSapiens                                                        | CHP_396 |  1910 | Leukemia     | HR ALL | 0 | 5.006564 | 1 |\n",
       "| 8.35e-05 | 10 | EBV,HomoSapiens                                                        | CHP_404 |   705 | Solid tumors | ERMS   | 0 | 4.078314 | 1 |\n",
       "| 7.00e-05 | 13 | CMV,EBV,HPV                                                            | CHP_357 |   -62 | Leukemia     | AML    | 0 | 4.154902 | 1 |\n",
       "\n"
      ],
      "text/plain": [
       "  MedianFisher Component_id\n",
       "1 7.10e-06     1           \n",
       "2 5.60e-07     4           \n",
       "3 1.10e-05     6           \n",
       "4 9.85e-06     7           \n",
       "5 8.35e-05     10          \n",
       "6 7.00e-05     13          \n",
       "  Component_specificity                                                 \n",
       "1 CMV,EBV,HCV,HomoSapiens,HPV,InfluenzaM.tuberculosis,MCPyV,S-pneumoniae\n",
       "2 CMV,HCV,HomoSapiens,HPV                                               \n",
       "3 CMV,EBV,HomoSapiens,HPV                                               \n",
       "4 CMV,HomoSapiens                                                       \n",
       "5 EBV,HomoSapiens                                                       \n",
       "6 CMV,EBV,HPV                                                           \n",
       "  Patient Delta cancergroup  Disease Relapse log10MedianFisher x\n",
       "1 CHP_396 30739 Leukemia     HR ALL  0       5.148742          1\n",
       "2 CHP_396   129 Leukemia     HR ALL  0       6.251812          1\n",
       "3 CHP_396   977 Leukemia     HR ALL  0       4.958607          1\n",
       "4 CHP_396  1910 Leukemia     HR ALL  0       5.006564          1\n",
       "5 CHP_404   705 Solid tumors ERMS    0       4.078314          1\n",
       "6 CHP_357   -62 Leukemia     AML     0       4.154902          1"
      ]
     },
     "metadata": {},
     "output_type": "display_data"
    }
   ],
   "source": [
    "head(mycomps)"
   ]
  },
  {
   "cell_type": "code",
   "execution_count": 108,
   "metadata": {
    "vscode": {
     "languageId": "r"
    }
   },
   "outputs": [],
   "source": [
    "mycomps$Component_specificity <- gsub(\"InfluenzaM.tuberculosis\", \"Influenza,M.tuberculosis\", mycomps$Component_specificity)"
   ]
  },
  {
   "cell_type": "code",
   "execution_count": 109,
   "metadata": {
    "vscode": {
     "languageId": "r"
    }
   },
   "outputs": [],
   "source": [
    "text_plot <- ggplot(mycomps, aes(x = x, y = Component_id, label = Component_specificity)) +\n",
    "  geom_text(size = 7) +\n",
    "  myplot +\n",
    " theme(legend.position = \"none\", plot.title = element_text(size = 20),\n",
    "   axis.text = element_blank(), axis.title = element_blank(), \n",
    "   axis.ticks = element_blank(), axis.line = element_blank()\n",
    " ) +\n",
    "  ggtitle(expression(underline(\"Graph component annotations\")))\n"
   ]
  },
  {
   "cell_type": "code",
   "execution_count": 110,
   "metadata": {
    "vscode": {
     "languageId": "r"
    }
   },
   "outputs": [
    {
     "data": {
      "image/png": "[encoded data removed]",
      "text/plain": [
       "plot without title"
      ]
     },
     "metadata": {
      "image/png": {
       "height": 420,
       "width": 420
      }
     },
     "output_type": "display_data"
    }
   ],
   "source": [
    "text_plot"
   ]
  },
  {
   "cell_type": "code",
   "execution_count": null,
   "metadata": {
    "vscode": {
     "languageId": "r"
    }
   },
   "outputs": [],
   "source": [
    "pdf(paste0(plotpath, \"gliph_component_plot.pdf\"), width = 14, height = 7)\n",
    "cowplot::plot_grid(p4, text_plot,rel_widths = c(1, 0.4), labels = \"D\")\n",
    "    # plot_layout(widths = c(1, 0.4))\n",
    "dev.off()"
   ]
  },
  {
   "cell_type": "markdown",
   "metadata": {},
   "source": [
    "## Compare INT and Emerson components in the joint anlaysis"
   ]
  },
  {
   "cell_type": "code",
   "execution_count": 14,
   "metadata": {
    "vscode": {
     "languageId": "r"
    }
   },
   "outputs": [],
   "source": [
    "int_emerson <- read.table(paste0(h4hpath, \"v9_emerson_adult_child/manu_output/component_stats_emerson_adult_child_cdr3_gliph2.csv\"), sep = \",\", header = T)"
   ]
  },
  {
   "cell_type": "code",
   "execution_count": 15,
   "metadata": {
    "vscode": {
     "languageId": "r"
    }
   },
   "outputs": [
    {
     "data": {
      "text/html": [
       "<table class=\"dataframe\">\n",
       "<caption>A data.frame: 1 x 7</caption>\n",
       "<thead>\n",
       "\t<tr><th></th><th scope=col>Component_id</th><th scope=col>Component_size</th><th scope=col>PatientDerived_Nodes</th><th scope=col>NumberOf_PatientDerived_Nodes</th><th scope=col>Number_of_Patients</th><th scope=col>Component_specificity</th><th scope=col>KnownExternalTCRs</th></tr>\n",
       "\t<tr><th></th><th scope=col>&lt;int&gt;</th><th scope=col>&lt;int&gt;</th><th scope=col>&lt;chr&gt;</th><th scope=col>&lt;int&gt;</th><th scope=col>&lt;int&gt;</th><th scope=col>&lt;chr&gt;</th><th scope=col>&lt;chr&gt;</th></tr>\n",
       "</thead>\n",
       "<tbody>\n",
       "\t<tr><th scope=row>116</th><td>116</td><td>10</td><td>CASSIVTAGGGYTF_Leukemia:CHP_411_X02-PBMC,CAWSKFIVTAKNIQYF_Lymphoma:CHP_371_X01-PBMC</td><td>2</td><td>2</td><td>Leukemia,Lymphoma,MDavis</td><td>TBD</td></tr>\n",
       "</tbody>\n",
       "</table>\n"
      ],
      "text/latex": [
       "A data.frame: 1 x 7\n",
       "\\begin{tabular}{r|lllllll}\n",
       "  & Component\\_id & Component\\_size & PatientDerived\\_Nodes & NumberOf\\_PatientDerived\\_Nodes & Number\\_of\\_Patients & Component\\_specificity & KnownExternalTCRs\\\\\n",
       "  & <int> & <int> & <chr> & <int> & <int> & <chr> & <chr>\\\\\n",
       "\\hline\n",
       "\t116 & 116 & 10 & CASSIVTAGGGYTF\\_Leukemia:CHP\\_411\\_X02-PBMC,CAWSKFIVTAKNIQYF\\_Lymphoma:CHP\\_371\\_X01-PBMC & 2 & 2 & Leukemia,Lymphoma,MDavis & TBD\\\\\n",
       "\\end{tabular}\n"
      ],
      "text/markdown": [
       "\n",
       "A data.frame: 1 x 7\n",
       "\n",
       "| <!--/--> | Component_id &lt;int&gt; | Component_size &lt;int&gt; | PatientDerived_Nodes &lt;chr&gt; | NumberOf_PatientDerived_Nodes &lt;int&gt; | Number_of_Patients &lt;int&gt; | Component_specificity &lt;chr&gt; | KnownExternalTCRs &lt;chr&gt; |\n",
       "|---|---|---|---|---|---|---|---|\n",
       "| 116 | 116 | 10 | CASSIVTAGGGYTF_Leukemia:CHP_411_X02-PBMC,CAWSKFIVTAKNIQYF_Lymphoma:CHP_371_X01-PBMC | 2 | 2 | Leukemia,Lymphoma,MDavis | TBD |\n",
       "\n"
      ],
      "text/plain": [
       "    Component_id Component_size\n",
       "116 116          10            \n",
       "    PatientDerived_Nodes                                                               \n",
       "116 CASSIVTAGGGYTF_Leukemia:CHP_411_X02-PBMC,CAWSKFIVTAKNIQYF_Lymphoma:CHP_371_X01-PBMC\n",
       "    NumberOf_PatientDerived_Nodes Number_of_Patients Component_specificity   \n",
       "116 2                             2                  Leukemia,Lymphoma,MDavis\n",
       "    KnownExternalTCRs\n",
       "116 TBD              "
      ]
     },
     "metadata": {},
     "output_type": "display_data"
    }
   ],
   "source": [
    "int_emerson[ int_emerson$Component_id == 116,]"
   ]
  },
  {
   "cell_type": "code",
   "execution_count": 16,
   "metadata": {
    "vscode": {
     "languageId": "r"
    }
   },
   "outputs": [
    {
     "data": {
      "text/html": [
       "<style>\n",
       ".list-inline {list-style: none; margin:0; padding: 0}\n",
       ".list-inline>li {display: inline-block}\n",
       ".list-inline>li:not(:last-child)::after {content: \"\\00b7\"; padding: 0 .5ex}\n",
       "</style>\n",
       "<ol class=list-inline><li>43690</li><li>524</li><li>402</li><li>329</li><li>217</li><li>102</li></ol>\n"
      ],
      "text/latex": [
       "\\begin{enumerate*}\n",
       "\\item 43690\n",
       "\\item 524\n",
       "\\item 402\n",
       "\\item 329\n",
       "\\item 217\n",
       "\\item 102\n",
       "\\end{enumerate*}\n"
      ],
      "text/markdown": [
       "1. 43690\n",
       "2. 524\n",
       "3. 402\n",
       "4. 329\n",
       "5. 217\n",
       "6. 102\n",
       "\n",
       "\n"
      ],
      "text/plain": [
       "[1] 43690   524   402   329   217   102"
      ]
     },
     "metadata": {},
     "output_type": "display_data"
    }
   ],
   "source": [
    "head(sort(int_emerson$Component_size, decreasing = T) )"
   ]
  },
  {
   "cell_type": "code",
   "execution_count": 17,
   "metadata": {
    "vscode": {
     "languageId": "r"
    }
   },
   "outputs": [],
   "source": [
    "# remove the irrelevant component\n",
    "int_emerson <- int_emerson[ int_emerson$Component_id != 1,]"
   ]
  },
  {
   "cell_type": "code",
   "execution_count": 18,
   "metadata": {
    "vscode": {
     "languageId": "r"
    }
   },
   "outputs": [],
   "source": [
    "# separate rows\n",
    "int_emerson_sep <- tidyr::separate_rows(int_emerson, PatientDerived_Nodes, sep = \",\")"
   ]
  },
  {
   "cell_type": "code",
   "execution_count": 19,
   "metadata": {
    "vscode": {
     "languageId": "r"
    }
   },
   "outputs": [
    {
     "data": {
      "text/html": [
       "<style>\n",
       ".list-inline {list-style: none; margin:0; padding: 0}\n",
       ".list-inline>li {display: inline-block}\n",
       ".list-inline>li:not(:last-child)::after {content: \"\\00b7\"; padding: 0 .5ex}\n",
       "</style>\n",
       "<ol class=list-inline><li>'CASSLGLAGASYEQYF_Solidtumors:CHP_404_X05-PBMC'</li><li>'CASSLGLAGDSYEQYF_AdultEmerson:P00018_2501'</li><li>'CASSLGLAGGSYEQYF_AdultEmerson:P00251_23750'</li><li>'CASSLGLAGTSYEQYF_AdultEmerson:P00022_4442'</li><li>'CASSPGLAGYSYEQYF_Leukemia:CHP_382_X05-PBMC'</li><li>'CASSVAGDEKLFF_AdultEmerson:P00458_43929'</li><li>'CASSDYGALNTEAFF_Leukemia:CHP_376_X02-PBMC'</li><li>'CASSLRGALNTEAFF_Leukemia:CHP_369_X02-cfDNA'</li><li>'CASSPRGALNTEAFF_AdultEmerson:P00021_4149'</li><li>'CASSQDRDGQETQYF_AdultEmerson:P00457_43366'</li><li>'CASSQDRGGQETQYF_AdultEmerson:P00018_3186'</li></ol>\n"
      ],
      "text/latex": [
       "\\begin{enumerate*}\n",
       "\\item 'CASSLGLAGASYEQYF\\_Solidtumors:CHP\\_404\\_X05-PBMC'\n",
       "\\item 'CASSLGLAGDSYEQYF\\_AdultEmerson:P00018\\_2501'\n",
       "\\item 'CASSLGLAGGSYEQYF\\_AdultEmerson:P00251\\_23750'\n",
       "\\item 'CASSLGLAGTSYEQYF\\_AdultEmerson:P00022\\_4442'\n",
       "\\item 'CASSPGLAGYSYEQYF\\_Leukemia:CHP\\_382\\_X05-PBMC'\n",
       "\\item 'CASSVAGDEKLFF\\_AdultEmerson:P00458\\_43929'\n",
       "\\item 'CASSDYGALNTEAFF\\_Leukemia:CHP\\_376\\_X02-PBMC'\n",
       "\\item 'CASSLRGALNTEAFF\\_Leukemia:CHP\\_369\\_X02-cfDNA'\n",
       "\\item 'CASSPRGALNTEAFF\\_AdultEmerson:P00021\\_4149'\n",
       "\\item 'CASSQDRDGQETQYF\\_AdultEmerson:P00457\\_43366'\n",
       "\\item 'CASSQDRGGQETQYF\\_AdultEmerson:P00018\\_3186'\n",
       "\\end{enumerate*}\n"
      ],
      "text/markdown": [
       "1. 'CASSLGLAGASYEQYF_Solidtumors:CHP_404_X05-PBMC'\n",
       "2. 'CASSLGLAGDSYEQYF_AdultEmerson:P00018_2501'\n",
       "3. 'CASSLGLAGGSYEQYF_AdultEmerson:P00251_23750'\n",
       "4. 'CASSLGLAGTSYEQYF_AdultEmerson:P00022_4442'\n",
       "5. 'CASSPGLAGYSYEQYF_Leukemia:CHP_382_X05-PBMC'\n",
       "6. 'CASSVAGDEKLFF_AdultEmerson:P00458_43929'\n",
       "7. 'CASSDYGALNTEAFF_Leukemia:CHP_376_X02-PBMC'\n",
       "8. 'CASSLRGALNTEAFF_Leukemia:CHP_369_X02-cfDNA'\n",
       "9. 'CASSPRGALNTEAFF_AdultEmerson:P00021_4149'\n",
       "10. 'CASSQDRDGQETQYF_AdultEmerson:P00457_43366'\n",
       "11. 'CASSQDRGGQETQYF_AdultEmerson:P00018_3186'\n",
       "\n",
       "\n"
      ],
      "text/plain": [
       " [1] \"CASSLGLAGASYEQYF_Solidtumors:CHP_404_X05-PBMC\"\n",
       " [2] \"CASSLGLAGDSYEQYF_AdultEmerson:P00018_2501\"    \n",
       " [3] \"CASSLGLAGGSYEQYF_AdultEmerson:P00251_23750\"   \n",
       " [4] \"CASSLGLAGTSYEQYF_AdultEmerson:P00022_4442\"    \n",
       " [5] \"CASSPGLAGYSYEQYF_Leukemia:CHP_382_X05-PBMC\"   \n",
       " [6] \"CASSVAGDEKLFF_AdultEmerson:P00458_43929\"      \n",
       " [7] \"CASSDYGALNTEAFF_Leukemia:CHP_376_X02-PBMC\"    \n",
       " [8] \"CASSLRGALNTEAFF_Leukemia:CHP_369_X02-cfDNA\"   \n",
       " [9] \"CASSPRGALNTEAFF_AdultEmerson:P00021_4149\"     \n",
       "[10] \"CASSQDRDGQETQYF_AdultEmerson:P00457_43366\"    \n",
       "[11] \"CASSQDRGGQETQYF_AdultEmerson:P00018_3186\"     "
      ]
     },
     "metadata": {},
     "output_type": "display_data"
    }
   ],
   "source": [
    "int_emerson_sep$PatientDerived_Nodes[1000:1010]"
   ]
  },
  {
   "cell_type": "code",
   "execution_count": 20,
   "metadata": {
    "vscode": {
     "languageId": "r"
    }
   },
   "outputs": [],
   "source": [
    "int_emerson_sep$cohort_cdr3 <- gsub(\":.*\", \"\", int_emerson_sep$PatientDerived_Nodes)\n",
    "int_emerson_sep$cdr3 <- gsub(\"_.*\", \"\", int_emerson_sep$cohort_cdr3)\n",
    "int_emerson_sep$cohort <- gsub(\".*_\", \"\", int_emerson_sep$cohort_cdr3)"
   ]
  },
  {
   "cell_type": "code",
   "execution_count": 21,
   "metadata": {
    "vscode": {
     "languageId": "r"
    }
   },
   "outputs": [],
   "source": [
    "int_emerson_sep$basename <- gsub(\".*:\", \"\", int_emerson_sep$PatientDerived_Nodes)\n",
    "int_emerson_sep$Patient <- NA\n",
    "int_emerson_sep$Patient[!grepl(\"CHP\", int_emerson_sep$basename)] <- gsub(\"_.*\", \"\", int_emerson_sep$basename[!grepl(\"CHP\", int_emerson_sep$basename)])\n",
    "int_emerson_sep$Patient[grepl(\"CHP\", int_emerson_sep$basename)] <- substr(int_emerson_sep$basename[grepl(\"CHP\", int_emerson_sep$basename)], 1,7)\n",
    "# int_emerson_sep$index <- gsub(\".*_\", \"\", int_emerson_sep$basename)"
   ]
  },
  {
   "cell_type": "code",
   "execution_count": null,
   "metadata": {
    "vscode": {
     "languageId": "r"
    }
   },
   "outputs": [],
   "source": []
  },
  {
   "cell_type": "markdown",
   "metadata": {},
   "source": [
    "Add cloneCounts from gliphout"
   ]
  },
  {
   "cell_type": "code",
   "execution_count": 22,
   "metadata": {
    "vscode": {
     "languageId": "r"
    }
   },
   "outputs": [],
   "source": [
    "gliphout_adult <- readr::read_rds(file = paste0(datapath, \"GLIPH/emerson_adult_cleaned.rds\"))\n",
    "gliphout_child <- readr::read_rds(file = paste0(datapath, \"GLIPH/emerson_child_cleaned.rds\"))\n",
    "gliphout_int <- readr::read_rds(file = paste0(datapath, \"GLIPH/int_gliph_v5_cleaned.rds\"))"
   ]
  },
  {
   "cell_type": "code",
   "execution_count": 23,
   "metadata": {
    "vscode": {
     "languageId": "r"
    }
   },
   "outputs": [],
   "source": [
    "gliphout_adult$Sample <- gsub(\"Emerson\", \"AdultEmerson\", gliphout_adult$Sample)\n",
    "gliphout_child$Sample <- gsub(\"Emerson\", \"ChildEmerson\", gliphout_child$Sample)"
   ]
  },
  {
   "cell_type": "code",
   "execution_count": 24,
   "metadata": {
    "vscode": {
     "languageId": "r"
    }
   },
   "outputs": [],
   "source": [
    "gliphout_all <- rbind( gliphout_adult, gliphout_child, gliphout_int)"
   ]
  },
  {
   "cell_type": "code",
   "execution_count": 25,
   "metadata": {
    "vscode": {
     "languageId": "r"
    }
   },
   "outputs": [],
   "source": [
    "gliphout_all$cdr3_sample <- paste(gliphout_all$TcRb, gliphout_all$Sample, sep = \"_\")"
   ]
  },
  {
   "cell_type": "code",
   "execution_count": 26,
   "metadata": {
    "vscode": {
     "languageId": "r"
    }
   },
   "outputs": [],
   "source": [
    "# add cloneCount\n",
    "rowmatch <- match(int_emerson_sep$PatientDerived_Nodes, gliphout_all$cdr3_sample)\n",
    "int_emerson_sep$cloneCount <- gliphout_all$Freq[rowmatch]"
   ]
  },
  {
   "cell_type": "code",
   "execution_count": 27,
   "metadata": {
    "vscode": {
     "languageId": "r"
    }
   },
   "outputs": [
    {
     "data": {
      "text/html": [
       "<style>\n",
       ".list-inline {list-style: none; margin:0; padding: 0}\n",
       ".list-inline>li {display: inline-block}\n",
       ".list-inline>li:not(:last-child)::after {content: \"\\00b7\"; padding: 0 .5ex}\n",
       "</style>\n",
       "<ol class=list-inline><li>'CASSLGTEQYF_MDavis:DRB10401'</li><li>'CASSLGAEAFF_MDavis:DRB10401'</li><li>'YASSLGGEQFF_MDavis:DRB10401'</li><li>'CASSLGVEQYF_AdultEmerson:P00014_2108'</li><li>'CASSLGYEAFF_AdultEmerson:P00486_45778'</li><li>'CASSLGAEQYF_MDavis:DRB10401'</li></ol>\n"
      ],
      "text/latex": [
       "\\begin{enumerate*}\n",
       "\\item 'CASSLGTEQYF\\_MDavis:DRB10401'\n",
       "\\item 'CASSLGAEAFF\\_MDavis:DRB10401'\n",
       "\\item 'YASSLGGEQFF\\_MDavis:DRB10401'\n",
       "\\item 'CASSLGVEQYF\\_AdultEmerson:P00014\\_2108'\n",
       "\\item 'CASSLGYEAFF\\_AdultEmerson:P00486\\_45778'\n",
       "\\item 'CASSLGAEQYF\\_MDavis:DRB10401'\n",
       "\\end{enumerate*}\n"
      ],
      "text/markdown": [
       "1. 'CASSLGTEQYF_MDavis:DRB10401'\n",
       "2. 'CASSLGAEAFF_MDavis:DRB10401'\n",
       "3. 'YASSLGGEQFF_MDavis:DRB10401'\n",
       "4. 'CASSLGVEQYF_AdultEmerson:P00014_2108'\n",
       "5. 'CASSLGYEAFF_AdultEmerson:P00486_45778'\n",
       "6. 'CASSLGAEQYF_MDavis:DRB10401'\n",
       "\n",
       "\n"
      ],
      "text/plain": [
       "[1] \"CASSLGTEQYF_MDavis:DRB10401\"          \n",
       "[2] \"CASSLGAEAFF_MDavis:DRB10401\"          \n",
       "[3] \"YASSLGGEQFF_MDavis:DRB10401\"          \n",
       "[4] \"CASSLGVEQYF_AdultEmerson:P00014_2108\" \n",
       "[5] \"CASSLGYEAFF_AdultEmerson:P00486_45778\"\n",
       "[6] \"CASSLGAEQYF_MDavis:DRB10401\"          "
      ]
     },
     "metadata": {},
     "output_type": "display_data"
    }
   ],
   "source": [
    "head(gliphout_all$cdr3_sample)"
   ]
  },
  {
   "cell_type": "code",
   "execution_count": 28,
   "metadata": {
    "vscode": {
     "languageId": "r"
    }
   },
   "outputs": [
    {
     "data": {
      "text/html": [
       "<style>\n",
       ".list-inline {list-style: none; margin:0; padding: 0}\n",
       ".list-inline>li {display: inline-block}\n",
       ".list-inline>li:not(:last-child)::after {content: \"\\00b7\"; padding: 0 .5ex}\n",
       "</style>\n",
       "<ol class=list-inline><li>'CASSEEEGGSYEQYF_AdultEmerson:P00639_63538'</li><li>'CASSEEEGGTGEQYF_Solidtumors:CHP_409_X02-PBMC'</li><li>'CASSEEEGNEQFF_AdultEmerson:P00040_5855'</li><li>'CASSEEEGSGANVLTF_AdultEmerson:P00018_3056'</li><li>'CASSEEEGSNEKLFF_Leukemia:CHP_365_X04-PBMC'</li><li>'CASSEEEGTGNQPQHF_AdultEmerson:P00355_32489'</li></ol>\n"
      ],
      "text/latex": [
       "\\begin{enumerate*}\n",
       "\\item 'CASSEEEGGSYEQYF\\_AdultEmerson:P00639\\_63538'\n",
       "\\item 'CASSEEEGGTGEQYF\\_Solidtumors:CHP\\_409\\_X02-PBMC'\n",
       "\\item 'CASSEEEGNEQFF\\_AdultEmerson:P00040\\_5855'\n",
       "\\item 'CASSEEEGSGANVLTF\\_AdultEmerson:P00018\\_3056'\n",
       "\\item 'CASSEEEGSNEKLFF\\_Leukemia:CHP\\_365\\_X04-PBMC'\n",
       "\\item 'CASSEEEGTGNQPQHF\\_AdultEmerson:P00355\\_32489'\n",
       "\\end{enumerate*}\n"
      ],
      "text/markdown": [
       "1. 'CASSEEEGGSYEQYF_AdultEmerson:P00639_63538'\n",
       "2. 'CASSEEEGGTGEQYF_Solidtumors:CHP_409_X02-PBMC'\n",
       "3. 'CASSEEEGNEQFF_AdultEmerson:P00040_5855'\n",
       "4. 'CASSEEEGSGANVLTF_AdultEmerson:P00018_3056'\n",
       "5. 'CASSEEEGSNEKLFF_Leukemia:CHP_365_X04-PBMC'\n",
       "6. 'CASSEEEGTGNQPQHF_AdultEmerson:P00355_32489'\n",
       "\n",
       "\n"
      ],
      "text/plain": [
       "[1] \"CASSEEEGGSYEQYF_AdultEmerson:P00639_63538\"   \n",
       "[2] \"CASSEEEGGTGEQYF_Solidtumors:CHP_409_X02-PBMC\"\n",
       "[3] \"CASSEEEGNEQFF_AdultEmerson:P00040_5855\"      \n",
       "[4] \"CASSEEEGSGANVLTF_AdultEmerson:P00018_3056\"   \n",
       "[5] \"CASSEEEGSNEKLFF_Leukemia:CHP_365_X04-PBMC\"   \n",
       "[6] \"CASSEEEGTGNQPQHF_AdultEmerson:P00355_32489\"  "
      ]
     },
     "metadata": {},
     "output_type": "display_data"
    }
   ],
   "source": [
    "head(int_emerson_sep$PatientDerived_Nodes)"
   ]
  },
  {
   "cell_type": "code",
   "execution_count": 29,
   "metadata": {
    "vscode": {
     "languageId": "r"
    }
   },
   "outputs": [],
   "source": [
    "readr::write_rds(int_emerson_sep, file = paste0(datapath, \"GLIPH/int_emerson_sep_counts.rds\"))"
   ]
  },
  {
   "cell_type": "markdown",
   "metadata": {
    "vscode": {
     "languageId": "r"
    }
   },
   "source": [
    "Plot"
   ]
  },
  {
   "cell_type": "code",
   "execution_count": 30,
   "metadata": {
    "vscode": {
     "languageId": "r"
    }
   },
   "outputs": [],
   "source": [
    "cohort_comp_01 <- cohort_comp.fx(int_emerson_sep, \"PBMC\", \"X01\") \n",
    "cohort_comp_02 <- cohort_comp.fx(int_emerson_sep, \"PBMC\", \"X02\") "
   ]
  },
  {
   "cell_type": "code",
   "execution_count": 31,
   "metadata": {
    "vscode": {
     "languageId": "r"
    }
   },
   "outputs": [],
   "source": [
    "# readr::write_rds(int_emerson_sep_x01, file = paste0(datapath, \"GLIPH/components_sep_int_x01_pbmc_child_adult.rds\"))"
   ]
  },
  {
   "cell_type": "code",
   "execution_count": 32,
   "metadata": {
    "vscode": {
     "languageId": "r"
    }
   },
   "outputs": [],
   "source": [
    "commoncomps1 <- rownames(cohort_comp_01)[ cohort_comp_01$grp == \"Common\"]\n",
    "commoncomps2 <- rownames(cohort_comp_02)[ cohort_comp_02$grp == \"Common\"]"
   ]
  },
  {
   "cell_type": "code",
   "execution_count": 33,
   "metadata": {
    "vscode": {
     "languageId": "r"
    }
   },
   "outputs": [
    {
     "data": {
      "text/html": [
       "<style>\n",
       ".list-inline {list-style: none; margin:0; padding: 0}\n",
       ".list-inline>li {display: inline-block}\n",
       ".list-inline>li:not(:last-child)::after {content: \"\\00b7\"; padding: 0 .5ex}\n",
       "</style>\n",
       "<ol class=list-inline><li>'2'</li><li>'3'</li><li>'4'</li><li>'5'</li><li>'9'</li><li>'11'</li><li>'12'</li><li>'19'</li><li>'21'</li><li>'26'</li><li>'33'</li><li>'40'</li><li>'71'</li><li>'75'</li><li>'76'</li><li>'77'</li><li>'78'</li><li>'87'</li><li>'91'</li><li>'92'</li><li>'100'</li><li>'108'</li><li>'113'</li><li>'118'</li><li>'119'</li><li>'120'</li><li>'121'</li><li>'124'</li><li>'125'</li><li>'127'</li><li>'128'</li><li>'133'</li><li>'134'</li><li>'139'</li><li>'140'</li><li>'145'</li><li>'146'</li><li>'151'</li><li>'153'</li><li>'159'</li><li>'163'</li><li>'168'</li><li>'174'</li><li>'177'</li><li>'188'</li></ol>\n"
      ],
      "text/latex": [
       "\\begin{enumerate*}\n",
       "\\item '2'\n",
       "\\item '3'\n",
       "\\item '4'\n",
       "\\item '5'\n",
       "\\item '9'\n",
       "\\item '11'\n",
       "\\item '12'\n",
       "\\item '19'\n",
       "\\item '21'\n",
       "\\item '26'\n",
       "\\item '33'\n",
       "\\item '40'\n",
       "\\item '71'\n",
       "\\item '75'\n",
       "\\item '76'\n",
       "\\item '77'\n",
       "\\item '78'\n",
       "\\item '87'\n",
       "\\item '91'\n",
       "\\item '92'\n",
       "\\item '100'\n",
       "\\item '108'\n",
       "\\item '113'\n",
       "\\item '118'\n",
       "\\item '119'\n",
       "\\item '120'\n",
       "\\item '121'\n",
       "\\item '124'\n",
       "\\item '125'\n",
       "\\item '127'\n",
       "\\item '128'\n",
       "\\item '133'\n",
       "\\item '134'\n",
       "\\item '139'\n",
       "\\item '140'\n",
       "\\item '145'\n",
       "\\item '146'\n",
       "\\item '151'\n",
       "\\item '153'\n",
       "\\item '159'\n",
       "\\item '163'\n",
       "\\item '168'\n",
       "\\item '174'\n",
       "\\item '177'\n",
       "\\item '188'\n",
       "\\end{enumerate*}\n"
      ],
      "text/markdown": [
       "1. '2'\n",
       "2. '3'\n",
       "3. '4'\n",
       "4. '5'\n",
       "5. '9'\n",
       "6. '11'\n",
       "7. '12'\n",
       "8. '19'\n",
       "9. '21'\n",
       "10. '26'\n",
       "11. '33'\n",
       "12. '40'\n",
       "13. '71'\n",
       "14. '75'\n",
       "15. '76'\n",
       "16. '77'\n",
       "17. '78'\n",
       "18. '87'\n",
       "19. '91'\n",
       "20. '92'\n",
       "21. '100'\n",
       "22. '108'\n",
       "23. '113'\n",
       "24. '118'\n",
       "25. '119'\n",
       "26. '120'\n",
       "27. '121'\n",
       "28. '124'\n",
       "29. '125'\n",
       "30. '127'\n",
       "31. '128'\n",
       "32. '133'\n",
       "33. '134'\n",
       "34. '139'\n",
       "35. '140'\n",
       "36. '145'\n",
       "37. '146'\n",
       "38. '151'\n",
       "39. '153'\n",
       "40. '159'\n",
       "41. '163'\n",
       "42. '168'\n",
       "43. '174'\n",
       "44. '177'\n",
       "45. '188'\n",
       "\n",
       "\n"
      ],
      "text/plain": [
       " [1] \"2\"   \"3\"   \"4\"   \"5\"   \"9\"   \"11\"  \"12\"  \"19\"  \"21\"  \"26\"  \"33\"  \"40\" \n",
       "[13] \"71\"  \"75\"  \"76\"  \"77\"  \"78\"  \"87\"  \"91\"  \"92\"  \"100\" \"108\" \"113\" \"118\"\n",
       "[25] \"119\" \"120\" \"121\" \"124\" \"125\" \"127\" \"128\" \"133\" \"134\" \"139\" \"140\" \"145\"\n",
       "[37] \"146\" \"151\" \"153\" \"159\" \"163\" \"168\" \"174\" \"177\" \"188\""
      ]
     },
     "metadata": {},
     "output_type": "display_data"
    }
   ],
   "source": [
    "commoncomps2"
   ]
  },
  {
   "cell_type": "code",
   "execution_count": 34,
   "metadata": {
    "vscode": {
     "languageId": "r"
    }
   },
   "outputs": [
    {
     "data": {
      "text/plain": [
       "\n",
       "     Adult     Cancer      Child     Common    Healthy   Leukemia   Lymphoma \n",
       "       112          2         11         42          2         17          6 \n",
       "     Solid TcellMalig \n",
       "         5          1 "
      ]
     },
     "metadata": {},
     "output_type": "display_data"
    }
   ],
   "source": [
    "table(cohort_comp_01$grp)"
   ]
  },
  {
   "cell_type": "code",
   "execution_count": 35,
   "metadata": {
    "vscode": {
     "languageId": "r"
    }
   },
   "outputs": [
    {
     "data": {
      "text/html": [
       "<table class=\"dataframe\">\n",
       "<caption>A tibble: 6 x 13</caption>\n",
       "<thead>\n",
       "\t<tr><th scope=col>Component_id</th><th scope=col>Component_size</th><th scope=col>PatientDerived_Nodes</th><th scope=col>NumberOf_PatientDerived_Nodes</th><th scope=col>Number_of_Patients</th><th scope=col>Component_specificity</th><th scope=col>KnownExternalTCRs</th><th scope=col>cohort_cdr3</th><th scope=col>cdr3</th><th scope=col>cohort</th><th scope=col>basename</th><th scope=col>Patient</th><th scope=col>cloneCount</th></tr>\n",
       "\t<tr><th scope=col>&lt;int&gt;</th><th scope=col>&lt;int&gt;</th><th scope=col>&lt;chr&gt;</th><th scope=col>&lt;int&gt;</th><th scope=col>&lt;int&gt;</th><th scope=col>&lt;chr&gt;</th><th scope=col>&lt;chr&gt;</th><th scope=col>&lt;chr&gt;</th><th scope=col>&lt;chr&gt;</th><th scope=col>&lt;chr&gt;</th><th scope=col>&lt;chr&gt;</th><th scope=col>&lt;chr&gt;</th><th scope=col>&lt;dbl&gt;</th></tr>\n",
       "</thead>\n",
       "<tbody>\n",
       "\t<tr><td>2</td><td>53</td><td>CASSEEEGGSYEQYF_AdultEmerson:P00639_63538   </td><td>7</td><td>7</td><td>AdultEmerson,Leukemia,MDavis,S-pneumoniae,Solidtumors</td><td>CASSEEEGQGKAGELFF_S-pneumoniae:NA_ECTGLAWEWWRTV</td><td>CASSEEEGGSYEQYF_AdultEmerson </td><td>CASSEEEGGSYEQYF </td><td>AdultEmerson</td><td>P00639_63538    </td><td>P00639 </td><td>139</td></tr>\n",
       "\t<tr><td>2</td><td>53</td><td>CASSEEEGGTGEQYF_Solidtumors:CHP_409_X02-PBMC</td><td>7</td><td>7</td><td>AdultEmerson,Leukemia,MDavis,S-pneumoniae,Solidtumors</td><td>CASSEEEGQGKAGELFF_S-pneumoniae:NA_ECTGLAWEWWRTV</td><td>CASSEEEGGTGEQYF_Solidtumors  </td><td>CASSEEEGGTGEQYF </td><td>Solidtumors </td><td>CHP_409_X02-PBMC</td><td>CHP_409</td><td> 15</td></tr>\n",
       "\t<tr><td>2</td><td>53</td><td>CASSEEEGNEQFF_AdultEmerson:P00040_5855      </td><td>7</td><td>7</td><td>AdultEmerson,Leukemia,MDavis,S-pneumoniae,Solidtumors</td><td>CASSEEEGQGKAGELFF_S-pneumoniae:NA_ECTGLAWEWWRTV</td><td>CASSEEEGNEQFF_AdultEmerson   </td><td>CASSEEEGNEQFF   </td><td>AdultEmerson</td><td>P00040_5855     </td><td>P00040 </td><td> 15</td></tr>\n",
       "\t<tr><td>2</td><td>53</td><td>CASSEEEGSGANVLTF_AdultEmerson:P00018_3056   </td><td>7</td><td>7</td><td>AdultEmerson,Leukemia,MDavis,S-pneumoniae,Solidtumors</td><td>CASSEEEGQGKAGELFF_S-pneumoniae:NA_ECTGLAWEWWRTV</td><td>CASSEEEGSGANVLTF_AdultEmerson</td><td>CASSEEEGSGANVLTF</td><td>AdultEmerson</td><td>P00018_3056     </td><td>P00018 </td><td>121</td></tr>\n",
       "\t<tr><td>2</td><td>53</td><td>CASSEEEGSNEKLFF_Leukemia:CHP_365_X04-PBMC   </td><td>7</td><td>7</td><td>AdultEmerson,Leukemia,MDavis,S-pneumoniae,Solidtumors</td><td>CASSEEEGQGKAGELFF_S-pneumoniae:NA_ECTGLAWEWWRTV</td><td>CASSEEEGSNEKLFF_Leukemia     </td><td>CASSEEEGSNEKLFF </td><td>Leukemia    </td><td>CHP_365_X04-PBMC</td><td>CHP_365</td><td>345</td></tr>\n",
       "\t<tr><td>2</td><td>53</td><td>CASSEEEGTGNQPQHF_AdultEmerson:P00355_32489  </td><td>7</td><td>7</td><td>AdultEmerson,Leukemia,MDavis,S-pneumoniae,Solidtumors</td><td>CASSEEEGQGKAGELFF_S-pneumoniae:NA_ECTGLAWEWWRTV</td><td>CASSEEEGTGNQPQHF_AdultEmerson</td><td>CASSEEEGTGNQPQHF</td><td>AdultEmerson</td><td>P00355_32489    </td><td>P00355 </td><td> 46</td></tr>\n",
       "</tbody>\n",
       "</table>\n"
      ],
      "text/latex": [
       "A tibble: 6 x 13\n",
       "\\begin{tabular}{lllllllllllll}\n",
       " Component\\_id & Component\\_size & PatientDerived\\_Nodes & NumberOf\\_PatientDerived\\_Nodes & Number\\_of\\_Patients & Component\\_specificity & KnownExternalTCRs & cohort\\_cdr3 & cdr3 & cohort & basename & Patient & cloneCount\\\\\n",
       " <int> & <int> & <chr> & <int> & <int> & <chr> & <chr> & <chr> & <chr> & <chr> & <chr> & <chr> & <dbl>\\\\\n",
       "\\hline\n",
       "\t 2 & 53 & CASSEEEGGSYEQYF\\_AdultEmerson:P00639\\_63538    & 7 & 7 & AdultEmerson,Leukemia,MDavis,S-pneumoniae,Solidtumors & CASSEEEGQGKAGELFF\\_S-pneumoniae:NA\\_ECTGLAWEWWRTV & CASSEEEGGSYEQYF\\_AdultEmerson  & CASSEEEGGSYEQYF  & AdultEmerson & P00639\\_63538     & P00639  & 139\\\\\n",
       "\t 2 & 53 & CASSEEEGGTGEQYF\\_Solidtumors:CHP\\_409\\_X02-PBMC & 7 & 7 & AdultEmerson,Leukemia,MDavis,S-pneumoniae,Solidtumors & CASSEEEGQGKAGELFF\\_S-pneumoniae:NA\\_ECTGLAWEWWRTV & CASSEEEGGTGEQYF\\_Solidtumors   & CASSEEEGGTGEQYF  & Solidtumors  & CHP\\_409\\_X02-PBMC & CHP\\_409 &  15\\\\\n",
       "\t 2 & 53 & CASSEEEGNEQFF\\_AdultEmerson:P00040\\_5855       & 7 & 7 & AdultEmerson,Leukemia,MDavis,S-pneumoniae,Solidtumors & CASSEEEGQGKAGELFF\\_S-pneumoniae:NA\\_ECTGLAWEWWRTV & CASSEEEGNEQFF\\_AdultEmerson    & CASSEEEGNEQFF    & AdultEmerson & P00040\\_5855      & P00040  &  15\\\\\n",
       "\t 2 & 53 & CASSEEEGSGANVLTF\\_AdultEmerson:P00018\\_3056    & 7 & 7 & AdultEmerson,Leukemia,MDavis,S-pneumoniae,Solidtumors & CASSEEEGQGKAGELFF\\_S-pneumoniae:NA\\_ECTGLAWEWWRTV & CASSEEEGSGANVLTF\\_AdultEmerson & CASSEEEGSGANVLTF & AdultEmerson & P00018\\_3056      & P00018  & 121\\\\\n",
       "\t 2 & 53 & CASSEEEGSNEKLFF\\_Leukemia:CHP\\_365\\_X04-PBMC    & 7 & 7 & AdultEmerson,Leukemia,MDavis,S-pneumoniae,Solidtumors & CASSEEEGQGKAGELFF\\_S-pneumoniae:NA\\_ECTGLAWEWWRTV & CASSEEEGSNEKLFF\\_Leukemia      & CASSEEEGSNEKLFF  & Leukemia     & CHP\\_365\\_X04-PBMC & CHP\\_365 & 345\\\\\n",
       "\t 2 & 53 & CASSEEEGTGNQPQHF\\_AdultEmerson:P00355\\_32489   & 7 & 7 & AdultEmerson,Leukemia,MDavis,S-pneumoniae,Solidtumors & CASSEEEGQGKAGELFF\\_S-pneumoniae:NA\\_ECTGLAWEWWRTV & CASSEEEGTGNQPQHF\\_AdultEmerson & CASSEEEGTGNQPQHF & AdultEmerson & P00355\\_32489     & P00355  &  46\\\\\n",
       "\\end{tabular}\n"
      ],
      "text/markdown": [
       "\n",
       "A tibble: 6 x 13\n",
       "\n",
       "| Component_id &lt;int&gt; | Component_size &lt;int&gt; | PatientDerived_Nodes &lt;chr&gt; | NumberOf_PatientDerived_Nodes &lt;int&gt; | Number_of_Patients &lt;int&gt; | Component_specificity &lt;chr&gt; | KnownExternalTCRs &lt;chr&gt; | cohort_cdr3 &lt;chr&gt; | cdr3 &lt;chr&gt; | cohort &lt;chr&gt; | basename &lt;chr&gt; | Patient &lt;chr&gt; | cloneCount &lt;dbl&gt; |\n",
       "|---|---|---|---|---|---|---|---|---|---|---|---|---|\n",
       "| 2 | 53 | CASSEEEGGSYEQYF_AdultEmerson:P00639_63538    | 7 | 7 | AdultEmerson,Leukemia,MDavis,S-pneumoniae,Solidtumors | CASSEEEGQGKAGELFF_S-pneumoniae:NA_ECTGLAWEWWRTV | CASSEEEGGSYEQYF_AdultEmerson  | CASSEEEGGSYEQYF  | AdultEmerson | P00639_63538     | P00639  | 139 |\n",
       "| 2 | 53 | CASSEEEGGTGEQYF_Solidtumors:CHP_409_X02-PBMC | 7 | 7 | AdultEmerson,Leukemia,MDavis,S-pneumoniae,Solidtumors | CASSEEEGQGKAGELFF_S-pneumoniae:NA_ECTGLAWEWWRTV | CASSEEEGGTGEQYF_Solidtumors   | CASSEEEGGTGEQYF  | Solidtumors  | CHP_409_X02-PBMC | CHP_409 |  15 |\n",
       "| 2 | 53 | CASSEEEGNEQFF_AdultEmerson:P00040_5855       | 7 | 7 | AdultEmerson,Leukemia,MDavis,S-pneumoniae,Solidtumors | CASSEEEGQGKAGELFF_S-pneumoniae:NA_ECTGLAWEWWRTV | CASSEEEGNEQFF_AdultEmerson    | CASSEEEGNEQFF    | AdultEmerson | P00040_5855      | P00040  |  15 |\n",
       "| 2 | 53 | CASSEEEGSGANVLTF_AdultEmerson:P00018_3056    | 7 | 7 | AdultEmerson,Leukemia,MDavis,S-pneumoniae,Solidtumors | CASSEEEGQGKAGELFF_S-pneumoniae:NA_ECTGLAWEWWRTV | CASSEEEGSGANVLTF_AdultEmerson | CASSEEEGSGANVLTF | AdultEmerson | P00018_3056      | P00018  | 121 |\n",
       "| 2 | 53 | CASSEEEGSNEKLFF_Leukemia:CHP_365_X04-PBMC    | 7 | 7 | AdultEmerson,Leukemia,MDavis,S-pneumoniae,Solidtumors | CASSEEEGQGKAGELFF_S-pneumoniae:NA_ECTGLAWEWWRTV | CASSEEEGSNEKLFF_Leukemia      | CASSEEEGSNEKLFF  | Leukemia     | CHP_365_X04-PBMC | CHP_365 | 345 |\n",
       "| 2 | 53 | CASSEEEGTGNQPQHF_AdultEmerson:P00355_32489   | 7 | 7 | AdultEmerson,Leukemia,MDavis,S-pneumoniae,Solidtumors | CASSEEEGQGKAGELFF_S-pneumoniae:NA_ECTGLAWEWWRTV | CASSEEEGTGNQPQHF_AdultEmerson | CASSEEEGTGNQPQHF | AdultEmerson | P00355_32489     | P00355  |  46 |\n",
       "\n"
      ],
      "text/plain": [
       "  Component_id Component_size PatientDerived_Nodes                        \n",
       "1 2            53             CASSEEEGGSYEQYF_AdultEmerson:P00639_63538   \n",
       "2 2            53             CASSEEEGGTGEQYF_Solidtumors:CHP_409_X02-PBMC\n",
       "3 2            53             CASSEEEGNEQFF_AdultEmerson:P00040_5855      \n",
       "4 2            53             CASSEEEGSGANVLTF_AdultEmerson:P00018_3056   \n",
       "5 2            53             CASSEEEGSNEKLFF_Leukemia:CHP_365_X04-PBMC   \n",
       "6 2            53             CASSEEEGTGNQPQHF_AdultEmerson:P00355_32489  \n",
       "  NumberOf_PatientDerived_Nodes Number_of_Patients\n",
       "1 7                             7                 \n",
       "2 7                             7                 \n",
       "3 7                             7                 \n",
       "4 7                             7                 \n",
       "5 7                             7                 \n",
       "6 7                             7                 \n",
       "  Component_specificity                                \n",
       "1 AdultEmerson,Leukemia,MDavis,S-pneumoniae,Solidtumors\n",
       "2 AdultEmerson,Leukemia,MDavis,S-pneumoniae,Solidtumors\n",
       "3 AdultEmerson,Leukemia,MDavis,S-pneumoniae,Solidtumors\n",
       "4 AdultEmerson,Leukemia,MDavis,S-pneumoniae,Solidtumors\n",
       "5 AdultEmerson,Leukemia,MDavis,S-pneumoniae,Solidtumors\n",
       "6 AdultEmerson,Leukemia,MDavis,S-pneumoniae,Solidtumors\n",
       "  KnownExternalTCRs                               cohort_cdr3                  \n",
       "1 CASSEEEGQGKAGELFF_S-pneumoniae:NA_ECTGLAWEWWRTV CASSEEEGGSYEQYF_AdultEmerson \n",
       "2 CASSEEEGQGKAGELFF_S-pneumoniae:NA_ECTGLAWEWWRTV CASSEEEGGTGEQYF_Solidtumors  \n",
       "3 CASSEEEGQGKAGELFF_S-pneumoniae:NA_ECTGLAWEWWRTV CASSEEEGNEQFF_AdultEmerson   \n",
       "4 CASSEEEGQGKAGELFF_S-pneumoniae:NA_ECTGLAWEWWRTV CASSEEEGSGANVLTF_AdultEmerson\n",
       "5 CASSEEEGQGKAGELFF_S-pneumoniae:NA_ECTGLAWEWWRTV CASSEEEGSNEKLFF_Leukemia     \n",
       "6 CASSEEEGQGKAGELFF_S-pneumoniae:NA_ECTGLAWEWWRTV CASSEEEGTGNQPQHF_AdultEmerson\n",
       "  cdr3             cohort       basename         Patient cloneCount\n",
       "1 CASSEEEGGSYEQYF  AdultEmerson P00639_63538     P00639  139       \n",
       "2 CASSEEEGGTGEQYF  Solidtumors  CHP_409_X02-PBMC CHP_409  15       \n",
       "3 CASSEEEGNEQFF    AdultEmerson P00040_5855      P00040   15       \n",
       "4 CASSEEEGSGANVLTF AdultEmerson P00018_3056      P00018  121       \n",
       "5 CASSEEEGSNEKLFF  Leukemia     CHP_365_X04-PBMC CHP_365 345       \n",
       "6 CASSEEEGTGNQPQHF AdultEmerson P00355_32489     P00355   46       "
      ]
     },
     "metadata": {},
     "output_type": "display_data"
    }
   ],
   "source": [
    "head(int_emerson_sep)"
   ]
  },
  {
   "cell_type": "code",
   "execution_count": 36,
   "metadata": {
    "vscode": {
     "languageId": "r"
    }
   },
   "outputs": [],
   "source": [
    "load(file = paste0(datapath, \"Adaptivedatasets/allAdaptive.RData\"))"
   ]
  },
  {
   "cell_type": "code",
   "execution_count": 37,
   "metadata": {
    "vscode": {
     "languageId": "r"
    }
   },
   "outputs": [
    {
     "data": {
      "text/html": [
       "<table class=\"dataframe\">\n",
       "<caption>A data.frame: 6 x 66</caption>\n",
       "<thead>\n",
       "\t<tr><th></th><th scope=col>sample_id</th><th scope=col>Patient</th><th scope=col>cycle</th><th scope=col>FOLD</th><th scope=col>ATC</th><th scope=col>Age</th><th scope=col>Disease_type</th><th scope=col>TE_fold</th><th scope=col>CD3</th><th scope=col>EM</th><th scope=col>...</th><th scope=col>estimated_Shannon</th><th scope=col>SE_Shannon</th><th scope=col>observed_Simpson</th><th scope=col>estimated_Simpson</th><th scope=col>SE_Simpson</th><th scope=col>basename</th><th scope=col>file</th><th scope=col>sampletype</th><th scope=col>Group</th><th scope=col>log10shann</th></tr>\n",
       "\t<tr><th></th><th scope=col>&lt;chr&gt;</th><th scope=col>&lt;chr&gt;</th><th scope=col>&lt;chr&gt;</th><th scope=col>&lt;dbl&gt;</th><th scope=col>&lt;dbl&gt;</th><th scope=col>&lt;dbl&gt;</th><th scope=col>&lt;chr&gt;</th><th scope=col>&lt;dbl&gt;</th><th scope=col>&lt;int&gt;</th><th scope=col>&lt;int&gt;</th><th scope=col>...</th><th scope=col>&lt;dbl&gt;</th><th scope=col>&lt;dbl&gt;</th><th scope=col>&lt;dbl&gt;</th><th scope=col>&lt;dbl&gt;</th><th scope=col>&lt;dbl&gt;</th><th scope=col>&lt;chr&gt;</th><th scope=col>&lt;chr&gt;</th><th scope=col>&lt;chr&gt;</th><th scope=col>&lt;chr&gt;</th><th scope=col>&lt;dbl&gt;</th></tr>\n",
       "</thead>\n",
       "<tbody>\n",
       "\t<tr><th scope=row>287</th><td>CHP_10YO_M_00  </td><td>CHP_10YO_M  </td><td>X00</td><td>NA</td><td>NA</td><td>NA</td><td>Normal</td><td>NA</td><td>NA</td><td>NA</td><td>...</td><td>10.601</td><td>0.073</td><td> 8.556</td><td> 8.561</td><td>0.094</td><td>CHP_10YO-M_PBMC_DNA  </td><td>batchNormal_16Apr2020/mixcr/clones/CLONES_TRBCHP_10YO-M_PBMC_DNA.txt  </td><td>PBMC</td><td>CHP</td><td>1.0249370</td></tr>\n",
       "\t<tr><th scope=row>288</th><td>CHP_11YO_M_00  </td><td>CHP_11YO_M  </td><td>X00</td><td>NA</td><td>NA</td><td>NA</td><td>Normal</td><td>NA</td><td>NA</td><td>NA</td><td>...</td><td>11.614</td><td>0.054</td><td>10.406</td><td>10.414</td><td>0.066</td><td>CHP_11YO-M_PBMC_DNA  </td><td>batchNormal_16Apr2020/mixcr/clones/CLONES_TRBCHP_11YO-M_PBMC_DNA.txt  </td><td>PBMC</td><td>CHP</td><td>1.0647200</td></tr>\n",
       "\t<tr><th scope=row>289</th><td>CHP_15YO_F_A_00</td><td>CHP_15YO_F_A</td><td>X00</td><td>NA</td><td>NA</td><td>NA</td><td>Normal</td><td>NA</td><td>NA</td><td>NA</td><td>...</td><td> 8.989</td><td>0.036</td><td> 8.560</td><td> 8.570</td><td>0.060</td><td>CHP_15YO-F-A_PBMC_DNA</td><td>batchNormal_16Apr2020/mixcr/clones/CLONES_TRBCHP_15YO-F-A_PBMC_DNA.txt</td><td>PBMC</td><td>CHP</td><td>0.9533731</td></tr>\n",
       "\t<tr><th scope=row>290</th><td>CHP_15YO_F_B_00</td><td>CHP_15YO_F_B</td><td>X00</td><td>NA</td><td>NA</td><td>NA</td><td>Normal</td><td>NA</td><td>NA</td><td>NA</td><td>...</td><td> 6.334</td><td>0.040</td><td> 5.870</td><td> 5.876</td><td>0.066</td><td>CHP_15YO-F-B_PBMC_DNA</td><td>batchNormal_16Apr2020/mixcr/clones/CLONES_TRBCHP_15YO-F-B_PBMC_DNA.txt</td><td>PBMC</td><td>CHP</td><td>0.8014037</td></tr>\n",
       "\t<tr><th scope=row>291</th><td>CHP_15YO_M_00  </td><td>CHP_15YO_M  </td><td>X00</td><td>NA</td><td>NA</td><td>NA</td><td>Normal</td><td>NA</td><td>NA</td><td>NA</td><td>...</td><td>21.120</td><td>0.040</td><td>20.321</td><td>20.339</td><td>0.068</td><td>CHP_15YO-M_PBMC_DNA  </td><td>batchNormal_16Apr2020/mixcr/clones/CLONES_TRBCHP_15YO-M_PBMC_DNA.txt  </td><td>PBMC</td><td>CHP</td><td>1.3244882</td></tr>\n",
       "\t<tr><th scope=row>292</th><td>CHP_16YO_M_00  </td><td>CHP_16YO_M  </td><td>X00</td><td>NA</td><td>NA</td><td>NA</td><td>Normal</td><td>NA</td><td>NA</td><td>NA</td><td>...</td><td> 3.973</td><td>0.007</td><td> 3.944</td><td> 3.946</td><td>0.013</td><td>CHP_16YO-M_PBMC_DNA  </td><td>batchNormal_16Apr2020/mixcr/clones/CLONES_TRBCHP_16YO-M_PBMC_DNA.txt  </td><td>PBMC</td><td>CHP</td><td>0.5990092</td></tr>\n",
       "</tbody>\n",
       "</table>\n"
      ],
      "text/latex": [
       "A data.frame: 6 x 66\n",
       "\\begin{tabular}{r|lllllllllllllllllllll}\n",
       "  & sample\\_id & Patient & cycle & FOLD & ATC & Age & Disease\\_type & TE\\_fold & CD3 & EM & ... & estimated\\_Shannon & SE\\_Shannon & observed\\_Simpson & estimated\\_Simpson & SE\\_Simpson & basename & file & sampletype & Group & log10shann\\\\\n",
       "  & <chr> & <chr> & <chr> & <dbl> & <dbl> & <dbl> & <chr> & <dbl> & <int> & <int> & ... & <dbl> & <dbl> & <dbl> & <dbl> & <dbl> & <chr> & <chr> & <chr> & <chr> & <dbl>\\\\\n",
       "\\hline\n",
       "\t287 & CHP\\_10YO\\_M\\_00   & CHP\\_10YO\\_M   & X00 & NA & NA & NA & Normal & NA & NA & NA & ... & 10.601 & 0.073 &  8.556 &  8.561 & 0.094 & CHP\\_10YO-M\\_PBMC\\_DNA   & batchNormal\\_16Apr2020/mixcr/clones/CLONES\\_TRBCHP\\_10YO-M\\_PBMC\\_DNA.txt   & PBMC & CHP & 1.0249370\\\\\n",
       "\t288 & CHP\\_11YO\\_M\\_00   & CHP\\_11YO\\_M   & X00 & NA & NA & NA & Normal & NA & NA & NA & ... & 11.614 & 0.054 & 10.406 & 10.414 & 0.066 & CHP\\_11YO-M\\_PBMC\\_DNA   & batchNormal\\_16Apr2020/mixcr/clones/CLONES\\_TRBCHP\\_11YO-M\\_PBMC\\_DNA.txt   & PBMC & CHP & 1.0647200\\\\\n",
       "\t289 & CHP\\_15YO\\_F\\_A\\_00 & CHP\\_15YO\\_F\\_A & X00 & NA & NA & NA & Normal & NA & NA & NA & ... &  8.989 & 0.036 &  8.560 &  8.570 & 0.060 & CHP\\_15YO-F-A\\_PBMC\\_DNA & batchNormal\\_16Apr2020/mixcr/clones/CLONES\\_TRBCHP\\_15YO-F-A\\_PBMC\\_DNA.txt & PBMC & CHP & 0.9533731\\\\\n",
       "\t290 & CHP\\_15YO\\_F\\_B\\_00 & CHP\\_15YO\\_F\\_B & X00 & NA & NA & NA & Normal & NA & NA & NA & ... &  6.334 & 0.040 &  5.870 &  5.876 & 0.066 & CHP\\_15YO-F-B\\_PBMC\\_DNA & batchNormal\\_16Apr2020/mixcr/clones/CLONES\\_TRBCHP\\_15YO-F-B\\_PBMC\\_DNA.txt & PBMC & CHP & 0.8014037\\\\\n",
       "\t291 & CHP\\_15YO\\_M\\_00   & CHP\\_15YO\\_M   & X00 & NA & NA & NA & Normal & NA & NA & NA & ... & 21.120 & 0.040 & 20.321 & 20.339 & 0.068 & CHP\\_15YO-M\\_PBMC\\_DNA   & batchNormal\\_16Apr2020/mixcr/clones/CLONES\\_TRBCHP\\_15YO-M\\_PBMC\\_DNA.txt   & PBMC & CHP & 1.3244882\\\\\n",
       "\t292 & CHP\\_16YO\\_M\\_00   & CHP\\_16YO\\_M   & X00 & NA & NA & NA & Normal & NA & NA & NA & ... &  3.973 & 0.007 &  3.944 &  3.946 & 0.013 & CHP\\_16YO-M\\_PBMC\\_DNA   & batchNormal\\_16Apr2020/mixcr/clones/CLONES\\_TRBCHP\\_16YO-M\\_PBMC\\_DNA.txt   & PBMC & CHP & 0.5990092\\\\\n",
       "\\end{tabular}\n"
      ],
      "text/markdown": [
       "\n",
       "A data.frame: 6 x 66\n",
       "\n",
       "| <!--/--> | sample_id &lt;chr&gt; | Patient &lt;chr&gt; | cycle &lt;chr&gt; | FOLD &lt;dbl&gt; | ATC &lt;dbl&gt; | Age &lt;dbl&gt; | Disease_type &lt;chr&gt; | TE_fold &lt;dbl&gt; | CD3 &lt;int&gt; | EM &lt;int&gt; | ... ... | estimated_Shannon &lt;dbl&gt; | SE_Shannon &lt;dbl&gt; | observed_Simpson &lt;dbl&gt; | estimated_Simpson &lt;dbl&gt; | SE_Simpson &lt;dbl&gt; | basename &lt;chr&gt; | file &lt;chr&gt; | sampletype &lt;chr&gt; | Group &lt;chr&gt; | log10shann &lt;dbl&gt; |\n",
       "|---|---|---|---|---|---|---|---|---|---|---|---|---|---|---|---|---|---|---|---|---|---|\n",
       "| 287 | CHP_10YO_M_00   | CHP_10YO_M   | X00 | NA | NA | NA | Normal | NA | NA | NA | ... | 10.601 | 0.073 |  8.556 |  8.561 | 0.094 | CHP_10YO-M_PBMC_DNA   | batchNormal_16Apr2020/mixcr/clones/CLONES_TRBCHP_10YO-M_PBMC_DNA.txt   | PBMC | CHP | 1.0249370 |\n",
       "| 288 | CHP_11YO_M_00   | CHP_11YO_M   | X00 | NA | NA | NA | Normal | NA | NA | NA | ... | 11.614 | 0.054 | 10.406 | 10.414 | 0.066 | CHP_11YO-M_PBMC_DNA   | batchNormal_16Apr2020/mixcr/clones/CLONES_TRBCHP_11YO-M_PBMC_DNA.txt   | PBMC | CHP | 1.0647200 |\n",
       "| 289 | CHP_15YO_F_A_00 | CHP_15YO_F_A | X00 | NA | NA | NA | Normal | NA | NA | NA | ... |  8.989 | 0.036 |  8.560 |  8.570 | 0.060 | CHP_15YO-F-A_PBMC_DNA | batchNormal_16Apr2020/mixcr/clones/CLONES_TRBCHP_15YO-F-A_PBMC_DNA.txt | PBMC | CHP | 0.9533731 |\n",
       "| 290 | CHP_15YO_F_B_00 | CHP_15YO_F_B | X00 | NA | NA | NA | Normal | NA | NA | NA | ... |  6.334 | 0.040 |  5.870 |  5.876 | 0.066 | CHP_15YO-F-B_PBMC_DNA | batchNormal_16Apr2020/mixcr/clones/CLONES_TRBCHP_15YO-F-B_PBMC_DNA.txt | PBMC | CHP | 0.8014037 |\n",
       "| 291 | CHP_15YO_M_00   | CHP_15YO_M   | X00 | NA | NA | NA | Normal | NA | NA | NA | ... | 21.120 | 0.040 | 20.321 | 20.339 | 0.068 | CHP_15YO-M_PBMC_DNA   | batchNormal_16Apr2020/mixcr/clones/CLONES_TRBCHP_15YO-M_PBMC_DNA.txt   | PBMC | CHP | 1.3244882 |\n",
       "| 292 | CHP_16YO_M_00   | CHP_16YO_M   | X00 | NA | NA | NA | Normal | NA | NA | NA | ... |  3.973 | 0.007 |  3.944 |  3.946 | 0.013 | CHP_16YO-M_PBMC_DNA   | batchNormal_16Apr2020/mixcr/clones/CLONES_TRBCHP_16YO-M_PBMC_DNA.txt   | PBMC | CHP | 0.5990092 |\n",
       "\n"
      ],
      "text/plain": [
       "    sample_id       Patient      cycle FOLD ATC Age Disease_type TE_fold CD3 EM\n",
       "287 CHP_10YO_M_00   CHP_10YO_M   X00   NA   NA  NA  Normal       NA      NA  NA\n",
       "288 CHP_11YO_M_00   CHP_11YO_M   X00   NA   NA  NA  Normal       NA      NA  NA\n",
       "289 CHP_15YO_F_A_00 CHP_15YO_F_A X00   NA   NA  NA  Normal       NA      NA  NA\n",
       "290 CHP_15YO_F_B_00 CHP_15YO_F_B X00   NA   NA  NA  Normal       NA      NA  NA\n",
       "291 CHP_15YO_M_00   CHP_15YO_M   X00   NA   NA  NA  Normal       NA      NA  NA\n",
       "292 CHP_16YO_M_00   CHP_16YO_M   X00   NA   NA  NA  Normal       NA      NA  NA\n",
       "    ... estimated_Shannon SE_Shannon observed_Simpson estimated_Simpson\n",
       "287 ... 10.601            0.073       8.556            8.561           \n",
       "288 ... 11.614            0.054      10.406           10.414           \n",
       "289 ...  8.989            0.036       8.560            8.570           \n",
       "290 ...  6.334            0.040       5.870            5.876           \n",
       "291 ... 21.120            0.040      20.321           20.339           \n",
       "292 ...  3.973            0.007       3.944            3.946           \n",
       "    SE_Simpson basename             \n",
       "287 0.094      CHP_10YO-M_PBMC_DNA  \n",
       "288 0.066      CHP_11YO-M_PBMC_DNA  \n",
       "289 0.060      CHP_15YO-F-A_PBMC_DNA\n",
       "290 0.066      CHP_15YO-F-B_PBMC_DNA\n",
       "291 0.068      CHP_15YO-M_PBMC_DNA  \n",
       "292 0.013      CHP_16YO-M_PBMC_DNA  \n",
       "    file                                                                  \n",
       "287 batchNormal_16Apr2020/mixcr/clones/CLONES_TRBCHP_10YO-M_PBMC_DNA.txt  \n",
       "288 batchNormal_16Apr2020/mixcr/clones/CLONES_TRBCHP_11YO-M_PBMC_DNA.txt  \n",
       "289 batchNormal_16Apr2020/mixcr/clones/CLONES_TRBCHP_15YO-F-A_PBMC_DNA.txt\n",
       "290 batchNormal_16Apr2020/mixcr/clones/CLONES_TRBCHP_15YO-F-B_PBMC_DNA.txt\n",
       "291 batchNormal_16Apr2020/mixcr/clones/CLONES_TRBCHP_15YO-M_PBMC_DNA.txt  \n",
       "292 batchNormal_16Apr2020/mixcr/clones/CLONES_TRBCHP_16YO-M_PBMC_DNA.txt  \n",
       "    sampletype Group log10shann\n",
       "287 PBMC       CHP   1.0249370 \n",
       "288 PBMC       CHP   1.0647200 \n",
       "289 PBMC       CHP   0.9533731 \n",
       "290 PBMC       CHP   0.8014037 \n",
       "291 PBMC       CHP   1.3244882 \n",
       "292 PBMC       CHP   0.5990092 "
      ]
     },
     "metadata": {},
     "output_type": "display_data"
    }
   ],
   "source": [
    "head(meta_div)"
   ]
  },
  {
   "cell_type": "code",
   "execution_count": 38,
   "metadata": {
    "vscode": {
     "languageId": "r"
    }
   },
   "outputs": [
    {
     "data": {
      "text/html": [
       "<table class=\"dataframe\">\n",
       "<caption>A data.frame: 6 x 7</caption>\n",
       "<thead>\n",
       "\t<tr><th></th><th scope=col>sample_name</th><th scope=col>study</th><th scope=col>Agegroup</th><th scope=col>Sex</th><th scope=col>disease</th><th scope=col>subject</th><th scope=col>age</th></tr>\n",
       "\t<tr><th></th><th scope=col>&lt;chr&gt;</th><th scope=col>&lt;chr&gt;</th><th scope=col>&lt;chr&gt;</th><th scope=col>&lt;chr&gt;</th><th scope=col>&lt;chr&gt;</th><th scope=col>&lt;chr&gt;</th><th scope=col>&lt;dbl&gt;</th></tr>\n",
       "</thead>\n",
       "<tbody>\n",
       "\t<tr><th scope=row>1</th><td>Preterm_23_3  </td><td>Carey</td><td>Neonate</td><td>Male  </td><td>Ctrl</td><td>Preterm_23_3  </td><td> 0</td></tr>\n",
       "\t<tr><th scope=row>2</th><td>Preterm_25_5  </td><td>Carey</td><td>Neonate</td><td>Female</td><td>Ctrl</td><td>Preterm_25_5  </td><td> 0</td></tr>\n",
       "\t<tr><th scope=row>3</th><td>Preterm_26_B_2</td><td>Carey</td><td>Neonate</td><td>Male  </td><td>Ctrl</td><td>Preterm_26_B_2</td><td> 0</td></tr>\n",
       "\t<tr><th scope=row>4</th><td>Preterm_27_4  </td><td>Carey</td><td>Neonate</td><td>Female</td><td>Ctrl</td><td>Preterm_27_4  </td><td> 0</td></tr>\n",
       "\t<tr><th scope=row>5</th><td>Adult_1_15-04 </td><td>Carey</td><td>Adult  </td><td>NA    </td><td>Ctrl</td><td>Adult_1_15-04 </td><td>39</td></tr>\n",
       "\t<tr><th scope=row>6</th><td>Adult_2_15-07 </td><td>Carey</td><td>Adult  </td><td>NA    </td><td>Ctrl</td><td>Adult_2_15-07 </td><td>39</td></tr>\n",
       "</tbody>\n",
       "</table>\n"
      ],
      "text/latex": [
       "A data.frame: 6 x 7\n",
       "\\begin{tabular}{r|lllllll}\n",
       "  & sample\\_name & study & Agegroup & Sex & disease & subject & age\\\\\n",
       "  & <chr> & <chr> & <chr> & <chr> & <chr> & <chr> & <dbl>\\\\\n",
       "\\hline\n",
       "\t1 & Preterm\\_23\\_3   & Carey & Neonate & Male   & Ctrl & Preterm\\_23\\_3   &  0\\\\\n",
       "\t2 & Preterm\\_25\\_5   & Carey & Neonate & Female & Ctrl & Preterm\\_25\\_5   &  0\\\\\n",
       "\t3 & Preterm\\_26\\_B\\_2 & Carey & Neonate & Male   & Ctrl & Preterm\\_26\\_B\\_2 &  0\\\\\n",
       "\t4 & Preterm\\_27\\_4   & Carey & Neonate & Female & Ctrl & Preterm\\_27\\_4   &  0\\\\\n",
       "\t5 & Adult\\_1\\_15-04  & Carey & Adult   & NA     & Ctrl & Adult\\_1\\_15-04  & 39\\\\\n",
       "\t6 & Adult\\_2\\_15-07  & Carey & Adult   & NA     & Ctrl & Adult\\_2\\_15-07  & 39\\\\\n",
       "\\end{tabular}\n"
      ],
      "text/markdown": [
       "\n",
       "A data.frame: 6 x 7\n",
       "\n",
       "| <!--/--> | sample_name &lt;chr&gt; | study &lt;chr&gt; | Agegroup &lt;chr&gt; | Sex &lt;chr&gt; | disease &lt;chr&gt; | subject &lt;chr&gt; | age &lt;dbl&gt; |\n",
       "|---|---|---|---|---|---|---|---|\n",
       "| 1 | Preterm_23_3   | Carey | Neonate | Male   | Ctrl | Preterm_23_3   |  0 |\n",
       "| 2 | Preterm_25_5   | Carey | Neonate | Female | Ctrl | Preterm_25_5   |  0 |\n",
       "| 3 | Preterm_26_B_2 | Carey | Neonate | Male   | Ctrl | Preterm_26_B_2 |  0 |\n",
       "| 4 | Preterm_27_4   | Carey | Neonate | Female | Ctrl | Preterm_27_4   |  0 |\n",
       "| 5 | Adult_1_15-04  | Carey | Adult   | NA     | Ctrl | Adult_1_15-04  | 39 |\n",
       "| 6 | Adult_2_15-07  | Carey | Adult   | NA     | Ctrl | Adult_2_15-07  | 39 |\n",
       "\n"
      ],
      "text/plain": [
       "  sample_name    study Agegroup Sex    disease subject        age\n",
       "1 Preterm_23_3   Carey Neonate  Male   Ctrl    Preterm_23_3    0 \n",
       "2 Preterm_25_5   Carey Neonate  Female Ctrl    Preterm_25_5    0 \n",
       "3 Preterm_26_B_2 Carey Neonate  Male   Ctrl    Preterm_26_B_2  0 \n",
       "4 Preterm_27_4   Carey Neonate  Female Ctrl    Preterm_27_4    0 \n",
       "5 Adult_1_15-04  Carey Adult    NA     Ctrl    Adult_1_15-04  39 \n",
       "6 Adult_2_15-07  Carey Adult    NA     Ctrl    Adult_2_15-07  39 "
      ]
     },
     "metadata": {},
     "output_type": "display_data"
    }
   ],
   "source": [
    "head(allAdaptive)"
   ]
  },
  {
   "cell_type": "code",
   "execution_count": 39,
   "metadata": {
    "vscode": {
     "languageId": "r"
    }
   },
   "outputs": [],
   "source": [
    "allAdaptive$Patient <- allAdaptive$sample_name\n",
    "allAdaptive$Age <- allAdaptive$age"
   ]
  },
  {
   "cell_type": "code",
   "execution_count": 40,
   "metadata": {
    "vscode": {
     "languageId": "r"
    }
   },
   "outputs": [],
   "source": [
    "age_Adaptive_int <- rbind(meta_div[, c(\"Patient\", \"Age\")], allAdaptive[, c(\"Patient\", \"Age\")] )"
   ]
  },
  {
   "cell_type": "code",
   "execution_count": 41,
   "metadata": {
    "vscode": {
     "languageId": "r"
    }
   },
   "outputs": [],
   "source": [
    "pat_tab_1 <- comp_frac.fx(int_emerson_sep, \"PBMC\", \"X01\") \n",
    "pat_tab_2 <- comp_frac.fx(int_emerson_sep, \"PBMC\", \"X02\") \n",
    "pat_tab_3 <- comp_frac.fx(int_emerson_sep, \"PBMC\", \"X03\")\n",
    "pat_tab_4 <- comp_frac.fx(int_emerson_sep, \"PBMC\", \"X04\") \n",
    "pat_tab_5 <- comp_frac.fx(int_emerson_sep, \"PBMC\", \"X05\")  "
   ]
  },
  {
   "cell_type": "code",
   "execution_count": 42,
   "metadata": {
    "vscode": {
     "languageId": "r"
    }
   },
   "outputs": [],
   "source": [
    "pat_tab_1$Age <- age_Adaptive_int$Age[match(rownames(pat_tab_1), age_Adaptive_int$Patient)]\n",
    "pat_tab_2$Age <- age_Adaptive_int$Age[match(rownames(pat_tab_2), age_Adaptive_int$Patient)]"
   ]
  },
  {
   "cell_type": "code",
   "execution_count": 43,
   "metadata": {
    "vscode": {
     "languageId": "r"
    }
   },
   "outputs": [],
   "source": [
    "pat_tab_1$study <- pat_tab_1$cohort\n",
    "pat_tab_1$study[grepl(\"Emerson\", pat_tab_1$study)] <- \"Healthy\"\n",
    "\n",
    "pat_tab_2$study <- pat_tab_2$cohort\n",
    "pat_tab_2$study[grepl(\"Emerson\", pat_tab_2$study)] <- \"Healthy\""
   ]
  },
  {
   "cell_type": "code",
   "execution_count": 44,
   "metadata": {
    "vscode": {
     "languageId": "r"
    }
   },
   "outputs": [],
   "source": [
    "# int_emerson_sep[ int_emerson_sep$Patient == \"CHP_346\",]"
   ]
  },
  {
   "cell_type": "code",
   "execution_count": 45,
   "metadata": {
    "vscode": {
     "languageId": "r"
    }
   },
   "outputs": [
    {
     "data": {
      "text/html": [
       "<style>\n",
       ".list-inline {list-style: none; margin:0; padding: 0}\n",
       ".list-inline>li {display: inline-block}\n",
       ".list-inline>li:not(:last-child)::after {content: \"\\00b7\"; padding: 0 .5ex}\n",
       "</style>\n",
       "<ol class=list-inline><li>247</li><li>19</li></ol>\n"
      ],
      "text/latex": [
       "\\begin{enumerate*}\n",
       "\\item 247\n",
       "\\item 19\n",
       "\\end{enumerate*}\n"
      ],
      "text/markdown": [
       "1. 247\n",
       "2. 19\n",
       "\n",
       "\n"
      ],
      "text/plain": [
       "[1] 247  19"
      ]
     },
     "metadata": {},
     "output_type": "display_data"
    },
    {
     "data": {
      "text/html": [
       "<style>\n",
       ".list-inline {list-style: none; margin:0; padding: 0}\n",
       ".list-inline>li {display: inline-block}\n",
       ".list-inline>li:not(:last-child)::after {content: \"\\00b7\"; padding: 0 .5ex}\n",
       "</style>\n",
       "<ol class=list-inline><li>254</li><li>19</li></ol>\n"
      ],
      "text/latex": [
       "\\begin{enumerate*}\n",
       "\\item 254\n",
       "\\item 19\n",
       "\\end{enumerate*}\n"
      ],
      "text/markdown": [
       "1. 254\n",
       "2. 19\n",
       "\n",
       "\n"
      ],
      "text/plain": [
       "[1] 254  19"
      ]
     },
     "metadata": {},
     "output_type": "display_data"
    }
   ],
   "source": [
    "dim(pat_tab_1)\n",
    "dim(pat_tab_2)"
   ]
  },
  {
   "cell_type": "code",
   "execution_count": 46,
   "metadata": {
    "vscode": {
     "languageId": "r"
    }
   },
   "outputs": [
    {
     "data": {
      "text/plain": [
       "\n",
       "      AdultEmerson       ChildEmerson           Leukemia           Lymphoma \n",
       "               200                 16                 16                  4 \n",
       "       Solidtumors T-cellmalignancies \n",
       "                10                  1 "
      ]
     },
     "metadata": {},
     "output_type": "display_data"
    },
    {
     "data": {
      "text/plain": [
       "\n",
       "      AdultEmerson       ChildEmerson           Leukemia           Lymphoma \n",
       "               200                 16                 19                  5 \n",
       "       Solidtumors T-cellmalignancies \n",
       "                12                  2 "
      ]
     },
     "metadata": {},
     "output_type": "display_data"
    }
   ],
   "source": [
    "table(pat_tab_1$cohort)\n",
    "table(pat_tab_2$cohort)"
   ]
  },
  {
   "cell_type": "code",
   "execution_count": 47,
   "metadata": {
    "vscode": {
     "languageId": "r"
    }
   },
   "outputs": [],
   "source": [
    "pat_tab_1 <- pat_tab_1[ pat_tab_1$cohort != \"T-cellmalignancies\",]\n",
    "pat_tab_2 <- pat_tab_2[ pat_tab_2$cohort != \"T-cellmalignancies\",]\n",
    "pat_tab_3 <- pat_tab_3[ pat_tab_3$cohort != \"T-cellmalignancies\",]\n",
    "pat_tab_4 <- pat_tab_4[ pat_tab_4$cohort != \"T-cellmalignancies\",]\n",
    "pat_tab_5 <- pat_tab_5[ pat_tab_5$cohort != \"T-cellmalignancies\",]"
   ]
  },
  {
   "cell_type": "code",
   "execution_count": 48,
   "metadata": {
    "vscode": {
     "languageId": "r"
    }
   },
   "outputs": [
    {
     "data": {
      "text/html": [
       "<table class=\"dataframe\">\n",
       "<caption>A data.frame: 6 x 19</caption>\n",
       "<thead>\n",
       "\t<tr><th></th><th scope=col>AdultEmerson</th><th scope=col>ChildEmerson</th><th scope=col>Leukemia</th><th scope=col>Lymphoma</th><th scope=col>Solidtumors</th><th scope=col>T-cellmalignancies</th><th scope=col>cohort</th><th scope=col>total</th><th scope=col>CMV</th><th scope=col>EBV</th><th scope=col>HPV</th><th scope=col>HCV</th><th scope=col>HomoSapiens</th><th scope=col>MCPyV</th><th scope=col>Influenca</th><th scope=col>tuberculosis</th><th scope=col>pneumoniae</th><th scope=col>Age</th><th scope=col>study</th></tr>\n",
       "\t<tr><th></th><th scope=col>&lt;int&gt;</th><th scope=col>&lt;int&gt;</th><th scope=col>&lt;int&gt;</th><th scope=col>&lt;int&gt;</th><th scope=col>&lt;int&gt;</th><th scope=col>&lt;int&gt;</th><th scope=col>&lt;chr&gt;</th><th scope=col>&lt;dbl&gt;</th><th scope=col>&lt;dbl&gt;</th><th scope=col>&lt;dbl&gt;</th><th scope=col>&lt;dbl&gt;</th><th scope=col>&lt;dbl&gt;</th><th scope=col>&lt;dbl&gt;</th><th scope=col>&lt;dbl&gt;</th><th scope=col>&lt;dbl&gt;</th><th scope=col>&lt;dbl&gt;</th><th scope=col>&lt;dbl&gt;</th><th scope=col>&lt;dbl&gt;</th><th scope=col>&lt;chr&gt;</th></tr>\n",
       "</thead>\n",
       "<tbody>\n",
       "\t<tr><th scope=row>CHP_347</th><td>0</td><td>0</td><td>3</td><td>0</td><td> 0</td><td>0</td><td>Leukemia   </td><td> 161</td><td>0.00000000</td><td>0.00000000</td><td>0.00000000</td><td>0.00000000</td><td>0.00000000</td><td>0.00000000</td><td>0</td><td>0</td><td>0.00000000</td><td>13</td><td>Leukemia   </td></tr>\n",
       "\t<tr><th scope=row>CHP_348</th><td>0</td><td>0</td><td>0</td><td>0</td><td> 2</td><td>0</td><td>Solidtumors</td><td>  23</td><td>0.86956522</td><td>0.00000000</td><td>0.86956522</td><td>0.00000000</td><td>0.00000000</td><td>0.00000000</td><td>0</td><td>0</td><td>0.00000000</td><td>18</td><td>Solidtumors</td></tr>\n",
       "\t<tr><th scope=row>CHP_350</th><td>0</td><td>0</td><td>0</td><td>0</td><td> 2</td><td>0</td><td>Solidtumors</td><td>  29</td><td>0.00000000</td><td>0.00000000</td><td>0.00000000</td><td>0.00000000</td><td>0.00000000</td><td>0.00000000</td><td>0</td><td>0</td><td>0.00000000</td><td> 1</td><td>Solidtumors</td></tr>\n",
       "\t<tr><th scope=row>CHP_357</th><td>0</td><td>0</td><td>4</td><td>0</td><td> 0</td><td>0</td><td>Leukemia   </td><td> 131</td><td>0.21374046</td><td>0.00000000</td><td>0.00000000</td><td>0.05343511</td><td>0.05343511</td><td>0.16030534</td><td>0</td><td>0</td><td>0.00000000</td><td> 1</td><td>Leukemia   </td></tr>\n",
       "\t<tr><th scope=row>CHP_362</th><td>0</td><td>0</td><td>0</td><td>0</td><td> 3</td><td>0</td><td>Solidtumors</td><td>  28</td><td>0.75000000</td><td>0.00000000</td><td>0.00000000</td><td>0.75000000</td><td>0.75000000</td><td>0.00000000</td><td>0</td><td>0</td><td>0.00000000</td><td>16</td><td>Solidtumors</td></tr>\n",
       "\t<tr><th scope=row>CHP_363</th><td>0</td><td>0</td><td>0</td><td>0</td><td>15</td><td>0</td><td>Solidtumors</td><td>2127</td><td>0.07616361</td><td>0.05735778</td><td>0.05735778</td><td>0.06582040</td><td>0.12317819</td><td>0.06252938</td><td>0</td><td>0</td><td>0.05218618</td><td>20</td><td>Solidtumors</td></tr>\n",
       "</tbody>\n",
       "</table>\n"
      ],
      "text/latex": [
       "A data.frame: 6 x 19\n",
       "\\begin{tabular}{r|lllllllllllllllllll}\n",
       "  & AdultEmerson & ChildEmerson & Leukemia & Lymphoma & Solidtumors & T-cellmalignancies & cohort & total & CMV & EBV & HPV & HCV & HomoSapiens & MCPyV & Influenca & tuberculosis & pneumoniae & Age & study\\\\\n",
       "  & <int> & <int> & <int> & <int> & <int> & <int> & <chr> & <dbl> & <dbl> & <dbl> & <dbl> & <dbl> & <dbl> & <dbl> & <dbl> & <dbl> & <dbl> & <dbl> & <chr>\\\\\n",
       "\\hline\n",
       "\tCHP\\_347 & 0 & 0 & 3 & 0 &  0 & 0 & Leukemia    &  161 & 0.00000000 & 0.00000000 & 0.00000000 & 0.00000000 & 0.00000000 & 0.00000000 & 0 & 0 & 0.00000000 & 13 & Leukemia   \\\\\n",
       "\tCHP\\_348 & 0 & 0 & 0 & 0 &  2 & 0 & Solidtumors &   23 & 0.86956522 & 0.00000000 & 0.86956522 & 0.00000000 & 0.00000000 & 0.00000000 & 0 & 0 & 0.00000000 & 18 & Solidtumors\\\\\n",
       "\tCHP\\_350 & 0 & 0 & 0 & 0 &  2 & 0 & Solidtumors &   29 & 0.00000000 & 0.00000000 & 0.00000000 & 0.00000000 & 0.00000000 & 0.00000000 & 0 & 0 & 0.00000000 &  1 & Solidtumors\\\\\n",
       "\tCHP\\_357 & 0 & 0 & 4 & 0 &  0 & 0 & Leukemia    &  131 & 0.21374046 & 0.00000000 & 0.00000000 & 0.05343511 & 0.05343511 & 0.16030534 & 0 & 0 & 0.00000000 &  1 & Leukemia   \\\\\n",
       "\tCHP\\_362 & 0 & 0 & 0 & 0 &  3 & 0 & Solidtumors &   28 & 0.75000000 & 0.00000000 & 0.00000000 & 0.75000000 & 0.75000000 & 0.00000000 & 0 & 0 & 0.00000000 & 16 & Solidtumors\\\\\n",
       "\tCHP\\_363 & 0 & 0 & 0 & 0 & 15 & 0 & Solidtumors & 2127 & 0.07616361 & 0.05735778 & 0.05735778 & 0.06582040 & 0.12317819 & 0.06252938 & 0 & 0 & 0.05218618 & 20 & Solidtumors\\\\\n",
       "\\end{tabular}\n"
      ],
      "text/markdown": [
       "\n",
       "A data.frame: 6 x 19\n",
       "\n",
       "| <!--/--> | AdultEmerson &lt;int&gt; | ChildEmerson &lt;int&gt; | Leukemia &lt;int&gt; | Lymphoma &lt;int&gt; | Solidtumors &lt;int&gt; | T-cellmalignancies &lt;int&gt; | cohort &lt;chr&gt; | total &lt;dbl&gt; | CMV &lt;dbl&gt; | EBV &lt;dbl&gt; | HPV &lt;dbl&gt; | HCV &lt;dbl&gt; | HomoSapiens &lt;dbl&gt; | MCPyV &lt;dbl&gt; | Influenca &lt;dbl&gt; | tuberculosis &lt;dbl&gt; | pneumoniae &lt;dbl&gt; | Age &lt;dbl&gt; | study &lt;chr&gt; |\n",
       "|---|---|---|---|---|---|---|---|---|---|---|---|---|---|---|---|---|---|---|---|\n",
       "| CHP_347 | 0 | 0 | 3 | 0 |  0 | 0 | Leukemia    |  161 | 0.00000000 | 0.00000000 | 0.00000000 | 0.00000000 | 0.00000000 | 0.00000000 | 0 | 0 | 0.00000000 | 13 | Leukemia    |\n",
       "| CHP_348 | 0 | 0 | 0 | 0 |  2 | 0 | Solidtumors |   23 | 0.86956522 | 0.00000000 | 0.86956522 | 0.00000000 | 0.00000000 | 0.00000000 | 0 | 0 | 0.00000000 | 18 | Solidtumors |\n",
       "| CHP_350 | 0 | 0 | 0 | 0 |  2 | 0 | Solidtumors |   29 | 0.00000000 | 0.00000000 | 0.00000000 | 0.00000000 | 0.00000000 | 0.00000000 | 0 | 0 | 0.00000000 |  1 | Solidtumors |\n",
       "| CHP_357 | 0 | 0 | 4 | 0 |  0 | 0 | Leukemia    |  131 | 0.21374046 | 0.00000000 | 0.00000000 | 0.05343511 | 0.05343511 | 0.16030534 | 0 | 0 | 0.00000000 |  1 | Leukemia    |\n",
       "| CHP_362 | 0 | 0 | 0 | 0 |  3 | 0 | Solidtumors |   28 | 0.75000000 | 0.00000000 | 0.00000000 | 0.75000000 | 0.75000000 | 0.00000000 | 0 | 0 | 0.00000000 | 16 | Solidtumors |\n",
       "| CHP_363 | 0 | 0 | 0 | 0 | 15 | 0 | Solidtumors | 2127 | 0.07616361 | 0.05735778 | 0.05735778 | 0.06582040 | 0.12317819 | 0.06252938 | 0 | 0 | 0.05218618 | 20 | Solidtumors |\n",
       "\n"
      ],
      "text/plain": [
       "        AdultEmerson ChildEmerson Leukemia Lymphoma Solidtumors\n",
       "CHP_347 0            0            3        0         0         \n",
       "CHP_348 0            0            0        0         2         \n",
       "CHP_350 0            0            0        0         2         \n",
       "CHP_357 0            0            4        0         0         \n",
       "CHP_362 0            0            0        0         3         \n",
       "CHP_363 0            0            0        0        15         \n",
       "        T-cellmalignancies cohort      total CMV        EBV        HPV       \n",
       "CHP_347 0                  Leukemia     161  0.00000000 0.00000000 0.00000000\n",
       "CHP_348 0                  Solidtumors   23  0.86956522 0.00000000 0.86956522\n",
       "CHP_350 0                  Solidtumors   29  0.00000000 0.00000000 0.00000000\n",
       "CHP_357 0                  Leukemia     131  0.21374046 0.00000000 0.00000000\n",
       "CHP_362 0                  Solidtumors   28  0.75000000 0.00000000 0.00000000\n",
       "CHP_363 0                  Solidtumors 2127  0.07616361 0.05735778 0.05735778\n",
       "        HCV        HomoSapiens MCPyV      Influenca tuberculosis pneumoniae Age\n",
       "CHP_347 0.00000000 0.00000000  0.00000000 0         0            0.00000000 13 \n",
       "CHP_348 0.00000000 0.00000000  0.00000000 0         0            0.00000000 18 \n",
       "CHP_350 0.00000000 0.00000000  0.00000000 0         0            0.00000000  1 \n",
       "CHP_357 0.05343511 0.05343511  0.16030534 0         0            0.00000000  1 \n",
       "CHP_362 0.75000000 0.75000000  0.00000000 0         0            0.00000000 16 \n",
       "CHP_363 0.06582040 0.12317819  0.06252938 0         0            0.05218618 20 \n",
       "        study      \n",
       "CHP_347 Leukemia   \n",
       "CHP_348 Solidtumors\n",
       "CHP_350 Solidtumors\n",
       "CHP_357 Leukemia   \n",
       "CHP_362 Solidtumors\n",
       "CHP_363 Solidtumors"
      ]
     },
     "metadata": {},
     "output_type": "display_data"
    }
   ],
   "source": [
    "head(pat_tab_1)"
   ]
  },
  {
   "cell_type": "code",
   "execution_count": 49,
   "metadata": {
    "vscode": {
     "languageId": "r"
    }
   },
   "outputs": [
    {
     "name": "stderr",
     "output_type": "stream",
     "text": [
      "Using study as id variables\n",
      "\n",
      "Using study as id variables\n",
      "\n",
      "Using cohort as id variables\n",
      "\n",
      "Using cohort as id variables\n",
      "\n",
      "Using cohort as id variables\n",
      "\n"
     ]
    }
   ],
   "source": [
    "pat_tab_1m <- reshape2::melt(pat_tab_1[,c(19, 9:17)]) #study\n",
    "pat_tab_2m <- reshape2::melt(pat_tab_2[,c(19, 9:17)]) # study\n",
    "pat_tab_3m <- reshape2::melt(pat_tab_3[,c(7, 9:17)])\n",
    "pat_tab_4m <- reshape2::melt(pat_tab_4[,c(6, 8:16)])\n",
    "pat_tab_5m <- reshape2::melt(pat_tab_5[,c(7, 9:17)])"
   ]
  },
  {
   "cell_type": "code",
   "execution_count": 50,
   "metadata": {
    "vscode": {
     "languageId": "r"
    }
   },
   "outputs": [
    {
     "data": {
      "text/html": [
       "<table class=\"dataframe\">\n",
       "<caption>A data.frame: 6 x 3</caption>\n",
       "<thead>\n",
       "\t<tr><th></th><th scope=col>study</th><th scope=col>variable</th><th scope=col>value</th></tr>\n",
       "\t<tr><th></th><th scope=col>&lt;chr&gt;</th><th scope=col>&lt;fct&gt;</th><th scope=col>&lt;dbl&gt;</th></tr>\n",
       "</thead>\n",
       "<tbody>\n",
       "\t<tr><th scope=row>1</th><td>Leukemia   </td><td>CMV</td><td>0.00000000</td></tr>\n",
       "\t<tr><th scope=row>2</th><td>Solidtumors</td><td>CMV</td><td>0.86956522</td></tr>\n",
       "\t<tr><th scope=row>3</th><td>Solidtumors</td><td>CMV</td><td>0.00000000</td></tr>\n",
       "\t<tr><th scope=row>4</th><td>Leukemia   </td><td>CMV</td><td>0.21374046</td></tr>\n",
       "\t<tr><th scope=row>5</th><td>Solidtumors</td><td>CMV</td><td>0.75000000</td></tr>\n",
       "\t<tr><th scope=row>6</th><td>Solidtumors</td><td>CMV</td><td>0.07616361</td></tr>\n",
       "</tbody>\n",
       "</table>\n"
      ],
      "text/latex": [
       "A data.frame: 6 x 3\n",
       "\\begin{tabular}{r|lll}\n",
       "  & study & variable & value\\\\\n",
       "  & <chr> & <fct> & <dbl>\\\\\n",
       "\\hline\n",
       "\t1 & Leukemia    & CMV & 0.00000000\\\\\n",
       "\t2 & Solidtumors & CMV & 0.86956522\\\\\n",
       "\t3 & Solidtumors & CMV & 0.00000000\\\\\n",
       "\t4 & Leukemia    & CMV & 0.21374046\\\\\n",
       "\t5 & Solidtumors & CMV & 0.75000000\\\\\n",
       "\t6 & Solidtumors & CMV & 0.07616361\\\\\n",
       "\\end{tabular}\n"
      ],
      "text/markdown": [
       "\n",
       "A data.frame: 6 x 3\n",
       "\n",
       "| <!--/--> | study &lt;chr&gt; | variable &lt;fct&gt; | value &lt;dbl&gt; |\n",
       "|---|---|---|---|\n",
       "| 1 | Leukemia    | CMV | 0.00000000 |\n",
       "| 2 | Solidtumors | CMV | 0.86956522 |\n",
       "| 3 | Solidtumors | CMV | 0.00000000 |\n",
       "| 4 | Leukemia    | CMV | 0.21374046 |\n",
       "| 5 | Solidtumors | CMV | 0.75000000 |\n",
       "| 6 | Solidtumors | CMV | 0.07616361 |\n",
       "\n"
      ],
      "text/plain": [
       "  study       variable value     \n",
       "1 Leukemia    CMV      0.00000000\n",
       "2 Solidtumors CMV      0.86956522\n",
       "3 Solidtumors CMV      0.00000000\n",
       "4 Leukemia    CMV      0.21374046\n",
       "5 Solidtumors CMV      0.75000000\n",
       "6 Solidtumors CMV      0.07616361"
      ]
     },
     "metadata": {},
     "output_type": "display_data"
    }
   ],
   "source": [
    "head(pat_tab_1m)"
   ]
  },
  {
   "cell_type": "code",
   "execution_count": 51,
   "metadata": {
    "vscode": {
     "languageId": "r"
    }
   },
   "outputs": [],
   "source": [
    "pat_tab_1m$study[ pat_tab_1m$study == \"Solidtumors\"] <- \"Solid tumors\"\n",
    "pat_tab_2m$study[ pat_tab_2m$study == \"Solidtumors\"] <- \"Solid tumors\"\n",
    "pat_tab_3m$cohort[ pat_tab_3m$cohort == \"Solidtumors\"] <- \"Solid tumors\"\n",
    "pat_tab_4m$cohort[ pat_tab_4m$cohort == \"Solidtumors\"] <- \"Solid tumors\"\n",
    "pat_tab_5m$cohort[ pat_tab_5m$cohort == \"Solidtumors\"] <- \"Solid tumors\"\n",
    "\n",
    "# pat_tab_m$cohort[ pat_tab_m$cohort == \"T-cellmalignancies\"] <- \"T-cell malignancies\""
   ]
  },
  {
   "cell_type": "code",
   "execution_count": 52,
   "metadata": {
    "vscode": {
     "languageId": "r"
    }
   },
   "outputs": [
    {
     "data": {
      "text/html": [
       "<style>\n",
       ".dl-inline {width: auto; margin:0; padding: 0}\n",
       ".dl-inline>dt, .dl-inline>dd {float: none; width: auto; display: inline-block}\n",
       ".dl-inline>dt::after {content: \":\\0020\"; padding-right: .5ex}\n",
       ".dl-inline>dt:not(:first-of-type) {padding-left: .5ex}\n",
       "</style><dl class=dl-inline><dt>Leukemia</dt><dd>'#1B9E77'</dd><dt>Lymphoma</dt><dd>'#D95F02'</dd><dt>Solid tumors</dt><dd>'#7570B3'</dd><dt>T-cell malignancies</dt><dd>'#2171b5'</dd><dt>LFS</dt><dd>'black'</dd><dt>Normal</dt><dd>'light grey'</dd></dl>\n"
      ],
      "text/latex": [
       "\\begin{description*}\n",
       "\\item[Leukemia] '\\#1B9E77'\n",
       "\\item[Lymphoma] '\\#D95F02'\n",
       "\\item[Solid tumors] '\\#7570B3'\n",
       "\\item[T-cell malignancies] '\\#2171b5'\n",
       "\\item[LFS] 'black'\n",
       "\\item[Normal] 'light grey'\n",
       "\\end{description*}\n"
      ],
      "text/markdown": [
       "Leukemia\n",
       ":   '#1B9E77'Lymphoma\n",
       ":   '#D95F02'Solid tumors\n",
       ":   '#7570B3'T-cell malignancies\n",
       ":   '#2171b5'LFS\n",
       ":   'black'Normal\n",
       ":   'light grey'\n",
       "\n"
      ],
      "text/plain": [
       "           Leukemia            Lymphoma        Solid tumors T-cell malignancies \n",
       "          \"#1B9E77\"           \"#D95F02\"           \"#7570B3\"           \"#2171b5\" \n",
       "                LFS              Normal \n",
       "            \"black\"        \"light grey\" "
      ]
     },
     "metadata": {},
     "output_type": "display_data"
    }
   ],
   "source": [
    "group_col"
   ]
  },
  {
   "cell_type": "code",
   "execution_count": 53,
   "metadata": {
    "vscode": {
     "languageId": "r"
    }
   },
   "outputs": [],
   "source": [
    "# group_col <- c(group_col, \"white\", \"light grey\")\n",
    "names(group_col)[ names(group_col) == \"Normal\"] <- \"Healthy\""
   ]
  },
  {
   "cell_type": "code",
   "execution_count": 54,
   "metadata": {
    "vscode": {
     "languageId": "r"
    }
   },
   "outputs": [],
   "source": [
    "# names(group_col)[8] <- c(\"AdultEmerson\", \"ChildEmerson\")"
   ]
  },
  {
   "cell_type": "code",
   "execution_count": 55,
   "metadata": {
    "vscode": {
     "languageId": "r"
    }
   },
   "outputs": [
    {
     "data": {
      "text/plain": [
       "\n",
       "     Healthy     Leukemia     Lymphoma Solid tumors \n",
       "        1944          144           36           90 "
      ]
     },
     "metadata": {},
     "output_type": "display_data"
    }
   ],
   "source": [
    "table(pat_tab_1m$study)"
   ]
  },
  {
   "cell_type": "code",
   "execution_count": 56,
   "metadata": {
    "vscode": {
     "languageId": "r"
    }
   },
   "outputs": [],
   "source": [
    "pat_tab_1m <- pat_tab_1m[! pat_tab_1m$variable %in% c(\"Influenca\", \"tuberculosis\", \"pneumoniae\"),]\n",
    "pat_tab_2m <- pat_tab_2m[! pat_tab_2m$variable %in% c(\"Influenca\", \"tuberculosis\", \"pneumoniae\"),]\n",
    "pat_tab_3m <- pat_tab_3m[! pat_tab_3m$variable %in% c(\"Influenca\", \"tuberculosis\", \"pneumoniae\"),]\n",
    "pat_tab_4m <- pat_tab_4m[! pat_tab_4m$variable %in% c(\"Influenca\", \"tuberculosis\", \"pneumoniae\"),]\n",
    "pat_tab_5m <- pat_tab_5m[! pat_tab_5m$variable %in% c(\"Influenca\", \"tuberculosis\", \"pneumoniae\"),]"
   ]
  },
  {
   "cell_type": "code",
   "execution_count": 57,
   "metadata": {
    "vscode": {
     "languageId": "r"
    }
   },
   "outputs": [
    {
     "data": {
      "text/html": [
       "<table class=\"dataframe\">\n",
       "<caption>A data.frame: 6 x 3</caption>\n",
       "<thead>\n",
       "\t<tr><th></th><th scope=col>study</th><th scope=col>variable</th><th scope=col>value</th></tr>\n",
       "\t<tr><th></th><th scope=col>&lt;chr&gt;</th><th scope=col>&lt;fct&gt;</th><th scope=col>&lt;dbl&gt;</th></tr>\n",
       "</thead>\n",
       "<tbody>\n",
       "\t<tr><th scope=row>1</th><td>Leukemia    </td><td>CMV</td><td>0.00000000</td></tr>\n",
       "\t<tr><th scope=row>2</th><td>Solid tumors</td><td>CMV</td><td>0.86956522</td></tr>\n",
       "\t<tr><th scope=row>3</th><td>Solid tumors</td><td>CMV</td><td>0.00000000</td></tr>\n",
       "\t<tr><th scope=row>4</th><td>Leukemia    </td><td>CMV</td><td>0.21374046</td></tr>\n",
       "\t<tr><th scope=row>5</th><td>Solid tumors</td><td>CMV</td><td>0.75000000</td></tr>\n",
       "\t<tr><th scope=row>6</th><td>Solid tumors</td><td>CMV</td><td>0.07616361</td></tr>\n",
       "</tbody>\n",
       "</table>\n"
      ],
      "text/latex": [
       "A data.frame: 6 x 3\n",
       "\\begin{tabular}{r|lll}\n",
       "  & study & variable & value\\\\\n",
       "  & <chr> & <fct> & <dbl>\\\\\n",
       "\\hline\n",
       "\t1 & Leukemia     & CMV & 0.00000000\\\\\n",
       "\t2 & Solid tumors & CMV & 0.86956522\\\\\n",
       "\t3 & Solid tumors & CMV & 0.00000000\\\\\n",
       "\t4 & Leukemia     & CMV & 0.21374046\\\\\n",
       "\t5 & Solid tumors & CMV & 0.75000000\\\\\n",
       "\t6 & Solid tumors & CMV & 0.07616361\\\\\n",
       "\\end{tabular}\n"
      ],
      "text/markdown": [
       "\n",
       "A data.frame: 6 x 3\n",
       "\n",
       "| <!--/--> | study &lt;chr&gt; | variable &lt;fct&gt; | value &lt;dbl&gt; |\n",
       "|---|---|---|---|\n",
       "| 1 | Leukemia     | CMV | 0.00000000 |\n",
       "| 2 | Solid tumors | CMV | 0.86956522 |\n",
       "| 3 | Solid tumors | CMV | 0.00000000 |\n",
       "| 4 | Leukemia     | CMV | 0.21374046 |\n",
       "| 5 | Solid tumors | CMV | 0.75000000 |\n",
       "| 6 | Solid tumors | CMV | 0.07616361 |\n",
       "\n"
      ],
      "text/plain": [
       "  study        variable value     \n",
       "1 Leukemia     CMV      0.00000000\n",
       "2 Solid tumors CMV      0.86956522\n",
       "3 Solid tumors CMV      0.00000000\n",
       "4 Leukemia     CMV      0.21374046\n",
       "5 Solid tumors CMV      0.75000000\n",
       "6 Solid tumors CMV      0.07616361"
      ]
     },
     "metadata": {},
     "output_type": "display_data"
    }
   ],
   "source": [
    "head(pat_tab_1m)"
   ]
  },
  {
   "cell_type": "code",
   "execution_count": 58,
   "metadata": {
    "vscode": {
     "languageId": "r"
    }
   },
   "outputs": [],
   "source": [
    "comp_plot1 <- ggplot(data = pat_tab_1m, aes(x = variable, y = value, fill = study)) + \n",
    "geom_boxplot(outlier.color = NA, position = \"dodge\") + \n",
    "myplot + myaxis + \n",
    "theme(axis.title.x = element_blank()) +\n",
    " scale_fill_manual(values = group_col) +\n",
    "#  geom_signif(annotation=\"0.04\",y_position= 1.1, xmin= 4.7, xmax=5, textsize = 5, vjust = 0) + \n",
    "#  geom_signif(annotation=\"0.03\",y_position= 1.1, xmin= 2.7, xmax=3, textsize = 5, vjust = 0) +\n",
    " ggtitle(~underline(\"Pre-therapy (n = 246)\")) + \n",
    "labs(y = \"TCR frequencies in components\\nwith antigen annotation\")"
   ]
  },
  {
   "cell_type": "code",
   "execution_count": 59,
   "metadata": {
    "vscode": {
     "languageId": "r"
    }
   },
   "outputs": [
    {
     "data": {
      "image/png": "[encoded data removed]",
      "text/plain": [
       "plot without title"
      ]
     },
     "metadata": {
      "image/png": {
       "height": 420,
       "width": 420
      }
     },
     "output_type": "display_data"
    }
   ],
   "source": [
    "comp_plot1"
   ]
  },
  {
   "cell_type": "code",
   "execution_count": 60,
   "metadata": {
    "vscode": {
     "languageId": "r"
    }
   },
   "outputs": [],
   "source": [
    "comp_plot2 <- ggplot(data = pat_tab_2m, aes(x = variable, y = value, fill = study)) + \n",
    "geom_boxplot(outlier.color = NA, position = \"dodge\") + \n",
    "myplot + myaxis + \n",
    "theme(axis.title.x = element_blank()) +\n",
    " scale_fill_manual(values = group_col) +\n",
    "# geom_signif(annotation=\"0.06\",y_position= 1.05, xmin= 5.9, xmax=6., textsize = 5, vjust = 0) + \n",
    "# geom_signif(annotation=\"**\",y_position= 0.3, xmin= 2.9, xmax=3.1, textsize = 10, vjust = 0.5) +\n",
    "ggtitle(~underline(\"Pre-cycle 2 (n = 252)\")) + \n",
    "labs(y = \"TCR frequencies in components\\nwith antigen annotation\")"
   ]
  },
  {
   "cell_type": "code",
   "execution_count": 61,
   "metadata": {
    "vscode": {
     "languageId": "r"
    }
   },
   "outputs": [
    {
     "data": {
      "image/png": "[encoded data removed]",
      "text/plain": [
       "plot without title"
      ]
     },
     "metadata": {
      "image/png": {
       "height": 420,
       "width": 420
      }
     },
     "output_type": "display_data"
    }
   ],
   "source": [
    "comp_plot2"
   ]
  },
  {
   "cell_type": "code",
   "execution_count": 62,
   "metadata": {
    "vscode": {
     "languageId": "r"
    }
   },
   "outputs": [],
   "source": [
    "# pat_tab <- pat_tab[ pat_tab$cohort != \"T-cellmalignancies\",]"
   ]
  },
  {
   "cell_type": "code",
   "execution_count": 63,
   "metadata": {
    "vscode": {
     "languageId": "r"
    }
   },
   "outputs": [
    {
     "data": {
      "text/plain": [
       "$Healthy\n",
       "   Min. 1st Qu.  Median    Mean 3rd Qu.    Max. \n",
       "0.00000 0.05785 0.38235 0.40306 0.62979 1.00000 \n",
       "\n",
       "$Leukemia\n",
       "   Min. 1st Qu.  Median    Mean 3rd Qu.    Max. \n",
       "0.00000 0.00000 0.00947 0.15290 0.25921 0.86047 \n",
       "\n",
       "$Lymphoma\n",
       "   Min. 1st Qu.  Median    Mean 3rd Qu.    Max. \n",
       " 0.0000  0.1036  0.1584  0.2153  0.2701  0.5446 \n",
       "\n",
       "$Solidtumors\n",
       "   Min. 1st Qu.  Median    Mean 3rd Qu.    Max. \n",
       "0.00000 0.01434 0.50465 0.41084 0.68626 0.86957 \n"
      ]
     },
     "metadata": {},
     "output_type": "display_data"
    }
   ],
   "source": [
    "tapply(pat_tab_1$HPV, pat_tab_1$study, summary)"
   ]
  },
  {
   "cell_type": "code",
   "execution_count": 64,
   "metadata": {
    "vscode": {
     "languageId": "r"
    }
   },
   "outputs": [],
   "source": [
    "# tapply(pat_tab_1$HPV, pat_tab_1$cohort, summary)"
   ]
  },
  {
   "cell_type": "code",
   "execution_count": 65,
   "metadata": {
    "vscode": {
     "languageId": "r"
    }
   },
   "outputs": [],
   "source": [
    "myantigens <- c(\"CMV\", \"EBV\", \"Influenca\", \"HCV\", \"HPV\", \"MCPyV\", \"HomoSapiens\")"
   ]
  },
  {
   "cell_type": "code",
   "execution_count": 66,
   "metadata": {
    "vscode": {
     "languageId": "r"
    }
   },
   "outputs": [
    {
     "data": {
      "text/plain": [
       "\n",
       "AdultEmerson ChildEmerson     Leukemia     Lymphoma  Solidtumors \n",
       "         200           16           16            4           10 "
      ]
     },
     "metadata": {},
     "output_type": "display_data"
    }
   ],
   "source": [
    "table(pat_tab_1$cohort)"
   ]
  },
  {
   "cell_type": "code",
   "execution_count": 67,
   "metadata": {
    "vscode": {
     "languageId": "r"
    }
   },
   "outputs": [],
   "source": [
    "lmtest_mat <- as.data.frame(matrix(NA, nrow = 0, ncol = 6))\n",
    "colnames(lmtest_mat) <- c(\"antigen\", \"group\", \"coefficient\", \"lower.95\", \"upper.95\", \"p\")"
   ]
  },
  {
   "cell_type": "code",
   "execution_count": 68,
   "metadata": {
    "vscode": {
     "languageId": "r"
    }
   },
   "outputs": [
    {
     "name": "stdout",
     "output_type": "stream",
     "text": [
      "[1] \"CMV\"\n",
      "[1] \"EBV\"\n",
      "[1] \"Influenca\"\n",
      "[1] \"HCV\"\n",
      "[1] \"HPV\"\n",
      "[1] \"MCPyV\"\n",
      "[1] \"HomoSapiens\"\n"
     ]
    }
   ],
   "source": [
    "for (i in myantigens) {\n",
    "    print(i)\n",
    "    myformula <- paste0(i, \"~study+Age\")\n",
    "    myfit <- aov(as.formula(myformula), pat_tab_1)\n",
    "suml <- summary.lm(myfit)\n",
    "mymat <- as.data.frame(matrix(NA, nrow = 3, ncol = 6))\n",
    "colnames(mymat) <- c(\"antigen\", \"group\", \"coefficient\", \"lower.95\", \"upper.95\", \"p\")\n",
    "mymat$antigen <- i\n",
    "mymat$group <- rownames(suml$coefficients)[2:4]\n",
    "mymat$coefficient <- suml$coefficients[2:4,1]\n",
    "mymat$p <- suml$coefficients[2:4,4]\n",
    "\n",
    "myCI <- confint(myfit, level = 0.95)\n",
    "mymat$lower.95 <- myCI[2:4,1]\n",
    "mymat$upper.95 <- myCI[2:4,2]\n",
    "\n",
    "    lmtest_mat <- rbind(lmtest_mat, mymat)\n",
    "}"
   ]
  },
  {
   "cell_type": "code",
   "execution_count": 69,
   "metadata": {
    "vscode": {
     "languageId": "r"
    }
   },
   "outputs": [],
   "source": [
    "# lmtest_mat"
   ]
  },
  {
   "cell_type": "code",
   "execution_count": 70,
   "metadata": {
    "vscode": {
     "languageId": "r"
    }
   },
   "outputs": [
    {
     "data": {
      "text/html": [
       "<table class=\"dataframe\">\n",
       "<caption>A data.frame: 2 x 6</caption>\n",
       "<thead>\n",
       "\t<tr><th></th><th scope=col>antigen</th><th scope=col>group</th><th scope=col>coefficient</th><th scope=col>lower.95</th><th scope=col>upper.95</th><th scope=col>p</th></tr>\n",
       "\t<tr><th></th><th scope=col>&lt;chr&gt;</th><th scope=col>&lt;chr&gt;</th><th scope=col>&lt;dbl&gt;</th><th scope=col>&lt;dbl&gt;</th><th scope=col>&lt;dbl&gt;</th><th scope=col>&lt;dbl&gt;</th></tr>\n",
       "</thead>\n",
       "<tbody>\n",
       "\t<tr><th scope=row>4</th><td>EBV</td><td>studyLeukemia</td><td>-0.2258954</td><td>-0.4270108</td><td>-0.02478004</td><td>0.02786545</td></tr>\n",
       "\t<tr><th scope=row>13</th><td>HPV</td><td>studyLeukemia</td><td>-0.2481101</td><td>-0.4501435</td><td>-0.04607683</td><td>0.01629997</td></tr>\n",
       "</tbody>\n",
       "</table>\n"
      ],
      "text/latex": [
       "A data.frame: 2 x 6\n",
       "\\begin{tabular}{r|llllll}\n",
       "  & antigen & group & coefficient & lower.95 & upper.95 & p\\\\\n",
       "  & <chr> & <chr> & <dbl> & <dbl> & <dbl> & <dbl>\\\\\n",
       "\\hline\n",
       "\t4 & EBV & studyLeukemia & -0.2258954 & -0.4270108 & -0.02478004 & 0.02786545\\\\\n",
       "\t13 & HPV & studyLeukemia & -0.2481101 & -0.4501435 & -0.04607683 & 0.01629997\\\\\n",
       "\\end{tabular}\n"
      ],
      "text/markdown": [
       "\n",
       "A data.frame: 2 x 6\n",
       "\n",
       "| <!--/--> | antigen &lt;chr&gt; | group &lt;chr&gt; | coefficient &lt;dbl&gt; | lower.95 &lt;dbl&gt; | upper.95 &lt;dbl&gt; | p &lt;dbl&gt; |\n",
       "|---|---|---|---|---|---|---|\n",
       "| 4 | EBV | studyLeukemia | -0.2258954 | -0.4270108 | -0.02478004 | 0.02786545 |\n",
       "| 13 | HPV | studyLeukemia | -0.2481101 | -0.4501435 | -0.04607683 | 0.01629997 |\n",
       "\n"
      ],
      "text/plain": [
       "   antigen group         coefficient lower.95   upper.95    p         \n",
       "4  EBV     studyLeukemia -0.2258954  -0.4270108 -0.02478004 0.02786545\n",
       "13 HPV     studyLeukemia -0.2481101  -0.4501435 -0.04607683 0.01629997"
      ]
     },
     "metadata": {},
     "output_type": "display_data"
    }
   ],
   "source": [
    "sig_lmtest_mat <- lmtest_mat[ which(lmtest_mat$p < 0.05),]\n",
    "sig_lmtest_mat\n",
    "sig_lmtest_mat$p.val <- sapply(sig_lmtest_mat$p, function(x) round_and_format(x) )"
   ]
  },
  {
   "cell_type": "code",
   "execution_count": 71,
   "metadata": {
    "vscode": {
     "languageId": "r"
    }
   },
   "outputs": [],
   "source": [
    "sig_lmtest_mat$study <- NA\n",
    "sig_lmtest_mat$study <- gsub(\"study\", \"\", sig_lmtest_mat$group)"
   ]
  },
  {
   "cell_type": "code",
   "execution_count": 72,
   "metadata": {
    "vscode": {
     "languageId": "r"
    }
   },
   "outputs": [
    {
     "name": "stderr",
     "output_type": "stream",
     "text": [
      "Warning message in ggsignif::geom_signif(data = sig_lmtest_mat, aes(xmin = c(1.7, :\n",
      "\"\u001b[1m\u001b[22mIgnoring unknown aesthetics: \u001b[32mxmin\u001b[39m, \u001b[32mxmax\u001b[39m, \u001b[32mannotations\u001b[39m, and \u001b[32my_position\u001b[39m\"\n"
     ]
    }
   ],
   "source": [
    "comp_plot1 <- comp_plot1 + ggsignif::geom_signif(\n",
    "            data = sig_lmtest_mat,\n",
    "            aes(xmin = c(1.7,2.7), xmax = c(1.9,2.9), annotations = p.val, y_position = 1.1),\n",
    "            textsize = 3, vjust = -0.2, color = \"black\",\n",
    "            manual = TRUE\n",
    "        )"
   ]
  },
  {
   "cell_type": "code",
   "execution_count": 73,
   "metadata": {
    "vscode": {
     "languageId": "r"
    }
   },
   "outputs": [
    {
     "data": {
      "text/html": [
       "<strong>pdf:</strong> 2"
      ],
      "text/latex": [
       "\\textbf{pdf:} 2"
      ],
      "text/markdown": [
       "**pdf:** 2"
      ],
      "text/plain": [
       "pdf \n",
       "  2 "
      ]
     },
     "metadata": {},
     "output_type": "display_data"
    }
   ],
   "source": [
    "pdf(paste0(plotpath, \"comp_plot_pbmc_x01.pdf\"), width = 10, height = 5)\n",
    "cowplot::plot_grid(comp_plot1, labels= \"F\")\n",
    "dev.off()"
   ]
  },
  {
   "cell_type": "code",
   "execution_count": null,
   "metadata": {
    "vscode": {
     "languageId": "r"
    }
   },
   "outputs": [],
   "source": []
  },
  {
   "cell_type": "code",
   "execution_count": 74,
   "metadata": {
    "vscode": {
     "languageId": "r"
    }
   },
   "outputs": [],
   "source": [
    "lmtest_mat <- as.data.frame(matrix(NA, nrow = 0, ncol = 6))\n",
    "colnames(lmtest_mat) <- c(\"antigen\", \"group\", \"coefficient\", \"lower.95\", \"upper.95\", \"p\")"
   ]
  },
  {
   "cell_type": "code",
   "execution_count": 75,
   "metadata": {
    "vscode": {
     "languageId": "r"
    }
   },
   "outputs": [
    {
     "name": "stdout",
     "output_type": "stream",
     "text": [
      "[1] \"CMV\"\n",
      "[1] \"EBV\"\n",
      "[1] \"Influenca\"\n",
      "[1] \"HCV\"\n",
      "[1] \"HPV\"\n",
      "[1] \"MCPyV\"\n",
      "[1] \"HomoSapiens\"\n"
     ]
    }
   ],
   "source": [
    "for (i in myantigens) {\n",
    "    print(i)\n",
    "    myformula <- paste0(i, \"~study+Age\")\n",
    "    myfit <- aov(as.formula(myformula), pat_tab_2)\n",
    "    suml <- summary.lm(myfit)\n",
    "    mymat <- as.data.frame(matrix(NA, nrow = 3, ncol = 6))\n",
    "    colnames(mymat) <- c(\"antigen\", \"group\", \"coefficient\", \"lower.95\", \"upper.95\", \"p\")\n",
    "    mymat$antigen <- i\n",
    "    mymat$group <- rownames(suml$coefficients)[2:4]\n",
    "    mymat$coefficient <- suml$coefficients[2:4, 1]\n",
    "    mymat$p <- suml$coefficients[2:4, 4]\n",
    "\n",
    "    myCI <- confint(myfit, level = 0.95)\n",
    "    mymat$lower.95 <- myCI[2:4, 1]\n",
    "    mymat$upper.95 <- myCI[2:4, 2]\n",
    "\n",
    "    lmtest_mat <- rbind(lmtest_mat, mymat)\n",
    "}\n"
   ]
  },
  {
   "cell_type": "code",
   "execution_count": 76,
   "metadata": {
    "vscode": {
     "languageId": "r"
    }
   },
   "outputs": [
    {
     "data": {
      "text/html": [
       "<table class=\"dataframe\">\n",
       "<caption>A data.frame: 21 x 6</caption>\n",
       "<thead>\n",
       "\t<tr><th scope=col>antigen</th><th scope=col>group</th><th scope=col>coefficient</th><th scope=col>lower.95</th><th scope=col>upper.95</th><th scope=col>p</th></tr>\n",
       "\t<tr><th scope=col>&lt;chr&gt;</th><th scope=col>&lt;chr&gt;</th><th scope=col>&lt;dbl&gt;</th><th scope=col>&lt;dbl&gt;</th><th scope=col>&lt;dbl&gt;</th><th scope=col>&lt;dbl&gt;</th></tr>\n",
       "</thead>\n",
       "<tbody>\n",
       "\t<tr><td>CMV        </td><td>studyLeukemia   </td><td>-0.06649750</td><td>-0.24259179</td><td>0.10959680</td><td>0.45771982</td></tr>\n",
       "\t<tr><td>CMV        </td><td>studyLymphoma   </td><td>-0.06190987</td><td>-0.35273485</td><td>0.22891511</td><td>0.67537216</td></tr>\n",
       "\t<tr><td>CMV        </td><td>studySolidtumors</td><td>-0.09956393</td><td>-0.30576737</td><td>0.10663951</td><td>0.34252636</td></tr>\n",
       "\t<tr><td>EBV        </td><td>studyLeukemia   </td><td> 0.06937101</td><td>-0.12032612</td><td>0.25906813</td><td>0.47203656</td></tr>\n",
       "\t<tr><td>EBV        </td><td>studyLymphoma   </td><td> 0.02936075</td><td>-0.28392972</td><td>0.34265122</td><td>0.85370440</td></tr>\n",
       "\t<tr><td>EBV        </td><td>studySolidtumors</td><td>-0.06726207</td><td>-0.28939420</td><td>0.15487007</td><td>0.55145197</td></tr>\n",
       "\t<tr><td>Influenca  </td><td>studyLeukemia   </td><td> 0.00000000</td><td> 0.00000000</td><td>0.00000000</td><td>       NaN</td></tr>\n",
       "\t<tr><td>Influenca  </td><td>studyLymphoma   </td><td> 0.00000000</td><td> 0.00000000</td><td>0.00000000</td><td>       NaN</td></tr>\n",
       "\t<tr><td>Influenca  </td><td>studySolidtumors</td><td> 0.00000000</td><td> 0.00000000</td><td>0.00000000</td><td>       NaN</td></tr>\n",
       "\t<tr><td>HCV        </td><td>studyLeukemia   </td><td>-0.09173525</td><td>-0.24778139</td><td>0.06431090</td><td>0.24803039</td></tr>\n",
       "\t<tr><td>HCV        </td><td>studyLymphoma   </td><td>-0.09486570</td><td>-0.35258057</td><td>0.16284917</td><td>0.46912499</td></tr>\n",
       "\t<tr><td>HCV        </td><td>studySolidtumors</td><td>-0.04671691</td><td>-0.22944431</td><td>0.13601049</td><td>0.61501899</td></tr>\n",
       "\t<tr><td>HPV        </td><td>studyLeukemia   </td><td> 0.08322003</td><td>-0.10476845</td><td>0.27120852</td><td>0.38409737</td></tr>\n",
       "\t<tr><td>HPV        </td><td>studyLymphoma   </td><td> 0.04786304</td><td>-0.26260555</td><td>0.35833164</td><td>0.76165517</td></tr>\n",
       "\t<tr><td>HPV        </td><td>studySolidtumors</td><td>-0.11093899</td><td>-0.33107033</td><td>0.10919235</td><td>0.32186590</td></tr>\n",
       "\t<tr><td>MCPyV      </td><td>studyLeukemia   </td><td> 0.18777090</td><td> 0.03495265</td><td>0.34058916</td><td>0.01623845</td></tr>\n",
       "\t<tr><td>MCPyV      </td><td>studyLymphoma   </td><td>-0.03444107</td><td>-0.28682498</td><td>0.21794283</td><td>0.78832366</td></tr>\n",
       "\t<tr><td>MCPyV      </td><td>studySolidtumors</td><td> 0.04298015</td><td>-0.13596744</td><td>0.22192774</td><td>0.63658264</td></tr>\n",
       "\t<tr><td>HomoSapiens</td><td>studyLeukemia   </td><td>-0.02991785</td><td>-0.21747295</td><td>0.15763726</td><td>0.75364723</td></tr>\n",
       "\t<tr><td>HomoSapiens</td><td>studyLymphoma   </td><td>-0.05016648</td><td>-0.35991933</td><td>0.25958638</td><td>0.75000230</td></tr>\n",
       "\t<tr><td>HomoSapiens</td><td>studySolidtumors</td><td>-0.13681261</td><td>-0.35643647</td><td>0.08281124</td><td>0.22100848</td></tr>\n",
       "</tbody>\n",
       "</table>\n"
      ],
      "text/latex": [
       "A data.frame: 21 x 6\n",
       "\\begin{tabular}{llllll}\n",
       " antigen & group & coefficient & lower.95 & upper.95 & p\\\\\n",
       " <chr> & <chr> & <dbl> & <dbl> & <dbl> & <dbl>\\\\\n",
       "\\hline\n",
       "\t CMV         & studyLeukemia    & -0.06649750 & -0.24259179 & 0.10959680 & 0.45771982\\\\\n",
       "\t CMV         & studyLymphoma    & -0.06190987 & -0.35273485 & 0.22891511 & 0.67537216\\\\\n",
       "\t CMV         & studySolidtumors & -0.09956393 & -0.30576737 & 0.10663951 & 0.34252636\\\\\n",
       "\t EBV         & studyLeukemia    &  0.06937101 & -0.12032612 & 0.25906813 & 0.47203656\\\\\n",
       "\t EBV         & studyLymphoma    &  0.02936075 & -0.28392972 & 0.34265122 & 0.85370440\\\\\n",
       "\t EBV         & studySolidtumors & -0.06726207 & -0.28939420 & 0.15487007 & 0.55145197\\\\\n",
       "\t Influenca   & studyLeukemia    &  0.00000000 &  0.00000000 & 0.00000000 &        NaN\\\\\n",
       "\t Influenca   & studyLymphoma    &  0.00000000 &  0.00000000 & 0.00000000 &        NaN\\\\\n",
       "\t Influenca   & studySolidtumors &  0.00000000 &  0.00000000 & 0.00000000 &        NaN\\\\\n",
       "\t HCV         & studyLeukemia    & -0.09173525 & -0.24778139 & 0.06431090 & 0.24803039\\\\\n",
       "\t HCV         & studyLymphoma    & -0.09486570 & -0.35258057 & 0.16284917 & 0.46912499\\\\\n",
       "\t HCV         & studySolidtumors & -0.04671691 & -0.22944431 & 0.13601049 & 0.61501899\\\\\n",
       "\t HPV         & studyLeukemia    &  0.08322003 & -0.10476845 & 0.27120852 & 0.38409737\\\\\n",
       "\t HPV         & studyLymphoma    &  0.04786304 & -0.26260555 & 0.35833164 & 0.76165517\\\\\n",
       "\t HPV         & studySolidtumors & -0.11093899 & -0.33107033 & 0.10919235 & 0.32186590\\\\\n",
       "\t MCPyV       & studyLeukemia    &  0.18777090 &  0.03495265 & 0.34058916 & 0.01623845\\\\\n",
       "\t MCPyV       & studyLymphoma    & -0.03444107 & -0.28682498 & 0.21794283 & 0.78832366\\\\\n",
       "\t MCPyV       & studySolidtumors &  0.04298015 & -0.13596744 & 0.22192774 & 0.63658264\\\\\n",
       "\t HomoSapiens & studyLeukemia    & -0.02991785 & -0.21747295 & 0.15763726 & 0.75364723\\\\\n",
       "\t HomoSapiens & studyLymphoma    & -0.05016648 & -0.35991933 & 0.25958638 & 0.75000230\\\\\n",
       "\t HomoSapiens & studySolidtumors & -0.13681261 & -0.35643647 & 0.08281124 & 0.22100848\\\\\n",
       "\\end{tabular}\n"
      ],
      "text/markdown": [
       "\n",
       "A data.frame: 21 x 6\n",
       "\n",
       "| antigen &lt;chr&gt; | group &lt;chr&gt; | coefficient &lt;dbl&gt; | lower.95 &lt;dbl&gt; | upper.95 &lt;dbl&gt; | p &lt;dbl&gt; |\n",
       "|---|---|---|---|---|---|\n",
       "| CMV         | studyLeukemia    | -0.06649750 | -0.24259179 | 0.10959680 | 0.45771982 |\n",
       "| CMV         | studyLymphoma    | -0.06190987 | -0.35273485 | 0.22891511 | 0.67537216 |\n",
       "| CMV         | studySolidtumors | -0.09956393 | -0.30576737 | 0.10663951 | 0.34252636 |\n",
       "| EBV         | studyLeukemia    |  0.06937101 | -0.12032612 | 0.25906813 | 0.47203656 |\n",
       "| EBV         | studyLymphoma    |  0.02936075 | -0.28392972 | 0.34265122 | 0.85370440 |\n",
       "| EBV         | studySolidtumors | -0.06726207 | -0.28939420 | 0.15487007 | 0.55145197 |\n",
       "| Influenca   | studyLeukemia    |  0.00000000 |  0.00000000 | 0.00000000 |        NaN |\n",
       "| Influenca   | studyLymphoma    |  0.00000000 |  0.00000000 | 0.00000000 |        NaN |\n",
       "| Influenca   | studySolidtumors |  0.00000000 |  0.00000000 | 0.00000000 |        NaN |\n",
       "| HCV         | studyLeukemia    | -0.09173525 | -0.24778139 | 0.06431090 | 0.24803039 |\n",
       "| HCV         | studyLymphoma    | -0.09486570 | -0.35258057 | 0.16284917 | 0.46912499 |\n",
       "| HCV         | studySolidtumors | -0.04671691 | -0.22944431 | 0.13601049 | 0.61501899 |\n",
       "| HPV         | studyLeukemia    |  0.08322003 | -0.10476845 | 0.27120852 | 0.38409737 |\n",
       "| HPV         | studyLymphoma    |  0.04786304 | -0.26260555 | 0.35833164 | 0.76165517 |\n",
       "| HPV         | studySolidtumors | -0.11093899 | -0.33107033 | 0.10919235 | 0.32186590 |\n",
       "| MCPyV       | studyLeukemia    |  0.18777090 |  0.03495265 | 0.34058916 | 0.01623845 |\n",
       "| MCPyV       | studyLymphoma    | -0.03444107 | -0.28682498 | 0.21794283 | 0.78832366 |\n",
       "| MCPyV       | studySolidtumors |  0.04298015 | -0.13596744 | 0.22192774 | 0.63658264 |\n",
       "| HomoSapiens | studyLeukemia    | -0.02991785 | -0.21747295 | 0.15763726 | 0.75364723 |\n",
       "| HomoSapiens | studyLymphoma    | -0.05016648 | -0.35991933 | 0.25958638 | 0.75000230 |\n",
       "| HomoSapiens | studySolidtumors | -0.13681261 | -0.35643647 | 0.08281124 | 0.22100848 |\n",
       "\n"
      ],
      "text/plain": [
       "   antigen     group            coefficient lower.95    upper.95   p         \n",
       "1  CMV         studyLeukemia    -0.06649750 -0.24259179 0.10959680 0.45771982\n",
       "2  CMV         studyLymphoma    -0.06190987 -0.35273485 0.22891511 0.67537216\n",
       "3  CMV         studySolidtumors -0.09956393 -0.30576737 0.10663951 0.34252636\n",
       "4  EBV         studyLeukemia     0.06937101 -0.12032612 0.25906813 0.47203656\n",
       "5  EBV         studyLymphoma     0.02936075 -0.28392972 0.34265122 0.85370440\n",
       "6  EBV         studySolidtumors -0.06726207 -0.28939420 0.15487007 0.55145197\n",
       "7  Influenca   studyLeukemia     0.00000000  0.00000000 0.00000000        NaN\n",
       "8  Influenca   studyLymphoma     0.00000000  0.00000000 0.00000000        NaN\n",
       "9  Influenca   studySolidtumors  0.00000000  0.00000000 0.00000000        NaN\n",
       "10 HCV         studyLeukemia    -0.09173525 -0.24778139 0.06431090 0.24803039\n",
       "11 HCV         studyLymphoma    -0.09486570 -0.35258057 0.16284917 0.46912499\n",
       "12 HCV         studySolidtumors -0.04671691 -0.22944431 0.13601049 0.61501899\n",
       "13 HPV         studyLeukemia     0.08322003 -0.10476845 0.27120852 0.38409737\n",
       "14 HPV         studyLymphoma     0.04786304 -0.26260555 0.35833164 0.76165517\n",
       "15 HPV         studySolidtumors -0.11093899 -0.33107033 0.10919235 0.32186590\n",
       "16 MCPyV       studyLeukemia     0.18777090  0.03495265 0.34058916 0.01623845\n",
       "17 MCPyV       studyLymphoma    -0.03444107 -0.28682498 0.21794283 0.78832366\n",
       "18 MCPyV       studySolidtumors  0.04298015 -0.13596744 0.22192774 0.63658264\n",
       "19 HomoSapiens studyLeukemia    -0.02991785 -0.21747295 0.15763726 0.75364723\n",
       "20 HomoSapiens studyLymphoma    -0.05016648 -0.35991933 0.25958638 0.75000230\n",
       "21 HomoSapiens studySolidtumors -0.13681261 -0.35643647 0.08281124 0.22100848"
      ]
     },
     "metadata": {},
     "output_type": "display_data"
    }
   ],
   "source": [
    "lmtest_mat"
   ]
  },
  {
   "cell_type": "code",
   "execution_count": 77,
   "metadata": {
    "vscode": {
     "languageId": "r"
    }
   },
   "outputs": [
    {
     "data": {
      "text/html": [
       "<table class=\"dataframe\">\n",
       "<caption>A data.frame: 1 x 6</caption>\n",
       "<thead>\n",
       "\t<tr><th></th><th scope=col>antigen</th><th scope=col>group</th><th scope=col>coefficient</th><th scope=col>lower.95</th><th scope=col>upper.95</th><th scope=col>p</th></tr>\n",
       "\t<tr><th></th><th scope=col>&lt;chr&gt;</th><th scope=col>&lt;chr&gt;</th><th scope=col>&lt;dbl&gt;</th><th scope=col>&lt;dbl&gt;</th><th scope=col>&lt;dbl&gt;</th><th scope=col>&lt;dbl&gt;</th></tr>\n",
       "</thead>\n",
       "<tbody>\n",
       "\t<tr><th scope=row>16</th><td>MCPyV</td><td>studyLeukemia</td><td>0.1877709</td><td>0.03495265</td><td>0.3405892</td><td>0.01623845</td></tr>\n",
       "</tbody>\n",
       "</table>\n"
      ],
      "text/latex": [
       "A data.frame: 1 x 6\n",
       "\\begin{tabular}{r|llllll}\n",
       "  & antigen & group & coefficient & lower.95 & upper.95 & p\\\\\n",
       "  & <chr> & <chr> & <dbl> & <dbl> & <dbl> & <dbl>\\\\\n",
       "\\hline\n",
       "\t16 & MCPyV & studyLeukemia & 0.1877709 & 0.03495265 & 0.3405892 & 0.01623845\\\\\n",
       "\\end{tabular}\n"
      ],
      "text/markdown": [
       "\n",
       "A data.frame: 1 x 6\n",
       "\n",
       "| <!--/--> | antigen &lt;chr&gt; | group &lt;chr&gt; | coefficient &lt;dbl&gt; | lower.95 &lt;dbl&gt; | upper.95 &lt;dbl&gt; | p &lt;dbl&gt; |\n",
       "|---|---|---|---|---|---|---|\n",
       "| 16 | MCPyV | studyLeukemia | 0.1877709 | 0.03495265 | 0.3405892 | 0.01623845 |\n",
       "\n"
      ],
      "text/plain": [
       "   antigen group         coefficient lower.95   upper.95  p         \n",
       "16 MCPyV   studyLeukemia 0.1877709   0.03495265 0.3405892 0.01623845"
      ]
     },
     "metadata": {},
     "output_type": "display_data"
    }
   ],
   "source": [
    "sig_lmtest_mat <- lmtest_mat[ which(lmtest_mat$p < 0.06),]\n",
    "sig_lmtest_mat\n",
    "sig_lmtest_mat$p.val <- sapply(sig_lmtest_mat$p, function(x) round_and_format(x) )"
   ]
  },
  {
   "cell_type": "code",
   "execution_count": 78,
   "metadata": {
    "vscode": {
     "languageId": "r"
    }
   },
   "outputs": [],
   "source": [
    "sig_lmtest_mat$study <- NA\n",
    "sig_lmtest_mat$study <- gsub(\"study\", \"\", sig_lmtest_mat$group)"
   ]
  },
  {
   "cell_type": "code",
   "execution_count": 79,
   "metadata": {
    "vscode": {
     "languageId": "r"
    }
   },
   "outputs": [
    {
     "name": "stderr",
     "output_type": "stream",
     "text": [
      "Warning message in ggsignif::geom_signif(data = sig_lmtest_mat, aes(xmin = 5.7, :\n",
      "\"\u001b[1m\u001b[22mIgnoring unknown aesthetics: \u001b[32mxmin\u001b[39m, \u001b[32mxmax\u001b[39m, \u001b[32mannotations\u001b[39m, and \u001b[32my_position\u001b[39m\"\n"
     ]
    }
   ],
   "source": [
    "comp_plot2 <- comp_plot2 + ggsignif::geom_signif(\n",
    "            data = sig_lmtest_mat,\n",
    "            aes(xmin = 5.7, xmax = 5.9, annotations = p.val, y_position = 1.1),\n",
    "            textsize = 3, vjust = -0.2, color = \"black\",\n",
    "            manual = TRUE\n",
    "        )"
   ]
  },
  {
   "cell_type": "code",
   "execution_count": 80,
   "metadata": {
    "vscode": {
     "languageId": "r"
    }
   },
   "outputs": [
    {
     "data": {
      "text/html": [
       "<strong>pdf:</strong> 2"
      ],
      "text/latex": [
       "\\textbf{pdf:} 2"
      ],
      "text/markdown": [
       "**pdf:** 2"
      ],
      "text/plain": [
       "pdf \n",
       "  2 "
      ]
     },
     "metadata": {},
     "output_type": "display_data"
    }
   ],
   "source": [
    "pdf(paste0(plotpath, \"comp_plot_pbmc_x02.pdf\"), width = 10, height = 5)\n",
    "cowplot::plot_grid(comp_plot2, labels= \"G\")\n",
    "dev.off()"
   ]
  },
  {
   "cell_type": "code",
   "execution_count": 198,
   "metadata": {
    "vscode": {
     "languageId": "r"
    }
   },
   "outputs": [
    {
     "data": {
      "text/plain": [
       "$Healthy\n",
       "   Min. 1st Qu.  Median    Mean 3rd Qu.    Max. \n",
       "0.00000 0.05785 0.38235 0.40306 0.62979 1.00000 \n",
       "\n",
       "$Leukemia\n",
       "   Min. 1st Qu.  Median    Mean 3rd Qu.    Max. \n",
       " 0.0000  0.1412  0.3706  0.4666  0.7765  1.0000 \n",
       "\n",
       "$Lymphoma\n",
       "   Min. 1st Qu.  Median    Mean 3rd Qu.    Max. \n",
       " 0.0000  0.2660  0.5385  0.4351  0.6757  0.6954 \n",
       "\n",
       "$Solidtumors\n",
       "   Min. 1st Qu.  Median    Mean 3rd Qu.    Max. \n",
       " 0.0000  0.0000  0.1262  0.2728  0.5406  1.0000 \n"
      ]
     },
     "metadata": {},
     "output_type": "display_data"
    }
   ],
   "source": [
    "tapply(pat_tab_2$HPV, pat_tab_2$study, summary)"
   ]
  },
  {
   "cell_type": "code",
   "execution_count": 70,
   "metadata": {
    "vscode": {
     "languageId": "r"
    }
   },
   "outputs": [],
   "source": [
    "# pairwise.t.test(pat_tab_3$CMV, pat_tab_3$cohort, p.adjust.method = \"bonferroni\")\n",
    "# pairwise.t.test(pat_tab_3$EBV, pat_tab_3$cohort, p.adjust.method = \"bonferroni\")\n",
    "# pairwise.t.test(pat_tab_3$HPV, pat_tab_3$cohort, p.adjust.method = \"bonferroni\")\n",
    "# pairwise.t.test(pat_tab_3$HCV, pat_tab_3$cohort, p.adjust.method = \"bonferroni\")\n",
    "# pairwise.t.test(pat_tab_3$HomoSapiens, pat_tab_3$cohort, p.adjust.method = \"bonferroni\")\n",
    "# pairwise.t.test(pat_tab_3$MCPyV, pat_tab_3$cohort, p.adjust.method = \"bonferroni\")"
   ]
  },
  {
   "cell_type": "code",
   "execution_count": null,
   "metadata": {
    "vscode": {
     "languageId": "r"
    }
   },
   "outputs": [],
   "source": []
  },
  {
   "cell_type": "code",
   "execution_count": 231,
   "metadata": {
    "vscode": {
     "languageId": "r"
    }
   },
   "outputs": [
    {
     "data": {
      "text/html": [
       "<table class=\"dataframe\">\n",
       "<caption>A tibble: 4 x 6</caption>\n",
       "<thead>\n",
       "\t<tr><th scope=col>Component_id</th><th scope=col>Component_size</th><th scope=col>PatientDerived_Nodes</th><th scope=col>NumberOf_PatientDerived_Nodes</th><th scope=col>Number_of_Patients</th><th scope=col>Component_specificity</th></tr>\n",
       "\t<tr><th scope=col>&lt;int&gt;</th><th scope=col>&lt;int&gt;</th><th scope=col>&lt;chr&gt;</th><th scope=col>&lt;int&gt;</th><th scope=col>&lt;int&gt;</th><th scope=col>&lt;chr&gt;</th></tr>\n",
       "</thead>\n",
       "<tbody>\n",
       "\t<tr><td>1</td><td>17492</td><td>CASSPNTGELFF_Solidtumors:CHP_346_X01-PBMC  </td><td>8263</td><td>115</td><td>CEF,CMV,EBV,HCV,HomoSapiens,HPV,Influenza,Leukemia,LFS,Lymphoma,M.tuberculosis,MCPyV,MDavis,Normal,S-pneumoniae,Solidtumors,T-cellmalignancies</td></tr>\n",
       "\t<tr><td>1</td><td>17492</td><td>CASSQDRGYGYTF_Solidtumors:CHP_346_X01-PBMC </td><td>8263</td><td>115</td><td>CEF,CMV,EBV,HCV,HomoSapiens,HPV,Influenza,Leukemia,LFS,Lymphoma,M.tuberculosis,MCPyV,MDavis,Normal,S-pneumoniae,Solidtumors,T-cellmalignancies</td></tr>\n",
       "\t<tr><td>1</td><td>17492</td><td>CASSRDRGPYEQYF_Solidtumors:CHP_346_X01-PBMC</td><td>8263</td><td>115</td><td>CEF,CMV,EBV,HCV,HomoSapiens,HPV,Influenza,Leukemia,LFS,Lymphoma,M.tuberculosis,MCPyV,MDavis,Normal,S-pneumoniae,Solidtumors,T-cellmalignancies</td></tr>\n",
       "\t<tr><td>1</td><td>17492</td><td>CASSRVGYEQYF_Solidtumors:CHP_346_X01-PBMC  </td><td>8263</td><td>115</td><td>CEF,CMV,EBV,HCV,HomoSapiens,HPV,Influenza,Leukemia,LFS,Lymphoma,M.tuberculosis,MCPyV,MDavis,Normal,S-pneumoniae,Solidtumors,T-cellmalignancies</td></tr>\n",
       "</tbody>\n",
       "</table>\n"
      ],
      "text/latex": [
       "A tibble: 4 x 6\n",
       "\\begin{tabular}{llllll}\n",
       " Component\\_id & Component\\_size & PatientDerived\\_Nodes & NumberOf\\_PatientDerived\\_Nodes & Number\\_of\\_Patients & Component\\_specificity\\\\\n",
       " <int> & <int> & <chr> & <int> & <int> & <chr>\\\\\n",
       "\\hline\n",
       "\t 1 & 17492 & CASSPNTGELFF\\_Solidtumors:CHP\\_346\\_X01-PBMC   & 8263 & 115 & CEF,CMV,EBV,HCV,HomoSapiens,HPV,Influenza,Leukemia,LFS,Lymphoma,M.tuberculosis,MCPyV,MDavis,Normal,S-pneumoniae,Solidtumors,T-cellmalignancies\\\\\n",
       "\t 1 & 17492 & CASSQDRGYGYTF\\_Solidtumors:CHP\\_346\\_X01-PBMC  & 8263 & 115 & CEF,CMV,EBV,HCV,HomoSapiens,HPV,Influenza,Leukemia,LFS,Lymphoma,M.tuberculosis,MCPyV,MDavis,Normal,S-pneumoniae,Solidtumors,T-cellmalignancies\\\\\n",
       "\t 1 & 17492 & CASSRDRGPYEQYF\\_Solidtumors:CHP\\_346\\_X01-PBMC & 8263 & 115 & CEF,CMV,EBV,HCV,HomoSapiens,HPV,Influenza,Leukemia,LFS,Lymphoma,M.tuberculosis,MCPyV,MDavis,Normal,S-pneumoniae,Solidtumors,T-cellmalignancies\\\\\n",
       "\t 1 & 17492 & CASSRVGYEQYF\\_Solidtumors:CHP\\_346\\_X01-PBMC   & 8263 & 115 & CEF,CMV,EBV,HCV,HomoSapiens,HPV,Influenza,Leukemia,LFS,Lymphoma,M.tuberculosis,MCPyV,MDavis,Normal,S-pneumoniae,Solidtumors,T-cellmalignancies\\\\\n",
       "\\end{tabular}\n"
      ],
      "text/markdown": [
       "\n",
       "A tibble: 4 x 6\n",
       "\n",
       "| Component_id &lt;int&gt; | Component_size &lt;int&gt; | PatientDerived_Nodes &lt;chr&gt; | NumberOf_PatientDerived_Nodes &lt;int&gt; | Number_of_Patients &lt;int&gt; | Component_specificity &lt;chr&gt; |\n",
       "|---|---|---|---|---|---|\n",
       "| 1 | 17492 | CASSPNTGELFF_Solidtumors:CHP_346_X01-PBMC   | 8263 | 115 | CEF,CMV,EBV,HCV,HomoSapiens,HPV,Influenza,Leukemia,LFS,Lymphoma,M.tuberculosis,MCPyV,MDavis,Normal,S-pneumoniae,Solidtumors,T-cellmalignancies |\n",
       "| 1 | 17492 | CASSQDRGYGYTF_Solidtumors:CHP_346_X01-PBMC  | 8263 | 115 | CEF,CMV,EBV,HCV,HomoSapiens,HPV,Influenza,Leukemia,LFS,Lymphoma,M.tuberculosis,MCPyV,MDavis,Normal,S-pneumoniae,Solidtumors,T-cellmalignancies |\n",
       "| 1 | 17492 | CASSRDRGPYEQYF_Solidtumors:CHP_346_X01-PBMC | 8263 | 115 | CEF,CMV,EBV,HCV,HomoSapiens,HPV,Influenza,Leukemia,LFS,Lymphoma,M.tuberculosis,MCPyV,MDavis,Normal,S-pneumoniae,Solidtumors,T-cellmalignancies |\n",
       "| 1 | 17492 | CASSRVGYEQYF_Solidtumors:CHP_346_X01-PBMC   | 8263 | 115 | CEF,CMV,EBV,HCV,HomoSapiens,HPV,Influenza,Leukemia,LFS,Lymphoma,M.tuberculosis,MCPyV,MDavis,Normal,S-pneumoniae,Solidtumors,T-cellmalignancies |\n",
       "\n"
      ],
      "text/plain": [
       "  Component_id Component_size PatientDerived_Nodes                       \n",
       "1 1            17492          CASSPNTGELFF_Solidtumors:CHP_346_X01-PBMC  \n",
       "2 1            17492          CASSQDRGYGYTF_Solidtumors:CHP_346_X01-PBMC \n",
       "3 1            17492          CASSRDRGPYEQYF_Solidtumors:CHP_346_X01-PBMC\n",
       "4 1            17492          CASSRVGYEQYF_Solidtumors:CHP_346_X01-PBMC  \n",
       "  NumberOf_PatientDerived_Nodes Number_of_Patients\n",
       "1 8263                          115               \n",
       "2 8263                          115               \n",
       "3 8263                          115               \n",
       "4 8263                          115               \n",
       "  Component_specificity                                                                                                                         \n",
       "1 CEF,CMV,EBV,HCV,HomoSapiens,HPV,Influenza,Leukemia,LFS,Lymphoma,M.tuberculosis,MCPyV,MDavis,Normal,S-pneumoniae,Solidtumors,T-cellmalignancies\n",
       "2 CEF,CMV,EBV,HCV,HomoSapiens,HPV,Influenza,Leukemia,LFS,Lymphoma,M.tuberculosis,MCPyV,MDavis,Normal,S-pneumoniae,Solidtumors,T-cellmalignancies\n",
       "3 CEF,CMV,EBV,HCV,HomoSapiens,HPV,Influenza,Leukemia,LFS,Lymphoma,M.tuberculosis,MCPyV,MDavis,Normal,S-pneumoniae,Solidtumors,T-cellmalignancies\n",
       "4 CEF,CMV,EBV,HCV,HomoSapiens,HPV,Influenza,Leukemia,LFS,Lymphoma,M.tuberculosis,MCPyV,MDavis,Normal,S-pneumoniae,Solidtumors,T-cellmalignancies"
      ]
     },
     "metadata": {},
     "output_type": "display_data"
    }
   ],
   "source": [
    "comp_all[ comp_all$Patient == \"CHP_346\", 1:6]"
   ]
  },
  {
   "cell_type": "code",
   "execution_count": null,
   "metadata": {
    "vscode": {
     "languageId": "r"
    }
   },
   "outputs": [],
   "source": []
  },
  {
   "cell_type": "markdown",
   "metadata": {},
   "source": []
  },
  {
   "cell_type": "markdown",
   "metadata": {},
   "source": [
    "# Backup"
   ]
  },
  {
   "cell_type": "code",
   "execution_count": null,
   "metadata": {
    "vscode": {
     "languageId": "r"
    }
   },
   "outputs": [],
   "source": []
  },
  {
   "cell_type": "markdown",
   "metadata": {},
   "source": [
    "Chi square"
   ]
  },
  {
   "cell_type": "code",
   "execution_count": null,
   "metadata": {
    "vscode": {
     "languageId": "r"
    }
   },
   "outputs": [],
   "source": [
    "#  \n",
    "virals <- c(\"CMV\", \"EBV\", \"Influenza\", \"HCV\", \"HPV\", \"MCPyV\")\n",
    "int_emerson_sep_x01$viral <- NA\n",
    "int_emerson_sep_x01$viral[ grep(paste(virals,collapse=\"|\"), int_emerson_sep_x01$Component_specificity) ] <- 1\n",
    "\n",
    "int_emerson_sep_x01$human <- NA\n",
    "int_emerson_sep_x01$human[ grepl( \"HomoSapiens\", int_emerson_sep_x01$Component_specificity) ] <- 1\n",
    "\n",
    "bacterials <- c(\"M.tuberculosis\", \"S-pneumoniae\")\n",
    "int_emerson_sep_x01$bacterial <- NA\n",
    "int_emerson_sep_x01$bacterial[ grep(paste(bacterials,collapse=\"|\"), int_emerson_sep_x01$Component_specificity) ] <- 1\n",
    "\n",
    "int_emerson_sep_x01$multicancer <- NA\n",
    "# if any two of the following are present, then multicancer\n",
    "for(i in 1:nrow(int_emerson_sep_x01)){\n",
    "    if( grepl(\"Leukemia\", int_emerson_sep_x01$Component_specificity[i]) + grepl(\"Lymphoma\", int_emerson_sep_x01$Component_specificity[i]) +\n",
    "        grepl(\"T-cellmalignancies\", int_emerson_sep_x01$Component_specificity[i]) + grepl(\"Solidtumors\", int_emerson_sep_x01$Component_specificity[i])  > 1){\n",
    "        int_emerson_sep_x01$multicancer[i] <- 1\n",
    "    }\n",
    "}\n",
    "\n",
    "int_emerson_sep_x01$viral[is.na(int_emerson_sep_x01$viral)] <- 0\n",
    "int_emerson_sep_x01$human[is.na(int_emerson_sep_x01$human)] <- 0\n",
    "int_emerson_sep_x01$bacterial[is.na(int_emerson_sep_x01$bacterial)] <- 0\n",
    "int_emerson_sep_x01$multicancer[is.na(int_emerson_sep_x01$multicancer)] <- 0"
   ]
  },
  {
   "cell_type": "markdown",
   "metadata": {},
   "source": [
    "clonal fraction"
   ]
  },
  {
   "cell_type": "code",
   "execution_count": null,
   "metadata": {
    "vscode": {
     "languageId": "r"
    }
   },
   "outputs": [],
   "source": [
    "mysamples <- names(table(comp_all$Patient))"
   ]
  },
  {
   "cell_type": "code",
   "execution_count": null,
   "metadata": {
    "vscode": {
     "languageId": "r"
    }
   },
   "outputs": [
    {
     "data": {
      "text/html": [
       "311"
      ],
      "text/latex": [
       "311"
      ],
      "text/markdown": [
       "311"
      ],
      "text/plain": [
       "[1] 311"
      ]
     },
     "metadata": {},
     "output_type": "display_data"
    }
   ],
   "source": [
    "length(mysamples)"
   ]
  },
  {
   "cell_type": "code",
   "execution_count": null,
   "metadata": {
    "vscode": {
     "languageId": "r"
    }
   },
   "outputs": [],
   "source": [
    "samples_compreads <- as.data.frame(matrix(0,\n",
    "    nrow = length(mysamples), ncol = 5,\n",
    "    dimnames = list(mysamples, c(\"Viral\", \"Bacterial\", \"Human\", \"Multicancer\", \"Crossreactive\"))\n",
    "))"
   ]
  },
  {
   "cell_type": "code",
   "execution_count": null,
   "metadata": {
    "vscode": {
     "languageId": "r"
    }
   },
   "outputs": [],
   "source": [
    "# add total reads in the original input files for gliph\n",
    "gliphin_int <- readr::read_rds(file = paste0(datapath, \"capTCRseq/INT_all_gliph_input_v2.rds\"))\n",
    "gliphin_adult <- readr::read_rds(paste0(h4hpath, \"v9_emerson_adult/gliph_input/int_vdj_gliphinput_v9_emerson_adult.RDS\"))\n",
    "gliphin_child <- readr::read_rds(paste0(h4hpath, \"v9_emerson_child/gliph_input/int_vdj_gliphinput_v9_emerson_child.RDS\"))"
   ]
  },
  {
   "cell_type": "code",
   "execution_count": null,
   "metadata": {
    "vscode": {
     "languageId": "r"
    }
   },
   "outputs": [],
   "source": [
    "# group_by samplename, sum count\n",
    "gliphin_int <- gliphin_int[ grepl(\"PBMC\", gliphin_int$samplename),]\n",
    "gliphin_int <- gliphin_int[ grepl(\"X01\", gliphin_int$`subject:condition`),]\n",
    "gliphin_int <- gliphin_int[ grepl(\"CHP\", gliphin_int$`subject:condition`),]\n",
    "\n",
    "gliphin_int_sum <- gliphin_int %>%\n",
    "  group_by(samplename) %>%\n",
    "  summarise(SumCount = sum(count), .groups = 'drop') %>%\n",
    "  ungroup()"
   ]
  },
  {
   "cell_type": "code",
   "execution_count": null,
   "metadata": {
    "vscode": {
     "languageId": "r"
    }
   },
   "outputs": [],
   "source": [
    "gliphin_child <- gliphin_child[grepl(\"Emerson\", gliphin_child$subject.condition), ]\n",
    "gliphin_child$Patient <- gsub(\".*:\", \"\", gliphin_child$subject.condition)\n",
    "gliphin_child$Patient <- gsub(\"_.*\", \"\", gliphin_child$Patient)\n",
    "\n",
    "gliphin_child_sum <- gliphin_child %>%\n",
    "  group_by(Patient) %>%\n",
    "  summarise(SumCount = sum(count), .groups = \"drop\") %>%\n",
    "  ungroup()\n"
   ]
  },
  {
   "cell_type": "code",
   "execution_count": null,
   "metadata": {
    "vscode": {
     "languageId": "r"
    }
   },
   "outputs": [],
   "source": [
    "gliphin_adult <- gliphin_adult[ grepl(\"Emerson\", gliphin_adult$subject.condition),]\n",
    "gliphin_adult$Patient <- gsub(\".*:\", \"\", gliphin_adult$subject.condition)\n",
    "gliphin_adult$Patient <- gsub(\"_.*\", \"\", gliphin_adult$Patient)\n",
    "\n",
    "gliphin_adult_sum <- gliphin_adult %>%\n",
    "  group_by(Patient) %>%\n",
    "  summarise(SumCount = sum(count), .groups = 'drop') %>%\n",
    "  ungroup()"
   ]
  },
  {
   "cell_type": "code",
   "execution_count": null,
   "metadata": {
    "vscode": {
     "languageId": "r"
    }
   },
   "outputs": [],
   "source": [
    "gliphin_int_sum$Patient <- gsub(\"-01-.*\", \"\", gliphin_int_sum$samplename)\n",
    "gliphin_int_sum$Patient <- gsub(\"-01_.*\", \"\", gliphin_int_sum$Patient)\n",
    "gliphin_int_sum$Patient <- gsub(\"-\", \"_\", gliphin_int_sum$Patient)"
   ]
  },
  {
   "cell_type": "code",
   "execution_count": null,
   "metadata": {
    "vscode": {
     "languageId": "r"
    }
   },
   "outputs": [],
   "source": [
    "gliphin_sum_all <- rbind(gliphin_int_sum[, c(\"Patient\", \"SumCount\")], gliphin_child_sum, gliphin_adult_sum)"
   ]
  },
  {
   "cell_type": "code",
   "execution_count": null,
   "metadata": {
    "vscode": {
     "languageId": "r"
    }
   },
   "outputs": [],
   "source": [
    "# add total reads to samples_compreads\n",
    "samples_compreads$cdr3_reads <- gliphin_sum_all$SumCount[match(rownames(samples_compreads), gliphin_sum_all$Patient)]"
   ]
  },
  {
   "cell_type": "code",
   "execution_count": null,
   "metadata": {
    "vscode": {
     "languageId": "r"
    }
   },
   "outputs": [
    {
     "data": {
      "text/html": [
       "<table class=\"dataframe\">\n",
       "<caption>A data.frame: 6 x 6</caption>\n",
       "<thead>\n",
       "\t<tr><th></th><th scope=col>Viral</th><th scope=col>Bacterial</th><th scope=col>Human</th><th scope=col>Multicancer</th><th scope=col>Crossreactive</th><th scope=col>cdr3_reads</th></tr>\n",
       "\t<tr><th></th><th scope=col>&lt;dbl&gt;</th><th scope=col>&lt;dbl&gt;</th><th scope=col>&lt;dbl&gt;</th><th scope=col>&lt;dbl&gt;</th><th scope=col>&lt;dbl&gt;</th><th scope=col>&lt;dbl&gt;</th></tr>\n",
       "</thead>\n",
       "<tbody>\n",
       "\t<tr><th scope=row>CHP_346</th><td>0</td><td>0</td><td>0</td><td>0</td><td>0</td><td> 988</td></tr>\n",
       "\t<tr><th scope=row>CHP_347</th><td>0</td><td>0</td><td>0</td><td>0</td><td>0</td><td>5840</td></tr>\n",
       "\t<tr><th scope=row>CHP_348</th><td>0</td><td>0</td><td>0</td><td>0</td><td>0</td><td> 952</td></tr>\n",
       "\t<tr><th scope=row>CHP_349</th><td>0</td><td>0</td><td>0</td><td>0</td><td>0</td><td>1035</td></tr>\n",
       "\t<tr><th scope=row>CHP_350</th><td>0</td><td>0</td><td>0</td><td>0</td><td>0</td><td>1647</td></tr>\n",
       "\t<tr><th scope=row>CHP_352</th><td>0</td><td>0</td><td>0</td><td>0</td><td>0</td><td> 352</td></tr>\n",
       "</tbody>\n",
       "</table>\n"
      ],
      "text/latex": [
       "A data.frame: 6 x 6\n",
       "\\begin{tabular}{r|llllll}\n",
       "  & Viral & Bacterial & Human & Multicancer & Crossreactive & cdr3\\_reads\\\\\n",
       "  & <dbl> & <dbl> & <dbl> & <dbl> & <dbl> & <dbl>\\\\\n",
       "\\hline\n",
       "\tCHP\\_346 & 0 & 0 & 0 & 0 & 0 &  988\\\\\n",
       "\tCHP\\_347 & 0 & 0 & 0 & 0 & 0 & 5840\\\\\n",
       "\tCHP\\_348 & 0 & 0 & 0 & 0 & 0 &  952\\\\\n",
       "\tCHP\\_349 & 0 & 0 & 0 & 0 & 0 & 1035\\\\\n",
       "\tCHP\\_350 & 0 & 0 & 0 & 0 & 0 & 1647\\\\\n",
       "\tCHP\\_352 & 0 & 0 & 0 & 0 & 0 &  352\\\\\n",
       "\\end{tabular}\n"
      ],
      "text/markdown": [
       "\n",
       "A data.frame: 6 x 6\n",
       "\n",
       "| <!--/--> | Viral &lt;dbl&gt; | Bacterial &lt;dbl&gt; | Human &lt;dbl&gt; | Multicancer &lt;dbl&gt; | Crossreactive &lt;dbl&gt; | cdr3_reads &lt;dbl&gt; |\n",
       "|---|---|---|---|---|---|---|\n",
       "| CHP_346 | 0 | 0 | 0 | 0 | 0 |  988 |\n",
       "| CHP_347 | 0 | 0 | 0 | 0 | 0 | 5840 |\n",
       "| CHP_348 | 0 | 0 | 0 | 0 | 0 |  952 |\n",
       "| CHP_349 | 0 | 0 | 0 | 0 | 0 | 1035 |\n",
       "| CHP_350 | 0 | 0 | 0 | 0 | 0 | 1647 |\n",
       "| CHP_352 | 0 | 0 | 0 | 0 | 0 |  352 |\n",
       "\n"
      ],
      "text/plain": [
       "        Viral Bacterial Human Multicancer Crossreactive cdr3_reads\n",
       "CHP_346 0     0         0     0           0              988      \n",
       "CHP_347 0     0         0     0           0             5840      \n",
       "CHP_348 0     0         0     0           0              952      \n",
       "CHP_349 0     0         0     0           0             1035      \n",
       "CHP_350 0     0         0     0           0             1647      \n",
       "CHP_352 0     0         0     0           0              352      "
      ]
     },
     "metadata": {},
     "output_type": "display_data"
    }
   ],
   "source": [
    "head(samples_compreads)"
   ]
  },
  {
   "cell_type": "code",
   "execution_count": null,
   "metadata": {
    "vscode": {
     "languageId": "r"
    }
   },
   "outputs": [],
   "source": []
  },
  {
   "cell_type": "code",
   "execution_count": null,
   "metadata": {
    "vscode": {
     "languageId": "r"
    }
   },
   "outputs": [],
   "source": [
    "temp <- comp_all[comp_all$viral == 1 & comp_all$bacterial == 0 & comp_all$human == 0, ]\n",
    "comp_reads <- temp %>%\n",
    "  group_by(Patient, viral) %>%\n",
    "  summarise(SumCount = sum(cloneCount), .groups = \"drop\") %>%\n",
    "  ungroup()\n",
    "comp_reads <- comp_reads[comp_reads$viral == 1, ]\n",
    "samples_compreads$Viral <- comp_reads$SumCount[match(rownames(samples_compreads), comp_reads$Patient)]\n",
    "\n",
    "\n",
    "temp <- comp_all[comp_all$viral == 0 & comp_all$bacterial == 1 & comp_all$human == 0, ]\n",
    "comp_reads <- temp %>%\n",
    "  group_by(Patient, bacterial) %>%\n",
    "  summarise(SumCount = sum(cloneCount), .groups = \"drop\") %>%\n",
    "  ungroup()\n",
    "comp_reads <- comp_reads[comp_reads$bacterial == 1, ]\n",
    "samples_compreads$Bacterial <- comp_reads$SumCount[match(rownames(samples_compreads), comp_reads$Patient)]\n",
    "\n",
    "\n",
    "temp <- comp_all[comp_all$viral == 0 & comp_all$bacterial == 0 & comp_all$human == 1, ]\n",
    "comp_reads <- temp %>%\n",
    "  group_by(Patient, human) %>%\n",
    "  summarise(SumCount = sum(cloneCount), .groups = \"drop\") %>%\n",
    "  ungroup()\n",
    "comp_reads <- comp_reads[comp_reads$human == 1, ]\n",
    "samples_compreads$Human <- comp_reads$SumCount[match(rownames(samples_compreads), comp_reads$Patient)]\n",
    "\n",
    "# comp_reads <- comp_all %>%\n",
    "#   group_by(Patient, multicancer) %>%\n",
    "#   summarise(SumCount = sum(cloneCount), .groups = 'drop') %>%\n",
    "#   ungroup()\n",
    "# comp_reads <- comp_reads[ comp_reads$multicancer == 1,]\n",
    "# samples_compreads$Multicancer <- comp_reads$SumCount[match(rownames(samples_compreads), comp_reads$Patient)]\n"
   ]
  },
  {
   "cell_type": "code",
   "execution_count": null,
   "metadata": {
    "vscode": {
     "languageId": "r"
    }
   },
   "outputs": [
    {
     "data": {
      "text/html": [
       "<table class=\"dataframe\">\n",
       "<caption>A data.frame: 6 x 8</caption>\n",
       "<thead>\n",
       "\t<tr><th></th><th scope=col>Viral</th><th scope=col>Bacterial</th><th scope=col>Human</th><th scope=col>Multicancer</th><th scope=col>Crossreactive</th><th scope=col>cdr3_reads</th><th scope=col>cohort</th><th scope=col>frac</th></tr>\n",
       "\t<tr><th></th><th scope=col>&lt;dbl&gt;</th><th scope=col>&lt;dbl&gt;</th><th scope=col>&lt;dbl&gt;</th><th scope=col>&lt;dbl&gt;</th><th scope=col>&lt;dbl&gt;</th><th scope=col>&lt;dbl&gt;</th><th scope=col>&lt;chr&gt;</th><th scope=col>&lt;dbl&gt;</th></tr>\n",
       "</thead>\n",
       "<tbody>\n",
       "\t<tr><th scope=row>CHP_346</th><td> 0</td><td>0</td><td>0</td><td>0</td><td>0</td><td> 988</td><td>Solidtumors</td><td>0</td></tr>\n",
       "\t<tr><th scope=row>CHP_347</th><td>57</td><td>0</td><td>0</td><td>0</td><td>0</td><td>5840</td><td>Leukemia   </td><td>0</td></tr>\n",
       "\t<tr><th scope=row>CHP_348</th><td> 3</td><td>0</td><td>0</td><td>0</td><td>0</td><td> 952</td><td>Solidtumors</td><td>0</td></tr>\n",
       "\t<tr><th scope=row>CHP_349</th><td> 0</td><td>0</td><td>0</td><td>0</td><td>0</td><td>1035</td><td>Leukemia   </td><td>0</td></tr>\n",
       "\t<tr><th scope=row>CHP_350</th><td> 0</td><td>0</td><td>0</td><td>0</td><td>0</td><td>1647</td><td>Solidtumors</td><td>0</td></tr>\n",
       "\t<tr><th scope=row>CHP_352</th><td> 0</td><td>0</td><td>0</td><td>0</td><td>0</td><td> 352</td><td>Leukemia   </td><td>0</td></tr>\n",
       "</tbody>\n",
       "</table>\n"
      ],
      "text/latex": [
       "A data.frame: 6 x 8\n",
       "\\begin{tabular}{r|llllllll}\n",
       "  & Viral & Bacterial & Human & Multicancer & Crossreactive & cdr3\\_reads & cohort & frac\\\\\n",
       "  & <dbl> & <dbl> & <dbl> & <dbl> & <dbl> & <dbl> & <chr> & <dbl>\\\\\n",
       "\\hline\n",
       "\tCHP\\_346 &  0 & 0 & 0 & 0 & 0 &  988 & Solidtumors & 0\\\\\n",
       "\tCHP\\_347 & 57 & 0 & 0 & 0 & 0 & 5840 & Leukemia    & 0\\\\\n",
       "\tCHP\\_348 &  3 & 0 & 0 & 0 & 0 &  952 & Solidtumors & 0\\\\\n",
       "\tCHP\\_349 &  0 & 0 & 0 & 0 & 0 & 1035 & Leukemia    & 0\\\\\n",
       "\tCHP\\_350 &  0 & 0 & 0 & 0 & 0 & 1647 & Solidtumors & 0\\\\\n",
       "\tCHP\\_352 &  0 & 0 & 0 & 0 & 0 &  352 & Leukemia    & 0\\\\\n",
       "\\end{tabular}\n"
      ],
      "text/markdown": [
       "\n",
       "A data.frame: 6 x 8\n",
       "\n",
       "| <!--/--> | Viral &lt;dbl&gt; | Bacterial &lt;dbl&gt; | Human &lt;dbl&gt; | Multicancer &lt;dbl&gt; | Crossreactive &lt;dbl&gt; | cdr3_reads &lt;dbl&gt; | cohort &lt;chr&gt; | frac &lt;dbl&gt; |\n",
       "|---|---|---|---|---|---|---|---|---|\n",
       "| CHP_346 |  0 | 0 | 0 | 0 | 0 |  988 | Solidtumors | 0 |\n",
       "| CHP_347 | 57 | 0 | 0 | 0 | 0 | 5840 | Leukemia    | 0 |\n",
       "| CHP_348 |  3 | 0 | 0 | 0 | 0 |  952 | Solidtumors | 0 |\n",
       "| CHP_349 |  0 | 0 | 0 | 0 | 0 | 1035 | Leukemia    | 0 |\n",
       "| CHP_350 |  0 | 0 | 0 | 0 | 0 | 1647 | Solidtumors | 0 |\n",
       "| CHP_352 |  0 | 0 | 0 | 0 | 0 |  352 | Leukemia    | 0 |\n",
       "\n"
      ],
      "text/plain": [
       "        Viral Bacterial Human Multicancer Crossreactive cdr3_reads cohort     \n",
       "CHP_346  0    0         0     0           0              988       Solidtumors\n",
       "CHP_347 57    0         0     0           0             5840       Leukemia   \n",
       "CHP_348  3    0         0     0           0              952       Solidtumors\n",
       "CHP_349  0    0         0     0           0             1035       Leukemia   \n",
       "CHP_350  0    0         0     0           0             1647       Solidtumors\n",
       "CHP_352  0    0         0     0           0              352       Leukemia   \n",
       "        frac\n",
       "CHP_346 0   \n",
       "CHP_347 0   \n",
       "CHP_348 0   \n",
       "CHP_349 0   \n",
       "CHP_350 0   \n",
       "CHP_352 0   "
      ]
     },
     "metadata": {},
     "output_type": "display_data"
    }
   ],
   "source": [
    "head(samples_compreads)"
   ]
  },
  {
   "cell_type": "code",
   "execution_count": null,
   "metadata": {
    "vscode": {
     "languageId": "r"
    }
   },
   "outputs": [],
   "source": [
    "# temp <- comp_all[ comp_all$Patient == \"CHP_346\", c(\"viral\", \"bacterial\",\"cloneCount\", \"Component_id\")]"
   ]
  },
  {
   "cell_type": "code",
   "execution_count": null,
   "metadata": {
    "vscode": {
     "languageId": "r"
    }
   },
   "outputs": [],
   "source": [
    "# add cohort to samples_compreads based on comp_all$cohort\n",
    "samples_compreads$cohort <- comp_all$cohort[match(rownames(samples_compreads), comp_all$Patient)]\n"
   ]
  },
  {
   "cell_type": "code",
   "execution_count": null,
   "metadata": {
    "vscode": {
     "languageId": "r"
    }
   },
   "outputs": [
    {
     "data": {
      "text/html": [
       "<table class=\"dataframe\">\n",
       "<caption>A data.frame: 6 x 7</caption>\n",
       "<thead>\n",
       "\t<tr><th></th><th scope=col>Viral</th><th scope=col>Bacterial</th><th scope=col>Human</th><th scope=col>Multicancer</th><th scope=col>Crossreactive</th><th scope=col>cdr3_reads</th><th scope=col>cohort</th></tr>\n",
       "\t<tr><th></th><th scope=col>&lt;dbl&gt;</th><th scope=col>&lt;dbl&gt;</th><th scope=col>&lt;dbl&gt;</th><th scope=col>&lt;dbl&gt;</th><th scope=col>&lt;dbl&gt;</th><th scope=col>&lt;dbl&gt;</th><th scope=col>&lt;chr&gt;</th></tr>\n",
       "</thead>\n",
       "<tbody>\n",
       "\t<tr><th scope=row>P00647</th><td> NA</td><td>NA</td><td>NA</td><td>0</td><td>0</td><td> 2715</td><td>Emerson_Adult</td></tr>\n",
       "\t<tr><th scope=row>P00649</th><td> 93</td><td>54</td><td>NA</td><td>0</td><td>0</td><td>41413</td><td>Emerson_Adult</td></tr>\n",
       "\t<tr><th scope=row>P00650</th><td> NA</td><td>NA</td><td>NA</td><td>0</td><td>0</td><td>12858</td><td>Emerson_Adult</td></tr>\n",
       "\t<tr><th scope=row>P00654</th><td> NA</td><td>NA</td><td>NA</td><td>0</td><td>0</td><td>14014</td><td>Emerson_Adult</td></tr>\n",
       "\t<tr><th scope=row>P00656</th><td>107</td><td>NA</td><td>NA</td><td>0</td><td>0</td><td>31604</td><td>Emerson_Adult</td></tr>\n",
       "\t<tr><th scope=row>P00665</th><td> NA</td><td>NA</td><td>NA</td><td>0</td><td>0</td><td>81794</td><td>Emerson_Adult</td></tr>\n",
       "</tbody>\n",
       "</table>\n"
      ],
      "text/latex": [
       "A data.frame: 6 x 7\n",
       "\\begin{tabular}{r|lllllll}\n",
       "  & Viral & Bacterial & Human & Multicancer & Crossreactive & cdr3\\_reads & cohort\\\\\n",
       "  & <dbl> & <dbl> & <dbl> & <dbl> & <dbl> & <dbl> & <chr>\\\\\n",
       "\\hline\n",
       "\tP00647 &  NA & NA & NA & 0 & 0 &  2715 & Emerson\\_Adult\\\\\n",
       "\tP00649 &  93 & 54 & NA & 0 & 0 & 41413 & Emerson\\_Adult\\\\\n",
       "\tP00650 &  NA & NA & NA & 0 & 0 & 12858 & Emerson\\_Adult\\\\\n",
       "\tP00654 &  NA & NA & NA & 0 & 0 & 14014 & Emerson\\_Adult\\\\\n",
       "\tP00656 & 107 & NA & NA & 0 & 0 & 31604 & Emerson\\_Adult\\\\\n",
       "\tP00665 &  NA & NA & NA & 0 & 0 & 81794 & Emerson\\_Adult\\\\\n",
       "\\end{tabular}\n"
      ],
      "text/markdown": [
       "\n",
       "A data.frame: 6 x 7\n",
       "\n",
       "| <!--/--> | Viral &lt;dbl&gt; | Bacterial &lt;dbl&gt; | Human &lt;dbl&gt; | Multicancer &lt;dbl&gt; | Crossreactive &lt;dbl&gt; | cdr3_reads &lt;dbl&gt; | cohort &lt;chr&gt; |\n",
       "|---|---|---|---|---|---|---|---|\n",
       "| P00647 |  NA | NA | NA | 0 | 0 |  2715 | Emerson_Adult |\n",
       "| P00649 |  93 | 54 | NA | 0 | 0 | 41413 | Emerson_Adult |\n",
       "| P00650 |  NA | NA | NA | 0 | 0 | 12858 | Emerson_Adult |\n",
       "| P00654 |  NA | NA | NA | 0 | 0 | 14014 | Emerson_Adult |\n",
       "| P00656 | 107 | NA | NA | 0 | 0 | 31604 | Emerson_Adult |\n",
       "| P00665 |  NA | NA | NA | 0 | 0 | 81794 | Emerson_Adult |\n",
       "\n"
      ],
      "text/plain": [
       "       Viral Bacterial Human Multicancer Crossreactive cdr3_reads cohort       \n",
       "P00647  NA   NA        NA    0           0              2715      Emerson_Adult\n",
       "P00649  93   54        NA    0           0             41413      Emerson_Adult\n",
       "P00650  NA   NA        NA    0           0             12858      Emerson_Adult\n",
       "P00654  NA   NA        NA    0           0             14014      Emerson_Adult\n",
       "P00656 107   NA        NA    0           0             31604      Emerson_Adult\n",
       "P00665  NA   NA        NA    0           0             81794      Emerson_Adult"
      ]
     },
     "metadata": {},
     "output_type": "display_data"
    }
   ],
   "source": [
    "tail(samples_compreads)"
   ]
  },
  {
   "cell_type": "code",
   "execution_count": null,
   "metadata": {
    "vscode": {
     "languageId": "r"
    }
   },
   "outputs": [],
   "source": [
    "# Replace NA values with 0 in columns\n",
    "columns_to_fill <- colnames(samples_compreads)[1:5]\n",
    "samples_compreads[columns_to_fill] <- lapply(samples_compreads[columns_to_fill], function(x) ifelse(is.na(x), 0, x))\n"
   ]
  },
  {
   "cell_type": "code",
   "execution_count": null,
   "metadata": {
    "vscode": {
     "languageId": "r"
    }
   },
   "outputs": [
    {
     "data": {
      "text/html": [
       "<table class=\"dataframe\">\n",
       "<caption>A data.frame: 6 x 7</caption>\n",
       "<thead>\n",
       "\t<tr><th></th><th scope=col>Viral</th><th scope=col>Bacterial</th><th scope=col>Human</th><th scope=col>Multicancer</th><th scope=col>Crossreactive</th><th scope=col>cdr3_reads</th><th scope=col>cohort</th></tr>\n",
       "\t<tr><th></th><th scope=col>&lt;dbl&gt;</th><th scope=col>&lt;dbl&gt;</th><th scope=col>&lt;dbl&gt;</th><th scope=col>&lt;dbl&gt;</th><th scope=col>&lt;dbl&gt;</th><th scope=col>&lt;dbl&gt;</th><th scope=col>&lt;chr&gt;</th></tr>\n",
       "</thead>\n",
       "<tbody>\n",
       "\t<tr><th scope=row>P00647</th><td>  0</td><td> 0</td><td>0</td><td>0</td><td>0</td><td> 2715</td><td>Emerson_Adult</td></tr>\n",
       "\t<tr><th scope=row>P00649</th><td> 93</td><td>54</td><td>0</td><td>0</td><td>0</td><td>41413</td><td>Emerson_Adult</td></tr>\n",
       "\t<tr><th scope=row>P00650</th><td>  0</td><td> 0</td><td>0</td><td>0</td><td>0</td><td>12858</td><td>Emerson_Adult</td></tr>\n",
       "\t<tr><th scope=row>P00654</th><td>  0</td><td> 0</td><td>0</td><td>0</td><td>0</td><td>14014</td><td>Emerson_Adult</td></tr>\n",
       "\t<tr><th scope=row>P00656</th><td>107</td><td> 0</td><td>0</td><td>0</td><td>0</td><td>31604</td><td>Emerson_Adult</td></tr>\n",
       "\t<tr><th scope=row>P00665</th><td>  0</td><td> 0</td><td>0</td><td>0</td><td>0</td><td>81794</td><td>Emerson_Adult</td></tr>\n",
       "</tbody>\n",
       "</table>\n"
      ],
      "text/latex": [
       "A data.frame: 6 x 7\n",
       "\\begin{tabular}{r|lllllll}\n",
       "  & Viral & Bacterial & Human & Multicancer & Crossreactive & cdr3\\_reads & cohort\\\\\n",
       "  & <dbl> & <dbl> & <dbl> & <dbl> & <dbl> & <dbl> & <chr>\\\\\n",
       "\\hline\n",
       "\tP00647 &   0 &  0 & 0 & 0 & 0 &  2715 & Emerson\\_Adult\\\\\n",
       "\tP00649 &  93 & 54 & 0 & 0 & 0 & 41413 & Emerson\\_Adult\\\\\n",
       "\tP00650 &   0 &  0 & 0 & 0 & 0 & 12858 & Emerson\\_Adult\\\\\n",
       "\tP00654 &   0 &  0 & 0 & 0 & 0 & 14014 & Emerson\\_Adult\\\\\n",
       "\tP00656 & 107 &  0 & 0 & 0 & 0 & 31604 & Emerson\\_Adult\\\\\n",
       "\tP00665 &   0 &  0 & 0 & 0 & 0 & 81794 & Emerson\\_Adult\\\\\n",
       "\\end{tabular}\n"
      ],
      "text/markdown": [
       "\n",
       "A data.frame: 6 x 7\n",
       "\n",
       "| <!--/--> | Viral &lt;dbl&gt; | Bacterial &lt;dbl&gt; | Human &lt;dbl&gt; | Multicancer &lt;dbl&gt; | Crossreactive &lt;dbl&gt; | cdr3_reads &lt;dbl&gt; | cohort &lt;chr&gt; |\n",
       "|---|---|---|---|---|---|---|---|\n",
       "| P00647 |   0 |  0 | 0 | 0 | 0 |  2715 | Emerson_Adult |\n",
       "| P00649 |  93 | 54 | 0 | 0 | 0 | 41413 | Emerson_Adult |\n",
       "| P00650 |   0 |  0 | 0 | 0 | 0 | 12858 | Emerson_Adult |\n",
       "| P00654 |   0 |  0 | 0 | 0 | 0 | 14014 | Emerson_Adult |\n",
       "| P00656 | 107 |  0 | 0 | 0 | 0 | 31604 | Emerson_Adult |\n",
       "| P00665 |   0 |  0 | 0 | 0 | 0 | 81794 | Emerson_Adult |\n",
       "\n"
      ],
      "text/plain": [
       "       Viral Bacterial Human Multicancer Crossreactive cdr3_reads cohort       \n",
       "P00647   0    0        0     0           0              2715      Emerson_Adult\n",
       "P00649  93   54        0     0           0             41413      Emerson_Adult\n",
       "P00650   0    0        0     0           0             12858      Emerson_Adult\n",
       "P00654   0    0        0     0           0             14014      Emerson_Adult\n",
       "P00656 107    0        0     0           0             31604      Emerson_Adult\n",
       "P00665   0    0        0     0           0             81794      Emerson_Adult"
      ]
     },
     "metadata": {},
     "output_type": "display_data"
    }
   ],
   "source": [
    "tail(samples_compreads)"
   ]
  },
  {
   "cell_type": "code",
   "execution_count": null,
   "metadata": {
    "vscode": {
     "languageId": "r"
    }
   },
   "outputs": [
    {
     "data": {
      "text/plain": [
       "\n",
       "     Emerson_Adult      Emerson_Child           Leukemia           Lymphoma \n",
       "             14746                754                973                208 \n",
       "       Solidtumors T-cellmalignancies \n",
       "               579                 62 "
      ]
     },
     "metadata": {},
     "output_type": "display_data"
    }
   ],
   "source": [
    "table(comp_all$cohort)"
   ]
  },
  {
   "cell_type": "code",
   "execution_count": null,
   "metadata": {
    "vscode": {
     "languageId": "r"
    }
   },
   "outputs": [],
   "source": [
    "samples_compreads$frac <- samples_compreads$Viral / samples_compreads$cdr3_reads"
   ]
  },
  {
   "cell_type": "code",
   "execution_count": null,
   "metadata": {
    "vscode": {
     "languageId": "r"
    }
   },
   "outputs": [
    {
     "data": {
      "text/plain": [
       "\n",
       "\tPairwise comparisons using t tests with non-pooled SD \n",
       "\n",
       "data:  samples_compreads$frac and samples_compreads$cohort \n",
       "\n",
       "                   Emerson_Adult Emerson_Child Leukemia Lymphoma Solidtumors\n",
       "Emerson_Child      0.73          -             -        -        -          \n",
       "Leukemia           1.00          1.00          -        -        -          \n",
       "Lymphoma           1.00          1.00          1.00     -        -          \n",
       "Solidtumors        1.00          1.00          1.00     1.00     -          \n",
       "T-cellmalignancies 1.00          1.00          1.00     1.00     1.00       \n",
       "\n",
       "P value adjustment method: bonferroni "
      ]
     },
     "metadata": {},
     "output_type": "display_data"
    }
   ],
   "source": [
    "pairwise.t.test(samples_compreads$frac, samples_compreads$cohort,\n",
    "    p.adjust.method = \"bonferroni\", pool.sd = FALSE\n",
    ")\n"
   ]
  },
  {
   "cell_type": "code",
   "execution_count": null,
   "metadata": {
    "vscode": {
     "languageId": "r"
    }
   },
   "outputs": [
    {
     "data": {
      "image/png": "[encoded data removed]",
      "text/plain": [
       "plot without title"
      ]
     },
     "metadata": {},
     "output_type": "display_data"
    }
   ],
   "source": [
    "ggplot(samples_compreads, aes(x = cohort, y = frac)) +\n",
    "    geom_jitter(width = 0.1, alpha = 0.3, shape = 16) +\n",
    "    geom_boxplot(fill = \"transparent\", outlier.shape = NA)"
   ]
  },
  {
   "cell_type": "code",
   "execution_count": null,
   "metadata": {
    "vscode": {
     "languageId": "r"
    }
   },
   "outputs": [],
   "source": []
  },
  {
   "cell_type": "markdown",
   "metadata": {},
   "source": [
    "## Compare cfdna components with shbc"
   ]
  },
  {
   "cell_type": "code",
   "execution_count": null,
   "metadata": {
    "vscode": {
     "languageId": "r"
    }
   },
   "outputs": [],
   "source": [
    "components_cfdna <- readr::read_rds(file = paste0(datapath, \"GLIPH/components_sep_cfDNA.rds\"))"
   ]
  }
 ],
 "metadata": {
  "kernelspec": {
   "display_name": "R 4.0",
   "language": "R",
   "name": "ir40"
  },
  "language_info": {
   "codemirror_mode": "r",
   "file_extension": ".r",
   "mimetype": "text/x-r-source",
   "name": "R",
   "pygments_lexer": "r",
   "version": "4.2.2"
  },
  "toc": {
   "base_numbering": 1,
   "nav_menu": {},
   "number_sections": false,
   "sideBar": true,
   "skip_h1_title": false,
   "title_cell": "Table of Contents",
   "title_sidebar": "Contents",
   "toc_cell": true,
   "toc_position": {
    "height": "calc(100% - 180px)",
    "left": "10px",
    "top": "150px",
    "width": "186.15px"
   },
   "toc_section_display": true,
   "toc_window_display": true
  }
 },
 "nbformat": 4,
 "nbformat_minor": 2
}

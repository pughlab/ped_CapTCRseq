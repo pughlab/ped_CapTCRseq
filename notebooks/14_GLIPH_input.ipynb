{
 "cells": [
  {
   "attachments": {},
   "cell_type": "markdown",
   "metadata": {},
   "source": [
    "# Dependencies"
   ]
  },
  {
   "cell_type": "code",
   "execution_count": 1,
   "metadata": {
    "vscode": {
     "languageId": "r"
    }
   },
   "outputs": [],
   "source": [
    "pacman::p_load(data.table)"
   ]
  },
  {
   "attachments": {},
   "cell_type": "markdown",
   "metadata": {},
   "source": [
    "# Functions"
   ]
  },
  {
   "cell_type": "code",
   "execution_count": 2,
   "metadata": {
    "vscode": {
     "languageId": "r"
    }
   },
   "outputs": [],
   "source": [
    "#source(\"/Users/anabbi/git/ped_CapTCRseq/R/Immune_diversity.R\")"
   ]
  },
  {
   "attachments": {},
   "cell_type": "markdown",
   "metadata": {},
   "source": [
    "# Paths"
   ]
  },
  {
   "cell_type": "code",
   "execution_count": 3,
   "metadata": {
    "vscode": {
     "languageId": "r"
    }
   },
   "outputs": [],
   "source": [
    "datapath <- \"/Users/anabbi/OneDrive - UHN/Documents/INTERCEPT/Data/\"\n",
    "plotpath <- \"/Users/anabbi/OneDrive - UHN/Documents/INTERCEPT/Plots/\"\n",
    "manifestpath <- \"/Users/anabbi/OneDrive - UHN/Documents/INTERCEPT/Manifests/\"\n",
    "\n",
    "gitpath <- \"/Users/anabbi/git/ped_CapTCRseq/\""
   ]
  },
  {
   "cell_type": "code",
   "execution_count": 4,
   "metadata": {
    "vscode": {
     "languageId": "r"
    }
   },
   "outputs": [],
   "source": [
    "h4hpath <- \"/Users/anabbi/Desktop/H4H/INTERCEPT/NextSeq/\""
   ]
  },
  {
   "attachments": {},
   "cell_type": "markdown",
   "metadata": {},
   "source": [
    "# Main"
   ]
  },
  {
   "cell_type": "code",
   "execution_count": 5,
   "metadata": {
    "vscode": {
     "languageId": "r"
    }
   },
   "outputs": [],
   "source": [
    "meta_div <- readr::read_rds(file = paste0(datapath,\"capTCRseq/meta_div_goodsamples.rds\"))"
   ]
  },
  {
   "cell_type": "code",
   "execution_count": 6,
   "metadata": {
    "vscode": {
     "languageId": "r"
    }
   },
   "outputs": [
    {
     "data": {
      "text/plain": [
       "   Min. 1st Qu.  Median    Mean 3rd Qu.    Max.    NA's \n",
       "  0.000   2.000   8.000   8.316  14.000  21.000      24 "
      ]
     },
     "metadata": {},
     "output_type": "display_data"
    }
   ],
   "source": [
    "summary(meta_div$Age)"
   ]
  },
  {
   "cell_type": "code",
   "execution_count": 7,
   "metadata": {
    "vscode": {
     "languageId": "r"
    }
   },
   "outputs": [],
   "source": [
    "load(file = paste0(datapath,\"capTCRseq/TRBfiles.RData\"))"
   ]
  },
  {
   "cell_type": "code",
   "execution_count": 8,
   "metadata": {
    "vscode": {
     "languageId": "r"
    }
   },
   "outputs": [
    {
     "data": {
      "text/html": [
       "<style>\n",
       ".list-inline {list-style: none; margin:0; padding: 0}\n",
       ".list-inline>li {display: inline-block}\n",
       ".list-inline>li:not(:last-child)::after {content: \"\\00b7\"; padding: 0 .5ex}\n",
       "</style>\n",
       "<ol class=list-inline><li>603</li><li>3</li></ol>\n"
      ],
      "text/latex": [
       "\\begin{enumerate*}\n",
       "\\item 603\n",
       "\\item 3\n",
       "\\end{enumerate*}\n"
      ],
      "text/markdown": [
       "1. 603\n",
       "2. 3\n",
       "\n",
       "\n"
      ],
      "text/plain": [
       "[1] 603   3"
      ]
     },
     "metadata": {},
     "output_type": "display_data"
    }
   ],
   "source": [
    "dim(file_df_dedup_trb)"
   ]
  },
  {
   "cell_type": "code",
   "execution_count": 9,
   "metadata": {
    "vscode": {
     "languageId": "r"
    }
   },
   "outputs": [],
   "source": [
    "# get good samples\n",
    "file_df_dedup_trb <- file_df_dedup_trb[ file_df_dedup_trb$samplename %in% meta_div$basename, ]"
   ]
  },
  {
   "cell_type": "code",
   "execution_count": 10,
   "metadata": {
    "vscode": {
     "languageId": "r"
    }
   },
   "outputs": [
    {
     "data": {
      "text/html": [
       "<style>\n",
       ".list-inline {list-style: none; margin:0; padding: 0}\n",
       ".list-inline>li {display: inline-block}\n",
       ".list-inline>li:not(:last-child)::after {content: \"\\00b7\"; padding: 0 .5ex}\n",
       "</style>\n",
       "<ol class=list-inline><li>513</li><li>3</li></ol>\n"
      ],
      "text/latex": [
       "\\begin{enumerate*}\n",
       "\\item 513\n",
       "\\item 3\n",
       "\\end{enumerate*}\n"
      ],
      "text/markdown": [
       "1. 513\n",
       "2. 3\n",
       "\n",
       "\n"
      ],
      "text/plain": [
       "[1] 513   3"
      ]
     },
     "metadata": {},
     "output_type": "display_data"
    }
   ],
   "source": [
    "dim(file_df_dedup_trb)"
   ]
  },
  {
   "cell_type": "code",
   "execution_count": 11,
   "metadata": {
    "vscode": {
     "languageId": "r"
    }
   },
   "outputs": [],
   "source": [
    "file_df_dedup_trb$Patient <- meta_div$Patient[match(file_df_dedup_trb$samplename, meta_div$basename)]"
   ]
  },
  {
   "cell_type": "code",
   "execution_count": 12,
   "metadata": {
    "vscode": {
     "languageId": "r"
    }
   },
   "outputs": [
    {
     "data": {
      "text/html": [
       "<style>\n",
       ".list-inline {list-style: none; margin:0; padding: 0}\n",
       ".list-inline>li {display: inline-block}\n",
       ".list-inline>li:not(:last-child)::after {content: \"\\00b7\"; padding: 0 .5ex}\n",
       "</style>\n",
       "<ol class=list-inline><li>513</li><li>4</li></ol>\n"
      ],
      "text/latex": [
       "\\begin{enumerate*}\n",
       "\\item 513\n",
       "\\item 4\n",
       "\\end{enumerate*}\n"
      ],
      "text/markdown": [
       "1. 513\n",
       "2. 4\n",
       "\n",
       "\n"
      ],
      "text/plain": [
       "[1] 513   4"
      ]
     },
     "metadata": {},
     "output_type": "display_data"
    }
   ],
   "source": [
    "dim(file_df_dedup_trb)"
   ]
  },
  {
   "cell_type": "code",
   "execution_count": 13,
   "metadata": {
    "vscode": {
     "languageId": "r"
    }
   },
   "outputs": [],
   "source": [
    "#replace - with _\n",
    "file_df_dedup_trb$Patient <- gsub(\"-\", \"_\", file_df_dedup_trb$Patient)"
   ]
  },
  {
   "cell_type": "code",
   "execution_count": 14,
   "metadata": {
    "vscode": {
     "languageId": "r"
    }
   },
   "outputs": [
    {
     "data": {
      "text/html": [
       "<table class=\"dataframe\">\n",
       "<caption>A data.frame: 6 x 4</caption>\n",
       "<thead>\n",
       "\t<tr><th></th><th scope=col>file_list</th><th scope=col>samplename</th><th scope=col>size</th><th scope=col>Patient</th></tr>\n",
       "\t<tr><th></th><th scope=col>&lt;chr&gt;</th><th scope=col>&lt;chr&gt;</th><th scope=col>&lt;dbl&gt;</th><th scope=col>&lt;chr&gt;</th></tr>\n",
       "</thead>\n",
       "<tbody>\n",
       "\t<tr><th scope=row>2</th><td>batch_reseq_24Feb2020/mixcr/clones/CLONES_TRBCHP_350-01-PBMC-DNA.txt</td><td>CHP_350-01-PBMC-DNA</td><td> 85631</td><td>CHP_350</td></tr>\n",
       "\t<tr><th scope=row>3</th><td>batch_reseq_24Feb2020/mixcr/clones/CLONES_TRBCHP_350-02-PBMC-DNA.txt</td><td>CHP_350-02-PBMC-DNA</td><td>143632</td><td>CHP_350</td></tr>\n",
       "\t<tr><th scope=row>4</th><td>batch_reseq_24Feb2020/mixcr/clones/CLONES_TRBCHP_350-03-PBMC-DNA.txt</td><td>CHP_350-03-PBMC-DNA</td><td>107190</td><td>CHP_350</td></tr>\n",
       "\t<tr><th scope=row>5</th><td>batch_reseq_24Feb2020/mixcr/clones/CLONES_TRBCHP_350-04-PBMC-DNA.txt</td><td>CHP_350-04-PBMC-DNA</td><td> 54188</td><td>CHP_350</td></tr>\n",
       "\t<tr><th scope=row>7</th><td>batch_reseq_24Feb2020/mixcr/clones/CLONES_TRBCHP_354-01-PBMC-DNA.txt</td><td>CHP_354-01-PBMC-DNA</td><td>  3728</td><td>CHP_354</td></tr>\n",
       "\t<tr><th scope=row>8</th><td>batch_reseq_24Feb2020/mixcr/clones/CLONES_TRBCHP_356-03-PBMC-DNA.txt</td><td>CHP_356-03-PBMC-DNA</td><td>  1573</td><td>CHP_356</td></tr>\n",
       "</tbody>\n",
       "</table>\n"
      ],
      "text/latex": [
       "A data.frame: 6 x 4\n",
       "\\begin{tabular}{r|llll}\n",
       "  & file\\_list & samplename & size & Patient\\\\\n",
       "  & <chr> & <chr> & <dbl> & <chr>\\\\\n",
       "\\hline\n",
       "\t2 & batch\\_reseq\\_24Feb2020/mixcr/clones/CLONES\\_TRBCHP\\_350-01-PBMC-DNA.txt & CHP\\_350-01-PBMC-DNA &  85631 & CHP\\_350\\\\\n",
       "\t3 & batch\\_reseq\\_24Feb2020/mixcr/clones/CLONES\\_TRBCHP\\_350-02-PBMC-DNA.txt & CHP\\_350-02-PBMC-DNA & 143632 & CHP\\_350\\\\\n",
       "\t4 & batch\\_reseq\\_24Feb2020/mixcr/clones/CLONES\\_TRBCHP\\_350-03-PBMC-DNA.txt & CHP\\_350-03-PBMC-DNA & 107190 & CHP\\_350\\\\\n",
       "\t5 & batch\\_reseq\\_24Feb2020/mixcr/clones/CLONES\\_TRBCHP\\_350-04-PBMC-DNA.txt & CHP\\_350-04-PBMC-DNA &  54188 & CHP\\_350\\\\\n",
       "\t7 & batch\\_reseq\\_24Feb2020/mixcr/clones/CLONES\\_TRBCHP\\_354-01-PBMC-DNA.txt & CHP\\_354-01-PBMC-DNA &   3728 & CHP\\_354\\\\\n",
       "\t8 & batch\\_reseq\\_24Feb2020/mixcr/clones/CLONES\\_TRBCHP\\_356-03-PBMC-DNA.txt & CHP\\_356-03-PBMC-DNA &   1573 & CHP\\_356\\\\\n",
       "\\end{tabular}\n"
      ],
      "text/markdown": [
       "\n",
       "A data.frame: 6 x 4\n",
       "\n",
       "| <!--/--> | file_list &lt;chr&gt; | samplename &lt;chr&gt; | size &lt;dbl&gt; | Patient &lt;chr&gt; |\n",
       "|---|---|---|---|---|\n",
       "| 2 | batch_reseq_24Feb2020/mixcr/clones/CLONES_TRBCHP_350-01-PBMC-DNA.txt | CHP_350-01-PBMC-DNA |  85631 | CHP_350 |\n",
       "| 3 | batch_reseq_24Feb2020/mixcr/clones/CLONES_TRBCHP_350-02-PBMC-DNA.txt | CHP_350-02-PBMC-DNA | 143632 | CHP_350 |\n",
       "| 4 | batch_reseq_24Feb2020/mixcr/clones/CLONES_TRBCHP_350-03-PBMC-DNA.txt | CHP_350-03-PBMC-DNA | 107190 | CHP_350 |\n",
       "| 5 | batch_reseq_24Feb2020/mixcr/clones/CLONES_TRBCHP_350-04-PBMC-DNA.txt | CHP_350-04-PBMC-DNA |  54188 | CHP_350 |\n",
       "| 7 | batch_reseq_24Feb2020/mixcr/clones/CLONES_TRBCHP_354-01-PBMC-DNA.txt | CHP_354-01-PBMC-DNA |   3728 | CHP_354 |\n",
       "| 8 | batch_reseq_24Feb2020/mixcr/clones/CLONES_TRBCHP_356-03-PBMC-DNA.txt | CHP_356-03-PBMC-DNA |   1573 | CHP_356 |\n",
       "\n"
      ],
      "text/plain": [
       "  file_list                                                           \n",
       "2 batch_reseq_24Feb2020/mixcr/clones/CLONES_TRBCHP_350-01-PBMC-DNA.txt\n",
       "3 batch_reseq_24Feb2020/mixcr/clones/CLONES_TRBCHP_350-02-PBMC-DNA.txt\n",
       "4 batch_reseq_24Feb2020/mixcr/clones/CLONES_TRBCHP_350-03-PBMC-DNA.txt\n",
       "5 batch_reseq_24Feb2020/mixcr/clones/CLONES_TRBCHP_350-04-PBMC-DNA.txt\n",
       "7 batch_reseq_24Feb2020/mixcr/clones/CLONES_TRBCHP_354-01-PBMC-DNA.txt\n",
       "8 batch_reseq_24Feb2020/mixcr/clones/CLONES_TRBCHP_356-03-PBMC-DNA.txt\n",
       "  samplename          size   Patient\n",
       "2 CHP_350-01-PBMC-DNA  85631 CHP_350\n",
       "3 CHP_350-02-PBMC-DNA 143632 CHP_350\n",
       "4 CHP_350-03-PBMC-DNA 107190 CHP_350\n",
       "5 CHP_350-04-PBMC-DNA  54188 CHP_350\n",
       "7 CHP_354-01-PBMC-DNA   3728 CHP_354\n",
       "8 CHP_356-03-PBMC-DNA   1573 CHP_356"
      ]
     },
     "metadata": {},
     "output_type": "display_data"
    }
   ],
   "source": [
    "head(file_df_dedup_trb)"
   ]
  },
  {
   "cell_type": "code",
   "execution_count": 15,
   "metadata": {
    "vscode": {
     "languageId": "r"
    }
   },
   "outputs": [
    {
     "data": {
      "text/html": [
       "<table class=\"dataframe\">\n",
       "<caption>A data.frame: 3 x 66</caption>\n",
       "<thead>\n",
       "\t<tr><th></th><th scope=col>sample_id</th><th scope=col>Patient</th><th scope=col>cycle</th><th scope=col>FOLD</th><th scope=col>ATC</th><th scope=col>Age</th><th scope=col>Disease_type</th><th scope=col>TE_fold</th><th scope=col>CD3</th><th scope=col>EM</th><th scope=col>...</th><th scope=col>estimated_Shannon</th><th scope=col>SE_Shannon</th><th scope=col>observed_Simpson</th><th scope=col>estimated_Simpson</th><th scope=col>SE_Simpson</th><th scope=col>basename</th><th scope=col>file</th><th scope=col>sampletype</th><th scope=col>Group</th><th scope=col>log10shann</th></tr>\n",
       "\t<tr><th></th><th scope=col>&lt;chr&gt;</th><th scope=col>&lt;chr&gt;</th><th scope=col>&lt;chr&gt;</th><th scope=col>&lt;dbl&gt;</th><th scope=col>&lt;dbl&gt;</th><th scope=col>&lt;dbl&gt;</th><th scope=col>&lt;chr&gt;</th><th scope=col>&lt;dbl&gt;</th><th scope=col>&lt;int&gt;</th><th scope=col>&lt;int&gt;</th><th scope=col>...</th><th scope=col>&lt;dbl&gt;</th><th scope=col>&lt;dbl&gt;</th><th scope=col>&lt;dbl&gt;</th><th scope=col>&lt;dbl&gt;</th><th scope=col>&lt;dbl&gt;</th><th scope=col>&lt;chr&gt;</th><th scope=col>&lt;chr&gt;</th><th scope=col>&lt;chr&gt;</th><th scope=col>&lt;chr&gt;</th><th scope=col>&lt;dbl&gt;</th></tr>\n",
       "</thead>\n",
       "<tbody>\n",
       "\t<tr><th scope=row>139</th><td>CHP_377_01</td><td>CHP_377</td><td>X01</td><td>0.9</td><td>277.95</td><td>18</td><td>HR ALL</td><td>0.9</td><td>93</td><td> 0</td><td>...</td><td>   NA</td><td>   NA</td><td>   NA</td><td>   NA</td><td>   NA</td><td>CHP_377-01-cfDNA</td><td>NA                                                                             </td><td>cfDNA</td><td>CHP</td><td>        NA</td></tr>\n",
       "\t<tr><th scope=row>140</th><td>CHP_377_02</td><td>CHP_377</td><td>X02</td><td>0.0</td><td>  0.00</td><td>18</td><td>HR ALL</td><td>0.0</td><td> 0</td><td>NA</td><td>...</td><td>2.731</td><td>0.036</td><td>2.308</td><td>2.308</td><td>0.022</td><td>CHP_377-02_cfDNA</td><td>remaining_batch_4_cfDNA_15April2021/mixcr/clones/CLONES_TRBCHP_377-02_cfDNA.txt</td><td>cfDNA</td><td>CHP</td><td>0.43600354</td></tr>\n",
       "\t<tr><th scope=row>141</th><td>CHP_377_03</td><td>CHP_377</td><td>X03</td><td>0.0</td><td>  0.00</td><td>18</td><td>HR ALL</td><td>0.0</td><td> 0</td><td>NA</td><td>...</td><td>1.037</td><td>0.005</td><td>1.012</td><td>1.012</td><td>0.002</td><td>CHP_377-03_cfDNA</td><td>remaining_batch_4_cfDNA_15April2021/mixcr/clones/CLONES_TRBCHP_377-03_cfDNA.txt</td><td>cfDNA</td><td>CHP</td><td>0.01535976</td></tr>\n",
       "</tbody>\n",
       "</table>\n"
      ],
      "text/latex": [
       "A data.frame: 3 x 66\n",
       "\\begin{tabular}{r|lllllllllllllllllllll}\n",
       "  & sample\\_id & Patient & cycle & FOLD & ATC & Age & Disease\\_type & TE\\_fold & CD3 & EM & ... & estimated\\_Shannon & SE\\_Shannon & observed\\_Simpson & estimated\\_Simpson & SE\\_Simpson & basename & file & sampletype & Group & log10shann\\\\\n",
       "  & <chr> & <chr> & <chr> & <dbl> & <dbl> & <dbl> & <chr> & <dbl> & <int> & <int> & ... & <dbl> & <dbl> & <dbl> & <dbl> & <dbl> & <chr> & <chr> & <chr> & <chr> & <dbl>\\\\\n",
       "\\hline\n",
       "\t139 & CHP\\_377\\_01 & CHP\\_377 & X01 & 0.9 & 277.95 & 18 & HR ALL & 0.9 & 93 &  0 & ... &    NA &    NA &    NA &    NA &    NA & CHP\\_377-01-cfDNA & NA                                                                              & cfDNA & CHP &         NA\\\\\n",
       "\t140 & CHP\\_377\\_02 & CHP\\_377 & X02 & 0.0 &   0.00 & 18 & HR ALL & 0.0 &  0 & NA & ... & 2.731 & 0.036 & 2.308 & 2.308 & 0.022 & CHP\\_377-02\\_cfDNA & remaining\\_batch\\_4\\_cfDNA\\_15April2021/mixcr/clones/CLONES\\_TRBCHP\\_377-02\\_cfDNA.txt & cfDNA & CHP & 0.43600354\\\\\n",
       "\t141 & CHP\\_377\\_03 & CHP\\_377 & X03 & 0.0 &   0.00 & 18 & HR ALL & 0.0 &  0 & NA & ... & 1.037 & 0.005 & 1.012 & 1.012 & 0.002 & CHP\\_377-03\\_cfDNA & remaining\\_batch\\_4\\_cfDNA\\_15April2021/mixcr/clones/CLONES\\_TRBCHP\\_377-03\\_cfDNA.txt & cfDNA & CHP & 0.01535976\\\\\n",
       "\\end{tabular}\n"
      ],
      "text/markdown": [
       "\n",
       "A data.frame: 3 x 66\n",
       "\n",
       "| <!--/--> | sample_id &lt;chr&gt; | Patient &lt;chr&gt; | cycle &lt;chr&gt; | FOLD &lt;dbl&gt; | ATC &lt;dbl&gt; | Age &lt;dbl&gt; | Disease_type &lt;chr&gt; | TE_fold &lt;dbl&gt; | CD3 &lt;int&gt; | EM &lt;int&gt; | ... ... | estimated_Shannon &lt;dbl&gt; | SE_Shannon &lt;dbl&gt; | observed_Simpson &lt;dbl&gt; | estimated_Simpson &lt;dbl&gt; | SE_Simpson &lt;dbl&gt; | basename &lt;chr&gt; | file &lt;chr&gt; | sampletype &lt;chr&gt; | Group &lt;chr&gt; | log10shann &lt;dbl&gt; |\n",
       "|---|---|---|---|---|---|---|---|---|---|---|---|---|---|---|---|---|---|---|---|---|---|\n",
       "| 139 | CHP_377_01 | CHP_377 | X01 | 0.9 | 277.95 | 18 | HR ALL | 0.9 | 93 |  0 | ... |    NA |    NA |    NA |    NA |    NA | CHP_377-01-cfDNA | NA                                                                              | cfDNA | CHP |         NA |\n",
       "| 140 | CHP_377_02 | CHP_377 | X02 | 0.0 |   0.00 | 18 | HR ALL | 0.0 |  0 | NA | ... | 2.731 | 0.036 | 2.308 | 2.308 | 0.022 | CHP_377-02_cfDNA | remaining_batch_4_cfDNA_15April2021/mixcr/clones/CLONES_TRBCHP_377-02_cfDNA.txt | cfDNA | CHP | 0.43600354 |\n",
       "| 141 | CHP_377_03 | CHP_377 | X03 | 0.0 |   0.00 | 18 | HR ALL | 0.0 |  0 | NA | ... | 1.037 | 0.005 | 1.012 | 1.012 | 0.002 | CHP_377-03_cfDNA | remaining_batch_4_cfDNA_15April2021/mixcr/clones/CLONES_TRBCHP_377-03_cfDNA.txt | cfDNA | CHP | 0.01535976 |\n",
       "\n"
      ],
      "text/plain": [
       "    sample_id  Patient cycle FOLD ATC    Age Disease_type TE_fold CD3 EM ...\n",
       "139 CHP_377_01 CHP_377 X01   0.9  277.95 18  HR ALL       0.9     93   0 ...\n",
       "140 CHP_377_02 CHP_377 X02   0.0    0.00 18  HR ALL       0.0      0  NA ...\n",
       "141 CHP_377_03 CHP_377 X03   0.0    0.00 18  HR ALL       0.0      0  NA ...\n",
       "    estimated_Shannon SE_Shannon observed_Simpson estimated_Simpson SE_Simpson\n",
       "139    NA                NA         NA               NA                NA     \n",
       "140 2.731             0.036      2.308            2.308             0.022     \n",
       "141 1.037             0.005      1.012            1.012             0.002     \n",
       "    basename        \n",
       "139 CHP_377-01-cfDNA\n",
       "140 CHP_377-02_cfDNA\n",
       "141 CHP_377-03_cfDNA\n",
       "    file                                                                           \n",
       "139 NA                                                                             \n",
       "140 remaining_batch_4_cfDNA_15April2021/mixcr/clones/CLONES_TRBCHP_377-02_cfDNA.txt\n",
       "141 remaining_batch_4_cfDNA_15April2021/mixcr/clones/CLONES_TRBCHP_377-03_cfDNA.txt\n",
       "    sampletype Group log10shann\n",
       "139 cfDNA      CHP           NA\n",
       "140 cfDNA      CHP   0.43600354\n",
       "141 cfDNA      CHP   0.01535976"
      ]
     },
     "metadata": {},
     "output_type": "display_data"
    }
   ],
   "source": [
    "meta_div[ grepl(\"CHP_377\", meta_div$basename), ]"
   ]
  },
  {
   "cell_type": "code",
   "execution_count": 16,
   "metadata": {
    "vscode": {
     "languageId": "r"
    }
   },
   "outputs": [
    {
     "data": {
      "text/html": [
       "<table class=\"dataframe\">\n",
       "<caption>A data.frame: 9 x 4</caption>\n",
       "<thead>\n",
       "\t<tr><th></th><th scope=col>file_list</th><th scope=col>samplename</th><th scope=col>size</th><th scope=col>Patient</th></tr>\n",
       "\t<tr><th></th><th scope=col>&lt;chr&gt;</th><th scope=col>&lt;chr&gt;</th><th scope=col>&lt;dbl&gt;</th><th scope=col>&lt;chr&gt;</th></tr>\n",
       "</thead>\n",
       "<tbody>\n",
       "\t<tr><th scope=row>17</th><td>batch1_cfDNA_30Jan2020/mixcr/clones/CLONES_TRBCHP_347-01-cfDNA.txt             </td><td>CHP_347-01-cfDNA   </td><td>1825</td><td>CHP_347</td></tr>\n",
       "\t<tr><th scope=row>37</th><td>batch1_cfDNA_30Jan2020/mixcr/clones/CLONES_TRBCHP_377-01-cfDNA.txt             </td><td>CHP_377-01-cfDNA   </td><td> 965</td><td>CHP_377</td></tr>\n",
       "\t<tr><th scope=row>307</th><td>batch5_cfDNA_25Jun2020/mixcr/clones/CLONES_TRBCHP_366-05_cfDNA.txt             </td><td>CHP_366-05_cfDNA   </td><td> 744</td><td>CHP_366</td></tr>\n",
       "\t<tr><th scope=row>342</th><td>batch7_cfDNA_29Jun2020/mixcr/clones/CLONES_TRBCHP_381-05_cfDNA.txt             </td><td>CHP_381-05_cfDNA   </td><td>1229</td><td>CHP_381</td></tr>\n",
       "\t<tr><th scope=row>350</th><td>batch7_cfDNA_29Jun2020/mixcr/clones/CLONES_TRBCHP_391-02_cfDNA.txt             </td><td>CHP_391-02_cfDNA   </td><td> 811</td><td>CHP_391</td></tr>\n",
       "\t<tr><th scope=row>351</th><td>batch7_cfDNA_29Jun2020/mixcr/clones/CLONES_TRBCHP_392-01_cfDNA.txt             </td><td>CHP_392-01_cfDNA   </td><td>1289</td><td>CHP_392</td></tr>\n",
       "\t<tr><th scope=row>359</th><td>batch7_cfDNA_29Jun2020/mixcr/clones/CLONES_TRBCHP_398-01_cfDNA.txt             </td><td>CHP_398-01_cfDNA   </td><td>2330</td><td>CHP_398</td></tr>\n",
       "\t<tr><th scope=row>409</th><td>batchFFPE_3Apr2020/mixcr/clones/CLONES_TRBCHP_419-FFPE-DNA_S2.txt              </td><td>CHP_419-FFPE-DNA_S2</td><td> 810</td><td>CHP_419</td></tr>\n",
       "\t<tr><th scope=row>1148</th><td>remaining_batch_2_cfDNA_15April2021/mixcr/clones/CLONES_TRBCHP_401-03_cfDNA.txt</td><td>CHP_401-03_cfDNA   </td><td> 731</td><td>CHP_401</td></tr>\n",
       "</tbody>\n",
       "</table>\n"
      ],
      "text/latex": [
       "A data.frame: 9 x 4\n",
       "\\begin{tabular}{r|llll}\n",
       "  & file\\_list & samplename & size & Patient\\\\\n",
       "  & <chr> & <chr> & <dbl> & <chr>\\\\\n",
       "\\hline\n",
       "\t17 & batch1\\_cfDNA\\_30Jan2020/mixcr/clones/CLONES\\_TRBCHP\\_347-01-cfDNA.txt              & CHP\\_347-01-cfDNA    & 1825 & CHP\\_347\\\\\n",
       "\t37 & batch1\\_cfDNA\\_30Jan2020/mixcr/clones/CLONES\\_TRBCHP\\_377-01-cfDNA.txt              & CHP\\_377-01-cfDNA    &  965 & CHP\\_377\\\\\n",
       "\t307 & batch5\\_cfDNA\\_25Jun2020/mixcr/clones/CLONES\\_TRBCHP\\_366-05\\_cfDNA.txt              & CHP\\_366-05\\_cfDNA    &  744 & CHP\\_366\\\\\n",
       "\t342 & batch7\\_cfDNA\\_29Jun2020/mixcr/clones/CLONES\\_TRBCHP\\_381-05\\_cfDNA.txt              & CHP\\_381-05\\_cfDNA    & 1229 & CHP\\_381\\\\\n",
       "\t350 & batch7\\_cfDNA\\_29Jun2020/mixcr/clones/CLONES\\_TRBCHP\\_391-02\\_cfDNA.txt              & CHP\\_391-02\\_cfDNA    &  811 & CHP\\_391\\\\\n",
       "\t351 & batch7\\_cfDNA\\_29Jun2020/mixcr/clones/CLONES\\_TRBCHP\\_392-01\\_cfDNA.txt              & CHP\\_392-01\\_cfDNA    & 1289 & CHP\\_392\\\\\n",
       "\t359 & batch7\\_cfDNA\\_29Jun2020/mixcr/clones/CLONES\\_TRBCHP\\_398-01\\_cfDNA.txt              & CHP\\_398-01\\_cfDNA    & 2330 & CHP\\_398\\\\\n",
       "\t409 & batchFFPE\\_3Apr2020/mixcr/clones/CLONES\\_TRBCHP\\_419-FFPE-DNA\\_S2.txt               & CHP\\_419-FFPE-DNA\\_S2 &  810 & CHP\\_419\\\\\n",
       "\t1148 & remaining\\_batch\\_2\\_cfDNA\\_15April2021/mixcr/clones/CLONES\\_TRBCHP\\_401-03\\_cfDNA.txt & CHP\\_401-03\\_cfDNA    &  731 & CHP\\_401\\\\\n",
       "\\end{tabular}\n"
      ],
      "text/markdown": [
       "\n",
       "A data.frame: 9 x 4\n",
       "\n",
       "| <!--/--> | file_list &lt;chr&gt; | samplename &lt;chr&gt; | size &lt;dbl&gt; | Patient &lt;chr&gt; |\n",
       "|---|---|---|---|---|\n",
       "| 17 | batch1_cfDNA_30Jan2020/mixcr/clones/CLONES_TRBCHP_347-01-cfDNA.txt              | CHP_347-01-cfDNA    | 1825 | CHP_347 |\n",
       "| 37 | batch1_cfDNA_30Jan2020/mixcr/clones/CLONES_TRBCHP_377-01-cfDNA.txt              | CHP_377-01-cfDNA    |  965 | CHP_377 |\n",
       "| 307 | batch5_cfDNA_25Jun2020/mixcr/clones/CLONES_TRBCHP_366-05_cfDNA.txt              | CHP_366-05_cfDNA    |  744 | CHP_366 |\n",
       "| 342 | batch7_cfDNA_29Jun2020/mixcr/clones/CLONES_TRBCHP_381-05_cfDNA.txt              | CHP_381-05_cfDNA    | 1229 | CHP_381 |\n",
       "| 350 | batch7_cfDNA_29Jun2020/mixcr/clones/CLONES_TRBCHP_391-02_cfDNA.txt              | CHP_391-02_cfDNA    |  811 | CHP_391 |\n",
       "| 351 | batch7_cfDNA_29Jun2020/mixcr/clones/CLONES_TRBCHP_392-01_cfDNA.txt              | CHP_392-01_cfDNA    | 1289 | CHP_392 |\n",
       "| 359 | batch7_cfDNA_29Jun2020/mixcr/clones/CLONES_TRBCHP_398-01_cfDNA.txt              | CHP_398-01_cfDNA    | 2330 | CHP_398 |\n",
       "| 409 | batchFFPE_3Apr2020/mixcr/clones/CLONES_TRBCHP_419-FFPE-DNA_S2.txt               | CHP_419-FFPE-DNA_S2 |  810 | CHP_419 |\n",
       "| 1148 | remaining_batch_2_cfDNA_15April2021/mixcr/clones/CLONES_TRBCHP_401-03_cfDNA.txt | CHP_401-03_cfDNA    |  731 | CHP_401 |\n",
       "\n"
      ],
      "text/plain": [
       "     file_list                                                                      \n",
       "17   batch1_cfDNA_30Jan2020/mixcr/clones/CLONES_TRBCHP_347-01-cfDNA.txt             \n",
       "37   batch1_cfDNA_30Jan2020/mixcr/clones/CLONES_TRBCHP_377-01-cfDNA.txt             \n",
       "307  batch5_cfDNA_25Jun2020/mixcr/clones/CLONES_TRBCHP_366-05_cfDNA.txt             \n",
       "342  batch7_cfDNA_29Jun2020/mixcr/clones/CLONES_TRBCHP_381-05_cfDNA.txt             \n",
       "350  batch7_cfDNA_29Jun2020/mixcr/clones/CLONES_TRBCHP_391-02_cfDNA.txt             \n",
       "351  batch7_cfDNA_29Jun2020/mixcr/clones/CLONES_TRBCHP_392-01_cfDNA.txt             \n",
       "359  batch7_cfDNA_29Jun2020/mixcr/clones/CLONES_TRBCHP_398-01_cfDNA.txt             \n",
       "409  batchFFPE_3Apr2020/mixcr/clones/CLONES_TRBCHP_419-FFPE-DNA_S2.txt              \n",
       "1148 remaining_batch_2_cfDNA_15April2021/mixcr/clones/CLONES_TRBCHP_401-03_cfDNA.txt\n",
       "     samplename          size Patient\n",
       "17   CHP_347-01-cfDNA    1825 CHP_347\n",
       "37   CHP_377-01-cfDNA     965 CHP_377\n",
       "307  CHP_366-05_cfDNA     744 CHP_366\n",
       "342  CHP_381-05_cfDNA    1229 CHP_381\n",
       "350  CHP_391-02_cfDNA     811 CHP_391\n",
       "351  CHP_392-01_cfDNA    1289 CHP_392\n",
       "359  CHP_398-01_cfDNA    2330 CHP_398\n",
       "409  CHP_419-FFPE-DNA_S2  810 CHP_419\n",
       "1148 CHP_401-03_cfDNA     731 CHP_401"
      ]
     },
     "metadata": {},
     "output_type": "display_data"
    }
   ],
   "source": [
    "file_df_dedup_trb[ !file_df_dedup_trb$file_list %in% meta_div$file, ] # 9 files with no productive cdr3s"
   ]
  },
  {
   "attachments": {},
   "cell_type": "markdown",
   "metadata": {},
   "source": [
    "# Version 1 - Patient_id as subject for GLIPH input"
   ]
  },
  {
   "attachments": {},
   "cell_type": "markdown",
   "metadata": {},
   "source": [
    "All INT"
   ]
  },
  {
   "cell_type": "code",
   "execution_count": 16,
   "metadata": {
    "vscode": {
     "languageId": "r"
    }
   },
   "outputs": [
    {
     "data": {
      "text/html": [
       "<table class=\"dataframe\">\n",
       "<caption>A data.frame: 6 x 4</caption>\n",
       "<thead>\n",
       "\t<tr><th></th><th scope=col>file_list</th><th scope=col>samplename</th><th scope=col>size</th><th scope=col>Patient</th></tr>\n",
       "\t<tr><th></th><th scope=col>&lt;chr&gt;</th><th scope=col>&lt;chr&gt;</th><th scope=col>&lt;dbl&gt;</th><th scope=col>&lt;chr&gt;</th></tr>\n",
       "</thead>\n",
       "<tbody>\n",
       "\t<tr><th scope=row>2</th><td>batch_reseq_24Feb2020/mixcr/clones/CLONES_TRBCHP_350-01-PBMC-DNA.txt</td><td>CHP_350-01-PBMC-DNA</td><td> 85631</td><td>CHP_350</td></tr>\n",
       "\t<tr><th scope=row>3</th><td>batch_reseq_24Feb2020/mixcr/clones/CLONES_TRBCHP_350-02-PBMC-DNA.txt</td><td>CHP_350-02-PBMC-DNA</td><td>143632</td><td>CHP_350</td></tr>\n",
       "\t<tr><th scope=row>4</th><td>batch_reseq_24Feb2020/mixcr/clones/CLONES_TRBCHP_350-03-PBMC-DNA.txt</td><td>CHP_350-03-PBMC-DNA</td><td>107190</td><td>CHP_350</td></tr>\n",
       "\t<tr><th scope=row>5</th><td>batch_reseq_24Feb2020/mixcr/clones/CLONES_TRBCHP_350-04-PBMC-DNA.txt</td><td>CHP_350-04-PBMC-DNA</td><td> 54188</td><td>CHP_350</td></tr>\n",
       "\t<tr><th scope=row>7</th><td>batch_reseq_24Feb2020/mixcr/clones/CLONES_TRBCHP_354-01-PBMC-DNA.txt</td><td>CHP_354-01-PBMC-DNA</td><td>  3728</td><td>CHP_354</td></tr>\n",
       "\t<tr><th scope=row>8</th><td>batch_reseq_24Feb2020/mixcr/clones/CLONES_TRBCHP_356-03-PBMC-DNA.txt</td><td>CHP_356-03-PBMC-DNA</td><td>  1573</td><td>CHP_356</td></tr>\n",
       "</tbody>\n",
       "</table>\n"
      ],
      "text/latex": [
       "A data.frame: 6 x 4\n",
       "\\begin{tabular}{r|llll}\n",
       "  & file\\_list & samplename & size & Patient\\\\\n",
       "  & <chr> & <chr> & <dbl> & <chr>\\\\\n",
       "\\hline\n",
       "\t2 & batch\\_reseq\\_24Feb2020/mixcr/clones/CLONES\\_TRBCHP\\_350-01-PBMC-DNA.txt & CHP\\_350-01-PBMC-DNA &  85631 & CHP\\_350\\\\\n",
       "\t3 & batch\\_reseq\\_24Feb2020/mixcr/clones/CLONES\\_TRBCHP\\_350-02-PBMC-DNA.txt & CHP\\_350-02-PBMC-DNA & 143632 & CHP\\_350\\\\\n",
       "\t4 & batch\\_reseq\\_24Feb2020/mixcr/clones/CLONES\\_TRBCHP\\_350-03-PBMC-DNA.txt & CHP\\_350-03-PBMC-DNA & 107190 & CHP\\_350\\\\\n",
       "\t5 & batch\\_reseq\\_24Feb2020/mixcr/clones/CLONES\\_TRBCHP\\_350-04-PBMC-DNA.txt & CHP\\_350-04-PBMC-DNA &  54188 & CHP\\_350\\\\\n",
       "\t7 & batch\\_reseq\\_24Feb2020/mixcr/clones/CLONES\\_TRBCHP\\_354-01-PBMC-DNA.txt & CHP\\_354-01-PBMC-DNA &   3728 & CHP\\_354\\\\\n",
       "\t8 & batch\\_reseq\\_24Feb2020/mixcr/clones/CLONES\\_TRBCHP\\_356-03-PBMC-DNA.txt & CHP\\_356-03-PBMC-DNA &   1573 & CHP\\_356\\\\\n",
       "\\end{tabular}\n"
      ],
      "text/markdown": [
       "\n",
       "A data.frame: 6 x 4\n",
       "\n",
       "| <!--/--> | file_list &lt;chr&gt; | samplename &lt;chr&gt; | size &lt;dbl&gt; | Patient &lt;chr&gt; |\n",
       "|---|---|---|---|---|\n",
       "| 2 | batch_reseq_24Feb2020/mixcr/clones/CLONES_TRBCHP_350-01-PBMC-DNA.txt | CHP_350-01-PBMC-DNA |  85631 | CHP_350 |\n",
       "| 3 | batch_reseq_24Feb2020/mixcr/clones/CLONES_TRBCHP_350-02-PBMC-DNA.txt | CHP_350-02-PBMC-DNA | 143632 | CHP_350 |\n",
       "| 4 | batch_reseq_24Feb2020/mixcr/clones/CLONES_TRBCHP_350-03-PBMC-DNA.txt | CHP_350-03-PBMC-DNA | 107190 | CHP_350 |\n",
       "| 5 | batch_reseq_24Feb2020/mixcr/clones/CLONES_TRBCHP_350-04-PBMC-DNA.txt | CHP_350-04-PBMC-DNA |  54188 | CHP_350 |\n",
       "| 7 | batch_reseq_24Feb2020/mixcr/clones/CLONES_TRBCHP_354-01-PBMC-DNA.txt | CHP_354-01-PBMC-DNA |   3728 | CHP_354 |\n",
       "| 8 | batch_reseq_24Feb2020/mixcr/clones/CLONES_TRBCHP_356-03-PBMC-DNA.txt | CHP_356-03-PBMC-DNA |   1573 | CHP_356 |\n",
       "\n"
      ],
      "text/plain": [
       "  file_list                                                           \n",
       "2 batch_reseq_24Feb2020/mixcr/clones/CLONES_TRBCHP_350-01-PBMC-DNA.txt\n",
       "3 batch_reseq_24Feb2020/mixcr/clones/CLONES_TRBCHP_350-02-PBMC-DNA.txt\n",
       "4 batch_reseq_24Feb2020/mixcr/clones/CLONES_TRBCHP_350-03-PBMC-DNA.txt\n",
       "5 batch_reseq_24Feb2020/mixcr/clones/CLONES_TRBCHP_350-04-PBMC-DNA.txt\n",
       "7 batch_reseq_24Feb2020/mixcr/clones/CLONES_TRBCHP_354-01-PBMC-DNA.txt\n",
       "8 batch_reseq_24Feb2020/mixcr/clones/CLONES_TRBCHP_356-03-PBMC-DNA.txt\n",
       "  samplename          size   Patient\n",
       "2 CHP_350-01-PBMC-DNA  85631 CHP_350\n",
       "3 CHP_350-02-PBMC-DNA 143632 CHP_350\n",
       "4 CHP_350-03-PBMC-DNA 107190 CHP_350\n",
       "5 CHP_350-04-PBMC-DNA  54188 CHP_350\n",
       "7 CHP_354-01-PBMC-DNA   3728 CHP_354\n",
       "8 CHP_356-03-PBMC-DNA   1573 CHP_356"
      ]
     },
     "metadata": {},
     "output_type": "display_data"
    }
   ],
   "source": [
    "head(file_df_dedup_trb)"
   ]
  },
  {
   "cell_type": "code",
   "execution_count": 17,
   "metadata": {
    "vscode": {
     "languageId": "r"
    }
   },
   "outputs": [
    {
     "data": {
      "text/html": [
       "'/Users/anabbi/Desktop/H4H/INTERCEPT/NextSeq/'"
      ],
      "text/latex": [
       "'/Users/anabbi/Desktop/H4H/INTERCEPT/NextSeq/'"
      ],
      "text/markdown": [
       "'/Users/anabbi/Desktop/H4H/INTERCEPT/NextSeq/'"
      ],
      "text/plain": [
       "[1] \"/Users/anabbi/Desktop/H4H/INTERCEPT/NextSeq/\""
      ]
     },
     "metadata": {},
     "output_type": "display_data"
    }
   ],
   "source": [
    "h4hpath"
   ]
  },
  {
   "cell_type": "code",
   "execution_count": 18,
   "metadata": {
    "vscode": {
     "languageId": "r"
    }
   },
   "outputs": [],
   "source": [
    "int_all_list <- list()\n",
    "\n",
    "for(p in unique(file_df_dedup_trb$Patient)){\n",
    "    \n",
    "    mypatient <- file_df_dedup_trb[ file_df_dedup_trb$Patient == p,]\n",
    "    \n",
    "    myplist <- list()\n",
    "    for(i in 1:nrow(mypatient)){\n",
    "        onefle <- read.table(paste0(h4hpath, mypatient$file_list[i]), sep = \"\\t\", header = TRUE, stringsAsFactors = F)  \n",
    "        # Remove non-productive\n",
    "        onefle <- onefle[!grepl(\"_\", onefle$aaSeqCDR3),]\n",
    "        onefle <- onefle[!grepl(\"[*]\", onefle$aaSeqCDR3),]\n",
    "        onefle$CDR3b <- onefle$aaSeqCDR3\n",
    "        #next if the file has no productive cdr3\n",
    "        if(nrow(onefle) == 0){ next}\n",
    "        #remove scores\n",
    "        onefle$TRBV <- gsub(\"[*]0.*\", \"\", onefle$allVHitsWithScore)\n",
    "        onefle$TRBJ <- gsub(\"[*]0.*\", \"\", onefle$allJHitsWithScore)\n",
    "        #remove extra long cdr3s\n",
    "        onefle <- onefle[ nchar(onefle$aaSeqCDR3) <= 25,]\n",
    "        #next if the file has no productive cdr3\n",
    "        if(nrow(onefle) == 0){ next}\n",
    "        onefle$count <- onefle$cloneCount\n",
    "        onefle$clonefraction <- onefle$cloneFraction\n",
    "        onefle$file <- paste0(h4hpath, mypatient$file_list[i])\n",
    "        onefle$samplename <- mypatient$samplename[i]\n",
    "    \n",
    "        # onefle1 <- toString_onefle.fx(onefle, \"nSeqCDR3\")\n",
    "    \n",
    "        myplist[length(myplist) + 1] <- list(onefle[,c(\"CDR3b\", \"TRBV\", \"TRBJ\", \"samplename\", \n",
    "                                                     \"count\", \"clonefraction\", \"file\")])\n",
    "    }\n",
    "    gliph_input <- do.call(\"rbind\", myplist)\n",
    "\n",
    "    # colnames(gliph_input)[ colnames(gliph_input) == \"tostringvar\"] <- \"nSeqCDR3\"\n",
    "    # colnames(gliph_input)[ colnames(gliph_input) == \"count.y\"] <- \"count\"\n",
    "\n",
    "    # #bind those with the same cdr3 + TRBV\n",
    "    # setDT(gliph_input)\n",
    "\n",
    "    # ab <- gliph_input[, .(subject = toString(samplename), #bind subjects\n",
    "    #                       file = toString(file), #bind filenames\n",
    "    #                       count = sum(count)),  #get sum of counts\n",
    "    #                   by = c(\"CDR3b\", \"TRBV\", \"TRBJ\")] #get duplicates sequences with the same cdr3 + TRBV + TRBJ\n",
    "\n",
    "\n",
    "    # gliph_input_ab <- merge(gliph_input, ab, by = c(\"CDR3b\",\"TRBV\",\"TRBJ\")) # merge together\n",
    "\n",
    "    # #dedup\n",
    "    # gliph_input_ab_dedup <- dplyr::distinct(gliph_input_ab, CDR3b, TRBV, TRBJ, subject, .keep_all= TRUE)\n",
    "\n",
    "\n",
    "    int_all_list[length(int_all_list) + 1] <- list(gliph_input)\n",
    "\n",
    "    }"
   ]
  },
  {
   "cell_type": "code",
   "execution_count": 19,
   "metadata": {
    "vscode": {
     "languageId": "r"
    }
   },
   "outputs": [],
   "source": [
    "int_all <- do.call(\"rbind\", int_all_list)"
   ]
  },
  {
   "cell_type": "code",
   "execution_count": 20,
   "metadata": {
    "vscode": {
     "languageId": "r"
    }
   },
   "outputs": [
    {
     "data": {
      "text/html": [
       "<table class=\"dataframe\">\n",
       "<caption>A data.frame: 6 x 7</caption>\n",
       "<thead>\n",
       "\t<tr><th></th><th scope=col>CDR3b</th><th scope=col>TRBV</th><th scope=col>TRBJ</th><th scope=col>samplename</th><th scope=col>count</th><th scope=col>clonefraction</th><th scope=col>file</th></tr>\n",
       "\t<tr><th></th><th scope=col>&lt;chr&gt;</th><th scope=col>&lt;chr&gt;</th><th scope=col>&lt;chr&gt;</th><th scope=col>&lt;chr&gt;</th><th scope=col>&lt;int&gt;</th><th scope=col>&lt;dbl&gt;</th><th scope=col>&lt;chr&gt;</th></tr>\n",
       "</thead>\n",
       "<tbody>\n",
       "\t<tr><th scope=row>101194</th><td>CASSSSGGDYGYTF </td><td>TRBV11-2</td><td>TRBJ1-2</td><td>CHP_406-03_PBMC-DNA</td><td>  2</td><td>7.367405e-06</td><td>/Users/anabbi/Desktop/H4H/INTERCEPT/NextSeq/remaining_batch_3_4May2021/mixcr/clones/CLONES_TRBCHP_406-03_PBMC-DNA.txt      </td></tr>\n",
       "\t<tr><th scope=row>102161</th><td>CASSQETGLAFY   </td><td>TRBV4-2 </td><td>TRBJ1-1</td><td>CHP_406-03_PBMC-DNA</td><td>  2</td><td>7.367405e-06</td><td>/Users/anabbi/Desktop/H4H/INTERCEPT/NextSeq/remaining_batch_3_4May2021/mixcr/clones/CLONES_TRBCHP_406-03_PBMC-DNA.txt      </td></tr>\n",
       "\t<tr><th scope=row>103161</th><td>CAWDRETEAFF    </td><td>TRBV30  </td><td>TRBJ1-1</td><td>CHP_406-03_PBMC-DNA</td><td>  2</td><td>7.367405e-06</td><td>/Users/anabbi/Desktop/H4H/INTERCEPT/NextSeq/remaining_batch_3_4May2021/mixcr/clones/CLONES_TRBCHP_406-03_PBMC-DNA.txt      </td></tr>\n",
       "\t<tr><th scope=row>105153</th><td>CSAPGQGRTMGGYTF</td><td>TRBV20-1</td><td>TRBJ1-2</td><td>CHP_406-03_PBMC-DNA</td><td>  1</td><td>3.683703e-06</td><td>/Users/anabbi/Desktop/H4H/INTERCEPT/NextSeq/remaining_batch_3_4May2021/mixcr/clones/CLONES_TRBCHP_406-03_PBMC-DNA.txt      </td></tr>\n",
       "\t<tr><th scope=row>21506</th><td>CAWSVARRNTEAFF </td><td>TRBV30  </td><td>TRBJ1-1</td><td>CHP_329-04_cfDNA   </td><td>317</td><td>4.012658e-01</td><td>/Users/anabbi/Desktop/H4H/INTERCEPT/NextSeq/remaining_batch_5_cfDNA_22April2021/mixcr/clones/CLONES_TRBCHP_329-04_cfDNA.txt</td></tr>\n",
       "\t<tr><th scope=row>31386</th><td>CASSLSGGNYGYTF </td><td>TRBV5-4 </td><td>TRBJ1-2</td><td>CHP_329-04_cfDNA   </td><td>  1</td><td>1.265823e-03</td><td>/Users/anabbi/Desktop/H4H/INTERCEPT/NextSeq/remaining_batch_5_cfDNA_22April2021/mixcr/clones/CLONES_TRBCHP_329-04_cfDNA.txt</td></tr>\n",
       "</tbody>\n",
       "</table>\n"
      ],
      "text/latex": [
       "A data.frame: 6 x 7\n",
       "\\begin{tabular}{r|lllllll}\n",
       "  & CDR3b & TRBV & TRBJ & samplename & count & clonefraction & file\\\\\n",
       "  & <chr> & <chr> & <chr> & <chr> & <int> & <dbl> & <chr>\\\\\n",
       "\\hline\n",
       "\t101194 & CASSSSGGDYGYTF  & TRBV11-2 & TRBJ1-2 & CHP\\_406-03\\_PBMC-DNA &   2 & 7.367405e-06 & /Users/anabbi/Desktop/H4H/INTERCEPT/NextSeq/remaining\\_batch\\_3\\_4May2021/mixcr/clones/CLONES\\_TRBCHP\\_406-03\\_PBMC-DNA.txt      \\\\\n",
       "\t102161 & CASSQETGLAFY    & TRBV4-2  & TRBJ1-1 & CHP\\_406-03\\_PBMC-DNA &   2 & 7.367405e-06 & /Users/anabbi/Desktop/H4H/INTERCEPT/NextSeq/remaining\\_batch\\_3\\_4May2021/mixcr/clones/CLONES\\_TRBCHP\\_406-03\\_PBMC-DNA.txt      \\\\\n",
       "\t103161 & CAWDRETEAFF     & TRBV30   & TRBJ1-1 & CHP\\_406-03\\_PBMC-DNA &   2 & 7.367405e-06 & /Users/anabbi/Desktop/H4H/INTERCEPT/NextSeq/remaining\\_batch\\_3\\_4May2021/mixcr/clones/CLONES\\_TRBCHP\\_406-03\\_PBMC-DNA.txt      \\\\\n",
       "\t105153 & CSAPGQGRTMGGYTF & TRBV20-1 & TRBJ1-2 & CHP\\_406-03\\_PBMC-DNA &   1 & 3.683703e-06 & /Users/anabbi/Desktop/H4H/INTERCEPT/NextSeq/remaining\\_batch\\_3\\_4May2021/mixcr/clones/CLONES\\_TRBCHP\\_406-03\\_PBMC-DNA.txt      \\\\\n",
       "\t21506 & CAWSVARRNTEAFF  & TRBV30   & TRBJ1-1 & CHP\\_329-04\\_cfDNA    & 317 & 4.012658e-01 & /Users/anabbi/Desktop/H4H/INTERCEPT/NextSeq/remaining\\_batch\\_5\\_cfDNA\\_22April2021/mixcr/clones/CLONES\\_TRBCHP\\_329-04\\_cfDNA.txt\\\\\n",
       "\t31386 & CASSLSGGNYGYTF  & TRBV5-4  & TRBJ1-2 & CHP\\_329-04\\_cfDNA    &   1 & 1.265823e-03 & /Users/anabbi/Desktop/H4H/INTERCEPT/NextSeq/remaining\\_batch\\_5\\_cfDNA\\_22April2021/mixcr/clones/CLONES\\_TRBCHP\\_329-04\\_cfDNA.txt\\\\\n",
       "\\end{tabular}\n"
      ],
      "text/markdown": [
       "\n",
       "A data.frame: 6 x 7\n",
       "\n",
       "| <!--/--> | CDR3b &lt;chr&gt; | TRBV &lt;chr&gt; | TRBJ &lt;chr&gt; | samplename &lt;chr&gt; | count &lt;int&gt; | clonefraction &lt;dbl&gt; | file &lt;chr&gt; |\n",
       "|---|---|---|---|---|---|---|---|\n",
       "| 101194 | CASSSSGGDYGYTF  | TRBV11-2 | TRBJ1-2 | CHP_406-03_PBMC-DNA |   2 | 7.367405e-06 | /Users/anabbi/Desktop/H4H/INTERCEPT/NextSeq/remaining_batch_3_4May2021/mixcr/clones/CLONES_TRBCHP_406-03_PBMC-DNA.txt       |\n",
       "| 102161 | CASSQETGLAFY    | TRBV4-2  | TRBJ1-1 | CHP_406-03_PBMC-DNA |   2 | 7.367405e-06 | /Users/anabbi/Desktop/H4H/INTERCEPT/NextSeq/remaining_batch_3_4May2021/mixcr/clones/CLONES_TRBCHP_406-03_PBMC-DNA.txt       |\n",
       "| 103161 | CAWDRETEAFF     | TRBV30   | TRBJ1-1 | CHP_406-03_PBMC-DNA |   2 | 7.367405e-06 | /Users/anabbi/Desktop/H4H/INTERCEPT/NextSeq/remaining_batch_3_4May2021/mixcr/clones/CLONES_TRBCHP_406-03_PBMC-DNA.txt       |\n",
       "| 105153 | CSAPGQGRTMGGYTF | TRBV20-1 | TRBJ1-2 | CHP_406-03_PBMC-DNA |   1 | 3.683703e-06 | /Users/anabbi/Desktop/H4H/INTERCEPT/NextSeq/remaining_batch_3_4May2021/mixcr/clones/CLONES_TRBCHP_406-03_PBMC-DNA.txt       |\n",
       "| 21506 | CAWSVARRNTEAFF  | TRBV30   | TRBJ1-1 | CHP_329-04_cfDNA    | 317 | 4.012658e-01 | /Users/anabbi/Desktop/H4H/INTERCEPT/NextSeq/remaining_batch_5_cfDNA_22April2021/mixcr/clones/CLONES_TRBCHP_329-04_cfDNA.txt |\n",
       "| 31386 | CASSLSGGNYGYTF  | TRBV5-4  | TRBJ1-2 | CHP_329-04_cfDNA    |   1 | 1.265823e-03 | /Users/anabbi/Desktop/H4H/INTERCEPT/NextSeq/remaining_batch_5_cfDNA_22April2021/mixcr/clones/CLONES_TRBCHP_329-04_cfDNA.txt |\n",
       "\n"
      ],
      "text/plain": [
       "       CDR3b           TRBV     TRBJ    samplename          count clonefraction\n",
       "101194 CASSSSGGDYGYTF  TRBV11-2 TRBJ1-2 CHP_406-03_PBMC-DNA   2   7.367405e-06 \n",
       "102161 CASSQETGLAFY    TRBV4-2  TRBJ1-1 CHP_406-03_PBMC-DNA   2   7.367405e-06 \n",
       "103161 CAWDRETEAFF     TRBV30   TRBJ1-1 CHP_406-03_PBMC-DNA   2   7.367405e-06 \n",
       "105153 CSAPGQGRTMGGYTF TRBV20-1 TRBJ1-2 CHP_406-03_PBMC-DNA   1   3.683703e-06 \n",
       "21506  CAWSVARRNTEAFF  TRBV30   TRBJ1-1 CHP_329-04_cfDNA    317   4.012658e-01 \n",
       "31386  CASSLSGGNYGYTF  TRBV5-4  TRBJ1-2 CHP_329-04_cfDNA      1   1.265823e-03 \n",
       "       file                                                                                                                       \n",
       "101194 /Users/anabbi/Desktop/H4H/INTERCEPT/NextSeq/remaining_batch_3_4May2021/mixcr/clones/CLONES_TRBCHP_406-03_PBMC-DNA.txt      \n",
       "102161 /Users/anabbi/Desktop/H4H/INTERCEPT/NextSeq/remaining_batch_3_4May2021/mixcr/clones/CLONES_TRBCHP_406-03_PBMC-DNA.txt      \n",
       "103161 /Users/anabbi/Desktop/H4H/INTERCEPT/NextSeq/remaining_batch_3_4May2021/mixcr/clones/CLONES_TRBCHP_406-03_PBMC-DNA.txt      \n",
       "105153 /Users/anabbi/Desktop/H4H/INTERCEPT/NextSeq/remaining_batch_3_4May2021/mixcr/clones/CLONES_TRBCHP_406-03_PBMC-DNA.txt      \n",
       "21506  /Users/anabbi/Desktop/H4H/INTERCEPT/NextSeq/remaining_batch_5_cfDNA_22April2021/mixcr/clones/CLONES_TRBCHP_329-04_cfDNA.txt\n",
       "31386  /Users/anabbi/Desktop/H4H/INTERCEPT/NextSeq/remaining_batch_5_cfDNA_22April2021/mixcr/clones/CLONES_TRBCHP_329-04_cfDNA.txt"
      ]
     },
     "metadata": {},
     "output_type": "display_data"
    }
   ],
   "source": [
    "tail(int_all)"
   ]
  },
  {
   "cell_type": "code",
   "execution_count": 21,
   "metadata": {
    "vscode": {
     "languageId": "r"
    }
   },
   "outputs": [],
   "source": [
    "# #some cleanup\n",
    "# #taball$`subject:condition` <- substr(taball$subject, 1, 7)\n",
    "# colnames(taball)[ colnames(taball) == \"count.y\"] <- \"count\"\n",
    "# colnames(taball)[ colnames(taball) == \"file.y\"] <- \"file\""
   ]
  },
  {
   "cell_type": "code",
   "execution_count": 22,
   "metadata": {
    "vscode": {
     "languageId": "r"
    }
   },
   "outputs": [],
   "source": [
    "int_all$`subject:condition` <- paste(meta_div$Patient[match(int_all$samplename, meta_div$basename)], meta_div$cycle[match(int_all$samplename, meta_div$basename)], sep = \":\")"
   ]
  },
  {
   "cell_type": "code",
   "execution_count": 23,
   "metadata": {
    "vscode": {
     "languageId": "r"
    }
   },
   "outputs": [
    {
     "data": {
      "text/html": [
       "<table class=\"dataframe\">\n",
       "<caption>A data.frame: 6 x 8</caption>\n",
       "<thead>\n",
       "\t<tr><th></th><th scope=col>CDR3b</th><th scope=col>TRBV</th><th scope=col>TRBJ</th><th scope=col>samplename</th><th scope=col>count</th><th scope=col>clonefraction</th><th scope=col>file</th><th scope=col>subject:condition</th></tr>\n",
       "\t<tr><th></th><th scope=col>&lt;chr&gt;</th><th scope=col>&lt;chr&gt;</th><th scope=col>&lt;chr&gt;</th><th scope=col>&lt;chr&gt;</th><th scope=col>&lt;int&gt;</th><th scope=col>&lt;dbl&gt;</th><th scope=col>&lt;chr&gt;</th><th scope=col>&lt;chr&gt;</th></tr>\n",
       "</thead>\n",
       "<tbody>\n",
       "\t<tr><th scope=row>101194</th><td>CASSSSGGDYGYTF </td><td>TRBV11-2</td><td>TRBJ1-2</td><td>CHP_406-03_PBMC-DNA</td><td>  2</td><td>7.367405e-06</td><td>/Users/anabbi/Desktop/H4H/INTERCEPT/NextSeq/remaining_batch_3_4May2021/mixcr/clones/CLONES_TRBCHP_406-03_PBMC-DNA.txt      </td><td>CHP_406:X03</td></tr>\n",
       "\t<tr><th scope=row>102161</th><td>CASSQETGLAFY   </td><td>TRBV4-2 </td><td>TRBJ1-1</td><td>CHP_406-03_PBMC-DNA</td><td>  2</td><td>7.367405e-06</td><td>/Users/anabbi/Desktop/H4H/INTERCEPT/NextSeq/remaining_batch_3_4May2021/mixcr/clones/CLONES_TRBCHP_406-03_PBMC-DNA.txt      </td><td>CHP_406:X03</td></tr>\n",
       "\t<tr><th scope=row>103161</th><td>CAWDRETEAFF    </td><td>TRBV30  </td><td>TRBJ1-1</td><td>CHP_406-03_PBMC-DNA</td><td>  2</td><td>7.367405e-06</td><td>/Users/anabbi/Desktop/H4H/INTERCEPT/NextSeq/remaining_batch_3_4May2021/mixcr/clones/CLONES_TRBCHP_406-03_PBMC-DNA.txt      </td><td>CHP_406:X03</td></tr>\n",
       "\t<tr><th scope=row>105153</th><td>CSAPGQGRTMGGYTF</td><td>TRBV20-1</td><td>TRBJ1-2</td><td>CHP_406-03_PBMC-DNA</td><td>  1</td><td>3.683703e-06</td><td>/Users/anabbi/Desktop/H4H/INTERCEPT/NextSeq/remaining_batch_3_4May2021/mixcr/clones/CLONES_TRBCHP_406-03_PBMC-DNA.txt      </td><td>CHP_406:X03</td></tr>\n",
       "\t<tr><th scope=row>21506</th><td>CAWSVARRNTEAFF </td><td>TRBV30  </td><td>TRBJ1-1</td><td>CHP_329-04_cfDNA   </td><td>317</td><td>4.012658e-01</td><td>/Users/anabbi/Desktop/H4H/INTERCEPT/NextSeq/remaining_batch_5_cfDNA_22April2021/mixcr/clones/CLONES_TRBCHP_329-04_cfDNA.txt</td><td>CHP_329:X04</td></tr>\n",
       "\t<tr><th scope=row>31386</th><td>CASSLSGGNYGYTF </td><td>TRBV5-4 </td><td>TRBJ1-2</td><td>CHP_329-04_cfDNA   </td><td>  1</td><td>1.265823e-03</td><td>/Users/anabbi/Desktop/H4H/INTERCEPT/NextSeq/remaining_batch_5_cfDNA_22April2021/mixcr/clones/CLONES_TRBCHP_329-04_cfDNA.txt</td><td>CHP_329:X04</td></tr>\n",
       "</tbody>\n",
       "</table>\n"
      ],
      "text/latex": [
       "A data.frame: 6 x 8\n",
       "\\begin{tabular}{r|llllllll}\n",
       "  & CDR3b & TRBV & TRBJ & samplename & count & clonefraction & file & subject:condition\\\\\n",
       "  & <chr> & <chr> & <chr> & <chr> & <int> & <dbl> & <chr> & <chr>\\\\\n",
       "\\hline\n",
       "\t101194 & CASSSSGGDYGYTF  & TRBV11-2 & TRBJ1-2 & CHP\\_406-03\\_PBMC-DNA &   2 & 7.367405e-06 & /Users/anabbi/Desktop/H4H/INTERCEPT/NextSeq/remaining\\_batch\\_3\\_4May2021/mixcr/clones/CLONES\\_TRBCHP\\_406-03\\_PBMC-DNA.txt       & CHP\\_406:X03\\\\\n",
       "\t102161 & CASSQETGLAFY    & TRBV4-2  & TRBJ1-1 & CHP\\_406-03\\_PBMC-DNA &   2 & 7.367405e-06 & /Users/anabbi/Desktop/H4H/INTERCEPT/NextSeq/remaining\\_batch\\_3\\_4May2021/mixcr/clones/CLONES\\_TRBCHP\\_406-03\\_PBMC-DNA.txt       & CHP\\_406:X03\\\\\n",
       "\t103161 & CAWDRETEAFF     & TRBV30   & TRBJ1-1 & CHP\\_406-03\\_PBMC-DNA &   2 & 7.367405e-06 & /Users/anabbi/Desktop/H4H/INTERCEPT/NextSeq/remaining\\_batch\\_3\\_4May2021/mixcr/clones/CLONES\\_TRBCHP\\_406-03\\_PBMC-DNA.txt       & CHP\\_406:X03\\\\\n",
       "\t105153 & CSAPGQGRTMGGYTF & TRBV20-1 & TRBJ1-2 & CHP\\_406-03\\_PBMC-DNA &   1 & 3.683703e-06 & /Users/anabbi/Desktop/H4H/INTERCEPT/NextSeq/remaining\\_batch\\_3\\_4May2021/mixcr/clones/CLONES\\_TRBCHP\\_406-03\\_PBMC-DNA.txt       & CHP\\_406:X03\\\\\n",
       "\t21506 & CAWSVARRNTEAFF  & TRBV30   & TRBJ1-1 & CHP\\_329-04\\_cfDNA    & 317 & 4.012658e-01 & /Users/anabbi/Desktop/H4H/INTERCEPT/NextSeq/remaining\\_batch\\_5\\_cfDNA\\_22April2021/mixcr/clones/CLONES\\_TRBCHP\\_329-04\\_cfDNA.txt & CHP\\_329:X04\\\\\n",
       "\t31386 & CASSLSGGNYGYTF  & TRBV5-4  & TRBJ1-2 & CHP\\_329-04\\_cfDNA    &   1 & 1.265823e-03 & /Users/anabbi/Desktop/H4H/INTERCEPT/NextSeq/remaining\\_batch\\_5\\_cfDNA\\_22April2021/mixcr/clones/CLONES\\_TRBCHP\\_329-04\\_cfDNA.txt & CHP\\_329:X04\\\\\n",
       "\\end{tabular}\n"
      ],
      "text/markdown": [
       "\n",
       "A data.frame: 6 x 8\n",
       "\n",
       "| <!--/--> | CDR3b &lt;chr&gt; | TRBV &lt;chr&gt; | TRBJ &lt;chr&gt; | samplename &lt;chr&gt; | count &lt;int&gt; | clonefraction &lt;dbl&gt; | file &lt;chr&gt; | subject:condition &lt;chr&gt; |\n",
       "|---|---|---|---|---|---|---|---|---|\n",
       "| 101194 | CASSSSGGDYGYTF  | TRBV11-2 | TRBJ1-2 | CHP_406-03_PBMC-DNA |   2 | 7.367405e-06 | /Users/anabbi/Desktop/H4H/INTERCEPT/NextSeq/remaining_batch_3_4May2021/mixcr/clones/CLONES_TRBCHP_406-03_PBMC-DNA.txt       | CHP_406:X03 |\n",
       "| 102161 | CASSQETGLAFY    | TRBV4-2  | TRBJ1-1 | CHP_406-03_PBMC-DNA |   2 | 7.367405e-06 | /Users/anabbi/Desktop/H4H/INTERCEPT/NextSeq/remaining_batch_3_4May2021/mixcr/clones/CLONES_TRBCHP_406-03_PBMC-DNA.txt       | CHP_406:X03 |\n",
       "| 103161 | CAWDRETEAFF     | TRBV30   | TRBJ1-1 | CHP_406-03_PBMC-DNA |   2 | 7.367405e-06 | /Users/anabbi/Desktop/H4H/INTERCEPT/NextSeq/remaining_batch_3_4May2021/mixcr/clones/CLONES_TRBCHP_406-03_PBMC-DNA.txt       | CHP_406:X03 |\n",
       "| 105153 | CSAPGQGRTMGGYTF | TRBV20-1 | TRBJ1-2 | CHP_406-03_PBMC-DNA |   1 | 3.683703e-06 | /Users/anabbi/Desktop/H4H/INTERCEPT/NextSeq/remaining_batch_3_4May2021/mixcr/clones/CLONES_TRBCHP_406-03_PBMC-DNA.txt       | CHP_406:X03 |\n",
       "| 21506 | CAWSVARRNTEAFF  | TRBV30   | TRBJ1-1 | CHP_329-04_cfDNA    | 317 | 4.012658e-01 | /Users/anabbi/Desktop/H4H/INTERCEPT/NextSeq/remaining_batch_5_cfDNA_22April2021/mixcr/clones/CLONES_TRBCHP_329-04_cfDNA.txt | CHP_329:X04 |\n",
       "| 31386 | CASSLSGGNYGYTF  | TRBV5-4  | TRBJ1-2 | CHP_329-04_cfDNA    |   1 | 1.265823e-03 | /Users/anabbi/Desktop/H4H/INTERCEPT/NextSeq/remaining_batch_5_cfDNA_22April2021/mixcr/clones/CLONES_TRBCHP_329-04_cfDNA.txt | CHP_329:X04 |\n",
       "\n"
      ],
      "text/plain": [
       "       CDR3b           TRBV     TRBJ    samplename          count clonefraction\n",
       "101194 CASSSSGGDYGYTF  TRBV11-2 TRBJ1-2 CHP_406-03_PBMC-DNA   2   7.367405e-06 \n",
       "102161 CASSQETGLAFY    TRBV4-2  TRBJ1-1 CHP_406-03_PBMC-DNA   2   7.367405e-06 \n",
       "103161 CAWDRETEAFF     TRBV30   TRBJ1-1 CHP_406-03_PBMC-DNA   2   7.367405e-06 \n",
       "105153 CSAPGQGRTMGGYTF TRBV20-1 TRBJ1-2 CHP_406-03_PBMC-DNA   1   3.683703e-06 \n",
       "21506  CAWSVARRNTEAFF  TRBV30   TRBJ1-1 CHP_329-04_cfDNA    317   4.012658e-01 \n",
       "31386  CASSLSGGNYGYTF  TRBV5-4  TRBJ1-2 CHP_329-04_cfDNA      1   1.265823e-03 \n",
       "       file                                                                                                                       \n",
       "101194 /Users/anabbi/Desktop/H4H/INTERCEPT/NextSeq/remaining_batch_3_4May2021/mixcr/clones/CLONES_TRBCHP_406-03_PBMC-DNA.txt      \n",
       "102161 /Users/anabbi/Desktop/H4H/INTERCEPT/NextSeq/remaining_batch_3_4May2021/mixcr/clones/CLONES_TRBCHP_406-03_PBMC-DNA.txt      \n",
       "103161 /Users/anabbi/Desktop/H4H/INTERCEPT/NextSeq/remaining_batch_3_4May2021/mixcr/clones/CLONES_TRBCHP_406-03_PBMC-DNA.txt      \n",
       "105153 /Users/anabbi/Desktop/H4H/INTERCEPT/NextSeq/remaining_batch_3_4May2021/mixcr/clones/CLONES_TRBCHP_406-03_PBMC-DNA.txt      \n",
       "21506  /Users/anabbi/Desktop/H4H/INTERCEPT/NextSeq/remaining_batch_5_cfDNA_22April2021/mixcr/clones/CLONES_TRBCHP_329-04_cfDNA.txt\n",
       "31386  /Users/anabbi/Desktop/H4H/INTERCEPT/NextSeq/remaining_batch_5_cfDNA_22April2021/mixcr/clones/CLONES_TRBCHP_329-04_cfDNA.txt\n",
       "       subject:condition\n",
       "101194 CHP_406:X03      \n",
       "102161 CHP_406:X03      \n",
       "103161 CHP_406:X03      \n",
       "105153 CHP_406:X03      \n",
       "21506  CHP_329:X04      \n",
       "31386  CHP_329:X04      "
      ]
     },
     "metadata": {},
     "output_type": "display_data"
    }
   ],
   "source": [
    "tail(int_all)"
   ]
  },
  {
   "cell_type": "code",
   "execution_count": 24,
   "metadata": {
    "vscode": {
     "languageId": "r"
    }
   },
   "outputs": [],
   "source": [
    "int_all <- int_all[,c(1,2,3,8,5,6,4,7)]"
   ]
  },
  {
   "cell_type": "code",
   "execution_count": 25,
   "metadata": {
    "vscode": {
     "languageId": "r"
    }
   },
   "outputs": [
    {
     "data": {
      "text/html": [
       "<table class=\"dataframe\">\n",
       "<caption>A data.frame: 6 x 8</caption>\n",
       "<thead>\n",
       "\t<tr><th></th><th scope=col>CDR3b</th><th scope=col>TRBV</th><th scope=col>TRBJ</th><th scope=col>subject:condition</th><th scope=col>count</th><th scope=col>clonefraction</th><th scope=col>samplename</th><th scope=col>file</th></tr>\n",
       "\t<tr><th></th><th scope=col>&lt;chr&gt;</th><th scope=col>&lt;chr&gt;</th><th scope=col>&lt;chr&gt;</th><th scope=col>&lt;chr&gt;</th><th scope=col>&lt;int&gt;</th><th scope=col>&lt;dbl&gt;</th><th scope=col>&lt;chr&gt;</th><th scope=col>&lt;chr&gt;</th></tr>\n",
       "</thead>\n",
       "<tbody>\n",
       "\t<tr><th scope=row>1</th><td>CASSHPDAVNTEAFF</td><td>TRBV6-6 </td><td>TRBJ1-1</td><td>CHP_350:X01</td><td>59</td><td>0.02586585</td><td>CHP_350-01-PBMC-DNA</td><td>/Users/anabbi/Desktop/H4H/INTERCEPT/NextSeq/batch_reseq_24Feb2020/mixcr/clones/CLONES_TRBCHP_350-01-PBMC-DNA.txt</td></tr>\n",
       "\t<tr><th scope=row>2</th><td>CASSFSLAAYGEQYF</td><td>TRBV12-3</td><td>TRBJ2-7</td><td>CHP_350:X01</td><td>44</td><td>0.01928979</td><td>CHP_350-01-PBMC-DNA</td><td>/Users/anabbi/Desktop/H4H/INTERCEPT/NextSeq/batch_reseq_24Feb2020/mixcr/clones/CLONES_TRBCHP_350-01-PBMC-DNA.txt</td></tr>\n",
       "\t<tr><th scope=row>3</th><td>CASTRLLGNTEAFF </td><td>TRBV28  </td><td>TRBJ1-1</td><td>CHP_350:X01</td><td>41</td><td>0.01797457</td><td>CHP_350-01-PBMC-DNA</td><td>/Users/anabbi/Desktop/H4H/INTERCEPT/NextSeq/batch_reseq_24Feb2020/mixcr/clones/CLONES_TRBCHP_350-01-PBMC-DNA.txt</td></tr>\n",
       "\t<tr><th scope=row>4</th><td>CASSSFGQGINTIYF</td><td>TRBV18  </td><td>TRBJ1-3</td><td>CHP_350:X01</td><td>40</td><td>0.01753617</td><td>CHP_350-01-PBMC-DNA</td><td>/Users/anabbi/Desktop/H4H/INTERCEPT/NextSeq/batch_reseq_24Feb2020/mixcr/clones/CLONES_TRBCHP_350-01-PBMC-DNA.txt</td></tr>\n",
       "\t<tr><th scope=row>8</th><td>CASSPRIGQGAPLHF</td><td>TRBV12-3</td><td>TRBJ1-6</td><td>CHP_350:X01</td><td>31</td><td>0.01359053</td><td>CHP_350-01-PBMC-DNA</td><td>/Users/anabbi/Desktop/H4H/INTERCEPT/NextSeq/batch_reseq_24Feb2020/mixcr/clones/CLONES_TRBCHP_350-01-PBMC-DNA.txt</td></tr>\n",
       "\t<tr><th scope=row>9</th><td>CATSRTGGGNTEAFF</td><td>TRBV24-1</td><td>TRBJ1-1</td><td>CHP_350:X01</td><td>29</td><td>0.01271372</td><td>CHP_350-01-PBMC-DNA</td><td>/Users/anabbi/Desktop/H4H/INTERCEPT/NextSeq/batch_reseq_24Feb2020/mixcr/clones/CLONES_TRBCHP_350-01-PBMC-DNA.txt</td></tr>\n",
       "</tbody>\n",
       "</table>\n"
      ],
      "text/latex": [
       "A data.frame: 6 x 8\n",
       "\\begin{tabular}{r|llllllll}\n",
       "  & CDR3b & TRBV & TRBJ & subject:condition & count & clonefraction & samplename & file\\\\\n",
       "  & <chr> & <chr> & <chr> & <chr> & <int> & <dbl> & <chr> & <chr>\\\\\n",
       "\\hline\n",
       "\t1 & CASSHPDAVNTEAFF & TRBV6-6  & TRBJ1-1 & CHP\\_350:X01 & 59 & 0.02586585 & CHP\\_350-01-PBMC-DNA & /Users/anabbi/Desktop/H4H/INTERCEPT/NextSeq/batch\\_reseq\\_24Feb2020/mixcr/clones/CLONES\\_TRBCHP\\_350-01-PBMC-DNA.txt\\\\\n",
       "\t2 & CASSFSLAAYGEQYF & TRBV12-3 & TRBJ2-7 & CHP\\_350:X01 & 44 & 0.01928979 & CHP\\_350-01-PBMC-DNA & /Users/anabbi/Desktop/H4H/INTERCEPT/NextSeq/batch\\_reseq\\_24Feb2020/mixcr/clones/CLONES\\_TRBCHP\\_350-01-PBMC-DNA.txt\\\\\n",
       "\t3 & CASTRLLGNTEAFF  & TRBV28   & TRBJ1-1 & CHP\\_350:X01 & 41 & 0.01797457 & CHP\\_350-01-PBMC-DNA & /Users/anabbi/Desktop/H4H/INTERCEPT/NextSeq/batch\\_reseq\\_24Feb2020/mixcr/clones/CLONES\\_TRBCHP\\_350-01-PBMC-DNA.txt\\\\\n",
       "\t4 & CASSSFGQGINTIYF & TRBV18   & TRBJ1-3 & CHP\\_350:X01 & 40 & 0.01753617 & CHP\\_350-01-PBMC-DNA & /Users/anabbi/Desktop/H4H/INTERCEPT/NextSeq/batch\\_reseq\\_24Feb2020/mixcr/clones/CLONES\\_TRBCHP\\_350-01-PBMC-DNA.txt\\\\\n",
       "\t8 & CASSPRIGQGAPLHF & TRBV12-3 & TRBJ1-6 & CHP\\_350:X01 & 31 & 0.01359053 & CHP\\_350-01-PBMC-DNA & /Users/anabbi/Desktop/H4H/INTERCEPT/NextSeq/batch\\_reseq\\_24Feb2020/mixcr/clones/CLONES\\_TRBCHP\\_350-01-PBMC-DNA.txt\\\\\n",
       "\t9 & CATSRTGGGNTEAFF & TRBV24-1 & TRBJ1-1 & CHP\\_350:X01 & 29 & 0.01271372 & CHP\\_350-01-PBMC-DNA & /Users/anabbi/Desktop/H4H/INTERCEPT/NextSeq/batch\\_reseq\\_24Feb2020/mixcr/clones/CLONES\\_TRBCHP\\_350-01-PBMC-DNA.txt\\\\\n",
       "\\end{tabular}\n"
      ],
      "text/markdown": [
       "\n",
       "A data.frame: 6 x 8\n",
       "\n",
       "| <!--/--> | CDR3b &lt;chr&gt; | TRBV &lt;chr&gt; | TRBJ &lt;chr&gt; | subject:condition &lt;chr&gt; | count &lt;int&gt; | clonefraction &lt;dbl&gt; | samplename &lt;chr&gt; | file &lt;chr&gt; |\n",
       "|---|---|---|---|---|---|---|---|---|\n",
       "| 1 | CASSHPDAVNTEAFF | TRBV6-6  | TRBJ1-1 | CHP_350:X01 | 59 | 0.02586585 | CHP_350-01-PBMC-DNA | /Users/anabbi/Desktop/H4H/INTERCEPT/NextSeq/batch_reseq_24Feb2020/mixcr/clones/CLONES_TRBCHP_350-01-PBMC-DNA.txt |\n",
       "| 2 | CASSFSLAAYGEQYF | TRBV12-3 | TRBJ2-7 | CHP_350:X01 | 44 | 0.01928979 | CHP_350-01-PBMC-DNA | /Users/anabbi/Desktop/H4H/INTERCEPT/NextSeq/batch_reseq_24Feb2020/mixcr/clones/CLONES_TRBCHP_350-01-PBMC-DNA.txt |\n",
       "| 3 | CASTRLLGNTEAFF  | TRBV28   | TRBJ1-1 | CHP_350:X01 | 41 | 0.01797457 | CHP_350-01-PBMC-DNA | /Users/anabbi/Desktop/H4H/INTERCEPT/NextSeq/batch_reseq_24Feb2020/mixcr/clones/CLONES_TRBCHP_350-01-PBMC-DNA.txt |\n",
       "| 4 | CASSSFGQGINTIYF | TRBV18   | TRBJ1-3 | CHP_350:X01 | 40 | 0.01753617 | CHP_350-01-PBMC-DNA | /Users/anabbi/Desktop/H4H/INTERCEPT/NextSeq/batch_reseq_24Feb2020/mixcr/clones/CLONES_TRBCHP_350-01-PBMC-DNA.txt |\n",
       "| 8 | CASSPRIGQGAPLHF | TRBV12-3 | TRBJ1-6 | CHP_350:X01 | 31 | 0.01359053 | CHP_350-01-PBMC-DNA | /Users/anabbi/Desktop/H4H/INTERCEPT/NextSeq/batch_reseq_24Feb2020/mixcr/clones/CLONES_TRBCHP_350-01-PBMC-DNA.txt |\n",
       "| 9 | CATSRTGGGNTEAFF | TRBV24-1 | TRBJ1-1 | CHP_350:X01 | 29 | 0.01271372 | CHP_350-01-PBMC-DNA | /Users/anabbi/Desktop/H4H/INTERCEPT/NextSeq/batch_reseq_24Feb2020/mixcr/clones/CLONES_TRBCHP_350-01-PBMC-DNA.txt |\n",
       "\n"
      ],
      "text/plain": [
       "  CDR3b           TRBV     TRBJ    subject:condition count clonefraction\n",
       "1 CASSHPDAVNTEAFF TRBV6-6  TRBJ1-1 CHP_350:X01       59    0.02586585   \n",
       "2 CASSFSLAAYGEQYF TRBV12-3 TRBJ2-7 CHP_350:X01       44    0.01928979   \n",
       "3 CASTRLLGNTEAFF  TRBV28   TRBJ1-1 CHP_350:X01       41    0.01797457   \n",
       "4 CASSSFGQGINTIYF TRBV18   TRBJ1-3 CHP_350:X01       40    0.01753617   \n",
       "8 CASSPRIGQGAPLHF TRBV12-3 TRBJ1-6 CHP_350:X01       31    0.01359053   \n",
       "9 CATSRTGGGNTEAFF TRBV24-1 TRBJ1-1 CHP_350:X01       29    0.01271372   \n",
       "  samplename         \n",
       "1 CHP_350-01-PBMC-DNA\n",
       "2 CHP_350-01-PBMC-DNA\n",
       "3 CHP_350-01-PBMC-DNA\n",
       "4 CHP_350-01-PBMC-DNA\n",
       "8 CHP_350-01-PBMC-DNA\n",
       "9 CHP_350-01-PBMC-DNA\n",
       "  file                                                                                                            \n",
       "1 /Users/anabbi/Desktop/H4H/INTERCEPT/NextSeq/batch_reseq_24Feb2020/mixcr/clones/CLONES_TRBCHP_350-01-PBMC-DNA.txt\n",
       "2 /Users/anabbi/Desktop/H4H/INTERCEPT/NextSeq/batch_reseq_24Feb2020/mixcr/clones/CLONES_TRBCHP_350-01-PBMC-DNA.txt\n",
       "3 /Users/anabbi/Desktop/H4H/INTERCEPT/NextSeq/batch_reseq_24Feb2020/mixcr/clones/CLONES_TRBCHP_350-01-PBMC-DNA.txt\n",
       "4 /Users/anabbi/Desktop/H4H/INTERCEPT/NextSeq/batch_reseq_24Feb2020/mixcr/clones/CLONES_TRBCHP_350-01-PBMC-DNA.txt\n",
       "8 /Users/anabbi/Desktop/H4H/INTERCEPT/NextSeq/batch_reseq_24Feb2020/mixcr/clones/CLONES_TRBCHP_350-01-PBMC-DNA.txt\n",
       "9 /Users/anabbi/Desktop/H4H/INTERCEPT/NextSeq/batch_reseq_24Feb2020/mixcr/clones/CLONES_TRBCHP_350-01-PBMC-DNA.txt"
      ]
     },
     "metadata": {},
     "output_type": "display_data"
    }
   ],
   "source": [
    "head(int_all)"
   ]
  },
  {
   "cell_type": "code",
   "execution_count": 26,
   "metadata": {
    "vscode": {
     "languageId": "r"
    }
   },
   "outputs": [],
   "source": [
    "int_all$sampletype[ grepl(\"PBMC\", int_all$samplename)] <- \"PBMC\"\n",
    "int_all$sampletype[ grepl(\"cfDNA\", int_all$samplename)] <- \"cfDNA\"\n",
    "int_all$sampletype[ grepl(\"FFPE\", int_all$samplename)] <- \"Tumor\""
   ]
  },
  {
   "cell_type": "code",
   "execution_count": 27,
   "metadata": {
    "vscode": {
     "languageId": "r"
    }
   },
   "outputs": [
    {
     "data": {
      "text/plain": [
       "\n",
       " PBMC Tumor cfDNA  <NA> \n",
       "50627   638  3728     0 "
      ]
     },
     "metadata": {},
     "output_type": "display_data"
    }
   ],
   "source": [
    "table(int_all$sampletype, useNA = \"always\")"
   ]
  },
  {
   "cell_type": "code",
   "execution_count": 28,
   "metadata": {
    "vscode": {
     "languageId": "r"
    }
   },
   "outputs": [],
   "source": [
    "int_all$`subject:condition` <- paste(int_all$`subject:condition`, int_all$sampletype, sep = \"_\")"
   ]
  },
  {
   "cell_type": "code",
   "execution_count": 29,
   "metadata": {
    "vscode": {
     "languageId": "r"
    }
   },
   "outputs": [
    {
     "data": {
      "text/html": [
       "<table class=\"dataframe\">\n",
       "<caption>A data.frame: 6 x 9</caption>\n",
       "<thead>\n",
       "\t<tr><th></th><th scope=col>CDR3b</th><th scope=col>TRBV</th><th scope=col>TRBJ</th><th scope=col>subject:condition</th><th scope=col>count</th><th scope=col>clonefraction</th><th scope=col>samplename</th><th scope=col>file</th><th scope=col>sampletype</th></tr>\n",
       "\t<tr><th></th><th scope=col>&lt;chr&gt;</th><th scope=col>&lt;chr&gt;</th><th scope=col>&lt;chr&gt;</th><th scope=col>&lt;chr&gt;</th><th scope=col>&lt;int&gt;</th><th scope=col>&lt;dbl&gt;</th><th scope=col>&lt;chr&gt;</th><th scope=col>&lt;chr&gt;</th><th scope=col>&lt;chr&gt;</th></tr>\n",
       "</thead>\n",
       "<tbody>\n",
       "\t<tr><th scope=row>1</th><td>CASSHPDAVNTEAFF</td><td>TRBV6-6 </td><td>TRBJ1-1</td><td>CHP_350:X01_PBMC</td><td>59</td><td>0.02586585</td><td>CHP_350-01-PBMC-DNA</td><td>/Users/anabbi/Desktop/H4H/INTERCEPT/NextSeq/batch_reseq_24Feb2020/mixcr/clones/CLONES_TRBCHP_350-01-PBMC-DNA.txt</td><td>PBMC</td></tr>\n",
       "\t<tr><th scope=row>2</th><td>CASSFSLAAYGEQYF</td><td>TRBV12-3</td><td>TRBJ2-7</td><td>CHP_350:X01_PBMC</td><td>44</td><td>0.01928979</td><td>CHP_350-01-PBMC-DNA</td><td>/Users/anabbi/Desktop/H4H/INTERCEPT/NextSeq/batch_reseq_24Feb2020/mixcr/clones/CLONES_TRBCHP_350-01-PBMC-DNA.txt</td><td>PBMC</td></tr>\n",
       "\t<tr><th scope=row>3</th><td>CASTRLLGNTEAFF </td><td>TRBV28  </td><td>TRBJ1-1</td><td>CHP_350:X01_PBMC</td><td>41</td><td>0.01797457</td><td>CHP_350-01-PBMC-DNA</td><td>/Users/anabbi/Desktop/H4H/INTERCEPT/NextSeq/batch_reseq_24Feb2020/mixcr/clones/CLONES_TRBCHP_350-01-PBMC-DNA.txt</td><td>PBMC</td></tr>\n",
       "\t<tr><th scope=row>4</th><td>CASSSFGQGINTIYF</td><td>TRBV18  </td><td>TRBJ1-3</td><td>CHP_350:X01_PBMC</td><td>40</td><td>0.01753617</td><td>CHP_350-01-PBMC-DNA</td><td>/Users/anabbi/Desktop/H4H/INTERCEPT/NextSeq/batch_reseq_24Feb2020/mixcr/clones/CLONES_TRBCHP_350-01-PBMC-DNA.txt</td><td>PBMC</td></tr>\n",
       "\t<tr><th scope=row>8</th><td>CASSPRIGQGAPLHF</td><td>TRBV12-3</td><td>TRBJ1-6</td><td>CHP_350:X01_PBMC</td><td>31</td><td>0.01359053</td><td>CHP_350-01-PBMC-DNA</td><td>/Users/anabbi/Desktop/H4H/INTERCEPT/NextSeq/batch_reseq_24Feb2020/mixcr/clones/CLONES_TRBCHP_350-01-PBMC-DNA.txt</td><td>PBMC</td></tr>\n",
       "\t<tr><th scope=row>9</th><td>CATSRTGGGNTEAFF</td><td>TRBV24-1</td><td>TRBJ1-1</td><td>CHP_350:X01_PBMC</td><td>29</td><td>0.01271372</td><td>CHP_350-01-PBMC-DNA</td><td>/Users/anabbi/Desktop/H4H/INTERCEPT/NextSeq/batch_reseq_24Feb2020/mixcr/clones/CLONES_TRBCHP_350-01-PBMC-DNA.txt</td><td>PBMC</td></tr>\n",
       "</tbody>\n",
       "</table>\n"
      ],
      "text/latex": [
       "A data.frame: 6 x 9\n",
       "\\begin{tabular}{r|lllllllll}\n",
       "  & CDR3b & TRBV & TRBJ & subject:condition & count & clonefraction & samplename & file & sampletype\\\\\n",
       "  & <chr> & <chr> & <chr> & <chr> & <int> & <dbl> & <chr> & <chr> & <chr>\\\\\n",
       "\\hline\n",
       "\t1 & CASSHPDAVNTEAFF & TRBV6-6  & TRBJ1-1 & CHP\\_350:X01\\_PBMC & 59 & 0.02586585 & CHP\\_350-01-PBMC-DNA & /Users/anabbi/Desktop/H4H/INTERCEPT/NextSeq/batch\\_reseq\\_24Feb2020/mixcr/clones/CLONES\\_TRBCHP\\_350-01-PBMC-DNA.txt & PBMC\\\\\n",
       "\t2 & CASSFSLAAYGEQYF & TRBV12-3 & TRBJ2-7 & CHP\\_350:X01\\_PBMC & 44 & 0.01928979 & CHP\\_350-01-PBMC-DNA & /Users/anabbi/Desktop/H4H/INTERCEPT/NextSeq/batch\\_reseq\\_24Feb2020/mixcr/clones/CLONES\\_TRBCHP\\_350-01-PBMC-DNA.txt & PBMC\\\\\n",
       "\t3 & CASTRLLGNTEAFF  & TRBV28   & TRBJ1-1 & CHP\\_350:X01\\_PBMC & 41 & 0.01797457 & CHP\\_350-01-PBMC-DNA & /Users/anabbi/Desktop/H4H/INTERCEPT/NextSeq/batch\\_reseq\\_24Feb2020/mixcr/clones/CLONES\\_TRBCHP\\_350-01-PBMC-DNA.txt & PBMC\\\\\n",
       "\t4 & CASSSFGQGINTIYF & TRBV18   & TRBJ1-3 & CHP\\_350:X01\\_PBMC & 40 & 0.01753617 & CHP\\_350-01-PBMC-DNA & /Users/anabbi/Desktop/H4H/INTERCEPT/NextSeq/batch\\_reseq\\_24Feb2020/mixcr/clones/CLONES\\_TRBCHP\\_350-01-PBMC-DNA.txt & PBMC\\\\\n",
       "\t8 & CASSPRIGQGAPLHF & TRBV12-3 & TRBJ1-6 & CHP\\_350:X01\\_PBMC & 31 & 0.01359053 & CHP\\_350-01-PBMC-DNA & /Users/anabbi/Desktop/H4H/INTERCEPT/NextSeq/batch\\_reseq\\_24Feb2020/mixcr/clones/CLONES\\_TRBCHP\\_350-01-PBMC-DNA.txt & PBMC\\\\\n",
       "\t9 & CATSRTGGGNTEAFF & TRBV24-1 & TRBJ1-1 & CHP\\_350:X01\\_PBMC & 29 & 0.01271372 & CHP\\_350-01-PBMC-DNA & /Users/anabbi/Desktop/H4H/INTERCEPT/NextSeq/batch\\_reseq\\_24Feb2020/mixcr/clones/CLONES\\_TRBCHP\\_350-01-PBMC-DNA.txt & PBMC\\\\\n",
       "\\end{tabular}\n"
      ],
      "text/markdown": [
       "\n",
       "A data.frame: 6 x 9\n",
       "\n",
       "| <!--/--> | CDR3b &lt;chr&gt; | TRBV &lt;chr&gt; | TRBJ &lt;chr&gt; | subject:condition &lt;chr&gt; | count &lt;int&gt; | clonefraction &lt;dbl&gt; | samplename &lt;chr&gt; | file &lt;chr&gt; | sampletype &lt;chr&gt; |\n",
       "|---|---|---|---|---|---|---|---|---|---|\n",
       "| 1 | CASSHPDAVNTEAFF | TRBV6-6  | TRBJ1-1 | CHP_350:X01_PBMC | 59 | 0.02586585 | CHP_350-01-PBMC-DNA | /Users/anabbi/Desktop/H4H/INTERCEPT/NextSeq/batch_reseq_24Feb2020/mixcr/clones/CLONES_TRBCHP_350-01-PBMC-DNA.txt | PBMC |\n",
       "| 2 | CASSFSLAAYGEQYF | TRBV12-3 | TRBJ2-7 | CHP_350:X01_PBMC | 44 | 0.01928979 | CHP_350-01-PBMC-DNA | /Users/anabbi/Desktop/H4H/INTERCEPT/NextSeq/batch_reseq_24Feb2020/mixcr/clones/CLONES_TRBCHP_350-01-PBMC-DNA.txt | PBMC |\n",
       "| 3 | CASTRLLGNTEAFF  | TRBV28   | TRBJ1-1 | CHP_350:X01_PBMC | 41 | 0.01797457 | CHP_350-01-PBMC-DNA | /Users/anabbi/Desktop/H4H/INTERCEPT/NextSeq/batch_reseq_24Feb2020/mixcr/clones/CLONES_TRBCHP_350-01-PBMC-DNA.txt | PBMC |\n",
       "| 4 | CASSSFGQGINTIYF | TRBV18   | TRBJ1-3 | CHP_350:X01_PBMC | 40 | 0.01753617 | CHP_350-01-PBMC-DNA | /Users/anabbi/Desktop/H4H/INTERCEPT/NextSeq/batch_reseq_24Feb2020/mixcr/clones/CLONES_TRBCHP_350-01-PBMC-DNA.txt | PBMC |\n",
       "| 8 | CASSPRIGQGAPLHF | TRBV12-3 | TRBJ1-6 | CHP_350:X01_PBMC | 31 | 0.01359053 | CHP_350-01-PBMC-DNA | /Users/anabbi/Desktop/H4H/INTERCEPT/NextSeq/batch_reseq_24Feb2020/mixcr/clones/CLONES_TRBCHP_350-01-PBMC-DNA.txt | PBMC |\n",
       "| 9 | CATSRTGGGNTEAFF | TRBV24-1 | TRBJ1-1 | CHP_350:X01_PBMC | 29 | 0.01271372 | CHP_350-01-PBMC-DNA | /Users/anabbi/Desktop/H4H/INTERCEPT/NextSeq/batch_reseq_24Feb2020/mixcr/clones/CLONES_TRBCHP_350-01-PBMC-DNA.txt | PBMC |\n",
       "\n"
      ],
      "text/plain": [
       "  CDR3b           TRBV     TRBJ    subject:condition count clonefraction\n",
       "1 CASSHPDAVNTEAFF TRBV6-6  TRBJ1-1 CHP_350:X01_PBMC  59    0.02586585   \n",
       "2 CASSFSLAAYGEQYF TRBV12-3 TRBJ2-7 CHP_350:X01_PBMC  44    0.01928979   \n",
       "3 CASTRLLGNTEAFF  TRBV28   TRBJ1-1 CHP_350:X01_PBMC  41    0.01797457   \n",
       "4 CASSSFGQGINTIYF TRBV18   TRBJ1-3 CHP_350:X01_PBMC  40    0.01753617   \n",
       "8 CASSPRIGQGAPLHF TRBV12-3 TRBJ1-6 CHP_350:X01_PBMC  31    0.01359053   \n",
       "9 CATSRTGGGNTEAFF TRBV24-1 TRBJ1-1 CHP_350:X01_PBMC  29    0.01271372   \n",
       "  samplename         \n",
       "1 CHP_350-01-PBMC-DNA\n",
       "2 CHP_350-01-PBMC-DNA\n",
       "3 CHP_350-01-PBMC-DNA\n",
       "4 CHP_350-01-PBMC-DNA\n",
       "8 CHP_350-01-PBMC-DNA\n",
       "9 CHP_350-01-PBMC-DNA\n",
       "  file                                                                                                            \n",
       "1 /Users/anabbi/Desktop/H4H/INTERCEPT/NextSeq/batch_reseq_24Feb2020/mixcr/clones/CLONES_TRBCHP_350-01-PBMC-DNA.txt\n",
       "2 /Users/anabbi/Desktop/H4H/INTERCEPT/NextSeq/batch_reseq_24Feb2020/mixcr/clones/CLONES_TRBCHP_350-01-PBMC-DNA.txt\n",
       "3 /Users/anabbi/Desktop/H4H/INTERCEPT/NextSeq/batch_reseq_24Feb2020/mixcr/clones/CLONES_TRBCHP_350-01-PBMC-DNA.txt\n",
       "4 /Users/anabbi/Desktop/H4H/INTERCEPT/NextSeq/batch_reseq_24Feb2020/mixcr/clones/CLONES_TRBCHP_350-01-PBMC-DNA.txt\n",
       "8 /Users/anabbi/Desktop/H4H/INTERCEPT/NextSeq/batch_reseq_24Feb2020/mixcr/clones/CLONES_TRBCHP_350-01-PBMC-DNA.txt\n",
       "9 /Users/anabbi/Desktop/H4H/INTERCEPT/NextSeq/batch_reseq_24Feb2020/mixcr/clones/CLONES_TRBCHP_350-01-PBMC-DNA.txt\n",
       "  sampletype\n",
       "1 PBMC      \n",
       "2 PBMC      \n",
       "3 PBMC      \n",
       "4 PBMC      \n",
       "8 PBMC      \n",
       "9 PBMC      "
      ]
     },
     "metadata": {},
     "output_type": "display_data"
    }
   ],
   "source": [
    "head(int_all)"
   ]
  },
  {
   "cell_type": "code",
   "execution_count": 30,
   "metadata": {
    "vscode": {
     "languageId": "r"
    }
   },
   "outputs": [],
   "source": [
    "readr::write_rds(int_all, file = paste0(datapath, \"capTCRseq/INT_all_gliph_input_v1.rds\"))"
   ]
  },
  {
   "attachments": {},
   "cell_type": "markdown",
   "metadata": {},
   "source": [
    "VDJdb file"
   ]
  },
  {
   "cell_type": "code",
   "execution_count": 31,
   "metadata": {
    "vscode": {
     "languageId": "r"
    }
   },
   "outputs": [],
   "source": [
    "VDJdb_tcr <- read.table(file = paste0(datapath, \"CapTCRseq/VDJdb_MinimalScoreConfidence3.tsv\"), sep = \"\\t\", header = T)"
   ]
  },
  {
   "cell_type": "code",
   "execution_count": 32,
   "metadata": {
    "vscode": {
     "languageId": "r"
    }
   },
   "outputs": [
    {
     "data": {
      "text/html": [
       "<table class=\"dataframe\">\n",
       "<caption>A data.frame: 6 x 12</caption>\n",
       "<thead>\n",
       "\t<tr><th></th><th scope=col>complex.id</th><th scope=col>Gene</th><th scope=col>aaSeqCDR3</th><th scope=col>V</th><th scope=col>J</th><th scope=col>MHC.A</th><th scope=col>MHC.B</th><th scope=col>MHC.class</th><th scope=col>Epitope</th><th scope=col>Epitope.gene</th><th scope=col>Epitope.species</th><th scope=col>Reference</th></tr>\n",
       "\t<tr><th></th><th scope=col>&lt;int&gt;</th><th scope=col>&lt;chr&gt;</th><th scope=col>&lt;chr&gt;</th><th scope=col>&lt;chr&gt;</th><th scope=col>&lt;chr&gt;</th><th scope=col>&lt;chr&gt;</th><th scope=col>&lt;chr&gt;</th><th scope=col>&lt;chr&gt;</th><th scope=col>&lt;chr&gt;</th><th scope=col>&lt;chr&gt;</th><th scope=col>&lt;chr&gt;</th><th scope=col>&lt;chr&gt;</th></tr>\n",
       "</thead>\n",
       "<tbody>\n",
       "\t<tr><th scope=row>1</th><td>0</td><td>TRB</td><td>CAISGQAVSTDTQYF</td><td>TRBV10-3*01</td><td>TRBJ2-3*01</td><td>HLA-A*02   </td><td>NA</td><td>MHCI</td><td>KLVALGINAV</td><td>NS3  </td><td>HCV</td><td>PMID:27252176</td></tr>\n",
       "\t<tr><th scope=row>2</th><td>0</td><td>TRB</td><td>CASDSNTEAFF    </td><td>TRBV25-1*01</td><td>TRBJ1-1*01</td><td>HLA-A*02   </td><td>NA</td><td>MHCI</td><td>KLVALGINAV</td><td>NS3  </td><td>HCV</td><td>PMID:27252176</td></tr>\n",
       "\t<tr><th scope=row>3</th><td>0</td><td>TRB</td><td>CASGWGSQPQHF   </td><td>TRBV7-9*01 </td><td>TRBJ1-5*01</td><td>HLA-A*11:01</td><td>NA</td><td>MHCI</td><td>AVFDRKSDAK</td><td>EBNA4</td><td>EBV</td><td>PMID:23267020</td></tr>\n",
       "\t<tr><th scope=row>4</th><td>0</td><td>TRB</td><td>CASKGQGARDGYTF </td><td>TRBV6-6*01 </td><td>TRBJ1-2*01</td><td>HLA-B*35:01</td><td>NA</td><td>MHCI</td><td>IPSINVHHY </td><td>pp65 </td><td>CMV</td><td>PMID:23267020</td></tr>\n",
       "\t<tr><th scope=row>5</th><td>0</td><td>TRB</td><td>CASKMRGDVYEQYF </td><td>TRBV18*01  </td><td>TRBJ2-7*01</td><td>HLA-B*08:01</td><td>NA</td><td>MHCI</td><td>RAKFKQLL  </td><td>BZLF1</td><td>EBV</td><td>PMID:23267020</td></tr>\n",
       "\t<tr><th scope=row>6</th><td>0</td><td>TRB</td><td>CASMGNSAGANVLTF</td><td>TRBV10-1*01</td><td>TRBJ2-6*01</td><td>HLA-A*02   </td><td>NA</td><td>MHCI</td><td>NLVPMVATV </td><td>pp65 </td><td>CMV</td><td>PMID:9971792 </td></tr>\n",
       "</tbody>\n",
       "</table>\n"
      ],
      "text/latex": [
       "A data.frame: 6 x 12\n",
       "\\begin{tabular}{r|llllllllllll}\n",
       "  & complex.id & Gene & aaSeqCDR3 & V & J & MHC.A & MHC.B & MHC.class & Epitope & Epitope.gene & Epitope.species & Reference\\\\\n",
       "  & <int> & <chr> & <chr> & <chr> & <chr> & <chr> & <chr> & <chr> & <chr> & <chr> & <chr> & <chr>\\\\\n",
       "\\hline\n",
       "\t1 & 0 & TRB & CAISGQAVSTDTQYF & TRBV10-3*01 & TRBJ2-3*01 & HLA-A*02    & NA & MHCI & KLVALGINAV & NS3   & HCV & PMID:27252176\\\\\n",
       "\t2 & 0 & TRB & CASDSNTEAFF     & TRBV25-1*01 & TRBJ1-1*01 & HLA-A*02    & NA & MHCI & KLVALGINAV & NS3   & HCV & PMID:27252176\\\\\n",
       "\t3 & 0 & TRB & CASGWGSQPQHF    & TRBV7-9*01  & TRBJ1-5*01 & HLA-A*11:01 & NA & MHCI & AVFDRKSDAK & EBNA4 & EBV & PMID:23267020\\\\\n",
       "\t4 & 0 & TRB & CASKGQGARDGYTF  & TRBV6-6*01  & TRBJ1-2*01 & HLA-B*35:01 & NA & MHCI & IPSINVHHY  & pp65  & CMV & PMID:23267020\\\\\n",
       "\t5 & 0 & TRB & CASKMRGDVYEQYF  & TRBV18*01   & TRBJ2-7*01 & HLA-B*08:01 & NA & MHCI & RAKFKQLL   & BZLF1 & EBV & PMID:23267020\\\\\n",
       "\t6 & 0 & TRB & CASMGNSAGANVLTF & TRBV10-1*01 & TRBJ2-6*01 & HLA-A*02    & NA & MHCI & NLVPMVATV  & pp65  & CMV & PMID:9971792 \\\\\n",
       "\\end{tabular}\n"
      ],
      "text/markdown": [
       "\n",
       "A data.frame: 6 x 12\n",
       "\n",
       "| <!--/--> | complex.id &lt;int&gt; | Gene &lt;chr&gt; | aaSeqCDR3 &lt;chr&gt; | V &lt;chr&gt; | J &lt;chr&gt; | MHC.A &lt;chr&gt; | MHC.B &lt;chr&gt; | MHC.class &lt;chr&gt; | Epitope &lt;chr&gt; | Epitope.gene &lt;chr&gt; | Epitope.species &lt;chr&gt; | Reference &lt;chr&gt; |\n",
       "|---|---|---|---|---|---|---|---|---|---|---|---|---|\n",
       "| 1 | 0 | TRB | CAISGQAVSTDTQYF | TRBV10-3*01 | TRBJ2-3*01 | HLA-A*02    | NA | MHCI | KLVALGINAV | NS3   | HCV | PMID:27252176 |\n",
       "| 2 | 0 | TRB | CASDSNTEAFF     | TRBV25-1*01 | TRBJ1-1*01 | HLA-A*02    | NA | MHCI | KLVALGINAV | NS3   | HCV | PMID:27252176 |\n",
       "| 3 | 0 | TRB | CASGWGSQPQHF    | TRBV7-9*01  | TRBJ1-5*01 | HLA-A*11:01 | NA | MHCI | AVFDRKSDAK | EBNA4 | EBV | PMID:23267020 |\n",
       "| 4 | 0 | TRB | CASKGQGARDGYTF  | TRBV6-6*01  | TRBJ1-2*01 | HLA-B*35:01 | NA | MHCI | IPSINVHHY  | pp65  | CMV | PMID:23267020 |\n",
       "| 5 | 0 | TRB | CASKMRGDVYEQYF  | TRBV18*01   | TRBJ2-7*01 | HLA-B*08:01 | NA | MHCI | RAKFKQLL   | BZLF1 | EBV | PMID:23267020 |\n",
       "| 6 | 0 | TRB | CASMGNSAGANVLTF | TRBV10-1*01 | TRBJ2-6*01 | HLA-A*02    | NA | MHCI | NLVPMVATV  | pp65  | CMV | PMID:9971792  |\n",
       "\n"
      ],
      "text/plain": [
       "  complex.id Gene aaSeqCDR3       V           J          MHC.A       MHC.B\n",
       "1 0          TRB  CAISGQAVSTDTQYF TRBV10-3*01 TRBJ2-3*01 HLA-A*02    NA   \n",
       "2 0          TRB  CASDSNTEAFF     TRBV25-1*01 TRBJ1-1*01 HLA-A*02    NA   \n",
       "3 0          TRB  CASGWGSQPQHF    TRBV7-9*01  TRBJ1-5*01 HLA-A*11:01 NA   \n",
       "4 0          TRB  CASKGQGARDGYTF  TRBV6-6*01  TRBJ1-2*01 HLA-B*35:01 NA   \n",
       "5 0          TRB  CASKMRGDVYEQYF  TRBV18*01   TRBJ2-7*01 HLA-B*08:01 NA   \n",
       "6 0          TRB  CASMGNSAGANVLTF TRBV10-1*01 TRBJ2-6*01 HLA-A*02    NA   \n",
       "  MHC.class Epitope    Epitope.gene Epitope.species Reference    \n",
       "1 MHCI      KLVALGINAV NS3          HCV             PMID:27252176\n",
       "2 MHCI      KLVALGINAV NS3          HCV             PMID:27252176\n",
       "3 MHCI      AVFDRKSDAK EBNA4        EBV             PMID:23267020\n",
       "4 MHCI      IPSINVHHY  pp65         CMV             PMID:23267020\n",
       "5 MHCI      RAKFKQLL   BZLF1        EBV             PMID:23267020\n",
       "6 MHCI      NLVPMVATV  pp65         CMV             PMID:9971792 "
      ]
     },
     "metadata": {},
     "output_type": "display_data"
    }
   ],
   "source": [
    "head(VDJdb_tcr)"
   ]
  },
  {
   "cell_type": "code",
   "execution_count": 33,
   "metadata": {
    "vscode": {
     "languageId": "r"
    }
   },
   "outputs": [],
   "source": [
    "VDJdb_tcr$`subject:condition` <- paste0(VDJdb_tcr$Epitope.species, \":\",VDJdb_tcr$Epitope.gene,\"_\", VDJdb_tcr$Epitope)\n",
    "VDJdb_tcr$count <- 1\n",
    "VDJdb_tcr$clonefraction <- 1\n",
    " VDJdb_tcr$samplename <- \"VDJdb\"\n",
    "VDJdb_tcr$file <- \"VDJdb_MinimalScoreConfidence3.tsv\"\n",
    "# VDJdb_tcr$index <- 1:nrow(VDJdb_tcr)"
   ]
  },
  {
   "cell_type": "code",
   "execution_count": 34,
   "metadata": {
    "vscode": {
     "languageId": "r"
    }
   },
   "outputs": [
    {
     "data": {
      "text/html": [
       "<table class=\"dataframe\">\n",
       "<caption>A data.frame: 6 x 17</caption>\n",
       "<thead>\n",
       "\t<tr><th></th><th scope=col>complex.id</th><th scope=col>Gene</th><th scope=col>aaSeqCDR3</th><th scope=col>V</th><th scope=col>J</th><th scope=col>MHC.A</th><th scope=col>MHC.B</th><th scope=col>MHC.class</th><th scope=col>Epitope</th><th scope=col>Epitope.gene</th><th scope=col>Epitope.species</th><th scope=col>Reference</th><th scope=col>subject:condition</th><th scope=col>count</th><th scope=col>clonefraction</th><th scope=col>samplename</th><th scope=col>file</th></tr>\n",
       "\t<tr><th></th><th scope=col>&lt;int&gt;</th><th scope=col>&lt;chr&gt;</th><th scope=col>&lt;chr&gt;</th><th scope=col>&lt;chr&gt;</th><th scope=col>&lt;chr&gt;</th><th scope=col>&lt;chr&gt;</th><th scope=col>&lt;chr&gt;</th><th scope=col>&lt;chr&gt;</th><th scope=col>&lt;chr&gt;</th><th scope=col>&lt;chr&gt;</th><th scope=col>&lt;chr&gt;</th><th scope=col>&lt;chr&gt;</th><th scope=col>&lt;chr&gt;</th><th scope=col>&lt;dbl&gt;</th><th scope=col>&lt;dbl&gt;</th><th scope=col>&lt;chr&gt;</th><th scope=col>&lt;chr&gt;</th></tr>\n",
       "</thead>\n",
       "<tbody>\n",
       "\t<tr><th scope=row>1</th><td>0</td><td>TRB</td><td>CAISGQAVSTDTQYF</td><td>TRBV10-3*01</td><td>TRBJ2-3*01</td><td>HLA-A*02   </td><td>NA</td><td>MHCI</td><td>KLVALGINAV</td><td>NS3  </td><td>HCV</td><td>PMID:27252176</td><td>HCV:NS3_KLVALGINAV  </td><td>1</td><td>1</td><td>VDJdb</td><td>VDJdb_MinimalScoreConfidence3.tsv</td></tr>\n",
       "\t<tr><th scope=row>2</th><td>0</td><td>TRB</td><td>CASDSNTEAFF    </td><td>TRBV25-1*01</td><td>TRBJ1-1*01</td><td>HLA-A*02   </td><td>NA</td><td>MHCI</td><td>KLVALGINAV</td><td>NS3  </td><td>HCV</td><td>PMID:27252176</td><td>HCV:NS3_KLVALGINAV  </td><td>1</td><td>1</td><td>VDJdb</td><td>VDJdb_MinimalScoreConfidence3.tsv</td></tr>\n",
       "\t<tr><th scope=row>3</th><td>0</td><td>TRB</td><td>CASGWGSQPQHF   </td><td>TRBV7-9*01 </td><td>TRBJ1-5*01</td><td>HLA-A*11:01</td><td>NA</td><td>MHCI</td><td>AVFDRKSDAK</td><td>EBNA4</td><td>EBV</td><td>PMID:23267020</td><td>EBV:EBNA4_AVFDRKSDAK</td><td>1</td><td>1</td><td>VDJdb</td><td>VDJdb_MinimalScoreConfidence3.tsv</td></tr>\n",
       "\t<tr><th scope=row>4</th><td>0</td><td>TRB</td><td>CASKGQGARDGYTF </td><td>TRBV6-6*01 </td><td>TRBJ1-2*01</td><td>HLA-B*35:01</td><td>NA</td><td>MHCI</td><td>IPSINVHHY </td><td>pp65 </td><td>CMV</td><td>PMID:23267020</td><td>CMV:pp65_IPSINVHHY  </td><td>1</td><td>1</td><td>VDJdb</td><td>VDJdb_MinimalScoreConfidence3.tsv</td></tr>\n",
       "\t<tr><th scope=row>5</th><td>0</td><td>TRB</td><td>CASKMRGDVYEQYF </td><td>TRBV18*01  </td><td>TRBJ2-7*01</td><td>HLA-B*08:01</td><td>NA</td><td>MHCI</td><td>RAKFKQLL  </td><td>BZLF1</td><td>EBV</td><td>PMID:23267020</td><td>EBV:BZLF1_RAKFKQLL  </td><td>1</td><td>1</td><td>VDJdb</td><td>VDJdb_MinimalScoreConfidence3.tsv</td></tr>\n",
       "\t<tr><th scope=row>6</th><td>0</td><td>TRB</td><td>CASMGNSAGANVLTF</td><td>TRBV10-1*01</td><td>TRBJ2-6*01</td><td>HLA-A*02   </td><td>NA</td><td>MHCI</td><td>NLVPMVATV </td><td>pp65 </td><td>CMV</td><td>PMID:9971792 </td><td>CMV:pp65_NLVPMVATV  </td><td>1</td><td>1</td><td>VDJdb</td><td>VDJdb_MinimalScoreConfidence3.tsv</td></tr>\n",
       "</tbody>\n",
       "</table>\n"
      ],
      "text/latex": [
       "A data.frame: 6 x 17\n",
       "\\begin{tabular}{r|lllllllllllllllll}\n",
       "  & complex.id & Gene & aaSeqCDR3 & V & J & MHC.A & MHC.B & MHC.class & Epitope & Epitope.gene & Epitope.species & Reference & subject:condition & count & clonefraction & samplename & file\\\\\n",
       "  & <int> & <chr> & <chr> & <chr> & <chr> & <chr> & <chr> & <chr> & <chr> & <chr> & <chr> & <chr> & <chr> & <dbl> & <dbl> & <chr> & <chr>\\\\\n",
       "\\hline\n",
       "\t1 & 0 & TRB & CAISGQAVSTDTQYF & TRBV10-3*01 & TRBJ2-3*01 & HLA-A*02    & NA & MHCI & KLVALGINAV & NS3   & HCV & PMID:27252176 & HCV:NS3\\_KLVALGINAV   & 1 & 1 & VDJdb & VDJdb\\_MinimalScoreConfidence3.tsv\\\\\n",
       "\t2 & 0 & TRB & CASDSNTEAFF     & TRBV25-1*01 & TRBJ1-1*01 & HLA-A*02    & NA & MHCI & KLVALGINAV & NS3   & HCV & PMID:27252176 & HCV:NS3\\_KLVALGINAV   & 1 & 1 & VDJdb & VDJdb\\_MinimalScoreConfidence3.tsv\\\\\n",
       "\t3 & 0 & TRB & CASGWGSQPQHF    & TRBV7-9*01  & TRBJ1-5*01 & HLA-A*11:01 & NA & MHCI & AVFDRKSDAK & EBNA4 & EBV & PMID:23267020 & EBV:EBNA4\\_AVFDRKSDAK & 1 & 1 & VDJdb & VDJdb\\_MinimalScoreConfidence3.tsv\\\\\n",
       "\t4 & 0 & TRB & CASKGQGARDGYTF  & TRBV6-6*01  & TRBJ1-2*01 & HLA-B*35:01 & NA & MHCI & IPSINVHHY  & pp65  & CMV & PMID:23267020 & CMV:pp65\\_IPSINVHHY   & 1 & 1 & VDJdb & VDJdb\\_MinimalScoreConfidence3.tsv\\\\\n",
       "\t5 & 0 & TRB & CASKMRGDVYEQYF  & TRBV18*01   & TRBJ2-7*01 & HLA-B*08:01 & NA & MHCI & RAKFKQLL   & BZLF1 & EBV & PMID:23267020 & EBV:BZLF1\\_RAKFKQLL   & 1 & 1 & VDJdb & VDJdb\\_MinimalScoreConfidence3.tsv\\\\\n",
       "\t6 & 0 & TRB & CASMGNSAGANVLTF & TRBV10-1*01 & TRBJ2-6*01 & HLA-A*02    & NA & MHCI & NLVPMVATV  & pp65  & CMV & PMID:9971792  & CMV:pp65\\_NLVPMVATV   & 1 & 1 & VDJdb & VDJdb\\_MinimalScoreConfidence3.tsv\\\\\n",
       "\\end{tabular}\n"
      ],
      "text/markdown": [
       "\n",
       "A data.frame: 6 x 17\n",
       "\n",
       "| <!--/--> | complex.id &lt;int&gt; | Gene &lt;chr&gt; | aaSeqCDR3 &lt;chr&gt; | V &lt;chr&gt; | J &lt;chr&gt; | MHC.A &lt;chr&gt; | MHC.B &lt;chr&gt; | MHC.class &lt;chr&gt; | Epitope &lt;chr&gt; | Epitope.gene &lt;chr&gt; | Epitope.species &lt;chr&gt; | Reference &lt;chr&gt; | subject:condition &lt;chr&gt; | count &lt;dbl&gt; | clonefraction &lt;dbl&gt; | samplename &lt;chr&gt; | file &lt;chr&gt; |\n",
       "|---|---|---|---|---|---|---|---|---|---|---|---|---|---|---|---|---|---|\n",
       "| 1 | 0 | TRB | CAISGQAVSTDTQYF | TRBV10-3*01 | TRBJ2-3*01 | HLA-A*02    | NA | MHCI | KLVALGINAV | NS3   | HCV | PMID:27252176 | HCV:NS3_KLVALGINAV   | 1 | 1 | VDJdb | VDJdb_MinimalScoreConfidence3.tsv |\n",
       "| 2 | 0 | TRB | CASDSNTEAFF     | TRBV25-1*01 | TRBJ1-1*01 | HLA-A*02    | NA | MHCI | KLVALGINAV | NS3   | HCV | PMID:27252176 | HCV:NS3_KLVALGINAV   | 1 | 1 | VDJdb | VDJdb_MinimalScoreConfidence3.tsv |\n",
       "| 3 | 0 | TRB | CASGWGSQPQHF    | TRBV7-9*01  | TRBJ1-5*01 | HLA-A*11:01 | NA | MHCI | AVFDRKSDAK | EBNA4 | EBV | PMID:23267020 | EBV:EBNA4_AVFDRKSDAK | 1 | 1 | VDJdb | VDJdb_MinimalScoreConfidence3.tsv |\n",
       "| 4 | 0 | TRB | CASKGQGARDGYTF  | TRBV6-6*01  | TRBJ1-2*01 | HLA-B*35:01 | NA | MHCI | IPSINVHHY  | pp65  | CMV | PMID:23267020 | CMV:pp65_IPSINVHHY   | 1 | 1 | VDJdb | VDJdb_MinimalScoreConfidence3.tsv |\n",
       "| 5 | 0 | TRB | CASKMRGDVYEQYF  | TRBV18*01   | TRBJ2-7*01 | HLA-B*08:01 | NA | MHCI | RAKFKQLL   | BZLF1 | EBV | PMID:23267020 | EBV:BZLF1_RAKFKQLL   | 1 | 1 | VDJdb | VDJdb_MinimalScoreConfidence3.tsv |\n",
       "| 6 | 0 | TRB | CASMGNSAGANVLTF | TRBV10-1*01 | TRBJ2-6*01 | HLA-A*02    | NA | MHCI | NLVPMVATV  | pp65  | CMV | PMID:9971792  | CMV:pp65_NLVPMVATV   | 1 | 1 | VDJdb | VDJdb_MinimalScoreConfidence3.tsv |\n",
       "\n"
      ],
      "text/plain": [
       "  complex.id Gene aaSeqCDR3       V           J          MHC.A       MHC.B\n",
       "1 0          TRB  CAISGQAVSTDTQYF TRBV10-3*01 TRBJ2-3*01 HLA-A*02    NA   \n",
       "2 0          TRB  CASDSNTEAFF     TRBV25-1*01 TRBJ1-1*01 HLA-A*02    NA   \n",
       "3 0          TRB  CASGWGSQPQHF    TRBV7-9*01  TRBJ1-5*01 HLA-A*11:01 NA   \n",
       "4 0          TRB  CASKGQGARDGYTF  TRBV6-6*01  TRBJ1-2*01 HLA-B*35:01 NA   \n",
       "5 0          TRB  CASKMRGDVYEQYF  TRBV18*01   TRBJ2-7*01 HLA-B*08:01 NA   \n",
       "6 0          TRB  CASMGNSAGANVLTF TRBV10-1*01 TRBJ2-6*01 HLA-A*02    NA   \n",
       "  MHC.class Epitope    Epitope.gene Epitope.species Reference    \n",
       "1 MHCI      KLVALGINAV NS3          HCV             PMID:27252176\n",
       "2 MHCI      KLVALGINAV NS3          HCV             PMID:27252176\n",
       "3 MHCI      AVFDRKSDAK EBNA4        EBV             PMID:23267020\n",
       "4 MHCI      IPSINVHHY  pp65         CMV             PMID:23267020\n",
       "5 MHCI      RAKFKQLL   BZLF1        EBV             PMID:23267020\n",
       "6 MHCI      NLVPMVATV  pp65         CMV             PMID:9971792 \n",
       "  subject:condition    count clonefraction samplename\n",
       "1 HCV:NS3_KLVALGINAV   1     1             VDJdb     \n",
       "2 HCV:NS3_KLVALGINAV   1     1             VDJdb     \n",
       "3 EBV:EBNA4_AVFDRKSDAK 1     1             VDJdb     \n",
       "4 CMV:pp65_IPSINVHHY   1     1             VDJdb     \n",
       "5 EBV:BZLF1_RAKFKQLL   1     1             VDJdb     \n",
       "6 CMV:pp65_NLVPMVATV   1     1             VDJdb     \n",
       "  file                             \n",
       "1 VDJdb_MinimalScoreConfidence3.tsv\n",
       "2 VDJdb_MinimalScoreConfidence3.tsv\n",
       "3 VDJdb_MinimalScoreConfidence3.tsv\n",
       "4 VDJdb_MinimalScoreConfidence3.tsv\n",
       "5 VDJdb_MinimalScoreConfidence3.tsv\n",
       "6 VDJdb_MinimalScoreConfidence3.tsv"
      ]
     },
     "metadata": {},
     "output_type": "display_data"
    }
   ],
   "source": [
    "head(VDJdb_tcr)"
   ]
  },
  {
   "cell_type": "code",
   "execution_count": 35,
   "metadata": {
    "vscode": {
     "languageId": "r"
    }
   },
   "outputs": [],
   "source": [
    "VDJdb_tcr_cleanup <- VDJdb_tcr[, c(\"aaSeqCDR3\", \"V\", \"J\", \"subject:condition\", \"count\", \"clonefraction\", \"samplename\", \"file\")]"
   ]
  },
  {
   "cell_type": "code",
   "execution_count": 36,
   "metadata": {
    "vscode": {
     "languageId": "r"
    }
   },
   "outputs": [
    {
     "data": {
      "text/html": [
       "<table class=\"dataframe\">\n",
       "<caption>A data.frame: 6 x 8</caption>\n",
       "<thead>\n",
       "\t<tr><th></th><th scope=col>aaSeqCDR3</th><th scope=col>V</th><th scope=col>J</th><th scope=col>subject:condition</th><th scope=col>count</th><th scope=col>clonefraction</th><th scope=col>samplename</th><th scope=col>file</th></tr>\n",
       "\t<tr><th></th><th scope=col>&lt;chr&gt;</th><th scope=col>&lt;chr&gt;</th><th scope=col>&lt;chr&gt;</th><th scope=col>&lt;chr&gt;</th><th scope=col>&lt;dbl&gt;</th><th scope=col>&lt;dbl&gt;</th><th scope=col>&lt;chr&gt;</th><th scope=col>&lt;chr&gt;</th></tr>\n",
       "</thead>\n",
       "<tbody>\n",
       "\t<tr><th scope=row>1</th><td>CAISGQAVSTDTQYF</td><td>TRBV10-3*01</td><td>TRBJ2-3*01</td><td>HCV:NS3_KLVALGINAV  </td><td>1</td><td>1</td><td>VDJdb</td><td>VDJdb_MinimalScoreConfidence3.tsv</td></tr>\n",
       "\t<tr><th scope=row>2</th><td>CASDSNTEAFF    </td><td>TRBV25-1*01</td><td>TRBJ1-1*01</td><td>HCV:NS3_KLVALGINAV  </td><td>1</td><td>1</td><td>VDJdb</td><td>VDJdb_MinimalScoreConfidence3.tsv</td></tr>\n",
       "\t<tr><th scope=row>3</th><td>CASGWGSQPQHF   </td><td>TRBV7-9*01 </td><td>TRBJ1-5*01</td><td>EBV:EBNA4_AVFDRKSDAK</td><td>1</td><td>1</td><td>VDJdb</td><td>VDJdb_MinimalScoreConfidence3.tsv</td></tr>\n",
       "\t<tr><th scope=row>4</th><td>CASKGQGARDGYTF </td><td>TRBV6-6*01 </td><td>TRBJ1-2*01</td><td>CMV:pp65_IPSINVHHY  </td><td>1</td><td>1</td><td>VDJdb</td><td>VDJdb_MinimalScoreConfidence3.tsv</td></tr>\n",
       "\t<tr><th scope=row>5</th><td>CASKMRGDVYEQYF </td><td>TRBV18*01  </td><td>TRBJ2-7*01</td><td>EBV:BZLF1_RAKFKQLL  </td><td>1</td><td>1</td><td>VDJdb</td><td>VDJdb_MinimalScoreConfidence3.tsv</td></tr>\n",
       "\t<tr><th scope=row>6</th><td>CASMGNSAGANVLTF</td><td>TRBV10-1*01</td><td>TRBJ2-6*01</td><td>CMV:pp65_NLVPMVATV  </td><td>1</td><td>1</td><td>VDJdb</td><td>VDJdb_MinimalScoreConfidence3.tsv</td></tr>\n",
       "</tbody>\n",
       "</table>\n"
      ],
      "text/latex": [
       "A data.frame: 6 x 8\n",
       "\\begin{tabular}{r|llllllll}\n",
       "  & aaSeqCDR3 & V & J & subject:condition & count & clonefraction & samplename & file\\\\\n",
       "  & <chr> & <chr> & <chr> & <chr> & <dbl> & <dbl> & <chr> & <chr>\\\\\n",
       "\\hline\n",
       "\t1 & CAISGQAVSTDTQYF & TRBV10-3*01 & TRBJ2-3*01 & HCV:NS3\\_KLVALGINAV   & 1 & 1 & VDJdb & VDJdb\\_MinimalScoreConfidence3.tsv\\\\\n",
       "\t2 & CASDSNTEAFF     & TRBV25-1*01 & TRBJ1-1*01 & HCV:NS3\\_KLVALGINAV   & 1 & 1 & VDJdb & VDJdb\\_MinimalScoreConfidence3.tsv\\\\\n",
       "\t3 & CASGWGSQPQHF    & TRBV7-9*01  & TRBJ1-5*01 & EBV:EBNA4\\_AVFDRKSDAK & 1 & 1 & VDJdb & VDJdb\\_MinimalScoreConfidence3.tsv\\\\\n",
       "\t4 & CASKGQGARDGYTF  & TRBV6-6*01  & TRBJ1-2*01 & CMV:pp65\\_IPSINVHHY   & 1 & 1 & VDJdb & VDJdb\\_MinimalScoreConfidence3.tsv\\\\\n",
       "\t5 & CASKMRGDVYEQYF  & TRBV18*01   & TRBJ2-7*01 & EBV:BZLF1\\_RAKFKQLL   & 1 & 1 & VDJdb & VDJdb\\_MinimalScoreConfidence3.tsv\\\\\n",
       "\t6 & CASMGNSAGANVLTF & TRBV10-1*01 & TRBJ2-6*01 & CMV:pp65\\_NLVPMVATV   & 1 & 1 & VDJdb & VDJdb\\_MinimalScoreConfidence3.tsv\\\\\n",
       "\\end{tabular}\n"
      ],
      "text/markdown": [
       "\n",
       "A data.frame: 6 x 8\n",
       "\n",
       "| <!--/--> | aaSeqCDR3 &lt;chr&gt; | V &lt;chr&gt; | J &lt;chr&gt; | subject:condition &lt;chr&gt; | count &lt;dbl&gt; | clonefraction &lt;dbl&gt; | samplename &lt;chr&gt; | file &lt;chr&gt; |\n",
       "|---|---|---|---|---|---|---|---|---|\n",
       "| 1 | CAISGQAVSTDTQYF | TRBV10-3*01 | TRBJ2-3*01 | HCV:NS3_KLVALGINAV   | 1 | 1 | VDJdb | VDJdb_MinimalScoreConfidence3.tsv |\n",
       "| 2 | CASDSNTEAFF     | TRBV25-1*01 | TRBJ1-1*01 | HCV:NS3_KLVALGINAV   | 1 | 1 | VDJdb | VDJdb_MinimalScoreConfidence3.tsv |\n",
       "| 3 | CASGWGSQPQHF    | TRBV7-9*01  | TRBJ1-5*01 | EBV:EBNA4_AVFDRKSDAK | 1 | 1 | VDJdb | VDJdb_MinimalScoreConfidence3.tsv |\n",
       "| 4 | CASKGQGARDGYTF  | TRBV6-6*01  | TRBJ1-2*01 | CMV:pp65_IPSINVHHY   | 1 | 1 | VDJdb | VDJdb_MinimalScoreConfidence3.tsv |\n",
       "| 5 | CASKMRGDVYEQYF  | TRBV18*01   | TRBJ2-7*01 | EBV:BZLF1_RAKFKQLL   | 1 | 1 | VDJdb | VDJdb_MinimalScoreConfidence3.tsv |\n",
       "| 6 | CASMGNSAGANVLTF | TRBV10-1*01 | TRBJ2-6*01 | CMV:pp65_NLVPMVATV   | 1 | 1 | VDJdb | VDJdb_MinimalScoreConfidence3.tsv |\n",
       "\n"
      ],
      "text/plain": [
       "  aaSeqCDR3       V           J          subject:condition    count\n",
       "1 CAISGQAVSTDTQYF TRBV10-3*01 TRBJ2-3*01 HCV:NS3_KLVALGINAV   1    \n",
       "2 CASDSNTEAFF     TRBV25-1*01 TRBJ1-1*01 HCV:NS3_KLVALGINAV   1    \n",
       "3 CASGWGSQPQHF    TRBV7-9*01  TRBJ1-5*01 EBV:EBNA4_AVFDRKSDAK 1    \n",
       "4 CASKGQGARDGYTF  TRBV6-6*01  TRBJ1-2*01 CMV:pp65_IPSINVHHY   1    \n",
       "5 CASKMRGDVYEQYF  TRBV18*01   TRBJ2-7*01 EBV:BZLF1_RAKFKQLL   1    \n",
       "6 CASMGNSAGANVLTF TRBV10-1*01 TRBJ2-6*01 CMV:pp65_NLVPMVATV   1    \n",
       "  clonefraction samplename file                             \n",
       "1 1             VDJdb      VDJdb_MinimalScoreConfidence3.tsv\n",
       "2 1             VDJdb      VDJdb_MinimalScoreConfidence3.tsv\n",
       "3 1             VDJdb      VDJdb_MinimalScoreConfidence3.tsv\n",
       "4 1             VDJdb      VDJdb_MinimalScoreConfidence3.tsv\n",
       "5 1             VDJdb      VDJdb_MinimalScoreConfidence3.tsv\n",
       "6 1             VDJdb      VDJdb_MinimalScoreConfidence3.tsv"
      ]
     },
     "metadata": {},
     "output_type": "display_data"
    }
   ],
   "source": [
    "head(VDJdb_tcr_cleanup)"
   ]
  },
  {
   "cell_type": "code",
   "execution_count": 37,
   "metadata": {
    "vscode": {
     "languageId": "r"
    }
   },
   "outputs": [],
   "source": [
    "colnames(VDJdb_tcr_cleanup)[1:3] <- c('CDR3b', 'TRBV', 'TRBJ')"
   ]
  },
  {
   "cell_type": "code",
   "execution_count": 38,
   "metadata": {
    "vscode": {
     "languageId": "r"
    }
   },
   "outputs": [],
   "source": [
    "VDJdb_tcr_cleanup$TRBV <- gsub(\"[*]0.*\", \"\", VDJdb_tcr_cleanup$TRBV)\n",
    "VDJdb_tcr_cleanup$TRBJ <- gsub(\"[*]0.*\", \"\", VDJdb_tcr_cleanup$TRBJ)"
   ]
  },
  {
   "cell_type": "code",
   "execution_count": 39,
   "metadata": {
    "vscode": {
     "languageId": "r"
    }
   },
   "outputs": [
    {
     "data": {
      "text/html": [
       "<table class=\"dataframe\">\n",
       "<caption>A data.frame: 6 x 8</caption>\n",
       "<thead>\n",
       "\t<tr><th></th><th scope=col>CDR3b</th><th scope=col>TRBV</th><th scope=col>TRBJ</th><th scope=col>subject:condition</th><th scope=col>count</th><th scope=col>clonefraction</th><th scope=col>samplename</th><th scope=col>file</th></tr>\n",
       "\t<tr><th></th><th scope=col>&lt;chr&gt;</th><th scope=col>&lt;chr&gt;</th><th scope=col>&lt;chr&gt;</th><th scope=col>&lt;chr&gt;</th><th scope=col>&lt;dbl&gt;</th><th scope=col>&lt;dbl&gt;</th><th scope=col>&lt;chr&gt;</th><th scope=col>&lt;chr&gt;</th></tr>\n",
       "</thead>\n",
       "<tbody>\n",
       "\t<tr><th scope=row>1</th><td>CAISGQAVSTDTQYF</td><td>TRBV10-3</td><td>TRBJ2-3</td><td>HCV:NS3_KLVALGINAV  </td><td>1</td><td>1</td><td>VDJdb</td><td>VDJdb_MinimalScoreConfidence3.tsv</td></tr>\n",
       "\t<tr><th scope=row>2</th><td>CASDSNTEAFF    </td><td>TRBV25-1</td><td>TRBJ1-1</td><td>HCV:NS3_KLVALGINAV  </td><td>1</td><td>1</td><td>VDJdb</td><td>VDJdb_MinimalScoreConfidence3.tsv</td></tr>\n",
       "\t<tr><th scope=row>3</th><td>CASGWGSQPQHF   </td><td>TRBV7-9 </td><td>TRBJ1-5</td><td>EBV:EBNA4_AVFDRKSDAK</td><td>1</td><td>1</td><td>VDJdb</td><td>VDJdb_MinimalScoreConfidence3.tsv</td></tr>\n",
       "\t<tr><th scope=row>4</th><td>CASKGQGARDGYTF </td><td>TRBV6-6 </td><td>TRBJ1-2</td><td>CMV:pp65_IPSINVHHY  </td><td>1</td><td>1</td><td>VDJdb</td><td>VDJdb_MinimalScoreConfidence3.tsv</td></tr>\n",
       "\t<tr><th scope=row>5</th><td>CASKMRGDVYEQYF </td><td>TRBV18  </td><td>TRBJ2-7</td><td>EBV:BZLF1_RAKFKQLL  </td><td>1</td><td>1</td><td>VDJdb</td><td>VDJdb_MinimalScoreConfidence3.tsv</td></tr>\n",
       "\t<tr><th scope=row>6</th><td>CASMGNSAGANVLTF</td><td>TRBV10-1</td><td>TRBJ2-6</td><td>CMV:pp65_NLVPMVATV  </td><td>1</td><td>1</td><td>VDJdb</td><td>VDJdb_MinimalScoreConfidence3.tsv</td></tr>\n",
       "</tbody>\n",
       "</table>\n"
      ],
      "text/latex": [
       "A data.frame: 6 x 8\n",
       "\\begin{tabular}{r|llllllll}\n",
       "  & CDR3b & TRBV & TRBJ & subject:condition & count & clonefraction & samplename & file\\\\\n",
       "  & <chr> & <chr> & <chr> & <chr> & <dbl> & <dbl> & <chr> & <chr>\\\\\n",
       "\\hline\n",
       "\t1 & CAISGQAVSTDTQYF & TRBV10-3 & TRBJ2-3 & HCV:NS3\\_KLVALGINAV   & 1 & 1 & VDJdb & VDJdb\\_MinimalScoreConfidence3.tsv\\\\\n",
       "\t2 & CASDSNTEAFF     & TRBV25-1 & TRBJ1-1 & HCV:NS3\\_KLVALGINAV   & 1 & 1 & VDJdb & VDJdb\\_MinimalScoreConfidence3.tsv\\\\\n",
       "\t3 & CASGWGSQPQHF    & TRBV7-9  & TRBJ1-5 & EBV:EBNA4\\_AVFDRKSDAK & 1 & 1 & VDJdb & VDJdb\\_MinimalScoreConfidence3.tsv\\\\\n",
       "\t4 & CASKGQGARDGYTF  & TRBV6-6  & TRBJ1-2 & CMV:pp65\\_IPSINVHHY   & 1 & 1 & VDJdb & VDJdb\\_MinimalScoreConfidence3.tsv\\\\\n",
       "\t5 & CASKMRGDVYEQYF  & TRBV18   & TRBJ2-7 & EBV:BZLF1\\_RAKFKQLL   & 1 & 1 & VDJdb & VDJdb\\_MinimalScoreConfidence3.tsv\\\\\n",
       "\t6 & CASMGNSAGANVLTF & TRBV10-1 & TRBJ2-6 & CMV:pp65\\_NLVPMVATV   & 1 & 1 & VDJdb & VDJdb\\_MinimalScoreConfidence3.tsv\\\\\n",
       "\\end{tabular}\n"
      ],
      "text/markdown": [
       "\n",
       "A data.frame: 6 x 8\n",
       "\n",
       "| <!--/--> | CDR3b &lt;chr&gt; | TRBV &lt;chr&gt; | TRBJ &lt;chr&gt; | subject:condition &lt;chr&gt; | count &lt;dbl&gt; | clonefraction &lt;dbl&gt; | samplename &lt;chr&gt; | file &lt;chr&gt; |\n",
       "|---|---|---|---|---|---|---|---|---|\n",
       "| 1 | CAISGQAVSTDTQYF | TRBV10-3 | TRBJ2-3 | HCV:NS3_KLVALGINAV   | 1 | 1 | VDJdb | VDJdb_MinimalScoreConfidence3.tsv |\n",
       "| 2 | CASDSNTEAFF     | TRBV25-1 | TRBJ1-1 | HCV:NS3_KLVALGINAV   | 1 | 1 | VDJdb | VDJdb_MinimalScoreConfidence3.tsv |\n",
       "| 3 | CASGWGSQPQHF    | TRBV7-9  | TRBJ1-5 | EBV:EBNA4_AVFDRKSDAK | 1 | 1 | VDJdb | VDJdb_MinimalScoreConfidence3.tsv |\n",
       "| 4 | CASKGQGARDGYTF  | TRBV6-6  | TRBJ1-2 | CMV:pp65_IPSINVHHY   | 1 | 1 | VDJdb | VDJdb_MinimalScoreConfidence3.tsv |\n",
       "| 5 | CASKMRGDVYEQYF  | TRBV18   | TRBJ2-7 | EBV:BZLF1_RAKFKQLL   | 1 | 1 | VDJdb | VDJdb_MinimalScoreConfidence3.tsv |\n",
       "| 6 | CASMGNSAGANVLTF | TRBV10-1 | TRBJ2-6 | CMV:pp65_NLVPMVATV   | 1 | 1 | VDJdb | VDJdb_MinimalScoreConfidence3.tsv |\n",
       "\n"
      ],
      "text/plain": [
       "  CDR3b           TRBV     TRBJ    subject:condition    count clonefraction\n",
       "1 CAISGQAVSTDTQYF TRBV10-3 TRBJ2-3 HCV:NS3_KLVALGINAV   1     1            \n",
       "2 CASDSNTEAFF     TRBV25-1 TRBJ1-1 HCV:NS3_KLVALGINAV   1     1            \n",
       "3 CASGWGSQPQHF    TRBV7-9  TRBJ1-5 EBV:EBNA4_AVFDRKSDAK 1     1            \n",
       "4 CASKGQGARDGYTF  TRBV6-6  TRBJ1-2 CMV:pp65_IPSINVHHY   1     1            \n",
       "5 CASKMRGDVYEQYF  TRBV18   TRBJ2-7 EBV:BZLF1_RAKFKQLL   1     1            \n",
       "6 CASMGNSAGANVLTF TRBV10-1 TRBJ2-6 CMV:pp65_NLVPMVATV   1     1            \n",
       "  samplename file                             \n",
       "1 VDJdb      VDJdb_MinimalScoreConfidence3.tsv\n",
       "2 VDJdb      VDJdb_MinimalScoreConfidence3.tsv\n",
       "3 VDJdb      VDJdb_MinimalScoreConfidence3.tsv\n",
       "4 VDJdb      VDJdb_MinimalScoreConfidence3.tsv\n",
       "5 VDJdb      VDJdb_MinimalScoreConfidence3.tsv\n",
       "6 VDJdb      VDJdb_MinimalScoreConfidence3.tsv"
      ]
     },
     "metadata": {},
     "output_type": "display_data"
    }
   ],
   "source": [
    "head(VDJdb_tcr_cleanup)"
   ]
  },
  {
   "cell_type": "code",
   "execution_count": 40,
   "metadata": {
    "vscode": {
     "languageId": "r"
    }
   },
   "outputs": [],
   "source": [
    "readr::write_rds(VDJdb_tcr_cleanup, file = paste0(datapath, \"capTCRseq/VDJdb_tcr_cleanup.rds\"))"
   ]
  },
  {
   "attachments": {},
   "cell_type": "markdown",
   "metadata": {},
   "source": [
    "rbind"
   ]
  },
  {
   "cell_type": "code",
   "execution_count": 41,
   "metadata": {
    "vscode": {
     "languageId": "r"
    }
   },
   "outputs": [],
   "source": [
    "int_vdj <- rbind(int_all[,c(\"CDR3b\", \"TRBV\", \"TRBJ\", \"subject:condition\", \"count\", \"clonefraction\", \"samplename\", \"file\")], VDJdb_tcr_cleanup)"
   ]
  },
  {
   "cell_type": "code",
   "execution_count": 42,
   "metadata": {
    "vscode": {
     "languageId": "r"
    }
   },
   "outputs": [],
   "source": [
    "readr::write_rds(int_vdj, file = paste0(datapath, \"capTCRseq/int_vdjdb_v1.rds\"))"
   ]
  },
  {
   "cell_type": "code",
   "execution_count": 43,
   "metadata": {
    "vscode": {
     "languageId": "r"
    }
   },
   "outputs": [],
   "source": [
    "int_vdj$CDR3a <- NA"
   ]
  },
  {
   "cell_type": "code",
   "execution_count": 44,
   "metadata": {
    "vscode": {
     "languageId": "r"
    }
   },
   "outputs": [],
   "source": [
    "h4hpath <- \"/Users/anabbi/Desktop/H4H/INTERCEPT/analysis/GLIPH/run_gliph/v1/\""
   ]
  },
  {
   "cell_type": "code",
   "execution_count": 45,
   "metadata": {
    "vscode": {
     "languageId": "r"
    }
   },
   "outputs": [],
   "source": [
    "write.table(int_vdj[,c(\"CDR3b\", \"TRBV\", \"TRBJ\", \"CDR3a\", \"subject:condition\", \"count\")], file = paste0(h4hpath,\"int_vdj_gliphinput_v1.txt\"), sep = \"\\t\", quote = F, row.names = F, col.names = F)"
   ]
  },
  {
   "cell_type": "code",
   "execution_count": 46,
   "metadata": {
    "vscode": {
     "languageId": "r"
    }
   },
   "outputs": [
    {
     "data": {
      "text/html": [
       "<table class=\"dataframe\">\n",
       "<caption>A data.frame: 6 x 9</caption>\n",
       "<thead>\n",
       "\t<tr><th></th><th scope=col>CDR3b</th><th scope=col>TRBV</th><th scope=col>TRBJ</th><th scope=col>subject:condition</th><th scope=col>count</th><th scope=col>clonefraction</th><th scope=col>samplename</th><th scope=col>file</th><th scope=col>CDR3a</th></tr>\n",
       "\t<tr><th></th><th scope=col>&lt;chr&gt;</th><th scope=col>&lt;chr&gt;</th><th scope=col>&lt;chr&gt;</th><th scope=col>&lt;chr&gt;</th><th scope=col>&lt;dbl&gt;</th><th scope=col>&lt;dbl&gt;</th><th scope=col>&lt;chr&gt;</th><th scope=col>&lt;chr&gt;</th><th scope=col>&lt;lgl&gt;</th></tr>\n",
       "</thead>\n",
       "<tbody>\n",
       "\t<tr><th scope=row>1</th><td>CASSHPDAVNTEAFF</td><td>TRBV6-6 </td><td>TRBJ1-1</td><td>CHP_350:X01_PBMC</td><td>59</td><td>0.02586585</td><td>CHP_350-01-PBMC-DNA</td><td>/Users/anabbi/Desktop/H4H/INTERCEPT/NextSeq/batch_reseq_24Feb2020/mixcr/clones/CLONES_TRBCHP_350-01-PBMC-DNA.txt</td><td>NA</td></tr>\n",
       "\t<tr><th scope=row>2</th><td>CASSFSLAAYGEQYF</td><td>TRBV12-3</td><td>TRBJ2-7</td><td>CHP_350:X01_PBMC</td><td>44</td><td>0.01928979</td><td>CHP_350-01-PBMC-DNA</td><td>/Users/anabbi/Desktop/H4H/INTERCEPT/NextSeq/batch_reseq_24Feb2020/mixcr/clones/CLONES_TRBCHP_350-01-PBMC-DNA.txt</td><td>NA</td></tr>\n",
       "\t<tr><th scope=row>3</th><td>CASTRLLGNTEAFF </td><td>TRBV28  </td><td>TRBJ1-1</td><td>CHP_350:X01_PBMC</td><td>41</td><td>0.01797457</td><td>CHP_350-01-PBMC-DNA</td><td>/Users/anabbi/Desktop/H4H/INTERCEPT/NextSeq/batch_reseq_24Feb2020/mixcr/clones/CLONES_TRBCHP_350-01-PBMC-DNA.txt</td><td>NA</td></tr>\n",
       "\t<tr><th scope=row>4</th><td>CASSSFGQGINTIYF</td><td>TRBV18  </td><td>TRBJ1-3</td><td>CHP_350:X01_PBMC</td><td>40</td><td>0.01753617</td><td>CHP_350-01-PBMC-DNA</td><td>/Users/anabbi/Desktop/H4H/INTERCEPT/NextSeq/batch_reseq_24Feb2020/mixcr/clones/CLONES_TRBCHP_350-01-PBMC-DNA.txt</td><td>NA</td></tr>\n",
       "\t<tr><th scope=row>8</th><td>CASSPRIGQGAPLHF</td><td>TRBV12-3</td><td>TRBJ1-6</td><td>CHP_350:X01_PBMC</td><td>31</td><td>0.01359053</td><td>CHP_350-01-PBMC-DNA</td><td>/Users/anabbi/Desktop/H4H/INTERCEPT/NextSeq/batch_reseq_24Feb2020/mixcr/clones/CLONES_TRBCHP_350-01-PBMC-DNA.txt</td><td>NA</td></tr>\n",
       "\t<tr><th scope=row>9</th><td>CATSRTGGGNTEAFF</td><td>TRBV24-1</td><td>TRBJ1-1</td><td>CHP_350:X01_PBMC</td><td>29</td><td>0.01271372</td><td>CHP_350-01-PBMC-DNA</td><td>/Users/anabbi/Desktop/H4H/INTERCEPT/NextSeq/batch_reseq_24Feb2020/mixcr/clones/CLONES_TRBCHP_350-01-PBMC-DNA.txt</td><td>NA</td></tr>\n",
       "</tbody>\n",
       "</table>\n"
      ],
      "text/latex": [
       "A data.frame: 6 x 9\n",
       "\\begin{tabular}{r|lllllllll}\n",
       "  & CDR3b & TRBV & TRBJ & subject:condition & count & clonefraction & samplename & file & CDR3a\\\\\n",
       "  & <chr> & <chr> & <chr> & <chr> & <dbl> & <dbl> & <chr> & <chr> & <lgl>\\\\\n",
       "\\hline\n",
       "\t1 & CASSHPDAVNTEAFF & TRBV6-6  & TRBJ1-1 & CHP\\_350:X01\\_PBMC & 59 & 0.02586585 & CHP\\_350-01-PBMC-DNA & /Users/anabbi/Desktop/H4H/INTERCEPT/NextSeq/batch\\_reseq\\_24Feb2020/mixcr/clones/CLONES\\_TRBCHP\\_350-01-PBMC-DNA.txt & NA\\\\\n",
       "\t2 & CASSFSLAAYGEQYF & TRBV12-3 & TRBJ2-7 & CHP\\_350:X01\\_PBMC & 44 & 0.01928979 & CHP\\_350-01-PBMC-DNA & /Users/anabbi/Desktop/H4H/INTERCEPT/NextSeq/batch\\_reseq\\_24Feb2020/mixcr/clones/CLONES\\_TRBCHP\\_350-01-PBMC-DNA.txt & NA\\\\\n",
       "\t3 & CASTRLLGNTEAFF  & TRBV28   & TRBJ1-1 & CHP\\_350:X01\\_PBMC & 41 & 0.01797457 & CHP\\_350-01-PBMC-DNA & /Users/anabbi/Desktop/H4H/INTERCEPT/NextSeq/batch\\_reseq\\_24Feb2020/mixcr/clones/CLONES\\_TRBCHP\\_350-01-PBMC-DNA.txt & NA\\\\\n",
       "\t4 & CASSSFGQGINTIYF & TRBV18   & TRBJ1-3 & CHP\\_350:X01\\_PBMC & 40 & 0.01753617 & CHP\\_350-01-PBMC-DNA & /Users/anabbi/Desktop/H4H/INTERCEPT/NextSeq/batch\\_reseq\\_24Feb2020/mixcr/clones/CLONES\\_TRBCHP\\_350-01-PBMC-DNA.txt & NA\\\\\n",
       "\t8 & CASSPRIGQGAPLHF & TRBV12-3 & TRBJ1-6 & CHP\\_350:X01\\_PBMC & 31 & 0.01359053 & CHP\\_350-01-PBMC-DNA & /Users/anabbi/Desktop/H4H/INTERCEPT/NextSeq/batch\\_reseq\\_24Feb2020/mixcr/clones/CLONES\\_TRBCHP\\_350-01-PBMC-DNA.txt & NA\\\\\n",
       "\t9 & CATSRTGGGNTEAFF & TRBV24-1 & TRBJ1-1 & CHP\\_350:X01\\_PBMC & 29 & 0.01271372 & CHP\\_350-01-PBMC-DNA & /Users/anabbi/Desktop/H4H/INTERCEPT/NextSeq/batch\\_reseq\\_24Feb2020/mixcr/clones/CLONES\\_TRBCHP\\_350-01-PBMC-DNA.txt & NA\\\\\n",
       "\\end{tabular}\n"
      ],
      "text/markdown": [
       "\n",
       "A data.frame: 6 x 9\n",
       "\n",
       "| <!--/--> | CDR3b &lt;chr&gt; | TRBV &lt;chr&gt; | TRBJ &lt;chr&gt; | subject:condition &lt;chr&gt; | count &lt;dbl&gt; | clonefraction &lt;dbl&gt; | samplename &lt;chr&gt; | file &lt;chr&gt; | CDR3a &lt;lgl&gt; |\n",
       "|---|---|---|---|---|---|---|---|---|---|\n",
       "| 1 | CASSHPDAVNTEAFF | TRBV6-6  | TRBJ1-1 | CHP_350:X01_PBMC | 59 | 0.02586585 | CHP_350-01-PBMC-DNA | /Users/anabbi/Desktop/H4H/INTERCEPT/NextSeq/batch_reseq_24Feb2020/mixcr/clones/CLONES_TRBCHP_350-01-PBMC-DNA.txt | NA |\n",
       "| 2 | CASSFSLAAYGEQYF | TRBV12-3 | TRBJ2-7 | CHP_350:X01_PBMC | 44 | 0.01928979 | CHP_350-01-PBMC-DNA | /Users/anabbi/Desktop/H4H/INTERCEPT/NextSeq/batch_reseq_24Feb2020/mixcr/clones/CLONES_TRBCHP_350-01-PBMC-DNA.txt | NA |\n",
       "| 3 | CASTRLLGNTEAFF  | TRBV28   | TRBJ1-1 | CHP_350:X01_PBMC | 41 | 0.01797457 | CHP_350-01-PBMC-DNA | /Users/anabbi/Desktop/H4H/INTERCEPT/NextSeq/batch_reseq_24Feb2020/mixcr/clones/CLONES_TRBCHP_350-01-PBMC-DNA.txt | NA |\n",
       "| 4 | CASSSFGQGINTIYF | TRBV18   | TRBJ1-3 | CHP_350:X01_PBMC | 40 | 0.01753617 | CHP_350-01-PBMC-DNA | /Users/anabbi/Desktop/H4H/INTERCEPT/NextSeq/batch_reseq_24Feb2020/mixcr/clones/CLONES_TRBCHP_350-01-PBMC-DNA.txt | NA |\n",
       "| 8 | CASSPRIGQGAPLHF | TRBV12-3 | TRBJ1-6 | CHP_350:X01_PBMC | 31 | 0.01359053 | CHP_350-01-PBMC-DNA | /Users/anabbi/Desktop/H4H/INTERCEPT/NextSeq/batch_reseq_24Feb2020/mixcr/clones/CLONES_TRBCHP_350-01-PBMC-DNA.txt | NA |\n",
       "| 9 | CATSRTGGGNTEAFF | TRBV24-1 | TRBJ1-1 | CHP_350:X01_PBMC | 29 | 0.01271372 | CHP_350-01-PBMC-DNA | /Users/anabbi/Desktop/H4H/INTERCEPT/NextSeq/batch_reseq_24Feb2020/mixcr/clones/CLONES_TRBCHP_350-01-PBMC-DNA.txt | NA |\n",
       "\n"
      ],
      "text/plain": [
       "  CDR3b           TRBV     TRBJ    subject:condition count clonefraction\n",
       "1 CASSHPDAVNTEAFF TRBV6-6  TRBJ1-1 CHP_350:X01_PBMC  59    0.02586585   \n",
       "2 CASSFSLAAYGEQYF TRBV12-3 TRBJ2-7 CHP_350:X01_PBMC  44    0.01928979   \n",
       "3 CASTRLLGNTEAFF  TRBV28   TRBJ1-1 CHP_350:X01_PBMC  41    0.01797457   \n",
       "4 CASSSFGQGINTIYF TRBV18   TRBJ1-3 CHP_350:X01_PBMC  40    0.01753617   \n",
       "8 CASSPRIGQGAPLHF TRBV12-3 TRBJ1-6 CHP_350:X01_PBMC  31    0.01359053   \n",
       "9 CATSRTGGGNTEAFF TRBV24-1 TRBJ1-1 CHP_350:X01_PBMC  29    0.01271372   \n",
       "  samplename         \n",
       "1 CHP_350-01-PBMC-DNA\n",
       "2 CHP_350-01-PBMC-DNA\n",
       "3 CHP_350-01-PBMC-DNA\n",
       "4 CHP_350-01-PBMC-DNA\n",
       "8 CHP_350-01-PBMC-DNA\n",
       "9 CHP_350-01-PBMC-DNA\n",
       "  file                                                                                                            \n",
       "1 /Users/anabbi/Desktop/H4H/INTERCEPT/NextSeq/batch_reseq_24Feb2020/mixcr/clones/CLONES_TRBCHP_350-01-PBMC-DNA.txt\n",
       "2 /Users/anabbi/Desktop/H4H/INTERCEPT/NextSeq/batch_reseq_24Feb2020/mixcr/clones/CLONES_TRBCHP_350-01-PBMC-DNA.txt\n",
       "3 /Users/anabbi/Desktop/H4H/INTERCEPT/NextSeq/batch_reseq_24Feb2020/mixcr/clones/CLONES_TRBCHP_350-01-PBMC-DNA.txt\n",
       "4 /Users/anabbi/Desktop/H4H/INTERCEPT/NextSeq/batch_reseq_24Feb2020/mixcr/clones/CLONES_TRBCHP_350-01-PBMC-DNA.txt\n",
       "8 /Users/anabbi/Desktop/H4H/INTERCEPT/NextSeq/batch_reseq_24Feb2020/mixcr/clones/CLONES_TRBCHP_350-01-PBMC-DNA.txt\n",
       "9 /Users/anabbi/Desktop/H4H/INTERCEPT/NextSeq/batch_reseq_24Feb2020/mixcr/clones/CLONES_TRBCHP_350-01-PBMC-DNA.txt\n",
       "  CDR3a\n",
       "1 NA   \n",
       "2 NA   \n",
       "3 NA   \n",
       "4 NA   \n",
       "8 NA   \n",
       "9 NA   "
      ]
     },
     "metadata": {},
     "output_type": "display_data"
    }
   ],
   "source": [
    "head(int_vdj)"
   ]
  },
  {
   "attachments": {},
   "cell_type": "markdown",
   "metadata": {},
   "source": [
    "# Version 2: cancergroup as subject"
   ]
  },
  {
   "cell_type": "code",
   "execution_count": 17,
   "metadata": {
    "vscode": {
     "languageId": "r"
    }
   },
   "outputs": [
    {
     "data": {
      "text/html": [
       "<table class=\"dataframe\">\n",
       "<caption>A data.frame: 6 x 4</caption>\n",
       "<thead>\n",
       "\t<tr><th></th><th scope=col>file_list</th><th scope=col>samplename</th><th scope=col>size</th><th scope=col>Patient</th></tr>\n",
       "\t<tr><th></th><th scope=col>&lt;chr&gt;</th><th scope=col>&lt;chr&gt;</th><th scope=col>&lt;dbl&gt;</th><th scope=col>&lt;chr&gt;</th></tr>\n",
       "</thead>\n",
       "<tbody>\n",
       "\t<tr><th scope=row>2</th><td>batch_reseq_24Feb2020/mixcr/clones/CLONES_TRBCHP_350-01-PBMC-DNA.txt</td><td>CHP_350-01-PBMC-DNA</td><td> 85631</td><td>CHP_350</td></tr>\n",
       "\t<tr><th scope=row>3</th><td>batch_reseq_24Feb2020/mixcr/clones/CLONES_TRBCHP_350-02-PBMC-DNA.txt</td><td>CHP_350-02-PBMC-DNA</td><td>143632</td><td>CHP_350</td></tr>\n",
       "\t<tr><th scope=row>4</th><td>batch_reseq_24Feb2020/mixcr/clones/CLONES_TRBCHP_350-03-PBMC-DNA.txt</td><td>CHP_350-03-PBMC-DNA</td><td>107190</td><td>CHP_350</td></tr>\n",
       "\t<tr><th scope=row>5</th><td>batch_reseq_24Feb2020/mixcr/clones/CLONES_TRBCHP_350-04-PBMC-DNA.txt</td><td>CHP_350-04-PBMC-DNA</td><td> 54188</td><td>CHP_350</td></tr>\n",
       "\t<tr><th scope=row>7</th><td>batch_reseq_24Feb2020/mixcr/clones/CLONES_TRBCHP_354-01-PBMC-DNA.txt</td><td>CHP_354-01-PBMC-DNA</td><td>  3728</td><td>CHP_354</td></tr>\n",
       "\t<tr><th scope=row>8</th><td>batch_reseq_24Feb2020/mixcr/clones/CLONES_TRBCHP_356-03-PBMC-DNA.txt</td><td>CHP_356-03-PBMC-DNA</td><td>  1573</td><td>CHP_356</td></tr>\n",
       "</tbody>\n",
       "</table>\n"
      ],
      "text/latex": [
       "A data.frame: 6 x 4\n",
       "\\begin{tabular}{r|llll}\n",
       "  & file\\_list & samplename & size & Patient\\\\\n",
       "  & <chr> & <chr> & <dbl> & <chr>\\\\\n",
       "\\hline\n",
       "\t2 & batch\\_reseq\\_24Feb2020/mixcr/clones/CLONES\\_TRBCHP\\_350-01-PBMC-DNA.txt & CHP\\_350-01-PBMC-DNA &  85631 & CHP\\_350\\\\\n",
       "\t3 & batch\\_reseq\\_24Feb2020/mixcr/clones/CLONES\\_TRBCHP\\_350-02-PBMC-DNA.txt & CHP\\_350-02-PBMC-DNA & 143632 & CHP\\_350\\\\\n",
       "\t4 & batch\\_reseq\\_24Feb2020/mixcr/clones/CLONES\\_TRBCHP\\_350-03-PBMC-DNA.txt & CHP\\_350-03-PBMC-DNA & 107190 & CHP\\_350\\\\\n",
       "\t5 & batch\\_reseq\\_24Feb2020/mixcr/clones/CLONES\\_TRBCHP\\_350-04-PBMC-DNA.txt & CHP\\_350-04-PBMC-DNA &  54188 & CHP\\_350\\\\\n",
       "\t7 & batch\\_reseq\\_24Feb2020/mixcr/clones/CLONES\\_TRBCHP\\_354-01-PBMC-DNA.txt & CHP\\_354-01-PBMC-DNA &   3728 & CHP\\_354\\\\\n",
       "\t8 & batch\\_reseq\\_24Feb2020/mixcr/clones/CLONES\\_TRBCHP\\_356-03-PBMC-DNA.txt & CHP\\_356-03-PBMC-DNA &   1573 & CHP\\_356\\\\\n",
       "\\end{tabular}\n"
      ],
      "text/markdown": [
       "\n",
       "A data.frame: 6 x 4\n",
       "\n",
       "| <!--/--> | file_list &lt;chr&gt; | samplename &lt;chr&gt; | size &lt;dbl&gt; | Patient &lt;chr&gt; |\n",
       "|---|---|---|---|---|\n",
       "| 2 | batch_reseq_24Feb2020/mixcr/clones/CLONES_TRBCHP_350-01-PBMC-DNA.txt | CHP_350-01-PBMC-DNA |  85631 | CHP_350 |\n",
       "| 3 | batch_reseq_24Feb2020/mixcr/clones/CLONES_TRBCHP_350-02-PBMC-DNA.txt | CHP_350-02-PBMC-DNA | 143632 | CHP_350 |\n",
       "| 4 | batch_reseq_24Feb2020/mixcr/clones/CLONES_TRBCHP_350-03-PBMC-DNA.txt | CHP_350-03-PBMC-DNA | 107190 | CHP_350 |\n",
       "| 5 | batch_reseq_24Feb2020/mixcr/clones/CLONES_TRBCHP_350-04-PBMC-DNA.txt | CHP_350-04-PBMC-DNA |  54188 | CHP_350 |\n",
       "| 7 | batch_reseq_24Feb2020/mixcr/clones/CLONES_TRBCHP_354-01-PBMC-DNA.txt | CHP_354-01-PBMC-DNA |   3728 | CHP_354 |\n",
       "| 8 | batch_reseq_24Feb2020/mixcr/clones/CLONES_TRBCHP_356-03-PBMC-DNA.txt | CHP_356-03-PBMC-DNA |   1573 | CHP_356 |\n",
       "\n"
      ],
      "text/plain": [
       "  file_list                                                           \n",
       "2 batch_reseq_24Feb2020/mixcr/clones/CLONES_TRBCHP_350-01-PBMC-DNA.txt\n",
       "3 batch_reseq_24Feb2020/mixcr/clones/CLONES_TRBCHP_350-02-PBMC-DNA.txt\n",
       "4 batch_reseq_24Feb2020/mixcr/clones/CLONES_TRBCHP_350-03-PBMC-DNA.txt\n",
       "5 batch_reseq_24Feb2020/mixcr/clones/CLONES_TRBCHP_350-04-PBMC-DNA.txt\n",
       "7 batch_reseq_24Feb2020/mixcr/clones/CLONES_TRBCHP_354-01-PBMC-DNA.txt\n",
       "8 batch_reseq_24Feb2020/mixcr/clones/CLONES_TRBCHP_356-03-PBMC-DNA.txt\n",
       "  samplename          size   Patient\n",
       "2 CHP_350-01-PBMC-DNA  85631 CHP_350\n",
       "3 CHP_350-02-PBMC-DNA 143632 CHP_350\n",
       "4 CHP_350-03-PBMC-DNA 107190 CHP_350\n",
       "5 CHP_350-04-PBMC-DNA  54188 CHP_350\n",
       "7 CHP_354-01-PBMC-DNA   3728 CHP_354\n",
       "8 CHP_356-03-PBMC-DNA   1573 CHP_356"
      ]
     },
     "metadata": {},
     "output_type": "display_data"
    }
   ],
   "source": [
    "head(file_df_dedup_trb)"
   ]
  },
  {
   "cell_type": "code",
   "execution_count": 18,
   "metadata": {
    "vscode": {
     "languageId": "r"
    }
   },
   "outputs": [],
   "source": [
    "int_all_list <- list()\n",
    "\n",
    "for(p in unique(file_df_dedup_trb$Patient)){\n",
    "    \n",
    "    mypatient <- file_df_dedup_trb[ file_df_dedup_trb$Patient == p,]\n",
    "    \n",
    "    myplist <- list()\n",
    "    for(i in 1:nrow(mypatient)){\n",
    "        onefle <- read.table(paste0(\"/Users/anabbi/Desktop/H4H/INTERCEPT/NextSeq/\", mypatient$file_list[i]), sep = \"\\t\", header = TRUE, stringsAsFactors = F)  \n",
    "        # Remove non-productive\n",
    "        onefle <- onefle[!grepl(\"_\", onefle$aaSeqCDR3),]\n",
    "        onefle <- onefle[!grepl(\"[*]\", onefle$aaSeqCDR3),]\n",
    "        onefle$CDR3b <- onefle$aaSeqCDR3\n",
    "        #next if the file has no productive cdr3\n",
    "        if(nrow(onefle) == 0){ next}\n",
    "        #remove scores\n",
    "        onefle$TRBV <- gsub(\"[*]0.*\", \"\", onefle$allVHitsWithScore)\n",
    "        onefle$TRBJ <- gsub(\"[*]0.*\", \"\", onefle$allJHitsWithScore)\n",
    "        #remove extra long cdr3s\n",
    "        onefle <- onefle[ nchar(onefle$aaSeqCDR3) <= 25,]\n",
    "        #next if the file has no productive cdr3\n",
    "        if(nrow(onefle) == 0){ next}\n",
    "        onefle$count <- onefle$cloneCount\n",
    "        onefle$clonefraction <- onefle$cloneFraction\n",
    "        onefle$file <- paste0(h4hpath, mypatient$file_list[i])\n",
    "        onefle$samplename <- mypatient$samplename[i]\n",
    "    \n",
    "        myplist[length(myplist) + 1] <- list(onefle[,c(\"CDR3b\", \"TRBV\", \"TRBJ\", \"samplename\", \n",
    "                                                     \"count\", \"clonefraction\", \"file\")])\n",
    "    }\n",
    "    gliph_input <- do.call(\"rbind\", myplist)\n",
    "\n",
    "    int_all_list[length(int_all_list) + 1] <- list(gliph_input)\n",
    "\n",
    "    }"
   ]
  },
  {
   "cell_type": "code",
   "execution_count": 19,
   "metadata": {
    "vscode": {
     "languageId": "r"
    }
   },
   "outputs": [],
   "source": [
    "int_all <- do.call(\"rbind\", int_all_list)"
   ]
  },
  {
   "cell_type": "code",
   "execution_count": 20,
   "metadata": {
    "vscode": {
     "languageId": "r"
    }
   },
   "outputs": [
    {
     "data": {
      "text/html": [
       "<table class=\"dataframe\">\n",
       "<caption>A data.frame: 6 x 7</caption>\n",
       "<thead>\n",
       "\t<tr><th></th><th scope=col>CDR3b</th><th scope=col>TRBV</th><th scope=col>TRBJ</th><th scope=col>samplename</th><th scope=col>count</th><th scope=col>clonefraction</th><th scope=col>file</th></tr>\n",
       "\t<tr><th></th><th scope=col>&lt;chr&gt;</th><th scope=col>&lt;chr&gt;</th><th scope=col>&lt;chr&gt;</th><th scope=col>&lt;chr&gt;</th><th scope=col>&lt;int&gt;</th><th scope=col>&lt;dbl&gt;</th><th scope=col>&lt;chr&gt;</th></tr>\n",
       "</thead>\n",
       "<tbody>\n",
       "\t<tr><th scope=row>101194</th><td>CASSSSGGDYGYTF </td><td>TRBV11-2</td><td>TRBJ1-2</td><td>CHP_406-03_PBMC-DNA</td><td>  2</td><td>7.367405e-06</td><td>/Users/anabbi/Desktop/H4H/INTERCEPT/NextSeq/remaining_batch_3_4May2021/mixcr/clones/CLONES_TRBCHP_406-03_PBMC-DNA.txt      </td></tr>\n",
       "\t<tr><th scope=row>102161</th><td>CASSQETGLAFY   </td><td>TRBV4-2 </td><td>TRBJ1-1</td><td>CHP_406-03_PBMC-DNA</td><td>  2</td><td>7.367405e-06</td><td>/Users/anabbi/Desktop/H4H/INTERCEPT/NextSeq/remaining_batch_3_4May2021/mixcr/clones/CLONES_TRBCHP_406-03_PBMC-DNA.txt      </td></tr>\n",
       "\t<tr><th scope=row>103161</th><td>CAWDRETEAFF    </td><td>TRBV30  </td><td>TRBJ1-1</td><td>CHP_406-03_PBMC-DNA</td><td>  2</td><td>7.367405e-06</td><td>/Users/anabbi/Desktop/H4H/INTERCEPT/NextSeq/remaining_batch_3_4May2021/mixcr/clones/CLONES_TRBCHP_406-03_PBMC-DNA.txt      </td></tr>\n",
       "\t<tr><th scope=row>105153</th><td>CSAPGQGRTMGGYTF</td><td>TRBV20-1</td><td>TRBJ1-2</td><td>CHP_406-03_PBMC-DNA</td><td>  1</td><td>3.683703e-06</td><td>/Users/anabbi/Desktop/H4H/INTERCEPT/NextSeq/remaining_batch_3_4May2021/mixcr/clones/CLONES_TRBCHP_406-03_PBMC-DNA.txt      </td></tr>\n",
       "\t<tr><th scope=row>21506</th><td>CAWSVARRNTEAFF </td><td>TRBV30  </td><td>TRBJ1-1</td><td>CHP_329-04_cfDNA   </td><td>317</td><td>4.012658e-01</td><td>/Users/anabbi/Desktop/H4H/INTERCEPT/NextSeq/remaining_batch_5_cfDNA_22April2021/mixcr/clones/CLONES_TRBCHP_329-04_cfDNA.txt</td></tr>\n",
       "\t<tr><th scope=row>31386</th><td>CASSLSGGNYGYTF </td><td>TRBV5-4 </td><td>TRBJ1-2</td><td>CHP_329-04_cfDNA   </td><td>  1</td><td>1.265823e-03</td><td>/Users/anabbi/Desktop/H4H/INTERCEPT/NextSeq/remaining_batch_5_cfDNA_22April2021/mixcr/clones/CLONES_TRBCHP_329-04_cfDNA.txt</td></tr>\n",
       "</tbody>\n",
       "</table>\n"
      ],
      "text/latex": [
       "A data.frame: 6 x 7\n",
       "\\begin{tabular}{r|lllllll}\n",
       "  & CDR3b & TRBV & TRBJ & samplename & count & clonefraction & file\\\\\n",
       "  & <chr> & <chr> & <chr> & <chr> & <int> & <dbl> & <chr>\\\\\n",
       "\\hline\n",
       "\t101194 & CASSSSGGDYGYTF  & TRBV11-2 & TRBJ1-2 & CHP\\_406-03\\_PBMC-DNA &   2 & 7.367405e-06 & /Users/anabbi/Desktop/H4H/INTERCEPT/NextSeq/remaining\\_batch\\_3\\_4May2021/mixcr/clones/CLONES\\_TRBCHP\\_406-03\\_PBMC-DNA.txt      \\\\\n",
       "\t102161 & CASSQETGLAFY    & TRBV4-2  & TRBJ1-1 & CHP\\_406-03\\_PBMC-DNA &   2 & 7.367405e-06 & /Users/anabbi/Desktop/H4H/INTERCEPT/NextSeq/remaining\\_batch\\_3\\_4May2021/mixcr/clones/CLONES\\_TRBCHP\\_406-03\\_PBMC-DNA.txt      \\\\\n",
       "\t103161 & CAWDRETEAFF     & TRBV30   & TRBJ1-1 & CHP\\_406-03\\_PBMC-DNA &   2 & 7.367405e-06 & /Users/anabbi/Desktop/H4H/INTERCEPT/NextSeq/remaining\\_batch\\_3\\_4May2021/mixcr/clones/CLONES\\_TRBCHP\\_406-03\\_PBMC-DNA.txt      \\\\\n",
       "\t105153 & CSAPGQGRTMGGYTF & TRBV20-1 & TRBJ1-2 & CHP\\_406-03\\_PBMC-DNA &   1 & 3.683703e-06 & /Users/anabbi/Desktop/H4H/INTERCEPT/NextSeq/remaining\\_batch\\_3\\_4May2021/mixcr/clones/CLONES\\_TRBCHP\\_406-03\\_PBMC-DNA.txt      \\\\\n",
       "\t21506 & CAWSVARRNTEAFF  & TRBV30   & TRBJ1-1 & CHP\\_329-04\\_cfDNA    & 317 & 4.012658e-01 & /Users/anabbi/Desktop/H4H/INTERCEPT/NextSeq/remaining\\_batch\\_5\\_cfDNA\\_22April2021/mixcr/clones/CLONES\\_TRBCHP\\_329-04\\_cfDNA.txt\\\\\n",
       "\t31386 & CASSLSGGNYGYTF  & TRBV5-4  & TRBJ1-2 & CHP\\_329-04\\_cfDNA    &   1 & 1.265823e-03 & /Users/anabbi/Desktop/H4H/INTERCEPT/NextSeq/remaining\\_batch\\_5\\_cfDNA\\_22April2021/mixcr/clones/CLONES\\_TRBCHP\\_329-04\\_cfDNA.txt\\\\\n",
       "\\end{tabular}\n"
      ],
      "text/markdown": [
       "\n",
       "A data.frame: 6 x 7\n",
       "\n",
       "| <!--/--> | CDR3b &lt;chr&gt; | TRBV &lt;chr&gt; | TRBJ &lt;chr&gt; | samplename &lt;chr&gt; | count &lt;int&gt; | clonefraction &lt;dbl&gt; | file &lt;chr&gt; |\n",
       "|---|---|---|---|---|---|---|---|\n",
       "| 101194 | CASSSSGGDYGYTF  | TRBV11-2 | TRBJ1-2 | CHP_406-03_PBMC-DNA |   2 | 7.367405e-06 | /Users/anabbi/Desktop/H4H/INTERCEPT/NextSeq/remaining_batch_3_4May2021/mixcr/clones/CLONES_TRBCHP_406-03_PBMC-DNA.txt       |\n",
       "| 102161 | CASSQETGLAFY    | TRBV4-2  | TRBJ1-1 | CHP_406-03_PBMC-DNA |   2 | 7.367405e-06 | /Users/anabbi/Desktop/H4H/INTERCEPT/NextSeq/remaining_batch_3_4May2021/mixcr/clones/CLONES_TRBCHP_406-03_PBMC-DNA.txt       |\n",
       "| 103161 | CAWDRETEAFF     | TRBV30   | TRBJ1-1 | CHP_406-03_PBMC-DNA |   2 | 7.367405e-06 | /Users/anabbi/Desktop/H4H/INTERCEPT/NextSeq/remaining_batch_3_4May2021/mixcr/clones/CLONES_TRBCHP_406-03_PBMC-DNA.txt       |\n",
       "| 105153 | CSAPGQGRTMGGYTF | TRBV20-1 | TRBJ1-2 | CHP_406-03_PBMC-DNA |   1 | 3.683703e-06 | /Users/anabbi/Desktop/H4H/INTERCEPT/NextSeq/remaining_batch_3_4May2021/mixcr/clones/CLONES_TRBCHP_406-03_PBMC-DNA.txt       |\n",
       "| 21506 | CAWSVARRNTEAFF  | TRBV30   | TRBJ1-1 | CHP_329-04_cfDNA    | 317 | 4.012658e-01 | /Users/anabbi/Desktop/H4H/INTERCEPT/NextSeq/remaining_batch_5_cfDNA_22April2021/mixcr/clones/CLONES_TRBCHP_329-04_cfDNA.txt |\n",
       "| 31386 | CASSLSGGNYGYTF  | TRBV5-4  | TRBJ1-2 | CHP_329-04_cfDNA    |   1 | 1.265823e-03 | /Users/anabbi/Desktop/H4H/INTERCEPT/NextSeq/remaining_batch_5_cfDNA_22April2021/mixcr/clones/CLONES_TRBCHP_329-04_cfDNA.txt |\n",
       "\n"
      ],
      "text/plain": [
       "       CDR3b           TRBV     TRBJ    samplename          count clonefraction\n",
       "101194 CASSSSGGDYGYTF  TRBV11-2 TRBJ1-2 CHP_406-03_PBMC-DNA   2   7.367405e-06 \n",
       "102161 CASSQETGLAFY    TRBV4-2  TRBJ1-1 CHP_406-03_PBMC-DNA   2   7.367405e-06 \n",
       "103161 CAWDRETEAFF     TRBV30   TRBJ1-1 CHP_406-03_PBMC-DNA   2   7.367405e-06 \n",
       "105153 CSAPGQGRTMGGYTF TRBV20-1 TRBJ1-2 CHP_406-03_PBMC-DNA   1   3.683703e-06 \n",
       "21506  CAWSVARRNTEAFF  TRBV30   TRBJ1-1 CHP_329-04_cfDNA    317   4.012658e-01 \n",
       "31386  CASSLSGGNYGYTF  TRBV5-4  TRBJ1-2 CHP_329-04_cfDNA      1   1.265823e-03 \n",
       "       file                                                                                                                       \n",
       "101194 /Users/anabbi/Desktop/H4H/INTERCEPT/NextSeq/remaining_batch_3_4May2021/mixcr/clones/CLONES_TRBCHP_406-03_PBMC-DNA.txt      \n",
       "102161 /Users/anabbi/Desktop/H4H/INTERCEPT/NextSeq/remaining_batch_3_4May2021/mixcr/clones/CLONES_TRBCHP_406-03_PBMC-DNA.txt      \n",
       "103161 /Users/anabbi/Desktop/H4H/INTERCEPT/NextSeq/remaining_batch_3_4May2021/mixcr/clones/CLONES_TRBCHP_406-03_PBMC-DNA.txt      \n",
       "105153 /Users/anabbi/Desktop/H4H/INTERCEPT/NextSeq/remaining_batch_3_4May2021/mixcr/clones/CLONES_TRBCHP_406-03_PBMC-DNA.txt      \n",
       "21506  /Users/anabbi/Desktop/H4H/INTERCEPT/NextSeq/remaining_batch_5_cfDNA_22April2021/mixcr/clones/CLONES_TRBCHP_329-04_cfDNA.txt\n",
       "31386  /Users/anabbi/Desktop/H4H/INTERCEPT/NextSeq/remaining_batch_5_cfDNA_22April2021/mixcr/clones/CLONES_TRBCHP_329-04_cfDNA.txt"
      ]
     },
     "metadata": {},
     "output_type": "display_data"
    }
   ],
   "source": [
    "tail(int_all)"
   ]
  },
  {
   "cell_type": "code",
   "execution_count": 21,
   "metadata": {
    "vscode": {
     "languageId": "r"
    }
   },
   "outputs": [],
   "source": [
    "int_all$`subject:condition` <- paste0(meta_div$cancergroup[match(int_all$samplename, meta_div$basename)],\":\", meta_div$Patient[match(int_all$samplename, meta_div$basename)], \"_\",\n",
    "meta_div$cycle[match(int_all$samplename, meta_div$basename)], \"-\", meta_div$sampletype[match(int_all$samplename, meta_div$basename)])"
   ]
  },
  {
   "cell_type": "code",
   "execution_count": 22,
   "metadata": {
    "vscode": {
     "languageId": "r"
    }
   },
   "outputs": [
    {
     "data": {
      "text/html": [
       "<table class=\"dataframe\">\n",
       "<caption>A data.frame: 6 x 8</caption>\n",
       "<thead>\n",
       "\t<tr><th></th><th scope=col>CDR3b</th><th scope=col>TRBV</th><th scope=col>TRBJ</th><th scope=col>samplename</th><th scope=col>count</th><th scope=col>clonefraction</th><th scope=col>file</th><th scope=col>subject:condition</th></tr>\n",
       "\t<tr><th></th><th scope=col>&lt;chr&gt;</th><th scope=col>&lt;chr&gt;</th><th scope=col>&lt;chr&gt;</th><th scope=col>&lt;chr&gt;</th><th scope=col>&lt;int&gt;</th><th scope=col>&lt;dbl&gt;</th><th scope=col>&lt;chr&gt;</th><th scope=col>&lt;chr&gt;</th></tr>\n",
       "</thead>\n",
       "<tbody>\n",
       "\t<tr><th scope=row>101194</th><td>CASSSSGGDYGYTF </td><td>TRBV11-2</td><td>TRBJ1-2</td><td>CHP_406-03_PBMC-DNA</td><td>  2</td><td>7.367405e-06</td><td>/Users/anabbi/Desktop/H4H/INTERCEPT/NextSeq/remaining_batch_3_4May2021/mixcr/clones/CLONES_TRBCHP_406-03_PBMC-DNA.txt      </td><td>Leukemia:CHP_406_X03-PBMC </td></tr>\n",
       "\t<tr><th scope=row>102161</th><td>CASSQETGLAFY   </td><td>TRBV4-2 </td><td>TRBJ1-1</td><td>CHP_406-03_PBMC-DNA</td><td>  2</td><td>7.367405e-06</td><td>/Users/anabbi/Desktop/H4H/INTERCEPT/NextSeq/remaining_batch_3_4May2021/mixcr/clones/CLONES_TRBCHP_406-03_PBMC-DNA.txt      </td><td>Leukemia:CHP_406_X03-PBMC </td></tr>\n",
       "\t<tr><th scope=row>103161</th><td>CAWDRETEAFF    </td><td>TRBV30  </td><td>TRBJ1-1</td><td>CHP_406-03_PBMC-DNA</td><td>  2</td><td>7.367405e-06</td><td>/Users/anabbi/Desktop/H4H/INTERCEPT/NextSeq/remaining_batch_3_4May2021/mixcr/clones/CLONES_TRBCHP_406-03_PBMC-DNA.txt      </td><td>Leukemia:CHP_406_X03-PBMC </td></tr>\n",
       "\t<tr><th scope=row>105153</th><td>CSAPGQGRTMGGYTF</td><td>TRBV20-1</td><td>TRBJ1-2</td><td>CHP_406-03_PBMC-DNA</td><td>  1</td><td>3.683703e-06</td><td>/Users/anabbi/Desktop/H4H/INTERCEPT/NextSeq/remaining_batch_3_4May2021/mixcr/clones/CLONES_TRBCHP_406-03_PBMC-DNA.txt      </td><td>Leukemia:CHP_406_X03-PBMC </td></tr>\n",
       "\t<tr><th scope=row>21506</th><td>CAWSVARRNTEAFF </td><td>TRBV30  </td><td>TRBJ1-1</td><td>CHP_329-04_cfDNA   </td><td>317</td><td>4.012658e-01</td><td>/Users/anabbi/Desktop/H4H/INTERCEPT/NextSeq/remaining_batch_5_cfDNA_22April2021/mixcr/clones/CLONES_TRBCHP_329-04_cfDNA.txt</td><td>Leukemia:CHP_329_X04-cfDNA</td></tr>\n",
       "\t<tr><th scope=row>31386</th><td>CASSLSGGNYGYTF </td><td>TRBV5-4 </td><td>TRBJ1-2</td><td>CHP_329-04_cfDNA   </td><td>  1</td><td>1.265823e-03</td><td>/Users/anabbi/Desktop/H4H/INTERCEPT/NextSeq/remaining_batch_5_cfDNA_22April2021/mixcr/clones/CLONES_TRBCHP_329-04_cfDNA.txt</td><td>Leukemia:CHP_329_X04-cfDNA</td></tr>\n",
       "</tbody>\n",
       "</table>\n"
      ],
      "text/latex": [
       "A data.frame: 6 x 8\n",
       "\\begin{tabular}{r|llllllll}\n",
       "  & CDR3b & TRBV & TRBJ & samplename & count & clonefraction & file & subject:condition\\\\\n",
       "  & <chr> & <chr> & <chr> & <chr> & <int> & <dbl> & <chr> & <chr>\\\\\n",
       "\\hline\n",
       "\t101194 & CASSSSGGDYGYTF  & TRBV11-2 & TRBJ1-2 & CHP\\_406-03\\_PBMC-DNA &   2 & 7.367405e-06 & /Users/anabbi/Desktop/H4H/INTERCEPT/NextSeq/remaining\\_batch\\_3\\_4May2021/mixcr/clones/CLONES\\_TRBCHP\\_406-03\\_PBMC-DNA.txt       & Leukemia:CHP\\_406\\_X03-PBMC \\\\\n",
       "\t102161 & CASSQETGLAFY    & TRBV4-2  & TRBJ1-1 & CHP\\_406-03\\_PBMC-DNA &   2 & 7.367405e-06 & /Users/anabbi/Desktop/H4H/INTERCEPT/NextSeq/remaining\\_batch\\_3\\_4May2021/mixcr/clones/CLONES\\_TRBCHP\\_406-03\\_PBMC-DNA.txt       & Leukemia:CHP\\_406\\_X03-PBMC \\\\\n",
       "\t103161 & CAWDRETEAFF     & TRBV30   & TRBJ1-1 & CHP\\_406-03\\_PBMC-DNA &   2 & 7.367405e-06 & /Users/anabbi/Desktop/H4H/INTERCEPT/NextSeq/remaining\\_batch\\_3\\_4May2021/mixcr/clones/CLONES\\_TRBCHP\\_406-03\\_PBMC-DNA.txt       & Leukemia:CHP\\_406\\_X03-PBMC \\\\\n",
       "\t105153 & CSAPGQGRTMGGYTF & TRBV20-1 & TRBJ1-2 & CHP\\_406-03\\_PBMC-DNA &   1 & 3.683703e-06 & /Users/anabbi/Desktop/H4H/INTERCEPT/NextSeq/remaining\\_batch\\_3\\_4May2021/mixcr/clones/CLONES\\_TRBCHP\\_406-03\\_PBMC-DNA.txt       & Leukemia:CHP\\_406\\_X03-PBMC \\\\\n",
       "\t21506 & CAWSVARRNTEAFF  & TRBV30   & TRBJ1-1 & CHP\\_329-04\\_cfDNA    & 317 & 4.012658e-01 & /Users/anabbi/Desktop/H4H/INTERCEPT/NextSeq/remaining\\_batch\\_5\\_cfDNA\\_22April2021/mixcr/clones/CLONES\\_TRBCHP\\_329-04\\_cfDNA.txt & Leukemia:CHP\\_329\\_X04-cfDNA\\\\\n",
       "\t31386 & CASSLSGGNYGYTF  & TRBV5-4  & TRBJ1-2 & CHP\\_329-04\\_cfDNA    &   1 & 1.265823e-03 & /Users/anabbi/Desktop/H4H/INTERCEPT/NextSeq/remaining\\_batch\\_5\\_cfDNA\\_22April2021/mixcr/clones/CLONES\\_TRBCHP\\_329-04\\_cfDNA.txt & Leukemia:CHP\\_329\\_X04-cfDNA\\\\\n",
       "\\end{tabular}\n"
      ],
      "text/markdown": [
       "\n",
       "A data.frame: 6 x 8\n",
       "\n",
       "| <!--/--> | CDR3b &lt;chr&gt; | TRBV &lt;chr&gt; | TRBJ &lt;chr&gt; | samplename &lt;chr&gt; | count &lt;int&gt; | clonefraction &lt;dbl&gt; | file &lt;chr&gt; | subject:condition &lt;chr&gt; |\n",
       "|---|---|---|---|---|---|---|---|---|\n",
       "| 101194 | CASSSSGGDYGYTF  | TRBV11-2 | TRBJ1-2 | CHP_406-03_PBMC-DNA |   2 | 7.367405e-06 | /Users/anabbi/Desktop/H4H/INTERCEPT/NextSeq/remaining_batch_3_4May2021/mixcr/clones/CLONES_TRBCHP_406-03_PBMC-DNA.txt       | Leukemia:CHP_406_X03-PBMC  |\n",
       "| 102161 | CASSQETGLAFY    | TRBV4-2  | TRBJ1-1 | CHP_406-03_PBMC-DNA |   2 | 7.367405e-06 | /Users/anabbi/Desktop/H4H/INTERCEPT/NextSeq/remaining_batch_3_4May2021/mixcr/clones/CLONES_TRBCHP_406-03_PBMC-DNA.txt       | Leukemia:CHP_406_X03-PBMC  |\n",
       "| 103161 | CAWDRETEAFF     | TRBV30   | TRBJ1-1 | CHP_406-03_PBMC-DNA |   2 | 7.367405e-06 | /Users/anabbi/Desktop/H4H/INTERCEPT/NextSeq/remaining_batch_3_4May2021/mixcr/clones/CLONES_TRBCHP_406-03_PBMC-DNA.txt       | Leukemia:CHP_406_X03-PBMC  |\n",
       "| 105153 | CSAPGQGRTMGGYTF | TRBV20-1 | TRBJ1-2 | CHP_406-03_PBMC-DNA |   1 | 3.683703e-06 | /Users/anabbi/Desktop/H4H/INTERCEPT/NextSeq/remaining_batch_3_4May2021/mixcr/clones/CLONES_TRBCHP_406-03_PBMC-DNA.txt       | Leukemia:CHP_406_X03-PBMC  |\n",
       "| 21506 | CAWSVARRNTEAFF  | TRBV30   | TRBJ1-1 | CHP_329-04_cfDNA    | 317 | 4.012658e-01 | /Users/anabbi/Desktop/H4H/INTERCEPT/NextSeq/remaining_batch_5_cfDNA_22April2021/mixcr/clones/CLONES_TRBCHP_329-04_cfDNA.txt | Leukemia:CHP_329_X04-cfDNA |\n",
       "| 31386 | CASSLSGGNYGYTF  | TRBV5-4  | TRBJ1-2 | CHP_329-04_cfDNA    |   1 | 1.265823e-03 | /Users/anabbi/Desktop/H4H/INTERCEPT/NextSeq/remaining_batch_5_cfDNA_22April2021/mixcr/clones/CLONES_TRBCHP_329-04_cfDNA.txt | Leukemia:CHP_329_X04-cfDNA |\n",
       "\n"
      ],
      "text/plain": [
       "       CDR3b           TRBV     TRBJ    samplename          count clonefraction\n",
       "101194 CASSSSGGDYGYTF  TRBV11-2 TRBJ1-2 CHP_406-03_PBMC-DNA   2   7.367405e-06 \n",
       "102161 CASSQETGLAFY    TRBV4-2  TRBJ1-1 CHP_406-03_PBMC-DNA   2   7.367405e-06 \n",
       "103161 CAWDRETEAFF     TRBV30   TRBJ1-1 CHP_406-03_PBMC-DNA   2   7.367405e-06 \n",
       "105153 CSAPGQGRTMGGYTF TRBV20-1 TRBJ1-2 CHP_406-03_PBMC-DNA   1   3.683703e-06 \n",
       "21506  CAWSVARRNTEAFF  TRBV30   TRBJ1-1 CHP_329-04_cfDNA    317   4.012658e-01 \n",
       "31386  CASSLSGGNYGYTF  TRBV5-4  TRBJ1-2 CHP_329-04_cfDNA      1   1.265823e-03 \n",
       "       file                                                                                                                       \n",
       "101194 /Users/anabbi/Desktop/H4H/INTERCEPT/NextSeq/remaining_batch_3_4May2021/mixcr/clones/CLONES_TRBCHP_406-03_PBMC-DNA.txt      \n",
       "102161 /Users/anabbi/Desktop/H4H/INTERCEPT/NextSeq/remaining_batch_3_4May2021/mixcr/clones/CLONES_TRBCHP_406-03_PBMC-DNA.txt      \n",
       "103161 /Users/anabbi/Desktop/H4H/INTERCEPT/NextSeq/remaining_batch_3_4May2021/mixcr/clones/CLONES_TRBCHP_406-03_PBMC-DNA.txt      \n",
       "105153 /Users/anabbi/Desktop/H4H/INTERCEPT/NextSeq/remaining_batch_3_4May2021/mixcr/clones/CLONES_TRBCHP_406-03_PBMC-DNA.txt      \n",
       "21506  /Users/anabbi/Desktop/H4H/INTERCEPT/NextSeq/remaining_batch_5_cfDNA_22April2021/mixcr/clones/CLONES_TRBCHP_329-04_cfDNA.txt\n",
       "31386  /Users/anabbi/Desktop/H4H/INTERCEPT/NextSeq/remaining_batch_5_cfDNA_22April2021/mixcr/clones/CLONES_TRBCHP_329-04_cfDNA.txt\n",
       "       subject:condition         \n",
       "101194 Leukemia:CHP_406_X03-PBMC \n",
       "102161 Leukemia:CHP_406_X03-PBMC \n",
       "103161 Leukemia:CHP_406_X03-PBMC \n",
       "105153 Leukemia:CHP_406_X03-PBMC \n",
       "21506  Leukemia:CHP_329_X04-cfDNA\n",
       "31386  Leukemia:CHP_329_X04-cfDNA"
      ]
     },
     "metadata": {},
     "output_type": "display_data"
    }
   ],
   "source": [
    "tail(int_all)"
   ]
  },
  {
   "cell_type": "code",
   "execution_count": 23,
   "metadata": {
    "vscode": {
     "languageId": "r"
    }
   },
   "outputs": [],
   "source": [
    "int_all <- int_all[,c(1,2,3,8,5,6,4,7)]"
   ]
  },
  {
   "cell_type": "code",
   "execution_count": 24,
   "metadata": {
    "vscode": {
     "languageId": "r"
    }
   },
   "outputs": [
    {
     "data": {
      "text/html": [
       "<table class=\"dataframe\">\n",
       "<caption>A data.frame: 6 x 8</caption>\n",
       "<thead>\n",
       "\t<tr><th></th><th scope=col>CDR3b</th><th scope=col>TRBV</th><th scope=col>TRBJ</th><th scope=col>subject:condition</th><th scope=col>count</th><th scope=col>clonefraction</th><th scope=col>samplename</th><th scope=col>file</th></tr>\n",
       "\t<tr><th></th><th scope=col>&lt;chr&gt;</th><th scope=col>&lt;chr&gt;</th><th scope=col>&lt;chr&gt;</th><th scope=col>&lt;chr&gt;</th><th scope=col>&lt;int&gt;</th><th scope=col>&lt;dbl&gt;</th><th scope=col>&lt;chr&gt;</th><th scope=col>&lt;chr&gt;</th></tr>\n",
       "</thead>\n",
       "<tbody>\n",
       "\t<tr><th scope=row>1</th><td>CASSHPDAVNTEAFF</td><td>TRBV6-6 </td><td>TRBJ1-1</td><td>Solid tumors:CHP_350_X01-PBMC</td><td>59</td><td>0.02586585</td><td>CHP_350-01-PBMC-DNA</td><td>/Users/anabbi/Desktop/H4H/INTERCEPT/NextSeq/batch_reseq_24Feb2020/mixcr/clones/CLONES_TRBCHP_350-01-PBMC-DNA.txt</td></tr>\n",
       "\t<tr><th scope=row>2</th><td>CASSFSLAAYGEQYF</td><td>TRBV12-3</td><td>TRBJ2-7</td><td>Solid tumors:CHP_350_X01-PBMC</td><td>44</td><td>0.01928979</td><td>CHP_350-01-PBMC-DNA</td><td>/Users/anabbi/Desktop/H4H/INTERCEPT/NextSeq/batch_reseq_24Feb2020/mixcr/clones/CLONES_TRBCHP_350-01-PBMC-DNA.txt</td></tr>\n",
       "\t<tr><th scope=row>3</th><td>CASTRLLGNTEAFF </td><td>TRBV28  </td><td>TRBJ1-1</td><td>Solid tumors:CHP_350_X01-PBMC</td><td>41</td><td>0.01797457</td><td>CHP_350-01-PBMC-DNA</td><td>/Users/anabbi/Desktop/H4H/INTERCEPT/NextSeq/batch_reseq_24Feb2020/mixcr/clones/CLONES_TRBCHP_350-01-PBMC-DNA.txt</td></tr>\n",
       "\t<tr><th scope=row>4</th><td>CASSSFGQGINTIYF</td><td>TRBV18  </td><td>TRBJ1-3</td><td>Solid tumors:CHP_350_X01-PBMC</td><td>40</td><td>0.01753617</td><td>CHP_350-01-PBMC-DNA</td><td>/Users/anabbi/Desktop/H4H/INTERCEPT/NextSeq/batch_reseq_24Feb2020/mixcr/clones/CLONES_TRBCHP_350-01-PBMC-DNA.txt</td></tr>\n",
       "\t<tr><th scope=row>8</th><td>CASSPRIGQGAPLHF</td><td>TRBV12-3</td><td>TRBJ1-6</td><td>Solid tumors:CHP_350_X01-PBMC</td><td>31</td><td>0.01359053</td><td>CHP_350-01-PBMC-DNA</td><td>/Users/anabbi/Desktop/H4H/INTERCEPT/NextSeq/batch_reseq_24Feb2020/mixcr/clones/CLONES_TRBCHP_350-01-PBMC-DNA.txt</td></tr>\n",
       "\t<tr><th scope=row>9</th><td>CATSRTGGGNTEAFF</td><td>TRBV24-1</td><td>TRBJ1-1</td><td>Solid tumors:CHP_350_X01-PBMC</td><td>29</td><td>0.01271372</td><td>CHP_350-01-PBMC-DNA</td><td>/Users/anabbi/Desktop/H4H/INTERCEPT/NextSeq/batch_reseq_24Feb2020/mixcr/clones/CLONES_TRBCHP_350-01-PBMC-DNA.txt</td></tr>\n",
       "</tbody>\n",
       "</table>\n"
      ],
      "text/latex": [
       "A data.frame: 6 x 8\n",
       "\\begin{tabular}{r|llllllll}\n",
       "  & CDR3b & TRBV & TRBJ & subject:condition & count & clonefraction & samplename & file\\\\\n",
       "  & <chr> & <chr> & <chr> & <chr> & <int> & <dbl> & <chr> & <chr>\\\\\n",
       "\\hline\n",
       "\t1 & CASSHPDAVNTEAFF & TRBV6-6  & TRBJ1-1 & Solid tumors:CHP\\_350\\_X01-PBMC & 59 & 0.02586585 & CHP\\_350-01-PBMC-DNA & /Users/anabbi/Desktop/H4H/INTERCEPT/NextSeq/batch\\_reseq\\_24Feb2020/mixcr/clones/CLONES\\_TRBCHP\\_350-01-PBMC-DNA.txt\\\\\n",
       "\t2 & CASSFSLAAYGEQYF & TRBV12-3 & TRBJ2-7 & Solid tumors:CHP\\_350\\_X01-PBMC & 44 & 0.01928979 & CHP\\_350-01-PBMC-DNA & /Users/anabbi/Desktop/H4H/INTERCEPT/NextSeq/batch\\_reseq\\_24Feb2020/mixcr/clones/CLONES\\_TRBCHP\\_350-01-PBMC-DNA.txt\\\\\n",
       "\t3 & CASTRLLGNTEAFF  & TRBV28   & TRBJ1-1 & Solid tumors:CHP\\_350\\_X01-PBMC & 41 & 0.01797457 & CHP\\_350-01-PBMC-DNA & /Users/anabbi/Desktop/H4H/INTERCEPT/NextSeq/batch\\_reseq\\_24Feb2020/mixcr/clones/CLONES\\_TRBCHP\\_350-01-PBMC-DNA.txt\\\\\n",
       "\t4 & CASSSFGQGINTIYF & TRBV18   & TRBJ1-3 & Solid tumors:CHP\\_350\\_X01-PBMC & 40 & 0.01753617 & CHP\\_350-01-PBMC-DNA & /Users/anabbi/Desktop/H4H/INTERCEPT/NextSeq/batch\\_reseq\\_24Feb2020/mixcr/clones/CLONES\\_TRBCHP\\_350-01-PBMC-DNA.txt\\\\\n",
       "\t8 & CASSPRIGQGAPLHF & TRBV12-3 & TRBJ1-6 & Solid tumors:CHP\\_350\\_X01-PBMC & 31 & 0.01359053 & CHP\\_350-01-PBMC-DNA & /Users/anabbi/Desktop/H4H/INTERCEPT/NextSeq/batch\\_reseq\\_24Feb2020/mixcr/clones/CLONES\\_TRBCHP\\_350-01-PBMC-DNA.txt\\\\\n",
       "\t9 & CATSRTGGGNTEAFF & TRBV24-1 & TRBJ1-1 & Solid tumors:CHP\\_350\\_X01-PBMC & 29 & 0.01271372 & CHP\\_350-01-PBMC-DNA & /Users/anabbi/Desktop/H4H/INTERCEPT/NextSeq/batch\\_reseq\\_24Feb2020/mixcr/clones/CLONES\\_TRBCHP\\_350-01-PBMC-DNA.txt\\\\\n",
       "\\end{tabular}\n"
      ],
      "text/markdown": [
       "\n",
       "A data.frame: 6 x 8\n",
       "\n",
       "| <!--/--> | CDR3b &lt;chr&gt; | TRBV &lt;chr&gt; | TRBJ &lt;chr&gt; | subject:condition &lt;chr&gt; | count &lt;int&gt; | clonefraction &lt;dbl&gt; | samplename &lt;chr&gt; | file &lt;chr&gt; |\n",
       "|---|---|---|---|---|---|---|---|---|\n",
       "| 1 | CASSHPDAVNTEAFF | TRBV6-6  | TRBJ1-1 | Solid tumors:CHP_350_X01-PBMC | 59 | 0.02586585 | CHP_350-01-PBMC-DNA | /Users/anabbi/Desktop/H4H/INTERCEPT/NextSeq/batch_reseq_24Feb2020/mixcr/clones/CLONES_TRBCHP_350-01-PBMC-DNA.txt |\n",
       "| 2 | CASSFSLAAYGEQYF | TRBV12-3 | TRBJ2-7 | Solid tumors:CHP_350_X01-PBMC | 44 | 0.01928979 | CHP_350-01-PBMC-DNA | /Users/anabbi/Desktop/H4H/INTERCEPT/NextSeq/batch_reseq_24Feb2020/mixcr/clones/CLONES_TRBCHP_350-01-PBMC-DNA.txt |\n",
       "| 3 | CASTRLLGNTEAFF  | TRBV28   | TRBJ1-1 | Solid tumors:CHP_350_X01-PBMC | 41 | 0.01797457 | CHP_350-01-PBMC-DNA | /Users/anabbi/Desktop/H4H/INTERCEPT/NextSeq/batch_reseq_24Feb2020/mixcr/clones/CLONES_TRBCHP_350-01-PBMC-DNA.txt |\n",
       "| 4 | CASSSFGQGINTIYF | TRBV18   | TRBJ1-3 | Solid tumors:CHP_350_X01-PBMC | 40 | 0.01753617 | CHP_350-01-PBMC-DNA | /Users/anabbi/Desktop/H4H/INTERCEPT/NextSeq/batch_reseq_24Feb2020/mixcr/clones/CLONES_TRBCHP_350-01-PBMC-DNA.txt |\n",
       "| 8 | CASSPRIGQGAPLHF | TRBV12-3 | TRBJ1-6 | Solid tumors:CHP_350_X01-PBMC | 31 | 0.01359053 | CHP_350-01-PBMC-DNA | /Users/anabbi/Desktop/H4H/INTERCEPT/NextSeq/batch_reseq_24Feb2020/mixcr/clones/CLONES_TRBCHP_350-01-PBMC-DNA.txt |\n",
       "| 9 | CATSRTGGGNTEAFF | TRBV24-1 | TRBJ1-1 | Solid tumors:CHP_350_X01-PBMC | 29 | 0.01271372 | CHP_350-01-PBMC-DNA | /Users/anabbi/Desktop/H4H/INTERCEPT/NextSeq/batch_reseq_24Feb2020/mixcr/clones/CLONES_TRBCHP_350-01-PBMC-DNA.txt |\n",
       "\n"
      ],
      "text/plain": [
       "  CDR3b           TRBV     TRBJ    subject:condition             count\n",
       "1 CASSHPDAVNTEAFF TRBV6-6  TRBJ1-1 Solid tumors:CHP_350_X01-PBMC 59   \n",
       "2 CASSFSLAAYGEQYF TRBV12-3 TRBJ2-7 Solid tumors:CHP_350_X01-PBMC 44   \n",
       "3 CASTRLLGNTEAFF  TRBV28   TRBJ1-1 Solid tumors:CHP_350_X01-PBMC 41   \n",
       "4 CASSSFGQGINTIYF TRBV18   TRBJ1-3 Solid tumors:CHP_350_X01-PBMC 40   \n",
       "8 CASSPRIGQGAPLHF TRBV12-3 TRBJ1-6 Solid tumors:CHP_350_X01-PBMC 31   \n",
       "9 CATSRTGGGNTEAFF TRBV24-1 TRBJ1-1 Solid tumors:CHP_350_X01-PBMC 29   \n",
       "  clonefraction samplename         \n",
       "1 0.02586585    CHP_350-01-PBMC-DNA\n",
       "2 0.01928979    CHP_350-01-PBMC-DNA\n",
       "3 0.01797457    CHP_350-01-PBMC-DNA\n",
       "4 0.01753617    CHP_350-01-PBMC-DNA\n",
       "8 0.01359053    CHP_350-01-PBMC-DNA\n",
       "9 0.01271372    CHP_350-01-PBMC-DNA\n",
       "  file                                                                                                            \n",
       "1 /Users/anabbi/Desktop/H4H/INTERCEPT/NextSeq/batch_reseq_24Feb2020/mixcr/clones/CLONES_TRBCHP_350-01-PBMC-DNA.txt\n",
       "2 /Users/anabbi/Desktop/H4H/INTERCEPT/NextSeq/batch_reseq_24Feb2020/mixcr/clones/CLONES_TRBCHP_350-01-PBMC-DNA.txt\n",
       "3 /Users/anabbi/Desktop/H4H/INTERCEPT/NextSeq/batch_reseq_24Feb2020/mixcr/clones/CLONES_TRBCHP_350-01-PBMC-DNA.txt\n",
       "4 /Users/anabbi/Desktop/H4H/INTERCEPT/NextSeq/batch_reseq_24Feb2020/mixcr/clones/CLONES_TRBCHP_350-01-PBMC-DNA.txt\n",
       "8 /Users/anabbi/Desktop/H4H/INTERCEPT/NextSeq/batch_reseq_24Feb2020/mixcr/clones/CLONES_TRBCHP_350-01-PBMC-DNA.txt\n",
       "9 /Users/anabbi/Desktop/H4H/INTERCEPT/NextSeq/batch_reseq_24Feb2020/mixcr/clones/CLONES_TRBCHP_350-01-PBMC-DNA.txt"
      ]
     },
     "metadata": {},
     "output_type": "display_data"
    }
   ],
   "source": [
    "head(int_all)"
   ]
  },
  {
   "cell_type": "code",
   "execution_count": 25,
   "metadata": {
    "vscode": {
     "languageId": "r"
    }
   },
   "outputs": [],
   "source": [
    "readr::write_rds(int_all, file = paste0(datapath, \"capTCRseq/INT_all_gliph_input_v2.rds\"))"
   ]
  },
  {
   "cell_type": "code",
   "execution_count": 26,
   "metadata": {
    "vscode": {
     "languageId": "r"
    }
   },
   "outputs": [],
   "source": [
    "int_all$`subject:condition` <- gsub(\" \", \"\", int_all$`subject:condition`)"
   ]
  },
  {
   "cell_type": "markdown",
   "metadata": {},
   "source": [
    "VDJdb file"
   ]
  },
  {
   "cell_type": "code",
   "execution_count": 82,
   "metadata": {
    "vscode": {
     "languageId": "r"
    }
   },
   "outputs": [],
   "source": [
    "VDJdb_tcr_cleanup <- readr::read_rds(file = paste0(datapath, \"capTCRseq/VDJdb_tcr_cleanup.rds\"))"
   ]
  },
  {
   "cell_type": "markdown",
   "metadata": {},
   "source": [
    "rbind"
   ]
  },
  {
   "cell_type": "code",
   "execution_count": 83,
   "metadata": {
    "vscode": {
     "languageId": "r"
    }
   },
   "outputs": [],
   "source": [
    "int_vdj <- rbind(int_all[,c(\"CDR3b\", \"TRBV\", \"TRBJ\", \"subject:condition\", \"count\", \"clonefraction\", \"samplename\", \"file\")], VDJdb_tcr_cleanup)"
   ]
  },
  {
   "cell_type": "code",
   "execution_count": 84,
   "metadata": {
    "vscode": {
     "languageId": "r"
    }
   },
   "outputs": [],
   "source": [
    "readr::write_rds(int_vdj, file = paste0(datapath, \"capTCRseq/int_vdjdb_v2.rds\"))"
   ]
  },
  {
   "cell_type": "code",
   "execution_count": 85,
   "metadata": {
    "vscode": {
     "languageId": "r"
    }
   },
   "outputs": [],
   "source": [
    "int_vdj$CDR3a <- NA"
   ]
  },
  {
   "cell_type": "code",
   "execution_count": 86,
   "metadata": {
    "vscode": {
     "languageId": "r"
    }
   },
   "outputs": [],
   "source": [
    "h4hpath <- \"/Users/anabbi/Desktop/H4H/INTERCEPT/analysis/GLIPH/run_gliph/v2/\""
   ]
  },
  {
   "cell_type": "code",
   "execution_count": 87,
   "metadata": {
    "vscode": {
     "languageId": "r"
    }
   },
   "outputs": [],
   "source": [
    "write.table(int_vdj[,c(\"CDR3b\", \"TRBV\", \"TRBJ\", \"CDR3a\", \"subject:condition\", \"count\")], file = paste0(h4hpath,\"int_vdj_gliphinput_v2.txt\"), sep = \"\\t\", quote = F, row.names = F, col.names = F)"
   ]
  },
  {
   "cell_type": "code",
   "execution_count": null,
   "metadata": {
    "vscode": {
     "languageId": "r"
    }
   },
   "outputs": [],
   "source": []
  },
  {
   "cell_type": "code",
   "execution_count": null,
   "metadata": {
    "vscode": {
     "languageId": "r"
    }
   },
   "outputs": [],
   "source": []
  },
  {
   "cell_type": "markdown",
   "metadata": {},
   "source": [
    "# Version 3: Using Mitchel as reference dataset"
   ]
  },
  {
   "cell_type": "code",
   "execution_count": 65,
   "metadata": {
    "vscode": {
     "languageId": "r"
    }
   },
   "outputs": [],
   "source": [
    "allAdaptive <- readr::read_rds(file = paste0(datapath, \"Adaptivedatasets/allAdaptive_good.rds\"))"
   ]
  },
  {
   "cell_type": "code",
   "execution_count": 66,
   "metadata": {
    "vscode": {
     "languageId": "r"
    }
   },
   "outputs": [
    {
     "data": {
      "text/html": [
       "<table class=\"dataframe\">\n",
       "<caption>A data.frame: 6 x 7</caption>\n",
       "<thead>\n",
       "\t<tr><th></th><th scope=col>sample_name</th><th scope=col>study</th><th scope=col>Agegroup</th><th scope=col>Sex</th><th scope=col>disease</th><th scope=col>subject</th><th scope=col>age</th></tr>\n",
       "\t<tr><th></th><th scope=col>&lt;chr&gt;</th><th scope=col>&lt;chr&gt;</th><th scope=col>&lt;chr&gt;</th><th scope=col>&lt;chr&gt;</th><th scope=col>&lt;chr&gt;</th><th scope=col>&lt;chr&gt;</th><th scope=col>&lt;dbl&gt;</th></tr>\n",
       "</thead>\n",
       "<tbody>\n",
       "\t<tr><th scope=row>21</th><td>Peds_Ctrl_2        </td><td>Henderson</td><td>Child</td><td>NA</td><td>Peds healthy Control</td><td>Peds_Ctrl_2        </td><td>NA</td></tr>\n",
       "\t<tr><th scope=row>22</th><td>MAS_3              </td><td>Henderson</td><td>Child</td><td>NA</td><td>MAS                 </td><td>MAS_3              </td><td>NA</td></tr>\n",
       "\t<tr><th scope=row>23</th><td>Peds_Febrile_Ctrl_3</td><td>Henderson</td><td>Child</td><td>NA</td><td>Peds febrile Control</td><td>Peds_Febrile_Ctrl_3</td><td>NA</td></tr>\n",
       "\t<tr><th scope=row>25</th><td>KD_4               </td><td>Henderson</td><td>Child</td><td>NA</td><td>KD                  </td><td>KD_4               </td><td>NA</td></tr>\n",
       "\t<tr><th scope=row>26</th><td>KD_3               </td><td>Henderson</td><td>Child</td><td>NA</td><td>KD                  </td><td>KD_3               </td><td>NA</td></tr>\n",
       "\t<tr><th scope=row>29</th><td>sJIA_7             </td><td>Henderson</td><td>Child</td><td>NA</td><td>sJIA                </td><td>sJIA_7             </td><td>NA</td></tr>\n",
       "</tbody>\n",
       "</table>\n"
      ],
      "text/latex": [
       "A data.frame: 6 x 7\n",
       "\\begin{tabular}{r|lllllll}\n",
       "  & sample\\_name & study & Agegroup & Sex & disease & subject & age\\\\\n",
       "  & <chr> & <chr> & <chr> & <chr> & <chr> & <chr> & <dbl>\\\\\n",
       "\\hline\n",
       "\t21 & Peds\\_Ctrl\\_2         & Henderson & Child & NA & Peds healthy Control & Peds\\_Ctrl\\_2         & NA\\\\\n",
       "\t22 & MAS\\_3               & Henderson & Child & NA & MAS                  & MAS\\_3               & NA\\\\\n",
       "\t23 & Peds\\_Febrile\\_Ctrl\\_3 & Henderson & Child & NA & Peds febrile Control & Peds\\_Febrile\\_Ctrl\\_3 & NA\\\\\n",
       "\t25 & KD\\_4                & Henderson & Child & NA & KD                   & KD\\_4                & NA\\\\\n",
       "\t26 & KD\\_3                & Henderson & Child & NA & KD                   & KD\\_3                & NA\\\\\n",
       "\t29 & sJIA\\_7              & Henderson & Child & NA & sJIA                 & sJIA\\_7              & NA\\\\\n",
       "\\end{tabular}\n"
      ],
      "text/markdown": [
       "\n",
       "A data.frame: 6 x 7\n",
       "\n",
       "| <!--/--> | sample_name &lt;chr&gt; | study &lt;chr&gt; | Agegroup &lt;chr&gt; | Sex &lt;chr&gt; | disease &lt;chr&gt; | subject &lt;chr&gt; | age &lt;dbl&gt; |\n",
       "|---|---|---|---|---|---|---|---|\n",
       "| 21 | Peds_Ctrl_2         | Henderson | Child | NA | Peds healthy Control | Peds_Ctrl_2         | NA |\n",
       "| 22 | MAS_3               | Henderson | Child | NA | MAS                  | MAS_3               | NA |\n",
       "| 23 | Peds_Febrile_Ctrl_3 | Henderson | Child | NA | Peds febrile Control | Peds_Febrile_Ctrl_3 | NA |\n",
       "| 25 | KD_4                | Henderson | Child | NA | KD                   | KD_4                | NA |\n",
       "| 26 | KD_3                | Henderson | Child | NA | KD                   | KD_3                | NA |\n",
       "| 29 | sJIA_7              | Henderson | Child | NA | sJIA                 | sJIA_7              | NA |\n",
       "\n"
      ],
      "text/plain": [
       "   sample_name         study     Agegroup Sex disease             \n",
       "21 Peds_Ctrl_2         Henderson Child    NA  Peds healthy Control\n",
       "22 MAS_3               Henderson Child    NA  MAS                 \n",
       "23 Peds_Febrile_Ctrl_3 Henderson Child    NA  Peds febrile Control\n",
       "25 KD_4                Henderson Child    NA  KD                  \n",
       "26 KD_3                Henderson Child    NA  KD                  \n",
       "29 sJIA_7              Henderson Child    NA  sJIA                \n",
       "   subject             age\n",
       "21 Peds_Ctrl_2         NA \n",
       "22 MAS_3               NA \n",
       "23 Peds_Febrile_Ctrl_3 NA \n",
       "25 KD_4                NA \n",
       "26 KD_3                NA \n",
       "29 sJIA_7              NA "
      ]
     },
     "metadata": {},
     "output_type": "display_data"
    }
   ],
   "source": [
    "head(allAdaptive)"
   ]
  },
  {
   "cell_type": "code",
   "execution_count": 67,
   "metadata": {
    "vscode": {
     "languageId": "r"
    }
   },
   "outputs": [
    {
     "data": {
      "text/plain": [
       "\n",
       "        Emerson       Henderson        Mitchell Mitchell_Denver \n",
       "            773              25             203             131 "
      ]
     },
     "metadata": {},
     "output_type": "display_data"
    }
   ],
   "source": [
    "table(allAdaptive$study)"
   ]
  },
  {
   "cell_type": "code",
   "execution_count": 68,
   "metadata": {
    "vscode": {
     "languageId": "r"
    }
   },
   "outputs": [
    {
     "data": {
      "text/html": [
       "<table class=\"dataframe\">\n",
       "<caption>A data.frame: 0 x 7</caption>\n",
       "<thead>\n",
       "\t<tr><th scope=col>sample_name</th><th scope=col>study</th><th scope=col>Agegroup</th><th scope=col>Sex</th><th scope=col>disease</th><th scope=col>subject</th><th scope=col>age</th></tr>\n",
       "\t<tr><th scope=col>&lt;chr&gt;</th><th scope=col>&lt;chr&gt;</th><th scope=col>&lt;chr&gt;</th><th scope=col>&lt;chr&gt;</th><th scope=col>&lt;chr&gt;</th><th scope=col>&lt;chr&gt;</th><th scope=col>&lt;dbl&gt;</th></tr>\n",
       "</thead>\n",
       "<tbody>\n",
       "</tbody>\n",
       "</table>\n"
      ],
      "text/latex": [
       "A data.frame: 0 x 7\n",
       "\\begin{tabular}{lllllll}\n",
       " sample\\_name & study & Agegroup & Sex & disease & subject & age\\\\\n",
       " <chr> & <chr> & <chr> & <chr> & <chr> & <chr> & <dbl>\\\\\n",
       "\\hline\n",
       "\\end{tabular}\n"
      ],
      "text/markdown": [
       "\n",
       "A data.frame: 0 x 7\n",
       "\n",
       "| sample_name &lt;chr&gt; | study &lt;chr&gt; | Agegroup &lt;chr&gt; | Sex &lt;chr&gt; | disease &lt;chr&gt; | subject &lt;chr&gt; | age &lt;dbl&gt; |\n",
       "|---|---|---|---|---|---|---|\n",
       "\n"
      ],
      "text/plain": [
       "     sample_name study Agegroup Sex disease subject age"
      ]
     },
     "metadata": {},
     "output_type": "display_data"
    }
   ],
   "source": [
    "allAdaptive[ allAdaptive$study == \"Carey\",]"
   ]
  },
  {
   "cell_type": "code",
   "execution_count": 69,
   "metadata": {
    "vscode": {
     "languageId": "r"
    }
   },
   "outputs": [],
   "source": [
    "mitchel <- allAdaptive[allAdaptive$study == \"Mitchell\",]\n",
    "mitchel_ctrl <- mitchel[mitchel$disease == \"Ctrl\",]"
   ]
  },
  {
   "cell_type": "code",
   "execution_count": 72,
   "metadata": {
    "vscode": {
     "languageId": "r"
    }
   },
   "outputs": [
    {
     "data": {
      "text/html": [
       "25"
      ],
      "text/latex": [
       "25"
      ],
      "text/markdown": [
       "25"
      ],
      "text/plain": [
       "[1] 25"
      ]
     },
     "metadata": {},
     "output_type": "display_data"
    }
   ],
   "source": [
    "length( unique(mitchel_ctrl$subject) )"
   ]
  },
  {
   "cell_type": "code",
   "execution_count": 75,
   "metadata": {
    "vscode": {
     "languageId": "r"
    }
   },
   "outputs": [
    {
     "data": {
      "text/html": [
       "<style>\n",
       ".list-inline {list-style: none; margin:0; padding: 0}\n",
       ".list-inline>li {display: inline-block}\n",
       ".list-inline>li:not(:last-child)::after {content: \"\\00b7\"; padding: 0 .5ex}\n",
       "</style>\n",
       "<ol class=list-inline><li>94</li><li>7</li></ol>\n"
      ],
      "text/latex": [
       "\\begin{enumerate*}\n",
       "\\item 94\n",
       "\\item 7\n",
       "\\end{enumerate*}\n"
      ],
      "text/markdown": [
       "1. 94\n",
       "2. 7\n",
       "\n",
       "\n"
      ],
      "text/plain": [
       "[1] 94  7"
      ]
     },
     "metadata": {},
     "output_type": "display_data"
    }
   ],
   "source": [
    "dim(mitchel_ctrl)"
   ]
  },
  {
   "cell_type": "code",
   "execution_count": 74,
   "metadata": {
    "vscode": {
     "languageId": "r"
    }
   },
   "outputs": [
    {
     "data": {
      "text/plain": [
       "   Min. 1st Qu.  Median    Mean 3rd Qu.    Max. \n",
       "  0.000   3.000   5.000   5.777   8.000  19.000 "
      ]
     },
     "metadata": {},
     "output_type": "display_data"
    }
   ],
   "source": [
    "summary(mitchel_ctrl$age)"
   ]
  },
  {
   "cell_type": "code",
   "execution_count": 70,
   "metadata": {
    "vscode": {
     "languageId": "r"
    }
   },
   "outputs": [],
   "source": [
    "readr::write_rds(mitchel_ctrl, file = \"~/Desktop/H4h/INTERCEPT/analysis/GLIPH/custom_refs/mitchel_ctrl_samples.rds\")"
   ]
  },
  {
   "cell_type": "code",
   "execution_count": 71,
   "metadata": {
    "vscode": {
     "languageId": "r"
    }
   },
   "outputs": [],
   "source": [
    "mitchpath <- \"/Users/anabbi/Desktop/H4H/INTERCEPT/Adaptive/tsv_cleanup/Mitchell_Michels2022/\""
   ]
  },
  {
   "cell_type": "code",
   "execution_count": 72,
   "metadata": {
    "vscode": {
     "languageId": "r"
    }
   },
   "outputs": [],
   "source": [
    "# for (i in mitchel_ctrl$sample_name) {\n",
    "#     mylist <- list()\n",
    "\n",
    "#     onefle <- read.table(paste0(mitchpath, i, \".txt\"), sep = \"\\t\", header = TRUE, stringsAsFactors = F)\n",
    "#     # Remove non-productive\n",
    "#     onefle <- onefle[!grepl(\"_\", onefle$CDR3b), ]\n",
    "#     onefle <- onefle[!grepl(\"[*]\", onefle$CDR3b), ]\n",
    "#     # remove extra long cdr3s\n",
    "#     onefle <- onefle[nchar(onefle$CDR3b) <= 25, ]\n",
    "\n",
    "#     mylist[length(mylist) + 1] <- list(onefle[, c(\"CDR3b\", \"TRBV\", \"TRBJ\")])\n",
    "# }\n",
    "# mitch_gliph_input <- do.call(\"rbind\", mylist)\n"
   ]
  },
  {
   "cell_type": "code",
   "execution_count": null,
   "metadata": {
    "vscode": {
     "languageId": "r"
    }
   },
   "outputs": [],
   "source": [
    "# write_rds(mitch_gliph_input, file = paste0(h4hpath, \"capTCRseq/mitch_gliph_input.rds\"))"
   ]
  },
  {
   "cell_type": "code",
   "execution_count": null,
   "metadata": {
    "vscode": {
     "languageId": "r"
    }
   },
   "outputs": [
    {
     "ename": "ERROR",
     "evalue": "Error in tail(mitch_gliph_input): object 'mitch_gliph_input' not found\n",
     "output_type": "error",
     "traceback": [
      "Error in tail(mitch_gliph_input): object 'mitch_gliph_input' not found\nTraceback:\n",
      "1. tail(mitch_gliph_input)"
     ]
    }
   ],
   "source": [
    "# tail(mitch_gliph_input)"
   ]
  },
  {
   "cell_type": "code",
   "execution_count": null,
   "metadata": {
    "vscode": {
     "languageId": "r"
    }
   },
   "outputs": [],
   "source": [
    "# readr::write_tsv(mitch_gliph_input, file = paste0(h4hpath, \"capTCRseq/mitch_gliph_input.txt\"), col_names = F)"
   ]
  },
  {
   "cell_type": "markdown",
   "metadata": {
    "vscode": {
     "languageId": "r"
    }
   },
   "source": [
    "# Emerson (Child) run"
   ]
  },
  {
   "cell_type": "code",
   "execution_count": 54,
   "metadata": {
    "vscode": {
     "languageId": "r"
    }
   },
   "outputs": [],
   "source": [
    "allAdaptive <- readr::read_rds(file = paste0(datapath, \"Adaptivedatasets/allAdaptive_good.rds\"))"
   ]
  },
  {
   "cell_type": "code",
   "execution_count": 55,
   "metadata": {
    "vscode": {
     "languageId": "r"
    }
   },
   "outputs": [],
   "source": [
    "emerson <- allAdaptive[ allAdaptive$study == \"Emerson\",]"
   ]
  },
  {
   "cell_type": "code",
   "execution_count": 56,
   "metadata": {
    "vscode": {
     "languageId": "r"
    }
   },
   "outputs": [],
   "source": [
    "emerson_child <- emerson[ which(emerson$age < 19),]"
   ]
  },
  {
   "cell_type": "code",
   "execution_count": 57,
   "metadata": {
    "vscode": {
     "languageId": "r"
    }
   },
   "outputs": [
    {
     "data": {
      "text/html": [
       "<style>\n",
       ".list-inline {list-style: none; margin:0; padding: 0}\n",
       ".list-inline>li {display: inline-block}\n",
       ".list-inline>li:not(:last-child)::after {content: \"\\00b7\"; padding: 0 .5ex}\n",
       "</style>\n",
       "<ol class=list-inline><li>30</li><li>7</li></ol>\n"
      ],
      "text/latex": [
       "\\begin{enumerate*}\n",
       "\\item 30\n",
       "\\item 7\n",
       "\\end{enumerate*}\n"
      ],
      "text/markdown": [
       "1. 30\n",
       "2. 7\n",
       "\n",
       "\n"
      ],
      "text/plain": [
       "[1] 30  7"
      ]
     },
     "metadata": {},
     "output_type": "display_data"
    }
   ],
   "source": [
    "dim(emerson_child)"
   ]
  },
  {
   "cell_type": "code",
   "execution_count": 59,
   "metadata": {
    "vscode": {
     "languageId": "r"
    }
   },
   "outputs": [],
   "source": [
    "readr::write_rds(emerson_child, file = \"~/Desktop/H4h/INTERCEPT/analysis/GLIPH/run_gliph/Emerson/emerson_child.rds\")\n",
    "# use this to to create input on h4h"
   ]
  },
  {
   "cell_type": "code",
   "execution_count": 60,
   "metadata": {
    "vscode": {
     "languageId": "r"
    }
   },
   "outputs": [],
   "source": [
    "emersonpath <- \"/Users/anabbi/Desktop/H4H/INTERCEPT/Adaptive/tsv_cleanup/emerson2017/\""
   ]
  },
  {
   "cell_type": "code",
   "execution_count": 62,
   "metadata": {
    "vscode": {
     "languageId": "r"
    }
   },
   "outputs": [],
   "source": [
    "mdv <- read.table(\"~/Desktop/H4H/INTERCEPT/analysis/GLIPH/run_gliph/v5/raw_input/MarkDavis_TumorEnrichedTRB-CDR3_v4.tsv\", sep = \"\\t\", header = T, stringsAsFactors = F)\n",
    "\n",
    "vdj <- read.table(\"~/Desktop/H4H/INTERCEPT/analysis/GLIPH/run_gliph/v5/raw_input/VDJdb_MinimalScoreConfidence3_VersionII_v4.tsv\", sep = \"\\t\", header = T, stringsAsFactors = F)\n",
    "\n",
    "emerson <- readr::read_rds(\"~/Desktop/H4H/INTERCEPT/analysis/GLIPH/run_gliph/Emerson/emerson_gliph_input.rds\")\n",
    "\n",
    "vdj_simple <- data.frame(\n",
    "    CDR3b = vdj$CDR3b,\n",
    "    TRBV = vdj$TRBV,\n",
    "    TRBJ = vdj$TRBJ,\n",
    "    CDR3a = NA,\n",
    "    subject.condition = paste0(vdj$Epitope.species, \":\", vdj$Epitope.gene, \"_\", vdj$Epitope),\n",
    "    count = 1\n",
    ")\n",
    "\n",
    "emerson$CDR3a <- NA\n",
    "emerson$`subject:condition` <- paste0(\"Emerson\", \":\", emerson$sample_id)\n",
    "emerson$count <- emerson$clonecount\n",
    "emerson$clonecount <- NULL\n",
    "emerson$sample_id <- NULL\n",
    "emerson$file <- NULL\n",
    "\n",
    "colnames(mdv)[colnames(mdv) == \"subject.condition\"] <- \"subject:condition\"\n",
    "colnames(vdj_simple)[colnames(vdj_simple) == \"subject.condition\"] <- \"subject:condition\"\n",
    "\n",
    "gliphinput_emerson_vdj_mdv <- rbind(emerson, vdj_simple, mdv)\n",
    "\n",
    "write.table(gliphinput_emerson_vdj_mdv,\n",
    "    file = \"~/Desktop/H4H/INTERCEPT/analysis/GLIPH/run_gliph/Emerson/gliphinput_emerson_vdj_mdv.txt\",\n",
    "    sep = \"\\t\", row.names = FALSE, col.names = FALSE, quote = FALSE\n",
    ")\n"
   ]
  },
  {
   "cell_type": "code",
   "execution_count": 77,
   "metadata": {
    "vscode": {
     "languageId": "r"
    }
   },
   "outputs": [],
   "source": [
    "vdj <- read.table(\"~/Desktop/H4H/INTERCEPT/analysis/GLIPH/run_gliph/v5/raw_input/VDJdb_MinimalScoreConfidence3_VersionII_v4.tsv\", sep = \"\\t\", header = T, stringsAsFactors = F)\n"
   ]
  },
  {
   "cell_type": "code",
   "execution_count": 86,
   "metadata": {
    "vscode": {
     "languageId": "r"
    }
   },
   "outputs": [
    {
     "data": {
      "text/plain": [
       "\n",
       "           CEF            CMV           DENV            EBV            HCV \n",
       "             2            309              1            324             68 \n",
       "           HPV         HTLV-1    HomoSapiens      Influenza M.tuberculosis \n",
       "           189              2            902             33              2 \n",
       "         MCPyV   S-pneumoniae \n",
       "           247            140 "
      ]
     },
     "metadata": {},
     "output_type": "display_data"
    }
   ],
   "source": [
    "table(vdj$Epitope.species)"
   ]
  },
  {
   "cell_type": "code",
   "execution_count": 87,
   "metadata": {
    "vscode": {
     "languageId": "r"
    }
   },
   "outputs": [
    {
     "data": {
      "text/html": [
       "<table class=\"dataframe\">\n",
       "<caption>A data.frame: 2 x 10</caption>\n",
       "<thead>\n",
       "\t<tr><th></th><th scope=col>Locus</th><th scope=col>CDR3b</th><th scope=col>TRBV</th><th scope=col>TRBJ</th><th scope=col>MHC</th><th scope=col>MHC.class</th><th scope=col>Epitope</th><th scope=col>Epitope.gene</th><th scope=col>Epitope.species</th><th scope=col>Reference</th></tr>\n",
       "\t<tr><th></th><th scope=col>&lt;chr&gt;</th><th scope=col>&lt;chr&gt;</th><th scope=col>&lt;chr&gt;</th><th scope=col>&lt;chr&gt;</th><th scope=col>&lt;chr&gt;</th><th scope=col>&lt;chr&gt;</th><th scope=col>&lt;chr&gt;</th><th scope=col>&lt;chr&gt;</th><th scope=col>&lt;chr&gt;</th><th scope=col>&lt;chr&gt;</th></tr>\n",
       "</thead>\n",
       "<tbody>\n",
       "\t<tr><th scope=row>1286</th><td>TRB</td><td>CASSQQETQYF    </td><td>TRBV12-3</td><td>TRBJ2-5</td><td>NA</td><td>NA</td><td>NA</td><td>NA</td><td>CEF</td><td>PMID:35508657</td></tr>\n",
       "\t<tr><th scope=row>1287</th><td>TRB</td><td>CSARDHTGSAEKLFF</td><td>TRBV20-1</td><td>TRBJ1-4</td><td>NA</td><td>NA</td><td>NA</td><td>NA</td><td>CEF</td><td>PMID:35508657</td></tr>\n",
       "</tbody>\n",
       "</table>\n"
      ],
      "text/latex": [
       "A data.frame: 2 x 10\n",
       "\\begin{tabular}{r|llllllllll}\n",
       "  & Locus & CDR3b & TRBV & TRBJ & MHC & MHC.class & Epitope & Epitope.gene & Epitope.species & Reference\\\\\n",
       "  & <chr> & <chr> & <chr> & <chr> & <chr> & <chr> & <chr> & <chr> & <chr> & <chr>\\\\\n",
       "\\hline\n",
       "\t1286 & TRB & CASSQQETQYF     & TRBV12-3 & TRBJ2-5 & NA & NA & NA & NA & CEF & PMID:35508657\\\\\n",
       "\t1287 & TRB & CSARDHTGSAEKLFF & TRBV20-1 & TRBJ1-4 & NA & NA & NA & NA & CEF & PMID:35508657\\\\\n",
       "\\end{tabular}\n"
      ],
      "text/markdown": [
       "\n",
       "A data.frame: 2 x 10\n",
       "\n",
       "| <!--/--> | Locus &lt;chr&gt; | CDR3b &lt;chr&gt; | TRBV &lt;chr&gt; | TRBJ &lt;chr&gt; | MHC &lt;chr&gt; | MHC.class &lt;chr&gt; | Epitope &lt;chr&gt; | Epitope.gene &lt;chr&gt; | Epitope.species &lt;chr&gt; | Reference &lt;chr&gt; |\n",
       "|---|---|---|---|---|---|---|---|---|---|---|\n",
       "| 1286 | TRB | CASSQQETQYF     | TRBV12-3 | TRBJ2-5 | NA | NA | NA | NA | CEF | PMID:35508657 |\n",
       "| 1287 | TRB | CSARDHTGSAEKLFF | TRBV20-1 | TRBJ1-4 | NA | NA | NA | NA | CEF | PMID:35508657 |\n",
       "\n"
      ],
      "text/plain": [
       "     Locus CDR3b           TRBV     TRBJ    MHC MHC.class Epitope Epitope.gene\n",
       "1286 TRB   CASSQQETQYF     TRBV12-3 TRBJ2-5 NA  NA        NA      NA          \n",
       "1287 TRB   CSARDHTGSAEKLFF TRBV20-1 TRBJ1-4 NA  NA        NA      NA          \n",
       "     Epitope.species Reference    \n",
       "1286 CEF             PMID:35508657\n",
       "1287 CEF             PMID:35508657"
      ]
     },
     "metadata": {},
     "output_type": "display_data"
    }
   ],
   "source": [
    "vdj[ vdj$Epitope.species == \"CEF\",]"
   ]
  },
  {
   "cell_type": "code",
   "execution_count": 63,
   "metadata": {
    "vscode": {
     "languageId": "r"
    }
   },
   "outputs": [
    {
     "data": {
      "text/html": [
       "<table class=\"dataframe\">\n",
       "<caption>A data.frame: 6 x 6</caption>\n",
       "<thead>\n",
       "\t<tr><th></th><th scope=col>CDR3b</th><th scope=col>TRBV</th><th scope=col>TRBJ</th><th scope=col>CDR3a</th><th scope=col>subject:condition</th><th scope=col>count</th></tr>\n",
       "\t<tr><th></th><th scope=col>&lt;chr&gt;</th><th scope=col>&lt;chr&gt;</th><th scope=col>&lt;chr&gt;</th><th scope=col>&lt;lgl&gt;</th><th scope=col>&lt;chr&gt;</th><th scope=col>&lt;dbl&gt;</th></tr>\n",
       "</thead>\n",
       "<tbody>\n",
       "\t<tr><th scope=row>177851</th><td>CASSLGGGPFNEQFF  </td><td>TRBV04-01</td><td>TRBJ02-01</td><td>NA</td><td>Emerson:P00404</td><td>7807</td></tr>\n",
       "\t<tr><th scope=row>176257</th><td>CASSQDPLRPWDEKLFF</td><td>TRBV04-01</td><td>TRBJ01-04</td><td>NA</td><td>Emerson:P00404</td><td>6319</td></tr>\n",
       "\t<tr><th scope=row>286708</th><td>CASSYWTPRSGANVLTF</td><td>TRBV06   </td><td>TRBJ02-06</td><td>NA</td><td>Emerson:P00404</td><td>6164</td></tr>\n",
       "\t<tr><th scope=row>135166</th><td>CASSDDSSGANVLTF  </td><td>TRBV06-04</td><td>TRBJ02-06</td><td>NA</td><td>Emerson:P00404</td><td>3969</td></tr>\n",
       "\t<tr><th scope=row>249594</th><td>CASTWTGSSYNEQFF  </td><td>TRBV05-01</td><td>TRBJ02-01</td><td>NA</td><td>Emerson:P00404</td><td>3930</td></tr>\n",
       "\t<tr><th scope=row>219063</th><td>CASSPDGPLEQYF    </td><td>TRBV05-04</td><td>TRBJ02-07</td><td>NA</td><td>Emerson:P00404</td><td>3473</td></tr>\n",
       "</tbody>\n",
       "</table>\n"
      ],
      "text/latex": [
       "A data.frame: 6 x 6\n",
       "\\begin{tabular}{r|llllll}\n",
       "  & CDR3b & TRBV & TRBJ & CDR3a & subject:condition & count\\\\\n",
       "  & <chr> & <chr> & <chr> & <lgl> & <chr> & <dbl>\\\\\n",
       "\\hline\n",
       "\t177851 & CASSLGGGPFNEQFF   & TRBV04-01 & TRBJ02-01 & NA & Emerson:P00404 & 7807\\\\\n",
       "\t176257 & CASSQDPLRPWDEKLFF & TRBV04-01 & TRBJ01-04 & NA & Emerson:P00404 & 6319\\\\\n",
       "\t286708 & CASSYWTPRSGANVLTF & TRBV06    & TRBJ02-06 & NA & Emerson:P00404 & 6164\\\\\n",
       "\t135166 & CASSDDSSGANVLTF   & TRBV06-04 & TRBJ02-06 & NA & Emerson:P00404 & 3969\\\\\n",
       "\t249594 & CASTWTGSSYNEQFF   & TRBV05-01 & TRBJ02-01 & NA & Emerson:P00404 & 3930\\\\\n",
       "\t219063 & CASSPDGPLEQYF     & TRBV05-04 & TRBJ02-07 & NA & Emerson:P00404 & 3473\\\\\n",
       "\\end{tabular}\n"
      ],
      "text/markdown": [
       "\n",
       "A data.frame: 6 x 6\n",
       "\n",
       "| <!--/--> | CDR3b &lt;chr&gt; | TRBV &lt;chr&gt; | TRBJ &lt;chr&gt; | CDR3a &lt;lgl&gt; | subject:condition &lt;chr&gt; | count &lt;dbl&gt; |\n",
       "|---|---|---|---|---|---|---|\n",
       "| 177851 | CASSLGGGPFNEQFF   | TRBV04-01 | TRBJ02-01 | NA | Emerson:P00404 | 7807 |\n",
       "| 176257 | CASSQDPLRPWDEKLFF | TRBV04-01 | TRBJ01-04 | NA | Emerson:P00404 | 6319 |\n",
       "| 286708 | CASSYWTPRSGANVLTF | TRBV06    | TRBJ02-06 | NA | Emerson:P00404 | 6164 |\n",
       "| 135166 | CASSDDSSGANVLTF   | TRBV06-04 | TRBJ02-06 | NA | Emerson:P00404 | 3969 |\n",
       "| 249594 | CASTWTGSSYNEQFF   | TRBV05-01 | TRBJ02-01 | NA | Emerson:P00404 | 3930 |\n",
       "| 219063 | CASSPDGPLEQYF     | TRBV05-04 | TRBJ02-07 | NA | Emerson:P00404 | 3473 |\n",
       "\n"
      ],
      "text/plain": [
       "       CDR3b             TRBV      TRBJ      CDR3a subject:condition count\n",
       "177851 CASSLGGGPFNEQFF   TRBV04-01 TRBJ02-01 NA    Emerson:P00404    7807 \n",
       "176257 CASSQDPLRPWDEKLFF TRBV04-01 TRBJ01-04 NA    Emerson:P00404    6319 \n",
       "286708 CASSYWTPRSGANVLTF TRBV06    TRBJ02-06 NA    Emerson:P00404    6164 \n",
       "135166 CASSDDSSGANVLTF   TRBV06-04 TRBJ02-06 NA    Emerson:P00404    3969 \n",
       "249594 CASTWTGSSYNEQFF   TRBV05-01 TRBJ02-01 NA    Emerson:P00404    3930 \n",
       "219063 CASSPDGPLEQYF     TRBV05-04 TRBJ02-07 NA    Emerson:P00404    3473 "
      ]
     },
     "metadata": {},
     "output_type": "display_data"
    }
   ],
   "source": [
    "head(gliphinput_emerson_vdj_mdv)"
   ]
  },
  {
   "cell_type": "code",
   "execution_count": null,
   "metadata": {
    "vscode": {
     "languageId": "r"
    }
   },
   "outputs": [],
   "source": []
  },
  {
   "cell_type": "code",
   "execution_count": 64,
   "metadata": {
    "vscode": {
     "languageId": "r"
    }
   },
   "outputs": [
    {
     "data": {
      "text/html": [
       "<style>\n",
       ".list-inline {list-style: none; margin:0; padding: 0}\n",
       ".list-inline>li {display: inline-block}\n",
       ".list-inline>li:not(:last-child)::after {content: \"\\00b7\"; padding: 0 .5ex}\n",
       "</style>\n",
       "<ol class=list-inline><li>'allAdaptive'</li><li>'datapath'</li><li>'emerson'</li><li>'emerson_child'</li><li>'emersonpath'</li><li>'gitpath'</li><li>'gliphinput_emerson_vdj_mdv'</li><li>'h4hpath'</li><li>'hend'</li><li>'hend_samples'</li><li>'hendpath'</li><li>'i'</li><li>'manifestpath'</li><li>'mdv'</li><li>'meta_div'</li><li>'onefle'</li><li>'plotpath'</li><li>'vdj'</li><li>'vdj_simple'</li></ol>\n"
      ],
      "text/latex": [
       "\\begin{enumerate*}\n",
       "\\item 'allAdaptive'\n",
       "\\item 'datapath'\n",
       "\\item 'emerson'\n",
       "\\item 'emerson\\_child'\n",
       "\\item 'emersonpath'\n",
       "\\item 'gitpath'\n",
       "\\item 'gliphinput\\_emerson\\_vdj\\_mdv'\n",
       "\\item 'h4hpath'\n",
       "\\item 'hend'\n",
       "\\item 'hend\\_samples'\n",
       "\\item 'hendpath'\n",
       "\\item 'i'\n",
       "\\item 'manifestpath'\n",
       "\\item 'mdv'\n",
       "\\item 'meta\\_div'\n",
       "\\item 'onefle'\n",
       "\\item 'plotpath'\n",
       "\\item 'vdj'\n",
       "\\item 'vdj\\_simple'\n",
       "\\end{enumerate*}\n"
      ],
      "text/markdown": [
       "1. 'allAdaptive'\n",
       "2. 'datapath'\n",
       "3. 'emerson'\n",
       "4. 'emerson_child'\n",
       "5. 'emersonpath'\n",
       "6. 'gitpath'\n",
       "7. 'gliphinput_emerson_vdj_mdv'\n",
       "8. 'h4hpath'\n",
       "9. 'hend'\n",
       "10. 'hend_samples'\n",
       "11. 'hendpath'\n",
       "12. 'i'\n",
       "13. 'manifestpath'\n",
       "14. 'mdv'\n",
       "15. 'meta_div'\n",
       "16. 'onefle'\n",
       "17. 'plotpath'\n",
       "18. 'vdj'\n",
       "19. 'vdj_simple'\n",
       "\n",
       "\n"
      ],
      "text/plain": [
       " [1] \"allAdaptive\"                \"datapath\"                  \n",
       " [3] \"emerson\"                    \"emerson_child\"             \n",
       " [5] \"emersonpath\"                \"gitpath\"                   \n",
       " [7] \"gliphinput_emerson_vdj_mdv\" \"h4hpath\"                   \n",
       " [9] \"hend\"                       \"hend_samples\"              \n",
       "[11] \"hendpath\"                   \"i\"                         \n",
       "[13] \"manifestpath\"               \"mdv\"                       \n",
       "[15] \"meta_div\"                   \"onefle\"                    \n",
       "[17] \"plotpath\"                   \"vdj\"                       \n",
       "[19] \"vdj_simple\"                "
      ]
     },
     "metadata": {},
     "output_type": "display_data"
    }
   ],
   "source": [
    "ls()"
   ]
  },
  {
   "cell_type": "code",
   "execution_count": null,
   "metadata": {
    "vscode": {
     "languageId": "r"
    }
   },
   "outputs": [],
   "source": []
  },
  {
   "attachments": {},
   "cell_type": "markdown",
   "metadata": {
    "vscode": {
     "languageId": "r"
    }
   },
   "source": [
    "# Backup"
   ]
  },
  {
   "attachments": {},
   "cell_type": "markdown",
   "metadata": {},
   "source": [
    "## Only PBMC"
   ]
  },
  {
   "cell_type": "code",
   "execution_count": 27,
   "metadata": {
    "vscode": {
     "languageId": "r"
    }
   },
   "outputs": [],
   "source": [
    "#only PBMC\n",
    "file_df_dedup_trb <- file_df_dedup_trb[ grepl(\"PBMC\", file_df_dedup_trb$samplename), ]"
   ]
  },
  {
   "attachments": {},
   "cell_type": "markdown",
   "metadata": {},
   "source": [
    "## Only 01 and LFS"
   ]
  },
  {
   "cell_type": "code",
   "execution_count": 28,
   "metadata": {
    "vscode": {
     "languageId": "r"
    }
   },
   "outputs": [],
   "source": [
    "lfs <- file_df_dedup_trb[ grepl(\"LFS\", file_df_dedup_trb$samplename), ]\n",
    "file_df_dedup_trb <- file_df_dedup_trb[ grepl(\"-01\", file_df_dedup_trb$samplename), ]"
   ]
  },
  {
   "cell_type": "code",
   "execution_count": 29,
   "metadata": {
    "vscode": {
     "languageId": "r"
    }
   },
   "outputs": [],
   "source": [
    "file_df_dedup_trb <- rbind(file_df_dedup_trb, lfs)"
   ]
  },
  {
   "cell_type": "code",
   "execution_count": 31,
   "metadata": {
    "vscode": {
     "languageId": "r"
    }
   },
   "outputs": [
    {
     "name": "stdout",
     "output_type": "stream",
     "text": [
      "                   CDR3b     TRBV    TRBJ             subject\n",
      "  1:      CAIEGSSYNSPLHF TRBV10-3 TRBJ1-6 CHP_350-01-PBMC-DNA\n",
      "  2:       CASFDGGGVGAFF TRBV25-1 TRBJ1-1 CHP_350-01-PBMC-DNA\n",
      "  3:        CASGASYNEQFF TRBV12-4 TRBJ2-1 CHP_350-01-PBMC-DNA\n",
      "  4:       CASGHSSYNEQFF  TRBV5-6 TRBJ2-1 CHP_350-01-PBMC-DNA\n",
      "  5:      CASNLKGRVGGYTF   TRBV28 TRBJ1-2 CHP_350-01-PBMC-DNA\n",
      " ---                                                         \n",
      "149:     CSATSGRAIVDEQFF TRBV20-1 TRBJ2-1 CHP_350-01-PBMC-DNA\n",
      "150:       CSAWDGGSYEQYF TRBV20-1 TRBJ2-7 CHP_350-01-PBMC-DNA\n",
      "151:       CSGKQGMNTEAFF TRBV29-1 TRBJ1-1 CHP_350-01-PBMC-DNA\n",
      "152: CSVETTAAGGPSSYNEQFF TRBV29-1 TRBJ2-1 CHP_350-01-PBMC-DNA\n",
      "153:       CTTGGLGSYGYTF TRBV20-1 TRBJ1-2 CHP_350-01-PBMC-DNA\n",
      "                                                                                                                 file\n",
      "  1: /Users/anabbi/Desktop/H4H/INTERCEPT/NextSeq/batch_reseq_24Feb2020/mixcr/clones/CLONES_TRBCHP_350-01-PBMC-DNA.txt\n",
      "  2: /Users/anabbi/Desktop/H4H/INTERCEPT/NextSeq/batch_reseq_24Feb2020/mixcr/clones/CLONES_TRBCHP_350-01-PBMC-DNA.txt\n",
      "  3: /Users/anabbi/Desktop/H4H/INTERCEPT/NextSeq/batch_reseq_24Feb2020/mixcr/clones/CLONES_TRBCHP_350-01-PBMC-DNA.txt\n",
      "  4: /Users/anabbi/Desktop/H4H/INTERCEPT/NextSeq/batch_reseq_24Feb2020/mixcr/clones/CLONES_TRBCHP_350-01-PBMC-DNA.txt\n",
      "  5: /Users/anabbi/Desktop/H4H/INTERCEPT/NextSeq/batch_reseq_24Feb2020/mixcr/clones/CLONES_TRBCHP_350-01-PBMC-DNA.txt\n",
      " ---                                                                                                                 \n",
      "149: /Users/anabbi/Desktop/H4H/INTERCEPT/NextSeq/batch_reseq_24Feb2020/mixcr/clones/CLONES_TRBCHP_350-01-PBMC-DNA.txt\n",
      "150: /Users/anabbi/Desktop/H4H/INTERCEPT/NextSeq/batch_reseq_24Feb2020/mixcr/clones/CLONES_TRBCHP_350-01-PBMC-DNA.txt\n",
      "151: /Users/anabbi/Desktop/H4H/INTERCEPT/NextSeq/batch_reseq_24Feb2020/mixcr/clones/CLONES_TRBCHP_350-01-PBMC-DNA.txt\n",
      "152: /Users/anabbi/Desktop/H4H/INTERCEPT/NextSeq/batch_reseq_24Feb2020/mixcr/clones/CLONES_TRBCHP_350-01-PBMC-DNA.txt\n",
      "153: /Users/anabbi/Desktop/H4H/INTERCEPT/NextSeq/batch_reseq_24Feb2020/mixcr/clones/CLONES_TRBCHP_350-01-PBMC-DNA.txt\n",
      "     count\n",
      "  1:     9\n",
      "  2:    11\n",
      "  3:     5\n",
      "  4:     6\n",
      "  5:    12\n",
      " ---      \n",
      "149:    12\n",
      "150:    13\n",
      "151:    10\n",
      "152:     6\n",
      "153:    13\n",
      "               CDR3b     TRBV    TRBJ             subject\n",
      "1:      CASGVGASIQYF  TRBV3-1 TRBJ2-4 CHP_354-01-PBMC-DNA\n",
      "2:   CASSFNEGLVQPQHF   TRBV28 TRBJ1-5 CHP_354-01-PBMC-DNA\n",
      "3:   CASSFTAADQETQYF  TRBV6-5 TRBJ2-5 CHP_354-01-PBMC-DNA\n",
      "4:  CASSLALSGADGELFF  TRBV7-9 TRBJ2-2 CHP_354-01-PBMC-DNA\n",
      "5:    CASSLGGANYGYTF TRBV12-3 TRBJ1-2 CHP_354-01-PBMC-DNA\n",
      "6: CASSYPDSGSSTDTQYF  TRBV6-6 TRBJ2-3 CHP_354-01-PBMC-DNA\n",
      "                                                                                                               file\n",
      "1: /Users/anabbi/Desktop/H4H/INTERCEPT/NextSeq/batch_reseq_24Feb2020/mixcr/clones/CLONES_TRBCHP_354-01-PBMC-DNA.txt\n",
      "2: /Users/anabbi/Desktop/H4H/INTERCEPT/NextSeq/batch_reseq_24Feb2020/mixcr/clones/CLONES_TRBCHP_354-01-PBMC-DNA.txt\n",
      "3: /Users/anabbi/Desktop/H4H/INTERCEPT/NextSeq/batch_reseq_24Feb2020/mixcr/clones/CLONES_TRBCHP_354-01-PBMC-DNA.txt\n",
      "4: /Users/anabbi/Desktop/H4H/INTERCEPT/NextSeq/batch_reseq_24Feb2020/mixcr/clones/CLONES_TRBCHP_354-01-PBMC-DNA.txt\n",
      "5: /Users/anabbi/Desktop/H4H/INTERCEPT/NextSeq/batch_reseq_24Feb2020/mixcr/clones/CLONES_TRBCHP_354-01-PBMC-DNA.txt\n",
      "6: /Users/anabbi/Desktop/H4H/INTERCEPT/NextSeq/batch_reseq_24Feb2020/mixcr/clones/CLONES_TRBCHP_354-01-PBMC-DNA.txt\n",
      "   count\n",
      "1:    53\n",
      "2:    45\n",
      "3:    41\n",
      "4:     7\n",
      "5:    17\n",
      "6:    17\n",
      "               CDR3b     TRBV    TRBJ             subject\n",
      "  1: CAISESELSFLEQFF TRBV10-3 TRBJ2-1 CHP_366-01-PBMC-DNA\n",
      "  2:    CAISGDRAEAFF TRBV10-3 TRBJ1-1 CHP_366-01-PBMC-DNA\n",
      "  3: CAISVGAGVTDEQFF TRBV10-3 TRBJ2-1 CHP_366-01-PBMC-DNA\n",
      "  4:  CARSLRFLNQPQHF  TRBV5-3 TRBJ1-5 CHP_366-01-PBMC-DNA\n",
      "  5:      CASGGTEAFF  TRBV6-5 TRBJ1-1 CHP_366-01-PBMC-DNA\n",
      " ---                                                     \n",
      "123:  CSAYSGTSAYEQYF TRBV20-1 TRBJ2-7 CHP_366-01-PBMC-DNA\n",
      "124: CSVANWQGMRAEAFF TRBV29-1 TRBJ1-1 CHP_366-01-PBMC-DNA\n",
      "125:   CSVEETSGETQYF TRBV29-1 TRBJ2-5 CHP_366-01-PBMC-DNA\n",
      "126:     CSVESTDTQYF TRBV29-1 TRBJ2-3 CHP_366-01-PBMC-DNA\n",
      "127:   SASSLAGGYEQYF  TRBV5-4 TRBJ2-7 CHP_366-01-PBMC-DNA\n",
      "                                                                                                                 file\n",
      "  1: /Users/anabbi/Desktop/H4H/INTERCEPT/NextSeq/batch_reseq_24Feb2020/mixcr/clones/CLONES_TRBCHP_366-01-PBMC-DNA.txt\n",
      "  2: /Users/anabbi/Desktop/H4H/INTERCEPT/NextSeq/batch_reseq_24Feb2020/mixcr/clones/CLONES_TRBCHP_366-01-PBMC-DNA.txt\n",
      "  3: /Users/anabbi/Desktop/H4H/INTERCEPT/NextSeq/batch_reseq_24Feb2020/mixcr/clones/CLONES_TRBCHP_366-01-PBMC-DNA.txt\n",
      "  4: /Users/anabbi/Desktop/H4H/INTERCEPT/NextSeq/batch_reseq_24Feb2020/mixcr/clones/CLONES_TRBCHP_366-01-PBMC-DNA.txt\n",
      "  5: /Users/anabbi/Desktop/H4H/INTERCEPT/NextSeq/batch_reseq_24Feb2020/mixcr/clones/CLONES_TRBCHP_366-01-PBMC-DNA.txt\n",
      " ---                                                                                                                 \n",
      "123: /Users/anabbi/Desktop/H4H/INTERCEPT/NextSeq/batch_reseq_24Feb2020/mixcr/clones/CLONES_TRBCHP_366-01-PBMC-DNA.txt\n",
      "124: /Users/anabbi/Desktop/H4H/INTERCEPT/NextSeq/batch_reseq_24Feb2020/mixcr/clones/CLONES_TRBCHP_366-01-PBMC-DNA.txt\n",
      "125: /Users/anabbi/Desktop/H4H/INTERCEPT/NextSeq/batch_reseq_24Feb2020/mixcr/clones/CLONES_TRBCHP_366-01-PBMC-DNA.txt\n",
      "126: /Users/anabbi/Desktop/H4H/INTERCEPT/NextSeq/batch_reseq_24Feb2020/mixcr/clones/CLONES_TRBCHP_366-01-PBMC-DNA.txt\n",
      "127: /Users/anabbi/Desktop/H4H/INTERCEPT/NextSeq/batch_reseq_24Feb2020/mixcr/clones/CLONES_TRBCHP_366-01-PBMC-DNA.txt\n",
      "     count\n",
      "  1:    29\n",
      "  2:    91\n",
      "  3:    92\n",
      "  4:     3\n",
      "  5:    46\n",
      " ---      \n",
      "123:    28\n",
      "124:    22\n",
      "125:    15\n",
      "126:    18\n",
      "127:     1\n",
      "                  CDR3b     TRBV    TRBJ             subject\n",
      " 1:      CASGTALGYNEQFF TRBV10-1 TRBJ2-1 CHP_367-01-PBMC-DNA\n",
      " 2:     CASILSGSTDGELFF  TRBV7-9 TRBJ2-2 CHP_367-01-PBMC-DNA\n",
      " 3:      CASIRGGDKEKLFF TRBV11-1 TRBJ1-4 CHP_367-01-PBMC-DNA\n",
      " 4:      CASIRGGDKEKLFF  TRBV5-2 TRBJ1-4 CHP_367-01-PBMC-DNA\n",
      " 5:       CASKGQGLSPYTF  TRBV4-1 TRBJ1-2 CHP_367-01-PBMC-DNA\n",
      " 6:    CASSARDGSSGNTIYF    TRBV9 TRBJ1-3 CHP_367-01-PBMC-DNA\n",
      " 7:      CASSDWDREYEQYF  TRBV5-4 TRBJ2-7 CHP_367-01-PBMC-DNA\n",
      " 8: CASSELGLYGQGAGYGYTF  TRBV6-1 TRBJ1-2 CHP_367-01-PBMC-DNA\n",
      " 9:      CASSFQQGSHEQYF   TRBV27 TRBJ2-7 CHP_367-01-PBMC-DNA\n",
      "10:    CASSGERQGAGNTIYF  TRBV7-9 TRBJ1-3 CHP_367-01-PBMC-DNA\n",
      "11:    CASSGERQGAGNTIYL  TRBV7-9 TRBJ1-3 CHP_367-01-PBMC-DNA\n",
      "12:  CASSIDGRRAGGPYEQYF   TRBV19 TRBJ2-7 CHP_367-01-PBMC-DNA\n",
      "13:       CASSLDDYQPQHF  TRBV7-2 TRBJ1-5 CHP_367-01-PBMC-DNA\n",
      "14:      CASSLNPMNTEAFF TRBV12-3 TRBJ1-1 CHP_367-01-PBMC-DNA\n",
      "15:   CASSLRVSGGRGNTIYF  TRBV5-1 TRBJ1-3 CHP_367-01-PBMC-DNA\n",
      "16:    CASSLSAGWENYGYTF   TRBV27 TRBJ1-2 CHP_367-01-PBMC-DNA\n",
      "17:     CASSLTRTSFGEQYF TRBV12-3 TRBJ2-7 CHP_367-01-PBMC-DNA\n",
      "18:     CASSPGQGAKNIQYF  TRBV7-3 TRBJ2-4 CHP_367-01-PBMC-DNA\n",
      "19:      CASSPRYRAGELFF  TRBV7-2 TRBJ2-2 CHP_367-01-PBMC-DNA\n",
      "20: CASSQVGQGRRRSTDTQYF  TRBV3-1 TRBJ2-3 CHP_367-01-PBMC-DNA\n",
      "21:    CASSRDGTGANYGYTF  TRBV4-2 TRBJ1-2 CHP_367-01-PBMC-DNA\n",
      "22:       CASSRSGVAEQYF  TRBV6-5 TRBJ2-7 CHP_367-01-PBMC-DNA\n",
      "23:      CASSSWTGAREQYF   TRBV27 TRBJ2-7 CHP_367-01-PBMC-DNA\n",
      "24:     CASSTLAGDLKRQYF   TRBV18 TRBJ2-7 CHP_367-01-PBMC-DNA\n",
      "25:     CASSVMGGLPHEQYF    TRBV9 TRBJ2-7 CHP_367-01-PBMC-DNA\n",
      "26:     CASSVVRGGVTEAFF    TRBV9 TRBJ1-1 CHP_367-01-PBMC-DNA\n",
      "27:      CASSWGGPLNEQFF TRBV11-3 TRBJ2-1 CHP_367-01-PBMC-DNA\n",
      "28:       CASSYGADTEAFF  TRBV6-5 TRBJ1-1 CHP_367-01-PBMC-DNA\n",
      "29:         CASSYRDEQYF  TRBV6-6 TRBJ2-7 CHP_367-01-PBMC-DNA\n",
      "30:       CATSGRFQETQYF TRBV24-1 TRBJ2-5 CHP_367-01-PBMC-DNA\n",
      "31:      CATSRGLWNEKLFF   TRBV15 TRBJ1-4 CHP_367-01-PBMC-DNA\n",
      "32:     CATSRSTTGGNEQFF   TRBV15 TRBJ2-1 CHP_367-01-PBMC-DNA\n",
      "33:     CAWSISDRKNQPQHF   TRBV30 TRBJ1-5 CHP_367-01-PBMC-DNA\n",
      "34:       CAWSSLMNTEAFF   TRBV30 TRBJ1-1 CHP_367-01-PBMC-DNA\n",
      "35:      CSARDPGLNTEAFF TRBV20-1 TRBJ1-1 CHP_367-01-PBMC-DNA\n",
      "36:        CSGASLLYEQYF TRBV20-1 TRBJ2-7 CHP_367-01-PBMC-DNA\n",
      "37:        CSVIQGDTEAFF TRBV20-1 TRBJ1-1 CHP_367-01-PBMC-DNA\n",
      "38:   SASSLRVSGGRGNTIYF  TRBV5-1 TRBJ1-3 CHP_367-01-PBMC-DNA\n",
      "                  CDR3b     TRBV    TRBJ             subject\n",
      "                                                                                                                file\n",
      " 1: /Users/anabbi/Desktop/H4H/INTERCEPT/NextSeq/batch_reseq_24Feb2020/mixcr/clones/CLONES_TRBCHP_367-01-PBMC-DNA.txt\n",
      " 2: /Users/anabbi/Desktop/H4H/INTERCEPT/NextSeq/batch_reseq_24Feb2020/mixcr/clones/CLONES_TRBCHP_367-01-PBMC-DNA.txt\n",
      " 3: /Users/anabbi/Desktop/H4H/INTERCEPT/NextSeq/batch_reseq_24Feb2020/mixcr/clones/CLONES_TRBCHP_367-01-PBMC-DNA.txt\n",
      " 4: /Users/anabbi/Desktop/H4H/INTERCEPT/NextSeq/batch_reseq_24Feb2020/mixcr/clones/CLONES_TRBCHP_367-01-PBMC-DNA.txt\n",
      " 5: /Users/anabbi/Desktop/H4H/INTERCEPT/NextSeq/batch_reseq_24Feb2020/mixcr/clones/CLONES_TRBCHP_367-01-PBMC-DNA.txt\n",
      " 6: /Users/anabbi/Desktop/H4H/INTERCEPT/NextSeq/batch_reseq_24Feb2020/mixcr/clones/CLONES_TRBCHP_367-01-PBMC-DNA.txt\n",
      " 7: /Users/anabbi/Desktop/H4H/INTERCEPT/NextSeq/batch_reseq_24Feb2020/mixcr/clones/CLONES_TRBCHP_367-01-PBMC-DNA.txt\n",
      " 8: /Users/anabbi/Desktop/H4H/INTERCEPT/NextSeq/batch_reseq_24Feb2020/mixcr/clones/CLONES_TRBCHP_367-01-PBMC-DNA.txt\n",
      " 9: /Users/anabbi/Desktop/H4H/INTERCEPT/NextSeq/batch_reseq_24Feb2020/mixcr/clones/CLONES_TRBCHP_367-01-PBMC-DNA.txt\n",
      "10: /Users/anabbi/Desktop/H4H/INTERCEPT/NextSeq/batch_reseq_24Feb2020/mixcr/clones/CLONES_TRBCHP_367-01-PBMC-DNA.txt\n",
      "11: /Users/anabbi/Desktop/H4H/INTERCEPT/NextSeq/batch_reseq_24Feb2020/mixcr/clones/CLONES_TRBCHP_367-01-PBMC-DNA.txt\n",
      "12: /Users/anabbi/Desktop/H4H/INTERCEPT/NextSeq/batch_reseq_24Feb2020/mixcr/clones/CLONES_TRBCHP_367-01-PBMC-DNA.txt\n",
      "13: /Users/anabbi/Desktop/H4H/INTERCEPT/NextSeq/batch_reseq_24Feb2020/mixcr/clones/CLONES_TRBCHP_367-01-PBMC-DNA.txt\n",
      "14: /Users/anabbi/Desktop/H4H/INTERCEPT/NextSeq/batch_reseq_24Feb2020/mixcr/clones/CLONES_TRBCHP_367-01-PBMC-DNA.txt\n",
      "15: /Users/anabbi/Desktop/H4H/INTERCEPT/NextSeq/batch_reseq_24Feb2020/mixcr/clones/CLONES_TRBCHP_367-01-PBMC-DNA.txt\n",
      "16: /Users/anabbi/Desktop/H4H/INTERCEPT/NextSeq/batch_reseq_24Feb2020/mixcr/clones/CLONES_TRBCHP_367-01-PBMC-DNA.txt\n",
      "17: /Users/anabbi/Desktop/H4H/INTERCEPT/NextSeq/batch_reseq_24Feb2020/mixcr/clones/CLONES_TRBCHP_367-01-PBMC-DNA.txt\n",
      "18: /Users/anabbi/Desktop/H4H/INTERCEPT/NextSeq/batch_reseq_24Feb2020/mixcr/clones/CLONES_TRBCHP_367-01-PBMC-DNA.txt\n",
      "19: /Users/anabbi/Desktop/H4H/INTERCEPT/NextSeq/batch_reseq_24Feb2020/mixcr/clones/CLONES_TRBCHP_367-01-PBMC-DNA.txt\n",
      "20: /Users/anabbi/Desktop/H4H/INTERCEPT/NextSeq/batch_reseq_24Feb2020/mixcr/clones/CLONES_TRBCHP_367-01-PBMC-DNA.txt\n",
      "21: /Users/anabbi/Desktop/H4H/INTERCEPT/NextSeq/batch_reseq_24Feb2020/mixcr/clones/CLONES_TRBCHP_367-01-PBMC-DNA.txt\n",
      "22: /Users/anabbi/Desktop/H4H/INTERCEPT/NextSeq/batch_reseq_24Feb2020/mixcr/clones/CLONES_TRBCHP_367-01-PBMC-DNA.txt\n",
      "23: /Users/anabbi/Desktop/H4H/INTERCEPT/NextSeq/batch_reseq_24Feb2020/mixcr/clones/CLONES_TRBCHP_367-01-PBMC-DNA.txt\n",
      "24: /Users/anabbi/Desktop/H4H/INTERCEPT/NextSeq/batch_reseq_24Feb2020/mixcr/clones/CLONES_TRBCHP_367-01-PBMC-DNA.txt\n",
      "25: /Users/anabbi/Desktop/H4H/INTERCEPT/NextSeq/batch_reseq_24Feb2020/mixcr/clones/CLONES_TRBCHP_367-01-PBMC-DNA.txt\n",
      "26: /Users/anabbi/Desktop/H4H/INTERCEPT/NextSeq/batch_reseq_24Feb2020/mixcr/clones/CLONES_TRBCHP_367-01-PBMC-DNA.txt\n",
      "27: /Users/anabbi/Desktop/H4H/INTERCEPT/NextSeq/batch_reseq_24Feb2020/mixcr/clones/CLONES_TRBCHP_367-01-PBMC-DNA.txt\n",
      "28: /Users/anabbi/Desktop/H4H/INTERCEPT/NextSeq/batch_reseq_24Feb2020/mixcr/clones/CLONES_TRBCHP_367-01-PBMC-DNA.txt\n",
      "29: /Users/anabbi/Desktop/H4H/INTERCEPT/NextSeq/batch_reseq_24Feb2020/mixcr/clones/CLONES_TRBCHP_367-01-PBMC-DNA.txt\n",
      "30: /Users/anabbi/Desktop/H4H/INTERCEPT/NextSeq/batch_reseq_24Feb2020/mixcr/clones/CLONES_TRBCHP_367-01-PBMC-DNA.txt\n",
      "31: /Users/anabbi/Desktop/H4H/INTERCEPT/NextSeq/batch_reseq_24Feb2020/mixcr/clones/CLONES_TRBCHP_367-01-PBMC-DNA.txt\n",
      "32: /Users/anabbi/Desktop/H4H/INTERCEPT/NextSeq/batch_reseq_24Feb2020/mixcr/clones/CLONES_TRBCHP_367-01-PBMC-DNA.txt\n",
      "33: /Users/anabbi/Desktop/H4H/INTERCEPT/NextSeq/batch_reseq_24Feb2020/mixcr/clones/CLONES_TRBCHP_367-01-PBMC-DNA.txt\n",
      "34: /Users/anabbi/Desktop/H4H/INTERCEPT/NextSeq/batch_reseq_24Feb2020/mixcr/clones/CLONES_TRBCHP_367-01-PBMC-DNA.txt\n",
      "35: /Users/anabbi/Desktop/H4H/INTERCEPT/NextSeq/batch_reseq_24Feb2020/mixcr/clones/CLONES_TRBCHP_367-01-PBMC-DNA.txt\n",
      "36: /Users/anabbi/Desktop/H4H/INTERCEPT/NextSeq/batch_reseq_24Feb2020/mixcr/clones/CLONES_TRBCHP_367-01-PBMC-DNA.txt\n",
      "37: /Users/anabbi/Desktop/H4H/INTERCEPT/NextSeq/batch_reseq_24Feb2020/mixcr/clones/CLONES_TRBCHP_367-01-PBMC-DNA.txt\n",
      "38: /Users/anabbi/Desktop/H4H/INTERCEPT/NextSeq/batch_reseq_24Feb2020/mixcr/clones/CLONES_TRBCHP_367-01-PBMC-DNA.txt\n",
      "                                                                                                                file\n",
      "    count\n",
      " 1:    11\n",
      " 2:    12\n",
      " 3:     2\n",
      " 4:     1\n",
      " 5:    11\n",
      " 6:    12\n",
      " 7:    26\n",
      " 8:    49\n",
      " 9:     5\n",
      "10:    19\n",
      "11:     1\n",
      "12:    12\n",
      "13:    42\n",
      "14:    48\n",
      "15:    14\n",
      "16:     1\n",
      "17:    15\n",
      "18:     6\n",
      "19:    10\n",
      "20:    39\n",
      "21:     7\n",
      "22:     6\n",
      "23:    17\n",
      "24:     6\n",
      "25:     9\n",
      "26:    18\n",
      "27:     8\n",
      "28:    25\n",
      "29:    10\n",
      "30:     7\n",
      "31:     8\n",
      "32:     5\n",
      "33:    27\n",
      "34:    22\n",
      "35:     9\n",
      "36:    16\n",
      "37:    19\n",
      "38:     1\n",
      "    count\n",
      "             CDR3b    TRBV    TRBJ             subject\n",
      "1: CASSLPGPSRFGVYF TRBV7-2 TRBJ2-7 CHP_372-01-PBMC-DNA\n",
      "2:   CASSQEGHLEAFF TRBV4-3 TRBJ1-1 CHP_372-01-PBMC-DNA\n",
      "3: CASSQGVGGANVLTF TRBV4-3 TRBJ2-6 CHP_372-01-PBMC-DNA\n",
      "                                                                                                               file\n",
      "1: /Users/anabbi/Desktop/H4H/INTERCEPT/NextSeq/batch_reseq_24Feb2020/mixcr/clones/CLONES_TRBCHP_372-01-PBMC-DNA.txt\n",
      "2: /Users/anabbi/Desktop/H4H/INTERCEPT/NextSeq/batch_reseq_24Feb2020/mixcr/clones/CLONES_TRBCHP_372-01-PBMC-DNA.txt\n",
      "3: /Users/anabbi/Desktop/H4H/INTERCEPT/NextSeq/batch_reseq_24Feb2020/mixcr/clones/CLONES_TRBCHP_372-01-PBMC-DNA.txt\n",
      "   count\n",
      "1:    50\n",
      "2:   122\n",
      "3:   163\n",
      "                  CDR3b     TRBV    TRBJ             subject\n",
      " 1:       CAEFRQGVYEQYF TRBV24-1 TRBJ2-7 CHP_346-01-PBMC-DNA\n",
      " 2:       CASIGGAGSGYTF  TRBV6-1 TRBJ1-2 CHP_346-01-PBMC-DNA\n",
      " 3:      CASNLNGGGYGYTF    TRBV9 TRBJ1-2 CHP_346-01-PBMC-DNA\n",
      " 4:      CASREQGKDTEAFF   TRBV27 TRBJ1-1 CHP_346-01-PBMC-DNA\n",
      " 5:      CASRKTSGGVEQYF  TRBV6-6 TRBJ2-7 CHP_346-01-PBMC-DNA\n",
      " 6:     CASSDPGQGDEKLFF    TRBV2 TRBJ1-4 CHP_346-01-PBMC-DNA\n",
      " 7:         CASSELREQFF TRBV10-1 TRBJ2-1 CHP_346-01-PBMC-DNA\n",
      " 8:        CASSFAGDEQFF  TRBV5-1 TRBJ2-1 CHP_346-01-PBMC-DNA\n",
      " 9:      CASSGTATSYEQYF   TRBV19 TRBJ2-7 CHP_346-01-PBMC-DNA\n",
      "10:   CASSIVFGGGPYNEQFF   TRBV19 TRBJ2-1 CHP_346-01-PBMC-DNA\n",
      "11:    CASSLFSRSHTGELFF TRBV12-3 TRBJ2-2 CHP_346-01-PBMC-DNA\n",
      "12:    CASSLPGPKYADTQYF  TRBV7-6 TRBJ2-3 CHP_346-01-PBMC-DNA\n",
      "13:     CASSLRDRGLVEAFF  TRBV5-4 TRBJ1-1 CHP_346-01-PBMC-DNA\n",
      "14:      CASSPFWGGETQYF   TRBV18 TRBJ2-5 CHP_346-01-PBMC-DNA\n",
      "15:        CASSPNTGELFF   TRBV18 TRBJ2-2 CHP_346-01-PBMC-DNA\n",
      "16:       CASSQDLRYEQYF  TRBV4-1 TRBJ2-7 CHP_346-01-PBMC-DNA\n",
      "17:       CASSQDRGYGYTF  TRBV4-2 TRBJ1-2 CHP_346-01-PBMC-DNA\n",
      "18:    CASSQGHIGVSYEQYF  TRBV3-1 TRBJ2-7 CHP_346-01-PBMC-DNA\n",
      "19:   CASSQVPSPSSYNEQFF  TRBV4-1 TRBJ2-1 CHP_346-01-PBMC-DNA\n",
      "20:      CASSRDRGPYEQYF   TRBV18 TRBJ2-7 CHP_346-01-PBMC-DNA\n",
      "21:        CASSRVGYEQYF  TRBV6-5 TRBJ2-7 CHP_346-01-PBMC-DNA\n",
      "22:     CASSSNLAGAYEQYF  TRBV7-2 TRBJ2-7 CHP_346-01-PBMC-DNA\n",
      "23:      CASSVEGSGYGYTF    TRBV9 TRBJ1-2 CHP_346-01-PBMC-DNA\n",
      "24:       CASSYGQGSGYTF  TRBV3-1 TRBJ1-2 CHP_346-01-PBMC-DNA\n",
      "25:      CASSYPPGFGGYTF TRBV12-3 TRBJ1-2 CHP_346-01-PBMC-DNA\n",
      "26:       CATSPQGARVQYF TRBV24-1 TRBJ2-7 CHP_346-01-PBMC-DNA\n",
      "27:          CAWGRQKLFF   TRBV30 TRBJ1-4 CHP_346-01-PBMC-DNA\n",
      "28:         CAWKAIYEQYF   TRBV30 TRBJ2-7 CHP_346-01-PBMC-DNA\n",
      "29:        CSAGRREETQYF TRBV20-1 TRBJ2-5 CHP_346-01-PBMC-DNA\n",
      "30:          CSAKKDEQYF TRBV20-1 TRBJ2-7 CHP_346-01-PBMC-DNA\n",
      "31:     CSARAWRLRADTQYF TRBV20-1 TRBJ2-3 CHP_346-01-PBMC-DNA\n",
      "32:      CSARDLGTGTEAFF TRBV20-1 TRBJ1-1 CHP_346-01-PBMC-DNA\n",
      "33:        CSARLQGYTQYF TRBV20-1 TRBJ2-3 CHP_346-01-PBMC-DNA\n",
      "34: CSASDPLGGQYSYNSPLHF TRBV20-1 TRBJ1-6 CHP_346-01-PBMC-DNA\n",
      "35:      CSVDNPENFYGYTF TRBV29-1 TRBJ1-2 CHP_346-01-PBMC-DNA\n",
      "                  CDR3b     TRBV    TRBJ             subject\n",
      "                                                                                                          file\n",
      " 1: /Users/anabbi/Desktop/H4H/INTERCEPT/NextSeq/batch1_jul52019/mixcr/clones/CLONES_TRBCHP_346-01-PBMC-DNA.txt\n",
      " 2: /Users/anabbi/Desktop/H4H/INTERCEPT/NextSeq/batch1_jul52019/mixcr/clones/CLONES_TRBCHP_346-01-PBMC-DNA.txt\n",
      " 3: /Users/anabbi/Desktop/H4H/INTERCEPT/NextSeq/batch1_jul52019/mixcr/clones/CLONES_TRBCHP_346-01-PBMC-DNA.txt\n",
      " 4: /Users/anabbi/Desktop/H4H/INTERCEPT/NextSeq/batch1_jul52019/mixcr/clones/CLONES_TRBCHP_346-01-PBMC-DNA.txt\n",
      " 5: /Users/anabbi/Desktop/H4H/INTERCEPT/NextSeq/batch1_jul52019/mixcr/clones/CLONES_TRBCHP_346-01-PBMC-DNA.txt\n",
      " 6: /Users/anabbi/Desktop/H4H/INTERCEPT/NextSeq/batch1_jul52019/mixcr/clones/CLONES_TRBCHP_346-01-PBMC-DNA.txt\n",
      " 7: /Users/anabbi/Desktop/H4H/INTERCEPT/NextSeq/batch1_jul52019/mixcr/clones/CLONES_TRBCHP_346-01-PBMC-DNA.txt\n",
      " 8: /Users/anabbi/Desktop/H4H/INTERCEPT/NextSeq/batch1_jul52019/mixcr/clones/CLONES_TRBCHP_346-01-PBMC-DNA.txt\n",
      " 9: /Users/anabbi/Desktop/H4H/INTERCEPT/NextSeq/batch1_jul52019/mixcr/clones/CLONES_TRBCHP_346-01-PBMC-DNA.txt\n",
      "10: /Users/anabbi/Desktop/H4H/INTERCEPT/NextSeq/batch1_jul52019/mixcr/clones/CLONES_TRBCHP_346-01-PBMC-DNA.txt\n",
      "11: /Users/anabbi/Desktop/H4H/INTERCEPT/NextSeq/batch1_jul52019/mixcr/clones/CLONES_TRBCHP_346-01-PBMC-DNA.txt\n",
      "12: /Users/anabbi/Desktop/H4H/INTERCEPT/NextSeq/batch1_jul52019/mixcr/clones/CLONES_TRBCHP_346-01-PBMC-DNA.txt\n",
      "13: /Users/anabbi/Desktop/H4H/INTERCEPT/NextSeq/batch1_jul52019/mixcr/clones/CLONES_TRBCHP_346-01-PBMC-DNA.txt\n",
      "14: /Users/anabbi/Desktop/H4H/INTERCEPT/NextSeq/batch1_jul52019/mixcr/clones/CLONES_TRBCHP_346-01-PBMC-DNA.txt\n",
      "15: /Users/anabbi/Desktop/H4H/INTERCEPT/NextSeq/batch1_jul52019/mixcr/clones/CLONES_TRBCHP_346-01-PBMC-DNA.txt\n",
      "16: /Users/anabbi/Desktop/H4H/INTERCEPT/NextSeq/batch1_jul52019/mixcr/clones/CLONES_TRBCHP_346-01-PBMC-DNA.txt\n",
      "17: /Users/anabbi/Desktop/H4H/INTERCEPT/NextSeq/batch1_jul52019/mixcr/clones/CLONES_TRBCHP_346-01-PBMC-DNA.txt\n",
      "18: /Users/anabbi/Desktop/H4H/INTERCEPT/NextSeq/batch1_jul52019/mixcr/clones/CLONES_TRBCHP_346-01-PBMC-DNA.txt\n",
      "19: /Users/anabbi/Desktop/H4H/INTERCEPT/NextSeq/batch1_jul52019/mixcr/clones/CLONES_TRBCHP_346-01-PBMC-DNA.txt\n",
      "20: /Users/anabbi/Desktop/H4H/INTERCEPT/NextSeq/batch1_jul52019/mixcr/clones/CLONES_TRBCHP_346-01-PBMC-DNA.txt\n",
      "21: /Users/anabbi/Desktop/H4H/INTERCEPT/NextSeq/batch1_jul52019/mixcr/clones/CLONES_TRBCHP_346-01-PBMC-DNA.txt\n",
      "22: /Users/anabbi/Desktop/H4H/INTERCEPT/NextSeq/batch1_jul52019/mixcr/clones/CLONES_TRBCHP_346-01-PBMC-DNA.txt\n",
      "23: /Users/anabbi/Desktop/H4H/INTERCEPT/NextSeq/batch1_jul52019/mixcr/clones/CLONES_TRBCHP_346-01-PBMC-DNA.txt\n",
      "24: /Users/anabbi/Desktop/H4H/INTERCEPT/NextSeq/batch1_jul52019/mixcr/clones/CLONES_TRBCHP_346-01-PBMC-DNA.txt\n",
      "25: /Users/anabbi/Desktop/H4H/INTERCEPT/NextSeq/batch1_jul52019/mixcr/clones/CLONES_TRBCHP_346-01-PBMC-DNA.txt\n",
      "26: /Users/anabbi/Desktop/H4H/INTERCEPT/NextSeq/batch1_jul52019/mixcr/clones/CLONES_TRBCHP_346-01-PBMC-DNA.txt\n",
      "27: /Users/anabbi/Desktop/H4H/INTERCEPT/NextSeq/batch1_jul52019/mixcr/clones/CLONES_TRBCHP_346-01-PBMC-DNA.txt\n",
      "28: /Users/anabbi/Desktop/H4H/INTERCEPT/NextSeq/batch1_jul52019/mixcr/clones/CLONES_TRBCHP_346-01-PBMC-DNA.txt\n",
      "29: /Users/anabbi/Desktop/H4H/INTERCEPT/NextSeq/batch1_jul52019/mixcr/clones/CLONES_TRBCHP_346-01-PBMC-DNA.txt\n",
      "30: /Users/anabbi/Desktop/H4H/INTERCEPT/NextSeq/batch1_jul52019/mixcr/clones/CLONES_TRBCHP_346-01-PBMC-DNA.txt\n",
      "31: /Users/anabbi/Desktop/H4H/INTERCEPT/NextSeq/batch1_jul52019/mixcr/clones/CLONES_TRBCHP_346-01-PBMC-DNA.txt\n",
      "32: /Users/anabbi/Desktop/H4H/INTERCEPT/NextSeq/batch1_jul52019/mixcr/clones/CLONES_TRBCHP_346-01-PBMC-DNA.txt\n",
      "33: /Users/anabbi/Desktop/H4H/INTERCEPT/NextSeq/batch1_jul52019/mixcr/clones/CLONES_TRBCHP_346-01-PBMC-DNA.txt\n",
      "34: /Users/anabbi/Desktop/H4H/INTERCEPT/NextSeq/batch1_jul52019/mixcr/clones/CLONES_TRBCHP_346-01-PBMC-DNA.txt\n",
      "35: /Users/anabbi/Desktop/H4H/INTERCEPT/NextSeq/batch1_jul52019/mixcr/clones/CLONES_TRBCHP_346-01-PBMC-DNA.txt\n",
      "                                                                                                          file\n",
      "    count\n",
      " 1:    17\n",
      " 2:    46\n",
      " 3:    66\n",
      " 4:    11\n",
      " 5:    45\n",
      " 6:    55\n",
      " 7:    32\n",
      " 8:    17\n",
      " 9:    19\n",
      "10:    10\n",
      "11:    20\n",
      "12:    22\n",
      "13:    52\n",
      "14:    24\n",
      "15:    13\n",
      "16:     8\n",
      "17:    22\n",
      "18:    25\n",
      "19:    18\n",
      "20:    22\n",
      "21:    26\n",
      "22:    31\n",
      "23:    26\n",
      "24:    69\n",
      "25:    25\n",
      "26:    17\n",
      "27:    14\n",
      "28:    23\n",
      "29:    10\n",
      "30:    15\n",
      "31:    26\n",
      "32:    24\n",
      "33:    23\n",
      "34:    19\n",
      "35:    96\n",
      "    count\n",
      "                CDR3b     TRBV    TRBJ             subject\n",
      " 1:     CASGDGNTGELFF  TRBV7-9 TRBJ2-2 CHP_349-01-PBMC-DNA\n",
      " 2:      CASGRPPLEQFF  TRBV6-2 TRBJ2-1 CHP_349-01-PBMC-DNA\n",
      " 3:    CASRFGISYNEQFF  TRBV6-5 TRBJ2-1 CHP_349-01-PBMC-DNA\n",
      " 4:      CASRTDGNTIYF    TRBV2 TRBJ1-3 CHP_349-01-PBMC-DNA\n",
      " 5:   CASSFGQGPNEKLFF  TRBV7-2 TRBJ1-4 CHP_349-01-PBMC-DNA\n",
      " 6:   CASSFTPTWGDTQYF  TRBV7-2 TRBJ2-3 CHP_349-01-PBMC-DNA\n",
      " 7:       CASSHRGKRFF  TRBV3-1 TRBJ2-1 CHP_349-01-PBMC-DNA\n",
      " 8:  CASSLAGAASTDTQYF  TRBV5-1 TRBJ2-3 CHP_349-01-PBMC-DNA\n",
      " 9:      CASSLGVDEQYF TRBV12-3 TRBJ2-7 CHP_349-01-PBMC-DNA\n",
      "10:     CASSLQSTDTQYF  TRBV7-9 TRBJ2-3 CHP_349-01-PBMC-DNA\n",
      "11:   CASSPSLAGAETQYF  TRBV4-1 TRBJ2-5 CHP_349-01-PBMC-DNA\n",
      "12:   CASSPSREGTNEQFF   TRBV27 TRBJ2-1 CHP_349-01-PBMC-DNA\n",
      "13: CASSQVLGGDSNQPQHF  TRBV3-2 TRBJ1-5 CHP_349-01-PBMC-DNA\n",
      "14:  CASSSVTPIHTDTQYF TRBV12-4 TRBJ2-3 CHP_349-01-PBMC-DNA\n",
      "15:    CASSYTVTTDTQYF  TRBV6-9 TRBJ2-3 CHP_349-01-PBMC-DNA\n",
      "16:     CAWSSVEYNEQFF   TRBV30 TRBJ2-1 CHP_349-01-PBMC-DNA\n",
      "17:    CSAKSTGGSQPQHF TRBV20-1 TRBJ1-5 CHP_349-01-PBMC-DNA\n",
      "18:       WYPQGGNTIYF  TRBV7-7 TRBJ1-3 CHP_349-01-PBMC-DNA\n",
      "                                                                                                          file\n",
      " 1: /Users/anabbi/Desktop/H4H/INTERCEPT/NextSeq/batch1_jul52019/mixcr/clones/CLONES_TRBCHP_349-01-PBMC-DNA.txt\n",
      " 2: /Users/anabbi/Desktop/H4H/INTERCEPT/NextSeq/batch1_jul52019/mixcr/clones/CLONES_TRBCHP_349-01-PBMC-DNA.txt\n",
      " 3: /Users/anabbi/Desktop/H4H/INTERCEPT/NextSeq/batch1_jul52019/mixcr/clones/CLONES_TRBCHP_349-01-PBMC-DNA.txt\n",
      " 4: /Users/anabbi/Desktop/H4H/INTERCEPT/NextSeq/batch1_jul52019/mixcr/clones/CLONES_TRBCHP_349-01-PBMC-DNA.txt\n",
      " 5: /Users/anabbi/Desktop/H4H/INTERCEPT/NextSeq/batch1_jul52019/mixcr/clones/CLONES_TRBCHP_349-01-PBMC-DNA.txt\n",
      " 6: /Users/anabbi/Desktop/H4H/INTERCEPT/NextSeq/batch1_jul52019/mixcr/clones/CLONES_TRBCHP_349-01-PBMC-DNA.txt\n",
      " 7: /Users/anabbi/Desktop/H4H/INTERCEPT/NextSeq/batch1_jul52019/mixcr/clones/CLONES_TRBCHP_349-01-PBMC-DNA.txt\n",
      " 8: /Users/anabbi/Desktop/H4H/INTERCEPT/NextSeq/batch1_jul52019/mixcr/clones/CLONES_TRBCHP_349-01-PBMC-DNA.txt\n",
      " 9: /Users/anabbi/Desktop/H4H/INTERCEPT/NextSeq/batch1_jul52019/mixcr/clones/CLONES_TRBCHP_349-01-PBMC-DNA.txt\n",
      "10: /Users/anabbi/Desktop/H4H/INTERCEPT/NextSeq/batch1_jul52019/mixcr/clones/CLONES_TRBCHP_349-01-PBMC-DNA.txt\n",
      "11: /Users/anabbi/Desktop/H4H/INTERCEPT/NextSeq/batch1_jul52019/mixcr/clones/CLONES_TRBCHP_349-01-PBMC-DNA.txt\n",
      "12: /Users/anabbi/Desktop/H4H/INTERCEPT/NextSeq/batch1_jul52019/mixcr/clones/CLONES_TRBCHP_349-01-PBMC-DNA.txt\n",
      "13: /Users/anabbi/Desktop/H4H/INTERCEPT/NextSeq/batch1_jul52019/mixcr/clones/CLONES_TRBCHP_349-01-PBMC-DNA.txt\n",
      "14: /Users/anabbi/Desktop/H4H/INTERCEPT/NextSeq/batch1_jul52019/mixcr/clones/CLONES_TRBCHP_349-01-PBMC-DNA.txt\n",
      "15: /Users/anabbi/Desktop/H4H/INTERCEPT/NextSeq/batch1_jul52019/mixcr/clones/CLONES_TRBCHP_349-01-PBMC-DNA.txt\n",
      "16: /Users/anabbi/Desktop/H4H/INTERCEPT/NextSeq/batch1_jul52019/mixcr/clones/CLONES_TRBCHP_349-01-PBMC-DNA.txt\n",
      "17: /Users/anabbi/Desktop/H4H/INTERCEPT/NextSeq/batch1_jul52019/mixcr/clones/CLONES_TRBCHP_349-01-PBMC-DNA.txt\n",
      "18: /Users/anabbi/Desktop/H4H/INTERCEPT/NextSeq/batch1_jul52019/mixcr/clones/CLONES_TRBCHP_349-01-PBMC-DNA.txt\n",
      "    count\n",
      " 1:    68\n",
      " 2:    28\n",
      " 3:   176\n",
      " 4:   115\n",
      " 5:    43\n",
      " 6:    48\n",
      " 7:    53\n",
      " 8:    81\n",
      " 9:   104\n",
      "10:    40\n",
      "11:    13\n",
      "12:     9\n",
      "13:    75\n",
      "14:    39\n",
      "15:     5\n",
      "16:    15\n",
      "17:    58\n",
      "18:    65\n",
      "                CDR3b     TRBV    TRBJ             subject\n",
      " 1:    CASGWTGRQETQYF TRBV12-3 TRBJ2-5 CHP_352-01-PBMC-DNA\n",
      " 2:     CASNRGGGYGYTF    TRBV9 TRBJ1-2 CHP_352-01-PBMC-DNA\n",
      " 3:      CASRGGGDEQYV  TRBV6-1 TRBJ2-7 CHP_352-01-PBMC-DNA\n",
      " 4:      CASRVATFGYTF    TRBV2 TRBJ1-2 CHP_352-01-PBMC-DNA\n",
      " 5:  CASSLAWGLPPHEQYF  TRBV7-7 TRBJ2-7 CHP_352-01-PBMC-DNA\n",
      " 6:   CASSLRQGGRNEQFF  TRBV7-9 TRBJ2-1 CHP_352-01-PBMC-DNA\n",
      " 7:   CASSPYQGVDTEAFF   TRBV18 TRBJ1-1 CHP_352-01-PBMC-DNA\n",
      " 8:     CASSQDVREKLFF  TRBV3-1 TRBJ1-4 CHP_352-01-PBMC-DNA\n",
      " 9:   CASSQFSDRGNEAFF  TRBV4-2 TRBJ1-1 CHP_352-01-PBMC-DNA\n",
      "10:   CASSQGQGIGYTIYF   TRBV27 TRBJ1-3 CHP_352-01-PBMC-DNA\n",
      "11:    CASSRGHGGGTQYF  TRBV3-1 TRBJ2-5 CHP_352-01-PBMC-DNA\n",
      "12:       CASSSYSGYTF  TRBV6-2 TRBJ1-2 CHP_352-01-PBMC-DNA\n",
      "13: CASSVEAGAKIGHGYTF    TRBV9 TRBJ1-2 CHP_352-01-PBMC-DNA\n",
      "14:   CASSYGWGRDSPLHF  TRBV6-2 TRBJ1-6 CHP_352-01-PBMC-DNA\n",
      "15:  CATSNPGGGGLETQYF   TRBV15 TRBJ2-5 CHP_352-01-PBMC-DNA\n",
      "16:    CATSRGIHQETQYF   TRBV15 TRBJ2-5 CHP_352-01-PBMC-DNA\n",
      "17:       CAVSQNTEAFF   TRBV19 TRBJ1-1 CHP_352-01-PBMC-DNA\n",
      "18:     CSVIQFGTMWYTF TRBV29-1 TRBJ1-2 CHP_352-01-PBMC-DNA\n",
      "                                                                                                          file\n",
      " 1: /Users/anabbi/Desktop/H4H/INTERCEPT/NextSeq/batch1_jul52019/mixcr/clones/CLONES_TRBCHP_352-01-PBMC-DNA.txt\n",
      " 2: /Users/anabbi/Desktop/H4H/INTERCEPT/NextSeq/batch1_jul52019/mixcr/clones/CLONES_TRBCHP_352-01-PBMC-DNA.txt\n",
      " 3: /Users/anabbi/Desktop/H4H/INTERCEPT/NextSeq/batch1_jul52019/mixcr/clones/CLONES_TRBCHP_352-01-PBMC-DNA.txt\n",
      " 4: /Users/anabbi/Desktop/H4H/INTERCEPT/NextSeq/batch1_jul52019/mixcr/clones/CLONES_TRBCHP_352-01-PBMC-DNA.txt\n",
      " 5: /Users/anabbi/Desktop/H4H/INTERCEPT/NextSeq/batch1_jul52019/mixcr/clones/CLONES_TRBCHP_352-01-PBMC-DNA.txt\n",
      " 6: /Users/anabbi/Desktop/H4H/INTERCEPT/NextSeq/batch1_jul52019/mixcr/clones/CLONES_TRBCHP_352-01-PBMC-DNA.txt\n",
      " 7: /Users/anabbi/Desktop/H4H/INTERCEPT/NextSeq/batch1_jul52019/mixcr/clones/CLONES_TRBCHP_352-01-PBMC-DNA.txt\n",
      " 8: /Users/anabbi/Desktop/H4H/INTERCEPT/NextSeq/batch1_jul52019/mixcr/clones/CLONES_TRBCHP_352-01-PBMC-DNA.txt\n",
      " 9: /Users/anabbi/Desktop/H4H/INTERCEPT/NextSeq/batch1_jul52019/mixcr/clones/CLONES_TRBCHP_352-01-PBMC-DNA.txt\n",
      "10: /Users/anabbi/Desktop/H4H/INTERCEPT/NextSeq/batch1_jul52019/mixcr/clones/CLONES_TRBCHP_352-01-PBMC-DNA.txt\n",
      "11: /Users/anabbi/Desktop/H4H/INTERCEPT/NextSeq/batch1_jul52019/mixcr/clones/CLONES_TRBCHP_352-01-PBMC-DNA.txt\n",
      "12: /Users/anabbi/Desktop/H4H/INTERCEPT/NextSeq/batch1_jul52019/mixcr/clones/CLONES_TRBCHP_352-01-PBMC-DNA.txt\n",
      "13: /Users/anabbi/Desktop/H4H/INTERCEPT/NextSeq/batch1_jul52019/mixcr/clones/CLONES_TRBCHP_352-01-PBMC-DNA.txt\n",
      "14: /Users/anabbi/Desktop/H4H/INTERCEPT/NextSeq/batch1_jul52019/mixcr/clones/CLONES_TRBCHP_352-01-PBMC-DNA.txt\n",
      "15: /Users/anabbi/Desktop/H4H/INTERCEPT/NextSeq/batch1_jul52019/mixcr/clones/CLONES_TRBCHP_352-01-PBMC-DNA.txt\n",
      "16: /Users/anabbi/Desktop/H4H/INTERCEPT/NextSeq/batch1_jul52019/mixcr/clones/CLONES_TRBCHP_352-01-PBMC-DNA.txt\n",
      "17: /Users/anabbi/Desktop/H4H/INTERCEPT/NextSeq/batch1_jul52019/mixcr/clones/CLONES_TRBCHP_352-01-PBMC-DNA.txt\n",
      "18: /Users/anabbi/Desktop/H4H/INTERCEPT/NextSeq/batch1_jul52019/mixcr/clones/CLONES_TRBCHP_352-01-PBMC-DNA.txt\n",
      "    count\n",
      " 1:    20\n",
      " 2:     4\n",
      " 3:     7\n",
      " 4:    36\n",
      " 5:     7\n",
      " 6:     8\n",
      " 7:    12\n",
      " 8:    67\n",
      " 9:    15\n",
      "10:    38\n",
      "11:     8\n",
      "12:     8\n",
      "13:    22\n",
      "14:    19\n",
      "15:     9\n",
      "16:    12\n",
      "17:    29\n",
      "18:    31\n",
      "                  CDR3b     TRBV    TRBJ             subject\n",
      "  1:       CAASSGANEQFF  TRBV5-4 TRBJ2-1 CHP_404-01_PBMC_DNA\n",
      "  2:    CAIAKGTADNSPLHF TRBV10-3 TRBJ1-6 CHP_404-01_PBMC_DNA\n",
      "  3:       CAIKEGDQPQHF TRBV10-3 TRBJ1-5 CHP_404-01_PBMC_DNA\n",
      "  4:       CAIKEGDRPQHF TRBV10-3 TRBJ1-5 CHP_404-01_PBMC_DNA\n",
      "  5:    CAISDDGGTYNEQFF TRBV10-3 TRBJ2-1 CHP_404-01_PBMC_DNA\n",
      " ---                                                        \n",
      "336:   CSVISPITLSSNIQYF TRBV29-1 TRBJ2-4 CHP_404-01_PBMC_DNA\n",
      "337: CSVPRGQGILENTGELFF TRBV29-1 TRBJ2-2 CHP_404-01_PBMC_DNA\n",
      "338:     CSVQALAGGNEQFF TRBV29-1 TRBJ2-1 CHP_404-01_PBMC_DNA\n",
      "339:   CTSSQDSAGDTGELFF    TRBV1 TRBJ2-2 CHP_404-01_PBMC_DNA\n",
      "340:     CTTSRDRGSSVGHF   TRBV15 TRBJ2-3 CHP_404-01_PBMC_DNA\n",
      "                                                                                                             file\n",
      "  1: /Users/anabbi/Desktop/H4H/INTERCEPT/NextSeq/batch11_23Apr2020/mixcr/clones/CLONES_TRBCHP_404-01_PBMC_DNA.txt\n",
      "  2: /Users/anabbi/Desktop/H4H/INTERCEPT/NextSeq/batch11_23Apr2020/mixcr/clones/CLONES_TRBCHP_404-01_PBMC_DNA.txt\n",
      "  3: /Users/anabbi/Desktop/H4H/INTERCEPT/NextSeq/batch11_23Apr2020/mixcr/clones/CLONES_TRBCHP_404-01_PBMC_DNA.txt\n",
      "  4: /Users/anabbi/Desktop/H4H/INTERCEPT/NextSeq/batch11_23Apr2020/mixcr/clones/CLONES_TRBCHP_404-01_PBMC_DNA.txt\n",
      "  5: /Users/anabbi/Desktop/H4H/INTERCEPT/NextSeq/batch11_23Apr2020/mixcr/clones/CLONES_TRBCHP_404-01_PBMC_DNA.txt\n",
      " ---                                                                                                             \n",
      "336: /Users/anabbi/Desktop/H4H/INTERCEPT/NextSeq/batch11_23Apr2020/mixcr/clones/CLONES_TRBCHP_404-01_PBMC_DNA.txt\n",
      "337: /Users/anabbi/Desktop/H4H/INTERCEPT/NextSeq/batch11_23Apr2020/mixcr/clones/CLONES_TRBCHP_404-01_PBMC_DNA.txt\n",
      "338: /Users/anabbi/Desktop/H4H/INTERCEPT/NextSeq/batch11_23Apr2020/mixcr/clones/CLONES_TRBCHP_404-01_PBMC_DNA.txt\n",
      "339: /Users/anabbi/Desktop/H4H/INTERCEPT/NextSeq/batch11_23Apr2020/mixcr/clones/CLONES_TRBCHP_404-01_PBMC_DNA.txt\n",
      "340: /Users/anabbi/Desktop/H4H/INTERCEPT/NextSeq/batch11_23Apr2020/mixcr/clones/CLONES_TRBCHP_404-01_PBMC_DNA.txt\n",
      "     count\n",
      "  1:     2\n",
      "  2:     2\n",
      "  3:     9\n",
      "  4:     1\n",
      "  5:     2\n",
      " ---      \n",
      "336:     8\n",
      "337:     3\n",
      "338:     1\n",
      "339:     3\n",
      "340:     1\n",
      "                   CDR3b     TRBV    TRBJ             subject\n",
      " 1:        CAISEPGTAEQYF TRBV10-3 TRBJ2-7 CHP_405-01_PBMC_DNA\n",
      " 2:        CASGGKWNQPQHF  TRBV6-1 TRBJ1-5 CHP_405-01_PBMC_DNA\n",
      " 3:    CASGLGPGRPEAGELFF TRBV12-5 TRBJ2-2 CHP_405-01_PBMC_DNA\n",
      " 4:     CASGRRGSTRGNEQFF  TRBV6-2 TRBJ2-1 CHP_405-01_PBMC_DNA\n",
      " 5:      CASKVSGLTQETQYF    TRBV2 TRBJ2-5 CHP_405-01_PBMC_DNA\n",
      " 6:       CASMPGQAYNEQFF  TRBV7-9 TRBJ2-1 CHP_405-01_PBMC_DNA\n",
      " 7: CASRMPPDKKVSWLGSPLHF  TRBV6-1 TRBJ1-6 CHP_405-01_PBMC_DNA\n",
      " 8:      CASRPGTGAYNEQFF  TRBV6-6 TRBJ2-1 CHP_405-01_PBMC_DNA\n",
      " 9:    CASRPPGLALNTGELFF    TRBV9 TRBJ2-2 CHP_405-01_PBMC_DNA\n",
      "10:      CASSADRGLYNEQFF   TRBV27 TRBJ2-1 CHP_405-01_PBMC_DNA\n",
      "11:       CASSASTGAYGYTF   TRBV27 TRBJ1-2 CHP_405-01_PBMC_DNA\n",
      "12:       CASSDDLLPYEQYF    TRBV2 TRBJ2-7 CHP_405-01_PBMC_DNA\n",
      "13:         CASSEGTNEQFF TRBV10-2 TRBJ2-1 CHP_405-01_PBMC_DNA\n",
      "14:      CASSFASLFNYGYTF TRBV12-3 TRBJ1-2 CHP_405-01_PBMC_DNA\n",
      "15:      CASSFSDAGSDIQYF  TRBV7-4 TRBJ2-4 CHP_405-01_PBMC_DNA\n",
      "16:        CASSGRSGDEQYF  TRBV6-1 TRBJ2-7 CHP_405-01_PBMC_DNA\n",
      "17:       CASSGTASGNTIYF TRBV25-1 TRBJ1-3 CHP_405-01_PBMC_DNA\n",
      "18:      CASSLETSRASEQYF  TRBV7-2 TRBJ2-7 CHP_405-01_PBMC_DNA\n",
      "19:        CASSLGLIYEQYF TRBV11-2 TRBJ2-7 CHP_405-01_PBMC_DNA\n",
      "20:       CASSLSATYNEQFF  TRBV5-1 TRBJ2-1 CHP_405-01_PBMC_DNA\n",
      "21:      CASSLVPRERSEQFF  TRBV5-4 TRBJ2-1 CHP_405-01_PBMC_DNA\n",
      "22:       CASSPDGTTGEQYF  TRBV6-2 TRBJ2-7 CHP_405-01_PBMC_DNA\n",
      "23:    CASSPNLGLGYRDTQYF TRBV12-4 TRBJ2-3 CHP_405-01_PBMC_DNA\n",
      "24:      CASSPNPQGSAEAFF   TRBV27 TRBJ1-1 CHP_405-01_PBMC_DNA\n",
      "25:        CASSPTASYEQYF  TRBV7-8 TRBJ2-7 CHP_405-01_PBMC_DNA\n",
      "26:    CASSQVDSQGSNNEQFF   TRBV14 TRBJ2-1 CHP_405-01_PBMC_DNA\n",
      "27:      CASSSNAGAQETQYF  TRBV7-9 TRBJ2-5 CHP_405-01_PBMC_DNA\n",
      "28:      CASSSPDRGRRKLFF   TRBV27 TRBJ1-4 CHP_405-01_PBMC_DNA\n",
      "29:      CASSSPRDSRDTQYF TRBV12-3 TRBJ2-3 CHP_405-01_PBMC_DNA\n",
      "30:      CASSVDGGDNSPLHF    TRBV9 TRBJ1-6 CHP_405-01_PBMC_DNA\n",
      "31:     CASSYSKGRQVYGYTF  TRBV6-5 TRBJ1-2 CHP_405-01_PBMC_DNA\n",
      "32:      CASTKKRLDVDTQYF   TRBV13 TRBJ2-3 CHP_405-01_PBMC_DNA\n",
      "33:       CASTPGQGLYEQYF  TRBV7-9 TRBJ2-7 CHP_405-01_PBMC_DNA\n",
      "34:        CASTTTRGPEAFF  TRBV7-2 TRBJ1-1 CHP_405-01_PBMC_DNA\n",
      "35:         CATPQDGNTIYF    TRBV9 TRBJ1-3 CHP_405-01_PBMC_DNA\n",
      "36:        CATSREAHYEQYF   TRBV15 TRBJ2-7 CHP_405-01_PBMC_DNA\n",
      "37:        CSAGGAGSYEQYF TRBV20-1 TRBJ2-7 CHP_405-01_PBMC_DNA\n",
      "38:          CSAGGNTEAFF TRBV20-1 TRBJ1-1 CHP_405-01_PBMC_DNA\n",
      "39:       CSARSHGGSLKQFF TRBV20-1 TRBJ2-1 CHP_405-01_PBMC_DNA\n",
      "40:         CSASGQNYGYTF TRBV20-1 TRBJ1-2 CHP_405-01_PBMC_DNA\n",
      "41:          CTSWNGYGYTF TRBV20-1 TRBJ1-2 CHP_405-01_PBMC_DNA\n",
      "                   CDR3b     TRBV    TRBJ             subject\n",
      "                                                                                                            file\n",
      " 1: /Users/anabbi/Desktop/H4H/INTERCEPT/NextSeq/batch11_23Apr2020/mixcr/clones/CLONES_TRBCHP_405-01_PBMC_DNA.txt\n",
      " 2: /Users/anabbi/Desktop/H4H/INTERCEPT/NextSeq/batch11_23Apr2020/mixcr/clones/CLONES_TRBCHP_405-01_PBMC_DNA.txt\n",
      " 3: /Users/anabbi/Desktop/H4H/INTERCEPT/NextSeq/batch11_23Apr2020/mixcr/clones/CLONES_TRBCHP_405-01_PBMC_DNA.txt\n",
      " 4: /Users/anabbi/Desktop/H4H/INTERCEPT/NextSeq/batch11_23Apr2020/mixcr/clones/CLONES_TRBCHP_405-01_PBMC_DNA.txt\n",
      " 5: /Users/anabbi/Desktop/H4H/INTERCEPT/NextSeq/batch11_23Apr2020/mixcr/clones/CLONES_TRBCHP_405-01_PBMC_DNA.txt\n",
      " 6: /Users/anabbi/Desktop/H4H/INTERCEPT/NextSeq/batch11_23Apr2020/mixcr/clones/CLONES_TRBCHP_405-01_PBMC_DNA.txt\n",
      " 7: /Users/anabbi/Desktop/H4H/INTERCEPT/NextSeq/batch11_23Apr2020/mixcr/clones/CLONES_TRBCHP_405-01_PBMC_DNA.txt\n",
      " 8: /Users/anabbi/Desktop/H4H/INTERCEPT/NextSeq/batch11_23Apr2020/mixcr/clones/CLONES_TRBCHP_405-01_PBMC_DNA.txt\n",
      " 9: /Users/anabbi/Desktop/H4H/INTERCEPT/NextSeq/batch11_23Apr2020/mixcr/clones/CLONES_TRBCHP_405-01_PBMC_DNA.txt\n",
      "10: /Users/anabbi/Desktop/H4H/INTERCEPT/NextSeq/batch11_23Apr2020/mixcr/clones/CLONES_TRBCHP_405-01_PBMC_DNA.txt\n",
      "11: /Users/anabbi/Desktop/H4H/INTERCEPT/NextSeq/batch11_23Apr2020/mixcr/clones/CLONES_TRBCHP_405-01_PBMC_DNA.txt\n",
      "12: /Users/anabbi/Desktop/H4H/INTERCEPT/NextSeq/batch11_23Apr2020/mixcr/clones/CLONES_TRBCHP_405-01_PBMC_DNA.txt\n",
      "13: /Users/anabbi/Desktop/H4H/INTERCEPT/NextSeq/batch11_23Apr2020/mixcr/clones/CLONES_TRBCHP_405-01_PBMC_DNA.txt\n",
      "14: /Users/anabbi/Desktop/H4H/INTERCEPT/NextSeq/batch11_23Apr2020/mixcr/clones/CLONES_TRBCHP_405-01_PBMC_DNA.txt\n",
      "15: /Users/anabbi/Desktop/H4H/INTERCEPT/NextSeq/batch11_23Apr2020/mixcr/clones/CLONES_TRBCHP_405-01_PBMC_DNA.txt\n",
      "16: /Users/anabbi/Desktop/H4H/INTERCEPT/NextSeq/batch11_23Apr2020/mixcr/clones/CLONES_TRBCHP_405-01_PBMC_DNA.txt\n",
      "17: /Users/anabbi/Desktop/H4H/INTERCEPT/NextSeq/batch11_23Apr2020/mixcr/clones/CLONES_TRBCHP_405-01_PBMC_DNA.txt\n",
      "18: /Users/anabbi/Desktop/H4H/INTERCEPT/NextSeq/batch11_23Apr2020/mixcr/clones/CLONES_TRBCHP_405-01_PBMC_DNA.txt\n",
      "19: /Users/anabbi/Desktop/H4H/INTERCEPT/NextSeq/batch11_23Apr2020/mixcr/clones/CLONES_TRBCHP_405-01_PBMC_DNA.txt\n",
      "20: /Users/anabbi/Desktop/H4H/INTERCEPT/NextSeq/batch11_23Apr2020/mixcr/clones/CLONES_TRBCHP_405-01_PBMC_DNA.txt\n",
      "21: /Users/anabbi/Desktop/H4H/INTERCEPT/NextSeq/batch11_23Apr2020/mixcr/clones/CLONES_TRBCHP_405-01_PBMC_DNA.txt\n",
      "22: /Users/anabbi/Desktop/H4H/INTERCEPT/NextSeq/batch11_23Apr2020/mixcr/clones/CLONES_TRBCHP_405-01_PBMC_DNA.txt\n",
      "23: /Users/anabbi/Desktop/H4H/INTERCEPT/NextSeq/batch11_23Apr2020/mixcr/clones/CLONES_TRBCHP_405-01_PBMC_DNA.txt\n",
      "24: /Users/anabbi/Desktop/H4H/INTERCEPT/NextSeq/batch11_23Apr2020/mixcr/clones/CLONES_TRBCHP_405-01_PBMC_DNA.txt\n",
      "25: /Users/anabbi/Desktop/H4H/INTERCEPT/NextSeq/batch11_23Apr2020/mixcr/clones/CLONES_TRBCHP_405-01_PBMC_DNA.txt\n",
      "26: /Users/anabbi/Desktop/H4H/INTERCEPT/NextSeq/batch11_23Apr2020/mixcr/clones/CLONES_TRBCHP_405-01_PBMC_DNA.txt\n",
      "27: /Users/anabbi/Desktop/H4H/INTERCEPT/NextSeq/batch11_23Apr2020/mixcr/clones/CLONES_TRBCHP_405-01_PBMC_DNA.txt\n",
      "28: /Users/anabbi/Desktop/H4H/INTERCEPT/NextSeq/batch11_23Apr2020/mixcr/clones/CLONES_TRBCHP_405-01_PBMC_DNA.txt\n",
      "29: /Users/anabbi/Desktop/H4H/INTERCEPT/NextSeq/batch11_23Apr2020/mixcr/clones/CLONES_TRBCHP_405-01_PBMC_DNA.txt\n",
      "30: /Users/anabbi/Desktop/H4H/INTERCEPT/NextSeq/batch11_23Apr2020/mixcr/clones/CLONES_TRBCHP_405-01_PBMC_DNA.txt\n",
      "31: /Users/anabbi/Desktop/H4H/INTERCEPT/NextSeq/batch11_23Apr2020/mixcr/clones/CLONES_TRBCHP_405-01_PBMC_DNA.txt\n",
      "32: /Users/anabbi/Desktop/H4H/INTERCEPT/NextSeq/batch11_23Apr2020/mixcr/clones/CLONES_TRBCHP_405-01_PBMC_DNA.txt\n",
      "33: /Users/anabbi/Desktop/H4H/INTERCEPT/NextSeq/batch11_23Apr2020/mixcr/clones/CLONES_TRBCHP_405-01_PBMC_DNA.txt\n",
      "34: /Users/anabbi/Desktop/H4H/INTERCEPT/NextSeq/batch11_23Apr2020/mixcr/clones/CLONES_TRBCHP_405-01_PBMC_DNA.txt\n",
      "35: /Users/anabbi/Desktop/H4H/INTERCEPT/NextSeq/batch11_23Apr2020/mixcr/clones/CLONES_TRBCHP_405-01_PBMC_DNA.txt\n",
      "36: /Users/anabbi/Desktop/H4H/INTERCEPT/NextSeq/batch11_23Apr2020/mixcr/clones/CLONES_TRBCHP_405-01_PBMC_DNA.txt\n",
      "37: /Users/anabbi/Desktop/H4H/INTERCEPT/NextSeq/batch11_23Apr2020/mixcr/clones/CLONES_TRBCHP_405-01_PBMC_DNA.txt\n",
      "38: /Users/anabbi/Desktop/H4H/INTERCEPT/NextSeq/batch11_23Apr2020/mixcr/clones/CLONES_TRBCHP_405-01_PBMC_DNA.txt\n",
      "39: /Users/anabbi/Desktop/H4H/INTERCEPT/NextSeq/batch11_23Apr2020/mixcr/clones/CLONES_TRBCHP_405-01_PBMC_DNA.txt\n",
      "40: /Users/anabbi/Desktop/H4H/INTERCEPT/NextSeq/batch11_23Apr2020/mixcr/clones/CLONES_TRBCHP_405-01_PBMC_DNA.txt\n",
      "41: /Users/anabbi/Desktop/H4H/INTERCEPT/NextSeq/batch11_23Apr2020/mixcr/clones/CLONES_TRBCHP_405-01_PBMC_DNA.txt\n",
      "                                                                                                            file\n",
      "    count\n",
      " 1:    11\n",
      " 2:     2\n",
      " 3:     1\n",
      " 4:     2\n",
      " 5:     3\n",
      " 6:     4\n",
      " 7:     3\n",
      " 8:     2\n",
      " 9:     4\n",
      "10:     5\n",
      "11:     2\n",
      "12:     2\n",
      "13:     4\n",
      "14:     3\n",
      "15:     2\n",
      "16:     2\n",
      "17:     2\n",
      "18:     3\n",
      "19:     1\n",
      "20:     2\n",
      "21:     1\n",
      "22:     2\n",
      "23:     3\n",
      "24:     5\n",
      "25:     1\n",
      "26:     5\n",
      "27:     2\n",
      "28:    12\n",
      "29:     2\n",
      "30:     5\n",
      "31:     5\n",
      "32:     9\n",
      "33:    10\n",
      "34:     3\n",
      "35:     2\n",
      "36:     3\n",
      "37:     2\n",
      "38:     3\n",
      "39:     1\n",
      "40:     3\n",
      "41:     2\n",
      "    count\n",
      "                   CDR3b     TRBV    TRBJ             subject\n",
      "  1:        CAIGSTRIEAFF TRBV10-3 TRBJ1-1 CHP_409-01_PBMC_DNA\n",
      "  2: CAISEAGTSGTQTFYEQYF TRBV10-3 TRBJ2-7 CHP_409-01_PBMC_DNA\n",
      "  3:    CAISESGEISGNTIYF TRBV10-3 TRBJ1-3 CHP_409-01_PBMC_DNA\n",
      "  4:     CASEQGTLSNQPQHF   TRBV28 TRBJ1-5 CHP_409-01_PBMC_DNA\n",
      "  5:       CASFGDSGNTIYF  TRBV7-9 TRBJ1-3 CHP_409-01_PBMC_DNA\n",
      " ---                                                         \n",
      "122:       CSARLAGGVEQYF TRBV20-1 TRBJ2-7 CHP_409-01_PBMC_DNA\n",
      "123:     CSASDDRGRSYEQYF TRBV20-1 TRBJ2-7 CHP_409-01_PBMC_DNA\n",
      "124:     CSATPGAGESGEQYF TRBV20-1 TRBJ2-7 CHP_409-01_PBMC_DNA\n",
      "125:    CSVESRTSVNTDTQYF TRBV29-1 TRBJ2-3 CHP_409-01_PBMC_DNA\n",
      "126:          CSVRQDEQYF TRBV29-1 TRBJ2-7 CHP_409-01_PBMC_DNA\n",
      "                                                                                                             file\n",
      "  1: /Users/anabbi/Desktop/H4H/INTERCEPT/NextSeq/batch11_23Apr2020/mixcr/clones/CLONES_TRBCHP_409-01_PBMC_DNA.txt\n",
      "  2: /Users/anabbi/Desktop/H4H/INTERCEPT/NextSeq/batch11_23Apr2020/mixcr/clones/CLONES_TRBCHP_409-01_PBMC_DNA.txt\n",
      "  3: /Users/anabbi/Desktop/H4H/INTERCEPT/NextSeq/batch11_23Apr2020/mixcr/clones/CLONES_TRBCHP_409-01_PBMC_DNA.txt\n",
      "  4: /Users/anabbi/Desktop/H4H/INTERCEPT/NextSeq/batch11_23Apr2020/mixcr/clones/CLONES_TRBCHP_409-01_PBMC_DNA.txt\n",
      "  5: /Users/anabbi/Desktop/H4H/INTERCEPT/NextSeq/batch11_23Apr2020/mixcr/clones/CLONES_TRBCHP_409-01_PBMC_DNA.txt\n",
      " ---                                                                                                             \n",
      "122: /Users/anabbi/Desktop/H4H/INTERCEPT/NextSeq/batch11_23Apr2020/mixcr/clones/CLONES_TRBCHP_409-01_PBMC_DNA.txt\n",
      "123: /Users/anabbi/Desktop/H4H/INTERCEPT/NextSeq/batch11_23Apr2020/mixcr/clones/CLONES_TRBCHP_409-01_PBMC_DNA.txt\n",
      "124: /Users/anabbi/Desktop/H4H/INTERCEPT/NextSeq/batch11_23Apr2020/mixcr/clones/CLONES_TRBCHP_409-01_PBMC_DNA.txt\n",
      "125: /Users/anabbi/Desktop/H4H/INTERCEPT/NextSeq/batch11_23Apr2020/mixcr/clones/CLONES_TRBCHP_409-01_PBMC_DNA.txt\n",
      "126: /Users/anabbi/Desktop/H4H/INTERCEPT/NextSeq/batch11_23Apr2020/mixcr/clones/CLONES_TRBCHP_409-01_PBMC_DNA.txt\n",
      "     count\n",
      "  1:    44\n",
      "  2:    54\n",
      "  3:    46\n",
      "  4:     9\n",
      "  5:    22\n",
      " ---      \n",
      "122:     4\n",
      "123:    48\n",
      "124:    11\n",
      "125:     8\n",
      "126:    14\n",
      "               CDR3b     TRBV    TRBJ             subject\n",
      " 1:  CAISESAGLNTEAFF TRBV10-3 TRBJ1-1 CHP_408-01_PBMC-DNA\n",
      " 2:      CASIRDGTQYF  TRBV6-2 TRBJ2-5 CHP_408-01_PBMC-DNA\n",
      " 3: CASRLQGLAGYNEQFF  TRBV6-2 TRBJ2-1 CHP_408-01_PBMC-DNA\n",
      " 4:    CASRWDSQETQYF   TRBV28 TRBJ2-5 CHP_408-01_PBMC-DNA\n",
      " 5:  CASSAGQGISYEQYV TRBV11-2 TRBJ2-7 CHP_408-01_PBMC-DNA\n",
      " 6:   CASSAGTGDNEQYF    TRBV9 TRBJ2-7 CHP_408-01_PBMC-DNA\n",
      " 7:  CASSDSRNTNYGYTF    TRBV2 TRBJ1-2 CHP_408-01_PBMC-DNA\n",
      " 8: CASSEYPSGGNTEAFF TRBV25-1 TRBJ1-1 CHP_408-01_PBMC-DNA\n",
      " 9:     CASSLWRGEQYF   TRBV28 TRBJ2-7 CHP_408-01_PBMC-DNA\n",
      "10: CASSQGRYRAHNEQFF   TRBV14 TRBJ2-1 CHP_408-01_PBMC-DNA\n",
      "11:  CASSRTRDYNSPLHF   TRBV19 TRBJ1-6 CHP_408-01_PBMC-DNA\n",
      "12:   CASSSVTSSNEQFF  TRBV6-6 TRBJ2-1 CHP_408-01_PBMC-DNA\n",
      "13:  CSATLFSQGSDTQYF TRBV20-1 TRBJ2-3 CHP_408-01_PBMC-DNA\n",
      "                                                                                                            file\n",
      " 1: /Users/anabbi/Desktop/H4H/INTERCEPT/NextSeq/batch12_30Apr2021/mixcr/clones/CLONES_TRBCHP_408-01_PBMC-DNA.txt\n",
      " 2: /Users/anabbi/Desktop/H4H/INTERCEPT/NextSeq/batch12_30Apr2021/mixcr/clones/CLONES_TRBCHP_408-01_PBMC-DNA.txt\n",
      " 3: /Users/anabbi/Desktop/H4H/INTERCEPT/NextSeq/batch12_30Apr2021/mixcr/clones/CLONES_TRBCHP_408-01_PBMC-DNA.txt\n",
      " 4: /Users/anabbi/Desktop/H4H/INTERCEPT/NextSeq/batch12_30Apr2021/mixcr/clones/CLONES_TRBCHP_408-01_PBMC-DNA.txt\n",
      " 5: /Users/anabbi/Desktop/H4H/INTERCEPT/NextSeq/batch12_30Apr2021/mixcr/clones/CLONES_TRBCHP_408-01_PBMC-DNA.txt\n",
      " 6: /Users/anabbi/Desktop/H4H/INTERCEPT/NextSeq/batch12_30Apr2021/mixcr/clones/CLONES_TRBCHP_408-01_PBMC-DNA.txt\n",
      " 7: /Users/anabbi/Desktop/H4H/INTERCEPT/NextSeq/batch12_30Apr2021/mixcr/clones/CLONES_TRBCHP_408-01_PBMC-DNA.txt\n",
      " 8: /Users/anabbi/Desktop/H4H/INTERCEPT/NextSeq/batch12_30Apr2021/mixcr/clones/CLONES_TRBCHP_408-01_PBMC-DNA.txt\n",
      " 9: /Users/anabbi/Desktop/H4H/INTERCEPT/NextSeq/batch12_30Apr2021/mixcr/clones/CLONES_TRBCHP_408-01_PBMC-DNA.txt\n",
      "10: /Users/anabbi/Desktop/H4H/INTERCEPT/NextSeq/batch12_30Apr2021/mixcr/clones/CLONES_TRBCHP_408-01_PBMC-DNA.txt\n",
      "11: /Users/anabbi/Desktop/H4H/INTERCEPT/NextSeq/batch12_30Apr2021/mixcr/clones/CLONES_TRBCHP_408-01_PBMC-DNA.txt\n",
      "12: /Users/anabbi/Desktop/H4H/INTERCEPT/NextSeq/batch12_30Apr2021/mixcr/clones/CLONES_TRBCHP_408-01_PBMC-DNA.txt\n",
      "13: /Users/anabbi/Desktop/H4H/INTERCEPT/NextSeq/batch12_30Apr2021/mixcr/clones/CLONES_TRBCHP_408-01_PBMC-DNA.txt\n",
      "    count\n",
      " 1:    17\n",
      " 2:    24\n",
      " 3:    39\n",
      " 4:    64\n",
      " 5:    30\n",
      " 6:    37\n",
      " 7:    10\n",
      " 8:    29\n",
      " 9:    30\n",
      "10:    48\n",
      "11:    32\n",
      "12:   143\n",
      "13:    89\n",
      "                  CDR3b     TRBV    TRBJ             subject\n",
      "  1:    CAISDQREGTDTQYF TRBV10-3 TRBJ2-3 CHP_410-01_PBMC-DNA\n",
      "  2:     CAISEGLKQETQYF TRBV10-3 TRBJ2-5 CHP_410-01_PBMC-DNA\n",
      "  3:       CAISREDTEAFF TRBV10-3 TRBJ1-1 CHP_410-01_PBMC-DNA\n",
      "  4:        CAISTPDIQYF TRBV10-3 TRBJ2-4 CHP_410-01_PBMC-DNA\n",
      "  5:      CASAGGASYEQYF   TRBV18 TRBJ2-7 CHP_410-01_PBMC-DNA\n",
      " ---                                                        \n",
      "122:     CSVAGGRSGNEQFF TRBV29-1 TRBJ2-1 CHP_410-01_PBMC-DNA\n",
      "123: CSVDILLPGLALTNEQFF TRBV29-1 TRBJ2-1 CHP_410-01_PBMC-DNA\n",
      "124:  CSVENFASEGLPDTQYF TRBV29-1 TRBJ2-3 CHP_410-01_PBMC-DNA\n",
      "125:         CSVEPTRTDF TRBV29-1 TRBJ2-5 CHP_410-01_PBMC-DNA\n",
      "126:               FPTG TRBV21-1 TRBJ2-4 CHP_410-01_PBMC-DNA\n",
      "                                                                                                             file\n",
      "  1: /Users/anabbi/Desktop/H4H/INTERCEPT/NextSeq/batch12_30Apr2021/mixcr/clones/CLONES_TRBCHP_410-01_PBMC-DNA.txt\n",
      "  2: /Users/anabbi/Desktop/H4H/INTERCEPT/NextSeq/batch12_30Apr2021/mixcr/clones/CLONES_TRBCHP_410-01_PBMC-DNA.txt\n",
      "  3: /Users/anabbi/Desktop/H4H/INTERCEPT/NextSeq/batch12_30Apr2021/mixcr/clones/CLONES_TRBCHP_410-01_PBMC-DNA.txt\n",
      "  4: /Users/anabbi/Desktop/H4H/INTERCEPT/NextSeq/batch12_30Apr2021/mixcr/clones/CLONES_TRBCHP_410-01_PBMC-DNA.txt\n",
      "  5: /Users/anabbi/Desktop/H4H/INTERCEPT/NextSeq/batch12_30Apr2021/mixcr/clones/CLONES_TRBCHP_410-01_PBMC-DNA.txt\n",
      " ---                                                                                                             \n",
      "122: /Users/anabbi/Desktop/H4H/INTERCEPT/NextSeq/batch12_30Apr2021/mixcr/clones/CLONES_TRBCHP_410-01_PBMC-DNA.txt\n",
      "123: /Users/anabbi/Desktop/H4H/INTERCEPT/NextSeq/batch12_30Apr2021/mixcr/clones/CLONES_TRBCHP_410-01_PBMC-DNA.txt\n",
      "124: /Users/anabbi/Desktop/H4H/INTERCEPT/NextSeq/batch12_30Apr2021/mixcr/clones/CLONES_TRBCHP_410-01_PBMC-DNA.txt\n",
      "125: /Users/anabbi/Desktop/H4H/INTERCEPT/NextSeq/batch12_30Apr2021/mixcr/clones/CLONES_TRBCHP_410-01_PBMC-DNA.txt\n",
      "126: /Users/anabbi/Desktop/H4H/INTERCEPT/NextSeq/batch12_30Apr2021/mixcr/clones/CLONES_TRBCHP_410-01_PBMC-DNA.txt\n",
      "     count\n",
      "  1:    31\n",
      "  2:    35\n",
      "  3:    38\n",
      "  4:    69\n",
      "  5:    26\n",
      " ---      \n",
      "122:     2\n",
      "123:    39\n",
      "124:    30\n",
      "125:    18\n",
      "126:    21\n",
      "                 CDR3b     TRBV    TRBJ             subject\n",
      " 1:     CARSLDRGYQPQHF  TRBV5-3 TRBJ1-5 CHP_412-01_PBMC-DNA\n",
      " 2:  CASRKTGTANSNQPQHF   TRBV28 TRBJ1-5 CHP_412-01_PBMC-DNA\n",
      " 3:       CASRPGSETQYF  TRBV5-1 TRBJ2-5 CHP_412-01_PBMC-DNA\n",
      " 4:       CASRPQGHEQYF   TRBV28 TRBJ2-7 CHP_412-01_PBMC-DNA\n",
      " 5:     CASRRDSFTGKLFF   TRBV19 TRBJ1-4 CHP_412-01_PBMC-DNA\n",
      " 6:     CASRSLAPPYEQYF TRBV12-3 TRBJ2-7 CHP_412-01_PBMC-DNA\n",
      " 7:   CASRSRGIEVDTEAFF  TRBV3-2 TRBJ1-1 CHP_412-01_PBMC-DNA\n",
      " 8:     CASRTDRVISPLHF  TRBV6-5 TRBJ1-6 CHP_412-01_PBMC-DNA\n",
      " 9:      CASSDSAWNEQFF  TRBV6-4 TRBJ2-1 CHP_412-01_PBMC-DNA\n",
      "10:     CASSEASANYGYTF    TRBV2 TRBJ1-2 CHP_412-01_PBMC-DNA\n",
      "11: CASSEFSGKGGLTDTQYF TRBV25-1 TRBJ2-3 CHP_412-01_PBMC-DNA\n",
      "12:    CASSESGQGAIGYTF TRBV10-2 TRBJ1-2 CHP_412-01_PBMC-DNA\n",
      "13:    CASSEYRESTDTQYF   TRBV28 TRBJ2-3 CHP_412-01_PBMC-DNA\n",
      "14:      CASSFYRGTEAFF  TRBV6-5 TRBJ1-1 CHP_412-01_PBMC-DNA\n",
      "15:    CASSIARAPEETQYF   TRBV19 TRBJ2-5 CHP_412-01_PBMC-DNA\n",
      "16:     CASSIGAGSYEQYF   TRBV19 TRBJ2-7 CHP_412-01_PBMC-DNA\n",
      "17:    CASSLDQGRNYGYTF TRBV11-2 TRBJ1-2 CHP_412-01_PBMC-DNA\n",
      "18:    CASSLGSGKNHEQYF  TRBV7-8 TRBJ2-7 CHP_412-01_PBMC-DNA\n",
      "19:   CASSLGSQGAYNEQFF  TRBV7-2 TRBJ2-1 CHP_412-01_PBMC-DNA\n",
      "20:  CASSLISGGEVSNEQYF  TRBV5-4 TRBJ2-7 CHP_412-01_PBMC-DNA\n",
      "21:  CASSLLGLAGSRETQYF  TRBV5-1 TRBJ2-5 CHP_412-01_PBMC-DNA\n",
      "22:        CASSLLGTQYF TRBV11-2 TRBJ2-5 CHP_412-01_PBMC-DNA\n",
      "23:  CASSLPLGQGSYNEQFF TRBV11-2 TRBJ2-1 CHP_412-01_PBMC-DNA\n",
      "24:       CASSLSDNEQFF TRBV11-3 TRBJ2-1 CHP_412-01_PBMC-DNA\n",
      "25:    CASSLSGMGNSPLHF TRBV11-2 TRBJ1-6 CHP_412-01_PBMC-DNA\n",
      "26:  CASSMGLSRGSNYGYTF   TRBV19 TRBJ1-2 CHP_412-01_PBMC-DNA\n",
      "27:   CASSPDQGANTGELFF   TRBV18 TRBJ2-2 CHP_412-01_PBMC-DNA\n",
      "28:      CASSPGEGNQAFF   TRBV18 TRBJ1-1 CHP_412-01_PBMC-DNA\n",
      "29:   CASSPQTGWRNTEAFF   TRBV18 TRBJ1-1 CHP_412-01_PBMC-DNA\n",
      "30:       CASSPSEGEQFF  TRBV4-3 TRBJ2-1 CHP_412-01_PBMC-DNA\n",
      "31:     CASSQDSRTDTQYF  TRBV4-1 TRBJ2-3 CHP_412-01_PBMC-DNA\n",
      "32:   CASSQRTGPVNTEAFF  TRBV3-1 TRBJ1-1 CHP_412-01_PBMC-DNA\n",
      "33:      CASSRGQGYEQYF   TRBV14 TRBJ2-7 CHP_412-01_PBMC-DNA\n",
      "34:      CASSRTASYEQYF  TRBV6-1 TRBJ2-7 CHP_412-01_PBMC-DNA\n",
      "35:    CASSSSLGSDTEAFF  TRBV6-5 TRBJ1-1 CHP_412-01_PBMC-DNA\n",
      "36:     CASSVEDTLNTIYF    TRBV9 TRBJ1-3 CHP_412-01_PBMC-DNA\n",
      "37:      CASSVVPGQPQHF    TRBV9 TRBJ1-5 CHP_412-01_PBMC-DNA\n",
      "38:  CASSWATGRGGLNEQFF   TRBV27 TRBJ2-1 CHP_412-01_PBMC-DNA\n",
      "39:      CASSWGGDTEAFF  TRBV5-1 TRBJ1-1 CHP_412-01_PBMC-DNA\n",
      "40:      CASSYLKGYEQYF  TRBV6-6 TRBJ2-7 CHP_412-01_PBMC-DNA\n",
      "41:     CASTLGGLYYGYTF TRBV12-3 TRBJ1-2 CHP_412-01_PBMC-DNA\n",
      "42:        CATELDYEQYF   TRBV30 TRBJ2-7 CHP_412-01_PBMC-DNA\n",
      "43:   CSAEDRGQGLTDTQYF TRBV20-1 TRBJ2-3 CHP_412-01_PBMC-DNA\n",
      "44:      CSARALGGTEAFF TRBV20-1 TRBJ1-1 CHP_412-01_PBMC-DNA\n",
      "45:     CSARDGGAQETQYF TRBV20-1 TRBJ2-5 CHP_412-01_PBMC-DNA\n",
      "46:     CSAREGGRLDEVTF TRBV20-1 TRBJ1-2 CHP_412-01_PBMC-DNA\n",
      "47:       CSARQGGEKLFF TRBV20-1 TRBJ1-4 CHP_412-01_PBMC-DNA\n",
      "48:    CSARRSLPSTDTQYF TRBV20-1 TRBJ2-3 CHP_412-01_PBMC-DNA\n",
      "49:     CSASIARMNTEAFF TRBV20-1 TRBJ1-1 CHP_412-01_PBMC-DNA\n",
      "50:       CSATPATDEQFF TRBV20-1 TRBJ2-1 CHP_412-01_PBMC-DNA\n",
      "51:    RASSLTFDKNEKLFF  TRBV7-3 TRBJ1-4 CHP_412-01_PBMC-DNA\n",
      "                 CDR3b     TRBV    TRBJ             subject\n",
      "                                                                                                            file\n",
      " 1: /Users/anabbi/Desktop/H4H/INTERCEPT/NextSeq/batch12_30Apr2021/mixcr/clones/CLONES_TRBCHP_412-01_PBMC-DNA.txt\n",
      " 2: /Users/anabbi/Desktop/H4H/INTERCEPT/NextSeq/batch12_30Apr2021/mixcr/clones/CLONES_TRBCHP_412-01_PBMC-DNA.txt\n",
      " 3: /Users/anabbi/Desktop/H4H/INTERCEPT/NextSeq/batch12_30Apr2021/mixcr/clones/CLONES_TRBCHP_412-01_PBMC-DNA.txt\n",
      " 4: /Users/anabbi/Desktop/H4H/INTERCEPT/NextSeq/batch12_30Apr2021/mixcr/clones/CLONES_TRBCHP_412-01_PBMC-DNA.txt\n",
      " 5: /Users/anabbi/Desktop/H4H/INTERCEPT/NextSeq/batch12_30Apr2021/mixcr/clones/CLONES_TRBCHP_412-01_PBMC-DNA.txt\n",
      " 6: /Users/anabbi/Desktop/H4H/INTERCEPT/NextSeq/batch12_30Apr2021/mixcr/clones/CLONES_TRBCHP_412-01_PBMC-DNA.txt\n",
      " 7: /Users/anabbi/Desktop/H4H/INTERCEPT/NextSeq/batch12_30Apr2021/mixcr/clones/CLONES_TRBCHP_412-01_PBMC-DNA.txt\n",
      " 8: /Users/anabbi/Desktop/H4H/INTERCEPT/NextSeq/batch12_30Apr2021/mixcr/clones/CLONES_TRBCHP_412-01_PBMC-DNA.txt\n",
      " 9: /Users/anabbi/Desktop/H4H/INTERCEPT/NextSeq/batch12_30Apr2021/mixcr/clones/CLONES_TRBCHP_412-01_PBMC-DNA.txt\n",
      "10: /Users/anabbi/Desktop/H4H/INTERCEPT/NextSeq/batch12_30Apr2021/mixcr/clones/CLONES_TRBCHP_412-01_PBMC-DNA.txt\n",
      "11: /Users/anabbi/Desktop/H4H/INTERCEPT/NextSeq/batch12_30Apr2021/mixcr/clones/CLONES_TRBCHP_412-01_PBMC-DNA.txt\n",
      "12: /Users/anabbi/Desktop/H4H/INTERCEPT/NextSeq/batch12_30Apr2021/mixcr/clones/CLONES_TRBCHP_412-01_PBMC-DNA.txt\n",
      "13: /Users/anabbi/Desktop/H4H/INTERCEPT/NextSeq/batch12_30Apr2021/mixcr/clones/CLONES_TRBCHP_412-01_PBMC-DNA.txt\n",
      "14: /Users/anabbi/Desktop/H4H/INTERCEPT/NextSeq/batch12_30Apr2021/mixcr/clones/CLONES_TRBCHP_412-01_PBMC-DNA.txt\n",
      "15: /Users/anabbi/Desktop/H4H/INTERCEPT/NextSeq/batch12_30Apr2021/mixcr/clones/CLONES_TRBCHP_412-01_PBMC-DNA.txt\n",
      "16: /Users/anabbi/Desktop/H4H/INTERCEPT/NextSeq/batch12_30Apr2021/mixcr/clones/CLONES_TRBCHP_412-01_PBMC-DNA.txt\n",
      "17: /Users/anabbi/Desktop/H4H/INTERCEPT/NextSeq/batch12_30Apr2021/mixcr/clones/CLONES_TRBCHP_412-01_PBMC-DNA.txt\n",
      "18: /Users/anabbi/Desktop/H4H/INTERCEPT/NextSeq/batch12_30Apr2021/mixcr/clones/CLONES_TRBCHP_412-01_PBMC-DNA.txt\n",
      "19: /Users/anabbi/Desktop/H4H/INTERCEPT/NextSeq/batch12_30Apr2021/mixcr/clones/CLONES_TRBCHP_412-01_PBMC-DNA.txt\n",
      "20: /Users/anabbi/Desktop/H4H/INTERCEPT/NextSeq/batch12_30Apr2021/mixcr/clones/CLONES_TRBCHP_412-01_PBMC-DNA.txt\n",
      "21: /Users/anabbi/Desktop/H4H/INTERCEPT/NextSeq/batch12_30Apr2021/mixcr/clones/CLONES_TRBCHP_412-01_PBMC-DNA.txt\n",
      "22: /Users/anabbi/Desktop/H4H/INTERCEPT/NextSeq/batch12_30Apr2021/mixcr/clones/CLONES_TRBCHP_412-01_PBMC-DNA.txt\n",
      "23: /Users/anabbi/Desktop/H4H/INTERCEPT/NextSeq/batch12_30Apr2021/mixcr/clones/CLONES_TRBCHP_412-01_PBMC-DNA.txt\n",
      "24: /Users/anabbi/Desktop/H4H/INTERCEPT/NextSeq/batch12_30Apr2021/mixcr/clones/CLONES_TRBCHP_412-01_PBMC-DNA.txt\n",
      "25: /Users/anabbi/Desktop/H4H/INTERCEPT/NextSeq/batch12_30Apr2021/mixcr/clones/CLONES_TRBCHP_412-01_PBMC-DNA.txt\n",
      "26: /Users/anabbi/Desktop/H4H/INTERCEPT/NextSeq/batch12_30Apr2021/mixcr/clones/CLONES_TRBCHP_412-01_PBMC-DNA.txt\n",
      "27: /Users/anabbi/Desktop/H4H/INTERCEPT/NextSeq/batch12_30Apr2021/mixcr/clones/CLONES_TRBCHP_412-01_PBMC-DNA.txt\n",
      "28: /Users/anabbi/Desktop/H4H/INTERCEPT/NextSeq/batch12_30Apr2021/mixcr/clones/CLONES_TRBCHP_412-01_PBMC-DNA.txt\n",
      "29: /Users/anabbi/Desktop/H4H/INTERCEPT/NextSeq/batch12_30Apr2021/mixcr/clones/CLONES_TRBCHP_412-01_PBMC-DNA.txt\n",
      "30: /Users/anabbi/Desktop/H4H/INTERCEPT/NextSeq/batch12_30Apr2021/mixcr/clones/CLONES_TRBCHP_412-01_PBMC-DNA.txt\n",
      "31: /Users/anabbi/Desktop/H4H/INTERCEPT/NextSeq/batch12_30Apr2021/mixcr/clones/CLONES_TRBCHP_412-01_PBMC-DNA.txt\n",
      "32: /Users/anabbi/Desktop/H4H/INTERCEPT/NextSeq/batch12_30Apr2021/mixcr/clones/CLONES_TRBCHP_412-01_PBMC-DNA.txt\n",
      "33: /Users/anabbi/Desktop/H4H/INTERCEPT/NextSeq/batch12_30Apr2021/mixcr/clones/CLONES_TRBCHP_412-01_PBMC-DNA.txt\n",
      "34: /Users/anabbi/Desktop/H4H/INTERCEPT/NextSeq/batch12_30Apr2021/mixcr/clones/CLONES_TRBCHP_412-01_PBMC-DNA.txt\n",
      "35: /Users/anabbi/Desktop/H4H/INTERCEPT/NextSeq/batch12_30Apr2021/mixcr/clones/CLONES_TRBCHP_412-01_PBMC-DNA.txt\n",
      "36: /Users/anabbi/Desktop/H4H/INTERCEPT/NextSeq/batch12_30Apr2021/mixcr/clones/CLONES_TRBCHP_412-01_PBMC-DNA.txt\n",
      "37: /Users/anabbi/Desktop/H4H/INTERCEPT/NextSeq/batch12_30Apr2021/mixcr/clones/CLONES_TRBCHP_412-01_PBMC-DNA.txt\n",
      "38: /Users/anabbi/Desktop/H4H/INTERCEPT/NextSeq/batch12_30Apr2021/mixcr/clones/CLONES_TRBCHP_412-01_PBMC-DNA.txt\n",
      "39: /Users/anabbi/Desktop/H4H/INTERCEPT/NextSeq/batch12_30Apr2021/mixcr/clones/CLONES_TRBCHP_412-01_PBMC-DNA.txt\n",
      "40: /Users/anabbi/Desktop/H4H/INTERCEPT/NextSeq/batch12_30Apr2021/mixcr/clones/CLONES_TRBCHP_412-01_PBMC-DNA.txt\n",
      "41: /Users/anabbi/Desktop/H4H/INTERCEPT/NextSeq/batch12_30Apr2021/mixcr/clones/CLONES_TRBCHP_412-01_PBMC-DNA.txt\n",
      "42: /Users/anabbi/Desktop/H4H/INTERCEPT/NextSeq/batch12_30Apr2021/mixcr/clones/CLONES_TRBCHP_412-01_PBMC-DNA.txt\n",
      "43: /Users/anabbi/Desktop/H4H/INTERCEPT/NextSeq/batch12_30Apr2021/mixcr/clones/CLONES_TRBCHP_412-01_PBMC-DNA.txt\n",
      "44: /Users/anabbi/Desktop/H4H/INTERCEPT/NextSeq/batch12_30Apr2021/mixcr/clones/CLONES_TRBCHP_412-01_PBMC-DNA.txt\n",
      "45: /Users/anabbi/Desktop/H4H/INTERCEPT/NextSeq/batch12_30Apr2021/mixcr/clones/CLONES_TRBCHP_412-01_PBMC-DNA.txt\n",
      "46: /Users/anabbi/Desktop/H4H/INTERCEPT/NextSeq/batch12_30Apr2021/mixcr/clones/CLONES_TRBCHP_412-01_PBMC-DNA.txt\n",
      "47: /Users/anabbi/Desktop/H4H/INTERCEPT/NextSeq/batch12_30Apr2021/mixcr/clones/CLONES_TRBCHP_412-01_PBMC-DNA.txt\n",
      "48: /Users/anabbi/Desktop/H4H/INTERCEPT/NextSeq/batch12_30Apr2021/mixcr/clones/CLONES_TRBCHP_412-01_PBMC-DNA.txt\n",
      "49: /Users/anabbi/Desktop/H4H/INTERCEPT/NextSeq/batch12_30Apr2021/mixcr/clones/CLONES_TRBCHP_412-01_PBMC-DNA.txt\n",
      "50: /Users/anabbi/Desktop/H4H/INTERCEPT/NextSeq/batch12_30Apr2021/mixcr/clones/CLONES_TRBCHP_412-01_PBMC-DNA.txt\n",
      "51: /Users/anabbi/Desktop/H4H/INTERCEPT/NextSeq/batch12_30Apr2021/mixcr/clones/CLONES_TRBCHP_412-01_PBMC-DNA.txt\n",
      "                                                                                                            file\n",
      "    count\n",
      " 1:    26\n",
      " 2:    21\n",
      " 3:    18\n",
      " 4:    24\n",
      " 5:     8\n",
      " 6:    28\n",
      " 7:    24\n",
      " 8:    22\n",
      " 9:    24\n",
      "10:    19\n",
      "11:    26\n",
      "12:     5\n",
      "13:    45\n",
      "14:     1\n",
      "15:    25\n",
      "16:    28\n",
      "17:    26\n",
      "18:    22\n",
      "19:    11\n",
      "20:    29\n",
      "21:    20\n",
      "22:    26\n",
      "23:    11\n",
      "24:    18\n",
      "25:    21\n",
      "26:     3\n",
      "27:    68\n",
      "28:    32\n",
      "29:     6\n",
      "30:    24\n",
      "31:    25\n",
      "32:    29\n",
      "33:     8\n",
      "34:    36\n",
      "35:    24\n",
      "36:    43\n",
      "37:     5\n",
      "38:    19\n",
      "39:    36\n",
      "40:    13\n",
      "41:    42\n",
      "42:     1\n",
      "43:    18\n",
      "44:     2\n",
      "45:    19\n",
      "46:    17\n",
      "47:    36\n",
      "48:    18\n",
      "49:    69\n",
      "50:    19\n",
      "51:    23\n",
      "    count\n",
      "                 CDR3b     TRBV    TRBJ             subject\n",
      " 1:  CARSRSGTGSSNQPQHF   TRBV19 TRBJ1-5 CHP_413-01_PBMC-DNA\n",
      " 2:   CASEVNWGDIQETQYF TRBV25-1 TRBJ2-5 CHP_413-01_PBMC-DNA\n",
      " 3:  CASIDSGLAGVADTQYF   TRBV28 TRBJ2-3 CHP_413-01_PBMC-DNA\n",
      " 4:     CASNPGTGVETQYF  TRBV5-5 TRBJ2-5 CHP_413-01_PBMC-DNA\n",
      " 5:       CASSAAHYGYTF    TRBV9 TRBJ1-2 CHP_413-01_PBMC-DNA\n",
      " 6:    CASSAGTAVNSPLHF    TRBV9 TRBJ1-6 CHP_413-01_PBMC-DNA\n",
      " 7:    CASSDSGQVYYTQYF  TRBV6-4 TRBJ2-3 CHP_413-01_PBMC-DNA\n",
      " 8:    CASSEARDIRYEQYF  TRBV6-1 TRBJ2-7 CHP_413-01_PBMC-DNA\n",
      " 9:  CASSESRDSLAKNIQYF    TRBV2 TRBJ2-4 CHP_413-01_PBMC-DNA\n",
      "10:   CASSETGLAGAYEQYF   TRBV14 TRBJ2-7 CHP_413-01_PBMC-DNA\n",
      "11:     CASSLEGTGNTIYF   TRBV18 TRBJ1-3 CHP_413-01_PBMC-DNA\n",
      "12:      CASSLSYNYGYTF   TRBV27 TRBJ1-2 CHP_413-01_PBMC-DNA\n",
      "13:     CASSLVASTDTQYF  TRBV7-6 TRBJ2-3 CHP_413-01_PBMC-DNA\n",
      "14:  CASSLVVAGGGIDTQYF  TRBV3-1 TRBJ2-3 CHP_413-01_PBMC-DNA\n",
      "15:    CASSPPSGRPYEQYF   TRBV28 TRBJ2-7 CHP_413-01_PBMC-DNA\n",
      "16:    CASSPPSGRPYEQYY   TRBV28 TRBJ2-7 CHP_413-01_PBMC-DNA\n",
      "17:  CASSPTWGGAYNSPLHF   TRBV13 TRBJ1-6 CHP_413-01_PBMC-DNA\n",
      "18:  CASSPVYGGGLYNEQFF  TRBV5-4 TRBJ2-1 CHP_413-01_PBMC-DNA\n",
      "19:    CASSQEDRVQETQYF   TRBV14 TRBJ2-5 CHP_413-01_PBMC-DNA\n",
      "20:  CASSQMSIRGGRGEQYF TRBV23-1 TRBJ2-7 CHP_413-01_PBMC-DNA\n",
      "21:    CASSSSGTGVHEQFF TRBV11-2 TRBJ2-1 CHP_413-01_PBMC-DNA\n",
      "22: CASSTTISESSYNSPLHF  TRBV7-8 TRBJ1-6 CHP_413-01_PBMC-DNA\n",
      "23:    CASSVQGATNEKLFF    TRBV9 TRBJ1-4 CHP_413-01_PBMC-DNA\n",
      "24:     CASSYKVDGYGYTF  TRBV6-6 TRBJ1-2 CHP_413-01_PBMC-DNA\n",
      "25:    CASSYLSRLDEKLFF  TRBV6-5 TRBJ1-4 CHP_413-01_PBMC-DNA\n",
      "26:   CASTDWGQRNTGELFF   TRBV19 TRBJ2-2 CHP_413-01_PBMC-DNA\n",
      "27:     CATSREIRVNEQFF   TRBV15 TRBJ2-1 CHP_413-01_PBMC-DNA\n",
      "28:      CATSRRGFYEQYF   TRBV27 TRBJ2-7 CHP_413-01_PBMC-DNA\n",
      "29:        CSARTGETQYF TRBV20-1 TRBJ2-5 CHP_413-01_PBMC-DNA\n",
      "30:         CSVVITEAFF TRBV29-1 TRBJ1-1 CHP_413-01_PBMC-DNA\n",
      "                 CDR3b     TRBV    TRBJ             subject\n",
      "                                                                                                            file\n",
      " 1: /Users/anabbi/Desktop/H4H/INTERCEPT/NextSeq/batch12_30Apr2021/mixcr/clones/CLONES_TRBCHP_413-01_PBMC-DNA.txt\n",
      " 2: /Users/anabbi/Desktop/H4H/INTERCEPT/NextSeq/batch12_30Apr2021/mixcr/clones/CLONES_TRBCHP_413-01_PBMC-DNA.txt\n",
      " 3: /Users/anabbi/Desktop/H4H/INTERCEPT/NextSeq/batch12_30Apr2021/mixcr/clones/CLONES_TRBCHP_413-01_PBMC-DNA.txt\n",
      " 4: /Users/anabbi/Desktop/H4H/INTERCEPT/NextSeq/batch12_30Apr2021/mixcr/clones/CLONES_TRBCHP_413-01_PBMC-DNA.txt\n",
      " 5: /Users/anabbi/Desktop/H4H/INTERCEPT/NextSeq/batch12_30Apr2021/mixcr/clones/CLONES_TRBCHP_413-01_PBMC-DNA.txt\n",
      " 6: /Users/anabbi/Desktop/H4H/INTERCEPT/NextSeq/batch12_30Apr2021/mixcr/clones/CLONES_TRBCHP_413-01_PBMC-DNA.txt\n",
      " 7: /Users/anabbi/Desktop/H4H/INTERCEPT/NextSeq/batch12_30Apr2021/mixcr/clones/CLONES_TRBCHP_413-01_PBMC-DNA.txt\n",
      " 8: /Users/anabbi/Desktop/H4H/INTERCEPT/NextSeq/batch12_30Apr2021/mixcr/clones/CLONES_TRBCHP_413-01_PBMC-DNA.txt\n",
      " 9: /Users/anabbi/Desktop/H4H/INTERCEPT/NextSeq/batch12_30Apr2021/mixcr/clones/CLONES_TRBCHP_413-01_PBMC-DNA.txt\n",
      "10: /Users/anabbi/Desktop/H4H/INTERCEPT/NextSeq/batch12_30Apr2021/mixcr/clones/CLONES_TRBCHP_413-01_PBMC-DNA.txt\n",
      "11: /Users/anabbi/Desktop/H4H/INTERCEPT/NextSeq/batch12_30Apr2021/mixcr/clones/CLONES_TRBCHP_413-01_PBMC-DNA.txt\n",
      "12: /Users/anabbi/Desktop/H4H/INTERCEPT/NextSeq/batch12_30Apr2021/mixcr/clones/CLONES_TRBCHP_413-01_PBMC-DNA.txt\n",
      "13: /Users/anabbi/Desktop/H4H/INTERCEPT/NextSeq/batch12_30Apr2021/mixcr/clones/CLONES_TRBCHP_413-01_PBMC-DNA.txt\n",
      "14: /Users/anabbi/Desktop/H4H/INTERCEPT/NextSeq/batch12_30Apr2021/mixcr/clones/CLONES_TRBCHP_413-01_PBMC-DNA.txt\n",
      "15: /Users/anabbi/Desktop/H4H/INTERCEPT/NextSeq/batch12_30Apr2021/mixcr/clones/CLONES_TRBCHP_413-01_PBMC-DNA.txt\n",
      "16: /Users/anabbi/Desktop/H4H/INTERCEPT/NextSeq/batch12_30Apr2021/mixcr/clones/CLONES_TRBCHP_413-01_PBMC-DNA.txt\n",
      "17: /Users/anabbi/Desktop/H4H/INTERCEPT/NextSeq/batch12_30Apr2021/mixcr/clones/CLONES_TRBCHP_413-01_PBMC-DNA.txt\n",
      "18: /Users/anabbi/Desktop/H4H/INTERCEPT/NextSeq/batch12_30Apr2021/mixcr/clones/CLONES_TRBCHP_413-01_PBMC-DNA.txt\n",
      "19: /Users/anabbi/Desktop/H4H/INTERCEPT/NextSeq/batch12_30Apr2021/mixcr/clones/CLONES_TRBCHP_413-01_PBMC-DNA.txt\n",
      "20: /Users/anabbi/Desktop/H4H/INTERCEPT/NextSeq/batch12_30Apr2021/mixcr/clones/CLONES_TRBCHP_413-01_PBMC-DNA.txt\n",
      "21: /Users/anabbi/Desktop/H4H/INTERCEPT/NextSeq/batch12_30Apr2021/mixcr/clones/CLONES_TRBCHP_413-01_PBMC-DNA.txt\n",
      "22: /Users/anabbi/Desktop/H4H/INTERCEPT/NextSeq/batch12_30Apr2021/mixcr/clones/CLONES_TRBCHP_413-01_PBMC-DNA.txt\n",
      "23: /Users/anabbi/Desktop/H4H/INTERCEPT/NextSeq/batch12_30Apr2021/mixcr/clones/CLONES_TRBCHP_413-01_PBMC-DNA.txt\n",
      "24: /Users/anabbi/Desktop/H4H/INTERCEPT/NextSeq/batch12_30Apr2021/mixcr/clones/CLONES_TRBCHP_413-01_PBMC-DNA.txt\n",
      "25: /Users/anabbi/Desktop/H4H/INTERCEPT/NextSeq/batch12_30Apr2021/mixcr/clones/CLONES_TRBCHP_413-01_PBMC-DNA.txt\n",
      "26: /Users/anabbi/Desktop/H4H/INTERCEPT/NextSeq/batch12_30Apr2021/mixcr/clones/CLONES_TRBCHP_413-01_PBMC-DNA.txt\n",
      "27: /Users/anabbi/Desktop/H4H/INTERCEPT/NextSeq/batch12_30Apr2021/mixcr/clones/CLONES_TRBCHP_413-01_PBMC-DNA.txt\n",
      "28: /Users/anabbi/Desktop/H4H/INTERCEPT/NextSeq/batch12_30Apr2021/mixcr/clones/CLONES_TRBCHP_413-01_PBMC-DNA.txt\n",
      "29: /Users/anabbi/Desktop/H4H/INTERCEPT/NextSeq/batch12_30Apr2021/mixcr/clones/CLONES_TRBCHP_413-01_PBMC-DNA.txt\n",
      "30: /Users/anabbi/Desktop/H4H/INTERCEPT/NextSeq/batch12_30Apr2021/mixcr/clones/CLONES_TRBCHP_413-01_PBMC-DNA.txt\n",
      "                                                                                                            file\n",
      "    count\n",
      " 1:    37\n",
      " 2:    32\n",
      " 3:    24\n",
      " 4:    28\n",
      " 5:    32\n",
      " 6:    27\n",
      " 7:    51\n",
      " 8:    34\n",
      " 9:    39\n",
      "10:    31\n",
      "11:    33\n",
      "12:    15\n",
      "13:    33\n",
      "14:    32\n",
      "15:     2\n",
      "16:     1\n",
      "17:    29\n",
      "18:    20\n",
      "19:    23\n",
      "20:    42\n",
      "21:    33\n",
      "22:    37\n",
      "23:    41\n",
      "24:    46\n",
      "25:    58\n",
      "26:    29\n",
      "27:    43\n",
      "28:    33\n",
      "29:    52\n",
      "30:    68\n",
      "    count\n",
      "                   CDR3b     TRBV    TRBJ             subject\n",
      " 1:        CAIPTGNTGELFF TRBV12-3 TRBJ2-2 CHP_417-01_PBMC-DNA\n",
      " 2:     CAISDLRGGSSYEQYF TRBV10-3 TRBJ2-7 CHP_417-01_PBMC-DNA\n",
      " 3:       CASAHRARGNTIYF TRBV12-4 TRBJ1-3 CHP_417-01_PBMC-DNA\n",
      " 4:       CASGGQGRSHGYTF   TRBV19 TRBJ1-2 CHP_417-01_PBMC-DNA\n",
      " 5:          CASGIPGQGVF  TRBV3-2 TRBJ2-7 CHP_417-01_PBMC-DNA\n",
      " 6:       CASGYSNRDQPQHF  TRBV6-2 TRBJ1-5 CHP_417-01_PBMC-DNA\n",
      " 7:        CASNLQGAGELFF   TRBV19 TRBJ2-2 CHP_417-01_PBMC-DNA\n",
      " 8:         CASRGRGGEQFF TRBV12-3 TRBJ2-1 CHP_417-01_PBMC-DNA\n",
      " 9:       CASRSGSWGEKLFF  TRBV6-2 TRBJ1-4 CHP_417-01_PBMC-DNA\n",
      "10:        CASRTLQGYEQYF  TRBV6-5 TRBJ2-7 CHP_417-01_PBMC-DNA\n",
      "11:          CASRTYDTQYF   TRBV28 TRBJ2-3 CHP_417-01_PBMC-DNA\n",
      "12:      CASRYRDTMNTEAFF  TRBV5-4 TRBJ1-1 CHP_417-01_PBMC-DNA\n",
      "13:   CASSAELGRGQGAGEQYF  TRBV7-9 TRBJ2-7 CHP_417-01_PBMC-DNA\n",
      "14:      CASSARDTKGPEAFF  TRBV7-9 TRBJ1-1 CHP_417-01_PBMC-DNA\n",
      "15: CASSASRDRVWEDSYNEQFF    TRBV9 TRBJ2-1 CHP_417-01_PBMC-DNA\n",
      "16:  CASSAYGTSGYNPQETQYF    TRBV9 TRBJ2-5 CHP_417-01_PBMC-DNA\n",
      "17:      CASSEALGDNQPQHF  TRBV6-1 TRBJ1-5 CHP_417-01_PBMC-DNA\n",
      "18:      CASSFDRELGNTIYF   TRBV28 TRBJ1-3 CHP_417-01_PBMC-DNA\n",
      "19:       CASSFSTDEFGQYF   TRBV28 TRBJ2-7 CHP_417-01_PBMC-DNA\n",
      "20:   CASSGPGTGRWANEKLFF    TRBV9 TRBJ1-4 CHP_417-01_PBMC-DNA\n",
      "21:     CASSGQGRGASYEQYF  TRBV6-1 TRBJ2-7 CHP_417-01_PBMC-DNA\n",
      "22:     CASSILAGASTDTQYF   TRBV19 TRBJ2-3 CHP_417-01_PBMC-DNA\n",
      "23:      CASSIRSSYNSPLHF   TRBV19 TRBJ1-6 CHP_417-01_PBMC-DNA\n",
      "24:      CASSLEGGGTDTQYF TRBV12-3 TRBJ2-3 CHP_417-01_PBMC-DNA\n",
      "25:        CASSLFRGREAFF  TRBV6-5 TRBJ1-1 CHP_417-01_PBMC-DNA\n",
      "26:     CASSLGGSSSTDTQYF  TRBV7-9 TRBJ2-3 CHP_417-01_PBMC-DNA\n",
      "27:      CASSLGRGGAGEQFF  TRBV5-4 TRBJ2-1 CHP_417-01_PBMC-DNA\n",
      "28:         CASSLGTGELFF TRBV11-1 TRBJ2-2 CHP_417-01_PBMC-DNA\n",
      "29:     CASSLGTIAYTGELFF  TRBV6-5 TRBJ2-2 CHP_417-01_PBMC-DNA\n",
      "30:        CASSLSGTETQYF TRBV12-3 TRBJ2-5 CHP_417-01_PBMC-DNA\n",
      "31:     CASSLTGTGDTGELFF  TRBV7-9 TRBJ2-2 CHP_417-01_PBMC-DNA\n",
      "32:      CASSLTSGSPYEQYF  TRBV5-1 TRBJ2-7 CHP_417-01_PBMC-DNA\n",
      "33:      CASSLWRARTGELFF  TRBV7-3 TRBJ2-2 CHP_417-01_PBMC-DNA\n",
      "34:        CASSPASNYGYTF   TRBV28 TRBJ1-2 CHP_417-01_PBMC-DNA\n",
      "35:      CASSPDRDSTDTQYF  TRBV6-2 TRBJ2-3 CHP_417-01_PBMC-DNA\n",
      "36:     CASSPDRGRYQETQYF    TRBV2 TRBJ2-5 CHP_417-01_PBMC-DNA\n",
      "37:       CASSPGTGTYEQYF   TRBV18 TRBJ2-7 CHP_417-01_PBMC-DNA\n",
      "38:       CASSPGTSEIEQFF TRBV12-3 TRBJ2-1 CHP_417-01_PBMC-DNA\n",
      "39:    CASSPLGLAGRTDTQYF   TRBV18 TRBJ2-3 CHP_417-01_PBMC-DNA\n",
      "40:        CASSPQGAPEAFF   TRBV18 TRBJ1-1 CHP_417-01_PBMC-DNA\n",
      "41:      CASSPRGNSYNEQFF  TRBV6-1 TRBJ2-1 CHP_417-01_PBMC-DNA\n",
      "42:       CASSPRSSNQPQHF  TRBV7-2 TRBJ1-5 CHP_417-01_PBMC-DNA\n",
      "43:       CASSPTGGGYEQYF  TRBV5-1 TRBJ2-7 CHP_417-01_PBMC-DNA\n",
      "44:       CASSPVWGGQPQHF  TRBV5-8 TRBJ1-5 CHP_417-01_PBMC-DNA\n",
      "45:          CASSPWDEQYF  TRBV7-9 TRBJ2-7 CHP_417-01_PBMC-DNA\n",
      "46:      CASSPWSGTNTEAFF  TRBV7-6 TRBJ1-1 CHP_417-01_PBMC-DNA\n",
      "47:     CASSQDRTGWAYEQYF  TRBV4-3 TRBJ2-7 CHP_417-01_PBMC-DNA\n",
      "48:    CASSQDRVGDGAGELFF  TRBV4-2 TRBJ2-2 CHP_417-01_PBMC-DNA\n",
      "49:       CASSQDSGAGRAFF  TRBV4-3 TRBJ1-1 CHP_417-01_PBMC-DNA\n",
      "50:     CASSQDTSKTGDKEFF  TRBV4-2 TRBJ2-1 CHP_417-01_PBMC-DNA\n",
      "51:  CASSQGDSDRTISGNTIYF  TRBV4-2 TRBJ1-3 CHP_417-01_PBMC-DNA\n",
      "52:      CASSQGPPPYNEQFF  TRBV3-1 TRBJ2-1 CHP_417-01_PBMC-DNA\n",
      "53:     CASSQQPGGLDYEQYF  TRBV4-2 TRBJ2-7 CHP_417-01_PBMC-DNA\n",
      "54:      CASSQWAGGGETQYF  TRBV4-1 TRBJ2-5 CHP_417-01_PBMC-DNA\n",
      "55:      CASSRTGFEPYEQYF TRBV11-2 TRBJ2-7 CHP_417-01_PBMC-DNA\n",
      "56:       CASSSFEGGPSQYF  TRBV5-4 TRBJ2-5 CHP_417-01_PBMC-DNA\n",
      "57:       CASSTDRGYQPQHF   TRBV27 TRBJ1-5 CHP_417-01_PBMC-DNA\n",
      "58:      CASSTPGQGNEKLFF   TRBV19 TRBJ1-4 CHP_417-01_PBMC-DNA\n",
      "59:     CASSVTISGTPEGYTF    TRBV9 TRBJ1-2 CHP_417-01_PBMC-DNA\n",
      "60:      CASSYEGSSYNEQFF  TRBV6-5 TRBJ2-1 CHP_417-01_PBMC-DNA\n",
      "61:          CASSYPETQYF  TRBV6-3 TRBJ2-5 CHP_417-01_PBMC-DNA\n",
      "62:     CASSYRARDTLYEQYF  TRBV4-1 TRBJ2-7 CHP_417-01_PBMC-DNA\n",
      "63:   CASSYRDGRSSGANVLTF   TRBV28 TRBJ2-6 CHP_417-01_PBMC-DNA\n",
      "64:         CASTGQAYEQYF  TRBV3-1 TRBJ2-7 CHP_417-01_PBMC-DNA\n",
      "65:        CASTPPDRPEAFF    TRBV2 TRBJ1-1 CHP_417-01_PBMC-DNA\n",
      "66:    CASTYRVMSNSNQPQHF   TRBV19 TRBJ1-5 CHP_417-01_PBMC-DNA\n",
      "67:       CATRDGVGNTEAFF  TRBV5-1 TRBJ1-1 CHP_417-01_PBMC-DNA\n",
      "68:       CATSDAGVPSEAFF TRBV24-1 TRBJ1-1 CHP_417-01_PBMC-DNA\n",
      "69:    CATSRELSERGYYEQYF   TRBV15 TRBJ2-7 CHP_417-01_PBMC-DNA\n",
      "70:    CSAEGPLAGVPRETQYF TRBV20-1 TRBJ2-5 CHP_417-01_PBMC-DNA\n",
      "71:      CSAPDLIIANYGYTF TRBV20-1 TRBJ1-2 CHP_417-01_PBMC-DNA\n",
      "72:    CSARDPGAGTGLLEQYF TRBV20-1 TRBJ2-7 CHP_417-01_PBMC-DNA\n",
      "73:         CSARESSYEQYF TRBV20-1 TRBJ2-7 CHP_417-01_PBMC-DNA\n",
      "74:           CSAVENEQFF TRBV20-1 TRBJ2-1 CHP_417-01_PBMC-DNA\n",
      "75:         CSAVGLKAEAFF TRBV20-1 TRBJ1-1 CHP_417-01_PBMC-DNA\n",
      "76:        CSGRGERNYEQYF TRBV20-1 TRBJ2-7 CHP_417-01_PBMC-DNA\n",
      "77:           CSVVGAVAFF TRBV29-1 TRBJ1-1 CHP_417-01_PBMC-DNA\n",
      "78:         PPRWGGTDTQYF TRBV11-2 TRBJ2-3 CHP_417-01_PBMC-DNA\n",
      "                   CDR3b     TRBV    TRBJ             subject\n",
      "                                                                                                            file\n",
      " 1: /Users/anabbi/Desktop/H4H/INTERCEPT/NextSeq/batch12_30Apr2021/mixcr/clones/CLONES_TRBCHP_417-01_PBMC-DNA.txt\n",
      " 2: /Users/anabbi/Desktop/H4H/INTERCEPT/NextSeq/batch12_30Apr2021/mixcr/clones/CLONES_TRBCHP_417-01_PBMC-DNA.txt\n",
      " 3: /Users/anabbi/Desktop/H4H/INTERCEPT/NextSeq/batch12_30Apr2021/mixcr/clones/CLONES_TRBCHP_417-01_PBMC-DNA.txt\n",
      " 4: /Users/anabbi/Desktop/H4H/INTERCEPT/NextSeq/batch12_30Apr2021/mixcr/clones/CLONES_TRBCHP_417-01_PBMC-DNA.txt\n",
      " 5: /Users/anabbi/Desktop/H4H/INTERCEPT/NextSeq/batch12_30Apr2021/mixcr/clones/CLONES_TRBCHP_417-01_PBMC-DNA.txt\n",
      " 6: /Users/anabbi/Desktop/H4H/INTERCEPT/NextSeq/batch12_30Apr2021/mixcr/clones/CLONES_TRBCHP_417-01_PBMC-DNA.txt\n",
      " 7: /Users/anabbi/Desktop/H4H/INTERCEPT/NextSeq/batch12_30Apr2021/mixcr/clones/CLONES_TRBCHP_417-01_PBMC-DNA.txt\n",
      " 8: /Users/anabbi/Desktop/H4H/INTERCEPT/NextSeq/batch12_30Apr2021/mixcr/clones/CLONES_TRBCHP_417-01_PBMC-DNA.txt\n",
      " 9: /Users/anabbi/Desktop/H4H/INTERCEPT/NextSeq/batch12_30Apr2021/mixcr/clones/CLONES_TRBCHP_417-01_PBMC-DNA.txt\n",
      "10: /Users/anabbi/Desktop/H4H/INTERCEPT/NextSeq/batch12_30Apr2021/mixcr/clones/CLONES_TRBCHP_417-01_PBMC-DNA.txt\n",
      "11: /Users/anabbi/Desktop/H4H/INTERCEPT/NextSeq/batch12_30Apr2021/mixcr/clones/CLONES_TRBCHP_417-01_PBMC-DNA.txt\n",
      "12: /Users/anabbi/Desktop/H4H/INTERCEPT/NextSeq/batch12_30Apr2021/mixcr/clones/CLONES_TRBCHP_417-01_PBMC-DNA.txt\n",
      "13: /Users/anabbi/Desktop/H4H/INTERCEPT/NextSeq/batch12_30Apr2021/mixcr/clones/CLONES_TRBCHP_417-01_PBMC-DNA.txt\n",
      "14: /Users/anabbi/Desktop/H4H/INTERCEPT/NextSeq/batch12_30Apr2021/mixcr/clones/CLONES_TRBCHP_417-01_PBMC-DNA.txt\n",
      "15: /Users/anabbi/Desktop/H4H/INTERCEPT/NextSeq/batch12_30Apr2021/mixcr/clones/CLONES_TRBCHP_417-01_PBMC-DNA.txt\n",
      "16: /Users/anabbi/Desktop/H4H/INTERCEPT/NextSeq/batch12_30Apr2021/mixcr/clones/CLONES_TRBCHP_417-01_PBMC-DNA.txt\n",
      "17: /Users/anabbi/Desktop/H4H/INTERCEPT/NextSeq/batch12_30Apr2021/mixcr/clones/CLONES_TRBCHP_417-01_PBMC-DNA.txt\n",
      "18: /Users/anabbi/Desktop/H4H/INTERCEPT/NextSeq/batch12_30Apr2021/mixcr/clones/CLONES_TRBCHP_417-01_PBMC-DNA.txt\n",
      "19: /Users/anabbi/Desktop/H4H/INTERCEPT/NextSeq/batch12_30Apr2021/mixcr/clones/CLONES_TRBCHP_417-01_PBMC-DNA.txt\n",
      "20: /Users/anabbi/Desktop/H4H/INTERCEPT/NextSeq/batch12_30Apr2021/mixcr/clones/CLONES_TRBCHP_417-01_PBMC-DNA.txt\n",
      "21: /Users/anabbi/Desktop/H4H/INTERCEPT/NextSeq/batch12_30Apr2021/mixcr/clones/CLONES_TRBCHP_417-01_PBMC-DNA.txt\n",
      "22: /Users/anabbi/Desktop/H4H/INTERCEPT/NextSeq/batch12_30Apr2021/mixcr/clones/CLONES_TRBCHP_417-01_PBMC-DNA.txt\n",
      "23: /Users/anabbi/Desktop/H4H/INTERCEPT/NextSeq/batch12_30Apr2021/mixcr/clones/CLONES_TRBCHP_417-01_PBMC-DNA.txt\n",
      "24: /Users/anabbi/Desktop/H4H/INTERCEPT/NextSeq/batch12_30Apr2021/mixcr/clones/CLONES_TRBCHP_417-01_PBMC-DNA.txt\n",
      "25: /Users/anabbi/Desktop/H4H/INTERCEPT/NextSeq/batch12_30Apr2021/mixcr/clones/CLONES_TRBCHP_417-01_PBMC-DNA.txt\n",
      "26: /Users/anabbi/Desktop/H4H/INTERCEPT/NextSeq/batch12_30Apr2021/mixcr/clones/CLONES_TRBCHP_417-01_PBMC-DNA.txt\n",
      "27: /Users/anabbi/Desktop/H4H/INTERCEPT/NextSeq/batch12_30Apr2021/mixcr/clones/CLONES_TRBCHP_417-01_PBMC-DNA.txt\n",
      "28: /Users/anabbi/Desktop/H4H/INTERCEPT/NextSeq/batch12_30Apr2021/mixcr/clones/CLONES_TRBCHP_417-01_PBMC-DNA.txt\n",
      "29: /Users/anabbi/Desktop/H4H/INTERCEPT/NextSeq/batch12_30Apr2021/mixcr/clones/CLONES_TRBCHP_417-01_PBMC-DNA.txt\n",
      "30: /Users/anabbi/Desktop/H4H/INTERCEPT/NextSeq/batch12_30Apr2021/mixcr/clones/CLONES_TRBCHP_417-01_PBMC-DNA.txt\n",
      "31: /Users/anabbi/Desktop/H4H/INTERCEPT/NextSeq/batch12_30Apr2021/mixcr/clones/CLONES_TRBCHP_417-01_PBMC-DNA.txt\n",
      "32: /Users/anabbi/Desktop/H4H/INTERCEPT/NextSeq/batch12_30Apr2021/mixcr/clones/CLONES_TRBCHP_417-01_PBMC-DNA.txt\n",
      "33: /Users/anabbi/Desktop/H4H/INTERCEPT/NextSeq/batch12_30Apr2021/mixcr/clones/CLONES_TRBCHP_417-01_PBMC-DNA.txt\n",
      "34: /Users/anabbi/Desktop/H4H/INTERCEPT/NextSeq/batch12_30Apr2021/mixcr/clones/CLONES_TRBCHP_417-01_PBMC-DNA.txt\n",
      "35: /Users/anabbi/Desktop/H4H/INTERCEPT/NextSeq/batch12_30Apr2021/mixcr/clones/CLONES_TRBCHP_417-01_PBMC-DNA.txt\n",
      "36: /Users/anabbi/Desktop/H4H/INTERCEPT/NextSeq/batch12_30Apr2021/mixcr/clones/CLONES_TRBCHP_417-01_PBMC-DNA.txt\n",
      "37: /Users/anabbi/Desktop/H4H/INTERCEPT/NextSeq/batch12_30Apr2021/mixcr/clones/CLONES_TRBCHP_417-01_PBMC-DNA.txt\n",
      "38: /Users/anabbi/Desktop/H4H/INTERCEPT/NextSeq/batch12_30Apr2021/mixcr/clones/CLONES_TRBCHP_417-01_PBMC-DNA.txt\n",
      "39: /Users/anabbi/Desktop/H4H/INTERCEPT/NextSeq/batch12_30Apr2021/mixcr/clones/CLONES_TRBCHP_417-01_PBMC-DNA.txt\n",
      "40: /Users/anabbi/Desktop/H4H/INTERCEPT/NextSeq/batch12_30Apr2021/mixcr/clones/CLONES_TRBCHP_417-01_PBMC-DNA.txt\n",
      "41: /Users/anabbi/Desktop/H4H/INTERCEPT/NextSeq/batch12_30Apr2021/mixcr/clones/CLONES_TRBCHP_417-01_PBMC-DNA.txt\n",
      "42: /Users/anabbi/Desktop/H4H/INTERCEPT/NextSeq/batch12_30Apr2021/mixcr/clones/CLONES_TRBCHP_417-01_PBMC-DNA.txt\n",
      "43: /Users/anabbi/Desktop/H4H/INTERCEPT/NextSeq/batch12_30Apr2021/mixcr/clones/CLONES_TRBCHP_417-01_PBMC-DNA.txt\n",
      "44: /Users/anabbi/Desktop/H4H/INTERCEPT/NextSeq/batch12_30Apr2021/mixcr/clones/CLONES_TRBCHP_417-01_PBMC-DNA.txt\n",
      "45: /Users/anabbi/Desktop/H4H/INTERCEPT/NextSeq/batch12_30Apr2021/mixcr/clones/CLONES_TRBCHP_417-01_PBMC-DNA.txt\n",
      "46: /Users/anabbi/Desktop/H4H/INTERCEPT/NextSeq/batch12_30Apr2021/mixcr/clones/CLONES_TRBCHP_417-01_PBMC-DNA.txt\n",
      "47: /Users/anabbi/Desktop/H4H/INTERCEPT/NextSeq/batch12_30Apr2021/mixcr/clones/CLONES_TRBCHP_417-01_PBMC-DNA.txt\n",
      "48: /Users/anabbi/Desktop/H4H/INTERCEPT/NextSeq/batch12_30Apr2021/mixcr/clones/CLONES_TRBCHP_417-01_PBMC-DNA.txt\n",
      "49: /Users/anabbi/Desktop/H4H/INTERCEPT/NextSeq/batch12_30Apr2021/mixcr/clones/CLONES_TRBCHP_417-01_PBMC-DNA.txt\n",
      "50: /Users/anabbi/Desktop/H4H/INTERCEPT/NextSeq/batch12_30Apr2021/mixcr/clones/CLONES_TRBCHP_417-01_PBMC-DNA.txt\n",
      "51: /Users/anabbi/Desktop/H4H/INTERCEPT/NextSeq/batch12_30Apr2021/mixcr/clones/CLONES_TRBCHP_417-01_PBMC-DNA.txt\n",
      "52: /Users/anabbi/Desktop/H4H/INTERCEPT/NextSeq/batch12_30Apr2021/mixcr/clones/CLONES_TRBCHP_417-01_PBMC-DNA.txt\n",
      "53: /Users/anabbi/Desktop/H4H/INTERCEPT/NextSeq/batch12_30Apr2021/mixcr/clones/CLONES_TRBCHP_417-01_PBMC-DNA.txt\n",
      "54: /Users/anabbi/Desktop/H4H/INTERCEPT/NextSeq/batch12_30Apr2021/mixcr/clones/CLONES_TRBCHP_417-01_PBMC-DNA.txt\n",
      "55: /Users/anabbi/Desktop/H4H/INTERCEPT/NextSeq/batch12_30Apr2021/mixcr/clones/CLONES_TRBCHP_417-01_PBMC-DNA.txt\n",
      "56: /Users/anabbi/Desktop/H4H/INTERCEPT/NextSeq/batch12_30Apr2021/mixcr/clones/CLONES_TRBCHP_417-01_PBMC-DNA.txt\n",
      "57: /Users/anabbi/Desktop/H4H/INTERCEPT/NextSeq/batch12_30Apr2021/mixcr/clones/CLONES_TRBCHP_417-01_PBMC-DNA.txt\n",
      "58: /Users/anabbi/Desktop/H4H/INTERCEPT/NextSeq/batch12_30Apr2021/mixcr/clones/CLONES_TRBCHP_417-01_PBMC-DNA.txt\n",
      "59: /Users/anabbi/Desktop/H4H/INTERCEPT/NextSeq/batch12_30Apr2021/mixcr/clones/CLONES_TRBCHP_417-01_PBMC-DNA.txt\n",
      "60: /Users/anabbi/Desktop/H4H/INTERCEPT/NextSeq/batch12_30Apr2021/mixcr/clones/CLONES_TRBCHP_417-01_PBMC-DNA.txt\n",
      "61: /Users/anabbi/Desktop/H4H/INTERCEPT/NextSeq/batch12_30Apr2021/mixcr/clones/CLONES_TRBCHP_417-01_PBMC-DNA.txt\n",
      "62: /Users/anabbi/Desktop/H4H/INTERCEPT/NextSeq/batch12_30Apr2021/mixcr/clones/CLONES_TRBCHP_417-01_PBMC-DNA.txt\n",
      "63: /Users/anabbi/Desktop/H4H/INTERCEPT/NextSeq/batch12_30Apr2021/mixcr/clones/CLONES_TRBCHP_417-01_PBMC-DNA.txt\n",
      "64: /Users/anabbi/Desktop/H4H/INTERCEPT/NextSeq/batch12_30Apr2021/mixcr/clones/CLONES_TRBCHP_417-01_PBMC-DNA.txt\n",
      "65: /Users/anabbi/Desktop/H4H/INTERCEPT/NextSeq/batch12_30Apr2021/mixcr/clones/CLONES_TRBCHP_417-01_PBMC-DNA.txt\n",
      "66: /Users/anabbi/Desktop/H4H/INTERCEPT/NextSeq/batch12_30Apr2021/mixcr/clones/CLONES_TRBCHP_417-01_PBMC-DNA.txt\n",
      "67: /Users/anabbi/Desktop/H4H/INTERCEPT/NextSeq/batch12_30Apr2021/mixcr/clones/CLONES_TRBCHP_417-01_PBMC-DNA.txt\n",
      "68: /Users/anabbi/Desktop/H4H/INTERCEPT/NextSeq/batch12_30Apr2021/mixcr/clones/CLONES_TRBCHP_417-01_PBMC-DNA.txt\n",
      "69: /Users/anabbi/Desktop/H4H/INTERCEPT/NextSeq/batch12_30Apr2021/mixcr/clones/CLONES_TRBCHP_417-01_PBMC-DNA.txt\n",
      "70: /Users/anabbi/Desktop/H4H/INTERCEPT/NextSeq/batch12_30Apr2021/mixcr/clones/CLONES_TRBCHP_417-01_PBMC-DNA.txt\n",
      "71: /Users/anabbi/Desktop/H4H/INTERCEPT/NextSeq/batch12_30Apr2021/mixcr/clones/CLONES_TRBCHP_417-01_PBMC-DNA.txt\n",
      "72: /Users/anabbi/Desktop/H4H/INTERCEPT/NextSeq/batch12_30Apr2021/mixcr/clones/CLONES_TRBCHP_417-01_PBMC-DNA.txt\n",
      "73: /Users/anabbi/Desktop/H4H/INTERCEPT/NextSeq/batch12_30Apr2021/mixcr/clones/CLONES_TRBCHP_417-01_PBMC-DNA.txt\n",
      "74: /Users/anabbi/Desktop/H4H/INTERCEPT/NextSeq/batch12_30Apr2021/mixcr/clones/CLONES_TRBCHP_417-01_PBMC-DNA.txt\n",
      "75: /Users/anabbi/Desktop/H4H/INTERCEPT/NextSeq/batch12_30Apr2021/mixcr/clones/CLONES_TRBCHP_417-01_PBMC-DNA.txt\n",
      "76: /Users/anabbi/Desktop/H4H/INTERCEPT/NextSeq/batch12_30Apr2021/mixcr/clones/CLONES_TRBCHP_417-01_PBMC-DNA.txt\n",
      "77: /Users/anabbi/Desktop/H4H/INTERCEPT/NextSeq/batch12_30Apr2021/mixcr/clones/CLONES_TRBCHP_417-01_PBMC-DNA.txt\n",
      "78: /Users/anabbi/Desktop/H4H/INTERCEPT/NextSeq/batch12_30Apr2021/mixcr/clones/CLONES_TRBCHP_417-01_PBMC-DNA.txt\n",
      "                                                                                                            file\n",
      "    count\n",
      " 1:    30\n",
      " 2:    33\n",
      " 3:    30\n",
      " 4:    43\n",
      " 5:    38\n",
      " 6:    46\n",
      " 7:    19\n",
      " 8:    49\n",
      " 9:   100\n",
      "10:    36\n",
      "11:    38\n",
      "12:    48\n",
      "13:    15\n",
      "14:    41\n",
      "15:    46\n",
      "16:    30\n",
      "17:    34\n",
      "18:    46\n",
      "19:    48\n",
      "20:    58\n",
      "21:     3\n",
      "22:    32\n",
      "23:    50\n",
      "24:    15\n",
      "25:    43\n",
      "26:    23\n",
      "27:    31\n",
      "28:    23\n",
      "29:     2\n",
      "30:    41\n",
      "31:    22\n",
      "32:    15\n",
      "33:    43\n",
      "34:    42\n",
      "35:    34\n",
      "36:  9553\n",
      "37:    64\n",
      "38:    31\n",
      "39:     1\n",
      "40:    57\n",
      "41:    40\n",
      "42:    31\n",
      "43:    54\n",
      "44:    97\n",
      "45:    70\n",
      "46:    51\n",
      "47:    49\n",
      "48:    42\n",
      "49:    58\n",
      "50:    43\n",
      "51:    58\n",
      "52:    27\n",
      "53:    38\n",
      "54:    48\n",
      "55:    62\n",
      "56:    19\n",
      "57:    58\n",
      "58:    38\n",
      "59:    25\n",
      "60:    29\n",
      "61:    40\n",
      "62:    80\n",
      "63:    36\n",
      "64:    39\n",
      "65:    47\n",
      "66:   100\n",
      "67:   104\n",
      "68:    53\n",
      "69:    38\n",
      "70:    13\n",
      "71:    67\n",
      "72:   101\n",
      "73:    40\n",
      "74:    40\n",
      "75:    11\n",
      "76:    54\n",
      "77:    55\n",
      "78:    29\n",
      "    count\n",
      "              CDR3b     TRBV    TRBJ             subject\n",
      "  1:  CAAGGRVNTEAFF   TRBV15 TRBJ1-1 CHP_411-01-PBMC-DNA\n",
      "  2:  CAFVSWGNYEQYF   TRBV30 TRBJ2-7 CHP_411-01-PBMC-DNA\n",
      "  3:  CAGGQGVGTEAFF   TRBV30 TRBJ1-1 CHP_411-01-PBMC-DNA\n",
      "  4: CAINEEGMVAEAFF TRBV10-3 TRBJ1-1 CHP_411-01-PBMC-DNA\n",
      "  5:    CAISADRGPSL TRBV10-3 TRBJ2-1 CHP_411-01-PBMC-DNA\n",
      " ---                                                    \n",
      "356:  CSVGSGFQGEAFF TRBV29-1 TRBJ1-1 CHP_411-01-PBMC-DNA\n",
      "357:  CSVPPGHQAGYTF TRBV29-1 TRBJ1-2 CHP_411-01-PBMC-DNA\n",
      "358:    CSVQANYGYTF TRBV29-1 TRBJ1-2 CHP_411-01-PBMC-DNA\n",
      "359: CSVRARDRATEAFF TRBV29-1 TRBJ1-1 CHP_411-01-PBMC-DNA\n",
      "360: CVSSLSTNTGELFF   TRBV27 TRBJ2-2 CHP_411-01-PBMC-DNA\n",
      "                                                                                                             file\n",
      "  1: /Users/anabbi/Desktop/H4H/INTERCEPT/NextSeq/batch13_26Aug2020/mixcr/clones/CLONES_TRBCHP_411-01-PBMC-DNA.txt\n",
      "  2: /Users/anabbi/Desktop/H4H/INTERCEPT/NextSeq/batch13_26Aug2020/mixcr/clones/CLONES_TRBCHP_411-01-PBMC-DNA.txt\n",
      "  3: /Users/anabbi/Desktop/H4H/INTERCEPT/NextSeq/batch13_26Aug2020/mixcr/clones/CLONES_TRBCHP_411-01-PBMC-DNA.txt\n",
      "  4: /Users/anabbi/Desktop/H4H/INTERCEPT/NextSeq/batch13_26Aug2020/mixcr/clones/CLONES_TRBCHP_411-01-PBMC-DNA.txt\n",
      "  5: /Users/anabbi/Desktop/H4H/INTERCEPT/NextSeq/batch13_26Aug2020/mixcr/clones/CLONES_TRBCHP_411-01-PBMC-DNA.txt\n",
      " ---                                                                                                             \n",
      "356: /Users/anabbi/Desktop/H4H/INTERCEPT/NextSeq/batch13_26Aug2020/mixcr/clones/CLONES_TRBCHP_411-01-PBMC-DNA.txt\n",
      "357: /Users/anabbi/Desktop/H4H/INTERCEPT/NextSeq/batch13_26Aug2020/mixcr/clones/CLONES_TRBCHP_411-01-PBMC-DNA.txt\n",
      "358: /Users/anabbi/Desktop/H4H/INTERCEPT/NextSeq/batch13_26Aug2020/mixcr/clones/CLONES_TRBCHP_411-01-PBMC-DNA.txt\n",
      "359: /Users/anabbi/Desktop/H4H/INTERCEPT/NextSeq/batch13_26Aug2020/mixcr/clones/CLONES_TRBCHP_411-01-PBMC-DNA.txt\n",
      "360: /Users/anabbi/Desktop/H4H/INTERCEPT/NextSeq/batch13_26Aug2020/mixcr/clones/CLONES_TRBCHP_411-01-PBMC-DNA.txt\n",
      "     count\n",
      "  1:   354\n",
      "  2:   935\n",
      "  3:     1\n",
      "  4:   500\n",
      "  5:   354\n",
      " ---      \n",
      "356:   841\n",
      "357:   559\n",
      "358:   157\n",
      "359:     2\n",
      "360:    31\n",
      "                CDR3b     TRBV    TRBJ             subject\n",
      "  1: CAISEPRQGGAGGYTF TRBV10-3 TRBJ1-2 CHP_415-01-PBMC-DNA\n",
      "  2:  CASARQGGGDTEAFF  TRBV7-6 TRBJ1-1 CHP_415-01-PBMC-DNA\n",
      "  3:   CASGLGHSNQPQHF TRBV12-5 TRBJ1-5 CHP_415-01-PBMC-DNA\n",
      "  4: CASILGGSGSYNEQFF   TRBV19 TRBJ2-1 CHP_415-01-PBMC-DNA\n",
      "  5:   CASILTAANYGYTF  TRBV6-1 TRBJ1-2 CHP_415-01-PBMC-DNA\n",
      " ---                                                      \n",
      "122:    CSASRGDHYEQYF TRBV20-1 TRBJ2-7 CHP_415-01-PBMC-DNA\n",
      "123:  CSASRQGDSNQPQHF TRBV20-1 TRBJ1-5 CHP_415-01-PBMC-DNA\n",
      "124:    CSATEQGSYGYTF TRBV20-1 TRBJ1-2 CHP_415-01-PBMC-DNA\n",
      "125:   CSVEVMGGENGYTF TRBV29-1 TRBJ1-2 CHP_415-01-PBMC-DNA\n",
      "126:      CSVVTSYGYTF TRBV29-1 TRBJ1-2 CHP_415-01-PBMC-DNA\n",
      "                                                                                                             file\n",
      "  1: /Users/anabbi/Desktop/H4H/INTERCEPT/NextSeq/batch13_26Aug2020/mixcr/clones/CLONES_TRBCHP_415-01-PBMC-DNA.txt\n",
      "  2: /Users/anabbi/Desktop/H4H/INTERCEPT/NextSeq/batch13_26Aug2020/mixcr/clones/CLONES_TRBCHP_415-01-PBMC-DNA.txt\n",
      "  3: /Users/anabbi/Desktop/H4H/INTERCEPT/NextSeq/batch13_26Aug2020/mixcr/clones/CLONES_TRBCHP_415-01-PBMC-DNA.txt\n",
      "  4: /Users/anabbi/Desktop/H4H/INTERCEPT/NextSeq/batch13_26Aug2020/mixcr/clones/CLONES_TRBCHP_415-01-PBMC-DNA.txt\n",
      "  5: /Users/anabbi/Desktop/H4H/INTERCEPT/NextSeq/batch13_26Aug2020/mixcr/clones/CLONES_TRBCHP_415-01-PBMC-DNA.txt\n",
      " ---                                                                                                             \n",
      "122: /Users/anabbi/Desktop/H4H/INTERCEPT/NextSeq/batch13_26Aug2020/mixcr/clones/CLONES_TRBCHP_415-01-PBMC-DNA.txt\n",
      "123: /Users/anabbi/Desktop/H4H/INTERCEPT/NextSeq/batch13_26Aug2020/mixcr/clones/CLONES_TRBCHP_415-01-PBMC-DNA.txt\n",
      "124: /Users/anabbi/Desktop/H4H/INTERCEPT/NextSeq/batch13_26Aug2020/mixcr/clones/CLONES_TRBCHP_415-01-PBMC-DNA.txt\n",
      "125: /Users/anabbi/Desktop/H4H/INTERCEPT/NextSeq/batch13_26Aug2020/mixcr/clones/CLONES_TRBCHP_415-01-PBMC-DNA.txt\n",
      "126: /Users/anabbi/Desktop/H4H/INTERCEPT/NextSeq/batch13_26Aug2020/mixcr/clones/CLONES_TRBCHP_415-01-PBMC-DNA.txt\n",
      "     count\n",
      "  1:    14\n",
      "  2:    98\n",
      "  3:   111\n",
      "  4:   110\n",
      "  5:   108\n",
      " ---      \n",
      "122:   260\n",
      "123:   215\n",
      "124:   217\n",
      "125:   118\n",
      "126:   101\n",
      "                 CDR3b     TRBV    TRBJ             subject\n",
      "  1:      CAFNPQGNEQYF   TRBV30 TRBJ2-7 CHP_416-01-PBMC-DNA\n",
      "  2:       CAGGGYTEAFF TRBV10-1 TRBJ1-1 CHP_416-01-PBMC-DNA\n",
      "  3: CAGSQDAGGVSSYEQYF  TRBV4-1 TRBJ2-7 CHP_416-01-PBMC-DNA\n",
      "  4:      CAIQGGDEKLFF TRBV10-3 TRBJ1-4 CHP_416-01-PBMC-DNA\n",
      "  5:   CAIRVTGGTTDTQYF  TRBV6-4 TRBJ2-3 CHP_416-01-PBMC-DNA\n",
      " ---                                                       \n",
      "471:     CSVSGRLVEEQYF TRBV29-1 TRBJ2-7 CHP_416-01-PBMC-DNA\n",
      "472:    CSVSLAGAGDTQYF TRBV29-1 TRBJ2-3 CHP_416-01-PBMC-DNA\n",
      "473:     CSVTGRSNTEAFF TRBV29-1 TRBJ1-1 CHP_416-01-PBMC-DNA\n",
      "474:   CTSSPLGGGHYGYTF    TRBV1 TRBJ1-2 CHP_416-01-PBMC-DNA\n",
      "475:   RASLSRTGGTDTQYF    TRBV2 TRBJ2-3 CHP_416-01-PBMC-DNA\n",
      "                                                                                                             file\n",
      "  1: /Users/anabbi/Desktop/H4H/INTERCEPT/NextSeq/batch13_26Aug2020/mixcr/clones/CLONES_TRBCHP_416-01-PBMC-DNA.txt\n",
      "  2: /Users/anabbi/Desktop/H4H/INTERCEPT/NextSeq/batch13_26Aug2020/mixcr/clones/CLONES_TRBCHP_416-01-PBMC-DNA.txt\n",
      "  3: /Users/anabbi/Desktop/H4H/INTERCEPT/NextSeq/batch13_26Aug2020/mixcr/clones/CLONES_TRBCHP_416-01-PBMC-DNA.txt\n",
      "  4: /Users/anabbi/Desktop/H4H/INTERCEPT/NextSeq/batch13_26Aug2020/mixcr/clones/CLONES_TRBCHP_416-01-PBMC-DNA.txt\n",
      "  5: /Users/anabbi/Desktop/H4H/INTERCEPT/NextSeq/batch13_26Aug2020/mixcr/clones/CLONES_TRBCHP_416-01-PBMC-DNA.txt\n",
      " ---                                                                                                             \n",
      "471: /Users/anabbi/Desktop/H4H/INTERCEPT/NextSeq/batch13_26Aug2020/mixcr/clones/CLONES_TRBCHP_416-01-PBMC-DNA.txt\n",
      "472: /Users/anabbi/Desktop/H4H/INTERCEPT/NextSeq/batch13_26Aug2020/mixcr/clones/CLONES_TRBCHP_416-01-PBMC-DNA.txt\n",
      "473: /Users/anabbi/Desktop/H4H/INTERCEPT/NextSeq/batch13_26Aug2020/mixcr/clones/CLONES_TRBCHP_416-01-PBMC-DNA.txt\n",
      "474: /Users/anabbi/Desktop/H4H/INTERCEPT/NextSeq/batch13_26Aug2020/mixcr/clones/CLONES_TRBCHP_416-01-PBMC-DNA.txt\n",
      "475: /Users/anabbi/Desktop/H4H/INTERCEPT/NextSeq/batch13_26Aug2020/mixcr/clones/CLONES_TRBCHP_416-01-PBMC-DNA.txt\n",
      "     count\n",
      "  1:    44\n",
      "  2:    20\n",
      "  3:     1\n",
      "  4:   109\n",
      "  5:   141\n",
      " ---      \n",
      "471:   165\n",
      "472:   222\n",
      "473:    49\n",
      "474:   123\n",
      "475:     9\n",
      "                CDR3b     TRBV    TRBJ             subject\n",
      "  1: CAINSGQADSTGELFF TRBV10-3 TRBJ2-2 CHP_418-01-PBMC-DNA\n",
      "  2:   CAISESTDTDEAFF TRBV10-3 TRBJ1-1 CHP_418-01-PBMC-DNA\n",
      "  3: CASIATSGGYQETQYF  TRBV7-6 TRBJ2-5 CHP_418-01-PBMC-DNA\n",
      "  4:   CASIGFSGGYGYTF   TRBV19 TRBJ1-2 CHP_418-01-PBMC-DNA\n",
      "  5:     CASIRGVTEAFF  TRBV7-9 TRBJ1-1 CHP_418-01-PBMC-DNA\n",
      " ---                                                      \n",
      "130:  CSARRPRPMNNEQFF TRBV20-1 TRBJ2-1 CHP_418-01-PBMC-DNA\n",
      "131:     CSARWGNTEAFF TRBV20-1 TRBJ1-1 CHP_418-01-PBMC-DNA\n",
      "132:  CSASSTDASFYGYTF TRBV20-1 TRBJ1-2 CHP_418-01-PBMC-DNA\n",
      "133:    CSATQVLNEKLFF TRBV20-1 TRBJ1-4 CHP_418-01-PBMC-DNA\n",
      "134:      CSGGTGNGYTF TRBV29-1 TRBJ1-2 CHP_418-01-PBMC-DNA\n",
      "                                                                                                             file\n",
      "  1: /Users/anabbi/Desktop/H4H/INTERCEPT/NextSeq/batch13_26Aug2020/mixcr/clones/CLONES_TRBCHP_418-01-PBMC-DNA.txt\n",
      "  2: /Users/anabbi/Desktop/H4H/INTERCEPT/NextSeq/batch13_26Aug2020/mixcr/clones/CLONES_TRBCHP_418-01-PBMC-DNA.txt\n",
      "  3: /Users/anabbi/Desktop/H4H/INTERCEPT/NextSeq/batch13_26Aug2020/mixcr/clones/CLONES_TRBCHP_418-01-PBMC-DNA.txt\n",
      "  4: /Users/anabbi/Desktop/H4H/INTERCEPT/NextSeq/batch13_26Aug2020/mixcr/clones/CLONES_TRBCHP_418-01-PBMC-DNA.txt\n",
      "  5: /Users/anabbi/Desktop/H4H/INTERCEPT/NextSeq/batch13_26Aug2020/mixcr/clones/CLONES_TRBCHP_418-01-PBMC-DNA.txt\n",
      " ---                                                                                                             \n",
      "130: /Users/anabbi/Desktop/H4H/INTERCEPT/NextSeq/batch13_26Aug2020/mixcr/clones/CLONES_TRBCHP_418-01-PBMC-DNA.txt\n",
      "131: /Users/anabbi/Desktop/H4H/INTERCEPT/NextSeq/batch13_26Aug2020/mixcr/clones/CLONES_TRBCHP_418-01-PBMC-DNA.txt\n",
      "132: /Users/anabbi/Desktop/H4H/INTERCEPT/NextSeq/batch13_26Aug2020/mixcr/clones/CLONES_TRBCHP_418-01-PBMC-DNA.txt\n",
      "133: /Users/anabbi/Desktop/H4H/INTERCEPT/NextSeq/batch13_26Aug2020/mixcr/clones/CLONES_TRBCHP_418-01-PBMC-DNA.txt\n",
      "134: /Users/anabbi/Desktop/H4H/INTERCEPT/NextSeq/batch13_26Aug2020/mixcr/clones/CLONES_TRBCHP_418-01-PBMC-DNA.txt\n",
      "     count\n",
      "  1:    78\n",
      "  2:   168\n",
      "  3:    51\n",
      "  4:   205\n",
      "  5:    90\n",
      " ---      \n",
      "130:   149\n",
      "131:    23\n",
      "132:    34\n",
      "133:   159\n",
      "134:   169\n",
      "                CDR3b     TRBV    TRBJ             subject\n",
      "  1:      CAGIWVYEQYF   TRBV19 TRBJ2-7 CHP_422-01_-PBMC-DN\n",
      "  2:   CAIASGIWVYEQYF TRBV10-3 TRBJ2-7 CHP_422-01_-PBMC-DN\n",
      "  3:    CAITGIWVYEQYF TRBV10-3 TRBJ2-7 CHP_422-01_-PBMC-DN\n",
      "  4: CALNSFLGIWVYEQYF   TRBV18 TRBJ2-7 CHP_422-01_-PBMC-DN\n",
      "  5:    CARTGIWVYEQYF   TRBV19 TRBJ2-7 CHP_422-01_-PBMC-DN\n",
      " ---                                                      \n",
      "141:    CSPTGIWVYEQYF TRBV20-1 TRBJ2-7 CHP_422-01_-PBMC-DN\n",
      "142:  CSVEGGQGQMRGYTF TRBV29-1 TRBJ1-2 CHP_422-01_-PBMC-DN\n",
      "143:  CSVGETGIWVYEQYF TRBV29-1 TRBJ2-7 CHP_422-01_-PBMC-DN\n",
      "144:    CSVSRDRNTEAFF TRBV29-1 TRBJ1-1 CHP_422-01_-PBMC-DN\n",
      "145:    CTNRGIWVYEQYF TRBV20-1 TRBJ2-7 CHP_422-01_-PBMC-DN\n",
      "                                                                                                             file\n",
      "  1: /Users/anabbi/Desktop/H4H/INTERCEPT/NextSeq/batch13_26Aug2020/mixcr/clones/CLONES_TRBCHP_422-01_-PBMC-DN.txt\n",
      "  2: /Users/anabbi/Desktop/H4H/INTERCEPT/NextSeq/batch13_26Aug2020/mixcr/clones/CLONES_TRBCHP_422-01_-PBMC-DN.txt\n",
      "  3: /Users/anabbi/Desktop/H4H/INTERCEPT/NextSeq/batch13_26Aug2020/mixcr/clones/CLONES_TRBCHP_422-01_-PBMC-DN.txt\n",
      "  4: /Users/anabbi/Desktop/H4H/INTERCEPT/NextSeq/batch13_26Aug2020/mixcr/clones/CLONES_TRBCHP_422-01_-PBMC-DN.txt\n",
      "  5: /Users/anabbi/Desktop/H4H/INTERCEPT/NextSeq/batch13_26Aug2020/mixcr/clones/CLONES_TRBCHP_422-01_-PBMC-DN.txt\n",
      " ---                                                                                                             \n",
      "141: /Users/anabbi/Desktop/H4H/INTERCEPT/NextSeq/batch13_26Aug2020/mixcr/clones/CLONES_TRBCHP_422-01_-PBMC-DN.txt\n",
      "142: /Users/anabbi/Desktop/H4H/INTERCEPT/NextSeq/batch13_26Aug2020/mixcr/clones/CLONES_TRBCHP_422-01_-PBMC-DN.txt\n",
      "143: /Users/anabbi/Desktop/H4H/INTERCEPT/NextSeq/batch13_26Aug2020/mixcr/clones/CLONES_TRBCHP_422-01_-PBMC-DN.txt\n",
      "144: /Users/anabbi/Desktop/H4H/INTERCEPT/NextSeq/batch13_26Aug2020/mixcr/clones/CLONES_TRBCHP_422-01_-PBMC-DN.txt\n",
      "145: /Users/anabbi/Desktop/H4H/INTERCEPT/NextSeq/batch13_26Aug2020/mixcr/clones/CLONES_TRBCHP_422-01_-PBMC-DN.txt\n",
      "     count\n",
      "  1:    36\n",
      "  2:    54\n",
      "  3:   148\n",
      "  4:   164\n",
      "  5:    71\n",
      " ---      \n",
      "141:    60\n",
      "142:   118\n",
      "143:    31\n",
      "144:     5\n",
      "145:   139\n",
      "                   CDR3b     TRBV    TRBJ             subject\n",
      " 1:       CAISEDPSSYEQYF TRBV10-3 TRBJ2-7 CHP_348-01-PBMC-DNA\n",
      " 2:       CAISERWGGAGYTF TRBV10-3 TRBJ1-2 CHP_348-01-PBMC-DNA\n",
      " 3:        CASAQGGAYEQYF   TRBV19 TRBJ2-7 CHP_348-01-PBMC-DNA\n",
      " 4:     CASHIRGPSGKQPQHF  TRBV6-2 TRBJ1-5 CHP_348-01-PBMC-DNA\n",
      " 5:        CASHKGPLDTQYF  TRBV6-5 TRBJ2-3 CHP_348-01-PBMC-DNA\n",
      " 6:       CASIQGLGNQPQHF   TRBV19 TRBJ1-5 CHP_348-01-PBMC-DNA\n",
      " 7:      CASPGDRGHSYEQYF TRBV21-1 TRBJ2-7 CHP_348-01-PBMC-DNA\n",
      " 8:      CASPRDRGLNQPQHF  TRBV5-4 TRBJ1-5 CHP_348-01-PBMC-DNA\n",
      " 9:     CASRLNTGLAGNEQFF   TRBV14 TRBJ2-1 CHP_348-01-PBMC-DNA\n",
      "10:     CASRPIAGGGADAQYF   TRBV28 TRBJ2-3 CHP_348-01-PBMC-DNA\n",
      "11:     CASRPIAGGGADTQYF   TRBV28 TRBJ2-3 CHP_348-01-PBMC-DNA\n",
      "12:      CASRQGQGAGEKLFF TRBV12-3 TRBJ1-4 CHP_348-01-PBMC-DNA\n",
      "13:     CASRQIDMISYNEQFF  TRBV4-1 TRBJ2-1 CHP_348-01-PBMC-DNA\n",
      "14:         CASRQRGAEQYF    TRBV2 TRBJ2-7 CHP_348-01-PBMC-DNA\n",
      "15:     CASRQRGTGSNYGYTF TRBV12-3 TRBJ1-2 CHP_348-01-PBMC-DNA\n",
      "16:         CASRTRDYGYTF   TRBV19 TRBJ1-2 CHP_348-01-PBMC-DNA\n",
      "17:      CASSAGGTITDTQYF    TRBV9 TRBJ2-3 CHP_348-01-PBMC-DNA\n",
      "18:      CASSELAGGTDTQYF  TRBV6-1 TRBJ2-3 CHP_348-01-PBMC-DNA\n",
      "19:      CASSETGTGGTEAFF  TRBV6-1 TRBJ1-1 CHP_348-01-PBMC-DNA\n",
      "20:      CASSGVGGAGDTQYF TRBV25-1 TRBJ2-3 CHP_348-01-PBMC-DNA\n",
      "21:     CASSGVKTVMNTEAFF   TRBV28 TRBJ1-1 CHP_348-01-PBMC-DNA\n",
      "22:     CASSIETGRVNQPQHF   TRBV19 TRBJ1-5 CHP_348-01-PBMC-DNA\n",
      "23:         CASSIGTDTQYF   TRBV19 TRBJ2-3 CHP_348-01-PBMC-DNA\n",
      "24:        CASSIQQQETQYF   TRBV19 TRBJ2-5 CHP_348-01-PBMC-DNA\n",
      "25:     CASSIRTSGISYEQYF   TRBV19 TRBJ2-7 CHP_348-01-PBMC-DNA\n",
      "26:     CASSIVTGRVNQPQHF   TRBV19 TRBJ1-5 CHP_348-01-PBMC-DNA\n",
      "27: CASSKHPGLAGLPGYNEQFF  TRBV7-3 TRBJ2-1 CHP_348-01-PBMC-DNA\n",
      "28:     CASSKLAGGDYNEQFF   TRBV28 TRBJ2-1 CHP_348-01-PBMC-DNA\n",
      "29:       CASSKQGSGYEQYF  TRBV6-6 TRBJ2-7 CHP_348-01-PBMC-DNA\n",
      "30:      CASSKTGTGGTEAFF  TRBV6-1 TRBJ1-1 CHP_348-01-PBMC-DNA\n",
      "31:        CASSLAPNYGYTF   TRBV28 TRBJ1-2 CHP_348-01-PBMC-DNA\n",
      "32:     CASSLAWLAGGETQYF  TRBV5-1 TRBJ2-5 CHP_348-01-PBMC-DNA\n",
      "33:    CASSLDSLGPGANVLTF  TRBV7-6 TRBJ2-6 CHP_348-01-PBMC-DNA\n",
      "34:      CASSLEGAGFYEQYF TRBV11-2 TRBJ2-7 CHP_348-01-PBMC-DNA\n",
      "35:      CASSLEGGGFYEQYF TRBV11-2 TRBJ2-7 CHP_348-01-PBMC-DNA\n",
      "36:     CASSLGAGSGANVLTF  TRBV7-8 TRBJ2-6 CHP_348-01-PBMC-DNA\n",
      "37:         CASSLGDRKAFF   TRBV28 TRBJ1-1 CHP_348-01-PBMC-DNA\n",
      "38:       CASSLGGGTDTQYF  TRBV6-4 TRBJ2-3 CHP_348-01-PBMC-DNA\n",
      "39:       CASSLGQMNTEAFF TRBV12-3 TRBJ1-1 CHP_348-01-PBMC-DNA\n",
      "40:      CASSLGTGTGNTIYF  TRBV7-6 TRBJ1-3 CHP_348-01-PBMC-DNA\n",
      "41:         CASSLIERGYTF   TRBV28 TRBJ1-2 CHP_348-01-PBMC-DNA\n",
      "42:    CASSLISGGGGTGELFF  TRBV7-2 TRBJ2-2 CHP_348-01-PBMC-DNA\n",
      "43:     CASSLLQGAPNEKLFF  TRBV5-6 TRBJ1-4 CHP_348-01-PBMC-DNA\n",
      "44:       CASSLLSGPYEQYF  TRBV7-3 TRBJ2-7 CHP_348-01-PBMC-DNA\n",
      "45:      CASSLMGLNNSPLHF  TRBV3-1 TRBJ1-6 CHP_348-01-PBMC-DNA\n",
      "46:      CASSLNGATNEKLFF  TRBV5-4 TRBJ1-4 CHP_348-01-PBMC-DNA\n",
      "47:       CASSLNPSGTEAFF TRBV11-2 TRBJ1-1 CHP_348-01-PBMC-DNA\n",
      "48:       CASSLYRPAYEQYF   TRBV28 TRBJ2-7 CHP_348-01-PBMC-DNA\n",
      "49:      CASSPEAGGQETQYF  TRBV3-1 TRBJ2-5 CHP_348-01-PBMC-DNA\n",
      "50:      CASSPGTGGYTEAFF  TRBV4-1 TRBJ1-1 CHP_348-01-PBMC-DNA\n",
      "51:     CASSPGWFENLNEQFF  TRBV5-1 TRBJ2-1 CHP_348-01-PBMC-DNA\n",
      "52:         CASSPNYLGQFF  TRBV7-2 TRBJ2-1 CHP_348-01-PBMC-DNA\n",
      "53:     CASSPPSGGFGGELFF  TRBV5-1 TRBJ2-2 CHP_348-01-PBMC-DNA\n",
      "54:    CASSPQTTGHSGNTIYF    TRBV9 TRBJ1-3 CHP_348-01-PBMC-DNA\n",
      "55:      CASSPTIAGAYEQYF  TRBV6-3 TRBJ2-7 CHP_348-01-PBMC-DNA\n",
      "56:      CASSQDRLGTDTQYF   TRBV14 TRBJ2-3 CHP_348-01-PBMC-DNA\n",
      "57:     CASSQDWASDYNEQFF  TRBV4-3 TRBJ2-1 CHP_348-01-PBMC-DNA\n",
      "58:      CASSQFTQVTGELFF  TRBV4-1 TRBJ2-2 CHP_348-01-PBMC-DNA\n",
      "59:       CASSQVWGTGELFF  TRBV4-3 TRBJ2-2 CHP_348-01-PBMC-DNA\n",
      "60:      CASSSGGTNTGELFF TRBV11-3 TRBJ2-2 CHP_348-01-PBMC-DNA\n",
      "61:     CASSSKLQTSTDTQYF  TRBV7-9 TRBJ2-3 CHP_348-01-PBMC-DNA\n",
      "62:      CASSSPRSRGTEAFF   TRBV28 TRBJ1-1 CHP_348-01-PBMC-DNA\n",
      "63: CASSSRLAGAHRSSYNEQFF  TRBV7-2 TRBJ2-1 CHP_348-01-PBMC-DNA\n",
      "64:       CASSSRTGNTEAFF  TRBV5-4 TRBJ1-1 CHP_348-01-PBMC-DNA\n",
      "65:          CASSTGGEQYF  TRBV6-5 TRBJ2-7 CHP_348-01-PBMC-DNA\n",
      "66:        CASSVAPNQLQHF    TRBV9 TRBJ1-5 CHP_348-01-PBMC-DNA\n",
      "67:        CASSVAPNQPQHF    TRBV9 TRBJ1-5 CHP_348-01-PBMC-DNA\n",
      "68:      CASSVRQGANEKLFF  TRBV3-1 TRBJ1-4 CHP_348-01-PBMC-DNA\n",
      "69:        CASSVSFYNEQFF    TRBV9 TRBJ2-1 CHP_348-01-PBMC-DNA\n",
      "70:        CASSYAPNTEAFF  TRBV6-5 TRBJ1-1 CHP_348-01-PBMC-DNA\n",
      "71:      CASSYGGQGQETQYF   TRBV28 TRBJ2-5 CHP_348-01-PBMC-DNA\n",
      "72:     CASSYGQVDSNQPQHF  TRBV6-2 TRBJ1-5 CHP_348-01-PBMC-DNA\n",
      "73:         CASSYSGGEQFF  TRBV6-5 TRBJ2-1 CHP_348-01-PBMC-DNA\n",
      "74:      CASSYSRTANNEQFF  TRBV6-5 TRBJ2-1 CHP_348-01-PBMC-DNA\n",
      "75:      CASSYSTEPTYEQYF  TRBV6-5 TRBJ2-7 CHP_348-01-PBMC-DNA\n",
      "76:    CASTHIQSNSSGYGYTF    TRBV9 TRBJ1-2 CHP_348-01-PBMC-DNA\n",
      "77:       CATRTAGARYEQYF TRBV10-2 TRBJ2-7 CHP_348-01-PBMC-DNA\n",
      "78:      CATSPARGGSDTQYF   TRBV15 TRBJ2-3 CHP_348-01-PBMC-DNA\n",
      "79:     CAWKVSGRGLYNEQFF   TRBV30 TRBJ2-1 CHP_348-01-PBMC-DNA\n",
      "80:      CAWSSSRGARETQYF   TRBV30 TRBJ2-5 CHP_348-01-PBMC-DNA\n",
      "81:       CSANYRTNTGELFF TRBV20-1 TRBJ2-2 CHP_348-01-PBMC-DNA\n",
      "82:         CSAPTGLVGYTF TRBV20-1 TRBJ1-2 CHP_348-01-PBMC-DNA\n",
      "83:       CSAQLAGGPNEQFF TRBV20-1 TRBJ2-1 CHP_348-01-PBMC-DNA\n",
      "84:       CSARDRGESQPQHF TRBV20-1 TRBJ1-5 CHP_348-01-PBMC-DNA\n",
      "85:      CSARETGETGNTIYF TRBV20-1 TRBJ1-3 CHP_348-01-PBMC-DNA\n",
      "86:       CSARLGGRYNEQFF TRBV20-1 TRBJ2-1 CHP_348-01-PBMC-DNA\n",
      "87:    CSARQPRAGTGNTEAFF TRBV20-1 TRBJ1-1 CHP_348-01-PBMC-DNA\n",
      "88:         CSASKGKTEAFF TRBV20-1 TRBJ1-1 CHP_348-01-PBMC-DNA\n",
      "89:       CSVSSNWRNTEAFF TRBV20-1 TRBJ1-1 CHP_348-01-PBMC-DNA\n",
      "                   CDR3b     TRBV    TRBJ             subject\n",
      "                                                                                                          file\n",
      " 1: /Users/anabbi/Desktop/H4H/INTERCEPT/NextSeq/batch2_Aug62019/mixcr/clones/CLONES_TRBCHP_348-01-PBMC-DNA.txt\n",
      " 2: /Users/anabbi/Desktop/H4H/INTERCEPT/NextSeq/batch2_Aug62019/mixcr/clones/CLONES_TRBCHP_348-01-PBMC-DNA.txt\n",
      " 3: /Users/anabbi/Desktop/H4H/INTERCEPT/NextSeq/batch2_Aug62019/mixcr/clones/CLONES_TRBCHP_348-01-PBMC-DNA.txt\n",
      " 4: /Users/anabbi/Desktop/H4H/INTERCEPT/NextSeq/batch2_Aug62019/mixcr/clones/CLONES_TRBCHP_348-01-PBMC-DNA.txt\n",
      " 5: /Users/anabbi/Desktop/H4H/INTERCEPT/NextSeq/batch2_Aug62019/mixcr/clones/CLONES_TRBCHP_348-01-PBMC-DNA.txt\n",
      " 6: /Users/anabbi/Desktop/H4H/INTERCEPT/NextSeq/batch2_Aug62019/mixcr/clones/CLONES_TRBCHP_348-01-PBMC-DNA.txt\n",
      " 7: /Users/anabbi/Desktop/H4H/INTERCEPT/NextSeq/batch2_Aug62019/mixcr/clones/CLONES_TRBCHP_348-01-PBMC-DNA.txt\n",
      " 8: /Users/anabbi/Desktop/H4H/INTERCEPT/NextSeq/batch2_Aug62019/mixcr/clones/CLONES_TRBCHP_348-01-PBMC-DNA.txt\n",
      " 9: /Users/anabbi/Desktop/H4H/INTERCEPT/NextSeq/batch2_Aug62019/mixcr/clones/CLONES_TRBCHP_348-01-PBMC-DNA.txt\n",
      "10: /Users/anabbi/Desktop/H4H/INTERCEPT/NextSeq/batch2_Aug62019/mixcr/clones/CLONES_TRBCHP_348-01-PBMC-DNA.txt\n",
      "11: /Users/anabbi/Desktop/H4H/INTERCEPT/NextSeq/batch2_Aug62019/mixcr/clones/CLONES_TRBCHP_348-01-PBMC-DNA.txt\n",
      "12: /Users/anabbi/Desktop/H4H/INTERCEPT/NextSeq/batch2_Aug62019/mixcr/clones/CLONES_TRBCHP_348-01-PBMC-DNA.txt\n",
      "13: /Users/anabbi/Desktop/H4H/INTERCEPT/NextSeq/batch2_Aug62019/mixcr/clones/CLONES_TRBCHP_348-01-PBMC-DNA.txt\n",
      "14: /Users/anabbi/Desktop/H4H/INTERCEPT/NextSeq/batch2_Aug62019/mixcr/clones/CLONES_TRBCHP_348-01-PBMC-DNA.txt\n",
      "15: /Users/anabbi/Desktop/H4H/INTERCEPT/NextSeq/batch2_Aug62019/mixcr/clones/CLONES_TRBCHP_348-01-PBMC-DNA.txt\n",
      "16: /Users/anabbi/Desktop/H4H/INTERCEPT/NextSeq/batch2_Aug62019/mixcr/clones/CLONES_TRBCHP_348-01-PBMC-DNA.txt\n",
      "17: /Users/anabbi/Desktop/H4H/INTERCEPT/NextSeq/batch2_Aug62019/mixcr/clones/CLONES_TRBCHP_348-01-PBMC-DNA.txt\n",
      "18: /Users/anabbi/Desktop/H4H/INTERCEPT/NextSeq/batch2_Aug62019/mixcr/clones/CLONES_TRBCHP_348-01-PBMC-DNA.txt\n",
      "19: /Users/anabbi/Desktop/H4H/INTERCEPT/NextSeq/batch2_Aug62019/mixcr/clones/CLONES_TRBCHP_348-01-PBMC-DNA.txt\n",
      "20: /Users/anabbi/Desktop/H4H/INTERCEPT/NextSeq/batch2_Aug62019/mixcr/clones/CLONES_TRBCHP_348-01-PBMC-DNA.txt\n",
      "21: /Users/anabbi/Desktop/H4H/INTERCEPT/NextSeq/batch2_Aug62019/mixcr/clones/CLONES_TRBCHP_348-01-PBMC-DNA.txt\n",
      "22: /Users/anabbi/Desktop/H4H/INTERCEPT/NextSeq/batch2_Aug62019/mixcr/clones/CLONES_TRBCHP_348-01-PBMC-DNA.txt\n",
      "23: /Users/anabbi/Desktop/H4H/INTERCEPT/NextSeq/batch2_Aug62019/mixcr/clones/CLONES_TRBCHP_348-01-PBMC-DNA.txt\n",
      "24: /Users/anabbi/Desktop/H4H/INTERCEPT/NextSeq/batch2_Aug62019/mixcr/clones/CLONES_TRBCHP_348-01-PBMC-DNA.txt\n",
      "25: /Users/anabbi/Desktop/H4H/INTERCEPT/NextSeq/batch2_Aug62019/mixcr/clones/CLONES_TRBCHP_348-01-PBMC-DNA.txt\n",
      "26: /Users/anabbi/Desktop/H4H/INTERCEPT/NextSeq/batch2_Aug62019/mixcr/clones/CLONES_TRBCHP_348-01-PBMC-DNA.txt\n",
      "27: /Users/anabbi/Desktop/H4H/INTERCEPT/NextSeq/batch2_Aug62019/mixcr/clones/CLONES_TRBCHP_348-01-PBMC-DNA.txt\n",
      "28: /Users/anabbi/Desktop/H4H/INTERCEPT/NextSeq/batch2_Aug62019/mixcr/clones/CLONES_TRBCHP_348-01-PBMC-DNA.txt\n",
      "29: /Users/anabbi/Desktop/H4H/INTERCEPT/NextSeq/batch2_Aug62019/mixcr/clones/CLONES_TRBCHP_348-01-PBMC-DNA.txt\n",
      "30: /Users/anabbi/Desktop/H4H/INTERCEPT/NextSeq/batch2_Aug62019/mixcr/clones/CLONES_TRBCHP_348-01-PBMC-DNA.txt\n",
      "31: /Users/anabbi/Desktop/H4H/INTERCEPT/NextSeq/batch2_Aug62019/mixcr/clones/CLONES_TRBCHP_348-01-PBMC-DNA.txt\n",
      "32: /Users/anabbi/Desktop/H4H/INTERCEPT/NextSeq/batch2_Aug62019/mixcr/clones/CLONES_TRBCHP_348-01-PBMC-DNA.txt\n",
      "33: /Users/anabbi/Desktop/H4H/INTERCEPT/NextSeq/batch2_Aug62019/mixcr/clones/CLONES_TRBCHP_348-01-PBMC-DNA.txt\n",
      "34: /Users/anabbi/Desktop/H4H/INTERCEPT/NextSeq/batch2_Aug62019/mixcr/clones/CLONES_TRBCHP_348-01-PBMC-DNA.txt\n",
      "35: /Users/anabbi/Desktop/H4H/INTERCEPT/NextSeq/batch2_Aug62019/mixcr/clones/CLONES_TRBCHP_348-01-PBMC-DNA.txt\n",
      "36: /Users/anabbi/Desktop/H4H/INTERCEPT/NextSeq/batch2_Aug62019/mixcr/clones/CLONES_TRBCHP_348-01-PBMC-DNA.txt\n",
      "37: /Users/anabbi/Desktop/H4H/INTERCEPT/NextSeq/batch2_Aug62019/mixcr/clones/CLONES_TRBCHP_348-01-PBMC-DNA.txt\n",
      "38: /Users/anabbi/Desktop/H4H/INTERCEPT/NextSeq/batch2_Aug62019/mixcr/clones/CLONES_TRBCHP_348-01-PBMC-DNA.txt\n",
      "39: /Users/anabbi/Desktop/H4H/INTERCEPT/NextSeq/batch2_Aug62019/mixcr/clones/CLONES_TRBCHP_348-01-PBMC-DNA.txt\n",
      "40: /Users/anabbi/Desktop/H4H/INTERCEPT/NextSeq/batch2_Aug62019/mixcr/clones/CLONES_TRBCHP_348-01-PBMC-DNA.txt\n",
      "41: /Users/anabbi/Desktop/H4H/INTERCEPT/NextSeq/batch2_Aug62019/mixcr/clones/CLONES_TRBCHP_348-01-PBMC-DNA.txt\n",
      "42: /Users/anabbi/Desktop/H4H/INTERCEPT/NextSeq/batch2_Aug62019/mixcr/clones/CLONES_TRBCHP_348-01-PBMC-DNA.txt\n",
      "43: /Users/anabbi/Desktop/H4H/INTERCEPT/NextSeq/batch2_Aug62019/mixcr/clones/CLONES_TRBCHP_348-01-PBMC-DNA.txt\n",
      "44: /Users/anabbi/Desktop/H4H/INTERCEPT/NextSeq/batch2_Aug62019/mixcr/clones/CLONES_TRBCHP_348-01-PBMC-DNA.txt\n",
      "45: /Users/anabbi/Desktop/H4H/INTERCEPT/NextSeq/batch2_Aug62019/mixcr/clones/CLONES_TRBCHP_348-01-PBMC-DNA.txt\n",
      "46: /Users/anabbi/Desktop/H4H/INTERCEPT/NextSeq/batch2_Aug62019/mixcr/clones/CLONES_TRBCHP_348-01-PBMC-DNA.txt\n",
      "47: /Users/anabbi/Desktop/H4H/INTERCEPT/NextSeq/batch2_Aug62019/mixcr/clones/CLONES_TRBCHP_348-01-PBMC-DNA.txt\n",
      "48: /Users/anabbi/Desktop/H4H/INTERCEPT/NextSeq/batch2_Aug62019/mixcr/clones/CLONES_TRBCHP_348-01-PBMC-DNA.txt\n",
      "49: /Users/anabbi/Desktop/H4H/INTERCEPT/NextSeq/batch2_Aug62019/mixcr/clones/CLONES_TRBCHP_348-01-PBMC-DNA.txt\n",
      "50: /Users/anabbi/Desktop/H4H/INTERCEPT/NextSeq/batch2_Aug62019/mixcr/clones/CLONES_TRBCHP_348-01-PBMC-DNA.txt\n",
      "51: /Users/anabbi/Desktop/H4H/INTERCEPT/NextSeq/batch2_Aug62019/mixcr/clones/CLONES_TRBCHP_348-01-PBMC-DNA.txt\n",
      "52: /Users/anabbi/Desktop/H4H/INTERCEPT/NextSeq/batch2_Aug62019/mixcr/clones/CLONES_TRBCHP_348-01-PBMC-DNA.txt\n",
      "53: /Users/anabbi/Desktop/H4H/INTERCEPT/NextSeq/batch2_Aug62019/mixcr/clones/CLONES_TRBCHP_348-01-PBMC-DNA.txt\n",
      "54: /Users/anabbi/Desktop/H4H/INTERCEPT/NextSeq/batch2_Aug62019/mixcr/clones/CLONES_TRBCHP_348-01-PBMC-DNA.txt\n",
      "55: /Users/anabbi/Desktop/H4H/INTERCEPT/NextSeq/batch2_Aug62019/mixcr/clones/CLONES_TRBCHP_348-01-PBMC-DNA.txt\n",
      "56: /Users/anabbi/Desktop/H4H/INTERCEPT/NextSeq/batch2_Aug62019/mixcr/clones/CLONES_TRBCHP_348-01-PBMC-DNA.txt\n",
      "57: /Users/anabbi/Desktop/H4H/INTERCEPT/NextSeq/batch2_Aug62019/mixcr/clones/CLONES_TRBCHP_348-01-PBMC-DNA.txt\n",
      "58: /Users/anabbi/Desktop/H4H/INTERCEPT/NextSeq/batch2_Aug62019/mixcr/clones/CLONES_TRBCHP_348-01-PBMC-DNA.txt\n",
      "59: /Users/anabbi/Desktop/H4H/INTERCEPT/NextSeq/batch2_Aug62019/mixcr/clones/CLONES_TRBCHP_348-01-PBMC-DNA.txt\n",
      "60: /Users/anabbi/Desktop/H4H/INTERCEPT/NextSeq/batch2_Aug62019/mixcr/clones/CLONES_TRBCHP_348-01-PBMC-DNA.txt\n",
      "61: /Users/anabbi/Desktop/H4H/INTERCEPT/NextSeq/batch2_Aug62019/mixcr/clones/CLONES_TRBCHP_348-01-PBMC-DNA.txt\n",
      "62: /Users/anabbi/Desktop/H4H/INTERCEPT/NextSeq/batch2_Aug62019/mixcr/clones/CLONES_TRBCHP_348-01-PBMC-DNA.txt\n",
      "63: /Users/anabbi/Desktop/H4H/INTERCEPT/NextSeq/batch2_Aug62019/mixcr/clones/CLONES_TRBCHP_348-01-PBMC-DNA.txt\n",
      "64: /Users/anabbi/Desktop/H4H/INTERCEPT/NextSeq/batch2_Aug62019/mixcr/clones/CLONES_TRBCHP_348-01-PBMC-DNA.txt\n",
      "65: /Users/anabbi/Desktop/H4H/INTERCEPT/NextSeq/batch2_Aug62019/mixcr/clones/CLONES_TRBCHP_348-01-PBMC-DNA.txt\n",
      "66: /Users/anabbi/Desktop/H4H/INTERCEPT/NextSeq/batch2_Aug62019/mixcr/clones/CLONES_TRBCHP_348-01-PBMC-DNA.txt\n",
      "67: /Users/anabbi/Desktop/H4H/INTERCEPT/NextSeq/batch2_Aug62019/mixcr/clones/CLONES_TRBCHP_348-01-PBMC-DNA.txt\n",
      "68: /Users/anabbi/Desktop/H4H/INTERCEPT/NextSeq/batch2_Aug62019/mixcr/clones/CLONES_TRBCHP_348-01-PBMC-DNA.txt\n",
      "69: /Users/anabbi/Desktop/H4H/INTERCEPT/NextSeq/batch2_Aug62019/mixcr/clones/CLONES_TRBCHP_348-01-PBMC-DNA.txt\n",
      "70: /Users/anabbi/Desktop/H4H/INTERCEPT/NextSeq/batch2_Aug62019/mixcr/clones/CLONES_TRBCHP_348-01-PBMC-DNA.txt\n",
      "71: /Users/anabbi/Desktop/H4H/INTERCEPT/NextSeq/batch2_Aug62019/mixcr/clones/CLONES_TRBCHP_348-01-PBMC-DNA.txt\n",
      "72: /Users/anabbi/Desktop/H4H/INTERCEPT/NextSeq/batch2_Aug62019/mixcr/clones/CLONES_TRBCHP_348-01-PBMC-DNA.txt\n",
      "73: /Users/anabbi/Desktop/H4H/INTERCEPT/NextSeq/batch2_Aug62019/mixcr/clones/CLONES_TRBCHP_348-01-PBMC-DNA.txt\n",
      "74: /Users/anabbi/Desktop/H4H/INTERCEPT/NextSeq/batch2_Aug62019/mixcr/clones/CLONES_TRBCHP_348-01-PBMC-DNA.txt\n",
      "75: /Users/anabbi/Desktop/H4H/INTERCEPT/NextSeq/batch2_Aug62019/mixcr/clones/CLONES_TRBCHP_348-01-PBMC-DNA.txt\n",
      "76: /Users/anabbi/Desktop/H4H/INTERCEPT/NextSeq/batch2_Aug62019/mixcr/clones/CLONES_TRBCHP_348-01-PBMC-DNA.txt\n",
      "77: /Users/anabbi/Desktop/H4H/INTERCEPT/NextSeq/batch2_Aug62019/mixcr/clones/CLONES_TRBCHP_348-01-PBMC-DNA.txt\n",
      "78: /Users/anabbi/Desktop/H4H/INTERCEPT/NextSeq/batch2_Aug62019/mixcr/clones/CLONES_TRBCHP_348-01-PBMC-DNA.txt\n",
      "79: /Users/anabbi/Desktop/H4H/INTERCEPT/NextSeq/batch2_Aug62019/mixcr/clones/CLONES_TRBCHP_348-01-PBMC-DNA.txt\n",
      "80: /Users/anabbi/Desktop/H4H/INTERCEPT/NextSeq/batch2_Aug62019/mixcr/clones/CLONES_TRBCHP_348-01-PBMC-DNA.txt\n",
      "81: /Users/anabbi/Desktop/H4H/INTERCEPT/NextSeq/batch2_Aug62019/mixcr/clones/CLONES_TRBCHP_348-01-PBMC-DNA.txt\n",
      "82: /Users/anabbi/Desktop/H4H/INTERCEPT/NextSeq/batch2_Aug62019/mixcr/clones/CLONES_TRBCHP_348-01-PBMC-DNA.txt\n",
      "83: /Users/anabbi/Desktop/H4H/INTERCEPT/NextSeq/batch2_Aug62019/mixcr/clones/CLONES_TRBCHP_348-01-PBMC-DNA.txt\n",
      "84: /Users/anabbi/Desktop/H4H/INTERCEPT/NextSeq/batch2_Aug62019/mixcr/clones/CLONES_TRBCHP_348-01-PBMC-DNA.txt\n",
      "85: /Users/anabbi/Desktop/H4H/INTERCEPT/NextSeq/batch2_Aug62019/mixcr/clones/CLONES_TRBCHP_348-01-PBMC-DNA.txt\n",
      "86: /Users/anabbi/Desktop/H4H/INTERCEPT/NextSeq/batch2_Aug62019/mixcr/clones/CLONES_TRBCHP_348-01-PBMC-DNA.txt\n",
      "87: /Users/anabbi/Desktop/H4H/INTERCEPT/NextSeq/batch2_Aug62019/mixcr/clones/CLONES_TRBCHP_348-01-PBMC-DNA.txt\n",
      "88: /Users/anabbi/Desktop/H4H/INTERCEPT/NextSeq/batch2_Aug62019/mixcr/clones/CLONES_TRBCHP_348-01-PBMC-DNA.txt\n",
      "89: /Users/anabbi/Desktop/H4H/INTERCEPT/NextSeq/batch2_Aug62019/mixcr/clones/CLONES_TRBCHP_348-01-PBMC-DNA.txt\n",
      "                                                                                                          file\n",
      "    count\n",
      " 1:     5\n",
      " 2:     9\n",
      " 3:     4\n",
      " 4:     8\n",
      " 5:    12\n",
      " 6:    33\n",
      " 7:    20\n",
      " 8:    49\n",
      " 9:     7\n",
      "10:     1\n",
      "11:     9\n",
      "12:    14\n",
      "13:    14\n",
      "14:     5\n",
      "15:    17\n",
      "16:    11\n",
      "17:    11\n",
      "18:     3\n",
      "19:     9\n",
      "20:    10\n",
      "21:    28\n",
      "22:    14\n",
      "23:    27\n",
      "24:     7\n",
      "25:     8\n",
      "26:     1\n",
      "27:     2\n",
      "28:     7\n",
      "29:    10\n",
      "30:     1\n",
      "31:    10\n",
      "32:     1\n",
      "33:    14\n",
      "34:    21\n",
      "35:     1\n",
      "36:     3\n",
      "37:     7\n",
      "38:     6\n",
      "39:    29\n",
      "40:    22\n",
      "41:    13\n",
      "42:    22\n",
      "43:    14\n",
      "44:     8\n",
      "45:     8\n",
      "46:    20\n",
      "47:    16\n",
      "48:     8\n",
      "49:     7\n",
      "50:     4\n",
      "51:     3\n",
      "52:     3\n",
      "53:    10\n",
      "54:    12\n",
      "55:     7\n",
      "56:    30\n",
      "57:     3\n",
      "58:     5\n",
      "59:    15\n",
      "60:    12\n",
      "61:     9\n",
      "62:     4\n",
      "63:     9\n",
      "64:     9\n",
      "65:     3\n",
      "66:     1\n",
      "67:    10\n",
      "68:    15\n",
      "69:    10\n",
      "70:    10\n",
      "71:    10\n",
      "72:    20\n",
      "73:     6\n",
      "74:     5\n",
      "75:    11\n",
      "76:    14\n",
      "77:     7\n",
      "78:    11\n",
      "79:    10\n",
      "80:     8\n",
      "81:     7\n",
      "82:     2\n",
      "83:     9\n",
      "84:    15\n",
      "85:     9\n",
      "86:     8\n",
      "87:     5\n",
      "88:    18\n",
      "89:     7\n",
      "    count\n",
      "                 CDR3b     TRBV    TRBJ             subject\n",
      "  1:    CAFSGDSSYNEQFF   TRBV30 TRBJ2-1 CHP_373-01-PBMC-DNA\n",
      "  2:      CAGLKGYTEAFF    TRBV2 TRBJ1-1 CHP_373-01-PBMC-DNA\n",
      "  3:       CAGRGTGELFF    TRBV2 TRBJ2-2 CHP_373-01-PBMC-DNA\n",
      "  4:     CAGSQDINQPQHF  TRBV6-2 TRBJ1-5 CHP_373-01-PBMC-DNA\n",
      "  5:   CAIGDPGWNTGELFF TRBV10-3 TRBJ2-2 CHP_373-01-PBMC-DNA\n",
      " ---                                                       \n",
      "275:     CSVGWTVTGELFF TRBV29-1 TRBJ2-2 CHP_373-01-PBMC-DNA\n",
      "276:     CSVKDRQGNTIYF TRBV20-1 TRBJ1-3 CHP_373-01-PBMC-DNA\n",
      "277:    CSVKWGTGFDEQYF TRBV20-1 TRBJ2-7 CHP_373-01-PBMC-DNA\n",
      "278: CSVVSPPIREGNTEAFF TRBV29-1 TRBJ1-1 CHP_373-01-PBMC-DNA\n",
      "279: CTSSQGPVRGSNQPQHF    TRBV1 TRBJ1-5 CHP_373-01-PBMC-DNA\n",
      "                                                                                                            file\n",
      "  1: /Users/anabbi/Desktop/H4H/INTERCEPT/NextSeq/batch3_19Aug2019/mixcr/clones/CLONES_TRBCHP_373-01-PBMC-DNA.txt\n",
      "  2: /Users/anabbi/Desktop/H4H/INTERCEPT/NextSeq/batch3_19Aug2019/mixcr/clones/CLONES_TRBCHP_373-01-PBMC-DNA.txt\n",
      "  3: /Users/anabbi/Desktop/H4H/INTERCEPT/NextSeq/batch3_19Aug2019/mixcr/clones/CLONES_TRBCHP_373-01-PBMC-DNA.txt\n",
      "  4: /Users/anabbi/Desktop/H4H/INTERCEPT/NextSeq/batch3_19Aug2019/mixcr/clones/CLONES_TRBCHP_373-01-PBMC-DNA.txt\n",
      "  5: /Users/anabbi/Desktop/H4H/INTERCEPT/NextSeq/batch3_19Aug2019/mixcr/clones/CLONES_TRBCHP_373-01-PBMC-DNA.txt\n",
      " ---                                                                                                            \n",
      "275: /Users/anabbi/Desktop/H4H/INTERCEPT/NextSeq/batch3_19Aug2019/mixcr/clones/CLONES_TRBCHP_373-01-PBMC-DNA.txt\n",
      "276: /Users/anabbi/Desktop/H4H/INTERCEPT/NextSeq/batch3_19Aug2019/mixcr/clones/CLONES_TRBCHP_373-01-PBMC-DNA.txt\n",
      "277: /Users/anabbi/Desktop/H4H/INTERCEPT/NextSeq/batch3_19Aug2019/mixcr/clones/CLONES_TRBCHP_373-01-PBMC-DNA.txt\n",
      "278: /Users/anabbi/Desktop/H4H/INTERCEPT/NextSeq/batch3_19Aug2019/mixcr/clones/CLONES_TRBCHP_373-01-PBMC-DNA.txt\n",
      "279: /Users/anabbi/Desktop/H4H/INTERCEPT/NextSeq/batch3_19Aug2019/mixcr/clones/CLONES_TRBCHP_373-01-PBMC-DNA.txt\n",
      "     count\n",
      "  1:     6\n",
      "  2:     2\n",
      "  3:     7\n",
      "  4:     1\n",
      "  5:    12\n",
      " ---      \n",
      "275:     5\n",
      "276:    10\n",
      "277:    28\n",
      "278:     6\n",
      "279:     5\n",
      "               CDR3b     TRBV    TRBJ             subject\n",
      "  1:   CAGSRGIDSPLHF   TRBV19 TRBJ1-6 CHP_378-01-PBMC-DNA\n",
      "  2: CAIKGDTFSGNTIYF TRBV10-3 TRBJ1-3 CHP_378-01-PBMC-DNA\n",
      "  3:   CAIRGPDNSPLHF TRBV10-3 TRBJ1-6 CHP_378-01-PBMC-DNA\n",
      "  4: CAIRGQGAMNTEAFF TRBV10-3 TRBJ1-1 CHP_378-01-PBMC-DNA\n",
      "  5:     CAIRGSGGYTF TRBV10-3 TRBJ1-2 CHP_378-01-PBMC-DNA\n",
      " ---                                                     \n",
      "586:   CTSRYTSGGQQYF  TRBV6-3 TRBJ2-7 CHP_378-01-PBMC-DNA\n",
      "587:     CVFSPNTEAFF   TRBV30 TRBJ1-1 CHP_378-01-PBMC-DNA\n",
      "588:  CVISGTGGETEAFF TRBV10-3 TRBJ1-1 CHP_378-01-PBMC-DNA\n",
      "589: SAISESGDSGNTIYF TRBV10-3 TRBJ1-3 CHP_378-01-PBMC-DNA\n",
      "590:    YATSADYNEQFF TRBV24-1 TRBJ2-1 CHP_378-01-PBMC-DNA\n",
      "                                                                                                            file\n",
      "  1: /Users/anabbi/Desktop/H4H/INTERCEPT/NextSeq/batch3_19Aug2019/mixcr/clones/CLONES_TRBCHP_378-01-PBMC-DNA.txt\n",
      "  2: /Users/anabbi/Desktop/H4H/INTERCEPT/NextSeq/batch3_19Aug2019/mixcr/clones/CLONES_TRBCHP_378-01-PBMC-DNA.txt\n",
      "  3: /Users/anabbi/Desktop/H4H/INTERCEPT/NextSeq/batch3_19Aug2019/mixcr/clones/CLONES_TRBCHP_378-01-PBMC-DNA.txt\n",
      "  4: /Users/anabbi/Desktop/H4H/INTERCEPT/NextSeq/batch3_19Aug2019/mixcr/clones/CLONES_TRBCHP_378-01-PBMC-DNA.txt\n",
      "  5: /Users/anabbi/Desktop/H4H/INTERCEPT/NextSeq/batch3_19Aug2019/mixcr/clones/CLONES_TRBCHP_378-01-PBMC-DNA.txt\n",
      " ---                                                                                                            \n",
      "586: /Users/anabbi/Desktop/H4H/INTERCEPT/NextSeq/batch3_19Aug2019/mixcr/clones/CLONES_TRBCHP_378-01-PBMC-DNA.txt\n",
      "587: /Users/anabbi/Desktop/H4H/INTERCEPT/NextSeq/batch3_19Aug2019/mixcr/clones/CLONES_TRBCHP_378-01-PBMC-DNA.txt\n",
      "588: /Users/anabbi/Desktop/H4H/INTERCEPT/NextSeq/batch3_19Aug2019/mixcr/clones/CLONES_TRBCHP_378-01-PBMC-DNA.txt\n",
      "589: /Users/anabbi/Desktop/H4H/INTERCEPT/NextSeq/batch3_19Aug2019/mixcr/clones/CLONES_TRBCHP_378-01-PBMC-DNA.txt\n",
      "590: /Users/anabbi/Desktop/H4H/INTERCEPT/NextSeq/batch3_19Aug2019/mixcr/clones/CLONES_TRBCHP_378-01-PBMC-DNA.txt\n",
      "     count\n",
      "  1:    19\n",
      "  2:    32\n",
      "  3:     1\n",
      "  4:    22\n",
      "  5:    18\n",
      " ---      \n",
      "586:     1\n",
      "587:     7\n",
      "588:     5\n",
      "589:     1\n",
      "590:    33\n",
      "                CDR3b     TRBV    TRBJ             subject\n",
      "  1: CASCLRGQGWNSPLHF   TRBV28 TRBJ1-6 CHP_347-01-PBMC-DNA\n",
      "  2:     CASELQGNIQYF  TRBV6-1 TRBJ2-4 CHP_347-01-PBMC-DNA\n",
      "  3:    CASGGGSLREQYF  TRBV6-6 TRBJ2-7 CHP_347-01-PBMC-DNA\n",
      "  4:    CASGKRDPQGQYF TRBV12-3 TRBJ2-7 CHP_347-01-PBMC-DNA\n",
      "  5:    CASGRSNTGELFF  TRBV7-3 TRBJ2-2 CHP_347-01-PBMC-DNA\n",
      " ---                                                      \n",
      "149: CSARMYRGGATDTQYF TRBV20-1 TRBJ2-3 CHP_347-01-PBMC-DNA\n",
      "150: CSATPRGRGVRNEQFF TRBV20-1 TRBJ2-1 CHP_347-01-PBMC-DNA\n",
      "151:     CSATTGSTEAFF TRBV20-1 TRBJ1-1 CHP_347-01-PBMC-DNA\n",
      "152:     CSEGGSTDTQYF TRBV20-1 TRBJ2-3 CHP_347-01-PBMC-DNA\n",
      "153:    CSVERGGSYEQYF TRBV29-1 TRBJ2-7 CHP_347-01-PBMC-DNA\n",
      "                                                                                                            file\n",
      "  1: /Users/anabbi/Desktop/H4H/INTERCEPT/NextSeq/batch4_19Aug2019/mixcr/clones/CLONES_TRBCHP_347-01-PBMC-DNA.txt\n",
      "  2: /Users/anabbi/Desktop/H4H/INTERCEPT/NextSeq/batch4_19Aug2019/mixcr/clones/CLONES_TRBCHP_347-01-PBMC-DNA.txt\n",
      "  3: /Users/anabbi/Desktop/H4H/INTERCEPT/NextSeq/batch4_19Aug2019/mixcr/clones/CLONES_TRBCHP_347-01-PBMC-DNA.txt\n",
      "  4: /Users/anabbi/Desktop/H4H/INTERCEPT/NextSeq/batch4_19Aug2019/mixcr/clones/CLONES_TRBCHP_347-01-PBMC-DNA.txt\n",
      "  5: /Users/anabbi/Desktop/H4H/INTERCEPT/NextSeq/batch4_19Aug2019/mixcr/clones/CLONES_TRBCHP_347-01-PBMC-DNA.txt\n",
      " ---                                                                                                            \n",
      "149: /Users/anabbi/Desktop/H4H/INTERCEPT/NextSeq/batch4_19Aug2019/mixcr/clones/CLONES_TRBCHP_347-01-PBMC-DNA.txt\n",
      "150: /Users/anabbi/Desktop/H4H/INTERCEPT/NextSeq/batch4_19Aug2019/mixcr/clones/CLONES_TRBCHP_347-01-PBMC-DNA.txt\n",
      "151: /Users/anabbi/Desktop/H4H/INTERCEPT/NextSeq/batch4_19Aug2019/mixcr/clones/CLONES_TRBCHP_347-01-PBMC-DNA.txt\n",
      "152: /Users/anabbi/Desktop/H4H/INTERCEPT/NextSeq/batch4_19Aug2019/mixcr/clones/CLONES_TRBCHP_347-01-PBMC-DNA.txt\n",
      "153: /Users/anabbi/Desktop/H4H/INTERCEPT/NextSeq/batch4_19Aug2019/mixcr/clones/CLONES_TRBCHP_347-01-PBMC-DNA.txt\n",
      "     count\n",
      "  1:    29\n",
      "  2:    86\n",
      "  3:    27\n",
      "  4:     9\n",
      "  5:    77\n",
      " ---      \n",
      "149:    16\n",
      "150:    24\n",
      "151:    44\n",
      "152:     9\n",
      "153:    71\n",
      "                 CDR3b     TRBV    TRBJ             subject\n",
      " 1:    CASKGGSVPNEKLFF  TRBV7-2 TRBJ1-4 CHP_355-01-PBMC-DNA\n",
      " 2:    CASSEAGGPTDTQYF  TRBV6-4 TRBJ2-3 CHP_355-01-PBMC-DNA\n",
      " 3:     CASSGLYSNQPQHF  TRBV6-2 TRBJ1-5 CHP_355-01-PBMC-DNA\n",
      " 4:     CASSGTVPNEKLFF TRBV10-2 TRBJ1-4 CHP_355-01-PBMC-DNA\n",
      " 5:      CASSLRGQYEQYF TRBV10-2 TRBJ2-7 CHP_355-01-PBMC-DNA\n",
      " 6:    CASSLSGVQGNEQFF  TRBV6-5 TRBJ2-1 CHP_355-01-PBMC-DNA\n",
      " 7:     CASSPTGGTDTQYF   TRBV28 TRBJ2-3 CHP_355-01-PBMC-DNA\n",
      " 8:    CASSQDMGSDEKLFF  TRBV4-1 TRBJ1-4 CHP_355-01-PBMC-DNA\n",
      " 9:     CASSQPDIQETQYF  TRBV4-1 TRBJ2-5 CHP_355-01-PBMC-DNA\n",
      "10: CASSQVLAGIGSSYEQYF  TRBV3-1 TRBJ2-7 CHP_355-01-PBMC-DNA\n",
      "11:   CASSRTSGGVTDTQYF  TRBV6-2 TRBJ2-3 CHP_355-01-PBMC-DNA\n",
      "12:    CASSSLLGGSREAFF  TRBV5-4 TRBJ1-1 CHP_355-01-PBMC-DNA\n",
      "13:  CASSTDRGIVGANVLTF TRBV10-1 TRBJ2-6 CHP_355-01-PBMC-DNA\n",
      "14:      CPSSLRGQYEQYF TRBV10-2 TRBJ2-7 CHP_355-01-PBMC-DNA\n",
      "                                                                                                           file\n",
      " 1: /Users/anabbi/Desktop/H4H/INTERCEPT/NextSeq/batch4_19Aug2019/mixcr/clones/CLONES_TRBCHP_355-01-PBMC-DNA.txt\n",
      " 2: /Users/anabbi/Desktop/H4H/INTERCEPT/NextSeq/batch4_19Aug2019/mixcr/clones/CLONES_TRBCHP_355-01-PBMC-DNA.txt\n",
      " 3: /Users/anabbi/Desktop/H4H/INTERCEPT/NextSeq/batch4_19Aug2019/mixcr/clones/CLONES_TRBCHP_355-01-PBMC-DNA.txt\n",
      " 4: /Users/anabbi/Desktop/H4H/INTERCEPT/NextSeq/batch4_19Aug2019/mixcr/clones/CLONES_TRBCHP_355-01-PBMC-DNA.txt\n",
      " 5: /Users/anabbi/Desktop/H4H/INTERCEPT/NextSeq/batch4_19Aug2019/mixcr/clones/CLONES_TRBCHP_355-01-PBMC-DNA.txt\n",
      " 6: /Users/anabbi/Desktop/H4H/INTERCEPT/NextSeq/batch4_19Aug2019/mixcr/clones/CLONES_TRBCHP_355-01-PBMC-DNA.txt\n",
      " 7: /Users/anabbi/Desktop/H4H/INTERCEPT/NextSeq/batch4_19Aug2019/mixcr/clones/CLONES_TRBCHP_355-01-PBMC-DNA.txt\n",
      " 8: /Users/anabbi/Desktop/H4H/INTERCEPT/NextSeq/batch4_19Aug2019/mixcr/clones/CLONES_TRBCHP_355-01-PBMC-DNA.txt\n",
      " 9: /Users/anabbi/Desktop/H4H/INTERCEPT/NextSeq/batch4_19Aug2019/mixcr/clones/CLONES_TRBCHP_355-01-PBMC-DNA.txt\n",
      "10: /Users/anabbi/Desktop/H4H/INTERCEPT/NextSeq/batch4_19Aug2019/mixcr/clones/CLONES_TRBCHP_355-01-PBMC-DNA.txt\n",
      "11: /Users/anabbi/Desktop/H4H/INTERCEPT/NextSeq/batch4_19Aug2019/mixcr/clones/CLONES_TRBCHP_355-01-PBMC-DNA.txt\n",
      "12: /Users/anabbi/Desktop/H4H/INTERCEPT/NextSeq/batch4_19Aug2019/mixcr/clones/CLONES_TRBCHP_355-01-PBMC-DNA.txt\n",
      "13: /Users/anabbi/Desktop/H4H/INTERCEPT/NextSeq/batch4_19Aug2019/mixcr/clones/CLONES_TRBCHP_355-01-PBMC-DNA.txt\n",
      "14: /Users/anabbi/Desktop/H4H/INTERCEPT/NextSeq/batch4_19Aug2019/mixcr/clones/CLONES_TRBCHP_355-01-PBMC-DNA.txt\n",
      "    count\n",
      " 1:    15\n",
      " 2:    42\n",
      " 3:    49\n",
      " 4:    15\n",
      " 5:    23\n",
      " 6:     9\n",
      " 7:     7\n",
      " 8:    21\n",
      " 9:    13\n",
      "10:    21\n",
      "11:    14\n",
      "12:    11\n",
      "13:    13\n",
      "14:     1\n",
      "                CDR3b     TRBV    TRBJ             subject\n",
      "  1:  CAEGVGGGMNTEAFF  TRBV6-1 TRBJ1-1 CHP_357-01-PBMC-DNA\n",
      "  2:    CAIGIGGPTEAFF TRBV10-3 TRBJ1-1 CHP_357-01-PBMC-DNA\n",
      "  3:    CAIMGGTGNTIYF TRBV10-3 TRBJ1-3 CHP_357-01-PBMC-DNA\n",
      "  4:   CAINPTGVNSPLHF TRBV10-3 TRBJ1-6 CHP_357-01-PBMC-DNA\n",
      "  5:    CAISAGREDTQYF TRBV10-3 TRBJ2-3 CHP_357-01-PBMC-DNA\n",
      " ---                                                      \n",
      "291:   CSVEKWGLSTEAFF TRBV29-1 TRBJ1-1 CHP_357-01-PBMC-DNA\n",
      "292:   CSVGPGTGYNEQFF TRBV29-1 TRBJ2-1 CHP_357-01-PBMC-DNA\n",
      "293:     CVSSRQGETQYF  TRBV4-2 TRBJ2-5 CHP_357-01-PBMC-DNA\n",
      "294: RASSLKVGGLGNTIYF  TRBV7-3 TRBJ1-3 CHP_357-01-PBMC-DNA\n",
      "295:    RASSVGIEETQYF  TRBV6-5 TRBJ2-5 CHP_357-01-PBMC-DNA\n",
      "                                                                                                            file\n",
      "  1: /Users/anabbi/Desktop/H4H/INTERCEPT/NextSeq/batch4_19Aug2019/mixcr/clones/CLONES_TRBCHP_357-01-PBMC-DNA.txt\n",
      "  2: /Users/anabbi/Desktop/H4H/INTERCEPT/NextSeq/batch4_19Aug2019/mixcr/clones/CLONES_TRBCHP_357-01-PBMC-DNA.txt\n",
      "  3: /Users/anabbi/Desktop/H4H/INTERCEPT/NextSeq/batch4_19Aug2019/mixcr/clones/CLONES_TRBCHP_357-01-PBMC-DNA.txt\n",
      "  4: /Users/anabbi/Desktop/H4H/INTERCEPT/NextSeq/batch4_19Aug2019/mixcr/clones/CLONES_TRBCHP_357-01-PBMC-DNA.txt\n",
      "  5: /Users/anabbi/Desktop/H4H/INTERCEPT/NextSeq/batch4_19Aug2019/mixcr/clones/CLONES_TRBCHP_357-01-PBMC-DNA.txt\n",
      " ---                                                                                                            \n",
      "291: /Users/anabbi/Desktop/H4H/INTERCEPT/NextSeq/batch4_19Aug2019/mixcr/clones/CLONES_TRBCHP_357-01-PBMC-DNA.txt\n",
      "292: /Users/anabbi/Desktop/H4H/INTERCEPT/NextSeq/batch4_19Aug2019/mixcr/clones/CLONES_TRBCHP_357-01-PBMC-DNA.txt\n",
      "293: /Users/anabbi/Desktop/H4H/INTERCEPT/NextSeq/batch4_19Aug2019/mixcr/clones/CLONES_TRBCHP_357-01-PBMC-DNA.txt\n",
      "294: /Users/anabbi/Desktop/H4H/INTERCEPT/NextSeq/batch4_19Aug2019/mixcr/clones/CLONES_TRBCHP_357-01-PBMC-DNA.txt\n",
      "295: /Users/anabbi/Desktop/H4H/INTERCEPT/NextSeq/batch4_19Aug2019/mixcr/clones/CLONES_TRBCHP_357-01-PBMC-DNA.txt\n",
      "     count\n",
      "  1:    13\n",
      "  2:    68\n",
      "  3:    20\n",
      "  4:    10\n",
      "  5:    49\n",
      " ---      \n",
      "291:    34\n",
      "292:    41\n",
      "293:     1\n",
      "294:    35\n",
      "295:     1\n",
      "                   CDR3b     TRBV    TRBJ             subject\n",
      " 1:        CAIRAGVIYGYTF TRBV10-3 TRBJ1-2 CHP_361-01-PBMC-DNA\n",
      " 2:       CAIRGTSWYNEQFF TRBV10-3 TRBJ2-1 CHP_361-01-PBMC-DNA\n",
      " 3:       CAIRRTSWYNEQFF TRBV10-3 TRBJ2-1 CHP_361-01-PBMC-DNA\n",
      " 4:   CAISEKALPSATNEKLFF TRBV10-3 TRBJ1-4 CHP_361-01-PBMC-DNA\n",
      " 5:       CAISESASWETQYF TRBV10-3 TRBJ2-5 CHP_361-01-PBMC-DNA\n",
      " 6:    CARSPVANRWEQETQYF  TRBV5-3 TRBJ2-5 CHP_361-01-PBMC-DNA\n",
      " 7:       CASGSSGGTDTQYF  TRBV6-1 TRBJ2-3 CHP_361-01-PBMC-DNA\n",
      " 8:       CASHTGQEIYGYTF   TRBV19 TRBJ1-2 CHP_361-01-PBMC-DNA\n",
      " 9:      CASNPQETSNQPQHF TRBV10-2 TRBJ1-5 CHP_361-01-PBMC-DNA\n",
      "10:       CASQQGLRQETQYF  TRBV5-1 TRBJ2-5 CHP_361-01-PBMC-DNA\n",
      "11:        CASRDLLTDTQYF  TRBV6-4 TRBJ2-3 CHP_361-01-PBMC-DNA\n",
      "12:      CASRLWTGDQETQYF  TRBV5-4 TRBJ2-5 CHP_361-01-PBMC-DNA\n",
      "13:      CASSASGGATDTQYF  TRBV6-4 TRBJ2-3 CHP_361-01-PBMC-DNA\n",
      "14:       CASSDLDSGNTIYF  TRBV6-5 TRBJ1-3 CHP_361-01-PBMC-DNA\n",
      "15:      CASSDSAGGPGELFF  TRBV6-4 TRBJ2-2 CHP_361-01-PBMC-DNA\n",
      "16:       CASSDSEQGYGYTF  TRBV6-4 TRBJ1-2 CHP_361-01-PBMC-DNA\n",
      "17:      CASSDSGGATDTQYF  TRBV6-4 TRBJ2-3 CHP_361-01-PBMC-DNA\n",
      "18:       CASSDSQGAGELFF  TRBV6-4 TRBJ2-2 CHP_361-01-PBMC-DNA\n",
      "19:      CASSEAGANTGELFF  TRBV6-4 TRBJ2-2 CHP_361-01-PBMC-DNA\n",
      "20:        CASSEEVGSPLHF  TRBV6-4 TRBJ1-6 CHP_361-01-PBMC-DNA\n",
      "21:      CASSEGGAPYNEQFF  TRBV6-1 TRBJ2-1 CHP_361-01-PBMC-DNA\n",
      "22:      CASSELAGGGDTQYF  TRBV6-4 TRBJ2-3 CHP_361-01-PBMC-DNA\n",
      "23:      CASSESGAGNQPQHF TRBV10-2 TRBJ1-5 CHP_361-01-PBMC-DNA\n",
      "24:     CASSEVLGLSNQPQHF  TRBV6-1 TRBJ1-5 CHP_361-01-PBMC-DNA\n",
      "25:   CASSFGFFESGDLETQYF TRBV12-4 TRBJ2-5 CHP_361-01-PBMC-DNA\n",
      "26:       CASSFRDINTEAFF  TRBV5-1 TRBJ1-1 CHP_361-01-PBMC-DNA\n",
      "27:     CASSGRLGLSPGELFF    TRBV9 TRBJ2-2 CHP_361-01-PBMC-DNA\n",
      "28: CASSIFGGTGKTYSGNTIYF   TRBV19 TRBJ1-3 CHP_361-01-PBMC-DNA\n",
      "29:        CASSIGTGAGYTF   TRBV19 TRBJ1-2 CHP_361-01-PBMC-DNA\n",
      "30:          CASSIVDTQYF   TRBV19 TRBJ2-3 CHP_361-01-PBMC-DNA\n",
      "31:      CASSLDRDRSYEQYF  TRBV7-2 TRBJ2-7 CHP_361-01-PBMC-DNA\n",
      "32:      CASSLEGGSYNEQFF  TRBV5-1 TRBJ2-1 CHP_361-01-PBMC-DNA\n",
      "33:      CASSLGGQGMGEQYF   TRBV13 TRBJ2-7 CHP_361-01-PBMC-DNA\n",
      "34:    CASSLLQRGGQLETQYF  TRBV5-1 TRBJ2-5 CHP_361-01-PBMC-DNA\n",
      "35:        CASSLQGATEAFF   TRBV14 TRBJ1-1 CHP_361-01-PBMC-DNA\n",
      "36:    CASSLTGRRAPNEKLFF  TRBV5-1 TRBJ1-4 CHP_361-01-PBMC-DNA\n",
      "37:      CASSLTGTGEQPQHF  TRBV5-1 TRBJ1-5 CHP_361-01-PBMC-DNA\n",
      "38:  CASSLVELWVGGLNTEAFF  TRBV7-6 TRBJ1-1 CHP_361-01-PBMC-DNA\n",
      "39:     CASSLVGRGGSGELFF  TRBV5-1 TRBJ2-2 CHP_361-01-PBMC-DNA\n",
      "40:          CASSLYNEQFF    TRBV9 TRBJ2-1 CHP_361-01-PBMC-DNA\n",
      "41:       CASSPALETQPQHF  TRBV6-2 TRBJ1-5 CHP_361-01-PBMC-DNA\n",
      "42:      CASSPGDHSNQPQHF  TRBV5-1 TRBJ1-5 CHP_361-01-PBMC-DNA\n",
      "43:       CASSPGQGTGELFF    TRBV9 TRBJ2-2 CHP_361-01-PBMC-DNA\n",
      "44:        CASSPGQNYGYTF   TRBV18 TRBJ1-2 CHP_361-01-PBMC-DNA\n",
      "45:     CASSPQRGGSNEKLFF  TRBV4-2 TRBJ1-4 CHP_361-01-PBMC-DNA\n",
      "46:       CASSQDWGGGGYTF  TRBV3-1 TRBJ1-2 CHP_361-01-PBMC-DNA\n",
      "47:      CASSQDWGQGGKLFF  TRBV4-3 TRBJ1-4 CHP_361-01-PBMC-DNA\n",
      "48: CASSQEPINRGRGSNQPQHF  TRBV4-3 TRBJ1-5 CHP_361-01-PBMC-DNA\n",
      "49:      CASSQESPVYNEQFF  TRBV4-3 TRBJ2-1 CHP_361-01-PBMC-DNA\n",
      "50:    CASSQLTGDFTNEKLFF  TRBV4-3 TRBJ1-4 CHP_361-01-PBMC-DNA\n",
      "51:      CASSQNPTGKETQYF  TRBV4-3 TRBJ2-5 CHP_361-01-PBMC-DNA\n",
      "52:     CASSQRGQGQNQPQHF   TRBV13 TRBJ1-5 CHP_361-01-PBMC-DNA\n",
      "53:      CASSQVAGGSYEQYF  TRBV4-3 TRBJ2-7 CHP_361-01-PBMC-DNA\n",
      "54:      CASSQVRGNGYGYTF  TRBV4-1 TRBJ1-2 CHP_361-01-PBMC-DNA\n",
      "55:      CASSRLTGSNSPLHF  TRBV4-3 TRBJ1-6 CHP_361-01-PBMC-DNA\n",
      "56:        CASSRMKGAEAFF  TRBV7-2 TRBJ1-1 CHP_361-01-PBMC-DNA\n",
      "57:     CASSRPRAADTDTQYF  TRBV7-6 TRBJ2-3 CHP_361-01-PBMC-DNA\n",
      "58:        CASSSDSPQPQHF  TRBV6-2 TRBJ1-5 CHP_361-01-PBMC-DNA\n",
      "59:        CASSSGNTGELFF  TRBV6-4 TRBJ2-2 CHP_361-01-PBMC-DNA\n",
      "60:        CASSSGQGHGYTF  TRBV5-6 TRBJ1-2 CHP_361-01-PBMC-DNA\n",
      "61:     CASSSRGGMNGSPLHF  TRBV7-9 TRBJ1-6 CHP_361-01-PBMC-DNA\n",
      "62:         CASSTHQETQYF  TRBV7-6 TRBJ2-5 CHP_361-01-PBMC-DNA\n",
      "63:        CASSTTGTREQYF  TRBV7-2 TRBJ2-7 CHP_361-01-PBMC-DNA\n",
      "64:       CASSVAGGTDTQYF  TRBV6-4 TRBJ2-3 CHP_361-01-PBMC-DNA\n",
      "65:       CASSVGGVDEKLFF    TRBV9 TRBJ1-4 CHP_361-01-PBMC-DNA\n",
      "66:       CASSVKGSNYGYTF    TRBV2 TRBJ1-2 CHP_361-01-PBMC-DNA\n",
      "67:        CASSYGNNEKLFF  TRBV6-6 TRBJ1-4 CHP_361-01-PBMC-DNA\n",
      "68:       CASSYRGPQETQYF  TRBV6-2 TRBJ2-5 CHP_361-01-PBMC-DNA\n",
      "69:      CASSYSKDWGWEQYF  TRBV6-5 TRBJ2-7 CHP_361-01-PBMC-DNA\n",
      "70:      CASSYSKGWGWEQYF  TRBV6-5 TRBJ2-7 CHP_361-01-PBMC-DNA\n",
      "71:        CASSYSTGDGYTF  TRBV6-5 TRBJ1-2 CHP_361-01-PBMC-DNA\n",
      "72:        CASSYSTYQPQHF  TRBV6-5 TRBJ1-5 CHP_361-01-PBMC-DNA\n",
      "73:      CASTDRVTSNYGYTF   TRBV27 TRBJ1-2 CHP_361-01-PBMC-DNA\n",
      "74:       CASTLLEQNQPQHF   TRBV19 TRBJ1-5 CHP_361-01-PBMC-DNA\n",
      "75:        CASTPGQGAGYTF TRBV25-1 TRBJ1-2 CHP_361-01-PBMC-DNA\n",
      "76:         CATQGVGNTIYF  TRBV6-5 TRBJ1-3 CHP_361-01-PBMC-DNA\n",
      "77:        CATRSDREHEQFF   TRBV15 TRBJ2-1 CHP_361-01-PBMC-DNA\n",
      "78:        CATSASSTDTQYF TRBV24-1 TRBJ2-3 CHP_361-01-PBMC-DNA\n",
      "79:       CATSKVDRDHEQYF   TRBV15 TRBJ2-7 CHP_361-01-PBMC-DNA\n",
      "80:        CAWSVAGAYGYTF   TRBV30 TRBJ1-2 CHP_361-01-PBMC-DNA\n",
      "81:      CAWSVQGWGYEKLFF   TRBV30 TRBJ1-4 CHP_361-01-PBMC-DNA\n",
      "82:       CSAFPKIAGGEQFF TRBV20-1 TRBJ2-1 CHP_361-01-PBMC-DNA\n",
      "83:       CSAGQGTTNEKLFF TRBV20-1 TRBJ1-4 CHP_361-01-PBMC-DNA\n",
      "84:        CSANSGGQRGYTF TRBV20-1 TRBJ1-2 CHP_361-01-PBMC-DNA\n",
      "85:        CSARTISTDTQYF TRBV20-1 TRBJ2-3 CHP_361-01-PBMC-DNA\n",
      "86:        CSARTTSTDTQYF TRBV20-1 TRBJ2-3 CHP_361-01-PBMC-DNA\n",
      "87:        CSASELSVTEAFF TRBV20-1 TRBJ1-1 CHP_361-01-PBMC-DNA\n",
      "88:      CSASPMHTTNEKLFF TRBV20-1 TRBJ1-4 CHP_361-01-PBMC-DNA\n",
      "89:          CSVRQGEKLFF TRBV29-1 TRBJ1-4 CHP_361-01-PBMC-DNA\n",
      "90:     CSVVGAQGSSGNTIYF TRBV29-1 TRBJ1-3 CHP_361-01-PBMC-DNA\n",
      "                   CDR3b     TRBV    TRBJ             subject\n",
      "                                                                                                           file\n",
      " 1: /Users/anabbi/Desktop/H4H/INTERCEPT/NextSeq/batch4_19Aug2019/mixcr/clones/CLONES_TRBCHP_361-01-PBMC-DNA.txt\n",
      " 2: /Users/anabbi/Desktop/H4H/INTERCEPT/NextSeq/batch4_19Aug2019/mixcr/clones/CLONES_TRBCHP_361-01-PBMC-DNA.txt\n",
      " 3: /Users/anabbi/Desktop/H4H/INTERCEPT/NextSeq/batch4_19Aug2019/mixcr/clones/CLONES_TRBCHP_361-01-PBMC-DNA.txt\n",
      " 4: /Users/anabbi/Desktop/H4H/INTERCEPT/NextSeq/batch4_19Aug2019/mixcr/clones/CLONES_TRBCHP_361-01-PBMC-DNA.txt\n",
      " 5: /Users/anabbi/Desktop/H4H/INTERCEPT/NextSeq/batch4_19Aug2019/mixcr/clones/CLONES_TRBCHP_361-01-PBMC-DNA.txt\n",
      " 6: /Users/anabbi/Desktop/H4H/INTERCEPT/NextSeq/batch4_19Aug2019/mixcr/clones/CLONES_TRBCHP_361-01-PBMC-DNA.txt\n",
      " 7: /Users/anabbi/Desktop/H4H/INTERCEPT/NextSeq/batch4_19Aug2019/mixcr/clones/CLONES_TRBCHP_361-01-PBMC-DNA.txt\n",
      " 8: /Users/anabbi/Desktop/H4H/INTERCEPT/NextSeq/batch4_19Aug2019/mixcr/clones/CLONES_TRBCHP_361-01-PBMC-DNA.txt\n",
      " 9: /Users/anabbi/Desktop/H4H/INTERCEPT/NextSeq/batch4_19Aug2019/mixcr/clones/CLONES_TRBCHP_361-01-PBMC-DNA.txt\n",
      "10: /Users/anabbi/Desktop/H4H/INTERCEPT/NextSeq/batch4_19Aug2019/mixcr/clones/CLONES_TRBCHP_361-01-PBMC-DNA.txt\n",
      "11: /Users/anabbi/Desktop/H4H/INTERCEPT/NextSeq/batch4_19Aug2019/mixcr/clones/CLONES_TRBCHP_361-01-PBMC-DNA.txt\n",
      "12: /Users/anabbi/Desktop/H4H/INTERCEPT/NextSeq/batch4_19Aug2019/mixcr/clones/CLONES_TRBCHP_361-01-PBMC-DNA.txt\n",
      "13: /Users/anabbi/Desktop/H4H/INTERCEPT/NextSeq/batch4_19Aug2019/mixcr/clones/CLONES_TRBCHP_361-01-PBMC-DNA.txt\n",
      "14: /Users/anabbi/Desktop/H4H/INTERCEPT/NextSeq/batch4_19Aug2019/mixcr/clones/CLONES_TRBCHP_361-01-PBMC-DNA.txt\n",
      "15: /Users/anabbi/Desktop/H4H/INTERCEPT/NextSeq/batch4_19Aug2019/mixcr/clones/CLONES_TRBCHP_361-01-PBMC-DNA.txt\n",
      "16: /Users/anabbi/Desktop/H4H/INTERCEPT/NextSeq/batch4_19Aug2019/mixcr/clones/CLONES_TRBCHP_361-01-PBMC-DNA.txt\n",
      "17: /Users/anabbi/Desktop/H4H/INTERCEPT/NextSeq/batch4_19Aug2019/mixcr/clones/CLONES_TRBCHP_361-01-PBMC-DNA.txt\n",
      "18: /Users/anabbi/Desktop/H4H/INTERCEPT/NextSeq/batch4_19Aug2019/mixcr/clones/CLONES_TRBCHP_361-01-PBMC-DNA.txt\n",
      "19: /Users/anabbi/Desktop/H4H/INTERCEPT/NextSeq/batch4_19Aug2019/mixcr/clones/CLONES_TRBCHP_361-01-PBMC-DNA.txt\n",
      "20: /Users/anabbi/Desktop/H4H/INTERCEPT/NextSeq/batch4_19Aug2019/mixcr/clones/CLONES_TRBCHP_361-01-PBMC-DNA.txt\n",
      "21: /Users/anabbi/Desktop/H4H/INTERCEPT/NextSeq/batch4_19Aug2019/mixcr/clones/CLONES_TRBCHP_361-01-PBMC-DNA.txt\n",
      "22: /Users/anabbi/Desktop/H4H/INTERCEPT/NextSeq/batch4_19Aug2019/mixcr/clones/CLONES_TRBCHP_361-01-PBMC-DNA.txt\n",
      "23: /Users/anabbi/Desktop/H4H/INTERCEPT/NextSeq/batch4_19Aug2019/mixcr/clones/CLONES_TRBCHP_361-01-PBMC-DNA.txt\n",
      "24: /Users/anabbi/Desktop/H4H/INTERCEPT/NextSeq/batch4_19Aug2019/mixcr/clones/CLONES_TRBCHP_361-01-PBMC-DNA.txt\n",
      "25: /Users/anabbi/Desktop/H4H/INTERCEPT/NextSeq/batch4_19Aug2019/mixcr/clones/CLONES_TRBCHP_361-01-PBMC-DNA.txt\n",
      "26: /Users/anabbi/Desktop/H4H/INTERCEPT/NextSeq/batch4_19Aug2019/mixcr/clones/CLONES_TRBCHP_361-01-PBMC-DNA.txt\n",
      "27: /Users/anabbi/Desktop/H4H/INTERCEPT/NextSeq/batch4_19Aug2019/mixcr/clones/CLONES_TRBCHP_361-01-PBMC-DNA.txt\n",
      "28: /Users/anabbi/Desktop/H4H/INTERCEPT/NextSeq/batch4_19Aug2019/mixcr/clones/CLONES_TRBCHP_361-01-PBMC-DNA.txt\n",
      "29: /Users/anabbi/Desktop/H4H/INTERCEPT/NextSeq/batch4_19Aug2019/mixcr/clones/CLONES_TRBCHP_361-01-PBMC-DNA.txt\n",
      "30: /Users/anabbi/Desktop/H4H/INTERCEPT/NextSeq/batch4_19Aug2019/mixcr/clones/CLONES_TRBCHP_361-01-PBMC-DNA.txt\n",
      "31: /Users/anabbi/Desktop/H4H/INTERCEPT/NextSeq/batch4_19Aug2019/mixcr/clones/CLONES_TRBCHP_361-01-PBMC-DNA.txt\n",
      "32: /Users/anabbi/Desktop/H4H/INTERCEPT/NextSeq/batch4_19Aug2019/mixcr/clones/CLONES_TRBCHP_361-01-PBMC-DNA.txt\n",
      "33: /Users/anabbi/Desktop/H4H/INTERCEPT/NextSeq/batch4_19Aug2019/mixcr/clones/CLONES_TRBCHP_361-01-PBMC-DNA.txt\n",
      "34: /Users/anabbi/Desktop/H4H/INTERCEPT/NextSeq/batch4_19Aug2019/mixcr/clones/CLONES_TRBCHP_361-01-PBMC-DNA.txt\n",
      "35: /Users/anabbi/Desktop/H4H/INTERCEPT/NextSeq/batch4_19Aug2019/mixcr/clones/CLONES_TRBCHP_361-01-PBMC-DNA.txt\n",
      "36: /Users/anabbi/Desktop/H4H/INTERCEPT/NextSeq/batch4_19Aug2019/mixcr/clones/CLONES_TRBCHP_361-01-PBMC-DNA.txt\n",
      "37: /Users/anabbi/Desktop/H4H/INTERCEPT/NextSeq/batch4_19Aug2019/mixcr/clones/CLONES_TRBCHP_361-01-PBMC-DNA.txt\n",
      "38: /Users/anabbi/Desktop/H4H/INTERCEPT/NextSeq/batch4_19Aug2019/mixcr/clones/CLONES_TRBCHP_361-01-PBMC-DNA.txt\n",
      "39: /Users/anabbi/Desktop/H4H/INTERCEPT/NextSeq/batch4_19Aug2019/mixcr/clones/CLONES_TRBCHP_361-01-PBMC-DNA.txt\n",
      "40: /Users/anabbi/Desktop/H4H/INTERCEPT/NextSeq/batch4_19Aug2019/mixcr/clones/CLONES_TRBCHP_361-01-PBMC-DNA.txt\n",
      "41: /Users/anabbi/Desktop/H4H/INTERCEPT/NextSeq/batch4_19Aug2019/mixcr/clones/CLONES_TRBCHP_361-01-PBMC-DNA.txt\n",
      "42: /Users/anabbi/Desktop/H4H/INTERCEPT/NextSeq/batch4_19Aug2019/mixcr/clones/CLONES_TRBCHP_361-01-PBMC-DNA.txt\n",
      "43: /Users/anabbi/Desktop/H4H/INTERCEPT/NextSeq/batch4_19Aug2019/mixcr/clones/CLONES_TRBCHP_361-01-PBMC-DNA.txt\n",
      "44: /Users/anabbi/Desktop/H4H/INTERCEPT/NextSeq/batch4_19Aug2019/mixcr/clones/CLONES_TRBCHP_361-01-PBMC-DNA.txt\n",
      "45: /Users/anabbi/Desktop/H4H/INTERCEPT/NextSeq/batch4_19Aug2019/mixcr/clones/CLONES_TRBCHP_361-01-PBMC-DNA.txt\n",
      "46: /Users/anabbi/Desktop/H4H/INTERCEPT/NextSeq/batch4_19Aug2019/mixcr/clones/CLONES_TRBCHP_361-01-PBMC-DNA.txt\n",
      "47: /Users/anabbi/Desktop/H4H/INTERCEPT/NextSeq/batch4_19Aug2019/mixcr/clones/CLONES_TRBCHP_361-01-PBMC-DNA.txt\n",
      "48: /Users/anabbi/Desktop/H4H/INTERCEPT/NextSeq/batch4_19Aug2019/mixcr/clones/CLONES_TRBCHP_361-01-PBMC-DNA.txt\n",
      "49: /Users/anabbi/Desktop/H4H/INTERCEPT/NextSeq/batch4_19Aug2019/mixcr/clones/CLONES_TRBCHP_361-01-PBMC-DNA.txt\n",
      "50: /Users/anabbi/Desktop/H4H/INTERCEPT/NextSeq/batch4_19Aug2019/mixcr/clones/CLONES_TRBCHP_361-01-PBMC-DNA.txt\n",
      "51: /Users/anabbi/Desktop/H4H/INTERCEPT/NextSeq/batch4_19Aug2019/mixcr/clones/CLONES_TRBCHP_361-01-PBMC-DNA.txt\n",
      "52: /Users/anabbi/Desktop/H4H/INTERCEPT/NextSeq/batch4_19Aug2019/mixcr/clones/CLONES_TRBCHP_361-01-PBMC-DNA.txt\n",
      "53: /Users/anabbi/Desktop/H4H/INTERCEPT/NextSeq/batch4_19Aug2019/mixcr/clones/CLONES_TRBCHP_361-01-PBMC-DNA.txt\n",
      "54: /Users/anabbi/Desktop/H4H/INTERCEPT/NextSeq/batch4_19Aug2019/mixcr/clones/CLONES_TRBCHP_361-01-PBMC-DNA.txt\n",
      "55: /Users/anabbi/Desktop/H4H/INTERCEPT/NextSeq/batch4_19Aug2019/mixcr/clones/CLONES_TRBCHP_361-01-PBMC-DNA.txt\n",
      "56: /Users/anabbi/Desktop/H4H/INTERCEPT/NextSeq/batch4_19Aug2019/mixcr/clones/CLONES_TRBCHP_361-01-PBMC-DNA.txt\n",
      "57: /Users/anabbi/Desktop/H4H/INTERCEPT/NextSeq/batch4_19Aug2019/mixcr/clones/CLONES_TRBCHP_361-01-PBMC-DNA.txt\n",
      "58: /Users/anabbi/Desktop/H4H/INTERCEPT/NextSeq/batch4_19Aug2019/mixcr/clones/CLONES_TRBCHP_361-01-PBMC-DNA.txt\n",
      "59: /Users/anabbi/Desktop/H4H/INTERCEPT/NextSeq/batch4_19Aug2019/mixcr/clones/CLONES_TRBCHP_361-01-PBMC-DNA.txt\n",
      "60: /Users/anabbi/Desktop/H4H/INTERCEPT/NextSeq/batch4_19Aug2019/mixcr/clones/CLONES_TRBCHP_361-01-PBMC-DNA.txt\n",
      "61: /Users/anabbi/Desktop/H4H/INTERCEPT/NextSeq/batch4_19Aug2019/mixcr/clones/CLONES_TRBCHP_361-01-PBMC-DNA.txt\n",
      "62: /Users/anabbi/Desktop/H4H/INTERCEPT/NextSeq/batch4_19Aug2019/mixcr/clones/CLONES_TRBCHP_361-01-PBMC-DNA.txt\n",
      "63: /Users/anabbi/Desktop/H4H/INTERCEPT/NextSeq/batch4_19Aug2019/mixcr/clones/CLONES_TRBCHP_361-01-PBMC-DNA.txt\n",
      "64: /Users/anabbi/Desktop/H4H/INTERCEPT/NextSeq/batch4_19Aug2019/mixcr/clones/CLONES_TRBCHP_361-01-PBMC-DNA.txt\n",
      "65: /Users/anabbi/Desktop/H4H/INTERCEPT/NextSeq/batch4_19Aug2019/mixcr/clones/CLONES_TRBCHP_361-01-PBMC-DNA.txt\n",
      "66: /Users/anabbi/Desktop/H4H/INTERCEPT/NextSeq/batch4_19Aug2019/mixcr/clones/CLONES_TRBCHP_361-01-PBMC-DNA.txt\n",
      "67: /Users/anabbi/Desktop/H4H/INTERCEPT/NextSeq/batch4_19Aug2019/mixcr/clones/CLONES_TRBCHP_361-01-PBMC-DNA.txt\n",
      "68: /Users/anabbi/Desktop/H4H/INTERCEPT/NextSeq/batch4_19Aug2019/mixcr/clones/CLONES_TRBCHP_361-01-PBMC-DNA.txt\n",
      "69: /Users/anabbi/Desktop/H4H/INTERCEPT/NextSeq/batch4_19Aug2019/mixcr/clones/CLONES_TRBCHP_361-01-PBMC-DNA.txt\n",
      "70: /Users/anabbi/Desktop/H4H/INTERCEPT/NextSeq/batch4_19Aug2019/mixcr/clones/CLONES_TRBCHP_361-01-PBMC-DNA.txt\n",
      "71: /Users/anabbi/Desktop/H4H/INTERCEPT/NextSeq/batch4_19Aug2019/mixcr/clones/CLONES_TRBCHP_361-01-PBMC-DNA.txt\n",
      "72: /Users/anabbi/Desktop/H4H/INTERCEPT/NextSeq/batch4_19Aug2019/mixcr/clones/CLONES_TRBCHP_361-01-PBMC-DNA.txt\n",
      "73: /Users/anabbi/Desktop/H4H/INTERCEPT/NextSeq/batch4_19Aug2019/mixcr/clones/CLONES_TRBCHP_361-01-PBMC-DNA.txt\n",
      "74: /Users/anabbi/Desktop/H4H/INTERCEPT/NextSeq/batch4_19Aug2019/mixcr/clones/CLONES_TRBCHP_361-01-PBMC-DNA.txt\n",
      "75: /Users/anabbi/Desktop/H4H/INTERCEPT/NextSeq/batch4_19Aug2019/mixcr/clones/CLONES_TRBCHP_361-01-PBMC-DNA.txt\n",
      "76: /Users/anabbi/Desktop/H4H/INTERCEPT/NextSeq/batch4_19Aug2019/mixcr/clones/CLONES_TRBCHP_361-01-PBMC-DNA.txt\n",
      "77: /Users/anabbi/Desktop/H4H/INTERCEPT/NextSeq/batch4_19Aug2019/mixcr/clones/CLONES_TRBCHP_361-01-PBMC-DNA.txt\n",
      "78: /Users/anabbi/Desktop/H4H/INTERCEPT/NextSeq/batch4_19Aug2019/mixcr/clones/CLONES_TRBCHP_361-01-PBMC-DNA.txt\n",
      "79: /Users/anabbi/Desktop/H4H/INTERCEPT/NextSeq/batch4_19Aug2019/mixcr/clones/CLONES_TRBCHP_361-01-PBMC-DNA.txt\n",
      "80: /Users/anabbi/Desktop/H4H/INTERCEPT/NextSeq/batch4_19Aug2019/mixcr/clones/CLONES_TRBCHP_361-01-PBMC-DNA.txt\n",
      "81: /Users/anabbi/Desktop/H4H/INTERCEPT/NextSeq/batch4_19Aug2019/mixcr/clones/CLONES_TRBCHP_361-01-PBMC-DNA.txt\n",
      "82: /Users/anabbi/Desktop/H4H/INTERCEPT/NextSeq/batch4_19Aug2019/mixcr/clones/CLONES_TRBCHP_361-01-PBMC-DNA.txt\n",
      "83: /Users/anabbi/Desktop/H4H/INTERCEPT/NextSeq/batch4_19Aug2019/mixcr/clones/CLONES_TRBCHP_361-01-PBMC-DNA.txt\n",
      "84: /Users/anabbi/Desktop/H4H/INTERCEPT/NextSeq/batch4_19Aug2019/mixcr/clones/CLONES_TRBCHP_361-01-PBMC-DNA.txt\n",
      "85: /Users/anabbi/Desktop/H4H/INTERCEPT/NextSeq/batch4_19Aug2019/mixcr/clones/CLONES_TRBCHP_361-01-PBMC-DNA.txt\n",
      "86: /Users/anabbi/Desktop/H4H/INTERCEPT/NextSeq/batch4_19Aug2019/mixcr/clones/CLONES_TRBCHP_361-01-PBMC-DNA.txt\n",
      "87: /Users/anabbi/Desktop/H4H/INTERCEPT/NextSeq/batch4_19Aug2019/mixcr/clones/CLONES_TRBCHP_361-01-PBMC-DNA.txt\n",
      "88: /Users/anabbi/Desktop/H4H/INTERCEPT/NextSeq/batch4_19Aug2019/mixcr/clones/CLONES_TRBCHP_361-01-PBMC-DNA.txt\n",
      "89: /Users/anabbi/Desktop/H4H/INTERCEPT/NextSeq/batch4_19Aug2019/mixcr/clones/CLONES_TRBCHP_361-01-PBMC-DNA.txt\n",
      "90: /Users/anabbi/Desktop/H4H/INTERCEPT/NextSeq/batch4_19Aug2019/mixcr/clones/CLONES_TRBCHP_361-01-PBMC-DNA.txt\n",
      "                                                                                                           file\n",
      "    count\n",
      " 1:    20\n",
      " 2:    17\n",
      " 3:     1\n",
      " 4:    21\n",
      " 5:    11\n",
      " 6:    42\n",
      " 7:    41\n",
      " 8:    30\n",
      " 9:    80\n",
      "10:    18\n",
      "11:    19\n",
      "12:    18\n",
      "13:    44\n",
      "14:    11\n",
      "15:    58\n",
      "16:    54\n",
      "17:    20\n",
      "18:    17\n",
      "19:    57\n",
      "20:    59\n",
      "21:    25\n",
      "22:    37\n",
      "23:    19\n",
      "24:    21\n",
      "25:    37\n",
      "26:    25\n",
      "27:    20\n",
      "28:    23\n",
      "29:    72\n",
      "30:    28\n",
      "31:    20\n",
      "32:    57\n",
      "33:     9\n",
      "34:    18\n",
      "35:    21\n",
      "36:    13\n",
      "37:    45\n",
      "38:    17\n",
      "39:    24\n",
      "40:     2\n",
      "41:    41\n",
      "42:    25\n",
      "43:    41\n",
      "44:    29\n",
      "45:    16\n",
      "46:    56\n",
      "47:    75\n",
      "48:    21\n",
      "49:    22\n",
      "50:    19\n",
      "51:    30\n",
      "52:    40\n",
      "53:    71\n",
      "54:    18\n",
      "55:    21\n",
      "56:    40\n",
      "57:    23\n",
      "58:    15\n",
      "59:    48\n",
      "60:    20\n",
      "61:    41\n",
      "62:    58\n",
      "63:    19\n",
      "64:    26\n",
      "65:    31\n",
      "66:    19\n",
      "67:    10\n",
      "68:    41\n",
      "69:     9\n",
      "70:    13\n",
      "71:    39\n",
      "72:    52\n",
      "73:    22\n",
      "74:    24\n",
      "75:    35\n",
      "76:     2\n",
      "77:    30\n",
      "78:    63\n",
      "79:    21\n",
      "80:    28\n",
      "81:    53\n",
      "82:    19\n",
      "83:    22\n",
      "84:    22\n",
      "85:    25\n",
      "86:     1\n",
      "87:    22\n",
      "88:    19\n",
      "89:    69\n",
      "90:    17\n",
      "    count\n",
      "                 CDR3b     TRBV    TRBJ             subject\n",
      "  1:   CAIQPFPSSADTQYF  TRBV6-6 TRBJ2-3 CHP_364-01-PBMC-DNA\n",
      "  2:       CAISAIYEQYF TRBV10-3 TRBJ2-7 CHP_364-01-PBMC-DNA\n",
      "  3:    CAISGKGMNTEAFF TRBV10-3 TRBJ1-1 CHP_364-01-PBMC-DNA\n",
      "  4: CARSLVLAGAFYNEQFF  TRBV5-3 TRBJ2-1 CHP_364-01-PBMC-DNA\n",
      "  5: CARSPGERGGSTDTQYF  TRBV5-3 TRBJ2-3 CHP_364-01-PBMC-DNA\n",
      " ---                                                       \n",
      "114:     CSARVTVNQPQHF TRBV20-1 TRBJ1-5 CHP_364-01-PBMC-DNA\n",
      "115:      CSASIEFQPQHF TRBV20-1 TRBJ1-5 CHP_364-01-PBMC-DNA\n",
      "116:     CSVEFAVNQPQHF TRBV29-1 TRBJ1-5 CHP_364-01-PBMC-DNA\n",
      "117:   CSVPKGGSNTGELFF TRBV29-1 TRBJ2-2 CHP_364-01-PBMC-DNA\n",
      "118:      CSVRPPGADLFF TRBV29-1 TRBJ2-1 CHP_364-01-PBMC-DNA\n",
      "                                                                                                            file\n",
      "  1: /Users/anabbi/Desktop/H4H/INTERCEPT/NextSeq/batch4_19Aug2019/mixcr/clones/CLONES_TRBCHP_364-01-PBMC-DNA.txt\n",
      "  2: /Users/anabbi/Desktop/H4H/INTERCEPT/NextSeq/batch4_19Aug2019/mixcr/clones/CLONES_TRBCHP_364-01-PBMC-DNA.txt\n",
      "  3: /Users/anabbi/Desktop/H4H/INTERCEPT/NextSeq/batch4_19Aug2019/mixcr/clones/CLONES_TRBCHP_364-01-PBMC-DNA.txt\n",
      "  4: /Users/anabbi/Desktop/H4H/INTERCEPT/NextSeq/batch4_19Aug2019/mixcr/clones/CLONES_TRBCHP_364-01-PBMC-DNA.txt\n",
      "  5: /Users/anabbi/Desktop/H4H/INTERCEPT/NextSeq/batch4_19Aug2019/mixcr/clones/CLONES_TRBCHP_364-01-PBMC-DNA.txt\n",
      " ---                                                                                                            \n",
      "114: /Users/anabbi/Desktop/H4H/INTERCEPT/NextSeq/batch4_19Aug2019/mixcr/clones/CLONES_TRBCHP_364-01-PBMC-DNA.txt\n",
      "115: /Users/anabbi/Desktop/H4H/INTERCEPT/NextSeq/batch4_19Aug2019/mixcr/clones/CLONES_TRBCHP_364-01-PBMC-DNA.txt\n",
      "116: /Users/anabbi/Desktop/H4H/INTERCEPT/NextSeq/batch4_19Aug2019/mixcr/clones/CLONES_TRBCHP_364-01-PBMC-DNA.txt\n",
      "117: /Users/anabbi/Desktop/H4H/INTERCEPT/NextSeq/batch4_19Aug2019/mixcr/clones/CLONES_TRBCHP_364-01-PBMC-DNA.txt\n",
      "118: /Users/anabbi/Desktop/H4H/INTERCEPT/NextSeq/batch4_19Aug2019/mixcr/clones/CLONES_TRBCHP_364-01-PBMC-DNA.txt\n",
      "     count\n",
      "  1:    99\n",
      "  2:     4\n",
      "  3:   178\n",
      "  4:    36\n",
      "  5:    17\n",
      " ---      \n",
      "114:    21\n",
      "115:     8\n",
      "116:   207\n",
      "117:     8\n",
      "118:    26\n",
      "                CDR3b     TRBV    TRBJ             subject\n",
      "  1:     CAGSLGINEQFF  TRBV7-6 TRBJ2-1 CHP_353-01-PBMC-DNA\n",
      "  2: CAISAHGTQGTGELFF TRBV10-3 TRBJ2-2 CHP_353-01-PBMC-DNA\n",
      "  3:  CAISDGDRVGTEAFF TRBV10-3 TRBJ1-1 CHP_353-01-PBMC-DNA\n",
      "  4: CAISEAASSVGNEQFF TRBV10-3 TRBJ2-1 CHP_353-01-PBMC-DNA\n",
      "  5:    CAISIAGDTEAFF TRBV10-3 TRBJ1-1 CHP_353-01-PBMC-DNA\n",
      " ---                                                      \n",
      "215:   CSVALARTNYGYTF TRBV29-1 TRBJ1-2 CHP_353-01-PBMC-DNA\n",
      "216:       CSVEEDGYTF TRBV29-1 TRBJ1-2 CHP_353-01-PBMC-DNA\n",
      "217:    CSVEETVQRGYTF TRBV29-1 TRBJ1-2 CHP_353-01-PBMC-DNA\n",
      "218:      CSVERAYGYTF TRBV29-1 TRBJ1-2 CHP_353-01-PBMC-DNA\n",
      "219:     RSARGQSYEQYF TRBV20-1 TRBJ2-7 CHP_353-01-PBMC-DNA\n",
      "                                                                                                            file\n",
      "  1: /Users/anabbi/Desktop/H4H/INTERCEPT/NextSeq/batch7_25Oct2019/mixcr/clones/CLONES_TRBCHP_353-01-PBMC-DNA.txt\n",
      "  2: /Users/anabbi/Desktop/H4H/INTERCEPT/NextSeq/batch7_25Oct2019/mixcr/clones/CLONES_TRBCHP_353-01-PBMC-DNA.txt\n",
      "  3: /Users/anabbi/Desktop/H4H/INTERCEPT/NextSeq/batch7_25Oct2019/mixcr/clones/CLONES_TRBCHP_353-01-PBMC-DNA.txt\n",
      "  4: /Users/anabbi/Desktop/H4H/INTERCEPT/NextSeq/batch7_25Oct2019/mixcr/clones/CLONES_TRBCHP_353-01-PBMC-DNA.txt\n",
      "  5: /Users/anabbi/Desktop/H4H/INTERCEPT/NextSeq/batch7_25Oct2019/mixcr/clones/CLONES_TRBCHP_353-01-PBMC-DNA.txt\n",
      " ---                                                                                                            \n",
      "215: /Users/anabbi/Desktop/H4H/INTERCEPT/NextSeq/batch7_25Oct2019/mixcr/clones/CLONES_TRBCHP_353-01-PBMC-DNA.txt\n",
      "216: /Users/anabbi/Desktop/H4H/INTERCEPT/NextSeq/batch7_25Oct2019/mixcr/clones/CLONES_TRBCHP_353-01-PBMC-DNA.txt\n",
      "217: /Users/anabbi/Desktop/H4H/INTERCEPT/NextSeq/batch7_25Oct2019/mixcr/clones/CLONES_TRBCHP_353-01-PBMC-DNA.txt\n",
      "218: /Users/anabbi/Desktop/H4H/INTERCEPT/NextSeq/batch7_25Oct2019/mixcr/clones/CLONES_TRBCHP_353-01-PBMC-DNA.txt\n",
      "219: /Users/anabbi/Desktop/H4H/INTERCEPT/NextSeq/batch7_25Oct2019/mixcr/clones/CLONES_TRBCHP_353-01-PBMC-DNA.txt\n",
      "     count\n",
      "  1:     1\n",
      "  2:     7\n",
      "  3:    13\n",
      "  4:     9\n",
      "  5:     7\n",
      " ---      \n",
      "215:    15\n",
      "216:     8\n",
      "217:     3\n",
      "218:     8\n",
      "219:     1\n",
      "               CDR3b     TRBV    TRBJ             subject\n",
      "  1:   CAIKYGSDSPLHF TRBV10-3 TRBJ1-6 CHP_362-01-PBMC-DNA\n",
      "  2:   CAIRQGVYNEQFF TRBV10-3 TRBJ2-1 CHP_362-01-PBMC-DNA\n",
      "  3: CAIRTRGGFNYEQYF TRBV10-3 TRBJ2-7 CHP_362-01-PBMC-DNA\n",
      "  4: CAISFGVMAYNEQFF TRBV10-3 TRBJ2-1 CHP_362-01-PBMC-DNA\n",
      "  5: CASGGIDRDSYEQYF   TRBV27 TRBJ2-7 CHP_362-01-PBMC-DNA\n",
      " ---                                                     \n",
      "145:    CSAYTSDNEQFF TRBV20-1 TRBJ2-1 CHP_362-01-PBMC-DNA\n",
      "146:      CSVEGETQYF TRBV29-1 TRBJ2-5 CHP_362-01-PBMC-DNA\n",
      "147:  CSVGGGTASYEQYF TRBV29-1 TRBJ2-7 CHP_362-01-PBMC-DNA\n",
      "148:  CSVGVRKSSYEQYF TRBV29-1 TRBJ2-7 CHP_362-01-PBMC-DNA\n",
      "149:  CSVYRGSGTDTQYF TRBV29-1 TRBJ2-3 CHP_362-01-PBMC-DNA\n",
      "                                                                                                            file\n",
      "  1: /Users/anabbi/Desktop/H4H/INTERCEPT/NextSeq/batch7_25Oct2019/mixcr/clones/CLONES_TRBCHP_362-01-PBMC-DNA.txt\n",
      "  2: /Users/anabbi/Desktop/H4H/INTERCEPT/NextSeq/batch7_25Oct2019/mixcr/clones/CLONES_TRBCHP_362-01-PBMC-DNA.txt\n",
      "  3: /Users/anabbi/Desktop/H4H/INTERCEPT/NextSeq/batch7_25Oct2019/mixcr/clones/CLONES_TRBCHP_362-01-PBMC-DNA.txt\n",
      "  4: /Users/anabbi/Desktop/H4H/INTERCEPT/NextSeq/batch7_25Oct2019/mixcr/clones/CLONES_TRBCHP_362-01-PBMC-DNA.txt\n",
      "  5: /Users/anabbi/Desktop/H4H/INTERCEPT/NextSeq/batch7_25Oct2019/mixcr/clones/CLONES_TRBCHP_362-01-PBMC-DNA.txt\n",
      " ---                                                                                                            \n",
      "145: /Users/anabbi/Desktop/H4H/INTERCEPT/NextSeq/batch7_25Oct2019/mixcr/clones/CLONES_TRBCHP_362-01-PBMC-DNA.txt\n",
      "146: /Users/anabbi/Desktop/H4H/INTERCEPT/NextSeq/batch7_25Oct2019/mixcr/clones/CLONES_TRBCHP_362-01-PBMC-DNA.txt\n",
      "147: /Users/anabbi/Desktop/H4H/INTERCEPT/NextSeq/batch7_25Oct2019/mixcr/clones/CLONES_TRBCHP_362-01-PBMC-DNA.txt\n",
      "148: /Users/anabbi/Desktop/H4H/INTERCEPT/NextSeq/batch7_25Oct2019/mixcr/clones/CLONES_TRBCHP_362-01-PBMC-DNA.txt\n",
      "149: /Users/anabbi/Desktop/H4H/INTERCEPT/NextSeq/batch7_25Oct2019/mixcr/clones/CLONES_TRBCHP_362-01-PBMC-DNA.txt\n",
      "     count\n",
      "  1:    12\n",
      "  2:    17\n",
      "  3:     2\n",
      "  4:     3\n",
      "  5:     9\n",
      " ---      \n",
      "145:     8\n",
      "146:    21\n",
      "147:    11\n",
      "148:     6\n",
      "149:     9\n",
      "              CDR3b     TRBV    TRBJ             subject\n",
      "  1: CAASGGPDEYEQYF TRBV10-3 TRBJ2-7 CHP_368-01-PBMC-DNA\n",
      "  2:   CAIGLVTGELFF TRBV10-3 TRBJ2-2 CHP_368-01-PBMC-DNA\n",
      "  3:  CAIGTGGHNEQFF  TRBV6-5 TRBJ2-1 CHP_368-01-PBMC-DNA\n",
      "  4: CAILSGGQGRGYTF TRBV10-3 TRBJ1-2 CHP_368-01-PBMC-DNA\n",
      "  5:   CAIRDTSYEQYF TRBV10-3 TRBJ2-7 CHP_368-01-PBMC-DNA\n",
      " ---                                                    \n",
      "248:    CSVETREKLFF TRBV29-1 TRBJ1-4 CHP_368-01-PBMC-DNA\n",
      "249: CSVLGLLVRDTQYF TRBV29-1 TRBJ2-3 CHP_368-01-PBMC-DNA\n",
      "250:     CSVPSYEQFF TRBV29-1 TRBJ2-1 CHP_368-01-PBMC-DNA\n",
      "251:   CSVVERDGEAFF TRBV29-1 TRBJ1-1 CHP_368-01-PBMC-DNA\n",
      "252:   CVSSVSGDTQYF    TRBV9 TRBJ2-3 CHP_368-01-PBMC-DNA\n",
      "                                                                                                            file\n",
      "  1: /Users/anabbi/Desktop/H4H/INTERCEPT/NextSeq/batch7_25Oct2019/mixcr/clones/CLONES_TRBCHP_368-01-PBMC-DNA.txt\n",
      "  2: /Users/anabbi/Desktop/H4H/INTERCEPT/NextSeq/batch7_25Oct2019/mixcr/clones/CLONES_TRBCHP_368-01-PBMC-DNA.txt\n",
      "  3: /Users/anabbi/Desktop/H4H/INTERCEPT/NextSeq/batch7_25Oct2019/mixcr/clones/CLONES_TRBCHP_368-01-PBMC-DNA.txt\n",
      "  4: /Users/anabbi/Desktop/H4H/INTERCEPT/NextSeq/batch7_25Oct2019/mixcr/clones/CLONES_TRBCHP_368-01-PBMC-DNA.txt\n",
      "  5: /Users/anabbi/Desktop/H4H/INTERCEPT/NextSeq/batch7_25Oct2019/mixcr/clones/CLONES_TRBCHP_368-01-PBMC-DNA.txt\n",
      " ---                                                                                                            \n",
      "248: /Users/anabbi/Desktop/H4H/INTERCEPT/NextSeq/batch7_25Oct2019/mixcr/clones/CLONES_TRBCHP_368-01-PBMC-DNA.txt\n",
      "249: /Users/anabbi/Desktop/H4H/INTERCEPT/NextSeq/batch7_25Oct2019/mixcr/clones/CLONES_TRBCHP_368-01-PBMC-DNA.txt\n",
      "250: /Users/anabbi/Desktop/H4H/INTERCEPT/NextSeq/batch7_25Oct2019/mixcr/clones/CLONES_TRBCHP_368-01-PBMC-DNA.txt\n",
      "251: /Users/anabbi/Desktop/H4H/INTERCEPT/NextSeq/batch7_25Oct2019/mixcr/clones/CLONES_TRBCHP_368-01-PBMC-DNA.txt\n",
      "252: /Users/anabbi/Desktop/H4H/INTERCEPT/NextSeq/batch7_25Oct2019/mixcr/clones/CLONES_TRBCHP_368-01-PBMC-DNA.txt\n",
      "     count\n",
      "  1:     8\n",
      "  2:    47\n",
      "  3:     7\n",
      "  4:    12\n",
      "  5:    28\n",
      " ---      \n",
      "248:    11\n",
      "249:    29\n",
      "250:     7\n",
      "251:    18\n",
      "252:     3\n",
      "                 CDR3b     TRBV    TRBJ             subject\n",
      " 1:      CAISEPHLYEQYF TRBV10-3 TRBJ2-7 CHP_370-01-PBMC-DNA\n",
      " 2:     CASREQGAAVEQYF  TRBV6-1 TRBJ2-7 CHP_370-01-PBMC-DNA\n",
      " 3:      CASRGLSGNIQYF TRBV12-2 TRBJ2-4 CHP_370-01-PBMC-DNA\n",
      " 4:  CASRRLAGEHSYNEQFF  TRBV7-9 TRBJ2-1 CHP_370-01-PBMC-DNA\n",
      " 5:    CASSFGTASQETQYF    TRBV2 TRBJ2-5 CHP_370-01-PBMC-DNA\n",
      " 6:   CASSLAQGGIGETQYF   TRBV28 TRBJ2-5 CHP_370-01-PBMC-DNA\n",
      " 7:     CASSLATAAYGYTF  TRBV5-1 TRBJ1-2 CHP_370-01-PBMC-DNA\n",
      " 8: CASSLLGQWSSGANVLTF  TRBV5-1 TRBJ2-6 CHP_370-01-PBMC-DNA\n",
      " 9: CASSLLGQWSSGANVLTL  TRBV5-1 TRBJ2-6 CHP_370-01-PBMC-DNA\n",
      "10:     CASSLTGGPGGYTF  TRBV7-3 TRBJ1-2 CHP_370-01-PBMC-DNA\n",
      "11:       CASSLYPYEQYF   TRBV28 TRBJ2-7 CHP_370-01-PBMC-DNA\n",
      "12:     CASSPGTGNQPQHF   TRBV18 TRBJ1-5 CHP_370-01-PBMC-DNA\n",
      "13:  CASSRDRGLTPSYEQYF   TRBV19 TRBJ2-7 CHP_370-01-PBMC-DNA\n",
      "14:  CASSVRAGILPGNTIYF    TRBV9 TRBJ1-3 CHP_370-01-PBMC-DNA\n",
      "15:      CASTSSQARELFF  TRBV5-5 TRBJ2-2 CHP_370-01-PBMC-DNA\n",
      "16:     CSAGGQGLNQPQHF TRBV20-1 TRBJ1-5 CHP_370-01-PBMC-DNA\n",
      "17:      CSALQGGFEKLFF TRBV29-1 TRBJ1-4 CHP_370-01-PBMC-DNA\n",
      "                                                                                                           file\n",
      " 1: /Users/anabbi/Desktop/H4H/INTERCEPT/NextSeq/batch7_25Oct2019/mixcr/clones/CLONES_TRBCHP_370-01-PBMC-DNA.txt\n",
      " 2: /Users/anabbi/Desktop/H4H/INTERCEPT/NextSeq/batch7_25Oct2019/mixcr/clones/CLONES_TRBCHP_370-01-PBMC-DNA.txt\n",
      " 3: /Users/anabbi/Desktop/H4H/INTERCEPT/NextSeq/batch7_25Oct2019/mixcr/clones/CLONES_TRBCHP_370-01-PBMC-DNA.txt\n",
      " 4: /Users/anabbi/Desktop/H4H/INTERCEPT/NextSeq/batch7_25Oct2019/mixcr/clones/CLONES_TRBCHP_370-01-PBMC-DNA.txt\n",
      " 5: /Users/anabbi/Desktop/H4H/INTERCEPT/NextSeq/batch7_25Oct2019/mixcr/clones/CLONES_TRBCHP_370-01-PBMC-DNA.txt\n",
      " 6: /Users/anabbi/Desktop/H4H/INTERCEPT/NextSeq/batch7_25Oct2019/mixcr/clones/CLONES_TRBCHP_370-01-PBMC-DNA.txt\n",
      " 7: /Users/anabbi/Desktop/H4H/INTERCEPT/NextSeq/batch7_25Oct2019/mixcr/clones/CLONES_TRBCHP_370-01-PBMC-DNA.txt\n",
      " 8: /Users/anabbi/Desktop/H4H/INTERCEPT/NextSeq/batch7_25Oct2019/mixcr/clones/CLONES_TRBCHP_370-01-PBMC-DNA.txt\n",
      " 9: /Users/anabbi/Desktop/H4H/INTERCEPT/NextSeq/batch7_25Oct2019/mixcr/clones/CLONES_TRBCHP_370-01-PBMC-DNA.txt\n",
      "10: /Users/anabbi/Desktop/H4H/INTERCEPT/NextSeq/batch7_25Oct2019/mixcr/clones/CLONES_TRBCHP_370-01-PBMC-DNA.txt\n",
      "11: /Users/anabbi/Desktop/H4H/INTERCEPT/NextSeq/batch7_25Oct2019/mixcr/clones/CLONES_TRBCHP_370-01-PBMC-DNA.txt\n",
      "12: /Users/anabbi/Desktop/H4H/INTERCEPT/NextSeq/batch7_25Oct2019/mixcr/clones/CLONES_TRBCHP_370-01-PBMC-DNA.txt\n",
      "13: /Users/anabbi/Desktop/H4H/INTERCEPT/NextSeq/batch7_25Oct2019/mixcr/clones/CLONES_TRBCHP_370-01-PBMC-DNA.txt\n",
      "14: /Users/anabbi/Desktop/H4H/INTERCEPT/NextSeq/batch7_25Oct2019/mixcr/clones/CLONES_TRBCHP_370-01-PBMC-DNA.txt\n",
      "15: /Users/anabbi/Desktop/H4H/INTERCEPT/NextSeq/batch7_25Oct2019/mixcr/clones/CLONES_TRBCHP_370-01-PBMC-DNA.txt\n",
      "16: /Users/anabbi/Desktop/H4H/INTERCEPT/NextSeq/batch7_25Oct2019/mixcr/clones/CLONES_TRBCHP_370-01-PBMC-DNA.txt\n",
      "17: /Users/anabbi/Desktop/H4H/INTERCEPT/NextSeq/batch7_25Oct2019/mixcr/clones/CLONES_TRBCHP_370-01-PBMC-DNA.txt\n",
      "    count\n",
      " 1:    10\n",
      " 2:     3\n",
      " 3:    46\n",
      " 4:    13\n",
      " 5:     3\n",
      " 6:     1\n",
      " 7:    15\n",
      " 8:    15\n",
      " 9:     3\n",
      "10:     1\n",
      "11:    16\n",
      "12:    11\n",
      "13:     3\n",
      "14:     4\n",
      "15:    10\n",
      "16:     1\n",
      "17:    13\n",
      "                   CDR3b     TRBV    TRBJ             subject\n",
      "  1:       CAIGTRNTGELFF TRBV10-3 TRBJ2-2 CHP_387-01-PBMC-DNA\n",
      "  2:      CAISERGQSYEQYF TRBV10-3 TRBJ2-7 CHP_387-01-PBMC-DNA\n",
      "  3:     CAISESDRMNTEAFF TRBV10-3 TRBJ1-1 CHP_387-01-PBMC-DNA\n",
      "  4:         CAITGTETQYF  TRBV6-5 TRBJ2-5 CHP_387-01-PBMC-DNA\n",
      "  5:     CANSVLAGGGDEQFF  TRBV6-4 TRBJ2-1 CHP_387-01-PBMC-DNA\n",
      " ---                                                         \n",
      "271:        CSVADGQETQYF TRBV29-1 TRBJ2-5 CHP_387-01-PBMC-DNA\n",
      "272:         CSVASSYEQYF TRBV29-1 TRBJ2-7 CHP_387-01-PBMC-DNA\n",
      "273:       CSVGAGGPNEQFF TRBV29-1 TRBJ2-1 CHP_387-01-PBMC-DNA\n",
      "274:        CSVGWAGTEAFF TRBV29-1 TRBJ1-1 CHP_387-01-PBMC-DNA\n",
      "275: RASSLGLRDRPSGANVLTF  TRBV7-3 TRBJ2-6 CHP_387-01-PBMC-DNA\n",
      "                                                                                                            file\n",
      "  1: /Users/anabbi/Desktop/H4H/INTERCEPT/NextSeq/batch8_14Jan2020/mixcr/clones/CLONES_TRBCHP_387-01-PBMC-DNA.txt\n",
      "  2: /Users/anabbi/Desktop/H4H/INTERCEPT/NextSeq/batch8_14Jan2020/mixcr/clones/CLONES_TRBCHP_387-01-PBMC-DNA.txt\n",
      "  3: /Users/anabbi/Desktop/H4H/INTERCEPT/NextSeq/batch8_14Jan2020/mixcr/clones/CLONES_TRBCHP_387-01-PBMC-DNA.txt\n",
      "  4: /Users/anabbi/Desktop/H4H/INTERCEPT/NextSeq/batch8_14Jan2020/mixcr/clones/CLONES_TRBCHP_387-01-PBMC-DNA.txt\n",
      "  5: /Users/anabbi/Desktop/H4H/INTERCEPT/NextSeq/batch8_14Jan2020/mixcr/clones/CLONES_TRBCHP_387-01-PBMC-DNA.txt\n",
      " ---                                                                                                            \n",
      "271: /Users/anabbi/Desktop/H4H/INTERCEPT/NextSeq/batch8_14Jan2020/mixcr/clones/CLONES_TRBCHP_387-01-PBMC-DNA.txt\n",
      "272: /Users/anabbi/Desktop/H4H/INTERCEPT/NextSeq/batch8_14Jan2020/mixcr/clones/CLONES_TRBCHP_387-01-PBMC-DNA.txt\n",
      "273: /Users/anabbi/Desktop/H4H/INTERCEPT/NextSeq/batch8_14Jan2020/mixcr/clones/CLONES_TRBCHP_387-01-PBMC-DNA.txt\n",
      "274: /Users/anabbi/Desktop/H4H/INTERCEPT/NextSeq/batch8_14Jan2020/mixcr/clones/CLONES_TRBCHP_387-01-PBMC-DNA.txt\n",
      "275: /Users/anabbi/Desktop/H4H/INTERCEPT/NextSeq/batch8_14Jan2020/mixcr/clones/CLONES_TRBCHP_387-01-PBMC-DNA.txt\n",
      "     count\n",
      "  1:    17\n",
      "  2:    20\n",
      "  3:     4\n",
      "  4:    12\n",
      "  5:     1\n",
      " ---      \n",
      "271:    11\n",
      "272:    11\n",
      "273:     8\n",
      "274:    12\n",
      "275:    12\n",
      "            CDR3b    TRBV    TRBJ             subject\n",
      "1: CASSPGTSANEQFF TRBV7-6 TRBJ2-1 CHP_394-01-PBMC-DNA\n",
      "                                                                                                          file\n",
      "1: /Users/anabbi/Desktop/H4H/INTERCEPT/NextSeq/batch8_14Jan2020/mixcr/clones/CLONES_TRBCHP_394-01-PBMC-DNA.txt\n",
      "   count\n",
      "1:    58\n",
      "                 CDR3b     TRBV    TRBJ             subject\n",
      "  1:  CAARGDKGKTGNTIYF  TRBV6-6 TRBJ1-3 CHP_396-01-PBMC-DNA\n",
      "  2:     CAISEDRGEKLFF TRBV10-3 TRBJ1-4 CHP_396-01-PBMC-DNA\n",
      "  3: CAISEVVAGDSYNEQFF TRBV10-3 TRBJ2-1 CHP_396-01-PBMC-DNA\n",
      "  4:     CAISPGQGVEQYF TRBV10-3 TRBJ2-7 CHP_396-01-PBMC-DNA\n",
      "  5:    CASAPGGRDTEAFF    TRBV9 TRBJ1-1 CHP_396-01-PBMC-DNA\n",
      " ---                                                       \n",
      "300:     CSAVQDMNTEAFF TRBV20-1 TRBJ1-1 CHP_396-01-PBMC-DNA\n",
      "301:  CSLSGTSGRRTDTQYF TRBV29-1 TRBJ2-3 CHP_396-01-PBMC-DNA\n",
      "302:       CSVAFPHEQFF TRBV20-1 TRBJ2-1 CHP_396-01-PBMC-DNA\n",
      "303:        CSVARDEAFF TRBV29-1 TRBJ1-1 CHP_396-01-PBMC-DNA\n",
      "304:  RAARGDKGKTGNTIYF  TRBV6-6 TRBJ1-3 CHP_396-01-PBMC-DNA\n",
      "                                                                                                            file\n",
      "  1: /Users/anabbi/Desktop/H4H/INTERCEPT/NextSeq/batch8_14Jan2020/mixcr/clones/CLONES_TRBCHP_396-01-PBMC-DNA.txt\n",
      "  2: /Users/anabbi/Desktop/H4H/INTERCEPT/NextSeq/batch8_14Jan2020/mixcr/clones/CLONES_TRBCHP_396-01-PBMC-DNA.txt\n",
      "  3: /Users/anabbi/Desktop/H4H/INTERCEPT/NextSeq/batch8_14Jan2020/mixcr/clones/CLONES_TRBCHP_396-01-PBMC-DNA.txt\n",
      "  4: /Users/anabbi/Desktop/H4H/INTERCEPT/NextSeq/batch8_14Jan2020/mixcr/clones/CLONES_TRBCHP_396-01-PBMC-DNA.txt\n",
      "  5: /Users/anabbi/Desktop/H4H/INTERCEPT/NextSeq/batch8_14Jan2020/mixcr/clones/CLONES_TRBCHP_396-01-PBMC-DNA.txt\n",
      " ---                                                                                                            \n",
      "300: /Users/anabbi/Desktop/H4H/INTERCEPT/NextSeq/batch8_14Jan2020/mixcr/clones/CLONES_TRBCHP_396-01-PBMC-DNA.txt\n",
      "301: /Users/anabbi/Desktop/H4H/INTERCEPT/NextSeq/batch8_14Jan2020/mixcr/clones/CLONES_TRBCHP_396-01-PBMC-DNA.txt\n",
      "302: /Users/anabbi/Desktop/H4H/INTERCEPT/NextSeq/batch8_14Jan2020/mixcr/clones/CLONES_TRBCHP_396-01-PBMC-DNA.txt\n",
      "303: /Users/anabbi/Desktop/H4H/INTERCEPT/NextSeq/batch8_14Jan2020/mixcr/clones/CLONES_TRBCHP_396-01-PBMC-DNA.txt\n",
      "304: /Users/anabbi/Desktop/H4H/INTERCEPT/NextSeq/batch8_14Jan2020/mixcr/clones/CLONES_TRBCHP_396-01-PBMC-DNA.txt\n",
      "     count\n",
      "  1:    14\n",
      "  2:     5\n",
      "  3:    17\n",
      "  4:     1\n",
      "  5:    12\n",
      " ---      \n",
      "300:     8\n",
      "301:     3\n",
      "302:     4\n",
      "303:     5\n",
      "304:     1\n",
      "                CDR3b     TRBV    TRBJ             subject\n",
      "  1:      CAISEASEQYF TRBV10-3 TRBJ2-7 CHP_397-01-PBMC-DNA\n",
      "  2:  CAISESTANTGELFF TRBV10-3 TRBJ2-2 CHP_397-01-PBMC-DNA\n",
      "  3: CAISESTGGAKNIQYF TRBV10-3 TRBJ2-4 CHP_397-01-PBMC-DNA\n",
      "  4:      CAISEVGEAFF TRBV10-3 TRBJ1-1 CHP_397-01-PBMC-DNA\n",
      "  5:  CAISRNTGLNTEAFF TRBV10-3 TRBJ1-1 CHP_397-01-PBMC-DNA\n",
      " ---                                                      \n",
      "167:  CSASKIGQRTDTQYF TRBV20-1 TRBJ2-3 CHP_397-01-PBMC-DNA\n",
      "168:  CSVEDPWDSNYGYTF TRBV29-1 TRBJ1-2 CHP_397-01-PBMC-DNA\n",
      "169:    CSVEVGGTDTQYF TRBV29-1 TRBJ2-3 CHP_397-01-PBMC-DNA\n",
      "170:    CSVEVGRTDTQYF TRBV29-1 TRBJ2-3 CHP_397-01-PBMC-DNA\n",
      "171:    CSVGTGRHQPQHF TRBV29-1 TRBJ1-5 CHP_397-01-PBMC-DNA\n",
      "                                                                                                            file\n",
      "  1: /Users/anabbi/Desktop/H4H/INTERCEPT/NextSeq/batch8_14Jan2020/mixcr/clones/CLONES_TRBCHP_397-01-PBMC-DNA.txt\n",
      "  2: /Users/anabbi/Desktop/H4H/INTERCEPT/NextSeq/batch8_14Jan2020/mixcr/clones/CLONES_TRBCHP_397-01-PBMC-DNA.txt\n",
      "  3: /Users/anabbi/Desktop/H4H/INTERCEPT/NextSeq/batch8_14Jan2020/mixcr/clones/CLONES_TRBCHP_397-01-PBMC-DNA.txt\n",
      "  4: /Users/anabbi/Desktop/H4H/INTERCEPT/NextSeq/batch8_14Jan2020/mixcr/clones/CLONES_TRBCHP_397-01-PBMC-DNA.txt\n",
      "  5: /Users/anabbi/Desktop/H4H/INTERCEPT/NextSeq/batch8_14Jan2020/mixcr/clones/CLONES_TRBCHP_397-01-PBMC-DNA.txt\n",
      " ---                                                                                                            \n",
      "167: /Users/anabbi/Desktop/H4H/INTERCEPT/NextSeq/batch8_14Jan2020/mixcr/clones/CLONES_TRBCHP_397-01-PBMC-DNA.txt\n",
      "168: /Users/anabbi/Desktop/H4H/INTERCEPT/NextSeq/batch8_14Jan2020/mixcr/clones/CLONES_TRBCHP_397-01-PBMC-DNA.txt\n",
      "169: /Users/anabbi/Desktop/H4H/INTERCEPT/NextSeq/batch8_14Jan2020/mixcr/clones/CLONES_TRBCHP_397-01-PBMC-DNA.txt\n",
      "170: /Users/anabbi/Desktop/H4H/INTERCEPT/NextSeq/batch8_14Jan2020/mixcr/clones/CLONES_TRBCHP_397-01-PBMC-DNA.txt\n",
      "171: /Users/anabbi/Desktop/H4H/INTERCEPT/NextSeq/batch8_14Jan2020/mixcr/clones/CLONES_TRBCHP_397-01-PBMC-DNA.txt\n",
      "     count\n",
      "  1:    15\n",
      "  2:    18\n",
      "  3:     5\n",
      "  4:     3\n",
      "  5:    12\n",
      " ---      \n",
      "167:     7\n",
      "168:     6\n",
      "169:     7\n",
      "170:     1\n",
      "171:     1\n",
      "                CDR3b     TRBV    TRBJ             subject\n",
      " 1:  CASGGEGSTTRDEQFF   TRBV28 TRBJ2-1 CHP_399-01-PBMC-DNA\n",
      " 2:  CASRLSGGGAPDTQYF  TRBV4-2 TRBJ2-3 CHP_399-01-PBMC-DNA\n",
      " 3:  CASSAGTGSGANVLTF TRBV12-3 TRBJ2-6 CHP_399-01-PBMC-DNA\n",
      " 4:  CASSFGAFTSTDTQYF   TRBV28 TRBJ2-3 CHP_399-01-PBMC-DNA\n",
      " 5:     CASSFRENTEAFF  TRBV6-3 TRBJ1-1 CHP_399-01-PBMC-DNA\n",
      " 6:     CASSGRARDGYTF   TRBV18 TRBJ1-2 CHP_399-01-PBMC-DNA\n",
      " 7:   CASSHEGGWYNEQFF  TRBV6-2 TRBJ2-1 CHP_399-01-PBMC-DNA\n",
      " 8:     CASSIGTGDEQFF   TRBV19 TRBJ2-1 CHP_399-01-PBMC-DNA\n",
      " 9:      CASSLGADTQYF  TRBV7-2 TRBJ2-3 CHP_399-01-PBMC-DNA\n",
      "10:    CASSLGTSGNTQYF  TRBV7-2 TRBJ2-3 CHP_399-01-PBMC-DNA\n",
      "11:    CASSLRDRSHEQYF TRBV11-1 TRBJ2-7 CHP_399-01-PBMC-DNA\n",
      "12:     CASSLRVNTEAFF  TRBV4-1 TRBJ1-1 CHP_399-01-PBMC-DNA\n",
      "13:    CASSLSKGSYEQYF  TRBV5-1 TRBJ2-7 CHP_399-01-PBMC-DNA\n",
      "14: CASSLSPRGPTPNEQFF  TRBV7-8 TRBJ2-1 CHP_399-01-PBMC-DNA\n",
      "15:    CASSLTDGNEKLFF   TRBV27 TRBJ1-4 CHP_399-01-PBMC-DNA\n",
      "16:  CASSPAGGSSYNEQFF  TRBV5-1 TRBJ2-1 CHP_399-01-PBMC-DNA\n",
      "17:    CASSPDRVNTEAFF  TRBV7-6 TRBJ1-1 CHP_399-01-PBMC-DNA\n",
      "18:   CASSPPGTGRDTQYF  TRBV6-2 TRBJ2-3 CHP_399-01-PBMC-DNA\n",
      "19:    CASSPQGANEKLFF  TRBV3-1 TRBJ1-4 CHP_399-01-PBMC-DNA\n",
      "20: CASSPTGNPHSGNTIYF  TRBV7-9 TRBJ1-3 CHP_399-01-PBMC-DNA\n",
      "21:   CASSQDGTGGYGYTF  TRBV4-3 TRBJ1-2 CHP_399-01-PBMC-DNA\n",
      "22:   CASSSTGGTSQPQHF  TRBV7-8 TRBJ1-5 CHP_399-01-PBMC-DNA\n",
      "23:    CASSVEPGANEQFF    TRBV9 TRBJ2-1 CHP_399-01-PBMC-DNA\n",
      "24:  CASSYEEGLESYGYTF  TRBV6-5 TRBJ1-2 CHP_399-01-PBMC-DNA\n",
      "25:       CASSYFYEQYF  TRBV6-2 TRBJ2-7 CHP_399-01-PBMC-DNA\n",
      "26:     CSAMGGGNTEAFF TRBV20-1 TRBJ1-1 CHP_399-01-PBMC-DNA\n",
      "27:    CSARDGASGNTIYF TRBV20-1 TRBJ1-3 CHP_399-01-PBMC-DNA\n",
      "28:    CSARDRGLNTEAFF TRBV20-1 TRBJ1-1 CHP_399-01-PBMC-DNA\n",
      "29:     CSGGGANTGELFF TRBV29-1 TRBJ2-2 CHP_399-01-PBMC-DNA\n",
      "30:     CSVEDSLNTEAFF TRBV29-1 TRBJ1-1 CHP_399-01-PBMC-DNA\n",
      "                CDR3b     TRBV    TRBJ             subject\n",
      "                                                                                                           file\n",
      " 1: /Users/anabbi/Desktop/H4H/INTERCEPT/NextSeq/batch8_14Jan2020/mixcr/clones/CLONES_TRBCHP_399-01-PBMC-DNA.txt\n",
      " 2: /Users/anabbi/Desktop/H4H/INTERCEPT/NextSeq/batch8_14Jan2020/mixcr/clones/CLONES_TRBCHP_399-01-PBMC-DNA.txt\n",
      " 3: /Users/anabbi/Desktop/H4H/INTERCEPT/NextSeq/batch8_14Jan2020/mixcr/clones/CLONES_TRBCHP_399-01-PBMC-DNA.txt\n",
      " 4: /Users/anabbi/Desktop/H4H/INTERCEPT/NextSeq/batch8_14Jan2020/mixcr/clones/CLONES_TRBCHP_399-01-PBMC-DNA.txt\n",
      " 5: /Users/anabbi/Desktop/H4H/INTERCEPT/NextSeq/batch8_14Jan2020/mixcr/clones/CLONES_TRBCHP_399-01-PBMC-DNA.txt\n",
      " 6: /Users/anabbi/Desktop/H4H/INTERCEPT/NextSeq/batch8_14Jan2020/mixcr/clones/CLONES_TRBCHP_399-01-PBMC-DNA.txt\n",
      " 7: /Users/anabbi/Desktop/H4H/INTERCEPT/NextSeq/batch8_14Jan2020/mixcr/clones/CLONES_TRBCHP_399-01-PBMC-DNA.txt\n",
      " 8: /Users/anabbi/Desktop/H4H/INTERCEPT/NextSeq/batch8_14Jan2020/mixcr/clones/CLONES_TRBCHP_399-01-PBMC-DNA.txt\n",
      " 9: /Users/anabbi/Desktop/H4H/INTERCEPT/NextSeq/batch8_14Jan2020/mixcr/clones/CLONES_TRBCHP_399-01-PBMC-DNA.txt\n",
      "10: /Users/anabbi/Desktop/H4H/INTERCEPT/NextSeq/batch8_14Jan2020/mixcr/clones/CLONES_TRBCHP_399-01-PBMC-DNA.txt\n",
      "11: /Users/anabbi/Desktop/H4H/INTERCEPT/NextSeq/batch8_14Jan2020/mixcr/clones/CLONES_TRBCHP_399-01-PBMC-DNA.txt\n",
      "12: /Users/anabbi/Desktop/H4H/INTERCEPT/NextSeq/batch8_14Jan2020/mixcr/clones/CLONES_TRBCHP_399-01-PBMC-DNA.txt\n",
      "13: /Users/anabbi/Desktop/H4H/INTERCEPT/NextSeq/batch8_14Jan2020/mixcr/clones/CLONES_TRBCHP_399-01-PBMC-DNA.txt\n",
      "14: /Users/anabbi/Desktop/H4H/INTERCEPT/NextSeq/batch8_14Jan2020/mixcr/clones/CLONES_TRBCHP_399-01-PBMC-DNA.txt\n",
      "15: /Users/anabbi/Desktop/H4H/INTERCEPT/NextSeq/batch8_14Jan2020/mixcr/clones/CLONES_TRBCHP_399-01-PBMC-DNA.txt\n",
      "16: /Users/anabbi/Desktop/H4H/INTERCEPT/NextSeq/batch8_14Jan2020/mixcr/clones/CLONES_TRBCHP_399-01-PBMC-DNA.txt\n",
      "17: /Users/anabbi/Desktop/H4H/INTERCEPT/NextSeq/batch8_14Jan2020/mixcr/clones/CLONES_TRBCHP_399-01-PBMC-DNA.txt\n",
      "18: /Users/anabbi/Desktop/H4H/INTERCEPT/NextSeq/batch8_14Jan2020/mixcr/clones/CLONES_TRBCHP_399-01-PBMC-DNA.txt\n",
      "19: /Users/anabbi/Desktop/H4H/INTERCEPT/NextSeq/batch8_14Jan2020/mixcr/clones/CLONES_TRBCHP_399-01-PBMC-DNA.txt\n",
      "20: /Users/anabbi/Desktop/H4H/INTERCEPT/NextSeq/batch8_14Jan2020/mixcr/clones/CLONES_TRBCHP_399-01-PBMC-DNA.txt\n",
      "21: /Users/anabbi/Desktop/H4H/INTERCEPT/NextSeq/batch8_14Jan2020/mixcr/clones/CLONES_TRBCHP_399-01-PBMC-DNA.txt\n",
      "22: /Users/anabbi/Desktop/H4H/INTERCEPT/NextSeq/batch8_14Jan2020/mixcr/clones/CLONES_TRBCHP_399-01-PBMC-DNA.txt\n",
      "23: /Users/anabbi/Desktop/H4H/INTERCEPT/NextSeq/batch8_14Jan2020/mixcr/clones/CLONES_TRBCHP_399-01-PBMC-DNA.txt\n",
      "24: /Users/anabbi/Desktop/H4H/INTERCEPT/NextSeq/batch8_14Jan2020/mixcr/clones/CLONES_TRBCHP_399-01-PBMC-DNA.txt\n",
      "25: /Users/anabbi/Desktop/H4H/INTERCEPT/NextSeq/batch8_14Jan2020/mixcr/clones/CLONES_TRBCHP_399-01-PBMC-DNA.txt\n",
      "26: /Users/anabbi/Desktop/H4H/INTERCEPT/NextSeq/batch8_14Jan2020/mixcr/clones/CLONES_TRBCHP_399-01-PBMC-DNA.txt\n",
      "27: /Users/anabbi/Desktop/H4H/INTERCEPT/NextSeq/batch8_14Jan2020/mixcr/clones/CLONES_TRBCHP_399-01-PBMC-DNA.txt\n",
      "28: /Users/anabbi/Desktop/H4H/INTERCEPT/NextSeq/batch8_14Jan2020/mixcr/clones/CLONES_TRBCHP_399-01-PBMC-DNA.txt\n",
      "29: /Users/anabbi/Desktop/H4H/INTERCEPT/NextSeq/batch8_14Jan2020/mixcr/clones/CLONES_TRBCHP_399-01-PBMC-DNA.txt\n",
      "30: /Users/anabbi/Desktop/H4H/INTERCEPT/NextSeq/batch8_14Jan2020/mixcr/clones/CLONES_TRBCHP_399-01-PBMC-DNA.txt\n",
      "                                                                                                           file\n",
      "    count\n",
      " 1:    67\n",
      " 2:    18\n",
      " 3:    25\n",
      " 4:    15\n",
      " 5:   123\n",
      " 6:   134\n",
      " 7:    57\n",
      " 8:   163\n",
      " 9:    90\n",
      "10:    42\n",
      "11:    38\n",
      "12:   154\n",
      "13:   127\n",
      "14:   100\n",
      "15:   188\n",
      "16:   205\n",
      "17:   105\n",
      "18:     1\n",
      "19:   260\n",
      "20:    74\n",
      "21:    97\n",
      "22:   125\n",
      "23:    16\n",
      "24:    33\n",
      "25:    21\n",
      "26:   197\n",
      "27:   155\n",
      "28:   348\n",
      "29:   121\n",
      "30:   177\n",
      "    count\n",
      "               CDR3b     TRBV    TRBJ             subject\n",
      "  1:  CAGGQEGPNSPLHF  TRBV7-9 TRBJ1-6 CHP_377-01_PBMC-DNA\n",
      "  2: CAISPGQGMNTEAFF TRBV10-3 TRBJ1-1 CHP_377-01_PBMC-DNA\n",
      "  3: CAISPGQGVNTEAFF TRBV10-3 TRBJ1-1 CHP_377-01_PBMC-DNA\n",
      "  4:   CASGDRPNYGYTF   TRBV19 TRBJ1-2 CHP_377-01_PBMC-DNA\n",
      "  5:   CASGDSPNYGYTF   TRBV19 TRBJ1-2 CHP_377-01_PBMC-DNA\n",
      " ---                                                     \n",
      "186: CSATELAGGPYEQYF TRBV20-1 TRBJ2-7 CHP_377-01_PBMC-DNA\n",
      "187:      CSAYTDTQYF TRBV20-1 TRBJ2-3 CHP_377-01_PBMC-DNA\n",
      "188:    CSVLVGANVLTF TRBV29-1 TRBJ2-6 CHP_377-01_PBMC-DNA\n",
      "189:    CSVTGLNYGYTF TRBV29-1 TRBJ1-2 CHP_377-01_PBMC-DNA\n",
      "190: CSVVVTREANYGYTF TRBV29-1 TRBJ1-2 CHP_377-01_PBMC-DNA\n",
      "                                                                                                                         file\n",
      "  1: /Users/anabbi/Desktop/H4H/INTERCEPT/NextSeq/remaining_batch_1_20April2021/mixcr/clones/CLONES_TRBCHP_377-01_PBMC-DNA.txt\n",
      "  2: /Users/anabbi/Desktop/H4H/INTERCEPT/NextSeq/remaining_batch_1_20April2021/mixcr/clones/CLONES_TRBCHP_377-01_PBMC-DNA.txt\n",
      "  3: /Users/anabbi/Desktop/H4H/INTERCEPT/NextSeq/remaining_batch_1_20April2021/mixcr/clones/CLONES_TRBCHP_377-01_PBMC-DNA.txt\n",
      "  4: /Users/anabbi/Desktop/H4H/INTERCEPT/NextSeq/remaining_batch_1_20April2021/mixcr/clones/CLONES_TRBCHP_377-01_PBMC-DNA.txt\n",
      "  5: /Users/anabbi/Desktop/H4H/INTERCEPT/NextSeq/remaining_batch_1_20April2021/mixcr/clones/CLONES_TRBCHP_377-01_PBMC-DNA.txt\n",
      " ---                                                                                                                         \n",
      "186: /Users/anabbi/Desktop/H4H/INTERCEPT/NextSeq/remaining_batch_1_20April2021/mixcr/clones/CLONES_TRBCHP_377-01_PBMC-DNA.txt\n",
      "187: /Users/anabbi/Desktop/H4H/INTERCEPT/NextSeq/remaining_batch_1_20April2021/mixcr/clones/CLONES_TRBCHP_377-01_PBMC-DNA.txt\n",
      "188: /Users/anabbi/Desktop/H4H/INTERCEPT/NextSeq/remaining_batch_1_20April2021/mixcr/clones/CLONES_TRBCHP_377-01_PBMC-DNA.txt\n",
      "189: /Users/anabbi/Desktop/H4H/INTERCEPT/NextSeq/remaining_batch_1_20April2021/mixcr/clones/CLONES_TRBCHP_377-01_PBMC-DNA.txt\n",
      "190: /Users/anabbi/Desktop/H4H/INTERCEPT/NextSeq/remaining_batch_1_20April2021/mixcr/clones/CLONES_TRBCHP_377-01_PBMC-DNA.txt\n",
      "     count\n",
      "  1:   142\n",
      "  2:     2\n",
      "  3:    20\n",
      "  4:    69\n",
      "  5:   193\n",
      " ---      \n",
      "186:  1943\n",
      "187:  2145\n",
      "188:   487\n",
      "189:   399\n",
      "190:   394\n",
      "                 CDR3b     TRBV    TRBJ             subject\n",
      "  1:   CAAGTSGGAYNEQFF TRBV12-4 TRBJ2-1 CHP_401-01_PBMC-DNA\n",
      "  2: CAISESPSGYDYNEQFF TRBV10-3 TRBJ2-1 CHP_401-01_PBMC-DNA\n",
      "  3:    CASANRASNSPLHF TRBV12-5 TRBJ1-6 CHP_401-01_PBMC-DNA\n",
      "  4:   CASEARTADSYEQYF  TRBV6-1 TRBJ2-7 CHP_401-01_PBMC-DNA\n",
      "  5:     CASGQYTGNTIYF TRBV12-5 TRBJ1-3 CHP_401-01_PBMC-DNA\n",
      " ---                                                       \n",
      "108:  CSVEGLREGMDEKLFF TRBV29-1 TRBJ1-4 CHP_401-01_PBMC-DNA\n",
      "109:       CSVEHPNEQFF TRBV29-1 TRBJ2-1 CHP_401-01_PBMC-DNA\n",
      "110:    CSVSTTGQSYGYTF TRBV29-1 TRBJ1-2 CHP_401-01_PBMC-DNA\n",
      "111:  CTEGSGGTTGTDTQYF  TRBV5-3 TRBJ2-3 CHP_401-01_PBMC-DNA\n",
      "112:    RASSTSPGPTEAFF  TRBV7-3 TRBJ1-1 CHP_401-01_PBMC-DNA\n",
      "                                                                                                                         file\n",
      "  1: /Users/anabbi/Desktop/H4H/INTERCEPT/NextSeq/remaining_batch_1_20April2021/mixcr/clones/CLONES_TRBCHP_401-01_PBMC-DNA.txt\n",
      "  2: /Users/anabbi/Desktop/H4H/INTERCEPT/NextSeq/remaining_batch_1_20April2021/mixcr/clones/CLONES_TRBCHP_401-01_PBMC-DNA.txt\n",
      "  3: /Users/anabbi/Desktop/H4H/INTERCEPT/NextSeq/remaining_batch_1_20April2021/mixcr/clones/CLONES_TRBCHP_401-01_PBMC-DNA.txt\n",
      "  4: /Users/anabbi/Desktop/H4H/INTERCEPT/NextSeq/remaining_batch_1_20April2021/mixcr/clones/CLONES_TRBCHP_401-01_PBMC-DNA.txt\n",
      "  5: /Users/anabbi/Desktop/H4H/INTERCEPT/NextSeq/remaining_batch_1_20April2021/mixcr/clones/CLONES_TRBCHP_401-01_PBMC-DNA.txt\n",
      " ---                                                                                                                         \n",
      "108: /Users/anabbi/Desktop/H4H/INTERCEPT/NextSeq/remaining_batch_1_20April2021/mixcr/clones/CLONES_TRBCHP_401-01_PBMC-DNA.txt\n",
      "109: /Users/anabbi/Desktop/H4H/INTERCEPT/NextSeq/remaining_batch_1_20April2021/mixcr/clones/CLONES_TRBCHP_401-01_PBMC-DNA.txt\n",
      "110: /Users/anabbi/Desktop/H4H/INTERCEPT/NextSeq/remaining_batch_1_20April2021/mixcr/clones/CLONES_TRBCHP_401-01_PBMC-DNA.txt\n",
      "111: /Users/anabbi/Desktop/H4H/INTERCEPT/NextSeq/remaining_batch_1_20April2021/mixcr/clones/CLONES_TRBCHP_401-01_PBMC-DNA.txt\n",
      "112: /Users/anabbi/Desktop/H4H/INTERCEPT/NextSeq/remaining_batch_1_20April2021/mixcr/clones/CLONES_TRBCHP_401-01_PBMC-DNA.txt\n",
      "     count\n",
      "  1:   649\n",
      "  2:   284\n",
      "  3:   117\n",
      "  4:   173\n",
      "  5:  1029\n",
      " ---      \n",
      "108:   268\n",
      "109:  1397\n",
      "110:   882\n",
      "111:   130\n",
      "112:    66\n",
      "                CDR3b     TRBV    TRBJ             subject\n",
      "  1: CAFSSGWPADTGELFF   TRBV30 TRBJ2-2 CHP_363-01_PBMC-DNA\n",
      "  2:         CAGFEAFF TRBV10-1 TRBJ1-1 CHP_363-01_PBMC-DNA\n",
      "  3:    CAIGAAPGAEAFF TRBV10-3 TRBJ1-1 CHP_363-01_PBMC-DNA\n",
      "  4:     CAIGDGNQPQHF TRBV10-3 TRBJ1-5 CHP_363-01_PBMC-DNA\n",
      "  5: CAIRAGTGRNTGELFF TRBV10-3 TRBJ2-2 CHP_363-01_PBMC-DNA\n",
      " ---                                                      \n",
      "872: CSVRGSGGSPQETQYF TRBV20-1 TRBJ2-5 CHP_363-01_PBMC-DNA\n",
      "873:    CSVTRQGNYEQYF TRBV29-1 TRBJ2-7 CHP_363-01_PBMC-DNA\n",
      "874:  CTSKYDRDRDYGYTF    TRBV2 TRBJ1-2 CHP_363-01_PBMC-DNA\n",
      "875:   CVGGAGGSGNTIYF  TRBV7-9 TRBJ1-3 CHP_363-01_PBMC-DNA\n",
      "876: RASRPSILVPTDTQYF  TRBV6-2 TRBJ2-3 CHP_363-01_PBMC-DNA\n",
      "                                                                                                                         file\n",
      "  1: /Users/anabbi/Desktop/H4H/INTERCEPT/NextSeq/remaining_batch_2_22April2021/mixcr/clones/CLONES_TRBCHP_363-01_PBMC-DNA.txt\n",
      "  2: /Users/anabbi/Desktop/H4H/INTERCEPT/NextSeq/remaining_batch_2_22April2021/mixcr/clones/CLONES_TRBCHP_363-01_PBMC-DNA.txt\n",
      "  3: /Users/anabbi/Desktop/H4H/INTERCEPT/NextSeq/remaining_batch_2_22April2021/mixcr/clones/CLONES_TRBCHP_363-01_PBMC-DNA.txt\n",
      "  4: /Users/anabbi/Desktop/H4H/INTERCEPT/NextSeq/remaining_batch_2_22April2021/mixcr/clones/CLONES_TRBCHP_363-01_PBMC-DNA.txt\n",
      "  5: /Users/anabbi/Desktop/H4H/INTERCEPT/NextSeq/remaining_batch_2_22April2021/mixcr/clones/CLONES_TRBCHP_363-01_PBMC-DNA.txt\n",
      " ---                                                                                                                         \n",
      "872: /Users/anabbi/Desktop/H4H/INTERCEPT/NextSeq/remaining_batch_2_22April2021/mixcr/clones/CLONES_TRBCHP_363-01_PBMC-DNA.txt\n",
      "873: /Users/anabbi/Desktop/H4H/INTERCEPT/NextSeq/remaining_batch_2_22April2021/mixcr/clones/CLONES_TRBCHP_363-01_PBMC-DNA.txt\n",
      "874: /Users/anabbi/Desktop/H4H/INTERCEPT/NextSeq/remaining_batch_2_22April2021/mixcr/clones/CLONES_TRBCHP_363-01_PBMC-DNA.txt\n",
      "875: /Users/anabbi/Desktop/H4H/INTERCEPT/NextSeq/remaining_batch_2_22April2021/mixcr/clones/CLONES_TRBCHP_363-01_PBMC-DNA.txt\n",
      "876: /Users/anabbi/Desktop/H4H/INTERCEPT/NextSeq/remaining_batch_2_22April2021/mixcr/clones/CLONES_TRBCHP_363-01_PBMC-DNA.txt\n",
      "     count\n",
      "  1:    37\n",
      "  2:   291\n",
      "  3:    84\n",
      "  4:   125\n",
      "  5:    37\n",
      " ---      \n",
      "872:    67\n",
      "873:    54\n",
      "874:     1\n",
      "875:    90\n",
      "876:     6\n",
      "                 CDR3b     TRBV    TRBJ             subject\n",
      "  1:       CACTGNYGYTF TRBV12-4 TRBJ1-2 CHP_365-01_PBMC-DNA\n",
      "  2:        CAGGQTGYTF   TRBV30 TRBJ1-2 CHP_365-01_PBMC-DNA\n",
      "  3:    CAGQGDRVGETQYF    TRBV2 TRBJ2-5 CHP_365-01_PBMC-DNA\n",
      "  4:   CAGTAGDRGTDTQYF    TRBV2 TRBJ2-3 CHP_365-01_PBMC-DNA\n",
      "  5:     CAIGSPGEQPQHF TRBV10-3 TRBJ1-5 CHP_365-01_PBMC-DNA\n",
      " ---                                                       \n",
      "424: CSVEDPRPGGDSYEQYF TRBV29-1 TRBJ2-7 CHP_365-01_PBMC-DNA\n",
      "425: CSVEETSGGAPPYEQYF TRBV29-1 TRBJ2-7 CHP_365-01_PBMC-DNA\n",
      "426:    CSVLGVSGTYEQYF TRBV29-1 TRBJ2-7 CHP_365-01_PBMC-DNA\n",
      "427:     CSVPTDVNTEAFF TRBV29-1 TRBJ1-1 CHP_365-01_PBMC-DNA\n",
      "428:    YASSVGPGYPEAFF    TRBV9 TRBJ1-1 CHP_365-01_PBMC-DNA\n",
      "                                                                                                                         file\n",
      "  1: /Users/anabbi/Desktop/H4H/INTERCEPT/NextSeq/remaining_batch_2_22April2021/mixcr/clones/CLONES_TRBCHP_365-01_PBMC-DNA.txt\n",
      "  2: /Users/anabbi/Desktop/H4H/INTERCEPT/NextSeq/remaining_batch_2_22April2021/mixcr/clones/CLONES_TRBCHP_365-01_PBMC-DNA.txt\n",
      "  3: /Users/anabbi/Desktop/H4H/INTERCEPT/NextSeq/remaining_batch_2_22April2021/mixcr/clones/CLONES_TRBCHP_365-01_PBMC-DNA.txt\n",
      "  4: /Users/anabbi/Desktop/H4H/INTERCEPT/NextSeq/remaining_batch_2_22April2021/mixcr/clones/CLONES_TRBCHP_365-01_PBMC-DNA.txt\n",
      "  5: /Users/anabbi/Desktop/H4H/INTERCEPT/NextSeq/remaining_batch_2_22April2021/mixcr/clones/CLONES_TRBCHP_365-01_PBMC-DNA.txt\n",
      " ---                                                                                                                         \n",
      "424: /Users/anabbi/Desktop/H4H/INTERCEPT/NextSeq/remaining_batch_2_22April2021/mixcr/clones/CLONES_TRBCHP_365-01_PBMC-DNA.txt\n",
      "425: /Users/anabbi/Desktop/H4H/INTERCEPT/NextSeq/remaining_batch_2_22April2021/mixcr/clones/CLONES_TRBCHP_365-01_PBMC-DNA.txt\n",
      "426: /Users/anabbi/Desktop/H4H/INTERCEPT/NextSeq/remaining_batch_2_22April2021/mixcr/clones/CLONES_TRBCHP_365-01_PBMC-DNA.txt\n",
      "427: /Users/anabbi/Desktop/H4H/INTERCEPT/NextSeq/remaining_batch_2_22April2021/mixcr/clones/CLONES_TRBCHP_365-01_PBMC-DNA.txt\n",
      "428: /Users/anabbi/Desktop/H4H/INTERCEPT/NextSeq/remaining_batch_2_22April2021/mixcr/clones/CLONES_TRBCHP_365-01_PBMC-DNA.txt\n",
      "     count\n",
      "  1:   272\n",
      "  2:   155\n",
      "  3:    28\n",
      "  4:    38\n",
      "  5:   391\n",
      " ---      \n",
      "424:    25\n",
      "425:    23\n",
      "426:    29\n",
      "427:   159\n",
      "428:    47\n",
      "                CDR3b     TRBV    TRBJ             subject\n",
      "  1:     CACNTGVLEAFF   TRBV30 TRBJ1-1 CHP_371-01_PBMC-DNA\n",
      "  2:   CAFSGLSGDYGYTF  TRBV7-9 TRBJ1-2 CHP_371-01_PBMC-DNA\n",
      "  3:     CAGGLGANVLTF  TRBV7-9 TRBJ2-6 CHP_371-01_PBMC-DNA\n",
      "  4:    CAGGRLSTDTQYF TRBV20-1 TRBJ2-3 CHP_371-01_PBMC-DNA\n",
      "  5:  CAISAGSSAAYEQYF TRBV10-3 TRBJ2-7 CHP_371-01_PBMC-DNA\n",
      " ---                                                      \n",
      "666:    CSVQPRDYNEQFF TRBV29-1 TRBJ2-1 CHP_371-01_PBMC-DNA\n",
      "667:       CSVRLGKQYF TRBV29-1 TRBJ2-7 CHP_371-01_PBMC-DNA\n",
      "668:    CSVVDSSGNTIYF TRBV29-1 TRBJ1-3 CHP_371-01_PBMC-DNA\n",
      "669: CSVVLGSDGLAYEQYF TRBV29-1 TRBJ2-7 CHP_371-01_PBMC-DNA\n",
      "670:   CTSSGYTDSYEQYF TRBV10-2 TRBJ2-7 CHP_371-01_PBMC-DNA\n",
      "                                                                                                                         file\n",
      "  1: /Users/anabbi/Desktop/H4H/INTERCEPT/NextSeq/remaining_batch_2_22April2021/mixcr/clones/CLONES_TRBCHP_371-01_PBMC-DNA.txt\n",
      "  2: /Users/anabbi/Desktop/H4H/INTERCEPT/NextSeq/remaining_batch_2_22April2021/mixcr/clones/CLONES_TRBCHP_371-01_PBMC-DNA.txt\n",
      "  3: /Users/anabbi/Desktop/H4H/INTERCEPT/NextSeq/remaining_batch_2_22April2021/mixcr/clones/CLONES_TRBCHP_371-01_PBMC-DNA.txt\n",
      "  4: /Users/anabbi/Desktop/H4H/INTERCEPT/NextSeq/remaining_batch_2_22April2021/mixcr/clones/CLONES_TRBCHP_371-01_PBMC-DNA.txt\n",
      "  5: /Users/anabbi/Desktop/H4H/INTERCEPT/NextSeq/remaining_batch_2_22April2021/mixcr/clones/CLONES_TRBCHP_371-01_PBMC-DNA.txt\n",
      " ---                                                                                                                         \n",
      "666: /Users/anabbi/Desktop/H4H/INTERCEPT/NextSeq/remaining_batch_2_22April2021/mixcr/clones/CLONES_TRBCHP_371-01_PBMC-DNA.txt\n",
      "667: /Users/anabbi/Desktop/H4H/INTERCEPT/NextSeq/remaining_batch_2_22April2021/mixcr/clones/CLONES_TRBCHP_371-01_PBMC-DNA.txt\n",
      "668: /Users/anabbi/Desktop/H4H/INTERCEPT/NextSeq/remaining_batch_2_22April2021/mixcr/clones/CLONES_TRBCHP_371-01_PBMC-DNA.txt\n",
      "669: /Users/anabbi/Desktop/H4H/INTERCEPT/NextSeq/remaining_batch_2_22April2021/mixcr/clones/CLONES_TRBCHP_371-01_PBMC-DNA.txt\n",
      "670: /Users/anabbi/Desktop/H4H/INTERCEPT/NextSeq/remaining_batch_2_22April2021/mixcr/clones/CLONES_TRBCHP_371-01_PBMC-DNA.txt\n",
      "     count\n",
      "  1:    34\n",
      "  2:    12\n",
      "  3:    23\n",
      "  4:     4\n",
      "  5:    95\n",
      " ---      \n",
      "666:    41\n",
      "667:    30\n",
      "668:     3\n",
      "669:    10\n",
      "670:     1\n",
      "                CDR3b     TRBV    TRBJ             subject\n",
      "  1:      CACGHTDTQYF    TRBV2 TRBJ2-3 CHP_381-01_PBMC-DNA\n",
      "  2:     CACSTGGSEQYF   TRBV27 TRBJ2-7 CHP_381-01_PBMC-DNA\n",
      "  3:    CAIEGTKNNEQFF TRBV10-3 TRBJ2-1 CHP_381-01_PBMC-DNA\n",
      "  4:    CAIKQGASTEAFF TRBV10-3 TRBJ1-1 CHP_381-01_PBMC-DNA\n",
      "  5:    CAILDGSTDTQYF TRBV10-3 TRBJ2-3 CHP_381-01_PBMC-DNA\n",
      " ---                                                      \n",
      "786:    CVWSVTGGAEAFF   TRBV30 TRBJ1-1 CHP_381-01_PBMC-DNA\n",
      "787:   RASSLKTGATEAFF  TRBV7-3 TRBJ1-1 CHP_381-01_PBMC-DNA\n",
      "788: RASSLTQGHRCYGYTF  TRBV7-3 TRBJ1-2 CHP_381-01_PBMC-DNA\n",
      "789:  RASSRGQEALNEQFF TRBV23-1 TRBJ2-1 CHP_381-01_PBMC-DNA\n",
      "790:  YSARDLAVLGTEAFF TRBV20-1 TRBJ1-1 CHP_381-01_PBMC-DNA\n",
      "                                                                                                                         file\n",
      "  1: /Users/anabbi/Desktop/H4H/INTERCEPT/NextSeq/remaining_batch_2_22April2021/mixcr/clones/CLONES_TRBCHP_381-01_PBMC-DNA.txt\n",
      "  2: /Users/anabbi/Desktop/H4H/INTERCEPT/NextSeq/remaining_batch_2_22April2021/mixcr/clones/CLONES_TRBCHP_381-01_PBMC-DNA.txt\n",
      "  3: /Users/anabbi/Desktop/H4H/INTERCEPT/NextSeq/remaining_batch_2_22April2021/mixcr/clones/CLONES_TRBCHP_381-01_PBMC-DNA.txt\n",
      "  4: /Users/anabbi/Desktop/H4H/INTERCEPT/NextSeq/remaining_batch_2_22April2021/mixcr/clones/CLONES_TRBCHP_381-01_PBMC-DNA.txt\n",
      "  5: /Users/anabbi/Desktop/H4H/INTERCEPT/NextSeq/remaining_batch_2_22April2021/mixcr/clones/CLONES_TRBCHP_381-01_PBMC-DNA.txt\n",
      " ---                                                                                                                         \n",
      "786: /Users/anabbi/Desktop/H4H/INTERCEPT/NextSeq/remaining_batch_2_22April2021/mixcr/clones/CLONES_TRBCHP_381-01_PBMC-DNA.txt\n",
      "787: /Users/anabbi/Desktop/H4H/INTERCEPT/NextSeq/remaining_batch_2_22April2021/mixcr/clones/CLONES_TRBCHP_381-01_PBMC-DNA.txt\n",
      "788: /Users/anabbi/Desktop/H4H/INTERCEPT/NextSeq/remaining_batch_2_22April2021/mixcr/clones/CLONES_TRBCHP_381-01_PBMC-DNA.txt\n",
      "789: /Users/anabbi/Desktop/H4H/INTERCEPT/NextSeq/remaining_batch_2_22April2021/mixcr/clones/CLONES_TRBCHP_381-01_PBMC-DNA.txt\n",
      "790: /Users/anabbi/Desktop/H4H/INTERCEPT/NextSeq/remaining_batch_2_22April2021/mixcr/clones/CLONES_TRBCHP_381-01_PBMC-DNA.txt\n",
      "     count\n",
      "  1:    40\n",
      "  2:   125\n",
      "  3:   134\n",
      "  4:   814\n",
      "  5:    83\n",
      " ---      \n",
      "786:     1\n",
      "787:     4\n",
      "788:    19\n",
      "789:    20\n",
      "790:     1\n",
      "                 CDR3b     TRBV    TRBJ             subject\n",
      " 1:     CAISGTSGRNEQFF TRBV10-3 TRBJ2-1 CHP_414-01_PBMC-DNA\n",
      " 2:      CASLGQGAYGYTF    TRBV2 TRBJ1-2 CHP_414-01_PBMC-DNA\n",
      " 3:   CASSLDGGYMNTEAFF    TRBV2 TRBJ1-1 CHP_414-01_PBMC-DNA\n",
      " 4:    CASSLLAGGADTQYF  TRBV6-4 TRBJ2-3 CHP_414-01_PBMC-DNA\n",
      " 5: CASSQALAGGPGTYEQYF  TRBV4-3 TRBJ2-7 CHP_414-01_PBMC-DNA\n",
      " 6:    CASSQEIHGNTEVFF   TRBV13 TRBJ1-1 CHP_414-01_PBMC-DNA\n",
      " 7:       CASSRRQEKLFF TRBV10-1 TRBJ1-4 CHP_414-01_PBMC-DNA\n",
      " 8:     CASSSTGSGNTIYF TRBV11-2 TRBJ1-3 CHP_414-01_PBMC-DNA\n",
      " 9:   CATSDWTSGSYNEQFF TRBV24-1 TRBJ2-1 CHP_414-01_PBMC-DNA\n",
      "10:        CAWDRETEAFF   TRBV30 TRBJ1-1 CHP_414-01_PBMC-DNA\n",
      "11:       CAWSVGGYGYTF   TRBV30 TRBJ1-2 CHP_414-01_PBMC-DNA\n",
      "12:    CSAPGQGRTMGGYTF TRBV20-1 TRBJ1-2 CHP_414-01_PBMC-DNA\n",
      "13:   CSAREPLAGAYNEQFF TRBV20-1 TRBJ2-1 CHP_414-01_PBMC-DNA\n",
      "                                                                                                                     file\n",
      " 1: /Users/anabbi/Desktop/H4H/INTERCEPT/NextSeq/remaining_batch_3_4May2021/mixcr/clones/CLONES_TRBCHP_414-01_PBMC-DNA.txt\n",
      " 2: /Users/anabbi/Desktop/H4H/INTERCEPT/NextSeq/remaining_batch_3_4May2021/mixcr/clones/CLONES_TRBCHP_414-01_PBMC-DNA.txt\n",
      " 3: /Users/anabbi/Desktop/H4H/INTERCEPT/NextSeq/remaining_batch_3_4May2021/mixcr/clones/CLONES_TRBCHP_414-01_PBMC-DNA.txt\n",
      " 4: /Users/anabbi/Desktop/H4H/INTERCEPT/NextSeq/remaining_batch_3_4May2021/mixcr/clones/CLONES_TRBCHP_414-01_PBMC-DNA.txt\n",
      " 5: /Users/anabbi/Desktop/H4H/INTERCEPT/NextSeq/remaining_batch_3_4May2021/mixcr/clones/CLONES_TRBCHP_414-01_PBMC-DNA.txt\n",
      " 6: /Users/anabbi/Desktop/H4H/INTERCEPT/NextSeq/remaining_batch_3_4May2021/mixcr/clones/CLONES_TRBCHP_414-01_PBMC-DNA.txt\n",
      " 7: /Users/anabbi/Desktop/H4H/INTERCEPT/NextSeq/remaining_batch_3_4May2021/mixcr/clones/CLONES_TRBCHP_414-01_PBMC-DNA.txt\n",
      " 8: /Users/anabbi/Desktop/H4H/INTERCEPT/NextSeq/remaining_batch_3_4May2021/mixcr/clones/CLONES_TRBCHP_414-01_PBMC-DNA.txt\n",
      " 9: /Users/anabbi/Desktop/H4H/INTERCEPT/NextSeq/remaining_batch_3_4May2021/mixcr/clones/CLONES_TRBCHP_414-01_PBMC-DNA.txt\n",
      "10: /Users/anabbi/Desktop/H4H/INTERCEPT/NextSeq/remaining_batch_3_4May2021/mixcr/clones/CLONES_TRBCHP_414-01_PBMC-DNA.txt\n",
      "11: /Users/anabbi/Desktop/H4H/INTERCEPT/NextSeq/remaining_batch_3_4May2021/mixcr/clones/CLONES_TRBCHP_414-01_PBMC-DNA.txt\n",
      "12: /Users/anabbi/Desktop/H4H/INTERCEPT/NextSeq/remaining_batch_3_4May2021/mixcr/clones/CLONES_TRBCHP_414-01_PBMC-DNA.txt\n",
      "13: /Users/anabbi/Desktop/H4H/INTERCEPT/NextSeq/remaining_batch_3_4May2021/mixcr/clones/CLONES_TRBCHP_414-01_PBMC-DNA.txt\n",
      "    count\n",
      " 1:     1\n",
      " 2:     1\n",
      " 3:    46\n",
      " 4:  1733\n",
      " 5:     1\n",
      " 6:  2994\n",
      " 7:   427\n",
      " 8:  6444\n",
      " 9:     1\n",
      "10:  7794\n",
      "11:     1\n",
      "12:  2857\n",
      "13:  3461\n",
      "                   CDR3b     TRBV    TRBJ             subject\n",
      "  1:       CAGGGLGYNEQFF TRBV10-3 TRBJ2-1 CHP_420-01_PBMC-DNA\n",
      "  2:         CAGLVAYGYTF   TRBV30 TRBJ1-2 CHP_420-01_PBMC-DNA\n",
      "  3:      CAIGTGGPSDTQYF TRBV10-3 TRBJ2-3 CHP_420-01_PBMC-DNA\n",
      "  4:    CAISARQGMAVETQYF TRBV10-3 TRBJ2-5 CHP_420-01_PBMC-DNA\n",
      "  5:     CAISEPGQGNTEAFF TRBV10-3 TRBJ1-1 CHP_420-01_PBMC-DNA\n",
      " ---                                                         \n",
      "577:       CSVGQGLTDTQYF TRBV29-1 TRBJ2-3 CHP_420-01_PBMC-DNA\n",
      "578:       CSVTGGPNEKLFF TRBV29-1 TRBJ1-4 CHP_420-01_PBMC-DNA\n",
      "579:      CSVVTGESSYEQYF TRBV29-1 TRBJ2-7 CHP_420-01_PBMC-DNA\n",
      "580:  CTSSQANHSGGLTDTQYF    TRBV1 TRBJ2-3 CHP_420-01_PBMC-DNA\n",
      "581: CTSSRAGGFRKAILLEQYF    TRBV1 TRBJ2-7 CHP_420-01_PBMC-DNA\n",
      "                                                                                                                      file\n",
      "  1: /Users/anabbi/Desktop/H4H/INTERCEPT/NextSeq/remaining_batch_3_4May2021/mixcr/clones/CLONES_TRBCHP_420-01_PBMC-DNA.txt\n",
      "  2: /Users/anabbi/Desktop/H4H/INTERCEPT/NextSeq/remaining_batch_3_4May2021/mixcr/clones/CLONES_TRBCHP_420-01_PBMC-DNA.txt\n",
      "  3: /Users/anabbi/Desktop/H4H/INTERCEPT/NextSeq/remaining_batch_3_4May2021/mixcr/clones/CLONES_TRBCHP_420-01_PBMC-DNA.txt\n",
      "  4: /Users/anabbi/Desktop/H4H/INTERCEPT/NextSeq/remaining_batch_3_4May2021/mixcr/clones/CLONES_TRBCHP_420-01_PBMC-DNA.txt\n",
      "  5: /Users/anabbi/Desktop/H4H/INTERCEPT/NextSeq/remaining_batch_3_4May2021/mixcr/clones/CLONES_TRBCHP_420-01_PBMC-DNA.txt\n",
      " ---                                                                                                                      \n",
      "577: /Users/anabbi/Desktop/H4H/INTERCEPT/NextSeq/remaining_batch_3_4May2021/mixcr/clones/CLONES_TRBCHP_420-01_PBMC-DNA.txt\n",
      "578: /Users/anabbi/Desktop/H4H/INTERCEPT/NextSeq/remaining_batch_3_4May2021/mixcr/clones/CLONES_TRBCHP_420-01_PBMC-DNA.txt\n",
      "579: /Users/anabbi/Desktop/H4H/INTERCEPT/NextSeq/remaining_batch_3_4May2021/mixcr/clones/CLONES_TRBCHP_420-01_PBMC-DNA.txt\n",
      "580: /Users/anabbi/Desktop/H4H/INTERCEPT/NextSeq/remaining_batch_3_4May2021/mixcr/clones/CLONES_TRBCHP_420-01_PBMC-DNA.txt\n",
      "581: /Users/anabbi/Desktop/H4H/INTERCEPT/NextSeq/remaining_batch_3_4May2021/mixcr/clones/CLONES_TRBCHP_420-01_PBMC-DNA.txt\n",
      "     count\n",
      "  1:    22\n",
      "  2:   421\n",
      "  3:   147\n",
      "  4:    96\n",
      "  5:   762\n",
      " ---      \n",
      "577:   553\n",
      "578:   590\n",
      "579:    72\n",
      "580:  1446\n",
      "581:   273\n",
      "                 CDR3b     TRBV    TRBJ             subject\n",
      "  1:     CAARSLGTYGYTF   TRBV28 TRBJ1-2 CHP-369-01-PBMC-DNA\n",
      "  2:      CAIGQGAGELFF TRBV10-3 TRBJ2-2 CHP-369-01-PBMC-DNA\n",
      "  3:    CAIREQGAGTEAFF TRBV10-3 TRBJ1-1 CHP-369-01-PBMC-DNA\n",
      "  4:  CAISAPPSGQVHEQYF TRBV10-3 TRBJ2-7 CHP-369-01-PBMC-DNA\n",
      "  5:    CAISASGSSYEQYF TRBV10-3 TRBJ2-7 CHP-369-01-PBMC-DNA\n",
      " ---                                                       \n",
      "717:      CSVSKRTYEQYF TRBV20-1 TRBJ2-7 CHP-369-01-PBMC-DNA\n",
      "718:   CSVVFPGRNTGELFF TRBV29-1 TRBJ2-2 CHP-369-01-PBMC-DNA\n",
      "719: CTLKASRWGRALYEQYF TRBV20-1 TRBJ2-7 CHP-369-01-PBMC-DNA\n",
      "720:       CTSSLVNTIYF   TRBV27 TRBJ1-3 CHP-369-01-PBMC-DNA\n",
      "721:      CVSSYRHQPQHF TRBV12-3 TRBJ1-5 CHP-369-01-PBMC-DNA\n",
      "                                                                                                                        file\n",
      "  1: /Users/anabbi/Desktop/H4H/INTERCEPT/NextSeq/remaining_batch_4_28June2021/mixcr/clones/CLONES_TRBCHP-369-01-PBMC-DNA.txt\n",
      "  2: /Users/anabbi/Desktop/H4H/INTERCEPT/NextSeq/remaining_batch_4_28June2021/mixcr/clones/CLONES_TRBCHP-369-01-PBMC-DNA.txt\n",
      "  3: /Users/anabbi/Desktop/H4H/INTERCEPT/NextSeq/remaining_batch_4_28June2021/mixcr/clones/CLONES_TRBCHP-369-01-PBMC-DNA.txt\n",
      "  4: /Users/anabbi/Desktop/H4H/INTERCEPT/NextSeq/remaining_batch_4_28June2021/mixcr/clones/CLONES_TRBCHP-369-01-PBMC-DNA.txt\n",
      "  5: /Users/anabbi/Desktop/H4H/INTERCEPT/NextSeq/remaining_batch_4_28June2021/mixcr/clones/CLONES_TRBCHP-369-01-PBMC-DNA.txt\n",
      " ---                                                                                                                        \n",
      "717: /Users/anabbi/Desktop/H4H/INTERCEPT/NextSeq/remaining_batch_4_28June2021/mixcr/clones/CLONES_TRBCHP-369-01-PBMC-DNA.txt\n",
      "718: /Users/anabbi/Desktop/H4H/INTERCEPT/NextSeq/remaining_batch_4_28June2021/mixcr/clones/CLONES_TRBCHP-369-01-PBMC-DNA.txt\n",
      "719: /Users/anabbi/Desktop/H4H/INTERCEPT/NextSeq/remaining_batch_4_28June2021/mixcr/clones/CLONES_TRBCHP-369-01-PBMC-DNA.txt\n",
      "720: /Users/anabbi/Desktop/H4H/INTERCEPT/NextSeq/remaining_batch_4_28June2021/mixcr/clones/CLONES_TRBCHP-369-01-PBMC-DNA.txt\n",
      "721: /Users/anabbi/Desktop/H4H/INTERCEPT/NextSeq/remaining_batch_4_28June2021/mixcr/clones/CLONES_TRBCHP-369-01-PBMC-DNA.txt\n",
      "     count\n",
      "  1:   159\n",
      "  2:   680\n",
      "  3:   858\n",
      "  4:  1738\n",
      "  5:   242\n",
      " ---      \n",
      "717:   168\n",
      "718:    11\n",
      "719:    22\n",
      "720:    11\n",
      "721:    88\n",
      "                 CDR3b     TRBV    TRBJ               subject\n",
      "  1:    CAGSLAGGTDTQYF TRBV12-3 TRBJ2-3 LFS_TCR-4535-PBMC-DNA\n",
      "  2:      CAIQGFEGGYTF   TRBV19 TRBJ1-2 LFS_TCR-4535-PBMC-DNA\n",
      "  3:     CAIRPLDSYEQYF TRBV10-3 TRBJ2-7 LFS_TCR-4535-PBMC-DNA\n",
      "  4:   CAISEGQGRDQPQHF TRBV10-3 TRBJ1-5 LFS_TCR-4535-PBMC-DNA\n",
      "  5: CAISESTGLGTSYEQYF TRBV10-3 TRBJ2-7 LFS_TCR-4535-PBMC-DNA\n",
      " ---                                                         \n",
      "137:   CSASRAGVGNEKLFF TRBV20-1 TRBJ1-4 LFS_TCR-4535-PBMC-DNA\n",
      "138:        CSASRIEAFF TRBV20-1 TRBJ1-1 LFS_TCR-4535-PBMC-DNA\n",
      "139:    CSATTAGGHQPQHF TRBV20-1 TRBJ1-5 LFS_TCR-4535-PBMC-DNA\n",
      "140:   CSVVGDRAGNTEAFF TRBV29-1 TRBJ1-1 LFS_TCR-4535-PBMC-DNA\n",
      "141:    CVWTQQGDDQPQHF   TRBV30 TRBJ1-5 LFS_TCR-4535-PBMC-DNA\n",
      "                                                                                                             file\n",
      "  1: /Users/anabbi/Desktop/H4H/INTERCEPT/NextSeq/batch2_Aug62019/mixcr/clones/CLONES_TRBLFS_TCR-4535-PBMC-DNA.txt\n",
      "  2: /Users/anabbi/Desktop/H4H/INTERCEPT/NextSeq/batch2_Aug62019/mixcr/clones/CLONES_TRBLFS_TCR-4535-PBMC-DNA.txt\n",
      "  3: /Users/anabbi/Desktop/H4H/INTERCEPT/NextSeq/batch2_Aug62019/mixcr/clones/CLONES_TRBLFS_TCR-4535-PBMC-DNA.txt\n",
      "  4: /Users/anabbi/Desktop/H4H/INTERCEPT/NextSeq/batch2_Aug62019/mixcr/clones/CLONES_TRBLFS_TCR-4535-PBMC-DNA.txt\n",
      "  5: /Users/anabbi/Desktop/H4H/INTERCEPT/NextSeq/batch2_Aug62019/mixcr/clones/CLONES_TRBLFS_TCR-4535-PBMC-DNA.txt\n",
      " ---                                                                                                             \n",
      "137: /Users/anabbi/Desktop/H4H/INTERCEPT/NextSeq/batch2_Aug62019/mixcr/clones/CLONES_TRBLFS_TCR-4535-PBMC-DNA.txt\n",
      "138: /Users/anabbi/Desktop/H4H/INTERCEPT/NextSeq/batch2_Aug62019/mixcr/clones/CLONES_TRBLFS_TCR-4535-PBMC-DNA.txt\n",
      "139: /Users/anabbi/Desktop/H4H/INTERCEPT/NextSeq/batch2_Aug62019/mixcr/clones/CLONES_TRBLFS_TCR-4535-PBMC-DNA.txt\n",
      "140: /Users/anabbi/Desktop/H4H/INTERCEPT/NextSeq/batch2_Aug62019/mixcr/clones/CLONES_TRBLFS_TCR-4535-PBMC-DNA.txt\n",
      "141: /Users/anabbi/Desktop/H4H/INTERCEPT/NextSeq/batch2_Aug62019/mixcr/clones/CLONES_TRBLFS_TCR-4535-PBMC-DNA.txt\n",
      "     count\n",
      "  1:     1\n",
      "  2:     5\n",
      "  3:     5\n",
      "  4:     5\n",
      "  5:     2\n",
      " ---      \n",
      "137:     3\n",
      "138:     5\n",
      "139:     3\n",
      "140:     3\n",
      "141:     1\n",
      "               CDR3b     TRBV    TRBJ               subject\n",
      "  1: CAAGTGGLNTDTQYF  TRBV5-4 TRBJ2-3 LFS_TCR-4570-PBMC-DNA\n",
      "  2:  CACSSRNWVGLPAF  TRBV5-6 TRBJ1-5 LFS_TCR-4570-PBMC-DNA\n",
      "  3:   CAGGQGENTEAFF    TRBV2 TRBJ1-1 LFS_TCR-4570-PBMC-DNA\n",
      "  4:  CAINTGGEQETQYF TRBV10-3 TRBJ2-5 LFS_TCR-4570-PBMC-DNA\n",
      "  5:  CANSRQGGRGGYTF   TRBV27 TRBJ1-2 LFS_TCR-4570-PBMC-DNA\n",
      " ---                                                       \n",
      "172:    CSVDLTGASQYF TRBV29-1 TRBJ2-5 LFS_TCR-4570-PBMC-DNA\n",
      "173:    CSVDLTGSSQYF TRBV29-1 TRBJ2-5 LFS_TCR-4570-PBMC-DNA\n",
      "174:     CSVGLYNEQFF TRBV20-1 TRBJ2-1 LFS_TCR-4570-PBMC-DNA\n",
      "175:   CSVPGTGFYGYTF TRBV29-1 TRBJ1-2 LFS_TCR-4570-PBMC-DNA\n",
      "176:   CSVVGMDSYEQYF TRBV29-1 TRBJ2-7 LFS_TCR-4570-PBMC-DNA\n",
      "                                                                                                             file\n",
      "  1: /Users/anabbi/Desktop/H4H/INTERCEPT/NextSeq/batch2_Aug62019/mixcr/clones/CLONES_TRBLFS_TCR-4570-PBMC-DNA.txt\n",
      "  2: /Users/anabbi/Desktop/H4H/INTERCEPT/NextSeq/batch2_Aug62019/mixcr/clones/CLONES_TRBLFS_TCR-4570-PBMC-DNA.txt\n",
      "  3: /Users/anabbi/Desktop/H4H/INTERCEPT/NextSeq/batch2_Aug62019/mixcr/clones/CLONES_TRBLFS_TCR-4570-PBMC-DNA.txt\n",
      "  4: /Users/anabbi/Desktop/H4H/INTERCEPT/NextSeq/batch2_Aug62019/mixcr/clones/CLONES_TRBLFS_TCR-4570-PBMC-DNA.txt\n",
      "  5: /Users/anabbi/Desktop/H4H/INTERCEPT/NextSeq/batch2_Aug62019/mixcr/clones/CLONES_TRBLFS_TCR-4570-PBMC-DNA.txt\n",
      " ---                                                                                                             \n",
      "172: /Users/anabbi/Desktop/H4H/INTERCEPT/NextSeq/batch2_Aug62019/mixcr/clones/CLONES_TRBLFS_TCR-4570-PBMC-DNA.txt\n",
      "173: /Users/anabbi/Desktop/H4H/INTERCEPT/NextSeq/batch2_Aug62019/mixcr/clones/CLONES_TRBLFS_TCR-4570-PBMC-DNA.txt\n",
      "174: /Users/anabbi/Desktop/H4H/INTERCEPT/NextSeq/batch2_Aug62019/mixcr/clones/CLONES_TRBLFS_TCR-4570-PBMC-DNA.txt\n",
      "175: /Users/anabbi/Desktop/H4H/INTERCEPT/NextSeq/batch2_Aug62019/mixcr/clones/CLONES_TRBLFS_TCR-4570-PBMC-DNA.txt\n",
      "176: /Users/anabbi/Desktop/H4H/INTERCEPT/NextSeq/batch2_Aug62019/mixcr/clones/CLONES_TRBLFS_TCR-4570-PBMC-DNA.txt\n",
      "     count\n",
      "  1:     5\n",
      "  2:    22\n",
      "  3:    60\n",
      "  4:    10\n",
      "  5:     1\n",
      " ---      \n",
      "172:     1\n",
      "173:     9\n",
      "174:    10\n",
      "175:    18\n",
      "176:    21\n",
      "                  CDR3b     TRBV    TRBJ               subject\n",
      "  1:        CAIATGPEAFF    TRBV2 TRBJ1-1 LFS_TCR-4602-PBMC-DNA\n",
      "  2: CAIGPTGGAVLPGNTIYF TRBV10-3 TRBJ1-3 LFS_TCR-4602-PBMC-DNA\n",
      "  3:   CAIRDPRDRTNYGYTF TRBV10-3 TRBJ1-2 LFS_TCR-4602-PBMC-DNA\n",
      "  4:     CAISEERANTEAFF TRBV10-3 TRBJ1-1 LFS_TCR-4602-PBMC-DNA\n",
      "  5:     CAISEIGGAPPQHF TRBV10-3 TRBJ1-5 LFS_TCR-4602-PBMC-DNA\n",
      " ---                                                          \n",
      "161:     CSATPVWIGTEAFF TRBV20-1 TRBJ1-1 LFS_TCR-4602-PBMC-DNA\n",
      "162:      CSVGQISNTEAFF TRBV29-1 TRBJ1-1 LFS_TCR-4602-PBMC-DNA\n",
      "163:        CSVKVSYGYTF TRBV20-1 TRBJ1-2 LFS_TCR-4602-PBMC-DNA\n",
      "164:       CSVVPVNTEAFF TRBV29-1 TRBJ1-1 LFS_TCR-4602-PBMC-DNA\n",
      "165:       CTSSQRNTEAFF    TRBV1 TRBJ1-1 LFS_TCR-4602-PBMC-DNA\n",
      "                                                                                                             file\n",
      "  1: /Users/anabbi/Desktop/H4H/INTERCEPT/NextSeq/batch2_Aug62019/mixcr/clones/CLONES_TRBLFS_TCR-4602-PBMC-DNA.txt\n",
      "  2: /Users/anabbi/Desktop/H4H/INTERCEPT/NextSeq/batch2_Aug62019/mixcr/clones/CLONES_TRBLFS_TCR-4602-PBMC-DNA.txt\n",
      "  3: /Users/anabbi/Desktop/H4H/INTERCEPT/NextSeq/batch2_Aug62019/mixcr/clones/CLONES_TRBLFS_TCR-4602-PBMC-DNA.txt\n",
      "  4: /Users/anabbi/Desktop/H4H/INTERCEPT/NextSeq/batch2_Aug62019/mixcr/clones/CLONES_TRBLFS_TCR-4602-PBMC-DNA.txt\n",
      "  5: /Users/anabbi/Desktop/H4H/INTERCEPT/NextSeq/batch2_Aug62019/mixcr/clones/CLONES_TRBLFS_TCR-4602-PBMC-DNA.txt\n",
      " ---                                                                                                             \n",
      "161: /Users/anabbi/Desktop/H4H/INTERCEPT/NextSeq/batch2_Aug62019/mixcr/clones/CLONES_TRBLFS_TCR-4602-PBMC-DNA.txt\n",
      "162: /Users/anabbi/Desktop/H4H/INTERCEPT/NextSeq/batch2_Aug62019/mixcr/clones/CLONES_TRBLFS_TCR-4602-PBMC-DNA.txt\n",
      "163: /Users/anabbi/Desktop/H4H/INTERCEPT/NextSeq/batch2_Aug62019/mixcr/clones/CLONES_TRBLFS_TCR-4602-PBMC-DNA.txt\n",
      "164: /Users/anabbi/Desktop/H4H/INTERCEPT/NextSeq/batch2_Aug62019/mixcr/clones/CLONES_TRBLFS_TCR-4602-PBMC-DNA.txt\n",
      "165: /Users/anabbi/Desktop/H4H/INTERCEPT/NextSeq/batch2_Aug62019/mixcr/clones/CLONES_TRBLFS_TCR-4602-PBMC-DNA.txt\n",
      "     count\n",
      "  1:     3\n",
      "  2:     5\n",
      "  3:     2\n",
      "  4:     7\n",
      "  5:     5\n",
      " ---      \n",
      "161:     6\n",
      "162:    10\n",
      "163:     1\n",
      "164:     6\n",
      "165:     6\n",
      "                 CDR3b     TRBV    TRBJ               subject\n",
      "  1:       CAAGYLQPQHF   TRBV27 TRBJ1-5 LFS_TCR-4758-PBMC-DNA\n",
      "  2:      CACSFEFYGYTF TRBV12-3 TRBJ1-2 LFS_TCR-4758-PBMC-DNA\n",
      "  3:       CAIHPSDTQYF  TRBV6-6 TRBJ2-3 LFS_TCR-4758-PBMC-DNA\n",
      "  4:    CAIQLPRGQRGYTF   TRBV28 TRBJ1-2 LFS_TCR-4758-PBMC-DNA\n",
      "  5: CAISERGTSGKYNEQFF TRBV10-3 TRBJ2-1 LFS_TCR-4758-PBMC-DNA\n",
      " ---                                                         \n",
      "233:   CSVDGATDLYNEQFF TRBV29-1 TRBJ2-1 LFS_TCR-4758-PBMC-DNA\n",
      "234:     CSVGGQGGQPQHF TRBV29-1 TRBJ1-5 LFS_TCR-4758-PBMC-DNA\n",
      "235:    CSVLIDRSLGEQYF TRBV29-1 TRBJ2-7 LFS_TCR-4758-PBMC-DNA\n",
      "236:  CSVTGDREPRNYGYTF TRBV29-1 TRBJ1-2 LFS_TCR-4758-PBMC-DNA\n",
      "237:    CTSSDSSGANVLTF  TRBV6-4 TRBJ2-6 LFS_TCR-4758-PBMC-DNA\n",
      "                                                                                                             file\n",
      "  1: /Users/anabbi/Desktop/H4H/INTERCEPT/NextSeq/batch2_Aug62019/mixcr/clones/CLONES_TRBLFS_TCR-4758-PBMC-DNA.txt\n",
      "  2: /Users/anabbi/Desktop/H4H/INTERCEPT/NextSeq/batch2_Aug62019/mixcr/clones/CLONES_TRBLFS_TCR-4758-PBMC-DNA.txt\n",
      "  3: /Users/anabbi/Desktop/H4H/INTERCEPT/NextSeq/batch2_Aug62019/mixcr/clones/CLONES_TRBLFS_TCR-4758-PBMC-DNA.txt\n",
      "  4: /Users/anabbi/Desktop/H4H/INTERCEPT/NextSeq/batch2_Aug62019/mixcr/clones/CLONES_TRBLFS_TCR-4758-PBMC-DNA.txt\n",
      "  5: /Users/anabbi/Desktop/H4H/INTERCEPT/NextSeq/batch2_Aug62019/mixcr/clones/CLONES_TRBLFS_TCR-4758-PBMC-DNA.txt\n",
      " ---                                                                                                             \n",
      "233: /Users/anabbi/Desktop/H4H/INTERCEPT/NextSeq/batch2_Aug62019/mixcr/clones/CLONES_TRBLFS_TCR-4758-PBMC-DNA.txt\n",
      "234: /Users/anabbi/Desktop/H4H/INTERCEPT/NextSeq/batch2_Aug62019/mixcr/clones/CLONES_TRBLFS_TCR-4758-PBMC-DNA.txt\n",
      "235: /Users/anabbi/Desktop/H4H/INTERCEPT/NextSeq/batch2_Aug62019/mixcr/clones/CLONES_TRBLFS_TCR-4758-PBMC-DNA.txt\n",
      "236: /Users/anabbi/Desktop/H4H/INTERCEPT/NextSeq/batch2_Aug62019/mixcr/clones/CLONES_TRBLFS_TCR-4758-PBMC-DNA.txt\n",
      "237: /Users/anabbi/Desktop/H4H/INTERCEPT/NextSeq/batch2_Aug62019/mixcr/clones/CLONES_TRBLFS_TCR-4758-PBMC-DNA.txt\n",
      "     count\n",
      "  1:     1\n",
      "  2:     1\n",
      "  3:     9\n",
      "  4:    33\n",
      "  5:    23\n",
      " ---      \n",
      "233:    11\n",
      "234:    12\n",
      "235:    14\n",
      "236:    34\n",
      "237:     1\n",
      "               CDR3b     TRBV    TRBJ               subject\n",
      "  1:   CAIRDTSNQPQHF TRBV10-3 TRBJ1-5 LFS_TCR-4759-PBMC-DNA\n",
      "  2: CAIRNPGTGNTEAFF TRBV10-3 TRBJ1-1 LFS_TCR-4759-PBMC-DNA\n",
      "  3:    CAISADGNTIYF TRBV10-3 TRBJ1-3 LFS_TCR-4759-PBMC-DNA\n",
      "  4:  CAISESDRNQPQHF TRBV10-3 TRBJ1-5 LFS_TCR-4759-PBMC-DNA\n",
      "  5: CAISGAGQGGQPQHF TRBV10-3 TRBJ1-5 LFS_TCR-4759-PBMC-DNA\n",
      " ---                                                       \n",
      "164:   CSVDRGRVTEAFF TRBV29-1 TRBJ1-1 LFS_TCR-4759-PBMC-DNA\n",
      "165: CSVEVWDSSYNEQFF TRBV29-1 TRBJ2-1 LFS_TCR-4759-PBMC-DNA\n",
      "166:  CSVGAGEEYEKLFF TRBV29-1 TRBJ1-4 LFS_TCR-4759-PBMC-DNA\n",
      "167:  CSVTRPGGGDEQFF TRBV29-1 TRBJ2-1 LFS_TCR-4759-PBMC-DNA\n",
      "168:  CSVTRPGLTYEQYF TRBV29-1 TRBJ2-7 LFS_TCR-4759-PBMC-DNA\n",
      "                                                                                                             file\n",
      "  1: /Users/anabbi/Desktop/H4H/INTERCEPT/NextSeq/batch2_Aug62019/mixcr/clones/CLONES_TRBLFS_TCR-4759-PBMC-DNA.txt\n",
      "  2: /Users/anabbi/Desktop/H4H/INTERCEPT/NextSeq/batch2_Aug62019/mixcr/clones/CLONES_TRBLFS_TCR-4759-PBMC-DNA.txt\n",
      "  3: /Users/anabbi/Desktop/H4H/INTERCEPT/NextSeq/batch2_Aug62019/mixcr/clones/CLONES_TRBLFS_TCR-4759-PBMC-DNA.txt\n",
      "  4: /Users/anabbi/Desktop/H4H/INTERCEPT/NextSeq/batch2_Aug62019/mixcr/clones/CLONES_TRBLFS_TCR-4759-PBMC-DNA.txt\n",
      "  5: /Users/anabbi/Desktop/H4H/INTERCEPT/NextSeq/batch2_Aug62019/mixcr/clones/CLONES_TRBLFS_TCR-4759-PBMC-DNA.txt\n",
      " ---                                                                                                             \n",
      "164: /Users/anabbi/Desktop/H4H/INTERCEPT/NextSeq/batch2_Aug62019/mixcr/clones/CLONES_TRBLFS_TCR-4759-PBMC-DNA.txt\n",
      "165: /Users/anabbi/Desktop/H4H/INTERCEPT/NextSeq/batch2_Aug62019/mixcr/clones/CLONES_TRBLFS_TCR-4759-PBMC-DNA.txt\n",
      "166: /Users/anabbi/Desktop/H4H/INTERCEPT/NextSeq/batch2_Aug62019/mixcr/clones/CLONES_TRBLFS_TCR-4759-PBMC-DNA.txt\n",
      "167: /Users/anabbi/Desktop/H4H/INTERCEPT/NextSeq/batch2_Aug62019/mixcr/clones/CLONES_TRBLFS_TCR-4759-PBMC-DNA.txt\n",
      "168: /Users/anabbi/Desktop/H4H/INTERCEPT/NextSeq/batch2_Aug62019/mixcr/clones/CLONES_TRBLFS_TCR-4759-PBMC-DNA.txt\n",
      "     count\n",
      "  1:     2\n",
      "  2:     6\n",
      "  3:    10\n",
      "  4:     5\n",
      "  5:     2\n",
      " ---      \n",
      "164:     1\n",
      "165:     3\n",
      "166:     4\n",
      "167:     1\n",
      "168:     3\n",
      "                   CDR3b     TRBV    TRBJ               subject\n",
      " 1:        CAIRDRANSPLHF TRBV10-3 TRBJ1-6 LFS_TCR-4783-PBMC-DNA\n",
      " 2: CAISDGQAKSGRLALNTIYF TRBV10-3 TRBJ1-3 LFS_TCR-4783-PBMC-DNA\n",
      " 3:  CASGGQGGVVQPIPLNAFF   TRBV27 TRBJ1-1 LFS_TCR-4783-PBMC-DNA\n",
      " 4:       CASGILDGTDTQYF  TRBV5-1 TRBJ2-3 LFS_TCR-4783-PBMC-DNA\n",
      " 5:       CASRKSGSGNTIYF TRBV12-3 TRBJ1-3 LFS_TCR-4783-PBMC-DNA\n",
      " 6:        CASSDGQYYGYTF  TRBV6-1 TRBJ1-2 LFS_TCR-4783-PBMC-DNA\n",
      " 7:       CASSDSLTGSAQYF  TRBV6-1 TRBJ2-4 LFS_TCR-4783-PBMC-DNA\n",
      " 8:       CASSEDSGANVLTF  TRBV6-4 TRBJ2-6 LFS_TCR-4783-PBMC-DNA\n",
      " 9:      CASSETGTGSYEQYF  TRBV6-2 TRBJ2-7 LFS_TCR-4783-PBMC-DNA\n",
      "10:       CASSETGTSDEQFF  TRBV6-4 TRBJ2-1 LFS_TCR-4783-PBMC-DNA\n",
      "11:       CASSFASWGTEAFF  TRBV7-2 TRBJ1-1 LFS_TCR-4783-PBMC-DNA\n",
      "12:        CASSFGVNTEAFF TRBV12-3 TRBJ1-1 LFS_TCR-4783-PBMC-DNA\n",
      "13:     CASSFQGRLSGNTIYF   TRBV13 TRBJ1-3 LFS_TCR-4783-PBMC-DNA\n",
      "14:         CASSGGNEKLFF TRBV12-3 TRBJ1-4 LFS_TCR-4783-PBMC-DNA\n",
      "15:       CASSGGRGTDTQYF  TRBV7-2 TRBJ2-3 LFS_TCR-4783-PBMC-DNA\n",
      "16:     CASSHGPGTDSYEQYF  TRBV4-1 TRBJ2-7 LFS_TCR-4783-PBMC-DNA\n",
      "17:       CASSHRDIYGGAFF   TRBV19 TRBJ1-1 LFS_TCR-4783-PBMC-DNA\n",
      "18:      CASSIAQGGGQPQHF   TRBV19 TRBJ1-5 LFS_TCR-4783-PBMC-DNA\n",
      "19:        CASSIFSGYGYTF   TRBV19 TRBJ1-2 LFS_TCR-4783-PBMC-DNA\n",
      "20:         CASSIKYTEAFF   TRBV19 TRBJ1-1 LFS_TCR-4783-PBMC-DNA\n",
      "21:   CASSLAPGDSAGANVLTF TRBV11-2 TRBJ2-6 LFS_TCR-4783-PBMC-DNA\n",
      "22:       CASSLFQKNSPLHF  TRBV5-6 TRBJ1-6 LFS_TCR-4783-PBMC-DNA\n",
      "23:       CASSLGAANTEAFF TRBV12-3 TRBJ1-1 LFS_TCR-4783-PBMC-DNA\n",
      "24:          CASSLNFEQFF  TRBV7-2 TRBJ2-1 LFS_TCR-4783-PBMC-DNA\n",
      "25:       CASSLVGGKETQYF  TRBV7-2 TRBJ2-5 LFS_TCR-4783-PBMC-DNA\n",
      "26:      CASSNRGGTYNEQFF  TRBV7-6 TRBJ2-1 LFS_TCR-4783-PBMC-DNA\n",
      "27:        CASSNWQTTEAFF   TRBV19 TRBJ1-1 LFS_TCR-4783-PBMC-DNA\n",
      "28:     CASSPGTGGSGQPQHF   TRBV18 TRBJ1-5 LFS_TCR-4783-PBMC-DNA\n",
      "29:    CASSQAQDSLNTGELFF  TRBV4-3 TRBJ2-2 LFS_TCR-4783-PBMC-DNA\n",
      "30:   CASSQEASSNGAGNTIYF  TRBV4-3 TRBJ1-3 LFS_TCR-4783-PBMC-DNA\n",
      "31:     CASSQLVTGPLYGYTF  TRBV3-1 TRBJ1-2 LFS_TCR-4783-PBMC-DNA\n",
      "32:     CASSQPAQGANTEAFF  TRBV4-1 TRBJ1-1 LFS_TCR-4783-PBMC-DNA\n",
      "33:        CASSQRTGYGYTF  TRBV7-9 TRBJ1-2 LFS_TCR-4783-PBMC-DNA\n",
      "34:         CASSQVPEEQYF  TRBV4-2 TRBJ2-7 LFS_TCR-4783-PBMC-DNA\n",
      "35:    CASSREGEGSYNLPLHF  TRBV4-2 TRBJ1-6 LFS_TCR-4783-PBMC-DNA\n",
      "36:    CASSREGEGSYNSPLHF  TRBV4-2 TRBJ1-6 LFS_TCR-4783-PBMC-DNA\n",
      "37:     CASSRLGLAGSSEQFF  TRBV4-3 TRBJ2-1 LFS_TCR-4783-PBMC-DNA\n",
      "38:       CASSTGRGRYEQYF TRBV11-1 TRBJ2-7 LFS_TCR-4783-PBMC-DNA\n",
      "39:    CASSTLPGTGRNTEAFF  TRBV7-9 TRBJ1-1 LFS_TCR-4783-PBMC-DNA\n",
      "40:     CASSWEGAPSYNEQFF  TRBV5-1 TRBJ2-1 LFS_TCR-4783-PBMC-DNA\n",
      "41:      CASSYGGASTDTQYF  TRBV6-2 TRBJ2-3 LFS_TCR-4783-PBMC-DNA\n",
      "42:       CASTPMEGDTEAFF  TRBV7-9 TRBJ1-1 LFS_TCR-4783-PBMC-DNA\n",
      "43:       CASTRDRLYNEQFF TRBV12-3 TRBJ2-1 LFS_TCR-4783-PBMC-DNA\n",
      "44:      CASTTGQEGTGELFF  TRBV5-4 TRBJ2-2 LFS_TCR-4783-PBMC-DNA\n",
      "45:      CATNEGTGDTDTQYF   TRBV15 TRBJ2-3 LFS_TCR-4783-PBMC-DNA\n",
      "46:      CATSARRGDSEKLFF TRBV24-1 TRBJ1-4 LFS_TCR-4783-PBMC-DNA\n",
      "47:       CAWSVKLETEAQYF   TRBV30 TRBJ2-7 LFS_TCR-4783-PBMC-DNA\n",
      "48:         CSAPSQGIGAFF TRBV20-1 TRBJ1-1 LFS_TCR-4783-PBMC-DNA\n",
      "49:     CSARDRTSSYNSPLHF TRBV20-1 TRBJ1-6 LFS_TCR-4783-PBMC-DNA\n",
      "50:     CSARDVQTGGRGPQHF TRBV20-1 TRBJ1-5 LFS_TCR-4783-PBMC-DNA\n",
      "51:    CSAREFVGTGGNEKLFF TRBV20-1 TRBJ1-4 LFS_TCR-4783-PBMC-DNA\n",
      "52:      CSARRTGNSNQPQHF TRBV20-1 TRBJ1-5 LFS_TCR-4783-PBMC-DNA\n",
      "53:        CSVARQGQTEAFF TRBV29-1 TRBJ1-1 LFS_TCR-4783-PBMC-DNA\n",
      "54:        CSVEVSGGSGAFF TRBV29-1 TRBJ1-1 LFS_TCR-4783-PBMC-DNA\n",
      "                   CDR3b     TRBV    TRBJ               subject\n",
      "                                                                                                            file\n",
      " 1: /Users/anabbi/Desktop/H4H/INTERCEPT/NextSeq/batch2_Aug62019/mixcr/clones/CLONES_TRBLFS_TCR-4783-PBMC-DNA.txt\n",
      " 2: /Users/anabbi/Desktop/H4H/INTERCEPT/NextSeq/batch2_Aug62019/mixcr/clones/CLONES_TRBLFS_TCR-4783-PBMC-DNA.txt\n",
      " 3: /Users/anabbi/Desktop/H4H/INTERCEPT/NextSeq/batch2_Aug62019/mixcr/clones/CLONES_TRBLFS_TCR-4783-PBMC-DNA.txt\n",
      " 4: /Users/anabbi/Desktop/H4H/INTERCEPT/NextSeq/batch2_Aug62019/mixcr/clones/CLONES_TRBLFS_TCR-4783-PBMC-DNA.txt\n",
      " 5: /Users/anabbi/Desktop/H4H/INTERCEPT/NextSeq/batch2_Aug62019/mixcr/clones/CLONES_TRBLFS_TCR-4783-PBMC-DNA.txt\n",
      " 6: /Users/anabbi/Desktop/H4H/INTERCEPT/NextSeq/batch2_Aug62019/mixcr/clones/CLONES_TRBLFS_TCR-4783-PBMC-DNA.txt\n",
      " 7: /Users/anabbi/Desktop/H4H/INTERCEPT/NextSeq/batch2_Aug62019/mixcr/clones/CLONES_TRBLFS_TCR-4783-PBMC-DNA.txt\n",
      " 8: /Users/anabbi/Desktop/H4H/INTERCEPT/NextSeq/batch2_Aug62019/mixcr/clones/CLONES_TRBLFS_TCR-4783-PBMC-DNA.txt\n",
      " 9: /Users/anabbi/Desktop/H4H/INTERCEPT/NextSeq/batch2_Aug62019/mixcr/clones/CLONES_TRBLFS_TCR-4783-PBMC-DNA.txt\n",
      "10: /Users/anabbi/Desktop/H4H/INTERCEPT/NextSeq/batch2_Aug62019/mixcr/clones/CLONES_TRBLFS_TCR-4783-PBMC-DNA.txt\n",
      "11: /Users/anabbi/Desktop/H4H/INTERCEPT/NextSeq/batch2_Aug62019/mixcr/clones/CLONES_TRBLFS_TCR-4783-PBMC-DNA.txt\n",
      "12: /Users/anabbi/Desktop/H4H/INTERCEPT/NextSeq/batch2_Aug62019/mixcr/clones/CLONES_TRBLFS_TCR-4783-PBMC-DNA.txt\n",
      "13: /Users/anabbi/Desktop/H4H/INTERCEPT/NextSeq/batch2_Aug62019/mixcr/clones/CLONES_TRBLFS_TCR-4783-PBMC-DNA.txt\n",
      "14: /Users/anabbi/Desktop/H4H/INTERCEPT/NextSeq/batch2_Aug62019/mixcr/clones/CLONES_TRBLFS_TCR-4783-PBMC-DNA.txt\n",
      "15: /Users/anabbi/Desktop/H4H/INTERCEPT/NextSeq/batch2_Aug62019/mixcr/clones/CLONES_TRBLFS_TCR-4783-PBMC-DNA.txt\n",
      "16: /Users/anabbi/Desktop/H4H/INTERCEPT/NextSeq/batch2_Aug62019/mixcr/clones/CLONES_TRBLFS_TCR-4783-PBMC-DNA.txt\n",
      "17: /Users/anabbi/Desktop/H4H/INTERCEPT/NextSeq/batch2_Aug62019/mixcr/clones/CLONES_TRBLFS_TCR-4783-PBMC-DNA.txt\n",
      "18: /Users/anabbi/Desktop/H4H/INTERCEPT/NextSeq/batch2_Aug62019/mixcr/clones/CLONES_TRBLFS_TCR-4783-PBMC-DNA.txt\n",
      "19: /Users/anabbi/Desktop/H4H/INTERCEPT/NextSeq/batch2_Aug62019/mixcr/clones/CLONES_TRBLFS_TCR-4783-PBMC-DNA.txt\n",
      "20: /Users/anabbi/Desktop/H4H/INTERCEPT/NextSeq/batch2_Aug62019/mixcr/clones/CLONES_TRBLFS_TCR-4783-PBMC-DNA.txt\n",
      "21: /Users/anabbi/Desktop/H4H/INTERCEPT/NextSeq/batch2_Aug62019/mixcr/clones/CLONES_TRBLFS_TCR-4783-PBMC-DNA.txt\n",
      "22: /Users/anabbi/Desktop/H4H/INTERCEPT/NextSeq/batch2_Aug62019/mixcr/clones/CLONES_TRBLFS_TCR-4783-PBMC-DNA.txt\n",
      "23: /Users/anabbi/Desktop/H4H/INTERCEPT/NextSeq/batch2_Aug62019/mixcr/clones/CLONES_TRBLFS_TCR-4783-PBMC-DNA.txt\n",
      "24: /Users/anabbi/Desktop/H4H/INTERCEPT/NextSeq/batch2_Aug62019/mixcr/clones/CLONES_TRBLFS_TCR-4783-PBMC-DNA.txt\n",
      "25: /Users/anabbi/Desktop/H4H/INTERCEPT/NextSeq/batch2_Aug62019/mixcr/clones/CLONES_TRBLFS_TCR-4783-PBMC-DNA.txt\n",
      "26: /Users/anabbi/Desktop/H4H/INTERCEPT/NextSeq/batch2_Aug62019/mixcr/clones/CLONES_TRBLFS_TCR-4783-PBMC-DNA.txt\n",
      "27: /Users/anabbi/Desktop/H4H/INTERCEPT/NextSeq/batch2_Aug62019/mixcr/clones/CLONES_TRBLFS_TCR-4783-PBMC-DNA.txt\n",
      "28: /Users/anabbi/Desktop/H4H/INTERCEPT/NextSeq/batch2_Aug62019/mixcr/clones/CLONES_TRBLFS_TCR-4783-PBMC-DNA.txt\n",
      "29: /Users/anabbi/Desktop/H4H/INTERCEPT/NextSeq/batch2_Aug62019/mixcr/clones/CLONES_TRBLFS_TCR-4783-PBMC-DNA.txt\n",
      "30: /Users/anabbi/Desktop/H4H/INTERCEPT/NextSeq/batch2_Aug62019/mixcr/clones/CLONES_TRBLFS_TCR-4783-PBMC-DNA.txt\n",
      "31: /Users/anabbi/Desktop/H4H/INTERCEPT/NextSeq/batch2_Aug62019/mixcr/clones/CLONES_TRBLFS_TCR-4783-PBMC-DNA.txt\n",
      "32: /Users/anabbi/Desktop/H4H/INTERCEPT/NextSeq/batch2_Aug62019/mixcr/clones/CLONES_TRBLFS_TCR-4783-PBMC-DNA.txt\n",
      "33: /Users/anabbi/Desktop/H4H/INTERCEPT/NextSeq/batch2_Aug62019/mixcr/clones/CLONES_TRBLFS_TCR-4783-PBMC-DNA.txt\n",
      "34: /Users/anabbi/Desktop/H4H/INTERCEPT/NextSeq/batch2_Aug62019/mixcr/clones/CLONES_TRBLFS_TCR-4783-PBMC-DNA.txt\n",
      "35: /Users/anabbi/Desktop/H4H/INTERCEPT/NextSeq/batch2_Aug62019/mixcr/clones/CLONES_TRBLFS_TCR-4783-PBMC-DNA.txt\n",
      "36: /Users/anabbi/Desktop/H4H/INTERCEPT/NextSeq/batch2_Aug62019/mixcr/clones/CLONES_TRBLFS_TCR-4783-PBMC-DNA.txt\n",
      "37: /Users/anabbi/Desktop/H4H/INTERCEPT/NextSeq/batch2_Aug62019/mixcr/clones/CLONES_TRBLFS_TCR-4783-PBMC-DNA.txt\n",
      "38: /Users/anabbi/Desktop/H4H/INTERCEPT/NextSeq/batch2_Aug62019/mixcr/clones/CLONES_TRBLFS_TCR-4783-PBMC-DNA.txt\n",
      "39: /Users/anabbi/Desktop/H4H/INTERCEPT/NextSeq/batch2_Aug62019/mixcr/clones/CLONES_TRBLFS_TCR-4783-PBMC-DNA.txt\n",
      "40: /Users/anabbi/Desktop/H4H/INTERCEPT/NextSeq/batch2_Aug62019/mixcr/clones/CLONES_TRBLFS_TCR-4783-PBMC-DNA.txt\n",
      "41: /Users/anabbi/Desktop/H4H/INTERCEPT/NextSeq/batch2_Aug62019/mixcr/clones/CLONES_TRBLFS_TCR-4783-PBMC-DNA.txt\n",
      "42: /Users/anabbi/Desktop/H4H/INTERCEPT/NextSeq/batch2_Aug62019/mixcr/clones/CLONES_TRBLFS_TCR-4783-PBMC-DNA.txt\n",
      "43: /Users/anabbi/Desktop/H4H/INTERCEPT/NextSeq/batch2_Aug62019/mixcr/clones/CLONES_TRBLFS_TCR-4783-PBMC-DNA.txt\n",
      "44: /Users/anabbi/Desktop/H4H/INTERCEPT/NextSeq/batch2_Aug62019/mixcr/clones/CLONES_TRBLFS_TCR-4783-PBMC-DNA.txt\n",
      "45: /Users/anabbi/Desktop/H4H/INTERCEPT/NextSeq/batch2_Aug62019/mixcr/clones/CLONES_TRBLFS_TCR-4783-PBMC-DNA.txt\n",
      "46: /Users/anabbi/Desktop/H4H/INTERCEPT/NextSeq/batch2_Aug62019/mixcr/clones/CLONES_TRBLFS_TCR-4783-PBMC-DNA.txt\n",
      "47: /Users/anabbi/Desktop/H4H/INTERCEPT/NextSeq/batch2_Aug62019/mixcr/clones/CLONES_TRBLFS_TCR-4783-PBMC-DNA.txt\n",
      "48: /Users/anabbi/Desktop/H4H/INTERCEPT/NextSeq/batch2_Aug62019/mixcr/clones/CLONES_TRBLFS_TCR-4783-PBMC-DNA.txt\n",
      "49: /Users/anabbi/Desktop/H4H/INTERCEPT/NextSeq/batch2_Aug62019/mixcr/clones/CLONES_TRBLFS_TCR-4783-PBMC-DNA.txt\n",
      "50: /Users/anabbi/Desktop/H4H/INTERCEPT/NextSeq/batch2_Aug62019/mixcr/clones/CLONES_TRBLFS_TCR-4783-PBMC-DNA.txt\n",
      "51: /Users/anabbi/Desktop/H4H/INTERCEPT/NextSeq/batch2_Aug62019/mixcr/clones/CLONES_TRBLFS_TCR-4783-PBMC-DNA.txt\n",
      "52: /Users/anabbi/Desktop/H4H/INTERCEPT/NextSeq/batch2_Aug62019/mixcr/clones/CLONES_TRBLFS_TCR-4783-PBMC-DNA.txt\n",
      "53: /Users/anabbi/Desktop/H4H/INTERCEPT/NextSeq/batch2_Aug62019/mixcr/clones/CLONES_TRBLFS_TCR-4783-PBMC-DNA.txt\n",
      "54: /Users/anabbi/Desktop/H4H/INTERCEPT/NextSeq/batch2_Aug62019/mixcr/clones/CLONES_TRBLFS_TCR-4783-PBMC-DNA.txt\n",
      "                                                                                                            file\n",
      "    count\n",
      " 1:     4\n",
      " 2:     6\n",
      " 3:     1\n",
      " 4:     2\n",
      " 5:     7\n",
      " 6:     7\n",
      " 7:     2\n",
      " 8:     1\n",
      " 9:     2\n",
      "10:     3\n",
      "11:    14\n",
      "12:     6\n",
      "13:     3\n",
      "14:     7\n",
      "15:     3\n",
      "16:     4\n",
      "17:     5\n",
      "18:     2\n",
      "19:     2\n",
      "20:    11\n",
      "21:     2\n",
      "22:     6\n",
      "23:     7\n",
      "24:     2\n",
      "25:     4\n",
      "26:     1\n",
      "27:     9\n",
      "28:     3\n",
      "29:     2\n",
      "30:     4\n",
      "31:     3\n",
      "32:     2\n",
      "33:     2\n",
      "34:     2\n",
      "35:     1\n",
      "36:     4\n",
      "37:     2\n",
      "38:     2\n",
      "39:     3\n",
      "40:     3\n",
      "41:     1\n",
      "42:     2\n",
      "43:     2\n",
      "44:     4\n",
      "45:     5\n",
      "46:     1\n",
      "47:     5\n",
      "48:     4\n",
      "49:     3\n",
      "50:     7\n",
      "51:     1\n",
      "52:     3\n",
      "53:     6\n",
      "54:     2\n",
      "    count\n",
      "                 CDR3b     TRBV    TRBJ               subject\n",
      "  1:     CAIKDRALDTIYF TRBV10-3 TRBJ1-3 LFS_TCR-4837-PBMC-DNA\n",
      "  2:      CAISEGQNRKFF TRBV10-3 TRBJ2-1 LFS_TCR-4837-PBMC-DNA\n",
      "  3:  CAISERDRGDTGELFF TRBV10-3 TRBJ2-2 LFS_TCR-4837-PBMC-DNA\n",
      "  4:  CAISESGGGALNEQFF TRBV10-3 TRBJ2-1 LFS_TCR-4837-PBMC-DNA\n",
      "  5:    CARNLRAFPNEQFF   TRBV27 TRBJ2-1 LFS_TCR-4837-PBMC-DNA\n",
      " ---                                                         \n",
      "201:  CSVTGLAGARYNEQFF TRBV29-1 TRBJ2-1 LFS_TCR-4837-PBMC-DNA\n",
      "202: CTSSQDSPVGASKPQHF    TRBV1 TRBJ1-5 LFS_TCR-4837-PBMC-DNA\n",
      "203:    CVSSLGPIKGEAFF  TRBV5-8 TRBJ1-1 LFS_TCR-4837-PBMC-DNA\n",
      "204:  CVSSYDGGGTGNTIYF  TRBV6-5 TRBJ1-3 LFS_TCR-4837-PBMC-DNA\n",
      "205:    FASSETGAYNEQFF TRBV10-1 TRBJ2-1 LFS_TCR-4837-PBMC-DNA\n",
      "                                                                                                             file\n",
      "  1: /Users/anabbi/Desktop/H4H/INTERCEPT/NextSeq/batch2_Aug62019/mixcr/clones/CLONES_TRBLFS_TCR-4837-PBMC-DNA.txt\n",
      "  2: /Users/anabbi/Desktop/H4H/INTERCEPT/NextSeq/batch2_Aug62019/mixcr/clones/CLONES_TRBLFS_TCR-4837-PBMC-DNA.txt\n",
      "  3: /Users/anabbi/Desktop/H4H/INTERCEPT/NextSeq/batch2_Aug62019/mixcr/clones/CLONES_TRBLFS_TCR-4837-PBMC-DNA.txt\n",
      "  4: /Users/anabbi/Desktop/H4H/INTERCEPT/NextSeq/batch2_Aug62019/mixcr/clones/CLONES_TRBLFS_TCR-4837-PBMC-DNA.txt\n",
      "  5: /Users/anabbi/Desktop/H4H/INTERCEPT/NextSeq/batch2_Aug62019/mixcr/clones/CLONES_TRBLFS_TCR-4837-PBMC-DNA.txt\n",
      " ---                                                                                                             \n",
      "201: /Users/anabbi/Desktop/H4H/INTERCEPT/NextSeq/batch2_Aug62019/mixcr/clones/CLONES_TRBLFS_TCR-4837-PBMC-DNA.txt\n",
      "202: /Users/anabbi/Desktop/H4H/INTERCEPT/NextSeq/batch2_Aug62019/mixcr/clones/CLONES_TRBLFS_TCR-4837-PBMC-DNA.txt\n",
      "203: /Users/anabbi/Desktop/H4H/INTERCEPT/NextSeq/batch2_Aug62019/mixcr/clones/CLONES_TRBLFS_TCR-4837-PBMC-DNA.txt\n",
      "204: /Users/anabbi/Desktop/H4H/INTERCEPT/NextSeq/batch2_Aug62019/mixcr/clones/CLONES_TRBLFS_TCR-4837-PBMC-DNA.txt\n",
      "205: /Users/anabbi/Desktop/H4H/INTERCEPT/NextSeq/batch2_Aug62019/mixcr/clones/CLONES_TRBLFS_TCR-4837-PBMC-DNA.txt\n",
      "     count\n",
      "  1:     6\n",
      "  2:    11\n",
      "  3:     2\n",
      "  4:     1\n",
      "  5:     1\n",
      " ---      \n",
      "201:     1\n",
      "202:     3\n",
      "203:     1\n",
      "204:     1\n",
      "205:     2\n",
      "                 CDR3b     TRBV    TRBJ               subject\n",
      "  1: CACTITRKLSGANVLTF   TRBV30 TRBJ2-6 LFS_TCR-4838-PBMC-DNA\n",
      "  2:   CAIRGTGAANEKLFF TRBV10-3 TRBJ1-4 LFS_TCR-4838-PBMC-DNA\n",
      "  3:   CAISEPLLFGAGYTF TRBV10-3 TRBJ1-2 LFS_TCR-4838-PBMC-DNA\n",
      "  4:      CASAGSYNEQFF   TRBV19 TRBJ2-1 LFS_TCR-4838-PBMC-DNA\n",
      "  5:      CASESGLGEQFF   TRBV28 TRBJ2-1 LFS_TCR-4838-PBMC-DNA\n",
      " ---                                                         \n",
      "137:     CSASPRGTYGYTF TRBV20-1 TRBJ1-2 LFS_TCR-4838-PBMC-DNA\n",
      "138: CSATFWLRGRDTDTQYF TRBV20-1 TRBJ2-3 LFS_TCR-4838-PBMC-DNA\n",
      "139:    CSIFDTGSSYEQYF TRBV20-1 TRBJ2-7 LFS_TCR-4838-PBMC-DNA\n",
      "140:  CSVEKALEARDTEAFF TRBV29-1 TRBJ1-1 LFS_TCR-4838-PBMC-DNA\n",
      "141:    CSVGGGRSPGELFF TRBV29-1 TRBJ2-2 LFS_TCR-4838-PBMC-DNA\n",
      "                                                                                                             file\n",
      "  1: /Users/anabbi/Desktop/H4H/INTERCEPT/NextSeq/batch2_Aug62019/mixcr/clones/CLONES_TRBLFS_TCR-4838-PBMC-DNA.txt\n",
      "  2: /Users/anabbi/Desktop/H4H/INTERCEPT/NextSeq/batch2_Aug62019/mixcr/clones/CLONES_TRBLFS_TCR-4838-PBMC-DNA.txt\n",
      "  3: /Users/anabbi/Desktop/H4H/INTERCEPT/NextSeq/batch2_Aug62019/mixcr/clones/CLONES_TRBLFS_TCR-4838-PBMC-DNA.txt\n",
      "  4: /Users/anabbi/Desktop/H4H/INTERCEPT/NextSeq/batch2_Aug62019/mixcr/clones/CLONES_TRBLFS_TCR-4838-PBMC-DNA.txt\n",
      "  5: /Users/anabbi/Desktop/H4H/INTERCEPT/NextSeq/batch2_Aug62019/mixcr/clones/CLONES_TRBLFS_TCR-4838-PBMC-DNA.txt\n",
      " ---                                                                                                             \n",
      "137: /Users/anabbi/Desktop/H4H/INTERCEPT/NextSeq/batch2_Aug62019/mixcr/clones/CLONES_TRBLFS_TCR-4838-PBMC-DNA.txt\n",
      "138: /Users/anabbi/Desktop/H4H/INTERCEPT/NextSeq/batch2_Aug62019/mixcr/clones/CLONES_TRBLFS_TCR-4838-PBMC-DNA.txt\n",
      "139: /Users/anabbi/Desktop/H4H/INTERCEPT/NextSeq/batch2_Aug62019/mixcr/clones/CLONES_TRBLFS_TCR-4838-PBMC-DNA.txt\n",
      "140: /Users/anabbi/Desktop/H4H/INTERCEPT/NextSeq/batch2_Aug62019/mixcr/clones/CLONES_TRBLFS_TCR-4838-PBMC-DNA.txt\n",
      "141: /Users/anabbi/Desktop/H4H/INTERCEPT/NextSeq/batch2_Aug62019/mixcr/clones/CLONES_TRBLFS_TCR-4838-PBMC-DNA.txt\n",
      "     count\n",
      "  1:     2\n",
      "  2:     6\n",
      "  3:     2\n",
      "  4:     7\n",
      "  5:     2\n",
      " ---      \n",
      "137:     2\n",
      "138:     3\n",
      "139:     3\n",
      "140:     8\n",
      "141:     4\n",
      "                 CDR3b     TRBV    TRBJ               subject\n",
      "  1:         CAAGEKLFF   TRBV28 TRBJ1-4 LFS_TCR-5014-PBMC-DNA\n",
      "  2:        CAFRVEEQFF   TRBV30 TRBJ2-1 LFS_TCR-5014-PBMC-DNA\n",
      "  3:       CAISEIKEQYF TRBV10-3 TRBJ2-7 LFS_TCR-5014-PBMC-DNA\n",
      "  4:    CAISRGPITGELFF TRBV10-3 TRBJ2-2 LFS_TCR-5014-PBMC-DNA\n",
      "  5: CAISVWAWAVSSYEQYF TRBV10-3 TRBJ2-7 LFS_TCR-5014-PBMC-DNA\n",
      " ---                                                         \n",
      "138:    CSTLERGGPDTQYF TRBV20-1 TRBJ2-3 LFS_TCR-5014-PBMC-DNA\n",
      "139:       CSVEALSEQYF TRBV29-1 TRBJ2-7 LFS_TCR-5014-PBMC-DNA\n",
      "140:  CSVEGPDRVGTGELFF TRBV29-1 TRBJ2-2 LFS_TCR-5014-PBMC-DNA\n",
      "141:      CSVVGHSYEQYF TRBV29-1 TRBJ2-7 LFS_TCR-5014-PBMC-DNA\n",
      "142:   RASSSTTTDSYEQYF  TRBV7-9 TRBJ2-7 LFS_TCR-5014-PBMC-DNA\n",
      "                                                                                                             file\n",
      "  1: /Users/anabbi/Desktop/H4H/INTERCEPT/NextSeq/batch2_Aug62019/mixcr/clones/CLONES_TRBLFS_TCR-5014-PBMC-DNA.txt\n",
      "  2: /Users/anabbi/Desktop/H4H/INTERCEPT/NextSeq/batch2_Aug62019/mixcr/clones/CLONES_TRBLFS_TCR-5014-PBMC-DNA.txt\n",
      "  3: /Users/anabbi/Desktop/H4H/INTERCEPT/NextSeq/batch2_Aug62019/mixcr/clones/CLONES_TRBLFS_TCR-5014-PBMC-DNA.txt\n",
      "  4: /Users/anabbi/Desktop/H4H/INTERCEPT/NextSeq/batch2_Aug62019/mixcr/clones/CLONES_TRBLFS_TCR-5014-PBMC-DNA.txt\n",
      "  5: /Users/anabbi/Desktop/H4H/INTERCEPT/NextSeq/batch2_Aug62019/mixcr/clones/CLONES_TRBLFS_TCR-5014-PBMC-DNA.txt\n",
      " ---                                                                                                             \n",
      "138: /Users/anabbi/Desktop/H4H/INTERCEPT/NextSeq/batch2_Aug62019/mixcr/clones/CLONES_TRBLFS_TCR-5014-PBMC-DNA.txt\n",
      "139: /Users/anabbi/Desktop/H4H/INTERCEPT/NextSeq/batch2_Aug62019/mixcr/clones/CLONES_TRBLFS_TCR-5014-PBMC-DNA.txt\n",
      "140: /Users/anabbi/Desktop/H4H/INTERCEPT/NextSeq/batch2_Aug62019/mixcr/clones/CLONES_TRBLFS_TCR-5014-PBMC-DNA.txt\n",
      "141: /Users/anabbi/Desktop/H4H/INTERCEPT/NextSeq/batch2_Aug62019/mixcr/clones/CLONES_TRBLFS_TCR-5014-PBMC-DNA.txt\n",
      "142: /Users/anabbi/Desktop/H4H/INTERCEPT/NextSeq/batch2_Aug62019/mixcr/clones/CLONES_TRBLFS_TCR-5014-PBMC-DNA.txt\n",
      "     count\n",
      "  1:    32\n",
      "  2:     5\n",
      "  3:    39\n",
      "  4:     3\n",
      "  5:     2\n",
      " ---      \n",
      "138:     5\n",
      "139:     3\n",
      "140:     6\n",
      "141:     2\n",
      "142:     1\n",
      "                   CDR3b     TRBV    TRBJ               subject\n",
      "  1:       CAATSGDQETQYF TRBV10-3 TRBJ2-5 LFS_TCR-5067-PBMC-DNA\n",
      "  2:      CAISEGSLYNEQFF TRBV10-3 TRBJ2-1 LFS_TCR-5067-PBMC-DNA\n",
      "  3: CAISERLGGLSSIAETQYF TRBV10-3 TRBJ2-5 LFS_TCR-5067-PBMC-DNA\n",
      "  4:     CAISESEVGIYGYTF TRBV10-3 TRBJ1-2 LFS_TCR-5067-PBMC-DNA\n",
      "  5:     CAISESRLAGLEQYF TRBV10-3 TRBJ2-7 LFS_TCR-5067-PBMC-DNA\n",
      " ---                                                           \n",
      "197:        CSASRAQETQYF TRBV20-1 TRBJ2-5 LFS_TCR-5067-PBMC-DNA\n",
      "198:     CSATGQGAFNYGYTF TRBV20-1 TRBJ1-2 LFS_TCR-5067-PBMC-DNA\n",
      "199:      CSGSRGGGGNEQYF TRBV29-1 TRBJ2-7 LFS_TCR-5067-PBMC-DNA\n",
      "200:       CSVGFSPNTEAFF TRBV29-1 TRBJ1-1 LFS_TCR-5067-PBMC-DNA\n",
      "201:    RASSFFSSTDEETQYF  TRBV7-3 TRBJ2-5 LFS_TCR-5067-PBMC-DNA\n",
      "                                                                                                             file\n",
      "  1: /Users/anabbi/Desktop/H4H/INTERCEPT/NextSeq/batch2_Aug62019/mixcr/clones/CLONES_TRBLFS_TCR-5067-PBMC-DNA.txt\n",
      "  2: /Users/anabbi/Desktop/H4H/INTERCEPT/NextSeq/batch2_Aug62019/mixcr/clones/CLONES_TRBLFS_TCR-5067-PBMC-DNA.txt\n",
      "  3: /Users/anabbi/Desktop/H4H/INTERCEPT/NextSeq/batch2_Aug62019/mixcr/clones/CLONES_TRBLFS_TCR-5067-PBMC-DNA.txt\n",
      "  4: /Users/anabbi/Desktop/H4H/INTERCEPT/NextSeq/batch2_Aug62019/mixcr/clones/CLONES_TRBLFS_TCR-5067-PBMC-DNA.txt\n",
      "  5: /Users/anabbi/Desktop/H4H/INTERCEPT/NextSeq/batch2_Aug62019/mixcr/clones/CLONES_TRBLFS_TCR-5067-PBMC-DNA.txt\n",
      " ---                                                                                                             \n",
      "197: /Users/anabbi/Desktop/H4H/INTERCEPT/NextSeq/batch2_Aug62019/mixcr/clones/CLONES_TRBLFS_TCR-5067-PBMC-DNA.txt\n",
      "198: /Users/anabbi/Desktop/H4H/INTERCEPT/NextSeq/batch2_Aug62019/mixcr/clones/CLONES_TRBLFS_TCR-5067-PBMC-DNA.txt\n",
      "199: /Users/anabbi/Desktop/H4H/INTERCEPT/NextSeq/batch2_Aug62019/mixcr/clones/CLONES_TRBLFS_TCR-5067-PBMC-DNA.txt\n",
      "200: /Users/anabbi/Desktop/H4H/INTERCEPT/NextSeq/batch2_Aug62019/mixcr/clones/CLONES_TRBLFS_TCR-5067-PBMC-DNA.txt\n",
      "201: /Users/anabbi/Desktop/H4H/INTERCEPT/NextSeq/batch2_Aug62019/mixcr/clones/CLONES_TRBLFS_TCR-5067-PBMC-DNA.txt\n",
      "     count\n",
      "  1:     2\n",
      "  2:    15\n",
      "  3:     2\n",
      "  4:     4\n",
      "  5:     2\n",
      " ---      \n",
      "197:     5\n",
      "198:     5\n",
      "199:     1\n",
      "200:    14\n",
      "201:     1\n"
     ]
    }
   ],
   "source": [
    "taball_list <- list()\n",
    "\n",
    "for(p in unique(file_df_dedup_trb$Patient)){\n",
    "    \n",
    "    mypatient <- file_df_dedup_trb[ file_df_dedup_trb$Patient == p,]\n",
    "    \n",
    "    myplist <- list()\n",
    "    for(i in 1:nrow(mypatient)){\n",
    "        onefle <- read.table(paste0(h4hpath, mypatient$file_list[i]), sep = \"\\t\", header = TRUE, stringsAsFactors = F)  \n",
    "        # Remove non-productive\n",
    "        onefle <- onefle[!grepl(\"_\", onefle$aaSeqCDR3),]\n",
    "        onefle <- onefle[!grepl(\"[*]\", onefle$aaSeqCDR3),]\n",
    "        onefle$CDR3b <- onefle$aaSeqCDR3\n",
    "        #next if the file has no productive cdr3\n",
    "        if(nrow(onefle) == 0){ next}\n",
    "        #remove scores\n",
    "        onefle$TRBV <- gsub(\"[*]0.*\", \"\", onefle$allVHitsWithScore)\n",
    "        onefle$TRBJ <- gsub(\"[*]0.*\", \"\", onefle$allJHitsWithScore)\n",
    "        #remove extra long cdr3s\n",
    "        onefle <- onefle[ nchar(onefle$aaSeqCDR3) <= 25,]\n",
    "        #next if the file has no productive cdr3\n",
    "        if(nrow(onefle) == 0){ next}\n",
    "        onefle$count <- onefle$cloneCount\n",
    "        onefle$clonefraction <- onefle$cloneFraction\n",
    "        onefle$file <- paste0(h4hpath, mypatient$file_list[i])\n",
    "        onefle$samplename <- mypatient$samplename[i]\n",
    "    \n",
    "        onefle1 <- toString_onefle.fx(onefle, \"nSeqCDR3\")\n",
    "    \n",
    "        myplist[length(myplist) + 1] <- list(onefle1[,c(\"CDR3b\", \"TRBV\", \"TRBJ\", \"samplename\", \n",
    "                                                     \"count.y\", \"clonefraction\",\"tostringvar\", \"file\")])\n",
    "    }\n",
    "    gliph_input <- do.call(\"rbind\", myplist)\n",
    "\n",
    "    colnames(gliph_input)[ colnames(gliph_input) == \"tostringvar\"] <- \"nSeqCDR3\"\n",
    "    colnames(gliph_input)[ colnames(gliph_input) == \"count.y\"] <- \"count\"\n",
    "\n",
    "    #bind those with the same cdr3 + TRBV\n",
    "    setDT(gliph_input)\n",
    "\n",
    "    ab <- gliph_input[, .(subject = toString(samplename), #bind subjects\n",
    "                          file = toString(file), #bind filenames\n",
    "                          count = sum(count)),  #get sum of counts\n",
    "                      by = c(\"CDR3b\", \"TRBV\", \"TRBJ\")] #get duplicates sequences with the same cdr3 + TRBV + TRBJ\n",
    "\n",
    "\n",
    "    gliph_input_ab <- merge(gliph_input, ab, by = c(\"CDR3b\",\"TRBV\",\"TRBJ\")) # merge together\n",
    "\n",
    "    #dedup\n",
    "    gliph_input_ab_dedup <- dplyr::distinct(gliph_input_ab, CDR3b, TRBV, TRBJ, subject, .keep_all= TRUE)\n",
    "\n",
    "\n",
    "    taball_list[length(taball_list) + 1] <- list(gliph_input_ab_dedup[,c(\"CDR3b\", \"TRBV\", \"TRBJ\", \"subject\", \n",
    "                                                     \"count.y\", \"clonefraction\",\"file.y\")])\n",
    "\n",
    "    }"
   ]
  },
  {
   "cell_type": "code",
   "execution_count": 31,
   "metadata": {
    "vscode": {
     "languageId": "r"
    }
   },
   "outputs": [],
   "source": [
    "taball <- do.call(\"rbind\", taball_list)"
   ]
  },
  {
   "cell_type": "code",
   "execution_count": 32,
   "metadata": {
    "vscode": {
     "languageId": "r"
    }
   },
   "outputs": [],
   "source": [
    "#some cleanup\n",
    "#taball$`subject:condition` <- substr(taball$subject, 1, 7)\n",
    "colnames(taball)[ colnames(taball) == \"count.y\"] <- \"count\"\n",
    "colnames(taball)[ colnames(taball) == \"file.y\"] <- \"file\""
   ]
  },
  {
   "cell_type": "code",
   "execution_count": 33,
   "metadata": {
    "vscode": {
     "languageId": "r"
    }
   },
   "outputs": [],
   "source": [
    "taball$`subject:condition` <- meta_div$Patient[match(taball$subject, meta_div$basename)]"
   ]
  },
  {
   "cell_type": "code",
   "execution_count": 34,
   "metadata": {
    "vscode": {
     "languageId": "r"
    }
   },
   "outputs": [
    {
     "data": {
      "text/html": [
       "<table class=\"dataframe\">\n",
       "<caption>A data.table: 6 x 8</caption>\n",
       "<thead>\n",
       "\t<tr><th scope=col>CDR3b</th><th scope=col>TRBV</th><th scope=col>TRBJ</th><th scope=col>subject</th><th scope=col>count</th><th scope=col>clonefraction</th><th scope=col>file</th><th scope=col>subject:condition</th></tr>\n",
       "\t<tr><th scope=col>&lt;chr&gt;</th><th scope=col>&lt;chr&gt;</th><th scope=col>&lt;chr&gt;</th><th scope=col>&lt;chr&gt;</th><th scope=col>&lt;int&gt;</th><th scope=col>&lt;dbl&gt;</th><th scope=col>&lt;chr&gt;</th><th scope=col>&lt;chr&gt;</th></tr>\n",
       "</thead>\n",
       "<tbody>\n",
       "\t<tr><td>CAIEGSSYNSPLHF</td><td>TRBV10-3</td><td>TRBJ1-6</td><td>CHP_350-01-PBMC-DNA</td><td> 9</td><td>0.003945638</td><td>/Users/anabbi/Desktop/H4H/INTERCEPT/NextSeq/batch_reseq_24Feb2020/mixcr/clones/CLONES_TRBCHP_350-01-PBMC-DNA.txt</td><td>CHP_350</td></tr>\n",
       "\t<tr><td>CASFDGGGVGAFF </td><td>TRBV25-1</td><td>TRBJ1-1</td><td>CHP_350-01-PBMC-DNA</td><td>11</td><td>0.004822446</td><td>/Users/anabbi/Desktop/H4H/INTERCEPT/NextSeq/batch_reseq_24Feb2020/mixcr/clones/CLONES_TRBCHP_350-01-PBMC-DNA.txt</td><td>CHP_350</td></tr>\n",
       "\t<tr><td>CASGASYNEQFF  </td><td>TRBV12-4</td><td>TRBJ2-1</td><td>CHP_350-01-PBMC-DNA</td><td> 5</td><td>0.002192021</td><td>/Users/anabbi/Desktop/H4H/INTERCEPT/NextSeq/batch_reseq_24Feb2020/mixcr/clones/CLONES_TRBCHP_350-01-PBMC-DNA.txt</td><td>CHP_350</td></tr>\n",
       "\t<tr><td>CASGHSSYNEQFF </td><td>TRBV5-6 </td><td>TRBJ2-1</td><td>CHP_350-01-PBMC-DNA</td><td> 6</td><td>0.002630425</td><td>/Users/anabbi/Desktop/H4H/INTERCEPT/NextSeq/batch_reseq_24Feb2020/mixcr/clones/CLONES_TRBCHP_350-01-PBMC-DNA.txt</td><td>CHP_350</td></tr>\n",
       "\t<tr><td>CASNLKGRVGGYTF</td><td>TRBV28  </td><td>TRBJ1-2</td><td>CHP_350-01-PBMC-DNA</td><td>12</td><td>0.005260851</td><td>/Users/anabbi/Desktop/H4H/INTERCEPT/NextSeq/batch_reseq_24Feb2020/mixcr/clones/CLONES_TRBCHP_350-01-PBMC-DNA.txt</td><td>CHP_350</td></tr>\n",
       "\t<tr><td>CASRDTSFTEAFF </td><td>TRBV2   </td><td>TRBJ1-1</td><td>CHP_350-01-PBMC-DNA</td><td>21</td><td>0.009206488</td><td>/Users/anabbi/Desktop/H4H/INTERCEPT/NextSeq/batch_reseq_24Feb2020/mixcr/clones/CLONES_TRBCHP_350-01-PBMC-DNA.txt</td><td>CHP_350</td></tr>\n",
       "</tbody>\n",
       "</table>\n"
      ],
      "text/latex": [
       "A data.table: 6 x 8\n",
       "\\begin{tabular}{llllllll}\n",
       " CDR3b & TRBV & TRBJ & subject & count & clonefraction & file & subject:condition\\\\\n",
       " <chr> & <chr> & <chr> & <chr> & <int> & <dbl> & <chr> & <chr>\\\\\n",
       "\\hline\n",
       "\t CAIEGSSYNSPLHF & TRBV10-3 & TRBJ1-6 & CHP\\_350-01-PBMC-DNA &  9 & 0.003945638 & /Users/anabbi/Desktop/H4H/INTERCEPT/NextSeq/batch\\_reseq\\_24Feb2020/mixcr/clones/CLONES\\_TRBCHP\\_350-01-PBMC-DNA.txt & CHP\\_350\\\\\n",
       "\t CASFDGGGVGAFF  & TRBV25-1 & TRBJ1-1 & CHP\\_350-01-PBMC-DNA & 11 & 0.004822446 & /Users/anabbi/Desktop/H4H/INTERCEPT/NextSeq/batch\\_reseq\\_24Feb2020/mixcr/clones/CLONES\\_TRBCHP\\_350-01-PBMC-DNA.txt & CHP\\_350\\\\\n",
       "\t CASGASYNEQFF   & TRBV12-4 & TRBJ2-1 & CHP\\_350-01-PBMC-DNA &  5 & 0.002192021 & /Users/anabbi/Desktop/H4H/INTERCEPT/NextSeq/batch\\_reseq\\_24Feb2020/mixcr/clones/CLONES\\_TRBCHP\\_350-01-PBMC-DNA.txt & CHP\\_350\\\\\n",
       "\t CASGHSSYNEQFF  & TRBV5-6  & TRBJ2-1 & CHP\\_350-01-PBMC-DNA &  6 & 0.002630425 & /Users/anabbi/Desktop/H4H/INTERCEPT/NextSeq/batch\\_reseq\\_24Feb2020/mixcr/clones/CLONES\\_TRBCHP\\_350-01-PBMC-DNA.txt & CHP\\_350\\\\\n",
       "\t CASNLKGRVGGYTF & TRBV28   & TRBJ1-2 & CHP\\_350-01-PBMC-DNA & 12 & 0.005260851 & /Users/anabbi/Desktop/H4H/INTERCEPT/NextSeq/batch\\_reseq\\_24Feb2020/mixcr/clones/CLONES\\_TRBCHP\\_350-01-PBMC-DNA.txt & CHP\\_350\\\\\n",
       "\t CASRDTSFTEAFF  & TRBV2    & TRBJ1-1 & CHP\\_350-01-PBMC-DNA & 21 & 0.009206488 & /Users/anabbi/Desktop/H4H/INTERCEPT/NextSeq/batch\\_reseq\\_24Feb2020/mixcr/clones/CLONES\\_TRBCHP\\_350-01-PBMC-DNA.txt & CHP\\_350\\\\\n",
       "\\end{tabular}\n"
      ],
      "text/markdown": [
       "\n",
       "A data.table: 6 x 8\n",
       "\n",
       "| CDR3b &lt;chr&gt; | TRBV &lt;chr&gt; | TRBJ &lt;chr&gt; | subject &lt;chr&gt; | count &lt;int&gt; | clonefraction &lt;dbl&gt; | file &lt;chr&gt; | subject:condition &lt;chr&gt; |\n",
       "|---|---|---|---|---|---|---|---|\n",
       "| CAIEGSSYNSPLHF | TRBV10-3 | TRBJ1-6 | CHP_350-01-PBMC-DNA |  9 | 0.003945638 | /Users/anabbi/Desktop/H4H/INTERCEPT/NextSeq/batch_reseq_24Feb2020/mixcr/clones/CLONES_TRBCHP_350-01-PBMC-DNA.txt | CHP_350 |\n",
       "| CASFDGGGVGAFF  | TRBV25-1 | TRBJ1-1 | CHP_350-01-PBMC-DNA | 11 | 0.004822446 | /Users/anabbi/Desktop/H4H/INTERCEPT/NextSeq/batch_reseq_24Feb2020/mixcr/clones/CLONES_TRBCHP_350-01-PBMC-DNA.txt | CHP_350 |\n",
       "| CASGASYNEQFF   | TRBV12-4 | TRBJ2-1 | CHP_350-01-PBMC-DNA |  5 | 0.002192021 | /Users/anabbi/Desktop/H4H/INTERCEPT/NextSeq/batch_reseq_24Feb2020/mixcr/clones/CLONES_TRBCHP_350-01-PBMC-DNA.txt | CHP_350 |\n",
       "| CASGHSSYNEQFF  | TRBV5-6  | TRBJ2-1 | CHP_350-01-PBMC-DNA |  6 | 0.002630425 | /Users/anabbi/Desktop/H4H/INTERCEPT/NextSeq/batch_reseq_24Feb2020/mixcr/clones/CLONES_TRBCHP_350-01-PBMC-DNA.txt | CHP_350 |\n",
       "| CASNLKGRVGGYTF | TRBV28   | TRBJ1-2 | CHP_350-01-PBMC-DNA | 12 | 0.005260851 | /Users/anabbi/Desktop/H4H/INTERCEPT/NextSeq/batch_reseq_24Feb2020/mixcr/clones/CLONES_TRBCHP_350-01-PBMC-DNA.txt | CHP_350 |\n",
       "| CASRDTSFTEAFF  | TRBV2    | TRBJ1-1 | CHP_350-01-PBMC-DNA | 21 | 0.009206488 | /Users/anabbi/Desktop/H4H/INTERCEPT/NextSeq/batch_reseq_24Feb2020/mixcr/clones/CLONES_TRBCHP_350-01-PBMC-DNA.txt | CHP_350 |\n",
       "\n"
      ],
      "text/plain": [
       "  CDR3b          TRBV     TRBJ    subject             count clonefraction\n",
       "1 CAIEGSSYNSPLHF TRBV10-3 TRBJ1-6 CHP_350-01-PBMC-DNA  9    0.003945638  \n",
       "2 CASFDGGGVGAFF  TRBV25-1 TRBJ1-1 CHP_350-01-PBMC-DNA 11    0.004822446  \n",
       "3 CASGASYNEQFF   TRBV12-4 TRBJ2-1 CHP_350-01-PBMC-DNA  5    0.002192021  \n",
       "4 CASGHSSYNEQFF  TRBV5-6  TRBJ2-1 CHP_350-01-PBMC-DNA  6    0.002630425  \n",
       "5 CASNLKGRVGGYTF TRBV28   TRBJ1-2 CHP_350-01-PBMC-DNA 12    0.005260851  \n",
       "6 CASRDTSFTEAFF  TRBV2    TRBJ1-1 CHP_350-01-PBMC-DNA 21    0.009206488  \n",
       "  file                                                                                                            \n",
       "1 /Users/anabbi/Desktop/H4H/INTERCEPT/NextSeq/batch_reseq_24Feb2020/mixcr/clones/CLONES_TRBCHP_350-01-PBMC-DNA.txt\n",
       "2 /Users/anabbi/Desktop/H4H/INTERCEPT/NextSeq/batch_reseq_24Feb2020/mixcr/clones/CLONES_TRBCHP_350-01-PBMC-DNA.txt\n",
       "3 /Users/anabbi/Desktop/H4H/INTERCEPT/NextSeq/batch_reseq_24Feb2020/mixcr/clones/CLONES_TRBCHP_350-01-PBMC-DNA.txt\n",
       "4 /Users/anabbi/Desktop/H4H/INTERCEPT/NextSeq/batch_reseq_24Feb2020/mixcr/clones/CLONES_TRBCHP_350-01-PBMC-DNA.txt\n",
       "5 /Users/anabbi/Desktop/H4H/INTERCEPT/NextSeq/batch_reseq_24Feb2020/mixcr/clones/CLONES_TRBCHP_350-01-PBMC-DNA.txt\n",
       "6 /Users/anabbi/Desktop/H4H/INTERCEPT/NextSeq/batch_reseq_24Feb2020/mixcr/clones/CLONES_TRBCHP_350-01-PBMC-DNA.txt\n",
       "  subject:condition\n",
       "1 CHP_350          \n",
       "2 CHP_350          \n",
       "3 CHP_350          \n",
       "4 CHP_350          \n",
       "5 CHP_350          \n",
       "6 CHP_350          "
      ]
     },
     "metadata": {},
     "output_type": "display_data"
    }
   ],
   "source": [
    "head(taball)"
   ]
  },
  {
   "cell_type": "code",
   "execution_count": 35,
   "metadata": {
    "vscode": {
     "languageId": "r"
    }
   },
   "outputs": [],
   "source": [
    "taball <- taball[,c(1,2,3,8,5,6,4,7)]"
   ]
  },
  {
   "cell_type": "code",
   "execution_count": 36,
   "metadata": {
    "vscode": {
     "languageId": "r"
    }
   },
   "outputs": [],
   "source": [
    "taball$index <- 1:nrow(taball)"
   ]
  },
  {
   "cell_type": "code",
   "execution_count": 37,
   "metadata": {
    "vscode": {
     "languageId": "r"
    }
   },
   "outputs": [
    {
     "data": {
      "text/html": [
       "<table class=\"dataframe\">\n",
       "<caption>A data.table: 6 x 9</caption>\n",
       "<thead>\n",
       "\t<tr><th scope=col>CDR3b</th><th scope=col>TRBV</th><th scope=col>TRBJ</th><th scope=col>subject:condition</th><th scope=col>count</th><th scope=col>clonefraction</th><th scope=col>subject</th><th scope=col>file</th><th scope=col>index</th></tr>\n",
       "\t<tr><th scope=col>&lt;chr&gt;</th><th scope=col>&lt;chr&gt;</th><th scope=col>&lt;chr&gt;</th><th scope=col>&lt;chr&gt;</th><th scope=col>&lt;int&gt;</th><th scope=col>&lt;dbl&gt;</th><th scope=col>&lt;chr&gt;</th><th scope=col>&lt;chr&gt;</th><th scope=col>&lt;int&gt;</th></tr>\n",
       "</thead>\n",
       "<tbody>\n",
       "\t<tr><td>CAIEGSSYNSPLHF</td><td>TRBV10-3</td><td>TRBJ1-6</td><td>CHP_350</td><td> 9</td><td>0.003945638</td><td>CHP_350-01-PBMC-DNA</td><td>/Users/anabbi/Desktop/H4H/INTERCEPT/NextSeq/batch_reseq_24Feb2020/mixcr/clones/CLONES_TRBCHP_350-01-PBMC-DNA.txt</td><td>1</td></tr>\n",
       "\t<tr><td>CASFDGGGVGAFF </td><td>TRBV25-1</td><td>TRBJ1-1</td><td>CHP_350</td><td>11</td><td>0.004822446</td><td>CHP_350-01-PBMC-DNA</td><td>/Users/anabbi/Desktop/H4H/INTERCEPT/NextSeq/batch_reseq_24Feb2020/mixcr/clones/CLONES_TRBCHP_350-01-PBMC-DNA.txt</td><td>2</td></tr>\n",
       "\t<tr><td>CASGASYNEQFF  </td><td>TRBV12-4</td><td>TRBJ2-1</td><td>CHP_350</td><td> 5</td><td>0.002192021</td><td>CHP_350-01-PBMC-DNA</td><td>/Users/anabbi/Desktop/H4H/INTERCEPT/NextSeq/batch_reseq_24Feb2020/mixcr/clones/CLONES_TRBCHP_350-01-PBMC-DNA.txt</td><td>3</td></tr>\n",
       "\t<tr><td>CASGHSSYNEQFF </td><td>TRBV5-6 </td><td>TRBJ2-1</td><td>CHP_350</td><td> 6</td><td>0.002630425</td><td>CHP_350-01-PBMC-DNA</td><td>/Users/anabbi/Desktop/H4H/INTERCEPT/NextSeq/batch_reseq_24Feb2020/mixcr/clones/CLONES_TRBCHP_350-01-PBMC-DNA.txt</td><td>4</td></tr>\n",
       "\t<tr><td>CASNLKGRVGGYTF</td><td>TRBV28  </td><td>TRBJ1-2</td><td>CHP_350</td><td>12</td><td>0.005260851</td><td>CHP_350-01-PBMC-DNA</td><td>/Users/anabbi/Desktop/H4H/INTERCEPT/NextSeq/batch_reseq_24Feb2020/mixcr/clones/CLONES_TRBCHP_350-01-PBMC-DNA.txt</td><td>5</td></tr>\n",
       "\t<tr><td>CASRDTSFTEAFF </td><td>TRBV2   </td><td>TRBJ1-1</td><td>CHP_350</td><td>21</td><td>0.009206488</td><td>CHP_350-01-PBMC-DNA</td><td>/Users/anabbi/Desktop/H4H/INTERCEPT/NextSeq/batch_reseq_24Feb2020/mixcr/clones/CLONES_TRBCHP_350-01-PBMC-DNA.txt</td><td>6</td></tr>\n",
       "</tbody>\n",
       "</table>\n"
      ],
      "text/latex": [
       "A data.table: 6 x 9\n",
       "\\begin{tabular}{lllllllll}\n",
       " CDR3b & TRBV & TRBJ & subject:condition & count & clonefraction & subject & file & index\\\\\n",
       " <chr> & <chr> & <chr> & <chr> & <int> & <dbl> & <chr> & <chr> & <int>\\\\\n",
       "\\hline\n",
       "\t CAIEGSSYNSPLHF & TRBV10-3 & TRBJ1-6 & CHP\\_350 &  9 & 0.003945638 & CHP\\_350-01-PBMC-DNA & /Users/anabbi/Desktop/H4H/INTERCEPT/NextSeq/batch\\_reseq\\_24Feb2020/mixcr/clones/CLONES\\_TRBCHP\\_350-01-PBMC-DNA.txt & 1\\\\\n",
       "\t CASFDGGGVGAFF  & TRBV25-1 & TRBJ1-1 & CHP\\_350 & 11 & 0.004822446 & CHP\\_350-01-PBMC-DNA & /Users/anabbi/Desktop/H4H/INTERCEPT/NextSeq/batch\\_reseq\\_24Feb2020/mixcr/clones/CLONES\\_TRBCHP\\_350-01-PBMC-DNA.txt & 2\\\\\n",
       "\t CASGASYNEQFF   & TRBV12-4 & TRBJ2-1 & CHP\\_350 &  5 & 0.002192021 & CHP\\_350-01-PBMC-DNA & /Users/anabbi/Desktop/H4H/INTERCEPT/NextSeq/batch\\_reseq\\_24Feb2020/mixcr/clones/CLONES\\_TRBCHP\\_350-01-PBMC-DNA.txt & 3\\\\\n",
       "\t CASGHSSYNEQFF  & TRBV5-6  & TRBJ2-1 & CHP\\_350 &  6 & 0.002630425 & CHP\\_350-01-PBMC-DNA & /Users/anabbi/Desktop/H4H/INTERCEPT/NextSeq/batch\\_reseq\\_24Feb2020/mixcr/clones/CLONES\\_TRBCHP\\_350-01-PBMC-DNA.txt & 4\\\\\n",
       "\t CASNLKGRVGGYTF & TRBV28   & TRBJ1-2 & CHP\\_350 & 12 & 0.005260851 & CHP\\_350-01-PBMC-DNA & /Users/anabbi/Desktop/H4H/INTERCEPT/NextSeq/batch\\_reseq\\_24Feb2020/mixcr/clones/CLONES\\_TRBCHP\\_350-01-PBMC-DNA.txt & 5\\\\\n",
       "\t CASRDTSFTEAFF  & TRBV2    & TRBJ1-1 & CHP\\_350 & 21 & 0.009206488 & CHP\\_350-01-PBMC-DNA & /Users/anabbi/Desktop/H4H/INTERCEPT/NextSeq/batch\\_reseq\\_24Feb2020/mixcr/clones/CLONES\\_TRBCHP\\_350-01-PBMC-DNA.txt & 6\\\\\n",
       "\\end{tabular}\n"
      ],
      "text/markdown": [
       "\n",
       "A data.table: 6 x 9\n",
       "\n",
       "| CDR3b &lt;chr&gt; | TRBV &lt;chr&gt; | TRBJ &lt;chr&gt; | subject:condition &lt;chr&gt; | count &lt;int&gt; | clonefraction &lt;dbl&gt; | subject &lt;chr&gt; | file &lt;chr&gt; | index &lt;int&gt; |\n",
       "|---|---|---|---|---|---|---|---|---|\n",
       "| CAIEGSSYNSPLHF | TRBV10-3 | TRBJ1-6 | CHP_350 |  9 | 0.003945638 | CHP_350-01-PBMC-DNA | /Users/anabbi/Desktop/H4H/INTERCEPT/NextSeq/batch_reseq_24Feb2020/mixcr/clones/CLONES_TRBCHP_350-01-PBMC-DNA.txt | 1 |\n",
       "| CASFDGGGVGAFF  | TRBV25-1 | TRBJ1-1 | CHP_350 | 11 | 0.004822446 | CHP_350-01-PBMC-DNA | /Users/anabbi/Desktop/H4H/INTERCEPT/NextSeq/batch_reseq_24Feb2020/mixcr/clones/CLONES_TRBCHP_350-01-PBMC-DNA.txt | 2 |\n",
       "| CASGASYNEQFF   | TRBV12-4 | TRBJ2-1 | CHP_350 |  5 | 0.002192021 | CHP_350-01-PBMC-DNA | /Users/anabbi/Desktop/H4H/INTERCEPT/NextSeq/batch_reseq_24Feb2020/mixcr/clones/CLONES_TRBCHP_350-01-PBMC-DNA.txt | 3 |\n",
       "| CASGHSSYNEQFF  | TRBV5-6  | TRBJ2-1 | CHP_350 |  6 | 0.002630425 | CHP_350-01-PBMC-DNA | /Users/anabbi/Desktop/H4H/INTERCEPT/NextSeq/batch_reseq_24Feb2020/mixcr/clones/CLONES_TRBCHP_350-01-PBMC-DNA.txt | 4 |\n",
       "| CASNLKGRVGGYTF | TRBV28   | TRBJ1-2 | CHP_350 | 12 | 0.005260851 | CHP_350-01-PBMC-DNA | /Users/anabbi/Desktop/H4H/INTERCEPT/NextSeq/batch_reseq_24Feb2020/mixcr/clones/CLONES_TRBCHP_350-01-PBMC-DNA.txt | 5 |\n",
       "| CASRDTSFTEAFF  | TRBV2    | TRBJ1-1 | CHP_350 | 21 | 0.009206488 | CHP_350-01-PBMC-DNA | /Users/anabbi/Desktop/H4H/INTERCEPT/NextSeq/batch_reseq_24Feb2020/mixcr/clones/CLONES_TRBCHP_350-01-PBMC-DNA.txt | 6 |\n",
       "\n"
      ],
      "text/plain": [
       "  CDR3b          TRBV     TRBJ    subject:condition count clonefraction\n",
       "1 CAIEGSSYNSPLHF TRBV10-3 TRBJ1-6 CHP_350            9    0.003945638  \n",
       "2 CASFDGGGVGAFF  TRBV25-1 TRBJ1-1 CHP_350           11    0.004822446  \n",
       "3 CASGASYNEQFF   TRBV12-4 TRBJ2-1 CHP_350            5    0.002192021  \n",
       "4 CASGHSSYNEQFF  TRBV5-6  TRBJ2-1 CHP_350            6    0.002630425  \n",
       "5 CASNLKGRVGGYTF TRBV28   TRBJ1-2 CHP_350           12    0.005260851  \n",
       "6 CASRDTSFTEAFF  TRBV2    TRBJ1-1 CHP_350           21    0.009206488  \n",
       "  subject            \n",
       "1 CHP_350-01-PBMC-DNA\n",
       "2 CHP_350-01-PBMC-DNA\n",
       "3 CHP_350-01-PBMC-DNA\n",
       "4 CHP_350-01-PBMC-DNA\n",
       "5 CHP_350-01-PBMC-DNA\n",
       "6 CHP_350-01-PBMC-DNA\n",
       "  file                                                                                                            \n",
       "1 /Users/anabbi/Desktop/H4H/INTERCEPT/NextSeq/batch_reseq_24Feb2020/mixcr/clones/CLONES_TRBCHP_350-01-PBMC-DNA.txt\n",
       "2 /Users/anabbi/Desktop/H4H/INTERCEPT/NextSeq/batch_reseq_24Feb2020/mixcr/clones/CLONES_TRBCHP_350-01-PBMC-DNA.txt\n",
       "3 /Users/anabbi/Desktop/H4H/INTERCEPT/NextSeq/batch_reseq_24Feb2020/mixcr/clones/CLONES_TRBCHP_350-01-PBMC-DNA.txt\n",
       "4 /Users/anabbi/Desktop/H4H/INTERCEPT/NextSeq/batch_reseq_24Feb2020/mixcr/clones/CLONES_TRBCHP_350-01-PBMC-DNA.txt\n",
       "5 /Users/anabbi/Desktop/H4H/INTERCEPT/NextSeq/batch_reseq_24Feb2020/mixcr/clones/CLONES_TRBCHP_350-01-PBMC-DNA.txt\n",
       "6 /Users/anabbi/Desktop/H4H/INTERCEPT/NextSeq/batch_reseq_24Feb2020/mixcr/clones/CLONES_TRBCHP_350-01-PBMC-DNA.txt\n",
       "  index\n",
       "1 1    \n",
       "2 2    \n",
       "3 3    \n",
       "4 4    \n",
       "5 5    \n",
       "6 6    "
      ]
     },
     "metadata": {},
     "output_type": "display_data"
    }
   ],
   "source": [
    "head(taball)"
   ]
  },
  {
   "cell_type": "code",
   "execution_count": 39,
   "metadata": {
    "vscode": {
     "languageId": "r"
    }
   },
   "outputs": [],
   "source": [
    "readr::write_rds(taball, file = paste0(datapath, \"capTCRseq/INT_01_LFS_gliph_input.rds\"))"
   ]
  },
  {
   "cell_type": "code",
   "execution_count": 41,
   "metadata": {
    "vscode": {
     "languageId": "r"
    }
   },
   "outputs": [
    {
     "data": {
      "text/html": [
       "57"
      ],
      "text/latex": [
       "57"
      ],
      "text/markdown": [
       "57"
      ],
      "text/plain": [
       "[1] 57"
      ]
     },
     "metadata": {},
     "output_type": "display_data"
    }
   ],
   "source": [
    "length(table(taball$`subject:condition`))"
   ]
  },
  {
   "cell_type": "code",
   "execution_count": 5,
   "metadata": {
    "vscode": {
     "languageId": "r"
    }
   },
   "outputs": [],
   "source": [
    "#tmp <- readr::read_rds(file = paste0(datapath, \"capTCRseq/INT_01_LFS_gliph_input.rds\"))"
   ]
  },
  {
   "cell_type": "code",
   "execution_count": 8,
   "metadata": {
    "vscode": {
     "languageId": "r"
    }
   },
   "outputs": [
    {
     "data": {
      "text/html": [
       "<table class=\"dataframe\">\n",
       "<caption>A data.table: 0 x 9</caption>\n",
       "<thead>\n",
       "\t<tr><th scope=col>CDR3b</th><th scope=col>TRBV</th><th scope=col>TRBJ</th><th scope=col>subject:condition</th><th scope=col>count</th><th scope=col>clonefraction</th><th scope=col>subject</th><th scope=col>file</th><th scope=col>index</th></tr>\n",
       "\t<tr><th scope=col>&lt;chr&gt;</th><th scope=col>&lt;chr&gt;</th><th scope=col>&lt;chr&gt;</th><th scope=col>&lt;chr&gt;</th><th scope=col>&lt;int&gt;</th><th scope=col>&lt;dbl&gt;</th><th scope=col>&lt;chr&gt;</th><th scope=col>&lt;chr&gt;</th><th scope=col>&lt;int&gt;</th></tr>\n",
       "</thead>\n",
       "<tbody>\n",
       "</tbody>\n",
       "</table>\n"
      ],
      "text/latex": [
       "A data.table: 0 x 9\n",
       "\\begin{tabular}{lllllllll}\n",
       " CDR3b & TRBV & TRBJ & subject:condition & count & clonefraction & subject & file & index\\\\\n",
       " <chr> & <chr> & <chr> & <chr> & <int> & <dbl> & <chr> & <chr> & <int>\\\\\n",
       "\\hline\n",
       "\\end{tabular}\n"
      ],
      "text/markdown": [
       "\n",
       "A data.table: 0 x 9\n",
       "\n",
       "| CDR3b &lt;chr&gt; | TRBV &lt;chr&gt; | TRBJ &lt;chr&gt; | subject:condition &lt;chr&gt; | count &lt;int&gt; | clonefraction &lt;dbl&gt; | subject &lt;chr&gt; | file &lt;chr&gt; | index &lt;int&gt; |\n",
       "|---|---|---|---|---|---|---|---|---|\n",
       "\n"
      ],
      "text/plain": [
       "     CDR3b TRBV TRBJ subject:condition count clonefraction subject file index"
      ]
     },
     "metadata": {},
     "output_type": "display_data"
    }
   ],
   "source": [
    "#tmp[ grepl(\",\", tmp$file),]"
   ]
  },
  {
   "cell_type": "code",
   "execution_count": 32,
   "metadata": {
    "vscode": {
     "languageId": "r"
    }
   },
   "outputs": [],
   "source": [
    "#save(taball, file = \"/Users/anabbi/Desktop/H4H/INTERCEPT/Adaptive/tsv_cleanup/gliphinput/INT_gliph_input.RData\")"
   ]
  },
  {
   "attachments": {},
   "cell_type": "markdown",
   "metadata": {},
   "source": [
    "## Cleanup VDJdb file - curated by Shirin"
   ]
  },
  {
   "cell_type": "code",
   "execution_count": 33,
   "metadata": {
    "vscode": {
     "languageId": "r"
    }
   },
   "outputs": [],
   "source": [
    "VDJdb_tcr <- read.table(file = paste0(datapath, \"CapTCRseq/VDJdb_MinimalScoreConfidence3.tsv\"), sep = \"\\t\", header = T)"
   ]
  },
  {
   "cell_type": "code",
   "execution_count": 34,
   "metadata": {
    "vscode": {
     "languageId": "r"
    }
   },
   "outputs": [
    {
     "data": {
      "text/html": [
       "<style>\n",
       ".list-inline {list-style: none; margin:0; padding: 0}\n",
       ".list-inline>li {display: inline-block}\n",
       ".list-inline>li:not(:last-child)::after {content: \"\\00b7\"; padding: 0 .5ex}\n",
       "</style>\n",
       "<ol class=list-inline><li>'complex.id'</li><li>'Gene'</li><li>'aaSeqCDR3'</li><li>'V'</li><li>'J'</li><li>'MHC.A'</li><li>'MHC.B'</li><li>'MHC.class'</li><li>'Epitope'</li><li>'Epitope.gene'</li><li>'Epitope.species'</li><li>'Reference'</li></ol>\n"
      ],
      "text/latex": [
       "\\begin{enumerate*}\n",
       "\\item 'complex.id'\n",
       "\\item 'Gene'\n",
       "\\item 'aaSeqCDR3'\n",
       "\\item 'V'\n",
       "\\item 'J'\n",
       "\\item 'MHC.A'\n",
       "\\item 'MHC.B'\n",
       "\\item 'MHC.class'\n",
       "\\item 'Epitope'\n",
       "\\item 'Epitope.gene'\n",
       "\\item 'Epitope.species'\n",
       "\\item 'Reference'\n",
       "\\end{enumerate*}\n"
      ],
      "text/markdown": [
       "1. 'complex.id'\n",
       "2. 'Gene'\n",
       "3. 'aaSeqCDR3'\n",
       "4. 'V'\n",
       "5. 'J'\n",
       "6. 'MHC.A'\n",
       "7. 'MHC.B'\n",
       "8. 'MHC.class'\n",
       "9. 'Epitope'\n",
       "10. 'Epitope.gene'\n",
       "11. 'Epitope.species'\n",
       "12. 'Reference'\n",
       "\n",
       "\n"
      ],
      "text/plain": [
       " [1] \"complex.id\"      \"Gene\"            \"aaSeqCDR3\"       \"V\"              \n",
       " [5] \"J\"               \"MHC.A\"           \"MHC.B\"           \"MHC.class\"      \n",
       " [9] \"Epitope\"         \"Epitope.gene\"    \"Epitope.species\" \"Reference\"      "
      ]
     },
     "metadata": {},
     "output_type": "display_data"
    }
   ],
   "source": [
    "colnames(VDJdb_tcr)"
   ]
  },
  {
   "cell_type": "code",
   "execution_count": 35,
   "metadata": {
    "vscode": {
     "languageId": "r"
    }
   },
   "outputs": [
    {
     "data": {
      "text/html": [
       "<table class=\"dataframe\">\n",
       "<caption>A data.frame: 6 x 12</caption>\n",
       "<thead>\n",
       "\t<tr><th></th><th scope=col>complex.id</th><th scope=col>Gene</th><th scope=col>aaSeqCDR3</th><th scope=col>V</th><th scope=col>J</th><th scope=col>MHC.A</th><th scope=col>MHC.B</th><th scope=col>MHC.class</th><th scope=col>Epitope</th><th scope=col>Epitope.gene</th><th scope=col>Epitope.species</th><th scope=col>Reference</th></tr>\n",
       "\t<tr><th></th><th scope=col>&lt;int&gt;</th><th scope=col>&lt;chr&gt;</th><th scope=col>&lt;chr&gt;</th><th scope=col>&lt;chr&gt;</th><th scope=col>&lt;chr&gt;</th><th scope=col>&lt;chr&gt;</th><th scope=col>&lt;chr&gt;</th><th scope=col>&lt;chr&gt;</th><th scope=col>&lt;chr&gt;</th><th scope=col>&lt;chr&gt;</th><th scope=col>&lt;chr&gt;</th><th scope=col>&lt;chr&gt;</th></tr>\n",
       "</thead>\n",
       "<tbody>\n",
       "\t<tr><th scope=row>1</th><td>0</td><td>TRB</td><td>CAISGQAVSTDTQYF</td><td>TRBV10-3*01</td><td>TRBJ2-3*01</td><td>HLA-A*02   </td><td>NA</td><td>MHCI</td><td>KLVALGINAV</td><td>NS3  </td><td>HCV</td><td>PMID:27252176</td></tr>\n",
       "\t<tr><th scope=row>2</th><td>0</td><td>TRB</td><td>CASDSNTEAFF    </td><td>TRBV25-1*01</td><td>TRBJ1-1*01</td><td>HLA-A*02   </td><td>NA</td><td>MHCI</td><td>KLVALGINAV</td><td>NS3  </td><td>HCV</td><td>PMID:27252176</td></tr>\n",
       "\t<tr><th scope=row>3</th><td>0</td><td>TRB</td><td>CASGWGSQPQHF   </td><td>TRBV7-9*01 </td><td>TRBJ1-5*01</td><td>HLA-A*11:01</td><td>NA</td><td>MHCI</td><td>AVFDRKSDAK</td><td>EBNA4</td><td>EBV</td><td>PMID:23267020</td></tr>\n",
       "\t<tr><th scope=row>4</th><td>0</td><td>TRB</td><td>CASKGQGARDGYTF </td><td>TRBV6-6*01 </td><td>TRBJ1-2*01</td><td>HLA-B*35:01</td><td>NA</td><td>MHCI</td><td>IPSINVHHY </td><td>pp65 </td><td>CMV</td><td>PMID:23267020</td></tr>\n",
       "\t<tr><th scope=row>5</th><td>0</td><td>TRB</td><td>CASKMRGDVYEQYF </td><td>TRBV18*01  </td><td>TRBJ2-7*01</td><td>HLA-B*08:01</td><td>NA</td><td>MHCI</td><td>RAKFKQLL  </td><td>BZLF1</td><td>EBV</td><td>PMID:23267020</td></tr>\n",
       "\t<tr><th scope=row>6</th><td>0</td><td>TRB</td><td>CASMGNSAGANVLTF</td><td>TRBV10-1*01</td><td>TRBJ2-6*01</td><td>HLA-A*02   </td><td>NA</td><td>MHCI</td><td>NLVPMVATV </td><td>pp65 </td><td>CMV</td><td>PMID:9971792 </td></tr>\n",
       "</tbody>\n",
       "</table>\n"
      ],
      "text/latex": [
       "A data.frame: 6 x 12\n",
       "\\begin{tabular}{r|llllllllllll}\n",
       "  & complex.id & Gene & aaSeqCDR3 & V & J & MHC.A & MHC.B & MHC.class & Epitope & Epitope.gene & Epitope.species & Reference\\\\\n",
       "  & <int> & <chr> & <chr> & <chr> & <chr> & <chr> & <chr> & <chr> & <chr> & <chr> & <chr> & <chr>\\\\\n",
       "\\hline\n",
       "\t1 & 0 & TRB & CAISGQAVSTDTQYF & TRBV10-3*01 & TRBJ2-3*01 & HLA-A*02    & NA & MHCI & KLVALGINAV & NS3   & HCV & PMID:27252176\\\\\n",
       "\t2 & 0 & TRB & CASDSNTEAFF     & TRBV25-1*01 & TRBJ1-1*01 & HLA-A*02    & NA & MHCI & KLVALGINAV & NS3   & HCV & PMID:27252176\\\\\n",
       "\t3 & 0 & TRB & CASGWGSQPQHF    & TRBV7-9*01  & TRBJ1-5*01 & HLA-A*11:01 & NA & MHCI & AVFDRKSDAK & EBNA4 & EBV & PMID:23267020\\\\\n",
       "\t4 & 0 & TRB & CASKGQGARDGYTF  & TRBV6-6*01  & TRBJ1-2*01 & HLA-B*35:01 & NA & MHCI & IPSINVHHY  & pp65  & CMV & PMID:23267020\\\\\n",
       "\t5 & 0 & TRB & CASKMRGDVYEQYF  & TRBV18*01   & TRBJ2-7*01 & HLA-B*08:01 & NA & MHCI & RAKFKQLL   & BZLF1 & EBV & PMID:23267020\\\\\n",
       "\t6 & 0 & TRB & CASMGNSAGANVLTF & TRBV10-1*01 & TRBJ2-6*01 & HLA-A*02    & NA & MHCI & NLVPMVATV  & pp65  & CMV & PMID:9971792 \\\\\n",
       "\\end{tabular}\n"
      ],
      "text/markdown": [
       "\n",
       "A data.frame: 6 x 12\n",
       "\n",
       "| <!--/--> | complex.id &lt;int&gt; | Gene &lt;chr&gt; | aaSeqCDR3 &lt;chr&gt; | V &lt;chr&gt; | J &lt;chr&gt; | MHC.A &lt;chr&gt; | MHC.B &lt;chr&gt; | MHC.class &lt;chr&gt; | Epitope &lt;chr&gt; | Epitope.gene &lt;chr&gt; | Epitope.species &lt;chr&gt; | Reference &lt;chr&gt; |\n",
       "|---|---|---|---|---|---|---|---|---|---|---|---|---|\n",
       "| 1 | 0 | TRB | CAISGQAVSTDTQYF | TRBV10-3*01 | TRBJ2-3*01 | HLA-A*02    | NA | MHCI | KLVALGINAV | NS3   | HCV | PMID:27252176 |\n",
       "| 2 | 0 | TRB | CASDSNTEAFF     | TRBV25-1*01 | TRBJ1-1*01 | HLA-A*02    | NA | MHCI | KLVALGINAV | NS3   | HCV | PMID:27252176 |\n",
       "| 3 | 0 | TRB | CASGWGSQPQHF    | TRBV7-9*01  | TRBJ1-5*01 | HLA-A*11:01 | NA | MHCI | AVFDRKSDAK | EBNA4 | EBV | PMID:23267020 |\n",
       "| 4 | 0 | TRB | CASKGQGARDGYTF  | TRBV6-6*01  | TRBJ1-2*01 | HLA-B*35:01 | NA | MHCI | IPSINVHHY  | pp65  | CMV | PMID:23267020 |\n",
       "| 5 | 0 | TRB | CASKMRGDVYEQYF  | TRBV18*01   | TRBJ2-7*01 | HLA-B*08:01 | NA | MHCI | RAKFKQLL   | BZLF1 | EBV | PMID:23267020 |\n",
       "| 6 | 0 | TRB | CASMGNSAGANVLTF | TRBV10-1*01 | TRBJ2-6*01 | HLA-A*02    | NA | MHCI | NLVPMVATV  | pp65  | CMV | PMID:9971792  |\n",
       "\n"
      ],
      "text/plain": [
       "  complex.id Gene aaSeqCDR3       V           J          MHC.A       MHC.B\n",
       "1 0          TRB  CAISGQAVSTDTQYF TRBV10-3*01 TRBJ2-3*01 HLA-A*02    NA   \n",
       "2 0          TRB  CASDSNTEAFF     TRBV25-1*01 TRBJ1-1*01 HLA-A*02    NA   \n",
       "3 0          TRB  CASGWGSQPQHF    TRBV7-9*01  TRBJ1-5*01 HLA-A*11:01 NA   \n",
       "4 0          TRB  CASKGQGARDGYTF  TRBV6-6*01  TRBJ1-2*01 HLA-B*35:01 NA   \n",
       "5 0          TRB  CASKMRGDVYEQYF  TRBV18*01   TRBJ2-7*01 HLA-B*08:01 NA   \n",
       "6 0          TRB  CASMGNSAGANVLTF TRBV10-1*01 TRBJ2-6*01 HLA-A*02    NA   \n",
       "  MHC.class Epitope    Epitope.gene Epitope.species Reference    \n",
       "1 MHCI      KLVALGINAV NS3          HCV             PMID:27252176\n",
       "2 MHCI      KLVALGINAV NS3          HCV             PMID:27252176\n",
       "3 MHCI      AVFDRKSDAK EBNA4        EBV             PMID:23267020\n",
       "4 MHCI      IPSINVHHY  pp65         CMV             PMID:23267020\n",
       "5 MHCI      RAKFKQLL   BZLF1        EBV             PMID:23267020\n",
       "6 MHCI      NLVPMVATV  pp65         CMV             PMID:9971792 "
      ]
     },
     "metadata": {},
     "output_type": "display_data"
    }
   ],
   "source": [
    "head(VDJdb_tcr)"
   ]
  },
  {
   "cell_type": "code",
   "execution_count": 36,
   "metadata": {
    "vscode": {
     "languageId": "r"
    }
   },
   "outputs": [],
   "source": [
    "VDJdb_tcr$`subject:condition` <- paste0(\"VDJdb:\",VDJdb_tcr$Epitope.gene,\"_\", VDJdb_tcr$Epitope.species)\n",
    "VDJdb_tcr$count <- 1\n",
    "VDJdb_tcr$clonefraction <- 1\n",
    "VDJdb_tcr$subject <- \"VDJdb\"\n",
    "VDJdb_tcr$file <- \"VDJdb_MinimalScoreConfidence3.tsv\"\n",
    "VDJdb_tcr$index <- 1:nrow(VDJdb_tcr)"
   ]
  },
  {
   "cell_type": "code",
   "execution_count": 37,
   "metadata": {
    "vscode": {
     "languageId": "r"
    }
   },
   "outputs": [],
   "source": [
    "VDJdb_tcr_cleanup <- VDJdb_tcr[, c(\"aaSeqCDR3\", \"V\", \"J\", \"subject:condition\", \"count\", \n",
    "                                   \"clonefraction\", \"subject\", \"file\", \"index\")]"
   ]
  },
  {
   "cell_type": "code",
   "execution_count": 38,
   "metadata": {
    "vscode": {
     "languageId": "r"
    }
   },
   "outputs": [
    {
     "data": {
      "text/html": [
       "<table class=\"dataframe\">\n",
       "<caption>A data.frame: 6 x 9</caption>\n",
       "<thead>\n",
       "\t<tr><th></th><th scope=col>aaSeqCDR3</th><th scope=col>V</th><th scope=col>J</th><th scope=col>subject:condition</th><th scope=col>count</th><th scope=col>clonefraction</th><th scope=col>subject</th><th scope=col>file</th><th scope=col>index</th></tr>\n",
       "\t<tr><th></th><th scope=col>&lt;chr&gt;</th><th scope=col>&lt;chr&gt;</th><th scope=col>&lt;chr&gt;</th><th scope=col>&lt;chr&gt;</th><th scope=col>&lt;dbl&gt;</th><th scope=col>&lt;dbl&gt;</th><th scope=col>&lt;chr&gt;</th><th scope=col>&lt;chr&gt;</th><th scope=col>&lt;int&gt;</th></tr>\n",
       "</thead>\n",
       "<tbody>\n",
       "\t<tr><th scope=row>1</th><td>CAISGQAVSTDTQYF</td><td>TRBV10-3*01</td><td>TRBJ2-3*01</td><td>VDJdb:NS3_HCV  </td><td>1</td><td>1</td><td>VDJdb</td><td>VDJdb_MinimalScoreConfidence3.tsv</td><td>1</td></tr>\n",
       "\t<tr><th scope=row>2</th><td>CASDSNTEAFF    </td><td>TRBV25-1*01</td><td>TRBJ1-1*01</td><td>VDJdb:NS3_HCV  </td><td>1</td><td>1</td><td>VDJdb</td><td>VDJdb_MinimalScoreConfidence3.tsv</td><td>2</td></tr>\n",
       "\t<tr><th scope=row>3</th><td>CASGWGSQPQHF   </td><td>TRBV7-9*01 </td><td>TRBJ1-5*01</td><td>VDJdb:EBNA4_EBV</td><td>1</td><td>1</td><td>VDJdb</td><td>VDJdb_MinimalScoreConfidence3.tsv</td><td>3</td></tr>\n",
       "\t<tr><th scope=row>4</th><td>CASKGQGARDGYTF </td><td>TRBV6-6*01 </td><td>TRBJ1-2*01</td><td>VDJdb:pp65_CMV </td><td>1</td><td>1</td><td>VDJdb</td><td>VDJdb_MinimalScoreConfidence3.tsv</td><td>4</td></tr>\n",
       "\t<tr><th scope=row>5</th><td>CASKMRGDVYEQYF </td><td>TRBV18*01  </td><td>TRBJ2-7*01</td><td>VDJdb:BZLF1_EBV</td><td>1</td><td>1</td><td>VDJdb</td><td>VDJdb_MinimalScoreConfidence3.tsv</td><td>5</td></tr>\n",
       "\t<tr><th scope=row>6</th><td>CASMGNSAGANVLTF</td><td>TRBV10-1*01</td><td>TRBJ2-6*01</td><td>VDJdb:pp65_CMV </td><td>1</td><td>1</td><td>VDJdb</td><td>VDJdb_MinimalScoreConfidence3.tsv</td><td>6</td></tr>\n",
       "</tbody>\n",
       "</table>\n"
      ],
      "text/latex": [
       "A data.frame: 6 x 9\n",
       "\\begin{tabular}{r|lllllllll}\n",
       "  & aaSeqCDR3 & V & J & subject:condition & count & clonefraction & subject & file & index\\\\\n",
       "  & <chr> & <chr> & <chr> & <chr> & <dbl> & <dbl> & <chr> & <chr> & <int>\\\\\n",
       "\\hline\n",
       "\t1 & CAISGQAVSTDTQYF & TRBV10-3*01 & TRBJ2-3*01 & VDJdb:NS3\\_HCV   & 1 & 1 & VDJdb & VDJdb\\_MinimalScoreConfidence3.tsv & 1\\\\\n",
       "\t2 & CASDSNTEAFF     & TRBV25-1*01 & TRBJ1-1*01 & VDJdb:NS3\\_HCV   & 1 & 1 & VDJdb & VDJdb\\_MinimalScoreConfidence3.tsv & 2\\\\\n",
       "\t3 & CASGWGSQPQHF    & TRBV7-9*01  & TRBJ1-5*01 & VDJdb:EBNA4\\_EBV & 1 & 1 & VDJdb & VDJdb\\_MinimalScoreConfidence3.tsv & 3\\\\\n",
       "\t4 & CASKGQGARDGYTF  & TRBV6-6*01  & TRBJ1-2*01 & VDJdb:pp65\\_CMV  & 1 & 1 & VDJdb & VDJdb\\_MinimalScoreConfidence3.tsv & 4\\\\\n",
       "\t5 & CASKMRGDVYEQYF  & TRBV18*01   & TRBJ2-7*01 & VDJdb:BZLF1\\_EBV & 1 & 1 & VDJdb & VDJdb\\_MinimalScoreConfidence3.tsv & 5\\\\\n",
       "\t6 & CASMGNSAGANVLTF & TRBV10-1*01 & TRBJ2-6*01 & VDJdb:pp65\\_CMV  & 1 & 1 & VDJdb & VDJdb\\_MinimalScoreConfidence3.tsv & 6\\\\\n",
       "\\end{tabular}\n"
      ],
      "text/markdown": [
       "\n",
       "A data.frame: 6 x 9\n",
       "\n",
       "| <!--/--> | aaSeqCDR3 &lt;chr&gt; | V &lt;chr&gt; | J &lt;chr&gt; | subject:condition &lt;chr&gt; | count &lt;dbl&gt; | clonefraction &lt;dbl&gt; | subject &lt;chr&gt; | file &lt;chr&gt; | index &lt;int&gt; |\n",
       "|---|---|---|---|---|---|---|---|---|---|\n",
       "| 1 | CAISGQAVSTDTQYF | TRBV10-3*01 | TRBJ2-3*01 | VDJdb:NS3_HCV   | 1 | 1 | VDJdb | VDJdb_MinimalScoreConfidence3.tsv | 1 |\n",
       "| 2 | CASDSNTEAFF     | TRBV25-1*01 | TRBJ1-1*01 | VDJdb:NS3_HCV   | 1 | 1 | VDJdb | VDJdb_MinimalScoreConfidence3.tsv | 2 |\n",
       "| 3 | CASGWGSQPQHF    | TRBV7-9*01  | TRBJ1-5*01 | VDJdb:EBNA4_EBV | 1 | 1 | VDJdb | VDJdb_MinimalScoreConfidence3.tsv | 3 |\n",
       "| 4 | CASKGQGARDGYTF  | TRBV6-6*01  | TRBJ1-2*01 | VDJdb:pp65_CMV  | 1 | 1 | VDJdb | VDJdb_MinimalScoreConfidence3.tsv | 4 |\n",
       "| 5 | CASKMRGDVYEQYF  | TRBV18*01   | TRBJ2-7*01 | VDJdb:BZLF1_EBV | 1 | 1 | VDJdb | VDJdb_MinimalScoreConfidence3.tsv | 5 |\n",
       "| 6 | CASMGNSAGANVLTF | TRBV10-1*01 | TRBJ2-6*01 | VDJdb:pp65_CMV  | 1 | 1 | VDJdb | VDJdb_MinimalScoreConfidence3.tsv | 6 |\n",
       "\n"
      ],
      "text/plain": [
       "  aaSeqCDR3       V           J          subject:condition count clonefraction\n",
       "1 CAISGQAVSTDTQYF TRBV10-3*01 TRBJ2-3*01 VDJdb:NS3_HCV     1     1            \n",
       "2 CASDSNTEAFF     TRBV25-1*01 TRBJ1-1*01 VDJdb:NS3_HCV     1     1            \n",
       "3 CASGWGSQPQHF    TRBV7-9*01  TRBJ1-5*01 VDJdb:EBNA4_EBV   1     1            \n",
       "4 CASKGQGARDGYTF  TRBV6-6*01  TRBJ1-2*01 VDJdb:pp65_CMV    1     1            \n",
       "5 CASKMRGDVYEQYF  TRBV18*01   TRBJ2-7*01 VDJdb:BZLF1_EBV   1     1            \n",
       "6 CASMGNSAGANVLTF TRBV10-1*01 TRBJ2-6*01 VDJdb:pp65_CMV    1     1            \n",
       "  subject file                              index\n",
       "1 VDJdb   VDJdb_MinimalScoreConfidence3.tsv 1    \n",
       "2 VDJdb   VDJdb_MinimalScoreConfidence3.tsv 2    \n",
       "3 VDJdb   VDJdb_MinimalScoreConfidence3.tsv 3    \n",
       "4 VDJdb   VDJdb_MinimalScoreConfidence3.tsv 4    \n",
       "5 VDJdb   VDJdb_MinimalScoreConfidence3.tsv 5    \n",
       "6 VDJdb   VDJdb_MinimalScoreConfidence3.tsv 6    "
      ]
     },
     "metadata": {},
     "output_type": "display_data"
    }
   ],
   "source": [
    "head(VDJdb_tcr_cleanup)"
   ]
  },
  {
   "cell_type": "code",
   "execution_count": 39,
   "metadata": {
    "vscode": {
     "languageId": "r"
    }
   },
   "outputs": [],
   "source": [
    "colnames(VDJdb_tcr_cleanup)[1:3] <- c('CDR3b', 'TRBV', 'TRBJ')"
   ]
  },
  {
   "cell_type": "code",
   "execution_count": 40,
   "metadata": {
    "vscode": {
     "languageId": "r"
    }
   },
   "outputs": [],
   "source": [
    "VDJdb_tcr_cleanup$TRBV <- gsub(\"[*]0.*\", \"\", VDJdb_tcr_cleanup$TRBV)\n",
    "VDJdb_tcr_cleanup$TRBJ <- gsub(\"[*]0.*\", \"\", VDJdb_tcr_cleanup$TRBJ)"
   ]
  },
  {
   "cell_type": "code",
   "execution_count": 41,
   "metadata": {
    "vscode": {
     "languageId": "r"
    }
   },
   "outputs": [
    {
     "data": {
      "text/html": [
       "<table class=\"dataframe\">\n",
       "<caption>A data.frame: 6 x 9</caption>\n",
       "<thead>\n",
       "\t<tr><th></th><th scope=col>CDR3b</th><th scope=col>TRBV</th><th scope=col>TRBJ</th><th scope=col>subject:condition</th><th scope=col>count</th><th scope=col>clonefraction</th><th scope=col>subject</th><th scope=col>file</th><th scope=col>index</th></tr>\n",
       "\t<tr><th></th><th scope=col>&lt;chr&gt;</th><th scope=col>&lt;chr&gt;</th><th scope=col>&lt;chr&gt;</th><th scope=col>&lt;chr&gt;</th><th scope=col>&lt;dbl&gt;</th><th scope=col>&lt;dbl&gt;</th><th scope=col>&lt;chr&gt;</th><th scope=col>&lt;chr&gt;</th><th scope=col>&lt;int&gt;</th></tr>\n",
       "</thead>\n",
       "<tbody>\n",
       "\t<tr><th scope=row>1</th><td>CAISGQAVSTDTQYF</td><td>TRBV10-3</td><td>TRBJ2-3</td><td>VDJdb:NS3_HCV  </td><td>1</td><td>1</td><td>VDJdb</td><td>VDJdb_MinimalScoreConfidence3.tsv</td><td>1</td></tr>\n",
       "\t<tr><th scope=row>2</th><td>CASDSNTEAFF    </td><td>TRBV25-1</td><td>TRBJ1-1</td><td>VDJdb:NS3_HCV  </td><td>1</td><td>1</td><td>VDJdb</td><td>VDJdb_MinimalScoreConfidence3.tsv</td><td>2</td></tr>\n",
       "\t<tr><th scope=row>3</th><td>CASGWGSQPQHF   </td><td>TRBV7-9 </td><td>TRBJ1-5</td><td>VDJdb:EBNA4_EBV</td><td>1</td><td>1</td><td>VDJdb</td><td>VDJdb_MinimalScoreConfidence3.tsv</td><td>3</td></tr>\n",
       "\t<tr><th scope=row>4</th><td>CASKGQGARDGYTF </td><td>TRBV6-6 </td><td>TRBJ1-2</td><td>VDJdb:pp65_CMV </td><td>1</td><td>1</td><td>VDJdb</td><td>VDJdb_MinimalScoreConfidence3.tsv</td><td>4</td></tr>\n",
       "\t<tr><th scope=row>5</th><td>CASKMRGDVYEQYF </td><td>TRBV18  </td><td>TRBJ2-7</td><td>VDJdb:BZLF1_EBV</td><td>1</td><td>1</td><td>VDJdb</td><td>VDJdb_MinimalScoreConfidence3.tsv</td><td>5</td></tr>\n",
       "\t<tr><th scope=row>6</th><td>CASMGNSAGANVLTF</td><td>TRBV10-1</td><td>TRBJ2-6</td><td>VDJdb:pp65_CMV </td><td>1</td><td>1</td><td>VDJdb</td><td>VDJdb_MinimalScoreConfidence3.tsv</td><td>6</td></tr>\n",
       "</tbody>\n",
       "</table>\n"
      ],
      "text/latex": [
       "A data.frame: 6 x 9\n",
       "\\begin{tabular}{r|lllllllll}\n",
       "  & CDR3b & TRBV & TRBJ & subject:condition & count & clonefraction & subject & file & index\\\\\n",
       "  & <chr> & <chr> & <chr> & <chr> & <dbl> & <dbl> & <chr> & <chr> & <int>\\\\\n",
       "\\hline\n",
       "\t1 & CAISGQAVSTDTQYF & TRBV10-3 & TRBJ2-3 & VDJdb:NS3\\_HCV   & 1 & 1 & VDJdb & VDJdb\\_MinimalScoreConfidence3.tsv & 1\\\\\n",
       "\t2 & CASDSNTEAFF     & TRBV25-1 & TRBJ1-1 & VDJdb:NS3\\_HCV   & 1 & 1 & VDJdb & VDJdb\\_MinimalScoreConfidence3.tsv & 2\\\\\n",
       "\t3 & CASGWGSQPQHF    & TRBV7-9  & TRBJ1-5 & VDJdb:EBNA4\\_EBV & 1 & 1 & VDJdb & VDJdb\\_MinimalScoreConfidence3.tsv & 3\\\\\n",
       "\t4 & CASKGQGARDGYTF  & TRBV6-6  & TRBJ1-2 & VDJdb:pp65\\_CMV  & 1 & 1 & VDJdb & VDJdb\\_MinimalScoreConfidence3.tsv & 4\\\\\n",
       "\t5 & CASKMRGDVYEQYF  & TRBV18   & TRBJ2-7 & VDJdb:BZLF1\\_EBV & 1 & 1 & VDJdb & VDJdb\\_MinimalScoreConfidence3.tsv & 5\\\\\n",
       "\t6 & CASMGNSAGANVLTF & TRBV10-1 & TRBJ2-6 & VDJdb:pp65\\_CMV  & 1 & 1 & VDJdb & VDJdb\\_MinimalScoreConfidence3.tsv & 6\\\\\n",
       "\\end{tabular}\n"
      ],
      "text/markdown": [
       "\n",
       "A data.frame: 6 x 9\n",
       "\n",
       "| <!--/--> | CDR3b &lt;chr&gt; | TRBV &lt;chr&gt; | TRBJ &lt;chr&gt; | subject:condition &lt;chr&gt; | count &lt;dbl&gt; | clonefraction &lt;dbl&gt; | subject &lt;chr&gt; | file &lt;chr&gt; | index &lt;int&gt; |\n",
       "|---|---|---|---|---|---|---|---|---|---|\n",
       "| 1 | CAISGQAVSTDTQYF | TRBV10-3 | TRBJ2-3 | VDJdb:NS3_HCV   | 1 | 1 | VDJdb | VDJdb_MinimalScoreConfidence3.tsv | 1 |\n",
       "| 2 | CASDSNTEAFF     | TRBV25-1 | TRBJ1-1 | VDJdb:NS3_HCV   | 1 | 1 | VDJdb | VDJdb_MinimalScoreConfidence3.tsv | 2 |\n",
       "| 3 | CASGWGSQPQHF    | TRBV7-9  | TRBJ1-5 | VDJdb:EBNA4_EBV | 1 | 1 | VDJdb | VDJdb_MinimalScoreConfidence3.tsv | 3 |\n",
       "| 4 | CASKGQGARDGYTF  | TRBV6-6  | TRBJ1-2 | VDJdb:pp65_CMV  | 1 | 1 | VDJdb | VDJdb_MinimalScoreConfidence3.tsv | 4 |\n",
       "| 5 | CASKMRGDVYEQYF  | TRBV18   | TRBJ2-7 | VDJdb:BZLF1_EBV | 1 | 1 | VDJdb | VDJdb_MinimalScoreConfidence3.tsv | 5 |\n",
       "| 6 | CASMGNSAGANVLTF | TRBV10-1 | TRBJ2-6 | VDJdb:pp65_CMV  | 1 | 1 | VDJdb | VDJdb_MinimalScoreConfidence3.tsv | 6 |\n",
       "\n"
      ],
      "text/plain": [
       "  CDR3b           TRBV     TRBJ    subject:condition count clonefraction\n",
       "1 CAISGQAVSTDTQYF TRBV10-3 TRBJ2-3 VDJdb:NS3_HCV     1     1            \n",
       "2 CASDSNTEAFF     TRBV25-1 TRBJ1-1 VDJdb:NS3_HCV     1     1            \n",
       "3 CASGWGSQPQHF    TRBV7-9  TRBJ1-5 VDJdb:EBNA4_EBV   1     1            \n",
       "4 CASKGQGARDGYTF  TRBV6-6  TRBJ1-2 VDJdb:pp65_CMV    1     1            \n",
       "5 CASKMRGDVYEQYF  TRBV18   TRBJ2-7 VDJdb:BZLF1_EBV   1     1            \n",
       "6 CASMGNSAGANVLTF TRBV10-1 TRBJ2-6 VDJdb:pp65_CMV    1     1            \n",
       "  subject file                              index\n",
       "1 VDJdb   VDJdb_MinimalScoreConfidence3.tsv 1    \n",
       "2 VDJdb   VDJdb_MinimalScoreConfidence3.tsv 2    \n",
       "3 VDJdb   VDJdb_MinimalScoreConfidence3.tsv 3    \n",
       "4 VDJdb   VDJdb_MinimalScoreConfidence3.tsv 4    \n",
       "5 VDJdb   VDJdb_MinimalScoreConfidence3.tsv 5    \n",
       "6 VDJdb   VDJdb_MinimalScoreConfidence3.tsv 6    "
      ]
     },
     "metadata": {},
     "output_type": "display_data"
    }
   ],
   "source": [
    "head(VDJdb_tcr_cleanup)"
   ]
  },
  {
   "cell_type": "code",
   "execution_count": 42,
   "metadata": {
    "vscode": {
     "languageId": "r"
    }
   },
   "outputs": [],
   "source": [
    "readr::write_rds(VDJdb_tcr_cleanup, file = paste0(datapath, \"capTCRseq/VDJdb_tcr_cleanup.rds\"))"
   ]
  },
  {
   "cell_type": "code",
   "execution_count": 188,
   "metadata": {
    "vscode": {
     "languageId": "r"
    }
   },
   "outputs": [],
   "source": [
    "readr::read_rds(file = paste0(datapath, \"capTCRseq/VDJdb_tcr_cleanup.rds\"))"
   ]
  },
  {
   "cell_type": "code",
   "execution_count": 189,
   "metadata": {
    "vscode": {
     "languageId": "r"
    }
   },
   "outputs": [],
   "source": [
    "#save(VDJdb_tcr_cleanup, \n",
    "#     file = \"/Users/anabbi/Desktop/H4H/INTERCEPT/Adaptive/tsv_cleanup/gliphinput/VDJdb_tcr_cleanup.RData\")"
   ]
  },
  {
   "attachments": {},
   "cell_type": "markdown",
   "metadata": {},
   "source": [
    "## Cleanup Adaptive data"
   ]
  },
  {
   "attachments": {},
   "cell_type": "markdown",
   "metadata": {},
   "source": [
    "get a list of files"
   ]
  },
  {
   "cell_type": "code",
   "execution_count": 17,
   "metadata": {
    "vscode": {
     "languageId": "r"
    }
   },
   "outputs": [],
   "source": [
    "file_list <- list.files(\"/Users/anabbi/Desktop/H4H/projects/INTERCEPT/Adaptive/\", \n",
    "                        pattern = \".tsv\", full.names = T, recursive = T)"
   ]
  },
  {
   "cell_type": "code",
   "execution_count": 19,
   "metadata": {
    "vscode": {
     "languageId": "r"
    }
   },
   "outputs": [],
   "source": [
    "file_list <- file_list[ !grepl(\"SampleOverview\", file_list)]"
   ]
  },
  {
   "cell_type": "code",
   "execution_count": 21,
   "metadata": {
    "vscode": {
     "languageId": "r"
    }
   },
   "outputs": [],
   "source": [
    "file_list1 <- list.files(\"/Users/anabbi/Desktop/H4H/pughlab/external_data/Adaptive/emerson2017\", \n",
    "                        pattern = \".tsv\", full.names = T, recursive = T)"
   ]
  },
  {
   "cell_type": "code",
   "execution_count": 22,
   "metadata": {
    "vscode": {
     "languageId": "r"
    }
   },
   "outputs": [],
   "source": [
    "file_list1 <- file_list1[ !grepl(\"SampleOverview\", file_list1)]"
   ]
  },
  {
   "cell_type": "code",
   "execution_count": 23,
   "metadata": {
    "vscode": {
     "languageId": "r"
    }
   },
   "outputs": [],
   "source": [
    "allfiles <- c(file_list, file_list1)"
   ]
  },
  {
   "attachments": {},
   "cell_type": "markdown",
   "metadata": {},
   "source": [
    "take out files starting with Keck in emerson data and keep for validation"
   ]
  },
  {
   "cell_type": "code",
   "execution_count": 29,
   "metadata": {
    "vscode": {
     "languageId": "r"
    }
   },
   "outputs": [],
   "source": [
    "allfiles <- allfiles[ !grepl(\"Keck\", allfiles)]\n",
    "allfiles <- allfiles[ !grepl(\"Denver\", allfiles)]"
   ]
  },
  {
   "cell_type": "code",
   "execution_count": 135,
   "metadata": {
    "vscode": {
     "languageId": "r"
    }
   },
   "outputs": [],
   "source": [
    "adaptivefiles <- allfiles"
   ]
  },
  {
   "cell_type": "code",
   "execution_count": 136,
   "metadata": {
    "vscode": {
     "languageId": "r"
    }
   },
   "outputs": [
    {
     "data": {
      "text/html": [
       "<style>\n",
       ".list-inline {list-style: none; margin:0; padding: 0}\n",
       ".list-inline>li {display: inline-block}\n",
       ".list-inline>li:not(:last-child)::after {content: \"\\00b7\"; padding: 0 .5ex}\n",
       "</style>\n",
       "<ol class=list-inline><li>'/Users/anabbi/Desktop/H4H/projects/INTERCEPT/Adaptive//Carey_Preterm2017/Adult_1_15-04.tsv'</li><li>'/Users/anabbi/Desktop/H4H/projects/INTERCEPT/Adaptive//Carey_Preterm2017/Adult_2_15-07.tsv'</li><li>'/Users/anabbi/Desktop/H4H/projects/INTERCEPT/Adaptive//Carey_Preterm2017/Adult_3_15-03.tsv'</li><li>'/Users/anabbi/Desktop/H4H/projects/INTERCEPT/Adaptive//Carey_Preterm2017/Adult_4_15-05.tsv'</li><li>'/Users/anabbi/Desktop/H4H/projects/INTERCEPT/Adaptive//Carey_Preterm2017/Adult_5_15-06.tsv'</li><li>'/Users/anabbi/Desktop/H4H/projects/INTERCEPT/Adaptive//Carey_Preterm2017/Cord_1_NWK206.tsv'</li></ol>\n"
      ],
      "text/latex": [
       "\\begin{enumerate*}\n",
       "\\item '/Users/anabbi/Desktop/H4H/projects/INTERCEPT/Adaptive//Carey\\_Preterm2017/Adult\\_1\\_15-04.tsv'\n",
       "\\item '/Users/anabbi/Desktop/H4H/projects/INTERCEPT/Adaptive//Carey\\_Preterm2017/Adult\\_2\\_15-07.tsv'\n",
       "\\item '/Users/anabbi/Desktop/H4H/projects/INTERCEPT/Adaptive//Carey\\_Preterm2017/Adult\\_3\\_15-03.tsv'\n",
       "\\item '/Users/anabbi/Desktop/H4H/projects/INTERCEPT/Adaptive//Carey\\_Preterm2017/Adult\\_4\\_15-05.tsv'\n",
       "\\item '/Users/anabbi/Desktop/H4H/projects/INTERCEPT/Adaptive//Carey\\_Preterm2017/Adult\\_5\\_15-06.tsv'\n",
       "\\item '/Users/anabbi/Desktop/H4H/projects/INTERCEPT/Adaptive//Carey\\_Preterm2017/Cord\\_1\\_NWK206.tsv'\n",
       "\\end{enumerate*}\n"
      ],
      "text/markdown": [
       "1. '/Users/anabbi/Desktop/H4H/projects/INTERCEPT/Adaptive//Carey_Preterm2017/Adult_1_15-04.tsv'\n",
       "2. '/Users/anabbi/Desktop/H4H/projects/INTERCEPT/Adaptive//Carey_Preterm2017/Adult_2_15-07.tsv'\n",
       "3. '/Users/anabbi/Desktop/H4H/projects/INTERCEPT/Adaptive//Carey_Preterm2017/Adult_3_15-03.tsv'\n",
       "4. '/Users/anabbi/Desktop/H4H/projects/INTERCEPT/Adaptive//Carey_Preterm2017/Adult_4_15-05.tsv'\n",
       "5. '/Users/anabbi/Desktop/H4H/projects/INTERCEPT/Adaptive//Carey_Preterm2017/Adult_5_15-06.tsv'\n",
       "6. '/Users/anabbi/Desktop/H4H/projects/INTERCEPT/Adaptive//Carey_Preterm2017/Cord_1_NWK206.tsv'\n",
       "\n",
       "\n"
      ],
      "text/plain": [
       "[1] \"/Users/anabbi/Desktop/H4H/projects/INTERCEPT/Adaptive//Carey_Preterm2017/Adult_1_15-04.tsv\"\n",
       "[2] \"/Users/anabbi/Desktop/H4H/projects/INTERCEPT/Adaptive//Carey_Preterm2017/Adult_2_15-07.tsv\"\n",
       "[3] \"/Users/anabbi/Desktop/H4H/projects/INTERCEPT/Adaptive//Carey_Preterm2017/Adult_3_15-03.tsv\"\n",
       "[4] \"/Users/anabbi/Desktop/H4H/projects/INTERCEPT/Adaptive//Carey_Preterm2017/Adult_4_15-05.tsv\"\n",
       "[5] \"/Users/anabbi/Desktop/H4H/projects/INTERCEPT/Adaptive//Carey_Preterm2017/Adult_5_15-06.tsv\"\n",
       "[6] \"/Users/anabbi/Desktop/H4H/projects/INTERCEPT/Adaptive//Carey_Preterm2017/Cord_1_NWK206.tsv\""
      ]
     },
     "metadata": {},
     "output_type": "display_data"
    }
   ],
   "source": [
    "head(adaptivefiles)"
   ]
  },
  {
   "cell_type": "code",
   "execution_count": 137,
   "metadata": {
    "vscode": {
     "languageId": "r"
    }
   },
   "outputs": [],
   "source": [
    "adaptivefiles <- gsub(\"/Users/anabbi/Desktop/H4H/projects/INTERCEPT/Adaptive//\", \n",
    "                      \"/cluster/projects/pughlab/projects/INTERCEPT/Adaptive/\", adaptivefiles)"
   ]
  },
  {
   "cell_type": "code",
   "execution_count": 138,
   "metadata": {
    "vscode": {
     "languageId": "r"
    }
   },
   "outputs": [],
   "source": [
    "adaptivefiles <- gsub(\"/Users/anabbi/Desktop/H4H/pughlab/external_data/\", \n",
    "                     \"/cluster/projects/pughlab/external_data/\", adaptivefiles)"
   ]
  },
  {
   "cell_type": "code",
   "execution_count": 139,
   "metadata": {
    "vscode": {
     "languageId": "r"
    }
   },
   "outputs": [],
   "source": [
    "write.table(adaptivefiles[grepl(\"emerson\", adaptivefiles)], \n",
    "            file = \"/Users/anabbi/Desktop/H4H/INTERCEPT/Adaptive/tsv_cleanup/emersonadaptivefiles.txt\", \n",
    "            row.names = F, quote = F)"
   ]
  },
  {
   "cell_type": "code",
   "execution_count": 92,
   "metadata": {
    "vscode": {
     "languageId": "r"
    }
   },
   "outputs": [],
   "source": [
    "#on h4h\n",
    "clean_adaptive <- function(filename, outpath){\n",
    "    \n",
    "f1 <- read.table(filename, sep = \"\\t\", header = T, stringsAsFactors = F)    \n",
    "\n",
    "    #remove unproductive\n",
    "f1 <- f1[f1$amino_acid != \"\",]\n",
    "f1 <- f1[!grepl(\"[*]\", f1$amino_acid),]\n",
    "f1 <- f1[!grepl(\"_\", f1$amino_acid),]\n",
    "    \n",
    "f1_clean <- f1[, c(\"amino_acid\", \"v_resolved\", \"j_resolved\", \"rearrangement\", \n",
    "                   \"seq_reads\", \"frequency\", \"sample_name\")]\n",
    "#add filename\n",
    "f1_clean$file <- filename    \n",
    "colnames(f1_clean) <- c(\"CDR3b\", \"TRBV\", \"TRBJ\", \"rearrangement\", \"clonecount\", \"clonefraction\", \"sample_id\", \"file\")\n",
    "    \n",
    "    \n",
    "#replaqce TCRB with TRB\n",
    "f1_clean$TRBV <- gsub(\"TCRB\", \"TRB\", f1_clean$TRBV)\n",
    "f1_clean$TRBJ <- gsub(\"TCRB\", \"TRB\", f1_clean$TRBJ)\n",
    "\n",
    "f1_clean$TRBV <- gsub(\"[*].*\", \"\", f1_clean$TRBV)\n",
    "f1_clean$TRBJ <- gsub(\"[*].*\", \"\", f1_clean$TRBJ)\n",
    "    \n",
    "write.table(f1_clean, paste0(outpath, f1_clean$sample_id[1]) , sep = \"\\t\", quote = F, row.names = F)    \n",
    "       \n",
    "}"
   ]
  },
  {
   "attachments": {},
   "cell_type": "markdown",
   "metadata": {},
   "source": [
    "Run on h4h see \"Adaptive/tsv_cleanup\""
   ]
  },
  {
   "attachments": {},
   "cell_type": "markdown",
   "metadata": {},
   "source": [
    "### compile all adaptive files together and cleanup"
   ]
  },
  {
   "attachments": {},
   "cell_type": "markdown",
   "metadata": {},
   "source": [
    "test here, run on h4h"
   ]
  },
  {
   "cell_type": "code",
   "execution_count": 142,
   "metadata": {
    "vscode": {
     "languageId": "r"
    }
   },
   "outputs": [],
   "source": [
    "myfilelist <- list.files(\"/Users/anabbi/Desktop/H4H/projects/INTERCEPT/Adaptive/tsv_cleanup/\", \n",
    "                        pattern = \".txt\", full.names = T, recursive = T)"
   ]
  },
  {
   "cell_type": "code",
   "execution_count": 155,
   "metadata": {
    "vscode": {
     "languageId": "r"
    }
   },
   "outputs": [],
   "source": [
    "myfilelist <- myfilelist[!grepl(\"files\", myfilelist)]"
   ]
  },
  {
   "cell_type": "code",
   "execution_count": 161,
   "metadata": {
    "vscode": {
     "languageId": "r"
    }
   },
   "outputs": [
    {
     "data": {
      "text/html": [
       "<style>\n",
       ".list-inline {list-style: none; margin:0; padding: 0}\n",
       ".list-inline>li {display: inline-block}\n",
       ".list-inline>li:not(:last-child)::after {content: \"\\00b7\"; padding: 0 .5ex}\n",
       "</style>\n",
       "<ol class=list-inline><li>'/Users/anabbi/Desktop/H4H/projects/INTERCEPT/Adaptive/tsv_cleanup//Carey_Preterm2017/Adult_1_15-04.txt'</li><li>'/Users/anabbi/Desktop/H4H/projects/INTERCEPT/Adaptive/tsv_cleanup//Carey_Preterm2017/Adult_2_15-07.txt'</li><li>'/Users/anabbi/Desktop/H4H/projects/INTERCEPT/Adaptive/tsv_cleanup//Carey_Preterm2017/Adult_3_15-03.txt'</li><li>'/Users/anabbi/Desktop/H4H/projects/INTERCEPT/Adaptive/tsv_cleanup//Carey_Preterm2017/Adult_4_15-05.txt'</li><li>'/Users/anabbi/Desktop/H4H/projects/INTERCEPT/Adaptive/tsv_cleanup//Carey_Preterm2017/Adult_5_15-06.txt'</li><li>'/Users/anabbi/Desktop/H4H/projects/INTERCEPT/Adaptive/tsv_cleanup//Carey_Preterm2017/Cord_1_NWK206.txt'</li></ol>\n"
      ],
      "text/latex": [
       "\\begin{enumerate*}\n",
       "\\item '/Users/anabbi/Desktop/H4H/projects/INTERCEPT/Adaptive/tsv\\_cleanup//Carey\\_Preterm2017/Adult\\_1\\_15-04.txt'\n",
       "\\item '/Users/anabbi/Desktop/H4H/projects/INTERCEPT/Adaptive/tsv\\_cleanup//Carey\\_Preterm2017/Adult\\_2\\_15-07.txt'\n",
       "\\item '/Users/anabbi/Desktop/H4H/projects/INTERCEPT/Adaptive/tsv\\_cleanup//Carey\\_Preterm2017/Adult\\_3\\_15-03.txt'\n",
       "\\item '/Users/anabbi/Desktop/H4H/projects/INTERCEPT/Adaptive/tsv\\_cleanup//Carey\\_Preterm2017/Adult\\_4\\_15-05.txt'\n",
       "\\item '/Users/anabbi/Desktop/H4H/projects/INTERCEPT/Adaptive/tsv\\_cleanup//Carey\\_Preterm2017/Adult\\_5\\_15-06.txt'\n",
       "\\item '/Users/anabbi/Desktop/H4H/projects/INTERCEPT/Adaptive/tsv\\_cleanup//Carey\\_Preterm2017/Cord\\_1\\_NWK206.txt'\n",
       "\\end{enumerate*}\n"
      ],
      "text/markdown": [
       "1. '/Users/anabbi/Desktop/H4H/projects/INTERCEPT/Adaptive/tsv_cleanup//Carey_Preterm2017/Adult_1_15-04.txt'\n",
       "2. '/Users/anabbi/Desktop/H4H/projects/INTERCEPT/Adaptive/tsv_cleanup//Carey_Preterm2017/Adult_2_15-07.txt'\n",
       "3. '/Users/anabbi/Desktop/H4H/projects/INTERCEPT/Adaptive/tsv_cleanup//Carey_Preterm2017/Adult_3_15-03.txt'\n",
       "4. '/Users/anabbi/Desktop/H4H/projects/INTERCEPT/Adaptive/tsv_cleanup//Carey_Preterm2017/Adult_4_15-05.txt'\n",
       "5. '/Users/anabbi/Desktop/H4H/projects/INTERCEPT/Adaptive/tsv_cleanup//Carey_Preterm2017/Adult_5_15-06.txt'\n",
       "6. '/Users/anabbi/Desktop/H4H/projects/INTERCEPT/Adaptive/tsv_cleanup//Carey_Preterm2017/Cord_1_NWK206.txt'\n",
       "\n",
       "\n"
      ],
      "text/plain": [
       "[1] \"/Users/anabbi/Desktop/H4H/projects/INTERCEPT/Adaptive/tsv_cleanup//Carey_Preterm2017/Adult_1_15-04.txt\"\n",
       "[2] \"/Users/anabbi/Desktop/H4H/projects/INTERCEPT/Adaptive/tsv_cleanup//Carey_Preterm2017/Adult_2_15-07.txt\"\n",
       "[3] \"/Users/anabbi/Desktop/H4H/projects/INTERCEPT/Adaptive/tsv_cleanup//Carey_Preterm2017/Adult_3_15-03.txt\"\n",
       "[4] \"/Users/anabbi/Desktop/H4H/projects/INTERCEPT/Adaptive/tsv_cleanup//Carey_Preterm2017/Adult_4_15-05.txt\"\n",
       "[5] \"/Users/anabbi/Desktop/H4H/projects/INTERCEPT/Adaptive/tsv_cleanup//Carey_Preterm2017/Adult_5_15-06.txt\"\n",
       "[6] \"/Users/anabbi/Desktop/H4H/projects/INTERCEPT/Adaptive/tsv_cleanup//Carey_Preterm2017/Cord_1_NWK206.txt\""
      ]
     },
     "metadata": {},
     "output_type": "display_data"
    }
   ],
   "source": [
    "head(myfilelist)"
   ]
  },
  {
   "cell_type": "code",
   "execution_count": 157,
   "metadata": {
    "vscode": {
     "languageId": "r"
    }
   },
   "outputs": [],
   "source": [
    "mylst <- lapply(myfilelist[1:3], function(x){\n",
    "    read.table(x, sep = \"\\t\", header = T)\n",
    "})"
   ]
  },
  {
   "cell_type": "code",
   "execution_count": 159,
   "metadata": {
    "scrolled": false,
    "vscode": {
     "languageId": "r"
    }
   },
   "outputs": [],
   "source": [
    "mydf <- do.call(\"rbind\", mylst)"
   ]
  },
  {
   "cell_type": "code",
   "execution_count": 165,
   "metadata": {
    "vscode": {
     "languageId": "r"
    }
   },
   "outputs": [],
   "source": [
    "#cleanup\n",
    "mydf$rearrangement <- NULL\n",
    "mydf$`subject:condition` <- mydf$sample_id\n",
    "mydf$subject <- mydf$sample_id\n",
    "mydf$sample_id <- NULL\n",
    "mydf$index <- 1:nrow(mydf)"
   ]
  },
  {
   "cell_type": "code",
   "execution_count": 171,
   "metadata": {
    "vscode": {
     "languageId": "r"
    }
   },
   "outputs": [],
   "source": [
    "#order\n",
    "mydf <- mydf[,c(\"CDR3b\", \"TRBV\", \"TRBJ\", \"subject:condition\", \"clonecount\", \n",
    "               \"clonefraction\", \"subject\", \"file\", \"index\")]"
   ]
  },
  {
   "cell_type": "code",
   "execution_count": 174,
   "metadata": {
    "vscode": {
     "languageId": "r"
    }
   },
   "outputs": [],
   "source": [
    "colnames(mydf)[ colnames(mydf) == \"clonecount\"] <- \"count\""
   ]
  },
  {
   "cell_type": "code",
   "execution_count": 179,
   "metadata": {
    "vscode": {
     "languageId": "r"
    }
   },
   "outputs": [],
   "source": [
    "mydf$`subject:condition` <- paste(mydf$subject, \":\", mydf$index, sep = \"\")"
   ]
  },
  {
   "attachments": {},
   "cell_type": "markdown",
   "metadata": {},
   "source": [
    "#save, then rbind with tabal and vdjdb, bind index with subject to create subject:condition, \n"
   ]
  },
  {
   "cell_type": "code",
   "execution_count": null,
   "metadata": {
    "vscode": {
     "languageId": "r"
    }
   },
   "outputs": [],
   "source": []
  },
  {
   "cell_type": "code",
   "execution_count": null,
   "metadata": {
    "vscode": {
     "languageId": "r"
    }
   },
   "outputs": [],
   "source": []
  },
  {
   "attachments": {},
   "cell_type": "markdown",
   "metadata": {},
   "source": [
    "# backup"
   ]
  },
  {
   "cell_type": "code",
   "execution_count": null,
   "metadata": {
    "vscode": {
     "languageId": "r"
    }
   },
   "outputs": [],
   "source": [
    "taball_list <- list()\n",
    "\n",
    "for(p in unique(file_df_dedup_trb$Patient)){\n",
    "    \n",
    "    mypatient <- file_df_dedup_trb[ file_df_dedup_trb$Patient == p,]\n",
    "    \n",
    "    myplist <- list()\n",
    "    for(i in 1:nrow(mypatient)){\n",
    "        onefle <- read.table(paste0(h4hpath, mypatient$file_list[i]), sep = \"\\t\", header = TRUE, stringsAsFactors = F)  \n",
    "        # Remove non-productive\n",
    "        onefle <- onefle[!grepl(\"_\", onefle$aaSeqCDR3),]\n",
    "        onefle <- onefle[!grepl(\"[*]\", onefle$aaSeqCDR3),]\n",
    "        onefle$CDR3b <- onefle$aaSeqCDR3\n",
    "        #next if the file has no productive cdr3\n",
    "        if(nrow(onefle) == 0){ next}\n",
    "        #remove scores\n",
    "        onefle$TRBV <- gsub(\"[*]0.*\", \"\", onefle$allVHitsWithScore)\n",
    "        onefle$TRBJ <- gsub(\"[*]0.*\", \"\", onefle$allJHitsWithScore)\n",
    "        #remove extra long cdr3s\n",
    "        onefle <- onefle[ nchar(onefle$aaSeqCDR3) <= 25,]\n",
    "        #next if the file has no productive cdr3\n",
    "        if(nrow(onefle) == 0){ next}\n",
    "        onefle$count <- onefle$cloneCount\n",
    "        onefle$clonefraction <- onefle$cloneFraction\n",
    "        onefle$file <- paste0(h4hpath, mypatient$file_list[i])\n",
    "        onefle$samplename <- mypatient$samplename[i]\n",
    "    \n",
    "        onefle1 <- toString_onefle.fx(onefle, \"nSeqCDR3\")\n",
    "    \n",
    "        myplist[length(myplist) + 1] <- list(onefle1[,c(\"CDR3b\", \"TRBV\", \"TRBJ\", \"samplename\", \n",
    "                                                     \"count.y\", \"clonefraction\",\"tostringvar\", \"file\")])\n",
    "    }\n",
    "    gliph_input <- do.call(\"rbind\", myplist)\n",
    "\n",
    "    colnames(gliph_input)[ colnames(gliph_input) == \"tostringvar\"] <- \"nSeqCDR3\"\n",
    "    colnames(gliph_input)[ colnames(gliph_input) == \"count.y\"] <- \"count\"\n",
    "\n",
    "    #bind those with the same cdr3 + TRBV\n",
    "    setDT(gliph_input)\n",
    "\n",
    "    ab <- gliph_input[, .(subject = toString(samplename), #bind subjects\n",
    "                          file = toString(file), #bind filenames\n",
    "                          count = sum(count)),  #get sum of counts\n",
    "                      by = c(\"CDR3b\", \"TRBV\", \"TRBJ\")] #get duplicates sequences with the same cdr3 + TRBV + TRBJ\n",
    "\n",
    "\n",
    "    gliph_input_ab <- merge(gliph_input, ab, by = c(\"CDR3b\",\"TRBV\",\"TRBJ\")) # merge together\n",
    "\n",
    "    #dedup\n",
    "    gliph_input_ab_dedup <- dplyr::distinct(gliph_input_ab, CDR3b, TRBV, TRBJ, subject, .keep_all= TRUE)\n",
    "\n",
    "\n",
    "    taball_list[length(taball_list) + 1] <- list(gliph_input_ab_dedup[,c(\"CDR3b\", \"TRBV\", \"TRBJ\", \"subject\", \n",
    "                                                     \"count.y\", \"clonefraction\",\"file.y\")])\n",
    "\n",
    "    }"
   ]
  },
  {
   "cell_type": "code",
   "execution_count": null,
   "metadata": {
    "vscode": {
     "languageId": "r"
    }
   },
   "outputs": [],
   "source": []
  },
  {
   "cell_type": "code",
   "execution_count": null,
   "metadata": {
    "vscode": {
     "languageId": "r"
    }
   },
   "outputs": [],
   "source": []
  },
  {
   "cell_type": "code",
   "execution_count": 32,
   "metadata": {
    "vscode": {
     "languageId": "r"
    }
   },
   "outputs": [],
   "source": [
    "#bind those with the same cdr3 + TRBV + TRBJ\n",
    "setDT(covidfle_uniq)\n",
    "\n",
    "ab <- covidfle_uniq[, .(subject = toString(`subject:condition`), #bind subjects\n",
    "                        count = sum(count)),  #get sum of counts\n",
    "                    by = c(\"CDR3b\", \"TRBV\", \"TRBJ\")] #get duplicates sequences with the same cdr3 + TRBV + TRBJ\n",
    "\n",
    "covidfle_uniq_ab <- merge(covidfle_uniq, ab, by = c(\"CDR3b\",\"TRBV\",\"TRBJ\")) # merge together"
   ]
  },
  {
   "cell_type": "code",
   "execution_count": 33,
   "metadata": {
    "vscode": {
     "languageId": "r"
    }
   },
   "outputs": [
    {
     "data": {
      "text/html": [
       "<style>\n",
       ".list-inline {list-style: none; margin:0; padding: 0}\n",
       ".list-inline>li {display: inline-block}\n",
       ".list-inline>li:not(:last-child)::after {content: \"\\00b7\"; padding: 0 .5ex}\n",
       "</style>\n",
       "<ol class=list-inline><li>156033</li><li>7</li></ol>\n"
      ],
      "text/latex": [
       "\\begin{enumerate*}\n",
       "\\item 156033\n",
       "\\item 7\n",
       "\\end{enumerate*}\n"
      ],
      "text/markdown": [
       "1. 156033\n",
       "2. 7\n",
       "\n",
       "\n"
      ],
      "text/plain": [
       "[1] 156033      7"
      ]
     },
     "metadata": {},
     "output_type": "display_data"
    }
   ],
   "source": [
    "dim(covidfle_uniq_ab)"
   ]
  },
  {
   "cell_type": "code",
   "execution_count": 34,
   "metadata": {
    "vscode": {
     "languageId": "r"
    }
   },
   "outputs": [
    {
     "data": {
      "text/html": [
       "<style>\n",
       ".list-inline {list-style: none; margin:0; padding: 0}\n",
       ".list-inline>li {display: inline-block}\n",
       ".list-inline>li:not(:last-child)::after {content: \"\\00b7\"; padding: 0 .5ex}\n",
       "</style>\n",
       "<ol class=list-inline><li>'CDR3b'</li><li>'TRBV'</li><li>'TRBJ'</li><li>'subject:condition'</li><li>'count.x'</li><li>'subject'</li><li>'count.y'</li></ol>\n"
      ],
      "text/latex": [
       "\\begin{enumerate*}\n",
       "\\item 'CDR3b'\n",
       "\\item 'TRBV'\n",
       "\\item 'TRBJ'\n",
       "\\item 'subject:condition'\n",
       "\\item 'count.x'\n",
       "\\item 'subject'\n",
       "\\item 'count.y'\n",
       "\\end{enumerate*}\n"
      ],
      "text/markdown": [
       "1. 'CDR3b'\n",
       "2. 'TRBV'\n",
       "3. 'TRBJ'\n",
       "4. 'subject:condition'\n",
       "5. 'count.x'\n",
       "6. 'subject'\n",
       "7. 'count.y'\n",
       "\n",
       "\n"
      ],
      "text/plain": [
       "[1] \"CDR3b\"             \"TRBV\"              \"TRBJ\"             \n",
       "[4] \"subject:condition\" \"count.x\"           \"subject\"          \n",
       "[7] \"count.y\"          "
      ]
     },
     "metadata": {},
     "output_type": "display_data"
    }
   ],
   "source": [
    "colnames(covidfle_uniq_ab)"
   ]
  },
  {
   "cell_type": "code",
   "execution_count": 35,
   "metadata": {
    "vscode": {
     "languageId": "r"
    }
   },
   "outputs": [],
   "source": [
    "#dedup\n",
    "covidfle_uniq_ab_dedup <- dplyr::distinct(covidfle_uniq_ab, \n",
    "                                          CDR3b, TRBV, TRBJ, subject, .keep_all= TRUE)"
   ]
  },
  {
   "cell_type": "code",
   "execution_count": 36,
   "metadata": {
    "vscode": {
     "languageId": "r"
    }
   },
   "outputs": [
    {
     "data": {
      "text/html": [
       "<table class=\"dataframe\">\n",
       "<caption>A data.table: 6 × 7</caption>\n",
       "<thead>\n",
       "\t<tr><th scope=col>CDR3b</th><th scope=col>TRBV</th><th scope=col>TRBJ</th><th scope=col>subject:condition</th><th scope=col>count.x</th><th scope=col>subject</th><th scope=col>count.y</th></tr>\n",
       "\t<tr><th scope=col>&lt;chr&gt;</th><th scope=col>&lt;chr&gt;</th><th scope=col>&lt;chr&gt;</th><th scope=col>&lt;chr&gt;</th><th scope=col>&lt;int&gt;</th><th scope=col>&lt;chr&gt;</th><th scope=col>&lt;int&gt;</th></tr>\n",
       "</thead>\n",
       "<tbody>\n",
       "\t<tr><td>AGVKITNSYEQYF   </td><td>TCRBV20-X </td><td>TCRBJ02-07</td><td>eHO134</td><td>1</td><td>eHO134</td><td>1</td></tr>\n",
       "\t<tr><td>AKNIQYF         </td><td>TCRBV27-01</td><td>TCRBJ02-04</td><td>eQD126</td><td>1</td><td>eQD126</td><td>1</td></tr>\n",
       "\t<tr><td>APYASKRAGYDNEQFF</td><td>TCRBV06-X </td><td>TCRBJ02-01</td><td>eHO141</td><td>1</td><td>eHO141</td><td>1</td></tr>\n",
       "\t<tr><td>ARLFSGANVLTF    </td><td>TCRBV07-02</td><td>TCRBJ02-06</td><td>eXL27 </td><td>1</td><td>eXL27 </td><td>1</td></tr>\n",
       "\t<tr><td>CAAAAPDTQYF     </td><td>TCRBV06-X </td><td>TCRBJ02-03</td><td>eOX46 </td><td>1</td><td>eOX46 </td><td>1</td></tr>\n",
       "\t<tr><td>CAAADRMTDTQYF   </td><td>TCRBV24-01</td><td>TCRBJ02-03</td><td>eHO130</td><td>1</td><td>eHO130</td><td>1</td></tr>\n",
       "</tbody>\n",
       "</table>\n"
      ],
      "text/latex": [
       "A data.table: 6 × 7\n",
       "\\begin{tabular}{lllllll}\n",
       " CDR3b & TRBV & TRBJ & subject:condition & count.x & subject & count.y\\\\\n",
       " <chr> & <chr> & <chr> & <chr> & <int> & <chr> & <int>\\\\\n",
       "\\hline\n",
       "\t AGVKITNSYEQYF    & TCRBV20-X  & TCRBJ02-07 & eHO134 & 1 & eHO134 & 1\\\\\n",
       "\t AKNIQYF          & TCRBV27-01 & TCRBJ02-04 & eQD126 & 1 & eQD126 & 1\\\\\n",
       "\t APYASKRAGYDNEQFF & TCRBV06-X  & TCRBJ02-01 & eHO141 & 1 & eHO141 & 1\\\\\n",
       "\t ARLFSGANVLTF     & TCRBV07-02 & TCRBJ02-06 & eXL27  & 1 & eXL27  & 1\\\\\n",
       "\t CAAAAPDTQYF      & TCRBV06-X  & TCRBJ02-03 & eOX46  & 1 & eOX46  & 1\\\\\n",
       "\t CAAADRMTDTQYF    & TCRBV24-01 & TCRBJ02-03 & eHO130 & 1 & eHO130 & 1\\\\\n",
       "\\end{tabular}\n"
      ],
      "text/markdown": [
       "\n",
       "A data.table: 6 × 7\n",
       "\n",
       "| CDR3b &lt;chr&gt; | TRBV &lt;chr&gt; | TRBJ &lt;chr&gt; | subject:condition &lt;chr&gt; | count.x &lt;int&gt; | subject &lt;chr&gt; | count.y &lt;int&gt; |\n",
       "|---|---|---|---|---|---|---|\n",
       "| AGVKITNSYEQYF    | TCRBV20-X  | TCRBJ02-07 | eHO134 | 1 | eHO134 | 1 |\n",
       "| AKNIQYF          | TCRBV27-01 | TCRBJ02-04 | eQD126 | 1 | eQD126 | 1 |\n",
       "| APYASKRAGYDNEQFF | TCRBV06-X  | TCRBJ02-01 | eHO141 | 1 | eHO141 | 1 |\n",
       "| ARLFSGANVLTF     | TCRBV07-02 | TCRBJ02-06 | eXL27  | 1 | eXL27  | 1 |\n",
       "| CAAAAPDTQYF      | TCRBV06-X  | TCRBJ02-03 | eOX46  | 1 | eOX46  | 1 |\n",
       "| CAAADRMTDTQYF    | TCRBV24-01 | TCRBJ02-03 | eHO130 | 1 | eHO130 | 1 |\n",
       "\n"
      ],
      "text/plain": [
       "  CDR3b            TRBV       TRBJ       subject:condition count.x subject\n",
       "1 AGVKITNSYEQYF    TCRBV20-X  TCRBJ02-07 eHO134            1       eHO134 \n",
       "2 AKNIQYF          TCRBV27-01 TCRBJ02-04 eQD126            1       eQD126 \n",
       "3 APYASKRAGYDNEQFF TCRBV06-X  TCRBJ02-01 eHO141            1       eHO141 \n",
       "4 ARLFSGANVLTF     TCRBV07-02 TCRBJ02-06 eXL27             1       eXL27  \n",
       "5 CAAAAPDTQYF      TCRBV06-X  TCRBJ02-03 eOX46             1       eOX46  \n",
       "6 CAAADRMTDTQYF    TCRBV24-01 TCRBJ02-03 eHO130            1       eHO130 \n",
       "  count.y\n",
       "1 1      \n",
       "2 1      \n",
       "3 1      \n",
       "4 1      \n",
       "5 1      \n",
       "6 1      "
      ]
     },
     "metadata": {},
     "output_type": "display_data"
    }
   ],
   "source": [
    "head(covidfle_uniq_ab_dedup)"
   ]
  },
  {
   "cell_type": "code",
   "execution_count": 40,
   "metadata": {
    "vscode": {
     "languageId": "r"
    }
   },
   "outputs": [
    {
     "data": {
      "text/html": [
       "<style>\n",
       ".list-inline {list-style: none; margin:0; padding: 0}\n",
       ".list-inline>li {display: inline-block}\n",
       ".list-inline>li:not(:last-child)::after {content: \"\\00b7\"; padding: 0 .5ex}\n",
       "</style>\n",
       "<ol class=list-inline><li>148678</li><li>7</li></ol>\n"
      ],
      "text/latex": [
       "\\begin{enumerate*}\n",
       "\\item 148678\n",
       "\\item 7\n",
       "\\end{enumerate*}\n"
      ],
      "text/markdown": [
       "1. 148678\n",
       "2. 7\n",
       "\n",
       "\n"
      ],
      "text/plain": [
       "[1] 148678      7"
      ]
     },
     "metadata": {},
     "output_type": "display_data"
    }
   ],
   "source": [
    "dim(covidfle_uniq_ab_dedup)"
   ]
  },
  {
   "cell_type": "code",
   "execution_count": 38,
   "metadata": {
    "vscode": {
     "languageId": "r"
    }
   },
   "outputs": [],
   "source": [
    "#replaqce TCRB with TRB\n",
    "covidfle_uniq_ab_dedup$TRBV <- gsub(\"TCRB\", \"TRB\", covidfle_uniq_ab_dedup$TRBV)\n",
    "covidfle_uniq_ab_dedup$TRBJ <- gsub(\"TCRB\", \"TRB\", covidfle_uniq_ab_dedup$TRBJ)"
   ]
  },
  {
   "cell_type": "code",
   "execution_count": 41,
   "metadata": {
    "vscode": {
     "languageId": "r"
    }
   },
   "outputs": [
    {
     "data": {
      "text/html": [
       "<table class=\"dataframe\">\n",
       "<caption>A data.table: 6 × 7</caption>\n",
       "<thead>\n",
       "\t<tr><th scope=col>CDR3b</th><th scope=col>TRBV</th><th scope=col>TRBJ</th><th scope=col>subject:condition</th><th scope=col>count.x</th><th scope=col>subject</th><th scope=col>count.y</th></tr>\n",
       "\t<tr><th scope=col>&lt;chr&gt;</th><th scope=col>&lt;chr&gt;</th><th scope=col>&lt;chr&gt;</th><th scope=col>&lt;chr&gt;</th><th scope=col>&lt;int&gt;</th><th scope=col>&lt;chr&gt;</th><th scope=col>&lt;int&gt;</th></tr>\n",
       "</thead>\n",
       "<tbody>\n",
       "\t<tr><td>CASSIRSSYEQYF  </td><td>TRBV19-01      </td><td>TRBJ02-07</td><td>eOX46 </td><td>1</td><td>eOX46, ePD84, eHO128, eHO132, eHO125, ePD83, eHO136, eLH41, eHO124, ePD86, eLH42, eHO130, ePD76, eQD137, eQD123, eMR20, eEE243, eHH173, eHH174, eQD124, eHH169, eEE228, eXL27, eQD115, eXL36, eMR12, eLH47, eDH113, eEE226, eXL37, eDH96, eXL30</td><td>32</td></tr>\n",
       "\t<tr><td>CASSQTGGRNQPQHF</td><td>TRBV12-X       </td><td>TRBJ01-05</td><td>eLH41 </td><td>1</td><td>eLH41, eJL164, eXL31, eHO132, ePD86, eAV88, ePD84, eEE243, eXL37, eQD118, eEE224, eXL27, eMR12, eOX56, eLH47, eMR18, eLH46, eQD136, eOX43, eOX54, ePD76                                                                                        </td><td>21</td></tr>\n",
       "\t<tr><td>CASSLAGAYEQYF  </td><td>TRBV05-01      </td><td>TRBJ02-07</td><td>eJL143</td><td>1</td><td>eJL143, ePD79, eHH175, eLH45, eHO126, eXL31, eLH49, eLH42, eJL157, eHO135, eLH54, eMR14, eLH47, eAV91, eQD109, eQD111, eMR23, eQD123, eMR15                                                                                                    </td><td>19</td></tr>\n",
       "\t<tr><td>CASSFSYEQYF    </td><td>TRBV12-03/12-04</td><td>TRBJ02-07</td><td>eEE243</td><td>1</td><td>eEE243, eHH175, eXL30, eHO130, eJL149, eAV88, eXL27, eOX54, eEE224, eEE228, eOX49, eEE226, eOX52, eEE240, eOX46, eOX43, eXL31                                                                                                                  </td><td>17</td></tr>\n",
       "\t<tr><td>CASSLSAPQETQYF </td><td>TRBV27-01      </td><td>TRBJ02-05</td><td>eMR17 </td><td>1</td><td>eMR17, eJL161, eHO134, eQD124, eMR13, eQD111, eQD121, eHO140, eMR12, eQD125, eLH47, eEE226, eQD126, eQD114, eQD110, eQD120                                                                                                                     </td><td>16</td></tr>\n",
       "\t<tr><td>CASSVGETQYF    </td><td>TRBV09-01      </td><td>TRBJ02-05</td><td>eOX56 </td><td>1</td><td>eOX56, eEE224, eEE226, eEE228, eOX49, eOX54, eOX52, eXL27, eXL30, eOX43, eOX46, eXL32, eEE240, eAV88, eQD128, eHH175                                                                                                                           </td><td>16</td></tr>\n",
       "</tbody>\n",
       "</table>\n"
      ],
      "text/latex": [
       "A data.table: 6 × 7\n",
       "\\begin{tabular}{lllllll}\n",
       " CDR3b & TRBV & TRBJ & subject:condition & count.x & subject & count.y\\\\\n",
       " <chr> & <chr> & <chr> & <chr> & <int> & <chr> & <int>\\\\\n",
       "\\hline\n",
       "\t CASSIRSSYEQYF   & TRBV19-01       & TRBJ02-07 & eOX46  & 1 & eOX46, ePD84, eHO128, eHO132, eHO125, ePD83, eHO136, eLH41, eHO124, ePD86, eLH42, eHO130, ePD76, eQD137, eQD123, eMR20, eEE243, eHH173, eHH174, eQD124, eHH169, eEE228, eXL27, eQD115, eXL36, eMR12, eLH47, eDH113, eEE226, eXL37, eDH96, eXL30 & 32\\\\\n",
       "\t CASSQTGGRNQPQHF & TRBV12-X        & TRBJ01-05 & eLH41  & 1 & eLH41, eJL164, eXL31, eHO132, ePD86, eAV88, ePD84, eEE243, eXL37, eQD118, eEE224, eXL27, eMR12, eOX56, eLH47, eMR18, eLH46, eQD136, eOX43, eOX54, ePD76                                                                                         & 21\\\\\n",
       "\t CASSLAGAYEQYF   & TRBV05-01       & TRBJ02-07 & eJL143 & 1 & eJL143, ePD79, eHH175, eLH45, eHO126, eXL31, eLH49, eLH42, eJL157, eHO135, eLH54, eMR14, eLH47, eAV91, eQD109, eQD111, eMR23, eQD123, eMR15                                                                                                     & 19\\\\\n",
       "\t CASSFSYEQYF     & TRBV12-03/12-04 & TRBJ02-07 & eEE243 & 1 & eEE243, eHH175, eXL30, eHO130, eJL149, eAV88, eXL27, eOX54, eEE224, eEE228, eOX49, eEE226, eOX52, eEE240, eOX46, eOX43, eXL31                                                                                                                   & 17\\\\\n",
       "\t CASSLSAPQETQYF  & TRBV27-01       & TRBJ02-05 & eMR17  & 1 & eMR17, eJL161, eHO134, eQD124, eMR13, eQD111, eQD121, eHO140, eMR12, eQD125, eLH47, eEE226, eQD126, eQD114, eQD110, eQD120                                                                                                                      & 16\\\\\n",
       "\t CASSVGETQYF     & TRBV09-01       & TRBJ02-05 & eOX56  & 1 & eOX56, eEE224, eEE226, eEE228, eOX49, eOX54, eOX52, eXL27, eXL30, eOX43, eOX46, eXL32, eEE240, eAV88, eQD128, eHH175                                                                                                                            & 16\\\\\n",
       "\\end{tabular}\n"
      ],
      "text/markdown": [
       "\n",
       "A data.table: 6 × 7\n",
       "\n",
       "| CDR3b &lt;chr&gt; | TRBV &lt;chr&gt; | TRBJ &lt;chr&gt; | subject:condition &lt;chr&gt; | count.x &lt;int&gt; | subject &lt;chr&gt; | count.y &lt;int&gt; |\n",
       "|---|---|---|---|---|---|---|\n",
       "| CASSIRSSYEQYF   | TRBV19-01       | TRBJ02-07 | eOX46  | 1 | eOX46, ePD84, eHO128, eHO132, eHO125, ePD83, eHO136, eLH41, eHO124, ePD86, eLH42, eHO130, ePD76, eQD137, eQD123, eMR20, eEE243, eHH173, eHH174, eQD124, eHH169, eEE228, eXL27, eQD115, eXL36, eMR12, eLH47, eDH113, eEE226, eXL37, eDH96, eXL30 | 32 |\n",
       "| CASSQTGGRNQPQHF | TRBV12-X        | TRBJ01-05 | eLH41  | 1 | eLH41, eJL164, eXL31, eHO132, ePD86, eAV88, ePD84, eEE243, eXL37, eQD118, eEE224, eXL27, eMR12, eOX56, eLH47, eMR18, eLH46, eQD136, eOX43, eOX54, ePD76                                                                                         | 21 |\n",
       "| CASSLAGAYEQYF   | TRBV05-01       | TRBJ02-07 | eJL143 | 1 | eJL143, ePD79, eHH175, eLH45, eHO126, eXL31, eLH49, eLH42, eJL157, eHO135, eLH54, eMR14, eLH47, eAV91, eQD109, eQD111, eMR23, eQD123, eMR15                                                                                                     | 19 |\n",
       "| CASSFSYEQYF     | TRBV12-03/12-04 | TRBJ02-07 | eEE243 | 1 | eEE243, eHH175, eXL30, eHO130, eJL149, eAV88, eXL27, eOX54, eEE224, eEE228, eOX49, eEE226, eOX52, eEE240, eOX46, eOX43, eXL31                                                                                                                   | 17 |\n",
       "| CASSLSAPQETQYF  | TRBV27-01       | TRBJ02-05 | eMR17  | 1 | eMR17, eJL161, eHO134, eQD124, eMR13, eQD111, eQD121, eHO140, eMR12, eQD125, eLH47, eEE226, eQD126, eQD114, eQD110, eQD120                                                                                                                      | 16 |\n",
       "| CASSVGETQYF     | TRBV09-01       | TRBJ02-05 | eOX56  | 1 | eOX56, eEE224, eEE226, eEE228, eOX49, eOX54, eOX52, eXL27, eXL30, eOX43, eOX46, eXL32, eEE240, eAV88, eQD128, eHH175                                                                                                                            | 16 |\n",
       "\n"
      ],
      "text/plain": [
       "  CDR3b           TRBV            TRBJ      subject:condition count.x\n",
       "1 CASSIRSSYEQYF   TRBV19-01       TRBJ02-07 eOX46             1      \n",
       "2 CASSQTGGRNQPQHF TRBV12-X        TRBJ01-05 eLH41             1      \n",
       "3 CASSLAGAYEQYF   TRBV05-01       TRBJ02-07 eJL143            1      \n",
       "4 CASSFSYEQYF     TRBV12-03/12-04 TRBJ02-07 eEE243            1      \n",
       "5 CASSLSAPQETQYF  TRBV27-01       TRBJ02-05 eMR17             1      \n",
       "6 CASSVGETQYF     TRBV09-01       TRBJ02-05 eOX56             1      \n",
       "  subject                                                                                                                                                                                                                                        \n",
       "1 eOX46, ePD84, eHO128, eHO132, eHO125, ePD83, eHO136, eLH41, eHO124, ePD86, eLH42, eHO130, ePD76, eQD137, eQD123, eMR20, eEE243, eHH173, eHH174, eQD124, eHH169, eEE228, eXL27, eQD115, eXL36, eMR12, eLH47, eDH113, eEE226, eXL37, eDH96, eXL30\n",
       "2 eLH41, eJL164, eXL31, eHO132, ePD86, eAV88, ePD84, eEE243, eXL37, eQD118, eEE224, eXL27, eMR12, eOX56, eLH47, eMR18, eLH46, eQD136, eOX43, eOX54, ePD76                                                                                        \n",
       "3 eJL143, ePD79, eHH175, eLH45, eHO126, eXL31, eLH49, eLH42, eJL157, eHO135, eLH54, eMR14, eLH47, eAV91, eQD109, eQD111, eMR23, eQD123, eMR15                                                                                                    \n",
       "4 eEE243, eHH175, eXL30, eHO130, eJL149, eAV88, eXL27, eOX54, eEE224, eEE228, eOX49, eEE226, eOX52, eEE240, eOX46, eOX43, eXL31                                                                                                                  \n",
       "5 eMR17, eJL161, eHO134, eQD124, eMR13, eQD111, eQD121, eHO140, eMR12, eQD125, eLH47, eEE226, eQD126, eQD114, eQD110, eQD120                                                                                                                     \n",
       "6 eOX56, eEE224, eEE226, eEE228, eOX49, eOX54, eOX52, eXL27, eXL30, eOX43, eOX46, eXL32, eEE240, eAV88, eQD128, eHH175                                                                                                                           \n",
       "  count.y\n",
       "1 32     \n",
       "2 21     \n",
       "3 19     \n",
       "4 17     \n",
       "5 16     \n",
       "6 16     "
      ]
     },
     "metadata": {},
     "output_type": "display_data"
    }
   ],
   "source": [
    "head(covidfle_uniq_ab_dedup[order(covidfle_uniq_ab_dedup$count.y, decreasing = T),])"
   ]
  },
  {
   "cell_type": "code",
   "execution_count": 42,
   "metadata": {
    "vscode": {
     "languageId": "r"
    }
   },
   "outputs": [],
   "source": [
    "covidfle_uniq_ab_dedup$file <- \"COVID_specific_TCRB.tsv\""
   ]
  },
  {
   "cell_type": "code",
   "execution_count": 45,
   "metadata": {
    "vscode": {
     "languageId": "r"
    }
   },
   "outputs": [],
   "source": [
    "covidfle_uniq_ab_dedup$clonefraction <- 1"
   ]
  },
  {
   "cell_type": "code",
   "execution_count": 47,
   "metadata": {
    "vscode": {
     "languageId": "r"
    }
   },
   "outputs": [],
   "source": [
    "covidfle_uniq_ab_dedup_subset <- covidfle_uniq_ab_dedup[,c(\"CDR3b\", \"TRBV\", \"TRBJ\", \"subject:condition\",\n",
    "                                                          \"count.y\", \"clonefraction\", \"subject\",\"file\")]"
   ]
  },
  {
   "cell_type": "code",
   "execution_count": 49,
   "metadata": {
    "vscode": {
     "languageId": "r"
    }
   },
   "outputs": [],
   "source": [
    "colnames(covidfle_uniq_ab_dedup_subset)[ colnames(covidfle_uniq_ab_dedup_subset) == \"count.y\"] <- \"count\""
   ]
  },
  {
   "cell_type": "code",
   "execution_count": 73,
   "metadata": {
    "vscode": {
     "languageId": "r"
    }
   },
   "outputs": [],
   "source": [
    "covidfle_uniq_ab_dedup_subset$index <- 1:nrow(covidfle_uniq_ab_dedup_subset)"
   ]
  },
  {
   "cell_type": "code",
   "execution_count": 74,
   "metadata": {
    "vscode": {
     "languageId": "r"
    }
   },
   "outputs": [],
   "source": [
    "save(covidfle_uniq_ab_dedup_subset, file = paste0(datapath, \"capTCRseq/covidfle_uniq_ab_dedup_subset.RData\"))"
   ]
  },
  {
   "attachments": {},
   "cell_type": "markdown",
   "metadata": {},
   "source": [
    "# bind all"
   ]
  },
  {
   "cell_type": "code",
   "execution_count": 162,
   "metadata": {
    "vscode": {
     "languageId": "r"
    }
   },
   "outputs": [],
   "source": [
    "load(file = paste0(datapath, \"capTCRseq/INT_gliph_input.RData\"))"
   ]
  },
  {
   "cell_type": "code",
   "execution_count": 163,
   "metadata": {
    "vscode": {
     "languageId": "r"
    }
   },
   "outputs": [
    {
     "data": {
      "text/html": [
       "<table class=\"dataframe\">\n",
       "<caption>A data.table: 6 × 9</caption>\n",
       "<thead>\n",
       "\t<tr><th scope=col>CDR3b</th><th scope=col>TRBV</th><th scope=col>TRBJ</th><th scope=col>subject:condition</th><th scope=col>count</th><th scope=col>clonefraction</th><th scope=col>subject</th><th scope=col>file</th><th scope=col>index</th></tr>\n",
       "\t<tr><th scope=col>&lt;chr&gt;</th><th scope=col>&lt;chr&gt;</th><th scope=col>&lt;chr&gt;</th><th scope=col>&lt;chr&gt;</th><th scope=col>&lt;int&gt;</th><th scope=col>&lt;dbl&gt;</th><th scope=col>&lt;chr&gt;</th><th scope=col>&lt;chr&gt;</th><th scope=col>&lt;int&gt;</th></tr>\n",
       "</thead>\n",
       "<tbody>\n",
       "\t<tr><td>CAIRDPEQGITDTQYF </td><td>TRBV10-3</td><td>TRBJ2-3</td><td>CHP_315</td><td>24</td><td>0.025369979</td><td>CHP_315-05-PBMC-DNA</td><td>/Users/anabbi/Desktop/H4H/INTERCEPT/NextSeq/batch4_19Aug2019/mixcr/clones/CLONES_TRBCHP_315-05-PBMC-DNA.txt</td><td>1</td></tr>\n",
       "\t<tr><td>CAIRGTGADQPQHF   </td><td>TRBV10-3</td><td>TRBJ1-5</td><td>CHP_315</td><td>21</td><td>0.022198732</td><td>CHP_315-05-PBMC-DNA</td><td>/Users/anabbi/Desktop/H4H/INTERCEPT/NextSeq/batch4_19Aug2019/mixcr/clones/CLONES_TRBCHP_315-05-PBMC-DNA.txt</td><td>2</td></tr>\n",
       "\t<tr><td>CAISGVWGGDTQYF   </td><td>TRBV10-3</td><td>TRBJ2-3</td><td>CHP_315</td><td>12</td><td>0.012684989</td><td>CHP_315-05-PBMC-DNA</td><td>/Users/anabbi/Desktop/H4H/INTERCEPT/NextSeq/batch4_19Aug2019/mixcr/clones/CLONES_TRBCHP_315-05-PBMC-DNA.txt</td><td>3</td></tr>\n",
       "\t<tr><td>CASRLAGTGSPLHF   </td><td>TRBV6-1 </td><td>TRBJ1-6</td><td>CHP_315</td><td> 2</td><td>0.002114165</td><td>CHP_315-05-PBMC-DNA</td><td>/Users/anabbi/Desktop/H4H/INTERCEPT/NextSeq/batch4_19Aug2019/mixcr/clones/CLONES_TRBCHP_315-05-PBMC-DNA.txt</td><td>4</td></tr>\n",
       "\t<tr><td>CASSDPQGTEAFF    </td><td>TRBV6-2 </td><td>TRBJ1-1</td><td>CHP_315</td><td>21</td><td>0.022198732</td><td>CHP_315-05-PBMC-DNA</td><td>/Users/anabbi/Desktop/H4H/INTERCEPT/NextSeq/batch4_19Aug2019/mixcr/clones/CLONES_TRBCHP_315-05-PBMC-DNA.txt</td><td>5</td></tr>\n",
       "\t<tr><td>CASSEEPGTSGYNEQFF</td><td>TRBV2   </td><td>TRBJ2-1</td><td>CHP_315</td><td> 6</td><td>0.006342495</td><td>CHP_315-05-PBMC-DNA</td><td>/Users/anabbi/Desktop/H4H/INTERCEPT/NextSeq/batch4_19Aug2019/mixcr/clones/CLONES_TRBCHP_315-05-PBMC-DNA.txt</td><td>6</td></tr>\n",
       "</tbody>\n",
       "</table>\n"
      ],
      "text/latex": [
       "A data.table: 6 × 9\n",
       "\\begin{tabular}{lllllllll}\n",
       " CDR3b & TRBV & TRBJ & subject:condition & count & clonefraction & subject & file & index\\\\\n",
       " <chr> & <chr> & <chr> & <chr> & <int> & <dbl> & <chr> & <chr> & <int>\\\\\n",
       "\\hline\n",
       "\t CAIRDPEQGITDTQYF  & TRBV10-3 & TRBJ2-3 & CHP\\_315 & 24 & 0.025369979 & CHP\\_315-05-PBMC-DNA & /Users/anabbi/Desktop/H4H/INTERCEPT/NextSeq/batch4\\_19Aug2019/mixcr/clones/CLONES\\_TRBCHP\\_315-05-PBMC-DNA.txt & 1\\\\\n",
       "\t CAIRGTGADQPQHF    & TRBV10-3 & TRBJ1-5 & CHP\\_315 & 21 & 0.022198732 & CHP\\_315-05-PBMC-DNA & /Users/anabbi/Desktop/H4H/INTERCEPT/NextSeq/batch4\\_19Aug2019/mixcr/clones/CLONES\\_TRBCHP\\_315-05-PBMC-DNA.txt & 2\\\\\n",
       "\t CAISGVWGGDTQYF    & TRBV10-3 & TRBJ2-3 & CHP\\_315 & 12 & 0.012684989 & CHP\\_315-05-PBMC-DNA & /Users/anabbi/Desktop/H4H/INTERCEPT/NextSeq/batch4\\_19Aug2019/mixcr/clones/CLONES\\_TRBCHP\\_315-05-PBMC-DNA.txt & 3\\\\\n",
       "\t CASRLAGTGSPLHF    & TRBV6-1  & TRBJ1-6 & CHP\\_315 &  2 & 0.002114165 & CHP\\_315-05-PBMC-DNA & /Users/anabbi/Desktop/H4H/INTERCEPT/NextSeq/batch4\\_19Aug2019/mixcr/clones/CLONES\\_TRBCHP\\_315-05-PBMC-DNA.txt & 4\\\\\n",
       "\t CASSDPQGTEAFF     & TRBV6-2  & TRBJ1-1 & CHP\\_315 & 21 & 0.022198732 & CHP\\_315-05-PBMC-DNA & /Users/anabbi/Desktop/H4H/INTERCEPT/NextSeq/batch4\\_19Aug2019/mixcr/clones/CLONES\\_TRBCHP\\_315-05-PBMC-DNA.txt & 5\\\\\n",
       "\t CASSEEPGTSGYNEQFF & TRBV2    & TRBJ2-1 & CHP\\_315 &  6 & 0.006342495 & CHP\\_315-05-PBMC-DNA & /Users/anabbi/Desktop/H4H/INTERCEPT/NextSeq/batch4\\_19Aug2019/mixcr/clones/CLONES\\_TRBCHP\\_315-05-PBMC-DNA.txt & 6\\\\\n",
       "\\end{tabular}\n"
      ],
      "text/markdown": [
       "\n",
       "A data.table: 6 × 9\n",
       "\n",
       "| CDR3b &lt;chr&gt; | TRBV &lt;chr&gt; | TRBJ &lt;chr&gt; | subject:condition &lt;chr&gt; | count &lt;int&gt; | clonefraction &lt;dbl&gt; | subject &lt;chr&gt; | file &lt;chr&gt; | index &lt;int&gt; |\n",
       "|---|---|---|---|---|---|---|---|---|\n",
       "| CAIRDPEQGITDTQYF  | TRBV10-3 | TRBJ2-3 | CHP_315 | 24 | 0.025369979 | CHP_315-05-PBMC-DNA | /Users/anabbi/Desktop/H4H/INTERCEPT/NextSeq/batch4_19Aug2019/mixcr/clones/CLONES_TRBCHP_315-05-PBMC-DNA.txt | 1 |\n",
       "| CAIRGTGADQPQHF    | TRBV10-3 | TRBJ1-5 | CHP_315 | 21 | 0.022198732 | CHP_315-05-PBMC-DNA | /Users/anabbi/Desktop/H4H/INTERCEPT/NextSeq/batch4_19Aug2019/mixcr/clones/CLONES_TRBCHP_315-05-PBMC-DNA.txt | 2 |\n",
       "| CAISGVWGGDTQYF    | TRBV10-3 | TRBJ2-3 | CHP_315 | 12 | 0.012684989 | CHP_315-05-PBMC-DNA | /Users/anabbi/Desktop/H4H/INTERCEPT/NextSeq/batch4_19Aug2019/mixcr/clones/CLONES_TRBCHP_315-05-PBMC-DNA.txt | 3 |\n",
       "| CASRLAGTGSPLHF    | TRBV6-1  | TRBJ1-6 | CHP_315 |  2 | 0.002114165 | CHP_315-05-PBMC-DNA | /Users/anabbi/Desktop/H4H/INTERCEPT/NextSeq/batch4_19Aug2019/mixcr/clones/CLONES_TRBCHP_315-05-PBMC-DNA.txt | 4 |\n",
       "| CASSDPQGTEAFF     | TRBV6-2  | TRBJ1-1 | CHP_315 | 21 | 0.022198732 | CHP_315-05-PBMC-DNA | /Users/anabbi/Desktop/H4H/INTERCEPT/NextSeq/batch4_19Aug2019/mixcr/clones/CLONES_TRBCHP_315-05-PBMC-DNA.txt | 5 |\n",
       "| CASSEEPGTSGYNEQFF | TRBV2    | TRBJ2-1 | CHP_315 |  6 | 0.006342495 | CHP_315-05-PBMC-DNA | /Users/anabbi/Desktop/H4H/INTERCEPT/NextSeq/batch4_19Aug2019/mixcr/clones/CLONES_TRBCHP_315-05-PBMC-DNA.txt | 6 |\n",
       "\n"
      ],
      "text/plain": [
       "  CDR3b             TRBV     TRBJ    subject:condition count clonefraction\n",
       "1 CAIRDPEQGITDTQYF  TRBV10-3 TRBJ2-3 CHP_315           24    0.025369979  \n",
       "2 CAIRGTGADQPQHF    TRBV10-3 TRBJ1-5 CHP_315           21    0.022198732  \n",
       "3 CAISGVWGGDTQYF    TRBV10-3 TRBJ2-3 CHP_315           12    0.012684989  \n",
       "4 CASRLAGTGSPLHF    TRBV6-1  TRBJ1-6 CHP_315            2    0.002114165  \n",
       "5 CASSDPQGTEAFF     TRBV6-2  TRBJ1-1 CHP_315           21    0.022198732  \n",
       "6 CASSEEPGTSGYNEQFF TRBV2    TRBJ2-1 CHP_315            6    0.006342495  \n",
       "  subject            \n",
       "1 CHP_315-05-PBMC-DNA\n",
       "2 CHP_315-05-PBMC-DNA\n",
       "3 CHP_315-05-PBMC-DNA\n",
       "4 CHP_315-05-PBMC-DNA\n",
       "5 CHP_315-05-PBMC-DNA\n",
       "6 CHP_315-05-PBMC-DNA\n",
       "  file                                                                                                       \n",
       "1 /Users/anabbi/Desktop/H4H/INTERCEPT/NextSeq/batch4_19Aug2019/mixcr/clones/CLONES_TRBCHP_315-05-PBMC-DNA.txt\n",
       "2 /Users/anabbi/Desktop/H4H/INTERCEPT/NextSeq/batch4_19Aug2019/mixcr/clones/CLONES_TRBCHP_315-05-PBMC-DNA.txt\n",
       "3 /Users/anabbi/Desktop/H4H/INTERCEPT/NextSeq/batch4_19Aug2019/mixcr/clones/CLONES_TRBCHP_315-05-PBMC-DNA.txt\n",
       "4 /Users/anabbi/Desktop/H4H/INTERCEPT/NextSeq/batch4_19Aug2019/mixcr/clones/CLONES_TRBCHP_315-05-PBMC-DNA.txt\n",
       "5 /Users/anabbi/Desktop/H4H/INTERCEPT/NextSeq/batch4_19Aug2019/mixcr/clones/CLONES_TRBCHP_315-05-PBMC-DNA.txt\n",
       "6 /Users/anabbi/Desktop/H4H/INTERCEPT/NextSeq/batch4_19Aug2019/mixcr/clones/CLONES_TRBCHP_315-05-PBMC-DNA.txt\n",
       "  index\n",
       "1 1    \n",
       "2 2    \n",
       "3 3    \n",
       "4 4    \n",
       "5 5    \n",
       "6 6    "
      ]
     },
     "metadata": {},
     "output_type": "display_data"
    }
   ],
   "source": [
    "head(taball)"
   ]
  },
  {
   "cell_type": "code",
   "execution_count": 7,
   "metadata": {
    "vscode": {
     "languageId": "r"
    }
   },
   "outputs": [],
   "source": [
    "#load(file = paste0(datapath, \"capTCRseq/covidfle_uniq_ab_dedup_subset.RData\"))"
   ]
  },
  {
   "cell_type": "code",
   "execution_count": 8,
   "metadata": {
    "vscode": {
     "languageId": "r"
    }
   },
   "outputs": [],
   "source": [
    "load(file = paste0(datapath, \"capTCRseq/VDJdb_tcr_cleanup.RData\"))"
   ]
  },
  {
   "cell_type": "code",
   "execution_count": 9,
   "metadata": {
    "vscode": {
     "languageId": "r"
    }
   },
   "outputs": [],
   "source": [
    "gliph_int_covid_tcr <- rbind(taball, covidfle_uniq_ab_dedup_subset, VDJdb_tcr_cleanup)"
   ]
  },
  {
   "cell_type": "code",
   "execution_count": 10,
   "metadata": {
    "scrolled": true,
    "vscode": {
     "languageId": "r"
    }
   },
   "outputs": [],
   "source": [
    "gliph_int_covid_tcr$CDR3a <- NA"
   ]
  },
  {
   "cell_type": "code",
   "execution_count": 11,
   "metadata": {
    "vscode": {
     "languageId": "r"
    }
   },
   "outputs": [],
   "source": [
    "gliph_int_covid_tcr <- gliph_int_covid_tcr[,c('CDR3b','TRBV','TRBJ','CDR3a', 'subject:condition','count',\n",
    "                                              'clonefraction','subject','file','index')]"
   ]
  },
  {
   "cell_type": "code",
   "execution_count": 12,
   "metadata": {
    "vscode": {
     "languageId": "r"
    }
   },
   "outputs": [],
   "source": [
    "#bind subject and index to be able to map back to gliph_int_covid_tcr\n",
    "gliph_int_covid_tcr$`subject:condition` <- paste(gliph_int_covid_tcr$`subject:condition`,\n",
    "                                                 gliph_int_covid_tcr$index, sep = \":\")"
   ]
  },
  {
   "cell_type": "code",
   "execution_count": 13,
   "metadata": {
    "vscode": {
     "languageId": "r"
    }
   },
   "outputs": [],
   "source": [
    "save(gliph_int_covid_tcr, file = paste0(datapath, \"capTCRseq/gliph_int_covid_tcr.RData\"))"
   ]
  },
  {
   "cell_type": "code",
   "execution_count": 14,
   "metadata": {
    "vscode": {
     "languageId": "r"
    }
   },
   "outputs": [],
   "source": [
    "#remove header and select cols 1:6 for gliph to work\n",
    "write.table(gliph_int_covid_tcr[,1:6], file = paste0(h4hpath,'/GLIPH/gliph_int_covid_tcr.txt'),\n",
    "         sep = \"\\t\", quote = F, row.names = F, col.names = F)"
   ]
  },
  {
   "cell_type": "code",
   "execution_count": 182,
   "metadata": {
    "vscode": {
     "languageId": "r"
    }
   },
   "outputs": [],
   "source": [
    "load(file = paste0(datapath, \"capTCRseq/gliph_int_covid_tcr.RData\"))"
   ]
  },
  {
   "cell_type": "code",
   "execution_count": 183,
   "metadata": {
    "vscode": {
     "languageId": "r"
    }
   },
   "outputs": [
    {
     "data": {
      "text/html": [
       "<table class=\"dataframe\">\n",
       "<caption>A data.table: 6 × 10</caption>\n",
       "<thead>\n",
       "\t<tr><th scope=col>CDR3b</th><th scope=col>TRBV</th><th scope=col>TRBJ</th><th scope=col>CDR3a</th><th scope=col>subject:condition</th><th scope=col>count</th><th scope=col>clonefraction</th><th scope=col>subject</th><th scope=col>file</th><th scope=col>index</th></tr>\n",
       "\t<tr><th scope=col>&lt;chr&gt;</th><th scope=col>&lt;chr&gt;</th><th scope=col>&lt;chr&gt;</th><th scope=col>&lt;lgl&gt;</th><th scope=col>&lt;chr&gt;</th><th scope=col>&lt;dbl&gt;</th><th scope=col>&lt;dbl&gt;</th><th scope=col>&lt;chr&gt;</th><th scope=col>&lt;chr&gt;</th><th scope=col>&lt;int&gt;</th></tr>\n",
       "</thead>\n",
       "<tbody>\n",
       "\t<tr><td>CAIRDPEQGITDTQYF </td><td>TRBV10-3</td><td>TRBJ2-3</td><td>NA</td><td>CHP_315:1</td><td>24</td><td>0.025369979</td><td>CHP_315-05-PBMC-DNA</td><td>/Users/anabbi/Desktop/H4H/INTERCEPT/NextSeq/batch4_19Aug2019/mixcr/clones/CLONES_TRBCHP_315-05-PBMC-DNA.txt</td><td>1</td></tr>\n",
       "\t<tr><td>CAIRGTGADQPQHF   </td><td>TRBV10-3</td><td>TRBJ1-5</td><td>NA</td><td>CHP_315:2</td><td>21</td><td>0.022198732</td><td>CHP_315-05-PBMC-DNA</td><td>/Users/anabbi/Desktop/H4H/INTERCEPT/NextSeq/batch4_19Aug2019/mixcr/clones/CLONES_TRBCHP_315-05-PBMC-DNA.txt</td><td>2</td></tr>\n",
       "\t<tr><td>CAISGVWGGDTQYF   </td><td>TRBV10-3</td><td>TRBJ2-3</td><td>NA</td><td>CHP_315:3</td><td>12</td><td>0.012684989</td><td>CHP_315-05-PBMC-DNA</td><td>/Users/anabbi/Desktop/H4H/INTERCEPT/NextSeq/batch4_19Aug2019/mixcr/clones/CLONES_TRBCHP_315-05-PBMC-DNA.txt</td><td>3</td></tr>\n",
       "\t<tr><td>CASRLAGTGSPLHF   </td><td>TRBV6-1 </td><td>TRBJ1-6</td><td>NA</td><td>CHP_315:4</td><td> 2</td><td>0.002114165</td><td>CHP_315-05-PBMC-DNA</td><td>/Users/anabbi/Desktop/H4H/INTERCEPT/NextSeq/batch4_19Aug2019/mixcr/clones/CLONES_TRBCHP_315-05-PBMC-DNA.txt</td><td>4</td></tr>\n",
       "\t<tr><td>CASSDPQGTEAFF    </td><td>TRBV6-2 </td><td>TRBJ1-1</td><td>NA</td><td>CHP_315:5</td><td>21</td><td>0.022198732</td><td>CHP_315-05-PBMC-DNA</td><td>/Users/anabbi/Desktop/H4H/INTERCEPT/NextSeq/batch4_19Aug2019/mixcr/clones/CLONES_TRBCHP_315-05-PBMC-DNA.txt</td><td>5</td></tr>\n",
       "\t<tr><td>CASSEEPGTSGYNEQFF</td><td>TRBV2   </td><td>TRBJ2-1</td><td>NA</td><td>CHP_315:6</td><td> 6</td><td>0.006342495</td><td>CHP_315-05-PBMC-DNA</td><td>/Users/anabbi/Desktop/H4H/INTERCEPT/NextSeq/batch4_19Aug2019/mixcr/clones/CLONES_TRBCHP_315-05-PBMC-DNA.txt</td><td>6</td></tr>\n",
       "</tbody>\n",
       "</table>\n"
      ],
      "text/latex": [
       "A data.table: 6 × 10\n",
       "\\begin{tabular}{llllllllll}\n",
       " CDR3b & TRBV & TRBJ & CDR3a & subject:condition & count & clonefraction & subject & file & index\\\\\n",
       " <chr> & <chr> & <chr> & <lgl> & <chr> & <dbl> & <dbl> & <chr> & <chr> & <int>\\\\\n",
       "\\hline\n",
       "\t CAIRDPEQGITDTQYF  & TRBV10-3 & TRBJ2-3 & NA & CHP\\_315:1 & 24 & 0.025369979 & CHP\\_315-05-PBMC-DNA & /Users/anabbi/Desktop/H4H/INTERCEPT/NextSeq/batch4\\_19Aug2019/mixcr/clones/CLONES\\_TRBCHP\\_315-05-PBMC-DNA.txt & 1\\\\\n",
       "\t CAIRGTGADQPQHF    & TRBV10-3 & TRBJ1-5 & NA & CHP\\_315:2 & 21 & 0.022198732 & CHP\\_315-05-PBMC-DNA & /Users/anabbi/Desktop/H4H/INTERCEPT/NextSeq/batch4\\_19Aug2019/mixcr/clones/CLONES\\_TRBCHP\\_315-05-PBMC-DNA.txt & 2\\\\\n",
       "\t CAISGVWGGDTQYF    & TRBV10-3 & TRBJ2-3 & NA & CHP\\_315:3 & 12 & 0.012684989 & CHP\\_315-05-PBMC-DNA & /Users/anabbi/Desktop/H4H/INTERCEPT/NextSeq/batch4\\_19Aug2019/mixcr/clones/CLONES\\_TRBCHP\\_315-05-PBMC-DNA.txt & 3\\\\\n",
       "\t CASRLAGTGSPLHF    & TRBV6-1  & TRBJ1-6 & NA & CHP\\_315:4 &  2 & 0.002114165 & CHP\\_315-05-PBMC-DNA & /Users/anabbi/Desktop/H4H/INTERCEPT/NextSeq/batch4\\_19Aug2019/mixcr/clones/CLONES\\_TRBCHP\\_315-05-PBMC-DNA.txt & 4\\\\\n",
       "\t CASSDPQGTEAFF     & TRBV6-2  & TRBJ1-1 & NA & CHP\\_315:5 & 21 & 0.022198732 & CHP\\_315-05-PBMC-DNA & /Users/anabbi/Desktop/H4H/INTERCEPT/NextSeq/batch4\\_19Aug2019/mixcr/clones/CLONES\\_TRBCHP\\_315-05-PBMC-DNA.txt & 5\\\\\n",
       "\t CASSEEPGTSGYNEQFF & TRBV2    & TRBJ2-1 & NA & CHP\\_315:6 &  6 & 0.006342495 & CHP\\_315-05-PBMC-DNA & /Users/anabbi/Desktop/H4H/INTERCEPT/NextSeq/batch4\\_19Aug2019/mixcr/clones/CLONES\\_TRBCHP\\_315-05-PBMC-DNA.txt & 6\\\\\n",
       "\\end{tabular}\n"
      ],
      "text/markdown": [
       "\n",
       "A data.table: 6 × 10\n",
       "\n",
       "| CDR3b &lt;chr&gt; | TRBV &lt;chr&gt; | TRBJ &lt;chr&gt; | CDR3a &lt;lgl&gt; | subject:condition &lt;chr&gt; | count &lt;dbl&gt; | clonefraction &lt;dbl&gt; | subject &lt;chr&gt; | file &lt;chr&gt; | index &lt;int&gt; |\n",
       "|---|---|---|---|---|---|---|---|---|---|\n",
       "| CAIRDPEQGITDTQYF  | TRBV10-3 | TRBJ2-3 | NA | CHP_315:1 | 24 | 0.025369979 | CHP_315-05-PBMC-DNA | /Users/anabbi/Desktop/H4H/INTERCEPT/NextSeq/batch4_19Aug2019/mixcr/clones/CLONES_TRBCHP_315-05-PBMC-DNA.txt | 1 |\n",
       "| CAIRGTGADQPQHF    | TRBV10-3 | TRBJ1-5 | NA | CHP_315:2 | 21 | 0.022198732 | CHP_315-05-PBMC-DNA | /Users/anabbi/Desktop/H4H/INTERCEPT/NextSeq/batch4_19Aug2019/mixcr/clones/CLONES_TRBCHP_315-05-PBMC-DNA.txt | 2 |\n",
       "| CAISGVWGGDTQYF    | TRBV10-3 | TRBJ2-3 | NA | CHP_315:3 | 12 | 0.012684989 | CHP_315-05-PBMC-DNA | /Users/anabbi/Desktop/H4H/INTERCEPT/NextSeq/batch4_19Aug2019/mixcr/clones/CLONES_TRBCHP_315-05-PBMC-DNA.txt | 3 |\n",
       "| CASRLAGTGSPLHF    | TRBV6-1  | TRBJ1-6 | NA | CHP_315:4 |  2 | 0.002114165 | CHP_315-05-PBMC-DNA | /Users/anabbi/Desktop/H4H/INTERCEPT/NextSeq/batch4_19Aug2019/mixcr/clones/CLONES_TRBCHP_315-05-PBMC-DNA.txt | 4 |\n",
       "| CASSDPQGTEAFF     | TRBV6-2  | TRBJ1-1 | NA | CHP_315:5 | 21 | 0.022198732 | CHP_315-05-PBMC-DNA | /Users/anabbi/Desktop/H4H/INTERCEPT/NextSeq/batch4_19Aug2019/mixcr/clones/CLONES_TRBCHP_315-05-PBMC-DNA.txt | 5 |\n",
       "| CASSEEPGTSGYNEQFF | TRBV2    | TRBJ2-1 | NA | CHP_315:6 |  6 | 0.006342495 | CHP_315-05-PBMC-DNA | /Users/anabbi/Desktop/H4H/INTERCEPT/NextSeq/batch4_19Aug2019/mixcr/clones/CLONES_TRBCHP_315-05-PBMC-DNA.txt | 6 |\n",
       "\n"
      ],
      "text/plain": [
       "  CDR3b             TRBV     TRBJ    CDR3a subject:condition count\n",
       "1 CAIRDPEQGITDTQYF  TRBV10-3 TRBJ2-3 NA    CHP_315:1         24   \n",
       "2 CAIRGTGADQPQHF    TRBV10-3 TRBJ1-5 NA    CHP_315:2         21   \n",
       "3 CAISGVWGGDTQYF    TRBV10-3 TRBJ2-3 NA    CHP_315:3         12   \n",
       "4 CASRLAGTGSPLHF    TRBV6-1  TRBJ1-6 NA    CHP_315:4          2   \n",
       "5 CASSDPQGTEAFF     TRBV6-2  TRBJ1-1 NA    CHP_315:5         21   \n",
       "6 CASSEEPGTSGYNEQFF TRBV2    TRBJ2-1 NA    CHP_315:6          6   \n",
       "  clonefraction subject            \n",
       "1 0.025369979   CHP_315-05-PBMC-DNA\n",
       "2 0.022198732   CHP_315-05-PBMC-DNA\n",
       "3 0.012684989   CHP_315-05-PBMC-DNA\n",
       "4 0.002114165   CHP_315-05-PBMC-DNA\n",
       "5 0.022198732   CHP_315-05-PBMC-DNA\n",
       "6 0.006342495   CHP_315-05-PBMC-DNA\n",
       "  file                                                                                                       \n",
       "1 /Users/anabbi/Desktop/H4H/INTERCEPT/NextSeq/batch4_19Aug2019/mixcr/clones/CLONES_TRBCHP_315-05-PBMC-DNA.txt\n",
       "2 /Users/anabbi/Desktop/H4H/INTERCEPT/NextSeq/batch4_19Aug2019/mixcr/clones/CLONES_TRBCHP_315-05-PBMC-DNA.txt\n",
       "3 /Users/anabbi/Desktop/H4H/INTERCEPT/NextSeq/batch4_19Aug2019/mixcr/clones/CLONES_TRBCHP_315-05-PBMC-DNA.txt\n",
       "4 /Users/anabbi/Desktop/H4H/INTERCEPT/NextSeq/batch4_19Aug2019/mixcr/clones/CLONES_TRBCHP_315-05-PBMC-DNA.txt\n",
       "5 /Users/anabbi/Desktop/H4H/INTERCEPT/NextSeq/batch4_19Aug2019/mixcr/clones/CLONES_TRBCHP_315-05-PBMC-DNA.txt\n",
       "6 /Users/anabbi/Desktop/H4H/INTERCEPT/NextSeq/batch4_19Aug2019/mixcr/clones/CLONES_TRBCHP_315-05-PBMC-DNA.txt\n",
       "  index\n",
       "1 1    \n",
       "2 2    \n",
       "3 3    \n",
       "4 4    \n",
       "5 5    \n",
       "6 6    "
      ]
     },
     "metadata": {},
     "output_type": "display_data"
    }
   ],
   "source": [
    "head(gliph_int_covid_tcr)"
   ]
  },
  {
   "cell_type": "code",
   "execution_count": 6,
   "metadata": {
    "vscode": {
     "languageId": "r"
    }
   },
   "outputs": [],
   "source": [
    "mylist <- list()\n",
    "\n",
    "for(i in 1:nrow(file_df_dedup_trb)){\n",
    "    \n",
    "    onefle <- read.table(paste0(h4hpath, file_df_dedup_trb$file_list[i]), \n",
    "                         sep = \"\\t\", header = TRUE, stringsAsFactors = F)  \n",
    "    # Remove non-productive\n",
    "    onefle <- onefle[!grepl(\"_\", onefle$aaSeqCDR3),]\n",
    "    onefle <- onefle[!grepl(\"[*]\", onefle$aaSeqCDR3),]\n",
    "    onefle$CDR3b <- onefle$aaSeqCDR3\n",
    "    #next if the file has no productive cdr3\n",
    "    if(nrow(onefle) == 0){ next}\n",
    "    #remove scores\n",
    "    onefle$TRBV <- gsub(\"[*]0.*\", \"\", onefle$allVHitsWithScore)\n",
    "    onefle$TRBJ <- gsub(\"[*]0.*\", \"\", onefle$allJHitsWithScore)\n",
    "\n",
    "    onefle$count <- onefle$cloneCount\n",
    "    onefle$clonefraction <- onefle$cloneFraction\n",
    "    onefle$nSeqCDR3 <- onefle$nSeqCDR3\n",
    "    onefle$file <- paste0(h4hpath, file_df_dedup_trb$file_list[i])\n",
    "    onefle$subject.condition <- file_df_dedup_trb$samplename[i]\n",
    "    mylist[length(mylist) + 1] <- list(onefle[,c(\"CDR3b\", \"TRBV\", \"TRBJ\", \"subject.condition\", \n",
    "                                                 \"count\", \"clonefraction\",\"nSeqCDR3\", \"file\")])\n",
    "}"
   ]
  },
  {
   "cell_type": "code",
   "execution_count": 7,
   "metadata": {
    "vscode": {
     "languageId": "r"
    }
   },
   "outputs": [
    {
     "data": {
      "text/html": [
       "580"
      ],
      "text/latex": [
       "580"
      ],
      "text/markdown": [
       "580"
      ],
      "text/plain": [
       "[1] 580"
      ]
     },
     "metadata": {},
     "output_type": "display_data"
    }
   ],
   "source": [
    "length(mylist)"
   ]
  },
  {
   "cell_type": "code",
   "execution_count": 8,
   "metadata": {
    "vscode": {
     "languageId": "r"
    }
   },
   "outputs": [],
   "source": [
    "gliph_input <- do.call(\"rbind\", mylist)"
   ]
  },
  {
   "cell_type": "code",
   "execution_count": 9,
   "metadata": {
    "vscode": {
     "languageId": "r"
    }
   },
   "outputs": [
    {
     "data": {
      "text/html": [
       "<style>\n",
       ".list-inline {list-style: none; margin:0; padding: 0}\n",
       ".list-inline>li {display: inline-block}\n",
       ".list-inline>li:not(:last-child)::after {content: \"\\00b7\"; padding: 0 .5ex}\n",
       "</style>\n",
       "<ol class=list-inline><li>72634</li><li>8</li></ol>\n"
      ],
      "text/latex": [
       "\\begin{enumerate*}\n",
       "\\item 72634\n",
       "\\item 8\n",
       "\\end{enumerate*}\n"
      ],
      "text/markdown": [
       "1. 72634\n",
       "2. 8\n",
       "\n",
       "\n"
      ],
      "text/plain": [
       "[1] 72634     8"
      ]
     },
     "metadata": {},
     "output_type": "display_data"
    }
   ],
   "source": [
    "dim(gliph_input)"
   ]
  },
  {
   "cell_type": "code",
   "execution_count": 10,
   "metadata": {
    "vscode": {
     "languageId": "r"
    }
   },
   "outputs": [
    {
     "data": {
      "text/html": [
       "<table class=\"dataframe\">\n",
       "<caption>A data.frame: 6 × 8</caption>\n",
       "<thead>\n",
       "\t<tr><th></th><th scope=col>CDR3b</th><th scope=col>TRBV</th><th scope=col>TRBJ</th><th scope=col>subject.condition</th><th scope=col>count</th><th scope=col>clonefraction</th><th scope=col>nSeqCDR3</th><th scope=col>file</th></tr>\n",
       "\t<tr><th></th><th scope=col>&lt;chr&gt;</th><th scope=col>&lt;chr&gt;</th><th scope=col>&lt;chr&gt;</th><th scope=col>&lt;chr&gt;</th><th scope=col>&lt;int&gt;</th><th scope=col>&lt;dbl&gt;</th><th scope=col>&lt;chr&gt;</th><th scope=col>&lt;chr&gt;</th></tr>\n",
       "</thead>\n",
       "<tbody>\n",
       "\t<tr><th scope=row>1</th><td>CASSFYGREADTQYF</td><td>TRBV7-2</td><td>TRBJ2-3</td><td>CHP_315-05-PBMC-DNA</td><td>187</td><td>0.19767442</td><td>TGTGCCAGCAGCTTCTATGGCAGGGAAGCAGATACGCAGTATTTT</td><td>/Users/anabbi/Desktop/H4H/INTERCEPT/NextSeq/batch4_19Aug2019/mixcr/clones/CLONES_TRBCHP_315-05-PBMC-DNA.txt</td></tr>\n",
       "\t<tr><th scope=row>3</th><td>CASSLMGGDSTEAFF</td><td>TRBV7-3</td><td>TRBJ1-1</td><td>CHP_315-05-PBMC-DNA</td><td> 48</td><td>0.05073996</td><td>TGTGCCAGCAGCTTAATGGGGGGAGATAGCACTGAAGCTTTCTTT</td><td>/Users/anabbi/Desktop/H4H/INTERCEPT/NextSeq/batch4_19Aug2019/mixcr/clones/CLONES_TRBCHP_315-05-PBMC-DNA.txt</td></tr>\n",
       "\t<tr><th scope=row>4</th><td>CASSLTGTGVEKLFF</td><td>TRBV7-3</td><td>TRBJ1-4</td><td>CHP_315-05-PBMC-DNA</td><td> 48</td><td>0.05073996</td><td>TGTGCCAGCAGCTTAACCGGGACAGGGGTTGAAAAACTGTTTTTT</td><td>/Users/anabbi/Desktop/H4H/INTERCEPT/NextSeq/batch4_19Aug2019/mixcr/clones/CLONES_TRBCHP_315-05-PBMC-DNA.txt</td></tr>\n",
       "\t<tr><th scope=row>5</th><td>CASSQRGQSTEQYF </td><td>TRBV14 </td><td>TRBJ2-7</td><td>CHP_315-05-PBMC-DNA</td><td> 42</td><td>0.04439746</td><td>TGTGCCAGCAGCCAACGGGGACAGTCAACCGAGCAGTACTTC   </td><td>/Users/anabbi/Desktop/H4H/INTERCEPT/NextSeq/batch4_19Aug2019/mixcr/clones/CLONES_TRBCHP_315-05-PBMC-DNA.txt</td></tr>\n",
       "\t<tr><th scope=row>6</th><td>CASSYQAGVGETQYF</td><td>TRBV6-6</td><td>TRBJ2-5</td><td>CHP_315-05-PBMC-DNA</td><td> 32</td><td>0.03382664</td><td>TGTGCCAGCAGTTACCAAGCGGGGGTGGGTGAGACCCAGTACTTC</td><td>/Users/anabbi/Desktop/H4H/INTERCEPT/NextSeq/batch4_19Aug2019/mixcr/clones/CLONES_TRBCHP_315-05-PBMC-DNA.txt</td></tr>\n",
       "\t<tr><th scope=row>9</th><td>CASSVVGVYNSPLHF</td><td>TRBV7-2</td><td>TRBJ1-6</td><td>CHP_315-05-PBMC-DNA</td><td> 29</td><td>0.03065539</td><td>TGTGCCAGCAGCGTAGTAGGGGTCTATAATTCACCCCTCCACTTT</td><td>/Users/anabbi/Desktop/H4H/INTERCEPT/NextSeq/batch4_19Aug2019/mixcr/clones/CLONES_TRBCHP_315-05-PBMC-DNA.txt</td></tr>\n",
       "</tbody>\n",
       "</table>\n"
      ],
      "text/latex": [
       "A data.frame: 6 × 8\n",
       "\\begin{tabular}{r|llllllll}\n",
       "  & CDR3b & TRBV & TRBJ & subject.condition & count & clonefraction & nSeqCDR3 & file\\\\\n",
       "  & <chr> & <chr> & <chr> & <chr> & <int> & <dbl> & <chr> & <chr>\\\\\n",
       "\\hline\n",
       "\t1 & CASSFYGREADTQYF & TRBV7-2 & TRBJ2-3 & CHP\\_315-05-PBMC-DNA & 187 & 0.19767442 & TGTGCCAGCAGCTTCTATGGCAGGGAAGCAGATACGCAGTATTTT & /Users/anabbi/Desktop/H4H/INTERCEPT/NextSeq/batch4\\_19Aug2019/mixcr/clones/CLONES\\_TRBCHP\\_315-05-PBMC-DNA.txt\\\\\n",
       "\t3 & CASSLMGGDSTEAFF & TRBV7-3 & TRBJ1-1 & CHP\\_315-05-PBMC-DNA &  48 & 0.05073996 & TGTGCCAGCAGCTTAATGGGGGGAGATAGCACTGAAGCTTTCTTT & /Users/anabbi/Desktop/H4H/INTERCEPT/NextSeq/batch4\\_19Aug2019/mixcr/clones/CLONES\\_TRBCHP\\_315-05-PBMC-DNA.txt\\\\\n",
       "\t4 & CASSLTGTGVEKLFF & TRBV7-3 & TRBJ1-4 & CHP\\_315-05-PBMC-DNA &  48 & 0.05073996 & TGTGCCAGCAGCTTAACCGGGACAGGGGTTGAAAAACTGTTTTTT & /Users/anabbi/Desktop/H4H/INTERCEPT/NextSeq/batch4\\_19Aug2019/mixcr/clones/CLONES\\_TRBCHP\\_315-05-PBMC-DNA.txt\\\\\n",
       "\t5 & CASSQRGQSTEQYF  & TRBV14  & TRBJ2-7 & CHP\\_315-05-PBMC-DNA &  42 & 0.04439746 & TGTGCCAGCAGCCAACGGGGACAGTCAACCGAGCAGTACTTC    & /Users/anabbi/Desktop/H4H/INTERCEPT/NextSeq/batch4\\_19Aug2019/mixcr/clones/CLONES\\_TRBCHP\\_315-05-PBMC-DNA.txt\\\\\n",
       "\t6 & CASSYQAGVGETQYF & TRBV6-6 & TRBJ2-5 & CHP\\_315-05-PBMC-DNA &  32 & 0.03382664 & TGTGCCAGCAGTTACCAAGCGGGGGTGGGTGAGACCCAGTACTTC & /Users/anabbi/Desktop/H4H/INTERCEPT/NextSeq/batch4\\_19Aug2019/mixcr/clones/CLONES\\_TRBCHP\\_315-05-PBMC-DNA.txt\\\\\n",
       "\t9 & CASSVVGVYNSPLHF & TRBV7-2 & TRBJ1-6 & CHP\\_315-05-PBMC-DNA &  29 & 0.03065539 & TGTGCCAGCAGCGTAGTAGGGGTCTATAATTCACCCCTCCACTTT & /Users/anabbi/Desktop/H4H/INTERCEPT/NextSeq/batch4\\_19Aug2019/mixcr/clones/CLONES\\_TRBCHP\\_315-05-PBMC-DNA.txt\\\\\n",
       "\\end{tabular}\n"
      ],
      "text/markdown": [
       "\n",
       "A data.frame: 6 × 8\n",
       "\n",
       "| <!--/--> | CDR3b &lt;chr&gt; | TRBV &lt;chr&gt; | TRBJ &lt;chr&gt; | subject.condition &lt;chr&gt; | count &lt;int&gt; | clonefraction &lt;dbl&gt; | nSeqCDR3 &lt;chr&gt; | file &lt;chr&gt; |\n",
       "|---|---|---|---|---|---|---|---|---|\n",
       "| 1 | CASSFYGREADTQYF | TRBV7-2 | TRBJ2-3 | CHP_315-05-PBMC-DNA | 187 | 0.19767442 | TGTGCCAGCAGCTTCTATGGCAGGGAAGCAGATACGCAGTATTTT | /Users/anabbi/Desktop/H4H/INTERCEPT/NextSeq/batch4_19Aug2019/mixcr/clones/CLONES_TRBCHP_315-05-PBMC-DNA.txt |\n",
       "| 3 | CASSLMGGDSTEAFF | TRBV7-3 | TRBJ1-1 | CHP_315-05-PBMC-DNA |  48 | 0.05073996 | TGTGCCAGCAGCTTAATGGGGGGAGATAGCACTGAAGCTTTCTTT | /Users/anabbi/Desktop/H4H/INTERCEPT/NextSeq/batch4_19Aug2019/mixcr/clones/CLONES_TRBCHP_315-05-PBMC-DNA.txt |\n",
       "| 4 | CASSLTGTGVEKLFF | TRBV7-3 | TRBJ1-4 | CHP_315-05-PBMC-DNA |  48 | 0.05073996 | TGTGCCAGCAGCTTAACCGGGACAGGGGTTGAAAAACTGTTTTTT | /Users/anabbi/Desktop/H4H/INTERCEPT/NextSeq/batch4_19Aug2019/mixcr/clones/CLONES_TRBCHP_315-05-PBMC-DNA.txt |\n",
       "| 5 | CASSQRGQSTEQYF  | TRBV14  | TRBJ2-7 | CHP_315-05-PBMC-DNA |  42 | 0.04439746 | TGTGCCAGCAGCCAACGGGGACAGTCAACCGAGCAGTACTTC    | /Users/anabbi/Desktop/H4H/INTERCEPT/NextSeq/batch4_19Aug2019/mixcr/clones/CLONES_TRBCHP_315-05-PBMC-DNA.txt |\n",
       "| 6 | CASSYQAGVGETQYF | TRBV6-6 | TRBJ2-5 | CHP_315-05-PBMC-DNA |  32 | 0.03382664 | TGTGCCAGCAGTTACCAAGCGGGGGTGGGTGAGACCCAGTACTTC | /Users/anabbi/Desktop/H4H/INTERCEPT/NextSeq/batch4_19Aug2019/mixcr/clones/CLONES_TRBCHP_315-05-PBMC-DNA.txt |\n",
       "| 9 | CASSVVGVYNSPLHF | TRBV7-2 | TRBJ1-6 | CHP_315-05-PBMC-DNA |  29 | 0.03065539 | TGTGCCAGCAGCGTAGTAGGGGTCTATAATTCACCCCTCCACTTT | /Users/anabbi/Desktop/H4H/INTERCEPT/NextSeq/batch4_19Aug2019/mixcr/clones/CLONES_TRBCHP_315-05-PBMC-DNA.txt |\n",
       "\n"
      ],
      "text/plain": [
       "  CDR3b           TRBV    TRBJ    subject.condition   count clonefraction\n",
       "1 CASSFYGREADTQYF TRBV7-2 TRBJ2-3 CHP_315-05-PBMC-DNA 187   0.19767442   \n",
       "3 CASSLMGGDSTEAFF TRBV7-3 TRBJ1-1 CHP_315-05-PBMC-DNA  48   0.05073996   \n",
       "4 CASSLTGTGVEKLFF TRBV7-3 TRBJ1-4 CHP_315-05-PBMC-DNA  48   0.05073996   \n",
       "5 CASSQRGQSTEQYF  TRBV14  TRBJ2-7 CHP_315-05-PBMC-DNA  42   0.04439746   \n",
       "6 CASSYQAGVGETQYF TRBV6-6 TRBJ2-5 CHP_315-05-PBMC-DNA  32   0.03382664   \n",
       "9 CASSVVGVYNSPLHF TRBV7-2 TRBJ1-6 CHP_315-05-PBMC-DNA  29   0.03065539   \n",
       "  nSeqCDR3                                     \n",
       "1 TGTGCCAGCAGCTTCTATGGCAGGGAAGCAGATACGCAGTATTTT\n",
       "3 TGTGCCAGCAGCTTAATGGGGGGAGATAGCACTGAAGCTTTCTTT\n",
       "4 TGTGCCAGCAGCTTAACCGGGACAGGGGTTGAAAAACTGTTTTTT\n",
       "5 TGTGCCAGCAGCCAACGGGGACAGTCAACCGAGCAGTACTTC   \n",
       "6 TGTGCCAGCAGTTACCAAGCGGGGGTGGGTGAGACCCAGTACTTC\n",
       "9 TGTGCCAGCAGCGTAGTAGGGGTCTATAATTCACCCCTCCACTTT\n",
       "  file                                                                                                       \n",
       "1 /Users/anabbi/Desktop/H4H/INTERCEPT/NextSeq/batch4_19Aug2019/mixcr/clones/CLONES_TRBCHP_315-05-PBMC-DNA.txt\n",
       "3 /Users/anabbi/Desktop/H4H/INTERCEPT/NextSeq/batch4_19Aug2019/mixcr/clones/CLONES_TRBCHP_315-05-PBMC-DNA.txt\n",
       "4 /Users/anabbi/Desktop/H4H/INTERCEPT/NextSeq/batch4_19Aug2019/mixcr/clones/CLONES_TRBCHP_315-05-PBMC-DNA.txt\n",
       "5 /Users/anabbi/Desktop/H4H/INTERCEPT/NextSeq/batch4_19Aug2019/mixcr/clones/CLONES_TRBCHP_315-05-PBMC-DNA.txt\n",
       "6 /Users/anabbi/Desktop/H4H/INTERCEPT/NextSeq/batch4_19Aug2019/mixcr/clones/CLONES_TRBCHP_315-05-PBMC-DNA.txt\n",
       "9 /Users/anabbi/Desktop/H4H/INTERCEPT/NextSeq/batch4_19Aug2019/mixcr/clones/CLONES_TRBCHP_315-05-PBMC-DNA.txt"
      ]
     },
     "metadata": {},
     "output_type": "display_data"
    }
   ],
   "source": [
    "head(gliph_input)"
   ]
  },
  {
   "cell_type": "code",
   "execution_count": 11,
   "metadata": {
    "vscode": {
     "languageId": "r"
    }
   },
   "outputs": [],
   "source": []
  },
  {
   "cell_type": "code",
   "execution_count": 12,
   "metadata": {
    "vscode": {
     "languageId": "r"
    }
   },
   "outputs": [],
   "source": [
    "library(data.table)\n",
    "\n",
    "#bind those with the same cdr3 + TRBV\n",
    "setDT(gliph_input)\n",
    "\n",
    "ab <- gliph_input[, .(subject = toString(subject.condition), #bind subjects\n",
    "                      file = toString(file), #bind filenames\n",
    "                      count = sum(count)),  #get sum of counts\n",
    "                  by = c(\"CDR3b\", \"TRBV\", \"TRBJ\")] #get duplicates sequences with the same cdr3 + TRBV + TRBJ\n",
    "\n",
    "gliph_input_ab <- merge(gliph_input, ab, by = c(\"CDR3b\",\"TRBV\",\"TRBJ\")) # merge together"
   ]
  },
  {
   "cell_type": "code",
   "execution_count": 13,
   "metadata": {
    "vscode": {
     "languageId": "r"
    }
   },
   "outputs": [
    {
     "data": {
      "text/html": [
       "<table class=\"dataframe\">\n",
       "<caption>A data.table: 6 × 11</caption>\n",
       "<thead>\n",
       "\t<tr><th scope=col>CDR3b</th><th scope=col>TRBV</th><th scope=col>TRBJ</th><th scope=col>subject.condition</th><th scope=col>count.x</th><th scope=col>clonefraction</th><th scope=col>nSeqCDR3</th><th scope=col>file.x</th><th scope=col>subject</th><th scope=col>file.y</th><th scope=col>count.y</th></tr>\n",
       "\t<tr><th scope=col>&lt;chr&gt;</th><th scope=col>&lt;chr&gt;</th><th scope=col>&lt;chr&gt;</th><th scope=col>&lt;chr&gt;</th><th scope=col>&lt;int&gt;</th><th scope=col>&lt;dbl&gt;</th><th scope=col>&lt;chr&gt;</th><th scope=col>&lt;chr&gt;</th><th scope=col>&lt;chr&gt;</th><th scope=col>&lt;chr&gt;</th><th scope=col>&lt;int&gt;</th></tr>\n",
       "</thead>\n",
       "<tbody>\n",
       "\t<tr><td>ADITWRGGQPQHF   </td><td>TRBV3-2 </td><td>TRBJ1-5</td><td>CHP_387-02_PBMC_DNA</td><td> 12</td><td>0.0017035775</td><td>GCCGACATTACCTGGAGAGGGGGTCAGCCCCAGCATTTT         </td><td>/Users/anabbi/Desktop/H4H/INTERCEPT/NextSeq/batch11_23Apr2020/mixcr/clones/CLONES_TRBCHP_387-02_PBMC_DNA.txt           </td><td>CHP_387-02_PBMC_DNA                     </td><td>/Users/anabbi/Desktop/H4H/INTERCEPT/NextSeq/batch11_23Apr2020/mixcr/clones/CLONES_TRBCHP_387-02_PBMC_DNA.txt                                                                                                              </td><td> 12</td></tr>\n",
       "\t<tr><td>CAAAGGGEAFF     </td><td>TRBV28  </td><td>TRBJ1-1</td><td>CHP_396-03_PBMC_DNA</td><td> 16</td><td>0.0033105731</td><td>TGTGCCGCAGCGGGGGGAGGTGAAGCTTTCTTT               </td><td>/Users/anabbi/Desktop/H4H/INTERCEPT/NextSeq/batch11_23Apr2020/mixcr/clones/CLONES_TRBCHP_396-03_PBMC_DNA.txt           </td><td>CHP_396-03_PBMC_DNA, CHP_396-04-PBMC-DNA</td><td>/Users/anabbi/Desktop/H4H/INTERCEPT/NextSeq/batch11_23Apr2020/mixcr/clones/CLONES_TRBCHP_396-03_PBMC_DNA.txt, /Users/anabbi/Desktop/H4H/INTERCEPT/NextSeq/batch13_26Aug2020/mixcr/clones/CLONES_TRBCHP_396-04-PBMC-DNA.txt</td><td>340</td></tr>\n",
       "\t<tr><td>CAAAGGGEAFF     </td><td>TRBV28  </td><td>TRBJ1-1</td><td>CHP_396-04-PBMC-DNA</td><td>324</td><td>0.0012697069</td><td>TGTGCCGCAGCGGGGGGAGGTGAAGCTTTCTTT               </td><td>/Users/anabbi/Desktop/H4H/INTERCEPT/NextSeq/batch13_26Aug2020/mixcr/clones/CLONES_TRBCHP_396-04-PBMC-DNA.txt           </td><td>CHP_396-03_PBMC_DNA, CHP_396-04-PBMC-DNA</td><td>/Users/anabbi/Desktop/H4H/INTERCEPT/NextSeq/batch11_23Apr2020/mixcr/clones/CLONES_TRBCHP_396-03_PBMC_DNA.txt, /Users/anabbi/Desktop/H4H/INTERCEPT/NextSeq/batch13_26Aug2020/mixcr/clones/CLONES_TRBCHP_396-04-PBMC-DNA.txt</td><td>340</td></tr>\n",
       "\t<tr><td>CAAAGGSGVGYEQYF </td><td>TRBV3-1 </td><td>TRBJ2-7</td><td>CHP_393-05-PBMC-DNA</td><td>151</td><td>0.0012674058</td><td>TGTGCCGCCGCCGGGGGCAGCGGGGTGGGCTACGAGCAGTACTTC   </td><td>/Users/anabbi/Desktop/H4H/INTERCEPT/NextSeq/batch13_26Aug2020/mixcr/clones/CLONES_TRBCHP_393-05-PBMC-DNA.txt           </td><td>CHP_393-05-PBMC-DNA                     </td><td>/Users/anabbi/Desktop/H4H/INTERCEPT/NextSeq/batch13_26Aug2020/mixcr/clones/CLONES_TRBCHP_393-05-PBMC-DNA.txt                                                                                                              </td><td>151</td></tr>\n",
       "\t<tr><td>CAAARGFDEQYF    </td><td>TRBV10-3</td><td>TRBJ2-7</td><td>CHP-411-02-PBMC-DNA</td><td> 20</td><td>0.0001310135</td><td>TGTGCCGCCGCACGGGGTTTCGACGAGCAGTACTTC            </td><td>/Users/anabbi/Desktop/H4H/INTERCEPT/NextSeq/remaining_batch_4_28June2021/mixcr/clones/CLONES_TRBCHP-411-02-PBMC-DNA.txt</td><td>CHP-411-02-PBMC-DNA                     </td><td>/Users/anabbi/Desktop/H4H/INTERCEPT/NextSeq/remaining_batch_4_28June2021/mixcr/clones/CLONES_TRBCHP-411-02-PBMC-DNA.txt                                                                                                   </td><td> 20</td></tr>\n",
       "\t<tr><td>CAACEPEVRDTDTQYF</td><td>TRBV28  </td><td>TRBJ2-3</td><td>CHP_338-05-PBMC-DNA</td><td> 11</td><td>0.0026397888</td><td>TGTGCCGCCTGCGAACCTGAAGTACGGGACACAGATACGCAGTATTTT</td><td>/Users/anabbi/Desktop/H4H/INTERCEPT/NextSeq/batch2_Aug62019/mixcr/clones/CLONES_TRBCHP_338-05-PBMC-DNA.txt             </td><td>CHP_338-05-PBMC-DNA, CHP_338-05-PBMC-DNA</td><td>/Users/anabbi/Desktop/H4H/INTERCEPT/NextSeq/batch2_Aug62019/mixcr/clones/CLONES_TRBCHP_338-05-PBMC-DNA.txt, /Users/anabbi/Desktop/H4H/INTERCEPT/NextSeq/batch2_Aug62019/mixcr/clones/CLONES_TRBCHP_338-05-PBMC-DNA.txt    </td><td> 12</td></tr>\n",
       "</tbody>\n",
       "</table>\n"
      ],
      "text/latex": [
       "A data.table: 6 × 11\n",
       "\\begin{tabular}{lllllllllll}\n",
       " CDR3b & TRBV & TRBJ & subject.condition & count.x & clonefraction & nSeqCDR3 & file.x & subject & file.y & count.y\\\\\n",
       " <chr> & <chr> & <chr> & <chr> & <int> & <dbl> & <chr> & <chr> & <chr> & <chr> & <int>\\\\\n",
       "\\hline\n",
       "\t ADITWRGGQPQHF    & TRBV3-2  & TRBJ1-5 & CHP\\_387-02\\_PBMC\\_DNA &  12 & 0.0017035775 & GCCGACATTACCTGGAGAGGGGGTCAGCCCCAGCATTTT          & /Users/anabbi/Desktop/H4H/INTERCEPT/NextSeq/batch11\\_23Apr2020/mixcr/clones/CLONES\\_TRBCHP\\_387-02\\_PBMC\\_DNA.txt            & CHP\\_387-02\\_PBMC\\_DNA                      & /Users/anabbi/Desktop/H4H/INTERCEPT/NextSeq/batch11\\_23Apr2020/mixcr/clones/CLONES\\_TRBCHP\\_387-02\\_PBMC\\_DNA.txt                                                                                                               &  12\\\\\n",
       "\t CAAAGGGEAFF      & TRBV28   & TRBJ1-1 & CHP\\_396-03\\_PBMC\\_DNA &  16 & 0.0033105731 & TGTGCCGCAGCGGGGGGAGGTGAAGCTTTCTTT                & /Users/anabbi/Desktop/H4H/INTERCEPT/NextSeq/batch11\\_23Apr2020/mixcr/clones/CLONES\\_TRBCHP\\_396-03\\_PBMC\\_DNA.txt            & CHP\\_396-03\\_PBMC\\_DNA, CHP\\_396-04-PBMC-DNA & /Users/anabbi/Desktop/H4H/INTERCEPT/NextSeq/batch11\\_23Apr2020/mixcr/clones/CLONES\\_TRBCHP\\_396-03\\_PBMC\\_DNA.txt, /Users/anabbi/Desktop/H4H/INTERCEPT/NextSeq/batch13\\_26Aug2020/mixcr/clones/CLONES\\_TRBCHP\\_396-04-PBMC-DNA.txt & 340\\\\\n",
       "\t CAAAGGGEAFF      & TRBV28   & TRBJ1-1 & CHP\\_396-04-PBMC-DNA & 324 & 0.0012697069 & TGTGCCGCAGCGGGGGGAGGTGAAGCTTTCTTT                & /Users/anabbi/Desktop/H4H/INTERCEPT/NextSeq/batch13\\_26Aug2020/mixcr/clones/CLONES\\_TRBCHP\\_396-04-PBMC-DNA.txt            & CHP\\_396-03\\_PBMC\\_DNA, CHP\\_396-04-PBMC-DNA & /Users/anabbi/Desktop/H4H/INTERCEPT/NextSeq/batch11\\_23Apr2020/mixcr/clones/CLONES\\_TRBCHP\\_396-03\\_PBMC\\_DNA.txt, /Users/anabbi/Desktop/H4H/INTERCEPT/NextSeq/batch13\\_26Aug2020/mixcr/clones/CLONES\\_TRBCHP\\_396-04-PBMC-DNA.txt & 340\\\\\n",
       "\t CAAAGGSGVGYEQYF  & TRBV3-1  & TRBJ2-7 & CHP\\_393-05-PBMC-DNA & 151 & 0.0012674058 & TGTGCCGCCGCCGGGGGCAGCGGGGTGGGCTACGAGCAGTACTTC    & /Users/anabbi/Desktop/H4H/INTERCEPT/NextSeq/batch13\\_26Aug2020/mixcr/clones/CLONES\\_TRBCHP\\_393-05-PBMC-DNA.txt            & CHP\\_393-05-PBMC-DNA                      & /Users/anabbi/Desktop/H4H/INTERCEPT/NextSeq/batch13\\_26Aug2020/mixcr/clones/CLONES\\_TRBCHP\\_393-05-PBMC-DNA.txt                                                                                                               & 151\\\\\n",
       "\t CAAARGFDEQYF     & TRBV10-3 & TRBJ2-7 & CHP-411-02-PBMC-DNA &  20 & 0.0001310135 & TGTGCCGCCGCACGGGGTTTCGACGAGCAGTACTTC             & /Users/anabbi/Desktop/H4H/INTERCEPT/NextSeq/remaining\\_batch\\_4\\_28June2021/mixcr/clones/CLONES\\_TRBCHP-411-02-PBMC-DNA.txt & CHP-411-02-PBMC-DNA                      & /Users/anabbi/Desktop/H4H/INTERCEPT/NextSeq/remaining\\_batch\\_4\\_28June2021/mixcr/clones/CLONES\\_TRBCHP-411-02-PBMC-DNA.txt                                                                                                    &  20\\\\\n",
       "\t CAACEPEVRDTDTQYF & TRBV28   & TRBJ2-3 & CHP\\_338-05-PBMC-DNA &  11 & 0.0026397888 & TGTGCCGCCTGCGAACCTGAAGTACGGGACACAGATACGCAGTATTTT & /Users/anabbi/Desktop/H4H/INTERCEPT/NextSeq/batch2\\_Aug62019/mixcr/clones/CLONES\\_TRBCHP\\_338-05-PBMC-DNA.txt              & CHP\\_338-05-PBMC-DNA, CHP\\_338-05-PBMC-DNA & /Users/anabbi/Desktop/H4H/INTERCEPT/NextSeq/batch2\\_Aug62019/mixcr/clones/CLONES\\_TRBCHP\\_338-05-PBMC-DNA.txt, /Users/anabbi/Desktop/H4H/INTERCEPT/NextSeq/batch2\\_Aug62019/mixcr/clones/CLONES\\_TRBCHP\\_338-05-PBMC-DNA.txt     &  12\\\\\n",
       "\\end{tabular}\n"
      ],
      "text/markdown": [
       "\n",
       "A data.table: 6 × 11\n",
       "\n",
       "| CDR3b &lt;chr&gt; | TRBV &lt;chr&gt; | TRBJ &lt;chr&gt; | subject.condition &lt;chr&gt; | count.x &lt;int&gt; | clonefraction &lt;dbl&gt; | nSeqCDR3 &lt;chr&gt; | file.x &lt;chr&gt; | subject &lt;chr&gt; | file.y &lt;chr&gt; | count.y &lt;int&gt; |\n",
       "|---|---|---|---|---|---|---|---|---|---|---|\n",
       "| ADITWRGGQPQHF    | TRBV3-2  | TRBJ1-5 | CHP_387-02_PBMC_DNA |  12 | 0.0017035775 | GCCGACATTACCTGGAGAGGGGGTCAGCCCCAGCATTTT          | /Users/anabbi/Desktop/H4H/INTERCEPT/NextSeq/batch11_23Apr2020/mixcr/clones/CLONES_TRBCHP_387-02_PBMC_DNA.txt            | CHP_387-02_PBMC_DNA                      | /Users/anabbi/Desktop/H4H/INTERCEPT/NextSeq/batch11_23Apr2020/mixcr/clones/CLONES_TRBCHP_387-02_PBMC_DNA.txt                                                                                                               |  12 |\n",
       "| CAAAGGGEAFF      | TRBV28   | TRBJ1-1 | CHP_396-03_PBMC_DNA |  16 | 0.0033105731 | TGTGCCGCAGCGGGGGGAGGTGAAGCTTTCTTT                | /Users/anabbi/Desktop/H4H/INTERCEPT/NextSeq/batch11_23Apr2020/mixcr/clones/CLONES_TRBCHP_396-03_PBMC_DNA.txt            | CHP_396-03_PBMC_DNA, CHP_396-04-PBMC-DNA | /Users/anabbi/Desktop/H4H/INTERCEPT/NextSeq/batch11_23Apr2020/mixcr/clones/CLONES_TRBCHP_396-03_PBMC_DNA.txt, /Users/anabbi/Desktop/H4H/INTERCEPT/NextSeq/batch13_26Aug2020/mixcr/clones/CLONES_TRBCHP_396-04-PBMC-DNA.txt | 340 |\n",
       "| CAAAGGGEAFF      | TRBV28   | TRBJ1-1 | CHP_396-04-PBMC-DNA | 324 | 0.0012697069 | TGTGCCGCAGCGGGGGGAGGTGAAGCTTTCTTT                | /Users/anabbi/Desktop/H4H/INTERCEPT/NextSeq/batch13_26Aug2020/mixcr/clones/CLONES_TRBCHP_396-04-PBMC-DNA.txt            | CHP_396-03_PBMC_DNA, CHP_396-04-PBMC-DNA | /Users/anabbi/Desktop/H4H/INTERCEPT/NextSeq/batch11_23Apr2020/mixcr/clones/CLONES_TRBCHP_396-03_PBMC_DNA.txt, /Users/anabbi/Desktop/H4H/INTERCEPT/NextSeq/batch13_26Aug2020/mixcr/clones/CLONES_TRBCHP_396-04-PBMC-DNA.txt | 340 |\n",
       "| CAAAGGSGVGYEQYF  | TRBV3-1  | TRBJ2-7 | CHP_393-05-PBMC-DNA | 151 | 0.0012674058 | TGTGCCGCCGCCGGGGGCAGCGGGGTGGGCTACGAGCAGTACTTC    | /Users/anabbi/Desktop/H4H/INTERCEPT/NextSeq/batch13_26Aug2020/mixcr/clones/CLONES_TRBCHP_393-05-PBMC-DNA.txt            | CHP_393-05-PBMC-DNA                      | /Users/anabbi/Desktop/H4H/INTERCEPT/NextSeq/batch13_26Aug2020/mixcr/clones/CLONES_TRBCHP_393-05-PBMC-DNA.txt                                                                                                               | 151 |\n",
       "| CAAARGFDEQYF     | TRBV10-3 | TRBJ2-7 | CHP-411-02-PBMC-DNA |  20 | 0.0001310135 | TGTGCCGCCGCACGGGGTTTCGACGAGCAGTACTTC             | /Users/anabbi/Desktop/H4H/INTERCEPT/NextSeq/remaining_batch_4_28June2021/mixcr/clones/CLONES_TRBCHP-411-02-PBMC-DNA.txt | CHP-411-02-PBMC-DNA                      | /Users/anabbi/Desktop/H4H/INTERCEPT/NextSeq/remaining_batch_4_28June2021/mixcr/clones/CLONES_TRBCHP-411-02-PBMC-DNA.txt                                                                                                    |  20 |\n",
       "| CAACEPEVRDTDTQYF | TRBV28   | TRBJ2-3 | CHP_338-05-PBMC-DNA |  11 | 0.0026397888 | TGTGCCGCCTGCGAACCTGAAGTACGGGACACAGATACGCAGTATTTT | /Users/anabbi/Desktop/H4H/INTERCEPT/NextSeq/batch2_Aug62019/mixcr/clones/CLONES_TRBCHP_338-05-PBMC-DNA.txt              | CHP_338-05-PBMC-DNA, CHP_338-05-PBMC-DNA | /Users/anabbi/Desktop/H4H/INTERCEPT/NextSeq/batch2_Aug62019/mixcr/clones/CLONES_TRBCHP_338-05-PBMC-DNA.txt, /Users/anabbi/Desktop/H4H/INTERCEPT/NextSeq/batch2_Aug62019/mixcr/clones/CLONES_TRBCHP_338-05-PBMC-DNA.txt     |  12 |\n",
       "\n"
      ],
      "text/plain": [
       "  CDR3b            TRBV     TRBJ    subject.condition   count.x clonefraction\n",
       "1 ADITWRGGQPQHF    TRBV3-2  TRBJ1-5 CHP_387-02_PBMC_DNA  12     0.0017035775 \n",
       "2 CAAAGGGEAFF      TRBV28   TRBJ1-1 CHP_396-03_PBMC_DNA  16     0.0033105731 \n",
       "3 CAAAGGGEAFF      TRBV28   TRBJ1-1 CHP_396-04-PBMC-DNA 324     0.0012697069 \n",
       "4 CAAAGGSGVGYEQYF  TRBV3-1  TRBJ2-7 CHP_393-05-PBMC-DNA 151     0.0012674058 \n",
       "5 CAAARGFDEQYF     TRBV10-3 TRBJ2-7 CHP-411-02-PBMC-DNA  20     0.0001310135 \n",
       "6 CAACEPEVRDTDTQYF TRBV28   TRBJ2-3 CHP_338-05-PBMC-DNA  11     0.0026397888 \n",
       "  nSeqCDR3                                        \n",
       "1 GCCGACATTACCTGGAGAGGGGGTCAGCCCCAGCATTTT         \n",
       "2 TGTGCCGCAGCGGGGGGAGGTGAAGCTTTCTTT               \n",
       "3 TGTGCCGCAGCGGGGGGAGGTGAAGCTTTCTTT               \n",
       "4 TGTGCCGCCGCCGGGGGCAGCGGGGTGGGCTACGAGCAGTACTTC   \n",
       "5 TGTGCCGCCGCACGGGGTTTCGACGAGCAGTACTTC            \n",
       "6 TGTGCCGCCTGCGAACCTGAAGTACGGGACACAGATACGCAGTATTTT\n",
       "  file.x                                                                                                                 \n",
       "1 /Users/anabbi/Desktop/H4H/INTERCEPT/NextSeq/batch11_23Apr2020/mixcr/clones/CLONES_TRBCHP_387-02_PBMC_DNA.txt           \n",
       "2 /Users/anabbi/Desktop/H4H/INTERCEPT/NextSeq/batch11_23Apr2020/mixcr/clones/CLONES_TRBCHP_396-03_PBMC_DNA.txt           \n",
       "3 /Users/anabbi/Desktop/H4H/INTERCEPT/NextSeq/batch13_26Aug2020/mixcr/clones/CLONES_TRBCHP_396-04-PBMC-DNA.txt           \n",
       "4 /Users/anabbi/Desktop/H4H/INTERCEPT/NextSeq/batch13_26Aug2020/mixcr/clones/CLONES_TRBCHP_393-05-PBMC-DNA.txt           \n",
       "5 /Users/anabbi/Desktop/H4H/INTERCEPT/NextSeq/remaining_batch_4_28June2021/mixcr/clones/CLONES_TRBCHP-411-02-PBMC-DNA.txt\n",
       "6 /Users/anabbi/Desktop/H4H/INTERCEPT/NextSeq/batch2_Aug62019/mixcr/clones/CLONES_TRBCHP_338-05-PBMC-DNA.txt             \n",
       "  subject                                 \n",
       "1 CHP_387-02_PBMC_DNA                     \n",
       "2 CHP_396-03_PBMC_DNA, CHP_396-04-PBMC-DNA\n",
       "3 CHP_396-03_PBMC_DNA, CHP_396-04-PBMC-DNA\n",
       "4 CHP_393-05-PBMC-DNA                     \n",
       "5 CHP-411-02-PBMC-DNA                     \n",
       "6 CHP_338-05-PBMC-DNA, CHP_338-05-PBMC-DNA\n",
       "  file.y                                                                                                                                                                                                                    \n",
       "1 /Users/anabbi/Desktop/H4H/INTERCEPT/NextSeq/batch11_23Apr2020/mixcr/clones/CLONES_TRBCHP_387-02_PBMC_DNA.txt                                                                                                              \n",
       "2 /Users/anabbi/Desktop/H4H/INTERCEPT/NextSeq/batch11_23Apr2020/mixcr/clones/CLONES_TRBCHP_396-03_PBMC_DNA.txt, /Users/anabbi/Desktop/H4H/INTERCEPT/NextSeq/batch13_26Aug2020/mixcr/clones/CLONES_TRBCHP_396-04-PBMC-DNA.txt\n",
       "3 /Users/anabbi/Desktop/H4H/INTERCEPT/NextSeq/batch11_23Apr2020/mixcr/clones/CLONES_TRBCHP_396-03_PBMC_DNA.txt, /Users/anabbi/Desktop/H4H/INTERCEPT/NextSeq/batch13_26Aug2020/mixcr/clones/CLONES_TRBCHP_396-04-PBMC-DNA.txt\n",
       "4 /Users/anabbi/Desktop/H4H/INTERCEPT/NextSeq/batch13_26Aug2020/mixcr/clones/CLONES_TRBCHP_393-05-PBMC-DNA.txt                                                                                                              \n",
       "5 /Users/anabbi/Desktop/H4H/INTERCEPT/NextSeq/remaining_batch_4_28June2021/mixcr/clones/CLONES_TRBCHP-411-02-PBMC-DNA.txt                                                                                                   \n",
       "6 /Users/anabbi/Desktop/H4H/INTERCEPT/NextSeq/batch2_Aug62019/mixcr/clones/CLONES_TRBCHP_338-05-PBMC-DNA.txt, /Users/anabbi/Desktop/H4H/INTERCEPT/NextSeq/batch2_Aug62019/mixcr/clones/CLONES_TRBCHP_338-05-PBMC-DNA.txt    \n",
       "  count.y\n",
       "1  12    \n",
       "2 340    \n",
       "3 340    \n",
       "4 151    \n",
       "5  20    \n",
       "6  12    "
      ]
     },
     "metadata": {},
     "output_type": "display_data"
    }
   ],
   "source": [
    "head(gliph_input_ab)"
   ]
  },
  {
   "cell_type": "code",
   "execution_count": 14,
   "metadata": {
    "vscode": {
     "languageId": "r"
    }
   },
   "outputs": [],
   "source": [
    "#dedup\n",
    "gliph_input_ab_dedup <- dplyr::distinct(gliph_input_ab, CDR3b, TRBV, TRBJ, subject, .keep_all= TRUE)"
   ]
  },
  {
   "cell_type": "code",
   "execution_count": 15,
   "metadata": {
    "vscode": {
     "languageId": "r"
    }
   },
   "outputs": [
    {
     "data": {
      "text/html": [
       "<style>\n",
       ".list-inline {list-style: none; margin:0; padding: 0}\n",
       ".list-inline>li {display: inline-block}\n",
       ".list-inline>li:not(:last-child)::after {content: \"\\00b7\"; padding: 0 .5ex}\n",
       "</style>\n",
       "<ol class=list-inline><li>72634</li><li>11</li></ol>\n"
      ],
      "text/latex": [
       "\\begin{enumerate*}\n",
       "\\item 72634\n",
       "\\item 11\n",
       "\\end{enumerate*}\n"
      ],
      "text/markdown": [
       "1. 72634\n",
       "2. 11\n",
       "\n",
       "\n"
      ],
      "text/plain": [
       "[1] 72634    11"
      ]
     },
     "metadata": {},
     "output_type": "display_data"
    },
    {
     "data": {
      "text/html": [
       "<style>\n",
       ".list-inline {list-style: none; margin:0; padding: 0}\n",
       ".list-inline>li {display: inline-block}\n",
       ".list-inline>li:not(:last-child)::after {content: \"\\00b7\"; padding: 0 .5ex}\n",
       "</style>\n",
       "<ol class=list-inline><li>68956</li><li>11</li></ol>\n"
      ],
      "text/latex": [
       "\\begin{enumerate*}\n",
       "\\item 68956\n",
       "\\item 11\n",
       "\\end{enumerate*}\n"
      ],
      "text/markdown": [
       "1. 68956\n",
       "2. 11\n",
       "\n",
       "\n"
      ],
      "text/plain": [
       "[1] 68956    11"
      ]
     },
     "metadata": {},
     "output_type": "display_data"
    }
   ],
   "source": [
    "dim(gliph_input_ab)\n",
    "dim(gliph_input_ab_dedup)"
   ]
  },
  {
   "cell_type": "code",
   "execution_count": 16,
   "metadata": {
    "vscode": {
     "languageId": "r"
    }
   },
   "outputs": [
    {
     "data": {
      "text/html": [
       "'/Users/anabbi/OneDrive - UHN/Documents/INTERCEPT/Data/'"
      ],
      "text/latex": [
       "'/Users/anabbi/OneDrive - UHN/Documents/INTERCEPT/Data/'"
      ],
      "text/markdown": [
       "'/Users/anabbi/OneDrive - UHN/Documents/INTERCEPT/Data/'"
      ],
      "text/plain": [
       "[1] \"/Users/anabbi/OneDrive - UHN/Documents/INTERCEPT/Data/\""
      ]
     },
     "metadata": {},
     "output_type": "display_data"
    }
   ],
   "source": [
    "datapath"
   ]
  },
  {
   "cell_type": "code",
   "execution_count": 17,
   "metadata": {
    "vscode": {
     "languageId": "r"
    }
   },
   "outputs": [],
   "source": [
    "#index column incase I want to map gliph_input_dedup_ab_subset back to gliph_input_dedup_ab\n",
    "gliph_input_ab_dedup$index <- 1:nrow(gliph_input_ab_dedup)"
   ]
  },
  {
   "cell_type": "code",
   "execution_count": 18,
   "metadata": {
    "vscode": {
     "languageId": "r"
    }
   },
   "outputs": [],
   "source": [
    "save(gliph_input_ab_dedup, file = paste0(datapath, \"capTCRseq/gliph_input_ab_dedup.RData\"))"
   ]
  },
  {
   "cell_type": "code",
   "execution_count": 19,
   "metadata": {
    "vscode": {
     "languageId": "r"
    }
   },
   "outputs": [
    {
     "data": {
      "text/html": [
       "<style>\n",
       ".list-inline {list-style: none; margin:0; padding: 0}\n",
       ".list-inline>li {display: inline-block}\n",
       ".list-inline>li:not(:last-child)::after {content: \"\\00b7\"; padding: 0 .5ex}\n",
       "</style>\n",
       "<ol class=list-inline><li>'CDR3b'</li><li>'TRBV'</li><li>'TRBJ'</li><li>'subject.condition'</li><li>'count.x'</li><li>'clonefraction'</li><li>'nSeqCDR3'</li><li>'file.x'</li><li>'subject'</li><li>'file.y'</li><li>'count.y'</li><li>'index'</li></ol>\n"
      ],
      "text/latex": [
       "\\begin{enumerate*}\n",
       "\\item 'CDR3b'\n",
       "\\item 'TRBV'\n",
       "\\item 'TRBJ'\n",
       "\\item 'subject.condition'\n",
       "\\item 'count.x'\n",
       "\\item 'clonefraction'\n",
       "\\item 'nSeqCDR3'\n",
       "\\item 'file.x'\n",
       "\\item 'subject'\n",
       "\\item 'file.y'\n",
       "\\item 'count.y'\n",
       "\\item 'index'\n",
       "\\end{enumerate*}\n"
      ],
      "text/markdown": [
       "1. 'CDR3b'\n",
       "2. 'TRBV'\n",
       "3. 'TRBJ'\n",
       "4. 'subject.condition'\n",
       "5. 'count.x'\n",
       "6. 'clonefraction'\n",
       "7. 'nSeqCDR3'\n",
       "8. 'file.x'\n",
       "9. 'subject'\n",
       "10. 'file.y'\n",
       "11. 'count.y'\n",
       "12. 'index'\n",
       "\n",
       "\n"
      ],
      "text/plain": [
       " [1] \"CDR3b\"             \"TRBV\"              \"TRBJ\"             \n",
       " [4] \"subject.condition\" \"count.x\"           \"clonefraction\"    \n",
       " [7] \"nSeqCDR3\"          \"file.x\"            \"subject\"          \n",
       "[10] \"file.y\"            \"count.y\"           \"index\"            "
      ]
     },
     "metadata": {},
     "output_type": "display_data"
    }
   ],
   "source": [
    "colnames(gliph_input_ab_dedup)"
   ]
  },
  {
   "cell_type": "code",
   "execution_count": 20,
   "metadata": {
    "vscode": {
     "languageId": "r"
    }
   },
   "outputs": [],
   "source": [
    "#reorder and subset to input to gliph\n",
    "gliph_input_ab_dedup_subset <- gliph_input_ab_dedup[, c(\"CDR3b\", \"TRBV\", \"TRBJ\", \"subject\", \"count.y\", \"file.y\", \"index\")]\n",
    "                                                         "
   ]
  },
  {
   "cell_type": "code",
   "execution_count": 21,
   "metadata": {
    "vscode": {
     "languageId": "r"
    }
   },
   "outputs": [],
   "source": [
    "colnames(gliph_input_ab_dedup_subset) <- c(\"CDR3b\", \"TRBV\", \"TRBJ\", \"subject:condition\", \"count\", \"file\", \"index\")"
   ]
  },
  {
   "cell_type": "code",
   "execution_count": 22,
   "metadata": {
    "vscode": {
     "languageId": "r"
    }
   },
   "outputs": [],
   "source": [
    "save(gliph_input_ab_dedup_subset, file = paste0(datapath, \"capTCRseq/gliph_input_ab_dedup_subset.RData\"))"
   ]
  },
  {
   "cell_type": "code",
   "execution_count": null,
   "metadata": {
    "vscode": {
     "languageId": "r"
    }
   },
   "outputs": [],
   "source": []
  },
  {
   "cell_type": "code",
   "execution_count": null,
   "metadata": {
    "vscode": {
     "languageId": "r"
    }
   },
   "outputs": [],
   "source": []
  },
  {
   "cell_type": "code",
   "execution_count": null,
   "metadata": {
    "vscode": {
     "languageId": "r"
    }
   },
   "outputs": [],
   "source": []
  },
  {
   "attachments": {},
   "cell_type": "markdown",
   "metadata": {},
   "source": [
    "## Cleanup Adaptive data"
   ]
  },
  {
   "cell_type": "code",
   "execution_count": 6,
   "metadata": {
    "vscode": {
     "languageId": "r"
    }
   },
   "outputs": [],
   "source": [
    "emerson <- read.table('/Users/anabbi/Desktop/H4H/pughlab/external_data/Adaptive/emerson2017/P00496.tsv', sep = \"\\t\", header = F)"
   ]
  },
  {
   "cell_type": "code",
   "execution_count": 7,
   "metadata": {
    "vscode": {
     "languageId": "r"
    }
   },
   "outputs": [
    {
     "data": {
      "text/html": [
       "<table class=\"dataframe\">\n",
       "<caption>A data.frame: 6 × 118</caption>\n",
       "<thead>\n",
       "\t<tr><th></th><th scope=col>V1</th><th scope=col>V2</th><th scope=col>V3</th><th scope=col>V4</th><th scope=col>V5</th><th scope=col>V6</th><th scope=col>V7</th><th scope=col>V8</th><th scope=col>V9</th><th scope=col>V10</th><th scope=col>⋯</th><th scope=col>V109</th><th scope=col>V110</th><th scope=col>V111</th><th scope=col>V112</th><th scope=col>V113</th><th scope=col>V114</th><th scope=col>V115</th><th scope=col>V116</th><th scope=col>V117</th><th scope=col>V118</th></tr>\n",
       "\t<tr><th></th><th scope=col>&lt;chr&gt;</th><th scope=col>&lt;chr&gt;</th><th scope=col>&lt;chr&gt;</th><th scope=col>&lt;chr&gt;</th><th scope=col>&lt;chr&gt;</th><th scope=col>&lt;chr&gt;</th><th scope=col>&lt;chr&gt;</th><th scope=col>&lt;chr&gt;</th><th scope=col>&lt;chr&gt;</th><th scope=col>&lt;chr&gt;</th><th scope=col>⋯</th><th scope=col>&lt;chr&gt;</th><th scope=col>&lt;chr&gt;</th><th scope=col>&lt;chr&gt;</th><th scope=col>&lt;chr&gt;</th><th scope=col>&lt;chr&gt;</th><th scope=col>&lt;chr&gt;</th><th scope=col>&lt;chr&gt;</th><th scope=col>&lt;chr&gt;</th><th scope=col>&lt;chr&gt;</th><th scope=col>&lt;chr&gt;</th></tr>\n",
       "</thead>\n",
       "<tbody>\n",
       "\t<tr><th scope=row>1</th><td>sample_name</td><td>species</td><td>locus</td><td>product_subtype</td><td>kit_pool</td><td>sku</td><td>test_name</td><td>sample_catalog_tags                                                                                                                                                                                                                                                                                                                                                                                                                                     </td><td>sample_rich_tags</td><td>sample_rich_tags_json</td><td>⋯</td><td>cdr3_rearrangement                        </td><td>cdr3_amino_acid</td><td>cdr3_start_index</td><td>cdr3_rearrangement_length</td><td>chosen_v_family</td><td>chosen_v_gene</td><td>chosen_v_allele</td><td>chosen_j_family</td><td>chosen_j_gene</td><td>chosen_j_allele</td></tr>\n",
       "\t<tr><th scope=row>2</th><td>P00496     </td><td>Human  </td><td>TCRB </td><td>UltraDeep      </td><td>        </td><td>   </td><td>         </td><td>Age (Range):35-60 Years,Age (Range):45-65 Years (Late Adulthood),Age (Range):50-54 Years,Age:50 Years,Biological Sex:Female,Ethnic Group:Non-Hispanic or Latino,HLA MHC class I:HLA-A*02,HLA MHC class I:HLA-A*34,HLA MHC class I:HLA-B*15,HLA MHC class I:HLA-B*38,Racial Group:Asian or Pacific Islander,Tissue Source:PBMC,Tissue Source:Peripheral blood lymphocytes (PBL),Tissue Source:T cells,Tissue Source:gDNA,Virus Diseases:Cytomegalovirus +</td><td>null            </td><td>                     </td><td>⋯</td><td>TGTGCCAGCAGCCTGACTCTAAACACTGAAGCTTTCTTT   </td><td>CASSLTLNTEAFF  </td><td>327             </td><td>39                       </td><td>TCRBV05        </td><td>05           </td><td>01             </td><td>TCRBJ01        </td><td>01           </td><td>01             </td></tr>\n",
       "\t<tr><th scope=row>3</th><td>P00496     </td><td>Human  </td><td>TCRB </td><td>UltraDeep      </td><td>        </td><td>   </td><td>         </td><td>Age (Range):35-60 Years,Age (Range):45-65 Years (Late Adulthood),Age (Range):50-54 Years,Age:50 Years,Biological Sex:Female,Ethnic Group:Non-Hispanic or Latino,HLA MHC class I:HLA-A*02,HLA MHC class I:HLA-A*34,HLA MHC class I:HLA-B*15,HLA MHC class I:HLA-B*38,Racial Group:Asian or Pacific Islander,Tissue Source:PBMC,Tissue Source:Peripheral blood lymphocytes (PBL),Tissue Source:T cells,Tissue Source:gDNA,Virus Diseases:Cytomegalovirus +</td><td>null            </td><td>                     </td><td>⋯</td><td>TGTGCCAGCAGCTTGGAACTCAATCAGCCCCAGCATTTT   </td><td>CASSLELNQPQHF  </td><td>327             </td><td>39                       </td><td>TCRBV05        </td><td>05           </td><td>01             </td><td>TCRBJ01        </td><td>05           </td><td>01             </td></tr>\n",
       "\t<tr><th scope=row>4</th><td>P00496     </td><td>Human  </td><td>TCRB </td><td>UltraDeep      </td><td>        </td><td>   </td><td>         </td><td>Age (Range):35-60 Years,Age (Range):45-65 Years (Late Adulthood),Age (Range):50-54 Years,Age:50 Years,Biological Sex:Female,Ethnic Group:Non-Hispanic or Latino,HLA MHC class I:HLA-A*02,HLA MHC class I:HLA-A*34,HLA MHC class I:HLA-B*15,HLA MHC class I:HLA-B*38,Racial Group:Asian or Pacific Islander,Tissue Source:PBMC,Tissue Source:Peripheral blood lymphocytes (PBL),Tissue Source:T cells,Tissue Source:gDNA,Virus Diseases:Cytomegalovirus +</td><td>null            </td><td>                     </td><td>⋯</td><td>TGTGCCAGCGCCCGGGGGAACACTGAAGCTTTCTTT      </td><td>CASARGNTEAFF   </td><td>327             </td><td>36                       </td><td>TCRBV05        </td><td>05           </td><td>01             </td><td>TCRBJ01        </td><td>01           </td><td>01             </td></tr>\n",
       "\t<tr><th scope=row>5</th><td>P00496     </td><td>Human  </td><td>TCRB </td><td>UltraDeep      </td><td>        </td><td>   </td><td>         </td><td>Age (Range):35-60 Years,Age (Range):45-65 Years (Late Adulthood),Age (Range):50-54 Years,Age:50 Years,Biological Sex:Female,Ethnic Group:Non-Hispanic or Latino,HLA MHC class I:HLA-A*02,HLA MHC class I:HLA-A*34,HLA MHC class I:HLA-B*15,HLA MHC class I:HLA-B*38,Racial Group:Asian or Pacific Islander,Tissue Source:PBMC,Tissue Source:Peripheral blood lymphocytes (PBL),Tissue Source:T cells,Tissue Source:gDNA,Virus Diseases:Cytomegalovirus +</td><td>null            </td><td>                     </td><td>⋯</td><td>                                          </td><td>               </td><td>                </td><td>0                        </td><td>               </td><td>             </td><td>               </td><td>               </td><td>             </td><td>               </td></tr>\n",
       "\t<tr><th scope=row>6</th><td>P00496     </td><td>Human  </td><td>TCRB </td><td>UltraDeep      </td><td>        </td><td>   </td><td>         </td><td>Age (Range):35-60 Years,Age (Range):45-65 Years (Late Adulthood),Age (Range):50-54 Years,Age:50 Years,Biological Sex:Female,Ethnic Group:Non-Hispanic or Latino,HLA MHC class I:HLA-A*02,HLA MHC class I:HLA-A*34,HLA MHC class I:HLA-B*15,HLA MHC class I:HLA-B*38,Racial Group:Asian or Pacific Islander,Tissue Source:PBMC,Tissue Source:Peripheral blood lymphocytes (PBL),Tissue Source:T cells,Tissue Source:gDNA,Virus Diseases:Cytomegalovirus +</td><td>null            </td><td>                     </td><td>⋯</td><td>TGTGCCAGCAGACCCAAGAGCTCCTACAATGAGCAGTTCTTC</td><td>CASRPKSSYNEQFF </td><td>327             </td><td>42                       </td><td>TCRBV05        </td><td>05           </td><td>01             </td><td>TCRBJ02        </td><td>01           </td><td>01             </td></tr>\n",
       "</tbody>\n",
       "</table>\n"
      ],
      "text/latex": [
       "A data.frame: 6 × 118\n",
       "\\begin{tabular}{r|lllllllllllllllllllll}\n",
       "  & V1 & V2 & V3 & V4 & V5 & V6 & V7 & V8 & V9 & V10 & ⋯ & V109 & V110 & V111 & V112 & V113 & V114 & V115 & V116 & V117 & V118\\\\\n",
       "  & <chr> & <chr> & <chr> & <chr> & <chr> & <chr> & <chr> & <chr> & <chr> & <chr> & ⋯ & <chr> & <chr> & <chr> & <chr> & <chr> & <chr> & <chr> & <chr> & <chr> & <chr>\\\\\n",
       "\\hline\n",
       "\t1 & sample\\_name & species & locus & product\\_subtype & kit\\_pool & sku & test\\_name & sample\\_catalog\\_tags                                                                                                                                                                                                                                                                                                                                                                                                                                      & sample\\_rich\\_tags & sample\\_rich\\_tags\\_json & ⋯ & cdr3\\_rearrangement                         & cdr3\\_amino\\_acid & cdr3\\_start\\_index & cdr3\\_rearrangement\\_length & chosen\\_v\\_family & chosen\\_v\\_gene & chosen\\_v\\_allele & chosen\\_j\\_family & chosen\\_j\\_gene & chosen\\_j\\_allele\\\\\n",
       "\t2 & P00496      & Human   & TCRB  & UltraDeep       &          &     &           & Age (Range):35-60 Years,Age (Range):45-65 Years (Late Adulthood),Age (Range):50-54 Years,Age:50 Years,Biological Sex:Female,Ethnic Group:Non-Hispanic or Latino,HLA MHC class I:HLA-A*02,HLA MHC class I:HLA-A*34,HLA MHC class I:HLA-B*15,HLA MHC class I:HLA-B*38,Racial Group:Asian or Pacific Islander,Tissue Source:PBMC,Tissue Source:Peripheral blood lymphocytes (PBL),Tissue Source:T cells,Tissue Source:gDNA,Virus Diseases:Cytomegalovirus + & null             &                       & ⋯ & TGTGCCAGCAGCCTGACTCTAAACACTGAAGCTTTCTTT    & CASSLTLNTEAFF   & 327              & 39                        & TCRBV05         & 05            & 01              & TCRBJ01         & 01            & 01             \\\\\n",
       "\t3 & P00496      & Human   & TCRB  & UltraDeep       &          &     &           & Age (Range):35-60 Years,Age (Range):45-65 Years (Late Adulthood),Age (Range):50-54 Years,Age:50 Years,Biological Sex:Female,Ethnic Group:Non-Hispanic or Latino,HLA MHC class I:HLA-A*02,HLA MHC class I:HLA-A*34,HLA MHC class I:HLA-B*15,HLA MHC class I:HLA-B*38,Racial Group:Asian or Pacific Islander,Tissue Source:PBMC,Tissue Source:Peripheral blood lymphocytes (PBL),Tissue Source:T cells,Tissue Source:gDNA,Virus Diseases:Cytomegalovirus + & null             &                       & ⋯ & TGTGCCAGCAGCTTGGAACTCAATCAGCCCCAGCATTTT    & CASSLELNQPQHF   & 327              & 39                        & TCRBV05         & 05            & 01              & TCRBJ01         & 05            & 01             \\\\\n",
       "\t4 & P00496      & Human   & TCRB  & UltraDeep       &          &     &           & Age (Range):35-60 Years,Age (Range):45-65 Years (Late Adulthood),Age (Range):50-54 Years,Age:50 Years,Biological Sex:Female,Ethnic Group:Non-Hispanic or Latino,HLA MHC class I:HLA-A*02,HLA MHC class I:HLA-A*34,HLA MHC class I:HLA-B*15,HLA MHC class I:HLA-B*38,Racial Group:Asian or Pacific Islander,Tissue Source:PBMC,Tissue Source:Peripheral blood lymphocytes (PBL),Tissue Source:T cells,Tissue Source:gDNA,Virus Diseases:Cytomegalovirus + & null             &                       & ⋯ & TGTGCCAGCGCCCGGGGGAACACTGAAGCTTTCTTT       & CASARGNTEAFF    & 327              & 36                        & TCRBV05         & 05            & 01              & TCRBJ01         & 01            & 01             \\\\\n",
       "\t5 & P00496      & Human   & TCRB  & UltraDeep       &          &     &           & Age (Range):35-60 Years,Age (Range):45-65 Years (Late Adulthood),Age (Range):50-54 Years,Age:50 Years,Biological Sex:Female,Ethnic Group:Non-Hispanic or Latino,HLA MHC class I:HLA-A*02,HLA MHC class I:HLA-A*34,HLA MHC class I:HLA-B*15,HLA MHC class I:HLA-B*38,Racial Group:Asian or Pacific Islander,Tissue Source:PBMC,Tissue Source:Peripheral blood lymphocytes (PBL),Tissue Source:T cells,Tissue Source:gDNA,Virus Diseases:Cytomegalovirus + & null             &                       & ⋯ &                                            &                 &                  & 0                         &                 &               &                 &                 &               &                \\\\\n",
       "\t6 & P00496      & Human   & TCRB  & UltraDeep       &          &     &           & Age (Range):35-60 Years,Age (Range):45-65 Years (Late Adulthood),Age (Range):50-54 Years,Age:50 Years,Biological Sex:Female,Ethnic Group:Non-Hispanic or Latino,HLA MHC class I:HLA-A*02,HLA MHC class I:HLA-A*34,HLA MHC class I:HLA-B*15,HLA MHC class I:HLA-B*38,Racial Group:Asian or Pacific Islander,Tissue Source:PBMC,Tissue Source:Peripheral blood lymphocytes (PBL),Tissue Source:T cells,Tissue Source:gDNA,Virus Diseases:Cytomegalovirus + & null             &                       & ⋯ & TGTGCCAGCAGACCCAAGAGCTCCTACAATGAGCAGTTCTTC & CASRPKSSYNEQFF  & 327              & 42                        & TCRBV05         & 05            & 01              & TCRBJ02         & 01            & 01             \\\\\n",
       "\\end{tabular}\n"
      ],
      "text/markdown": [
       "\n",
       "A data.frame: 6 × 118\n",
       "\n",
       "| <!--/--> | V1 &lt;chr&gt; | V2 &lt;chr&gt; | V3 &lt;chr&gt; | V4 &lt;chr&gt; | V5 &lt;chr&gt; | V6 &lt;chr&gt; | V7 &lt;chr&gt; | V8 &lt;chr&gt; | V9 &lt;chr&gt; | V10 &lt;chr&gt; | ⋯ ⋯ | V109 &lt;chr&gt; | V110 &lt;chr&gt; | V111 &lt;chr&gt; | V112 &lt;chr&gt; | V113 &lt;chr&gt; | V114 &lt;chr&gt; | V115 &lt;chr&gt; | V116 &lt;chr&gt; | V117 &lt;chr&gt; | V118 &lt;chr&gt; |\n",
       "|---|---|---|---|---|---|---|---|---|---|---|---|---|---|---|---|---|---|---|---|---|---|\n",
       "| 1 | sample_name | species | locus | product_subtype | kit_pool | sku | test_name | sample_catalog_tags                                                                                                                                                                                                                                                                                                                                                                                                                                      | sample_rich_tags | sample_rich_tags_json | ⋯ | cdr3_rearrangement                         | cdr3_amino_acid | cdr3_start_index | cdr3_rearrangement_length | chosen_v_family | chosen_v_gene | chosen_v_allele | chosen_j_family | chosen_j_gene | chosen_j_allele |\n",
       "| 2 | P00496      | Human   | TCRB  | UltraDeep       | <!----> | <!----> | <!----> | Age (Range):35-60 Years,Age (Range):45-65 Years (Late Adulthood),Age (Range):50-54 Years,Age:50 Years,Biological Sex:Female,Ethnic Group:Non-Hispanic or Latino,HLA MHC class I:HLA-A*02,HLA MHC class I:HLA-A*34,HLA MHC class I:HLA-B*15,HLA MHC class I:HLA-B*38,Racial Group:Asian or Pacific Islander,Tissue Source:PBMC,Tissue Source:Peripheral blood lymphocytes (PBL),Tissue Source:T cells,Tissue Source:gDNA,Virus Diseases:Cytomegalovirus + | null             | <!----> | ⋯ | TGTGCCAGCAGCCTGACTCTAAACACTGAAGCTTTCTTT    | CASSLTLNTEAFF   | 327              | 39                        | TCRBV05         | 05            | 01              | TCRBJ01         | 01            | 01              |\n",
       "| 3 | P00496      | Human   | TCRB  | UltraDeep       | <!----> | <!----> | <!----> | Age (Range):35-60 Years,Age (Range):45-65 Years (Late Adulthood),Age (Range):50-54 Years,Age:50 Years,Biological Sex:Female,Ethnic Group:Non-Hispanic or Latino,HLA MHC class I:HLA-A*02,HLA MHC class I:HLA-A*34,HLA MHC class I:HLA-B*15,HLA MHC class I:HLA-B*38,Racial Group:Asian or Pacific Islander,Tissue Source:PBMC,Tissue Source:Peripheral blood lymphocytes (PBL),Tissue Source:T cells,Tissue Source:gDNA,Virus Diseases:Cytomegalovirus + | null             | <!----> | ⋯ | TGTGCCAGCAGCTTGGAACTCAATCAGCCCCAGCATTTT    | CASSLELNQPQHF   | 327              | 39                        | TCRBV05         | 05            | 01              | TCRBJ01         | 05            | 01              |\n",
       "| 4 | P00496      | Human   | TCRB  | UltraDeep       | <!----> | <!----> | <!----> | Age (Range):35-60 Years,Age (Range):45-65 Years (Late Adulthood),Age (Range):50-54 Years,Age:50 Years,Biological Sex:Female,Ethnic Group:Non-Hispanic or Latino,HLA MHC class I:HLA-A*02,HLA MHC class I:HLA-A*34,HLA MHC class I:HLA-B*15,HLA MHC class I:HLA-B*38,Racial Group:Asian or Pacific Islander,Tissue Source:PBMC,Tissue Source:Peripheral blood lymphocytes (PBL),Tissue Source:T cells,Tissue Source:gDNA,Virus Diseases:Cytomegalovirus + | null             | <!----> | ⋯ | TGTGCCAGCGCCCGGGGGAACACTGAAGCTTTCTTT       | CASARGNTEAFF    | 327              | 36                        | TCRBV05         | 05            | 01              | TCRBJ01         | 01            | 01              |\n",
       "| 5 | P00496      | Human   | TCRB  | UltraDeep       | <!----> | <!----> | <!----> | Age (Range):35-60 Years,Age (Range):45-65 Years (Late Adulthood),Age (Range):50-54 Years,Age:50 Years,Biological Sex:Female,Ethnic Group:Non-Hispanic or Latino,HLA MHC class I:HLA-A*02,HLA MHC class I:HLA-A*34,HLA MHC class I:HLA-B*15,HLA MHC class I:HLA-B*38,Racial Group:Asian or Pacific Islander,Tissue Source:PBMC,Tissue Source:Peripheral blood lymphocytes (PBL),Tissue Source:T cells,Tissue Source:gDNA,Virus Diseases:Cytomegalovirus + | null             | <!----> | ⋯ | <!----> | <!----> | <!----> | 0                         | <!----> | <!----> | <!----> | <!----> | <!----> | <!----> |\n",
       "| 6 | P00496      | Human   | TCRB  | UltraDeep       | <!----> | <!----> | <!----> | Age (Range):35-60 Years,Age (Range):45-65 Years (Late Adulthood),Age (Range):50-54 Years,Age:50 Years,Biological Sex:Female,Ethnic Group:Non-Hispanic or Latino,HLA MHC class I:HLA-A*02,HLA MHC class I:HLA-A*34,HLA MHC class I:HLA-B*15,HLA MHC class I:HLA-B*38,Racial Group:Asian or Pacific Islander,Tissue Source:PBMC,Tissue Source:Peripheral blood lymphocytes (PBL),Tissue Source:T cells,Tissue Source:gDNA,Virus Diseases:Cytomegalovirus + | null             | <!----> | ⋯ | TGTGCCAGCAGACCCAAGAGCTCCTACAATGAGCAGTTCTTC | CASRPKSSYNEQFF  | 327              | 42                        | TCRBV05         | 05            | 01              | TCRBJ02         | 01            | 01              |\n",
       "\n"
      ],
      "text/plain": [
       "  V1          V2      V3    V4              V5       V6  V7       \n",
       "1 sample_name species locus product_subtype kit_pool sku test_name\n",
       "2 P00496      Human   TCRB  UltraDeep                             \n",
       "3 P00496      Human   TCRB  UltraDeep                             \n",
       "4 P00496      Human   TCRB  UltraDeep                             \n",
       "5 P00496      Human   TCRB  UltraDeep                             \n",
       "6 P00496      Human   TCRB  UltraDeep                             \n",
       "  V8                                                                                                                                                                                                                                                                                                                                                                                                                                                      \n",
       "1 sample_catalog_tags                                                                                                                                                                                                                                                                                                                                                                                                                                     \n",
       "2 Age (Range):35-60 Years,Age (Range):45-65 Years (Late Adulthood),Age (Range):50-54 Years,Age:50 Years,Biological Sex:Female,Ethnic Group:Non-Hispanic or Latino,HLA MHC class I:HLA-A*02,HLA MHC class I:HLA-A*34,HLA MHC class I:HLA-B*15,HLA MHC class I:HLA-B*38,Racial Group:Asian or Pacific Islander,Tissue Source:PBMC,Tissue Source:Peripheral blood lymphocytes (PBL),Tissue Source:T cells,Tissue Source:gDNA,Virus Diseases:Cytomegalovirus +\n",
       "3 Age (Range):35-60 Years,Age (Range):45-65 Years (Late Adulthood),Age (Range):50-54 Years,Age:50 Years,Biological Sex:Female,Ethnic Group:Non-Hispanic or Latino,HLA MHC class I:HLA-A*02,HLA MHC class I:HLA-A*34,HLA MHC class I:HLA-B*15,HLA MHC class I:HLA-B*38,Racial Group:Asian or Pacific Islander,Tissue Source:PBMC,Tissue Source:Peripheral blood lymphocytes (PBL),Tissue Source:T cells,Tissue Source:gDNA,Virus Diseases:Cytomegalovirus +\n",
       "4 Age (Range):35-60 Years,Age (Range):45-65 Years (Late Adulthood),Age (Range):50-54 Years,Age:50 Years,Biological Sex:Female,Ethnic Group:Non-Hispanic or Latino,HLA MHC class I:HLA-A*02,HLA MHC class I:HLA-A*34,HLA MHC class I:HLA-B*15,HLA MHC class I:HLA-B*38,Racial Group:Asian or Pacific Islander,Tissue Source:PBMC,Tissue Source:Peripheral blood lymphocytes (PBL),Tissue Source:T cells,Tissue Source:gDNA,Virus Diseases:Cytomegalovirus +\n",
       "5 Age (Range):35-60 Years,Age (Range):45-65 Years (Late Adulthood),Age (Range):50-54 Years,Age:50 Years,Biological Sex:Female,Ethnic Group:Non-Hispanic or Latino,HLA MHC class I:HLA-A*02,HLA MHC class I:HLA-A*34,HLA MHC class I:HLA-B*15,HLA MHC class I:HLA-B*38,Racial Group:Asian or Pacific Islander,Tissue Source:PBMC,Tissue Source:Peripheral blood lymphocytes (PBL),Tissue Source:T cells,Tissue Source:gDNA,Virus Diseases:Cytomegalovirus +\n",
       "6 Age (Range):35-60 Years,Age (Range):45-65 Years (Late Adulthood),Age (Range):50-54 Years,Age:50 Years,Biological Sex:Female,Ethnic Group:Non-Hispanic or Latino,HLA MHC class I:HLA-A*02,HLA MHC class I:HLA-A*34,HLA MHC class I:HLA-B*15,HLA MHC class I:HLA-B*38,Racial Group:Asian or Pacific Islander,Tissue Source:PBMC,Tissue Source:Peripheral blood lymphocytes (PBL),Tissue Source:T cells,Tissue Source:gDNA,Virus Diseases:Cytomegalovirus +\n",
       "  V9               V10                   ⋯\n",
       "1 sample_rich_tags sample_rich_tags_json ⋯\n",
       "2 null                                   ⋯\n",
       "3 null                                   ⋯\n",
       "4 null                                   ⋯\n",
       "5 null                                   ⋯\n",
       "6 null                                   ⋯\n",
       "  V109                                       V110            V111            \n",
       "1 cdr3_rearrangement                         cdr3_amino_acid cdr3_start_index\n",
       "2 TGTGCCAGCAGCCTGACTCTAAACACTGAAGCTTTCTTT    CASSLTLNTEAFF   327             \n",
       "3 TGTGCCAGCAGCTTGGAACTCAATCAGCCCCAGCATTTT    CASSLELNQPQHF   327             \n",
       "4 TGTGCCAGCGCCCGGGGGAACACTGAAGCTTTCTTT       CASARGNTEAFF    327             \n",
       "5                                                                            \n",
       "6 TGTGCCAGCAGACCCAAGAGCTCCTACAATGAGCAGTTCTTC CASRPKSSYNEQFF  327             \n",
       "  V112                      V113            V114          V115           \n",
       "1 cdr3_rearrangement_length chosen_v_family chosen_v_gene chosen_v_allele\n",
       "2 39                        TCRBV05         05            01             \n",
       "3 39                        TCRBV05         05            01             \n",
       "4 36                        TCRBV05         05            01             \n",
       "5 0                                                                      \n",
       "6 42                        TCRBV05         05            01             \n",
       "  V116            V117          V118           \n",
       "1 chosen_j_family chosen_j_gene chosen_j_allele\n",
       "2 TCRBJ01         01            01             \n",
       "3 TCRBJ01         05            01             \n",
       "4 TCRBJ01         01            01             \n",
       "5                                              \n",
       "6 TCRBJ02         01            01             "
      ]
     },
     "metadata": {},
     "output_type": "display_data"
    }
   ],
   "source": [
    "head(emerson)"
   ]
  },
  {
   "cell_type": "code",
   "execution_count": 23,
   "metadata": {
    "vscode": {
     "languageId": "r"
    }
   },
   "outputs": [
    {
     "data": {
      "text/html": [
       "<style>\n",
       ".list-inline {list-style: none; margin:0; padding: 0}\n",
       ".list-inline>li {display: inline-block}\n",
       ".list-inline>li:not(:last-child)::after {content: \"\\00b7\"; padding: 0 .5ex}\n",
       "</style>\n",
       "<ol class=list-inline><li>162651</li><li>6</li></ol>\n"
      ],
      "text/latex": [
       "\\begin{enumerate*}\n",
       "\\item 162651\n",
       "\\item 6\n",
       "\\end{enumerate*}\n"
      ],
      "text/markdown": [
       "1. 162651\n",
       "2. 6\n",
       "\n",
       "\n"
      ],
      "text/plain": [
       "[1] 162651      6"
      ]
     },
     "metadata": {},
     "output_type": "display_data"
    }
   ],
   "source": [
    "dim(covidfle)"
   ]
  },
  {
   "cell_type": "code",
   "execution_count": 24,
   "metadata": {
    "vscode": {
     "languageId": "r"
    }
   },
   "outputs": [],
   "source": [
    "#remove unproductive\n",
    "covidfle <- covidfle[!grepl(\"[*]\", covidfle$V1),]\n",
    "covidfle <- covidfle[ covidfle$V1 != \"unproductive\",]"
   ]
  },
  {
   "cell_type": "code",
   "execution_count": 25,
   "metadata": {
    "vscode": {
     "languageId": "r"
    }
   },
   "outputs": [
    {
     "data": {
      "text/html": [
       "<style>\n",
       ".list-inline {list-style: none; margin:0; padding: 0}\n",
       ".list-inline>li {display: inline-block}\n",
       ".list-inline>li:not(:last-child)::after {content: \"\\00b7\"; padding: 0 .5ex}\n",
       "</style>\n",
       "<ol class=list-inline><li>160130</li><li>6</li></ol>\n"
      ],
      "text/latex": [
       "\\begin{enumerate*}\n",
       "\\item 160130\n",
       "\\item 6\n",
       "\\end{enumerate*}\n"
      ],
      "text/markdown": [
       "1. 160130\n",
       "2. 6\n",
       "\n",
       "\n"
      ],
      "text/plain": [
       "[1] 160130      6"
      ]
     },
     "metadata": {},
     "output_type": "display_data"
    }
   ],
   "source": [
    "dim(covidfle)"
   ]
  },
  {
   "cell_type": "code",
   "execution_count": 26,
   "metadata": {
    "vscode": {
     "languageId": "r"
    }
   },
   "outputs": [],
   "source": [
    "#remove duplicated entries\n",
    "covidfle_uniq <- unique(covidfle)"
   ]
  },
  {
   "cell_type": "code",
   "execution_count": 27,
   "metadata": {
    "vscode": {
     "languageId": "r"
    }
   },
   "outputs": [
    {
     "data": {
      "text/html": [
       "<style>\n",
       ".list-inline {list-style: none; margin:0; padding: 0}\n",
       ".list-inline>li {display: inline-block}\n",
       ".list-inline>li:not(:last-child)::after {content: \"\\00b7\"; padding: 0 .5ex}\n",
       "</style>\n",
       "<ol class=list-inline><li>156033</li><li>6</li></ol>\n"
      ],
      "text/latex": [
       "\\begin{enumerate*}\n",
       "\\item 156033\n",
       "\\item 6\n",
       "\\end{enumerate*}\n"
      ],
      "text/markdown": [
       "1. 156033\n",
       "2. 6\n",
       "\n",
       "\n"
      ],
      "text/plain": [
       "[1] 156033      6"
      ]
     },
     "metadata": {},
     "output_type": "display_data"
    }
   ],
   "source": [
    "dim(covidfle_uniq)"
   ]
  },
  {
   "cell_type": "code",
   "execution_count": 28,
   "metadata": {
    "vscode": {
     "languageId": "r"
    }
   },
   "outputs": [],
   "source": [
    "covidfle_uniq$V4 <- NULL"
   ]
  },
  {
   "cell_type": "code",
   "execution_count": 29,
   "metadata": {
    "vscode": {
     "languageId": "r"
    }
   },
   "outputs": [
    {
     "data": {
      "text/html": [
       "<table class=\"dataframe\">\n",
       "<caption>A data.frame: 6 × 5</caption>\n",
       "<thead>\n",
       "\t<tr><th></th><th scope=col>V1</th><th scope=col>V2</th><th scope=col>V3</th><th scope=col>V5</th><th scope=col>V6</th></tr>\n",
       "\t<tr><th></th><th scope=col>&lt;chr&gt;</th><th scope=col>&lt;chr&gt;</th><th scope=col>&lt;chr&gt;</th><th scope=col>&lt;chr&gt;</th><th scope=col>&lt;int&gt;</th></tr>\n",
       "</thead>\n",
       "<tbody>\n",
       "\t<tr><th scope=row>1</th><td>CASGRHNSPLHF   </td><td>TCRBV12-03/12-04</td><td>TCRBJ01-06</td><td>eJL143</td><td>1</td></tr>\n",
       "\t<tr><th scope=row>2</th><td>CASRPAGVRNEQFF </td><td>TCRBV06-06      </td><td>TCRBJ02-01</td><td>eJL146</td><td>1</td></tr>\n",
       "\t<tr><th scope=row>3</th><td>CSASPRTLWGEQFF </td><td>TCRBV20-X       </td><td>TCRBJ02-01</td><td>eJL146</td><td>1</td></tr>\n",
       "\t<tr><th scope=row>4</th><td>CASSLVTSVKDTQYF</td><td>TCRBV05-01      </td><td>TCRBJ02-03</td><td>eJL146</td><td>1</td></tr>\n",
       "\t<tr><th scope=row>5</th><td>CASSAIVAVYGYTF </td><td>TCRBV07-08      </td><td>TCRBJ01-02</td><td>eJL146</td><td>1</td></tr>\n",
       "\t<tr><th scope=row>6</th><td>CSVYSAGELFF    </td><td>TCRBV29-01      </td><td>TCRBJ02-02</td><td>eJL146</td><td>1</td></tr>\n",
       "</tbody>\n",
       "</table>\n"
      ],
      "text/latex": [
       "A data.frame: 6 × 5\n",
       "\\begin{tabular}{r|lllll}\n",
       "  & V1 & V2 & V3 & V5 & V6\\\\\n",
       "  & <chr> & <chr> & <chr> & <chr> & <int>\\\\\n",
       "\\hline\n",
       "\t1 & CASGRHNSPLHF    & TCRBV12-03/12-04 & TCRBJ01-06 & eJL143 & 1\\\\\n",
       "\t2 & CASRPAGVRNEQFF  & TCRBV06-06       & TCRBJ02-01 & eJL146 & 1\\\\\n",
       "\t3 & CSASPRTLWGEQFF  & TCRBV20-X        & TCRBJ02-01 & eJL146 & 1\\\\\n",
       "\t4 & CASSLVTSVKDTQYF & TCRBV05-01       & TCRBJ02-03 & eJL146 & 1\\\\\n",
       "\t5 & CASSAIVAVYGYTF  & TCRBV07-08       & TCRBJ01-02 & eJL146 & 1\\\\\n",
       "\t6 & CSVYSAGELFF     & TCRBV29-01       & TCRBJ02-02 & eJL146 & 1\\\\\n",
       "\\end{tabular}\n"
      ],
      "text/markdown": [
       "\n",
       "A data.frame: 6 × 5\n",
       "\n",
       "| <!--/--> | V1 &lt;chr&gt; | V2 &lt;chr&gt; | V3 &lt;chr&gt; | V5 &lt;chr&gt; | V6 &lt;int&gt; |\n",
       "|---|---|---|---|---|---|\n",
       "| 1 | CASGRHNSPLHF    | TCRBV12-03/12-04 | TCRBJ01-06 | eJL143 | 1 |\n",
       "| 2 | CASRPAGVRNEQFF  | TCRBV06-06       | TCRBJ02-01 | eJL146 | 1 |\n",
       "| 3 | CSASPRTLWGEQFF  | TCRBV20-X        | TCRBJ02-01 | eJL146 | 1 |\n",
       "| 4 | CASSLVTSVKDTQYF | TCRBV05-01       | TCRBJ02-03 | eJL146 | 1 |\n",
       "| 5 | CASSAIVAVYGYTF  | TCRBV07-08       | TCRBJ01-02 | eJL146 | 1 |\n",
       "| 6 | CSVYSAGELFF     | TCRBV29-01       | TCRBJ02-02 | eJL146 | 1 |\n",
       "\n"
      ],
      "text/plain": [
       "  V1              V2               V3         V5     V6\n",
       "1 CASGRHNSPLHF    TCRBV12-03/12-04 TCRBJ01-06 eJL143 1 \n",
       "2 CASRPAGVRNEQFF  TCRBV06-06       TCRBJ02-01 eJL146 1 \n",
       "3 CSASPRTLWGEQFF  TCRBV20-X        TCRBJ02-01 eJL146 1 \n",
       "4 CASSLVTSVKDTQYF TCRBV05-01       TCRBJ02-03 eJL146 1 \n",
       "5 CASSAIVAVYGYTF  TCRBV07-08       TCRBJ01-02 eJL146 1 \n",
       "6 CSVYSAGELFF     TCRBV29-01       TCRBJ02-02 eJL146 1 "
      ]
     },
     "metadata": {},
     "output_type": "display_data"
    }
   ],
   "source": [
    "head(covidfle_uniq)"
   ]
  },
  {
   "cell_type": "code",
   "execution_count": 30,
   "metadata": {
    "vscode": {
     "languageId": "r"
    }
   },
   "outputs": [],
   "source": [
    "colnames(covidfle_uniq) <- c(\"CDR3b\", \"TRBV\", \"TRBJ\", \"subject:condition\", \"count\")"
   ]
  },
  {
   "cell_type": "code",
   "execution_count": 31,
   "metadata": {
    "vscode": {
     "languageId": "r"
    }
   },
   "outputs": [
    {
     "data": {
      "text/html": [
       "<style>\n",
       ".list-inline {list-style: none; margin:0; padding: 0}\n",
       ".list-inline>li {display: inline-block}\n",
       ".list-inline>li:not(:last-child)::after {content: \"\\00b7\"; padding: 0 .5ex}\n",
       "</style>\n",
       "<ol class=list-inline><li>'CDR3b'</li><li>'TRBV'</li><li>'TRBJ'</li><li>'subject:condition'</li><li>'count'</li></ol>\n"
      ],
      "text/latex": [
       "\\begin{enumerate*}\n",
       "\\item 'CDR3b'\n",
       "\\item 'TRBV'\n",
       "\\item 'TRBJ'\n",
       "\\item 'subject:condition'\n",
       "\\item 'count'\n",
       "\\end{enumerate*}\n"
      ],
      "text/markdown": [
       "1. 'CDR3b'\n",
       "2. 'TRBV'\n",
       "3. 'TRBJ'\n",
       "4. 'subject:condition'\n",
       "5. 'count'\n",
       "\n",
       "\n"
      ],
      "text/plain": [
       "[1] \"CDR3b\"             \"TRBV\"              \"TRBJ\"             \n",
       "[4] \"subject:condition\" \"count\"            "
      ]
     },
     "metadata": {},
     "output_type": "display_data"
    }
   ],
   "source": [
    "colnames(covidfle_uniq)"
   ]
  },
  {
   "cell_type": "code",
   "execution_count": 32,
   "metadata": {
    "vscode": {
     "languageId": "r"
    }
   },
   "outputs": [],
   "source": [
    "#bind those with the same cdr3 + TRBV + TRBJ\n",
    "setDT(covidfle_uniq)\n",
    "\n",
    "ab <- covidfle_uniq[, .(subject = toString(`subject:condition`), #bind subjects\n",
    "                        count = sum(count)),  #get sum of counts\n",
    "                    by = c(\"CDR3b\", \"TRBV\", \"TRBJ\")] #get duplicates sequences with the same cdr3 + TRBV + TRBJ\n",
    "\n",
    "covidfle_uniq_ab <- merge(covidfle_uniq, ab, by = c(\"CDR3b\",\"TRBV\",\"TRBJ\")) # merge together"
   ]
  },
  {
   "cell_type": "code",
   "execution_count": 33,
   "metadata": {
    "vscode": {
     "languageId": "r"
    }
   },
   "outputs": [
    {
     "data": {
      "text/html": [
       "<style>\n",
       ".list-inline {list-style: none; margin:0; padding: 0}\n",
       ".list-inline>li {display: inline-block}\n",
       ".list-inline>li:not(:last-child)::after {content: \"\\00b7\"; padding: 0 .5ex}\n",
       "</style>\n",
       "<ol class=list-inline><li>156033</li><li>7</li></ol>\n"
      ],
      "text/latex": [
       "\\begin{enumerate*}\n",
       "\\item 156033\n",
       "\\item 7\n",
       "\\end{enumerate*}\n"
      ],
      "text/markdown": [
       "1. 156033\n",
       "2. 7\n",
       "\n",
       "\n"
      ],
      "text/plain": [
       "[1] 156033      7"
      ]
     },
     "metadata": {},
     "output_type": "display_data"
    }
   ],
   "source": [
    "dim(covidfle_uniq_ab)"
   ]
  },
  {
   "cell_type": "code",
   "execution_count": 34,
   "metadata": {
    "vscode": {
     "languageId": "r"
    }
   },
   "outputs": [
    {
     "data": {
      "text/html": [
       "<style>\n",
       ".list-inline {list-style: none; margin:0; padding: 0}\n",
       ".list-inline>li {display: inline-block}\n",
       ".list-inline>li:not(:last-child)::after {content: \"\\00b7\"; padding: 0 .5ex}\n",
       "</style>\n",
       "<ol class=list-inline><li>'CDR3b'</li><li>'TRBV'</li><li>'TRBJ'</li><li>'subject:condition'</li><li>'count.x'</li><li>'subject'</li><li>'count.y'</li></ol>\n"
      ],
      "text/latex": [
       "\\begin{enumerate*}\n",
       "\\item 'CDR3b'\n",
       "\\item 'TRBV'\n",
       "\\item 'TRBJ'\n",
       "\\item 'subject:condition'\n",
       "\\item 'count.x'\n",
       "\\item 'subject'\n",
       "\\item 'count.y'\n",
       "\\end{enumerate*}\n"
      ],
      "text/markdown": [
       "1. 'CDR3b'\n",
       "2. 'TRBV'\n",
       "3. 'TRBJ'\n",
       "4. 'subject:condition'\n",
       "5. 'count.x'\n",
       "6. 'subject'\n",
       "7. 'count.y'\n",
       "\n",
       "\n"
      ],
      "text/plain": [
       "[1] \"CDR3b\"             \"TRBV\"              \"TRBJ\"             \n",
       "[4] \"subject:condition\" \"count.x\"           \"subject\"          \n",
       "[7] \"count.y\"          "
      ]
     },
     "metadata": {},
     "output_type": "display_data"
    }
   ],
   "source": [
    "colnames(covidfle_uniq_ab)"
   ]
  },
  {
   "cell_type": "code",
   "execution_count": 35,
   "metadata": {
    "vscode": {
     "languageId": "r"
    }
   },
   "outputs": [],
   "source": [
    "#dedup\n",
    "covidfle_uniq_ab_dedup <- dplyr::distinct(covidfle_uniq_ab, \n",
    "                                          CDR3b, TRBV, TRBJ, subject, .keep_all= TRUE)"
   ]
  },
  {
   "cell_type": "code",
   "execution_count": 36,
   "metadata": {
    "vscode": {
     "languageId": "r"
    }
   },
   "outputs": [
    {
     "data": {
      "text/html": [
       "<table class=\"dataframe\">\n",
       "<caption>A data.table: 6 × 7</caption>\n",
       "<thead>\n",
       "\t<tr><th scope=col>CDR3b</th><th scope=col>TRBV</th><th scope=col>TRBJ</th><th scope=col>subject:condition</th><th scope=col>count.x</th><th scope=col>subject</th><th scope=col>count.y</th></tr>\n",
       "\t<tr><th scope=col>&lt;chr&gt;</th><th scope=col>&lt;chr&gt;</th><th scope=col>&lt;chr&gt;</th><th scope=col>&lt;chr&gt;</th><th scope=col>&lt;int&gt;</th><th scope=col>&lt;chr&gt;</th><th scope=col>&lt;int&gt;</th></tr>\n",
       "</thead>\n",
       "<tbody>\n",
       "\t<tr><td>AGVKITNSYEQYF   </td><td>TCRBV20-X </td><td>TCRBJ02-07</td><td>eHO134</td><td>1</td><td>eHO134</td><td>1</td></tr>\n",
       "\t<tr><td>AKNIQYF         </td><td>TCRBV27-01</td><td>TCRBJ02-04</td><td>eQD126</td><td>1</td><td>eQD126</td><td>1</td></tr>\n",
       "\t<tr><td>APYASKRAGYDNEQFF</td><td>TCRBV06-X </td><td>TCRBJ02-01</td><td>eHO141</td><td>1</td><td>eHO141</td><td>1</td></tr>\n",
       "\t<tr><td>ARLFSGANVLTF    </td><td>TCRBV07-02</td><td>TCRBJ02-06</td><td>eXL27 </td><td>1</td><td>eXL27 </td><td>1</td></tr>\n",
       "\t<tr><td>CAAAAPDTQYF     </td><td>TCRBV06-X </td><td>TCRBJ02-03</td><td>eOX46 </td><td>1</td><td>eOX46 </td><td>1</td></tr>\n",
       "\t<tr><td>CAAADRMTDTQYF   </td><td>TCRBV24-01</td><td>TCRBJ02-03</td><td>eHO130</td><td>1</td><td>eHO130</td><td>1</td></tr>\n",
       "</tbody>\n",
       "</table>\n"
      ],
      "text/latex": [
       "A data.table: 6 × 7\n",
       "\\begin{tabular}{lllllll}\n",
       " CDR3b & TRBV & TRBJ & subject:condition & count.x & subject & count.y\\\\\n",
       " <chr> & <chr> & <chr> & <chr> & <int> & <chr> & <int>\\\\\n",
       "\\hline\n",
       "\t AGVKITNSYEQYF    & TCRBV20-X  & TCRBJ02-07 & eHO134 & 1 & eHO134 & 1\\\\\n",
       "\t AKNIQYF          & TCRBV27-01 & TCRBJ02-04 & eQD126 & 1 & eQD126 & 1\\\\\n",
       "\t APYASKRAGYDNEQFF & TCRBV06-X  & TCRBJ02-01 & eHO141 & 1 & eHO141 & 1\\\\\n",
       "\t ARLFSGANVLTF     & TCRBV07-02 & TCRBJ02-06 & eXL27  & 1 & eXL27  & 1\\\\\n",
       "\t CAAAAPDTQYF      & TCRBV06-X  & TCRBJ02-03 & eOX46  & 1 & eOX46  & 1\\\\\n",
       "\t CAAADRMTDTQYF    & TCRBV24-01 & TCRBJ02-03 & eHO130 & 1 & eHO130 & 1\\\\\n",
       "\\end{tabular}\n"
      ],
      "text/markdown": [
       "\n",
       "A data.table: 6 × 7\n",
       "\n",
       "| CDR3b &lt;chr&gt; | TRBV &lt;chr&gt; | TRBJ &lt;chr&gt; | subject:condition &lt;chr&gt; | count.x &lt;int&gt; | subject &lt;chr&gt; | count.y &lt;int&gt; |\n",
       "|---|---|---|---|---|---|---|\n",
       "| AGVKITNSYEQYF    | TCRBV20-X  | TCRBJ02-07 | eHO134 | 1 | eHO134 | 1 |\n",
       "| AKNIQYF          | TCRBV27-01 | TCRBJ02-04 | eQD126 | 1 | eQD126 | 1 |\n",
       "| APYASKRAGYDNEQFF | TCRBV06-X  | TCRBJ02-01 | eHO141 | 1 | eHO141 | 1 |\n",
       "| ARLFSGANVLTF     | TCRBV07-02 | TCRBJ02-06 | eXL27  | 1 | eXL27  | 1 |\n",
       "| CAAAAPDTQYF      | TCRBV06-X  | TCRBJ02-03 | eOX46  | 1 | eOX46  | 1 |\n",
       "| CAAADRMTDTQYF    | TCRBV24-01 | TCRBJ02-03 | eHO130 | 1 | eHO130 | 1 |\n",
       "\n"
      ],
      "text/plain": [
       "  CDR3b            TRBV       TRBJ       subject:condition count.x subject\n",
       "1 AGVKITNSYEQYF    TCRBV20-X  TCRBJ02-07 eHO134            1       eHO134 \n",
       "2 AKNIQYF          TCRBV27-01 TCRBJ02-04 eQD126            1       eQD126 \n",
       "3 APYASKRAGYDNEQFF TCRBV06-X  TCRBJ02-01 eHO141            1       eHO141 \n",
       "4 ARLFSGANVLTF     TCRBV07-02 TCRBJ02-06 eXL27             1       eXL27  \n",
       "5 CAAAAPDTQYF      TCRBV06-X  TCRBJ02-03 eOX46             1       eOX46  \n",
       "6 CAAADRMTDTQYF    TCRBV24-01 TCRBJ02-03 eHO130            1       eHO130 \n",
       "  count.y\n",
       "1 1      \n",
       "2 1      \n",
       "3 1      \n",
       "4 1      \n",
       "5 1      \n",
       "6 1      "
      ]
     },
     "metadata": {},
     "output_type": "display_data"
    }
   ],
   "source": [
    "head(covidfle_uniq_ab_dedup)"
   ]
  },
  {
   "cell_type": "code",
   "execution_count": 40,
   "metadata": {
    "vscode": {
     "languageId": "r"
    }
   },
   "outputs": [
    {
     "data": {
      "text/html": [
       "<style>\n",
       ".list-inline {list-style: none; margin:0; padding: 0}\n",
       ".list-inline>li {display: inline-block}\n",
       ".list-inline>li:not(:last-child)::after {content: \"\\00b7\"; padding: 0 .5ex}\n",
       "</style>\n",
       "<ol class=list-inline><li>148678</li><li>7</li></ol>\n"
      ],
      "text/latex": [
       "\\begin{enumerate*}\n",
       "\\item 148678\n",
       "\\item 7\n",
       "\\end{enumerate*}\n"
      ],
      "text/markdown": [
       "1. 148678\n",
       "2. 7\n",
       "\n",
       "\n"
      ],
      "text/plain": [
       "[1] 148678      7"
      ]
     },
     "metadata": {},
     "output_type": "display_data"
    }
   ],
   "source": [
    "dim(covidfle_uniq_ab_dedup)"
   ]
  },
  {
   "cell_type": "code",
   "execution_count": 38,
   "metadata": {
    "vscode": {
     "languageId": "r"
    }
   },
   "outputs": [],
   "source": [
    "#replaqce TCRB with TRB\n",
    "covidfle_uniq_ab_dedup$TRBV <- gsub(\"TCRB\", \"TRB\", covidfle_uniq_ab_dedup$TRBV)\n",
    "covidfle_uniq_ab_dedup$TRBJ <- gsub(\"TCRB\", \"TRB\", covidfle_uniq_ab_dedup$TRBJ)"
   ]
  },
  {
   "cell_type": "code",
   "execution_count": 41,
   "metadata": {
    "vscode": {
     "languageId": "r"
    }
   },
   "outputs": [
    {
     "data": {
      "text/html": [
       "<table class=\"dataframe\">\n",
       "<caption>A data.table: 6 × 7</caption>\n",
       "<thead>\n",
       "\t<tr><th scope=col>CDR3b</th><th scope=col>TRBV</th><th scope=col>TRBJ</th><th scope=col>subject:condition</th><th scope=col>count.x</th><th scope=col>subject</th><th scope=col>count.y</th></tr>\n",
       "\t<tr><th scope=col>&lt;chr&gt;</th><th scope=col>&lt;chr&gt;</th><th scope=col>&lt;chr&gt;</th><th scope=col>&lt;chr&gt;</th><th scope=col>&lt;int&gt;</th><th scope=col>&lt;chr&gt;</th><th scope=col>&lt;int&gt;</th></tr>\n",
       "</thead>\n",
       "<tbody>\n",
       "\t<tr><td>CASSIRSSYEQYF  </td><td>TRBV19-01      </td><td>TRBJ02-07</td><td>eOX46 </td><td>1</td><td>eOX46, ePD84, eHO128, eHO132, eHO125, ePD83, eHO136, eLH41, eHO124, ePD86, eLH42, eHO130, ePD76, eQD137, eQD123, eMR20, eEE243, eHH173, eHH174, eQD124, eHH169, eEE228, eXL27, eQD115, eXL36, eMR12, eLH47, eDH113, eEE226, eXL37, eDH96, eXL30</td><td>32</td></tr>\n",
       "\t<tr><td>CASSQTGGRNQPQHF</td><td>TRBV12-X       </td><td>TRBJ01-05</td><td>eLH41 </td><td>1</td><td>eLH41, eJL164, eXL31, eHO132, ePD86, eAV88, ePD84, eEE243, eXL37, eQD118, eEE224, eXL27, eMR12, eOX56, eLH47, eMR18, eLH46, eQD136, eOX43, eOX54, ePD76                                                                                        </td><td>21</td></tr>\n",
       "\t<tr><td>CASSLAGAYEQYF  </td><td>TRBV05-01      </td><td>TRBJ02-07</td><td>eJL143</td><td>1</td><td>eJL143, ePD79, eHH175, eLH45, eHO126, eXL31, eLH49, eLH42, eJL157, eHO135, eLH54, eMR14, eLH47, eAV91, eQD109, eQD111, eMR23, eQD123, eMR15                                                                                                    </td><td>19</td></tr>\n",
       "\t<tr><td>CASSFSYEQYF    </td><td>TRBV12-03/12-04</td><td>TRBJ02-07</td><td>eEE243</td><td>1</td><td>eEE243, eHH175, eXL30, eHO130, eJL149, eAV88, eXL27, eOX54, eEE224, eEE228, eOX49, eEE226, eOX52, eEE240, eOX46, eOX43, eXL31                                                                                                                  </td><td>17</td></tr>\n",
       "\t<tr><td>CASSLSAPQETQYF </td><td>TRBV27-01      </td><td>TRBJ02-05</td><td>eMR17 </td><td>1</td><td>eMR17, eJL161, eHO134, eQD124, eMR13, eQD111, eQD121, eHO140, eMR12, eQD125, eLH47, eEE226, eQD126, eQD114, eQD110, eQD120                                                                                                                     </td><td>16</td></tr>\n",
       "\t<tr><td>CASSVGETQYF    </td><td>TRBV09-01      </td><td>TRBJ02-05</td><td>eOX56 </td><td>1</td><td>eOX56, eEE224, eEE226, eEE228, eOX49, eOX54, eOX52, eXL27, eXL30, eOX43, eOX46, eXL32, eEE240, eAV88, eQD128, eHH175                                                                                                                           </td><td>16</td></tr>\n",
       "</tbody>\n",
       "</table>\n"
      ],
      "text/latex": [
       "A data.table: 6 × 7\n",
       "\\begin{tabular}{lllllll}\n",
       " CDR3b & TRBV & TRBJ & subject:condition & count.x & subject & count.y\\\\\n",
       " <chr> & <chr> & <chr> & <chr> & <int> & <chr> & <int>\\\\\n",
       "\\hline\n",
       "\t CASSIRSSYEQYF   & TRBV19-01       & TRBJ02-07 & eOX46  & 1 & eOX46, ePD84, eHO128, eHO132, eHO125, ePD83, eHO136, eLH41, eHO124, ePD86, eLH42, eHO130, ePD76, eQD137, eQD123, eMR20, eEE243, eHH173, eHH174, eQD124, eHH169, eEE228, eXL27, eQD115, eXL36, eMR12, eLH47, eDH113, eEE226, eXL37, eDH96, eXL30 & 32\\\\\n",
       "\t CASSQTGGRNQPQHF & TRBV12-X        & TRBJ01-05 & eLH41  & 1 & eLH41, eJL164, eXL31, eHO132, ePD86, eAV88, ePD84, eEE243, eXL37, eQD118, eEE224, eXL27, eMR12, eOX56, eLH47, eMR18, eLH46, eQD136, eOX43, eOX54, ePD76                                                                                         & 21\\\\\n",
       "\t CASSLAGAYEQYF   & TRBV05-01       & TRBJ02-07 & eJL143 & 1 & eJL143, ePD79, eHH175, eLH45, eHO126, eXL31, eLH49, eLH42, eJL157, eHO135, eLH54, eMR14, eLH47, eAV91, eQD109, eQD111, eMR23, eQD123, eMR15                                                                                                     & 19\\\\\n",
       "\t CASSFSYEQYF     & TRBV12-03/12-04 & TRBJ02-07 & eEE243 & 1 & eEE243, eHH175, eXL30, eHO130, eJL149, eAV88, eXL27, eOX54, eEE224, eEE228, eOX49, eEE226, eOX52, eEE240, eOX46, eOX43, eXL31                                                                                                                   & 17\\\\\n",
       "\t CASSLSAPQETQYF  & TRBV27-01       & TRBJ02-05 & eMR17  & 1 & eMR17, eJL161, eHO134, eQD124, eMR13, eQD111, eQD121, eHO140, eMR12, eQD125, eLH47, eEE226, eQD126, eQD114, eQD110, eQD120                                                                                                                      & 16\\\\\n",
       "\t CASSVGETQYF     & TRBV09-01       & TRBJ02-05 & eOX56  & 1 & eOX56, eEE224, eEE226, eEE228, eOX49, eOX54, eOX52, eXL27, eXL30, eOX43, eOX46, eXL32, eEE240, eAV88, eQD128, eHH175                                                                                                                            & 16\\\\\n",
       "\\end{tabular}\n"
      ],
      "text/markdown": [
       "\n",
       "A data.table: 6 × 7\n",
       "\n",
       "| CDR3b &lt;chr&gt; | TRBV &lt;chr&gt; | TRBJ &lt;chr&gt; | subject:condition &lt;chr&gt; | count.x &lt;int&gt; | subject &lt;chr&gt; | count.y &lt;int&gt; |\n",
       "|---|---|---|---|---|---|---|\n",
       "| CASSIRSSYEQYF   | TRBV19-01       | TRBJ02-07 | eOX46  | 1 | eOX46, ePD84, eHO128, eHO132, eHO125, ePD83, eHO136, eLH41, eHO124, ePD86, eLH42, eHO130, ePD76, eQD137, eQD123, eMR20, eEE243, eHH173, eHH174, eQD124, eHH169, eEE228, eXL27, eQD115, eXL36, eMR12, eLH47, eDH113, eEE226, eXL37, eDH96, eXL30 | 32 |\n",
       "| CASSQTGGRNQPQHF | TRBV12-X        | TRBJ01-05 | eLH41  | 1 | eLH41, eJL164, eXL31, eHO132, ePD86, eAV88, ePD84, eEE243, eXL37, eQD118, eEE224, eXL27, eMR12, eOX56, eLH47, eMR18, eLH46, eQD136, eOX43, eOX54, ePD76                                                                                         | 21 |\n",
       "| CASSLAGAYEQYF   | TRBV05-01       | TRBJ02-07 | eJL143 | 1 | eJL143, ePD79, eHH175, eLH45, eHO126, eXL31, eLH49, eLH42, eJL157, eHO135, eLH54, eMR14, eLH47, eAV91, eQD109, eQD111, eMR23, eQD123, eMR15                                                                                                     | 19 |\n",
       "| CASSFSYEQYF     | TRBV12-03/12-04 | TRBJ02-07 | eEE243 | 1 | eEE243, eHH175, eXL30, eHO130, eJL149, eAV88, eXL27, eOX54, eEE224, eEE228, eOX49, eEE226, eOX52, eEE240, eOX46, eOX43, eXL31                                                                                                                   | 17 |\n",
       "| CASSLSAPQETQYF  | TRBV27-01       | TRBJ02-05 | eMR17  | 1 | eMR17, eJL161, eHO134, eQD124, eMR13, eQD111, eQD121, eHO140, eMR12, eQD125, eLH47, eEE226, eQD126, eQD114, eQD110, eQD120                                                                                                                      | 16 |\n",
       "| CASSVGETQYF     | TRBV09-01       | TRBJ02-05 | eOX56  | 1 | eOX56, eEE224, eEE226, eEE228, eOX49, eOX54, eOX52, eXL27, eXL30, eOX43, eOX46, eXL32, eEE240, eAV88, eQD128, eHH175                                                                                                                            | 16 |\n",
       "\n"
      ],
      "text/plain": [
       "  CDR3b           TRBV            TRBJ      subject:condition count.x\n",
       "1 CASSIRSSYEQYF   TRBV19-01       TRBJ02-07 eOX46             1      \n",
       "2 CASSQTGGRNQPQHF TRBV12-X        TRBJ01-05 eLH41             1      \n",
       "3 CASSLAGAYEQYF   TRBV05-01       TRBJ02-07 eJL143            1      \n",
       "4 CASSFSYEQYF     TRBV12-03/12-04 TRBJ02-07 eEE243            1      \n",
       "5 CASSLSAPQETQYF  TRBV27-01       TRBJ02-05 eMR17             1      \n",
       "6 CASSVGETQYF     TRBV09-01       TRBJ02-05 eOX56             1      \n",
       "  subject                                                                                                                                                                                                                                        \n",
       "1 eOX46, ePD84, eHO128, eHO132, eHO125, ePD83, eHO136, eLH41, eHO124, ePD86, eLH42, eHO130, ePD76, eQD137, eQD123, eMR20, eEE243, eHH173, eHH174, eQD124, eHH169, eEE228, eXL27, eQD115, eXL36, eMR12, eLH47, eDH113, eEE226, eXL37, eDH96, eXL30\n",
       "2 eLH41, eJL164, eXL31, eHO132, ePD86, eAV88, ePD84, eEE243, eXL37, eQD118, eEE224, eXL27, eMR12, eOX56, eLH47, eMR18, eLH46, eQD136, eOX43, eOX54, ePD76                                                                                        \n",
       "3 eJL143, ePD79, eHH175, eLH45, eHO126, eXL31, eLH49, eLH42, eJL157, eHO135, eLH54, eMR14, eLH47, eAV91, eQD109, eQD111, eMR23, eQD123, eMR15                                                                                                    \n",
       "4 eEE243, eHH175, eXL30, eHO130, eJL149, eAV88, eXL27, eOX54, eEE224, eEE228, eOX49, eEE226, eOX52, eEE240, eOX46, eOX43, eXL31                                                                                                                  \n",
       "5 eMR17, eJL161, eHO134, eQD124, eMR13, eQD111, eQD121, eHO140, eMR12, eQD125, eLH47, eEE226, eQD126, eQD114, eQD110, eQD120                                                                                                                     \n",
       "6 eOX56, eEE224, eEE226, eEE228, eOX49, eOX54, eOX52, eXL27, eXL30, eOX43, eOX46, eXL32, eEE240, eAV88, eQD128, eHH175                                                                                                                           \n",
       "  count.y\n",
       "1 32     \n",
       "2 21     \n",
       "3 19     \n",
       "4 17     \n",
       "5 16     \n",
       "6 16     "
      ]
     },
     "metadata": {},
     "output_type": "display_data"
    }
   ],
   "source": [
    "head(covidfle_uniq_ab_dedup[order(covidfle_uniq_ab_dedup$count.y, decreasing = T),])"
   ]
  },
  {
   "cell_type": "code",
   "execution_count": 42,
   "metadata": {
    "vscode": {
     "languageId": "r"
    }
   },
   "outputs": [],
   "source": [
    "covidfle_uniq_ab_dedup$file <- \"COVID_specific_TCRB.tsv\""
   ]
  },
  {
   "cell_type": "code",
   "execution_count": 45,
   "metadata": {
    "vscode": {
     "languageId": "r"
    }
   },
   "outputs": [],
   "source": [
    "covidfle_uniq_ab_dedup$clonefraction <- 1"
   ]
  },
  {
   "cell_type": "code",
   "execution_count": 46,
   "metadata": {
    "vscode": {
     "languageId": "r"
    }
   },
   "outputs": [
    {
     "data": {
      "text/html": [
       "<style>\n",
       ".list-inline {list-style: none; margin:0; padding: 0}\n",
       ".list-inline>li {display: inline-block}\n",
       ".list-inline>li:not(:last-child)::after {content: \"\\00b7\"; padding: 0 .5ex}\n",
       "</style>\n",
       "<ol class=list-inline><li>'CDR3b'</li><li>'TRBV'</li><li>'TRBJ'</li><li>'subject:condition'</li><li>'count.x'</li><li>'subject'</li><li>'count.y'</li><li>'file'</li><li>'clonefraction'</li></ol>\n"
      ],
      "text/latex": [
       "\\begin{enumerate*}\n",
       "\\item 'CDR3b'\n",
       "\\item 'TRBV'\n",
       "\\item 'TRBJ'\n",
       "\\item 'subject:condition'\n",
       "\\item 'count.x'\n",
       "\\item 'subject'\n",
       "\\item 'count.y'\n",
       "\\item 'file'\n",
       "\\item 'clonefraction'\n",
       "\\end{enumerate*}\n"
      ],
      "text/markdown": [
       "1. 'CDR3b'\n",
       "2. 'TRBV'\n",
       "3. 'TRBJ'\n",
       "4. 'subject:condition'\n",
       "5. 'count.x'\n",
       "6. 'subject'\n",
       "7. 'count.y'\n",
       "8. 'file'\n",
       "9. 'clonefraction'\n",
       "\n",
       "\n"
      ],
      "text/plain": [
       "[1] \"CDR3b\"             \"TRBV\"              \"TRBJ\"             \n",
       "[4] \"subject:condition\" \"count.x\"           \"subject\"          \n",
       "[7] \"count.y\"           \"file\"              \"clonefraction\"    "
      ]
     },
     "metadata": {},
     "output_type": "display_data"
    }
   ],
   "source": [
    "colnames(covidfle_uniq_ab_dedup)"
   ]
  },
  {
   "cell_type": "code",
   "execution_count": 47,
   "metadata": {
    "vscode": {
     "languageId": "r"
    }
   },
   "outputs": [],
   "source": [
    "covidfle_uniq_ab_dedup_subset <- covidfle_uniq_ab_dedup[,c(\"CDR3b\", \"TRBV\", \"TRBJ\", \"subject:condition\",\n",
    "                                                          \"count.y\", \"clonefraction\", \"subject\",\"file\")]"
   ]
  },
  {
   "cell_type": "code",
   "execution_count": 49,
   "metadata": {
    "vscode": {
     "languageId": "r"
    }
   },
   "outputs": [],
   "source": [
    "colnames(covidfle_uniq_ab_dedup_subset)[ colnames(covidfle_uniq_ab_dedup_subset) == \"count.y\"] <- \"count\""
   ]
  },
  {
   "cell_type": "code",
   "execution_count": 73,
   "metadata": {
    "vscode": {
     "languageId": "r"
    }
   },
   "outputs": [],
   "source": [
    "covidfle_uniq_ab_dedup_subset$index <- 1:nrow(covidfle_uniq_ab_dedup_subset)"
   ]
  },
  {
   "cell_type": "code",
   "execution_count": 74,
   "metadata": {
    "vscode": {
     "languageId": "r"
    }
   },
   "outputs": [],
   "source": [
    "save(covidfle_uniq_ab_dedup_subset, file = paste0(datapath, \"capTCRseq/covidfle_uniq_ab_dedup_subset.RData\"))"
   ]
  },
  {
   "cell_type": "code",
   "execution_count": 65,
   "metadata": {
    "vscode": {
     "languageId": "r"
    }
   },
   "outputs": [],
   "source": [
    "#write.table(covidfle_uniq_ab_dedup_subset, file = '/Users/anabbi/Desktop/H4H/projects/COVID-19/tcr-cap/Adaptive/MIRA/ImmuneCODE-MIRA-Release002.1/COVID_specific_TCRB_clean.tsv',\n",
    "#            sep = \"\\t\", quote = F, row.names = F)"
   ]
  }
 ],
 "metadata": {
  "kernelspec": {
   "display_name": "R 4.0",
   "language": "R",
   "name": "ir40"
  },
  "language_info": {
   "codemirror_mode": "r",
   "file_extension": ".r",
   "mimetype": "text/x-r-source",
   "name": "R",
   "pygments_lexer": "r",
   "version": "4.2.2"
  },
  "toc": {
   "base_numbering": 1,
   "nav_menu": {},
   "number_sections": false,
   "sideBar": true,
   "skip_h1_title": false,
   "title_cell": "Table of Contents",
   "title_sidebar": "Contents",
   "toc_cell": true,
   "toc_position": {
    "height": "calc(100% - 180px)",
    "left": "10px",
    "top": "150px",
    "width": "186.15px"
   },
   "toc_section_display": true,
   "toc_window_display": true
  }
 },
 "nbformat": 4,
 "nbformat_minor": 2
}

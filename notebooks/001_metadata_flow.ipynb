{
 "cells": [
  {
   "cell_type": "code",
   "execution_count": 10,
   "metadata": {
    "vscode": {
     "languageId": "r"
    }
   },
   "outputs": [
    {
     "data": {
      "text/html": [
       "'en_US.UTF-8/en_US.UTF-8/en_US.UTF-8/C/en_US.UTF-8/C'"
      ],
      "text/latex": [
       "'en\\_US.UTF-8/en\\_US.UTF-8/en\\_US.UTF-8/C/en\\_US.UTF-8/C'"
      ],
      "text/markdown": [
       "'en_US.UTF-8/en_US.UTF-8/en_US.UTF-8/C/en_US.UTF-8/C'"
      ],
      "text/plain": [
       "[1] \"en_US.UTF-8/en_US.UTF-8/en_US.UTF-8/C/en_US.UTF-8/C\""
      ]
     },
     "metadata": {},
     "output_type": "display_data"
    }
   ],
   "source": [
    "Sys.setlocale(category = \"LC_ALL\", locale = \"en_US.UTF-8\")"
   ]
  },
  {
   "attachments": {},
   "cell_type": "markdown",
   "metadata": {},
   "source": [
    "# Dependencies"
   ]
  },
  {
   "cell_type": "code",
   "execution_count": 11,
   "metadata": {
    "vscode": {
     "languageId": "r"
    }
   },
   "outputs": [],
   "source": [
    "pacman::p_load(ggplot2, gridExtra,ComplexHeatmap,circlize)"
   ]
  },
  {
   "attachments": {},
   "cell_type": "markdown",
   "metadata": {},
   "source": [
    "# Functions"
   ]
  },
  {
   "attachments": {},
   "cell_type": "markdown",
   "metadata": {},
   "source": [
    "# Paths"
   ]
  },
  {
   "cell_type": "code",
   "execution_count": 12,
   "metadata": {
    "vscode": {
     "languageId": "r"
    }
   },
   "outputs": [],
   "source": [
    "datapath <- \"/Users/anabbi/OneDrive - UHN/Documents/INTERCEPT/Data/\"\n",
    "plotpath <- \"/Users/anabbi/OneDrive - UHN/Documents/INTERCEPT/Plots/\"\n",
    "manifestpath <- \"/Users/anabbi/OneDrive - UHN/Documents/INTERCEPT/Manifests/\"\n",
    "\n",
    "gitpath <- \"/Users/anabbi/git/ped_CapTCRseq/\""
   ]
  },
  {
   "attachments": {},
   "cell_type": "markdown",
   "metadata": {},
   "source": [
    "# Main"
   ]
  },
  {
   "attachments": {},
   "cell_type": "markdown",
   "metadata": {},
   "source": [
    "All csv files are from \"Toronto expansion and NCR data 4.xlsx\""
   ]
  },
  {
   "attachments": {},
   "cell_type": "markdown",
   "metadata": {},
   "source": [
    "## Cleanup ATC file"
   ]
  },
  {
   "attachments": {},
   "cell_type": "markdown",
   "metadata": {},
   "source": [
    "On excel, copy row 2:end of \"ATC count\" sheet to a new spreadsheet, adjust columns:\n",
    "\" ID#\tAge\t\tFOLD\tATC\tFOLD1\tATC1\tFOLD2\tATC2\tFOLD3\tATC3\tFOLD4\tATC4\"\n",
    "save as ATC_count.csv"
   ]
  },
  {
   "cell_type": "code",
   "execution_count": 13,
   "metadata": {
    "vscode": {
     "languageId": "r"
    }
   },
   "outputs": [],
   "source": [
    "ATCs <- read.csv(paste0(datapath, \"Flow/ATC_count.csv\"),\n",
    "                 header = T, check.names = F, stringsAsFactors = F, \n",
    "                 na.strings = c(\"NA\",\"\", \"#DIV/0!\",\"#VALUE!\",\"#REF!\"))"
   ]
  },
  {
   "cell_type": "code",
   "execution_count": 14,
   "metadata": {
    "scrolled": true,
    "vscode": {
     "languageId": "r"
    }
   },
   "outputs": [
    {
     "data": {
      "text/html": [
       "<table class=\"dataframe\">\n",
       "<caption>A data.frame: 119 x 13</caption>\n",
       "<thead>\n",
       "\t<tr><th></th><th scope=col> ID#</th><th scope=col>Age</th><th scope=col></th><th scope=col>FOLD</th><th scope=col>ATC</th><th scope=col>FOLD1</th><th scope=col>ATC1</th><th scope=col>FOLD2</th><th scope=col>ATC2</th><th scope=col>FOLD3</th><th scope=col>ATC3</th><th scope=col>FOLD4</th><th scope=col>ATC4</th></tr>\n",
       "\t<tr><th></th><th scope=col>&lt;int&gt;</th><th scope=col>&lt;dbl&gt;</th><th scope=col>&lt;chr&gt;</th><th scope=col>&lt;chr&gt;</th><th scope=col>&lt;dbl&gt;</th><th scope=col>&lt;chr&gt;</th><th scope=col>&lt;dbl&gt;</th><th scope=col>&lt;chr&gt;</th><th scope=col>&lt;dbl&gt;</th><th scope=col>&lt;chr&gt;</th><th scope=col>&lt;dbl&gt;</th><th scope=col>&lt;chr&gt;</th><th scope=col>&lt;dbl&gt;</th></tr>\n",
       "</thead>\n",
       "<tbody>\n",
       "\t<tr><th scope=row>220</th><td>319</td><td>NA</td><td>HR ALL                  </td><td>1.4 </td><td>   0.00</td><td>7.9 </td><td>   0.00</td><td>1.8 </td><td>  0.00</td><td>1.5 </td><td>   0.00</td><td>1.2</td><td>   0.00</td></tr>\n",
       "\t<tr><th scope=row>221</th><td>320</td><td>NA</td><td>AML                     </td><td>8.9 </td><td>   0.00</td><td>3.5 </td><td>   0.00</td><td>13.2</td><td>  0.00</td><td>x   </td><td>   0.00</td><td>0  </td><td>   0.00</td></tr>\n",
       "\t<tr><th scope=row>222</th><td>321</td><td>NA</td><td>HD                      </td><td>0   </td><td>   0.00</td><td>0   </td><td>   0.00</td><td>0   </td><td>  0.00</td><td>0   </td><td>   0.00</td><td>0  </td><td>   0.00</td></tr>\n",
       "\t<tr><th scope=row>223</th><td>322</td><td>NA</td><td>DLBCL                   </td><td>1.1 </td><td>   0.00</td><td>0.4 </td><td>   0.00</td><td>4.3 </td><td>  0.00</td><td>4.7 </td><td>   0.00</td><td>1  </td><td>   0.00</td></tr>\n",
       "\t<tr><th scope=row>224</th><td>323</td><td>NA</td><td>HR ALL                  </td><td>0   </td><td> 154.75</td><td>0   </td><td>1397.28</td><td>0   </td><td>786.24</td><td>0   </td><td> 563.68</td><td>0  </td><td> 979.50</td></tr>\n",
       "\t<tr><th scope=row>225</th><td>324</td><td>NA</td><td>T-ALL                   </td><td>0   </td><td>   0.00</td><td>0   </td><td>   0.00</td><td>0   </td><td>  0.00</td><td>0   </td><td>   0.00</td><td>0  </td><td>   0.00</td></tr>\n",
       "\t<tr><th scope=row>226</th><td>325</td><td>NA</td><td>ERMS                    </td><td>0   </td><td>     NA</td><td>0   </td><td> 927.46</td><td>0   </td><td>624.72</td><td>0   </td><td> 163.77</td><td>0  </td><td>   0.00</td></tr>\n",
       "\t<tr><th scope=row>227</th><td>326</td><td>NA</td><td>SR ALL                  </td><td>0   </td><td>  77.52</td><td>0   </td><td> 400.14</td><td>0   </td><td>122.08</td><td>0   </td><td>1242.85</td><td>0  </td><td> 972.90</td></tr>\n",
       "\t<tr><th scope=row>228</th><td>327</td><td>NA</td><td>Hepatoblastoma          </td><td>6.8 </td><td>   0.00</td><td>13.1</td><td>   0.00</td><td>26.3</td><td>  0.00</td><td>97.8</td><td>   0.00</td><td>6.9</td><td>   0.00</td></tr>\n",
       "\t<tr><th scope=row>229</th><td>328</td><td>NA</td><td>SR ALL                  </td><td>0   </td><td> 155.22</td><td>0   </td><td> 829.44</td><td>0   </td><td>997.20</td><td>0   </td><td> 130.82</td><td>0  </td><td>  91.16</td></tr>\n",
       "\t<tr><th scope=row>230</th><td>329</td><td>NA</td><td>HR ALL                  </td><td>X   </td><td>     NA</td><td>22.3</td><td>   0.00</td><td>74.6</td><td>  0.00</td><td>1.2 </td><td>   0.00</td><td>0  </td><td>   0.00</td></tr>\n",
       "\t<tr><th scope=row>231</th><td>330</td><td>NA</td><td>OS                      </td><td>0.9 </td><td>   0.00</td><td>1.9 </td><td>   0.00</td><td>1.5 </td><td>  0.00</td><td>4.1 </td><td>   0.00</td><td>6.2</td><td>   0.00</td></tr>\n",
       "\t<tr><th scope=row>232</th><td>331</td><td>NA</td><td>SR ALL                  </td><td>0   </td><td>   0.00</td><td>0   </td><td>   0.00</td><td>0   </td><td>  0.00</td><td>0   </td><td>   0.00</td><td>0  </td><td>   0.00</td></tr>\n",
       "\t<tr><th scope=row>233</th><td>332</td><td>NA</td><td>ERMS                    </td><td>8.2 </td><td>   0.00</td><td>x   </td><td>   0.00</td><td>2   </td><td>  0.00</td><td>0.4 </td><td>   0.00</td><td>1.3</td><td>   0.00</td></tr>\n",
       "\t<tr><th scope=row>234</th><td>333</td><td>NA</td><td>HD                      </td><td>0   </td><td>   0.00</td><td>0   </td><td>   0.00</td><td>0   </td><td>  0.00</td><td>0   </td><td>   0.00</td><td>0  </td><td>   0.00</td></tr>\n",
       "\t<tr><th scope=row>235</th><td>334</td><td>NA</td><td>HR ALL                  </td><td>0   </td><td> 136.08</td><td>0   </td><td> 328.86</td><td>0   </td><td>299.44</td><td>0   </td><td>  39.20</td><td>0  </td><td>     NA</td></tr>\n",
       "\t<tr><th scope=row>236</th><td>335</td><td>NA</td><td>Hepatoblastoma          </td><td>0   </td><td>   0.00</td><td>0   </td><td>   0.00</td><td>0   </td><td>  0.00</td><td>0   </td><td>   0.00</td><td>0  </td><td>   0.00</td></tr>\n",
       "\t<tr><th scope=row>237</th><td>336</td><td>NA</td><td>ALL                     </td><td>0   </td><td>   0.00</td><td>0   </td><td>   0.00</td><td>0   </td><td>  0.00</td><td>0   </td><td>   0.00</td><td>0  </td><td>   0.00</td></tr>\n",
       "\t<tr><th scope=row>238</th><td>337</td><td>NA</td><td>B lymphoblastic lymphoma</td><td>0   </td><td>   0.00</td><td>0   </td><td>   0.00</td><td>0   </td><td>  0.00</td><td>0   </td><td>   0.00</td><td>0  </td><td>   0.00</td></tr>\n",
       "\t<tr><th scope=row>239</th><td>338</td><td>NA</td><td>AML                     </td><td>0.8 </td><td> 942.34</td><td>5.1 </td><td> 644.68</td><td>16.8</td><td>329.29</td><td>1.9 </td><td>   0.00</td><td>0  </td><td>   0.00</td></tr>\n",
       "\t<tr><th scope=row>240</th><td>339</td><td>NA</td><td>ALL                     </td><td>0   </td><td> 173.25</td><td>0   </td><td> 111.02</td><td>0   </td><td>376.20</td><td>0   </td><td> 447.95</td><td>0  </td><td> 421.94</td></tr>\n",
       "\t<tr><th scope=row>241</th><td>340</td><td>NA</td><td>ALL                     </td><td>0   </td><td>   0.00</td><td>0   </td><td>   0.00</td><td>0   </td><td>  0.00</td><td>0   </td><td>   0.00</td><td>0  </td><td>   0.00</td></tr>\n",
       "\t<tr><th scope=row>242</th><td>341</td><td>NA</td><td>CML                     </td><td>0   </td><td>   0.00</td><td>0   </td><td>   0.00</td><td>0   </td><td>  0.00</td><td>0   </td><td>     NA</td><td>0  </td><td>   0.00</td></tr>\n",
       "\t<tr><th scope=row>243</th><td>342</td><td>NA</td><td>AML                     </td><td>2.4 </td><td>9927.72</td><td>2.8 </td><td>   0.00</td><td>15  </td><td>  0.00</td><td>0   </td><td>   0.00</td><td>0  </td><td>   0.00</td></tr>\n",
       "\t<tr><th scope=row>244</th><td>343</td><td>NA</td><td>Ewings                  </td><td>1   </td><td> 219.30</td><td>0.3 </td><td> 459.04</td><td>0.6 </td><td>370.30</td><td>1.5 </td><td> 536.63</td><td>2.1</td><td> 371.20</td></tr>\n",
       "\t<tr><th scope=row>245</th><td>344</td><td>NA</td><td>Burkitts                </td><td>0   </td><td> 247.80</td><td>0   </td><td> 829.08</td><td>0   </td><td> 80.04</td><td>0   </td><td>   0.00</td><td>0  </td><td> 134.32</td></tr>\n",
       "\t<tr><th scope=row>246</th><td>345</td><td>NA</td><td>ALL                     </td><td>0   </td><td> 287.00</td><td>0   </td><td>1598.08</td><td>0   </td><td>  0.00</td><td>0   </td><td>   0.00</td><td>0  </td><td>   0.00</td></tr>\n",
       "\t<tr><th scope=row>247</th><td>346</td><td>NA</td><td>NB                      </td><td>0.8 </td><td> 331.70</td><td>0   </td><td>   0.00</td><td>0   </td><td>  0.00</td><td>0   </td><td>   0.00</td><td>0  </td><td>   0.00</td></tr>\n",
       "\t<tr><th scope=row>248</th><td>347</td><td>NA</td><td>ALL                     </td><td>0.8 </td><td> 126.72</td><td>6.4 </td><td>1038.59</td><td>37.6</td><td>768.80</td><td>0.8 </td><td>1542.25</td><td>2.6</td><td>1278.87</td></tr>\n",
       "\t<tr><th scope=row>249</th><td>348</td><td>NA</td><td>OS                      </td><td>11.5</td><td>  50.96</td><td>3.2 </td><td> 437.50</td><td>3   </td><td>  0.00</td><td>0   </td><td>   0.00</td><td>1  </td><td>   0.00</td></tr>\n",
       "\t<tr><th scope=row>...</th><td>...</td><td>...</td><td>...</td><td>...</td><td>...</td><td>...</td><td>...</td><td>...</td><td>...</td><td>...</td><td>...</td><td>...</td><td>...</td></tr>\n",
       "\t<tr><th scope=row>309</th><td>408</td><td>NA</td><td>OS             </td><td>5.1 </td><td> 338.80</td><td>4.3</td><td>  0.00</td><td>5.4 </td><td>  69.16</td><td>4  </td><td> 58.46</td><td>3.5</td><td>159.80</td></tr>\n",
       "\t<tr><th scope=row>310</th><td>409</td><td>NA</td><td>Ewings         </td><td>2.9 </td><td> 156.78</td><td>1.8</td><td>338.13</td><td>0   </td><td> 198.09</td><td>0  </td><td>522.07</td><td>0  </td><td>  0.00</td></tr>\n",
       "\t<tr><th scope=row>311</th><td>410</td><td>NA</td><td>ALL            </td><td>1.6 </td><td>   0.00</td><td>0  </td><td>  0.00</td><td>0   </td><td> 179.34</td><td>0.6</td><td>411.72</td><td>0  </td><td>  0.00</td></tr>\n",
       "\t<tr><th scope=row>312</th><td>411</td><td>NA</td><td>HR ALL         </td><td>4.4 </td><td>   0.00</td><td>3.2</td><td>  0.00</td><td>17.9</td><td>  35.88</td><td>0  </td><td>  0.00</td><td>0  </td><td>  0.00</td></tr>\n",
       "\t<tr><th scope=row>313</th><td>412</td><td>NA</td><td>B cell lymphoma</td><td>6.5 </td><td>   0.00</td><td>0  </td><td>  0.00</td><td>0.9 </td><td>   0.00</td><td>1.4</td><td>  0.00</td><td>0.6</td><td>  0.00</td></tr>\n",
       "\t<tr><th scope=row>314</th><td>413</td><td>NA</td><td>AML            </td><td>4   </td><td>   0.00</td><td>3.2</td><td> 93.42</td><td>1.5 </td><td> 685.36</td><td>2.6</td><td>  0.00</td><td>0  </td><td>  0.00</td></tr>\n",
       "\t<tr><th scope=row>315</th><td>414</td><td>NA</td><td>Hepatoblastoma </td><td>0   </td><td>   0.00</td><td>0  </td><td>802.76</td><td>0.8 </td><td>  73.80</td><td>8.1</td><td>712.05</td><td>3.9</td><td>302.72</td></tr>\n",
       "\t<tr><th scope=row>316</th><td>415</td><td>NA</td><td>HD             </td><td>0   </td><td>   0.00</td><td>0  </td><td>234.32</td><td>1.3 </td><td> 389.60</td><td>0.6</td><td> 51.59</td><td>2  </td><td>  0.00</td></tr>\n",
       "\t<tr><th scope=row>317</th><td>416</td><td>NA</td><td>ALL            </td><td>0   </td><td>  45.00</td><td>0  </td><td> 47.40</td><td>0   </td><td>   0.00</td><td>0  </td><td>  0.00</td><td>0  </td><td>  0.00</td></tr>\n",
       "\t<tr><th scope=row>318</th><td>417</td><td>NA</td><td>ALL            </td><td>0   </td><td> 159.46</td><td>3.9</td><td> 80.18</td><td>6.2 </td><td>  52.00</td><td>0  </td><td>  0.00</td><td>0  </td><td>  0.00</td></tr>\n",
       "\t<tr><th scope=row>319</th><td>418</td><td>NA</td><td>NB             </td><td>0   </td><td>  18.48</td><td>1.4</td><td>  0.00</td><td>0.5 </td><td>   0.00</td><td>0.6</td><td>  0.00</td><td>1.2</td><td>    NA</td></tr>\n",
       "\t<tr><th scope=row>320</th><td>419</td><td>NA</td><td>OS             </td><td>0   </td><td> 465.51</td><td>8.8</td><td>473.60</td><td>0.6 </td><td>1690.20</td><td>1  </td><td>  0.00</td><td>0  </td><td>  0.00</td></tr>\n",
       "\t<tr><th scope=row>321</th><td>420</td><td>NA</td><td>ALL            </td><td>0.7 </td><td>1473.20</td><td>0.8</td><td>247.50</td><td>1.8 </td><td>   0.00</td><td>0  </td><td>  0.00</td><td>0  </td><td>  0.00</td></tr>\n",
       "\t<tr><th scope=row>322</th><td>421</td><td>NA</td><td>ALL            </td><td>18.3</td><td>   0.00</td><td>0.8</td><td>  0.00</td><td>24.8</td><td> 262.20</td><td>0  </td><td>  0.00</td><td>0  </td><td>  0.00</td></tr>\n",
       "\t<tr><th scope=row>323</th><td>422</td><td>NA</td><td>ALL            </td><td>0.6 </td><td>2136.39</td><td>0  </td><td>  0.00</td><td>0   </td><td>   0.00</td><td>0  </td><td>  0.00</td><td>0  </td><td>  0.00</td></tr>\n",
       "\t<tr><th scope=row>324</th><td>423</td><td>NA</td><td>ALL            </td><td>3.4 </td><td> 839.96</td><td>4.5</td><td>  0.00</td><td>13.9</td><td>   0.00</td><td>0  </td><td>  0.00</td><td>0  </td><td>  0.00</td></tr>\n",
       "\t<tr><th scope=row>325</th><td>424</td><td>NA</td><td>ALL            </td><td>0.9 </td><td>     NA</td><td>1.3</td><td>803.64</td><td>0   </td><td>   0.00</td><td>0  </td><td>  0.00</td><td>0  </td><td>  0.00</td></tr>\n",
       "\t<tr><th scope=row>326</th><td>425</td><td>NA</td><td>Wilms          </td><td>0   </td><td>2366.70</td><td>0  </td><td>  0.00</td><td>2.6 </td><td>   0.00</td><td>5.5</td><td>  0.00</td><td>0  </td><td>  0.00</td></tr>\n",
       "\t<tr><th scope=row>327</th><td>426</td><td>NA</td><td>RMS            </td><td>2.1 </td><td> 148.92</td><td>2.5</td><td>  0.00</td><td>0.4 </td><td>   0.00</td><td>0  </td><td>  0.00</td><td>0  </td><td>  0.00</td></tr>\n",
       "\t<tr><th scope=row>328</th><td>427</td><td>NA</td><td>RMS            </td><td>2.1 </td><td>1617.11</td><td>0  </td><td>  0.00</td><td>0   </td><td>   0.00</td><td>0  </td><td>  0.00</td><td>0  </td><td>  0.00</td></tr>\n",
       "\t<tr><th scope=row>329</th><td>428</td><td>NA</td><td>aLL            </td><td>0.9 </td><td> 823.68</td><td>0.9</td><td>  0.00</td><td>0   </td><td>   0.00</td><td>0  </td><td>  0.00</td><td>0  </td><td>  0.00</td></tr>\n",
       "\t<tr><th scope=row>330</th><td>429</td><td>NA</td><td>Wilms          </td><td>4   </td><td> 924.00</td><td>0  </td><td>  0.00</td><td>0   </td><td>   0.00</td><td>0  </td><td>  0.00</td><td>0  </td><td>  0.00</td></tr>\n",
       "\t<tr><th scope=row>331</th><td>430</td><td>NA</td><td>PMBCL          </td><td>0.9 </td><td>  43.00</td><td>0  </td><td>  0.00</td><td>0   </td><td>   0.00</td><td>0  </td><td>  0.00</td><td>0  </td><td>  0.00</td></tr>\n",
       "\t<tr><th scope=row>332</th><td>431</td><td>NA</td><td>RMS            </td><td>1.2 </td><td>   0.00</td><td>0  </td><td>  0.00</td><td>0   </td><td>   0.00</td><td>0  </td><td>  0.00</td><td>0  </td><td>  0.00</td></tr>\n",
       "\t<tr><th scope=row>333</th><td>432</td><td>NA</td><td>OS             </td><td>2.7 </td><td>   0.00</td><td>0  </td><td>  0.00</td><td>0   </td><td>   0.00</td><td>0  </td><td>  0.00</td><td>0  </td><td>  0.00</td></tr>\n",
       "\t<tr><th scope=row>334</th><td>433</td><td>NA</td><td>ALCL           </td><td>1.1 </td><td>   0.00</td><td>0  </td><td>  0.00</td><td>0   </td><td>   0.00</td><td>0  </td><td>  0.00</td><td>0  </td><td>  0.00</td></tr>\n",
       "\t<tr><th scope=row>335</th><td>434</td><td>NA</td><td>HD             </td><td>4.5 </td><td>   0.00</td><td>0  </td><td>  0.00</td><td>0   </td><td>   0.00</td><td>0  </td><td>  0.00</td><td>0  </td><td>  0.00</td></tr>\n",
       "\t<tr><th scope=row>336</th><td>435</td><td>NA</td><td>SML            </td><td>0   </td><td>   0.00</td><td>0  </td><td>  0.00</td><td>0   </td><td>   0.00</td><td>0  </td><td>  0.00</td><td>0  </td><td>  0.00</td></tr>\n",
       "\t<tr><th scope=row>337</th><td>436</td><td>NA</td><td>OS             </td><td>0   </td><td>   0.00</td><td>0  </td><td>  0.00</td><td>0   </td><td>   0.00</td><td>0  </td><td>  0.00</td><td>0  </td><td>  0.00</td></tr>\n",
       "\t<tr><th scope=row>338</th><td>437</td><td>NA</td><td>OS             </td><td>0   </td><td>   0.00</td><td>0  </td><td>  0.00</td><td>0   </td><td>   0.00</td><td>0  </td><td>  0.00</td><td>0  </td><td>  0.00</td></tr>\n",
       "</tbody>\n",
       "</table>\n"
      ],
      "text/latex": [
       "A data.frame: 119 x 13\n",
       "\\begin{tabular}{r|lllllllllllll}\n",
       "  &  ID\\# & Age &  & FOLD & ATC & FOLD1 & ATC1 & FOLD2 & ATC2 & FOLD3 & ATC3 & FOLD4 & ATC4\\\\\n",
       "  & <int> & <dbl> & <chr> & <chr> & <dbl> & <chr> & <dbl> & <chr> & <dbl> & <chr> & <dbl> & <chr> & <dbl>\\\\\n",
       "\\hline\n",
       "\t220 & 319 & NA & HR ALL                   & 1.4  &    0.00 & 7.9  &    0.00 & 1.8  &   0.00 & 1.5  &    0.00 & 1.2 &    0.00\\\\\n",
       "\t221 & 320 & NA & AML                      & 8.9  &    0.00 & 3.5  &    0.00 & 13.2 &   0.00 & x    &    0.00 & 0   &    0.00\\\\\n",
       "\t222 & 321 & NA & HD                       & 0    &    0.00 & 0    &    0.00 & 0    &   0.00 & 0    &    0.00 & 0   &    0.00\\\\\n",
       "\t223 & 322 & NA & DLBCL                    & 1.1  &    0.00 & 0.4  &    0.00 & 4.3  &   0.00 & 4.7  &    0.00 & 1   &    0.00\\\\\n",
       "\t224 & 323 & NA & HR ALL                   & 0    &  154.75 & 0    & 1397.28 & 0    & 786.24 & 0    &  563.68 & 0   &  979.50\\\\\n",
       "\t225 & 324 & NA & T-ALL                    & 0    &    0.00 & 0    &    0.00 & 0    &   0.00 & 0    &    0.00 & 0   &    0.00\\\\\n",
       "\t226 & 325 & NA & ERMS                     & 0    &      NA & 0    &  927.46 & 0    & 624.72 & 0    &  163.77 & 0   &    0.00\\\\\n",
       "\t227 & 326 & NA & SR ALL                   & 0    &   77.52 & 0    &  400.14 & 0    & 122.08 & 0    & 1242.85 & 0   &  972.90\\\\\n",
       "\t228 & 327 & NA & Hepatoblastoma           & 6.8  &    0.00 & 13.1 &    0.00 & 26.3 &   0.00 & 97.8 &    0.00 & 6.9 &    0.00\\\\\n",
       "\t229 & 328 & NA & SR ALL                   & 0    &  155.22 & 0    &  829.44 & 0    & 997.20 & 0    &  130.82 & 0   &   91.16\\\\\n",
       "\t230 & 329 & NA & HR ALL                   & X    &      NA & 22.3 &    0.00 & 74.6 &   0.00 & 1.2  &    0.00 & 0   &    0.00\\\\\n",
       "\t231 & 330 & NA & OS                       & 0.9  &    0.00 & 1.9  &    0.00 & 1.5  &   0.00 & 4.1  &    0.00 & 6.2 &    0.00\\\\\n",
       "\t232 & 331 & NA & SR ALL                   & 0    &    0.00 & 0    &    0.00 & 0    &   0.00 & 0    &    0.00 & 0   &    0.00\\\\\n",
       "\t233 & 332 & NA & ERMS                     & 8.2  &    0.00 & x    &    0.00 & 2    &   0.00 & 0.4  &    0.00 & 1.3 &    0.00\\\\\n",
       "\t234 & 333 & NA & HD                       & 0    &    0.00 & 0    &    0.00 & 0    &   0.00 & 0    &    0.00 & 0   &    0.00\\\\\n",
       "\t235 & 334 & NA & HR ALL                   & 0    &  136.08 & 0    &  328.86 & 0    & 299.44 & 0    &   39.20 & 0   &      NA\\\\\n",
       "\t236 & 335 & NA & Hepatoblastoma           & 0    &    0.00 & 0    &    0.00 & 0    &   0.00 & 0    &    0.00 & 0   &    0.00\\\\\n",
       "\t237 & 336 & NA & ALL                      & 0    &    0.00 & 0    &    0.00 & 0    &   0.00 & 0    &    0.00 & 0   &    0.00\\\\\n",
       "\t238 & 337 & NA & B lymphoblastic lymphoma & 0    &    0.00 & 0    &    0.00 & 0    &   0.00 & 0    &    0.00 & 0   &    0.00\\\\\n",
       "\t239 & 338 & NA & AML                      & 0.8  &  942.34 & 5.1  &  644.68 & 16.8 & 329.29 & 1.9  &    0.00 & 0   &    0.00\\\\\n",
       "\t240 & 339 & NA & ALL                      & 0    &  173.25 & 0    &  111.02 & 0    & 376.20 & 0    &  447.95 & 0   &  421.94\\\\\n",
       "\t241 & 340 & NA & ALL                      & 0    &    0.00 & 0    &    0.00 & 0    &   0.00 & 0    &    0.00 & 0   &    0.00\\\\\n",
       "\t242 & 341 & NA & CML                      & 0    &    0.00 & 0    &    0.00 & 0    &   0.00 & 0    &      NA & 0   &    0.00\\\\\n",
       "\t243 & 342 & NA & AML                      & 2.4  & 9927.72 & 2.8  &    0.00 & 15   &   0.00 & 0    &    0.00 & 0   &    0.00\\\\\n",
       "\t244 & 343 & NA & Ewings                   & 1    &  219.30 & 0.3  &  459.04 & 0.6  & 370.30 & 1.5  &  536.63 & 2.1 &  371.20\\\\\n",
       "\t245 & 344 & NA & Burkitts                 & 0    &  247.80 & 0    &  829.08 & 0    &  80.04 & 0    &    0.00 & 0   &  134.32\\\\\n",
       "\t246 & 345 & NA & ALL                      & 0    &  287.00 & 0    & 1598.08 & 0    &   0.00 & 0    &    0.00 & 0   &    0.00\\\\\n",
       "\t247 & 346 & NA & NB                       & 0.8  &  331.70 & 0    &    0.00 & 0    &   0.00 & 0    &    0.00 & 0   &    0.00\\\\\n",
       "\t248 & 347 & NA & ALL                      & 0.8  &  126.72 & 6.4  & 1038.59 & 37.6 & 768.80 & 0.8  & 1542.25 & 2.6 & 1278.87\\\\\n",
       "\t249 & 348 & NA & OS                       & 11.5 &   50.96 & 3.2  &  437.50 & 3    &   0.00 & 0    &    0.00 & 1   &    0.00\\\\\n",
       "\t... & ... & ... & ... & ... & ... & ... & ... & ... & ... & ... & ... & ... & ...\\\\\n",
       "\t309 & 408 & NA & OS              & 5.1  &  338.80 & 4.3 &   0.00 & 5.4  &   69.16 & 4   &  58.46 & 3.5 & 159.80\\\\\n",
       "\t310 & 409 & NA & Ewings          & 2.9  &  156.78 & 1.8 & 338.13 & 0    &  198.09 & 0   & 522.07 & 0   &   0.00\\\\\n",
       "\t311 & 410 & NA & ALL             & 1.6  &    0.00 & 0   &   0.00 & 0    &  179.34 & 0.6 & 411.72 & 0   &   0.00\\\\\n",
       "\t312 & 411 & NA & HR ALL          & 4.4  &    0.00 & 3.2 &   0.00 & 17.9 &   35.88 & 0   &   0.00 & 0   &   0.00\\\\\n",
       "\t313 & 412 & NA & B cell lymphoma & 6.5  &    0.00 & 0   &   0.00 & 0.9  &    0.00 & 1.4 &   0.00 & 0.6 &   0.00\\\\\n",
       "\t314 & 413 & NA & AML             & 4    &    0.00 & 3.2 &  93.42 & 1.5  &  685.36 & 2.6 &   0.00 & 0   &   0.00\\\\\n",
       "\t315 & 414 & NA & Hepatoblastoma  & 0    &    0.00 & 0   & 802.76 & 0.8  &   73.80 & 8.1 & 712.05 & 3.9 & 302.72\\\\\n",
       "\t316 & 415 & NA & HD              & 0    &    0.00 & 0   & 234.32 & 1.3  &  389.60 & 0.6 &  51.59 & 2   &   0.00\\\\\n",
       "\t317 & 416 & NA & ALL             & 0    &   45.00 & 0   &  47.40 & 0    &    0.00 & 0   &   0.00 & 0   &   0.00\\\\\n",
       "\t318 & 417 & NA & ALL             & 0    &  159.46 & 3.9 &  80.18 & 6.2  &   52.00 & 0   &   0.00 & 0   &   0.00\\\\\n",
       "\t319 & 418 & NA & NB              & 0    &   18.48 & 1.4 &   0.00 & 0.5  &    0.00 & 0.6 &   0.00 & 1.2 &     NA\\\\\n",
       "\t320 & 419 & NA & OS              & 0    &  465.51 & 8.8 & 473.60 & 0.6  & 1690.20 & 1   &   0.00 & 0   &   0.00\\\\\n",
       "\t321 & 420 & NA & ALL             & 0.7  & 1473.20 & 0.8 & 247.50 & 1.8  &    0.00 & 0   &   0.00 & 0   &   0.00\\\\\n",
       "\t322 & 421 & NA & ALL             & 18.3 &    0.00 & 0.8 &   0.00 & 24.8 &  262.20 & 0   &   0.00 & 0   &   0.00\\\\\n",
       "\t323 & 422 & NA & ALL             & 0.6  & 2136.39 & 0   &   0.00 & 0    &    0.00 & 0   &   0.00 & 0   &   0.00\\\\\n",
       "\t324 & 423 & NA & ALL             & 3.4  &  839.96 & 4.5 &   0.00 & 13.9 &    0.00 & 0   &   0.00 & 0   &   0.00\\\\\n",
       "\t325 & 424 & NA & ALL             & 0.9  &      NA & 1.3 & 803.64 & 0    &    0.00 & 0   &   0.00 & 0   &   0.00\\\\\n",
       "\t326 & 425 & NA & Wilms           & 0    & 2366.70 & 0   &   0.00 & 2.6  &    0.00 & 5.5 &   0.00 & 0   &   0.00\\\\\n",
       "\t327 & 426 & NA & RMS             & 2.1  &  148.92 & 2.5 &   0.00 & 0.4  &    0.00 & 0   &   0.00 & 0   &   0.00\\\\\n",
       "\t328 & 427 & NA & RMS             & 2.1  & 1617.11 & 0   &   0.00 & 0    &    0.00 & 0   &   0.00 & 0   &   0.00\\\\\n",
       "\t329 & 428 & NA & aLL             & 0.9  &  823.68 & 0.9 &   0.00 & 0    &    0.00 & 0   &   0.00 & 0   &   0.00\\\\\n",
       "\t330 & 429 & NA & Wilms           & 4    &  924.00 & 0   &   0.00 & 0    &    0.00 & 0   &   0.00 & 0   &   0.00\\\\\n",
       "\t331 & 430 & NA & PMBCL           & 0.9  &   43.00 & 0   &   0.00 & 0    &    0.00 & 0   &   0.00 & 0   &   0.00\\\\\n",
       "\t332 & 431 & NA & RMS             & 1.2  &    0.00 & 0   &   0.00 & 0    &    0.00 & 0   &   0.00 & 0   &   0.00\\\\\n",
       "\t333 & 432 & NA & OS              & 2.7  &    0.00 & 0   &   0.00 & 0    &    0.00 & 0   &   0.00 & 0   &   0.00\\\\\n",
       "\t334 & 433 & NA & ALCL            & 1.1  &    0.00 & 0   &   0.00 & 0    &    0.00 & 0   &   0.00 & 0   &   0.00\\\\\n",
       "\t335 & 434 & NA & HD              & 4.5  &    0.00 & 0   &   0.00 & 0    &    0.00 & 0   &   0.00 & 0   &   0.00\\\\\n",
       "\t336 & 435 & NA & SML             & 0    &    0.00 & 0   &   0.00 & 0    &    0.00 & 0   &   0.00 & 0   &   0.00\\\\\n",
       "\t337 & 436 & NA & OS              & 0    &    0.00 & 0   &   0.00 & 0    &    0.00 & 0   &   0.00 & 0   &   0.00\\\\\n",
       "\t338 & 437 & NA & OS              & 0    &    0.00 & 0   &   0.00 & 0    &    0.00 & 0   &   0.00 & 0   &   0.00\\\\\n",
       "\\end{tabular}\n"
      ],
      "text/markdown": [
       "\n",
       "A data.frame: 119 x 13\n",
       "\n",
       "| <!--/--> |  ID# &lt;int&gt; | Age &lt;dbl&gt; | <!----> &lt;chr&gt; | FOLD &lt;chr&gt; | ATC &lt;dbl&gt; | FOLD1 &lt;chr&gt; | ATC1 &lt;dbl&gt; | FOLD2 &lt;chr&gt; | ATC2 &lt;dbl&gt; | FOLD3 &lt;chr&gt; | ATC3 &lt;dbl&gt; | FOLD4 &lt;chr&gt; | ATC4 &lt;dbl&gt; |\n",
       "|---|---|---|---|---|---|---|---|---|---|---|---|---|---|\n",
       "| 220 | 319 | NA | HR ALL                   | 1.4  |    0.00 | 7.9  |    0.00 | 1.8  |   0.00 | 1.5  |    0.00 | 1.2 |    0.00 |\n",
       "| 221 | 320 | NA | AML                      | 8.9  |    0.00 | 3.5  |    0.00 | 13.2 |   0.00 | x    |    0.00 | 0   |    0.00 |\n",
       "| 222 | 321 | NA | HD                       | 0    |    0.00 | 0    |    0.00 | 0    |   0.00 | 0    |    0.00 | 0   |    0.00 |\n",
       "| 223 | 322 | NA | DLBCL                    | 1.1  |    0.00 | 0.4  |    0.00 | 4.3  |   0.00 | 4.7  |    0.00 | 1   |    0.00 |\n",
       "| 224 | 323 | NA | HR ALL                   | 0    |  154.75 | 0    | 1397.28 | 0    | 786.24 | 0    |  563.68 | 0   |  979.50 |\n",
       "| 225 | 324 | NA | T-ALL                    | 0    |    0.00 | 0    |    0.00 | 0    |   0.00 | 0    |    0.00 | 0   |    0.00 |\n",
       "| 226 | 325 | NA | ERMS                     | 0    |      NA | 0    |  927.46 | 0    | 624.72 | 0    |  163.77 | 0   |    0.00 |\n",
       "| 227 | 326 | NA | SR ALL                   | 0    |   77.52 | 0    |  400.14 | 0    | 122.08 | 0    | 1242.85 | 0   |  972.90 |\n",
       "| 228 | 327 | NA | Hepatoblastoma           | 6.8  |    0.00 | 13.1 |    0.00 | 26.3 |   0.00 | 97.8 |    0.00 | 6.9 |    0.00 |\n",
       "| 229 | 328 | NA | SR ALL                   | 0    |  155.22 | 0    |  829.44 | 0    | 997.20 | 0    |  130.82 | 0   |   91.16 |\n",
       "| 230 | 329 | NA | HR ALL                   | X    |      NA | 22.3 |    0.00 | 74.6 |   0.00 | 1.2  |    0.00 | 0   |    0.00 |\n",
       "| 231 | 330 | NA | OS                       | 0.9  |    0.00 | 1.9  |    0.00 | 1.5  |   0.00 | 4.1  |    0.00 | 6.2 |    0.00 |\n",
       "| 232 | 331 | NA | SR ALL                   | 0    |    0.00 | 0    |    0.00 | 0    |   0.00 | 0    |    0.00 | 0   |    0.00 |\n",
       "| 233 | 332 | NA | ERMS                     | 8.2  |    0.00 | x    |    0.00 | 2    |   0.00 | 0.4  |    0.00 | 1.3 |    0.00 |\n",
       "| 234 | 333 | NA | HD                       | 0    |    0.00 | 0    |    0.00 | 0    |   0.00 | 0    |    0.00 | 0   |    0.00 |\n",
       "| 235 | 334 | NA | HR ALL                   | 0    |  136.08 | 0    |  328.86 | 0    | 299.44 | 0    |   39.20 | 0   |      NA |\n",
       "| 236 | 335 | NA | Hepatoblastoma           | 0    |    0.00 | 0    |    0.00 | 0    |   0.00 | 0    |    0.00 | 0   |    0.00 |\n",
       "| 237 | 336 | NA | ALL                      | 0    |    0.00 | 0    |    0.00 | 0    |   0.00 | 0    |    0.00 | 0   |    0.00 |\n",
       "| 238 | 337 | NA | B lymphoblastic lymphoma | 0    |    0.00 | 0    |    0.00 | 0    |   0.00 | 0    |    0.00 | 0   |    0.00 |\n",
       "| 239 | 338 | NA | AML                      | 0.8  |  942.34 | 5.1  |  644.68 | 16.8 | 329.29 | 1.9  |    0.00 | 0   |    0.00 |\n",
       "| 240 | 339 | NA | ALL                      | 0    |  173.25 | 0    |  111.02 | 0    | 376.20 | 0    |  447.95 | 0   |  421.94 |\n",
       "| 241 | 340 | NA | ALL                      | 0    |    0.00 | 0    |    0.00 | 0    |   0.00 | 0    |    0.00 | 0   |    0.00 |\n",
       "| 242 | 341 | NA | CML                      | 0    |    0.00 | 0    |    0.00 | 0    |   0.00 | 0    |      NA | 0   |    0.00 |\n",
       "| 243 | 342 | NA | AML                      | 2.4  | 9927.72 | 2.8  |    0.00 | 15   |   0.00 | 0    |    0.00 | 0   |    0.00 |\n",
       "| 244 | 343 | NA | Ewings                   | 1    |  219.30 | 0.3  |  459.04 | 0.6  | 370.30 | 1.5  |  536.63 | 2.1 |  371.20 |\n",
       "| 245 | 344 | NA | Burkitts                 | 0    |  247.80 | 0    |  829.08 | 0    |  80.04 | 0    |    0.00 | 0   |  134.32 |\n",
       "| 246 | 345 | NA | ALL                      | 0    |  287.00 | 0    | 1598.08 | 0    |   0.00 | 0    |    0.00 | 0   |    0.00 |\n",
       "| 247 | 346 | NA | NB                       | 0.8  |  331.70 | 0    |    0.00 | 0    |   0.00 | 0    |    0.00 | 0   |    0.00 |\n",
       "| 248 | 347 | NA | ALL                      | 0.8  |  126.72 | 6.4  | 1038.59 | 37.6 | 768.80 | 0.8  | 1542.25 | 2.6 | 1278.87 |\n",
       "| 249 | 348 | NA | OS                       | 11.5 |   50.96 | 3.2  |  437.50 | 3    |   0.00 | 0    |    0.00 | 1   |    0.00 |\n",
       "| ... | ... | ... | ... | ... | ... | ... | ... | ... | ... | ... | ... | ... | ... |\n",
       "| 309 | 408 | NA | OS              | 5.1  |  338.80 | 4.3 |   0.00 | 5.4  |   69.16 | 4   |  58.46 | 3.5 | 159.80 |\n",
       "| 310 | 409 | NA | Ewings          | 2.9  |  156.78 | 1.8 | 338.13 | 0    |  198.09 | 0   | 522.07 | 0   |   0.00 |\n",
       "| 311 | 410 | NA | ALL             | 1.6  |    0.00 | 0   |   0.00 | 0    |  179.34 | 0.6 | 411.72 | 0   |   0.00 |\n",
       "| 312 | 411 | NA | HR ALL          | 4.4  |    0.00 | 3.2 |   0.00 | 17.9 |   35.88 | 0   |   0.00 | 0   |   0.00 |\n",
       "| 313 | 412 | NA | B cell lymphoma | 6.5  |    0.00 | 0   |   0.00 | 0.9  |    0.00 | 1.4 |   0.00 | 0.6 |   0.00 |\n",
       "| 314 | 413 | NA | AML             | 4    |    0.00 | 3.2 |  93.42 | 1.5  |  685.36 | 2.6 |   0.00 | 0   |   0.00 |\n",
       "| 315 | 414 | NA | Hepatoblastoma  | 0    |    0.00 | 0   | 802.76 | 0.8  |   73.80 | 8.1 | 712.05 | 3.9 | 302.72 |\n",
       "| 316 | 415 | NA | HD              | 0    |    0.00 | 0   | 234.32 | 1.3  |  389.60 | 0.6 |  51.59 | 2   |   0.00 |\n",
       "| 317 | 416 | NA | ALL             | 0    |   45.00 | 0   |  47.40 | 0    |    0.00 | 0   |   0.00 | 0   |   0.00 |\n",
       "| 318 | 417 | NA | ALL             | 0    |  159.46 | 3.9 |  80.18 | 6.2  |   52.00 | 0   |   0.00 | 0   |   0.00 |\n",
       "| 319 | 418 | NA | NB              | 0    |   18.48 | 1.4 |   0.00 | 0.5  |    0.00 | 0.6 |   0.00 | 1.2 |     NA |\n",
       "| 320 | 419 | NA | OS              | 0    |  465.51 | 8.8 | 473.60 | 0.6  | 1690.20 | 1   |   0.00 | 0   |   0.00 |\n",
       "| 321 | 420 | NA | ALL             | 0.7  | 1473.20 | 0.8 | 247.50 | 1.8  |    0.00 | 0   |   0.00 | 0   |   0.00 |\n",
       "| 322 | 421 | NA | ALL             | 18.3 |    0.00 | 0.8 |   0.00 | 24.8 |  262.20 | 0   |   0.00 | 0   |   0.00 |\n",
       "| 323 | 422 | NA | ALL             | 0.6  | 2136.39 | 0   |   0.00 | 0    |    0.00 | 0   |   0.00 | 0   |   0.00 |\n",
       "| 324 | 423 | NA | ALL             | 3.4  |  839.96 | 4.5 |   0.00 | 13.9 |    0.00 | 0   |   0.00 | 0   |   0.00 |\n",
       "| 325 | 424 | NA | ALL             | 0.9  |      NA | 1.3 | 803.64 | 0    |    0.00 | 0   |   0.00 | 0   |   0.00 |\n",
       "| 326 | 425 | NA | Wilms           | 0    | 2366.70 | 0   |   0.00 | 2.6  |    0.00 | 5.5 |   0.00 | 0   |   0.00 |\n",
       "| 327 | 426 | NA | RMS             | 2.1  |  148.92 | 2.5 |   0.00 | 0.4  |    0.00 | 0   |   0.00 | 0   |   0.00 |\n",
       "| 328 | 427 | NA | RMS             | 2.1  | 1617.11 | 0   |   0.00 | 0    |    0.00 | 0   |   0.00 | 0   |   0.00 |\n",
       "| 329 | 428 | NA | aLL             | 0.9  |  823.68 | 0.9 |   0.00 | 0    |    0.00 | 0   |   0.00 | 0   |   0.00 |\n",
       "| 330 | 429 | NA | Wilms           | 4    |  924.00 | 0   |   0.00 | 0    |    0.00 | 0   |   0.00 | 0   |   0.00 |\n",
       "| 331 | 430 | NA | PMBCL           | 0.9  |   43.00 | 0   |   0.00 | 0    |    0.00 | 0   |   0.00 | 0   |   0.00 |\n",
       "| 332 | 431 | NA | RMS             | 1.2  |    0.00 | 0   |   0.00 | 0    |    0.00 | 0   |   0.00 | 0   |   0.00 |\n",
       "| 333 | 432 | NA | OS              | 2.7  |    0.00 | 0   |   0.00 | 0    |    0.00 | 0   |   0.00 | 0   |   0.00 |\n",
       "| 334 | 433 | NA | ALCL            | 1.1  |    0.00 | 0   |   0.00 | 0    |    0.00 | 0   |   0.00 | 0   |   0.00 |\n",
       "| 335 | 434 | NA | HD              | 4.5  |    0.00 | 0   |   0.00 | 0    |    0.00 | 0   |   0.00 | 0   |   0.00 |\n",
       "| 336 | 435 | NA | SML             | 0    |    0.00 | 0   |   0.00 | 0    |    0.00 | 0   |   0.00 | 0   |   0.00 |\n",
       "| 337 | 436 | NA | OS              | 0    |    0.00 | 0   |   0.00 | 0    |    0.00 | 0   |   0.00 | 0   |   0.00 |\n",
       "| 338 | 437 | NA | OS              | 0    |    0.00 | 0   |   0.00 | 0    |    0.00 | 0   |   0.00 | 0   |   0.00 |\n",
       "\n"
      ],
      "text/plain": [
       "     ID# Age                          FOLD ATC     FOLD1 ATC1    FOLD2 ATC2   \n",
       "220 319  NA  HR ALL                   1.4     0.00 7.9      0.00 1.8     0.00 \n",
       "221 320  NA  AML                      8.9     0.00 3.5      0.00 13.2    0.00 \n",
       "222 321  NA  HD                       0       0.00 0        0.00 0       0.00 \n",
       "223 322  NA  DLBCL                    1.1     0.00 0.4      0.00 4.3     0.00 \n",
       "224 323  NA  HR ALL                   0     154.75 0     1397.28 0     786.24 \n",
       "225 324  NA  T-ALL                    0       0.00 0        0.00 0       0.00 \n",
       "226 325  NA  ERMS                     0         NA 0      927.46 0     624.72 \n",
       "227 326  NA  SR ALL                   0      77.52 0      400.14 0     122.08 \n",
       "228 327  NA  Hepatoblastoma           6.8     0.00 13.1     0.00 26.3    0.00 \n",
       "229 328  NA  SR ALL                   0     155.22 0      829.44 0     997.20 \n",
       "230 329  NA  HR ALL                   X         NA 22.3     0.00 74.6    0.00 \n",
       "231 330  NA  OS                       0.9     0.00 1.9      0.00 1.5     0.00 \n",
       "232 331  NA  SR ALL                   0       0.00 0        0.00 0       0.00 \n",
       "233 332  NA  ERMS                     8.2     0.00 x        0.00 2       0.00 \n",
       "234 333  NA  HD                       0       0.00 0        0.00 0       0.00 \n",
       "235 334  NA  HR ALL                   0     136.08 0      328.86 0     299.44 \n",
       "236 335  NA  Hepatoblastoma           0       0.00 0        0.00 0       0.00 \n",
       "237 336  NA  ALL                      0       0.00 0        0.00 0       0.00 \n",
       "238 337  NA  B lymphoblastic lymphoma 0       0.00 0        0.00 0       0.00 \n",
       "239 338  NA  AML                      0.8   942.34 5.1    644.68 16.8  329.29 \n",
       "240 339  NA  ALL                      0     173.25 0      111.02 0     376.20 \n",
       "241 340  NA  ALL                      0       0.00 0        0.00 0       0.00 \n",
       "242 341  NA  CML                      0       0.00 0        0.00 0       0.00 \n",
       "243 342  NA  AML                      2.4  9927.72 2.8      0.00 15      0.00 \n",
       "244 343  NA  Ewings                   1     219.30 0.3    459.04 0.6   370.30 \n",
       "245 344  NA  Burkitts                 0     247.80 0      829.08 0      80.04 \n",
       "246 345  NA  ALL                      0     287.00 0     1598.08 0       0.00 \n",
       "247 346  NA  NB                       0.8   331.70 0        0.00 0       0.00 \n",
       "248 347  NA  ALL                      0.8   126.72 6.4   1038.59 37.6  768.80 \n",
       "249 348  NA  OS                       11.5   50.96 3.2    437.50 3       0.00 \n",
       "... ...  ... ...                      ...  ...     ...   ...     ...   ...    \n",
       "309 408  NA  OS                       5.1   338.80 4.3     0.00  5.4     69.16\n",
       "310 409  NA  Ewings                   2.9   156.78 1.8   338.13  0      198.09\n",
       "311 410  NA  ALL                      1.6     0.00 0       0.00  0      179.34\n",
       "312 411  NA  HR ALL                   4.4     0.00 3.2     0.00  17.9    35.88\n",
       "313 412  NA  B cell lymphoma          6.5     0.00 0       0.00  0.9      0.00\n",
       "314 413  NA  AML                      4       0.00 3.2    93.42  1.5    685.36\n",
       "315 414  NA  Hepatoblastoma           0       0.00 0     802.76  0.8     73.80\n",
       "316 415  NA  HD                       0       0.00 0     234.32  1.3    389.60\n",
       "317 416  NA  ALL                      0      45.00 0      47.40  0        0.00\n",
       "318 417  NA  ALL                      0     159.46 3.9    80.18  6.2     52.00\n",
       "319 418  NA  NB                       0      18.48 1.4     0.00  0.5      0.00\n",
       "320 419  NA  OS                       0     465.51 8.8   473.60  0.6   1690.20\n",
       "321 420  NA  ALL                      0.7  1473.20 0.8   247.50  1.8      0.00\n",
       "322 421  NA  ALL                      18.3    0.00 0.8     0.00  24.8   262.20\n",
       "323 422  NA  ALL                      0.6  2136.39 0       0.00  0        0.00\n",
       "324 423  NA  ALL                      3.4   839.96 4.5     0.00  13.9     0.00\n",
       "325 424  NA  ALL                      0.9       NA 1.3   803.64  0        0.00\n",
       "326 425  NA  Wilms                    0    2366.70 0       0.00  2.6      0.00\n",
       "327 426  NA  RMS                      2.1   148.92 2.5     0.00  0.4      0.00\n",
       "328 427  NA  RMS                      2.1  1617.11 0       0.00  0        0.00\n",
       "329 428  NA  aLL                      0.9   823.68 0.9     0.00  0        0.00\n",
       "330 429  NA  Wilms                    4     924.00 0       0.00  0        0.00\n",
       "331 430  NA  PMBCL                    0.9    43.00 0       0.00  0        0.00\n",
       "332 431  NA  RMS                      1.2     0.00 0       0.00  0        0.00\n",
       "333 432  NA  OS                       2.7     0.00 0       0.00  0        0.00\n",
       "334 433  NA  ALCL                     1.1     0.00 0       0.00  0        0.00\n",
       "335 434  NA  HD                       4.5     0.00 0       0.00  0        0.00\n",
       "336 435  NA  SML                      0       0.00 0       0.00  0        0.00\n",
       "337 436  NA  OS                       0       0.00 0       0.00  0        0.00\n",
       "338 437  NA  OS                       0       0.00 0       0.00  0        0.00\n",
       "    FOLD3 ATC3    FOLD4 ATC4   \n",
       "220 1.5      0.00 1.2      0.00\n",
       "221 x        0.00 0        0.00\n",
       "222 0        0.00 0        0.00\n",
       "223 4.7      0.00 1        0.00\n",
       "224 0      563.68 0      979.50\n",
       "225 0        0.00 0        0.00\n",
       "226 0      163.77 0        0.00\n",
       "227 0     1242.85 0      972.90\n",
       "228 97.8     0.00 6.9      0.00\n",
       "229 0      130.82 0       91.16\n",
       "230 1.2      0.00 0        0.00\n",
       "231 4.1      0.00 6.2      0.00\n",
       "232 0        0.00 0        0.00\n",
       "233 0.4      0.00 1.3      0.00\n",
       "234 0        0.00 0        0.00\n",
       "235 0       39.20 0          NA\n",
       "236 0        0.00 0        0.00\n",
       "237 0        0.00 0        0.00\n",
       "238 0        0.00 0        0.00\n",
       "239 1.9      0.00 0        0.00\n",
       "240 0      447.95 0      421.94\n",
       "241 0        0.00 0        0.00\n",
       "242 0          NA 0        0.00\n",
       "243 0        0.00 0        0.00\n",
       "244 1.5    536.63 2.1    371.20\n",
       "245 0        0.00 0      134.32\n",
       "246 0        0.00 0        0.00\n",
       "247 0        0.00 0        0.00\n",
       "248 0.8   1542.25 2.6   1278.87\n",
       "249 0        0.00 1        0.00\n",
       "... ...   ...     ...   ...    \n",
       "309 4      58.46  3.5   159.80 \n",
       "310 0     522.07  0       0.00 \n",
       "311 0.6   411.72  0       0.00 \n",
       "312 0       0.00  0       0.00 \n",
       "313 1.4     0.00  0.6     0.00 \n",
       "314 2.6     0.00  0       0.00 \n",
       "315 8.1   712.05  3.9   302.72 \n",
       "316 0.6    51.59  2       0.00 \n",
       "317 0       0.00  0       0.00 \n",
       "318 0       0.00  0       0.00 \n",
       "319 0.6     0.00  1.2       NA \n",
       "320 1       0.00  0       0.00 \n",
       "321 0       0.00  0       0.00 \n",
       "322 0       0.00  0       0.00 \n",
       "323 0       0.00  0       0.00 \n",
       "324 0       0.00  0       0.00 \n",
       "325 0       0.00  0       0.00 \n",
       "326 5.5     0.00  0       0.00 \n",
       "327 0       0.00  0       0.00 \n",
       "328 0       0.00  0       0.00 \n",
       "329 0       0.00  0       0.00 \n",
       "330 0       0.00  0       0.00 \n",
       "331 0       0.00  0       0.00 \n",
       "332 0       0.00  0       0.00 \n",
       "333 0       0.00  0       0.00 \n",
       "334 0       0.00  0       0.00 \n",
       "335 0       0.00  0       0.00 \n",
       "336 0       0.00  0       0.00 \n",
       "337 0       0.00  0       0.00 \n",
       "338 0       0.00  0       0.00 "
      ]
     },
     "metadata": {},
     "output_type": "display_data"
    }
   ],
   "source": [
    "(ATCs[220:338,])"
   ]
  },
  {
   "attachments": {},
   "cell_type": "markdown",
   "metadata": {},
   "source": [
    "Subset to include patients 319 to 437"
   ]
  },
  {
   "cell_type": "code",
   "execution_count": 15,
   "metadata": {
    "scrolled": true,
    "vscode": {
     "languageId": "r"
    }
   },
   "outputs": [],
   "source": [
    "ATC_subset <- ATCs[220:338,]"
   ]
  },
  {
   "cell_type": "code",
   "execution_count": 16,
   "metadata": {
    "vscode": {
     "languageId": "r"
    }
   },
   "outputs": [],
   "source": [
    "ATCssubset1 <- ATC_subset[,c(\"FOLD\", \"ATC\")]\n",
    "ATCssubset2 <- ATC_subset[,c(\"FOLD1\", \"ATC1\")]\n",
    "ATCssubset3 <- ATC_subset[,c(\"FOLD2\", \"ATC2\")]\n",
    "ATCssubset4 <- ATC_subset[,c(\"FOLD3\", \"ATC3\")]\n",
    "ATCssubset5 <- ATC_subset[,c(\"FOLD4\", \"ATC4\")]"
   ]
  },
  {
   "cell_type": "code",
   "execution_count": 17,
   "metadata": {
    "vscode": {
     "languageId": "r"
    }
   },
   "outputs": [
    {
     "data": {
      "text/html": [
       "<table class=\"dataframe\">\n",
       "<caption>A data.frame: 6 x 2</caption>\n",
       "<thead>\n",
       "\t<tr><th></th><th scope=col>FOLD4</th><th scope=col>ATC4</th></tr>\n",
       "\t<tr><th></th><th scope=col>&lt;chr&gt;</th><th scope=col>&lt;dbl&gt;</th></tr>\n",
       "</thead>\n",
       "<tbody>\n",
       "\t<tr><th scope=row>220</th><td>1.2</td><td>  0.0</td></tr>\n",
       "\t<tr><th scope=row>221</th><td>0  </td><td>  0.0</td></tr>\n",
       "\t<tr><th scope=row>222</th><td>0  </td><td>  0.0</td></tr>\n",
       "\t<tr><th scope=row>223</th><td>1  </td><td>  0.0</td></tr>\n",
       "\t<tr><th scope=row>224</th><td>0  </td><td>979.5</td></tr>\n",
       "\t<tr><th scope=row>225</th><td>0  </td><td>  0.0</td></tr>\n",
       "</tbody>\n",
       "</table>\n"
      ],
      "text/latex": [
       "A data.frame: 6 x 2\n",
       "\\begin{tabular}{r|ll}\n",
       "  & FOLD4 & ATC4\\\\\n",
       "  & <chr> & <dbl>\\\\\n",
       "\\hline\n",
       "\t220 & 1.2 &   0.0\\\\\n",
       "\t221 & 0   &   0.0\\\\\n",
       "\t222 & 0   &   0.0\\\\\n",
       "\t223 & 1   &   0.0\\\\\n",
       "\t224 & 0   & 979.5\\\\\n",
       "\t225 & 0   &   0.0\\\\\n",
       "\\end{tabular}\n"
      ],
      "text/markdown": [
       "\n",
       "A data.frame: 6 x 2\n",
       "\n",
       "| <!--/--> | FOLD4 &lt;chr&gt; | ATC4 &lt;dbl&gt; |\n",
       "|---|---|---|\n",
       "| 220 | 1.2 |   0.0 |\n",
       "| 221 | 0   |   0.0 |\n",
       "| 222 | 0   |   0.0 |\n",
       "| 223 | 1   |   0.0 |\n",
       "| 224 | 0   | 979.5 |\n",
       "| 225 | 0   |   0.0 |\n",
       "\n"
      ],
      "text/plain": [
       "    FOLD4 ATC4 \n",
       "220 1.2     0.0\n",
       "221 0       0.0\n",
       "222 0       0.0\n",
       "223 1       0.0\n",
       "224 0     979.5\n",
       "225 0       0.0"
      ]
     },
     "metadata": {},
     "output_type": "display_data"
    }
   ],
   "source": [
    "head(ATCssubset5)"
   ]
  },
  {
   "cell_type": "code",
   "execution_count": 18,
   "metadata": {
    "vscode": {
     "languageId": "r"
    }
   },
   "outputs": [],
   "source": [
    "ATCssubset1 <- cbind(ATC_subset$` ID#`, ATCssubset1)\n",
    "ATCssubset2 <- cbind(ATC_subset$` ID#`, ATCssubset2)\n",
    "ATCssubset3 <- cbind(ATC_subset$` ID#`, ATCssubset3)\n",
    "ATCssubset4 <- cbind(ATC_subset$` ID#`, ATCssubset4)\n",
    "ATCssubset5 <- cbind(ATC_subset$` ID#`, ATCssubset5)"
   ]
  },
  {
   "cell_type": "code",
   "execution_count": 19,
   "metadata": {
    "vscode": {
     "languageId": "r"
    }
   },
   "outputs": [],
   "source": [
    "colnames(ATCssubset1) <- c(\"Patient\", \"FOLD\", \"ATC\")\n",
    "colnames(ATCssubset2) <- c(\"Patient\", \"FOLD\", \"ATC\")\n",
    "colnames(ATCssubset3) <- c(\"Patient\", \"FOLD\", \"ATC\")\n",
    "colnames(ATCssubset4) <- c(\"Patient\", \"FOLD\", \"ATC\")\n",
    "colnames(ATCssubset5) <- c(\"Patient\", \"FOLD\", \"ATC\")"
   ]
  },
  {
   "cell_type": "code",
   "execution_count": 20,
   "metadata": {
    "vscode": {
     "languageId": "r"
    }
   },
   "outputs": [],
   "source": [
    "ATCssubset1$cycle <- \"01\"\n",
    "ATCssubset2$cycle <- \"02\"\n",
    "ATCssubset3$cycle <- \"03\"\n",
    "ATCssubset4$cycle <- \"04\"\n",
    "ATCssubset5$cycle <- \"05\""
   ]
  },
  {
   "cell_type": "code",
   "execution_count": 21,
   "metadata": {
    "vscode": {
     "languageId": "r"
    }
   },
   "outputs": [],
   "source": [
    "myATCdf <- rbind(ATCssubset1, ATCssubset2,ATCssubset3, ATCssubset4,ATCssubset5)"
   ]
  },
  {
   "cell_type": "code",
   "execution_count": 22,
   "metadata": {
    "vscode": {
     "languageId": "r"
    }
   },
   "outputs": [
    {
     "data": {
      "text/html": [
       "<table class=\"dataframe\">\n",
       "<caption>A data.frame: 6 x 4</caption>\n",
       "<thead>\n",
       "\t<tr><th></th><th scope=col>Patient</th><th scope=col>FOLD</th><th scope=col>ATC</th><th scope=col>cycle</th></tr>\n",
       "\t<tr><th></th><th scope=col>&lt;int&gt;</th><th scope=col>&lt;chr&gt;</th><th scope=col>&lt;dbl&gt;</th><th scope=col>&lt;chr&gt;</th></tr>\n",
       "</thead>\n",
       "<tbody>\n",
       "\t<tr><th scope=row>220</th><td>319</td><td>1.4</td><td>  0.00</td><td>01</td></tr>\n",
       "\t<tr><th scope=row>221</th><td>320</td><td>8.9</td><td>  0.00</td><td>01</td></tr>\n",
       "\t<tr><th scope=row>222</th><td>321</td><td>0  </td><td>  0.00</td><td>01</td></tr>\n",
       "\t<tr><th scope=row>223</th><td>322</td><td>1.1</td><td>  0.00</td><td>01</td></tr>\n",
       "\t<tr><th scope=row>224</th><td>323</td><td>0  </td><td>154.75</td><td>01</td></tr>\n",
       "\t<tr><th scope=row>225</th><td>324</td><td>0  </td><td>  0.00</td><td>01</td></tr>\n",
       "</tbody>\n",
       "</table>\n"
      ],
      "text/latex": [
       "A data.frame: 6 x 4\n",
       "\\begin{tabular}{r|llll}\n",
       "  & Patient & FOLD & ATC & cycle\\\\\n",
       "  & <int> & <chr> & <dbl> & <chr>\\\\\n",
       "\\hline\n",
       "\t220 & 319 & 1.4 &   0.00 & 01\\\\\n",
       "\t221 & 320 & 8.9 &   0.00 & 01\\\\\n",
       "\t222 & 321 & 0   &   0.00 & 01\\\\\n",
       "\t223 & 322 & 1.1 &   0.00 & 01\\\\\n",
       "\t224 & 323 & 0   & 154.75 & 01\\\\\n",
       "\t225 & 324 & 0   &   0.00 & 01\\\\\n",
       "\\end{tabular}\n"
      ],
      "text/markdown": [
       "\n",
       "A data.frame: 6 x 4\n",
       "\n",
       "| <!--/--> | Patient &lt;int&gt; | FOLD &lt;chr&gt; | ATC &lt;dbl&gt; | cycle &lt;chr&gt; |\n",
       "|---|---|---|---|---|\n",
       "| 220 | 319 | 1.4 |   0.00 | 01 |\n",
       "| 221 | 320 | 8.9 |   0.00 | 01 |\n",
       "| 222 | 321 | 0   |   0.00 | 01 |\n",
       "| 223 | 322 | 1.1 |   0.00 | 01 |\n",
       "| 224 | 323 | 0   | 154.75 | 01 |\n",
       "| 225 | 324 | 0   |   0.00 | 01 |\n",
       "\n"
      ],
      "text/plain": [
       "    Patient FOLD ATC    cycle\n",
       "220 319     1.4    0.00 01   \n",
       "221 320     8.9    0.00 01   \n",
       "222 321     0      0.00 01   \n",
       "223 322     1.1    0.00 01   \n",
       "224 323     0    154.75 01   \n",
       "225 324     0      0.00 01   "
      ]
     },
     "metadata": {},
     "output_type": "display_data"
    }
   ],
   "source": [
    "head(myATCdf)"
   ]
  },
  {
   "cell_type": "code",
   "execution_count": 23,
   "metadata": {
    "vscode": {
     "languageId": "r"
    }
   },
   "outputs": [],
   "source": [
    "write.csv(myATCdf, file = paste(datapath, \"ATC_df.csv\", sep = \"\"),row.names = F)"
   ]
  },
  {
   "attachments": {},
   "cell_type": "markdown",
   "metadata": {},
   "source": [
    "## Clean up NCR file"
   ]
  },
  {
   "attachments": {},
   "cell_type": "markdown",
   "metadata": {},
   "source": [
    "Copy \"NCRs pre\" sheet to a new spreadsheet (values only), save as NCRs.csv"
   ]
  },
  {
   "cell_type": "code",
   "execution_count": 24,
   "metadata": {
    "vscode": {
     "languageId": "r"
    }
   },
   "outputs": [],
   "source": [
    "NCRs <- read.csv(paste0(datapath, \"Flow/NCRs.csv\"),header = T, check.names = F, stringsAsFactors = F, \n",
    "                 na.strings = c(\"NA\",\"\", \"#DIV/0!\",\"#VALUE!\",\"#REF!\"))"
   ]
  },
  {
   "cell_type": "code",
   "execution_count": 25,
   "metadata": {
    "vscode": {
     "languageId": "r"
    }
   },
   "outputs": [
    {
     "data": {
      "text/html": [
       "<table class=\"dataframe\">\n",
       "<caption>A data.frame: 6 x 305</caption>\n",
       "<thead>\n",
       "\t<tr><th></th><th scope=col> ID#</th><th scope=col>Age</th><th scope=col>DX</th><th scope=col>TE Fold</th><th scope=col>CD3</th><th scope=col>PD-1</th><th scope=col>PDL1</th><th scope=col>LAG3</th><th scope=col>TIM3</th><th scope=col>CTLA4</th><th scope=col>...</th><th scope=col>LAG3</th><th scope=col>TIM3</th><th scope=col>CTLA4</th><th scope=col>PD1%</th><th scope=col>PDL1%</th><th scope=col>LAG3%</th><th scope=col>TIM3%</th><th scope=col>CTLA4%</th><th scope=col>Any NCR</th><th scope=col>PD1 + LAG3 + TIM3</th></tr>\n",
       "\t<tr><th></th><th scope=col>&lt;int&gt;</th><th scope=col>&lt;dbl&gt;</th><th scope=col>&lt;chr&gt;</th><th scope=col>&lt;chr&gt;</th><th scope=col>&lt;int&gt;</th><th scope=col>&lt;chr&gt;</th><th scope=col>&lt;int&gt;</th><th scope=col>&lt;chr&gt;</th><th scope=col>&lt;chr&gt;</th><th scope=col>&lt;int&gt;</th><th scope=col>...</th><th scope=col>&lt;int&gt;</th><th scope=col>&lt;int&gt;</th><th scope=col>&lt;lgl&gt;</th><th scope=col>&lt;lgl&gt;</th><th scope=col>&lt;lgl&gt;</th><th scope=col>&lt;lgl&gt;</th><th scope=col>&lt;lgl&gt;</th><th scope=col>&lt;lgl&gt;</th><th scope=col>&lt;lgl&gt;</th><th scope=col>&lt;lgl&gt;</th></tr>\n",
       "</thead>\n",
       "<tbody>\n",
       "\t<tr><th scope=row>221</th><td>320</td><td> 6</td><td>AML   </td><td>NA</td><td>0</td><td>NA</td><td>NA</td><td>NA</td><td>NA</td><td>NA</td><td>...</td><td>NA</td><td>NA</td><td>NA</td><td>NA</td><td>NA</td><td>NA</td><td>NA</td><td>NA</td><td>NA</td><td>NA</td></tr>\n",
       "\t<tr><th scope=row>222</th><td>321</td><td>16</td><td>HD    </td><td>NA</td><td>0</td><td>NA</td><td>NA</td><td>NA</td><td>NA</td><td>NA</td><td>...</td><td>NA</td><td>NA</td><td>NA</td><td>NA</td><td>NA</td><td>NA</td><td>NA</td><td>NA</td><td>NA</td><td>NA</td></tr>\n",
       "\t<tr><th scope=row>223</th><td>322</td><td>18</td><td>DLBCL </td><td>NA</td><td>0</td><td>NA</td><td>NA</td><td>NA</td><td>NA</td><td>NA</td><td>...</td><td>NA</td><td>NA</td><td>NA</td><td>NA</td><td>NA</td><td>NA</td><td>NA</td><td>NA</td><td>NA</td><td>NA</td></tr>\n",
       "\t<tr><th scope=row>224</th><td>323</td><td> 1</td><td>HR ALL</td><td>NA</td><td>0</td><td>NA</td><td>NA</td><td>NA</td><td>NA</td><td>NA</td><td>...</td><td>NA</td><td>NA</td><td>NA</td><td>NA</td><td>NA</td><td>NA</td><td>NA</td><td>NA</td><td>NA</td><td>NA</td></tr>\n",
       "\t<tr><th scope=row>225</th><td>324</td><td>12</td><td>T-ALL </td><td>NA</td><td>0</td><td>NA</td><td>NA</td><td>NA</td><td>NA</td><td>NA</td><td>...</td><td>NA</td><td>NA</td><td>NA</td><td>NA</td><td>NA</td><td>NA</td><td>NA</td><td>NA</td><td>NA</td><td>NA</td></tr>\n",
       "\t<tr><th scope=row>226</th><td>325</td><td> 2</td><td>ERMS  </td><td>NA</td><td>0</td><td>NA</td><td>NA</td><td>NA</td><td>NA</td><td>NA</td><td>...</td><td>NA</td><td>NA</td><td>NA</td><td>NA</td><td>NA</td><td>NA</td><td>NA</td><td>NA</td><td>NA</td><td>NA</td></tr>\n",
       "</tbody>\n",
       "</table>\n"
      ],
      "text/latex": [
       "A data.frame: 6 x 305\n",
       "\\begin{tabular}{r|lllllllllllllllllllll}\n",
       "  &  ID\\# & Age & DX & TE Fold & CD3 & PD-1 & PDL1 & LAG3 & TIM3 & CTLA4 & ... & LAG3 & TIM3 & CTLA4 & PD1\\% & PDL1\\% & LAG3\\% & TIM3\\% & CTLA4\\% & Any NCR & PD1 + LAG3 + TIM3\\\\\n",
       "  & <int> & <dbl> & <chr> & <chr> & <int> & <chr> & <int> & <chr> & <chr> & <int> & ... & <int> & <int> & <lgl> & <lgl> & <lgl> & <lgl> & <lgl> & <lgl> & <lgl> & <lgl>\\\\\n",
       "\\hline\n",
       "\t221 & 320 &  6 & AML    & NA & 0 & NA & NA & NA & NA & NA & ... & NA & NA & NA & NA & NA & NA & NA & NA & NA & NA\\\\\n",
       "\t222 & 321 & 16 & HD     & NA & 0 & NA & NA & NA & NA & NA & ... & NA & NA & NA & NA & NA & NA & NA & NA & NA & NA\\\\\n",
       "\t223 & 322 & 18 & DLBCL  & NA & 0 & NA & NA & NA & NA & NA & ... & NA & NA & NA & NA & NA & NA & NA & NA & NA & NA\\\\\n",
       "\t224 & 323 &  1 & HR ALL & NA & 0 & NA & NA & NA & NA & NA & ... & NA & NA & NA & NA & NA & NA & NA & NA & NA & NA\\\\\n",
       "\t225 & 324 & 12 & T-ALL  & NA & 0 & NA & NA & NA & NA & NA & ... & NA & NA & NA & NA & NA & NA & NA & NA & NA & NA\\\\\n",
       "\t226 & 325 &  2 & ERMS   & NA & 0 & NA & NA & NA & NA & NA & ... & NA & NA & NA & NA & NA & NA & NA & NA & NA & NA\\\\\n",
       "\\end{tabular}\n"
      ],
      "text/markdown": [
       "\n",
       "A data.frame: 6 x 305\n",
       "\n",
       "| <!--/--> |  ID# &lt;int&gt; | Age &lt;dbl&gt; | DX &lt;chr&gt; | TE Fold &lt;chr&gt; | CD3 &lt;int&gt; | PD-1 &lt;chr&gt; | PDL1 &lt;int&gt; | LAG3 &lt;chr&gt; | TIM3 &lt;chr&gt; | CTLA4 &lt;int&gt; | ... ... | LAG3 &lt;int&gt; | TIM3 &lt;int&gt; | CTLA4 &lt;lgl&gt; | PD1% &lt;lgl&gt; | PDL1% &lt;lgl&gt; | LAG3% &lt;lgl&gt; | TIM3% &lt;lgl&gt; | CTLA4% &lt;lgl&gt; | Any NCR &lt;lgl&gt; | PD1 + LAG3 + TIM3 &lt;lgl&gt; |\n",
       "|---|---|---|---|---|---|---|---|---|---|---|---|---|---|---|---|---|---|---|---|---|---|\n",
       "| 221 | 320 |  6 | AML    | NA | 0 | NA | NA | NA | NA | NA | ... | NA | NA | NA | NA | NA | NA | NA | NA | NA | NA |\n",
       "| 222 | 321 | 16 | HD     | NA | 0 | NA | NA | NA | NA | NA | ... | NA | NA | NA | NA | NA | NA | NA | NA | NA | NA |\n",
       "| 223 | 322 | 18 | DLBCL  | NA | 0 | NA | NA | NA | NA | NA | ... | NA | NA | NA | NA | NA | NA | NA | NA | NA | NA |\n",
       "| 224 | 323 |  1 | HR ALL | NA | 0 | NA | NA | NA | NA | NA | ... | NA | NA | NA | NA | NA | NA | NA | NA | NA | NA |\n",
       "| 225 | 324 | 12 | T-ALL  | NA | 0 | NA | NA | NA | NA | NA | ... | NA | NA | NA | NA | NA | NA | NA | NA | NA | NA |\n",
       "| 226 | 325 |  2 | ERMS   | NA | 0 | NA | NA | NA | NA | NA | ... | NA | NA | NA | NA | NA | NA | NA | NA | NA | NA |\n",
       "\n"
      ],
      "text/plain": [
       "     ID# Age DX     TE Fold CD3 PD-1 PDL1 LAG3 TIM3 CTLA4 ... LAG3 TIM3 CTLA4\n",
       "221 320   6  AML    NA      0   NA   NA   NA   NA   NA    ... NA   NA   NA   \n",
       "222 321  16  HD     NA      0   NA   NA   NA   NA   NA    ... NA   NA   NA   \n",
       "223 322  18  DLBCL  NA      0   NA   NA   NA   NA   NA    ... NA   NA   NA   \n",
       "224 323   1  HR ALL NA      0   NA   NA   NA   NA   NA    ... NA   NA   NA   \n",
       "225 324  12  T-ALL  NA      0   NA   NA   NA   NA   NA    ... NA   NA   NA   \n",
       "226 325   2  ERMS   NA      0   NA   NA   NA   NA   NA    ... NA   NA   NA   \n",
       "    PD1% PDL1% LAG3% TIM3% CTLA4% Any NCR PD1 + LAG3 + TIM3\n",
       "221 NA   NA    NA    NA    NA     NA      NA               \n",
       "222 NA   NA    NA    NA    NA     NA      NA               \n",
       "223 NA   NA    NA    NA    NA     NA      NA               \n",
       "224 NA   NA    NA    NA    NA     NA      NA               \n",
       "225 NA   NA    NA    NA    NA     NA      NA               \n",
       "226 NA   NA    NA    NA    NA     NA      NA               "
      ]
     },
     "metadata": {},
     "output_type": "display_data"
    }
   ],
   "source": [
    "head(NCRs[221:nrow(NCRs),])"
   ]
  },
  {
   "attachments": {},
   "cell_type": "markdown",
   "metadata": {},
   "source": [
    "Subset to include patients 319 to 437"
   ]
  },
  {
   "cell_type": "code",
   "execution_count": 26,
   "metadata": {
    "vscode": {
     "languageId": "r"
    }
   },
   "outputs": [],
   "source": [
    "NCRssubset <- NCRs[220:nrow(NCRs),]"
   ]
  },
  {
   "cell_type": "code",
   "execution_count": 27,
   "metadata": {
    "vscode": {
     "languageId": "r"
    }
   },
   "outputs": [
    {
     "data": {
      "text/html": [
       "<table class=\"dataframe\">\n",
       "<caption>A data.frame: 6 x 305</caption>\n",
       "<thead>\n",
       "\t<tr><th></th><th scope=col> ID#</th><th scope=col>Age</th><th scope=col>DX</th><th scope=col>TE Fold</th><th scope=col>CD3</th><th scope=col>PD-1</th><th scope=col>PDL1</th><th scope=col>LAG3</th><th scope=col>TIM3</th><th scope=col>CTLA4</th><th scope=col>...</th><th scope=col>LAG3</th><th scope=col>TIM3</th><th scope=col>CTLA4</th><th scope=col>PD1%</th><th scope=col>PDL1%</th><th scope=col>LAG3%</th><th scope=col>TIM3%</th><th scope=col>CTLA4%</th><th scope=col>Any NCR</th><th scope=col>PD1 + LAG3 + TIM3</th></tr>\n",
       "\t<tr><th></th><th scope=col>&lt;int&gt;</th><th scope=col>&lt;dbl&gt;</th><th scope=col>&lt;chr&gt;</th><th scope=col>&lt;chr&gt;</th><th scope=col>&lt;int&gt;</th><th scope=col>&lt;chr&gt;</th><th scope=col>&lt;int&gt;</th><th scope=col>&lt;chr&gt;</th><th scope=col>&lt;chr&gt;</th><th scope=col>&lt;int&gt;</th><th scope=col>...</th><th scope=col>&lt;int&gt;</th><th scope=col>&lt;int&gt;</th><th scope=col>&lt;lgl&gt;</th><th scope=col>&lt;lgl&gt;</th><th scope=col>&lt;lgl&gt;</th><th scope=col>&lt;lgl&gt;</th><th scope=col>&lt;lgl&gt;</th><th scope=col>&lt;lgl&gt;</th><th scope=col>&lt;lgl&gt;</th><th scope=col>&lt;lgl&gt;</th></tr>\n",
       "</thead>\n",
       "<tbody>\n",
       "\t<tr><th scope=row>220</th><td>319</td><td> 1</td><td>HR ALL</td><td>NA</td><td>0</td><td>NA</td><td>NA</td><td>NA</td><td>NA</td><td>NA</td><td>...</td><td>NA</td><td>NA</td><td>NA</td><td>NA</td><td>NA</td><td>NA</td><td>NA</td><td>NA</td><td>NA</td><td>NA</td></tr>\n",
       "\t<tr><th scope=row>221</th><td>320</td><td> 6</td><td>AML   </td><td>NA</td><td>0</td><td>NA</td><td>NA</td><td>NA</td><td>NA</td><td>NA</td><td>...</td><td>NA</td><td>NA</td><td>NA</td><td>NA</td><td>NA</td><td>NA</td><td>NA</td><td>NA</td><td>NA</td><td>NA</td></tr>\n",
       "\t<tr><th scope=row>222</th><td>321</td><td>16</td><td>HD    </td><td>NA</td><td>0</td><td>NA</td><td>NA</td><td>NA</td><td>NA</td><td>NA</td><td>...</td><td>NA</td><td>NA</td><td>NA</td><td>NA</td><td>NA</td><td>NA</td><td>NA</td><td>NA</td><td>NA</td><td>NA</td></tr>\n",
       "\t<tr><th scope=row>223</th><td>322</td><td>18</td><td>DLBCL </td><td>NA</td><td>0</td><td>NA</td><td>NA</td><td>NA</td><td>NA</td><td>NA</td><td>...</td><td>NA</td><td>NA</td><td>NA</td><td>NA</td><td>NA</td><td>NA</td><td>NA</td><td>NA</td><td>NA</td><td>NA</td></tr>\n",
       "\t<tr><th scope=row>224</th><td>323</td><td> 1</td><td>HR ALL</td><td>NA</td><td>0</td><td>NA</td><td>NA</td><td>NA</td><td>NA</td><td>NA</td><td>...</td><td>NA</td><td>NA</td><td>NA</td><td>NA</td><td>NA</td><td>NA</td><td>NA</td><td>NA</td><td>NA</td><td>NA</td></tr>\n",
       "\t<tr><th scope=row>225</th><td>324</td><td>12</td><td>T-ALL </td><td>NA</td><td>0</td><td>NA</td><td>NA</td><td>NA</td><td>NA</td><td>NA</td><td>...</td><td>NA</td><td>NA</td><td>NA</td><td>NA</td><td>NA</td><td>NA</td><td>NA</td><td>NA</td><td>NA</td><td>NA</td></tr>\n",
       "</tbody>\n",
       "</table>\n"
      ],
      "text/latex": [
       "A data.frame: 6 x 305\n",
       "\\begin{tabular}{r|lllllllllllllllllllll}\n",
       "  &  ID\\# & Age & DX & TE Fold & CD3 & PD-1 & PDL1 & LAG3 & TIM3 & CTLA4 & ... & LAG3 & TIM3 & CTLA4 & PD1\\% & PDL1\\% & LAG3\\% & TIM3\\% & CTLA4\\% & Any NCR & PD1 + LAG3 + TIM3\\\\\n",
       "  & <int> & <dbl> & <chr> & <chr> & <int> & <chr> & <int> & <chr> & <chr> & <int> & ... & <int> & <int> & <lgl> & <lgl> & <lgl> & <lgl> & <lgl> & <lgl> & <lgl> & <lgl>\\\\\n",
       "\\hline\n",
       "\t220 & 319 &  1 & HR ALL & NA & 0 & NA & NA & NA & NA & NA & ... & NA & NA & NA & NA & NA & NA & NA & NA & NA & NA\\\\\n",
       "\t221 & 320 &  6 & AML    & NA & 0 & NA & NA & NA & NA & NA & ... & NA & NA & NA & NA & NA & NA & NA & NA & NA & NA\\\\\n",
       "\t222 & 321 & 16 & HD     & NA & 0 & NA & NA & NA & NA & NA & ... & NA & NA & NA & NA & NA & NA & NA & NA & NA & NA\\\\\n",
       "\t223 & 322 & 18 & DLBCL  & NA & 0 & NA & NA & NA & NA & NA & ... & NA & NA & NA & NA & NA & NA & NA & NA & NA & NA\\\\\n",
       "\t224 & 323 &  1 & HR ALL & NA & 0 & NA & NA & NA & NA & NA & ... & NA & NA & NA & NA & NA & NA & NA & NA & NA & NA\\\\\n",
       "\t225 & 324 & 12 & T-ALL  & NA & 0 & NA & NA & NA & NA & NA & ... & NA & NA & NA & NA & NA & NA & NA & NA & NA & NA\\\\\n",
       "\\end{tabular}\n"
      ],
      "text/markdown": [
       "\n",
       "A data.frame: 6 x 305\n",
       "\n",
       "| <!--/--> |  ID# &lt;int&gt; | Age &lt;dbl&gt; | DX &lt;chr&gt; | TE Fold &lt;chr&gt; | CD3 &lt;int&gt; | PD-1 &lt;chr&gt; | PDL1 &lt;int&gt; | LAG3 &lt;chr&gt; | TIM3 &lt;chr&gt; | CTLA4 &lt;int&gt; | ... ... | LAG3 &lt;int&gt; | TIM3 &lt;int&gt; | CTLA4 &lt;lgl&gt; | PD1% &lt;lgl&gt; | PDL1% &lt;lgl&gt; | LAG3% &lt;lgl&gt; | TIM3% &lt;lgl&gt; | CTLA4% &lt;lgl&gt; | Any NCR &lt;lgl&gt; | PD1 + LAG3 + TIM3 &lt;lgl&gt; |\n",
       "|---|---|---|---|---|---|---|---|---|---|---|---|---|---|---|---|---|---|---|---|---|---|\n",
       "| 220 | 319 |  1 | HR ALL | NA | 0 | NA | NA | NA | NA | NA | ... | NA | NA | NA | NA | NA | NA | NA | NA | NA | NA |\n",
       "| 221 | 320 |  6 | AML    | NA | 0 | NA | NA | NA | NA | NA | ... | NA | NA | NA | NA | NA | NA | NA | NA | NA | NA |\n",
       "| 222 | 321 | 16 | HD     | NA | 0 | NA | NA | NA | NA | NA | ... | NA | NA | NA | NA | NA | NA | NA | NA | NA | NA |\n",
       "| 223 | 322 | 18 | DLBCL  | NA | 0 | NA | NA | NA | NA | NA | ... | NA | NA | NA | NA | NA | NA | NA | NA | NA | NA |\n",
       "| 224 | 323 |  1 | HR ALL | NA | 0 | NA | NA | NA | NA | NA | ... | NA | NA | NA | NA | NA | NA | NA | NA | NA | NA |\n",
       "| 225 | 324 | 12 | T-ALL  | NA | 0 | NA | NA | NA | NA | NA | ... | NA | NA | NA | NA | NA | NA | NA | NA | NA | NA |\n",
       "\n"
      ],
      "text/plain": [
       "     ID# Age DX     TE Fold CD3 PD-1 PDL1 LAG3 TIM3 CTLA4 ... LAG3 TIM3 CTLA4\n",
       "220 319   1  HR ALL NA      0   NA   NA   NA   NA   NA    ... NA   NA   NA   \n",
       "221 320   6  AML    NA      0   NA   NA   NA   NA   NA    ... NA   NA   NA   \n",
       "222 321  16  HD     NA      0   NA   NA   NA   NA   NA    ... NA   NA   NA   \n",
       "223 322  18  DLBCL  NA      0   NA   NA   NA   NA   NA    ... NA   NA   NA   \n",
       "224 323   1  HR ALL NA      0   NA   NA   NA   NA   NA    ... NA   NA   NA   \n",
       "225 324  12  T-ALL  NA      0   NA   NA   NA   NA   NA    ... NA   NA   NA   \n",
       "    PD1% PDL1% LAG3% TIM3% CTLA4% Any NCR PD1 + LAG3 + TIM3\n",
       "220 NA   NA    NA    NA    NA     NA      NA               \n",
       "221 NA   NA    NA    NA    NA     NA      NA               \n",
       "222 NA   NA    NA    NA    NA     NA      NA               \n",
       "223 NA   NA    NA    NA    NA     NA      NA               \n",
       "224 NA   NA    NA    NA    NA     NA      NA               \n",
       "225 NA   NA    NA    NA    NA     NA      NA               "
      ]
     },
     "metadata": {},
     "output_type": "display_data"
    }
   ],
   "source": [
    "head(NCRssubset)"
   ]
  },
  {
   "attachments": {},
   "cell_type": "markdown",
   "metadata": {},
   "source": [
    "Get empty columns. They indicate serial samplesets for each patient"
   ]
  },
  {
   "cell_type": "code",
   "execution_count": 28,
   "metadata": {
    "scrolled": true,
    "vscode": {
     "languageId": "r"
    }
   },
   "outputs": [],
   "source": [
    "subsets <- grep(\"^$\", colnames(NCRssubset))"
   ]
  },
  {
   "cell_type": "code",
   "execution_count": 29,
   "metadata": {
    "vscode": {
     "languageId": "r"
    }
   },
   "outputs": [
    {
     "data": {
      "text/html": [
       "<style>\n",
       ".list-inline {list-style: none; margin:0; padding: 0}\n",
       ".list-inline>li {display: inline-block}\n",
       ".list-inline>li:not(:last-child)::after {content: \"\\00b7\"; padding: 0 .5ex}\n",
       "</style>\n",
       "<ol class=list-inline><li>18</li><li>34</li><li>50</li><li>66</li><li>82</li><li>98</li><li>114</li><li>130</li><li>146</li><li>162</li><li>178</li><li>194</li><li>210</li><li>226</li><li>242</li><li>258</li><li>274</li><li>290</li></ol>\n"
      ],
      "text/latex": [
       "\\begin{enumerate*}\n",
       "\\item 18\n",
       "\\item 34\n",
       "\\item 50\n",
       "\\item 66\n",
       "\\item 82\n",
       "\\item 98\n",
       "\\item 114\n",
       "\\item 130\n",
       "\\item 146\n",
       "\\item 162\n",
       "\\item 178\n",
       "\\item 194\n",
       "\\item 210\n",
       "\\item 226\n",
       "\\item 242\n",
       "\\item 258\n",
       "\\item 274\n",
       "\\item 290\n",
       "\\end{enumerate*}\n"
      ],
      "text/markdown": [
       "1. 18\n",
       "2. 34\n",
       "3. 50\n",
       "4. 66\n",
       "5. 82\n",
       "6. 98\n",
       "7. 114\n",
       "8. 130\n",
       "9. 146\n",
       "10. 162\n",
       "11. 178\n",
       "12. 194\n",
       "13. 210\n",
       "14. 226\n",
       "15. 242\n",
       "16. 258\n",
       "17. 274\n",
       "18. 290\n",
       "\n",
       "\n"
      ],
      "text/plain": [
       " [1]  18  34  50  66  82  98 114 130 146 162 178 194 210 226 242 258 274 290"
      ]
     },
     "metadata": {},
     "output_type": "display_data"
    }
   ],
   "source": [
    "subsets"
   ]
  },
  {
   "cell_type": "code",
   "execution_count": 30,
   "metadata": {
    "vscode": {
     "languageId": "r"
    }
   },
   "outputs": [
    {
     "data": {
      "text/html": [
       "<table class=\"dataframe\">\n",
       "<caption>A data.frame: 1 x 15</caption>\n",
       "<thead>\n",
       "\t<tr><th></th><th scope=col>TE Fold</th><th scope=col>Pass?</th><th scope=col>CD3</th><th scope=col>PD-1</th><th scope=col>PDL1</th><th scope=col>LAG3</th><th scope=col>TIM3</th><th scope=col>CTLA4</th><th scope=col>PD1%</th><th scope=col>PDL1%</th><th scope=col>LAG3%</th><th scope=col>TIM3%</th><th scope=col>CTLA4%</th><th scope=col>Any NCR</th><th scope=col>PD1 + LAG3 + TIM3</th></tr>\n",
       "\t<tr><th></th><th scope=col>&lt;chr&gt;</th><th scope=col>&lt;int&gt;</th><th scope=col>&lt;int&gt;</th><th scope=col>&lt;chr&gt;</th><th scope=col>&lt;int&gt;</th><th scope=col>&lt;chr&gt;</th><th scope=col>&lt;chr&gt;</th><th scope=col>&lt;int&gt;</th><th scope=col>&lt;dbl&gt;</th><th scope=col>&lt;dbl&gt;</th><th scope=col>&lt;dbl&gt;</th><th scope=col>&lt;dbl&gt;</th><th scope=col>&lt;dbl&gt;</th><th scope=col>&lt;dbl&gt;</th><th scope=col>&lt;dbl&gt;</th></tr>\n",
       "</thead>\n",
       "<tbody>\n",
       "\t<tr><th scope=row>308</th><td>NA</td><td>NA</td><td>2373</td><td>690</td><td>NA</td><td>116</td><td>690</td><td>NA</td><td>NA</td><td>NA</td><td>NA</td><td>NA</td><td>NA</td><td>NA</td><td>NA</td></tr>\n",
       "</tbody>\n",
       "</table>\n"
      ],
      "text/latex": [
       "A data.frame: 1 x 15\n",
       "\\begin{tabular}{r|lllllllllllllll}\n",
       "  & TE Fold & Pass? & CD3 & PD-1 & PDL1 & LAG3 & TIM3 & CTLA4 & PD1\\% & PDL1\\% & LAG3\\% & TIM3\\% & CTLA4\\% & Any NCR & PD1 + LAG3 + TIM3\\\\\n",
       "  & <chr> & <int> & <int> & <chr> & <int> & <chr> & <chr> & <int> & <dbl> & <dbl> & <dbl> & <dbl> & <dbl> & <dbl> & <dbl>\\\\\n",
       "\\hline\n",
       "\t308 & NA & NA & 2373 & 690 & NA & 116 & 690 & NA & NA & NA & NA & NA & NA & NA & NA\\\\\n",
       "\\end{tabular}\n"
      ],
      "text/markdown": [
       "\n",
       "A data.frame: 1 x 15\n",
       "\n",
       "| <!--/--> | TE Fold &lt;chr&gt; | Pass? &lt;int&gt; | CD3 &lt;int&gt; | PD-1 &lt;chr&gt; | PDL1 &lt;int&gt; | LAG3 &lt;chr&gt; | TIM3 &lt;chr&gt; | CTLA4 &lt;int&gt; | PD1% &lt;dbl&gt; | PDL1% &lt;dbl&gt; | LAG3% &lt;dbl&gt; | TIM3% &lt;dbl&gt; | CTLA4% &lt;dbl&gt; | Any NCR &lt;dbl&gt; | PD1 + LAG3 + TIM3 &lt;dbl&gt; |\n",
       "|---|---|---|---|---|---|---|---|---|---|---|---|---|---|---|---|\n",
       "| 308 | NA | NA | 2373 | 690 | NA | 116 | 690 | NA | NA | NA | NA | NA | NA | NA | NA |\n",
       "\n"
      ],
      "text/plain": [
       "    TE Fold Pass? CD3  PD-1 PDL1 LAG3 TIM3 CTLA4 PD1% PDL1% LAG3% TIM3% CTLA4%\n",
       "308 NA      NA    2373 690  NA   116  690  NA    NA   NA    NA    NA    NA    \n",
       "    Any NCR PD1 + LAG3 + TIM3\n",
       "308 NA      NA               "
      ]
     },
     "metadata": {},
     "output_type": "display_data"
    }
   ],
   "source": [
    "NCRssubset[ NCRssubset$` ID#` == \"407\",19:33]"
   ]
  },
  {
   "attachments": {},
   "cell_type": "markdown",
   "metadata": {},
   "source": [
    "Save each sampleset then rbind"
   ]
  },
  {
   "cell_type": "code",
   "execution_count": 31,
   "metadata": {
    "vscode": {
     "languageId": "r"
    }
   },
   "outputs": [],
   "source": [
    "NCRssubset1 <- NCRssubset[,1:17]\n",
    "NCRssubset2 <- NCRssubset[,c(1:3,19:33)]\n",
    "NCRssubset3 <- NCRssubset[,c(1:3,35:49)]\n",
    "NCRssubset4 <- NCRssubset[,c(1:3,51:65)]\n",
    "NCRssubset5 <- NCRssubset[,c(1:3,67:81)]"
   ]
  },
  {
   "cell_type": "code",
   "execution_count": 32,
   "metadata": {
    "vscode": {
     "languageId": "r"
    }
   },
   "outputs": [
    {
     "data": {
      "text/html": [
       "<style>\n",
       ".list-inline {list-style: none; margin:0; padding: 0}\n",
       ".list-inline>li {display: inline-block}\n",
       ".list-inline>li:not(:last-child)::after {content: \"\\00b7\"; padding: 0 .5ex}\n",
       "</style>\n",
       "<ol class=list-inline><li>' ID#'</li><li>'Age'</li><li>'DX'</li><li>'TE Fold'</li><li>'Pass?'</li><li>'CD3'</li><li>'PD-1'</li><li>'PDL1'</li><li>'LAG3'</li><li>'TIM3'</li><li>'CTLA4'</li><li>'PD1%'</li><li>'PDL1%'</li><li>'LAG3%'</li><li>'TIM3%'</li><li>'CTLA4%'</li><li>'Any NCR'</li><li>'PD1 + LAG3 + TIM3'</li></ol>\n"
      ],
      "text/latex": [
       "\\begin{enumerate*}\n",
       "\\item ' ID\\#'\n",
       "\\item 'Age'\n",
       "\\item 'DX'\n",
       "\\item 'TE Fold'\n",
       "\\item 'Pass?'\n",
       "\\item 'CD3'\n",
       "\\item 'PD-1'\n",
       "\\item 'PDL1'\n",
       "\\item 'LAG3'\n",
       "\\item 'TIM3'\n",
       "\\item 'CTLA4'\n",
       "\\item 'PD1\\%'\n",
       "\\item 'PDL1\\%'\n",
       "\\item 'LAG3\\%'\n",
       "\\item 'TIM3\\%'\n",
       "\\item 'CTLA4\\%'\n",
       "\\item 'Any NCR'\n",
       "\\item 'PD1 + LAG3 + TIM3'\n",
       "\\end{enumerate*}\n"
      ],
      "text/markdown": [
       "1. ' ID#'\n",
       "2. 'Age'\n",
       "3. 'DX'\n",
       "4. 'TE Fold'\n",
       "5. 'Pass?'\n",
       "6. 'CD3'\n",
       "7. 'PD-1'\n",
       "8. 'PDL1'\n",
       "9. 'LAG3'\n",
       "10. 'TIM3'\n",
       "11. 'CTLA4'\n",
       "12. 'PD1%'\n",
       "13. 'PDL1%'\n",
       "14. 'LAG3%'\n",
       "15. 'TIM3%'\n",
       "16. 'CTLA4%'\n",
       "17. 'Any NCR'\n",
       "18. 'PD1 + LAG3 + TIM3'\n",
       "\n",
       "\n"
      ],
      "text/plain": [
       " [1] \" ID#\"              \"Age\"               \"DX\"               \n",
       " [4] \"TE Fold\"           \"Pass?\"             \"CD3\"              \n",
       " [7] \"PD-1\"              \"PDL1\"              \"LAG3\"             \n",
       "[10] \"TIM3\"              \"CTLA4\"             \"PD1%\"             \n",
       "[13] \"PDL1%\"             \"LAG3%\"             \"TIM3%\"            \n",
       "[16] \"CTLA4%\"            \"Any NCR\"           \"PD1 + LAG3 + TIM3\""
      ]
     },
     "metadata": {},
     "output_type": "display_data"
    }
   ],
   "source": [
    "colnames(NCRssubset2)"
   ]
  },
  {
   "cell_type": "code",
   "execution_count": 33,
   "metadata": {
    "vscode": {
     "languageId": "r"
    }
   },
   "outputs": [],
   "source": [
    "NCRssubset1$`Pass?` <- NA"
   ]
  },
  {
   "cell_type": "code",
   "execution_count": 34,
   "metadata": {
    "vscode": {
     "languageId": "r"
    }
   },
   "outputs": [],
   "source": [
    "NCRssubset1$cycle <- \"01\"\n",
    "NCRssubset2$cycle <- \"02\"\n",
    "NCRssubset3$cycle <- \"03\"\n",
    "NCRssubset4$cycle <- \"04\"\n",
    "NCRssubset5$cycle <- \"05\""
   ]
  },
  {
   "cell_type": "code",
   "execution_count": 35,
   "metadata": {
    "vscode": {
     "languageId": "r"
    }
   },
   "outputs": [],
   "source": [
    "myNCRdf <- rbind(\n",
    "    NCRssubset1,\n",
    "    NCRssubset2,\n",
    "    NCRssubset3,\n",
    "    NCRssubset4,\n",
    "    NCRssubset5\n",
    ")\n"
   ]
  },
  {
   "attachments": {},
   "cell_type": "markdown",
   "metadata": {},
   "source": [
    "Reorder columns and colnames cleanup"
   ]
  },
  {
   "cell_type": "code",
   "execution_count": 36,
   "metadata": {
    "vscode": {
     "languageId": "r"
    }
   },
   "outputs": [
    {
     "data": {
      "text/html": [
       "<table class=\"dataframe\">\n",
       "<caption>A data.frame: 6 x 19</caption>\n",
       "<thead>\n",
       "\t<tr><th></th><th scope=col> ID#</th><th scope=col>Age</th><th scope=col>DX</th><th scope=col>TE Fold</th><th scope=col>CD3</th><th scope=col>PD-1</th><th scope=col>PDL1</th><th scope=col>LAG3</th><th scope=col>TIM3</th><th scope=col>CTLA4</th><th scope=col>PD1%</th><th scope=col>PDL1%</th><th scope=col>LAG3%</th><th scope=col>TIM3%</th><th scope=col>CTLA4%</th><th scope=col>Any NCR</th><th scope=col>PD1 + LAG3 + TIM3</th><th scope=col>Pass?</th><th scope=col>cycle</th></tr>\n",
       "\t<tr><th></th><th scope=col>&lt;int&gt;</th><th scope=col>&lt;dbl&gt;</th><th scope=col>&lt;chr&gt;</th><th scope=col>&lt;chr&gt;</th><th scope=col>&lt;int&gt;</th><th scope=col>&lt;chr&gt;</th><th scope=col>&lt;int&gt;</th><th scope=col>&lt;chr&gt;</th><th scope=col>&lt;chr&gt;</th><th scope=col>&lt;int&gt;</th><th scope=col>&lt;dbl&gt;</th><th scope=col>&lt;dbl&gt;</th><th scope=col>&lt;dbl&gt;</th><th scope=col>&lt;dbl&gt;</th><th scope=col>&lt;dbl&gt;</th><th scope=col>&lt;dbl&gt;</th><th scope=col>&lt;dbl&gt;</th><th scope=col>&lt;int&gt;</th><th scope=col>&lt;chr&gt;</th></tr>\n",
       "</thead>\n",
       "<tbody>\n",
       "\t<tr><th scope=row>220</th><td>319</td><td> 1</td><td>HR ALL</td><td>NA</td><td>0</td><td>NA</td><td>NA</td><td>NA</td><td>NA</td><td>NA</td><td>NA</td><td>NA</td><td>NA</td><td>NA</td><td>NA</td><td>NA</td><td>NA</td><td>NA</td><td>01</td></tr>\n",
       "\t<tr><th scope=row>221</th><td>320</td><td> 6</td><td>AML   </td><td>NA</td><td>0</td><td>NA</td><td>NA</td><td>NA</td><td>NA</td><td>NA</td><td>NA</td><td>NA</td><td>NA</td><td>NA</td><td>NA</td><td>NA</td><td>NA</td><td>NA</td><td>01</td></tr>\n",
       "\t<tr><th scope=row>222</th><td>321</td><td>16</td><td>HD    </td><td>NA</td><td>0</td><td>NA</td><td>NA</td><td>NA</td><td>NA</td><td>NA</td><td>NA</td><td>NA</td><td>NA</td><td>NA</td><td>NA</td><td>NA</td><td>NA</td><td>NA</td><td>01</td></tr>\n",
       "\t<tr><th scope=row>223</th><td>322</td><td>18</td><td>DLBCL </td><td>NA</td><td>0</td><td>NA</td><td>NA</td><td>NA</td><td>NA</td><td>NA</td><td>NA</td><td>NA</td><td>NA</td><td>NA</td><td>NA</td><td>NA</td><td>NA</td><td>NA</td><td>01</td></tr>\n",
       "\t<tr><th scope=row>224</th><td>323</td><td> 1</td><td>HR ALL</td><td>NA</td><td>0</td><td>NA</td><td>NA</td><td>NA</td><td>NA</td><td>NA</td><td>NA</td><td>NA</td><td>NA</td><td>NA</td><td>NA</td><td>NA</td><td>NA</td><td>NA</td><td>01</td></tr>\n",
       "\t<tr><th scope=row>225</th><td>324</td><td>12</td><td>T-ALL </td><td>NA</td><td>0</td><td>NA</td><td>NA</td><td>NA</td><td>NA</td><td>NA</td><td>NA</td><td>NA</td><td>NA</td><td>NA</td><td>NA</td><td>NA</td><td>NA</td><td>NA</td><td>01</td></tr>\n",
       "</tbody>\n",
       "</table>\n"
      ],
      "text/latex": [
       "A data.frame: 6 x 19\n",
       "\\begin{tabular}{r|lllllllllllllllllll}\n",
       "  &  ID\\# & Age & DX & TE Fold & CD3 & PD-1 & PDL1 & LAG3 & TIM3 & CTLA4 & PD1\\% & PDL1\\% & LAG3\\% & TIM3\\% & CTLA4\\% & Any NCR & PD1 + LAG3 + TIM3 & Pass? & cycle\\\\\n",
       "  & <int> & <dbl> & <chr> & <chr> & <int> & <chr> & <int> & <chr> & <chr> & <int> & <dbl> & <dbl> & <dbl> & <dbl> & <dbl> & <dbl> & <dbl> & <int> & <chr>\\\\\n",
       "\\hline\n",
       "\t220 & 319 &  1 & HR ALL & NA & 0 & NA & NA & NA & NA & NA & NA & NA & NA & NA & NA & NA & NA & NA & 01\\\\\n",
       "\t221 & 320 &  6 & AML    & NA & 0 & NA & NA & NA & NA & NA & NA & NA & NA & NA & NA & NA & NA & NA & 01\\\\\n",
       "\t222 & 321 & 16 & HD     & NA & 0 & NA & NA & NA & NA & NA & NA & NA & NA & NA & NA & NA & NA & NA & 01\\\\\n",
       "\t223 & 322 & 18 & DLBCL  & NA & 0 & NA & NA & NA & NA & NA & NA & NA & NA & NA & NA & NA & NA & NA & 01\\\\\n",
       "\t224 & 323 &  1 & HR ALL & NA & 0 & NA & NA & NA & NA & NA & NA & NA & NA & NA & NA & NA & NA & NA & 01\\\\\n",
       "\t225 & 324 & 12 & T-ALL  & NA & 0 & NA & NA & NA & NA & NA & NA & NA & NA & NA & NA & NA & NA & NA & 01\\\\\n",
       "\\end{tabular}\n"
      ],
      "text/markdown": [
       "\n",
       "A data.frame: 6 x 19\n",
       "\n",
       "| <!--/--> |  ID# &lt;int&gt; | Age &lt;dbl&gt; | DX &lt;chr&gt; | TE Fold &lt;chr&gt; | CD3 &lt;int&gt; | PD-1 &lt;chr&gt; | PDL1 &lt;int&gt; | LAG3 &lt;chr&gt; | TIM3 &lt;chr&gt; | CTLA4 &lt;int&gt; | PD1% &lt;dbl&gt; | PDL1% &lt;dbl&gt; | LAG3% &lt;dbl&gt; | TIM3% &lt;dbl&gt; | CTLA4% &lt;dbl&gt; | Any NCR &lt;dbl&gt; | PD1 + LAG3 + TIM3 &lt;dbl&gt; | Pass? &lt;int&gt; | cycle &lt;chr&gt; |\n",
       "|---|---|---|---|---|---|---|---|---|---|---|---|---|---|---|---|---|---|---|---|\n",
       "| 220 | 319 |  1 | HR ALL | NA | 0 | NA | NA | NA | NA | NA | NA | NA | NA | NA | NA | NA | NA | NA | 01 |\n",
       "| 221 | 320 |  6 | AML    | NA | 0 | NA | NA | NA | NA | NA | NA | NA | NA | NA | NA | NA | NA | NA | 01 |\n",
       "| 222 | 321 | 16 | HD     | NA | 0 | NA | NA | NA | NA | NA | NA | NA | NA | NA | NA | NA | NA | NA | 01 |\n",
       "| 223 | 322 | 18 | DLBCL  | NA | 0 | NA | NA | NA | NA | NA | NA | NA | NA | NA | NA | NA | NA | NA | 01 |\n",
       "| 224 | 323 |  1 | HR ALL | NA | 0 | NA | NA | NA | NA | NA | NA | NA | NA | NA | NA | NA | NA | NA | 01 |\n",
       "| 225 | 324 | 12 | T-ALL  | NA | 0 | NA | NA | NA | NA | NA | NA | NA | NA | NA | NA | NA | NA | NA | 01 |\n",
       "\n"
      ],
      "text/plain": [
       "     ID# Age DX     TE Fold CD3 PD-1 PDL1 LAG3 TIM3 CTLA4 PD1% PDL1% LAG3%\n",
       "220 319   1  HR ALL NA      0   NA   NA   NA   NA   NA    NA   NA    NA   \n",
       "221 320   6  AML    NA      0   NA   NA   NA   NA   NA    NA   NA    NA   \n",
       "222 321  16  HD     NA      0   NA   NA   NA   NA   NA    NA   NA    NA   \n",
       "223 322  18  DLBCL  NA      0   NA   NA   NA   NA   NA    NA   NA    NA   \n",
       "224 323   1  HR ALL NA      0   NA   NA   NA   NA   NA    NA   NA    NA   \n",
       "225 324  12  T-ALL  NA      0   NA   NA   NA   NA   NA    NA   NA    NA   \n",
       "    TIM3% CTLA4% Any NCR PD1 + LAG3 + TIM3 Pass? cycle\n",
       "220 NA    NA     NA      NA                NA    01   \n",
       "221 NA    NA     NA      NA                NA    01   \n",
       "222 NA    NA     NA      NA                NA    01   \n",
       "223 NA    NA     NA      NA                NA    01   \n",
       "224 NA    NA     NA      NA                NA    01   \n",
       "225 NA    NA     NA      NA                NA    01   "
      ]
     },
     "metadata": {},
     "output_type": "display_data"
    }
   ],
   "source": [
    "head(myNCRdf)"
   ]
  },
  {
   "cell_type": "code",
   "execution_count": 37,
   "metadata": {
    "vscode": {
     "languageId": "r"
    }
   },
   "outputs": [],
   "source": [
    "myNCRdf <- myNCRdf[, c(1,19,2:4,18,5:17)]"
   ]
  },
  {
   "cell_type": "code",
   "execution_count": 38,
   "metadata": {
    "vscode": {
     "languageId": "r"
    }
   },
   "outputs": [
    {
     "data": {
      "text/html": [
       "<style>\n",
       ".list-inline {list-style: none; margin:0; padding: 0}\n",
       ".list-inline>li {display: inline-block}\n",
       ".list-inline>li:not(:last-child)::after {content: \"\\00b7\"; padding: 0 .5ex}\n",
       "</style>\n",
       "<ol class=list-inline><li>' ID#'</li><li>'DX'</li><li>'TE Fold'</li><li>'Pass?'</li></ol>\n"
      ],
      "text/latex": [
       "\\begin{enumerate*}\n",
       "\\item ' ID\\#'\n",
       "\\item 'DX'\n",
       "\\item 'TE Fold'\n",
       "\\item 'Pass?'\n",
       "\\end{enumerate*}\n"
      ],
      "text/markdown": [
       "1. ' ID#'\n",
       "2. 'DX'\n",
       "3. 'TE Fold'\n",
       "4. 'Pass?'\n",
       "\n",
       "\n"
      ],
      "text/plain": [
       "[1] \" ID#\"    \"DX\"      \"TE Fold\" \"Pass?\"  "
      ]
     },
     "metadata": {},
     "output_type": "display_data"
    }
   ],
   "source": [
    "colnames(myNCRdf)[c(1,4,5,6)]"
   ]
  },
  {
   "cell_type": "code",
   "execution_count": 39,
   "metadata": {
    "scrolled": true,
    "vscode": {
     "languageId": "r"
    }
   },
   "outputs": [],
   "source": [
    "colnames(myNCRdf)[c(1,4,5,6)] <- c(\"Patient\", \"Disease_type\", \"TE_fold\", \"Pass\")"
   ]
  },
  {
   "attachments": {},
   "cell_type": "markdown",
   "metadata": {},
   "source": [
    "Assign NA to all \"x\" values. These are samples that failed the flow experiment"
   ]
  },
  {
   "cell_type": "code",
   "execution_count": 40,
   "metadata": {
    "vscode": {
     "languageId": "r"
    }
   },
   "outputs": [],
   "source": [
    "myNCRdf$`PD-1` <- gsub(\"x\", NA, myNCRdf$`PD-1`)\n",
    "myNCRdf$LAG3 <- gsub(\"x\", NA, myNCRdf$LAG3)\n",
    "myNCRdf$TIM3 <- gsub(\"x\", NA, myNCRdf$TIM3)"
   ]
  },
  {
   "cell_type": "code",
   "execution_count": 41,
   "metadata": {
    "vscode": {
     "languageId": "r"
    }
   },
   "outputs": [],
   "source": [
    "myNCRdf$`PD-1` <- as.numeric(myNCRdf$`PD-1`)\n",
    "myNCRdf$LAG3 <- as.numeric(myNCRdf$LAG3)\n",
    "myNCRdf$TIM3 <- as.numeric(myNCRdf$TIM3)"
   ]
  },
  {
   "cell_type": "code",
   "execution_count": 42,
   "metadata": {
    "vscode": {
     "languageId": "r"
    }
   },
   "outputs": [
    {
     "data": {
      "text/html": [
       "<table class=\"dataframe\">\n",
       "<caption>A data.frame: 6 x 19</caption>\n",
       "<thead>\n",
       "\t<tr><th></th><th scope=col>Patient</th><th scope=col>cycle</th><th scope=col>Age</th><th scope=col>Disease_type</th><th scope=col>TE_fold</th><th scope=col>Pass</th><th scope=col>CD3</th><th scope=col>PD-1</th><th scope=col>PDL1</th><th scope=col>LAG3</th><th scope=col>TIM3</th><th scope=col>CTLA4</th><th scope=col>PD1%</th><th scope=col>PDL1%</th><th scope=col>LAG3%</th><th scope=col>TIM3%</th><th scope=col>CTLA4%</th><th scope=col>Any NCR</th><th scope=col>PD1 + LAG3 + TIM3</th></tr>\n",
       "\t<tr><th></th><th scope=col>&lt;int&gt;</th><th scope=col>&lt;chr&gt;</th><th scope=col>&lt;dbl&gt;</th><th scope=col>&lt;chr&gt;</th><th scope=col>&lt;chr&gt;</th><th scope=col>&lt;int&gt;</th><th scope=col>&lt;int&gt;</th><th scope=col>&lt;dbl&gt;</th><th scope=col>&lt;int&gt;</th><th scope=col>&lt;dbl&gt;</th><th scope=col>&lt;dbl&gt;</th><th scope=col>&lt;int&gt;</th><th scope=col>&lt;dbl&gt;</th><th scope=col>&lt;dbl&gt;</th><th scope=col>&lt;dbl&gt;</th><th scope=col>&lt;dbl&gt;</th><th scope=col>&lt;dbl&gt;</th><th scope=col>&lt;dbl&gt;</th><th scope=col>&lt;dbl&gt;</th></tr>\n",
       "</thead>\n",
       "<tbody>\n",
       "\t<tr><th scope=row>220</th><td>319</td><td>01</td><td> 1</td><td>HR ALL</td><td>NA</td><td>NA</td><td>0</td><td>NA</td><td>NA</td><td>NA</td><td>NA</td><td>NA</td><td>NA</td><td>NA</td><td>NA</td><td>NA</td><td>NA</td><td>NA</td><td>NA</td></tr>\n",
       "\t<tr><th scope=row>221</th><td>320</td><td>01</td><td> 6</td><td>AML   </td><td>NA</td><td>NA</td><td>0</td><td>NA</td><td>NA</td><td>NA</td><td>NA</td><td>NA</td><td>NA</td><td>NA</td><td>NA</td><td>NA</td><td>NA</td><td>NA</td><td>NA</td></tr>\n",
       "\t<tr><th scope=row>222</th><td>321</td><td>01</td><td>16</td><td>HD    </td><td>NA</td><td>NA</td><td>0</td><td>NA</td><td>NA</td><td>NA</td><td>NA</td><td>NA</td><td>NA</td><td>NA</td><td>NA</td><td>NA</td><td>NA</td><td>NA</td><td>NA</td></tr>\n",
       "\t<tr><th scope=row>223</th><td>322</td><td>01</td><td>18</td><td>DLBCL </td><td>NA</td><td>NA</td><td>0</td><td>NA</td><td>NA</td><td>NA</td><td>NA</td><td>NA</td><td>NA</td><td>NA</td><td>NA</td><td>NA</td><td>NA</td><td>NA</td><td>NA</td></tr>\n",
       "\t<tr><th scope=row>224</th><td>323</td><td>01</td><td> 1</td><td>HR ALL</td><td>NA</td><td>NA</td><td>0</td><td>NA</td><td>NA</td><td>NA</td><td>NA</td><td>NA</td><td>NA</td><td>NA</td><td>NA</td><td>NA</td><td>NA</td><td>NA</td><td>NA</td></tr>\n",
       "\t<tr><th scope=row>225</th><td>324</td><td>01</td><td>12</td><td>T-ALL </td><td>NA</td><td>NA</td><td>0</td><td>NA</td><td>NA</td><td>NA</td><td>NA</td><td>NA</td><td>NA</td><td>NA</td><td>NA</td><td>NA</td><td>NA</td><td>NA</td><td>NA</td></tr>\n",
       "</tbody>\n",
       "</table>\n"
      ],
      "text/latex": [
       "A data.frame: 6 x 19\n",
       "\\begin{tabular}{r|lllllllllllllllllll}\n",
       "  & Patient & cycle & Age & Disease\\_type & TE\\_fold & Pass & CD3 & PD-1 & PDL1 & LAG3 & TIM3 & CTLA4 & PD1\\% & PDL1\\% & LAG3\\% & TIM3\\% & CTLA4\\% & Any NCR & PD1 + LAG3 + TIM3\\\\\n",
       "  & <int> & <chr> & <dbl> & <chr> & <chr> & <int> & <int> & <dbl> & <int> & <dbl> & <dbl> & <int> & <dbl> & <dbl> & <dbl> & <dbl> & <dbl> & <dbl> & <dbl>\\\\\n",
       "\\hline\n",
       "\t220 & 319 & 01 &  1 & HR ALL & NA & NA & 0 & NA & NA & NA & NA & NA & NA & NA & NA & NA & NA & NA & NA\\\\\n",
       "\t221 & 320 & 01 &  6 & AML    & NA & NA & 0 & NA & NA & NA & NA & NA & NA & NA & NA & NA & NA & NA & NA\\\\\n",
       "\t222 & 321 & 01 & 16 & HD     & NA & NA & 0 & NA & NA & NA & NA & NA & NA & NA & NA & NA & NA & NA & NA\\\\\n",
       "\t223 & 322 & 01 & 18 & DLBCL  & NA & NA & 0 & NA & NA & NA & NA & NA & NA & NA & NA & NA & NA & NA & NA\\\\\n",
       "\t224 & 323 & 01 &  1 & HR ALL & NA & NA & 0 & NA & NA & NA & NA & NA & NA & NA & NA & NA & NA & NA & NA\\\\\n",
       "\t225 & 324 & 01 & 12 & T-ALL  & NA & NA & 0 & NA & NA & NA & NA & NA & NA & NA & NA & NA & NA & NA & NA\\\\\n",
       "\\end{tabular}\n"
      ],
      "text/markdown": [
       "\n",
       "A data.frame: 6 x 19\n",
       "\n",
       "| <!--/--> | Patient &lt;int&gt; | cycle &lt;chr&gt; | Age &lt;dbl&gt; | Disease_type &lt;chr&gt; | TE_fold &lt;chr&gt; | Pass &lt;int&gt; | CD3 &lt;int&gt; | PD-1 &lt;dbl&gt; | PDL1 &lt;int&gt; | LAG3 &lt;dbl&gt; | TIM3 &lt;dbl&gt; | CTLA4 &lt;int&gt; | PD1% &lt;dbl&gt; | PDL1% &lt;dbl&gt; | LAG3% &lt;dbl&gt; | TIM3% &lt;dbl&gt; | CTLA4% &lt;dbl&gt; | Any NCR &lt;dbl&gt; | PD1 + LAG3 + TIM3 &lt;dbl&gt; |\n",
       "|---|---|---|---|---|---|---|---|---|---|---|---|---|---|---|---|---|---|---|---|\n",
       "| 220 | 319 | 01 |  1 | HR ALL | NA | NA | 0 | NA | NA | NA | NA | NA | NA | NA | NA | NA | NA | NA | NA |\n",
       "| 221 | 320 | 01 |  6 | AML    | NA | NA | 0 | NA | NA | NA | NA | NA | NA | NA | NA | NA | NA | NA | NA |\n",
       "| 222 | 321 | 01 | 16 | HD     | NA | NA | 0 | NA | NA | NA | NA | NA | NA | NA | NA | NA | NA | NA | NA |\n",
       "| 223 | 322 | 01 | 18 | DLBCL  | NA | NA | 0 | NA | NA | NA | NA | NA | NA | NA | NA | NA | NA | NA | NA |\n",
       "| 224 | 323 | 01 |  1 | HR ALL | NA | NA | 0 | NA | NA | NA | NA | NA | NA | NA | NA | NA | NA | NA | NA |\n",
       "| 225 | 324 | 01 | 12 | T-ALL  | NA | NA | 0 | NA | NA | NA | NA | NA | NA | NA | NA | NA | NA | NA | NA |\n",
       "\n"
      ],
      "text/plain": [
       "    Patient cycle Age Disease_type TE_fold Pass CD3 PD-1 PDL1 LAG3 TIM3 CTLA4\n",
       "220 319     01     1  HR ALL       NA      NA   0   NA   NA   NA   NA   NA   \n",
       "221 320     01     6  AML          NA      NA   0   NA   NA   NA   NA   NA   \n",
       "222 321     01    16  HD           NA      NA   0   NA   NA   NA   NA   NA   \n",
       "223 322     01    18  DLBCL        NA      NA   0   NA   NA   NA   NA   NA   \n",
       "224 323     01     1  HR ALL       NA      NA   0   NA   NA   NA   NA   NA   \n",
       "225 324     01    12  T-ALL        NA      NA   0   NA   NA   NA   NA   NA   \n",
       "    PD1% PDL1% LAG3% TIM3% CTLA4% Any NCR PD1 + LAG3 + TIM3\n",
       "220 NA   NA    NA    NA    NA     NA      NA               \n",
       "221 NA   NA    NA    NA    NA     NA      NA               \n",
       "222 NA   NA    NA    NA    NA     NA      NA               \n",
       "223 NA   NA    NA    NA    NA     NA      NA               \n",
       "224 NA   NA    NA    NA    NA     NA      NA               \n",
       "225 NA   NA    NA    NA    NA     NA      NA               "
      ]
     },
     "metadata": {},
     "output_type": "display_data"
    }
   ],
   "source": [
    "head(myNCRdf)"
   ]
  },
  {
   "cell_type": "code",
   "execution_count": 43,
   "metadata": {
    "vscode": {
     "languageId": "r"
    }
   },
   "outputs": [
    {
     "data": {
      "text/html": [
       "<style>\n",
       ".list-inline {list-style: none; margin:0; padding: 0}\n",
       ".list-inline>li {display: inline-block}\n",
       ".list-inline>li:not(:last-child)::after {content: \"\\00b7\"; padding: 0 .5ex}\n",
       "</style>\n",
       "<ol class=list-inline><li>595</li><li>19</li></ol>\n"
      ],
      "text/latex": [
       "\\begin{enumerate*}\n",
       "\\item 595\n",
       "\\item 19\n",
       "\\end{enumerate*}\n"
      ],
      "text/markdown": [
       "1. 595\n",
       "2. 19\n",
       "\n",
       "\n"
      ],
      "text/plain": [
       "[1] 595  19"
      ]
     },
     "metadata": {},
     "output_type": "display_data"
    }
   ],
   "source": [
    "dim(myNCRdf)"
   ]
  },
  {
   "attachments": {},
   "cell_type": "markdown",
   "metadata": {},
   "source": [
    "Generate percentage NCRs"
   ]
  },
  {
   "cell_type": "code",
   "execution_count": 44,
   "metadata": {
    "vscode": {
     "languageId": "r"
    }
   },
   "outputs": [
    {
     "data": {
      "text/html": [
       "<table class=\"dataframe\">\n",
       "<caption>A data.frame: 5 x 19</caption>\n",
       "<thead>\n",
       "\t<tr><th></th><th scope=col>Patient</th><th scope=col>cycle</th><th scope=col>Age</th><th scope=col>Disease_type</th><th scope=col>TE_fold</th><th scope=col>Pass</th><th scope=col>CD3</th><th scope=col>PD-1</th><th scope=col>PDL1</th><th scope=col>LAG3</th><th scope=col>TIM3</th><th scope=col>CTLA4</th><th scope=col>PD1%</th><th scope=col>PDL1%</th><th scope=col>LAG3%</th><th scope=col>TIM3%</th><th scope=col>CTLA4%</th><th scope=col>Any NCR</th><th scope=col>PD1 + LAG3 + TIM3</th></tr>\n",
       "\t<tr><th></th><th scope=col>&lt;int&gt;</th><th scope=col>&lt;chr&gt;</th><th scope=col>&lt;dbl&gt;</th><th scope=col>&lt;chr&gt;</th><th scope=col>&lt;chr&gt;</th><th scope=col>&lt;int&gt;</th><th scope=col>&lt;int&gt;</th><th scope=col>&lt;dbl&gt;</th><th scope=col>&lt;int&gt;</th><th scope=col>&lt;dbl&gt;</th><th scope=col>&lt;dbl&gt;</th><th scope=col>&lt;int&gt;</th><th scope=col>&lt;dbl&gt;</th><th scope=col>&lt;dbl&gt;</th><th scope=col>&lt;dbl&gt;</th><th scope=col>&lt;dbl&gt;</th><th scope=col>&lt;dbl&gt;</th><th scope=col>&lt;dbl&gt;</th><th scope=col>&lt;dbl&gt;</th></tr>\n",
       "</thead>\n",
       "<tbody>\n",
       "\t<tr><th scope=row>303</th><td>402</td><td>01</td><td>9</td><td>HR ALL</td><td>NA</td><td>NA</td><td>2452</td><td>24</td><td>NA</td><td>312</td><td>24</td><td>NA</td><td>NA</td><td>NA</td><td>NA</td><td>NA</td><td>NA</td><td>NA</td><td>NA</td></tr>\n",
       "\t<tr><th scope=row>3031</th><td>402</td><td>02</td><td>9</td><td>HR ALL</td><td>NA</td><td>NA</td><td>2487</td><td>18</td><td>NA</td><td>341</td><td>NA</td><td>NA</td><td>NA</td><td>NA</td><td>NA</td><td>NA</td><td>NA</td><td>NA</td><td>NA</td></tr>\n",
       "\t<tr><th scope=row>3032</th><td>402</td><td>03</td><td>9</td><td>HR ALL</td><td>NA</td><td>NA</td><td>2428</td><td>71</td><td>NA</td><td> 20</td><td>71</td><td>NA</td><td>NA</td><td>NA</td><td>NA</td><td>NA</td><td>NA</td><td>NA</td><td>NA</td></tr>\n",
       "\t<tr><th scope=row>3033</th><td>402</td><td>04</td><td>9</td><td>HR ALL</td><td>NA</td><td>NA</td><td>   0</td><td>NA</td><td>NA</td><td> NA</td><td>NA</td><td>NA</td><td>NA</td><td>NA</td><td>NA</td><td>NA</td><td>NA</td><td>NA</td><td>NA</td></tr>\n",
       "\t<tr><th scope=row>3034</th><td>402</td><td>05</td><td>9</td><td>HR ALL</td><td>NA</td><td>NA</td><td>   0</td><td>NA</td><td>NA</td><td> NA</td><td>NA</td><td>NA</td><td>NA</td><td>NA</td><td>NA</td><td>NA</td><td>NA</td><td>NA</td><td>NA</td></tr>\n",
       "</tbody>\n",
       "</table>\n"
      ],
      "text/latex": [
       "A data.frame: 5 x 19\n",
       "\\begin{tabular}{r|lllllllllllllllllll}\n",
       "  & Patient & cycle & Age & Disease\\_type & TE\\_fold & Pass & CD3 & PD-1 & PDL1 & LAG3 & TIM3 & CTLA4 & PD1\\% & PDL1\\% & LAG3\\% & TIM3\\% & CTLA4\\% & Any NCR & PD1 + LAG3 + TIM3\\\\\n",
       "  & <int> & <chr> & <dbl> & <chr> & <chr> & <int> & <int> & <dbl> & <int> & <dbl> & <dbl> & <int> & <dbl> & <dbl> & <dbl> & <dbl> & <dbl> & <dbl> & <dbl>\\\\\n",
       "\\hline\n",
       "\t303 & 402 & 01 & 9 & HR ALL & NA & NA & 2452 & 24 & NA & 312 & 24 & NA & NA & NA & NA & NA & NA & NA & NA\\\\\n",
       "\t3031 & 402 & 02 & 9 & HR ALL & NA & NA & 2487 & 18 & NA & 341 & NA & NA & NA & NA & NA & NA & NA & NA & NA\\\\\n",
       "\t3032 & 402 & 03 & 9 & HR ALL & NA & NA & 2428 & 71 & NA &  20 & 71 & NA & NA & NA & NA & NA & NA & NA & NA\\\\\n",
       "\t3033 & 402 & 04 & 9 & HR ALL & NA & NA &    0 & NA & NA &  NA & NA & NA & NA & NA & NA & NA & NA & NA & NA\\\\\n",
       "\t3034 & 402 & 05 & 9 & HR ALL & NA & NA &    0 & NA & NA &  NA & NA & NA & NA & NA & NA & NA & NA & NA & NA\\\\\n",
       "\\end{tabular}\n"
      ],
      "text/markdown": [
       "\n",
       "A data.frame: 5 x 19\n",
       "\n",
       "| <!--/--> | Patient &lt;int&gt; | cycle &lt;chr&gt; | Age &lt;dbl&gt; | Disease_type &lt;chr&gt; | TE_fold &lt;chr&gt; | Pass &lt;int&gt; | CD3 &lt;int&gt; | PD-1 &lt;dbl&gt; | PDL1 &lt;int&gt; | LAG3 &lt;dbl&gt; | TIM3 &lt;dbl&gt; | CTLA4 &lt;int&gt; | PD1% &lt;dbl&gt; | PDL1% &lt;dbl&gt; | LAG3% &lt;dbl&gt; | TIM3% &lt;dbl&gt; | CTLA4% &lt;dbl&gt; | Any NCR &lt;dbl&gt; | PD1 + LAG3 + TIM3 &lt;dbl&gt; |\n",
       "|---|---|---|---|---|---|---|---|---|---|---|---|---|---|---|---|---|---|---|---|\n",
       "| 303 | 402 | 01 | 9 | HR ALL | NA | NA | 2452 | 24 | NA | 312 | 24 | NA | NA | NA | NA | NA | NA | NA | NA |\n",
       "| 3031 | 402 | 02 | 9 | HR ALL | NA | NA | 2487 | 18 | NA | 341 | NA | NA | NA | NA | NA | NA | NA | NA | NA |\n",
       "| 3032 | 402 | 03 | 9 | HR ALL | NA | NA | 2428 | 71 | NA |  20 | 71 | NA | NA | NA | NA | NA | NA | NA | NA |\n",
       "| 3033 | 402 | 04 | 9 | HR ALL | NA | NA |    0 | NA | NA |  NA | NA | NA | NA | NA | NA | NA | NA | NA | NA |\n",
       "| 3034 | 402 | 05 | 9 | HR ALL | NA | NA |    0 | NA | NA |  NA | NA | NA | NA | NA | NA | NA | NA | NA | NA |\n",
       "\n"
      ],
      "text/plain": [
       "     Patient cycle Age Disease_type TE_fold Pass CD3  PD-1 PDL1 LAG3 TIM3 CTLA4\n",
       "303  402     01    9   HR ALL       NA      NA   2452 24   NA   312  24   NA   \n",
       "3031 402     02    9   HR ALL       NA      NA   2487 18   NA   341  NA   NA   \n",
       "3032 402     03    9   HR ALL       NA      NA   2428 71   NA    20  71   NA   \n",
       "3033 402     04    9   HR ALL       NA      NA      0 NA   NA    NA  NA   NA   \n",
       "3034 402     05    9   HR ALL       NA      NA      0 NA   NA    NA  NA   NA   \n",
       "     PD1% PDL1% LAG3% TIM3% CTLA4% Any NCR PD1 + LAG3 + TIM3\n",
       "303  NA   NA    NA    NA    NA     NA      NA               \n",
       "3031 NA   NA    NA    NA    NA     NA      NA               \n",
       "3032 NA   NA    NA    NA    NA     NA      NA               \n",
       "3033 NA   NA    NA    NA    NA     NA      NA               \n",
       "3034 NA   NA    NA    NA    NA     NA      NA               "
      ]
     },
     "metadata": {},
     "output_type": "display_data"
    }
   ],
   "source": [
    "head(myNCRdf[ myNCRdf$Patient == \"402\",])"
   ]
  },
  {
   "cell_type": "code",
   "execution_count": 45,
   "metadata": {
    "vscode": {
     "languageId": "r"
    }
   },
   "outputs": [],
   "source": [
    "# error in data entry, remove data for pt 402 sample 03\n",
    "myNCRdf[(myNCRdf$Patient == \"402\" & myNCRdf$cycle == \"03\"), \"LAG3\"] <- NA\n",
    "myNCRdf[(myNCRdf$Patient == \"402\" & myNCRdf$cycle == \"03\"), \"TIM3\"] <- NA\n",
    "myNCRdf[(myNCRdf$Patient == \"402\" & myNCRdf$cycle == \"03\"), \"PD-1\"] <- NA"
   ]
  },
  {
   "cell_type": "code",
   "execution_count": 46,
   "metadata": {
    "vscode": {
     "languageId": "r"
    }
   },
   "outputs": [],
   "source": [
    "write.csv(myNCRdf,file = paste0(datapath, \"NCR_df.csv\"),row.names = F)"
   ]
  },
  {
   "attachments": {},
   "cell_type": "markdown",
   "metadata": {},
   "source": [
    "## Clean up T cells file\n"
   ]
  },
  {
   "attachments": {},
   "cell_type": "markdown",
   "metadata": {},
   "source": [
    "Copy \"Pre Memory Subsets\" sheet to a new spreadsheet (values only)\n",
    "\n",
    "move the first 3 colnames up to align the the other colnames\n",
    "remove row 2. save as Tsubsets.csv"
   ]
  },
  {
   "cell_type": "code",
   "execution_count": 47,
   "metadata": {
    "vscode": {
     "languageId": "r"
    }
   },
   "outputs": [],
   "source": [
    "Tcells <- read.csv(paste0(datapath, \"Flow/Tsubsets.csv\"),header = T, \n",
    "                 check.names = F, stringsAsFactors = F,\n",
    "                 na.strings = c(\"NA\",\"\",\"#DIV/0!\",\"#VALUE!\",\"#REF!\"))"
   ]
  },
  {
   "cell_type": "code",
   "execution_count": 48,
   "metadata": {
    "scrolled": true,
    "vscode": {
     "languageId": "r"
    }
   },
   "outputs": [
    {
     "data": {
      "text/html": [
       "<table class=\"dataframe\">\n",
       "<caption>A data.frame: 6 x 306</caption>\n",
       "<thead>\n",
       "\t<tr><th></th><th scope=col> ID#</th><th scope=col>Age</th><th scope=col>DX</th><th scope=col>TE Fold</th><th scope=col>Pass?</th><th scope=col>CD3</th><th scope=col>EM</th><th scope=col>CM</th><th scope=col>Naïve</th><th scope=col>SCM</th><th scope=col>...</th><th scope=col>Naïve</th><th scope=col>SCM</th><th scope=col>TE</th><th scope=col>EM%</th><th scope=col>CM%</th><th scope=col>Naïve%</th><th scope=col>SCM%</th><th scope=col>TE%</th><th scope=col>Naïve/TE</th><th scope=col>N+CM+SCM/TE+EM</th></tr>\n",
       "\t<tr><th></th><th scope=col>&lt;int&gt;</th><th scope=col>&lt;dbl&gt;</th><th scope=col>&lt;chr&gt;</th><th scope=col>&lt;chr&gt;</th><th scope=col>&lt;int&gt;</th><th scope=col>&lt;int&gt;</th><th scope=col>&lt;chr&gt;</th><th scope=col>&lt;chr&gt;</th><th scope=col>&lt;chr&gt;</th><th scope=col>&lt;chr&gt;</th><th scope=col>...</th><th scope=col>&lt;int&gt;</th><th scope=col>&lt;int&gt;</th><th scope=col>&lt;int&gt;</th><th scope=col>&lt;lgl&gt;</th><th scope=col>&lt;lgl&gt;</th><th scope=col>&lt;lgl&gt;</th><th scope=col>&lt;lgl&gt;</th><th scope=col>&lt;lgl&gt;</th><th scope=col>&lt;lgl&gt;</th><th scope=col>&lt;lgl&gt;</th></tr>\n",
       "</thead>\n",
       "<tbody>\n",
       "\t<tr><th scope=row>1</th><td>100</td><td>22</td><td>BMT               </td><td>0.53 </td><td>0</td><td>NA</td><td>NA</td><td>NA</td><td>NA</td><td>NA</td><td>...</td><td>NA</td><td>NA</td><td>NA</td><td>NA</td><td>NA</td><td>NA</td><td>NA</td><td>NA</td><td>NA</td><td>NA</td></tr>\n",
       "\t<tr><th scope=row>2</th><td>101</td><td> 6</td><td>SR ALL            </td><td>26.4 </td><td>1</td><td>NA</td><td>NA</td><td>NA</td><td>NA</td><td>NA</td><td>...</td><td>NA</td><td>NA</td><td>NA</td><td>NA</td><td>NA</td><td>NA</td><td>NA</td><td>NA</td><td>NA</td><td>NA</td></tr>\n",
       "\t<tr><th scope=row>3</th><td>102</td><td> 6</td><td>SR ALL            </td><td>8.11 </td><td>1</td><td>NA</td><td>NA</td><td>NA</td><td>NA</td><td>NA</td><td>...</td><td>NA</td><td>NA</td><td>NA</td><td>NA</td><td>NA</td><td>NA</td><td>NA</td><td>NA</td><td>NA</td><td>NA</td></tr>\n",
       "\t<tr><th scope=row>4</th><td>103</td><td> 4</td><td>Burkitt's Lymphoma</td><td>3.2  </td><td>0</td><td>NA</td><td>NA</td><td>NA</td><td>NA</td><td>NA</td><td>...</td><td>NA</td><td>NA</td><td>NA</td><td>NA</td><td>NA</td><td>NA</td><td>NA</td><td>NA</td><td>NA</td><td>NA</td></tr>\n",
       "\t<tr><th scope=row>5</th><td>104</td><td> 1</td><td>HR ALL            </td><td>22.86</td><td>1</td><td>NA</td><td>NA</td><td>NA</td><td>NA</td><td>NA</td><td>...</td><td>NA</td><td>NA</td><td>NA</td><td>NA</td><td>NA</td><td>NA</td><td>NA</td><td>NA</td><td>NA</td><td>NA</td></tr>\n",
       "\t<tr><th scope=row>6</th><td>105</td><td>14</td><td>HR ALL            </td><td>30.91</td><td>1</td><td>NA</td><td>NA</td><td>NA</td><td>NA</td><td>NA</td><td>...</td><td>NA</td><td>NA</td><td>NA</td><td>NA</td><td>NA</td><td>NA</td><td>NA</td><td>NA</td><td>NA</td><td>NA</td></tr>\n",
       "</tbody>\n",
       "</table>\n"
      ],
      "text/latex": [
       "A data.frame: 6 x 306\n",
       "\\begin{tabular}{r|lllllllllllllllllllll}\n",
       "  &  ID\\# & Age & DX & TE Fold & Pass? & CD3 & EM & CM & Naïve & SCM & ... & Naïve & SCM & TE & EM\\% & CM\\% & Naïve\\% & SCM\\% & TE\\% & Naïve/TE & N+CM+SCM/TE+EM\\\\\n",
       "  & <int> & <dbl> & <chr> & <chr> & <int> & <int> & <chr> & <chr> & <chr> & <chr> & ... & <int> & <int> & <int> & <lgl> & <lgl> & <lgl> & <lgl> & <lgl> & <lgl> & <lgl>\\\\\n",
       "\\hline\n",
       "\t1 & 100 & 22 & BMT                & 0.53  & 0 & NA & NA & NA & NA & NA & ... & NA & NA & NA & NA & NA & NA & NA & NA & NA & NA\\\\\n",
       "\t2 & 101 &  6 & SR ALL             & 26.4  & 1 & NA & NA & NA & NA & NA & ... & NA & NA & NA & NA & NA & NA & NA & NA & NA & NA\\\\\n",
       "\t3 & 102 &  6 & SR ALL             & 8.11  & 1 & NA & NA & NA & NA & NA & ... & NA & NA & NA & NA & NA & NA & NA & NA & NA & NA\\\\\n",
       "\t4 & 103 &  4 & Burkitt's Lymphoma & 3.2   & 0 & NA & NA & NA & NA & NA & ... & NA & NA & NA & NA & NA & NA & NA & NA & NA & NA\\\\\n",
       "\t5 & 104 &  1 & HR ALL             & 22.86 & 1 & NA & NA & NA & NA & NA & ... & NA & NA & NA & NA & NA & NA & NA & NA & NA & NA\\\\\n",
       "\t6 & 105 & 14 & HR ALL             & 30.91 & 1 & NA & NA & NA & NA & NA & ... & NA & NA & NA & NA & NA & NA & NA & NA & NA & NA\\\\\n",
       "\\end{tabular}\n"
      ],
      "text/markdown": [
       "\n",
       "A data.frame: 6 x 306\n",
       "\n",
       "| <!--/--> |  ID# &lt;int&gt; | Age &lt;dbl&gt; | DX &lt;chr&gt; | TE Fold &lt;chr&gt; | Pass? &lt;int&gt; | CD3 &lt;int&gt; | EM &lt;chr&gt; | CM &lt;chr&gt; | Naïve &lt;chr&gt; | SCM &lt;chr&gt; | ... ... | Naïve &lt;int&gt; | SCM &lt;int&gt; | TE &lt;int&gt; | EM% &lt;lgl&gt; | CM% &lt;lgl&gt; | Naïve% &lt;lgl&gt; | SCM% &lt;lgl&gt; | TE% &lt;lgl&gt; | Naïve/TE &lt;lgl&gt; | N+CM+SCM/TE+EM &lt;lgl&gt; |\n",
       "|---|---|---|---|---|---|---|---|---|---|---|---|---|---|---|---|---|---|---|---|---|---|\n",
       "| 1 | 100 | 22 | BMT                | 0.53  | 0 | NA | NA | NA | NA | NA | ... | NA | NA | NA | NA | NA | NA | NA | NA | NA | NA |\n",
       "| 2 | 101 |  6 | SR ALL             | 26.4  | 1 | NA | NA | NA | NA | NA | ... | NA | NA | NA | NA | NA | NA | NA | NA | NA | NA |\n",
       "| 3 | 102 |  6 | SR ALL             | 8.11  | 1 | NA | NA | NA | NA | NA | ... | NA | NA | NA | NA | NA | NA | NA | NA | NA | NA |\n",
       "| 4 | 103 |  4 | Burkitt's Lymphoma | 3.2   | 0 | NA | NA | NA | NA | NA | ... | NA | NA | NA | NA | NA | NA | NA | NA | NA | NA |\n",
       "| 5 | 104 |  1 | HR ALL             | 22.86 | 1 | NA | NA | NA | NA | NA | ... | NA | NA | NA | NA | NA | NA | NA | NA | NA | NA |\n",
       "| 6 | 105 | 14 | HR ALL             | 30.91 | 1 | NA | NA | NA | NA | NA | ... | NA | NA | NA | NA | NA | NA | NA | NA | NA | NA |\n",
       "\n"
      ],
      "text/plain": [
       "   ID# Age DX                 TE Fold Pass? CD3 EM CM Naïve SCM ... Naïve SCM\n",
       "1 100  22  BMT                0.53    0     NA  NA NA NA    NA  ... NA    NA \n",
       "2 101   6  SR ALL             26.4    1     NA  NA NA NA    NA  ... NA    NA \n",
       "3 102   6  SR ALL             8.11    1     NA  NA NA NA    NA  ... NA    NA \n",
       "4 103   4  Burkitt's Lymphoma 3.2     0     NA  NA NA NA    NA  ... NA    NA \n",
       "5 104   1  HR ALL             22.86   1     NA  NA NA NA    NA  ... NA    NA \n",
       "6 105  14  HR ALL             30.91   1     NA  NA NA NA    NA  ... NA    NA \n",
       "  TE EM% CM% Naïve% SCM% TE% Naïve/TE N+CM+SCM/TE+EM\n",
       "1 NA NA  NA  NA     NA   NA  NA       NA            \n",
       "2 NA NA  NA  NA     NA   NA  NA       NA            \n",
       "3 NA NA  NA  NA     NA   NA  NA       NA            \n",
       "4 NA NA  NA  NA     NA   NA  NA       NA            \n",
       "5 NA NA  NA  NA     NA   NA  NA       NA            \n",
       "6 NA NA  NA  NA     NA   NA  NA       NA            "
      ]
     },
     "metadata": {},
     "output_type": "display_data"
    }
   ],
   "source": [
    "head(Tcells)"
   ]
  },
  {
   "attachments": {},
   "cell_type": "markdown",
   "metadata": {},
   "source": [
    "Subset to include patients 319 to 437"
   ]
  },
  {
   "cell_type": "code",
   "execution_count": 49,
   "metadata": {
    "vscode": {
     "languageId": "r"
    }
   },
   "outputs": [],
   "source": [
    "Tcellsubset <- Tcells[220:nrow(Tcells),]"
   ]
  },
  {
   "attachments": {},
   "cell_type": "markdown",
   "metadata": {},
   "source": [
    "Get empty columns and seperate serial samples"
   ]
  },
  {
   "cell_type": "code",
   "execution_count": 50,
   "metadata": {
    "scrolled": true,
    "vscode": {
     "languageId": "r"
    }
   },
   "outputs": [
    {
     "data": {
      "text/html": [
       "<style>\n",
       ".list-inline {list-style: none; margin:0; padding: 0}\n",
       ".list-inline>li {display: inline-block}\n",
       ".list-inline>li:not(:last-child)::after {content: \"\\00b7\"; padding: 0 .5ex}\n",
       "</style>\n",
       "<ol class=list-inline><li>19</li><li>35</li><li>51</li><li>67</li><li>83</li><li>99</li><li>115</li><li>131</li><li>147</li><li>163</li><li>179</li><li>195</li><li>211</li><li>227</li><li>243</li><li>259</li><li>275</li><li>291</li></ol>\n"
      ],
      "text/latex": [
       "\\begin{enumerate*}\n",
       "\\item 19\n",
       "\\item 35\n",
       "\\item 51\n",
       "\\item 67\n",
       "\\item 83\n",
       "\\item 99\n",
       "\\item 115\n",
       "\\item 131\n",
       "\\item 147\n",
       "\\item 163\n",
       "\\item 179\n",
       "\\item 195\n",
       "\\item 211\n",
       "\\item 227\n",
       "\\item 243\n",
       "\\item 259\n",
       "\\item 275\n",
       "\\item 291\n",
       "\\end{enumerate*}\n"
      ],
      "text/markdown": [
       "1. 19\n",
       "2. 35\n",
       "3. 51\n",
       "4. 67\n",
       "5. 83\n",
       "6. 99\n",
       "7. 115\n",
       "8. 131\n",
       "9. 147\n",
       "10. 163\n",
       "11. 179\n",
       "12. 195\n",
       "13. 211\n",
       "14. 227\n",
       "15. 243\n",
       "16. 259\n",
       "17. 275\n",
       "18. 291\n",
       "\n",
       "\n"
      ],
      "text/plain": [
       " [1]  19  35  51  67  83  99 115 131 147 163 179 195 211 227 243 259 275 291"
      ]
     },
     "metadata": {},
     "output_type": "display_data"
    }
   ],
   "source": [
    "grep(\"^$\", colnames(Tcellsubset))"
   ]
  },
  {
   "cell_type": "code",
   "execution_count": 51,
   "metadata": {
    "vscode": {
     "languageId": "r"
    }
   },
   "outputs": [],
   "source": [
    "Tcellsubset1 <- Tcellsubset[,1:18]\n",
    "Tcellsubset2 <- Tcellsubset[,c(1:3,20:34)]\n",
    "Tcellsubset3 <- Tcellsubset[,c(1:3,36:50)]\n",
    "Tcellsubset4 <- Tcellsubset[,c(1:3,52:66)]\n",
    "Tcellsubset5 <- Tcellsubset[,c(1:3,68:82)]"
   ]
  },
  {
   "cell_type": "code",
   "execution_count": 52,
   "metadata": {
    "vscode": {
     "languageId": "r"
    }
   },
   "outputs": [],
   "source": [
    "Tcellsubset1$cycle <- \"01\"\n",
    "Tcellsubset2$cycle <- \"02\"\n",
    "Tcellsubset3$cycle <- \"03\"\n",
    "Tcellsubset4$cycle <- \"04\"\n",
    "Tcellsubset5$cycle <- \"05\""
   ]
  },
  {
   "cell_type": "code",
   "execution_count": 53,
   "metadata": {
    "vscode": {
     "languageId": "r"
    }
   },
   "outputs": [],
   "source": [
    "myTcellsdf <- rbind(Tcellsubset1,\n",
    "                Tcellsubset2,\n",
    "                Tcellsubset3,\n",
    "                Tcellsubset4,\n",
    "                Tcellsubset5)"
   ]
  },
  {
   "cell_type": "code",
   "execution_count": 54,
   "metadata": {
    "vscode": {
     "languageId": "r"
    }
   },
   "outputs": [],
   "source": [
    "myTcellsdf <- myTcellsdf[, c(1,19,2:4,5:18)]"
   ]
  },
  {
   "cell_type": "code",
   "execution_count": 55,
   "metadata": {
    "scrolled": true,
    "vscode": {
     "languageId": "r"
    }
   },
   "outputs": [],
   "source": [
    "colnames(myTcellsdf)[c(1,4,5,6)] <- c(\"Patient\", \"Disease_type\", \"TE_fold\", \"Pass\")"
   ]
  },
  {
   "cell_type": "code",
   "execution_count": 56,
   "metadata": {
    "vscode": {
     "languageId": "r"
    }
   },
   "outputs": [
    {
     "data": {
      "text/html": [
       "<table class=\"dataframe\">\n",
       "<caption>A data.frame: 6 x 19</caption>\n",
       "<thead>\n",
       "\t<tr><th></th><th scope=col>Patient</th><th scope=col>cycle</th><th scope=col>Age</th><th scope=col>Disease_type</th><th scope=col>TE_fold</th><th scope=col>Pass</th><th scope=col>CD3</th><th scope=col>EM</th><th scope=col>CM</th><th scope=col>Naïve</th><th scope=col>SCM</th><th scope=col>TE</th><th scope=col>EM%</th><th scope=col>CM%</th><th scope=col>Naïve%</th><th scope=col>SCM%</th><th scope=col>TE%</th><th scope=col>Naïve/TE</th><th scope=col>N+CM+SCM/TE+EM</th></tr>\n",
       "\t<tr><th></th><th scope=col>&lt;int&gt;</th><th scope=col>&lt;chr&gt;</th><th scope=col>&lt;dbl&gt;</th><th scope=col>&lt;chr&gt;</th><th scope=col>&lt;chr&gt;</th><th scope=col>&lt;int&gt;</th><th scope=col>&lt;int&gt;</th><th scope=col>&lt;chr&gt;</th><th scope=col>&lt;chr&gt;</th><th scope=col>&lt;chr&gt;</th><th scope=col>&lt;chr&gt;</th><th scope=col>&lt;chr&gt;</th><th scope=col>&lt;dbl&gt;</th><th scope=col>&lt;dbl&gt;</th><th scope=col>&lt;dbl&gt;</th><th scope=col>&lt;dbl&gt;</th><th scope=col>&lt;dbl&gt;</th><th scope=col>&lt;dbl&gt;</th><th scope=col>&lt;dbl&gt;</th></tr>\n",
       "</thead>\n",
       "<tbody>\n",
       "\t<tr><th scope=row>220</th><td>319</td><td>01</td><td> 1</td><td>HR ALL</td><td>1.4</td><td>NA</td><td>0</td><td>NA</td><td>NA</td><td>NA</td><td>NA</td><td>NA</td><td>NA</td><td>NA</td><td>NA</td><td>NA</td><td>NA</td><td>NA</td><td>NA</td></tr>\n",
       "\t<tr><th scope=row>221</th><td>320</td><td>01</td><td> 6</td><td>AML   </td><td>8.9</td><td>NA</td><td>0</td><td>NA</td><td>NA</td><td>NA</td><td>NA</td><td>NA</td><td>NA</td><td>NA</td><td>NA</td><td>NA</td><td>NA</td><td>NA</td><td>NA</td></tr>\n",
       "\t<tr><th scope=row>222</th><td>321</td><td>01</td><td>16</td><td>HD    </td><td>0  </td><td>NA</td><td>0</td><td>NA</td><td>NA</td><td>NA</td><td>NA</td><td>NA</td><td>NA</td><td>NA</td><td>NA</td><td>NA</td><td>NA</td><td>NA</td><td>NA</td></tr>\n",
       "\t<tr><th scope=row>223</th><td>322</td><td>01</td><td>18</td><td>DLBCL </td><td>1.1</td><td>NA</td><td>0</td><td>NA</td><td>NA</td><td>NA</td><td>NA</td><td>NA</td><td>NA</td><td>NA</td><td>NA</td><td>NA</td><td>NA</td><td>NA</td><td>NA</td></tr>\n",
       "\t<tr><th scope=row>224</th><td>323</td><td>01</td><td> 1</td><td>HR ALL</td><td>0  </td><td>NA</td><td>0</td><td>NA</td><td>NA</td><td>NA</td><td>NA</td><td>NA</td><td>NA</td><td>NA</td><td>NA</td><td>NA</td><td>NA</td><td>NA</td><td>NA</td></tr>\n",
       "\t<tr><th scope=row>225</th><td>324</td><td>01</td><td>12</td><td>T-ALL </td><td>0  </td><td>NA</td><td>0</td><td>NA</td><td>NA</td><td>NA</td><td>NA</td><td>NA</td><td>NA</td><td>NA</td><td>NA</td><td>NA</td><td>NA</td><td>NA</td><td>NA</td></tr>\n",
       "</tbody>\n",
       "</table>\n"
      ],
      "text/latex": [
       "A data.frame: 6 x 19\n",
       "\\begin{tabular}{r|lllllllllllllllllll}\n",
       "  & Patient & cycle & Age & Disease\\_type & TE\\_fold & Pass & CD3 & EM & CM & Naïve & SCM & TE & EM\\% & CM\\% & Naïve\\% & SCM\\% & TE\\% & Naïve/TE & N+CM+SCM/TE+EM\\\\\n",
       "  & <int> & <chr> & <dbl> & <chr> & <chr> & <int> & <int> & <chr> & <chr> & <chr> & <chr> & <chr> & <dbl> & <dbl> & <dbl> & <dbl> & <dbl> & <dbl> & <dbl>\\\\\n",
       "\\hline\n",
       "\t220 & 319 & 01 &  1 & HR ALL & 1.4 & NA & 0 & NA & NA & NA & NA & NA & NA & NA & NA & NA & NA & NA & NA\\\\\n",
       "\t221 & 320 & 01 &  6 & AML    & 8.9 & NA & 0 & NA & NA & NA & NA & NA & NA & NA & NA & NA & NA & NA & NA\\\\\n",
       "\t222 & 321 & 01 & 16 & HD     & 0   & NA & 0 & NA & NA & NA & NA & NA & NA & NA & NA & NA & NA & NA & NA\\\\\n",
       "\t223 & 322 & 01 & 18 & DLBCL  & 1.1 & NA & 0 & NA & NA & NA & NA & NA & NA & NA & NA & NA & NA & NA & NA\\\\\n",
       "\t224 & 323 & 01 &  1 & HR ALL & 0   & NA & 0 & NA & NA & NA & NA & NA & NA & NA & NA & NA & NA & NA & NA\\\\\n",
       "\t225 & 324 & 01 & 12 & T-ALL  & 0   & NA & 0 & NA & NA & NA & NA & NA & NA & NA & NA & NA & NA & NA & NA\\\\\n",
       "\\end{tabular}\n"
      ],
      "text/markdown": [
       "\n",
       "A data.frame: 6 x 19\n",
       "\n",
       "| <!--/--> | Patient &lt;int&gt; | cycle &lt;chr&gt; | Age &lt;dbl&gt; | Disease_type &lt;chr&gt; | TE_fold &lt;chr&gt; | Pass &lt;int&gt; | CD3 &lt;int&gt; | EM &lt;chr&gt; | CM &lt;chr&gt; | Naïve &lt;chr&gt; | SCM &lt;chr&gt; | TE &lt;chr&gt; | EM% &lt;dbl&gt; | CM% &lt;dbl&gt; | Naïve% &lt;dbl&gt; | SCM% &lt;dbl&gt; | TE% &lt;dbl&gt; | Naïve/TE &lt;dbl&gt; | N+CM+SCM/TE+EM &lt;dbl&gt; |\n",
       "|---|---|---|---|---|---|---|---|---|---|---|---|---|---|---|---|---|---|---|---|\n",
       "| 220 | 319 | 01 |  1 | HR ALL | 1.4 | NA | 0 | NA | NA | NA | NA | NA | NA | NA | NA | NA | NA | NA | NA |\n",
       "| 221 | 320 | 01 |  6 | AML    | 8.9 | NA | 0 | NA | NA | NA | NA | NA | NA | NA | NA | NA | NA | NA | NA |\n",
       "| 222 | 321 | 01 | 16 | HD     | 0   | NA | 0 | NA | NA | NA | NA | NA | NA | NA | NA | NA | NA | NA | NA |\n",
       "| 223 | 322 | 01 | 18 | DLBCL  | 1.1 | NA | 0 | NA | NA | NA | NA | NA | NA | NA | NA | NA | NA | NA | NA |\n",
       "| 224 | 323 | 01 |  1 | HR ALL | 0   | NA | 0 | NA | NA | NA | NA | NA | NA | NA | NA | NA | NA | NA | NA |\n",
       "| 225 | 324 | 01 | 12 | T-ALL  | 0   | NA | 0 | NA | NA | NA | NA | NA | NA | NA | NA | NA | NA | NA | NA |\n",
       "\n"
      ],
      "text/plain": [
       "    Patient cycle Age Disease_type TE_fold Pass CD3 EM CM Naïve SCM TE EM% CM%\n",
       "220 319     01     1  HR ALL       1.4     NA   0   NA NA NA    NA  NA NA  NA \n",
       "221 320     01     6  AML          8.9     NA   0   NA NA NA    NA  NA NA  NA \n",
       "222 321     01    16  HD           0       NA   0   NA NA NA    NA  NA NA  NA \n",
       "223 322     01    18  DLBCL        1.1     NA   0   NA NA NA    NA  NA NA  NA \n",
       "224 323     01     1  HR ALL       0       NA   0   NA NA NA    NA  NA NA  NA \n",
       "225 324     01    12  T-ALL        0       NA   0   NA NA NA    NA  NA NA  NA \n",
       "    Naïve% SCM% TE% Naïve/TE N+CM+SCM/TE+EM\n",
       "220 NA     NA   NA  NA       NA            \n",
       "221 NA     NA   NA  NA       NA            \n",
       "222 NA     NA   NA  NA       NA            \n",
       "223 NA     NA   NA  NA       NA            \n",
       "224 NA     NA   NA  NA       NA            \n",
       "225 NA     NA   NA  NA       NA            "
      ]
     },
     "metadata": {},
     "output_type": "display_data"
    }
   ],
   "source": [
    "head(myTcellsdf)"
   ]
  },
  {
   "cell_type": "code",
   "execution_count": 57,
   "metadata": {
    "vscode": {
     "languageId": "r"
    }
   },
   "outputs": [],
   "source": [
    "# x = NA\n",
    "myTcellsdf$EM <- gsub(\"x\", NA, myTcellsdf$EM)\n",
    "myTcellsdf$CM <- gsub(\"x\", NA, myTcellsdf$CM)\n",
    "myTcellsdf$SCM <- gsub(\"x\", NA, myTcellsdf$SCM)\n",
    "myTcellsdf$`Naïve` <- gsub(\"x\", NA, myTcellsdf$`Naïve`)\n",
    "myTcellsdf$TE <- gsub(\"x\", NA, myTcellsdf$TE)"
   ]
  },
  {
   "cell_type": "code",
   "execution_count": 58,
   "metadata": {
    "vscode": {
     "languageId": "r"
    }
   },
   "outputs": [],
   "source": [
    "# make the following columns as.numeric: EM, CM, SCM, Naïve, TE\n",
    "myTcellsdf$EM <- as.numeric(myTcellsdf$EM)\n",
    "myTcellsdf$CM <- as.numeric(myTcellsdf$CM)\n",
    "myTcellsdf$SCM <- as.numeric(myTcellsdf$SCM)\n",
    "myTcellsdf$`Naïve` <- as.numeric(myTcellsdf$`Naïve`)\n",
    "myTcellsdf$TE <- as.numeric(myTcellsdf$TE)"
   ]
  },
  {
   "cell_type": "code",
   "execution_count": 59,
   "metadata": {
    "vscode": {
     "languageId": "r"
    }
   },
   "outputs": [],
   "source": [
    "write.csv(myTcellsdf,file = paste0(datapath, \"Tcells_df.csv\"), row.names = F)"
   ]
  },
  {
   "attachments": {},
   "cell_type": "markdown",
   "metadata": {},
   "source": [
    "## Create master table for clinical and flow data"
   ]
  },
  {
   "cell_type": "code",
   "execution_count": 60,
   "metadata": {
    "vscode": {
     "languageId": "r"
    }
   },
   "outputs": [],
   "source": [
    "Tcells <- read.csv(paste0(datapath, \"Tcells_df.csv\"),\n",
    "                 header = T, stringsAsFactors = F,check.names = F)"
   ]
  },
  {
   "cell_type": "code",
   "execution_count": 61,
   "metadata": {
    "vscode": {
     "languageId": "r"
    }
   },
   "outputs": [],
   "source": [
    "NCRs <- read.csv(paste0(datapath, \"NCR_df.csv\"),\n",
    "                 header = T, stringsAsFactors = F,check.names = F)"
   ]
  },
  {
   "cell_type": "code",
   "execution_count": 62,
   "metadata": {
    "vscode": {
     "languageId": "r"
    }
   },
   "outputs": [],
   "source": [
    "ATCs <- read.csv(paste0(datapath, \"ATC_df.csv\"),\n",
    "                 header = T, stringsAsFactors = F,check.names = F)"
   ]
  },
  {
   "cell_type": "code",
   "execution_count": 63,
   "metadata": {
    "vscode": {
     "languageId": "r"
    }
   },
   "outputs": [],
   "source": [
    "ATC_Tcells <- merge(ATCs, Tcells, by = c(\"Patient\", \"cycle\"))"
   ]
  },
  {
   "cell_type": "code",
   "execution_count": 64,
   "metadata": {
    "vscode": {
     "languageId": "r"
    }
   },
   "outputs": [
    {
     "data": {
      "text/html": [
       "<style>\n",
       ".list-inline {list-style: none; margin:0; padding: 0}\n",
       ".list-inline>li {display: inline-block}\n",
       ".list-inline>li:not(:last-child)::after {content: \"\\00b7\"; padding: 0 .5ex}\n",
       "</style>\n",
       "<ol class=list-inline><li>595</li><li>4</li></ol>\n"
      ],
      "text/latex": [
       "\\begin{enumerate*}\n",
       "\\item 595\n",
       "\\item 4\n",
       "\\end{enumerate*}\n"
      ],
      "text/markdown": [
       "1. 595\n",
       "2. 4\n",
       "\n",
       "\n"
      ],
      "text/plain": [
       "[1] 595   4"
      ]
     },
     "metadata": {},
     "output_type": "display_data"
    },
    {
     "data": {
      "text/html": [
       "<style>\n",
       ".list-inline {list-style: none; margin:0; padding: 0}\n",
       ".list-inline>li {display: inline-block}\n",
       ".list-inline>li:not(:last-child)::after {content: \"\\00b7\"; padding: 0 .5ex}\n",
       "</style>\n",
       "<ol class=list-inline><li>595</li><li>19</li></ol>\n"
      ],
      "text/latex": [
       "\\begin{enumerate*}\n",
       "\\item 595\n",
       "\\item 19\n",
       "\\end{enumerate*}\n"
      ],
      "text/markdown": [
       "1. 595\n",
       "2. 19\n",
       "\n",
       "\n"
      ],
      "text/plain": [
       "[1] 595  19"
      ]
     },
     "metadata": {},
     "output_type": "display_data"
    },
    {
     "data": {
      "text/html": [
       "<style>\n",
       ".list-inline {list-style: none; margin:0; padding: 0}\n",
       ".list-inline>li {display: inline-block}\n",
       ".list-inline>li:not(:last-child)::after {content: \"\\00b7\"; padding: 0 .5ex}\n",
       "</style>\n",
       "<ol class=list-inline><li>595</li><li>21</li></ol>\n"
      ],
      "text/latex": [
       "\\begin{enumerate*}\n",
       "\\item 595\n",
       "\\item 21\n",
       "\\end{enumerate*}\n"
      ],
      "text/markdown": [
       "1. 595\n",
       "2. 21\n",
       "\n",
       "\n"
      ],
      "text/plain": [
       "[1] 595  21"
      ]
     },
     "metadata": {},
     "output_type": "display_data"
    }
   ],
   "source": [
    "dim(ATCs)\n",
    "dim(Tcells)\n",
    "dim(ATC_Tcells)"
   ]
  },
  {
   "cell_type": "code",
   "execution_count": 65,
   "metadata": {
    "vscode": {
     "languageId": "r"
    }
   },
   "outputs": [
    {
     "data": {
      "text/html": [
       "<table class=\"dataframe\">\n",
       "<caption>A data.frame: 6 x 21</caption>\n",
       "<thead>\n",
       "\t<tr><th></th><th scope=col>Patient</th><th scope=col>cycle</th><th scope=col>FOLD</th><th scope=col>ATC</th><th scope=col>Age</th><th scope=col>Disease_type</th><th scope=col>TE_fold</th><th scope=col>Pass</th><th scope=col>CD3</th><th scope=col>EM</th><th scope=col>...</th><th scope=col>Naïve</th><th scope=col>SCM</th><th scope=col>TE</th><th scope=col>EM%</th><th scope=col>CM%</th><th scope=col>Naïve%</th><th scope=col>SCM%</th><th scope=col>TE%</th><th scope=col>Naïve/TE</th><th scope=col>N+CM+SCM/TE+EM</th></tr>\n",
       "\t<tr><th></th><th scope=col>&lt;int&gt;</th><th scope=col>&lt;int&gt;</th><th scope=col>&lt;chr&gt;</th><th scope=col>&lt;dbl&gt;</th><th scope=col>&lt;dbl&gt;</th><th scope=col>&lt;chr&gt;</th><th scope=col>&lt;chr&gt;</th><th scope=col>&lt;lgl&gt;</th><th scope=col>&lt;int&gt;</th><th scope=col>&lt;int&gt;</th><th scope=col>...</th><th scope=col>&lt;int&gt;</th><th scope=col>&lt;int&gt;</th><th scope=col>&lt;int&gt;</th><th scope=col>&lt;dbl&gt;</th><th scope=col>&lt;dbl&gt;</th><th scope=col>&lt;dbl&gt;</th><th scope=col>&lt;dbl&gt;</th><th scope=col>&lt;dbl&gt;</th><th scope=col>&lt;dbl&gt;</th><th scope=col>&lt;dbl&gt;</th></tr>\n",
       "</thead>\n",
       "<tbody>\n",
       "\t<tr><th scope=row>1</th><td>319</td><td>1</td><td>1.4</td><td>0</td><td>1</td><td>HR ALL</td><td>1.4</td><td>NA</td><td>0</td><td>NA</td><td>...</td><td>NA</td><td>NA</td><td>NA</td><td>NA</td><td>NA</td><td>NA</td><td>NA</td><td>NA</td><td>NA</td><td>NA</td></tr>\n",
       "\t<tr><th scope=row>2</th><td>319</td><td>2</td><td>7.9</td><td>0</td><td>1</td><td>HR ALL</td><td>7.9</td><td>NA</td><td>0</td><td>NA</td><td>...</td><td>NA</td><td>NA</td><td>NA</td><td>NA</td><td>NA</td><td>NA</td><td>NA</td><td>NA</td><td>NA</td><td>NA</td></tr>\n",
       "\t<tr><th scope=row>3</th><td>319</td><td>3</td><td>1.8</td><td>0</td><td>1</td><td>HR ALL</td><td>1.8</td><td>NA</td><td>0</td><td>NA</td><td>...</td><td>NA</td><td>NA</td><td>NA</td><td>NA</td><td>NA</td><td>NA</td><td>NA</td><td>NA</td><td>NA</td><td>NA</td></tr>\n",
       "\t<tr><th scope=row>4</th><td>319</td><td>4</td><td>1.5</td><td>0</td><td>1</td><td>HR ALL</td><td>1.5</td><td>NA</td><td>0</td><td>NA</td><td>...</td><td>NA</td><td>NA</td><td>NA</td><td>NA</td><td>NA</td><td>NA</td><td>NA</td><td>NA</td><td>NA</td><td>NA</td></tr>\n",
       "\t<tr><th scope=row>5</th><td>319</td><td>5</td><td>1.2</td><td>0</td><td>1</td><td>HR ALL</td><td>1.2</td><td>NA</td><td>0</td><td>NA</td><td>...</td><td>NA</td><td>NA</td><td>NA</td><td>NA</td><td>NA</td><td>NA</td><td>NA</td><td>NA</td><td>NA</td><td>NA</td></tr>\n",
       "\t<tr><th scope=row>6</th><td>320</td><td>1</td><td>8.9</td><td>0</td><td>6</td><td>AML   </td><td>8.9</td><td>NA</td><td>0</td><td>NA</td><td>...</td><td>NA</td><td>NA</td><td>NA</td><td>NA</td><td>NA</td><td>NA</td><td>NA</td><td>NA</td><td>NA</td><td>NA</td></tr>\n",
       "</tbody>\n",
       "</table>\n"
      ],
      "text/latex": [
       "A data.frame: 6 x 21\n",
       "\\begin{tabular}{r|lllllllllllllllllllll}\n",
       "  & Patient & cycle & FOLD & ATC & Age & Disease\\_type & TE\\_fold & Pass & CD3 & EM & ... & Naïve & SCM & TE & EM\\% & CM\\% & Naïve\\% & SCM\\% & TE\\% & Naïve/TE & N+CM+SCM/TE+EM\\\\\n",
       "  & <int> & <int> & <chr> & <dbl> & <dbl> & <chr> & <chr> & <lgl> & <int> & <int> & ... & <int> & <int> & <int> & <dbl> & <dbl> & <dbl> & <dbl> & <dbl> & <dbl> & <dbl>\\\\\n",
       "\\hline\n",
       "\t1 & 319 & 1 & 1.4 & 0 & 1 & HR ALL & 1.4 & NA & 0 & NA & ... & NA & NA & NA & NA & NA & NA & NA & NA & NA & NA\\\\\n",
       "\t2 & 319 & 2 & 7.9 & 0 & 1 & HR ALL & 7.9 & NA & 0 & NA & ... & NA & NA & NA & NA & NA & NA & NA & NA & NA & NA\\\\\n",
       "\t3 & 319 & 3 & 1.8 & 0 & 1 & HR ALL & 1.8 & NA & 0 & NA & ... & NA & NA & NA & NA & NA & NA & NA & NA & NA & NA\\\\\n",
       "\t4 & 319 & 4 & 1.5 & 0 & 1 & HR ALL & 1.5 & NA & 0 & NA & ... & NA & NA & NA & NA & NA & NA & NA & NA & NA & NA\\\\\n",
       "\t5 & 319 & 5 & 1.2 & 0 & 1 & HR ALL & 1.2 & NA & 0 & NA & ... & NA & NA & NA & NA & NA & NA & NA & NA & NA & NA\\\\\n",
       "\t6 & 320 & 1 & 8.9 & 0 & 6 & AML    & 8.9 & NA & 0 & NA & ... & NA & NA & NA & NA & NA & NA & NA & NA & NA & NA\\\\\n",
       "\\end{tabular}\n"
      ],
      "text/markdown": [
       "\n",
       "A data.frame: 6 x 21\n",
       "\n",
       "| <!--/--> | Patient &lt;int&gt; | cycle &lt;int&gt; | FOLD &lt;chr&gt; | ATC &lt;dbl&gt; | Age &lt;dbl&gt; | Disease_type &lt;chr&gt; | TE_fold &lt;chr&gt; | Pass &lt;lgl&gt; | CD3 &lt;int&gt; | EM &lt;int&gt; | ... ... | Naïve &lt;int&gt; | SCM &lt;int&gt; | TE &lt;int&gt; | EM% &lt;dbl&gt; | CM% &lt;dbl&gt; | Naïve% &lt;dbl&gt; | SCM% &lt;dbl&gt; | TE% &lt;dbl&gt; | Naïve/TE &lt;dbl&gt; | N+CM+SCM/TE+EM &lt;dbl&gt; |\n",
       "|---|---|---|---|---|---|---|---|---|---|---|---|---|---|---|---|---|---|---|---|---|---|\n",
       "| 1 | 319 | 1 | 1.4 | 0 | 1 | HR ALL | 1.4 | NA | 0 | NA | ... | NA | NA | NA | NA | NA | NA | NA | NA | NA | NA |\n",
       "| 2 | 319 | 2 | 7.9 | 0 | 1 | HR ALL | 7.9 | NA | 0 | NA | ... | NA | NA | NA | NA | NA | NA | NA | NA | NA | NA |\n",
       "| 3 | 319 | 3 | 1.8 | 0 | 1 | HR ALL | 1.8 | NA | 0 | NA | ... | NA | NA | NA | NA | NA | NA | NA | NA | NA | NA |\n",
       "| 4 | 319 | 4 | 1.5 | 0 | 1 | HR ALL | 1.5 | NA | 0 | NA | ... | NA | NA | NA | NA | NA | NA | NA | NA | NA | NA |\n",
       "| 5 | 319 | 5 | 1.2 | 0 | 1 | HR ALL | 1.2 | NA | 0 | NA | ... | NA | NA | NA | NA | NA | NA | NA | NA | NA | NA |\n",
       "| 6 | 320 | 1 | 8.9 | 0 | 6 | AML    | 8.9 | NA | 0 | NA | ... | NA | NA | NA | NA | NA | NA | NA | NA | NA | NA |\n",
       "\n"
      ],
      "text/plain": [
       "  Patient cycle FOLD ATC Age Disease_type TE_fold Pass CD3 EM ... Naïve SCM TE\n",
       "1 319     1     1.4  0   1   HR ALL       1.4     NA   0   NA ... NA    NA  NA\n",
       "2 319     2     7.9  0   1   HR ALL       7.9     NA   0   NA ... NA    NA  NA\n",
       "3 319     3     1.8  0   1   HR ALL       1.8     NA   0   NA ... NA    NA  NA\n",
       "4 319     4     1.5  0   1   HR ALL       1.5     NA   0   NA ... NA    NA  NA\n",
       "5 319     5     1.2  0   1   HR ALL       1.2     NA   0   NA ... NA    NA  NA\n",
       "6 320     1     8.9  0   6   AML          8.9     NA   0   NA ... NA    NA  NA\n",
       "  EM% CM% Naïve% SCM% TE% Naïve/TE N+CM+SCM/TE+EM\n",
       "1 NA  NA  NA     NA   NA  NA       NA            \n",
       "2 NA  NA  NA     NA   NA  NA       NA            \n",
       "3 NA  NA  NA     NA   NA  NA       NA            \n",
       "4 NA  NA  NA     NA   NA  NA       NA            \n",
       "5 NA  NA  NA     NA   NA  NA       NA            \n",
       "6 NA  NA  NA     NA   NA  NA       NA            "
      ]
     },
     "metadata": {},
     "output_type": "display_data"
    }
   ],
   "source": [
    "head(ATC_Tcells)"
   ]
  },
  {
   "cell_type": "code",
   "execution_count": 66,
   "metadata": {
    "vscode": {
     "languageId": "r"
    }
   },
   "outputs": [],
   "source": [
    "# CD3 entry in Tcells are the correct values\n",
    "ATC_Tcells_NCR <- merge(ATC_Tcells, NCRs[,!colnames(NCRs)%in% c(\"Disease_type\", \"Age\", \"TE_fold\", \"Pass\", \"CD3\")], by = c(\"Patient\", \"cycle\"))"
   ]
  },
  {
   "cell_type": "code",
   "execution_count": 67,
   "metadata": {
    "vscode": {
     "languageId": "r"
    }
   },
   "outputs": [],
   "source": [
    "ATC_Tcells_NCR$Pass <- NULL"
   ]
  },
  {
   "attachments": {},
   "cell_type": "markdown",
   "metadata": {},
   "source": [
    "generate percentages"
   ]
  },
  {
   "cell_type": "code",
   "execution_count": 68,
   "metadata": {
    "vscode": {
     "languageId": "r"
    }
   },
   "outputs": [],
   "source": [
    "ATC_Tcells_NCR$`EM%` <- (ATC_Tcells_NCR$EM/ATC_Tcells_NCR$CD3)* 100\n",
    "ATC_Tcells_NCR$`CM%` <- (ATC_Tcells_NCR$CM/ATC_Tcells_NCR$CD3)* 100\n",
    "ATC_Tcells_NCR$`SCM%` <- (ATC_Tcells_NCR$SCM/ATC_Tcells_NCR$CD3)* 100\n",
    "ATC_Tcells_NCR$`TE%` <- (ATC_Tcells_NCR$TE/ATC_Tcells_NCR$CD3)* 100\n",
    "ATC_Tcells_NCR$`Naïve%` <- (ATC_Tcells_NCR$`Naïve`/ATC_Tcells_NCR$CD3)* 100\n",
    "\n",
    "ATC_Tcells_NCR$`Naïve/TE` <- ATC_Tcells_NCR$`Naïve`/ATC_Tcells_NCR$TE\n",
    "ATC_Tcells_NCR$`N+CM+SCM/TE+EM` <- (ATC_Tcells_NCR$`Naïve`+ ATC_Tcells_NCR$CM + ATC_Tcells_NCR$SCM)/(ATC_Tcells_NCR$TE + ATC_Tcells_NCR$EM) "
   ]
  },
  {
   "cell_type": "code",
   "execution_count": 69,
   "metadata": {
    "vscode": {
     "languageId": "r"
    }
   },
   "outputs": [],
   "source": [
    "ATC_Tcells_NCR$`PD1%` <- (ATC_Tcells_NCR$`PD-1`/ATC_Tcells_NCR$CD3)* 100\n",
    "ATC_Tcells_NCR$`PDL1%` <- (ATC_Tcells_NCR$PDL1/ATC_Tcells_NCR$CD3)* 100\n",
    "ATC_Tcells_NCR$`LAG3%` <- (ATC_Tcells_NCR$LAG3/ATC_Tcells_NCR$CD3)* 100\n",
    "ATC_Tcells_NCR$`TIM3%` <- (ATC_Tcells_NCR$TIM3/ATC_Tcells_NCR$CD3)* 100\n",
    "ATC_Tcells_NCR$`CTLA4%` <- (ATC_Tcells_NCR$CTLA4/ATC_Tcells_NCR$CD3)* 100"
   ]
  },
  {
   "cell_type": "code",
   "execution_count": 70,
   "metadata": {
    "vscode": {
     "languageId": "r"
    }
   },
   "outputs": [],
   "source": [
    "ATC_Tcells_NCR$FOLD[ATC_Tcells_NCR$FOLD == \"x\"] <- NA\n",
    "ATC_Tcells_NCR$FOLD[ATC_Tcells_NCR$FOLD == \"X\"] <- NA\n",
    "ATC_Tcells_NCR$TE_fold[ATC_Tcells_NCR$TE_fold == \"x\"] <- NA\n",
    "ATC_Tcells_NCR$TE_fold[ATC_Tcells_NCR$TE_fold == \"X\"] <- NA"
   ]
  },
  {
   "cell_type": "code",
   "execution_count": 71,
   "metadata": {
    "vscode": {
     "languageId": "r"
    }
   },
   "outputs": [],
   "source": [
    "ATC_Tcells_NCR$FOLD <- as.numeric(ATC_Tcells_NCR$FOLD)\n",
    "ATC_Tcells_NCR$TE_fold <- as.numeric(ATC_Tcells_NCR$TE_fold)"
   ]
  },
  {
   "cell_type": "code",
   "execution_count": 72,
   "metadata": {
    "vscode": {
     "languageId": "r"
    }
   },
   "outputs": [
    {
     "data": {
      "text/html": [
       "<table class=\"dataframe\">\n",
       "<caption>A data.frame: 6 x 32</caption>\n",
       "<thead>\n",
       "\t<tr><th></th><th scope=col>Patient</th><th scope=col>cycle</th><th scope=col>FOLD</th><th scope=col>ATC</th><th scope=col>Age</th><th scope=col>Disease_type</th><th scope=col>TE_fold</th><th scope=col>CD3</th><th scope=col>EM</th><th scope=col>CM</th><th scope=col>...</th><th scope=col>LAG3</th><th scope=col>TIM3</th><th scope=col>CTLA4</th><th scope=col>PD1%</th><th scope=col>PDL1%</th><th scope=col>LAG3%</th><th scope=col>TIM3%</th><th scope=col>CTLA4%</th><th scope=col>Any NCR</th><th scope=col>PD1 + LAG3 + TIM3</th></tr>\n",
       "\t<tr><th></th><th scope=col>&lt;int&gt;</th><th scope=col>&lt;int&gt;</th><th scope=col>&lt;dbl&gt;</th><th scope=col>&lt;dbl&gt;</th><th scope=col>&lt;dbl&gt;</th><th scope=col>&lt;chr&gt;</th><th scope=col>&lt;dbl&gt;</th><th scope=col>&lt;int&gt;</th><th scope=col>&lt;int&gt;</th><th scope=col>&lt;int&gt;</th><th scope=col>...</th><th scope=col>&lt;int&gt;</th><th scope=col>&lt;int&gt;</th><th scope=col>&lt;int&gt;</th><th scope=col>&lt;dbl&gt;</th><th scope=col>&lt;dbl&gt;</th><th scope=col>&lt;dbl&gt;</th><th scope=col>&lt;dbl&gt;</th><th scope=col>&lt;dbl&gt;</th><th scope=col>&lt;dbl&gt;</th><th scope=col>&lt;dbl&gt;</th></tr>\n",
       "</thead>\n",
       "<tbody>\n",
       "\t<tr><th scope=row>1</th><td>319</td><td>1</td><td>1.4</td><td>0</td><td>1</td><td>HR ALL</td><td>1.4</td><td>0</td><td>NA</td><td>NA</td><td>...</td><td>NA</td><td>NA</td><td>NA</td><td>NA</td><td>NA</td><td>NA</td><td>NA</td><td>NA</td><td>NA</td><td>NA</td></tr>\n",
       "\t<tr><th scope=row>2</th><td>319</td><td>2</td><td>7.9</td><td>0</td><td>1</td><td>HR ALL</td><td>7.9</td><td>0</td><td>NA</td><td>NA</td><td>...</td><td>NA</td><td>NA</td><td>NA</td><td>NA</td><td>NA</td><td>NA</td><td>NA</td><td>NA</td><td>NA</td><td>NA</td></tr>\n",
       "\t<tr><th scope=row>3</th><td>319</td><td>3</td><td>1.8</td><td>0</td><td>1</td><td>HR ALL</td><td>1.8</td><td>0</td><td>NA</td><td>NA</td><td>...</td><td>NA</td><td>NA</td><td>NA</td><td>NA</td><td>NA</td><td>NA</td><td>NA</td><td>NA</td><td>NA</td><td>NA</td></tr>\n",
       "\t<tr><th scope=row>4</th><td>319</td><td>4</td><td>1.5</td><td>0</td><td>1</td><td>HR ALL</td><td>1.5</td><td>0</td><td>NA</td><td>NA</td><td>...</td><td>NA</td><td>NA</td><td>NA</td><td>NA</td><td>NA</td><td>NA</td><td>NA</td><td>NA</td><td>NA</td><td>NA</td></tr>\n",
       "\t<tr><th scope=row>5</th><td>319</td><td>5</td><td>1.2</td><td>0</td><td>1</td><td>HR ALL</td><td>1.2</td><td>0</td><td>NA</td><td>NA</td><td>...</td><td>NA</td><td>NA</td><td>NA</td><td>NA</td><td>NA</td><td>NA</td><td>NA</td><td>NA</td><td>NA</td><td>NA</td></tr>\n",
       "\t<tr><th scope=row>6</th><td>320</td><td>1</td><td>8.9</td><td>0</td><td>6</td><td>AML   </td><td>8.9</td><td>0</td><td>NA</td><td>NA</td><td>...</td><td>NA</td><td>NA</td><td>NA</td><td>NA</td><td>NA</td><td>NA</td><td>NA</td><td>NA</td><td>NA</td><td>NA</td></tr>\n",
       "</tbody>\n",
       "</table>\n"
      ],
      "text/latex": [
       "A data.frame: 6 x 32\n",
       "\\begin{tabular}{r|lllllllllllllllllllll}\n",
       "  & Patient & cycle & FOLD & ATC & Age & Disease\\_type & TE\\_fold & CD3 & EM & CM & ... & LAG3 & TIM3 & CTLA4 & PD1\\% & PDL1\\% & LAG3\\% & TIM3\\% & CTLA4\\% & Any NCR & PD1 + LAG3 + TIM3\\\\\n",
       "  & <int> & <int> & <dbl> & <dbl> & <dbl> & <chr> & <dbl> & <int> & <int> & <int> & ... & <int> & <int> & <int> & <dbl> & <dbl> & <dbl> & <dbl> & <dbl> & <dbl> & <dbl>\\\\\n",
       "\\hline\n",
       "\t1 & 319 & 1 & 1.4 & 0 & 1 & HR ALL & 1.4 & 0 & NA & NA & ... & NA & NA & NA & NA & NA & NA & NA & NA & NA & NA\\\\\n",
       "\t2 & 319 & 2 & 7.9 & 0 & 1 & HR ALL & 7.9 & 0 & NA & NA & ... & NA & NA & NA & NA & NA & NA & NA & NA & NA & NA\\\\\n",
       "\t3 & 319 & 3 & 1.8 & 0 & 1 & HR ALL & 1.8 & 0 & NA & NA & ... & NA & NA & NA & NA & NA & NA & NA & NA & NA & NA\\\\\n",
       "\t4 & 319 & 4 & 1.5 & 0 & 1 & HR ALL & 1.5 & 0 & NA & NA & ... & NA & NA & NA & NA & NA & NA & NA & NA & NA & NA\\\\\n",
       "\t5 & 319 & 5 & 1.2 & 0 & 1 & HR ALL & 1.2 & 0 & NA & NA & ... & NA & NA & NA & NA & NA & NA & NA & NA & NA & NA\\\\\n",
       "\t6 & 320 & 1 & 8.9 & 0 & 6 & AML    & 8.9 & 0 & NA & NA & ... & NA & NA & NA & NA & NA & NA & NA & NA & NA & NA\\\\\n",
       "\\end{tabular}\n"
      ],
      "text/markdown": [
       "\n",
       "A data.frame: 6 x 32\n",
       "\n",
       "| <!--/--> | Patient &lt;int&gt; | cycle &lt;int&gt; | FOLD &lt;dbl&gt; | ATC &lt;dbl&gt; | Age &lt;dbl&gt; | Disease_type &lt;chr&gt; | TE_fold &lt;dbl&gt; | CD3 &lt;int&gt; | EM &lt;int&gt; | CM &lt;int&gt; | ... ... | LAG3 &lt;int&gt; | TIM3 &lt;int&gt; | CTLA4 &lt;int&gt; | PD1% &lt;dbl&gt; | PDL1% &lt;dbl&gt; | LAG3% &lt;dbl&gt; | TIM3% &lt;dbl&gt; | CTLA4% &lt;dbl&gt; | Any NCR &lt;dbl&gt; | PD1 + LAG3 + TIM3 &lt;dbl&gt; |\n",
       "|---|---|---|---|---|---|---|---|---|---|---|---|---|---|---|---|---|---|---|---|---|---|\n",
       "| 1 | 319 | 1 | 1.4 | 0 | 1 | HR ALL | 1.4 | 0 | NA | NA | ... | NA | NA | NA | NA | NA | NA | NA | NA | NA | NA |\n",
       "| 2 | 319 | 2 | 7.9 | 0 | 1 | HR ALL | 7.9 | 0 | NA | NA | ... | NA | NA | NA | NA | NA | NA | NA | NA | NA | NA |\n",
       "| 3 | 319 | 3 | 1.8 | 0 | 1 | HR ALL | 1.8 | 0 | NA | NA | ... | NA | NA | NA | NA | NA | NA | NA | NA | NA | NA |\n",
       "| 4 | 319 | 4 | 1.5 | 0 | 1 | HR ALL | 1.5 | 0 | NA | NA | ... | NA | NA | NA | NA | NA | NA | NA | NA | NA | NA |\n",
       "| 5 | 319 | 5 | 1.2 | 0 | 1 | HR ALL | 1.2 | 0 | NA | NA | ... | NA | NA | NA | NA | NA | NA | NA | NA | NA | NA |\n",
       "| 6 | 320 | 1 | 8.9 | 0 | 6 | AML    | 8.9 | 0 | NA | NA | ... | NA | NA | NA | NA | NA | NA | NA | NA | NA | NA |\n",
       "\n"
      ],
      "text/plain": [
       "  Patient cycle FOLD ATC Age Disease_type TE_fold CD3 EM CM ... LAG3 TIM3 CTLA4\n",
       "1 319     1     1.4  0   1   HR ALL       1.4     0   NA NA ... NA   NA   NA   \n",
       "2 319     2     7.9  0   1   HR ALL       7.9     0   NA NA ... NA   NA   NA   \n",
       "3 319     3     1.8  0   1   HR ALL       1.8     0   NA NA ... NA   NA   NA   \n",
       "4 319     4     1.5  0   1   HR ALL       1.5     0   NA NA ... NA   NA   NA   \n",
       "5 319     5     1.2  0   1   HR ALL       1.2     0   NA NA ... NA   NA   NA   \n",
       "6 320     1     8.9  0   6   AML          8.9     0   NA NA ... NA   NA   NA   \n",
       "  PD1% PDL1% LAG3% TIM3% CTLA4% Any NCR PD1 + LAG3 + TIM3\n",
       "1 NA   NA    NA    NA    NA     NA      NA               \n",
       "2 NA   NA    NA    NA    NA     NA      NA               \n",
       "3 NA   NA    NA    NA    NA     NA      NA               \n",
       "4 NA   NA    NA    NA    NA     NA      NA               \n",
       "5 NA   NA    NA    NA    NA     NA      NA               \n",
       "6 NA   NA    NA    NA    NA     NA      NA               "
      ]
     },
     "metadata": {},
     "output_type": "display_data"
    }
   ],
   "source": [
    "head(ATC_Tcells_NCR)"
   ]
  },
  {
   "cell_type": "code",
   "execution_count": 73,
   "metadata": {
    "vscode": {
     "languageId": "r"
    }
   },
   "outputs": [],
   "source": [
    "ATC_Tcells_NCR$cycle[ATC_Tcells_NCR$cycle == 1] <- \"01\"\n",
    "ATC_Tcells_NCR$cycle[ATC_Tcells_NCR$cycle == 2] <- \"02\"\n",
    "ATC_Tcells_NCR$cycle[ATC_Tcells_NCR$cycle == 3] <- \"03\"\n",
    "ATC_Tcells_NCR$cycle[ATC_Tcells_NCR$cycle == 4] <- \"04\"\n",
    "ATC_Tcells_NCR$cycle[ATC_Tcells_NCR$cycle == 5] <- \"05\""
   ]
  },
  {
   "cell_type": "code",
   "execution_count": 74,
   "metadata": {
    "vscode": {
     "languageId": "r"
    }
   },
   "outputs": [
    {
     "data": {
      "text/html": [
       "<table class=\"dataframe\">\n",
       "<caption>A data.frame: 6 x 32</caption>\n",
       "<thead>\n",
       "\t<tr><th></th><th scope=col>Patient</th><th scope=col>cycle</th><th scope=col>FOLD</th><th scope=col>ATC</th><th scope=col>Age</th><th scope=col>Disease_type</th><th scope=col>TE_fold</th><th scope=col>CD3</th><th scope=col>EM</th><th scope=col>CM</th><th scope=col>...</th><th scope=col>LAG3</th><th scope=col>TIM3</th><th scope=col>CTLA4</th><th scope=col>PD1%</th><th scope=col>PDL1%</th><th scope=col>LAG3%</th><th scope=col>TIM3%</th><th scope=col>CTLA4%</th><th scope=col>Any NCR</th><th scope=col>PD1 + LAG3 + TIM3</th></tr>\n",
       "\t<tr><th></th><th scope=col>&lt;int&gt;</th><th scope=col>&lt;chr&gt;</th><th scope=col>&lt;dbl&gt;</th><th scope=col>&lt;dbl&gt;</th><th scope=col>&lt;dbl&gt;</th><th scope=col>&lt;chr&gt;</th><th scope=col>&lt;dbl&gt;</th><th scope=col>&lt;int&gt;</th><th scope=col>&lt;int&gt;</th><th scope=col>&lt;int&gt;</th><th scope=col>...</th><th scope=col>&lt;int&gt;</th><th scope=col>&lt;int&gt;</th><th scope=col>&lt;int&gt;</th><th scope=col>&lt;dbl&gt;</th><th scope=col>&lt;dbl&gt;</th><th scope=col>&lt;dbl&gt;</th><th scope=col>&lt;dbl&gt;</th><th scope=col>&lt;dbl&gt;</th><th scope=col>&lt;dbl&gt;</th><th scope=col>&lt;dbl&gt;</th></tr>\n",
       "</thead>\n",
       "<tbody>\n",
       "\t<tr><th scope=row>1</th><td>319</td><td>01</td><td>1.4</td><td>0</td><td>1</td><td>HR ALL</td><td>1.4</td><td>0</td><td>NA</td><td>NA</td><td>...</td><td>NA</td><td>NA</td><td>NA</td><td>NA</td><td>NA</td><td>NA</td><td>NA</td><td>NA</td><td>NA</td><td>NA</td></tr>\n",
       "\t<tr><th scope=row>2</th><td>319</td><td>02</td><td>7.9</td><td>0</td><td>1</td><td>HR ALL</td><td>7.9</td><td>0</td><td>NA</td><td>NA</td><td>...</td><td>NA</td><td>NA</td><td>NA</td><td>NA</td><td>NA</td><td>NA</td><td>NA</td><td>NA</td><td>NA</td><td>NA</td></tr>\n",
       "\t<tr><th scope=row>3</th><td>319</td><td>03</td><td>1.8</td><td>0</td><td>1</td><td>HR ALL</td><td>1.8</td><td>0</td><td>NA</td><td>NA</td><td>...</td><td>NA</td><td>NA</td><td>NA</td><td>NA</td><td>NA</td><td>NA</td><td>NA</td><td>NA</td><td>NA</td><td>NA</td></tr>\n",
       "\t<tr><th scope=row>4</th><td>319</td><td>04</td><td>1.5</td><td>0</td><td>1</td><td>HR ALL</td><td>1.5</td><td>0</td><td>NA</td><td>NA</td><td>...</td><td>NA</td><td>NA</td><td>NA</td><td>NA</td><td>NA</td><td>NA</td><td>NA</td><td>NA</td><td>NA</td><td>NA</td></tr>\n",
       "\t<tr><th scope=row>5</th><td>319</td><td>05</td><td>1.2</td><td>0</td><td>1</td><td>HR ALL</td><td>1.2</td><td>0</td><td>NA</td><td>NA</td><td>...</td><td>NA</td><td>NA</td><td>NA</td><td>NA</td><td>NA</td><td>NA</td><td>NA</td><td>NA</td><td>NA</td><td>NA</td></tr>\n",
       "\t<tr><th scope=row>6</th><td>320</td><td>01</td><td>8.9</td><td>0</td><td>6</td><td>AML   </td><td>8.9</td><td>0</td><td>NA</td><td>NA</td><td>...</td><td>NA</td><td>NA</td><td>NA</td><td>NA</td><td>NA</td><td>NA</td><td>NA</td><td>NA</td><td>NA</td><td>NA</td></tr>\n",
       "</tbody>\n",
       "</table>\n"
      ],
      "text/latex": [
       "A data.frame: 6 x 32\n",
       "\\begin{tabular}{r|lllllllllllllllllllll}\n",
       "  & Patient & cycle & FOLD & ATC & Age & Disease\\_type & TE\\_fold & CD3 & EM & CM & ... & LAG3 & TIM3 & CTLA4 & PD1\\% & PDL1\\% & LAG3\\% & TIM3\\% & CTLA4\\% & Any NCR & PD1 + LAG3 + TIM3\\\\\n",
       "  & <int> & <chr> & <dbl> & <dbl> & <dbl> & <chr> & <dbl> & <int> & <int> & <int> & ... & <int> & <int> & <int> & <dbl> & <dbl> & <dbl> & <dbl> & <dbl> & <dbl> & <dbl>\\\\\n",
       "\\hline\n",
       "\t1 & 319 & 01 & 1.4 & 0 & 1 & HR ALL & 1.4 & 0 & NA & NA & ... & NA & NA & NA & NA & NA & NA & NA & NA & NA & NA\\\\\n",
       "\t2 & 319 & 02 & 7.9 & 0 & 1 & HR ALL & 7.9 & 0 & NA & NA & ... & NA & NA & NA & NA & NA & NA & NA & NA & NA & NA\\\\\n",
       "\t3 & 319 & 03 & 1.8 & 0 & 1 & HR ALL & 1.8 & 0 & NA & NA & ... & NA & NA & NA & NA & NA & NA & NA & NA & NA & NA\\\\\n",
       "\t4 & 319 & 04 & 1.5 & 0 & 1 & HR ALL & 1.5 & 0 & NA & NA & ... & NA & NA & NA & NA & NA & NA & NA & NA & NA & NA\\\\\n",
       "\t5 & 319 & 05 & 1.2 & 0 & 1 & HR ALL & 1.2 & 0 & NA & NA & ... & NA & NA & NA & NA & NA & NA & NA & NA & NA & NA\\\\\n",
       "\t6 & 320 & 01 & 8.9 & 0 & 6 & AML    & 8.9 & 0 & NA & NA & ... & NA & NA & NA & NA & NA & NA & NA & NA & NA & NA\\\\\n",
       "\\end{tabular}\n"
      ],
      "text/markdown": [
       "\n",
       "A data.frame: 6 x 32\n",
       "\n",
       "| <!--/--> | Patient &lt;int&gt; | cycle &lt;chr&gt; | FOLD &lt;dbl&gt; | ATC &lt;dbl&gt; | Age &lt;dbl&gt; | Disease_type &lt;chr&gt; | TE_fold &lt;dbl&gt; | CD3 &lt;int&gt; | EM &lt;int&gt; | CM &lt;int&gt; | ... ... | LAG3 &lt;int&gt; | TIM3 &lt;int&gt; | CTLA4 &lt;int&gt; | PD1% &lt;dbl&gt; | PDL1% &lt;dbl&gt; | LAG3% &lt;dbl&gt; | TIM3% &lt;dbl&gt; | CTLA4% &lt;dbl&gt; | Any NCR &lt;dbl&gt; | PD1 + LAG3 + TIM3 &lt;dbl&gt; |\n",
       "|---|---|---|---|---|---|---|---|---|---|---|---|---|---|---|---|---|---|---|---|---|---|\n",
       "| 1 | 319 | 01 | 1.4 | 0 | 1 | HR ALL | 1.4 | 0 | NA | NA | ... | NA | NA | NA | NA | NA | NA | NA | NA | NA | NA |\n",
       "| 2 | 319 | 02 | 7.9 | 0 | 1 | HR ALL | 7.9 | 0 | NA | NA | ... | NA | NA | NA | NA | NA | NA | NA | NA | NA | NA |\n",
       "| 3 | 319 | 03 | 1.8 | 0 | 1 | HR ALL | 1.8 | 0 | NA | NA | ... | NA | NA | NA | NA | NA | NA | NA | NA | NA | NA |\n",
       "| 4 | 319 | 04 | 1.5 | 0 | 1 | HR ALL | 1.5 | 0 | NA | NA | ... | NA | NA | NA | NA | NA | NA | NA | NA | NA | NA |\n",
       "| 5 | 319 | 05 | 1.2 | 0 | 1 | HR ALL | 1.2 | 0 | NA | NA | ... | NA | NA | NA | NA | NA | NA | NA | NA | NA | NA |\n",
       "| 6 | 320 | 01 | 8.9 | 0 | 6 | AML    | 8.9 | 0 | NA | NA | ... | NA | NA | NA | NA | NA | NA | NA | NA | NA | NA |\n",
       "\n"
      ],
      "text/plain": [
       "  Patient cycle FOLD ATC Age Disease_type TE_fold CD3 EM CM ... LAG3 TIM3 CTLA4\n",
       "1 319     01    1.4  0   1   HR ALL       1.4     0   NA NA ... NA   NA   NA   \n",
       "2 319     02    7.9  0   1   HR ALL       7.9     0   NA NA ... NA   NA   NA   \n",
       "3 319     03    1.8  0   1   HR ALL       1.8     0   NA NA ... NA   NA   NA   \n",
       "4 319     04    1.5  0   1   HR ALL       1.5     0   NA NA ... NA   NA   NA   \n",
       "5 319     05    1.2  0   1   HR ALL       1.2     0   NA NA ... NA   NA   NA   \n",
       "6 320     01    8.9  0   6   AML          8.9     0   NA NA ... NA   NA   NA   \n",
       "  PD1% PDL1% LAG3% TIM3% CTLA4% Any NCR PD1 + LAG3 + TIM3\n",
       "1 NA   NA    NA    NA    NA     NA      NA               \n",
       "2 NA   NA    NA    NA    NA     NA      NA               \n",
       "3 NA   NA    NA    NA    NA     NA      NA               \n",
       "4 NA   NA    NA    NA    NA     NA      NA               \n",
       "5 NA   NA    NA    NA    NA     NA      NA               \n",
       "6 NA   NA    NA    NA    NA     NA      NA               "
      ]
     },
     "metadata": {},
     "output_type": "display_data"
    }
   ],
   "source": [
    "head(ATC_Tcells_NCR)"
   ]
  },
  {
   "attachments": {},
   "cell_type": "markdown",
   "metadata": {},
   "source": [
    "## Cohort cleanup"
   ]
  },
  {
   "cell_type": "code",
   "execution_count": 75,
   "metadata": {
    "vscode": {
     "languageId": "r"
    }
   },
   "outputs": [],
   "source": [
    "ATC_Tcells_NCR$Disease_type[ATC_Tcells_NCR$Disease_type == \"Hepatoblastoma\"] <- \"HB\"\n",
    "ATC_Tcells_NCR$Disease_type[ATC_Tcells_NCR$Disease_type == \"Ewings\"] <- \"EWS\"\n",
    "ATC_Tcells_NCR$Disease_type[ATC_Tcells_NCR$Disease_type == \"Burkitts\"] <- \"BL\"\n",
    "ATC_Tcells_NCR$Disease_type[ATC_Tcells_NCR$Disease_type == \"Burkitts \"] <- \"BL\"\n",
    "ATC_Tcells_NCR$Disease_type[ATC_Tcells_NCR$Disease_type == \"Burkitt's\"] <- \"BL\"\n",
    "ATC_Tcells_NCR$Disease_type[ATC_Tcells_NCR$Disease_type == \"Wilms\"] <- \"WILMS\"\n",
    "ATC_Tcells_NCR$Disease_type[ATC_Tcells_NCR$Disease_type == \"B cell lymphoma\"] <- \"BLL\"\n",
    "ATC_Tcells_NCR$Disease_type[ATC_Tcells_NCR$Disease_type == \"B lymphoblastic lymphoma\"] <- \"BLL\"\n",
    "ATC_Tcells_NCR$Disease_type[ATC_Tcells_NCR$Disease_type == \"NBL\"] <- \"NB\"\n",
    "ATC_Tcells_NCR$Disease_type[ATC_Tcells_NCR$Disease_type == \"aLL\"] <- \"ALL\""
   ]
  },
  {
   "attachments": {},
   "cell_type": "markdown",
   "metadata": {},
   "source": [
    "Typos according to DB"
   ]
  },
  {
   "cell_type": "code",
   "execution_count": 76,
   "metadata": {
    "vscode": {
     "languageId": "r"
    }
   },
   "outputs": [],
   "source": [
    "ATC_Tcells_NCR$Disease_type[ATC_Tcells_NCR$Disease_type == \"DLMCL\"] <- \"DLBCL\"\n",
    "ATC_Tcells_NCR$Disease_type[ATC_Tcells_NCR$Disease_type == \"SML\"] <- \"AML\" # according to laurens data"
   ]
  },
  {
   "cell_type": "code",
   "execution_count": 77,
   "metadata": {
    "vscode": {
     "languageId": "r"
    }
   },
   "outputs": [
    {
     "data": {
      "text/plain": [
       "\n",
       "  ALCL    ALL    AML   ARMS     BL    BLL    CML  DLBCL   ERMS    EWS     HB \n",
       "    10    115     60      5     20     10     15     15     25     30     20 \n",
       "    HD HR ALL  MS NB     NB     OS  PMBCL    RMS SR ALL  T-ALL  WILMS \n",
       "    40     70      5     20     60     10     15     15     20     15 "
      ]
     },
     "metadata": {},
     "output_type": "display_data"
    }
   ],
   "source": [
    "table(ATC_Tcells_NCR$Disease_type)"
   ]
  },
  {
   "cell_type": "code",
   "execution_count": 78,
   "metadata": {
    "vscode": {
     "languageId": "r"
    }
   },
   "outputs": [],
   "source": [
    "leuk <- c(\"T-ALL\", \"SR ALL\", \"HR ALL\", \"ALL\", \"AML\", \"CML\")\n",
    "lymph <- c(\"ALCL\", \"BL\", \"BLL\", \"PMBCL\", \"HD\", \"CLBCL\", \"DLBCL\")\n",
    "solid <- c(\"ARMS\", \"EWS\", \"HB\", \"MS NB\", \"NB\", \"OS\", \"RMS\", \"WILMS\", \"ERMS\")"
   ]
  },
  {
   "cell_type": "code",
   "execution_count": 79,
   "metadata": {
    "vscode": {
     "languageId": "r"
    }
   },
   "outputs": [],
   "source": [
    "# cancer group\n",
    "ATC_Tcells_NCR$cancergroup[ATC_Tcells_NCR$Disease_type %in% leuk] <- \"Leukemia\"\n",
    "ATC_Tcells_NCR$cancergroup[ATC_Tcells_NCR$Disease_type %in% lymph] <- \"Lymphoma\"\n",
    "ATC_Tcells_NCR$cancergroup[ATC_Tcells_NCR$Disease_type %in% solid] <- \"Solid\""
   ]
  },
  {
   "cell_type": "code",
   "execution_count": 80,
   "metadata": {
    "vscode": {
     "languageId": "r"
    }
   },
   "outputs": [],
   "source": [
    "ATC_Tcells_NCR$agegroup <- NA\n",
    "\n",
    "ATC_Tcells_NCR$agegroup[ which(ATC_Tcells_NCR$Age < 2)] <- \"< 2 yrs\"\n",
    "ATC_Tcells_NCR$agegroup[ which(ATC_Tcells_NCR$Age >= 2 & ATC_Tcells_NCR$Age < 5)] <- \"2-4 yrs\"\n",
    "ATC_Tcells_NCR$agegroup[ which(ATC_Tcells_NCR$Age >= 5 & ATC_Tcells_NCR$Age < 12)] <- \"5-11 yrs\"\n",
    "ATC_Tcells_NCR$agegroup[ which(ATC_Tcells_NCR$Age >= 12 & ATC_Tcells_NCR$Age < 18)] <- \"12-17 yrs\"\n",
    "ATC_Tcells_NCR$agegroup[ which(ATC_Tcells_NCR$Age >= 18)] <- \">= 18 yrs\""
   ]
  },
  {
   "cell_type": "code",
   "execution_count": 81,
   "metadata": {
    "vscode": {
     "languageId": "r"
    }
   },
   "outputs": [],
   "source": [
    "# age group\n",
    "ATC_Tcells_NCR$foldgroup <- NA\n",
    "ATC_Tcells_NCR$foldgroup[ ATC_Tcells_NCR$FOLD >= 5] <- \"High\"\n",
    "ATC_Tcells_NCR$foldgroup[ ATC_Tcells_NCR$FOLD <= 2] <- \"Low\"\n",
    "ATC_Tcells_NCR$foldgroup[ ATC_Tcells_NCR$FOLD > 2 & ATC_Tcells_NCR$FOLD < 5] <- \"Indeterminate\""
   ]
  },
  {
   "cell_type": "code",
   "execution_count": 82,
   "metadata": {
    "vscode": {
     "languageId": "r"
    }
   },
   "outputs": [
    {
     "data": {
      "text/plain": [
       "\n",
       "Leukemia Lymphoma    Solid     <NA> \n",
       "     295      105      195        0 "
      ]
     },
     "metadata": {},
     "output_type": "display_data"
    }
   ],
   "source": [
    "table(ATC_Tcells_NCR$cancergroup, useNA = \"always\")"
   ]
  },
  {
   "cell_type": "code",
   "execution_count": 83,
   "metadata": {
    "vscode": {
     "languageId": "r"
    }
   },
   "outputs": [],
   "source": [
    "ATC_Tcells_NCR$Patient <- paste(\"CHP_\", ATC_Tcells_NCR$Patient, sep = \"\")"
   ]
  },
  {
   "cell_type": "code",
   "execution_count": 84,
   "metadata": {
    "vscode": {
     "languageId": "r"
    }
   },
   "outputs": [],
   "source": [
    "ATC_Tcells_NCR$sample_id <- paste( ATC_Tcells_NCR$Patient, \"_\", ATC_Tcells_NCR$cycle, sep = \"\")"
   ]
  },
  {
   "cell_type": "code",
   "execution_count": 85,
   "metadata": {
    "vscode": {
     "languageId": "r"
    }
   },
   "outputs": [
    {
     "data": {
      "text/html": [
       "<table class=\"dataframe\">\n",
       "<caption>A data.frame: 6 x 36</caption>\n",
       "<thead>\n",
       "\t<tr><th></th><th scope=col>Patient</th><th scope=col>cycle</th><th scope=col>FOLD</th><th scope=col>ATC</th><th scope=col>Age</th><th scope=col>Disease_type</th><th scope=col>TE_fold</th><th scope=col>CD3</th><th scope=col>EM</th><th scope=col>CM</th><th scope=col>...</th><th scope=col>PDL1%</th><th scope=col>LAG3%</th><th scope=col>TIM3%</th><th scope=col>CTLA4%</th><th scope=col>Any NCR</th><th scope=col>PD1 + LAG3 + TIM3</th><th scope=col>cancergroup</th><th scope=col>agegroup</th><th scope=col>foldgroup</th><th scope=col>sample_id</th></tr>\n",
       "\t<tr><th></th><th scope=col>&lt;chr&gt;</th><th scope=col>&lt;chr&gt;</th><th scope=col>&lt;dbl&gt;</th><th scope=col>&lt;dbl&gt;</th><th scope=col>&lt;dbl&gt;</th><th scope=col>&lt;chr&gt;</th><th scope=col>&lt;dbl&gt;</th><th scope=col>&lt;int&gt;</th><th scope=col>&lt;int&gt;</th><th scope=col>&lt;int&gt;</th><th scope=col>...</th><th scope=col>&lt;dbl&gt;</th><th scope=col>&lt;dbl&gt;</th><th scope=col>&lt;dbl&gt;</th><th scope=col>&lt;dbl&gt;</th><th scope=col>&lt;dbl&gt;</th><th scope=col>&lt;dbl&gt;</th><th scope=col>&lt;chr&gt;</th><th scope=col>&lt;chr&gt;</th><th scope=col>&lt;chr&gt;</th><th scope=col>&lt;chr&gt;</th></tr>\n",
       "</thead>\n",
       "<tbody>\n",
       "\t<tr><th scope=row>1</th><td>CHP_319</td><td>01</td><td>1.4</td><td>0</td><td>1</td><td>HR ALL</td><td>1.4</td><td>0</td><td>NA</td><td>NA</td><td>...</td><td>NA</td><td>NA</td><td>NA</td><td>NA</td><td>NA</td><td>NA</td><td>Leukemia</td><td>&lt; 2 yrs </td><td>Low </td><td>CHP_319_01</td></tr>\n",
       "\t<tr><th scope=row>2</th><td>CHP_319</td><td>02</td><td>7.9</td><td>0</td><td>1</td><td>HR ALL</td><td>7.9</td><td>0</td><td>NA</td><td>NA</td><td>...</td><td>NA</td><td>NA</td><td>NA</td><td>NA</td><td>NA</td><td>NA</td><td>Leukemia</td><td>&lt; 2 yrs </td><td>High</td><td>CHP_319_02</td></tr>\n",
       "\t<tr><th scope=row>3</th><td>CHP_319</td><td>03</td><td>1.8</td><td>0</td><td>1</td><td>HR ALL</td><td>1.8</td><td>0</td><td>NA</td><td>NA</td><td>...</td><td>NA</td><td>NA</td><td>NA</td><td>NA</td><td>NA</td><td>NA</td><td>Leukemia</td><td>&lt; 2 yrs </td><td>Low </td><td>CHP_319_03</td></tr>\n",
       "\t<tr><th scope=row>4</th><td>CHP_319</td><td>04</td><td>1.5</td><td>0</td><td>1</td><td>HR ALL</td><td>1.5</td><td>0</td><td>NA</td><td>NA</td><td>...</td><td>NA</td><td>NA</td><td>NA</td><td>NA</td><td>NA</td><td>NA</td><td>Leukemia</td><td>&lt; 2 yrs </td><td>Low </td><td>CHP_319_04</td></tr>\n",
       "\t<tr><th scope=row>5</th><td>CHP_319</td><td>05</td><td>1.2</td><td>0</td><td>1</td><td>HR ALL</td><td>1.2</td><td>0</td><td>NA</td><td>NA</td><td>...</td><td>NA</td><td>NA</td><td>NA</td><td>NA</td><td>NA</td><td>NA</td><td>Leukemia</td><td>&lt; 2 yrs </td><td>Low </td><td>CHP_319_05</td></tr>\n",
       "\t<tr><th scope=row>6</th><td>CHP_320</td><td>01</td><td>8.9</td><td>0</td><td>6</td><td>AML   </td><td>8.9</td><td>0</td><td>NA</td><td>NA</td><td>...</td><td>NA</td><td>NA</td><td>NA</td><td>NA</td><td>NA</td><td>NA</td><td>Leukemia</td><td>5-11 yrs</td><td>High</td><td>CHP_320_01</td></tr>\n",
       "</tbody>\n",
       "</table>\n"
      ],
      "text/latex": [
       "A data.frame: 6 x 36\n",
       "\\begin{tabular}{r|lllllllllllllllllllll}\n",
       "  & Patient & cycle & FOLD & ATC & Age & Disease\\_type & TE\\_fold & CD3 & EM & CM & ... & PDL1\\% & LAG3\\% & TIM3\\% & CTLA4\\% & Any NCR & PD1 + LAG3 + TIM3 & cancergroup & agegroup & foldgroup & sample\\_id\\\\\n",
       "  & <chr> & <chr> & <dbl> & <dbl> & <dbl> & <chr> & <dbl> & <int> & <int> & <int> & ... & <dbl> & <dbl> & <dbl> & <dbl> & <dbl> & <dbl> & <chr> & <chr> & <chr> & <chr>\\\\\n",
       "\\hline\n",
       "\t1 & CHP\\_319 & 01 & 1.4 & 0 & 1 & HR ALL & 1.4 & 0 & NA & NA & ... & NA & NA & NA & NA & NA & NA & Leukemia & < 2 yrs  & Low  & CHP\\_319\\_01\\\\\n",
       "\t2 & CHP\\_319 & 02 & 7.9 & 0 & 1 & HR ALL & 7.9 & 0 & NA & NA & ... & NA & NA & NA & NA & NA & NA & Leukemia & < 2 yrs  & High & CHP\\_319\\_02\\\\\n",
       "\t3 & CHP\\_319 & 03 & 1.8 & 0 & 1 & HR ALL & 1.8 & 0 & NA & NA & ... & NA & NA & NA & NA & NA & NA & Leukemia & < 2 yrs  & Low  & CHP\\_319\\_03\\\\\n",
       "\t4 & CHP\\_319 & 04 & 1.5 & 0 & 1 & HR ALL & 1.5 & 0 & NA & NA & ... & NA & NA & NA & NA & NA & NA & Leukemia & < 2 yrs  & Low  & CHP\\_319\\_04\\\\\n",
       "\t5 & CHP\\_319 & 05 & 1.2 & 0 & 1 & HR ALL & 1.2 & 0 & NA & NA & ... & NA & NA & NA & NA & NA & NA & Leukemia & < 2 yrs  & Low  & CHP\\_319\\_05\\\\\n",
       "\t6 & CHP\\_320 & 01 & 8.9 & 0 & 6 & AML    & 8.9 & 0 & NA & NA & ... & NA & NA & NA & NA & NA & NA & Leukemia & 5-11 yrs & High & CHP\\_320\\_01\\\\\n",
       "\\end{tabular}\n"
      ],
      "text/markdown": [
       "\n",
       "A data.frame: 6 x 36\n",
       "\n",
       "| <!--/--> | Patient &lt;chr&gt; | cycle &lt;chr&gt; | FOLD &lt;dbl&gt; | ATC &lt;dbl&gt; | Age &lt;dbl&gt; | Disease_type &lt;chr&gt; | TE_fold &lt;dbl&gt; | CD3 &lt;int&gt; | EM &lt;int&gt; | CM &lt;int&gt; | ... ... | PDL1% &lt;dbl&gt; | LAG3% &lt;dbl&gt; | TIM3% &lt;dbl&gt; | CTLA4% &lt;dbl&gt; | Any NCR &lt;dbl&gt; | PD1 + LAG3 + TIM3 &lt;dbl&gt; | cancergroup &lt;chr&gt; | agegroup &lt;chr&gt; | foldgroup &lt;chr&gt; | sample_id &lt;chr&gt; |\n",
       "|---|---|---|---|---|---|---|---|---|---|---|---|---|---|---|---|---|---|---|---|---|---|\n",
       "| 1 | CHP_319 | 01 | 1.4 | 0 | 1 | HR ALL | 1.4 | 0 | NA | NA | ... | NA | NA | NA | NA | NA | NA | Leukemia | &lt; 2 yrs  | Low  | CHP_319_01 |\n",
       "| 2 | CHP_319 | 02 | 7.9 | 0 | 1 | HR ALL | 7.9 | 0 | NA | NA | ... | NA | NA | NA | NA | NA | NA | Leukemia | &lt; 2 yrs  | High | CHP_319_02 |\n",
       "| 3 | CHP_319 | 03 | 1.8 | 0 | 1 | HR ALL | 1.8 | 0 | NA | NA | ... | NA | NA | NA | NA | NA | NA | Leukemia | &lt; 2 yrs  | Low  | CHP_319_03 |\n",
       "| 4 | CHP_319 | 04 | 1.5 | 0 | 1 | HR ALL | 1.5 | 0 | NA | NA | ... | NA | NA | NA | NA | NA | NA | Leukemia | &lt; 2 yrs  | Low  | CHP_319_04 |\n",
       "| 5 | CHP_319 | 05 | 1.2 | 0 | 1 | HR ALL | 1.2 | 0 | NA | NA | ... | NA | NA | NA | NA | NA | NA | Leukemia | &lt; 2 yrs  | Low  | CHP_319_05 |\n",
       "| 6 | CHP_320 | 01 | 8.9 | 0 | 6 | AML    | 8.9 | 0 | NA | NA | ... | NA | NA | NA | NA | NA | NA | Leukemia | 5-11 yrs | High | CHP_320_01 |\n",
       "\n"
      ],
      "text/plain": [
       "  Patient cycle FOLD ATC Age Disease_type TE_fold CD3 EM CM ... PDL1% LAG3%\n",
       "1 CHP_319 01    1.4  0   1   HR ALL       1.4     0   NA NA ... NA    NA   \n",
       "2 CHP_319 02    7.9  0   1   HR ALL       7.9     0   NA NA ... NA    NA   \n",
       "3 CHP_319 03    1.8  0   1   HR ALL       1.8     0   NA NA ... NA    NA   \n",
       "4 CHP_319 04    1.5  0   1   HR ALL       1.5     0   NA NA ... NA    NA   \n",
       "5 CHP_319 05    1.2  0   1   HR ALL       1.2     0   NA NA ... NA    NA   \n",
       "6 CHP_320 01    8.9  0   6   AML          8.9     0   NA NA ... NA    NA   \n",
       "  TIM3% CTLA4% Any NCR PD1 + LAG3 + TIM3 cancergroup agegroup foldgroup\n",
       "1 NA    NA     NA      NA                Leukemia    < 2 yrs  Low      \n",
       "2 NA    NA     NA      NA                Leukemia    < 2 yrs  High     \n",
       "3 NA    NA     NA      NA                Leukemia    < 2 yrs  Low      \n",
       "4 NA    NA     NA      NA                Leukemia    < 2 yrs  Low      \n",
       "5 NA    NA     NA      NA                Leukemia    < 2 yrs  Low      \n",
       "6 NA    NA     NA      NA                Leukemia    5-11 yrs High     \n",
       "  sample_id \n",
       "1 CHP_319_01\n",
       "2 CHP_319_02\n",
       "3 CHP_319_03\n",
       "4 CHP_319_04\n",
       "5 CHP_319_05\n",
       "6 CHP_320_01"
      ]
     },
     "metadata": {},
     "output_type": "display_data"
    }
   ],
   "source": [
    "head(ATC_Tcells_NCR)"
   ]
  },
  {
   "attachments": {},
   "cell_type": "markdown",
   "metadata": {},
   "source": [
    "# Clinical data"
   ]
  },
  {
   "cell_type": "code",
   "execution_count": 86,
   "metadata": {
    "vscode": {
     "languageId": "r"
    }
   },
   "outputs": [],
   "source": [
    "clinical <- xlsx::read.xlsx(paste0(manifestpath, \"Toronto expansion and NCR data 4 back up_Lauren_completed_July112023.xlsx\"), sheetIndex = 2)"
   ]
  },
  {
   "cell_type": "code",
   "execution_count": 87,
   "metadata": {
    "vscode": {
     "languageId": "r"
    }
   },
   "outputs": [],
   "source": [
    "# after cases 320\n",
    "clinical <- clinical[ clinical$Study >= 319, ]"
   ]
  },
  {
   "cell_type": "code",
   "execution_count": 88,
   "metadata": {
    "vscode": {
     "languageId": "r"
    }
   },
   "outputs": [
    {
     "data": {
      "text/html": [
       "<table class=\"dataframe\">\n",
       "<caption>A data.frame: 6 x 4</caption>\n",
       "<thead>\n",
       "\t<tr><th></th><th scope=col>Study.</th><th scope=col>Age.at.Dx.</th><th scope=col>Dx.</th><th scope=col>Outcome.as.of.March.2023</th></tr>\n",
       "\t<tr><th></th><th scope=col>&lt;dbl&gt;</th><th scope=col>&lt;dbl&gt;</th><th scope=col>&lt;chr&gt;</th><th scope=col>&lt;chr&gt;</th></tr>\n",
       "</thead>\n",
       "<tbody>\n",
       "\t<tr><th scope=row>20</th><td>319</td><td> 1</td><td>HR ALL</td><td>KMT2A-AFF1 fusion, relapsed August 2018, received Kymriah 12/2018, relapsed at Month 3 CD19- received Inotuzumab, received CART22 August 2019, lineage switch to AML September 2019, passed away October 2019</td></tr>\n",
       "\t<tr><th scope=row>21</th><td>320</td><td> 6</td><td>AML   </td><td>relapse 12/2017, passed away April 2018                                                                                                                                                                      </td></tr>\n",
       "\t<tr><th scope=row>22</th><td>321</td><td>16</td><td>HD    </td><td>completed therapy, in CR                                                                                                                                                                                     </td></tr>\n",
       "\t<tr><th scope=row>23</th><td>322</td><td>18</td><td>DLBCL </td><td>completed therapy, in CR                                                                                                                                                                                     </td></tr>\n",
       "\t<tr><th scope=row>24</th><td>323</td><td> 1</td><td>HR ALL</td><td>completed therapy, in CR                                                                                                                                                                                     </td></tr>\n",
       "\t<tr><th scope=row>25</th><td>324</td><td>12</td><td>T-ALL </td><td>completed therapy, in CR                                                                                                                                                                                     </td></tr>\n",
       "</tbody>\n",
       "</table>\n"
      ],
      "text/latex": [
       "A data.frame: 6 x 4\n",
       "\\begin{tabular}{r|llll}\n",
       "  & Study. & Age.at.Dx. & Dx. & Outcome.as.of.March.2023\\\\\n",
       "  & <dbl> & <dbl> & <chr> & <chr>\\\\\n",
       "\\hline\n",
       "\t20 & 319 &  1 & HR ALL & KMT2A-AFF1 fusion, relapsed August 2018, received Kymriah 12/2018, relapsed at Month 3 CD19- received Inotuzumab, received CART22 August 2019, lineage switch to AML September 2019, passed away October 2019\\\\\n",
       "\t21 & 320 &  6 & AML    & relapse 12/2017, passed away April 2018                                                                                                                                                                      \\\\\n",
       "\t22 & 321 & 16 & HD     & completed therapy, in CR                                                                                                                                                                                     \\\\\n",
       "\t23 & 322 & 18 & DLBCL  & completed therapy, in CR                                                                                                                                                                                     \\\\\n",
       "\t24 & 323 &  1 & HR ALL & completed therapy, in CR                                                                                                                                                                                     \\\\\n",
       "\t25 & 324 & 12 & T-ALL  & completed therapy, in CR                                                                                                                                                                                     \\\\\n",
       "\\end{tabular}\n"
      ],
      "text/markdown": [
       "\n",
       "A data.frame: 6 x 4\n",
       "\n",
       "| <!--/--> | Study. &lt;dbl&gt; | Age.at.Dx. &lt;dbl&gt; | Dx. &lt;chr&gt; | Outcome.as.of.March.2023 &lt;chr&gt; |\n",
       "|---|---|---|---|---|\n",
       "| 20 | 319 |  1 | HR ALL | KMT2A-AFF1 fusion, relapsed August 2018, received Kymriah 12/2018, relapsed at Month 3 CD19- received Inotuzumab, received CART22 August 2019, lineage switch to AML September 2019, passed away October 2019 |\n",
       "| 21 | 320 |  6 | AML    | relapse 12/2017, passed away April 2018                                                                                                                                                                       |\n",
       "| 22 | 321 | 16 | HD     | completed therapy, in CR                                                                                                                                                                                      |\n",
       "| 23 | 322 | 18 | DLBCL  | completed therapy, in CR                                                                                                                                                                                      |\n",
       "| 24 | 323 |  1 | HR ALL | completed therapy, in CR                                                                                                                                                                                      |\n",
       "| 25 | 324 | 12 | T-ALL  | completed therapy, in CR                                                                                                                                                                                      |\n",
       "\n"
      ],
      "text/plain": [
       "   Study. Age.at.Dx. Dx.   \n",
       "20 319     1         HR ALL\n",
       "21 320     6         AML   \n",
       "22 321    16         HD    \n",
       "23 322    18         DLBCL \n",
       "24 323     1         HR ALL\n",
       "25 324    12         T-ALL \n",
       "   Outcome.as.of.March.2023                                                                                                                                                                                     \n",
       "20 KMT2A-AFF1 fusion, relapsed August 2018, received Kymriah 12/2018, relapsed at Month 3 CD19- received Inotuzumab, received CART22 August 2019, lineage switch to AML September 2019, passed away October 2019\n",
       "21 relapse 12/2017, passed away April 2018                                                                                                                                                                      \n",
       "22 completed therapy, in CR                                                                                                                                                                                     \n",
       "23 completed therapy, in CR                                                                                                                                                                                     \n",
       "24 completed therapy, in CR                                                                                                                                                                                     \n",
       "25 completed therapy, in CR                                                                                                                                                                                     "
      ]
     },
     "metadata": {},
     "output_type": "display_data"
    }
   ],
   "source": [
    "head(clinical)"
   ]
  },
  {
   "cell_type": "code",
   "execution_count": null,
   "metadata": {
    "vscode": {
     "languageId": "r"
    }
   },
   "outputs": [],
   "source": []
  },
  {
   "cell_type": "code",
   "execution_count": 89,
   "metadata": {
    "vscode": {
     "languageId": "r"
    }
   },
   "outputs": [],
   "source": [
    "clinical$Relapse <- NA #relapse or metastasis\n",
    "clinical$Relapse[ grepl(\"relapse\", clinical$Outcome.as.of.March.2023, ignore.case = TRUE) ] <- 1\n",
    "clinical$Relapse[ grepl(\"EOC positive\", clinical$Outcome.as.of.March.2023, ignore.case = TRUE) ] <- 1\n",
    "clinical$Relapse[ grepl(\"transplant\", clinical$Outcome.as.of.March.2023, ignore.case = TRUE) ] <- 1\n",
    "clinical$Relapse[ grepl(\"SCT\", clinical$Outcome.as.of.March.2023, ignore.case = TRUE) ] <- 1\n",
    "clinical$Relapse[ grepl(\"BMT\", clinical$Outcome.as.of.March.2023, ignore.case = TRUE) ] <- 1\n",
    "clinical$Relapse[ grepl(\"reoccurance of OS in lungs\", clinical$Outcome.as.of.March.2023, ignore.case = TRUE) ] <- 1\n",
    "clinical$Relapse[ grepl(\"developed choroid plexus carcinoma\", clinical$Outcome.as.of.March.2023, ignore.case = TRUE) ] <- 1\n",
    "#mets\n",
    "clinical$Relapse[ grepl(\"localized pulmonary mets\", clinical$Outcome.as.of.March.2023, ignore.case = TRUE) ] <- 1\n",
    "clinical$Relapse[ grepl(\"metastatic histiocytic neoplasm\", clinical$Outcome.as.of.March.2023, ignore.case = TRUE) ] <- 1\n",
    "clinical$Relapse[ grepl(\"had metastitis during therapy\", clinical$Outcome.as.of.March.2023, ignore.case = TRUE) ] <- 1\n",
    "\n",
    "clinical$Relapse[is.na(clinical$Relapse)] <- 0"
   ]
  },
  {
   "cell_type": "code",
   "execution_count": 90,
   "metadata": {
    "vscode": {
     "languageId": "r"
    }
   },
   "outputs": [],
   "source": [
    "clinical$Transplant <- NA\n",
    "clinical$Transplant[ grepl(\"transplant\", clinical$Outcome.as.of.March.2023, ignore.case = TRUE) ] <- 1\n",
    "clinical$Transplant[ grepl(\"SCT\", clinical$Outcome.as.of.March.2023, ignore.case = TRUE) ] <- 1\n",
    "clinical$Transplant[ grepl(\"BMT\", clinical$Outcome.as.of.March.2023, ignore.case = TRUE) ] <- 1\n",
    "\n",
    "clinical$Transplant[is.na(clinical$Transplant)] <- 0"
   ]
  },
  {
   "cell_type": "code",
   "execution_count": 91,
   "metadata": {
    "vscode": {
     "languageId": "r"
    }
   },
   "outputs": [],
   "source": [
    "clinical$CART <- NA\n",
    "clinical$CART[ grepl(\"Kymriah\", clinical$Outcome.as.of.March.2023, ignore.case = TRUE) ] <- 1\n",
    "clinical$CART[ grepl(\"CTL019\", clinical$Outcome.as.of.March.2023, ignore.case = TRUE) ] <- 1\n",
    "clinical$CART[ grepl(\"CTL119\", clinical$Outcome.as.of.March.2023, ignore.case = TRUE) ] <- 1 #typo?\n",
    "\n",
    "clinical$CART[is.na(clinical$CART)] <- 0"
   ]
  },
  {
   "cell_type": "code",
   "execution_count": 92,
   "metadata": {
    "vscode": {
     "languageId": "r"
    }
   },
   "outputs": [],
   "source": [
    "clinical$Remission <- NA\n",
    "clinical$Remission[ grepl(\"CR\", clinical$Outcome.as.of.March.2023, ignore.case = FALSE) ] <- 1\n",
    "clinical$Remission[ grepl(\"Remission\", clinical$Outcome.as.of.March.2023, ignore.case = TRUE) ] <- 1\n",
    "clinical$Remission[ grepl(\"doing well\", clinical$Outcome.as.of.March.2023, ignore.case = TRUE) ] <- 1 # two CML cases\n",
    "\n",
    "clinical$Remission[is.na(clinical$Remission)] <- 0"
   ]
  },
  {
   "cell_type": "code",
   "execution_count": 93,
   "metadata": {
    "vscode": {
     "languageId": "r"
    }
   },
   "outputs": [],
   "source": [
    "clinical$vital_status <- NA\n",
    "clinical$vital_status[ grepl(\"passed away\", clinical$Outcome.as.of.March.2023, ignore.case = TRUE) ] <- 1\n",
    "\n",
    "clinical$vital_status[is.na(clinical$vital_status)] <- 0"
   ]
  },
  {
   "cell_type": "code",
   "execution_count": 94,
   "metadata": {
    "vscode": {
     "languageId": "r"
    }
   },
   "outputs": [],
   "source": [
    "clinical$LOF <- NA # lost to follow up\n",
    "clinical$LOF[ grepl(\"Lost to follow up\", clinical$Outcome.as.of.March.2023, ignore.case = TRUE) ] <- 1\n",
    "clinical$LOF[ grepl(\"moved to Cincinatti.\", clinical$Outcome.as.of.March.2023, ignore.case = TRUE) ] <- 1\n",
    "clinical$LOF[ grepl(\"left institution\", clinical$Outcome.as.of.March.2023, ignore.case = TRUE) ] <- 1\n",
    "clinical$LOF[ grepl(\"transferred to different hospital during therapy\", clinical$Outcome.as.of.March.2023, ignore.case = TRUE) ] <- 1 \n",
    "clinical$LOF[ grepl(\"but left CHOP soon after\", clinical$Outcome.as.of.March.2023, ignore.case = TRUE) ] <- 1\n",
    "clinical$LOF[ grepl(\"left CHOP in 2021\", clinical$Outcome.as.of.March.2023, ignore.case = TRUE) ] <- 1\n",
    "\n",
    "clinical$LOF[is.na(clinical$LOF)] <- 0"
   ]
  },
  {
   "cell_type": "code",
   "execution_count": 95,
   "metadata": {
    "vscode": {
     "languageId": "r"
    }
   },
   "outputs": [],
   "source": [
    "clinical$Patient <- paste(\"CHP_\", clinical$Study, sep = \"\")"
   ]
  },
  {
   "cell_type": "code",
   "execution_count": 96,
   "metadata": {
    "vscode": {
     "languageId": "r"
    }
   },
   "outputs": [],
   "source": [
    "ATC_Tcells_NCR$Remission <- clinical$Remission[ match(ATC_Tcells_NCR$Patient, clinical$Patient) ]\n",
    "ATC_Tcells_NCR$Relapse <- clinical$Relapse[ match(ATC_Tcells_NCR$Patient, clinical$Patient) ]\n",
    "ATC_Tcells_NCR$Transplant <- clinical$Transplant[ match(ATC_Tcells_NCR$Patient, clinical$Patient) ]\n",
    "ATC_Tcells_NCR$CART <- clinical$CART[ match(ATC_Tcells_NCR$Patient, clinical$Patient) ]\n",
    "ATC_Tcells_NCR$vital_status <- clinical$vital_status[ match(ATC_Tcells_NCR$Patient, clinical$Patient) ]\n",
    "ATC_Tcells_NCR$LOF <- clinical$LOF[ match(ATC_Tcells_NCR$Patient, clinical$Patient) ]"
   ]
  },
  {
   "cell_type": "code",
   "execution_count": 97,
   "metadata": {
    "vscode": {
     "languageId": "r"
    }
   },
   "outputs": [
    {
     "data": {
      "text/html": [
       "<table class=\"dataframe\">\n",
       "<caption>A data.frame: 6 x 42</caption>\n",
       "<thead>\n",
       "\t<tr><th></th><th scope=col>Patient</th><th scope=col>cycle</th><th scope=col>FOLD</th><th scope=col>ATC</th><th scope=col>Age</th><th scope=col>Disease_type</th><th scope=col>TE_fold</th><th scope=col>CD3</th><th scope=col>EM</th><th scope=col>CM</th><th scope=col>...</th><th scope=col>cancergroup</th><th scope=col>agegroup</th><th scope=col>foldgroup</th><th scope=col>sample_id</th><th scope=col>Remission</th><th scope=col>Relapse</th><th scope=col>Transplant</th><th scope=col>CART</th><th scope=col>vital_status</th><th scope=col>LOF</th></tr>\n",
       "\t<tr><th></th><th scope=col>&lt;chr&gt;</th><th scope=col>&lt;chr&gt;</th><th scope=col>&lt;dbl&gt;</th><th scope=col>&lt;dbl&gt;</th><th scope=col>&lt;dbl&gt;</th><th scope=col>&lt;chr&gt;</th><th scope=col>&lt;dbl&gt;</th><th scope=col>&lt;int&gt;</th><th scope=col>&lt;int&gt;</th><th scope=col>&lt;int&gt;</th><th scope=col>...</th><th scope=col>&lt;chr&gt;</th><th scope=col>&lt;chr&gt;</th><th scope=col>&lt;chr&gt;</th><th scope=col>&lt;chr&gt;</th><th scope=col>&lt;dbl&gt;</th><th scope=col>&lt;dbl&gt;</th><th scope=col>&lt;dbl&gt;</th><th scope=col>&lt;dbl&gt;</th><th scope=col>&lt;dbl&gt;</th><th scope=col>&lt;dbl&gt;</th></tr>\n",
       "</thead>\n",
       "<tbody>\n",
       "\t<tr><th scope=row>1</th><td>CHP_319</td><td>01</td><td>1.4</td><td>0</td><td>1</td><td>HR ALL</td><td>1.4</td><td>0</td><td>NA</td><td>NA</td><td>...</td><td>Leukemia</td><td>&lt; 2 yrs </td><td>Low </td><td>CHP_319_01</td><td>0</td><td>1</td><td>0</td><td>1</td><td>1</td><td>0</td></tr>\n",
       "\t<tr><th scope=row>2</th><td>CHP_319</td><td>02</td><td>7.9</td><td>0</td><td>1</td><td>HR ALL</td><td>7.9</td><td>0</td><td>NA</td><td>NA</td><td>...</td><td>Leukemia</td><td>&lt; 2 yrs </td><td>High</td><td>CHP_319_02</td><td>0</td><td>1</td><td>0</td><td>1</td><td>1</td><td>0</td></tr>\n",
       "\t<tr><th scope=row>3</th><td>CHP_319</td><td>03</td><td>1.8</td><td>0</td><td>1</td><td>HR ALL</td><td>1.8</td><td>0</td><td>NA</td><td>NA</td><td>...</td><td>Leukemia</td><td>&lt; 2 yrs </td><td>Low </td><td>CHP_319_03</td><td>0</td><td>1</td><td>0</td><td>1</td><td>1</td><td>0</td></tr>\n",
       "\t<tr><th scope=row>4</th><td>CHP_319</td><td>04</td><td>1.5</td><td>0</td><td>1</td><td>HR ALL</td><td>1.5</td><td>0</td><td>NA</td><td>NA</td><td>...</td><td>Leukemia</td><td>&lt; 2 yrs </td><td>Low </td><td>CHP_319_04</td><td>0</td><td>1</td><td>0</td><td>1</td><td>1</td><td>0</td></tr>\n",
       "\t<tr><th scope=row>5</th><td>CHP_319</td><td>05</td><td>1.2</td><td>0</td><td>1</td><td>HR ALL</td><td>1.2</td><td>0</td><td>NA</td><td>NA</td><td>...</td><td>Leukemia</td><td>&lt; 2 yrs </td><td>Low </td><td>CHP_319_05</td><td>0</td><td>1</td><td>0</td><td>1</td><td>1</td><td>0</td></tr>\n",
       "\t<tr><th scope=row>6</th><td>CHP_320</td><td>01</td><td>8.9</td><td>0</td><td>6</td><td>AML   </td><td>8.9</td><td>0</td><td>NA</td><td>NA</td><td>...</td><td>Leukemia</td><td>5-11 yrs</td><td>High</td><td>CHP_320_01</td><td>0</td><td>1</td><td>0</td><td>0</td><td>1</td><td>0</td></tr>\n",
       "</tbody>\n",
       "</table>\n"
      ],
      "text/latex": [
       "A data.frame: 6 x 42\n",
       "\\begin{tabular}{r|lllllllllllllllllllll}\n",
       "  & Patient & cycle & FOLD & ATC & Age & Disease\\_type & TE\\_fold & CD3 & EM & CM & ... & cancergroup & agegroup & foldgroup & sample\\_id & Remission & Relapse & Transplant & CART & vital\\_status & LOF\\\\\n",
       "  & <chr> & <chr> & <dbl> & <dbl> & <dbl> & <chr> & <dbl> & <int> & <int> & <int> & ... & <chr> & <chr> & <chr> & <chr> & <dbl> & <dbl> & <dbl> & <dbl> & <dbl> & <dbl>\\\\\n",
       "\\hline\n",
       "\t1 & CHP\\_319 & 01 & 1.4 & 0 & 1 & HR ALL & 1.4 & 0 & NA & NA & ... & Leukemia & < 2 yrs  & Low  & CHP\\_319\\_01 & 0 & 1 & 0 & 1 & 1 & 0\\\\\n",
       "\t2 & CHP\\_319 & 02 & 7.9 & 0 & 1 & HR ALL & 7.9 & 0 & NA & NA & ... & Leukemia & < 2 yrs  & High & CHP\\_319\\_02 & 0 & 1 & 0 & 1 & 1 & 0\\\\\n",
       "\t3 & CHP\\_319 & 03 & 1.8 & 0 & 1 & HR ALL & 1.8 & 0 & NA & NA & ... & Leukemia & < 2 yrs  & Low  & CHP\\_319\\_03 & 0 & 1 & 0 & 1 & 1 & 0\\\\\n",
       "\t4 & CHP\\_319 & 04 & 1.5 & 0 & 1 & HR ALL & 1.5 & 0 & NA & NA & ... & Leukemia & < 2 yrs  & Low  & CHP\\_319\\_04 & 0 & 1 & 0 & 1 & 1 & 0\\\\\n",
       "\t5 & CHP\\_319 & 05 & 1.2 & 0 & 1 & HR ALL & 1.2 & 0 & NA & NA & ... & Leukemia & < 2 yrs  & Low  & CHP\\_319\\_05 & 0 & 1 & 0 & 1 & 1 & 0\\\\\n",
       "\t6 & CHP\\_320 & 01 & 8.9 & 0 & 6 & AML    & 8.9 & 0 & NA & NA & ... & Leukemia & 5-11 yrs & High & CHP\\_320\\_01 & 0 & 1 & 0 & 0 & 1 & 0\\\\\n",
       "\\end{tabular}\n"
      ],
      "text/markdown": [
       "\n",
       "A data.frame: 6 x 42\n",
       "\n",
       "| <!--/--> | Patient &lt;chr&gt; | cycle &lt;chr&gt; | FOLD &lt;dbl&gt; | ATC &lt;dbl&gt; | Age &lt;dbl&gt; | Disease_type &lt;chr&gt; | TE_fold &lt;dbl&gt; | CD3 &lt;int&gt; | EM &lt;int&gt; | CM &lt;int&gt; | ... ... | cancergroup &lt;chr&gt; | agegroup &lt;chr&gt; | foldgroup &lt;chr&gt; | sample_id &lt;chr&gt; | Remission &lt;dbl&gt; | Relapse &lt;dbl&gt; | Transplant &lt;dbl&gt; | CART &lt;dbl&gt; | vital_status &lt;dbl&gt; | LOF &lt;dbl&gt; |\n",
       "|---|---|---|---|---|---|---|---|---|---|---|---|---|---|---|---|---|---|---|---|---|---|\n",
       "| 1 | CHP_319 | 01 | 1.4 | 0 | 1 | HR ALL | 1.4 | 0 | NA | NA | ... | Leukemia | &lt; 2 yrs  | Low  | CHP_319_01 | 0 | 1 | 0 | 1 | 1 | 0 |\n",
       "| 2 | CHP_319 | 02 | 7.9 | 0 | 1 | HR ALL | 7.9 | 0 | NA | NA | ... | Leukemia | &lt; 2 yrs  | High | CHP_319_02 | 0 | 1 | 0 | 1 | 1 | 0 |\n",
       "| 3 | CHP_319 | 03 | 1.8 | 0 | 1 | HR ALL | 1.8 | 0 | NA | NA | ... | Leukemia | &lt; 2 yrs  | Low  | CHP_319_03 | 0 | 1 | 0 | 1 | 1 | 0 |\n",
       "| 4 | CHP_319 | 04 | 1.5 | 0 | 1 | HR ALL | 1.5 | 0 | NA | NA | ... | Leukemia | &lt; 2 yrs  | Low  | CHP_319_04 | 0 | 1 | 0 | 1 | 1 | 0 |\n",
       "| 5 | CHP_319 | 05 | 1.2 | 0 | 1 | HR ALL | 1.2 | 0 | NA | NA | ... | Leukemia | &lt; 2 yrs  | Low  | CHP_319_05 | 0 | 1 | 0 | 1 | 1 | 0 |\n",
       "| 6 | CHP_320 | 01 | 8.9 | 0 | 6 | AML    | 8.9 | 0 | NA | NA | ... | Leukemia | 5-11 yrs | High | CHP_320_01 | 0 | 1 | 0 | 0 | 1 | 0 |\n",
       "\n"
      ],
      "text/plain": [
       "  Patient cycle FOLD ATC Age Disease_type TE_fold CD3 EM CM ... cancergroup\n",
       "1 CHP_319 01    1.4  0   1   HR ALL       1.4     0   NA NA ... Leukemia   \n",
       "2 CHP_319 02    7.9  0   1   HR ALL       7.9     0   NA NA ... Leukemia   \n",
       "3 CHP_319 03    1.8  0   1   HR ALL       1.8     0   NA NA ... Leukemia   \n",
       "4 CHP_319 04    1.5  0   1   HR ALL       1.5     0   NA NA ... Leukemia   \n",
       "5 CHP_319 05    1.2  0   1   HR ALL       1.2     0   NA NA ... Leukemia   \n",
       "6 CHP_320 01    8.9  0   6   AML          8.9     0   NA NA ... Leukemia   \n",
       "  agegroup foldgroup sample_id  Remission Relapse Transplant CART vital_status\n",
       "1 < 2 yrs  Low       CHP_319_01 0         1       0          1    1           \n",
       "2 < 2 yrs  High      CHP_319_02 0         1       0          1    1           \n",
       "3 < 2 yrs  Low       CHP_319_03 0         1       0          1    1           \n",
       "4 < 2 yrs  Low       CHP_319_04 0         1       0          1    1           \n",
       "5 < 2 yrs  Low       CHP_319_05 0         1       0          1    1           \n",
       "6 5-11 yrs High      CHP_320_01 0         1       0          0    1           \n",
       "  LOF\n",
       "1 0  \n",
       "2 0  \n",
       "3 0  \n",
       "4 0  \n",
       "5 0  \n",
       "6 0  "
      ]
     },
     "metadata": {},
     "output_type": "display_data"
    }
   ],
   "source": [
    "head(ATC_Tcells_NCR)"
   ]
  },
  {
   "cell_type": "code",
   "execution_count": 98,
   "metadata": {
    "vscode": {
     "languageId": "r"
    }
   },
   "outputs": [
    {
     "data": {
      "text/plain": [
       "\n",
       "   0    1 <NA> \n",
       "  96   23    0 "
      ]
     },
     "metadata": {},
     "output_type": "display_data"
    }
   ],
   "source": [
    "table(clinical$Relapse, useNA = \"always\")"
   ]
  },
  {
   "cell_type": "code",
   "execution_count": 99,
   "metadata": {
    "vscode": {
     "languageId": "r"
    }
   },
   "outputs": [],
   "source": [
    "write.csv(ATC_Tcells_NCR,\n",
    "         file = paste0(datapath, \"INT_metadata_flow.csv\"),row.names = F)"
   ]
  },
  {
   "cell_type": "code",
   "execution_count": null,
   "metadata": {
    "vscode": {
     "languageId": "r"
    }
   },
   "outputs": [],
   "source": []
  },
  {
   "cell_type": "code",
   "execution_count": null,
   "metadata": {
    "vscode": {
     "languageId": "r"
    }
   },
   "outputs": [],
   "source": []
  }
 ],
 "metadata": {
  "kernelspec": {
   "display_name": "R 4.0",
   "language": "R",
   "name": "ir40"
  },
  "language_info": {
   "codemirror_mode": "r",
   "file_extension": ".r",
   "mimetype": "text/x-r-source",
   "name": "R",
   "pygments_lexer": "r",
   "version": "4.2.2"
  },
  "toc": {
   "base_numbering": 1,
   "nav_menu": {},
   "number_sections": false,
   "sideBar": true,
   "skip_h1_title": false,
   "title_cell": "Table of Contents",
   "title_sidebar": "Contents",
   "toc_cell": true,
   "toc_position": {
    "height": "calc(100% - 180px)",
    "left": "10px",
    "top": "150px",
    "width": "180px"
   },
   "toc_section_display": true,
   "toc_window_display": true
  }
 },
 "nbformat": 4,
 "nbformat_minor": 2
}

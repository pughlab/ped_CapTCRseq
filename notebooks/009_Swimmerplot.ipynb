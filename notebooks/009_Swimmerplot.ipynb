{
 "cells": [
  {
   "attachments": {},
   "cell_type": "markdown",
   "metadata": {},
   "source": [
    "# Dependencies"
   ]
  },
  {
   "cell_type": "code",
   "execution_count": 12,
   "metadata": {
    "vscode": {
     "languageId": "r"
    }
   },
   "outputs": [
    {
     "data": {
      "text/html": [
       "0.0363024101274206"
      ],
      "text/latex": [
       "0.0363024101274206"
      ],
      "text/markdown": [
       "0.0363024101274206"
      ],
      "text/plain": [
       "[1] 0.03630241"
      ]
     },
     "metadata": {},
     "output_type": "display_data"
    }
   ],
   "source": [
    "710375/19568260"
   ]
  },
  {
   "cell_type": "code",
   "execution_count": 1,
   "metadata": {
    "vscode": {
     "languageId": "r"
    }
   },
   "outputs": [],
   "source": [
    "pacman::p_load(dplyr, ggplot2, pBrackets, ggpubr, cowplot)"
   ]
  },
  {
   "attachments": {},
   "cell_type": "markdown",
   "metadata": {},
   "source": [
    "# Functions"
   ]
  },
  {
   "cell_type": "code",
   "execution_count": 2,
   "metadata": {
    "vscode": {
     "languageId": "r"
    }
   },
   "outputs": [],
   "source": [
    "source(\"/Users/anabbi/git/ped_CapTCRseq/R/ggplot2_theme.R\")\n",
    "source(\"/Users/anabbi/git/ped_CapTCRseq/R/color_schemes.R\")"
   ]
  },
  {
   "attachments": {},
   "cell_type": "markdown",
   "metadata": {},
   "source": [
    "# Paths"
   ]
  },
  {
   "cell_type": "code",
   "execution_count": 3,
   "metadata": {
    "vscode": {
     "languageId": "r"
    }
   },
   "outputs": [],
   "source": [
    "datapath <- \"/Users/anabbi/OneDrive - UHN/Documents/INTERCEPT/Data/\"\n",
    "plotpath <- \"/Users/anabbi/OneDrive - UHN/Documents/INTERCEPT/Plots/\"\n",
    "manifestpath <- \"/Users/anabbi/OneDrive - UHN/Documents/INTERCEPT/Manifests/\"\n",
    "gitpath <- \"/Users/anabbi/git/ped_CapTCRseq/\""
   ]
  },
  {
   "cell_type": "code",
   "execution_count": 4,
   "metadata": {
    "vscode": {
     "languageId": "r"
    }
   },
   "outputs": [],
   "source": [
    "h4hpath <- \"/Users/anabbi/Desktop/H4H/INTERCEPT/\""
   ]
  },
  {
   "attachments": {},
   "cell_type": "markdown",
   "metadata": {},
   "source": [
    "# Main"
   ]
  },
  {
   "attachments": {},
   "cell_type": "markdown",
   "metadata": {},
   "source": [
    "bind all metadata"
   ]
  },
  {
   "cell_type": "code",
   "execution_count": 5,
   "metadata": {
    "vscode": {
     "languageId": "r"
    }
   },
   "outputs": [],
   "source": [
    "meta_div <- readr::read_rds(file = paste0(datapath,\"capTCRseq/meta_div_goodsamples.rds\"))"
   ]
  },
  {
   "cell_type": "code",
   "execution_count": 6,
   "metadata": {
    "vscode": {
     "languageId": "r"
    }
   },
   "outputs": [
    {
     "data": {
      "text/plain": [
       "\n",
       " PBMC Tumor cfDNA \n",
       "  558    18   274 "
      ]
     },
     "metadata": {},
     "output_type": "display_data"
    }
   ],
   "source": [
    "table(meta_div$sampletype)"
   ]
  },
  {
   "cell_type": "code",
   "execution_count": 7,
   "metadata": {
    "vscode": {
     "languageId": "r"
    }
   },
   "outputs": [],
   "source": [
    "#remove Tumor samples\n",
    "meta_div <- meta_div[ which(meta_div$sampletype != \"Tumor\"),]\n",
    "#remove Normal samples\n",
    "meta_div <- meta_div[ which(meta_div$cancergroup != \"Normal\"),]\n",
    "# remove LFS samples\n",
    "meta_div <- meta_div[which(meta_div$cancergroup != \"LFS\"),]"
   ]
  },
  {
   "cell_type": "code",
   "execution_count": 8,
   "metadata": {
    "vscode": {
     "languageId": "r"
    }
   },
   "outputs": [],
   "source": [
    "# recode T cell malignanices to leu and lym\n",
    "meta_div$cancergroup[meta_div$Disease_type == \"T-ALL\"] <- \"Leukemia\"\n",
    "meta_div$cancergroup[meta_div$Disease_type == \"ALCL\"] <- \"Lymphoma\""
   ]
  },
  {
   "cell_type": "code",
   "execution_count": 9,
   "metadata": {
    "vscode": {
     "languageId": "r"
    }
   },
   "outputs": [
    {
     "data": {
      "text/html": [
       "<table class=\"dataframe\">\n",
       "<caption>A data.frame: 6 x 42</caption>\n",
       "<thead>\n",
       "\t<tr><th></th><th scope=col>sample_id</th><th scope=col>Patient</th><th scope=col>cycle</th><th scope=col>FOLD</th><th scope=col>ATC</th><th scope=col>Age</th><th scope=col>Disease_type</th><th scope=col>TE_fold</th><th scope=col>CD3</th><th scope=col>EM</th><th scope=col>...</th><th scope=col>PD1 + LAG3 + TIM3</th><th scope=col>cancergroup</th><th scope=col>agegroup</th><th scope=col>foldgroup</th><th scope=col>Remission</th><th scope=col>Relapse</th><th scope=col>Transplant</th><th scope=col>CART</th><th scope=col>vital_status</th><th scope=col>LOF</th></tr>\n",
       "\t<tr><th></th><th scope=col>&lt;chr&gt;</th><th scope=col>&lt;chr&gt;</th><th scope=col>&lt;chr&gt;</th><th scope=col>&lt;dbl&gt;</th><th scope=col>&lt;dbl&gt;</th><th scope=col>&lt;dbl&gt;</th><th scope=col>&lt;chr&gt;</th><th scope=col>&lt;dbl&gt;</th><th scope=col>&lt;int&gt;</th><th scope=col>&lt;int&gt;</th><th scope=col>...</th><th scope=col>&lt;dbl&gt;</th><th scope=col>&lt;chr&gt;</th><th scope=col>&lt;chr&gt;</th><th scope=col>&lt;chr&gt;</th><th scope=col>&lt;int&gt;</th><th scope=col>&lt;int&gt;</th><th scope=col>&lt;int&gt;</th><th scope=col>&lt;int&gt;</th><th scope=col>&lt;int&gt;</th><th scope=col>&lt;int&gt;</th></tr>\n",
       "</thead>\n",
       "<tbody>\n",
       "\t<tr><th scope=row>523</th><td>CHP_364_01</td><td>CHP_364</td><td>X01</td><td>2.3</td><td>877.68</td><td>16</td><td>OS</td><td>2.3</td><td>2411</td><td>33</td><td>...</td><td>NA</td><td>Solid tumors</td><td>12-17 yrs</td><td>Indeterminate</td><td>0</td><td>1</td><td>0</td><td>0</td><td>0</td><td>1</td></tr>\n",
       "\t<tr><th scope=row>524</th><td>CHP_364_02</td><td>CHP_364</td><td>X02</td><td>1.9</td><td>  0.00</td><td>16</td><td>OS</td><td>1.9</td><td>2487</td><td>18</td><td>...</td><td>NA</td><td>Solid tumors</td><td>12-17 yrs</td><td>Low          </td><td>0</td><td>1</td><td>0</td><td>0</td><td>0</td><td>1</td></tr>\n",
       "\t<tr><th scope=row>526</th><td>CHP_364_04</td><td>CHP_364</td><td>X04</td><td>4.0</td><td>  0.00</td><td>16</td><td>OS</td><td>4.0</td><td>2454</td><td> 9</td><td>...</td><td>NA</td><td>Solid tumors</td><td>12-17 yrs</td><td>Indeterminate</td><td>0</td><td>1</td><td>0</td><td>0</td><td>0</td><td>1</td></tr>\n",
       "\t<tr><th scope=row>98</th><td>CHP_364_02</td><td>CHP_364</td><td>X02</td><td>1.9</td><td>  0.00</td><td>16</td><td>OS</td><td>1.9</td><td>2487</td><td>18</td><td>...</td><td>NA</td><td>Solid tumors</td><td>12-17 yrs</td><td>Low          </td><td>0</td><td>1</td><td>0</td><td>0</td><td>0</td><td>1</td></tr>\n",
       "\t<tr><th scope=row>99</th><td>CHP_364_03</td><td>CHP_364</td><td>X03</td><td>0.0</td><td>  0.00</td><td>16</td><td>OS</td><td>0.0</td><td>   0</td><td>NA</td><td>...</td><td>NA</td><td>Solid tumors</td><td>12-17 yrs</td><td>Low          </td><td>0</td><td>1</td><td>0</td><td>0</td><td>0</td><td>1</td></tr>\n",
       "\t<tr><th scope=row>100</th><td>CHP_364_04</td><td>CHP_364</td><td>X04</td><td>4.0</td><td>  0.00</td><td>16</td><td>OS</td><td>4.0</td><td>2454</td><td> 9</td><td>...</td><td>NA</td><td>Solid tumors</td><td>12-17 yrs</td><td>Indeterminate</td><td>0</td><td>1</td><td>0</td><td>0</td><td>0</td><td>1</td></tr>\n",
       "</tbody>\n",
       "</table>\n"
      ],
      "text/latex": [
       "A data.frame: 6 x 42\n",
       "\\begin{tabular}{r|lllllllllllllllllllll}\n",
       "  & sample\\_id & Patient & cycle & FOLD & ATC & Age & Disease\\_type & TE\\_fold & CD3 & EM & ... & PD1 + LAG3 + TIM3 & cancergroup & agegroup & foldgroup & Remission & Relapse & Transplant & CART & vital\\_status & LOF\\\\\n",
       "  & <chr> & <chr> & <chr> & <dbl> & <dbl> & <dbl> & <chr> & <dbl> & <int> & <int> & ... & <dbl> & <chr> & <chr> & <chr> & <int> & <int> & <int> & <int> & <int> & <int>\\\\\n",
       "\\hline\n",
       "\t523 & CHP\\_364\\_01 & CHP\\_364 & X01 & 2.3 & 877.68 & 16 & OS & 2.3 & 2411 & 33 & ... & NA & Solid tumors & 12-17 yrs & Indeterminate & 0 & 1 & 0 & 0 & 0 & 1\\\\\n",
       "\t524 & CHP\\_364\\_02 & CHP\\_364 & X02 & 1.9 &   0.00 & 16 & OS & 1.9 & 2487 & 18 & ... & NA & Solid tumors & 12-17 yrs & Low           & 0 & 1 & 0 & 0 & 0 & 1\\\\\n",
       "\t526 & CHP\\_364\\_04 & CHP\\_364 & X04 & 4.0 &   0.00 & 16 & OS & 4.0 & 2454 &  9 & ... & NA & Solid tumors & 12-17 yrs & Indeterminate & 0 & 1 & 0 & 0 & 0 & 1\\\\\n",
       "\t98 & CHP\\_364\\_02 & CHP\\_364 & X02 & 1.9 &   0.00 & 16 & OS & 1.9 & 2487 & 18 & ... & NA & Solid tumors & 12-17 yrs & Low           & 0 & 1 & 0 & 0 & 0 & 1\\\\\n",
       "\t99 & CHP\\_364\\_03 & CHP\\_364 & X03 & 0.0 &   0.00 & 16 & OS & 0.0 &    0 & NA & ... & NA & Solid tumors & 12-17 yrs & Low           & 0 & 1 & 0 & 0 & 0 & 1\\\\\n",
       "\t100 & CHP\\_364\\_04 & CHP\\_364 & X04 & 4.0 &   0.00 & 16 & OS & 4.0 & 2454 &  9 & ... & NA & Solid tumors & 12-17 yrs & Indeterminate & 0 & 1 & 0 & 0 & 0 & 1\\\\\n",
       "\\end{tabular}\n"
      ],
      "text/markdown": [
       "\n",
       "A data.frame: 6 x 42\n",
       "\n",
       "| <!--/--> | sample_id &lt;chr&gt; | Patient &lt;chr&gt; | cycle &lt;chr&gt; | FOLD &lt;dbl&gt; | ATC &lt;dbl&gt; | Age &lt;dbl&gt; | Disease_type &lt;chr&gt; | TE_fold &lt;dbl&gt; | CD3 &lt;int&gt; | EM &lt;int&gt; | ... ... | PD1 + LAG3 + TIM3 &lt;dbl&gt; | cancergroup &lt;chr&gt; | agegroup &lt;chr&gt; | foldgroup &lt;chr&gt; | Remission &lt;int&gt; | Relapse &lt;int&gt; | Transplant &lt;int&gt; | CART &lt;int&gt; | vital_status &lt;int&gt; | LOF &lt;int&gt; |\n",
       "|---|---|---|---|---|---|---|---|---|---|---|---|---|---|---|---|---|---|---|---|---|---|\n",
       "| 523 | CHP_364_01 | CHP_364 | X01 | 2.3 | 877.68 | 16 | OS | 2.3 | 2411 | 33 | ... | NA | Solid tumors | 12-17 yrs | Indeterminate | 0 | 1 | 0 | 0 | 0 | 1 |\n",
       "| 524 | CHP_364_02 | CHP_364 | X02 | 1.9 |   0.00 | 16 | OS | 1.9 | 2487 | 18 | ... | NA | Solid tumors | 12-17 yrs | Low           | 0 | 1 | 0 | 0 | 0 | 1 |\n",
       "| 526 | CHP_364_04 | CHP_364 | X04 | 4.0 |   0.00 | 16 | OS | 4.0 | 2454 |  9 | ... | NA | Solid tumors | 12-17 yrs | Indeterminate | 0 | 1 | 0 | 0 | 0 | 1 |\n",
       "| 98 | CHP_364_02 | CHP_364 | X02 | 1.9 |   0.00 | 16 | OS | 1.9 | 2487 | 18 | ... | NA | Solid tumors | 12-17 yrs | Low           | 0 | 1 | 0 | 0 | 0 | 1 |\n",
       "| 99 | CHP_364_03 | CHP_364 | X03 | 0.0 |   0.00 | 16 | OS | 0.0 |    0 | NA | ... | NA | Solid tumors | 12-17 yrs | Low           | 0 | 1 | 0 | 0 | 0 | 1 |\n",
       "| 100 | CHP_364_04 | CHP_364 | X04 | 4.0 |   0.00 | 16 | OS | 4.0 | 2454 |  9 | ... | NA | Solid tumors | 12-17 yrs | Indeterminate | 0 | 1 | 0 | 0 | 0 | 1 |\n",
       "\n"
      ],
      "text/plain": [
       "    sample_id  Patient cycle FOLD ATC    Age Disease_type TE_fold CD3  EM ...\n",
       "523 CHP_364_01 CHP_364 X01   2.3  877.68 16  OS           2.3     2411 33 ...\n",
       "524 CHP_364_02 CHP_364 X02   1.9    0.00 16  OS           1.9     2487 18 ...\n",
       "526 CHP_364_04 CHP_364 X04   4.0    0.00 16  OS           4.0     2454  9 ...\n",
       "98  CHP_364_02 CHP_364 X02   1.9    0.00 16  OS           1.9     2487 18 ...\n",
       "99  CHP_364_03 CHP_364 X03   0.0    0.00 16  OS           0.0        0 NA ...\n",
       "100 CHP_364_04 CHP_364 X04   4.0    0.00 16  OS           4.0     2454  9 ...\n",
       "    PD1 + LAG3 + TIM3 cancergroup  agegroup  foldgroup     Remission Relapse\n",
       "523 NA                Solid tumors 12-17 yrs Indeterminate 0         1      \n",
       "524 NA                Solid tumors 12-17 yrs Low           0         1      \n",
       "526 NA                Solid tumors 12-17 yrs Indeterminate 0         1      \n",
       "98  NA                Solid tumors 12-17 yrs Low           0         1      \n",
       "99  NA                Solid tumors 12-17 yrs Low           0         1      \n",
       "100 NA                Solid tumors 12-17 yrs Indeterminate 0         1      \n",
       "    Transplant CART vital_status LOF\n",
       "523 0          0    0            1  \n",
       "524 0          0    0            1  \n",
       "526 0          0    0            1  \n",
       "98  0          0    0            1  \n",
       "99  0          0    0            1  \n",
       "100 0          0    0            1  "
      ]
     },
     "metadata": {},
     "output_type": "display_data"
    }
   ],
   "source": [
    "head(meta_div[meta_div$Patient == \"CHP_364\",1:42])"
   ]
  },
  {
   "cell_type": "code",
   "execution_count": 10,
   "metadata": {
    "vscode": {
     "languageId": "r"
    }
   },
   "outputs": [],
   "source": [
    "subset_meta <- meta_div[, c(\"Patient\", \"cycle\", \"FOLD\", \"Disease_type\", \n",
    "\"CD3\", \"cancergroup\", \"sampletype\", \"TRB\", \"Age\", \"file\")]"
   ]
  },
  {
   "cell_type": "code",
   "execution_count": 11,
   "metadata": {
    "vscode": {
     "languageId": "r"
    }
   },
   "outputs": [],
   "source": [
    "# recode cycle to numeric\n",
    "subset_meta$cycle <- gsub(\"X\", \"\", subset_meta$cycle)"
   ]
  },
  {
   "cell_type": "code",
   "execution_count": 12,
   "metadata": {
    "vscode": {
     "languageId": "r"
    }
   },
   "outputs": [],
   "source": [
    "subset_meta$cycle <- as.numeric(subset_meta$cycle)"
   ]
  },
  {
   "cell_type": "code",
   "execution_count": 13,
   "metadata": {
    "vscode": {
     "languageId": "r"
    }
   },
   "outputs": [
    {
     "data": {
      "text/plain": [
       "\n",
       " PBMC cfDNA \n",
       "  534   274 "
      ]
     },
     "metadata": {},
     "output_type": "display_data"
    }
   ],
   "source": [
    "table(subset_meta$sampletype, useNA = \"ifany\")"
   ]
  },
  {
   "cell_type": "code",
   "execution_count": 14,
   "metadata": {
    "vscode": {
     "languageId": "r"
    }
   },
   "outputs": [],
   "source": [
    "# NAs in TRB are Flow samples\n",
    "subset_meta$sampletype[ is.na(subset_meta$TRB) &\n",
    "subset_meta$sampletype == \"PBMC\" ] <- \"Flow\""
   ]
  },
  {
   "cell_type": "code",
   "execution_count": 15,
   "metadata": {
    "vscode": {
     "languageId": "r"
    }
   },
   "outputs": [
    {
     "data": {
      "text/plain": [
       "\n",
       " Flow  PBMC cfDNA \n",
       "  337   197   274 "
      ]
     },
     "metadata": {},
     "output_type": "display_data"
    }
   ],
   "source": [
    "table(subset_meta$sampletype, useNA = \"ifany\")"
   ]
  },
  {
   "cell_type": "code",
   "execution_count": 16,
   "metadata": {
    "vscode": {
     "languageId": "r"
    }
   },
   "outputs": [
    {
     "data": {
      "text/html": [
       "119"
      ],
      "text/latex": [
       "119"
      ],
      "text/markdown": [
       "119"
      ],
      "text/plain": [
       "[1] 119"
      ]
     },
     "metadata": {},
     "output_type": "display_data"
    }
   ],
   "source": [
    "length(table(subset_meta$Patient))"
   ]
  },
  {
   "cell_type": "code",
   "execution_count": 17,
   "metadata": {
    "vscode": {
     "languageId": "r"
    }
   },
   "outputs": [],
   "source": [
    "mydat <- matrix(ncol = 20, nrow = length(unique(subset_meta$Patient)))\n",
    "rownames(mydat) <- unique(subset_meta$Patient)\n",
    "# assign colnames 5 PBMCs, 5 cfDNA, 5 FOLD,  5 CD3 separate by _\n",
    "colnames(mydat) <- c(paste0(rep(\"PBMC_\", 5), 1:5),\n",
    "                        paste0(rep(\"cfDNA_\", 5), 1:5),\n",
    "                        paste0(rep(\"FOLD_\", 5), 1:5),\n",
    "                        paste0(rep(\"CD3_\", 5), 1:5))"
   ]
  },
  {
   "cell_type": "code",
   "execution_count": 18,
   "metadata": {
    "vscode": {
     "languageId": "r"
    }
   },
   "outputs": [],
   "source": [
    "datatype.fx <- function(x){\n",
    "\n",
    "x$datatype <- NA\n",
    "for(i in 1:nrow(x)){\n",
    "#if is.na(TRB) & !is.na(FOLD) & !is.na(CD3), then datatype = FOLD,CD3\n",
    "    if(is.na(x$TRB[i]) & !is.na(x$FOLD[i]) & !is.na(x$CD3[i])){\n",
    "        x$datatype[i] <- paste0(\"FOLD\", \"_\",x$cycle[i], \",\", \"CD3\",\"_\", x$cycle[i])\n",
    "    }\n",
    "#if is.na(TRB) & !is.na(CD3) & is.na(FOLD), then datatype = CD3\n",
    "    if(is.na(x$TRB[i]) & !is.na(x$CD3[i]) & is.na(x$FOLD[i])){\n",
    "        x$datatype[i] <- paste0(\"CD3\",\"_\", x$cycle[i])\n",
    "    }\n",
    "#if is.na(TRB) & is.na(CD3) & !is.na(FOLD), then datatype = FOLD\n",
    "    if(is.na(x$TRB[i]) & !is.na(x$FOLD[i]) & is.na(x$CD3[i])){\n",
    "        x$datatype[i] <- paste0(\"FOLD\",\"_\", x$cycle[i])\n",
    "    }\n",
    "#if !is.na(TRB) & !is.na(CD3) & is.na(FOLD) & sampletype == \"PBMC\", then datatype = PBMC, CD3\n",
    "    if(!is.na(x$TRB[i]) & !is.na(x$CD3[i]) & is.na(x$FOLD[i]) & x$sampletype[i] == \"PBMC\"){\n",
    "        x$datatype[i] <- paste0(\"PBMC\",\"_\", x$cycle[i], \",\", \"CD3\",\"_\", x$cycle[i])\n",
    "    }\n",
    "\n",
    "#if !is.na(TRB) & is.na(CD3) & !is.na(FOLD) & sampletype == \"PBMC\", then datatype = PBMC, FOLD\n",
    "    if(!is.na(x$TRB[i]) & is.na(x$CD3[i]) & !is.na(x$FOLD[i]) & x$sampletype[i] == \"PBMC\"){\n",
    "        x$datatype[i] <- paste0(\"PBMC\",\"_\", x$cycle[i], \",\", \"FOLD\",\"_\", x$cycle[i])\n",
    "    }\n",
    "\n",
    "#if !is.na(TRB) & & !is.na(CD3) & !is.na(FOLD) & sampletype == \"PBMC\", then datatype = PBMC, FOLD, CD3\n",
    "    if(!is.na(x$TRB[i]) & !is.na(x$CD3[i]) & !is.na(x$FOLD[i]) & x$sampletype[i] == \"PBMC\"){\n",
    "        x$datatype[i] <- paste0(\"PBMC\",\"_\", x$cycle[i], \",\", \"FOLD\",\"_\", x$cycle[i], \",\", \"CD3\",\"_\", x$cycle[i])\n",
    "    }\n",
    "#if sampletype == \"cfDNA\", then datatype = cfDNA\n",
    "    if(x$sampletype[i] == \"cfDNA\"){\n",
    "        x$datatype[i] <- paste0(\"cfDNA\",\"_\", x$cycle[i])\n",
    "    }\n",
    "}\n",
    "\n",
    "# separate_rows based on , in datatype_cycle\n",
    "x_s <- x %>% tidyr::separate_rows(datatype, sep = \",\")\n",
    "\n",
    "pw <- tidyr::pivot_wider(x_s[, c(\"Patient\", \"datatype\", \"Age\")], \n",
    "names_from = datatype, values_from = Age)\n",
    "\n",
    "pw <- as.data.frame(pw)\n",
    "rownames(pw) <- pw$Patient\n",
    "pw$Patient <- NULL\n",
    "\n",
    "# match colnames(pw) with colnames(mydat), pw$Patient with rownames(mydat)\n",
    "mydat[ rownames(pw), colnames(pw)] <- as.matrix(pw) \n",
    "#print(pw)\n",
    "return(mydat)\n",
    "}"
   ]
  },
  {
   "cell_type": "code",
   "execution_count": 19,
   "metadata": {
    "vscode": {
     "languageId": "r"
    }
   },
   "outputs": [
    {
     "data": {
      "text/plain": [
       "\n",
       "    Leukemia     Lymphoma Solid tumors \n",
       "         399          152          257 "
      ]
     },
     "metadata": {},
     "output_type": "display_data"
    }
   ],
   "source": [
    "table(subset_meta$cancergroup, useNA = \"ifany\")"
   ]
  },
  {
   "cell_type": "code",
   "execution_count": 20,
   "metadata": {
    "vscode": {
     "languageId": "r"
    }
   },
   "outputs": [
    {
     "data": {
      "text/plain": [
       "\n",
       "    Leukemia     Lymphoma Solid tumors \n",
       "         399          152          257 "
      ]
     },
     "metadata": {},
     "output_type": "display_data"
    }
   ],
   "source": [
    "table(subset_meta$cancergroup, useNA = \"ifany\")"
   ]
  },
  {
   "cell_type": "code",
   "execution_count": 21,
   "metadata": {
    "vscode": {
     "languageId": "r"
    }
   },
   "outputs": [
    {
     "data": {
      "text/html": [
       "<table class=\"dataframe\">\n",
       "<caption>A data.frame: 6 x 66</caption>\n",
       "<thead>\n",
       "\t<tr><th></th><th scope=col>sample_id</th><th scope=col>Patient</th><th scope=col>cycle</th><th scope=col>FOLD</th><th scope=col>ATC</th><th scope=col>Age</th><th scope=col>Disease_type</th><th scope=col>TE_fold</th><th scope=col>CD3</th><th scope=col>EM</th><th scope=col>...</th><th scope=col>estimated_Shannon</th><th scope=col>SE_Shannon</th><th scope=col>observed_Simpson</th><th scope=col>estimated_Simpson</th><th scope=col>SE_Simpson</th><th scope=col>basename</th><th scope=col>file</th><th scope=col>sampletype</th><th scope=col>Group</th><th scope=col>log10shann</th></tr>\n",
       "\t<tr><th></th><th scope=col>&lt;chr&gt;</th><th scope=col>&lt;chr&gt;</th><th scope=col>&lt;chr&gt;</th><th scope=col>&lt;dbl&gt;</th><th scope=col>&lt;dbl&gt;</th><th scope=col>&lt;dbl&gt;</th><th scope=col>&lt;chr&gt;</th><th scope=col>&lt;dbl&gt;</th><th scope=col>&lt;int&gt;</th><th scope=col>&lt;int&gt;</th><th scope=col>...</th><th scope=col>&lt;dbl&gt;</th><th scope=col>&lt;dbl&gt;</th><th scope=col>&lt;dbl&gt;</th><th scope=col>&lt;dbl&gt;</th><th scope=col>&lt;dbl&gt;</th><th scope=col>&lt;chr&gt;</th><th scope=col>&lt;chr&gt;</th><th scope=col>&lt;chr&gt;</th><th scope=col>&lt;chr&gt;</th><th scope=col>&lt;dbl&gt;</th></tr>\n",
       "</thead>\n",
       "<tbody>\n",
       "\t<tr><th scope=row>320</th><td>CHP_323_03</td><td>CHP_323</td><td>X03</td><td>0</td><td> 786.24</td><td>1</td><td>HR ALL</td><td>0</td><td>0</td><td>NA</td><td>...</td><td>37.986</td><td>0.367</td><td>33.204</td><td>33.544</td><td>0.638</td><td>CHP_323-03-PBMC-DNA</td><td>batch4_19Aug2019/mixcr/clones/CLONES_TRBCHP_323-03-PBMC-DNA.txt               </td><td>PBMC </td><td>CHP</td><td>1.5765947</td></tr>\n",
       "\t<tr><th scope=row>322</th><td>CHP_323_05</td><td>CHP_323</td><td>X05</td><td>0</td><td> 979.50</td><td>1</td><td>HR ALL</td><td>0</td><td>0</td><td>NA</td><td>...</td><td>85.174</td><td>2.255</td><td>32.669</td><td>33.190</td><td>2.327</td><td>CHP_323-05-PBMC-DNA</td><td>batch7_25Oct2019/mixcr/clones/CLONES_TRBCHP_323-05-PBMC-DNA.txt               </td><td>PBMC </td><td>CHP</td><td>1.9125037</td></tr>\n",
       "\t<tr><th scope=row>1</th><td>CHP_323_03</td><td>CHP_323</td><td>X03</td><td>0</td><td> 786.24</td><td>1</td><td>HR ALL</td><td>0</td><td>0</td><td>NA</td><td>...</td><td>43.456</td><td>0.145</td><td>31.052</td><td>31.063</td><td>0.159</td><td>CHP_323-03_cfDNA   </td><td>batch3a9_cfDNA_10Jul2020/mixcr/clones/CLONES_TRBCHP_323-03_cfDNA.txt          </td><td>cfDNA</td><td>CHP</td><td>1.6377198</td></tr>\n",
       "\t<tr><th scope=row>2</th><td>CHP_323_05</td><td>CHP_323</td><td>X05</td><td>0</td><td> 979.50</td><td>1</td><td>HR ALL</td><td>0</td><td>0</td><td>NA</td><td>...</td><td> 8.686</td><td>0.093</td><td> 6.804</td><td> 6.812</td><td>0.134</td><td>CHP_323-05_cfDNA   </td><td>remaining_batch_1_cfDNA_8April2021/mixcr/clones/CLONES_TRBCHP_323-05_cfDNA.txt</td><td>cfDNA</td><td>CHP</td><td>0.9380692</td></tr>\n",
       "\t<tr><th scope=row>318</th><td>CHP_323_01</td><td>CHP_323</td><td>X01</td><td>0</td><td> 154.75</td><td>1</td><td>HR ALL</td><td>0</td><td>0</td><td>NA</td><td>...</td><td>    NA</td><td>   NA</td><td>    NA</td><td>    NA</td><td>   NA</td><td>NA                 </td><td>NA                                                                            </td><td>PBMC </td><td>CHP</td><td>       NA</td></tr>\n",
       "\t<tr><th scope=row>319</th><td>CHP_323_02</td><td>CHP_323</td><td>X02</td><td>0</td><td>1397.28</td><td>1</td><td>HR ALL</td><td>0</td><td>0</td><td>NA</td><td>...</td><td>    NA</td><td>   NA</td><td>    NA</td><td>    NA</td><td>   NA</td><td>NA                 </td><td>NA                                                                            </td><td>PBMC </td><td>CHP</td><td>       NA</td></tr>\n",
       "</tbody>\n",
       "</table>\n"
      ],
      "text/latex": [
       "A data.frame: 6 x 66\n",
       "\\begin{tabular}{r|lllllllllllllllllllll}\n",
       "  & sample\\_id & Patient & cycle & FOLD & ATC & Age & Disease\\_type & TE\\_fold & CD3 & EM & ... & estimated\\_Shannon & SE\\_Shannon & observed\\_Simpson & estimated\\_Simpson & SE\\_Simpson & basename & file & sampletype & Group & log10shann\\\\\n",
       "  & <chr> & <chr> & <chr> & <dbl> & <dbl> & <dbl> & <chr> & <dbl> & <int> & <int> & ... & <dbl> & <dbl> & <dbl> & <dbl> & <dbl> & <chr> & <chr> & <chr> & <chr> & <dbl>\\\\\n",
       "\\hline\n",
       "\t320 & CHP\\_323\\_03 & CHP\\_323 & X03 & 0 &  786.24 & 1 & HR ALL & 0 & 0 & NA & ... & 37.986 & 0.367 & 33.204 & 33.544 & 0.638 & CHP\\_323-03-PBMC-DNA & batch4\\_19Aug2019/mixcr/clones/CLONES\\_TRBCHP\\_323-03-PBMC-DNA.txt                & PBMC  & CHP & 1.5765947\\\\\n",
       "\t322 & CHP\\_323\\_05 & CHP\\_323 & X05 & 0 &  979.50 & 1 & HR ALL & 0 & 0 & NA & ... & 85.174 & 2.255 & 32.669 & 33.190 & 2.327 & CHP\\_323-05-PBMC-DNA & batch7\\_25Oct2019/mixcr/clones/CLONES\\_TRBCHP\\_323-05-PBMC-DNA.txt                & PBMC  & CHP & 1.9125037\\\\\n",
       "\t1 & CHP\\_323\\_03 & CHP\\_323 & X03 & 0 &  786.24 & 1 & HR ALL & 0 & 0 & NA & ... & 43.456 & 0.145 & 31.052 & 31.063 & 0.159 & CHP\\_323-03\\_cfDNA    & batch3a9\\_cfDNA\\_10Jul2020/mixcr/clones/CLONES\\_TRBCHP\\_323-03\\_cfDNA.txt           & cfDNA & CHP & 1.6377198\\\\\n",
       "\t2 & CHP\\_323\\_05 & CHP\\_323 & X05 & 0 &  979.50 & 1 & HR ALL & 0 & 0 & NA & ... &  8.686 & 0.093 &  6.804 &  6.812 & 0.134 & CHP\\_323-05\\_cfDNA    & remaining\\_batch\\_1\\_cfDNA\\_8April2021/mixcr/clones/CLONES\\_TRBCHP\\_323-05\\_cfDNA.txt & cfDNA & CHP & 0.9380692\\\\\n",
       "\t318 & CHP\\_323\\_01 & CHP\\_323 & X01 & 0 &  154.75 & 1 & HR ALL & 0 & 0 & NA & ... &     NA &    NA &     NA &     NA &    NA & NA                  & NA                                                                             & PBMC  & CHP &        NA\\\\\n",
       "\t319 & CHP\\_323\\_02 & CHP\\_323 & X02 & 0 & 1397.28 & 1 & HR ALL & 0 & 0 & NA & ... &     NA &    NA &     NA &     NA &    NA & NA                  & NA                                                                             & PBMC  & CHP &        NA\\\\\n",
       "\\end{tabular}\n"
      ],
      "text/markdown": [
       "\n",
       "A data.frame: 6 x 66\n",
       "\n",
       "| <!--/--> | sample_id &lt;chr&gt; | Patient &lt;chr&gt; | cycle &lt;chr&gt; | FOLD &lt;dbl&gt; | ATC &lt;dbl&gt; | Age &lt;dbl&gt; | Disease_type &lt;chr&gt; | TE_fold &lt;dbl&gt; | CD3 &lt;int&gt; | EM &lt;int&gt; | ... ... | estimated_Shannon &lt;dbl&gt; | SE_Shannon &lt;dbl&gt; | observed_Simpson &lt;dbl&gt; | estimated_Simpson &lt;dbl&gt; | SE_Simpson &lt;dbl&gt; | basename &lt;chr&gt; | file &lt;chr&gt; | sampletype &lt;chr&gt; | Group &lt;chr&gt; | log10shann &lt;dbl&gt; |\n",
       "|---|---|---|---|---|---|---|---|---|---|---|---|---|---|---|---|---|---|---|---|---|---|\n",
       "| 320 | CHP_323_03 | CHP_323 | X03 | 0 |  786.24 | 1 | HR ALL | 0 | 0 | NA | ... | 37.986 | 0.367 | 33.204 | 33.544 | 0.638 | CHP_323-03-PBMC-DNA | batch4_19Aug2019/mixcr/clones/CLONES_TRBCHP_323-03-PBMC-DNA.txt                | PBMC  | CHP | 1.5765947 |\n",
       "| 322 | CHP_323_05 | CHP_323 | X05 | 0 |  979.50 | 1 | HR ALL | 0 | 0 | NA | ... | 85.174 | 2.255 | 32.669 | 33.190 | 2.327 | CHP_323-05-PBMC-DNA | batch7_25Oct2019/mixcr/clones/CLONES_TRBCHP_323-05-PBMC-DNA.txt                | PBMC  | CHP | 1.9125037 |\n",
       "| 1 | CHP_323_03 | CHP_323 | X03 | 0 |  786.24 | 1 | HR ALL | 0 | 0 | NA | ... | 43.456 | 0.145 | 31.052 | 31.063 | 0.159 | CHP_323-03_cfDNA    | batch3a9_cfDNA_10Jul2020/mixcr/clones/CLONES_TRBCHP_323-03_cfDNA.txt           | cfDNA | CHP | 1.6377198 |\n",
       "| 2 | CHP_323_05 | CHP_323 | X05 | 0 |  979.50 | 1 | HR ALL | 0 | 0 | NA | ... |  8.686 | 0.093 |  6.804 |  6.812 | 0.134 | CHP_323-05_cfDNA    | remaining_batch_1_cfDNA_8April2021/mixcr/clones/CLONES_TRBCHP_323-05_cfDNA.txt | cfDNA | CHP | 0.9380692 |\n",
       "| 318 | CHP_323_01 | CHP_323 | X01 | 0 |  154.75 | 1 | HR ALL | 0 | 0 | NA | ... |     NA |    NA |     NA |     NA |    NA | NA                  | NA                                                                             | PBMC  | CHP |        NA |\n",
       "| 319 | CHP_323_02 | CHP_323 | X02 | 0 | 1397.28 | 1 | HR ALL | 0 | 0 | NA | ... |     NA |    NA |     NA |     NA |    NA | NA                  | NA                                                                             | PBMC  | CHP |        NA |\n",
       "\n"
      ],
      "text/plain": [
       "    sample_id  Patient cycle FOLD ATC     Age Disease_type TE_fold CD3 EM ...\n",
       "320 CHP_323_03 CHP_323 X03   0     786.24 1   HR ALL       0       0   NA ...\n",
       "322 CHP_323_05 CHP_323 X05   0     979.50 1   HR ALL       0       0   NA ...\n",
       "1   CHP_323_03 CHP_323 X03   0     786.24 1   HR ALL       0       0   NA ...\n",
       "2   CHP_323_05 CHP_323 X05   0     979.50 1   HR ALL       0       0   NA ...\n",
       "318 CHP_323_01 CHP_323 X01   0     154.75 1   HR ALL       0       0   NA ...\n",
       "319 CHP_323_02 CHP_323 X02   0    1397.28 1   HR ALL       0       0   NA ...\n",
       "    estimated_Shannon SE_Shannon observed_Simpson estimated_Simpson SE_Simpson\n",
       "320 37.986            0.367      33.204           33.544            0.638     \n",
       "322 85.174            2.255      32.669           33.190            2.327     \n",
       "1   43.456            0.145      31.052           31.063            0.159     \n",
       "2    8.686            0.093       6.804            6.812            0.134     \n",
       "318     NA               NA          NA               NA               NA     \n",
       "319     NA               NA          NA               NA               NA     \n",
       "    basename           \n",
       "320 CHP_323-03-PBMC-DNA\n",
       "322 CHP_323-05-PBMC-DNA\n",
       "1   CHP_323-03_cfDNA   \n",
       "2   CHP_323-05_cfDNA   \n",
       "318 NA                 \n",
       "319 NA                 \n",
       "    file                                                                          \n",
       "320 batch4_19Aug2019/mixcr/clones/CLONES_TRBCHP_323-03-PBMC-DNA.txt               \n",
       "322 batch7_25Oct2019/mixcr/clones/CLONES_TRBCHP_323-05-PBMC-DNA.txt               \n",
       "1   batch3a9_cfDNA_10Jul2020/mixcr/clones/CLONES_TRBCHP_323-03_cfDNA.txt          \n",
       "2   remaining_batch_1_cfDNA_8April2021/mixcr/clones/CLONES_TRBCHP_323-05_cfDNA.txt\n",
       "318 NA                                                                            \n",
       "319 NA                                                                            \n",
       "    sampletype Group log10shann\n",
       "320 PBMC       CHP   1.5765947 \n",
       "322 PBMC       CHP   1.9125037 \n",
       "1   cfDNA      CHP   1.6377198 \n",
       "2   cfDNA      CHP   0.9380692 \n",
       "318 PBMC       CHP          NA \n",
       "319 PBMC       CHP          NA "
      ]
     },
     "metadata": {},
     "output_type": "display_data"
    }
   ],
   "source": [
    "meta_div[meta_div$Patient == \"CHP_323\", ]\n"
   ]
  },
  {
   "cell_type": "code",
   "execution_count": 22,
   "metadata": {
    "vscode": {
     "languageId": "r"
    }
   },
   "outputs": [],
   "source": [
    "for(p in unique(subset_meta$Patient)){\n",
    "    x <- subset_meta[subset_meta$Patient == p, ]\n",
    "    mydat <- datatype.fx(x)\n",
    "}"
   ]
  },
  {
   "cell_type": "code",
   "execution_count": 23,
   "metadata": {
    "vscode": {
     "languageId": "r"
    }
   },
   "outputs": [
    {
     "data": {
      "text/html": [
       "<style>\n",
       ".list-inline {list-style: none; margin:0; padding: 0}\n",
       ".list-inline>li {display: inline-block}\n",
       ".list-inline>li:not(:last-child)::after {content: \"\\00b7\"; padding: 0 .5ex}\n",
       "</style>\n",
       "<ol class=list-inline><li>119</li><li>20</li></ol>\n"
      ],
      "text/latex": [
       "\\begin{enumerate*}\n",
       "\\item 119\n",
       "\\item 20\n",
       "\\end{enumerate*}\n"
      ],
      "text/markdown": [
       "1. 119\n",
       "2. 20\n",
       "\n",
       "\n"
      ],
      "text/plain": [
       "[1] 119  20"
      ]
     },
     "metadata": {},
     "output_type": "display_data"
    }
   ],
   "source": [
    "dim(mydat)"
   ]
  },
  {
   "cell_type": "code",
   "execution_count": 24,
   "metadata": {
    "vscode": {
     "languageId": "r"
    }
   },
   "outputs": [
    {
     "data": {
      "text/html": [
       "<table class=\"dataframe\">\n",
       "<caption>A matrix: 6 x 20 of type dbl</caption>\n",
       "<thead>\n",
       "\t<tr><th></th><th scope=col>PBMC_1</th><th scope=col>PBMC_2</th><th scope=col>PBMC_3</th><th scope=col>PBMC_4</th><th scope=col>PBMC_5</th><th scope=col>cfDNA_1</th><th scope=col>cfDNA_2</th><th scope=col>cfDNA_3</th><th scope=col>cfDNA_4</th><th scope=col>cfDNA_5</th><th scope=col>FOLD_1</th><th scope=col>FOLD_2</th><th scope=col>FOLD_3</th><th scope=col>FOLD_4</th><th scope=col>FOLD_5</th><th scope=col>CD3_1</th><th scope=col>CD3_2</th><th scope=col>CD3_3</th><th scope=col>CD3_4</th><th scope=col>CD3_5</th></tr>\n",
       "</thead>\n",
       "<tbody>\n",
       "\t<tr><th scope=row>CHP_319</th><td>NA</td><td>NA</td><td>NA</td><td>NA</td><td> 1</td><td>NA</td><td>NA</td><td>NA</td><td>NA</td><td>NA</td><td> 1</td><td> 1</td><td> 1</td><td> 1</td><td> 1</td><td> 1</td><td> 1</td><td> 1</td><td> 1</td><td> 1</td></tr>\n",
       "\t<tr><th scope=row>CHP_323</th><td>NA</td><td>NA</td><td> 1</td><td>NA</td><td> 1</td><td>NA</td><td>NA</td><td> 1</td><td>NA</td><td> 1</td><td> 1</td><td> 1</td><td> 1</td><td>NA</td><td> 1</td><td> 1</td><td> 1</td><td> 1</td><td>NA</td><td> 1</td></tr>\n",
       "\t<tr><th scope=row>CHP_324</th><td>NA</td><td>NA</td><td>NA</td><td>NA</td><td>12</td><td>NA</td><td>NA</td><td>NA</td><td>12</td><td>12</td><td>12</td><td>12</td><td>12</td><td>12</td><td>12</td><td>12</td><td>12</td><td>12</td><td>12</td><td>12</td></tr>\n",
       "\t<tr><th scope=row>CHP_328</th><td>NA</td><td>NA</td><td>NA</td><td> 7</td><td> 7</td><td>NA</td><td>NA</td><td>NA</td><td>NA</td><td> 7</td><td> 7</td><td> 7</td><td> 7</td><td> 7</td><td> 7</td><td> 7</td><td> 7</td><td> 7</td><td> 7</td><td> 7</td></tr>\n",
       "\t<tr><th scope=row>CHP_330</th><td>NA</td><td>NA</td><td>NA</td><td>NA</td><td> 5</td><td>NA</td><td>NA</td><td>NA</td><td> 5</td><td>NA</td><td> 5</td><td> 5</td><td> 5</td><td> 5</td><td> 5</td><td> 5</td><td> 5</td><td> 5</td><td> 5</td><td> 5</td></tr>\n",
       "\t<tr><th scope=row>CHP_331</th><td>NA</td><td>NA</td><td>NA</td><td> 5</td><td> 5</td><td>NA</td><td>NA</td><td>NA</td><td>NA</td><td> 5</td><td> 5</td><td> 5</td><td> 5</td><td> 5</td><td> 5</td><td> 5</td><td> 5</td><td> 5</td><td> 5</td><td> 5</td></tr>\n",
       "</tbody>\n",
       "</table>\n"
      ],
      "text/latex": [
       "A matrix: 6 x 20 of type dbl\n",
       "\\begin{tabular}{r|llllllllllllllllllll}\n",
       "  & PBMC\\_1 & PBMC\\_2 & PBMC\\_3 & PBMC\\_4 & PBMC\\_5 & cfDNA\\_1 & cfDNA\\_2 & cfDNA\\_3 & cfDNA\\_4 & cfDNA\\_5 & FOLD\\_1 & FOLD\\_2 & FOLD\\_3 & FOLD\\_4 & FOLD\\_5 & CD3\\_1 & CD3\\_2 & CD3\\_3 & CD3\\_4 & CD3\\_5\\\\\n",
       "\\hline\n",
       "\tCHP\\_319 & NA & NA & NA & NA &  1 & NA & NA & NA & NA & NA &  1 &  1 &  1 &  1 &  1 &  1 &  1 &  1 &  1 &  1\\\\\n",
       "\tCHP\\_323 & NA & NA &  1 & NA &  1 & NA & NA &  1 & NA &  1 &  1 &  1 &  1 & NA &  1 &  1 &  1 &  1 & NA &  1\\\\\n",
       "\tCHP\\_324 & NA & NA & NA & NA & 12 & NA & NA & NA & 12 & 12 & 12 & 12 & 12 & 12 & 12 & 12 & 12 & 12 & 12 & 12\\\\\n",
       "\tCHP\\_328 & NA & NA & NA &  7 &  7 & NA & NA & NA & NA &  7 &  7 &  7 &  7 &  7 &  7 &  7 &  7 &  7 &  7 &  7\\\\\n",
       "\tCHP\\_330 & NA & NA & NA & NA &  5 & NA & NA & NA &  5 & NA &  5 &  5 &  5 &  5 &  5 &  5 &  5 &  5 &  5 &  5\\\\\n",
       "\tCHP\\_331 & NA & NA & NA &  5 &  5 & NA & NA & NA & NA &  5 &  5 &  5 &  5 &  5 &  5 &  5 &  5 &  5 &  5 &  5\\\\\n",
       "\\end{tabular}\n"
      ],
      "text/markdown": [
       "\n",
       "A matrix: 6 x 20 of type dbl\n",
       "\n",
       "| <!--/--> | PBMC_1 | PBMC_2 | PBMC_3 | PBMC_4 | PBMC_5 | cfDNA_1 | cfDNA_2 | cfDNA_3 | cfDNA_4 | cfDNA_5 | FOLD_1 | FOLD_2 | FOLD_3 | FOLD_4 | FOLD_5 | CD3_1 | CD3_2 | CD3_3 | CD3_4 | CD3_5 |\n",
       "|---|---|---|---|---|---|---|---|---|---|---|---|---|---|---|---|---|---|---|---|---|\n",
       "| CHP_319 | NA | NA | NA | NA |  1 | NA | NA | NA | NA | NA |  1 |  1 |  1 |  1 |  1 |  1 |  1 |  1 |  1 |  1 |\n",
       "| CHP_323 | NA | NA |  1 | NA |  1 | NA | NA |  1 | NA |  1 |  1 |  1 |  1 | NA |  1 |  1 |  1 |  1 | NA |  1 |\n",
       "| CHP_324 | NA | NA | NA | NA | 12 | NA | NA | NA | 12 | 12 | 12 | 12 | 12 | 12 | 12 | 12 | 12 | 12 | 12 | 12 |\n",
       "| CHP_328 | NA | NA | NA |  7 |  7 | NA | NA | NA | NA |  7 |  7 |  7 |  7 |  7 |  7 |  7 |  7 |  7 |  7 |  7 |\n",
       "| CHP_330 | NA | NA | NA | NA |  5 | NA | NA | NA |  5 | NA |  5 |  5 |  5 |  5 |  5 |  5 |  5 |  5 |  5 |  5 |\n",
       "| CHP_331 | NA | NA | NA |  5 |  5 | NA | NA | NA | NA |  5 |  5 |  5 |  5 |  5 |  5 |  5 |  5 |  5 |  5 |  5 |\n",
       "\n"
      ],
      "text/plain": [
       "        PBMC_1 PBMC_2 PBMC_3 PBMC_4 PBMC_5 cfDNA_1 cfDNA_2 cfDNA_3 cfDNA_4\n",
       "CHP_319 NA     NA     NA     NA      1     NA      NA      NA      NA     \n",
       "CHP_323 NA     NA      1     NA      1     NA      NA       1      NA     \n",
       "CHP_324 NA     NA     NA     NA     12     NA      NA      NA      12     \n",
       "CHP_328 NA     NA     NA      7      7     NA      NA      NA      NA     \n",
       "CHP_330 NA     NA     NA     NA      5     NA      NA      NA       5     \n",
       "CHP_331 NA     NA     NA      5      5     NA      NA      NA      NA     \n",
       "        cfDNA_5 FOLD_1 FOLD_2 FOLD_3 FOLD_4 FOLD_5 CD3_1 CD3_2 CD3_3 CD3_4\n",
       "CHP_319 NA       1      1      1      1      1      1     1     1     1   \n",
       "CHP_323  1       1      1      1     NA      1      1     1     1    NA   \n",
       "CHP_324 12      12     12     12     12     12     12    12    12    12   \n",
       "CHP_328  7       7      7      7      7      7      7     7     7     7   \n",
       "CHP_330 NA       5      5      5      5      5      5     5     5     5   \n",
       "CHP_331  5       5      5      5      5      5      5     5     5     5   \n",
       "        CD3_5\n",
       "CHP_319  1   \n",
       "CHP_323  1   \n",
       "CHP_324 12   \n",
       "CHP_328  7   \n",
       "CHP_330  5   \n",
       "CHP_331  5   "
      ]
     },
     "metadata": {},
     "output_type": "display_data"
    }
   ],
   "source": [
    "head(mydat)"
   ]
  },
  {
   "cell_type": "code",
   "execution_count": 25,
   "metadata": {
    "vscode": {
     "languageId": "r"
    }
   },
   "outputs": [],
   "source": [
    "mydat_m <- reshape2::melt(mydat, na.rm = TRUE)"
   ]
  },
  {
   "cell_type": "code",
   "execution_count": 26,
   "metadata": {
    "vscode": {
     "languageId": "r"
    }
   },
   "outputs": [],
   "source": [
    "mydat_m$cycle <- gsub(\".*_\", \"\", mydat_m$Var2)\n",
    "mydat_m$Datatype <- gsub(\"_.*\", \"\", mydat_m$Var2)"
   ]
  },
  {
   "cell_type": "code",
   "execution_count": 27,
   "metadata": {
    "vscode": {
     "languageId": "r"
    }
   },
   "outputs": [],
   "source": [
    "mydat_m$cycle <- as.factor(mydat_m$cycle)"
   ]
  },
  {
   "cell_type": "code",
   "execution_count": 28,
   "metadata": {
    "vscode": {
     "languageId": "r"
    }
   },
   "outputs": [],
   "source": [
    "mydat_m$cancergroup <- subset_meta$cancergroup[match(mydat_m$Var1, subset_meta$Patient)]"
   ]
  },
  {
   "cell_type": "code",
   "execution_count": 29,
   "metadata": {
    "vscode": {
     "languageId": "r"
    }
   },
   "outputs": [
    {
     "data": {
      "text/plain": [
       "\n",
       "  CD3  FOLD  PBMC cfDNA \n",
       "  533   528   197   274 "
      ]
     },
     "metadata": {},
     "output_type": "display_data"
    }
   ],
   "source": [
    "table(mydat_m$Datatype, useNA = \"ifany\")"
   ]
  },
  {
   "cell_type": "code",
   "execution_count": 30,
   "metadata": {
    "vscode": {
     "languageId": "r"
    }
   },
   "outputs": [
    {
     "data": {
      "text/html": [
       "<table class=\"dataframe\">\n",
       "<caption>A data.frame: 6 x 6</caption>\n",
       "<thead>\n",
       "\t<tr><th></th><th scope=col>Var1</th><th scope=col>Var2</th><th scope=col>value</th><th scope=col>cycle</th><th scope=col>Datatype</th><th scope=col>cancergroup</th></tr>\n",
       "\t<tr><th></th><th scope=col>&lt;fct&gt;</th><th scope=col>&lt;fct&gt;</th><th scope=col>&lt;dbl&gt;</th><th scope=col>&lt;fct&gt;</th><th scope=col>&lt;chr&gt;</th><th scope=col>&lt;chr&gt;</th></tr>\n",
       "</thead>\n",
       "<tbody>\n",
       "\t<tr><th scope=row>15</th><td>CHP_346</td><td>PBMC_1</td><td> 1</td><td>1</td><td>PBMC</td><td>Solid tumors</td></tr>\n",
       "\t<tr><th scope=row>16</th><td>CHP_347</td><td>PBMC_1</td><td>13</td><td>1</td><td>PBMC</td><td>Leukemia    </td></tr>\n",
       "\t<tr><th scope=row>17</th><td>CHP_348</td><td>PBMC_1</td><td>18</td><td>1</td><td>PBMC</td><td>Solid tumors</td></tr>\n",
       "\t<tr><th scope=row>18</th><td>CHP_349</td><td>PBMC_1</td><td>17</td><td>1</td><td>PBMC</td><td>Leukemia    </td></tr>\n",
       "\t<tr><th scope=row>19</th><td>CHP_350</td><td>PBMC_1</td><td> 1</td><td>1</td><td>PBMC</td><td>Solid tumors</td></tr>\n",
       "\t<tr><th scope=row>21</th><td>CHP_352</td><td>PBMC_1</td><td>17</td><td>1</td><td>PBMC</td><td>Leukemia    </td></tr>\n",
       "</tbody>\n",
       "</table>\n"
      ],
      "text/latex": [
       "A data.frame: 6 x 6\n",
       "\\begin{tabular}{r|llllll}\n",
       "  & Var1 & Var2 & value & cycle & Datatype & cancergroup\\\\\n",
       "  & <fct> & <fct> & <dbl> & <fct> & <chr> & <chr>\\\\\n",
       "\\hline\n",
       "\t15 & CHP\\_346 & PBMC\\_1 &  1 & 1 & PBMC & Solid tumors\\\\\n",
       "\t16 & CHP\\_347 & PBMC\\_1 & 13 & 1 & PBMC & Leukemia    \\\\\n",
       "\t17 & CHP\\_348 & PBMC\\_1 & 18 & 1 & PBMC & Solid tumors\\\\\n",
       "\t18 & CHP\\_349 & PBMC\\_1 & 17 & 1 & PBMC & Leukemia    \\\\\n",
       "\t19 & CHP\\_350 & PBMC\\_1 &  1 & 1 & PBMC & Solid tumors\\\\\n",
       "\t21 & CHP\\_352 & PBMC\\_1 & 17 & 1 & PBMC & Leukemia    \\\\\n",
       "\\end{tabular}\n"
      ],
      "text/markdown": [
       "\n",
       "A data.frame: 6 x 6\n",
       "\n",
       "| <!--/--> | Var1 &lt;fct&gt; | Var2 &lt;fct&gt; | value &lt;dbl&gt; | cycle &lt;fct&gt; | Datatype &lt;chr&gt; | cancergroup &lt;chr&gt; |\n",
       "|---|---|---|---|---|---|---|\n",
       "| 15 | CHP_346 | PBMC_1 |  1 | 1 | PBMC | Solid tumors |\n",
       "| 16 | CHP_347 | PBMC_1 | 13 | 1 | PBMC | Leukemia     |\n",
       "| 17 | CHP_348 | PBMC_1 | 18 | 1 | PBMC | Solid tumors |\n",
       "| 18 | CHP_349 | PBMC_1 | 17 | 1 | PBMC | Leukemia     |\n",
       "| 19 | CHP_350 | PBMC_1 |  1 | 1 | PBMC | Solid tumors |\n",
       "| 21 | CHP_352 | PBMC_1 | 17 | 1 | PBMC | Leukemia     |\n",
       "\n"
      ],
      "text/plain": [
       "   Var1    Var2   value cycle Datatype cancergroup \n",
       "15 CHP_346 PBMC_1  1    1     PBMC     Solid tumors\n",
       "16 CHP_347 PBMC_1 13    1     PBMC     Leukemia    \n",
       "17 CHP_348 PBMC_1 18    1     PBMC     Solid tumors\n",
       "18 CHP_349 PBMC_1 17    1     PBMC     Leukemia    \n",
       "19 CHP_350 PBMC_1  1    1     PBMC     Solid tumors\n",
       "21 CHP_352 PBMC_1 17    1     PBMC     Leukemia    "
      ]
     },
     "metadata": {},
     "output_type": "display_data"
    }
   ],
   "source": [
    "head(mydat_m)"
   ]
  },
  {
   "cell_type": "code",
   "execution_count": 31,
   "metadata": {
    "vscode": {
     "languageId": "r"
    }
   },
   "outputs": [],
   "source": [
    "patients_cycles <- cbind.data.frame( unique(mydat_m$Var1), \"5\")\n",
    "colnames(patients_cycles) <- c(\"Patient\", \"cycle\")\n",
    "patients_cycles$Patient <- as.character(patients_cycles$Patient)\n",
    "\n",
    "patients_cycles$cancergroup <- subset_meta$cancergroup[match(patients_cycles$Patient, subset_meta$Patient)]\n",
    "patients_cycles$Disease_type <- subset_meta$Disease_type[match(patients_cycles$Patient, subset_meta$Patient)]\n",
    "patients_cycles$Age <- subset_meta$Age[match(patients_cycles$Patient, subset_meta$Patient)]"
   ]
  },
  {
   "cell_type": "code",
   "execution_count": 32,
   "metadata": {
    "vscode": {
     "languageId": "r"
    }
   },
   "outputs": [],
   "source": [
    "# order by cancertype, diseasetype, age\n",
    "tmp <- meta_div[!duplicated(meta_div$Patient),]"
   ]
  },
  {
   "cell_type": "code",
   "execution_count": 33,
   "metadata": {
    "vscode": {
     "languageId": "r"
    }
   },
   "outputs": [
    {
     "data": {
      "text/html": [
       "<style>\n",
       ".list-inline {list-style: none; margin:0; padding: 0}\n",
       ".list-inline>li {display: inline-block}\n",
       ".list-inline>li:not(:last-child)::after {content: \"\\00b7\"; padding: 0 .5ex}\n",
       "</style>\n",
       "<ol class=list-inline><li>119</li><li>66</li></ol>\n"
      ],
      "text/latex": [
       "\\begin{enumerate*}\n",
       "\\item 119\n",
       "\\item 66\n",
       "\\end{enumerate*}\n"
      ],
      "text/markdown": [
       "1. 119\n",
       "2. 66\n",
       "\n",
       "\n"
      ],
      "text/plain": [
       "[1] 119  66"
      ]
     },
     "metadata": {},
     "output_type": "display_data"
    }
   ],
   "source": [
    "dim(tmp)"
   ]
  },
  {
   "cell_type": "code",
   "execution_count": 34,
   "metadata": {
    "vscode": {
     "languageId": "r"
    }
   },
   "outputs": [],
   "source": [
    "myorder <- tmp$Patient[order(\n",
    "    tmp$cancergroup,\n",
    "    tmp$LOF, tmp$vital_status, tmp$Relapse )]\n",
    "    # tmp$Disease_type, patients_cycles$Age"
   ]
  },
  {
   "cell_type": "code",
   "execution_count": 35,
   "metadata": {
    "vscode": {
     "languageId": "r"
    }
   },
   "outputs": [],
   "source": [
    "patients_cycles$Patient <- factor(patients_cycles$Patient, levels = myorder)"
   ]
  },
  {
   "cell_type": "code",
   "execution_count": 36,
   "metadata": {
    "vscode": {
     "languageId": "r"
    }
   },
   "outputs": [],
   "source": [
    "mydat_m$Var1 <- factor(mydat_m$Var1, levels = levels(patients_cycles$Patient))"
   ]
  },
  {
   "cell_type": "code",
   "execution_count": 37,
   "metadata": {
    "vscode": {
     "languageId": "r"
    }
   },
   "outputs": [],
   "source": [
    "patients_cycles$cycle <- as.numeric(patients_cycles$cycle)"
   ]
  },
  {
   "cell_type": "code",
   "execution_count": 38,
   "metadata": {
    "vscode": {
     "languageId": "r"
    }
   },
   "outputs": [],
   "source": [
    "mydat_m$cycle <- as.numeric(mydat_m$cycle)"
   ]
  },
  {
   "cell_type": "code",
   "execution_count": 39,
   "metadata": {
    "vscode": {
     "languageId": "r"
    }
   },
   "outputs": [],
   "source": [
    "# recode cycle to 6, just for plotting\n",
    "patients_cycles$cycle <- ifelse(patients_cycles$cycle == 5, 6, patients_cycles$cycle)"
   ]
  },
  {
   "cell_type": "code",
   "execution_count": 40,
   "metadata": {
    "vscode": {
     "languageId": "r"
    }
   },
   "outputs": [],
   "source": [
    "mydat_m$Var2 <- as.character(mydat_m$Var2)"
   ]
  },
  {
   "cell_type": "code",
   "execution_count": 41,
   "metadata": {
    "vscode": {
     "languageId": "r"
    }
   },
   "outputs": [],
   "source": [
    "mydat_m$Datatype[mydat_m$Datatype == \"PBMC\"] <- \"CapTCR-seq(PBMC)\"\n",
    "mydat_m$Datatype[mydat_m$Datatype == \"cfDNA\"] <- \"CapTCR-seq(cfDNA)\"\n",
    "mydat_m$Datatype[mydat_m$Datatype == \"FOLD\"] <- \"ex vivo T-cell expansion\"\n",
    "mydat_m$Datatype[mydat_m$Datatype == \"CD3\"] <- \"Flow cytometry\""
   ]
  },
  {
   "cell_type": "code",
   "execution_count": 42,
   "metadata": {
    "vscode": {
     "languageId": "r"
    }
   },
   "outputs": [],
   "source": [
    "mydat_m$newcycle <- NA\n",
    "\n",
    "for(i in 1:5){\n",
    "    mydat_m$newcycle[mydat_m$cycle == i & mydat_m$Datatype == \"CapTCR-seq(PBMC)\"] <- i-0.2\n",
    "    mydat_m$newcycle[mydat_m$cycle == i & mydat_m$Datatype == \"CapTCR-seq(cfDNA)\"] <- i-0.1\n",
    "    mydat_m$newcycle[mydat_m$cycle == i & mydat_m$Datatype == \"ex vivo T-cell expansion\"] <- i + 0.1\n",
    "    mydat_m$newcycle[mydat_m$cycle == i & mydat_m$Datatype == \"Flow cytometry\"] <- i+ 0.2\n",
    "}"
   ]
  },
  {
   "cell_type": "code",
   "execution_count": 43,
   "metadata": {
    "vscode": {
     "languageId": "r"
    }
   },
   "outputs": [
    {
     "data": {
      "text/html": [
       "<style>\n",
       ".list-inline {list-style: none; margin:0; padding: 0}\n",
       ".list-inline>li {display: inline-block}\n",
       ".list-inline>li:not(:last-child)::after {content: \"\\00b7\"; padding: 0 .5ex}\n",
       "</style>\n",
       "<ol class=list-inline><li>119</li><li>5</li></ol>\n"
      ],
      "text/latex": [
       "\\begin{enumerate*}\n",
       "\\item 119\n",
       "\\item 5\n",
       "\\end{enumerate*}\n"
      ],
      "text/markdown": [
       "1. 119\n",
       "2. 5\n",
       "\n",
       "\n"
      ],
      "text/plain": [
       "[1] 119   5"
      ]
     },
     "metadata": {},
     "output_type": "display_data"
    }
   ],
   "source": [
    "dim(patients_cycles)"
   ]
  },
  {
   "cell_type": "code",
   "execution_count": 44,
   "metadata": {
    "vscode": {
     "languageId": "r"
    }
   },
   "outputs": [
    {
     "data": {
      "text/html": [
       "<table class=\"dataframe\">\n",
       "<caption>A data.frame: 119 x 5</caption>\n",
       "<thead>\n",
       "\t<tr><th scope=col>Patient</th><th scope=col>cycle</th><th scope=col>cancergroup</th><th scope=col>Disease_type</th><th scope=col>Age</th></tr>\n",
       "\t<tr><th scope=col>&lt;fct&gt;</th><th scope=col>&lt;dbl&gt;</th><th scope=col>&lt;chr&gt;</th><th scope=col>&lt;chr&gt;</th><th scope=col>&lt;dbl&gt;</th></tr>\n",
       "</thead>\n",
       "<tbody>\n",
       "\t<tr><td>CHP_346</td><td>6</td><td>Solid tumors</td><td>NB    </td><td> 1.0</td></tr>\n",
       "\t<tr><td>CHP_347</td><td>6</td><td>Leukemia    </td><td>ALL   </td><td>13.0</td></tr>\n",
       "\t<tr><td>CHP_348</td><td>6</td><td>Solid tumors</td><td>OS    </td><td>18.0</td></tr>\n",
       "\t<tr><td>CHP_349</td><td>6</td><td>Leukemia    </td><td>CML   </td><td>17.0</td></tr>\n",
       "\t<tr><td>CHP_350</td><td>6</td><td>Solid tumors</td><td>HB    </td><td> 1.0</td></tr>\n",
       "\t<tr><td>CHP_352</td><td>6</td><td>Leukemia    </td><td>HR ALL</td><td>17.0</td></tr>\n",
       "\t<tr><td>CHP_353</td><td>6</td><td>Leukemia    </td><td>AML   </td><td> 6.0</td></tr>\n",
       "\t<tr><td>CHP_354</td><td>6</td><td>Leukemia    </td><td>AML   </td><td> 9.0</td></tr>\n",
       "\t<tr><td>CHP_355</td><td>6</td><td>Leukemia    </td><td>HR ALL</td><td> 3.0</td></tr>\n",
       "\t<tr><td>CHP_357</td><td>6</td><td>Leukemia    </td><td>AML   </td><td> 1.0</td></tr>\n",
       "\t<tr><td>CHP_361</td><td>6</td><td>Lymphoma    </td><td>HD    </td><td>13.0</td></tr>\n",
       "\t<tr><td>CHP_362</td><td>6</td><td>Solid tumors</td><td>OS    </td><td>16.0</td></tr>\n",
       "\t<tr><td>CHP_363</td><td>6</td><td>Solid tumors</td><td>EWS   </td><td>20.0</td></tr>\n",
       "\t<tr><td>CHP_364</td><td>6</td><td>Solid tumors</td><td>OS    </td><td>16.0</td></tr>\n",
       "\t<tr><td>CHP_365</td><td>6</td><td>Leukemia    </td><td>ALL   </td><td> 7.0</td></tr>\n",
       "\t<tr><td>CHP_366</td><td>6</td><td>Lymphoma    </td><td>HD    </td><td>14.0</td></tr>\n",
       "\t<tr><td>CHP_367</td><td>6</td><td>Leukemia    </td><td>HR ALL</td><td>14.0</td></tr>\n",
       "\t<tr><td>CHP_368</td><td>6</td><td>Solid tumors</td><td>ARMS  </td><td> 1.0</td></tr>\n",
       "\t<tr><td>CHP_369</td><td>6</td><td>Leukemia    </td><td>AML   </td><td> 0.1</td></tr>\n",
       "\t<tr><td>CHP_370</td><td>6</td><td>Lymphoma    </td><td>ALCL  </td><td>17.0</td></tr>\n",
       "\t<tr><td>CHP_371</td><td>6</td><td>Lymphoma    </td><td>BL    </td><td>15.0</td></tr>\n",
       "\t<tr><td>CHP_372</td><td>6</td><td>Lymphoma    </td><td>BL    </td><td>21.0</td></tr>\n",
       "\t<tr><td>CHP_373</td><td>6</td><td>Leukemia    </td><td>ALL   </td><td> 2.0</td></tr>\n",
       "\t<tr><td>CHP_378</td><td>6</td><td>Leukemia    </td><td>ALL   </td><td> 1.0</td></tr>\n",
       "\t<tr><td>CHP_381</td><td>6</td><td>Solid tumors</td><td>EWS   </td><td> 6.0</td></tr>\n",
       "\t<tr><td>CHP_387</td><td>6</td><td>Leukemia    </td><td>T-ALL </td><td>13.0</td></tr>\n",
       "\t<tr><td>CHP_394</td><td>6</td><td>Solid tumors</td><td>ERMS  </td><td>17.0</td></tr>\n",
       "\t<tr><td>CHP_396</td><td>6</td><td>Leukemia    </td><td>HR ALL</td><td> 1.0</td></tr>\n",
       "\t<tr><td>CHP_397</td><td>6</td><td>Leukemia    </td><td>ALL   </td><td> 2.0</td></tr>\n",
       "\t<tr><td>CHP_399</td><td>6</td><td>Leukemia    </td><td>HR ALL</td><td> 2.0</td></tr>\n",
       "\t<tr><td>...</td><td>...</td><td>...</td><td>...</td><td>...</td></tr>\n",
       "\t<tr><td>CHP_421</td><td>6</td><td>Leukemia    </td><td>ALL   </td><td> 8.0</td></tr>\n",
       "\t<tr><td>CHP_423</td><td>6</td><td>Leukemia    </td><td>ALL   </td><td> 2.0</td></tr>\n",
       "\t<tr><td>CHP_334</td><td>6</td><td>Leukemia    </td><td>HR ALL</td><td>19.0</td></tr>\n",
       "\t<tr><td>CHP_341</td><td>6</td><td>Leukemia    </td><td>CML   </td><td>12.0</td></tr>\n",
       "\t<tr><td>CHP_389</td><td>6</td><td>Lymphoma    </td><td>HD    </td><td> 4.0</td></tr>\n",
       "\t<tr><td>CHP_336</td><td>6</td><td>Leukemia    </td><td>ALL   </td><td>11.0</td></tr>\n",
       "\t<tr><td>CHP_337</td><td>6</td><td>Lymphoma    </td><td>BLL   </td><td> 3.0</td></tr>\n",
       "\t<tr><td>CHP_329</td><td>6</td><td>Leukemia    </td><td>HR ALL</td><td>14.0</td></tr>\n",
       "\t<tr><td>CHP_326</td><td>6</td><td>Leukemia    </td><td>SR ALL</td><td> 4.0</td></tr>\n",
       "\t<tr><td>CHP_333</td><td>6</td><td>Lymphoma    </td><td>HD    </td><td>12.0</td></tr>\n",
       "\t<tr><td>CHP_320</td><td>6</td><td>Leukemia    </td><td>AML   </td><td> 6.0</td></tr>\n",
       "\t<tr><td>CHP_321</td><td>6</td><td>Lymphoma    </td><td>HD    </td><td>16.0</td></tr>\n",
       "\t<tr><td>CHP_322</td><td>6</td><td>Lymphoma    </td><td>DLBCL </td><td>18.0</td></tr>\n",
       "\t<tr><td>CHP_325</td><td>6</td><td>Solid tumors</td><td>ERMS  </td><td> 2.0</td></tr>\n",
       "\t<tr><td>CHP_327</td><td>6</td><td>Solid tumors</td><td>HB    </td><td> 0.6</td></tr>\n",
       "\t<tr><td>CHP_332</td><td>6</td><td>Solid tumors</td><td>ERMS  </td><td>10.0</td></tr>\n",
       "\t<tr><td>CHP_424</td><td>6</td><td>Leukemia    </td><td>ALL   </td><td> 1.0</td></tr>\n",
       "\t<tr><td>CHP_425</td><td>6</td><td>Solid tumors</td><td>WILMS </td><td> 0.5</td></tr>\n",
       "\t<tr><td>CHP_426</td><td>6</td><td>Solid tumors</td><td>RMS   </td><td> 1.0</td></tr>\n",
       "\t<tr><td>CHP_427</td><td>6</td><td>Solid tumors</td><td>RMS   </td><td>10.0</td></tr>\n",
       "\t<tr><td>CHP_428</td><td>6</td><td>Leukemia    </td><td>ALL   </td><td> 3.0</td></tr>\n",
       "\t<tr><td>CHP_429</td><td>6</td><td>Solid tumors</td><td>WILMS </td><td> 1.0</td></tr>\n",
       "\t<tr><td>CHP_430</td><td>6</td><td>Lymphoma    </td><td>PMBCL </td><td>16.0</td></tr>\n",
       "\t<tr><td>CHP_431</td><td>6</td><td>Solid tumors</td><td>RMS   </td><td> 0.2</td></tr>\n",
       "\t<tr><td>CHP_432</td><td>6</td><td>Solid tumors</td><td>OS    </td><td>15.0</td></tr>\n",
       "\t<tr><td>CHP_433</td><td>6</td><td>Lymphoma    </td><td>ALCL  </td><td>16.0</td></tr>\n",
       "\t<tr><td>CHP_434</td><td>6</td><td>Lymphoma    </td><td>HD    </td><td>12.0</td></tr>\n",
       "\t<tr><td>CHP_435</td><td>6</td><td>Leukemia    </td><td>AML   </td><td> 0.0</td></tr>\n",
       "\t<tr><td>CHP_436</td><td>6</td><td>Solid tumors</td><td>OS    </td><td>15.0</td></tr>\n",
       "\t<tr><td>CHP_437</td><td>6</td><td>Solid tumors</td><td>OS    </td><td> 9.0</td></tr>\n",
       "</tbody>\n",
       "</table>\n"
      ],
      "text/latex": [
       "A data.frame: 119 x 5\n",
       "\\begin{tabular}{lllll}\n",
       " Patient & cycle & cancergroup & Disease\\_type & Age\\\\\n",
       " <fct> & <dbl> & <chr> & <chr> & <dbl>\\\\\n",
       "\\hline\n",
       "\t CHP\\_346 & 6 & Solid tumors & NB     &  1.0\\\\\n",
       "\t CHP\\_347 & 6 & Leukemia     & ALL    & 13.0\\\\\n",
       "\t CHP\\_348 & 6 & Solid tumors & OS     & 18.0\\\\\n",
       "\t CHP\\_349 & 6 & Leukemia     & CML    & 17.0\\\\\n",
       "\t CHP\\_350 & 6 & Solid tumors & HB     &  1.0\\\\\n",
       "\t CHP\\_352 & 6 & Leukemia     & HR ALL & 17.0\\\\\n",
       "\t CHP\\_353 & 6 & Leukemia     & AML    &  6.0\\\\\n",
       "\t CHP\\_354 & 6 & Leukemia     & AML    &  9.0\\\\\n",
       "\t CHP\\_355 & 6 & Leukemia     & HR ALL &  3.0\\\\\n",
       "\t CHP\\_357 & 6 & Leukemia     & AML    &  1.0\\\\\n",
       "\t CHP\\_361 & 6 & Lymphoma     & HD     & 13.0\\\\\n",
       "\t CHP\\_362 & 6 & Solid tumors & OS     & 16.0\\\\\n",
       "\t CHP\\_363 & 6 & Solid tumors & EWS    & 20.0\\\\\n",
       "\t CHP\\_364 & 6 & Solid tumors & OS     & 16.0\\\\\n",
       "\t CHP\\_365 & 6 & Leukemia     & ALL    &  7.0\\\\\n",
       "\t CHP\\_366 & 6 & Lymphoma     & HD     & 14.0\\\\\n",
       "\t CHP\\_367 & 6 & Leukemia     & HR ALL & 14.0\\\\\n",
       "\t CHP\\_368 & 6 & Solid tumors & ARMS   &  1.0\\\\\n",
       "\t CHP\\_369 & 6 & Leukemia     & AML    &  0.1\\\\\n",
       "\t CHP\\_370 & 6 & Lymphoma     & ALCL   & 17.0\\\\\n",
       "\t CHP\\_371 & 6 & Lymphoma     & BL     & 15.0\\\\\n",
       "\t CHP\\_372 & 6 & Lymphoma     & BL     & 21.0\\\\\n",
       "\t CHP\\_373 & 6 & Leukemia     & ALL    &  2.0\\\\\n",
       "\t CHP\\_378 & 6 & Leukemia     & ALL    &  1.0\\\\\n",
       "\t CHP\\_381 & 6 & Solid tumors & EWS    &  6.0\\\\\n",
       "\t CHP\\_387 & 6 & Leukemia     & T-ALL  & 13.0\\\\\n",
       "\t CHP\\_394 & 6 & Solid tumors & ERMS   & 17.0\\\\\n",
       "\t CHP\\_396 & 6 & Leukemia     & HR ALL &  1.0\\\\\n",
       "\t CHP\\_397 & 6 & Leukemia     & ALL    &  2.0\\\\\n",
       "\t CHP\\_399 & 6 & Leukemia     & HR ALL &  2.0\\\\\n",
       "\t ... & ... & ... & ... & ...\\\\\n",
       "\t CHP\\_421 & 6 & Leukemia     & ALL    &  8.0\\\\\n",
       "\t CHP\\_423 & 6 & Leukemia     & ALL    &  2.0\\\\\n",
       "\t CHP\\_334 & 6 & Leukemia     & HR ALL & 19.0\\\\\n",
       "\t CHP\\_341 & 6 & Leukemia     & CML    & 12.0\\\\\n",
       "\t CHP\\_389 & 6 & Lymphoma     & HD     &  4.0\\\\\n",
       "\t CHP\\_336 & 6 & Leukemia     & ALL    & 11.0\\\\\n",
       "\t CHP\\_337 & 6 & Lymphoma     & BLL    &  3.0\\\\\n",
       "\t CHP\\_329 & 6 & Leukemia     & HR ALL & 14.0\\\\\n",
       "\t CHP\\_326 & 6 & Leukemia     & SR ALL &  4.0\\\\\n",
       "\t CHP\\_333 & 6 & Lymphoma     & HD     & 12.0\\\\\n",
       "\t CHP\\_320 & 6 & Leukemia     & AML    &  6.0\\\\\n",
       "\t CHP\\_321 & 6 & Lymphoma     & HD     & 16.0\\\\\n",
       "\t CHP\\_322 & 6 & Lymphoma     & DLBCL  & 18.0\\\\\n",
       "\t CHP\\_325 & 6 & Solid tumors & ERMS   &  2.0\\\\\n",
       "\t CHP\\_327 & 6 & Solid tumors & HB     &  0.6\\\\\n",
       "\t CHP\\_332 & 6 & Solid tumors & ERMS   & 10.0\\\\\n",
       "\t CHP\\_424 & 6 & Leukemia     & ALL    &  1.0\\\\\n",
       "\t CHP\\_425 & 6 & Solid tumors & WILMS  &  0.5\\\\\n",
       "\t CHP\\_426 & 6 & Solid tumors & RMS    &  1.0\\\\\n",
       "\t CHP\\_427 & 6 & Solid tumors & RMS    & 10.0\\\\\n",
       "\t CHP\\_428 & 6 & Leukemia     & ALL    &  3.0\\\\\n",
       "\t CHP\\_429 & 6 & Solid tumors & WILMS  &  1.0\\\\\n",
       "\t CHP\\_430 & 6 & Lymphoma     & PMBCL  & 16.0\\\\\n",
       "\t CHP\\_431 & 6 & Solid tumors & RMS    &  0.2\\\\\n",
       "\t CHP\\_432 & 6 & Solid tumors & OS     & 15.0\\\\\n",
       "\t CHP\\_433 & 6 & Lymphoma     & ALCL   & 16.0\\\\\n",
       "\t CHP\\_434 & 6 & Lymphoma     & HD     & 12.0\\\\\n",
       "\t CHP\\_435 & 6 & Leukemia     & AML    &  0.0\\\\\n",
       "\t CHP\\_436 & 6 & Solid tumors & OS     & 15.0\\\\\n",
       "\t CHP\\_437 & 6 & Solid tumors & OS     &  9.0\\\\\n",
       "\\end{tabular}\n"
      ],
      "text/markdown": [
       "\n",
       "A data.frame: 119 x 5\n",
       "\n",
       "| Patient &lt;fct&gt; | cycle &lt;dbl&gt; | cancergroup &lt;chr&gt; | Disease_type &lt;chr&gt; | Age &lt;dbl&gt; |\n",
       "|---|---|---|---|---|\n",
       "| CHP_346 | 6 | Solid tumors | NB     |  1.0 |\n",
       "| CHP_347 | 6 | Leukemia     | ALL    | 13.0 |\n",
       "| CHP_348 | 6 | Solid tumors | OS     | 18.0 |\n",
       "| CHP_349 | 6 | Leukemia     | CML    | 17.0 |\n",
       "| CHP_350 | 6 | Solid tumors | HB     |  1.0 |\n",
       "| CHP_352 | 6 | Leukemia     | HR ALL | 17.0 |\n",
       "| CHP_353 | 6 | Leukemia     | AML    |  6.0 |\n",
       "| CHP_354 | 6 | Leukemia     | AML    |  9.0 |\n",
       "| CHP_355 | 6 | Leukemia     | HR ALL |  3.0 |\n",
       "| CHP_357 | 6 | Leukemia     | AML    |  1.0 |\n",
       "| CHP_361 | 6 | Lymphoma     | HD     | 13.0 |\n",
       "| CHP_362 | 6 | Solid tumors | OS     | 16.0 |\n",
       "| CHP_363 | 6 | Solid tumors | EWS    | 20.0 |\n",
       "| CHP_364 | 6 | Solid tumors | OS     | 16.0 |\n",
       "| CHP_365 | 6 | Leukemia     | ALL    |  7.0 |\n",
       "| CHP_366 | 6 | Lymphoma     | HD     | 14.0 |\n",
       "| CHP_367 | 6 | Leukemia     | HR ALL | 14.0 |\n",
       "| CHP_368 | 6 | Solid tumors | ARMS   |  1.0 |\n",
       "| CHP_369 | 6 | Leukemia     | AML    |  0.1 |\n",
       "| CHP_370 | 6 | Lymphoma     | ALCL   | 17.0 |\n",
       "| CHP_371 | 6 | Lymphoma     | BL     | 15.0 |\n",
       "| CHP_372 | 6 | Lymphoma     | BL     | 21.0 |\n",
       "| CHP_373 | 6 | Leukemia     | ALL    |  2.0 |\n",
       "| CHP_378 | 6 | Leukemia     | ALL    |  1.0 |\n",
       "| CHP_381 | 6 | Solid tumors | EWS    |  6.0 |\n",
       "| CHP_387 | 6 | Leukemia     | T-ALL  | 13.0 |\n",
       "| CHP_394 | 6 | Solid tumors | ERMS   | 17.0 |\n",
       "| CHP_396 | 6 | Leukemia     | HR ALL |  1.0 |\n",
       "| CHP_397 | 6 | Leukemia     | ALL    |  2.0 |\n",
       "| CHP_399 | 6 | Leukemia     | HR ALL |  2.0 |\n",
       "| ... | ... | ... | ... | ... |\n",
       "| CHP_421 | 6 | Leukemia     | ALL    |  8.0 |\n",
       "| CHP_423 | 6 | Leukemia     | ALL    |  2.0 |\n",
       "| CHP_334 | 6 | Leukemia     | HR ALL | 19.0 |\n",
       "| CHP_341 | 6 | Leukemia     | CML    | 12.0 |\n",
       "| CHP_389 | 6 | Lymphoma     | HD     |  4.0 |\n",
       "| CHP_336 | 6 | Leukemia     | ALL    | 11.0 |\n",
       "| CHP_337 | 6 | Lymphoma     | BLL    |  3.0 |\n",
       "| CHP_329 | 6 | Leukemia     | HR ALL | 14.0 |\n",
       "| CHP_326 | 6 | Leukemia     | SR ALL |  4.0 |\n",
       "| CHP_333 | 6 | Lymphoma     | HD     | 12.0 |\n",
       "| CHP_320 | 6 | Leukemia     | AML    |  6.0 |\n",
       "| CHP_321 | 6 | Lymphoma     | HD     | 16.0 |\n",
       "| CHP_322 | 6 | Lymphoma     | DLBCL  | 18.0 |\n",
       "| CHP_325 | 6 | Solid tumors | ERMS   |  2.0 |\n",
       "| CHP_327 | 6 | Solid tumors | HB     |  0.6 |\n",
       "| CHP_332 | 6 | Solid tumors | ERMS   | 10.0 |\n",
       "| CHP_424 | 6 | Leukemia     | ALL    |  1.0 |\n",
       "| CHP_425 | 6 | Solid tumors | WILMS  |  0.5 |\n",
       "| CHP_426 | 6 | Solid tumors | RMS    |  1.0 |\n",
       "| CHP_427 | 6 | Solid tumors | RMS    | 10.0 |\n",
       "| CHP_428 | 6 | Leukemia     | ALL    |  3.0 |\n",
       "| CHP_429 | 6 | Solid tumors | WILMS  |  1.0 |\n",
       "| CHP_430 | 6 | Lymphoma     | PMBCL  | 16.0 |\n",
       "| CHP_431 | 6 | Solid tumors | RMS    |  0.2 |\n",
       "| CHP_432 | 6 | Solid tumors | OS     | 15.0 |\n",
       "| CHP_433 | 6 | Lymphoma     | ALCL   | 16.0 |\n",
       "| CHP_434 | 6 | Lymphoma     | HD     | 12.0 |\n",
       "| CHP_435 | 6 | Leukemia     | AML    |  0.0 |\n",
       "| CHP_436 | 6 | Solid tumors | OS     | 15.0 |\n",
       "| CHP_437 | 6 | Solid tumors | OS     |  9.0 |\n",
       "\n"
      ],
      "text/plain": [
       "    Patient cycle cancergroup  Disease_type Age \n",
       "1   CHP_346 6     Solid tumors NB            1.0\n",
       "2   CHP_347 6     Leukemia     ALL          13.0\n",
       "3   CHP_348 6     Solid tumors OS           18.0\n",
       "4   CHP_349 6     Leukemia     CML          17.0\n",
       "5   CHP_350 6     Solid tumors HB            1.0\n",
       "6   CHP_352 6     Leukemia     HR ALL       17.0\n",
       "7   CHP_353 6     Leukemia     AML           6.0\n",
       "8   CHP_354 6     Leukemia     AML           9.0\n",
       "9   CHP_355 6     Leukemia     HR ALL        3.0\n",
       "10  CHP_357 6     Leukemia     AML           1.0\n",
       "11  CHP_361 6     Lymphoma     HD           13.0\n",
       "12  CHP_362 6     Solid tumors OS           16.0\n",
       "13  CHP_363 6     Solid tumors EWS          20.0\n",
       "14  CHP_364 6     Solid tumors OS           16.0\n",
       "15  CHP_365 6     Leukemia     ALL           7.0\n",
       "16  CHP_366 6     Lymphoma     HD           14.0\n",
       "17  CHP_367 6     Leukemia     HR ALL       14.0\n",
       "18  CHP_368 6     Solid tumors ARMS          1.0\n",
       "19  CHP_369 6     Leukemia     AML           0.1\n",
       "20  CHP_370 6     Lymphoma     ALCL         17.0\n",
       "21  CHP_371 6     Lymphoma     BL           15.0\n",
       "22  CHP_372 6     Lymphoma     BL           21.0\n",
       "23  CHP_373 6     Leukemia     ALL           2.0\n",
       "24  CHP_378 6     Leukemia     ALL           1.0\n",
       "25  CHP_381 6     Solid tumors EWS           6.0\n",
       "26  CHP_387 6     Leukemia     T-ALL        13.0\n",
       "27  CHP_394 6     Solid tumors ERMS         17.0\n",
       "28  CHP_396 6     Leukemia     HR ALL        1.0\n",
       "29  CHP_397 6     Leukemia     ALL           2.0\n",
       "30  CHP_399 6     Leukemia     HR ALL        2.0\n",
       "... ...     ...   ...          ...          ... \n",
       "90  CHP_421 6     Leukemia     ALL           8.0\n",
       "91  CHP_423 6     Leukemia     ALL           2.0\n",
       "92  CHP_334 6     Leukemia     HR ALL       19.0\n",
       "93  CHP_341 6     Leukemia     CML          12.0\n",
       "94  CHP_389 6     Lymphoma     HD            4.0\n",
       "95  CHP_336 6     Leukemia     ALL          11.0\n",
       "96  CHP_337 6     Lymphoma     BLL           3.0\n",
       "97  CHP_329 6     Leukemia     HR ALL       14.0\n",
       "98  CHP_326 6     Leukemia     SR ALL        4.0\n",
       "99  CHP_333 6     Lymphoma     HD           12.0\n",
       "100 CHP_320 6     Leukemia     AML           6.0\n",
       "101 CHP_321 6     Lymphoma     HD           16.0\n",
       "102 CHP_322 6     Lymphoma     DLBCL        18.0\n",
       "103 CHP_325 6     Solid tumors ERMS          2.0\n",
       "104 CHP_327 6     Solid tumors HB            0.6\n",
       "105 CHP_332 6     Solid tumors ERMS         10.0\n",
       "106 CHP_424 6     Leukemia     ALL           1.0\n",
       "107 CHP_425 6     Solid tumors WILMS         0.5\n",
       "108 CHP_426 6     Solid tumors RMS           1.0\n",
       "109 CHP_427 6     Solid tumors RMS          10.0\n",
       "110 CHP_428 6     Leukemia     ALL           3.0\n",
       "111 CHP_429 6     Solid tumors WILMS         1.0\n",
       "112 CHP_430 6     Lymphoma     PMBCL        16.0\n",
       "113 CHP_431 6     Solid tumors RMS           0.2\n",
       "114 CHP_432 6     Solid tumors OS           15.0\n",
       "115 CHP_433 6     Lymphoma     ALCL         16.0\n",
       "116 CHP_434 6     Lymphoma     HD           12.0\n",
       "117 CHP_435 6     Leukemia     AML           0.0\n",
       "118 CHP_436 6     Solid tumors OS           15.0\n",
       "119 CHP_437 6     Solid tumors OS            9.0"
      ]
     },
     "metadata": {},
     "output_type": "display_data"
    }
   ],
   "source": [
    "patients_cycles"
   ]
  },
  {
   "cell_type": "code",
   "execution_count": 65,
   "metadata": {
    "vscode": {
     "languageId": "r"
    }
   },
   "outputs": [],
   "source": [
    "p0 <- ggplot(patients_cycles, aes(Patient, cycle)) +\n",
    "  geom_bar(stat = \"identity\", aes(fill = cancergroup), width = 0.8, alpha = 0.2) +\n",
    "  geom_point(data = mydat_m, aes(Var1, newcycle, colour = Datatype, shape = Datatype), size = 1.5) +\n",
    "  coord_flip() +\n",
    "  scale_fill_manual(values = group_col[c(\"Leukemia\", \"Lymphoma\", \"Solid tumors\")]) +\n",
    "  scale_color_brewer(palette = \"Set1\") +\n",
    "  scale_shape_manual(values = c(15, 16, 17, 18)) +\n",
    "  scale_y_continuous(expand = c(0, 0), limits = c(0, 6), breaks = c(1, 2, 3, 4, 5), labels = c(\"Pre-cycle 1\", \"Pre-cycle 2\", \"Pre-cycle 3\", \"Pre-cycle 4\", \"Pre-cycle 5\")) +\n",
    "  myplot +\n",
    "  theme(\n",
    "    axis.title.y = element_blank(), \n",
    "    axis.text.y = element_text(size = 10), \n",
    "    axis.ticks.x = element_blank(), \n",
    "    plot.margin = unit(c(0.1, 0.2, 0.1, 0.2), \"cm\"),\n",
    "    axis.line.x = element_line(colour = \"black\"), \n",
    "    axis.text.x = element_text(size = 20, angle = 45, hjust = 1), \n",
    "    axis.title.x = element_blank()\n",
    "  )\n"
   ]
  },
  {
   "cell_type": "code",
   "execution_count": 66,
   "metadata": {
    "vscode": {
     "languageId": "r"
    }
   },
   "outputs": [
    {
     "data": {
      "image/png": "[encoded data removed]",
      "text/plain": [
       "plot without title"
      ]
     },
     "metadata": {
      "image/png": {
       "height": 420,
       "width": 420
      }
     },
     "output_type": "display_data"
    }
   ],
   "source": [
    "p0"
   ]
  },
  {
   "attachments": {},
   "cell_type": "markdown",
   "metadata": {},
   "source": [
    "age barplot on the right"
   ]
  },
  {
   "cell_type": "code",
   "execution_count": 67,
   "metadata": {
    "vscode": {
     "languageId": "r"
    }
   },
   "outputs": [
    {
     "data": {
      "text/html": [
       "<style>\n",
       ".dl-inline {width: auto; margin:0; padding: 0}\n",
       ".dl-inline>dt, .dl-inline>dd {float: none; width: auto; display: inline-block}\n",
       ".dl-inline>dt::after {content: \":\\0020\"; padding-right: .5ex}\n",
       ".dl-inline>dt:not(:first-of-type) {padding-left: .5ex}\n",
       "</style><dl class=dl-inline><dt>Leukemia</dt><dd>'#1B9E77'</dd><dt>Lymphoma</dt><dd>'#D95F02'</dd><dt>Solid tumors</dt><dd>'#7570B3'</dd><dt>T-cell malignancies</dt><dd>'#2171b5'</dd><dt>LFS</dt><dd>'black'</dd><dt>Normal</dt><dd>'light grey'</dd></dl>\n"
      ],
      "text/latex": [
       "\\begin{description*}\n",
       "\\item[Leukemia] '\\#1B9E77'\n",
       "\\item[Lymphoma] '\\#D95F02'\n",
       "\\item[Solid tumors] '\\#7570B3'\n",
       "\\item[T-cell malignancies] '\\#2171b5'\n",
       "\\item[LFS] 'black'\n",
       "\\item[Normal] 'light grey'\n",
       "\\end{description*}\n"
      ],
      "text/markdown": [
       "Leukemia\n",
       ":   '#1B9E77'Lymphoma\n",
       ":   '#D95F02'Solid tumors\n",
       ":   '#7570B3'T-cell malignancies\n",
       ":   '#2171b5'LFS\n",
       ":   'black'Normal\n",
       ":   'light grey'\n",
       "\n"
      ],
      "text/plain": [
       "           Leukemia            Lymphoma        Solid tumors T-cell malignancies \n",
       "          \"#1B9E77\"           \"#D95F02\"           \"#7570B3\"           \"#2171b5\" \n",
       "                LFS              Normal \n",
       "            \"black\"        \"light grey\" "
      ]
     },
     "metadata": {},
     "output_type": "display_data"
    }
   ],
   "source": [
    "group_col"
   ]
  },
  {
   "cell_type": "code",
   "execution_count": 68,
   "metadata": {
    "vscode": {
     "languageId": "r"
    }
   },
   "outputs": [],
   "source": [
    "p1 <- ggplot(patients_cycles, aes(Patient, Age)) +\n",
    "  geom_bar(stat = \"identity\", aes(fill = cancergroup), width = 0.8, alpha = 0.2) +\n",
    "  coord_flip() +\n",
    "  scale_fill_manual(values = group_col[c(\"Leukemia\", \"Lymphoma\", \"Solid tumors\")]) +\n",
    "  myplot +\n",
    "  theme(\n",
    "    legend.position = \"none\", plot.margin = unit(c(0.1, 0.1, 0.1, 0.2), \"cm\"),\n",
    "    axis.text.y = element_blank(), axis.title.y = element_blank(), axis.title.x = element_text(size = 20),\n",
    "    axis.line.x = element_line(colour = \"black\"), axis.text.x = element_text(size = 20)\n",
    "  )"
   ]
  },
  {
   "cell_type": "code",
   "execution_count": 69,
   "metadata": {
    "vscode": {
     "languageId": "r"
    }
   },
   "outputs": [],
   "source": [
    "# Add disease type as labels\n",
    "p0 <- p0 + theme(legend.position = \"none\") +\n",
    "scale_x_discrete(labels = patients_cycles$Disease_type[match(levels(patients_cycles$Patient), patients_cycles$Patient)]) "
   ]
  },
  {
   "cell_type": "code",
   "execution_count": 70,
   "metadata": {
    "vscode": {
     "languageId": "r"
    }
   },
   "outputs": [
    {
     "data": {
      "text/plain": [
       "\n",
       "    Leukemia     Lymphoma Solid tumors \n",
       "          59           21           39 "
      ]
     },
     "metadata": {},
     "output_type": "display_data"
    }
   ],
   "source": [
    "table(patients_cycles$cancergroup)"
   ]
  },
  {
   "cell_type": "code",
   "execution_count": 71,
   "metadata": {
    "vscode": {
     "languageId": "r"
    }
   },
   "outputs": [
    {
     "data": {
      "text/plain": [
       "\n",
       "    Leukemia     Lymphoma Solid tumors \n",
       "          59           21           39 "
      ]
     },
     "metadata": {},
     "output_type": "display_data"
    }
   ],
   "source": [
    "table(patients_cycles$cancergroup)"
   ]
  },
  {
   "cell_type": "code",
   "execution_count": 72,
   "metadata": {
    "vscode": {
     "languageId": "r"
    }
   },
   "outputs": [],
   "source": [
    "p1b <- p1 + geom_bracket(xmin = c(1, 60, 81), xmax = c(59, 80, 119), y.position = c(22, 22,22),\n",
    "  label.size = 7, label = c(\"\", \"\", \"\"), coord.flip = T) + # changes the orientaitons of labels, set without label, then add with annotate\n",
    "  scale_y_continuous(expand = c(0,0), limits = c(0,35), breaks = c(5,10,15,20)) +\n",
    "  annotate(\"text\", x = c(29.5, 69.5, 99.5), y = c(22.5, 22.5,22.3), label = c(\"Leukemia\", \"Lymphoma\", \"Solid tumors\"), size = 7, hjust = 0) + labs(y = \"Age (Years)\")"
   ]
  },
  {
   "cell_type": "code",
   "execution_count": 73,
   "metadata": {
    "vscode": {
     "languageId": "r"
    }
   },
   "outputs": [],
   "source": [
    "# allp <- plot_grid(p0 , p1,\n",
    "# ncol = 2, rel_widths = c(1, 0.3))"
   ]
  },
  {
   "cell_type": "code",
   "execution_count": 74,
   "metadata": {
    "vscode": {
     "languageId": "r"
    }
   },
   "outputs": [],
   "source": [
    "# pdf(paste0(plotpath,\"swimmerplot.pdf\"), width=10, height=16)\n",
    "# allp #+  theme(aspect.ratio = 4/2)\n",
    "# dev.off()"
   ]
  },
  {
   "cell_type": "code",
   "execution_count": 75,
   "metadata": {
    "vscode": {
     "languageId": "r"
    }
   },
   "outputs": [
    {
     "data": {
      "text/html": [
       "<strong>pdf:</strong> 2"
      ],
      "text/latex": [
       "\\textbf{pdf:} 2"
      ],
      "text/markdown": [
       "**pdf:** 2"
      ],
      "text/plain": [
       "pdf \n",
       "  2 "
      ]
     },
     "metadata": {},
     "output_type": "display_data"
    }
   ],
   "source": [
    "pdf(paste0(plotpath,\"swimmerplot_lgd.pdf\"), width=5, height=5)\n",
    "\n",
    "grid::grid.draw( get_legend(p0 + \n",
    "theme(legend.position = 'right', legend.box = 'vertical', legend.margin = margin(0,0,0,0)) +\n",
    "guides(colour = guide_legend(override.aes = list(size=3)))) )\n",
    "\n",
    "dev.off()"
   ]
  },
  {
   "attachments": {},
   "cell_type": "markdown",
   "metadata": {},
   "source": [
    "## Add clinical heatmap"
   ]
  },
  {
   "cell_type": "code",
   "execution_count": 76,
   "metadata": {
    "vscode": {
     "languageId": "r"
    }
   },
   "outputs": [
    {
     "data": {
      "text/plain": [
       "\n",
       "    Leukemia     Lymphoma Solid tumors \n",
       "         399          152          257 "
      ]
     },
     "metadata": {},
     "output_type": "display_data"
    }
   ],
   "source": [
    "table(subset_meta$cancergroup)"
   ]
  },
  {
   "cell_type": "code",
   "execution_count": 77,
   "metadata": {
    "vscode": {
     "languageId": "r"
    }
   },
   "outputs": [
    {
     "data": {
      "text/html": [
       "<table class=\"dataframe\">\n",
       "<caption>A data.frame: 6 x 10</caption>\n",
       "<thead>\n",
       "\t<tr><th></th><th scope=col>Patient</th><th scope=col>cycle</th><th scope=col>FOLD</th><th scope=col>Disease_type</th><th scope=col>CD3</th><th scope=col>cancergroup</th><th scope=col>sampletype</th><th scope=col>TRB</th><th scope=col>Age</th><th scope=col>file</th></tr>\n",
       "\t<tr><th></th><th scope=col>&lt;chr&gt;</th><th scope=col>&lt;dbl&gt;</th><th scope=col>&lt;dbl&gt;</th><th scope=col>&lt;chr&gt;</th><th scope=col>&lt;int&gt;</th><th scope=col>&lt;chr&gt;</th><th scope=col>&lt;chr&gt;</th><th scope=col>&lt;int&gt;</th><th scope=col>&lt;dbl&gt;</th><th scope=col>&lt;chr&gt;</th></tr>\n",
       "</thead>\n",
       "<tbody>\n",
       "\t<tr><th scope=row>302</th><td>CHP_319</td><td>5</td><td>1.2</td><td>HR ALL</td><td>0</td><td>Leukemia</td><td>PBMC</td><td> 15</td><td> 1</td><td>batch2_Aug62019/mixcr/clones/CLONES_TRBCHP_319-05-PBMC-DNA.txt              </td></tr>\n",
       "\t<tr><th scope=row>320</th><td>CHP_323</td><td>3</td><td>0.0</td><td>HR ALL</td><td>0</td><td>Leukemia</td><td>PBMC</td><td> 45</td><td> 1</td><td>batch4_19Aug2019/mixcr/clones/CLONES_TRBCHP_323-03-PBMC-DNA.txt             </td></tr>\n",
       "\t<tr><th scope=row>322</th><td>CHP_323</td><td>5</td><td>0.0</td><td>HR ALL</td><td>0</td><td>Leukemia</td><td>PBMC</td><td>153</td><td> 1</td><td>batch7_25Oct2019/mixcr/clones/CLONES_TRBCHP_323-05-PBMC-DNA.txt             </td></tr>\n",
       "\t<tr><th scope=row>327</th><td>CHP_324</td><td>5</td><td>0.0</td><td>T-ALL </td><td>0</td><td>Leukemia</td><td>PBMC</td><td>229</td><td>12</td><td>remaining_batch_2_22April2021/mixcr/clones/CLONES_TRBCHP_324-05_PBMC-DNA.txt</td></tr>\n",
       "\t<tr><th scope=row>346</th><td>CHP_328</td><td>4</td><td>0.0</td><td>SR ALL</td><td>0</td><td>Leukemia</td><td>PBMC</td><td>454</td><td> 7</td><td>remaining_batch_4_28June2021/mixcr/clones/CLONES_TRBCHP-328-04-PBMC-DNA.txt </td></tr>\n",
       "\t<tr><th scope=row>347</th><td>CHP_328</td><td>5</td><td>0.0</td><td>SR ALL</td><td>0</td><td>Leukemia</td><td>PBMC</td><td>153</td><td> 7</td><td>remaining_batch_4_28June2021/mixcr/clones/CLONES_TRBCHP-328-05-PBMC-DNA.txt </td></tr>\n",
       "</tbody>\n",
       "</table>\n"
      ],
      "text/latex": [
       "A data.frame: 6 x 10\n",
       "\\begin{tabular}{r|llllllllll}\n",
       "  & Patient & cycle & FOLD & Disease\\_type & CD3 & cancergroup & sampletype & TRB & Age & file\\\\\n",
       "  & <chr> & <dbl> & <dbl> & <chr> & <int> & <chr> & <chr> & <int> & <dbl> & <chr>\\\\\n",
       "\\hline\n",
       "\t302 & CHP\\_319 & 5 & 1.2 & HR ALL & 0 & Leukemia & PBMC &  15 &  1 & batch2\\_Aug62019/mixcr/clones/CLONES\\_TRBCHP\\_319-05-PBMC-DNA.txt              \\\\\n",
       "\t320 & CHP\\_323 & 3 & 0.0 & HR ALL & 0 & Leukemia & PBMC &  45 &  1 & batch4\\_19Aug2019/mixcr/clones/CLONES\\_TRBCHP\\_323-03-PBMC-DNA.txt             \\\\\n",
       "\t322 & CHP\\_323 & 5 & 0.0 & HR ALL & 0 & Leukemia & PBMC & 153 &  1 & batch7\\_25Oct2019/mixcr/clones/CLONES\\_TRBCHP\\_323-05-PBMC-DNA.txt             \\\\\n",
       "\t327 & CHP\\_324 & 5 & 0.0 & T-ALL  & 0 & Leukemia & PBMC & 229 & 12 & remaining\\_batch\\_2\\_22April2021/mixcr/clones/CLONES\\_TRBCHP\\_324-05\\_PBMC-DNA.txt\\\\\n",
       "\t346 & CHP\\_328 & 4 & 0.0 & SR ALL & 0 & Leukemia & PBMC & 454 &  7 & remaining\\_batch\\_4\\_28June2021/mixcr/clones/CLONES\\_TRBCHP-328-04-PBMC-DNA.txt \\\\\n",
       "\t347 & CHP\\_328 & 5 & 0.0 & SR ALL & 0 & Leukemia & PBMC & 153 &  7 & remaining\\_batch\\_4\\_28June2021/mixcr/clones/CLONES\\_TRBCHP-328-05-PBMC-DNA.txt \\\\\n",
       "\\end{tabular}\n"
      ],
      "text/markdown": [
       "\n",
       "A data.frame: 6 x 10\n",
       "\n",
       "| <!--/--> | Patient &lt;chr&gt; | cycle &lt;dbl&gt; | FOLD &lt;dbl&gt; | Disease_type &lt;chr&gt; | CD3 &lt;int&gt; | cancergroup &lt;chr&gt; | sampletype &lt;chr&gt; | TRB &lt;int&gt; | Age &lt;dbl&gt; | file &lt;chr&gt; |\n",
       "|---|---|---|---|---|---|---|---|---|---|---|\n",
       "| 302 | CHP_319 | 5 | 1.2 | HR ALL | 0 | Leukemia | PBMC |  15 |  1 | batch2_Aug62019/mixcr/clones/CLONES_TRBCHP_319-05-PBMC-DNA.txt               |\n",
       "| 320 | CHP_323 | 3 | 0.0 | HR ALL | 0 | Leukemia | PBMC |  45 |  1 | batch4_19Aug2019/mixcr/clones/CLONES_TRBCHP_323-03-PBMC-DNA.txt              |\n",
       "| 322 | CHP_323 | 5 | 0.0 | HR ALL | 0 | Leukemia | PBMC | 153 |  1 | batch7_25Oct2019/mixcr/clones/CLONES_TRBCHP_323-05-PBMC-DNA.txt              |\n",
       "| 327 | CHP_324 | 5 | 0.0 | T-ALL  | 0 | Leukemia | PBMC | 229 | 12 | remaining_batch_2_22April2021/mixcr/clones/CLONES_TRBCHP_324-05_PBMC-DNA.txt |\n",
       "| 346 | CHP_328 | 4 | 0.0 | SR ALL | 0 | Leukemia | PBMC | 454 |  7 | remaining_batch_4_28June2021/mixcr/clones/CLONES_TRBCHP-328-04-PBMC-DNA.txt  |\n",
       "| 347 | CHP_328 | 5 | 0.0 | SR ALL | 0 | Leukemia | PBMC | 153 |  7 | remaining_batch_4_28June2021/mixcr/clones/CLONES_TRBCHP-328-05-PBMC-DNA.txt  |\n",
       "\n"
      ],
      "text/plain": [
       "    Patient cycle FOLD Disease_type CD3 cancergroup sampletype TRB Age\n",
       "302 CHP_319 5     1.2  HR ALL       0   Leukemia    PBMC        15  1 \n",
       "320 CHP_323 3     0.0  HR ALL       0   Leukemia    PBMC        45  1 \n",
       "322 CHP_323 5     0.0  HR ALL       0   Leukemia    PBMC       153  1 \n",
       "327 CHP_324 5     0.0  T-ALL        0   Leukemia    PBMC       229 12 \n",
       "346 CHP_328 4     0.0  SR ALL       0   Leukemia    PBMC       454  7 \n",
       "347 CHP_328 5     0.0  SR ALL       0   Leukemia    PBMC       153  7 \n",
       "    file                                                                        \n",
       "302 batch2_Aug62019/mixcr/clones/CLONES_TRBCHP_319-05-PBMC-DNA.txt              \n",
       "320 batch4_19Aug2019/mixcr/clones/CLONES_TRBCHP_323-03-PBMC-DNA.txt             \n",
       "322 batch7_25Oct2019/mixcr/clones/CLONES_TRBCHP_323-05-PBMC-DNA.txt             \n",
       "327 remaining_batch_2_22April2021/mixcr/clones/CLONES_TRBCHP_324-05_PBMC-DNA.txt\n",
       "346 remaining_batch_4_28June2021/mixcr/clones/CLONES_TRBCHP-328-04-PBMC-DNA.txt \n",
       "347 remaining_batch_4_28June2021/mixcr/clones/CLONES_TRBCHP-328-05-PBMC-DNA.txt "
      ]
     },
     "metadata": {},
     "output_type": "display_data"
    }
   ],
   "source": [
    "head(subset_meta)"
   ]
  },
  {
   "cell_type": "code",
   "execution_count": 92,
   "metadata": {
    "vscode": {
     "languageId": "r"
    }
   },
   "outputs": [],
   "source": [
    "clinical <- meta_div[, c(\"Patient\",\"Age\", \"Relapse\", \"Transplant\", \"CART\", \"Remission\", \"vital_status\", \"LOF\", \"Disease_type\")]"
   ]
  },
  {
   "cell_type": "code",
   "execution_count": 93,
   "metadata": {
    "vscode": {
     "languageId": "r"
    }
   },
   "outputs": [
    {
     "data": {
      "text/html": [
       "<style>\n",
       ".list-inline {list-style: none; margin:0; padding: 0}\n",
       ".list-inline>li {display: inline-block}\n",
       ".list-inline>li:not(:last-child)::after {content: \"\\00b7\"; padding: 0 .5ex}\n",
       "</style>\n",
       "<ol class=list-inline><li>119</li><li>5</li></ol>\n"
      ],
      "text/latex": [
       "\\begin{enumerate*}\n",
       "\\item 119\n",
       "\\item 5\n",
       "\\end{enumerate*}\n"
      ],
      "text/markdown": [
       "1. 119\n",
       "2. 5\n",
       "\n",
       "\n"
      ],
      "text/plain": [
       "[1] 119   5"
      ]
     },
     "metadata": {},
     "output_type": "display_data"
    }
   ],
   "source": [
    "dim(patients_cycles)"
   ]
  },
  {
   "cell_type": "code",
   "execution_count": 96,
   "metadata": {
    "vscode": {
     "languageId": "r"
    }
   },
   "outputs": [
    {
     "data": {
      "text/plain": [
       "   Min. 1st Qu.  Median    Mean 3rd Qu.    Max. \n",
       "  0.000   2.000   8.000   8.166  14.000  21.000 "
      ]
     },
     "metadata": {},
     "output_type": "display_data"
    }
   ],
   "source": [
    "summary(clinical_unique$Age)"
   ]
  },
  {
   "cell_type": "code",
   "execution_count": 94,
   "metadata": {
    "vscode": {
     "languageId": "r"
    }
   },
   "outputs": [],
   "source": [
    "clinical_unique <- clinical[!duplicated(clinical$Patient), ]"
   ]
  },
  {
   "cell_type": "code",
   "execution_count": 95,
   "metadata": {
    "vscode": {
     "languageId": "r"
    }
   },
   "outputs": [
    {
     "data": {
      "text/html": [
       "<table class=\"dataframe\">\n",
       "<caption>A data.frame: 10 x 9</caption>\n",
       "<thead>\n",
       "\t<tr><th></th><th scope=col>Patient</th><th scope=col>Age</th><th scope=col>Relapse</th><th scope=col>Transplant</th><th scope=col>CART</th><th scope=col>Remission</th><th scope=col>vital_status</th><th scope=col>LOF</th><th scope=col>Disease_type</th></tr>\n",
       "\t<tr><th></th><th scope=col>&lt;chr&gt;</th><th scope=col>&lt;dbl&gt;</th><th scope=col>&lt;int&gt;</th><th scope=col>&lt;int&gt;</th><th scope=col>&lt;int&gt;</th><th scope=col>&lt;int&gt;</th><th scope=col>&lt;int&gt;</th><th scope=col>&lt;int&gt;</th><th scope=col>&lt;chr&gt;</th></tr>\n",
       "</thead>\n",
       "<tbody>\n",
       "\t<tr><th scope=row>405</th><td>CHP_340</td><td> 1</td><td>0</td><td>0</td><td>0</td><td>0</td><td>0</td><td>1</td><td>ALL   </td></tr>\n",
       "\t<tr><th scope=row>463</th><td>CHP_352</td><td>17</td><td>0</td><td>0</td><td>0</td><td>0</td><td>0</td><td>1</td><td>HR ALL</td></tr>\n",
       "\t<tr><th scope=row>478</th><td>CHP_355</td><td> 3</td><td>0</td><td>0</td><td>0</td><td>0</td><td>0</td><td>1</td><td>HR ALL</td></tr>\n",
       "\t<tr><th scope=row>484</th><td>CHP_356</td><td> 9</td><td>1</td><td>0</td><td>0</td><td>0</td><td>0</td><td>1</td><td>EWS   </td></tr>\n",
       "\t<tr><th scope=row>523</th><td>CHP_364</td><td>16</td><td>1</td><td>0</td><td>0</td><td>0</td><td>0</td><td>1</td><td>OS    </td></tr>\n",
       "\t<tr><th scope=row>620</th><td>CHP_383</td><td> 8</td><td>0</td><td>0</td><td>0</td><td>1</td><td>0</td><td>1</td><td>ALL   </td></tr>\n",
       "\t<tr><th scope=row>638</th><td>CHP_387</td><td>13</td><td>0</td><td>0</td><td>0</td><td>0</td><td>0</td><td>1</td><td>T-ALL </td></tr>\n",
       "\t<tr><th scope=row>666</th><td>CHP_392</td><td> 8</td><td>0</td><td>0</td><td>0</td><td>0</td><td>0</td><td>1</td><td>ALL   </td></tr>\n",
       "\t<tr><th scope=row>683</th><td>CHP_396</td><td> 1</td><td>0</td><td>0</td><td>0</td><td>0</td><td>0</td><td>1</td><td>HR ALL</td></tr>\n",
       "\t<tr><th scope=row>816</th><td>CHP_422</td><td>12</td><td>0</td><td>0</td><td>0</td><td>0</td><td>0</td><td>1</td><td>ALL   </td></tr>\n",
       "</tbody>\n",
       "</table>\n"
      ],
      "text/latex": [
       "A data.frame: 10 x 9\n",
       "\\begin{tabular}{r|lllllllll}\n",
       "  & Patient & Age & Relapse & Transplant & CART & Remission & vital\\_status & LOF & Disease\\_type\\\\\n",
       "  & <chr> & <dbl> & <int> & <int> & <int> & <int> & <int> & <int> & <chr>\\\\\n",
       "\\hline\n",
       "\t405 & CHP\\_340 &  1 & 0 & 0 & 0 & 0 & 0 & 1 & ALL   \\\\\n",
       "\t463 & CHP\\_352 & 17 & 0 & 0 & 0 & 0 & 0 & 1 & HR ALL\\\\\n",
       "\t478 & CHP\\_355 &  3 & 0 & 0 & 0 & 0 & 0 & 1 & HR ALL\\\\\n",
       "\t484 & CHP\\_356 &  9 & 1 & 0 & 0 & 0 & 0 & 1 & EWS   \\\\\n",
       "\t523 & CHP\\_364 & 16 & 1 & 0 & 0 & 0 & 0 & 1 & OS    \\\\\n",
       "\t620 & CHP\\_383 &  8 & 0 & 0 & 0 & 1 & 0 & 1 & ALL   \\\\\n",
       "\t638 & CHP\\_387 & 13 & 0 & 0 & 0 & 0 & 0 & 1 & T-ALL \\\\\n",
       "\t666 & CHP\\_392 &  8 & 0 & 0 & 0 & 0 & 0 & 1 & ALL   \\\\\n",
       "\t683 & CHP\\_396 &  1 & 0 & 0 & 0 & 0 & 0 & 1 & HR ALL\\\\\n",
       "\t816 & CHP\\_422 & 12 & 0 & 0 & 0 & 0 & 0 & 1 & ALL   \\\\\n",
       "\\end{tabular}\n"
      ],
      "text/markdown": [
       "\n",
       "A data.frame: 10 x 9\n",
       "\n",
       "| <!--/--> | Patient &lt;chr&gt; | Age &lt;dbl&gt; | Relapse &lt;int&gt; | Transplant &lt;int&gt; | CART &lt;int&gt; | Remission &lt;int&gt; | vital_status &lt;int&gt; | LOF &lt;int&gt; | Disease_type &lt;chr&gt; |\n",
       "|---|---|---|---|---|---|---|---|---|---|\n",
       "| 405 | CHP_340 |  1 | 0 | 0 | 0 | 0 | 0 | 1 | ALL    |\n",
       "| 463 | CHP_352 | 17 | 0 | 0 | 0 | 0 | 0 | 1 | HR ALL |\n",
       "| 478 | CHP_355 |  3 | 0 | 0 | 0 | 0 | 0 | 1 | HR ALL |\n",
       "| 484 | CHP_356 |  9 | 1 | 0 | 0 | 0 | 0 | 1 | EWS    |\n",
       "| 523 | CHP_364 | 16 | 1 | 0 | 0 | 0 | 0 | 1 | OS     |\n",
       "| 620 | CHP_383 |  8 | 0 | 0 | 0 | 1 | 0 | 1 | ALL    |\n",
       "| 638 | CHP_387 | 13 | 0 | 0 | 0 | 0 | 0 | 1 | T-ALL  |\n",
       "| 666 | CHP_392 |  8 | 0 | 0 | 0 | 0 | 0 | 1 | ALL    |\n",
       "| 683 | CHP_396 |  1 | 0 | 0 | 0 | 0 | 0 | 1 | HR ALL |\n",
       "| 816 | CHP_422 | 12 | 0 | 0 | 0 | 0 | 0 | 1 | ALL    |\n",
       "\n"
      ],
      "text/plain": [
       "    Patient Age Relapse Transplant CART Remission vital_status LOF Disease_type\n",
       "405 CHP_340  1  0       0          0    0         0            1   ALL         \n",
       "463 CHP_352 17  0       0          0    0         0            1   HR ALL      \n",
       "478 CHP_355  3  0       0          0    0         0            1   HR ALL      \n",
       "484 CHP_356  9  1       0          0    0         0            1   EWS         \n",
       "523 CHP_364 16  1       0          0    0         0            1   OS          \n",
       "620 CHP_383  8  0       0          0    1         0            1   ALL         \n",
       "638 CHP_387 13  0       0          0    0         0            1   T-ALL       \n",
       "666 CHP_392  8  0       0          0    0         0            1   ALL         \n",
       "683 CHP_396  1  0       0          0    0         0            1   HR ALL      \n",
       "816 CHP_422 12  0       0          0    0         0            1   ALL         "
      ]
     },
     "metadata": {},
     "output_type": "display_data"
    }
   ],
   "source": [
    "clinical_unique[ clinical_unique$LOF == 1,]"
   ]
  },
  {
   "cell_type": "code",
   "execution_count": 81,
   "metadata": {
    "vscode": {
     "languageId": "r"
    }
   },
   "outputs": [],
   "source": [
    "clinical_unique$Patient <- factor(clinical_unique$Patient, levels = levels(patients_cycles$Patient) )# match order of patients"
   ]
  },
  {
   "cell_type": "code",
   "execution_count": 90,
   "metadata": {
    "vscode": {
     "languageId": "r"
    }
   },
   "outputs": [
    {
     "data": {
      "text/plain": [
       "\n",
       " 0  1 \n",
       "96 23 "
      ]
     },
     "metadata": {},
     "output_type": "display_data"
    }
   ],
   "source": [
    "table(clinical_unique$Relapse)"
   ]
  },
  {
   "cell_type": "code",
   "execution_count": 91,
   "metadata": {
    "vscode": {
     "languageId": "r"
    }
   },
   "outputs": [
    {
     "data": {
      "text/html": [
       "<table class=\"dataframe\">\n",
       "<caption>A data.frame: 10 x 8</caption>\n",
       "<thead>\n",
       "\t<tr><th></th><th scope=col>Patient</th><th scope=col>Relapse</th><th scope=col>Transplant</th><th scope=col>CART</th><th scope=col>Remission</th><th scope=col>vital_status</th><th scope=col>LOF</th><th scope=col>Disease_type</th></tr>\n",
       "\t<tr><th></th><th scope=col>&lt;fct&gt;</th><th scope=col>&lt;int&gt;</th><th scope=col>&lt;int&gt;</th><th scope=col>&lt;int&gt;</th><th scope=col>&lt;int&gt;</th><th scope=col>&lt;int&gt;</th><th scope=col>&lt;int&gt;</th><th scope=col>&lt;chr&gt;</th></tr>\n",
       "</thead>\n",
       "<tbody>\n",
       "\t<tr><th scope=row>395</th><td>CHP_338</td><td>1</td><td>1</td><td>0</td><td>0</td><td>0</td><td>0</td><td>AML   </td></tr>\n",
       "\t<tr><th scope=row>416</th><td>CHP_342</td><td>1</td><td>1</td><td>0</td><td>0</td><td>1</td><td>0</td><td>AML   </td></tr>\n",
       "\t<tr><th scope=row>448</th><td>CHP_349</td><td>1</td><td>1</td><td>0</td><td>1</td><td>0</td><td>0</td><td>CML   </td></tr>\n",
       "\t<tr><th scope=row>468</th><td>CHP_353</td><td>1</td><td>1</td><td>0</td><td>1</td><td>0</td><td>0</td><td>AML   </td></tr>\n",
       "\t<tr><th scope=row>499</th><td>CHP_359</td><td>1</td><td>1</td><td>0</td><td>0</td><td>1</td><td>0</td><td>AML   </td></tr>\n",
       "\t<tr><th scope=row>584</th><td>CHP_376</td><td>1</td><td>1</td><td>0</td><td>0</td><td>1</td><td>0</td><td>AML   </td></tr>\n",
       "\t<tr><th scope=row>604</th><td>CHP_380</td><td>1</td><td>1</td><td>0</td><td>1</td><td>0</td><td>0</td><td>HD    </td></tr>\n",
       "\t<tr><th scope=row>762</th><td>CHP_411</td><td>1</td><td>1</td><td>1</td><td>1</td><td>0</td><td>0</td><td>HR ALL</td></tr>\n",
       "\t<tr><th scope=row>771</th><td>CHP_413</td><td>1</td><td>1</td><td>0</td><td>1</td><td>0</td><td>0</td><td>AML   </td></tr>\n",
       "\t<tr><th scope=row>881</th><td>CHP_435</td><td>1</td><td>1</td><td>0</td><td>1</td><td>0</td><td>0</td><td>AML   </td></tr>\n",
       "</tbody>\n",
       "</table>\n"
      ],
      "text/latex": [
       "A data.frame: 10 x 8\n",
       "\\begin{tabular}{r|llllllll}\n",
       "  & Patient & Relapse & Transplant & CART & Remission & vital\\_status & LOF & Disease\\_type\\\\\n",
       "  & <fct> & <int> & <int> & <int> & <int> & <int> & <int> & <chr>\\\\\n",
       "\\hline\n",
       "\t395 & CHP\\_338 & 1 & 1 & 0 & 0 & 0 & 0 & AML   \\\\\n",
       "\t416 & CHP\\_342 & 1 & 1 & 0 & 0 & 1 & 0 & AML   \\\\\n",
       "\t448 & CHP\\_349 & 1 & 1 & 0 & 1 & 0 & 0 & CML   \\\\\n",
       "\t468 & CHP\\_353 & 1 & 1 & 0 & 1 & 0 & 0 & AML   \\\\\n",
       "\t499 & CHP\\_359 & 1 & 1 & 0 & 0 & 1 & 0 & AML   \\\\\n",
       "\t584 & CHP\\_376 & 1 & 1 & 0 & 0 & 1 & 0 & AML   \\\\\n",
       "\t604 & CHP\\_380 & 1 & 1 & 0 & 1 & 0 & 0 & HD    \\\\\n",
       "\t762 & CHP\\_411 & 1 & 1 & 1 & 1 & 0 & 0 & HR ALL\\\\\n",
       "\t771 & CHP\\_413 & 1 & 1 & 0 & 1 & 0 & 0 & AML   \\\\\n",
       "\t881 & CHP\\_435 & 1 & 1 & 0 & 1 & 0 & 0 & AML   \\\\\n",
       "\\end{tabular}\n"
      ],
      "text/markdown": [
       "\n",
       "A data.frame: 10 x 8\n",
       "\n",
       "| <!--/--> | Patient &lt;fct&gt; | Relapse &lt;int&gt; | Transplant &lt;int&gt; | CART &lt;int&gt; | Remission &lt;int&gt; | vital_status &lt;int&gt; | LOF &lt;int&gt; | Disease_type &lt;chr&gt; |\n",
       "|---|---|---|---|---|---|---|---|---|\n",
       "| 395 | CHP_338 | 1 | 1 | 0 | 0 | 0 | 0 | AML    |\n",
       "| 416 | CHP_342 | 1 | 1 | 0 | 0 | 1 | 0 | AML    |\n",
       "| 448 | CHP_349 | 1 | 1 | 0 | 1 | 0 | 0 | CML    |\n",
       "| 468 | CHP_353 | 1 | 1 | 0 | 1 | 0 | 0 | AML    |\n",
       "| 499 | CHP_359 | 1 | 1 | 0 | 0 | 1 | 0 | AML    |\n",
       "| 584 | CHP_376 | 1 | 1 | 0 | 0 | 1 | 0 | AML    |\n",
       "| 604 | CHP_380 | 1 | 1 | 0 | 1 | 0 | 0 | HD     |\n",
       "| 762 | CHP_411 | 1 | 1 | 1 | 1 | 0 | 0 | HR ALL |\n",
       "| 771 | CHP_413 | 1 | 1 | 0 | 1 | 0 | 0 | AML    |\n",
       "| 881 | CHP_435 | 1 | 1 | 0 | 1 | 0 | 0 | AML    |\n",
       "\n"
      ],
      "text/plain": [
       "    Patient Relapse Transplant CART Remission vital_status LOF Disease_type\n",
       "395 CHP_338 1       1          0    0         0            0   AML         \n",
       "416 CHP_342 1       1          0    0         1            0   AML         \n",
       "448 CHP_349 1       1          0    1         0            0   CML         \n",
       "468 CHP_353 1       1          0    1         0            0   AML         \n",
       "499 CHP_359 1       1          0    0         1            0   AML         \n",
       "584 CHP_376 1       1          0    0         1            0   AML         \n",
       "604 CHP_380 1       1          0    1         0            0   HD          \n",
       "762 CHP_411 1       1          1    1         0            0   HR ALL      \n",
       "771 CHP_413 1       1          0    1         0            0   AML         \n",
       "881 CHP_435 1       1          0    1         0            0   AML         "
      ]
     },
     "metadata": {},
     "output_type": "display_data"
    }
   ],
   "source": [
    "clinical_unique[ clinical_unique$Transplant == 1,]"
   ]
  },
  {
   "cell_type": "code",
   "execution_count": 82,
   "metadata": {
    "vscode": {
     "languageId": "r"
    }
   },
   "outputs": [],
   "source": [
    "relapsed <- clinical_unique[ clinical_unique$Relapse == 1,]"
   ]
  },
  {
   "cell_type": "code",
   "execution_count": 83,
   "metadata": {
    "vscode": {
     "languageId": "r"
    }
   },
   "outputs": [
    {
     "data": {
      "text/plain": [
       "\n",
       "   AML   ARMS    CML    EWS     HD HR ALL     NB     OS  T-ALL \n",
       "     8      1      1      1      1      5      1      4      1 "
      ]
     },
     "metadata": {},
     "output_type": "display_data"
    }
   ],
   "source": [
    "table(relapsed$Disease_type)"
   ]
  },
  {
   "cell_type": "code",
   "execution_count": 87,
   "metadata": {
    "vscode": {
     "languageId": "r"
    }
   },
   "outputs": [
    {
     "data": {
      "text/html": [
       "<table class=\"dataframe\">\n",
       "<caption>A data.frame: 23 x 8</caption>\n",
       "<thead>\n",
       "\t<tr><th></th><th scope=col>Patient</th><th scope=col>Relapse</th><th scope=col>Transplant</th><th scope=col>CART</th><th scope=col>Remission</th><th scope=col>vital_status</th><th scope=col>LOF</th><th scope=col>Disease_type</th></tr>\n",
       "\t<tr><th></th><th scope=col>&lt;fct&gt;</th><th scope=col>&lt;int&gt;</th><th scope=col>&lt;int&gt;</th><th scope=col>&lt;int&gt;</th><th scope=col>&lt;int&gt;</th><th scope=col>&lt;int&gt;</th><th scope=col>&lt;int&gt;</th><th scope=col>&lt;chr&gt;</th></tr>\n",
       "</thead>\n",
       "<tbody>\n",
       "\t<tr><th scope=row>302</th><td>CHP_319</td><td>1</td><td>0</td><td>1</td><td>0</td><td>1</td><td>0</td><td>HR ALL</td></tr>\n",
       "\t<tr><th scope=row>395</th><td>CHP_338</td><td>1</td><td>1</td><td>0</td><td>0</td><td>0</td><td>0</td><td>AML   </td></tr>\n",
       "\t<tr><th scope=row>416</th><td>CHP_342</td><td>1</td><td>1</td><td>0</td><td>0</td><td>1</td><td>0</td><td>AML   </td></tr>\n",
       "\t<tr><th scope=row>448</th><td>CHP_349</td><td>1</td><td>1</td><td>0</td><td>1</td><td>0</td><td>0</td><td>CML   </td></tr>\n",
       "\t<tr><th scope=row>468</th><td>CHP_353</td><td>1</td><td>1</td><td>0</td><td>1</td><td>0</td><td>0</td><td>AML   </td></tr>\n",
       "\t<tr><th scope=row>484</th><td>CHP_356</td><td>1</td><td>0</td><td>0</td><td>0</td><td>0</td><td>1</td><td>EWS   </td></tr>\n",
       "\t<tr><th scope=row>499</th><td>CHP_359</td><td>1</td><td>1</td><td>0</td><td>0</td><td>1</td><td>0</td><td>AML   </td></tr>\n",
       "\t<tr><th scope=row>523</th><td>CHP_364</td><td>1</td><td>0</td><td>0</td><td>0</td><td>0</td><td>1</td><td>OS    </td></tr>\n",
       "\t<tr><th scope=row>543</th><td>CHP_368</td><td>1</td><td>0</td><td>0</td><td>1</td><td>0</td><td>0</td><td>ARMS  </td></tr>\n",
       "\t<tr><th scope=row>584</th><td>CHP_376</td><td>1</td><td>1</td><td>0</td><td>0</td><td>1</td><td>0</td><td>AML   </td></tr>\n",
       "\t<tr><th scope=row>589</th><td>CHP_377</td><td>1</td><td>0</td><td>1</td><td>1</td><td>0</td><td>0</td><td>HR ALL</td></tr>\n",
       "\t<tr><th scope=row>604</th><td>CHP_380</td><td>1</td><td>1</td><td>0</td><td>1</td><td>0</td><td>0</td><td>HD    </td></tr>\n",
       "\t<tr><th scope=row>657</th><td>CHP_390</td><td>1</td><td>0</td><td>0</td><td>1</td><td>0</td><td>0</td><td>OS    </td></tr>\n",
       "\t<tr><th scope=row>717</th><td>CHP_402</td><td>1</td><td>0</td><td>1</td><td>1</td><td>0</td><td>0</td><td>HR ALL</td></tr>\n",
       "\t<tr><th scope=row>762</th><td>CHP_411</td><td>1</td><td>1</td><td>1</td><td>1</td><td>0</td><td>0</td><td>HR ALL</td></tr>\n",
       "\t<tr><th scope=row>771</th><td>CHP_413</td><td>1</td><td>1</td><td>0</td><td>1</td><td>0</td><td>0</td><td>AML   </td></tr>\n",
       "\t<tr><th scope=row>796</th><td>CHP_418</td><td>1</td><td>0</td><td>0</td><td>1</td><td>0</td><td>0</td><td>NB    </td></tr>\n",
       "\t<tr><th scope=row>7</th><td>CHP_329</td><td>1</td><td>0</td><td>1</td><td>0</td><td>1</td><td>0</td><td>HR ALL</td></tr>\n",
       "\t<tr><th scope=row>205</th><td>CHP_395</td><td>1</td><td>0</td><td>0</td><td>0</td><td>1</td><td>0</td><td>T-ALL </td></tr>\n",
       "\t<tr><th scope=row>303</th><td>CHP_320</td><td>1</td><td>0</td><td>0</td><td>0</td><td>1</td><td>0</td><td>AML   </td></tr>\n",
       "\t<tr><th scope=row>866</th><td>CHP_432</td><td>1</td><td>0</td><td>0</td><td>0</td><td>1</td><td>0</td><td>OS    </td></tr>\n",
       "\t<tr><th scope=row>881</th><td>CHP_435</td><td>1</td><td>1</td><td>0</td><td>1</td><td>0</td><td>0</td><td>AML   </td></tr>\n",
       "\t<tr><th scope=row>886</th><td>CHP_436</td><td>1</td><td>0</td><td>0</td><td>1</td><td>0</td><td>0</td><td>OS    </td></tr>\n",
       "</tbody>\n",
       "</table>\n"
      ],
      "text/latex": [
       "A data.frame: 23 x 8\n",
       "\\begin{tabular}{r|llllllll}\n",
       "  & Patient & Relapse & Transplant & CART & Remission & vital\\_status & LOF & Disease\\_type\\\\\n",
       "  & <fct> & <int> & <int> & <int> & <int> & <int> & <int> & <chr>\\\\\n",
       "\\hline\n",
       "\t302 & CHP\\_319 & 1 & 0 & 1 & 0 & 1 & 0 & HR ALL\\\\\n",
       "\t395 & CHP\\_338 & 1 & 1 & 0 & 0 & 0 & 0 & AML   \\\\\n",
       "\t416 & CHP\\_342 & 1 & 1 & 0 & 0 & 1 & 0 & AML   \\\\\n",
       "\t448 & CHP\\_349 & 1 & 1 & 0 & 1 & 0 & 0 & CML   \\\\\n",
       "\t468 & CHP\\_353 & 1 & 1 & 0 & 1 & 0 & 0 & AML   \\\\\n",
       "\t484 & CHP\\_356 & 1 & 0 & 0 & 0 & 0 & 1 & EWS   \\\\\n",
       "\t499 & CHP\\_359 & 1 & 1 & 0 & 0 & 1 & 0 & AML   \\\\\n",
       "\t523 & CHP\\_364 & 1 & 0 & 0 & 0 & 0 & 1 & OS    \\\\\n",
       "\t543 & CHP\\_368 & 1 & 0 & 0 & 1 & 0 & 0 & ARMS  \\\\\n",
       "\t584 & CHP\\_376 & 1 & 1 & 0 & 0 & 1 & 0 & AML   \\\\\n",
       "\t589 & CHP\\_377 & 1 & 0 & 1 & 1 & 0 & 0 & HR ALL\\\\\n",
       "\t604 & CHP\\_380 & 1 & 1 & 0 & 1 & 0 & 0 & HD    \\\\\n",
       "\t657 & CHP\\_390 & 1 & 0 & 0 & 1 & 0 & 0 & OS    \\\\\n",
       "\t717 & CHP\\_402 & 1 & 0 & 1 & 1 & 0 & 0 & HR ALL\\\\\n",
       "\t762 & CHP\\_411 & 1 & 1 & 1 & 1 & 0 & 0 & HR ALL\\\\\n",
       "\t771 & CHP\\_413 & 1 & 1 & 0 & 1 & 0 & 0 & AML   \\\\\n",
       "\t796 & CHP\\_418 & 1 & 0 & 0 & 1 & 0 & 0 & NB    \\\\\n",
       "\t7 & CHP\\_329 & 1 & 0 & 1 & 0 & 1 & 0 & HR ALL\\\\\n",
       "\t205 & CHP\\_395 & 1 & 0 & 0 & 0 & 1 & 0 & T-ALL \\\\\n",
       "\t303 & CHP\\_320 & 1 & 0 & 0 & 0 & 1 & 0 & AML   \\\\\n",
       "\t866 & CHP\\_432 & 1 & 0 & 0 & 0 & 1 & 0 & OS    \\\\\n",
       "\t881 & CHP\\_435 & 1 & 1 & 0 & 1 & 0 & 0 & AML   \\\\\n",
       "\t886 & CHP\\_436 & 1 & 0 & 0 & 1 & 0 & 0 & OS    \\\\\n",
       "\\end{tabular}\n"
      ],
      "text/markdown": [
       "\n",
       "A data.frame: 23 x 8\n",
       "\n",
       "| <!--/--> | Patient &lt;fct&gt; | Relapse &lt;int&gt; | Transplant &lt;int&gt; | CART &lt;int&gt; | Remission &lt;int&gt; | vital_status &lt;int&gt; | LOF &lt;int&gt; | Disease_type &lt;chr&gt; |\n",
       "|---|---|---|---|---|---|---|---|---|\n",
       "| 302 | CHP_319 | 1 | 0 | 1 | 0 | 1 | 0 | HR ALL |\n",
       "| 395 | CHP_338 | 1 | 1 | 0 | 0 | 0 | 0 | AML    |\n",
       "| 416 | CHP_342 | 1 | 1 | 0 | 0 | 1 | 0 | AML    |\n",
       "| 448 | CHP_349 | 1 | 1 | 0 | 1 | 0 | 0 | CML    |\n",
       "| 468 | CHP_353 | 1 | 1 | 0 | 1 | 0 | 0 | AML    |\n",
       "| 484 | CHP_356 | 1 | 0 | 0 | 0 | 0 | 1 | EWS    |\n",
       "| 499 | CHP_359 | 1 | 1 | 0 | 0 | 1 | 0 | AML    |\n",
       "| 523 | CHP_364 | 1 | 0 | 0 | 0 | 0 | 1 | OS     |\n",
       "| 543 | CHP_368 | 1 | 0 | 0 | 1 | 0 | 0 | ARMS   |\n",
       "| 584 | CHP_376 | 1 | 1 | 0 | 0 | 1 | 0 | AML    |\n",
       "| 589 | CHP_377 | 1 | 0 | 1 | 1 | 0 | 0 | HR ALL |\n",
       "| 604 | CHP_380 | 1 | 1 | 0 | 1 | 0 | 0 | HD     |\n",
       "| 657 | CHP_390 | 1 | 0 | 0 | 1 | 0 | 0 | OS     |\n",
       "| 717 | CHP_402 | 1 | 0 | 1 | 1 | 0 | 0 | HR ALL |\n",
       "| 762 | CHP_411 | 1 | 1 | 1 | 1 | 0 | 0 | HR ALL |\n",
       "| 771 | CHP_413 | 1 | 1 | 0 | 1 | 0 | 0 | AML    |\n",
       "| 796 | CHP_418 | 1 | 0 | 0 | 1 | 0 | 0 | NB     |\n",
       "| 7 | CHP_329 | 1 | 0 | 1 | 0 | 1 | 0 | HR ALL |\n",
       "| 205 | CHP_395 | 1 | 0 | 0 | 0 | 1 | 0 | T-ALL  |\n",
       "| 303 | CHP_320 | 1 | 0 | 0 | 0 | 1 | 0 | AML    |\n",
       "| 866 | CHP_432 | 1 | 0 | 0 | 0 | 1 | 0 | OS     |\n",
       "| 881 | CHP_435 | 1 | 1 | 0 | 1 | 0 | 0 | AML    |\n",
       "| 886 | CHP_436 | 1 | 0 | 0 | 1 | 0 | 0 | OS     |\n",
       "\n"
      ],
      "text/plain": [
       "    Patient Relapse Transplant CART Remission vital_status LOF Disease_type\n",
       "302 CHP_319 1       0          1    0         1            0   HR ALL      \n",
       "395 CHP_338 1       1          0    0         0            0   AML         \n",
       "416 CHP_342 1       1          0    0         1            0   AML         \n",
       "448 CHP_349 1       1          0    1         0            0   CML         \n",
       "468 CHP_353 1       1          0    1         0            0   AML         \n",
       "484 CHP_356 1       0          0    0         0            1   EWS         \n",
       "499 CHP_359 1       1          0    0         1            0   AML         \n",
       "523 CHP_364 1       0          0    0         0            1   OS          \n",
       "543 CHP_368 1       0          0    1         0            0   ARMS        \n",
       "584 CHP_376 1       1          0    0         1            0   AML         \n",
       "589 CHP_377 1       0          1    1         0            0   HR ALL      \n",
       "604 CHP_380 1       1          0    1         0            0   HD          \n",
       "657 CHP_390 1       0          0    1         0            0   OS          \n",
       "717 CHP_402 1       0          1    1         0            0   HR ALL      \n",
       "762 CHP_411 1       1          1    1         0            0   HR ALL      \n",
       "771 CHP_413 1       1          0    1         0            0   AML         \n",
       "796 CHP_418 1       0          0    1         0            0   NB          \n",
       "7   CHP_329 1       0          1    0         1            0   HR ALL      \n",
       "205 CHP_395 1       0          0    0         1            0   T-ALL       \n",
       "303 CHP_320 1       0          0    0         1            0   AML         \n",
       "866 CHP_432 1       0          0    0         1            0   OS          \n",
       "881 CHP_435 1       1          0    1         0            0   AML         \n",
       "886 CHP_436 1       0          0    1         0            0   OS          "
      ]
     },
     "metadata": {},
     "output_type": "display_data"
    }
   ],
   "source": [
    "relapsed"
   ]
  },
  {
   "cell_type": "code",
   "execution_count": 84,
   "metadata": {
    "vscode": {
     "languageId": "r"
    }
   },
   "outputs": [
    {
     "data": {
      "text/html": [
       "<table class=\"dataframe\">\n",
       "<caption>A data.frame: 4 x 8</caption>\n",
       "<thead>\n",
       "\t<tr><th></th><th scope=col>Patient</th><th scope=col>Relapse</th><th scope=col>Transplant</th><th scope=col>CART</th><th scope=col>Remission</th><th scope=col>vital_status</th><th scope=col>LOF</th><th scope=col>Disease_type</th></tr>\n",
       "\t<tr><th></th><th scope=col>&lt;fct&gt;</th><th scope=col>&lt;int&gt;</th><th scope=col>&lt;int&gt;</th><th scope=col>&lt;int&gt;</th><th scope=col>&lt;int&gt;</th><th scope=col>&lt;int&gt;</th><th scope=col>&lt;int&gt;</th><th scope=col>&lt;chr&gt;</th></tr>\n",
       "</thead>\n",
       "<tbody>\n",
       "\t<tr><th scope=row>523</th><td>CHP_364</td><td>1</td><td>0</td><td>0</td><td>0</td><td>0</td><td>1</td><td>OS</td></tr>\n",
       "\t<tr><th scope=row>657</th><td>CHP_390</td><td>1</td><td>0</td><td>0</td><td>1</td><td>0</td><td>0</td><td>OS</td></tr>\n",
       "\t<tr><th scope=row>866</th><td>CHP_432</td><td>1</td><td>0</td><td>0</td><td>0</td><td>1</td><td>0</td><td>OS</td></tr>\n",
       "\t<tr><th scope=row>886</th><td>CHP_436</td><td>1</td><td>0</td><td>0</td><td>1</td><td>0</td><td>0</td><td>OS</td></tr>\n",
       "</tbody>\n",
       "</table>\n"
      ],
      "text/latex": [
       "A data.frame: 4 x 8\n",
       "\\begin{tabular}{r|llllllll}\n",
       "  & Patient & Relapse & Transplant & CART & Remission & vital\\_status & LOF & Disease\\_type\\\\\n",
       "  & <fct> & <int> & <int> & <int> & <int> & <int> & <int> & <chr>\\\\\n",
       "\\hline\n",
       "\t523 & CHP\\_364 & 1 & 0 & 0 & 0 & 0 & 1 & OS\\\\\n",
       "\t657 & CHP\\_390 & 1 & 0 & 0 & 1 & 0 & 0 & OS\\\\\n",
       "\t866 & CHP\\_432 & 1 & 0 & 0 & 0 & 1 & 0 & OS\\\\\n",
       "\t886 & CHP\\_436 & 1 & 0 & 0 & 1 & 0 & 0 & OS\\\\\n",
       "\\end{tabular}\n"
      ],
      "text/markdown": [
       "\n",
       "A data.frame: 4 x 8\n",
       "\n",
       "| <!--/--> | Patient &lt;fct&gt; | Relapse &lt;int&gt; | Transplant &lt;int&gt; | CART &lt;int&gt; | Remission &lt;int&gt; | vital_status &lt;int&gt; | LOF &lt;int&gt; | Disease_type &lt;chr&gt; |\n",
       "|---|---|---|---|---|---|---|---|---|\n",
       "| 523 | CHP_364 | 1 | 0 | 0 | 0 | 0 | 1 | OS |\n",
       "| 657 | CHP_390 | 1 | 0 | 0 | 1 | 0 | 0 | OS |\n",
       "| 866 | CHP_432 | 1 | 0 | 0 | 0 | 1 | 0 | OS |\n",
       "| 886 | CHP_436 | 1 | 0 | 0 | 1 | 0 | 0 | OS |\n",
       "\n"
      ],
      "text/plain": [
       "    Patient Relapse Transplant CART Remission vital_status LOF Disease_type\n",
       "523 CHP_364 1       0          0    0         0            1   OS          \n",
       "657 CHP_390 1       0          0    1         0            0   OS          \n",
       "866 CHP_432 1       0          0    0         1            0   OS          \n",
       "886 CHP_436 1       0          0    1         0            0   OS          "
      ]
     },
     "metadata": {},
     "output_type": "display_data"
    }
   ],
   "source": [
    "relapsed[ relapsed$Disease_type == \"OS\", ]"
   ]
  },
  {
   "cell_type": "code",
   "execution_count": 85,
   "metadata": {
    "vscode": {
     "languageId": "r"
    }
   },
   "outputs": [
    {
     "data": {
      "text/html": [
       "0.19327731092437"
      ],
      "text/latex": [
       "0.19327731092437"
      ],
      "text/markdown": [
       "0.19327731092437"
      ],
      "text/plain": [
       "[1] 0.1932773"
      ]
     },
     "metadata": {},
     "output_type": "display_data"
    }
   ],
   "source": [
    "23/119"
   ]
  },
  {
   "cell_type": "code",
   "execution_count": null,
   "metadata": {
    "vscode": {
     "languageId": "r"
    }
   },
   "outputs": [],
   "source": []
  },
  {
   "cell_type": "code",
   "execution_count": 144,
   "metadata": {
    "vscode": {
     "languageId": "r"
    }
   },
   "outputs": [],
   "source": [
    "clinical_melt <- reshape2::melt(clinical_unique[, c(\"Patient\",  \"Relapse\", \"Transplant\", \"CART\", \"Remission\", \"vital_status\", \"LOF\")], id.vars = \"Patient\")"
   ]
  },
  {
   "cell_type": "code",
   "execution_count": 145,
   "metadata": {
    "vscode": {
     "languageId": "r"
    }
   },
   "outputs": [],
   "source": [
    "clinical_melt[ is.na(clinical_melt$value), \"value\" ] <- 0"
   ]
  },
  {
   "cell_type": "code",
   "execution_count": 146,
   "metadata": {
    "vscode": {
     "languageId": "r"
    }
   },
   "outputs": [],
   "source": [
    "clinical_melt$value <- as.numeric(clinical_melt$value)"
   ]
  },
  {
   "cell_type": "code",
   "execution_count": 147,
   "metadata": {
    "vscode": {
     "languageId": "r"
    }
   },
   "outputs": [
    {
     "name": "stderr",
     "output_type": "stream",
     "text": [
      "Warning message:\n",
      "\"\u001b[1m\u001b[22mThe `size` argument of `element_rect()` is deprecated as of ggplot2 3.4.0.\n",
      "\u001b[36mi\u001b[39m Please use the `linewidth` argument instead.\"\n"
     ]
    }
   ],
   "source": [
    "gg_hm <- ggplot(data = clinical_melt, aes(x = variable, y = Patient, fill = value)) + \n",
    "  geom_tile() + myplot + myaxis + \n",
    "  theme(legend.position = \"none\", axis.title = element_blank(), axis.text.y = element_blank(), axis.ticks = element_blank(),\n",
    "  plot.margin = unit(c(0.1, 0.2, 1, 1), \"cm\"),\n",
    "  panel.border = element_rect(color = \"black\", fill = NA, size = 0.5)) + \n",
    "  scale_fill_gradient(low = \"white\", high = \"black\")"
   ]
  },
  {
   "cell_type": "code",
   "execution_count": 148,
   "metadata": {
    "vscode": {
     "languageId": "r"
    }
   },
   "outputs": [
    {
     "data": {
      "text/html": [
       "<strong>pdf:</strong> 2"
      ],
      "text/latex": [
       "\\textbf{pdf:} 2"
      ],
      "text/markdown": [
       "**pdf:** 2"
      ],
      "text/plain": [
       "pdf \n",
       "  2 "
      ]
     },
     "metadata": {},
     "output_type": "display_data"
    }
   ],
   "source": [
    "pdf(paste0(plotpath,\"swimmerplot_clinical.pdf\"), width=12, height=16)\n",
    "plot_grid(p0, gg_hm, p1b, ncol = 3, align = \"h\", rel_widths = c(3,1, 1.2)) \n",
    "dev.off()\n"
   ]
  },
  {
   "attachments": {},
   "cell_type": "markdown",
   "metadata": {
    "vscode": {
     "languageId": "r"
    }
   },
   "source": [
    "Descriptives for main text"
   ]
  },
  {
   "cell_type": "code",
   "execution_count": 149,
   "metadata": {
    "vscode": {
     "languageId": "r"
    }
   },
   "outputs": [],
   "source": [
    "# remove ffpe samples\n",
    "tmp <- meta_div[ !meta_div$sampletype %in% \"Tumor\",]\n",
    "# remove normals and lfs\n",
    "tmp <- tmp[ which(tmp$cancergroup != \"Normal\"),]\n",
    "tmp <- tmp[ which(tmp$cancergroup != \"LFS\"),]"
   ]
  },
  {
   "cell_type": "code",
   "execution_count": 150,
   "metadata": {
    "vscode": {
     "languageId": "r"
    }
   },
   "outputs": [
    {
     "data": {
      "text/html": [
       "119"
      ],
      "text/latex": [
       "119"
      ],
      "text/markdown": [
       "119"
      ],
      "text/plain": [
       "[1] 119"
      ]
     },
     "metadata": {},
     "output_type": "display_data"
    },
    {
     "data": {
      "text/plain": [
       "\n",
       " PBMC cfDNA  <NA> \n",
       "  534   274     0 "
      ]
     },
     "metadata": {},
     "output_type": "display_data"
    }
   ],
   "source": [
    "length(table(tmp$Patient))\n",
    "table(tmp$sampletype, useNA = \"always\")"
   ]
  },
  {
   "cell_type": "code",
   "execution_count": 151,
   "metadata": {
    "vscode": {
     "languageId": "r"
    }
   },
   "outputs": [],
   "source": [
    "myfreq <- as.data.frame(table(tmp$cancergroup, tmp$Patient) , stringsAsFactors = F) \n",
    "myfreq <- myfreq[ which(myfreq$Freq != 0),]"
   ]
  },
  {
   "cell_type": "code",
   "execution_count": 152,
   "metadata": {
    "vscode": {
     "languageId": "r"
    }
   },
   "outputs": [
    {
     "data": {
      "text/html": [
       "<table class=\"dataframe\">\n",
       "<caption>A data.frame: 6 x 3</caption>\n",
       "<thead>\n",
       "\t<tr><th></th><th scope=col>Var1</th><th scope=col>Var2</th><th scope=col>Freq</th></tr>\n",
       "\t<tr><th></th><th scope=col>&lt;chr&gt;</th><th scope=col>&lt;chr&gt;</th><th scope=col>&lt;int&gt;</th></tr>\n",
       "</thead>\n",
       "<tbody>\n",
       "\t<tr><th scope=row>1</th><td>Leukemia</td><td>CHP_319</td><td>5</td></tr>\n",
       "\t<tr><th scope=row>4</th><td>Leukemia</td><td>CHP_320</td><td>5</td></tr>\n",
       "\t<tr><th scope=row>8</th><td>Lymphoma</td><td>CHP_321</td><td>5</td></tr>\n",
       "\t<tr><th scope=row>11</th><td>Lymphoma</td><td>CHP_322</td><td>5</td></tr>\n",
       "\t<tr><th scope=row>13</th><td>Leukemia</td><td>CHP_323</td><td>6</td></tr>\n",
       "\t<tr><th scope=row>16</th><td>Leukemia</td><td>CHP_324</td><td>7</td></tr>\n",
       "</tbody>\n",
       "</table>\n"
      ],
      "text/latex": [
       "A data.frame: 6 x 3\n",
       "\\begin{tabular}{r|lll}\n",
       "  & Var1 & Var2 & Freq\\\\\n",
       "  & <chr> & <chr> & <int>\\\\\n",
       "\\hline\n",
       "\t1 & Leukemia & CHP\\_319 & 5\\\\\n",
       "\t4 & Leukemia & CHP\\_320 & 5\\\\\n",
       "\t8 & Lymphoma & CHP\\_321 & 5\\\\\n",
       "\t11 & Lymphoma & CHP\\_322 & 5\\\\\n",
       "\t13 & Leukemia & CHP\\_323 & 6\\\\\n",
       "\t16 & Leukemia & CHP\\_324 & 7\\\\\n",
       "\\end{tabular}\n"
      ],
      "text/markdown": [
       "\n",
       "A data.frame: 6 x 3\n",
       "\n",
       "| <!--/--> | Var1 &lt;chr&gt; | Var2 &lt;chr&gt; | Freq &lt;int&gt; |\n",
       "|---|---|---|---|\n",
       "| 1 | Leukemia | CHP_319 | 5 |\n",
       "| 4 | Leukemia | CHP_320 | 5 |\n",
       "| 8 | Lymphoma | CHP_321 | 5 |\n",
       "| 11 | Lymphoma | CHP_322 | 5 |\n",
       "| 13 | Leukemia | CHP_323 | 6 |\n",
       "| 16 | Leukemia | CHP_324 | 7 |\n",
       "\n"
      ],
      "text/plain": [
       "   Var1     Var2    Freq\n",
       "1  Leukemia CHP_319 5   \n",
       "4  Leukemia CHP_320 5   \n",
       "8  Lymphoma CHP_321 5   \n",
       "11 Lymphoma CHP_322 5   \n",
       "13 Leukemia CHP_323 6   \n",
       "16 Leukemia CHP_324 7   "
      ]
     },
     "metadata": {},
     "output_type": "display_data"
    }
   ],
   "source": [
    "head(myfreq)"
   ]
  },
  {
   "cell_type": "code",
   "execution_count": 153,
   "metadata": {
    "vscode": {
     "languageId": "r"
    }
   },
   "outputs": [
    {
     "data": {
      "text/html": [
       "<style>\n",
       ".list-inline {list-style: none; margin:0; padding: 0}\n",
       ".list-inline>li {display: inline-block}\n",
       ".list-inline>li:not(:last-child)::after {content: \"\\00b7\"; padding: 0 .5ex}\n",
       "</style>\n",
       "<ol class=list-inline><li>119</li><li>3</li></ol>\n"
      ],
      "text/latex": [
       "\\begin{enumerate*}\n",
       "\\item 119\n",
       "\\item 3\n",
       "\\end{enumerate*}\n"
      ],
      "text/markdown": [
       "1. 119\n",
       "2. 3\n",
       "\n",
       "\n"
      ],
      "text/plain": [
       "[1] 119   3"
      ]
     },
     "metadata": {},
     "output_type": "display_data"
    }
   ],
   "source": [
    "dim(myfreq)"
   ]
  },
  {
   "cell_type": "code",
   "execution_count": 154,
   "metadata": {
    "vscode": {
     "languageId": "r"
    }
   },
   "outputs": [
    {
     "data": {
      "text/plain": [
       "\n",
       "    Leukemia     Lymphoma Solid tumors \n",
       "          59           21           39 "
      ]
     },
     "metadata": {},
     "output_type": "display_data"
    }
   ],
   "source": [
    "table(myfreq$Var1)"
   ]
  },
  {
   "cell_type": "code",
   "execution_count": 155,
   "metadata": {
    "vscode": {
     "languageId": "r"
    }
   },
   "outputs": [],
   "source": [
    "myfreq <- as.data.frame(table(tmp$Disease_type, tmp$Patient) , stringsAsFactors = F) \n",
    "myfreq <- myfreq[ which(myfreq$Freq != 0),]"
   ]
  },
  {
   "cell_type": "code",
   "execution_count": 156,
   "metadata": {
    "vscode": {
     "languageId": "r"
    }
   },
   "outputs": [
    {
     "data": {
      "text/plain": [
       "\n",
       "  ALCL    ALL    AML   ARMS     BL    BLL    CML  DLBCL   ERMS    EWS     HB \n",
       "     2     23     12      1      4      2      3      3      5      6      4 \n",
       "    HD HR ALL  MS NB     NB     OS  PMBCL    RMS SR ALL  T-ALL  WILMS \n",
       "     8     14      1      4     12      2      3      3      4      3 "
      ]
     },
     "metadata": {},
     "output_type": "display_data"
    }
   ],
   "source": [
    "table(myfreq$Var1)"
   ]
  },
  {
   "cell_type": "code",
   "execution_count": 157,
   "metadata": {
    "vscode": {
     "languageId": "r"
    }
   },
   "outputs": [],
   "source": [
    "rm(tmp)"
   ]
  },
  {
   "cell_type": "code",
   "execution_count": 158,
   "metadata": {
    "vscode": {
     "languageId": "r"
    }
   },
   "outputs": [],
   "source": [
    "# remove ffpe samples\n",
    "# column sampletype includes NA (they are flow data without TCR), if using which ==, it will remove all NA\n",
    "tmp <- meta_div[ !meta_div$sampletype %in% \"Tumor\",]\n",
    "# remove normals and lfs\n",
    "tmp <- tmp[ which(tmp$cancergroup != \"Normal\"),]\n",
    "tmp <- tmp[ which(tmp$cancergroup != \"LFS\"),]\n",
    "\n",
    "#tmp <- tmp[ which(tmp$sampletype == \"PBMC\"),]\n",
    "\n",
    "myfreq <- as.data.frame(table(tmp$cancergroup[!is.na(tmp$CD3)], tmp$Patient[!is.na(tmp$CD3)]) , stringsAsFactors = F) \n",
    "myfreq <- myfreq[ which(myfreq$Freq != 0),]"
   ]
  },
  {
   "cell_type": "code",
   "execution_count": 159,
   "metadata": {
    "vscode": {
     "languageId": "r"
    }
   },
   "outputs": [
    {
     "data": {
      "text/html": [
       "<style>\n",
       ".list-inline {list-style: none; margin:0; padding: 0}\n",
       ".list-inline>li {display: inline-block}\n",
       ".list-inline>li:not(:last-child)::after {content: \"\\00b7\"; padding: 0 .5ex}\n",
       "</style>\n",
       "<ol class=list-inline><li>119</li><li>3</li></ol>\n"
      ],
      "text/latex": [
       "\\begin{enumerate*}\n",
       "\\item 119\n",
       "\\item 3\n",
       "\\end{enumerate*}\n"
      ],
      "text/markdown": [
       "1. 119\n",
       "2. 3\n",
       "\n",
       "\n"
      ],
      "text/plain": [
       "[1] 119   3"
      ]
     },
     "metadata": {},
     "output_type": "display_data"
    }
   ],
   "source": [
    "dim(myfreq)"
   ]
  },
  {
   "cell_type": "code",
   "execution_count": 160,
   "metadata": {
    "vscode": {
     "languageId": "r"
    }
   },
   "outputs": [
    {
     "data": {
      "text/plain": [
       "\n",
       "    Leukemia     Lymphoma Solid tumors \n",
       "          59           21           39 "
      ]
     },
     "metadata": {},
     "output_type": "display_data"
    }
   ],
   "source": [
    "table(myfreq$Var1)"
   ]
  },
  {
   "cell_type": "code",
   "execution_count": 161,
   "metadata": {
    "vscode": {
     "languageId": "r"
    }
   },
   "outputs": [],
   "source": [
    "tmp <- meta_div[ which(meta_div$sampletype == \"PBMC\"),]"
   ]
  },
  {
   "cell_type": "code",
   "execution_count": 162,
   "metadata": {
    "vscode": {
     "languageId": "r"
    }
   },
   "outputs": [
    {
     "data": {
      "text/html": [
       "119"
      ],
      "text/latex": [
       "119"
      ],
      "text/markdown": [
       "119"
      ],
      "text/plain": [
       "[1] 119"
      ]
     },
     "metadata": {},
     "output_type": "display_data"
    }
   ],
   "source": [
    "length(unique(tmp$Patient[ !is.na(tmp$CD3) ]))"
   ]
  },
  {
   "cell_type": "code",
   "execution_count": 163,
   "metadata": {
    "vscode": {
     "languageId": "r"
    }
   },
   "outputs": [
    {
     "data": {
      "text/html": [
       "533"
      ],
      "text/latex": [
       "533"
      ],
      "text/markdown": [
       "533"
      ],
      "text/plain": [
       "[1] 533"
      ]
     },
     "metadata": {},
     "output_type": "display_data"
    }
   ],
   "source": [
    "length(tmp$Patient[ !is.na(tmp$CD3) ])"
   ]
  },
  {
   "cell_type": "code",
   "execution_count": 164,
   "metadata": {
    "vscode": {
     "languageId": "r"
    }
   },
   "outputs": [
    {
     "data": {
      "text/html": [
       "<style>\n",
       ".list-inline {list-style: none; margin:0; padding: 0}\n",
       ".list-inline>li {display: inline-block}\n",
       ".list-inline>li:not(:last-child)::after {content: \"\\00b7\"; padding: 0 .5ex}\n",
       "</style>\n",
       "<ol class=list-inline><li>528</li><li>66</li></ol>\n"
      ],
      "text/latex": [
       "\\begin{enumerate*}\n",
       "\\item 528\n",
       "\\item 66\n",
       "\\end{enumerate*}\n"
      ],
      "text/markdown": [
       "1. 528\n",
       "2. 66\n",
       "\n",
       "\n"
      ],
      "text/plain": [
       "[1] 528  66"
      ]
     },
     "metadata": {},
     "output_type": "display_data"
    }
   ],
   "source": [
    "dim(tmp[ !is.na(tmp$FOLD), ])"
   ]
  },
  {
   "cell_type": "code",
   "execution_count": 165,
   "metadata": {
    "vscode": {
     "languageId": "r"
    }
   },
   "outputs": [],
   "source": [
    "tmp <- meta_div[ which(meta_div$sampletype == \"Tumor\"),]"
   ]
  },
  {
   "cell_type": "code",
   "execution_count": 166,
   "metadata": {
    "vscode": {
     "languageId": "r"
    }
   },
   "outputs": [
    {
     "data": {
      "text/plain": [
       "< table of extent 0 >"
      ]
     },
     "metadata": {},
     "output_type": "display_data"
    }
   ],
   "source": [
    "table(tmp$Disease_type)"
   ]
  },
  {
   "cell_type": "code",
   "execution_count": 167,
   "metadata": {
    "vscode": {
     "languageId": "r"
    }
   },
   "outputs": [
    {
     "data": {
      "text/plain": [
       "\n",
       " PBMC cfDNA \n",
       "  197   266 "
      ]
     },
     "metadata": {},
     "output_type": "display_data"
    }
   ],
   "source": [
    "table(meta_div$sampletype[!is.na(meta_div$TRB)])"
   ]
  },
  {
   "cell_type": "code",
   "execution_count": null,
   "metadata": {
    "vscode": {
     "languageId": "r"
    }
   },
   "outputs": [],
   "source": []
  }
 ],
 "metadata": {
  "kernelspec": {
   "display_name": "R 4.0",
   "language": "R",
   "name": "ir40"
  },
  "language_info": {
   "codemirror_mode": "r",
   "file_extension": ".r",
   "mimetype": "text/x-r-source",
   "name": "R",
   "pygments_lexer": "r",
   "version": "4.2.2"
  },
  "toc": {
   "base_numbering": 1,
   "nav_menu": {},
   "number_sections": false,
   "sideBar": true,
   "skip_h1_title": false,
   "title_cell": "Table of Contents",
   "title_sidebar": "Contents",
   "toc_cell": true,
   "toc_position": {
    "height": "calc(100% - 180px)",
    "left": "10px",
    "top": "150px",
    "width": "186.15px"
   },
   "toc_section_display": true,
   "toc_window_display": true
  }
 },
 "nbformat": 4,
 "nbformat_minor": 2
}

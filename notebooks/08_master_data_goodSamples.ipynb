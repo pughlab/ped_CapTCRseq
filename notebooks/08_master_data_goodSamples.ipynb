{
 "cells": [
  {
   "cell_type": "code",
   "execution_count": 1,
   "metadata": {
    "vscode": {
     "languageId": "r"
    }
   },
   "outputs": [
    {
     "data": {
      "text/html": [
       "'en_US.UTF-8/en_US.UTF-8/en_US.UTF-8/C/en_US.UTF-8/C'"
      ],
      "text/latex": [
       "'en\\_US.UTF-8/en\\_US.UTF-8/en\\_US.UTF-8/C/en\\_US.UTF-8/C'"
      ],
      "text/markdown": [
       "'en_US.UTF-8/en_US.UTF-8/en_US.UTF-8/C/en_US.UTF-8/C'"
      ],
      "text/plain": [
       "[1] \"en_US.UTF-8/en_US.UTF-8/en_US.UTF-8/C/en_US.UTF-8/C\""
      ]
     },
     "metadata": {},
     "output_type": "display_data"
    }
   ],
   "source": [
    "Sys.setlocale(category = \"LC_ALL\", locale = \"en_US.UTF-8\")"
   ]
  },
  {
   "attachments": {},
   "cell_type": "markdown",
   "metadata": {},
   "source": [
    "# Dependencies"
   ]
  },
  {
   "attachments": {},
   "cell_type": "markdown",
   "metadata": {},
   "source": [
    "# Functions"
   ]
  },
  {
   "attachments": {},
   "cell_type": "markdown",
   "metadata": {},
   "source": [
    "# Paths"
   ]
  },
  {
   "cell_type": "code",
   "execution_count": 2,
   "metadata": {
    "vscode": {
     "languageId": "r"
    }
   },
   "outputs": [],
   "source": [
    "datapath <- \"/Users/anabbi/OneDrive - UHN/Documents/INTERCEPT/Data/\"\n",
    "plotpath <- \"/Users/anabbi/OneDrive - UHN/Documents/INTERCEPT/Plots/\"\n",
    "manifestpath <- \"/Users/anabbi/OneDrive - UHN/Documents/INTERCEPT/Manifests/\"\n",
    "\n",
    "gitpath <- \"/Users/anabbi/git/ped_CapTCRseq/\""
   ]
  },
  {
   "attachments": {},
   "cell_type": "markdown",
   "metadata": {},
   "source": [
    "# Main"
   ]
  },
  {
   "attachments": {},
   "cell_type": "markdown",
   "metadata": {},
   "source": [
    "# PBMC"
   ]
  },
  {
   "cell_type": "code",
   "execution_count": 3,
   "metadata": {
    "vscode": {
     "languageId": "r"
    }
   },
   "outputs": [],
   "source": [
    "load(file = paste0(datapath, \"capTCRseq/PBMC_GoodSamples.RData\"))"
   ]
  },
  {
   "cell_type": "code",
   "execution_count": 4,
   "metadata": {
    "vscode": {
     "languageId": "r"
    }
   },
   "outputs": [
    {
     "data": {
      "text/html": [
       "<table class=\"dataframe\">\n",
       "<caption>A data.frame: 6 x 100</caption>\n",
       "<thead>\n",
       "\t<tr><th></th><th scope=col>basename</th><th scope=col>mysample_id</th><th scope=col>Shipped</th><th scope=col>DNAextracted</th><th scope=col>DNAused</th><th scope=col>libbatch</th><th scope=col>librarypassed</th><th scope=col>Library preparation</th><th scope=col>libraryyield</th><th scope=col>captureyield</th><th scope=col>...</th><th scope=col>TRA.chains</th><th scope=col>TRB.chains</th><th scope=col>TRD.chains</th><th scope=col>TRG.chains</th><th scope=col>TRA.TRD.chains</th><th scope=col>IGH.chains</th><th scope=col>IGK.chains</th><th scope=col>IGL.chains</th><th scope=col>chains</th><th scope=col>percaligned</th></tr>\n",
       "\t<tr><th></th><th scope=col>&lt;chr&gt;</th><th scope=col>&lt;chr&gt;</th><th scope=col>&lt;chr&gt;</th><th scope=col>&lt;dbl&gt;</th><th scope=col>&lt;dbl&gt;</th><th scope=col>&lt;chr&gt;</th><th scope=col>&lt;chr&gt;</th><th scope=col>&lt;chr&gt;</th><th scope=col>&lt;dbl&gt;</th><th scope=col>&lt;dbl&gt;</th><th scope=col>...</th><th scope=col>&lt;int&gt;</th><th scope=col>&lt;int&gt;</th><th scope=col>&lt;int&gt;</th><th scope=col>&lt;int&gt;</th><th scope=col>&lt;int&gt;</th><th scope=col>&lt;int&gt;</th><th scope=col>&lt;int&gt;</th><th scope=col>&lt;int&gt;</th><th scope=col>&lt;int&gt;</th><th scope=col>&lt;dbl&gt;</th></tr>\n",
       "</thead>\n",
       "<tbody>\n",
       "\t<tr><th scope=row>1</th><td>CHP_10YO-M_PBMC_DNA  </td><td>CHP_10YO_M_00  </td><td>n = 321</td><td> 4120</td><td>600</td><td>191220_M04827_0327_000000000-D7W4D</td><td>Passed</td><td>n = 282</td><td>1449.6</td><td>13.338</td><td>...</td><td>2500371</td><td>369721</td><td> 74186</td><td>428666</td><td>1713555</td><td>   0</td><td> 563</td><td>0</td><td>0</td><td>0.7415962</td></tr>\n",
       "\t<tr><th scope=row>2</th><td>CHP_11YO-M_PBMC_DNA  </td><td>CHP_11YO_M_00  </td><td>n = 321</td><td> 4880</td><td>600</td><td>191220_M04827_0327_000000000-D7W4D</td><td>Passed</td><td>n = 282</td><td>1948.8</td><td> 6.232</td><td>...</td><td>3481524</td><td>550846</td><td>116455</td><td>489440</td><td>2318341</td><td>   0</td><td>   0</td><td>0</td><td>0</td><td>0.7540386</td></tr>\n",
       "\t<tr><th scope=row>3</th><td>CHP_15YO-F-A_PBMC_DNA</td><td>CHP_15YO_F_A_00</td><td>n = 321</td><td>18200</td><td>600</td><td>191220_M04827_0327_000000000-D7W4D</td><td>Passed</td><td>n = 282</td><td>1545.6</td><td> 7.942</td><td>...</td><td>3488717</td><td>549330</td><td>157638</td><td>486162</td><td>1686316</td><td>1052</td><td>   0</td><td>0</td><td>0</td><td>0.7519197</td></tr>\n",
       "\t<tr><th scope=row>4</th><td>CHP_15YO-F-B_PBMC_DNA</td><td>CHP_15YO_F_B_00</td><td>n = 321</td><td>35400</td><td>600</td><td>191220_M04827_0327_000000000-D7W4D</td><td>Passed</td><td>n = 282</td><td>1171.2</td><td> 7.942</td><td>...</td><td>5292852</td><td>875254</td><td>241875</td><td>663487</td><td>2991528</td><td> 793</td><td> 309</td><td>0</td><td>0</td><td>0.7668919</td></tr>\n",
       "\t<tr><th scope=row>5</th><td>CHP_15YO-M_PBMC_DNA  </td><td>CHP_15YO_M_00  </td><td>n = 321</td><td> 7920</td><td>600</td><td>191220_M04827_0327_000000000-D7W4D</td><td>Passed</td><td>n = 282</td><td>1843.2</td><td> 6.232</td><td>...</td><td>4275428</td><td>660748</td><td>130568</td><td>632122</td><td>2711248</td><td>   0</td><td>1072</td><td>0</td><td>0</td><td>0.7560349</td></tr>\n",
       "\t<tr><th scope=row>6</th><td>CHP_16YO-M_PBMC_DNA  </td><td>CHP_16YO_M_00  </td><td>n = 321</td><td> 3460</td><td>600</td><td>191220_M04827_0327_000000000-D7W4D</td><td>Passed</td><td>n = 282</td><td>2227.2</td><td> 4.294</td><td>...</td><td>3382456</td><td>472114</td><td>117300</td><td>452204</td><td>2111692</td><td>   0</td><td>   0</td><td>0</td><td>0</td><td>0.7574009</td></tr>\n",
       "</tbody>\n",
       "</table>\n"
      ],
      "text/latex": [
       "A data.frame: 6 x 100\n",
       "\\begin{tabular}{r|lllllllllllllllllllll}\n",
       "  & basename & mysample\\_id & Shipped & DNAextracted & DNAused & libbatch & librarypassed & Library preparation & libraryyield & captureyield & ... & TRA.chains & TRB.chains & TRD.chains & TRG.chains & TRA.TRD.chains & IGH.chains & IGK.chains & IGL.chains & chains & percaligned\\\\\n",
       "  & <chr> & <chr> & <chr> & <dbl> & <dbl> & <chr> & <chr> & <chr> & <dbl> & <dbl> & ... & <int> & <int> & <int> & <int> & <int> & <int> & <int> & <int> & <int> & <dbl>\\\\\n",
       "\\hline\n",
       "\t1 & CHP\\_10YO-M\\_PBMC\\_DNA   & CHP\\_10YO\\_M\\_00   & n = 321 &  4120 & 600 & 191220\\_M04827\\_0327\\_000000000-D7W4D & Passed & n = 282 & 1449.6 & 13.338 & ... & 2500371 & 369721 &  74186 & 428666 & 1713555 &    0 &  563 & 0 & 0 & 0.7415962\\\\\n",
       "\t2 & CHP\\_11YO-M\\_PBMC\\_DNA   & CHP\\_11YO\\_M\\_00   & n = 321 &  4880 & 600 & 191220\\_M04827\\_0327\\_000000000-D7W4D & Passed & n = 282 & 1948.8 &  6.232 & ... & 3481524 & 550846 & 116455 & 489440 & 2318341 &    0 &    0 & 0 & 0 & 0.7540386\\\\\n",
       "\t3 & CHP\\_15YO-F-A\\_PBMC\\_DNA & CHP\\_15YO\\_F\\_A\\_00 & n = 321 & 18200 & 600 & 191220\\_M04827\\_0327\\_000000000-D7W4D & Passed & n = 282 & 1545.6 &  7.942 & ... & 3488717 & 549330 & 157638 & 486162 & 1686316 & 1052 &    0 & 0 & 0 & 0.7519197\\\\\n",
       "\t4 & CHP\\_15YO-F-B\\_PBMC\\_DNA & CHP\\_15YO\\_F\\_B\\_00 & n = 321 & 35400 & 600 & 191220\\_M04827\\_0327\\_000000000-D7W4D & Passed & n = 282 & 1171.2 &  7.942 & ... & 5292852 & 875254 & 241875 & 663487 & 2991528 &  793 &  309 & 0 & 0 & 0.7668919\\\\\n",
       "\t5 & CHP\\_15YO-M\\_PBMC\\_DNA   & CHP\\_15YO\\_M\\_00   & n = 321 &  7920 & 600 & 191220\\_M04827\\_0327\\_000000000-D7W4D & Passed & n = 282 & 1843.2 &  6.232 & ... & 4275428 & 660748 & 130568 & 632122 & 2711248 &    0 & 1072 & 0 & 0 & 0.7560349\\\\\n",
       "\t6 & CHP\\_16YO-M\\_PBMC\\_DNA   & CHP\\_16YO\\_M\\_00   & n = 321 &  3460 & 600 & 191220\\_M04827\\_0327\\_000000000-D7W4D & Passed & n = 282 & 2227.2 &  4.294 & ... & 3382456 & 472114 & 117300 & 452204 & 2111692 &    0 &    0 & 0 & 0 & 0.7574009\\\\\n",
       "\\end{tabular}\n"
      ],
      "text/markdown": [
       "\n",
       "A data.frame: 6 x 100\n",
       "\n",
       "| <!--/--> | basename &lt;chr&gt; | mysample_id &lt;chr&gt; | Shipped &lt;chr&gt; | DNAextracted &lt;dbl&gt; | DNAused &lt;dbl&gt; | libbatch &lt;chr&gt; | librarypassed &lt;chr&gt; | Library preparation &lt;chr&gt; | libraryyield &lt;dbl&gt; | captureyield &lt;dbl&gt; | ... ... | TRA.chains &lt;int&gt; | TRB.chains &lt;int&gt; | TRD.chains &lt;int&gt; | TRG.chains &lt;int&gt; | TRA.TRD.chains &lt;int&gt; | IGH.chains &lt;int&gt; | IGK.chains &lt;int&gt; | IGL.chains &lt;int&gt; | chains &lt;int&gt; | percaligned &lt;dbl&gt; |\n",
       "|---|---|---|---|---|---|---|---|---|---|---|---|---|---|---|---|---|---|---|---|---|---|\n",
       "| 1 | CHP_10YO-M_PBMC_DNA   | CHP_10YO_M_00   | n = 321 |  4120 | 600 | 191220_M04827_0327_000000000-D7W4D | Passed | n = 282 | 1449.6 | 13.338 | ... | 2500371 | 369721 |  74186 | 428666 | 1713555 |    0 |  563 | 0 | 0 | 0.7415962 |\n",
       "| 2 | CHP_11YO-M_PBMC_DNA   | CHP_11YO_M_00   | n = 321 |  4880 | 600 | 191220_M04827_0327_000000000-D7W4D | Passed | n = 282 | 1948.8 |  6.232 | ... | 3481524 | 550846 | 116455 | 489440 | 2318341 |    0 |    0 | 0 | 0 | 0.7540386 |\n",
       "| 3 | CHP_15YO-F-A_PBMC_DNA | CHP_15YO_F_A_00 | n = 321 | 18200 | 600 | 191220_M04827_0327_000000000-D7W4D | Passed | n = 282 | 1545.6 |  7.942 | ... | 3488717 | 549330 | 157638 | 486162 | 1686316 | 1052 |    0 | 0 | 0 | 0.7519197 |\n",
       "| 4 | CHP_15YO-F-B_PBMC_DNA | CHP_15YO_F_B_00 | n = 321 | 35400 | 600 | 191220_M04827_0327_000000000-D7W4D | Passed | n = 282 | 1171.2 |  7.942 | ... | 5292852 | 875254 | 241875 | 663487 | 2991528 |  793 |  309 | 0 | 0 | 0.7668919 |\n",
       "| 5 | CHP_15YO-M_PBMC_DNA   | CHP_15YO_M_00   | n = 321 |  7920 | 600 | 191220_M04827_0327_000000000-D7W4D | Passed | n = 282 | 1843.2 |  6.232 | ... | 4275428 | 660748 | 130568 | 632122 | 2711248 |    0 | 1072 | 0 | 0 | 0.7560349 |\n",
       "| 6 | CHP_16YO-M_PBMC_DNA   | CHP_16YO_M_00   | n = 321 |  3460 | 600 | 191220_M04827_0327_000000000-D7W4D | Passed | n = 282 | 2227.2 |  4.294 | ... | 3382456 | 472114 | 117300 | 452204 | 2111692 |    0 |    0 | 0 | 0 | 0.7574009 |\n",
       "\n"
      ],
      "text/plain": [
       "  basename              mysample_id     Shipped DNAextracted DNAused\n",
       "1 CHP_10YO-M_PBMC_DNA   CHP_10YO_M_00   n = 321  4120        600    \n",
       "2 CHP_11YO-M_PBMC_DNA   CHP_11YO_M_00   n = 321  4880        600    \n",
       "3 CHP_15YO-F-A_PBMC_DNA CHP_15YO_F_A_00 n = 321 18200        600    \n",
       "4 CHP_15YO-F-B_PBMC_DNA CHP_15YO_F_B_00 n = 321 35400        600    \n",
       "5 CHP_15YO-M_PBMC_DNA   CHP_15YO_M_00   n = 321  7920        600    \n",
       "6 CHP_16YO-M_PBMC_DNA   CHP_16YO_M_00   n = 321  3460        600    \n",
       "  libbatch                           librarypassed Library preparation\n",
       "1 191220_M04827_0327_000000000-D7W4D Passed        n = 282            \n",
       "2 191220_M04827_0327_000000000-D7W4D Passed        n = 282            \n",
       "3 191220_M04827_0327_000000000-D7W4D Passed        n = 282            \n",
       "4 191220_M04827_0327_000000000-D7W4D Passed        n = 282            \n",
       "5 191220_M04827_0327_000000000-D7W4D Passed        n = 282            \n",
       "6 191220_M04827_0327_000000000-D7W4D Passed        n = 282            \n",
       "  libraryyield captureyield ... TRA.chains TRB.chains TRD.chains TRG.chains\n",
       "1 1449.6       13.338       ... 2500371    369721      74186     428666    \n",
       "2 1948.8        6.232       ... 3481524    550846     116455     489440    \n",
       "3 1545.6        7.942       ... 3488717    549330     157638     486162    \n",
       "4 1171.2        7.942       ... 5292852    875254     241875     663487    \n",
       "5 1843.2        6.232       ... 4275428    660748     130568     632122    \n",
       "6 2227.2        4.294       ... 3382456    472114     117300     452204    \n",
       "  TRA.TRD.chains IGH.chains IGK.chains IGL.chains chains percaligned\n",
       "1 1713555           0        563       0          0      0.7415962  \n",
       "2 2318341           0          0       0          0      0.7540386  \n",
       "3 1686316        1052          0       0          0      0.7519197  \n",
       "4 2991528         793        309       0          0      0.7668919  \n",
       "5 2711248           0       1072       0          0      0.7560349  \n",
       "6 2111692           0          0       0          0      0.7574009  "
      ]
     },
     "metadata": {},
     "output_type": "display_data"
    }
   ],
   "source": [
    "head(subset_pbmc)"
   ]
  },
  {
   "cell_type": "code",
   "execution_count": 5,
   "metadata": {
    "vscode": {
     "languageId": "r"
    }
   },
   "outputs": [],
   "source": [
    "load(file = paste0(datapath,\"capTCRseq/meta_div_TRB.RData\"))"
   ]
  },
  {
   "cell_type": "code",
   "execution_count": 6,
   "metadata": {
    "vscode": {
     "languageId": "r"
    }
   },
   "outputs": [
    {
     "data": {
      "text/html": [
       "<style>\n",
       ".list-inline {list-style: none; margin:0; padding: 0}\n",
       ".list-inline>li {display: inline-block}\n",
       ".list-inline>li:not(:last-child)::after {content: \"\\00b7\"; padding: 0 .5ex}\n",
       "</style>\n",
       "<ol class=list-inline><li>211</li><li>100</li></ol>\n"
      ],
      "text/latex": [
       "\\begin{enumerate*}\n",
       "\\item 211\n",
       "\\item 100\n",
       "\\end{enumerate*}\n"
      ],
      "text/markdown": [
       "1. 211\n",
       "2. 100\n",
       "\n",
       "\n"
      ],
      "text/plain": [
       "[1] 211 100"
      ]
     },
     "metadata": {},
     "output_type": "display_data"
    }
   ],
   "source": [
    "dim(subset_pbmc)"
   ]
  },
  {
   "cell_type": "code",
   "execution_count": 7,
   "metadata": {
    "vscode": {
     "languageId": "r"
    }
   },
   "outputs": [
    {
     "data": {
      "text/html": [
       "923"
      ],
      "text/latex": [
       "923"
      ],
      "text/markdown": [
       "923"
      ],
      "text/plain": [
       "[1] 923"
      ]
     },
     "metadata": {},
     "output_type": "display_data"
    }
   ],
   "source": [
    "length(meta_div$sampletype)"
   ]
  },
  {
   "cell_type": "code",
   "execution_count": 8,
   "metadata": {
    "vscode": {
     "languageId": "r"
    }
   },
   "outputs": [],
   "source": [
    "load(file = paste0(datapath, \"capTCRseq/cfDNA_GoodSamples.RData\"))"
   ]
  },
  {
   "cell_type": "code",
   "execution_count": 9,
   "metadata": {
    "vscode": {
     "languageId": "r"
    }
   },
   "outputs": [
    {
     "data": {
      "text/html": [
       "<table class=\"dataframe\">\n",
       "<caption>A data.frame: 6 x 101</caption>\n",
       "<thead>\n",
       "\t<tr><th></th><th scope=col>basename</th><th scope=col>mysample_id</th><th scope=col>DNA samples</th><th scope=col>DNAextracted</th><th scope=col>DNAused</th><th scope=col>librarypassed</th><th scope=col>libbatch</th><th scope=col>Library preparation</th><th scope=col>libraryyield</th><th scope=col>DNAforcapture</th><th scope=col>...</th><th scope=col>TRA.chains</th><th scope=col>TRB.chains</th><th scope=col>TRD.chains</th><th scope=col>TRG.chains</th><th scope=col>TRA.TRD.chains</th><th scope=col>IGH.chains</th><th scope=col>IGK.chains</th><th scope=col>IGL.chains</th><th scope=col>chains</th><th scope=col>percaligned</th></tr>\n",
       "\t<tr><th></th><th scope=col>&lt;chr&gt;</th><th scope=col>&lt;chr&gt;</th><th scope=col>&lt;chr&gt;</th><th scope=col>&lt;dbl&gt;</th><th scope=col>&lt;dbl&gt;</th><th scope=col>&lt;chr&gt;</th><th scope=col>&lt;chr&gt;</th><th scope=col>&lt;chr&gt;</th><th scope=col>&lt;dbl&gt;</th><th scope=col>&lt;dbl&gt;</th><th scope=col>...</th><th scope=col>&lt;int&gt;</th><th scope=col>&lt;int&gt;</th><th scope=col>&lt;int&gt;</th><th scope=col>&lt;int&gt;</th><th scope=col>&lt;int&gt;</th><th scope=col>&lt;int&gt;</th><th scope=col>&lt;int&gt;</th><th scope=col>&lt;int&gt;</th><th scope=col>&lt;int&gt;</th><th scope=col>&lt;dbl&gt;</th></tr>\n",
       "</thead>\n",
       "<tbody>\n",
       "\t<tr><th scope=row>1</th><td>CHP_323-03_cfDNA</td><td>CHP_323_03</td><td>n = 316</td><td>142.96</td><td>20.000</td><td>Passed</td><td>191017_M04827_0284_000000000-D77P2</td><td>n = 316</td><td>305.28</td><td>305.28</td><td>...</td><td>3553899</td><td>549158</td><td>111175</td><td>593458</td><td>4272584</td><td>128</td><td> 0</td><td> 0</td><td>0</td><td>0.8600238</td></tr>\n",
       "\t<tr><th scope=row>2</th><td>CHP_323-05_cfDNA</td><td>CHP_323_05</td><td>n = 316</td><td> 39.56</td><td>20.000</td><td>Passed</td><td>200117_M04827_0343_000000000-D82R9</td><td>n = 316</td><td>614.40</td><td>501.44</td><td>...</td><td>2772203</td><td>255738</td><td>101783</td><td>378530</td><td>3919109</td><td>  0</td><td> 0</td><td> 0</td><td>0</td><td>0.8734095</td></tr>\n",
       "\t<tr><th scope=row>3</th><td>CHP_324-04_cfDNA</td><td>CHP_324_04</td><td>n = 316</td><td> 99.84</td><td>20.000</td><td>Passed</td><td>200108_M04827_0336_000000000-D7Y8P</td><td>n = 316</td><td>264.00</td><td>264.00</td><td>...</td><td>1918562</td><td>560107</td><td>102545</td><td>159952</td><td> 459396</td><td> 78</td><td>28</td><td>28</td><td>0</td><td>0.7406572</td></tr>\n",
       "\t<tr><th scope=row>4</th><td>CHP_324-05_cfDNA</td><td>CHP_324_05</td><td>n = 316</td><td> 17.16</td><td> 9.576</td><td>Passed</td><td>200213_M04827_0362_000000000-D8682</td><td>n = 316</td><td>330.24</td><td>330.24</td><td>...</td><td>1012748</td><td>193564</td><td> 39073</td><td> 89307</td><td>2693686</td><td> 43</td><td>62</td><td> 0</td><td>0</td><td>0.8925282</td></tr>\n",
       "\t<tr><th scope=row>5</th><td>CHP_326-05_cfDNA</td><td>CHP_326_05</td><td>n = 316</td><td> 12.68</td><td> 9.432</td><td>Passed</td><td>200213_M04827_0362_000000000-D8682</td><td>n = 316</td><td>314.88</td><td>314.88</td><td>...</td><td>1074994</td><td>218543</td><td> 36623</td><td>159705</td><td>2667817</td><td>128</td><td> 0</td><td> 0</td><td>0</td><td>0.8737865</td></tr>\n",
       "\t<tr><th scope=row>6</th><td>CHP_328-05_cfDNA</td><td>CHP_328_05</td><td>n = 316</td><td> 14.60</td><td>11.988</td><td>Passed</td><td>200213_M04827_0362_000000000-D8682</td><td>n = 316</td><td>293.76</td><td>293.76</td><td>...</td><td> 958051</td><td>174406</td><td> 38165</td><td>113414</td><td>2939570</td><td> 13</td><td> 0</td><td> 0</td><td>0</td><td>0.8914028</td></tr>\n",
       "</tbody>\n",
       "</table>\n"
      ],
      "text/latex": [
       "A data.frame: 6 x 101\n",
       "\\begin{tabular}{r|lllllllllllllllllllll}\n",
       "  & basename & mysample\\_id & DNA samples & DNAextracted & DNAused & librarypassed & libbatch & Library preparation & libraryyield & DNAforcapture & ... & TRA.chains & TRB.chains & TRD.chains & TRG.chains & TRA.TRD.chains & IGH.chains & IGK.chains & IGL.chains & chains & percaligned\\\\\n",
       "  & <chr> & <chr> & <chr> & <dbl> & <dbl> & <chr> & <chr> & <chr> & <dbl> & <dbl> & ... & <int> & <int> & <int> & <int> & <int> & <int> & <int> & <int> & <int> & <dbl>\\\\\n",
       "\\hline\n",
       "\t1 & CHP\\_323-03\\_cfDNA & CHP\\_323\\_03 & n = 316 & 142.96 & 20.000 & Passed & 191017\\_M04827\\_0284\\_000000000-D77P2 & n = 316 & 305.28 & 305.28 & ... & 3553899 & 549158 & 111175 & 593458 & 4272584 & 128 &  0 &  0 & 0 & 0.8600238\\\\\n",
       "\t2 & CHP\\_323-05\\_cfDNA & CHP\\_323\\_05 & n = 316 &  39.56 & 20.000 & Passed & 200117\\_M04827\\_0343\\_000000000-D82R9 & n = 316 & 614.40 & 501.44 & ... & 2772203 & 255738 & 101783 & 378530 & 3919109 &   0 &  0 &  0 & 0 & 0.8734095\\\\\n",
       "\t3 & CHP\\_324-04\\_cfDNA & CHP\\_324\\_04 & n = 316 &  99.84 & 20.000 & Passed & 200108\\_M04827\\_0336\\_000000000-D7Y8P & n = 316 & 264.00 & 264.00 & ... & 1918562 & 560107 & 102545 & 159952 &  459396 &  78 & 28 & 28 & 0 & 0.7406572\\\\\n",
       "\t4 & CHP\\_324-05\\_cfDNA & CHP\\_324\\_05 & n = 316 &  17.16 &  9.576 & Passed & 200213\\_M04827\\_0362\\_000000000-D8682 & n = 316 & 330.24 & 330.24 & ... & 1012748 & 193564 &  39073 &  89307 & 2693686 &  43 & 62 &  0 & 0 & 0.8925282\\\\\n",
       "\t5 & CHP\\_326-05\\_cfDNA & CHP\\_326\\_05 & n = 316 &  12.68 &  9.432 & Passed & 200213\\_M04827\\_0362\\_000000000-D8682 & n = 316 & 314.88 & 314.88 & ... & 1074994 & 218543 &  36623 & 159705 & 2667817 & 128 &  0 &  0 & 0 & 0.8737865\\\\\n",
       "\t6 & CHP\\_328-05\\_cfDNA & CHP\\_328\\_05 & n = 316 &  14.60 & 11.988 & Passed & 200213\\_M04827\\_0362\\_000000000-D8682 & n = 316 & 293.76 & 293.76 & ... &  958051 & 174406 &  38165 & 113414 & 2939570 &  13 &  0 &  0 & 0 & 0.8914028\\\\\n",
       "\\end{tabular}\n"
      ],
      "text/markdown": [
       "\n",
       "A data.frame: 6 x 101\n",
       "\n",
       "| <!--/--> | basename &lt;chr&gt; | mysample_id &lt;chr&gt; | DNA samples &lt;chr&gt; | DNAextracted &lt;dbl&gt; | DNAused &lt;dbl&gt; | librarypassed &lt;chr&gt; | libbatch &lt;chr&gt; | Library preparation &lt;chr&gt; | libraryyield &lt;dbl&gt; | DNAforcapture &lt;dbl&gt; | ... ... | TRA.chains &lt;int&gt; | TRB.chains &lt;int&gt; | TRD.chains &lt;int&gt; | TRG.chains &lt;int&gt; | TRA.TRD.chains &lt;int&gt; | IGH.chains &lt;int&gt; | IGK.chains &lt;int&gt; | IGL.chains &lt;int&gt; | chains &lt;int&gt; | percaligned &lt;dbl&gt; |\n",
       "|---|---|---|---|---|---|---|---|---|---|---|---|---|---|---|---|---|---|---|---|---|---|\n",
       "| 1 | CHP_323-03_cfDNA | CHP_323_03 | n = 316 | 142.96 | 20.000 | Passed | 191017_M04827_0284_000000000-D77P2 | n = 316 | 305.28 | 305.28 | ... | 3553899 | 549158 | 111175 | 593458 | 4272584 | 128 |  0 |  0 | 0 | 0.8600238 |\n",
       "| 2 | CHP_323-05_cfDNA | CHP_323_05 | n = 316 |  39.56 | 20.000 | Passed | 200117_M04827_0343_000000000-D82R9 | n = 316 | 614.40 | 501.44 | ... | 2772203 | 255738 | 101783 | 378530 | 3919109 |   0 |  0 |  0 | 0 | 0.8734095 |\n",
       "| 3 | CHP_324-04_cfDNA | CHP_324_04 | n = 316 |  99.84 | 20.000 | Passed | 200108_M04827_0336_000000000-D7Y8P | n = 316 | 264.00 | 264.00 | ... | 1918562 | 560107 | 102545 | 159952 |  459396 |  78 | 28 | 28 | 0 | 0.7406572 |\n",
       "| 4 | CHP_324-05_cfDNA | CHP_324_05 | n = 316 |  17.16 |  9.576 | Passed | 200213_M04827_0362_000000000-D8682 | n = 316 | 330.24 | 330.24 | ... | 1012748 | 193564 |  39073 |  89307 | 2693686 |  43 | 62 |  0 | 0 | 0.8925282 |\n",
       "| 5 | CHP_326-05_cfDNA | CHP_326_05 | n = 316 |  12.68 |  9.432 | Passed | 200213_M04827_0362_000000000-D8682 | n = 316 | 314.88 | 314.88 | ... | 1074994 | 218543 |  36623 | 159705 | 2667817 | 128 |  0 |  0 | 0 | 0.8737865 |\n",
       "| 6 | CHP_328-05_cfDNA | CHP_328_05 | n = 316 |  14.60 | 11.988 | Passed | 200213_M04827_0362_000000000-D8682 | n = 316 | 293.76 | 293.76 | ... |  958051 | 174406 |  38165 | 113414 | 2939570 |  13 |  0 |  0 | 0 | 0.8914028 |\n",
       "\n"
      ],
      "text/plain": [
       "  basename         mysample_id DNA samples DNAextracted DNAused librarypassed\n",
       "1 CHP_323-03_cfDNA CHP_323_03  n = 316     142.96       20.000  Passed       \n",
       "2 CHP_323-05_cfDNA CHP_323_05  n = 316      39.56       20.000  Passed       \n",
       "3 CHP_324-04_cfDNA CHP_324_04  n = 316      99.84       20.000  Passed       \n",
       "4 CHP_324-05_cfDNA CHP_324_05  n = 316      17.16        9.576  Passed       \n",
       "5 CHP_326-05_cfDNA CHP_326_05  n = 316      12.68        9.432  Passed       \n",
       "6 CHP_328-05_cfDNA CHP_328_05  n = 316      14.60       11.988  Passed       \n",
       "  libbatch                           Library preparation libraryyield\n",
       "1 191017_M04827_0284_000000000-D77P2 n = 316             305.28      \n",
       "2 200117_M04827_0343_000000000-D82R9 n = 316             614.40      \n",
       "3 200108_M04827_0336_000000000-D7Y8P n = 316             264.00      \n",
       "4 200213_M04827_0362_000000000-D8682 n = 316             330.24      \n",
       "5 200213_M04827_0362_000000000-D8682 n = 316             314.88      \n",
       "6 200213_M04827_0362_000000000-D8682 n = 316             293.76      \n",
       "  DNAforcapture ... TRA.chains TRB.chains TRD.chains TRG.chains TRA.TRD.chains\n",
       "1 305.28        ... 3553899    549158     111175     593458     4272584       \n",
       "2 501.44        ... 2772203    255738     101783     378530     3919109       \n",
       "3 264.00        ... 1918562    560107     102545     159952      459396       \n",
       "4 330.24        ... 1012748    193564      39073      89307     2693686       \n",
       "5 314.88        ... 1074994    218543      36623     159705     2667817       \n",
       "6 293.76        ...  958051    174406      38165     113414     2939570       \n",
       "  IGH.chains IGK.chains IGL.chains chains percaligned\n",
       "1 128         0          0         0      0.8600238  \n",
       "2   0         0          0         0      0.8734095  \n",
       "3  78        28         28         0      0.7406572  \n",
       "4  43        62          0         0      0.8925282  \n",
       "5 128         0          0         0      0.8737865  \n",
       "6  13         0          0         0      0.8914028  "
      ]
     },
     "metadata": {},
     "output_type": "display_data"
    }
   ],
   "source": [
    "head(subset_cfdna)"
   ]
  },
  {
   "cell_type": "code",
   "execution_count": 10,
   "metadata": {
    "vscode": {
     "languageId": "r"
    }
   },
   "outputs": [
    {
     "data": {
      "text/plain": [
       "\n",
       "  ALCL    ALL    AML   ARMS     BL    BLL    CML  DLBCL   ERMS    EWS     HB \n",
       "    15    180     82      9     37     17     21     22     42     48     27 \n",
       "    HD HR ALL    LFS  MS NB     NB Normal     OS  PMBCL    RMS SR ALL  T-ALL \n",
       "    67    105     10      6     29     14     93     16     15     18     31 \n",
       " WILMS \n",
       "    19 "
      ]
     },
     "metadata": {},
     "output_type": "display_data"
    }
   ],
   "source": [
    "table(meta_div$Disease_type)"
   ]
  },
  {
   "cell_type": "code",
   "execution_count": 11,
   "metadata": {
    "vscode": {
     "languageId": "r"
    }
   },
   "outputs": [],
   "source": [
    "meta_div_goodsamples <- meta_div[ which(meta_div$sampletype == \"Tumor\"),] # all tumours\n",
    "meta_div_goodsamples <- rbind(\n",
    "meta_div[ which(meta_div$basename %in% subset_pbmc$basename),], #good pbmcs\n",
    "meta_div[ which(meta_div$basename %in% subset_cfdna$basename),], # good cfDNAs\n",
    "meta_div[ is.na(meta_div$basename),], # all flow-only data\n",
    "meta_div[ which(meta_div$Disease_type == \"LFS\"),], # add LFS\n",
    "meta_div_goodsamples)\n"
   ]
  },
  {
   "cell_type": "code",
   "execution_count": 13,
   "metadata": {
    "vscode": {
     "languageId": "r"
    }
   },
   "outputs": [
    {
     "data": {
      "text/html": [
       "<style>\n",
       ".list-inline {list-style: none; margin:0; padding: 0}\n",
       ".list-inline>li {display: inline-block}\n",
       ".list-inline>li:not(:last-child)::after {content: \"\\00b7\"; padding: 0 .5ex}\n",
       "</style>\n",
       "<ol class=list-inline><li>850</li><li>65</li></ol>\n"
      ],
      "text/latex": [
       "\\begin{enumerate*}\n",
       "\\item 850\n",
       "\\item 65\n",
       "\\end{enumerate*}\n"
      ],
      "text/markdown": [
       "1. 850\n",
       "2. 65\n",
       "\n",
       "\n"
      ],
      "text/plain": [
       "[1] 850  65"
      ]
     },
     "metadata": {},
     "output_type": "display_data"
    }
   ],
   "source": [
    "dim(meta_div_goodsamples)"
   ]
  },
  {
   "cell_type": "code",
   "execution_count": 14,
   "metadata": {
    "vscode": {
     "languageId": "r"
    }
   },
   "outputs": [
    {
     "data": {
      "text/plain": [
       "\n",
       "cfDNA  PBMC Tumor \n",
       "  274   558    18 "
      ]
     },
     "metadata": {},
     "output_type": "display_data"
    }
   ],
   "source": [
    "table(meta_div_goodsamples$sampletype, useNA = \"ifany\")"
   ]
  },
  {
   "cell_type": "code",
   "execution_count": 15,
   "metadata": {
    "vscode": {
     "languageId": "r"
    }
   },
   "outputs": [
    {
     "data": {
      "text/html": [
       "<table class=\"dataframe\">\n",
       "<caption>A data.frame: 6 x 100</caption>\n",
       "<thead>\n",
       "\t<tr><th></th><th scope=col>basename</th><th scope=col>mysample_id</th><th scope=col>Shipped</th><th scope=col>DNAextracted</th><th scope=col>DNAused</th><th scope=col>libbatch</th><th scope=col>librarypassed</th><th scope=col>Library preparation</th><th scope=col>libraryyield</th><th scope=col>captureyield</th><th scope=col>...</th><th scope=col>TRA.chains</th><th scope=col>TRB.chains</th><th scope=col>TRD.chains</th><th scope=col>TRG.chains</th><th scope=col>TRA.TRD.chains</th><th scope=col>IGH.chains</th><th scope=col>IGK.chains</th><th scope=col>IGL.chains</th><th scope=col>chains</th><th scope=col>percaligned</th></tr>\n",
       "\t<tr><th></th><th scope=col>&lt;chr&gt;</th><th scope=col>&lt;chr&gt;</th><th scope=col>&lt;chr&gt;</th><th scope=col>&lt;dbl&gt;</th><th scope=col>&lt;dbl&gt;</th><th scope=col>&lt;chr&gt;</th><th scope=col>&lt;chr&gt;</th><th scope=col>&lt;chr&gt;</th><th scope=col>&lt;dbl&gt;</th><th scope=col>&lt;dbl&gt;</th><th scope=col>...</th><th scope=col>&lt;int&gt;</th><th scope=col>&lt;int&gt;</th><th scope=col>&lt;int&gt;</th><th scope=col>&lt;int&gt;</th><th scope=col>&lt;int&gt;</th><th scope=col>&lt;int&gt;</th><th scope=col>&lt;int&gt;</th><th scope=col>&lt;int&gt;</th><th scope=col>&lt;int&gt;</th><th scope=col>&lt;dbl&gt;</th></tr>\n",
       "</thead>\n",
       "<tbody>\n",
       "\t<tr><th scope=row>1</th><td>CHP_10YO-M_PBMC_DNA  </td><td>CHP_10YO_M_00  </td><td>n = 321</td><td> 4120</td><td>600</td><td>191220_M04827_0327_000000000-D7W4D</td><td>Passed</td><td>n = 282</td><td>1449.6</td><td>13.338</td><td>...</td><td>2500371</td><td>369721</td><td> 74186</td><td>428666</td><td>1713555</td><td>   0</td><td> 563</td><td>0</td><td>0</td><td>0.7415962</td></tr>\n",
       "\t<tr><th scope=row>2</th><td>CHP_11YO-M_PBMC_DNA  </td><td>CHP_11YO_M_00  </td><td>n = 321</td><td> 4880</td><td>600</td><td>191220_M04827_0327_000000000-D7W4D</td><td>Passed</td><td>n = 282</td><td>1948.8</td><td> 6.232</td><td>...</td><td>3481524</td><td>550846</td><td>116455</td><td>489440</td><td>2318341</td><td>   0</td><td>   0</td><td>0</td><td>0</td><td>0.7540386</td></tr>\n",
       "\t<tr><th scope=row>3</th><td>CHP_15YO-F-A_PBMC_DNA</td><td>CHP_15YO_F_A_00</td><td>n = 321</td><td>18200</td><td>600</td><td>191220_M04827_0327_000000000-D7W4D</td><td>Passed</td><td>n = 282</td><td>1545.6</td><td> 7.942</td><td>...</td><td>3488717</td><td>549330</td><td>157638</td><td>486162</td><td>1686316</td><td>1052</td><td>   0</td><td>0</td><td>0</td><td>0.7519197</td></tr>\n",
       "\t<tr><th scope=row>4</th><td>CHP_15YO-F-B_PBMC_DNA</td><td>CHP_15YO_F_B_00</td><td>n = 321</td><td>35400</td><td>600</td><td>191220_M04827_0327_000000000-D7W4D</td><td>Passed</td><td>n = 282</td><td>1171.2</td><td> 7.942</td><td>...</td><td>5292852</td><td>875254</td><td>241875</td><td>663487</td><td>2991528</td><td> 793</td><td> 309</td><td>0</td><td>0</td><td>0.7668919</td></tr>\n",
       "\t<tr><th scope=row>5</th><td>CHP_15YO-M_PBMC_DNA  </td><td>CHP_15YO_M_00  </td><td>n = 321</td><td> 7920</td><td>600</td><td>191220_M04827_0327_000000000-D7W4D</td><td>Passed</td><td>n = 282</td><td>1843.2</td><td> 6.232</td><td>...</td><td>4275428</td><td>660748</td><td>130568</td><td>632122</td><td>2711248</td><td>   0</td><td>1072</td><td>0</td><td>0</td><td>0.7560349</td></tr>\n",
       "\t<tr><th scope=row>6</th><td>CHP_16YO-M_PBMC_DNA  </td><td>CHP_16YO_M_00  </td><td>n = 321</td><td> 3460</td><td>600</td><td>191220_M04827_0327_000000000-D7W4D</td><td>Passed</td><td>n = 282</td><td>2227.2</td><td> 4.294</td><td>...</td><td>3382456</td><td>472114</td><td>117300</td><td>452204</td><td>2111692</td><td>   0</td><td>   0</td><td>0</td><td>0</td><td>0.7574009</td></tr>\n",
       "</tbody>\n",
       "</table>\n"
      ],
      "text/latex": [
       "A data.frame: 6 x 100\n",
       "\\begin{tabular}{r|lllllllllllllllllllll}\n",
       "  & basename & mysample\\_id & Shipped & DNAextracted & DNAused & libbatch & librarypassed & Library preparation & libraryyield & captureyield & ... & TRA.chains & TRB.chains & TRD.chains & TRG.chains & TRA.TRD.chains & IGH.chains & IGK.chains & IGL.chains & chains & percaligned\\\\\n",
       "  & <chr> & <chr> & <chr> & <dbl> & <dbl> & <chr> & <chr> & <chr> & <dbl> & <dbl> & ... & <int> & <int> & <int> & <int> & <int> & <int> & <int> & <int> & <int> & <dbl>\\\\\n",
       "\\hline\n",
       "\t1 & CHP\\_10YO-M\\_PBMC\\_DNA   & CHP\\_10YO\\_M\\_00   & n = 321 &  4120 & 600 & 191220\\_M04827\\_0327\\_000000000-D7W4D & Passed & n = 282 & 1449.6 & 13.338 & ... & 2500371 & 369721 &  74186 & 428666 & 1713555 &    0 &  563 & 0 & 0 & 0.7415962\\\\\n",
       "\t2 & CHP\\_11YO-M\\_PBMC\\_DNA   & CHP\\_11YO\\_M\\_00   & n = 321 &  4880 & 600 & 191220\\_M04827\\_0327\\_000000000-D7W4D & Passed & n = 282 & 1948.8 &  6.232 & ... & 3481524 & 550846 & 116455 & 489440 & 2318341 &    0 &    0 & 0 & 0 & 0.7540386\\\\\n",
       "\t3 & CHP\\_15YO-F-A\\_PBMC\\_DNA & CHP\\_15YO\\_F\\_A\\_00 & n = 321 & 18200 & 600 & 191220\\_M04827\\_0327\\_000000000-D7W4D & Passed & n = 282 & 1545.6 &  7.942 & ... & 3488717 & 549330 & 157638 & 486162 & 1686316 & 1052 &    0 & 0 & 0 & 0.7519197\\\\\n",
       "\t4 & CHP\\_15YO-F-B\\_PBMC\\_DNA & CHP\\_15YO\\_F\\_B\\_00 & n = 321 & 35400 & 600 & 191220\\_M04827\\_0327\\_000000000-D7W4D & Passed & n = 282 & 1171.2 &  7.942 & ... & 5292852 & 875254 & 241875 & 663487 & 2991528 &  793 &  309 & 0 & 0 & 0.7668919\\\\\n",
       "\t5 & CHP\\_15YO-M\\_PBMC\\_DNA   & CHP\\_15YO\\_M\\_00   & n = 321 &  7920 & 600 & 191220\\_M04827\\_0327\\_000000000-D7W4D & Passed & n = 282 & 1843.2 &  6.232 & ... & 4275428 & 660748 & 130568 & 632122 & 2711248 &    0 & 1072 & 0 & 0 & 0.7560349\\\\\n",
       "\t6 & CHP\\_16YO-M\\_PBMC\\_DNA   & CHP\\_16YO\\_M\\_00   & n = 321 &  3460 & 600 & 191220\\_M04827\\_0327\\_000000000-D7W4D & Passed & n = 282 & 2227.2 &  4.294 & ... & 3382456 & 472114 & 117300 & 452204 & 2111692 &    0 &    0 & 0 & 0 & 0.7574009\\\\\n",
       "\\end{tabular}\n"
      ],
      "text/markdown": [
       "\n",
       "A data.frame: 6 x 100\n",
       "\n",
       "| <!--/--> | basename &lt;chr&gt; | mysample_id &lt;chr&gt; | Shipped &lt;chr&gt; | DNAextracted &lt;dbl&gt; | DNAused &lt;dbl&gt; | libbatch &lt;chr&gt; | librarypassed &lt;chr&gt; | Library preparation &lt;chr&gt; | libraryyield &lt;dbl&gt; | captureyield &lt;dbl&gt; | ... ... | TRA.chains &lt;int&gt; | TRB.chains &lt;int&gt; | TRD.chains &lt;int&gt; | TRG.chains &lt;int&gt; | TRA.TRD.chains &lt;int&gt; | IGH.chains &lt;int&gt; | IGK.chains &lt;int&gt; | IGL.chains &lt;int&gt; | chains &lt;int&gt; | percaligned &lt;dbl&gt; |\n",
       "|---|---|---|---|---|---|---|---|---|---|---|---|---|---|---|---|---|---|---|---|---|---|\n",
       "| 1 | CHP_10YO-M_PBMC_DNA   | CHP_10YO_M_00   | n = 321 |  4120 | 600 | 191220_M04827_0327_000000000-D7W4D | Passed | n = 282 | 1449.6 | 13.338 | ... | 2500371 | 369721 |  74186 | 428666 | 1713555 |    0 |  563 | 0 | 0 | 0.7415962 |\n",
       "| 2 | CHP_11YO-M_PBMC_DNA   | CHP_11YO_M_00   | n = 321 |  4880 | 600 | 191220_M04827_0327_000000000-D7W4D | Passed | n = 282 | 1948.8 |  6.232 | ... | 3481524 | 550846 | 116455 | 489440 | 2318341 |    0 |    0 | 0 | 0 | 0.7540386 |\n",
       "| 3 | CHP_15YO-F-A_PBMC_DNA | CHP_15YO_F_A_00 | n = 321 | 18200 | 600 | 191220_M04827_0327_000000000-D7W4D | Passed | n = 282 | 1545.6 |  7.942 | ... | 3488717 | 549330 | 157638 | 486162 | 1686316 | 1052 |    0 | 0 | 0 | 0.7519197 |\n",
       "| 4 | CHP_15YO-F-B_PBMC_DNA | CHP_15YO_F_B_00 | n = 321 | 35400 | 600 | 191220_M04827_0327_000000000-D7W4D | Passed | n = 282 | 1171.2 |  7.942 | ... | 5292852 | 875254 | 241875 | 663487 | 2991528 |  793 |  309 | 0 | 0 | 0.7668919 |\n",
       "| 5 | CHP_15YO-M_PBMC_DNA   | CHP_15YO_M_00   | n = 321 |  7920 | 600 | 191220_M04827_0327_000000000-D7W4D | Passed | n = 282 | 1843.2 |  6.232 | ... | 4275428 | 660748 | 130568 | 632122 | 2711248 |    0 | 1072 | 0 | 0 | 0.7560349 |\n",
       "| 6 | CHP_16YO-M_PBMC_DNA   | CHP_16YO_M_00   | n = 321 |  3460 | 600 | 191220_M04827_0327_000000000-D7W4D | Passed | n = 282 | 2227.2 |  4.294 | ... | 3382456 | 472114 | 117300 | 452204 | 2111692 |    0 |    0 | 0 | 0 | 0.7574009 |\n",
       "\n"
      ],
      "text/plain": [
       "  basename              mysample_id     Shipped DNAextracted DNAused\n",
       "1 CHP_10YO-M_PBMC_DNA   CHP_10YO_M_00   n = 321  4120        600    \n",
       "2 CHP_11YO-M_PBMC_DNA   CHP_11YO_M_00   n = 321  4880        600    \n",
       "3 CHP_15YO-F-A_PBMC_DNA CHP_15YO_F_A_00 n = 321 18200        600    \n",
       "4 CHP_15YO-F-B_PBMC_DNA CHP_15YO_F_B_00 n = 321 35400        600    \n",
       "5 CHP_15YO-M_PBMC_DNA   CHP_15YO_M_00   n = 321  7920        600    \n",
       "6 CHP_16YO-M_PBMC_DNA   CHP_16YO_M_00   n = 321  3460        600    \n",
       "  libbatch                           librarypassed Library preparation\n",
       "1 191220_M04827_0327_000000000-D7W4D Passed        n = 282            \n",
       "2 191220_M04827_0327_000000000-D7W4D Passed        n = 282            \n",
       "3 191220_M04827_0327_000000000-D7W4D Passed        n = 282            \n",
       "4 191220_M04827_0327_000000000-D7W4D Passed        n = 282            \n",
       "5 191220_M04827_0327_000000000-D7W4D Passed        n = 282            \n",
       "6 191220_M04827_0327_000000000-D7W4D Passed        n = 282            \n",
       "  libraryyield captureyield ... TRA.chains TRB.chains TRD.chains TRG.chains\n",
       "1 1449.6       13.338       ... 2500371    369721      74186     428666    \n",
       "2 1948.8        6.232       ... 3481524    550846     116455     489440    \n",
       "3 1545.6        7.942       ... 3488717    549330     157638     486162    \n",
       "4 1171.2        7.942       ... 5292852    875254     241875     663487    \n",
       "5 1843.2        6.232       ... 4275428    660748     130568     632122    \n",
       "6 2227.2        4.294       ... 3382456    472114     117300     452204    \n",
       "  TRA.TRD.chains IGH.chains IGK.chains IGL.chains chains percaligned\n",
       "1 1713555           0        563       0          0      0.7415962  \n",
       "2 2318341           0          0       0          0      0.7540386  \n",
       "3 1686316        1052          0       0          0      0.7519197  \n",
       "4 2991528         793        309       0          0      0.7668919  \n",
       "5 2711248           0       1072       0          0      0.7560349  \n",
       "6 2111692           0          0       0          0      0.7574009  "
      ]
     },
     "metadata": {},
     "output_type": "display_data"
    }
   ],
   "source": [
    "head(subset_pbmc)"
   ]
  },
  {
   "cell_type": "code",
   "execution_count": 17,
   "metadata": {
    "vscode": {
     "languageId": "r"
    }
   },
   "outputs": [
    {
     "data": {
      "text/html": [
       "<style>\n",
       ".list-inline {list-style: none; margin:0; padding: 0}\n",
       ".list-inline>li {display: inline-block}\n",
       ".list-inline>li:not(:last-child)::after {content: \"\\00b7\"; padding: 0 .5ex}\n",
       "</style>\n",
       "<ol class=list-inline><li>274</li><li>101</li></ol>\n"
      ],
      "text/latex": [
       "\\begin{enumerate*}\n",
       "\\item 274\n",
       "\\item 101\n",
       "\\end{enumerate*}\n"
      ],
      "text/markdown": [
       "1. 274\n",
       "2. 101\n",
       "\n",
       "\n"
      ],
      "text/plain": [
       "[1] 274 101"
      ]
     },
     "metadata": {},
     "output_type": "display_data"
    }
   ],
   "source": [
    "dim(subset_cfdna)"
   ]
  },
  {
   "cell_type": "code",
   "execution_count": 18,
   "metadata": {
    "vscode": {
     "languageId": "r"
    }
   },
   "outputs": [
    {
     "data": {
      "text/html": [
       "<table class=\"dataframe\">\n",
       "<caption>A data.frame: 7 x 65</caption>\n",
       "<thead>\n",
       "\t<tr><th></th><th scope=col>sample_id</th><th scope=col>Patient</th><th scope=col>cycle</th><th scope=col>FOLD</th><th scope=col>ATC</th><th scope=col>Age</th><th scope=col>Disease_type</th><th scope=col>TE_fold</th><th scope=col>CD3</th><th scope=col>EM</th><th scope=col>...</th><th scope=col>observed_Shannon</th><th scope=col>estimated_Shannon</th><th scope=col>SE_Shannon</th><th scope=col>observed_Simpson</th><th scope=col>estimated_Simpson</th><th scope=col>SE_Simpson</th><th scope=col>basename</th><th scope=col>file</th><th scope=col>sampletype</th><th scope=col>Group</th></tr>\n",
       "\t<tr><th></th><th scope=col>&lt;chr&gt;</th><th scope=col>&lt;chr&gt;</th><th scope=col>&lt;chr&gt;</th><th scope=col>&lt;dbl&gt;</th><th scope=col>&lt;dbl&gt;</th><th scope=col>&lt;dbl&gt;</th><th scope=col>&lt;chr&gt;</th><th scope=col>&lt;dbl&gt;</th><th scope=col>&lt;int&gt;</th><th scope=col>&lt;int&gt;</th><th scope=col>...</th><th scope=col>&lt;dbl&gt;</th><th scope=col>&lt;dbl&gt;</th><th scope=col>&lt;dbl&gt;</th><th scope=col>&lt;dbl&gt;</th><th scope=col>&lt;dbl&gt;</th><th scope=col>&lt;dbl&gt;</th><th scope=col>&lt;chr&gt;</th><th scope=col>&lt;chr&gt;</th><th scope=col>&lt;chr&gt;</th><th scope=col>&lt;chr&gt;</th></tr>\n",
       "</thead>\n",
       "<tbody>\n",
       "\t<tr><th scope=row>563</th><td>CHP_372_01</td><td>CHP_372</td><td>X01</td><td>1</td><td>0</td><td>21</td><td>BL</td><td>1</td><td>328</td><td>16</td><td>...</td><td>2.724</td><td>2.733</td><td>0.057</td><td>2.553</td><td>2.565</td><td>0.079</td><td>CHP_372-01-PBMC-DNA</td><td>batch_reseq_24Feb2020/mixcr/clones/CLONES_TRBCHP_372-01-PBMC-DNA.txt</td><td>PBMC </td><td>CHP</td></tr>\n",
       "\t<tr><th scope=row>125</th><td>CHP_372_01</td><td>CHP_372</td><td>X01</td><td>1</td><td>0</td><td>21</td><td>BL</td><td>1</td><td>328</td><td>16</td><td>...</td><td>2.784</td><td>2.815</td><td>0.165</td><td>2.328</td><td>2.351</td><td>0.166</td><td>CHP_372-01-cfDNA   </td><td>batch1_cfDNA_30Jan2020/mixcr/clones/CLONES_TRBCHP_372-01-cfDNA.txt  </td><td>cfDNA</td><td>CHP</td></tr>\n",
       "\t<tr><th scope=row>564</th><td>CHP_372_02</td><td>CHP_372</td><td>X02</td><td>0</td><td>0</td><td>21</td><td>BL</td><td>0</td><td>  0</td><td>NA</td><td>...</td><td>   NA</td><td>   NA</td><td>   NA</td><td>   NA</td><td>   NA</td><td>   NA</td><td>NA                 </td><td>NA                                                                  </td><td>PBMC </td><td>CHP</td></tr>\n",
       "\t<tr><th scope=row>565</th><td>CHP_372_03</td><td>CHP_372</td><td>X03</td><td>0</td><td>0</td><td>21</td><td>BL</td><td>0</td><td>  0</td><td>NA</td><td>...</td><td>   NA</td><td>   NA</td><td>   NA</td><td>   NA</td><td>   NA</td><td>   NA</td><td>NA                 </td><td>NA                                                                  </td><td>PBMC </td><td>CHP</td></tr>\n",
       "\t<tr><th scope=row>566</th><td>CHP_372_04</td><td>CHP_372</td><td>X04</td><td>0</td><td>0</td><td>21</td><td>BL</td><td>0</td><td>  0</td><td>NA</td><td>...</td><td>   NA</td><td>   NA</td><td>   NA</td><td>   NA</td><td>   NA</td><td>   NA</td><td>NA                 </td><td>NA                                                                  </td><td>PBMC </td><td>CHP</td></tr>\n",
       "\t<tr><th scope=row>567</th><td>CHP_372_05</td><td>CHP_372</td><td>X05</td><td>0</td><td>0</td><td>21</td><td>BL</td><td>0</td><td>  0</td><td>NA</td><td>...</td><td>   NA</td><td>   NA</td><td>   NA</td><td>   NA</td><td>   NA</td><td>   NA</td><td>NA                 </td><td>NA                                                                  </td><td>PBMC </td><td>CHP</td></tr>\n",
       "\t<tr><th scope=row>2661</th><td>CHP_372_01</td><td>CHP_372</td><td>X00</td><td>1</td><td>0</td><td>21</td><td>BL</td><td>1</td><td>328</td><td>16</td><td>...</td><td>2.406</td><td>2.412</td><td>0.051</td><td>1.739</td><td>1.740</td><td>0.032</td><td>CHP_372-FFPE-DNA_S1</td><td>batchFFPE_3Apr2020/mixcr/clones/CLONES_TRBCHP_372-FFPE-DNA_S1.txt   </td><td>Tumor</td><td>CHP</td></tr>\n",
       "</tbody>\n",
       "</table>\n"
      ],
      "text/latex": [
       "A data.frame: 7 x 65\n",
       "\\begin{tabular}{r|lllllllllllllllllllll}\n",
       "  & sample\\_id & Patient & cycle & FOLD & ATC & Age & Disease\\_type & TE\\_fold & CD3 & EM & ... & observed\\_Shannon & estimated\\_Shannon & SE\\_Shannon & observed\\_Simpson & estimated\\_Simpson & SE\\_Simpson & basename & file & sampletype & Group\\\\\n",
       "  & <chr> & <chr> & <chr> & <dbl> & <dbl> & <dbl> & <chr> & <dbl> & <int> & <int> & ... & <dbl> & <dbl> & <dbl> & <dbl> & <dbl> & <dbl> & <chr> & <chr> & <chr> & <chr>\\\\\n",
       "\\hline\n",
       "\t563 & CHP\\_372\\_01 & CHP\\_372 & X01 & 1 & 0 & 21 & BL & 1 & 328 & 16 & ... & 2.724 & 2.733 & 0.057 & 2.553 & 2.565 & 0.079 & CHP\\_372-01-PBMC-DNA & batch\\_reseq\\_24Feb2020/mixcr/clones/CLONES\\_TRBCHP\\_372-01-PBMC-DNA.txt & PBMC  & CHP\\\\\n",
       "\t125 & CHP\\_372\\_01 & CHP\\_372 & X01 & 1 & 0 & 21 & BL & 1 & 328 & 16 & ... & 2.784 & 2.815 & 0.165 & 2.328 & 2.351 & 0.166 & CHP\\_372-01-cfDNA    & batch1\\_cfDNA\\_30Jan2020/mixcr/clones/CLONES\\_TRBCHP\\_372-01-cfDNA.txt   & cfDNA & CHP\\\\\n",
       "\t564 & CHP\\_372\\_02 & CHP\\_372 & X02 & 0 & 0 & 21 & BL & 0 &   0 & NA & ... &    NA &    NA &    NA &    NA &    NA &    NA & NA                  & NA                                                                   & PBMC  & CHP\\\\\n",
       "\t565 & CHP\\_372\\_03 & CHP\\_372 & X03 & 0 & 0 & 21 & BL & 0 &   0 & NA & ... &    NA &    NA &    NA &    NA &    NA &    NA & NA                  & NA                                                                   & PBMC  & CHP\\\\\n",
       "\t566 & CHP\\_372\\_04 & CHP\\_372 & X04 & 0 & 0 & 21 & BL & 0 &   0 & NA & ... &    NA &    NA &    NA &    NA &    NA &    NA & NA                  & NA                                                                   & PBMC  & CHP\\\\\n",
       "\t567 & CHP\\_372\\_05 & CHP\\_372 & X05 & 0 & 0 & 21 & BL & 0 &   0 & NA & ... &    NA &    NA &    NA &    NA &    NA &    NA & NA                  & NA                                                                   & PBMC  & CHP\\\\\n",
       "\t2661 & CHP\\_372\\_01 & CHP\\_372 & X00 & 1 & 0 & 21 & BL & 1 & 328 & 16 & ... & 2.406 & 2.412 & 0.051 & 1.739 & 1.740 & 0.032 & CHP\\_372-FFPE-DNA\\_S1 & batchFFPE\\_3Apr2020/mixcr/clones/CLONES\\_TRBCHP\\_372-FFPE-DNA\\_S1.txt    & Tumor & CHP\\\\\n",
       "\\end{tabular}\n"
      ],
      "text/markdown": [
       "\n",
       "A data.frame: 7 x 65\n",
       "\n",
       "| <!--/--> | sample_id &lt;chr&gt; | Patient &lt;chr&gt; | cycle &lt;chr&gt; | FOLD &lt;dbl&gt; | ATC &lt;dbl&gt; | Age &lt;dbl&gt; | Disease_type &lt;chr&gt; | TE_fold &lt;dbl&gt; | CD3 &lt;int&gt; | EM &lt;int&gt; | ... ... | observed_Shannon &lt;dbl&gt; | estimated_Shannon &lt;dbl&gt; | SE_Shannon &lt;dbl&gt; | observed_Simpson &lt;dbl&gt; | estimated_Simpson &lt;dbl&gt; | SE_Simpson &lt;dbl&gt; | basename &lt;chr&gt; | file &lt;chr&gt; | sampletype &lt;chr&gt; | Group &lt;chr&gt; |\n",
       "|---|---|---|---|---|---|---|---|---|---|---|---|---|---|---|---|---|---|---|---|---|---|\n",
       "| 563 | CHP_372_01 | CHP_372 | X01 | 1 | 0 | 21 | BL | 1 | 328 | 16 | ... | 2.724 | 2.733 | 0.057 | 2.553 | 2.565 | 0.079 | CHP_372-01-PBMC-DNA | batch_reseq_24Feb2020/mixcr/clones/CLONES_TRBCHP_372-01-PBMC-DNA.txt | PBMC  | CHP |\n",
       "| 125 | CHP_372_01 | CHP_372 | X01 | 1 | 0 | 21 | BL | 1 | 328 | 16 | ... | 2.784 | 2.815 | 0.165 | 2.328 | 2.351 | 0.166 | CHP_372-01-cfDNA    | batch1_cfDNA_30Jan2020/mixcr/clones/CLONES_TRBCHP_372-01-cfDNA.txt   | cfDNA | CHP |\n",
       "| 564 | CHP_372_02 | CHP_372 | X02 | 0 | 0 | 21 | BL | 0 |   0 | NA | ... |    NA |    NA |    NA |    NA |    NA |    NA | NA                  | NA                                                                   | PBMC  | CHP |\n",
       "| 565 | CHP_372_03 | CHP_372 | X03 | 0 | 0 | 21 | BL | 0 |   0 | NA | ... |    NA |    NA |    NA |    NA |    NA |    NA | NA                  | NA                                                                   | PBMC  | CHP |\n",
       "| 566 | CHP_372_04 | CHP_372 | X04 | 0 | 0 | 21 | BL | 0 |   0 | NA | ... |    NA |    NA |    NA |    NA |    NA |    NA | NA                  | NA                                                                   | PBMC  | CHP |\n",
       "| 567 | CHP_372_05 | CHP_372 | X05 | 0 | 0 | 21 | BL | 0 |   0 | NA | ... |    NA |    NA |    NA |    NA |    NA |    NA | NA                  | NA                                                                   | PBMC  | CHP |\n",
       "| 2661 | CHP_372_01 | CHP_372 | X00 | 1 | 0 | 21 | BL | 1 | 328 | 16 | ... | 2.406 | 2.412 | 0.051 | 1.739 | 1.740 | 0.032 | CHP_372-FFPE-DNA_S1 | batchFFPE_3Apr2020/mixcr/clones/CLONES_TRBCHP_372-FFPE-DNA_S1.txt    | Tumor | CHP |\n",
       "\n"
      ],
      "text/plain": [
       "     sample_id  Patient cycle FOLD ATC Age Disease_type TE_fold CD3 EM ...\n",
       "563  CHP_372_01 CHP_372 X01   1    0   21  BL           1       328 16 ...\n",
       "125  CHP_372_01 CHP_372 X01   1    0   21  BL           1       328 16 ...\n",
       "564  CHP_372_02 CHP_372 X02   0    0   21  BL           0         0 NA ...\n",
       "565  CHP_372_03 CHP_372 X03   0    0   21  BL           0         0 NA ...\n",
       "566  CHP_372_04 CHP_372 X04   0    0   21  BL           0         0 NA ...\n",
       "567  CHP_372_05 CHP_372 X05   0    0   21  BL           0         0 NA ...\n",
       "2661 CHP_372_01 CHP_372 X00   1    0   21  BL           1       328 16 ...\n",
       "     observed_Shannon estimated_Shannon SE_Shannon observed_Simpson\n",
       "563  2.724            2.733             0.057      2.553           \n",
       "125  2.784            2.815             0.165      2.328           \n",
       "564     NA               NA                NA         NA           \n",
       "565     NA               NA                NA         NA           \n",
       "566     NA               NA                NA         NA           \n",
       "567     NA               NA                NA         NA           \n",
       "2661 2.406            2.412             0.051      1.739           \n",
       "     estimated_Simpson SE_Simpson basename           \n",
       "563  2.565             0.079      CHP_372-01-PBMC-DNA\n",
       "125  2.351             0.166      CHP_372-01-cfDNA   \n",
       "564     NA                NA      NA                 \n",
       "565     NA                NA      NA                 \n",
       "566     NA                NA      NA                 \n",
       "567     NA                NA      NA                 \n",
       "2661 1.740             0.032      CHP_372-FFPE-DNA_S1\n",
       "     file                                                                \n",
       "563  batch_reseq_24Feb2020/mixcr/clones/CLONES_TRBCHP_372-01-PBMC-DNA.txt\n",
       "125  batch1_cfDNA_30Jan2020/mixcr/clones/CLONES_TRBCHP_372-01-cfDNA.txt  \n",
       "564  NA                                                                  \n",
       "565  NA                                                                  \n",
       "566  NA                                                                  \n",
       "567  NA                                                                  \n",
       "2661 batchFFPE_3Apr2020/mixcr/clones/CLONES_TRBCHP_372-FFPE-DNA_S1.txt   \n",
       "     sampletype Group\n",
       "563  PBMC       CHP  \n",
       "125  cfDNA      CHP  \n",
       "564  PBMC       CHP  \n",
       "565  PBMC       CHP  \n",
       "566  PBMC       CHP  \n",
       "567  PBMC       CHP  \n",
       "2661 Tumor      CHP  "
      ]
     },
     "metadata": {},
     "output_type": "display_data"
    }
   ],
   "source": [
    "meta_div_goodsamples[ meta_div_goodsamples$Patient == \"CHP_372\",]"
   ]
  },
  {
   "cell_type": "code",
   "execution_count": 19,
   "metadata": {
    "vscode": {
     "languageId": "r"
    }
   },
   "outputs": [
    {
     "data": {
      "text/plain": [
       "\n",
       "cfDNA  PBMC Tumor \n",
       "  274   558    18 "
      ]
     },
     "metadata": {},
     "output_type": "display_data"
    }
   ],
   "source": [
    "table(meta_div_goodsamples$sampletype, useNA = \"ifany\")"
   ]
  },
  {
   "cell_type": "code",
   "execution_count": 22,
   "metadata": {
    "vscode": {
     "languageId": "r"
    }
   },
   "outputs": [],
   "source": [
    "meta_div_goodsamples$cancergroup[ which(meta_div_goodsamples$cancergroup == \"Solid\")] <- \"Solid tumors\" # rename solid tumors"
   ]
  },
  {
   "cell_type": "code",
   "execution_count": 23,
   "metadata": {
    "vscode": {
     "languageId": "r"
    }
   },
   "outputs": [],
   "source": [
    "meta_div_goodsamples$cancergroup[ meta_div_goodsamples$Disease_type == \"T-ALL\" ] <- \"T-cell malignancies\"\n",
    "meta_div_goodsamples$cancergroup[ meta_div_goodsamples$Disease_type == \"ALCL\" ] <- \"T-cell malignancies\""
   ]
  },
  {
   "cell_type": "code",
   "execution_count": 24,
   "metadata": {
    "vscode": {
     "languageId": "r"
    }
   },
   "outputs": [],
   "source": [
    "meta_div_goodsamples$log10shann <- log10(meta_div_goodsamples$observed_Shannon)"
   ]
  },
  {
   "cell_type": "code",
   "execution_count": 31,
   "metadata": {
    "vscode": {
     "languageId": "r"
    }
   },
   "outputs": [],
   "source": [
    "# remove samples with CD3 == 0, TRB == NA and sampletype == PBMC\n",
    "\n",
    "rmsamples <- meta_div_goodsamples$sample_id[ meta_div_goodsamples$CD3 == 0 & is.na(meta_div_goodsamples$TRB) & meta_div_goodsamples$sampletype == \"PBMC\"]"
   ]
  },
  {
   "cell_type": "code",
   "execution_count": 32,
   "metadata": {
    "vscode": {
     "languageId": "r"
    }
   },
   "outputs": [],
   "source": [
    "meta_div_goodsamples <- meta_div_goodsamples[ !(meta_div_goodsamples$sample_id %in% rmsamples),]"
   ]
  },
  {
   "cell_type": "code",
   "execution_count": 36,
   "metadata": {
    "vscode": {
     "languageId": "r"
    }
   },
   "outputs": [
    {
     "data": {
      "text/plain": [
       "\n",
       "cfDNA  PBMC Tumor \n",
       "  238   312    14 "
      ]
     },
     "metadata": {},
     "output_type": "display_data"
    }
   ],
   "source": [
    "table(meta_div_goodsamples$sampletype, useNA = \"ifany\")"
   ]
  },
  {
   "cell_type": "code",
   "execution_count": 35,
   "metadata": {
    "vscode": {
     "languageId": "r"
    }
   },
   "outputs": [],
   "source": [
    "readr::write_rds(meta_div_goodsamples, paste0(datapath, \"capTCRseq/meta_div_goodsamples.rds\"))"
   ]
  },
  {
   "cell_type": "code",
   "execution_count": null,
   "metadata": {
    "vscode": {
     "languageId": "r"
    }
   },
   "outputs": [],
   "source": []
  }
 ],
 "metadata": {
  "kernelspec": {
   "display_name": "R 4.0",
   "language": "R",
   "name": "ir40"
  },
  "language_info": {
   "codemirror_mode": "r",
   "file_extension": ".r",
   "mimetype": "text/x-r-source",
   "name": "R",
   "pygments_lexer": "r",
   "version": "4.2.2"
  },
  "toc": {
   "base_numbering": 1,
   "nav_menu": {},
   "number_sections": false,
   "sideBar": true,
   "skip_h1_title": false,
   "title_cell": "Table of Contents",
   "title_sidebar": "Contents",
   "toc_cell": true,
   "toc_position": {
    "height": "calc(100% - 180px)",
    "left": "10px",
    "top": "150px",
    "width": "206.5px"
   },
   "toc_section_display": true,
   "toc_window_display": true
  }
 },
 "nbformat": 4,
 "nbformat_minor": 2
}

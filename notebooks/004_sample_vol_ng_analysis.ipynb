{
 "cells": [
  {
   "attachments": {},
   "cell_type": "markdown",
   "metadata": {},
   "source": [
    "# Dependencies"
   ]
  },
  {
   "cell_type": "code",
   "execution_count": 1,
   "metadata": {
    "scrolled": true,
    "vscode": {
     "languageId": "r"
    }
   },
   "outputs": [
    {
     "name": "stderr",
     "output_type": "stream",
     "text": [
      "\n",
      "Attaching package: 'dplyr'\n",
      "\n",
      "\n",
      "The following objects are masked from 'package:stats':\n",
      "\n",
      "    filter, lag\n",
      "\n",
      "\n",
      "The following objects are masked from 'package:base':\n",
      "\n",
      "    intersect, setdiff, setequal, union\n",
      "\n",
      "\n"
     ]
    }
   ],
   "source": [
    "library(dplyr)"
   ]
  },
  {
   "cell_type": "code",
   "execution_count": 2,
   "metadata": {
    "vscode": {
     "languageId": "r"
    }
   },
   "outputs": [],
   "source": [
    "library(openxlsx)"
   ]
  },
  {
   "cell_type": "code",
   "execution_count": 3,
   "metadata": {
    "vscode": {
     "languageId": "r"
    }
   },
   "outputs": [],
   "source": [
    "source(\"/Users/anabbi/git/ped_CapTCRseq/R/ggplot2_theme.R\")\n",
    "source(\"/Users/anabbi/git/ped_CapTCRseq/R/color_schemes.R\")"
   ]
  },
  {
   "attachments": {},
   "cell_type": "markdown",
   "metadata": {},
   "source": [
    "# Paths"
   ]
  },
  {
   "cell_type": "code",
   "execution_count": 4,
   "metadata": {
    "vscode": {
     "languageId": "r"
    }
   },
   "outputs": [],
   "source": [
    "datapath <- \"/Users/anabbi/OneDrive - UHN/Documents/INTERCEPT/Data/\"\n",
    "plotpath <- \"/Users/anabbi/OneDrive - UHN/Documents/INTERCEPT/Plots/\"\n",
    "manifestpath <- \"/Users/anabbi/OneDrive - UHN/Documents/INTERCEPT/Manifests/\"\n",
    "\n",
    "gitpath <- \"/Users/anabbi/git/ped_CapTCRseq/\""
   ]
  },
  {
   "attachments": {},
   "cell_type": "markdown",
   "metadata": {},
   "source": [
    "# Main"
   ]
  },
  {
   "cell_type": "code",
   "execution_count": 5,
   "metadata": {
    "vscode": {
     "languageId": "r"
    }
   },
   "outputs": [],
   "source": [
    "ffpe <- read.xlsx(paste0(datapath, \"CHOP Lab Processing Log.xlsx\"), sheet = 3)"
   ]
  },
  {
   "cell_type": "code",
   "execution_count": 6,
   "metadata": {
    "vscode": {
     "languageId": "r"
    }
   },
   "outputs": [],
   "source": [
    "metadata <- read.csv(file = paste0(datapath, \"INT_metadata_flow.csv\"),header = T, stringsAsFactors = F)"
   ]
  },
  {
   "cell_type": "code",
   "execution_count": 8,
   "metadata": {
    "vscode": {
     "languageId": "r"
    }
   },
   "outputs": [],
   "source": [
    "# divstats <- read.csv(paste0(datapath, \"capTCRseq/divstats_TRBCHP.csv\"), header = T, stringsAsFactors = F, row.names = 1)"
   ]
  },
  {
   "attachments": {},
   "cell_type": "markdown",
   "metadata": {},
   "source": [
    "# FFPE"
   ]
  },
  {
   "cell_type": "code",
   "execution_count": 15,
   "metadata": {
    "vscode": {
     "languageId": "r"
    }
   },
   "outputs": [],
   "source": [
    "# get batch 1\n",
    "ffpe <- ffpe[ ffpe$Batch == \"1\",]"
   ]
  },
  {
   "cell_type": "code",
   "execution_count": 16,
   "metadata": {
    "vscode": {
     "languageId": "r"
    }
   },
   "outputs": [],
   "source": [
    "#make a dataframe from sample ids\n",
    "ffpe_samples <- data.frame(ffpe$Pugh.Lab.ID, stringsAsFactors = F)\n",
    "colnames(ffpe_samples) <- \"sample_id\""
   ]
  },
  {
   "cell_type": "code",
   "execution_count": 17,
   "metadata": {
    "vscode": {
     "languageId": "r"
    }
   },
   "outputs": [],
   "source": [
    "# add number of samples\n",
    "ffpe_samples$Shipped <- paste0(\"n = \", nrow(ffpe_samples))"
   ]
  },
  {
   "cell_type": "code",
   "execution_count": 18,
   "metadata": {
    "scrolled": true,
    "vscode": {
     "languageId": "r"
    }
   },
   "outputs": [
    {
     "data": {
      "text/html": [
       "<table class=\"dataframe\">\n",
       "<caption>A data.frame: 25 x 2</caption>\n",
       "<thead>\n",
       "\t<tr><th scope=col>sample_id</th><th scope=col>Shipped</th></tr>\n",
       "\t<tr><th scope=col>&lt;chr&gt;</th><th scope=col>&lt;chr&gt;</th></tr>\n",
       "</thead>\n",
       "<tbody>\n",
       "\t<tr><td>343-B</td><td>n = 25</td></tr>\n",
       "\t<tr><td>344-A</td><td>n = 25</td></tr>\n",
       "\t<tr><td>419  </td><td>n = 25</td></tr>\n",
       "\t<tr><td>358  </td><td>n = 25</td></tr>\n",
       "\t<tr><td>384  </td><td>n = 25</td></tr>\n",
       "\t<tr><td>401  </td><td>n = 25</td></tr>\n",
       "\t<tr><td>412  </td><td>n = 25</td></tr>\n",
       "\t<tr><td>404-A</td><td>n = 25</td></tr>\n",
       "\t<tr><td>418  </td><td>n = 25</td></tr>\n",
       "\t<tr><td>370  </td><td>n = 25</td></tr>\n",
       "\t<tr><td>394  </td><td>n = 25</td></tr>\n",
       "\t<tr><td>348  </td><td>n = 25</td></tr>\n",
       "\t<tr><td>407  </td><td>n = 25</td></tr>\n",
       "\t<tr><td>343-A</td><td>n = 25</td></tr>\n",
       "\t<tr><td>385  </td><td>n = 25</td></tr>\n",
       "\t<tr><td>344-B</td><td>n = 25</td></tr>\n",
       "\t<tr><td>390  </td><td>n = 25</td></tr>\n",
       "\t<tr><td>364  </td><td>n = 25</td></tr>\n",
       "\t<tr><td>366  </td><td>n = 25</td></tr>\n",
       "\t<tr><td>372  </td><td>n = 25</td></tr>\n",
       "\t<tr><td>389  </td><td>n = 25</td></tr>\n",
       "\t<tr><td>400  </td><td>n = 25</td></tr>\n",
       "\t<tr><td>404-B</td><td>n = 25</td></tr>\n",
       "\t<tr><td>361  </td><td>n = 25</td></tr>\n",
       "\t<tr><td>380  </td><td>n = 25</td></tr>\n",
       "</tbody>\n",
       "</table>\n"
      ],
      "text/latex": [
       "A data.frame: 25 x 2\n",
       "\\begin{tabular}{ll}\n",
       " sample\\_id & Shipped\\\\\n",
       " <chr> & <chr>\\\\\n",
       "\\hline\n",
       "\t 343-B & n = 25\\\\\n",
       "\t 344-A & n = 25\\\\\n",
       "\t 419   & n = 25\\\\\n",
       "\t 358   & n = 25\\\\\n",
       "\t 384   & n = 25\\\\\n",
       "\t 401   & n = 25\\\\\n",
       "\t 412   & n = 25\\\\\n",
       "\t 404-A & n = 25\\\\\n",
       "\t 418   & n = 25\\\\\n",
       "\t 370   & n = 25\\\\\n",
       "\t 394   & n = 25\\\\\n",
       "\t 348   & n = 25\\\\\n",
       "\t 407   & n = 25\\\\\n",
       "\t 343-A & n = 25\\\\\n",
       "\t 385   & n = 25\\\\\n",
       "\t 344-B & n = 25\\\\\n",
       "\t 390   & n = 25\\\\\n",
       "\t 364   & n = 25\\\\\n",
       "\t 366   & n = 25\\\\\n",
       "\t 372   & n = 25\\\\\n",
       "\t 389   & n = 25\\\\\n",
       "\t 400   & n = 25\\\\\n",
       "\t 404-B & n = 25\\\\\n",
       "\t 361   & n = 25\\\\\n",
       "\t 380   & n = 25\\\\\n",
       "\\end{tabular}\n"
      ],
      "text/markdown": [
       "\n",
       "A data.frame: 25 x 2\n",
       "\n",
       "| sample_id &lt;chr&gt; | Shipped &lt;chr&gt; |\n",
       "|---|---|\n",
       "| 343-B | n = 25 |\n",
       "| 344-A | n = 25 |\n",
       "| 419   | n = 25 |\n",
       "| 358   | n = 25 |\n",
       "| 384   | n = 25 |\n",
       "| 401   | n = 25 |\n",
       "| 412   | n = 25 |\n",
       "| 404-A | n = 25 |\n",
       "| 418   | n = 25 |\n",
       "| 370   | n = 25 |\n",
       "| 394   | n = 25 |\n",
       "| 348   | n = 25 |\n",
       "| 407   | n = 25 |\n",
       "| 343-A | n = 25 |\n",
       "| 385   | n = 25 |\n",
       "| 344-B | n = 25 |\n",
       "| 390   | n = 25 |\n",
       "| 364   | n = 25 |\n",
       "| 366   | n = 25 |\n",
       "| 372   | n = 25 |\n",
       "| 389   | n = 25 |\n",
       "| 400   | n = 25 |\n",
       "| 404-B | n = 25 |\n",
       "| 361   | n = 25 |\n",
       "| 380   | n = 25 |\n",
       "\n"
      ],
      "text/plain": [
       "   sample_id Shipped\n",
       "1  343-B     n = 25 \n",
       "2  344-A     n = 25 \n",
       "3  419       n = 25 \n",
       "4  358       n = 25 \n",
       "5  384       n = 25 \n",
       "6  401       n = 25 \n",
       "7  412       n = 25 \n",
       "8  404-A     n = 25 \n",
       "9  418       n = 25 \n",
       "10 370       n = 25 \n",
       "11 394       n = 25 \n",
       "12 348       n = 25 \n",
       "13 407       n = 25 \n",
       "14 343-A     n = 25 \n",
       "15 385       n = 25 \n",
       "16 344-B     n = 25 \n",
       "17 390       n = 25 \n",
       "18 364       n = 25 \n",
       "19 366       n = 25 \n",
       "20 372       n = 25 \n",
       "21 389       n = 25 \n",
       "22 400       n = 25 \n",
       "23 404-B     n = 25 \n",
       "24 361       n = 25 \n",
       "25 380       n = 25 "
      ]
     },
     "metadata": {},
     "output_type": "display_data"
    }
   ],
   "source": [
    "ffpe_samples"
   ]
  },
  {
   "cell_type": "code",
   "execution_count": 19,
   "metadata": {
    "vscode": {
     "languageId": "r"
    }
   },
   "outputs": [],
   "source": [
    "#add amount DNA extracted\n",
    "ffpe_samples$DNAextracted <- NA\n",
    "ffpe_samples$DNAextracted <- ffpe$`DNA.total.(ng)`[ match(ffpe_samples$sample_id,ffpe$Pugh.Lab.ID)]"
   ]
  },
  {
   "cell_type": "code",
   "execution_count": 20,
   "metadata": {
    "vscode": {
     "languageId": "r"
    }
   },
   "outputs": [],
   "source": [
    "#add amount DNA used for library\n",
    "ffpe_samples$DNAused <- NA\n",
    "ffpe_samples$DNAused <- ffpe$`Amount.of.DNA.used.for.Library.Prep.(ng)`[ match(ffpe_samples$sample_id, ffpe$Pugh.Lab.ID )]"
   ]
  },
  {
   "cell_type": "code",
   "execution_count": 21,
   "metadata": {
    "vscode": {
     "languageId": "r"
    }
   },
   "outputs": [],
   "source": [
    "# Add miseq status for libraries\n",
    "ffpe_samples$librarypassed <- NA\n",
    "ffpe_samples$librarypassed <- trimws(ffpe$Miseq.for.Library[ match(ffpe_samples$sample_id, ffpe$Pugh.Lab.ID)])"
   ]
  },
  {
   "cell_type": "code",
   "execution_count": 22,
   "metadata": {
    "scrolled": true,
    "vscode": {
     "languageId": "r"
    }
   },
   "outputs": [
    {
     "data": {
      "text/html": [
       "<table class=\"dataframe\">\n",
       "<caption>A data.frame: 25 x 5</caption>\n",
       "<thead>\n",
       "\t<tr><th scope=col>sample_id</th><th scope=col>Shipped</th><th scope=col>DNAextracted</th><th scope=col>DNAused</th><th scope=col>librarypassed</th></tr>\n",
       "\t<tr><th scope=col>&lt;chr&gt;</th><th scope=col>&lt;chr&gt;</th><th scope=col>&lt;dbl&gt;</th><th scope=col>&lt;dbl&gt;</th><th scope=col>&lt;chr&gt;</th></tr>\n",
       "</thead>\n",
       "<tbody>\n",
       "\t<tr><td>343-B</td><td>n = 25</td><td> 1060</td><td>500</td><td>Passed</td></tr>\n",
       "\t<tr><td>344-A</td><td>n = 25</td><td> 9280</td><td>500</td><td>Passed</td></tr>\n",
       "\t<tr><td>419  </td><td>n = 25</td><td>  248</td><td>248</td><td>Passed</td></tr>\n",
       "\t<tr><td>358  </td><td>n = 25</td><td>11900</td><td>500</td><td>Passed</td></tr>\n",
       "\t<tr><td>384  </td><td>n = 25</td><td> 2460</td><td>500</td><td>Passed</td></tr>\n",
       "\t<tr><td>401  </td><td>n = 25</td><td> 1740</td><td>500</td><td>Passed</td></tr>\n",
       "\t<tr><td>412  </td><td>n = 25</td><td> 3060</td><td>500</td><td>Passed</td></tr>\n",
       "\t<tr><td>404-A</td><td>n = 25</td><td> 1010</td><td>500</td><td>Passed</td></tr>\n",
       "\t<tr><td>418  </td><td>n = 25</td><td> 3280</td><td>500</td><td>Passed</td></tr>\n",
       "\t<tr><td>370  </td><td>n = 25</td><td> 2660</td><td>500</td><td>Passed</td></tr>\n",
       "\t<tr><td>394  </td><td>n = 25</td><td>12500</td><td>500</td><td>Passed</td></tr>\n",
       "\t<tr><td>348  </td><td>n = 25</td><td>  736</td><td>500</td><td>Passed</td></tr>\n",
       "\t<tr><td>407  </td><td>n = 25</td><td> 1160</td><td>500</td><td>Passed</td></tr>\n",
       "\t<tr><td>343-A</td><td>n = 25</td><td>  630</td><td>500</td><td>Passed</td></tr>\n",
       "\t<tr><td>385  </td><td>n = 25</td><td>  516</td><td>500</td><td>Passed</td></tr>\n",
       "\t<tr><td>344-B</td><td>n = 25</td><td>11600</td><td>500</td><td>Passed</td></tr>\n",
       "\t<tr><td>390  </td><td>n = 25</td><td>  440</td><td>440</td><td>Passed</td></tr>\n",
       "\t<tr><td>364  </td><td>n = 25</td><td>  692</td><td>500</td><td>Passed</td></tr>\n",
       "\t<tr><td>366  </td><td>n = 25</td><td> 3260</td><td>500</td><td>Passed</td></tr>\n",
       "\t<tr><td>372  </td><td>n = 25</td><td> 7320</td><td>500</td><td>Passed</td></tr>\n",
       "\t<tr><td>389  </td><td>n = 25</td><td> 9220</td><td>500</td><td>Passed</td></tr>\n",
       "\t<tr><td>400  </td><td>n = 25</td><td>11400</td><td>500</td><td>Passed</td></tr>\n",
       "\t<tr><td>404-B</td><td>n = 25</td><td>  390</td><td>390</td><td>Passed</td></tr>\n",
       "\t<tr><td>361  </td><td>n = 25</td><td>33400</td><td>500</td><td>Passed</td></tr>\n",
       "\t<tr><td>380  </td><td>n = 25</td><td>29400</td><td>500</td><td>Passed</td></tr>\n",
       "</tbody>\n",
       "</table>\n"
      ],
      "text/latex": [
       "A data.frame: 25 x 5\n",
       "\\begin{tabular}{lllll}\n",
       " sample\\_id & Shipped & DNAextracted & DNAused & librarypassed\\\\\n",
       " <chr> & <chr> & <dbl> & <dbl> & <chr>\\\\\n",
       "\\hline\n",
       "\t 343-B & n = 25 &  1060 & 500 & Passed\\\\\n",
       "\t 344-A & n = 25 &  9280 & 500 & Passed\\\\\n",
       "\t 419   & n = 25 &   248 & 248 & Passed\\\\\n",
       "\t 358   & n = 25 & 11900 & 500 & Passed\\\\\n",
       "\t 384   & n = 25 &  2460 & 500 & Passed\\\\\n",
       "\t 401   & n = 25 &  1740 & 500 & Passed\\\\\n",
       "\t 412   & n = 25 &  3060 & 500 & Passed\\\\\n",
       "\t 404-A & n = 25 &  1010 & 500 & Passed\\\\\n",
       "\t 418   & n = 25 &  3280 & 500 & Passed\\\\\n",
       "\t 370   & n = 25 &  2660 & 500 & Passed\\\\\n",
       "\t 394   & n = 25 & 12500 & 500 & Passed\\\\\n",
       "\t 348   & n = 25 &   736 & 500 & Passed\\\\\n",
       "\t 407   & n = 25 &  1160 & 500 & Passed\\\\\n",
       "\t 343-A & n = 25 &   630 & 500 & Passed\\\\\n",
       "\t 385   & n = 25 &   516 & 500 & Passed\\\\\n",
       "\t 344-B & n = 25 & 11600 & 500 & Passed\\\\\n",
       "\t 390   & n = 25 &   440 & 440 & Passed\\\\\n",
       "\t 364   & n = 25 &   692 & 500 & Passed\\\\\n",
       "\t 366   & n = 25 &  3260 & 500 & Passed\\\\\n",
       "\t 372   & n = 25 &  7320 & 500 & Passed\\\\\n",
       "\t 389   & n = 25 &  9220 & 500 & Passed\\\\\n",
       "\t 400   & n = 25 & 11400 & 500 & Passed\\\\\n",
       "\t 404-B & n = 25 &   390 & 390 & Passed\\\\\n",
       "\t 361   & n = 25 & 33400 & 500 & Passed\\\\\n",
       "\t 380   & n = 25 & 29400 & 500 & Passed\\\\\n",
       "\\end{tabular}\n"
      ],
      "text/markdown": [
       "\n",
       "A data.frame: 25 x 5\n",
       "\n",
       "| sample_id &lt;chr&gt; | Shipped &lt;chr&gt; | DNAextracted &lt;dbl&gt; | DNAused &lt;dbl&gt; | librarypassed &lt;chr&gt; |\n",
       "|---|---|---|---|---|\n",
       "| 343-B | n = 25 |  1060 | 500 | Passed |\n",
       "| 344-A | n = 25 |  9280 | 500 | Passed |\n",
       "| 419   | n = 25 |   248 | 248 | Passed |\n",
       "| 358   | n = 25 | 11900 | 500 | Passed |\n",
       "| 384   | n = 25 |  2460 | 500 | Passed |\n",
       "| 401   | n = 25 |  1740 | 500 | Passed |\n",
       "| 412   | n = 25 |  3060 | 500 | Passed |\n",
       "| 404-A | n = 25 |  1010 | 500 | Passed |\n",
       "| 418   | n = 25 |  3280 | 500 | Passed |\n",
       "| 370   | n = 25 |  2660 | 500 | Passed |\n",
       "| 394   | n = 25 | 12500 | 500 | Passed |\n",
       "| 348   | n = 25 |   736 | 500 | Passed |\n",
       "| 407   | n = 25 |  1160 | 500 | Passed |\n",
       "| 343-A | n = 25 |   630 | 500 | Passed |\n",
       "| 385   | n = 25 |   516 | 500 | Passed |\n",
       "| 344-B | n = 25 | 11600 | 500 | Passed |\n",
       "| 390   | n = 25 |   440 | 440 | Passed |\n",
       "| 364   | n = 25 |   692 | 500 | Passed |\n",
       "| 366   | n = 25 |  3260 | 500 | Passed |\n",
       "| 372   | n = 25 |  7320 | 500 | Passed |\n",
       "| 389   | n = 25 |  9220 | 500 | Passed |\n",
       "| 400   | n = 25 | 11400 | 500 | Passed |\n",
       "| 404-B | n = 25 |   390 | 390 | Passed |\n",
       "| 361   | n = 25 | 33400 | 500 | Passed |\n",
       "| 380   | n = 25 | 29400 | 500 | Passed |\n",
       "\n"
      ],
      "text/plain": [
       "   sample_id Shipped DNAextracted DNAused librarypassed\n",
       "1  343-B     n = 25   1060        500     Passed       \n",
       "2  344-A     n = 25   9280        500     Passed       \n",
       "3  419       n = 25    248        248     Passed       \n",
       "4  358       n = 25  11900        500     Passed       \n",
       "5  384       n = 25   2460        500     Passed       \n",
       "6  401       n = 25   1740        500     Passed       \n",
       "7  412       n = 25   3060        500     Passed       \n",
       "8  404-A     n = 25   1010        500     Passed       \n",
       "9  418       n = 25   3280        500     Passed       \n",
       "10 370       n = 25   2660        500     Passed       \n",
       "11 394       n = 25  12500        500     Passed       \n",
       "12 348       n = 25    736        500     Passed       \n",
       "13 407       n = 25   1160        500     Passed       \n",
       "14 343-A     n = 25    630        500     Passed       \n",
       "15 385       n = 25    516        500     Passed       \n",
       "16 344-B     n = 25  11600        500     Passed       \n",
       "17 390       n = 25    440        440     Passed       \n",
       "18 364       n = 25    692        500     Passed       \n",
       "19 366       n = 25   3260        500     Passed       \n",
       "20 372       n = 25   7320        500     Passed       \n",
       "21 389       n = 25   9220        500     Passed       \n",
       "22 400       n = 25  11400        500     Passed       \n",
       "23 404-B     n = 25    390        390     Passed       \n",
       "24 361       n = 25  33400        500     Passed       \n",
       "25 380       n = 25  29400        500     Passed       "
      ]
     },
     "metadata": {},
     "output_type": "display_data"
    }
   ],
   "source": [
    "ffpe_samples"
   ]
  },
  {
   "cell_type": "code",
   "execution_count": 23,
   "metadata": {
    "vscode": {
     "languageId": "r"
    }
   },
   "outputs": [],
   "source": [
    "# add number of passed libraries\n",
    "ffpe_samples$Library <- NA\n",
    "ffpe_samples$Library[ ffpe_samples$librarypassed == \"Passed\"] <- paste0(\"n = \", \n",
    "                               length(ffpe_samples$librarypassed[ffpe_samples$librarypassed == \"Passed\"]))"
   ]
  },
  {
   "cell_type": "code",
   "execution_count": 24,
   "metadata": {
    "vscode": {
     "languageId": "r"
    }
   },
   "outputs": [],
   "source": [
    "#add total library yield\n",
    "ffpe_samples$libraryyield <- NA\n",
    "ffpe_samples$libraryyield <- ffpe$`Total.Library.Yield.(ng)`[ match(ffpe_samples$sample_id, ffpe$Pugh.Lab.ID)]"
   ]
  },
  {
   "cell_type": "code",
   "execution_count": 25,
   "metadata": {
    "vscode": {
     "languageId": "r"
    }
   },
   "outputs": [],
   "source": [
    "#amount DNA used for capture\n",
    "ffpe_samples$DNAforcapture <- NA\n",
    "ffpe_samples$DNAforcapture <- ffpe$`Amount.of.Library.used.for.Capture.(ng)`[ match(ffpe_samples$sample_id, ffpe$Pugh.Lab.ID)]"
   ]
  },
  {
   "cell_type": "code",
   "execution_count": 26,
   "metadata": {
    "vscode": {
     "languageId": "r"
    }
   },
   "outputs": [],
   "source": [
    "#total capture yield\n",
    "ffpe_samples$captureyield <- NA\n",
    "ffpe_samples$captureyield <- ffpe$`Total.Capture.Library.Yield.(ng)`[ match(ffpe_samples$sample_id, ffpe$Pugh.Lab.ID)]"
   ]
  },
  {
   "cell_type": "code",
   "execution_count": 27,
   "metadata": {
    "vscode": {
     "languageId": "r"
    }
   },
   "outputs": [],
   "source": [
    "# Miseq status for capture\n",
    "ffpe_samples$capturepassed <- NA\n",
    "ffpe_samples$capturepassed <- trimws(ffpe$Miseq.for.Capture[ match(ffpe_samples$sample_id, ffpe$Pugh.Lab.ID)])"
   ]
  },
  {
   "cell_type": "code",
   "execution_count": 28,
   "metadata": {
    "vscode": {
     "languageId": "r"
    }
   },
   "outputs": [],
   "source": [
    "# Number of passed captures\n",
    "ffpe_samples$Capture <- NA\n",
    "ffpe_samples$Capture[ ffpe_samples$capturepassed == \"Passed\"] <- paste0(\"n = \", \n",
    "                                                                        length(ffpe_samples$capturepassed[ffpe_samples$capturepassed == \"Passed\"]))"
   ]
  },
  {
   "cell_type": "code",
   "execution_count": 29,
   "metadata": {
    "vscode": {
     "languageId": "r"
    }
   },
   "outputs": [
    {
     "data": {
      "text/html": [
       "<table class=\"dataframe\">\n",
       "<caption>A data.frame: 25 x 11</caption>\n",
       "<thead>\n",
       "\t<tr><th scope=col>sample_id</th><th scope=col>Shipped</th><th scope=col>DNAextracted</th><th scope=col>DNAused</th><th scope=col>librarypassed</th><th scope=col>Library</th><th scope=col>libraryyield</th><th scope=col>DNAforcapture</th><th scope=col>captureyield</th><th scope=col>capturepassed</th><th scope=col>Capture</th></tr>\n",
       "\t<tr><th scope=col>&lt;chr&gt;</th><th scope=col>&lt;chr&gt;</th><th scope=col>&lt;dbl&gt;</th><th scope=col>&lt;dbl&gt;</th><th scope=col>&lt;chr&gt;</th><th scope=col>&lt;chr&gt;</th><th scope=col>&lt;dbl&gt;</th><th scope=col>&lt;dbl&gt;</th><th scope=col>&lt;dbl&gt;</th><th scope=col>&lt;chr&gt;</th><th scope=col>&lt;chr&gt;</th></tr>\n",
       "</thead>\n",
       "<tbody>\n",
       "\t<tr><td>343-B</td><td>n = 25</td><td> 1060</td><td>500</td><td>Passed</td><td>n = 25</td><td>258.24</td><td>258.24</td><td>10.070</td><td>Passed</td><td>n = 23</td></tr>\n",
       "\t<tr><td>344-A</td><td>n = 25</td><td> 9280</td><td>500</td><td>Passed</td><td>n = 25</td><td>287.04</td><td>287.04</td><td>10.070</td><td>Passed</td><td>n = 23</td></tr>\n",
       "\t<tr><td>419  </td><td>n = 25</td><td>  248</td><td>248</td><td>Passed</td><td>n = 25</td><td>237.12</td><td>237.12</td><td>10.070</td><td>Passed</td><td>n = 23</td></tr>\n",
       "\t<tr><td>358  </td><td>n = 25</td><td>11900</td><td>500</td><td>Passed</td><td>n = 25</td><td>638.40</td><td>617.26</td><td>83.220</td><td>Passed</td><td>n = 23</td></tr>\n",
       "\t<tr><td>384  </td><td>n = 25</td><td> 2460</td><td>500</td><td>Passed</td><td>n = 25</td><td>363.84</td><td>363.84</td><td>83.220</td><td>Passed</td><td>n = 23</td></tr>\n",
       "\t<tr><td>401  </td><td>n = 25</td><td> 1740</td><td>500</td><td>Passed</td><td>n = 25</td><td>705.60</td><td>449.48</td><td>10.108</td><td>Passed</td><td>n = 23</td></tr>\n",
       "\t<tr><td>412  </td><td>n = 25</td><td> 3060</td><td>500</td><td>Passed</td><td>n = 25</td><td>787.20</td><td>550.52</td><td>10.108</td><td>Passed</td><td>n = 23</td></tr>\n",
       "\t<tr><td>404-A</td><td>n = 25</td><td> 1010</td><td>500</td><td>Passed</td><td>n = 25</td><td>811.20</td><td>498.41</td><td>42.560</td><td>Passed</td><td>n = 23</td></tr>\n",
       "\t<tr><td>418  </td><td>n = 25</td><td> 3280</td><td>500</td><td>Passed</td><td>n = 25</td><td>792.00</td><td>501.59</td><td>42.560</td><td>Passed</td><td>n = 23</td></tr>\n",
       "\t<tr><td>370  </td><td>n = 25</td><td> 2660</td><td>500</td><td>Passed</td><td>n = 25</td><td>472.32</td><td>472.32</td><td> 5.282</td><td>Passed</td><td>n = 23</td></tr>\n",
       "\t<tr><td>394  </td><td>n = 25</td><td>12500</td><td>500</td><td>Passed</td><td>n = 25</td><td>528.00</td><td>510.50</td><td> 5.282</td><td>Passed</td><td>n = 23</td></tr>\n",
       "\t<tr><td>348  </td><td>n = 25</td><td>  736</td><td>500</td><td>Passed</td><td>n = 25</td><td>414.72</td><td>414.72</td><td> 6.764</td><td>Passed</td><td>n = 23</td></tr>\n",
       "\t<tr><td>407  </td><td>n = 25</td><td> 1160</td><td>500</td><td>Passed</td><td>n = 25</td><td>595.20</td><td>568.80</td><td> 6.764</td><td>Passed</td><td>n = 23</td></tr>\n",
       "\t<tr><td>343-A</td><td>n = 25</td><td>  630</td><td>500</td><td>Passed</td><td>n = 25</td><td>166.08</td><td>166.08</td><td> 5.776</td><td>Failed</td><td>NA    </td></tr>\n",
       "\t<tr><td>385  </td><td>n = 25</td><td>  516</td><td>500</td><td>Passed</td><td>n = 25</td><td>177.60</td><td>177.60</td><td> 5.776</td><td>Failed</td><td>NA    </td></tr>\n",
       "\t<tr><td>344-B</td><td>n = 25</td><td>11600</td><td>500</td><td>Passed</td><td>n = 25</td><td>332.16</td><td>332.16</td><td>10.526</td><td>Passed</td><td>n = 23</td></tr>\n",
       "\t<tr><td>390  </td><td>n = 25</td><td>  440</td><td>440</td><td>Passed</td><td>n = 25</td><td>220.80</td><td>220.80</td><td>10.526</td><td>Passed</td><td>n = 23</td></tr>\n",
       "\t<tr><td>364  </td><td>n = 25</td><td>  692</td><td>500</td><td>Passed</td><td>n = 25</td><td>379.20</td><td>379.20</td><td> 7.638</td><td>Passed</td><td>n = 23</td></tr>\n",
       "\t<tr><td>366  </td><td>n = 25</td><td> 3260</td><td>500</td><td>Passed</td><td>n = 25</td><td>295.68</td><td>295.68</td><td> 7.638</td><td>Passed</td><td>n = 23</td></tr>\n",
       "\t<tr><td>372  </td><td>n = 25</td><td> 7320</td><td>500</td><td>Passed</td><td>n = 25</td><td>600.00</td><td>530.85</td><td>22.040</td><td>Passed</td><td>n = 23</td></tr>\n",
       "\t<tr><td>389  </td><td>n = 25</td><td> 9220</td><td>500</td><td>Passed</td><td>n = 25</td><td>523.20</td><td>469.15</td><td>22.040</td><td>Passed</td><td>n = 23</td></tr>\n",
       "\t<tr><td>400  </td><td>n = 25</td><td>11400</td><td>500</td><td>Passed</td><td>n = 25</td><td>561.60</td><td>445.91</td><td>15.200</td><td>Passed</td><td>n = 23</td></tr>\n",
       "\t<tr><td>404-B</td><td>n = 25</td><td>  390</td><td>390</td><td>Passed</td><td>n = 25</td><td>532.80</td><td>532.80</td><td>15.200</td><td>Passed</td><td>n = 23</td></tr>\n",
       "\t<tr><td>361  </td><td>n = 25</td><td>33400</td><td>500</td><td>Passed</td><td>n = 25</td><td>442.56</td><td>442.56</td><td>51.300</td><td>Passed</td><td>n = 23</td></tr>\n",
       "\t<tr><td>380  </td><td>n = 25</td><td>29400</td><td>500</td><td>Passed</td><td>n = 25</td><td>391.68</td><td>391.68</td><td>51.300</td><td>Passed</td><td>n = 23</td></tr>\n",
       "</tbody>\n",
       "</table>\n"
      ],
      "text/latex": [
       "A data.frame: 25 x 11\n",
       "\\begin{tabular}{lllllllllll}\n",
       " sample\\_id & Shipped & DNAextracted & DNAused & librarypassed & Library & libraryyield & DNAforcapture & captureyield & capturepassed & Capture\\\\\n",
       " <chr> & <chr> & <dbl> & <dbl> & <chr> & <chr> & <dbl> & <dbl> & <dbl> & <chr> & <chr>\\\\\n",
       "\\hline\n",
       "\t 343-B & n = 25 &  1060 & 500 & Passed & n = 25 & 258.24 & 258.24 & 10.070 & Passed & n = 23\\\\\n",
       "\t 344-A & n = 25 &  9280 & 500 & Passed & n = 25 & 287.04 & 287.04 & 10.070 & Passed & n = 23\\\\\n",
       "\t 419   & n = 25 &   248 & 248 & Passed & n = 25 & 237.12 & 237.12 & 10.070 & Passed & n = 23\\\\\n",
       "\t 358   & n = 25 & 11900 & 500 & Passed & n = 25 & 638.40 & 617.26 & 83.220 & Passed & n = 23\\\\\n",
       "\t 384   & n = 25 &  2460 & 500 & Passed & n = 25 & 363.84 & 363.84 & 83.220 & Passed & n = 23\\\\\n",
       "\t 401   & n = 25 &  1740 & 500 & Passed & n = 25 & 705.60 & 449.48 & 10.108 & Passed & n = 23\\\\\n",
       "\t 412   & n = 25 &  3060 & 500 & Passed & n = 25 & 787.20 & 550.52 & 10.108 & Passed & n = 23\\\\\n",
       "\t 404-A & n = 25 &  1010 & 500 & Passed & n = 25 & 811.20 & 498.41 & 42.560 & Passed & n = 23\\\\\n",
       "\t 418   & n = 25 &  3280 & 500 & Passed & n = 25 & 792.00 & 501.59 & 42.560 & Passed & n = 23\\\\\n",
       "\t 370   & n = 25 &  2660 & 500 & Passed & n = 25 & 472.32 & 472.32 &  5.282 & Passed & n = 23\\\\\n",
       "\t 394   & n = 25 & 12500 & 500 & Passed & n = 25 & 528.00 & 510.50 &  5.282 & Passed & n = 23\\\\\n",
       "\t 348   & n = 25 &   736 & 500 & Passed & n = 25 & 414.72 & 414.72 &  6.764 & Passed & n = 23\\\\\n",
       "\t 407   & n = 25 &  1160 & 500 & Passed & n = 25 & 595.20 & 568.80 &  6.764 & Passed & n = 23\\\\\n",
       "\t 343-A & n = 25 &   630 & 500 & Passed & n = 25 & 166.08 & 166.08 &  5.776 & Failed & NA    \\\\\n",
       "\t 385   & n = 25 &   516 & 500 & Passed & n = 25 & 177.60 & 177.60 &  5.776 & Failed & NA    \\\\\n",
       "\t 344-B & n = 25 & 11600 & 500 & Passed & n = 25 & 332.16 & 332.16 & 10.526 & Passed & n = 23\\\\\n",
       "\t 390   & n = 25 &   440 & 440 & Passed & n = 25 & 220.80 & 220.80 & 10.526 & Passed & n = 23\\\\\n",
       "\t 364   & n = 25 &   692 & 500 & Passed & n = 25 & 379.20 & 379.20 &  7.638 & Passed & n = 23\\\\\n",
       "\t 366   & n = 25 &  3260 & 500 & Passed & n = 25 & 295.68 & 295.68 &  7.638 & Passed & n = 23\\\\\n",
       "\t 372   & n = 25 &  7320 & 500 & Passed & n = 25 & 600.00 & 530.85 & 22.040 & Passed & n = 23\\\\\n",
       "\t 389   & n = 25 &  9220 & 500 & Passed & n = 25 & 523.20 & 469.15 & 22.040 & Passed & n = 23\\\\\n",
       "\t 400   & n = 25 & 11400 & 500 & Passed & n = 25 & 561.60 & 445.91 & 15.200 & Passed & n = 23\\\\\n",
       "\t 404-B & n = 25 &   390 & 390 & Passed & n = 25 & 532.80 & 532.80 & 15.200 & Passed & n = 23\\\\\n",
       "\t 361   & n = 25 & 33400 & 500 & Passed & n = 25 & 442.56 & 442.56 & 51.300 & Passed & n = 23\\\\\n",
       "\t 380   & n = 25 & 29400 & 500 & Passed & n = 25 & 391.68 & 391.68 & 51.300 & Passed & n = 23\\\\\n",
       "\\end{tabular}\n"
      ],
      "text/markdown": [
       "\n",
       "A data.frame: 25 x 11\n",
       "\n",
       "| sample_id &lt;chr&gt; | Shipped &lt;chr&gt; | DNAextracted &lt;dbl&gt; | DNAused &lt;dbl&gt; | librarypassed &lt;chr&gt; | Library &lt;chr&gt; | libraryyield &lt;dbl&gt; | DNAforcapture &lt;dbl&gt; | captureyield &lt;dbl&gt; | capturepassed &lt;chr&gt; | Capture &lt;chr&gt; |\n",
       "|---|---|---|---|---|---|---|---|---|---|---|\n",
       "| 343-B | n = 25 |  1060 | 500 | Passed | n = 25 | 258.24 | 258.24 | 10.070 | Passed | n = 23 |\n",
       "| 344-A | n = 25 |  9280 | 500 | Passed | n = 25 | 287.04 | 287.04 | 10.070 | Passed | n = 23 |\n",
       "| 419   | n = 25 |   248 | 248 | Passed | n = 25 | 237.12 | 237.12 | 10.070 | Passed | n = 23 |\n",
       "| 358   | n = 25 | 11900 | 500 | Passed | n = 25 | 638.40 | 617.26 | 83.220 | Passed | n = 23 |\n",
       "| 384   | n = 25 |  2460 | 500 | Passed | n = 25 | 363.84 | 363.84 | 83.220 | Passed | n = 23 |\n",
       "| 401   | n = 25 |  1740 | 500 | Passed | n = 25 | 705.60 | 449.48 | 10.108 | Passed | n = 23 |\n",
       "| 412   | n = 25 |  3060 | 500 | Passed | n = 25 | 787.20 | 550.52 | 10.108 | Passed | n = 23 |\n",
       "| 404-A | n = 25 |  1010 | 500 | Passed | n = 25 | 811.20 | 498.41 | 42.560 | Passed | n = 23 |\n",
       "| 418   | n = 25 |  3280 | 500 | Passed | n = 25 | 792.00 | 501.59 | 42.560 | Passed | n = 23 |\n",
       "| 370   | n = 25 |  2660 | 500 | Passed | n = 25 | 472.32 | 472.32 |  5.282 | Passed | n = 23 |\n",
       "| 394   | n = 25 | 12500 | 500 | Passed | n = 25 | 528.00 | 510.50 |  5.282 | Passed | n = 23 |\n",
       "| 348   | n = 25 |   736 | 500 | Passed | n = 25 | 414.72 | 414.72 |  6.764 | Passed | n = 23 |\n",
       "| 407   | n = 25 |  1160 | 500 | Passed | n = 25 | 595.20 | 568.80 |  6.764 | Passed | n = 23 |\n",
       "| 343-A | n = 25 |   630 | 500 | Passed | n = 25 | 166.08 | 166.08 |  5.776 | Failed | NA     |\n",
       "| 385   | n = 25 |   516 | 500 | Passed | n = 25 | 177.60 | 177.60 |  5.776 | Failed | NA     |\n",
       "| 344-B | n = 25 | 11600 | 500 | Passed | n = 25 | 332.16 | 332.16 | 10.526 | Passed | n = 23 |\n",
       "| 390   | n = 25 |   440 | 440 | Passed | n = 25 | 220.80 | 220.80 | 10.526 | Passed | n = 23 |\n",
       "| 364   | n = 25 |   692 | 500 | Passed | n = 25 | 379.20 | 379.20 |  7.638 | Passed | n = 23 |\n",
       "| 366   | n = 25 |  3260 | 500 | Passed | n = 25 | 295.68 | 295.68 |  7.638 | Passed | n = 23 |\n",
       "| 372   | n = 25 |  7320 | 500 | Passed | n = 25 | 600.00 | 530.85 | 22.040 | Passed | n = 23 |\n",
       "| 389   | n = 25 |  9220 | 500 | Passed | n = 25 | 523.20 | 469.15 | 22.040 | Passed | n = 23 |\n",
       "| 400   | n = 25 | 11400 | 500 | Passed | n = 25 | 561.60 | 445.91 | 15.200 | Passed | n = 23 |\n",
       "| 404-B | n = 25 |   390 | 390 | Passed | n = 25 | 532.80 | 532.80 | 15.200 | Passed | n = 23 |\n",
       "| 361   | n = 25 | 33400 | 500 | Passed | n = 25 | 442.56 | 442.56 | 51.300 | Passed | n = 23 |\n",
       "| 380   | n = 25 | 29400 | 500 | Passed | n = 25 | 391.68 | 391.68 | 51.300 | Passed | n = 23 |\n",
       "\n"
      ],
      "text/plain": [
       "   sample_id Shipped DNAextracted DNAused librarypassed Library libraryyield\n",
       "1  343-B     n = 25   1060        500     Passed        n = 25  258.24      \n",
       "2  344-A     n = 25   9280        500     Passed        n = 25  287.04      \n",
       "3  419       n = 25    248        248     Passed        n = 25  237.12      \n",
       "4  358       n = 25  11900        500     Passed        n = 25  638.40      \n",
       "5  384       n = 25   2460        500     Passed        n = 25  363.84      \n",
       "6  401       n = 25   1740        500     Passed        n = 25  705.60      \n",
       "7  412       n = 25   3060        500     Passed        n = 25  787.20      \n",
       "8  404-A     n = 25   1010        500     Passed        n = 25  811.20      \n",
       "9  418       n = 25   3280        500     Passed        n = 25  792.00      \n",
       "10 370       n = 25   2660        500     Passed        n = 25  472.32      \n",
       "11 394       n = 25  12500        500     Passed        n = 25  528.00      \n",
       "12 348       n = 25    736        500     Passed        n = 25  414.72      \n",
       "13 407       n = 25   1160        500     Passed        n = 25  595.20      \n",
       "14 343-A     n = 25    630        500     Passed        n = 25  166.08      \n",
       "15 385       n = 25    516        500     Passed        n = 25  177.60      \n",
       "16 344-B     n = 25  11600        500     Passed        n = 25  332.16      \n",
       "17 390       n = 25    440        440     Passed        n = 25  220.80      \n",
       "18 364       n = 25    692        500     Passed        n = 25  379.20      \n",
       "19 366       n = 25   3260        500     Passed        n = 25  295.68      \n",
       "20 372       n = 25   7320        500     Passed        n = 25  600.00      \n",
       "21 389       n = 25   9220        500     Passed        n = 25  523.20      \n",
       "22 400       n = 25  11400        500     Passed        n = 25  561.60      \n",
       "23 404-B     n = 25    390        390     Passed        n = 25  532.80      \n",
       "24 361       n = 25  33400        500     Passed        n = 25  442.56      \n",
       "25 380       n = 25  29400        500     Passed        n = 25  391.68      \n",
       "   DNAforcapture captureyield capturepassed Capture\n",
       "1  258.24        10.070       Passed        n = 23 \n",
       "2  287.04        10.070       Passed        n = 23 \n",
       "3  237.12        10.070       Passed        n = 23 \n",
       "4  617.26        83.220       Passed        n = 23 \n",
       "5  363.84        83.220       Passed        n = 23 \n",
       "6  449.48        10.108       Passed        n = 23 \n",
       "7  550.52        10.108       Passed        n = 23 \n",
       "8  498.41        42.560       Passed        n = 23 \n",
       "9  501.59        42.560       Passed        n = 23 \n",
       "10 472.32         5.282       Passed        n = 23 \n",
       "11 510.50         5.282       Passed        n = 23 \n",
       "12 414.72         6.764       Passed        n = 23 \n",
       "13 568.80         6.764       Passed        n = 23 \n",
       "14 166.08         5.776       Failed        NA     \n",
       "15 177.60         5.776       Failed        NA     \n",
       "16 332.16        10.526       Passed        n = 23 \n",
       "17 220.80        10.526       Passed        n = 23 \n",
       "18 379.20         7.638       Passed        n = 23 \n",
       "19 295.68         7.638       Passed        n = 23 \n",
       "20 530.85        22.040       Passed        n = 23 \n",
       "21 469.15        22.040       Passed        n = 23 \n",
       "22 445.91        15.200       Passed        n = 23 \n",
       "23 532.80        15.200       Passed        n = 23 \n",
       "24 442.56        51.300       Passed        n = 23 \n",
       "25 391.68        51.300       Passed        n = 23 "
      ]
     },
     "metadata": {},
     "output_type": "display_data"
    }
   ],
   "source": [
    "ffpe_samples"
   ]
  },
  {
   "cell_type": "code",
   "execution_count": 30,
   "metadata": {
    "vscode": {
     "languageId": "r"
    }
   },
   "outputs": [],
   "source": [
    "# whether submitted for deep seq\n",
    "ffpe_samples$deepseq <- NA\n",
    "ffpe_samples$deepseq <- trimws(ffpe$`Sent.for.Nextseq?`[ match(ffpe_samples$sample_id, ffpe$Pugh.Lab.ID)])\n",
    "ffpe_samples$deepseq[is.na(ffpe_samples$deepseq)] <- \"No\""
   ]
  },
  {
   "cell_type": "code",
   "execution_count": 31,
   "metadata": {
    "vscode": {
     "languageId": "r"
    }
   },
   "outputs": [
    {
     "data": {
      "text/html": [
       "21"
      ],
      "text/latex": [
       "21"
      ],
      "text/markdown": [
       "21"
      ],
      "text/plain": [
       "[1] 21"
      ]
     },
     "metadata": {},
     "output_type": "display_data"
    }
   ],
   "source": [
    "sum(ffpe_samples$deepseq == \"Yes\")"
   ]
  },
  {
   "cell_type": "code",
   "execution_count": 32,
   "metadata": {
    "vscode": {
     "languageId": "r"
    }
   },
   "outputs": [],
   "source": [
    "# number of deep sequencing samples\n",
    "ffpe_samples$Sequencing <- NA\n",
    "ffpe_samples$Sequencing[ ffpe_samples$deepseq == \"Yes\"] <- paste0(\"n = \", sum(ffpe_samples$deepseq == \"Yes\"))"
   ]
  },
  {
   "cell_type": "code",
   "execution_count": 33,
   "metadata": {
    "scrolled": true,
    "vscode": {
     "languageId": "r"
    }
   },
   "outputs": [],
   "source": [
    "#make a new sample id to match with divstats\n",
    "ffpe_samples$mysample_id <- paste0(\"CHP_\", ffpe_samples$sample_id, sep = \"\")\n",
    "ffpe_samples$mysample_id <- gsub(\"-\", \"_\", ffpe_samples$mysample_id)"
   ]
  },
  {
   "cell_type": "code",
   "execution_count": 34,
   "metadata": {
    "vscode": {
     "languageId": "r"
    }
   },
   "outputs": [],
   "source": [
    "# Samples included in tcr analysis\n",
    "ffpe_samples$TCR <- NA\n",
    "ffpe_samples$TCR[ ffpe_samples$mysample_id %in% divstats$sample_id] <- \"Yes\"\n",
    "ffpe_samples$TCR[ is.na(ffpe_samples$TCR)] <- \"No\""
   ]
  },
  {
   "cell_type": "code",
   "execution_count": 35,
   "metadata": {
    "vscode": {
     "languageId": "r"
    }
   },
   "outputs": [
    {
     "data": {
      "text/html": [
       "<table class=\"dataframe\">\n",
       "<caption>A data.frame: 25 x 15</caption>\n",
       "<thead>\n",
       "\t<tr><th scope=col>sample_id</th><th scope=col>Shipped</th><th scope=col>DNAextracted</th><th scope=col>DNAused</th><th scope=col>librarypassed</th><th scope=col>Library</th><th scope=col>libraryyield</th><th scope=col>DNAforcapture</th><th scope=col>captureyield</th><th scope=col>capturepassed</th><th scope=col>Capture</th><th scope=col>deepseq</th><th scope=col>Sequencing</th><th scope=col>mysample_id</th><th scope=col>TCR</th></tr>\n",
       "\t<tr><th scope=col>&lt;chr&gt;</th><th scope=col>&lt;chr&gt;</th><th scope=col>&lt;dbl&gt;</th><th scope=col>&lt;dbl&gt;</th><th scope=col>&lt;chr&gt;</th><th scope=col>&lt;chr&gt;</th><th scope=col>&lt;dbl&gt;</th><th scope=col>&lt;dbl&gt;</th><th scope=col>&lt;dbl&gt;</th><th scope=col>&lt;chr&gt;</th><th scope=col>&lt;chr&gt;</th><th scope=col>&lt;chr&gt;</th><th scope=col>&lt;chr&gt;</th><th scope=col>&lt;chr&gt;</th><th scope=col>&lt;chr&gt;</th></tr>\n",
       "</thead>\n",
       "<tbody>\n",
       "\t<tr><td>343-B</td><td>n = 25</td><td> 1060</td><td>500</td><td>Passed</td><td>n = 25</td><td>258.24</td><td>258.24</td><td>10.070</td><td>Passed</td><td>n = 23</td><td>Yes</td><td>n = 21</td><td>CHP_343_B</td><td>No </td></tr>\n",
       "\t<tr><td>344-A</td><td>n = 25</td><td> 9280</td><td>500</td><td>Passed</td><td>n = 25</td><td>287.04</td><td>287.04</td><td>10.070</td><td>Passed</td><td>n = 23</td><td>Yes</td><td>n = 21</td><td>CHP_344_A</td><td>Yes</td></tr>\n",
       "\t<tr><td>419  </td><td>n = 25</td><td>  248</td><td>248</td><td>Passed</td><td>n = 25</td><td>237.12</td><td>237.12</td><td>10.070</td><td>Passed</td><td>n = 23</td><td>Yes</td><td>n = 21</td><td>CHP_419  </td><td>Yes</td></tr>\n",
       "\t<tr><td>358  </td><td>n = 25</td><td>11900</td><td>500</td><td>Passed</td><td>n = 25</td><td>638.40</td><td>617.26</td><td>83.220</td><td>Passed</td><td>n = 23</td><td>No </td><td>NA    </td><td>CHP_358  </td><td>No </td></tr>\n",
       "\t<tr><td>384  </td><td>n = 25</td><td> 2460</td><td>500</td><td>Passed</td><td>n = 25</td><td>363.84</td><td>363.84</td><td>83.220</td><td>Passed</td><td>n = 23</td><td>No </td><td>NA    </td><td>CHP_384  </td><td>No </td></tr>\n",
       "\t<tr><td>401  </td><td>n = 25</td><td> 1740</td><td>500</td><td>Passed</td><td>n = 25</td><td>705.60</td><td>449.48</td><td>10.108</td><td>Passed</td><td>n = 23</td><td>Yes</td><td>n = 21</td><td>CHP_401  </td><td>Yes</td></tr>\n",
       "\t<tr><td>412  </td><td>n = 25</td><td> 3060</td><td>500</td><td>Passed</td><td>n = 25</td><td>787.20</td><td>550.52</td><td>10.108</td><td>Passed</td><td>n = 23</td><td>Yes</td><td>n = 21</td><td>CHP_412  </td><td>Yes</td></tr>\n",
       "\t<tr><td>404-A</td><td>n = 25</td><td> 1010</td><td>500</td><td>Passed</td><td>n = 25</td><td>811.20</td><td>498.41</td><td>42.560</td><td>Passed</td><td>n = 23</td><td>Yes</td><td>n = 21</td><td>CHP_404_A</td><td>Yes</td></tr>\n",
       "\t<tr><td>418  </td><td>n = 25</td><td> 3280</td><td>500</td><td>Passed</td><td>n = 25</td><td>792.00</td><td>501.59</td><td>42.560</td><td>Passed</td><td>n = 23</td><td>Yes</td><td>n = 21</td><td>CHP_418  </td><td>Yes</td></tr>\n",
       "\t<tr><td>370  </td><td>n = 25</td><td> 2660</td><td>500</td><td>Passed</td><td>n = 25</td><td>472.32</td><td>472.32</td><td> 5.282</td><td>Passed</td><td>n = 23</td><td>Yes</td><td>n = 21</td><td>CHP_370  </td><td>Yes</td></tr>\n",
       "\t<tr><td>394  </td><td>n = 25</td><td>12500</td><td>500</td><td>Passed</td><td>n = 25</td><td>528.00</td><td>510.50</td><td> 5.282</td><td>Passed</td><td>n = 23</td><td>Yes</td><td>n = 21</td><td>CHP_394  </td><td>Yes</td></tr>\n",
       "\t<tr><td>348  </td><td>n = 25</td><td>  736</td><td>500</td><td>Passed</td><td>n = 25</td><td>414.72</td><td>414.72</td><td> 6.764</td><td>Passed</td><td>n = 23</td><td>Yes</td><td>n = 21</td><td>CHP_348  </td><td>No </td></tr>\n",
       "\t<tr><td>407  </td><td>n = 25</td><td> 1160</td><td>500</td><td>Passed</td><td>n = 25</td><td>595.20</td><td>568.80</td><td> 6.764</td><td>Passed</td><td>n = 23</td><td>Yes</td><td>n = 21</td><td>CHP_407  </td><td>Yes</td></tr>\n",
       "\t<tr><td>343-A</td><td>n = 25</td><td>  630</td><td>500</td><td>Passed</td><td>n = 25</td><td>166.08</td><td>166.08</td><td> 5.776</td><td>Failed</td><td>NA    </td><td>No </td><td>NA    </td><td>CHP_343_A</td><td>No </td></tr>\n",
       "\t<tr><td>385  </td><td>n = 25</td><td>  516</td><td>500</td><td>Passed</td><td>n = 25</td><td>177.60</td><td>177.60</td><td> 5.776</td><td>Failed</td><td>NA    </td><td>No </td><td>NA    </td><td>CHP_385  </td><td>No </td></tr>\n",
       "\t<tr><td>344-B</td><td>n = 25</td><td>11600</td><td>500</td><td>Passed</td><td>n = 25</td><td>332.16</td><td>332.16</td><td>10.526</td><td>Passed</td><td>n = 23</td><td>Yes</td><td>n = 21</td><td>CHP_344_B</td><td>No </td></tr>\n",
       "\t<tr><td>390  </td><td>n = 25</td><td>  440</td><td>440</td><td>Passed</td><td>n = 25</td><td>220.80</td><td>220.80</td><td>10.526</td><td>Passed</td><td>n = 23</td><td>Yes</td><td>n = 21</td><td>CHP_390  </td><td>Yes</td></tr>\n",
       "\t<tr><td>364  </td><td>n = 25</td><td>  692</td><td>500</td><td>Passed</td><td>n = 25</td><td>379.20</td><td>379.20</td><td> 7.638</td><td>Passed</td><td>n = 23</td><td>Yes</td><td>n = 21</td><td>CHP_364  </td><td>Yes</td></tr>\n",
       "\t<tr><td>366  </td><td>n = 25</td><td> 3260</td><td>500</td><td>Passed</td><td>n = 25</td><td>295.68</td><td>295.68</td><td> 7.638</td><td>Passed</td><td>n = 23</td><td>Yes</td><td>n = 21</td><td>CHP_366  </td><td>Yes</td></tr>\n",
       "\t<tr><td>372  </td><td>n = 25</td><td> 7320</td><td>500</td><td>Passed</td><td>n = 25</td><td>600.00</td><td>530.85</td><td>22.040</td><td>Passed</td><td>n = 23</td><td>Yes</td><td>n = 21</td><td>CHP_372  </td><td>Yes</td></tr>\n",
       "\t<tr><td>389  </td><td>n = 25</td><td> 9220</td><td>500</td><td>Passed</td><td>n = 25</td><td>523.20</td><td>469.15</td><td>22.040</td><td>Passed</td><td>n = 23</td><td>Yes</td><td>n = 21</td><td>CHP_389  </td><td>Yes</td></tr>\n",
       "\t<tr><td>400  </td><td>n = 25</td><td>11400</td><td>500</td><td>Passed</td><td>n = 25</td><td>561.60</td><td>445.91</td><td>15.200</td><td>Passed</td><td>n = 23</td><td>Yes</td><td>n = 21</td><td>CHP_400  </td><td>Yes</td></tr>\n",
       "\t<tr><td>404-B</td><td>n = 25</td><td>  390</td><td>390</td><td>Passed</td><td>n = 25</td><td>532.80</td><td>532.80</td><td>15.200</td><td>Passed</td><td>n = 23</td><td>Yes</td><td>n = 21</td><td>CHP_404_B</td><td>Yes</td></tr>\n",
       "\t<tr><td>361  </td><td>n = 25</td><td>33400</td><td>500</td><td>Passed</td><td>n = 25</td><td>442.56</td><td>442.56</td><td>51.300</td><td>Passed</td><td>n = 23</td><td>Yes</td><td>n = 21</td><td>CHP_361  </td><td>Yes</td></tr>\n",
       "\t<tr><td>380  </td><td>n = 25</td><td>29400</td><td>500</td><td>Passed</td><td>n = 25</td><td>391.68</td><td>391.68</td><td>51.300</td><td>Passed</td><td>n = 23</td><td>Yes</td><td>n = 21</td><td>CHP_380  </td><td>Yes</td></tr>\n",
       "</tbody>\n",
       "</table>\n"
      ],
      "text/latex": [
       "A data.frame: 25 x 15\n",
       "\\begin{tabular}{lllllllllllllll}\n",
       " sample\\_id & Shipped & DNAextracted & DNAused & librarypassed & Library & libraryyield & DNAforcapture & captureyield & capturepassed & Capture & deepseq & Sequencing & mysample\\_id & TCR\\\\\n",
       " <chr> & <chr> & <dbl> & <dbl> & <chr> & <chr> & <dbl> & <dbl> & <dbl> & <chr> & <chr> & <chr> & <chr> & <chr> & <chr>\\\\\n",
       "\\hline\n",
       "\t 343-B & n = 25 &  1060 & 500 & Passed & n = 25 & 258.24 & 258.24 & 10.070 & Passed & n = 23 & Yes & n = 21 & CHP\\_343\\_B & No \\\\\n",
       "\t 344-A & n = 25 &  9280 & 500 & Passed & n = 25 & 287.04 & 287.04 & 10.070 & Passed & n = 23 & Yes & n = 21 & CHP\\_344\\_A & Yes\\\\\n",
       "\t 419   & n = 25 &   248 & 248 & Passed & n = 25 & 237.12 & 237.12 & 10.070 & Passed & n = 23 & Yes & n = 21 & CHP\\_419   & Yes\\\\\n",
       "\t 358   & n = 25 & 11900 & 500 & Passed & n = 25 & 638.40 & 617.26 & 83.220 & Passed & n = 23 & No  & NA     & CHP\\_358   & No \\\\\n",
       "\t 384   & n = 25 &  2460 & 500 & Passed & n = 25 & 363.84 & 363.84 & 83.220 & Passed & n = 23 & No  & NA     & CHP\\_384   & No \\\\\n",
       "\t 401   & n = 25 &  1740 & 500 & Passed & n = 25 & 705.60 & 449.48 & 10.108 & Passed & n = 23 & Yes & n = 21 & CHP\\_401   & Yes\\\\\n",
       "\t 412   & n = 25 &  3060 & 500 & Passed & n = 25 & 787.20 & 550.52 & 10.108 & Passed & n = 23 & Yes & n = 21 & CHP\\_412   & Yes\\\\\n",
       "\t 404-A & n = 25 &  1010 & 500 & Passed & n = 25 & 811.20 & 498.41 & 42.560 & Passed & n = 23 & Yes & n = 21 & CHP\\_404\\_A & Yes\\\\\n",
       "\t 418   & n = 25 &  3280 & 500 & Passed & n = 25 & 792.00 & 501.59 & 42.560 & Passed & n = 23 & Yes & n = 21 & CHP\\_418   & Yes\\\\\n",
       "\t 370   & n = 25 &  2660 & 500 & Passed & n = 25 & 472.32 & 472.32 &  5.282 & Passed & n = 23 & Yes & n = 21 & CHP\\_370   & Yes\\\\\n",
       "\t 394   & n = 25 & 12500 & 500 & Passed & n = 25 & 528.00 & 510.50 &  5.282 & Passed & n = 23 & Yes & n = 21 & CHP\\_394   & Yes\\\\\n",
       "\t 348   & n = 25 &   736 & 500 & Passed & n = 25 & 414.72 & 414.72 &  6.764 & Passed & n = 23 & Yes & n = 21 & CHP\\_348   & No \\\\\n",
       "\t 407   & n = 25 &  1160 & 500 & Passed & n = 25 & 595.20 & 568.80 &  6.764 & Passed & n = 23 & Yes & n = 21 & CHP\\_407   & Yes\\\\\n",
       "\t 343-A & n = 25 &   630 & 500 & Passed & n = 25 & 166.08 & 166.08 &  5.776 & Failed & NA     & No  & NA     & CHP\\_343\\_A & No \\\\\n",
       "\t 385   & n = 25 &   516 & 500 & Passed & n = 25 & 177.60 & 177.60 &  5.776 & Failed & NA     & No  & NA     & CHP\\_385   & No \\\\\n",
       "\t 344-B & n = 25 & 11600 & 500 & Passed & n = 25 & 332.16 & 332.16 & 10.526 & Passed & n = 23 & Yes & n = 21 & CHP\\_344\\_B & No \\\\\n",
       "\t 390   & n = 25 &   440 & 440 & Passed & n = 25 & 220.80 & 220.80 & 10.526 & Passed & n = 23 & Yes & n = 21 & CHP\\_390   & Yes\\\\\n",
       "\t 364   & n = 25 &   692 & 500 & Passed & n = 25 & 379.20 & 379.20 &  7.638 & Passed & n = 23 & Yes & n = 21 & CHP\\_364   & Yes\\\\\n",
       "\t 366   & n = 25 &  3260 & 500 & Passed & n = 25 & 295.68 & 295.68 &  7.638 & Passed & n = 23 & Yes & n = 21 & CHP\\_366   & Yes\\\\\n",
       "\t 372   & n = 25 &  7320 & 500 & Passed & n = 25 & 600.00 & 530.85 & 22.040 & Passed & n = 23 & Yes & n = 21 & CHP\\_372   & Yes\\\\\n",
       "\t 389   & n = 25 &  9220 & 500 & Passed & n = 25 & 523.20 & 469.15 & 22.040 & Passed & n = 23 & Yes & n = 21 & CHP\\_389   & Yes\\\\\n",
       "\t 400   & n = 25 & 11400 & 500 & Passed & n = 25 & 561.60 & 445.91 & 15.200 & Passed & n = 23 & Yes & n = 21 & CHP\\_400   & Yes\\\\\n",
       "\t 404-B & n = 25 &   390 & 390 & Passed & n = 25 & 532.80 & 532.80 & 15.200 & Passed & n = 23 & Yes & n = 21 & CHP\\_404\\_B & Yes\\\\\n",
       "\t 361   & n = 25 & 33400 & 500 & Passed & n = 25 & 442.56 & 442.56 & 51.300 & Passed & n = 23 & Yes & n = 21 & CHP\\_361   & Yes\\\\\n",
       "\t 380   & n = 25 & 29400 & 500 & Passed & n = 25 & 391.68 & 391.68 & 51.300 & Passed & n = 23 & Yes & n = 21 & CHP\\_380   & Yes\\\\\n",
       "\\end{tabular}\n"
      ],
      "text/markdown": [
       "\n",
       "A data.frame: 25 x 15\n",
       "\n",
       "| sample_id &lt;chr&gt; | Shipped &lt;chr&gt; | DNAextracted &lt;dbl&gt; | DNAused &lt;dbl&gt; | librarypassed &lt;chr&gt; | Library &lt;chr&gt; | libraryyield &lt;dbl&gt; | DNAforcapture &lt;dbl&gt; | captureyield &lt;dbl&gt; | capturepassed &lt;chr&gt; | Capture &lt;chr&gt; | deepseq &lt;chr&gt; | Sequencing &lt;chr&gt; | mysample_id &lt;chr&gt; | TCR &lt;chr&gt; |\n",
       "|---|---|---|---|---|---|---|---|---|---|---|---|---|---|---|\n",
       "| 343-B | n = 25 |  1060 | 500 | Passed | n = 25 | 258.24 | 258.24 | 10.070 | Passed | n = 23 | Yes | n = 21 | CHP_343_B | No  |\n",
       "| 344-A | n = 25 |  9280 | 500 | Passed | n = 25 | 287.04 | 287.04 | 10.070 | Passed | n = 23 | Yes | n = 21 | CHP_344_A | Yes |\n",
       "| 419   | n = 25 |   248 | 248 | Passed | n = 25 | 237.12 | 237.12 | 10.070 | Passed | n = 23 | Yes | n = 21 | CHP_419   | Yes |\n",
       "| 358   | n = 25 | 11900 | 500 | Passed | n = 25 | 638.40 | 617.26 | 83.220 | Passed | n = 23 | No  | NA     | CHP_358   | No  |\n",
       "| 384   | n = 25 |  2460 | 500 | Passed | n = 25 | 363.84 | 363.84 | 83.220 | Passed | n = 23 | No  | NA     | CHP_384   | No  |\n",
       "| 401   | n = 25 |  1740 | 500 | Passed | n = 25 | 705.60 | 449.48 | 10.108 | Passed | n = 23 | Yes | n = 21 | CHP_401   | Yes |\n",
       "| 412   | n = 25 |  3060 | 500 | Passed | n = 25 | 787.20 | 550.52 | 10.108 | Passed | n = 23 | Yes | n = 21 | CHP_412   | Yes |\n",
       "| 404-A | n = 25 |  1010 | 500 | Passed | n = 25 | 811.20 | 498.41 | 42.560 | Passed | n = 23 | Yes | n = 21 | CHP_404_A | Yes |\n",
       "| 418   | n = 25 |  3280 | 500 | Passed | n = 25 | 792.00 | 501.59 | 42.560 | Passed | n = 23 | Yes | n = 21 | CHP_418   | Yes |\n",
       "| 370   | n = 25 |  2660 | 500 | Passed | n = 25 | 472.32 | 472.32 |  5.282 | Passed | n = 23 | Yes | n = 21 | CHP_370   | Yes |\n",
       "| 394   | n = 25 | 12500 | 500 | Passed | n = 25 | 528.00 | 510.50 |  5.282 | Passed | n = 23 | Yes | n = 21 | CHP_394   | Yes |\n",
       "| 348   | n = 25 |   736 | 500 | Passed | n = 25 | 414.72 | 414.72 |  6.764 | Passed | n = 23 | Yes | n = 21 | CHP_348   | No  |\n",
       "| 407   | n = 25 |  1160 | 500 | Passed | n = 25 | 595.20 | 568.80 |  6.764 | Passed | n = 23 | Yes | n = 21 | CHP_407   | Yes |\n",
       "| 343-A | n = 25 |   630 | 500 | Passed | n = 25 | 166.08 | 166.08 |  5.776 | Failed | NA     | No  | NA     | CHP_343_A | No  |\n",
       "| 385   | n = 25 |   516 | 500 | Passed | n = 25 | 177.60 | 177.60 |  5.776 | Failed | NA     | No  | NA     | CHP_385   | No  |\n",
       "| 344-B | n = 25 | 11600 | 500 | Passed | n = 25 | 332.16 | 332.16 | 10.526 | Passed | n = 23 | Yes | n = 21 | CHP_344_B | No  |\n",
       "| 390   | n = 25 |   440 | 440 | Passed | n = 25 | 220.80 | 220.80 | 10.526 | Passed | n = 23 | Yes | n = 21 | CHP_390   | Yes |\n",
       "| 364   | n = 25 |   692 | 500 | Passed | n = 25 | 379.20 | 379.20 |  7.638 | Passed | n = 23 | Yes | n = 21 | CHP_364   | Yes |\n",
       "| 366   | n = 25 |  3260 | 500 | Passed | n = 25 | 295.68 | 295.68 |  7.638 | Passed | n = 23 | Yes | n = 21 | CHP_366   | Yes |\n",
       "| 372   | n = 25 |  7320 | 500 | Passed | n = 25 | 600.00 | 530.85 | 22.040 | Passed | n = 23 | Yes | n = 21 | CHP_372   | Yes |\n",
       "| 389   | n = 25 |  9220 | 500 | Passed | n = 25 | 523.20 | 469.15 | 22.040 | Passed | n = 23 | Yes | n = 21 | CHP_389   | Yes |\n",
       "| 400   | n = 25 | 11400 | 500 | Passed | n = 25 | 561.60 | 445.91 | 15.200 | Passed | n = 23 | Yes | n = 21 | CHP_400   | Yes |\n",
       "| 404-B | n = 25 |   390 | 390 | Passed | n = 25 | 532.80 | 532.80 | 15.200 | Passed | n = 23 | Yes | n = 21 | CHP_404_B | Yes |\n",
       "| 361   | n = 25 | 33400 | 500 | Passed | n = 25 | 442.56 | 442.56 | 51.300 | Passed | n = 23 | Yes | n = 21 | CHP_361   | Yes |\n",
       "| 380   | n = 25 | 29400 | 500 | Passed | n = 25 | 391.68 | 391.68 | 51.300 | Passed | n = 23 | Yes | n = 21 | CHP_380   | Yes |\n",
       "\n"
      ],
      "text/plain": [
       "   sample_id Shipped DNAextracted DNAused librarypassed Library libraryyield\n",
       "1  343-B     n = 25   1060        500     Passed        n = 25  258.24      \n",
       "2  344-A     n = 25   9280        500     Passed        n = 25  287.04      \n",
       "3  419       n = 25    248        248     Passed        n = 25  237.12      \n",
       "4  358       n = 25  11900        500     Passed        n = 25  638.40      \n",
       "5  384       n = 25   2460        500     Passed        n = 25  363.84      \n",
       "6  401       n = 25   1740        500     Passed        n = 25  705.60      \n",
       "7  412       n = 25   3060        500     Passed        n = 25  787.20      \n",
       "8  404-A     n = 25   1010        500     Passed        n = 25  811.20      \n",
       "9  418       n = 25   3280        500     Passed        n = 25  792.00      \n",
       "10 370       n = 25   2660        500     Passed        n = 25  472.32      \n",
       "11 394       n = 25  12500        500     Passed        n = 25  528.00      \n",
       "12 348       n = 25    736        500     Passed        n = 25  414.72      \n",
       "13 407       n = 25   1160        500     Passed        n = 25  595.20      \n",
       "14 343-A     n = 25    630        500     Passed        n = 25  166.08      \n",
       "15 385       n = 25    516        500     Passed        n = 25  177.60      \n",
       "16 344-B     n = 25  11600        500     Passed        n = 25  332.16      \n",
       "17 390       n = 25    440        440     Passed        n = 25  220.80      \n",
       "18 364       n = 25    692        500     Passed        n = 25  379.20      \n",
       "19 366       n = 25   3260        500     Passed        n = 25  295.68      \n",
       "20 372       n = 25   7320        500     Passed        n = 25  600.00      \n",
       "21 389       n = 25   9220        500     Passed        n = 25  523.20      \n",
       "22 400       n = 25  11400        500     Passed        n = 25  561.60      \n",
       "23 404-B     n = 25    390        390     Passed        n = 25  532.80      \n",
       "24 361       n = 25  33400        500     Passed        n = 25  442.56      \n",
       "25 380       n = 25  29400        500     Passed        n = 25  391.68      \n",
       "   DNAforcapture captureyield capturepassed Capture deepseq Sequencing\n",
       "1  258.24        10.070       Passed        n = 23  Yes     n = 21    \n",
       "2  287.04        10.070       Passed        n = 23  Yes     n = 21    \n",
       "3  237.12        10.070       Passed        n = 23  Yes     n = 21    \n",
       "4  617.26        83.220       Passed        n = 23  No      NA        \n",
       "5  363.84        83.220       Passed        n = 23  No      NA        \n",
       "6  449.48        10.108       Passed        n = 23  Yes     n = 21    \n",
       "7  550.52        10.108       Passed        n = 23  Yes     n = 21    \n",
       "8  498.41        42.560       Passed        n = 23  Yes     n = 21    \n",
       "9  501.59        42.560       Passed        n = 23  Yes     n = 21    \n",
       "10 472.32         5.282       Passed        n = 23  Yes     n = 21    \n",
       "11 510.50         5.282       Passed        n = 23  Yes     n = 21    \n",
       "12 414.72         6.764       Passed        n = 23  Yes     n = 21    \n",
       "13 568.80         6.764       Passed        n = 23  Yes     n = 21    \n",
       "14 166.08         5.776       Failed        NA      No      NA        \n",
       "15 177.60         5.776       Failed        NA      No      NA        \n",
       "16 332.16        10.526       Passed        n = 23  Yes     n = 21    \n",
       "17 220.80        10.526       Passed        n = 23  Yes     n = 21    \n",
       "18 379.20         7.638       Passed        n = 23  Yes     n = 21    \n",
       "19 295.68         7.638       Passed        n = 23  Yes     n = 21    \n",
       "20 530.85        22.040       Passed        n = 23  Yes     n = 21    \n",
       "21 469.15        22.040       Passed        n = 23  Yes     n = 21    \n",
       "22 445.91        15.200       Passed        n = 23  Yes     n = 21    \n",
       "23 532.80        15.200       Passed        n = 23  Yes     n = 21    \n",
       "24 442.56        51.300       Passed        n = 23  Yes     n = 21    \n",
       "25 391.68        51.300       Passed        n = 23  Yes     n = 21    \n",
       "   mysample_id TCR\n",
       "1  CHP_343_B   No \n",
       "2  CHP_344_A   Yes\n",
       "3  CHP_419     Yes\n",
       "4  CHP_358     No \n",
       "5  CHP_384     No \n",
       "6  CHP_401     Yes\n",
       "7  CHP_412     Yes\n",
       "8  CHP_404_A   Yes\n",
       "9  CHP_418     Yes\n",
       "10 CHP_370     Yes\n",
       "11 CHP_394     Yes\n",
       "12 CHP_348     No \n",
       "13 CHP_407     Yes\n",
       "14 CHP_343_A   No \n",
       "15 CHP_385     No \n",
       "16 CHP_344_B   No \n",
       "17 CHP_390     Yes\n",
       "18 CHP_364     Yes\n",
       "19 CHP_366     Yes\n",
       "20 CHP_372     Yes\n",
       "21 CHP_389     Yes\n",
       "22 CHP_400     Yes\n",
       "23 CHP_404_B   Yes\n",
       "24 CHP_361     Yes\n",
       "25 CHP_380     Yes"
      ]
     },
     "metadata": {},
     "output_type": "display_data"
    }
   ],
   "source": [
    "ffpe_samples"
   ]
  },
  {
   "cell_type": "code",
   "execution_count": 36,
   "metadata": {
    "vscode": {
     "languageId": "r"
    }
   },
   "outputs": [],
   "source": [
    "# Number of samples included in tcr analysis\n",
    "ffpe_samples$TCRanalysis <- NA\n",
    "ffpe_samples$TCRanalysis[ffpe_samples$TCR == \"Yes\"] <- paste0(\"n = \", sum(ffpe_samples$TCR == \"Yes\"))"
   ]
  },
  {
   "cell_type": "code",
   "execution_count": 37,
   "metadata": {
    "vscode": {
     "languageId": "r"
    }
   },
   "outputs": [
    {
     "data": {
      "text/html": [
       "<table class=\"dataframe\">\n",
       "<caption>A data.frame: 6 x 16</caption>\n",
       "<thead>\n",
       "\t<tr><th></th><th scope=col>sample_id</th><th scope=col>Shipped</th><th scope=col>DNAextracted</th><th scope=col>DNAused</th><th scope=col>librarypassed</th><th scope=col>Library</th><th scope=col>libraryyield</th><th scope=col>DNAforcapture</th><th scope=col>captureyield</th><th scope=col>capturepassed</th><th scope=col>Capture</th><th scope=col>deepseq</th><th scope=col>Sequencing</th><th scope=col>mysample_id</th><th scope=col>TCR</th><th scope=col>TCRanalysis</th></tr>\n",
       "\t<tr><th></th><th scope=col>&lt;chr&gt;</th><th scope=col>&lt;chr&gt;</th><th scope=col>&lt;dbl&gt;</th><th scope=col>&lt;dbl&gt;</th><th scope=col>&lt;chr&gt;</th><th scope=col>&lt;chr&gt;</th><th scope=col>&lt;dbl&gt;</th><th scope=col>&lt;dbl&gt;</th><th scope=col>&lt;dbl&gt;</th><th scope=col>&lt;chr&gt;</th><th scope=col>&lt;chr&gt;</th><th scope=col>&lt;chr&gt;</th><th scope=col>&lt;chr&gt;</th><th scope=col>&lt;chr&gt;</th><th scope=col>&lt;chr&gt;</th><th scope=col>&lt;chr&gt;</th></tr>\n",
       "</thead>\n",
       "<tbody>\n",
       "\t<tr><th scope=row>1</th><td>343-B</td><td>n = 25</td><td> 1060</td><td>500</td><td>Passed</td><td>n = 25</td><td>258.24</td><td>258.24</td><td>10.070</td><td>Passed</td><td>n = 23</td><td>Yes</td><td>n = 21</td><td>CHP_343_B</td><td>No </td><td>NA    </td></tr>\n",
       "\t<tr><th scope=row>2</th><td>344-A</td><td>n = 25</td><td> 9280</td><td>500</td><td>Passed</td><td>n = 25</td><td>287.04</td><td>287.04</td><td>10.070</td><td>Passed</td><td>n = 23</td><td>Yes</td><td>n = 21</td><td>CHP_344_A</td><td>Yes</td><td>n = 18</td></tr>\n",
       "\t<tr><th scope=row>3</th><td>419  </td><td>n = 25</td><td>  248</td><td>248</td><td>Passed</td><td>n = 25</td><td>237.12</td><td>237.12</td><td>10.070</td><td>Passed</td><td>n = 23</td><td>Yes</td><td>n = 21</td><td>CHP_419  </td><td>Yes</td><td>n = 18</td></tr>\n",
       "\t<tr><th scope=row>4</th><td>358  </td><td>n = 25</td><td>11900</td><td>500</td><td>Passed</td><td>n = 25</td><td>638.40</td><td>617.26</td><td>83.220</td><td>Passed</td><td>n = 23</td><td>No </td><td>NA    </td><td>CHP_358  </td><td>No </td><td>NA    </td></tr>\n",
       "\t<tr><th scope=row>5</th><td>384  </td><td>n = 25</td><td> 2460</td><td>500</td><td>Passed</td><td>n = 25</td><td>363.84</td><td>363.84</td><td>83.220</td><td>Passed</td><td>n = 23</td><td>No </td><td>NA    </td><td>CHP_384  </td><td>No </td><td>NA    </td></tr>\n",
       "\t<tr><th scope=row>6</th><td>401  </td><td>n = 25</td><td> 1740</td><td>500</td><td>Passed</td><td>n = 25</td><td>705.60</td><td>449.48</td><td>10.108</td><td>Passed</td><td>n = 23</td><td>Yes</td><td>n = 21</td><td>CHP_401  </td><td>Yes</td><td>n = 18</td></tr>\n",
       "</tbody>\n",
       "</table>\n"
      ],
      "text/latex": [
       "A data.frame: 6 x 16\n",
       "\\begin{tabular}{r|llllllllllllllll}\n",
       "  & sample\\_id & Shipped & DNAextracted & DNAused & librarypassed & Library & libraryyield & DNAforcapture & captureyield & capturepassed & Capture & deepseq & Sequencing & mysample\\_id & TCR & TCRanalysis\\\\\n",
       "  & <chr> & <chr> & <dbl> & <dbl> & <chr> & <chr> & <dbl> & <dbl> & <dbl> & <chr> & <chr> & <chr> & <chr> & <chr> & <chr> & <chr>\\\\\n",
       "\\hline\n",
       "\t1 & 343-B & n = 25 &  1060 & 500 & Passed & n = 25 & 258.24 & 258.24 & 10.070 & Passed & n = 23 & Yes & n = 21 & CHP\\_343\\_B & No  & NA    \\\\\n",
       "\t2 & 344-A & n = 25 &  9280 & 500 & Passed & n = 25 & 287.04 & 287.04 & 10.070 & Passed & n = 23 & Yes & n = 21 & CHP\\_344\\_A & Yes & n = 18\\\\\n",
       "\t3 & 419   & n = 25 &   248 & 248 & Passed & n = 25 & 237.12 & 237.12 & 10.070 & Passed & n = 23 & Yes & n = 21 & CHP\\_419   & Yes & n = 18\\\\\n",
       "\t4 & 358   & n = 25 & 11900 & 500 & Passed & n = 25 & 638.40 & 617.26 & 83.220 & Passed & n = 23 & No  & NA     & CHP\\_358   & No  & NA    \\\\\n",
       "\t5 & 384   & n = 25 &  2460 & 500 & Passed & n = 25 & 363.84 & 363.84 & 83.220 & Passed & n = 23 & No  & NA     & CHP\\_384   & No  & NA    \\\\\n",
       "\t6 & 401   & n = 25 &  1740 & 500 & Passed & n = 25 & 705.60 & 449.48 & 10.108 & Passed & n = 23 & Yes & n = 21 & CHP\\_401   & Yes & n = 18\\\\\n",
       "\\end{tabular}\n"
      ],
      "text/markdown": [
       "\n",
       "A data.frame: 6 x 16\n",
       "\n",
       "| <!--/--> | sample_id &lt;chr&gt; | Shipped &lt;chr&gt; | DNAextracted &lt;dbl&gt; | DNAused &lt;dbl&gt; | librarypassed &lt;chr&gt; | Library &lt;chr&gt; | libraryyield &lt;dbl&gt; | DNAforcapture &lt;dbl&gt; | captureyield &lt;dbl&gt; | capturepassed &lt;chr&gt; | Capture &lt;chr&gt; | deepseq &lt;chr&gt; | Sequencing &lt;chr&gt; | mysample_id &lt;chr&gt; | TCR &lt;chr&gt; | TCRanalysis &lt;chr&gt; |\n",
       "|---|---|---|---|---|---|---|---|---|---|---|---|---|---|---|---|---|\n",
       "| 1 | 343-B | n = 25 |  1060 | 500 | Passed | n = 25 | 258.24 | 258.24 | 10.070 | Passed | n = 23 | Yes | n = 21 | CHP_343_B | No  | NA     |\n",
       "| 2 | 344-A | n = 25 |  9280 | 500 | Passed | n = 25 | 287.04 | 287.04 | 10.070 | Passed | n = 23 | Yes | n = 21 | CHP_344_A | Yes | n = 18 |\n",
       "| 3 | 419   | n = 25 |   248 | 248 | Passed | n = 25 | 237.12 | 237.12 | 10.070 | Passed | n = 23 | Yes | n = 21 | CHP_419   | Yes | n = 18 |\n",
       "| 4 | 358   | n = 25 | 11900 | 500 | Passed | n = 25 | 638.40 | 617.26 | 83.220 | Passed | n = 23 | No  | NA     | CHP_358   | No  | NA     |\n",
       "| 5 | 384   | n = 25 |  2460 | 500 | Passed | n = 25 | 363.84 | 363.84 | 83.220 | Passed | n = 23 | No  | NA     | CHP_384   | No  | NA     |\n",
       "| 6 | 401   | n = 25 |  1740 | 500 | Passed | n = 25 | 705.60 | 449.48 | 10.108 | Passed | n = 23 | Yes | n = 21 | CHP_401   | Yes | n = 18 |\n",
       "\n"
      ],
      "text/plain": [
       "  sample_id Shipped DNAextracted DNAused librarypassed Library libraryyield\n",
       "1 343-B     n = 25   1060        500     Passed        n = 25  258.24      \n",
       "2 344-A     n = 25   9280        500     Passed        n = 25  287.04      \n",
       "3 419       n = 25    248        248     Passed        n = 25  237.12      \n",
       "4 358       n = 25  11900        500     Passed        n = 25  638.40      \n",
       "5 384       n = 25   2460        500     Passed        n = 25  363.84      \n",
       "6 401       n = 25   1740        500     Passed        n = 25  705.60      \n",
       "  DNAforcapture captureyield capturepassed Capture deepseq Sequencing\n",
       "1 258.24        10.070       Passed        n = 23  Yes     n = 21    \n",
       "2 287.04        10.070       Passed        n = 23  Yes     n = 21    \n",
       "3 237.12        10.070       Passed        n = 23  Yes     n = 21    \n",
       "4 617.26        83.220       Passed        n = 23  No      NA        \n",
       "5 363.84        83.220       Passed        n = 23  No      NA        \n",
       "6 449.48        10.108       Passed        n = 23  Yes     n = 21    \n",
       "  mysample_id TCR TCRanalysis\n",
       "1 CHP_343_B   No  NA         \n",
       "2 CHP_344_A   Yes n = 18     \n",
       "3 CHP_419     Yes n = 18     \n",
       "4 CHP_358     No  NA         \n",
       "5 CHP_384     No  NA         \n",
       "6 CHP_401     Yes n = 18     "
      ]
     },
     "metadata": {},
     "output_type": "display_data"
    }
   ],
   "source": [
    "head(ffpe_samples)"
   ]
  },
  {
   "cell_type": "code",
   "execution_count": 38,
   "metadata": {
    "vscode": {
     "languageId": "r"
    }
   },
   "outputs": [],
   "source": [
    "# Number of failed captures\n",
    "capturefailed <- sum(ffpe_samples$capturepassed == \"Failed\")\n",
    "ffpe_samples$Capture[ffpe_samples$capturepassed == \"Failed\"] <- paste0(\"n = \", capturefailed)"
   ]
  },
  {
   "cell_type": "code",
   "execution_count": 39,
   "metadata": {
    "vscode": {
     "languageId": "r"
    }
   },
   "outputs": [],
   "source": [
    "# Number of samples not deep seq'd\n",
    "seqfailed <- sum(ffpe_samples$deepseq == \"No\" & ffpe_samples$capturepassed == \"Passed\")\n",
    "ffpe_samples$Sequencing[is.na(ffpe_samples$Sequencing)& \n",
    "                        ffpe_samples$capturepassed == \"Passed\"] <- paste0(\"n = \", seqfailed)"
   ]
  },
  {
   "cell_type": "code",
   "execution_count": 40,
   "metadata": {
    "vscode": {
     "languageId": "r"
    }
   },
   "outputs": [],
   "source": [
    "# Number of samples not included in TCR analysis\n",
    "tcrfailed <- sum(ffpe_samples$TCR == \"No\" & \n",
    "                 ffpe_samples$deepseq == \"Yes\" &\n",
    "                 ffpe_samples$capturepassed == \"Passed\")\n",
    "\n",
    "ffpe_samples$TCRanalysis[ffpe_samples$TCR == \"No\" & \n",
    "                         ffpe_samples$deepseq == \"Yes\" &\n",
    "                         ffpe_samples$capturepassed == \"Passed\"] <- paste0(\"n = \", tcrfailed)"
   ]
  },
  {
   "cell_type": "code",
   "execution_count": 41,
   "metadata": {
    "vscode": {
     "languageId": "r"
    }
   },
   "outputs": [],
   "source": [
    "# Create a patient ID\n",
    "ffpe_samples$Patient <- gsub(\"_A\", \"\", ffpe_samples$mysample_id)\n",
    "ffpe_samples$Patient <- gsub(\"_B\", \"\", ffpe_samples$Patient)"
   ]
  },
  {
   "cell_type": "code",
   "execution_count": 42,
   "metadata": {
    "vscode": {
     "languageId": "r"
    }
   },
   "outputs": [],
   "source": [
    "# add tumour type\n",
    "ffpe_samples$Tumor <- NA\n",
    "ffpe_samples$Tumor <- metadata$Disease_type[match(ffpe_samples$Patient, metadata$Patient)]"
   ]
  },
  {
   "cell_type": "code",
   "execution_count": 43,
   "metadata": {
    "vscode": {
     "languageId": "r"
    }
   },
   "outputs": [],
   "source": [
    "# add tumour group\n",
    "ffpe_samples$Group <- NA\n",
    "ffpe_samples$Group <- metadata$group[match(ffpe_samples$Patient, metadata$Patient)]"
   ]
  },
  {
   "cell_type": "code",
   "execution_count": 44,
   "metadata": {
    "vscode": {
     "languageId": "r"
    }
   },
   "outputs": [],
   "source": [
    "#remove tumor and group for samples not included in TCR analysis\n",
    "ffpe_samples$Group[ ffpe_samples$TCR == \"No\"] <- NA\n",
    "ffpe_samples$Tumor[ ffpe_samples$TCR == \"No\"] <- NA"
   ]
  },
  {
   "cell_type": "code",
   "execution_count": 45,
   "metadata": {
    "scrolled": true,
    "vscode": {
     "languageId": "r"
    }
   },
   "outputs": [
    {
     "data": {
      "text/html": [
       "<table class=\"dataframe\">\n",
       "<caption>A data.frame: 25 x 19</caption>\n",
       "<thead>\n",
       "\t<tr><th scope=col>sample_id</th><th scope=col>Shipped</th><th scope=col>DNAextracted</th><th scope=col>DNAused</th><th scope=col>librarypassed</th><th scope=col>Library</th><th scope=col>libraryyield</th><th scope=col>DNAforcapture</th><th scope=col>captureyield</th><th scope=col>capturepassed</th><th scope=col>Capture</th><th scope=col>deepseq</th><th scope=col>Sequencing</th><th scope=col>mysample_id</th><th scope=col>TCR</th><th scope=col>TCRanalysis</th><th scope=col>Patient</th><th scope=col>Tumor</th><th scope=col>Group</th></tr>\n",
       "\t<tr><th scope=col>&lt;chr&gt;</th><th scope=col>&lt;chr&gt;</th><th scope=col>&lt;dbl&gt;</th><th scope=col>&lt;dbl&gt;</th><th scope=col>&lt;chr&gt;</th><th scope=col>&lt;chr&gt;</th><th scope=col>&lt;dbl&gt;</th><th scope=col>&lt;dbl&gt;</th><th scope=col>&lt;dbl&gt;</th><th scope=col>&lt;chr&gt;</th><th scope=col>&lt;chr&gt;</th><th scope=col>&lt;chr&gt;</th><th scope=col>&lt;chr&gt;</th><th scope=col>&lt;chr&gt;</th><th scope=col>&lt;chr&gt;</th><th scope=col>&lt;chr&gt;</th><th scope=col>&lt;chr&gt;</th><th scope=col>&lt;chr&gt;</th><th scope=col>&lt;lgl&gt;</th></tr>\n",
       "</thead>\n",
       "<tbody>\n",
       "\t<tr><td>343-B</td><td>n = 25</td><td> 1060</td><td>500</td><td>Passed</td><td>n = 25</td><td>258.24</td><td>258.24</td><td>10.070</td><td>Passed</td><td>n = 23</td><td>Yes</td><td>n = 21</td><td>CHP_343_B</td><td>No </td><td>n = 3 </td><td>CHP_343</td><td>NA   </td><td>NA</td></tr>\n",
       "\t<tr><td>344-A</td><td>n = 25</td><td> 9280</td><td>500</td><td>Passed</td><td>n = 25</td><td>287.04</td><td>287.04</td><td>10.070</td><td>Passed</td><td>n = 23</td><td>Yes</td><td>n = 21</td><td>CHP_344_A</td><td>Yes</td><td>n = 18</td><td>CHP_344</td><td>BL   </td><td>NA</td></tr>\n",
       "\t<tr><td>419  </td><td>n = 25</td><td>  248</td><td>248</td><td>Passed</td><td>n = 25</td><td>237.12</td><td>237.12</td><td>10.070</td><td>Passed</td><td>n = 23</td><td>Yes</td><td>n = 21</td><td>CHP_419  </td><td>Yes</td><td>n = 18</td><td>CHP_419</td><td>OS   </td><td>NA</td></tr>\n",
       "\t<tr><td>358  </td><td>n = 25</td><td>11900</td><td>500</td><td>Passed</td><td>n = 25</td><td>638.40</td><td>617.26</td><td>83.220</td><td>Passed</td><td>n = 23</td><td>No </td><td>n = 2 </td><td>CHP_358  </td><td>No </td><td>NA    </td><td>CHP_358</td><td>NA   </td><td>NA</td></tr>\n",
       "\t<tr><td>384  </td><td>n = 25</td><td> 2460</td><td>500</td><td>Passed</td><td>n = 25</td><td>363.84</td><td>363.84</td><td>83.220</td><td>Passed</td><td>n = 23</td><td>No </td><td>n = 2 </td><td>CHP_384  </td><td>No </td><td>NA    </td><td>CHP_384</td><td>NA   </td><td>NA</td></tr>\n",
       "\t<tr><td>401  </td><td>n = 25</td><td> 1740</td><td>500</td><td>Passed</td><td>n = 25</td><td>705.60</td><td>449.48</td><td>10.108</td><td>Passed</td><td>n = 23</td><td>Yes</td><td>n = 21</td><td>CHP_401  </td><td>Yes</td><td>n = 18</td><td>CHP_401</td><td>ERMS </td><td>NA</td></tr>\n",
       "\t<tr><td>412  </td><td>n = 25</td><td> 3060</td><td>500</td><td>Passed</td><td>n = 25</td><td>787.20</td><td>550.52</td><td>10.108</td><td>Passed</td><td>n = 23</td><td>Yes</td><td>n = 21</td><td>CHP_412  </td><td>Yes</td><td>n = 18</td><td>CHP_412</td><td>BLL  </td><td>NA</td></tr>\n",
       "\t<tr><td>404-A</td><td>n = 25</td><td> 1010</td><td>500</td><td>Passed</td><td>n = 25</td><td>811.20</td><td>498.41</td><td>42.560</td><td>Passed</td><td>n = 23</td><td>Yes</td><td>n = 21</td><td>CHP_404_A</td><td>Yes</td><td>n = 18</td><td>CHP_404</td><td>ERMS </td><td>NA</td></tr>\n",
       "\t<tr><td>418  </td><td>n = 25</td><td> 3280</td><td>500</td><td>Passed</td><td>n = 25</td><td>792.00</td><td>501.59</td><td>42.560</td><td>Passed</td><td>n = 23</td><td>Yes</td><td>n = 21</td><td>CHP_418  </td><td>Yes</td><td>n = 18</td><td>CHP_418</td><td>NB   </td><td>NA</td></tr>\n",
       "\t<tr><td>370  </td><td>n = 25</td><td> 2660</td><td>500</td><td>Passed</td><td>n = 25</td><td>472.32</td><td>472.32</td><td> 5.282</td><td>Passed</td><td>n = 23</td><td>Yes</td><td>n = 21</td><td>CHP_370  </td><td>Yes</td><td>n = 18</td><td>CHP_370</td><td>ALCL </td><td>NA</td></tr>\n",
       "\t<tr><td>394  </td><td>n = 25</td><td>12500</td><td>500</td><td>Passed</td><td>n = 25</td><td>528.00</td><td>510.50</td><td> 5.282</td><td>Passed</td><td>n = 23</td><td>Yes</td><td>n = 21</td><td>CHP_394  </td><td>Yes</td><td>n = 18</td><td>CHP_394</td><td>ERMS </td><td>NA</td></tr>\n",
       "\t<tr><td>348  </td><td>n = 25</td><td>  736</td><td>500</td><td>Passed</td><td>n = 25</td><td>414.72</td><td>414.72</td><td> 6.764</td><td>Passed</td><td>n = 23</td><td>Yes</td><td>n = 21</td><td>CHP_348  </td><td>No </td><td>n = 3 </td><td>CHP_348</td><td>NA   </td><td>NA</td></tr>\n",
       "\t<tr><td>407  </td><td>n = 25</td><td> 1160</td><td>500</td><td>Passed</td><td>n = 25</td><td>595.20</td><td>568.80</td><td> 6.764</td><td>Passed</td><td>n = 23</td><td>Yes</td><td>n = 21</td><td>CHP_407  </td><td>Yes</td><td>n = 18</td><td>CHP_407</td><td>DLBCL</td><td>NA</td></tr>\n",
       "\t<tr><td>343-A</td><td>n = 25</td><td>  630</td><td>500</td><td>Passed</td><td>n = 25</td><td>166.08</td><td>166.08</td><td> 5.776</td><td>Failed</td><td>n = 2 </td><td>No </td><td>NA    </td><td>CHP_343_A</td><td>No </td><td>NA    </td><td>CHP_343</td><td>NA   </td><td>NA</td></tr>\n",
       "\t<tr><td>385  </td><td>n = 25</td><td>  516</td><td>500</td><td>Passed</td><td>n = 25</td><td>177.60</td><td>177.60</td><td> 5.776</td><td>Failed</td><td>n = 2 </td><td>No </td><td>NA    </td><td>CHP_385  </td><td>No </td><td>NA    </td><td>CHP_385</td><td>NA   </td><td>NA</td></tr>\n",
       "\t<tr><td>344-B</td><td>n = 25</td><td>11600</td><td>500</td><td>Passed</td><td>n = 25</td><td>332.16</td><td>332.16</td><td>10.526</td><td>Passed</td><td>n = 23</td><td>Yes</td><td>n = 21</td><td>CHP_344_B</td><td>No </td><td>n = 3 </td><td>CHP_344</td><td>NA   </td><td>NA</td></tr>\n",
       "\t<tr><td>390  </td><td>n = 25</td><td>  440</td><td>440</td><td>Passed</td><td>n = 25</td><td>220.80</td><td>220.80</td><td>10.526</td><td>Passed</td><td>n = 23</td><td>Yes</td><td>n = 21</td><td>CHP_390  </td><td>Yes</td><td>n = 18</td><td>CHP_390</td><td>OS   </td><td>NA</td></tr>\n",
       "\t<tr><td>364  </td><td>n = 25</td><td>  692</td><td>500</td><td>Passed</td><td>n = 25</td><td>379.20</td><td>379.20</td><td> 7.638</td><td>Passed</td><td>n = 23</td><td>Yes</td><td>n = 21</td><td>CHP_364  </td><td>Yes</td><td>n = 18</td><td>CHP_364</td><td>OS   </td><td>NA</td></tr>\n",
       "\t<tr><td>366  </td><td>n = 25</td><td> 3260</td><td>500</td><td>Passed</td><td>n = 25</td><td>295.68</td><td>295.68</td><td> 7.638</td><td>Passed</td><td>n = 23</td><td>Yes</td><td>n = 21</td><td>CHP_366  </td><td>Yes</td><td>n = 18</td><td>CHP_366</td><td>HD   </td><td>NA</td></tr>\n",
       "\t<tr><td>372  </td><td>n = 25</td><td> 7320</td><td>500</td><td>Passed</td><td>n = 25</td><td>600.00</td><td>530.85</td><td>22.040</td><td>Passed</td><td>n = 23</td><td>Yes</td><td>n = 21</td><td>CHP_372  </td><td>Yes</td><td>n = 18</td><td>CHP_372</td><td>BL   </td><td>NA</td></tr>\n",
       "\t<tr><td>389  </td><td>n = 25</td><td> 9220</td><td>500</td><td>Passed</td><td>n = 25</td><td>523.20</td><td>469.15</td><td>22.040</td><td>Passed</td><td>n = 23</td><td>Yes</td><td>n = 21</td><td>CHP_389  </td><td>Yes</td><td>n = 18</td><td>CHP_389</td><td>HD   </td><td>NA</td></tr>\n",
       "\t<tr><td>400  </td><td>n = 25</td><td>11400</td><td>500</td><td>Passed</td><td>n = 25</td><td>561.60</td><td>445.91</td><td>15.200</td><td>Passed</td><td>n = 23</td><td>Yes</td><td>n = 21</td><td>CHP_400  </td><td>Yes</td><td>n = 18</td><td>CHP_400</td><td>PMBCL</td><td>NA</td></tr>\n",
       "\t<tr><td>404-B</td><td>n = 25</td><td>  390</td><td>390</td><td>Passed</td><td>n = 25</td><td>532.80</td><td>532.80</td><td>15.200</td><td>Passed</td><td>n = 23</td><td>Yes</td><td>n = 21</td><td>CHP_404_B</td><td>Yes</td><td>n = 18</td><td>CHP_404</td><td>ERMS </td><td>NA</td></tr>\n",
       "\t<tr><td>361  </td><td>n = 25</td><td>33400</td><td>500</td><td>Passed</td><td>n = 25</td><td>442.56</td><td>442.56</td><td>51.300</td><td>Passed</td><td>n = 23</td><td>Yes</td><td>n = 21</td><td>CHP_361  </td><td>Yes</td><td>n = 18</td><td>CHP_361</td><td>HD   </td><td>NA</td></tr>\n",
       "\t<tr><td>380  </td><td>n = 25</td><td>29400</td><td>500</td><td>Passed</td><td>n = 25</td><td>391.68</td><td>391.68</td><td>51.300</td><td>Passed</td><td>n = 23</td><td>Yes</td><td>n = 21</td><td>CHP_380  </td><td>Yes</td><td>n = 18</td><td>CHP_380</td><td>HD   </td><td>NA</td></tr>\n",
       "</tbody>\n",
       "</table>\n"
      ],
      "text/latex": [
       "A data.frame: 25 x 19\n",
       "\\begin{tabular}{lllllllllllllllllll}\n",
       " sample\\_id & Shipped & DNAextracted & DNAused & librarypassed & Library & libraryyield & DNAforcapture & captureyield & capturepassed & Capture & deepseq & Sequencing & mysample\\_id & TCR & TCRanalysis & Patient & Tumor & Group\\\\\n",
       " <chr> & <chr> & <dbl> & <dbl> & <chr> & <chr> & <dbl> & <dbl> & <dbl> & <chr> & <chr> & <chr> & <chr> & <chr> & <chr> & <chr> & <chr> & <chr> & <lgl>\\\\\n",
       "\\hline\n",
       "\t 343-B & n = 25 &  1060 & 500 & Passed & n = 25 & 258.24 & 258.24 & 10.070 & Passed & n = 23 & Yes & n = 21 & CHP\\_343\\_B & No  & n = 3  & CHP\\_343 & NA    & NA\\\\\n",
       "\t 344-A & n = 25 &  9280 & 500 & Passed & n = 25 & 287.04 & 287.04 & 10.070 & Passed & n = 23 & Yes & n = 21 & CHP\\_344\\_A & Yes & n = 18 & CHP\\_344 & BL    & NA\\\\\n",
       "\t 419   & n = 25 &   248 & 248 & Passed & n = 25 & 237.12 & 237.12 & 10.070 & Passed & n = 23 & Yes & n = 21 & CHP\\_419   & Yes & n = 18 & CHP\\_419 & OS    & NA\\\\\n",
       "\t 358   & n = 25 & 11900 & 500 & Passed & n = 25 & 638.40 & 617.26 & 83.220 & Passed & n = 23 & No  & n = 2  & CHP\\_358   & No  & NA     & CHP\\_358 & NA    & NA\\\\\n",
       "\t 384   & n = 25 &  2460 & 500 & Passed & n = 25 & 363.84 & 363.84 & 83.220 & Passed & n = 23 & No  & n = 2  & CHP\\_384   & No  & NA     & CHP\\_384 & NA    & NA\\\\\n",
       "\t 401   & n = 25 &  1740 & 500 & Passed & n = 25 & 705.60 & 449.48 & 10.108 & Passed & n = 23 & Yes & n = 21 & CHP\\_401   & Yes & n = 18 & CHP\\_401 & ERMS  & NA\\\\\n",
       "\t 412   & n = 25 &  3060 & 500 & Passed & n = 25 & 787.20 & 550.52 & 10.108 & Passed & n = 23 & Yes & n = 21 & CHP\\_412   & Yes & n = 18 & CHP\\_412 & BLL   & NA\\\\\n",
       "\t 404-A & n = 25 &  1010 & 500 & Passed & n = 25 & 811.20 & 498.41 & 42.560 & Passed & n = 23 & Yes & n = 21 & CHP\\_404\\_A & Yes & n = 18 & CHP\\_404 & ERMS  & NA\\\\\n",
       "\t 418   & n = 25 &  3280 & 500 & Passed & n = 25 & 792.00 & 501.59 & 42.560 & Passed & n = 23 & Yes & n = 21 & CHP\\_418   & Yes & n = 18 & CHP\\_418 & NB    & NA\\\\\n",
       "\t 370   & n = 25 &  2660 & 500 & Passed & n = 25 & 472.32 & 472.32 &  5.282 & Passed & n = 23 & Yes & n = 21 & CHP\\_370   & Yes & n = 18 & CHP\\_370 & ALCL  & NA\\\\\n",
       "\t 394   & n = 25 & 12500 & 500 & Passed & n = 25 & 528.00 & 510.50 &  5.282 & Passed & n = 23 & Yes & n = 21 & CHP\\_394   & Yes & n = 18 & CHP\\_394 & ERMS  & NA\\\\\n",
       "\t 348   & n = 25 &   736 & 500 & Passed & n = 25 & 414.72 & 414.72 &  6.764 & Passed & n = 23 & Yes & n = 21 & CHP\\_348   & No  & n = 3  & CHP\\_348 & NA    & NA\\\\\n",
       "\t 407   & n = 25 &  1160 & 500 & Passed & n = 25 & 595.20 & 568.80 &  6.764 & Passed & n = 23 & Yes & n = 21 & CHP\\_407   & Yes & n = 18 & CHP\\_407 & DLBCL & NA\\\\\n",
       "\t 343-A & n = 25 &   630 & 500 & Passed & n = 25 & 166.08 & 166.08 &  5.776 & Failed & n = 2  & No  & NA     & CHP\\_343\\_A & No  & NA     & CHP\\_343 & NA    & NA\\\\\n",
       "\t 385   & n = 25 &   516 & 500 & Passed & n = 25 & 177.60 & 177.60 &  5.776 & Failed & n = 2  & No  & NA     & CHP\\_385   & No  & NA     & CHP\\_385 & NA    & NA\\\\\n",
       "\t 344-B & n = 25 & 11600 & 500 & Passed & n = 25 & 332.16 & 332.16 & 10.526 & Passed & n = 23 & Yes & n = 21 & CHP\\_344\\_B & No  & n = 3  & CHP\\_344 & NA    & NA\\\\\n",
       "\t 390   & n = 25 &   440 & 440 & Passed & n = 25 & 220.80 & 220.80 & 10.526 & Passed & n = 23 & Yes & n = 21 & CHP\\_390   & Yes & n = 18 & CHP\\_390 & OS    & NA\\\\\n",
       "\t 364   & n = 25 &   692 & 500 & Passed & n = 25 & 379.20 & 379.20 &  7.638 & Passed & n = 23 & Yes & n = 21 & CHP\\_364   & Yes & n = 18 & CHP\\_364 & OS    & NA\\\\\n",
       "\t 366   & n = 25 &  3260 & 500 & Passed & n = 25 & 295.68 & 295.68 &  7.638 & Passed & n = 23 & Yes & n = 21 & CHP\\_366   & Yes & n = 18 & CHP\\_366 & HD    & NA\\\\\n",
       "\t 372   & n = 25 &  7320 & 500 & Passed & n = 25 & 600.00 & 530.85 & 22.040 & Passed & n = 23 & Yes & n = 21 & CHP\\_372   & Yes & n = 18 & CHP\\_372 & BL    & NA\\\\\n",
       "\t 389   & n = 25 &  9220 & 500 & Passed & n = 25 & 523.20 & 469.15 & 22.040 & Passed & n = 23 & Yes & n = 21 & CHP\\_389   & Yes & n = 18 & CHP\\_389 & HD    & NA\\\\\n",
       "\t 400   & n = 25 & 11400 & 500 & Passed & n = 25 & 561.60 & 445.91 & 15.200 & Passed & n = 23 & Yes & n = 21 & CHP\\_400   & Yes & n = 18 & CHP\\_400 & PMBCL & NA\\\\\n",
       "\t 404-B & n = 25 &   390 & 390 & Passed & n = 25 & 532.80 & 532.80 & 15.200 & Passed & n = 23 & Yes & n = 21 & CHP\\_404\\_B & Yes & n = 18 & CHP\\_404 & ERMS  & NA\\\\\n",
       "\t 361   & n = 25 & 33400 & 500 & Passed & n = 25 & 442.56 & 442.56 & 51.300 & Passed & n = 23 & Yes & n = 21 & CHP\\_361   & Yes & n = 18 & CHP\\_361 & HD    & NA\\\\\n",
       "\t 380   & n = 25 & 29400 & 500 & Passed & n = 25 & 391.68 & 391.68 & 51.300 & Passed & n = 23 & Yes & n = 21 & CHP\\_380   & Yes & n = 18 & CHP\\_380 & HD    & NA\\\\\n",
       "\\end{tabular}\n"
      ],
      "text/markdown": [
       "\n",
       "A data.frame: 25 x 19\n",
       "\n",
       "| sample_id &lt;chr&gt; | Shipped &lt;chr&gt; | DNAextracted &lt;dbl&gt; | DNAused &lt;dbl&gt; | librarypassed &lt;chr&gt; | Library &lt;chr&gt; | libraryyield &lt;dbl&gt; | DNAforcapture &lt;dbl&gt; | captureyield &lt;dbl&gt; | capturepassed &lt;chr&gt; | Capture &lt;chr&gt; | deepseq &lt;chr&gt; | Sequencing &lt;chr&gt; | mysample_id &lt;chr&gt; | TCR &lt;chr&gt; | TCRanalysis &lt;chr&gt; | Patient &lt;chr&gt; | Tumor &lt;chr&gt; | Group &lt;lgl&gt; |\n",
       "|---|---|---|---|---|---|---|---|---|---|---|---|---|---|---|---|---|---|---|\n",
       "| 343-B | n = 25 |  1060 | 500 | Passed | n = 25 | 258.24 | 258.24 | 10.070 | Passed | n = 23 | Yes | n = 21 | CHP_343_B | No  | n = 3  | CHP_343 | NA    | NA |\n",
       "| 344-A | n = 25 |  9280 | 500 | Passed | n = 25 | 287.04 | 287.04 | 10.070 | Passed | n = 23 | Yes | n = 21 | CHP_344_A | Yes | n = 18 | CHP_344 | BL    | NA |\n",
       "| 419   | n = 25 |   248 | 248 | Passed | n = 25 | 237.12 | 237.12 | 10.070 | Passed | n = 23 | Yes | n = 21 | CHP_419   | Yes | n = 18 | CHP_419 | OS    | NA |\n",
       "| 358   | n = 25 | 11900 | 500 | Passed | n = 25 | 638.40 | 617.26 | 83.220 | Passed | n = 23 | No  | n = 2  | CHP_358   | No  | NA     | CHP_358 | NA    | NA |\n",
       "| 384   | n = 25 |  2460 | 500 | Passed | n = 25 | 363.84 | 363.84 | 83.220 | Passed | n = 23 | No  | n = 2  | CHP_384   | No  | NA     | CHP_384 | NA    | NA |\n",
       "| 401   | n = 25 |  1740 | 500 | Passed | n = 25 | 705.60 | 449.48 | 10.108 | Passed | n = 23 | Yes | n = 21 | CHP_401   | Yes | n = 18 | CHP_401 | ERMS  | NA |\n",
       "| 412   | n = 25 |  3060 | 500 | Passed | n = 25 | 787.20 | 550.52 | 10.108 | Passed | n = 23 | Yes | n = 21 | CHP_412   | Yes | n = 18 | CHP_412 | BLL   | NA |\n",
       "| 404-A | n = 25 |  1010 | 500 | Passed | n = 25 | 811.20 | 498.41 | 42.560 | Passed | n = 23 | Yes | n = 21 | CHP_404_A | Yes | n = 18 | CHP_404 | ERMS  | NA |\n",
       "| 418   | n = 25 |  3280 | 500 | Passed | n = 25 | 792.00 | 501.59 | 42.560 | Passed | n = 23 | Yes | n = 21 | CHP_418   | Yes | n = 18 | CHP_418 | NB    | NA |\n",
       "| 370   | n = 25 |  2660 | 500 | Passed | n = 25 | 472.32 | 472.32 |  5.282 | Passed | n = 23 | Yes | n = 21 | CHP_370   | Yes | n = 18 | CHP_370 | ALCL  | NA |\n",
       "| 394   | n = 25 | 12500 | 500 | Passed | n = 25 | 528.00 | 510.50 |  5.282 | Passed | n = 23 | Yes | n = 21 | CHP_394   | Yes | n = 18 | CHP_394 | ERMS  | NA |\n",
       "| 348   | n = 25 |   736 | 500 | Passed | n = 25 | 414.72 | 414.72 |  6.764 | Passed | n = 23 | Yes | n = 21 | CHP_348   | No  | n = 3  | CHP_348 | NA    | NA |\n",
       "| 407   | n = 25 |  1160 | 500 | Passed | n = 25 | 595.20 | 568.80 |  6.764 | Passed | n = 23 | Yes | n = 21 | CHP_407   | Yes | n = 18 | CHP_407 | DLBCL | NA |\n",
       "| 343-A | n = 25 |   630 | 500 | Passed | n = 25 | 166.08 | 166.08 |  5.776 | Failed | n = 2  | No  | NA     | CHP_343_A | No  | NA     | CHP_343 | NA    | NA |\n",
       "| 385   | n = 25 |   516 | 500 | Passed | n = 25 | 177.60 | 177.60 |  5.776 | Failed | n = 2  | No  | NA     | CHP_385   | No  | NA     | CHP_385 | NA    | NA |\n",
       "| 344-B | n = 25 | 11600 | 500 | Passed | n = 25 | 332.16 | 332.16 | 10.526 | Passed | n = 23 | Yes | n = 21 | CHP_344_B | No  | n = 3  | CHP_344 | NA    | NA |\n",
       "| 390   | n = 25 |   440 | 440 | Passed | n = 25 | 220.80 | 220.80 | 10.526 | Passed | n = 23 | Yes | n = 21 | CHP_390   | Yes | n = 18 | CHP_390 | OS    | NA |\n",
       "| 364   | n = 25 |   692 | 500 | Passed | n = 25 | 379.20 | 379.20 |  7.638 | Passed | n = 23 | Yes | n = 21 | CHP_364   | Yes | n = 18 | CHP_364 | OS    | NA |\n",
       "| 366   | n = 25 |  3260 | 500 | Passed | n = 25 | 295.68 | 295.68 |  7.638 | Passed | n = 23 | Yes | n = 21 | CHP_366   | Yes | n = 18 | CHP_366 | HD    | NA |\n",
       "| 372   | n = 25 |  7320 | 500 | Passed | n = 25 | 600.00 | 530.85 | 22.040 | Passed | n = 23 | Yes | n = 21 | CHP_372   | Yes | n = 18 | CHP_372 | BL    | NA |\n",
       "| 389   | n = 25 |  9220 | 500 | Passed | n = 25 | 523.20 | 469.15 | 22.040 | Passed | n = 23 | Yes | n = 21 | CHP_389   | Yes | n = 18 | CHP_389 | HD    | NA |\n",
       "| 400   | n = 25 | 11400 | 500 | Passed | n = 25 | 561.60 | 445.91 | 15.200 | Passed | n = 23 | Yes | n = 21 | CHP_400   | Yes | n = 18 | CHP_400 | PMBCL | NA |\n",
       "| 404-B | n = 25 |   390 | 390 | Passed | n = 25 | 532.80 | 532.80 | 15.200 | Passed | n = 23 | Yes | n = 21 | CHP_404_B | Yes | n = 18 | CHP_404 | ERMS  | NA |\n",
       "| 361   | n = 25 | 33400 | 500 | Passed | n = 25 | 442.56 | 442.56 | 51.300 | Passed | n = 23 | Yes | n = 21 | CHP_361   | Yes | n = 18 | CHP_361 | HD    | NA |\n",
       "| 380   | n = 25 | 29400 | 500 | Passed | n = 25 | 391.68 | 391.68 | 51.300 | Passed | n = 23 | Yes | n = 21 | CHP_380   | Yes | n = 18 | CHP_380 | HD    | NA |\n",
       "\n"
      ],
      "text/plain": [
       "   sample_id Shipped DNAextracted DNAused librarypassed Library libraryyield\n",
       "1  343-B     n = 25   1060        500     Passed        n = 25  258.24      \n",
       "2  344-A     n = 25   9280        500     Passed        n = 25  287.04      \n",
       "3  419       n = 25    248        248     Passed        n = 25  237.12      \n",
       "4  358       n = 25  11900        500     Passed        n = 25  638.40      \n",
       "5  384       n = 25   2460        500     Passed        n = 25  363.84      \n",
       "6  401       n = 25   1740        500     Passed        n = 25  705.60      \n",
       "7  412       n = 25   3060        500     Passed        n = 25  787.20      \n",
       "8  404-A     n = 25   1010        500     Passed        n = 25  811.20      \n",
       "9  418       n = 25   3280        500     Passed        n = 25  792.00      \n",
       "10 370       n = 25   2660        500     Passed        n = 25  472.32      \n",
       "11 394       n = 25  12500        500     Passed        n = 25  528.00      \n",
       "12 348       n = 25    736        500     Passed        n = 25  414.72      \n",
       "13 407       n = 25   1160        500     Passed        n = 25  595.20      \n",
       "14 343-A     n = 25    630        500     Passed        n = 25  166.08      \n",
       "15 385       n = 25    516        500     Passed        n = 25  177.60      \n",
       "16 344-B     n = 25  11600        500     Passed        n = 25  332.16      \n",
       "17 390       n = 25    440        440     Passed        n = 25  220.80      \n",
       "18 364       n = 25    692        500     Passed        n = 25  379.20      \n",
       "19 366       n = 25   3260        500     Passed        n = 25  295.68      \n",
       "20 372       n = 25   7320        500     Passed        n = 25  600.00      \n",
       "21 389       n = 25   9220        500     Passed        n = 25  523.20      \n",
       "22 400       n = 25  11400        500     Passed        n = 25  561.60      \n",
       "23 404-B     n = 25    390        390     Passed        n = 25  532.80      \n",
       "24 361       n = 25  33400        500     Passed        n = 25  442.56      \n",
       "25 380       n = 25  29400        500     Passed        n = 25  391.68      \n",
       "   DNAforcapture captureyield capturepassed Capture deepseq Sequencing\n",
       "1  258.24        10.070       Passed        n = 23  Yes     n = 21    \n",
       "2  287.04        10.070       Passed        n = 23  Yes     n = 21    \n",
       "3  237.12        10.070       Passed        n = 23  Yes     n = 21    \n",
       "4  617.26        83.220       Passed        n = 23  No      n = 2     \n",
       "5  363.84        83.220       Passed        n = 23  No      n = 2     \n",
       "6  449.48        10.108       Passed        n = 23  Yes     n = 21    \n",
       "7  550.52        10.108       Passed        n = 23  Yes     n = 21    \n",
       "8  498.41        42.560       Passed        n = 23  Yes     n = 21    \n",
       "9  501.59        42.560       Passed        n = 23  Yes     n = 21    \n",
       "10 472.32         5.282       Passed        n = 23  Yes     n = 21    \n",
       "11 510.50         5.282       Passed        n = 23  Yes     n = 21    \n",
       "12 414.72         6.764       Passed        n = 23  Yes     n = 21    \n",
       "13 568.80         6.764       Passed        n = 23  Yes     n = 21    \n",
       "14 166.08         5.776       Failed        n = 2   No      NA        \n",
       "15 177.60         5.776       Failed        n = 2   No      NA        \n",
       "16 332.16        10.526       Passed        n = 23  Yes     n = 21    \n",
       "17 220.80        10.526       Passed        n = 23  Yes     n = 21    \n",
       "18 379.20         7.638       Passed        n = 23  Yes     n = 21    \n",
       "19 295.68         7.638       Passed        n = 23  Yes     n = 21    \n",
       "20 530.85        22.040       Passed        n = 23  Yes     n = 21    \n",
       "21 469.15        22.040       Passed        n = 23  Yes     n = 21    \n",
       "22 445.91        15.200       Passed        n = 23  Yes     n = 21    \n",
       "23 532.80        15.200       Passed        n = 23  Yes     n = 21    \n",
       "24 442.56        51.300       Passed        n = 23  Yes     n = 21    \n",
       "25 391.68        51.300       Passed        n = 23  Yes     n = 21    \n",
       "   mysample_id TCR TCRanalysis Patient Tumor Group\n",
       "1  CHP_343_B   No  n = 3       CHP_343 NA    NA   \n",
       "2  CHP_344_A   Yes n = 18      CHP_344 BL    NA   \n",
       "3  CHP_419     Yes n = 18      CHP_419 OS    NA   \n",
       "4  CHP_358     No  NA          CHP_358 NA    NA   \n",
       "5  CHP_384     No  NA          CHP_384 NA    NA   \n",
       "6  CHP_401     Yes n = 18      CHP_401 ERMS  NA   \n",
       "7  CHP_412     Yes n = 18      CHP_412 BLL   NA   \n",
       "8  CHP_404_A   Yes n = 18      CHP_404 ERMS  NA   \n",
       "9  CHP_418     Yes n = 18      CHP_418 NB    NA   \n",
       "10 CHP_370     Yes n = 18      CHP_370 ALCL  NA   \n",
       "11 CHP_394     Yes n = 18      CHP_394 ERMS  NA   \n",
       "12 CHP_348     No  n = 3       CHP_348 NA    NA   \n",
       "13 CHP_407     Yes n = 18      CHP_407 DLBCL NA   \n",
       "14 CHP_343_A   No  NA          CHP_343 NA    NA   \n",
       "15 CHP_385     No  NA          CHP_385 NA    NA   \n",
       "16 CHP_344_B   No  n = 3       CHP_344 NA    NA   \n",
       "17 CHP_390     Yes n = 18      CHP_390 OS    NA   \n",
       "18 CHP_364     Yes n = 18      CHP_364 OS    NA   \n",
       "19 CHP_366     Yes n = 18      CHP_366 HD    NA   \n",
       "20 CHP_372     Yes n = 18      CHP_372 BL    NA   \n",
       "21 CHP_389     Yes n = 18      CHP_389 HD    NA   \n",
       "22 CHP_400     Yes n = 18      CHP_400 PMBCL NA   \n",
       "23 CHP_404_B   Yes n = 18      CHP_404 ERMS  NA   \n",
       "24 CHP_361     Yes n = 18      CHP_361 HD    NA   \n",
       "25 CHP_380     Yes n = 18      CHP_380 HD    NA   "
      ]
     },
     "metadata": {},
     "output_type": "display_data"
    }
   ],
   "source": [
    "ffpe_samples"
   ]
  },
  {
   "cell_type": "code",
   "execution_count": 46,
   "metadata": {
    "vscode": {
     "languageId": "r"
    }
   },
   "outputs": [],
   "source": [
    "#some colname cleanup\n",
    "colnames(ffpe_samples)[colnames(ffpe_samples) == \"Library\"] <- \"Library preparation\"\n",
    "colnames(ffpe_samples)[colnames(ffpe_samples) == \"Capture\"] <- \"Successful capture\"\n",
    "colnames(ffpe_samples)[colnames(ffpe_samples) == \"Sequencing\"] <- \"Deep sequencing\"\n",
    "colnames(ffpe_samples)[colnames(ffpe_samples) == \"TCRanalysis\"] <- \"TCR analysis\""
   ]
  },
  {
   "cell_type": "code",
   "execution_count": 47,
   "metadata": {
    "vscode": {
     "languageId": "r"
    }
   },
   "outputs": [],
   "source": [
    "save(ffpe_samples, file = paste0(gitpath, \"data/tumor_sampleprocessing.RData\"))"
   ]
  },
  {
   "attachments": {},
   "cell_type": "markdown",
   "metadata": {},
   "source": [
    "# PBMC"
   ]
  },
  {
   "cell_type": "code",
   "execution_count": 5,
   "metadata": {
    "vscode": {
     "languageId": "r"
    }
   },
   "outputs": [],
   "source": [
    "pbmc <- read.xlsx(paste0(datapath, \"CHOP Lab Processing Log.xlsx\"), sheet = 2)"
   ]
  },
  {
   "cell_type": "code",
   "execution_count": 6,
   "metadata": {
    "vscode": {
     "languageId": "r"
    }
   },
   "outputs": [],
   "source": [
    "pbmc$Specimen.ID <- trimws(pbmc$Specimen.ID)"
   ]
  },
  {
   "cell_type": "code",
   "execution_count": 7,
   "metadata": {
    "vscode": {
     "languageId": "r"
    }
   },
   "outputs": [
    {
     "data": {
      "text/html": [
       "<style>\n",
       ".list-inline {list-style: none; margin:0; padding: 0}\n",
       ".list-inline>li {display: inline-block}\n",
       ".list-inline>li:not(:last-child)::after {content: \"\\00b7\"; padding: 0 .5ex}\n",
       "</style>\n",
       "<ol class=list-inline><li>'Colour.Legend'</li><li>'Shipment.#'</li><li>'Batch'</li><li>'Original.Box#'</li><li>'Original.Box.Location'</li><li>'Specimen.ID'</li><li>'Date.Frozen'</li><li>'Study.Cohort'</li><li>'Sample.Type'</li><li>'Date.transferred.to.Pugh.Lab'</li><li>'Total.Cell.Number'</li><li>'Cells.Used.For.Extraction'</li><li>'Extracted.By'</li><li>'Extracted.On'</li><li>'Lysis.Buffer.(ul)'</li><li>'DNA.elution.volume'</li><li>'RNA.elution.volume'</li><li>'DNA.Qubit.(ng/ul)'</li><li>'RNA.Qubit.(ng/uL)'</li><li>'DNA.total.(ng)'</li><li>'RNA.total.(ng)'</li><li>'Elution.Buffer.Type.RNA'</li><li>'Elution.Buffer.Type.DNA'</li><li>'Extraction.Protocol'</li><li>'Notes'</li><li>'Missing.Samples'</li><li>'Library.Prep.Date'</li><li>'Library.Prep.Technician'</li><li>'Sample.Vol.used.for.Library.Prep.(uL)'</li><li>'Amount.of.DNA.used.for.Library.Prep.(ng)'</li><li>'Amount.of.DNA.remaining.post-library.prep.(ng)'</li><li>'Library.ID'</li><li>'Adapter'</li><li>'Adapter.Sequence'</li><li>'Number.of.PCR.Cycles.used.for.Library.Amplification'</li><li>'Qubit.Concentration'</li><li>'Final.Library.Vol.(uL)'</li><li>'Total.Library.Yield.(ng)'</li><li>'Miseq.for.Library'</li><li>'Library.Miseq.Flow.Cell.ID'</li><li>'Library.Prep.Notes'</li><li>'Capture.Date'</li><li>'Capture.Technician'</li><li>'Vol.used.for.Capture.(uL)'</li><li>'Amount.of.Library.used.for.capture.(ng)'</li><li>'Amount.of.library.remaining.post-capture.(ng)'</li><li>'Capture.Pool.ID'</li><li>'Number.of.Libraries.to.Pool.for.1ug.target.capture'</li><li>'Number.of.1-step.PCR.Amp.Cycles.post-capture'</li><li>'Number.of.3-step.PCR.Amp.Cycles.post-capture'</li><li>'Qubit.Concentration.Post-Cap'</li><li>'Final.Capture.Vol.(uL)'</li><li>'Total.Capture.Library.Yield.(ng)'</li><li>'Miseq.for.Capture'</li><li>'Miseq.Flow.Cell.ID'</li><li>'Sent.for.Nextseq?'</li><li>'Date.Submitted.for.Seq'</li><li>'Pugh.Lab.Seq.ID'</li><li>'Vol.used.for.sequencing.(uL)'</li><li>'Vol.Remaining.(uL)'</li><li>'Capture.Notes'</li></ol>\n"
      ],
      "text/latex": [
       "\\begin{enumerate*}\n",
       "\\item 'Colour.Legend'\n",
       "\\item 'Shipment.\\#'\n",
       "\\item 'Batch'\n",
       "\\item 'Original.Box\\#'\n",
       "\\item 'Original.Box.Location'\n",
       "\\item 'Specimen.ID'\n",
       "\\item 'Date.Frozen'\n",
       "\\item 'Study.Cohort'\n",
       "\\item 'Sample.Type'\n",
       "\\item 'Date.transferred.to.Pugh.Lab'\n",
       "\\item 'Total.Cell.Number'\n",
       "\\item 'Cells.Used.For.Extraction'\n",
       "\\item 'Extracted.By'\n",
       "\\item 'Extracted.On'\n",
       "\\item 'Lysis.Buffer.(ul)'\n",
       "\\item 'DNA.elution.volume'\n",
       "\\item 'RNA.elution.volume'\n",
       "\\item 'DNA.Qubit.(ng/ul)'\n",
       "\\item 'RNA.Qubit.(ng/uL)'\n",
       "\\item 'DNA.total.(ng)'\n",
       "\\item 'RNA.total.(ng)'\n",
       "\\item 'Elution.Buffer.Type.RNA'\n",
       "\\item 'Elution.Buffer.Type.DNA'\n",
       "\\item 'Extraction.Protocol'\n",
       "\\item 'Notes'\n",
       "\\item 'Missing.Samples'\n",
       "\\item 'Library.Prep.Date'\n",
       "\\item 'Library.Prep.Technician'\n",
       "\\item 'Sample.Vol.used.for.Library.Prep.(uL)'\n",
       "\\item 'Amount.of.DNA.used.for.Library.Prep.(ng)'\n",
       "\\item 'Amount.of.DNA.remaining.post-library.prep.(ng)'\n",
       "\\item 'Library.ID'\n",
       "\\item 'Adapter'\n",
       "\\item 'Adapter.Sequence'\n",
       "\\item 'Number.of.PCR.Cycles.used.for.Library.Amplification'\n",
       "\\item 'Qubit.Concentration'\n",
       "\\item 'Final.Library.Vol.(uL)'\n",
       "\\item 'Total.Library.Yield.(ng)'\n",
       "\\item 'Miseq.for.Library'\n",
       "\\item 'Library.Miseq.Flow.Cell.ID'\n",
       "\\item 'Library.Prep.Notes'\n",
       "\\item 'Capture.Date'\n",
       "\\item 'Capture.Technician'\n",
       "\\item 'Vol.used.for.Capture.(uL)'\n",
       "\\item 'Amount.of.Library.used.for.capture.(ng)'\n",
       "\\item 'Amount.of.library.remaining.post-capture.(ng)'\n",
       "\\item 'Capture.Pool.ID'\n",
       "\\item 'Number.of.Libraries.to.Pool.for.1ug.target.capture'\n",
       "\\item 'Number.of.1-step.PCR.Amp.Cycles.post-capture'\n",
       "\\item 'Number.of.3-step.PCR.Amp.Cycles.post-capture'\n",
       "\\item 'Qubit.Concentration.Post-Cap'\n",
       "\\item 'Final.Capture.Vol.(uL)'\n",
       "\\item 'Total.Capture.Library.Yield.(ng)'\n",
       "\\item 'Miseq.for.Capture'\n",
       "\\item 'Miseq.Flow.Cell.ID'\n",
       "\\item 'Sent.for.Nextseq?'\n",
       "\\item 'Date.Submitted.for.Seq'\n",
       "\\item 'Pugh.Lab.Seq.ID'\n",
       "\\item 'Vol.used.for.sequencing.(uL)'\n",
       "\\item 'Vol.Remaining.(uL)'\n",
       "\\item 'Capture.Notes'\n",
       "\\end{enumerate*}\n"
      ],
      "text/markdown": [
       "1. 'Colour.Legend'\n",
       "2. 'Shipment.#'\n",
       "3. 'Batch'\n",
       "4. 'Original.Box#'\n",
       "5. 'Original.Box.Location'\n",
       "6. 'Specimen.ID'\n",
       "7. 'Date.Frozen'\n",
       "8. 'Study.Cohort'\n",
       "9. 'Sample.Type'\n",
       "10. 'Date.transferred.to.Pugh.Lab'\n",
       "11. 'Total.Cell.Number'\n",
       "12. 'Cells.Used.For.Extraction'\n",
       "13. 'Extracted.By'\n",
       "14. 'Extracted.On'\n",
       "15. 'Lysis.Buffer.(ul)'\n",
       "16. 'DNA.elution.volume'\n",
       "17. 'RNA.elution.volume'\n",
       "18. 'DNA.Qubit.(ng/ul)'\n",
       "19. 'RNA.Qubit.(ng/uL)'\n",
       "20. 'DNA.total.(ng)'\n",
       "21. 'RNA.total.(ng)'\n",
       "22. 'Elution.Buffer.Type.RNA'\n",
       "23. 'Elution.Buffer.Type.DNA'\n",
       "24. 'Extraction.Protocol'\n",
       "25. 'Notes'\n",
       "26. 'Missing.Samples'\n",
       "27. 'Library.Prep.Date'\n",
       "28. 'Library.Prep.Technician'\n",
       "29. 'Sample.Vol.used.for.Library.Prep.(uL)'\n",
       "30. 'Amount.of.DNA.used.for.Library.Prep.(ng)'\n",
       "31. 'Amount.of.DNA.remaining.post-library.prep.(ng)'\n",
       "32. 'Library.ID'\n",
       "33. 'Adapter'\n",
       "34. 'Adapter.Sequence'\n",
       "35. 'Number.of.PCR.Cycles.used.for.Library.Amplification'\n",
       "36. 'Qubit.Concentration'\n",
       "37. 'Final.Library.Vol.(uL)'\n",
       "38. 'Total.Library.Yield.(ng)'\n",
       "39. 'Miseq.for.Library'\n",
       "40. 'Library.Miseq.Flow.Cell.ID'\n",
       "41. 'Library.Prep.Notes'\n",
       "42. 'Capture.Date'\n",
       "43. 'Capture.Technician'\n",
       "44. 'Vol.used.for.Capture.(uL)'\n",
       "45. 'Amount.of.Library.used.for.capture.(ng)'\n",
       "46. 'Amount.of.library.remaining.post-capture.(ng)'\n",
       "47. 'Capture.Pool.ID'\n",
       "48. 'Number.of.Libraries.to.Pool.for.1ug.target.capture'\n",
       "49. 'Number.of.1-step.PCR.Amp.Cycles.post-capture'\n",
       "50. 'Number.of.3-step.PCR.Amp.Cycles.post-capture'\n",
       "51. 'Qubit.Concentration.Post-Cap'\n",
       "52. 'Final.Capture.Vol.(uL)'\n",
       "53. 'Total.Capture.Library.Yield.(ng)'\n",
       "54. 'Miseq.for.Capture'\n",
       "55. 'Miseq.Flow.Cell.ID'\n",
       "56. 'Sent.for.Nextseq?'\n",
       "57. 'Date.Submitted.for.Seq'\n",
       "58. 'Pugh.Lab.Seq.ID'\n",
       "59. 'Vol.used.for.sequencing.(uL)'\n",
       "60. 'Vol.Remaining.(uL)'\n",
       "61. 'Capture.Notes'\n",
       "\n",
       "\n"
      ],
      "text/plain": [
       " [1] \"Colour.Legend\"                                      \n",
       " [2] \"Shipment.#\"                                         \n",
       " [3] \"Batch\"                                              \n",
       " [4] \"Original.Box#\"                                      \n",
       " [5] \"Original.Box.Location\"                              \n",
       " [6] \"Specimen.ID\"                                        \n",
       " [7] \"Date.Frozen\"                                        \n",
       " [8] \"Study.Cohort\"                                       \n",
       " [9] \"Sample.Type\"                                        \n",
       "[10] \"Date.transferred.to.Pugh.Lab\"                       \n",
       "[11] \"Total.Cell.Number\"                                  \n",
       "[12] \"Cells.Used.For.Extraction\"                          \n",
       "[13] \"Extracted.By\"                                       \n",
       "[14] \"Extracted.On\"                                       \n",
       "[15] \"Lysis.Buffer.(ul)\"                                  \n",
       "[16] \"DNA.elution.volume\"                                 \n",
       "[17] \"RNA.elution.volume\"                                 \n",
       "[18] \"DNA.Qubit.(ng/ul)\"                                  \n",
       "[19] \"RNA.Qubit.(ng/uL)\"                                  \n",
       "[20] \"DNA.total.(ng)\"                                     \n",
       "[21] \"RNA.total.(ng)\"                                     \n",
       "[22] \"Elution.Buffer.Type.RNA\"                            \n",
       "[23] \"Elution.Buffer.Type.DNA\"                            \n",
       "[24] \"Extraction.Protocol\"                                \n",
       "[25] \"Notes\"                                              \n",
       "[26] \"Missing.Samples\"                                    \n",
       "[27] \"Library.Prep.Date\"                                  \n",
       "[28] \"Library.Prep.Technician\"                            \n",
       "[29] \"Sample.Vol.used.for.Library.Prep.(uL)\"              \n",
       "[30] \"Amount.of.DNA.used.for.Library.Prep.(ng)\"           \n",
       "[31] \"Amount.of.DNA.remaining.post-library.prep.(ng)\"     \n",
       "[32] \"Library.ID\"                                         \n",
       "[33] \"Adapter\"                                            \n",
       "[34] \"Adapter.Sequence\"                                   \n",
       "[35] \"Number.of.PCR.Cycles.used.for.Library.Amplification\"\n",
       "[36] \"Qubit.Concentration\"                                \n",
       "[37] \"Final.Library.Vol.(uL)\"                             \n",
       "[38] \"Total.Library.Yield.(ng)\"                           \n",
       "[39] \"Miseq.for.Library\"                                  \n",
       "[40] \"Library.Miseq.Flow.Cell.ID\"                         \n",
       "[41] \"Library.Prep.Notes\"                                 \n",
       "[42] \"Capture.Date\"                                       \n",
       "[43] \"Capture.Technician\"                                 \n",
       "[44] \"Vol.used.for.Capture.(uL)\"                          \n",
       "[45] \"Amount.of.Library.used.for.capture.(ng)\"            \n",
       "[46] \"Amount.of.library.remaining.post-capture.(ng)\"      \n",
       "[47] \"Capture.Pool.ID\"                                    \n",
       "[48] \"Number.of.Libraries.to.Pool.for.1ug.target.capture\" \n",
       "[49] \"Number.of.1-step.PCR.Amp.Cycles.post-capture\"       \n",
       "[50] \"Number.of.3-step.PCR.Amp.Cycles.post-capture\"       \n",
       "[51] \"Qubit.Concentration.Post-Cap\"                       \n",
       "[52] \"Final.Capture.Vol.(uL)\"                             \n",
       "[53] \"Total.Capture.Library.Yield.(ng)\"                   \n",
       "[54] \"Miseq.for.Capture\"                                  \n",
       "[55] \"Miseq.Flow.Cell.ID\"                                 \n",
       "[56] \"Sent.for.Nextseq?\"                                  \n",
       "[57] \"Date.Submitted.for.Seq\"                             \n",
       "[58] \"Pugh.Lab.Seq.ID\"                                    \n",
       "[59] \"Vol.used.for.sequencing.(uL)\"                       \n",
       "[60] \"Vol.Remaining.(uL)\"                                 \n",
       "[61] \"Capture.Notes\"                                      "
      ]
     },
     "metadata": {},
     "output_type": "display_data"
    }
   ],
   "source": [
    "colnames(pbmc)"
   ]
  },
  {
   "cell_type": "code",
   "execution_count": 8,
   "metadata": {
    "vscode": {
     "languageId": "r"
    }
   },
   "outputs": [
    {
     "data": {
      "text/html": [
       "<table class=\"dataframe\">\n",
       "<caption>A data.frame: 2 x 17</caption>\n",
       "<thead>\n",
       "\t<tr><th></th><th scope=col>Specimen.ID</th><th scope=col>Notes</th><th scope=col>Missing.Samples</th><th scope=col>Library.Prep.Date</th><th scope=col>Library.Prep.Technician</th><th scope=col>Sample.Vol.used.for.Library.Prep.(uL)</th><th scope=col>Amount.of.DNA.used.for.Library.Prep.(ng)</th><th scope=col>Amount.of.DNA.remaining.post-library.prep.(ng)</th><th scope=col>Library.ID</th><th scope=col>Adapter</th><th scope=col>Adapter.Sequence</th><th scope=col>Number.of.PCR.Cycles.used.for.Library.Amplification</th><th scope=col>Qubit.Concentration</th><th scope=col>Final.Library.Vol.(uL)</th><th scope=col>Total.Library.Yield.(ng)</th><th scope=col>Miseq.for.Library</th><th scope=col>Library.Miseq.Flow.Cell.ID</th></tr>\n",
       "\t<tr><th></th><th scope=col>&lt;chr&gt;</th><th scope=col>&lt;chr&gt;</th><th scope=col>&lt;chr&gt;</th><th scope=col>&lt;chr&gt;</th><th scope=col>&lt;chr&gt;</th><th scope=col>&lt;chr&gt;</th><th scope=col>&lt;dbl&gt;</th><th scope=col>&lt;dbl&gt;</th><th scope=col>&lt;chr&gt;</th><th scope=col>&lt;chr&gt;</th><th scope=col>&lt;chr&gt;</th><th scope=col>&lt;chr&gt;</th><th scope=col>&lt;dbl&gt;</th><th scope=col>&lt;dbl&gt;</th><th scope=col>&lt;dbl&gt;</th><th scope=col>&lt;chr&gt;</th><th scope=col>&lt;chr&gt;</th></tr>\n",
       "</thead>\n",
       "<tbody>\n",
       "\t<tr><th scope=row>300</th><td>387-03</td><td>NA                                                                                              </td><td>NA</td><td>43815</td><td>JW</td><td>15.1</td><td>500</td><td>2820</td><td>CHP_387-03_PBMC_DNA</td><td>AD11</td><td>GTCCTTGT</td><td>3</td><td>10.3</td><td>48</td><td>494.4</td><td>Passed </td><td>191224_M04827_0329_000000000-D7W2Y</td></tr>\n",
       "\t<tr><th scope=row>308</th><td>387-02</td><td>Samples re-purified using ethanol precip therefore elution V and concentration are not accurate </td><td>NA</td><td>43815</td><td>JW</td><td>All </td><td> 55</td><td>   0</td><td>CHP_387-02_PBMC_DNA</td><td>AD3 </td><td>TGTAACCG</td><td>6</td><td>14.2</td><td>48</td><td>681.6</td><td>Passed </td><td>191224_M04827_0329_000000000-D7W2Y</td></tr>\n",
       "</tbody>\n",
       "</table>\n"
      ],
      "text/latex": [
       "A data.frame: 2 x 17\n",
       "\\begin{tabular}{r|lllllllllllllllll}\n",
       "  & Specimen.ID & Notes & Missing.Samples & Library.Prep.Date & Library.Prep.Technician & Sample.Vol.used.for.Library.Prep.(uL) & Amount.of.DNA.used.for.Library.Prep.(ng) & Amount.of.DNA.remaining.post-library.prep.(ng) & Library.ID & Adapter & Adapter.Sequence & Number.of.PCR.Cycles.used.for.Library.Amplification & Qubit.Concentration & Final.Library.Vol.(uL) & Total.Library.Yield.(ng) & Miseq.for.Library & Library.Miseq.Flow.Cell.ID\\\\\n",
       "  & <chr> & <chr> & <chr> & <chr> & <chr> & <chr> & <dbl> & <dbl> & <chr> & <chr> & <chr> & <chr> & <dbl> & <dbl> & <dbl> & <chr> & <chr>\\\\\n",
       "\\hline\n",
       "\t300 & 387-03 & NA                                                                                               & NA & 43815 & JW & 15.1 & 500 & 2820 & CHP\\_387-03\\_PBMC\\_DNA & AD11 & GTCCTTGT & 3 & 10.3 & 48 & 494.4 & Passed  & 191224\\_M04827\\_0329\\_000000000-D7W2Y\\\\\n",
       "\t308 & 387-02 & Samples re-purified using ethanol precip therefore elution V and concentration are not accurate  & NA & 43815 & JW & All  &  55 &    0 & CHP\\_387-02\\_PBMC\\_DNA & AD3  & TGTAACCG & 6 & 14.2 & 48 & 681.6 & Passed  & 191224\\_M04827\\_0329\\_000000000-D7W2Y\\\\\n",
       "\\end{tabular}\n"
      ],
      "text/markdown": [
       "\n",
       "A data.frame: 2 x 17\n",
       "\n",
       "| <!--/--> | Specimen.ID &lt;chr&gt; | Notes &lt;chr&gt; | Missing.Samples &lt;chr&gt; | Library.Prep.Date &lt;chr&gt; | Library.Prep.Technician &lt;chr&gt; | Sample.Vol.used.for.Library.Prep.(uL) &lt;chr&gt; | Amount.of.DNA.used.for.Library.Prep.(ng) &lt;dbl&gt; | Amount.of.DNA.remaining.post-library.prep.(ng) &lt;dbl&gt; | Library.ID &lt;chr&gt; | Adapter &lt;chr&gt; | Adapter.Sequence &lt;chr&gt; | Number.of.PCR.Cycles.used.for.Library.Amplification &lt;chr&gt; | Qubit.Concentration &lt;dbl&gt; | Final.Library.Vol.(uL) &lt;dbl&gt; | Total.Library.Yield.(ng) &lt;dbl&gt; | Miseq.for.Library &lt;chr&gt; | Library.Miseq.Flow.Cell.ID &lt;chr&gt; |\n",
       "|---|---|---|---|---|---|---|---|---|---|---|---|---|---|---|---|---|---|\n",
       "| 300 | 387-03 | NA                                                                                               | NA | 43815 | JW | 15.1 | 500 | 2820 | CHP_387-03_PBMC_DNA | AD11 | GTCCTTGT | 3 | 10.3 | 48 | 494.4 | Passed  | 191224_M04827_0329_000000000-D7W2Y |\n",
       "| 308 | 387-02 | Samples re-purified using ethanol precip therefore elution V and concentration are not accurate  | NA | 43815 | JW | All  |  55 |    0 | CHP_387-02_PBMC_DNA | AD3  | TGTAACCG | 6 | 14.2 | 48 | 681.6 | Passed  | 191224_M04827_0329_000000000-D7W2Y |\n",
       "\n"
      ],
      "text/plain": [
       "    Specimen.ID\n",
       "300 387-03     \n",
       "308 387-02     \n",
       "    Notes                                                                                           \n",
       "300 NA                                                                                              \n",
       "308 Samples re-purified using ethanol precip therefore elution V and concentration are not accurate \n",
       "    Missing.Samples Library.Prep.Date Library.Prep.Technician\n",
       "300 NA              43815             JW                     \n",
       "308 NA              43815             JW                     \n",
       "    Sample.Vol.used.for.Library.Prep.(uL)\n",
       "300 15.1                                 \n",
       "308 All                                  \n",
       "    Amount.of.DNA.used.for.Library.Prep.(ng)\n",
       "300 500                                     \n",
       "308  55                                     \n",
       "    Amount.of.DNA.remaining.post-library.prep.(ng) Library.ID          Adapter\n",
       "300 2820                                           CHP_387-03_PBMC_DNA AD11   \n",
       "308    0                                           CHP_387-02_PBMC_DNA AD3    \n",
       "    Adapter.Sequence Number.of.PCR.Cycles.used.for.Library.Amplification\n",
       "300 GTCCTTGT         3                                                  \n",
       "308 TGTAACCG         6                                                  \n",
       "    Qubit.Concentration Final.Library.Vol.(uL) Total.Library.Yield.(ng)\n",
       "300 10.3                48                     494.4                   \n",
       "308 14.2                48                     681.6                   \n",
       "    Miseq.for.Library Library.Miseq.Flow.Cell.ID        \n",
       "300 Passed            191224_M04827_0329_000000000-D7W2Y\n",
       "308 Passed            191224_M04827_0329_000000000-D7W2Y"
      ]
     },
     "metadata": {},
     "output_type": "display_data"
    }
   ],
   "source": [
    "head(pbmc[ pbmc$Specimen.ID %in% c(\"387-03\", \"387-02\"), c(6,25:40)])"
   ]
  },
  {
   "cell_type": "code",
   "execution_count": 9,
   "metadata": {
    "vscode": {
     "languageId": "r"
    }
   },
   "outputs": [
    {
     "data": {
      "text/html": [
       "<style>\n",
       ".list-inline {list-style: none; margin:0; padding: 0}\n",
       ".list-inline>li {display: inline-block}\n",
       ".list-inline>li:not(:last-child)::after {content: \"\\00b7\"; padding: 0 .5ex}\n",
       "</style>\n",
       "<ol class=list-inline><li>'328-04'</li><li>'328-04'</li><li>'328-05'</li><li>'328-05'</li><li>'328-04'</li><li>'328-05'</li></ol>\n"
      ],
      "text/latex": [
       "\\begin{enumerate*}\n",
       "\\item '328-04'\n",
       "\\item '328-04'\n",
       "\\item '328-05'\n",
       "\\item '328-05'\n",
       "\\item '328-04'\n",
       "\\item '328-05'\n",
       "\\end{enumerate*}\n"
      ],
      "text/markdown": [
       "1. '328-04'\n",
       "2. '328-04'\n",
       "3. '328-05'\n",
       "4. '328-05'\n",
       "5. '328-04'\n",
       "6. '328-05'\n",
       "\n",
       "\n"
      ],
      "text/plain": [
       "[1] \"328-04\" \"328-04\" \"328-05\" \"328-05\" \"328-04\" \"328-05\""
      ]
     },
     "metadata": {},
     "output_type": "display_data"
    }
   ],
   "source": [
    "pbmc$Specimen.ID[ grepl(\"328\",pbmc$Specimen.ID) ]"
   ]
  },
  {
   "cell_type": "code",
   "execution_count": 10,
   "metadata": {
    "vscode": {
     "languageId": "r"
    }
   },
   "outputs": [
    {
     "data": {
      "text/html": [
       "<style>\n",
       ".list-inline {list-style: none; margin:0; padding: 0}\n",
       ".list-inline>li {display: inline-block}\n",
       ".list-inline>li:not(:last-child)::after {content: \"\\00b7\"; padding: 0 .5ex}\n",
       "</style>\n",
       "<ol class=list-inline><li>458</li><li>61</li></ol>\n"
      ],
      "text/latex": [
       "\\begin{enumerate*}\n",
       "\\item 458\n",
       "\\item 61\n",
       "\\end{enumerate*}\n"
      ],
      "text/markdown": [
       "1. 458\n",
       "2. 61\n",
       "\n",
       "\n"
      ],
      "text/plain": [
       "[1] 458  61"
      ]
     },
     "metadata": {},
     "output_type": "display_data"
    }
   ],
   "source": [
    "dim(pbmc)"
   ]
  },
  {
   "cell_type": "code",
   "execution_count": 11,
   "metadata": {
    "vscode": {
     "languageId": "r"
    }
   },
   "outputs": [],
   "source": [
    "# #CHP_329 is not included in metadata. as per DB, we focused on patients after 330. remove it\n",
    "# pbmc <- pbmc[pbmc$Specimen.ID != \"329-04\",]"
   ]
  },
  {
   "cell_type": "code",
   "execution_count": 12,
   "metadata": {
    "vscode": {
     "languageId": "r"
    }
   },
   "outputs": [
    {
     "data": {
      "text/html": [
       "<style>\n",
       ".list-inline {list-style: none; margin:0; padding: 0}\n",
       ".list-inline>li {display: inline-block}\n",
       ".list-inline>li:not(:last-child)::after {content: \"\\00b7\"; padding: 0 .5ex}\n",
       "</style>\n",
       "<ol class=list-inline><li>458</li><li>61</li></ol>\n"
      ],
      "text/latex": [
       "\\begin{enumerate*}\n",
       "\\item 458\n",
       "\\item 61\n",
       "\\end{enumerate*}\n"
      ],
      "text/markdown": [
       "1. 458\n",
       "2. 61\n",
       "\n",
       "\n"
      ],
      "text/plain": [
       "[1] 458  61"
      ]
     },
     "metadata": {},
     "output_type": "display_data"
    }
   ],
   "source": [
    "dim(pbmc)"
   ]
  },
  {
   "cell_type": "code",
   "execution_count": 13,
   "metadata": {
    "vscode": {
     "languageId": "r"
    }
   },
   "outputs": [],
   "source": [
    "pbmc$Colour.Legend <- NULL"
   ]
  },
  {
   "cell_type": "code",
   "execution_count": 14,
   "metadata": {
    "vscode": {
     "languageId": "r"
    }
   },
   "outputs": [],
   "source": [
    "missingsamples <- pbmc[ which(pbmc$Missing.Samples == \"***Potentially missing! Not found in specified location\"),]"
   ]
  },
  {
   "cell_type": "code",
   "execution_count": 15,
   "metadata": {
    "vscode": {
     "languageId": "r"
    }
   },
   "outputs": [],
   "source": [
    "missingsamples <- rbind(missingsamples, \n",
    "                       pbmc[ which(pbmc$Notes == \"Sample 423-02 is missing, this location is sample 413-02\"),])"
   ]
  },
  {
   "cell_type": "code",
   "execution_count": 16,
   "metadata": {
    "vscode": {
     "languageId": "r"
    }
   },
   "outputs": [
    {
     "data": {
      "text/html": [
       "<table class=\"dataframe\">\n",
       "<caption>A data.frame: 3 x 60</caption>\n",
       "<thead>\n",
       "\t<tr><th></th><th scope=col>Shipment.#</th><th scope=col>Batch</th><th scope=col>Original.Box#</th><th scope=col>Original.Box.Location</th><th scope=col>Specimen.ID</th><th scope=col>Date.Frozen</th><th scope=col>Study.Cohort</th><th scope=col>Sample.Type</th><th scope=col>Date.transferred.to.Pugh.Lab</th><th scope=col>Total.Cell.Number</th><th scope=col>...</th><th scope=col>Final.Capture.Vol.(uL)</th><th scope=col>Total.Capture.Library.Yield.(ng)</th><th scope=col>Miseq.for.Capture</th><th scope=col>Miseq.Flow.Cell.ID</th><th scope=col>Sent.for.Nextseq?</th><th scope=col>Date.Submitted.for.Seq</th><th scope=col>Pugh.Lab.Seq.ID</th><th scope=col>Vol.used.for.sequencing.(uL)</th><th scope=col>Vol.Remaining.(uL)</th><th scope=col>Capture.Notes</th></tr>\n",
       "\t<tr><th></th><th scope=col>&lt;dbl&gt;</th><th scope=col>&lt;chr&gt;</th><th scope=col>&lt;chr&gt;</th><th scope=col>&lt;chr&gt;</th><th scope=col>&lt;chr&gt;</th><th scope=col>&lt;chr&gt;</th><th scope=col>&lt;dbl&gt;</th><th scope=col>&lt;chr&gt;</th><th scope=col>&lt;dbl&gt;</th><th scope=col>&lt;chr&gt;</th><th scope=col>...</th><th scope=col>&lt;dbl&gt;</th><th scope=col>&lt;dbl&gt;</th><th scope=col>&lt;chr&gt;</th><th scope=col>&lt;chr&gt;</th><th scope=col>&lt;chr&gt;</th><th scope=col>&lt;chr&gt;</th><th scope=col>&lt;chr&gt;</th><th scope=col>&lt;dbl&gt;</th><th scope=col>&lt;dbl&gt;</th><th scope=col>&lt;chr&gt;</th></tr>\n",
       "</thead>\n",
       "<tbody>\n",
       "\t<tr><th scope=row>456</th><td>1</td><td>NA</td><td>NOT SENT   </td><td>NA</td><td>331-03</td><td>NA</td><td>NA</td><td>NA  </td><td>NA</td><td>3300000</td><td>...</td><td>NA</td><td>NA</td><td>NA</td><td>NA</td><td>NA</td><td>NA</td><td>NA</td><td>NA</td><td>NA</td><td>NA</td></tr>\n",
       "\t<tr><th scope=row>457</th><td>1</td><td>NA</td><td>NOT SENT   </td><td>NA</td><td>338-01</td><td>NA</td><td>NA</td><td>NA  </td><td>NA</td><td>600000 </td><td>...</td><td>NA</td><td>NA</td><td>NA</td><td>NA</td><td>NA</td><td>NA</td><td>NA</td><td>NA</td><td>NA</td><td>NA</td></tr>\n",
       "\t<tr><th scope=row>458</th><td>2</td><td>NA</td><td>Cell Box 2 </td><td>I5</td><td>423-02</td><td>NA</td><td>NA</td><td>Cell</td><td>NA</td><td>1530000</td><td>...</td><td>NA</td><td>NA</td><td>NA</td><td>NA</td><td>NA</td><td>NA</td><td>NA</td><td>NA</td><td>NA</td><td>NA</td></tr>\n",
       "</tbody>\n",
       "</table>\n"
      ],
      "text/latex": [
       "A data.frame: 3 x 60\n",
       "\\begin{tabular}{r|lllllllllllllllllllll}\n",
       "  & Shipment.\\# & Batch & Original.Box\\# & Original.Box.Location & Specimen.ID & Date.Frozen & Study.Cohort & Sample.Type & Date.transferred.to.Pugh.Lab & Total.Cell.Number & ... & Final.Capture.Vol.(uL) & Total.Capture.Library.Yield.(ng) & Miseq.for.Capture & Miseq.Flow.Cell.ID & Sent.for.Nextseq? & Date.Submitted.for.Seq & Pugh.Lab.Seq.ID & Vol.used.for.sequencing.(uL) & Vol.Remaining.(uL) & Capture.Notes\\\\\n",
       "  & <dbl> & <chr> & <chr> & <chr> & <chr> & <chr> & <dbl> & <chr> & <dbl> & <chr> & ... & <dbl> & <dbl> & <chr> & <chr> & <chr> & <chr> & <chr> & <dbl> & <dbl> & <chr>\\\\\n",
       "\\hline\n",
       "\t456 & 1 & NA & NOT SENT    & NA & 331-03 & NA & NA & NA   & NA & 3300000 & ... & NA & NA & NA & NA & NA & NA & NA & NA & NA & NA\\\\\n",
       "\t457 & 1 & NA & NOT SENT    & NA & 338-01 & NA & NA & NA   & NA & 600000  & ... & NA & NA & NA & NA & NA & NA & NA & NA & NA & NA\\\\\n",
       "\t458 & 2 & NA & Cell Box 2  & I5 & 423-02 & NA & NA & Cell & NA & 1530000 & ... & NA & NA & NA & NA & NA & NA & NA & NA & NA & NA\\\\\n",
       "\\end{tabular}\n"
      ],
      "text/markdown": [
       "\n",
       "A data.frame: 3 x 60\n",
       "\n",
       "| <!--/--> | Shipment.# &lt;dbl&gt; | Batch &lt;chr&gt; | Original.Box# &lt;chr&gt; | Original.Box.Location &lt;chr&gt; | Specimen.ID &lt;chr&gt; | Date.Frozen &lt;chr&gt; | Study.Cohort &lt;dbl&gt; | Sample.Type &lt;chr&gt; | Date.transferred.to.Pugh.Lab &lt;dbl&gt; | Total.Cell.Number &lt;chr&gt; | ... ... | Final.Capture.Vol.(uL) &lt;dbl&gt; | Total.Capture.Library.Yield.(ng) &lt;dbl&gt; | Miseq.for.Capture &lt;chr&gt; | Miseq.Flow.Cell.ID &lt;chr&gt; | Sent.for.Nextseq? &lt;chr&gt; | Date.Submitted.for.Seq &lt;chr&gt; | Pugh.Lab.Seq.ID &lt;chr&gt; | Vol.used.for.sequencing.(uL) &lt;dbl&gt; | Vol.Remaining.(uL) &lt;dbl&gt; | Capture.Notes &lt;chr&gt; |\n",
       "|---|---|---|---|---|---|---|---|---|---|---|---|---|---|---|---|---|---|---|---|---|---|\n",
       "| 456 | 1 | NA | NOT SENT    | NA | 331-03 | NA | NA | NA   | NA | 3300000 | ... | NA | NA | NA | NA | NA | NA | NA | NA | NA | NA |\n",
       "| 457 | 1 | NA | NOT SENT    | NA | 338-01 | NA | NA | NA   | NA | 600000  | ... | NA | NA | NA | NA | NA | NA | NA | NA | NA | NA |\n",
       "| 458 | 2 | NA | Cell Box 2  | I5 | 423-02 | NA | NA | Cell | NA | 1530000 | ... | NA | NA | NA | NA | NA | NA | NA | NA | NA | NA |\n",
       "\n"
      ],
      "text/plain": [
       "    Shipment.# Batch Original.Box# Original.Box.Location Specimen.ID\n",
       "456 1          NA    NOT SENT      NA                    331-03     \n",
       "457 1          NA    NOT SENT      NA                    338-01     \n",
       "458 2          NA    Cell Box 2    I5                    423-02     \n",
       "    Date.Frozen Study.Cohort Sample.Type Date.transferred.to.Pugh.Lab\n",
       "456 NA          NA           NA          NA                          \n",
       "457 NA          NA           NA          NA                          \n",
       "458 NA          NA           Cell        NA                          \n",
       "    Total.Cell.Number ... Final.Capture.Vol.(uL)\n",
       "456 3300000           ... NA                    \n",
       "457 600000            ... NA                    \n",
       "458 1530000           ... NA                    \n",
       "    Total.Capture.Library.Yield.(ng) Miseq.for.Capture Miseq.Flow.Cell.ID\n",
       "456 NA                               NA                NA                \n",
       "457 NA                               NA                NA                \n",
       "458 NA                               NA                NA                \n",
       "    Sent.for.Nextseq? Date.Submitted.for.Seq Pugh.Lab.Seq.ID\n",
       "456 NA                NA                     NA             \n",
       "457 NA                NA                     NA             \n",
       "458 NA                NA                     NA             \n",
       "    Vol.used.for.sequencing.(uL) Vol.Remaining.(uL) Capture.Notes\n",
       "456 NA                           NA                 NA           \n",
       "457 NA                           NA                 NA           \n",
       "458 NA                           NA                 NA           "
      ]
     },
     "metadata": {},
     "output_type": "display_data"
    }
   ],
   "source": [
    "missingsamples"
   ]
  },
  {
   "cell_type": "code",
   "execution_count": 161,
   "metadata": {
    "vscode": {
     "languageId": "r"
    }
   },
   "outputs": [],
   "source": [
    "#remove missing samples\n",
    "pbmc <- pbmc[ is.na(pbmc$Missing.Samples),]\n",
    "pbmc <- pbmc[! pbmc$Notes %in% \"Sample 423-02 is missing, this location is sample 413-02\",]"
   ]
  },
  {
   "cell_type": "code",
   "execution_count": 162,
   "metadata": {
    "vscode": {
     "languageId": "r"
    }
   },
   "outputs": [
    {
     "data": {
      "text/html": [
       "<style>\n",
       ".list-inline {list-style: none; margin:0; padding: 0}\n",
       ".list-inline>li {display: inline-block}\n",
       ".list-inline>li:not(:last-child)::after {content: \"\\00b7\"; padding: 0 .5ex}\n",
       "</style>\n",
       "<ol class=list-inline><li>454</li><li>61</li></ol>\n"
      ],
      "text/latex": [
       "\\begin{enumerate*}\n",
       "\\item 454\n",
       "\\item 61\n",
       "\\end{enumerate*}\n"
      ],
      "text/markdown": [
       "1. 454\n",
       "2. 61\n",
       "\n",
       "\n"
      ],
      "text/plain": [
       "[1] 454  61"
      ]
     },
     "metadata": {},
     "output_type": "display_data"
    }
   ],
   "source": [
    "dim(pbmc)"
   ]
  },
  {
   "cell_type": "code",
   "execution_count": 163,
   "metadata": {
    "vscode": {
     "languageId": "r"
    }
   },
   "outputs": [],
   "source": [
    "#remove empty entry\n",
    "pbmc <- pbmc[!is.na(pbmc$Specimen.ID), ]"
   ]
  },
  {
   "cell_type": "code",
   "execution_count": 164,
   "metadata": {
    "vscode": {
     "languageId": "r"
    }
   },
   "outputs": [
    {
     "data": {
      "text/html": [
       "454"
      ],
      "text/latex": [
       "454"
      ],
      "text/markdown": [
       "454"
      ],
      "text/plain": [
       "[1] 454"
      ]
     },
     "metadata": {},
     "output_type": "display_data"
    }
   ],
   "source": [
    " length(pbmc$Specimen.ID)"
   ]
  },
  {
   "cell_type": "code",
   "execution_count": 165,
   "metadata": {
    "vscode": {
     "languageId": "r"
    }
   },
   "outputs": [
    {
     "name": "stderr",
     "output_type": "stream",
     "text": [
      "Warning message in summary(as.numeric(pbmc$Total.Cell.Number)):\n",
      "\"NAs introduced by coercion\"\n"
     ]
    },
    {
     "data": {
      "text/plain": [
       "     Min.   1st Qu.    Median      Mean   3rd Qu.      Max.      NA's \n",
       "     9000   1030000   2000000   4457362   3825000 117000000        70 "
      ]
     },
     "metadata": {},
     "output_type": "display_data"
    }
   ],
   "source": [
    "summary(as.numeric(pbmc$Total.Cell.Number))"
   ]
  },
  {
   "cell_type": "code",
   "execution_count": 166,
   "metadata": {
    "vscode": {
     "languageId": "r"
    }
   },
   "outputs": [
    {
     "name": "stderr",
     "output_type": "stream",
     "text": [
      "Warning message in eval(expr, envir, enclos):\n",
      "\"NAs introduced by coercion\"\n"
     ]
    }
   ],
   "source": [
    "pbmc$Total.Cell.Number1 <- as.numeric(pbmc$Total.Cell.Number)"
   ]
  },
  {
   "cell_type": "code",
   "execution_count": 167,
   "metadata": {
    "vscode": {
     "languageId": "r"
    }
   },
   "outputs": [
    {
     "data": {
      "text/html": [
       "<style>\n",
       ".list-inline {list-style: none; margin:0; padding: 0}\n",
       ".list-inline>li {display: inline-block}\n",
       ".list-inline>li:not(:last-child)::after {content: \"\\00b7\"; padding: 0 .5ex}\n",
       "</style>\n",
       "<ol class=list-inline><li>'Shipment.#'</li><li>'Batch'</li><li>'Original.Box#'</li><li>'Original.Box.Location'</li><li>'Specimen.ID'</li><li>'Date.Frozen'</li><li>'Study.Cohort'</li><li>'Sample.Type'</li><li>'Date.transferred.to.Pugh.Lab'</li><li>'Total.Cell.Number'</li><li>'Cells.Used.For.Extraction'</li><li>'Extracted.By'</li><li>'Extracted.On'</li><li>'Lysis.Buffer.(ul)'</li><li>'DNA.elution.volume'</li><li>'RNA.elution.volume'</li><li>'DNA.Qubit.(ng/ul)'</li><li>'RNA.Qubit.(ng/uL)'</li><li>'DNA.total.(ng)'</li><li>'RNA.total.(ng)'</li><li>'Elution.Buffer.Type.RNA'</li><li>'Elution.Buffer.Type.DNA'</li><li>'Extraction.Protocol'</li><li>'Notes'</li><li>'Missing.Samples'</li><li>'Library.Prep.Date'</li><li>'Library.Prep.Technician'</li><li>'Sample.Vol.used.for.Library.Prep.(uL)'</li><li>'Amount.of.DNA.used.for.Library.Prep.(ng)'</li><li>'Amount.of.DNA.remaining.post-library.prep.(ng)'</li><li>'Library.ID'</li><li>'Adapter'</li><li>'Adapter.Sequence'</li><li>'Number.of.PCR.Cycles.used.for.Library.Amplification'</li><li>'Qubit.Concentration'</li><li>'Final.Library.Vol.(uL)'</li><li>'Total.Library.Yield.(ng)'</li><li>'Miseq.for.Library'</li><li>'Library.Miseq.Flow.Cell.ID'</li><li>'Library.Prep.Notes'</li><li>'Capture.Date'</li><li>'Capture.Technician'</li><li>'Vol.used.for.Capture.(uL)'</li><li>'Amount.of.Library.used.for.capture.(ng)'</li><li>'Amount.of.library.remaining.post-capture.(ng)'</li><li>'Capture.Pool.ID'</li><li>'Number.of.Libraries.to.Pool.for.1ug.target.capture'</li><li>'Number.of.1-step.PCR.Amp.Cycles.post-capture'</li><li>'Number.of.3-step.PCR.Amp.Cycles.post-capture'</li><li>'Qubit.Concentration.Post-Cap'</li><li>'Final.Capture.Vol.(uL)'</li><li>'Total.Capture.Library.Yield.(ng)'</li><li>'Miseq.for.Capture'</li><li>'Miseq.Flow.Cell.ID'</li><li>'Sent.for.Nextseq?'</li><li>'Date.Submitted.for.Seq'</li><li>'Pugh.Lab.Seq.ID'</li><li>'Vol.used.for.sequencing.(uL)'</li><li>'Vol.Remaining.(uL)'</li><li>'Capture.Notes'</li><li>'Total.Cell.Number1'</li></ol>\n"
      ],
      "text/latex": [
       "\\begin{enumerate*}\n",
       "\\item 'Shipment.\\#'\n",
       "\\item 'Batch'\n",
       "\\item 'Original.Box\\#'\n",
       "\\item 'Original.Box.Location'\n",
       "\\item 'Specimen.ID'\n",
       "\\item 'Date.Frozen'\n",
       "\\item 'Study.Cohort'\n",
       "\\item 'Sample.Type'\n",
       "\\item 'Date.transferred.to.Pugh.Lab'\n",
       "\\item 'Total.Cell.Number'\n",
       "\\item 'Cells.Used.For.Extraction'\n",
       "\\item 'Extracted.By'\n",
       "\\item 'Extracted.On'\n",
       "\\item 'Lysis.Buffer.(ul)'\n",
       "\\item 'DNA.elution.volume'\n",
       "\\item 'RNA.elution.volume'\n",
       "\\item 'DNA.Qubit.(ng/ul)'\n",
       "\\item 'RNA.Qubit.(ng/uL)'\n",
       "\\item 'DNA.total.(ng)'\n",
       "\\item 'RNA.total.(ng)'\n",
       "\\item 'Elution.Buffer.Type.RNA'\n",
       "\\item 'Elution.Buffer.Type.DNA'\n",
       "\\item 'Extraction.Protocol'\n",
       "\\item 'Notes'\n",
       "\\item 'Missing.Samples'\n",
       "\\item 'Library.Prep.Date'\n",
       "\\item 'Library.Prep.Technician'\n",
       "\\item 'Sample.Vol.used.for.Library.Prep.(uL)'\n",
       "\\item 'Amount.of.DNA.used.for.Library.Prep.(ng)'\n",
       "\\item 'Amount.of.DNA.remaining.post-library.prep.(ng)'\n",
       "\\item 'Library.ID'\n",
       "\\item 'Adapter'\n",
       "\\item 'Adapter.Sequence'\n",
       "\\item 'Number.of.PCR.Cycles.used.for.Library.Amplification'\n",
       "\\item 'Qubit.Concentration'\n",
       "\\item 'Final.Library.Vol.(uL)'\n",
       "\\item 'Total.Library.Yield.(ng)'\n",
       "\\item 'Miseq.for.Library'\n",
       "\\item 'Library.Miseq.Flow.Cell.ID'\n",
       "\\item 'Library.Prep.Notes'\n",
       "\\item 'Capture.Date'\n",
       "\\item 'Capture.Technician'\n",
       "\\item 'Vol.used.for.Capture.(uL)'\n",
       "\\item 'Amount.of.Library.used.for.capture.(ng)'\n",
       "\\item 'Amount.of.library.remaining.post-capture.(ng)'\n",
       "\\item 'Capture.Pool.ID'\n",
       "\\item 'Number.of.Libraries.to.Pool.for.1ug.target.capture'\n",
       "\\item 'Number.of.1-step.PCR.Amp.Cycles.post-capture'\n",
       "\\item 'Number.of.3-step.PCR.Amp.Cycles.post-capture'\n",
       "\\item 'Qubit.Concentration.Post-Cap'\n",
       "\\item 'Final.Capture.Vol.(uL)'\n",
       "\\item 'Total.Capture.Library.Yield.(ng)'\n",
       "\\item 'Miseq.for.Capture'\n",
       "\\item 'Miseq.Flow.Cell.ID'\n",
       "\\item 'Sent.for.Nextseq?'\n",
       "\\item 'Date.Submitted.for.Seq'\n",
       "\\item 'Pugh.Lab.Seq.ID'\n",
       "\\item 'Vol.used.for.sequencing.(uL)'\n",
       "\\item 'Vol.Remaining.(uL)'\n",
       "\\item 'Capture.Notes'\n",
       "\\item 'Total.Cell.Number1'\n",
       "\\end{enumerate*}\n"
      ],
      "text/markdown": [
       "1. 'Shipment.#'\n",
       "2. 'Batch'\n",
       "3. 'Original.Box#'\n",
       "4. 'Original.Box.Location'\n",
       "5. 'Specimen.ID'\n",
       "6. 'Date.Frozen'\n",
       "7. 'Study.Cohort'\n",
       "8. 'Sample.Type'\n",
       "9. 'Date.transferred.to.Pugh.Lab'\n",
       "10. 'Total.Cell.Number'\n",
       "11. 'Cells.Used.For.Extraction'\n",
       "12. 'Extracted.By'\n",
       "13. 'Extracted.On'\n",
       "14. 'Lysis.Buffer.(ul)'\n",
       "15. 'DNA.elution.volume'\n",
       "16. 'RNA.elution.volume'\n",
       "17. 'DNA.Qubit.(ng/ul)'\n",
       "18. 'RNA.Qubit.(ng/uL)'\n",
       "19. 'DNA.total.(ng)'\n",
       "20. 'RNA.total.(ng)'\n",
       "21. 'Elution.Buffer.Type.RNA'\n",
       "22. 'Elution.Buffer.Type.DNA'\n",
       "23. 'Extraction.Protocol'\n",
       "24. 'Notes'\n",
       "25. 'Missing.Samples'\n",
       "26. 'Library.Prep.Date'\n",
       "27. 'Library.Prep.Technician'\n",
       "28. 'Sample.Vol.used.for.Library.Prep.(uL)'\n",
       "29. 'Amount.of.DNA.used.for.Library.Prep.(ng)'\n",
       "30. 'Amount.of.DNA.remaining.post-library.prep.(ng)'\n",
       "31. 'Library.ID'\n",
       "32. 'Adapter'\n",
       "33. 'Adapter.Sequence'\n",
       "34. 'Number.of.PCR.Cycles.used.for.Library.Amplification'\n",
       "35. 'Qubit.Concentration'\n",
       "36. 'Final.Library.Vol.(uL)'\n",
       "37. 'Total.Library.Yield.(ng)'\n",
       "38. 'Miseq.for.Library'\n",
       "39. 'Library.Miseq.Flow.Cell.ID'\n",
       "40. 'Library.Prep.Notes'\n",
       "41. 'Capture.Date'\n",
       "42. 'Capture.Technician'\n",
       "43. 'Vol.used.for.Capture.(uL)'\n",
       "44. 'Amount.of.Library.used.for.capture.(ng)'\n",
       "45. 'Amount.of.library.remaining.post-capture.(ng)'\n",
       "46. 'Capture.Pool.ID'\n",
       "47. 'Number.of.Libraries.to.Pool.for.1ug.target.capture'\n",
       "48. 'Number.of.1-step.PCR.Amp.Cycles.post-capture'\n",
       "49. 'Number.of.3-step.PCR.Amp.Cycles.post-capture'\n",
       "50. 'Qubit.Concentration.Post-Cap'\n",
       "51. 'Final.Capture.Vol.(uL)'\n",
       "52. 'Total.Capture.Library.Yield.(ng)'\n",
       "53. 'Miseq.for.Capture'\n",
       "54. 'Miseq.Flow.Cell.ID'\n",
       "55. 'Sent.for.Nextseq?'\n",
       "56. 'Date.Submitted.for.Seq'\n",
       "57. 'Pugh.Lab.Seq.ID'\n",
       "58. 'Vol.used.for.sequencing.(uL)'\n",
       "59. 'Vol.Remaining.(uL)'\n",
       "60. 'Capture.Notes'\n",
       "61. 'Total.Cell.Number1'\n",
       "\n",
       "\n"
      ],
      "text/plain": [
       " [1] \"Shipment.#\"                                         \n",
       " [2] \"Batch\"                                              \n",
       " [3] \"Original.Box#\"                                      \n",
       " [4] \"Original.Box.Location\"                              \n",
       " [5] \"Specimen.ID\"                                        \n",
       " [6] \"Date.Frozen\"                                        \n",
       " [7] \"Study.Cohort\"                                       \n",
       " [8] \"Sample.Type\"                                        \n",
       " [9] \"Date.transferred.to.Pugh.Lab\"                       \n",
       "[10] \"Total.Cell.Number\"                                  \n",
       "[11] \"Cells.Used.For.Extraction\"                          \n",
       "[12] \"Extracted.By\"                                       \n",
       "[13] \"Extracted.On\"                                       \n",
       "[14] \"Lysis.Buffer.(ul)\"                                  \n",
       "[15] \"DNA.elution.volume\"                                 \n",
       "[16] \"RNA.elution.volume\"                                 \n",
       "[17] \"DNA.Qubit.(ng/ul)\"                                  \n",
       "[18] \"RNA.Qubit.(ng/uL)\"                                  \n",
       "[19] \"DNA.total.(ng)\"                                     \n",
       "[20] \"RNA.total.(ng)\"                                     \n",
       "[21] \"Elution.Buffer.Type.RNA\"                            \n",
       "[22] \"Elution.Buffer.Type.DNA\"                            \n",
       "[23] \"Extraction.Protocol\"                                \n",
       "[24] \"Notes\"                                              \n",
       "[25] \"Missing.Samples\"                                    \n",
       "[26] \"Library.Prep.Date\"                                  \n",
       "[27] \"Library.Prep.Technician\"                            \n",
       "[28] \"Sample.Vol.used.for.Library.Prep.(uL)\"              \n",
       "[29] \"Amount.of.DNA.used.for.Library.Prep.(ng)\"           \n",
       "[30] \"Amount.of.DNA.remaining.post-library.prep.(ng)\"     \n",
       "[31] \"Library.ID\"                                         \n",
       "[32] \"Adapter\"                                            \n",
       "[33] \"Adapter.Sequence\"                                   \n",
       "[34] \"Number.of.PCR.Cycles.used.for.Library.Amplification\"\n",
       "[35] \"Qubit.Concentration\"                                \n",
       "[36] \"Final.Library.Vol.(uL)\"                             \n",
       "[37] \"Total.Library.Yield.(ng)\"                           \n",
       "[38] \"Miseq.for.Library\"                                  \n",
       "[39] \"Library.Miseq.Flow.Cell.ID\"                         \n",
       "[40] \"Library.Prep.Notes\"                                 \n",
       "[41] \"Capture.Date\"                                       \n",
       "[42] \"Capture.Technician\"                                 \n",
       "[43] \"Vol.used.for.Capture.(uL)\"                          \n",
       "[44] \"Amount.of.Library.used.for.capture.(ng)\"            \n",
       "[45] \"Amount.of.library.remaining.post-capture.(ng)\"      \n",
       "[46] \"Capture.Pool.ID\"                                    \n",
       "[47] \"Number.of.Libraries.to.Pool.for.1ug.target.capture\" \n",
       "[48] \"Number.of.1-step.PCR.Amp.Cycles.post-capture\"       \n",
       "[49] \"Number.of.3-step.PCR.Amp.Cycles.post-capture\"       \n",
       "[50] \"Qubit.Concentration.Post-Cap\"                       \n",
       "[51] \"Final.Capture.Vol.(uL)\"                             \n",
       "[52] \"Total.Capture.Library.Yield.(ng)\"                   \n",
       "[53] \"Miseq.for.Capture\"                                  \n",
       "[54] \"Miseq.Flow.Cell.ID\"                                 \n",
       "[55] \"Sent.for.Nextseq?\"                                  \n",
       "[56] \"Date.Submitted.for.Seq\"                             \n",
       "[57] \"Pugh.Lab.Seq.ID\"                                    \n",
       "[58] \"Vol.used.for.sequencing.(uL)\"                       \n",
       "[59] \"Vol.Remaining.(uL)\"                                 \n",
       "[60] \"Capture.Notes\"                                      \n",
       "[61] \"Total.Cell.Number1\"                                 "
      ]
     },
     "metadata": {},
     "output_type": "display_data"
    }
   ],
   "source": [
    "colnames(pbmc)"
   ]
  },
  {
   "cell_type": "code",
   "execution_count": 168,
   "metadata": {
    "vscode": {
     "languageId": "r"
    }
   },
   "outputs": [
    {
     "data": {
      "text/html": [
       "<table class=\"dataframe\">\n",
       "<caption>A data.frame: 6 x 26</caption>\n",
       "<thead>\n",
       "\t<tr><th></th><th scope=col>Total.Cell.Number</th><th scope=col>Cells.Used.For.Extraction</th><th scope=col>Extracted.By</th><th scope=col>Extracted.On</th><th scope=col>Lysis.Buffer.(ul)</th><th scope=col>DNA.elution.volume</th><th scope=col>RNA.elution.volume</th><th scope=col>DNA.Qubit.(ng/ul)</th><th scope=col>RNA.Qubit.(ng/uL)</th><th scope=col>DNA.total.(ng)</th><th scope=col>...</th><th scope=col>Library.Prep.Date</th><th scope=col>Library.Prep.Technician</th><th scope=col>Sample.Vol.used.for.Library.Prep.(uL)</th><th scope=col>Amount.of.DNA.used.for.Library.Prep.(ng)</th><th scope=col>Amount.of.DNA.remaining.post-library.prep.(ng)</th><th scope=col>Library.ID</th><th scope=col>Adapter</th><th scope=col>Adapter.Sequence</th><th scope=col>Number.of.PCR.Cycles.used.for.Library.Amplification</th><th scope=col>Qubit.Concentration</th></tr>\n",
       "\t<tr><th></th><th scope=col>&lt;chr&gt;</th><th scope=col>&lt;chr&gt;</th><th scope=col>&lt;chr&gt;</th><th scope=col>&lt;dbl&gt;</th><th scope=col>&lt;chr&gt;</th><th scope=col>&lt;dbl&gt;</th><th scope=col>&lt;dbl&gt;</th><th scope=col>&lt;chr&gt;</th><th scope=col>&lt;chr&gt;</th><th scope=col>&lt;dbl&gt;</th><th scope=col>...</th><th scope=col>&lt;chr&gt;</th><th scope=col>&lt;chr&gt;</th><th scope=col>&lt;chr&gt;</th><th scope=col>&lt;dbl&gt;</th><th scope=col>&lt;dbl&gt;</th><th scope=col>&lt;chr&gt;</th><th scope=col>&lt;chr&gt;</th><th scope=col>&lt;chr&gt;</th><th scope=col>&lt;chr&gt;</th><th scope=col>&lt;dbl&gt;</th></tr>\n",
       "</thead>\n",
       "<tbody>\n",
       "\t<tr><th scope=row>1</th><td>700000 </td><td>All</td><td>SP</td><td>43488</td><td>350</td><td>100</td><td>80</td><td>61.6              </td><td>16.3</td><td> 6160</td><td>...</td><td>06-05-2019</td><td>JW/RP</td><td>22.6</td><td>600</td><td> 5560</td><td>CHP_330-05_PBMC_DNA</td><td>AD2</td><td>CTAAGTGG</td><td>2</td><td>17.2</td></tr>\n",
       "\t<tr><th scope=row>2</th><td>2900000</td><td>All</td><td>SP</td><td>43488</td><td>350</td><td>100</td><td>80</td><td>112               </td><td>32.6</td><td>11200</td><td>...</td><td>06-05-2019</td><td>JW/RP</td><td>19.2</td><td>600</td><td>10600</td><td>CHP_329-04_PBMC_DNA</td><td>AD1</td><td>ACGTCACA</td><td>2</td><td>41.8</td></tr>\n",
       "\t<tr><th scope=row>3</th><td>2020000</td><td>All</td><td>SP</td><td>43488</td><td>350</td><td>100</td><td>80</td><td>37.799999999999997</td><td>54.2</td><td> 3780</td><td>...</td><td>06-05-2019</td><td>JW/RP</td><td>45.4</td><td>600</td><td> 3180</td><td>CHP_331-05_PBMC_DNA</td><td>AD4</td><td>TGACCATC</td><td>2</td><td>24.2</td></tr>\n",
       "\t<tr><th scope=row>4</th><td>3300000</td><td>All</td><td>SP</td><td>43488</td><td>350</td><td>100</td><td>80</td><td>97                </td><td>17.2</td><td> 9700</td><td>...</td><td>06-05-2019</td><td>JW/RP</td><td>16.3</td><td>600</td><td> 9100</td><td>CHP_331-04_PBMC_DNA</td><td>AD3</td><td>TGTAACCG</td><td>2</td><td>32.4</td></tr>\n",
       "\t<tr><th scope=row>5</th><td>341000 </td><td>All</td><td>SP</td><td>43488</td><td>350</td><td>100</td><td>80</td><td>14.1              </td><td>10.5</td><td> 1410</td><td>...</td><td>06-05-2019</td><td>JW/RP</td><td>80.2</td><td>600</td><td>  810</td><td>CHP_338-05_PBMC_DNA</td><td>AD6</td><td>TCTCGGTT</td><td>4</td><td>10.6</td></tr>\n",
       "\t<tr><th scope=row>6</th><td>600000 </td><td>All</td><td>SP</td><td>43488</td><td>350</td><td>100</td><td>80</td><td>24.6              </td><td>21.2</td><td> 2460</td><td>...</td><td>06-05-2019</td><td>JW/RP</td><td>45.1</td><td>600</td><td> 1860</td><td>CHP_338-04_PBMC_DNA</td><td>AD5</td><td>AACTTGGC</td><td>2</td><td>18.4</td></tr>\n",
       "</tbody>\n",
       "</table>\n"
      ],
      "text/latex": [
       "A data.frame: 6 x 26\n",
       "\\begin{tabular}{r|lllllllllllllllllllll}\n",
       "  & Total.Cell.Number & Cells.Used.For.Extraction & Extracted.By & Extracted.On & Lysis.Buffer.(ul) & DNA.elution.volume & RNA.elution.volume & DNA.Qubit.(ng/ul) & RNA.Qubit.(ng/uL) & DNA.total.(ng) & ... & Library.Prep.Date & Library.Prep.Technician & Sample.Vol.used.for.Library.Prep.(uL) & Amount.of.DNA.used.for.Library.Prep.(ng) & Amount.of.DNA.remaining.post-library.prep.(ng) & Library.ID & Adapter & Adapter.Sequence & Number.of.PCR.Cycles.used.for.Library.Amplification & Qubit.Concentration\\\\\n",
       "  & <chr> & <chr> & <chr> & <dbl> & <chr> & <dbl> & <dbl> & <chr> & <chr> & <dbl> & ... & <chr> & <chr> & <chr> & <dbl> & <dbl> & <chr> & <chr> & <chr> & <chr> & <dbl>\\\\\n",
       "\\hline\n",
       "\t1 & 700000  & All & SP & 43488 & 350 & 100 & 80 & 61.6               & 16.3 &  6160 & ... & 06-05-2019 & JW/RP & 22.6 & 600 &  5560 & CHP\\_330-05\\_PBMC\\_DNA & AD2 & CTAAGTGG & 2 & 17.2\\\\\n",
       "\t2 & 2900000 & All & SP & 43488 & 350 & 100 & 80 & 112                & 32.6 & 11200 & ... & 06-05-2019 & JW/RP & 19.2 & 600 & 10600 & CHP\\_329-04\\_PBMC\\_DNA & AD1 & ACGTCACA & 2 & 41.8\\\\\n",
       "\t3 & 2020000 & All & SP & 43488 & 350 & 100 & 80 & 37.799999999999997 & 54.2 &  3780 & ... & 06-05-2019 & JW/RP & 45.4 & 600 &  3180 & CHP\\_331-05\\_PBMC\\_DNA & AD4 & TGACCATC & 2 & 24.2\\\\\n",
       "\t4 & 3300000 & All & SP & 43488 & 350 & 100 & 80 & 97                 & 17.2 &  9700 & ... & 06-05-2019 & JW/RP & 16.3 & 600 &  9100 & CHP\\_331-04\\_PBMC\\_DNA & AD3 & TGTAACCG & 2 & 32.4\\\\\n",
       "\t5 & 341000  & All & SP & 43488 & 350 & 100 & 80 & 14.1               & 10.5 &  1410 & ... & 06-05-2019 & JW/RP & 80.2 & 600 &   810 & CHP\\_338-05\\_PBMC\\_DNA & AD6 & TCTCGGTT & 4 & 10.6\\\\\n",
       "\t6 & 600000  & All & SP & 43488 & 350 & 100 & 80 & 24.6               & 21.2 &  2460 & ... & 06-05-2019 & JW/RP & 45.1 & 600 &  1860 & CHP\\_338-04\\_PBMC\\_DNA & AD5 & AACTTGGC & 2 & 18.4\\\\\n",
       "\\end{tabular}\n"
      ],
      "text/markdown": [
       "\n",
       "A data.frame: 6 x 26\n",
       "\n",
       "| <!--/--> | Total.Cell.Number &lt;chr&gt; | Cells.Used.For.Extraction &lt;chr&gt; | Extracted.By &lt;chr&gt; | Extracted.On &lt;dbl&gt; | Lysis.Buffer.(ul) &lt;chr&gt; | DNA.elution.volume &lt;dbl&gt; | RNA.elution.volume &lt;dbl&gt; | DNA.Qubit.(ng/ul) &lt;chr&gt; | RNA.Qubit.(ng/uL) &lt;chr&gt; | DNA.total.(ng) &lt;dbl&gt; | ... ... | Library.Prep.Date &lt;chr&gt; | Library.Prep.Technician &lt;chr&gt; | Sample.Vol.used.for.Library.Prep.(uL) &lt;chr&gt; | Amount.of.DNA.used.for.Library.Prep.(ng) &lt;dbl&gt; | Amount.of.DNA.remaining.post-library.prep.(ng) &lt;dbl&gt; | Library.ID &lt;chr&gt; | Adapter &lt;chr&gt; | Adapter.Sequence &lt;chr&gt; | Number.of.PCR.Cycles.used.for.Library.Amplification &lt;chr&gt; | Qubit.Concentration &lt;dbl&gt; |\n",
       "|---|---|---|---|---|---|---|---|---|---|---|---|---|---|---|---|---|---|---|---|---|---|\n",
       "| 1 | 700000  | All | SP | 43488 | 350 | 100 | 80 | 61.6               | 16.3 |  6160 | ... | 06-05-2019 | JW/RP | 22.6 | 600 |  5560 | CHP_330-05_PBMC_DNA | AD2 | CTAAGTGG | 2 | 17.2 |\n",
       "| 2 | 2900000 | All | SP | 43488 | 350 | 100 | 80 | 112                | 32.6 | 11200 | ... | 06-05-2019 | JW/RP | 19.2 | 600 | 10600 | CHP_329-04_PBMC_DNA | AD1 | ACGTCACA | 2 | 41.8 |\n",
       "| 3 | 2020000 | All | SP | 43488 | 350 | 100 | 80 | 37.799999999999997 | 54.2 |  3780 | ... | 06-05-2019 | JW/RP | 45.4 | 600 |  3180 | CHP_331-05_PBMC_DNA | AD4 | TGACCATC | 2 | 24.2 |\n",
       "| 4 | 3300000 | All | SP | 43488 | 350 | 100 | 80 | 97                 | 17.2 |  9700 | ... | 06-05-2019 | JW/RP | 16.3 | 600 |  9100 | CHP_331-04_PBMC_DNA | AD3 | TGTAACCG | 2 | 32.4 |\n",
       "| 5 | 341000  | All | SP | 43488 | 350 | 100 | 80 | 14.1               | 10.5 |  1410 | ... | 06-05-2019 | JW/RP | 80.2 | 600 |   810 | CHP_338-05_PBMC_DNA | AD6 | TCTCGGTT | 4 | 10.6 |\n",
       "| 6 | 600000  | All | SP | 43488 | 350 | 100 | 80 | 24.6               | 21.2 |  2460 | ... | 06-05-2019 | JW/RP | 45.1 | 600 |  1860 | CHP_338-04_PBMC_DNA | AD5 | AACTTGGC | 2 | 18.4 |\n",
       "\n"
      ],
      "text/plain": [
       "  Total.Cell.Number Cells.Used.For.Extraction Extracted.By Extracted.On\n",
       "1 700000            All                       SP           43488       \n",
       "2 2900000           All                       SP           43488       \n",
       "3 2020000           All                       SP           43488       \n",
       "4 3300000           All                       SP           43488       \n",
       "5 341000            All                       SP           43488       \n",
       "6 600000            All                       SP           43488       \n",
       "  Lysis.Buffer.(ul) DNA.elution.volume RNA.elution.volume DNA.Qubit.(ng/ul) \n",
       "1 350               100                80                 61.6              \n",
       "2 350               100                80                 112               \n",
       "3 350               100                80                 37.799999999999997\n",
       "4 350               100                80                 97                \n",
       "5 350               100                80                 14.1              \n",
       "6 350               100                80                 24.6              \n",
       "  RNA.Qubit.(ng/uL) DNA.total.(ng) ... Library.Prep.Date\n",
       "1 16.3               6160          ... 06-05-2019       \n",
       "2 32.6              11200          ... 06-05-2019       \n",
       "3 54.2               3780          ... 06-05-2019       \n",
       "4 17.2               9700          ... 06-05-2019       \n",
       "5 10.5               1410          ... 06-05-2019       \n",
       "6 21.2               2460          ... 06-05-2019       \n",
       "  Library.Prep.Technician Sample.Vol.used.for.Library.Prep.(uL)\n",
       "1 JW/RP                   22.6                                 \n",
       "2 JW/RP                   19.2                                 \n",
       "3 JW/RP                   45.4                                 \n",
       "4 JW/RP                   16.3                                 \n",
       "5 JW/RP                   80.2                                 \n",
       "6 JW/RP                   45.1                                 \n",
       "  Amount.of.DNA.used.for.Library.Prep.(ng)\n",
       "1 600                                     \n",
       "2 600                                     \n",
       "3 600                                     \n",
       "4 600                                     \n",
       "5 600                                     \n",
       "6 600                                     \n",
       "  Amount.of.DNA.remaining.post-library.prep.(ng) Library.ID          Adapter\n",
       "1  5560                                          CHP_330-05_PBMC_DNA AD2    \n",
       "2 10600                                          CHP_329-04_PBMC_DNA AD1    \n",
       "3  3180                                          CHP_331-05_PBMC_DNA AD4    \n",
       "4  9100                                          CHP_331-04_PBMC_DNA AD3    \n",
       "5   810                                          CHP_338-05_PBMC_DNA AD6    \n",
       "6  1860                                          CHP_338-04_PBMC_DNA AD5    \n",
       "  Adapter.Sequence Number.of.PCR.Cycles.used.for.Library.Amplification\n",
       "1 CTAAGTGG         2                                                  \n",
       "2 ACGTCACA         2                                                  \n",
       "3 TGACCATC         2                                                  \n",
       "4 TGTAACCG         2                                                  \n",
       "5 TCTCGGTT         4                                                  \n",
       "6 AACTTGGC         2                                                  \n",
       "  Qubit.Concentration\n",
       "1 17.2               \n",
       "2 41.8               \n",
       "3 24.2               \n",
       "4 32.4               \n",
       "5 10.6               \n",
       "6 18.4               "
      ]
     },
     "metadata": {},
     "output_type": "display_data"
    }
   ],
   "source": [
    "head(pbmc[,10:35])"
   ]
  },
  {
   "cell_type": "code",
   "execution_count": 169,
   "metadata": {
    "vscode": {
     "languageId": "r"
    }
   },
   "outputs": [
    {
     "data": {
      "text/html": [
       "<style>\n",
       ".list-inline {list-style: none; margin:0; padding: 0}\n",
       ".list-inline>li {display: inline-block}\n",
       ".list-inline>li:not(:last-child)::after {content: \"\\00b7\"; padding: 0 .5ex}\n",
       "</style>\n",
       "<ol class=list-inline><li>600</li><li>600</li><li>600</li><li>600</li><li>600</li><li>600</li></ol>\n"
      ],
      "text/latex": [
       "\\begin{enumerate*}\n",
       "\\item 600\n",
       "\\item 600\n",
       "\\item 600\n",
       "\\item 600\n",
       "\\item 600\n",
       "\\item 600\n",
       "\\end{enumerate*}\n"
      ],
      "text/markdown": [
       "1. 600\n",
       "2. 600\n",
       "3. 600\n",
       "4. 600\n",
       "5. 600\n",
       "6. 600\n",
       "\n",
       "\n"
      ],
      "text/plain": [
       "[1] 600 600 600 600 600 600"
      ]
     },
     "metadata": {},
     "output_type": "display_data"
    }
   ],
   "source": [
    "head(pbmc$`Amount.of.DNA.used.for.Library.Prep.(ng)`)"
   ]
  },
  {
   "cell_type": "code",
   "execution_count": 172,
   "metadata": {
    "vscode": {
     "languageId": "r"
    }
   },
   "outputs": [],
   "source": [
    "tmp <- pbmc[ which(pbmc$`Amount.of.DNA.used.for.Library.Prep.(ng)` == 600),]"
   ]
  },
  {
   "cell_type": "code",
   "execution_count": 173,
   "metadata": {
    "vscode": {
     "languageId": "r"
    }
   },
   "outputs": [
    {
     "data": {
      "text/plain": [
       "     Min.   1st Qu.    Median      Mean   3rd Qu.      Max.      NA's \n",
       "   170000   1562500   2700000   6343817   5675000 117000000         2 "
      ]
     },
     "metadata": {},
     "output_type": "display_data"
    }
   ],
   "source": [
    "summary(tmp$Total.Cell.Number1)"
   ]
  },
  {
   "cell_type": "code",
   "execution_count": 174,
   "metadata": {
    "vscode": {
     "languageId": "r"
    }
   },
   "outputs": [
    {
     "data": {
      "text/plain": [
       "   Min. 1st Qu.  Median    Mean 3rd Qu.    Max. \n",
       "    665    2480    4760    8889    9425   81200 "
      ]
     },
     "metadata": {},
     "output_type": "display_data"
    }
   ],
   "source": [
    "summary(tmp$`DNA.total.(ng)`)"
   ]
  },
  {
   "cell_type": "code",
   "execution_count": 181,
   "metadata": {
    "vscode": {
     "languageId": "r"
    }
   },
   "outputs": [
    {
     "name": "stderr",
     "output_type": "stream",
     "text": [
      "\u001b[1m\u001b[22m`geom_smooth()` using formula = 'y ~ x'\n"
     ]
    },
    {
     "data": {
      "image/png": "[encoded data removed]",
      "text/plain": [
       "plot without title"
      ]
     },
     "metadata": {
      "image/png": {
       "height": 420,
       "width": 420
      }
     },
     "output_type": "display_data"
    }
   ],
   "source": [
    "ggplot(data = tmp[ which(tmp$Total.Cell.Number1 < 30000000),], aes( y= `DNA.total.(ng)`, x = Total.Cell.Number1)) + geom_point() + geom_smooth( method = \"lm\")"
   ]
  },
  {
   "cell_type": "code",
   "execution_count": 183,
   "metadata": {
    "vscode": {
     "languageId": "r"
    }
   },
   "outputs": [
    {
     "data": {
      "text/plain": [
       "\n",
       "Call:\n",
       "lm(formula = `DNA.total.(ng)` ~ Total.Cell.Number1, data = tmp[which(tmp$Total.Cell.Number1 < \n",
       "    3e+07), ])\n",
       "\n",
       "Coefficients:\n",
       "       (Intercept)  Total.Cell.Number1  \n",
       "         1.577e+03           1.447e-03  \n"
      ]
     },
     "metadata": {},
     "output_type": "display_data"
    }
   ],
   "source": [
    "lm(`DNA.total.(ng)` ~ Total.Cell.Number1, data = tmp[ which(tmp$Total.Cell.Number1 < 30000000),])"
   ]
  },
  {
   "cell_type": "code",
   "execution_count": 184,
   "metadata": {
    "vscode": {
     "languageId": "r"
    }
   },
   "outputs": [],
   "source": [
    "mod <- lm(`DNA.total.(ng)` ~ Total.Cell.Number1, data = tmp[ which(tmp$Total.Cell.Number1 < 30000000),])"
   ]
  },
  {
   "cell_type": "code",
   "execution_count": 191,
   "metadata": {
    "vscode": {
     "languageId": "r"
    }
   },
   "outputs": [
    {
     "data": {
      "text/html": [
       "<dl>\n",
       "\t<dt>$fit</dt>\n",
       "\t\t<dd><table class=\"dataframe\">\n",
       "<caption>A matrix: 1 x 3 of type dbl</caption>\n",
       "<thead>\n",
       "\t<tr><th></th><th scope=col>fit</th><th scope=col>lwr</th><th scope=col>upr</th></tr>\n",
       "</thead>\n",
       "<tbody>\n",
       "\t<tr><th scope=row>1</th><td>1721.734</td><td>346.635</td><td>3096.832</td></tr>\n",
       "</tbody>\n",
       "</table>\n",
       "</dd>\n",
       "\t<dt>$se.fit</dt>\n",
       "\t\t<dd>697.217058490054</dd>\n",
       "\t<dt>$df</dt>\n",
       "\t\t<dd>194</dd>\n",
       "\t<dt>$residual.scale</dt>\n",
       "\t\t<dd>7132.56369698801</dd>\n",
       "</dl>\n"
      ],
      "text/latex": [
       "\\begin{description}\n",
       "\\item[\\$fit] A matrix: 1 x 3 of type dbl\n",
       "\\begin{tabular}{r|lll}\n",
       "  & fit & lwr & upr\\\\\n",
       "\\hline\n",
       "\t1 & 1721.734 & 346.635 & 3096.832\\\\\n",
       "\\end{tabular}\n",
       "\n",
       "\\item[\\$se.fit] 697.217058490054\n",
       "\\item[\\$df] 194\n",
       "\\item[\\$residual.scale] 7132.56369698801\n",
       "\\end{description}\n"
      ],
      "text/markdown": [
       "$fit\n",
       ":   \n",
       "A matrix: 1 x 3 of type dbl\n",
       "\n",
       "| <!--/--> | fit | lwr | upr |\n",
       "|---|---|---|---|\n",
       "| 1 | 1721.734 | 346.635 | 3096.832 |\n",
       "\n",
       "\n",
       "$se.fit\n",
       ":   697.217058490054\n",
       "$df\n",
       ":   194\n",
       "$residual.scale\n",
       ":   7132.56369698801\n",
       "\n",
       "\n"
      ],
      "text/plain": [
       "$fit\n",
       "       fit     lwr      upr\n",
       "1 1721.734 346.635 3096.832\n",
       "\n",
       "$se.fit\n",
       "[1] 697.2171\n",
       "\n",
       "$df\n",
       "[1] 194\n",
       "\n",
       "$residual.scale\n",
       "[1] 7132.564\n"
      ]
     },
     "metadata": {},
     "output_type": "display_data"
    }
   ],
   "source": [
    "f3 <- data.frame(`Total.Cell.Number1` = 100000)\n",
    "predict(mod, f3, se.fit = TRUE, interval = \"confidence\")"
   ]
  },
  {
   "cell_type": "code",
   "execution_count": null,
   "metadata": {
    "vscode": {
     "languageId": "r"
    }
   },
   "outputs": [],
   "source": []
  },
  {
   "cell_type": "code",
   "execution_count": 127,
   "metadata": {
    "vscode": {
     "languageId": "r"
    }
   },
   "outputs": [
    {
     "data": {
      "text/html": [
       "<style>\n",
       ".dl-inline {width: auto; margin:0; padding: 0}\n",
       ".dl-inline>dt, .dl-inline>dd {float: none; width: auto; display: inline-block}\n",
       ".dl-inline>dt::after {content: \":\\0020\"; padding-right: .5ex}\n",
       ".dl-inline>dt:not(:first-of-type) {padding-left: .5ex}\n",
       "</style><dl class=dl-inline><dt>1</dt><dd>-1.80572375183356</dd><dt>2</dt><dd>1.09683989633841</dd><dt>3</dt><dd>3.25235863439064</dd><dt>4</dt><dd>0.419411764507233</dd><dt>5</dt><dd>1.37880443228674</dd><dt>6</dt><dd>1.47649938592441</dd><dt>7</dt><dd>-0.173712948119123</dd><dt>8</dt><dd>0.784924806161748</dd><dt>9</dt><dd>1.17445719197595</dd><dt>10</dt><dd>-3.22693348353078</dd><dt>11</dt><dd>-1.71934283821537</dd><dt>12</dt><dd>-0.300199359406506</dd><dt>13</dt><dd>-2.11512169155871</dd><dt>14</dt><dd>-0.0308036019781809</dd><dt>15</dt><dd>1.04108977033161</dd></dl>\n"
      ],
      "text/latex": [
       "\\begin{description*}\n",
       "\\item[1] -1.80572375183356\n",
       "\\item[2] 1.09683989633841\n",
       "\\item[3] 3.25235863439064\n",
       "\\item[4] 0.419411764507233\n",
       "\\item[5] 1.37880443228674\n",
       "\\item[6] 1.47649938592441\n",
       "\\item[7] -0.173712948119123\n",
       "\\item[8] 0.784924806161748\n",
       "\\item[9] 1.17445719197595\n",
       "\\item[10] -3.22693348353078\n",
       "\\item[11] -1.71934283821537\n",
       "\\item[12] -0.300199359406506\n",
       "\\item[13] -2.11512169155871\n",
       "\\item[14] -0.0308036019781809\n",
       "\\item[15] 1.04108977033161\n",
       "\\end{description*}\n"
      ],
      "text/markdown": [
       "1\n",
       ":   -1.805723751833562\n",
       ":   1.096839896338413\n",
       ":   3.252358634390644\n",
       ":   0.4194117645072335\n",
       ":   1.378804432286746\n",
       ":   1.476499385924417\n",
       ":   -0.1737129481191238\n",
       ":   0.7849248061617489\n",
       ":   1.1744571919759510\n",
       ":   -3.2269334835307811\n",
       ":   -1.7193428382153712\n",
       ":   -0.30019935940650613\n",
       ":   -2.1151216915587114\n",
       ":   -0.030803601978180915\n",
       ":   1.04108977033161\n",
       "\n"
      ],
      "text/plain": [
       "         1          2          3          4          5          6          7 \n",
       "-1.8057238  1.0968399  3.2523586  0.4194118  1.3788044  1.4764994 -0.1737129 \n",
       "         8          9         10         11         12         13         14 \n",
       " 0.7849248  1.1744572 -3.2269335 -1.7193428 -0.3001994 -2.1151217 -0.0308036 \n",
       "        15 \n",
       " 1.0410898 "
      ]
     },
     "metadata": {},
     "output_type": "display_data"
    },
    {
     "data": {
      "text/html": [
       "<dl>\n",
       "\t<dt>$fit</dt>\n",
       "\t\t<dd><style>\n",
       ".dl-inline {width: auto; margin:0; padding: 0}\n",
       ".dl-inline>dt, .dl-inline>dd {float: none; width: auto; display: inline-block}\n",
       ".dl-inline>dt::after {content: \":\\0020\"; padding-right: .5ex}\n",
       ".dl-inline>dt:not(:first-of-type) {padding-left: .5ex}\n",
       "</style><dl class=dl-inline><dt>1</dt><dd>-4.00408405261957</dd><dt>2</dt><dd>-3.33330725990406</dd><dt>3</dt><dd>-2.66253046718856</dd><dt>4</dt><dd>-1.99175367447306</dd><dt>5</dt><dd>-1.32097688175756</dd><dt>6</dt><dd>-0.650200089042056</dd><dt>7</dt><dd>0.0205767036734456</dd><dt>8</dt><dd>0.691353496388947</dd><dt>9</dt><dd>1.36213028910445</dd><dt>10</dt><dd>2.03290708181995</dd><dt>11</dt><dd>2.70368387453545</dd><dt>12</dt><dd>3.37446066725095</dd><dt>13</dt><dd>4.04523745996646</dd></dl>\n",
       "</dd>\n",
       "\t<dt>$se.fit</dt>\n",
       "\t\t<dd><style>\n",
       ".dl-inline {width: auto; margin:0; padding: 0}\n",
       ".dl-inline>dt, .dl-inline>dd {float: none; width: auto; display: inline-block}\n",
       ".dl-inline>dt::after {content: \":\\0020\"; padding-right: .5ex}\n",
       ".dl-inline>dt:not(:first-of-type) {padding-left: .5ex}\n",
       "</style><dl class=dl-inline><dt>1</dt><dd>0.827254976387714</dd><dt>2</dt><dd>0.711826294154086</dd><dt>3</dt><dd>0.600667626736141</dd><dt>4</dt><dd>0.496654377044346</dd><dt>5</dt><dd>0.405325289532464</dd><dt>6</dt><dd>0.337150794305209</dd><dt>7</dt><dd>0.307915205106015</dd><dt>8</dt><dd>0.328194967418934</dd><dt>9</dt><dd>0.390347470097527</dd><dt>10</dt><dd>0.478319355507128</dd><dt>11</dt><dd>0.580488339213422</dd><dt>12</dt><dd>0.690581686508953</dd><dt>13</dt><dd>0.805356112033137</dd></dl>\n",
       "</dd>\n",
       "\t<dt>$df</dt>\n",
       "\t\t<dd>13</dd>\n",
       "\t<dt>$residual.scale</dt>\n",
       "\t\t<dd>1.19167124997557</dd>\n",
       "</dl>\n"
      ],
      "text/latex": [
       "\\begin{description}\n",
       "\\item[\\$fit] \\begin{description*}\n",
       "\\item[1] -4.00408405261957\n",
       "\\item[2] -3.33330725990406\n",
       "\\item[3] -2.66253046718856\n",
       "\\item[4] -1.99175367447306\n",
       "\\item[5] -1.32097688175756\n",
       "\\item[6] -0.650200089042056\n",
       "\\item[7] 0.0205767036734456\n",
       "\\item[8] 0.691353496388947\n",
       "\\item[9] 1.36213028910445\n",
       "\\item[10] 2.03290708181995\n",
       "\\item[11] 2.70368387453545\n",
       "\\item[12] 3.37446066725095\n",
       "\\item[13] 4.04523745996646\n",
       "\\end{description*}\n",
       "\n",
       "\\item[\\$se.fit] \\begin{description*}\n",
       "\\item[1] 0.827254976387714\n",
       "\\item[2] 0.711826294154086\n",
       "\\item[3] 0.600667626736141\n",
       "\\item[4] 0.496654377044346\n",
       "\\item[5] 0.405325289532464\n",
       "\\item[6] 0.337150794305209\n",
       "\\item[7] 0.307915205106015\n",
       "\\item[8] 0.328194967418934\n",
       "\\item[9] 0.390347470097527\n",
       "\\item[10] 0.478319355507128\n",
       "\\item[11] 0.580488339213422\n",
       "\\item[12] 0.690581686508953\n",
       "\\item[13] 0.805356112033137\n",
       "\\end{description*}\n",
       "\n",
       "\\item[\\$df] 13\n",
       "\\item[\\$residual.scale] 1.19167124997557\n",
       "\\end{description}\n"
      ],
      "text/markdown": [
       "$fit\n",
       ":   1\n",
       ":   -4.004084052619572\n",
       ":   -3.333307259904063\n",
       ":   -2.662530467188564\n",
       ":   -1.991753674473065\n",
       ":   -1.320976881757566\n",
       ":   -0.6502000890420567\n",
       ":   0.02057670367344568\n",
       ":   0.6913534963889479\n",
       ":   1.3621302891044510\n",
       ":   2.0329070818199511\n",
       ":   2.7036838745354512\n",
       ":   3.3744606672509513\n",
       ":   4.04523745996646\n",
       "\n",
       "\n",
       "$se.fit\n",
       ":   1\n",
       ":   0.8272549763877142\n",
       ":   0.7118262941540863\n",
       ":   0.6006676267361414\n",
       ":   0.4966543770443465\n",
       ":   0.4053252895324646\n",
       ":   0.3371507943052097\n",
       ":   0.3079152051060158\n",
       ":   0.3281949674189349\n",
       ":   0.39034747009752710\n",
       ":   0.47831935550712811\n",
       ":   0.58048833921342212\n",
       ":   0.69058168650895313\n",
       ":   0.805356112033137\n",
       "\n",
       "\n",
       "$df\n",
       ":   13\n",
       "$residual.scale\n",
       ":   1.19167124997557\n",
       "\n",
       "\n"
      ],
      "text/plain": [
       "$fit\n",
       "         1          2          3          4          5          6          7 \n",
       "-4.0040841 -3.3333073 -2.6625305 -1.9917537 -1.3209769 -0.6502001  0.0205767 \n",
       "         8          9         10         11         12         13 \n",
       " 0.6913535  1.3621303  2.0329071  2.7036839  3.3744607  4.0452375 \n",
       "\n",
       "$se.fit\n",
       "        1         2         3         4         5         6         7         8 \n",
       "0.8272550 0.7118263 0.6006676 0.4966544 0.4053253 0.3371508 0.3079152 0.3281950 \n",
       "        9        10        11        12        13 \n",
       "0.3903475 0.4783194 0.5804883 0.6905817 0.8053561 \n",
       "\n",
       "$df\n",
       "[1] 13\n",
       "\n",
       "$residual.scale\n",
       "[1] 1.191671\n"
      ]
     },
     "metadata": {},
     "output_type": "display_data"
    },
    {
     "data": {
      "image/png": "[encoded data removed]",
      "text/plain": [
       "plot without title"
      ]
     },
     "metadata": {
      "image/png": {
       "height": 420,
       "width": 420
      }
     },
     "output_type": "display_data"
    }
   ],
   "source": [
    "x <- rnorm(15)\n",
    "y <- x + rnorm(15)\n",
    "predict(lm(y ~ x))\n",
    "new <- data.frame(x = seq(-3, 3, 0.5))\n",
    "predict(lm(y ~ x), new, se.fit = TRUE)\n",
    "pred.w.plim <- predict(lm(y ~ x), new, interval = \"prediction\")\n",
    "pred.w.clim <- predict(lm(y ~ x), new, interval = \"confidence\")\n",
    "matplot(new$x, cbind(pred.w.clim, pred.w.plim[,-1]),\n",
    "        lty = c(1,2,2,3,3), type = \"l\", ylab = \"predicted y\")"
   ]
  },
  {
   "cell_type": "code",
   "execution_count": 130,
   "metadata": {
    "vscode": {
     "languageId": "r"
    }
   },
   "outputs": [
    {
     "data": {
      "text/html": [
       "<table class=\"dataframe\">\n",
       "<caption>A matrix: 13 x 3 of type dbl</caption>\n",
       "<thead>\n",
       "\t<tr><th></th><th scope=col>fit</th><th scope=col>lwr</th><th scope=col>upr</th></tr>\n",
       "</thead>\n",
       "<tbody>\n",
       "\t<tr><th scope=row>1</th><td>-4.0040841</td><td>-7.1380569</td><td>-0.8701112</td></tr>\n",
       "\t<tr><th scope=row>2</th><td>-3.3333073</td><td>-6.3320803</td><td>-0.3345342</td></tr>\n",
       "\t<tr><th scope=row>3</th><td>-2.6625305</td><td>-5.5455357</td><td> 0.2204748</td></tr>\n",
       "\t<tr><th scope=row>4</th><td>-1.9917537</td><td>-4.7808439</td><td> 0.7973366</td></tr>\n",
       "\t<tr><th scope=row>5</th><td>-1.3209769</td><td>-4.0402700</td><td> 1.3983163</td></tr>\n",
       "\t<tr><th scope=row>6</th><td>-0.6502001</td><td>-3.3257022</td><td> 2.0253020</td></tr>\n",
       "\t<tr><th scope=row>7</th><td> 0.0205767</td><td>-2.6384257</td><td> 2.6795791</td></tr>\n",
       "\t<tr><th scope=row>8</th><td> 0.6913535</td><td>-1.9789463</td><td> 3.3616533</td></tr>\n",
       "\t<tr><th scope=row>9</th><td> 1.3621303</td><td>-1.3469165</td><td> 4.0711770</td></tr>\n",
       "\t<tr><th scope=row>10</th><td> 2.0329071</td><td>-0.7411861</td><td> 4.8070003</td></tr>\n",
       "\t<tr><th scope=row>11</th><td> 2.7036839</td><td>-0.1599637</td><td> 5.5673314</td></tr>\n",
       "\t<tr><th scope=row>12</th><td> 3.3744607</td><td> 0.3989628</td><td> 6.3499585</td></tr>\n",
       "\t<tr><th scope=row>13</th><td> 4.0452375</td><td> 0.9380003</td><td> 7.1524746</td></tr>\n",
       "</tbody>\n",
       "</table>\n"
      ],
      "text/latex": [
       "A matrix: 13 x 3 of type dbl\n",
       "\\begin{tabular}{r|lll}\n",
       "  & fit & lwr & upr\\\\\n",
       "\\hline\n",
       "\t1 & -4.0040841 & -7.1380569 & -0.8701112\\\\\n",
       "\t2 & -3.3333073 & -6.3320803 & -0.3345342\\\\\n",
       "\t3 & -2.6625305 & -5.5455357 &  0.2204748\\\\\n",
       "\t4 & -1.9917537 & -4.7808439 &  0.7973366\\\\\n",
       "\t5 & -1.3209769 & -4.0402700 &  1.3983163\\\\\n",
       "\t6 & -0.6502001 & -3.3257022 &  2.0253020\\\\\n",
       "\t7 &  0.0205767 & -2.6384257 &  2.6795791\\\\\n",
       "\t8 &  0.6913535 & -1.9789463 &  3.3616533\\\\\n",
       "\t9 &  1.3621303 & -1.3469165 &  4.0711770\\\\\n",
       "\t10 &  2.0329071 & -0.7411861 &  4.8070003\\\\\n",
       "\t11 &  2.7036839 & -0.1599637 &  5.5673314\\\\\n",
       "\t12 &  3.3744607 &  0.3989628 &  6.3499585\\\\\n",
       "\t13 &  4.0452375 &  0.9380003 &  7.1524746\\\\\n",
       "\\end{tabular}\n"
      ],
      "text/markdown": [
       "\n",
       "A matrix: 13 x 3 of type dbl\n",
       "\n",
       "| <!--/--> | fit | lwr | upr |\n",
       "|---|---|---|---|\n",
       "| 1 | -4.0040841 | -7.1380569 | -0.8701112 |\n",
       "| 2 | -3.3333073 | -6.3320803 | -0.3345342 |\n",
       "| 3 | -2.6625305 | -5.5455357 |  0.2204748 |\n",
       "| 4 | -1.9917537 | -4.7808439 |  0.7973366 |\n",
       "| 5 | -1.3209769 | -4.0402700 |  1.3983163 |\n",
       "| 6 | -0.6502001 | -3.3257022 |  2.0253020 |\n",
       "| 7 |  0.0205767 | -2.6384257 |  2.6795791 |\n",
       "| 8 |  0.6913535 | -1.9789463 |  3.3616533 |\n",
       "| 9 |  1.3621303 | -1.3469165 |  4.0711770 |\n",
       "| 10 |  2.0329071 | -0.7411861 |  4.8070003 |\n",
       "| 11 |  2.7036839 | -0.1599637 |  5.5673314 |\n",
       "| 12 |  3.3744607 |  0.3989628 |  6.3499585 |\n",
       "| 13 |  4.0452375 |  0.9380003 |  7.1524746 |\n",
       "\n"
      ],
      "text/plain": [
       "   fit        lwr        upr       \n",
       "1  -4.0040841 -7.1380569 -0.8701112\n",
       "2  -3.3333073 -6.3320803 -0.3345342\n",
       "3  -2.6625305 -5.5455357  0.2204748\n",
       "4  -1.9917537 -4.7808439  0.7973366\n",
       "5  -1.3209769 -4.0402700  1.3983163\n",
       "6  -0.6502001 -3.3257022  2.0253020\n",
       "7   0.0205767 -2.6384257  2.6795791\n",
       "8   0.6913535 -1.9789463  3.3616533\n",
       "9   1.3621303 -1.3469165  4.0711770\n",
       "10  2.0329071 -0.7411861  4.8070003\n",
       "11  2.7036839 -0.1599637  5.5673314\n",
       "12  3.3744607  0.3989628  6.3499585\n",
       "13  4.0452375  0.9380003  7.1524746"
      ]
     },
     "metadata": {},
     "output_type": "display_data"
    }
   ],
   "source": [
    "pred.w.plim"
   ]
  },
  {
   "cell_type": "code",
   "execution_count": 81,
   "metadata": {
    "vscode": {
     "languageId": "r"
    }
   },
   "outputs": [
    {
     "data": {
      "text/html": [
       "<table class=\"dataframe\">\n",
       "<caption>A data.frame: 1 x 1</caption>\n",
       "<thead>\n",
       "\t<tr><th scope=col>Total.Cell.Number1</th></tr>\n",
       "\t<tr><th scope=col>&lt;dbl&gt;</th></tr>\n",
       "</thead>\n",
       "<tbody>\n",
       "\t<tr><td>100</td></tr>\n",
       "</tbody>\n",
       "</table>\n"
      ],
      "text/latex": [
       "A data.frame: 1 x 1\n",
       "\\begin{tabular}{l}\n",
       " Total.Cell.Number1\\\\\n",
       " <dbl>\\\\\n",
       "\\hline\n",
       "\t 100\\\\\n",
       "\\end{tabular}\n"
      ],
      "text/markdown": [
       "\n",
       "A data.frame: 1 x 1\n",
       "\n",
       "| Total.Cell.Number1 &lt;dbl&gt; |\n",
       "|---|\n",
       "| 100 |\n",
       "\n"
      ],
      "text/plain": [
       "  Total.Cell.Number1\n",
       "1 100               "
      ]
     },
     "metadata": {},
     "output_type": "display_data"
    }
   ],
   "source": [
    "f3"
   ]
  },
  {
   "cell_type": "code",
   "execution_count": 71,
   "metadata": {
    "vscode": {
     "languageId": "r"
    }
   },
   "outputs": [
    {
     "data": {
      "text/html": [
       "<strong>(Intercept):</strong> -5319065.03201035"
      ],
      "text/latex": [
       "\\textbf{(Intercept):} -5319065.03201035"
      ],
      "text/markdown": [
       "**(Intercept):** -5319065.03201035"
      ],
      "text/plain": [
       "(Intercept) \n",
       "   -5319065 "
      ]
     },
     "metadata": {},
     "output_type": "display_data"
    }
   ],
   "source": [
    "( 600 - coef(mod)[1] )/ coef(mod)[2]"
   ]
  },
  {
   "cell_type": "code",
   "execution_count": 34,
   "metadata": {
    "vscode": {
     "languageId": "r"
    }
   },
   "outputs": [
    {
     "data": {
      "text/html": [
       "<table class=\"dataframe\">\n",
       "<caption>A data.frame: 6 x 61</caption>\n",
       "<thead>\n",
       "\t<tr><th></th><th scope=col>Shipment.#</th><th scope=col>Batch</th><th scope=col>Original.Box#</th><th scope=col>Original.Box.Location</th><th scope=col>Specimen.ID</th><th scope=col>Date.Frozen</th><th scope=col>Study.Cohort</th><th scope=col>Sample.Type</th><th scope=col>Date.transferred.to.Pugh.Lab</th><th scope=col>Total.Cell.Number</th><th scope=col>...</th><th scope=col>Total.Capture.Library.Yield.(ng)</th><th scope=col>Miseq.for.Capture</th><th scope=col>Miseq.Flow.Cell.ID</th><th scope=col>Sent.for.Nextseq?</th><th scope=col>Date.Submitted.for.Seq</th><th scope=col>Pugh.Lab.Seq.ID</th><th scope=col>Vol.used.for.sequencing.(uL)</th><th scope=col>Vol.Remaining.(uL)</th><th scope=col>Capture.Notes</th><th scope=col>Total.Cell.Number1</th></tr>\n",
       "\t<tr><th></th><th scope=col>&lt;dbl&gt;</th><th scope=col>&lt;chr&gt;</th><th scope=col>&lt;chr&gt;</th><th scope=col>&lt;chr&gt;</th><th scope=col>&lt;chr&gt;</th><th scope=col>&lt;chr&gt;</th><th scope=col>&lt;dbl&gt;</th><th scope=col>&lt;chr&gt;</th><th scope=col>&lt;dbl&gt;</th><th scope=col>&lt;chr&gt;</th><th scope=col>...</th><th scope=col>&lt;dbl&gt;</th><th scope=col>&lt;chr&gt;</th><th scope=col>&lt;chr&gt;</th><th scope=col>&lt;chr&gt;</th><th scope=col>&lt;chr&gt;</th><th scope=col>&lt;chr&gt;</th><th scope=col>&lt;dbl&gt;</th><th scope=col>&lt;dbl&gt;</th><th scope=col>&lt;chr&gt;</th><th scope=col>&lt;dbl&gt;</th></tr>\n",
       "</thead>\n",
       "<tbody>\n",
       "\t<tr><th scope=row>383</th><td>2</td><td>14</td><td>Cell Box 2 </td><td>G6</td><td>406-03</td><td>43620</td><td>NA</td><td>Cell</td><td>NA</td><td>9000  </td><td>...</td><td> 19.95</td><td>Passed </td><td>200612_M04827_0392_000000000-D879T</td><td>Yes </td><td>44314</td><td>BCX_tumour_CHP_PBMC_Remaining_Batches_PostCap_capTCRseq_NextSeq_Pool3</td><td>17.26</td><td> 1.74</td><td>NA</td><td>  9000</td></tr>\n",
       "\t<tr><th scope=row>385</th><td>2</td><td>NA</td><td>Cell Box 2 </td><td>E2</td><td>403-03</td><td>43585</td><td>NA</td><td>NA  </td><td>NA</td><td>87000 </td><td>...</td><td>  0.00</td><td>NA     </td><td>NA                                </td><td>NA  </td><td>NA   </td><td>NA                                                                   </td><td>   NA</td><td>   NA</td><td>NA</td><td> 87000</td></tr>\n",
       "\t<tr><th scope=row>181</th><td>1</td><td>7 </td><td>2          </td><td>E6</td><td>375-02</td><td>43319</td><td>NA</td><td>Cell</td><td>NA</td><td>170000</td><td>...</td><td>235.60</td><td>Passed </td><td>191002_M04827_0273_000000000-D5FJK</td><td>Yes </td><td>43746</td><td>CHP Post-Cap TCR Libraries (24 samples) Nextseq Library Pool Batch 7 </td><td> 2.11</td><td>16.89</td><td>NA</td><td>170000</td></tr>\n",
       "\t<tr><th scope=row>382</th><td>2</td><td>14</td><td>Cell Box 2 </td><td>F7</td><td>414-01</td><td>43595</td><td>NA</td><td>Cell</td><td>NA</td><td>190000</td><td>...</td><td> 19.95</td><td>Passed </td><td>200612_M04827_0392_000000000-D879T</td><td>Yes </td><td>44314</td><td>BCX_tumour_CHP_PBMC_Remaining_Batches_PostCap_capTCRseq_NextSeq_Pool3</td><td>17.26</td><td> 1.74</td><td>NA</td><td>190000</td></tr>\n",
       "\t<tr><th scope=row>283</th><td>2</td><td>10</td><td>Cell Box 2 </td><td>D4</td><td>406-02</td><td>43573</td><td>NA</td><td>Cell</td><td>NA</td><td>200000</td><td>...</td><td>  0.00</td><td>NA     </td><td>NA                                </td><td>NA  </td><td>NA   </td><td>NA                                                                   </td><td>   NA</td><td>   NA</td><td>NA</td><td>200000</td></tr>\n",
       "\t<tr><th scope=row>413</th><td>2</td><td>NA</td><td>NA         </td><td>NA</td><td>402-01</td><td>43507</td><td>NA</td><td>Cell</td><td>NA</td><td>200000</td><td>...</td><td>  0.00</td><td>NA     </td><td>NA                                </td><td>NA  </td><td>NA   </td><td>NA                                                                   </td><td>   NA</td><td>   NA</td><td>NA</td><td>200000</td></tr>\n",
       "</tbody>\n",
       "</table>\n"
      ],
      "text/latex": [
       "A data.frame: 6 x 61\n",
       "\\begin{tabular}{r|lllllllllllllllllllll}\n",
       "  & Shipment.\\# & Batch & Original.Box\\# & Original.Box.Location & Specimen.ID & Date.Frozen & Study.Cohort & Sample.Type & Date.transferred.to.Pugh.Lab & Total.Cell.Number & ... & Total.Capture.Library.Yield.(ng) & Miseq.for.Capture & Miseq.Flow.Cell.ID & Sent.for.Nextseq? & Date.Submitted.for.Seq & Pugh.Lab.Seq.ID & Vol.used.for.sequencing.(uL) & Vol.Remaining.(uL) & Capture.Notes & Total.Cell.Number1\\\\\n",
       "  & <dbl> & <chr> & <chr> & <chr> & <chr> & <chr> & <dbl> & <chr> & <dbl> & <chr> & ... & <dbl> & <chr> & <chr> & <chr> & <chr> & <chr> & <dbl> & <dbl> & <chr> & <dbl>\\\\\n",
       "\\hline\n",
       "\t383 & 2 & 14 & Cell Box 2  & G6 & 406-03 & 43620 & NA & Cell & NA & 9000   & ... &  19.95 & Passed  & 200612\\_M04827\\_0392\\_000000000-D879T & Yes  & 44314 & BCX\\_tumour\\_CHP\\_PBMC\\_Remaining\\_Batches\\_PostCap\\_capTCRseq\\_NextSeq\\_Pool3 & 17.26 &  1.74 & NA &   9000\\\\\n",
       "\t385 & 2 & NA & Cell Box 2  & E2 & 403-03 & 43585 & NA & NA   & NA & 87000  & ... &   0.00 & NA      & NA                                 & NA   & NA    & NA                                                                    &    NA &    NA & NA &  87000\\\\\n",
       "\t181 & 1 & 7  & 2           & E6 & 375-02 & 43319 & NA & Cell & NA & 170000 & ... & 235.60 & Passed  & 191002\\_M04827\\_0273\\_000000000-D5FJK & Yes  & 43746 & CHP Post-Cap TCR Libraries (24 samples) Nextseq Library Pool Batch 7  &  2.11 & 16.89 & NA & 170000\\\\\n",
       "\t382 & 2 & 14 & Cell Box 2  & F7 & 414-01 & 43595 & NA & Cell & NA & 190000 & ... &  19.95 & Passed  & 200612\\_M04827\\_0392\\_000000000-D879T & Yes  & 44314 & BCX\\_tumour\\_CHP\\_PBMC\\_Remaining\\_Batches\\_PostCap\\_capTCRseq\\_NextSeq\\_Pool3 & 17.26 &  1.74 & NA & 190000\\\\\n",
       "\t283 & 2 & 10 & Cell Box 2  & D4 & 406-02 & 43573 & NA & Cell & NA & 200000 & ... &   0.00 & NA      & NA                                 & NA   & NA    & NA                                                                    &    NA &    NA & NA & 200000\\\\\n",
       "\t413 & 2 & NA & NA          & NA & 402-01 & 43507 & NA & Cell & NA & 200000 & ... &   0.00 & NA      & NA                                 & NA   & NA    & NA                                                                    &    NA &    NA & NA & 200000\\\\\n",
       "\\end{tabular}\n"
      ],
      "text/markdown": [
       "\n",
       "A data.frame: 6 x 61\n",
       "\n",
       "| <!--/--> | Shipment.# &lt;dbl&gt; | Batch &lt;chr&gt; | Original.Box# &lt;chr&gt; | Original.Box.Location &lt;chr&gt; | Specimen.ID &lt;chr&gt; | Date.Frozen &lt;chr&gt; | Study.Cohort &lt;dbl&gt; | Sample.Type &lt;chr&gt; | Date.transferred.to.Pugh.Lab &lt;dbl&gt; | Total.Cell.Number &lt;chr&gt; | ... ... | Total.Capture.Library.Yield.(ng) &lt;dbl&gt; | Miseq.for.Capture &lt;chr&gt; | Miseq.Flow.Cell.ID &lt;chr&gt; | Sent.for.Nextseq? &lt;chr&gt; | Date.Submitted.for.Seq &lt;chr&gt; | Pugh.Lab.Seq.ID &lt;chr&gt; | Vol.used.for.sequencing.(uL) &lt;dbl&gt; | Vol.Remaining.(uL) &lt;dbl&gt; | Capture.Notes &lt;chr&gt; | Total.Cell.Number1 &lt;dbl&gt; |\n",
       "|---|---|---|---|---|---|---|---|---|---|---|---|---|---|---|---|---|---|---|---|---|---|\n",
       "| 383 | 2 | 14 | Cell Box 2  | G6 | 406-03 | 43620 | NA | Cell | NA | 9000   | ... |  19.95 | Passed  | 200612_M04827_0392_000000000-D879T | Yes  | 44314 | BCX_tumour_CHP_PBMC_Remaining_Batches_PostCap_capTCRseq_NextSeq_Pool3 | 17.26 |  1.74 | NA |   9000 |\n",
       "| 385 | 2 | NA | Cell Box 2  | E2 | 403-03 | 43585 | NA | NA   | NA | 87000  | ... |   0.00 | NA      | NA                                 | NA   | NA    | NA                                                                    |    NA |    NA | NA |  87000 |\n",
       "| 181 | 1 | 7  | 2           | E6 | 375-02 | 43319 | NA | Cell | NA | 170000 | ... | 235.60 | Passed  | 191002_M04827_0273_000000000-D5FJK | Yes  | 43746 | CHP Post-Cap TCR Libraries (24 samples) Nextseq Library Pool Batch 7  |  2.11 | 16.89 | NA | 170000 |\n",
       "| 382 | 2 | 14 | Cell Box 2  | F7 | 414-01 | 43595 | NA | Cell | NA | 190000 | ... |  19.95 | Passed  | 200612_M04827_0392_000000000-D879T | Yes  | 44314 | BCX_tumour_CHP_PBMC_Remaining_Batches_PostCap_capTCRseq_NextSeq_Pool3 | 17.26 |  1.74 | NA | 190000 |\n",
       "| 283 | 2 | 10 | Cell Box 2  | D4 | 406-02 | 43573 | NA | Cell | NA | 200000 | ... |   0.00 | NA      | NA                                 | NA   | NA    | NA                                                                    |    NA |    NA | NA | 200000 |\n",
       "| 413 | 2 | NA | NA          | NA | 402-01 | 43507 | NA | Cell | NA | 200000 | ... |   0.00 | NA      | NA                                 | NA   | NA    | NA                                                                    |    NA |    NA | NA | 200000 |\n",
       "\n"
      ],
      "text/plain": [
       "    Shipment.# Batch Original.Box# Original.Box.Location Specimen.ID\n",
       "383 2          14    Cell Box 2    G6                    406-03     \n",
       "385 2          NA    Cell Box 2    E2                    403-03     \n",
       "181 1          7     2             E6                    375-02     \n",
       "382 2          14    Cell Box 2    F7                    414-01     \n",
       "283 2          10    Cell Box 2    D4                    406-02     \n",
       "413 2          NA    NA            NA                    402-01     \n",
       "    Date.Frozen Study.Cohort Sample.Type Date.transferred.to.Pugh.Lab\n",
       "383 43620       NA           Cell        NA                          \n",
       "385 43585       NA           NA          NA                          \n",
       "181 43319       NA           Cell        NA                          \n",
       "382 43595       NA           Cell        NA                          \n",
       "283 43573       NA           Cell        NA                          \n",
       "413 43507       NA           Cell        NA                          \n",
       "    Total.Cell.Number ... Total.Capture.Library.Yield.(ng) Miseq.for.Capture\n",
       "383 9000              ...  19.95                           Passed           \n",
       "385 87000             ...   0.00                           NA               \n",
       "181 170000            ... 235.60                           Passed           \n",
       "382 190000            ...  19.95                           Passed           \n",
       "283 200000            ...   0.00                           NA               \n",
       "413 200000            ...   0.00                           NA               \n",
       "    Miseq.Flow.Cell.ID                 Sent.for.Nextseq? Date.Submitted.for.Seq\n",
       "383 200612_M04827_0392_000000000-D879T Yes               44314                 \n",
       "385 NA                                 NA                NA                    \n",
       "181 191002_M04827_0273_000000000-D5FJK Yes               43746                 \n",
       "382 200612_M04827_0392_000000000-D879T Yes               44314                 \n",
       "283 NA                                 NA                NA                    \n",
       "413 NA                                 NA                NA                    \n",
       "    Pugh.Lab.Seq.ID                                                      \n",
       "383 BCX_tumour_CHP_PBMC_Remaining_Batches_PostCap_capTCRseq_NextSeq_Pool3\n",
       "385 NA                                                                   \n",
       "181 CHP Post-Cap TCR Libraries (24 samples) Nextseq Library Pool Batch 7 \n",
       "382 BCX_tumour_CHP_PBMC_Remaining_Batches_PostCap_capTCRseq_NextSeq_Pool3\n",
       "283 NA                                                                   \n",
       "413 NA                                                                   \n",
       "    Vol.used.for.sequencing.(uL) Vol.Remaining.(uL) Capture.Notes\n",
       "383 17.26                         1.74              NA           \n",
       "385    NA                           NA              NA           \n",
       "181  2.11                        16.89              NA           \n",
       "382 17.26                         1.74              NA           \n",
       "283    NA                           NA              NA           \n",
       "413    NA                           NA              NA           \n",
       "    Total.Cell.Number1\n",
       "383   9000            \n",
       "385  87000            \n",
       "181 170000            \n",
       "382 190000            \n",
       "283 200000            \n",
       "413 200000            "
      ]
     },
     "metadata": {},
     "output_type": "display_data"
    }
   ],
   "source": [
    "head(pbmc[ order(pbmc$Total.Cell.Number1, decreasing = F), ])"
   ]
  },
  {
   "cell_type": "code",
   "execution_count": 21,
   "metadata": {
    "vscode": {
     "languageId": "r"
    }
   },
   "outputs": [],
   "source": [
    "# get total number of samples\n",
    "pbmc_samples <- data.frame(pbmc$Specimen.ID[!duplicated(pbmc$Specimen.ID)], stringsAsFactors = F)"
   ]
  },
  {
   "cell_type": "code",
   "execution_count": 22,
   "metadata": {
    "scrolled": true,
    "vscode": {
     "languageId": "r"
    }
   },
   "outputs": [],
   "source": [
    "colnames(pbmc_samples) <- \"sample_id\""
   ]
  },
  {
   "cell_type": "code",
   "execution_count": 23,
   "metadata": {
    "vscode": {
     "languageId": "r"
    }
   },
   "outputs": [],
   "source": [
    "#number of samples shipped\n",
    "pbmc_samples$Shipped <- paste0(\"n = \", nrow(pbmc_samples))"
   ]
  },
  {
   "cell_type": "code",
   "execution_count": 24,
   "metadata": {
    "vscode": {
     "languageId": "r"
    }
   },
   "outputs": [],
   "source": [
    "pbmc_samples$sample_id <- trimws(pbmc_samples$sample_id)"
   ]
  },
  {
   "cell_type": "code",
   "execution_count": 25,
   "metadata": {
    "vscode": {
     "languageId": "r"
    }
   },
   "outputs": [
    {
     "data": {
      "text/html": [
       "'343-05'"
      ],
      "text/latex": [
       "'343-05'"
      ],
      "text/markdown": [
       "'343-05'"
      ],
      "text/plain": [
       "[1] \"343-05\""
      ]
     },
     "metadata": {},
     "output_type": "display_data"
    }
   ],
   "source": [
    "pbmc_samples[pbmc_samples == \"343-05\"]"
   ]
  },
  {
   "cell_type": "code",
   "execution_count": 26,
   "metadata": {
    "vscode": {
     "languageId": "r"
    }
   },
   "outputs": [
    {
     "data": {
      "text/html": [
       "<style>\n",
       ".list-inline {list-style: none; margin:0; padding: 0}\n",
       ".list-inline>li {display: inline-block}\n",
       ".list-inline>li:not(:last-child)::after {content: \"\\00b7\"; padding: 0 .5ex}\n",
       "</style>\n",
       "<ol class=list-inline><li>321</li><li>2</li></ol>\n"
      ],
      "text/latex": [
       "\\begin{enumerate*}\n",
       "\\item 321\n",
       "\\item 2\n",
       "\\end{enumerate*}\n"
      ],
      "text/markdown": [
       "1. 321\n",
       "2. 2\n",
       "\n",
       "\n"
      ],
      "text/plain": [
       "[1] 321   2"
      ]
     },
     "metadata": {},
     "output_type": "display_data"
    }
   ],
   "source": [
    "dim(pbmc_samples)"
   ]
  },
  {
   "cell_type": "code",
   "execution_count": 27,
   "metadata": {
    "vscode": {
     "languageId": "r"
    }
   },
   "outputs": [
    {
     "data": {
      "text/html": [
       "<table class=\"dataframe\">\n",
       "<caption>A data.frame: 6 x 2</caption>\n",
       "<thead>\n",
       "\t<tr><th></th><th scope=col>sample_id</th><th scope=col>Shipped</th></tr>\n",
       "\t<tr><th></th><th scope=col>&lt;chr&gt;</th><th scope=col>&lt;chr&gt;</th></tr>\n",
       "</thead>\n",
       "<tbody>\n",
       "\t<tr><th scope=row>1</th><td>330-05</td><td>n = 321</td></tr>\n",
       "\t<tr><th scope=row>2</th><td>329-04</td><td>n = 321</td></tr>\n",
       "\t<tr><th scope=row>3</th><td>331-05</td><td>n = 321</td></tr>\n",
       "\t<tr><th scope=row>4</th><td>331-04</td><td>n = 321</td></tr>\n",
       "\t<tr><th scope=row>5</th><td>338-05</td><td>n = 321</td></tr>\n",
       "\t<tr><th scope=row>6</th><td>338-04</td><td>n = 321</td></tr>\n",
       "</tbody>\n",
       "</table>\n"
      ],
      "text/latex": [
       "A data.frame: 6 x 2\n",
       "\\begin{tabular}{r|ll}\n",
       "  & sample\\_id & Shipped\\\\\n",
       "  & <chr> & <chr>\\\\\n",
       "\\hline\n",
       "\t1 & 330-05 & n = 321\\\\\n",
       "\t2 & 329-04 & n = 321\\\\\n",
       "\t3 & 331-05 & n = 321\\\\\n",
       "\t4 & 331-04 & n = 321\\\\\n",
       "\t5 & 338-05 & n = 321\\\\\n",
       "\t6 & 338-04 & n = 321\\\\\n",
       "\\end{tabular}\n"
      ],
      "text/markdown": [
       "\n",
       "A data.frame: 6 x 2\n",
       "\n",
       "| <!--/--> | sample_id &lt;chr&gt; | Shipped &lt;chr&gt; |\n",
       "|---|---|---|\n",
       "| 1 | 330-05 | n = 321 |\n",
       "| 2 | 329-04 | n = 321 |\n",
       "| 3 | 331-05 | n = 321 |\n",
       "| 4 | 331-04 | n = 321 |\n",
       "| 5 | 338-05 | n = 321 |\n",
       "| 6 | 338-04 | n = 321 |\n",
       "\n"
      ],
      "text/plain": [
       "  sample_id Shipped\n",
       "1 330-05    n = 321\n",
       "2 329-04    n = 321\n",
       "3 331-05    n = 321\n",
       "4 331-04    n = 321\n",
       "5 338-05    n = 321\n",
       "6 338-04    n = 321"
      ]
     },
     "metadata": {},
     "output_type": "display_data"
    }
   ],
   "source": [
    "head(pbmc_samples)"
   ]
  },
  {
   "attachments": {},
   "cell_type": "markdown",
   "metadata": {},
   "source": [
    "All samples that were shipped according to DB manifest files"
   ]
  },
  {
   "cell_type": "code",
   "execution_count": 70,
   "metadata": {
    "vscode": {
     "languageId": "r"
    }
   },
   "outputs": [],
   "source": [
    "allpbmc <- unlist(read.xlsx(paste0(datapath, \"allpbmc_fromDB.xlsx\"), sheet = 1))"
   ]
  },
  {
   "cell_type": "code",
   "execution_count": 71,
   "metadata": {
    "vscode": {
     "languageId": "r"
    }
   },
   "outputs": [],
   "source": [
    "allpbmc <- allpbmc[!is.na(allpbmc)]"
   ]
  },
  {
   "cell_type": "code",
   "execution_count": 72,
   "metadata": {
    "vscode": {
     "languageId": "r"
    }
   },
   "outputs": [],
   "source": [
    "names(allpbmc) <- NULL"
   ]
  },
  {
   "cell_type": "code",
   "execution_count": 73,
   "metadata": {
    "vscode": {
     "languageId": "r"
    }
   },
   "outputs": [],
   "source": [
    "#typo\n",
    "allpbmc[ allpbmc == \"388-5\"] <- \"388-05\""
   ]
  },
  {
   "cell_type": "code",
   "execution_count": 74,
   "metadata": {
    "vscode": {
     "languageId": "r"
    }
   },
   "outputs": [
    {
     "data": {
      "text/html": [
       "312"
      ],
      "text/latex": [
       "312"
      ],
      "text/markdown": [
       "312"
      ],
      "text/plain": [
       "[1] 312"
      ]
     },
     "metadata": {},
     "output_type": "display_data"
    }
   ],
   "source": [
    "length(allpbmc)"
   ]
  },
  {
   "attachments": {},
   "cell_type": "markdown",
   "metadata": {},
   "source": [
    "312 cancer samples + 14 normal samples = 326. According to the lab log file we have 321."
   ]
  },
  {
   "cell_type": "code",
   "execution_count": 75,
   "metadata": {
    "scrolled": true,
    "vscode": {
     "languageId": "r"
    }
   },
   "outputs": [
    {
     "data": {
      "text/html": [
       "<style>\n",
       ".list-inline {list-style: none; margin:0; padding: 0}\n",
       ".list-inline>li {display: inline-block}\n",
       ".list-inline>li:not(:last-child)::after {content: \"\\00b7\"; padding: 0 .5ex}\n",
       "</style>\n",
       "<ol class=list-inline><li>'335-05'</li><li>'331-03'</li><li>'423-02'</li><li>'393-03'</li><li>'383-01'</li></ol>\n"
      ],
      "text/latex": [
       "\\begin{enumerate*}\n",
       "\\item '335-05'\n",
       "\\item '331-03'\n",
       "\\item '423-02'\n",
       "\\item '393-03'\n",
       "\\item '383-01'\n",
       "\\end{enumerate*}\n"
      ],
      "text/markdown": [
       "1. '335-05'\n",
       "2. '331-03'\n",
       "3. '423-02'\n",
       "4. '393-03'\n",
       "5. '383-01'\n",
       "\n",
       "\n"
      ],
      "text/plain": [
       "[1] \"335-05\" \"331-03\" \"423-02\" \"393-03\" \"383-01\""
      ]
     },
     "metadata": {},
     "output_type": "display_data"
    }
   ],
   "source": [
    "allpbmc[! allpbmc %in% pbmc_samples$sample_id ]"
   ]
  },
  {
   "cell_type": "code",
   "execution_count": 76,
   "metadata": {
    "vscode": {
     "languageId": "r"
    }
   },
   "outputs": [],
   "source": [
    "pbmc$Miseq.for.Library <- trimws(pbmc$Miseq.for.Library)"
   ]
  },
  {
   "attachments": {},
   "cell_type": "markdown",
   "metadata": {},
   "source": [
    "Get those with passed libs and capture. Add each failed steps later"
   ]
  },
  {
   "cell_type": "code",
   "execution_count": 77,
   "metadata": {
    "vscode": {
     "languageId": "r"
    }
   },
   "outputs": [
    {
     "data": {
      "text/plain": [
       "\n",
       "     Failed Failed BioA     On Hold      Passed    Received        <NA> \n",
       "         29          48          40         307           1          29 "
      ]
     },
     "metadata": {},
     "output_type": "display_data"
    }
   ],
   "source": [
    "table(pbmc$Miseq.for.Library, useNA = \"always\")"
   ]
  },
  {
   "cell_type": "code",
   "execution_count": 78,
   "metadata": {
    "vscode": {
     "languageId": "r"
    }
   },
   "outputs": [],
   "source": [
    "libfailed <- pbmc[ which(pbmc$Miseq.for.Library != \"Passed\"),]"
   ]
  },
  {
   "cell_type": "code",
   "execution_count": 79,
   "metadata": {
    "vscode": {
     "languageId": "r"
    }
   },
   "outputs": [
    {
     "data": {
      "text/html": [
       "<style>\n",
       ".list-inline {list-style: none; margin:0; padding: 0}\n",
       ".list-inline>li {display: inline-block}\n",
       ".list-inline>li:not(:last-child)::after {content: \"\\00b7\"; padding: 0 .5ex}\n",
       "</style>\n",
       "<ol class=list-inline><li>118</li><li>60</li></ol>\n"
      ],
      "text/latex": [
       "\\begin{enumerate*}\n",
       "\\item 118\n",
       "\\item 60\n",
       "\\end{enumerate*}\n"
      ],
      "text/markdown": [
       "1. 118\n",
       "2. 60\n",
       "\n",
       "\n"
      ],
      "text/plain": [
       "[1] 118  60"
      ]
     },
     "metadata": {},
     "output_type": "display_data"
    }
   ],
   "source": [
    "dim(libfailed)"
   ]
  },
  {
   "cell_type": "code",
   "execution_count": 80,
   "metadata": {
    "vscode": {
     "languageId": "r"
    }
   },
   "outputs": [],
   "source": [
    "pbmc$Miseq.for.Capture <- trimws(pbmc$Miseq.for.Capture)"
   ]
  },
  {
   "cell_type": "code",
   "execution_count": 81,
   "metadata": {
    "vscode": {
     "languageId": "r"
    }
   },
   "outputs": [
    {
     "data": {
      "text/plain": [
       "\n",
       "         Failed         Failed?   Not Submitted          Passed Passed Re-Miseq \n",
       "              6               2              24             277               2 \n",
       "           <NA> \n",
       "            143 "
      ]
     },
     "metadata": {},
     "output_type": "display_data"
    }
   ],
   "source": [
    "table(pbmc$Miseq.for.Capture, useNA = \"always\")"
   ]
  },
  {
   "cell_type": "code",
   "execution_count": 82,
   "metadata": {
    "vscode": {
     "languageId": "r"
    }
   },
   "outputs": [],
   "source": [
    "#cleanup\n",
    "pbmc$Miseq.for.Capture[ pbmc$Miseq.for.Capture == \"Failed?\"] <- \"Failed\"\n",
    "pbmc$Miseq.for.Capture[ pbmc$Miseq.for.Capture == \"Passed Re-Miseq\"] <- \"Passed\""
   ]
  },
  {
   "cell_type": "code",
   "execution_count": 83,
   "metadata": {
    "vscode": {
     "languageId": "r"
    }
   },
   "outputs": [
    {
     "data": {
      "text/plain": [
       "\n",
       "       Failed Not Submitted        Passed          <NA> \n",
       "            8            24           279           143 "
      ]
     },
     "metadata": {},
     "output_type": "display_data"
    }
   ],
   "source": [
    "table(pbmc$Miseq.for.Capture, useNA = \"always\")"
   ]
  },
  {
   "cell_type": "code",
   "execution_count": 84,
   "metadata": {
    "vscode": {
     "languageId": "r"
    }
   },
   "outputs": [],
   "source": [
    "capfailed <- pbmc[ which(pbmc$Miseq.for.Capture != \"Passed\"),]"
   ]
  },
  {
   "cell_type": "code",
   "execution_count": 85,
   "metadata": {
    "vscode": {
     "languageId": "r"
    }
   },
   "outputs": [
    {
     "data": {
      "text/html": [
       "<style>\n",
       ".list-inline {list-style: none; margin:0; padding: 0}\n",
       ".list-inline>li {display: inline-block}\n",
       ".list-inline>li:not(:last-child)::after {content: \"\\00b7\"; padding: 0 .5ex}\n",
       "</style>\n",
       "<ol class=list-inline><li>32</li><li>60</li></ol>\n"
      ],
      "text/latex": [
       "\\begin{enumerate*}\n",
       "\\item 32\n",
       "\\item 60\n",
       "\\end{enumerate*}\n"
      ],
      "text/markdown": [
       "1. 32\n",
       "2. 60\n",
       "\n",
       "\n"
      ],
      "text/plain": [
       "[1] 32 60"
      ]
     },
     "metadata": {},
     "output_type": "display_data"
    }
   ],
   "source": [
    "dim(capfailed)"
   ]
  },
  {
   "cell_type": "code",
   "execution_count": 86,
   "metadata": {
    "vscode": {
     "languageId": "r"
    }
   },
   "outputs": [],
   "source": [
    "#remove failed samples\n",
    "pbmc <- pbmc[ which(pbmc$Miseq.for.Library == \"Passed\"),]\n",
    "pbmc <- pbmc[ which(pbmc$Miseq.for.Capture == \"Passed\"),]"
   ]
  },
  {
   "cell_type": "code",
   "execution_count": 87,
   "metadata": {
    "vscode": {
     "languageId": "r"
    }
   },
   "outputs": [
    {
     "data": {
      "text/plain": [
       "\n",
       "Passed \n",
       "   279 "
      ]
     },
     "metadata": {},
     "output_type": "display_data"
    }
   ],
   "source": [
    "table(pbmc$Miseq.for.Capture)"
   ]
  },
  {
   "attachments": {},
   "cell_type": "markdown",
   "metadata": {},
   "source": [
    "Clean up failedsamples. If samples in libfailed are in cleanup pbmc, remove them. They were failed experiments but the sample eventually survived"
   ]
  },
  {
   "cell_type": "code",
   "execution_count": 88,
   "metadata": {
    "vscode": {
     "languageId": "r"
    }
   },
   "outputs": [],
   "source": [
    "libfailed <- libfailed[ !libfailed$Specimen.ID %in% pbmc$Specimen.ID,]"
   ]
  },
  {
   "cell_type": "code",
   "execution_count": 89,
   "metadata": {
    "vscode": {
     "languageId": "r"
    }
   },
   "outputs": [
    {
     "data": {
      "text/html": [
       "<style>\n",
       ".list-inline {list-style: none; margin:0; padding: 0}\n",
       ".list-inline>li {display: inline-block}\n",
       ".list-inline>li:not(:last-child)::after {content: \"\\00b7\"; padding: 0 .5ex}\n",
       "</style>\n",
       "<ol class=list-inline><li>64</li><li>60</li></ol>\n"
      ],
      "text/latex": [
       "\\begin{enumerate*}\n",
       "\\item 64\n",
       "\\item 60\n",
       "\\end{enumerate*}\n"
      ],
      "text/markdown": [
       "1. 64\n",
       "2. 60\n",
       "\n",
       "\n"
      ],
      "text/plain": [
       "[1] 64 60"
      ]
     },
     "metadata": {},
     "output_type": "display_data"
    }
   ],
   "source": [
    "dim(libfailed)"
   ]
  },
  {
   "cell_type": "code",
   "execution_count": 90,
   "metadata": {
    "vscode": {
     "languageId": "r"
    }
   },
   "outputs": [],
   "source": [
    "#remove those in capture failed df. these were lib preped again, but capture failed\n",
    "libfailed <- libfailed[ !libfailed$Specimen.ID %in% capfailed$Specimen.ID,]"
   ]
  },
  {
   "cell_type": "code",
   "execution_count": 91,
   "metadata": {
    "vscode": {
     "languageId": "r"
    }
   },
   "outputs": [
    {
     "data": {
      "text/html": [
       "<style>\n",
       ".list-inline {list-style: none; margin:0; padding: 0}\n",
       ".list-inline>li {display: inline-block}\n",
       ".list-inline>li:not(:last-child)::after {content: \"\\00b7\"; padding: 0 .5ex}\n",
       "</style>\n",
       "<ol class=list-inline><li>61</li><li>60</li></ol>\n"
      ],
      "text/latex": [
       "\\begin{enumerate*}\n",
       "\\item 61\n",
       "\\item 60\n",
       "\\end{enumerate*}\n"
      ],
      "text/markdown": [
       "1. 61\n",
       "2. 60\n",
       "\n",
       "\n"
      ],
      "text/plain": [
       "[1] 61 60"
      ]
     },
     "metadata": {},
     "output_type": "display_data"
    }
   ],
   "source": [
    "dim(libfailed)"
   ]
  },
  {
   "cell_type": "code",
   "execution_count": 92,
   "metadata": {
    "vscode": {
     "languageId": "r"
    }
   },
   "outputs": [
    {
     "data": {
      "text/html": [
       "39"
      ],
      "text/latex": [
       "39"
      ],
      "text/markdown": [
       "39"
      ],
      "text/plain": [
       "[1] 39"
      ]
     },
     "metadata": {},
     "output_type": "display_data"
    }
   ],
   "source": [
    "length(unique(libfailed$Specimen.ID))"
   ]
  },
  {
   "cell_type": "code",
   "execution_count": 93,
   "metadata": {
    "vscode": {
     "languageId": "r"
    }
   },
   "outputs": [],
   "source": [
    "libfailed_dedup <- libfailed[0,]\n",
    "# to dedup, keep the most recent entry\n",
    "for(i in unique(libfailed$Specimen.ID)){\n",
    "    tmp <- libfailed[ libfailed$Specimen.ID == i,]\n",
    "    libfailed_dedup <- rbind(libfailed_dedup, tmp[nrow(tmp),])\n",
    "}"
   ]
  },
  {
   "cell_type": "code",
   "execution_count": 94,
   "metadata": {
    "vscode": {
     "languageId": "r"
    }
   },
   "outputs": [
    {
     "data": {
      "text/html": [
       "<style>\n",
       ".list-inline {list-style: none; margin:0; padding: 0}\n",
       ".list-inline>li {display: inline-block}\n",
       ".list-inline>li:not(:last-child)::after {content: \"\\00b7\"; padding: 0 .5ex}\n",
       "</style>\n",
       "<ol class=list-inline><li>39</li><li>60</li></ol>\n"
      ],
      "text/latex": [
       "\\begin{enumerate*}\n",
       "\\item 39\n",
       "\\item 60\n",
       "\\end{enumerate*}\n"
      ],
      "text/markdown": [
       "1. 39\n",
       "2. 60\n",
       "\n",
       "\n"
      ],
      "text/plain": [
       "[1] 39 60"
      ]
     },
     "metadata": {},
     "output_type": "display_data"
    }
   ],
   "source": [
    "dim(libfailed_dedup)"
   ]
  },
  {
   "attachments": {},
   "cell_type": "markdown",
   "metadata": {},
   "source": [
    "If samples in capfailed are in cleanup pbmc, remove them. "
   ]
  },
  {
   "cell_type": "code",
   "execution_count": 95,
   "metadata": {
    "vscode": {
     "languageId": "r"
    }
   },
   "outputs": [],
   "source": [
    "capfailed <- capfailed[!capfailed$Specimen.ID %in% pbmc$Specimen.ID,]"
   ]
  },
  {
   "cell_type": "code",
   "execution_count": 96,
   "metadata": {
    "vscode": {
     "languageId": "r"
    }
   },
   "outputs": [
    {
     "data": {
      "text/html": [
       "<style>\n",
       ".list-inline {list-style: none; margin:0; padding: 0}\n",
       ".list-inline>li {display: inline-block}\n",
       ".list-inline>li:not(:last-child)::after {content: \"\\00b7\"; padding: 0 .5ex}\n",
       "</style>\n",
       "<ol class=list-inline><li>4</li><li>60</li></ol>\n"
      ],
      "text/latex": [
       "\\begin{enumerate*}\n",
       "\\item 4\n",
       "\\item 60\n",
       "\\end{enumerate*}\n"
      ],
      "text/markdown": [
       "1. 4\n",
       "2. 60\n",
       "\n",
       "\n"
      ],
      "text/plain": [
       "[1]  4 60"
      ]
     },
     "metadata": {},
     "output_type": "display_data"
    }
   ],
   "source": [
    "dim(capfailed)"
   ]
  },
  {
   "cell_type": "code",
   "execution_count": 97,
   "metadata": {
    "vscode": {
     "languageId": "r"
    }
   },
   "outputs": [],
   "source": [
    "p343_05 <- pbmc[ which(pbmc$Specimen.ID == \"343-05\"),]"
   ]
  },
  {
   "attachments": {},
   "cell_type": "markdown",
   "metadata": {},
   "source": [
    "One sample duplicated. Keep the one corresponding to batch2_Aug62019/mixcr/clones/CLONES_TRBCHP_343-05-PBMC-DNA.txt"
   ]
  },
  {
   "cell_type": "code",
   "execution_count": 98,
   "metadata": {
    "vscode": {
     "languageId": "r"
    }
   },
   "outputs": [],
   "source": [
    "pbmc <- pbmc[ which(pbmc$Specimen.ID != \"343-05\"),]"
   ]
  },
  {
   "cell_type": "code",
   "execution_count": 99,
   "metadata": {
    "vscode": {
     "languageId": "r"
    }
   },
   "outputs": [],
   "source": [
    "pbmc <- rbind(pbmc, p343_05[ p343_05$Original.Box.Location == \"G5\",])"
   ]
  },
  {
   "cell_type": "code",
   "execution_count": 100,
   "metadata": {
    "vscode": {
     "languageId": "r"
    }
   },
   "outputs": [
    {
     "data": {
      "text/html": [
       "<style>\n",
       ".list-inline {list-style: none; margin:0; padding: 0}\n",
       ".list-inline>li {display: inline-block}\n",
       ".list-inline>li:not(:last-child)::after {content: \"\\00b7\"; padding: 0 .5ex}\n",
       "</style>\n",
       "<ol class=list-inline><li>278</li><li>60</li></ol>\n"
      ],
      "text/latex": [
       "\\begin{enumerate*}\n",
       "\\item 278\n",
       "\\item 60\n",
       "\\end{enumerate*}\n"
      ],
      "text/markdown": [
       "1. 278\n",
       "2. 60\n",
       "\n",
       "\n"
      ],
      "text/plain": [
       "[1] 278  60"
      ]
     },
     "metadata": {},
     "output_type": "display_data"
    }
   ],
   "source": [
    "dim(pbmc)"
   ]
  },
  {
   "cell_type": "code",
   "execution_count": 101,
   "metadata": {
    "vscode": {
     "languageId": "r"
    }
   },
   "outputs": [],
   "source": [
    "#bind all pbmcs lib and cap failed\n",
    "allsamples <- rbind(pbmc,libfailed_dedup, capfailed)"
   ]
  },
  {
   "cell_type": "code",
   "execution_count": 102,
   "metadata": {
    "vscode": {
     "languageId": "r"
    }
   },
   "outputs": [],
   "source": [
    "#add amount DNA extracted\n",
    "pbmc_samples$DNAextracted <- NA\n",
    "pbmc_samples$DNAextracted <- allsamples$`DNA.total.(ng)`[ match(pbmc_samples$sample_id, allsamples$Specimen.ID )]"
   ]
  },
  {
   "cell_type": "code",
   "execution_count": 103,
   "metadata": {
    "vscode": {
     "languageId": "r"
    }
   },
   "outputs": [],
   "source": [
    "#add amount DNA used for library\n",
    "pbmc_samples$DNAused <- NA\n",
    "pbmc_samples$DNAused <- allsamples$`Amount.of.DNA.used.for.Library.Prep.(ng)`[ match(pbmc_samples$sample_id, allsamples$Specimen.ID)]"
   ]
  },
  {
   "cell_type": "code",
   "execution_count": 104,
   "metadata": {
    "vscode": {
     "languageId": "r"
    }
   },
   "outputs": [],
   "source": [
    "pbmc_samples$libbatch <- NA\n",
    "pbmc_samples$libbatch <- allsamples$Library.Miseq.Flow.Cell.ID[ match(pbmc_samples$sample_id, allsamples$Specimen.ID)]"
   ]
  },
  {
   "cell_type": "code",
   "execution_count": 105,
   "metadata": {
    "vscode": {
     "languageId": "r"
    }
   },
   "outputs": [
    {
     "data": {
      "text/html": [
       "<style>\n",
       ".list-inline {list-style: none; margin:0; padding: 0}\n",
       ".list-inline>li {display: inline-block}\n",
       ".list-inline>li:not(:last-child)::after {content: \"\\00b7\"; padding: 0 .5ex}\n",
       "</style>\n",
       "<ol class=list-inline><li>'190517_M04827_0203_000000000-D6BYT'</li><li>'190517_M04827_0203_000000000-D6BYT'</li><li>'190517_M04827_0203_000000000-D6BYT'</li><li>'190517_M04827_0203_000000000-D6BYT'</li><li>'190517_M04827_0203_000000000-D6BYT'</li><li>'190517_M04827_0203_000000000-D6BYT'</li></ol>\n"
      ],
      "text/latex": [
       "\\begin{enumerate*}\n",
       "\\item '190517\\_M04827\\_0203\\_000000000-D6BYT'\n",
       "\\item '190517\\_M04827\\_0203\\_000000000-D6BYT'\n",
       "\\item '190517\\_M04827\\_0203\\_000000000-D6BYT'\n",
       "\\item '190517\\_M04827\\_0203\\_000000000-D6BYT'\n",
       "\\item '190517\\_M04827\\_0203\\_000000000-D6BYT'\n",
       "\\item '190517\\_M04827\\_0203\\_000000000-D6BYT'\n",
       "\\end{enumerate*}\n"
      ],
      "text/markdown": [
       "1. '190517_M04827_0203_000000000-D6BYT'\n",
       "2. '190517_M04827_0203_000000000-D6BYT'\n",
       "3. '190517_M04827_0203_000000000-D6BYT'\n",
       "4. '190517_M04827_0203_000000000-D6BYT'\n",
       "5. '190517_M04827_0203_000000000-D6BYT'\n",
       "6. '190517_M04827_0203_000000000-D6BYT'\n",
       "\n",
       "\n"
      ],
      "text/plain": [
       "[1] \"190517_M04827_0203_000000000-D6BYT\" \"190517_M04827_0203_000000000-D6BYT\"\n",
       "[3] \"190517_M04827_0203_000000000-D6BYT\" \"190517_M04827_0203_000000000-D6BYT\"\n",
       "[5] \"190517_M04827_0203_000000000-D6BYT\" \"190517_M04827_0203_000000000-D6BYT\""
      ]
     },
     "metadata": {},
     "output_type": "display_data"
    }
   ],
   "source": [
    "head(pbmc_samples$libbatch )"
   ]
  },
  {
   "cell_type": "code",
   "execution_count": 106,
   "metadata": {
    "vscode": {
     "languageId": "r"
    }
   },
   "outputs": [],
   "source": [
    "# Add miseq status for libraries\n",
    "pbmc_samples$librarypassed <- NA\n",
    "pbmc_samples$librarypassed <- allsamples$Miseq.for.Library[ match(pbmc_samples$sample_id, allsamples$Specimen.ID)]"
   ]
  },
  {
   "cell_type": "code",
   "execution_count": 107,
   "metadata": {
    "vscode": {
     "languageId": "r"
    }
   },
   "outputs": [
    {
     "data": {
      "text/plain": [
       "\n",
       " On Hold   Passed Received     <NA> \n",
       "      38      282        1        0 "
      ]
     },
     "metadata": {},
     "output_type": "display_data"
    }
   ],
   "source": [
    "table(pbmc_samples$librarypassed, useNA = \"always\")"
   ]
  },
  {
   "cell_type": "code",
   "execution_count": 108,
   "metadata": {
    "vscode": {
     "languageId": "r"
    }
   },
   "outputs": [],
   "source": [
    "# add number of passed libraries\n",
    "pbmc_samples$Library <- NA\n",
    "pbmc_samples$Library[ pbmc_samples$librarypassed == \"Passed\"] <- paste0(\"n = \", \n",
    "                               length(pbmc_samples$librarypassed[which(pbmc_samples$librarypassed == \"Passed\")]))"
   ]
  },
  {
   "cell_type": "code",
   "execution_count": 109,
   "metadata": {
    "vscode": {
     "languageId": "r"
    }
   },
   "outputs": [],
   "source": [
    "#cleanup\n",
    "pbmc_samples$librarypassed[ pbmc_samples$librarypassed == \"On Hold\"] <- \"Failed\"\n",
    "pbmc_samples$librarypassed[ pbmc_samples$librarypassed == \"Received\"] <- \"Failed\""
   ]
  },
  {
   "cell_type": "code",
   "execution_count": 110,
   "metadata": {
    "vscode": {
     "languageId": "r"
    }
   },
   "outputs": [
    {
     "data": {
      "text/plain": [
       "\n",
       "Failed Passed   <NA> \n",
       "    39    282      0 "
      ]
     },
     "metadata": {},
     "output_type": "display_data"
    }
   ],
   "source": [
    "table(pbmc_samples$librarypassed, useNA = \"always\")"
   ]
  },
  {
   "cell_type": "code",
   "execution_count": 111,
   "metadata": {
    "vscode": {
     "languageId": "r"
    }
   },
   "outputs": [],
   "source": [
    "# add number of failed libraries\n",
    "pbmc_samples$Library[ pbmc_samples$librarypassed == \"Failed\"] <- paste0(\"n = \", \n",
    "                               length(pbmc_samples$librarypassed[which(pbmc_samples$librarypassed == \"Failed\")]))"
   ]
  },
  {
   "cell_type": "code",
   "execution_count": 112,
   "metadata": {
    "vscode": {
     "languageId": "r"
    }
   },
   "outputs": [],
   "source": [
    "#add total library yield\n",
    "pbmc_samples$libraryyield <- NA\n",
    "pbmc_samples$libraryyield <- allsamples$`Total.Library.Yield.(ng)`[ match(pbmc_samples$sample_id, allsamples$Specimen.ID)]"
   ]
  },
  {
   "cell_type": "code",
   "execution_count": 113,
   "metadata": {
    "vscode": {
     "languageId": "r"
    }
   },
   "outputs": [],
   "source": [
    "#amount DNA used for capture\n",
    "pbmc_samples$DNAforcapture <- NA\n",
    "pbmc_samples$DNAforcapture <- allsamples$`Amount.of.Library.used.for.Capture.(ng)`[ match(pbmc_samples$sample_id, allsamples$Specimen.ID)]"
   ]
  },
  {
   "cell_type": "code",
   "execution_count": 114,
   "metadata": {
    "vscode": {
     "languageId": "r"
    }
   },
   "outputs": [],
   "source": [
    "#total capture yield\n",
    "pbmc_samples$captureyield <- NA\n",
    "pbmc_samples$captureyield <- allsamples$`Total.Capture.Library.Yield.(ng)`[ match(pbmc_samples$sample_id, allsamples$Specimen.ID)]"
   ]
  },
  {
   "cell_type": "code",
   "execution_count": 115,
   "metadata": {
    "vscode": {
     "languageId": "r"
    }
   },
   "outputs": [],
   "source": [
    "# Miseq batch for capture\n",
    "pbmc_samples$capbatch <- NA\n",
    "pbmc_samples$capbatch <- allsamples$Miseq.Flow.Cell.ID[ match(pbmc_samples$sample_id, allsamples$Specimen.ID)]"
   ]
  },
  {
   "cell_type": "code",
   "execution_count": 116,
   "metadata": {
    "vscode": {
     "languageId": "r"
    }
   },
   "outputs": [
    {
     "data": {
      "text/html": [
       "<style>\n",
       ".list-inline {list-style: none; margin:0; padding: 0}\n",
       ".list-inline>li {display: inline-block}\n",
       ".list-inline>li:not(:last-child)::after {content: \"\\00b7\"; padding: 0 .5ex}\n",
       "</style>\n",
       "<ol class=list-inline><li>'190624_M04827_0214_000000000-D6F66'</li><li>'190624_M04827_0214_000000000-D6F66'</li><li>'190624_M04827_0214_000000000-D6F66'</li><li>'190624_M04827_0214_000000000-D6F66'</li><li>'190624_M04827_0214_000000000-D6F66'</li><li>'190624_M04827_0214_000000000-D6F66'</li></ol>\n"
      ],
      "text/latex": [
       "\\begin{enumerate*}\n",
       "\\item '190624\\_M04827\\_0214\\_000000000-D6F66'\n",
       "\\item '190624\\_M04827\\_0214\\_000000000-D6F66'\n",
       "\\item '190624\\_M04827\\_0214\\_000000000-D6F66'\n",
       "\\item '190624\\_M04827\\_0214\\_000000000-D6F66'\n",
       "\\item '190624\\_M04827\\_0214\\_000000000-D6F66'\n",
       "\\item '190624\\_M04827\\_0214\\_000000000-D6F66'\n",
       "\\end{enumerate*}\n"
      ],
      "text/markdown": [
       "1. '190624_M04827_0214_000000000-D6F66'\n",
       "2. '190624_M04827_0214_000000000-D6F66'\n",
       "3. '190624_M04827_0214_000000000-D6F66'\n",
       "4. '190624_M04827_0214_000000000-D6F66'\n",
       "5. '190624_M04827_0214_000000000-D6F66'\n",
       "6. '190624_M04827_0214_000000000-D6F66'\n",
       "\n",
       "\n"
      ],
      "text/plain": [
       "[1] \"190624_M04827_0214_000000000-D6F66\" \"190624_M04827_0214_000000000-D6F66\"\n",
       "[3] \"190624_M04827_0214_000000000-D6F66\" \"190624_M04827_0214_000000000-D6F66\"\n",
       "[5] \"190624_M04827_0214_000000000-D6F66\" \"190624_M04827_0214_000000000-D6F66\""
      ]
     },
     "metadata": {},
     "output_type": "display_data"
    }
   ],
   "source": [
    "head(pbmc_samples$capbatch)"
   ]
  },
  {
   "cell_type": "code",
   "execution_count": 117,
   "metadata": {
    "vscode": {
     "languageId": "r"
    }
   },
   "outputs": [],
   "source": [
    "# Miseq status for capture\n",
    "pbmc_samples$capturepassed <- NA\n",
    "pbmc_samples$capturepassed <- allsamples$Miseq.for.Capture[ match(pbmc_samples$sample_id, allsamples$Specimen.ID)]"
   ]
  },
  {
   "cell_type": "code",
   "execution_count": 118,
   "metadata": {
    "vscode": {
     "languageId": "r"
    }
   },
   "outputs": [],
   "source": [
    "# Number of passed captures\n",
    "pbmc_samples$Capture <- NA\n",
    "pbmc_samples$Capture[ pbmc_samples$capturepassed == \"Passed\"] <- paste0(\"n = \", \n",
    "                                                                        length(pbmc_samples$capturepassed[which(pbmc_samples$capturepassed == \"Passed\")]))"
   ]
  },
  {
   "cell_type": "code",
   "execution_count": 119,
   "metadata": {
    "vscode": {
     "languageId": "r"
    }
   },
   "outputs": [
    {
     "data": {
      "text/plain": [
       "\n",
       "       Failed Not Submitted        Passed          <NA> \n",
       "            1             3           278            39 "
      ]
     },
     "metadata": {},
     "output_type": "display_data"
    }
   ],
   "source": [
    "table(pbmc_samples$capturepassed, useNA = \"always\")"
   ]
  },
  {
   "cell_type": "code",
   "execution_count": 120,
   "metadata": {
    "vscode": {
     "languageId": "r"
    }
   },
   "outputs": [],
   "source": [
    "# cleanup\n",
    "pbmc_samples$capturepassed[ which(pbmc_samples$capturepassed == \"Not Submitted\")] <- \"Failed\""
   ]
  },
  {
   "cell_type": "code",
   "execution_count": 121,
   "metadata": {
    "vscode": {
     "languageId": "r"
    }
   },
   "outputs": [
    {
     "data": {
      "text/plain": [
       "\n",
       "Failed Passed   <NA> \n",
       "     4    278     39 "
      ]
     },
     "metadata": {},
     "output_type": "display_data"
    }
   ],
   "source": [
    "table(pbmc_samples$capturepassed, useNA = \"always\")"
   ]
  },
  {
   "cell_type": "code",
   "execution_count": 122,
   "metadata": {
    "vscode": {
     "languageId": "r"
    }
   },
   "outputs": [],
   "source": [
    "pbmc_samples$deepseq <- NA\n",
    "pbmc_samples$deepseq <- trimws(pbmc$`Sent.for.Nextseq?`[ match(pbmc_samples$sample_id, pbmc$Specimen.ID)])\n",
    "#pbmc_samples$deepseq[is.na(pbmc_samples$deepseq)] <- \"No\""
   ]
  },
  {
   "cell_type": "code",
   "execution_count": 123,
   "metadata": {
    "vscode": {
     "languageId": "r"
    }
   },
   "outputs": [
    {
     "data": {
      "text/plain": [
       "\n",
       "Re-seq    Yes   <NA> \n",
       "    14    264     43 "
      ]
     },
     "metadata": {},
     "output_type": "display_data"
    }
   ],
   "source": [
    "table(pbmc_samples$deepseq, useNA = \"always\")"
   ]
  },
  {
   "cell_type": "code",
   "execution_count": 124,
   "metadata": {
    "vscode": {
     "languageId": "r"
    }
   },
   "outputs": [],
   "source": [
    "#clean up\n",
    "pbmc_samples$deepseq[ pbmc_samples$deepseq == \"Re-seq\"] <- \"Yes\""
   ]
  },
  {
   "cell_type": "code",
   "execution_count": 125,
   "metadata": {
    "vscode": {
     "languageId": "r"
    }
   },
   "outputs": [
    {
     "data": {
      "text/plain": [
       "\n",
       " Yes <NA> \n",
       " 278   43 "
      ]
     },
     "metadata": {},
     "output_type": "display_data"
    }
   ],
   "source": [
    "table(pbmc_samples$deepseq, useNA = \"always\")"
   ]
  },
  {
   "cell_type": "code",
   "execution_count": 126,
   "metadata": {
    "vscode": {
     "languageId": "r"
    }
   },
   "outputs": [
    {
     "data": {
      "text/plain": [
       "\n",
       "TRUE \n",
       " 278 "
      ]
     },
     "metadata": {},
     "output_type": "display_data"
    }
   ],
   "source": [
    "table(pbmc_samples$deepseq == \"Yes\")"
   ]
  },
  {
   "cell_type": "code",
   "execution_count": 127,
   "metadata": {
    "vscode": {
     "languageId": "r"
    }
   },
   "outputs": [],
   "source": [
    "# number of deep sequencing samples\n",
    "pbmc_samples$Sequencing <- NA\n",
    "pbmc_samples$Sequencing[ pbmc_samples$deepseq == \"Yes\"] <- paste0(\"n = \", table(pbmc_samples$deepseq == \"Yes\"))"
   ]
  },
  {
   "cell_type": "code",
   "execution_count": 128,
   "metadata": {
    "scrolled": true,
    "vscode": {
     "languageId": "r"
    }
   },
   "outputs": [],
   "source": [
    "#make a new sample id to match with divstats\n",
    "pbmc_samples$mysample_id <- NA\n",
    "\n",
    "pbmc_samples$mysample_id <- paste0(\"CHP_\", pbmc_samples$sample_id, sep = \"\")\n",
    "pbmc_samples$mysample_id <- gsub(\"-\", \"_\", pbmc_samples$mysample_id)\n",
    "\n",
    "pbmc_samples$mysample_id[ grepl(\"YO\", pbmc_samples$mysample_id)] <- paste0(\n",
    "    pbmc_samples$mysample_id[ grepl(\"YO\", pbmc_samples$mysample_id)], \"_00\")\n",
    "\n",
    "pbmc_samples$mysample_id[ grepl(\"MO\", pbmc_samples$mysample_id)] <- paste0(\n",
    "    pbmc_samples$mysample_id[ grepl(\"MO\", pbmc_samples$mysample_id)], \"_00\")"
   ]
  },
  {
   "cell_type": "code",
   "execution_count": 129,
   "metadata": {
    "vscode": {
     "languageId": "r"
    }
   },
   "outputs": [
    {
     "data": {
      "text/html": [
       "<style>\n",
       ".list-inline {list-style: none; margin:0; padding: 0}\n",
       ".list-inline>li {display: inline-block}\n",
       ".list-inline>li:not(:last-child)::after {content: \"\\00b7\"; padding: 0 .5ex}\n",
       "</style>\n",
       "<ol class=list-inline><li>'TRB'</li><li>'Reads'</li><li>'CPKR'</li><li>'Average_reads'</li><li>'VMR'</li><li>'Max_reads'</li><li>'Singletons'</li><li>'Doubletons'</li><li>'qD'</li><li>'Sample_Coverage'</li><li>'observed_Richness'</li><li>'estimated_Richness'</li><li>'SE_Richeness'</li><li>'observed_Shannon'</li><li>'estimated_Shannon'</li><li>'SE_Shannon'</li><li>'observed_Simpson'</li><li>'estimated_Simpson'</li><li>'SE_Simpson'</li><li>'sample_id'</li><li>'basename'</li><li>'file'</li></ol>\n"
      ],
      "text/latex": [
       "\\begin{enumerate*}\n",
       "\\item 'TRB'\n",
       "\\item 'Reads'\n",
       "\\item 'CPKR'\n",
       "\\item 'Average\\_reads'\n",
       "\\item 'VMR'\n",
       "\\item 'Max\\_reads'\n",
       "\\item 'Singletons'\n",
       "\\item 'Doubletons'\n",
       "\\item 'qD'\n",
       "\\item 'Sample\\_Coverage'\n",
       "\\item 'observed\\_Richness'\n",
       "\\item 'estimated\\_Richness'\n",
       "\\item 'SE\\_Richeness'\n",
       "\\item 'observed\\_Shannon'\n",
       "\\item 'estimated\\_Shannon'\n",
       "\\item 'SE\\_Shannon'\n",
       "\\item 'observed\\_Simpson'\n",
       "\\item 'estimated\\_Simpson'\n",
       "\\item 'SE\\_Simpson'\n",
       "\\item 'sample\\_id'\n",
       "\\item 'basename'\n",
       "\\item 'file'\n",
       "\\end{enumerate*}\n"
      ],
      "text/markdown": [
       "1. 'TRB'\n",
       "2. 'Reads'\n",
       "3. 'CPKR'\n",
       "4. 'Average_reads'\n",
       "5. 'VMR'\n",
       "6. 'Max_reads'\n",
       "7. 'Singletons'\n",
       "8. 'Doubletons'\n",
       "9. 'qD'\n",
       "10. 'Sample_Coverage'\n",
       "11. 'observed_Richness'\n",
       "12. 'estimated_Richness'\n",
       "13. 'SE_Richeness'\n",
       "14. 'observed_Shannon'\n",
       "15. 'estimated_Shannon'\n",
       "16. 'SE_Shannon'\n",
       "17. 'observed_Simpson'\n",
       "18. 'estimated_Simpson'\n",
       "19. 'SE_Simpson'\n",
       "20. 'sample_id'\n",
       "21. 'basename'\n",
       "22. 'file'\n",
       "\n",
       "\n"
      ],
      "text/plain": [
       " [1] \"TRB\"                \"Reads\"              \"CPKR\"              \n",
       " [4] \"Average_reads\"      \"VMR\"                \"Max_reads\"         \n",
       " [7] \"Singletons\"         \"Doubletons\"         \"qD\"                \n",
       "[10] \"Sample_Coverage\"    \"observed_Richness\"  \"estimated_Richness\"\n",
       "[13] \"SE_Richeness\"       \"observed_Shannon\"   \"estimated_Shannon\" \n",
       "[16] \"SE_Shannon\"         \"observed_Simpson\"   \"estimated_Simpson\" \n",
       "[19] \"SE_Simpson\"         \"sample_id\"          \"basename\"          \n",
       "[22] \"file\"              "
      ]
     },
     "metadata": {},
     "output_type": "display_data"
    }
   ],
   "source": [
    "colnames(divstats)"
   ]
  },
  {
   "cell_type": "code",
   "execution_count": 130,
   "metadata": {
    "vscode": {
     "languageId": "r"
    }
   },
   "outputs": [],
   "source": [
    "divstats_pbmc <- divstats[ divstats$Sample == \"PBMC\",]"
   ]
  },
  {
   "cell_type": "code",
   "execution_count": 131,
   "metadata": {
    "vscode": {
     "languageId": "r"
    }
   },
   "outputs": [
    {
     "data": {
      "text/html": [
       "<style>\n",
       ".list-inline {list-style: none; margin:0; padding: 0}\n",
       ".list-inline>li {display: inline-block}\n",
       ".list-inline>li:not(:last-child)::after {content: \"\\00b7\"; padding: 0 .5ex}\n",
       "</style>\n",
       "<ol class=list-inline><li>9</li><li>22</li></ol>\n"
      ],
      "text/latex": [
       "\\begin{enumerate*}\n",
       "\\item 9\n",
       "\\item 22\n",
       "\\end{enumerate*}\n"
      ],
      "text/markdown": [
       "1. 9\n",
       "2. 22\n",
       "\n",
       "\n"
      ],
      "text/plain": [
       "[1]  9 22"
      ]
     },
     "metadata": {},
     "output_type": "display_data"
    }
   ],
   "source": [
    "dim( divstats_pbmc)"
   ]
  },
  {
   "cell_type": "code",
   "execution_count": 132,
   "metadata": {
    "vscode": {
     "languageId": "r"
    }
   },
   "outputs": [],
   "source": [
    "# Samples included in tcr analysis\n",
    "pbmc_samples$TCR <- NA\n",
    "pbmc_samples$TCR[ pbmc_samples$mysample_id %in% divstats_pbmc$sample_id] <- \"Yes\"\n",
    "pbmc_samples$TCR[ is.na(pbmc_samples$TCR)] <- \"No\""
   ]
  },
  {
   "cell_type": "code",
   "execution_count": 133,
   "metadata": {
    "vscode": {
     "languageId": "r"
    }
   },
   "outputs": [
    {
     "data": {
      "text/plain": [
       "\n",
       "  No <NA> \n",
       " 321    0 "
      ]
     },
     "metadata": {},
     "output_type": "display_data"
    }
   ],
   "source": [
    "table(pbmc_samples$TCR, useNA = \"always\")"
   ]
  },
  {
   "cell_type": "code",
   "execution_count": 134,
   "metadata": {
    "vscode": {
     "languageId": "r"
    }
   },
   "outputs": [
    {
     "data": {
      "text/html": [
       "<table class=\"dataframe\">\n",
       "<caption>A data.frame: 6 x 16</caption>\n",
       "<thead>\n",
       "\t<tr><th></th><th scope=col>sample_id</th><th scope=col>Shipped</th><th scope=col>DNAextracted</th><th scope=col>DNAused</th><th scope=col>libbatch</th><th scope=col>librarypassed</th><th scope=col>Library</th><th scope=col>libraryyield</th><th scope=col>captureyield</th><th scope=col>capbatch</th><th scope=col>capturepassed</th><th scope=col>Capture</th><th scope=col>deepseq</th><th scope=col>Sequencing</th><th scope=col>mysample_id</th><th scope=col>TCR</th></tr>\n",
       "\t<tr><th></th><th scope=col>&lt;chr&gt;</th><th scope=col>&lt;chr&gt;</th><th scope=col>&lt;dbl&gt;</th><th scope=col>&lt;dbl&gt;</th><th scope=col>&lt;chr&gt;</th><th scope=col>&lt;chr&gt;</th><th scope=col>&lt;chr&gt;</th><th scope=col>&lt;dbl&gt;</th><th scope=col>&lt;dbl&gt;</th><th scope=col>&lt;chr&gt;</th><th scope=col>&lt;chr&gt;</th><th scope=col>&lt;chr&gt;</th><th scope=col>&lt;chr&gt;</th><th scope=col>&lt;chr&gt;</th><th scope=col>&lt;chr&gt;</th><th scope=col>&lt;chr&gt;</th></tr>\n",
       "</thead>\n",
       "<tbody>\n",
       "\t<tr><th scope=row>1</th><td>330-05</td><td>n = 321</td><td> 6160</td><td>600</td><td>190517_M04827_0203_000000000-D6BYT</td><td>Passed</td><td>n = 282</td><td> 825.6</td><td>155.42</td><td>190624_M04827_0214_000000000-D6F66</td><td>Passed</td><td>n = 278</td><td>Yes</td><td>n = 278</td><td>CHP_330_05</td><td>No</td></tr>\n",
       "\t<tr><th scope=row>2</th><td>329-04</td><td>n = 321</td><td>11200</td><td>600</td><td>190517_M04827_0203_000000000-D6BYT</td><td>Passed</td><td>n = 282</td><td>2006.4</td><td>155.42</td><td>190624_M04827_0214_000000000-D6F66</td><td>Passed</td><td>n = 278</td><td>Yes</td><td>n = 278</td><td>CHP_329_04</td><td>No</td></tr>\n",
       "\t<tr><th scope=row>3</th><td>331-05</td><td>n = 321</td><td> 3780</td><td>600</td><td>190517_M04827_0203_000000000-D6BYT</td><td>Passed</td><td>n = 282</td><td>1161.6</td><td>162.64</td><td>190624_M04827_0214_000000000-D6F66</td><td>Passed</td><td>n = 278</td><td>Yes</td><td>n = 278</td><td>CHP_331_05</td><td>No</td></tr>\n",
       "\t<tr><th scope=row>4</th><td>331-04</td><td>n = 321</td><td> 9700</td><td>600</td><td>190517_M04827_0203_000000000-D6BYT</td><td>Passed</td><td>n = 282</td><td>1555.2</td><td>162.64</td><td>190624_M04827_0214_000000000-D6F66</td><td>Passed</td><td>n = 278</td><td>Yes</td><td>n = 278</td><td>CHP_331_04</td><td>No</td></tr>\n",
       "\t<tr><th scope=row>5</th><td>338-05</td><td>n = 321</td><td> 1410</td><td>600</td><td>190517_M04827_0203_000000000-D6BYT</td><td>Passed</td><td>n = 282</td><td> 508.8</td><td>328.70</td><td>190624_M04827_0214_000000000-D6F66</td><td>Passed</td><td>n = 278</td><td>Yes</td><td>n = 278</td><td>CHP_338_05</td><td>No</td></tr>\n",
       "\t<tr><th scope=row>6</th><td>338-04</td><td>n = 321</td><td> 2460</td><td>600</td><td>190517_M04827_0203_000000000-D6BYT</td><td>Passed</td><td>n = 282</td><td> 883.2</td><td>328.70</td><td>190624_M04827_0214_000000000-D6F66</td><td>Passed</td><td>n = 278</td><td>Yes</td><td>n = 278</td><td>CHP_338_04</td><td>No</td></tr>\n",
       "</tbody>\n",
       "</table>\n"
      ],
      "text/latex": [
       "A data.frame: 6 x 16\n",
       "\\begin{tabular}{r|llllllllllllllll}\n",
       "  & sample\\_id & Shipped & DNAextracted & DNAused & libbatch & librarypassed & Library & libraryyield & captureyield & capbatch & capturepassed & Capture & deepseq & Sequencing & mysample\\_id & TCR\\\\\n",
       "  & <chr> & <chr> & <dbl> & <dbl> & <chr> & <chr> & <chr> & <dbl> & <dbl> & <chr> & <chr> & <chr> & <chr> & <chr> & <chr> & <chr>\\\\\n",
       "\\hline\n",
       "\t1 & 330-05 & n = 321 &  6160 & 600 & 190517\\_M04827\\_0203\\_000000000-D6BYT & Passed & n = 282 &  825.6 & 155.42 & 190624\\_M04827\\_0214\\_000000000-D6F66 & Passed & n = 278 & Yes & n = 278 & CHP\\_330\\_05 & No\\\\\n",
       "\t2 & 329-04 & n = 321 & 11200 & 600 & 190517\\_M04827\\_0203\\_000000000-D6BYT & Passed & n = 282 & 2006.4 & 155.42 & 190624\\_M04827\\_0214\\_000000000-D6F66 & Passed & n = 278 & Yes & n = 278 & CHP\\_329\\_04 & No\\\\\n",
       "\t3 & 331-05 & n = 321 &  3780 & 600 & 190517\\_M04827\\_0203\\_000000000-D6BYT & Passed & n = 282 & 1161.6 & 162.64 & 190624\\_M04827\\_0214\\_000000000-D6F66 & Passed & n = 278 & Yes & n = 278 & CHP\\_331\\_05 & No\\\\\n",
       "\t4 & 331-04 & n = 321 &  9700 & 600 & 190517\\_M04827\\_0203\\_000000000-D6BYT & Passed & n = 282 & 1555.2 & 162.64 & 190624\\_M04827\\_0214\\_000000000-D6F66 & Passed & n = 278 & Yes & n = 278 & CHP\\_331\\_04 & No\\\\\n",
       "\t5 & 338-05 & n = 321 &  1410 & 600 & 190517\\_M04827\\_0203\\_000000000-D6BYT & Passed & n = 282 &  508.8 & 328.70 & 190624\\_M04827\\_0214\\_000000000-D6F66 & Passed & n = 278 & Yes & n = 278 & CHP\\_338\\_05 & No\\\\\n",
       "\t6 & 338-04 & n = 321 &  2460 & 600 & 190517\\_M04827\\_0203\\_000000000-D6BYT & Passed & n = 282 &  883.2 & 328.70 & 190624\\_M04827\\_0214\\_000000000-D6F66 & Passed & n = 278 & Yes & n = 278 & CHP\\_338\\_04 & No\\\\\n",
       "\\end{tabular}\n"
      ],
      "text/markdown": [
       "\n",
       "A data.frame: 6 x 16\n",
       "\n",
       "| <!--/--> | sample_id &lt;chr&gt; | Shipped &lt;chr&gt; | DNAextracted &lt;dbl&gt; | DNAused &lt;dbl&gt; | libbatch &lt;chr&gt; | librarypassed &lt;chr&gt; | Library &lt;chr&gt; | libraryyield &lt;dbl&gt; | captureyield &lt;dbl&gt; | capbatch &lt;chr&gt; | capturepassed &lt;chr&gt; | Capture &lt;chr&gt; | deepseq &lt;chr&gt; | Sequencing &lt;chr&gt; | mysample_id &lt;chr&gt; | TCR &lt;chr&gt; |\n",
       "|---|---|---|---|---|---|---|---|---|---|---|---|---|---|---|---|---|\n",
       "| 1 | 330-05 | n = 321 |  6160 | 600 | 190517_M04827_0203_000000000-D6BYT | Passed | n = 282 |  825.6 | 155.42 | 190624_M04827_0214_000000000-D6F66 | Passed | n = 278 | Yes | n = 278 | CHP_330_05 | No |\n",
       "| 2 | 329-04 | n = 321 | 11200 | 600 | 190517_M04827_0203_000000000-D6BYT | Passed | n = 282 | 2006.4 | 155.42 | 190624_M04827_0214_000000000-D6F66 | Passed | n = 278 | Yes | n = 278 | CHP_329_04 | No |\n",
       "| 3 | 331-05 | n = 321 |  3780 | 600 | 190517_M04827_0203_000000000-D6BYT | Passed | n = 282 | 1161.6 | 162.64 | 190624_M04827_0214_000000000-D6F66 | Passed | n = 278 | Yes | n = 278 | CHP_331_05 | No |\n",
       "| 4 | 331-04 | n = 321 |  9700 | 600 | 190517_M04827_0203_000000000-D6BYT | Passed | n = 282 | 1555.2 | 162.64 | 190624_M04827_0214_000000000-D6F66 | Passed | n = 278 | Yes | n = 278 | CHP_331_04 | No |\n",
       "| 5 | 338-05 | n = 321 |  1410 | 600 | 190517_M04827_0203_000000000-D6BYT | Passed | n = 282 |  508.8 | 328.70 | 190624_M04827_0214_000000000-D6F66 | Passed | n = 278 | Yes | n = 278 | CHP_338_05 | No |\n",
       "| 6 | 338-04 | n = 321 |  2460 | 600 | 190517_M04827_0203_000000000-D6BYT | Passed | n = 282 |  883.2 | 328.70 | 190624_M04827_0214_000000000-D6F66 | Passed | n = 278 | Yes | n = 278 | CHP_338_04 | No |\n",
       "\n"
      ],
      "text/plain": [
       "  sample_id Shipped DNAextracted DNAused libbatch                          \n",
       "1 330-05    n = 321  6160        600     190517_M04827_0203_000000000-D6BYT\n",
       "2 329-04    n = 321 11200        600     190517_M04827_0203_000000000-D6BYT\n",
       "3 331-05    n = 321  3780        600     190517_M04827_0203_000000000-D6BYT\n",
       "4 331-04    n = 321  9700        600     190517_M04827_0203_000000000-D6BYT\n",
       "5 338-05    n = 321  1410        600     190517_M04827_0203_000000000-D6BYT\n",
       "6 338-04    n = 321  2460        600     190517_M04827_0203_000000000-D6BYT\n",
       "  librarypassed Library libraryyield captureyield\n",
       "1 Passed        n = 282  825.6       155.42      \n",
       "2 Passed        n = 282 2006.4       155.42      \n",
       "3 Passed        n = 282 1161.6       162.64      \n",
       "4 Passed        n = 282 1555.2       162.64      \n",
       "5 Passed        n = 282  508.8       328.70      \n",
       "6 Passed        n = 282  883.2       328.70      \n",
       "  capbatch                           capturepassed Capture deepseq Sequencing\n",
       "1 190624_M04827_0214_000000000-D6F66 Passed        n = 278 Yes     n = 278   \n",
       "2 190624_M04827_0214_000000000-D6F66 Passed        n = 278 Yes     n = 278   \n",
       "3 190624_M04827_0214_000000000-D6F66 Passed        n = 278 Yes     n = 278   \n",
       "4 190624_M04827_0214_000000000-D6F66 Passed        n = 278 Yes     n = 278   \n",
       "5 190624_M04827_0214_000000000-D6F66 Passed        n = 278 Yes     n = 278   \n",
       "6 190624_M04827_0214_000000000-D6F66 Passed        n = 278 Yes     n = 278   \n",
       "  mysample_id TCR\n",
       "1 CHP_330_05  No \n",
       "2 CHP_329_04  No \n",
       "3 CHP_331_05  No \n",
       "4 CHP_331_04  No \n",
       "5 CHP_338_05  No \n",
       "6 CHP_338_04  No "
      ]
     },
     "metadata": {},
     "output_type": "display_data"
    }
   ],
   "source": [
    "head(pbmc_samples)"
   ]
  },
  {
   "cell_type": "code",
   "execution_count": 135,
   "metadata": {
    "vscode": {
     "languageId": "r"
    }
   },
   "outputs": [],
   "source": [
    "pbmc_samples$capturepassed[is.na(pbmc_samples$capturepassed)] <- \"\""
   ]
  },
  {
   "cell_type": "code",
   "execution_count": 136,
   "metadata": {
    "vscode": {
     "languageId": "r"
    }
   },
   "outputs": [
    {
     "data": {
      "text/plain": [
       "\n",
       "       Failed Passed   <NA> \n",
       "    39      4    278      0 "
      ]
     },
     "metadata": {},
     "output_type": "display_data"
    }
   ],
   "source": [
    "table(pbmc_samples$capturepassed, useNA = \"always\")"
   ]
  },
  {
   "cell_type": "code",
   "execution_count": 137,
   "metadata": {
    "vscode": {
     "languageId": "r"
    }
   },
   "outputs": [],
   "source": [
    "# Number of failed captures\n",
    "capturefailed <- sum(pbmc_samples$capturepassed == \"Failed\")\n",
    "pbmc_samples$Capture[pbmc_samples$capturepassed == \"Failed\"] <- paste0(\"n = \", capturefailed)"
   ]
  },
  {
   "cell_type": "code",
   "execution_count": 138,
   "metadata": {
    "vscode": {
     "languageId": "r"
    }
   },
   "outputs": [
    {
     "data": {
      "text/html": [
       "0"
      ],
      "text/latex": [
       "0"
      ],
      "text/markdown": [
       "0"
      ],
      "text/plain": [
       "[1] 0"
      ]
     },
     "metadata": {},
     "output_type": "display_data"
    }
   ],
   "source": [
    "# Number of samples not deep seq'd == 0\n",
    "seqfailed <- sum(pbmc_samples$deepseq == \"No\"& pbmc_samples$capturepassed == \"Passed\")\n",
    "seqfailed"
   ]
  },
  {
   "cell_type": "code",
   "execution_count": 139,
   "metadata": {
    "vscode": {
     "languageId": "r"
    }
   },
   "outputs": [],
   "source": [
    "# Number of samples included in tcr analysis\n",
    "pbmc_samples$TCRanalysis <- NA\n",
    "\n",
    "tcrpassed <- sum(pbmc_samples$TCR == \"Yes\" & \n",
    "                 pbmc_samples$deepseq == \"Yes\" &\n",
    "                 pbmc_samples$capturepassed == \"Passed\")\n",
    "\n",
    "pbmc_samples$TCRanalysis[pbmc_samples$TCR == \"Yes\" & \n",
    "                 pbmc_samples$deepseq == \"Yes\" &\n",
    "                 pbmc_samples$capturepassed == \"Passed\"] <- paste0(\"n = \", sum(pbmc_samples$TCR == \"Yes\" & \n",
    "                 pbmc_samples$deepseq == \"Yes\" &\n",
    "                 pbmc_samples$capturepassed == \"Passed\"))"
   ]
  },
  {
   "attachments": {},
   "cell_type": "markdown",
   "metadata": {},
   "source": [
    "the following sample was annotated as Failed capture miseq, but I got the data. For now, I dont include in sankey plot"
   ]
  },
  {
   "cell_type": "code",
   "execution_count": 140,
   "metadata": {
    "vscode": {
     "languageId": "r"
    }
   },
   "outputs": [
    {
     "data": {
      "text/html": [
       "<table class=\"dataframe\">\n",
       "<caption>A data.frame: 1 x 17</caption>\n",
       "<thead>\n",
       "\t<tr><th></th><th scope=col>sample_id</th><th scope=col>Shipped</th><th scope=col>DNAextracted</th><th scope=col>DNAused</th><th scope=col>libbatch</th><th scope=col>librarypassed</th><th scope=col>Library</th><th scope=col>libraryyield</th><th scope=col>captureyield</th><th scope=col>capbatch</th><th scope=col>capturepassed</th><th scope=col>Capture</th><th scope=col>deepseq</th><th scope=col>Sequencing</th><th scope=col>mysample_id</th><th scope=col>TCR</th><th scope=col>TCRanalysis</th></tr>\n",
       "\t<tr><th></th><th scope=col>&lt;chr&gt;</th><th scope=col>&lt;chr&gt;</th><th scope=col>&lt;dbl&gt;</th><th scope=col>&lt;dbl&gt;</th><th scope=col>&lt;chr&gt;</th><th scope=col>&lt;chr&gt;</th><th scope=col>&lt;chr&gt;</th><th scope=col>&lt;dbl&gt;</th><th scope=col>&lt;dbl&gt;</th><th scope=col>&lt;chr&gt;</th><th scope=col>&lt;chr&gt;</th><th scope=col>&lt;chr&gt;</th><th scope=col>&lt;chr&gt;</th><th scope=col>&lt;chr&gt;</th><th scope=col>&lt;chr&gt;</th><th scope=col>&lt;chr&gt;</th><th scope=col>&lt;chr&gt;</th></tr>\n",
       "</thead>\n",
       "<tbody>\n",
       "\t<tr><th scope=row>141</th><td>383-03</td><td>n = 321</td><td>7280</td><td>600</td><td>191104_M04827_0295_000000000-D7FHM</td><td>Passed</td><td>n = 282</td><td>35.328</td><td>47.12</td><td>191121_M04827_0308_000000000-D7HCV</td><td>Failed</td><td>n = 4</td><td>NA</td><td>NA</td><td>CHP_383_03</td><td>No</td><td>NA</td></tr>\n",
       "</tbody>\n",
       "</table>\n"
      ],
      "text/latex": [
       "A data.frame: 1 x 17\n",
       "\\begin{tabular}{r|lllllllllllllllll}\n",
       "  & sample\\_id & Shipped & DNAextracted & DNAused & libbatch & librarypassed & Library & libraryyield & captureyield & capbatch & capturepassed & Capture & deepseq & Sequencing & mysample\\_id & TCR & TCRanalysis\\\\\n",
       "  & <chr> & <chr> & <dbl> & <dbl> & <chr> & <chr> & <chr> & <dbl> & <dbl> & <chr> & <chr> & <chr> & <chr> & <chr> & <chr> & <chr> & <chr>\\\\\n",
       "\\hline\n",
       "\t141 & 383-03 & n = 321 & 7280 & 600 & 191104\\_M04827\\_0295\\_000000000-D7FHM & Passed & n = 282 & 35.328 & 47.12 & 191121\\_M04827\\_0308\\_000000000-D7HCV & Failed & n = 4 & NA & NA & CHP\\_383\\_03 & No & NA\\\\\n",
       "\\end{tabular}\n"
      ],
      "text/markdown": [
       "\n",
       "A data.frame: 1 x 17\n",
       "\n",
       "| <!--/--> | sample_id &lt;chr&gt; | Shipped &lt;chr&gt; | DNAextracted &lt;dbl&gt; | DNAused &lt;dbl&gt; | libbatch &lt;chr&gt; | librarypassed &lt;chr&gt; | Library &lt;chr&gt; | libraryyield &lt;dbl&gt; | captureyield &lt;dbl&gt; | capbatch &lt;chr&gt; | capturepassed &lt;chr&gt; | Capture &lt;chr&gt; | deepseq &lt;chr&gt; | Sequencing &lt;chr&gt; | mysample_id &lt;chr&gt; | TCR &lt;chr&gt; | TCRanalysis &lt;chr&gt; |\n",
       "|---|---|---|---|---|---|---|---|---|---|---|---|---|---|---|---|---|---|\n",
       "| 141 | 383-03 | n = 321 | 7280 | 600 | 191104_M04827_0295_000000000-D7FHM | Passed | n = 282 | 35.328 | 47.12 | 191121_M04827_0308_000000000-D7HCV | Failed | n = 4 | NA | NA | CHP_383_03 | No | NA |\n",
       "\n"
      ],
      "text/plain": [
       "    sample_id Shipped DNAextracted DNAused libbatch                          \n",
       "141 383-03    n = 321 7280         600     191104_M04827_0295_000000000-D7FHM\n",
       "    librarypassed Library libraryyield captureyield\n",
       "141 Passed        n = 282 35.328       47.12       \n",
       "    capbatch                           capturepassed Capture deepseq Sequencing\n",
       "141 191121_M04827_0308_000000000-D7HCV Failed        n = 4   NA      NA        \n",
       "    mysample_id TCR TCRanalysis\n",
       "141 CHP_383_03  No  NA         "
      ]
     },
     "metadata": {},
     "output_type": "display_data"
    }
   ],
   "source": [
    "pbmc_samples[ pbmc_samples$sample_id == \"383-03\",]"
   ]
  },
  {
   "cell_type": "code",
   "execution_count": 141,
   "metadata": {
    "vscode": {
     "languageId": "r"
    }
   },
   "outputs": [
    {
     "data": {
      "text/plain": [
       "< table of extent 0 >"
      ]
     },
     "metadata": {},
     "output_type": "display_data"
    }
   ],
   "source": [
    "table(pbmc_samples$TCRanalysis )"
   ]
  },
  {
   "cell_type": "code",
   "execution_count": 142,
   "metadata": {
    "vscode": {
     "languageId": "r"
    }
   },
   "outputs": [],
   "source": [
    "# Number of samples not included in TCR analysis\n",
    "tcrfailed <- sum(pbmc_samples$TCR == \"No\" & \n",
    "                 pbmc_samples$deepseq == \"Yes\" &\n",
    "                 pbmc_samples$capturepassed == \"Passed\")\n",
    "\n",
    "pbmc_samples$TCRanalysis[pbmc_samples$TCR == \"No\" & \n",
    "                         pbmc_samples$deepseq == \"Yes\" &\n",
    "                         pbmc_samples$capturepassed == \"Passed\"] <- paste0(\"n = \", tcrfailed)"
   ]
  },
  {
   "cell_type": "code",
   "execution_count": 143,
   "metadata": {
    "vscode": {
     "languageId": "r"
    }
   },
   "outputs": [
    {
     "data": {
      "text/html": [
       "<style>\n",
       ".list-inline {list-style: none; margin:0; padding: 0}\n",
       ".list-inline>li {display: inline-block}\n",
       ".list-inline>li:not(:last-child)::after {content: \"\\00b7\"; padding: 0 .5ex}\n",
       "</style>\n",
       "<ol class=list-inline><li>321</li><li>17</li></ol>\n"
      ],
      "text/latex": [
       "\\begin{enumerate*}\n",
       "\\item 321\n",
       "\\item 17\n",
       "\\end{enumerate*}\n"
      ],
      "text/markdown": [
       "1. 321\n",
       "2. 17\n",
       "\n",
       "\n"
      ],
      "text/plain": [
       "[1] 321  17"
      ]
     },
     "metadata": {},
     "output_type": "display_data"
    }
   ],
   "source": [
    "dim(pbmc_samples)"
   ]
  },
  {
   "cell_type": "code",
   "execution_count": 144,
   "metadata": {
    "vscode": {
     "languageId": "r"
    }
   },
   "outputs": [
    {
     "data": {
      "text/plain": [
       "\n",
       "n = 278    <NA> \n",
       "    278      43 "
      ]
     },
     "metadata": {},
     "output_type": "display_data"
    }
   ],
   "source": [
    "table(pbmc_samples$TCRanalysis, useNA = \"always\")"
   ]
  },
  {
   "cell_type": "code",
   "execution_count": 145,
   "metadata": {
    "vscode": {
     "languageId": "r"
    }
   },
   "outputs": [],
   "source": [
    "# Create a patient ID\n",
    "pbmc_samples$Patient <- substr(pbmc_samples$mysample_id, 0,7)"
   ]
  },
  {
   "cell_type": "code",
   "execution_count": 146,
   "metadata": {
    "vscode": {
     "languageId": "r"
    }
   },
   "outputs": [],
   "source": [
    "# add tumour type\n",
    "pbmc_samples$Tumor <- NA\n",
    "pbmc_samples$Tumor <- metadata$Disease_type[match(pbmc_samples$Patient, metadata$Patient)]"
   ]
  },
  {
   "cell_type": "code",
   "execution_count": 147,
   "metadata": {
    "vscode": {
     "languageId": "r"
    }
   },
   "outputs": [],
   "source": [
    "# add tumour group\n",
    "pbmc_samples$Group <- NA\n",
    "pbmc_samples$Group <- metadata$group[match(pbmc_samples$Patient, metadata$Patient)]"
   ]
  },
  {
   "cell_type": "code",
   "execution_count": 148,
   "metadata": {
    "vscode": {
     "languageId": "r"
    }
   },
   "outputs": [],
   "source": [
    "#remove tumor and group for samples not included in TCR analysis\n",
    "pbmc_samples$Group[ pbmc_samples$TCR == \"No\"] <- NA\n",
    "pbmc_samples$Tumor[ pbmc_samples$TCR == \"No\"] <- NA"
   ]
  },
  {
   "cell_type": "code",
   "execution_count": 149,
   "metadata": {
    "vscode": {
     "languageId": "r"
    }
   },
   "outputs": [],
   "source": [
    "#some colname cleanup\n",
    "colnames(pbmc_samples)[colnames(pbmc_samples) == \"Library\"] <- \"Library preparation\"\n",
    "colnames(pbmc_samples)[colnames(pbmc_samples) == \"Capture\"] <- \"Successful capture\"\n",
    "colnames(pbmc_samples)[colnames(pbmc_samples) == \"Sequencing\"] <- \"Deep sequencing\"\n",
    "colnames(pbmc_samples)[colnames(pbmc_samples) == \"TCRanalysis\"] <- \"TCR analysis\""
   ]
  },
  {
   "cell_type": "code",
   "execution_count": 150,
   "metadata": {
    "vscode": {
     "languageId": "r"
    }
   },
   "outputs": [],
   "source": [
    "save(pbmc_samples, file = paste0(gitpath, \"data/pbmc_sampleprocessing.RData\"))"
   ]
  },
  {
   "attachments": {},
   "cell_type": "markdown",
   "metadata": {},
   "source": [
    "# cfDNA"
   ]
  },
  {
   "attachments": {},
   "cell_type": "markdown",
   "metadata": {},
   "source": [
    "I modified the log file in excel added rm in column C. "
   ]
  },
  {
   "cell_type": "code",
   "execution_count": 9,
   "metadata": {
    "vscode": {
     "languageId": "r"
    }
   },
   "outputs": [],
   "source": [
    "cfdna <- read.xlsx(paste0(datapath, \"CHOP Lab Processing Log_AN.xlsx\"), sheet = 1)"
   ]
  },
  {
   "cell_type": "code",
   "execution_count": 10,
   "metadata": {
    "vscode": {
     "languageId": "r"
    }
   },
   "outputs": [],
   "source": [
    "cfdna$Sample.ID <- trimws(cfdna$Sample.ID)"
   ]
  },
  {
   "cell_type": "code",
   "execution_count": 11,
   "metadata": {
    "vscode": {
     "languageId": "r"
    }
   },
   "outputs": [
    {
     "data": {
      "text/html": [
       "355"
      ],
      "text/latex": [
       "355"
      ],
      "text/markdown": [
       "355"
      ],
      "text/plain": [
       "[1] 355"
      ]
     },
     "metadata": {},
     "output_type": "display_data"
    }
   ],
   "source": [
    "length(cfdna$Sample.ID)"
   ]
  },
  {
   "cell_type": "code",
   "execution_count": 12,
   "metadata": {
    "vscode": {
     "languageId": "r"
    }
   },
   "outputs": [],
   "source": [
    "cfdna$Colour.Legend <- NULL"
   ]
  },
  {
   "cell_type": "code",
   "execution_count": 13,
   "metadata": {
    "vscode": {
     "languageId": "r"
    }
   },
   "outputs": [],
   "source": [
    "cfdna <- cfdna[ which(cfdna$`Batch.#` != \"rm\"),]"
   ]
  },
  {
   "cell_type": "code",
   "execution_count": 14,
   "metadata": {
    "vscode": {
     "languageId": "r"
    }
   },
   "outputs": [
    {
     "data": {
      "text/html": [
       "<style>\n",
       ".list-inline {list-style: none; margin:0; padding: 0}\n",
       ".list-inline>li {display: inline-block}\n",
       ".list-inline>li:not(:last-child)::after {content: \"\\00b7\"; padding: 0 .5ex}\n",
       "</style>\n",
       "<ol class=list-inline><li>316</li><li>55</li></ol>\n"
      ],
      "text/latex": [
       "\\begin{enumerate*}\n",
       "\\item 316\n",
       "\\item 55\n",
       "\\end{enumerate*}\n"
      ],
      "text/markdown": [
       "1. 316\n",
       "2. 55\n",
       "\n",
       "\n"
      ],
      "text/plain": [
       "[1] 316  55"
      ]
     },
     "metadata": {},
     "output_type": "display_data"
    }
   ],
   "source": [
    "dim(cfdna)"
   ]
  },
  {
   "cell_type": "code",
   "execution_count": 15,
   "metadata": {
    "vscode": {
     "languageId": "r"
    }
   },
   "outputs": [
    {
     "data": {
      "text/html": [
       "<table class=\"dataframe\">\n",
       "<caption>A data.frame: 6 x 55</caption>\n",
       "<thead>\n",
       "\t<tr><th></th><th scope=col>Shipment.#</th><th scope=col>Batch.#</th><th scope=col>Sample.ID</th><th scope=col>Original.Box.#</th><th scope=col>Original.Box.Location</th><th scope=col>Sample.Type</th><th scope=col>Original.Plasma.Volume.(ml)</th><th scope=col>Extraction.Date</th><th scope=col>Extraction.Operator</th><th scope=col>Concentration.Elution.1.(ng/ul)</th><th scope=col>...</th><th scope=col>Amout.(ng)</th><th scope=col>Miseq.for.Capture</th><th scope=col>Miseq.Flow.Cell.ID</th><th scope=col>Sent.for.Nextseq?</th><th scope=col>Date.Submitted.for.Seq</th><th scope=col>Pugh.Lab.Seq.Submission.ID</th><th scope=col>Vol.used.for.Seq.(uL)</th><th scope=col>Vol.Remaining.(uL)</th><th scope=col>Capture.Notes</th><th scope=col>X56</th></tr>\n",
       "\t<tr><th></th><th scope=col>&lt;chr&gt;</th><th scope=col>&lt;chr&gt;</th><th scope=col>&lt;chr&gt;</th><th scope=col>&lt;chr&gt;</th><th scope=col>&lt;chr&gt;</th><th scope=col>&lt;chr&gt;</th><th scope=col>&lt;dbl&gt;</th><th scope=col>&lt;dbl&gt;</th><th scope=col>&lt;chr&gt;</th><th scope=col>&lt;chr&gt;</th><th scope=col>...</th><th scope=col>&lt;dbl&gt;</th><th scope=col>&lt;chr&gt;</th><th scope=col>&lt;chr&gt;</th><th scope=col>&lt;chr&gt;</th><th scope=col>&lt;dbl&gt;</th><th scope=col>&lt;chr&gt;</th><th scope=col>&lt;dbl&gt;</th><th scope=col>&lt;dbl&gt;</th><th scope=col>&lt;chr&gt;</th><th scope=col>&lt;dbl&gt;</th></tr>\n",
       "</thead>\n",
       "<tbody>\n",
       "\t<tr><th scope=row>2</th><td>1</td><td>1 </td><td>346-01</td><td>1</td><td>E1</td><td>Plasma</td><td>4.5</td><td>43523</td><td>JW   </td><td>0.65200000000000002</td><td>...</td><td>    NA</td><td>NA     </td><td>NA                                </td><td>NA  </td><td>   NA</td><td>NA                                                         </td><td>  NA</td><td>   NA</td><td>NA</td><td>NA</td></tr>\n",
       "\t<tr><th scope=row>4</th><td>1</td><td>1a</td><td>348-01</td><td>1</td><td>G5</td><td>Plasma</td><td>4.5</td><td>43511</td><td>RP/JW</td><td>0.48               </td><td>...</td><td> 733.4</td><td>Passed </td><td>200911_M04827_0435_000000000-D9GW9</td><td>Yes </td><td>44271</td><td>CHP-cfDNA-Remaining-Batches-PostCap-capTCRseq-NextSeq-Pool5</td><td>5.95</td><td>13.05</td><td>NA</td><td>NA</td></tr>\n",
       "\t<tr><th scope=row>6</th><td>1</td><td>1a</td><td>348-03</td><td>3</td><td>H2</td><td>Plasma</td><td>3.0</td><td>43511</td><td>RP/JW</td><td>0.75600000000000001</td><td>...</td><td> 733.4</td><td>Passed </td><td>200911_M04827_0435_000000000-D9GW9</td><td>Yes </td><td>44271</td><td>CHP-cfDNA-Remaining-Batches-PostCap-capTCRseq-NextSeq-Pool5</td><td>5.95</td><td>13.05</td><td>NA</td><td>NA</td></tr>\n",
       "\t<tr><th scope=row>7</th><td>1</td><td>1a</td><td>343-04</td><td>2</td><td>H5</td><td>Plasma</td><td>4.5</td><td>43504</td><td>RP/JW</td><td>0.56000000000000005</td><td>...</td><td>1052.6</td><td>Passed </td><td>200909_M04827_0434_000000000-D9988</td><td>Yes </td><td>44271</td><td>CHP-cfDNA-Remaining-Batches-PostCap-capTCRseq-NextSeq-Pool5</td><td>3.26</td><td>15.74</td><td>NA</td><td>NA</td></tr>\n",
       "\t<tr><th scope=row>9</th><td>1</td><td>1a</td><td>329-04</td><td>2</td><td>I2</td><td>Plasma</td><td>3.0</td><td>43511</td><td>RP/JW</td><td>0.99199999999999999</td><td>...</td><td>1132.4</td><td>Passed </td><td>200911_M04827_0435_000000000-D9GW9</td><td>Yes </td><td>44271</td><td>CHP-cfDNA-Remaining-Batches-PostCap-capTCRseq-NextSeq-Pool5</td><td>2.67</td><td>16.33</td><td>NA</td><td>NA</td></tr>\n",
       "\t<tr><th scope=row>10</th><td>1</td><td>1a</td><td>331-05</td><td>3</td><td>D6</td><td>Plasma</td><td>6.0</td><td>43516</td><td>RP/JW</td><td>0.89200000000000002</td><td>...</td><td>1565.6</td><td>Passed </td><td>200911_M04827_0435_000000000-D9GW9</td><td>Yes </td><td>44271</td><td>CHP-cfDNA-Remaining-Batches-PostCap-capTCRseq-NextSeq-Pool5</td><td>4.84</td><td>14.16</td><td>NA</td><td>NA</td></tr>\n",
       "</tbody>\n",
       "</table>\n"
      ],
      "text/latex": [
       "A data.frame: 6 x 55\n",
       "\\begin{tabular}{r|lllllllllllllllllllll}\n",
       "  & Shipment.\\# & Batch.\\# & Sample.ID & Original.Box.\\# & Original.Box.Location & Sample.Type & Original.Plasma.Volume.(ml) & Extraction.Date & Extraction.Operator & Concentration.Elution.1.(ng/ul) & ... & Amout.(ng) & Miseq.for.Capture & Miseq.Flow.Cell.ID & Sent.for.Nextseq? & Date.Submitted.for.Seq & Pugh.Lab.Seq.Submission.ID & Vol.used.for.Seq.(uL) & Vol.Remaining.(uL) & Capture.Notes & X56\\\\\n",
       "  & <chr> & <chr> & <chr> & <chr> & <chr> & <chr> & <dbl> & <dbl> & <chr> & <chr> & ... & <dbl> & <chr> & <chr> & <chr> & <dbl> & <chr> & <dbl> & <dbl> & <chr> & <dbl>\\\\\n",
       "\\hline\n",
       "\t2 & 1 & 1  & 346-01 & 1 & E1 & Plasma & 4.5 & 43523 & JW    & 0.65200000000000002 & ... &     NA & NA      & NA                                 & NA   &    NA & NA                                                          &   NA &    NA & NA & NA\\\\\n",
       "\t4 & 1 & 1a & 348-01 & 1 & G5 & Plasma & 4.5 & 43511 & RP/JW & 0.48                & ... &  733.4 & Passed  & 200911\\_M04827\\_0435\\_000000000-D9GW9 & Yes  & 44271 & CHP-cfDNA-Remaining-Batches-PostCap-capTCRseq-NextSeq-Pool5 & 5.95 & 13.05 & NA & NA\\\\\n",
       "\t6 & 1 & 1a & 348-03 & 3 & H2 & Plasma & 3.0 & 43511 & RP/JW & 0.75600000000000001 & ... &  733.4 & Passed  & 200911\\_M04827\\_0435\\_000000000-D9GW9 & Yes  & 44271 & CHP-cfDNA-Remaining-Batches-PostCap-capTCRseq-NextSeq-Pool5 & 5.95 & 13.05 & NA & NA\\\\\n",
       "\t7 & 1 & 1a & 343-04 & 2 & H5 & Plasma & 4.5 & 43504 & RP/JW & 0.56000000000000005 & ... & 1052.6 & Passed  & 200909\\_M04827\\_0434\\_000000000-D9988 & Yes  & 44271 & CHP-cfDNA-Remaining-Batches-PostCap-capTCRseq-NextSeq-Pool5 & 3.26 & 15.74 & NA & NA\\\\\n",
       "\t9 & 1 & 1a & 329-04 & 2 & I2 & Plasma & 3.0 & 43511 & RP/JW & 0.99199999999999999 & ... & 1132.4 & Passed  & 200911\\_M04827\\_0435\\_000000000-D9GW9 & Yes  & 44271 & CHP-cfDNA-Remaining-Batches-PostCap-capTCRseq-NextSeq-Pool5 & 2.67 & 16.33 & NA & NA\\\\\n",
       "\t10 & 1 & 1a & 331-05 & 3 & D6 & Plasma & 6.0 & 43516 & RP/JW & 0.89200000000000002 & ... & 1565.6 & Passed  & 200911\\_M04827\\_0435\\_000000000-D9GW9 & Yes  & 44271 & CHP-cfDNA-Remaining-Batches-PostCap-capTCRseq-NextSeq-Pool5 & 4.84 & 14.16 & NA & NA\\\\\n",
       "\\end{tabular}\n"
      ],
      "text/markdown": [
       "\n",
       "A data.frame: 6 x 55\n",
       "\n",
       "| <!--/--> | Shipment.# &lt;chr&gt; | Batch.# &lt;chr&gt; | Sample.ID &lt;chr&gt; | Original.Box.# &lt;chr&gt; | Original.Box.Location &lt;chr&gt; | Sample.Type &lt;chr&gt; | Original.Plasma.Volume.(ml) &lt;dbl&gt; | Extraction.Date &lt;dbl&gt; | Extraction.Operator &lt;chr&gt; | Concentration.Elution.1.(ng/ul) &lt;chr&gt; | ... ... | Amout.(ng) &lt;dbl&gt; | Miseq.for.Capture &lt;chr&gt; | Miseq.Flow.Cell.ID &lt;chr&gt; | Sent.for.Nextseq? &lt;chr&gt; | Date.Submitted.for.Seq &lt;dbl&gt; | Pugh.Lab.Seq.Submission.ID &lt;chr&gt; | Vol.used.for.Seq.(uL) &lt;dbl&gt; | Vol.Remaining.(uL) &lt;dbl&gt; | Capture.Notes &lt;chr&gt; | X56 &lt;dbl&gt; |\n",
       "|---|---|---|---|---|---|---|---|---|---|---|---|---|---|---|---|---|---|---|---|---|---|\n",
       "| 2 | 1 | 1  | 346-01 | 1 | E1 | Plasma | 4.5 | 43523 | JW    | 0.65200000000000002 | ... |     NA | NA      | NA                                 | NA   |    NA | NA                                                          |   NA |    NA | NA | NA |\n",
       "| 4 | 1 | 1a | 348-01 | 1 | G5 | Plasma | 4.5 | 43511 | RP/JW | 0.48                | ... |  733.4 | Passed  | 200911_M04827_0435_000000000-D9GW9 | Yes  | 44271 | CHP-cfDNA-Remaining-Batches-PostCap-capTCRseq-NextSeq-Pool5 | 5.95 | 13.05 | NA | NA |\n",
       "| 6 | 1 | 1a | 348-03 | 3 | H2 | Plasma | 3.0 | 43511 | RP/JW | 0.75600000000000001 | ... |  733.4 | Passed  | 200911_M04827_0435_000000000-D9GW9 | Yes  | 44271 | CHP-cfDNA-Remaining-Batches-PostCap-capTCRseq-NextSeq-Pool5 | 5.95 | 13.05 | NA | NA |\n",
       "| 7 | 1 | 1a | 343-04 | 2 | H5 | Plasma | 4.5 | 43504 | RP/JW | 0.56000000000000005 | ... | 1052.6 | Passed  | 200909_M04827_0434_000000000-D9988 | Yes  | 44271 | CHP-cfDNA-Remaining-Batches-PostCap-capTCRseq-NextSeq-Pool5 | 3.26 | 15.74 | NA | NA |\n",
       "| 9 | 1 | 1a | 329-04 | 2 | I2 | Plasma | 3.0 | 43511 | RP/JW | 0.99199999999999999 | ... | 1132.4 | Passed  | 200911_M04827_0435_000000000-D9GW9 | Yes  | 44271 | CHP-cfDNA-Remaining-Batches-PostCap-capTCRseq-NextSeq-Pool5 | 2.67 | 16.33 | NA | NA |\n",
       "| 10 | 1 | 1a | 331-05 | 3 | D6 | Plasma | 6.0 | 43516 | RP/JW | 0.89200000000000002 | ... | 1565.6 | Passed  | 200911_M04827_0435_000000000-D9GW9 | Yes  | 44271 | CHP-cfDNA-Remaining-Batches-PostCap-capTCRseq-NextSeq-Pool5 | 4.84 | 14.16 | NA | NA |\n",
       "\n"
      ],
      "text/plain": [
       "   Shipment.# Batch.# Sample.ID Original.Box.# Original.Box.Location\n",
       "2  1          1       346-01    1              E1                   \n",
       "4  1          1a      348-01    1              G5                   \n",
       "6  1          1a      348-03    3              H2                   \n",
       "7  1          1a      343-04    2              H5                   \n",
       "9  1          1a      329-04    2              I2                   \n",
       "10 1          1a      331-05    3              D6                   \n",
       "   Sample.Type Original.Plasma.Volume.(ml) Extraction.Date Extraction.Operator\n",
       "2  Plasma      4.5                         43523           JW                 \n",
       "4  Plasma      4.5                         43511           RP/JW              \n",
       "6  Plasma      3.0                         43511           RP/JW              \n",
       "7  Plasma      4.5                         43504           RP/JW              \n",
       "9  Plasma      3.0                         43511           RP/JW              \n",
       "10 Plasma      6.0                         43516           RP/JW              \n",
       "   Concentration.Elution.1.(ng/ul) ... Amout.(ng) Miseq.for.Capture\n",
       "2  0.65200000000000002             ...     NA     NA               \n",
       "4  0.48                            ...  733.4     Passed           \n",
       "6  0.75600000000000001             ...  733.4     Passed           \n",
       "7  0.56000000000000005             ... 1052.6     Passed           \n",
       "9  0.99199999999999999             ... 1132.4     Passed           \n",
       "10 0.89200000000000002             ... 1565.6     Passed           \n",
       "   Miseq.Flow.Cell.ID                 Sent.for.Nextseq? Date.Submitted.for.Seq\n",
       "2  NA                                 NA                   NA                 \n",
       "4  200911_M04827_0435_000000000-D9GW9 Yes               44271                 \n",
       "6  200911_M04827_0435_000000000-D9GW9 Yes               44271                 \n",
       "7  200909_M04827_0434_000000000-D9988 Yes               44271                 \n",
       "9  200911_M04827_0435_000000000-D9GW9 Yes               44271                 \n",
       "10 200911_M04827_0435_000000000-D9GW9 Yes               44271                 \n",
       "   Pugh.Lab.Seq.Submission.ID                                 \n",
       "2  NA                                                         \n",
       "4  CHP-cfDNA-Remaining-Batches-PostCap-capTCRseq-NextSeq-Pool5\n",
       "6  CHP-cfDNA-Remaining-Batches-PostCap-capTCRseq-NextSeq-Pool5\n",
       "7  CHP-cfDNA-Remaining-Batches-PostCap-capTCRseq-NextSeq-Pool5\n",
       "9  CHP-cfDNA-Remaining-Batches-PostCap-capTCRseq-NextSeq-Pool5\n",
       "10 CHP-cfDNA-Remaining-Batches-PostCap-capTCRseq-NextSeq-Pool5\n",
       "   Vol.used.for.Seq.(uL) Vol.Remaining.(uL) Capture.Notes X56\n",
       "2    NA                     NA              NA            NA \n",
       "4  5.95                  13.05              NA            NA \n",
       "6  5.95                  13.05              NA            NA \n",
       "7  3.26                  15.74              NA            NA \n",
       "9  2.67                  16.33              NA            NA \n",
       "10 4.84                  14.16              NA            NA "
      ]
     },
     "metadata": {},
     "output_type": "display_data"
    }
   ],
   "source": [
    "head(cfdna)"
   ]
  },
  {
   "cell_type": "code",
   "execution_count": 16,
   "metadata": {
    "vscode": {
     "languageId": "r"
    }
   },
   "outputs": [
    {
     "data": {
      "text/html": [
       "<table class=\"dataframe\">\n",
       "<caption>A data.frame: 1 x 55</caption>\n",
       "<thead>\n",
       "\t<tr><th></th><th scope=col>Shipment.#</th><th scope=col>Batch.#</th><th scope=col>Sample.ID</th><th scope=col>Original.Box.#</th><th scope=col>Original.Box.Location</th><th scope=col>Sample.Type</th><th scope=col>Original.Plasma.Volume.(ml)</th><th scope=col>Extraction.Date</th><th scope=col>Extraction.Operator</th><th scope=col>Concentration.Elution.1.(ng/ul)</th><th scope=col>...</th><th scope=col>Amout.(ng)</th><th scope=col>Miseq.for.Capture</th><th scope=col>Miseq.Flow.Cell.ID</th><th scope=col>Sent.for.Nextseq?</th><th scope=col>Date.Submitted.for.Seq</th><th scope=col>Pugh.Lab.Seq.Submission.ID</th><th scope=col>Vol.used.for.Seq.(uL)</th><th scope=col>Vol.Remaining.(uL)</th><th scope=col>Capture.Notes</th><th scope=col>X56</th></tr>\n",
       "\t<tr><th></th><th scope=col>&lt;chr&gt;</th><th scope=col>&lt;chr&gt;</th><th scope=col>&lt;chr&gt;</th><th scope=col>&lt;chr&gt;</th><th scope=col>&lt;chr&gt;</th><th scope=col>&lt;chr&gt;</th><th scope=col>&lt;dbl&gt;</th><th scope=col>&lt;dbl&gt;</th><th scope=col>&lt;chr&gt;</th><th scope=col>&lt;chr&gt;</th><th scope=col>...</th><th scope=col>&lt;dbl&gt;</th><th scope=col>&lt;chr&gt;</th><th scope=col>&lt;chr&gt;</th><th scope=col>&lt;chr&gt;</th><th scope=col>&lt;dbl&gt;</th><th scope=col>&lt;chr&gt;</th><th scope=col>&lt;dbl&gt;</th><th scope=col>&lt;dbl&gt;</th><th scope=col>&lt;chr&gt;</th><th scope=col>&lt;dbl&gt;</th></tr>\n",
       "</thead>\n",
       "<tbody>\n",
       "\t<tr><th scope=row>338</th><td>2</td><td>16b</td><td>403-03</td><td>2</td><td>G03</td><td>Plasma </td><td>0.35</td><td>43770</td><td>MC</td><td>5.0000000000000001E-3</td><td>...</td><td>741</td><td>Passed </td><td>200821_M04827_0425_000000000-D9BP6</td><td>Yes </td><td>44271</td><td>CHP-cfDNA-Remaining-Batches-PostCap-capTCRseq-NextSeq-Pool1</td><td>4.05</td><td>14.95</td><td>NA</td><td>NA</td></tr>\n",
       "</tbody>\n",
       "</table>\n"
      ],
      "text/latex": [
       "A data.frame: 1 x 55\n",
       "\\begin{tabular}{r|lllllllllllllllllllll}\n",
       "  & Shipment.\\# & Batch.\\# & Sample.ID & Original.Box.\\# & Original.Box.Location & Sample.Type & Original.Plasma.Volume.(ml) & Extraction.Date & Extraction.Operator & Concentration.Elution.1.(ng/ul) & ... & Amout.(ng) & Miseq.for.Capture & Miseq.Flow.Cell.ID & Sent.for.Nextseq? & Date.Submitted.for.Seq & Pugh.Lab.Seq.Submission.ID & Vol.used.for.Seq.(uL) & Vol.Remaining.(uL) & Capture.Notes & X56\\\\\n",
       "  & <chr> & <chr> & <chr> & <chr> & <chr> & <chr> & <dbl> & <dbl> & <chr> & <chr> & ... & <dbl> & <chr> & <chr> & <chr> & <dbl> & <chr> & <dbl> & <dbl> & <chr> & <dbl>\\\\\n",
       "\\hline\n",
       "\t338 & 2 & 16b & 403-03 & 2 & G03 & Plasma  & 0.35 & 43770 & MC & 5.0000000000000001E-3 & ... & 741 & Passed  & 200821\\_M04827\\_0425\\_000000000-D9BP6 & Yes  & 44271 & CHP-cfDNA-Remaining-Batches-PostCap-capTCRseq-NextSeq-Pool1 & 4.05 & 14.95 & NA & NA\\\\\n",
       "\\end{tabular}\n"
      ],
      "text/markdown": [
       "\n",
       "A data.frame: 1 x 55\n",
       "\n",
       "| <!--/--> | Shipment.# &lt;chr&gt; | Batch.# &lt;chr&gt; | Sample.ID &lt;chr&gt; | Original.Box.# &lt;chr&gt; | Original.Box.Location &lt;chr&gt; | Sample.Type &lt;chr&gt; | Original.Plasma.Volume.(ml) &lt;dbl&gt; | Extraction.Date &lt;dbl&gt; | Extraction.Operator &lt;chr&gt; | Concentration.Elution.1.(ng/ul) &lt;chr&gt; | ... ... | Amout.(ng) &lt;dbl&gt; | Miseq.for.Capture &lt;chr&gt; | Miseq.Flow.Cell.ID &lt;chr&gt; | Sent.for.Nextseq? &lt;chr&gt; | Date.Submitted.for.Seq &lt;dbl&gt; | Pugh.Lab.Seq.Submission.ID &lt;chr&gt; | Vol.used.for.Seq.(uL) &lt;dbl&gt; | Vol.Remaining.(uL) &lt;dbl&gt; | Capture.Notes &lt;chr&gt; | X56 &lt;dbl&gt; |\n",
       "|---|---|---|---|---|---|---|---|---|---|---|---|---|---|---|---|---|---|---|---|---|---|\n",
       "| 338 | 2 | 16b | 403-03 | 2 | G03 | Plasma  | 0.35 | 43770 | MC | 5.0000000000000001E-3 | ... | 741 | Passed  | 200821_M04827_0425_000000000-D9BP6 | Yes  | 44271 | CHP-cfDNA-Remaining-Batches-PostCap-capTCRseq-NextSeq-Pool1 | 4.05 | 14.95 | NA | NA |\n",
       "\n"
      ],
      "text/plain": [
       "    Shipment.# Batch.# Sample.ID Original.Box.# Original.Box.Location\n",
       "338 2          16b     403-03    2              G03                  \n",
       "    Sample.Type Original.Plasma.Volume.(ml) Extraction.Date Extraction.Operator\n",
       "338 Plasma      0.35                        43770           MC                 \n",
       "    Concentration.Elution.1.(ng/ul) ... Amout.(ng) Miseq.for.Capture\n",
       "338 5.0000000000000001E-3           ... 741        Passed           \n",
       "    Miseq.Flow.Cell.ID                 Sent.for.Nextseq? Date.Submitted.for.Seq\n",
       "338 200821_M04827_0425_000000000-D9BP6 Yes               44271                 \n",
       "    Pugh.Lab.Seq.Submission.ID                                 \n",
       "338 CHP-cfDNA-Remaining-Batches-PostCap-capTCRseq-NextSeq-Pool1\n",
       "    Vol.used.for.Seq.(uL) Vol.Remaining.(uL) Capture.Notes X56\n",
       "338 4.05                  14.95              NA            NA "
      ]
     },
     "metadata": {},
     "output_type": "display_data"
    }
   ],
   "source": [
    "cfdna[ cfdna$Sample.ID == \"403-03\",]"
   ]
  },
  {
   "cell_type": "code",
   "execution_count": 17,
   "metadata": {
    "vscode": {
     "languageId": "r"
    }
   },
   "outputs": [],
   "source": [
    "# get total number of samples shipped\n",
    "cfdna_samples <- data.frame(cfdna$Sample.ID, stringsAsFactors = F)"
   ]
  },
  {
   "cell_type": "code",
   "execution_count": 18,
   "metadata": {
    "vscode": {
     "languageId": "r"
    }
   },
   "outputs": [],
   "source": [
    "cfdna$samplevol <- as.numeric(cfdna$`Original.Plasma.Volume.(ml)`)\n",
    "cfdna$yield <- as.numeric(cfdna$`Total.yield.Elution.1`)"
   ]
  },
  {
   "cell_type": "code",
   "execution_count": 19,
   "metadata": {
    "vscode": {
     "languageId": "r"
    }
   },
   "outputs": [
    {
     "data": {
      "text/html": [
       "<style>\n",
       ".list-inline {list-style: none; margin:0; padding: 0}\n",
       ".list-inline>li {display: inline-block}\n",
       ".list-inline>li:not(:last-child)::after {content: \"\\00b7\"; padding: 0 .5ex}\n",
       "</style>\n",
       "<ol class=list-inline><li>'Shipment.#'</li><li>'Batch.#'</li><li>'Sample.ID'</li><li>'Original.Box.#'</li><li>'Original.Box.Location'</li><li>'Sample.Type'</li><li>'Original.Plasma.Volume.(ml)'</li><li>'Extraction.Date'</li><li>'Extraction.Operator'</li><li>'Concentration.Elution.1.(ng/ul)'</li><li>'Elution.1.volume.(ul)'</li><li>'Total.yield.Elution.1'</li><li>'Concentration.Elution.2.(ng/ul)'</li><li>'Elution.2.Volume.(ul)'</li><li>'Total.yield.Elution.2'</li><li>'Total.yield.1+2'</li><li>'Elution.Buffer.Type'</li><li>'Extraction.Protocol'</li><li>'Notes'</li><li>'Library.Prep.Date'</li><li>'Library.Prep.Technician'</li><li>'Sample.Vol.used.for.Library.Prep.(uL)'</li><li>'Amount.of.DNA.used.for.library.prep.(ng)'</li><li>'Remaining.amount.of.DNA.(ng)'</li><li>'Library.ID'</li><li>'Adaptor'</li><li>'Adaptor.Sequence'</li><li>'Number.of.PCR.Cycles.for.Library.Amplification'</li><li>'Library.Qubit.(ng/uL)'</li><li>'Final.Library.Vol.(uL)'</li><li>'Amount.of.DNA.(ng)'</li><li>'Miseq.for.Library'</li><li>'Library.Miseq.Flow.Cell.ID'</li><li>'Library.Prep.Notes'</li><li>'Capture.Date'</li><li>'Capture.Technician'</li><li>'Sample.Vol.used.for.Capture.(ul)'</li><li>'Amount.of.Library.used.for.Capture.Pooling.(ng)'</li><li>'Remaining.Amount.of.Library.(ng)'</li><li>'Capture.Pool.ID'</li><li>'Number.of.Libraries.to.Pool.for.1ug.target.capture'</li><li>'Number.of.PCR.Amp.Cycles.(Day.2)'</li><li>'Number.of.PCR.Amp.Cycles.post-capture.(Day.4)'</li><li>'Qubit.Concentration.Post-cap.(ng/uL)'</li><li>'Final.Capture.Vol.(uL)'</li><li>'Amout.(ng)'</li><li>'Miseq.for.Capture'</li><li>'Miseq.Flow.Cell.ID'</li><li>'Sent.for.Nextseq?'</li><li>'Date.Submitted.for.Seq'</li><li>'Pugh.Lab.Seq.Submission.ID'</li><li>'Vol.used.for.Seq.(uL)'</li><li>'Vol.Remaining.(uL)'</li><li>'Capture.Notes'</li><li>'X56'</li><li>'samplevol'</li><li>'yield'</li></ol>\n"
      ],
      "text/latex": [
       "\\begin{enumerate*}\n",
       "\\item 'Shipment.\\#'\n",
       "\\item 'Batch.\\#'\n",
       "\\item 'Sample.ID'\n",
       "\\item 'Original.Box.\\#'\n",
       "\\item 'Original.Box.Location'\n",
       "\\item 'Sample.Type'\n",
       "\\item 'Original.Plasma.Volume.(ml)'\n",
       "\\item 'Extraction.Date'\n",
       "\\item 'Extraction.Operator'\n",
       "\\item 'Concentration.Elution.1.(ng/ul)'\n",
       "\\item 'Elution.1.volume.(ul)'\n",
       "\\item 'Total.yield.Elution.1'\n",
       "\\item 'Concentration.Elution.2.(ng/ul)'\n",
       "\\item 'Elution.2.Volume.(ul)'\n",
       "\\item 'Total.yield.Elution.2'\n",
       "\\item 'Total.yield.1+2'\n",
       "\\item 'Elution.Buffer.Type'\n",
       "\\item 'Extraction.Protocol'\n",
       "\\item 'Notes'\n",
       "\\item 'Library.Prep.Date'\n",
       "\\item 'Library.Prep.Technician'\n",
       "\\item 'Sample.Vol.used.for.Library.Prep.(uL)'\n",
       "\\item 'Amount.of.DNA.used.for.library.prep.(ng)'\n",
       "\\item 'Remaining.amount.of.DNA.(ng)'\n",
       "\\item 'Library.ID'\n",
       "\\item 'Adaptor'\n",
       "\\item 'Adaptor.Sequence'\n",
       "\\item 'Number.of.PCR.Cycles.for.Library.Amplification'\n",
       "\\item 'Library.Qubit.(ng/uL)'\n",
       "\\item 'Final.Library.Vol.(uL)'\n",
       "\\item 'Amount.of.DNA.(ng)'\n",
       "\\item 'Miseq.for.Library'\n",
       "\\item 'Library.Miseq.Flow.Cell.ID'\n",
       "\\item 'Library.Prep.Notes'\n",
       "\\item 'Capture.Date'\n",
       "\\item 'Capture.Technician'\n",
       "\\item 'Sample.Vol.used.for.Capture.(ul)'\n",
       "\\item 'Amount.of.Library.used.for.Capture.Pooling.(ng)'\n",
       "\\item 'Remaining.Amount.of.Library.(ng)'\n",
       "\\item 'Capture.Pool.ID'\n",
       "\\item 'Number.of.Libraries.to.Pool.for.1ug.target.capture'\n",
       "\\item 'Number.of.PCR.Amp.Cycles.(Day.2)'\n",
       "\\item 'Number.of.PCR.Amp.Cycles.post-capture.(Day.4)'\n",
       "\\item 'Qubit.Concentration.Post-cap.(ng/uL)'\n",
       "\\item 'Final.Capture.Vol.(uL)'\n",
       "\\item 'Amout.(ng)'\n",
       "\\item 'Miseq.for.Capture'\n",
       "\\item 'Miseq.Flow.Cell.ID'\n",
       "\\item 'Sent.for.Nextseq?'\n",
       "\\item 'Date.Submitted.for.Seq'\n",
       "\\item 'Pugh.Lab.Seq.Submission.ID'\n",
       "\\item 'Vol.used.for.Seq.(uL)'\n",
       "\\item 'Vol.Remaining.(uL)'\n",
       "\\item 'Capture.Notes'\n",
       "\\item 'X56'\n",
       "\\item 'samplevol'\n",
       "\\item 'yield'\n",
       "\\end{enumerate*}\n"
      ],
      "text/markdown": [
       "1. 'Shipment.#'\n",
       "2. 'Batch.#'\n",
       "3. 'Sample.ID'\n",
       "4. 'Original.Box.#'\n",
       "5. 'Original.Box.Location'\n",
       "6. 'Sample.Type'\n",
       "7. 'Original.Plasma.Volume.(ml)'\n",
       "8. 'Extraction.Date'\n",
       "9. 'Extraction.Operator'\n",
       "10. 'Concentration.Elution.1.(ng/ul)'\n",
       "11. 'Elution.1.volume.(ul)'\n",
       "12. 'Total.yield.Elution.1'\n",
       "13. 'Concentration.Elution.2.(ng/ul)'\n",
       "14. 'Elution.2.Volume.(ul)'\n",
       "15. 'Total.yield.Elution.2'\n",
       "16. 'Total.yield.1+2'\n",
       "17. 'Elution.Buffer.Type'\n",
       "18. 'Extraction.Protocol'\n",
       "19. 'Notes'\n",
       "20. 'Library.Prep.Date'\n",
       "21. 'Library.Prep.Technician'\n",
       "22. 'Sample.Vol.used.for.Library.Prep.(uL)'\n",
       "23. 'Amount.of.DNA.used.for.library.prep.(ng)'\n",
       "24. 'Remaining.amount.of.DNA.(ng)'\n",
       "25. 'Library.ID'\n",
       "26. 'Adaptor'\n",
       "27. 'Adaptor.Sequence'\n",
       "28. 'Number.of.PCR.Cycles.for.Library.Amplification'\n",
       "29. 'Library.Qubit.(ng/uL)'\n",
       "30. 'Final.Library.Vol.(uL)'\n",
       "31. 'Amount.of.DNA.(ng)'\n",
       "32. 'Miseq.for.Library'\n",
       "33. 'Library.Miseq.Flow.Cell.ID'\n",
       "34. 'Library.Prep.Notes'\n",
       "35. 'Capture.Date'\n",
       "36. 'Capture.Technician'\n",
       "37. 'Sample.Vol.used.for.Capture.(ul)'\n",
       "38. 'Amount.of.Library.used.for.Capture.Pooling.(ng)'\n",
       "39. 'Remaining.Amount.of.Library.(ng)'\n",
       "40. 'Capture.Pool.ID'\n",
       "41. 'Number.of.Libraries.to.Pool.for.1ug.target.capture'\n",
       "42. 'Number.of.PCR.Amp.Cycles.(Day.2)'\n",
       "43. 'Number.of.PCR.Amp.Cycles.post-capture.(Day.4)'\n",
       "44. 'Qubit.Concentration.Post-cap.(ng/uL)'\n",
       "45. 'Final.Capture.Vol.(uL)'\n",
       "46. 'Amout.(ng)'\n",
       "47. 'Miseq.for.Capture'\n",
       "48. 'Miseq.Flow.Cell.ID'\n",
       "49. 'Sent.for.Nextseq?'\n",
       "50. 'Date.Submitted.for.Seq'\n",
       "51. 'Pugh.Lab.Seq.Submission.ID'\n",
       "52. 'Vol.used.for.Seq.(uL)'\n",
       "53. 'Vol.Remaining.(uL)'\n",
       "54. 'Capture.Notes'\n",
       "55. 'X56'\n",
       "56. 'samplevol'\n",
       "57. 'yield'\n",
       "\n",
       "\n"
      ],
      "text/plain": [
       " [1] \"Shipment.#\"                                        \n",
       " [2] \"Batch.#\"                                           \n",
       " [3] \"Sample.ID\"                                         \n",
       " [4] \"Original.Box.#\"                                    \n",
       " [5] \"Original.Box.Location\"                             \n",
       " [6] \"Sample.Type\"                                       \n",
       " [7] \"Original.Plasma.Volume.(ml)\"                       \n",
       " [8] \"Extraction.Date\"                                   \n",
       " [9] \"Extraction.Operator\"                               \n",
       "[10] \"Concentration.Elution.1.(ng/ul)\"                   \n",
       "[11] \"Elution.1.volume.(ul)\"                             \n",
       "[12] \"Total.yield.Elution.1\"                             \n",
       "[13] \"Concentration.Elution.2.(ng/ul)\"                   \n",
       "[14] \"Elution.2.Volume.(ul)\"                             \n",
       "[15] \"Total.yield.Elution.2\"                             \n",
       "[16] \"Total.yield.1+2\"                                   \n",
       "[17] \"Elution.Buffer.Type\"                               \n",
       "[18] \"Extraction.Protocol\"                               \n",
       "[19] \"Notes\"                                             \n",
       "[20] \"Library.Prep.Date\"                                 \n",
       "[21] \"Library.Prep.Technician\"                           \n",
       "[22] \"Sample.Vol.used.for.Library.Prep.(uL)\"             \n",
       "[23] \"Amount.of.DNA.used.for.library.prep.(ng)\"          \n",
       "[24] \"Remaining.amount.of.DNA.(ng)\"                      \n",
       "[25] \"Library.ID\"                                        \n",
       "[26] \"Adaptor\"                                           \n",
       "[27] \"Adaptor.Sequence\"                                  \n",
       "[28] \"Number.of.PCR.Cycles.for.Library.Amplification\"    \n",
       "[29] \"Library.Qubit.(ng/uL)\"                             \n",
       "[30] \"Final.Library.Vol.(uL)\"                            \n",
       "[31] \"Amount.of.DNA.(ng)\"                                \n",
       "[32] \"Miseq.for.Library\"                                 \n",
       "[33] \"Library.Miseq.Flow.Cell.ID\"                        \n",
       "[34] \"Library.Prep.Notes\"                                \n",
       "[35] \"Capture.Date\"                                      \n",
       "[36] \"Capture.Technician\"                                \n",
       "[37] \"Sample.Vol.used.for.Capture.(ul)\"                  \n",
       "[38] \"Amount.of.Library.used.for.Capture.Pooling.(ng)\"   \n",
       "[39] \"Remaining.Amount.of.Library.(ng)\"                  \n",
       "[40] \"Capture.Pool.ID\"                                   \n",
       "[41] \"Number.of.Libraries.to.Pool.for.1ug.target.capture\"\n",
       "[42] \"Number.of.PCR.Amp.Cycles.(Day.2)\"                  \n",
       "[43] \"Number.of.PCR.Amp.Cycles.post-capture.(Day.4)\"     \n",
       "[44] \"Qubit.Concentration.Post-cap.(ng/uL)\"              \n",
       "[45] \"Final.Capture.Vol.(uL)\"                            \n",
       "[46] \"Amout.(ng)\"                                        \n",
       "[47] \"Miseq.for.Capture\"                                 \n",
       "[48] \"Miseq.Flow.Cell.ID\"                                \n",
       "[49] \"Sent.for.Nextseq?\"                                 \n",
       "[50] \"Date.Submitted.for.Seq\"                            \n",
       "[51] \"Pugh.Lab.Seq.Submission.ID\"                        \n",
       "[52] \"Vol.used.for.Seq.(uL)\"                             \n",
       "[53] \"Vol.Remaining.(uL)\"                                \n",
       "[54] \"Capture.Notes\"                                     \n",
       "[55] \"X56\"                                               \n",
       "[56] \"samplevol\"                                         \n",
       "[57] \"yield\"                                             "
      ]
     },
     "metadata": {},
     "output_type": "display_data"
    }
   ],
   "source": [
    "colnames(cfdna)"
   ]
  },
  {
   "cell_type": "code",
   "execution_count": 20,
   "metadata": {
    "vscode": {
     "languageId": "r"
    }
   },
   "outputs": [
    {
     "data": {
      "text/html": [
       "<table class=\"dataframe\">\n",
       "<caption>A data.frame: 6 x 57</caption>\n",
       "<thead>\n",
       "\t<tr><th></th><th scope=col>Shipment.#</th><th scope=col>Batch.#</th><th scope=col>Sample.ID</th><th scope=col>Original.Box.#</th><th scope=col>Original.Box.Location</th><th scope=col>Sample.Type</th><th scope=col>Original.Plasma.Volume.(ml)</th><th scope=col>Extraction.Date</th><th scope=col>Extraction.Operator</th><th scope=col>Concentration.Elution.1.(ng/ul)</th><th scope=col>...</th><th scope=col>Miseq.Flow.Cell.ID</th><th scope=col>Sent.for.Nextseq?</th><th scope=col>Date.Submitted.for.Seq</th><th scope=col>Pugh.Lab.Seq.Submission.ID</th><th scope=col>Vol.used.for.Seq.(uL)</th><th scope=col>Vol.Remaining.(uL)</th><th scope=col>Capture.Notes</th><th scope=col>X56</th><th scope=col>samplevol</th><th scope=col>yield</th></tr>\n",
       "\t<tr><th></th><th scope=col>&lt;chr&gt;</th><th scope=col>&lt;chr&gt;</th><th scope=col>&lt;chr&gt;</th><th scope=col>&lt;chr&gt;</th><th scope=col>&lt;chr&gt;</th><th scope=col>&lt;chr&gt;</th><th scope=col>&lt;dbl&gt;</th><th scope=col>&lt;dbl&gt;</th><th scope=col>&lt;chr&gt;</th><th scope=col>&lt;chr&gt;</th><th scope=col>...</th><th scope=col>&lt;chr&gt;</th><th scope=col>&lt;chr&gt;</th><th scope=col>&lt;dbl&gt;</th><th scope=col>&lt;chr&gt;</th><th scope=col>&lt;dbl&gt;</th><th scope=col>&lt;dbl&gt;</th><th scope=col>&lt;chr&gt;</th><th scope=col>&lt;dbl&gt;</th><th scope=col>&lt;dbl&gt;</th><th scope=col>&lt;dbl&gt;</th></tr>\n",
       "</thead>\n",
       "<tbody>\n",
       "\t<tr><th scope=row>2</th><td>1</td><td>1 </td><td>346-01</td><td>1</td><td>E1</td><td>Plasma</td><td>4.5</td><td>43523</td><td>JW   </td><td>0.65200000000000002</td><td>...</td><td>NA                                </td><td>NA  </td><td>   NA</td><td>NA                                                         </td><td>  NA</td><td>   NA</td><td>NA</td><td>NA</td><td>4.5</td><td>19.5600</td></tr>\n",
       "\t<tr><th scope=row>4</th><td>1</td><td>1a</td><td>348-01</td><td>1</td><td>G5</td><td>Plasma</td><td>4.5</td><td>43511</td><td>RP/JW</td><td>0.48               </td><td>...</td><td>200911_M04827_0435_000000000-D9GW9</td><td>Yes </td><td>44271</td><td>CHP-cfDNA-Remaining-Batches-PostCap-capTCRseq-NextSeq-Pool5</td><td>5.95</td><td>13.05</td><td>NA</td><td>NA</td><td>4.5</td><td>14.4000</td></tr>\n",
       "\t<tr><th scope=row>6</th><td>1</td><td>1a</td><td>348-03</td><td>3</td><td>H2</td><td>Plasma</td><td>3.0</td><td>43511</td><td>RP/JW</td><td>0.75600000000000001</td><td>...</td><td>200911_M04827_0435_000000000-D9GW9</td><td>Yes </td><td>44271</td><td>CHP-cfDNA-Remaining-Batches-PostCap-capTCRseq-NextSeq-Pool5</td><td>5.95</td><td>13.05</td><td>NA</td><td>NA</td><td>3.0</td><td>24.4944</td></tr>\n",
       "\t<tr><th scope=row>7</th><td>1</td><td>1a</td><td>343-04</td><td>2</td><td>H5</td><td>Plasma</td><td>4.5</td><td>43504</td><td>RP/JW</td><td>0.56000000000000005</td><td>...</td><td>200909_M04827_0434_000000000-D9988</td><td>Yes </td><td>44271</td><td>CHP-cfDNA-Remaining-Batches-PostCap-capTCRseq-NextSeq-Pool5</td><td>3.26</td><td>15.74</td><td>NA</td><td>NA</td><td>4.5</td><td>56.0000</td></tr>\n",
       "\t<tr><th scope=row>9</th><td>1</td><td>1a</td><td>329-04</td><td>2</td><td>I2</td><td>Plasma</td><td>3.0</td><td>43511</td><td>RP/JW</td><td>0.99199999999999999</td><td>...</td><td>200911_M04827_0435_000000000-D9GW9</td><td>Yes </td><td>44271</td><td>CHP-cfDNA-Remaining-Batches-PostCap-capTCRseq-NextSeq-Pool5</td><td>2.67</td><td>16.33</td><td>NA</td><td>NA</td><td>3.0</td><td>40.0768</td></tr>\n",
       "\t<tr><th scope=row>10</th><td>1</td><td>1a</td><td>331-05</td><td>3</td><td>D6</td><td>Plasma</td><td>6.0</td><td>43516</td><td>RP/JW</td><td>0.89200000000000002</td><td>...</td><td>200911_M04827_0435_000000000-D9GW9</td><td>Yes </td><td>44271</td><td>CHP-cfDNA-Remaining-Batches-PostCap-capTCRseq-NextSeq-Pool5</td><td>4.84</td><td>14.16</td><td>NA</td><td>NA</td><td>6.0</td><td>71.3600</td></tr>\n",
       "</tbody>\n",
       "</table>\n"
      ],
      "text/latex": [
       "A data.frame: 6 x 57\n",
       "\\begin{tabular}{r|lllllllllllllllllllll}\n",
       "  & Shipment.\\# & Batch.\\# & Sample.ID & Original.Box.\\# & Original.Box.Location & Sample.Type & Original.Plasma.Volume.(ml) & Extraction.Date & Extraction.Operator & Concentration.Elution.1.(ng/ul) & ... & Miseq.Flow.Cell.ID & Sent.for.Nextseq? & Date.Submitted.for.Seq & Pugh.Lab.Seq.Submission.ID & Vol.used.for.Seq.(uL) & Vol.Remaining.(uL) & Capture.Notes & X56 & samplevol & yield\\\\\n",
       "  & <chr> & <chr> & <chr> & <chr> & <chr> & <chr> & <dbl> & <dbl> & <chr> & <chr> & ... & <chr> & <chr> & <dbl> & <chr> & <dbl> & <dbl> & <chr> & <dbl> & <dbl> & <dbl>\\\\\n",
       "\\hline\n",
       "\t2 & 1 & 1  & 346-01 & 1 & E1 & Plasma & 4.5 & 43523 & JW    & 0.65200000000000002 & ... & NA                                 & NA   &    NA & NA                                                          &   NA &    NA & NA & NA & 4.5 & 19.5600\\\\\n",
       "\t4 & 1 & 1a & 348-01 & 1 & G5 & Plasma & 4.5 & 43511 & RP/JW & 0.48                & ... & 200911\\_M04827\\_0435\\_000000000-D9GW9 & Yes  & 44271 & CHP-cfDNA-Remaining-Batches-PostCap-capTCRseq-NextSeq-Pool5 & 5.95 & 13.05 & NA & NA & 4.5 & 14.4000\\\\\n",
       "\t6 & 1 & 1a & 348-03 & 3 & H2 & Plasma & 3.0 & 43511 & RP/JW & 0.75600000000000001 & ... & 200911\\_M04827\\_0435\\_000000000-D9GW9 & Yes  & 44271 & CHP-cfDNA-Remaining-Batches-PostCap-capTCRseq-NextSeq-Pool5 & 5.95 & 13.05 & NA & NA & 3.0 & 24.4944\\\\\n",
       "\t7 & 1 & 1a & 343-04 & 2 & H5 & Plasma & 4.5 & 43504 & RP/JW & 0.56000000000000005 & ... & 200909\\_M04827\\_0434\\_000000000-D9988 & Yes  & 44271 & CHP-cfDNA-Remaining-Batches-PostCap-capTCRseq-NextSeq-Pool5 & 3.26 & 15.74 & NA & NA & 4.5 & 56.0000\\\\\n",
       "\t9 & 1 & 1a & 329-04 & 2 & I2 & Plasma & 3.0 & 43511 & RP/JW & 0.99199999999999999 & ... & 200911\\_M04827\\_0435\\_000000000-D9GW9 & Yes  & 44271 & CHP-cfDNA-Remaining-Batches-PostCap-capTCRseq-NextSeq-Pool5 & 2.67 & 16.33 & NA & NA & 3.0 & 40.0768\\\\\n",
       "\t10 & 1 & 1a & 331-05 & 3 & D6 & Plasma & 6.0 & 43516 & RP/JW & 0.89200000000000002 & ... & 200911\\_M04827\\_0435\\_000000000-D9GW9 & Yes  & 44271 & CHP-cfDNA-Remaining-Batches-PostCap-capTCRseq-NextSeq-Pool5 & 4.84 & 14.16 & NA & NA & 6.0 & 71.3600\\\\\n",
       "\\end{tabular}\n"
      ],
      "text/markdown": [
       "\n",
       "A data.frame: 6 x 57\n",
       "\n",
       "| <!--/--> | Shipment.# &lt;chr&gt; | Batch.# &lt;chr&gt; | Sample.ID &lt;chr&gt; | Original.Box.# &lt;chr&gt; | Original.Box.Location &lt;chr&gt; | Sample.Type &lt;chr&gt; | Original.Plasma.Volume.(ml) &lt;dbl&gt; | Extraction.Date &lt;dbl&gt; | Extraction.Operator &lt;chr&gt; | Concentration.Elution.1.(ng/ul) &lt;chr&gt; | ... ... | Miseq.Flow.Cell.ID &lt;chr&gt; | Sent.for.Nextseq? &lt;chr&gt; | Date.Submitted.for.Seq &lt;dbl&gt; | Pugh.Lab.Seq.Submission.ID &lt;chr&gt; | Vol.used.for.Seq.(uL) &lt;dbl&gt; | Vol.Remaining.(uL) &lt;dbl&gt; | Capture.Notes &lt;chr&gt; | X56 &lt;dbl&gt; | samplevol &lt;dbl&gt; | yield &lt;dbl&gt; |\n",
       "|---|---|---|---|---|---|---|---|---|---|---|---|---|---|---|---|---|---|---|---|---|---|\n",
       "| 2 | 1 | 1  | 346-01 | 1 | E1 | Plasma | 4.5 | 43523 | JW    | 0.65200000000000002 | ... | NA                                 | NA   |    NA | NA                                                          |   NA |    NA | NA | NA | 4.5 | 19.5600 |\n",
       "| 4 | 1 | 1a | 348-01 | 1 | G5 | Plasma | 4.5 | 43511 | RP/JW | 0.48                | ... | 200911_M04827_0435_000000000-D9GW9 | Yes  | 44271 | CHP-cfDNA-Remaining-Batches-PostCap-capTCRseq-NextSeq-Pool5 | 5.95 | 13.05 | NA | NA | 4.5 | 14.4000 |\n",
       "| 6 | 1 | 1a | 348-03 | 3 | H2 | Plasma | 3.0 | 43511 | RP/JW | 0.75600000000000001 | ... | 200911_M04827_0435_000000000-D9GW9 | Yes  | 44271 | CHP-cfDNA-Remaining-Batches-PostCap-capTCRseq-NextSeq-Pool5 | 5.95 | 13.05 | NA | NA | 3.0 | 24.4944 |\n",
       "| 7 | 1 | 1a | 343-04 | 2 | H5 | Plasma | 4.5 | 43504 | RP/JW | 0.56000000000000005 | ... | 200909_M04827_0434_000000000-D9988 | Yes  | 44271 | CHP-cfDNA-Remaining-Batches-PostCap-capTCRseq-NextSeq-Pool5 | 3.26 | 15.74 | NA | NA | 4.5 | 56.0000 |\n",
       "| 9 | 1 | 1a | 329-04 | 2 | I2 | Plasma | 3.0 | 43511 | RP/JW | 0.99199999999999999 | ... | 200911_M04827_0435_000000000-D9GW9 | Yes  | 44271 | CHP-cfDNA-Remaining-Batches-PostCap-capTCRseq-NextSeq-Pool5 | 2.67 | 16.33 | NA | NA | 3.0 | 40.0768 |\n",
       "| 10 | 1 | 1a | 331-05 | 3 | D6 | Plasma | 6.0 | 43516 | RP/JW | 0.89200000000000002 | ... | 200911_M04827_0435_000000000-D9GW9 | Yes  | 44271 | CHP-cfDNA-Remaining-Batches-PostCap-capTCRseq-NextSeq-Pool5 | 4.84 | 14.16 | NA | NA | 6.0 | 71.3600 |\n",
       "\n"
      ],
      "text/plain": [
       "   Shipment.# Batch.# Sample.ID Original.Box.# Original.Box.Location\n",
       "2  1          1       346-01    1              E1                   \n",
       "4  1          1a      348-01    1              G5                   \n",
       "6  1          1a      348-03    3              H2                   \n",
       "7  1          1a      343-04    2              H5                   \n",
       "9  1          1a      329-04    2              I2                   \n",
       "10 1          1a      331-05    3              D6                   \n",
       "   Sample.Type Original.Plasma.Volume.(ml) Extraction.Date Extraction.Operator\n",
       "2  Plasma      4.5                         43523           JW                 \n",
       "4  Plasma      4.5                         43511           RP/JW              \n",
       "6  Plasma      3.0                         43511           RP/JW              \n",
       "7  Plasma      4.5                         43504           RP/JW              \n",
       "9  Plasma      3.0                         43511           RP/JW              \n",
       "10 Plasma      6.0                         43516           RP/JW              \n",
       "   Concentration.Elution.1.(ng/ul) ... Miseq.Flow.Cell.ID                \n",
       "2  0.65200000000000002             ... NA                                \n",
       "4  0.48                            ... 200911_M04827_0435_000000000-D9GW9\n",
       "6  0.75600000000000001             ... 200911_M04827_0435_000000000-D9GW9\n",
       "7  0.56000000000000005             ... 200909_M04827_0434_000000000-D9988\n",
       "9  0.99199999999999999             ... 200911_M04827_0435_000000000-D9GW9\n",
       "10 0.89200000000000002             ... 200911_M04827_0435_000000000-D9GW9\n",
       "   Sent.for.Nextseq? Date.Submitted.for.Seq\n",
       "2  NA                   NA                 \n",
       "4  Yes               44271                 \n",
       "6  Yes               44271                 \n",
       "7  Yes               44271                 \n",
       "9  Yes               44271                 \n",
       "10 Yes               44271                 \n",
       "   Pugh.Lab.Seq.Submission.ID                                 \n",
       "2  NA                                                         \n",
       "4  CHP-cfDNA-Remaining-Batches-PostCap-capTCRseq-NextSeq-Pool5\n",
       "6  CHP-cfDNA-Remaining-Batches-PostCap-capTCRseq-NextSeq-Pool5\n",
       "7  CHP-cfDNA-Remaining-Batches-PostCap-capTCRseq-NextSeq-Pool5\n",
       "9  CHP-cfDNA-Remaining-Batches-PostCap-capTCRseq-NextSeq-Pool5\n",
       "10 CHP-cfDNA-Remaining-Batches-PostCap-capTCRseq-NextSeq-Pool5\n",
       "   Vol.used.for.Seq.(uL) Vol.Remaining.(uL) Capture.Notes X56 samplevol yield  \n",
       "2    NA                     NA              NA            NA  4.5       19.5600\n",
       "4  5.95                  13.05              NA            NA  4.5       14.4000\n",
       "6  5.95                  13.05              NA            NA  3.0       24.4944\n",
       "7  3.26                  15.74              NA            NA  4.5       56.0000\n",
       "9  2.67                  16.33              NA            NA  3.0       40.0768\n",
       "10 4.84                  14.16              NA            NA  6.0       71.3600"
      ]
     },
     "metadata": {},
     "output_type": "display_data"
    }
   ],
   "source": [
    "head(cfdna)"
   ]
  },
  {
   "cell_type": "code",
   "execution_count": 40,
   "metadata": {
    "vscode": {
     "languageId": "r"
    }
   },
   "outputs": [
    {
     "data": {
      "text/plain": [
       "   Min. 1st Qu.  Median    Mean 3rd Qu.    Max. \n",
       "  0.191   0.900   3.000   2.846   4.500   9.000 "
      ]
     },
     "metadata": {},
     "output_type": "display_data"
    }
   ],
   "source": [
    "summary(cfdna$samplevol[ cfdna$yield >= 20])"
   ]
  },
  {
   "cell_type": "code",
   "execution_count": 22,
   "metadata": {
    "vscode": {
     "languageId": "r"
    }
   },
   "outputs": [
    {
     "data": {
      "text/plain": [
       "   Min. 1st Qu.  Median    Mean 3rd Qu.    Max. \n",
       "   0.40   18.88   35.04  203.51  100.80 9120.00 "
      ]
     },
     "metadata": {},
     "output_type": "display_data"
    }
   ],
   "source": [
    "summary(cfdna$yield)"
   ]
  },
  {
   "cell_type": "code",
   "execution_count": 61,
   "metadata": {
    "vscode": {
     "languageId": "r"
    }
   },
   "outputs": [
    {
     "data": {
      "image/png": "[encoded data removed]",
      "text/plain": [
       "plot without title"
      ]
     },
     "metadata": {
      "image/png": {
       "height": 420,
       "width": 420
      }
     },
     "output_type": "display_data"
    }
   ],
   "source": [
    "ggplot(data = cfdna, aes(x= samplevol)) + geom_histogram(bins = 100)"
   ]
  },
  {
   "cell_type": "code",
   "execution_count": 93,
   "metadata": {
    "vscode": {
     "languageId": "r"
    }
   },
   "outputs": [
    {
     "data": {
      "image/png": "[encoded data removed]",
      "text/plain": [
       "plot without title"
      ]
     },
     "metadata": {
      "image/png": {
       "height": 420,
       "width": 420
      }
     },
     "output_type": "display_data"
    }
   ],
   "source": [
    "ggplot(data = cfdna, aes( y= yield, x = samplevol)) + geom_point() \n",
    "# geom_smooth( method = \"lm\")+\n",
    "# geom_hline( yintercept = 20, linetype = \"dashed\") + \n",
    " #+ geom_smooth( method = \"lm\")"
   ]
  },
  {
   "cell_type": "code",
   "execution_count": null,
   "metadata": {
    "vscode": {
     "languageId": "r"
    }
   },
   "outputs": [],
   "source": []
  },
  {
   "cell_type": "code",
   "execution_count": 24,
   "metadata": {
    "vscode": {
     "languageId": "r"
    }
   },
   "outputs": [
    {
     "data": {
      "text/html": [
       "<table class=\"dataframe\">\n",
       "<caption>A data.frame: 6 x 57</caption>\n",
       "<thead>\n",
       "\t<tr><th></th><th scope=col>Shipment.#</th><th scope=col>Batch.#</th><th scope=col>Sample.ID</th><th scope=col>Original.Box.#</th><th scope=col>Original.Box.Location</th><th scope=col>Sample.Type</th><th scope=col>Original.Plasma.Volume.(ml)</th><th scope=col>Extraction.Date</th><th scope=col>Extraction.Operator</th><th scope=col>Concentration.Elution.1.(ng/ul)</th><th scope=col>...</th><th scope=col>Miseq.Flow.Cell.ID</th><th scope=col>Sent.for.Nextseq?</th><th scope=col>Date.Submitted.for.Seq</th><th scope=col>Pugh.Lab.Seq.Submission.ID</th><th scope=col>Vol.used.for.Seq.(uL)</th><th scope=col>Vol.Remaining.(uL)</th><th scope=col>Capture.Notes</th><th scope=col>X56</th><th scope=col>samplevol</th><th scope=col>yield</th></tr>\n",
       "\t<tr><th></th><th scope=col>&lt;chr&gt;</th><th scope=col>&lt;chr&gt;</th><th scope=col>&lt;chr&gt;</th><th scope=col>&lt;chr&gt;</th><th scope=col>&lt;chr&gt;</th><th scope=col>&lt;chr&gt;</th><th scope=col>&lt;dbl&gt;</th><th scope=col>&lt;dbl&gt;</th><th scope=col>&lt;chr&gt;</th><th scope=col>&lt;chr&gt;</th><th scope=col>...</th><th scope=col>&lt;chr&gt;</th><th scope=col>&lt;chr&gt;</th><th scope=col>&lt;dbl&gt;</th><th scope=col>&lt;chr&gt;</th><th scope=col>&lt;dbl&gt;</th><th scope=col>&lt;dbl&gt;</th><th scope=col>&lt;chr&gt;</th><th scope=col>&lt;dbl&gt;</th><th scope=col>&lt;dbl&gt;</th><th scope=col>&lt;dbl&gt;</th></tr>\n",
       "</thead>\n",
       "<tbody>\n",
       "\t<tr><th scope=row>2</th><td>1</td><td>1 </td><td>346-01</td><td>1</td><td>E1</td><td>Plasma</td><td>4.5</td><td>43523</td><td>JW   </td><td>0.65200000000000002</td><td>...</td><td>NA                                </td><td>NA  </td><td>   NA</td><td>NA                                                         </td><td>  NA</td><td>   NA</td><td>NA</td><td>NA</td><td>4.5</td><td>19.5600</td></tr>\n",
       "\t<tr><th scope=row>4</th><td>1</td><td>1a</td><td>348-01</td><td>1</td><td>G5</td><td>Plasma</td><td>4.5</td><td>43511</td><td>RP/JW</td><td>0.48               </td><td>...</td><td>200911_M04827_0435_000000000-D9GW9</td><td>Yes </td><td>44271</td><td>CHP-cfDNA-Remaining-Batches-PostCap-capTCRseq-NextSeq-Pool5</td><td>5.95</td><td>13.05</td><td>NA</td><td>NA</td><td>4.5</td><td>14.4000</td></tr>\n",
       "\t<tr><th scope=row>6</th><td>1</td><td>1a</td><td>348-03</td><td>3</td><td>H2</td><td>Plasma</td><td>3.0</td><td>43511</td><td>RP/JW</td><td>0.75600000000000001</td><td>...</td><td>200911_M04827_0435_000000000-D9GW9</td><td>Yes </td><td>44271</td><td>CHP-cfDNA-Remaining-Batches-PostCap-capTCRseq-NextSeq-Pool5</td><td>5.95</td><td>13.05</td><td>NA</td><td>NA</td><td>3.0</td><td>24.4944</td></tr>\n",
       "\t<tr><th scope=row>7</th><td>1</td><td>1a</td><td>343-04</td><td>2</td><td>H5</td><td>Plasma</td><td>4.5</td><td>43504</td><td>RP/JW</td><td>0.56000000000000005</td><td>...</td><td>200909_M04827_0434_000000000-D9988</td><td>Yes </td><td>44271</td><td>CHP-cfDNA-Remaining-Batches-PostCap-capTCRseq-NextSeq-Pool5</td><td>3.26</td><td>15.74</td><td>NA</td><td>NA</td><td>4.5</td><td>56.0000</td></tr>\n",
       "\t<tr><th scope=row>9</th><td>1</td><td>1a</td><td>329-04</td><td>2</td><td>I2</td><td>Plasma</td><td>3.0</td><td>43511</td><td>RP/JW</td><td>0.99199999999999999</td><td>...</td><td>200911_M04827_0435_000000000-D9GW9</td><td>Yes </td><td>44271</td><td>CHP-cfDNA-Remaining-Batches-PostCap-capTCRseq-NextSeq-Pool5</td><td>2.67</td><td>16.33</td><td>NA</td><td>NA</td><td>3.0</td><td>40.0768</td></tr>\n",
       "\t<tr><th scope=row>10</th><td>1</td><td>1a</td><td>331-05</td><td>3</td><td>D6</td><td>Plasma</td><td>6.0</td><td>43516</td><td>RP/JW</td><td>0.89200000000000002</td><td>...</td><td>200911_M04827_0435_000000000-D9GW9</td><td>Yes </td><td>44271</td><td>CHP-cfDNA-Remaining-Batches-PostCap-capTCRseq-NextSeq-Pool5</td><td>4.84</td><td>14.16</td><td>NA</td><td>NA</td><td>6.0</td><td>71.3600</td></tr>\n",
       "</tbody>\n",
       "</table>\n"
      ],
      "text/latex": [
       "A data.frame: 6 x 57\n",
       "\\begin{tabular}{r|lllllllllllllllllllll}\n",
       "  & Shipment.\\# & Batch.\\# & Sample.ID & Original.Box.\\# & Original.Box.Location & Sample.Type & Original.Plasma.Volume.(ml) & Extraction.Date & Extraction.Operator & Concentration.Elution.1.(ng/ul) & ... & Miseq.Flow.Cell.ID & Sent.for.Nextseq? & Date.Submitted.for.Seq & Pugh.Lab.Seq.Submission.ID & Vol.used.for.Seq.(uL) & Vol.Remaining.(uL) & Capture.Notes & X56 & samplevol & yield\\\\\n",
       "  & <chr> & <chr> & <chr> & <chr> & <chr> & <chr> & <dbl> & <dbl> & <chr> & <chr> & ... & <chr> & <chr> & <dbl> & <chr> & <dbl> & <dbl> & <chr> & <dbl> & <dbl> & <dbl>\\\\\n",
       "\\hline\n",
       "\t2 & 1 & 1  & 346-01 & 1 & E1 & Plasma & 4.5 & 43523 & JW    & 0.65200000000000002 & ... & NA                                 & NA   &    NA & NA                                                          &   NA &    NA & NA & NA & 4.5 & 19.5600\\\\\n",
       "\t4 & 1 & 1a & 348-01 & 1 & G5 & Plasma & 4.5 & 43511 & RP/JW & 0.48                & ... & 200911\\_M04827\\_0435\\_000000000-D9GW9 & Yes  & 44271 & CHP-cfDNA-Remaining-Batches-PostCap-capTCRseq-NextSeq-Pool5 & 5.95 & 13.05 & NA & NA & 4.5 & 14.4000\\\\\n",
       "\t6 & 1 & 1a & 348-03 & 3 & H2 & Plasma & 3.0 & 43511 & RP/JW & 0.75600000000000001 & ... & 200911\\_M04827\\_0435\\_000000000-D9GW9 & Yes  & 44271 & CHP-cfDNA-Remaining-Batches-PostCap-capTCRseq-NextSeq-Pool5 & 5.95 & 13.05 & NA & NA & 3.0 & 24.4944\\\\\n",
       "\t7 & 1 & 1a & 343-04 & 2 & H5 & Plasma & 4.5 & 43504 & RP/JW & 0.56000000000000005 & ... & 200909\\_M04827\\_0434\\_000000000-D9988 & Yes  & 44271 & CHP-cfDNA-Remaining-Batches-PostCap-capTCRseq-NextSeq-Pool5 & 3.26 & 15.74 & NA & NA & 4.5 & 56.0000\\\\\n",
       "\t9 & 1 & 1a & 329-04 & 2 & I2 & Plasma & 3.0 & 43511 & RP/JW & 0.99199999999999999 & ... & 200911\\_M04827\\_0435\\_000000000-D9GW9 & Yes  & 44271 & CHP-cfDNA-Remaining-Batches-PostCap-capTCRseq-NextSeq-Pool5 & 2.67 & 16.33 & NA & NA & 3.0 & 40.0768\\\\\n",
       "\t10 & 1 & 1a & 331-05 & 3 & D6 & Plasma & 6.0 & 43516 & RP/JW & 0.89200000000000002 & ... & 200911\\_M04827\\_0435\\_000000000-D9GW9 & Yes  & 44271 & CHP-cfDNA-Remaining-Batches-PostCap-capTCRseq-NextSeq-Pool5 & 4.84 & 14.16 & NA & NA & 6.0 & 71.3600\\\\\n",
       "\\end{tabular}\n"
      ],
      "text/markdown": [
       "\n",
       "A data.frame: 6 x 57\n",
       "\n",
       "| <!--/--> | Shipment.# &lt;chr&gt; | Batch.# &lt;chr&gt; | Sample.ID &lt;chr&gt; | Original.Box.# &lt;chr&gt; | Original.Box.Location &lt;chr&gt; | Sample.Type &lt;chr&gt; | Original.Plasma.Volume.(ml) &lt;dbl&gt; | Extraction.Date &lt;dbl&gt; | Extraction.Operator &lt;chr&gt; | Concentration.Elution.1.(ng/ul) &lt;chr&gt; | ... ... | Miseq.Flow.Cell.ID &lt;chr&gt; | Sent.for.Nextseq? &lt;chr&gt; | Date.Submitted.for.Seq &lt;dbl&gt; | Pugh.Lab.Seq.Submission.ID &lt;chr&gt; | Vol.used.for.Seq.(uL) &lt;dbl&gt; | Vol.Remaining.(uL) &lt;dbl&gt; | Capture.Notes &lt;chr&gt; | X56 &lt;dbl&gt; | samplevol &lt;dbl&gt; | yield &lt;dbl&gt; |\n",
       "|---|---|---|---|---|---|---|---|---|---|---|---|---|---|---|---|---|---|---|---|---|---|\n",
       "| 2 | 1 | 1  | 346-01 | 1 | E1 | Plasma | 4.5 | 43523 | JW    | 0.65200000000000002 | ... | NA                                 | NA   |    NA | NA                                                          |   NA |    NA | NA | NA | 4.5 | 19.5600 |\n",
       "| 4 | 1 | 1a | 348-01 | 1 | G5 | Plasma | 4.5 | 43511 | RP/JW | 0.48                | ... | 200911_M04827_0435_000000000-D9GW9 | Yes  | 44271 | CHP-cfDNA-Remaining-Batches-PostCap-capTCRseq-NextSeq-Pool5 | 5.95 | 13.05 | NA | NA | 4.5 | 14.4000 |\n",
       "| 6 | 1 | 1a | 348-03 | 3 | H2 | Plasma | 3.0 | 43511 | RP/JW | 0.75600000000000001 | ... | 200911_M04827_0435_000000000-D9GW9 | Yes  | 44271 | CHP-cfDNA-Remaining-Batches-PostCap-capTCRseq-NextSeq-Pool5 | 5.95 | 13.05 | NA | NA | 3.0 | 24.4944 |\n",
       "| 7 | 1 | 1a | 343-04 | 2 | H5 | Plasma | 4.5 | 43504 | RP/JW | 0.56000000000000005 | ... | 200909_M04827_0434_000000000-D9988 | Yes  | 44271 | CHP-cfDNA-Remaining-Batches-PostCap-capTCRseq-NextSeq-Pool5 | 3.26 | 15.74 | NA | NA | 4.5 | 56.0000 |\n",
       "| 9 | 1 | 1a | 329-04 | 2 | I2 | Plasma | 3.0 | 43511 | RP/JW | 0.99199999999999999 | ... | 200911_M04827_0435_000000000-D9GW9 | Yes  | 44271 | CHP-cfDNA-Remaining-Batches-PostCap-capTCRseq-NextSeq-Pool5 | 2.67 | 16.33 | NA | NA | 3.0 | 40.0768 |\n",
       "| 10 | 1 | 1a | 331-05 | 3 | D6 | Plasma | 6.0 | 43516 | RP/JW | 0.89200000000000002 | ... | 200911_M04827_0435_000000000-D9GW9 | Yes  | 44271 | CHP-cfDNA-Remaining-Batches-PostCap-capTCRseq-NextSeq-Pool5 | 4.84 | 14.16 | NA | NA | 6.0 | 71.3600 |\n",
       "\n"
      ],
      "text/plain": [
       "   Shipment.# Batch.# Sample.ID Original.Box.# Original.Box.Location\n",
       "2  1          1       346-01    1              E1                   \n",
       "4  1          1a      348-01    1              G5                   \n",
       "6  1          1a      348-03    3              H2                   \n",
       "7  1          1a      343-04    2              H5                   \n",
       "9  1          1a      329-04    2              I2                   \n",
       "10 1          1a      331-05    3              D6                   \n",
       "   Sample.Type Original.Plasma.Volume.(ml) Extraction.Date Extraction.Operator\n",
       "2  Plasma      4.5                         43523           JW                 \n",
       "4  Plasma      4.5                         43511           RP/JW              \n",
       "6  Plasma      3.0                         43511           RP/JW              \n",
       "7  Plasma      4.5                         43504           RP/JW              \n",
       "9  Plasma      3.0                         43511           RP/JW              \n",
       "10 Plasma      6.0                         43516           RP/JW              \n",
       "   Concentration.Elution.1.(ng/ul) ... Miseq.Flow.Cell.ID                \n",
       "2  0.65200000000000002             ... NA                                \n",
       "4  0.48                            ... 200911_M04827_0435_000000000-D9GW9\n",
       "6  0.75600000000000001             ... 200911_M04827_0435_000000000-D9GW9\n",
       "7  0.56000000000000005             ... 200909_M04827_0434_000000000-D9988\n",
       "9  0.99199999999999999             ... 200911_M04827_0435_000000000-D9GW9\n",
       "10 0.89200000000000002             ... 200911_M04827_0435_000000000-D9GW9\n",
       "   Sent.for.Nextseq? Date.Submitted.for.Seq\n",
       "2  NA                   NA                 \n",
       "4  Yes               44271                 \n",
       "6  Yes               44271                 \n",
       "7  Yes               44271                 \n",
       "9  Yes               44271                 \n",
       "10 Yes               44271                 \n",
       "   Pugh.Lab.Seq.Submission.ID                                 \n",
       "2  NA                                                         \n",
       "4  CHP-cfDNA-Remaining-Batches-PostCap-capTCRseq-NextSeq-Pool5\n",
       "6  CHP-cfDNA-Remaining-Batches-PostCap-capTCRseq-NextSeq-Pool5\n",
       "7  CHP-cfDNA-Remaining-Batches-PostCap-capTCRseq-NextSeq-Pool5\n",
       "9  CHP-cfDNA-Remaining-Batches-PostCap-capTCRseq-NextSeq-Pool5\n",
       "10 CHP-cfDNA-Remaining-Batches-PostCap-capTCRseq-NextSeq-Pool5\n",
       "   Vol.used.for.Seq.(uL) Vol.Remaining.(uL) Capture.Notes X56 samplevol yield  \n",
       "2    NA                     NA              NA            NA  4.5       19.5600\n",
       "4  5.95                  13.05              NA            NA  4.5       14.4000\n",
       "6  5.95                  13.05              NA            NA  3.0       24.4944\n",
       "7  3.26                  15.74              NA            NA  4.5       56.0000\n",
       "9  2.67                  16.33              NA            NA  3.0       40.0768\n",
       "10 4.84                  14.16              NA            NA  6.0       71.3600"
      ]
     },
     "metadata": {},
     "output_type": "display_data"
    }
   ],
   "source": [
    "head(cfdna)"
   ]
  },
  {
   "cell_type": "code",
   "execution_count": 25,
   "metadata": {
    "vscode": {
     "languageId": "r"
    }
   },
   "outputs": [],
   "source": [
    "cfdna$Patient <- gsub(\"-.*\",\"\", cfdna$Sample.ID )"
   ]
  },
  {
   "cell_type": "code",
   "execution_count": 27,
   "metadata": {
    "vscode": {
     "languageId": "r"
    }
   },
   "outputs": [],
   "source": [
    "cfdna$Patient <- paste0(\"CHP_\", cfdna$Patient)"
   ]
  },
  {
   "cell_type": "code",
   "execution_count": 30,
   "metadata": {
    "vscode": {
     "languageId": "r"
    }
   },
   "outputs": [],
   "source": [
    "nbl <- c(\"CHP_346\", \"CHP_385\", \"CHP_379\", \"CHP_418\", \"CHP_384\")"
   ]
  },
  {
   "cell_type": "code",
   "execution_count": 31,
   "metadata": {
    "vscode": {
     "languageId": "r"
    }
   },
   "outputs": [],
   "source": [
    "nbl_cfdna <- cfdna[ cfdna$Patient %in% nbl,]"
   ]
  },
  {
   "cell_type": "code",
   "execution_count": 37,
   "metadata": {
    "vscode": {
     "languageId": "r"
    }
   },
   "outputs": [
    {
     "data": {
      "text/html": [
       "<style>\n",
       ".list-inline {list-style: none; margin:0; padding: 0}\n",
       ".list-inline>li {display: inline-block}\n",
       ".list-inline>li:not(:last-child)::after {content: \"\\00b7\"; padding: 0 .5ex}\n",
       "</style>\n",
       "<ol class=list-inline><li>'CHP_346'</li><li>'CHP_379'</li><li>'CHP_418'</li><li>'CHP_418'</li><li>'CHP_385'</li><li>'CHP_385'</li><li>'CHP_385'</li><li>'CHP_384'</li><li>'CHP_385'</li><li>'CHP_385'</li></ol>\n"
      ],
      "text/latex": [
       "\\begin{enumerate*}\n",
       "\\item 'CHP\\_346'\n",
       "\\item 'CHP\\_379'\n",
       "\\item 'CHP\\_418'\n",
       "\\item 'CHP\\_418'\n",
       "\\item 'CHP\\_385'\n",
       "\\item 'CHP\\_385'\n",
       "\\item 'CHP\\_385'\n",
       "\\item 'CHP\\_384'\n",
       "\\item 'CHP\\_385'\n",
       "\\item 'CHP\\_385'\n",
       "\\end{enumerate*}\n"
      ],
      "text/markdown": [
       "1. 'CHP_346'\n",
       "2. 'CHP_379'\n",
       "3. 'CHP_418'\n",
       "4. 'CHP_418'\n",
       "5. 'CHP_385'\n",
       "6. 'CHP_385'\n",
       "7. 'CHP_385'\n",
       "8. 'CHP_384'\n",
       "9. 'CHP_385'\n",
       "10. 'CHP_385'\n",
       "\n",
       "\n"
      ],
      "text/plain": [
       " [1] \"CHP_346\" \"CHP_379\" \"CHP_418\" \"CHP_418\" \"CHP_385\" \"CHP_385\" \"CHP_385\"\n",
       " [8] \"CHP_384\" \"CHP_385\" \"CHP_385\""
      ]
     },
     "metadata": {},
     "output_type": "display_data"
    }
   ],
   "source": [
    "nbl_cfdna$Patient"
   ]
  },
  {
   "cell_type": "code",
   "execution_count": 36,
   "metadata": {
    "vscode": {
     "languageId": "r"
    }
   },
   "outputs": [
    {
     "data": {
      "text/html": [
       "<style>\n",
       ".list-inline {list-style: none; margin:0; padding: 0}\n",
       ".list-inline>li {display: inline-block}\n",
       ".list-inline>li:not(:last-child)::after {content: \"\\00b7\"; padding: 0 .5ex}\n",
       "</style>\n",
       "<ol class=list-inline><li>10</li><li>58</li></ol>\n"
      ],
      "text/latex": [
       "\\begin{enumerate*}\n",
       "\\item 10\n",
       "\\item 58\n",
       "\\end{enumerate*}\n"
      ],
      "text/markdown": [
       "1. 10\n",
       "2. 58\n",
       "\n",
       "\n"
      ],
      "text/plain": [
       "[1] 10 58"
      ]
     },
     "metadata": {},
     "output_type": "display_data"
    }
   ],
   "source": [
    "dim(nbl_cfdna)"
   ]
  },
  {
   "cell_type": "code",
   "execution_count": 33,
   "metadata": {
    "vscode": {
     "languageId": "r"
    }
   },
   "outputs": [
    {
     "data": {
      "image/png": "[encoded data removed]",
      "text/plain": [
       "plot without title"
      ]
     },
     "metadata": {
      "image/png": {
       "height": 420,
       "width": 420
      }
     },
     "output_type": "display_data"
    }
   ],
   "source": [
    "ggplot(data = nbl_cfdna, aes( y= yield, x = samplevol)) + geom_point() + geom_hline(yintercept = 20) \n",
    "#coord_cartesian(y = c(0,100)) #+ geom_smooth( method = \"lm\")"
   ]
  },
  {
   "cell_type": "code",
   "execution_count": 35,
   "metadata": {
    "vscode": {
     "languageId": "r"
    }
   },
   "outputs": [
    {
     "data": {
      "text/plain": [
       "   Min. 1st Qu.  Median    Mean 3rd Qu.    Max. \n",
       " 0.5500  0.8925  0.9000  1.4311  0.9045  4.5000 "
      ]
     },
     "metadata": {},
     "output_type": "display_data"
    },
    {
     "data": {
      "text/plain": [
       "   Min. 1st Qu.  Median    Mean 3rd Qu.    Max. \n",
       "  17.44   21.23  111.20  144.34  227.20  384.00 "
      ]
     },
     "metadata": {},
     "output_type": "display_data"
    }
   ],
   "source": [
    "summary(nbl_cfdna$samplevol)\n",
    "summary(nbl_cfdna$yield)"
   ]
  },
  {
   "cell_type": "code",
   "execution_count": 29,
   "metadata": {
    "vscode": {
     "languageId": "r"
    }
   },
   "outputs": [
    {
     "data": {
      "text/html": [
       "<table class=\"dataframe\">\n",
       "<caption>A data.frame: 5 x 42</caption>\n",
       "<thead>\n",
       "\t<tr><th></th><th scope=col>Patient</th><th scope=col>cycle</th><th scope=col>FOLD</th><th scope=col>ATC</th><th scope=col>Age</th><th scope=col>Disease_type</th><th scope=col>TE_fold</th><th scope=col>CD3</th><th scope=col>EM</th><th scope=col>CM</th><th scope=col>...</th><th scope=col>cancergroup</th><th scope=col>agegroup</th><th scope=col>foldgroup</th><th scope=col>sample_id</th><th scope=col>Remission</th><th scope=col>Relapse</th><th scope=col>Transplant</th><th scope=col>CART</th><th scope=col>vital_status</th><th scope=col>LOF</th></tr>\n",
       "\t<tr><th></th><th scope=col>&lt;chr&gt;</th><th scope=col>&lt;int&gt;</th><th scope=col>&lt;dbl&gt;</th><th scope=col>&lt;dbl&gt;</th><th scope=col>&lt;dbl&gt;</th><th scope=col>&lt;chr&gt;</th><th scope=col>&lt;dbl&gt;</th><th scope=col>&lt;int&gt;</th><th scope=col>&lt;int&gt;</th><th scope=col>&lt;int&gt;</th><th scope=col>...</th><th scope=col>&lt;chr&gt;</th><th scope=col>&lt;chr&gt;</th><th scope=col>&lt;chr&gt;</th><th scope=col>&lt;chr&gt;</th><th scope=col>&lt;int&gt;</th><th scope=col>&lt;int&gt;</th><th scope=col>&lt;int&gt;</th><th scope=col>&lt;int&gt;</th><th scope=col>&lt;int&gt;</th><th scope=col>&lt;int&gt;</th></tr>\n",
       "</thead>\n",
       "<tbody>\n",
       "\t<tr><th scope=row>326</th><td>CHP_384</td><td>1</td><td>1.6</td><td>0</td><td>0.4</td><td>MS NB</td><td>1.6</td><td>1762</td><td>25</td><td>127</td><td>...</td><td>Solid</td><td>&lt; 2 yrs</td><td>Low</td><td>CHP_384_01</td><td>1</td><td>0</td><td>0</td><td>0</td><td>0</td><td>0</td></tr>\n",
       "\t<tr><th scope=row>327</th><td>CHP_384</td><td>2</td><td>0.0</td><td>0</td><td>0.4</td><td>MS NB</td><td>0.0</td><td><span style=white-space:pre-wrap>   0</span></td><td>NA</td><td> NA</td><td>...</td><td>Solid</td><td>&lt; 2 yrs</td><td>Low</td><td>CHP_384_02</td><td>1</td><td>0</td><td>0</td><td>0</td><td>0</td><td>0</td></tr>\n",
       "\t<tr><th scope=row>328</th><td>CHP_384</td><td>3</td><td>0.0</td><td>0</td><td>0.4</td><td>MS NB</td><td>0.0</td><td><span style=white-space:pre-wrap>   0</span></td><td>NA</td><td> NA</td><td>...</td><td>Solid</td><td>&lt; 2 yrs</td><td>Low</td><td>CHP_384_03</td><td>1</td><td>0</td><td>0</td><td>0</td><td>0</td><td>0</td></tr>\n",
       "\t<tr><th scope=row>329</th><td>CHP_384</td><td>4</td><td>0.0</td><td>0</td><td>0.4</td><td>MS NB</td><td>0.0</td><td><span style=white-space:pre-wrap>   0</span></td><td>NA</td><td> NA</td><td>...</td><td>Solid</td><td>&lt; 2 yrs</td><td>Low</td><td>CHP_384_04</td><td>1</td><td>0</td><td>0</td><td>0</td><td>0</td><td>0</td></tr>\n",
       "\t<tr><th scope=row>330</th><td>CHP_384</td><td>5</td><td>0.0</td><td>0</td><td>0.4</td><td>MS NB</td><td>0.0</td><td><span style=white-space:pre-wrap>   0</span></td><td>NA</td><td> NA</td><td>...</td><td>Solid</td><td>&lt; 2 yrs</td><td>Low</td><td>CHP_384_05</td><td>1</td><td>0</td><td>0</td><td>0</td><td>0</td><td>0</td></tr>\n",
       "</tbody>\n",
       "</table>\n"
      ],
      "text/latex": [
       "A data.frame: 5 x 42\n",
       "\\begin{tabular}{r|lllllllllllllllllllll}\n",
       "  & Patient & cycle & FOLD & ATC & Age & Disease\\_type & TE\\_fold & CD3 & EM & CM & ... & cancergroup & agegroup & foldgroup & sample\\_id & Remission & Relapse & Transplant & CART & vital\\_status & LOF\\\\\n",
       "  & <chr> & <int> & <dbl> & <dbl> & <dbl> & <chr> & <dbl> & <int> & <int> & <int> & ... & <chr> & <chr> & <chr> & <chr> & <int> & <int> & <int> & <int> & <int> & <int>\\\\\n",
       "\\hline\n",
       "\t326 & CHP\\_384 & 1 & 1.6 & 0 & 0.4 & MS NB & 1.6 & 1762 & 25 & 127 & ... & Solid & < 2 yrs & Low & CHP\\_384\\_01 & 1 & 0 & 0 & 0 & 0 & 0\\\\\n",
       "\t327 & CHP\\_384 & 2 & 0.0 & 0 & 0.4 & MS NB & 0.0 &    0 & NA &  NA & ... & Solid & < 2 yrs & Low & CHP\\_384\\_02 & 1 & 0 & 0 & 0 & 0 & 0\\\\\n",
       "\t328 & CHP\\_384 & 3 & 0.0 & 0 & 0.4 & MS NB & 0.0 &    0 & NA &  NA & ... & Solid & < 2 yrs & Low & CHP\\_384\\_03 & 1 & 0 & 0 & 0 & 0 & 0\\\\\n",
       "\t329 & CHP\\_384 & 4 & 0.0 & 0 & 0.4 & MS NB & 0.0 &    0 & NA &  NA & ... & Solid & < 2 yrs & Low & CHP\\_384\\_04 & 1 & 0 & 0 & 0 & 0 & 0\\\\\n",
       "\t330 & CHP\\_384 & 5 & 0.0 & 0 & 0.4 & MS NB & 0.0 &    0 & NA &  NA & ... & Solid & < 2 yrs & Low & CHP\\_384\\_05 & 1 & 0 & 0 & 0 & 0 & 0\\\\\n",
       "\\end{tabular}\n"
      ],
      "text/markdown": [
       "\n",
       "A data.frame: 5 x 42\n",
       "\n",
       "| <!--/--> | Patient &lt;chr&gt; | cycle &lt;int&gt; | FOLD &lt;dbl&gt; | ATC &lt;dbl&gt; | Age &lt;dbl&gt; | Disease_type &lt;chr&gt; | TE_fold &lt;dbl&gt; | CD3 &lt;int&gt; | EM &lt;int&gt; | CM &lt;int&gt; | ... ... | cancergroup &lt;chr&gt; | agegroup &lt;chr&gt; | foldgroup &lt;chr&gt; | sample_id &lt;chr&gt; | Remission &lt;int&gt; | Relapse &lt;int&gt; | Transplant &lt;int&gt; | CART &lt;int&gt; | vital_status &lt;int&gt; | LOF &lt;int&gt; |\n",
       "|---|---|---|---|---|---|---|---|---|---|---|---|---|---|---|---|---|---|---|---|---|---|\n",
       "| 326 | CHP_384 | 1 | 1.6 | 0 | 0.4 | MS NB | 1.6 | 1762 | 25 | 127 | ... | Solid | &lt; 2 yrs | Low | CHP_384_01 | 1 | 0 | 0 | 0 | 0 | 0 |\n",
       "| 327 | CHP_384 | 2 | 0.0 | 0 | 0.4 | MS NB | 0.0 |    0 | NA |  NA | ... | Solid | &lt; 2 yrs | Low | CHP_384_02 | 1 | 0 | 0 | 0 | 0 | 0 |\n",
       "| 328 | CHP_384 | 3 | 0.0 | 0 | 0.4 | MS NB | 0.0 |    0 | NA |  NA | ... | Solid | &lt; 2 yrs | Low | CHP_384_03 | 1 | 0 | 0 | 0 | 0 | 0 |\n",
       "| 329 | CHP_384 | 4 | 0.0 | 0 | 0.4 | MS NB | 0.0 |    0 | NA |  NA | ... | Solid | &lt; 2 yrs | Low | CHP_384_04 | 1 | 0 | 0 | 0 | 0 | 0 |\n",
       "| 330 | CHP_384 | 5 | 0.0 | 0 | 0.4 | MS NB | 0.0 |    0 | NA |  NA | ... | Solid | &lt; 2 yrs | Low | CHP_384_05 | 1 | 0 | 0 | 0 | 0 | 0 |\n",
       "\n"
      ],
      "text/plain": [
       "    Patient cycle FOLD ATC Age Disease_type TE_fold CD3  EM CM  ... cancergroup\n",
       "326 CHP_384 1     1.6  0   0.4 MS NB        1.6     1762 25 127 ... Solid      \n",
       "327 CHP_384 2     0.0  0   0.4 MS NB        0.0        0 NA  NA ... Solid      \n",
       "328 CHP_384 3     0.0  0   0.4 MS NB        0.0        0 NA  NA ... Solid      \n",
       "329 CHP_384 4     0.0  0   0.4 MS NB        0.0        0 NA  NA ... Solid      \n",
       "330 CHP_384 5     0.0  0   0.4 MS NB        0.0        0 NA  NA ... Solid      \n",
       "    agegroup foldgroup sample_id  Remission Relapse Transplant CART\n",
       "326 < 2 yrs  Low       CHP_384_01 1         0       0          0   \n",
       "327 < 2 yrs  Low       CHP_384_02 1         0       0          0   \n",
       "328 < 2 yrs  Low       CHP_384_03 1         0       0          0   \n",
       "329 < 2 yrs  Low       CHP_384_04 1         0       0          0   \n",
       "330 < 2 yrs  Low       CHP_384_05 1         0       0          0   \n",
       "    vital_status LOF\n",
       "326 0            0  \n",
       "327 0            0  \n",
       "328 0            0  \n",
       "329 0            0  \n",
       "330 0            0  "
      ]
     },
     "metadata": {},
     "output_type": "display_data"
    }
   ],
   "source": [
    "metadata[ metadata$Disease_type == \"MS NB\",]"
   ]
  },
  {
   "cell_type": "code",
   "execution_count": 218,
   "metadata": {
    "vscode": {
     "languageId": "r"
    }
   },
   "outputs": [
    {
     "data": {
      "text/html": [
       "<table class=\"dataframe\">\n",
       "<caption>A data.frame: 6 x 42</caption>\n",
       "<thead>\n",
       "\t<tr><th></th><th scope=col>Patient</th><th scope=col>cycle</th><th scope=col>FOLD</th><th scope=col>ATC</th><th scope=col>Age</th><th scope=col>Disease_type</th><th scope=col>TE_fold</th><th scope=col>CD3</th><th scope=col>EM</th><th scope=col>CM</th><th scope=col>...</th><th scope=col>cancergroup</th><th scope=col>agegroup</th><th scope=col>foldgroup</th><th scope=col>sample_id</th><th scope=col>Remission</th><th scope=col>Relapse</th><th scope=col>Transplant</th><th scope=col>CART</th><th scope=col>vital_status</th><th scope=col>LOF</th></tr>\n",
       "\t<tr><th></th><th scope=col>&lt;chr&gt;</th><th scope=col>&lt;int&gt;</th><th scope=col>&lt;dbl&gt;</th><th scope=col>&lt;dbl&gt;</th><th scope=col>&lt;dbl&gt;</th><th scope=col>&lt;chr&gt;</th><th scope=col>&lt;dbl&gt;</th><th scope=col>&lt;int&gt;</th><th scope=col>&lt;int&gt;</th><th scope=col>&lt;int&gt;</th><th scope=col>...</th><th scope=col>&lt;chr&gt;</th><th scope=col>&lt;chr&gt;</th><th scope=col>&lt;chr&gt;</th><th scope=col>&lt;chr&gt;</th><th scope=col>&lt;int&gt;</th><th scope=col>&lt;int&gt;</th><th scope=col>&lt;int&gt;</th><th scope=col>&lt;int&gt;</th><th scope=col>&lt;int&gt;</th><th scope=col>&lt;int&gt;</th></tr>\n",
       "</thead>\n",
       "<tbody>\n",
       "\t<tr><th scope=row>1</th><td>CHP_319</td><td>1</td><td>1.4</td><td>0</td><td>1</td><td>HR ALL</td><td>1.4</td><td>0</td><td>NA</td><td>NA</td><td>...</td><td>Leukemia</td><td>&lt; 2 yrs </td><td>Low </td><td>CHP_319_01</td><td>0</td><td>1</td><td>0</td><td>1</td><td>1</td><td>0</td></tr>\n",
       "\t<tr><th scope=row>2</th><td>CHP_319</td><td>2</td><td>7.9</td><td>0</td><td>1</td><td>HR ALL</td><td>7.9</td><td>0</td><td>NA</td><td>NA</td><td>...</td><td>Leukemia</td><td>&lt; 2 yrs </td><td>High</td><td>CHP_319_02</td><td>0</td><td>1</td><td>0</td><td>1</td><td>1</td><td>0</td></tr>\n",
       "\t<tr><th scope=row>3</th><td>CHP_319</td><td>3</td><td>1.8</td><td>0</td><td>1</td><td>HR ALL</td><td>1.8</td><td>0</td><td>NA</td><td>NA</td><td>...</td><td>Leukemia</td><td>&lt; 2 yrs </td><td>Low </td><td>CHP_319_03</td><td>0</td><td>1</td><td>0</td><td>1</td><td>1</td><td>0</td></tr>\n",
       "\t<tr><th scope=row>4</th><td>CHP_319</td><td>4</td><td>1.5</td><td>0</td><td>1</td><td>HR ALL</td><td>1.5</td><td>0</td><td>NA</td><td>NA</td><td>...</td><td>Leukemia</td><td>&lt; 2 yrs </td><td>Low </td><td>CHP_319_04</td><td>0</td><td>1</td><td>0</td><td>1</td><td>1</td><td>0</td></tr>\n",
       "\t<tr><th scope=row>5</th><td>CHP_319</td><td>5</td><td>1.2</td><td>0</td><td>1</td><td>HR ALL</td><td>1.2</td><td>0</td><td>NA</td><td>NA</td><td>...</td><td>Leukemia</td><td>&lt; 2 yrs </td><td>Low </td><td>CHP_319_05</td><td>0</td><td>1</td><td>0</td><td>1</td><td>1</td><td>0</td></tr>\n",
       "\t<tr><th scope=row>6</th><td>CHP_320</td><td>1</td><td>8.9</td><td>0</td><td>6</td><td>AML   </td><td>8.9</td><td>0</td><td>NA</td><td>NA</td><td>...</td><td>Leukemia</td><td>5-11 yrs</td><td>High</td><td>CHP_320_01</td><td>0</td><td>1</td><td>0</td><td>0</td><td>1</td><td>0</td></tr>\n",
       "</tbody>\n",
       "</table>\n"
      ],
      "text/latex": [
       "A data.frame: 6 x 42\n",
       "\\begin{tabular}{r|lllllllllllllllllllll}\n",
       "  & Patient & cycle & FOLD & ATC & Age & Disease\\_type & TE\\_fold & CD3 & EM & CM & ... & cancergroup & agegroup & foldgroup & sample\\_id & Remission & Relapse & Transplant & CART & vital\\_status & LOF\\\\\n",
       "  & <chr> & <int> & <dbl> & <dbl> & <dbl> & <chr> & <dbl> & <int> & <int> & <int> & ... & <chr> & <chr> & <chr> & <chr> & <int> & <int> & <int> & <int> & <int> & <int>\\\\\n",
       "\\hline\n",
       "\t1 & CHP\\_319 & 1 & 1.4 & 0 & 1 & HR ALL & 1.4 & 0 & NA & NA & ... & Leukemia & < 2 yrs  & Low  & CHP\\_319\\_01 & 0 & 1 & 0 & 1 & 1 & 0\\\\\n",
       "\t2 & CHP\\_319 & 2 & 7.9 & 0 & 1 & HR ALL & 7.9 & 0 & NA & NA & ... & Leukemia & < 2 yrs  & High & CHP\\_319\\_02 & 0 & 1 & 0 & 1 & 1 & 0\\\\\n",
       "\t3 & CHP\\_319 & 3 & 1.8 & 0 & 1 & HR ALL & 1.8 & 0 & NA & NA & ... & Leukemia & < 2 yrs  & Low  & CHP\\_319\\_03 & 0 & 1 & 0 & 1 & 1 & 0\\\\\n",
       "\t4 & CHP\\_319 & 4 & 1.5 & 0 & 1 & HR ALL & 1.5 & 0 & NA & NA & ... & Leukemia & < 2 yrs  & Low  & CHP\\_319\\_04 & 0 & 1 & 0 & 1 & 1 & 0\\\\\n",
       "\t5 & CHP\\_319 & 5 & 1.2 & 0 & 1 & HR ALL & 1.2 & 0 & NA & NA & ... & Leukemia & < 2 yrs  & Low  & CHP\\_319\\_05 & 0 & 1 & 0 & 1 & 1 & 0\\\\\n",
       "\t6 & CHP\\_320 & 1 & 8.9 & 0 & 6 & AML    & 8.9 & 0 & NA & NA & ... & Leukemia & 5-11 yrs & High & CHP\\_320\\_01 & 0 & 1 & 0 & 0 & 1 & 0\\\\\n",
       "\\end{tabular}\n"
      ],
      "text/markdown": [
       "\n",
       "A data.frame: 6 x 42\n",
       "\n",
       "| <!--/--> | Patient &lt;chr&gt; | cycle &lt;int&gt; | FOLD &lt;dbl&gt; | ATC &lt;dbl&gt; | Age &lt;dbl&gt; | Disease_type &lt;chr&gt; | TE_fold &lt;dbl&gt; | CD3 &lt;int&gt; | EM &lt;int&gt; | CM &lt;int&gt; | ... ... | cancergroup &lt;chr&gt; | agegroup &lt;chr&gt; | foldgroup &lt;chr&gt; | sample_id &lt;chr&gt; | Remission &lt;int&gt; | Relapse &lt;int&gt; | Transplant &lt;int&gt; | CART &lt;int&gt; | vital_status &lt;int&gt; | LOF &lt;int&gt; |\n",
       "|---|---|---|---|---|---|---|---|---|---|---|---|---|---|---|---|---|---|---|---|---|---|\n",
       "| 1 | CHP_319 | 1 | 1.4 | 0 | 1 | HR ALL | 1.4 | 0 | NA | NA | ... | Leukemia | &lt; 2 yrs  | Low  | CHP_319_01 | 0 | 1 | 0 | 1 | 1 | 0 |\n",
       "| 2 | CHP_319 | 2 | 7.9 | 0 | 1 | HR ALL | 7.9 | 0 | NA | NA | ... | Leukemia | &lt; 2 yrs  | High | CHP_319_02 | 0 | 1 | 0 | 1 | 1 | 0 |\n",
       "| 3 | CHP_319 | 3 | 1.8 | 0 | 1 | HR ALL | 1.8 | 0 | NA | NA | ... | Leukemia | &lt; 2 yrs  | Low  | CHP_319_03 | 0 | 1 | 0 | 1 | 1 | 0 |\n",
       "| 4 | CHP_319 | 4 | 1.5 | 0 | 1 | HR ALL | 1.5 | 0 | NA | NA | ... | Leukemia | &lt; 2 yrs  | Low  | CHP_319_04 | 0 | 1 | 0 | 1 | 1 | 0 |\n",
       "| 5 | CHP_319 | 5 | 1.2 | 0 | 1 | HR ALL | 1.2 | 0 | NA | NA | ... | Leukemia | &lt; 2 yrs  | Low  | CHP_319_05 | 0 | 1 | 0 | 1 | 1 | 0 |\n",
       "| 6 | CHP_320 | 1 | 8.9 | 0 | 6 | AML    | 8.9 | 0 | NA | NA | ... | Leukemia | 5-11 yrs | High | CHP_320_01 | 0 | 1 | 0 | 0 | 1 | 0 |\n",
       "\n"
      ],
      "text/plain": [
       "  Patient cycle FOLD ATC Age Disease_type TE_fold CD3 EM CM ... cancergroup\n",
       "1 CHP_319 1     1.4  0   1   HR ALL       1.4     0   NA NA ... Leukemia   \n",
       "2 CHP_319 2     7.9  0   1   HR ALL       7.9     0   NA NA ... Leukemia   \n",
       "3 CHP_319 3     1.8  0   1   HR ALL       1.8     0   NA NA ... Leukemia   \n",
       "4 CHP_319 4     1.5  0   1   HR ALL       1.5     0   NA NA ... Leukemia   \n",
       "5 CHP_319 5     1.2  0   1   HR ALL       1.2     0   NA NA ... Leukemia   \n",
       "6 CHP_320 1     8.9  0   6   AML          8.9     0   NA NA ... Leukemia   \n",
       "  agegroup foldgroup sample_id  Remission Relapse Transplant CART vital_status\n",
       "1 < 2 yrs  Low       CHP_319_01 0         1       0          1    1           \n",
       "2 < 2 yrs  High      CHP_319_02 0         1       0          1    1           \n",
       "3 < 2 yrs  Low       CHP_319_03 0         1       0          1    1           \n",
       "4 < 2 yrs  Low       CHP_319_04 0         1       0          1    1           \n",
       "5 < 2 yrs  Low       CHP_319_05 0         1       0          1    1           \n",
       "6 5-11 yrs High      CHP_320_01 0         1       0          0    1           \n",
       "  LOF\n",
       "1 0  \n",
       "2 0  \n",
       "3 0  \n",
       "4 0  \n",
       "5 0  \n",
       "6 0  "
      ]
     },
     "metadata": {},
     "output_type": "display_data"
    }
   ],
   "source": [
    "head(metadata)"
   ]
  },
  {
   "cell_type": "code",
   "execution_count": null,
   "metadata": {
    "vscode": {
     "languageId": "r"
    }
   },
   "outputs": [],
   "source": []
  },
  {
   "cell_type": "code",
   "execution_count": 158,
   "metadata": {
    "scrolled": true,
    "vscode": {
     "languageId": "r"
    }
   },
   "outputs": [],
   "source": [
    "colnames(cfdna_samples) <- \"sample_id\""
   ]
  },
  {
   "cell_type": "code",
   "execution_count": 159,
   "metadata": {
    "vscode": {
     "languageId": "r"
    }
   },
   "outputs": [
    {
     "data": {
      "text/html": [
       "<style>\n",
       ".list-inline {list-style: none; margin:0; padding: 0}\n",
       ".list-inline>li {display: inline-block}\n",
       ".list-inline>li:not(:last-child)::after {content: \"\\00b7\"; padding: 0 .5ex}\n",
       "</style>\n",
       "<ol class=list-inline><li>316</li><li>1</li></ol>\n"
      ],
      "text/latex": [
       "\\begin{enumerate*}\n",
       "\\item 316\n",
       "\\item 1\n",
       "\\end{enumerate*}\n"
      ],
      "text/markdown": [
       "1. 316\n",
       "2. 1\n",
       "\n",
       "\n"
      ],
      "text/plain": [
       "[1] 316   1"
      ]
     },
     "metadata": {},
     "output_type": "display_data"
    }
   ],
   "source": [
    "dim(cfdna_samples)"
   ]
  },
  {
   "cell_type": "code",
   "execution_count": 160,
   "metadata": {
    "vscode": {
     "languageId": "r"
    }
   },
   "outputs": [],
   "source": [
    "#number of DNA samples extratced\n",
    "cfdna_samples$DNAsamples <- paste0(\"n = \", nrow(cfdna_samples))"
   ]
  },
  {
   "cell_type": "code",
   "execution_count": 161,
   "metadata": {
    "vscode": {
     "languageId": "r"
    }
   },
   "outputs": [
    {
     "data": {
      "text/html": [
       "<table class=\"dataframe\">\n",
       "<caption>A data.frame: 6 x 2</caption>\n",
       "<thead>\n",
       "\t<tr><th></th><th scope=col>sample_id</th><th scope=col>DNAsamples</th></tr>\n",
       "\t<tr><th></th><th scope=col>&lt;chr&gt;</th><th scope=col>&lt;chr&gt;</th></tr>\n",
       "</thead>\n",
       "<tbody>\n",
       "\t<tr><th scope=row>1</th><td>346-01</td><td>n = 316</td></tr>\n",
       "\t<tr><th scope=row>2</th><td>348-01</td><td>n = 316</td></tr>\n",
       "\t<tr><th scope=row>3</th><td>348-03</td><td>n = 316</td></tr>\n",
       "\t<tr><th scope=row>4</th><td>343-04</td><td>n = 316</td></tr>\n",
       "\t<tr><th scope=row>5</th><td>329-04</td><td>n = 316</td></tr>\n",
       "\t<tr><th scope=row>6</th><td>331-05</td><td>n = 316</td></tr>\n",
       "</tbody>\n",
       "</table>\n"
      ],
      "text/latex": [
       "A data.frame: 6 x 2\n",
       "\\begin{tabular}{r|ll}\n",
       "  & sample\\_id & DNAsamples\\\\\n",
       "  & <chr> & <chr>\\\\\n",
       "\\hline\n",
       "\t1 & 346-01 & n = 316\\\\\n",
       "\t2 & 348-01 & n = 316\\\\\n",
       "\t3 & 348-03 & n = 316\\\\\n",
       "\t4 & 343-04 & n = 316\\\\\n",
       "\t5 & 329-04 & n = 316\\\\\n",
       "\t6 & 331-05 & n = 316\\\\\n",
       "\\end{tabular}\n"
      ],
      "text/markdown": [
       "\n",
       "A data.frame: 6 x 2\n",
       "\n",
       "| <!--/--> | sample_id &lt;chr&gt; | DNAsamples &lt;chr&gt; |\n",
       "|---|---|---|\n",
       "| 1 | 346-01 | n = 316 |\n",
       "| 2 | 348-01 | n = 316 |\n",
       "| 3 | 348-03 | n = 316 |\n",
       "| 4 | 343-04 | n = 316 |\n",
       "| 5 | 329-04 | n = 316 |\n",
       "| 6 | 331-05 | n = 316 |\n",
       "\n"
      ],
      "text/plain": [
       "  sample_id DNAsamples\n",
       "1 346-01    n = 316   \n",
       "2 348-01    n = 316   \n",
       "3 348-03    n = 316   \n",
       "4 343-04    n = 316   \n",
       "5 329-04    n = 316   \n",
       "6 331-05    n = 316   "
      ]
     },
     "metadata": {},
     "output_type": "display_data"
    }
   ],
   "source": [
    "head(cfdna_samples)"
   ]
  },
  {
   "cell_type": "code",
   "execution_count": 162,
   "metadata": {
    "vscode": {
     "languageId": "r"
    }
   },
   "outputs": [],
   "source": [
    "cfdna_samples$sample_id <- trimws(cfdna_samples$sample_id)"
   ]
  },
  {
   "attachments": {},
   "cell_type": "markdown",
   "metadata": {},
   "source": [
    "All samples that were shipped according to DB manifest files"
   ]
  },
  {
   "cell_type": "code",
   "execution_count": 163,
   "metadata": {
    "vscode": {
     "languageId": "r"
    }
   },
   "outputs": [],
   "source": [
    "allcfdna <- unlist(read.xlsx(paste0(datapath, \"allcfdna_fromDB.xlsx\"), sheet = 1))"
   ]
  },
  {
   "cell_type": "code",
   "execution_count": 164,
   "metadata": {
    "vscode": {
     "languageId": "r"
    }
   },
   "outputs": [],
   "source": [
    "allcfdna <- allcfdna[ !is.na(allcfdna)]\n",
    "allcfdna <- allcfdna[ !grepl(\"Box\", allcfdna)]\n",
    "allcfdna <- allcfdna[ !grepl(\"X\", allcfdna)]"
   ]
  },
  {
   "cell_type": "code",
   "execution_count": 165,
   "metadata": {
    "vscode": {
     "languageId": "r"
    }
   },
   "outputs": [],
   "source": [
    "allcfdna <- gsub(\";\", \"\", allcfdna)\n",
    "allcfdna <- gsub(\"--\", \"-\", allcfdna)"
   ]
  },
  {
   "cell_type": "code",
   "execution_count": 166,
   "metadata": {
    "vscode": {
     "languageId": "r"
    }
   },
   "outputs": [],
   "source": [
    "names(allcfdna) <- NULL"
   ]
  },
  {
   "cell_type": "code",
   "execution_count": 167,
   "metadata": {
    "vscode": {
     "languageId": "r"
    }
   },
   "outputs": [],
   "source": [
    "allcfdna <- trimws(allcfdna)"
   ]
  },
  {
   "cell_type": "code",
   "execution_count": 168,
   "metadata": {
    "vscode": {
     "languageId": "r"
    }
   },
   "outputs": [
    {
     "data": {
      "text/html": [
       "<style>\n",
       ".list-inline {list-style: none; margin:0; padding: 0}\n",
       ".list-inline>li {display: inline-block}\n",
       ".list-inline>li:not(:last-child)::after {content: \"\\00b7\"; padding: 0 .5ex}\n",
       "</style>\n",
       "<ol class=list-inline><li>'335-02'</li><li>'341-05'</li><li>'339-02'</li><li>'341-05'</li><li>'345-05'</li><li>'406-03'</li><li>'341-05'</li><li>'365-04'</li><li>'355-05'</li></ol>\n"
      ],
      "text/latex": [
       "\\begin{enumerate*}\n",
       "\\item '335-02'\n",
       "\\item '341-05'\n",
       "\\item '339-02'\n",
       "\\item '341-05'\n",
       "\\item '345-05'\n",
       "\\item '406-03'\n",
       "\\item '341-05'\n",
       "\\item '365-04'\n",
       "\\item '355-05'\n",
       "\\end{enumerate*}\n"
      ],
      "text/markdown": [
       "1. '335-02'\n",
       "2. '341-05'\n",
       "3. '339-02'\n",
       "4. '341-05'\n",
       "5. '345-05'\n",
       "6. '406-03'\n",
       "7. '341-05'\n",
       "8. '365-04'\n",
       "9. '355-05'\n",
       "\n",
       "\n"
      ],
      "text/plain": [
       "[1] \"335-02\" \"341-05\" \"339-02\" \"341-05\" \"345-05\" \"406-03\" \"341-05\" \"365-04\"\n",
       "[9] \"355-05\""
      ]
     },
     "metadata": {},
     "output_type": "display_data"
    }
   ],
   "source": [
    "allcfdna[ !allcfdna %in% cfdna_samples$sample_id]"
   ]
  },
  {
   "attachments": {},
   "cell_type": "markdown",
   "metadata": {},
   "source": [
    "Samples above were in the manifest file from DB but were not processed in our lab. Not sure what happened.\n",
    "335-02 missing. 341-05, 345-05, 365-04 too low dna extracted. 339-02?. 406-03 tube emtpy. 355-05?"
   ]
  },
  {
   "cell_type": "code",
   "execution_count": 169,
   "metadata": {
    "vscode": {
     "languageId": "r"
    }
   },
   "outputs": [
    {
     "data": {
      "text/html": [
       "<table class=\"dataframe\">\n",
       "<caption>A data.frame: 2 x 2</caption>\n",
       "<thead>\n",
       "\t<tr><th></th><th scope=col>sample_id</th><th scope=col>DNAsamples</th></tr>\n",
       "\t<tr><th></th><th scope=col>&lt;chr&gt;</th><th scope=col>&lt;chr&gt;</th></tr>\n",
       "</thead>\n",
       "<tbody>\n",
       "\t<tr><th scope=row>60</th><td>409-02</td><td>n = 316</td></tr>\n",
       "\t<tr><th scope=row>96</th><td>364-03</td><td>n = 316</td></tr>\n",
       "</tbody>\n",
       "</table>\n"
      ],
      "text/latex": [
       "A data.frame: 2 x 2\n",
       "\\begin{tabular}{r|ll}\n",
       "  & sample\\_id & DNAsamples\\\\\n",
       "  & <chr> & <chr>\\\\\n",
       "\\hline\n",
       "\t60 & 409-02 & n = 316\\\\\n",
       "\t96 & 364-03 & n = 316\\\\\n",
       "\\end{tabular}\n"
      ],
      "text/markdown": [
       "\n",
       "A data.frame: 2 x 2\n",
       "\n",
       "| <!--/--> | sample_id &lt;chr&gt; | DNAsamples &lt;chr&gt; |\n",
       "|---|---|---|\n",
       "| 60 | 409-02 | n = 316 |\n",
       "| 96 | 364-03 | n = 316 |\n",
       "\n"
      ],
      "text/plain": [
       "   sample_id DNAsamples\n",
       "60 409-02    n = 316   \n",
       "96 364-03    n = 316   "
      ]
     },
     "metadata": {},
     "output_type": "display_data"
    }
   ],
   "source": [
    "cfdna_samples[!cfdna_samples$sample_id %in% allcfdna,]"
   ]
  },
  {
   "attachments": {},
   "cell_type": "markdown",
   "metadata": {},
   "source": [
    "samples above were processed in our lab but were not in the manifest file from DB. \n",
    "\n",
    "409-02: Sample was not on the Processing log but was in the box.\n",
    "364-03: Not sure, gotta ask Steph"
   ]
  },
  {
   "cell_type": "code",
   "execution_count": 170,
   "metadata": {
    "vscode": {
     "languageId": "r"
    }
   },
   "outputs": [],
   "source": [
    "cfdna$Miseq.for.Library <- trimws(cfdna$Miseq.for.Library)"
   ]
  },
  {
   "attachments": {},
   "cell_type": "markdown",
   "metadata": {},
   "source": [
    "Get those with passed libs and capture. Add each failed steps later"
   ]
  },
  {
   "cell_type": "code",
   "execution_count": 171,
   "metadata": {
    "vscode": {
     "languageId": "r"
    }
   },
   "outputs": [
    {
     "data": {
      "text/plain": [
       "\n",
       "  Passed Received     <NA> \n",
       "     315        1        0 "
      ]
     },
     "metadata": {},
     "output_type": "display_data"
    }
   ],
   "source": [
    "table(cfdna$Miseq.for.Library, useNA = \"always\")"
   ]
  },
  {
   "cell_type": "code",
   "execution_count": 172,
   "metadata": {
    "vscode": {
     "languageId": "r"
    }
   },
   "outputs": [],
   "source": [
    "cfdna$Miseq.for.Library[ cfdna$Miseq.for.Library == \"Received\"] <- \"Passed\""
   ]
  },
  {
   "cell_type": "code",
   "execution_count": null,
   "metadata": {
    "vscode": {
     "languageId": "r"
    }
   },
   "outputs": [],
   "source": []
  },
  {
   "cell_type": "code",
   "execution_count": 173,
   "metadata": {
    "vscode": {
     "languageId": "r"
    }
   },
   "outputs": [],
   "source": [
    "cfdna$Miseq.for.Capture <- trimws(cfdna$Miseq.for.Capture)"
   ]
  },
  {
   "cell_type": "code",
   "execution_count": 174,
   "metadata": {
    "vscode": {
     "languageId": "r"
    }
   },
   "outputs": [
    {
     "data": {
      "text/plain": [
       "\n",
       "Failed Passed   <NA> \n",
       "     1    295     20 "
      ]
     },
     "metadata": {},
     "output_type": "display_data"
    }
   ],
   "source": [
    "table(cfdna$Miseq.for.Capture, useNA = \"always\")"
   ]
  },
  {
   "cell_type": "code",
   "execution_count": 175,
   "metadata": {
    "vscode": {
     "languageId": "r"
    }
   },
   "outputs": [],
   "source": [
    "cfdna$Miseq.for.Capture[ is.na(cfdna$Miseq.for.Capture)] <- \"Failed\""
   ]
  },
  {
   "cell_type": "code",
   "execution_count": 176,
   "metadata": {
    "vscode": {
     "languageId": "r"
    }
   },
   "outputs": [],
   "source": [
    "capfailed <- cfdna[ which(cfdna$Miseq.for.Capture != \"Passed\"),]"
   ]
  },
  {
   "cell_type": "code",
   "execution_count": 177,
   "metadata": {
    "vscode": {
     "languageId": "r"
    }
   },
   "outputs": [
    {
     "data": {
      "text/html": [
       "<style>\n",
       ".list-inline {list-style: none; margin:0; padding: 0}\n",
       ".list-inline>li {display: inline-block}\n",
       ".list-inline>li:not(:last-child)::after {content: \"\\00b7\"; padding: 0 .5ex}\n",
       "</style>\n",
       "<ol class=list-inline><li>21</li><li>55</li></ol>\n"
      ],
      "text/latex": [
       "\\begin{enumerate*}\n",
       "\\item 21\n",
       "\\item 55\n",
       "\\end{enumerate*}\n"
      ],
      "text/markdown": [
       "1. 21\n",
       "2. 55\n",
       "\n",
       "\n"
      ],
      "text/plain": [
       "[1] 21 55"
      ]
     },
     "metadata": {},
     "output_type": "display_data"
    }
   ],
   "source": [
    "dim(capfailed)"
   ]
  },
  {
   "cell_type": "code",
   "execution_count": 178,
   "metadata": {
    "vscode": {
     "languageId": "r"
    }
   },
   "outputs": [],
   "source": [
    "#remove failed samples\n",
    "cfdna <- cfdna[ which(cfdna$Miseq.for.Library == \"Passed\"),]\n",
    "cfdna <- cfdna[ which(cfdna$Miseq.for.Capture == \"Passed\"),]"
   ]
  },
  {
   "cell_type": "code",
   "execution_count": 179,
   "metadata": {
    "vscode": {
     "languageId": "r"
    }
   },
   "outputs": [
    {
     "data": {
      "text/plain": [
       "\n",
       "Passed \n",
       "   295 "
      ]
     },
     "metadata": {},
     "output_type": "display_data"
    }
   ],
   "source": [
    "table(cfdna$Miseq.for.Capture)"
   ]
  },
  {
   "cell_type": "code",
   "execution_count": 180,
   "metadata": {
    "vscode": {
     "languageId": "r"
    }
   },
   "outputs": [],
   "source": [
    "#bind all cfdna and cap failed\n",
    "allsamples <- rbind(cfdna, capfailed)"
   ]
  },
  {
   "cell_type": "code",
   "execution_count": 181,
   "metadata": {
    "vscode": {
     "languageId": "r"
    }
   },
   "outputs": [],
   "source": [
    "#add amount DNA extracted\n",
    "cfdna_samples$DNAextracted <- NA\n",
    "cfdna_samples$DNAextracted <- allsamples$`Total.yield.1+2`[ match(cfdna_samples$sample_id, allsamples$Sample.ID )]"
   ]
  },
  {
   "cell_type": "code",
   "execution_count": 182,
   "metadata": {
    "vscode": {
     "languageId": "r"
    }
   },
   "outputs": [],
   "source": [
    "#add amount DNA used for library\n",
    "cfdna_samples$DNAused <- NA\n",
    "cfdna_samples$DNAused <- allsamples$`Amount.of.DNA.used.for.library.prep.(ng)`[ match(cfdna_samples$sample_id, allsamples$Sample.ID)]"
   ]
  },
  {
   "cell_type": "code",
   "execution_count": 183,
   "metadata": {
    "vscode": {
     "languageId": "r"
    }
   },
   "outputs": [],
   "source": [
    "# Add miseq status for libraries\n",
    "cfdna_samples$librarypassed <- NA\n",
    "cfdna_samples$librarypassed <- allsamples$Miseq.for.Library[ match(cfdna_samples$sample_id, allsamples$Sample.ID)]"
   ]
  },
  {
   "cell_type": "code",
   "execution_count": 184,
   "metadata": {
    "vscode": {
     "languageId": "r"
    }
   },
   "outputs": [],
   "source": [
    "cfdna_samples$libbatch <- allsamples$Library.Miseq.Flow.Cell.ID[ match(cfdna_samples$sample_id, allsamples$Sample.ID)]"
   ]
  },
  {
   "cell_type": "code",
   "execution_count": 185,
   "metadata": {
    "vscode": {
     "languageId": "r"
    }
   },
   "outputs": [
    {
     "data": {
      "text/plain": [
       "\n",
       "Passed   <NA> \n",
       "   316      0 "
      ]
     },
     "metadata": {},
     "output_type": "display_data"
    }
   ],
   "source": [
    "table(cfdna_samples$librarypassed, useNA = \"always\")"
   ]
  },
  {
   "cell_type": "code",
   "execution_count": 186,
   "metadata": {
    "vscode": {
     "languageId": "r"
    }
   },
   "outputs": [],
   "source": [
    "# add number of passed libraries\n",
    "cfdna_samples$Library <- NA\n",
    "cfdna_samples$Library[ cfdna_samples$librarypassed == \"Passed\"] <- paste0(\"n = \", \n",
    "                               length(cfdna_samples$librarypassed[which(cfdna_samples$librarypassed == \"Passed\")]))"
   ]
  },
  {
   "cell_type": "code",
   "execution_count": 187,
   "metadata": {
    "vscode": {
     "languageId": "r"
    }
   },
   "outputs": [
    {
     "data": {
      "text/plain": [
       "\n",
       "Passed   <NA> \n",
       "   316      0 "
      ]
     },
     "metadata": {},
     "output_type": "display_data"
    }
   ],
   "source": [
    "table(cfdna_samples$librarypassed, useNA = \"always\")"
   ]
  },
  {
   "cell_type": "code",
   "execution_count": 188,
   "metadata": {
    "vscode": {
     "languageId": "r"
    }
   },
   "outputs": [],
   "source": [
    "#add total library yield\n",
    "cfdna_samples$libraryyield <- NA\n",
    "cfdna_samples$libraryyield <- allsamples$`Amount.of.DNA.(ng)`[ match(cfdna_samples$sample_id, allsamples$Sample.ID)]"
   ]
  },
  {
   "cell_type": "code",
   "execution_count": 189,
   "metadata": {
    "vscode": {
     "languageId": "r"
    }
   },
   "outputs": [],
   "source": [
    "#amount DNA used for capture\n",
    "cfdna_samples$DNAforcapture <- NA\n",
    "cfdna_samples$DNAforcapture <- allsamples$`Amount.of.Library.used.for.Capture.Pooling.(ng)`[ match(cfdna_samples$sample_id, allsamples$Sample.ID)]"
   ]
  },
  {
   "cell_type": "code",
   "execution_count": 190,
   "metadata": {
    "vscode": {
     "languageId": "r"
    }
   },
   "outputs": [],
   "source": [
    "#total capture yield\n",
    "cfdna_samples$captureyield <- NA\n",
    "cfdna_samples$captureyield <- allsamples$`Amout.(ng)`[ match(cfdna_samples$sample_id, allsamples$Sample.ID)]"
   ]
  },
  {
   "cell_type": "code",
   "execution_count": 191,
   "metadata": {
    "vscode": {
     "languageId": "r"
    }
   },
   "outputs": [],
   "source": [
    "cfdna_samples$capbatch <- allsamples$Miseq.Flow.Cell.ID[ match(cfdna_samples$sample_id, allsamples$Sample.ID)]"
   ]
  },
  {
   "cell_type": "code",
   "execution_count": 192,
   "metadata": {
    "vscode": {
     "languageId": "r"
    }
   },
   "outputs": [],
   "source": [
    "# Miseq status for capture\n",
    "cfdna_samples$capturepassed <- NA\n",
    "cfdna_samples$capturepassed <- allsamples$Miseq.for.Capture[ match(cfdna_samples$sample_id, allsamples$Sample.ID)]"
   ]
  },
  {
   "cell_type": "code",
   "execution_count": 193,
   "metadata": {
    "vscode": {
     "languageId": "r"
    }
   },
   "outputs": [],
   "source": [
    "# Number of passed captures\n",
    "cfdna_samples$Capture <- NA\n",
    "cfdna_samples$Capture[ cfdna_samples$capturepassed == \"Passed\"] <- paste0(\"n = \", \n",
    "                                                                        length(cfdna_samples$capturepassed[which(cfdna_samples$capturepassed == \"Passed\")]))"
   ]
  },
  {
   "cell_type": "code",
   "execution_count": 194,
   "metadata": {
    "vscode": {
     "languageId": "r"
    }
   },
   "outputs": [
    {
     "data": {
      "text/plain": [
       "\n",
       "Failed Passed   <NA> \n",
       "    21    295      0 "
      ]
     },
     "metadata": {},
     "output_type": "display_data"
    }
   ],
   "source": [
    "table(cfdna_samples$capturepassed, useNA = \"always\")"
   ]
  },
  {
   "cell_type": "code",
   "execution_count": 195,
   "metadata": {
    "vscode": {
     "languageId": "r"
    }
   },
   "outputs": [],
   "source": [
    "cfdna_samples$capturepassed <- trimws(cfdna_samples$capturepassed)"
   ]
  },
  {
   "cell_type": "code",
   "execution_count": 196,
   "metadata": {
    "vscode": {
     "languageId": "r"
    }
   },
   "outputs": [
    {
     "data": {
      "text/html": [
       "<table class=\"dataframe\">\n",
       "<caption>A data.frame: 6 x 13</caption>\n",
       "<thead>\n",
       "\t<tr><th></th><th scope=col>sample_id</th><th scope=col>DNAsamples</th><th scope=col>DNAextracted</th><th scope=col>DNAused</th><th scope=col>librarypassed</th><th scope=col>libbatch</th><th scope=col>Library</th><th scope=col>libraryyield</th><th scope=col>DNAforcapture</th><th scope=col>captureyield</th><th scope=col>capbatch</th><th scope=col>capturepassed</th><th scope=col>Capture</th></tr>\n",
       "\t<tr><th></th><th scope=col>&lt;chr&gt;</th><th scope=col>&lt;chr&gt;</th><th scope=col>&lt;dbl&gt;</th><th scope=col>&lt;dbl&gt;</th><th scope=col>&lt;chr&gt;</th><th scope=col>&lt;chr&gt;</th><th scope=col>&lt;chr&gt;</th><th scope=col>&lt;dbl&gt;</th><th scope=col>&lt;dbl&gt;</th><th scope=col>&lt;dbl&gt;</th><th scope=col>&lt;chr&gt;</th><th scope=col>&lt;chr&gt;</th><th scope=col>&lt;chr&gt;</th></tr>\n",
       "</thead>\n",
       "<tbody>\n",
       "\t<tr><th scope=row>1</th><td>346-01</td><td>n = 316</td><td>19.5600</td><td>20</td><td>Passed</td><td>200605_M04827_0389_000000000-D86L3</td><td>n = 316</td><td>237.12</td><td>    NA</td><td>    NA</td><td>NA                                </td><td>Failed</td><td>NA     </td></tr>\n",
       "\t<tr><th scope=row>2</th><td>348-01</td><td>n = 316</td><td>14.4000</td><td>20</td><td>Passed</td><td>200605_M04827_0389_000000000-D86L3</td><td>n = 316</td><td>159.36</td><td>159.36</td><td> 733.4</td><td>200911_M04827_0435_000000000-D9GW9</td><td>Passed</td><td>n = 295</td></tr>\n",
       "\t<tr><th scope=row>3</th><td>348-03</td><td>n = 316</td><td>24.4944</td><td>20</td><td>Passed</td><td>200605_M04827_0389_000000000-D86L3</td><td>n = 316</td><td>227.52</td><td>227.52</td><td> 733.4</td><td>200911_M04827_0435_000000000-D9GW9</td><td>Passed</td><td>n = 295</td></tr>\n",
       "\t<tr><th scope=row>4</th><td>343-04</td><td>n = 316</td><td>56.0000</td><td>20</td><td>Passed</td><td>190730_M04827_0235_000000000-D6WF7</td><td>n = 316</td><td>291.84</td><td>291.84</td><td>1052.6</td><td>200909_M04827_0434_000000000-D9988</td><td>Passed</td><td>n = 295</td></tr>\n",
       "\t<tr><th scope=row>5</th><td>329-04</td><td>n = 316</td><td>40.0768</td><td>20</td><td>Passed</td><td>200605_M04827_0389_000000000-D86L3</td><td>n = 316</td><td>314.88</td><td>314.88</td><td>1132.4</td><td>200911_M04827_0435_000000000-D9GW9</td><td>Passed</td><td>n = 295</td></tr>\n",
       "\t<tr><th scope=row>6</th><td>331-05</td><td>n = 316</td><td>82.4000</td><td>20</td><td>Passed</td><td>190730_M04827_0235_000000000-D6WF7</td><td>n = 316</td><td>811.20</td><td>499.13</td><td>1565.6</td><td>200911_M04827_0435_000000000-D9GW9</td><td>Passed</td><td>n = 295</td></tr>\n",
       "</tbody>\n",
       "</table>\n"
      ],
      "text/latex": [
       "A data.frame: 6 x 13\n",
       "\\begin{tabular}{r|lllllllllllll}\n",
       "  & sample\\_id & DNAsamples & DNAextracted & DNAused & librarypassed & libbatch & Library & libraryyield & DNAforcapture & captureyield & capbatch & capturepassed & Capture\\\\\n",
       "  & <chr> & <chr> & <dbl> & <dbl> & <chr> & <chr> & <chr> & <dbl> & <dbl> & <dbl> & <chr> & <chr> & <chr>\\\\\n",
       "\\hline\n",
       "\t1 & 346-01 & n = 316 & 19.5600 & 20 & Passed & 200605\\_M04827\\_0389\\_000000000-D86L3 & n = 316 & 237.12 &     NA &     NA & NA                                 & Failed & NA     \\\\\n",
       "\t2 & 348-01 & n = 316 & 14.4000 & 20 & Passed & 200605\\_M04827\\_0389\\_000000000-D86L3 & n = 316 & 159.36 & 159.36 &  733.4 & 200911\\_M04827\\_0435\\_000000000-D9GW9 & Passed & n = 295\\\\\n",
       "\t3 & 348-03 & n = 316 & 24.4944 & 20 & Passed & 200605\\_M04827\\_0389\\_000000000-D86L3 & n = 316 & 227.52 & 227.52 &  733.4 & 200911\\_M04827\\_0435\\_000000000-D9GW9 & Passed & n = 295\\\\\n",
       "\t4 & 343-04 & n = 316 & 56.0000 & 20 & Passed & 190730\\_M04827\\_0235\\_000000000-D6WF7 & n = 316 & 291.84 & 291.84 & 1052.6 & 200909\\_M04827\\_0434\\_000000000-D9988 & Passed & n = 295\\\\\n",
       "\t5 & 329-04 & n = 316 & 40.0768 & 20 & Passed & 200605\\_M04827\\_0389\\_000000000-D86L3 & n = 316 & 314.88 & 314.88 & 1132.4 & 200911\\_M04827\\_0435\\_000000000-D9GW9 & Passed & n = 295\\\\\n",
       "\t6 & 331-05 & n = 316 & 82.4000 & 20 & Passed & 190730\\_M04827\\_0235\\_000000000-D6WF7 & n = 316 & 811.20 & 499.13 & 1565.6 & 200911\\_M04827\\_0435\\_000000000-D9GW9 & Passed & n = 295\\\\\n",
       "\\end{tabular}\n"
      ],
      "text/markdown": [
       "\n",
       "A data.frame: 6 x 13\n",
       "\n",
       "| <!--/--> | sample_id &lt;chr&gt; | DNAsamples &lt;chr&gt; | DNAextracted &lt;dbl&gt; | DNAused &lt;dbl&gt; | librarypassed &lt;chr&gt; | libbatch &lt;chr&gt; | Library &lt;chr&gt; | libraryyield &lt;dbl&gt; | DNAforcapture &lt;dbl&gt; | captureyield &lt;dbl&gt; | capbatch &lt;chr&gt; | capturepassed &lt;chr&gt; | Capture &lt;chr&gt; |\n",
       "|---|---|---|---|---|---|---|---|---|---|---|---|---|---|\n",
       "| 1 | 346-01 | n = 316 | 19.5600 | 20 | Passed | 200605_M04827_0389_000000000-D86L3 | n = 316 | 237.12 |     NA |     NA | NA                                 | Failed | NA      |\n",
       "| 2 | 348-01 | n = 316 | 14.4000 | 20 | Passed | 200605_M04827_0389_000000000-D86L3 | n = 316 | 159.36 | 159.36 |  733.4 | 200911_M04827_0435_000000000-D9GW9 | Passed | n = 295 |\n",
       "| 3 | 348-03 | n = 316 | 24.4944 | 20 | Passed | 200605_M04827_0389_000000000-D86L3 | n = 316 | 227.52 | 227.52 |  733.4 | 200911_M04827_0435_000000000-D9GW9 | Passed | n = 295 |\n",
       "| 4 | 343-04 | n = 316 | 56.0000 | 20 | Passed | 190730_M04827_0235_000000000-D6WF7 | n = 316 | 291.84 | 291.84 | 1052.6 | 200909_M04827_0434_000000000-D9988 | Passed | n = 295 |\n",
       "| 5 | 329-04 | n = 316 | 40.0768 | 20 | Passed | 200605_M04827_0389_000000000-D86L3 | n = 316 | 314.88 | 314.88 | 1132.4 | 200911_M04827_0435_000000000-D9GW9 | Passed | n = 295 |\n",
       "| 6 | 331-05 | n = 316 | 82.4000 | 20 | Passed | 190730_M04827_0235_000000000-D6WF7 | n = 316 | 811.20 | 499.13 | 1565.6 | 200911_M04827_0435_000000000-D9GW9 | Passed | n = 295 |\n",
       "\n"
      ],
      "text/plain": [
       "  sample_id DNAsamples DNAextracted DNAused librarypassed\n",
       "1 346-01    n = 316    19.5600      20      Passed       \n",
       "2 348-01    n = 316    14.4000      20      Passed       \n",
       "3 348-03    n = 316    24.4944      20      Passed       \n",
       "4 343-04    n = 316    56.0000      20      Passed       \n",
       "5 329-04    n = 316    40.0768      20      Passed       \n",
       "6 331-05    n = 316    82.4000      20      Passed       \n",
       "  libbatch                           Library libraryyield DNAforcapture\n",
       "1 200605_M04827_0389_000000000-D86L3 n = 316 237.12           NA       \n",
       "2 200605_M04827_0389_000000000-D86L3 n = 316 159.36       159.36       \n",
       "3 200605_M04827_0389_000000000-D86L3 n = 316 227.52       227.52       \n",
       "4 190730_M04827_0235_000000000-D6WF7 n = 316 291.84       291.84       \n",
       "5 200605_M04827_0389_000000000-D86L3 n = 316 314.88       314.88       \n",
       "6 190730_M04827_0235_000000000-D6WF7 n = 316 811.20       499.13       \n",
       "  captureyield capbatch                           capturepassed Capture\n",
       "1     NA       NA                                 Failed        NA     \n",
       "2  733.4       200911_M04827_0435_000000000-D9GW9 Passed        n = 295\n",
       "3  733.4       200911_M04827_0435_000000000-D9GW9 Passed        n = 295\n",
       "4 1052.6       200909_M04827_0434_000000000-D9988 Passed        n = 295\n",
       "5 1132.4       200911_M04827_0435_000000000-D9GW9 Passed        n = 295\n",
       "6 1565.6       200911_M04827_0435_000000000-D9GW9 Passed        n = 295"
      ]
     },
     "metadata": {},
     "output_type": "display_data"
    }
   ],
   "source": [
    "head(cfdna_samples)"
   ]
  },
  {
   "cell_type": "code",
   "execution_count": 197,
   "metadata": {
    "vscode": {
     "languageId": "r"
    }
   },
   "outputs": [],
   "source": [
    "cfdna_samples$deepseq <- NA\n",
    "cfdna_samples$deepseq <- trimws(cfdna$`Sent.for.Nextseq?`[ match(cfdna_samples$sample_id, cfdna$Sample.ID)])\n",
    "#pbmc_samples$deepseq[is.na(pbmc_samples$deepseq)] <- \"No\""
   ]
  },
  {
   "cell_type": "code",
   "execution_count": 198,
   "metadata": {
    "vscode": {
     "languageId": "r"
    }
   },
   "outputs": [
    {
     "data": {
      "text/plain": [
       "\n",
       " Yes <NA> \n",
       " 295   21 "
      ]
     },
     "metadata": {},
     "output_type": "display_data"
    }
   ],
   "source": [
    "table(cfdna_samples$deepseq, useNA = \"always\")"
   ]
  },
  {
   "cell_type": "code",
   "execution_count": 199,
   "metadata": {
    "vscode": {
     "languageId": "r"
    }
   },
   "outputs": [],
   "source": [
    "cfdna_samples$deepseq[ is.na(cfdna_samples$deepseq)] <- \"No\""
   ]
  },
  {
   "cell_type": "code",
   "execution_count": 200,
   "metadata": {
    "vscode": {
     "languageId": "r"
    }
   },
   "outputs": [
    {
     "data": {
      "text/plain": [
       "\n",
       "FALSE  TRUE \n",
       "   21   295 "
      ]
     },
     "metadata": {},
     "output_type": "display_data"
    }
   ],
   "source": [
    "table(cfdna_samples$deepseq == \"Yes\")"
   ]
  },
  {
   "cell_type": "code",
   "execution_count": 201,
   "metadata": {
    "vscode": {
     "languageId": "r"
    }
   },
   "outputs": [
    {
     "data": {
      "text/html": [
       "<style>\n",
       ".list-inline {list-style: none; margin:0; padding: 0}\n",
       ".list-inline>li {display: inline-block}\n",
       ".list-inline>li:not(:last-child)::after {content: \"\\00b7\"; padding: 0 .5ex}\n",
       "</style>\n",
       "<ol class=list-inline><li>316</li><li>14</li></ol>\n"
      ],
      "text/latex": [
       "\\begin{enumerate*}\n",
       "\\item 316\n",
       "\\item 14\n",
       "\\end{enumerate*}\n"
      ],
      "text/markdown": [
       "1. 316\n",
       "2. 14\n",
       "\n",
       "\n"
      ],
      "text/plain": [
       "[1] 316  14"
      ]
     },
     "metadata": {},
     "output_type": "display_data"
    }
   ],
   "source": [
    "dim(cfdna_samples)"
   ]
  },
  {
   "cell_type": "code",
   "execution_count": 202,
   "metadata": {
    "vscode": {
     "languageId": "r"
    }
   },
   "outputs": [
    {
     "data": {
      "text/html": [
       "<style>\n",
       ".list-inline {list-style: none; margin:0; padding: 0}\n",
       ".list-inline>li {display: inline-block}\n",
       ".list-inline>li:not(:last-child)::after {content: \"\\00b7\"; padding: 0 .5ex}\n",
       "</style>\n",
       "<ol class=list-inline><li>'n = 21'</li><li>'n = 295'</li></ol>\n"
      ],
      "text/latex": [
       "\\begin{enumerate*}\n",
       "\\item 'n = 21'\n",
       "\\item 'n = 295'\n",
       "\\end{enumerate*}\n"
      ],
      "text/markdown": [
       "1. 'n = 21'\n",
       "2. 'n = 295'\n",
       "\n",
       "\n"
      ],
      "text/plain": [
       "[1] \"n = 21\"  \"n = 295\""
      ]
     },
     "metadata": {},
     "output_type": "display_data"
    }
   ],
   "source": [
    "paste0(\"n = \", table(cfdna_samples$deepseq == \"Yes\"))"
   ]
  },
  {
   "cell_type": "code",
   "execution_count": 203,
   "metadata": {
    "vscode": {
     "languageId": "r"
    }
   },
   "outputs": [
    {
     "data": {
      "text/html": [
       "295"
      ],
      "text/latex": [
       "295"
      ],
      "text/markdown": [
       "295"
      ],
      "text/plain": [
       "[1] 295"
      ]
     },
     "metadata": {},
     "output_type": "display_data"
    }
   ],
   "source": [
    "sum(cfdna_samples$deepseq == \"Yes\")"
   ]
  },
  {
   "cell_type": "code",
   "execution_count": 204,
   "metadata": {
    "vscode": {
     "languageId": "r"
    }
   },
   "outputs": [],
   "source": [
    "# number of deep sequencing samples\n",
    "cfdna_samples$Sequencing <- NA\n",
    "\n",
    "cfdna_samples$Sequencing[ cfdna_samples$deepseq == \"Yes\"] <- paste0(\"n = \", sum(cfdna_samples$deepseq == \"Yes\"))"
   ]
  },
  {
   "cell_type": "code",
   "execution_count": 205,
   "metadata": {
    "scrolled": true,
    "vscode": {
     "languageId": "r"
    }
   },
   "outputs": [],
   "source": [
    "#make a new sample id to match with divstats\n",
    "cfdna_samples$mysample_id <- NA\n",
    "\n",
    "cfdna_samples$mysample_id <- paste0(\"CHP_\", cfdna_samples$sample_id, sep = \"\")\n",
    "cfdna_samples$mysample_id <- gsub(\"-\", \"_\", cfdna_samples$mysample_id)\n",
    "\n",
    "cfdna_samples$mysample_id[ grepl(\"YO\", cfdna_samples$mysample_id)] <- paste0(\n",
    "    cfdna_samples$mysample_id[ grepl(\"YO\", cfdna_samples$mysample_id)], \"_00\")\n",
    "\n",
    "cfdna_samples$mysample_id[ grepl(\"MO\", cfdna_samples$mysample_id)] <- paste0(\n",
    "    cfdna_samples$mysample_id[ grepl(\"MO\", cfdna_samples$mysample_id)], \"_00\")"
   ]
  },
  {
   "cell_type": "code",
   "execution_count": 206,
   "metadata": {
    "vscode": {
     "languageId": "r"
    }
   },
   "outputs": [
    {
     "data": {
      "text/plain": [
       "\n",
       "0.507 0.758 0.898 0.951 0.963 0.979 0.981 0.983 0.986 0.988 0.989 0.991 0.992 \n",
       "    1     1     1     1     1     1     1     1     1     1     1     1     2 \n",
       "0.993 0.994 0.995 0.996 0.997 0.998 0.999     1 \n",
       "    4     1     3    16    13    25    54   450 "
      ]
     },
     "metadata": {},
     "output_type": "display_data"
    }
   ],
   "source": [
    "table(divstats$Sample)"
   ]
  },
  {
   "cell_type": "code",
   "execution_count": 207,
   "metadata": {
    "vscode": {
     "languageId": "r"
    }
   },
   "outputs": [],
   "source": [
    "divstats_cfdna <- divstats[ divstats$Sample == \"cfDNA\",]"
   ]
  },
  {
   "cell_type": "code",
   "execution_count": 208,
   "metadata": {
    "vscode": {
     "languageId": "r"
    }
   },
   "outputs": [
    {
     "data": {
      "text/html": [
       "<style>\n",
       ".list-inline {list-style: none; margin:0; padding: 0}\n",
       ".list-inline>li {display: inline-block}\n",
       ".list-inline>li:not(:last-child)::after {content: \"\\00b7\"; padding: 0 .5ex}\n",
       "</style>\n",
       "<ol class=list-inline><li>9</li><li>22</li></ol>\n"
      ],
      "text/latex": [
       "\\begin{enumerate*}\n",
       "\\item 9\n",
       "\\item 22\n",
       "\\end{enumerate*}\n"
      ],
      "text/markdown": [
       "1. 9\n",
       "2. 22\n",
       "\n",
       "\n"
      ],
      "text/plain": [
       "[1]  9 22"
      ]
     },
     "metadata": {},
     "output_type": "display_data"
    }
   ],
   "source": [
    "dim( divstats_cfdna)"
   ]
  },
  {
   "cell_type": "code",
   "execution_count": 209,
   "metadata": {
    "vscode": {
     "languageId": "r"
    }
   },
   "outputs": [],
   "source": [
    "# Samples included in tcr analysis\n",
    "cfdna_samples$TCR <- NA\n",
    "cfdna_samples$TCR[ cfdna_samples$mysample_id %in% divstats_cfdna$sample_id] <- \"Yes\"\n",
    "cfdna_samples$TCR[ is.na(cfdna_samples$TCR)] <- \"No\""
   ]
  },
  {
   "cell_type": "code",
   "execution_count": 210,
   "metadata": {
    "vscode": {
     "languageId": "r"
    }
   },
   "outputs": [
    {
     "data": {
      "text/plain": [
       "\n",
       "  No <NA> \n",
       " 316    0 "
      ]
     },
     "metadata": {},
     "output_type": "display_data"
    }
   ],
   "source": [
    "table(cfdna_samples$TCR, useNA = \"always\")"
   ]
  },
  {
   "cell_type": "code",
   "execution_count": 211,
   "metadata": {
    "vscode": {
     "languageId": "r"
    }
   },
   "outputs": [
    {
     "data": {
      "text/plain": [
       "\n",
       "Failed Passed   <NA> \n",
       "    21    295      0 "
      ]
     },
     "metadata": {},
     "output_type": "display_data"
    }
   ],
   "source": [
    "table(cfdna_samples$capturepassed, useNA = \"always\")"
   ]
  },
  {
   "cell_type": "code",
   "execution_count": 212,
   "metadata": {
    "vscode": {
     "languageId": "r"
    }
   },
   "outputs": [],
   "source": [
    "# Number of failed captures\n",
    "capturefailed <- sum(cfdna_samples$capturepassed == \"Failed\")\n",
    "cfdna_samples$Capture[cfdna_samples$capturepassed == \"Failed\"] <- paste0(\"n = \", capturefailed)"
   ]
  },
  {
   "cell_type": "code",
   "execution_count": 213,
   "metadata": {
    "vscode": {
     "languageId": "r"
    }
   },
   "outputs": [],
   "source": [
    "# Number of samples included in tcr analysis\n",
    "cfdna_samples$TCRanalysis <- NA\n",
    "\n",
    "cfdna_samples$TCRanalysis[cfdna_samples$TCR == \"Yes\" & \n",
    "                 cfdna_samples$deepseq == \"Yes\" &\n",
    "                 cfdna_samples$capturepassed == \"Passed\"] <- paste0(\"n = \", \n",
    "                                                                    sum(cfdna_samples$TCR == \"Yes\" & \n",
    "                                                                        cfdna_samples$deepseq == \"Yes\" &\n",
    "                                                                        cfdna_samples$capturepassed == \"Passed\"))"
   ]
  },
  {
   "cell_type": "code",
   "execution_count": 214,
   "metadata": {
    "vscode": {
     "languageId": "r"
    }
   },
   "outputs": [],
   "source": [
    "# Number of samples not included in TCR analysis\n",
    "tcrfailed <- sum(cfdna_samples$TCR == \"No\" & \n",
    "                 cfdna_samples$deepseq == \"Yes\" &\n",
    "                 cfdna_samples$capturepassed == \"Passed\")\n",
    "\n",
    "cfdna_samples$TCRanalysis[cfdna_samples$TCR == \"No\" & \n",
    "                         cfdna_samples$deepseq == \"Yes\" &\n",
    "                         cfdna_samples$capturepassed == \"Passed\"] <- paste0(\"n = \", tcrfailed)"
   ]
  },
  {
   "cell_type": "code",
   "execution_count": 215,
   "metadata": {
    "vscode": {
     "languageId": "r"
    }
   },
   "outputs": [
    {
     "data": {
      "text/html": [
       "<style>\n",
       ".list-inline {list-style: none; margin:0; padding: 0}\n",
       ".list-inline>li {display: inline-block}\n",
       ".list-inline>li:not(:last-child)::after {content: \"\\00b7\"; padding: 0 .5ex}\n",
       "</style>\n",
       "<ol class=list-inline><li>316</li><li>18</li></ol>\n"
      ],
      "text/latex": [
       "\\begin{enumerate*}\n",
       "\\item 316\n",
       "\\item 18\n",
       "\\end{enumerate*}\n"
      ],
      "text/markdown": [
       "1. 316\n",
       "2. 18\n",
       "\n",
       "\n"
      ],
      "text/plain": [
       "[1] 316  18"
      ]
     },
     "metadata": {},
     "output_type": "display_data"
    }
   ],
   "source": [
    "dim(cfdna_samples)"
   ]
  },
  {
   "cell_type": "code",
   "execution_count": 216,
   "metadata": {
    "vscode": {
     "languageId": "r"
    }
   },
   "outputs": [
    {
     "data": {
      "text/plain": [
       "\n",
       "n = 295    <NA> \n",
       "    295      21 "
      ]
     },
     "metadata": {},
     "output_type": "display_data"
    }
   ],
   "source": [
    "table(cfdna_samples$TCRanalysis, useNA = \"always\")"
   ]
  },
  {
   "cell_type": "code",
   "execution_count": 217,
   "metadata": {
    "vscode": {
     "languageId": "r"
    }
   },
   "outputs": [
    {
     "data": {
      "text/html": [
       "<table class=\"dataframe\">\n",
       "<caption>A data.frame: 316 x 18</caption>\n",
       "<thead>\n",
       "\t<tr><th scope=col>sample_id</th><th scope=col>DNAsamples</th><th scope=col>DNAextracted</th><th scope=col>DNAused</th><th scope=col>librarypassed</th><th scope=col>libbatch</th><th scope=col>Library</th><th scope=col>libraryyield</th><th scope=col>DNAforcapture</th><th scope=col>captureyield</th><th scope=col>capbatch</th><th scope=col>capturepassed</th><th scope=col>Capture</th><th scope=col>deepseq</th><th scope=col>Sequencing</th><th scope=col>mysample_id</th><th scope=col>TCR</th><th scope=col>TCRanalysis</th></tr>\n",
       "\t<tr><th scope=col>&lt;chr&gt;</th><th scope=col>&lt;chr&gt;</th><th scope=col>&lt;dbl&gt;</th><th scope=col>&lt;dbl&gt;</th><th scope=col>&lt;chr&gt;</th><th scope=col>&lt;chr&gt;</th><th scope=col>&lt;chr&gt;</th><th scope=col>&lt;dbl&gt;</th><th scope=col>&lt;dbl&gt;</th><th scope=col>&lt;dbl&gt;</th><th scope=col>&lt;chr&gt;</th><th scope=col>&lt;chr&gt;</th><th scope=col>&lt;chr&gt;</th><th scope=col>&lt;chr&gt;</th><th scope=col>&lt;chr&gt;</th><th scope=col>&lt;chr&gt;</th><th scope=col>&lt;chr&gt;</th><th scope=col>&lt;chr&gt;</th></tr>\n",
       "</thead>\n",
       "<tbody>\n",
       "\t<tr><td>346-01</td><td>n = 316</td><td>  19.5600</td><td>20</td><td>Passed</td><td>200605_M04827_0389_000000000-D86L3</td><td>n = 316</td><td>237.12</td><td>      NA</td><td>     NA</td><td>NA                                </td><td>Failed</td><td>n = 21 </td><td>No </td><td>NA     </td><td>CHP_346_01</td><td>No</td><td>NA     </td></tr>\n",
       "\t<tr><td>348-01</td><td>n = 316</td><td>  14.4000</td><td>20</td><td>Passed</td><td>200605_M04827_0389_000000000-D86L3</td><td>n = 316</td><td>159.36</td><td>159.3600</td><td> 733.40</td><td>200911_M04827_0435_000000000-D9GW9</td><td>Passed</td><td>n = 295</td><td>Yes</td><td>n = 295</td><td>CHP_348_01</td><td>No</td><td>n = 295</td></tr>\n",
       "\t<tr><td>348-03</td><td>n = 316</td><td>  24.4944</td><td>20</td><td>Passed</td><td>200605_M04827_0389_000000000-D86L3</td><td>n = 316</td><td>227.52</td><td>227.5200</td><td> 733.40</td><td>200911_M04827_0435_000000000-D9GW9</td><td>Passed</td><td>n = 295</td><td>Yes</td><td>n = 295</td><td>CHP_348_03</td><td>No</td><td>n = 295</td></tr>\n",
       "\t<tr><td>343-04</td><td>n = 316</td><td>  56.0000</td><td>20</td><td>Passed</td><td>190730_M04827_0235_000000000-D6WF7</td><td>n = 316</td><td>291.84</td><td>291.8400</td><td>1052.60</td><td>200909_M04827_0434_000000000-D9988</td><td>Passed</td><td>n = 295</td><td>Yes</td><td>n = 295</td><td>CHP_343_04</td><td>No</td><td>n = 295</td></tr>\n",
       "\t<tr><td>329-04</td><td>n = 316</td><td>  40.0768</td><td>20</td><td>Passed</td><td>200605_M04827_0389_000000000-D86L3</td><td>n = 316</td><td>314.88</td><td>314.8800</td><td>1132.40</td><td>200911_M04827_0435_000000000-D9GW9</td><td>Passed</td><td>n = 295</td><td>Yes</td><td>n = 295</td><td>CHP_329_04</td><td>No</td><td>n = 295</td></tr>\n",
       "\t<tr><td>331-05</td><td>n = 316</td><td>  82.4000</td><td>20</td><td>Passed</td><td>190730_M04827_0235_000000000-D6WF7</td><td>n = 316</td><td>811.20</td><td>499.1300</td><td>1565.60</td><td>200911_M04827_0435_000000000-D9GW9</td><td>Passed</td><td>n = 295</td><td>Yes</td><td>n = 295</td><td>CHP_331_05</td><td>No</td><td>n = 295</td></tr>\n",
       "\t<tr><td>330-05</td><td>n = 316</td><td> 114.4864</td><td>20</td><td>Passed</td><td>200605_M04827_0389_000000000-D86L3</td><td>n = 316</td><td>120.00</td><td>      NA</td><td>   0.00</td><td>NA                                </td><td>Failed</td><td>n = 21 </td><td>No </td><td>NA     </td><td>CHP_330_05</td><td>No</td><td>NA     </td></tr>\n",
       "\t<tr><td>350-02</td><td>n = 316</td><td> 115.0065</td><td>20</td><td>Passed</td><td>200605_M04827_0389_000000000-D86L3</td><td>n = 316</td><td>241.92</td><td>241.9200</td><td> 805.60</td><td>200911_M04827_0435_000000000-D9GW9</td><td>Passed</td><td>n = 295</td><td>Yes</td><td>n = 295</td><td>CHP_350_02</td><td>No</td><td>n = 295</td></tr>\n",
       "\t<tr><td>352-02</td><td>n = 316</td><td> 173.6080</td><td>20</td><td>Passed</td><td>200605_M04827_0389_000000000-D86L3</td><td>n = 316</td><td>446.40</td><td>      NA</td><td>   0.00</td><td>NA                                </td><td>Failed</td><td>n = 21 </td><td>No </td><td>NA     </td><td>CHP_352_02</td><td>No</td><td>NA     </td></tr>\n",
       "\t<tr><td>343-02</td><td>n = 316</td><td> 161.9982</td><td>20</td><td>Passed</td><td>200605_M04827_0389_000000000-D86L3</td><td>n = 316</td><td>326.40</td><td>326.4000</td><td>1132.40</td><td>200911_M04827_0435_000000000-D9GW9</td><td>Passed</td><td>n = 295</td><td>Yes</td><td>n = 295</td><td>CHP_343_02</td><td>No</td><td>n = 295</td></tr>\n",
       "\t<tr><td>319-05</td><td>n = 316</td><td> 242.0000</td><td>20</td><td>Passed</td><td>190730_M04827_0235_000000000-D6WF7</td><td>n = 316</td><td>288.00</td><td>      NA</td><td>   0.00</td><td>NA                                </td><td>Failed</td><td>n = 21 </td><td>No </td><td>NA     </td><td>CHP_319_05</td><td>No</td><td>NA     </td></tr>\n",
       "\t<tr><td>350-01</td><td>n = 316</td><td> 316.0080</td><td>20</td><td>Passed</td><td>200605_M04827_0389_000000000-D86L3</td><td>n = 316</td><td>200.64</td><td>      NA</td><td>   0.00</td><td>NA                                </td><td>Failed</td><td>n = 21 </td><td>No </td><td>NA     </td><td>CHP_350_01</td><td>No</td><td>NA     </td></tr>\n",
       "\t<tr><td>349-01</td><td>n = 316</td><td>1571.2000</td><td>20</td><td>Passed</td><td>200605_M04827_0389_000000000-D86L3</td><td>n = 316</td><td>327.36</td><td>327.3600</td><td> 801.80</td><td>200911_M04827_0435_000000000-D9GW9</td><td>Passed</td><td>n = 295</td><td>Yes</td><td>n = 295</td><td>CHP_349_01</td><td>No</td><td>n = 295</td></tr>\n",
       "\t<tr><td>350-03</td><td>n = 316</td><td>  65.4000</td><td>20</td><td>Passed</td><td>190730_M04827_0235_000000000-D6WF7</td><td>n = 316</td><td>420.48</td><td>420.4800</td><td>1470.60</td><td>200911_M04827_0435_000000000-D9GW9</td><td>Passed</td><td>n = 295</td><td>Yes</td><td>n = 295</td><td>CHP_350_03</td><td>No</td><td>n = 295</td></tr>\n",
       "\t<tr><td>356-05</td><td>n = 316</td><td> 135.7600</td><td>20</td><td>Passed</td><td>190730_M04827_0235_000000000-D6WF7</td><td>n = 316</td><td>580.80</td><td>497.7500</td><td>1641.60</td><td>200911_M04827_0435_000000000-D9GW9</td><td>Passed</td><td>n = 295</td><td>Yes</td><td>n = 295</td><td>CHP_356_05</td><td>No</td><td>n = 295</td></tr>\n",
       "\t<tr><td>356-03</td><td>n = 316</td><td> 170.3910</td><td>20</td><td>Passed</td><td>200605_M04827_0389_000000000-D86L3</td><td>n = 316</td><td>187.20</td><td>      NA</td><td>   0.00</td><td>NA                                </td><td>Failed</td><td>n = 21 </td><td>No </td><td>NA     </td><td>CHP_356_03</td><td>No</td><td>NA     </td></tr>\n",
       "\t<tr><td>356-04</td><td>n = 316</td><td> 450.8000</td><td>20</td><td>Passed</td><td>190730_M04827_0235_000000000-D6WF7</td><td>n = 316</td><td>328.32</td><td>328.3200</td><td>1052.60</td><td>200909_M04827_0434_000000000-D9988</td><td>Passed</td><td>n = 295</td><td>Yes</td><td>n = 295</td><td>CHP_356_04</td><td>No</td><td>n = 295</td></tr>\n",
       "\t<tr><td>352-01</td><td>n = 316</td><td>2074.4000</td><td>20</td><td>Passed</td><td>190730_M04827_0235_000000000-D6WF7</td><td>n = 316</td><td>604.80</td><td>500.8700</td><td>1565.60</td><td>200911_M04827_0435_000000000-D9GW9</td><td>Failed</td><td>n = 21 </td><td>No </td><td>NA     </td><td>CHP_352_01</td><td>No</td><td>NA     </td></tr>\n",
       "\t<tr><td>367-01</td><td>n = 316</td><td>8709.6000</td><td>20</td><td>Passed</td><td>190730_M04827_0235_000000000-D6WF7</td><td>n = 316</td><td>179.52</td><td>      NA</td><td>   0.00</td><td>NA                                </td><td>Failed</td><td>n = 21 </td><td>No </td><td>NA     </td><td>CHP_367_01</td><td>No</td><td>NA     </td></tr>\n",
       "\t<tr><td>354-01</td><td>n = 316</td><td>9776.0000</td><td>20</td><td>Passed</td><td>200605_M04827_0389_000000000-D86L3</td><td>n = 316</td><td> 72.00</td><td>      NA</td><td>   0.00</td><td>NA                                </td><td>Failed</td><td>n = 21 </td><td>No </td><td>NA     </td><td>CHP_354_01</td><td>No</td><td>NA     </td></tr>\n",
       "\t<tr><td>365-03</td><td>n = 316</td><td>  51.1200</td><td>20</td><td>Passed</td><td>190730_M04827_0235_000000000-D6WF7</td><td>n = 316</td><td>468.48</td><td>468.4800</td><td>1474.40</td><td>200911_M04827_0435_000000000-D9GW9</td><td>Passed</td><td>n = 295</td><td>Yes</td><td>n = 295</td><td>CHP_365_03</td><td>No</td><td>n = 295</td></tr>\n",
       "\t<tr><td>378-01</td><td>n = 316</td><td> 568.1600</td><td>20</td><td>Passed</td><td>190730_M04827_0235_000000000-D6WF7</td><td>n = 316</td><td>590.40</td><td>502.2500</td><td>1641.60</td><td>200911_M04827_0435_000000000-D9GW9</td><td>Passed</td><td>n = 295</td><td>Yes</td><td>n = 295</td><td>CHP_378_01</td><td>No</td><td>n = 295</td></tr>\n",
       "\t<tr><td>370-02</td><td>n = 316</td><td>  83.7600</td><td>20</td><td>Passed</td><td>190730_M04827_0235_000000000-D6WF7</td><td>n = 316</td><td>729.60</td><td>521.3000</td><td>1398.40</td><td>200909_M04827_0434_000000000-D9988</td><td>Passed</td><td>n = 295</td><td>Yes</td><td>n = 295</td><td>CHP_370_02</td><td>No</td><td>n = 295</td></tr>\n",
       "\t<tr><td>374-03</td><td>n = 316</td><td> 139.8400</td><td>20</td><td>Passed</td><td>190730_M04827_0235_000000000-D6WF7</td><td>n = 316</td><td>619.20</td><td>478.7000</td><td>1398.40</td><td>200909_M04827_0434_000000000-D9988</td><td>Passed</td><td>n = 295</td><td>Yes</td><td>n = 295</td><td>CHP_374_03</td><td>No</td><td>n = 295</td></tr>\n",
       "\t<tr><td>363-01</td><td>n = 316</td><td> 228.4000</td><td>20</td><td>Passed</td><td>190926_M04827_0269_000000000-D5FMW</td><td>n = 316</td><td>375.36</td><td>353.6204</td><td> 181.64</td><td>191219_M04827_0326_000000000-D7RL9</td><td>Passed</td><td>n = 295</td><td>Yes</td><td>n = 295</td><td>CHP_363_01</td><td>No</td><td>n = 295</td></tr>\n",
       "\t<tr><td>360-02</td><td>n = 316</td><td> 342.4000</td><td>20</td><td>Passed</td><td>190926_M04827_0269_000000000-D5FMW</td><td>n = 316</td><td>366.72</td><td>366.7200</td><td> 181.64</td><td>191219_M04827_0326_000000000-D7RL9</td><td>Passed</td><td>n = 295</td><td>Yes</td><td>n = 295</td><td>CHP_360_02</td><td>No</td><td>n = 295</td></tr>\n",
       "\t<tr><td>379-01</td><td>n = 316</td><td> 196.4000</td><td>20</td><td>Passed</td><td>190926_M04827_0269_000000000-D5FMW</td><td>n = 316</td><td>552.00</td><td>529.8050</td><td> 126.92</td><td>191219_M04827_0326_000000000-D7RL9</td><td>Passed</td><td>n = 295</td><td>Yes</td><td>n = 295</td><td>CHP_379_01</td><td>No</td><td>n = 295</td></tr>\n",
       "\t<tr><td>374-05</td><td>n = 316</td><td> 242.8000</td><td>20</td><td>Passed</td><td>190926_M04827_0269_000000000-D5FMW</td><td>n = 316</td><td>489.60</td><td>470.2200</td><td> 126.92</td><td>191219_M04827_0326_000000000-D7RL9</td><td>Passed</td><td>n = 295</td><td>Yes</td><td>n = 295</td><td>CHP_374_05</td><td>No</td><td>n = 295</td></tr>\n",
       "\t<tr><td>366-02</td><td>n = 316</td><td> 211.2800</td><td>20</td><td>Passed</td><td>190926_M04827_0269_000000000-D5FMW</td><td>n = 316</td><td>686.40</td><td>488.0590</td><td> 547.20</td><td>191219_M04827_0326_000000000-D7RL9</td><td>Passed</td><td>n = 295</td><td>Yes</td><td>n = 295</td><td>CHP_366_02</td><td>No</td><td>n = 295</td></tr>\n",
       "\t<tr><td>347-01</td><td>n = 316</td><td> 368.1600</td><td>20</td><td>Passed</td><td>190926_M04827_0269_000000000-D5FMW</td><td>n = 316</td><td>705.60</td><td>511.8540</td><td> 547.20</td><td>191219_M04827_0326_000000000-D7RL9</td><td>Passed</td><td>n = 295</td><td>Yes</td><td>n = 295</td><td>CHP_347_01</td><td>No</td><td>n = 295</td></tr>\n",
       "\t<tr><td>...</td><td>...</td><td>...</td><td>...</td><td>...</td><td>...</td><td>...</td><td>...</td><td>...</td><td>...</td><td>...</td><td>...</td><td>...</td><td>...</td><td>...</td><td>...</td><td>...</td><td>...</td></tr>\n",
       "\t<tr><td>415-02</td><td>n = 316</td><td>14.40</td><td> 8.584</td><td>Passed</td><td>200312_M04827_0373_000000000-D8GDV</td><td>n = 316</td><td> 71.04</td><td> 71.04</td><td> 163.40</td><td>200725_M04827_0413_000000000-D8WP6</td><td>Passed</td><td>n = 295</td><td>Yes</td><td>n = 295</td><td>CHP_415_02</td><td>No</td><td>n = 295</td></tr>\n",
       "\t<tr><td>378-05</td><td>n = 316</td><td>16.52</td><td> 5.880</td><td>Passed</td><td>200312_M04827_0373_000000000-D8GDV</td><td>n = 316</td><td> 65.28</td><td> 65.28</td><td> 163.40</td><td>200725_M04827_0413_000000000-D8WP6</td><td>Passed</td><td>n = 295</td><td>Yes</td><td>n = 295</td><td>CHP_378_05</td><td>No</td><td>n = 295</td></tr>\n",
       "\t<tr><td>405-03</td><td>n = 316</td><td>14.72</td><td> 8.514</td><td>Passed</td><td>200312_M04827_0373_000000000-D8GDV</td><td>n = 316</td><td>112.32</td><td>112.32</td><td> 482.60</td><td>200725_M04827_0413_000000000-D8WP6</td><td>Passed</td><td>n = 295</td><td>Yes</td><td>n = 295</td><td>CHP_405_03</td><td>No</td><td>n = 295</td></tr>\n",
       "\t<tr><td>380-04</td><td>n = 316</td><td>13.92</td><td> 9.680</td><td>Passed</td><td>200312_M04827_0373_000000000-D8GDV</td><td>n = 316</td><td>127.68</td><td>127.68</td><td>1098.20</td><td>200725_M04827_0413_000000000-D8WP6</td><td>Passed</td><td>n = 295</td><td>Yes</td><td>n = 295</td><td>CHP_380_04</td><td>No</td><td>n = 295</td></tr>\n",
       "\t<tr><td>407-04</td><td>n = 316</td><td>16.64</td><td>10.752</td><td>Passed</td><td>200312_M04827_0373_000000000-D8GDV</td><td>n = 316</td><td>104.64</td><td>104.64</td><td>1098.20</td><td>200725_M04827_0413_000000000-D8WP6</td><td>Passed</td><td>n = 295</td><td>Yes</td><td>n = 295</td><td>CHP_407_04</td><td>No</td><td>n = 295</td></tr>\n",
       "\t<tr><td>373-03</td><td>n = 316</td><td>13.92</td><td>11.390</td><td>Passed</td><td>200312_M04827_0373_000000000-D8GDV</td><td>n = 316</td><td>144.00</td><td>144.00</td><td>1098.20</td><td>200725_M04827_0413_000000000-D8WP6</td><td>Passed</td><td>n = 295</td><td>Yes</td><td>n = 295</td><td>CHP_373_03</td><td>No</td><td>n = 295</td></tr>\n",
       "\t<tr><td>414-02</td><td>n = 316</td><td>16.80</td><td> 9.408</td><td>Passed</td><td>200312_M04827_0373_000000000-D8GDV</td><td>n = 316</td><td>181.44</td><td>181.44</td><td>1098.20</td><td>200725_M04827_0413_000000000-D8WP6</td><td>Passed</td><td>n = 295</td><td>Yes</td><td>n = 295</td><td>CHP_414_02</td><td>No</td><td>n = 295</td></tr>\n",
       "\t<tr><td>386-04</td><td>n = 316</td><td>18.48</td><td>12.096</td><td>Passed</td><td>200312_M04827_0373_000000000-D8GDV</td><td>n = 316</td><td>170.88</td><td>170.88</td><td> 737.20</td><td>200725_M04827_0413_000000000-D8WP6</td><td>Passed</td><td>n = 295</td><td>Yes</td><td>n = 295</td><td>CHP_386_04</td><td>No</td><td>n = 295</td></tr>\n",
       "\t<tr><td>382-04</td><td>n = 316</td><td>16.16</td><td>14.280</td><td>Passed</td><td>200312_M04827_0373_000000000-D8GDV</td><td>n = 316</td><td>202.56</td><td>202.56</td><td> 737.20</td><td>200725_M04827_0413_000000000-D8WP6</td><td>Passed</td><td>n = 295</td><td>Yes</td><td>n = 295</td><td>CHP_382_04</td><td>No</td><td>n = 295</td></tr>\n",
       "\t<tr><td>404-04</td><td>n = 316</td><td>13.76</td><td> 7.812</td><td>Passed</td><td>200312_M04827_0373_000000000-D8GDV</td><td>n = 316</td><td>201.60</td><td>201.60</td><td> 805.60</td><td>200725_M04827_0413_000000000-D8WP6</td><td>Passed</td><td>n = 295</td><td>Yes</td><td>n = 295</td><td>CHP_404_04</td><td>No</td><td>n = 295</td></tr>\n",
       "\t<tr><td>397-05</td><td>n = 316</td><td>15.04</td><td> 8.112</td><td>Passed</td><td>200312_M04827_0373_000000000-D8GDV</td><td>n = 316</td><td>216.00</td><td>216.00</td><td> 805.60</td><td>200725_M04827_0413_000000000-D8WP6</td><td>Passed</td><td>n = 295</td><td>Yes</td><td>n = 295</td><td>CHP_397_05</td><td>No</td><td>n = 295</td></tr>\n",
       "\t<tr><td>400-03</td><td>n = 316</td><td>15.68</td><td>13.284</td><td>Passed</td><td>200312_M04827_0373_000000000-D8GDV</td><td>n = 316</td><td>326.40</td><td>326.40</td><td>1052.60</td><td>200725_M04827_0413_000000000-D8WP6</td><td>Passed</td><td>n = 295</td><td>Yes</td><td>n = 295</td><td>CHP_400_03</td><td>No</td><td>n = 295</td></tr>\n",
       "\t<tr><td>407-01</td><td>n = 316</td><td>17.12</td><td>12.240</td><td>Passed</td><td>200312_M04827_0373_000000000-D8GDV</td><td>n = 316</td><td>331.20</td><td>331.20</td><td>1052.60</td><td>200725_M04827_0413_000000000-D8WP6</td><td>Passed</td><td>n = 295</td><td>Yes</td><td>n = 295</td><td>CHP_407_01</td><td>No</td><td>n = 295</td></tr>\n",
       "\t<tr><td>412-01</td><td>n = 316</td><td>18.08</td><td>14.872</td><td>Passed</td><td>200604_M04827_0388_000000000-D8756</td><td>n = 316</td><td>167.04</td><td>167.04</td><td> 210.60</td><td>200821_M04827_0425_000000000-D9BP6</td><td>Passed</td><td>n = 295</td><td>Yes</td><td>n = 295</td><td>CHP_412_01</td><td>No</td><td>n = 295</td></tr>\n",
       "\t<tr><td>396-04</td><td>n = 316</td><td> 0.40</td><td> 7.176</td><td>Passed</td><td>200604_M04827_0388_000000000-D8756</td><td>n = 316</td><td>118.08</td><td>118.08</td><td> 210.60</td><td>200821_M04827_0425_000000000-D9BP6</td><td>Passed</td><td>n = 295</td><td>Yes</td><td>n = 295</td><td>CHP_396_04</td><td>No</td><td>n = 295</td></tr>\n",
       "\t<tr><td>415-03</td><td>n = 316</td><td>18.24</td><td>12.246</td><td>Passed</td><td>200604_M04827_0388_000000000-D8756</td><td>n = 316</td><td>133.44</td><td>133.44</td><td> 150.12</td><td>200821_M04827_0425_000000000-D9BP6</td><td>Passed</td><td>n = 295</td><td>Yes</td><td>n = 295</td><td>CHP_415_03</td><td>No</td><td>n = 295</td></tr>\n",
       "\t<tr><td>392-04</td><td>n = 316</td><td> 0.40</td><td> 5.520</td><td>Passed</td><td>200604_M04827_0388_000000000-D8756</td><td>n = 316</td><td>147.84</td><td>147.84</td><td> 150.12</td><td>200821_M04827_0425_000000000-D9BP6</td><td>Passed</td><td>n = 295</td><td>Yes</td><td>n = 295</td><td>CHP_392_04</td><td>No</td><td>n = 295</td></tr>\n",
       "\t<tr><td>413-02</td><td>n = 316</td><td> 0.40</td><td> 5.850</td><td>Passed</td><td>200604_M04827_0388_000000000-D8756</td><td>n = 316</td><td>124.80</td><td>124.80</td><td> 507.60</td><td>200821_M04827_0425_000000000-D9BP6</td><td>Passed</td><td>n = 295</td><td>Yes</td><td>n = 295</td><td>CHP_413_02</td><td>No</td><td>n = 295</td></tr>\n",
       "\t<tr><td>390-03</td><td>n = 316</td><td>17.48</td><td>15.540</td><td>Passed</td><td>200604_M04827_0388_000000000-D8756</td><td>n = 316</td><td>258.24</td><td>258.24</td><td> 225.00</td><td>200821_M04827_0425_000000000-D9BP6</td><td>Passed</td><td>n = 295</td><td>Yes</td><td>n = 295</td><td>CHP_390_03</td><td>No</td><td>n = 295</td></tr>\n",
       "\t<tr><td>382-02</td><td>n = 316</td><td> 0.40</td><td> 6.072</td><td>Passed</td><td>200604_M04827_0388_000000000-D8756</td><td>n = 316</td><td>171.84</td><td>171.84</td><td> 225.00</td><td>200821_M04827_0425_000000000-D9BP6</td><td>Passed</td><td>n = 295</td><td>Yes</td><td>n = 295</td><td>CHP_382_02</td><td>No</td><td>n = 295</td></tr>\n",
       "\t<tr><td>405-05</td><td>n = 316</td><td>17.92</td><td>13.288</td><td>Passed</td><td>200604_M04827_0388_000000000-D8756</td><td>n = 316</td><td>206.40</td><td>206.40</td><td> 255.60</td><td>200821_M04827_0425_000000000-D9BP6</td><td>Passed</td><td>n = 295</td><td>Yes</td><td>n = 295</td><td>CHP_405_05</td><td>No</td><td>n = 295</td></tr>\n",
       "\t<tr><td>385-05</td><td>n = 316</td><td>18.56</td><td>12.600</td><td>Passed</td><td>200604_M04827_0388_000000000-D8756</td><td>n = 316</td><td>218.88</td><td>218.88</td><td> 255.60</td><td>200821_M04827_0425_000000000-D9BP6</td><td>Passed</td><td>n = 295</td><td>Yes</td><td>n = 295</td><td>CHP_385_05</td><td>No</td><td>n = 295</td></tr>\n",
       "\t<tr><td>385-04</td><td>n = 316</td><td>17.44</td><td>14.362</td><td>Passed</td><td>200604_M04827_0388_000000000-D8756</td><td>n = 316</td><td>248.64</td><td>248.64</td><td> 446.40</td><td>200821_M04827_0425_000000000-D9BP6</td><td>Passed</td><td>n = 295</td><td>Yes</td><td>n = 295</td><td>CHP_385_04</td><td>No</td><td>n = 295</td></tr>\n",
       "\t<tr><td>391-03</td><td>n = 316</td><td>19.20</td><td>17.100</td><td>Passed</td><td>200604_M04827_0388_000000000-D8756</td><td>n = 316</td><td>333.12</td><td>333.12</td><td> 446.40</td><td>200821_M04827_0425_000000000-D9BP6</td><td>Passed</td><td>n = 295</td><td>Yes</td><td>n = 295</td><td>CHP_391_03</td><td>No</td><td>n = 295</td></tr>\n",
       "\t<tr><td>393-01</td><td>n = 316</td><td> 0.40</td><td> 7.110</td><td>Passed</td><td>200604_M04827_0388_000000000-D8756</td><td>n = 316</td><td> 73.92</td><td> 73.92</td><td> 741.00</td><td>200821_M04827_0425_000000000-D9BP6</td><td>Passed</td><td>n = 295</td><td>Yes</td><td>n = 295</td><td>CHP_393_01</td><td>No</td><td>n = 295</td></tr>\n",
       "\t<tr><td>403-03</td><td>n = 316</td><td> 0.40</td><td> 6.536</td><td>Passed</td><td>200604_M04827_0388_000000000-D8756</td><td>n = 316</td><td> 72.48</td><td> 72.48</td><td> 741.00</td><td>200821_M04827_0425_000000000-D9BP6</td><td>Passed</td><td>n = 295</td><td>Yes</td><td>n = 295</td><td>CHP_403_03</td><td>No</td><td>n = 295</td></tr>\n",
       "\t<tr><td>365-05</td><td>n = 316</td><td> 0.60</td><td> 4.956</td><td>Passed</td><td>200604_M04827_0388_000000000-D8756</td><td>n = 316</td><td> 73.44</td><td> 73.44</td><td> 855.00</td><td>200821_M04827_0425_000000000-D9BP6</td><td>Passed</td><td>n = 295</td><td>Yes</td><td>n = 295</td><td>CHP_365_05</td><td>No</td><td>n = 295</td></tr>\n",
       "\t<tr><td>391-04</td><td>n = 316</td><td> 0.40</td><td> 3.002</td><td>Passed</td><td>200604_M04827_0388_000000000-D8756</td><td>n = 316</td><td> 84.96</td><td> 84.96</td><td> 855.00</td><td>200821_M04827_0425_000000000-D9BP6</td><td>Passed</td><td>n = 295</td><td>Yes</td><td>n = 295</td><td>CHP_391_04</td><td>No</td><td>n = 295</td></tr>\n",
       "\t<tr><td>378-03</td><td>n = 316</td><td> 0.40</td><td> 4.928</td><td>Passed</td><td>200604_M04827_0388_000000000-D8756</td><td>n = 316</td><td>128.64</td><td>128.64</td><td>1432.60</td><td>200821_M04827_0425_000000000-D9BP6</td><td>Passed</td><td>n = 295</td><td>Yes</td><td>n = 295</td><td>CHP_378_03</td><td>No</td><td>n = 295</td></tr>\n",
       "\t<tr><td>419-01</td><td>n = 316</td><td> 0.40</td><td> 4.730</td><td>Passed</td><td>200604_M04827_0388_000000000-D8756</td><td>n = 316</td><td>121.92</td><td>121.92</td><td>1432.60</td><td>200821_M04827_0425_000000000-D9BP6</td><td>Passed</td><td>n = 295</td><td>Yes</td><td>n = 295</td><td>CHP_419_01</td><td>No</td><td>n = 295</td></tr>\n",
       "</tbody>\n",
       "</table>\n"
      ],
      "text/latex": [
       "A data.frame: 316 x 18\n",
       "\\begin{tabular}{llllllllllllllllll}\n",
       " sample\\_id & DNAsamples & DNAextracted & DNAused & librarypassed & libbatch & Library & libraryyield & DNAforcapture & captureyield & capbatch & capturepassed & Capture & deepseq & Sequencing & mysample\\_id & TCR & TCRanalysis\\\\\n",
       " <chr> & <chr> & <dbl> & <dbl> & <chr> & <chr> & <chr> & <dbl> & <dbl> & <dbl> & <chr> & <chr> & <chr> & <chr> & <chr> & <chr> & <chr> & <chr>\\\\\n",
       "\\hline\n",
       "\t 346-01 & n = 316 &   19.5600 & 20 & Passed & 200605\\_M04827\\_0389\\_000000000-D86L3 & n = 316 & 237.12 &       NA &      NA & NA                                 & Failed & n = 21  & No  & NA      & CHP\\_346\\_01 & No & NA     \\\\\n",
       "\t 348-01 & n = 316 &   14.4000 & 20 & Passed & 200605\\_M04827\\_0389\\_000000000-D86L3 & n = 316 & 159.36 & 159.3600 &  733.40 & 200911\\_M04827\\_0435\\_000000000-D9GW9 & Passed & n = 295 & Yes & n = 295 & CHP\\_348\\_01 & No & n = 295\\\\\n",
       "\t 348-03 & n = 316 &   24.4944 & 20 & Passed & 200605\\_M04827\\_0389\\_000000000-D86L3 & n = 316 & 227.52 & 227.5200 &  733.40 & 200911\\_M04827\\_0435\\_000000000-D9GW9 & Passed & n = 295 & Yes & n = 295 & CHP\\_348\\_03 & No & n = 295\\\\\n",
       "\t 343-04 & n = 316 &   56.0000 & 20 & Passed & 190730\\_M04827\\_0235\\_000000000-D6WF7 & n = 316 & 291.84 & 291.8400 & 1052.60 & 200909\\_M04827\\_0434\\_000000000-D9988 & Passed & n = 295 & Yes & n = 295 & CHP\\_343\\_04 & No & n = 295\\\\\n",
       "\t 329-04 & n = 316 &   40.0768 & 20 & Passed & 200605\\_M04827\\_0389\\_000000000-D86L3 & n = 316 & 314.88 & 314.8800 & 1132.40 & 200911\\_M04827\\_0435\\_000000000-D9GW9 & Passed & n = 295 & Yes & n = 295 & CHP\\_329\\_04 & No & n = 295\\\\\n",
       "\t 331-05 & n = 316 &   82.4000 & 20 & Passed & 190730\\_M04827\\_0235\\_000000000-D6WF7 & n = 316 & 811.20 & 499.1300 & 1565.60 & 200911\\_M04827\\_0435\\_000000000-D9GW9 & Passed & n = 295 & Yes & n = 295 & CHP\\_331\\_05 & No & n = 295\\\\\n",
       "\t 330-05 & n = 316 &  114.4864 & 20 & Passed & 200605\\_M04827\\_0389\\_000000000-D86L3 & n = 316 & 120.00 &       NA &    0.00 & NA                                 & Failed & n = 21  & No  & NA      & CHP\\_330\\_05 & No & NA     \\\\\n",
       "\t 350-02 & n = 316 &  115.0065 & 20 & Passed & 200605\\_M04827\\_0389\\_000000000-D86L3 & n = 316 & 241.92 & 241.9200 &  805.60 & 200911\\_M04827\\_0435\\_000000000-D9GW9 & Passed & n = 295 & Yes & n = 295 & CHP\\_350\\_02 & No & n = 295\\\\\n",
       "\t 352-02 & n = 316 &  173.6080 & 20 & Passed & 200605\\_M04827\\_0389\\_000000000-D86L3 & n = 316 & 446.40 &       NA &    0.00 & NA                                 & Failed & n = 21  & No  & NA      & CHP\\_352\\_02 & No & NA     \\\\\n",
       "\t 343-02 & n = 316 &  161.9982 & 20 & Passed & 200605\\_M04827\\_0389\\_000000000-D86L3 & n = 316 & 326.40 & 326.4000 & 1132.40 & 200911\\_M04827\\_0435\\_000000000-D9GW9 & Passed & n = 295 & Yes & n = 295 & CHP\\_343\\_02 & No & n = 295\\\\\n",
       "\t 319-05 & n = 316 &  242.0000 & 20 & Passed & 190730\\_M04827\\_0235\\_000000000-D6WF7 & n = 316 & 288.00 &       NA &    0.00 & NA                                 & Failed & n = 21  & No  & NA      & CHP\\_319\\_05 & No & NA     \\\\\n",
       "\t 350-01 & n = 316 &  316.0080 & 20 & Passed & 200605\\_M04827\\_0389\\_000000000-D86L3 & n = 316 & 200.64 &       NA &    0.00 & NA                                 & Failed & n = 21  & No  & NA      & CHP\\_350\\_01 & No & NA     \\\\\n",
       "\t 349-01 & n = 316 & 1571.2000 & 20 & Passed & 200605\\_M04827\\_0389\\_000000000-D86L3 & n = 316 & 327.36 & 327.3600 &  801.80 & 200911\\_M04827\\_0435\\_000000000-D9GW9 & Passed & n = 295 & Yes & n = 295 & CHP\\_349\\_01 & No & n = 295\\\\\n",
       "\t 350-03 & n = 316 &   65.4000 & 20 & Passed & 190730\\_M04827\\_0235\\_000000000-D6WF7 & n = 316 & 420.48 & 420.4800 & 1470.60 & 200911\\_M04827\\_0435\\_000000000-D9GW9 & Passed & n = 295 & Yes & n = 295 & CHP\\_350\\_03 & No & n = 295\\\\\n",
       "\t 356-05 & n = 316 &  135.7600 & 20 & Passed & 190730\\_M04827\\_0235\\_000000000-D6WF7 & n = 316 & 580.80 & 497.7500 & 1641.60 & 200911\\_M04827\\_0435\\_000000000-D9GW9 & Passed & n = 295 & Yes & n = 295 & CHP\\_356\\_05 & No & n = 295\\\\\n",
       "\t 356-03 & n = 316 &  170.3910 & 20 & Passed & 200605\\_M04827\\_0389\\_000000000-D86L3 & n = 316 & 187.20 &       NA &    0.00 & NA                                 & Failed & n = 21  & No  & NA      & CHP\\_356\\_03 & No & NA     \\\\\n",
       "\t 356-04 & n = 316 &  450.8000 & 20 & Passed & 190730\\_M04827\\_0235\\_000000000-D6WF7 & n = 316 & 328.32 & 328.3200 & 1052.60 & 200909\\_M04827\\_0434\\_000000000-D9988 & Passed & n = 295 & Yes & n = 295 & CHP\\_356\\_04 & No & n = 295\\\\\n",
       "\t 352-01 & n = 316 & 2074.4000 & 20 & Passed & 190730\\_M04827\\_0235\\_000000000-D6WF7 & n = 316 & 604.80 & 500.8700 & 1565.60 & 200911\\_M04827\\_0435\\_000000000-D9GW9 & Failed & n = 21  & No  & NA      & CHP\\_352\\_01 & No & NA     \\\\\n",
       "\t 367-01 & n = 316 & 8709.6000 & 20 & Passed & 190730\\_M04827\\_0235\\_000000000-D6WF7 & n = 316 & 179.52 &       NA &    0.00 & NA                                 & Failed & n = 21  & No  & NA      & CHP\\_367\\_01 & No & NA     \\\\\n",
       "\t 354-01 & n = 316 & 9776.0000 & 20 & Passed & 200605\\_M04827\\_0389\\_000000000-D86L3 & n = 316 &  72.00 &       NA &    0.00 & NA                                 & Failed & n = 21  & No  & NA      & CHP\\_354\\_01 & No & NA     \\\\\n",
       "\t 365-03 & n = 316 &   51.1200 & 20 & Passed & 190730\\_M04827\\_0235\\_000000000-D6WF7 & n = 316 & 468.48 & 468.4800 & 1474.40 & 200911\\_M04827\\_0435\\_000000000-D9GW9 & Passed & n = 295 & Yes & n = 295 & CHP\\_365\\_03 & No & n = 295\\\\\n",
       "\t 378-01 & n = 316 &  568.1600 & 20 & Passed & 190730\\_M04827\\_0235\\_000000000-D6WF7 & n = 316 & 590.40 & 502.2500 & 1641.60 & 200911\\_M04827\\_0435\\_000000000-D9GW9 & Passed & n = 295 & Yes & n = 295 & CHP\\_378\\_01 & No & n = 295\\\\\n",
       "\t 370-02 & n = 316 &   83.7600 & 20 & Passed & 190730\\_M04827\\_0235\\_000000000-D6WF7 & n = 316 & 729.60 & 521.3000 & 1398.40 & 200909\\_M04827\\_0434\\_000000000-D9988 & Passed & n = 295 & Yes & n = 295 & CHP\\_370\\_02 & No & n = 295\\\\\n",
       "\t 374-03 & n = 316 &  139.8400 & 20 & Passed & 190730\\_M04827\\_0235\\_000000000-D6WF7 & n = 316 & 619.20 & 478.7000 & 1398.40 & 200909\\_M04827\\_0434\\_000000000-D9988 & Passed & n = 295 & Yes & n = 295 & CHP\\_374\\_03 & No & n = 295\\\\\n",
       "\t 363-01 & n = 316 &  228.4000 & 20 & Passed & 190926\\_M04827\\_0269\\_000000000-D5FMW & n = 316 & 375.36 & 353.6204 &  181.64 & 191219\\_M04827\\_0326\\_000000000-D7RL9 & Passed & n = 295 & Yes & n = 295 & CHP\\_363\\_01 & No & n = 295\\\\\n",
       "\t 360-02 & n = 316 &  342.4000 & 20 & Passed & 190926\\_M04827\\_0269\\_000000000-D5FMW & n = 316 & 366.72 & 366.7200 &  181.64 & 191219\\_M04827\\_0326\\_000000000-D7RL9 & Passed & n = 295 & Yes & n = 295 & CHP\\_360\\_02 & No & n = 295\\\\\n",
       "\t 379-01 & n = 316 &  196.4000 & 20 & Passed & 190926\\_M04827\\_0269\\_000000000-D5FMW & n = 316 & 552.00 & 529.8050 &  126.92 & 191219\\_M04827\\_0326\\_000000000-D7RL9 & Passed & n = 295 & Yes & n = 295 & CHP\\_379\\_01 & No & n = 295\\\\\n",
       "\t 374-05 & n = 316 &  242.8000 & 20 & Passed & 190926\\_M04827\\_0269\\_000000000-D5FMW & n = 316 & 489.60 & 470.2200 &  126.92 & 191219\\_M04827\\_0326\\_000000000-D7RL9 & Passed & n = 295 & Yes & n = 295 & CHP\\_374\\_05 & No & n = 295\\\\\n",
       "\t 366-02 & n = 316 &  211.2800 & 20 & Passed & 190926\\_M04827\\_0269\\_000000000-D5FMW & n = 316 & 686.40 & 488.0590 &  547.20 & 191219\\_M04827\\_0326\\_000000000-D7RL9 & Passed & n = 295 & Yes & n = 295 & CHP\\_366\\_02 & No & n = 295\\\\\n",
       "\t 347-01 & n = 316 &  368.1600 & 20 & Passed & 190926\\_M04827\\_0269\\_000000000-D5FMW & n = 316 & 705.60 & 511.8540 &  547.20 & 191219\\_M04827\\_0326\\_000000000-D7RL9 & Passed & n = 295 & Yes & n = 295 & CHP\\_347\\_01 & No & n = 295\\\\\n",
       "\t ... & ... & ... & ... & ... & ... & ... & ... & ... & ... & ... & ... & ... & ... & ... & ... & ... & ...\\\\\n",
       "\t 415-02 & n = 316 & 14.40 &  8.584 & Passed & 200312\\_M04827\\_0373\\_000000000-D8GDV & n = 316 &  71.04 &  71.04 &  163.40 & 200725\\_M04827\\_0413\\_000000000-D8WP6 & Passed & n = 295 & Yes & n = 295 & CHP\\_415\\_02 & No & n = 295\\\\\n",
       "\t 378-05 & n = 316 & 16.52 &  5.880 & Passed & 200312\\_M04827\\_0373\\_000000000-D8GDV & n = 316 &  65.28 &  65.28 &  163.40 & 200725\\_M04827\\_0413\\_000000000-D8WP6 & Passed & n = 295 & Yes & n = 295 & CHP\\_378\\_05 & No & n = 295\\\\\n",
       "\t 405-03 & n = 316 & 14.72 &  8.514 & Passed & 200312\\_M04827\\_0373\\_000000000-D8GDV & n = 316 & 112.32 & 112.32 &  482.60 & 200725\\_M04827\\_0413\\_000000000-D8WP6 & Passed & n = 295 & Yes & n = 295 & CHP\\_405\\_03 & No & n = 295\\\\\n",
       "\t 380-04 & n = 316 & 13.92 &  9.680 & Passed & 200312\\_M04827\\_0373\\_000000000-D8GDV & n = 316 & 127.68 & 127.68 & 1098.20 & 200725\\_M04827\\_0413\\_000000000-D8WP6 & Passed & n = 295 & Yes & n = 295 & CHP\\_380\\_04 & No & n = 295\\\\\n",
       "\t 407-04 & n = 316 & 16.64 & 10.752 & Passed & 200312\\_M04827\\_0373\\_000000000-D8GDV & n = 316 & 104.64 & 104.64 & 1098.20 & 200725\\_M04827\\_0413\\_000000000-D8WP6 & Passed & n = 295 & Yes & n = 295 & CHP\\_407\\_04 & No & n = 295\\\\\n",
       "\t 373-03 & n = 316 & 13.92 & 11.390 & Passed & 200312\\_M04827\\_0373\\_000000000-D8GDV & n = 316 & 144.00 & 144.00 & 1098.20 & 200725\\_M04827\\_0413\\_000000000-D8WP6 & Passed & n = 295 & Yes & n = 295 & CHP\\_373\\_03 & No & n = 295\\\\\n",
       "\t 414-02 & n = 316 & 16.80 &  9.408 & Passed & 200312\\_M04827\\_0373\\_000000000-D8GDV & n = 316 & 181.44 & 181.44 & 1098.20 & 200725\\_M04827\\_0413\\_000000000-D8WP6 & Passed & n = 295 & Yes & n = 295 & CHP\\_414\\_02 & No & n = 295\\\\\n",
       "\t 386-04 & n = 316 & 18.48 & 12.096 & Passed & 200312\\_M04827\\_0373\\_000000000-D8GDV & n = 316 & 170.88 & 170.88 &  737.20 & 200725\\_M04827\\_0413\\_000000000-D8WP6 & Passed & n = 295 & Yes & n = 295 & CHP\\_386\\_04 & No & n = 295\\\\\n",
       "\t 382-04 & n = 316 & 16.16 & 14.280 & Passed & 200312\\_M04827\\_0373\\_000000000-D8GDV & n = 316 & 202.56 & 202.56 &  737.20 & 200725\\_M04827\\_0413\\_000000000-D8WP6 & Passed & n = 295 & Yes & n = 295 & CHP\\_382\\_04 & No & n = 295\\\\\n",
       "\t 404-04 & n = 316 & 13.76 &  7.812 & Passed & 200312\\_M04827\\_0373\\_000000000-D8GDV & n = 316 & 201.60 & 201.60 &  805.60 & 200725\\_M04827\\_0413\\_000000000-D8WP6 & Passed & n = 295 & Yes & n = 295 & CHP\\_404\\_04 & No & n = 295\\\\\n",
       "\t 397-05 & n = 316 & 15.04 &  8.112 & Passed & 200312\\_M04827\\_0373\\_000000000-D8GDV & n = 316 & 216.00 & 216.00 &  805.60 & 200725\\_M04827\\_0413\\_000000000-D8WP6 & Passed & n = 295 & Yes & n = 295 & CHP\\_397\\_05 & No & n = 295\\\\\n",
       "\t 400-03 & n = 316 & 15.68 & 13.284 & Passed & 200312\\_M04827\\_0373\\_000000000-D8GDV & n = 316 & 326.40 & 326.40 & 1052.60 & 200725\\_M04827\\_0413\\_000000000-D8WP6 & Passed & n = 295 & Yes & n = 295 & CHP\\_400\\_03 & No & n = 295\\\\\n",
       "\t 407-01 & n = 316 & 17.12 & 12.240 & Passed & 200312\\_M04827\\_0373\\_000000000-D8GDV & n = 316 & 331.20 & 331.20 & 1052.60 & 200725\\_M04827\\_0413\\_000000000-D8WP6 & Passed & n = 295 & Yes & n = 295 & CHP\\_407\\_01 & No & n = 295\\\\\n",
       "\t 412-01 & n = 316 & 18.08 & 14.872 & Passed & 200604\\_M04827\\_0388\\_000000000-D8756 & n = 316 & 167.04 & 167.04 &  210.60 & 200821\\_M04827\\_0425\\_000000000-D9BP6 & Passed & n = 295 & Yes & n = 295 & CHP\\_412\\_01 & No & n = 295\\\\\n",
       "\t 396-04 & n = 316 &  0.40 &  7.176 & Passed & 200604\\_M04827\\_0388\\_000000000-D8756 & n = 316 & 118.08 & 118.08 &  210.60 & 200821\\_M04827\\_0425\\_000000000-D9BP6 & Passed & n = 295 & Yes & n = 295 & CHP\\_396\\_04 & No & n = 295\\\\\n",
       "\t 415-03 & n = 316 & 18.24 & 12.246 & Passed & 200604\\_M04827\\_0388\\_000000000-D8756 & n = 316 & 133.44 & 133.44 &  150.12 & 200821\\_M04827\\_0425\\_000000000-D9BP6 & Passed & n = 295 & Yes & n = 295 & CHP\\_415\\_03 & No & n = 295\\\\\n",
       "\t 392-04 & n = 316 &  0.40 &  5.520 & Passed & 200604\\_M04827\\_0388\\_000000000-D8756 & n = 316 & 147.84 & 147.84 &  150.12 & 200821\\_M04827\\_0425\\_000000000-D9BP6 & Passed & n = 295 & Yes & n = 295 & CHP\\_392\\_04 & No & n = 295\\\\\n",
       "\t 413-02 & n = 316 &  0.40 &  5.850 & Passed & 200604\\_M04827\\_0388\\_000000000-D8756 & n = 316 & 124.80 & 124.80 &  507.60 & 200821\\_M04827\\_0425\\_000000000-D9BP6 & Passed & n = 295 & Yes & n = 295 & CHP\\_413\\_02 & No & n = 295\\\\\n",
       "\t 390-03 & n = 316 & 17.48 & 15.540 & Passed & 200604\\_M04827\\_0388\\_000000000-D8756 & n = 316 & 258.24 & 258.24 &  225.00 & 200821\\_M04827\\_0425\\_000000000-D9BP6 & Passed & n = 295 & Yes & n = 295 & CHP\\_390\\_03 & No & n = 295\\\\\n",
       "\t 382-02 & n = 316 &  0.40 &  6.072 & Passed & 200604\\_M04827\\_0388\\_000000000-D8756 & n = 316 & 171.84 & 171.84 &  225.00 & 200821\\_M04827\\_0425\\_000000000-D9BP6 & Passed & n = 295 & Yes & n = 295 & CHP\\_382\\_02 & No & n = 295\\\\\n",
       "\t 405-05 & n = 316 & 17.92 & 13.288 & Passed & 200604\\_M04827\\_0388\\_000000000-D8756 & n = 316 & 206.40 & 206.40 &  255.60 & 200821\\_M04827\\_0425\\_000000000-D9BP6 & Passed & n = 295 & Yes & n = 295 & CHP\\_405\\_05 & No & n = 295\\\\\n",
       "\t 385-05 & n = 316 & 18.56 & 12.600 & Passed & 200604\\_M04827\\_0388\\_000000000-D8756 & n = 316 & 218.88 & 218.88 &  255.60 & 200821\\_M04827\\_0425\\_000000000-D9BP6 & Passed & n = 295 & Yes & n = 295 & CHP\\_385\\_05 & No & n = 295\\\\\n",
       "\t 385-04 & n = 316 & 17.44 & 14.362 & Passed & 200604\\_M04827\\_0388\\_000000000-D8756 & n = 316 & 248.64 & 248.64 &  446.40 & 200821\\_M04827\\_0425\\_000000000-D9BP6 & Passed & n = 295 & Yes & n = 295 & CHP\\_385\\_04 & No & n = 295\\\\\n",
       "\t 391-03 & n = 316 & 19.20 & 17.100 & Passed & 200604\\_M04827\\_0388\\_000000000-D8756 & n = 316 & 333.12 & 333.12 &  446.40 & 200821\\_M04827\\_0425\\_000000000-D9BP6 & Passed & n = 295 & Yes & n = 295 & CHP\\_391\\_03 & No & n = 295\\\\\n",
       "\t 393-01 & n = 316 &  0.40 &  7.110 & Passed & 200604\\_M04827\\_0388\\_000000000-D8756 & n = 316 &  73.92 &  73.92 &  741.00 & 200821\\_M04827\\_0425\\_000000000-D9BP6 & Passed & n = 295 & Yes & n = 295 & CHP\\_393\\_01 & No & n = 295\\\\\n",
       "\t 403-03 & n = 316 &  0.40 &  6.536 & Passed & 200604\\_M04827\\_0388\\_000000000-D8756 & n = 316 &  72.48 &  72.48 &  741.00 & 200821\\_M04827\\_0425\\_000000000-D9BP6 & Passed & n = 295 & Yes & n = 295 & CHP\\_403\\_03 & No & n = 295\\\\\n",
       "\t 365-05 & n = 316 &  0.60 &  4.956 & Passed & 200604\\_M04827\\_0388\\_000000000-D8756 & n = 316 &  73.44 &  73.44 &  855.00 & 200821\\_M04827\\_0425\\_000000000-D9BP6 & Passed & n = 295 & Yes & n = 295 & CHP\\_365\\_05 & No & n = 295\\\\\n",
       "\t 391-04 & n = 316 &  0.40 &  3.002 & Passed & 200604\\_M04827\\_0388\\_000000000-D8756 & n = 316 &  84.96 &  84.96 &  855.00 & 200821\\_M04827\\_0425\\_000000000-D9BP6 & Passed & n = 295 & Yes & n = 295 & CHP\\_391\\_04 & No & n = 295\\\\\n",
       "\t 378-03 & n = 316 &  0.40 &  4.928 & Passed & 200604\\_M04827\\_0388\\_000000000-D8756 & n = 316 & 128.64 & 128.64 & 1432.60 & 200821\\_M04827\\_0425\\_000000000-D9BP6 & Passed & n = 295 & Yes & n = 295 & CHP\\_378\\_03 & No & n = 295\\\\\n",
       "\t 419-01 & n = 316 &  0.40 &  4.730 & Passed & 200604\\_M04827\\_0388\\_000000000-D8756 & n = 316 & 121.92 & 121.92 & 1432.60 & 200821\\_M04827\\_0425\\_000000000-D9BP6 & Passed & n = 295 & Yes & n = 295 & CHP\\_419\\_01 & No & n = 295\\\\\n",
       "\\end{tabular}\n"
      ],
      "text/markdown": [
       "\n",
       "A data.frame: 316 x 18\n",
       "\n",
       "| sample_id &lt;chr&gt; | DNAsamples &lt;chr&gt; | DNAextracted &lt;dbl&gt; | DNAused &lt;dbl&gt; | librarypassed &lt;chr&gt; | libbatch &lt;chr&gt; | Library &lt;chr&gt; | libraryyield &lt;dbl&gt; | DNAforcapture &lt;dbl&gt; | captureyield &lt;dbl&gt; | capbatch &lt;chr&gt; | capturepassed &lt;chr&gt; | Capture &lt;chr&gt; | deepseq &lt;chr&gt; | Sequencing &lt;chr&gt; | mysample_id &lt;chr&gt; | TCR &lt;chr&gt; | TCRanalysis &lt;chr&gt; |\n",
       "|---|---|---|---|---|---|---|---|---|---|---|---|---|---|---|---|---|---|\n",
       "| 346-01 | n = 316 |   19.5600 | 20 | Passed | 200605_M04827_0389_000000000-D86L3 | n = 316 | 237.12 |       NA |      NA | NA                                 | Failed | n = 21  | No  | NA      | CHP_346_01 | No | NA      |\n",
       "| 348-01 | n = 316 |   14.4000 | 20 | Passed | 200605_M04827_0389_000000000-D86L3 | n = 316 | 159.36 | 159.3600 |  733.40 | 200911_M04827_0435_000000000-D9GW9 | Passed | n = 295 | Yes | n = 295 | CHP_348_01 | No | n = 295 |\n",
       "| 348-03 | n = 316 |   24.4944 | 20 | Passed | 200605_M04827_0389_000000000-D86L3 | n = 316 | 227.52 | 227.5200 |  733.40 | 200911_M04827_0435_000000000-D9GW9 | Passed | n = 295 | Yes | n = 295 | CHP_348_03 | No | n = 295 |\n",
       "| 343-04 | n = 316 |   56.0000 | 20 | Passed | 190730_M04827_0235_000000000-D6WF7 | n = 316 | 291.84 | 291.8400 | 1052.60 | 200909_M04827_0434_000000000-D9988 | Passed | n = 295 | Yes | n = 295 | CHP_343_04 | No | n = 295 |\n",
       "| 329-04 | n = 316 |   40.0768 | 20 | Passed | 200605_M04827_0389_000000000-D86L3 | n = 316 | 314.88 | 314.8800 | 1132.40 | 200911_M04827_0435_000000000-D9GW9 | Passed | n = 295 | Yes | n = 295 | CHP_329_04 | No | n = 295 |\n",
       "| 331-05 | n = 316 |   82.4000 | 20 | Passed | 190730_M04827_0235_000000000-D6WF7 | n = 316 | 811.20 | 499.1300 | 1565.60 | 200911_M04827_0435_000000000-D9GW9 | Passed | n = 295 | Yes | n = 295 | CHP_331_05 | No | n = 295 |\n",
       "| 330-05 | n = 316 |  114.4864 | 20 | Passed | 200605_M04827_0389_000000000-D86L3 | n = 316 | 120.00 |       NA |    0.00 | NA                                 | Failed | n = 21  | No  | NA      | CHP_330_05 | No | NA      |\n",
       "| 350-02 | n = 316 |  115.0065 | 20 | Passed | 200605_M04827_0389_000000000-D86L3 | n = 316 | 241.92 | 241.9200 |  805.60 | 200911_M04827_0435_000000000-D9GW9 | Passed | n = 295 | Yes | n = 295 | CHP_350_02 | No | n = 295 |\n",
       "| 352-02 | n = 316 |  173.6080 | 20 | Passed | 200605_M04827_0389_000000000-D86L3 | n = 316 | 446.40 |       NA |    0.00 | NA                                 | Failed | n = 21  | No  | NA      | CHP_352_02 | No | NA      |\n",
       "| 343-02 | n = 316 |  161.9982 | 20 | Passed | 200605_M04827_0389_000000000-D86L3 | n = 316 | 326.40 | 326.4000 | 1132.40 | 200911_M04827_0435_000000000-D9GW9 | Passed | n = 295 | Yes | n = 295 | CHP_343_02 | No | n = 295 |\n",
       "| 319-05 | n = 316 |  242.0000 | 20 | Passed | 190730_M04827_0235_000000000-D6WF7 | n = 316 | 288.00 |       NA |    0.00 | NA                                 | Failed | n = 21  | No  | NA      | CHP_319_05 | No | NA      |\n",
       "| 350-01 | n = 316 |  316.0080 | 20 | Passed | 200605_M04827_0389_000000000-D86L3 | n = 316 | 200.64 |       NA |    0.00 | NA                                 | Failed | n = 21  | No  | NA      | CHP_350_01 | No | NA      |\n",
       "| 349-01 | n = 316 | 1571.2000 | 20 | Passed | 200605_M04827_0389_000000000-D86L3 | n = 316 | 327.36 | 327.3600 |  801.80 | 200911_M04827_0435_000000000-D9GW9 | Passed | n = 295 | Yes | n = 295 | CHP_349_01 | No | n = 295 |\n",
       "| 350-03 | n = 316 |   65.4000 | 20 | Passed | 190730_M04827_0235_000000000-D6WF7 | n = 316 | 420.48 | 420.4800 | 1470.60 | 200911_M04827_0435_000000000-D9GW9 | Passed | n = 295 | Yes | n = 295 | CHP_350_03 | No | n = 295 |\n",
       "| 356-05 | n = 316 |  135.7600 | 20 | Passed | 190730_M04827_0235_000000000-D6WF7 | n = 316 | 580.80 | 497.7500 | 1641.60 | 200911_M04827_0435_000000000-D9GW9 | Passed | n = 295 | Yes | n = 295 | CHP_356_05 | No | n = 295 |\n",
       "| 356-03 | n = 316 |  170.3910 | 20 | Passed | 200605_M04827_0389_000000000-D86L3 | n = 316 | 187.20 |       NA |    0.00 | NA                                 | Failed | n = 21  | No  | NA      | CHP_356_03 | No | NA      |\n",
       "| 356-04 | n = 316 |  450.8000 | 20 | Passed | 190730_M04827_0235_000000000-D6WF7 | n = 316 | 328.32 | 328.3200 | 1052.60 | 200909_M04827_0434_000000000-D9988 | Passed | n = 295 | Yes | n = 295 | CHP_356_04 | No | n = 295 |\n",
       "| 352-01 | n = 316 | 2074.4000 | 20 | Passed | 190730_M04827_0235_000000000-D6WF7 | n = 316 | 604.80 | 500.8700 | 1565.60 | 200911_M04827_0435_000000000-D9GW9 | Failed | n = 21  | No  | NA      | CHP_352_01 | No | NA      |\n",
       "| 367-01 | n = 316 | 8709.6000 | 20 | Passed | 190730_M04827_0235_000000000-D6WF7 | n = 316 | 179.52 |       NA |    0.00 | NA                                 | Failed | n = 21  | No  | NA      | CHP_367_01 | No | NA      |\n",
       "| 354-01 | n = 316 | 9776.0000 | 20 | Passed | 200605_M04827_0389_000000000-D86L3 | n = 316 |  72.00 |       NA |    0.00 | NA                                 | Failed | n = 21  | No  | NA      | CHP_354_01 | No | NA      |\n",
       "| 365-03 | n = 316 |   51.1200 | 20 | Passed | 190730_M04827_0235_000000000-D6WF7 | n = 316 | 468.48 | 468.4800 | 1474.40 | 200911_M04827_0435_000000000-D9GW9 | Passed | n = 295 | Yes | n = 295 | CHP_365_03 | No | n = 295 |\n",
       "| 378-01 | n = 316 |  568.1600 | 20 | Passed | 190730_M04827_0235_000000000-D6WF7 | n = 316 | 590.40 | 502.2500 | 1641.60 | 200911_M04827_0435_000000000-D9GW9 | Passed | n = 295 | Yes | n = 295 | CHP_378_01 | No | n = 295 |\n",
       "| 370-02 | n = 316 |   83.7600 | 20 | Passed | 190730_M04827_0235_000000000-D6WF7 | n = 316 | 729.60 | 521.3000 | 1398.40 | 200909_M04827_0434_000000000-D9988 | Passed | n = 295 | Yes | n = 295 | CHP_370_02 | No | n = 295 |\n",
       "| 374-03 | n = 316 |  139.8400 | 20 | Passed | 190730_M04827_0235_000000000-D6WF7 | n = 316 | 619.20 | 478.7000 | 1398.40 | 200909_M04827_0434_000000000-D9988 | Passed | n = 295 | Yes | n = 295 | CHP_374_03 | No | n = 295 |\n",
       "| 363-01 | n = 316 |  228.4000 | 20 | Passed | 190926_M04827_0269_000000000-D5FMW | n = 316 | 375.36 | 353.6204 |  181.64 | 191219_M04827_0326_000000000-D7RL9 | Passed | n = 295 | Yes | n = 295 | CHP_363_01 | No | n = 295 |\n",
       "| 360-02 | n = 316 |  342.4000 | 20 | Passed | 190926_M04827_0269_000000000-D5FMW | n = 316 | 366.72 | 366.7200 |  181.64 | 191219_M04827_0326_000000000-D7RL9 | Passed | n = 295 | Yes | n = 295 | CHP_360_02 | No | n = 295 |\n",
       "| 379-01 | n = 316 |  196.4000 | 20 | Passed | 190926_M04827_0269_000000000-D5FMW | n = 316 | 552.00 | 529.8050 |  126.92 | 191219_M04827_0326_000000000-D7RL9 | Passed | n = 295 | Yes | n = 295 | CHP_379_01 | No | n = 295 |\n",
       "| 374-05 | n = 316 |  242.8000 | 20 | Passed | 190926_M04827_0269_000000000-D5FMW | n = 316 | 489.60 | 470.2200 |  126.92 | 191219_M04827_0326_000000000-D7RL9 | Passed | n = 295 | Yes | n = 295 | CHP_374_05 | No | n = 295 |\n",
       "| 366-02 | n = 316 |  211.2800 | 20 | Passed | 190926_M04827_0269_000000000-D5FMW | n = 316 | 686.40 | 488.0590 |  547.20 | 191219_M04827_0326_000000000-D7RL9 | Passed | n = 295 | Yes | n = 295 | CHP_366_02 | No | n = 295 |\n",
       "| 347-01 | n = 316 |  368.1600 | 20 | Passed | 190926_M04827_0269_000000000-D5FMW | n = 316 | 705.60 | 511.8540 |  547.20 | 191219_M04827_0326_000000000-D7RL9 | Passed | n = 295 | Yes | n = 295 | CHP_347_01 | No | n = 295 |\n",
       "| ... | ... | ... | ... | ... | ... | ... | ... | ... | ... | ... | ... | ... | ... | ... | ... | ... | ... |\n",
       "| 415-02 | n = 316 | 14.40 |  8.584 | Passed | 200312_M04827_0373_000000000-D8GDV | n = 316 |  71.04 |  71.04 |  163.40 | 200725_M04827_0413_000000000-D8WP6 | Passed | n = 295 | Yes | n = 295 | CHP_415_02 | No | n = 295 |\n",
       "| 378-05 | n = 316 | 16.52 |  5.880 | Passed | 200312_M04827_0373_000000000-D8GDV | n = 316 |  65.28 |  65.28 |  163.40 | 200725_M04827_0413_000000000-D8WP6 | Passed | n = 295 | Yes | n = 295 | CHP_378_05 | No | n = 295 |\n",
       "| 405-03 | n = 316 | 14.72 |  8.514 | Passed | 200312_M04827_0373_000000000-D8GDV | n = 316 | 112.32 | 112.32 |  482.60 | 200725_M04827_0413_000000000-D8WP6 | Passed | n = 295 | Yes | n = 295 | CHP_405_03 | No | n = 295 |\n",
       "| 380-04 | n = 316 | 13.92 |  9.680 | Passed | 200312_M04827_0373_000000000-D8GDV | n = 316 | 127.68 | 127.68 | 1098.20 | 200725_M04827_0413_000000000-D8WP6 | Passed | n = 295 | Yes | n = 295 | CHP_380_04 | No | n = 295 |\n",
       "| 407-04 | n = 316 | 16.64 | 10.752 | Passed | 200312_M04827_0373_000000000-D8GDV | n = 316 | 104.64 | 104.64 | 1098.20 | 200725_M04827_0413_000000000-D8WP6 | Passed | n = 295 | Yes | n = 295 | CHP_407_04 | No | n = 295 |\n",
       "| 373-03 | n = 316 | 13.92 | 11.390 | Passed | 200312_M04827_0373_000000000-D8GDV | n = 316 | 144.00 | 144.00 | 1098.20 | 200725_M04827_0413_000000000-D8WP6 | Passed | n = 295 | Yes | n = 295 | CHP_373_03 | No | n = 295 |\n",
       "| 414-02 | n = 316 | 16.80 |  9.408 | Passed | 200312_M04827_0373_000000000-D8GDV | n = 316 | 181.44 | 181.44 | 1098.20 | 200725_M04827_0413_000000000-D8WP6 | Passed | n = 295 | Yes | n = 295 | CHP_414_02 | No | n = 295 |\n",
       "| 386-04 | n = 316 | 18.48 | 12.096 | Passed | 200312_M04827_0373_000000000-D8GDV | n = 316 | 170.88 | 170.88 |  737.20 | 200725_M04827_0413_000000000-D8WP6 | Passed | n = 295 | Yes | n = 295 | CHP_386_04 | No | n = 295 |\n",
       "| 382-04 | n = 316 | 16.16 | 14.280 | Passed | 200312_M04827_0373_000000000-D8GDV | n = 316 | 202.56 | 202.56 |  737.20 | 200725_M04827_0413_000000000-D8WP6 | Passed | n = 295 | Yes | n = 295 | CHP_382_04 | No | n = 295 |\n",
       "| 404-04 | n = 316 | 13.76 |  7.812 | Passed | 200312_M04827_0373_000000000-D8GDV | n = 316 | 201.60 | 201.60 |  805.60 | 200725_M04827_0413_000000000-D8WP6 | Passed | n = 295 | Yes | n = 295 | CHP_404_04 | No | n = 295 |\n",
       "| 397-05 | n = 316 | 15.04 |  8.112 | Passed | 200312_M04827_0373_000000000-D8GDV | n = 316 | 216.00 | 216.00 |  805.60 | 200725_M04827_0413_000000000-D8WP6 | Passed | n = 295 | Yes | n = 295 | CHP_397_05 | No | n = 295 |\n",
       "| 400-03 | n = 316 | 15.68 | 13.284 | Passed | 200312_M04827_0373_000000000-D8GDV | n = 316 | 326.40 | 326.40 | 1052.60 | 200725_M04827_0413_000000000-D8WP6 | Passed | n = 295 | Yes | n = 295 | CHP_400_03 | No | n = 295 |\n",
       "| 407-01 | n = 316 | 17.12 | 12.240 | Passed | 200312_M04827_0373_000000000-D8GDV | n = 316 | 331.20 | 331.20 | 1052.60 | 200725_M04827_0413_000000000-D8WP6 | Passed | n = 295 | Yes | n = 295 | CHP_407_01 | No | n = 295 |\n",
       "| 412-01 | n = 316 | 18.08 | 14.872 | Passed | 200604_M04827_0388_000000000-D8756 | n = 316 | 167.04 | 167.04 |  210.60 | 200821_M04827_0425_000000000-D9BP6 | Passed | n = 295 | Yes | n = 295 | CHP_412_01 | No | n = 295 |\n",
       "| 396-04 | n = 316 |  0.40 |  7.176 | Passed | 200604_M04827_0388_000000000-D8756 | n = 316 | 118.08 | 118.08 |  210.60 | 200821_M04827_0425_000000000-D9BP6 | Passed | n = 295 | Yes | n = 295 | CHP_396_04 | No | n = 295 |\n",
       "| 415-03 | n = 316 | 18.24 | 12.246 | Passed | 200604_M04827_0388_000000000-D8756 | n = 316 | 133.44 | 133.44 |  150.12 | 200821_M04827_0425_000000000-D9BP6 | Passed | n = 295 | Yes | n = 295 | CHP_415_03 | No | n = 295 |\n",
       "| 392-04 | n = 316 |  0.40 |  5.520 | Passed | 200604_M04827_0388_000000000-D8756 | n = 316 | 147.84 | 147.84 |  150.12 | 200821_M04827_0425_000000000-D9BP6 | Passed | n = 295 | Yes | n = 295 | CHP_392_04 | No | n = 295 |\n",
       "| 413-02 | n = 316 |  0.40 |  5.850 | Passed | 200604_M04827_0388_000000000-D8756 | n = 316 | 124.80 | 124.80 |  507.60 | 200821_M04827_0425_000000000-D9BP6 | Passed | n = 295 | Yes | n = 295 | CHP_413_02 | No | n = 295 |\n",
       "| 390-03 | n = 316 | 17.48 | 15.540 | Passed | 200604_M04827_0388_000000000-D8756 | n = 316 | 258.24 | 258.24 |  225.00 | 200821_M04827_0425_000000000-D9BP6 | Passed | n = 295 | Yes | n = 295 | CHP_390_03 | No | n = 295 |\n",
       "| 382-02 | n = 316 |  0.40 |  6.072 | Passed | 200604_M04827_0388_000000000-D8756 | n = 316 | 171.84 | 171.84 |  225.00 | 200821_M04827_0425_000000000-D9BP6 | Passed | n = 295 | Yes | n = 295 | CHP_382_02 | No | n = 295 |\n",
       "| 405-05 | n = 316 | 17.92 | 13.288 | Passed | 200604_M04827_0388_000000000-D8756 | n = 316 | 206.40 | 206.40 |  255.60 | 200821_M04827_0425_000000000-D9BP6 | Passed | n = 295 | Yes | n = 295 | CHP_405_05 | No | n = 295 |\n",
       "| 385-05 | n = 316 | 18.56 | 12.600 | Passed | 200604_M04827_0388_000000000-D8756 | n = 316 | 218.88 | 218.88 |  255.60 | 200821_M04827_0425_000000000-D9BP6 | Passed | n = 295 | Yes | n = 295 | CHP_385_05 | No | n = 295 |\n",
       "| 385-04 | n = 316 | 17.44 | 14.362 | Passed | 200604_M04827_0388_000000000-D8756 | n = 316 | 248.64 | 248.64 |  446.40 | 200821_M04827_0425_000000000-D9BP6 | Passed | n = 295 | Yes | n = 295 | CHP_385_04 | No | n = 295 |\n",
       "| 391-03 | n = 316 | 19.20 | 17.100 | Passed | 200604_M04827_0388_000000000-D8756 | n = 316 | 333.12 | 333.12 |  446.40 | 200821_M04827_0425_000000000-D9BP6 | Passed | n = 295 | Yes | n = 295 | CHP_391_03 | No | n = 295 |\n",
       "| 393-01 | n = 316 |  0.40 |  7.110 | Passed | 200604_M04827_0388_000000000-D8756 | n = 316 |  73.92 |  73.92 |  741.00 | 200821_M04827_0425_000000000-D9BP6 | Passed | n = 295 | Yes | n = 295 | CHP_393_01 | No | n = 295 |\n",
       "| 403-03 | n = 316 |  0.40 |  6.536 | Passed | 200604_M04827_0388_000000000-D8756 | n = 316 |  72.48 |  72.48 |  741.00 | 200821_M04827_0425_000000000-D9BP6 | Passed | n = 295 | Yes | n = 295 | CHP_403_03 | No | n = 295 |\n",
       "| 365-05 | n = 316 |  0.60 |  4.956 | Passed | 200604_M04827_0388_000000000-D8756 | n = 316 |  73.44 |  73.44 |  855.00 | 200821_M04827_0425_000000000-D9BP6 | Passed | n = 295 | Yes | n = 295 | CHP_365_05 | No | n = 295 |\n",
       "| 391-04 | n = 316 |  0.40 |  3.002 | Passed | 200604_M04827_0388_000000000-D8756 | n = 316 |  84.96 |  84.96 |  855.00 | 200821_M04827_0425_000000000-D9BP6 | Passed | n = 295 | Yes | n = 295 | CHP_391_04 | No | n = 295 |\n",
       "| 378-03 | n = 316 |  0.40 |  4.928 | Passed | 200604_M04827_0388_000000000-D8756 | n = 316 | 128.64 | 128.64 | 1432.60 | 200821_M04827_0425_000000000-D9BP6 | Passed | n = 295 | Yes | n = 295 | CHP_378_03 | No | n = 295 |\n",
       "| 419-01 | n = 316 |  0.40 |  4.730 | Passed | 200604_M04827_0388_000000000-D8756 | n = 316 | 121.92 | 121.92 | 1432.60 | 200821_M04827_0425_000000000-D9BP6 | Passed | n = 295 | Yes | n = 295 | CHP_419_01 | No | n = 295 |\n",
       "\n"
      ],
      "text/plain": [
       "    sample_id DNAsamples DNAextracted DNAused librarypassed\n",
       "1   346-01    n = 316      19.5600    20      Passed       \n",
       "2   348-01    n = 316      14.4000    20      Passed       \n",
       "3   348-03    n = 316      24.4944    20      Passed       \n",
       "4   343-04    n = 316      56.0000    20      Passed       \n",
       "5   329-04    n = 316      40.0768    20      Passed       \n",
       "6   331-05    n = 316      82.4000    20      Passed       \n",
       "7   330-05    n = 316     114.4864    20      Passed       \n",
       "8   350-02    n = 316     115.0065    20      Passed       \n",
       "9   352-02    n = 316     173.6080    20      Passed       \n",
       "10  343-02    n = 316     161.9982    20      Passed       \n",
       "11  319-05    n = 316     242.0000    20      Passed       \n",
       "12  350-01    n = 316     316.0080    20      Passed       \n",
       "13  349-01    n = 316    1571.2000    20      Passed       \n",
       "14  350-03    n = 316      65.4000    20      Passed       \n",
       "15  356-05    n = 316     135.7600    20      Passed       \n",
       "16  356-03    n = 316     170.3910    20      Passed       \n",
       "17  356-04    n = 316     450.8000    20      Passed       \n",
       "18  352-01    n = 316    2074.4000    20      Passed       \n",
       "19  367-01    n = 316    8709.6000    20      Passed       \n",
       "20  354-01    n = 316    9776.0000    20      Passed       \n",
       "21  365-03    n = 316      51.1200    20      Passed       \n",
       "22  378-01    n = 316     568.1600    20      Passed       \n",
       "23  370-02    n = 316      83.7600    20      Passed       \n",
       "24  374-03    n = 316     139.8400    20      Passed       \n",
       "25  363-01    n = 316     228.4000    20      Passed       \n",
       "26  360-02    n = 316     342.4000    20      Passed       \n",
       "27  379-01    n = 316     196.4000    20      Passed       \n",
       "28  374-05    n = 316     242.8000    20      Passed       \n",
       "29  366-02    n = 316     211.2800    20      Passed       \n",
       "30  347-01    n = 316     368.1600    20      Passed       \n",
       "... ...       ...        ...          ...     ...          \n",
       "287 415-02    n = 316    14.40         8.584  Passed       \n",
       "288 378-05    n = 316    16.52         5.880  Passed       \n",
       "289 405-03    n = 316    14.72         8.514  Passed       \n",
       "290 380-04    n = 316    13.92         9.680  Passed       \n",
       "291 407-04    n = 316    16.64        10.752  Passed       \n",
       "292 373-03    n = 316    13.92        11.390  Passed       \n",
       "293 414-02    n = 316    16.80         9.408  Passed       \n",
       "294 386-04    n = 316    18.48        12.096  Passed       \n",
       "295 382-04    n = 316    16.16        14.280  Passed       \n",
       "296 404-04    n = 316    13.76         7.812  Passed       \n",
       "297 397-05    n = 316    15.04         8.112  Passed       \n",
       "298 400-03    n = 316    15.68        13.284  Passed       \n",
       "299 407-01    n = 316    17.12        12.240  Passed       \n",
       "300 412-01    n = 316    18.08        14.872  Passed       \n",
       "301 396-04    n = 316     0.40         7.176  Passed       \n",
       "302 415-03    n = 316    18.24        12.246  Passed       \n",
       "303 392-04    n = 316     0.40         5.520  Passed       \n",
       "304 413-02    n = 316     0.40         5.850  Passed       \n",
       "305 390-03    n = 316    17.48        15.540  Passed       \n",
       "306 382-02    n = 316     0.40         6.072  Passed       \n",
       "307 405-05    n = 316    17.92        13.288  Passed       \n",
       "308 385-05    n = 316    18.56        12.600  Passed       \n",
       "309 385-04    n = 316    17.44        14.362  Passed       \n",
       "310 391-03    n = 316    19.20        17.100  Passed       \n",
       "311 393-01    n = 316     0.40         7.110  Passed       \n",
       "312 403-03    n = 316     0.40         6.536  Passed       \n",
       "313 365-05    n = 316     0.60         4.956  Passed       \n",
       "314 391-04    n = 316     0.40         3.002  Passed       \n",
       "315 378-03    n = 316     0.40         4.928  Passed       \n",
       "316 419-01    n = 316     0.40         4.730  Passed       \n",
       "    libbatch                           Library libraryyield DNAforcapture\n",
       "1   200605_M04827_0389_000000000-D86L3 n = 316 237.12             NA     \n",
       "2   200605_M04827_0389_000000000-D86L3 n = 316 159.36       159.3600     \n",
       "3   200605_M04827_0389_000000000-D86L3 n = 316 227.52       227.5200     \n",
       "4   190730_M04827_0235_000000000-D6WF7 n = 316 291.84       291.8400     \n",
       "5   200605_M04827_0389_000000000-D86L3 n = 316 314.88       314.8800     \n",
       "6   190730_M04827_0235_000000000-D6WF7 n = 316 811.20       499.1300     \n",
       "7   200605_M04827_0389_000000000-D86L3 n = 316 120.00             NA     \n",
       "8   200605_M04827_0389_000000000-D86L3 n = 316 241.92       241.9200     \n",
       "9   200605_M04827_0389_000000000-D86L3 n = 316 446.40             NA     \n",
       "10  200605_M04827_0389_000000000-D86L3 n = 316 326.40       326.4000     \n",
       "11  190730_M04827_0235_000000000-D6WF7 n = 316 288.00             NA     \n",
       "12  200605_M04827_0389_000000000-D86L3 n = 316 200.64             NA     \n",
       "13  200605_M04827_0389_000000000-D86L3 n = 316 327.36       327.3600     \n",
       "14  190730_M04827_0235_000000000-D6WF7 n = 316 420.48       420.4800     \n",
       "15  190730_M04827_0235_000000000-D6WF7 n = 316 580.80       497.7500     \n",
       "16  200605_M04827_0389_000000000-D86L3 n = 316 187.20             NA     \n",
       "17  190730_M04827_0235_000000000-D6WF7 n = 316 328.32       328.3200     \n",
       "18  190730_M04827_0235_000000000-D6WF7 n = 316 604.80       500.8700     \n",
       "19  190730_M04827_0235_000000000-D6WF7 n = 316 179.52             NA     \n",
       "20  200605_M04827_0389_000000000-D86L3 n = 316  72.00             NA     \n",
       "21  190730_M04827_0235_000000000-D6WF7 n = 316 468.48       468.4800     \n",
       "22  190730_M04827_0235_000000000-D6WF7 n = 316 590.40       502.2500     \n",
       "23  190730_M04827_0235_000000000-D6WF7 n = 316 729.60       521.3000     \n",
       "24  190730_M04827_0235_000000000-D6WF7 n = 316 619.20       478.7000     \n",
       "25  190926_M04827_0269_000000000-D5FMW n = 316 375.36       353.6204     \n",
       "26  190926_M04827_0269_000000000-D5FMW n = 316 366.72       366.7200     \n",
       "27  190926_M04827_0269_000000000-D5FMW n = 316 552.00       529.8050     \n",
       "28  190926_M04827_0269_000000000-D5FMW n = 316 489.60       470.2200     \n",
       "29  190926_M04827_0269_000000000-D5FMW n = 316 686.40       488.0590     \n",
       "30  190926_M04827_0269_000000000-D5FMW n = 316 705.60       511.8540     \n",
       "... ...                                ...     ...          ...          \n",
       "287 200312_M04827_0373_000000000-D8GDV n = 316  71.04        71.04       \n",
       "288 200312_M04827_0373_000000000-D8GDV n = 316  65.28        65.28       \n",
       "289 200312_M04827_0373_000000000-D8GDV n = 316 112.32       112.32       \n",
       "290 200312_M04827_0373_000000000-D8GDV n = 316 127.68       127.68       \n",
       "291 200312_M04827_0373_000000000-D8GDV n = 316 104.64       104.64       \n",
       "292 200312_M04827_0373_000000000-D8GDV n = 316 144.00       144.00       \n",
       "293 200312_M04827_0373_000000000-D8GDV n = 316 181.44       181.44       \n",
       "294 200312_M04827_0373_000000000-D8GDV n = 316 170.88       170.88       \n",
       "295 200312_M04827_0373_000000000-D8GDV n = 316 202.56       202.56       \n",
       "296 200312_M04827_0373_000000000-D8GDV n = 316 201.60       201.60       \n",
       "297 200312_M04827_0373_000000000-D8GDV n = 316 216.00       216.00       \n",
       "298 200312_M04827_0373_000000000-D8GDV n = 316 326.40       326.40       \n",
       "299 200312_M04827_0373_000000000-D8GDV n = 316 331.20       331.20       \n",
       "300 200604_M04827_0388_000000000-D8756 n = 316 167.04       167.04       \n",
       "301 200604_M04827_0388_000000000-D8756 n = 316 118.08       118.08       \n",
       "302 200604_M04827_0388_000000000-D8756 n = 316 133.44       133.44       \n",
       "303 200604_M04827_0388_000000000-D8756 n = 316 147.84       147.84       \n",
       "304 200604_M04827_0388_000000000-D8756 n = 316 124.80       124.80       \n",
       "305 200604_M04827_0388_000000000-D8756 n = 316 258.24       258.24       \n",
       "306 200604_M04827_0388_000000000-D8756 n = 316 171.84       171.84       \n",
       "307 200604_M04827_0388_000000000-D8756 n = 316 206.40       206.40       \n",
       "308 200604_M04827_0388_000000000-D8756 n = 316 218.88       218.88       \n",
       "309 200604_M04827_0388_000000000-D8756 n = 316 248.64       248.64       \n",
       "310 200604_M04827_0388_000000000-D8756 n = 316 333.12       333.12       \n",
       "311 200604_M04827_0388_000000000-D8756 n = 316  73.92        73.92       \n",
       "312 200604_M04827_0388_000000000-D8756 n = 316  72.48        72.48       \n",
       "313 200604_M04827_0388_000000000-D8756 n = 316  73.44        73.44       \n",
       "314 200604_M04827_0388_000000000-D8756 n = 316  84.96        84.96       \n",
       "315 200604_M04827_0388_000000000-D8756 n = 316 128.64       128.64       \n",
       "316 200604_M04827_0388_000000000-D8756 n = 316 121.92       121.92       \n",
       "    captureyield capbatch                           capturepassed Capture\n",
       "1        NA      NA                                 Failed        n = 21 \n",
       "2    733.40      200911_M04827_0435_000000000-D9GW9 Passed        n = 295\n",
       "3    733.40      200911_M04827_0435_000000000-D9GW9 Passed        n = 295\n",
       "4   1052.60      200909_M04827_0434_000000000-D9988 Passed        n = 295\n",
       "5   1132.40      200911_M04827_0435_000000000-D9GW9 Passed        n = 295\n",
       "6   1565.60      200911_M04827_0435_000000000-D9GW9 Passed        n = 295\n",
       "7      0.00      NA                                 Failed        n = 21 \n",
       "8    805.60      200911_M04827_0435_000000000-D9GW9 Passed        n = 295\n",
       "9      0.00      NA                                 Failed        n = 21 \n",
       "10  1132.40      200911_M04827_0435_000000000-D9GW9 Passed        n = 295\n",
       "11     0.00      NA                                 Failed        n = 21 \n",
       "12     0.00      NA                                 Failed        n = 21 \n",
       "13   801.80      200911_M04827_0435_000000000-D9GW9 Passed        n = 295\n",
       "14  1470.60      200911_M04827_0435_000000000-D9GW9 Passed        n = 295\n",
       "15  1641.60      200911_M04827_0435_000000000-D9GW9 Passed        n = 295\n",
       "16     0.00      NA                                 Failed        n = 21 \n",
       "17  1052.60      200909_M04827_0434_000000000-D9988 Passed        n = 295\n",
       "18  1565.60      200911_M04827_0435_000000000-D9GW9 Failed        n = 21 \n",
       "19     0.00      NA                                 Failed        n = 21 \n",
       "20     0.00      NA                                 Failed        n = 21 \n",
       "21  1474.40      200911_M04827_0435_000000000-D9GW9 Passed        n = 295\n",
       "22  1641.60      200911_M04827_0435_000000000-D9GW9 Passed        n = 295\n",
       "23  1398.40      200909_M04827_0434_000000000-D9988 Passed        n = 295\n",
       "24  1398.40      200909_M04827_0434_000000000-D9988 Passed        n = 295\n",
       "25   181.64      191219_M04827_0326_000000000-D7RL9 Passed        n = 295\n",
       "26   181.64      191219_M04827_0326_000000000-D7RL9 Passed        n = 295\n",
       "27   126.92      191219_M04827_0326_000000000-D7RL9 Passed        n = 295\n",
       "28   126.92      191219_M04827_0326_000000000-D7RL9 Passed        n = 295\n",
       "29   547.20      191219_M04827_0326_000000000-D7RL9 Passed        n = 295\n",
       "30   547.20      191219_M04827_0326_000000000-D7RL9 Passed        n = 295\n",
       "... ...          ...                                ...           ...    \n",
       "287  163.40      200725_M04827_0413_000000000-D8WP6 Passed        n = 295\n",
       "288  163.40      200725_M04827_0413_000000000-D8WP6 Passed        n = 295\n",
       "289  482.60      200725_M04827_0413_000000000-D8WP6 Passed        n = 295\n",
       "290 1098.20      200725_M04827_0413_000000000-D8WP6 Passed        n = 295\n",
       "291 1098.20      200725_M04827_0413_000000000-D8WP6 Passed        n = 295\n",
       "292 1098.20      200725_M04827_0413_000000000-D8WP6 Passed        n = 295\n",
       "293 1098.20      200725_M04827_0413_000000000-D8WP6 Passed        n = 295\n",
       "294  737.20      200725_M04827_0413_000000000-D8WP6 Passed        n = 295\n",
       "295  737.20      200725_M04827_0413_000000000-D8WP6 Passed        n = 295\n",
       "296  805.60      200725_M04827_0413_000000000-D8WP6 Passed        n = 295\n",
       "297  805.60      200725_M04827_0413_000000000-D8WP6 Passed        n = 295\n",
       "298 1052.60      200725_M04827_0413_000000000-D8WP6 Passed        n = 295\n",
       "299 1052.60      200725_M04827_0413_000000000-D8WP6 Passed        n = 295\n",
       "300  210.60      200821_M04827_0425_000000000-D9BP6 Passed        n = 295\n",
       "301  210.60      200821_M04827_0425_000000000-D9BP6 Passed        n = 295\n",
       "302  150.12      200821_M04827_0425_000000000-D9BP6 Passed        n = 295\n",
       "303  150.12      200821_M04827_0425_000000000-D9BP6 Passed        n = 295\n",
       "304  507.60      200821_M04827_0425_000000000-D9BP6 Passed        n = 295\n",
       "305  225.00      200821_M04827_0425_000000000-D9BP6 Passed        n = 295\n",
       "306  225.00      200821_M04827_0425_000000000-D9BP6 Passed        n = 295\n",
       "307  255.60      200821_M04827_0425_000000000-D9BP6 Passed        n = 295\n",
       "308  255.60      200821_M04827_0425_000000000-D9BP6 Passed        n = 295\n",
       "309  446.40      200821_M04827_0425_000000000-D9BP6 Passed        n = 295\n",
       "310  446.40      200821_M04827_0425_000000000-D9BP6 Passed        n = 295\n",
       "311  741.00      200821_M04827_0425_000000000-D9BP6 Passed        n = 295\n",
       "312  741.00      200821_M04827_0425_000000000-D9BP6 Passed        n = 295\n",
       "313  855.00      200821_M04827_0425_000000000-D9BP6 Passed        n = 295\n",
       "314  855.00      200821_M04827_0425_000000000-D9BP6 Passed        n = 295\n",
       "315 1432.60      200821_M04827_0425_000000000-D9BP6 Passed        n = 295\n",
       "316 1432.60      200821_M04827_0425_000000000-D9BP6 Passed        n = 295\n",
       "    deepseq Sequencing mysample_id TCR TCRanalysis\n",
       "1   No      NA         CHP_346_01  No  NA         \n",
       "2   Yes     n = 295    CHP_348_01  No  n = 295    \n",
       "3   Yes     n = 295    CHP_348_03  No  n = 295    \n",
       "4   Yes     n = 295    CHP_343_04  No  n = 295    \n",
       "5   Yes     n = 295    CHP_329_04  No  n = 295    \n",
       "6   Yes     n = 295    CHP_331_05  No  n = 295    \n",
       "7   No      NA         CHP_330_05  No  NA         \n",
       "8   Yes     n = 295    CHP_350_02  No  n = 295    \n",
       "9   No      NA         CHP_352_02  No  NA         \n",
       "10  Yes     n = 295    CHP_343_02  No  n = 295    \n",
       "11  No      NA         CHP_319_05  No  NA         \n",
       "12  No      NA         CHP_350_01  No  NA         \n",
       "13  Yes     n = 295    CHP_349_01  No  n = 295    \n",
       "14  Yes     n = 295    CHP_350_03  No  n = 295    \n",
       "15  Yes     n = 295    CHP_356_05  No  n = 295    \n",
       "16  No      NA         CHP_356_03  No  NA         \n",
       "17  Yes     n = 295    CHP_356_04  No  n = 295    \n",
       "18  No      NA         CHP_352_01  No  NA         \n",
       "19  No      NA         CHP_367_01  No  NA         \n",
       "20  No      NA         CHP_354_01  No  NA         \n",
       "21  Yes     n = 295    CHP_365_03  No  n = 295    \n",
       "22  Yes     n = 295    CHP_378_01  No  n = 295    \n",
       "23  Yes     n = 295    CHP_370_02  No  n = 295    \n",
       "24  Yes     n = 295    CHP_374_03  No  n = 295    \n",
       "25  Yes     n = 295    CHP_363_01  No  n = 295    \n",
       "26  Yes     n = 295    CHP_360_02  No  n = 295    \n",
       "27  Yes     n = 295    CHP_379_01  No  n = 295    \n",
       "28  Yes     n = 295    CHP_374_05  No  n = 295    \n",
       "29  Yes     n = 295    CHP_366_02  No  n = 295    \n",
       "30  Yes     n = 295    CHP_347_01  No  n = 295    \n",
       "... ...     ...        ...         ... ...        \n",
       "287 Yes     n = 295    CHP_415_02  No  n = 295    \n",
       "288 Yes     n = 295    CHP_378_05  No  n = 295    \n",
       "289 Yes     n = 295    CHP_405_03  No  n = 295    \n",
       "290 Yes     n = 295    CHP_380_04  No  n = 295    \n",
       "291 Yes     n = 295    CHP_407_04  No  n = 295    \n",
       "292 Yes     n = 295    CHP_373_03  No  n = 295    \n",
       "293 Yes     n = 295    CHP_414_02  No  n = 295    \n",
       "294 Yes     n = 295    CHP_386_04  No  n = 295    \n",
       "295 Yes     n = 295    CHP_382_04  No  n = 295    \n",
       "296 Yes     n = 295    CHP_404_04  No  n = 295    \n",
       "297 Yes     n = 295    CHP_397_05  No  n = 295    \n",
       "298 Yes     n = 295    CHP_400_03  No  n = 295    \n",
       "299 Yes     n = 295    CHP_407_01  No  n = 295    \n",
       "300 Yes     n = 295    CHP_412_01  No  n = 295    \n",
       "301 Yes     n = 295    CHP_396_04  No  n = 295    \n",
       "302 Yes     n = 295    CHP_415_03  No  n = 295    \n",
       "303 Yes     n = 295    CHP_392_04  No  n = 295    \n",
       "304 Yes     n = 295    CHP_413_02  No  n = 295    \n",
       "305 Yes     n = 295    CHP_390_03  No  n = 295    \n",
       "306 Yes     n = 295    CHP_382_02  No  n = 295    \n",
       "307 Yes     n = 295    CHP_405_05  No  n = 295    \n",
       "308 Yes     n = 295    CHP_385_05  No  n = 295    \n",
       "309 Yes     n = 295    CHP_385_04  No  n = 295    \n",
       "310 Yes     n = 295    CHP_391_03  No  n = 295    \n",
       "311 Yes     n = 295    CHP_393_01  No  n = 295    \n",
       "312 Yes     n = 295    CHP_403_03  No  n = 295    \n",
       "313 Yes     n = 295    CHP_365_05  No  n = 295    \n",
       "314 Yes     n = 295    CHP_391_04  No  n = 295    \n",
       "315 Yes     n = 295    CHP_378_03  No  n = 295    \n",
       "316 Yes     n = 295    CHP_419_01  No  n = 295    "
      ]
     },
     "metadata": {},
     "output_type": "display_data"
    }
   ],
   "source": [
    "cfdna_samples"
   ]
  },
  {
   "cell_type": "code",
   "execution_count": 218,
   "metadata": {
    "vscode": {
     "languageId": "r"
    }
   },
   "outputs": [],
   "source": [
    "# Create a patient ID\n",
    "cfdna_samples$Patient <- substr(cfdna_samples$mysample_id, 0,7)"
   ]
  },
  {
   "cell_type": "code",
   "execution_count": 219,
   "metadata": {
    "vscode": {
     "languageId": "r"
    }
   },
   "outputs": [],
   "source": [
    "# add tumour type\n",
    "cfdna_samples$Tumor <- NA\n",
    "cfdna_samples$Tumor <- metadata$Disease_type[match(cfdna_samples$Patient, metadata$Patient)]"
   ]
  },
  {
   "cell_type": "code",
   "execution_count": 220,
   "metadata": {
    "vscode": {
     "languageId": "r"
    }
   },
   "outputs": [],
   "source": [
    "# add tumour group\n",
    "cfdna_samples$Group <- NA\n",
    "cfdna_samples$Group <- metadata$group[match(cfdna_samples$Patient, metadata$Patient)]"
   ]
  },
  {
   "cell_type": "code",
   "execution_count": 221,
   "metadata": {
    "vscode": {
     "languageId": "r"
    }
   },
   "outputs": [],
   "source": [
    "#remove tumor and group for samples not included in TCR analysis\n",
    "cfdna_samples$Group[ cfdna_samples$TCR == \"No\"] <- NA\n",
    "cfdna_samples$Tumor[ cfdna_samples$TCR == \"No\"] <- NA"
   ]
  },
  {
   "cell_type": "code",
   "execution_count": 222,
   "metadata": {
    "vscode": {
     "languageId": "r"
    }
   },
   "outputs": [],
   "source": [
    "#some colname cleanup\n",
    "colnames(cfdna_samples)[colnames(cfdna_samples) == \"DNAsamples\"] <- \"DNA samples\"\n",
    "colnames(cfdna_samples)[colnames(cfdna_samples) == \"Library\"] <- \"Library preparation\"\n",
    "colnames(cfdna_samples)[colnames(cfdna_samples) == \"Capture\"] <- \"Successful capture\"\n",
    "colnames(cfdna_samples)[colnames(cfdna_samples) == \"Sequencing\"] <- \"Deep sequencing\"\n",
    "colnames(cfdna_samples)[colnames(cfdna_samples) == \"TCRanalysis\"] <- \"TCR analysis\""
   ]
  },
  {
   "cell_type": "code",
   "execution_count": 223,
   "metadata": {
    "vscode": {
     "languageId": "r"
    }
   },
   "outputs": [],
   "source": [
    "save(cfdna_samples, file = paste0(gitpath, \"data/cfdna_sampleprocessing.RData\"))"
   ]
  },
  {
   "cell_type": "code",
   "execution_count": null,
   "metadata": {
    "vscode": {
     "languageId": "r"
    }
   },
   "outputs": [],
   "source": []
  }
 ],
 "metadata": {
  "kernelspec": {
   "display_name": "R 4.0",
   "language": "R",
   "name": "ir40"
  },
  "language_info": {
   "codemirror_mode": "r",
   "file_extension": ".r",
   "mimetype": "text/x-r-source",
   "name": "R",
   "pygments_lexer": "r",
   "version": "4.2.2"
  },
  "toc": {
   "base_numbering": 1,
   "nav_menu": {},
   "number_sections": false,
   "sideBar": true,
   "skip_h1_title": false,
   "title_cell": "Table of Contents",
   "title_sidebar": "Contents",
   "toc_cell": true,
   "toc_position": {
    "height": "calc(100% - 180px)",
    "left": "10px",
    "top": "150px",
    "width": "273.575px"
   },
   "toc_section_display": true,
   "toc_window_display": true
  }
 },
 "nbformat": 4,
 "nbformat_minor": 2
}

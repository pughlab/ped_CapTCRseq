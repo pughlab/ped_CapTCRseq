{
 "cells": [
  {
   "cell_type": "code",
   "execution_count": 1,
   "metadata": {
    "vscode": {
     "languageId": "r"
    }
   },
   "outputs": [
    {
     "data": {
      "text/html": [
       "'en_US.UTF-8/en_US.UTF-8/en_US.UTF-8/C/en_US.UTF-8/C'"
      ],
      "text/latex": [
       "'en\\_US.UTF-8/en\\_US.UTF-8/en\\_US.UTF-8/C/en\\_US.UTF-8/C'"
      ],
      "text/markdown": [
       "'en_US.UTF-8/en_US.UTF-8/en_US.UTF-8/C/en_US.UTF-8/C'"
      ],
      "text/plain": [
       "[1] \"en_US.UTF-8/en_US.UTF-8/en_US.UTF-8/C/en_US.UTF-8/C\""
      ]
     },
     "metadata": {},
     "output_type": "display_data"
    }
   ],
   "source": [
    "Sys.setlocale(category = \"LC_ALL\", locale = \"en_US.UTF-8\")"
   ]
  },
  {
   "attachments": {},
   "cell_type": "markdown",
   "metadata": {},
   "source": [
    "# Dependencies"
   ]
  },
  {
   "attachments": {},
   "cell_type": "markdown",
   "metadata": {},
   "source": [
    "# Functions"
   ]
  },
  {
   "cell_type": "code",
   "execution_count": 2,
   "metadata": {
    "vscode": {
     "languageId": "r"
    }
   },
   "outputs": [],
   "source": [
    "# compute_divstats_parallel <- function(lst, chain, batchname, outpath, cores = max(1, parallel::detectCores() - 1)) {\n",
    "#     if (!requireNamespace(\"iNEXT\", quietly = TRUE)) stop(\"Package 'iNEXT' is required.\")\n",
    "#     if (!requireNamespace(\"parallel\", quietly = TRUE)) stop(\"Package 'parallel' is required.\")\n",
    "\n",
    "#     sample_names <- names(lst)\n",
    "#     if (is.null(sample_names) || any(!nzchar(sample_names))) {\n",
    "#         sample_names <- paste0(\"sample_\", seq_along(lst))\n",
    "#     }\n",
    "\n",
    "#     iNEXT_list <- parallel::mclapply(\n",
    "#         X = lst,\n",
    "#         FUN = function(x) iNEXT::iNEXT(x, q = 0, datatype = \"abundance\"),\n",
    "#         mc.cores = cores\n",
    "#     )\n",
    "#     names(iNEXT_list) <- sample_names\n",
    "\n",
    "#     extract_qD_max <- function(res) {\n",
    "#         est <- res$iNextEst\n",
    "#         if (is.list(est)) est <- est[[1]]\n",
    "#         if (!is.data.frame(est) || !\"qD\" %in% names(est)) return(NA_real_)\n",
    "#         max(est$qD, na.rm = TRUE)\n",
    "#     }\n",
    "#     extract_SC_max <- function(res) {\n",
    "#         est <- res$iNextEst\n",
    "#         if (is.list(est)) est <- est[[1]]\n",
    "#         if (!is.data.frame(est) || !\"SC\" %in% names(est)) return(NA_real_)\n",
    "#         max(est$SC, na.rm = TRUE)\n",
    "#     }\n",
    "#     extract_asy <- function(res, diversity_label) {\n",
    "#         ae <- res$AsyEst\n",
    "#         if (!is.data.frame(ae)) return(c(NA_real_, NA_real_, NA_real_))\n",
    "#         row <- ae[ rownames(ae) == diversity_label, c(\"Observed\", \"Estimator\", \"Est_s.e.\"), drop = FALSE]\n",
    "#         print(row)\n",
    "#         if (nrow(row) == 0) return(c(NA_real_, NA_real_, NA_real_))\n",
    "#         as.numeric(row[1, ])\n",
    "#     }\n",
    "\n",
    "#     chain_len  <- sapply(lst, length)\n",
    "#     reads_sum  <- sapply(lst, sum)\n",
    "#     cpkr       <- ifelse(reads_sum > 0, (chain_len / reads_sum) * 1000, NA_real_)\n",
    "#     avg_reads  <- sapply(lst, mean)\n",
    "#     vmr        <- sapply(lst, function(x) { m <- mean(x); if (m > 0) stats::sd(x) / m else NA_real_ })\n",
    "#     max_reads  <- sapply(lst, max)\n",
    "#     singletons <- sapply(lst, function(x) sum(x == 1))\n",
    "#     doubletons <- sapply(lst, function(x) sum(x == 2))\n",
    "\n",
    "#     qD_max <- sapply(iNEXT_list, extract_qD_max)\n",
    "#     SC_max <- sapply(iNEXT_list, extract_SC_max)\n",
    "\n",
    "#     richness <- do.call(rbind, lapply(iNEXT_list, extract_asy, diversity_label = \"Species Richness\"))\n",
    "#     shannon  <- do.call(rbind, lapply(iNEXT_list, extract_asy, diversity_label = \"Shannon diversity\"))\n",
    "#     simpson  <- do.call(rbind, lapply(iNEXT_list, extract_asy, diversity_label = \"Simpson diversity\"))\n",
    "# print(shannon)\n",
    "#     div_stats <- matrix(ncol = 19, nrow = length(lst))\n",
    "#     colnames(div_stats) <- c(\n",
    "#         chain, \"Reads\", \"CPKR\", \"Average_reads\", \"VMR\", \"Max_reads\",\n",
    "#         \"Singletons\", \"Doubletons\", \"qD\", \"Sample_Coverage\",\n",
    "#         \"observed_Richness\", \"estimated_Richness\", \"SE_Richeness\",\n",
    "#         \"observed_Shannon\", \"estimated_Shannon\", \"SE_Shannon\",\n",
    "#         \"observed_Simpson\", \"estimated_Simpson\", \"SE_Simpson\"\n",
    "#     )\n",
    "#     rownames(div_stats) <- sample_names\n",
    "\n",
    "#     div_stats[, chain] <- chain_len\n",
    "#     div_stats[, \"Reads\"] <- reads_sum\n",
    "#     div_stats[, \"CPKR\"] <- cpkr\n",
    "#     div_stats[, \"Average_reads\"] <- avg_reads\n",
    "#     div_stats[, \"VMR\"] <- vmr\n",
    "#     div_stats[, \"Max_reads\"] <- max_reads\n",
    "#     div_stats[, \"Singletons\"] <- singletons\n",
    "#     div_stats[, \"Doubletons\"] <- doubletons\n",
    "#     div_stats[, \"qD\"] <- qD_max\n",
    "#     div_stats[, \"Sample_Coverage\"] <- SC_max\n",
    "#     div_stats[, c(\"observed_Richness\", \"estimated_Richness\", \"SE_Richeness\")] <- richness\n",
    "#     div_stats[, c(\"observed_Shannon\", \"estimated_Shannon\", \"SE_Shannon\")] <- shannon\n",
    "#     div_stats[, c(\"observed_Simpson\", \"estimated_Simpson\", \"SE_Simpson\")] <- simpson\n",
    "\n",
    "#     out_file <- file.path(outpath, paste0(\"divstats_\", chain, batchname, \".csv\"))\n",
    "#     utils::write.csv(div_stats, file = out_file, row.names = TRUE)\n",
    "\n",
    "#     invisible(list(div_stats = div_stats, iNEXT_list = iNEXT_list))\n",
    "# }"
   ]
  },
  {
   "cell_type": "code",
   "execution_count": 3,
   "metadata": {
    "vscode": {
     "languageId": "r"
    }
   },
   "outputs": [],
   "source": [
    "source(\"/Users/anabbi/git/ped_CapTCRseq/R/Immune_Diversity.R\")"
   ]
  },
  {
   "attachments": {},
   "cell_type": "markdown",
   "metadata": {},
   "source": [
    "# Paths"
   ]
  },
  {
   "cell_type": "code",
   "execution_count": 4,
   "metadata": {
    "vscode": {
     "languageId": "r"
    }
   },
   "outputs": [],
   "source": [
    "datapath <- \"/Users/anabbi/OneDrive - UHN/Documents/INTERCEPT/Data/\"\n",
    "plotpath <- \"/Users/anabbi/OneDrive - UHN/Documents/INTERCEPT/Plots/\"\n",
    "manifestpath <- \"/Users/anabbi/OneDrive - UHN/Documents/INTERCEPT/Manifests/\"\n",
    "\n",
    "gitpath <- \"/Users/anabbi/git/ped_CapTCRseq/\""
   ]
  },
  {
   "attachments": {},
   "cell_type": "markdown",
   "metadata": {},
   "source": [
    "# Main"
   ]
  },
  {
   "cell_type": "code",
   "execution_count": 5,
   "metadata": {
    "vscode": {
     "languageId": "r"
    }
   },
   "outputs": [],
   "source": [
    "h4hpath <- \"/Users/anabbi/Desktop/H4H/INTERCEPT/data/mixcr/\""
   ]
  },
  {
   "attachments": {},
   "cell_type": "markdown",
   "metadata": {},
   "source": [
    "## TRB"
   ]
  },
  {
   "cell_type": "code",
   "execution_count": 5,
   "metadata": {
    "vscode": {
     "languageId": "r"
    }
   },
   "outputs": [],
   "source": [
    "file_list <- list.files(h4hpath, pattern = paste0(\"CLONES_\", \"TRB\"), recursive = T)"
   ]
  },
  {
   "cell_type": "code",
   "execution_count": null,
   "metadata": {
    "vscode": {
     "languageId": "r"
    }
   },
   "outputs": [],
   "source": [
    "tail(file_list)"
   ]
  },
  {
   "attachments": {},
   "cell_type": "markdown",
   "metadata": {},
   "source": [
    "Some files are duplicated. Make a table to identify and pick the larger clone file"
   ]
  },
  {
   "cell_type": "code",
   "execution_count": null,
   "metadata": {
    "vscode": {
     "languageId": "r"
    }
   },
   "outputs": [],
   "source": [
    "file_df <- as.data.frame(file_list)"
   ]
  },
  {
   "cell_type": "code",
   "execution_count": null,
   "metadata": {
    "vscode": {
     "languageId": "r"
    }
   },
   "outputs": [],
   "source": [
    "file_df$samplename <- gsub(\".*CLONES_TRB\", \"\", file_df$file_list)\n",
    "file_df$samplename <- gsub(\".txt\", \"\", file_df$samplename)"
   ]
  },
  {
   "cell_type": "code",
   "execution_count": null,
   "metadata": {
    "vscode": {
     "languageId": "r"
    }
   },
   "outputs": [],
   "source": [
    "file_df$size <- NA\n",
    "for (i in 1:nrow(file_df)) {\n",
    "    file_df$size[i] <- file.size(paste0(h4hpath, file_df$file_list[i]))\n",
    "}\n"
   ]
  },
  {
   "cell_type": "code",
   "execution_count": null,
   "metadata": {
    "vscode": {
     "languageId": "r"
    }
   },
   "outputs": [],
   "source": [
    "head(file_df)"
   ]
  },
  {
   "cell_type": "code",
   "execution_count": null,
   "metadata": {
    "vscode": {
     "languageId": "r"
    }
   },
   "outputs": [],
   "source": [
    "file_df[ grepl(\"395-01\", file_df$file_list),]"
   ]
  },
  {
   "cell_type": "code",
   "execution_count": null,
   "metadata": {
    "vscode": {
     "languageId": "r"
    }
   },
   "outputs": [],
   "source": [
    "#if duplicated keep the bigger file corresponding to deeper seqeuncing.\n",
    "file_df_dedup <- file_df[0,]\n",
    "\n",
    "for(s in unique(file_df$samplename)){\n",
    "    tmp <- file_df[ file_df$samplename == s,]\n",
    "    if(nrow(tmp) ==1 ){\n",
    "        file_df_dedup <- rbind(file_df_dedup, tmp)\n",
    "    }\n",
    "    if(nrow(tmp) > 1 ){\n",
    "        file_df_dedup <- rbind(file_df_dedup, tmp[ tmp$size == max(tmp$size),])\n",
    "    }    \n",
    "}"
   ]
  },
  {
   "cell_type": "code",
   "execution_count": null,
   "metadata": {
    "vscode": {
     "languageId": "r"
    }
   },
   "outputs": [],
   "source": [
    "file_df_dedup[ grepl(\"343\", file_df_dedup$file_list),]"
   ]
  },
  {
   "cell_type": "code",
   "execution_count": null,
   "metadata": {
    "vscode": {
     "languageId": "r"
    }
   },
   "outputs": [],
   "source": [
    "file_df_dedup[ grepl(\"343-05\", file_df_dedup$file_list),]"
   ]
  },
  {
   "cell_type": "code",
   "execution_count": null,
   "metadata": {
    "vscode": {
     "languageId": "r"
    }
   },
   "outputs": [],
   "source": [
    "dim(file_df)\n",
    "dim(file_df_dedup)"
   ]
  },
  {
   "cell_type": "code",
   "execution_count": null,
   "metadata": {
    "vscode": {
     "languageId": "r"
    }
   },
   "outputs": [],
   "source": [
    "file_df_dedup_trb <- file_df_dedup\n",
    "# save(file_df_dedup_trb, file = paste0(datapath,\"capTCRseq/TRBfiles.RData\"))"
   ]
  },
  {
   "cell_type": "code",
   "execution_count": null,
   "metadata": {
    "vscode": {
     "languageId": "r"
    }
   },
   "outputs": [],
   "source": [
    "batchTRB <- immunelistfx(file_df_dedup$file_list, h4hpath, \"TRB\")"
   ]
  },
  {
   "cell_type": "code",
   "execution_count": null,
   "metadata": {
    "vscode": {
     "languageId": "r"
    }
   },
   "outputs": [],
   "source": [
    "names(batchTRB) <- gsub(\".*CLONES_TRB\", \"\", names(batchTRB))"
   ]
  },
  {
   "cell_type": "code",
   "execution_count": null,
   "metadata": {
    "vscode": {
     "languageId": "r"
    }
   },
   "outputs": [],
   "source": [
    "head(names(batchTRB))"
   ]
  },
  {
   "cell_type": "code",
   "execution_count": null,
   "metadata": {
    "vscode": {
     "languageId": "r"
    }
   },
   "outputs": [],
   "source": [
    "TRBlist <- batchTRB "
   ]
  },
  {
   "cell_type": "code",
   "execution_count": null,
   "metadata": {
    "vscode": {
     "languageId": "r"
    }
   },
   "outputs": [],
   "source": [
    "readr::write_rds(TRBlist, file = paste0(gitpath,\"Data/TRBlist.rds\"))"
   ]
  },
  {
   "cell_type": "code",
   "execution_count": null,
   "metadata": {
    "vscode": {
     "languageId": "r"
    }
   },
   "outputs": [],
   "source": [
    "save(TRBlist, file = paste0(datapath,\"capTCRseq/TRBlist.RData\"))"
   ]
  },
  {
   "attachments": {},
   "cell_type": "markdown",
   "metadata": {},
   "source": [
    "### divstats"
   ]
  },
  {
   "cell_type": "code",
   "execution_count": 6,
   "metadata": {
    "vscode": {
     "languageId": "r"
    }
   },
   "outputs": [],
   "source": [
    "load(file = paste0(datapath,\"capTCRseq/TRBlist.RData\"))\n",
    "load(file = paste0(datapath,\"capTCRseq/TRBfiles.RData\"))"
   ]
  },
  {
   "cell_type": "code",
   "execution_count": 7,
   "metadata": {
    "vscode": {
     "languageId": "r"
    }
   },
   "outputs": [
    {
     "data": {
      "text/html": [
       "584"
      ],
      "text/latex": [
       "584"
      ],
      "text/markdown": [
       "584"
      ],
      "text/plain": [
       "[1] 584"
      ]
     },
     "metadata": {},
     "output_type": "display_data"
    }
   ],
   "source": [
    "TRBlist <- TRBlist[sapply(TRBlist, function(x) length((x)) != 0)]\n",
    "length(names(TRBlist))"
   ]
  },
  {
   "cell_type": "code",
   "execution_count": 8,
   "metadata": {
    "vscode": {
     "languageId": "r"
    }
   },
   "outputs": [],
   "source": [
    "# add filenames to divstats\n",
    "myfilenames <- file_df_dedup_trb[ file_df_dedup_trb$samplename %in% names(TRBlist),]"
   ]
  },
  {
   "cell_type": "code",
   "execution_count": 9,
   "metadata": {
    "vscode": {
     "languageId": "r"
    }
   },
   "outputs": [
    {
     "data": {
      "text/html": [
       "<table class=\"dataframe\">\n",
       "<caption>A data.frame: 6 x 3</caption>\n",
       "<thead>\n",
       "\t<tr><th></th><th scope=col>file_list</th><th scope=col>samplename</th><th scope=col>size</th></tr>\n",
       "\t<tr><th></th><th scope=col>&lt;chr&gt;</th><th scope=col>&lt;chr&gt;</th><th scope=col>&lt;dbl&gt;</th></tr>\n",
       "</thead>\n",
       "<tbody>\n",
       "\t<tr><th scope=row>265</th><td>batch4_19Aug2019/mixcr/clones/CLONES_TRBCHP_315-05-PBMC-DNA.txt     </td><td>CHP_315-05-PBMC-DNA</td><td> 16011</td></tr>\n",
       "\t<tr><th scope=row>2</th><td>batch_reseq_24Feb2020/mixcr/clones/CLONES_TRBCHP_350-01-PBMC-DNA.txt</td><td>CHP_350-01-PBMC-DNA</td><td> 85631</td></tr>\n",
       "\t<tr><th scope=row>3</th><td>batch_reseq_24Feb2020/mixcr/clones/CLONES_TRBCHP_350-02-PBMC-DNA.txt</td><td>CHP_350-02-PBMC-DNA</td><td>143632</td></tr>\n",
       "\t<tr><th scope=row>4</th><td>batch_reseq_24Feb2020/mixcr/clones/CLONES_TRBCHP_350-03-PBMC-DNA.txt</td><td>CHP_350-03-PBMC-DNA</td><td>107190</td></tr>\n",
       "\t<tr><th scope=row>5</th><td>batch_reseq_24Feb2020/mixcr/clones/CLONES_TRBCHP_350-04-PBMC-DNA.txt</td><td>CHP_350-04-PBMC-DNA</td><td> 54188</td></tr>\n",
       "\t<tr><th scope=row>6</th><td>batch_reseq_24Feb2020/mixcr/clones/CLONES_TRBCHP_353-02-PBMC-DNA.txt</td><td>CHP_353-02-PBMC-DNA</td><td>  9062</td></tr>\n",
       "</tbody>\n",
       "</table>\n"
      ],
      "text/latex": [
       "A data.frame: 6 x 3\n",
       "\\begin{tabular}{r|lll}\n",
       "  & file\\_list & samplename & size\\\\\n",
       "  & <chr> & <chr> & <dbl>\\\\\n",
       "\\hline\n",
       "\t265 & batch4\\_19Aug2019/mixcr/clones/CLONES\\_TRBCHP\\_315-05-PBMC-DNA.txt      & CHP\\_315-05-PBMC-DNA &  16011\\\\\n",
       "\t2 & batch\\_reseq\\_24Feb2020/mixcr/clones/CLONES\\_TRBCHP\\_350-01-PBMC-DNA.txt & CHP\\_350-01-PBMC-DNA &  85631\\\\\n",
       "\t3 & batch\\_reseq\\_24Feb2020/mixcr/clones/CLONES\\_TRBCHP\\_350-02-PBMC-DNA.txt & CHP\\_350-02-PBMC-DNA & 143632\\\\\n",
       "\t4 & batch\\_reseq\\_24Feb2020/mixcr/clones/CLONES\\_TRBCHP\\_350-03-PBMC-DNA.txt & CHP\\_350-03-PBMC-DNA & 107190\\\\\n",
       "\t5 & batch\\_reseq\\_24Feb2020/mixcr/clones/CLONES\\_TRBCHP\\_350-04-PBMC-DNA.txt & CHP\\_350-04-PBMC-DNA &  54188\\\\\n",
       "\t6 & batch\\_reseq\\_24Feb2020/mixcr/clones/CLONES\\_TRBCHP\\_353-02-PBMC-DNA.txt & CHP\\_353-02-PBMC-DNA &   9062\\\\\n",
       "\\end{tabular}\n"
      ],
      "text/markdown": [
       "\n",
       "A data.frame: 6 x 3\n",
       "\n",
       "| <!--/--> | file_list &lt;chr&gt; | samplename &lt;chr&gt; | size &lt;dbl&gt; |\n",
       "|---|---|---|---|\n",
       "| 265 | batch4_19Aug2019/mixcr/clones/CLONES_TRBCHP_315-05-PBMC-DNA.txt      | CHP_315-05-PBMC-DNA |  16011 |\n",
       "| 2 | batch_reseq_24Feb2020/mixcr/clones/CLONES_TRBCHP_350-01-PBMC-DNA.txt | CHP_350-01-PBMC-DNA |  85631 |\n",
       "| 3 | batch_reseq_24Feb2020/mixcr/clones/CLONES_TRBCHP_350-02-PBMC-DNA.txt | CHP_350-02-PBMC-DNA | 143632 |\n",
       "| 4 | batch_reseq_24Feb2020/mixcr/clones/CLONES_TRBCHP_350-03-PBMC-DNA.txt | CHP_350-03-PBMC-DNA | 107190 |\n",
       "| 5 | batch_reseq_24Feb2020/mixcr/clones/CLONES_TRBCHP_350-04-PBMC-DNA.txt | CHP_350-04-PBMC-DNA |  54188 |\n",
       "| 6 | batch_reseq_24Feb2020/mixcr/clones/CLONES_TRBCHP_353-02-PBMC-DNA.txt | CHP_353-02-PBMC-DNA |   9062 |\n",
       "\n"
      ],
      "text/plain": [
       "    file_list                                                           \n",
       "265 batch4_19Aug2019/mixcr/clones/CLONES_TRBCHP_315-05-PBMC-DNA.txt     \n",
       "2   batch_reseq_24Feb2020/mixcr/clones/CLONES_TRBCHP_350-01-PBMC-DNA.txt\n",
       "3   batch_reseq_24Feb2020/mixcr/clones/CLONES_TRBCHP_350-02-PBMC-DNA.txt\n",
       "4   batch_reseq_24Feb2020/mixcr/clones/CLONES_TRBCHP_350-03-PBMC-DNA.txt\n",
       "5   batch_reseq_24Feb2020/mixcr/clones/CLONES_TRBCHP_350-04-PBMC-DNA.txt\n",
       "6   batch_reseq_24Feb2020/mixcr/clones/CLONES_TRBCHP_353-02-PBMC-DNA.txt\n",
       "    samplename          size  \n",
       "265 CHP_315-05-PBMC-DNA  16011\n",
       "2   CHP_350-01-PBMC-DNA  85631\n",
       "3   CHP_350-02-PBMC-DNA 143632\n",
       "4   CHP_350-03-PBMC-DNA 107190\n",
       "5   CHP_350-04-PBMC-DNA  54188\n",
       "6   CHP_353-02-PBMC-DNA   9062"
      ]
     },
     "metadata": {},
     "output_type": "display_data"
    }
   ],
   "source": [
    "head(myfilenames)"
   ]
  },
  {
   "cell_type": "code",
   "execution_count": null,
   "metadata": {
    "vscode": {
     "languageId": "r"
    }
   },
   "outputs": [],
   "source": [
    "save(TRBlist, file = \"/Users/anabbi/Desktop/sam/intercept/TRBlist.RData\")\n",
    "save(file_df_dedup_trb, file = \"/Users/anabbi/Desktop/sam/intercept/TRBfiles.RData\")"
   ]
  },
  {
   "cell_type": "code",
   "execution_count": null,
   "metadata": {
    "vscode": {
     "languageId": "r"
    }
   },
   "outputs": [],
   "source": [
    "# parallel_inext.R ## run on valinor interactive "
   ]
  },
  {
   "attachments": {},
   "cell_type": "markdown",
   "metadata": {},
   "source": [
    "### Cleanup divstats"
   ]
  },
  {
   "cell_type": "code",
   "execution_count": 10,
   "metadata": {
    "vscode": {
     "languageId": "r"
    }
   },
   "outputs": [],
   "source": [
    "divstats <- read.csv(paste0(datapath, \"capTCRseq/divstats_TRBCHP_updated.csv\"), header = T, stringsAsFactors = F, row.names = 1)"
   ]
  },
  {
   "cell_type": "code",
   "execution_count": 11,
   "metadata": {
    "vscode": {
     "languageId": "r"
    }
   },
   "outputs": [],
   "source": [
    "# add 9 samples with nonproductive cdr3\n",
    "addsamples <- c(\n",
    "    \"CHP_347-01-cfDNA\", \"CHP_366-05_cfDNA\", \"CHP_377-01-cfDNA\",\n",
    "    \"CHP_381-05_cfDNA\", \"CHP_391-02_cfDNA\", \"CHP_392-01_cfDNA\",\n",
    "    \"CHP_398-01_cfDNA\", \"CHP_401-03_cfDNA\", \"CHP_419-FFPE-DNA_S2\"\n",
    ")\n"
   ]
  },
  {
   "cell_type": "code",
   "execution_count": 12,
   "metadata": {
    "vscode": {
     "languageId": "r"
    }
   },
   "outputs": [],
   "source": [
    "divstats[ nrow(divstats) + 9 , ] <- NA"
   ]
  },
  {
   "cell_type": "code",
   "execution_count": 13,
   "metadata": {
    "vscode": {
     "languageId": "r"
    }
   },
   "outputs": [],
   "source": [
    "rownames(divstats)[is.na(divstats$TRB)] <- addsamples"
   ]
  },
  {
   "cell_type": "code",
   "execution_count": 14,
   "metadata": {
    "vscode": {
     "languageId": "r"
    }
   },
   "outputs": [],
   "source": [
    "#example sample_id CHP_xxx_xx\n",
    "divstats$sample_id <- rownames(divstats)\n",
    "\n",
    "# remove trailing _cfDNA or PBMC-DNA from sample_id\n",
    "divstats$sample_id <- gsub(\"_cfDNA$|_PBMC_DNA$|-cfDNA$|-PBMC_DNA$|-PBMC-DNA$|_PBMC-DNA\", \"\", divstats$sample_id)\n"
   ]
  },
  {
   "cell_type": "code",
   "execution_count": 15,
   "metadata": {
    "vscode": {
     "languageId": "r"
    }
   },
   "outputs": [],
   "source": [
    "#example basename CHP_xxx-xx-PBMC-DNA\n",
    "divstats$basename <- rownames(divstats)"
   ]
  },
  {
   "cell_type": "code",
   "execution_count": 16,
   "metadata": {
    "vscode": {
     "languageId": "r"
    }
   },
   "outputs": [],
   "source": [
    "# add filenames to divstats\n",
    "divstats$file <- myfilenames$file_list[ match(divstats$basename, myfilenames$samplename)]"
   ]
  },
  {
   "cell_type": "code",
   "execution_count": 17,
   "metadata": {
    "vscode": {
     "languageId": "r"
    }
   },
   "outputs": [
    {
     "data": {
      "text/html": [
       "<table class=\"dataframe\">\n",
       "<caption>A data.frame: 6 x 22</caption>\n",
       "<thead>\n",
       "\t<tr><th></th><th scope=col>TRB</th><th scope=col>Reads</th><th scope=col>CPKR</th><th scope=col>Average_reads</th><th scope=col>VMR</th><th scope=col>Max_reads</th><th scope=col>Singletons</th><th scope=col>Doubletons</th><th scope=col>qD</th><th scope=col>Sample_Coverage</th><th scope=col>...</th><th scope=col>SE_Richeness</th><th scope=col>observed_Shannon</th><th scope=col>estimated_Shannon</th><th scope=col>SE_Shannon</th><th scope=col>observed_Simpson</th><th scope=col>estimated_Simpson</th><th scope=col>SE_Simpson</th><th scope=col>sample_id</th><th scope=col>basename</th><th scope=col>file</th></tr>\n",
       "\t<tr><th></th><th scope=col>&lt;int&gt;</th><th scope=col>&lt;int&gt;</th><th scope=col>&lt;dbl&gt;</th><th scope=col>&lt;dbl&gt;</th><th scope=col>&lt;dbl&gt;</th><th scope=col>&lt;int&gt;</th><th scope=col>&lt;int&gt;</th><th scope=col>&lt;int&gt;</th><th scope=col>&lt;dbl&gt;</th><th scope=col>&lt;dbl&gt;</th><th scope=col>...</th><th scope=col>&lt;dbl&gt;</th><th scope=col>&lt;dbl&gt;</th><th scope=col>&lt;dbl&gt;</th><th scope=col>&lt;dbl&gt;</th><th scope=col>&lt;dbl&gt;</th><th scope=col>&lt;dbl&gt;</th><th scope=col>&lt;dbl&gt;</th><th scope=col>&lt;chr&gt;</th><th scope=col>&lt;chr&gt;</th><th scope=col>&lt;chr&gt;</th></tr>\n",
       "</thead>\n",
       "<tbody>\n",
       "\t<tr><th scope=row>CHP_407-01_PBMC_DNA</th><td>376</td><td> 2065</td><td>182.0823245</td><td>   5.492021</td><td>0.7235782</td><td>  25</td><td>43</td><td>57</td><td>391.06694</td><td>0.9985318</td><td>...</td><td>10.5776306</td><td>296.625795</td><td>328.340127</td><td>4.82121497</td><td>247.015293</td><td>280.442163</td><td>6.77665004</td><td>CHP_407-01         </td><td>CHP_407-01_PBMC_DNA</td><td>batch11_23Apr2020/mixcr/clones/CLONES_TRBCHP_407-01_PBMC_DNA.txt   </td></tr>\n",
       "\t<tr><th scope=row>CHP_407-02_PBMC_DNA</th><td> 56</td><td> 1003</td><td> 55.8325025</td><td>  17.910714</td><td>0.8493668</td><td>  66</td><td> 5</td><td> 1</td><td> 60.11956</td><td>0.9966608</td><td>...</td><td> 9.6160107</td><td> 40.144620</td><td> 41.509305</td><td>0.91390958</td><td> 32.776496</td><td> 33.849983</td><td>1.02611973</td><td>CHP_407-02         </td><td>CHP_407-02_PBMC_DNA</td><td>batch11_23Apr2020/mixcr/clones/CLONES_TRBCHP_407-02_PBMC_DNA.txt   </td></tr>\n",
       "\t<tr><th scope=row>CHP_407-03_cfDNA</th><td>  4</td><td>  352</td><td> 11.3636364</td><td>  88.000000</td><td>1.7322745</td><td> 316</td><td> 1</td><td> 0</td><td>  4.00000</td><td>1.0000000</td><td>...</td><td> 0.5057732</td><td>  1.481101</td><td>  1.487815</td><td>0.05912977</td><td>  1.230549</td><td>  1.231358</td><td>0.03432500</td><td>CHP_407-03         </td><td>CHP_407-03_cfDNA   </td><td>batch11_cfDNA_11Sep2020/mixcr/clones/CLONES_TRBCHP_407-03_cfDNA.txt</td></tr>\n",
       "\t<tr><th scope=row>CHP_407-03__PBMC-DN</th><td> 33</td><td> 1149</td><td> 28.7206266</td><td>  34.818182</td><td>0.9278100</td><td> 157</td><td> 2</td><td> 0</td><td> 33.86391</td><td>0.9997648</td><td>...</td><td> 1.1807429</td><td> 23.868713</td><td> 24.224584</td><td>0.59816864</td><td> 17.986145</td><td> 18.256270</td><td>0.83346694</td><td>CHP_407-03__PBMC-DN</td><td>CHP_407-03__PBMC-DN</td><td>batch12_30Apr2021/mixcr/clones/CLONES_TRBCHP_407-03__PBMC-DN.txt   </td></tr>\n",
       "\t<tr><th scope=row>CHP_407-04-PBMC-DNA</th><td>569</td><td>69502</td><td>  8.1868148</td><td> 122.147627</td><td>0.7336426</td><td> 659</td><td> 9</td><td> 4</td><td>574.96243</td><td>0.9999468</td><td>...</td><td>12.3872679</td><td>440.987356</td><td>442.840531</td><td>1.04361494</td><td>370.132939</td><td>372.109282</td><td>1.63606502</td><td>CHP_407-04         </td><td>CHP_407-04-PBMC-DNA</td><td>batch13_26Aug2020/mixcr/clones/CLONES_TRBCHP_407-04-PBMC-DNA.txt   </td></tr>\n",
       "\t<tr><th scope=row>CHP_407-FFPE-DNA_S7</th><td>  5</td><td> 7275</td><td>  0.6872852</td><td>1455.000000</td><td>0.9496434</td><td>3048</td><td> 0</td><td> 0</td><td>  5.00000</td><td>1.0000000</td><td>...</td><td> 0.0000000</td><td>  3.243773</td><td>  3.244667</td><td>0.02276269</td><td>  2.904515</td><td>  2.905275</td><td>0.02163161</td><td>CHP_407-FFPE-DNA_S7</td><td>CHP_407-FFPE-DNA_S7</td><td>batchFFPE_3Apr2020/mixcr/clones/CLONES_TRBCHP_407-FFPE-DNA_S7.txt  </td></tr>\n",
       "</tbody>\n",
       "</table>\n"
      ],
      "text/latex": [
       "A data.frame: 6 x 22\n",
       "\\begin{tabular}{r|lllllllllllllllllllll}\n",
       "  & TRB & Reads & CPKR & Average\\_reads & VMR & Max\\_reads & Singletons & Doubletons & qD & Sample\\_Coverage & ... & SE\\_Richeness & observed\\_Shannon & estimated\\_Shannon & SE\\_Shannon & observed\\_Simpson & estimated\\_Simpson & SE\\_Simpson & sample\\_id & basename & file\\\\\n",
       "  & <int> & <int> & <dbl> & <dbl> & <dbl> & <int> & <int> & <int> & <dbl> & <dbl> & ... & <dbl> & <dbl> & <dbl> & <dbl> & <dbl> & <dbl> & <dbl> & <chr> & <chr> & <chr>\\\\\n",
       "\\hline\n",
       "\tCHP\\_407-01\\_PBMC\\_DNA & 376 &  2065 & 182.0823245 &    5.492021 & 0.7235782 &   25 & 43 & 57 & 391.06694 & 0.9985318 & ... & 10.5776306 & 296.625795 & 328.340127 & 4.82121497 & 247.015293 & 280.442163 & 6.77665004 & CHP\\_407-01          & CHP\\_407-01\\_PBMC\\_DNA & batch11\\_23Apr2020/mixcr/clones/CLONES\\_TRBCHP\\_407-01\\_PBMC\\_DNA.txt   \\\\\n",
       "\tCHP\\_407-02\\_PBMC\\_DNA &  56 &  1003 &  55.8325025 &   17.910714 & 0.8493668 &   66 &  5 &  1 &  60.11956 & 0.9966608 & ... &  9.6160107 &  40.144620 &  41.509305 & 0.91390958 &  32.776496 &  33.849983 & 1.02611973 & CHP\\_407-02          & CHP\\_407-02\\_PBMC\\_DNA & batch11\\_23Apr2020/mixcr/clones/CLONES\\_TRBCHP\\_407-02\\_PBMC\\_DNA.txt   \\\\\n",
       "\tCHP\\_407-03\\_cfDNA &   4 &   352 &  11.3636364 &   88.000000 & 1.7322745 &  316 &  1 &  0 &   4.00000 & 1.0000000 & ... &  0.5057732 &   1.481101 &   1.487815 & 0.05912977 &   1.230549 &   1.231358 & 0.03432500 & CHP\\_407-03          & CHP\\_407-03\\_cfDNA    & batch11\\_cfDNA\\_11Sep2020/mixcr/clones/CLONES\\_TRBCHP\\_407-03\\_cfDNA.txt\\\\\n",
       "\tCHP\\_407-03\\_\\_PBMC-DN &  33 &  1149 &  28.7206266 &   34.818182 & 0.9278100 &  157 &  2 &  0 &  33.86391 & 0.9997648 & ... &  1.1807429 &  23.868713 &  24.224584 & 0.59816864 &  17.986145 &  18.256270 & 0.83346694 & CHP\\_407-03\\_\\_PBMC-DN & CHP\\_407-03\\_\\_PBMC-DN & batch12\\_30Apr2021/mixcr/clones/CLONES\\_TRBCHP\\_407-03\\_\\_PBMC-DN.txt   \\\\\n",
       "\tCHP\\_407-04-PBMC-DNA & 569 & 69502 &   8.1868148 &  122.147627 & 0.7336426 &  659 &  9 &  4 & 574.96243 & 0.9999468 & ... & 12.3872679 & 440.987356 & 442.840531 & 1.04361494 & 370.132939 & 372.109282 & 1.63606502 & CHP\\_407-04          & CHP\\_407-04-PBMC-DNA & batch13\\_26Aug2020/mixcr/clones/CLONES\\_TRBCHP\\_407-04-PBMC-DNA.txt   \\\\\n",
       "\tCHP\\_407-FFPE-DNA\\_S7 &   5 &  7275 &   0.6872852 & 1455.000000 & 0.9496434 & 3048 &  0 &  0 &   5.00000 & 1.0000000 & ... &  0.0000000 &   3.243773 &   3.244667 & 0.02276269 &   2.904515 &   2.905275 & 0.02163161 & CHP\\_407-FFPE-DNA\\_S7 & CHP\\_407-FFPE-DNA\\_S7 & batchFFPE\\_3Apr2020/mixcr/clones/CLONES\\_TRBCHP\\_407-FFPE-DNA\\_S7.txt  \\\\\n",
       "\\end{tabular}\n"
      ],
      "text/markdown": [
       "\n",
       "A data.frame: 6 x 22\n",
       "\n",
       "| <!--/--> | TRB &lt;int&gt; | Reads &lt;int&gt; | CPKR &lt;dbl&gt; | Average_reads &lt;dbl&gt; | VMR &lt;dbl&gt; | Max_reads &lt;int&gt; | Singletons &lt;int&gt; | Doubletons &lt;int&gt; | qD &lt;dbl&gt; | Sample_Coverage &lt;dbl&gt; | ... ... | SE_Richeness &lt;dbl&gt; | observed_Shannon &lt;dbl&gt; | estimated_Shannon &lt;dbl&gt; | SE_Shannon &lt;dbl&gt; | observed_Simpson &lt;dbl&gt; | estimated_Simpson &lt;dbl&gt; | SE_Simpson &lt;dbl&gt; | sample_id &lt;chr&gt; | basename &lt;chr&gt; | file &lt;chr&gt; |\n",
       "|---|---|---|---|---|---|---|---|---|---|---|---|---|---|---|---|---|---|---|---|---|---|\n",
       "| CHP_407-01_PBMC_DNA | 376 |  2065 | 182.0823245 |    5.492021 | 0.7235782 |   25 | 43 | 57 | 391.06694 | 0.9985318 | ... | 10.5776306 | 296.625795 | 328.340127 | 4.82121497 | 247.015293 | 280.442163 | 6.77665004 | CHP_407-01          | CHP_407-01_PBMC_DNA | batch11_23Apr2020/mixcr/clones/CLONES_TRBCHP_407-01_PBMC_DNA.txt    |\n",
       "| CHP_407-02_PBMC_DNA |  56 |  1003 |  55.8325025 |   17.910714 | 0.8493668 |   66 |  5 |  1 |  60.11956 | 0.9966608 | ... |  9.6160107 |  40.144620 |  41.509305 | 0.91390958 |  32.776496 |  33.849983 | 1.02611973 | CHP_407-02          | CHP_407-02_PBMC_DNA | batch11_23Apr2020/mixcr/clones/CLONES_TRBCHP_407-02_PBMC_DNA.txt    |\n",
       "| CHP_407-03_cfDNA |   4 |   352 |  11.3636364 |   88.000000 | 1.7322745 |  316 |  1 |  0 |   4.00000 | 1.0000000 | ... |  0.5057732 |   1.481101 |   1.487815 | 0.05912977 |   1.230549 |   1.231358 | 0.03432500 | CHP_407-03          | CHP_407-03_cfDNA    | batch11_cfDNA_11Sep2020/mixcr/clones/CLONES_TRBCHP_407-03_cfDNA.txt |\n",
       "| CHP_407-03__PBMC-DN |  33 |  1149 |  28.7206266 |   34.818182 | 0.9278100 |  157 |  2 |  0 |  33.86391 | 0.9997648 | ... |  1.1807429 |  23.868713 |  24.224584 | 0.59816864 |  17.986145 |  18.256270 | 0.83346694 | CHP_407-03__PBMC-DN | CHP_407-03__PBMC-DN | batch12_30Apr2021/mixcr/clones/CLONES_TRBCHP_407-03__PBMC-DN.txt    |\n",
       "| CHP_407-04-PBMC-DNA | 569 | 69502 |   8.1868148 |  122.147627 | 0.7336426 |  659 |  9 |  4 | 574.96243 | 0.9999468 | ... | 12.3872679 | 440.987356 | 442.840531 | 1.04361494 | 370.132939 | 372.109282 | 1.63606502 | CHP_407-04          | CHP_407-04-PBMC-DNA | batch13_26Aug2020/mixcr/clones/CLONES_TRBCHP_407-04-PBMC-DNA.txt    |\n",
       "| CHP_407-FFPE-DNA_S7 |   5 |  7275 |   0.6872852 | 1455.000000 | 0.9496434 | 3048 |  0 |  0 |   5.00000 | 1.0000000 | ... |  0.0000000 |   3.243773 |   3.244667 | 0.02276269 |   2.904515 |   2.905275 | 0.02163161 | CHP_407-FFPE-DNA_S7 | CHP_407-FFPE-DNA_S7 | batchFFPE_3Apr2020/mixcr/clones/CLONES_TRBCHP_407-FFPE-DNA_S7.txt   |\n",
       "\n"
      ],
      "text/plain": [
       "                    TRB Reads CPKR        Average_reads VMR       Max_reads\n",
       "CHP_407-01_PBMC_DNA 376  2065 182.0823245    5.492021   0.7235782   25     \n",
       "CHP_407-02_PBMC_DNA  56  1003  55.8325025   17.910714   0.8493668   66     \n",
       "CHP_407-03_cfDNA      4   352  11.3636364   88.000000   1.7322745  316     \n",
       "CHP_407-03__PBMC-DN  33  1149  28.7206266   34.818182   0.9278100  157     \n",
       "CHP_407-04-PBMC-DNA 569 69502   8.1868148  122.147627   0.7336426  659     \n",
       "CHP_407-FFPE-DNA_S7   5  7275   0.6872852 1455.000000   0.9496434 3048     \n",
       "                    Singletons Doubletons qD        Sample_Coverage ...\n",
       "CHP_407-01_PBMC_DNA 43         57         391.06694 0.9985318       ...\n",
       "CHP_407-02_PBMC_DNA  5          1          60.11956 0.9966608       ...\n",
       "CHP_407-03_cfDNA     1          0           4.00000 1.0000000       ...\n",
       "CHP_407-03__PBMC-DN  2          0          33.86391 0.9997648       ...\n",
       "CHP_407-04-PBMC-DNA  9          4         574.96243 0.9999468       ...\n",
       "CHP_407-FFPE-DNA_S7  0          0           5.00000 1.0000000       ...\n",
       "                    SE_Richeness observed_Shannon estimated_Shannon SE_Shannon\n",
       "CHP_407-01_PBMC_DNA 10.5776306   296.625795       328.340127        4.82121497\n",
       "CHP_407-02_PBMC_DNA  9.6160107    40.144620        41.509305        0.91390958\n",
       "CHP_407-03_cfDNA     0.5057732     1.481101         1.487815        0.05912977\n",
       "CHP_407-03__PBMC-DN  1.1807429    23.868713        24.224584        0.59816864\n",
       "CHP_407-04-PBMC-DNA 12.3872679   440.987356       442.840531        1.04361494\n",
       "CHP_407-FFPE-DNA_S7  0.0000000     3.243773         3.244667        0.02276269\n",
       "                    observed_Simpson estimated_Simpson SE_Simpson\n",
       "CHP_407-01_PBMC_DNA 247.015293       280.442163        6.77665004\n",
       "CHP_407-02_PBMC_DNA  32.776496        33.849983        1.02611973\n",
       "CHP_407-03_cfDNA      1.230549         1.231358        0.03432500\n",
       "CHP_407-03__PBMC-DN  17.986145        18.256270        0.83346694\n",
       "CHP_407-04-PBMC-DNA 370.132939       372.109282        1.63606502\n",
       "CHP_407-FFPE-DNA_S7   2.904515         2.905275        0.02163161\n",
       "                    sample_id           basename           \n",
       "CHP_407-01_PBMC_DNA CHP_407-01          CHP_407-01_PBMC_DNA\n",
       "CHP_407-02_PBMC_DNA CHP_407-02          CHP_407-02_PBMC_DNA\n",
       "CHP_407-03_cfDNA    CHP_407-03          CHP_407-03_cfDNA   \n",
       "CHP_407-03__PBMC-DN CHP_407-03__PBMC-DN CHP_407-03__PBMC-DN\n",
       "CHP_407-04-PBMC-DNA CHP_407-04          CHP_407-04-PBMC-DNA\n",
       "CHP_407-FFPE-DNA_S7 CHP_407-FFPE-DNA_S7 CHP_407-FFPE-DNA_S7\n",
       "                    file                                                               \n",
       "CHP_407-01_PBMC_DNA batch11_23Apr2020/mixcr/clones/CLONES_TRBCHP_407-01_PBMC_DNA.txt   \n",
       "CHP_407-02_PBMC_DNA batch11_23Apr2020/mixcr/clones/CLONES_TRBCHP_407-02_PBMC_DNA.txt   \n",
       "CHP_407-03_cfDNA    batch11_cfDNA_11Sep2020/mixcr/clones/CLONES_TRBCHP_407-03_cfDNA.txt\n",
       "CHP_407-03__PBMC-DN batch12_30Apr2021/mixcr/clones/CLONES_TRBCHP_407-03__PBMC-DN.txt   \n",
       "CHP_407-04-PBMC-DNA batch13_26Aug2020/mixcr/clones/CLONES_TRBCHP_407-04-PBMC-DNA.txt   \n",
       "CHP_407-FFPE-DNA_S7 batchFFPE_3Apr2020/mixcr/clones/CLONES_TRBCHP_407-FFPE-DNA_S7.txt  "
      ]
     },
     "metadata": {},
     "output_type": "display_data"
    }
   ],
   "source": [
    "head(divstats[grepl(\"CHP_407\", divstats$sample_id),])"
   ]
  },
  {
   "cell_type": "code",
   "execution_count": 18,
   "metadata": {
    "vscode": {
     "languageId": "r"
    }
   },
   "outputs": [
    {
     "data": {
      "text/html": [
       "<table class=\"dataframe\">\n",
       "<caption>A data.frame: 6 x 22</caption>\n",
       "<thead>\n",
       "\t<tr><th></th><th scope=col>TRB</th><th scope=col>Reads</th><th scope=col>CPKR</th><th scope=col>Average_reads</th><th scope=col>VMR</th><th scope=col>Max_reads</th><th scope=col>Singletons</th><th scope=col>Doubletons</th><th scope=col>qD</th><th scope=col>Sample_Coverage</th><th scope=col>...</th><th scope=col>SE_Richeness</th><th scope=col>observed_Shannon</th><th scope=col>estimated_Shannon</th><th scope=col>SE_Shannon</th><th scope=col>observed_Simpson</th><th scope=col>estimated_Simpson</th><th scope=col>SE_Simpson</th><th scope=col>sample_id</th><th scope=col>basename</th><th scope=col>file</th></tr>\n",
       "\t<tr><th></th><th scope=col>&lt;int&gt;</th><th scope=col>&lt;int&gt;</th><th scope=col>&lt;dbl&gt;</th><th scope=col>&lt;dbl&gt;</th><th scope=col>&lt;dbl&gt;</th><th scope=col>&lt;int&gt;</th><th scope=col>&lt;int&gt;</th><th scope=col>&lt;int&gt;</th><th scope=col>&lt;dbl&gt;</th><th scope=col>&lt;dbl&gt;</th><th scope=col>...</th><th scope=col>&lt;dbl&gt;</th><th scope=col>&lt;dbl&gt;</th><th scope=col>&lt;dbl&gt;</th><th scope=col>&lt;dbl&gt;</th><th scope=col>&lt;dbl&gt;</th><th scope=col>&lt;dbl&gt;</th><th scope=col>&lt;dbl&gt;</th><th scope=col>&lt;chr&gt;</th><th scope=col>&lt;chr&gt;</th><th scope=col>&lt;chr&gt;</th></tr>\n",
       "</thead>\n",
       "<tbody>\n",
       "\t<tr><th scope=row>CHP_407-01_PBMC_DNA</th><td>376</td><td> 2065</td><td>182.0823245</td><td>   5.492021</td><td>0.7235782</td><td>  25</td><td>43</td><td>57</td><td>391.06694</td><td>0.9985318</td><td>...</td><td>10.5776306</td><td>296.625795</td><td>328.340127</td><td>4.82121497</td><td>247.015293</td><td>280.442163</td><td>6.77665004</td><td>CHP_407-01         </td><td>CHP_407-01_PBMC_DNA</td><td>batch11_23Apr2020/mixcr/clones/CLONES_TRBCHP_407-01_PBMC_DNA.txt   </td></tr>\n",
       "\t<tr><th scope=row>CHP_407-02_PBMC_DNA</th><td> 56</td><td> 1003</td><td> 55.8325025</td><td>  17.910714</td><td>0.8493668</td><td>  66</td><td> 5</td><td> 1</td><td> 60.11956</td><td>0.9966608</td><td>...</td><td> 9.6160107</td><td> 40.144620</td><td> 41.509305</td><td>0.91390958</td><td> 32.776496</td><td> 33.849983</td><td>1.02611973</td><td>CHP_407-02         </td><td>CHP_407-02_PBMC_DNA</td><td>batch11_23Apr2020/mixcr/clones/CLONES_TRBCHP_407-02_PBMC_DNA.txt   </td></tr>\n",
       "\t<tr><th scope=row>CHP_407-03_cfDNA</th><td>  4</td><td>  352</td><td> 11.3636364</td><td>  88.000000</td><td>1.7322745</td><td> 316</td><td> 1</td><td> 0</td><td>  4.00000</td><td>1.0000000</td><td>...</td><td> 0.5057732</td><td>  1.481101</td><td>  1.487815</td><td>0.05912977</td><td>  1.230549</td><td>  1.231358</td><td>0.03432500</td><td>CHP_407-03         </td><td>CHP_407-03_cfDNA   </td><td>batch11_cfDNA_11Sep2020/mixcr/clones/CLONES_TRBCHP_407-03_cfDNA.txt</td></tr>\n",
       "\t<tr><th scope=row>CHP_407-03__PBMC-DN</th><td> 33</td><td> 1149</td><td> 28.7206266</td><td>  34.818182</td><td>0.9278100</td><td> 157</td><td> 2</td><td> 0</td><td> 33.86391</td><td>0.9997648</td><td>...</td><td> 1.1807429</td><td> 23.868713</td><td> 24.224584</td><td>0.59816864</td><td> 17.986145</td><td> 18.256270</td><td>0.83346694</td><td>CHP_407-03__PBMC-DN</td><td>CHP_407-03__PBMC-DN</td><td>batch12_30Apr2021/mixcr/clones/CLONES_TRBCHP_407-03__PBMC-DN.txt   </td></tr>\n",
       "\t<tr><th scope=row>CHP_407-04-PBMC-DNA</th><td>569</td><td>69502</td><td>  8.1868148</td><td> 122.147627</td><td>0.7336426</td><td> 659</td><td> 9</td><td> 4</td><td>574.96243</td><td>0.9999468</td><td>...</td><td>12.3872679</td><td>440.987356</td><td>442.840531</td><td>1.04361494</td><td>370.132939</td><td>372.109282</td><td>1.63606502</td><td>CHP_407-04         </td><td>CHP_407-04-PBMC-DNA</td><td>batch13_26Aug2020/mixcr/clones/CLONES_TRBCHP_407-04-PBMC-DNA.txt   </td></tr>\n",
       "\t<tr><th scope=row>CHP_407-FFPE-DNA_S7</th><td>  5</td><td> 7275</td><td>  0.6872852</td><td>1455.000000</td><td>0.9496434</td><td>3048</td><td> 0</td><td> 0</td><td>  5.00000</td><td>1.0000000</td><td>...</td><td> 0.0000000</td><td>  3.243773</td><td>  3.244667</td><td>0.02276269</td><td>  2.904515</td><td>  2.905275</td><td>0.02163161</td><td>CHP_407-FFPE-DNA_S7</td><td>CHP_407-FFPE-DNA_S7</td><td>batchFFPE_3Apr2020/mixcr/clones/CLONES_TRBCHP_407-FFPE-DNA_S7.txt  </td></tr>\n",
       "</tbody>\n",
       "</table>\n"
      ],
      "text/latex": [
       "A data.frame: 6 x 22\n",
       "\\begin{tabular}{r|lllllllllllllllllllll}\n",
       "  & TRB & Reads & CPKR & Average\\_reads & VMR & Max\\_reads & Singletons & Doubletons & qD & Sample\\_Coverage & ... & SE\\_Richeness & observed\\_Shannon & estimated\\_Shannon & SE\\_Shannon & observed\\_Simpson & estimated\\_Simpson & SE\\_Simpson & sample\\_id & basename & file\\\\\n",
       "  & <int> & <int> & <dbl> & <dbl> & <dbl> & <int> & <int> & <int> & <dbl> & <dbl> & ... & <dbl> & <dbl> & <dbl> & <dbl> & <dbl> & <dbl> & <dbl> & <chr> & <chr> & <chr>\\\\\n",
       "\\hline\n",
       "\tCHP\\_407-01\\_PBMC\\_DNA & 376 &  2065 & 182.0823245 &    5.492021 & 0.7235782 &   25 & 43 & 57 & 391.06694 & 0.9985318 & ... & 10.5776306 & 296.625795 & 328.340127 & 4.82121497 & 247.015293 & 280.442163 & 6.77665004 & CHP\\_407-01          & CHP\\_407-01\\_PBMC\\_DNA & batch11\\_23Apr2020/mixcr/clones/CLONES\\_TRBCHP\\_407-01\\_PBMC\\_DNA.txt   \\\\\n",
       "\tCHP\\_407-02\\_PBMC\\_DNA &  56 &  1003 &  55.8325025 &   17.910714 & 0.8493668 &   66 &  5 &  1 &  60.11956 & 0.9966608 & ... &  9.6160107 &  40.144620 &  41.509305 & 0.91390958 &  32.776496 &  33.849983 & 1.02611973 & CHP\\_407-02          & CHP\\_407-02\\_PBMC\\_DNA & batch11\\_23Apr2020/mixcr/clones/CLONES\\_TRBCHP\\_407-02\\_PBMC\\_DNA.txt   \\\\\n",
       "\tCHP\\_407-03\\_cfDNA &   4 &   352 &  11.3636364 &   88.000000 & 1.7322745 &  316 &  1 &  0 &   4.00000 & 1.0000000 & ... &  0.5057732 &   1.481101 &   1.487815 & 0.05912977 &   1.230549 &   1.231358 & 0.03432500 & CHP\\_407-03          & CHP\\_407-03\\_cfDNA    & batch11\\_cfDNA\\_11Sep2020/mixcr/clones/CLONES\\_TRBCHP\\_407-03\\_cfDNA.txt\\\\\n",
       "\tCHP\\_407-03\\_\\_PBMC-DN &  33 &  1149 &  28.7206266 &   34.818182 & 0.9278100 &  157 &  2 &  0 &  33.86391 & 0.9997648 & ... &  1.1807429 &  23.868713 &  24.224584 & 0.59816864 &  17.986145 &  18.256270 & 0.83346694 & CHP\\_407-03\\_\\_PBMC-DN & CHP\\_407-03\\_\\_PBMC-DN & batch12\\_30Apr2021/mixcr/clones/CLONES\\_TRBCHP\\_407-03\\_\\_PBMC-DN.txt   \\\\\n",
       "\tCHP\\_407-04-PBMC-DNA & 569 & 69502 &   8.1868148 &  122.147627 & 0.7336426 &  659 &  9 &  4 & 574.96243 & 0.9999468 & ... & 12.3872679 & 440.987356 & 442.840531 & 1.04361494 & 370.132939 & 372.109282 & 1.63606502 & CHP\\_407-04          & CHP\\_407-04-PBMC-DNA & batch13\\_26Aug2020/mixcr/clones/CLONES\\_TRBCHP\\_407-04-PBMC-DNA.txt   \\\\\n",
       "\tCHP\\_407-FFPE-DNA\\_S7 &   5 &  7275 &   0.6872852 & 1455.000000 & 0.9496434 & 3048 &  0 &  0 &   5.00000 & 1.0000000 & ... &  0.0000000 &   3.243773 &   3.244667 & 0.02276269 &   2.904515 &   2.905275 & 0.02163161 & CHP\\_407-FFPE-DNA\\_S7 & CHP\\_407-FFPE-DNA\\_S7 & batchFFPE\\_3Apr2020/mixcr/clones/CLONES\\_TRBCHP\\_407-FFPE-DNA\\_S7.txt  \\\\\n",
       "\\end{tabular}\n"
      ],
      "text/markdown": [
       "\n",
       "A data.frame: 6 x 22\n",
       "\n",
       "| <!--/--> | TRB &lt;int&gt; | Reads &lt;int&gt; | CPKR &lt;dbl&gt; | Average_reads &lt;dbl&gt; | VMR &lt;dbl&gt; | Max_reads &lt;int&gt; | Singletons &lt;int&gt; | Doubletons &lt;int&gt; | qD &lt;dbl&gt; | Sample_Coverage &lt;dbl&gt; | ... ... | SE_Richeness &lt;dbl&gt; | observed_Shannon &lt;dbl&gt; | estimated_Shannon &lt;dbl&gt; | SE_Shannon &lt;dbl&gt; | observed_Simpson &lt;dbl&gt; | estimated_Simpson &lt;dbl&gt; | SE_Simpson &lt;dbl&gt; | sample_id &lt;chr&gt; | basename &lt;chr&gt; | file &lt;chr&gt; |\n",
       "|---|---|---|---|---|---|---|---|---|---|---|---|---|---|---|---|---|---|---|---|---|---|\n",
       "| CHP_407-01_PBMC_DNA | 376 |  2065 | 182.0823245 |    5.492021 | 0.7235782 |   25 | 43 | 57 | 391.06694 | 0.9985318 | ... | 10.5776306 | 296.625795 | 328.340127 | 4.82121497 | 247.015293 | 280.442163 | 6.77665004 | CHP_407-01          | CHP_407-01_PBMC_DNA | batch11_23Apr2020/mixcr/clones/CLONES_TRBCHP_407-01_PBMC_DNA.txt    |\n",
       "| CHP_407-02_PBMC_DNA |  56 |  1003 |  55.8325025 |   17.910714 | 0.8493668 |   66 |  5 |  1 |  60.11956 | 0.9966608 | ... |  9.6160107 |  40.144620 |  41.509305 | 0.91390958 |  32.776496 |  33.849983 | 1.02611973 | CHP_407-02          | CHP_407-02_PBMC_DNA | batch11_23Apr2020/mixcr/clones/CLONES_TRBCHP_407-02_PBMC_DNA.txt    |\n",
       "| CHP_407-03_cfDNA |   4 |   352 |  11.3636364 |   88.000000 | 1.7322745 |  316 |  1 |  0 |   4.00000 | 1.0000000 | ... |  0.5057732 |   1.481101 |   1.487815 | 0.05912977 |   1.230549 |   1.231358 | 0.03432500 | CHP_407-03          | CHP_407-03_cfDNA    | batch11_cfDNA_11Sep2020/mixcr/clones/CLONES_TRBCHP_407-03_cfDNA.txt |\n",
       "| CHP_407-03__PBMC-DN |  33 |  1149 |  28.7206266 |   34.818182 | 0.9278100 |  157 |  2 |  0 |  33.86391 | 0.9997648 | ... |  1.1807429 |  23.868713 |  24.224584 | 0.59816864 |  17.986145 |  18.256270 | 0.83346694 | CHP_407-03__PBMC-DN | CHP_407-03__PBMC-DN | batch12_30Apr2021/mixcr/clones/CLONES_TRBCHP_407-03__PBMC-DN.txt    |\n",
       "| CHP_407-04-PBMC-DNA | 569 | 69502 |   8.1868148 |  122.147627 | 0.7336426 |  659 |  9 |  4 | 574.96243 | 0.9999468 | ... | 12.3872679 | 440.987356 | 442.840531 | 1.04361494 | 370.132939 | 372.109282 | 1.63606502 | CHP_407-04          | CHP_407-04-PBMC-DNA | batch13_26Aug2020/mixcr/clones/CLONES_TRBCHP_407-04-PBMC-DNA.txt    |\n",
       "| CHP_407-FFPE-DNA_S7 |   5 |  7275 |   0.6872852 | 1455.000000 | 0.9496434 | 3048 |  0 |  0 |   5.00000 | 1.0000000 | ... |  0.0000000 |   3.243773 |   3.244667 | 0.02276269 |   2.904515 |   2.905275 | 0.02163161 | CHP_407-FFPE-DNA_S7 | CHP_407-FFPE-DNA_S7 | batchFFPE_3Apr2020/mixcr/clones/CLONES_TRBCHP_407-FFPE-DNA_S7.txt   |\n",
       "\n"
      ],
      "text/plain": [
       "                    TRB Reads CPKR        Average_reads VMR       Max_reads\n",
       "CHP_407-01_PBMC_DNA 376  2065 182.0823245    5.492021   0.7235782   25     \n",
       "CHP_407-02_PBMC_DNA  56  1003  55.8325025   17.910714   0.8493668   66     \n",
       "CHP_407-03_cfDNA      4   352  11.3636364   88.000000   1.7322745  316     \n",
       "CHP_407-03__PBMC-DN  33  1149  28.7206266   34.818182   0.9278100  157     \n",
       "CHP_407-04-PBMC-DNA 569 69502   8.1868148  122.147627   0.7336426  659     \n",
       "CHP_407-FFPE-DNA_S7   5  7275   0.6872852 1455.000000   0.9496434 3048     \n",
       "                    Singletons Doubletons qD        Sample_Coverage ...\n",
       "CHP_407-01_PBMC_DNA 43         57         391.06694 0.9985318       ...\n",
       "CHP_407-02_PBMC_DNA  5          1          60.11956 0.9966608       ...\n",
       "CHP_407-03_cfDNA     1          0           4.00000 1.0000000       ...\n",
       "CHP_407-03__PBMC-DN  2          0          33.86391 0.9997648       ...\n",
       "CHP_407-04-PBMC-DNA  9          4         574.96243 0.9999468       ...\n",
       "CHP_407-FFPE-DNA_S7  0          0           5.00000 1.0000000       ...\n",
       "                    SE_Richeness observed_Shannon estimated_Shannon SE_Shannon\n",
       "CHP_407-01_PBMC_DNA 10.5776306   296.625795       328.340127        4.82121497\n",
       "CHP_407-02_PBMC_DNA  9.6160107    40.144620        41.509305        0.91390958\n",
       "CHP_407-03_cfDNA     0.5057732     1.481101         1.487815        0.05912977\n",
       "CHP_407-03__PBMC-DN  1.1807429    23.868713        24.224584        0.59816864\n",
       "CHP_407-04-PBMC-DNA 12.3872679   440.987356       442.840531        1.04361494\n",
       "CHP_407-FFPE-DNA_S7  0.0000000     3.243773         3.244667        0.02276269\n",
       "                    observed_Simpson estimated_Simpson SE_Simpson\n",
       "CHP_407-01_PBMC_DNA 247.015293       280.442163        6.77665004\n",
       "CHP_407-02_PBMC_DNA  32.776496        33.849983        1.02611973\n",
       "CHP_407-03_cfDNA      1.230549         1.231358        0.03432500\n",
       "CHP_407-03__PBMC-DN  17.986145        18.256270        0.83346694\n",
       "CHP_407-04-PBMC-DNA 370.132939       372.109282        1.63606502\n",
       "CHP_407-FFPE-DNA_S7   2.904515         2.905275        0.02163161\n",
       "                    sample_id           basename           \n",
       "CHP_407-01_PBMC_DNA CHP_407-01          CHP_407-01_PBMC_DNA\n",
       "CHP_407-02_PBMC_DNA CHP_407-02          CHP_407-02_PBMC_DNA\n",
       "CHP_407-03_cfDNA    CHP_407-03          CHP_407-03_cfDNA   \n",
       "CHP_407-03__PBMC-DN CHP_407-03__PBMC-DN CHP_407-03__PBMC-DN\n",
       "CHP_407-04-PBMC-DNA CHP_407-04          CHP_407-04-PBMC-DNA\n",
       "CHP_407-FFPE-DNA_S7 CHP_407-FFPE-DNA_S7 CHP_407-FFPE-DNA_S7\n",
       "                    file                                                               \n",
       "CHP_407-01_PBMC_DNA batch11_23Apr2020/mixcr/clones/CLONES_TRBCHP_407-01_PBMC_DNA.txt   \n",
       "CHP_407-02_PBMC_DNA batch11_23Apr2020/mixcr/clones/CLONES_TRBCHP_407-02_PBMC_DNA.txt   \n",
       "CHP_407-03_cfDNA    batch11_cfDNA_11Sep2020/mixcr/clones/CLONES_TRBCHP_407-03_cfDNA.txt\n",
       "CHP_407-03__PBMC-DN batch12_30Apr2021/mixcr/clones/CLONES_TRBCHP_407-03__PBMC-DN.txt   \n",
       "CHP_407-04-PBMC-DNA batch13_26Aug2020/mixcr/clones/CLONES_TRBCHP_407-04-PBMC-DNA.txt   \n",
       "CHP_407-FFPE-DNA_S7 batchFFPE_3Apr2020/mixcr/clones/CLONES_TRBCHP_407-FFPE-DNA_S7.txt  "
      ]
     },
     "metadata": {},
     "output_type": "display_data"
    }
   ],
   "source": [
    "head(divstats[grepl(\"CHP_407\", divstats$sample_id),])"
   ]
  },
  {
   "cell_type": "code",
   "execution_count": 19,
   "metadata": {
    "vscode": {
     "languageId": "r"
    }
   },
   "outputs": [
    {
     "data": {
      "text/html": [
       "<table class=\"dataframe\">\n",
       "<caption>A data.frame: 6 x 3</caption>\n",
       "<thead>\n",
       "\t<tr><th></th><th scope=col>file_list</th><th scope=col>samplename</th><th scope=col>size</th></tr>\n",
       "\t<tr><th></th><th scope=col>&lt;chr&gt;</th><th scope=col>&lt;chr&gt;</th><th scope=col>&lt;dbl&gt;</th></tr>\n",
       "</thead>\n",
       "<tbody>\n",
       "\t<tr><th scope=row>104</th><td>batch11_23Apr2020/mixcr/clones/CLONES_TRBCHP_407-01_PBMC_DNA.txt   </td><td>CHP_407-01_PBMC_DNA</td><td>229053</td></tr>\n",
       "\t<tr><th scope=row>105</th><td>batch11_23Apr2020/mixcr/clones/CLONES_TRBCHP_407-02_PBMC_DNA.txt   </td><td>CHP_407-02_PBMC_DNA</td><td> 34942</td></tr>\n",
       "\t<tr><th scope=row>124</th><td>batch11_cfDNA_11Sep2020/mixcr/clones/CLONES_TRBCHP_407-03_cfDNA.txt</td><td>CHP_407-03_cfDNA   </td><td>  3563</td></tr>\n",
       "\t<tr><th scope=row>139</th><td>batch12_30Apr2021/mixcr/clones/CLONES_TRBCHP_407-03__PBMC-DN.txt   </td><td>CHP_407-03__PBMC-DN</td><td> 21493</td></tr>\n",
       "\t<tr><th scope=row>161</th><td>batch13_26Aug2020/mixcr/clones/CLONES_TRBCHP_407-04-PBMC-DNA.txt   </td><td>CHP_407-04-PBMC-DNA</td><td>319668</td></tr>\n",
       "\t<tr><th scope=row>407</th><td>batchFFPE_3Apr2020/mixcr/clones/CLONES_TRBCHP_407-FFPE-DNA_S7.txt  </td><td>CHP_407-FFPE-DNA_S7</td><td>  2682</td></tr>\n",
       "</tbody>\n",
       "</table>\n"
      ],
      "text/latex": [
       "A data.frame: 6 x 3\n",
       "\\begin{tabular}{r|lll}\n",
       "  & file\\_list & samplename & size\\\\\n",
       "  & <chr> & <chr> & <dbl>\\\\\n",
       "\\hline\n",
       "\t104 & batch11\\_23Apr2020/mixcr/clones/CLONES\\_TRBCHP\\_407-01\\_PBMC\\_DNA.txt    & CHP\\_407-01\\_PBMC\\_DNA & 229053\\\\\n",
       "\t105 & batch11\\_23Apr2020/mixcr/clones/CLONES\\_TRBCHP\\_407-02\\_PBMC\\_DNA.txt    & CHP\\_407-02\\_PBMC\\_DNA &  34942\\\\\n",
       "\t124 & batch11\\_cfDNA\\_11Sep2020/mixcr/clones/CLONES\\_TRBCHP\\_407-03\\_cfDNA.txt & CHP\\_407-03\\_cfDNA    &   3563\\\\\n",
       "\t139 & batch12\\_30Apr2021/mixcr/clones/CLONES\\_TRBCHP\\_407-03\\_\\_PBMC-DN.txt    & CHP\\_407-03\\_\\_PBMC-DN &  21493\\\\\n",
       "\t161 & batch13\\_26Aug2020/mixcr/clones/CLONES\\_TRBCHP\\_407-04-PBMC-DNA.txt    & CHP\\_407-04-PBMC-DNA & 319668\\\\\n",
       "\t407 & batchFFPE\\_3Apr2020/mixcr/clones/CLONES\\_TRBCHP\\_407-FFPE-DNA\\_S7.txt   & CHP\\_407-FFPE-DNA\\_S7 &   2682\\\\\n",
       "\\end{tabular}\n"
      ],
      "text/markdown": [
       "\n",
       "A data.frame: 6 x 3\n",
       "\n",
       "| <!--/--> | file_list &lt;chr&gt; | samplename &lt;chr&gt; | size &lt;dbl&gt; |\n",
       "|---|---|---|---|\n",
       "| 104 | batch11_23Apr2020/mixcr/clones/CLONES_TRBCHP_407-01_PBMC_DNA.txt    | CHP_407-01_PBMC_DNA | 229053 |\n",
       "| 105 | batch11_23Apr2020/mixcr/clones/CLONES_TRBCHP_407-02_PBMC_DNA.txt    | CHP_407-02_PBMC_DNA |  34942 |\n",
       "| 124 | batch11_cfDNA_11Sep2020/mixcr/clones/CLONES_TRBCHP_407-03_cfDNA.txt | CHP_407-03_cfDNA    |   3563 |\n",
       "| 139 | batch12_30Apr2021/mixcr/clones/CLONES_TRBCHP_407-03__PBMC-DN.txt    | CHP_407-03__PBMC-DN |  21493 |\n",
       "| 161 | batch13_26Aug2020/mixcr/clones/CLONES_TRBCHP_407-04-PBMC-DNA.txt    | CHP_407-04-PBMC-DNA | 319668 |\n",
       "| 407 | batchFFPE_3Apr2020/mixcr/clones/CLONES_TRBCHP_407-FFPE-DNA_S7.txt   | CHP_407-FFPE-DNA_S7 |   2682 |\n",
       "\n"
      ],
      "text/plain": [
       "    file_list                                                          \n",
       "104 batch11_23Apr2020/mixcr/clones/CLONES_TRBCHP_407-01_PBMC_DNA.txt   \n",
       "105 batch11_23Apr2020/mixcr/clones/CLONES_TRBCHP_407-02_PBMC_DNA.txt   \n",
       "124 batch11_cfDNA_11Sep2020/mixcr/clones/CLONES_TRBCHP_407-03_cfDNA.txt\n",
       "139 batch12_30Apr2021/mixcr/clones/CLONES_TRBCHP_407-03__PBMC-DN.txt   \n",
       "161 batch13_26Aug2020/mixcr/clones/CLONES_TRBCHP_407-04-PBMC-DNA.txt   \n",
       "407 batchFFPE_3Apr2020/mixcr/clones/CLONES_TRBCHP_407-FFPE-DNA_S7.txt  \n",
       "    samplename          size  \n",
       "104 CHP_407-01_PBMC_DNA 229053\n",
       "105 CHP_407-02_PBMC_DNA  34942\n",
       "124 CHP_407-03_cfDNA      3563\n",
       "139 CHP_407-03__PBMC-DN  21493\n",
       "161 CHP_407-04-PBMC-DNA 319668\n",
       "407 CHP_407-FFPE-DNA_S7   2682"
      ]
     },
     "metadata": {},
     "output_type": "display_data"
    }
   ],
   "source": [
    "head(myfilenames[grepl(\"CHP_407\", myfilenames$samplename),])"
   ]
  },
  {
   "cell_type": "code",
   "execution_count": 20,
   "metadata": {
    "vscode": {
     "languageId": "r"
    }
   },
   "outputs": [],
   "source": [
    "# Fix sample_id for CHP_407-03__PBMC-DN (double underscore issue)\n",
    "divstats$sample_id <- gsub(\"__PBMC-DN$\", \"\", divstats$sample_id)\n",
    "divstats$sample_id <- gsub(\"_-PBMC-DN$\", \"\", divstats$sample_id)\n"
   ]
  },
  {
   "cell_type": "code",
   "execution_count": 21,
   "metadata": {
    "vscode": {
     "languageId": "r"
    }
   },
   "outputs": [],
   "source": [
    "divstats$sample_id <- gsub(\"[-_]$\", \"\", divstats$sample_id)"
   ]
  },
  {
   "attachments": {},
   "cell_type": "markdown",
   "metadata": {},
   "source": [
    "Separate samples"
   ]
  },
  {
   "cell_type": "code",
   "execution_count": 22,
   "metadata": {
    "vscode": {
     "languageId": "r"
    }
   },
   "outputs": [],
   "source": [
    "#divstats$Sample <- NULL"
   ]
  },
  {
   "cell_type": "code",
   "execution_count": 23,
   "metadata": {
    "vscode": {
     "languageId": "r"
    }
   },
   "outputs": [],
   "source": [
    "divstats$Sample <- NA\n",
    "divstats$Sample[grepl(\"PBMC\", rownames(divstats))] <- \"PBMC\"\n",
    "divstats$Sample[grepl(\"cfDNA\", rownames(divstats))] <- \"cfDNA\"\n",
    "divstats$Sample[grepl(\"FFPE\", rownames(divstats))] <- \"Tumor\""
   ]
  },
  {
   "attachments": {},
   "cell_type": "markdown",
   "metadata": {},
   "source": [
    "Separate LFS and non-LFS"
   ]
  },
  {
   "cell_type": "code",
   "execution_count": 24,
   "metadata": {
    "vscode": {
     "languageId": "r"
    }
   },
   "outputs": [],
   "source": [
    "divstats$Group <- NA\n",
    "divstats$Group[grepl(\"LFS\", rownames(divstats))] <- \"LFS\"\n",
    "divstats$Group[grepl(\"CHP\", rownames(divstats))] <- \"CHP\""
   ]
  },
  {
   "cell_type": "code",
   "execution_count": 25,
   "metadata": {
    "vscode": {
     "languageId": "r"
    }
   },
   "outputs": [
    {
     "data": {
      "text/plain": [
       "    Min.  1st Qu.   Median     Mean  3rd Qu.     Max.     NA's \n",
       "     1.0    841.8   3076.0  18632.0  12587.8 363060.0        9 "
      ]
     },
     "metadata": {},
     "output_type": "display_data"
    }
   ],
   "source": [
    "summary(divstats$Reads)"
   ]
  },
  {
   "attachments": {},
   "cell_type": "markdown",
   "metadata": {},
   "source": [
    "Get patient ids"
   ]
  },
  {
   "cell_type": "code",
   "execution_count": 26,
   "metadata": {
    "vscode": {
     "languageId": "r"
    }
   },
   "outputs": [],
   "source": [
    "divstats$Patient <- NA\n",
    "# CHP\n",
    "divstats$Patient[divstats$Group == \"CHP\"] <- substr(rownames(divstats)[divstats$Group == \"CHP\"],1,7)\n",
    "# Normal samples have either YO or MO\n",
    "divstats$Patient[grepl(\"YO\", rownames(divstats))] <- gsub(\"_PBMC_DNA\", \"\", rownames(divstats)[grepl(\"YO\", rownames(divstats))])\n",
    "divstats$Patient[grepl(\"MO\", rownames(divstats))] <- gsub(\"_PBMC_DNA\", \"\", rownames(divstats)[grepl(\"MO\", rownames(divstats))])\n",
    "# LFS\n",
    "divstats$Patient[divstats$Group == \"LFS\"] <- substr(rownames(divstats)[divstats$Group == \"LFS\"],1,12)"
   ]
  },
  {
   "attachments": {},
   "cell_type": "markdown",
   "metadata": {},
   "source": [
    "Get cycles. For LFS, Normals and Tumors recode to 00"
   ]
  },
  {
   "cell_type": "code",
   "execution_count": 27,
   "metadata": {
    "vscode": {
     "languageId": "r"
    }
   },
   "outputs": [],
   "source": [
    "divstats$Cycle <- NA\n",
    "divstats$Cycle[divstats$Group == \"CHP\"] <- substr(rownames(divstats)[divstats$Group == \"CHP\"],9,10)\n",
    "divstats$Cycle[grepl(\"YO\", rownames(divstats))] <- \"00\"\n",
    "divstats$Cycle[grepl(\"MO\", rownames(divstats))] <- \"00\"\n",
    "divstats$Cycle[ divstats$Sample == \"Tumor\"] <- \"00\"\n",
    "divstats$Cycle[ divstats$Group == \"LFS\"] <- \"00\""
   ]
  },
  {
   "cell_type": "code",
   "execution_count": 28,
   "metadata": {
    "vscode": {
     "languageId": "r"
    }
   },
   "outputs": [],
   "source": [
    "divstats$sample_id <- NA\n",
    "\n",
    "# bind patient and cycle for PBMC and cfdna to generate sample id\n",
    "divstats$sample_id[divstats$Sample != \"Tumor\"] <- paste(divstats$Patient[divstats$Sample != \"Tumor\"], \"_\",\n",
    "    divstats$Cycle[divstats$Sample != \"Tumor\"],\n",
    "    sep = \"\"\n",
    ")\n",
    "\n",
    "# For tumor samples start with rownames because some of them are two biopsies from the same tumor\n",
    "divstats$sample_id[divstats$Sample == \"Tumor\"] <- gsub(\"-FFPE-DN.*\", \"\", rownames(divstats)[divstats$Sample == \"Tumor\"])\n"
   ]
  },
  {
   "cell_type": "code",
   "execution_count": 29,
   "metadata": {
    "vscode": {
     "languageId": "r"
    }
   },
   "outputs": [],
   "source": [
    "divstats$sample_id <- gsub(\"-\", \"_\", divstats$sample_id)"
   ]
  },
  {
   "cell_type": "code",
   "execution_count": 30,
   "metadata": {
    "vscode": {
     "languageId": "r"
    }
   },
   "outputs": [],
   "source": [
    "divstats$Patient <- NULL\n",
    "divstats$Cycle <- NULL\n",
    "divstats$Sample <- NULL\n",
    "divstats$Group <- NULL"
   ]
  },
  {
   "cell_type": "code",
   "execution_count": 31,
   "metadata": {
    "vscode": {
     "languageId": "r"
    }
   },
   "outputs": [],
   "source": [
    "write.csv(divstats,\n",
    "    paste0(datapath, \"capTCRseq/divstats_TRBCHP_updated_corrected.csv\"),\n",
    "    row.names = TRUE\n",
    ")"
   ]
  },
  {
   "cell_type": "code",
   "execution_count": null,
   "metadata": {
    "vscode": {
     "languageId": "r"
    }
   },
   "outputs": [],
   "source": []
  }
 ],
 "metadata": {
  "kernelspec": {
   "display_name": "R 4.0",
   "language": "R",
   "name": "ir40"
  },
  "language_info": {
   "codemirror_mode": "r",
   "file_extension": ".r",
   "mimetype": "text/x-r-source",
   "name": "R",
   "pygments_lexer": "r",
   "version": "4.2.2"
  },
  "toc": {
   "base_numbering": 1,
   "nav_menu": {},
   "number_sections": false,
   "sideBar": true,
   "skip_h1_title": false,
   "title_cell": "Table of Contents",
   "title_sidebar": "Contents",
   "toc_cell": true,
   "toc_position": {
    "height": "calc(100% - 180px)",
    "left": "10px",
    "top": "150px",
    "width": "206.5px"
   },
   "toc_section_display": true,
   "toc_window_display": true
  }
 },
 "nbformat": 4,
 "nbformat_minor": 2
}

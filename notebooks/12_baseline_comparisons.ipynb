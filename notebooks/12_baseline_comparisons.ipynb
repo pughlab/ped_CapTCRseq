{
 "cells": [
  {
   "cell_type": "code",
   "execution_count": null,
   "metadata": {
    "vscode": {
     "languageId": "r"
    }
   },
   "outputs": [],
   "source": [
    "Sys.setlocale(category = \"LC_ALL\", locale = \"en_US.UTF-8\")"
   ]
  },
  {
   "attachments": {},
   "cell_type": "markdown",
   "metadata": {},
   "source": [
    "# Dependencies"
   ]
  },
  {
   "cell_type": "code",
   "execution_count": null,
   "metadata": {
    "vscode": {
     "languageId": "r"
    }
   },
   "outputs": [],
   "source": [
    "pacman::p_load(dplyr, ggplot2, ggbeeswarm, ggpubr, ggsignif, cowplot, ggdist)"
   ]
  },
  {
   "attachments": {},
   "cell_type": "markdown",
   "metadata": {},
   "source": [
    "# Functions"
   ]
  },
  {
   "cell_type": "code",
   "execution_count": null,
   "metadata": {
    "vscode": {
     "languageId": "r"
    }
   },
   "outputs": [],
   "source": [
    "source(\"/Users/anabbi/git/ped_CapTCRseq/R/ggplot2_theme.R\")\n",
    "source(\"/Users/anabbi/git/ped_CapTCRseq/R/color_schemes.R\")\n",
    "source(\"/Users/anabbi/git/ped_CapTCRseq/R/Misc_functions.R\")\n",
    "source(\"/Users/anabbi/git/ped_CapTCRseq/R/Plotting_functions.R\")"
   ]
  },
  {
   "cell_type": "code",
   "execution_count": null,
   "metadata": {
    "vscode": {
     "languageId": "r"
    }
   },
   "outputs": [],
   "source": [
    "baseraincloud_plot.fx <- function(mydf, yvar, xvar, fillvar, colpal, \n",
    "scaledots = 0.5, justdots= 1.2, scaleslab= 0.5, justslab= -0.2, adjustslab= 0.5, binwidth. = unit(0.01, \"npc\") ) {\n",
    "    p0 <- ggplot(data = mydf, aes(x = eval(parse(text = xvar)), y = eval(parse(text = yvar)), fill = eval(parse(text = fillvar))))  +\n",
    "    geom_dots(side = \"left\", scale = scaledots, justification = justdots, color = \"transparent\", overlaps = \"nudge\", binwidth = binwidth.) +\n",
    "        stat_slab(scale = scaleslab, adjust = adjustslab, justification = justslab) +\n",
    "        geom_boxplot(width = 0.2, outlier.shape = NA, alpha = 0.5) +\n",
    "        scale_fill_manual(values = colpal) +\n",
    "        myaxis +\n",
    "        myplot +\n",
    "        theme(legend.position = \"none\") + scale_y_continuous(limits = c(0, 110), breaks = c(0, 25, 50, 75, 100)) +\n",
    "        labs(x = \"\", y = gsub(\"`\", \"\", yvar))\n",
    "    return(p0)\n",
    "}\n"
   ]
  },
  {
   "attachments": {},
   "cell_type": "markdown",
   "metadata": {},
   "source": [
    "# Paths"
   ]
  },
  {
   "cell_type": "code",
   "execution_count": null,
   "metadata": {
    "vscode": {
     "languageId": "r"
    }
   },
   "outputs": [],
   "source": [
    "datapath <- \"/Users/anabbi/OneDrive - UHN/Documents/INTERCEPT/Data/\"\n",
    "plotpath <- \"/Users/anabbi/OneDrive - UHN/Documents/INTERCEPT/Plots/\"\n",
    "manifestpath <- \"/Users/anabbi/OneDrive - UHN/Documents/INTERCEPT/Manifests/\"\n",
    "gitpath <- \"/Users/anabbi/git/ped_CapTCRseq/\""
   ]
  },
  {
   "cell_type": "code",
   "execution_count": null,
   "metadata": {
    "vscode": {
     "languageId": "r"
    }
   },
   "outputs": [],
   "source": [
    "h4hpath <- \"/Users/anabbi/Desktop/H4H/INTERCEPT/\""
   ]
  },
  {
   "attachments": {},
   "cell_type": "markdown",
   "metadata": {},
   "source": [
    "# Main"
   ]
  },
  {
   "cell_type": "code",
   "execution_count": null,
   "metadata": {
    "vscode": {
     "languageId": "r"
    }
   },
   "outputs": [],
   "source": [
    "meta_div <- readr::read_rds(paste0(datapath, \"capTCRseq/meta_div_goodsamples.rds\"))"
   ]
  },
  {
   "cell_type": "code",
   "execution_count": null,
   "metadata": {
    "vscode": {
     "languageId": "r"
    }
   },
   "outputs": [],
   "source": [
    "table(meta_div$Patient[meta_div$Disease_type == \"NB\"])"
   ]
  },
  {
   "cell_type": "code",
   "execution_count": null,
   "metadata": {
    "vscode": {
     "languageId": "r"
    }
   },
   "outputs": [],
   "source": [
    "meta_div <- meta_div[ !is.na(meta_div$CD3), ]"
   ]
  },
  {
   "cell_type": "code",
   "execution_count": null,
   "metadata": {
    "vscode": {
     "languageId": "r"
    }
   },
   "outputs": [],
   "source": [
    "meta_div <- meta_div[ meta_div$cancergroup != \"Normal\", ]\n",
    "meta_div <- meta_div[ meta_div$cancergroup != \"LFS\", ]"
   ]
  },
  {
   "attachments": {},
   "cell_type": "markdown",
   "metadata": {},
   "source": [
    "Exclude T-ALLs"
   ]
  },
  {
   "cell_type": "code",
   "execution_count": null,
   "metadata": {
    "vscode": {
     "languageId": "r"
    }
   },
   "outputs": [],
   "source": [
    "table(meta_div$cancergroup)"
   ]
  },
  {
   "cell_type": "code",
   "execution_count": null,
   "metadata": {
    "vscode": {
     "languageId": "r"
    }
   },
   "outputs": [],
   "source": [
    "meta_div <- meta_div[ meta_div$cancergroup != \"T-cell malignancies\", ]"
   ]
  },
  {
   "cell_type": "code",
   "execution_count": null,
   "metadata": {
    "vscode": {
     "languageId": "r"
    }
   },
   "outputs": [],
   "source": [
    "pbmc <- meta_div[ which(meta_div$sampletype == \"PBMC\"),]"
   ]
  },
  {
   "cell_type": "code",
   "execution_count": null,
   "metadata": {
    "vscode": {
     "languageId": "r"
    }
   },
   "outputs": [],
   "source": [
    "dim(pbmc)"
   ]
  },
  {
   "cell_type": "code",
   "execution_count": null,
   "metadata": {
    "vscode": {
     "languageId": "r"
    }
   },
   "outputs": [],
   "source": [
    "pbmc <- pbmc[ pbmc$CD3 > 0,]"
   ]
  },
  {
   "cell_type": "markdown",
   "metadata": {},
   "source": [
    "## Rainclouds across groups"
   ]
  },
  {
   "cell_type": "code",
   "execution_count": null,
   "metadata": {
    "vscode": {
     "languageId": "r"
    }
   },
   "outputs": [],
   "source": [
    "pbmc_01 <- pbmc[pbmc$cycle == \"X01\",]"
   ]
  },
  {
   "cell_type": "code",
   "execution_count": null,
   "metadata": {
    "vscode": {
     "languageId": "r"
    }
   },
   "outputs": [],
   "source": [
    "pbmc_01[ pbmc_01$Disease_type == \"OS\", c(\"PD1%\", \"CM%\",\"Naïve%\",\"TE%\",\"SCM%\",\"EM%\", \"sample_id\")]"
   ]
  },
  {
   "cell_type": "markdown",
   "metadata": {},
   "source": [
    "Naive"
   ]
  },
  {
   "cell_type": "code",
   "execution_count": null,
   "metadata": {
    "vscode": {
     "languageId": "r"
    }
   },
   "outputs": [],
   "source": [
    "p0 <- baseraincloud_plot.fx(pbmc_01, \"`Naïve%`\", \"cancergroup\", \"cancergroup\", group_col, \n",
    "scaledots = 0.5, justdots= 1.2, scaleslab= 0.5, justslab= -0.2 , adjustslab= 0.5, binwidth. = 2 )  \n",
    "#0.5,1.2,0.5,-0.2,0.5, NA) "
   ]
  },
  {
   "cell_type": "code",
   "execution_count": null,
   "metadata": {
    "vscode": {
     "languageId": "r"
    }
   },
   "outputs": [],
   "source": [
    "p0"
   ]
  },
  {
   "cell_type": "code",
   "execution_count": null,
   "metadata": {
    "vscode": {
     "languageId": "r"
    }
   },
   "outputs": [],
   "source": [
    "tapply(pbmc_01$`Naïve%`, pbmc_01$cancergroup, summary)"
   ]
  },
  {
   "cell_type": "code",
   "execution_count": null,
   "metadata": {
    "vscode": {
     "languageId": "r"
    }
   },
   "outputs": [],
   "source": [
    "mytest <- \"Naïve%\"\n",
    "ks.test(pbmc_01[[mytest]][ which(pbmc_01$cancergroup == \"Solid tumors\")], pbmc_01[[mytest]][ which(pbmc_01$cancergroup == \"Leukemia\")])$p.value\n",
    "ks.test(pbmc_01[[mytest]][ which(pbmc_01$cancergroup == \"Solid tumors\")], pbmc_01[[mytest]][ which(pbmc_01$cancergroup == \"Lymphoma\")])$p.value\n",
    "ks.test(pbmc_01[[mytest]][ which(pbmc_01$cancergroup == \"Lymphoma\")], pbmc_01[[mytest]][ which(pbmc_01$cancergroup == \"Leukemia\")])$p.value"
   ]
  },
  {
   "cell_type": "code",
   "execution_count": null,
   "metadata": {
    "vscode": {
     "languageId": "r"
    }
   },
   "outputs": [],
   "source": [
    "mypval <- ks.test(pbmc_01[[mytest]][ which(pbmc_01$cancergroup == \"Solid tumors\")], pbmc_01[[mytest]][ which(pbmc_01$cancergroup == \"Leukemia\")])$p.value"
   ]
  },
  {
   "cell_type": "code",
   "execution_count": null,
   "metadata": {
    "vscode": {
     "languageId": "r"
    }
   },
   "outputs": [],
   "source": [
    "mypval <- round_and_format(mypval)"
   ]
  },
  {
   "cell_type": "code",
   "execution_count": null,
   "metadata": {
    "vscode": {
     "languageId": "r"
    }
   },
   "outputs": [],
   "source": [
    "mypval"
   ]
  },
  {
   "cell_type": "code",
   "execution_count": null,
   "metadata": {
    "vscode": {
     "languageId": "r"
    }
   },
   "outputs": [],
   "source": [
    "p0_stat <- p0 + geom_signif(\n",
    "    y_position = 100, xmin = 1, xmax = 3,\n",
    "    annotation = paste0(\"p = \",mypval), tip_length = 0.01, textsize = 5\n",
    "  ) + ggtitle(expression(underline(\"Naïve%\") ))"
   ]
  },
  {
   "cell_type": "code",
   "execution_count": null,
   "metadata": {
    "vscode": {
     "languageId": "r"
    }
   },
   "outputs": [],
   "source": [
    "p0_stat"
   ]
  },
  {
   "cell_type": "code",
   "execution_count": null,
   "metadata": {
    "vscode": {
     "languageId": "r"
    }
   },
   "outputs": [],
   "source": [
    "# pdf(paste0(plotpath, \"rainclouds_Naive_X01.pdf\"), width = 4, height = 6)\n",
    "# p0_stat\n",
    "# dev.off()"
   ]
  },
  {
   "cell_type": "markdown",
   "metadata": {},
   "source": [
    "CM"
   ]
  },
  {
   "cell_type": "code",
   "execution_count": null,
   "metadata": {
    "vscode": {
     "languageId": "r"
    }
   },
   "outputs": [],
   "source": [
    "p1 <- baseraincloud_plot.fx(pbmc_01, \"`CM%`\", \"cancergroup\", \"cancergroup\", group_col, \n",
    "scaledots = 0.5, justdots= 1.2, scaleslab= 0.5, justslab= -0.2 , adjustslab= 0.5, binwidth. = 2 )  "
   ]
  },
  {
   "cell_type": "code",
   "execution_count": null,
   "metadata": {
    "vscode": {
     "languageId": "r"
    }
   },
   "outputs": [],
   "source": [
    "p1"
   ]
  },
  {
   "cell_type": "code",
   "execution_count": null,
   "metadata": {
    "vscode": {
     "languageId": "r"
    }
   },
   "outputs": [],
   "source": [
    "mytest <- \"CM%\"\n",
    "ks.test(pbmc_01[[mytest]][ which(pbmc_01$cancergroup == \"Solid tumors\")], pbmc_01[[mytest]][ which(pbmc_01$cancergroup == \"Leukemia\")])$p.value\n",
    "ks.test(pbmc_01[[mytest]][ which(pbmc_01$cancergroup == \"Lymphoma\")], pbmc_01[[mytest]][ which(pbmc_01$cancergroup == \"Leukemia\")])$p.value\n",
    "ks.test(pbmc_01[[mytest]][ which(pbmc_01$cancergroup == \"Solid tumors\")], pbmc_01[[mytest]][ which(pbmc_01$cancergroup == \"Lymphoma\")])$p.value"
   ]
  },
  {
   "cell_type": "code",
   "execution_count": null,
   "metadata": {
    "vscode": {
     "languageId": "r"
    }
   },
   "outputs": [],
   "source": [
    "mypval1 <- ks.test(pbmc_01[[mytest]][ which(pbmc_01$cancergroup == \"Solid tumors\")], pbmc_01[[mytest]][ which(pbmc_01$cancergroup == \"Leukemia\")])$p.value\n",
    "mypval2 <- ks.test(pbmc_01[[mytest]][ which(pbmc_01$cancergroup == \"Lymphoma\")], pbmc_01[[mytest]][ which(pbmc_01$cancergroup == \"Leukemia\")])$p.value\n",
    "mypval3 <- ks.test(pbmc_01[[mytest]][ which(pbmc_01$cancergroup == \"Solid tumors\")], pbmc_01[[mytest]][ which(pbmc_01$cancergroup == \"Lymphoma\")])$p.value"
   ]
  },
  {
   "cell_type": "code",
   "execution_count": null,
   "metadata": {
    "vscode": {
     "languageId": "r"
    }
   },
   "outputs": [],
   "source": [
    "mypval1\n",
    "mypval2\n",
    "mypval3"
   ]
  },
  {
   "cell_type": "code",
   "execution_count": null,
   "metadata": {
    "vscode": {
     "languageId": "r"
    }
   },
   "outputs": [],
   "source": [
    "tapply(pbmc_01$`CM%`, pbmc_01$Disease_type, summary, na.rm = T)"
   ]
  },
  {
   "cell_type": "code",
   "execution_count": null,
   "metadata": {
    "vscode": {
     "languageId": "r"
    }
   },
   "outputs": [],
   "source": [
    "tapply(pbmc_01$`CM%`, pbmc_01$cancergroup, summary)"
   ]
  },
  {
   "cell_type": "code",
   "execution_count": null,
   "metadata": {
    "vscode": {
     "languageId": "r"
    }
   },
   "outputs": [],
   "source": [
    "mypval1 <- round_and_format(mypval1)\n",
    "mypval2 <- round_and_format(mypval2)\n",
    "mypval3 <- round_and_format(mypval3)"
   ]
  },
  {
   "cell_type": "code",
   "execution_count": null,
   "metadata": {
    "vscode": {
     "languageId": "r"
    }
   },
   "outputs": [],
   "source": [
    "p1_stat <- p1 + geom_signif(\n",
    "    y_position = c(75, 100, 85), xmin = c(1,1,2), xmax = c(2,3,3),\n",
    "    annotation = c(paste0(\"p = \",mypval2), paste0(\"p = \",mypval1), paste0(\"p = \", mypval3)), tip_length = 0.01, textsize = 5\n",
    "  ) + ggtitle(expression(underline(\"CM%\") ))"
   ]
  },
  {
   "cell_type": "code",
   "execution_count": null,
   "metadata": {
    "vscode": {
     "languageId": "r"
    }
   },
   "outputs": [],
   "source": [
    "p1_stat"
   ]
  },
  {
   "cell_type": "markdown",
   "metadata": {},
   "source": [
    "TE"
   ]
  },
  {
   "cell_type": "code",
   "execution_count": null,
   "metadata": {
    "vscode": {
     "languageId": "r"
    }
   },
   "outputs": [],
   "source": [
    "p2 <- baseraincloud_plot.fx(pbmc_01, \"`TE%`\", \"cancergroup\", \"cancergroup\", group_col, \n",
    "# scaledots = 0.5, justdots= 1.2, scaleslab= 0.5, justslab= -0.2 , adjustslab= 0.5, binwidth. = NA)  \n",
    "scaledots = 0.5, justdots= 1.2, scaleslab= 0.5, justslab= -0.2 , adjustslab= 0.5, binwidth. = 2 )  "
   ]
  },
  {
   "cell_type": "code",
   "execution_count": null,
   "metadata": {
    "vscode": {
     "languageId": "r"
    }
   },
   "outputs": [],
   "source": [
    "p2"
   ]
  },
  {
   "cell_type": "code",
   "execution_count": null,
   "metadata": {
    "vscode": {
     "languageId": "r"
    }
   },
   "outputs": [],
   "source": [
    "mytest <- \"TE%\"\n",
    "ks.test(pbmc_01[[mytest]][ which(pbmc_01$cancergroup == \"Solid tumors\")], pbmc_01[[mytest]][ which(pbmc_01$cancergroup == \"Leukemia\")])$p.value\n",
    "ks.test(pbmc_01[[mytest]][ which(pbmc_01$cancergroup == \"Lymphoma\")], pbmc_01[[mytest]][ which(pbmc_01$cancergroup == \"Leukemia\")])$p.value\n",
    "ks.test(pbmc_01[[mytest]][ which(pbmc_01$cancergroup == \"Solid tumors\")], pbmc_01[[mytest]][ which(pbmc_01$cancergroup == \"Lymphoma\")])$p.value"
   ]
  },
  {
   "cell_type": "code",
   "execution_count": null,
   "metadata": {
    "vscode": {
     "languageId": "r"
    }
   },
   "outputs": [],
   "source": [
    "mypval3 <- ks.test(pbmc_01[[mytest]][ which(pbmc_01$cancergroup == \"Solid tumors\")], pbmc_01[[mytest]][ which(pbmc_01$cancergroup == \"Leukemia\")])$p.value"
   ]
  },
  {
   "cell_type": "code",
   "execution_count": null,
   "metadata": {
    "vscode": {
     "languageId": "r"
    }
   },
   "outputs": [],
   "source": [
    "mypval3 <- round_and_format(mypval3)"
   ]
  },
  {
   "cell_type": "code",
   "execution_count": null,
   "metadata": {
    "vscode": {
     "languageId": "r"
    }
   },
   "outputs": [],
   "source": [
    "tapply(pbmc_01$`TE%`, pbmc_01$cancergroup, summary)"
   ]
  },
  {
   "cell_type": "code",
   "execution_count": null,
   "metadata": {
    "vscode": {
     "languageId": "r"
    }
   },
   "outputs": [],
   "source": [
    "p2_stat <- p2 + geom_signif(\n",
    "    y_position = 105, xmin = 1, xmax = 3,\n",
    "    annotation = paste0(\"p = \",mypval3), tip_length = 0.01, textsize = 5\n",
    "  ) + ggtitle(expression(underline(\"TE%\") ))"
   ]
  },
  {
   "cell_type": "code",
   "execution_count": null,
   "metadata": {
    "vscode": {
     "languageId": "r"
    }
   },
   "outputs": [],
   "source": [
    "p2_stat"
   ]
  },
  {
   "cell_type": "markdown",
   "metadata": {},
   "source": [
    "SCM"
   ]
  },
  {
   "cell_type": "code",
   "execution_count": null,
   "metadata": {
    "vscode": {
     "languageId": "r"
    }
   },
   "outputs": [],
   "source": [
    "p_scm <- baseraincloud_plot.fx(pbmc_01, \"`SCM%`\", \"cancergroup\", \"cancergroup\", group_col, \n",
    "scaledots = 0.5, justdots= 1.2, scaleslab= 0.5, justslab= -0.2 , adjustslab= 0.5, binwidth. = NA) "
   ]
  },
  {
   "cell_type": "code",
   "execution_count": null,
   "metadata": {
    "vscode": {
     "languageId": "r"
    }
   },
   "outputs": [],
   "source": [
    "# p_scm + scale_x_discrete(expand = c(0.5,0.5))"
   ]
  },
  {
   "cell_type": "code",
   "execution_count": null,
   "metadata": {
    "vscode": {
     "languageId": "r"
    }
   },
   "outputs": [],
   "source": [
    "p_scm"
   ]
  },
  {
   "cell_type": "code",
   "execution_count": null,
   "metadata": {
    "vscode": {
     "languageId": "r"
    }
   },
   "outputs": [],
   "source": [
    "tapply(pbmc_01$`SCM%`, pbmc_01$cancergroup, summary)"
   ]
  },
  {
   "cell_type": "code",
   "execution_count": null,
   "metadata": {
    "vscode": {
     "languageId": "r"
    }
   },
   "outputs": [],
   "source": [
    "mytest <- \"SCM%\"\n",
    "ks.test(pbmc_01[[mytest]][ which(pbmc_01$cancergroup == \"Solid tumors\")], pbmc_01[[mytest]][ which(pbmc_01$cancergroup == \"Leukemia\")])$p.value\n",
    "ks.test(pbmc_01[[mytest]][ which(pbmc_01$cancergroup == \"Solid tumors\")], pbmc_01[[mytest]][ which(pbmc_01$cancergroup == \"Lymphoma\")])$p.value\n",
    "ks.test(pbmc_01[[mytest]][ which(pbmc_01$cancergroup == \"Lymphoma\")], pbmc_01[[mytest]][ which(pbmc_01$cancergroup == \"Leukemia\")])$p.value"
   ]
  },
  {
   "cell_type": "code",
   "execution_count": null,
   "metadata": {
    "vscode": {
     "languageId": "r"
    }
   },
   "outputs": [],
   "source": [
    "# p0_stat <- p0 + geom_signif(\n",
    "#     y_position = 100, xmin = 1, xmax = 3,\n",
    "#     annotation = paste0(\"p = \",mypval), tip_length = 0.01, textsize = 5\n",
    "#   ) + ggtitle(expression(underline(\"Naïve%\") ))"
   ]
  },
  {
   "cell_type": "code",
   "execution_count": null,
   "metadata": {
    "vscode": {
     "languageId": "r"
    }
   },
   "outputs": [],
   "source": [
    "p_scm <- p_scm + ggtitle(expression(underline(\"SCM%\") ))"
   ]
  },
  {
   "cell_type": "markdown",
   "metadata": {},
   "source": [
    "EM"
   ]
  },
  {
   "cell_type": "code",
   "execution_count": null,
   "metadata": {
    "vscode": {
     "languageId": "r"
    }
   },
   "outputs": [],
   "source": [
    "p_em <- baseraincloud_plot.fx(pbmc_01, \"`EM%`\", \"cancergroup\", \"cancergroup\", group_col,\n",
    "scaledots = 0.5, justdots= 1.2, scaleslab= 0.5, justslab= -0.2 , adjustslab= 0.5, binwidth. = NA ) "
   ]
  },
  {
   "cell_type": "code",
   "execution_count": null,
   "metadata": {
    "vscode": {
     "languageId": "r"
    }
   },
   "outputs": [],
   "source": [
    "p_em "
   ]
  },
  {
   "cell_type": "code",
   "execution_count": null,
   "metadata": {
    "vscode": {
     "languageId": "r"
    }
   },
   "outputs": [],
   "source": [
    "table(pbmc_01$cancergroup)"
   ]
  },
  {
   "cell_type": "code",
   "execution_count": null,
   "metadata": {
    "vscode": {
     "languageId": "r"
    }
   },
   "outputs": [],
   "source": [
    "tapply(pbmc_01$`EM%`, pbmc_01$cancergroup, summary)"
   ]
  },
  {
   "cell_type": "code",
   "execution_count": null,
   "metadata": {
    "vscode": {
     "languageId": "r"
    }
   },
   "outputs": [],
   "source": [
    "mytest <- \"EM%\"\n",
    "ks.test(pbmc_01[[mytest]][ which(pbmc_01$cancergroup == \"Solid tumors\")], pbmc_01[[mytest]][ which(pbmc_01$cancergroup == \"Leukemia\")])$p.value\n",
    "ks.test(pbmc_01[[mytest]][ which(pbmc_01$cancergroup == \"Solid tumors\")], pbmc_01[[mytest]][ which(pbmc_01$cancergroup == \"Lymphoma\")])$p.value\n",
    "ks.test(pbmc_01[[mytest]][ which(pbmc_01$cancergroup == \"Lymphoma\")], pbmc_01[[mytest]][ which(pbmc_01$cancergroup == \"Leukemia\")])$p.value"
   ]
  },
  {
   "cell_type": "code",
   "execution_count": null,
   "metadata": {
    "vscode": {
     "languageId": "r"
    }
   },
   "outputs": [],
   "source": [
    "mypval_em <- ks.test(pbmc_01[[mytest]][ which(pbmc_01$cancergroup == \"Solid tumors\")], pbmc_01[[mytest]][ which(pbmc_01$cancergroup == \"Leukemia\")])$p.value"
   ]
  },
  {
   "cell_type": "code",
   "execution_count": null,
   "metadata": {
    "vscode": {
     "languageId": "r"
    }
   },
   "outputs": [],
   "source": [
    "mypval_em <- round_and_format(mypval_em)"
   ]
  },
  {
   "cell_type": "code",
   "execution_count": null,
   "metadata": {
    "vscode": {
     "languageId": "r"
    }
   },
   "outputs": [],
   "source": [
    "mypval_em"
   ]
  },
  {
   "cell_type": "code",
   "execution_count": null,
   "metadata": {
    "vscode": {
     "languageId": "r"
    }
   },
   "outputs": [],
   "source": [
    "p_em <- p_em + ggtitle(expression(underline(\"EM%\") ))\n"
   ]
  },
  {
   "cell_type": "markdown",
   "metadata": {},
   "source": [
    "PD1"
   ]
  },
  {
   "cell_type": "code",
   "execution_count": null,
   "metadata": {
    "vscode": {
     "languageId": "r"
    }
   },
   "outputs": [],
   "source": [
    "p3 <- baseraincloud_plot.fx(pbmc_01, \"`PD1%`\", \"cancergroup\", \"cancergroup\", group_col,\n",
    "scaledots = 0.5, justdots= 1.2, scaleslab= 0.5, justslab= -0.2 , adjustslab= 1, binwidth. = NA)  "
   ]
  },
  {
   "cell_type": "code",
   "execution_count": null,
   "metadata": {
    "vscode": {
     "languageId": "r"
    }
   },
   "outputs": [],
   "source": [
    "p3"
   ]
  },
  {
   "cell_type": "code",
   "execution_count": null,
   "metadata": {
    "vscode": {
     "languageId": "r"
    }
   },
   "outputs": [],
   "source": [
    "tapply(pbmc_01$`PD1%`, pbmc_01$cancergroup, summary)"
   ]
  },
  {
   "cell_type": "code",
   "execution_count": null,
   "metadata": {
    "vscode": {
     "languageId": "r"
    }
   },
   "outputs": [],
   "source": [
    "table(pbmc_01$Disease_type)"
   ]
  },
  {
   "cell_type": "code",
   "execution_count": null,
   "metadata": {
    "vscode": {
     "languageId": "r"
    }
   },
   "outputs": [],
   "source": []
  },
  {
   "cell_type": "code",
   "execution_count": null,
   "metadata": {
    "vscode": {
     "languageId": "r"
    }
   },
   "outputs": [],
   "source": [
    "pbmc_01[ pbmc_01$Disease_type == \"OS\", c(\"PD1%\", \"LAG3%\",\"sample_id\")]"
   ]
  },
  {
   "cell_type": "code",
   "execution_count": null,
   "metadata": {
    "vscode": {
     "languageId": "r"
    }
   },
   "outputs": [],
   "source": [
    "ggplot(pbmc_01[ pbmc_01$cancergroup == \"Leukemia\",], aes(x = `PD1%`, y = `LAG3%`, color = Disease_type)) + geom_point(size = 5) + scale_colour_manual(values = cohort_col)"
   ]
  },
  {
   "cell_type": "code",
   "execution_count": null,
   "metadata": {
    "vscode": {
     "languageId": "r"
    }
   },
   "outputs": [],
   "source": [
    "tapply(pbmc_01$`PD1%`, pbmc_01$Disease_type, median, na.rm = T)"
   ]
  },
  {
   "cell_type": "code",
   "execution_count": null,
   "metadata": {
    "vscode": {
     "languageId": "r"
    }
   },
   "outputs": [],
   "source": [
    "tapply(pbmc_01$`LAG3%`, pbmc_01$Disease_type, median, na.rm = T)"
   ]
  },
  {
   "cell_type": "code",
   "execution_count": null,
   "metadata": {
    "vscode": {
     "languageId": "r"
    }
   },
   "outputs": [],
   "source": [
    "mytest <- \"PD1%\"\n",
    "ks.test(pbmc_01[[mytest]][ which(pbmc_01$cancergroup == \"Solid tumors\")], pbmc_01[[mytest]][ which(pbmc_01$cancergroup == \"Lymphoma\")])$p.value\n",
    "ks.test(pbmc_01[[mytest]][ which(pbmc_01$cancergroup == \"Leukemia\")], pbmc_01[[mytest]][ which(pbmc_01$cancergroup == \"Lymphoma\")])$p.value\n",
    "ks.test(pbmc_01[[mytest]][ which(pbmc_01$cancergroup == \"Solid tumors\")], pbmc_01[[mytest]][ which(pbmc_01$cancergroup == \"Leukemia\")])$p.value"
   ]
  },
  {
   "cell_type": "code",
   "execution_count": null,
   "metadata": {
    "vscode": {
     "languageId": "r"
    }
   },
   "outputs": [],
   "source": [
    "mytest <- \"PD1%\"\n",
    "mypval4 <- ks.test(pbmc_01[[mytest]][ which(pbmc_01$cancergroup == \"Solid tumors\")], pbmc_01[[mytest]][ which(pbmc_01$cancergroup == \"Lymphoma\")])$p.value\n",
    "mypval5 <- ks.test(pbmc_01[[mytest]][ which(pbmc_01$cancergroup == \"Leukemia\")], pbmc_01[[mytest]][ which(pbmc_01$cancergroup == \"Lymphoma\")])$p.value\n",
    "mypval6 <- ks.test(pbmc_01[[mytest]][ which(pbmc_01$cancergroup == \"Solid tumors\")], pbmc_01[[mytest]][ which(pbmc_01$cancergroup == \"Leukemia\")])$p.value"
   ]
  },
  {
   "cell_type": "code",
   "execution_count": null,
   "metadata": {
    "vscode": {
     "languageId": "r"
    }
   },
   "outputs": [],
   "source": [
    "mypval4\n",
    "mypval5\n",
    "mypval6"
   ]
  },
  {
   "cell_type": "code",
   "execution_count": null,
   "metadata": {
    "vscode": {
     "languageId": "r"
    }
   },
   "outputs": [],
   "source": [
    "mypval4 <- round_and_format(mypval4)\n",
    "mypval5 <- round_and_format(mypval5)\n",
    "mypval6 <- round_and_format(mypval6)"
   ]
  },
  {
   "cell_type": "code",
   "execution_count": null,
   "metadata": {
    "vscode": {
     "languageId": "r"
    }
   },
   "outputs": [],
   "source": [
    "p3_stat <- p3 + geom_signif(\n",
    "    y_position = c(80, 90, 100), xmin = c(1,2,1), xmax = c(2,3,3),\n",
    "    annotation = c(paste0(\"p = \",mypval5), paste0(\"p = \",mypval4), paste0(\"p = \",mypval6) ), tip_length = 0.01, textsize = 5\n",
    "  ) + ggtitle(expression(underline(\"PD1%\") ))"
   ]
  },
  {
   "cell_type": "code",
   "execution_count": null,
   "metadata": {
    "vscode": {
     "languageId": "r"
    }
   },
   "outputs": [],
   "source": [
    "p3_stat"
   ]
  },
  {
   "cell_type": "code",
   "execution_count": null,
   "metadata": {
    "vscode": {
     "languageId": "r"
    }
   },
   "outputs": [],
   "source": [
    "# pdf(paste0(plotpath, \"rainclouds_PD1_X01.pdf\"), width = 4, height = 6)\n",
    "# p3_stat\n",
    "# dev.off()"
   ]
  },
  {
   "cell_type": "markdown",
   "metadata": {},
   "source": [
    "LAG3"
   ]
  },
  {
   "cell_type": "code",
   "execution_count": null,
   "metadata": {
    "vscode": {
     "languageId": "r"
    }
   },
   "outputs": [],
   "source": [
    "p3_1 <- baseraincloud_plot.fx(pbmc_01, \"`LAG3%`\", \"cancergroup\", \"cancergroup\", group_col, \n",
    "scaledots = 0.5, justdots= 1.2, scaleslab= 0.5, justslab= -0.2 , adjustslab= 1, binwidth. = NA) "
   ]
  },
  {
   "cell_type": "code",
   "execution_count": null,
   "metadata": {
    "vscode": {
     "languageId": "r"
    }
   },
   "outputs": [],
   "source": [
    "p3_1"
   ]
  },
  {
   "cell_type": "code",
   "execution_count": null,
   "metadata": {
    "vscode": {
     "languageId": "r"
    }
   },
   "outputs": [],
   "source": [
    "mytest <- \"LAG3%\"\n",
    "ks.test(pbmc_01[[mytest]][ which(pbmc_01$cancergroup == \"Solid tumors\")], pbmc_01[[mytest]][ which(pbmc_01$cancergroup == \"Lymphoma\")])$p.value\n",
    "ks.test(pbmc_01[[mytest]][ which(pbmc_01$cancergroup == \"Leukemia\")], pbmc_01[[mytest]][ which(pbmc_01$cancergroup == \"Lymphoma\")])$p.value\n",
    "ks.test(pbmc_01[[mytest]][ which(pbmc_01$cancergroup == \"Solid tumors\")], pbmc_01[[mytest]][ which(pbmc_01$cancergroup == \"Leukemia\")])$p.value"
   ]
  },
  {
   "cell_type": "code",
   "execution_count": null,
   "metadata": {
    "vscode": {
     "languageId": "r"
    }
   },
   "outputs": [],
   "source": [
    "mytest <- \"LAG3%\"\n",
    "mypval4_1 <- ks.test(pbmc_01[[mytest]][ which(pbmc_01$cancergroup == \"Solid tumors\")], pbmc_01[[mytest]][ which(pbmc_01$cancergroup == \"Lymphoma\")])$p.value\n",
    "mypval5_1 <- ks.test(pbmc_01[[mytest]][ which(pbmc_01$cancergroup == \"Leukemia\")], pbmc_01[[mytest]][ which(pbmc_01$cancergroup == \"Lymphoma\")])$p.value"
   ]
  },
  {
   "cell_type": "code",
   "execution_count": null,
   "metadata": {
    "vscode": {
     "languageId": "r"
    }
   },
   "outputs": [],
   "source": [
    "mypval4_1 <- round_and_format(mypval4_1)\n",
    "mypval5_1 <- round_and_format(mypval5_1)"
   ]
  },
  {
   "cell_type": "code",
   "execution_count": null,
   "metadata": {
    "vscode": {
     "languageId": "r"
    }
   },
   "outputs": [],
   "source": [
    "p3_stat_1 <- p3_1 + geom_signif(\n",
    "    y_position = c(85, 100), xmin = c(1,2), xmax = c(2,3),\n",
    "    annotation = c(paste0(\"p = \",mypval5_1), paste0(\"p = \",mypval4_1) ), tip_length = 0.01, textsize = 5\n",
    "  ) + ggtitle(expression(underline(\"LAG3%\") ))"
   ]
  },
  {
   "cell_type": "code",
   "execution_count": null,
   "metadata": {
    "vscode": {
     "languageId": "r"
    }
   },
   "outputs": [],
   "source": [
    "p3_stat_1"
   ]
  },
  {
   "cell_type": "code",
   "execution_count": null,
   "metadata": {
    "vscode": {
     "languageId": "r"
    }
   },
   "outputs": [],
   "source": [
    "# pdf(paste0(plotpath, \"rainclouds_LAG3_X01.pdf\"), width = 4, height = 6)\n",
    "# p3_stat_1\n",
    "# dev.off()"
   ]
  },
  {
   "cell_type": "markdown",
   "metadata": {},
   "source": [
    "TIM3"
   ]
  },
  {
   "cell_type": "code",
   "execution_count": null,
   "metadata": {
    "vscode": {
     "languageId": "r"
    }
   },
   "outputs": [],
   "source": [
    "p3_2 <- baseraincloud_plot.fx(pbmc_01, \"`TIM3%`\", \"cancergroup\", \"cancergroup\", group_col, \n",
    "scaledots = 0.5, justdots= 1.2, scaleslab= 0.5, justslab= -0.2 , adjustslab= 1, binwidth. = NA) "
   ]
  },
  {
   "cell_type": "code",
   "execution_count": null,
   "metadata": {
    "vscode": {
     "languageId": "r"
    }
   },
   "outputs": [],
   "source": [
    "p3_2"
   ]
  },
  {
   "cell_type": "code",
   "execution_count": null,
   "metadata": {
    "vscode": {
     "languageId": "r"
    }
   },
   "outputs": [],
   "source": [
    "mytest <- \"TIM3%\"\n",
    "ks.test(pbmc_01[[mytest]][ which(pbmc_01$cancergroup == \"Solid tumors\")], pbmc_01[[mytest]][ which(pbmc_01$cancergroup == \"Lymphoma\")])$p.value\n",
    "ks.test(pbmc_01[[mytest]][ which(pbmc_01$cancergroup == \"Leukemia\")], pbmc_01[[mytest]][ which(pbmc_01$cancergroup == \"Lymphoma\")])$p.value\n",
    "ks.test(pbmc_01[[mytest]][ which(pbmc_01$cancergroup == \"Solid tumors\")], pbmc_01[[mytest]][ which(pbmc_01$cancergroup == \"Leukemia\")])$p.value"
   ]
  },
  {
   "cell_type": "code",
   "execution_count": null,
   "metadata": {
    "vscode": {
     "languageId": "r"
    }
   },
   "outputs": [],
   "source": [
    "mytest <- \"TIM3%\"\n",
    "mypval4_2 <- ks.test(pbmc_01[[mytest]][ which(pbmc_01$cancergroup == \"Solid tumors\")], pbmc_01[[mytest]][ which(pbmc_01$cancergroup == \"Lymphoma\")])$p.value\n",
    "mypval5_2 <- ks.test(pbmc_01[[mytest]][ which(pbmc_01$cancergroup == \"Leukemia\")], pbmc_01[[mytest]][ which(pbmc_01$cancergroup == \"Lymphoma\")])$p.value\n",
    "mypval6_2 <- ks.test(pbmc_01[[mytest]][ which(pbmc_01$cancergroup == \"Solid tumors\")], pbmc_01[[mytest]][ which(pbmc_01$cancergroup == \"Leukemia\")])$p.value"
   ]
  },
  {
   "cell_type": "code",
   "execution_count": null,
   "metadata": {
    "vscode": {
     "languageId": "r"
    }
   },
   "outputs": [],
   "source": [
    "mypval4_2 <- round_and_format(mypval4_2)\n",
    "mypval5_2 <- round_and_format(mypval5_2)\n",
    "mypval6_2 <- round_and_format(mypval6_2)"
   ]
  },
  {
   "cell_type": "code",
   "execution_count": null,
   "metadata": {
    "vscode": {
     "languageId": "r"
    }
   },
   "outputs": [],
   "source": [
    "p3_stat_2 <- p3_2 + geom_signif(\n",
    "    y_position = c(78, 88,105), xmin = c(1,2,1), xmax = c(2,3,3),\n",
    "    annotation = c(paste0(\"p = \",mypval5_2), paste0(\"p = \",mypval4_2), paste0(\"p = \",mypval6_2) ), tip_length = 0.01, textsize = 5\n",
    "  ) + ggtitle(expression(underline(\"TIM3%\") ))"
   ]
  },
  {
   "cell_type": "code",
   "execution_count": null,
   "metadata": {
    "vscode": {
     "languageId": "r"
    }
   },
   "outputs": [],
   "source": [
    "p3_stat_2"
   ]
  },
  {
   "cell_type": "code",
   "execution_count": null,
   "metadata": {
    "vscode": {
     "languageId": "r"
    }
   },
   "outputs": [],
   "source": [
    "# pdf(paste0(plotpath, \"rainclouds_TIM3_X01.pdf\"), width = 4, height = 6)\n",
    "# p3_stat_2\n",
    "# dev.off()"
   ]
  },
  {
   "cell_type": "markdown",
   "metadata": {},
   "source": [
    "TCR"
   ]
  },
  {
   "cell_type": "code",
   "execution_count": null,
   "metadata": {
    "vscode": {
     "languageId": "r"
    }
   },
   "outputs": [],
   "source": [
    "pbmc <- meta_div[ which(meta_div$sampletype == \"PBMC\"),]\n",
    "pbmc_01 <- pbmc[pbmc$cycle == \"X01\",]\n",
    "pbmc_01 <- pbmc_01[ !is.na(pbmc_01$TRB),]"
   ]
  },
  {
   "cell_type": "code",
   "execution_count": null,
   "metadata": {
    "vscode": {
     "languageId": "r"
    }
   },
   "outputs": [],
   "source": [
    "p4 <- baseraincloud_plot.fx(pbmc_01, \"log10shann\", \"cancergroup\", \"cancergroup\", group_col, \n",
    "scaledots = 0.5, justdots= 1.2, scaleslab= 0.5, justslab= -0.2 , adjustslab= 0.5, binwidth. = 0.07) \n",
    "#scaledots = 0.8, justdots= 1.1, scaleslab= 0.8, justslab= -0.1 , adjustslab= 0.5, binwidth. = 0.1)  "
   ]
  },
  {
   "cell_type": "code",
   "execution_count": null,
   "metadata": {
    "vscode": {
     "languageId": "r"
    }
   },
   "outputs": [],
   "source": [
    "mytest <- \"log10shann\"\n",
    "ks.test(pbmc_01[[mytest]][ which(pbmc_01$cancergroup == \"Solid tumors\")], pbmc_01[[mytest]][ which(pbmc_01$cancergroup == \"Leukemia\")])$p.value\n",
    "ks.test(pbmc_01[[mytest]][ which(pbmc_01$cancergroup == \"Leukemia\")], pbmc_01[[mytest]][ which(pbmc_01$cancergroup == \"Lymphoma\")])$p.value\n",
    "ks.test(pbmc_01[[mytest]][ which(pbmc_01$cancergroup == \"Solid tumors\")], pbmc_01[[mytest]][ which(pbmc_01$cancergroup == \"Lymphoma\")])$p.value"
   ]
  },
  {
   "cell_type": "code",
   "execution_count": null,
   "metadata": {
    "vscode": {
     "languageId": "r"
    }
   },
   "outputs": [],
   "source": [
    "mybreaks <- c(1, 10, 100, 500, 1000, 1500)\n",
    "# mybreaks <- c(1, 10, 50, 100)"
   ]
  },
  {
   "cell_type": "code",
   "execution_count": null,
   "metadata": {
    "vscode": {
     "languageId": "r"
    }
   },
   "outputs": [],
   "source": [
    "p4_1 <- p4 + annotation_logticks(sides = \"l\") +\n",
    "    scale_y_continuous(breaks = log10(mybreaks), labels = mybreaks) + ggtitle(expression(underline(\"TCR diversity\") )) +\n",
    "labs(y = \"TCR diversity (log10)\")"
   ]
  },
  {
   "cell_type": "code",
   "execution_count": null,
   "metadata": {
    "vscode": {
     "languageId": "r"
    }
   },
   "outputs": [],
   "source": [
    "p4_1"
   ]
  },
  {
   "cell_type": "code",
   "execution_count": null,
   "metadata": {
    "vscode": {
     "languageId": "r"
    }
   },
   "outputs": [],
   "source": [
    "cfdna <- meta_div[ which(meta_div$sampletype == \"cfDNA\"),]\n",
    "cfdna_01 <- cfdna[cfdna$cycle == \"X01\",]\n",
    "cfdna_01 <- cfdna_01[ !is.na(cfdna_01$TRB),]"
   ]
  },
  {
   "cell_type": "code",
   "execution_count": null,
   "metadata": {
    "vscode": {
     "languageId": "r"
    }
   },
   "outputs": [],
   "source": [
    "p5 <- baseraincloud_plot.fx(cfdna_01, \"log10shann\", \"cancergroup\", \"cancergroup\", group_col,\n",
    "#scaledots = 0.7, justdots= 1.1, scaleslab= 0.7, justslab= -0.1 , adjustslab= 0.5, binwidth. = 0.04)  \n",
    "scaledots = 0.5, justdots= 1.2, scaleslab= 0.5, justslab= -0.2 , adjustslab= 0.5, binwidth. = 0.04) "
   ]
  },
  {
   "cell_type": "code",
   "execution_count": null,
   "metadata": {
    "vscode": {
     "languageId": "r"
    }
   },
   "outputs": [],
   "source": [
    "mytest <- \"log10shann\"\n",
    "ks.test(cfdna_01[[mytest]][ which(cfdna_01$cancergroup == \"Solid tumors\")], cfdna_01[[mytest]][ which(cfdna_01$cancergroup == \"Leukemia\")])$p.value\n",
    "ks.test(cfdna_01[[mytest]][ which(cfdna_01$cancergroup == \"Solid tumors\")], cfdna_01[[mytest]][ which(cfdna_01$cancergroup == \"Lymphoma\")])$p.value\n",
    "ks.test(cfdna_01[[mytest]][ which(cfdna_01$cancergroup == \"Leukemia\")], cfdna_01[[mytest]][ which(cfdna_01$cancergroup == \"Lymphoma\")])$p.value"
   ]
  },
  {
   "cell_type": "code",
   "execution_count": null,
   "metadata": {
    "vscode": {
     "languageId": "r"
    }
   },
   "outputs": [],
   "source": [
    "# mybreaks <- c(1, 10, 100, 500, 1000, 1500)\n",
    "mybreaks <- c(1, 10, 50, 100)"
   ]
  },
  {
   "cell_type": "code",
   "execution_count": null,
   "metadata": {
    "vscode": {
     "languageId": "r"
    }
   },
   "outputs": [],
   "source": [
    "p5_1 <- p5 + annotation_logticks(sides = \"l\") +\n",
    "    scale_y_continuous(breaks = log10(mybreaks), labels = mybreaks) + ggtitle(expression(underline(\"cfTCR diversity\") )) + labs(y = \"cfTCR diversity (log10)\")"
   ]
  },
  {
   "cell_type": "code",
   "execution_count": null,
   "metadata": {
    "vscode": {
     "languageId": "r"
    }
   },
   "outputs": [],
   "source": [
    "p5_1"
   ]
  },
  {
   "cell_type": "markdown",
   "metadata": {},
   "source": [
    "Save plots"
   ]
  },
  {
   "cell_type": "code",
   "execution_count": null,
   "metadata": {
    "vscode": {
     "languageId": "r"
    }
   },
   "outputs": [],
   "source": [
    "pdf(paste0(plotpath, \"rainclouds_X01_checkpoints.pdf\"), width = 12, height = 4)\n",
    "plot_grid(p3_stat + theme(plot.margin = unit(c(0, 0, 0, 0), \"cm\")), \n",
    "p3_stat_1 + theme(plot.margin = unit(c(0, 0, 0, 0), \"cm\")), \n",
    "p3_stat_2 + theme(plot.margin = unit(c(0, 0, 0, 0), \"cm\")), \n",
    "nrow = 1, align = \"hv\", axis = \"lr\", labels = c(\"A\", \"B\", \"C\"))   \n",
    "dev.off()"
   ]
  },
  {
   "cell_type": "code",
   "execution_count": null,
   "metadata": {
    "vscode": {
     "languageId": "r"
    }
   },
   "outputs": [],
   "source": [
    "pdf(paste0(plotpath, \"rainclouds_X01_sigsubsets.pdf\"), width = 12, height = 4)\n",
    "plot_grid( \n",
    "p1_stat + theme(plot.margin = unit(c(0, 0, 0, 0), \"cm\")), \n",
    "p0_stat+ theme(plot.margin = unit(c(0, 0, 0, 0), \"cm\")), \n",
    "p2_stat +  theme(plot.margin = unit(c(0, 0, 0, 0), \"cm\")), \n",
    "nrow = 1, align = \"hv\", axis = \"lr\", labels = c(\"F\", \"G\", \"H\"))\n",
    "dev.off()"
   ]
  },
  {
   "cell_type": "code",
   "execution_count": null,
   "metadata": {
    "vscode": {
     "languageId": "r"
    }
   },
   "outputs": [],
   "source": [
    "pdf(paste0(plotpath, \"rainclouds_X01_othersubsets.pdf\"), width = 8, height = 8)\n",
    "plot_grid(p_scm, p_em, p4_1, p5_1, nrow = 2,  align = \"hv\", axis = \"lr\", labels = c(\"A\", \"B\", \"C\", \"D\"))\n",
    "dev.off()"
   ]
  },
  {
   "cell_type": "markdown",
   "metadata": {
    "vscode": {
     "languageId": "r"
    }
   },
   "source": [
    "## S plots across cancer entities"
   ]
  },
  {
   "cell_type": "code",
   "execution_count": null,
   "metadata": {
    "vscode": {
     "languageId": "r"
    }
   },
   "outputs": [],
   "source": [
    "meta_div <- readr::read_rds(paste0(datapath, \"capTCRseq/meta_div_goodsamples.rds\"))\n",
    "\n",
    "meta_div <- meta_div[ !is.na(meta_div$CD3), ]\n",
    "meta_div <- meta_div[ meta_div$cancergroup != \"Normal\", ]\n",
    "meta_div <- meta_div[ meta_div$cancergroup != \"LFS\", ]"
   ]
  },
  {
   "cell_type": "code",
   "execution_count": null,
   "metadata": {
    "vscode": {
     "languageId": "r"
    }
   },
   "outputs": [],
   "source": [
    "pbmc <- meta_div[ which(meta_div$sampletype == \"PBMC\"),]\n",
    "pbmc <- pbmc[ pbmc$CD3 > 0,] # this removes all SR ALL cases\n",
    "pbmc_01 <- pbmc[pbmc$cycle == \"X01\",]"
   ]
  },
  {
   "cell_type": "code",
   "execution_count": null,
   "metadata": {
    "vscode": {
     "languageId": "r"
    }
   },
   "outputs": [],
   "source": [
    "table(pbmc_01$Disease_type)"
   ]
  },
  {
   "cell_type": "markdown",
   "metadata": {},
   "source": [
    "PD1"
   ]
  },
  {
   "cell_type": "code",
   "execution_count": null,
   "metadata": {
    "vscode": {
     "languageId": "r"
    }
   },
   "outputs": [],
   "source": [
    "x01 <- pbmc_01"
   ]
  },
  {
   "cell_type": "code",
   "execution_count": null,
   "metadata": {
    "vscode": {
     "languageId": "r"
    }
   },
   "outputs": [],
   "source": [
    "marker <- \"PD1%\""
   ]
  },
  {
   "cell_type": "code",
   "execution_count": null,
   "metadata": {
    "vscode": {
     "languageId": "r"
    }
   },
   "outputs": [],
   "source": [
    "x01 <- rbind(NA, NA, NA, x01)\n",
    "\n",
    "x01[1, \"Disease_type\"] <- \"EMPTY1\"\n",
    "x01[2, \"Disease_type\"] <- \"EMPTY2\"\n",
    "x01[3, \"Disease_type\"] <- \"EMPTY3\"\n",
    "\n",
    "x01[1, marker] <- -1\n",
    "x01[2, marker] <- -1\n",
    "x01[3, marker] <- -1\n",
    "\n",
    "x01[1, \"cancergroup\"] <- \"Lymphoma\"\n",
    "x01[2, \"cancergroup\"] <- \"Solid tumors\"\n",
    "x01[3, \"cancergroup\"] <- \"T-cell malignancies\""
   ]
  },
  {
   "cell_type": "code",
   "execution_count": null,
   "metadata": {
    "vscode": {
     "languageId": "r"
    }
   },
   "outputs": [],
   "source": [
    "mymed <- median.cohorts.fx(x01, marker, \"Disease_type\")\n",
    "\n",
    "# include cancergroup column in mymed by matching group and Disease_type in mypatients\n",
    "mymed$cancergroup <- x01$cancergroup[match(mymed$group, x01$Disease_type)]"
   ]
  },
  {
   "cell_type": "code",
   "execution_count": null,
   "metadata": {
    "vscode": {
     "languageId": "r"
    }
   },
   "outputs": [],
   "source": [
    "# order by cnacergroup then by media\n",
    "mymed <- mymed[order(mymed$cancergroup, mymed$median), ]"
   ]
  },
  {
   "cell_type": "code",
   "execution_count": null,
   "metadata": {
    "vscode": {
     "languageId": "r"
    }
   },
   "outputs": [],
   "source": [
    "mymed"
   ]
  },
  {
   "cell_type": "markdown",
   "metadata": {},
   "source": [
    "Sort df"
   ]
  },
  {
   "cell_type": "code",
   "execution_count": null,
   "metadata": {
    "vscode": {
     "languageId": "r"
    }
   },
   "outputs": [],
   "source": [
    "sorted.df.lst <- sort.df.fx(x01, mymed, marker, \"Disease_type\")"
   ]
  },
  {
   "cell_type": "markdown",
   "metadata": {},
   "source": [
    "Color dummy entries white"
   ]
  },
  {
   "cell_type": "code",
   "execution_count": null,
   "metadata": {
    "vscode": {
     "languageId": "r"
    }
   },
   "outputs": [],
   "source": [
    "rmEMPTY <- rep(\"black\", nrow(mymed))\n",
    "rmEMPTY[which(mymed$group == \"EMPTY1\")] <- \"white\"\n",
    "rmEMPTY[which(mymed$group == \"EMPTY2\")] <- \"white\"\n",
    "rmEMPTY[which(mymed$group == \"EMPTY3\")] <- \"white\""
   ]
  },
  {
   "cell_type": "code",
   "execution_count": null,
   "metadata": {
    "vscode": {
     "languageId": "r"
    }
   },
   "outputs": [],
   "source": [
    "group_col"
   ]
  },
  {
   "cell_type": "code",
   "execution_count": null,
   "metadata": {
    "vscode": {
     "languageId": "r"
    }
   },
   "outputs": [],
   "source": [
    "Sp <- Splot.fx(sorted.df.lst, \"`PD1%`\", \"cancergroup\", group_col, \"\")"
   ]
  },
  {
   "cell_type": "code",
   "execution_count": null,
   "metadata": {
    "vscode": {
     "languageId": "r"
    }
   },
   "outputs": [],
   "source": [
    "Sp"
   ]
  },
  {
   "cell_type": "code",
   "execution_count": null,
   "metadata": {
    "vscode": {
     "languageId": "r"
    }
   },
   "outputs": [],
   "source": [
    "S_PD1 <- Sp + ylim(c(0, 100)) + labs(y = \"PD1%\") + ggtitle(expression(underline(\"PD1%\") )) "
   ]
  },
  {
   "cell_type": "code",
   "execution_count": null,
   "metadata": {
    "vscode": {
     "languageId": "r"
    }
   },
   "outputs": [],
   "source": [
    "S_PD1"
   ]
  },
  {
   "cell_type": "code",
   "execution_count": null,
   "metadata": {
    "vscode": {
     "languageId": "r"
    }
   },
   "outputs": [],
   "source": [
    "# pdf(paste0(plotpath, \"Splot_PD1.pdf\"), width = 10, height = 6)\n",
    "# Sp + ylim(c(0, 100)) + labs(y = \"PD1%\")\n",
    "# dev.off()"
   ]
  },
  {
   "cell_type": "markdown",
   "metadata": {
    "vscode": {
     "languageId": "r"
    }
   },
   "source": [
    "LAG3"
   ]
  },
  {
   "cell_type": "code",
   "execution_count": null,
   "metadata": {
    "vscode": {
     "languageId": "r"
    }
   },
   "outputs": [],
   "source": [
    "x01 <- pbmc_01"
   ]
  },
  {
   "cell_type": "code",
   "execution_count": null,
   "metadata": {
    "vscode": {
     "languageId": "r"
    }
   },
   "outputs": [],
   "source": [
    "marker <- \"LAG3%\""
   ]
  },
  {
   "cell_type": "code",
   "execution_count": null,
   "metadata": {
    "vscode": {
     "languageId": "r"
    }
   },
   "outputs": [],
   "source": [
    "x01 <- rbind(NA, NA, NA, x01)\n",
    "\n",
    "x01[1, \"Disease_type\"] <- \"EMPTY1\"\n",
    "x01[2, \"Disease_type\"] <- \"EMPTY2\"\n",
    "x01[3, \"Disease_type\"] <- \"EMPTY3\"\n",
    "\n",
    "x01[1, marker] <- -1\n",
    "x01[2, marker] <- -1\n",
    "x01[3, marker] <- -1\n",
    "\n",
    "x01[1, \"cancergroup\"] <- \"Lymphoma\"\n",
    "x01[2, \"cancergroup\"] <- \"Solid tumors\"\n",
    "x01[3, \"cancergroup\"] <- \"T-cell malignancies\""
   ]
  },
  {
   "cell_type": "code",
   "execution_count": null,
   "metadata": {
    "vscode": {
     "languageId": "r"
    }
   },
   "outputs": [],
   "source": [
    "mymed <- median.cohorts.fx(x01, marker, \"Disease_type\")\n",
    "\n",
    "# include cancergroup column in mymed by matching group and Disease_type in mypatients\n",
    "mymed$cancergroup <- x01$cancergroup[match(mymed$group, x01$Disease_type)]"
   ]
  },
  {
   "cell_type": "code",
   "execution_count": null,
   "metadata": {
    "vscode": {
     "languageId": "r"
    }
   },
   "outputs": [],
   "source": [
    "# order by cnacergroup then by media\n",
    "mymed <- mymed[order(mymed$cancergroup, mymed$median), ]"
   ]
  },
  {
   "cell_type": "code",
   "execution_count": null,
   "metadata": {
    "vscode": {
     "languageId": "r"
    }
   },
   "outputs": [],
   "source": [
    "mymed"
   ]
  },
  {
   "cell_type": "markdown",
   "metadata": {},
   "source": [
    "Sort df"
   ]
  },
  {
   "cell_type": "code",
   "execution_count": null,
   "metadata": {
    "vscode": {
     "languageId": "r"
    }
   },
   "outputs": [],
   "source": [
    "sorted.df.lst <- sort.df.fx(x01, mymed, marker, \"Disease_type\")"
   ]
  },
  {
   "cell_type": "markdown",
   "metadata": {},
   "source": [
    "Color dummy entries white"
   ]
  },
  {
   "cell_type": "code",
   "execution_count": null,
   "metadata": {
    "vscode": {
     "languageId": "r"
    }
   },
   "outputs": [],
   "source": [
    "rmEMPTY <- rep(\"black\", nrow(mymed))\n",
    "rmEMPTY[which(mymed$group == \"EMPTY1\")] <- \"white\"\n",
    "rmEMPTY[which(mymed$group == \"EMPTY2\")] <- \"white\"\n",
    "rmEMPTY[which(mymed$group == \"EMPTY3\")] <- \"white\""
   ]
  },
  {
   "cell_type": "code",
   "execution_count": null,
   "metadata": {
    "vscode": {
     "languageId": "r"
    }
   },
   "outputs": [],
   "source": [
    "Sp <- Splot.fx(sorted.df.lst, \"`LAG3%`\", \"cancergroup\", group_col, \"\")"
   ]
  },
  {
   "cell_type": "code",
   "execution_count": null,
   "metadata": {
    "vscode": {
     "languageId": "r"
    }
   },
   "outputs": [],
   "source": [
    "S_LAG3 <- Sp + ylim(c(0, 100)) + labs(y = \"LAG3%\") + ggtitle(expression(underline(\"LAG3%\") )) "
   ]
  },
  {
   "cell_type": "code",
   "execution_count": null,
   "metadata": {
    "vscode": {
     "languageId": "r"
    }
   },
   "outputs": [],
   "source": [
    "# pdf(paste0(plotpath, \"Splot_LAG3.pdf\"), width = 10, height = 6)\n",
    "# Sp + ylim(c(0, 100)) + labs(y = \"LAG3%\")\n",
    "# dev.off()"
   ]
  },
  {
   "cell_type": "markdown",
   "metadata": {
    "vscode": {
     "languageId": "r"
    }
   },
   "source": [
    "TIM3"
   ]
  },
  {
   "cell_type": "markdown",
   "metadata": {},
   "source": []
  },
  {
   "cell_type": "code",
   "execution_count": null,
   "metadata": {
    "vscode": {
     "languageId": "r"
    }
   },
   "outputs": [],
   "source": [
    "x01 <- pbmc_01"
   ]
  },
  {
   "cell_type": "code",
   "execution_count": null,
   "metadata": {
    "vscode": {
     "languageId": "r"
    }
   },
   "outputs": [],
   "source": [
    "marker <- \"TIM3%\""
   ]
  },
  {
   "cell_type": "code",
   "execution_count": null,
   "metadata": {
    "vscode": {
     "languageId": "r"
    }
   },
   "outputs": [],
   "source": [
    "x01 <- rbind(NA, NA, NA, x01)\n",
    "\n",
    "x01[1, \"Disease_type\"] <- \"EMPTY1\"\n",
    "x01[2, \"Disease_type\"] <- \"EMPTY2\"\n",
    "x01[3, \"Disease_type\"] <- \"EMPTY3\"\n",
    "\n",
    "x01[1, marker] <- -1\n",
    "x01[2, marker] <- -1\n",
    "x01[3, marker] <- -1\n",
    "\n",
    "x01[1, \"cancergroup\"] <- \"Lymphoma\"\n",
    "x01[2, \"cancergroup\"] <- \"Solid tumors\"\n",
    "x01[3, \"cancergroup\"] <- \"T-cell malignancies\""
   ]
  },
  {
   "cell_type": "code",
   "execution_count": null,
   "metadata": {
    "vscode": {
     "languageId": "r"
    }
   },
   "outputs": [],
   "source": [
    "mymed <- median.cohorts.fx(x01, marker, \"Disease_type\")\n",
    "\n",
    "# include cancergroup column in mymed by matching group and Disease_type in mypatients\n",
    "mymed$cancergroup <- x01$cancergroup[match(mymed$group, x01$Disease_type)]"
   ]
  },
  {
   "cell_type": "code",
   "execution_count": null,
   "metadata": {
    "vscode": {
     "languageId": "r"
    }
   },
   "outputs": [],
   "source": [
    "# order by cnacergroup then by media\n",
    "mymed <- mymed[order(mymed$cancergroup, mymed$median), ]"
   ]
  },
  {
   "cell_type": "code",
   "execution_count": null,
   "metadata": {
    "vscode": {
     "languageId": "r"
    }
   },
   "outputs": [],
   "source": [
    "mymed"
   ]
  },
  {
   "cell_type": "markdown",
   "metadata": {},
   "source": [
    "Sort df"
   ]
  },
  {
   "cell_type": "code",
   "execution_count": null,
   "metadata": {
    "vscode": {
     "languageId": "r"
    }
   },
   "outputs": [],
   "source": [
    "sorted.df.lst <- sort.df.fx(x01, mymed, marker, \"Disease_type\")"
   ]
  },
  {
   "cell_type": "markdown",
   "metadata": {},
   "source": [
    "Color dummy entries white"
   ]
  },
  {
   "cell_type": "code",
   "execution_count": null,
   "metadata": {
    "vscode": {
     "languageId": "r"
    }
   },
   "outputs": [],
   "source": [
    "rmEMPTY <- rep(\"black\", nrow(mymed))\n",
    "rmEMPTY[which(mymed$group == \"EMPTY1\")] <- \"white\"\n",
    "rmEMPTY[which(mymed$group == \"EMPTY2\")] <- \"white\"\n",
    "rmEMPTY[which(mymed$group == \"EMPTY3\")] <- \"white\""
   ]
  },
  {
   "cell_type": "code",
   "execution_count": null,
   "metadata": {
    "vscode": {
     "languageId": "r"
    }
   },
   "outputs": [],
   "source": [
    "Sp <- Splot.fx(sorted.df.lst, \"`TIM3%`\", \"cancergroup\", group_col, \"\")"
   ]
  },
  {
   "cell_type": "code",
   "execution_count": null,
   "metadata": {
    "vscode": {
     "languageId": "r"
    }
   },
   "outputs": [],
   "source": [
    "Sp + ylim(c(0, 100))"
   ]
  },
  {
   "cell_type": "code",
   "execution_count": null,
   "metadata": {
    "vscode": {
     "languageId": "r"
    }
   },
   "outputs": [],
   "source": [
    "pdf(paste0(plotpath, \"Splot_TIM3.pdf\"), width = 10, height = 6)\n",
    "Sp + ylim(c(0, 100)) + labs(y = \"TIM3%\")\n",
    "dev.off()"
   ]
  },
  {
   "cell_type": "markdown",
   "metadata": {},
   "source": [
    "CM%"
   ]
  },
  {
   "cell_type": "code",
   "execution_count": null,
   "metadata": {
    "vscode": {
     "languageId": "r"
    }
   },
   "outputs": [],
   "source": [
    "x01 <- pbmc_01"
   ]
  },
  {
   "cell_type": "code",
   "execution_count": null,
   "metadata": {
    "vscode": {
     "languageId": "r"
    }
   },
   "outputs": [],
   "source": [
    "marker <- \"CM%\""
   ]
  },
  {
   "cell_type": "code",
   "execution_count": null,
   "metadata": {
    "vscode": {
     "languageId": "r"
    }
   },
   "outputs": [],
   "source": [
    "x01 <- rbind(NA, NA, NA, x01)\n",
    "\n",
    "x01[1, \"Disease_type\"] <- \"EMPTY1\"\n",
    "x01[2, \"Disease_type\"] <- \"EMPTY2\"\n",
    "x01[3, \"Disease_type\"] <- \"EMPTY3\"\n",
    "\n",
    "x01[1, marker] <- -1\n",
    "x01[2, marker] <- -1\n",
    "x01[3, marker] <- -1\n",
    "\n",
    "x01[1, \"cancergroup\"] <- \"Lymphoma\"\n",
    "x01[2, \"cancergroup\"] <- \"Solid tumors\"\n",
    "x01[3, \"cancergroup\"] <- \"T-cell malignancies\""
   ]
  },
  {
   "cell_type": "code",
   "execution_count": null,
   "metadata": {
    "vscode": {
     "languageId": "r"
    }
   },
   "outputs": [],
   "source": [
    "mymed <- median.cohorts.fx(x01, marker, \"Disease_type\")\n",
    "\n",
    "# include cancergroup column in mymed by matching group and Disease_type in mypatients\n",
    "mymed$cancergroup <- x01$cancergroup[match(mymed$group, x01$Disease_type)]"
   ]
  },
  {
   "cell_type": "code",
   "execution_count": null,
   "metadata": {
    "vscode": {
     "languageId": "r"
    }
   },
   "outputs": [],
   "source": [
    "# order by cnacergroup then by media\n",
    "mymed <- mymed[order(mymed$cancergroup, mymed$median), ]"
   ]
  },
  {
   "cell_type": "code",
   "execution_count": null,
   "metadata": {
    "vscode": {
     "languageId": "r"
    }
   },
   "outputs": [],
   "source": [
    "mymed"
   ]
  },
  {
   "cell_type": "markdown",
   "metadata": {},
   "source": [
    "Sort df"
   ]
  },
  {
   "cell_type": "code",
   "execution_count": null,
   "metadata": {
    "vscode": {
     "languageId": "r"
    }
   },
   "outputs": [],
   "source": [
    "sorted.df.lst <- sort.df.fx(x01, mymed, marker, \"Disease_type\")"
   ]
  },
  {
   "cell_type": "markdown",
   "metadata": {},
   "source": [
    "Color dummy entries white"
   ]
  },
  {
   "cell_type": "code",
   "execution_count": null,
   "metadata": {
    "vscode": {
     "languageId": "r"
    }
   },
   "outputs": [],
   "source": [
    "rmEMPTY <- rep(\"black\", nrow(mymed))\n",
    "rmEMPTY[which(mymed$group == \"EMPTY1\")] <- \"white\"\n",
    "rmEMPTY[which(mymed$group == \"EMPTY2\")] <- \"white\"\n",
    "rmEMPTY[which(mymed$group == \"EMPTY3\")] <- \"white\""
   ]
  },
  {
   "cell_type": "code",
   "execution_count": null,
   "metadata": {
    "vscode": {
     "languageId": "r"
    }
   },
   "outputs": [],
   "source": [
    "Sp <- Splot.fx(sorted.df.lst, \"`CM%`\", \"cancergroup\", group_col, \"\")"
   ]
  },
  {
   "cell_type": "code",
   "execution_count": null,
   "metadata": {
    "vscode": {
     "languageId": "r"
    }
   },
   "outputs": [],
   "source": [
    "S_CM <- Sp + ylim(c(0, 100)) + labs(y = \"CM%\") + ggtitle(expression(underline(\"CM%\") )) "
   ]
  },
  {
   "cell_type": "markdown",
   "metadata": {},
   "source": [
    "Naïve"
   ]
  },
  {
   "cell_type": "code",
   "execution_count": null,
   "metadata": {
    "vscode": {
     "languageId": "r"
    }
   },
   "outputs": [],
   "source": [
    "x01 <- pbmc_01"
   ]
  },
  {
   "cell_type": "code",
   "execution_count": null,
   "metadata": {
    "vscode": {
     "languageId": "r"
    }
   },
   "outputs": [],
   "source": [
    "marker <- \"Naïve%\""
   ]
  },
  {
   "cell_type": "code",
   "execution_count": null,
   "metadata": {
    "vscode": {
     "languageId": "r"
    }
   },
   "outputs": [],
   "source": [
    "x01 <- rbind(NA, NA, NA, x01)\n",
    "\n",
    "x01[1, \"Disease_type\"] <- \"EMPTY1\"\n",
    "x01[2, \"Disease_type\"] <- \"EMPTY2\"\n",
    "x01[3, \"Disease_type\"] <- \"EMPTY3\"\n",
    "\n",
    "x01[1, marker] <- -1\n",
    "x01[2, marker] <- -1\n",
    "x01[3, marker] <- -1\n",
    "\n",
    "x01[1, \"cancergroup\"] <- \"Lymphoma\"\n",
    "x01[2, \"cancergroup\"] <- \"Solid tumors\"\n",
    "x01[3, \"cancergroup\"] <- \"T-cell malignancies\""
   ]
  },
  {
   "cell_type": "code",
   "execution_count": null,
   "metadata": {
    "vscode": {
     "languageId": "r"
    }
   },
   "outputs": [],
   "source": [
    "mymed <- median.cohorts.fx(x01, marker, \"Disease_type\")\n",
    "\n",
    "# include cancergroup column in mymed by matching group and Disease_type in mypatients\n",
    "mymed$cancergroup <- x01$cancergroup[match(mymed$group, x01$Disease_type)]"
   ]
  },
  {
   "cell_type": "code",
   "execution_count": null,
   "metadata": {
    "vscode": {
     "languageId": "r"
    }
   },
   "outputs": [],
   "source": [
    "# order by cnacergroup then by media\n",
    "mymed <- mymed[order(mymed$cancergroup, mymed$median), ]"
   ]
  },
  {
   "cell_type": "code",
   "execution_count": null,
   "metadata": {
    "vscode": {
     "languageId": "r"
    }
   },
   "outputs": [],
   "source": [
    "mymed"
   ]
  },
  {
   "cell_type": "markdown",
   "metadata": {},
   "source": [
    "Sort df"
   ]
  },
  {
   "cell_type": "code",
   "execution_count": null,
   "metadata": {
    "vscode": {
     "languageId": "r"
    }
   },
   "outputs": [],
   "source": [
    "sorted.df.lst <- sort.df.fx(x01, mymed, marker, \"Disease_type\")"
   ]
  },
  {
   "cell_type": "markdown",
   "metadata": {},
   "source": [
    "Color dummy entries white"
   ]
  },
  {
   "cell_type": "code",
   "execution_count": null,
   "metadata": {
    "vscode": {
     "languageId": "r"
    }
   },
   "outputs": [],
   "source": [
    "rmEMPTY <- rep(\"black\", nrow(mymed))\n",
    "rmEMPTY[which(mymed$group == \"EMPTY1\")] <- \"white\"\n",
    "rmEMPTY[which(mymed$group == \"EMPTY2\")] <- \"white\"\n",
    "rmEMPTY[which(mymed$group == \"EMPTY3\")] <- \"white\""
   ]
  },
  {
   "cell_type": "code",
   "execution_count": null,
   "metadata": {
    "vscode": {
     "languageId": "r"
    }
   },
   "outputs": [],
   "source": [
    "Sp <- Splot.fx(sorted.df.lst, \"`Naïve%`\", \"cancergroup\", group_col, \"\")"
   ]
  },
  {
   "cell_type": "code",
   "execution_count": null,
   "metadata": {
    "vscode": {
     "languageId": "r"
    }
   },
   "outputs": [],
   "source": [
    "S_naive <- Sp + ylim(c(0, 100)) + labs(y = \"Naïve%\") + ggtitle(expression(underline(\"Naïve%\") )) "
   ]
  },
  {
   "cell_type": "markdown",
   "metadata": {},
   "source": [
    "TE"
   ]
  },
  {
   "cell_type": "code",
   "execution_count": null,
   "metadata": {
    "vscode": {
     "languageId": "r"
    }
   },
   "outputs": [],
   "source": [
    "x01 <- pbmc_01"
   ]
  },
  {
   "cell_type": "code",
   "execution_count": null,
   "metadata": {
    "vscode": {
     "languageId": "r"
    }
   },
   "outputs": [],
   "source": [
    "marker <- \"TE%\""
   ]
  },
  {
   "cell_type": "code",
   "execution_count": null,
   "metadata": {
    "vscode": {
     "languageId": "r"
    }
   },
   "outputs": [],
   "source": [
    "x01 <- rbind(NA, NA, NA, x01)\n",
    "\n",
    "x01[1, \"Disease_type\"] <- \"EMPTY1\"\n",
    "x01[2, \"Disease_type\"] <- \"EMPTY2\"\n",
    "x01[3, \"Disease_type\"] <- \"EMPTY3\"\n",
    "\n",
    "x01[1, marker] <- -1\n",
    "x01[2, marker] <- -1\n",
    "x01[3, marker] <- -1\n",
    "\n",
    "x01[1, \"cancergroup\"] <- \"Lymphoma\"\n",
    "x01[2, \"cancergroup\"] <- \"Solid tumors\"\n",
    "x01[3, \"cancergroup\"] <- \"T-cell malignancies\""
   ]
  },
  {
   "cell_type": "code",
   "execution_count": null,
   "metadata": {
    "vscode": {
     "languageId": "r"
    }
   },
   "outputs": [],
   "source": [
    "mymed <- median.cohorts.fx(x01, marker, \"Disease_type\")\n",
    "\n",
    "# include cancergroup column in mymed by matching group and Disease_type in mypatients\n",
    "mymed$cancergroup <- x01$cancergroup[match(mymed$group, x01$Disease_type)]"
   ]
  },
  {
   "cell_type": "code",
   "execution_count": null,
   "metadata": {
    "vscode": {
     "languageId": "r"
    }
   },
   "outputs": [],
   "source": [
    "# order by cnacergroup then by media\n",
    "mymed <- mymed[order(mymed$cancergroup, mymed$median), ]"
   ]
  },
  {
   "cell_type": "code",
   "execution_count": null,
   "metadata": {
    "vscode": {
     "languageId": "r"
    }
   },
   "outputs": [],
   "source": [
    "mymed"
   ]
  },
  {
   "cell_type": "markdown",
   "metadata": {},
   "source": [
    "Sort df"
   ]
  },
  {
   "cell_type": "code",
   "execution_count": null,
   "metadata": {
    "vscode": {
     "languageId": "r"
    }
   },
   "outputs": [],
   "source": [
    "sorted.df.lst <- sort.df.fx(x01, mymed, marker, \"Disease_type\")"
   ]
  },
  {
   "cell_type": "markdown",
   "metadata": {},
   "source": [
    "Color dummy entries white"
   ]
  },
  {
   "cell_type": "code",
   "execution_count": null,
   "metadata": {
    "vscode": {
     "languageId": "r"
    }
   },
   "outputs": [],
   "source": [
    "rmEMPTY <- rep(\"black\", nrow(mymed))\n",
    "rmEMPTY[which(mymed$group == \"EMPTY1\")] <- \"white\"\n",
    "rmEMPTY[which(mymed$group == \"EMPTY2\")] <- \"white\"\n",
    "rmEMPTY[which(mymed$group == \"EMPTY3\")] <- \"white\""
   ]
  },
  {
   "cell_type": "code",
   "execution_count": null,
   "metadata": {
    "vscode": {
     "languageId": "r"
    }
   },
   "outputs": [],
   "source": [
    "Sp <- Splot.fx(sorted.df.lst, \"`TE%`\", \"cancergroup\", group_col, \"\")"
   ]
  },
  {
   "cell_type": "code",
   "execution_count": null,
   "metadata": {
    "vscode": {
     "languageId": "r"
    }
   },
   "outputs": [],
   "source": [
    "S_TE <- Sp + ylim(c(0, 100)) + labs(y = \"TE%\") + ggtitle(expression(underline(\"TE%\") )) "
   ]
  },
  {
   "cell_type": "markdown",
   "metadata": {},
   "source": [
    "Save plots"
   ]
  },
  {
   "cell_type": "code",
   "execution_count": null,
   "metadata": {
    "vscode": {
     "languageId": "r"
    }
   },
   "outputs": [],
   "source": [
    "pdf(paste0(plotpath, \"Splot_PD1_LAG3.pdf\"), width = 12, height = 4)\n",
    "plot_grid(S_PD1 + theme(axis.text = element_text(size = 13), axis.title = element_text(size = 13), plot.title = element_text(size = 13), plot.margin = unit(c(0, 0, 0, 0), \"cm\")), \n",
    "S_LAG3 + theme(axis.text = element_text(size = 13), axis.title = element_text(size = 13), plot.title = element_text(size = 13), plot.margin = unit(c(0, 0, 0, 0), \"cm\")), \n",
    "nrow = 1,  align = \"hv\", axis = \"lr\", labels = c(\"D\", \"E\"))\n",
    "dev.off()"
   ]
  },
  {
   "cell_type": "code",
   "execution_count": null,
   "metadata": {
    "vscode": {
     "languageId": "r"
    }
   },
   "outputs": [],
   "source": [
    "pdf(paste0(plotpath, \"Splot_TE_CM.pdf\"), width = 12, height = 4)\n",
    "plot_grid(S_CM + theme(axis.text = element_text(size = 13), axis.title = element_text(size = 13), plot.title = element_text(size = 13), plot.margin = unit(c(0, 0, 0, 0), \"cm\")), \n",
    "S_TE + theme(axis.text = element_text(size = 13), axis.title = element_text(size = 13), plot.title = element_text(size = 13), plot.margin = unit(c(0, 0, 0, 0), \"cm\")), \n",
    "nrow = 1,  align = \"hv\", axis = \"lr\", labels = c(\"I\", \"J\"))\n",
    "dev.off()"
   ]
  },
  {
   "cell_type": "code",
   "execution_count": null,
   "metadata": {
    "vscode": {
     "languageId": "r"
    }
   },
   "outputs": [],
   "source": []
  },
  {
   "cell_type": "code",
   "execution_count": null,
   "metadata": {
    "vscode": {
     "languageId": "r"
    }
   },
   "outputs": [],
   "source": []
  },
  {
   "cell_type": "code",
   "execution_count": null,
   "metadata": {
    "vscode": {
     "languageId": "r"
    }
   },
   "outputs": [],
   "source": []
  },
  {
   "cell_type": "code",
   "execution_count": null,
   "metadata": {
    "vscode": {
     "languageId": "r"
    }
   },
   "outputs": [],
   "source": []
  },
  {
   "cell_type": "code",
   "execution_count": null,
   "metadata": {
    "vscode": {
     "languageId": "r"
    }
   },
   "outputs": [],
   "source": []
  },
  {
   "cell_type": "code",
   "execution_count": null,
   "metadata": {
    "vscode": {
     "languageId": "r"
    }
   },
   "outputs": [],
   "source": []
  },
  {
   "cell_type": "code",
   "execution_count": null,
   "metadata": {
    "vscode": {
     "languageId": "r"
    }
   },
   "outputs": [],
   "source": []
  },
  {
   "cell_type": "code",
   "execution_count": null,
   "metadata": {
    "vscode": {
     "languageId": "r"
    }
   },
   "outputs": [],
   "source": []
  },
  {
   "cell_type": "code",
   "execution_count": null,
   "metadata": {
    "vscode": {
     "languageId": "r"
    }
   },
   "outputs": [],
   "source": []
  },
  {
   "cell_type": "code",
   "execution_count": null,
   "metadata": {
    "vscode": {
     "languageId": "r"
    }
   },
   "outputs": [],
   "source": []
  },
  {
   "cell_type": "code",
   "execution_count": null,
   "metadata": {
    "vscode": {
     "languageId": "r"
    }
   },
   "outputs": [],
   "source": []
  },
  {
   "cell_type": "code",
   "execution_count": null,
   "metadata": {
    "vscode": {
     "languageId": "r"
    }
   },
   "outputs": [],
   "source": []
  },
  {
   "cell_type": "code",
   "execution_count": null,
   "metadata": {
    "vscode": {
     "languageId": "r"
    }
   },
   "outputs": [],
   "source": []
  },
  {
   "cell_type": "code",
   "execution_count": null,
   "metadata": {
    "vscode": {
     "languageId": "r"
    }
   },
   "outputs": [],
   "source": []
  }
 ],
 "metadata": {
  "kernelspec": {
   "display_name": "R 4.0",
   "language": "R",
   "name": "ir40"
  },
  "language_info": {
   "codemirror_mode": "r",
   "file_extension": ".r",
   "mimetype": "text/x-r-source",
   "name": "R",
   "pygments_lexer": "r",
   "version": "4.2.2"
  },
  "toc": {
   "base_numbering": 1,
   "nav_menu": {},
   "number_sections": false,
   "sideBar": true,
   "skip_h1_title": false,
   "title_cell": "Table of Contents",
   "title_sidebar": "Contents",
   "toc_cell": true,
   "toc_position": {
    "height": "calc(100% - 180px)",
    "left": "10px",
    "top": "150px",
    "width": "186.15px"
   },
   "toc_section_display": true,
   "toc_window_display": true
  }
 },
 "nbformat": 4,
 "nbformat_minor": 2
}

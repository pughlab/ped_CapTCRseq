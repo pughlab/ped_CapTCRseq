{
 "cells": [
  {
   "attachments": {},
   "cell_type": "markdown",
   "metadata": {},
   "source": [
    "# Dependencies"
   ]
  },
  {
   "cell_type": "code",
   "execution_count": 1,
   "metadata": {
    "vscode": {
     "languageId": "r"
    }
   },
   "outputs": [],
   "source": [
    "pacman::p_load(data.table)"
   ]
  },
  {
   "attachments": {},
   "cell_type": "markdown",
   "metadata": {},
   "source": [
    "# Functions"
   ]
  },
  {
   "attachments": {},
   "cell_type": "markdown",
   "metadata": {},
   "source": [
    "# Paths"
   ]
  },
  {
   "cell_type": "code",
   "execution_count": 2,
   "metadata": {
    "vscode": {
     "languageId": "r"
    }
   },
   "outputs": [],
   "source": [
    "datapath <- \"/Users/anabbi/OneDrive - UHN/Documents/INTERCEPT/Data/\"\n",
    "plotpath <- \"/Users/anabbi/OneDrive - UHN/Documents/INTERCEPT/Plots/\"\n",
    "manifestpath <- \"/Users/anabbi/OneDrive - UHN/Documents/INTERCEPT/Manifests/\"\n",
    "\n",
    "gitpath <- \"/Users/anabbi/git/ped_CapTCRseq/\""
   ]
  },
  {
   "cell_type": "code",
   "execution_count": 3,
   "metadata": {
    "vscode": {
     "languageId": "r"
    }
   },
   "outputs": [],
   "source": [
    "h4hpath <- \"/Users/anabbi/Desktop/H4H/INTERCEPT/analysis/GLIPH/testgliph/\""
   ]
  },
  {
   "attachments": {},
   "cell_type": "markdown",
   "metadata": {},
   "source": [
    "# Main"
   ]
  },
  {
   "cell_type": "code",
   "execution_count": 4,
   "metadata": {
    "vscode": {
     "languageId": "r"
    }
   },
   "outputs": [],
   "source": [
    "meta_div <- readr::read_rds(file = paste0(datapath,\"capTCRseq/meta_div_goodsamples.rds\"))"
   ]
  },
  {
   "attachments": {},
   "cell_type": "markdown",
   "metadata": {},
   "source": [
    "# Generate input test data\n",
    "\n",
    "with LFS data"
   ]
  },
  {
   "cell_type": "code",
   "execution_count": 5,
   "metadata": {
    "vscode": {
     "languageId": "r"
    }
   },
   "outputs": [],
   "source": [
    "load(file = paste0(datapath, \"capTCRseq/gliph_int_covid_tcr.RData\"))"
   ]
  },
  {
   "cell_type": "code",
   "execution_count": 6,
   "metadata": {
    "vscode": {
     "languageId": "r"
    }
   },
   "outputs": [],
   "source": [
    "lfs_fortest <- gliph_int_covid_tcr[grepl(\"LFS\", gliph_int_covid_tcr$subject),]"
   ]
  },
  {
   "cell_type": "code",
   "execution_count": 7,
   "metadata": {
    "vscode": {
     "languageId": "r"
    }
   },
   "outputs": [
    {
     "data": {
      "text/html": [
       "<table class=\"dataframe\">\n",
       "<caption>A data.table: 2 x 10</caption>\n",
       "<thead>\n",
       "\t<tr><th scope=col>CDR3b</th><th scope=col>TRBV</th><th scope=col>TRBJ</th><th scope=col>CDR3a</th><th scope=col>subject:condition</th><th scope=col>count</th><th scope=col>clonefraction</th><th scope=col>subject</th><th scope=col>file</th><th scope=col>index</th></tr>\n",
       "\t<tr><th scope=col>&lt;chr&gt;</th><th scope=col>&lt;chr&gt;</th><th scope=col>&lt;chr&gt;</th><th scope=col>&lt;lgl&gt;</th><th scope=col>&lt;chr&gt;</th><th scope=col>&lt;dbl&gt;</th><th scope=col>&lt;dbl&gt;</th><th scope=col>&lt;chr&gt;</th><th scope=col>&lt;chr&gt;</th><th scope=col>&lt;int&gt;</th></tr>\n",
       "</thead>\n",
       "<tbody>\n",
       "\t<tr><td>CASSPRDTDNEKLFF</td><td>TRBV18  </td><td>TRBJ1-4</td><td>NA</td><td>LFS_TCR:55582</td><td>45</td><td>0.008377761</td><td>LFS_TCR-4570-PBMC-DNA, LFS_TCR-4758-PBMC-DNA</td><td>/Users/anabbi/Desktop/H4H/INTERCEPT/NextSeq/batch2_Aug62019/mixcr/clones/CLONES_TRBLFS_TCR-4570-PBMC-DNA.txt, /Users/anabbi/Desktop/H4H/INTERCEPT/NextSeq/batch2_Aug62019/mixcr/clones/CLONES_TRBLFS_TCR-4758-PBMC-DNA.txt</td><td>55582</td></tr>\n",
       "\t<tr><td>CATSARRGDSEKLFF</td><td>TRBV24-1</td><td>TRBJ1-4</td><td>NA</td><td>LFS_TCR:56059</td><td> 5</td><td>0.005148005</td><td>LFS_TCR-4759-PBMC-DNA, LFS_TCR-4783-PBMC-DNA</td><td>/Users/anabbi/Desktop/H4H/INTERCEPT/NextSeq/batch2_Aug62019/mixcr/clones/CLONES_TRBLFS_TCR-4759-PBMC-DNA.txt, /Users/anabbi/Desktop/H4H/INTERCEPT/NextSeq/batch2_Aug62019/mixcr/clones/CLONES_TRBLFS_TCR-4783-PBMC-DNA.txt</td><td>56059</td></tr>\n",
       "</tbody>\n",
       "</table>\n"
      ],
      "text/latex": [
       "A data.table: 2 x 10\n",
       "\\begin{tabular}{llllllllll}\n",
       " CDR3b & TRBV & TRBJ & CDR3a & subject:condition & count & clonefraction & subject & file & index\\\\\n",
       " <chr> & <chr> & <chr> & <lgl> & <chr> & <dbl> & <dbl> & <chr> & <chr> & <int>\\\\\n",
       "\\hline\n",
       "\t CASSPRDTDNEKLFF & TRBV18   & TRBJ1-4 & NA & LFS\\_TCR:55582 & 45 & 0.008377761 & LFS\\_TCR-4570-PBMC-DNA, LFS\\_TCR-4758-PBMC-DNA & /Users/anabbi/Desktop/H4H/INTERCEPT/NextSeq/batch2\\_Aug62019/mixcr/clones/CLONES\\_TRBLFS\\_TCR-4570-PBMC-DNA.txt, /Users/anabbi/Desktop/H4H/INTERCEPT/NextSeq/batch2\\_Aug62019/mixcr/clones/CLONES\\_TRBLFS\\_TCR-4758-PBMC-DNA.txt & 55582\\\\\n",
       "\t CATSARRGDSEKLFF & TRBV24-1 & TRBJ1-4 & NA & LFS\\_TCR:56059 &  5 & 0.005148005 & LFS\\_TCR-4759-PBMC-DNA, LFS\\_TCR-4783-PBMC-DNA & /Users/anabbi/Desktop/H4H/INTERCEPT/NextSeq/batch2\\_Aug62019/mixcr/clones/CLONES\\_TRBLFS\\_TCR-4759-PBMC-DNA.txt, /Users/anabbi/Desktop/H4H/INTERCEPT/NextSeq/batch2\\_Aug62019/mixcr/clones/CLONES\\_TRBLFS\\_TCR-4783-PBMC-DNA.txt & 56059\\\\\n",
       "\\end{tabular}\n"
      ],
      "text/markdown": [
       "\n",
       "A data.table: 2 x 10\n",
       "\n",
       "| CDR3b &lt;chr&gt; | TRBV &lt;chr&gt; | TRBJ &lt;chr&gt; | CDR3a &lt;lgl&gt; | subject:condition &lt;chr&gt; | count &lt;dbl&gt; | clonefraction &lt;dbl&gt; | subject &lt;chr&gt; | file &lt;chr&gt; | index &lt;int&gt; |\n",
       "|---|---|---|---|---|---|---|---|---|---|\n",
       "| CASSPRDTDNEKLFF | TRBV18   | TRBJ1-4 | NA | LFS_TCR:55582 | 45 | 0.008377761 | LFS_TCR-4570-PBMC-DNA, LFS_TCR-4758-PBMC-DNA | /Users/anabbi/Desktop/H4H/INTERCEPT/NextSeq/batch2_Aug62019/mixcr/clones/CLONES_TRBLFS_TCR-4570-PBMC-DNA.txt, /Users/anabbi/Desktop/H4H/INTERCEPT/NextSeq/batch2_Aug62019/mixcr/clones/CLONES_TRBLFS_TCR-4758-PBMC-DNA.txt | 55582 |\n",
       "| CATSARRGDSEKLFF | TRBV24-1 | TRBJ1-4 | NA | LFS_TCR:56059 |  5 | 0.005148005 | LFS_TCR-4759-PBMC-DNA, LFS_TCR-4783-PBMC-DNA | /Users/anabbi/Desktop/H4H/INTERCEPT/NextSeq/batch2_Aug62019/mixcr/clones/CLONES_TRBLFS_TCR-4759-PBMC-DNA.txt, /Users/anabbi/Desktop/H4H/INTERCEPT/NextSeq/batch2_Aug62019/mixcr/clones/CLONES_TRBLFS_TCR-4783-PBMC-DNA.txt | 56059 |\n",
       "\n"
      ],
      "text/plain": [
       "  CDR3b           TRBV     TRBJ    CDR3a subject:condition count clonefraction\n",
       "1 CASSPRDTDNEKLFF TRBV18   TRBJ1-4 NA    LFS_TCR:55582     45    0.008377761  \n",
       "2 CATSARRGDSEKLFF TRBV24-1 TRBJ1-4 NA    LFS_TCR:56059      5    0.005148005  \n",
       "  subject                                     \n",
       "1 LFS_TCR-4570-PBMC-DNA, LFS_TCR-4758-PBMC-DNA\n",
       "2 LFS_TCR-4759-PBMC-DNA, LFS_TCR-4783-PBMC-DNA\n",
       "  file                                                                                                                                                                                                                      \n",
       "1 /Users/anabbi/Desktop/H4H/INTERCEPT/NextSeq/batch2_Aug62019/mixcr/clones/CLONES_TRBLFS_TCR-4570-PBMC-DNA.txt, /Users/anabbi/Desktop/H4H/INTERCEPT/NextSeq/batch2_Aug62019/mixcr/clones/CLONES_TRBLFS_TCR-4758-PBMC-DNA.txt\n",
       "2 /Users/anabbi/Desktop/H4H/INTERCEPT/NextSeq/batch2_Aug62019/mixcr/clones/CLONES_TRBLFS_TCR-4759-PBMC-DNA.txt, /Users/anabbi/Desktop/H4H/INTERCEPT/NextSeq/batch2_Aug62019/mixcr/clones/CLONES_TRBLFS_TCR-4783-PBMC-DNA.txt\n",
       "  index\n",
       "1 55582\n",
       "2 56059"
      ]
     },
     "metadata": {},
     "output_type": "display_data"
    }
   ],
   "source": [
    "lfs_fortest[grepl(\",\", lfs_fortest$file),] "
   ]
  },
  {
   "cell_type": "code",
   "execution_count": 8,
   "metadata": {
    "vscode": {
     "languageId": "r"
    }
   },
   "outputs": [
    {
     "data": {
      "text/html": [
       "<table class=\"dataframe\">\n",
       "<caption>A data.table: 1 x 10</caption>\n",
       "<thead>\n",
       "\t<tr><th scope=col>CDR3b</th><th scope=col>TRBV</th><th scope=col>TRBJ</th><th scope=col>CDR3a</th><th scope=col>subject:condition</th><th scope=col>count</th><th scope=col>clonefraction</th><th scope=col>subject</th><th scope=col>file</th><th scope=col>index</th></tr>\n",
       "\t<tr><th scope=col>&lt;chr&gt;</th><th scope=col>&lt;chr&gt;</th><th scope=col>&lt;chr&gt;</th><th scope=col>&lt;lgl&gt;</th><th scope=col>&lt;chr&gt;</th><th scope=col>&lt;dbl&gt;</th><th scope=col>&lt;dbl&gt;</th><th scope=col>&lt;chr&gt;</th><th scope=col>&lt;chr&gt;</th><th scope=col>&lt;int&gt;</th></tr>\n",
       "</thead>\n",
       "<tbody>\n",
       "\t<tr><td>CASSPLDSPANYGYTF</td><td>TRBV18</td><td>TRBJ1-2</td><td>NA</td><td>LFS_TCR:55542</td><td>7</td><td>0.001269496</td><td>LFS_TCR-4758-PBMC-DNA</td><td>/Users/anabbi/Desktop/H4H/INTERCEPT/NextSeq/batch2_Aug62019/mixcr/clones/CLONES_TRBLFS_TCR-4758-PBMC-DNA.txt</td><td>55542</td></tr>\n",
       "</tbody>\n",
       "</table>\n"
      ],
      "text/latex": [
       "A data.table: 1 x 10\n",
       "\\begin{tabular}{llllllllll}\n",
       " CDR3b & TRBV & TRBJ & CDR3a & subject:condition & count & clonefraction & subject & file & index\\\\\n",
       " <chr> & <chr> & <chr> & <lgl> & <chr> & <dbl> & <dbl> & <chr> & <chr> & <int>\\\\\n",
       "\\hline\n",
       "\t CASSPLDSPANYGYTF & TRBV18 & TRBJ1-2 & NA & LFS\\_TCR:55542 & 7 & 0.001269496 & LFS\\_TCR-4758-PBMC-DNA & /Users/anabbi/Desktop/H4H/INTERCEPT/NextSeq/batch2\\_Aug62019/mixcr/clones/CLONES\\_TRBLFS\\_TCR-4758-PBMC-DNA.txt & 55542\\\\\n",
       "\\end{tabular}\n"
      ],
      "text/markdown": [
       "\n",
       "A data.table: 1 x 10\n",
       "\n",
       "| CDR3b &lt;chr&gt; | TRBV &lt;chr&gt; | TRBJ &lt;chr&gt; | CDR3a &lt;lgl&gt; | subject:condition &lt;chr&gt; | count &lt;dbl&gt; | clonefraction &lt;dbl&gt; | subject &lt;chr&gt; | file &lt;chr&gt; | index &lt;int&gt; |\n",
       "|---|---|---|---|---|---|---|---|---|---|\n",
       "| CASSPLDSPANYGYTF | TRBV18 | TRBJ1-2 | NA | LFS_TCR:55542 | 7 | 0.001269496 | LFS_TCR-4758-PBMC-DNA | /Users/anabbi/Desktop/H4H/INTERCEPT/NextSeq/batch2_Aug62019/mixcr/clones/CLONES_TRBLFS_TCR-4758-PBMC-DNA.txt | 55542 |\n",
       "\n"
      ],
      "text/plain": [
       "  CDR3b            TRBV   TRBJ    CDR3a subject:condition count clonefraction\n",
       "1 CASSPLDSPANYGYTF TRBV18 TRBJ1-2 NA    LFS_TCR:55542     7     0.001269496  \n",
       "  subject              \n",
       "1 LFS_TCR-4758-PBMC-DNA\n",
       "  file                                                                                                        \n",
       "1 /Users/anabbi/Desktop/H4H/INTERCEPT/NextSeq/batch2_Aug62019/mixcr/clones/CLONES_TRBLFS_TCR-4758-PBMC-DNA.txt\n",
       "  index\n",
       "1 55542"
      ]
     },
     "metadata": {},
     "output_type": "display_data"
    }
   ],
   "source": [
    "lfs_fortest[grepl(\"CASSPLDSPANYGYTF\", lfs_fortest$CDR3b),] "
   ]
  },
  {
   "attachments": {},
   "cell_type": "markdown",
   "metadata": {},
   "source": [
    "arbitrarily repeat the above sequence for testing"
   ]
  },
  {
   "cell_type": "code",
   "execution_count": 9,
   "metadata": {
    "vscode": {
     "languageId": "r"
    }
   },
   "outputs": [],
   "source": [
    "lfs_fortest$subject[grepl(\"CASSPLDSPANYGYTF\", lfs_fortest$CDR3b)] <- \"LFS_TCR-4758-PBMC-DNA, LFS_TCR-4570-PBMC-DNA\"\n",
    "lfs_fortest$file[grepl(\"CASSPLDSPANYGYTF\", lfs_fortest$CDR3b)] <- \"/Users/anabbi/Desktop/H4H/INTERCEPT/NextSeq/batch2_Aug62019/mixcr/clones/CLONES_TRBLFS_TCR-4758-PBMC-DNA.txt, /Users/anabbi/Desktop/H4H/INTERCEPT/NextSeq/batch2_Aug62019/mixcr/clones/CLONES_TRBLFS_TCR-4570-PBMC-DNA.txt\""
   ]
  },
  {
   "cell_type": "code",
   "execution_count": 10,
   "metadata": {
    "vscode": {
     "languageId": "r"
    }
   },
   "outputs": [
    {
     "data": {
      "text/html": [
       "<table class=\"dataframe\">\n",
       "<caption>A data.table: 1 x 10</caption>\n",
       "<thead>\n",
       "\t<tr><th scope=col>CDR3b</th><th scope=col>TRBV</th><th scope=col>TRBJ</th><th scope=col>CDR3a</th><th scope=col>subject:condition</th><th scope=col>count</th><th scope=col>clonefraction</th><th scope=col>subject</th><th scope=col>file</th><th scope=col>index</th></tr>\n",
       "\t<tr><th scope=col>&lt;chr&gt;</th><th scope=col>&lt;chr&gt;</th><th scope=col>&lt;chr&gt;</th><th scope=col>&lt;lgl&gt;</th><th scope=col>&lt;chr&gt;</th><th scope=col>&lt;dbl&gt;</th><th scope=col>&lt;dbl&gt;</th><th scope=col>&lt;chr&gt;</th><th scope=col>&lt;chr&gt;</th><th scope=col>&lt;int&gt;</th></tr>\n",
       "</thead>\n",
       "<tbody>\n",
       "\t<tr><td>CASSPLDSPANYGYTF</td><td>TRBV18</td><td>TRBJ1-2</td><td>NA</td><td>LFS_TCR:55542</td><td>7</td><td>0.001269496</td><td>LFS_TCR-4758-PBMC-DNA, LFS_TCR-4570-PBMC-DNA</td><td>/Users/anabbi/Desktop/H4H/INTERCEPT/NextSeq/batch2_Aug62019/mixcr/clones/CLONES_TRBLFS_TCR-4758-PBMC-DNA.txt, /Users/anabbi/Desktop/H4H/INTERCEPT/NextSeq/batch2_Aug62019/mixcr/clones/CLONES_TRBLFS_TCR-4570-PBMC-DNA.txt</td><td>55542</td></tr>\n",
       "</tbody>\n",
       "</table>\n"
      ],
      "text/latex": [
       "A data.table: 1 x 10\n",
       "\\begin{tabular}{llllllllll}\n",
       " CDR3b & TRBV & TRBJ & CDR3a & subject:condition & count & clonefraction & subject & file & index\\\\\n",
       " <chr> & <chr> & <chr> & <lgl> & <chr> & <dbl> & <dbl> & <chr> & <chr> & <int>\\\\\n",
       "\\hline\n",
       "\t CASSPLDSPANYGYTF & TRBV18 & TRBJ1-2 & NA & LFS\\_TCR:55542 & 7 & 0.001269496 & LFS\\_TCR-4758-PBMC-DNA, LFS\\_TCR-4570-PBMC-DNA & /Users/anabbi/Desktop/H4H/INTERCEPT/NextSeq/batch2\\_Aug62019/mixcr/clones/CLONES\\_TRBLFS\\_TCR-4758-PBMC-DNA.txt, /Users/anabbi/Desktop/H4H/INTERCEPT/NextSeq/batch2\\_Aug62019/mixcr/clones/CLONES\\_TRBLFS\\_TCR-4570-PBMC-DNA.txt & 55542\\\\\n",
       "\\end{tabular}\n"
      ],
      "text/markdown": [
       "\n",
       "A data.table: 1 x 10\n",
       "\n",
       "| CDR3b &lt;chr&gt; | TRBV &lt;chr&gt; | TRBJ &lt;chr&gt; | CDR3a &lt;lgl&gt; | subject:condition &lt;chr&gt; | count &lt;dbl&gt; | clonefraction &lt;dbl&gt; | subject &lt;chr&gt; | file &lt;chr&gt; | index &lt;int&gt; |\n",
       "|---|---|---|---|---|---|---|---|---|---|\n",
       "| CASSPLDSPANYGYTF | TRBV18 | TRBJ1-2 | NA | LFS_TCR:55542 | 7 | 0.001269496 | LFS_TCR-4758-PBMC-DNA, LFS_TCR-4570-PBMC-DNA | /Users/anabbi/Desktop/H4H/INTERCEPT/NextSeq/batch2_Aug62019/mixcr/clones/CLONES_TRBLFS_TCR-4758-PBMC-DNA.txt, /Users/anabbi/Desktop/H4H/INTERCEPT/NextSeq/batch2_Aug62019/mixcr/clones/CLONES_TRBLFS_TCR-4570-PBMC-DNA.txt | 55542 |\n",
       "\n"
      ],
      "text/plain": [
       "  CDR3b            TRBV   TRBJ    CDR3a subject:condition count clonefraction\n",
       "1 CASSPLDSPANYGYTF TRBV18 TRBJ1-2 NA    LFS_TCR:55542     7     0.001269496  \n",
       "  subject                                     \n",
       "1 LFS_TCR-4758-PBMC-DNA, LFS_TCR-4570-PBMC-DNA\n",
       "  file                                                                                                                                                                                                                      \n",
       "1 /Users/anabbi/Desktop/H4H/INTERCEPT/NextSeq/batch2_Aug62019/mixcr/clones/CLONES_TRBLFS_TCR-4758-PBMC-DNA.txt, /Users/anabbi/Desktop/H4H/INTERCEPT/NextSeq/batch2_Aug62019/mixcr/clones/CLONES_TRBLFS_TCR-4570-PBMC-DNA.txt\n",
       "  index\n",
       "1 55542"
      ]
     },
     "metadata": {},
     "output_type": "display_data"
    }
   ],
   "source": [
    "lfs_fortest[grepl(\"CASSPLDSPANYGYTF\", lfs_fortest$CDR3b),] "
   ]
  },
  {
   "cell_type": "code",
   "execution_count": 11,
   "metadata": {
    "vscode": {
     "languageId": "r"
    }
   },
   "outputs": [],
   "source": [
    "# this file has the unique CDR3s across the entire cohort (LFS)\n",
    "write.table(lfs_fortest[,1:6], file = paste0(h4hpath,\"lfs_fortest_uniqueCDR3s.txt\"), sep = \"\\t\", quote = F, row.names = F, col.names = F)"
   ]
  },
  {
   "cell_type": "code",
   "execution_count": 12,
   "metadata": {
    "vscode": {
     "languageId": "r"
    }
   },
   "outputs": [],
   "source": [
    "lfs_fortest_sep <- tidyr::separate_rows(lfs_fortest, subject, sep = \",\")"
   ]
  },
  {
   "cell_type": "code",
   "execution_count": 13,
   "metadata": {
    "vscode": {
     "languageId": "r"
    }
   },
   "outputs": [
    {
     "data": {
      "text/html": [
       "<table class=\"dataframe\">\n",
       "<caption>A tibble: 6 x 10</caption>\n",
       "<thead>\n",
       "\t<tr><th scope=col>CDR3b</th><th scope=col>TRBV</th><th scope=col>TRBJ</th><th scope=col>CDR3a</th><th scope=col>subject:condition</th><th scope=col>count</th><th scope=col>clonefraction</th><th scope=col>subject</th><th scope=col>file</th><th scope=col>index</th></tr>\n",
       "\t<tr><th scope=col>&lt;chr&gt;</th><th scope=col>&lt;chr&gt;</th><th scope=col>&lt;chr&gt;</th><th scope=col>&lt;lgl&gt;</th><th scope=col>&lt;chr&gt;</th><th scope=col>&lt;dbl&gt;</th><th scope=col>&lt;dbl&gt;</th><th scope=col>&lt;chr&gt;</th><th scope=col>&lt;chr&gt;</th><th scope=col>&lt;int&gt;</th></tr>\n",
       "</thead>\n",
       "<tbody>\n",
       "\t<tr><td>CASSPLDSPANYGYTF</td><td>TRBV18  </td><td>TRBJ1-2</td><td>NA</td><td>LFS_TCR:55542</td><td> 7</td><td>0.001269496</td><td>LFS_TCR-4758-PBMC-DNA </td><td>/Users/anabbi/Desktop/H4H/INTERCEPT/NextSeq/batch2_Aug62019/mixcr/clones/CLONES_TRBLFS_TCR-4758-PBMC-DNA.txt, /Users/anabbi/Desktop/H4H/INTERCEPT/NextSeq/batch2_Aug62019/mixcr/clones/CLONES_TRBLFS_TCR-4570-PBMC-DNA.txt</td><td>55542</td></tr>\n",
       "\t<tr><td>CASSPLDSPANYGYTF</td><td>TRBV18  </td><td>TRBJ1-2</td><td>NA</td><td>LFS_TCR:55542</td><td> 7</td><td>0.001269496</td><td> LFS_TCR-4570-PBMC-DNA</td><td>/Users/anabbi/Desktop/H4H/INTERCEPT/NextSeq/batch2_Aug62019/mixcr/clones/CLONES_TRBLFS_TCR-4758-PBMC-DNA.txt, /Users/anabbi/Desktop/H4H/INTERCEPT/NextSeq/batch2_Aug62019/mixcr/clones/CLONES_TRBLFS_TCR-4570-PBMC-DNA.txt</td><td>55542</td></tr>\n",
       "\t<tr><td>CASSPRDTDNEKLFF </td><td>TRBV18  </td><td>TRBJ1-4</td><td>NA</td><td>LFS_TCR:55582</td><td>45</td><td>0.008377761</td><td>LFS_TCR-4570-PBMC-DNA </td><td>/Users/anabbi/Desktop/H4H/INTERCEPT/NextSeq/batch2_Aug62019/mixcr/clones/CLONES_TRBLFS_TCR-4570-PBMC-DNA.txt, /Users/anabbi/Desktop/H4H/INTERCEPT/NextSeq/batch2_Aug62019/mixcr/clones/CLONES_TRBLFS_TCR-4758-PBMC-DNA.txt</td><td>55582</td></tr>\n",
       "\t<tr><td>CASSPRDTDNEKLFF </td><td>TRBV18  </td><td>TRBJ1-4</td><td>NA</td><td>LFS_TCR:55582</td><td>45</td><td>0.008377761</td><td> LFS_TCR-4758-PBMC-DNA</td><td>/Users/anabbi/Desktop/H4H/INTERCEPT/NextSeq/batch2_Aug62019/mixcr/clones/CLONES_TRBLFS_TCR-4570-PBMC-DNA.txt, /Users/anabbi/Desktop/H4H/INTERCEPT/NextSeq/batch2_Aug62019/mixcr/clones/CLONES_TRBLFS_TCR-4758-PBMC-DNA.txt</td><td>55582</td></tr>\n",
       "\t<tr><td>CATSARRGDSEKLFF </td><td>TRBV24-1</td><td>TRBJ1-4</td><td>NA</td><td>LFS_TCR:56059</td><td> 5</td><td>0.005148005</td><td>LFS_TCR-4759-PBMC-DNA </td><td>/Users/anabbi/Desktop/H4H/INTERCEPT/NextSeq/batch2_Aug62019/mixcr/clones/CLONES_TRBLFS_TCR-4759-PBMC-DNA.txt, /Users/anabbi/Desktop/H4H/INTERCEPT/NextSeq/batch2_Aug62019/mixcr/clones/CLONES_TRBLFS_TCR-4783-PBMC-DNA.txt</td><td>56059</td></tr>\n",
       "\t<tr><td>CATSARRGDSEKLFF </td><td>TRBV24-1</td><td>TRBJ1-4</td><td>NA</td><td>LFS_TCR:56059</td><td> 5</td><td>0.005148005</td><td> LFS_TCR-4783-PBMC-DNA</td><td>/Users/anabbi/Desktop/H4H/INTERCEPT/NextSeq/batch2_Aug62019/mixcr/clones/CLONES_TRBLFS_TCR-4759-PBMC-DNA.txt, /Users/anabbi/Desktop/H4H/INTERCEPT/NextSeq/batch2_Aug62019/mixcr/clones/CLONES_TRBLFS_TCR-4783-PBMC-DNA.txt</td><td>56059</td></tr>\n",
       "</tbody>\n",
       "</table>\n"
      ],
      "text/latex": [
       "A tibble: 6 x 10\n",
       "\\begin{tabular}{llllllllll}\n",
       " CDR3b & TRBV & TRBJ & CDR3a & subject:condition & count & clonefraction & subject & file & index\\\\\n",
       " <chr> & <chr> & <chr> & <lgl> & <chr> & <dbl> & <dbl> & <chr> & <chr> & <int>\\\\\n",
       "\\hline\n",
       "\t CASSPLDSPANYGYTF & TRBV18   & TRBJ1-2 & NA & LFS\\_TCR:55542 &  7 & 0.001269496 & LFS\\_TCR-4758-PBMC-DNA  & /Users/anabbi/Desktop/H4H/INTERCEPT/NextSeq/batch2\\_Aug62019/mixcr/clones/CLONES\\_TRBLFS\\_TCR-4758-PBMC-DNA.txt, /Users/anabbi/Desktop/H4H/INTERCEPT/NextSeq/batch2\\_Aug62019/mixcr/clones/CLONES\\_TRBLFS\\_TCR-4570-PBMC-DNA.txt & 55542\\\\\n",
       "\t CASSPLDSPANYGYTF & TRBV18   & TRBJ1-2 & NA & LFS\\_TCR:55542 &  7 & 0.001269496 &  LFS\\_TCR-4570-PBMC-DNA & /Users/anabbi/Desktop/H4H/INTERCEPT/NextSeq/batch2\\_Aug62019/mixcr/clones/CLONES\\_TRBLFS\\_TCR-4758-PBMC-DNA.txt, /Users/anabbi/Desktop/H4H/INTERCEPT/NextSeq/batch2\\_Aug62019/mixcr/clones/CLONES\\_TRBLFS\\_TCR-4570-PBMC-DNA.txt & 55542\\\\\n",
       "\t CASSPRDTDNEKLFF  & TRBV18   & TRBJ1-4 & NA & LFS\\_TCR:55582 & 45 & 0.008377761 & LFS\\_TCR-4570-PBMC-DNA  & /Users/anabbi/Desktop/H4H/INTERCEPT/NextSeq/batch2\\_Aug62019/mixcr/clones/CLONES\\_TRBLFS\\_TCR-4570-PBMC-DNA.txt, /Users/anabbi/Desktop/H4H/INTERCEPT/NextSeq/batch2\\_Aug62019/mixcr/clones/CLONES\\_TRBLFS\\_TCR-4758-PBMC-DNA.txt & 55582\\\\\n",
       "\t CASSPRDTDNEKLFF  & TRBV18   & TRBJ1-4 & NA & LFS\\_TCR:55582 & 45 & 0.008377761 &  LFS\\_TCR-4758-PBMC-DNA & /Users/anabbi/Desktop/H4H/INTERCEPT/NextSeq/batch2\\_Aug62019/mixcr/clones/CLONES\\_TRBLFS\\_TCR-4570-PBMC-DNA.txt, /Users/anabbi/Desktop/H4H/INTERCEPT/NextSeq/batch2\\_Aug62019/mixcr/clones/CLONES\\_TRBLFS\\_TCR-4758-PBMC-DNA.txt & 55582\\\\\n",
       "\t CATSARRGDSEKLFF  & TRBV24-1 & TRBJ1-4 & NA & LFS\\_TCR:56059 &  5 & 0.005148005 & LFS\\_TCR-4759-PBMC-DNA  & /Users/anabbi/Desktop/H4H/INTERCEPT/NextSeq/batch2\\_Aug62019/mixcr/clones/CLONES\\_TRBLFS\\_TCR-4759-PBMC-DNA.txt, /Users/anabbi/Desktop/H4H/INTERCEPT/NextSeq/batch2\\_Aug62019/mixcr/clones/CLONES\\_TRBLFS\\_TCR-4783-PBMC-DNA.txt & 56059\\\\\n",
       "\t CATSARRGDSEKLFF  & TRBV24-1 & TRBJ1-4 & NA & LFS\\_TCR:56059 &  5 & 0.005148005 &  LFS\\_TCR-4783-PBMC-DNA & /Users/anabbi/Desktop/H4H/INTERCEPT/NextSeq/batch2\\_Aug62019/mixcr/clones/CLONES\\_TRBLFS\\_TCR-4759-PBMC-DNA.txt, /Users/anabbi/Desktop/H4H/INTERCEPT/NextSeq/batch2\\_Aug62019/mixcr/clones/CLONES\\_TRBLFS\\_TCR-4783-PBMC-DNA.txt & 56059\\\\\n",
       "\\end{tabular}\n"
      ],
      "text/markdown": [
       "\n",
       "A tibble: 6 x 10\n",
       "\n",
       "| CDR3b &lt;chr&gt; | TRBV &lt;chr&gt; | TRBJ &lt;chr&gt; | CDR3a &lt;lgl&gt; | subject:condition &lt;chr&gt; | count &lt;dbl&gt; | clonefraction &lt;dbl&gt; | subject &lt;chr&gt; | file &lt;chr&gt; | index &lt;int&gt; |\n",
       "|---|---|---|---|---|---|---|---|---|---|\n",
       "| CASSPLDSPANYGYTF | TRBV18   | TRBJ1-2 | NA | LFS_TCR:55542 |  7 | 0.001269496 | LFS_TCR-4758-PBMC-DNA  | /Users/anabbi/Desktop/H4H/INTERCEPT/NextSeq/batch2_Aug62019/mixcr/clones/CLONES_TRBLFS_TCR-4758-PBMC-DNA.txt, /Users/anabbi/Desktop/H4H/INTERCEPT/NextSeq/batch2_Aug62019/mixcr/clones/CLONES_TRBLFS_TCR-4570-PBMC-DNA.txt | 55542 |\n",
       "| CASSPLDSPANYGYTF | TRBV18   | TRBJ1-2 | NA | LFS_TCR:55542 |  7 | 0.001269496 |  LFS_TCR-4570-PBMC-DNA | /Users/anabbi/Desktop/H4H/INTERCEPT/NextSeq/batch2_Aug62019/mixcr/clones/CLONES_TRBLFS_TCR-4758-PBMC-DNA.txt, /Users/anabbi/Desktop/H4H/INTERCEPT/NextSeq/batch2_Aug62019/mixcr/clones/CLONES_TRBLFS_TCR-4570-PBMC-DNA.txt | 55542 |\n",
       "| CASSPRDTDNEKLFF  | TRBV18   | TRBJ1-4 | NA | LFS_TCR:55582 | 45 | 0.008377761 | LFS_TCR-4570-PBMC-DNA  | /Users/anabbi/Desktop/H4H/INTERCEPT/NextSeq/batch2_Aug62019/mixcr/clones/CLONES_TRBLFS_TCR-4570-PBMC-DNA.txt, /Users/anabbi/Desktop/H4H/INTERCEPT/NextSeq/batch2_Aug62019/mixcr/clones/CLONES_TRBLFS_TCR-4758-PBMC-DNA.txt | 55582 |\n",
       "| CASSPRDTDNEKLFF  | TRBV18   | TRBJ1-4 | NA | LFS_TCR:55582 | 45 | 0.008377761 |  LFS_TCR-4758-PBMC-DNA | /Users/anabbi/Desktop/H4H/INTERCEPT/NextSeq/batch2_Aug62019/mixcr/clones/CLONES_TRBLFS_TCR-4570-PBMC-DNA.txt, /Users/anabbi/Desktop/H4H/INTERCEPT/NextSeq/batch2_Aug62019/mixcr/clones/CLONES_TRBLFS_TCR-4758-PBMC-DNA.txt | 55582 |\n",
       "| CATSARRGDSEKLFF  | TRBV24-1 | TRBJ1-4 | NA | LFS_TCR:56059 |  5 | 0.005148005 | LFS_TCR-4759-PBMC-DNA  | /Users/anabbi/Desktop/H4H/INTERCEPT/NextSeq/batch2_Aug62019/mixcr/clones/CLONES_TRBLFS_TCR-4759-PBMC-DNA.txt, /Users/anabbi/Desktop/H4H/INTERCEPT/NextSeq/batch2_Aug62019/mixcr/clones/CLONES_TRBLFS_TCR-4783-PBMC-DNA.txt | 56059 |\n",
       "| CATSARRGDSEKLFF  | TRBV24-1 | TRBJ1-4 | NA | LFS_TCR:56059 |  5 | 0.005148005 |  LFS_TCR-4783-PBMC-DNA | /Users/anabbi/Desktop/H4H/INTERCEPT/NextSeq/batch2_Aug62019/mixcr/clones/CLONES_TRBLFS_TCR-4759-PBMC-DNA.txt, /Users/anabbi/Desktop/H4H/INTERCEPT/NextSeq/batch2_Aug62019/mixcr/clones/CLONES_TRBLFS_TCR-4783-PBMC-DNA.txt | 56059 |\n",
       "\n"
      ],
      "text/plain": [
       "  CDR3b            TRBV     TRBJ    CDR3a subject:condition count clonefraction\n",
       "1 CASSPLDSPANYGYTF TRBV18   TRBJ1-2 NA    LFS_TCR:55542      7    0.001269496  \n",
       "2 CASSPLDSPANYGYTF TRBV18   TRBJ1-2 NA    LFS_TCR:55542      7    0.001269496  \n",
       "3 CASSPRDTDNEKLFF  TRBV18   TRBJ1-4 NA    LFS_TCR:55582     45    0.008377761  \n",
       "4 CASSPRDTDNEKLFF  TRBV18   TRBJ1-4 NA    LFS_TCR:55582     45    0.008377761  \n",
       "5 CATSARRGDSEKLFF  TRBV24-1 TRBJ1-4 NA    LFS_TCR:56059      5    0.005148005  \n",
       "6 CATSARRGDSEKLFF  TRBV24-1 TRBJ1-4 NA    LFS_TCR:56059      5    0.005148005  \n",
       "  subject               \n",
       "1 LFS_TCR-4758-PBMC-DNA \n",
       "2  LFS_TCR-4570-PBMC-DNA\n",
       "3 LFS_TCR-4570-PBMC-DNA \n",
       "4  LFS_TCR-4758-PBMC-DNA\n",
       "5 LFS_TCR-4759-PBMC-DNA \n",
       "6  LFS_TCR-4783-PBMC-DNA\n",
       "  file                                                                                                                                                                                                                      \n",
       "1 /Users/anabbi/Desktop/H4H/INTERCEPT/NextSeq/batch2_Aug62019/mixcr/clones/CLONES_TRBLFS_TCR-4758-PBMC-DNA.txt, /Users/anabbi/Desktop/H4H/INTERCEPT/NextSeq/batch2_Aug62019/mixcr/clones/CLONES_TRBLFS_TCR-4570-PBMC-DNA.txt\n",
       "2 /Users/anabbi/Desktop/H4H/INTERCEPT/NextSeq/batch2_Aug62019/mixcr/clones/CLONES_TRBLFS_TCR-4758-PBMC-DNA.txt, /Users/anabbi/Desktop/H4H/INTERCEPT/NextSeq/batch2_Aug62019/mixcr/clones/CLONES_TRBLFS_TCR-4570-PBMC-DNA.txt\n",
       "3 /Users/anabbi/Desktop/H4H/INTERCEPT/NextSeq/batch2_Aug62019/mixcr/clones/CLONES_TRBLFS_TCR-4570-PBMC-DNA.txt, /Users/anabbi/Desktop/H4H/INTERCEPT/NextSeq/batch2_Aug62019/mixcr/clones/CLONES_TRBLFS_TCR-4758-PBMC-DNA.txt\n",
       "4 /Users/anabbi/Desktop/H4H/INTERCEPT/NextSeq/batch2_Aug62019/mixcr/clones/CLONES_TRBLFS_TCR-4570-PBMC-DNA.txt, /Users/anabbi/Desktop/H4H/INTERCEPT/NextSeq/batch2_Aug62019/mixcr/clones/CLONES_TRBLFS_TCR-4758-PBMC-DNA.txt\n",
       "5 /Users/anabbi/Desktop/H4H/INTERCEPT/NextSeq/batch2_Aug62019/mixcr/clones/CLONES_TRBLFS_TCR-4759-PBMC-DNA.txt, /Users/anabbi/Desktop/H4H/INTERCEPT/NextSeq/batch2_Aug62019/mixcr/clones/CLONES_TRBLFS_TCR-4783-PBMC-DNA.txt\n",
       "6 /Users/anabbi/Desktop/H4H/INTERCEPT/NextSeq/batch2_Aug62019/mixcr/clones/CLONES_TRBLFS_TCR-4759-PBMC-DNA.txt, /Users/anabbi/Desktop/H4H/INTERCEPT/NextSeq/batch2_Aug62019/mixcr/clones/CLONES_TRBLFS_TCR-4783-PBMC-DNA.txt\n",
       "  index\n",
       "1 55542\n",
       "2 55542\n",
       "3 55582\n",
       "4 55582\n",
       "5 56059\n",
       "6 56059"
      ]
     },
     "metadata": {},
     "output_type": "display_data"
    }
   ],
   "source": [
    "lfs_fortest_sep[ grepl(\",\", lfs_fortest_sep$file),]"
   ]
  },
  {
   "cell_type": "code",
   "execution_count": 14,
   "metadata": {
    "vscode": {
     "languageId": "r"
    }
   },
   "outputs": [],
   "source": [
    "# To test the influence of non-unique cdr3s, separate_rows, subject:condition is identical\n",
    "write.table(lfs_fortest_sep[,1:6], file = paste0(h4hpath,\"lfs_fortest_nonuniqueCDR3s.txt\"), sep = \"\\t\", quote = F, row.names = F, col.names = F)"
   ]
  },
  {
   "cell_type": "code",
   "execution_count": 15,
   "metadata": {
    "vscode": {
     "languageId": "r"
    }
   },
   "outputs": [],
   "source": [
    "# sample_id as subject, 1 as condition, non unieuq cdr3s coming from different samples\n",
    "tmp <- lfs_fortest_sep\n",
    "tmp$`subject:condition` <- paste(tmp$subject, 1, sep = \":\")"
   ]
  },
  {
   "cell_type": "code",
   "execution_count": 16,
   "metadata": {
    "vscode": {
     "languageId": "r"
    }
   },
   "outputs": [
    {
     "data": {
      "text/html": [
       "<table class=\"dataframe\">\n",
       "<caption>A tibble: 6 x 10</caption>\n",
       "<thead>\n",
       "\t<tr><th scope=col>CDR3b</th><th scope=col>TRBV</th><th scope=col>TRBJ</th><th scope=col>CDR3a</th><th scope=col>subject:condition</th><th scope=col>count</th><th scope=col>clonefraction</th><th scope=col>subject</th><th scope=col>file</th><th scope=col>index</th></tr>\n",
       "\t<tr><th scope=col>&lt;chr&gt;</th><th scope=col>&lt;chr&gt;</th><th scope=col>&lt;chr&gt;</th><th scope=col>&lt;lgl&gt;</th><th scope=col>&lt;chr&gt;</th><th scope=col>&lt;dbl&gt;</th><th scope=col>&lt;dbl&gt;</th><th scope=col>&lt;chr&gt;</th><th scope=col>&lt;chr&gt;</th><th scope=col>&lt;int&gt;</th></tr>\n",
       "</thead>\n",
       "<tbody>\n",
       "\t<tr><td>CASSPLDSPANYGYTF</td><td>TRBV18  </td><td>TRBJ1-2</td><td>NA</td><td>LFS_TCR-4758-PBMC-DNA:1 </td><td> 7</td><td>0.001269496</td><td>LFS_TCR-4758-PBMC-DNA </td><td>/Users/anabbi/Desktop/H4H/INTERCEPT/NextSeq/batch2_Aug62019/mixcr/clones/CLONES_TRBLFS_TCR-4758-PBMC-DNA.txt, /Users/anabbi/Desktop/H4H/INTERCEPT/NextSeq/batch2_Aug62019/mixcr/clones/CLONES_TRBLFS_TCR-4570-PBMC-DNA.txt</td><td>55542</td></tr>\n",
       "\t<tr><td>CASSPLDSPANYGYTF</td><td>TRBV18  </td><td>TRBJ1-2</td><td>NA</td><td> LFS_TCR-4570-PBMC-DNA:1</td><td> 7</td><td>0.001269496</td><td> LFS_TCR-4570-PBMC-DNA</td><td>/Users/anabbi/Desktop/H4H/INTERCEPT/NextSeq/batch2_Aug62019/mixcr/clones/CLONES_TRBLFS_TCR-4758-PBMC-DNA.txt, /Users/anabbi/Desktop/H4H/INTERCEPT/NextSeq/batch2_Aug62019/mixcr/clones/CLONES_TRBLFS_TCR-4570-PBMC-DNA.txt</td><td>55542</td></tr>\n",
       "\t<tr><td>CASSPRDTDNEKLFF </td><td>TRBV18  </td><td>TRBJ1-4</td><td>NA</td><td>LFS_TCR-4570-PBMC-DNA:1 </td><td>45</td><td>0.008377761</td><td>LFS_TCR-4570-PBMC-DNA </td><td>/Users/anabbi/Desktop/H4H/INTERCEPT/NextSeq/batch2_Aug62019/mixcr/clones/CLONES_TRBLFS_TCR-4570-PBMC-DNA.txt, /Users/anabbi/Desktop/H4H/INTERCEPT/NextSeq/batch2_Aug62019/mixcr/clones/CLONES_TRBLFS_TCR-4758-PBMC-DNA.txt</td><td>55582</td></tr>\n",
       "\t<tr><td>CASSPRDTDNEKLFF </td><td>TRBV18  </td><td>TRBJ1-4</td><td>NA</td><td> LFS_TCR-4758-PBMC-DNA:1</td><td>45</td><td>0.008377761</td><td> LFS_TCR-4758-PBMC-DNA</td><td>/Users/anabbi/Desktop/H4H/INTERCEPT/NextSeq/batch2_Aug62019/mixcr/clones/CLONES_TRBLFS_TCR-4570-PBMC-DNA.txt, /Users/anabbi/Desktop/H4H/INTERCEPT/NextSeq/batch2_Aug62019/mixcr/clones/CLONES_TRBLFS_TCR-4758-PBMC-DNA.txt</td><td>55582</td></tr>\n",
       "\t<tr><td>CATSARRGDSEKLFF </td><td>TRBV24-1</td><td>TRBJ1-4</td><td>NA</td><td>LFS_TCR-4759-PBMC-DNA:1 </td><td> 5</td><td>0.005148005</td><td>LFS_TCR-4759-PBMC-DNA </td><td>/Users/anabbi/Desktop/H4H/INTERCEPT/NextSeq/batch2_Aug62019/mixcr/clones/CLONES_TRBLFS_TCR-4759-PBMC-DNA.txt, /Users/anabbi/Desktop/H4H/INTERCEPT/NextSeq/batch2_Aug62019/mixcr/clones/CLONES_TRBLFS_TCR-4783-PBMC-DNA.txt</td><td>56059</td></tr>\n",
       "\t<tr><td>CATSARRGDSEKLFF </td><td>TRBV24-1</td><td>TRBJ1-4</td><td>NA</td><td> LFS_TCR-4783-PBMC-DNA:1</td><td> 5</td><td>0.005148005</td><td> LFS_TCR-4783-PBMC-DNA</td><td>/Users/anabbi/Desktop/H4H/INTERCEPT/NextSeq/batch2_Aug62019/mixcr/clones/CLONES_TRBLFS_TCR-4759-PBMC-DNA.txt, /Users/anabbi/Desktop/H4H/INTERCEPT/NextSeq/batch2_Aug62019/mixcr/clones/CLONES_TRBLFS_TCR-4783-PBMC-DNA.txt</td><td>56059</td></tr>\n",
       "</tbody>\n",
       "</table>\n"
      ],
      "text/latex": [
       "A tibble: 6 x 10\n",
       "\\begin{tabular}{llllllllll}\n",
       " CDR3b & TRBV & TRBJ & CDR3a & subject:condition & count & clonefraction & subject & file & index\\\\\n",
       " <chr> & <chr> & <chr> & <lgl> & <chr> & <dbl> & <dbl> & <chr> & <chr> & <int>\\\\\n",
       "\\hline\n",
       "\t CASSPLDSPANYGYTF & TRBV18   & TRBJ1-2 & NA & LFS\\_TCR-4758-PBMC-DNA:1  &  7 & 0.001269496 & LFS\\_TCR-4758-PBMC-DNA  & /Users/anabbi/Desktop/H4H/INTERCEPT/NextSeq/batch2\\_Aug62019/mixcr/clones/CLONES\\_TRBLFS\\_TCR-4758-PBMC-DNA.txt, /Users/anabbi/Desktop/H4H/INTERCEPT/NextSeq/batch2\\_Aug62019/mixcr/clones/CLONES\\_TRBLFS\\_TCR-4570-PBMC-DNA.txt & 55542\\\\\n",
       "\t CASSPLDSPANYGYTF & TRBV18   & TRBJ1-2 & NA &  LFS\\_TCR-4570-PBMC-DNA:1 &  7 & 0.001269496 &  LFS\\_TCR-4570-PBMC-DNA & /Users/anabbi/Desktop/H4H/INTERCEPT/NextSeq/batch2\\_Aug62019/mixcr/clones/CLONES\\_TRBLFS\\_TCR-4758-PBMC-DNA.txt, /Users/anabbi/Desktop/H4H/INTERCEPT/NextSeq/batch2\\_Aug62019/mixcr/clones/CLONES\\_TRBLFS\\_TCR-4570-PBMC-DNA.txt & 55542\\\\\n",
       "\t CASSPRDTDNEKLFF  & TRBV18   & TRBJ1-4 & NA & LFS\\_TCR-4570-PBMC-DNA:1  & 45 & 0.008377761 & LFS\\_TCR-4570-PBMC-DNA  & /Users/anabbi/Desktop/H4H/INTERCEPT/NextSeq/batch2\\_Aug62019/mixcr/clones/CLONES\\_TRBLFS\\_TCR-4570-PBMC-DNA.txt, /Users/anabbi/Desktop/H4H/INTERCEPT/NextSeq/batch2\\_Aug62019/mixcr/clones/CLONES\\_TRBLFS\\_TCR-4758-PBMC-DNA.txt & 55582\\\\\n",
       "\t CASSPRDTDNEKLFF  & TRBV18   & TRBJ1-4 & NA &  LFS\\_TCR-4758-PBMC-DNA:1 & 45 & 0.008377761 &  LFS\\_TCR-4758-PBMC-DNA & /Users/anabbi/Desktop/H4H/INTERCEPT/NextSeq/batch2\\_Aug62019/mixcr/clones/CLONES\\_TRBLFS\\_TCR-4570-PBMC-DNA.txt, /Users/anabbi/Desktop/H4H/INTERCEPT/NextSeq/batch2\\_Aug62019/mixcr/clones/CLONES\\_TRBLFS\\_TCR-4758-PBMC-DNA.txt & 55582\\\\\n",
       "\t CATSARRGDSEKLFF  & TRBV24-1 & TRBJ1-4 & NA & LFS\\_TCR-4759-PBMC-DNA:1  &  5 & 0.005148005 & LFS\\_TCR-4759-PBMC-DNA  & /Users/anabbi/Desktop/H4H/INTERCEPT/NextSeq/batch2\\_Aug62019/mixcr/clones/CLONES\\_TRBLFS\\_TCR-4759-PBMC-DNA.txt, /Users/anabbi/Desktop/H4H/INTERCEPT/NextSeq/batch2\\_Aug62019/mixcr/clones/CLONES\\_TRBLFS\\_TCR-4783-PBMC-DNA.txt & 56059\\\\\n",
       "\t CATSARRGDSEKLFF  & TRBV24-1 & TRBJ1-4 & NA &  LFS\\_TCR-4783-PBMC-DNA:1 &  5 & 0.005148005 &  LFS\\_TCR-4783-PBMC-DNA & /Users/anabbi/Desktop/H4H/INTERCEPT/NextSeq/batch2\\_Aug62019/mixcr/clones/CLONES\\_TRBLFS\\_TCR-4759-PBMC-DNA.txt, /Users/anabbi/Desktop/H4H/INTERCEPT/NextSeq/batch2\\_Aug62019/mixcr/clones/CLONES\\_TRBLFS\\_TCR-4783-PBMC-DNA.txt & 56059\\\\\n",
       "\\end{tabular}\n"
      ],
      "text/markdown": [
       "\n",
       "A tibble: 6 x 10\n",
       "\n",
       "| CDR3b &lt;chr&gt; | TRBV &lt;chr&gt; | TRBJ &lt;chr&gt; | CDR3a &lt;lgl&gt; | subject:condition &lt;chr&gt; | count &lt;dbl&gt; | clonefraction &lt;dbl&gt; | subject &lt;chr&gt; | file &lt;chr&gt; | index &lt;int&gt; |\n",
       "|---|---|---|---|---|---|---|---|---|---|\n",
       "| CASSPLDSPANYGYTF | TRBV18   | TRBJ1-2 | NA | LFS_TCR-4758-PBMC-DNA:1  |  7 | 0.001269496 | LFS_TCR-4758-PBMC-DNA  | /Users/anabbi/Desktop/H4H/INTERCEPT/NextSeq/batch2_Aug62019/mixcr/clones/CLONES_TRBLFS_TCR-4758-PBMC-DNA.txt, /Users/anabbi/Desktop/H4H/INTERCEPT/NextSeq/batch2_Aug62019/mixcr/clones/CLONES_TRBLFS_TCR-4570-PBMC-DNA.txt | 55542 |\n",
       "| CASSPLDSPANYGYTF | TRBV18   | TRBJ1-2 | NA |  LFS_TCR-4570-PBMC-DNA:1 |  7 | 0.001269496 |  LFS_TCR-4570-PBMC-DNA | /Users/anabbi/Desktop/H4H/INTERCEPT/NextSeq/batch2_Aug62019/mixcr/clones/CLONES_TRBLFS_TCR-4758-PBMC-DNA.txt, /Users/anabbi/Desktop/H4H/INTERCEPT/NextSeq/batch2_Aug62019/mixcr/clones/CLONES_TRBLFS_TCR-4570-PBMC-DNA.txt | 55542 |\n",
       "| CASSPRDTDNEKLFF  | TRBV18   | TRBJ1-4 | NA | LFS_TCR-4570-PBMC-DNA:1  | 45 | 0.008377761 | LFS_TCR-4570-PBMC-DNA  | /Users/anabbi/Desktop/H4H/INTERCEPT/NextSeq/batch2_Aug62019/mixcr/clones/CLONES_TRBLFS_TCR-4570-PBMC-DNA.txt, /Users/anabbi/Desktop/H4H/INTERCEPT/NextSeq/batch2_Aug62019/mixcr/clones/CLONES_TRBLFS_TCR-4758-PBMC-DNA.txt | 55582 |\n",
       "| CASSPRDTDNEKLFF  | TRBV18   | TRBJ1-4 | NA |  LFS_TCR-4758-PBMC-DNA:1 | 45 | 0.008377761 |  LFS_TCR-4758-PBMC-DNA | /Users/anabbi/Desktop/H4H/INTERCEPT/NextSeq/batch2_Aug62019/mixcr/clones/CLONES_TRBLFS_TCR-4570-PBMC-DNA.txt, /Users/anabbi/Desktop/H4H/INTERCEPT/NextSeq/batch2_Aug62019/mixcr/clones/CLONES_TRBLFS_TCR-4758-PBMC-DNA.txt | 55582 |\n",
       "| CATSARRGDSEKLFF  | TRBV24-1 | TRBJ1-4 | NA | LFS_TCR-4759-PBMC-DNA:1  |  5 | 0.005148005 | LFS_TCR-4759-PBMC-DNA  | /Users/anabbi/Desktop/H4H/INTERCEPT/NextSeq/batch2_Aug62019/mixcr/clones/CLONES_TRBLFS_TCR-4759-PBMC-DNA.txt, /Users/anabbi/Desktop/H4H/INTERCEPT/NextSeq/batch2_Aug62019/mixcr/clones/CLONES_TRBLFS_TCR-4783-PBMC-DNA.txt | 56059 |\n",
       "| CATSARRGDSEKLFF  | TRBV24-1 | TRBJ1-4 | NA |  LFS_TCR-4783-PBMC-DNA:1 |  5 | 0.005148005 |  LFS_TCR-4783-PBMC-DNA | /Users/anabbi/Desktop/H4H/INTERCEPT/NextSeq/batch2_Aug62019/mixcr/clones/CLONES_TRBLFS_TCR-4759-PBMC-DNA.txt, /Users/anabbi/Desktop/H4H/INTERCEPT/NextSeq/batch2_Aug62019/mixcr/clones/CLONES_TRBLFS_TCR-4783-PBMC-DNA.txt | 56059 |\n",
       "\n"
      ],
      "text/plain": [
       "  CDR3b            TRBV     TRBJ    CDR3a subject:condition        count\n",
       "1 CASSPLDSPANYGYTF TRBV18   TRBJ1-2 NA    LFS_TCR-4758-PBMC-DNA:1   7   \n",
       "2 CASSPLDSPANYGYTF TRBV18   TRBJ1-2 NA     LFS_TCR-4570-PBMC-DNA:1  7   \n",
       "3 CASSPRDTDNEKLFF  TRBV18   TRBJ1-4 NA    LFS_TCR-4570-PBMC-DNA:1  45   \n",
       "4 CASSPRDTDNEKLFF  TRBV18   TRBJ1-4 NA     LFS_TCR-4758-PBMC-DNA:1 45   \n",
       "5 CATSARRGDSEKLFF  TRBV24-1 TRBJ1-4 NA    LFS_TCR-4759-PBMC-DNA:1   5   \n",
       "6 CATSARRGDSEKLFF  TRBV24-1 TRBJ1-4 NA     LFS_TCR-4783-PBMC-DNA:1  5   \n",
       "  clonefraction subject               \n",
       "1 0.001269496   LFS_TCR-4758-PBMC-DNA \n",
       "2 0.001269496    LFS_TCR-4570-PBMC-DNA\n",
       "3 0.008377761   LFS_TCR-4570-PBMC-DNA \n",
       "4 0.008377761    LFS_TCR-4758-PBMC-DNA\n",
       "5 0.005148005   LFS_TCR-4759-PBMC-DNA \n",
       "6 0.005148005    LFS_TCR-4783-PBMC-DNA\n",
       "  file                                                                                                                                                                                                                      \n",
       "1 /Users/anabbi/Desktop/H4H/INTERCEPT/NextSeq/batch2_Aug62019/mixcr/clones/CLONES_TRBLFS_TCR-4758-PBMC-DNA.txt, /Users/anabbi/Desktop/H4H/INTERCEPT/NextSeq/batch2_Aug62019/mixcr/clones/CLONES_TRBLFS_TCR-4570-PBMC-DNA.txt\n",
       "2 /Users/anabbi/Desktop/H4H/INTERCEPT/NextSeq/batch2_Aug62019/mixcr/clones/CLONES_TRBLFS_TCR-4758-PBMC-DNA.txt, /Users/anabbi/Desktop/H4H/INTERCEPT/NextSeq/batch2_Aug62019/mixcr/clones/CLONES_TRBLFS_TCR-4570-PBMC-DNA.txt\n",
       "3 /Users/anabbi/Desktop/H4H/INTERCEPT/NextSeq/batch2_Aug62019/mixcr/clones/CLONES_TRBLFS_TCR-4570-PBMC-DNA.txt, /Users/anabbi/Desktop/H4H/INTERCEPT/NextSeq/batch2_Aug62019/mixcr/clones/CLONES_TRBLFS_TCR-4758-PBMC-DNA.txt\n",
       "4 /Users/anabbi/Desktop/H4H/INTERCEPT/NextSeq/batch2_Aug62019/mixcr/clones/CLONES_TRBLFS_TCR-4570-PBMC-DNA.txt, /Users/anabbi/Desktop/H4H/INTERCEPT/NextSeq/batch2_Aug62019/mixcr/clones/CLONES_TRBLFS_TCR-4758-PBMC-DNA.txt\n",
       "5 /Users/anabbi/Desktop/H4H/INTERCEPT/NextSeq/batch2_Aug62019/mixcr/clones/CLONES_TRBLFS_TCR-4759-PBMC-DNA.txt, /Users/anabbi/Desktop/H4H/INTERCEPT/NextSeq/batch2_Aug62019/mixcr/clones/CLONES_TRBLFS_TCR-4783-PBMC-DNA.txt\n",
       "6 /Users/anabbi/Desktop/H4H/INTERCEPT/NextSeq/batch2_Aug62019/mixcr/clones/CLONES_TRBLFS_TCR-4759-PBMC-DNA.txt, /Users/anabbi/Desktop/H4H/INTERCEPT/NextSeq/batch2_Aug62019/mixcr/clones/CLONES_TRBLFS_TCR-4783-PBMC-DNA.txt\n",
       "  index\n",
       "1 55542\n",
       "2 55542\n",
       "3 55582\n",
       "4 55582\n",
       "5 56059\n",
       "6 56059"
      ]
     },
     "metadata": {},
     "output_type": "display_data"
    }
   ],
   "source": [
    "tmp[ grepl(\",\", tmp$file),]"
   ]
  },
  {
   "cell_type": "code",
   "execution_count": 17,
   "metadata": {
    "vscode": {
     "languageId": "r"
    }
   },
   "outputs": [],
   "source": [
    "# separate_rows with subject:condition is not identical\n",
    "write.table(tmp[,1:6], file = paste0(h4hpath,\"lfs_fortest_nonuniqueCDR3s_nonuniquesubjectcondition.txt\"), sep = \"\\t\", quote = F, row.names = F, col.names = F)"
   ]
  },
  {
   "cell_type": "code",
   "execution_count": 18,
   "metadata": {
    "vscode": {
     "languageId": "r"
    }
   },
   "outputs": [],
   "source": [
    "tmp$count <- 1"
   ]
  },
  {
   "cell_type": "code",
   "execution_count": 19,
   "metadata": {
    "vscode": {
     "languageId": "r"
    }
   },
   "outputs": [],
   "source": [
    "write.table(tmp[,1:6], file = paste0(h4hpath,\"lfs_fortest_nonuniqueCDR3s_nonuniquesubjectcondition_count1.txt\"), sep = \"\\t\", quote = F, row.names = F, col.names = F)"
   ]
  },
  {
   "cell_type": "code",
   "execution_count": 53,
   "metadata": {
    "vscode": {
     "languageId": "r"
    }
   },
   "outputs": [],
   "source": [
    "# add high count for one cdr3 just to test how expansion score is affected\n",
    "lfs_fortest_sep$count[lfs_fortest_sep$CDR3b == \"CASSPLDSPANYGYTF\" & lfs_fortest_sep$subject == \"LFS_TCR-4758-PBMC-DNA\"] <- 1000\n"
   ]
  },
  {
   "cell_type": "code",
   "execution_count": 54,
   "metadata": {
    "vscode": {
     "languageId": "r"
    }
   },
   "outputs": [],
   "source": [
    "write.table(lfs_fortest_sep[,1:6], file = paste0(h4hpath,\"lfs_fortest_nonuniqueCDR3s_nonuniquesubjectcondition_expanded.txt\"), sep = \"\\t\", quote = F, row.names = F, col.names = F)"
   ]
  },
  {
   "attachments": {},
   "cell_type": "markdown",
   "metadata": {},
   "source": [
    "# Compare results"
   ]
  },
  {
   "cell_type": "code",
   "execution_count": 55,
   "metadata": {
    "vscode": {
     "languageId": "r"
    }
   },
   "outputs": [
    {
     "data": {
      "text/html": [
       "<style>\n",
       ".list-inline {list-style: none; margin:0; padding: 0}\n",
       ".list-inline>li {display: inline-block}\n",
       ".list-inline>li:not(:last-child)::after {content: \"\\00b7\"; padding: 0 .5ex}\n",
       "</style>\n",
       "<ol class=list-inline><li>'datapath'</li><li>'flelst'</li><li>'gitpath'</li><li>'gliph_int_covid_tcr'</li><li>'h4hpath'</li><li>'i'</li><li>'lfs_fortest'</li><li>'lfs_fortest_lst'</li><li>'lfs_fortest_sep'</li><li>'manifestpath'</li><li>'meta_div'</li><li>'plotpath'</li><li>'tmp'</li></ol>\n"
      ],
      "text/latex": [
       "\\begin{enumerate*}\n",
       "\\item 'datapath'\n",
       "\\item 'flelst'\n",
       "\\item 'gitpath'\n",
       "\\item 'gliph\\_int\\_covid\\_tcr'\n",
       "\\item 'h4hpath'\n",
       "\\item 'i'\n",
       "\\item 'lfs\\_fortest'\n",
       "\\item 'lfs\\_fortest\\_lst'\n",
       "\\item 'lfs\\_fortest\\_sep'\n",
       "\\item 'manifestpath'\n",
       "\\item 'meta\\_div'\n",
       "\\item 'plotpath'\n",
       "\\item 'tmp'\n",
       "\\end{enumerate*}\n"
      ],
      "text/markdown": [
       "1. 'datapath'\n",
       "2. 'flelst'\n",
       "3. 'gitpath'\n",
       "4. 'gliph_int_covid_tcr'\n",
       "5. 'h4hpath'\n",
       "6. 'i'\n",
       "7. 'lfs_fortest'\n",
       "8. 'lfs_fortest_lst'\n",
       "9. 'lfs_fortest_sep'\n",
       "10. 'manifestpath'\n",
       "11. 'meta_div'\n",
       "12. 'plotpath'\n",
       "13. 'tmp'\n",
       "\n",
       "\n"
      ],
      "text/plain": [
       " [1] \"datapath\"            \"flelst\"              \"gitpath\"            \n",
       " [4] \"gliph_int_covid_tcr\" \"h4hpath\"             \"i\"                  \n",
       " [7] \"lfs_fortest\"         \"lfs_fortest_lst\"     \"lfs_fortest_sep\"    \n",
       "[10] \"manifestpath\"        \"meta_div\"            \"plotpath\"           \n",
       "[13] \"tmp\"                "
      ]
     },
     "metadata": {},
     "output_type": "display_data"
    }
   ],
   "source": [
    "ls()"
   ]
  },
  {
   "cell_type": "code",
   "execution_count": 56,
   "metadata": {
    "vscode": {
     "languageId": "r"
    }
   },
   "outputs": [],
   "source": [
    "flelst <- list.files(path = h4hpath, pattern = \"lfs_fortest\", full.names = T)\n",
    "\n",
    "flelst <- flelst[grepl(\"cluster.csv\", flelst)]"
   ]
  },
  {
   "cell_type": "code",
   "execution_count": 57,
   "metadata": {
    "vscode": {
     "languageId": "r"
    }
   },
   "outputs": [],
   "source": [
    "# read all files into a list\n",
    "\n",
    "lfs_fortest_lst <- lapply(flelst, function(x) read.table(x, sep = \",\", header = T, stringsAsFactors = F))\n",
    "names(lfs_fortest_lst) <- basename(flelst)"
   ]
  },
  {
   "cell_type": "code",
   "execution_count": 58,
   "metadata": {
    "vscode": {
     "languageId": "r"
    }
   },
   "outputs": [],
   "source": [
    "for(i in 1:length(lfs_fortest_lst)){\n",
    "  lfs_fortest_lst[[i]]$file <- basename(flelst[i])\n",
    "}"
   ]
  },
  {
   "cell_type": "code",
   "execution_count": 59,
   "metadata": {
    "vscode": {
     "languageId": "r"
    }
   },
   "outputs": [],
   "source": [
    "# remove columns starting with HLA\n",
    "lfs_fortest_lst <- lapply(lfs_fortest_lst, function(x) x[,!grepl(\"HLA\", colnames(x))])"
   ]
  },
  {
   "cell_type": "code",
   "execution_count": 60,
   "metadata": {
    "vscode": {
     "languageId": "r"
    }
   },
   "outputs": [
    {
     "data": {
      "text/html": [
       "<dl>\n",
       "\t<dt>$lfs_fortest_nonuniqueCDR3s_cluster.csv</dt>\n",
       "\t\t<dd><style>\n",
       ".list-inline {list-style: none; margin:0; padding: 0}\n",
       ".list-inline>li {display: inline-block}\n",
       ".list-inline>li:not(:last-child)::after {content: \"\\00b7\"; padding: 0 .5ex}\n",
       "</style>\n",
       "<ol class=list-inline><li>142</li><li>19</li></ol>\n",
       "</dd>\n",
       "\t<dt>$lfs_fortest_nonuniqueCDR3s_nonuniquesubjectcondition_cluster.csv</dt>\n",
       "\t\t<dd><style>\n",
       ".list-inline {list-style: none; margin:0; padding: 0}\n",
       ".list-inline>li {display: inline-block}\n",
       ".list-inline>li:not(:last-child)::after {content: \"\\00b7\"; padding: 0 .5ex}\n",
       "</style>\n",
       "<ol class=list-inline><li>142</li><li>19</li></ol>\n",
       "</dd>\n",
       "\t<dt>$lfs_fortest_nonuniqueCDR3s_nonuniquesubjectcondition_count1_cluster.csv</dt>\n",
       "\t\t<dd><style>\n",
       ".list-inline {list-style: none; margin:0; padding: 0}\n",
       ".list-inline>li {display: inline-block}\n",
       ".list-inline>li:not(:last-child)::after {content: \"\\00b7\"; padding: 0 .5ex}\n",
       "</style>\n",
       "<ol class=list-inline><li>142</li><li>19</li></ol>\n",
       "</dd>\n",
       "\t<dt>$lfs_fortest_nonuniqueCDR3s_nonuniquesubjectcondition_expanded_cluster.csv</dt>\n",
       "\t\t<dd><style>\n",
       ".list-inline {list-style: none; margin:0; padding: 0}\n",
       ".list-inline>li {display: inline-block}\n",
       ".list-inline>li:not(:last-child)::after {content: \"\\00b7\"; padding: 0 .5ex}\n",
       "</style>\n",
       "<ol class=list-inline><li>142</li><li>19</li></ol>\n",
       "</dd>\n",
       "\t<dt>$lfs_fortest_uniqueCDR3s_cluster.csv</dt>\n",
       "\t\t<dd><style>\n",
       ".list-inline {list-style: none; margin:0; padding: 0}\n",
       ".list-inline>li {display: inline-block}\n",
       ".list-inline>li:not(:last-child)::after {content: \"\\00b7\"; padding: 0 .5ex}\n",
       "</style>\n",
       "<ol class=list-inline><li>137</li><li>19</li></ol>\n",
       "</dd>\n",
       "</dl>\n"
      ],
      "text/latex": [
       "\\begin{description}\n",
       "\\item[\\$lfs\\_fortest\\_nonuniqueCDR3s\\_cluster.csv] \\begin{enumerate*}\n",
       "\\item 142\n",
       "\\item 19\n",
       "\\end{enumerate*}\n",
       "\n",
       "\\item[\\$lfs\\_fortest\\_nonuniqueCDR3s\\_nonuniquesubjectcondition\\_cluster.csv] \\begin{enumerate*}\n",
       "\\item 142\n",
       "\\item 19\n",
       "\\end{enumerate*}\n",
       "\n",
       "\\item[\\$lfs\\_fortest\\_nonuniqueCDR3s\\_nonuniquesubjectcondition\\_count1\\_cluster.csv] \\begin{enumerate*}\n",
       "\\item 142\n",
       "\\item 19\n",
       "\\end{enumerate*}\n",
       "\n",
       "\\item[\\$lfs\\_fortest\\_nonuniqueCDR3s\\_nonuniquesubjectcondition\\_expanded\\_cluster.csv] \\begin{enumerate*}\n",
       "\\item 142\n",
       "\\item 19\n",
       "\\end{enumerate*}\n",
       "\n",
       "\\item[\\$lfs\\_fortest\\_uniqueCDR3s\\_cluster.csv] \\begin{enumerate*}\n",
       "\\item 137\n",
       "\\item 19\n",
       "\\end{enumerate*}\n",
       "\n",
       "\\end{description}\n"
      ],
      "text/markdown": [
       "$lfs_fortest_nonuniqueCDR3s_cluster.csv\n",
       ":   1. 142\n",
       "2. 19\n",
       "\n",
       "\n",
       "\n",
       "$lfs_fortest_nonuniqueCDR3s_nonuniquesubjectcondition_cluster.csv\n",
       ":   1. 142\n",
       "2. 19\n",
       "\n",
       "\n",
       "\n",
       "$lfs_fortest_nonuniqueCDR3s_nonuniquesubjectcondition_count1_cluster.csv\n",
       ":   1. 142\n",
       "2. 19\n",
       "\n",
       "\n",
       "\n",
       "$lfs_fortest_nonuniqueCDR3s_nonuniquesubjectcondition_expanded_cluster.csv\n",
       ":   1. 142\n",
       "2. 19\n",
       "\n",
       "\n",
       "\n",
       "$lfs_fortest_uniqueCDR3s_cluster.csv\n",
       ":   1. 137\n",
       "2. 19\n",
       "\n",
       "\n",
       "\n",
       "\n",
       "\n"
      ],
      "text/plain": [
       "$lfs_fortest_nonuniqueCDR3s_cluster.csv\n",
       "[1] 142  19\n",
       "\n",
       "$lfs_fortest_nonuniqueCDR3s_nonuniquesubjectcondition_cluster.csv\n",
       "[1] 142  19\n",
       "\n",
       "$lfs_fortest_nonuniqueCDR3s_nonuniquesubjectcondition_count1_cluster.csv\n",
       "[1] 142  19\n",
       "\n",
       "$lfs_fortest_nonuniqueCDR3s_nonuniquesubjectcondition_expanded_cluster.csv\n",
       "[1] 142  19\n",
       "\n",
       "$lfs_fortest_uniqueCDR3s_cluster.csv\n",
       "[1] 137  19\n"
      ]
     },
     "metadata": {},
     "output_type": "display_data"
    }
   ],
   "source": [
    "lapply(lfs_fortest_lst, dim)"
   ]
  },
  {
   "cell_type": "code",
   "execution_count": 61,
   "metadata": {
    "vscode": {
     "languageId": "r"
    }
   },
   "outputs": [
    {
     "data": {
      "text/html": [
       "<table class=\"dataframe\">\n",
       "<caption>A data.frame: 7 x 19</caption>\n",
       "<thead>\n",
       "\t<tr><th></th><th scope=col>index</th><th scope=col>pattern</th><th scope=col>Fisher_score</th><th scope=col>number_subject</th><th scope=col>number_unique_cdr3</th><th scope=col>final_score</th><th scope=col>hla_score</th><th scope=col>vb_score</th><th scope=col>expansion_score</th><th scope=col>length_score</th><th scope=col>cluster_size_score</th><th scope=col>type</th><th scope=col>TcRb</th><th scope=col>V</th><th scope=col>J</th><th scope=col>TcRa</th><th scope=col>Sample</th><th scope=col>Freq</th><th scope=col>file</th></tr>\n",
       "\t<tr><th></th><th scope=col>&lt;int&gt;</th><th scope=col>&lt;chr&gt;</th><th scope=col>&lt;dbl&gt;</th><th scope=col>&lt;int&gt;</th><th scope=col>&lt;int&gt;</th><th scope=col>&lt;dbl&gt;</th><th scope=col>&lt;dbl&gt;</th><th scope=col>&lt;dbl&gt;</th><th scope=col>&lt;dbl&gt;</th><th scope=col>&lt;dbl&gt;</th><th scope=col>&lt;dbl&gt;</th><th scope=col>&lt;chr&gt;</th><th scope=col>&lt;chr&gt;</th><th scope=col>&lt;chr&gt;</th><th scope=col>&lt;chr&gt;</th><th scope=col>&lt;lgl&gt;</th><th scope=col>&lt;chr&gt;</th><th scope=col>&lt;dbl&gt;</th><th scope=col>&lt;chr&gt;</th></tr>\n",
       "</thead>\n",
       "<tbody>\n",
       "\t<tr><th scope=row>92</th><td>44</td><td>PLDS</td><td>0.00057</td><td>4</td><td>3</td><td>4.1e-05</td><td>1</td><td>0.034</td><td>1</td><td>0.19</td><td>0.0062</td><td>motif-PLDS</td><td>CASRPLDSVHRPQHF </td><td>TRBV6-1 </td><td>TRBJ1-5</td><td>NA</td><td>LFS_TCR-4570-PBMC-DNA:1 </td><td>1</td><td>lfs_fortest_nonuniqueCDR3s_nonuniquesubjectcondition_count1_cluster.csv</td></tr>\n",
       "\t<tr><th scope=row>93</th><td>44</td><td>PLDS</td><td>0.00057</td><td>4</td><td>3</td><td>4.1e-05</td><td>1</td><td>0.034</td><td>1</td><td>0.19</td><td>0.0062</td><td>motif-PLDS</td><td>CAIRPLDSYEQYF   </td><td>TRBV10-3</td><td>TRBJ2-7</td><td>NA</td><td>LFS_TCR-4535-PBMC-DNA:1 </td><td>1</td><td>lfs_fortest_nonuniqueCDR3s_nonuniquesubjectcondition_count1_cluster.csv</td></tr>\n",
       "\t<tr><th scope=row>94</th><td>44</td><td>PLDS</td><td>0.00057</td><td>4</td><td>3</td><td>4.1e-05</td><td>1</td><td>0.034</td><td>1</td><td>0.19</td><td>0.0062</td><td>motif-PLDS</td><td>CASSPLDSPANYGYTF</td><td>TRBV18  </td><td>TRBJ1-2</td><td>NA</td><td>LFS_TCR-4758-PBMC-DNA:1 </td><td>1</td><td>lfs_fortest_nonuniqueCDR3s_nonuniquesubjectcondition_count1_cluster.csv</td></tr>\n",
       "\t<tr><th scope=row>95</th><td>44</td><td>PLDS</td><td>0.00057</td><td>4</td><td>3</td><td>4.1e-05</td><td>1</td><td>0.034</td><td>1</td><td>0.19</td><td>0.0062</td><td>motif-PLDS</td><td>CASSPLDSPANYGYTF</td><td>TRBV18  </td><td>TRBJ1-2</td><td>NA</td><td> LFS_TCR-4570-PBMC-DNA:1</td><td>1</td><td>lfs_fortest_nonuniqueCDR3s_nonuniquesubjectcondition_count1_cluster.csv</td></tr>\n",
       "\t<tr><th scope=row>102</th><td>48</td><td>SLRF</td><td>0.00065</td><td>3</td><td>3</td><td>5.2e-04</td><td>1</td><td>0.170</td><td>1</td><td>0.49</td><td>0.0062</td><td>motif-SLRF</td><td>CASSLRFGEEVYEQYF</td><td>TRBV5-6 </td><td>TRBJ2-7</td><td>NA</td><td>LFS_TCR-4837-PBMC-DNA:1 </td><td>1</td><td>lfs_fortest_nonuniqueCDR3s_nonuniquesubjectcondition_count1_cluster.csv</td></tr>\n",
       "\t<tr><th scope=row>103</th><td>48</td><td>SLRF</td><td>0.00065</td><td>3</td><td>3</td><td>5.2e-04</td><td>1</td><td>0.170</td><td>1</td><td>0.49</td><td>0.0062</td><td>motif-SLRF</td><td>CASSLRFRGFTEAFF </td><td>TRBV7-9 </td><td>TRBJ1-1</td><td>NA</td><td>LFS_TCR-4602-PBMC-DNA:1 </td><td>1</td><td>lfs_fortest_nonuniqueCDR3s_nonuniquesubjectcondition_count1_cluster.csv</td></tr>\n",
       "\t<tr><th scope=row>104</th><td>48</td><td>SLRF</td><td>0.00065</td><td>3</td><td>3</td><td>5.2e-04</td><td>1</td><td>0.170</td><td>1</td><td>0.49</td><td>0.0062</td><td>motif-SLRF</td><td>CASSLRFGGYEQYF  </td><td>TRBV11-2</td><td>TRBJ2-7</td><td>NA</td><td>LFS_TCR-4838-PBMC-DNA:1 </td><td>1</td><td>lfs_fortest_nonuniqueCDR3s_nonuniquesubjectcondition_count1_cluster.csv</td></tr>\n",
       "</tbody>\n",
       "</table>\n"
      ],
      "text/latex": [
       "A data.frame: 7 x 19\n",
       "\\begin{tabular}{r|lllllllllllllllllll}\n",
       "  & index & pattern & Fisher\\_score & number\\_subject & number\\_unique\\_cdr3 & final\\_score & hla\\_score & vb\\_score & expansion\\_score & length\\_score & cluster\\_size\\_score & type & TcRb & V & J & TcRa & Sample & Freq & file\\\\\n",
       "  & <int> & <chr> & <dbl> & <int> & <int> & <dbl> & <dbl> & <dbl> & <dbl> & <dbl> & <dbl> & <chr> & <chr> & <chr> & <chr> & <lgl> & <chr> & <dbl> & <chr>\\\\\n",
       "\\hline\n",
       "\t92 & 44 & PLDS & 0.00057 & 4 & 3 & 4.1e-05 & 1 & 0.034 & 1 & 0.19 & 0.0062 & motif-PLDS & CASRPLDSVHRPQHF  & TRBV6-1  & TRBJ1-5 & NA & LFS\\_TCR-4570-PBMC-DNA:1  & 1 & lfs\\_fortest\\_nonuniqueCDR3s\\_nonuniquesubjectcondition\\_count1\\_cluster.csv\\\\\n",
       "\t93 & 44 & PLDS & 0.00057 & 4 & 3 & 4.1e-05 & 1 & 0.034 & 1 & 0.19 & 0.0062 & motif-PLDS & CAIRPLDSYEQYF    & TRBV10-3 & TRBJ2-7 & NA & LFS\\_TCR-4535-PBMC-DNA:1  & 1 & lfs\\_fortest\\_nonuniqueCDR3s\\_nonuniquesubjectcondition\\_count1\\_cluster.csv\\\\\n",
       "\t94 & 44 & PLDS & 0.00057 & 4 & 3 & 4.1e-05 & 1 & 0.034 & 1 & 0.19 & 0.0062 & motif-PLDS & CASSPLDSPANYGYTF & TRBV18   & TRBJ1-2 & NA & LFS\\_TCR-4758-PBMC-DNA:1  & 1 & lfs\\_fortest\\_nonuniqueCDR3s\\_nonuniquesubjectcondition\\_count1\\_cluster.csv\\\\\n",
       "\t95 & 44 & PLDS & 0.00057 & 4 & 3 & 4.1e-05 & 1 & 0.034 & 1 & 0.19 & 0.0062 & motif-PLDS & CASSPLDSPANYGYTF & TRBV18   & TRBJ1-2 & NA &  LFS\\_TCR-4570-PBMC-DNA:1 & 1 & lfs\\_fortest\\_nonuniqueCDR3s\\_nonuniquesubjectcondition\\_count1\\_cluster.csv\\\\\n",
       "\t102 & 48 & SLRF & 0.00065 & 3 & 3 & 5.2e-04 & 1 & 0.170 & 1 & 0.49 & 0.0062 & motif-SLRF & CASSLRFGEEVYEQYF & TRBV5-6  & TRBJ2-7 & NA & LFS\\_TCR-4837-PBMC-DNA:1  & 1 & lfs\\_fortest\\_nonuniqueCDR3s\\_nonuniquesubjectcondition\\_count1\\_cluster.csv\\\\\n",
       "\t103 & 48 & SLRF & 0.00065 & 3 & 3 & 5.2e-04 & 1 & 0.170 & 1 & 0.49 & 0.0062 & motif-SLRF & CASSLRFRGFTEAFF  & TRBV7-9  & TRBJ1-1 & NA & LFS\\_TCR-4602-PBMC-DNA:1  & 1 & lfs\\_fortest\\_nonuniqueCDR3s\\_nonuniquesubjectcondition\\_count1\\_cluster.csv\\\\\n",
       "\t104 & 48 & SLRF & 0.00065 & 3 & 3 & 5.2e-04 & 1 & 0.170 & 1 & 0.49 & 0.0062 & motif-SLRF & CASSLRFGGYEQYF   & TRBV11-2 & TRBJ2-7 & NA & LFS\\_TCR-4838-PBMC-DNA:1  & 1 & lfs\\_fortest\\_nonuniqueCDR3s\\_nonuniquesubjectcondition\\_count1\\_cluster.csv\\\\\n",
       "\\end{tabular}\n"
      ],
      "text/markdown": [
       "\n",
       "A data.frame: 7 x 19\n",
       "\n",
       "| <!--/--> | index &lt;int&gt; | pattern &lt;chr&gt; | Fisher_score &lt;dbl&gt; | number_subject &lt;int&gt; | number_unique_cdr3 &lt;int&gt; | final_score &lt;dbl&gt; | hla_score &lt;dbl&gt; | vb_score &lt;dbl&gt; | expansion_score &lt;dbl&gt; | length_score &lt;dbl&gt; | cluster_size_score &lt;dbl&gt; | type &lt;chr&gt; | TcRb &lt;chr&gt; | V &lt;chr&gt; | J &lt;chr&gt; | TcRa &lt;lgl&gt; | Sample &lt;chr&gt; | Freq &lt;dbl&gt; | file &lt;chr&gt; |\n",
       "|---|---|---|---|---|---|---|---|---|---|---|---|---|---|---|---|---|---|---|---|\n",
       "| 92 | 44 | PLDS | 0.00057 | 4 | 3 | 4.1e-05 | 1 | 0.034 | 1 | 0.19 | 0.0062 | motif-PLDS | CASRPLDSVHRPQHF  | TRBV6-1  | TRBJ1-5 | NA | LFS_TCR-4570-PBMC-DNA:1  | 1 | lfs_fortest_nonuniqueCDR3s_nonuniquesubjectcondition_count1_cluster.csv |\n",
       "| 93 | 44 | PLDS | 0.00057 | 4 | 3 | 4.1e-05 | 1 | 0.034 | 1 | 0.19 | 0.0062 | motif-PLDS | CAIRPLDSYEQYF    | TRBV10-3 | TRBJ2-7 | NA | LFS_TCR-4535-PBMC-DNA:1  | 1 | lfs_fortest_nonuniqueCDR3s_nonuniquesubjectcondition_count1_cluster.csv |\n",
       "| 94 | 44 | PLDS | 0.00057 | 4 | 3 | 4.1e-05 | 1 | 0.034 | 1 | 0.19 | 0.0062 | motif-PLDS | CASSPLDSPANYGYTF | TRBV18   | TRBJ1-2 | NA | LFS_TCR-4758-PBMC-DNA:1  | 1 | lfs_fortest_nonuniqueCDR3s_nonuniquesubjectcondition_count1_cluster.csv |\n",
       "| 95 | 44 | PLDS | 0.00057 | 4 | 3 | 4.1e-05 | 1 | 0.034 | 1 | 0.19 | 0.0062 | motif-PLDS | CASSPLDSPANYGYTF | TRBV18   | TRBJ1-2 | NA |  LFS_TCR-4570-PBMC-DNA:1 | 1 | lfs_fortest_nonuniqueCDR3s_nonuniquesubjectcondition_count1_cluster.csv |\n",
       "| 102 | 48 | SLRF | 0.00065 | 3 | 3 | 5.2e-04 | 1 | 0.170 | 1 | 0.49 | 0.0062 | motif-SLRF | CASSLRFGEEVYEQYF | TRBV5-6  | TRBJ2-7 | NA | LFS_TCR-4837-PBMC-DNA:1  | 1 | lfs_fortest_nonuniqueCDR3s_nonuniquesubjectcondition_count1_cluster.csv |\n",
       "| 103 | 48 | SLRF | 0.00065 | 3 | 3 | 5.2e-04 | 1 | 0.170 | 1 | 0.49 | 0.0062 | motif-SLRF | CASSLRFRGFTEAFF  | TRBV7-9  | TRBJ1-1 | NA | LFS_TCR-4602-PBMC-DNA:1  | 1 | lfs_fortest_nonuniqueCDR3s_nonuniquesubjectcondition_count1_cluster.csv |\n",
       "| 104 | 48 | SLRF | 0.00065 | 3 | 3 | 5.2e-04 | 1 | 0.170 | 1 | 0.49 | 0.0062 | motif-SLRF | CASSLRFGGYEQYF   | TRBV11-2 | TRBJ2-7 | NA | LFS_TCR-4838-PBMC-DNA:1  | 1 | lfs_fortest_nonuniqueCDR3s_nonuniquesubjectcondition_count1_cluster.csv |\n",
       "\n"
      ],
      "text/plain": [
       "    index pattern Fisher_score number_subject number_unique_cdr3 final_score\n",
       "92  44    PLDS    0.00057      4              3                  4.1e-05    \n",
       "93  44    PLDS    0.00057      4              3                  4.1e-05    \n",
       "94  44    PLDS    0.00057      4              3                  4.1e-05    \n",
       "95  44    PLDS    0.00057      4              3                  4.1e-05    \n",
       "102 48    SLRF    0.00065      3              3                  5.2e-04    \n",
       "103 48    SLRF    0.00065      3              3                  5.2e-04    \n",
       "104 48    SLRF    0.00065      3              3                  5.2e-04    \n",
       "    hla_score vb_score expansion_score length_score cluster_size_score\n",
       "92  1         0.034    1               0.19         0.0062            \n",
       "93  1         0.034    1               0.19         0.0062            \n",
       "94  1         0.034    1               0.19         0.0062            \n",
       "95  1         0.034    1               0.19         0.0062            \n",
       "102 1         0.170    1               0.49         0.0062            \n",
       "103 1         0.170    1               0.49         0.0062            \n",
       "104 1         0.170    1               0.49         0.0062            \n",
       "    type       TcRb             V        J       TcRa Sample                  \n",
       "92  motif-PLDS CASRPLDSVHRPQHF  TRBV6-1  TRBJ1-5 NA   LFS_TCR-4570-PBMC-DNA:1 \n",
       "93  motif-PLDS CAIRPLDSYEQYF    TRBV10-3 TRBJ2-7 NA   LFS_TCR-4535-PBMC-DNA:1 \n",
       "94  motif-PLDS CASSPLDSPANYGYTF TRBV18   TRBJ1-2 NA   LFS_TCR-4758-PBMC-DNA:1 \n",
       "95  motif-PLDS CASSPLDSPANYGYTF TRBV18   TRBJ1-2 NA    LFS_TCR-4570-PBMC-DNA:1\n",
       "102 motif-SLRF CASSLRFGEEVYEQYF TRBV5-6  TRBJ2-7 NA   LFS_TCR-4837-PBMC-DNA:1 \n",
       "103 motif-SLRF CASSLRFRGFTEAFF  TRBV7-9  TRBJ1-1 NA   LFS_TCR-4602-PBMC-DNA:1 \n",
       "104 motif-SLRF CASSLRFGGYEQYF   TRBV11-2 TRBJ2-7 NA   LFS_TCR-4838-PBMC-DNA:1 \n",
       "    Freq\n",
       "92  1   \n",
       "93  1   \n",
       "94  1   \n",
       "95  1   \n",
       "102 1   \n",
       "103 1   \n",
       "104 1   \n",
       "    file                                                                   \n",
       "92  lfs_fortest_nonuniqueCDR3s_nonuniquesubjectcondition_count1_cluster.csv\n",
       "93  lfs_fortest_nonuniqueCDR3s_nonuniquesubjectcondition_count1_cluster.csv\n",
       "94  lfs_fortest_nonuniqueCDR3s_nonuniquesubjectcondition_count1_cluster.csv\n",
       "95  lfs_fortest_nonuniqueCDR3s_nonuniquesubjectcondition_count1_cluster.csv\n",
       "102 lfs_fortest_nonuniqueCDR3s_nonuniquesubjectcondition_count1_cluster.csv\n",
       "103 lfs_fortest_nonuniqueCDR3s_nonuniquesubjectcondition_count1_cluster.csv\n",
       "104 lfs_fortest_nonuniqueCDR3s_nonuniquesubjectcondition_count1_cluster.csv"
      ]
     },
     "metadata": {},
     "output_type": "display_data"
    },
    {
     "data": {
      "text/html": [
       "<table class=\"dataframe\">\n",
       "<caption>A data.frame: 7 x 19</caption>\n",
       "<thead>\n",
       "\t<tr><th></th><th scope=col>index</th><th scope=col>pattern</th><th scope=col>Fisher_score</th><th scope=col>number_subject</th><th scope=col>number_unique_cdr3</th><th scope=col>final_score</th><th scope=col>hla_score</th><th scope=col>vb_score</th><th scope=col>expansion_score</th><th scope=col>length_score</th><th scope=col>cluster_size_score</th><th scope=col>type</th><th scope=col>TcRb</th><th scope=col>V</th><th scope=col>J</th><th scope=col>TcRa</th><th scope=col>Sample</th><th scope=col>Freq</th><th scope=col>file</th></tr>\n",
       "\t<tr><th></th><th scope=col>&lt;int&gt;</th><th scope=col>&lt;chr&gt;</th><th scope=col>&lt;dbl&gt;</th><th scope=col>&lt;int&gt;</th><th scope=col>&lt;int&gt;</th><th scope=col>&lt;dbl&gt;</th><th scope=col>&lt;dbl&gt;</th><th scope=col>&lt;dbl&gt;</th><th scope=col>&lt;dbl&gt;</th><th scope=col>&lt;dbl&gt;</th><th scope=col>&lt;dbl&gt;</th><th scope=col>&lt;chr&gt;</th><th scope=col>&lt;chr&gt;</th><th scope=col>&lt;chr&gt;</th><th scope=col>&lt;chr&gt;</th><th scope=col>&lt;lgl&gt;</th><th scope=col>&lt;chr&gt;</th><th scope=col>&lt;dbl&gt;</th><th scope=col>&lt;chr&gt;</th></tr>\n",
       "</thead>\n",
       "<tbody>\n",
       "\t<tr><th scope=row>92</th><td>44</td><td>PLDS</td><td>0.00057</td><td>4</td><td>3</td><td>0.00002</td><td>1</td><td>0.034</td><td>0.50</td><td>0.19</td><td>0.0062</td><td>motif-PLDS</td><td>CASRPLDSVHRPQHF </td><td>TRBV6-1 </td><td>TRBJ1-5</td><td>NA</td><td>LFS_TCR-4570-PBMC-DNA:1 </td><td>7</td><td>lfs_fortest_nonuniqueCDR3s_nonuniquesubjectcondition_cluster.csv</td></tr>\n",
       "\t<tr><th scope=row>93</th><td>44</td><td>PLDS</td><td>0.00057</td><td>4</td><td>3</td><td>0.00002</td><td>1</td><td>0.034</td><td>0.50</td><td>0.19</td><td>0.0062</td><td>motif-PLDS</td><td>CAIRPLDSYEQYF   </td><td>TRBV10-3</td><td>TRBJ2-7</td><td>NA</td><td>LFS_TCR-4535-PBMC-DNA:1 </td><td>5</td><td>lfs_fortest_nonuniqueCDR3s_nonuniquesubjectcondition_cluster.csv</td></tr>\n",
       "\t<tr><th scope=row>94</th><td>44</td><td>PLDS</td><td>0.00057</td><td>4</td><td>3</td><td>0.00002</td><td>1</td><td>0.034</td><td>0.50</td><td>0.19</td><td>0.0062</td><td>motif-PLDS</td><td>CASSPLDSPANYGYTF</td><td>TRBV18  </td><td>TRBJ1-2</td><td>NA</td><td>LFS_TCR-4758-PBMC-DNA:1 </td><td>7</td><td>lfs_fortest_nonuniqueCDR3s_nonuniquesubjectcondition_cluster.csv</td></tr>\n",
       "\t<tr><th scope=row>95</th><td>44</td><td>PLDS</td><td>0.00057</td><td>4</td><td>3</td><td>0.00002</td><td>1</td><td>0.034</td><td>0.50</td><td>0.19</td><td>0.0062</td><td>motif-PLDS</td><td>CASSPLDSPANYGYTF</td><td>TRBV18  </td><td>TRBJ1-2</td><td>NA</td><td> LFS_TCR-4570-PBMC-DNA:1</td><td>7</td><td>lfs_fortest_nonuniqueCDR3s_nonuniquesubjectcondition_cluster.csv</td></tr>\n",
       "\t<tr><th scope=row>102</th><td>48</td><td>SLRF</td><td>0.00065</td><td>3</td><td>3</td><td>0.00045</td><td>1</td><td>0.170</td><td>0.87</td><td>0.49</td><td>0.0062</td><td>motif-SLRF</td><td>CASSLRFGEEVYEQYF</td><td>TRBV5-6 </td><td>TRBJ2-7</td><td>NA</td><td>LFS_TCR-4837-PBMC-DNA:1 </td><td>3</td><td>lfs_fortest_nonuniqueCDR3s_nonuniquesubjectcondition_cluster.csv</td></tr>\n",
       "\t<tr><th scope=row>103</th><td>48</td><td>SLRF</td><td>0.00065</td><td>3</td><td>3</td><td>0.00045</td><td>1</td><td>0.170</td><td>0.87</td><td>0.49</td><td>0.0062</td><td>motif-SLRF</td><td>CASSLRFRGFTEAFF </td><td>TRBV7-9 </td><td>TRBJ1-1</td><td>NA</td><td>LFS_TCR-4602-PBMC-DNA:1 </td><td>5</td><td>lfs_fortest_nonuniqueCDR3s_nonuniquesubjectcondition_cluster.csv</td></tr>\n",
       "\t<tr><th scope=row>104</th><td>48</td><td>SLRF</td><td>0.00065</td><td>3</td><td>3</td><td>0.00045</td><td>1</td><td>0.170</td><td>0.87</td><td>0.49</td><td>0.0062</td><td>motif-SLRF</td><td>CASSLRFGGYEQYF  </td><td>TRBV11-2</td><td>TRBJ2-7</td><td>NA</td><td>LFS_TCR-4838-PBMC-DNA:1 </td><td>2</td><td>lfs_fortest_nonuniqueCDR3s_nonuniquesubjectcondition_cluster.csv</td></tr>\n",
       "</tbody>\n",
       "</table>\n"
      ],
      "text/latex": [
       "A data.frame: 7 x 19\n",
       "\\begin{tabular}{r|lllllllllllllllllll}\n",
       "  & index & pattern & Fisher\\_score & number\\_subject & number\\_unique\\_cdr3 & final\\_score & hla\\_score & vb\\_score & expansion\\_score & length\\_score & cluster\\_size\\_score & type & TcRb & V & J & TcRa & Sample & Freq & file\\\\\n",
       "  & <int> & <chr> & <dbl> & <int> & <int> & <dbl> & <dbl> & <dbl> & <dbl> & <dbl> & <dbl> & <chr> & <chr> & <chr> & <chr> & <lgl> & <chr> & <dbl> & <chr>\\\\\n",
       "\\hline\n",
       "\t92 & 44 & PLDS & 0.00057 & 4 & 3 & 0.00002 & 1 & 0.034 & 0.50 & 0.19 & 0.0062 & motif-PLDS & CASRPLDSVHRPQHF  & TRBV6-1  & TRBJ1-5 & NA & LFS\\_TCR-4570-PBMC-DNA:1  & 7 & lfs\\_fortest\\_nonuniqueCDR3s\\_nonuniquesubjectcondition\\_cluster.csv\\\\\n",
       "\t93 & 44 & PLDS & 0.00057 & 4 & 3 & 0.00002 & 1 & 0.034 & 0.50 & 0.19 & 0.0062 & motif-PLDS & CAIRPLDSYEQYF    & TRBV10-3 & TRBJ2-7 & NA & LFS\\_TCR-4535-PBMC-DNA:1  & 5 & lfs\\_fortest\\_nonuniqueCDR3s\\_nonuniquesubjectcondition\\_cluster.csv\\\\\n",
       "\t94 & 44 & PLDS & 0.00057 & 4 & 3 & 0.00002 & 1 & 0.034 & 0.50 & 0.19 & 0.0062 & motif-PLDS & CASSPLDSPANYGYTF & TRBV18   & TRBJ1-2 & NA & LFS\\_TCR-4758-PBMC-DNA:1  & 7 & lfs\\_fortest\\_nonuniqueCDR3s\\_nonuniquesubjectcondition\\_cluster.csv\\\\\n",
       "\t95 & 44 & PLDS & 0.00057 & 4 & 3 & 0.00002 & 1 & 0.034 & 0.50 & 0.19 & 0.0062 & motif-PLDS & CASSPLDSPANYGYTF & TRBV18   & TRBJ1-2 & NA &  LFS\\_TCR-4570-PBMC-DNA:1 & 7 & lfs\\_fortest\\_nonuniqueCDR3s\\_nonuniquesubjectcondition\\_cluster.csv\\\\\n",
       "\t102 & 48 & SLRF & 0.00065 & 3 & 3 & 0.00045 & 1 & 0.170 & 0.87 & 0.49 & 0.0062 & motif-SLRF & CASSLRFGEEVYEQYF & TRBV5-6  & TRBJ2-7 & NA & LFS\\_TCR-4837-PBMC-DNA:1  & 3 & lfs\\_fortest\\_nonuniqueCDR3s\\_nonuniquesubjectcondition\\_cluster.csv\\\\\n",
       "\t103 & 48 & SLRF & 0.00065 & 3 & 3 & 0.00045 & 1 & 0.170 & 0.87 & 0.49 & 0.0062 & motif-SLRF & CASSLRFRGFTEAFF  & TRBV7-9  & TRBJ1-1 & NA & LFS\\_TCR-4602-PBMC-DNA:1  & 5 & lfs\\_fortest\\_nonuniqueCDR3s\\_nonuniquesubjectcondition\\_cluster.csv\\\\\n",
       "\t104 & 48 & SLRF & 0.00065 & 3 & 3 & 0.00045 & 1 & 0.170 & 0.87 & 0.49 & 0.0062 & motif-SLRF & CASSLRFGGYEQYF   & TRBV11-2 & TRBJ2-7 & NA & LFS\\_TCR-4838-PBMC-DNA:1  & 2 & lfs\\_fortest\\_nonuniqueCDR3s\\_nonuniquesubjectcondition\\_cluster.csv\\\\\n",
       "\\end{tabular}\n"
      ],
      "text/markdown": [
       "\n",
       "A data.frame: 7 x 19\n",
       "\n",
       "| <!--/--> | index &lt;int&gt; | pattern &lt;chr&gt; | Fisher_score &lt;dbl&gt; | number_subject &lt;int&gt; | number_unique_cdr3 &lt;int&gt; | final_score &lt;dbl&gt; | hla_score &lt;dbl&gt; | vb_score &lt;dbl&gt; | expansion_score &lt;dbl&gt; | length_score &lt;dbl&gt; | cluster_size_score &lt;dbl&gt; | type &lt;chr&gt; | TcRb &lt;chr&gt; | V &lt;chr&gt; | J &lt;chr&gt; | TcRa &lt;lgl&gt; | Sample &lt;chr&gt; | Freq &lt;dbl&gt; | file &lt;chr&gt; |\n",
       "|---|---|---|---|---|---|---|---|---|---|---|---|---|---|---|---|---|---|---|---|\n",
       "| 92 | 44 | PLDS | 0.00057 | 4 | 3 | 0.00002 | 1 | 0.034 | 0.50 | 0.19 | 0.0062 | motif-PLDS | CASRPLDSVHRPQHF  | TRBV6-1  | TRBJ1-5 | NA | LFS_TCR-4570-PBMC-DNA:1  | 7 | lfs_fortest_nonuniqueCDR3s_nonuniquesubjectcondition_cluster.csv |\n",
       "| 93 | 44 | PLDS | 0.00057 | 4 | 3 | 0.00002 | 1 | 0.034 | 0.50 | 0.19 | 0.0062 | motif-PLDS | CAIRPLDSYEQYF    | TRBV10-3 | TRBJ2-7 | NA | LFS_TCR-4535-PBMC-DNA:1  | 5 | lfs_fortest_nonuniqueCDR3s_nonuniquesubjectcondition_cluster.csv |\n",
       "| 94 | 44 | PLDS | 0.00057 | 4 | 3 | 0.00002 | 1 | 0.034 | 0.50 | 0.19 | 0.0062 | motif-PLDS | CASSPLDSPANYGYTF | TRBV18   | TRBJ1-2 | NA | LFS_TCR-4758-PBMC-DNA:1  | 7 | lfs_fortest_nonuniqueCDR3s_nonuniquesubjectcondition_cluster.csv |\n",
       "| 95 | 44 | PLDS | 0.00057 | 4 | 3 | 0.00002 | 1 | 0.034 | 0.50 | 0.19 | 0.0062 | motif-PLDS | CASSPLDSPANYGYTF | TRBV18   | TRBJ1-2 | NA |  LFS_TCR-4570-PBMC-DNA:1 | 7 | lfs_fortest_nonuniqueCDR3s_nonuniquesubjectcondition_cluster.csv |\n",
       "| 102 | 48 | SLRF | 0.00065 | 3 | 3 | 0.00045 | 1 | 0.170 | 0.87 | 0.49 | 0.0062 | motif-SLRF | CASSLRFGEEVYEQYF | TRBV5-6  | TRBJ2-7 | NA | LFS_TCR-4837-PBMC-DNA:1  | 3 | lfs_fortest_nonuniqueCDR3s_nonuniquesubjectcondition_cluster.csv |\n",
       "| 103 | 48 | SLRF | 0.00065 | 3 | 3 | 0.00045 | 1 | 0.170 | 0.87 | 0.49 | 0.0062 | motif-SLRF | CASSLRFRGFTEAFF  | TRBV7-9  | TRBJ1-1 | NA | LFS_TCR-4602-PBMC-DNA:1  | 5 | lfs_fortest_nonuniqueCDR3s_nonuniquesubjectcondition_cluster.csv |\n",
       "| 104 | 48 | SLRF | 0.00065 | 3 | 3 | 0.00045 | 1 | 0.170 | 0.87 | 0.49 | 0.0062 | motif-SLRF | CASSLRFGGYEQYF   | TRBV11-2 | TRBJ2-7 | NA | LFS_TCR-4838-PBMC-DNA:1  | 2 | lfs_fortest_nonuniqueCDR3s_nonuniquesubjectcondition_cluster.csv |\n",
       "\n"
      ],
      "text/plain": [
       "    index pattern Fisher_score number_subject number_unique_cdr3 final_score\n",
       "92  44    PLDS    0.00057      4              3                  0.00002    \n",
       "93  44    PLDS    0.00057      4              3                  0.00002    \n",
       "94  44    PLDS    0.00057      4              3                  0.00002    \n",
       "95  44    PLDS    0.00057      4              3                  0.00002    \n",
       "102 48    SLRF    0.00065      3              3                  0.00045    \n",
       "103 48    SLRF    0.00065      3              3                  0.00045    \n",
       "104 48    SLRF    0.00065      3              3                  0.00045    \n",
       "    hla_score vb_score expansion_score length_score cluster_size_score\n",
       "92  1         0.034    0.50            0.19         0.0062            \n",
       "93  1         0.034    0.50            0.19         0.0062            \n",
       "94  1         0.034    0.50            0.19         0.0062            \n",
       "95  1         0.034    0.50            0.19         0.0062            \n",
       "102 1         0.170    0.87            0.49         0.0062            \n",
       "103 1         0.170    0.87            0.49         0.0062            \n",
       "104 1         0.170    0.87            0.49         0.0062            \n",
       "    type       TcRb             V        J       TcRa Sample                  \n",
       "92  motif-PLDS CASRPLDSVHRPQHF  TRBV6-1  TRBJ1-5 NA   LFS_TCR-4570-PBMC-DNA:1 \n",
       "93  motif-PLDS CAIRPLDSYEQYF    TRBV10-3 TRBJ2-7 NA   LFS_TCR-4535-PBMC-DNA:1 \n",
       "94  motif-PLDS CASSPLDSPANYGYTF TRBV18   TRBJ1-2 NA   LFS_TCR-4758-PBMC-DNA:1 \n",
       "95  motif-PLDS CASSPLDSPANYGYTF TRBV18   TRBJ1-2 NA    LFS_TCR-4570-PBMC-DNA:1\n",
       "102 motif-SLRF CASSLRFGEEVYEQYF TRBV5-6  TRBJ2-7 NA   LFS_TCR-4837-PBMC-DNA:1 \n",
       "103 motif-SLRF CASSLRFRGFTEAFF  TRBV7-9  TRBJ1-1 NA   LFS_TCR-4602-PBMC-DNA:1 \n",
       "104 motif-SLRF CASSLRFGGYEQYF   TRBV11-2 TRBJ2-7 NA   LFS_TCR-4838-PBMC-DNA:1 \n",
       "    Freq file                                                            \n",
       "92  7    lfs_fortest_nonuniqueCDR3s_nonuniquesubjectcondition_cluster.csv\n",
       "93  5    lfs_fortest_nonuniqueCDR3s_nonuniquesubjectcondition_cluster.csv\n",
       "94  7    lfs_fortest_nonuniqueCDR3s_nonuniquesubjectcondition_cluster.csv\n",
       "95  7    lfs_fortest_nonuniqueCDR3s_nonuniquesubjectcondition_cluster.csv\n",
       "102 3    lfs_fortest_nonuniqueCDR3s_nonuniquesubjectcondition_cluster.csv\n",
       "103 5    lfs_fortest_nonuniqueCDR3s_nonuniquesubjectcondition_cluster.csv\n",
       "104 2    lfs_fortest_nonuniqueCDR3s_nonuniquesubjectcondition_cluster.csv"
      ]
     },
     "metadata": {},
     "output_type": "display_data"
    }
   ],
   "source": [
    "lfs_fortest_lst[[3]][lfs_fortest_lst[[3]]$number_subject > 2,]\n",
    "lfs_fortest_lst[[2]][lfs_fortest_lst[[2]]$number_subject > 2,]"
   ]
  },
  {
   "attachments": {},
   "cell_type": "markdown",
   "metadata": {},
   "source": [
    "count affects expansion_score, if set to 1, expansion_score is 1. Final score will also differ. Fisher score is not affected by count, nor is cluster_size_score"
   ]
  },
  {
   "cell_type": "code",
   "execution_count": 62,
   "metadata": {
    "vscode": {
     "languageId": "r"
    }
   },
   "outputs": [
    {
     "data": {
      "text/html": [
       "<table class=\"dataframe\">\n",
       "<caption>A data.frame: 4 x 19</caption>\n",
       "<thead>\n",
       "\t<tr><th></th><th scope=col>index</th><th scope=col>pattern</th><th scope=col>Fisher_score</th><th scope=col>number_subject</th><th scope=col>number_unique_cdr3</th><th scope=col>final_score</th><th scope=col>hla_score</th><th scope=col>vb_score</th><th scope=col>expansion_score</th><th scope=col>length_score</th><th scope=col>cluster_size_score</th><th scope=col>type</th><th scope=col>TcRb</th><th scope=col>V</th><th scope=col>J</th><th scope=col>TcRa</th><th scope=col>Sample</th><th scope=col>Freq</th><th scope=col>file</th></tr>\n",
       "\t<tr><th></th><th scope=col>&lt;int&gt;</th><th scope=col>&lt;chr&gt;</th><th scope=col>&lt;dbl&gt;</th><th scope=col>&lt;int&gt;</th><th scope=col>&lt;int&gt;</th><th scope=col>&lt;dbl&gt;</th><th scope=col>&lt;dbl&gt;</th><th scope=col>&lt;dbl&gt;</th><th scope=col>&lt;dbl&gt;</th><th scope=col>&lt;dbl&gt;</th><th scope=col>&lt;dbl&gt;</th><th scope=col>&lt;chr&gt;</th><th scope=col>&lt;chr&gt;</th><th scope=col>&lt;chr&gt;</th><th scope=col>&lt;chr&gt;</th><th scope=col>&lt;lgl&gt;</th><th scope=col>&lt;chr&gt;</th><th scope=col>&lt;dbl&gt;</th><th scope=col>&lt;chr&gt;</th></tr>\n",
       "</thead>\n",
       "<tbody>\n",
       "\t<tr><th scope=row>139</th><td> 924</td><td>single</td><td>1</td><td>1</td><td>1</td><td>1.2e-08</td><td>1</td><td>0.001</td><td>0.013</td><td>0.001</td><td>0.95</td><td>global-SPRDTDNEK</td><td>CASSPRDTDNEKLFF</td><td>TRBV18  </td><td>TRBJ1-4</td><td>NA</td><td>LFS_TCR:55582</td><td>45</td><td>lfs_fortest_nonuniqueCDR3s_cluster.csv</td></tr>\n",
       "\t<tr><th scope=row>140</th><td> 924</td><td>single</td><td>1</td><td>1</td><td>1</td><td>1.2e-08</td><td>1</td><td>0.001</td><td>0.013</td><td>0.001</td><td>0.95</td><td>global-SPRDTDNEK</td><td>CASSPRDTDNEKLFF</td><td>TRBV18  </td><td>TRBJ1-4</td><td>NA</td><td>LFS_TCR:55582</td><td>45</td><td>lfs_fortest_nonuniqueCDR3s_cluster.csv</td></tr>\n",
       "\t<tr><th scope=row>141</th><td>1206</td><td>single</td><td>1</td><td>1</td><td>1</td><td>5.7e-07</td><td>1</td><td>0.001</td><td>0.600</td><td>0.001</td><td>0.95</td><td>global-SARRGDSEK</td><td>CATSARRGDSEKLFF</td><td>TRBV24-1</td><td>TRBJ1-4</td><td>NA</td><td>LFS_TCR:56059</td><td> 5</td><td>lfs_fortest_nonuniqueCDR3s_cluster.csv</td></tr>\n",
       "\t<tr><th scope=row>142</th><td>1206</td><td>single</td><td>1</td><td>1</td><td>1</td><td>5.7e-07</td><td>1</td><td>0.001</td><td>0.600</td><td>0.001</td><td>0.95</td><td>global-SARRGDSEK</td><td>CATSARRGDSEKLFF</td><td>TRBV24-1</td><td>TRBJ1-4</td><td>NA</td><td>LFS_TCR:56059</td><td> 5</td><td>lfs_fortest_nonuniqueCDR3s_cluster.csv</td></tr>\n",
       "</tbody>\n",
       "</table>\n"
      ],
      "text/latex": [
       "A data.frame: 4 x 19\n",
       "\\begin{tabular}{r|lllllllllllllllllll}\n",
       "  & index & pattern & Fisher\\_score & number\\_subject & number\\_unique\\_cdr3 & final\\_score & hla\\_score & vb\\_score & expansion\\_score & length\\_score & cluster\\_size\\_score & type & TcRb & V & J & TcRa & Sample & Freq & file\\\\\n",
       "  & <int> & <chr> & <dbl> & <int> & <int> & <dbl> & <dbl> & <dbl> & <dbl> & <dbl> & <dbl> & <chr> & <chr> & <chr> & <chr> & <lgl> & <chr> & <dbl> & <chr>\\\\\n",
       "\\hline\n",
       "\t139 &  924 & single & 1 & 1 & 1 & 1.2e-08 & 1 & 0.001 & 0.013 & 0.001 & 0.95 & global-SPRDTDNEK & CASSPRDTDNEKLFF & TRBV18   & TRBJ1-4 & NA & LFS\\_TCR:55582 & 45 & lfs\\_fortest\\_nonuniqueCDR3s\\_cluster.csv\\\\\n",
       "\t140 &  924 & single & 1 & 1 & 1 & 1.2e-08 & 1 & 0.001 & 0.013 & 0.001 & 0.95 & global-SPRDTDNEK & CASSPRDTDNEKLFF & TRBV18   & TRBJ1-4 & NA & LFS\\_TCR:55582 & 45 & lfs\\_fortest\\_nonuniqueCDR3s\\_cluster.csv\\\\\n",
       "\t141 & 1206 & single & 1 & 1 & 1 & 5.7e-07 & 1 & 0.001 & 0.600 & 0.001 & 0.95 & global-SARRGDSEK & CATSARRGDSEKLFF & TRBV24-1 & TRBJ1-4 & NA & LFS\\_TCR:56059 &  5 & lfs\\_fortest\\_nonuniqueCDR3s\\_cluster.csv\\\\\n",
       "\t142 & 1206 & single & 1 & 1 & 1 & 5.7e-07 & 1 & 0.001 & 0.600 & 0.001 & 0.95 & global-SARRGDSEK & CATSARRGDSEKLFF & TRBV24-1 & TRBJ1-4 & NA & LFS\\_TCR:56059 &  5 & lfs\\_fortest\\_nonuniqueCDR3s\\_cluster.csv\\\\\n",
       "\\end{tabular}\n"
      ],
      "text/markdown": [
       "\n",
       "A data.frame: 4 x 19\n",
       "\n",
       "| <!--/--> | index &lt;int&gt; | pattern &lt;chr&gt; | Fisher_score &lt;dbl&gt; | number_subject &lt;int&gt; | number_unique_cdr3 &lt;int&gt; | final_score &lt;dbl&gt; | hla_score &lt;dbl&gt; | vb_score &lt;dbl&gt; | expansion_score &lt;dbl&gt; | length_score &lt;dbl&gt; | cluster_size_score &lt;dbl&gt; | type &lt;chr&gt; | TcRb &lt;chr&gt; | V &lt;chr&gt; | J &lt;chr&gt; | TcRa &lt;lgl&gt; | Sample &lt;chr&gt; | Freq &lt;dbl&gt; | file &lt;chr&gt; |\n",
       "|---|---|---|---|---|---|---|---|---|---|---|---|---|---|---|---|---|---|---|---|\n",
       "| 139 |  924 | single | 1 | 1 | 1 | 1.2e-08 | 1 | 0.001 | 0.013 | 0.001 | 0.95 | global-SPRDTDNEK | CASSPRDTDNEKLFF | TRBV18   | TRBJ1-4 | NA | LFS_TCR:55582 | 45 | lfs_fortest_nonuniqueCDR3s_cluster.csv |\n",
       "| 140 |  924 | single | 1 | 1 | 1 | 1.2e-08 | 1 | 0.001 | 0.013 | 0.001 | 0.95 | global-SPRDTDNEK | CASSPRDTDNEKLFF | TRBV18   | TRBJ1-4 | NA | LFS_TCR:55582 | 45 | lfs_fortest_nonuniqueCDR3s_cluster.csv |\n",
       "| 141 | 1206 | single | 1 | 1 | 1 | 5.7e-07 | 1 | 0.001 | 0.600 | 0.001 | 0.95 | global-SARRGDSEK | CATSARRGDSEKLFF | TRBV24-1 | TRBJ1-4 | NA | LFS_TCR:56059 |  5 | lfs_fortest_nonuniqueCDR3s_cluster.csv |\n",
       "| 142 | 1206 | single | 1 | 1 | 1 | 5.7e-07 | 1 | 0.001 | 0.600 | 0.001 | 0.95 | global-SARRGDSEK | CATSARRGDSEKLFF | TRBV24-1 | TRBJ1-4 | NA | LFS_TCR:56059 |  5 | lfs_fortest_nonuniqueCDR3s_cluster.csv |\n",
       "\n"
      ],
      "text/plain": [
       "    index pattern Fisher_score number_subject number_unique_cdr3 final_score\n",
       "139  924  single  1            1              1                  1.2e-08    \n",
       "140  924  single  1            1              1                  1.2e-08    \n",
       "141 1206  single  1            1              1                  5.7e-07    \n",
       "142 1206  single  1            1              1                  5.7e-07    \n",
       "    hla_score vb_score expansion_score length_score cluster_size_score\n",
       "139 1         0.001    0.013           0.001        0.95              \n",
       "140 1         0.001    0.013           0.001        0.95              \n",
       "141 1         0.001    0.600           0.001        0.95              \n",
       "142 1         0.001    0.600           0.001        0.95              \n",
       "    type             TcRb            V        J       TcRa Sample        Freq\n",
       "139 global-SPRDTDNEK CASSPRDTDNEKLFF TRBV18   TRBJ1-4 NA   LFS_TCR:55582 45  \n",
       "140 global-SPRDTDNEK CASSPRDTDNEKLFF TRBV18   TRBJ1-4 NA   LFS_TCR:55582 45  \n",
       "141 global-SARRGDSEK CATSARRGDSEKLFF TRBV24-1 TRBJ1-4 NA   LFS_TCR:56059  5  \n",
       "142 global-SARRGDSEK CATSARRGDSEKLFF TRBV24-1 TRBJ1-4 NA   LFS_TCR:56059  5  \n",
       "    file                                  \n",
       "139 lfs_fortest_nonuniqueCDR3s_cluster.csv\n",
       "140 lfs_fortest_nonuniqueCDR3s_cluster.csv\n",
       "141 lfs_fortest_nonuniqueCDR3s_cluster.csv\n",
       "142 lfs_fortest_nonuniqueCDR3s_cluster.csv"
      ]
     },
     "metadata": {},
     "output_type": "display_data"
    }
   ],
   "source": [
    "lfs_fortest_lst[[1]][grepl(\"single\", lfs_fortest_lst[[1]]$pattern),]"
   ]
  },
  {
   "cell_type": "code",
   "execution_count": 64,
   "metadata": {
    "vscode": {
     "languageId": "r"
    }
   },
   "outputs": [
    {
     "data": {
      "text/html": [
       "<table class=\"dataframe\">\n",
       "<caption>A data.frame: 0 x 19</caption>\n",
       "<thead>\n",
       "\t<tr><th scope=col>index</th><th scope=col>pattern</th><th scope=col>Fisher_score</th><th scope=col>number_subject</th><th scope=col>number_unique_cdr3</th><th scope=col>final_score</th><th scope=col>hla_score</th><th scope=col>vb_score</th><th scope=col>expansion_score</th><th scope=col>length_score</th><th scope=col>cluster_size_score</th><th scope=col>type</th><th scope=col>TcRb</th><th scope=col>V</th><th scope=col>J</th><th scope=col>TcRa</th><th scope=col>Sample</th><th scope=col>Freq</th><th scope=col>file</th></tr>\n",
       "\t<tr><th scope=col>&lt;int&gt;</th><th scope=col>&lt;chr&gt;</th><th scope=col>&lt;dbl&gt;</th><th scope=col>&lt;int&gt;</th><th scope=col>&lt;int&gt;</th><th scope=col>&lt;dbl&gt;</th><th scope=col>&lt;dbl&gt;</th><th scope=col>&lt;dbl&gt;</th><th scope=col>&lt;dbl&gt;</th><th scope=col>&lt;dbl&gt;</th><th scope=col>&lt;dbl&gt;</th><th scope=col>&lt;chr&gt;</th><th scope=col>&lt;chr&gt;</th><th scope=col>&lt;chr&gt;</th><th scope=col>&lt;chr&gt;</th><th scope=col>&lt;lgl&gt;</th><th scope=col>&lt;chr&gt;</th><th scope=col>&lt;dbl&gt;</th><th scope=col>&lt;chr&gt;</th></tr>\n",
       "</thead>\n",
       "<tbody>\n",
       "</tbody>\n",
       "</table>\n"
      ],
      "text/latex": [
       "A data.frame: 0 x 19\n",
       "\\begin{tabular}{lllllllllllllllllll}\n",
       " index & pattern & Fisher\\_score & number\\_subject & number\\_unique\\_cdr3 & final\\_score & hla\\_score & vb\\_score & expansion\\_score & length\\_score & cluster\\_size\\_score & type & TcRb & V & J & TcRa & Sample & Freq & file\\\\\n",
       " <int> & <chr> & <dbl> & <int> & <int> & <dbl> & <dbl> & <dbl> & <dbl> & <dbl> & <dbl> & <chr> & <chr> & <chr> & <chr> & <lgl> & <chr> & <dbl> & <chr>\\\\\n",
       "\\hline\n",
       "\\end{tabular}\n"
      ],
      "text/markdown": [
       "\n",
       "A data.frame: 0 x 19\n",
       "\n",
       "| index &lt;int&gt; | pattern &lt;chr&gt; | Fisher_score &lt;dbl&gt; | number_subject &lt;int&gt; | number_unique_cdr3 &lt;int&gt; | final_score &lt;dbl&gt; | hla_score &lt;dbl&gt; | vb_score &lt;dbl&gt; | expansion_score &lt;dbl&gt; | length_score &lt;dbl&gt; | cluster_size_score &lt;dbl&gt; | type &lt;chr&gt; | TcRb &lt;chr&gt; | V &lt;chr&gt; | J &lt;chr&gt; | TcRa &lt;lgl&gt; | Sample &lt;chr&gt; | Freq &lt;dbl&gt; | file &lt;chr&gt; |\n",
       "|---|---|---|---|---|---|---|---|---|---|---|---|---|---|---|---|---|---|---|\n",
       "\n"
      ],
      "text/plain": [
       "     index pattern Fisher_score number_subject number_unique_cdr3 final_score\n",
       "     hla_score vb_score expansion_score length_score cluster_size_score type\n",
       "     TcRb V J TcRa Sample Freq file"
      ]
     },
     "metadata": {},
     "output_type": "display_data"
    }
   ],
   "source": [
    "lfs_fortest_lst[[5]][grepl(\"single\", lfs_fortest_lst[[5]]$pattern),]"
   ]
  },
  {
   "attachments": {},
   "cell_type": "markdown",
   "metadata": {},
   "source": [
    "as per GLIPHII: CDR3s, which do not share either local or global similarity signatures but are found in multiple samples, are grouped into singlet clusters in GLIPH2. \n",
    "\n",
    "If input contains nonunique CDR3s in the same sample and if they do not cluster, their pattern = single. "
   ]
  },
  {
   "cell_type": "code",
   "execution_count": 65,
   "metadata": {
    "vscode": {
     "languageId": "r"
    }
   },
   "outputs": [
    {
     "data": {
      "text/html": [
       "<table class=\"dataframe\">\n",
       "<caption>A data.frame: 4 x 19</caption>\n",
       "<thead>\n",
       "\t<tr><th></th><th scope=col>index</th><th scope=col>pattern</th><th scope=col>Fisher_score</th><th scope=col>number_subject</th><th scope=col>number_unique_cdr3</th><th scope=col>final_score</th><th scope=col>hla_score</th><th scope=col>vb_score</th><th scope=col>expansion_score</th><th scope=col>length_score</th><th scope=col>cluster_size_score</th><th scope=col>type</th><th scope=col>TcRb</th><th scope=col>V</th><th scope=col>J</th><th scope=col>TcRa</th><th scope=col>Sample</th><th scope=col>Freq</th><th scope=col>file</th></tr>\n",
       "\t<tr><th></th><th scope=col>&lt;int&gt;</th><th scope=col>&lt;chr&gt;</th><th scope=col>&lt;dbl&gt;</th><th scope=col>&lt;int&gt;</th><th scope=col>&lt;int&gt;</th><th scope=col>&lt;dbl&gt;</th><th scope=col>&lt;dbl&gt;</th><th scope=col>&lt;dbl&gt;</th><th scope=col>&lt;dbl&gt;</th><th scope=col>&lt;dbl&gt;</th><th scope=col>&lt;dbl&gt;</th><th scope=col>&lt;chr&gt;</th><th scope=col>&lt;chr&gt;</th><th scope=col>&lt;chr&gt;</th><th scope=col>&lt;chr&gt;</th><th scope=col>&lt;lgl&gt;</th><th scope=col>&lt;chr&gt;</th><th scope=col>&lt;dbl&gt;</th><th scope=col>&lt;chr&gt;</th></tr>\n",
       "</thead>\n",
       "<tbody>\n",
       "\t<tr><th scope=row>139</th><td> 924</td><td>single</td><td>1</td><td>2</td><td>1</td><td>1.2e-08</td><td>1</td><td>0.001</td><td>0.013</td><td>0.001</td><td>0.95</td><td>global-SPRDTDNEK</td><td>CASSPRDTDNEKLFF</td><td>TRBV18  </td><td>TRBJ1-4</td><td>NA</td><td>LFS_TCR-4570-PBMC-DNA:1 </td><td>45</td><td>lfs_fortest_nonuniqueCDR3s_nonuniquesubjectcondition_cluster.csv</td></tr>\n",
       "\t<tr><th scope=row>140</th><td> 924</td><td>single</td><td>1</td><td>2</td><td>1</td><td>1.2e-08</td><td>1</td><td>0.001</td><td>0.013</td><td>0.001</td><td>0.95</td><td>global-SPRDTDNEK</td><td>CASSPRDTDNEKLFF</td><td>TRBV18  </td><td>TRBJ1-4</td><td>NA</td><td> LFS_TCR-4758-PBMC-DNA:1</td><td>45</td><td>lfs_fortest_nonuniqueCDR3s_nonuniquesubjectcondition_cluster.csv</td></tr>\n",
       "\t<tr><th scope=row>141</th><td>1206</td><td>single</td><td>1</td><td>2</td><td>1</td><td>5.7e-07</td><td>1</td><td>0.001</td><td>0.600</td><td>0.001</td><td>0.95</td><td>global-SARRGDSEK</td><td>CATSARRGDSEKLFF</td><td>TRBV24-1</td><td>TRBJ1-4</td><td>NA</td><td>LFS_TCR-4759-PBMC-DNA:1 </td><td> 5</td><td>lfs_fortest_nonuniqueCDR3s_nonuniquesubjectcondition_cluster.csv</td></tr>\n",
       "\t<tr><th scope=row>142</th><td>1206</td><td>single</td><td>1</td><td>2</td><td>1</td><td>5.7e-07</td><td>1</td><td>0.001</td><td>0.600</td><td>0.001</td><td>0.95</td><td>global-SARRGDSEK</td><td>CATSARRGDSEKLFF</td><td>TRBV24-1</td><td>TRBJ1-4</td><td>NA</td><td> LFS_TCR-4783-PBMC-DNA:1</td><td> 5</td><td>lfs_fortest_nonuniqueCDR3s_nonuniquesubjectcondition_cluster.csv</td></tr>\n",
       "</tbody>\n",
       "</table>\n"
      ],
      "text/latex": [
       "A data.frame: 4 x 19\n",
       "\\begin{tabular}{r|lllllllllllllllllll}\n",
       "  & index & pattern & Fisher\\_score & number\\_subject & number\\_unique\\_cdr3 & final\\_score & hla\\_score & vb\\_score & expansion\\_score & length\\_score & cluster\\_size\\_score & type & TcRb & V & J & TcRa & Sample & Freq & file\\\\\n",
       "  & <int> & <chr> & <dbl> & <int> & <int> & <dbl> & <dbl> & <dbl> & <dbl> & <dbl> & <dbl> & <chr> & <chr> & <chr> & <chr> & <lgl> & <chr> & <dbl> & <chr>\\\\\n",
       "\\hline\n",
       "\t139 &  924 & single & 1 & 2 & 1 & 1.2e-08 & 1 & 0.001 & 0.013 & 0.001 & 0.95 & global-SPRDTDNEK & CASSPRDTDNEKLFF & TRBV18   & TRBJ1-4 & NA & LFS\\_TCR-4570-PBMC-DNA:1  & 45 & lfs\\_fortest\\_nonuniqueCDR3s\\_nonuniquesubjectcondition\\_cluster.csv\\\\\n",
       "\t140 &  924 & single & 1 & 2 & 1 & 1.2e-08 & 1 & 0.001 & 0.013 & 0.001 & 0.95 & global-SPRDTDNEK & CASSPRDTDNEKLFF & TRBV18   & TRBJ1-4 & NA &  LFS\\_TCR-4758-PBMC-DNA:1 & 45 & lfs\\_fortest\\_nonuniqueCDR3s\\_nonuniquesubjectcondition\\_cluster.csv\\\\\n",
       "\t141 & 1206 & single & 1 & 2 & 1 & 5.7e-07 & 1 & 0.001 & 0.600 & 0.001 & 0.95 & global-SARRGDSEK & CATSARRGDSEKLFF & TRBV24-1 & TRBJ1-4 & NA & LFS\\_TCR-4759-PBMC-DNA:1  &  5 & lfs\\_fortest\\_nonuniqueCDR3s\\_nonuniquesubjectcondition\\_cluster.csv\\\\\n",
       "\t142 & 1206 & single & 1 & 2 & 1 & 5.7e-07 & 1 & 0.001 & 0.600 & 0.001 & 0.95 & global-SARRGDSEK & CATSARRGDSEKLFF & TRBV24-1 & TRBJ1-4 & NA &  LFS\\_TCR-4783-PBMC-DNA:1 &  5 & lfs\\_fortest\\_nonuniqueCDR3s\\_nonuniquesubjectcondition\\_cluster.csv\\\\\n",
       "\\end{tabular}\n"
      ],
      "text/markdown": [
       "\n",
       "A data.frame: 4 x 19\n",
       "\n",
       "| <!--/--> | index &lt;int&gt; | pattern &lt;chr&gt; | Fisher_score &lt;dbl&gt; | number_subject &lt;int&gt; | number_unique_cdr3 &lt;int&gt; | final_score &lt;dbl&gt; | hla_score &lt;dbl&gt; | vb_score &lt;dbl&gt; | expansion_score &lt;dbl&gt; | length_score &lt;dbl&gt; | cluster_size_score &lt;dbl&gt; | type &lt;chr&gt; | TcRb &lt;chr&gt; | V &lt;chr&gt; | J &lt;chr&gt; | TcRa &lt;lgl&gt; | Sample &lt;chr&gt; | Freq &lt;dbl&gt; | file &lt;chr&gt; |\n",
       "|---|---|---|---|---|---|---|---|---|---|---|---|---|---|---|---|---|---|---|---|\n",
       "| 139 |  924 | single | 1 | 2 | 1 | 1.2e-08 | 1 | 0.001 | 0.013 | 0.001 | 0.95 | global-SPRDTDNEK | CASSPRDTDNEKLFF | TRBV18   | TRBJ1-4 | NA | LFS_TCR-4570-PBMC-DNA:1  | 45 | lfs_fortest_nonuniqueCDR3s_nonuniquesubjectcondition_cluster.csv |\n",
       "| 140 |  924 | single | 1 | 2 | 1 | 1.2e-08 | 1 | 0.001 | 0.013 | 0.001 | 0.95 | global-SPRDTDNEK | CASSPRDTDNEKLFF | TRBV18   | TRBJ1-4 | NA |  LFS_TCR-4758-PBMC-DNA:1 | 45 | lfs_fortest_nonuniqueCDR3s_nonuniquesubjectcondition_cluster.csv |\n",
       "| 141 | 1206 | single | 1 | 2 | 1 | 5.7e-07 | 1 | 0.001 | 0.600 | 0.001 | 0.95 | global-SARRGDSEK | CATSARRGDSEKLFF | TRBV24-1 | TRBJ1-4 | NA | LFS_TCR-4759-PBMC-DNA:1  |  5 | lfs_fortest_nonuniqueCDR3s_nonuniquesubjectcondition_cluster.csv |\n",
       "| 142 | 1206 | single | 1 | 2 | 1 | 5.7e-07 | 1 | 0.001 | 0.600 | 0.001 | 0.95 | global-SARRGDSEK | CATSARRGDSEKLFF | TRBV24-1 | TRBJ1-4 | NA |  LFS_TCR-4783-PBMC-DNA:1 |  5 | lfs_fortest_nonuniqueCDR3s_nonuniquesubjectcondition_cluster.csv |\n",
       "\n"
      ],
      "text/plain": [
       "    index pattern Fisher_score number_subject number_unique_cdr3 final_score\n",
       "139  924  single  1            2              1                  1.2e-08    \n",
       "140  924  single  1            2              1                  1.2e-08    \n",
       "141 1206  single  1            2              1                  5.7e-07    \n",
       "142 1206  single  1            2              1                  5.7e-07    \n",
       "    hla_score vb_score expansion_score length_score cluster_size_score\n",
       "139 1         0.001    0.013           0.001        0.95              \n",
       "140 1         0.001    0.013           0.001        0.95              \n",
       "141 1         0.001    0.600           0.001        0.95              \n",
       "142 1         0.001    0.600           0.001        0.95              \n",
       "    type             TcRb            V        J       TcRa\n",
       "139 global-SPRDTDNEK CASSPRDTDNEKLFF TRBV18   TRBJ1-4 NA  \n",
       "140 global-SPRDTDNEK CASSPRDTDNEKLFF TRBV18   TRBJ1-4 NA  \n",
       "141 global-SARRGDSEK CATSARRGDSEKLFF TRBV24-1 TRBJ1-4 NA  \n",
       "142 global-SARRGDSEK CATSARRGDSEKLFF TRBV24-1 TRBJ1-4 NA  \n",
       "    Sample                   Freq\n",
       "139 LFS_TCR-4570-PBMC-DNA:1  45  \n",
       "140  LFS_TCR-4758-PBMC-DNA:1 45  \n",
       "141 LFS_TCR-4759-PBMC-DNA:1   5  \n",
       "142  LFS_TCR-4783-PBMC-DNA:1  5  \n",
       "    file                                                            \n",
       "139 lfs_fortest_nonuniqueCDR3s_nonuniquesubjectcondition_cluster.csv\n",
       "140 lfs_fortest_nonuniqueCDR3s_nonuniquesubjectcondition_cluster.csv\n",
       "141 lfs_fortest_nonuniqueCDR3s_nonuniquesubjectcondition_cluster.csv\n",
       "142 lfs_fortest_nonuniqueCDR3s_nonuniquesubjectcondition_cluster.csv"
      ]
     },
     "metadata": {},
     "output_type": "display_data"
    }
   ],
   "source": [
    "head(lfs_fortest_lst[[2]][grepl(\"single\", lfs_fortest_lst[[2]]$pattern),])"
   ]
  },
  {
   "cell_type": "code",
   "execution_count": 66,
   "metadata": {
    "vscode": {
     "languageId": "r"
    }
   },
   "outputs": [
    {
     "data": {
      "text/html": [
       "<table class=\"dataframe\">\n",
       "<caption>A data.frame: 4 x 19</caption>\n",
       "<thead>\n",
       "\t<tr><th></th><th scope=col>index</th><th scope=col>pattern</th><th scope=col>Fisher_score</th><th scope=col>number_subject</th><th scope=col>number_unique_cdr3</th><th scope=col>final_score</th><th scope=col>hla_score</th><th scope=col>vb_score</th><th scope=col>expansion_score</th><th scope=col>length_score</th><th scope=col>cluster_size_score</th><th scope=col>type</th><th scope=col>TcRb</th><th scope=col>V</th><th scope=col>J</th><th scope=col>TcRa</th><th scope=col>Sample</th><th scope=col>Freq</th><th scope=col>file</th></tr>\n",
       "\t<tr><th></th><th scope=col>&lt;int&gt;</th><th scope=col>&lt;chr&gt;</th><th scope=col>&lt;dbl&gt;</th><th scope=col>&lt;int&gt;</th><th scope=col>&lt;int&gt;</th><th scope=col>&lt;dbl&gt;</th><th scope=col>&lt;dbl&gt;</th><th scope=col>&lt;dbl&gt;</th><th scope=col>&lt;dbl&gt;</th><th scope=col>&lt;dbl&gt;</th><th scope=col>&lt;dbl&gt;</th><th scope=col>&lt;chr&gt;</th><th scope=col>&lt;chr&gt;</th><th scope=col>&lt;chr&gt;</th><th scope=col>&lt;chr&gt;</th><th scope=col>&lt;lgl&gt;</th><th scope=col>&lt;chr&gt;</th><th scope=col>&lt;dbl&gt;</th><th scope=col>&lt;chr&gt;</th></tr>\n",
       "</thead>\n",
       "<tbody>\n",
       "\t<tr><th scope=row>139</th><td> 924</td><td>single</td><td>1</td><td>2</td><td>1</td><td>9.5e-07</td><td>1</td><td>0.001</td><td>1</td><td>0.001</td><td>0.95</td><td>global-SPRDTDNEK</td><td>CASSPRDTDNEKLFF</td><td>TRBV18  </td><td>TRBJ1-4</td><td>NA</td><td>LFS_TCR-4570-PBMC-DNA:1 </td><td>1</td><td>lfs_fortest_nonuniqueCDR3s_nonuniquesubjectcondition_count1_cluster.csv</td></tr>\n",
       "\t<tr><th scope=row>140</th><td> 924</td><td>single</td><td>1</td><td>2</td><td>1</td><td>9.5e-07</td><td>1</td><td>0.001</td><td>1</td><td>0.001</td><td>0.95</td><td>global-SPRDTDNEK</td><td>CASSPRDTDNEKLFF</td><td>TRBV18  </td><td>TRBJ1-4</td><td>NA</td><td> LFS_TCR-4758-PBMC-DNA:1</td><td>1</td><td>lfs_fortest_nonuniqueCDR3s_nonuniquesubjectcondition_count1_cluster.csv</td></tr>\n",
       "\t<tr><th scope=row>141</th><td>1206</td><td>single</td><td>1</td><td>2</td><td>1</td><td>9.5e-07</td><td>1</td><td>0.001</td><td>1</td><td>0.001</td><td>0.95</td><td>global-SARRGDSEK</td><td>CATSARRGDSEKLFF</td><td>TRBV24-1</td><td>TRBJ1-4</td><td>NA</td><td>LFS_TCR-4759-PBMC-DNA:1 </td><td>1</td><td>lfs_fortest_nonuniqueCDR3s_nonuniquesubjectcondition_count1_cluster.csv</td></tr>\n",
       "\t<tr><th scope=row>142</th><td>1206</td><td>single</td><td>1</td><td>2</td><td>1</td><td>9.5e-07</td><td>1</td><td>0.001</td><td>1</td><td>0.001</td><td>0.95</td><td>global-SARRGDSEK</td><td>CATSARRGDSEKLFF</td><td>TRBV24-1</td><td>TRBJ1-4</td><td>NA</td><td> LFS_TCR-4783-PBMC-DNA:1</td><td>1</td><td>lfs_fortest_nonuniqueCDR3s_nonuniquesubjectcondition_count1_cluster.csv</td></tr>\n",
       "</tbody>\n",
       "</table>\n"
      ],
      "text/latex": [
       "A data.frame: 4 x 19\n",
       "\\begin{tabular}{r|lllllllllllllllllll}\n",
       "  & index & pattern & Fisher\\_score & number\\_subject & number\\_unique\\_cdr3 & final\\_score & hla\\_score & vb\\_score & expansion\\_score & length\\_score & cluster\\_size\\_score & type & TcRb & V & J & TcRa & Sample & Freq & file\\\\\n",
       "  & <int> & <chr> & <dbl> & <int> & <int> & <dbl> & <dbl> & <dbl> & <dbl> & <dbl> & <dbl> & <chr> & <chr> & <chr> & <chr> & <lgl> & <chr> & <dbl> & <chr>\\\\\n",
       "\\hline\n",
       "\t139 &  924 & single & 1 & 2 & 1 & 9.5e-07 & 1 & 0.001 & 1 & 0.001 & 0.95 & global-SPRDTDNEK & CASSPRDTDNEKLFF & TRBV18   & TRBJ1-4 & NA & LFS\\_TCR-4570-PBMC-DNA:1  & 1 & lfs\\_fortest\\_nonuniqueCDR3s\\_nonuniquesubjectcondition\\_count1\\_cluster.csv\\\\\n",
       "\t140 &  924 & single & 1 & 2 & 1 & 9.5e-07 & 1 & 0.001 & 1 & 0.001 & 0.95 & global-SPRDTDNEK & CASSPRDTDNEKLFF & TRBV18   & TRBJ1-4 & NA &  LFS\\_TCR-4758-PBMC-DNA:1 & 1 & lfs\\_fortest\\_nonuniqueCDR3s\\_nonuniquesubjectcondition\\_count1\\_cluster.csv\\\\\n",
       "\t141 & 1206 & single & 1 & 2 & 1 & 9.5e-07 & 1 & 0.001 & 1 & 0.001 & 0.95 & global-SARRGDSEK & CATSARRGDSEKLFF & TRBV24-1 & TRBJ1-4 & NA & LFS\\_TCR-4759-PBMC-DNA:1  & 1 & lfs\\_fortest\\_nonuniqueCDR3s\\_nonuniquesubjectcondition\\_count1\\_cluster.csv\\\\\n",
       "\t142 & 1206 & single & 1 & 2 & 1 & 9.5e-07 & 1 & 0.001 & 1 & 0.001 & 0.95 & global-SARRGDSEK & CATSARRGDSEKLFF & TRBV24-1 & TRBJ1-4 & NA &  LFS\\_TCR-4783-PBMC-DNA:1 & 1 & lfs\\_fortest\\_nonuniqueCDR3s\\_nonuniquesubjectcondition\\_count1\\_cluster.csv\\\\\n",
       "\\end{tabular}\n"
      ],
      "text/markdown": [
       "\n",
       "A data.frame: 4 x 19\n",
       "\n",
       "| <!--/--> | index &lt;int&gt; | pattern &lt;chr&gt; | Fisher_score &lt;dbl&gt; | number_subject &lt;int&gt; | number_unique_cdr3 &lt;int&gt; | final_score &lt;dbl&gt; | hla_score &lt;dbl&gt; | vb_score &lt;dbl&gt; | expansion_score &lt;dbl&gt; | length_score &lt;dbl&gt; | cluster_size_score &lt;dbl&gt; | type &lt;chr&gt; | TcRb &lt;chr&gt; | V &lt;chr&gt; | J &lt;chr&gt; | TcRa &lt;lgl&gt; | Sample &lt;chr&gt; | Freq &lt;dbl&gt; | file &lt;chr&gt; |\n",
       "|---|---|---|---|---|---|---|---|---|---|---|---|---|---|---|---|---|---|---|---|\n",
       "| 139 |  924 | single | 1 | 2 | 1 | 9.5e-07 | 1 | 0.001 | 1 | 0.001 | 0.95 | global-SPRDTDNEK | CASSPRDTDNEKLFF | TRBV18   | TRBJ1-4 | NA | LFS_TCR-4570-PBMC-DNA:1  | 1 | lfs_fortest_nonuniqueCDR3s_nonuniquesubjectcondition_count1_cluster.csv |\n",
       "| 140 |  924 | single | 1 | 2 | 1 | 9.5e-07 | 1 | 0.001 | 1 | 0.001 | 0.95 | global-SPRDTDNEK | CASSPRDTDNEKLFF | TRBV18   | TRBJ1-4 | NA |  LFS_TCR-4758-PBMC-DNA:1 | 1 | lfs_fortest_nonuniqueCDR3s_nonuniquesubjectcondition_count1_cluster.csv |\n",
       "| 141 | 1206 | single | 1 | 2 | 1 | 9.5e-07 | 1 | 0.001 | 1 | 0.001 | 0.95 | global-SARRGDSEK | CATSARRGDSEKLFF | TRBV24-1 | TRBJ1-4 | NA | LFS_TCR-4759-PBMC-DNA:1  | 1 | lfs_fortest_nonuniqueCDR3s_nonuniquesubjectcondition_count1_cluster.csv |\n",
       "| 142 | 1206 | single | 1 | 2 | 1 | 9.5e-07 | 1 | 0.001 | 1 | 0.001 | 0.95 | global-SARRGDSEK | CATSARRGDSEKLFF | TRBV24-1 | TRBJ1-4 | NA |  LFS_TCR-4783-PBMC-DNA:1 | 1 | lfs_fortest_nonuniqueCDR3s_nonuniquesubjectcondition_count1_cluster.csv |\n",
       "\n"
      ],
      "text/plain": [
       "    index pattern Fisher_score number_subject number_unique_cdr3 final_score\n",
       "139  924  single  1            2              1                  9.5e-07    \n",
       "140  924  single  1            2              1                  9.5e-07    \n",
       "141 1206  single  1            2              1                  9.5e-07    \n",
       "142 1206  single  1            2              1                  9.5e-07    \n",
       "    hla_score vb_score expansion_score length_score cluster_size_score\n",
       "139 1         0.001    1               0.001        0.95              \n",
       "140 1         0.001    1               0.001        0.95              \n",
       "141 1         0.001    1               0.001        0.95              \n",
       "142 1         0.001    1               0.001        0.95              \n",
       "    type             TcRb            V        J       TcRa\n",
       "139 global-SPRDTDNEK CASSPRDTDNEKLFF TRBV18   TRBJ1-4 NA  \n",
       "140 global-SPRDTDNEK CASSPRDTDNEKLFF TRBV18   TRBJ1-4 NA  \n",
       "141 global-SARRGDSEK CATSARRGDSEKLFF TRBV24-1 TRBJ1-4 NA  \n",
       "142 global-SARRGDSEK CATSARRGDSEKLFF TRBV24-1 TRBJ1-4 NA  \n",
       "    Sample                   Freq\n",
       "139 LFS_TCR-4570-PBMC-DNA:1  1   \n",
       "140  LFS_TCR-4758-PBMC-DNA:1 1   \n",
       "141 LFS_TCR-4759-PBMC-DNA:1  1   \n",
       "142  LFS_TCR-4783-PBMC-DNA:1 1   \n",
       "    file                                                                   \n",
       "139 lfs_fortest_nonuniqueCDR3s_nonuniquesubjectcondition_count1_cluster.csv\n",
       "140 lfs_fortest_nonuniqueCDR3s_nonuniquesubjectcondition_count1_cluster.csv\n",
       "141 lfs_fortest_nonuniqueCDR3s_nonuniquesubjectcondition_count1_cluster.csv\n",
       "142 lfs_fortest_nonuniqueCDR3s_nonuniquesubjectcondition_count1_cluster.csv"
      ]
     },
     "metadata": {},
     "output_type": "display_data"
    }
   ],
   "source": [
    "head(lfs_fortest_lst[[3]][grepl(\"single\", lfs_fortest_lst[[3]]$pattern),])"
   ]
  },
  {
   "attachments": {},
   "cell_type": "markdown",
   "metadata": {},
   "source": [
    "If input contains nonunique CDR3s in the different samples, If they do not cluster, their pattern = single."
   ]
  },
  {
   "cell_type": "code",
   "execution_count": 67,
   "metadata": {
    "vscode": {
     "languageId": "r"
    }
   },
   "outputs": [
    {
     "data": {
      "text/html": [
       "<table class=\"dataframe\">\n",
       "<caption>A data.frame: 1 x 19</caption>\n",
       "<thead>\n",
       "\t<tr><th></th><th scope=col>index</th><th scope=col>pattern</th><th scope=col>Fisher_score</th><th scope=col>number_subject</th><th scope=col>number_unique_cdr3</th><th scope=col>final_score</th><th scope=col>hla_score</th><th scope=col>vb_score</th><th scope=col>expansion_score</th><th scope=col>length_score</th><th scope=col>cluster_size_score</th><th scope=col>type</th><th scope=col>TcRb</th><th scope=col>V</th><th scope=col>J</th><th scope=col>TcRa</th><th scope=col>Sample</th><th scope=col>Freq</th><th scope=col>file</th></tr>\n",
       "\t<tr><th></th><th scope=col>&lt;int&gt;</th><th scope=col>&lt;chr&gt;</th><th scope=col>&lt;dbl&gt;</th><th scope=col>&lt;int&gt;</th><th scope=col>&lt;int&gt;</th><th scope=col>&lt;dbl&gt;</th><th scope=col>&lt;dbl&gt;</th><th scope=col>&lt;dbl&gt;</th><th scope=col>&lt;dbl&gt;</th><th scope=col>&lt;dbl&gt;</th><th scope=col>&lt;dbl&gt;</th><th scope=col>&lt;chr&gt;</th><th scope=col>&lt;chr&gt;</th><th scope=col>&lt;chr&gt;</th><th scope=col>&lt;chr&gt;</th><th scope=col>&lt;lgl&gt;</th><th scope=col>&lt;chr&gt;</th><th scope=col>&lt;dbl&gt;</th><th scope=col>&lt;chr&gt;</th></tr>\n",
       "</thead>\n",
       "<tbody>\n",
       "\t<tr><th scope=row>94</th><td>44</td><td>PLDS</td><td>0.00057</td><td>1</td><td>3</td><td>0.00021</td><td>1</td><td>0.16</td><td>0.47</td><td>0.46</td><td>0.0062</td><td>motif-PLDS</td><td>CASSPLDSPANYGYTF</td><td>TRBV18</td><td>TRBJ1-2</td><td>NA</td><td>LFS_TCR:55542</td><td>7</td><td>lfs_fortest_uniqueCDR3s_cluster.csv</td></tr>\n",
       "</tbody>\n",
       "</table>\n"
      ],
      "text/latex": [
       "A data.frame: 1 x 19\n",
       "\\begin{tabular}{r|lllllllllllllllllll}\n",
       "  & index & pattern & Fisher\\_score & number\\_subject & number\\_unique\\_cdr3 & final\\_score & hla\\_score & vb\\_score & expansion\\_score & length\\_score & cluster\\_size\\_score & type & TcRb & V & J & TcRa & Sample & Freq & file\\\\\n",
       "  & <int> & <chr> & <dbl> & <int> & <int> & <dbl> & <dbl> & <dbl> & <dbl> & <dbl> & <dbl> & <chr> & <chr> & <chr> & <chr> & <lgl> & <chr> & <dbl> & <chr>\\\\\n",
       "\\hline\n",
       "\t94 & 44 & PLDS & 0.00057 & 1 & 3 & 0.00021 & 1 & 0.16 & 0.47 & 0.46 & 0.0062 & motif-PLDS & CASSPLDSPANYGYTF & TRBV18 & TRBJ1-2 & NA & LFS\\_TCR:55542 & 7 & lfs\\_fortest\\_uniqueCDR3s\\_cluster.csv\\\\\n",
       "\\end{tabular}\n"
      ],
      "text/markdown": [
       "\n",
       "A data.frame: 1 x 19\n",
       "\n",
       "| <!--/--> | index &lt;int&gt; | pattern &lt;chr&gt; | Fisher_score &lt;dbl&gt; | number_subject &lt;int&gt; | number_unique_cdr3 &lt;int&gt; | final_score &lt;dbl&gt; | hla_score &lt;dbl&gt; | vb_score &lt;dbl&gt; | expansion_score &lt;dbl&gt; | length_score &lt;dbl&gt; | cluster_size_score &lt;dbl&gt; | type &lt;chr&gt; | TcRb &lt;chr&gt; | V &lt;chr&gt; | J &lt;chr&gt; | TcRa &lt;lgl&gt; | Sample &lt;chr&gt; | Freq &lt;dbl&gt; | file &lt;chr&gt; |\n",
       "|---|---|---|---|---|---|---|---|---|---|---|---|---|---|---|---|---|---|---|---|\n",
       "| 94 | 44 | PLDS | 0.00057 | 1 | 3 | 0.00021 | 1 | 0.16 | 0.47 | 0.46 | 0.0062 | motif-PLDS | CASSPLDSPANYGYTF | TRBV18 | TRBJ1-2 | NA | LFS_TCR:55542 | 7 | lfs_fortest_uniqueCDR3s_cluster.csv |\n",
       "\n"
      ],
      "text/plain": [
       "   index pattern Fisher_score number_subject number_unique_cdr3 final_score\n",
       "94 44    PLDS    0.00057      1              3                  0.00021    \n",
       "   hla_score vb_score expansion_score length_score cluster_size_score\n",
       "94 1         0.16     0.47            0.46         0.0062            \n",
       "   type       TcRb             V      J       TcRa Sample        Freq\n",
       "94 motif-PLDS CASSPLDSPANYGYTF TRBV18 TRBJ1-2 NA   LFS_TCR:55542 7   \n",
       "   file                               \n",
       "94 lfs_fortest_uniqueCDR3s_cluster.csv"
      ]
     },
     "metadata": {},
     "output_type": "display_data"
    }
   ],
   "source": [
    "head(lfs_fortest_lst[[5]][grepl(\"CASSPLDSPANYGYTF\", lfs_fortest_lst[[5]]$TcRb),])"
   ]
  },
  {
   "cell_type": "code",
   "execution_count": 68,
   "metadata": {
    "vscode": {
     "languageId": "r"
    }
   },
   "outputs": [
    {
     "data": {
      "text/html": [
       "<table class=\"dataframe\">\n",
       "<caption>A data.frame: 2 x 19</caption>\n",
       "<thead>\n",
       "\t<tr><th></th><th scope=col>index</th><th scope=col>pattern</th><th scope=col>Fisher_score</th><th scope=col>number_subject</th><th scope=col>number_unique_cdr3</th><th scope=col>final_score</th><th scope=col>hla_score</th><th scope=col>vb_score</th><th scope=col>expansion_score</th><th scope=col>length_score</th><th scope=col>cluster_size_score</th><th scope=col>type</th><th scope=col>TcRb</th><th scope=col>V</th><th scope=col>J</th><th scope=col>TcRa</th><th scope=col>Sample</th><th scope=col>Freq</th><th scope=col>file</th></tr>\n",
       "\t<tr><th></th><th scope=col>&lt;int&gt;</th><th scope=col>&lt;chr&gt;</th><th scope=col>&lt;dbl&gt;</th><th scope=col>&lt;int&gt;</th><th scope=col>&lt;int&gt;</th><th scope=col>&lt;dbl&gt;</th><th scope=col>&lt;dbl&gt;</th><th scope=col>&lt;dbl&gt;</th><th scope=col>&lt;dbl&gt;</th><th scope=col>&lt;dbl&gt;</th><th scope=col>&lt;dbl&gt;</th><th scope=col>&lt;chr&gt;</th><th scope=col>&lt;chr&gt;</th><th scope=col>&lt;chr&gt;</th><th scope=col>&lt;chr&gt;</th><th scope=col>&lt;lgl&gt;</th><th scope=col>&lt;chr&gt;</th><th scope=col>&lt;dbl&gt;</th><th scope=col>&lt;chr&gt;</th></tr>\n",
       "</thead>\n",
       "<tbody>\n",
       "\t<tr><th scope=row>94</th><td>44</td><td>PLDS</td><td>0.00057</td><td>1</td><td>3</td><td>2e-05</td><td>1</td><td>0.034</td><td>0.5</td><td>0.19</td><td>0.0062</td><td>motif-PLDS</td><td>CASSPLDSPANYGYTF</td><td>TRBV18</td><td>TRBJ1-2</td><td>NA</td><td>LFS_TCR:55542</td><td>7</td><td>lfs_fortest_nonuniqueCDR3s_cluster.csv</td></tr>\n",
       "\t<tr><th scope=row>95</th><td>44</td><td>PLDS</td><td>0.00057</td><td>1</td><td>3</td><td>2e-05</td><td>1</td><td>0.034</td><td>0.5</td><td>0.19</td><td>0.0062</td><td>motif-PLDS</td><td>CASSPLDSPANYGYTF</td><td>TRBV18</td><td>TRBJ1-2</td><td>NA</td><td>LFS_TCR:55542</td><td>7</td><td>lfs_fortest_nonuniqueCDR3s_cluster.csv</td></tr>\n",
       "</tbody>\n",
       "</table>\n"
      ],
      "text/latex": [
       "A data.frame: 2 x 19\n",
       "\\begin{tabular}{r|lllllllllllllllllll}\n",
       "  & index & pattern & Fisher\\_score & number\\_subject & number\\_unique\\_cdr3 & final\\_score & hla\\_score & vb\\_score & expansion\\_score & length\\_score & cluster\\_size\\_score & type & TcRb & V & J & TcRa & Sample & Freq & file\\\\\n",
       "  & <int> & <chr> & <dbl> & <int> & <int> & <dbl> & <dbl> & <dbl> & <dbl> & <dbl> & <dbl> & <chr> & <chr> & <chr> & <chr> & <lgl> & <chr> & <dbl> & <chr>\\\\\n",
       "\\hline\n",
       "\t94 & 44 & PLDS & 0.00057 & 1 & 3 & 2e-05 & 1 & 0.034 & 0.5 & 0.19 & 0.0062 & motif-PLDS & CASSPLDSPANYGYTF & TRBV18 & TRBJ1-2 & NA & LFS\\_TCR:55542 & 7 & lfs\\_fortest\\_nonuniqueCDR3s\\_cluster.csv\\\\\n",
       "\t95 & 44 & PLDS & 0.00057 & 1 & 3 & 2e-05 & 1 & 0.034 & 0.5 & 0.19 & 0.0062 & motif-PLDS & CASSPLDSPANYGYTF & TRBV18 & TRBJ1-2 & NA & LFS\\_TCR:55542 & 7 & lfs\\_fortest\\_nonuniqueCDR3s\\_cluster.csv\\\\\n",
       "\\end{tabular}\n"
      ],
      "text/markdown": [
       "\n",
       "A data.frame: 2 x 19\n",
       "\n",
       "| <!--/--> | index &lt;int&gt; | pattern &lt;chr&gt; | Fisher_score &lt;dbl&gt; | number_subject &lt;int&gt; | number_unique_cdr3 &lt;int&gt; | final_score &lt;dbl&gt; | hla_score &lt;dbl&gt; | vb_score &lt;dbl&gt; | expansion_score &lt;dbl&gt; | length_score &lt;dbl&gt; | cluster_size_score &lt;dbl&gt; | type &lt;chr&gt; | TcRb &lt;chr&gt; | V &lt;chr&gt; | J &lt;chr&gt; | TcRa &lt;lgl&gt; | Sample &lt;chr&gt; | Freq &lt;dbl&gt; | file &lt;chr&gt; |\n",
       "|---|---|---|---|---|---|---|---|---|---|---|---|---|---|---|---|---|---|---|---|\n",
       "| 94 | 44 | PLDS | 0.00057 | 1 | 3 | 2e-05 | 1 | 0.034 | 0.5 | 0.19 | 0.0062 | motif-PLDS | CASSPLDSPANYGYTF | TRBV18 | TRBJ1-2 | NA | LFS_TCR:55542 | 7 | lfs_fortest_nonuniqueCDR3s_cluster.csv |\n",
       "| 95 | 44 | PLDS | 0.00057 | 1 | 3 | 2e-05 | 1 | 0.034 | 0.5 | 0.19 | 0.0062 | motif-PLDS | CASSPLDSPANYGYTF | TRBV18 | TRBJ1-2 | NA | LFS_TCR:55542 | 7 | lfs_fortest_nonuniqueCDR3s_cluster.csv |\n",
       "\n"
      ],
      "text/plain": [
       "   index pattern Fisher_score number_subject number_unique_cdr3 final_score\n",
       "94 44    PLDS    0.00057      1              3                  2e-05      \n",
       "95 44    PLDS    0.00057      1              3                  2e-05      \n",
       "   hla_score vb_score expansion_score length_score cluster_size_score\n",
       "94 1         0.034    0.5             0.19         0.0062            \n",
       "95 1         0.034    0.5             0.19         0.0062            \n",
       "   type       TcRb             V      J       TcRa Sample        Freq\n",
       "94 motif-PLDS CASSPLDSPANYGYTF TRBV18 TRBJ1-2 NA   LFS_TCR:55542 7   \n",
       "95 motif-PLDS CASSPLDSPANYGYTF TRBV18 TRBJ1-2 NA   LFS_TCR:55542 7   \n",
       "   file                                  \n",
       "94 lfs_fortest_nonuniqueCDR3s_cluster.csv\n",
       "95 lfs_fortest_nonuniqueCDR3s_cluster.csv"
      ]
     },
     "metadata": {},
     "output_type": "display_data"
    }
   ],
   "source": [
    "head(lfs_fortest_lst[[1]][grepl(\"CASSPLDSPANYGYTF\", lfs_fortest_lst[[1]]$TcRb),])"
   ]
  },
  {
   "cell_type": "code",
   "execution_count": 69,
   "metadata": {
    "vscode": {
     "languageId": "r"
    }
   },
   "outputs": [
    {
     "data": {
      "text/html": [
       "<table class=\"dataframe\">\n",
       "<caption>A data.frame: 2 x 19</caption>\n",
       "<thead>\n",
       "\t<tr><th></th><th scope=col>index</th><th scope=col>pattern</th><th scope=col>Fisher_score</th><th scope=col>number_subject</th><th scope=col>number_unique_cdr3</th><th scope=col>final_score</th><th scope=col>hla_score</th><th scope=col>vb_score</th><th scope=col>expansion_score</th><th scope=col>length_score</th><th scope=col>cluster_size_score</th><th scope=col>type</th><th scope=col>TcRb</th><th scope=col>V</th><th scope=col>J</th><th scope=col>TcRa</th><th scope=col>Sample</th><th scope=col>Freq</th><th scope=col>file</th></tr>\n",
       "\t<tr><th></th><th scope=col>&lt;int&gt;</th><th scope=col>&lt;chr&gt;</th><th scope=col>&lt;dbl&gt;</th><th scope=col>&lt;int&gt;</th><th scope=col>&lt;int&gt;</th><th scope=col>&lt;dbl&gt;</th><th scope=col>&lt;dbl&gt;</th><th scope=col>&lt;dbl&gt;</th><th scope=col>&lt;dbl&gt;</th><th scope=col>&lt;dbl&gt;</th><th scope=col>&lt;dbl&gt;</th><th scope=col>&lt;chr&gt;</th><th scope=col>&lt;chr&gt;</th><th scope=col>&lt;chr&gt;</th><th scope=col>&lt;chr&gt;</th><th scope=col>&lt;lgl&gt;</th><th scope=col>&lt;chr&gt;</th><th scope=col>&lt;dbl&gt;</th><th scope=col>&lt;chr&gt;</th></tr>\n",
       "</thead>\n",
       "<tbody>\n",
       "\t<tr><th scope=row>94</th><td>44</td><td>PLDS</td><td>0.00057</td><td>4</td><td>3</td><td>2e-05</td><td>1</td><td>0.034</td><td>0.5</td><td>0.19</td><td>0.0062</td><td>motif-PLDS</td><td>CASSPLDSPANYGYTF</td><td>TRBV18</td><td>TRBJ1-2</td><td>NA</td><td>LFS_TCR-4758-PBMC-DNA:1 </td><td>7</td><td>lfs_fortest_nonuniqueCDR3s_nonuniquesubjectcondition_cluster.csv</td></tr>\n",
       "\t<tr><th scope=row>95</th><td>44</td><td>PLDS</td><td>0.00057</td><td>4</td><td>3</td><td>2e-05</td><td>1</td><td>0.034</td><td>0.5</td><td>0.19</td><td>0.0062</td><td>motif-PLDS</td><td>CASSPLDSPANYGYTF</td><td>TRBV18</td><td>TRBJ1-2</td><td>NA</td><td> LFS_TCR-4570-PBMC-DNA:1</td><td>7</td><td>lfs_fortest_nonuniqueCDR3s_nonuniquesubjectcondition_cluster.csv</td></tr>\n",
       "</tbody>\n",
       "</table>\n"
      ],
      "text/latex": [
       "A data.frame: 2 x 19\n",
       "\\begin{tabular}{r|lllllllllllllllllll}\n",
       "  & index & pattern & Fisher\\_score & number\\_subject & number\\_unique\\_cdr3 & final\\_score & hla\\_score & vb\\_score & expansion\\_score & length\\_score & cluster\\_size\\_score & type & TcRb & V & J & TcRa & Sample & Freq & file\\\\\n",
       "  & <int> & <chr> & <dbl> & <int> & <int> & <dbl> & <dbl> & <dbl> & <dbl> & <dbl> & <dbl> & <chr> & <chr> & <chr> & <chr> & <lgl> & <chr> & <dbl> & <chr>\\\\\n",
       "\\hline\n",
       "\t94 & 44 & PLDS & 0.00057 & 4 & 3 & 2e-05 & 1 & 0.034 & 0.5 & 0.19 & 0.0062 & motif-PLDS & CASSPLDSPANYGYTF & TRBV18 & TRBJ1-2 & NA & LFS\\_TCR-4758-PBMC-DNA:1  & 7 & lfs\\_fortest\\_nonuniqueCDR3s\\_nonuniquesubjectcondition\\_cluster.csv\\\\\n",
       "\t95 & 44 & PLDS & 0.00057 & 4 & 3 & 2e-05 & 1 & 0.034 & 0.5 & 0.19 & 0.0062 & motif-PLDS & CASSPLDSPANYGYTF & TRBV18 & TRBJ1-2 & NA &  LFS\\_TCR-4570-PBMC-DNA:1 & 7 & lfs\\_fortest\\_nonuniqueCDR3s\\_nonuniquesubjectcondition\\_cluster.csv\\\\\n",
       "\\end{tabular}\n"
      ],
      "text/markdown": [
       "\n",
       "A data.frame: 2 x 19\n",
       "\n",
       "| <!--/--> | index &lt;int&gt; | pattern &lt;chr&gt; | Fisher_score &lt;dbl&gt; | number_subject &lt;int&gt; | number_unique_cdr3 &lt;int&gt; | final_score &lt;dbl&gt; | hla_score &lt;dbl&gt; | vb_score &lt;dbl&gt; | expansion_score &lt;dbl&gt; | length_score &lt;dbl&gt; | cluster_size_score &lt;dbl&gt; | type &lt;chr&gt; | TcRb &lt;chr&gt; | V &lt;chr&gt; | J &lt;chr&gt; | TcRa &lt;lgl&gt; | Sample &lt;chr&gt; | Freq &lt;dbl&gt; | file &lt;chr&gt; |\n",
       "|---|---|---|---|---|---|---|---|---|---|---|---|---|---|---|---|---|---|---|---|\n",
       "| 94 | 44 | PLDS | 0.00057 | 4 | 3 | 2e-05 | 1 | 0.034 | 0.5 | 0.19 | 0.0062 | motif-PLDS | CASSPLDSPANYGYTF | TRBV18 | TRBJ1-2 | NA | LFS_TCR-4758-PBMC-DNA:1  | 7 | lfs_fortest_nonuniqueCDR3s_nonuniquesubjectcondition_cluster.csv |\n",
       "| 95 | 44 | PLDS | 0.00057 | 4 | 3 | 2e-05 | 1 | 0.034 | 0.5 | 0.19 | 0.0062 | motif-PLDS | CASSPLDSPANYGYTF | TRBV18 | TRBJ1-2 | NA |  LFS_TCR-4570-PBMC-DNA:1 | 7 | lfs_fortest_nonuniqueCDR3s_nonuniquesubjectcondition_cluster.csv |\n",
       "\n"
      ],
      "text/plain": [
       "   index pattern Fisher_score number_subject number_unique_cdr3 final_score\n",
       "94 44    PLDS    0.00057      4              3                  2e-05      \n",
       "95 44    PLDS    0.00057      4              3                  2e-05      \n",
       "   hla_score vb_score expansion_score length_score cluster_size_score\n",
       "94 1         0.034    0.5             0.19         0.0062            \n",
       "95 1         0.034    0.5             0.19         0.0062            \n",
       "   type       TcRb             V      J       TcRa Sample                  \n",
       "94 motif-PLDS CASSPLDSPANYGYTF TRBV18 TRBJ1-2 NA   LFS_TCR-4758-PBMC-DNA:1 \n",
       "95 motif-PLDS CASSPLDSPANYGYTF TRBV18 TRBJ1-2 NA    LFS_TCR-4570-PBMC-DNA:1\n",
       "   Freq file                                                            \n",
       "94 7    lfs_fortest_nonuniqueCDR3s_nonuniquesubjectcondition_cluster.csv\n",
       "95 7    lfs_fortest_nonuniqueCDR3s_nonuniquesubjectcondition_cluster.csv"
      ]
     },
     "metadata": {},
     "output_type": "display_data"
    }
   ],
   "source": [
    "head(lfs_fortest_lst[[2]][grepl(\"CASSPLDSPANYGYTF\", lfs_fortest_lst[[2]]$TcRb),])"
   ]
  },
  {
   "attachments": {},
   "cell_type": "markdown",
   "metadata": {},
   "source": [
    "If nonunique cdr3s appear in one smaple or different samples, and if they cluster with others, pattern is not single"
   ]
  },
  {
   "attachments": {},
   "cell_type": "markdown",
   "metadata": {},
   "source": [
    "if unique cdr3 nad if it does not cluster, it is ignored"
   ]
  },
  {
   "cell_type": "code",
   "execution_count": 71,
   "metadata": {
    "vscode": {
     "languageId": "r"
    }
   },
   "outputs": [
    {
     "data": {
      "text/html": [
       "<table class=\"dataframe\">\n",
       "<caption>A data.frame: 2 x 19</caption>\n",
       "<thead>\n",
       "\t<tr><th></th><th scope=col>index</th><th scope=col>pattern</th><th scope=col>Fisher_score</th><th scope=col>number_subject</th><th scope=col>number_unique_cdr3</th><th scope=col>final_score</th><th scope=col>hla_score</th><th scope=col>vb_score</th><th scope=col>expansion_score</th><th scope=col>length_score</th><th scope=col>cluster_size_score</th><th scope=col>type</th><th scope=col>TcRb</th><th scope=col>V</th><th scope=col>J</th><th scope=col>TcRa</th><th scope=col>Sample</th><th scope=col>Freq</th><th scope=col>file</th></tr>\n",
       "\t<tr><th></th><th scope=col>&lt;int&gt;</th><th scope=col>&lt;chr&gt;</th><th scope=col>&lt;dbl&gt;</th><th scope=col>&lt;int&gt;</th><th scope=col>&lt;int&gt;</th><th scope=col>&lt;dbl&gt;</th><th scope=col>&lt;dbl&gt;</th><th scope=col>&lt;dbl&gt;</th><th scope=col>&lt;dbl&gt;</th><th scope=col>&lt;dbl&gt;</th><th scope=col>&lt;dbl&gt;</th><th scope=col>&lt;chr&gt;</th><th scope=col>&lt;chr&gt;</th><th scope=col>&lt;chr&gt;</th><th scope=col>&lt;chr&gt;</th><th scope=col>&lt;lgl&gt;</th><th scope=col>&lt;chr&gt;</th><th scope=col>&lt;dbl&gt;</th><th scope=col>&lt;chr&gt;</th></tr>\n",
       "</thead>\n",
       "<tbody>\n",
       "\t<tr><th scope=row>94</th><td>44</td><td>PLDS</td><td>0.00057</td><td>1</td><td>3</td><td>4.1e-08</td><td>1</td><td>0.034</td><td>0.001</td><td>0.19</td><td>0.0062</td><td>motif-PLDS</td><td>CASSPLDSPANYGYTF</td><td>TRBV18</td><td>TRBJ1-2</td><td>NA</td><td>LFS_TCR:55542</td><td>1000</td><td>lfs_fortest_nonuniqueCDR3s_nonuniquesubjectcondition_expanded_cluster.csv</td></tr>\n",
       "\t<tr><th scope=row>95</th><td>44</td><td>PLDS</td><td>0.00057</td><td>1</td><td>3</td><td>4.1e-08</td><td>1</td><td>0.034</td><td>0.001</td><td>0.19</td><td>0.0062</td><td>motif-PLDS</td><td>CASSPLDSPANYGYTF</td><td>TRBV18</td><td>TRBJ1-2</td><td>NA</td><td>LFS_TCR:55542</td><td>   7</td><td>lfs_fortest_nonuniqueCDR3s_nonuniquesubjectcondition_expanded_cluster.csv</td></tr>\n",
       "</tbody>\n",
       "</table>\n"
      ],
      "text/latex": [
       "A data.frame: 2 x 19\n",
       "\\begin{tabular}{r|lllllllllllllllllll}\n",
       "  & index & pattern & Fisher\\_score & number\\_subject & number\\_unique\\_cdr3 & final\\_score & hla\\_score & vb\\_score & expansion\\_score & length\\_score & cluster\\_size\\_score & type & TcRb & V & J & TcRa & Sample & Freq & file\\\\\n",
       "  & <int> & <chr> & <dbl> & <int> & <int> & <dbl> & <dbl> & <dbl> & <dbl> & <dbl> & <dbl> & <chr> & <chr> & <chr> & <chr> & <lgl> & <chr> & <dbl> & <chr>\\\\\n",
       "\\hline\n",
       "\t94 & 44 & PLDS & 0.00057 & 1 & 3 & 4.1e-08 & 1 & 0.034 & 0.001 & 0.19 & 0.0062 & motif-PLDS & CASSPLDSPANYGYTF & TRBV18 & TRBJ1-2 & NA & LFS\\_TCR:55542 & 1000 & lfs\\_fortest\\_nonuniqueCDR3s\\_nonuniquesubjectcondition\\_expanded\\_cluster.csv\\\\\n",
       "\t95 & 44 & PLDS & 0.00057 & 1 & 3 & 4.1e-08 & 1 & 0.034 & 0.001 & 0.19 & 0.0062 & motif-PLDS & CASSPLDSPANYGYTF & TRBV18 & TRBJ1-2 & NA & LFS\\_TCR:55542 &    7 & lfs\\_fortest\\_nonuniqueCDR3s\\_nonuniquesubjectcondition\\_expanded\\_cluster.csv\\\\\n",
       "\\end{tabular}\n"
      ],
      "text/markdown": [
       "\n",
       "A data.frame: 2 x 19\n",
       "\n",
       "| <!--/--> | index &lt;int&gt; | pattern &lt;chr&gt; | Fisher_score &lt;dbl&gt; | number_subject &lt;int&gt; | number_unique_cdr3 &lt;int&gt; | final_score &lt;dbl&gt; | hla_score &lt;dbl&gt; | vb_score &lt;dbl&gt; | expansion_score &lt;dbl&gt; | length_score &lt;dbl&gt; | cluster_size_score &lt;dbl&gt; | type &lt;chr&gt; | TcRb &lt;chr&gt; | V &lt;chr&gt; | J &lt;chr&gt; | TcRa &lt;lgl&gt; | Sample &lt;chr&gt; | Freq &lt;dbl&gt; | file &lt;chr&gt; |\n",
       "|---|---|---|---|---|---|---|---|---|---|---|---|---|---|---|---|---|---|---|---|\n",
       "| 94 | 44 | PLDS | 0.00057 | 1 | 3 | 4.1e-08 | 1 | 0.034 | 0.001 | 0.19 | 0.0062 | motif-PLDS | CASSPLDSPANYGYTF | TRBV18 | TRBJ1-2 | NA | LFS_TCR:55542 | 1000 | lfs_fortest_nonuniqueCDR3s_nonuniquesubjectcondition_expanded_cluster.csv |\n",
       "| 95 | 44 | PLDS | 0.00057 | 1 | 3 | 4.1e-08 | 1 | 0.034 | 0.001 | 0.19 | 0.0062 | motif-PLDS | CASSPLDSPANYGYTF | TRBV18 | TRBJ1-2 | NA | LFS_TCR:55542 |    7 | lfs_fortest_nonuniqueCDR3s_nonuniquesubjectcondition_expanded_cluster.csv |\n",
       "\n"
      ],
      "text/plain": [
       "   index pattern Fisher_score number_subject number_unique_cdr3 final_score\n",
       "94 44    PLDS    0.00057      1              3                  4.1e-08    \n",
       "95 44    PLDS    0.00057      1              3                  4.1e-08    \n",
       "   hla_score vb_score expansion_score length_score cluster_size_score\n",
       "94 1         0.034    0.001           0.19         0.0062            \n",
       "95 1         0.034    0.001           0.19         0.0062            \n",
       "   type       TcRb             V      J       TcRa Sample        Freq\n",
       "94 motif-PLDS CASSPLDSPANYGYTF TRBV18 TRBJ1-2 NA   LFS_TCR:55542 1000\n",
       "95 motif-PLDS CASSPLDSPANYGYTF TRBV18 TRBJ1-2 NA   LFS_TCR:55542    7\n",
       "   file                                                                     \n",
       "94 lfs_fortest_nonuniqueCDR3s_nonuniquesubjectcondition_expanded_cluster.csv\n",
       "95 lfs_fortest_nonuniqueCDR3s_nonuniquesubjectcondition_expanded_cluster.csv"
      ]
     },
     "metadata": {},
     "output_type": "display_data"
    }
   ],
   "source": [
    "head(lfs_fortest_lst[[4]][grepl(\"CASSPLDSPANYGYTF\", lfs_fortest_lst[[4]]$TcRb),])"
   ]
  },
  {
   "attachments": {},
   "cell_type": "markdown",
   "metadata": {},
   "source": [
    "expansion score is probability, the lower value indicates higher chance of expansion for that cluster. \"GLIPH1 calculates the expansion coefficient e as the average frequency of a candidate cluster. GLIPH1 random choose n (the size of the candidate cluster) CDR3s from the sample set and calculates the average frequency of the random data. The process repeats pre-set parameter N times to establish a distribution. The probability of the observed e for a candidate cluster is obtained as the one-tailed probability of observing a score at least that high in the e score distribution from randomly sampled clusters of the same size n.\""
   ]
  },
  {
   "cell_type": "code",
   "execution_count": 111,
   "metadata": {
    "vscode": {
     "languageId": "r"
    }
   },
   "outputs": [
    {
     "data": {
      "text/html": [
       "<table class=\"dataframe\">\n",
       "<caption>A data.frame: 3 x 19</caption>\n",
       "<thead>\n",
       "\t<tr><th></th><th scope=col>index</th><th scope=col>pattern</th><th scope=col>Fisher_score</th><th scope=col>number_subject</th><th scope=col>number_unique_cdr3</th><th scope=col>final_score</th><th scope=col>hla_score</th><th scope=col>vb_score</th><th scope=col>expansion_score</th><th scope=col>length_score</th><th scope=col>cluster_size_score</th><th scope=col>type</th><th scope=col>TcRb</th><th scope=col>V</th><th scope=col>J</th><th scope=col>TcRa</th><th scope=col>Sample</th><th scope=col>Freq</th><th scope=col>file</th></tr>\n",
       "\t<tr><th></th><th scope=col>&lt;int&gt;</th><th scope=col>&lt;chr&gt;</th><th scope=col>&lt;dbl&gt;</th><th scope=col>&lt;int&gt;</th><th scope=col>&lt;int&gt;</th><th scope=col>&lt;dbl&gt;</th><th scope=col>&lt;dbl&gt;</th><th scope=col>&lt;dbl&gt;</th><th scope=col>&lt;dbl&gt;</th><th scope=col>&lt;dbl&gt;</th><th scope=col>&lt;dbl&gt;</th><th scope=col>&lt;chr&gt;</th><th scope=col>&lt;chr&gt;</th><th scope=col>&lt;chr&gt;</th><th scope=col>&lt;chr&gt;</th><th scope=col>&lt;lgl&gt;</th><th scope=col>&lt;chr&gt;</th><th scope=col>&lt;dbl&gt;</th><th scope=col>&lt;chr&gt;</th></tr>\n",
       "</thead>\n",
       "<tbody>\n",
       "\t<tr><th scope=row>92</th><td>44</td><td>PLDS</td><td>0.00057</td><td>1</td><td>3</td><td>0.00024</td><td>1</td><td>0.18</td><td>0.46</td><td>0.47</td><td>0.0062</td><td>motif-PLDS</td><td>CASRPLDSVHRPQHF </td><td>TRBV6-1 </td><td>TRBJ1-5</td><td>NA</td><td>LFS_TCR:54896</td><td>7</td><td>lfs_fortest_nonuniqueCDR3s_cluster.csv</td></tr>\n",
       "\t<tr><th scope=row>93</th><td>44</td><td>PLDS</td><td>0.00057</td><td>1</td><td>3</td><td>0.00024</td><td>1</td><td>0.18</td><td>0.46</td><td>0.47</td><td>0.0062</td><td>motif-PLDS</td><td>CAIRPLDSYEQYF   </td><td>TRBV10-3</td><td>TRBJ2-7</td><td>NA</td><td>LFS_TCR:54738</td><td>5</td><td>lfs_fortest_nonuniqueCDR3s_cluster.csv</td></tr>\n",
       "\t<tr><th scope=row>94</th><td>44</td><td>PLDS</td><td>0.00057</td><td>1</td><td>3</td><td>0.00024</td><td>1</td><td>0.18</td><td>0.46</td><td>0.47</td><td>0.0062</td><td>motif-PLDS</td><td>CASSPLDSPANYGYTF</td><td>TRBV18  </td><td>TRBJ1-2</td><td>NA</td><td>LFS_TCR:55542</td><td>7</td><td>lfs_fortest_nonuniqueCDR3s_cluster.csv</td></tr>\n",
       "</tbody>\n",
       "</table>\n"
      ],
      "text/latex": [
       "A data.frame: 3 x 19\n",
       "\\begin{tabular}{r|lllllllllllllllllll}\n",
       "  & index & pattern & Fisher\\_score & number\\_subject & number\\_unique\\_cdr3 & final\\_score & hla\\_score & vb\\_score & expansion\\_score & length\\_score & cluster\\_size\\_score & type & TcRb & V & J & TcRa & Sample & Freq & file\\\\\n",
       "  & <int> & <chr> & <dbl> & <int> & <int> & <dbl> & <dbl> & <dbl> & <dbl> & <dbl> & <dbl> & <chr> & <chr> & <chr> & <chr> & <lgl> & <chr> & <dbl> & <chr>\\\\\n",
       "\\hline\n",
       "\t92 & 44 & PLDS & 0.00057 & 1 & 3 & 0.00024 & 1 & 0.18 & 0.46 & 0.47 & 0.0062 & motif-PLDS & CASRPLDSVHRPQHF  & TRBV6-1  & TRBJ1-5 & NA & LFS\\_TCR:54896 & 7 & lfs\\_fortest\\_nonuniqueCDR3s\\_cluster.csv\\\\\n",
       "\t93 & 44 & PLDS & 0.00057 & 1 & 3 & 0.00024 & 1 & 0.18 & 0.46 & 0.47 & 0.0062 & motif-PLDS & CAIRPLDSYEQYF    & TRBV10-3 & TRBJ2-7 & NA & LFS\\_TCR:54738 & 5 & lfs\\_fortest\\_nonuniqueCDR3s\\_cluster.csv\\\\\n",
       "\t94 & 44 & PLDS & 0.00057 & 1 & 3 & 0.00024 & 1 & 0.18 & 0.46 & 0.47 & 0.0062 & motif-PLDS & CASSPLDSPANYGYTF & TRBV18   & TRBJ1-2 & NA & LFS\\_TCR:55542 & 7 & lfs\\_fortest\\_nonuniqueCDR3s\\_cluster.csv\\\\\n",
       "\\end{tabular}\n"
      ],
      "text/markdown": [
       "\n",
       "A data.frame: 3 x 19\n",
       "\n",
       "| <!--/--> | index &lt;int&gt; | pattern &lt;chr&gt; | Fisher_score &lt;dbl&gt; | number_subject &lt;int&gt; | number_unique_cdr3 &lt;int&gt; | final_score &lt;dbl&gt; | hla_score &lt;dbl&gt; | vb_score &lt;dbl&gt; | expansion_score &lt;dbl&gt; | length_score &lt;dbl&gt; | cluster_size_score &lt;dbl&gt; | type &lt;chr&gt; | TcRb &lt;chr&gt; | V &lt;chr&gt; | J &lt;chr&gt; | TcRa &lt;lgl&gt; | Sample &lt;chr&gt; | Freq &lt;dbl&gt; | file &lt;chr&gt; |\n",
       "|---|---|---|---|---|---|---|---|---|---|---|---|---|---|---|---|---|---|---|---|\n",
       "| 92 | 44 | PLDS | 0.00057 | 1 | 3 | 0.00024 | 1 | 0.18 | 0.46 | 0.47 | 0.0062 | motif-PLDS | CASRPLDSVHRPQHF  | TRBV6-1  | TRBJ1-5 | NA | LFS_TCR:54896 | 7 | lfs_fortest_nonuniqueCDR3s_cluster.csv |\n",
       "| 93 | 44 | PLDS | 0.00057 | 1 | 3 | 0.00024 | 1 | 0.18 | 0.46 | 0.47 | 0.0062 | motif-PLDS | CAIRPLDSYEQYF    | TRBV10-3 | TRBJ2-7 | NA | LFS_TCR:54738 | 5 | lfs_fortest_nonuniqueCDR3s_cluster.csv |\n",
       "| 94 | 44 | PLDS | 0.00057 | 1 | 3 | 0.00024 | 1 | 0.18 | 0.46 | 0.47 | 0.0062 | motif-PLDS | CASSPLDSPANYGYTF | TRBV18   | TRBJ1-2 | NA | LFS_TCR:55542 | 7 | lfs_fortest_nonuniqueCDR3s_cluster.csv |\n",
       "\n"
      ],
      "text/plain": [
       "   index pattern Fisher_score number_subject number_unique_cdr3 final_score\n",
       "92 44    PLDS    0.00057      1              3                  0.00024    \n",
       "93 44    PLDS    0.00057      1              3                  0.00024    \n",
       "94 44    PLDS    0.00057      1              3                  0.00024    \n",
       "   hla_score vb_score expansion_score length_score cluster_size_score\n",
       "92 1         0.18     0.46            0.47         0.0062            \n",
       "93 1         0.18     0.46            0.47         0.0062            \n",
       "94 1         0.18     0.46            0.47         0.0062            \n",
       "   type       TcRb             V        J       TcRa Sample        Freq\n",
       "92 motif-PLDS CASRPLDSVHRPQHF  TRBV6-1  TRBJ1-5 NA   LFS_TCR:54896 7   \n",
       "93 motif-PLDS CAIRPLDSYEQYF    TRBV10-3 TRBJ2-7 NA   LFS_TCR:54738 5   \n",
       "94 motif-PLDS CASSPLDSPANYGYTF TRBV18   TRBJ1-2 NA   LFS_TCR:55542 7   \n",
       "   file                                  \n",
       "92 lfs_fortest_nonuniqueCDR3s_cluster.csv\n",
       "93 lfs_fortest_nonuniqueCDR3s_cluster.csv\n",
       "94 lfs_fortest_nonuniqueCDR3s_cluster.csv"
      ]
     },
     "metadata": {},
     "output_type": "display_data"
    }
   ],
   "source": [
    "head(lfs_fortest_lst[[1]][grepl(\"PLDS\", lfs_fortest_lst[[1]]$pattern),])"
   ]
  },
  {
   "cell_type": "code",
   "execution_count": 112,
   "metadata": {
    "vscode": {
     "languageId": "r"
    }
   },
   "outputs": [
    {
     "data": {
      "text/html": [
       "<table class=\"dataframe\">\n",
       "<caption>A data.frame: 3 x 19</caption>\n",
       "<thead>\n",
       "\t<tr><th></th><th scope=col>index</th><th scope=col>pattern</th><th scope=col>Fisher_score</th><th scope=col>number_subject</th><th scope=col>number_unique_cdr3</th><th scope=col>final_score</th><th scope=col>hla_score</th><th scope=col>vb_score</th><th scope=col>expansion_score</th><th scope=col>length_score</th><th scope=col>cluster_size_score</th><th scope=col>type</th><th scope=col>TcRb</th><th scope=col>V</th><th scope=col>J</th><th scope=col>TcRa</th><th scope=col>Sample</th><th scope=col>Freq</th><th scope=col>file</th></tr>\n",
       "\t<tr><th></th><th scope=col>&lt;int&gt;</th><th scope=col>&lt;chr&gt;</th><th scope=col>&lt;dbl&gt;</th><th scope=col>&lt;int&gt;</th><th scope=col>&lt;int&gt;</th><th scope=col>&lt;dbl&gt;</th><th scope=col>&lt;dbl&gt;</th><th scope=col>&lt;dbl&gt;</th><th scope=col>&lt;dbl&gt;</th><th scope=col>&lt;dbl&gt;</th><th scope=col>&lt;dbl&gt;</th><th scope=col>&lt;chr&gt;</th><th scope=col>&lt;chr&gt;</th><th scope=col>&lt;chr&gt;</th><th scope=col>&lt;chr&gt;</th><th scope=col>&lt;lgl&gt;</th><th scope=col>&lt;chr&gt;</th><th scope=col>&lt;dbl&gt;</th><th scope=col>&lt;chr&gt;</th></tr>\n",
       "</thead>\n",
       "<tbody>\n",
       "\t<tr><th scope=row>92</th><td>44</td><td>PLDS</td><td>0.00057</td><td>1</td><td>3</td><td>0.00021</td><td>1</td><td>0.16</td><td>0.47</td><td>0.46</td><td>0.0062</td><td>motif-PLDS</td><td>CASRPLDSVHRPQHF </td><td>TRBV6-1 </td><td>TRBJ1-5</td><td>NA</td><td>LFS_TCR:54896</td><td>7</td><td>lfs_fortest_uniqueCDR3s_cluster.csv</td></tr>\n",
       "\t<tr><th scope=row>93</th><td>44</td><td>PLDS</td><td>0.00057</td><td>1</td><td>3</td><td>0.00021</td><td>1</td><td>0.16</td><td>0.47</td><td>0.46</td><td>0.0062</td><td>motif-PLDS</td><td>CAIRPLDSYEQYF   </td><td>TRBV10-3</td><td>TRBJ2-7</td><td>NA</td><td>LFS_TCR:54738</td><td>5</td><td>lfs_fortest_uniqueCDR3s_cluster.csv</td></tr>\n",
       "\t<tr><th scope=row>94</th><td>44</td><td>PLDS</td><td>0.00057</td><td>1</td><td>3</td><td>0.00021</td><td>1</td><td>0.16</td><td>0.47</td><td>0.46</td><td>0.0062</td><td>motif-PLDS</td><td>CASSPLDSPANYGYTF</td><td>TRBV18  </td><td>TRBJ1-2</td><td>NA</td><td>LFS_TCR:55542</td><td>7</td><td>lfs_fortest_uniqueCDR3s_cluster.csv</td></tr>\n",
       "</tbody>\n",
       "</table>\n"
      ],
      "text/latex": [
       "A data.frame: 3 x 19\n",
       "\\begin{tabular}{r|lllllllllllllllllll}\n",
       "  & index & pattern & Fisher\\_score & number\\_subject & number\\_unique\\_cdr3 & final\\_score & hla\\_score & vb\\_score & expansion\\_score & length\\_score & cluster\\_size\\_score & type & TcRb & V & J & TcRa & Sample & Freq & file\\\\\n",
       "  & <int> & <chr> & <dbl> & <int> & <int> & <dbl> & <dbl> & <dbl> & <dbl> & <dbl> & <dbl> & <chr> & <chr> & <chr> & <chr> & <lgl> & <chr> & <dbl> & <chr>\\\\\n",
       "\\hline\n",
       "\t92 & 44 & PLDS & 0.00057 & 1 & 3 & 0.00021 & 1 & 0.16 & 0.47 & 0.46 & 0.0062 & motif-PLDS & CASRPLDSVHRPQHF  & TRBV6-1  & TRBJ1-5 & NA & LFS\\_TCR:54896 & 7 & lfs\\_fortest\\_uniqueCDR3s\\_cluster.csv\\\\\n",
       "\t93 & 44 & PLDS & 0.00057 & 1 & 3 & 0.00021 & 1 & 0.16 & 0.47 & 0.46 & 0.0062 & motif-PLDS & CAIRPLDSYEQYF    & TRBV10-3 & TRBJ2-7 & NA & LFS\\_TCR:54738 & 5 & lfs\\_fortest\\_uniqueCDR3s\\_cluster.csv\\\\\n",
       "\t94 & 44 & PLDS & 0.00057 & 1 & 3 & 0.00021 & 1 & 0.16 & 0.47 & 0.46 & 0.0062 & motif-PLDS & CASSPLDSPANYGYTF & TRBV18   & TRBJ1-2 & NA & LFS\\_TCR:55542 & 7 & lfs\\_fortest\\_uniqueCDR3s\\_cluster.csv\\\\\n",
       "\\end{tabular}\n"
      ],
      "text/markdown": [
       "\n",
       "A data.frame: 3 x 19\n",
       "\n",
       "| <!--/--> | index &lt;int&gt; | pattern &lt;chr&gt; | Fisher_score &lt;dbl&gt; | number_subject &lt;int&gt; | number_unique_cdr3 &lt;int&gt; | final_score &lt;dbl&gt; | hla_score &lt;dbl&gt; | vb_score &lt;dbl&gt; | expansion_score &lt;dbl&gt; | length_score &lt;dbl&gt; | cluster_size_score &lt;dbl&gt; | type &lt;chr&gt; | TcRb &lt;chr&gt; | V &lt;chr&gt; | J &lt;chr&gt; | TcRa &lt;lgl&gt; | Sample &lt;chr&gt; | Freq &lt;dbl&gt; | file &lt;chr&gt; |\n",
       "|---|---|---|---|---|---|---|---|---|---|---|---|---|---|---|---|---|---|---|---|\n",
       "| 92 | 44 | PLDS | 0.00057 | 1 | 3 | 0.00021 | 1 | 0.16 | 0.47 | 0.46 | 0.0062 | motif-PLDS | CASRPLDSVHRPQHF  | TRBV6-1  | TRBJ1-5 | NA | LFS_TCR:54896 | 7 | lfs_fortest_uniqueCDR3s_cluster.csv |\n",
       "| 93 | 44 | PLDS | 0.00057 | 1 | 3 | 0.00021 | 1 | 0.16 | 0.47 | 0.46 | 0.0062 | motif-PLDS | CAIRPLDSYEQYF    | TRBV10-3 | TRBJ2-7 | NA | LFS_TCR:54738 | 5 | lfs_fortest_uniqueCDR3s_cluster.csv |\n",
       "| 94 | 44 | PLDS | 0.00057 | 1 | 3 | 0.00021 | 1 | 0.16 | 0.47 | 0.46 | 0.0062 | motif-PLDS | CASSPLDSPANYGYTF | TRBV18   | TRBJ1-2 | NA | LFS_TCR:55542 | 7 | lfs_fortest_uniqueCDR3s_cluster.csv |\n",
       "\n"
      ],
      "text/plain": [
       "   index pattern Fisher_score number_subject number_unique_cdr3 final_score\n",
       "92 44    PLDS    0.00057      1              3                  0.00021    \n",
       "93 44    PLDS    0.00057      1              3                  0.00021    \n",
       "94 44    PLDS    0.00057      1              3                  0.00021    \n",
       "   hla_score vb_score expansion_score length_score cluster_size_score\n",
       "92 1         0.16     0.47            0.46         0.0062            \n",
       "93 1         0.16     0.47            0.46         0.0062            \n",
       "94 1         0.16     0.47            0.46         0.0062            \n",
       "   type       TcRb             V        J       TcRa Sample        Freq\n",
       "92 motif-PLDS CASRPLDSVHRPQHF  TRBV6-1  TRBJ1-5 NA   LFS_TCR:54896 7   \n",
       "93 motif-PLDS CAIRPLDSYEQYF    TRBV10-3 TRBJ2-7 NA   LFS_TCR:54738 5   \n",
       "94 motif-PLDS CASSPLDSPANYGYTF TRBV18   TRBJ1-2 NA   LFS_TCR:55542 7   \n",
       "   file                               \n",
       "92 lfs_fortest_uniqueCDR3s_cluster.csv\n",
       "93 lfs_fortest_uniqueCDR3s_cluster.csv\n",
       "94 lfs_fortest_uniqueCDR3s_cluster.csv"
      ]
     },
     "metadata": {},
     "output_type": "display_data"
    }
   ],
   "source": [
    "head(lfs_fortest_lst[[4]][grepl(\"PLDS\", lfs_fortest_lst[[4]]$pattern),])"
   ]
  },
  {
   "cell_type": "code",
   "execution_count": 114,
   "metadata": {
    "vscode": {
     "languageId": "r"
    }
   },
   "outputs": [
    {
     "data": {
      "text/html": [
       "<table class=\"dataframe\">\n",
       "<caption>A data.frame: 4 x 19</caption>\n",
       "<thead>\n",
       "\t<tr><th></th><th scope=col>index</th><th scope=col>pattern</th><th scope=col>Fisher_score</th><th scope=col>number_subject</th><th scope=col>number_unique_cdr3</th><th scope=col>final_score</th><th scope=col>hla_score</th><th scope=col>vb_score</th><th scope=col>expansion_score</th><th scope=col>length_score</th><th scope=col>cluster_size_score</th><th scope=col>type</th><th scope=col>TcRb</th><th scope=col>V</th><th scope=col>J</th><th scope=col>TcRa</th><th scope=col>Sample</th><th scope=col>Freq</th><th scope=col>file</th></tr>\n",
       "\t<tr><th></th><th scope=col>&lt;int&gt;</th><th scope=col>&lt;chr&gt;</th><th scope=col>&lt;dbl&gt;</th><th scope=col>&lt;int&gt;</th><th scope=col>&lt;int&gt;</th><th scope=col>&lt;dbl&gt;</th><th scope=col>&lt;dbl&gt;</th><th scope=col>&lt;dbl&gt;</th><th scope=col>&lt;dbl&gt;</th><th scope=col>&lt;dbl&gt;</th><th scope=col>&lt;dbl&gt;</th><th scope=col>&lt;chr&gt;</th><th scope=col>&lt;chr&gt;</th><th scope=col>&lt;chr&gt;</th><th scope=col>&lt;chr&gt;</th><th scope=col>&lt;lgl&gt;</th><th scope=col>&lt;chr&gt;</th><th scope=col>&lt;dbl&gt;</th><th scope=col>&lt;chr&gt;</th></tr>\n",
       "</thead>\n",
       "<tbody>\n",
       "\t<tr><th scope=row>138</th><td> 924</td><td>single</td><td>1</td><td>1</td><td>1</td><td>1.3e-08</td><td>1</td><td>0.001</td><td>0.014</td><td>0.001</td><td>0.95</td><td>global-SPRDTDNEK</td><td>CASSPRDTDNEKLFF</td><td>TRBV18  </td><td>TRBJ1-4</td><td>NA</td><td>LFS_TCR:55582</td><td>45</td><td>lfs_fortest_nonuniqueCDR3s_cluster.csv</td></tr>\n",
       "\t<tr><th scope=row>139</th><td> 924</td><td>single</td><td>1</td><td>1</td><td>1</td><td>1.3e-08</td><td>1</td><td>0.001</td><td>0.014</td><td>0.001</td><td>0.95</td><td>global-SPRDTDNEK</td><td>CASSPRDTDNEKLFF</td><td>TRBV18  </td><td>TRBJ1-4</td><td>NA</td><td>LFS_TCR:55582</td><td>45</td><td>lfs_fortest_nonuniqueCDR3s_cluster.csv</td></tr>\n",
       "\t<tr><th scope=row>140</th><td>1206</td><td>single</td><td>1</td><td>1</td><td>1</td><td>5.5e-07</td><td>1</td><td>0.001</td><td>0.580</td><td>0.001</td><td>0.95</td><td>global-SARRGDSEK</td><td>CATSARRGDSEKLFF</td><td>TRBV24-1</td><td>TRBJ1-4</td><td>NA</td><td>LFS_TCR:56059</td><td> 5</td><td>lfs_fortest_nonuniqueCDR3s_cluster.csv</td></tr>\n",
       "\t<tr><th scope=row>141</th><td>1206</td><td>single</td><td>1</td><td>1</td><td>1</td><td>5.5e-07</td><td>1</td><td>0.001</td><td>0.580</td><td>0.001</td><td>0.95</td><td>global-SARRGDSEK</td><td>CATSARRGDSEKLFF</td><td>TRBV24-1</td><td>TRBJ1-4</td><td>NA</td><td>LFS_TCR:56059</td><td> 5</td><td>lfs_fortest_nonuniqueCDR3s_cluster.csv</td></tr>\n",
       "</tbody>\n",
       "</table>\n"
      ],
      "text/latex": [
       "A data.frame: 4 x 19\n",
       "\\begin{tabular}{r|lllllllllllllllllll}\n",
       "  & index & pattern & Fisher\\_score & number\\_subject & number\\_unique\\_cdr3 & final\\_score & hla\\_score & vb\\_score & expansion\\_score & length\\_score & cluster\\_size\\_score & type & TcRb & V & J & TcRa & Sample & Freq & file\\\\\n",
       "  & <int> & <chr> & <dbl> & <int> & <int> & <dbl> & <dbl> & <dbl> & <dbl> & <dbl> & <dbl> & <chr> & <chr> & <chr> & <chr> & <lgl> & <chr> & <dbl> & <chr>\\\\\n",
       "\\hline\n",
       "\t138 &  924 & single & 1 & 1 & 1 & 1.3e-08 & 1 & 0.001 & 0.014 & 0.001 & 0.95 & global-SPRDTDNEK & CASSPRDTDNEKLFF & TRBV18   & TRBJ1-4 & NA & LFS\\_TCR:55582 & 45 & lfs\\_fortest\\_nonuniqueCDR3s\\_cluster.csv\\\\\n",
       "\t139 &  924 & single & 1 & 1 & 1 & 1.3e-08 & 1 & 0.001 & 0.014 & 0.001 & 0.95 & global-SPRDTDNEK & CASSPRDTDNEKLFF & TRBV18   & TRBJ1-4 & NA & LFS\\_TCR:55582 & 45 & lfs\\_fortest\\_nonuniqueCDR3s\\_cluster.csv\\\\\n",
       "\t140 & 1206 & single & 1 & 1 & 1 & 5.5e-07 & 1 & 0.001 & 0.580 & 0.001 & 0.95 & global-SARRGDSEK & CATSARRGDSEKLFF & TRBV24-1 & TRBJ1-4 & NA & LFS\\_TCR:56059 &  5 & lfs\\_fortest\\_nonuniqueCDR3s\\_cluster.csv\\\\\n",
       "\t141 & 1206 & single & 1 & 1 & 1 & 5.5e-07 & 1 & 0.001 & 0.580 & 0.001 & 0.95 & global-SARRGDSEK & CATSARRGDSEKLFF & TRBV24-1 & TRBJ1-4 & NA & LFS\\_TCR:56059 &  5 & lfs\\_fortest\\_nonuniqueCDR3s\\_cluster.csv\\\\\n",
       "\\end{tabular}\n"
      ],
      "text/markdown": [
       "\n",
       "A data.frame: 4 x 19\n",
       "\n",
       "| <!--/--> | index &lt;int&gt; | pattern &lt;chr&gt; | Fisher_score &lt;dbl&gt; | number_subject &lt;int&gt; | number_unique_cdr3 &lt;int&gt; | final_score &lt;dbl&gt; | hla_score &lt;dbl&gt; | vb_score &lt;dbl&gt; | expansion_score &lt;dbl&gt; | length_score &lt;dbl&gt; | cluster_size_score &lt;dbl&gt; | type &lt;chr&gt; | TcRb &lt;chr&gt; | V &lt;chr&gt; | J &lt;chr&gt; | TcRa &lt;lgl&gt; | Sample &lt;chr&gt; | Freq &lt;dbl&gt; | file &lt;chr&gt; |\n",
       "|---|---|---|---|---|---|---|---|---|---|---|---|---|---|---|---|---|---|---|---|\n",
       "| 138 |  924 | single | 1 | 1 | 1 | 1.3e-08 | 1 | 0.001 | 0.014 | 0.001 | 0.95 | global-SPRDTDNEK | CASSPRDTDNEKLFF | TRBV18   | TRBJ1-4 | NA | LFS_TCR:55582 | 45 | lfs_fortest_nonuniqueCDR3s_cluster.csv |\n",
       "| 139 |  924 | single | 1 | 1 | 1 | 1.3e-08 | 1 | 0.001 | 0.014 | 0.001 | 0.95 | global-SPRDTDNEK | CASSPRDTDNEKLFF | TRBV18   | TRBJ1-4 | NA | LFS_TCR:55582 | 45 | lfs_fortest_nonuniqueCDR3s_cluster.csv |\n",
       "| 140 | 1206 | single | 1 | 1 | 1 | 5.5e-07 | 1 | 0.001 | 0.580 | 0.001 | 0.95 | global-SARRGDSEK | CATSARRGDSEKLFF | TRBV24-1 | TRBJ1-4 | NA | LFS_TCR:56059 |  5 | lfs_fortest_nonuniqueCDR3s_cluster.csv |\n",
       "| 141 | 1206 | single | 1 | 1 | 1 | 5.5e-07 | 1 | 0.001 | 0.580 | 0.001 | 0.95 | global-SARRGDSEK | CATSARRGDSEKLFF | TRBV24-1 | TRBJ1-4 | NA | LFS_TCR:56059 |  5 | lfs_fortest_nonuniqueCDR3s_cluster.csv |\n",
       "\n"
      ],
      "text/plain": [
       "    index pattern Fisher_score number_subject number_unique_cdr3 final_score\n",
       "138  924  single  1            1              1                  1.3e-08    \n",
       "139  924  single  1            1              1                  1.3e-08    \n",
       "140 1206  single  1            1              1                  5.5e-07    \n",
       "141 1206  single  1            1              1                  5.5e-07    \n",
       "    hla_score vb_score expansion_score length_score cluster_size_score\n",
       "138 1         0.001    0.014           0.001        0.95              \n",
       "139 1         0.001    0.014           0.001        0.95              \n",
       "140 1         0.001    0.580           0.001        0.95              \n",
       "141 1         0.001    0.580           0.001        0.95              \n",
       "    type             TcRb            V        J       TcRa Sample        Freq\n",
       "138 global-SPRDTDNEK CASSPRDTDNEKLFF TRBV18   TRBJ1-4 NA   LFS_TCR:55582 45  \n",
       "139 global-SPRDTDNEK CASSPRDTDNEKLFF TRBV18   TRBJ1-4 NA   LFS_TCR:55582 45  \n",
       "140 global-SARRGDSEK CATSARRGDSEKLFF TRBV24-1 TRBJ1-4 NA   LFS_TCR:56059  5  \n",
       "141 global-SARRGDSEK CATSARRGDSEKLFF TRBV24-1 TRBJ1-4 NA   LFS_TCR:56059  5  \n",
       "    file                                  \n",
       "138 lfs_fortest_nonuniqueCDR3s_cluster.csv\n",
       "139 lfs_fortest_nonuniqueCDR3s_cluster.csv\n",
       "140 lfs_fortest_nonuniqueCDR3s_cluster.csv\n",
       "141 lfs_fortest_nonuniqueCDR3s_cluster.csv"
      ]
     },
     "metadata": {},
     "output_type": "display_data"
    }
   ],
   "source": []
  },
  {
   "cell_type": "code",
   "execution_count": null,
   "metadata": {
    "vscode": {
     "languageId": "r"
    }
   },
   "outputs": [],
   "source": []
  }
 ],
 "metadata": {
  "kernelspec": {
   "display_name": "R 4.0",
   "language": "R",
   "name": "ir40"
  },
  "language_info": {
   "codemirror_mode": "r",
   "file_extension": ".r",
   "mimetype": "text/x-r-source",
   "name": "R",
   "pygments_lexer": "r",
   "version": "4.2.2"
  },
  "toc": {
   "base_numbering": 1,
   "nav_menu": {},
   "number_sections": false,
   "sideBar": true,
   "skip_h1_title": false,
   "title_cell": "Table of Contents",
   "title_sidebar": "Contents",
   "toc_cell": true,
   "toc_position": {
    "height": "calc(100% - 180px)",
    "left": "10px",
    "top": "150px",
    "width": "186.15px"
   },
   "toc_section_display": true,
   "toc_window_display": true
  }
 },
 "nbformat": 4,
 "nbformat_minor": 2
}

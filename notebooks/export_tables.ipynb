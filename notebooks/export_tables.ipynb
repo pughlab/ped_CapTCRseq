{
 "cells": [
  {
   "cell_type": "code",
   "execution_count": 1,
   "metadata": {
    "vscode": {
     "languageId": "r"
    }
   },
   "outputs": [
    {
     "data": {
      "text/html": [
       "'en_US.UTF-8/en_US.UTF-8/en_US.UTF-8/C/en_US.UTF-8/C'"
      ],
      "text/latex": [
       "'en\\_US.UTF-8/en\\_US.UTF-8/en\\_US.UTF-8/C/en\\_US.UTF-8/C'"
      ],
      "text/markdown": [
       "'en_US.UTF-8/en_US.UTF-8/en_US.UTF-8/C/en_US.UTF-8/C'"
      ],
      "text/plain": [
       "[1] \"en_US.UTF-8/en_US.UTF-8/en_US.UTF-8/C/en_US.UTF-8/C\""
      ]
     },
     "metadata": {},
     "output_type": "display_data"
    }
   ],
   "source": [
    "Sys.setlocale(category = \"LC_ALL\", locale = \"en_US.UTF-8\")"
   ]
  },
  {
   "attachments": {},
   "cell_type": "markdown",
   "metadata": {},
   "source": [
    "# Dependencies"
   ]
  },
  {
   "attachments": {},
   "cell_type": "markdown",
   "metadata": {},
   "source": [
    "# Functions"
   ]
  },
  {
   "cell_type": "code",
   "execution_count": null,
   "metadata": {
    "vscode": {
     "languageId": "r"
    }
   },
   "outputs": [],
   "source": [
    "source(\"/Users/anabbi/git/ped_CapTCRseq/R/Misc_functions.R\")"
   ]
  },
  {
   "attachments": {},
   "cell_type": "markdown",
   "metadata": {},
   "source": [
    "# Paths"
   ]
  },
  {
   "cell_type": "code",
   "execution_count": 2,
   "metadata": {
    "vscode": {
     "languageId": "r"
    }
   },
   "outputs": [],
   "source": [
    "datapath <- \"/Users/anabbi/OneDrive - UHN/Documents/INTERCEPT/Data/\"\n",
    "plotpath <- \"/Users/anabbi/OneDrive - UHN/Documents/INTERCEPT/Plots/\"\n",
    "manifestpath <- \"/Users/anabbi/OneDrive - UHN/Documents/INTERCEPT/Manifests/\"\n",
    "\n",
    "gitpath <- \"/Users/anabbi/git/ped_CapTCRseq/\""
   ]
  },
  {
   "attachments": {},
   "cell_type": "markdown",
   "metadata": {},
   "source": [
    "# Main"
   ]
  },
  {
   "cell_type": "markdown",
   "metadata": {},
   "source": [
    "S1"
   ]
  },
  {
   "cell_type": "code",
   "execution_count": 101,
   "metadata": {
    "vscode": {
     "languageId": "r"
    }
   },
   "outputs": [],
   "source": [
    "meta_div <- readr::read_rds(file = paste0(datapath,\"capTCRseq/meta_div_goodsamples.rds\"))"
   ]
  },
  {
   "cell_type": "code",
   "execution_count": null,
   "metadata": {
    "vscode": {
     "languageId": "r"
    }
   },
   "outputs": [],
   "source": [
    "xlsx::write.xlsx(myff_df, file = \"~/OneDrive - UHN//Documents/Manuscripts/IPD/v10/TableS5.xlsx\",\n",
    "sheetName = \"TableS5\",\n",
    "col.names = TRUE, row.names = FALSE, append = FALSE)"
   ]
  },
  {
   "cell_type": "code",
   "execution_count": null,
   "metadata": {
    "vscode": {
     "languageId": "r"
    }
   },
   "outputs": [],
   "source": []
  },
  {
   "cell_type": "code",
   "execution_count": null,
   "metadata": {
    "vscode": {
     "languageId": "r"
    }
   },
   "outputs": [],
   "source": []
  },
  {
   "cell_type": "code",
   "execution_count": null,
   "metadata": {
    "vscode": {
     "languageId": "r"
    }
   },
   "outputs": [],
   "source": []
  },
  {
   "cell_type": "code",
   "execution_count": null,
   "metadata": {
    "vscode": {
     "languageId": "r"
    }
   },
   "outputs": [],
   "source": []
  },
  {
   "cell_type": "code",
   "execution_count": null,
   "metadata": {
    "vscode": {
     "languageId": "r"
    }
   },
   "outputs": [],
   "source": []
  },
  {
   "cell_type": "code",
   "execution_count": null,
   "metadata": {
    "vscode": {
     "languageId": "r"
    }
   },
   "outputs": [],
   "source": [
    "library(finalfit)\n",
    "library(dplyr)"
   ]
  },
  {
   "cell_type": "code",
   "execution_count": null,
   "metadata": {
    "vscode": {
     "languageId": "r"
    }
   },
   "outputs": [],
   "source": [
    "explanatory <- c(\"immune_cluster\", \"cohort\", \"gender\")\n",
    "dependent <- \"Surv(days_to_death, vital_status)\""
   ]
  },
  {
   "cell_type": "code",
   "execution_count": null,
   "metadata": {
    "vscode": {
     "languageId": "r"
    }
   },
   "outputs": [
    {
     "name": "stderr",
     "output_type": "stream",
     "text": [
      "Warning message in fitter(X, Y, istrat, offset, init, control, weights = weights, :\n",
      "“Ran out of iterations and did not converge”\n",
      "Warning message in fitter(X, Y, istrat, offset, init, control, weights = weights, :\n",
      "“Ran out of iterations and did not converge”\n"
     ]
    }
   ],
   "source": [
    "myff <- finalfit.coxph(metadata_IC, dependent, explanatory, add_dependent_label = FALSE, metrics = T)"
   ]
  },
  {
   "cell_type": "code",
   "execution_count": null,
   "metadata": {
    "vscode": {
     "languageId": "r"
    }
   },
   "outputs": [],
   "source": [
    "myff[[1]] <- dplyr::rename(myff[[1]], c(\"Overall survival\" = label,\" \" = levels, \"n (%)\" = all))"
   ]
  },
  {
   "cell_type": "code",
   "execution_count": null,
   "metadata": {
    "vscode": {
     "languageId": "r"
    }
   },
   "outputs": [
    {
     "data": {
      "text/html": [
       "<ol>\n",
       "\t<li><table class=\"dataframe\">\n",
       "<caption>A data.frame.ff: 19 × 5</caption>\n",
       "<thead>\n",
       "\t<tr><th></th><th scope=col>Overall survival</th><th scope=col> </th><th scope=col>n (%)</th><th scope=col>HR (univariable)</th><th scope=col>HR (multivariable)</th></tr>\n",
       "\t<tr><th></th><th scope=col>&lt;chr&gt;</th><th scope=col>&lt;chr&gt;</th><th scope=col>&lt;chr&gt;</th><th scope=col>&lt;chr&gt;</th><th scope=col>&lt;chr&gt;</th></tr>\n",
       "</thead>\n",
       "<tbody>\n",
       "\t<tr><th scope=row>19</th><td>immune_cluster</td><td>Pediatric Inflamed </td><td>90 (9.7)  </td><td>-                           </td><td>-                           </td></tr>\n",
       "\t<tr><th scope=row>18</th><td>              </td><td>Myeloid Predominant</td><td>279 (30.2)</td><td>0.94 (0.50-1.76, p=0.847)   </td><td>1.12 (0.76-1.65, p=0.566)   </td></tr>\n",
       "\t<tr><th scope=row>17</th><td>              </td><td>Immune Neutral     </td><td>393 (42.5)</td><td>1.58 (0.89-2.81, p=0.118)   </td><td>1.56 (1.13-2.14, p=0.006)   </td></tr>\n",
       "\t<tr><th scope=row>16</th><td><span style=white-space:pre-wrap>              </span></td><td><span style=white-space:pre-wrap>Immune Excluded    </span></td><td>163 (17.6)</td><td><span style=white-space:pre-wrap>2.14 (1.17-3.91, p=0.014)   </span></td><td><span style=white-space:pre-wrap>1.97 (1.39-2.79, p&lt;0.001)   </span></td></tr>\n",
       "\t<tr><th scope=row>1</th><td>cohort        </td><td>ATRT               </td><td>30 (3.2)  </td><td>-                           </td><td>-                           </td></tr>\n",
       "\t<tr><th scope=row>2</th><td>              </td><td>CP                 </td><td>16 (1.7)  </td><td>0.19 (0.03-1.34, p=0.096)   </td><td>0.18 (0.03-1.30, p=0.089)   </td></tr>\n",
       "\t<tr><th scope=row>3</th><td>              </td><td>CPH                </td><td>27 (2.9)  </td><td>0.08 (0.01-0.58, p=0.012)   </td><td>0.10 (0.01-0.74, p=0.024)   </td></tr>\n",
       "\t<tr><th scope=row>4</th><td><span style=white-space:pre-wrap>              </span></td><td><span style=white-space:pre-wrap>EPN                </span></td><td><span style=white-space:pre-wrap>65 (7.0)  </span></td><td><span style=white-space:pre-wrap>0.13 (0.05-0.32, p&lt;0.001)   </span></td><td><span style=white-space:pre-wrap>0.12 (0.05-0.30, p&lt;0.001)   </span></td></tr>\n",
       "\t<tr><th scope=row>5</th><td>              </td><td>ETMR               </td><td>9 (1.0)   </td><td>40.70 (4.86-340.61, p=0.001)</td><td>37.12 (4.42-311.76, p=0.001)</td></tr>\n",
       "\t<tr><th scope=row>6</th><td><span style=white-space:pre-wrap>              </span></td><td><span style=white-space:pre-wrap>MB                 </span></td><td>208 (22.5)</td><td><span style=white-space:pre-wrap>0.24 (0.16-0.38, p&lt;0.001)   </span></td><td><span style=white-space:pre-wrap>0.20 (0.13-0.31, p&lt;0.001)   </span></td></tr>\n",
       "\t<tr><th scope=row>7</th><td>              </td><td>MNG                </td><td>13 (1.4)  </td><td>0.00 (0.00-Inf, p=0.997)    </td><td>0.00 (0.00-Inf, p=0.996)    </td></tr>\n",
       "\t<tr><th scope=row>8</th><td><span style=white-space:pre-wrap>              </span></td><td><span style=white-space:pre-wrap>NBL                </span></td><td>151 (16.3)</td><td><span style=white-space:pre-wrap>0.40 (0.28-0.56, p&lt;0.001)   </span></td><td><span style=white-space:pre-wrap>0.38 (0.27-0.54, p&lt;0.001)   </span></td></tr>\n",
       "\t<tr><th scope=row>9</th><td>              </td><td>NFB                </td><td>11 (1.2)  </td><td>0.29 (0.09-0.91, p=0.034)   </td><td>0.38 (0.12-1.18, p=0.094)   </td></tr>\n",
       "\t<tr><th scope=row>10</th><td><span style=white-space:pre-wrap>              </span></td><td><span style=white-space:pre-wrap>pedHGG             </span></td><td><span style=white-space:pre-wrap>83 (9.0)  </span></td><td><span style=white-space:pre-wrap>2.17 (1.49-3.15, p&lt;0.001)   </span></td><td><span style=white-space:pre-wrap>2.24 (1.54-3.27, p&lt;0.001)   </span></td></tr>\n",
       "\t<tr><th scope=row>11</th><td>              </td><td>pedLGG             </td><td>298 (32.2)</td><td>0.00 (0.00-Inf, p=0.988)    </td><td>0.00 (0.00-Inf, p=0.988)    </td></tr>\n",
       "\t<tr><th scope=row>12</th><td>              </td><td>SCHW               </td><td>14 (1.5)  </td><td>0.00 (0.00-Inf, p=0.995)    </td><td>0.00 (0.00-Inf, p=0.995)    </td></tr>\n",
       "\t<tr><th scope=row>13</th><td>gender        </td><td>Female             </td><td>408 (44.2)</td><td>-                           </td><td>-                           </td></tr>\n",
       "\t<tr><th scope=row>14</th><td>              </td><td>Male               </td><td>513 (55.5)</td><td>0.99 (0.72-1.36, p=0.950)   </td><td>0.97 (0.71-1.33, p=0.841)   </td></tr>\n",
       "\t<tr><th scope=row>15</th><td>              </td><td>Unknown            </td><td>3 (0.3)   </td><td>6.09 (0.84-44.21, p=0.074)  </td><td>8.59 (1.19-61.84, p=0.033)  </td></tr>\n",
       "</tbody>\n",
       "</table>\n",
       "</li>\n",
       "\t<li><table class=\"dataframe\">\n",
       "<caption>A data.frame.ff: 1 × 1</caption>\n",
       "<tbody>\n",
       "\t<tr><td>Number in dataframe = 925, Number in model = 834, Missing = 91, Number of events = 161, Concordance = 0.806 (SE = 0.018), R-squared = 0.236( Max possible = 0.881), Likelihood ratio test = 224.239 (df = 16, p = 0.000)</td></tr>\n",
       "</tbody>\n",
       "</table>\n",
       "</li>\n",
       "</ol>\n"
      ],
      "text/latex": [
       "\\begin{enumerate}\n",
       "\\item A data.frame.ff: 19 × 5\n",
       "\\begin{tabular}{r|lllll}\n",
       "  & Overall survival &   & n (\\%) & HR (univariable) & HR (multivariable)\\\\\n",
       "  & <chr> & <chr> & <chr> & <chr> & <chr>\\\\\n",
       "\\hline\n",
       "\t19 & immune\\_cluster & Pediatric Inflamed  & 90 (9.7)   & -                            & -                           \\\\\n",
       "\t18 &                & Myeloid Predominant & 279 (30.2) & 0.94 (0.50-1.76, p=0.847)    & 1.12 (0.76-1.65, p=0.566)   \\\\\n",
       "\t17 &                & Immune Neutral      & 393 (42.5) & 1.58 (0.89-2.81, p=0.118)    & 1.56 (1.13-2.14, p=0.006)   \\\\\n",
       "\t16 &                & Immune Excluded     & 163 (17.6) & 2.14 (1.17-3.91, p=0.014)    & 1.97 (1.39-2.79, p<0.001)   \\\\\n",
       "\t1 & cohort         & ATRT                & 30 (3.2)   & -                            & -                           \\\\\n",
       "\t2 &                & CP                  & 16 (1.7)   & 0.19 (0.03-1.34, p=0.096)    & 0.18 (0.03-1.30, p=0.089)   \\\\\n",
       "\t3 &                & CPH                 & 27 (2.9)   & 0.08 (0.01-0.58, p=0.012)    & 0.10 (0.01-0.74, p=0.024)   \\\\\n",
       "\t4 &                & EPN                 & 65 (7.0)   & 0.13 (0.05-0.32, p<0.001)    & 0.12 (0.05-0.30, p<0.001)   \\\\\n",
       "\t5 &                & ETMR                & 9 (1.0)    & 40.70 (4.86-340.61, p=0.001) & 37.12 (4.42-311.76, p=0.001)\\\\\n",
       "\t6 &                & MB                  & 208 (22.5) & 0.24 (0.16-0.38, p<0.001)    & 0.20 (0.13-0.31, p<0.001)   \\\\\n",
       "\t7 &                & MNG                 & 13 (1.4)   & 0.00 (0.00-Inf, p=0.997)     & 0.00 (0.00-Inf, p=0.996)    \\\\\n",
       "\t8 &                & NBL                 & 151 (16.3) & 0.40 (0.28-0.56, p<0.001)    & 0.38 (0.27-0.54, p<0.001)   \\\\\n",
       "\t9 &                & NFB                 & 11 (1.2)   & 0.29 (0.09-0.91, p=0.034)    & 0.38 (0.12-1.18, p=0.094)   \\\\\n",
       "\t10 &                & pedHGG              & 83 (9.0)   & 2.17 (1.49-3.15, p<0.001)    & 2.24 (1.54-3.27, p<0.001)   \\\\\n",
       "\t11 &                & pedLGG              & 298 (32.2) & 0.00 (0.00-Inf, p=0.988)     & 0.00 (0.00-Inf, p=0.988)    \\\\\n",
       "\t12 &                & SCHW                & 14 (1.5)   & 0.00 (0.00-Inf, p=0.995)     & 0.00 (0.00-Inf, p=0.995)    \\\\\n",
       "\t13 & gender         & Female              & 408 (44.2) & -                            & -                           \\\\\n",
       "\t14 &                & Male                & 513 (55.5) & 0.99 (0.72-1.36, p=0.950)    & 0.97 (0.71-1.33, p=0.841)   \\\\\n",
       "\t15 &                & Unknown             & 3 (0.3)    & 6.09 (0.84-44.21, p=0.074)   & 8.59 (1.19-61.84, p=0.033)  \\\\\n",
       "\\end{tabular}\n",
       "\n",
       "\\item A data.frame.ff: 1 × 1\n",
       "\\begin{tabular}{l}\n",
       "\t Number in dataframe = 925, Number in model = 834, Missing = 91, Number of events = 161, Concordance = 0.806 (SE = 0.018), R-squared = 0.236( Max possible = 0.881), Likelihood ratio test = 224.239 (df = 16, p = 0.000)\\\\\n",
       "\\end{tabular}\n",
       "\n",
       "\\end{enumerate}\n"
      ],
      "text/markdown": [
       "1. \n",
       "A data.frame.ff: 19 × 5\n",
       "\n",
       "| <!--/--> | Overall survival &lt;chr&gt; | <!----> &lt;chr&gt; | n (%) &lt;chr&gt; | HR (univariable) &lt;chr&gt; | HR (multivariable) &lt;chr&gt; |\n",
       "|---|---|---|---|---|---|\n",
       "| 19 | immune_cluster | Pediatric Inflamed  | 90 (9.7)   | -                            | -                            |\n",
       "| 18 | <!----> | Myeloid Predominant | 279 (30.2) | 0.94 (0.50-1.76, p=0.847)    | 1.12 (0.76-1.65, p=0.566)    |\n",
       "| 17 | <!----> | Immune Neutral      | 393 (42.5) | 1.58 (0.89-2.81, p=0.118)    | 1.56 (1.13-2.14, p=0.006)    |\n",
       "| 16 | <!----> | Immune Excluded     | 163 (17.6) | 2.14 (1.17-3.91, p=0.014)    | 1.97 (1.39-2.79, p&lt;0.001)    |\n",
       "| 1 | cohort         | ATRT                | 30 (3.2)   | -                            | -                            |\n",
       "| 2 | <!----> | CP                  | 16 (1.7)   | 0.19 (0.03-1.34, p=0.096)    | 0.18 (0.03-1.30, p=0.089)    |\n",
       "| 3 | <!----> | CPH                 | 27 (2.9)   | 0.08 (0.01-0.58, p=0.012)    | 0.10 (0.01-0.74, p=0.024)    |\n",
       "| 4 | <!----> | EPN                 | 65 (7.0)   | 0.13 (0.05-0.32, p&lt;0.001)    | 0.12 (0.05-0.30, p&lt;0.001)    |\n",
       "| 5 | <!----> | ETMR                | 9 (1.0)    | 40.70 (4.86-340.61, p=0.001) | 37.12 (4.42-311.76, p=0.001) |\n",
       "| 6 | <!----> | MB                  | 208 (22.5) | 0.24 (0.16-0.38, p&lt;0.001)    | 0.20 (0.13-0.31, p&lt;0.001)    |\n",
       "| 7 | <!----> | MNG                 | 13 (1.4)   | 0.00 (0.00-Inf, p=0.997)     | 0.00 (0.00-Inf, p=0.996)     |\n",
       "| 8 | <!----> | NBL                 | 151 (16.3) | 0.40 (0.28-0.56, p&lt;0.001)    | 0.38 (0.27-0.54, p&lt;0.001)    |\n",
       "| 9 | <!----> | NFB                 | 11 (1.2)   | 0.29 (0.09-0.91, p=0.034)    | 0.38 (0.12-1.18, p=0.094)    |\n",
       "| 10 | <!----> | pedHGG              | 83 (9.0)   | 2.17 (1.49-3.15, p&lt;0.001)    | 2.24 (1.54-3.27, p&lt;0.001)    |\n",
       "| 11 | <!----> | pedLGG              | 298 (32.2) | 0.00 (0.00-Inf, p=0.988)     | 0.00 (0.00-Inf, p=0.988)     |\n",
       "| 12 | <!----> | SCHW                | 14 (1.5)   | 0.00 (0.00-Inf, p=0.995)     | 0.00 (0.00-Inf, p=0.995)     |\n",
       "| 13 | gender         | Female              | 408 (44.2) | -                            | -                            |\n",
       "| 14 | <!----> | Male                | 513 (55.5) | 0.99 (0.72-1.36, p=0.950)    | 0.97 (0.71-1.33, p=0.841)    |\n",
       "| 15 | <!----> | Unknown             | 3 (0.3)    | 6.09 (0.84-44.21, p=0.074)   | 8.59 (1.19-61.84, p=0.033)   |\n",
       "\n",
       "\n",
       "2. \n",
       "A data.frame.ff: 1 × 1\n",
       "\n",
       "| Number in dataframe = 925, Number in model = 834, Missing = 91, Number of events = 161, Concordance = 0.806 (SE = 0.018), R-squared = 0.236( Max possible = 0.881), Likelihood ratio test = 224.239 (df = 16, p = 0.000) |\n",
       "\n",
       "\n",
       "\n",
       "\n"
      ],
      "text/plain": [
       "[[1]]\n",
       " Overall survival                          n (%)             HR (univariable)\n",
       "   immune_cluster  Pediatric Inflamed   90 (9.7)                            -\n",
       "                  Myeloid Predominant 279 (30.2)    0.94 (0.50-1.76, p=0.847)\n",
       "                       Immune Neutral 393 (42.5)    1.58 (0.89-2.81, p=0.118)\n",
       "                      Immune Excluded 163 (17.6)    2.14 (1.17-3.91, p=0.014)\n",
       "           cohort                ATRT   30 (3.2)                            -\n",
       "                                   CP   16 (1.7)    0.19 (0.03-1.34, p=0.096)\n",
       "                                  CPH   27 (2.9)    0.08 (0.01-0.58, p=0.012)\n",
       "                                  EPN   65 (7.0)    0.13 (0.05-0.32, p<0.001)\n",
       "                                 ETMR    9 (1.0) 40.70 (4.86-340.61, p=0.001)\n",
       "                                   MB 208 (22.5)    0.24 (0.16-0.38, p<0.001)\n",
       "                                  MNG   13 (1.4)     0.00 (0.00-Inf, p=0.997)\n",
       "                                  NBL 151 (16.3)    0.40 (0.28-0.56, p<0.001)\n",
       "                                  NFB   11 (1.2)    0.29 (0.09-0.91, p=0.034)\n",
       "                               pedHGG   83 (9.0)    2.17 (1.49-3.15, p<0.001)\n",
       "                               pedLGG 298 (32.2)     0.00 (0.00-Inf, p=0.988)\n",
       "                                 SCHW   14 (1.5)     0.00 (0.00-Inf, p=0.995)\n",
       "           gender              Female 408 (44.2)                            -\n",
       "                                 Male 513 (55.5)    0.99 (0.72-1.36, p=0.950)\n",
       "                              Unknown    3 (0.3)   6.09 (0.84-44.21, p=0.074)\n",
       "           HR (multivariable)\n",
       "                            -\n",
       "    1.12 (0.76-1.65, p=0.566)\n",
       "    1.56 (1.13-2.14, p=0.006)\n",
       "    1.97 (1.39-2.79, p<0.001)\n",
       "                            -\n",
       "    0.18 (0.03-1.30, p=0.089)\n",
       "    0.10 (0.01-0.74, p=0.024)\n",
       "    0.12 (0.05-0.30, p<0.001)\n",
       " 37.12 (4.42-311.76, p=0.001)\n",
       "    0.20 (0.13-0.31, p<0.001)\n",
       "     0.00 (0.00-Inf, p=0.996)\n",
       "    0.38 (0.27-0.54, p<0.001)\n",
       "    0.38 (0.12-1.18, p=0.094)\n",
       "    2.24 (1.54-3.27, p<0.001)\n",
       "     0.00 (0.00-Inf, p=0.988)\n",
       "     0.00 (0.00-Inf, p=0.995)\n",
       "                            -\n",
       "    0.97 (0.71-1.33, p=0.841)\n",
       "   8.59 (1.19-61.84, p=0.033)\n",
       "\n",
       "[[2]]\n",
       "                                                                                                                                                                                                                         \n",
       " Number in dataframe = 925, Number in model = 834, Missing = 91, Number of events = 161, Concordance = 0.806 (SE = 0.018), R-squared = 0.236( Max possible = 0.881), Likelihood ratio test = 224.239 (df = 16, p = 0.000)\n"
      ]
     },
     "metadata": {},
     "output_type": "display_data"
    }
   ],
   "source": [
    "myff"
   ]
  },
  {
   "cell_type": "code",
   "execution_count": null,
   "metadata": {
    "vscode": {
     "languageId": "r"
    }
   },
   "outputs": [],
   "source": [
    "myff_df <- myff[[1]]\n",
    "myff_df <- rbind(myff_df,\"\", c(myff[[2]], \"\",\"\",\"\",\"\"))"
   ]
  },
  {
   "cell_type": "code",
   "execution_count": null,
   "metadata": {
    "vscode": {
     "languageId": "r"
    }
   },
   "outputs": [],
   "source": [
    "xlsx::write.xlsx(myff_df, file = \"~/OneDrive - UHN//Documents/Manuscripts/IPD/v10/TableS5.xlsx\",\n",
    "sheetName = \"TableS5\",\n",
    "col.names = TRUE, row.names = FALSE, append = FALSE)"
   ]
  }
 ],
 "metadata": {
  "kernelspec": {
   "display_name": "R 4.0",
   "language": "R",
   "name": "ir40"
  },
  "language_info": {
   "codemirror_mode": "r",
   "file_extension": ".r",
   "mimetype": "text/x-r-source",
   "name": "R",
   "pygments_lexer": "r",
   "version": "4.2.2"
  },
  "toc": {
   "base_numbering": 1,
   "nav_menu": {},
   "number_sections": false,
   "sideBar": true,
   "skip_h1_title": false,
   "title_cell": "Table of Contents",
   "title_sidebar": "Contents",
   "toc_cell": true,
   "toc_position": {
    "height": "calc(100% - 180px)",
    "left": "10px",
    "top": "150px",
    "width": "206.5px"
   },
   "toc_section_display": true,
   "toc_window_display": true
  }
 },
 "nbformat": 4,
 "nbformat_minor": 2
}

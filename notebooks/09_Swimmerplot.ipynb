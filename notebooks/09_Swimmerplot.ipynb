{
 "cells": [
  {
   "attachments": {},
   "cell_type": "markdown",
   "metadata": {},
   "source": [
    "# Dependencies"
   ]
  },
  {
   "cell_type": "code",
   "execution_count": 67,
   "metadata": {
    "vscode": {
     "languageId": "r"
    }
   },
   "outputs": [],
   "source": [
    "pacman::p_load(dplyr, ggplot2, pBrackets, ggpubr, cowplot)"
   ]
  },
  {
   "attachments": {},
   "cell_type": "markdown",
   "metadata": {},
   "source": [
    "# Functions"
   ]
  },
  {
   "cell_type": "code",
   "execution_count": 68,
   "metadata": {
    "vscode": {
     "languageId": "r"
    }
   },
   "outputs": [],
   "source": [
    "source(\"/Users/anabbi/git/ped_CapTCRseq/R/ggplot2_theme.R\")\n",
    "source(\"/Users/anabbi/git/ped_CapTCRseq/R/color_schemes.R\")"
   ]
  },
  {
   "attachments": {},
   "cell_type": "markdown",
   "metadata": {},
   "source": [
    "# Paths"
   ]
  },
  {
   "cell_type": "code",
   "execution_count": 69,
   "metadata": {
    "vscode": {
     "languageId": "r"
    }
   },
   "outputs": [],
   "source": [
    "datapath <- \"/Users/anabbi/OneDrive - UHN/Documents/INTERCEPT/Data/\"\n",
    "plotpath <- \"/Users/anabbi/OneDrive - UHN/Documents/INTERCEPT/Plots/\"\n",
    "manifestpath <- \"/Users/anabbi/OneDrive - UHN/Documents/INTERCEPT/Manifests/\"\n",
    "gitpath <- \"/Users/anabbi/git/ped_CapTCRseq/\""
   ]
  },
  {
   "cell_type": "code",
   "execution_count": 70,
   "metadata": {
    "vscode": {
     "languageId": "r"
    }
   },
   "outputs": [],
   "source": [
    "h4hpath <- \"/Users/anabbi/Desktop/H4H/INTERCEPT/\""
   ]
  },
  {
   "attachments": {},
   "cell_type": "markdown",
   "metadata": {},
   "source": [
    "# Main"
   ]
  },
  {
   "attachments": {},
   "cell_type": "markdown",
   "metadata": {},
   "source": [
    "bind all metadata"
   ]
  },
  {
   "cell_type": "code",
   "execution_count": 71,
   "metadata": {
    "vscode": {
     "languageId": "r"
    }
   },
   "outputs": [],
   "source": [
    "meta_div <- readr::read_rds(file = paste0(datapath,\"capTCRseq/meta_div_goodsamples.rds\"))"
   ]
  },
  {
   "cell_type": "code",
   "execution_count": 72,
   "metadata": {
    "vscode": {
     "languageId": "r"
    }
   },
   "outputs": [
    {
     "data": {
      "text/plain": [
       "\n",
       " PBMC Tumor cfDNA \n",
       "  558    18   274 "
      ]
     },
     "metadata": {},
     "output_type": "display_data"
    }
   ],
   "source": [
    "table(meta_div$sampletype)"
   ]
  },
  {
   "cell_type": "code",
   "execution_count": 73,
   "metadata": {
    "vscode": {
     "languageId": "r"
    }
   },
   "outputs": [],
   "source": [
    "#remove Tumor samples\n",
    "meta_div <- meta_div[ which(meta_div$sampletype != \"Tumor\"),]\n",
    "#remove Normal samples\n",
    "meta_div <- meta_div[ which(meta_div$cancergroup != \"Normal\"),]\n",
    "# remove LFS samples\n",
    "meta_div <- meta_div[which(meta_div$cancergroup != \"LFS\"),]"
   ]
  },
  {
   "cell_type": "code",
   "execution_count": 74,
   "metadata": {
    "vscode": {
     "languageId": "r"
    }
   },
   "outputs": [],
   "source": [
    "# recode T cell malignanices to leu and lym\n",
    "meta_div$cancergroup[meta_div$Disease_type == \"T-ALL\"] <- \"Leukemia\"\n",
    "meta_div$cancergroup[meta_div$Disease_type == \"ALCL\"] <- \"Lymphoma\""
   ]
  },
  {
   "cell_type": "code",
   "execution_count": 75,
   "metadata": {
    "vscode": {
     "languageId": "r"
    }
   },
   "outputs": [
    {
     "data": {
      "text/html": [
       "<table class=\"dataframe\">\n",
       "<caption>A data.frame: 6 x 42</caption>\n",
       "<thead>\n",
       "\t<tr><th></th><th scope=col>sample_id</th><th scope=col>Patient</th><th scope=col>cycle</th><th scope=col>FOLD</th><th scope=col>ATC</th><th scope=col>Age</th><th scope=col>Disease_type</th><th scope=col>TE_fold</th><th scope=col>CD3</th><th scope=col>EM</th><th scope=col>...</th><th scope=col>PD1 + LAG3 + TIM3</th><th scope=col>cancergroup</th><th scope=col>agegroup</th><th scope=col>foldgroup</th><th scope=col>Remission</th><th scope=col>Relapse</th><th scope=col>Transplant</th><th scope=col>CART</th><th scope=col>vital_status</th><th scope=col>LOF</th></tr>\n",
       "\t<tr><th></th><th scope=col>&lt;chr&gt;</th><th scope=col>&lt;chr&gt;</th><th scope=col>&lt;chr&gt;</th><th scope=col>&lt;dbl&gt;</th><th scope=col>&lt;dbl&gt;</th><th scope=col>&lt;dbl&gt;</th><th scope=col>&lt;chr&gt;</th><th scope=col>&lt;dbl&gt;</th><th scope=col>&lt;int&gt;</th><th scope=col>&lt;int&gt;</th><th scope=col>...</th><th scope=col>&lt;dbl&gt;</th><th scope=col>&lt;chr&gt;</th><th scope=col>&lt;chr&gt;</th><th scope=col>&lt;chr&gt;</th><th scope=col>&lt;int&gt;</th><th scope=col>&lt;int&gt;</th><th scope=col>&lt;int&gt;</th><th scope=col>&lt;int&gt;</th><th scope=col>&lt;int&gt;</th><th scope=col>&lt;int&gt;</th></tr>\n",
       "</thead>\n",
       "<tbody>\n",
       "\t<tr><th scope=row>523</th><td>CHP_364_01</td><td>CHP_364</td><td>X01</td><td>2.3</td><td>877.68</td><td>16</td><td>OS</td><td>2.3</td><td>2411</td><td>33</td><td>...</td><td>NA</td><td>Solid tumors</td><td>12-17 yrs</td><td>Indeterminate</td><td>NA</td><td>1</td><td>NA</td><td>NA</td><td>NA</td><td>1</td></tr>\n",
       "\t<tr><th scope=row>524</th><td>CHP_364_02</td><td>CHP_364</td><td>X02</td><td>1.9</td><td>  0.00</td><td>16</td><td>OS</td><td>1.9</td><td>2487</td><td>18</td><td>...</td><td>NA</td><td>Solid tumors</td><td>12-17 yrs</td><td>Low          </td><td>NA</td><td>1</td><td>NA</td><td>NA</td><td>NA</td><td>1</td></tr>\n",
       "\t<tr><th scope=row>526</th><td>CHP_364_04</td><td>CHP_364</td><td>X04</td><td>4.0</td><td>  0.00</td><td>16</td><td>OS</td><td>4.0</td><td>2454</td><td> 9</td><td>...</td><td>NA</td><td>Solid tumors</td><td>12-17 yrs</td><td>Indeterminate</td><td>NA</td><td>1</td><td>NA</td><td>NA</td><td>NA</td><td>1</td></tr>\n",
       "\t<tr><th scope=row>98</th><td>CHP_364_02</td><td>CHP_364</td><td>X02</td><td>1.9</td><td>  0.00</td><td>16</td><td>OS</td><td>1.9</td><td>2487</td><td>18</td><td>...</td><td>NA</td><td>Solid tumors</td><td>12-17 yrs</td><td>Low          </td><td>NA</td><td>1</td><td>NA</td><td>NA</td><td>NA</td><td>1</td></tr>\n",
       "\t<tr><th scope=row>99</th><td>CHP_364_03</td><td>CHP_364</td><td>X03</td><td>0.0</td><td>  0.00</td><td>16</td><td>OS</td><td>0.0</td><td>   0</td><td>NA</td><td>...</td><td>NA</td><td>Solid tumors</td><td>12-17 yrs</td><td>Low          </td><td>NA</td><td>1</td><td>NA</td><td>NA</td><td>NA</td><td>1</td></tr>\n",
       "\t<tr><th scope=row>100</th><td>CHP_364_04</td><td>CHP_364</td><td>X04</td><td>4.0</td><td>  0.00</td><td>16</td><td>OS</td><td>4.0</td><td>2454</td><td> 9</td><td>...</td><td>NA</td><td>Solid tumors</td><td>12-17 yrs</td><td>Indeterminate</td><td>NA</td><td>1</td><td>NA</td><td>NA</td><td>NA</td><td>1</td></tr>\n",
       "</tbody>\n",
       "</table>\n"
      ],
      "text/latex": [
       "A data.frame: 6 x 42\n",
       "\\begin{tabular}{r|lllllllllllllllllllll}\n",
       "  & sample\\_id & Patient & cycle & FOLD & ATC & Age & Disease\\_type & TE\\_fold & CD3 & EM & ... & PD1 + LAG3 + TIM3 & cancergroup & agegroup & foldgroup & Remission & Relapse & Transplant & CART & vital\\_status & LOF\\\\\n",
       "  & <chr> & <chr> & <chr> & <dbl> & <dbl> & <dbl> & <chr> & <dbl> & <int> & <int> & ... & <dbl> & <chr> & <chr> & <chr> & <int> & <int> & <int> & <int> & <int> & <int>\\\\\n",
       "\\hline\n",
       "\t523 & CHP\\_364\\_01 & CHP\\_364 & X01 & 2.3 & 877.68 & 16 & OS & 2.3 & 2411 & 33 & ... & NA & Solid tumors & 12-17 yrs & Indeterminate & NA & 1 & NA & NA & NA & 1\\\\\n",
       "\t524 & CHP\\_364\\_02 & CHP\\_364 & X02 & 1.9 &   0.00 & 16 & OS & 1.9 & 2487 & 18 & ... & NA & Solid tumors & 12-17 yrs & Low           & NA & 1 & NA & NA & NA & 1\\\\\n",
       "\t526 & CHP\\_364\\_04 & CHP\\_364 & X04 & 4.0 &   0.00 & 16 & OS & 4.0 & 2454 &  9 & ... & NA & Solid tumors & 12-17 yrs & Indeterminate & NA & 1 & NA & NA & NA & 1\\\\\n",
       "\t98 & CHP\\_364\\_02 & CHP\\_364 & X02 & 1.9 &   0.00 & 16 & OS & 1.9 & 2487 & 18 & ... & NA & Solid tumors & 12-17 yrs & Low           & NA & 1 & NA & NA & NA & 1\\\\\n",
       "\t99 & CHP\\_364\\_03 & CHP\\_364 & X03 & 0.0 &   0.00 & 16 & OS & 0.0 &    0 & NA & ... & NA & Solid tumors & 12-17 yrs & Low           & NA & 1 & NA & NA & NA & 1\\\\\n",
       "\t100 & CHP\\_364\\_04 & CHP\\_364 & X04 & 4.0 &   0.00 & 16 & OS & 4.0 & 2454 &  9 & ... & NA & Solid tumors & 12-17 yrs & Indeterminate & NA & 1 & NA & NA & NA & 1\\\\\n",
       "\\end{tabular}\n"
      ],
      "text/markdown": [
       "\n",
       "A data.frame: 6 x 42\n",
       "\n",
       "| <!--/--> | sample_id &lt;chr&gt; | Patient &lt;chr&gt; | cycle &lt;chr&gt; | FOLD &lt;dbl&gt; | ATC &lt;dbl&gt; | Age &lt;dbl&gt; | Disease_type &lt;chr&gt; | TE_fold &lt;dbl&gt; | CD3 &lt;int&gt; | EM &lt;int&gt; | ... ... | PD1 + LAG3 + TIM3 &lt;dbl&gt; | cancergroup &lt;chr&gt; | agegroup &lt;chr&gt; | foldgroup &lt;chr&gt; | Remission &lt;int&gt; | Relapse &lt;int&gt; | Transplant &lt;int&gt; | CART &lt;int&gt; | vital_status &lt;int&gt; | LOF &lt;int&gt; |\n",
       "|---|---|---|---|---|---|---|---|---|---|---|---|---|---|---|---|---|---|---|---|---|---|\n",
       "| 523 | CHP_364_01 | CHP_364 | X01 | 2.3 | 877.68 | 16 | OS | 2.3 | 2411 | 33 | ... | NA | Solid tumors | 12-17 yrs | Indeterminate | NA | 1 | NA | NA | NA | 1 |\n",
       "| 524 | CHP_364_02 | CHP_364 | X02 | 1.9 |   0.00 | 16 | OS | 1.9 | 2487 | 18 | ... | NA | Solid tumors | 12-17 yrs | Low           | NA | 1 | NA | NA | NA | 1 |\n",
       "| 526 | CHP_364_04 | CHP_364 | X04 | 4.0 |   0.00 | 16 | OS | 4.0 | 2454 |  9 | ... | NA | Solid tumors | 12-17 yrs | Indeterminate | NA | 1 | NA | NA | NA | 1 |\n",
       "| 98 | CHP_364_02 | CHP_364 | X02 | 1.9 |   0.00 | 16 | OS | 1.9 | 2487 | 18 | ... | NA | Solid tumors | 12-17 yrs | Low           | NA | 1 | NA | NA | NA | 1 |\n",
       "| 99 | CHP_364_03 | CHP_364 | X03 | 0.0 |   0.00 | 16 | OS | 0.0 |    0 | NA | ... | NA | Solid tumors | 12-17 yrs | Low           | NA | 1 | NA | NA | NA | 1 |\n",
       "| 100 | CHP_364_04 | CHP_364 | X04 | 4.0 |   0.00 | 16 | OS | 4.0 | 2454 |  9 | ... | NA | Solid tumors | 12-17 yrs | Indeterminate | NA | 1 | NA | NA | NA | 1 |\n",
       "\n"
      ],
      "text/plain": [
       "    sample_id  Patient cycle FOLD ATC    Age Disease_type TE_fold CD3  EM ...\n",
       "523 CHP_364_01 CHP_364 X01   2.3  877.68 16  OS           2.3     2411 33 ...\n",
       "524 CHP_364_02 CHP_364 X02   1.9    0.00 16  OS           1.9     2487 18 ...\n",
       "526 CHP_364_04 CHP_364 X04   4.0    0.00 16  OS           4.0     2454  9 ...\n",
       "98  CHP_364_02 CHP_364 X02   1.9    0.00 16  OS           1.9     2487 18 ...\n",
       "99  CHP_364_03 CHP_364 X03   0.0    0.00 16  OS           0.0        0 NA ...\n",
       "100 CHP_364_04 CHP_364 X04   4.0    0.00 16  OS           4.0     2454  9 ...\n",
       "    PD1 + LAG3 + TIM3 cancergroup  agegroup  foldgroup     Remission Relapse\n",
       "523 NA                Solid tumors 12-17 yrs Indeterminate NA        1      \n",
       "524 NA                Solid tumors 12-17 yrs Low           NA        1      \n",
       "526 NA                Solid tumors 12-17 yrs Indeterminate NA        1      \n",
       "98  NA                Solid tumors 12-17 yrs Low           NA        1      \n",
       "99  NA                Solid tumors 12-17 yrs Low           NA        1      \n",
       "100 NA                Solid tumors 12-17 yrs Indeterminate NA        1      \n",
       "    Transplant CART vital_status LOF\n",
       "523 NA         NA   NA           1  \n",
       "524 NA         NA   NA           1  \n",
       "526 NA         NA   NA           1  \n",
       "98  NA         NA   NA           1  \n",
       "99  NA         NA   NA           1  \n",
       "100 NA         NA   NA           1  "
      ]
     },
     "metadata": {},
     "output_type": "display_data"
    }
   ],
   "source": [
    "head(meta_div[meta_div$Patient == \"CHP_364\",1:42])"
   ]
  },
  {
   "cell_type": "code",
   "execution_count": 76,
   "metadata": {
    "vscode": {
     "languageId": "r"
    }
   },
   "outputs": [],
   "source": [
    "subset_meta <- meta_div[, c(\"Patient\", \"cycle\", \"FOLD\", \"Disease_type\", \n",
    "\"CD3\", \"cancergroup\", \"sampletype\", \"TRB\", \"Age\", \"file\")]"
   ]
  },
  {
   "cell_type": "code",
   "execution_count": 77,
   "metadata": {
    "vscode": {
     "languageId": "r"
    }
   },
   "outputs": [],
   "source": [
    "# recode cycle to numeric\n",
    "subset_meta$cycle <- gsub(\"X\", \"\", subset_meta$cycle)"
   ]
  },
  {
   "cell_type": "code",
   "execution_count": 78,
   "metadata": {
    "vscode": {
     "languageId": "r"
    }
   },
   "outputs": [],
   "source": [
    "subset_meta$cycle <- as.numeric(subset_meta$cycle)"
   ]
  },
  {
   "cell_type": "code",
   "execution_count": 79,
   "metadata": {
    "vscode": {
     "languageId": "r"
    }
   },
   "outputs": [
    {
     "data": {
      "text/plain": [
       "\n",
       " PBMC cfDNA \n",
       "  534   274 "
      ]
     },
     "metadata": {},
     "output_type": "display_data"
    }
   ],
   "source": [
    "table(subset_meta$sampletype, useNA = \"ifany\")"
   ]
  },
  {
   "cell_type": "code",
   "execution_count": 80,
   "metadata": {
    "vscode": {
     "languageId": "r"
    }
   },
   "outputs": [],
   "source": [
    "# NAs in TRB are Flow samples\n",
    "subset_meta$sampletype[ is.na(subset_meta$TRB) &\n",
    "subset_meta$sampletype == \"PBMC\" ] <- \"Flow\""
   ]
  },
  {
   "cell_type": "code",
   "execution_count": 81,
   "metadata": {
    "vscode": {
     "languageId": "r"
    }
   },
   "outputs": [
    {
     "data": {
      "text/plain": [
       "\n",
       " Flow  PBMC cfDNA \n",
       "  337   197   274 "
      ]
     },
     "metadata": {},
     "output_type": "display_data"
    }
   ],
   "source": [
    "table(subset_meta$sampletype, useNA = \"ifany\")"
   ]
  },
  {
   "cell_type": "code",
   "execution_count": 82,
   "metadata": {
    "vscode": {
     "languageId": "r"
    }
   },
   "outputs": [
    {
     "data": {
      "text/html": [
       "119"
      ],
      "text/latex": [
       "119"
      ],
      "text/markdown": [
       "119"
      ],
      "text/plain": [
       "[1] 119"
      ]
     },
     "metadata": {},
     "output_type": "display_data"
    }
   ],
   "source": [
    "length(table(subset_meta$Patient))"
   ]
  },
  {
   "cell_type": "code",
   "execution_count": 83,
   "metadata": {
    "vscode": {
     "languageId": "r"
    }
   },
   "outputs": [],
   "source": [
    "mydat <- matrix(ncol = 20, nrow = length(unique(subset_meta$Patient)))\n",
    "rownames(mydat) <- unique(subset_meta$Patient)\n",
    "# assign colnames 5 PBMCs, 5 cfDNA, 5 FOLD,  5 CD3 separate by _\n",
    "colnames(mydat) <- c(paste0(rep(\"PBMC_\", 5), 1:5),\n",
    "                        paste0(rep(\"cfDNA_\", 5), 1:5),\n",
    "                        paste0(rep(\"FOLD_\", 5), 1:5),\n",
    "                        paste0(rep(\"CD3_\", 5), 1:5))"
   ]
  },
  {
   "cell_type": "code",
   "execution_count": 84,
   "metadata": {
    "vscode": {
     "languageId": "r"
    }
   },
   "outputs": [],
   "source": [
    "datatype.fx <- function(x){\n",
    "\n",
    "x$datatype <- NA\n",
    "for(i in 1:nrow(x)){\n",
    "#if is.na(TRB) & !is.na(FOLD) & !is.na(CD3), then datatype = FOLD,CD3\n",
    "    if(is.na(x$TRB[i]) & !is.na(x$FOLD[i]) & !is.na(x$CD3[i])){\n",
    "        x$datatype[i] <- paste0(\"FOLD\", \"_\",x$cycle[i], \",\", \"CD3\",\"_\", x$cycle[i])\n",
    "    }\n",
    "#if is.na(TRB) & !is.na(CD3) & is.na(FOLD), then datatype = CD3\n",
    "    if(is.na(x$TRB[i]) & !is.na(x$CD3[i]) & is.na(x$FOLD[i])){\n",
    "        x$datatype[i] <- paste0(\"CD3\",\"_\", x$cycle[i])\n",
    "    }\n",
    "#if is.na(TRB) & is.na(CD3) & !is.na(FOLD), then datatype = FOLD\n",
    "    if(is.na(x$TRB[i]) & !is.na(x$FOLD[i]) & is.na(x$CD3[i])){\n",
    "        x$datatype[i] <- paste0(\"FOLD\",\"_\", x$cycle[i])\n",
    "    }\n",
    "#if !is.na(TRB) & !is.na(CD3) & is.na(FOLD) & sampletype == \"PBMC\", then datatype = PBMC, CD3\n",
    "    if(!is.na(x$TRB[i]) & !is.na(x$CD3[i]) & is.na(x$FOLD[i]) & x$sampletype[i] == \"PBMC\"){\n",
    "        x$datatype[i] <- paste0(\"PBMC\",\"_\", x$cycle[i], \",\", \"CD3\",\"_\", x$cycle[i])\n",
    "    }\n",
    "\n",
    "#if !is.na(TRB) & is.na(CD3) & !is.na(FOLD) & sampletype == \"PBMC\", then datatype = PBMC, FOLD\n",
    "    if(!is.na(x$TRB[i]) & is.na(x$CD3[i]) & !is.na(x$FOLD[i]) & x$sampletype[i] == \"PBMC\"){\n",
    "        x$datatype[i] <- paste0(\"PBMC\",\"_\", x$cycle[i], \",\", \"FOLD\",\"_\", x$cycle[i])\n",
    "    }\n",
    "\n",
    "#if !is.na(TRB) & & !is.na(CD3) & !is.na(FOLD) & sampletype == \"PBMC\", then datatype = PBMC, FOLD, CD3\n",
    "    if(!is.na(x$TRB[i]) & !is.na(x$CD3[i]) & !is.na(x$FOLD[i]) & x$sampletype[i] == \"PBMC\"){\n",
    "        x$datatype[i] <- paste0(\"PBMC\",\"_\", x$cycle[i], \",\", \"FOLD\",\"_\", x$cycle[i], \",\", \"CD3\",\"_\", x$cycle[i])\n",
    "    }\n",
    "#if sampletype == \"cfDNA\", then datatype = cfDNA\n",
    "    if(x$sampletype[i] == \"cfDNA\"){\n",
    "        x$datatype[i] <- paste0(\"cfDNA\",\"_\", x$cycle[i])\n",
    "    }\n",
    "}\n",
    "\n",
    "# separate_rows based on , in datatype_cycle\n",
    "x_s <- x %>% tidyr::separate_rows(datatype, sep = \",\")\n",
    "\n",
    "pw <- tidyr::pivot_wider(x_s[, c(\"Patient\", \"datatype\", \"Age\")], \n",
    "names_from = datatype, values_from = Age)\n",
    "\n",
    "pw <- as.data.frame(pw)\n",
    "rownames(pw) <- pw$Patient\n",
    "pw$Patient <- NULL\n",
    "\n",
    "# match colnames(pw) with colnames(mydat), pw$Patient with rownames(mydat)\n",
    "mydat[ rownames(pw), colnames(pw)] <- as.matrix(pw) \n",
    "#print(pw)\n",
    "return(mydat)\n",
    "}"
   ]
  },
  {
   "cell_type": "code",
   "execution_count": 85,
   "metadata": {
    "vscode": {
     "languageId": "r"
    }
   },
   "outputs": [
    {
     "data": {
      "text/plain": [
       "\n",
       "    Leukemia     Lymphoma Solid tumors \n",
       "         399          152          257 "
      ]
     },
     "metadata": {},
     "output_type": "display_data"
    }
   ],
   "source": [
    "table(subset_meta$cancergroup, useNA = \"ifany\")"
   ]
  },
  {
   "cell_type": "code",
   "execution_count": null,
   "metadata": {
    "vscode": {
     "languageId": "r"
    }
   },
   "outputs": [],
   "source": []
  },
  {
   "cell_type": "code",
   "execution_count": 86,
   "metadata": {
    "vscode": {
     "languageId": "r"
    }
   },
   "outputs": [
    {
     "data": {
      "text/plain": [
       "\n",
       "    Leukemia     Lymphoma Solid tumors \n",
       "         399          152          257 "
      ]
     },
     "metadata": {},
     "output_type": "display_data"
    }
   ],
   "source": [
    "table(subset_meta$cancergroup, useNA = \"ifany\")"
   ]
  },
  {
   "cell_type": "code",
   "execution_count": 87,
   "metadata": {
    "vscode": {
     "languageId": "r"
    }
   },
   "outputs": [
    {
     "data": {
      "text/html": [
       "<table class=\"dataframe\">\n",
       "<caption>A data.frame: 6 x 66</caption>\n",
       "<thead>\n",
       "\t<tr><th></th><th scope=col>sample_id</th><th scope=col>Patient</th><th scope=col>cycle</th><th scope=col>FOLD</th><th scope=col>ATC</th><th scope=col>Age</th><th scope=col>Disease_type</th><th scope=col>TE_fold</th><th scope=col>CD3</th><th scope=col>EM</th><th scope=col>...</th><th scope=col>estimated_Shannon</th><th scope=col>SE_Shannon</th><th scope=col>observed_Simpson</th><th scope=col>estimated_Simpson</th><th scope=col>SE_Simpson</th><th scope=col>basename</th><th scope=col>file</th><th scope=col>sampletype</th><th scope=col>Group</th><th scope=col>log10shann</th></tr>\n",
       "\t<tr><th></th><th scope=col>&lt;chr&gt;</th><th scope=col>&lt;chr&gt;</th><th scope=col>&lt;chr&gt;</th><th scope=col>&lt;dbl&gt;</th><th scope=col>&lt;dbl&gt;</th><th scope=col>&lt;dbl&gt;</th><th scope=col>&lt;chr&gt;</th><th scope=col>&lt;dbl&gt;</th><th scope=col>&lt;int&gt;</th><th scope=col>&lt;int&gt;</th><th scope=col>...</th><th scope=col>&lt;dbl&gt;</th><th scope=col>&lt;dbl&gt;</th><th scope=col>&lt;dbl&gt;</th><th scope=col>&lt;dbl&gt;</th><th scope=col>&lt;dbl&gt;</th><th scope=col>&lt;chr&gt;</th><th scope=col>&lt;chr&gt;</th><th scope=col>&lt;chr&gt;</th><th scope=col>&lt;chr&gt;</th><th scope=col>&lt;dbl&gt;</th></tr>\n",
       "</thead>\n",
       "<tbody>\n",
       "\t<tr><th scope=row>320</th><td>CHP_323_03</td><td>CHP_323</td><td>X03</td><td>0</td><td> 786.24</td><td>1</td><td>HR ALL</td><td>0</td><td>0</td><td>NA</td><td>...</td><td>37.986</td><td>0.367</td><td>33.204</td><td>33.544</td><td>0.638</td><td>CHP_323-03-PBMC-DNA</td><td>batch4_19Aug2019/mixcr/clones/CLONES_TRBCHP_323-03-PBMC-DNA.txt               </td><td>PBMC </td><td>CHP</td><td>1.5765947</td></tr>\n",
       "\t<tr><th scope=row>322</th><td>CHP_323_05</td><td>CHP_323</td><td>X05</td><td>0</td><td> 979.50</td><td>1</td><td>HR ALL</td><td>0</td><td>0</td><td>NA</td><td>...</td><td>85.174</td><td>2.255</td><td>32.669</td><td>33.190</td><td>2.327</td><td>CHP_323-05-PBMC-DNA</td><td>batch7_25Oct2019/mixcr/clones/CLONES_TRBCHP_323-05-PBMC-DNA.txt               </td><td>PBMC </td><td>CHP</td><td>1.9125037</td></tr>\n",
       "\t<tr><th scope=row>1</th><td>CHP_323_03</td><td>CHP_323</td><td>X03</td><td>0</td><td> 786.24</td><td>1</td><td>HR ALL</td><td>0</td><td>0</td><td>NA</td><td>...</td><td>43.456</td><td>0.145</td><td>31.052</td><td>31.063</td><td>0.159</td><td>CHP_323-03_cfDNA   </td><td>batch3a9_cfDNA_10Jul2020/mixcr/clones/CLONES_TRBCHP_323-03_cfDNA.txt          </td><td>cfDNA</td><td>CHP</td><td>1.6377198</td></tr>\n",
       "\t<tr><th scope=row>2</th><td>CHP_323_05</td><td>CHP_323</td><td>X05</td><td>0</td><td> 979.50</td><td>1</td><td>HR ALL</td><td>0</td><td>0</td><td>NA</td><td>...</td><td> 8.686</td><td>0.093</td><td> 6.804</td><td> 6.812</td><td>0.134</td><td>CHP_323-05_cfDNA   </td><td>remaining_batch_1_cfDNA_8April2021/mixcr/clones/CLONES_TRBCHP_323-05_cfDNA.txt</td><td>cfDNA</td><td>CHP</td><td>0.9380692</td></tr>\n",
       "\t<tr><th scope=row>318</th><td>CHP_323_01</td><td>CHP_323</td><td>X01</td><td>0</td><td> 154.75</td><td>1</td><td>HR ALL</td><td>0</td><td>0</td><td>NA</td><td>...</td><td>    NA</td><td>   NA</td><td>    NA</td><td>    NA</td><td>   NA</td><td>NA                 </td><td>NA                                                                            </td><td>PBMC </td><td>CHP</td><td>       NA</td></tr>\n",
       "\t<tr><th scope=row>319</th><td>CHP_323_02</td><td>CHP_323</td><td>X02</td><td>0</td><td>1397.28</td><td>1</td><td>HR ALL</td><td>0</td><td>0</td><td>NA</td><td>...</td><td>    NA</td><td>   NA</td><td>    NA</td><td>    NA</td><td>   NA</td><td>NA                 </td><td>NA                                                                            </td><td>PBMC </td><td>CHP</td><td>       NA</td></tr>\n",
       "</tbody>\n",
       "</table>\n"
      ],
      "text/latex": [
       "A data.frame: 6 x 66\n",
       "\\begin{tabular}{r|lllllllllllllllllllll}\n",
       "  & sample\\_id & Patient & cycle & FOLD & ATC & Age & Disease\\_type & TE\\_fold & CD3 & EM & ... & estimated\\_Shannon & SE\\_Shannon & observed\\_Simpson & estimated\\_Simpson & SE\\_Simpson & basename & file & sampletype & Group & log10shann\\\\\n",
       "  & <chr> & <chr> & <chr> & <dbl> & <dbl> & <dbl> & <chr> & <dbl> & <int> & <int> & ... & <dbl> & <dbl> & <dbl> & <dbl> & <dbl> & <chr> & <chr> & <chr> & <chr> & <dbl>\\\\\n",
       "\\hline\n",
       "\t320 & CHP\\_323\\_03 & CHP\\_323 & X03 & 0 &  786.24 & 1 & HR ALL & 0 & 0 & NA & ... & 37.986 & 0.367 & 33.204 & 33.544 & 0.638 & CHP\\_323-03-PBMC-DNA & batch4\\_19Aug2019/mixcr/clones/CLONES\\_TRBCHP\\_323-03-PBMC-DNA.txt                & PBMC  & CHP & 1.5765947\\\\\n",
       "\t322 & CHP\\_323\\_05 & CHP\\_323 & X05 & 0 &  979.50 & 1 & HR ALL & 0 & 0 & NA & ... & 85.174 & 2.255 & 32.669 & 33.190 & 2.327 & CHP\\_323-05-PBMC-DNA & batch7\\_25Oct2019/mixcr/clones/CLONES\\_TRBCHP\\_323-05-PBMC-DNA.txt                & PBMC  & CHP & 1.9125037\\\\\n",
       "\t1 & CHP\\_323\\_03 & CHP\\_323 & X03 & 0 &  786.24 & 1 & HR ALL & 0 & 0 & NA & ... & 43.456 & 0.145 & 31.052 & 31.063 & 0.159 & CHP\\_323-03\\_cfDNA    & batch3a9\\_cfDNA\\_10Jul2020/mixcr/clones/CLONES\\_TRBCHP\\_323-03\\_cfDNA.txt           & cfDNA & CHP & 1.6377198\\\\\n",
       "\t2 & CHP\\_323\\_05 & CHP\\_323 & X05 & 0 &  979.50 & 1 & HR ALL & 0 & 0 & NA & ... &  8.686 & 0.093 &  6.804 &  6.812 & 0.134 & CHP\\_323-05\\_cfDNA    & remaining\\_batch\\_1\\_cfDNA\\_8April2021/mixcr/clones/CLONES\\_TRBCHP\\_323-05\\_cfDNA.txt & cfDNA & CHP & 0.9380692\\\\\n",
       "\t318 & CHP\\_323\\_01 & CHP\\_323 & X01 & 0 &  154.75 & 1 & HR ALL & 0 & 0 & NA & ... &     NA &    NA &     NA &     NA &    NA & NA                  & NA                                                                             & PBMC  & CHP &        NA\\\\\n",
       "\t319 & CHP\\_323\\_02 & CHP\\_323 & X02 & 0 & 1397.28 & 1 & HR ALL & 0 & 0 & NA & ... &     NA &    NA &     NA &     NA &    NA & NA                  & NA                                                                             & PBMC  & CHP &        NA\\\\\n",
       "\\end{tabular}\n"
      ],
      "text/markdown": [
       "\n",
       "A data.frame: 6 x 66\n",
       "\n",
       "| <!--/--> | sample_id &lt;chr&gt; | Patient &lt;chr&gt; | cycle &lt;chr&gt; | FOLD &lt;dbl&gt; | ATC &lt;dbl&gt; | Age &lt;dbl&gt; | Disease_type &lt;chr&gt; | TE_fold &lt;dbl&gt; | CD3 &lt;int&gt; | EM &lt;int&gt; | ... ... | estimated_Shannon &lt;dbl&gt; | SE_Shannon &lt;dbl&gt; | observed_Simpson &lt;dbl&gt; | estimated_Simpson &lt;dbl&gt; | SE_Simpson &lt;dbl&gt; | basename &lt;chr&gt; | file &lt;chr&gt; | sampletype &lt;chr&gt; | Group &lt;chr&gt; | log10shann &lt;dbl&gt; |\n",
       "|---|---|---|---|---|---|---|---|---|---|---|---|---|---|---|---|---|---|---|---|---|---|\n",
       "| 320 | CHP_323_03 | CHP_323 | X03 | 0 |  786.24 | 1 | HR ALL | 0 | 0 | NA | ... | 37.986 | 0.367 | 33.204 | 33.544 | 0.638 | CHP_323-03-PBMC-DNA | batch4_19Aug2019/mixcr/clones/CLONES_TRBCHP_323-03-PBMC-DNA.txt                | PBMC  | CHP | 1.5765947 |\n",
       "| 322 | CHP_323_05 | CHP_323 | X05 | 0 |  979.50 | 1 | HR ALL | 0 | 0 | NA | ... | 85.174 | 2.255 | 32.669 | 33.190 | 2.327 | CHP_323-05-PBMC-DNA | batch7_25Oct2019/mixcr/clones/CLONES_TRBCHP_323-05-PBMC-DNA.txt                | PBMC  | CHP | 1.9125037 |\n",
       "| 1 | CHP_323_03 | CHP_323 | X03 | 0 |  786.24 | 1 | HR ALL | 0 | 0 | NA | ... | 43.456 | 0.145 | 31.052 | 31.063 | 0.159 | CHP_323-03_cfDNA    | batch3a9_cfDNA_10Jul2020/mixcr/clones/CLONES_TRBCHP_323-03_cfDNA.txt           | cfDNA | CHP | 1.6377198 |\n",
       "| 2 | CHP_323_05 | CHP_323 | X05 | 0 |  979.50 | 1 | HR ALL | 0 | 0 | NA | ... |  8.686 | 0.093 |  6.804 |  6.812 | 0.134 | CHP_323-05_cfDNA    | remaining_batch_1_cfDNA_8April2021/mixcr/clones/CLONES_TRBCHP_323-05_cfDNA.txt | cfDNA | CHP | 0.9380692 |\n",
       "| 318 | CHP_323_01 | CHP_323 | X01 | 0 |  154.75 | 1 | HR ALL | 0 | 0 | NA | ... |     NA |    NA |     NA |     NA |    NA | NA                  | NA                                                                             | PBMC  | CHP |        NA |\n",
       "| 319 | CHP_323_02 | CHP_323 | X02 | 0 | 1397.28 | 1 | HR ALL | 0 | 0 | NA | ... |     NA |    NA |     NA |     NA |    NA | NA                  | NA                                                                             | PBMC  | CHP |        NA |\n",
       "\n"
      ],
      "text/plain": [
       "    sample_id  Patient cycle FOLD ATC     Age Disease_type TE_fold CD3 EM ...\n",
       "320 CHP_323_03 CHP_323 X03   0     786.24 1   HR ALL       0       0   NA ...\n",
       "322 CHP_323_05 CHP_323 X05   0     979.50 1   HR ALL       0       0   NA ...\n",
       "1   CHP_323_03 CHP_323 X03   0     786.24 1   HR ALL       0       0   NA ...\n",
       "2   CHP_323_05 CHP_323 X05   0     979.50 1   HR ALL       0       0   NA ...\n",
       "318 CHP_323_01 CHP_323 X01   0     154.75 1   HR ALL       0       0   NA ...\n",
       "319 CHP_323_02 CHP_323 X02   0    1397.28 1   HR ALL       0       0   NA ...\n",
       "    estimated_Shannon SE_Shannon observed_Simpson estimated_Simpson SE_Simpson\n",
       "320 37.986            0.367      33.204           33.544            0.638     \n",
       "322 85.174            2.255      32.669           33.190            2.327     \n",
       "1   43.456            0.145      31.052           31.063            0.159     \n",
       "2    8.686            0.093       6.804            6.812            0.134     \n",
       "318     NA               NA          NA               NA               NA     \n",
       "319     NA               NA          NA               NA               NA     \n",
       "    basename           \n",
       "320 CHP_323-03-PBMC-DNA\n",
       "322 CHP_323-05-PBMC-DNA\n",
       "1   CHP_323-03_cfDNA   \n",
       "2   CHP_323-05_cfDNA   \n",
       "318 NA                 \n",
       "319 NA                 \n",
       "    file                                                                          \n",
       "320 batch4_19Aug2019/mixcr/clones/CLONES_TRBCHP_323-03-PBMC-DNA.txt               \n",
       "322 batch7_25Oct2019/mixcr/clones/CLONES_TRBCHP_323-05-PBMC-DNA.txt               \n",
       "1   batch3a9_cfDNA_10Jul2020/mixcr/clones/CLONES_TRBCHP_323-03_cfDNA.txt          \n",
       "2   remaining_batch_1_cfDNA_8April2021/mixcr/clones/CLONES_TRBCHP_323-05_cfDNA.txt\n",
       "318 NA                                                                            \n",
       "319 NA                                                                            \n",
       "    sampletype Group log10shann\n",
       "320 PBMC       CHP   1.5765947 \n",
       "322 PBMC       CHP   1.9125037 \n",
       "1   cfDNA      CHP   1.6377198 \n",
       "2   cfDNA      CHP   0.9380692 \n",
       "318 PBMC       CHP          NA \n",
       "319 PBMC       CHP          NA "
      ]
     },
     "metadata": {},
     "output_type": "display_data"
    }
   ],
   "source": [
    "meta_div[meta_div$Patient == \"CHP_323\", ]\n"
   ]
  },
  {
   "cell_type": "code",
   "execution_count": 88,
   "metadata": {
    "vscode": {
     "languageId": "r"
    }
   },
   "outputs": [],
   "source": [
    "for(p in unique(subset_meta$Patient)){\n",
    "    x <- subset_meta[subset_meta$Patient == p, ]\n",
    "    mydat <- datatype.fx(x)\n",
    "}"
   ]
  },
  {
   "cell_type": "code",
   "execution_count": 89,
   "metadata": {
    "vscode": {
     "languageId": "r"
    }
   },
   "outputs": [
    {
     "data": {
      "text/html": [
       "<style>\n",
       ".list-inline {list-style: none; margin:0; padding: 0}\n",
       ".list-inline>li {display: inline-block}\n",
       ".list-inline>li:not(:last-child)::after {content: \"\\00b7\"; padding: 0 .5ex}\n",
       "</style>\n",
       "<ol class=list-inline><li>119</li><li>20</li></ol>\n"
      ],
      "text/latex": [
       "\\begin{enumerate*}\n",
       "\\item 119\n",
       "\\item 20\n",
       "\\end{enumerate*}\n"
      ],
      "text/markdown": [
       "1. 119\n",
       "2. 20\n",
       "\n",
       "\n"
      ],
      "text/plain": [
       "[1] 119  20"
      ]
     },
     "metadata": {},
     "output_type": "display_data"
    }
   ],
   "source": [
    "dim(mydat)"
   ]
  },
  {
   "cell_type": "code",
   "execution_count": 90,
   "metadata": {
    "vscode": {
     "languageId": "r"
    }
   },
   "outputs": [
    {
     "data": {
      "text/html": [
       "<table class=\"dataframe\">\n",
       "<caption>A matrix: 6 x 20 of type dbl</caption>\n",
       "<thead>\n",
       "\t<tr><th></th><th scope=col>PBMC_1</th><th scope=col>PBMC_2</th><th scope=col>PBMC_3</th><th scope=col>PBMC_4</th><th scope=col>PBMC_5</th><th scope=col>cfDNA_1</th><th scope=col>cfDNA_2</th><th scope=col>cfDNA_3</th><th scope=col>cfDNA_4</th><th scope=col>cfDNA_5</th><th scope=col>FOLD_1</th><th scope=col>FOLD_2</th><th scope=col>FOLD_3</th><th scope=col>FOLD_4</th><th scope=col>FOLD_5</th><th scope=col>CD3_1</th><th scope=col>CD3_2</th><th scope=col>CD3_3</th><th scope=col>CD3_4</th><th scope=col>CD3_5</th></tr>\n",
       "</thead>\n",
       "<tbody>\n",
       "\t<tr><th scope=row>CHP_319</th><td>NA</td><td>NA</td><td>NA</td><td>NA</td><td> 1</td><td>NA</td><td>NA</td><td>NA</td><td>NA</td><td>NA</td><td> 1</td><td> 1</td><td> 1</td><td> 1</td><td> 1</td><td> 1</td><td> 1</td><td> 1</td><td> 1</td><td> 1</td></tr>\n",
       "\t<tr><th scope=row>CHP_323</th><td>NA</td><td>NA</td><td> 1</td><td>NA</td><td> 1</td><td>NA</td><td>NA</td><td> 1</td><td>NA</td><td> 1</td><td> 1</td><td> 1</td><td> 1</td><td>NA</td><td> 1</td><td> 1</td><td> 1</td><td> 1</td><td>NA</td><td> 1</td></tr>\n",
       "\t<tr><th scope=row>CHP_324</th><td>NA</td><td>NA</td><td>NA</td><td>NA</td><td>12</td><td>NA</td><td>NA</td><td>NA</td><td>12</td><td>12</td><td>12</td><td>12</td><td>12</td><td>12</td><td>12</td><td>12</td><td>12</td><td>12</td><td>12</td><td>12</td></tr>\n",
       "\t<tr><th scope=row>CHP_328</th><td>NA</td><td>NA</td><td>NA</td><td> 7</td><td> 7</td><td>NA</td><td>NA</td><td>NA</td><td>NA</td><td> 7</td><td> 7</td><td> 7</td><td> 7</td><td> 7</td><td> 7</td><td> 7</td><td> 7</td><td> 7</td><td> 7</td><td> 7</td></tr>\n",
       "\t<tr><th scope=row>CHP_330</th><td>NA</td><td>NA</td><td>NA</td><td>NA</td><td> 5</td><td>NA</td><td>NA</td><td>NA</td><td> 5</td><td>NA</td><td> 5</td><td> 5</td><td> 5</td><td> 5</td><td> 5</td><td> 5</td><td> 5</td><td> 5</td><td> 5</td><td> 5</td></tr>\n",
       "\t<tr><th scope=row>CHP_331</th><td>NA</td><td>NA</td><td>NA</td><td> 5</td><td> 5</td><td>NA</td><td>NA</td><td>NA</td><td>NA</td><td> 5</td><td> 5</td><td> 5</td><td> 5</td><td> 5</td><td> 5</td><td> 5</td><td> 5</td><td> 5</td><td> 5</td><td> 5</td></tr>\n",
       "</tbody>\n",
       "</table>\n"
      ],
      "text/latex": [
       "A matrix: 6 x 20 of type dbl\n",
       "\\begin{tabular}{r|llllllllllllllllllll}\n",
       "  & PBMC\\_1 & PBMC\\_2 & PBMC\\_3 & PBMC\\_4 & PBMC\\_5 & cfDNA\\_1 & cfDNA\\_2 & cfDNA\\_3 & cfDNA\\_4 & cfDNA\\_5 & FOLD\\_1 & FOLD\\_2 & FOLD\\_3 & FOLD\\_4 & FOLD\\_5 & CD3\\_1 & CD3\\_2 & CD3\\_3 & CD3\\_4 & CD3\\_5\\\\\n",
       "\\hline\n",
       "\tCHP\\_319 & NA & NA & NA & NA &  1 & NA & NA & NA & NA & NA &  1 &  1 &  1 &  1 &  1 &  1 &  1 &  1 &  1 &  1\\\\\n",
       "\tCHP\\_323 & NA & NA &  1 & NA &  1 & NA & NA &  1 & NA &  1 &  1 &  1 &  1 & NA &  1 &  1 &  1 &  1 & NA &  1\\\\\n",
       "\tCHP\\_324 & NA & NA & NA & NA & 12 & NA & NA & NA & 12 & 12 & 12 & 12 & 12 & 12 & 12 & 12 & 12 & 12 & 12 & 12\\\\\n",
       "\tCHP\\_328 & NA & NA & NA &  7 &  7 & NA & NA & NA & NA &  7 &  7 &  7 &  7 &  7 &  7 &  7 &  7 &  7 &  7 &  7\\\\\n",
       "\tCHP\\_330 & NA & NA & NA & NA &  5 & NA & NA & NA &  5 & NA &  5 &  5 &  5 &  5 &  5 &  5 &  5 &  5 &  5 &  5\\\\\n",
       "\tCHP\\_331 & NA & NA & NA &  5 &  5 & NA & NA & NA & NA &  5 &  5 &  5 &  5 &  5 &  5 &  5 &  5 &  5 &  5 &  5\\\\\n",
       "\\end{tabular}\n"
      ],
      "text/markdown": [
       "\n",
       "A matrix: 6 x 20 of type dbl\n",
       "\n",
       "| <!--/--> | PBMC_1 | PBMC_2 | PBMC_3 | PBMC_4 | PBMC_5 | cfDNA_1 | cfDNA_2 | cfDNA_3 | cfDNA_4 | cfDNA_5 | FOLD_1 | FOLD_2 | FOLD_3 | FOLD_4 | FOLD_5 | CD3_1 | CD3_2 | CD3_3 | CD3_4 | CD3_5 |\n",
       "|---|---|---|---|---|---|---|---|---|---|---|---|---|---|---|---|---|---|---|---|---|\n",
       "| CHP_319 | NA | NA | NA | NA |  1 | NA | NA | NA | NA | NA |  1 |  1 |  1 |  1 |  1 |  1 |  1 |  1 |  1 |  1 |\n",
       "| CHP_323 | NA | NA |  1 | NA |  1 | NA | NA |  1 | NA |  1 |  1 |  1 |  1 | NA |  1 |  1 |  1 |  1 | NA |  1 |\n",
       "| CHP_324 | NA | NA | NA | NA | 12 | NA | NA | NA | 12 | 12 | 12 | 12 | 12 | 12 | 12 | 12 | 12 | 12 | 12 | 12 |\n",
       "| CHP_328 | NA | NA | NA |  7 |  7 | NA | NA | NA | NA |  7 |  7 |  7 |  7 |  7 |  7 |  7 |  7 |  7 |  7 |  7 |\n",
       "| CHP_330 | NA | NA | NA | NA |  5 | NA | NA | NA |  5 | NA |  5 |  5 |  5 |  5 |  5 |  5 |  5 |  5 |  5 |  5 |\n",
       "| CHP_331 | NA | NA | NA |  5 |  5 | NA | NA | NA | NA |  5 |  5 |  5 |  5 |  5 |  5 |  5 |  5 |  5 |  5 |  5 |\n",
       "\n"
      ],
      "text/plain": [
       "        PBMC_1 PBMC_2 PBMC_3 PBMC_4 PBMC_5 cfDNA_1 cfDNA_2 cfDNA_3 cfDNA_4\n",
       "CHP_319 NA     NA     NA     NA      1     NA      NA      NA      NA     \n",
       "CHP_323 NA     NA      1     NA      1     NA      NA       1      NA     \n",
       "CHP_324 NA     NA     NA     NA     12     NA      NA      NA      12     \n",
       "CHP_328 NA     NA     NA      7      7     NA      NA      NA      NA     \n",
       "CHP_330 NA     NA     NA     NA      5     NA      NA      NA       5     \n",
       "CHP_331 NA     NA     NA      5      5     NA      NA      NA      NA     \n",
       "        cfDNA_5 FOLD_1 FOLD_2 FOLD_3 FOLD_4 FOLD_5 CD3_1 CD3_2 CD3_3 CD3_4\n",
       "CHP_319 NA       1      1      1      1      1      1     1     1     1   \n",
       "CHP_323  1       1      1      1     NA      1      1     1     1    NA   \n",
       "CHP_324 12      12     12     12     12     12     12    12    12    12   \n",
       "CHP_328  7       7      7      7      7      7      7     7     7     7   \n",
       "CHP_330 NA       5      5      5      5      5      5     5     5     5   \n",
       "CHP_331  5       5      5      5      5      5      5     5     5     5   \n",
       "        CD3_5\n",
       "CHP_319  1   \n",
       "CHP_323  1   \n",
       "CHP_324 12   \n",
       "CHP_328  7   \n",
       "CHP_330  5   \n",
       "CHP_331  5   "
      ]
     },
     "metadata": {},
     "output_type": "display_data"
    }
   ],
   "source": [
    "head(mydat)"
   ]
  },
  {
   "cell_type": "code",
   "execution_count": 91,
   "metadata": {
    "vscode": {
     "languageId": "r"
    }
   },
   "outputs": [],
   "source": [
    "mydat_m <- reshape2::melt(mydat, na.rm = TRUE)"
   ]
  },
  {
   "cell_type": "code",
   "execution_count": 92,
   "metadata": {
    "vscode": {
     "languageId": "r"
    }
   },
   "outputs": [],
   "source": [
    "mydat_m$cycle <- gsub(\".*_\", \"\", mydat_m$Var2)\n",
    "mydat_m$Datatype <- gsub(\"_.*\", \"\", mydat_m$Var2)"
   ]
  },
  {
   "cell_type": "code",
   "execution_count": 93,
   "metadata": {
    "vscode": {
     "languageId": "r"
    }
   },
   "outputs": [],
   "source": [
    "mydat_m$cycle <- as.factor(mydat_m$cycle)"
   ]
  },
  {
   "cell_type": "code",
   "execution_count": 94,
   "metadata": {
    "vscode": {
     "languageId": "r"
    }
   },
   "outputs": [],
   "source": [
    "mydat_m$cancergroup <- subset_meta$cancergroup[match(mydat_m$Var1, subset_meta$Patient)]"
   ]
  },
  {
   "cell_type": "code",
   "execution_count": 95,
   "metadata": {
    "vscode": {
     "languageId": "r"
    }
   },
   "outputs": [
    {
     "data": {
      "text/plain": [
       "\n",
       "  CD3  FOLD  PBMC cfDNA \n",
       "  533   528   197   274 "
      ]
     },
     "metadata": {},
     "output_type": "display_data"
    }
   ],
   "source": [
    "table(mydat_m$Datatype, useNA = \"ifany\")"
   ]
  },
  {
   "cell_type": "code",
   "execution_count": 96,
   "metadata": {
    "vscode": {
     "languageId": "r"
    }
   },
   "outputs": [
    {
     "data": {
      "text/html": [
       "<table class=\"dataframe\">\n",
       "<caption>A data.frame: 6 x 6</caption>\n",
       "<thead>\n",
       "\t<tr><th></th><th scope=col>Var1</th><th scope=col>Var2</th><th scope=col>value</th><th scope=col>cycle</th><th scope=col>Datatype</th><th scope=col>cancergroup</th></tr>\n",
       "\t<tr><th></th><th scope=col>&lt;fct&gt;</th><th scope=col>&lt;fct&gt;</th><th scope=col>&lt;dbl&gt;</th><th scope=col>&lt;fct&gt;</th><th scope=col>&lt;chr&gt;</th><th scope=col>&lt;chr&gt;</th></tr>\n",
       "</thead>\n",
       "<tbody>\n",
       "\t<tr><th scope=row>15</th><td>CHP_346</td><td>PBMC_1</td><td> 1</td><td>1</td><td>PBMC</td><td>Solid tumors</td></tr>\n",
       "\t<tr><th scope=row>16</th><td>CHP_347</td><td>PBMC_1</td><td>13</td><td>1</td><td>PBMC</td><td>Leukemia    </td></tr>\n",
       "\t<tr><th scope=row>17</th><td>CHP_348</td><td>PBMC_1</td><td>18</td><td>1</td><td>PBMC</td><td>Solid tumors</td></tr>\n",
       "\t<tr><th scope=row>18</th><td>CHP_349</td><td>PBMC_1</td><td>17</td><td>1</td><td>PBMC</td><td>Leukemia    </td></tr>\n",
       "\t<tr><th scope=row>19</th><td>CHP_350</td><td>PBMC_1</td><td> 1</td><td>1</td><td>PBMC</td><td>Solid tumors</td></tr>\n",
       "\t<tr><th scope=row>21</th><td>CHP_352</td><td>PBMC_1</td><td>17</td><td>1</td><td>PBMC</td><td>Leukemia    </td></tr>\n",
       "</tbody>\n",
       "</table>\n"
      ],
      "text/latex": [
       "A data.frame: 6 x 6\n",
       "\\begin{tabular}{r|llllll}\n",
       "  & Var1 & Var2 & value & cycle & Datatype & cancergroup\\\\\n",
       "  & <fct> & <fct> & <dbl> & <fct> & <chr> & <chr>\\\\\n",
       "\\hline\n",
       "\t15 & CHP\\_346 & PBMC\\_1 &  1 & 1 & PBMC & Solid tumors\\\\\n",
       "\t16 & CHP\\_347 & PBMC\\_1 & 13 & 1 & PBMC & Leukemia    \\\\\n",
       "\t17 & CHP\\_348 & PBMC\\_1 & 18 & 1 & PBMC & Solid tumors\\\\\n",
       "\t18 & CHP\\_349 & PBMC\\_1 & 17 & 1 & PBMC & Leukemia    \\\\\n",
       "\t19 & CHP\\_350 & PBMC\\_1 &  1 & 1 & PBMC & Solid tumors\\\\\n",
       "\t21 & CHP\\_352 & PBMC\\_1 & 17 & 1 & PBMC & Leukemia    \\\\\n",
       "\\end{tabular}\n"
      ],
      "text/markdown": [
       "\n",
       "A data.frame: 6 x 6\n",
       "\n",
       "| <!--/--> | Var1 &lt;fct&gt; | Var2 &lt;fct&gt; | value &lt;dbl&gt; | cycle &lt;fct&gt; | Datatype &lt;chr&gt; | cancergroup &lt;chr&gt; |\n",
       "|---|---|---|---|---|---|---|\n",
       "| 15 | CHP_346 | PBMC_1 |  1 | 1 | PBMC | Solid tumors |\n",
       "| 16 | CHP_347 | PBMC_1 | 13 | 1 | PBMC | Leukemia     |\n",
       "| 17 | CHP_348 | PBMC_1 | 18 | 1 | PBMC | Solid tumors |\n",
       "| 18 | CHP_349 | PBMC_1 | 17 | 1 | PBMC | Leukemia     |\n",
       "| 19 | CHP_350 | PBMC_1 |  1 | 1 | PBMC | Solid tumors |\n",
       "| 21 | CHP_352 | PBMC_1 | 17 | 1 | PBMC | Leukemia     |\n",
       "\n"
      ],
      "text/plain": [
       "   Var1    Var2   value cycle Datatype cancergroup \n",
       "15 CHP_346 PBMC_1  1    1     PBMC     Solid tumors\n",
       "16 CHP_347 PBMC_1 13    1     PBMC     Leukemia    \n",
       "17 CHP_348 PBMC_1 18    1     PBMC     Solid tumors\n",
       "18 CHP_349 PBMC_1 17    1     PBMC     Leukemia    \n",
       "19 CHP_350 PBMC_1  1    1     PBMC     Solid tumors\n",
       "21 CHP_352 PBMC_1 17    1     PBMC     Leukemia    "
      ]
     },
     "metadata": {},
     "output_type": "display_data"
    }
   ],
   "source": [
    "head(mydat_m)"
   ]
  },
  {
   "cell_type": "code",
   "execution_count": 97,
   "metadata": {
    "vscode": {
     "languageId": "r"
    }
   },
   "outputs": [],
   "source": [
    "patients_cycles <- cbind.data.frame( unique(mydat_m$Var1), \"5\")\n",
    "colnames(patients_cycles) <- c(\"Patient\", \"cycle\")\n",
    "patients_cycles$Patient <- as.character(patients_cycles$Patient)\n",
    "\n",
    "patients_cycles$cancergroup <- subset_meta$cancergroup[match(patients_cycles$Patient, subset_meta$Patient)]\n",
    "patients_cycles$Disease_type <- subset_meta$Disease_type[match(patients_cycles$Patient, subset_meta$Patient)]\n",
    "patients_cycles$Age <- subset_meta$Age[match(patients_cycles$Patient, subset_meta$Patient)]"
   ]
  },
  {
   "cell_type": "code",
   "execution_count": 98,
   "metadata": {
    "vscode": {
     "languageId": "r"
    }
   },
   "outputs": [],
   "source": [
    "# order by cancertype, diseasetype, age\n",
    "tmp <- meta_div[!duplicated(meta_div$Patient),]"
   ]
  },
  {
   "cell_type": "code",
   "execution_count": 99,
   "metadata": {
    "vscode": {
     "languageId": "r"
    }
   },
   "outputs": [
    {
     "data": {
      "text/html": [
       "<style>\n",
       ".list-inline {list-style: none; margin:0; padding: 0}\n",
       ".list-inline>li {display: inline-block}\n",
       ".list-inline>li:not(:last-child)::after {content: \"\\00b7\"; padding: 0 .5ex}\n",
       "</style>\n",
       "<ol class=list-inline><li>119</li><li>66</li></ol>\n"
      ],
      "text/latex": [
       "\\begin{enumerate*}\n",
       "\\item 119\n",
       "\\item 66\n",
       "\\end{enumerate*}\n"
      ],
      "text/markdown": [
       "1. 119\n",
       "2. 66\n",
       "\n",
       "\n"
      ],
      "text/plain": [
       "[1] 119  66"
      ]
     },
     "metadata": {},
     "output_type": "display_data"
    }
   ],
   "source": [
    "dim(tmp)"
   ]
  },
  {
   "cell_type": "code",
   "execution_count": 100,
   "metadata": {
    "vscode": {
     "languageId": "r"
    }
   },
   "outputs": [],
   "source": [
    "myorder <- tmp$Patient[order(\n",
    "    tmp$cancergroup,\n",
    "    tmp$LOF, tmp$vital_status, tmp$Relapse )]\n",
    "    # tmp$Disease_type, patients_cycles$Age"
   ]
  },
  {
   "cell_type": "code",
   "execution_count": 101,
   "metadata": {
    "vscode": {
     "languageId": "r"
    }
   },
   "outputs": [],
   "source": [
    "patients_cycles$Patient <- factor(patients_cycles$Patient, levels = myorder)"
   ]
  },
  {
   "cell_type": "code",
   "execution_count": 102,
   "metadata": {
    "vscode": {
     "languageId": "r"
    }
   },
   "outputs": [],
   "source": [
    "mydat_m$Var1 <- factor(mydat_m$Var1, levels = levels(patients_cycles$Patient))"
   ]
  },
  {
   "cell_type": "code",
   "execution_count": 103,
   "metadata": {
    "vscode": {
     "languageId": "r"
    }
   },
   "outputs": [],
   "source": [
    "patients_cycles$cycle <- as.numeric(patients_cycles$cycle)"
   ]
  },
  {
   "cell_type": "code",
   "execution_count": 104,
   "metadata": {
    "vscode": {
     "languageId": "r"
    }
   },
   "outputs": [],
   "source": [
    "mydat_m$cycle <- as.numeric(mydat_m$cycle)"
   ]
  },
  {
   "cell_type": "code",
   "execution_count": 105,
   "metadata": {
    "vscode": {
     "languageId": "r"
    }
   },
   "outputs": [],
   "source": [
    "# recode cycle to 6, just for plotting\n",
    "patients_cycles$cycle <- ifelse(patients_cycles$cycle == 5, 6, patients_cycles$cycle)"
   ]
  },
  {
   "cell_type": "code",
   "execution_count": 106,
   "metadata": {
    "vscode": {
     "languageId": "r"
    }
   },
   "outputs": [],
   "source": [
    "mydat_m$Var2 <- as.character(mydat_m$Var2)"
   ]
  },
  {
   "cell_type": "code",
   "execution_count": 107,
   "metadata": {
    "vscode": {
     "languageId": "r"
    }
   },
   "outputs": [],
   "source": [
    "mydat_m$Datatype[mydat_m$Datatype == \"PBMC\"] <- \"CapTCR-seq(PBMC)\"\n",
    "mydat_m$Datatype[mydat_m$Datatype == \"cfDNA\"] <- \"CapTCR-seq(cfDNA)\"\n",
    "mydat_m$Datatype[mydat_m$Datatype == \"FOLD\"] <- \"ex vivo T-cell expansion\"\n",
    "mydat_m$Datatype[mydat_m$Datatype == \"CD3\"] <- \"Flow cytometry\""
   ]
  },
  {
   "cell_type": "code",
   "execution_count": 108,
   "metadata": {
    "vscode": {
     "languageId": "r"
    }
   },
   "outputs": [],
   "source": [
    "mydat_m$newcycle <- NA\n",
    "\n",
    "for(i in 1:5){\n",
    "    mydat_m$newcycle[mydat_m$cycle == i & mydat_m$Datatype == \"CapTCR-seq(PBMC)\"] <- i-0.2\n",
    "    mydat_m$newcycle[mydat_m$cycle == i & mydat_m$Datatype == \"CapTCR-seq(cfDNA)\"] <- i-0.1\n",
    "    mydat_m$newcycle[mydat_m$cycle == i & mydat_m$Datatype == \"ex vivo T-cell expansion\"] <- i + 0.1\n",
    "    mydat_m$newcycle[mydat_m$cycle == i & mydat_m$Datatype == \"Flow cytometry\"] <- i+ 0.2\n",
    "}"
   ]
  },
  {
   "cell_type": "code",
   "execution_count": 109,
   "metadata": {
    "vscode": {
     "languageId": "r"
    }
   },
   "outputs": [
    {
     "data": {
      "text/html": [
       "<style>\n",
       ".list-inline {list-style: none; margin:0; padding: 0}\n",
       ".list-inline>li {display: inline-block}\n",
       ".list-inline>li:not(:last-child)::after {content: \"\\00b7\"; padding: 0 .5ex}\n",
       "</style>\n",
       "<ol class=list-inline><li>119</li><li>5</li></ol>\n"
      ],
      "text/latex": [
       "\\begin{enumerate*}\n",
       "\\item 119\n",
       "\\item 5\n",
       "\\end{enumerate*}\n"
      ],
      "text/markdown": [
       "1. 119\n",
       "2. 5\n",
       "\n",
       "\n"
      ],
      "text/plain": [
       "[1] 119   5"
      ]
     },
     "metadata": {},
     "output_type": "display_data"
    }
   ],
   "source": [
    "dim(patients_cycles)"
   ]
  },
  {
   "cell_type": "code",
   "execution_count": 110,
   "metadata": {
    "vscode": {
     "languageId": "r"
    }
   },
   "outputs": [],
   "source": [
    "p0 <- ggplot(patients_cycles, aes(Patient, cycle)) +\n",
    "  geom_bar(stat = \"identity\", aes(fill = cancergroup), width = 0.8, alpha = 0.2) +\n",
    "  geom_point(data = mydat_m, aes(Var1, newcycle, colour = Datatype, shape = Datatype), size = 1.5) +\n",
    "  coord_flip() +\n",
    "  scale_fill_manual(values = group_col[c(\"Leukemia\", \"Lymphoma\", \"Solid tumors\")]) +\n",
    "  scale_color_brewer(palette = \"Set1\") +\n",
    "  scale_shape_manual(values = c(15, 16, 17, 18)) +\n",
    "  scale_y_continuous(expand = c(0, 0), limits = c(0, 6), breaks = c(1, 2, 3, 4, 5), labels = c(\"Pre-cycle 1\", \"Pre-cycle 2\", \"Pre-cycle 3\", \"Pre-cycle 4\", \"Pre-cycle 5\")) +\n",
    "  myplot +\n",
    "  theme(\n",
    "    axis.title.y = element_blank(), \n",
    "    axis.text.y = element_text(size = 10), \n",
    "    axis.ticks.x = element_blank(), \n",
    "    plot.margin = unit(c(0.1, 0.2, 0.1, 0.2), \"cm\"),\n",
    "    axis.line.x = element_line(colour = \"black\"), \n",
    "    axis.text.x = element_text(size = 20, angle = 45, hjust = 1), \n",
    "    axis.title.x = element_blank()\n",
    "  )\n"
   ]
  },
  {
   "cell_type": "code",
   "execution_count": 111,
   "metadata": {
    "vscode": {
     "languageId": "r"
    }
   },
   "outputs": [
    {
     "data": {
      "image/png": "[encoded data removed]",
      "text/plain": [
       "plot without title"
      ]
     },
     "metadata": {
      "image/png": {
       "height": 420,
       "width": 420
      }
     },
     "output_type": "display_data"
    }
   ],
   "source": [
    "p0"
   ]
  },
  {
   "attachments": {},
   "cell_type": "markdown",
   "metadata": {},
   "source": [
    "age barplot on the right"
   ]
  },
  {
   "cell_type": "code",
   "execution_count": 112,
   "metadata": {
    "vscode": {
     "languageId": "r"
    }
   },
   "outputs": [
    {
     "data": {
      "text/html": [
       "<style>\n",
       ".dl-inline {width: auto; margin:0; padding: 0}\n",
       ".dl-inline>dt, .dl-inline>dd {float: none; width: auto; display: inline-block}\n",
       ".dl-inline>dt::after {content: \":\\0020\"; padding-right: .5ex}\n",
       ".dl-inline>dt:not(:first-of-type) {padding-left: .5ex}\n",
       "</style><dl class=dl-inline><dt>Leukemia</dt><dd>'#1B9E77'</dd><dt>Lymphoma</dt><dd>'#D95F02'</dd><dt>Solid tumors</dt><dd>'#7570B3'</dd><dt>LFS</dt><dd>'black'</dd><dt>Normal</dt><dd>'light grey'</dd></dl>\n"
      ],
      "text/latex": [
       "\\begin{description*}\n",
       "\\item[Leukemia] '\\#1B9E77'\n",
       "\\item[Lymphoma] '\\#D95F02'\n",
       "\\item[Solid tumors] '\\#7570B3'\n",
       "\\item[LFS] 'black'\n",
       "\\item[Normal] 'light grey'\n",
       "\\end{description*}\n"
      ],
      "text/markdown": [
       "Leukemia\n",
       ":   '#1B9E77'Lymphoma\n",
       ":   '#D95F02'Solid tumors\n",
       ":   '#7570B3'LFS\n",
       ":   'black'Normal\n",
       ":   'light grey'\n",
       "\n"
      ],
      "text/plain": [
       "    Leukemia     Lymphoma Solid tumors          LFS       Normal \n",
       "   \"#1B9E77\"    \"#D95F02\"    \"#7570B3\"      \"black\" \"light grey\" "
      ]
     },
     "metadata": {},
     "output_type": "display_data"
    }
   ],
   "source": [
    "group_col"
   ]
  },
  {
   "cell_type": "code",
   "execution_count": 113,
   "metadata": {
    "vscode": {
     "languageId": "r"
    }
   },
   "outputs": [],
   "source": [
    "p1 <- ggplot(patients_cycles, aes(Patient, Age)) +\n",
    "  geom_bar(stat = \"identity\", aes(fill = cancergroup), width = 0.8, alpha = 0.2) +\n",
    "  coord_flip() +\n",
    "  scale_fill_manual(values = group_col[c(\"Leukemia\", \"Lymphoma\", \"Solid tumors\")]) +\n",
    "  myplot +\n",
    "  theme(\n",
    "    legend.position = \"none\", plot.margin = unit(c(0.1, 0.1, 0.1, 0.2), \"cm\"),\n",
    "    axis.text.y = element_blank(), axis.title.y = element_blank(), axis.title.x = element_text(size = 20),\n",
    "    axis.line.x = element_line(colour = \"black\"), axis.text.x = element_text(size = 20)\n",
    "  )"
   ]
  },
  {
   "cell_type": "code",
   "execution_count": 114,
   "metadata": {
    "vscode": {
     "languageId": "r"
    }
   },
   "outputs": [],
   "source": [
    "# Add disease type as labels\n",
    "p0 <- p0 + theme(legend.position = \"none\") +\n",
    "scale_x_discrete(labels = patients_cycles$Disease_type[match(levels(patients_cycles$Patient), patients_cycles$Patient)]) "
   ]
  },
  {
   "cell_type": "code",
   "execution_count": 115,
   "metadata": {
    "vscode": {
     "languageId": "r"
    }
   },
   "outputs": [
    {
     "data": {
      "text/plain": [
       "\n",
       "    Leukemia     Lymphoma Solid tumors \n",
       "          59           21           39 "
      ]
     },
     "metadata": {},
     "output_type": "display_data"
    }
   ],
   "source": [
    "table(patients_cycles$cancergroup)"
   ]
  },
  {
   "cell_type": "code",
   "execution_count": 116,
   "metadata": {
    "vscode": {
     "languageId": "r"
    }
   },
   "outputs": [
    {
     "data": {
      "text/plain": [
       "\n",
       "    Leukemia     Lymphoma Solid tumors \n",
       "          59           21           39 "
      ]
     },
     "metadata": {},
     "output_type": "display_data"
    }
   ],
   "source": [
    "table(patients_cycles$cancergroup)"
   ]
  },
  {
   "cell_type": "code",
   "execution_count": 117,
   "metadata": {
    "vscode": {
     "languageId": "r"
    }
   },
   "outputs": [],
   "source": [
    "p1b <- p1 + geom_bracket(xmin = c(1, 60, 81), xmax = c(59, 80, 119), y.position = c(22, 22,22),\n",
    "  label.size = 7, label = c(\"\", \"\", \"\"), coord.flip = T) + # changes the orientaitons of labels, set without label, then add with annotate\n",
    "  scale_y_continuous(expand = c(0,0), limits = c(0,35), breaks = c(5,10,15,20)) +\n",
    "  annotate(\"text\", x = c(29.5, 69.5, 99.5), y = c(22.5, 22.5,22.3), label = c(\"Leukemia\", \"Lymphoma\", \"Solid tumors\"), size = 7, hjust = 0) + labs(y = \"Age (Years)\")"
   ]
  },
  {
   "cell_type": "code",
   "execution_count": 118,
   "metadata": {
    "vscode": {
     "languageId": "r"
    }
   },
   "outputs": [],
   "source": [
    "# allp <- plot_grid(p0 , p1,\n",
    "# ncol = 2, rel_widths = c(1, 0.3))"
   ]
  },
  {
   "cell_type": "code",
   "execution_count": 119,
   "metadata": {
    "vscode": {
     "languageId": "r"
    }
   },
   "outputs": [],
   "source": [
    "# pdf(paste0(plotpath,\"swimmerplot.pdf\"), width=10, height=16)\n",
    "# allp #+  theme(aspect.ratio = 4/2)\n",
    "# dev.off()"
   ]
  },
  {
   "cell_type": "code",
   "execution_count": 120,
   "metadata": {
    "vscode": {
     "languageId": "r"
    }
   },
   "outputs": [
    {
     "data": {
      "text/html": [
       "<strong>pdf:</strong> 2"
      ],
      "text/latex": [
       "\\textbf{pdf:} 2"
      ],
      "text/markdown": [
       "**pdf:** 2"
      ],
      "text/plain": [
       "pdf \n",
       "  2 "
      ]
     },
     "metadata": {},
     "output_type": "display_data"
    }
   ],
   "source": [
    "pdf(paste0(plotpath,\"swimmerplot_lgd.pdf\"), width=5, height=5)\n",
    "\n",
    "grid::grid.draw( get_legend(p0 + \n",
    "theme(legend.position = 'right', legend.box = 'vertical', legend.margin = margin(0,0,0,0)) +\n",
    "guides(colour = guide_legend(override.aes = list(size=3)))) )\n",
    "\n",
    "dev.off()"
   ]
  },
  {
   "attachments": {},
   "cell_type": "markdown",
   "metadata": {},
   "source": [
    "## Add clinical heatmap"
   ]
  },
  {
   "cell_type": "code",
   "execution_count": 121,
   "metadata": {
    "vscode": {
     "languageId": "r"
    }
   },
   "outputs": [
    {
     "data": {
      "text/plain": [
       "\n",
       "    Leukemia     Lymphoma Solid tumors \n",
       "         399          152          257 "
      ]
     },
     "metadata": {},
     "output_type": "display_data"
    }
   ],
   "source": [
    "table(subset_meta$cancergroup)"
   ]
  },
  {
   "cell_type": "code",
   "execution_count": 122,
   "metadata": {
    "vscode": {
     "languageId": "r"
    }
   },
   "outputs": [
    {
     "data": {
      "text/html": [
       "<table class=\"dataframe\">\n",
       "<caption>A data.frame: 6 x 10</caption>\n",
       "<thead>\n",
       "\t<tr><th></th><th scope=col>Patient</th><th scope=col>cycle</th><th scope=col>FOLD</th><th scope=col>Disease_type</th><th scope=col>CD3</th><th scope=col>cancergroup</th><th scope=col>sampletype</th><th scope=col>TRB</th><th scope=col>Age</th><th scope=col>file</th></tr>\n",
       "\t<tr><th></th><th scope=col>&lt;chr&gt;</th><th scope=col>&lt;dbl&gt;</th><th scope=col>&lt;dbl&gt;</th><th scope=col>&lt;chr&gt;</th><th scope=col>&lt;int&gt;</th><th scope=col>&lt;chr&gt;</th><th scope=col>&lt;chr&gt;</th><th scope=col>&lt;int&gt;</th><th scope=col>&lt;dbl&gt;</th><th scope=col>&lt;chr&gt;</th></tr>\n",
       "</thead>\n",
       "<tbody>\n",
       "\t<tr><th scope=row>302</th><td>CHP_319</td><td>5</td><td>1.2</td><td>HR ALL</td><td>0</td><td>Leukemia</td><td>PBMC</td><td> 15</td><td> 1</td><td>batch2_Aug62019/mixcr/clones/CLONES_TRBCHP_319-05-PBMC-DNA.txt              </td></tr>\n",
       "\t<tr><th scope=row>320</th><td>CHP_323</td><td>3</td><td>0.0</td><td>HR ALL</td><td>0</td><td>Leukemia</td><td>PBMC</td><td> 45</td><td> 1</td><td>batch4_19Aug2019/mixcr/clones/CLONES_TRBCHP_323-03-PBMC-DNA.txt             </td></tr>\n",
       "\t<tr><th scope=row>322</th><td>CHP_323</td><td>5</td><td>0.0</td><td>HR ALL</td><td>0</td><td>Leukemia</td><td>PBMC</td><td>153</td><td> 1</td><td>batch7_25Oct2019/mixcr/clones/CLONES_TRBCHP_323-05-PBMC-DNA.txt             </td></tr>\n",
       "\t<tr><th scope=row>327</th><td>CHP_324</td><td>5</td><td>0.0</td><td>T-ALL </td><td>0</td><td>Leukemia</td><td>PBMC</td><td>229</td><td>12</td><td>remaining_batch_2_22April2021/mixcr/clones/CLONES_TRBCHP_324-05_PBMC-DNA.txt</td></tr>\n",
       "\t<tr><th scope=row>346</th><td>CHP_328</td><td>4</td><td>0.0</td><td>SR ALL</td><td>0</td><td>Leukemia</td><td>PBMC</td><td>454</td><td> 7</td><td>remaining_batch_4_28June2021/mixcr/clones/CLONES_TRBCHP-328-04-PBMC-DNA.txt </td></tr>\n",
       "\t<tr><th scope=row>347</th><td>CHP_328</td><td>5</td><td>0.0</td><td>SR ALL</td><td>0</td><td>Leukemia</td><td>PBMC</td><td>153</td><td> 7</td><td>remaining_batch_4_28June2021/mixcr/clones/CLONES_TRBCHP-328-05-PBMC-DNA.txt </td></tr>\n",
       "</tbody>\n",
       "</table>\n"
      ],
      "text/latex": [
       "A data.frame: 6 x 10\n",
       "\\begin{tabular}{r|llllllllll}\n",
       "  & Patient & cycle & FOLD & Disease\\_type & CD3 & cancergroup & sampletype & TRB & Age & file\\\\\n",
       "  & <chr> & <dbl> & <dbl> & <chr> & <int> & <chr> & <chr> & <int> & <dbl> & <chr>\\\\\n",
       "\\hline\n",
       "\t302 & CHP\\_319 & 5 & 1.2 & HR ALL & 0 & Leukemia & PBMC &  15 &  1 & batch2\\_Aug62019/mixcr/clones/CLONES\\_TRBCHP\\_319-05-PBMC-DNA.txt              \\\\\n",
       "\t320 & CHP\\_323 & 3 & 0.0 & HR ALL & 0 & Leukemia & PBMC &  45 &  1 & batch4\\_19Aug2019/mixcr/clones/CLONES\\_TRBCHP\\_323-03-PBMC-DNA.txt             \\\\\n",
       "\t322 & CHP\\_323 & 5 & 0.0 & HR ALL & 0 & Leukemia & PBMC & 153 &  1 & batch7\\_25Oct2019/mixcr/clones/CLONES\\_TRBCHP\\_323-05-PBMC-DNA.txt             \\\\\n",
       "\t327 & CHP\\_324 & 5 & 0.0 & T-ALL  & 0 & Leukemia & PBMC & 229 & 12 & remaining\\_batch\\_2\\_22April2021/mixcr/clones/CLONES\\_TRBCHP\\_324-05\\_PBMC-DNA.txt\\\\\n",
       "\t346 & CHP\\_328 & 4 & 0.0 & SR ALL & 0 & Leukemia & PBMC & 454 &  7 & remaining\\_batch\\_4\\_28June2021/mixcr/clones/CLONES\\_TRBCHP-328-04-PBMC-DNA.txt \\\\\n",
       "\t347 & CHP\\_328 & 5 & 0.0 & SR ALL & 0 & Leukemia & PBMC & 153 &  7 & remaining\\_batch\\_4\\_28June2021/mixcr/clones/CLONES\\_TRBCHP-328-05-PBMC-DNA.txt \\\\\n",
       "\\end{tabular}\n"
      ],
      "text/markdown": [
       "\n",
       "A data.frame: 6 x 10\n",
       "\n",
       "| <!--/--> | Patient &lt;chr&gt; | cycle &lt;dbl&gt; | FOLD &lt;dbl&gt; | Disease_type &lt;chr&gt; | CD3 &lt;int&gt; | cancergroup &lt;chr&gt; | sampletype &lt;chr&gt; | TRB &lt;int&gt; | Age &lt;dbl&gt; | file &lt;chr&gt; |\n",
       "|---|---|---|---|---|---|---|---|---|---|---|\n",
       "| 302 | CHP_319 | 5 | 1.2 | HR ALL | 0 | Leukemia | PBMC |  15 |  1 | batch2_Aug62019/mixcr/clones/CLONES_TRBCHP_319-05-PBMC-DNA.txt               |\n",
       "| 320 | CHP_323 | 3 | 0.0 | HR ALL | 0 | Leukemia | PBMC |  45 |  1 | batch4_19Aug2019/mixcr/clones/CLONES_TRBCHP_323-03-PBMC-DNA.txt              |\n",
       "| 322 | CHP_323 | 5 | 0.0 | HR ALL | 0 | Leukemia | PBMC | 153 |  1 | batch7_25Oct2019/mixcr/clones/CLONES_TRBCHP_323-05-PBMC-DNA.txt              |\n",
       "| 327 | CHP_324 | 5 | 0.0 | T-ALL  | 0 | Leukemia | PBMC | 229 | 12 | remaining_batch_2_22April2021/mixcr/clones/CLONES_TRBCHP_324-05_PBMC-DNA.txt |\n",
       "| 346 | CHP_328 | 4 | 0.0 | SR ALL | 0 | Leukemia | PBMC | 454 |  7 | remaining_batch_4_28June2021/mixcr/clones/CLONES_TRBCHP-328-04-PBMC-DNA.txt  |\n",
       "| 347 | CHP_328 | 5 | 0.0 | SR ALL | 0 | Leukemia | PBMC | 153 |  7 | remaining_batch_4_28June2021/mixcr/clones/CLONES_TRBCHP-328-05-PBMC-DNA.txt  |\n",
       "\n"
      ],
      "text/plain": [
       "    Patient cycle FOLD Disease_type CD3 cancergroup sampletype TRB Age\n",
       "302 CHP_319 5     1.2  HR ALL       0   Leukemia    PBMC        15  1 \n",
       "320 CHP_323 3     0.0  HR ALL       0   Leukemia    PBMC        45  1 \n",
       "322 CHP_323 5     0.0  HR ALL       0   Leukemia    PBMC       153  1 \n",
       "327 CHP_324 5     0.0  T-ALL        0   Leukemia    PBMC       229 12 \n",
       "346 CHP_328 4     0.0  SR ALL       0   Leukemia    PBMC       454  7 \n",
       "347 CHP_328 5     0.0  SR ALL       0   Leukemia    PBMC       153  7 \n",
       "    file                                                                        \n",
       "302 batch2_Aug62019/mixcr/clones/CLONES_TRBCHP_319-05-PBMC-DNA.txt              \n",
       "320 batch4_19Aug2019/mixcr/clones/CLONES_TRBCHP_323-03-PBMC-DNA.txt             \n",
       "322 batch7_25Oct2019/mixcr/clones/CLONES_TRBCHP_323-05-PBMC-DNA.txt             \n",
       "327 remaining_batch_2_22April2021/mixcr/clones/CLONES_TRBCHP_324-05_PBMC-DNA.txt\n",
       "346 remaining_batch_4_28June2021/mixcr/clones/CLONES_TRBCHP-328-04-PBMC-DNA.txt \n",
       "347 remaining_batch_4_28June2021/mixcr/clones/CLONES_TRBCHP-328-05-PBMC-DNA.txt "
      ]
     },
     "metadata": {},
     "output_type": "display_data"
    }
   ],
   "source": [
    "head(subset_meta)"
   ]
  },
  {
   "cell_type": "code",
   "execution_count": 123,
   "metadata": {
    "vscode": {
     "languageId": "r"
    }
   },
   "outputs": [],
   "source": [
    "clinical <- meta_div[, c(\"Patient\", \"Relapse\", \"Transplant\", \"CART\", \"Remission\", \"vital_status\", \"LOF\")]"
   ]
  },
  {
   "cell_type": "code",
   "execution_count": 124,
   "metadata": {
    "vscode": {
     "languageId": "r"
    }
   },
   "outputs": [
    {
     "data": {
      "text/html": [
       "<style>\n",
       ".list-inline {list-style: none; margin:0; padding: 0}\n",
       ".list-inline>li {display: inline-block}\n",
       ".list-inline>li:not(:last-child)::after {content: \"\\00b7\"; padding: 0 .5ex}\n",
       "</style>\n",
       "<ol class=list-inline><li>119</li><li>5</li></ol>\n"
      ],
      "text/latex": [
       "\\begin{enumerate*}\n",
       "\\item 119\n",
       "\\item 5\n",
       "\\end{enumerate*}\n"
      ],
      "text/markdown": [
       "1. 119\n",
       "2. 5\n",
       "\n",
       "\n"
      ],
      "text/plain": [
       "[1] 119   5"
      ]
     },
     "metadata": {},
     "output_type": "display_data"
    }
   ],
   "source": [
    "dim(patients_cycles)"
   ]
  },
  {
   "cell_type": "code",
   "execution_count": 125,
   "metadata": {
    "vscode": {
     "languageId": "r"
    }
   },
   "outputs": [],
   "source": [
    "clinical_unique <- clinical[!duplicated(clinical$Patient), ]"
   ]
  },
  {
   "cell_type": "code",
   "execution_count": 126,
   "metadata": {
    "vscode": {
     "languageId": "r"
    }
   },
   "outputs": [],
   "source": [
    "clinical_unique$Patient <- factor(clinical_unique$Patient, levels = levels(patients_cycles$Patient) )# match order of patients"
   ]
  },
  {
   "cell_type": "code",
   "execution_count": 127,
   "metadata": {
    "vscode": {
     "languageId": "r"
    }
   },
   "outputs": [],
   "source": [
    "clinical_melt <- reshape2::melt(clinical_unique[, c(\"Patient\",  \"Relapse\", \"Transplant\", \"CART\", \"Remission\", \"vital_status\", \"LOF\")], id.vars = \"Patient\")"
   ]
  },
  {
   "cell_type": "code",
   "execution_count": 128,
   "metadata": {
    "vscode": {
     "languageId": "r"
    }
   },
   "outputs": [],
   "source": [
    "clinical_melt[ is.na(clinical_melt$value), \"value\" ] <- 0"
   ]
  },
  {
   "cell_type": "code",
   "execution_count": 129,
   "metadata": {
    "vscode": {
     "languageId": "r"
    }
   },
   "outputs": [],
   "source": [
    "clinical_melt$value <- as.numeric(clinical_melt$value)"
   ]
  },
  {
   "cell_type": "code",
   "execution_count": 130,
   "metadata": {
    "vscode": {
     "languageId": "r"
    }
   },
   "outputs": [],
   "source": [
    "gg_hm <- ggplot(data = clinical_melt, aes(x = variable, y = Patient, fill = value)) + \n",
    "  geom_tile() + myplot + myaxis + \n",
    "  theme(legend.position = \"none\", axis.title = element_blank(), axis.text.y = element_blank(), axis.ticks = element_blank(),\n",
    "  plot.margin = unit(c(0.1, 0.2, 1, 1), \"cm\"),\n",
    "  panel.border = element_rect(color = \"black\", fill = NA, size = 0.5)) + \n",
    "  scale_fill_gradient(low = \"white\", high = \"black\")"
   ]
  },
  {
   "cell_type": "code",
   "execution_count": 131,
   "metadata": {
    "vscode": {
     "languageId": "r"
    }
   },
   "outputs": [
    {
     "data": {
      "text/html": [
       "<strong>pdf:</strong> 2"
      ],
      "text/latex": [
       "\\textbf{pdf:} 2"
      ],
      "text/markdown": [
       "**pdf:** 2"
      ],
      "text/plain": [
       "pdf \n",
       "  2 "
      ]
     },
     "metadata": {},
     "output_type": "display_data"
    }
   ],
   "source": [
    "pdf(paste0(plotpath,\"swimmerplot_clinical.pdf\"), width=12, height=16)\n",
    "plot_grid(p0, gg_hm, p1b, ncol = 3, align = \"h\", rel_widths = c(3,1, 1.2)) \n",
    "dev.off()\n"
   ]
  },
  {
   "attachments": {},
   "cell_type": "markdown",
   "metadata": {
    "vscode": {
     "languageId": "r"
    }
   },
   "source": [
    "Descriptives for main text"
   ]
  },
  {
   "cell_type": "code",
   "execution_count": 132,
   "metadata": {
    "vscode": {
     "languageId": "r"
    }
   },
   "outputs": [],
   "source": [
    "# remove ffpe samples\n",
    "tmp <- meta_div[ !meta_div$sampletype %in% \"Tumor\",]\n",
    "# remove normals and lfs\n",
    "tmp <- tmp[ which(tmp$cancergroup != \"Normal\"),]\n",
    "tmp <- tmp[ which(tmp$cancergroup != \"LFS\"),]"
   ]
  },
  {
   "cell_type": "code",
   "execution_count": 133,
   "metadata": {
    "vscode": {
     "languageId": "r"
    }
   },
   "outputs": [
    {
     "data": {
      "text/html": [
       "119"
      ],
      "text/latex": [
       "119"
      ],
      "text/markdown": [
       "119"
      ],
      "text/plain": [
       "[1] 119"
      ]
     },
     "metadata": {},
     "output_type": "display_data"
    },
    {
     "data": {
      "text/plain": [
       "\n",
       " PBMC cfDNA  <NA> \n",
       "  534   274     0 "
      ]
     },
     "metadata": {},
     "output_type": "display_data"
    }
   ],
   "source": [
    "length(table(tmp$Patient))\n",
    "table(tmp$sampletype, useNA = \"always\")"
   ]
  },
  {
   "cell_type": "code",
   "execution_count": 134,
   "metadata": {
    "vscode": {
     "languageId": "r"
    }
   },
   "outputs": [],
   "source": [
    "myfreq <- as.data.frame(table(tmp$cancergroup, tmp$Patient) , stringsAsFactors = F) \n",
    "myfreq <- myfreq[ which(myfreq$Freq != 0),]"
   ]
  },
  {
   "cell_type": "code",
   "execution_count": 135,
   "metadata": {
    "vscode": {
     "languageId": "r"
    }
   },
   "outputs": [
    {
     "data": {
      "text/html": [
       "<table class=\"dataframe\">\n",
       "<caption>A data.frame: 6 x 3</caption>\n",
       "<thead>\n",
       "\t<tr><th></th><th scope=col>Var1</th><th scope=col>Var2</th><th scope=col>Freq</th></tr>\n",
       "\t<tr><th></th><th scope=col>&lt;chr&gt;</th><th scope=col>&lt;chr&gt;</th><th scope=col>&lt;int&gt;</th></tr>\n",
       "</thead>\n",
       "<tbody>\n",
       "\t<tr><th scope=row>1</th><td>Leukemia</td><td>CHP_319</td><td>5</td></tr>\n",
       "\t<tr><th scope=row>4</th><td>Leukemia</td><td>CHP_320</td><td>5</td></tr>\n",
       "\t<tr><th scope=row>8</th><td>Lymphoma</td><td>CHP_321</td><td>5</td></tr>\n",
       "\t<tr><th scope=row>11</th><td>Lymphoma</td><td>CHP_322</td><td>5</td></tr>\n",
       "\t<tr><th scope=row>13</th><td>Leukemia</td><td>CHP_323</td><td>6</td></tr>\n",
       "\t<tr><th scope=row>16</th><td>Leukemia</td><td>CHP_324</td><td>7</td></tr>\n",
       "</tbody>\n",
       "</table>\n"
      ],
      "text/latex": [
       "A data.frame: 6 x 3\n",
       "\\begin{tabular}{r|lll}\n",
       "  & Var1 & Var2 & Freq\\\\\n",
       "  & <chr> & <chr> & <int>\\\\\n",
       "\\hline\n",
       "\t1 & Leukemia & CHP\\_319 & 5\\\\\n",
       "\t4 & Leukemia & CHP\\_320 & 5\\\\\n",
       "\t8 & Lymphoma & CHP\\_321 & 5\\\\\n",
       "\t11 & Lymphoma & CHP\\_322 & 5\\\\\n",
       "\t13 & Leukemia & CHP\\_323 & 6\\\\\n",
       "\t16 & Leukemia & CHP\\_324 & 7\\\\\n",
       "\\end{tabular}\n"
      ],
      "text/markdown": [
       "\n",
       "A data.frame: 6 x 3\n",
       "\n",
       "| <!--/--> | Var1 &lt;chr&gt; | Var2 &lt;chr&gt; | Freq &lt;int&gt; |\n",
       "|---|---|---|---|\n",
       "| 1 | Leukemia | CHP_319 | 5 |\n",
       "| 4 | Leukemia | CHP_320 | 5 |\n",
       "| 8 | Lymphoma | CHP_321 | 5 |\n",
       "| 11 | Lymphoma | CHP_322 | 5 |\n",
       "| 13 | Leukemia | CHP_323 | 6 |\n",
       "| 16 | Leukemia | CHP_324 | 7 |\n",
       "\n"
      ],
      "text/plain": [
       "   Var1     Var2    Freq\n",
       "1  Leukemia CHP_319 5   \n",
       "4  Leukemia CHP_320 5   \n",
       "8  Lymphoma CHP_321 5   \n",
       "11 Lymphoma CHP_322 5   \n",
       "13 Leukemia CHP_323 6   \n",
       "16 Leukemia CHP_324 7   "
      ]
     },
     "metadata": {},
     "output_type": "display_data"
    }
   ],
   "source": [
    "head(myfreq)"
   ]
  },
  {
   "cell_type": "code",
   "execution_count": 136,
   "metadata": {
    "vscode": {
     "languageId": "r"
    }
   },
   "outputs": [
    {
     "data": {
      "text/html": [
       "<style>\n",
       ".list-inline {list-style: none; margin:0; padding: 0}\n",
       ".list-inline>li {display: inline-block}\n",
       ".list-inline>li:not(:last-child)::after {content: \"\\00b7\"; padding: 0 .5ex}\n",
       "</style>\n",
       "<ol class=list-inline><li>119</li><li>3</li></ol>\n"
      ],
      "text/latex": [
       "\\begin{enumerate*}\n",
       "\\item 119\n",
       "\\item 3\n",
       "\\end{enumerate*}\n"
      ],
      "text/markdown": [
       "1. 119\n",
       "2. 3\n",
       "\n",
       "\n"
      ],
      "text/plain": [
       "[1] 119   3"
      ]
     },
     "metadata": {},
     "output_type": "display_data"
    }
   ],
   "source": [
    "dim(myfreq)"
   ]
  },
  {
   "cell_type": "code",
   "execution_count": 137,
   "metadata": {
    "vscode": {
     "languageId": "r"
    }
   },
   "outputs": [
    {
     "data": {
      "text/plain": [
       "\n",
       "    Leukemia     Lymphoma Solid tumors \n",
       "          59           21           39 "
      ]
     },
     "metadata": {},
     "output_type": "display_data"
    }
   ],
   "source": [
    "table(myfreq$Var1)"
   ]
  },
  {
   "cell_type": "code",
   "execution_count": 138,
   "metadata": {
    "vscode": {
     "languageId": "r"
    }
   },
   "outputs": [],
   "source": [
    "myfreq <- as.data.frame(table(tmp$Disease_type, tmp$Patient) , stringsAsFactors = F) \n",
    "myfreq <- myfreq[ which(myfreq$Freq != 0),]"
   ]
  },
  {
   "cell_type": "code",
   "execution_count": 139,
   "metadata": {
    "vscode": {
     "languageId": "r"
    }
   },
   "outputs": [
    {
     "data": {
      "text/plain": [
       "\n",
       "  ALCL    ALL    AML   ARMS     BL    BLL    CML  DLBCL   ERMS    EWS     HB \n",
       "     2     23     11      1      4      2      4      3      5      6      4 \n",
       "    HD HR ALL  MS NB     NB     OS  PMBCL    RMS SR ALL  T-ALL  WILMS \n",
       "     8     14      1      4     12      2      3      3      4      3 "
      ]
     },
     "metadata": {},
     "output_type": "display_data"
    }
   ],
   "source": [
    "table(myfreq$Var1)"
   ]
  },
  {
   "cell_type": "code",
   "execution_count": 140,
   "metadata": {
    "vscode": {
     "languageId": "r"
    }
   },
   "outputs": [],
   "source": [
    "rm(tmp)"
   ]
  },
  {
   "cell_type": "code",
   "execution_count": 141,
   "metadata": {
    "vscode": {
     "languageId": "r"
    }
   },
   "outputs": [],
   "source": [
    "# remove ffpe samples\n",
    "# column sampletype includes NA (they are flow data without TCR), if using which ==, it will remove all NA\n",
    "tmp <- meta_div[ !meta_div$sampletype %in% \"Tumor\",]\n",
    "# remove normals and lfs\n",
    "tmp <- tmp[ which(tmp$cancergroup != \"Normal\"),]\n",
    "tmp <- tmp[ which(tmp$cancergroup != \"LFS\"),]\n",
    "\n",
    "#tmp <- tmp[ which(tmp$sampletype == \"PBMC\"),]\n",
    "\n",
    "myfreq <- as.data.frame(table(tmp$cancergroup[!is.na(tmp$CD3)], tmp$Patient[!is.na(tmp$CD3)]) , stringsAsFactors = F) \n",
    "myfreq <- myfreq[ which(myfreq$Freq != 0),]"
   ]
  },
  {
   "cell_type": "code",
   "execution_count": 142,
   "metadata": {
    "vscode": {
     "languageId": "r"
    }
   },
   "outputs": [
    {
     "data": {
      "text/html": [
       "<style>\n",
       ".list-inline {list-style: none; margin:0; padding: 0}\n",
       ".list-inline>li {display: inline-block}\n",
       ".list-inline>li:not(:last-child)::after {content: \"\\00b7\"; padding: 0 .5ex}\n",
       "</style>\n",
       "<ol class=list-inline><li>119</li><li>3</li></ol>\n"
      ],
      "text/latex": [
       "\\begin{enumerate*}\n",
       "\\item 119\n",
       "\\item 3\n",
       "\\end{enumerate*}\n"
      ],
      "text/markdown": [
       "1. 119\n",
       "2. 3\n",
       "\n",
       "\n"
      ],
      "text/plain": [
       "[1] 119   3"
      ]
     },
     "metadata": {},
     "output_type": "display_data"
    }
   ],
   "source": [
    "dim(myfreq)"
   ]
  },
  {
   "cell_type": "code",
   "execution_count": 143,
   "metadata": {
    "vscode": {
     "languageId": "r"
    }
   },
   "outputs": [
    {
     "data": {
      "text/plain": [
       "\n",
       "    Leukemia     Lymphoma Solid tumors \n",
       "          59           21           39 "
      ]
     },
     "metadata": {},
     "output_type": "display_data"
    }
   ],
   "source": [
    "table(myfreq$Var1)"
   ]
  },
  {
   "cell_type": "code",
   "execution_count": 144,
   "metadata": {
    "vscode": {
     "languageId": "r"
    }
   },
   "outputs": [],
   "source": [
    "tmp <- meta_div[ which(meta_div$sampletype == \"PBMC\"),]"
   ]
  },
  {
   "cell_type": "code",
   "execution_count": 145,
   "metadata": {
    "vscode": {
     "languageId": "r"
    }
   },
   "outputs": [
    {
     "data": {
      "text/html": [
       "119"
      ],
      "text/latex": [
       "119"
      ],
      "text/markdown": [
       "119"
      ],
      "text/plain": [
       "[1] 119"
      ]
     },
     "metadata": {},
     "output_type": "display_data"
    }
   ],
   "source": [
    "length(unique(tmp$Patient[ !is.na(tmp$CD3) ]))"
   ]
  },
  {
   "cell_type": "code",
   "execution_count": 146,
   "metadata": {
    "vscode": {
     "languageId": "r"
    }
   },
   "outputs": [
    {
     "data": {
      "text/html": [
       "533"
      ],
      "text/latex": [
       "533"
      ],
      "text/markdown": [
       "533"
      ],
      "text/plain": [
       "[1] 533"
      ]
     },
     "metadata": {},
     "output_type": "display_data"
    }
   ],
   "source": [
    "length(tmp$Patient[ !is.na(tmp$CD3) ])"
   ]
  },
  {
   "cell_type": "code",
   "execution_count": 147,
   "metadata": {
    "vscode": {
     "languageId": "r"
    }
   },
   "outputs": [
    {
     "data": {
      "text/html": [
       "<style>\n",
       ".list-inline {list-style: none; margin:0; padding: 0}\n",
       ".list-inline>li {display: inline-block}\n",
       ".list-inline>li:not(:last-child)::after {content: \"\\00b7\"; padding: 0 .5ex}\n",
       "</style>\n",
       "<ol class=list-inline><li>528</li><li>66</li></ol>\n"
      ],
      "text/latex": [
       "\\begin{enumerate*}\n",
       "\\item 528\n",
       "\\item 66\n",
       "\\end{enumerate*}\n"
      ],
      "text/markdown": [
       "1. 528\n",
       "2. 66\n",
       "\n",
       "\n"
      ],
      "text/plain": [
       "[1] 528  66"
      ]
     },
     "metadata": {},
     "output_type": "display_data"
    }
   ],
   "source": [
    "dim(tmp[ !is.na(tmp$FOLD), ])"
   ]
  },
  {
   "cell_type": "code",
   "execution_count": 148,
   "metadata": {
    "vscode": {
     "languageId": "r"
    }
   },
   "outputs": [],
   "source": [
    "tmp <- meta_div[ which(meta_div$sampletype == \"Tumor\"),]"
   ]
  },
  {
   "cell_type": "code",
   "execution_count": 149,
   "metadata": {
    "vscode": {
     "languageId": "r"
    }
   },
   "outputs": [
    {
     "data": {
      "text/plain": [
       "< table of extent 0 >"
      ]
     },
     "metadata": {},
     "output_type": "display_data"
    }
   ],
   "source": [
    "table(tmp$Disease_type)"
   ]
  },
  {
   "cell_type": "code",
   "execution_count": 150,
   "metadata": {
    "vscode": {
     "languageId": "r"
    }
   },
   "outputs": [
    {
     "data": {
      "text/plain": [
       "\n",
       " PBMC cfDNA \n",
       "  197   266 "
      ]
     },
     "metadata": {},
     "output_type": "display_data"
    }
   ],
   "source": [
    "table(meta_div$sampletype[!is.na(meta_div$TRB)])"
   ]
  },
  {
   "cell_type": "code",
   "execution_count": null,
   "metadata": {
    "vscode": {
     "languageId": "r"
    }
   },
   "outputs": [],
   "source": []
  }
 ],
 "metadata": {
  "kernelspec": {
   "display_name": "R 4.0",
   "language": "R",
   "name": "ir40"
  },
  "language_info": {
   "codemirror_mode": "r",
   "file_extension": ".r",
   "mimetype": "text/x-r-source",
   "name": "R",
   "pygments_lexer": "r",
   "version": "4.2.2"
  },
  "toc": {
   "base_numbering": 1,
   "nav_menu": {},
   "number_sections": false,
   "sideBar": true,
   "skip_h1_title": false,
   "title_cell": "Table of Contents",
   "title_sidebar": "Contents",
   "toc_cell": true,
   "toc_position": {
    "height": "calc(100% - 180px)",
    "left": "10px",
    "top": "150px",
    "width": "186.15px"
   },
   "toc_section_display": true,
   "toc_window_display": true
  }
 },
 "nbformat": 4,
 "nbformat_minor": 2
}

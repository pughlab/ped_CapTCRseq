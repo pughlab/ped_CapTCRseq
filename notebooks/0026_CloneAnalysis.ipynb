{
 "cells": [
  {
   "cell_type": "markdown",
   "metadata": {},
   "source": [
    "# Dependencies"
   ]
  },
  {
   "cell_type": "code",
   "execution_count": 1,
   "metadata": {
    "vscode": {
     "languageId": "r"
    }
   },
   "outputs": [
    {
     "data": {
      "text/html": [
       "'en_US.UTF-8/en_US.UTF-8/en_US.UTF-8/C/en_US.UTF-8/C'"
      ],
      "text/latex": [
       "'en\\_US.UTF-8/en\\_US.UTF-8/en\\_US.UTF-8/C/en\\_US.UTF-8/C'"
      ],
      "text/markdown": [
       "'en_US.UTF-8/en_US.UTF-8/en_US.UTF-8/C/en_US.UTF-8/C'"
      ],
      "text/plain": [
       "[1] \"en_US.UTF-8/en_US.UTF-8/en_US.UTF-8/C/en_US.UTF-8/C\""
      ]
     },
     "metadata": {},
     "output_type": "display_data"
    }
   ],
   "source": [
    "Sys.setlocale(category = \"LC_ALL\", locale = \"en_US.UTF-8\")"
   ]
  },
  {
   "cell_type": "code",
   "execution_count": 2,
   "metadata": {
    "scrolled": true,
    "vscode": {
     "languageId": "r"
    }
   },
   "outputs": [
    {
     "name": "stderr",
     "output_type": "stream",
     "text": [
      "\n",
      "Attaching package: ‘dplyr’\n",
      "\n",
      "\n",
      "The following objects are masked from ‘package:stats’:\n",
      "\n",
      "    filter, lag\n",
      "\n",
      "\n",
      "The following objects are masked from ‘package:base’:\n",
      "\n",
      "    intersect, setdiff, setequal, union\n",
      "\n",
      "\n",
      "Loading required package: grid\n",
      "\n",
      "========================================\n",
      "ComplexHeatmap version 2.14.0\n",
      "Bioconductor page: http://bioconductor.org/packages/ComplexHeatmap/\n",
      "Github page: https://github.com/jokergoo/ComplexHeatmap\n",
      "Documentation: http://jokergoo.github.io/ComplexHeatmap-reference\n",
      "\n",
      "If you use it in published research, please cite either one:\n",
      "- Gu, Z. Complex Heatmap Visualization. iMeta 2022.\n",
      "- Gu, Z. Complex heatmaps reveal patterns and correlations in multidimensional \n",
      "    genomic data. Bioinformatics 2016.\n",
      "\n",
      "\n",
      "The new InteractiveComplexHeatmap package can directly export static \n",
      "complex heatmaps into an interactive Shiny app with zero effort. Have a try!\n",
      "\n",
      "This message can be suppressed by:\n",
      "  suppressPackageStartupMessages(library(ComplexHeatmap))\n",
      "========================================\n",
      "\n",
      "\n"
     ]
    }
   ],
   "source": [
    "library(randomcoloR)\n",
    "library(ggsankey)\n",
    "library(dplyr)\n",
    "library(ComplexHeatmap)"
   ]
  },
  {
   "cell_type": "markdown",
   "metadata": {},
   "source": [
    "# Functions"
   ]
  },
  {
   "cell_type": "code",
   "execution_count": 3,
   "metadata": {
    "vscode": {
     "languageId": "r"
    }
   },
   "outputs": [
    {
     "name": "stderr",
     "output_type": "stream",
     "text": [
      "Loading required package: ggalluvial\n",
      "\n"
     ]
    }
   ],
   "source": [
    "source(\"/Users/anabbi/git/ped_CapTCRseq/R/ggplot2_theme.R\")\n",
    "source(\"/Users/anabbi/git/ped_CapTCRseq/R/color_schemes.R\")\n",
    "source(\"/Users/anabbi/git/ped_CapTCRseq/R/Misc_functions.R\")\n",
    "source(\"/Users/anabbi/git/ped_CapTCRseq/R/clonetrack.R\")"
   ]
  },
  {
   "cell_type": "markdown",
   "metadata": {},
   "source": [
    "# Paths"
   ]
  },
  {
   "cell_type": "code",
   "execution_count": 6,
   "metadata": {
    "vscode": {
     "languageId": "r"
    }
   },
   "outputs": [],
   "source": [
    "datapath <- \"/Users/anabbi/OneDrive - UHN/Documents/INTERCEPT/Data/\"\n",
    "plotpath <- \"/Users/anabbi/OneDrive - UHN/Documents/INTERCEPT/Plots/\"\n",
    "manifestpath <- \"/Users/anabbi/OneDrive - UHN/Documents/INTERCEPT/Manifests/\"\n",
    "gitpath <- \"/Users/anabbi/git/ped_CapTCRseq/\""
   ]
  },
  {
   "cell_type": "code",
   "execution_count": 7,
   "metadata": {
    "vscode": {
     "languageId": "r"
    }
   },
   "outputs": [],
   "source": [
    "h4hpath <- \"/Users/anabbi/Desktop/H4H/INTERCEPT/\""
   ]
  },
  {
   "cell_type": "markdown",
   "metadata": {},
   "source": [
    "# Main"
   ]
  },
  {
   "cell_type": "code",
   "execution_count": 8,
   "metadata": {
    "vscode": {
     "languageId": "r"
    }
   },
   "outputs": [],
   "source": [
    "meta_div <- readr::read_rds(paste0(datapath, \"capTCRseq/meta_div_goodsamples.rds\"))"
   ]
  },
  {
   "cell_type": "code",
   "execution_count": 9,
   "metadata": {
    "vscode": {
     "languageId": "r"
    }
   },
   "outputs": [],
   "source": [
    "meta_div <- meta_div[ !is.na(meta_div$TRB),]"
   ]
  },
  {
   "cell_type": "code",
   "execution_count": 10,
   "metadata": {
    "vscode": {
     "languageId": "r"
    }
   },
   "outputs": [
    {
     "data": {
      "text/html": [
       "<style>\n",
       ".list-inline {list-style: none; margin:0; padding: 0}\n",
       ".list-inline>li {display: inline-block}\n",
       ".list-inline>li:not(:last-child)::after {content: \"\\00b7\"; padding: 0 .5ex}\n",
       "</style>\n",
       "<ol class=list-inline><li>504</li><li>66</li></ol>\n"
      ],
      "text/latex": [
       "\\begin{enumerate*}\n",
       "\\item 504\n",
       "\\item 66\n",
       "\\end{enumerate*}\n"
      ],
      "text/markdown": [
       "1. 504\n",
       "2. 66\n",
       "\n",
       "\n"
      ],
      "text/plain": [
       "[1] 504  66"
      ]
     },
     "metadata": {},
     "output_type": "display_data"
    }
   ],
   "source": [
    "dim(meta_div)"
   ]
  },
  {
   "cell_type": "code",
   "execution_count": 11,
   "metadata": {
    "vscode": {
     "languageId": "r"
    }
   },
   "outputs": [
    {
     "data": {
      "text/plain": [
       "\n",
       "  ALCL    ALL    AML   ARMS     BL    BLL    CML  DLBCL   ERMS    EWS     HB \n",
       "     9     99     45      6     23     10     13     12     23     34     16 \n",
       "    HD HR ALL    LFS  MS NB     NB Normal     OS  PMBCL SR ALL  T-ALL  WILMS \n",
       "    38     53     10      1     13     14     48      8      7     16      6 "
      ]
     },
     "metadata": {},
     "output_type": "display_data"
    }
   ],
   "source": [
    "table(meta_div$Disease_type)"
   ]
  },
  {
   "cell_type": "code",
   "execution_count": 12,
   "metadata": {
    "vscode": {
     "languageId": "r"
    }
   },
   "outputs": [
    {
     "data": {
      "text/html": [
       "<style>\n",
       ".list-inline {list-style: none; margin:0; padding: 0}\n",
       ".list-inline>li {display: inline-block}\n",
       ".list-inline>li:not(:last-child)::after {content: \"\\00b7\"; padding: 0 .5ex}\n",
       "</style>\n",
       "<ol class=list-inline><li>'sample_id'</li><li>'Patient'</li><li>'cycle'</li><li>'FOLD'</li><li>'ATC'</li><li>'Age'</li><li>'Disease_type'</li><li>'TE_fold'</li><li>'CD3'</li><li>'EM'</li><li>'CM'</li><li>'Naïve'</li><li>'SCM'</li><li>'TE'</li><li>'EM%'</li><li>'CM%'</li><li>'Naïve%'</li><li>'SCM%'</li><li>'TE%'</li><li>'Naïve/TE'</li><li>'N+CM+SCM/TE+EM'</li><li>'PD-1'</li><li>'PDL1'</li><li>'LAG3'</li><li>'TIM3'</li><li>'CTLA4'</li><li>'PD1%'</li><li>'PDL1%'</li><li>'LAG3%'</li><li>'TIM3%'</li><li>'CTLA4%'</li><li>'Any NCR'</li><li>'PD1 + LAG3 + TIM3'</li><li>'cancergroup'</li><li>'agegroup'</li><li>'foldgroup'</li><li>'Remission'</li><li>'Relapse'</li><li>'Transplant'</li><li>'CART'</li><li>'vital_status'</li><li>'LOF'</li><li>'TRB'</li><li>'Reads'</li><li>'CPKR'</li><li>'Average_reads'</li><li>'VMR'</li><li>'Max_reads'</li><li>'Singletons'</li><li>'Doubletons'</li><li>'qD'</li><li>'Sample_Coverage'</li><li>'observed_Richness'</li><li>'estimated_Richness'</li><li>'SE_Richeness'</li><li>'observed_Shannon'</li><li>'estimated_Shannon'</li><li>'SE_Shannon'</li><li>'observed_Simpson'</li><li>'estimated_Simpson'</li><li>'SE_Simpson'</li><li>'basename'</li><li>'file'</li><li>'sampletype'</li><li>'Group'</li><li>'log10shann'</li></ol>\n"
      ],
      "text/latex": [
       "\\begin{enumerate*}\n",
       "\\item 'sample\\_id'\n",
       "\\item 'Patient'\n",
       "\\item 'cycle'\n",
       "\\item 'FOLD'\n",
       "\\item 'ATC'\n",
       "\\item 'Age'\n",
       "\\item 'Disease\\_type'\n",
       "\\item 'TE\\_fold'\n",
       "\\item 'CD3'\n",
       "\\item 'EM'\n",
       "\\item 'CM'\n",
       "\\item 'Naïve'\n",
       "\\item 'SCM'\n",
       "\\item 'TE'\n",
       "\\item 'EM\\%'\n",
       "\\item 'CM\\%'\n",
       "\\item 'Naïve\\%'\n",
       "\\item 'SCM\\%'\n",
       "\\item 'TE\\%'\n",
       "\\item 'Naïve/TE'\n",
       "\\item 'N+CM+SCM/TE+EM'\n",
       "\\item 'PD-1'\n",
       "\\item 'PDL1'\n",
       "\\item 'LAG3'\n",
       "\\item 'TIM3'\n",
       "\\item 'CTLA4'\n",
       "\\item 'PD1\\%'\n",
       "\\item 'PDL1\\%'\n",
       "\\item 'LAG3\\%'\n",
       "\\item 'TIM3\\%'\n",
       "\\item 'CTLA4\\%'\n",
       "\\item 'Any NCR'\n",
       "\\item 'PD1 + LAG3 + TIM3'\n",
       "\\item 'cancergroup'\n",
       "\\item 'agegroup'\n",
       "\\item 'foldgroup'\n",
       "\\item 'Remission'\n",
       "\\item 'Relapse'\n",
       "\\item 'Transplant'\n",
       "\\item 'CART'\n",
       "\\item 'vital\\_status'\n",
       "\\item 'LOF'\n",
       "\\item 'TRB'\n",
       "\\item 'Reads'\n",
       "\\item 'CPKR'\n",
       "\\item 'Average\\_reads'\n",
       "\\item 'VMR'\n",
       "\\item 'Max\\_reads'\n",
       "\\item 'Singletons'\n",
       "\\item 'Doubletons'\n",
       "\\item 'qD'\n",
       "\\item 'Sample\\_Coverage'\n",
       "\\item 'observed\\_Richness'\n",
       "\\item 'estimated\\_Richness'\n",
       "\\item 'SE\\_Richeness'\n",
       "\\item 'observed\\_Shannon'\n",
       "\\item 'estimated\\_Shannon'\n",
       "\\item 'SE\\_Shannon'\n",
       "\\item 'observed\\_Simpson'\n",
       "\\item 'estimated\\_Simpson'\n",
       "\\item 'SE\\_Simpson'\n",
       "\\item 'basename'\n",
       "\\item 'file'\n",
       "\\item 'sampletype'\n",
       "\\item 'Group'\n",
       "\\item 'log10shann'\n",
       "\\end{enumerate*}\n"
      ],
      "text/markdown": [
       "1. 'sample_id'\n",
       "2. 'Patient'\n",
       "3. 'cycle'\n",
       "4. 'FOLD'\n",
       "5. 'ATC'\n",
       "6. 'Age'\n",
       "7. 'Disease_type'\n",
       "8. 'TE_fold'\n",
       "9. 'CD3'\n",
       "10. 'EM'\n",
       "11. 'CM'\n",
       "12. 'Naïve'\n",
       "13. 'SCM'\n",
       "14. 'TE'\n",
       "15. 'EM%'\n",
       "16. 'CM%'\n",
       "17. 'Naïve%'\n",
       "18. 'SCM%'\n",
       "19. 'TE%'\n",
       "20. 'Naïve/TE'\n",
       "21. 'N+CM+SCM/TE+EM'\n",
       "22. 'PD-1'\n",
       "23. 'PDL1'\n",
       "24. 'LAG3'\n",
       "25. 'TIM3'\n",
       "26. 'CTLA4'\n",
       "27. 'PD1%'\n",
       "28. 'PDL1%'\n",
       "29. 'LAG3%'\n",
       "30. 'TIM3%'\n",
       "31. 'CTLA4%'\n",
       "32. 'Any NCR'\n",
       "33. 'PD1 + LAG3 + TIM3'\n",
       "34. 'cancergroup'\n",
       "35. 'agegroup'\n",
       "36. 'foldgroup'\n",
       "37. 'Remission'\n",
       "38. 'Relapse'\n",
       "39. 'Transplant'\n",
       "40. 'CART'\n",
       "41. 'vital_status'\n",
       "42. 'LOF'\n",
       "43. 'TRB'\n",
       "44. 'Reads'\n",
       "45. 'CPKR'\n",
       "46. 'Average_reads'\n",
       "47. 'VMR'\n",
       "48. 'Max_reads'\n",
       "49. 'Singletons'\n",
       "50. 'Doubletons'\n",
       "51. 'qD'\n",
       "52. 'Sample_Coverage'\n",
       "53. 'observed_Richness'\n",
       "54. 'estimated_Richness'\n",
       "55. 'SE_Richeness'\n",
       "56. 'observed_Shannon'\n",
       "57. 'estimated_Shannon'\n",
       "58. 'SE_Shannon'\n",
       "59. 'observed_Simpson'\n",
       "60. 'estimated_Simpson'\n",
       "61. 'SE_Simpson'\n",
       "62. 'basename'\n",
       "63. 'file'\n",
       "64. 'sampletype'\n",
       "65. 'Group'\n",
       "66. 'log10shann'\n",
       "\n",
       "\n"
      ],
      "text/plain": [
       " [1] \"sample_id\"          \"Patient\"            \"cycle\"             \n",
       " [4] \"FOLD\"               \"ATC\"                \"Age\"               \n",
       " [7] \"Disease_type\"       \"TE_fold\"            \"CD3\"               \n",
       "[10] \"EM\"                 \"CM\"                 \"Naïve\"             \n",
       "[13] \"SCM\"                \"TE\"                 \"EM%\"               \n",
       "[16] \"CM%\"                \"Naïve%\"             \"SCM%\"              \n",
       "[19] \"TE%\"                \"Naïve/TE\"           \"N+CM+SCM/TE+EM\"    \n",
       "[22] \"PD-1\"               \"PDL1\"               \"LAG3\"              \n",
       "[25] \"TIM3\"               \"CTLA4\"              \"PD1%\"              \n",
       "[28] \"PDL1%\"              \"LAG3%\"              \"TIM3%\"             \n",
       "[31] \"CTLA4%\"             \"Any NCR\"            \"PD1 + LAG3 + TIM3\" \n",
       "[34] \"cancergroup\"        \"agegroup\"           \"foldgroup\"         \n",
       "[37] \"Remission\"          \"Relapse\"            \"Transplant\"        \n",
       "[40] \"CART\"               \"vital_status\"       \"LOF\"               \n",
       "[43] \"TRB\"                \"Reads\"              \"CPKR\"              \n",
       "[46] \"Average_reads\"      \"VMR\"                \"Max_reads\"         \n",
       "[49] \"Singletons\"         \"Doubletons\"         \"qD\"                \n",
       "[52] \"Sample_Coverage\"    \"observed_Richness\"  \"estimated_Richness\"\n",
       "[55] \"SE_Richeness\"       \"observed_Shannon\"   \"estimated_Shannon\" \n",
       "[58] \"SE_Shannon\"         \"observed_Simpson\"   \"estimated_Simpson\" \n",
       "[61] \"SE_Simpson\"         \"basename\"           \"file\"              \n",
       "[64] \"sampletype\"         \"Group\"              \"log10shann\"        "
      ]
     },
     "metadata": {},
     "output_type": "display_data"
    }
   ],
   "source": [
    "colnames(meta_div)"
   ]
  },
  {
   "cell_type": "code",
   "execution_count": 13,
   "metadata": {
    "vscode": {
     "languageId": "r"
    }
   },
   "outputs": [
    {
     "data": {
      "text/plain": [
       "\n",
       "cfDNA  PBMC Tumor \n",
       "  266   197    17 "
      ]
     },
     "metadata": {},
     "output_type": "display_data"
    }
   ],
   "source": [
    "table(meta_div$sampletype[!meta_div$cancergroup %in% c(\"LFS\", \"Normal\")])"
   ]
  },
  {
   "cell_type": "code",
   "execution_count": 14,
   "metadata": {
    "vscode": {
     "languageId": "r"
    }
   },
   "outputs": [
    {
     "data": {
      "text/html": [
       "<style>\n",
       ".list-inline {list-style: none; margin:0; padding: 0}\n",
       ".list-inline>li {display: inline-block}\n",
       ".list-inline>li:not(:last-child)::after {content: \"\\00b7\"; padding: 0 .5ex}\n",
       "</style>\n",
       "<ol class=list-inline><li>480</li><li>3</li></ol>\n"
      ],
      "text/latex": [
       "\\begin{enumerate*}\n",
       "\\item 480\n",
       "\\item 3\n",
       "\\end{enumerate*}\n"
      ],
      "text/markdown": [
       "1. 480\n",
       "2. 3\n",
       "\n",
       "\n"
      ],
      "text/plain": [
       "[1] 480   3"
      ]
     },
     "metadata": {},
     "output_type": "display_data"
    }
   ],
   "source": [
    "dim(meta_div[meta_div$Group == \"CHP\" & meta_div$cancergroup != \"Normal\", c(\"file\", \"cancergroup\", \"sampletype\")])"
   ]
  },
  {
   "cell_type": "code",
   "execution_count": 15,
   "metadata": {
    "vscode": {
     "languageId": "r"
    }
   },
   "outputs": [],
   "source": [
    "# remove LFS and Normal\n",
    "meta_div <- meta_div[meta_div$Disease_type != \"LFS\",]\n",
    "meta_div <- meta_div[meta_div$Disease_type != \"Normal\",]"
   ]
  },
  {
   "cell_type": "code",
   "execution_count": 16,
   "metadata": {
    "vscode": {
     "languageId": "r"
    }
   },
   "outputs": [
    {
     "data": {
      "text/html": [
       "<table class=\"dataframe\">\n",
       "<caption>A data.frame: 6 x 20</caption>\n",
       "<thead>\n",
       "\t<tr><th></th><th scope=col>sample_id</th><th scope=col>Patient</th><th scope=col>cycle</th><th scope=col>FOLD</th><th scope=col>ATC</th><th scope=col>Age</th><th scope=col>Disease_type</th><th scope=col>TE_fold</th><th scope=col>CD3</th><th scope=col>EM</th><th scope=col>CM</th><th scope=col>Naïve</th><th scope=col>SCM</th><th scope=col>TE</th><th scope=col>EM%</th><th scope=col>CM%</th><th scope=col>Naïve%</th><th scope=col>SCM%</th><th scope=col>TE%</th><th scope=col>Naïve/TE</th></tr>\n",
       "\t<tr><th></th><th scope=col>&lt;chr&gt;</th><th scope=col>&lt;chr&gt;</th><th scope=col>&lt;chr&gt;</th><th scope=col>&lt;dbl&gt;</th><th scope=col>&lt;dbl&gt;</th><th scope=col>&lt;dbl&gt;</th><th scope=col>&lt;chr&gt;</th><th scope=col>&lt;dbl&gt;</th><th scope=col>&lt;int&gt;</th><th scope=col>&lt;int&gt;</th><th scope=col>&lt;int&gt;</th><th scope=col>&lt;int&gt;</th><th scope=col>&lt;int&gt;</th><th scope=col>&lt;int&gt;</th><th scope=col>&lt;dbl&gt;</th><th scope=col>&lt;dbl&gt;</th><th scope=col>&lt;dbl&gt;</th><th scope=col>&lt;dbl&gt;</th><th scope=col>&lt;dbl&gt;</th><th scope=col>&lt;dbl&gt;</th></tr>\n",
       "</thead>\n",
       "<tbody>\n",
       "\t<tr><th scope=row>673</th><td>CHP_394_01</td><td>CHP_394</td><td>X01</td><td>6.2</td><td>101.20</td><td>17</td><td>ERMS</td><td>6.2</td><td> 835</td><td>  0</td><td>115</td><td>433</td><td>27</td><td> 260</td><td> 0.00000</td><td>13.772455</td><td>51.856287</td><td>3.2335329</td><td>31.13772</td><td>1.66538462</td></tr>\n",
       "\t<tr><th scope=row>676</th><td>CHP_394_04</td><td>CHP_394</td><td>X04</td><td>0.7</td><td>140.70</td><td>17</td><td>ERMS</td><td>0.7</td><td>2194</td><td>280</td><td>809</td><td> 58</td><td> 2</td><td>1045</td><td>12.76208</td><td>36.873291</td><td> 2.643573</td><td>0.0911577</td><td>47.62990</td><td>0.05550239</td></tr>\n",
       "\t<tr><th scope=row>202</th><td>CHP_394_02</td><td>CHP_394</td><td>X02</td><td>0.7</td><td>235.04</td><td>17</td><td>ERMS</td><td>0.7</td><td> 712</td><td>  0</td><td> 20</td><td> 97</td><td>70</td><td> 525</td><td> 0.00000</td><td> 2.808989</td><td>13.623596</td><td>9.8314607</td><td>73.73596</td><td>0.18476190</td></tr>\n",
       "\t<tr><th scope=row>203</th><td>CHP_394_04</td><td>CHP_394</td><td>X04</td><td>0.7</td><td>140.70</td><td>17</td><td>ERMS</td><td>0.7</td><td>2194</td><td>280</td><td>809</td><td> 58</td><td> 2</td><td>1045</td><td>12.76208</td><td>36.873291</td><td> 2.643573</td><td>0.0911577</td><td>47.62990</td><td>0.05550239</td></tr>\n",
       "\t<tr><th scope=row>204</th><td>CHP_394_05</td><td>CHP_394</td><td>X05</td><td>0.7</td><td>394.40</td><td>17</td><td>ERMS</td><td>0.7</td><td> 295</td><td> 35</td><td>180</td><td>  0</td><td> 0</td><td>  80</td><td>11.86441</td><td>61.016949</td><td> 0.000000</td><td>0.0000000</td><td>27.11864</td><td>0.00000000</td></tr>\n",
       "\t<tr><th scope=row>3761</th><td>CHP_394_01</td><td>CHP_394</td><td>X00</td><td>6.2</td><td>101.20</td><td>17</td><td>ERMS</td><td>6.2</td><td> 835</td><td>  0</td><td>115</td><td>433</td><td>27</td><td> 260</td><td> 0.00000</td><td>13.772455</td><td>51.856287</td><td>3.2335329</td><td>31.13772</td><td>1.66538462</td></tr>\n",
       "</tbody>\n",
       "</table>\n"
      ],
      "text/latex": [
       "A data.frame: 6 x 20\n",
       "\\begin{tabular}{r|llllllllllllllllllll}\n",
       "  & sample\\_id & Patient & cycle & FOLD & ATC & Age & Disease\\_type & TE\\_fold & CD3 & EM & CM & Naïve & SCM & TE & EM\\% & CM\\% & Naïve\\% & SCM\\% & TE\\% & Naïve/TE\\\\\n",
       "  & <chr> & <chr> & <chr> & <dbl> & <dbl> & <dbl> & <chr> & <dbl> & <int> & <int> & <int> & <int> & <int> & <int> & <dbl> & <dbl> & <dbl> & <dbl> & <dbl> & <dbl>\\\\\n",
       "\\hline\n",
       "\t673 & CHP\\_394\\_01 & CHP\\_394 & X01 & 6.2 & 101.20 & 17 & ERMS & 6.2 &  835 &   0 & 115 & 433 & 27 &  260 &  0.00000 & 13.772455 & 51.856287 & 3.2335329 & 31.13772 & 1.66538462\\\\\n",
       "\t676 & CHP\\_394\\_04 & CHP\\_394 & X04 & 0.7 & 140.70 & 17 & ERMS & 0.7 & 2194 & 280 & 809 &  58 &  2 & 1045 & 12.76208 & 36.873291 &  2.643573 & 0.0911577 & 47.62990 & 0.05550239\\\\\n",
       "\t202 & CHP\\_394\\_02 & CHP\\_394 & X02 & 0.7 & 235.04 & 17 & ERMS & 0.7 &  712 &   0 &  20 &  97 & 70 &  525 &  0.00000 &  2.808989 & 13.623596 & 9.8314607 & 73.73596 & 0.18476190\\\\\n",
       "\t203 & CHP\\_394\\_04 & CHP\\_394 & X04 & 0.7 & 140.70 & 17 & ERMS & 0.7 & 2194 & 280 & 809 &  58 &  2 & 1045 & 12.76208 & 36.873291 &  2.643573 & 0.0911577 & 47.62990 & 0.05550239\\\\\n",
       "\t204 & CHP\\_394\\_05 & CHP\\_394 & X05 & 0.7 & 394.40 & 17 & ERMS & 0.7 &  295 &  35 & 180 &   0 &  0 &   80 & 11.86441 & 61.016949 &  0.000000 & 0.0000000 & 27.11864 & 0.00000000\\\\\n",
       "\t3761 & CHP\\_394\\_01 & CHP\\_394 & X00 & 6.2 & 101.20 & 17 & ERMS & 6.2 &  835 &   0 & 115 & 433 & 27 &  260 &  0.00000 & 13.772455 & 51.856287 & 3.2335329 & 31.13772 & 1.66538462\\\\\n",
       "\\end{tabular}\n"
      ],
      "text/markdown": [
       "\n",
       "A data.frame: 6 x 20\n",
       "\n",
       "| <!--/--> | sample_id &lt;chr&gt; | Patient &lt;chr&gt; | cycle &lt;chr&gt; | FOLD &lt;dbl&gt; | ATC &lt;dbl&gt; | Age &lt;dbl&gt; | Disease_type &lt;chr&gt; | TE_fold &lt;dbl&gt; | CD3 &lt;int&gt; | EM &lt;int&gt; | CM &lt;int&gt; | Naïve &lt;int&gt; | SCM &lt;int&gt; | TE &lt;int&gt; | EM% &lt;dbl&gt; | CM% &lt;dbl&gt; | Naïve% &lt;dbl&gt; | SCM% &lt;dbl&gt; | TE% &lt;dbl&gt; | Naïve/TE &lt;dbl&gt; |\n",
       "|---|---|---|---|---|---|---|---|---|---|---|---|---|---|---|---|---|---|---|---|---|\n",
       "| 673 | CHP_394_01 | CHP_394 | X01 | 6.2 | 101.20 | 17 | ERMS | 6.2 |  835 |   0 | 115 | 433 | 27 |  260 |  0.00000 | 13.772455 | 51.856287 | 3.2335329 | 31.13772 | 1.66538462 |\n",
       "| 676 | CHP_394_04 | CHP_394 | X04 | 0.7 | 140.70 | 17 | ERMS | 0.7 | 2194 | 280 | 809 |  58 |  2 | 1045 | 12.76208 | 36.873291 |  2.643573 | 0.0911577 | 47.62990 | 0.05550239 |\n",
       "| 202 | CHP_394_02 | CHP_394 | X02 | 0.7 | 235.04 | 17 | ERMS | 0.7 |  712 |   0 |  20 |  97 | 70 |  525 |  0.00000 |  2.808989 | 13.623596 | 9.8314607 | 73.73596 | 0.18476190 |\n",
       "| 203 | CHP_394_04 | CHP_394 | X04 | 0.7 | 140.70 | 17 | ERMS | 0.7 | 2194 | 280 | 809 |  58 |  2 | 1045 | 12.76208 | 36.873291 |  2.643573 | 0.0911577 | 47.62990 | 0.05550239 |\n",
       "| 204 | CHP_394_05 | CHP_394 | X05 | 0.7 | 394.40 | 17 | ERMS | 0.7 |  295 |  35 | 180 |   0 |  0 |   80 | 11.86441 | 61.016949 |  0.000000 | 0.0000000 | 27.11864 | 0.00000000 |\n",
       "| 3761 | CHP_394_01 | CHP_394 | X00 | 6.2 | 101.20 | 17 | ERMS | 6.2 |  835 |   0 | 115 | 433 | 27 |  260 |  0.00000 | 13.772455 | 51.856287 | 3.2335329 | 31.13772 | 1.66538462 |\n",
       "\n"
      ],
      "text/plain": [
       "     sample_id  Patient cycle FOLD ATC    Age Disease_type TE_fold CD3  EM  CM \n",
       "673  CHP_394_01 CHP_394 X01   6.2  101.20 17  ERMS         6.2      835   0 115\n",
       "676  CHP_394_04 CHP_394 X04   0.7  140.70 17  ERMS         0.7     2194 280 809\n",
       "202  CHP_394_02 CHP_394 X02   0.7  235.04 17  ERMS         0.7      712   0  20\n",
       "203  CHP_394_04 CHP_394 X04   0.7  140.70 17  ERMS         0.7     2194 280 809\n",
       "204  CHP_394_05 CHP_394 X05   0.7  394.40 17  ERMS         0.7      295  35 180\n",
       "3761 CHP_394_01 CHP_394 X00   6.2  101.20 17  ERMS         6.2      835   0 115\n",
       "     Naïve SCM TE   EM%      CM%       Naïve%    SCM%      TE%      Naïve/TE  \n",
       "673  433   27   260  0.00000 13.772455 51.856287 3.2335329 31.13772 1.66538462\n",
       "676   58    2  1045 12.76208 36.873291  2.643573 0.0911577 47.62990 0.05550239\n",
       "202   97   70   525  0.00000  2.808989 13.623596 9.8314607 73.73596 0.18476190\n",
       "203   58    2  1045 12.76208 36.873291  2.643573 0.0911577 47.62990 0.05550239\n",
       "204    0    0    80 11.86441 61.016949  0.000000 0.0000000 27.11864 0.00000000\n",
       "3761 433   27   260  0.00000 13.772455 51.856287 3.2335329 31.13772 1.66538462"
      ]
     },
     "metadata": {},
     "output_type": "display_data"
    }
   ],
   "source": [
    "meta_div[ meta_div$Patient == \"CHP_394\",1:20]"
   ]
  },
  {
   "cell_type": "code",
   "execution_count": 17,
   "metadata": {
    "vscode": {
     "languageId": "r"
    }
   },
   "outputs": [
    {
     "data": {
      "text/html": [
       "<table class=\"dataframe\">\n",
       "<caption>A data.frame: 5 x 6</caption>\n",
       "<thead>\n",
       "\t<tr><th></th><th scope=col>Patient</th><th scope=col>cycle</th><th scope=col>sampletype</th><th scope=col>TRB</th><th scope=col>Reads</th><th scope=col>file</th></tr>\n",
       "\t<tr><th></th><th scope=col>&lt;chr&gt;</th><th scope=col>&lt;chr&gt;</th><th scope=col>&lt;chr&gt;</th><th scope=col>&lt;int&gt;</th><th scope=col>&lt;int&gt;</th><th scope=col>&lt;chr&gt;</th></tr>\n",
       "</thead>\n",
       "<tbody>\n",
       "\t<tr><th scope=row>638</th><td>CHP_387</td><td>X01</td><td>PBMC </td><td>279</td><td>14179</td><td>batch8_14Jan2020/mixcr/clones/CLONES_TRBCHP_387-01-PBMC-DNA.txt                </td></tr>\n",
       "\t<tr><th scope=row>640</th><td>CHP_387</td><td>X03</td><td>PBMC </td><td> 58</td><td>  343</td><td>batch11_23Apr2020/mixcr/clones/CLONES_TRBCHP_387-03_PBMC_DNA.txt               </td></tr>\n",
       "\t<tr><th scope=row>173</th><td>CHP_387</td><td>X01</td><td>cfDNA</td><td>  5</td><td>15263</td><td>batch7_cfDNA_29Jun2020/mixcr/clones/CLONES_TRBCHP_387-01_cfDNA.txt             </td></tr>\n",
       "\t<tr><th scope=row>174</th><td>CHP_387</td><td>X02</td><td>cfDNA</td><td>  4</td><td> 1749</td><td>remaining_batch_2_cfDNA_15April2021/mixcr/clones/CLONES_TRBCHP_387-02_cfDNA.txt</td></tr>\n",
       "\t<tr><th scope=row>175</th><td>CHP_387</td><td>X03</td><td>cfDNA</td><td> 10</td><td> 8141</td><td>batch11_cfDNA_11Sep2020/mixcr/clones/CLONES_TRBCHP_387-03_cfDNA.txt            </td></tr>\n",
       "</tbody>\n",
       "</table>\n"
      ],
      "text/latex": [
       "A data.frame: 5 x 6\n",
       "\\begin{tabular}{r|llllll}\n",
       "  & Patient & cycle & sampletype & TRB & Reads & file\\\\\n",
       "  & <chr> & <chr> & <chr> & <int> & <int> & <chr>\\\\\n",
       "\\hline\n",
       "\t638 & CHP\\_387 & X01 & PBMC  & 279 & 14179 & batch8\\_14Jan2020/mixcr/clones/CLONES\\_TRBCHP\\_387-01-PBMC-DNA.txt                \\\\\n",
       "\t640 & CHP\\_387 & X03 & PBMC  &  58 &   343 & batch11\\_23Apr2020/mixcr/clones/CLONES\\_TRBCHP\\_387-03\\_PBMC\\_DNA.txt               \\\\\n",
       "\t173 & CHP\\_387 & X01 & cfDNA &   5 & 15263 & batch7\\_cfDNA\\_29Jun2020/mixcr/clones/CLONES\\_TRBCHP\\_387-01\\_cfDNA.txt             \\\\\n",
       "\t174 & CHP\\_387 & X02 & cfDNA &   4 &  1749 & remaining\\_batch\\_2\\_cfDNA\\_15April2021/mixcr/clones/CLONES\\_TRBCHP\\_387-02\\_cfDNA.txt\\\\\n",
       "\t175 & CHP\\_387 & X03 & cfDNA &  10 &  8141 & batch11\\_cfDNA\\_11Sep2020/mixcr/clones/CLONES\\_TRBCHP\\_387-03\\_cfDNA.txt            \\\\\n",
       "\\end{tabular}\n"
      ],
      "text/markdown": [
       "\n",
       "A data.frame: 5 x 6\n",
       "\n",
       "| <!--/--> | Patient &lt;chr&gt; | cycle &lt;chr&gt; | sampletype &lt;chr&gt; | TRB &lt;int&gt; | Reads &lt;int&gt; | file &lt;chr&gt; |\n",
       "|---|---|---|---|---|---|---|\n",
       "| 638 | CHP_387 | X01 | PBMC  | 279 | 14179 | batch8_14Jan2020/mixcr/clones/CLONES_TRBCHP_387-01-PBMC-DNA.txt                 |\n",
       "| 640 | CHP_387 | X03 | PBMC  |  58 |   343 | batch11_23Apr2020/mixcr/clones/CLONES_TRBCHP_387-03_PBMC_DNA.txt                |\n",
       "| 173 | CHP_387 | X01 | cfDNA |   5 | 15263 | batch7_cfDNA_29Jun2020/mixcr/clones/CLONES_TRBCHP_387-01_cfDNA.txt              |\n",
       "| 174 | CHP_387 | X02 | cfDNA |   4 |  1749 | remaining_batch_2_cfDNA_15April2021/mixcr/clones/CLONES_TRBCHP_387-02_cfDNA.txt |\n",
       "| 175 | CHP_387 | X03 | cfDNA |  10 |  8141 | batch11_cfDNA_11Sep2020/mixcr/clones/CLONES_TRBCHP_387-03_cfDNA.txt             |\n",
       "\n"
      ],
      "text/plain": [
       "    Patient cycle sampletype TRB Reads\n",
       "638 CHP_387 X01   PBMC       279 14179\n",
       "640 CHP_387 X03   PBMC        58   343\n",
       "173 CHP_387 X01   cfDNA        5 15263\n",
       "174 CHP_387 X02   cfDNA        4  1749\n",
       "175 CHP_387 X03   cfDNA       10  8141\n",
       "    file                                                                           \n",
       "638 batch8_14Jan2020/mixcr/clones/CLONES_TRBCHP_387-01-PBMC-DNA.txt                \n",
       "640 batch11_23Apr2020/mixcr/clones/CLONES_TRBCHP_387-03_PBMC_DNA.txt               \n",
       "173 batch7_cfDNA_29Jun2020/mixcr/clones/CLONES_TRBCHP_387-01_cfDNA.txt             \n",
       "174 remaining_batch_2_cfDNA_15April2021/mixcr/clones/CLONES_TRBCHP_387-02_cfDNA.txt\n",
       "175 batch11_cfDNA_11Sep2020/mixcr/clones/CLONES_TRBCHP_387-03_cfDNA.txt            "
      ]
     },
     "metadata": {},
     "output_type": "display_data"
    }
   ],
   "source": [
    "meta_div[ meta_div$Patient == \"CHP_387\",c(\"Patient\", \"cycle\", \"sampletype\", \"TRB\", \"Reads\", \"file\")]"
   ]
  },
  {
   "cell_type": "markdown",
   "metadata": {},
   "source": [
    "# Some decriptives"
   ]
  },
  {
   "cell_type": "code",
   "execution_count": 18,
   "metadata": {
    "vscode": {
     "languageId": "r"
    }
   },
   "outputs": [
    {
     "data": {
      "text/html": [
       "<table class=\"dataframe\">\n",
       "<caption>A data.frame: 5 x 6</caption>\n",
       "<thead>\n",
       "\t<tr><th></th><th scope=col>Patient</th><th scope=col>cycle</th><th scope=col>sampletype</th><th scope=col>TRB</th><th scope=col>Reads</th><th scope=col>file</th></tr>\n",
       "\t<tr><th></th><th scope=col>&lt;chr&gt;</th><th scope=col>&lt;chr&gt;</th><th scope=col>&lt;chr&gt;</th><th scope=col>&lt;int&gt;</th><th scope=col>&lt;int&gt;</th><th scope=col>&lt;chr&gt;</th></tr>\n",
       "</thead>\n",
       "<tbody>\n",
       "\t<tr><th scope=row>638</th><td>CHP_387</td><td>X01</td><td>PBMC </td><td>279</td><td>14179</td><td>batch8_14Jan2020/mixcr/clones/CLONES_TRBCHP_387-01-PBMC-DNA.txt                </td></tr>\n",
       "\t<tr><th scope=row>640</th><td>CHP_387</td><td>X03</td><td>PBMC </td><td> 58</td><td>  343</td><td>batch11_23Apr2020/mixcr/clones/CLONES_TRBCHP_387-03_PBMC_DNA.txt               </td></tr>\n",
       "\t<tr><th scope=row>173</th><td>CHP_387</td><td>X01</td><td>cfDNA</td><td>  5</td><td>15263</td><td>batch7_cfDNA_29Jun2020/mixcr/clones/CLONES_TRBCHP_387-01_cfDNA.txt             </td></tr>\n",
       "\t<tr><th scope=row>174</th><td>CHP_387</td><td>X02</td><td>cfDNA</td><td>  4</td><td> 1749</td><td>remaining_batch_2_cfDNA_15April2021/mixcr/clones/CLONES_TRBCHP_387-02_cfDNA.txt</td></tr>\n",
       "\t<tr><th scope=row>175</th><td>CHP_387</td><td>X03</td><td>cfDNA</td><td> 10</td><td> 8141</td><td>batch11_cfDNA_11Sep2020/mixcr/clones/CLONES_TRBCHP_387-03_cfDNA.txt            </td></tr>\n",
       "</tbody>\n",
       "</table>\n"
      ],
      "text/latex": [
       "A data.frame: 5 x 6\n",
       "\\begin{tabular}{r|llllll}\n",
       "  & Patient & cycle & sampletype & TRB & Reads & file\\\\\n",
       "  & <chr> & <chr> & <chr> & <int> & <int> & <chr>\\\\\n",
       "\\hline\n",
       "\t638 & CHP\\_387 & X01 & PBMC  & 279 & 14179 & batch8\\_14Jan2020/mixcr/clones/CLONES\\_TRBCHP\\_387-01-PBMC-DNA.txt                \\\\\n",
       "\t640 & CHP\\_387 & X03 & PBMC  &  58 &   343 & batch11\\_23Apr2020/mixcr/clones/CLONES\\_TRBCHP\\_387-03\\_PBMC\\_DNA.txt               \\\\\n",
       "\t173 & CHP\\_387 & X01 & cfDNA &   5 & 15263 & batch7\\_cfDNA\\_29Jun2020/mixcr/clones/CLONES\\_TRBCHP\\_387-01\\_cfDNA.txt             \\\\\n",
       "\t174 & CHP\\_387 & X02 & cfDNA &   4 &  1749 & remaining\\_batch\\_2\\_cfDNA\\_15April2021/mixcr/clones/CLONES\\_TRBCHP\\_387-02\\_cfDNA.txt\\\\\n",
       "\t175 & CHP\\_387 & X03 & cfDNA &  10 &  8141 & batch11\\_cfDNA\\_11Sep2020/mixcr/clones/CLONES\\_TRBCHP\\_387-03\\_cfDNA.txt            \\\\\n",
       "\\end{tabular}\n"
      ],
      "text/markdown": [
       "\n",
       "A data.frame: 5 x 6\n",
       "\n",
       "| <!--/--> | Patient &lt;chr&gt; | cycle &lt;chr&gt; | sampletype &lt;chr&gt; | TRB &lt;int&gt; | Reads &lt;int&gt; | file &lt;chr&gt; |\n",
       "|---|---|---|---|---|---|---|\n",
       "| 638 | CHP_387 | X01 | PBMC  | 279 | 14179 | batch8_14Jan2020/mixcr/clones/CLONES_TRBCHP_387-01-PBMC-DNA.txt                 |\n",
       "| 640 | CHP_387 | X03 | PBMC  |  58 |   343 | batch11_23Apr2020/mixcr/clones/CLONES_TRBCHP_387-03_PBMC_DNA.txt                |\n",
       "| 173 | CHP_387 | X01 | cfDNA |   5 | 15263 | batch7_cfDNA_29Jun2020/mixcr/clones/CLONES_TRBCHP_387-01_cfDNA.txt              |\n",
       "| 174 | CHP_387 | X02 | cfDNA |   4 |  1749 | remaining_batch_2_cfDNA_15April2021/mixcr/clones/CLONES_TRBCHP_387-02_cfDNA.txt |\n",
       "| 175 | CHP_387 | X03 | cfDNA |  10 |  8141 | batch11_cfDNA_11Sep2020/mixcr/clones/CLONES_TRBCHP_387-03_cfDNA.txt             |\n",
       "\n"
      ],
      "text/plain": [
       "    Patient cycle sampletype TRB Reads\n",
       "638 CHP_387 X01   PBMC       279 14179\n",
       "640 CHP_387 X03   PBMC        58   343\n",
       "173 CHP_387 X01   cfDNA        5 15263\n",
       "174 CHP_387 X02   cfDNA        4  1749\n",
       "175 CHP_387 X03   cfDNA       10  8141\n",
       "    file                                                                           \n",
       "638 batch8_14Jan2020/mixcr/clones/CLONES_TRBCHP_387-01-PBMC-DNA.txt                \n",
       "640 batch11_23Apr2020/mixcr/clones/CLONES_TRBCHP_387-03_PBMC_DNA.txt               \n",
       "173 batch7_cfDNA_29Jun2020/mixcr/clones/CLONES_TRBCHP_387-01_cfDNA.txt             \n",
       "174 remaining_batch_2_cfDNA_15April2021/mixcr/clones/CLONES_TRBCHP_387-02_cfDNA.txt\n",
       "175 batch11_cfDNA_11Sep2020/mixcr/clones/CLONES_TRBCHP_387-03_cfDNA.txt            "
      ]
     },
     "metadata": {},
     "output_type": "display_data"
    }
   ],
   "source": [
    "meta_div[ meta_div$Patient == \"CHP_387\",c(\"Patient\", \"cycle\", \"sampletype\", \"TRB\", \"Reads\", \"file\")]"
   ]
  },
  {
   "cell_type": "code",
   "execution_count": 19,
   "metadata": {
    "vscode": {
     "languageId": "r"
    }
   },
   "outputs": [
    {
     "data": {
      "text/html": [
       "<style>\n",
       ".list-inline {list-style: none; margin:0; padding: 0}\n",
       ".list-inline>li {display: inline-block}\n",
       ".list-inline>li:not(:last-child)::after {content: \"\\00b7\"; padding: 0 .5ex}\n",
       "</style>\n",
       "<ol class=list-inline><li>480</li><li>66</li></ol>\n"
      ],
      "text/latex": [
       "\\begin{enumerate*}\n",
       "\\item 480\n",
       "\\item 66\n",
       "\\end{enumerate*}\n"
      ],
      "text/markdown": [
       "1. 480\n",
       "2. 66\n",
       "\n",
       "\n"
      ],
      "text/plain": [
       "[1] 480  66"
      ]
     },
     "metadata": {},
     "output_type": "display_data"
    }
   ],
   "source": [
    "dim(meta_div)"
   ]
  },
  {
   "cell_type": "code",
   "execution_count": 20,
   "metadata": {
    "vscode": {
     "languageId": "r"
    }
   },
   "outputs": [
    {
     "data": {
      "text/plain": [
       "\n",
       "CHP \n",
       "480 "
      ]
     },
     "metadata": {},
     "output_type": "display_data"
    }
   ],
   "source": [
    "table(meta_div$Group)"
   ]
  },
  {
   "cell_type": "code",
   "execution_count": 21,
   "metadata": {
    "vscode": {
     "languageId": "r"
    }
   },
   "outputs": [],
   "source": [
    "allTCRs <- sum(meta_div$TRB)"
   ]
  },
  {
   "cell_type": "code",
   "execution_count": 22,
   "metadata": {
    "vscode": {
     "languageId": "r"
    }
   },
   "outputs": [],
   "source": [
    "h4hpath <- \"/Users/anabbi/Desktop/H4H/INTERCEPT/NextSeq/\""
   ]
  },
  {
   "cell_type": "code",
   "execution_count": 23,
   "metadata": {
    "vscode": {
     "languageId": "r"
    }
   },
   "outputs": [
    {
     "data": {
      "text/html": [
       "<style>\n",
       ".list-inline {list-style: none; margin:0; padding: 0}\n",
       ".list-inline>li {display: inline-block}\n",
       ".list-inline>li:not(:last-child)::after {content: \"\\00b7\"; padding: 0 .5ex}\n",
       "</style>\n",
       "<ol class=list-inline><li>'sample_id'</li><li>'Patient'</li><li>'cycle'</li><li>'FOLD'</li><li>'ATC'</li><li>'Age'</li><li>'Disease_type'</li><li>'TE_fold'</li><li>'CD3'</li><li>'EM'</li><li>'CM'</li><li>'Naïve'</li><li>'SCM'</li><li>'TE'</li><li>'EM%'</li><li>'CM%'</li><li>'Naïve%'</li><li>'SCM%'</li><li>'TE%'</li><li>'Naïve/TE'</li><li>'N+CM+SCM/TE+EM'</li><li>'PD-1'</li><li>'PDL1'</li><li>'LAG3'</li><li>'TIM3'</li><li>'CTLA4'</li><li>'PD1%'</li><li>'PDL1%'</li><li>'LAG3%'</li><li>'TIM3%'</li><li>'CTLA4%'</li><li>'Any NCR'</li><li>'PD1 + LAG3 + TIM3'</li><li>'cancergroup'</li><li>'agegroup'</li><li>'foldgroup'</li><li>'Remission'</li><li>'Relapse'</li><li>'Transplant'</li><li>'CART'</li><li>'vital_status'</li><li>'LOF'</li><li>'TRB'</li><li>'Reads'</li><li>'CPKR'</li><li>'Average_reads'</li><li>'VMR'</li><li>'Max_reads'</li><li>'Singletons'</li><li>'Doubletons'</li><li>'qD'</li><li>'Sample_Coverage'</li><li>'observed_Richness'</li><li>'estimated_Richness'</li><li>'SE_Richeness'</li><li>'observed_Shannon'</li><li>'estimated_Shannon'</li><li>'SE_Shannon'</li><li>'observed_Simpson'</li><li>'estimated_Simpson'</li><li>'SE_Simpson'</li><li>'basename'</li><li>'file'</li><li>'sampletype'</li><li>'Group'</li><li>'log10shann'</li></ol>\n"
      ],
      "text/latex": [
       "\\begin{enumerate*}\n",
       "\\item 'sample\\_id'\n",
       "\\item 'Patient'\n",
       "\\item 'cycle'\n",
       "\\item 'FOLD'\n",
       "\\item 'ATC'\n",
       "\\item 'Age'\n",
       "\\item 'Disease\\_type'\n",
       "\\item 'TE\\_fold'\n",
       "\\item 'CD3'\n",
       "\\item 'EM'\n",
       "\\item 'CM'\n",
       "\\item 'Naïve'\n",
       "\\item 'SCM'\n",
       "\\item 'TE'\n",
       "\\item 'EM\\%'\n",
       "\\item 'CM\\%'\n",
       "\\item 'Naïve\\%'\n",
       "\\item 'SCM\\%'\n",
       "\\item 'TE\\%'\n",
       "\\item 'Naïve/TE'\n",
       "\\item 'N+CM+SCM/TE+EM'\n",
       "\\item 'PD-1'\n",
       "\\item 'PDL1'\n",
       "\\item 'LAG3'\n",
       "\\item 'TIM3'\n",
       "\\item 'CTLA4'\n",
       "\\item 'PD1\\%'\n",
       "\\item 'PDL1\\%'\n",
       "\\item 'LAG3\\%'\n",
       "\\item 'TIM3\\%'\n",
       "\\item 'CTLA4\\%'\n",
       "\\item 'Any NCR'\n",
       "\\item 'PD1 + LAG3 + TIM3'\n",
       "\\item 'cancergroup'\n",
       "\\item 'agegroup'\n",
       "\\item 'foldgroup'\n",
       "\\item 'Remission'\n",
       "\\item 'Relapse'\n",
       "\\item 'Transplant'\n",
       "\\item 'CART'\n",
       "\\item 'vital\\_status'\n",
       "\\item 'LOF'\n",
       "\\item 'TRB'\n",
       "\\item 'Reads'\n",
       "\\item 'CPKR'\n",
       "\\item 'Average\\_reads'\n",
       "\\item 'VMR'\n",
       "\\item 'Max\\_reads'\n",
       "\\item 'Singletons'\n",
       "\\item 'Doubletons'\n",
       "\\item 'qD'\n",
       "\\item 'Sample\\_Coverage'\n",
       "\\item 'observed\\_Richness'\n",
       "\\item 'estimated\\_Richness'\n",
       "\\item 'SE\\_Richeness'\n",
       "\\item 'observed\\_Shannon'\n",
       "\\item 'estimated\\_Shannon'\n",
       "\\item 'SE\\_Shannon'\n",
       "\\item 'observed\\_Simpson'\n",
       "\\item 'estimated\\_Simpson'\n",
       "\\item 'SE\\_Simpson'\n",
       "\\item 'basename'\n",
       "\\item 'file'\n",
       "\\item 'sampletype'\n",
       "\\item 'Group'\n",
       "\\item 'log10shann'\n",
       "\\end{enumerate*}\n"
      ],
      "text/markdown": [
       "1. 'sample_id'\n",
       "2. 'Patient'\n",
       "3. 'cycle'\n",
       "4. 'FOLD'\n",
       "5. 'ATC'\n",
       "6. 'Age'\n",
       "7. 'Disease_type'\n",
       "8. 'TE_fold'\n",
       "9. 'CD3'\n",
       "10. 'EM'\n",
       "11. 'CM'\n",
       "12. 'Naïve'\n",
       "13. 'SCM'\n",
       "14. 'TE'\n",
       "15. 'EM%'\n",
       "16. 'CM%'\n",
       "17. 'Naïve%'\n",
       "18. 'SCM%'\n",
       "19. 'TE%'\n",
       "20. 'Naïve/TE'\n",
       "21. 'N+CM+SCM/TE+EM'\n",
       "22. 'PD-1'\n",
       "23. 'PDL1'\n",
       "24. 'LAG3'\n",
       "25. 'TIM3'\n",
       "26. 'CTLA4'\n",
       "27. 'PD1%'\n",
       "28. 'PDL1%'\n",
       "29. 'LAG3%'\n",
       "30. 'TIM3%'\n",
       "31. 'CTLA4%'\n",
       "32. 'Any NCR'\n",
       "33. 'PD1 + LAG3 + TIM3'\n",
       "34. 'cancergroup'\n",
       "35. 'agegroup'\n",
       "36. 'foldgroup'\n",
       "37. 'Remission'\n",
       "38. 'Relapse'\n",
       "39. 'Transplant'\n",
       "40. 'CART'\n",
       "41. 'vital_status'\n",
       "42. 'LOF'\n",
       "43. 'TRB'\n",
       "44. 'Reads'\n",
       "45. 'CPKR'\n",
       "46. 'Average_reads'\n",
       "47. 'VMR'\n",
       "48. 'Max_reads'\n",
       "49. 'Singletons'\n",
       "50. 'Doubletons'\n",
       "51. 'qD'\n",
       "52. 'Sample_Coverage'\n",
       "53. 'observed_Richness'\n",
       "54. 'estimated_Richness'\n",
       "55. 'SE_Richeness'\n",
       "56. 'observed_Shannon'\n",
       "57. 'estimated_Shannon'\n",
       "58. 'SE_Shannon'\n",
       "59. 'observed_Simpson'\n",
       "60. 'estimated_Simpson'\n",
       "61. 'SE_Simpson'\n",
       "62. 'basename'\n",
       "63. 'file'\n",
       "64. 'sampletype'\n",
       "65. 'Group'\n",
       "66. 'log10shann'\n",
       "\n",
       "\n"
      ],
      "text/plain": [
       " [1] \"sample_id\"          \"Patient\"            \"cycle\"             \n",
       " [4] \"FOLD\"               \"ATC\"                \"Age\"               \n",
       " [7] \"Disease_type\"       \"TE_fold\"            \"CD3\"               \n",
       "[10] \"EM\"                 \"CM\"                 \"Naïve\"             \n",
       "[13] \"SCM\"                \"TE\"                 \"EM%\"               \n",
       "[16] \"CM%\"                \"Naïve%\"             \"SCM%\"              \n",
       "[19] \"TE%\"                \"Naïve/TE\"           \"N+CM+SCM/TE+EM\"    \n",
       "[22] \"PD-1\"               \"PDL1\"               \"LAG3\"              \n",
       "[25] \"TIM3\"               \"CTLA4\"              \"PD1%\"              \n",
       "[28] \"PDL1%\"              \"LAG3%\"              \"TIM3%\"             \n",
       "[31] \"CTLA4%\"             \"Any NCR\"            \"PD1 + LAG3 + TIM3\" \n",
       "[34] \"cancergroup\"        \"agegroup\"           \"foldgroup\"         \n",
       "[37] \"Remission\"          \"Relapse\"            \"Transplant\"        \n",
       "[40] \"CART\"               \"vital_status\"       \"LOF\"               \n",
       "[43] \"TRB\"                \"Reads\"              \"CPKR\"              \n",
       "[46] \"Average_reads\"      \"VMR\"                \"Max_reads\"         \n",
       "[49] \"Singletons\"         \"Doubletons\"         \"qD\"                \n",
       "[52] \"Sample_Coverage\"    \"observed_Richness\"  \"estimated_Richness\"\n",
       "[55] \"SE_Richeness\"       \"observed_Shannon\"   \"estimated_Shannon\" \n",
       "[58] \"SE_Shannon\"         \"observed_Simpson\"   \"estimated_Simpson\" \n",
       "[61] \"SE_Simpson\"         \"basename\"           \"file\"              \n",
       "[64] \"sampletype\"         \"Group\"              \"log10shann\"        "
      ]
     },
     "metadata": {},
     "output_type": "display_data"
    }
   ],
   "source": [
    "colnames(meta_div)"
   ]
  },
  {
   "cell_type": "code",
   "execution_count": 29,
   "metadata": {
    "vscode": {
     "languageId": "r"
    }
   },
   "outputs": [],
   "source": [
    "int_all_list <- list()\n",
    "\n",
    "for (i in 1:nrow(meta_div)) {\n",
    "    fle <- meta_div[i, \"file\"]\n",
    "    sample <- meta_div[i, \"basename\"]\n",
    "    pat <- meta_div[i, \"Patient\"]\n",
    "    sampletype <- meta_div[i, \"sampletype\"]\n",
    "\n",
    "    onefle <- read.table(paste0(h4hpath, fle), sep = \"\\t\", header = TRUE, stringsAsFactors = F)\n",
    "    # Remove non-productive\n",
    "    onefle <- onefle[!grepl(\"_\", onefle$aaSeqCDR3), ]\n",
    "    onefle <- onefle[!grepl(\"[*]\", onefle$aaSeqCDR3), ]\n",
    "    # next if the file has no productive cdr3\n",
    "    if (nrow(onefle) == 0) {\n",
    "        next\n",
    "    }\n",
    "    onefle$file <- fle\n",
    "    onefle$basename <- sample\n",
    "    onefle$Patient <- pat\n",
    "    onefle$sampletype <- sampletype\n",
    "    int_all_list[length(int_all_list) + 1] <- list(onefle)\n",
    "}\n",
    "int_all <- do.call(\"rbind\", int_all_list)\n"
   ]
  },
  {
   "cell_type": "code",
   "execution_count": 30,
   "metadata": {
    "vscode": {
     "languageId": "r"
    }
   },
   "outputs": [
    {
     "data": {
      "text/html": [
       "<style>\n",
       ".list-inline {list-style: none; margin:0; padding: 0}\n",
       ".list-inline>li {display: inline-block}\n",
       ".list-inline>li:not(:last-child)::after {content: \"\\00b7\"; padding: 0 .5ex}\n",
       "</style>\n",
       "<ol class=list-inline><li>53686</li><li>39</li></ol>\n"
      ],
      "text/latex": [
       "\\begin{enumerate*}\n",
       "\\item 53686\n",
       "\\item 39\n",
       "\\end{enumerate*}\n"
      ],
      "text/markdown": [
       "1. 53686\n",
       "2. 39\n",
       "\n",
       "\n"
      ],
      "text/plain": [
       "[1] 53686    39"
      ]
     },
     "metadata": {},
     "output_type": "display_data"
    }
   ],
   "source": [
    "dim(int_all)"
   ]
  },
  {
   "cell_type": "code",
   "execution_count": 31,
   "metadata": {
    "vscode": {
     "languageId": "r"
    }
   },
   "outputs": [
    {
     "data": {
      "text/html": [
       "<table class=\"dataframe\">\n",
       "<caption>A data.frame: 6 x 39</caption>\n",
       "<thead>\n",
       "\t<tr><th></th><th scope=col>cloneId</th><th scope=col>cloneCount</th><th scope=col>cloneFraction</th><th scope=col>clonalSequence</th><th scope=col>clonalSequenceQuality</th><th scope=col>allVHitsWithScore</th><th scope=col>allDHitsWithScore</th><th scope=col>allJHitsWithScore</th><th scope=col>allCHitsWithScore</th><th scope=col>allVAlignments</th><th scope=col>...</th><th scope=col>aaSeqFR2</th><th scope=col>aaSeqCDR2</th><th scope=col>aaSeqFR3</th><th scope=col>aaSeqCDR3</th><th scope=col>aaSeqFR4</th><th scope=col>refPoints</th><th scope=col>file</th><th scope=col>basename</th><th scope=col>Patient</th><th scope=col>sampletype</th></tr>\n",
       "\t<tr><th></th><th scope=col>&lt;int&gt;</th><th scope=col>&lt;int&gt;</th><th scope=col>&lt;dbl&gt;</th><th scope=col>&lt;chr&gt;</th><th scope=col>&lt;chr&gt;</th><th scope=col>&lt;chr&gt;</th><th scope=col>&lt;chr&gt;</th><th scope=col>&lt;chr&gt;</th><th scope=col>&lt;chr&gt;</th><th scope=col>&lt;chr&gt;</th><th scope=col>...</th><th scope=col>&lt;lgl&gt;</th><th scope=col>&lt;lgl&gt;</th><th scope=col>&lt;lgl&gt;</th><th scope=col>&lt;chr&gt;</th><th scope=col>&lt;lgl&gt;</th><th scope=col>&lt;chr&gt;</th><th scope=col>&lt;chr&gt;</th><th scope=col>&lt;chr&gt;</th><th scope=col>&lt;chr&gt;</th><th scope=col>&lt;chr&gt;</th></tr>\n",
       "</thead>\n",
       "<tbody>\n",
       "\t<tr><th scope=row>1</th><td>37</td><td>13</td><td>0.15116279</td><td>TGTGCCAGCAGGGAAAGGATAGCCCCTGGAAACACCATATATTTT            </td><td>EEEEEEEEEEEEEEEEEEEEEEEEEEEEEEEEEEEEEEEEEEEEE            </td><td>TRBV6-5*00(726.3) </td><td>                         </td><td>TRBJ1-3*00(130)</td><td>NA</td><td>519|530|556|0|11||55.0</td><td>...</td><td>NA</td><td>NA</td><td>NA</td><td>CASRERIAPGNTIYF    </td><td>NA</td><td>:::::::::0:-6:11:::::25:-2:45:::        </td><td>batch2_Aug62019/mixcr/clones/CLONES_TRBCHP_319-05-PBMC-DNA.txt</td><td>CHP_319-05-PBMC-DNA</td><td>CHP_319</td><td>PBMC</td></tr>\n",
       "\t<tr><th scope=row>2</th><td>42</td><td>11</td><td>0.12790698</td><td>TGCAGTGCTAGAGATCGTACGGGAATGTCCACAGATACGCAGTATTTT         </td><td>EEEEEEEEEEEEEEEEEEEEEEEEEEEEEEEEEEEEEEEEEEEEEEEE         </td><td>TRBV20-1*00(703.5)</td><td>TRBD1*00(25),TRBD2*00(25)</td><td>TRBJ2-3*00(110)</td><td>NA</td><td>759|775|793|0|16||80.0</td><td>...</td><td>NA</td><td>NA</td><td>NA</td><td>CSARDRTGMSTDTQYF   </td><td>NA</td><td>:::::::::0:2:16:19:1:-8:24:29:-2:48:::  </td><td>batch2_Aug62019/mixcr/clones/CLONES_TRBCHP_319-05-PBMC-DNA.txt</td><td>CHP_319-05-PBMC-DNA</td><td>CHP_319</td><td>PBMC</td></tr>\n",
       "\t<tr><th scope=row>3</th><td>48</td><td> 9</td><td>0.10465116</td><td>TGTGCCAGTAGGCTCGGGACAGGGCATGAGAACACTGAAGCTTTCTTT         </td><td>EEEEEEEEEEEEEEEEEEEEEEEEEEEEEEEEEEEEEEEEEEEEEEEE         </td><td>TRBV19*00(373.2)  </td><td>TRBD1*00(50)             </td><td>TRBJ1-1*00(235)</td><td>NA</td><td>559|570|596|0|11||55.0</td><td>...</td><td>NA</td><td>NA</td><td>NA</td><td>CASRLGTGHENTEAFF   </td><td>NA</td><td>:::::::::0:-6:11:14:1:-3:24:29:-1:48::: </td><td>batch2_Aug62019/mixcr/clones/CLONES_TRBCHP_319-05-PBMC-DNA.txt</td><td>CHP_319-05-PBMC-DNA</td><td>CHP_319</td><td>PBMC</td></tr>\n",
       "\t<tr><th scope=row>4</th><td>50</td><td> 9</td><td>0.10465116</td><td>TGTGCCACCAGCAGAGATTGGACAGTCTCCTACGAGCAGTACTTC            </td><td>EEEEEEEEEEEEEEEEEEEEEEEEEEEEEEEEEEEEEEEEEEEEE            </td><td>TRBV15*00(439)    </td><td>TRBD1*00(30)             </td><td>TRBJ2-7*00(235)</td><td>NA</td><td>552|570|589|0|18||90.0</td><td>...</td><td>NA</td><td>NA</td><td>NA</td><td>CATSRDWTVSYEQYF    </td><td>NA</td><td>:::::::::0:1:18:19:-1:-5:25:26:0:45:::  </td><td>batch2_Aug62019/mixcr/clones/CLONES_TRBCHP_319-05-PBMC-DNA.txt</td><td>CHP_319-05-PBMC-DNA</td><td>CHP_319</td><td>PBMC</td></tr>\n",
       "\t<tr><th scope=row>5</th><td>63</td><td> 6</td><td>0.06976744</td><td>TGTGCCAGCAGCCGAAACAGGGTTAGGTATGGCTACACCTTC               </td><td>EEEEEEEEEEEEEEEEEEEEEEEEEEEEEEEEEEEEEEEEEE               </td><td>TRBV11-2*00(299)  </td><td>TRBD1*00(30)             </td><td>TRBJ1-2*00(215)</td><td>NA</td><td>522|534|559|0|12||60.0</td><td>...</td><td>NA</td><td>NA</td><td>NA</td><td>CASSRNRVRYGYTF     </td><td>NA</td><td>:::::::::0:-5:12:16:-3:-3:22:27:-5:42:::</td><td>batch2_Aug62019/mixcr/clones/CLONES_TRBCHP_319-05-PBMC-DNA.txt</td><td>CHP_319-05-PBMC-DNA</td><td>CHP_319</td><td>PBMC</td></tr>\n",
       "\t<tr><th scope=row>7</th><td>71</td><td> 5</td><td>0.05813953</td><td>TGTGCCAGCAGCAAAGATGTCCTAGGGGATAGCTCCTATAATTCACCCCTCCACTTT</td><td>EEEEEEEEEEEEEEEEEEEEEEEEEEEEEEEEEEEEEEEEEEEEEEEEEEEEEEEEE</td><td>TRBV21-1*00(1009) </td><td>TRBD1*00(25)             </td><td>TRBJ1-6*00(275)</td><td>NA</td><td>544|560|581|0|16||80.0</td><td>...</td><td>NA</td><td>NA</td><td>NA</td><td>CASSKDVLGDSSYNSPLHF</td><td>NA</td><td>:::::::::0:-1:16:17:6:-13:22:30:2:57::: </td><td>batch2_Aug62019/mixcr/clones/CLONES_TRBCHP_319-05-PBMC-DNA.txt</td><td>CHP_319-05-PBMC-DNA</td><td>CHP_319</td><td>PBMC</td></tr>\n",
       "</tbody>\n",
       "</table>\n"
      ],
      "text/latex": [
       "A data.frame: 6 x 39\n",
       "\\begin{tabular}{r|lllllllllllllllllllll}\n",
       "  & cloneId & cloneCount & cloneFraction & clonalSequence & clonalSequenceQuality & allVHitsWithScore & allDHitsWithScore & allJHitsWithScore & allCHitsWithScore & allVAlignments & ... & aaSeqFR2 & aaSeqCDR2 & aaSeqFR3 & aaSeqCDR3 & aaSeqFR4 & refPoints & file & basename & Patient & sampletype\\\\\n",
       "  & <int> & <int> & <dbl> & <chr> & <chr> & <chr> & <chr> & <chr> & <chr> & <chr> & ... & <lgl> & <lgl> & <lgl> & <chr> & <lgl> & <chr> & <chr> & <chr> & <chr> & <chr>\\\\\n",
       "\\hline\n",
       "\t1 & 37 & 13 & 0.15116279 & TGTGCCAGCAGGGAAAGGATAGCCCCTGGAAACACCATATATTTT             & EEEEEEEEEEEEEEEEEEEEEEEEEEEEEEEEEEEEEEEEEEEEE             & TRBV6-5*00(726.3)  &                           & TRBJ1-3*00(130) & NA & 519\\textbar{}530\\textbar{}556\\textbar{}0\\textbar{}11\\textbar{}\\textbar{}55.0 & ... & NA & NA & NA & CASRERIAPGNTIYF     & NA & :::::::::0:-6:11:::::25:-2:45:::         & batch2\\_Aug62019/mixcr/clones/CLONES\\_TRBCHP\\_319-05-PBMC-DNA.txt & CHP\\_319-05-PBMC-DNA & CHP\\_319 & PBMC\\\\\n",
       "\t2 & 42 & 11 & 0.12790698 & TGCAGTGCTAGAGATCGTACGGGAATGTCCACAGATACGCAGTATTTT          & EEEEEEEEEEEEEEEEEEEEEEEEEEEEEEEEEEEEEEEEEEEEEEEE          & TRBV20-1*00(703.5) & TRBD1*00(25),TRBD2*00(25) & TRBJ2-3*00(110) & NA & 759\\textbar{}775\\textbar{}793\\textbar{}0\\textbar{}16\\textbar{}\\textbar{}80.0 & ... & NA & NA & NA & CSARDRTGMSTDTQYF    & NA & :::::::::0:2:16:19:1:-8:24:29:-2:48:::   & batch2\\_Aug62019/mixcr/clones/CLONES\\_TRBCHP\\_319-05-PBMC-DNA.txt & CHP\\_319-05-PBMC-DNA & CHP\\_319 & PBMC\\\\\n",
       "\t3 & 48 &  9 & 0.10465116 & TGTGCCAGTAGGCTCGGGACAGGGCATGAGAACACTGAAGCTTTCTTT          & EEEEEEEEEEEEEEEEEEEEEEEEEEEEEEEEEEEEEEEEEEEEEEEE          & TRBV19*00(373.2)   & TRBD1*00(50)              & TRBJ1-1*00(235) & NA & 559\\textbar{}570\\textbar{}596\\textbar{}0\\textbar{}11\\textbar{}\\textbar{}55.0 & ... & NA & NA & NA & CASRLGTGHENTEAFF    & NA & :::::::::0:-6:11:14:1:-3:24:29:-1:48:::  & batch2\\_Aug62019/mixcr/clones/CLONES\\_TRBCHP\\_319-05-PBMC-DNA.txt & CHP\\_319-05-PBMC-DNA & CHP\\_319 & PBMC\\\\\n",
       "\t4 & 50 &  9 & 0.10465116 & TGTGCCACCAGCAGAGATTGGACAGTCTCCTACGAGCAGTACTTC             & EEEEEEEEEEEEEEEEEEEEEEEEEEEEEEEEEEEEEEEEEEEEE             & TRBV15*00(439)     & TRBD1*00(30)              & TRBJ2-7*00(235) & NA & 552\\textbar{}570\\textbar{}589\\textbar{}0\\textbar{}18\\textbar{}\\textbar{}90.0 & ... & NA & NA & NA & CATSRDWTVSYEQYF     & NA & :::::::::0:1:18:19:-1:-5:25:26:0:45:::   & batch2\\_Aug62019/mixcr/clones/CLONES\\_TRBCHP\\_319-05-PBMC-DNA.txt & CHP\\_319-05-PBMC-DNA & CHP\\_319 & PBMC\\\\\n",
       "\t5 & 63 &  6 & 0.06976744 & TGTGCCAGCAGCCGAAACAGGGTTAGGTATGGCTACACCTTC                & EEEEEEEEEEEEEEEEEEEEEEEEEEEEEEEEEEEEEEEEEE                & TRBV11-2*00(299)   & TRBD1*00(30)              & TRBJ1-2*00(215) & NA & 522\\textbar{}534\\textbar{}559\\textbar{}0\\textbar{}12\\textbar{}\\textbar{}60.0 & ... & NA & NA & NA & CASSRNRVRYGYTF      & NA & :::::::::0:-5:12:16:-3:-3:22:27:-5:42::: & batch2\\_Aug62019/mixcr/clones/CLONES\\_TRBCHP\\_319-05-PBMC-DNA.txt & CHP\\_319-05-PBMC-DNA & CHP\\_319 & PBMC\\\\\n",
       "\t7 & 71 &  5 & 0.05813953 & TGTGCCAGCAGCAAAGATGTCCTAGGGGATAGCTCCTATAATTCACCCCTCCACTTT & EEEEEEEEEEEEEEEEEEEEEEEEEEEEEEEEEEEEEEEEEEEEEEEEEEEEEEEEE & TRBV21-1*00(1009)  & TRBD1*00(25)              & TRBJ1-6*00(275) & NA & 544\\textbar{}560\\textbar{}581\\textbar{}0\\textbar{}16\\textbar{}\\textbar{}80.0 & ... & NA & NA & NA & CASSKDVLGDSSYNSPLHF & NA & :::::::::0:-1:16:17:6:-13:22:30:2:57:::  & batch2\\_Aug62019/mixcr/clones/CLONES\\_TRBCHP\\_319-05-PBMC-DNA.txt & CHP\\_319-05-PBMC-DNA & CHP\\_319 & PBMC\\\\\n",
       "\\end{tabular}\n"
      ],
      "text/markdown": [
       "\n",
       "A data.frame: 6 x 39\n",
       "\n",
       "| <!--/--> | cloneId &lt;int&gt; | cloneCount &lt;int&gt; | cloneFraction &lt;dbl&gt; | clonalSequence &lt;chr&gt; | clonalSequenceQuality &lt;chr&gt; | allVHitsWithScore &lt;chr&gt; | allDHitsWithScore &lt;chr&gt; | allJHitsWithScore &lt;chr&gt; | allCHitsWithScore &lt;chr&gt; | allVAlignments &lt;chr&gt; | ... ... | aaSeqFR2 &lt;lgl&gt; | aaSeqCDR2 &lt;lgl&gt; | aaSeqFR3 &lt;lgl&gt; | aaSeqCDR3 &lt;chr&gt; | aaSeqFR4 &lt;lgl&gt; | refPoints &lt;chr&gt; | file &lt;chr&gt; | basename &lt;chr&gt; | Patient &lt;chr&gt; | sampletype &lt;chr&gt; |\n",
       "|---|---|---|---|---|---|---|---|---|---|---|---|---|---|---|---|---|---|---|---|---|---|\n",
       "| 1 | 37 | 13 | 0.15116279 | TGTGCCAGCAGGGAAAGGATAGCCCCTGGAAACACCATATATTTT             | EEEEEEEEEEEEEEEEEEEEEEEEEEEEEEEEEEEEEEEEEEEEE             | TRBV6-5*00(726.3)  | <!----> | TRBJ1-3*00(130) | NA | 519|530|556|0|11||55.0 | ... | NA | NA | NA | CASRERIAPGNTIYF     | NA | :::::::::0:-6:11:::::25:-2:45:::         | batch2_Aug62019/mixcr/clones/CLONES_TRBCHP_319-05-PBMC-DNA.txt | CHP_319-05-PBMC-DNA | CHP_319 | PBMC |\n",
       "| 2 | 42 | 11 | 0.12790698 | TGCAGTGCTAGAGATCGTACGGGAATGTCCACAGATACGCAGTATTTT          | EEEEEEEEEEEEEEEEEEEEEEEEEEEEEEEEEEEEEEEEEEEEEEEE          | TRBV20-1*00(703.5) | TRBD1*00(25),TRBD2*00(25) | TRBJ2-3*00(110) | NA | 759|775|793|0|16||80.0 | ... | NA | NA | NA | CSARDRTGMSTDTQYF    | NA | :::::::::0:2:16:19:1:-8:24:29:-2:48:::   | batch2_Aug62019/mixcr/clones/CLONES_TRBCHP_319-05-PBMC-DNA.txt | CHP_319-05-PBMC-DNA | CHP_319 | PBMC |\n",
       "| 3 | 48 |  9 | 0.10465116 | TGTGCCAGTAGGCTCGGGACAGGGCATGAGAACACTGAAGCTTTCTTT          | EEEEEEEEEEEEEEEEEEEEEEEEEEEEEEEEEEEEEEEEEEEEEEEE          | TRBV19*00(373.2)   | TRBD1*00(50)              | TRBJ1-1*00(235) | NA | 559|570|596|0|11||55.0 | ... | NA | NA | NA | CASRLGTGHENTEAFF    | NA | :::::::::0:-6:11:14:1:-3:24:29:-1:48:::  | batch2_Aug62019/mixcr/clones/CLONES_TRBCHP_319-05-PBMC-DNA.txt | CHP_319-05-PBMC-DNA | CHP_319 | PBMC |\n",
       "| 4 | 50 |  9 | 0.10465116 | TGTGCCACCAGCAGAGATTGGACAGTCTCCTACGAGCAGTACTTC             | EEEEEEEEEEEEEEEEEEEEEEEEEEEEEEEEEEEEEEEEEEEEE             | TRBV15*00(439)     | TRBD1*00(30)              | TRBJ2-7*00(235) | NA | 552|570|589|0|18||90.0 | ... | NA | NA | NA | CATSRDWTVSYEQYF     | NA | :::::::::0:1:18:19:-1:-5:25:26:0:45:::   | batch2_Aug62019/mixcr/clones/CLONES_TRBCHP_319-05-PBMC-DNA.txt | CHP_319-05-PBMC-DNA | CHP_319 | PBMC |\n",
       "| 5 | 63 |  6 | 0.06976744 | TGTGCCAGCAGCCGAAACAGGGTTAGGTATGGCTACACCTTC                | EEEEEEEEEEEEEEEEEEEEEEEEEEEEEEEEEEEEEEEEEE                | TRBV11-2*00(299)   | TRBD1*00(30)              | TRBJ1-2*00(215) | NA | 522|534|559|0|12||60.0 | ... | NA | NA | NA | CASSRNRVRYGYTF      | NA | :::::::::0:-5:12:16:-3:-3:22:27:-5:42::: | batch2_Aug62019/mixcr/clones/CLONES_TRBCHP_319-05-PBMC-DNA.txt | CHP_319-05-PBMC-DNA | CHP_319 | PBMC |\n",
       "| 7 | 71 |  5 | 0.05813953 | TGTGCCAGCAGCAAAGATGTCCTAGGGGATAGCTCCTATAATTCACCCCTCCACTTT | EEEEEEEEEEEEEEEEEEEEEEEEEEEEEEEEEEEEEEEEEEEEEEEEEEEEEEEEE | TRBV21-1*00(1009)  | TRBD1*00(25)              | TRBJ1-6*00(275) | NA | 544|560|581|0|16||80.0 | ... | NA | NA | NA | CASSKDVLGDSSYNSPLHF | NA | :::::::::0:-1:16:17:6:-13:22:30:2:57:::  | batch2_Aug62019/mixcr/clones/CLONES_TRBCHP_319-05-PBMC-DNA.txt | CHP_319-05-PBMC-DNA | CHP_319 | PBMC |\n",
       "\n"
      ],
      "text/plain": [
       "  cloneId cloneCount cloneFraction\n",
       "1 37      13         0.15116279   \n",
       "2 42      11         0.12790698   \n",
       "3 48       9         0.10465116   \n",
       "4 50       9         0.10465116   \n",
       "5 63       6         0.06976744   \n",
       "7 71       5         0.05813953   \n",
       "  clonalSequence                                           \n",
       "1 TGTGCCAGCAGGGAAAGGATAGCCCCTGGAAACACCATATATTTT            \n",
       "2 TGCAGTGCTAGAGATCGTACGGGAATGTCCACAGATACGCAGTATTTT         \n",
       "3 TGTGCCAGTAGGCTCGGGACAGGGCATGAGAACACTGAAGCTTTCTTT         \n",
       "4 TGTGCCACCAGCAGAGATTGGACAGTCTCCTACGAGCAGTACTTC            \n",
       "5 TGTGCCAGCAGCCGAAACAGGGTTAGGTATGGCTACACCTTC               \n",
       "7 TGTGCCAGCAGCAAAGATGTCCTAGGGGATAGCTCCTATAATTCACCCCTCCACTTT\n",
       "  clonalSequenceQuality                                     allVHitsWithScore \n",
       "1 EEEEEEEEEEEEEEEEEEEEEEEEEEEEEEEEEEEEEEEEEEEEE             TRBV6-5*00(726.3) \n",
       "2 EEEEEEEEEEEEEEEEEEEEEEEEEEEEEEEEEEEEEEEEEEEEEEEE          TRBV20-1*00(703.5)\n",
       "3 EEEEEEEEEEEEEEEEEEEEEEEEEEEEEEEEEEEEEEEEEEEEEEEE          TRBV19*00(373.2)  \n",
       "4 EEEEEEEEEEEEEEEEEEEEEEEEEEEEEEEEEEEEEEEEEEEEE             TRBV15*00(439)    \n",
       "5 EEEEEEEEEEEEEEEEEEEEEEEEEEEEEEEEEEEEEEEEEE                TRBV11-2*00(299)  \n",
       "7 EEEEEEEEEEEEEEEEEEEEEEEEEEEEEEEEEEEEEEEEEEEEEEEEEEEEEEEEE TRBV21-1*00(1009) \n",
       "  allDHitsWithScore         allJHitsWithScore allCHitsWithScore\n",
       "1                           TRBJ1-3*00(130)   NA               \n",
       "2 TRBD1*00(25),TRBD2*00(25) TRBJ2-3*00(110)   NA               \n",
       "3 TRBD1*00(50)              TRBJ1-1*00(235)   NA               \n",
       "4 TRBD1*00(30)              TRBJ2-7*00(235)   NA               \n",
       "5 TRBD1*00(30)              TRBJ1-2*00(215)   NA               \n",
       "7 TRBD1*00(25)              TRBJ1-6*00(275)   NA               \n",
       "  allVAlignments         ... aaSeqFR2 aaSeqCDR2 aaSeqFR3 aaSeqCDR3          \n",
       "1 519|530|556|0|11||55.0 ... NA       NA        NA       CASRERIAPGNTIYF    \n",
       "2 759|775|793|0|16||80.0 ... NA       NA        NA       CSARDRTGMSTDTQYF   \n",
       "3 559|570|596|0|11||55.0 ... NA       NA        NA       CASRLGTGHENTEAFF   \n",
       "4 552|570|589|0|18||90.0 ... NA       NA        NA       CATSRDWTVSYEQYF    \n",
       "5 522|534|559|0|12||60.0 ... NA       NA        NA       CASSRNRVRYGYTF     \n",
       "7 544|560|581|0|16||80.0 ... NA       NA        NA       CASSKDVLGDSSYNSPLHF\n",
       "  aaSeqFR4 refPoints                               \n",
       "1 NA       :::::::::0:-6:11:::::25:-2:45:::        \n",
       "2 NA       :::::::::0:2:16:19:1:-8:24:29:-2:48:::  \n",
       "3 NA       :::::::::0:-6:11:14:1:-3:24:29:-1:48::: \n",
       "4 NA       :::::::::0:1:18:19:-1:-5:25:26:0:45:::  \n",
       "5 NA       :::::::::0:-5:12:16:-3:-3:22:27:-5:42:::\n",
       "7 NA       :::::::::0:-1:16:17:6:-13:22:30:2:57::: \n",
       "  file                                                          \n",
       "1 batch2_Aug62019/mixcr/clones/CLONES_TRBCHP_319-05-PBMC-DNA.txt\n",
       "2 batch2_Aug62019/mixcr/clones/CLONES_TRBCHP_319-05-PBMC-DNA.txt\n",
       "3 batch2_Aug62019/mixcr/clones/CLONES_TRBCHP_319-05-PBMC-DNA.txt\n",
       "4 batch2_Aug62019/mixcr/clones/CLONES_TRBCHP_319-05-PBMC-DNA.txt\n",
       "5 batch2_Aug62019/mixcr/clones/CLONES_TRBCHP_319-05-PBMC-DNA.txt\n",
       "7 batch2_Aug62019/mixcr/clones/CLONES_TRBCHP_319-05-PBMC-DNA.txt\n",
       "  basename            Patient sampletype\n",
       "1 CHP_319-05-PBMC-DNA CHP_319 PBMC      \n",
       "2 CHP_319-05-PBMC-DNA CHP_319 PBMC      \n",
       "3 CHP_319-05-PBMC-DNA CHP_319 PBMC      \n",
       "4 CHP_319-05-PBMC-DNA CHP_319 PBMC      \n",
       "5 CHP_319-05-PBMC-DNA CHP_319 PBMC      \n",
       "7 CHP_319-05-PBMC-DNA CHP_319 PBMC      "
      ]
     },
     "metadata": {},
     "output_type": "display_data"
    }
   ],
   "source": [
    "head(int_all)"
   ]
  },
  {
   "cell_type": "code",
   "execution_count": 32,
   "metadata": {
    "vscode": {
     "languageId": "r"
    }
   },
   "outputs": [],
   "source": [
    "allTCRs <- nrow(int_all)\n",
    "# uniqueTCRs <- length(unique(int_all$aaSeqCDR3))"
   ]
  },
  {
   "cell_type": "code",
   "execution_count": 33,
   "metadata": {
    "vscode": {
     "languageId": "r"
    }
   },
   "outputs": [],
   "source": [
    "dups <- int_all[duplicated(int_all$aaSeqCDR3),]"
   ]
  },
  {
   "cell_type": "code",
   "execution_count": 34,
   "metadata": {
    "vscode": {
     "languageId": "r"
    }
   },
   "outputs": [
    {
     "data": {
      "text/html": [
       "53686"
      ],
      "text/latex": [
       "53686"
      ],
      "text/markdown": [
       "53686"
      ],
      "text/plain": [
       "[1] 53686"
      ]
     },
     "metadata": {},
     "output_type": "display_data"
    }
   ],
   "source": [
    "allTCRs # total TCRs"
   ]
  },
  {
   "cell_type": "code",
   "execution_count": 35,
   "metadata": {
    "vscode": {
     "languageId": "r"
    }
   },
   "outputs": [
    {
     "data": {
      "text/html": [
       "<style>\n",
       ".list-inline {list-style: none; margin:0; padding: 0}\n",
       ".list-inline>li {display: inline-block}\n",
       ".list-inline>li:not(:last-child)::after {content: \"\\00b7\"; padding: 0 .5ex}\n",
       "</style>\n",
       "<ol class=list-inline><li>50514</li><li>39</li></ol>\n"
      ],
      "text/latex": [
       "\\begin{enumerate*}\n",
       "\\item 50514\n",
       "\\item 39\n",
       "\\end{enumerate*}\n"
      ],
      "text/markdown": [
       "1. 50514\n",
       "2. 39\n",
       "\n",
       "\n"
      ],
      "text/plain": [
       "[1] 50514    39"
      ]
     },
     "metadata": {},
     "output_type": "display_data"
    }
   ],
   "source": [
    "dim(int_all[!duplicated(int_all$aaSeqCDR3),]) # total unique TCRs"
   ]
  },
  {
   "cell_type": "code",
   "execution_count": 36,
   "metadata": {
    "vscode": {
     "languageId": "r"
    }
   },
   "outputs": [
    {
     "data": {
      "text/html": [
       "<table class=\"dataframe\">\n",
       "<caption>A data.frame: 6 x 39</caption>\n",
       "<thead>\n",
       "\t<tr><th></th><th scope=col>cloneId</th><th scope=col>cloneCount</th><th scope=col>cloneFraction</th><th scope=col>clonalSequence</th><th scope=col>clonalSequenceQuality</th><th scope=col>allVHitsWithScore</th><th scope=col>allDHitsWithScore</th><th scope=col>allJHitsWithScore</th><th scope=col>allCHitsWithScore</th><th scope=col>allVAlignments</th><th scope=col>...</th><th scope=col>aaSeqFR2</th><th scope=col>aaSeqCDR2</th><th scope=col>aaSeqFR3</th><th scope=col>aaSeqCDR3</th><th scope=col>aaSeqFR4</th><th scope=col>refPoints</th><th scope=col>file</th><th scope=col>basename</th><th scope=col>Patient</th><th scope=col>sampletype</th></tr>\n",
       "\t<tr><th></th><th scope=col>&lt;int&gt;</th><th scope=col>&lt;int&gt;</th><th scope=col>&lt;dbl&gt;</th><th scope=col>&lt;chr&gt;</th><th scope=col>&lt;chr&gt;</th><th scope=col>&lt;chr&gt;</th><th scope=col>&lt;chr&gt;</th><th scope=col>&lt;chr&gt;</th><th scope=col>&lt;chr&gt;</th><th scope=col>&lt;chr&gt;</th><th scope=col>...</th><th scope=col>&lt;lgl&gt;</th><th scope=col>&lt;lgl&gt;</th><th scope=col>&lt;lgl&gt;</th><th scope=col>&lt;chr&gt;</th><th scope=col>&lt;lgl&gt;</th><th scope=col>&lt;chr&gt;</th><th scope=col>&lt;chr&gt;</th><th scope=col>&lt;chr&gt;</th><th scope=col>&lt;chr&gt;</th><th scope=col>&lt;chr&gt;</th></tr>\n",
       "</thead>\n",
       "<tbody>\n",
       "\t<tr><th scope=row>16</th><td><span style=white-space:pre-wrap>  91</span></td><td><span style=white-space:pre-wrap>  1</span></td><td>0.0116279070</td><td>TGTGCCAGCAGCCAGGAACACGCTAGCGGGGGGAGGTTAGATACGCAGTATTTT</td><td>EEEEAEEEEEEAEEEEEEEEEEEE&lt;EEEEEEEEEEEEEEEEEEEAEEEEEEEEE</td><td><span style=white-space:pre-wrap>TRBV3-1*00(539),TRBV3-2*00(491)      </span></td><td><span style=white-space:pre-wrap>TRBD2*00(40)             </span></td><td><span style=white-space:pre-wrap>TRBJ2-3*00(220)  </span></td><td>NA</td><td>543|557|580|0|14||70.0;543|557|580|0|14||70.0</td><td>...</td><td>NA</td><td>NA</td><td>NA</td><td>CASSQEHASGGRLDTQYF</td><td>NA</td><td>:::::::::0:-3:14:22:-4:-4:30:38:-5:54:::</td><td><span style=white-space:pre-wrap>batch2_Aug62019/mixcr/clones/CLONES_TRBCHP_319-05-PBMC-DNA.txt              </span></td><td>CHP_319-05-PBMC-DNA</td><td>CHP_319</td><td>PBMC</td></tr>\n",
       "\t<tr><th scope=row>192</th><td>1324</td><td>  1</td><td>0.0004017678</td><td>TGCAGCGTTGAAGATCATGCTAGCGGGATTAGAGATACACAGTATTTT      </td><td>EAEEAEEAEEEEEEEEAEEEEEEEEEEEEEEEEEEEEEEEEEEEEEEE      </td><td>TRBV29-1*00(1245)                    </td><td>TRBD2*00(45)             </td><td>TRBJ2-3*00(97)   </td><td>NA</td><td>700|716|734|0|16||80.0                       </td><td>...</td><td>NA</td><td>NA</td><td>NA</td><td>CSVEDHASGIRDTQYF  </td><td>NA</td><td>:::::::::0:2:16:19:-4:-3:28:32:-5:48::: </td><td>batch7_25Oct2019/mixcr/clones/CLONES_TRBCHP_323-05-PBMC-DNA.txt             </td><td>CHP_323-05-PBMC-DNA</td><td>CHP_323</td><td>PBMC</td></tr>\n",
       "\t<tr><th scope=row>199</th><td>1367</td><td>  1</td><td>0.0004017678</td><td>TGCAGCGTTGTGGCGGGGGGGCGAAATACACAGTATTTT               </td><td>EEEEEEEEEEEEEEAEEEEEEEEEEEEEEAAEEEEEEEE               </td><td>TRBV29-1*00(1244)                    </td><td>TRBD1*00(35),TRBD2*00(34)</td><td>TRBJ2-3*00(103)  </td><td>NA</td><td>700|710|734|0|10||50.0                       </td><td>...</td><td>NA</td><td>NA</td><td>NA</td><td>CSVVAGGRNTQYF     </td><td>NA</td><td>:::::::::0:-4:10:16:-6:1:23:25:-7:39::: </td><td>batch7_25Oct2019/mixcr/clones/CLONES_TRBCHP_323-05-PBMC-DNA.txt             </td><td>CHP_323-05-PBMC-DNA</td><td>CHP_323</td><td>PBMC</td></tr>\n",
       "\t<tr><th scope=row>10310</th><td> 985</td><td>181</td><td>0.0030282244</td><td>TGCGCCAGCAGCTTGGAGGGGGATCAGCCCCAGCATTTT               </td><td>EEEEEEEEEEEEEEEEEEEEEEEEEEEEEEEEEEEEEEE               </td><td>TRBV5-1*00(578.1)                    </td><td>TRBD1*00(30)             </td><td>TRBJ1-5*00(222)  </td><td>NA</td><td>554|570|590|0|16||80.0                       </td><td>...</td><td>NA</td><td>NA</td><td>NA</td><td>CASSLEGDQPQHF     </td><td>NA</td><td>:::::::::0:0:16:16:-5:-1:22:22:-5:39::: </td><td>remaining_batch_2_22April2021/mixcr/clones/CLONES_TRBCHP_324-05_PBMC-DNA.txt</td><td>CHP_324-05_PBMC-DNA</td><td>CHP_324</td><td>PBMC</td></tr>\n",
       "\t<tr><th scope=row>247</th><td>1474</td><td> 26</td><td>0.0004349936</td><td>TGTGCCAGCAGTTTCCCATTCGGGACAGGGTCGAATTCACCCCTCCACTTT   </td><td>EEEEEEEEEEEEEEEEEEEEEEEEEEEEEEEEEEEEEEEEEEEEEEEEEEE   </td><td>TRBV28*00(150)                       </td><td>TRBD1*00(50)             </td><td>TRBJ1-6*00(209.8)</td><td>NA</td><td>564|578|601|0|14||70.0                       </td><td>...</td><td>NA</td><td>NA</td><td>NA</td><td>CASSFPFGTGSNSPLHF </td><td>NA</td><td>:::::::::0:-3:14:20:1:-3:30:33:-7:51::: </td><td>remaining_batch_2_22April2021/mixcr/clones/CLONES_TRBCHP_324-05_PBMC-DNA.txt</td><td>CHP_324-05_PBMC-DNA</td><td>CHP_324</td><td>PBMC</td></tr>\n",
       "\t<tr><th scope=row>255</th><td>1505</td><td> 21</td><td>0.0003513410</td><td>TGTGCCAGCAGCTTTTCGGGAGGGTCGTCTGAAGCTTTCTTT            </td><td>EEEEEEEEEEEEEEEEEEEEEEEEEEEEEEEEEEEEEEEEEE            </td><td>TRBV11-1*00(591.9),TRBV11-2*00(574.9)</td><td>TRBD2*00(40)             </td><td>TRBJ1-1*00(210)  </td><td>NA</td><td>531|545|568|0|14||70.0;522|536|559|0|14||70.0</td><td>...</td><td>NA</td><td>NA</td><td>NA</td><td>CASSFSGGSSEAFF    </td><td>NA</td><td>:::::::::0:-3:14:16:-8:0:24:28:-6:42::: </td><td>remaining_batch_2_22April2021/mixcr/clones/CLONES_TRBCHP_324-05_PBMC-DNA.txt</td><td>CHP_324-05_PBMC-DNA</td><td>CHP_324</td><td>PBMC</td></tr>\n",
       "</tbody>\n",
       "</table>\n"
      ],
      "text/latex": [
       "A data.frame: 6 x 39\n",
       "\\begin{tabular}{r|lllllllllllllllllllll}\n",
       "  & cloneId & cloneCount & cloneFraction & clonalSequence & clonalSequenceQuality & allVHitsWithScore & allDHitsWithScore & allJHitsWithScore & allCHitsWithScore & allVAlignments & ... & aaSeqFR2 & aaSeqCDR2 & aaSeqFR3 & aaSeqCDR3 & aaSeqFR4 & refPoints & file & basename & Patient & sampletype\\\\\n",
       "  & <int> & <int> & <dbl> & <chr> & <chr> & <chr> & <chr> & <chr> & <chr> & <chr> & ... & <lgl> & <lgl> & <lgl> & <chr> & <lgl> & <chr> & <chr> & <chr> & <chr> & <chr>\\\\\n",
       "\\hline\n",
       "\t16 &   91 &   1 & 0.0116279070 & TGTGCCAGCAGCCAGGAACACGCTAGCGGGGGGAGGTTAGATACGCAGTATTTT & EEEEAEEEEEEAEEEEEEEEEEEE<EEEEEEEEEEEEEEEEEEEAEEEEEEEEE & TRBV3-1*00(539),TRBV3-2*00(491)       & TRBD2*00(40)              & TRBJ2-3*00(220)   & NA & 543\\textbar{}557\\textbar{}580\\textbar{}0\\textbar{}14\\textbar{}\\textbar{}70.0;543\\textbar{}557\\textbar{}580\\textbar{}0\\textbar{}14\\textbar{}\\textbar{}70.0 & ... & NA & NA & NA & CASSQEHASGGRLDTQYF & NA & :::::::::0:-3:14:22:-4:-4:30:38:-5:54::: & batch2\\_Aug62019/mixcr/clones/CLONES\\_TRBCHP\\_319-05-PBMC-DNA.txt               & CHP\\_319-05-PBMC-DNA & CHP\\_319 & PBMC\\\\\n",
       "\t192 & 1324 &   1 & 0.0004017678 & TGCAGCGTTGAAGATCATGCTAGCGGGATTAGAGATACACAGTATTTT       & EAEEAEEAEEEEEEEEAEEEEEEEEEEEEEEEEEEEEEEEEEEEEEEE       & TRBV29-1*00(1245)                     & TRBD2*00(45)              & TRBJ2-3*00(97)    & NA & 700\\textbar{}716\\textbar{}734\\textbar{}0\\textbar{}16\\textbar{}\\textbar{}80.0                        & ... & NA & NA & NA & CSVEDHASGIRDTQYF   & NA & :::::::::0:2:16:19:-4:-3:28:32:-5:48:::  & batch7\\_25Oct2019/mixcr/clones/CLONES\\_TRBCHP\\_323-05-PBMC-DNA.txt              & CHP\\_323-05-PBMC-DNA & CHP\\_323 & PBMC\\\\\n",
       "\t199 & 1367 &   1 & 0.0004017678 & TGCAGCGTTGTGGCGGGGGGGCGAAATACACAGTATTTT                & EEEEEEEEEEEEEEAEEEEEEEEEEEEEEAAEEEEEEEE                & TRBV29-1*00(1244)                     & TRBD1*00(35),TRBD2*00(34) & TRBJ2-3*00(103)   & NA & 700\\textbar{}710\\textbar{}734\\textbar{}0\\textbar{}10\\textbar{}\\textbar{}50.0                        & ... & NA & NA & NA & CSVVAGGRNTQYF      & NA & :::::::::0:-4:10:16:-6:1:23:25:-7:39:::  & batch7\\_25Oct2019/mixcr/clones/CLONES\\_TRBCHP\\_323-05-PBMC-DNA.txt              & CHP\\_323-05-PBMC-DNA & CHP\\_323 & PBMC\\\\\n",
       "\t10310 &  985 & 181 & 0.0030282244 & TGCGCCAGCAGCTTGGAGGGGGATCAGCCCCAGCATTTT                & EEEEEEEEEEEEEEEEEEEEEEEEEEEEEEEEEEEEEEE                & TRBV5-1*00(578.1)                     & TRBD1*00(30)              & TRBJ1-5*00(222)   & NA & 554\\textbar{}570\\textbar{}590\\textbar{}0\\textbar{}16\\textbar{}\\textbar{}80.0                        & ... & NA & NA & NA & CASSLEGDQPQHF      & NA & :::::::::0:0:16:16:-5:-1:22:22:-5:39:::  & remaining\\_batch\\_2\\_22April2021/mixcr/clones/CLONES\\_TRBCHP\\_324-05\\_PBMC-DNA.txt & CHP\\_324-05\\_PBMC-DNA & CHP\\_324 & PBMC\\\\\n",
       "\t247 & 1474 &  26 & 0.0004349936 & TGTGCCAGCAGTTTCCCATTCGGGACAGGGTCGAATTCACCCCTCCACTTT    & EEEEEEEEEEEEEEEEEEEEEEEEEEEEEEEEEEEEEEEEEEEEEEEEEEE    & TRBV28*00(150)                        & TRBD1*00(50)              & TRBJ1-6*00(209.8) & NA & 564\\textbar{}578\\textbar{}601\\textbar{}0\\textbar{}14\\textbar{}\\textbar{}70.0                        & ... & NA & NA & NA & CASSFPFGTGSNSPLHF  & NA & :::::::::0:-3:14:20:1:-3:30:33:-7:51:::  & remaining\\_batch\\_2\\_22April2021/mixcr/clones/CLONES\\_TRBCHP\\_324-05\\_PBMC-DNA.txt & CHP\\_324-05\\_PBMC-DNA & CHP\\_324 & PBMC\\\\\n",
       "\t255 & 1505 &  21 & 0.0003513410 & TGTGCCAGCAGCTTTTCGGGAGGGTCGTCTGAAGCTTTCTTT             & EEEEEEEEEEEEEEEEEEEEEEEEEEEEEEEEEEEEEEEEEE             & TRBV11-1*00(591.9),TRBV11-2*00(574.9) & TRBD2*00(40)              & TRBJ1-1*00(210)   & NA & 531\\textbar{}545\\textbar{}568\\textbar{}0\\textbar{}14\\textbar{}\\textbar{}70.0;522\\textbar{}536\\textbar{}559\\textbar{}0\\textbar{}14\\textbar{}\\textbar{}70.0 & ... & NA & NA & NA & CASSFSGGSSEAFF     & NA & :::::::::0:-3:14:16:-8:0:24:28:-6:42:::  & remaining\\_batch\\_2\\_22April2021/mixcr/clones/CLONES\\_TRBCHP\\_324-05\\_PBMC-DNA.txt & CHP\\_324-05\\_PBMC-DNA & CHP\\_324 & PBMC\\\\\n",
       "\\end{tabular}\n"
      ],
      "text/markdown": [
       "\n",
       "A data.frame: 6 x 39\n",
       "\n",
       "| <!--/--> | cloneId &lt;int&gt; | cloneCount &lt;int&gt; | cloneFraction &lt;dbl&gt; | clonalSequence &lt;chr&gt; | clonalSequenceQuality &lt;chr&gt; | allVHitsWithScore &lt;chr&gt; | allDHitsWithScore &lt;chr&gt; | allJHitsWithScore &lt;chr&gt; | allCHitsWithScore &lt;chr&gt; | allVAlignments &lt;chr&gt; | ... ... | aaSeqFR2 &lt;lgl&gt; | aaSeqCDR2 &lt;lgl&gt; | aaSeqFR3 &lt;lgl&gt; | aaSeqCDR3 &lt;chr&gt; | aaSeqFR4 &lt;lgl&gt; | refPoints &lt;chr&gt; | file &lt;chr&gt; | basename &lt;chr&gt; | Patient &lt;chr&gt; | sampletype &lt;chr&gt; |\n",
       "|---|---|---|---|---|---|---|---|---|---|---|---|---|---|---|---|---|---|---|---|---|---|\n",
       "| 16 |   91 |   1 | 0.0116279070 | TGTGCCAGCAGCCAGGAACACGCTAGCGGGGGGAGGTTAGATACGCAGTATTTT | EEEEAEEEEEEAEEEEEEEEEEEE&lt;EEEEEEEEEEEEEEEEEEEAEEEEEEEEE | TRBV3-1*00(539),TRBV3-2*00(491)       | TRBD2*00(40)              | TRBJ2-3*00(220)   | NA | 543|557|580|0|14||70.0;543|557|580|0|14||70.0 | ... | NA | NA | NA | CASSQEHASGGRLDTQYF | NA | :::::::::0:-3:14:22:-4:-4:30:38:-5:54::: | batch2_Aug62019/mixcr/clones/CLONES_TRBCHP_319-05-PBMC-DNA.txt               | CHP_319-05-PBMC-DNA | CHP_319 | PBMC |\n",
       "| 192 | 1324 |   1 | 0.0004017678 | TGCAGCGTTGAAGATCATGCTAGCGGGATTAGAGATACACAGTATTTT       | EAEEAEEAEEEEEEEEAEEEEEEEEEEEEEEEEEEEEEEEEEEEEEEE       | TRBV29-1*00(1245)                     | TRBD2*00(45)              | TRBJ2-3*00(97)    | NA | 700|716|734|0|16||80.0                        | ... | NA | NA | NA | CSVEDHASGIRDTQYF   | NA | :::::::::0:2:16:19:-4:-3:28:32:-5:48:::  | batch7_25Oct2019/mixcr/clones/CLONES_TRBCHP_323-05-PBMC-DNA.txt              | CHP_323-05-PBMC-DNA | CHP_323 | PBMC |\n",
       "| 199 | 1367 |   1 | 0.0004017678 | TGCAGCGTTGTGGCGGGGGGGCGAAATACACAGTATTTT                | EEEEEEEEEEEEEEAEEEEEEEEEEEEEEAAEEEEEEEE                | TRBV29-1*00(1244)                     | TRBD1*00(35),TRBD2*00(34) | TRBJ2-3*00(103)   | NA | 700|710|734|0|10||50.0                        | ... | NA | NA | NA | CSVVAGGRNTQYF      | NA | :::::::::0:-4:10:16:-6:1:23:25:-7:39:::  | batch7_25Oct2019/mixcr/clones/CLONES_TRBCHP_323-05-PBMC-DNA.txt              | CHP_323-05-PBMC-DNA | CHP_323 | PBMC |\n",
       "| 10310 |  985 | 181 | 0.0030282244 | TGCGCCAGCAGCTTGGAGGGGGATCAGCCCCAGCATTTT                | EEEEEEEEEEEEEEEEEEEEEEEEEEEEEEEEEEEEEEE                | TRBV5-1*00(578.1)                     | TRBD1*00(30)              | TRBJ1-5*00(222)   | NA | 554|570|590|0|16||80.0                        | ... | NA | NA | NA | CASSLEGDQPQHF      | NA | :::::::::0:0:16:16:-5:-1:22:22:-5:39:::  | remaining_batch_2_22April2021/mixcr/clones/CLONES_TRBCHP_324-05_PBMC-DNA.txt | CHP_324-05_PBMC-DNA | CHP_324 | PBMC |\n",
       "| 247 | 1474 |  26 | 0.0004349936 | TGTGCCAGCAGTTTCCCATTCGGGACAGGGTCGAATTCACCCCTCCACTTT    | EEEEEEEEEEEEEEEEEEEEEEEEEEEEEEEEEEEEEEEEEEEEEEEEEEE    | TRBV28*00(150)                        | TRBD1*00(50)              | TRBJ1-6*00(209.8) | NA | 564|578|601|0|14||70.0                        | ... | NA | NA | NA | CASSFPFGTGSNSPLHF  | NA | :::::::::0:-3:14:20:1:-3:30:33:-7:51:::  | remaining_batch_2_22April2021/mixcr/clones/CLONES_TRBCHP_324-05_PBMC-DNA.txt | CHP_324-05_PBMC-DNA | CHP_324 | PBMC |\n",
       "| 255 | 1505 |  21 | 0.0003513410 | TGTGCCAGCAGCTTTTCGGGAGGGTCGTCTGAAGCTTTCTTT             | EEEEEEEEEEEEEEEEEEEEEEEEEEEEEEEEEEEEEEEEEE             | TRBV11-1*00(591.9),TRBV11-2*00(574.9) | TRBD2*00(40)              | TRBJ1-1*00(210)   | NA | 531|545|568|0|14||70.0;522|536|559|0|14||70.0 | ... | NA | NA | NA | CASSFSGGSSEAFF     | NA | :::::::::0:-3:14:16:-8:0:24:28:-6:42:::  | remaining_batch_2_22April2021/mixcr/clones/CLONES_TRBCHP_324-05_PBMC-DNA.txt | CHP_324-05_PBMC-DNA | CHP_324 | PBMC |\n",
       "\n"
      ],
      "text/plain": [
       "      cloneId cloneCount cloneFraction\n",
       "16      91      1        0.0116279070 \n",
       "192   1324      1        0.0004017678 \n",
       "199   1367      1        0.0004017678 \n",
       "10310  985    181        0.0030282244 \n",
       "247   1474     26        0.0004349936 \n",
       "255   1505     21        0.0003513410 \n",
       "      clonalSequence                                        \n",
       "16    TGTGCCAGCAGCCAGGAACACGCTAGCGGGGGGAGGTTAGATACGCAGTATTTT\n",
       "192   TGCAGCGTTGAAGATCATGCTAGCGGGATTAGAGATACACAGTATTTT      \n",
       "199   TGCAGCGTTGTGGCGGGGGGGCGAAATACACAGTATTTT               \n",
       "10310 TGCGCCAGCAGCTTGGAGGGGGATCAGCCCCAGCATTTT               \n",
       "247   TGTGCCAGCAGTTTCCCATTCGGGACAGGGTCGAATTCACCCCTCCACTTT   \n",
       "255   TGTGCCAGCAGCTTTTCGGGAGGGTCGTCTGAAGCTTTCTTT            \n",
       "      clonalSequenceQuality                                 \n",
       "16    EEEEAEEEEEEAEEEEEEEEEEEE<EEEEEEEEEEEEEEEEEEEAEEEEEEEEE\n",
       "192   EAEEAEEAEEEEEEEEAEEEEEEEEEEEEEEEEEEEEEEEEEEEEEEE      \n",
       "199   EEEEEEEEEEEEEEAEEEEEEEEEEEEEEAAEEEEEEEE               \n",
       "10310 EEEEEEEEEEEEEEEEEEEEEEEEEEEEEEEEEEEEEEE               \n",
       "247   EEEEEEEEEEEEEEEEEEEEEEEEEEEEEEEEEEEEEEEEEEEEEEEEEEE   \n",
       "255   EEEEEEEEEEEEEEEEEEEEEEEEEEEEEEEEEEEEEEEEEE            \n",
       "      allVHitsWithScore                     allDHitsWithScore        \n",
       "16    TRBV3-1*00(539),TRBV3-2*00(491)       TRBD2*00(40)             \n",
       "192   TRBV29-1*00(1245)                     TRBD2*00(45)             \n",
       "199   TRBV29-1*00(1244)                     TRBD1*00(35),TRBD2*00(34)\n",
       "10310 TRBV5-1*00(578.1)                     TRBD1*00(30)             \n",
       "247   TRBV28*00(150)                        TRBD1*00(50)             \n",
       "255   TRBV11-1*00(591.9),TRBV11-2*00(574.9) TRBD2*00(40)             \n",
       "      allJHitsWithScore allCHitsWithScore\n",
       "16    TRBJ2-3*00(220)   NA               \n",
       "192   TRBJ2-3*00(97)    NA               \n",
       "199   TRBJ2-3*00(103)   NA               \n",
       "10310 TRBJ1-5*00(222)   NA               \n",
       "247   TRBJ1-6*00(209.8) NA               \n",
       "255   TRBJ1-1*00(210)   NA               \n",
       "      allVAlignments                                ... aaSeqFR2 aaSeqCDR2\n",
       "16    543|557|580|0|14||70.0;543|557|580|0|14||70.0 ... NA       NA       \n",
       "192   700|716|734|0|16||80.0                        ... NA       NA       \n",
       "199   700|710|734|0|10||50.0                        ... NA       NA       \n",
       "10310 554|570|590|0|16||80.0                        ... NA       NA       \n",
       "247   564|578|601|0|14||70.0                        ... NA       NA       \n",
       "255   531|545|568|0|14||70.0;522|536|559|0|14||70.0 ... NA       NA       \n",
       "      aaSeqFR3 aaSeqCDR3          aaSeqFR4\n",
       "16    NA       CASSQEHASGGRLDTQYF NA      \n",
       "192   NA       CSVEDHASGIRDTQYF   NA      \n",
       "199   NA       CSVVAGGRNTQYF      NA      \n",
       "10310 NA       CASSLEGDQPQHF      NA      \n",
       "247   NA       CASSFPFGTGSNSPLHF  NA      \n",
       "255   NA       CASSFSGGSSEAFF     NA      \n",
       "      refPoints                               \n",
       "16    :::::::::0:-3:14:22:-4:-4:30:38:-5:54:::\n",
       "192   :::::::::0:2:16:19:-4:-3:28:32:-5:48::: \n",
       "199   :::::::::0:-4:10:16:-6:1:23:25:-7:39::: \n",
       "10310 :::::::::0:0:16:16:-5:-1:22:22:-5:39::: \n",
       "247   :::::::::0:-3:14:20:1:-3:30:33:-7:51::: \n",
       "255   :::::::::0:-3:14:16:-8:0:24:28:-6:42::: \n",
       "      file                                                                        \n",
       "16    batch2_Aug62019/mixcr/clones/CLONES_TRBCHP_319-05-PBMC-DNA.txt              \n",
       "192   batch7_25Oct2019/mixcr/clones/CLONES_TRBCHP_323-05-PBMC-DNA.txt             \n",
       "199   batch7_25Oct2019/mixcr/clones/CLONES_TRBCHP_323-05-PBMC-DNA.txt             \n",
       "10310 remaining_batch_2_22April2021/mixcr/clones/CLONES_TRBCHP_324-05_PBMC-DNA.txt\n",
       "247   remaining_batch_2_22April2021/mixcr/clones/CLONES_TRBCHP_324-05_PBMC-DNA.txt\n",
       "255   remaining_batch_2_22April2021/mixcr/clones/CLONES_TRBCHP_324-05_PBMC-DNA.txt\n",
       "      basename            Patient sampletype\n",
       "16    CHP_319-05-PBMC-DNA CHP_319 PBMC      \n",
       "192   CHP_323-05-PBMC-DNA CHP_323 PBMC      \n",
       "199   CHP_323-05-PBMC-DNA CHP_323 PBMC      \n",
       "10310 CHP_324-05_PBMC-DNA CHP_324 PBMC      \n",
       "247   CHP_324-05_PBMC-DNA CHP_324 PBMC      \n",
       "255   CHP_324-05_PBMC-DNA CHP_324 PBMC      "
      ]
     },
     "metadata": {},
     "output_type": "display_data"
    }
   ],
   "source": [
    "head(dups)"
   ]
  },
  {
   "cell_type": "code",
   "execution_count": 37,
   "metadata": {
    "vscode": {
     "languageId": "r"
    }
   },
   "outputs": [
    {
     "data": {
      "text/html": [
       "<style>\n",
       ".list-inline {list-style: none; margin:0; padding: 0}\n",
       ".list-inline>li {display: inline-block}\n",
       ".list-inline>li:not(:last-child)::after {content: \"\\00b7\"; padding: 0 .5ex}\n",
       "</style>\n",
       "<ol class=list-inline><li>3172</li><li>39</li></ol>\n"
      ],
      "text/latex": [
       "\\begin{enumerate*}\n",
       "\\item 3172\n",
       "\\item 39\n",
       "\\end{enumerate*}\n"
      ],
      "text/markdown": [
       "1. 3172\n",
       "2. 39\n",
       "\n",
       "\n"
      ],
      "text/plain": [
       "[1] 3172   39"
      ]
     },
     "metadata": {},
     "output_type": "display_data"
    }
   ],
   "source": [
    "dim(dups)"
   ]
  },
  {
   "cell_type": "code",
   "execution_count": 38,
   "metadata": {
    "vscode": {
     "languageId": "r"
    }
   },
   "outputs": [
    {
     "data": {
      "text/html": [
       "<table class=\"dataframe\">\n",
       "<caption>A data.frame: 5 x 39</caption>\n",
       "<thead>\n",
       "\t<tr><th></th><th scope=col>cloneId</th><th scope=col>cloneCount</th><th scope=col>cloneFraction</th><th scope=col>clonalSequence</th><th scope=col>clonalSequenceQuality</th><th scope=col>allVHitsWithScore</th><th scope=col>allDHitsWithScore</th><th scope=col>allJHitsWithScore</th><th scope=col>allCHitsWithScore</th><th scope=col>allVAlignments</th><th scope=col>...</th><th scope=col>aaSeqFR2</th><th scope=col>aaSeqCDR2</th><th scope=col>aaSeqFR3</th><th scope=col>aaSeqCDR3</th><th scope=col>aaSeqFR4</th><th scope=col>refPoints</th><th scope=col>file</th><th scope=col>basename</th><th scope=col>Patient</th><th scope=col>sampletype</th></tr>\n",
       "\t<tr><th></th><th scope=col>&lt;int&gt;</th><th scope=col>&lt;int&gt;</th><th scope=col>&lt;dbl&gt;</th><th scope=col>&lt;chr&gt;</th><th scope=col>&lt;chr&gt;</th><th scope=col>&lt;chr&gt;</th><th scope=col>&lt;chr&gt;</th><th scope=col>&lt;chr&gt;</th><th scope=col>&lt;chr&gt;</th><th scope=col>&lt;chr&gt;</th><th scope=col>...</th><th scope=col>&lt;lgl&gt;</th><th scope=col>&lt;lgl&gt;</th><th scope=col>&lt;lgl&gt;</th><th scope=col>&lt;chr&gt;</th><th scope=col>&lt;lgl&gt;</th><th scope=col>&lt;chr&gt;</th><th scope=col>&lt;chr&gt;</th><th scope=col>&lt;chr&gt;</th><th scope=col>&lt;chr&gt;</th><th scope=col>&lt;chr&gt;</th></tr>\n",
       "</thead>\n",
       "<tbody>\n",
       "\t<tr><th scope=row>2519</th><td> 367</td><td>599</td><td>1.002158e-02</td><td>TGCGCCAGCAGCTTGGAAGGGGATCAGCCCCAGCATTTT</td><td>EEEEEEEEEEEEEEEEEEEEEEEEEEEEEEEEEEEEEEE</td><td>TRBV5-1*00(429.9)</td><td>TRBD1*00(25)             </td><td>TRBJ1-5*00(224.4)</td><td>NA</td><td>554|570|590|0|16||80.0      </td><td>...</td><td>NA</td><td>NA</td><td>NA</td><td>CASSLEGDQPQHF</td><td>NA</td><td>:::::::::0:0:16:17:-5:-2:22:22:-5:39::: </td><td>remaining_batch_2_22April2021/mixcr/clones/CLONES_TRBCHP_324-05_PBMC-DNA.txt</td><td>CHP_324-05_PBMC-DNA</td><td>CHP_324</td><td>PBMC</td></tr>\n",
       "\t<tr><th scope=row>10310</th><td> 985</td><td>181</td><td>3.028224e-03</td><td>TGCGCCAGCAGCTTGGAGGGGGATCAGCCCCAGCATTTT</td><td>EEEEEEEEEEEEEEEEEEEEEEEEEEEEEEEEEEEEEEE</td><td>TRBV5-1*00(578.1)</td><td>TRBD1*00(30)             </td><td>TRBJ1-5*00(222)  </td><td>NA</td><td>554|570|590|0|16||80.0      </td><td>...</td><td>NA</td><td>NA</td><td>NA</td><td>CASSLEGDQPQHF</td><td>NA</td><td>:::::::::0:0:16:16:-5:-1:22:22:-5:39::: </td><td>remaining_batch_2_22April2021/mixcr/clones/CLONES_TRBCHP_324-05_PBMC-DNA.txt</td><td>CHP_324-05_PBMC-DNA</td><td>CHP_324</td><td>PBMC</td></tr>\n",
       "\t<tr><th scope=row>258</th><td>1513</td><td> 19</td><td>3.178799e-04</td><td>TGCGCCAGCAGCTTGGAGGGAGATCAGCCCCAGCATTTT</td><td>EEEEEEEEEEEEEEEEEEEEEEEEEEEEEEEEEEEEEEE</td><td>TRBV5-1*00(786.5)</td><td>TRBD2*00(25)             </td><td>TRBJ1-5*00(213.6)</td><td>NA</td><td>554|570|590|0|16||80.0      </td><td>...</td><td>NA</td><td>NA</td><td>NA</td><td>CASSLEGDQPQHF</td><td>NA</td><td>:::::::::0:0:16:17:-9:-2:22:22:-5:39::: </td><td>remaining_batch_2_22April2021/mixcr/clones/CLONES_TRBCHP_324-05_PBMC-DNA.txt</td><td>CHP_324-05_PBMC-DNA</td><td>CHP_324</td><td>PBMC</td></tr>\n",
       "\t<tr><th scope=row>4840</th><td> 456</td><td> 50</td><td>7.351860e-03</td><td>TGTGCCAGCAGCTTAGAAGGGGACCAGCCCCAGCATTTT</td><td>EEEEEEEEEEEEEEEEEEEEEEEEEEEEEEEEEEEEEEE</td><td>TRBV7-2*00(340)  </td><td>TRBD1*00(25),TRBD2*00(25)</td><td>TRBJ1-5*00(216.1)</td><td>NA</td><td>580|596|617|0|16||80.0      </td><td>...</td><td>NA</td><td>NA</td><td>NA</td><td>CASSLEGDQPQHF</td><td>NA</td><td>:::::::::0:-1:16:19:0:-7:24:24:-7:39::: </td><td>batch1_jul52019/mixcr/clones/CLONES_TRBCHP_349-02-PBMC-DNA.txt              </td><td>CHP_349-02-PBMC-DNA</td><td>CHP_349</td><td>PBMC</td></tr>\n",
       "\t<tr><th scope=row>108211</th><td>7329</td><td><span style=white-space:pre-wrap>  3</span></td><td>3.549456e-05</td><td>TGTGCTAGCAGCTTAGAGGGGGATCAGCCCCAGCATTTT</td><td>EEEEEEEE&lt;AEEEEEAEAEE&lt;&lt;AE&lt;AAEEEEEEEEEEEE</td><td><span style=white-space:pre-wrap>TRBV7-2*00(789)  </span></td><td><span style=white-space:pre-wrap>TRBD1*00(30)             </span></td><td><span style=white-space:pre-wrap>TRBJ1-5*00(225)  </span></td><td>NA</td><td>580|596|617|0|16|SC585T|64.0</td><td>...</td><td>NA</td><td>NA</td><td>NA</td><td>CASSLEGDQPQHF</td><td>NA</td><td>:::::::::0:-1:16:16:-5:-1:22:22:-5:39:::</td><td>remaining_batch_2_22April2021/mixcr/clones/CLONES_TRBCHP_363-01_PBMC-DNA.txt</td><td>CHP_363-01_PBMC-DNA</td><td>CHP_363</td><td>PBMC</td></tr>\n",
       "</tbody>\n",
       "</table>\n"
      ],
      "text/latex": [
       "A data.frame: 5 x 39\n",
       "\\begin{tabular}{r|lllllllllllllllllllll}\n",
       "  & cloneId & cloneCount & cloneFraction & clonalSequence & clonalSequenceQuality & allVHitsWithScore & allDHitsWithScore & allJHitsWithScore & allCHitsWithScore & allVAlignments & ... & aaSeqFR2 & aaSeqCDR2 & aaSeqFR3 & aaSeqCDR3 & aaSeqFR4 & refPoints & file & basename & Patient & sampletype\\\\\n",
       "  & <int> & <int> & <dbl> & <chr> & <chr> & <chr> & <chr> & <chr> & <chr> & <chr> & ... & <lgl> & <lgl> & <lgl> & <chr> & <lgl> & <chr> & <chr> & <chr> & <chr> & <chr>\\\\\n",
       "\\hline\n",
       "\t2519 &  367 & 599 & 1.002158e-02 & TGCGCCAGCAGCTTGGAAGGGGATCAGCCCCAGCATTTT & EEEEEEEEEEEEEEEEEEEEEEEEEEEEEEEEEEEEEEE & TRBV5-1*00(429.9) & TRBD1*00(25)              & TRBJ1-5*00(224.4) & NA & 554\\textbar{}570\\textbar{}590\\textbar{}0\\textbar{}16\\textbar{}\\textbar{}80.0       & ... & NA & NA & NA & CASSLEGDQPQHF & NA & :::::::::0:0:16:17:-5:-2:22:22:-5:39:::  & remaining\\_batch\\_2\\_22April2021/mixcr/clones/CLONES\\_TRBCHP\\_324-05\\_PBMC-DNA.txt & CHP\\_324-05\\_PBMC-DNA & CHP\\_324 & PBMC\\\\\n",
       "\t10310 &  985 & 181 & 3.028224e-03 & TGCGCCAGCAGCTTGGAGGGGGATCAGCCCCAGCATTTT & EEEEEEEEEEEEEEEEEEEEEEEEEEEEEEEEEEEEEEE & TRBV5-1*00(578.1) & TRBD1*00(30)              & TRBJ1-5*00(222)   & NA & 554\\textbar{}570\\textbar{}590\\textbar{}0\\textbar{}16\\textbar{}\\textbar{}80.0       & ... & NA & NA & NA & CASSLEGDQPQHF & NA & :::::::::0:0:16:16:-5:-1:22:22:-5:39:::  & remaining\\_batch\\_2\\_22April2021/mixcr/clones/CLONES\\_TRBCHP\\_324-05\\_PBMC-DNA.txt & CHP\\_324-05\\_PBMC-DNA & CHP\\_324 & PBMC\\\\\n",
       "\t258 & 1513 &  19 & 3.178799e-04 & TGCGCCAGCAGCTTGGAGGGAGATCAGCCCCAGCATTTT & EEEEEEEEEEEEEEEEEEEEEEEEEEEEEEEEEEEEEEE & TRBV5-1*00(786.5) & TRBD2*00(25)              & TRBJ1-5*00(213.6) & NA & 554\\textbar{}570\\textbar{}590\\textbar{}0\\textbar{}16\\textbar{}\\textbar{}80.0       & ... & NA & NA & NA & CASSLEGDQPQHF & NA & :::::::::0:0:16:17:-9:-2:22:22:-5:39:::  & remaining\\_batch\\_2\\_22April2021/mixcr/clones/CLONES\\_TRBCHP\\_324-05\\_PBMC-DNA.txt & CHP\\_324-05\\_PBMC-DNA & CHP\\_324 & PBMC\\\\\n",
       "\t4840 &  456 &  50 & 7.351860e-03 & TGTGCCAGCAGCTTAGAAGGGGACCAGCCCCAGCATTTT & EEEEEEEEEEEEEEEEEEEEEEEEEEEEEEEEEEEEEEE & TRBV7-2*00(340)   & TRBD1*00(25),TRBD2*00(25) & TRBJ1-5*00(216.1) & NA & 580\\textbar{}596\\textbar{}617\\textbar{}0\\textbar{}16\\textbar{}\\textbar{}80.0       & ... & NA & NA & NA & CASSLEGDQPQHF & NA & :::::::::0:-1:16:19:0:-7:24:24:-7:39:::  & batch1\\_jul52019/mixcr/clones/CLONES\\_TRBCHP\\_349-02-PBMC-DNA.txt               & CHP\\_349-02-PBMC-DNA & CHP\\_349 & PBMC\\\\\n",
       "\t108211 & 7329 &   3 & 3.549456e-05 & TGTGCTAGCAGCTTAGAGGGGGATCAGCCCCAGCATTTT & EEEEEEEE<AEEEEEAEAEE<<AE<AAEEEEEEEEEEEE & TRBV7-2*00(789)   & TRBD1*00(30)              & TRBJ1-5*00(225)   & NA & 580\\textbar{}596\\textbar{}617\\textbar{}0\\textbar{}16\\textbar{}SC585T\\textbar{}64.0 & ... & NA & NA & NA & CASSLEGDQPQHF & NA & :::::::::0:-1:16:16:-5:-1:22:22:-5:39::: & remaining\\_batch\\_2\\_22April2021/mixcr/clones/CLONES\\_TRBCHP\\_363-01\\_PBMC-DNA.txt & CHP\\_363-01\\_PBMC-DNA & CHP\\_363 & PBMC\\\\\n",
       "\\end{tabular}\n"
      ],
      "text/markdown": [
       "\n",
       "A data.frame: 5 x 39\n",
       "\n",
       "| <!--/--> | cloneId &lt;int&gt; | cloneCount &lt;int&gt; | cloneFraction &lt;dbl&gt; | clonalSequence &lt;chr&gt; | clonalSequenceQuality &lt;chr&gt; | allVHitsWithScore &lt;chr&gt; | allDHitsWithScore &lt;chr&gt; | allJHitsWithScore &lt;chr&gt; | allCHitsWithScore &lt;chr&gt; | allVAlignments &lt;chr&gt; | ... ... | aaSeqFR2 &lt;lgl&gt; | aaSeqCDR2 &lt;lgl&gt; | aaSeqFR3 &lt;lgl&gt; | aaSeqCDR3 &lt;chr&gt; | aaSeqFR4 &lt;lgl&gt; | refPoints &lt;chr&gt; | file &lt;chr&gt; | basename &lt;chr&gt; | Patient &lt;chr&gt; | sampletype &lt;chr&gt; |\n",
       "|---|---|---|---|---|---|---|---|---|---|---|---|---|---|---|---|---|---|---|---|---|---|\n",
       "| 2519 |  367 | 599 | 1.002158e-02 | TGCGCCAGCAGCTTGGAAGGGGATCAGCCCCAGCATTTT | EEEEEEEEEEEEEEEEEEEEEEEEEEEEEEEEEEEEEEE | TRBV5-1*00(429.9) | TRBD1*00(25)              | TRBJ1-5*00(224.4) | NA | 554|570|590|0|16||80.0       | ... | NA | NA | NA | CASSLEGDQPQHF | NA | :::::::::0:0:16:17:-5:-2:22:22:-5:39:::  | remaining_batch_2_22April2021/mixcr/clones/CLONES_TRBCHP_324-05_PBMC-DNA.txt | CHP_324-05_PBMC-DNA | CHP_324 | PBMC |\n",
       "| 10310 |  985 | 181 | 3.028224e-03 | TGCGCCAGCAGCTTGGAGGGGGATCAGCCCCAGCATTTT | EEEEEEEEEEEEEEEEEEEEEEEEEEEEEEEEEEEEEEE | TRBV5-1*00(578.1) | TRBD1*00(30)              | TRBJ1-5*00(222)   | NA | 554|570|590|0|16||80.0       | ... | NA | NA | NA | CASSLEGDQPQHF | NA | :::::::::0:0:16:16:-5:-1:22:22:-5:39:::  | remaining_batch_2_22April2021/mixcr/clones/CLONES_TRBCHP_324-05_PBMC-DNA.txt | CHP_324-05_PBMC-DNA | CHP_324 | PBMC |\n",
       "| 258 | 1513 |  19 | 3.178799e-04 | TGCGCCAGCAGCTTGGAGGGAGATCAGCCCCAGCATTTT | EEEEEEEEEEEEEEEEEEEEEEEEEEEEEEEEEEEEEEE | TRBV5-1*00(786.5) | TRBD2*00(25)              | TRBJ1-5*00(213.6) | NA | 554|570|590|0|16||80.0       | ... | NA | NA | NA | CASSLEGDQPQHF | NA | :::::::::0:0:16:17:-9:-2:22:22:-5:39:::  | remaining_batch_2_22April2021/mixcr/clones/CLONES_TRBCHP_324-05_PBMC-DNA.txt | CHP_324-05_PBMC-DNA | CHP_324 | PBMC |\n",
       "| 4840 |  456 |  50 | 7.351860e-03 | TGTGCCAGCAGCTTAGAAGGGGACCAGCCCCAGCATTTT | EEEEEEEEEEEEEEEEEEEEEEEEEEEEEEEEEEEEEEE | TRBV7-2*00(340)   | TRBD1*00(25),TRBD2*00(25) | TRBJ1-5*00(216.1) | NA | 580|596|617|0|16||80.0       | ... | NA | NA | NA | CASSLEGDQPQHF | NA | :::::::::0:-1:16:19:0:-7:24:24:-7:39:::  | batch1_jul52019/mixcr/clones/CLONES_TRBCHP_349-02-PBMC-DNA.txt               | CHP_349-02-PBMC-DNA | CHP_349 | PBMC |\n",
       "| 108211 | 7329 |   3 | 3.549456e-05 | TGTGCTAGCAGCTTAGAGGGGGATCAGCCCCAGCATTTT | EEEEEEEE&lt;AEEEEEAEAEE&lt;&lt;AE&lt;AAEEEEEEEEEEEE | TRBV7-2*00(789)   | TRBD1*00(30)              | TRBJ1-5*00(225)   | NA | 580|596|617|0|16|SC585T|64.0 | ... | NA | NA | NA | CASSLEGDQPQHF | NA | :::::::::0:-1:16:16:-5:-1:22:22:-5:39::: | remaining_batch_2_22April2021/mixcr/clones/CLONES_TRBCHP_363-01_PBMC-DNA.txt | CHP_363-01_PBMC-DNA | CHP_363 | PBMC |\n",
       "\n"
      ],
      "text/plain": [
       "       cloneId cloneCount cloneFraction clonalSequence                         \n",
       "2519    367    599        1.002158e-02  TGCGCCAGCAGCTTGGAAGGGGATCAGCCCCAGCATTTT\n",
       "10310   985    181        3.028224e-03  TGCGCCAGCAGCTTGGAGGGGGATCAGCCCCAGCATTTT\n",
       "258    1513     19        3.178799e-04  TGCGCCAGCAGCTTGGAGGGAGATCAGCCCCAGCATTTT\n",
       "4840    456     50        7.351860e-03  TGTGCCAGCAGCTTAGAAGGGGACCAGCCCCAGCATTTT\n",
       "108211 7329      3        3.549456e-05  TGTGCTAGCAGCTTAGAGGGGGATCAGCCCCAGCATTTT\n",
       "       clonalSequenceQuality                   allVHitsWithScore\n",
       "2519   EEEEEEEEEEEEEEEEEEEEEEEEEEEEEEEEEEEEEEE TRBV5-1*00(429.9)\n",
       "10310  EEEEEEEEEEEEEEEEEEEEEEEEEEEEEEEEEEEEEEE TRBV5-1*00(578.1)\n",
       "258    EEEEEEEEEEEEEEEEEEEEEEEEEEEEEEEEEEEEEEE TRBV5-1*00(786.5)\n",
       "4840   EEEEEEEEEEEEEEEEEEEEEEEEEEEEEEEEEEEEEEE TRBV7-2*00(340)  \n",
       "108211 EEEEEEEE<AEEEEEAEAEE<<AE<AAEEEEEEEEEEEE TRBV7-2*00(789)  \n",
       "       allDHitsWithScore         allJHitsWithScore allCHitsWithScore\n",
       "2519   TRBD1*00(25)              TRBJ1-5*00(224.4) NA               \n",
       "10310  TRBD1*00(30)              TRBJ1-5*00(222)   NA               \n",
       "258    TRBD2*00(25)              TRBJ1-5*00(213.6) NA               \n",
       "4840   TRBD1*00(25),TRBD2*00(25) TRBJ1-5*00(216.1) NA               \n",
       "108211 TRBD1*00(30)              TRBJ1-5*00(225)   NA               \n",
       "       allVAlignments               ... aaSeqFR2 aaSeqCDR2 aaSeqFR3\n",
       "2519   554|570|590|0|16||80.0       ... NA       NA        NA      \n",
       "10310  554|570|590|0|16||80.0       ... NA       NA        NA      \n",
       "258    554|570|590|0|16||80.0       ... NA       NA        NA      \n",
       "4840   580|596|617|0|16||80.0       ... NA       NA        NA      \n",
       "108211 580|596|617|0|16|SC585T|64.0 ... NA       NA        NA      \n",
       "       aaSeqCDR3     aaSeqFR4 refPoints                               \n",
       "2519   CASSLEGDQPQHF NA       :::::::::0:0:16:17:-5:-2:22:22:-5:39::: \n",
       "10310  CASSLEGDQPQHF NA       :::::::::0:0:16:16:-5:-1:22:22:-5:39::: \n",
       "258    CASSLEGDQPQHF NA       :::::::::0:0:16:17:-9:-2:22:22:-5:39::: \n",
       "4840   CASSLEGDQPQHF NA       :::::::::0:-1:16:19:0:-7:24:24:-7:39::: \n",
       "108211 CASSLEGDQPQHF NA       :::::::::0:-1:16:16:-5:-1:22:22:-5:39:::\n",
       "       file                                                                        \n",
       "2519   remaining_batch_2_22April2021/mixcr/clones/CLONES_TRBCHP_324-05_PBMC-DNA.txt\n",
       "10310  remaining_batch_2_22April2021/mixcr/clones/CLONES_TRBCHP_324-05_PBMC-DNA.txt\n",
       "258    remaining_batch_2_22April2021/mixcr/clones/CLONES_TRBCHP_324-05_PBMC-DNA.txt\n",
       "4840   batch1_jul52019/mixcr/clones/CLONES_TRBCHP_349-02-PBMC-DNA.txt              \n",
       "108211 remaining_batch_2_22April2021/mixcr/clones/CLONES_TRBCHP_363-01_PBMC-DNA.txt\n",
       "       basename            Patient sampletype\n",
       "2519   CHP_324-05_PBMC-DNA CHP_324 PBMC      \n",
       "10310  CHP_324-05_PBMC-DNA CHP_324 PBMC      \n",
       "258    CHP_324-05_PBMC-DNA CHP_324 PBMC      \n",
       "4840   CHP_349-02-PBMC-DNA CHP_349 PBMC      \n",
       "108211 CHP_363-01_PBMC-DNA CHP_363 PBMC      "
      ]
     },
     "metadata": {},
     "output_type": "display_data"
    }
   ],
   "source": [
    "head(int_all[int_all$aaSeqCDR3 %in% \"CASSLEGDQPQHF\", ])"
   ]
  },
  {
   "cell_type": "markdown",
   "metadata": {},
   "source": [
    "Public TCRs"
   ]
  },
  {
   "cell_type": "markdown",
   "metadata": {},
   "source": [
    "Patient-specific recurring"
   ]
  },
  {
   "cell_type": "code",
   "execution_count": 39,
   "metadata": {
    "vscode": {
     "languageId": "r"
    }
   },
   "outputs": [],
   "source": [
    "tcr_pat_tab <- as.data.frame.matrix(table(int_all$aaSeqCDR3, int_all$Patient))"
   ]
  },
  {
   "cell_type": "code",
   "execution_count": 40,
   "metadata": {
    "vscode": {
     "languageId": "r"
    }
   },
   "outputs": [
    {
     "data": {
      "text/html": [
       "<style>\n",
       ".list-inline {list-style: none; margin:0; padding: 0}\n",
       ".list-inline>li {display: inline-block}\n",
       ".list-inline>li:not(:last-child)::after {content: \"\\00b7\"; padding: 0 .5ex}\n",
       "</style>\n",
       "<ol class=list-inline><li>50514</li><li>99</li></ol>\n"
      ],
      "text/latex": [
       "\\begin{enumerate*}\n",
       "\\item 50514\n",
       "\\item 99\n",
       "\\end{enumerate*}\n"
      ],
      "text/markdown": [
       "1. 50514\n",
       "2. 99\n",
       "\n",
       "\n"
      ],
      "text/plain": [
       "[1] 50514    99"
      ]
     },
     "metadata": {},
     "output_type": "display_data"
    }
   ],
   "source": [
    "dim(tcr_pat_tab)"
   ]
  },
  {
   "cell_type": "code",
   "execution_count": 41,
   "metadata": {
    "vscode": {
     "languageId": "r"
    }
   },
   "outputs": [
    {
     "data": {
      "text/html": [
       "<table class=\"dataframe\">\n",
       "<caption>A data.frame: 6 x 99</caption>\n",
       "<thead>\n",
       "\t<tr><th></th><th scope=col>CHP_319</th><th scope=col>CHP_323</th><th scope=col>CHP_324</th><th scope=col>CHP_326</th><th scope=col>CHP_328</th><th scope=col>CHP_329</th><th scope=col>CHP_330</th><th scope=col>CHP_331</th><th scope=col>CHP_333</th><th scope=col>CHP_334</th><th scope=col>...</th><th scope=col>CHP_414</th><th scope=col>CHP_415</th><th scope=col>CHP_416</th><th scope=col>CHP_417</th><th scope=col>CHP_418</th><th scope=col>CHP_419</th><th scope=col>CHP_420</th><th scope=col>CHP_421</th><th scope=col>CHP_422</th><th scope=col>CHP_423</th></tr>\n",
       "\t<tr><th></th><th scope=col>&lt;int&gt;</th><th scope=col>&lt;int&gt;</th><th scope=col>&lt;int&gt;</th><th scope=col>&lt;int&gt;</th><th scope=col>&lt;int&gt;</th><th scope=col>&lt;int&gt;</th><th scope=col>&lt;int&gt;</th><th scope=col>&lt;int&gt;</th><th scope=col>&lt;int&gt;</th><th scope=col>&lt;int&gt;</th><th scope=col>...</th><th scope=col>&lt;int&gt;</th><th scope=col>&lt;int&gt;</th><th scope=col>&lt;int&gt;</th><th scope=col>&lt;int&gt;</th><th scope=col>&lt;int&gt;</th><th scope=col>&lt;int&gt;</th><th scope=col>&lt;int&gt;</th><th scope=col>&lt;int&gt;</th><th scope=col>&lt;int&gt;</th><th scope=col>&lt;int&gt;</th></tr>\n",
       "</thead>\n",
       "<tbody>\n",
       "\t<tr><th scope=row>CAAAGGGEAFF</th><td>0</td><td>0</td><td>0</td><td>0</td><td>0</td><td>0</td><td>0</td><td>0</td><td>0</td><td>0</td><td>...</td><td>0</td><td>0</td><td>0</td><td>0</td><td>0</td><td>0</td><td>0</td><td>0</td><td>0</td><td>0</td></tr>\n",
       "\t<tr><th scope=row>CAAAGGSGVGYEQYF</th><td>0</td><td>0</td><td>0</td><td>0</td><td>0</td><td>0</td><td>0</td><td>0</td><td>0</td><td>0</td><td>...</td><td>0</td><td>0</td><td>0</td><td>0</td><td>0</td><td>0</td><td>0</td><td>0</td><td>0</td><td>0</td></tr>\n",
       "\t<tr><th scope=row>CAAARGFDEQYF</th><td>0</td><td>0</td><td>0</td><td>0</td><td>0</td><td>0</td><td>0</td><td>0</td><td>0</td><td>0</td><td>...</td><td>0</td><td>0</td><td>0</td><td>0</td><td>0</td><td>0</td><td>0</td><td>0</td><td>0</td><td>0</td></tr>\n",
       "\t<tr><th scope=row>CAACEPEVRDTDTQYF</th><td>0</td><td>0</td><td>0</td><td>0</td><td>0</td><td>0</td><td>0</td><td>0</td><td>0</td><td>0</td><td>...</td><td>0</td><td>0</td><td>0</td><td>0</td><td>0</td><td>0</td><td>0</td><td>0</td><td>0</td><td>0</td></tr>\n",
       "\t<tr><th scope=row>CAAEPRLAGGTDTQYF</th><td>0</td><td>0</td><td>0</td><td>0</td><td>0</td><td>0</td><td>0</td><td>0</td><td>0</td><td>0</td><td>...</td><td>0</td><td>0</td><td>0</td><td>0</td><td>0</td><td>0</td><td>0</td><td>0</td><td>0</td><td>0</td></tr>\n",
       "\t<tr><th scope=row>CAAGDRGPIVYEQYF</th><td>0</td><td>0</td><td>0</td><td>0</td><td>0</td><td>0</td><td>0</td><td>0</td><td>0</td><td>0</td><td>...</td><td>0</td><td>0</td><td>0</td><td>0</td><td>0</td><td>0</td><td>0</td><td>0</td><td>0</td><td>0</td></tr>\n",
       "</tbody>\n",
       "</table>\n"
      ],
      "text/latex": [
       "A data.frame: 6 x 99\n",
       "\\begin{tabular}{r|lllllllllllllllllllll}\n",
       "  & CHP\\_319 & CHP\\_323 & CHP\\_324 & CHP\\_326 & CHP\\_328 & CHP\\_329 & CHP\\_330 & CHP\\_331 & CHP\\_333 & CHP\\_334 & ... & CHP\\_414 & CHP\\_415 & CHP\\_416 & CHP\\_417 & CHP\\_418 & CHP\\_419 & CHP\\_420 & CHP\\_421 & CHP\\_422 & CHP\\_423\\\\\n",
       "  & <int> & <int> & <int> & <int> & <int> & <int> & <int> & <int> & <int> & <int> & ... & <int> & <int> & <int> & <int> & <int> & <int> & <int> & <int> & <int> & <int>\\\\\n",
       "\\hline\n",
       "\tCAAAGGGEAFF & 0 & 0 & 0 & 0 & 0 & 0 & 0 & 0 & 0 & 0 & ... & 0 & 0 & 0 & 0 & 0 & 0 & 0 & 0 & 0 & 0\\\\\n",
       "\tCAAAGGSGVGYEQYF & 0 & 0 & 0 & 0 & 0 & 0 & 0 & 0 & 0 & 0 & ... & 0 & 0 & 0 & 0 & 0 & 0 & 0 & 0 & 0 & 0\\\\\n",
       "\tCAAARGFDEQYF & 0 & 0 & 0 & 0 & 0 & 0 & 0 & 0 & 0 & 0 & ... & 0 & 0 & 0 & 0 & 0 & 0 & 0 & 0 & 0 & 0\\\\\n",
       "\tCAACEPEVRDTDTQYF & 0 & 0 & 0 & 0 & 0 & 0 & 0 & 0 & 0 & 0 & ... & 0 & 0 & 0 & 0 & 0 & 0 & 0 & 0 & 0 & 0\\\\\n",
       "\tCAAEPRLAGGTDTQYF & 0 & 0 & 0 & 0 & 0 & 0 & 0 & 0 & 0 & 0 & ... & 0 & 0 & 0 & 0 & 0 & 0 & 0 & 0 & 0 & 0\\\\\n",
       "\tCAAGDRGPIVYEQYF & 0 & 0 & 0 & 0 & 0 & 0 & 0 & 0 & 0 & 0 & ... & 0 & 0 & 0 & 0 & 0 & 0 & 0 & 0 & 0 & 0\\\\\n",
       "\\end{tabular}\n"
      ],
      "text/markdown": [
       "\n",
       "A data.frame: 6 x 99\n",
       "\n",
       "| <!--/--> | CHP_319 &lt;int&gt; | CHP_323 &lt;int&gt; | CHP_324 &lt;int&gt; | CHP_326 &lt;int&gt; | CHP_328 &lt;int&gt; | CHP_329 &lt;int&gt; | CHP_330 &lt;int&gt; | CHP_331 &lt;int&gt; | CHP_333 &lt;int&gt; | CHP_334 &lt;int&gt; | ... ... | CHP_414 &lt;int&gt; | CHP_415 &lt;int&gt; | CHP_416 &lt;int&gt; | CHP_417 &lt;int&gt; | CHP_418 &lt;int&gt; | CHP_419 &lt;int&gt; | CHP_420 &lt;int&gt; | CHP_421 &lt;int&gt; | CHP_422 &lt;int&gt; | CHP_423 &lt;int&gt; |\n",
       "|---|---|---|---|---|---|---|---|---|---|---|---|---|---|---|---|---|---|---|---|---|---|\n",
       "| CAAAGGGEAFF | 0 | 0 | 0 | 0 | 0 | 0 | 0 | 0 | 0 | 0 | ... | 0 | 0 | 0 | 0 | 0 | 0 | 0 | 0 | 0 | 0 |\n",
       "| CAAAGGSGVGYEQYF | 0 | 0 | 0 | 0 | 0 | 0 | 0 | 0 | 0 | 0 | ... | 0 | 0 | 0 | 0 | 0 | 0 | 0 | 0 | 0 | 0 |\n",
       "| CAAARGFDEQYF | 0 | 0 | 0 | 0 | 0 | 0 | 0 | 0 | 0 | 0 | ... | 0 | 0 | 0 | 0 | 0 | 0 | 0 | 0 | 0 | 0 |\n",
       "| CAACEPEVRDTDTQYF | 0 | 0 | 0 | 0 | 0 | 0 | 0 | 0 | 0 | 0 | ... | 0 | 0 | 0 | 0 | 0 | 0 | 0 | 0 | 0 | 0 |\n",
       "| CAAEPRLAGGTDTQYF | 0 | 0 | 0 | 0 | 0 | 0 | 0 | 0 | 0 | 0 | ... | 0 | 0 | 0 | 0 | 0 | 0 | 0 | 0 | 0 | 0 |\n",
       "| CAAGDRGPIVYEQYF | 0 | 0 | 0 | 0 | 0 | 0 | 0 | 0 | 0 | 0 | ... | 0 | 0 | 0 | 0 | 0 | 0 | 0 | 0 | 0 | 0 |\n",
       "\n"
      ],
      "text/plain": [
       "                 CHP_319 CHP_323 CHP_324 CHP_326 CHP_328 CHP_329 CHP_330\n",
       "CAAAGGGEAFF      0       0       0       0       0       0       0      \n",
       "CAAAGGSGVGYEQYF  0       0       0       0       0       0       0      \n",
       "CAAARGFDEQYF     0       0       0       0       0       0       0      \n",
       "CAACEPEVRDTDTQYF 0       0       0       0       0       0       0      \n",
       "CAAEPRLAGGTDTQYF 0       0       0       0       0       0       0      \n",
       "CAAGDRGPIVYEQYF  0       0       0       0       0       0       0      \n",
       "                 CHP_331 CHP_333 CHP_334 ... CHP_414 CHP_415 CHP_416 CHP_417\n",
       "CAAAGGGEAFF      0       0       0       ... 0       0       0       0      \n",
       "CAAAGGSGVGYEQYF  0       0       0       ... 0       0       0       0      \n",
       "CAAARGFDEQYF     0       0       0       ... 0       0       0       0      \n",
       "CAACEPEVRDTDTQYF 0       0       0       ... 0       0       0       0      \n",
       "CAAEPRLAGGTDTQYF 0       0       0       ... 0       0       0       0      \n",
       "CAAGDRGPIVYEQYF  0       0       0       ... 0       0       0       0      \n",
       "                 CHP_418 CHP_419 CHP_420 CHP_421 CHP_422 CHP_423\n",
       "CAAAGGGEAFF      0       0       0       0       0       0      \n",
       "CAAAGGSGVGYEQYF  0       0       0       0       0       0      \n",
       "CAAARGFDEQYF     0       0       0       0       0       0      \n",
       "CAACEPEVRDTDTQYF 0       0       0       0       0       0      \n",
       "CAAEPRLAGGTDTQYF 0       0       0       0       0       0      \n",
       "CAAGDRGPIVYEQYF  0       0       0       0       0       0      "
      ]
     },
     "metadata": {},
     "output_type": "display_data"
    }
   ],
   "source": [
    "head(tcr_pat_tab)"
   ]
  },
  {
   "cell_type": "code",
   "execution_count": 42,
   "metadata": {
    "vscode": {
     "languageId": "r"
    }
   },
   "outputs": [],
   "source": [
    "tcr_pat_tab$no_patients_morethanone <- rowSums(tcr_pat_tab[,1:99] > 1) # count number of TCRs happening in more than one sample per patient\n",
    "tcr_pat_tab$no_patients_one <- rowSums(tcr_pat_tab[,1:99] == 1)\n",
    "tcr_pat_tab$no_patients_none <- rowSums(tcr_pat_tab[,1:99] == 0)"
   ]
  },
  {
   "cell_type": "code",
   "execution_count": 43,
   "metadata": {
    "vscode": {
     "languageId": "r"
    }
   },
   "outputs": [],
   "source": [
    "tcr_pat_tab$no_patients <- tcr_pat_tab$no_patients_one + tcr_pat_tab$no_patients_morethanone"
   ]
  },
  {
   "cell_type": "code",
   "execution_count": 44,
   "metadata": {
    "vscode": {
     "languageId": "r"
    }
   },
   "outputs": [
    {
     "data": {
      "text/html": [
       "<style>\n",
       ".list-inline {list-style: none; margin:0; padding: 0}\n",
       ".list-inline>li {display: inline-block}\n",
       ".list-inline>li:not(:last-child)::after {content: \"\\00b7\"; padding: 0 .5ex}\n",
       "</style>\n",
       "<ol class=list-inline><li>50514</li><li>103</li></ol>\n"
      ],
      "text/latex": [
       "\\begin{enumerate*}\n",
       "\\item 50514\n",
       "\\item 103\n",
       "\\end{enumerate*}\n"
      ],
      "text/markdown": [
       "1. 50514\n",
       "2. 103\n",
       "\n",
       "\n"
      ],
      "text/plain": [
       "[1] 50514   103"
      ]
     },
     "metadata": {},
     "output_type": "display_data"
    }
   ],
   "source": [
    "dim(tcr_pat_tab)"
   ]
  },
  {
   "cell_type": "code",
   "execution_count": 45,
   "metadata": {
    "vscode": {
     "languageId": "r"
    }
   },
   "outputs": [
    {
     "data": {
      "text/html": [
       "<table class=\"dataframe\">\n",
       "<caption>A data.frame: 6 x 103</caption>\n",
       "<thead>\n",
       "\t<tr><th></th><th scope=col>CHP_319</th><th scope=col>CHP_323</th><th scope=col>CHP_324</th><th scope=col>CHP_326</th><th scope=col>CHP_328</th><th scope=col>CHP_329</th><th scope=col>CHP_330</th><th scope=col>CHP_331</th><th scope=col>CHP_333</th><th scope=col>CHP_334</th><th scope=col>...</th><th scope=col>CHP_418</th><th scope=col>CHP_419</th><th scope=col>CHP_420</th><th scope=col>CHP_421</th><th scope=col>CHP_422</th><th scope=col>CHP_423</th><th scope=col>no_patients_morethanone</th><th scope=col>no_patients_one</th><th scope=col>no_patients_none</th><th scope=col>no_patients</th></tr>\n",
       "\t<tr><th></th><th scope=col>&lt;int&gt;</th><th scope=col>&lt;int&gt;</th><th scope=col>&lt;int&gt;</th><th scope=col>&lt;int&gt;</th><th scope=col>&lt;int&gt;</th><th scope=col>&lt;int&gt;</th><th scope=col>&lt;int&gt;</th><th scope=col>&lt;int&gt;</th><th scope=col>&lt;int&gt;</th><th scope=col>&lt;int&gt;</th><th scope=col>...</th><th scope=col>&lt;int&gt;</th><th scope=col>&lt;int&gt;</th><th scope=col>&lt;int&gt;</th><th scope=col>&lt;int&gt;</th><th scope=col>&lt;int&gt;</th><th scope=col>&lt;int&gt;</th><th scope=col>&lt;dbl&gt;</th><th scope=col>&lt;dbl&gt;</th><th scope=col>&lt;dbl&gt;</th><th scope=col>&lt;dbl&gt;</th></tr>\n",
       "</thead>\n",
       "<tbody>\n",
       "\t<tr><th scope=row>CAACEPEVRDTDTQYF</th><td>0</td><td>0</td><td>0</td><td>0</td><td>0</td><td>0</td><td>0</td><td>0</td><td>0</td><td>0</td><td>...</td><td>0</td><td>0</td><td>0</td><td>0</td><td>0</td><td>0</td><td>1</td><td> 0</td><td>98</td><td> 1</td></tr>\n",
       "\t<tr><th scope=row>CACNQVMNTEAFF</th><td>0</td><td>0</td><td>0</td><td>0</td><td>0</td><td>0</td><td>0</td><td>0</td><td>0</td><td>0</td><td>...</td><td>0</td><td>0</td><td>0</td><td>0</td><td>0</td><td>0</td><td>1</td><td> 1</td><td>97</td><td> 2</td></tr>\n",
       "\t<tr><th scope=row>CAERPGQGLNCYTF</th><td>0</td><td>0</td><td>0</td><td>0</td><td>0</td><td>0</td><td>0</td><td>0</td><td>0</td><td>0</td><td>...</td><td>0</td><td>0</td><td>0</td><td>0</td><td>0</td><td>0</td><td>1</td><td> 0</td><td>98</td><td> 1</td></tr>\n",
       "\t<tr><th scope=row>CAGGGGRVGEKLFF</th><td>0</td><td>0</td><td>0</td><td>0</td><td>0</td><td>0</td><td>0</td><td>0</td><td>0</td><td>0</td><td>...</td><td>0</td><td>0</td><td>0</td><td>0</td><td>0</td><td>0</td><td>1</td><td> 0</td><td>98</td><td> 1</td></tr>\n",
       "\t<tr><th scope=row>CAGGTGQDATNEKLFF</th><td>0</td><td>0</td><td>0</td><td>0</td><td>0</td><td>0</td><td>0</td><td>0</td><td>0</td><td>0</td><td>...</td><td>0</td><td>0</td><td>0</td><td>0</td><td>0</td><td>0</td><td>1</td><td> 0</td><td>98</td><td> 1</td></tr>\n",
       "\t<tr><th scope=row>CAGRSGKGAAYNEQFF</th><td>0</td><td>0</td><td>0</td><td>0</td><td>0</td><td>0</td><td>0</td><td>0</td><td>0</td><td>1</td><td>...</td><td>0</td><td>0</td><td>0</td><td>0</td><td>0</td><td>0</td><td>1</td><td>12</td><td>86</td><td>13</td></tr>\n",
       "</tbody>\n",
       "</table>\n"
      ],
      "text/latex": [
       "A data.frame: 6 x 103\n",
       "\\begin{tabular}{r|lllllllllllllllllllll}\n",
       "  & CHP\\_319 & CHP\\_323 & CHP\\_324 & CHP\\_326 & CHP\\_328 & CHP\\_329 & CHP\\_330 & CHP\\_331 & CHP\\_333 & CHP\\_334 & ... & CHP\\_418 & CHP\\_419 & CHP\\_420 & CHP\\_421 & CHP\\_422 & CHP\\_423 & no\\_patients\\_morethanone & no\\_patients\\_one & no\\_patients\\_none & no\\_patients\\\\\n",
       "  & <int> & <int> & <int> & <int> & <int> & <int> & <int> & <int> & <int> & <int> & ... & <int> & <int> & <int> & <int> & <int> & <int> & <dbl> & <dbl> & <dbl> & <dbl>\\\\\n",
       "\\hline\n",
       "\tCAACEPEVRDTDTQYF & 0 & 0 & 0 & 0 & 0 & 0 & 0 & 0 & 0 & 0 & ... & 0 & 0 & 0 & 0 & 0 & 0 & 1 &  0 & 98 &  1\\\\\n",
       "\tCACNQVMNTEAFF & 0 & 0 & 0 & 0 & 0 & 0 & 0 & 0 & 0 & 0 & ... & 0 & 0 & 0 & 0 & 0 & 0 & 1 &  1 & 97 &  2\\\\\n",
       "\tCAERPGQGLNCYTF & 0 & 0 & 0 & 0 & 0 & 0 & 0 & 0 & 0 & 0 & ... & 0 & 0 & 0 & 0 & 0 & 0 & 1 &  0 & 98 &  1\\\\\n",
       "\tCAGGGGRVGEKLFF & 0 & 0 & 0 & 0 & 0 & 0 & 0 & 0 & 0 & 0 & ... & 0 & 0 & 0 & 0 & 0 & 0 & 1 &  0 & 98 &  1\\\\\n",
       "\tCAGGTGQDATNEKLFF & 0 & 0 & 0 & 0 & 0 & 0 & 0 & 0 & 0 & 0 & ... & 0 & 0 & 0 & 0 & 0 & 0 & 1 &  0 & 98 &  1\\\\\n",
       "\tCAGRSGKGAAYNEQFF & 0 & 0 & 0 & 0 & 0 & 0 & 0 & 0 & 0 & 1 & ... & 0 & 0 & 0 & 0 & 0 & 0 & 1 & 12 & 86 & 13\\\\\n",
       "\\end{tabular}\n"
      ],
      "text/markdown": [
       "\n",
       "A data.frame: 6 x 103\n",
       "\n",
       "| <!--/--> | CHP_319 &lt;int&gt; | CHP_323 &lt;int&gt; | CHP_324 &lt;int&gt; | CHP_326 &lt;int&gt; | CHP_328 &lt;int&gt; | CHP_329 &lt;int&gt; | CHP_330 &lt;int&gt; | CHP_331 &lt;int&gt; | CHP_333 &lt;int&gt; | CHP_334 &lt;int&gt; | ... ... | CHP_418 &lt;int&gt; | CHP_419 &lt;int&gt; | CHP_420 &lt;int&gt; | CHP_421 &lt;int&gt; | CHP_422 &lt;int&gt; | CHP_423 &lt;int&gt; | no_patients_morethanone &lt;dbl&gt; | no_patients_one &lt;dbl&gt; | no_patients_none &lt;dbl&gt; | no_patients &lt;dbl&gt; |\n",
       "|---|---|---|---|---|---|---|---|---|---|---|---|---|---|---|---|---|---|---|---|---|---|\n",
       "| CAACEPEVRDTDTQYF | 0 | 0 | 0 | 0 | 0 | 0 | 0 | 0 | 0 | 0 | ... | 0 | 0 | 0 | 0 | 0 | 0 | 1 |  0 | 98 |  1 |\n",
       "| CACNQVMNTEAFF | 0 | 0 | 0 | 0 | 0 | 0 | 0 | 0 | 0 | 0 | ... | 0 | 0 | 0 | 0 | 0 | 0 | 1 |  1 | 97 |  2 |\n",
       "| CAERPGQGLNCYTF | 0 | 0 | 0 | 0 | 0 | 0 | 0 | 0 | 0 | 0 | ... | 0 | 0 | 0 | 0 | 0 | 0 | 1 |  0 | 98 |  1 |\n",
       "| CAGGGGRVGEKLFF | 0 | 0 | 0 | 0 | 0 | 0 | 0 | 0 | 0 | 0 | ... | 0 | 0 | 0 | 0 | 0 | 0 | 1 |  0 | 98 |  1 |\n",
       "| CAGGTGQDATNEKLFF | 0 | 0 | 0 | 0 | 0 | 0 | 0 | 0 | 0 | 0 | ... | 0 | 0 | 0 | 0 | 0 | 0 | 1 |  0 | 98 |  1 |\n",
       "| CAGRSGKGAAYNEQFF | 0 | 0 | 0 | 0 | 0 | 0 | 0 | 0 | 0 | 1 | ... | 0 | 0 | 0 | 0 | 0 | 0 | 1 | 12 | 86 | 13 |\n",
       "\n"
      ],
      "text/plain": [
       "                 CHP_319 CHP_323 CHP_324 CHP_326 CHP_328 CHP_329 CHP_330\n",
       "CAACEPEVRDTDTQYF 0       0       0       0       0       0       0      \n",
       "CACNQVMNTEAFF    0       0       0       0       0       0       0      \n",
       "CAERPGQGLNCYTF   0       0       0       0       0       0       0      \n",
       "CAGGGGRVGEKLFF   0       0       0       0       0       0       0      \n",
       "CAGGTGQDATNEKLFF 0       0       0       0       0       0       0      \n",
       "CAGRSGKGAAYNEQFF 0       0       0       0       0       0       0      \n",
       "                 CHP_331 CHP_333 CHP_334 ... CHP_418 CHP_419 CHP_420 CHP_421\n",
       "CAACEPEVRDTDTQYF 0       0       0       ... 0       0       0       0      \n",
       "CACNQVMNTEAFF    0       0       0       ... 0       0       0       0      \n",
       "CAERPGQGLNCYTF   0       0       0       ... 0       0       0       0      \n",
       "CAGGGGRVGEKLFF   0       0       0       ... 0       0       0       0      \n",
       "CAGGTGQDATNEKLFF 0       0       0       ... 0       0       0       0      \n",
       "CAGRSGKGAAYNEQFF 0       0       1       ... 0       0       0       0      \n",
       "                 CHP_422 CHP_423 no_patients_morethanone no_patients_one\n",
       "CAACEPEVRDTDTQYF 0       0       1                        0             \n",
       "CACNQVMNTEAFF    0       0       1                        1             \n",
       "CAERPGQGLNCYTF   0       0       1                        0             \n",
       "CAGGGGRVGEKLFF   0       0       1                        0             \n",
       "CAGGTGQDATNEKLFF 0       0       1                        0             \n",
       "CAGRSGKGAAYNEQFF 0       0       1                       12             \n",
       "                 no_patients_none no_patients\n",
       "CAACEPEVRDTDTQYF 98                1         \n",
       "CACNQVMNTEAFF    97                2         \n",
       "CAERPGQGLNCYTF   98                1         \n",
       "CAGGGGRVGEKLFF   98                1         \n",
       "CAGGTGQDATNEKLFF 98                1         \n",
       "CAGRSGKGAAYNEQFF 86               13         "
      ]
     },
     "metadata": {},
     "output_type": "display_data"
    }
   ],
   "source": [
    "head(tcr_pat_tab[ tcr_pat_tab$no_patients_morethanone > 0,])"
   ]
  },
  {
   "cell_type": "code",
   "execution_count": 46,
   "metadata": {
    "vscode": {
     "languageId": "r"
    }
   },
   "outputs": [
    {
     "data": {
      "text/html": [
       "<style>\n",
       ".list-inline {list-style: none; margin:0; padding: 0}\n",
       ".list-inline>li {display: inline-block}\n",
       ".list-inline>li:not(:last-child)::after {content: \"\\00b7\"; padding: 0 .5ex}\n",
       "</style>\n",
       "<ol class=list-inline><li>780</li><li>103</li></ol>\n"
      ],
      "text/latex": [
       "\\begin{enumerate*}\n",
       "\\item 780\n",
       "\\item 103\n",
       "\\end{enumerate*}\n"
      ],
      "text/markdown": [
       "1. 780\n",
       "2. 103\n",
       "\n",
       "\n"
      ],
      "text/plain": [
       "[1] 780 103"
      ]
     },
     "metadata": {},
     "output_type": "display_data"
    }
   ],
   "source": [
    "dim(tcr_pat_tab[tcr_pat_tab$no_patients_morethanone == 1 & tcr_pat_tab$no_patients_none == 98, ]) #  patient-specific TCRs in more than one sample in one patient\n",
    "patient_specific <- rownames(tcr_pat_tab)[tcr_pat_tab$no_patients_morethanone == 1 & tcr_pat_tab$no_patients_none == 98 ]"
   ]
  },
  {
   "cell_type": "code",
   "execution_count": 47,
   "metadata": {
    "vscode": {
     "languageId": "r"
    }
   },
   "outputs": [],
   "source": [
    "publicseq <- rownames(tcr_pat_tab)[tcr_pat_tab$no_patients > 1 ]"
   ]
  },
  {
   "cell_type": "code",
   "execution_count": 48,
   "metadata": {
    "vscode": {
     "languageId": "r"
    }
   },
   "outputs": [
    {
     "data": {
      "text/html": [
       "1482"
      ],
      "text/latex": [
       "1482"
      ],
      "text/markdown": [
       "1482"
      ],
      "text/plain": [
       "[1] 1482"
      ]
     },
     "metadata": {},
     "output_type": "display_data"
    }
   ],
   "source": [
    "length(publicseq)"
   ]
  },
  {
   "cell_type": "code",
   "execution_count": 49,
   "metadata": {
    "vscode": {
     "languageId": "r"
    }
   },
   "outputs": [],
   "source": [
    "public_avefraction <- int_all[int_all$aaSeqCDR3 %in% publicseq,]"
   ]
  },
  {
   "cell_type": "code",
   "execution_count": 50,
   "metadata": {
    "vscode": {
     "languageId": "r"
    }
   },
   "outputs": [],
   "source": [
    "# group_by aaSeqCDR3, average cloneCount, and keep all columns\n",
    "public_avefraction <- public_avefraction %>% group_by(aaSeqCDR3) %>% summarise(cloneFraction = mean(cloneFraction))"
   ]
  },
  {
   "cell_type": "code",
   "execution_count": 51,
   "metadata": {
    "vscode": {
     "languageId": "r"
    }
   },
   "outputs": [
    {
     "data": {
      "text/html": [
       "<table class=\"dataframe\">\n",
       "<caption>A tibble: 6 x 2</caption>\n",
       "<thead>\n",
       "\t<tr><th scope=col>aaSeqCDR3</th><th scope=col>cloneFraction</th></tr>\n",
       "\t<tr><th scope=col>&lt;chr&gt;</th><th scope=col>&lt;dbl&gt;</th></tr>\n",
       "</thead>\n",
       "<tbody>\n",
       "\t<tr><td>CACGGTGNYNEQFF  </td><td>0.017885784</td></tr>\n",
       "\t<tr><td>CACNQVMNTEAFF   </td><td>0.022404863</td></tr>\n",
       "\t<tr><td>CAGRSGKGAAYNEQFF</td><td>0.030088360</td></tr>\n",
       "\t<tr><td>CAIKDQGSGNTIYF  </td><td>0.013699879</td></tr>\n",
       "\t<tr><td>CAIPTGNTGELFF   </td><td>0.005814583</td></tr>\n",
       "\t<tr><td>CAIRGRIGTEAFF   </td><td>0.281450347</td></tr>\n",
       "</tbody>\n",
       "</table>\n"
      ],
      "text/latex": [
       "A tibble: 6 x 2\n",
       "\\begin{tabular}{ll}\n",
       " aaSeqCDR3 & cloneFraction\\\\\n",
       " <chr> & <dbl>\\\\\n",
       "\\hline\n",
       "\t CACGGTGNYNEQFF   & 0.017885784\\\\\n",
       "\t CACNQVMNTEAFF    & 0.022404863\\\\\n",
       "\t CAGRSGKGAAYNEQFF & 0.030088360\\\\\n",
       "\t CAIKDQGSGNTIYF   & 0.013699879\\\\\n",
       "\t CAIPTGNTGELFF    & 0.005814583\\\\\n",
       "\t CAIRGRIGTEAFF    & 0.281450347\\\\\n",
       "\\end{tabular}\n"
      ],
      "text/markdown": [
       "\n",
       "A tibble: 6 x 2\n",
       "\n",
       "| aaSeqCDR3 &lt;chr&gt; | cloneFraction &lt;dbl&gt; |\n",
       "|---|---|\n",
       "| CACGGTGNYNEQFF   | 0.017885784 |\n",
       "| CACNQVMNTEAFF    | 0.022404863 |\n",
       "| CAGRSGKGAAYNEQFF | 0.030088360 |\n",
       "| CAIKDQGSGNTIYF   | 0.013699879 |\n",
       "| CAIPTGNTGELFF    | 0.005814583 |\n",
       "| CAIRGRIGTEAFF    | 0.281450347 |\n",
       "\n"
      ],
      "text/plain": [
       "  aaSeqCDR3        cloneFraction\n",
       "1 CACGGTGNYNEQFF   0.017885784  \n",
       "2 CACNQVMNTEAFF    0.022404863  \n",
       "3 CAGRSGKGAAYNEQFF 0.030088360  \n",
       "4 CAIKDQGSGNTIYF   0.013699879  \n",
       "5 CAIPTGNTGELFF    0.005814583  \n",
       "6 CAIRGRIGTEAFF    0.281450347  "
      ]
     },
     "metadata": {},
     "output_type": "display_data"
    }
   ],
   "source": [
    "head(public_avefraction)"
   ]
  },
  {
   "cell_type": "code",
   "execution_count": 52,
   "metadata": {
    "vscode": {
     "languageId": "r"
    }
   },
   "outputs": [],
   "source": [
    "public_mixcr <- int_all[int_all$aaSeqCDR3 %in% publicseq,]"
   ]
  },
  {
   "cell_type": "code",
   "execution_count": 53,
   "metadata": {
    "vscode": {
     "languageId": "r"
    }
   },
   "outputs": [],
   "source": [
    "public_mixcr$cloneFraction <- public_avefraction$cloneFraction[match(public_mixcr$aaSeqCDR3, public_avefraction$aaSeqCDR3)]"
   ]
  },
  {
   "cell_type": "code",
   "execution_count": 54,
   "metadata": {
    "vscode": {
     "languageId": "r"
    }
   },
   "outputs": [
    {
     "data": {
      "text/html": [
       "<style>\n",
       ".list-inline {list-style: none; margin:0; padding: 0}\n",
       ".list-inline>li {display: inline-block}\n",
       ".list-inline>li:not(:last-child)::after {content: \"\\00b7\"; padding: 0 .5ex}\n",
       "</style>\n",
       "<ol class=list-inline><li>3818</li><li>39</li></ol>\n"
      ],
      "text/latex": [
       "\\begin{enumerate*}\n",
       "\\item 3818\n",
       "\\item 39\n",
       "\\end{enumerate*}\n"
      ],
      "text/markdown": [
       "1. 3818\n",
       "2. 39\n",
       "\n",
       "\n"
      ],
      "text/plain": [
       "[1] 3818   39"
      ]
     },
     "metadata": {},
     "output_type": "display_data"
    }
   ],
   "source": [
    "dim(public_mixcr)"
   ]
  },
  {
   "cell_type": "code",
   "execution_count": 55,
   "metadata": {
    "vscode": {
     "languageId": "r"
    }
   },
   "outputs": [],
   "source": [
    "public_mixcr_distinct <- public_mixcr[!duplicated(public_mixcr$aaSeqCDR3),]"
   ]
  },
  {
   "cell_type": "code",
   "execution_count": 56,
   "metadata": {
    "vscode": {
     "languageId": "r"
    }
   },
   "outputs": [
    {
     "data": {
      "text/html": [
       "<style>\n",
       ".list-inline {list-style: none; margin:0; padding: 0}\n",
       ".list-inline>li {display: inline-block}\n",
       ".list-inline>li:not(:last-child)::after {content: \"\\00b7\"; padding: 0 .5ex}\n",
       "</style>\n",
       "<ol class=list-inline><li>1482</li><li>39</li></ol>\n"
      ],
      "text/latex": [
       "\\begin{enumerate*}\n",
       "\\item 1482\n",
       "\\item 39\n",
       "\\end{enumerate*}\n"
      ],
      "text/markdown": [
       "1. 1482\n",
       "2. 39\n",
       "\n",
       "\n"
      ],
      "text/plain": [
       "[1] 1482   39"
      ]
     },
     "metadata": {},
     "output_type": "display_data"
    }
   ],
   "source": [
    "dim(public_mixcr_distinct)"
   ]
  },
  {
   "cell_type": "code",
   "execution_count": 57,
   "metadata": {
    "vscode": {
     "languageId": "r"
    }
   },
   "outputs": [],
   "source": [
    "# for TCRosetta\n",
    "write.table(public_mixcr_distinct, file =  \"~/Downloads/tcr_pat_tab.mixcr\", quote = F, sep = \"\\t\", row.names = F)"
   ]
  },
  {
   "cell_type": "code",
   "execution_count": null,
   "metadata": {
    "vscode": {
     "languageId": "r"
    }
   },
   "outputs": [],
   "source": []
  },
  {
   "cell_type": "code",
   "execution_count": 46,
   "metadata": {
    "vscode": {
     "languageId": "r"
    }
   },
   "outputs": [
    {
     "data": {
      "text/html": [
       "<table class=\"dataframe\">\n",
       "<caption>A data.frame: 9 x 103</caption>\n",
       "<thead>\n",
       "\t<tr><th></th><th scope=col>CHP_319</th><th scope=col>CHP_323</th><th scope=col>CHP_324</th><th scope=col>CHP_326</th><th scope=col>CHP_328</th><th scope=col>CHP_329</th><th scope=col>CHP_330</th><th scope=col>CHP_331</th><th scope=col>CHP_333</th><th scope=col>CHP_334</th><th scope=col>...</th><th scope=col>CHP_418</th><th scope=col>CHP_419</th><th scope=col>CHP_420</th><th scope=col>CHP_421</th><th scope=col>CHP_422</th><th scope=col>CHP_423</th><th scope=col>no_patients_morethanone</th><th scope=col>no_patients_one</th><th scope=col>no_patients_none</th><th scope=col>no_patients</th></tr>\n",
       "\t<tr><th></th><th scope=col>&lt;int&gt;</th><th scope=col>&lt;int&gt;</th><th scope=col>&lt;int&gt;</th><th scope=col>&lt;int&gt;</th><th scope=col>&lt;int&gt;</th><th scope=col>&lt;int&gt;</th><th scope=col>&lt;int&gt;</th><th scope=col>&lt;int&gt;</th><th scope=col>&lt;int&gt;</th><th scope=col>&lt;int&gt;</th><th scope=col>...</th><th scope=col>&lt;int&gt;</th><th scope=col>&lt;int&gt;</th><th scope=col>&lt;int&gt;</th><th scope=col>&lt;int&gt;</th><th scope=col>&lt;int&gt;</th><th scope=col>&lt;int&gt;</th><th scope=col>&lt;dbl&gt;</th><th scope=col>&lt;dbl&gt;</th><th scope=col>&lt;dbl&gt;</th><th scope=col>&lt;dbl&gt;</th></tr>\n",
       "</thead>\n",
       "<tbody>\n",
       "\t<tr><th scope=row>CAGRSGKGAAYNEQFF</th><td>0</td><td>0</td><td>0</td><td>0</td><td>0</td><td>0</td><td>0</td><td>0</td><td>0</td><td>1</td><td>...</td><td>0</td><td>0</td><td>0</td><td>0</td><td>0</td><td>0</td><td>1</td><td>12</td><td>86</td><td>13</td></tr>\n",
       "\t<tr><th scope=row>CASRARELNTEAFF</th><td>0</td><td>0</td><td>0</td><td>0</td><td>0</td><td>0</td><td>0</td><td>0</td><td>0</td><td>1</td><td>...</td><td>0</td><td>0</td><td>0</td><td>0</td><td>0</td><td>0</td><td>0</td><td>10</td><td>89</td><td>10</td></tr>\n",
       "\t<tr><th scope=row>CASSHDREQETQYF</th><td>0</td><td>0</td><td>0</td><td>0</td><td>0</td><td>0</td><td>0</td><td>0</td><td>0</td><td>1</td><td>...</td><td>0</td><td>0</td><td>0</td><td>0</td><td>0</td><td>0</td><td>0</td><td>12</td><td>87</td><td>12</td></tr>\n",
       "\t<tr><th scope=row>CASSLGRNQPQHF</th><td>0</td><td>0</td><td>0</td><td>0</td><td>0</td><td>0</td><td>0</td><td>0</td><td>0</td><td>0</td><td>...</td><td>0</td><td>0</td><td>0</td><td>0</td><td>0</td><td>0</td><td>1</td><td> 9</td><td>89</td><td>10</td></tr>\n",
       "\t<tr><th scope=row>CASSLRPPDIQYF</th><td>0</td><td>0</td><td>0</td><td>0</td><td>0</td><td>0</td><td>0</td><td>0</td><td>0</td><td>1</td><td>...</td><td>0</td><td>0</td><td>0</td><td>0</td><td>0</td><td>0</td><td>1</td><td>17</td><td>81</td><td>18</td></tr>\n",
       "\t<tr><th scope=row>CASSPDRGRYQETQYF</th><td>0</td><td>0</td><td>0</td><td>0</td><td>0</td><td>0</td><td>0</td><td>0</td><td>0</td><td>1</td><td>...</td><td>0</td><td>0</td><td>0</td><td>0</td><td>0</td><td>0</td><td>6</td><td>21</td><td>72</td><td>27</td></tr>\n",
       "\t<tr><th scope=row>CASSRFAGGSGNTIYF</th><td>0</td><td>0</td><td>0</td><td>0</td><td>0</td><td>0</td><td>0</td><td>0</td><td>0</td><td>0</td><td>...</td><td>0</td><td>0</td><td>0</td><td>0</td><td>0</td><td>0</td><td>1</td><td> 9</td><td>89</td><td>10</td></tr>\n",
       "\t<tr><th scope=row>CATSDSGGLSNQPQHF</th><td>0</td><td>0</td><td>0</td><td>0</td><td>0</td><td>0</td><td>0</td><td>0</td><td>0</td><td>1</td><td>...</td><td>0</td><td>0</td><td>0</td><td>0</td><td>0</td><td>0</td><td>0</td><td>12</td><td>87</td><td>12</td></tr>\n",
       "\t<tr><th scope=row>CSVFTGGAPGEQYF</th><td>0</td><td>0</td><td>0</td><td>0</td><td>0</td><td>0</td><td>0</td><td>0</td><td>0</td><td>1</td><td>...</td><td>0</td><td>0</td><td>0</td><td>0</td><td>0</td><td>0</td><td>0</td><td>10</td><td>89</td><td>10</td></tr>\n",
       "</tbody>\n",
       "</table>\n"
      ],
      "text/latex": [
       "A data.frame: 9 x 103\n",
       "\\begin{tabular}{r|lllllllllllllllllllll}\n",
       "  & CHP\\_319 & CHP\\_323 & CHP\\_324 & CHP\\_326 & CHP\\_328 & CHP\\_329 & CHP\\_330 & CHP\\_331 & CHP\\_333 & CHP\\_334 & ... & CHP\\_418 & CHP\\_419 & CHP\\_420 & CHP\\_421 & CHP\\_422 & CHP\\_423 & no\\_patients\\_morethanone & no\\_patients\\_one & no\\_patients\\_none & no\\_patients\\\\\n",
       "  & <int> & <int> & <int> & <int> & <int> & <int> & <int> & <int> & <int> & <int> & ... & <int> & <int> & <int> & <int> & <int> & <int> & <dbl> & <dbl> & <dbl> & <dbl>\\\\\n",
       "\\hline\n",
       "\tCAGRSGKGAAYNEQFF & 0 & 0 & 0 & 0 & 0 & 0 & 0 & 0 & 0 & 1 & ... & 0 & 0 & 0 & 0 & 0 & 0 & 1 & 12 & 86 & 13\\\\\n",
       "\tCASRARELNTEAFF & 0 & 0 & 0 & 0 & 0 & 0 & 0 & 0 & 0 & 1 & ... & 0 & 0 & 0 & 0 & 0 & 0 & 0 & 10 & 89 & 10\\\\\n",
       "\tCASSHDREQETQYF & 0 & 0 & 0 & 0 & 0 & 0 & 0 & 0 & 0 & 1 & ... & 0 & 0 & 0 & 0 & 0 & 0 & 0 & 12 & 87 & 12\\\\\n",
       "\tCASSLGRNQPQHF & 0 & 0 & 0 & 0 & 0 & 0 & 0 & 0 & 0 & 0 & ... & 0 & 0 & 0 & 0 & 0 & 0 & 1 &  9 & 89 & 10\\\\\n",
       "\tCASSLRPPDIQYF & 0 & 0 & 0 & 0 & 0 & 0 & 0 & 0 & 0 & 1 & ... & 0 & 0 & 0 & 0 & 0 & 0 & 1 & 17 & 81 & 18\\\\\n",
       "\tCASSPDRGRYQETQYF & 0 & 0 & 0 & 0 & 0 & 0 & 0 & 0 & 0 & 1 & ... & 0 & 0 & 0 & 0 & 0 & 0 & 6 & 21 & 72 & 27\\\\\n",
       "\tCASSRFAGGSGNTIYF & 0 & 0 & 0 & 0 & 0 & 0 & 0 & 0 & 0 & 0 & ... & 0 & 0 & 0 & 0 & 0 & 0 & 1 &  9 & 89 & 10\\\\\n",
       "\tCATSDSGGLSNQPQHF & 0 & 0 & 0 & 0 & 0 & 0 & 0 & 0 & 0 & 1 & ... & 0 & 0 & 0 & 0 & 0 & 0 & 0 & 12 & 87 & 12\\\\\n",
       "\tCSVFTGGAPGEQYF & 0 & 0 & 0 & 0 & 0 & 0 & 0 & 0 & 0 & 1 & ... & 0 & 0 & 0 & 0 & 0 & 0 & 0 & 10 & 89 & 10\\\\\n",
       "\\end{tabular}\n"
      ],
      "text/markdown": [
       "\n",
       "A data.frame: 9 x 103\n",
       "\n",
       "| <!--/--> | CHP_319 &lt;int&gt; | CHP_323 &lt;int&gt; | CHP_324 &lt;int&gt; | CHP_326 &lt;int&gt; | CHP_328 &lt;int&gt; | CHP_329 &lt;int&gt; | CHP_330 &lt;int&gt; | CHP_331 &lt;int&gt; | CHP_333 &lt;int&gt; | CHP_334 &lt;int&gt; | ... ... | CHP_418 &lt;int&gt; | CHP_419 &lt;int&gt; | CHP_420 &lt;int&gt; | CHP_421 &lt;int&gt; | CHP_422 &lt;int&gt; | CHP_423 &lt;int&gt; | no_patients_morethanone &lt;dbl&gt; | no_patients_one &lt;dbl&gt; | no_patients_none &lt;dbl&gt; | no_patients &lt;dbl&gt; |\n",
       "|---|---|---|---|---|---|---|---|---|---|---|---|---|---|---|---|---|---|---|---|---|---|\n",
       "| CAGRSGKGAAYNEQFF | 0 | 0 | 0 | 0 | 0 | 0 | 0 | 0 | 0 | 1 | ... | 0 | 0 | 0 | 0 | 0 | 0 | 1 | 12 | 86 | 13 |\n",
       "| CASRARELNTEAFF | 0 | 0 | 0 | 0 | 0 | 0 | 0 | 0 | 0 | 1 | ... | 0 | 0 | 0 | 0 | 0 | 0 | 0 | 10 | 89 | 10 |\n",
       "| CASSHDREQETQYF | 0 | 0 | 0 | 0 | 0 | 0 | 0 | 0 | 0 | 1 | ... | 0 | 0 | 0 | 0 | 0 | 0 | 0 | 12 | 87 | 12 |\n",
       "| CASSLGRNQPQHF | 0 | 0 | 0 | 0 | 0 | 0 | 0 | 0 | 0 | 0 | ... | 0 | 0 | 0 | 0 | 0 | 0 | 1 |  9 | 89 | 10 |\n",
       "| CASSLRPPDIQYF | 0 | 0 | 0 | 0 | 0 | 0 | 0 | 0 | 0 | 1 | ... | 0 | 0 | 0 | 0 | 0 | 0 | 1 | 17 | 81 | 18 |\n",
       "| CASSPDRGRYQETQYF | 0 | 0 | 0 | 0 | 0 | 0 | 0 | 0 | 0 | 1 | ... | 0 | 0 | 0 | 0 | 0 | 0 | 6 | 21 | 72 | 27 |\n",
       "| CASSRFAGGSGNTIYF | 0 | 0 | 0 | 0 | 0 | 0 | 0 | 0 | 0 | 0 | ... | 0 | 0 | 0 | 0 | 0 | 0 | 1 |  9 | 89 | 10 |\n",
       "| CATSDSGGLSNQPQHF | 0 | 0 | 0 | 0 | 0 | 0 | 0 | 0 | 0 | 1 | ... | 0 | 0 | 0 | 0 | 0 | 0 | 0 | 12 | 87 | 12 |\n",
       "| CSVFTGGAPGEQYF | 0 | 0 | 0 | 0 | 0 | 0 | 0 | 0 | 0 | 1 | ... | 0 | 0 | 0 | 0 | 0 | 0 | 0 | 10 | 89 | 10 |\n",
       "\n"
      ],
      "text/plain": [
       "                 CHP_319 CHP_323 CHP_324 CHP_326 CHP_328 CHP_329 CHP_330\n",
       "CAGRSGKGAAYNEQFF 0       0       0       0       0       0       0      \n",
       "CASRARELNTEAFF   0       0       0       0       0       0       0      \n",
       "CASSHDREQETQYF   0       0       0       0       0       0       0      \n",
       "CASSLGRNQPQHF    0       0       0       0       0       0       0      \n",
       "CASSLRPPDIQYF    0       0       0       0       0       0       0      \n",
       "CASSPDRGRYQETQYF 0       0       0       0       0       0       0      \n",
       "CASSRFAGGSGNTIYF 0       0       0       0       0       0       0      \n",
       "CATSDSGGLSNQPQHF 0       0       0       0       0       0       0      \n",
       "CSVFTGGAPGEQYF   0       0       0       0       0       0       0      \n",
       "                 CHP_331 CHP_333 CHP_334 ... CHP_418 CHP_419 CHP_420 CHP_421\n",
       "CAGRSGKGAAYNEQFF 0       0       1       ... 0       0       0       0      \n",
       "CASRARELNTEAFF   0       0       1       ... 0       0       0       0      \n",
       "CASSHDREQETQYF   0       0       1       ... 0       0       0       0      \n",
       "CASSLGRNQPQHF    0       0       0       ... 0       0       0       0      \n",
       "CASSLRPPDIQYF    0       0       1       ... 0       0       0       0      \n",
       "CASSPDRGRYQETQYF 0       0       1       ... 0       0       0       0      \n",
       "CASSRFAGGSGNTIYF 0       0       0       ... 0       0       0       0      \n",
       "CATSDSGGLSNQPQHF 0       0       1       ... 0       0       0       0      \n",
       "CSVFTGGAPGEQYF   0       0       1       ... 0       0       0       0      \n",
       "                 CHP_422 CHP_423 no_patients_morethanone no_patients_one\n",
       "CAGRSGKGAAYNEQFF 0       0       1                       12             \n",
       "CASRARELNTEAFF   0       0       0                       10             \n",
       "CASSHDREQETQYF   0       0       0                       12             \n",
       "CASSLGRNQPQHF    0       0       1                        9             \n",
       "CASSLRPPDIQYF    0       0       1                       17             \n",
       "CASSPDRGRYQETQYF 0       0       6                       21             \n",
       "CASSRFAGGSGNTIYF 0       0       1                        9             \n",
       "CATSDSGGLSNQPQHF 0       0       0                       12             \n",
       "CSVFTGGAPGEQYF   0       0       0                       10             \n",
       "                 no_patients_none no_patients\n",
       "CAGRSGKGAAYNEQFF 86               13         \n",
       "CASRARELNTEAFF   89               10         \n",
       "CASSHDREQETQYF   87               12         \n",
       "CASSLGRNQPQHF    89               10         \n",
       "CASSLRPPDIQYF    81               18         \n",
       "CASSPDRGRYQETQYF 72               27         \n",
       "CASSRFAGGSGNTIYF 89               10         \n",
       "CATSDSGGLSNQPQHF 87               12         \n",
       "CSVFTGGAPGEQYF   89               10         "
      ]
     },
     "metadata": {},
     "output_type": "display_data"
    }
   ],
   "source": [
    "tcr_pat_tab[tcr_pat_tab$no_patients > 9, ]"
   ]
  },
  {
   "cell_type": "code",
   "execution_count": 42,
   "metadata": {
    "vscode": {
     "languageId": "r"
    }
   },
   "outputs": [
    {
     "data": {
      "text/html": [
       "<style>\n",
       ".list-inline {list-style: none; margin:0; padding: 0}\n",
       ".list-inline>li {display: inline-block}\n",
       ".list-inline>li:not(:last-child)::after {content: \"\\00b7\"; padding: 0 .5ex}\n",
       "</style>\n",
       "<ol class=list-inline><li>1482</li><li>103</li></ol>\n"
      ],
      "text/latex": [
       "\\begin{enumerate*}\n",
       "\\item 1482\n",
       "\\item 103\n",
       "\\end{enumerate*}\n"
      ],
      "text/markdown": [
       "1. 1482\n",
       "2. 103\n",
       "\n",
       "\n"
      ],
      "text/plain": [
       "[1] 1482  103"
      ]
     },
     "metadata": {},
     "output_type": "display_data"
    }
   ],
   "source": [
    "dim(tcr_pat_tab[tcr_pat_tab$no_patients > 1 & tcr_pat_tab$no_patients_none < 98, ]) # public tcrs occuring in more than one patient (in at least one of their samples)\n",
    "public <- rownames(tcr_pat_tab)[tcr_pat_tab$no_patients > 0 & tcr_pat_tab$no_patients_none < 98 ]"
   ]
  },
  {
   "cell_type": "code",
   "execution_count": 43,
   "metadata": {
    "vscode": {
     "languageId": "r"
    }
   },
   "outputs": [
    {
     "data": {
      "text/html": [
       "2.93384012353011"
      ],
      "text/latex": [
       "2.93384012353011"
      ],
      "text/markdown": [
       "2.93384012353011"
      ],
      "text/plain": [
       "[1] 2.93384"
      ]
     },
     "metadata": {},
     "output_type": "display_data"
    },
    {
     "data": {
      "text/html": [
       "1.54412638080532"
      ],
      "text/latex": [
       "1.54412638080532"
      ],
      "text/markdown": [
       "1.54412638080532"
      ],
      "text/plain": [
       "[1] 1.544126"
      ]
     },
     "metadata": {},
     "output_type": "display_data"
    }
   ],
   "source": [
    "1482 / 50514 * 100\n",
    "\n",
    "780 / 50514 * 100"
   ]
  },
  {
   "cell_type": "code",
   "execution_count": 44,
   "metadata": {
    "vscode": {
     "languageId": "r"
    }
   },
   "outputs": [
    {
     "data": {
      "text/plain": [
       "   Min. 1st Qu.  Median    Mean 3rd Qu.    Max. \n",
       "  2.000   2.000   2.000   2.474   2.000  27.000 "
      ]
     },
     "metadata": {},
     "output_type": "display_data"
    }
   ],
   "source": [
    "summary(tcr_pat_tab$no_patients[tcr_pat_tab$no_patients > 1 & tcr_pat_tab$no_patients_none < 98 ])"
   ]
  },
  {
   "cell_type": "markdown",
   "metadata": {},
   "source": [
    "Add TIGERDB search"
   ]
  },
  {
   "cell_type": "code",
   "execution_count": 45,
   "metadata": {
    "vscode": {
     "languageId": "r"
    }
   },
   "outputs": [],
   "source": [
    "# tigerdb_output <- read.table(x)"
   ]
  },
  {
   "cell_type": "code",
   "execution_count": 46,
   "metadata": {
    "vscode": {
     "languageId": "r"
    }
   },
   "outputs": [
    {
     "data": {
      "text/html": [
       "<table class=\"dataframe\">\n",
       "<caption>A data.frame: 6 x 103</caption>\n",
       "<thead>\n",
       "\t<tr><th></th><th scope=col>CHP_319</th><th scope=col>CHP_323</th><th scope=col>CHP_324</th><th scope=col>CHP_326</th><th scope=col>CHP_328</th><th scope=col>CHP_329</th><th scope=col>CHP_330</th><th scope=col>CHP_331</th><th scope=col>CHP_333</th><th scope=col>CHP_334</th><th scope=col>...</th><th scope=col>CHP_418</th><th scope=col>CHP_419</th><th scope=col>CHP_420</th><th scope=col>CHP_421</th><th scope=col>CHP_422</th><th scope=col>CHP_423</th><th scope=col>no_patients_morethanone</th><th scope=col>no_patients_one</th><th scope=col>no_patients_none</th><th scope=col>no_patients</th></tr>\n",
       "\t<tr><th></th><th scope=col>&lt;int&gt;</th><th scope=col>&lt;int&gt;</th><th scope=col>&lt;int&gt;</th><th scope=col>&lt;int&gt;</th><th scope=col>&lt;int&gt;</th><th scope=col>&lt;int&gt;</th><th scope=col>&lt;int&gt;</th><th scope=col>&lt;int&gt;</th><th scope=col>&lt;int&gt;</th><th scope=col>&lt;int&gt;</th><th scope=col>...</th><th scope=col>&lt;int&gt;</th><th scope=col>&lt;int&gt;</th><th scope=col>&lt;int&gt;</th><th scope=col>&lt;int&gt;</th><th scope=col>&lt;int&gt;</th><th scope=col>&lt;int&gt;</th><th scope=col>&lt;dbl&gt;</th><th scope=col>&lt;dbl&gt;</th><th scope=col>&lt;dbl&gt;</th><th scope=col>&lt;dbl&gt;</th></tr>\n",
       "</thead>\n",
       "<tbody>\n",
       "\t<tr><th scope=row>CAAAGGGEAFF</th><td>0</td><td>0</td><td>0</td><td>0</td><td>0</td><td>0</td><td>0</td><td>0</td><td>0</td><td>0</td><td>...</td><td>0</td><td>0</td><td>0</td><td>0</td><td>0</td><td>0</td><td>0</td><td>1</td><td>98</td><td>1</td></tr>\n",
       "\t<tr><th scope=row>CAAAGGSGVGYEQYF</th><td>0</td><td>0</td><td>0</td><td>0</td><td>0</td><td>0</td><td>0</td><td>0</td><td>0</td><td>0</td><td>...</td><td>0</td><td>0</td><td>0</td><td>0</td><td>0</td><td>0</td><td>0</td><td>1</td><td>98</td><td>1</td></tr>\n",
       "\t<tr><th scope=row>CAAARGFDEQYF</th><td>0</td><td>0</td><td>0</td><td>0</td><td>0</td><td>0</td><td>0</td><td>0</td><td>0</td><td>0</td><td>...</td><td>0</td><td>0</td><td>0</td><td>0</td><td>0</td><td>0</td><td>0</td><td>1</td><td>98</td><td>1</td></tr>\n",
       "\t<tr><th scope=row>CAACEPEVRDTDTQYF</th><td>0</td><td>0</td><td>0</td><td>0</td><td>0</td><td>0</td><td>0</td><td>0</td><td>0</td><td>0</td><td>...</td><td>0</td><td>0</td><td>0</td><td>0</td><td>0</td><td>0</td><td>1</td><td>0</td><td>98</td><td>1</td></tr>\n",
       "\t<tr><th scope=row>CAAEPRLAGGTDTQYF</th><td>0</td><td>0</td><td>0</td><td>0</td><td>0</td><td>0</td><td>0</td><td>0</td><td>0</td><td>0</td><td>...</td><td>0</td><td>0</td><td>0</td><td>0</td><td>0</td><td>0</td><td>0</td><td>1</td><td>98</td><td>1</td></tr>\n",
       "\t<tr><th scope=row>CAAGDRGPIVYEQYF</th><td>0</td><td>0</td><td>0</td><td>0</td><td>0</td><td>0</td><td>0</td><td>0</td><td>0</td><td>0</td><td>...</td><td>0</td><td>0</td><td>0</td><td>0</td><td>0</td><td>0</td><td>0</td><td>1</td><td>98</td><td>1</td></tr>\n",
       "</tbody>\n",
       "</table>\n"
      ],
      "text/latex": [
       "A data.frame: 6 x 103\n",
       "\\begin{tabular}{r|lllllllllllllllllllll}\n",
       "  & CHP\\_319 & CHP\\_323 & CHP\\_324 & CHP\\_326 & CHP\\_328 & CHP\\_329 & CHP\\_330 & CHP\\_331 & CHP\\_333 & CHP\\_334 & ... & CHP\\_418 & CHP\\_419 & CHP\\_420 & CHP\\_421 & CHP\\_422 & CHP\\_423 & no\\_patients\\_morethanone & no\\_patients\\_one & no\\_patients\\_none & no\\_patients\\\\\n",
       "  & <int> & <int> & <int> & <int> & <int> & <int> & <int> & <int> & <int> & <int> & ... & <int> & <int> & <int> & <int> & <int> & <int> & <dbl> & <dbl> & <dbl> & <dbl>\\\\\n",
       "\\hline\n",
       "\tCAAAGGGEAFF & 0 & 0 & 0 & 0 & 0 & 0 & 0 & 0 & 0 & 0 & ... & 0 & 0 & 0 & 0 & 0 & 0 & 0 & 1 & 98 & 1\\\\\n",
       "\tCAAAGGSGVGYEQYF & 0 & 0 & 0 & 0 & 0 & 0 & 0 & 0 & 0 & 0 & ... & 0 & 0 & 0 & 0 & 0 & 0 & 0 & 1 & 98 & 1\\\\\n",
       "\tCAAARGFDEQYF & 0 & 0 & 0 & 0 & 0 & 0 & 0 & 0 & 0 & 0 & ... & 0 & 0 & 0 & 0 & 0 & 0 & 0 & 1 & 98 & 1\\\\\n",
       "\tCAACEPEVRDTDTQYF & 0 & 0 & 0 & 0 & 0 & 0 & 0 & 0 & 0 & 0 & ... & 0 & 0 & 0 & 0 & 0 & 0 & 1 & 0 & 98 & 1\\\\\n",
       "\tCAAEPRLAGGTDTQYF & 0 & 0 & 0 & 0 & 0 & 0 & 0 & 0 & 0 & 0 & ... & 0 & 0 & 0 & 0 & 0 & 0 & 0 & 1 & 98 & 1\\\\\n",
       "\tCAAGDRGPIVYEQYF & 0 & 0 & 0 & 0 & 0 & 0 & 0 & 0 & 0 & 0 & ... & 0 & 0 & 0 & 0 & 0 & 0 & 0 & 1 & 98 & 1\\\\\n",
       "\\end{tabular}\n"
      ],
      "text/markdown": [
       "\n",
       "A data.frame: 6 x 103\n",
       "\n",
       "| <!--/--> | CHP_319 &lt;int&gt; | CHP_323 &lt;int&gt; | CHP_324 &lt;int&gt; | CHP_326 &lt;int&gt; | CHP_328 &lt;int&gt; | CHP_329 &lt;int&gt; | CHP_330 &lt;int&gt; | CHP_331 &lt;int&gt; | CHP_333 &lt;int&gt; | CHP_334 &lt;int&gt; | ... ... | CHP_418 &lt;int&gt; | CHP_419 &lt;int&gt; | CHP_420 &lt;int&gt; | CHP_421 &lt;int&gt; | CHP_422 &lt;int&gt; | CHP_423 &lt;int&gt; | no_patients_morethanone &lt;dbl&gt; | no_patients_one &lt;dbl&gt; | no_patients_none &lt;dbl&gt; | no_patients &lt;dbl&gt; |\n",
       "|---|---|---|---|---|---|---|---|---|---|---|---|---|---|---|---|---|---|---|---|---|---|\n",
       "| CAAAGGGEAFF | 0 | 0 | 0 | 0 | 0 | 0 | 0 | 0 | 0 | 0 | ... | 0 | 0 | 0 | 0 | 0 | 0 | 0 | 1 | 98 | 1 |\n",
       "| CAAAGGSGVGYEQYF | 0 | 0 | 0 | 0 | 0 | 0 | 0 | 0 | 0 | 0 | ... | 0 | 0 | 0 | 0 | 0 | 0 | 0 | 1 | 98 | 1 |\n",
       "| CAAARGFDEQYF | 0 | 0 | 0 | 0 | 0 | 0 | 0 | 0 | 0 | 0 | ... | 0 | 0 | 0 | 0 | 0 | 0 | 0 | 1 | 98 | 1 |\n",
       "| CAACEPEVRDTDTQYF | 0 | 0 | 0 | 0 | 0 | 0 | 0 | 0 | 0 | 0 | ... | 0 | 0 | 0 | 0 | 0 | 0 | 1 | 0 | 98 | 1 |\n",
       "| CAAEPRLAGGTDTQYF | 0 | 0 | 0 | 0 | 0 | 0 | 0 | 0 | 0 | 0 | ... | 0 | 0 | 0 | 0 | 0 | 0 | 0 | 1 | 98 | 1 |\n",
       "| CAAGDRGPIVYEQYF | 0 | 0 | 0 | 0 | 0 | 0 | 0 | 0 | 0 | 0 | ... | 0 | 0 | 0 | 0 | 0 | 0 | 0 | 1 | 98 | 1 |\n",
       "\n"
      ],
      "text/plain": [
       "                 CHP_319 CHP_323 CHP_324 CHP_326 CHP_328 CHP_329 CHP_330\n",
       "CAAAGGGEAFF      0       0       0       0       0       0       0      \n",
       "CAAAGGSGVGYEQYF  0       0       0       0       0       0       0      \n",
       "CAAARGFDEQYF     0       0       0       0       0       0       0      \n",
       "CAACEPEVRDTDTQYF 0       0       0       0       0       0       0      \n",
       "CAAEPRLAGGTDTQYF 0       0       0       0       0       0       0      \n",
       "CAAGDRGPIVYEQYF  0       0       0       0       0       0       0      \n",
       "                 CHP_331 CHP_333 CHP_334 ... CHP_418 CHP_419 CHP_420 CHP_421\n",
       "CAAAGGGEAFF      0       0       0       ... 0       0       0       0      \n",
       "CAAAGGSGVGYEQYF  0       0       0       ... 0       0       0       0      \n",
       "CAAARGFDEQYF     0       0       0       ... 0       0       0       0      \n",
       "CAACEPEVRDTDTQYF 0       0       0       ... 0       0       0       0      \n",
       "CAAEPRLAGGTDTQYF 0       0       0       ... 0       0       0       0      \n",
       "CAAGDRGPIVYEQYF  0       0       0       ... 0       0       0       0      \n",
       "                 CHP_422 CHP_423 no_patients_morethanone no_patients_one\n",
       "CAAAGGGEAFF      0       0       0                       1              \n",
       "CAAAGGSGVGYEQYF  0       0       0                       1              \n",
       "CAAARGFDEQYF     0       0       0                       1              \n",
       "CAACEPEVRDTDTQYF 0       0       1                       0              \n",
       "CAAEPRLAGGTDTQYF 0       0       0                       1              \n",
       "CAAGDRGPIVYEQYF  0       0       0                       1              \n",
       "                 no_patients_none no_patients\n",
       "CAAAGGGEAFF      98               1          \n",
       "CAAAGGSGVGYEQYF  98               1          \n",
       "CAAARGFDEQYF     98               1          \n",
       "CAACEPEVRDTDTQYF 98               1          \n",
       "CAAEPRLAGGTDTQYF 98               1          \n",
       "CAAGDRGPIVYEQYF  98               1          "
      ]
     },
     "metadata": {},
     "output_type": "display_data"
    }
   ],
   "source": [
    "head(tcr_pat_tab)"
   ]
  },
  {
   "cell_type": "code",
   "execution_count": 47,
   "metadata": {
    "vscode": {
     "languageId": "r"
    }
   },
   "outputs": [],
   "source": [
    "tcr_pat_tab$db_annot <- NA\n"
   ]
  },
  {
   "cell_type": "code",
   "execution_count": null,
   "metadata": {
    "vscode": {
     "languageId": "r"
    }
   },
   "outputs": [],
   "source": []
  },
  {
   "cell_type": "code",
   "execution_count": null,
   "metadata": {
    "vscode": {
     "languageId": "r"
    }
   },
   "outputs": [],
   "source": []
  },
  {
   "cell_type": "markdown",
   "metadata": {},
   "source": [
    "# Analysis of Overlap repertoires pairwise"
   ]
  },
  {
   "cell_type": "markdown",
   "metadata": {},
   "source": [
    "count overlap"
   ]
  },
  {
   "cell_type": "code",
   "execution_count": 48,
   "metadata": {
    "vscode": {
     "languageId": "r"
    }
   },
   "outputs": [
    {
     "data": {
      "text/html": [
       "<table class=\"dataframe\">\n",
       "<caption>A data.frame: 6 x 39</caption>\n",
       "<thead>\n",
       "\t<tr><th></th><th scope=col>cloneId</th><th scope=col>cloneCount</th><th scope=col>cloneFraction</th><th scope=col>clonalSequence</th><th scope=col>clonalSequenceQuality</th><th scope=col>allVHitsWithScore</th><th scope=col>allDHitsWithScore</th><th scope=col>allJHitsWithScore</th><th scope=col>allCHitsWithScore</th><th scope=col>allVAlignments</th><th scope=col>...</th><th scope=col>aaSeqFR2</th><th scope=col>aaSeqCDR2</th><th scope=col>aaSeqFR3</th><th scope=col>aaSeqCDR3</th><th scope=col>aaSeqFR4</th><th scope=col>refPoints</th><th scope=col>file</th><th scope=col>basename</th><th scope=col>Patient</th><th scope=col>sampletype</th></tr>\n",
       "\t<tr><th></th><th scope=col>&lt;int&gt;</th><th scope=col>&lt;int&gt;</th><th scope=col>&lt;dbl&gt;</th><th scope=col>&lt;chr&gt;</th><th scope=col>&lt;chr&gt;</th><th scope=col>&lt;chr&gt;</th><th scope=col>&lt;chr&gt;</th><th scope=col>&lt;chr&gt;</th><th scope=col>&lt;chr&gt;</th><th scope=col>&lt;chr&gt;</th><th scope=col>...</th><th scope=col>&lt;lgl&gt;</th><th scope=col>&lt;lgl&gt;</th><th scope=col>&lt;lgl&gt;</th><th scope=col>&lt;chr&gt;</th><th scope=col>&lt;lgl&gt;</th><th scope=col>&lt;chr&gt;</th><th scope=col>&lt;chr&gt;</th><th scope=col>&lt;chr&gt;</th><th scope=col>&lt;chr&gt;</th><th scope=col>&lt;chr&gt;</th></tr>\n",
       "</thead>\n",
       "<tbody>\n",
       "\t<tr><th scope=row>1</th><td>37</td><td>13</td><td>0.15116279</td><td>TGTGCCAGCAGGGAAAGGATAGCCCCTGGAAACACCATATATTTT            </td><td>EEEEEEEEEEEEEEEEEEEEEEEEEEEEEEEEEEEEEEEEEEEEE            </td><td>TRBV6-5*00(726.3) </td><td>                         </td><td>TRBJ1-3*00(130)</td><td>NA</td><td>519|530|556|0|11||55.0</td><td>...</td><td>NA</td><td>NA</td><td>NA</td><td>CASRERIAPGNTIYF    </td><td>NA</td><td>:::::::::0:-6:11:::::25:-2:45:::        </td><td>batch2_Aug62019/mixcr/clones/CLONES_TRBCHP_319-05-PBMC-DNA.txt</td><td>CHP_319-05-PBMC-DNA</td><td>CHP_319</td><td>PBMC</td></tr>\n",
       "\t<tr><th scope=row>2</th><td>42</td><td>11</td><td>0.12790698</td><td>TGCAGTGCTAGAGATCGTACGGGAATGTCCACAGATACGCAGTATTTT         </td><td>EEEEEEEEEEEEEEEEEEEEEEEEEEEEEEEEEEEEEEEEEEEEEEEE         </td><td>TRBV20-1*00(703.5)</td><td>TRBD1*00(25),TRBD2*00(25)</td><td>TRBJ2-3*00(110)</td><td>NA</td><td>759|775|793|0|16||80.0</td><td>...</td><td>NA</td><td>NA</td><td>NA</td><td>CSARDRTGMSTDTQYF   </td><td>NA</td><td>:::::::::0:2:16:19:1:-8:24:29:-2:48:::  </td><td>batch2_Aug62019/mixcr/clones/CLONES_TRBCHP_319-05-PBMC-DNA.txt</td><td>CHP_319-05-PBMC-DNA</td><td>CHP_319</td><td>PBMC</td></tr>\n",
       "\t<tr><th scope=row>3</th><td>48</td><td> 9</td><td>0.10465116</td><td>TGTGCCAGTAGGCTCGGGACAGGGCATGAGAACACTGAAGCTTTCTTT         </td><td>EEEEEEEEEEEEEEEEEEEEEEEEEEEEEEEEEEEEEEEEEEEEEEEE         </td><td>TRBV19*00(373.2)  </td><td>TRBD1*00(50)             </td><td>TRBJ1-1*00(235)</td><td>NA</td><td>559|570|596|0|11||55.0</td><td>...</td><td>NA</td><td>NA</td><td>NA</td><td>CASRLGTGHENTEAFF   </td><td>NA</td><td>:::::::::0:-6:11:14:1:-3:24:29:-1:48::: </td><td>batch2_Aug62019/mixcr/clones/CLONES_TRBCHP_319-05-PBMC-DNA.txt</td><td>CHP_319-05-PBMC-DNA</td><td>CHP_319</td><td>PBMC</td></tr>\n",
       "\t<tr><th scope=row>4</th><td>50</td><td> 9</td><td>0.10465116</td><td>TGTGCCACCAGCAGAGATTGGACAGTCTCCTACGAGCAGTACTTC            </td><td>EEEEEEEEEEEEEEEEEEEEEEEEEEEEEEEEEEEEEEEEEEEEE            </td><td>TRBV15*00(439)    </td><td>TRBD1*00(30)             </td><td>TRBJ2-7*00(235)</td><td>NA</td><td>552|570|589|0|18||90.0</td><td>...</td><td>NA</td><td>NA</td><td>NA</td><td>CATSRDWTVSYEQYF    </td><td>NA</td><td>:::::::::0:1:18:19:-1:-5:25:26:0:45:::  </td><td>batch2_Aug62019/mixcr/clones/CLONES_TRBCHP_319-05-PBMC-DNA.txt</td><td>CHP_319-05-PBMC-DNA</td><td>CHP_319</td><td>PBMC</td></tr>\n",
       "\t<tr><th scope=row>5</th><td>63</td><td> 6</td><td>0.06976744</td><td>TGTGCCAGCAGCCGAAACAGGGTTAGGTATGGCTACACCTTC               </td><td>EEEEEEEEEEEEEEEEEEEEEEEEEEEEEEEEEEEEEEEEEE               </td><td>TRBV11-2*00(299)  </td><td>TRBD1*00(30)             </td><td>TRBJ1-2*00(215)</td><td>NA</td><td>522|534|559|0|12||60.0</td><td>...</td><td>NA</td><td>NA</td><td>NA</td><td>CASSRNRVRYGYTF     </td><td>NA</td><td>:::::::::0:-5:12:16:-3:-3:22:27:-5:42:::</td><td>batch2_Aug62019/mixcr/clones/CLONES_TRBCHP_319-05-PBMC-DNA.txt</td><td>CHP_319-05-PBMC-DNA</td><td>CHP_319</td><td>PBMC</td></tr>\n",
       "\t<tr><th scope=row>7</th><td>71</td><td> 5</td><td>0.05813953</td><td>TGTGCCAGCAGCAAAGATGTCCTAGGGGATAGCTCCTATAATTCACCCCTCCACTTT</td><td>EEEEEEEEEEEEEEEEEEEEEEEEEEEEEEEEEEEEEEEEEEEEEEEEEEEEEEEEE</td><td>TRBV21-1*00(1009) </td><td>TRBD1*00(25)             </td><td>TRBJ1-6*00(275)</td><td>NA</td><td>544|560|581|0|16||80.0</td><td>...</td><td>NA</td><td>NA</td><td>NA</td><td>CASSKDVLGDSSYNSPLHF</td><td>NA</td><td>:::::::::0:-1:16:17:6:-13:22:30:2:57::: </td><td>batch2_Aug62019/mixcr/clones/CLONES_TRBCHP_319-05-PBMC-DNA.txt</td><td>CHP_319-05-PBMC-DNA</td><td>CHP_319</td><td>PBMC</td></tr>\n",
       "</tbody>\n",
       "</table>\n"
      ],
      "text/latex": [
       "A data.frame: 6 x 39\n",
       "\\begin{tabular}{r|lllllllllllllllllllll}\n",
       "  & cloneId & cloneCount & cloneFraction & clonalSequence & clonalSequenceQuality & allVHitsWithScore & allDHitsWithScore & allJHitsWithScore & allCHitsWithScore & allVAlignments & ... & aaSeqFR2 & aaSeqCDR2 & aaSeqFR3 & aaSeqCDR3 & aaSeqFR4 & refPoints & file & basename & Patient & sampletype\\\\\n",
       "  & <int> & <int> & <dbl> & <chr> & <chr> & <chr> & <chr> & <chr> & <chr> & <chr> & ... & <lgl> & <lgl> & <lgl> & <chr> & <lgl> & <chr> & <chr> & <chr> & <chr> & <chr>\\\\\n",
       "\\hline\n",
       "\t1 & 37 & 13 & 0.15116279 & TGTGCCAGCAGGGAAAGGATAGCCCCTGGAAACACCATATATTTT             & EEEEEEEEEEEEEEEEEEEEEEEEEEEEEEEEEEEEEEEEEEEEE             & TRBV6-5*00(726.3)  &                           & TRBJ1-3*00(130) & NA & 519\\textbar{}530\\textbar{}556\\textbar{}0\\textbar{}11\\textbar{}\\textbar{}55.0 & ... & NA & NA & NA & CASRERIAPGNTIYF     & NA & :::::::::0:-6:11:::::25:-2:45:::         & batch2\\_Aug62019/mixcr/clones/CLONES\\_TRBCHP\\_319-05-PBMC-DNA.txt & CHP\\_319-05-PBMC-DNA & CHP\\_319 & PBMC\\\\\n",
       "\t2 & 42 & 11 & 0.12790698 & TGCAGTGCTAGAGATCGTACGGGAATGTCCACAGATACGCAGTATTTT          & EEEEEEEEEEEEEEEEEEEEEEEEEEEEEEEEEEEEEEEEEEEEEEEE          & TRBV20-1*00(703.5) & TRBD1*00(25),TRBD2*00(25) & TRBJ2-3*00(110) & NA & 759\\textbar{}775\\textbar{}793\\textbar{}0\\textbar{}16\\textbar{}\\textbar{}80.0 & ... & NA & NA & NA & CSARDRTGMSTDTQYF    & NA & :::::::::0:2:16:19:1:-8:24:29:-2:48:::   & batch2\\_Aug62019/mixcr/clones/CLONES\\_TRBCHP\\_319-05-PBMC-DNA.txt & CHP\\_319-05-PBMC-DNA & CHP\\_319 & PBMC\\\\\n",
       "\t3 & 48 &  9 & 0.10465116 & TGTGCCAGTAGGCTCGGGACAGGGCATGAGAACACTGAAGCTTTCTTT          & EEEEEEEEEEEEEEEEEEEEEEEEEEEEEEEEEEEEEEEEEEEEEEEE          & TRBV19*00(373.2)   & TRBD1*00(50)              & TRBJ1-1*00(235) & NA & 559\\textbar{}570\\textbar{}596\\textbar{}0\\textbar{}11\\textbar{}\\textbar{}55.0 & ... & NA & NA & NA & CASRLGTGHENTEAFF    & NA & :::::::::0:-6:11:14:1:-3:24:29:-1:48:::  & batch2\\_Aug62019/mixcr/clones/CLONES\\_TRBCHP\\_319-05-PBMC-DNA.txt & CHP\\_319-05-PBMC-DNA & CHP\\_319 & PBMC\\\\\n",
       "\t4 & 50 &  9 & 0.10465116 & TGTGCCACCAGCAGAGATTGGACAGTCTCCTACGAGCAGTACTTC             & EEEEEEEEEEEEEEEEEEEEEEEEEEEEEEEEEEEEEEEEEEEEE             & TRBV15*00(439)     & TRBD1*00(30)              & TRBJ2-7*00(235) & NA & 552\\textbar{}570\\textbar{}589\\textbar{}0\\textbar{}18\\textbar{}\\textbar{}90.0 & ... & NA & NA & NA & CATSRDWTVSYEQYF     & NA & :::::::::0:1:18:19:-1:-5:25:26:0:45:::   & batch2\\_Aug62019/mixcr/clones/CLONES\\_TRBCHP\\_319-05-PBMC-DNA.txt & CHP\\_319-05-PBMC-DNA & CHP\\_319 & PBMC\\\\\n",
       "\t5 & 63 &  6 & 0.06976744 & TGTGCCAGCAGCCGAAACAGGGTTAGGTATGGCTACACCTTC                & EEEEEEEEEEEEEEEEEEEEEEEEEEEEEEEEEEEEEEEEEE                & TRBV11-2*00(299)   & TRBD1*00(30)              & TRBJ1-2*00(215) & NA & 522\\textbar{}534\\textbar{}559\\textbar{}0\\textbar{}12\\textbar{}\\textbar{}60.0 & ... & NA & NA & NA & CASSRNRVRYGYTF      & NA & :::::::::0:-5:12:16:-3:-3:22:27:-5:42::: & batch2\\_Aug62019/mixcr/clones/CLONES\\_TRBCHP\\_319-05-PBMC-DNA.txt & CHP\\_319-05-PBMC-DNA & CHP\\_319 & PBMC\\\\\n",
       "\t7 & 71 &  5 & 0.05813953 & TGTGCCAGCAGCAAAGATGTCCTAGGGGATAGCTCCTATAATTCACCCCTCCACTTT & EEEEEEEEEEEEEEEEEEEEEEEEEEEEEEEEEEEEEEEEEEEEEEEEEEEEEEEEE & TRBV21-1*00(1009)  & TRBD1*00(25)              & TRBJ1-6*00(275) & NA & 544\\textbar{}560\\textbar{}581\\textbar{}0\\textbar{}16\\textbar{}\\textbar{}80.0 & ... & NA & NA & NA & CASSKDVLGDSSYNSPLHF & NA & :::::::::0:-1:16:17:6:-13:22:30:2:57:::  & batch2\\_Aug62019/mixcr/clones/CLONES\\_TRBCHP\\_319-05-PBMC-DNA.txt & CHP\\_319-05-PBMC-DNA & CHP\\_319 & PBMC\\\\\n",
       "\\end{tabular}\n"
      ],
      "text/markdown": [
       "\n",
       "A data.frame: 6 x 39\n",
       "\n",
       "| <!--/--> | cloneId &lt;int&gt; | cloneCount &lt;int&gt; | cloneFraction &lt;dbl&gt; | clonalSequence &lt;chr&gt; | clonalSequenceQuality &lt;chr&gt; | allVHitsWithScore &lt;chr&gt; | allDHitsWithScore &lt;chr&gt; | allJHitsWithScore &lt;chr&gt; | allCHitsWithScore &lt;chr&gt; | allVAlignments &lt;chr&gt; | ... ... | aaSeqFR2 &lt;lgl&gt; | aaSeqCDR2 &lt;lgl&gt; | aaSeqFR3 &lt;lgl&gt; | aaSeqCDR3 &lt;chr&gt; | aaSeqFR4 &lt;lgl&gt; | refPoints &lt;chr&gt; | file &lt;chr&gt; | basename &lt;chr&gt; | Patient &lt;chr&gt; | sampletype &lt;chr&gt; |\n",
       "|---|---|---|---|---|---|---|---|---|---|---|---|---|---|---|---|---|---|---|---|---|---|\n",
       "| 1 | 37 | 13 | 0.15116279 | TGTGCCAGCAGGGAAAGGATAGCCCCTGGAAACACCATATATTTT             | EEEEEEEEEEEEEEEEEEEEEEEEEEEEEEEEEEEEEEEEEEEEE             | TRBV6-5*00(726.3)  | <!----> | TRBJ1-3*00(130) | NA | 519|530|556|0|11||55.0 | ... | NA | NA | NA | CASRERIAPGNTIYF     | NA | :::::::::0:-6:11:::::25:-2:45:::         | batch2_Aug62019/mixcr/clones/CLONES_TRBCHP_319-05-PBMC-DNA.txt | CHP_319-05-PBMC-DNA | CHP_319 | PBMC |\n",
       "| 2 | 42 | 11 | 0.12790698 | TGCAGTGCTAGAGATCGTACGGGAATGTCCACAGATACGCAGTATTTT          | EEEEEEEEEEEEEEEEEEEEEEEEEEEEEEEEEEEEEEEEEEEEEEEE          | TRBV20-1*00(703.5) | TRBD1*00(25),TRBD2*00(25) | TRBJ2-3*00(110) | NA | 759|775|793|0|16||80.0 | ... | NA | NA | NA | CSARDRTGMSTDTQYF    | NA | :::::::::0:2:16:19:1:-8:24:29:-2:48:::   | batch2_Aug62019/mixcr/clones/CLONES_TRBCHP_319-05-PBMC-DNA.txt | CHP_319-05-PBMC-DNA | CHP_319 | PBMC |\n",
       "| 3 | 48 |  9 | 0.10465116 | TGTGCCAGTAGGCTCGGGACAGGGCATGAGAACACTGAAGCTTTCTTT          | EEEEEEEEEEEEEEEEEEEEEEEEEEEEEEEEEEEEEEEEEEEEEEEE          | TRBV19*00(373.2)   | TRBD1*00(50)              | TRBJ1-1*00(235) | NA | 559|570|596|0|11||55.0 | ... | NA | NA | NA | CASRLGTGHENTEAFF    | NA | :::::::::0:-6:11:14:1:-3:24:29:-1:48:::  | batch2_Aug62019/mixcr/clones/CLONES_TRBCHP_319-05-PBMC-DNA.txt | CHP_319-05-PBMC-DNA | CHP_319 | PBMC |\n",
       "| 4 | 50 |  9 | 0.10465116 | TGTGCCACCAGCAGAGATTGGACAGTCTCCTACGAGCAGTACTTC             | EEEEEEEEEEEEEEEEEEEEEEEEEEEEEEEEEEEEEEEEEEEEE             | TRBV15*00(439)     | TRBD1*00(30)              | TRBJ2-7*00(235) | NA | 552|570|589|0|18||90.0 | ... | NA | NA | NA | CATSRDWTVSYEQYF     | NA | :::::::::0:1:18:19:-1:-5:25:26:0:45:::   | batch2_Aug62019/mixcr/clones/CLONES_TRBCHP_319-05-PBMC-DNA.txt | CHP_319-05-PBMC-DNA | CHP_319 | PBMC |\n",
       "| 5 | 63 |  6 | 0.06976744 | TGTGCCAGCAGCCGAAACAGGGTTAGGTATGGCTACACCTTC                | EEEEEEEEEEEEEEEEEEEEEEEEEEEEEEEEEEEEEEEEEE                | TRBV11-2*00(299)   | TRBD1*00(30)              | TRBJ1-2*00(215) | NA | 522|534|559|0|12||60.0 | ... | NA | NA | NA | CASSRNRVRYGYTF      | NA | :::::::::0:-5:12:16:-3:-3:22:27:-5:42::: | batch2_Aug62019/mixcr/clones/CLONES_TRBCHP_319-05-PBMC-DNA.txt | CHP_319-05-PBMC-DNA | CHP_319 | PBMC |\n",
       "| 7 | 71 |  5 | 0.05813953 | TGTGCCAGCAGCAAAGATGTCCTAGGGGATAGCTCCTATAATTCACCCCTCCACTTT | EEEEEEEEEEEEEEEEEEEEEEEEEEEEEEEEEEEEEEEEEEEEEEEEEEEEEEEEE | TRBV21-1*00(1009)  | TRBD1*00(25)              | TRBJ1-6*00(275) | NA | 544|560|581|0|16||80.0 | ... | NA | NA | NA | CASSKDVLGDSSYNSPLHF | NA | :::::::::0:-1:16:17:6:-13:22:30:2:57:::  | batch2_Aug62019/mixcr/clones/CLONES_TRBCHP_319-05-PBMC-DNA.txt | CHP_319-05-PBMC-DNA | CHP_319 | PBMC |\n",
       "\n"
      ],
      "text/plain": [
       "  cloneId cloneCount cloneFraction\n",
       "1 37      13         0.15116279   \n",
       "2 42      11         0.12790698   \n",
       "3 48       9         0.10465116   \n",
       "4 50       9         0.10465116   \n",
       "5 63       6         0.06976744   \n",
       "7 71       5         0.05813953   \n",
       "  clonalSequence                                           \n",
       "1 TGTGCCAGCAGGGAAAGGATAGCCCCTGGAAACACCATATATTTT            \n",
       "2 TGCAGTGCTAGAGATCGTACGGGAATGTCCACAGATACGCAGTATTTT         \n",
       "3 TGTGCCAGTAGGCTCGGGACAGGGCATGAGAACACTGAAGCTTTCTTT         \n",
       "4 TGTGCCACCAGCAGAGATTGGACAGTCTCCTACGAGCAGTACTTC            \n",
       "5 TGTGCCAGCAGCCGAAACAGGGTTAGGTATGGCTACACCTTC               \n",
       "7 TGTGCCAGCAGCAAAGATGTCCTAGGGGATAGCTCCTATAATTCACCCCTCCACTTT\n",
       "  clonalSequenceQuality                                     allVHitsWithScore \n",
       "1 EEEEEEEEEEEEEEEEEEEEEEEEEEEEEEEEEEEEEEEEEEEEE             TRBV6-5*00(726.3) \n",
       "2 EEEEEEEEEEEEEEEEEEEEEEEEEEEEEEEEEEEEEEEEEEEEEEEE          TRBV20-1*00(703.5)\n",
       "3 EEEEEEEEEEEEEEEEEEEEEEEEEEEEEEEEEEEEEEEEEEEEEEEE          TRBV19*00(373.2)  \n",
       "4 EEEEEEEEEEEEEEEEEEEEEEEEEEEEEEEEEEEEEEEEEEEEE             TRBV15*00(439)    \n",
       "5 EEEEEEEEEEEEEEEEEEEEEEEEEEEEEEEEEEEEEEEEEE                TRBV11-2*00(299)  \n",
       "7 EEEEEEEEEEEEEEEEEEEEEEEEEEEEEEEEEEEEEEEEEEEEEEEEEEEEEEEEE TRBV21-1*00(1009) \n",
       "  allDHitsWithScore         allJHitsWithScore allCHitsWithScore\n",
       "1                           TRBJ1-3*00(130)   NA               \n",
       "2 TRBD1*00(25),TRBD2*00(25) TRBJ2-3*00(110)   NA               \n",
       "3 TRBD1*00(50)              TRBJ1-1*00(235)   NA               \n",
       "4 TRBD1*00(30)              TRBJ2-7*00(235)   NA               \n",
       "5 TRBD1*00(30)              TRBJ1-2*00(215)   NA               \n",
       "7 TRBD1*00(25)              TRBJ1-6*00(275)   NA               \n",
       "  allVAlignments         ... aaSeqFR2 aaSeqCDR2 aaSeqFR3 aaSeqCDR3          \n",
       "1 519|530|556|0|11||55.0 ... NA       NA        NA       CASRERIAPGNTIYF    \n",
       "2 759|775|793|0|16||80.0 ... NA       NA        NA       CSARDRTGMSTDTQYF   \n",
       "3 559|570|596|0|11||55.0 ... NA       NA        NA       CASRLGTGHENTEAFF   \n",
       "4 552|570|589|0|18||90.0 ... NA       NA        NA       CATSRDWTVSYEQYF    \n",
       "5 522|534|559|0|12||60.0 ... NA       NA        NA       CASSRNRVRYGYTF     \n",
       "7 544|560|581|0|16||80.0 ... NA       NA        NA       CASSKDVLGDSSYNSPLHF\n",
       "  aaSeqFR4 refPoints                               \n",
       "1 NA       :::::::::0:-6:11:::::25:-2:45:::        \n",
       "2 NA       :::::::::0:2:16:19:1:-8:24:29:-2:48:::  \n",
       "3 NA       :::::::::0:-6:11:14:1:-3:24:29:-1:48::: \n",
       "4 NA       :::::::::0:1:18:19:-1:-5:25:26:0:45:::  \n",
       "5 NA       :::::::::0:-5:12:16:-3:-3:22:27:-5:42:::\n",
       "7 NA       :::::::::0:-1:16:17:6:-13:22:30:2:57::: \n",
       "  file                                                          \n",
       "1 batch2_Aug62019/mixcr/clones/CLONES_TRBCHP_319-05-PBMC-DNA.txt\n",
       "2 batch2_Aug62019/mixcr/clones/CLONES_TRBCHP_319-05-PBMC-DNA.txt\n",
       "3 batch2_Aug62019/mixcr/clones/CLONES_TRBCHP_319-05-PBMC-DNA.txt\n",
       "4 batch2_Aug62019/mixcr/clones/CLONES_TRBCHP_319-05-PBMC-DNA.txt\n",
       "5 batch2_Aug62019/mixcr/clones/CLONES_TRBCHP_319-05-PBMC-DNA.txt\n",
       "7 batch2_Aug62019/mixcr/clones/CLONES_TRBCHP_319-05-PBMC-DNA.txt\n",
       "  basename            Patient sampletype\n",
       "1 CHP_319-05-PBMC-DNA CHP_319 PBMC      \n",
       "2 CHP_319-05-PBMC-DNA CHP_319 PBMC      \n",
       "3 CHP_319-05-PBMC-DNA CHP_319 PBMC      \n",
       "4 CHP_319-05-PBMC-DNA CHP_319 PBMC      \n",
       "5 CHP_319-05-PBMC-DNA CHP_319 PBMC      \n",
       "7 CHP_319-05-PBMC-DNA CHP_319 PBMC      "
      ]
     },
     "metadata": {},
     "output_type": "display_data"
    }
   ],
   "source": [
    "head(int_all)"
   ]
  },
  {
   "cell_type": "code",
   "execution_count": 49,
   "metadata": {
    "vscode": {
     "languageId": "r"
    }
   },
   "outputs": [],
   "source": [
    "# mymat <- matrix(NA, nrow = length(unique(int_all$basename)), ncol = length(unique(int_all$basename)),\n",
    "#                 dimnames = list(unique(int_all$basename), unique(int_all$basename)))"
   ]
  },
  {
   "cell_type": "code",
   "execution_count": 50,
   "metadata": {
    "vscode": {
     "languageId": "r"
    }
   },
   "outputs": [],
   "source": [
    "# myfx <- function(df, basename1, basename2) {\n",
    "#     s1 <- df[df$basename == basename1, ]\n",
    "#     s2 <- df[df$basename == basename2, ]\n",
    "#     umi1 <- sum(s1$cloneCount)\n",
    "#     umi2 <- sum(s2$cloneCount)\n",
    "#     common_tcr <- intersect(s1$aaSeqCDR3, s2$aaSeqCDR3)\n",
    "#     commonumi <- sum(s1$cloneCount[s1$aaSeqCDR3 %in% common_tcr]) +\n",
    "#         sum(s2$cloneCount[s2$aaSeqCDR3 %in% common_tcr])\n",
    "#     return(100 * (commonumi / (umi1 + umi2)))\n",
    "# }\n"
   ]
  },
  {
   "cell_type": "code",
   "execution_count": 51,
   "metadata": {
    "vscode": {
     "languageId": "r"
    }
   },
   "outputs": [],
   "source": [
    "# for (i in 1:nrow(mymat)) {\n",
    "#   mymat[i, ] <- unlist(lapply(colnames(mymat), FUN = function(x) {\n",
    "#     myfx(df = int_all, basename1 = rownames(mymat)[i], basename2 = x)\n",
    "#   }))\n",
    "# }\n"
   ]
  },
  {
   "cell_type": "code",
   "execution_count": 52,
   "metadata": {
    "vscode": {
     "languageId": "r"
    }
   },
   "outputs": [],
   "source": [
    "mymat <- readr::read_rds(paste0(datapath, \"int_pairwise_overlap.rds\"))"
   ]
  },
  {
   "cell_type": "code",
   "execution_count": 53,
   "metadata": {
    "vscode": {
     "languageId": "r"
    }
   },
   "outputs": [
    {
     "data": {
      "text/plain": [
       "   Min. 1st Qu.  Median    Mean 3rd Qu.    Max. \n",
       " 0.0000  0.0000  0.0000  0.1587  0.0000 99.9931 "
      ]
     },
     "metadata": {},
     "output_type": "display_data"
    }
   ],
   "source": [
    "summary(as.vector(mymat[mymat < 100]))"
   ]
  },
  {
   "cell_type": "code",
   "execution_count": 54,
   "metadata": {
    "vscode": {
     "languageId": "r"
    }
   },
   "outputs": [
    {
     "data": {
      "text/plain": [
       "    Min.  1st Qu.   Median     Mean  3rd Qu.     Max. \n",
       "  0.0000   0.0000   0.0000   0.3676   0.0000 100.0000 "
      ]
     },
     "metadata": {},
     "output_type": "display_data"
    }
   ],
   "source": [
    "summary(as.vector(unlist(mymat)))"
   ]
  },
  {
   "cell_type": "code",
   "execution_count": 55,
   "metadata": {
    "vscode": {
     "languageId": "r"
    }
   },
   "outputs": [],
   "source": [
    "pbmc_mat <- mymat[ grepl(\"PBMC\", rownames(mymat)), grepl(\"PBMC\", colnames(mymat))]\n",
    "cfdna_mat <- mymat[ grepl(\"cfDNA\", rownames(mymat)), grepl(\"cfDNA\", colnames(mymat))]\n",
    "tumor_mat <- mymat[ grepl(\"FFPE\", rownames(mymat)), grepl(\"FFPE\", colnames(mymat))]"
   ]
  },
  {
   "cell_type": "code",
   "execution_count": 56,
   "metadata": {
    "vscode": {
     "languageId": "r"
    }
   },
   "outputs": [
    {
     "data": {
      "text/html": [
       "<style>\n",
       ".list-inline {list-style: none; margin:0; padding: 0}\n",
       ".list-inline>li {display: inline-block}\n",
       ".list-inline>li:not(:last-child)::after {content: \"\\00b7\"; padding: 0 .5ex}\n",
       "</style>\n",
       "<ol class=list-inline><li>266</li><li>266</li></ol>\n"
      ],
      "text/latex": [
       "\\begin{enumerate*}\n",
       "\\item 266\n",
       "\\item 266\n",
       "\\end{enumerate*}\n"
      ],
      "text/markdown": [
       "1. 266\n",
       "2. 266\n",
       "\n",
       "\n"
      ],
      "text/plain": [
       "[1] 266 266"
      ]
     },
     "metadata": {},
     "output_type": "display_data"
    }
   ],
   "source": [
    "dim(cfdna_mat)"
   ]
  },
  {
   "cell_type": "code",
   "execution_count": 79,
   "metadata": {
    "vscode": {
     "languageId": "r"
    }
   },
   "outputs": [],
   "source": [
    "cfdna_mat_subset <- cfdna_mat[ rowSums(cfdna_mat > 0) > 2, colSums(cfdna_mat > 0) > 2]"
   ]
  },
  {
   "cell_type": "code",
   "execution_count": 80,
   "metadata": {
    "vscode": {
     "languageId": "r"
    }
   },
   "outputs": [
    {
     "data": {
      "text/html": [
       "<style>\n",
       ".list-inline {list-style: none; margin:0; padding: 0}\n",
       ".list-inline>li {display: inline-block}\n",
       ".list-inline>li:not(:last-child)::after {content: \"\\00b7\"; padding: 0 .5ex}\n",
       "</style>\n",
       "<ol class=list-inline><li>94</li><li>94</li></ol>\n"
      ],
      "text/latex": [
       "\\begin{enumerate*}\n",
       "\\item 94\n",
       "\\item 94\n",
       "\\end{enumerate*}\n"
      ],
      "text/markdown": [
       "1. 94\n",
       "2. 94\n",
       "\n",
       "\n"
      ],
      "text/plain": [
       "[1] 94 94"
      ]
     },
     "metadata": {},
     "output_type": "display_data"
    }
   ],
   "source": [
    "dim(cfdna_mat_subset)"
   ]
  },
  {
   "cell_type": "code",
   "execution_count": 93,
   "metadata": {
    "vscode": {
     "languageId": "r"
    }
   },
   "outputs": [],
   "source": [
    "hm1 <- Heatmap(cfdna_mat_subset, \n",
    "name = \"% Repertoire\\noverlap\", \n",
    "row_names_gp = gpar(fontsize = 1),\n",
    "column_names_gp = gpar(fontsize = 1),\n",
    "col= circlize::colorRamp2(c(0, 100), c(\"white\", \"red\")))"
   ]
  },
  {
   "cell_type": "code",
   "execution_count": 94,
   "metadata": {
    "vscode": {
     "languageId": "r"
    }
   },
   "outputs": [
    {
     "data": {
      "image/png": "[encoded data removed]",
      "text/plain": [
       "plot without title"
      ]
     },
     "metadata": {
      "image/png": {
       "height": 420,
       "width": 420
      }
     },
     "output_type": "display_data"
    }
   ],
   "source": [
    "myorder <- row_order(draw(hm1))"
   ]
  },
  {
   "cell_type": "code",
   "execution_count": 95,
   "metadata": {
    "vscode": {
     "languageId": "r"
    }
   },
   "outputs": [
    {
     "data": {
      "text/html": [
       "<strong>pdf:</strong> 2"
      ],
      "text/latex": [
       "\\textbf{pdf:} 2"
      ],
      "text/markdown": [
       "**pdf:** 2"
      ],
      "text/plain": [
       "pdf \n",
       "  2 "
      ]
     },
     "metadata": {},
     "output_type": "display_data"
    }
   ],
   "source": [
    "pdf(paste0(plotpath, \"pairwise_overlap.pdf\"),\n",
    "    width = 12, height = 12\n",
    ")\n",
    "draw(hm1, heatmap_legend_side = \"right\")\n",
    "dev.off()\n"
   ]
  },
  {
   "cell_type": "code",
   "execution_count": 84,
   "metadata": {
    "vscode": {
     "languageId": "r"
    }
   },
   "outputs": [],
   "source": [
    "mymat_clust <- (cfdna_mat_subset[myorder, myorder])"
   ]
  },
  {
   "cell_type": "code",
   "execution_count": 228,
   "metadata": {
    "vscode": {
     "languageId": "r"
    }
   },
   "outputs": [
    {
     "data": {
      "text/html": [
       "<table class=\"dataframe\">\n",
       "<caption>A matrix: 6 x 18 of type dbl</caption>\n",
       "<thead>\n",
       "\t<tr><th></th><th scope=col>CHP_392-03_cfDNA</th><th scope=col>CHP_388-02_cfDNA</th><th scope=col>CHP_380-05_cfDNA</th><th scope=col>CHP_364-04-cfDNA</th><th scope=col>CHP_390-02_cfDNA</th><th scope=col>CHP_367-04_cfDNA</th><th scope=col>CHP_392-02_cfDNA</th><th scope=col>CHP_382-05_cfDNA</th><th scope=col>CHP_334-03_cfDNA</th><th scope=col>CHP_404-02_cfDNA</th><th scope=col>CHP_362-02_cfDNA</th><th scope=col>CHP_385-04_cfDNA</th><th scope=col>CHP_411-02_cfDNA</th><th scope=col>CHP_341-02_cfDNA</th><th scope=col>CHP_375-05_cfDNA</th><th scope=col>CHP_388-05_cfDNA</th><th scope=col>CHP_404-05_cfDNA</th><th scope=col>CHP_407-02_cfDNA</th></tr>\n",
       "</thead>\n",
       "<tbody>\n",
       "\t<tr><th scope=row>CHP_392-03_cfDNA</th><td>100.00000</td><td> 88.70857</td><td> 82.64829</td><td> 67.27472</td><td> 32.23784</td><td> 36.20781</td><td>32.50139</td><td>32.82188</td><td>39.65175</td><td>38.34840</td><td>35.141281</td><td>31.237156</td><td>22.95816</td><td>31.84243</td><td>36.52673</td><td>25.88049</td><td>26.36661</td><td>28.487823</td></tr>\n",
       "\t<tr><th scope=row>CHP_388-02_cfDNA</th><td> 88.70857</td><td>100.00000</td><td> 70.22801</td><td> 64.16788</td><td> 27.47425</td><td> 27.24906</td><td>26.66845</td><td>27.68154</td><td>26.79251</td><td>24.67785</td><td>19.744782</td><td>16.980975</td><td>17.31399</td><td>19.00498</td><td>23.29692</td><td>17.97571</td><td>17.52290</td><td>14.903706</td></tr>\n",
       "\t<tr><th scope=row>CHP_380-05_cfDNA</th><td> 82.64829</td><td> 70.22801</td><td>100.00000</td><td> 52.78149</td><td> 27.68106</td><td> 22.21402</td><td>17.95518</td><td>21.40232</td><td>26.35786</td><td>16.26120</td><td> 6.386067</td><td> 4.868421</td><td>15.46530</td><td>11.62910</td><td>13.94601</td><td>14.98967</td><td>14.53267</td><td> 3.790460</td></tr>\n",
       "\t<tr><th scope=row>CHP_364-04-cfDNA</th><td> 67.27472</td><td> 64.16788</td><td> 52.78149</td><td>100.00000</td><td> 28.04223</td><td> 21.61052</td><td>17.85777</td><td>21.35283</td><td>26.79030</td><td>21.06097</td><td> 7.374444</td><td> 5.397331</td><td>15.63990</td><td>11.80242</td><td> 8.63556</td><td>15.28776</td><td>15.15921</td><td> 4.136397</td></tr>\n",
       "\t<tr><th scope=row>CHP_390-02_cfDNA</th><td> 32.23784</td><td> 27.47425</td><td> 27.68106</td><td> 28.04223</td><td>100.00000</td><td> 31.09282</td><td>29.31491</td><td>31.02026</td><td>36.42090</td><td>28.24607</td><td>26.183621</td><td>30.090066</td><td>29.05738</td><td>28.25828</td><td>22.87118</td><td>29.58802</td><td>22.50388</td><td>28.176956</td></tr>\n",
       "\t<tr><th scope=row>CHP_367-04_cfDNA</th><td> 36.20781</td><td> 27.24906</td><td> 22.21402</td><td> 21.61052</td><td> 31.09282</td><td>100.00000</td><td>47.49669</td><td>41.31596</td><td>34.40938</td><td>21.61974</td><td>20.835104</td><td>21.670352</td><td>41.24569</td><td>29.01683</td><td>32.10729</td><td>30.80387</td><td>26.57548</td><td>19.721663</td></tr>\n",
       "</tbody>\n",
       "</table>\n"
      ],
      "text/latex": [
       "A matrix: 6 x 18 of type dbl\n",
       "\\begin{tabular}{r|llllllllllllllllll}\n",
       "  & CHP\\_392-03\\_cfDNA & CHP\\_388-02\\_cfDNA & CHP\\_380-05\\_cfDNA & CHP\\_364-04-cfDNA & CHP\\_390-02\\_cfDNA & CHP\\_367-04\\_cfDNA & CHP\\_392-02\\_cfDNA & CHP\\_382-05\\_cfDNA & CHP\\_334-03\\_cfDNA & CHP\\_404-02\\_cfDNA & CHP\\_362-02\\_cfDNA & CHP\\_385-04\\_cfDNA & CHP\\_411-02\\_cfDNA & CHP\\_341-02\\_cfDNA & CHP\\_375-05\\_cfDNA & CHP\\_388-05\\_cfDNA & CHP\\_404-05\\_cfDNA & CHP\\_407-02\\_cfDNA\\\\\n",
       "\\hline\n",
       "\tCHP\\_392-03\\_cfDNA & 100.00000 &  88.70857 &  82.64829 &  67.27472 &  32.23784 &  36.20781 & 32.50139 & 32.82188 & 39.65175 & 38.34840 & 35.141281 & 31.237156 & 22.95816 & 31.84243 & 36.52673 & 25.88049 & 26.36661 & 28.487823\\\\\n",
       "\tCHP\\_388-02\\_cfDNA &  88.70857 & 100.00000 &  70.22801 &  64.16788 &  27.47425 &  27.24906 & 26.66845 & 27.68154 & 26.79251 & 24.67785 & 19.744782 & 16.980975 & 17.31399 & 19.00498 & 23.29692 & 17.97571 & 17.52290 & 14.903706\\\\\n",
       "\tCHP\\_380-05\\_cfDNA &  82.64829 &  70.22801 & 100.00000 &  52.78149 &  27.68106 &  22.21402 & 17.95518 & 21.40232 & 26.35786 & 16.26120 &  6.386067 &  4.868421 & 15.46530 & 11.62910 & 13.94601 & 14.98967 & 14.53267 &  3.790460\\\\\n",
       "\tCHP\\_364-04-cfDNA &  67.27472 &  64.16788 &  52.78149 & 100.00000 &  28.04223 &  21.61052 & 17.85777 & 21.35283 & 26.79030 & 21.06097 &  7.374444 &  5.397331 & 15.63990 & 11.80242 &  8.63556 & 15.28776 & 15.15921 &  4.136397\\\\\n",
       "\tCHP\\_390-02\\_cfDNA &  32.23784 &  27.47425 &  27.68106 &  28.04223 & 100.00000 &  31.09282 & 29.31491 & 31.02026 & 36.42090 & 28.24607 & 26.183621 & 30.090066 & 29.05738 & 28.25828 & 22.87118 & 29.58802 & 22.50388 & 28.176956\\\\\n",
       "\tCHP\\_367-04\\_cfDNA &  36.20781 &  27.24906 &  22.21402 &  21.61052 &  31.09282 & 100.00000 & 47.49669 & 41.31596 & 34.40938 & 21.61974 & 20.835104 & 21.670352 & 41.24569 & 29.01683 & 32.10729 & 30.80387 & 26.57548 & 19.721663\\\\\n",
       "\\end{tabular}\n"
      ],
      "text/markdown": [
       "\n",
       "A matrix: 6 x 18 of type dbl\n",
       "\n",
       "| <!--/--> | CHP_392-03_cfDNA | CHP_388-02_cfDNA | CHP_380-05_cfDNA | CHP_364-04-cfDNA | CHP_390-02_cfDNA | CHP_367-04_cfDNA | CHP_392-02_cfDNA | CHP_382-05_cfDNA | CHP_334-03_cfDNA | CHP_404-02_cfDNA | CHP_362-02_cfDNA | CHP_385-04_cfDNA | CHP_411-02_cfDNA | CHP_341-02_cfDNA | CHP_375-05_cfDNA | CHP_388-05_cfDNA | CHP_404-05_cfDNA | CHP_407-02_cfDNA |\n",
       "|---|---|---|---|---|---|---|---|---|---|---|---|---|---|---|---|---|---|---|\n",
       "| CHP_392-03_cfDNA | 100.00000 |  88.70857 |  82.64829 |  67.27472 |  32.23784 |  36.20781 | 32.50139 | 32.82188 | 39.65175 | 38.34840 | 35.141281 | 31.237156 | 22.95816 | 31.84243 | 36.52673 | 25.88049 | 26.36661 | 28.487823 |\n",
       "| CHP_388-02_cfDNA |  88.70857 | 100.00000 |  70.22801 |  64.16788 |  27.47425 |  27.24906 | 26.66845 | 27.68154 | 26.79251 | 24.67785 | 19.744782 | 16.980975 | 17.31399 | 19.00498 | 23.29692 | 17.97571 | 17.52290 | 14.903706 |\n",
       "| CHP_380-05_cfDNA |  82.64829 |  70.22801 | 100.00000 |  52.78149 |  27.68106 |  22.21402 | 17.95518 | 21.40232 | 26.35786 | 16.26120 |  6.386067 |  4.868421 | 15.46530 | 11.62910 | 13.94601 | 14.98967 | 14.53267 |  3.790460 |\n",
       "| CHP_364-04-cfDNA |  67.27472 |  64.16788 |  52.78149 | 100.00000 |  28.04223 |  21.61052 | 17.85777 | 21.35283 | 26.79030 | 21.06097 |  7.374444 |  5.397331 | 15.63990 | 11.80242 |  8.63556 | 15.28776 | 15.15921 |  4.136397 |\n",
       "| CHP_390-02_cfDNA |  32.23784 |  27.47425 |  27.68106 |  28.04223 | 100.00000 |  31.09282 | 29.31491 | 31.02026 | 36.42090 | 28.24607 | 26.183621 | 30.090066 | 29.05738 | 28.25828 | 22.87118 | 29.58802 | 22.50388 | 28.176956 |\n",
       "| CHP_367-04_cfDNA |  36.20781 |  27.24906 |  22.21402 |  21.61052 |  31.09282 | 100.00000 | 47.49669 | 41.31596 | 34.40938 | 21.61974 | 20.835104 | 21.670352 | 41.24569 | 29.01683 | 32.10729 | 30.80387 | 26.57548 | 19.721663 |\n",
       "\n"
      ],
      "text/plain": [
       "                 CHP_392-03_cfDNA CHP_388-02_cfDNA CHP_380-05_cfDNA\n",
       "CHP_392-03_cfDNA 100.00000         88.70857         82.64829       \n",
       "CHP_388-02_cfDNA  88.70857        100.00000         70.22801       \n",
       "CHP_380-05_cfDNA  82.64829         70.22801        100.00000       \n",
       "CHP_364-04-cfDNA  67.27472         64.16788         52.78149       \n",
       "CHP_390-02_cfDNA  32.23784         27.47425         27.68106       \n",
       "CHP_367-04_cfDNA  36.20781         27.24906         22.21402       \n",
       "                 CHP_364-04-cfDNA CHP_390-02_cfDNA CHP_367-04_cfDNA\n",
       "CHP_392-03_cfDNA  67.27472         32.23784         36.20781       \n",
       "CHP_388-02_cfDNA  64.16788         27.47425         27.24906       \n",
       "CHP_380-05_cfDNA  52.78149         27.68106         22.21402       \n",
       "CHP_364-04-cfDNA 100.00000         28.04223         21.61052       \n",
       "CHP_390-02_cfDNA  28.04223        100.00000         31.09282       \n",
       "CHP_367-04_cfDNA  21.61052         31.09282        100.00000       \n",
       "                 CHP_392-02_cfDNA CHP_382-05_cfDNA CHP_334-03_cfDNA\n",
       "CHP_392-03_cfDNA 32.50139         32.82188         39.65175        \n",
       "CHP_388-02_cfDNA 26.66845         27.68154         26.79251        \n",
       "CHP_380-05_cfDNA 17.95518         21.40232         26.35786        \n",
       "CHP_364-04-cfDNA 17.85777         21.35283         26.79030        \n",
       "CHP_390-02_cfDNA 29.31491         31.02026         36.42090        \n",
       "CHP_367-04_cfDNA 47.49669         41.31596         34.40938        \n",
       "                 CHP_404-02_cfDNA CHP_362-02_cfDNA CHP_385-04_cfDNA\n",
       "CHP_392-03_cfDNA 38.34840         35.141281        31.237156       \n",
       "CHP_388-02_cfDNA 24.67785         19.744782        16.980975       \n",
       "CHP_380-05_cfDNA 16.26120          6.386067         4.868421       \n",
       "CHP_364-04-cfDNA 21.06097          7.374444         5.397331       \n",
       "CHP_390-02_cfDNA 28.24607         26.183621        30.090066       \n",
       "CHP_367-04_cfDNA 21.61974         20.835104        21.670352       \n",
       "                 CHP_411-02_cfDNA CHP_341-02_cfDNA CHP_375-05_cfDNA\n",
       "CHP_392-03_cfDNA 22.95816         31.84243         36.52673        \n",
       "CHP_388-02_cfDNA 17.31399         19.00498         23.29692        \n",
       "CHP_380-05_cfDNA 15.46530         11.62910         13.94601        \n",
       "CHP_364-04-cfDNA 15.63990         11.80242          8.63556        \n",
       "CHP_390-02_cfDNA 29.05738         28.25828         22.87118        \n",
       "CHP_367-04_cfDNA 41.24569         29.01683         32.10729        \n",
       "                 CHP_388-05_cfDNA CHP_404-05_cfDNA CHP_407-02_cfDNA\n",
       "CHP_392-03_cfDNA 25.88049         26.36661         28.487823       \n",
       "CHP_388-02_cfDNA 17.97571         17.52290         14.903706       \n",
       "CHP_380-05_cfDNA 14.98967         14.53267          3.790460       \n",
       "CHP_364-04-cfDNA 15.28776         15.15921          4.136397       \n",
       "CHP_390-02_cfDNA 29.58802         22.50388         28.176956       \n",
       "CHP_367-04_cfDNA 30.80387         26.57548         19.721663       "
      ]
     },
     "metadata": {},
     "output_type": "display_data"
    }
   ],
   "source": [
    "head(mymat_clust_top20)"
   ]
  },
  {
   "cell_type": "code",
   "execution_count": 231,
   "metadata": {
    "vscode": {
     "languageId": "r"
    }
   },
   "outputs": [],
   "source": [
    "temp <- (as.vector(unlist(mymat_clust_top20)))"
   ]
  },
  {
   "cell_type": "code",
   "execution_count": 232,
   "metadata": {
    "vscode": {
     "languageId": "r"
    }
   },
   "outputs": [],
   "source": [
    "temp <- temp[ temp < 100]"
   ]
  },
  {
   "cell_type": "code",
   "execution_count": 233,
   "metadata": {
    "vscode": {
     "languageId": "r"
    }
   },
   "outputs": [
    {
     "data": {
      "text/plain": [
       "   Min. 1st Qu.  Median    Mean 3rd Qu.    Max. \n",
       "   3.79   15.64   22.21   24.42   29.69   88.71 "
      ]
     },
     "metadata": {},
     "output_type": "display_data"
    }
   ],
   "source": [
    "summary(temp)"
   ]
  },
  {
   "cell_type": "code",
   "execution_count": 227,
   "metadata": {
    "vscode": {
     "languageId": "r"
    }
   },
   "outputs": [
    {
     "data": {
      "text/html": [
       "<style>\n",
       ".list-inline {list-style: none; margin:0; padding: 0}\n",
       ".list-inline>li {display: inline-block}\n",
       ".list-inline>li:not(:last-child)::after {content: \"\\00b7\"; padding: 0 .5ex}\n",
       "</style>\n",
       "<ol class=list-inline><li>18</li><li>18</li></ol>\n"
      ],
      "text/latex": [
       "\\begin{enumerate*}\n",
       "\\item 18\n",
       "\\item 18\n",
       "\\end{enumerate*}\n"
      ],
      "text/markdown": [
       "1. 18\n",
       "2. 18\n",
       "\n",
       "\n"
      ],
      "text/plain": [
       "[1] 18 18"
      ]
     },
     "metadata": {},
     "output_type": "display_data"
    }
   ],
   "source": [
    "dim(mymat_clust_top20)"
   ]
  },
  {
   "cell_type": "code",
   "execution_count": 96,
   "metadata": {
    "vscode": {
     "languageId": "r"
    }
   },
   "outputs": [],
   "source": [
    "mymat_clust_top20 <- mymat_clust[2:19, 2:19]"
   ]
  },
  {
   "cell_type": "code",
   "execution_count": 97,
   "metadata": {
    "vscode": {
     "languageId": "r"
    }
   },
   "outputs": [],
   "source": [
    "hm2 <- Heatmap(mymat_clust_top20, name = \"Pairwise overlap\", row_names_gp = gpar(fontsize = 10), show_row_names = TRUE,\n",
    "column_names_gp = gpar(fontsize = 1), cluster_rows = FALSE, cluster_columns = FALSE)"
   ]
  },
  {
   "cell_type": "code",
   "execution_count": 98,
   "metadata": {
    "vscode": {
     "languageId": "r"
    }
   },
   "outputs": [
    {
     "data": {
      "image/png": "[encoded data removed]",
      "text/plain": [
       "plot without title"
      ]
     },
     "metadata": {
      "image/png": {
       "height": 420,
       "width": 420
      }
     },
     "output_type": "display_data"
    }
   ],
   "source": [
    "hm2"
   ]
  },
  {
   "cell_type": "markdown",
   "metadata": {},
   "source": [
    "Calculate overlap between pre vs post chemo"
   ]
  },
  {
   "cell_type": "code",
   "execution_count": 99,
   "metadata": {
    "vscode": {
     "languageId": "r"
    }
   },
   "outputs": [
    {
     "data": {
      "text/html": [
       "<table class=\"dataframe\">\n",
       "<caption>A data.frame: 6 x 66</caption>\n",
       "<thead>\n",
       "\t<tr><th></th><th scope=col>sample_id</th><th scope=col>Patient</th><th scope=col>cycle</th><th scope=col>FOLD</th><th scope=col>ATC</th><th scope=col>Age</th><th scope=col>Disease_type</th><th scope=col>TE_fold</th><th scope=col>CD3</th><th scope=col>EM</th><th scope=col>...</th><th scope=col>estimated_Shannon</th><th scope=col>SE_Shannon</th><th scope=col>observed_Simpson</th><th scope=col>estimated_Simpson</th><th scope=col>SE_Simpson</th><th scope=col>basename</th><th scope=col>file</th><th scope=col>sampletype</th><th scope=col>Group</th><th scope=col>log10shann</th></tr>\n",
       "\t<tr><th></th><th scope=col>&lt;chr&gt;</th><th scope=col>&lt;chr&gt;</th><th scope=col>&lt;chr&gt;</th><th scope=col>&lt;dbl&gt;</th><th scope=col>&lt;dbl&gt;</th><th scope=col>&lt;dbl&gt;</th><th scope=col>&lt;chr&gt;</th><th scope=col>&lt;dbl&gt;</th><th scope=col>&lt;int&gt;</th><th scope=col>&lt;int&gt;</th><th scope=col>...</th><th scope=col>&lt;dbl&gt;</th><th scope=col>&lt;dbl&gt;</th><th scope=col>&lt;dbl&gt;</th><th scope=col>&lt;dbl&gt;</th><th scope=col>&lt;dbl&gt;</th><th scope=col>&lt;chr&gt;</th><th scope=col>&lt;chr&gt;</th><th scope=col>&lt;chr&gt;</th><th scope=col>&lt;chr&gt;</th><th scope=col>&lt;dbl&gt;</th></tr>\n",
       "</thead>\n",
       "<tbody>\n",
       "\t<tr><th scope=row>302</th><td>CHP_319_05</td><td>CHP_319</td><td>X05</td><td>1.2</td><td>  0.00</td><td> 1</td><td>HR ALL</td><td>1.2</td><td>0</td><td>NA</td><td>...</td><td> 13.439</td><td>1.217</td><td> 10.248</td><td> 11.626</td><td>1.269</td><td>CHP_319-05-PBMC-DNA</td><td>batch2_Aug62019/mixcr/clones/CLONES_TRBCHP_319-05-PBMC-DNA.txt              </td><td>PBMC</td><td>CHP</td><td>1.074743</td></tr>\n",
       "\t<tr><th scope=row>320</th><td>CHP_323_03</td><td>CHP_323</td><td>X03</td><td>0.0</td><td>786.24</td><td> 1</td><td>HR ALL</td><td>0.0</td><td>0</td><td>NA</td><td>...</td><td> 37.986</td><td>0.367</td><td> 33.204</td><td> 33.544</td><td>0.638</td><td>CHP_323-03-PBMC-DNA</td><td>batch4_19Aug2019/mixcr/clones/CLONES_TRBCHP_323-03-PBMC-DNA.txt             </td><td>PBMC</td><td>CHP</td><td>1.576595</td></tr>\n",
       "\t<tr><th scope=row>322</th><td>CHP_323_05</td><td>CHP_323</td><td>X05</td><td>0.0</td><td>979.50</td><td> 1</td><td>HR ALL</td><td>0.0</td><td>0</td><td>NA</td><td>...</td><td> 85.174</td><td>2.255</td><td> 32.669</td><td> 33.190</td><td>2.327</td><td>CHP_323-05-PBMC-DNA</td><td>batch7_25Oct2019/mixcr/clones/CLONES_TRBCHP_323-05-PBMC-DNA.txt             </td><td>PBMC</td><td>CHP</td><td>1.912504</td></tr>\n",
       "\t<tr><th scope=row>327</th><td>CHP_324_05</td><td>CHP_324</td><td>X05</td><td>0.0</td><td>  0.00</td><td>12</td><td>T-ALL </td><td>0.0</td><td>0</td><td>NA</td><td>...</td><td>130.246</td><td>0.574</td><td> 79.994</td><td> 80.126</td><td>0.912</td><td>CHP_324-05_PBMC-DNA</td><td>remaining_batch_2_22April2021/mixcr/clones/CLONES_TRBCHP_324-05_PBMC-DNA.txt</td><td>PBMC</td><td>CHP</td><td>2.113673</td></tr>\n",
       "\t<tr><th scope=row>346</th><td>CHP_328_04</td><td>CHP_328</td><td>X04</td><td>0.0</td><td>130.82</td><td> 7</td><td>SR ALL</td><td>0.0</td><td>0</td><td>NA</td><td>...</td><td>224.003</td><td>0.477</td><td>133.121</td><td>133.198</td><td>0.669</td><td>CHP-328-04-PBMC-DNA</td><td>remaining_batch_4_28June2021/mixcr/clones/CLONES_TRBCHP-328-04-PBMC-DNA.txt </td><td>PBMC</td><td>CHP</td><td>2.349757</td></tr>\n",
       "\t<tr><th scope=row>347</th><td>CHP_328_05</td><td>CHP_328</td><td>X05</td><td>0.0</td><td> 91.16</td><td> 7</td><td>SR ALL</td><td>0.0</td><td>0</td><td>NA</td><td>...</td><td> 87.712</td><td>0.563</td><td> 62.759</td><td> 62.967</td><td>0.625</td><td>CHP-328-05-PBMC-DNA</td><td>remaining_batch_4_28June2021/mixcr/clones/CLONES_TRBCHP-328-05-PBMC-DNA.txt </td><td>PBMC</td><td>CHP</td><td>1.941119</td></tr>\n",
       "</tbody>\n",
       "</table>\n"
      ],
      "text/latex": [
       "A data.frame: 6 x 66\n",
       "\\begin{tabular}{r|lllllllllllllllllllll}\n",
       "  & sample\\_id & Patient & cycle & FOLD & ATC & Age & Disease\\_type & TE\\_fold & CD3 & EM & ... & estimated\\_Shannon & SE\\_Shannon & observed\\_Simpson & estimated\\_Simpson & SE\\_Simpson & basename & file & sampletype & Group & log10shann\\\\\n",
       "  & <chr> & <chr> & <chr> & <dbl> & <dbl> & <dbl> & <chr> & <dbl> & <int> & <int> & ... & <dbl> & <dbl> & <dbl> & <dbl> & <dbl> & <chr> & <chr> & <chr> & <chr> & <dbl>\\\\\n",
       "\\hline\n",
       "\t302 & CHP\\_319\\_05 & CHP\\_319 & X05 & 1.2 &   0.00 &  1 & HR ALL & 1.2 & 0 & NA & ... &  13.439 & 1.217 &  10.248 &  11.626 & 1.269 & CHP\\_319-05-PBMC-DNA & batch2\\_Aug62019/mixcr/clones/CLONES\\_TRBCHP\\_319-05-PBMC-DNA.txt               & PBMC & CHP & 1.074743\\\\\n",
       "\t320 & CHP\\_323\\_03 & CHP\\_323 & X03 & 0.0 & 786.24 &  1 & HR ALL & 0.0 & 0 & NA & ... &  37.986 & 0.367 &  33.204 &  33.544 & 0.638 & CHP\\_323-03-PBMC-DNA & batch4\\_19Aug2019/mixcr/clones/CLONES\\_TRBCHP\\_323-03-PBMC-DNA.txt              & PBMC & CHP & 1.576595\\\\\n",
       "\t322 & CHP\\_323\\_05 & CHP\\_323 & X05 & 0.0 & 979.50 &  1 & HR ALL & 0.0 & 0 & NA & ... &  85.174 & 2.255 &  32.669 &  33.190 & 2.327 & CHP\\_323-05-PBMC-DNA & batch7\\_25Oct2019/mixcr/clones/CLONES\\_TRBCHP\\_323-05-PBMC-DNA.txt              & PBMC & CHP & 1.912504\\\\\n",
       "\t327 & CHP\\_324\\_05 & CHP\\_324 & X05 & 0.0 &   0.00 & 12 & T-ALL  & 0.0 & 0 & NA & ... & 130.246 & 0.574 &  79.994 &  80.126 & 0.912 & CHP\\_324-05\\_PBMC-DNA & remaining\\_batch\\_2\\_22April2021/mixcr/clones/CLONES\\_TRBCHP\\_324-05\\_PBMC-DNA.txt & PBMC & CHP & 2.113673\\\\\n",
       "\t346 & CHP\\_328\\_04 & CHP\\_328 & X04 & 0.0 & 130.82 &  7 & SR ALL & 0.0 & 0 & NA & ... & 224.003 & 0.477 & 133.121 & 133.198 & 0.669 & CHP-328-04-PBMC-DNA & remaining\\_batch\\_4\\_28June2021/mixcr/clones/CLONES\\_TRBCHP-328-04-PBMC-DNA.txt  & PBMC & CHP & 2.349757\\\\\n",
       "\t347 & CHP\\_328\\_05 & CHP\\_328 & X05 & 0.0 &  91.16 &  7 & SR ALL & 0.0 & 0 & NA & ... &  87.712 & 0.563 &  62.759 &  62.967 & 0.625 & CHP-328-05-PBMC-DNA & remaining\\_batch\\_4\\_28June2021/mixcr/clones/CLONES\\_TRBCHP-328-05-PBMC-DNA.txt  & PBMC & CHP & 1.941119\\\\\n",
       "\\end{tabular}\n"
      ],
      "text/markdown": [
       "\n",
       "A data.frame: 6 x 66\n",
       "\n",
       "| <!--/--> | sample_id &lt;chr&gt; | Patient &lt;chr&gt; | cycle &lt;chr&gt; | FOLD &lt;dbl&gt; | ATC &lt;dbl&gt; | Age &lt;dbl&gt; | Disease_type &lt;chr&gt; | TE_fold &lt;dbl&gt; | CD3 &lt;int&gt; | EM &lt;int&gt; | ... ... | estimated_Shannon &lt;dbl&gt; | SE_Shannon &lt;dbl&gt; | observed_Simpson &lt;dbl&gt; | estimated_Simpson &lt;dbl&gt; | SE_Simpson &lt;dbl&gt; | basename &lt;chr&gt; | file &lt;chr&gt; | sampletype &lt;chr&gt; | Group &lt;chr&gt; | log10shann &lt;dbl&gt; |\n",
       "|---|---|---|---|---|---|---|---|---|---|---|---|---|---|---|---|---|---|---|---|---|---|\n",
       "| 302 | CHP_319_05 | CHP_319 | X05 | 1.2 |   0.00 |  1 | HR ALL | 1.2 | 0 | NA | ... |  13.439 | 1.217 |  10.248 |  11.626 | 1.269 | CHP_319-05-PBMC-DNA | batch2_Aug62019/mixcr/clones/CLONES_TRBCHP_319-05-PBMC-DNA.txt               | PBMC | CHP | 1.074743 |\n",
       "| 320 | CHP_323_03 | CHP_323 | X03 | 0.0 | 786.24 |  1 | HR ALL | 0.0 | 0 | NA | ... |  37.986 | 0.367 |  33.204 |  33.544 | 0.638 | CHP_323-03-PBMC-DNA | batch4_19Aug2019/mixcr/clones/CLONES_TRBCHP_323-03-PBMC-DNA.txt              | PBMC | CHP | 1.576595 |\n",
       "| 322 | CHP_323_05 | CHP_323 | X05 | 0.0 | 979.50 |  1 | HR ALL | 0.0 | 0 | NA | ... |  85.174 | 2.255 |  32.669 |  33.190 | 2.327 | CHP_323-05-PBMC-DNA | batch7_25Oct2019/mixcr/clones/CLONES_TRBCHP_323-05-PBMC-DNA.txt              | PBMC | CHP | 1.912504 |\n",
       "| 327 | CHP_324_05 | CHP_324 | X05 | 0.0 |   0.00 | 12 | T-ALL  | 0.0 | 0 | NA | ... | 130.246 | 0.574 |  79.994 |  80.126 | 0.912 | CHP_324-05_PBMC-DNA | remaining_batch_2_22April2021/mixcr/clones/CLONES_TRBCHP_324-05_PBMC-DNA.txt | PBMC | CHP | 2.113673 |\n",
       "| 346 | CHP_328_04 | CHP_328 | X04 | 0.0 | 130.82 |  7 | SR ALL | 0.0 | 0 | NA | ... | 224.003 | 0.477 | 133.121 | 133.198 | 0.669 | CHP-328-04-PBMC-DNA | remaining_batch_4_28June2021/mixcr/clones/CLONES_TRBCHP-328-04-PBMC-DNA.txt  | PBMC | CHP | 2.349757 |\n",
       "| 347 | CHP_328_05 | CHP_328 | X05 | 0.0 |  91.16 |  7 | SR ALL | 0.0 | 0 | NA | ... |  87.712 | 0.563 |  62.759 |  62.967 | 0.625 | CHP-328-05-PBMC-DNA | remaining_batch_4_28June2021/mixcr/clones/CLONES_TRBCHP-328-05-PBMC-DNA.txt  | PBMC | CHP | 1.941119 |\n",
       "\n"
      ],
      "text/plain": [
       "    sample_id  Patient cycle FOLD ATC    Age Disease_type TE_fold CD3 EM ...\n",
       "302 CHP_319_05 CHP_319 X05   1.2    0.00  1  HR ALL       1.2     0   NA ...\n",
       "320 CHP_323_03 CHP_323 X03   0.0  786.24  1  HR ALL       0.0     0   NA ...\n",
       "322 CHP_323_05 CHP_323 X05   0.0  979.50  1  HR ALL       0.0     0   NA ...\n",
       "327 CHP_324_05 CHP_324 X05   0.0    0.00 12  T-ALL        0.0     0   NA ...\n",
       "346 CHP_328_04 CHP_328 X04   0.0  130.82  7  SR ALL       0.0     0   NA ...\n",
       "347 CHP_328_05 CHP_328 X05   0.0   91.16  7  SR ALL       0.0     0   NA ...\n",
       "    estimated_Shannon SE_Shannon observed_Simpson estimated_Simpson SE_Simpson\n",
       "302  13.439           1.217       10.248           11.626           1.269     \n",
       "320  37.986           0.367       33.204           33.544           0.638     \n",
       "322  85.174           2.255       32.669           33.190           2.327     \n",
       "327 130.246           0.574       79.994           80.126           0.912     \n",
       "346 224.003           0.477      133.121          133.198           0.669     \n",
       "347  87.712           0.563       62.759           62.967           0.625     \n",
       "    basename           \n",
       "302 CHP_319-05-PBMC-DNA\n",
       "320 CHP_323-03-PBMC-DNA\n",
       "322 CHP_323-05-PBMC-DNA\n",
       "327 CHP_324-05_PBMC-DNA\n",
       "346 CHP-328-04-PBMC-DNA\n",
       "347 CHP-328-05-PBMC-DNA\n",
       "    file                                                                        \n",
       "302 batch2_Aug62019/mixcr/clones/CLONES_TRBCHP_319-05-PBMC-DNA.txt              \n",
       "320 batch4_19Aug2019/mixcr/clones/CLONES_TRBCHP_323-03-PBMC-DNA.txt             \n",
       "322 batch7_25Oct2019/mixcr/clones/CLONES_TRBCHP_323-05-PBMC-DNA.txt             \n",
       "327 remaining_batch_2_22April2021/mixcr/clones/CLONES_TRBCHP_324-05_PBMC-DNA.txt\n",
       "346 remaining_batch_4_28June2021/mixcr/clones/CLONES_TRBCHP-328-04-PBMC-DNA.txt \n",
       "347 remaining_batch_4_28June2021/mixcr/clones/CLONES_TRBCHP-328-05-PBMC-DNA.txt \n",
       "    sampletype Group log10shann\n",
       "302 PBMC       CHP   1.074743  \n",
       "320 PBMC       CHP   1.576595  \n",
       "322 PBMC       CHP   1.912504  \n",
       "327 PBMC       CHP   2.113673  \n",
       "346 PBMC       CHP   2.349757  \n",
       "347 PBMC       CHP   1.941119  "
      ]
     },
     "metadata": {},
     "output_type": "display_data"
    }
   ],
   "source": [
    "head(meta_div)"
   ]
  },
  {
   "cell_type": "code",
   "execution_count": 100,
   "metadata": {
    "vscode": {
     "languageId": "r"
    }
   },
   "outputs": [],
   "source": [
    "mypats <- unique(meta_div$Patient)"
   ]
  },
  {
   "cell_type": "code",
   "execution_count": 101,
   "metadata": {
    "vscode": {
     "languageId": "r"
    }
   },
   "outputs": [],
   "source": [
    "pat_df <- as.data.frame(matrix(NA,\n",
    "    nrow = length(mypats),\n",
    "    ncol = 12,\n",
    "    dimnames = list(mypats, c(\n",
    "        \"PBMC_X02\", \"PBMC_X03\", \"PBMC_X04\", \"PBMC_X05\",\n",
    "        \"cfDNA_X02\", \"cfDNA_X03\", \"cfDNA_X04\", \"cfDNA_X05\", \n",
    "        \"cancergroup\", \"Disease_type\", \"Age\", \"Relapse\"\n",
    "    ))\n",
    "))\n"
   ]
  },
  {
   "cell_type": "code",
   "execution_count": 102,
   "metadata": {
    "vscode": {
     "languageId": "r"
    }
   },
   "outputs": [
    {
     "data": {
      "text/html": [
       "<table class=\"dataframe\">\n",
       "<caption>A matrix: 6 x 480 of type dbl</caption>\n",
       "<thead>\n",
       "\t<tr><th></th><th scope=col>CHP_319-05-PBMC-DNA</th><th scope=col>CHP_323-03-PBMC-DNA</th><th scope=col>CHP_323-05-PBMC-DNA</th><th scope=col>CHP_324-05_PBMC-DNA</th><th scope=col>CHP-328-04-PBMC-DNA</th><th scope=col>CHP-328-05-PBMC-DNA</th><th scope=col>CHP_330-05-PBMC-DNA</th><th scope=col>CHP_331-04-PBMC-DNA</th><th scope=col>CHP_331-05-PBMC-DNA</th><th scope=col>CHP_335-03-PBMC-DNA</th><th scope=col>...</th><th scope=col>CHP_389-FFPE-DNA_S1</th><th scope=col>CHP_390-FFPE-DNA_S9</th><th scope=col>CHP_394-FFPE-DNA_S4</th><th scope=col>CHP_400-FFPE-DNA_S1</th><th scope=col>CHP_401-FFPE-DNA_S1</th><th scope=col>CHP_404_A-FFPE-DNA</th><th scope=col>CHP_404_B-FFPE-DNA</th><th scope=col>CHP_407-FFPE-DNA_S7</th><th scope=col>CHP_412-FFPE-DNA_S1</th><th scope=col>CHP_418-FFPE-DNA_S2</th></tr>\n",
       "</thead>\n",
       "<tbody>\n",
       "\t<tr><th scope=row>CHP_319-05-PBMC-DNA</th><td>100</td><td>  0</td><td>  0</td><td>  0</td><td>  0.0000000</td><td>  0.0000000</td><td>0</td><td>0</td><td>0</td><td>0.0000000</td><td>...</td><td>0</td><td>0</td><td>0</td><td>0</td><td>0</td><td>0</td><td>0</td><td>0</td><td>0</td><td>0</td></tr>\n",
       "\t<tr><th scope=row>CHP_323-03-PBMC-DNA</th><td>  0</td><td>100</td><td>  0</td><td>  0</td><td>  0.0000000</td><td>  0.0000000</td><td>0</td><td>0</td><td>0</td><td>0.0000000</td><td>...</td><td>0</td><td>0</td><td>0</td><td>0</td><td>0</td><td>0</td><td>0</td><td>0</td><td>0</td><td>0</td></tr>\n",
       "\t<tr><th scope=row>CHP_323-05-PBMC-DNA</th><td>  0</td><td>  0</td><td>100</td><td>  0</td><td>  0.0000000</td><td>  0.0000000</td><td>0</td><td>0</td><td>0</td><td>0.0000000</td><td>...</td><td>0</td><td>0</td><td>0</td><td>0</td><td>0</td><td>0</td><td>0</td><td>0</td><td>0</td><td>0</td></tr>\n",
       "\t<tr><th scope=row>CHP_324-05_PBMC-DNA</th><td>  0</td><td>  0</td><td>  0</td><td>100</td><td>  0.0000000</td><td>  0.0000000</td><td>0</td><td>0</td><td>0</td><td>0.0000000</td><td>...</td><td>0</td><td>0</td><td>0</td><td>0</td><td>0</td><td>0</td><td>0</td><td>0</td><td>0</td><td>0</td></tr>\n",
       "\t<tr><th scope=row>CHP-328-04-PBMC-DNA</th><td>  0</td><td>  0</td><td>  0</td><td>  0</td><td>100.0000000</td><td>  0.8885397</td><td>0</td><td>0</td><td>0</td><td>0.1455496</td><td>...</td><td>0</td><td>0</td><td>0</td><td>0</td><td>0</td><td>0</td><td>0</td><td>0</td><td>0</td><td>0</td></tr>\n",
       "\t<tr><th scope=row>CHP-328-05-PBMC-DNA</th><td>  0</td><td>  0</td><td>  0</td><td>  0</td><td>  0.8885397</td><td>100.0000000</td><td>0</td><td>0</td><td>0</td><td>0.0000000</td><td>...</td><td>0</td><td>0</td><td>0</td><td>0</td><td>0</td><td>0</td><td>0</td><td>0</td><td>0</td><td>0</td></tr>\n",
       "</tbody>\n",
       "</table>\n"
      ],
      "text/latex": [
       "A matrix: 6 x 480 of type dbl\n",
       "\\begin{tabular}{r|lllllllllllllllllllll}\n",
       "  & CHP\\_319-05-PBMC-DNA & CHP\\_323-03-PBMC-DNA & CHP\\_323-05-PBMC-DNA & CHP\\_324-05\\_PBMC-DNA & CHP-328-04-PBMC-DNA & CHP-328-05-PBMC-DNA & CHP\\_330-05-PBMC-DNA & CHP\\_331-04-PBMC-DNA & CHP\\_331-05-PBMC-DNA & CHP\\_335-03-PBMC-DNA & ... & CHP\\_389-FFPE-DNA\\_S1 & CHP\\_390-FFPE-DNA\\_S9 & CHP\\_394-FFPE-DNA\\_S4 & CHP\\_400-FFPE-DNA\\_S1 & CHP\\_401-FFPE-DNA\\_S1 & CHP\\_404\\_A-FFPE-DNA & CHP\\_404\\_B-FFPE-DNA & CHP\\_407-FFPE-DNA\\_S7 & CHP\\_412-FFPE-DNA\\_S1 & CHP\\_418-FFPE-DNA\\_S2\\\\\n",
       "\\hline\n",
       "\tCHP\\_319-05-PBMC-DNA & 100 &   0 &   0 &   0 &   0.0000000 &   0.0000000 & 0 & 0 & 0 & 0.0000000 & ... & 0 & 0 & 0 & 0 & 0 & 0 & 0 & 0 & 0 & 0\\\\\n",
       "\tCHP\\_323-03-PBMC-DNA &   0 & 100 &   0 &   0 &   0.0000000 &   0.0000000 & 0 & 0 & 0 & 0.0000000 & ... & 0 & 0 & 0 & 0 & 0 & 0 & 0 & 0 & 0 & 0\\\\\n",
       "\tCHP\\_323-05-PBMC-DNA &   0 &   0 & 100 &   0 &   0.0000000 &   0.0000000 & 0 & 0 & 0 & 0.0000000 & ... & 0 & 0 & 0 & 0 & 0 & 0 & 0 & 0 & 0 & 0\\\\\n",
       "\tCHP\\_324-05\\_PBMC-DNA &   0 &   0 &   0 & 100 &   0.0000000 &   0.0000000 & 0 & 0 & 0 & 0.0000000 & ... & 0 & 0 & 0 & 0 & 0 & 0 & 0 & 0 & 0 & 0\\\\\n",
       "\tCHP-328-04-PBMC-DNA &   0 &   0 &   0 &   0 & 100.0000000 &   0.8885397 & 0 & 0 & 0 & 0.1455496 & ... & 0 & 0 & 0 & 0 & 0 & 0 & 0 & 0 & 0 & 0\\\\\n",
       "\tCHP-328-05-PBMC-DNA &   0 &   0 &   0 &   0 &   0.8885397 & 100.0000000 & 0 & 0 & 0 & 0.0000000 & ... & 0 & 0 & 0 & 0 & 0 & 0 & 0 & 0 & 0 & 0\\\\\n",
       "\\end{tabular}\n"
      ],
      "text/markdown": [
       "\n",
       "A matrix: 6 x 480 of type dbl\n",
       "\n",
       "| <!--/--> | CHP_319-05-PBMC-DNA | CHP_323-03-PBMC-DNA | CHP_323-05-PBMC-DNA | CHP_324-05_PBMC-DNA | CHP-328-04-PBMC-DNA | CHP-328-05-PBMC-DNA | CHP_330-05-PBMC-DNA | CHP_331-04-PBMC-DNA | CHP_331-05-PBMC-DNA | CHP_335-03-PBMC-DNA | ... | CHP_389-FFPE-DNA_S1 | CHP_390-FFPE-DNA_S9 | CHP_394-FFPE-DNA_S4 | CHP_400-FFPE-DNA_S1 | CHP_401-FFPE-DNA_S1 | CHP_404_A-FFPE-DNA | CHP_404_B-FFPE-DNA | CHP_407-FFPE-DNA_S7 | CHP_412-FFPE-DNA_S1 | CHP_418-FFPE-DNA_S2 |\n",
       "|---|---|---|---|---|---|---|---|---|---|---|---|---|---|---|---|---|---|---|---|---|---|\n",
       "| CHP_319-05-PBMC-DNA | 100 |   0 |   0 |   0 |   0.0000000 |   0.0000000 | 0 | 0 | 0 | 0.0000000 | ... | 0 | 0 | 0 | 0 | 0 | 0 | 0 | 0 | 0 | 0 |\n",
       "| CHP_323-03-PBMC-DNA |   0 | 100 |   0 |   0 |   0.0000000 |   0.0000000 | 0 | 0 | 0 | 0.0000000 | ... | 0 | 0 | 0 | 0 | 0 | 0 | 0 | 0 | 0 | 0 |\n",
       "| CHP_323-05-PBMC-DNA |   0 |   0 | 100 |   0 |   0.0000000 |   0.0000000 | 0 | 0 | 0 | 0.0000000 | ... | 0 | 0 | 0 | 0 | 0 | 0 | 0 | 0 | 0 | 0 |\n",
       "| CHP_324-05_PBMC-DNA |   0 |   0 |   0 | 100 |   0.0000000 |   0.0000000 | 0 | 0 | 0 | 0.0000000 | ... | 0 | 0 | 0 | 0 | 0 | 0 | 0 | 0 | 0 | 0 |\n",
       "| CHP-328-04-PBMC-DNA |   0 |   0 |   0 |   0 | 100.0000000 |   0.8885397 | 0 | 0 | 0 | 0.1455496 | ... | 0 | 0 | 0 | 0 | 0 | 0 | 0 | 0 | 0 | 0 |\n",
       "| CHP-328-05-PBMC-DNA |   0 |   0 |   0 |   0 |   0.8885397 | 100.0000000 | 0 | 0 | 0 | 0.0000000 | ... | 0 | 0 | 0 | 0 | 0 | 0 | 0 | 0 | 0 | 0 |\n",
       "\n"
      ],
      "text/plain": [
       "                    CHP_319-05-PBMC-DNA CHP_323-03-PBMC-DNA CHP_323-05-PBMC-DNA\n",
       "CHP_319-05-PBMC-DNA 100                   0                   0                \n",
       "CHP_323-03-PBMC-DNA   0                 100                   0                \n",
       "CHP_323-05-PBMC-DNA   0                   0                 100                \n",
       "CHP_324-05_PBMC-DNA   0                   0                   0                \n",
       "CHP-328-04-PBMC-DNA   0                   0                   0                \n",
       "CHP-328-05-PBMC-DNA   0                   0                   0                \n",
       "                    CHP_324-05_PBMC-DNA CHP-328-04-PBMC-DNA CHP-328-05-PBMC-DNA\n",
       "CHP_319-05-PBMC-DNA   0                   0.0000000           0.0000000        \n",
       "CHP_323-03-PBMC-DNA   0                   0.0000000           0.0000000        \n",
       "CHP_323-05-PBMC-DNA   0                   0.0000000           0.0000000        \n",
       "CHP_324-05_PBMC-DNA 100                   0.0000000           0.0000000        \n",
       "CHP-328-04-PBMC-DNA   0                 100.0000000           0.8885397        \n",
       "CHP-328-05-PBMC-DNA   0                   0.8885397         100.0000000        \n",
       "                    CHP_330-05-PBMC-DNA CHP_331-04-PBMC-DNA CHP_331-05-PBMC-DNA\n",
       "CHP_319-05-PBMC-DNA 0                   0                   0                  \n",
       "CHP_323-03-PBMC-DNA 0                   0                   0                  \n",
       "CHP_323-05-PBMC-DNA 0                   0                   0                  \n",
       "CHP_324-05_PBMC-DNA 0                   0                   0                  \n",
       "CHP-328-04-PBMC-DNA 0                   0                   0                  \n",
       "CHP-328-05-PBMC-DNA 0                   0                   0                  \n",
       "                    CHP_335-03-PBMC-DNA ... CHP_389-FFPE-DNA_S1\n",
       "CHP_319-05-PBMC-DNA 0.0000000           ... 0                  \n",
       "CHP_323-03-PBMC-DNA 0.0000000           ... 0                  \n",
       "CHP_323-05-PBMC-DNA 0.0000000           ... 0                  \n",
       "CHP_324-05_PBMC-DNA 0.0000000           ... 0                  \n",
       "CHP-328-04-PBMC-DNA 0.1455496           ... 0                  \n",
       "CHP-328-05-PBMC-DNA 0.0000000           ... 0                  \n",
       "                    CHP_390-FFPE-DNA_S9 CHP_394-FFPE-DNA_S4 CHP_400-FFPE-DNA_S1\n",
       "CHP_319-05-PBMC-DNA 0                   0                   0                  \n",
       "CHP_323-03-PBMC-DNA 0                   0                   0                  \n",
       "CHP_323-05-PBMC-DNA 0                   0                   0                  \n",
       "CHP_324-05_PBMC-DNA 0                   0                   0                  \n",
       "CHP-328-04-PBMC-DNA 0                   0                   0                  \n",
       "CHP-328-05-PBMC-DNA 0                   0                   0                  \n",
       "                    CHP_401-FFPE-DNA_S1 CHP_404_A-FFPE-DNA CHP_404_B-FFPE-DNA\n",
       "CHP_319-05-PBMC-DNA 0                   0                  0                 \n",
       "CHP_323-03-PBMC-DNA 0                   0                  0                 \n",
       "CHP_323-05-PBMC-DNA 0                   0                  0                 \n",
       "CHP_324-05_PBMC-DNA 0                   0                  0                 \n",
       "CHP-328-04-PBMC-DNA 0                   0                  0                 \n",
       "CHP-328-05-PBMC-DNA 0                   0                  0                 \n",
       "                    CHP_407-FFPE-DNA_S7 CHP_412-FFPE-DNA_S1 CHP_418-FFPE-DNA_S2\n",
       "CHP_319-05-PBMC-DNA 0                   0                   0                  \n",
       "CHP_323-03-PBMC-DNA 0                   0                   0                  \n",
       "CHP_323-05-PBMC-DNA 0                   0                   0                  \n",
       "CHP_324-05_PBMC-DNA 0                   0                   0                  \n",
       "CHP-328-04-PBMC-DNA 0                   0                   0                  \n",
       "CHP-328-05-PBMC-DNA 0                   0                   0                  "
      ]
     },
     "metadata": {},
     "output_type": "display_data"
    }
   ],
   "source": [
    "head(mymat)"
   ]
  },
  {
   "cell_type": "code",
   "execution_count": 103,
   "metadata": {
    "vscode": {
     "languageId": "r"
    }
   },
   "outputs": [],
   "source": [
    "# change hyphen to underscore\n",
    "rownames(mymat) <- gsub(\"-\", \"_\", rownames(mymat))\n",
    "colnames(mymat) <- gsub(\"-\", \"_\", colnames(mymat))"
   ]
  },
  {
   "cell_type": "code",
   "execution_count": 104,
   "metadata": {
    "vscode": {
     "languageId": "r"
    }
   },
   "outputs": [],
   "source": [
    "for (i in 1:nrow(pat_df)) {\n",
    "    pat <- rownames(pat_df)[i]\n",
    "    mymat_pat <- mymat[grepl(pat, rownames(mymat)), grepl(pat, colnames(mymat))]\n",
    "    if (length(mymat_pat) == 1) {\n",
    "        next\n",
    "    }\n",
    "    if (sum(grepl(\"_01_PBMC\", rownames(mymat_pat))) > 0) {\n",
    "        pre <- mymat_pat[, which(grepl(\"_01_PBMC\", colnames(mymat_pat)))]\n",
    "        if (sum(grepl(\"_02_PBMC\", colnames(mymat_pat))) == 1) {\n",
    "            pat_df[pat, \"PBMC_X02\"] <- pre[which(grepl(\"_02_PBMC\", names(pre)))]\n",
    "        }\n",
    "        if (sum(grepl(\"_03_PBMC\", colnames(mymat_pat))) == 1) {\n",
    "            pat_df[pat, \"PBMC_X03\"] <- pre[which(grepl(\"_03_PBMC\", names(pre)))]\n",
    "        }\n",
    "        if (sum(grepl(\"_04_PBMC\", colnames(mymat_pat))) == 1) {\n",
    "            pat_df[pat, \"PBMC_X04\"] <- pre[which(grepl(\"_04_PBMC\", names(pre)))]\n",
    "        }\n",
    "        if (sum(grepl(\"_05_PBMC\", colnames(mymat_pat))) == 1) {\n",
    "            pat_df[pat, \"PBMC_X05\"] <- pre[which(grepl(\"_05_PBMC\", names(pre)))]\n",
    "        }\n",
    "    }\n",
    "\n",
    "    if (sum(grepl(\"_01_cfDNA\", rownames(mymat_pat))) > 0) {\n",
    "        pre <- mymat_pat[, which(grepl(\"_01_cfDNA\", colnames(mymat_pat)))]\n",
    "        if (sum(grepl(\"_02_cfDNA\", colnames(mymat_pat))) == 1) {\n",
    "            pat_df[pat, \"cfDNA_X02\"] <- pre[which(grepl(\"_02_cfDNA\", names(pre)))]\n",
    "        }\n",
    "        if (sum(grepl(\"_03_cfDNA\", colnames(mymat_pat))) == 1) {\n",
    "            pat_df[pat, \"cfDNA_X03\"] <- pre[which(grepl(\"_03_cfDNA\", names(pre)))]\n",
    "        }\n",
    "        if (sum(grepl(\"_04_cfDNA\", colnames(mymat_pat))) == 1) {\n",
    "            pat_df[pat, \"cfDNA_X04\"] <- pre[which(grepl(\"_04_cfDNA\", names(pre)))]\n",
    "        }\n",
    "        if (sum(grepl(\"_05_cfDNA\", colnames(mymat_pat))) == 1) {\n",
    "            pat_df[pat, \"cfDNA_X05\"] <- pre[which(grepl(\"_05_cfDNA\", names(pre)))]\n",
    "        }\n",
    "    }\n",
    "}\n"
   ]
  },
  {
   "cell_type": "code",
   "execution_count": 105,
   "metadata": {
    "vscode": {
     "languageId": "r"
    }
   },
   "outputs": [],
   "source": [
    "pat_df$cancergroup <- meta_div[match(rownames(pat_df), meta_div$Patient), \"cancergroup\"]\n",
    "pat_df$Disease_type <- meta_div[match(rownames(pat_df), meta_div$Patient), \"Disease_type\"]\n",
    "pat_df$Age <- meta_div[match(rownames(pat_df), meta_div$Patient), \"Age\"]\n",
    "pat_df$Relapse <- meta_div[match(rownames(pat_df), meta_div$Patient), \"Relapse\"]"
   ]
  },
  {
   "cell_type": "code",
   "execution_count": 106,
   "metadata": {
    "vscode": {
     "languageId": "r"
    }
   },
   "outputs": [],
   "source": [
    "pat_df_long <- tidyr::pivot_longer(pat_df, cols = c(\"PBMC_X02\", \"PBMC_X03\", \"PBMC_X04\", \"PBMC_X05\", \"cfDNA_X02\", \"cfDNA_X03\", \"cfDNA_X04\", \"cfDNA_X05\"), names_to = \"Sample\", values_to = \"Overlap\")"
   ]
  },
  {
   "cell_type": "code",
   "execution_count": 107,
   "metadata": {
    "vscode": {
     "languageId": "r"
    }
   },
   "outputs": [],
   "source": [
    "pat_df_long <- pat_df_long[!is.na(pat_df_long$Overlap),]"
   ]
  },
  {
   "cell_type": "code",
   "execution_count": 108,
   "metadata": {
    "vscode": {
     "languageId": "r"
    }
   },
   "outputs": [],
   "source": [
    "pat_df_long$sampletype <- NA\n",
    "pat_df_long$sampletype[ grepl(\"cfDNA\", pat_df_long$Sample)] <- \"cfDNA\"\n",
    "pat_df_long$sampletype[ grepl(\"PBMC\", pat_df_long$Sample)] <- \"PBMC\""
   ]
  },
  {
   "cell_type": "code",
   "execution_count": 109,
   "metadata": {
    "vscode": {
     "languageId": "r"
    }
   },
   "outputs": [
    {
     "data": {
      "text/html": [
       "<table class=\"dataframe\">\n",
       "<caption>A tibble: 6 x 7</caption>\n",
       "<thead>\n",
       "\t<tr><th scope=col>cancergroup</th><th scope=col>Disease_type</th><th scope=col>Age</th><th scope=col>Relapse</th><th scope=col>Sample</th><th scope=col>Overlap</th><th scope=col>sampletype</th></tr>\n",
       "\t<tr><th scope=col>&lt;chr&gt;</th><th scope=col>&lt;chr&gt;</th><th scope=col>&lt;dbl&gt;</th><th scope=col>&lt;int&gt;</th><th scope=col>&lt;chr&gt;</th><th scope=col>&lt;dbl&gt;</th><th scope=col>&lt;chr&gt;</th></tr>\n",
       "</thead>\n",
       "<tbody>\n",
       "\t<tr><td>Solid tumors</td><td>EWS</td><td>8</td><td>0</td><td>cfDNA_X02</td><td>0</td><td>cfDNA</td></tr>\n",
       "\t<tr><td>Solid tumors</td><td>EWS</td><td>8</td><td>0</td><td>cfDNA_X04</td><td>0</td><td>cfDNA</td></tr>\n",
       "\t<tr><td>Solid tumors</td><td>EWS</td><td>8</td><td>0</td><td>cfDNA_X05</td><td>0</td><td>cfDNA</td></tr>\n",
       "\t<tr><td>Lymphoma    </td><td>BL </td><td>6</td><td>0</td><td>cfDNA_X02</td><td>0</td><td>cfDNA</td></tr>\n",
       "\t<tr><td>Lymphoma    </td><td>BL </td><td>6</td><td>0</td><td>cfDNA_X03</td><td>0</td><td>cfDNA</td></tr>\n",
       "\t<tr><td>Lymphoma    </td><td>BL </td><td>6</td><td>0</td><td>cfDNA_X04</td><td>0</td><td>cfDNA</td></tr>\n",
       "</tbody>\n",
       "</table>\n"
      ],
      "text/latex": [
       "A tibble: 6 x 7\n",
       "\\begin{tabular}{lllllll}\n",
       " cancergroup & Disease\\_type & Age & Relapse & Sample & Overlap & sampletype\\\\\n",
       " <chr> & <chr> & <dbl> & <int> & <chr> & <dbl> & <chr>\\\\\n",
       "\\hline\n",
       "\t Solid tumors & EWS & 8 & 0 & cfDNA\\_X02 & 0 & cfDNA\\\\\n",
       "\t Solid tumors & EWS & 8 & 0 & cfDNA\\_X04 & 0 & cfDNA\\\\\n",
       "\t Solid tumors & EWS & 8 & 0 & cfDNA\\_X05 & 0 & cfDNA\\\\\n",
       "\t Lymphoma     & BL  & 6 & 0 & cfDNA\\_X02 & 0 & cfDNA\\\\\n",
       "\t Lymphoma     & BL  & 6 & 0 & cfDNA\\_X03 & 0 & cfDNA\\\\\n",
       "\t Lymphoma     & BL  & 6 & 0 & cfDNA\\_X04 & 0 & cfDNA\\\\\n",
       "\\end{tabular}\n"
      ],
      "text/markdown": [
       "\n",
       "A tibble: 6 x 7\n",
       "\n",
       "| cancergroup &lt;chr&gt; | Disease_type &lt;chr&gt; | Age &lt;dbl&gt; | Relapse &lt;int&gt; | Sample &lt;chr&gt; | Overlap &lt;dbl&gt; | sampletype &lt;chr&gt; |\n",
       "|---|---|---|---|---|---|---|\n",
       "| Solid tumors | EWS | 8 | 0 | cfDNA_X02 | 0 | cfDNA |\n",
       "| Solid tumors | EWS | 8 | 0 | cfDNA_X04 | 0 | cfDNA |\n",
       "| Solid tumors | EWS | 8 | 0 | cfDNA_X05 | 0 | cfDNA |\n",
       "| Lymphoma     | BL  | 6 | 0 | cfDNA_X02 | 0 | cfDNA |\n",
       "| Lymphoma     | BL  | 6 | 0 | cfDNA_X03 | 0 | cfDNA |\n",
       "| Lymphoma     | BL  | 6 | 0 | cfDNA_X04 | 0 | cfDNA |\n",
       "\n"
      ],
      "text/plain": [
       "  cancergroup  Disease_type Age Relapse Sample    Overlap sampletype\n",
       "1 Solid tumors EWS          8   0       cfDNA_X02 0       cfDNA     \n",
       "2 Solid tumors EWS          8   0       cfDNA_X04 0       cfDNA     \n",
       "3 Solid tumors EWS          8   0       cfDNA_X05 0       cfDNA     \n",
       "4 Lymphoma     BL           6   0       cfDNA_X02 0       cfDNA     \n",
       "5 Lymphoma     BL           6   0       cfDNA_X03 0       cfDNA     \n",
       "6 Lymphoma     BL           6   0       cfDNA_X04 0       cfDNA     "
      ]
     },
     "metadata": {},
     "output_type": "display_data"
    }
   ],
   "source": [
    "head(pat_df_long)"
   ]
  },
  {
   "cell_type": "code",
   "execution_count": 110,
   "metadata": {
    "vscode": {
     "languageId": "r"
    }
   },
   "outputs": [
    {
     "data": {
      "text/plain": [
       "\n",
       "\tWelch Two Sample t-test\n",
       "\n",
       "data:  pat_df_long$Overlap[pat_df_long$sampletype == \"PBMC\"] by factor(pat_df_long$Relapse[pat_df_long$sampletype == \"PBMC\"])\n",
       "t = -0.51802, df = 8.089, p-value = 0.6183\n",
       "alternative hypothesis: true difference in means between group 0 and group 1 is not equal to 0\n",
       "95 percent confidence interval:\n",
       " -4.642677  2.936780\n",
       "sample estimates:\n",
       "mean in group 0 mean in group 1 \n",
       "       1.713944        2.566893 \n"
      ]
     },
     "metadata": {},
     "output_type": "display_data"
    }
   ],
   "source": [
    "t.test(pat_df_long$Overlap[ pat_df_long$sampletype == \"PBMC\"] ~\n",
    "factor(pat_df_long$Relapse[ pat_df_long$sampletype == \"PBMC\"]))"
   ]
  },
  {
   "cell_type": "code",
   "execution_count": 111,
   "metadata": {
    "vscode": {
     "languageId": "r"
    }
   },
   "outputs": [
    {
     "data": {
      "image/png": "[encoded data removed]",
      "text/plain": [
       "plot without title"
      ]
     },
     "metadata": {
      "image/png": {
       "height": 420,
       "width": 420
      }
     },
     "output_type": "display_data"
    }
   ],
   "source": [
    "ggplot(\n",
    "    data = pat_df_long[ pat_df_long$Overlap > 0 & pat_df_long$sampletype == \"PBMC\", ],\n",
    "    aes(x = Disease_type, y = Overlap, color = factor(Relapse))\n",
    ") +\n",
    "    geom_point() +\n",
    "    theme_minimal() +\n",
    "    theme(axis.text.x = element_text(angle = 45, hjust = 1))\n"
   ]
  },
  {
   "cell_type": "markdown",
   "metadata": {},
   "source": [
    "Clonetrack samples with high % overlap"
   ]
  },
  {
   "cell_type": "code",
   "execution_count": 113,
   "metadata": {
    "vscode": {
     "languageId": "r"
    }
   },
   "outputs": [
    {
     "data": {
      "text/html": [
       "<table class=\"dataframe\">\n",
       "<caption>A matrix: 6 x 18 of type dbl</caption>\n",
       "<thead>\n",
       "\t<tr><th></th><th scope=col>CHP_392-03_cfDNA</th><th scope=col>CHP_388-02_cfDNA</th><th scope=col>CHP_380-05_cfDNA</th><th scope=col>CHP_364-04-cfDNA</th><th scope=col>CHP_390-02_cfDNA</th><th scope=col>CHP_367-04_cfDNA</th><th scope=col>CHP_392-02_cfDNA</th><th scope=col>CHP_382-05_cfDNA</th><th scope=col>CHP_334-03_cfDNA</th><th scope=col>CHP_404-02_cfDNA</th><th scope=col>CHP_362-02_cfDNA</th><th scope=col>CHP_385-04_cfDNA</th><th scope=col>CHP_411-02_cfDNA</th><th scope=col>CHP_341-02_cfDNA</th><th scope=col>CHP_375-05_cfDNA</th><th scope=col>CHP_388-05_cfDNA</th><th scope=col>CHP_404-05_cfDNA</th><th scope=col>CHP_407-02_cfDNA</th></tr>\n",
       "</thead>\n",
       "<tbody>\n",
       "\t<tr><th scope=row>CHP_392-03_cfDNA</th><td>100.00000</td><td> 88.70857</td><td> 82.64829</td><td> 67.27472</td><td> 32.23784</td><td> 36.20781</td><td>32.50139</td><td>32.82188</td><td>39.65175</td><td>38.34840</td><td>35.141281</td><td>31.237156</td><td>22.95816</td><td>31.84243</td><td>36.52673</td><td>25.88049</td><td>26.36661</td><td>28.487823</td></tr>\n",
       "\t<tr><th scope=row>CHP_388-02_cfDNA</th><td> 88.70857</td><td>100.00000</td><td> 70.22801</td><td> 64.16788</td><td> 27.47425</td><td> 27.24906</td><td>26.66845</td><td>27.68154</td><td>26.79251</td><td>24.67785</td><td>19.744782</td><td>16.980975</td><td>17.31399</td><td>19.00498</td><td>23.29692</td><td>17.97571</td><td>17.52290</td><td>14.903706</td></tr>\n",
       "\t<tr><th scope=row>CHP_380-05_cfDNA</th><td> 82.64829</td><td> 70.22801</td><td>100.00000</td><td> 52.78149</td><td> 27.68106</td><td> 22.21402</td><td>17.95518</td><td>21.40232</td><td>26.35786</td><td>16.26120</td><td> 6.386067</td><td> 4.868421</td><td>15.46530</td><td>11.62910</td><td>13.94601</td><td>14.98967</td><td>14.53267</td><td> 3.790460</td></tr>\n",
       "\t<tr><th scope=row>CHP_364-04-cfDNA</th><td> 67.27472</td><td> 64.16788</td><td> 52.78149</td><td>100.00000</td><td> 28.04223</td><td> 21.61052</td><td>17.85777</td><td>21.35283</td><td>26.79030</td><td>21.06097</td><td> 7.374444</td><td> 5.397331</td><td>15.63990</td><td>11.80242</td><td> 8.63556</td><td>15.28776</td><td>15.15921</td><td> 4.136397</td></tr>\n",
       "\t<tr><th scope=row>CHP_390-02_cfDNA</th><td> 32.23784</td><td> 27.47425</td><td> 27.68106</td><td> 28.04223</td><td>100.00000</td><td> 31.09282</td><td>29.31491</td><td>31.02026</td><td>36.42090</td><td>28.24607</td><td>26.183621</td><td>30.090066</td><td>29.05738</td><td>28.25828</td><td>22.87118</td><td>29.58802</td><td>22.50388</td><td>28.176956</td></tr>\n",
       "\t<tr><th scope=row>CHP_367-04_cfDNA</th><td> 36.20781</td><td> 27.24906</td><td> 22.21402</td><td> 21.61052</td><td> 31.09282</td><td>100.00000</td><td>47.49669</td><td>41.31596</td><td>34.40938</td><td>21.61974</td><td>20.835104</td><td>21.670352</td><td>41.24569</td><td>29.01683</td><td>32.10729</td><td>30.80387</td><td>26.57548</td><td>19.721663</td></tr>\n",
       "</tbody>\n",
       "</table>\n"
      ],
      "text/latex": [
       "A matrix: 6 x 18 of type dbl\n",
       "\\begin{tabular}{r|llllllllllllllllll}\n",
       "  & CHP\\_392-03\\_cfDNA & CHP\\_388-02\\_cfDNA & CHP\\_380-05\\_cfDNA & CHP\\_364-04-cfDNA & CHP\\_390-02\\_cfDNA & CHP\\_367-04\\_cfDNA & CHP\\_392-02\\_cfDNA & CHP\\_382-05\\_cfDNA & CHP\\_334-03\\_cfDNA & CHP\\_404-02\\_cfDNA & CHP\\_362-02\\_cfDNA & CHP\\_385-04\\_cfDNA & CHP\\_411-02\\_cfDNA & CHP\\_341-02\\_cfDNA & CHP\\_375-05\\_cfDNA & CHP\\_388-05\\_cfDNA & CHP\\_404-05\\_cfDNA & CHP\\_407-02\\_cfDNA\\\\\n",
       "\\hline\n",
       "\tCHP\\_392-03\\_cfDNA & 100.00000 &  88.70857 &  82.64829 &  67.27472 &  32.23784 &  36.20781 & 32.50139 & 32.82188 & 39.65175 & 38.34840 & 35.141281 & 31.237156 & 22.95816 & 31.84243 & 36.52673 & 25.88049 & 26.36661 & 28.487823\\\\\n",
       "\tCHP\\_388-02\\_cfDNA &  88.70857 & 100.00000 &  70.22801 &  64.16788 &  27.47425 &  27.24906 & 26.66845 & 27.68154 & 26.79251 & 24.67785 & 19.744782 & 16.980975 & 17.31399 & 19.00498 & 23.29692 & 17.97571 & 17.52290 & 14.903706\\\\\n",
       "\tCHP\\_380-05\\_cfDNA &  82.64829 &  70.22801 & 100.00000 &  52.78149 &  27.68106 &  22.21402 & 17.95518 & 21.40232 & 26.35786 & 16.26120 &  6.386067 &  4.868421 & 15.46530 & 11.62910 & 13.94601 & 14.98967 & 14.53267 &  3.790460\\\\\n",
       "\tCHP\\_364-04-cfDNA &  67.27472 &  64.16788 &  52.78149 & 100.00000 &  28.04223 &  21.61052 & 17.85777 & 21.35283 & 26.79030 & 21.06097 &  7.374444 &  5.397331 & 15.63990 & 11.80242 &  8.63556 & 15.28776 & 15.15921 &  4.136397\\\\\n",
       "\tCHP\\_390-02\\_cfDNA &  32.23784 &  27.47425 &  27.68106 &  28.04223 & 100.00000 &  31.09282 & 29.31491 & 31.02026 & 36.42090 & 28.24607 & 26.183621 & 30.090066 & 29.05738 & 28.25828 & 22.87118 & 29.58802 & 22.50388 & 28.176956\\\\\n",
       "\tCHP\\_367-04\\_cfDNA &  36.20781 &  27.24906 &  22.21402 &  21.61052 &  31.09282 & 100.00000 & 47.49669 & 41.31596 & 34.40938 & 21.61974 & 20.835104 & 21.670352 & 41.24569 & 29.01683 & 32.10729 & 30.80387 & 26.57548 & 19.721663\\\\\n",
       "\\end{tabular}\n"
      ],
      "text/markdown": [
       "\n",
       "A matrix: 6 x 18 of type dbl\n",
       "\n",
       "| <!--/--> | CHP_392-03_cfDNA | CHP_388-02_cfDNA | CHP_380-05_cfDNA | CHP_364-04-cfDNA | CHP_390-02_cfDNA | CHP_367-04_cfDNA | CHP_392-02_cfDNA | CHP_382-05_cfDNA | CHP_334-03_cfDNA | CHP_404-02_cfDNA | CHP_362-02_cfDNA | CHP_385-04_cfDNA | CHP_411-02_cfDNA | CHP_341-02_cfDNA | CHP_375-05_cfDNA | CHP_388-05_cfDNA | CHP_404-05_cfDNA | CHP_407-02_cfDNA |\n",
       "|---|---|---|---|---|---|---|---|---|---|---|---|---|---|---|---|---|---|---|\n",
       "| CHP_392-03_cfDNA | 100.00000 |  88.70857 |  82.64829 |  67.27472 |  32.23784 |  36.20781 | 32.50139 | 32.82188 | 39.65175 | 38.34840 | 35.141281 | 31.237156 | 22.95816 | 31.84243 | 36.52673 | 25.88049 | 26.36661 | 28.487823 |\n",
       "| CHP_388-02_cfDNA |  88.70857 | 100.00000 |  70.22801 |  64.16788 |  27.47425 |  27.24906 | 26.66845 | 27.68154 | 26.79251 | 24.67785 | 19.744782 | 16.980975 | 17.31399 | 19.00498 | 23.29692 | 17.97571 | 17.52290 | 14.903706 |\n",
       "| CHP_380-05_cfDNA |  82.64829 |  70.22801 | 100.00000 |  52.78149 |  27.68106 |  22.21402 | 17.95518 | 21.40232 | 26.35786 | 16.26120 |  6.386067 |  4.868421 | 15.46530 | 11.62910 | 13.94601 | 14.98967 | 14.53267 |  3.790460 |\n",
       "| CHP_364-04-cfDNA |  67.27472 |  64.16788 |  52.78149 | 100.00000 |  28.04223 |  21.61052 | 17.85777 | 21.35283 | 26.79030 | 21.06097 |  7.374444 |  5.397331 | 15.63990 | 11.80242 |  8.63556 | 15.28776 | 15.15921 |  4.136397 |\n",
       "| CHP_390-02_cfDNA |  32.23784 |  27.47425 |  27.68106 |  28.04223 | 100.00000 |  31.09282 | 29.31491 | 31.02026 | 36.42090 | 28.24607 | 26.183621 | 30.090066 | 29.05738 | 28.25828 | 22.87118 | 29.58802 | 22.50388 | 28.176956 |\n",
       "| CHP_367-04_cfDNA |  36.20781 |  27.24906 |  22.21402 |  21.61052 |  31.09282 | 100.00000 | 47.49669 | 41.31596 | 34.40938 | 21.61974 | 20.835104 | 21.670352 | 41.24569 | 29.01683 | 32.10729 | 30.80387 | 26.57548 | 19.721663 |\n",
       "\n"
      ],
      "text/plain": [
       "                 CHP_392-03_cfDNA CHP_388-02_cfDNA CHP_380-05_cfDNA\n",
       "CHP_392-03_cfDNA 100.00000         88.70857         82.64829       \n",
       "CHP_388-02_cfDNA  88.70857        100.00000         70.22801       \n",
       "CHP_380-05_cfDNA  82.64829         70.22801        100.00000       \n",
       "CHP_364-04-cfDNA  67.27472         64.16788         52.78149       \n",
       "CHP_390-02_cfDNA  32.23784         27.47425         27.68106       \n",
       "CHP_367-04_cfDNA  36.20781         27.24906         22.21402       \n",
       "                 CHP_364-04-cfDNA CHP_390-02_cfDNA CHP_367-04_cfDNA\n",
       "CHP_392-03_cfDNA  67.27472         32.23784         36.20781       \n",
       "CHP_388-02_cfDNA  64.16788         27.47425         27.24906       \n",
       "CHP_380-05_cfDNA  52.78149         27.68106         22.21402       \n",
       "CHP_364-04-cfDNA 100.00000         28.04223         21.61052       \n",
       "CHP_390-02_cfDNA  28.04223        100.00000         31.09282       \n",
       "CHP_367-04_cfDNA  21.61052         31.09282        100.00000       \n",
       "                 CHP_392-02_cfDNA CHP_382-05_cfDNA CHP_334-03_cfDNA\n",
       "CHP_392-03_cfDNA 32.50139         32.82188         39.65175        \n",
       "CHP_388-02_cfDNA 26.66845         27.68154         26.79251        \n",
       "CHP_380-05_cfDNA 17.95518         21.40232         26.35786        \n",
       "CHP_364-04-cfDNA 17.85777         21.35283         26.79030        \n",
       "CHP_390-02_cfDNA 29.31491         31.02026         36.42090        \n",
       "CHP_367-04_cfDNA 47.49669         41.31596         34.40938        \n",
       "                 CHP_404-02_cfDNA CHP_362-02_cfDNA CHP_385-04_cfDNA\n",
       "CHP_392-03_cfDNA 38.34840         35.141281        31.237156       \n",
       "CHP_388-02_cfDNA 24.67785         19.744782        16.980975       \n",
       "CHP_380-05_cfDNA 16.26120          6.386067         4.868421       \n",
       "CHP_364-04-cfDNA 21.06097          7.374444         5.397331       \n",
       "CHP_390-02_cfDNA 28.24607         26.183621        30.090066       \n",
       "CHP_367-04_cfDNA 21.61974         20.835104        21.670352       \n",
       "                 CHP_411-02_cfDNA CHP_341-02_cfDNA CHP_375-05_cfDNA\n",
       "CHP_392-03_cfDNA 22.95816         31.84243         36.52673        \n",
       "CHP_388-02_cfDNA 17.31399         19.00498         23.29692        \n",
       "CHP_380-05_cfDNA 15.46530         11.62910         13.94601        \n",
       "CHP_364-04-cfDNA 15.63990         11.80242          8.63556        \n",
       "CHP_390-02_cfDNA 29.05738         28.25828         22.87118        \n",
       "CHP_367-04_cfDNA 41.24569         29.01683         32.10729        \n",
       "                 CHP_388-05_cfDNA CHP_404-05_cfDNA CHP_407-02_cfDNA\n",
       "CHP_392-03_cfDNA 25.88049         26.36661         28.487823       \n",
       "CHP_388-02_cfDNA 17.97571         17.52290         14.903706       \n",
       "CHP_380-05_cfDNA 14.98967         14.53267          3.790460       \n",
       "CHP_364-04-cfDNA 15.28776         15.15921          4.136397       \n",
       "CHP_390-02_cfDNA 29.58802         22.50388         28.176956       \n",
       "CHP_367-04_cfDNA 30.80387         26.57548         19.721663       "
      ]
     },
     "metadata": {},
     "output_type": "display_data"
    }
   ],
   "source": [
    "head(mymat_clust_top20)"
   ]
  },
  {
   "cell_type": "code",
   "execution_count": 304,
   "metadata": {
    "vscode": {
     "languageId": "r"
    }
   },
   "outputs": [],
   "source": [
    "mysamples <- rownames(mymat_clust_top20 )"
   ]
  },
  {
   "cell_type": "code",
   "execution_count": 305,
   "metadata": {
    "vscode": {
     "languageId": "r"
    }
   },
   "outputs": [],
   "source": [
    "myfiles <- meta_div$file[ meta_div$basename %in% mysamples]"
   ]
  },
  {
   "cell_type": "code",
   "execution_count": 306,
   "metadata": {
    "vscode": {
     "languageId": "r"
    }
   },
   "outputs": [
    {
     "name": "stderr",
     "output_type": "stream",
     "text": [
      "my files:\n",
      "\n"
     ]
    },
    {
     "name": "stdout",
     "output_type": "stream",
     "text": [
      " [1] \"batch13_cfDNA_11Sep2020/mixcr/clones/CLONES_TRBCHP_334-03_cfDNA.txt\"               \n",
      " [2] \"batch13_cfDNA_11Sep2020/mixcr/clones/CLONES_TRBCHP_341-02_cfDNA.txt\"               \n",
      " [3] \"remaining_batch_2_cfDNA_15April2021/mixcr/clones/CLONES_TRBCHP_362-02_cfDNA.txt\"   \n",
      " [4] \"remaining_batch_2_cfDNA_15April2021/mixcr/clones/CLONES_TRBCHP_364-04-cfDNA.txt\"   \n",
      " [5] \"batch13_cfDNA_11Sep2020/mixcr/clones/CLONES_TRBCHP_367-04_cfDNA.txt\"               \n",
      " [6] \"batch13_cfDNA_11Sep2020/mixcr/clones/CLONES_TRBCHP_375-05_cfDNA.txt\"               \n",
      " [7] \"priority_pool2/mixcr/clones/CLONES_TRBCHP_380-05_cfDNA.txt\"                        \n",
      " [8] \"batch13_cfDNA_11Sep2020/mixcr/clones/CLONES_TRBCHP_382-05_cfDNA.txt\"               \n",
      " [9] \"remaining_batch_4_cfDNA_15April2021/mixcr/clones/CLONES_TRBCHP_385-04_cfDNA.txt\"   \n",
      "[10] \"cfDNA_Matched_Priority_Pool1_19Nov2021/mixcr/clones/CLONES_TRBCHP_388-02_cfDNA.txt\"\n",
      "[11] \"batch13_cfDNA_11Sep2020/mixcr/clones/CLONES_TRBCHP_388-05_cfDNA.txt\"               \n",
      "[12] \"batch13_cfDNA_11Sep2020/mixcr/clones/CLONES_TRBCHP_390-02_cfDNA.txt\"               \n",
      "[13] \"batch13_cfDNA_11Sep2020/mixcr/clones/CLONES_TRBCHP_392-02_cfDNA.txt\"               \n",
      "[14] \"batch13_cfDNA_11Sep2020/mixcr/clones/CLONES_TRBCHP_392-03_cfDNA.txt\"               \n",
      "[15] \"priority_pool2/mixcr/clones/CLONES_TRBCHP_404-02_cfDNA.txt\"                        \n",
      "[16] \"batch13_cfDNA_11Sep2020/mixcr/clones/CLONES_TRBCHP_404-05_cfDNA.txt\"               \n",
      "[17] \"priority_pool3/mixcr/clones/CLONES_TRBCHP_407-02_cfDNA.txt\"                        \n",
      "[18] \"batch13_cfDNA_11Sep2020/mixcr/clones/CLONES_TRBCHP_411-02_cfDNA.txt\"               \n"
     ]
    },
    {
     "name": "stderr",
     "output_type": "stream",
     "text": [
      "Total recovered clonotypes:\n",
      "\n"
     ]
    },
    {
     "name": "stdout",
     "output_type": "stream",
     "text": [
      "[1] 1057\n"
     ]
    },
    {
     "name": "stderr",
     "output_type": "stream",
     "text": [
      "Total out-of-frame clonotypes:\n",
      "\n"
     ]
    },
    {
     "name": "stdout",
     "output_type": "stream",
     "text": [
      "[1] 292\n"
     ]
    },
    {
     "name": "stderr",
     "output_type": "stream",
     "text": [
      "Total clonotypes with stop codon:\n",
      "\n"
     ]
    },
    {
     "name": "stdout",
     "output_type": "stream",
     "text": [
      "[1] 26\n"
     ]
    },
    {
     "name": "stderr",
     "output_type": "stream",
     "text": [
      "Total productive clonotypes:\n",
      "\n"
     ]
    },
    {
     "name": "stdout",
     "output_type": "stream",
     "text": [
      "[1] 739\n"
     ]
    },
    {
     "name": "stderr",
     "output_type": "stream",
     "text": [
      "Output contains in_frame clonotypes only\n",
      "\n"
     ]
    }
   ],
   "source": [
    "cdr3df <- cdr3_dataframe.fx(h4hpath, \"TRB\", myfiles, \"inframe\")"
   ]
  },
  {
   "cell_type": "code",
   "execution_count": 307,
   "metadata": {
    "vscode": {
     "languageId": "r"
    }
   },
   "outputs": [],
   "source": [
    "tmp <- meta_div[meta_div$basename %in% mysamples,]"
   ]
  },
  {
   "cell_type": "code",
   "execution_count": 315,
   "metadata": {
    "vscode": {
     "languageId": "r"
    }
   },
   "outputs": [],
   "source": [
    "tmp1 <- tmp[order(tmp$Relapse),]"
   ]
  },
  {
   "cell_type": "code",
   "execution_count": 316,
   "metadata": {
    "vscode": {
     "languageId": "r"
    }
   },
   "outputs": [
    {
     "data": {
      "text/html": [
       "<table class=\"dataframe\">\n",
       "<caption>A data.frame: 18 x 2</caption>\n",
       "<thead>\n",
       "\t<tr><th></th><th scope=col>basename</th><th scope=col>Relapse</th></tr>\n",
       "\t<tr><th></th><th scope=col>&lt;chr&gt;</th><th scope=col>&lt;int&gt;</th></tr>\n",
       "</thead>\n",
       "<tbody>\n",
       "\t<tr><th scope=row>12</th><td>CHP_334-03_cfDNA</td><td>0</td></tr>\n",
       "\t<tr><th scope=row>29</th><td>CHP_341-02_cfDNA</td><td>0</td></tr>\n",
       "\t<tr><th scope=row>92</th><td>CHP_362-02_cfDNA</td><td>0</td></tr>\n",
       "\t<tr><th scope=row>110</th><td>CHP_367-04_cfDNA</td><td>0</td></tr>\n",
       "\t<tr><th scope=row>135</th><td>CHP_375-05_cfDNA</td><td>0</td></tr>\n",
       "\t<tr><th scope=row>157</th><td>CHP_382-05_cfDNA</td><td>0</td></tr>\n",
       "\t<tr><th scope=row>166</th><td>CHP_385-04_cfDNA</td><td>0</td></tr>\n",
       "\t<tr><th scope=row>177</th><td>CHP_388-02_cfDNA</td><td>0</td></tr>\n",
       "\t<tr><th scope=row>180</th><td>CHP_388-05_cfDNA</td><td>0</td></tr>\n",
       "\t<tr><th scope=row>195</th><td>CHP_392-02_cfDNA</td><td>0</td></tr>\n",
       "\t<tr><th scope=row>196</th><td>CHP_392-03_cfDNA</td><td>0</td></tr>\n",
       "\t<tr><th scope=row>241</th><td>CHP_404-02_cfDNA</td><td>0</td></tr>\n",
       "\t<tr><th scope=row>244</th><td>CHP_404-05_cfDNA</td><td>0</td></tr>\n",
       "\t<tr><th scope=row>250</th><td>CHP_407-02_cfDNA</td><td>0</td></tr>\n",
       "\t<tr><th scope=row>100</th><td>CHP_364-04-cfDNA</td><td>1</td></tr>\n",
       "\t<tr><th scope=row>150</th><td>CHP_380-05_cfDNA</td><td>1</td></tr>\n",
       "\t<tr><th scope=row>186</th><td>CHP_390-02_cfDNA</td><td>1</td></tr>\n",
       "\t<tr><th scope=row>264</th><td>CHP_411-02_cfDNA</td><td>1</td></tr>\n",
       "</tbody>\n",
       "</table>\n"
      ],
      "text/latex": [
       "A data.frame: 18 x 2\n",
       "\\begin{tabular}{r|ll}\n",
       "  & basename & Relapse\\\\\n",
       "  & <chr> & <int>\\\\\n",
       "\\hline\n",
       "\t12 & CHP\\_334-03\\_cfDNA & 0\\\\\n",
       "\t29 & CHP\\_341-02\\_cfDNA & 0\\\\\n",
       "\t92 & CHP\\_362-02\\_cfDNA & 0\\\\\n",
       "\t110 & CHP\\_367-04\\_cfDNA & 0\\\\\n",
       "\t135 & CHP\\_375-05\\_cfDNA & 0\\\\\n",
       "\t157 & CHP\\_382-05\\_cfDNA & 0\\\\\n",
       "\t166 & CHP\\_385-04\\_cfDNA & 0\\\\\n",
       "\t177 & CHP\\_388-02\\_cfDNA & 0\\\\\n",
       "\t180 & CHP\\_388-05\\_cfDNA & 0\\\\\n",
       "\t195 & CHP\\_392-02\\_cfDNA & 0\\\\\n",
       "\t196 & CHP\\_392-03\\_cfDNA & 0\\\\\n",
       "\t241 & CHP\\_404-02\\_cfDNA & 0\\\\\n",
       "\t244 & CHP\\_404-05\\_cfDNA & 0\\\\\n",
       "\t250 & CHP\\_407-02\\_cfDNA & 0\\\\\n",
       "\t100 & CHP\\_364-04-cfDNA & 1\\\\\n",
       "\t150 & CHP\\_380-05\\_cfDNA & 1\\\\\n",
       "\t186 & CHP\\_390-02\\_cfDNA & 1\\\\\n",
       "\t264 & CHP\\_411-02\\_cfDNA & 1\\\\\n",
       "\\end{tabular}\n"
      ],
      "text/markdown": [
       "\n",
       "A data.frame: 18 x 2\n",
       "\n",
       "| <!--/--> | basename &lt;chr&gt; | Relapse &lt;int&gt; |\n",
       "|---|---|---|\n",
       "| 12 | CHP_334-03_cfDNA | 0 |\n",
       "| 29 | CHP_341-02_cfDNA | 0 |\n",
       "| 92 | CHP_362-02_cfDNA | 0 |\n",
       "| 110 | CHP_367-04_cfDNA | 0 |\n",
       "| 135 | CHP_375-05_cfDNA | 0 |\n",
       "| 157 | CHP_382-05_cfDNA | 0 |\n",
       "| 166 | CHP_385-04_cfDNA | 0 |\n",
       "| 177 | CHP_388-02_cfDNA | 0 |\n",
       "| 180 | CHP_388-05_cfDNA | 0 |\n",
       "| 195 | CHP_392-02_cfDNA | 0 |\n",
       "| 196 | CHP_392-03_cfDNA | 0 |\n",
       "| 241 | CHP_404-02_cfDNA | 0 |\n",
       "| 244 | CHP_404-05_cfDNA | 0 |\n",
       "| 250 | CHP_407-02_cfDNA | 0 |\n",
       "| 100 | CHP_364-04-cfDNA | 1 |\n",
       "| 150 | CHP_380-05_cfDNA | 1 |\n",
       "| 186 | CHP_390-02_cfDNA | 1 |\n",
       "| 264 | CHP_411-02_cfDNA | 1 |\n",
       "\n"
      ],
      "text/plain": [
       "    basename         Relapse\n",
       "12  CHP_334-03_cfDNA 0      \n",
       "29  CHP_341-02_cfDNA 0      \n",
       "92  CHP_362-02_cfDNA 0      \n",
       "110 CHP_367-04_cfDNA 0      \n",
       "135 CHP_375-05_cfDNA 0      \n",
       "157 CHP_382-05_cfDNA 0      \n",
       "166 CHP_385-04_cfDNA 0      \n",
       "177 CHP_388-02_cfDNA 0      \n",
       "180 CHP_388-05_cfDNA 0      \n",
       "195 CHP_392-02_cfDNA 0      \n",
       "196 CHP_392-03_cfDNA 0      \n",
       "241 CHP_404-02_cfDNA 0      \n",
       "244 CHP_404-05_cfDNA 0      \n",
       "250 CHP_407-02_cfDNA 0      \n",
       "100 CHP_364-04-cfDNA 1      \n",
       "150 CHP_380-05_cfDNA 1      \n",
       "186 CHP_390-02_cfDNA 1      \n",
       "264 CHP_411-02_cfDNA 1      "
      ]
     },
     "metadata": {},
     "output_type": "display_data"
    }
   ],
   "source": [
    "tmp1[, c(\"basename\",\"Relapse\")]"
   ]
  },
  {
   "cell_type": "code",
   "execution_count": 318,
   "metadata": {
    "vscode": {
     "languageId": "r"
    }
   },
   "outputs": [],
   "source": [
    "rel <- tmp1$basename[ tmp1$Relapse == 1]\n",
    "norel <- tmp1$basename[ tmp1$Relapse == 0]"
   ]
  },
  {
   "cell_type": "code",
   "execution_count": 319,
   "metadata": {
    "vscode": {
     "languageId": "r"
    }
   },
   "outputs": [],
   "source": [
    "cdr3df$samplename <- factor(cdr3df$samplename, levels = tmp1$basename)"
   ]
  },
  {
   "cell_type": "code",
   "execution_count": 320,
   "metadata": {
    "vscode": {
     "languageId": "r"
    }
   },
   "outputs": [],
   "source": [
    "set.seed(123)\n",
    "# CDR3_fraction <- cdr3df[, c(\"samplename\", \"nSeqCDR3\", \"cloneFraction\", \"cloneCount\")]\n",
    "cdr3df_rel <- cdr3df[cdr3df$samplename %in% rel,]\n",
    "cdr3df_norel <- cdr3df[cdr3df$samplename %in% norel,]\n",
    "# Assign colors to recurring nt clonotypes\n",
    "recurring <- unique(cdr3df$nSeqCDR3[duplicated(cdr3df$nSeqCDR3)])\n",
    "notrecurring <- cdr3df$nSeqCDR3[!cdr3df$nSeqCDR3 %in% recurring]"
   ]
  },
  {
   "cell_type": "code",
   "execution_count": 322,
   "metadata": {
    "vscode": {
     "languageId": "r"
    }
   },
   "outputs": [
    {
     "data": {
      "text/html": [
       "146"
      ],
      "text/latex": [
       "146"
      ],
      "text/markdown": [
       "146"
      ],
      "text/plain": [
       "[1] 146"
      ]
     },
     "metadata": {},
     "output_type": "display_data"
    }
   ],
   "source": [
    "length(recurring)"
   ]
  },
  {
   "cell_type": "code",
   "execution_count": 334,
   "metadata": {
    "vscode": {
     "languageId": "r"
    }
   },
   "outputs": [],
   "source": [
    "mytab <- as.data.frame.matrix(table(cdr3df$nSeqCDR3, cdr3df$samplename))"
   ]
  },
  {
   "cell_type": "code",
   "execution_count": 336,
   "metadata": {
    "vscode": {
     "languageId": "r"
    }
   },
   "outputs": [],
   "source": [
    "mytab$n <- rowSums(mytab)"
   ]
  },
  {
   "cell_type": "code",
   "execution_count": 337,
   "metadata": {
    "vscode": {
     "languageId": "r"
    }
   },
   "outputs": [],
   "source": [
    "mytab$n_rel <- rowSums(mytab[ , rel])"
   ]
  },
  {
   "cell_type": "code",
   "execution_count": 345,
   "metadata": {
    "vscode": {
     "languageId": "r"
    }
   },
   "outputs": [
    {
     "data": {
      "text/html": [
       "<style>\n",
       ".list-inline {list-style: none; margin:0; padding: 0}\n",
       ".list-inline>li {display: inline-block}\n",
       ".list-inline>li:not(:last-child)::after {content: \"\\00b7\"; padding: 0 .5ex}\n",
       "</style>\n",
       "<ol class=list-inline><li>477</li><li>20</li></ol>\n"
      ],
      "text/latex": [
       "\\begin{enumerate*}\n",
       "\\item 477\n",
       "\\item 20\n",
       "\\end{enumerate*}\n"
      ],
      "text/markdown": [
       "1. 477\n",
       "2. 20\n",
       "\n",
       "\n"
      ],
      "text/plain": [
       "[1] 477  20"
      ]
     },
     "metadata": {},
     "output_type": "display_data"
    }
   ],
   "source": [
    "dim(mytab)"
   ]
  },
  {
   "cell_type": "code",
   "execution_count": 339,
   "metadata": {
    "vscode": {
     "languageId": "r"
    }
   },
   "outputs": [],
   "source": [
    "mytab_common <- mytab[ mytab$n > 1,]"
   ]
  },
  {
   "cell_type": "code",
   "execution_count": 343,
   "metadata": {
    "vscode": {
     "languageId": "r"
    }
   },
   "outputs": [
    {
     "data": {
      "text/html": [
       "7"
      ],
      "text/latex": [
       "7"
      ],
      "text/markdown": [
       "7"
      ],
      "text/plain": [
       "[1] 7"
      ]
     },
     "metadata": {},
     "output_type": "display_data"
    }
   ],
   "source": [
    "length(mytab_common$n_rel[ mytab_common$n_rel > 1] )"
   ]
  },
  {
   "cell_type": "code",
   "execution_count": 346,
   "metadata": {
    "vscode": {
     "languageId": "r"
    }
   },
   "outputs": [
    {
     "data": {
      "text/html": [
       "<table class=\"dataframe\">\n",
       "<caption>A data.frame: 6 x 20</caption>\n",
       "<thead>\n",
       "\t<tr><th></th><th scope=col>CHP_334-03_cfDNA</th><th scope=col>CHP_341-02_cfDNA</th><th scope=col>CHP_362-02_cfDNA</th><th scope=col>CHP_367-04_cfDNA</th><th scope=col>CHP_375-05_cfDNA</th><th scope=col>CHP_382-05_cfDNA</th><th scope=col>CHP_385-04_cfDNA</th><th scope=col>CHP_388-02_cfDNA</th><th scope=col>CHP_388-05_cfDNA</th><th scope=col>CHP_392-02_cfDNA</th><th scope=col>CHP_392-03_cfDNA</th><th scope=col>CHP_404-02_cfDNA</th><th scope=col>CHP_404-05_cfDNA</th><th scope=col>CHP_407-02_cfDNA</th><th scope=col>CHP_364-04-cfDNA</th><th scope=col>CHP_380-05_cfDNA</th><th scope=col>CHP_390-02_cfDNA</th><th scope=col>CHP_411-02_cfDNA</th><th scope=col>n</th><th scope=col>n_rel</th></tr>\n",
       "\t<tr><th></th><th scope=col>&lt;int&gt;</th><th scope=col>&lt;int&gt;</th><th scope=col>&lt;int&gt;</th><th scope=col>&lt;int&gt;</th><th scope=col>&lt;int&gt;</th><th scope=col>&lt;int&gt;</th><th scope=col>&lt;int&gt;</th><th scope=col>&lt;int&gt;</th><th scope=col>&lt;int&gt;</th><th scope=col>&lt;int&gt;</th><th scope=col>&lt;int&gt;</th><th scope=col>&lt;int&gt;</th><th scope=col>&lt;int&gt;</th><th scope=col>&lt;int&gt;</th><th scope=col>&lt;int&gt;</th><th scope=col>&lt;int&gt;</th><th scope=col>&lt;int&gt;</th><th scope=col>&lt;int&gt;</th><th scope=col>&lt;dbl&gt;</th><th scope=col>&lt;dbl&gt;</th></tr>\n",
       "</thead>\n",
       "<tbody>\n",
       "\t<tr><th scope=row>TGCACCAGCAGCCAAGATGTTTGTGCCGTCACCCCGCGAATCTACAATGAGCAGTTCTTC</th><td>0</td><td>0</td><td>0</td><td>1</td><td>0</td><td>0</td><td>0</td><td>0</td><td>0</td><td>1</td><td>0</td><td>0</td><td>1</td><td>0</td><td>0</td><td>0</td><td>0</td><td>0</td><td>3</td><td>0</td></tr>\n",
       "\t<tr><th scope=row>TGCAGCGCCCCGGACAGGGAATCCTACGAGCAGTACTTC</th><td>0</td><td>0</td><td>0</td><td>1</td><td>1</td><td>0</td><td>0</td><td>0</td><td>0</td><td>1</td><td>0</td><td>0</td><td>1</td><td>0</td><td>0</td><td>0</td><td>0</td><td>0</td><td>4</td><td>0</td></tr>\n",
       "\t<tr><th scope=row>TGCAGCGCCCTGACAGGAAATTACTATGGCTACACCTTC</th><td>0</td><td>0</td><td>0</td><td>1</td><td>0</td><td>0</td><td>0</td><td>0</td><td>0</td><td>1</td><td>0</td><td>0</td><td>0</td><td>0</td><td>0</td><td>0</td><td>0</td><td>0</td><td>2</td><td>0</td></tr>\n",
       "\t<tr><th scope=row>TGCAGCGTTGCGGGGGGTCCGAACACCGGGGAGCTGTTTTTT</th><td>0</td><td>0</td><td>0</td><td>0</td><td>1</td><td>0</td><td>0</td><td>0</td><td>0</td><td>1</td><td>0</td><td>0</td><td>0</td><td>0</td><td>0</td><td>0</td><td>0</td><td>0</td><td>2</td><td>0</td></tr>\n",
       "\t<tr><th scope=row>TGCAGCGTTGGGAAAACAGGGCGCGCTAACCGGCTGAACACTGAAGCTTTCTTT</th><td>0</td><td>0</td><td>0</td><td>1</td><td>0</td><td>0</td><td>0</td><td>0</td><td>0</td><td>1</td><td>0</td><td>0</td><td>0</td><td>0</td><td>0</td><td>0</td><td>0</td><td>1</td><td>3</td><td>1</td></tr>\n",
       "\t<tr><th scope=row>TGCAGCGTTGTGGGGGCAGTAGCTTTCTTT</th><td>0</td><td>1</td><td>0</td><td>1</td><td>0</td><td>0</td><td>0</td><td>0</td><td>0</td><td>0</td><td>0</td><td>0</td><td>0</td><td>0</td><td>0</td><td>0</td><td>1</td><td>0</td><td>3</td><td>1</td></tr>\n",
       "</tbody>\n",
       "</table>\n"
      ],
      "text/latex": [
       "A data.frame: 6 x 20\n",
       "\\begin{tabular}{r|llllllllllllllllllll}\n",
       "  & CHP\\_334-03\\_cfDNA & CHP\\_341-02\\_cfDNA & CHP\\_362-02\\_cfDNA & CHP\\_367-04\\_cfDNA & CHP\\_375-05\\_cfDNA & CHP\\_382-05\\_cfDNA & CHP\\_385-04\\_cfDNA & CHP\\_388-02\\_cfDNA & CHP\\_388-05\\_cfDNA & CHP\\_392-02\\_cfDNA & CHP\\_392-03\\_cfDNA & CHP\\_404-02\\_cfDNA & CHP\\_404-05\\_cfDNA & CHP\\_407-02\\_cfDNA & CHP\\_364-04-cfDNA & CHP\\_380-05\\_cfDNA & CHP\\_390-02\\_cfDNA & CHP\\_411-02\\_cfDNA & n & n\\_rel\\\\\n",
       "  & <int> & <int> & <int> & <int> & <int> & <int> & <int> & <int> & <int> & <int> & <int> & <int> & <int> & <int> & <int> & <int> & <int> & <int> & <dbl> & <dbl>\\\\\n",
       "\\hline\n",
       "\tTGCACCAGCAGCCAAGATGTTTGTGCCGTCACCCCGCGAATCTACAATGAGCAGTTCTTC & 0 & 0 & 0 & 1 & 0 & 0 & 0 & 0 & 0 & 1 & 0 & 0 & 1 & 0 & 0 & 0 & 0 & 0 & 3 & 0\\\\\n",
       "\tTGCAGCGCCCCGGACAGGGAATCCTACGAGCAGTACTTC & 0 & 0 & 0 & 1 & 1 & 0 & 0 & 0 & 0 & 1 & 0 & 0 & 1 & 0 & 0 & 0 & 0 & 0 & 4 & 0\\\\\n",
       "\tTGCAGCGCCCTGACAGGAAATTACTATGGCTACACCTTC & 0 & 0 & 0 & 1 & 0 & 0 & 0 & 0 & 0 & 1 & 0 & 0 & 0 & 0 & 0 & 0 & 0 & 0 & 2 & 0\\\\\n",
       "\tTGCAGCGTTGCGGGGGGTCCGAACACCGGGGAGCTGTTTTTT & 0 & 0 & 0 & 0 & 1 & 0 & 0 & 0 & 0 & 1 & 0 & 0 & 0 & 0 & 0 & 0 & 0 & 0 & 2 & 0\\\\\n",
       "\tTGCAGCGTTGGGAAAACAGGGCGCGCTAACCGGCTGAACACTGAAGCTTTCTTT & 0 & 0 & 0 & 1 & 0 & 0 & 0 & 0 & 0 & 1 & 0 & 0 & 0 & 0 & 0 & 0 & 0 & 1 & 3 & 1\\\\\n",
       "\tTGCAGCGTTGTGGGGGCAGTAGCTTTCTTT & 0 & 1 & 0 & 1 & 0 & 0 & 0 & 0 & 0 & 0 & 0 & 0 & 0 & 0 & 0 & 0 & 1 & 0 & 3 & 1\\\\\n",
       "\\end{tabular}\n"
      ],
      "text/markdown": [
       "\n",
       "A data.frame: 6 x 20\n",
       "\n",
       "| <!--/--> | CHP_334-03_cfDNA &lt;int&gt; | CHP_341-02_cfDNA &lt;int&gt; | CHP_362-02_cfDNA &lt;int&gt; | CHP_367-04_cfDNA &lt;int&gt; | CHP_375-05_cfDNA &lt;int&gt; | CHP_382-05_cfDNA &lt;int&gt; | CHP_385-04_cfDNA &lt;int&gt; | CHP_388-02_cfDNA &lt;int&gt; | CHP_388-05_cfDNA &lt;int&gt; | CHP_392-02_cfDNA &lt;int&gt; | CHP_392-03_cfDNA &lt;int&gt; | CHP_404-02_cfDNA &lt;int&gt; | CHP_404-05_cfDNA &lt;int&gt; | CHP_407-02_cfDNA &lt;int&gt; | CHP_364-04-cfDNA &lt;int&gt; | CHP_380-05_cfDNA &lt;int&gt; | CHP_390-02_cfDNA &lt;int&gt; | CHP_411-02_cfDNA &lt;int&gt; | n &lt;dbl&gt; | n_rel &lt;dbl&gt; |\n",
       "|---|---|---|---|---|---|---|---|---|---|---|---|---|---|---|---|---|---|---|---|---|\n",
       "| TGCACCAGCAGCCAAGATGTTTGTGCCGTCACCCCGCGAATCTACAATGAGCAGTTCTTC | 0 | 0 | 0 | 1 | 0 | 0 | 0 | 0 | 0 | 1 | 0 | 0 | 1 | 0 | 0 | 0 | 0 | 0 | 3 | 0 |\n",
       "| TGCAGCGCCCCGGACAGGGAATCCTACGAGCAGTACTTC | 0 | 0 | 0 | 1 | 1 | 0 | 0 | 0 | 0 | 1 | 0 | 0 | 1 | 0 | 0 | 0 | 0 | 0 | 4 | 0 |\n",
       "| TGCAGCGCCCTGACAGGAAATTACTATGGCTACACCTTC | 0 | 0 | 0 | 1 | 0 | 0 | 0 | 0 | 0 | 1 | 0 | 0 | 0 | 0 | 0 | 0 | 0 | 0 | 2 | 0 |\n",
       "| TGCAGCGTTGCGGGGGGTCCGAACACCGGGGAGCTGTTTTTT | 0 | 0 | 0 | 0 | 1 | 0 | 0 | 0 | 0 | 1 | 0 | 0 | 0 | 0 | 0 | 0 | 0 | 0 | 2 | 0 |\n",
       "| TGCAGCGTTGGGAAAACAGGGCGCGCTAACCGGCTGAACACTGAAGCTTTCTTT | 0 | 0 | 0 | 1 | 0 | 0 | 0 | 0 | 0 | 1 | 0 | 0 | 0 | 0 | 0 | 0 | 0 | 1 | 3 | 1 |\n",
       "| TGCAGCGTTGTGGGGGCAGTAGCTTTCTTT | 0 | 1 | 0 | 1 | 0 | 0 | 0 | 0 | 0 | 0 | 0 | 0 | 0 | 0 | 0 | 0 | 1 | 0 | 3 | 1 |\n",
       "\n"
      ],
      "text/plain": [
       "                                                             CHP_334-03_cfDNA\n",
       "TGCACCAGCAGCCAAGATGTTTGTGCCGTCACCCCGCGAATCTACAATGAGCAGTTCTTC 0               \n",
       "TGCAGCGCCCCGGACAGGGAATCCTACGAGCAGTACTTC                      0               \n",
       "TGCAGCGCCCTGACAGGAAATTACTATGGCTACACCTTC                      0               \n",
       "TGCAGCGTTGCGGGGGGTCCGAACACCGGGGAGCTGTTTTTT                   0               \n",
       "TGCAGCGTTGGGAAAACAGGGCGCGCTAACCGGCTGAACACTGAAGCTTTCTTT       0               \n",
       "TGCAGCGTTGTGGGGGCAGTAGCTTTCTTT                               0               \n",
       "                                                             CHP_341-02_cfDNA\n",
       "TGCACCAGCAGCCAAGATGTTTGTGCCGTCACCCCGCGAATCTACAATGAGCAGTTCTTC 0               \n",
       "TGCAGCGCCCCGGACAGGGAATCCTACGAGCAGTACTTC                      0               \n",
       "TGCAGCGCCCTGACAGGAAATTACTATGGCTACACCTTC                      0               \n",
       "TGCAGCGTTGCGGGGGGTCCGAACACCGGGGAGCTGTTTTTT                   0               \n",
       "TGCAGCGTTGGGAAAACAGGGCGCGCTAACCGGCTGAACACTGAAGCTTTCTTT       0               \n",
       "TGCAGCGTTGTGGGGGCAGTAGCTTTCTTT                               1               \n",
       "                                                             CHP_362-02_cfDNA\n",
       "TGCACCAGCAGCCAAGATGTTTGTGCCGTCACCCCGCGAATCTACAATGAGCAGTTCTTC 0               \n",
       "TGCAGCGCCCCGGACAGGGAATCCTACGAGCAGTACTTC                      0               \n",
       "TGCAGCGCCCTGACAGGAAATTACTATGGCTACACCTTC                      0               \n",
       "TGCAGCGTTGCGGGGGGTCCGAACACCGGGGAGCTGTTTTTT                   0               \n",
       "TGCAGCGTTGGGAAAACAGGGCGCGCTAACCGGCTGAACACTGAAGCTTTCTTT       0               \n",
       "TGCAGCGTTGTGGGGGCAGTAGCTTTCTTT                               0               \n",
       "                                                             CHP_367-04_cfDNA\n",
       "TGCACCAGCAGCCAAGATGTTTGTGCCGTCACCCCGCGAATCTACAATGAGCAGTTCTTC 1               \n",
       "TGCAGCGCCCCGGACAGGGAATCCTACGAGCAGTACTTC                      1               \n",
       "TGCAGCGCCCTGACAGGAAATTACTATGGCTACACCTTC                      1               \n",
       "TGCAGCGTTGCGGGGGGTCCGAACACCGGGGAGCTGTTTTTT                   0               \n",
       "TGCAGCGTTGGGAAAACAGGGCGCGCTAACCGGCTGAACACTGAAGCTTTCTTT       1               \n",
       "TGCAGCGTTGTGGGGGCAGTAGCTTTCTTT                               1               \n",
       "                                                             CHP_375-05_cfDNA\n",
       "TGCACCAGCAGCCAAGATGTTTGTGCCGTCACCCCGCGAATCTACAATGAGCAGTTCTTC 0               \n",
       "TGCAGCGCCCCGGACAGGGAATCCTACGAGCAGTACTTC                      1               \n",
       "TGCAGCGCCCTGACAGGAAATTACTATGGCTACACCTTC                      0               \n",
       "TGCAGCGTTGCGGGGGGTCCGAACACCGGGGAGCTGTTTTTT                   1               \n",
       "TGCAGCGTTGGGAAAACAGGGCGCGCTAACCGGCTGAACACTGAAGCTTTCTTT       0               \n",
       "TGCAGCGTTGTGGGGGCAGTAGCTTTCTTT                               0               \n",
       "                                                             CHP_382-05_cfDNA\n",
       "TGCACCAGCAGCCAAGATGTTTGTGCCGTCACCCCGCGAATCTACAATGAGCAGTTCTTC 0               \n",
       "TGCAGCGCCCCGGACAGGGAATCCTACGAGCAGTACTTC                      0               \n",
       "TGCAGCGCCCTGACAGGAAATTACTATGGCTACACCTTC                      0               \n",
       "TGCAGCGTTGCGGGGGGTCCGAACACCGGGGAGCTGTTTTTT                   0               \n",
       "TGCAGCGTTGGGAAAACAGGGCGCGCTAACCGGCTGAACACTGAAGCTTTCTTT       0               \n",
       "TGCAGCGTTGTGGGGGCAGTAGCTTTCTTT                               0               \n",
       "                                                             CHP_385-04_cfDNA\n",
       "TGCACCAGCAGCCAAGATGTTTGTGCCGTCACCCCGCGAATCTACAATGAGCAGTTCTTC 0               \n",
       "TGCAGCGCCCCGGACAGGGAATCCTACGAGCAGTACTTC                      0               \n",
       "TGCAGCGCCCTGACAGGAAATTACTATGGCTACACCTTC                      0               \n",
       "TGCAGCGTTGCGGGGGGTCCGAACACCGGGGAGCTGTTTTTT                   0               \n",
       "TGCAGCGTTGGGAAAACAGGGCGCGCTAACCGGCTGAACACTGAAGCTTTCTTT       0               \n",
       "TGCAGCGTTGTGGGGGCAGTAGCTTTCTTT                               0               \n",
       "                                                             CHP_388-02_cfDNA\n",
       "TGCACCAGCAGCCAAGATGTTTGTGCCGTCACCCCGCGAATCTACAATGAGCAGTTCTTC 0               \n",
       "TGCAGCGCCCCGGACAGGGAATCCTACGAGCAGTACTTC                      0               \n",
       "TGCAGCGCCCTGACAGGAAATTACTATGGCTACACCTTC                      0               \n",
       "TGCAGCGTTGCGGGGGGTCCGAACACCGGGGAGCTGTTTTTT                   0               \n",
       "TGCAGCGTTGGGAAAACAGGGCGCGCTAACCGGCTGAACACTGAAGCTTTCTTT       0               \n",
       "TGCAGCGTTGTGGGGGCAGTAGCTTTCTTT                               0               \n",
       "                                                             CHP_388-05_cfDNA\n",
       "TGCACCAGCAGCCAAGATGTTTGTGCCGTCACCCCGCGAATCTACAATGAGCAGTTCTTC 0               \n",
       "TGCAGCGCCCCGGACAGGGAATCCTACGAGCAGTACTTC                      0               \n",
       "TGCAGCGCCCTGACAGGAAATTACTATGGCTACACCTTC                      0               \n",
       "TGCAGCGTTGCGGGGGGTCCGAACACCGGGGAGCTGTTTTTT                   0               \n",
       "TGCAGCGTTGGGAAAACAGGGCGCGCTAACCGGCTGAACACTGAAGCTTTCTTT       0               \n",
       "TGCAGCGTTGTGGGGGCAGTAGCTTTCTTT                               0               \n",
       "                                                             CHP_392-02_cfDNA\n",
       "TGCACCAGCAGCCAAGATGTTTGTGCCGTCACCCCGCGAATCTACAATGAGCAGTTCTTC 1               \n",
       "TGCAGCGCCCCGGACAGGGAATCCTACGAGCAGTACTTC                      1               \n",
       "TGCAGCGCCCTGACAGGAAATTACTATGGCTACACCTTC                      1               \n",
       "TGCAGCGTTGCGGGGGGTCCGAACACCGGGGAGCTGTTTTTT                   1               \n",
       "TGCAGCGTTGGGAAAACAGGGCGCGCTAACCGGCTGAACACTGAAGCTTTCTTT       1               \n",
       "TGCAGCGTTGTGGGGGCAGTAGCTTTCTTT                               0               \n",
       "                                                             CHP_392-03_cfDNA\n",
       "TGCACCAGCAGCCAAGATGTTTGTGCCGTCACCCCGCGAATCTACAATGAGCAGTTCTTC 0               \n",
       "TGCAGCGCCCCGGACAGGGAATCCTACGAGCAGTACTTC                      0               \n",
       "TGCAGCGCCCTGACAGGAAATTACTATGGCTACACCTTC                      0               \n",
       "TGCAGCGTTGCGGGGGGTCCGAACACCGGGGAGCTGTTTTTT                   0               \n",
       "TGCAGCGTTGGGAAAACAGGGCGCGCTAACCGGCTGAACACTGAAGCTTTCTTT       0               \n",
       "TGCAGCGTTGTGGGGGCAGTAGCTTTCTTT                               0               \n",
       "                                                             CHP_404-02_cfDNA\n",
       "TGCACCAGCAGCCAAGATGTTTGTGCCGTCACCCCGCGAATCTACAATGAGCAGTTCTTC 0               \n",
       "TGCAGCGCCCCGGACAGGGAATCCTACGAGCAGTACTTC                      0               \n",
       "TGCAGCGCCCTGACAGGAAATTACTATGGCTACACCTTC                      0               \n",
       "TGCAGCGTTGCGGGGGGTCCGAACACCGGGGAGCTGTTTTTT                   0               \n",
       "TGCAGCGTTGGGAAAACAGGGCGCGCTAACCGGCTGAACACTGAAGCTTTCTTT       0               \n",
       "TGCAGCGTTGTGGGGGCAGTAGCTTTCTTT                               0               \n",
       "                                                             CHP_404-05_cfDNA\n",
       "TGCACCAGCAGCCAAGATGTTTGTGCCGTCACCCCGCGAATCTACAATGAGCAGTTCTTC 1               \n",
       "TGCAGCGCCCCGGACAGGGAATCCTACGAGCAGTACTTC                      1               \n",
       "TGCAGCGCCCTGACAGGAAATTACTATGGCTACACCTTC                      0               \n",
       "TGCAGCGTTGCGGGGGGTCCGAACACCGGGGAGCTGTTTTTT                   0               \n",
       "TGCAGCGTTGGGAAAACAGGGCGCGCTAACCGGCTGAACACTGAAGCTTTCTTT       0               \n",
       "TGCAGCGTTGTGGGGGCAGTAGCTTTCTTT                               0               \n",
       "                                                             CHP_407-02_cfDNA\n",
       "TGCACCAGCAGCCAAGATGTTTGTGCCGTCACCCCGCGAATCTACAATGAGCAGTTCTTC 0               \n",
       "TGCAGCGCCCCGGACAGGGAATCCTACGAGCAGTACTTC                      0               \n",
       "TGCAGCGCCCTGACAGGAAATTACTATGGCTACACCTTC                      0               \n",
       "TGCAGCGTTGCGGGGGGTCCGAACACCGGGGAGCTGTTTTTT                   0               \n",
       "TGCAGCGTTGGGAAAACAGGGCGCGCTAACCGGCTGAACACTGAAGCTTTCTTT       0               \n",
       "TGCAGCGTTGTGGGGGCAGTAGCTTTCTTT                               0               \n",
       "                                                             CHP_364-04-cfDNA\n",
       "TGCACCAGCAGCCAAGATGTTTGTGCCGTCACCCCGCGAATCTACAATGAGCAGTTCTTC 0               \n",
       "TGCAGCGCCCCGGACAGGGAATCCTACGAGCAGTACTTC                      0               \n",
       "TGCAGCGCCCTGACAGGAAATTACTATGGCTACACCTTC                      0               \n",
       "TGCAGCGTTGCGGGGGGTCCGAACACCGGGGAGCTGTTTTTT                   0               \n",
       "TGCAGCGTTGGGAAAACAGGGCGCGCTAACCGGCTGAACACTGAAGCTTTCTTT       0               \n",
       "TGCAGCGTTGTGGGGGCAGTAGCTTTCTTT                               0               \n",
       "                                                             CHP_380-05_cfDNA\n",
       "TGCACCAGCAGCCAAGATGTTTGTGCCGTCACCCCGCGAATCTACAATGAGCAGTTCTTC 0               \n",
       "TGCAGCGCCCCGGACAGGGAATCCTACGAGCAGTACTTC                      0               \n",
       "TGCAGCGCCCTGACAGGAAATTACTATGGCTACACCTTC                      0               \n",
       "TGCAGCGTTGCGGGGGGTCCGAACACCGGGGAGCTGTTTTTT                   0               \n",
       "TGCAGCGTTGGGAAAACAGGGCGCGCTAACCGGCTGAACACTGAAGCTTTCTTT       0               \n",
       "TGCAGCGTTGTGGGGGCAGTAGCTTTCTTT                               0               \n",
       "                                                             CHP_390-02_cfDNA\n",
       "TGCACCAGCAGCCAAGATGTTTGTGCCGTCACCCCGCGAATCTACAATGAGCAGTTCTTC 0               \n",
       "TGCAGCGCCCCGGACAGGGAATCCTACGAGCAGTACTTC                      0               \n",
       "TGCAGCGCCCTGACAGGAAATTACTATGGCTACACCTTC                      0               \n",
       "TGCAGCGTTGCGGGGGGTCCGAACACCGGGGAGCTGTTTTTT                   0               \n",
       "TGCAGCGTTGGGAAAACAGGGCGCGCTAACCGGCTGAACACTGAAGCTTTCTTT       0               \n",
       "TGCAGCGTTGTGGGGGCAGTAGCTTTCTTT                               1               \n",
       "                                                             CHP_411-02_cfDNA n\n",
       "TGCACCAGCAGCCAAGATGTTTGTGCCGTCACCCCGCGAATCTACAATGAGCAGTTCTTC 0                3\n",
       "TGCAGCGCCCCGGACAGGGAATCCTACGAGCAGTACTTC                      0                4\n",
       "TGCAGCGCCCTGACAGGAAATTACTATGGCTACACCTTC                      0                2\n",
       "TGCAGCGTTGCGGGGGGTCCGAACACCGGGGAGCTGTTTTTT                   0                2\n",
       "TGCAGCGTTGGGAAAACAGGGCGCGCTAACCGGCTGAACACTGAAGCTTTCTTT       1                3\n",
       "TGCAGCGTTGTGGGGGCAGTAGCTTTCTTT                               0                3\n",
       "                                                             n_rel\n",
       "TGCACCAGCAGCCAAGATGTTTGTGCCGTCACCCCGCGAATCTACAATGAGCAGTTCTTC 0    \n",
       "TGCAGCGCCCCGGACAGGGAATCCTACGAGCAGTACTTC                      0    \n",
       "TGCAGCGCCCTGACAGGAAATTACTATGGCTACACCTTC                      0    \n",
       "TGCAGCGTTGCGGGGGGTCCGAACACCGGGGAGCTGTTTTTT                   0    \n",
       "TGCAGCGTTGGGAAAACAGGGCGCGCTAACCGGCTGAACACTGAAGCTTTCTTT       1    \n",
       "TGCAGCGTTGTGGGGGCAGTAGCTTTCTTT                               1    "
      ]
     },
     "metadata": {},
     "output_type": "display_data"
    }
   ],
   "source": [
    "head(mytab_common)"
   ]
  },
  {
   "cell_type": "code",
   "execution_count": 347,
   "metadata": {
    "vscode": {
     "languageId": "r"
    }
   },
   "outputs": [],
   "source": [
    "recurring <- rownames(mytab_common)[ mytab_common$n_rel > 1]\n",
    "others <- rownames(mytab)[ ! rownames(mytab) %in% recurring]"
   ]
  },
  {
   "cell_type": "code",
   "execution_count": 351,
   "metadata": {
    "vscode": {
     "languageId": "r"
    }
   },
   "outputs": [
    {
     "data": {
      "text/html": [
       "<style>\n",
       ".list-inline {list-style: none; margin:0; padding: 0}\n",
       ".list-inline>li {display: inline-block}\n",
       ".list-inline>li:not(:last-child)::after {content: \"\\00b7\"; padding: 0 .5ex}\n",
       "</style>\n",
       "<ol class=list-inline><li>'CCTCCCCGGTGGGGGGGCACAGATACGCAGTATTTT'</li><li>'TATGCCAGCAGCTTAACCGAGACAGGAGACACCGGGGAGCTGTTTTTT'</li><li>'TGCACCAGCAGCCAAGATGTTTGTGCCGTCACCCCGCGAATCTACAATGAGCAGTTCTTC'</li><li>'TGCAGCGACCTTACAGGGGGGAACACTGAAGCTTTCTTT'</li><li>'TGCAGCGCCCCGGACAGGGAATCCTACGAGCAGTACTTC'</li><li>'TGCAGCGCCCTGACAGGAAATTACTATGGATACACCTTC'</li></ol>\n"
      ],
      "text/latex": [
       "\\begin{enumerate*}\n",
       "\\item 'CCTCCCCGGTGGGGGGGCACAGATACGCAGTATTTT'\n",
       "\\item 'TATGCCAGCAGCTTAACCGAGACAGGAGACACCGGGGAGCTGTTTTTT'\n",
       "\\item 'TGCACCAGCAGCCAAGATGTTTGTGCCGTCACCCCGCGAATCTACAATGAGCAGTTCTTC'\n",
       "\\item 'TGCAGCGACCTTACAGGGGGGAACACTGAAGCTTTCTTT'\n",
       "\\item 'TGCAGCGCCCCGGACAGGGAATCCTACGAGCAGTACTTC'\n",
       "\\item 'TGCAGCGCCCTGACAGGAAATTACTATGGATACACCTTC'\n",
       "\\end{enumerate*}\n"
      ],
      "text/markdown": [
       "1. 'CCTCCCCGGTGGGGGGGCACAGATACGCAGTATTTT'\n",
       "2. 'TATGCCAGCAGCTTAACCGAGACAGGAGACACCGGGGAGCTGTTTTTT'\n",
       "3. 'TGCACCAGCAGCCAAGATGTTTGTGCCGTCACCCCGCGAATCTACAATGAGCAGTTCTTC'\n",
       "4. 'TGCAGCGACCTTACAGGGGGGAACACTGAAGCTTTCTTT'\n",
       "5. 'TGCAGCGCCCCGGACAGGGAATCCTACGAGCAGTACTTC'\n",
       "6. 'TGCAGCGCCCTGACAGGAAATTACTATGGATACACCTTC'\n",
       "\n",
       "\n"
      ],
      "text/plain": [
       "[1] \"CCTCCCCGGTGGGGGGGCACAGATACGCAGTATTTT\"                        \n",
       "[2] \"TATGCCAGCAGCTTAACCGAGACAGGAGACACCGGGGAGCTGTTTTTT\"            \n",
       "[3] \"TGCACCAGCAGCCAAGATGTTTGTGCCGTCACCCCGCGAATCTACAATGAGCAGTTCTTC\"\n",
       "[4] \"TGCAGCGACCTTACAGGGGGGAACACTGAAGCTTTCTTT\"                     \n",
       "[5] \"TGCAGCGCCCCGGACAGGGAATCCTACGAGCAGTACTTC\"                     \n",
       "[6] \"TGCAGCGCCCTGACAGGAAATTACTATGGATACACCTTC\"                     "
      ]
     },
     "metadata": {},
     "output_type": "display_data"
    }
   ],
   "source": [
    "head(others)"
   ]
  },
  {
   "cell_type": "code",
   "execution_count": 360,
   "metadata": {
    "vscode": {
     "languageId": "r"
    }
   },
   "outputs": [],
   "source": [
    "myColors <- distinctColorPalette(7)\n",
    "myColors <- c(myColors, rep(\"white\", length(others)))\n",
    "names(myColors) <- c(recurring, others)"
   ]
  },
  {
   "cell_type": "code",
   "execution_count": null,
   "metadata": {
    "vscode": {
     "languageId": "r"
    }
   },
   "outputs": [
    {
     "data": {
      "text/html": [
       "<style>\n",
       ".list-inline {list-style: none; margin:0; padding: 0}\n",
       ".list-inline>li {display: inline-block}\n",
       ".list-inline>li:not(:last-child)::after {content: \"\\00b7\"; padding: 0 .5ex}\n",
       "</style>\n",
       "<ol class=list-inline><li>'#D6CE7A'</li><li>'#C158D8'</li><li>'#D97777'</li><li>'#98E665'</li><li>'#A194D6'</li><li>'#87DDC4'</li></ol>\n"
      ],
      "text/latex": [
       "\\begin{enumerate*}\n",
       "\\item '\\#D6CE7A'\n",
       "\\item '\\#C158D8'\n",
       "\\item '\\#D97777'\n",
       "\\item '\\#98E665'\n",
       "\\item '\\#A194D6'\n",
       "\\item '\\#87DDC4'\n",
       "\\end{enumerate*}\n"
      ],
      "text/markdown": [
       "1. '#D6CE7A'\n",
       "2. '#C158D8'\n",
       "3. '#D97777'\n",
       "4. '#98E665'\n",
       "5. '#A194D6'\n",
       "6. '#87DDC4'\n",
       "\n",
       "\n"
      ],
      "text/plain": [
       "[1] \"#D6CE7A\" \"#C158D8\" \"#D97777\" \"#98E665\" \"#A194D6\" \"#87DDC4\""
      ]
     },
     "metadata": {},
     "output_type": "display_data"
    },
    {
     "ename": "",
     "evalue": "",
     "output_type": "error",
     "traceback": [
      "\u001b[1;31mThe Kernel crashed while executing code in the current cell or a previous cell. \n",
      "\u001b[1;31mPlease review the code in the cell(s) to identify a possible cause of the failure. \n",
      "\u001b[1;31mClick <a href='https://aka.ms/vscodeJupyterKernelCrash'>here</a> for more info. \n",
      "\u001b[1;31mView Jupyter <a href='command:jupyter.viewOutput'>log</a> for further details."
     ]
    }
   ],
   "source": [
    "head(myColors)"
   ]
  },
  {
   "cell_type": "code",
   "execution_count": null,
   "metadata": {
    "vscode": {
     "languageId": "r"
    }
   },
   "outputs": [],
   "source": [
    "# if (length(recurring) > 50) {\n",
    "#     recurring_df <- CDR3_fraction[CDR3_fraction$nSeqCDR3 %in% recurring, ]\n",
    "#     recurringcdr3_ordered <- unique(recurring_df$nSeqCDR3[order(recurring_df$cloneCount, decreasing = TRUE)])\n",
    "#     message(\"Total number of recurring clonotypes > 50 \")\n",
    "#     message(\"Tracking top 20 recurring clonotypes \")\n",
    "#     myColors <- distinctColorPalette(20)\n",
    "\n",
    "#     myColors <- c(myColors, rep(\"white\", length(recurring) - 20), rep(\"white\", length(notrecurring)))\n",
    "#     names(myColors) <- c(recurringcdr3_ordered, notrecurring)\n",
    "# }\n",
    "\n",
    "# myColors <- distinctColorPalette(length(recurring))\n",
    "# myColors <- c(myColors, rep(\"white\", length(notrecurring)))\n",
    "# names(myColors) <- c(recurring, notrecurring)\n"
   ]
  },
  {
   "cell_type": "code",
   "execution_count": 357,
   "metadata": {
    "vscode": {
     "languageId": "r"
    }
   },
   "outputs": [],
   "source": [
    "p <-  ggplot(CDR3_fraction, aes(x = samplename,\n",
    "                                  y = cloneFraction,\n",
    "                                  fill = nSeqCDR3,\n",
    "                                  stratum = nSeqCDR3,\n",
    "                               #   alluvium = nSeqCDR3,\n",
    "                                  label = nSeqCDR3))"
   ]
  },
  {
   "cell_type": "code",
   "execution_count": 358,
   "metadata": {
    "vscode": {
     "languageId": "r"
    }
   },
   "outputs": [],
   "source": [
    "\n",
    "\n",
    "  myp <- p + #geom_alluvium(decreasing = FALSE) +\n",
    "    geom_stratum(decreasing = FALSE, stat = \"stratum\") +\n",
    "    scale_fill_manual(breaks = names(myColors[myColors != \"white\"]),\n",
    "                      values = myColors) +\n",
    "    theme(axis.title.y = element_text(size = 15),\n",
    "          axis.title.x = element_blank(),\n",
    "          axis.line = element_line(color = \"black\"),\n",
    "          axis.text = element_text(size = 15),\n",
    "          axis.text.x = element_text(angle = 45, hjust = 1),\n",
    "          plot.title = element_text(size = 15, hjust = 0.5)) +\n",
    "    theme(panel.grid.major = element_blank(),\n",
    "          panel.grid.minor = element_blank(),\n",
    "          panel.background = element_rect(fill = \"transparent\",colour = NA),\n",
    "          legend.key = element_rect(fill = \"white\", colour = \"white\"),\n",
    "          legend.position = \"none\",\n",
    "          plot.margin = unit(c(0.2,0,0,0),\"cm\")) "
   ]
  },
  {
   "cell_type": "code",
   "execution_count": 359,
   "metadata": {
    "vscode": {
     "languageId": "r"
    }
   },
   "outputs": [
    {
     "data": {
      "image/png": "[encoded data removed]",
      "text/plain": [
       "plot without title"
      ]
     },
     "metadata": {
      "image/png": {
       "height": 420,
       "width": 420
      }
     },
     "output_type": "display_data"
    }
   ],
   "source": [
    "myp"
   ]
  },
  {
   "cell_type": "code",
   "execution_count": 291,
   "metadata": {
    "vscode": {
     "languageId": "r"
    }
   },
   "outputs": [],
   "source": [
    "# clonetrack_p <- clonetrack[[1]]\n",
    "color_tcrs <- as.data.frame(myColors)"
   ]
  },
  {
   "cell_type": "code",
   "execution_count": 292,
   "metadata": {
    "vscode": {
     "languageId": "r"
    }
   },
   "outputs": [],
   "source": [
    "colnames(color_tcrs)[1] <- \"color\""
   ]
  },
  {
   "cell_type": "code",
   "execution_count": 293,
   "metadata": {
    "vscode": {
     "languageId": "r"
    }
   },
   "outputs": [],
   "source": [
    "color_tcrs$aaSeqCDR3 <- NA\n",
    "color_tcrs$aaSeqCDR3 <- cdr3df$aaSeqCDR3[match(rownames(color_tcrs), cdr3df$nSeqCDR3)]"
   ]
  },
  {
   "cell_type": "code",
   "execution_count": 303,
   "metadata": {
    "vscode": {
     "languageId": "r"
    }
   },
   "outputs": [
    {
     "data": {
      "text/html": [
       "<table class=\"dataframe\">\n",
       "<caption>A data.frame: 1 x 2</caption>\n",
       "<thead>\n",
       "\t<tr><th></th><th scope=col>color</th><th scope=col>aaSeqCDR3</th></tr>\n",
       "\t<tr><th></th><th scope=col>&lt;chr&gt;</th><th scope=col>&lt;chr&gt;</th></tr>\n",
       "</thead>\n",
       "<tbody>\n",
       "\t<tr><th scope=row>TGCGCCAGCAGCTTCGGGGGGGCCCCAGATACGCAGTATTTT</th><td>white</td><td>CASSFGGAPDTQYF</td></tr>\n",
       "</tbody>\n",
       "</table>\n"
      ],
      "text/latex": [
       "A data.frame: 1 x 2\n",
       "\\begin{tabular}{r|ll}\n",
       "  & color & aaSeqCDR3\\\\\n",
       "  & <chr> & <chr>\\\\\n",
       "\\hline\n",
       "\tTGCGCCAGCAGCTTCGGGGGGGCCCCAGATACGCAGTATTTT & white & CASSFGGAPDTQYF\\\\\n",
       "\\end{tabular}\n"
      ],
      "text/markdown": [
       "\n",
       "A data.frame: 1 x 2\n",
       "\n",
       "| <!--/--> | color &lt;chr&gt; | aaSeqCDR3 &lt;chr&gt; |\n",
       "|---|---|---|\n",
       "| TGCGCCAGCAGCTTCGGGGGGGCCCCAGATACGCAGTATTTT | white | CASSFGGAPDTQYF |\n",
       "\n"
      ],
      "text/plain": [
       "                                           color aaSeqCDR3     \n",
       "TGCGCCAGCAGCTTCGGGGGGGCCCCAGATACGCAGTATTTT white CASSFGGAPDTQYF"
      ]
     },
     "metadata": {},
     "output_type": "display_data"
    }
   ],
   "source": [
    "color_tcrs[color_tcrs$aaSeqCDR3 == \"CASSFGGAPDTQYF\",]"
   ]
  },
  {
   "cell_type": "code",
   "execution_count": null,
   "metadata": {
    "vscode": {
     "languageId": "r"
    }
   },
   "outputs": [],
   "source": []
  },
  {
   "cell_type": "code",
   "execution_count": 281,
   "metadata": {
    "vscode": {
     "languageId": "r"
    }
   },
   "outputs": [
    {
     "data": {
      "text/html": [
       "<table class=\"dataframe\">\n",
       "<caption>A data.frame: 101 x 2</caption>\n",
       "<thead>\n",
       "\t<tr><th></th><th scope=col>color</th><th scope=col>aaSeqCDR3</th></tr>\n",
       "\t<tr><th></th><th scope=col>&lt;chr&gt;</th><th scope=col>&lt;chr&gt;</th></tr>\n",
       "</thead>\n",
       "<tbody>\n",
       "\t<tr><th scope=row>TGTGCCAGCAGTTTAGGGAGGAATCAGCCCCAGCATTTT</th><td>#93DBCD</td><td>CASSLGRNQPQHF    </td></tr>\n",
       "\t<tr><th scope=row>TGTGCCAGCAGTCCGGACAGGGGGCGTTACCAAGAGACCCAGTACTTC</th><td>#D96D62</td><td>CASSPDRGRYQETQYF </td></tr>\n",
       "\t<tr><th scope=row>TGTGCCAGTAGTAGATTCGCAGGGGGCTCTGGAAACACCATATATTTT</th><td>#D7A9C5</td><td>CASSRFAGGSGNTIYF </td></tr>\n",
       "\t<tr><th scope=row>TGTGCCAGCAGCCACGACAGGGAACAAGAGACCCAGTACTTC</th><td>#D5CD92</td><td>CASSHDREQETQYF   </td></tr>\n",
       "\t<tr><th scope=row>TGTGCCAGCAGCTTCTTAGGTGGGGGCAGCGATGAGCAGTTCTTC</th><td>#C15DD9</td><td>CASSFLGGGSDEQFF  </td></tr>\n",
       "\t<tr><th scope=row>TGTGCCAGTAGTATCGGCAGGAATAGCAATCAGCCCCAGCATTTT</th><td>#8595D6</td><td>CASSIGRNSNQPQHF  </td></tr>\n",
       "\t<tr><th scope=row>TGCGCCAGCAGCTTCGGGGGGGCCCCAGATACGCAGTATTTT</th><td>#A4E368</td><td>CASSFGGAPDTQYF   </td></tr>\n",
       "\t<tr><th scope=row>TGTGCCAGCTCACCAGGAGAGGGAAATCAAGCTTTCTTT</th><td>white  </td><td>CASSPGEGNQAFF    </td></tr>\n",
       "\t<tr><th scope=row>TGTGCCATCAGTCGGACGAAAGAACCCAATGAAAAACTGTTTTTT</th><td>white  </td><td>CAISRTKEPNEKLFF  </td></tr>\n",
       "\t<tr><th scope=row>TGCAGTGCTAGAGTACTCTCCCCCAAGGACAACGAGCAGTACTTC</th><td>white  </td><td>CSARVLSPKDNEQYF  </td></tr>\n",
       "\t<tr><th scope=row>TGTGCCAGCAGCCCAGGGAACTATGGCTACACCTTC</th><td>white  </td><td>CASSPGNYGYTF     </td></tr>\n",
       "\t<tr><th scope=row>TGCGCCGGTAGGTCAGGTAAGGGGGCGGCCTACAATGAGCAGTTCTTC</th><td>white  </td><td>CAGRSGKGAAYNEQFF </td></tr>\n",
       "\t<tr><th scope=row>TGTGCCAGCAGCTATGGACTAGCGGGGGGCTACGAGCAGTACTTC</th><td>white  </td><td>CASSYGLAGGYEQYF  </td></tr>\n",
       "\t<tr><th scope=row>TGTGCCAGCAGTTTTTCTACGGGACAGGGGCATGAAAAACTGTTTTTT</th><td>white  </td><td>CASSFSTGQGHEKLFF </td></tr>\n",
       "\t<tr><th scope=row>TGTGCCAGCAGCCGTCCCTTAGACAATGAGCAGTTCTTC</th><td>white  </td><td>CASSRPLDNEQFF    </td></tr>\n",
       "\t<tr><th scope=row>TGTGCCAGCAGCGAAGAGGGACAGGGGTGGAAGAACACTGAAGCTTTCTTT</th><td>white  </td><td>CASSEEGQGWKNTEAFF</td></tr>\n",
       "\t<tr><th scope=row>TGTGCCAGCTCACCACAGGGGGCGCCTGAAGCTTTCTTT</th><td>white  </td><td>CASSPQGAPEAFF    </td></tr>\n",
       "\t<tr><th scope=row>TGTGCCAGCAGGGGCAGGGGAGGTGAGCAGTTCTTC</th><td>white  </td><td>CASRGRGGEQFF     </td></tr>\n",
       "\t<tr><th scope=row>TGCGCCAGCAGCTGGGACAGGGCCAACACTGAAGCTTTCTTT</th><td>white  </td><td>CASSWDRANTEAFF   </td></tr>\n",
       "\t<tr><th scope=row>TGTGCCAGCAGCCCGGCAAGTAACTATGGCTACACCTTC</th><td>white  </td><td>CASSPASNYGYTF    </td></tr>\n",
       "\t<tr><th scope=row>TGTGCCAGCAGCCAGGGTTACACCGGGGAGCTGTTTTTT</th><td>white  </td><td>CASSQGYTGELFF    </td></tr>\n",
       "\t<tr><th scope=row>TGTGCCAGCAGCCCCCCGCTAGCGGGGGGGAGTGAGCAGTTCTTC</th><td>white  </td><td>CASSPPLAGGSEQFF  </td></tr>\n",
       "\t<tr><th scope=row>TGTGCCAGCAGCTTAAGTGGGACCTCCTATAATTCACCCCTCCACTTT</th><td>white  </td><td>CASSLSGTSYNSPLHF </td></tr>\n",
       "\t<tr><th scope=row>TGTGCCACCAGTGACGCTGGGGTTCCATCTGAAGCTTTCTTT</th><td>white  </td><td>CATSDAGVPSEAFF   </td></tr>\n",
       "\t<tr><th scope=row>TGTGCCAGCAGCCAACAACCGGGGGGCTTAGACTACGAGCAGTACTTC</th><td>white  </td><td>CASSQQPGGLDYEQYF </td></tr>\n",
       "\t<tr><th scope=row>TGTGCCATCAGTGATATGGGGAGCTCCTATAATTCACCCCTCCACTTT</th><td>white  </td><td>CAISDMGSSYNSPLHF </td></tr>\n",
       "\t<tr><th scope=row>TGTGCCAGCAGATACCGGGACACCATGAACACTGAAGCTTTCTTT</th><td>white  </td><td>CASRYRDTMNTEAFF  </td></tr>\n",
       "\t<tr><th scope=row>TGTGCCACCAGCAGAGAACTCTCCGAGCGGGGGTACTACGAGCAGTACTTC</th><td>white  </td><td>CATSRELSERGYYEQYF</td></tr>\n",
       "\t<tr><th scope=row>TGTGCCAGCAGCCCCTGGGACGAGCAGTACTTC</th><td>white  </td><td>CASSPWDEQYF      </td></tr>\n",
       "\t<tr><th scope=row>TGTGCCAGCAGCTTATGGCGGGCGAGAACCGGGGAGCTGTTTTTT</th><td>white  </td><td>CASSLWRARTGELFF  </td></tr>\n",
       "\t<tr><th scope=row>...</th><td>...</td><td>...</td></tr>\n",
       "\t<tr><th scope=row>TGTGCCAGCAGTCCCCTTAATAGCAATCAGCCCCAGCATTTT</th><td>white</td><td>CASSPLNSNQPQHF    </td></tr>\n",
       "\t<tr><th scope=row>TGTGCCAGTAGTAGGGACGGAGACGGGGAGCTGTTTTTT</th><td>white</td><td>CASSRDGDGELFF     </td></tr>\n",
       "\t<tr><th scope=row>TGTGCCAGCAGTGCGGGACAGGGCGTATACGAGCAGTACTTC</th><td>white</td><td>CASSAGQGVYEQYF    </td></tr>\n",
       "\t<tr><th scope=row>TGCAGTGCTAGACTCTTGTTGGCGGGAGCTGAAAATGAGCAGTTCTTC</th><td>white</td><td>CSARLLLAGAENEQFF  </td></tr>\n",
       "\t<tr><th scope=row>TGTGCCAGTAGTCTTACAAAGGGAGGCCGTGAAAAACTGTTTTTT</th><td>white</td><td>CASSLTKGGREKLFF   </td></tr>\n",
       "\t<tr><th scope=row>TGTGCCAGCAGCCTTCGGGTGGGGCTAGCGGGGGCCCCCGATGAGCAGTTCTTC</th><td>white</td><td>CASSLRVGLAGAPDEQFF</td></tr>\n",
       "\t<tr><th scope=row>TGTGCCAGCAGCTGGTCCCCGGGACAGGTTCTCCCAGATACGCAGTATTTT</th><td>white</td><td>CASSWSPGQVLPDTQYF </td></tr>\n",
       "\t<tr><th scope=row>TGCAGTGCTAGATCGGACAGTACCTCCTACGAGCAGTACTTC</th><td>white</td><td>CSARSDSTSYEQYF    </td></tr>\n",
       "\t<tr><th scope=row>TGTGCCTGGAGTGTCACAGGGAATTCACCCCTCCACTTT</th><td>white</td><td>CAWSVTGNSPLHF     </td></tr>\n",
       "\t<tr><th scope=row>TGTGCCAGCACCCCCCTATGGGGTCTCTCCTATAATTCACCCCTCCACTTT</th><td>white</td><td>CASTPLWGLSYNSPLHF </td></tr>\n",
       "\t<tr><th scope=row>TGTGCCAGCAGCTTTCGGACTAGCGGGACCGGGGAGCTGTTTTTT</th><td>white</td><td>CASSFRTSGTGELFF   </td></tr>\n",
       "\t<tr><th scope=row>TGTGCCAGCAGCCCTCTAGCGACCACTAGCACAGATACGCAGTATTTT</th><td>white</td><td>CASSPLATTSTDTQYF  </td></tr>\n",
       "\t<tr><th scope=row>TGTGCCAGCAGTTATCGACTACAGGGGGCGAGCACTGAAGCTTTCTTT</th><td>white</td><td>CASSYRLQGASTEAFF  </td></tr>\n",
       "\t<tr><th scope=row>TGTGCCAGCAGTTCATACAGGAGCTCCTACGAGCAGTACTTC</th><td>white</td><td>CASSSYRSSYEQYF    </td></tr>\n",
       "\t<tr><th scope=row>TGTGCCAGCAGCTCCCACAGGGGAAGCAACGAGCAGTACTTC</th><td>white</td><td>CASSSHRGSNEQYF    </td></tr>\n",
       "\t<tr><th scope=row>TGTGCCAGCAGTCGGACAGGGTCGACCTACGAGCAGTACTTC</th><td>white</td><td>CASSRTGSTYEQYF    </td></tr>\n",
       "\t<tr><th scope=row>TGCGCCAGCAGCTTGGGGGGCGGTCAGCCCCAGCATTTT</th><td>white</td><td>CASSLGGGQPQHF     </td></tr>\n",
       "\t<tr><th scope=row>TGCAGTGCTAGAGACCCCGTTGAGCGGGAGCGTGCGGATACGCAGTATTTT</th><td>white</td><td>CSARDPVERERADTQYF </td></tr>\n",
       "\t<tr><th scope=row>TGTGCCAGTAGGGATATCAGGGGTATGACCACAGATACGCAGTATTTT</th><td>white</td><td>CASRDIRGMTTDTQYF  </td></tr>\n",
       "\t<tr><th scope=row>TGCGCCAGCAGCCAAGGGGGCCCGAGCTCCTACGAGCAGTACTTC</th><td>white</td><td>CASSQGGPSSYEQYF   </td></tr>\n",
       "\t<tr><th scope=row>TGTGCCAGCAGTACCATGACAGGGGCTAACTATGGCTACACCTTC</th><td>white</td><td>CASSTMTGANYGYTF   </td></tr>\n",
       "\t<tr><th scope=row>TGTGCCAGCAGCTTTGGGGGCGCTAATGAAAAACTGTTTTTT</th><td>white</td><td>CASSFGGANEKLFF    </td></tr>\n",
       "\t<tr><th scope=row>TGCAGTGCCGAGGGGACTAACACAGATACGCAGTATTTT</th><td>white</td><td>CSAEGTNTDTQYF     </td></tr>\n",
       "\t<tr><th scope=row>TGTGCCAGCAGCGGCGCAGTGGGGTATGGCTACACCTTC</th><td>white</td><td>CASSGAVGYGYTF     </td></tr>\n",
       "\t<tr><th scope=row>TGTGCCAGCACTAGCGGGAGCACAGATACGCAGTATTTT</th><td>white</td><td>CASTSGSTDTQYF     </td></tr>\n",
       "\t<tr><th scope=row>TGTGCCAGCAGTGCCGGGGTCAATGAGCAGTTCTTC</th><td>white</td><td>CASSAGVNEQFF      </td></tr>\n",
       "\t<tr><th scope=row>TGTGCCAGCAGTTTCGGGGGGAGGGGCACAGATACGCAGTATTTT</th><td>white</td><td>CASSFGGRGTDTQYF   </td></tr>\n",
       "\t<tr><th scope=row>TGCAGTGCTAGAGATTCCTACACAGGGGAATATGGCTACACCTTC</th><td>white</td><td>CSARDSYTGEYGYTF   </td></tr>\n",
       "\t<tr><th scope=row>TGTGCCAGCTTCTTAGGTGGGGGCAGCGATGAGCAGTTCTTC</th><td>white</td><td>CASFLGGGSDEQFF    </td></tr>\n",
       "\t<tr><th scope=row>TGTGCCAGCAGTTCAACAGATACGCAGTATTTT</th><td>white</td><td>CASSSTDTQYF       </td></tr>\n",
       "</tbody>\n",
       "</table>\n"
      ],
      "text/latex": [
       "A data.frame: 101 x 2\n",
       "\\begin{tabular}{r|ll}\n",
       "  & color & aaSeqCDR3\\\\\n",
       "  & <chr> & <chr>\\\\\n",
       "\\hline\n",
       "\tTGTGCCAGCAGTTTAGGGAGGAATCAGCCCCAGCATTTT & \\#93DBCD & CASSLGRNQPQHF    \\\\\n",
       "\tTGTGCCAGCAGTCCGGACAGGGGGCGTTACCAAGAGACCCAGTACTTC & \\#D96D62 & CASSPDRGRYQETQYF \\\\\n",
       "\tTGTGCCAGTAGTAGATTCGCAGGGGGCTCTGGAAACACCATATATTTT & \\#D7A9C5 & CASSRFAGGSGNTIYF \\\\\n",
       "\tTGTGCCAGCAGCCACGACAGGGAACAAGAGACCCAGTACTTC & \\#D5CD92 & CASSHDREQETQYF   \\\\\n",
       "\tTGTGCCAGCAGCTTCTTAGGTGGGGGCAGCGATGAGCAGTTCTTC & \\#C15DD9 & CASSFLGGGSDEQFF  \\\\\n",
       "\tTGTGCCAGTAGTATCGGCAGGAATAGCAATCAGCCCCAGCATTTT & \\#8595D6 & CASSIGRNSNQPQHF  \\\\\n",
       "\tTGCGCCAGCAGCTTCGGGGGGGCCCCAGATACGCAGTATTTT & \\#A4E368 & CASSFGGAPDTQYF   \\\\\n",
       "\tTGTGCCAGCTCACCAGGAGAGGGAAATCAAGCTTTCTTT & white   & CASSPGEGNQAFF    \\\\\n",
       "\tTGTGCCATCAGTCGGACGAAAGAACCCAATGAAAAACTGTTTTTT & white   & CAISRTKEPNEKLFF  \\\\\n",
       "\tTGCAGTGCTAGAGTACTCTCCCCCAAGGACAACGAGCAGTACTTC & white   & CSARVLSPKDNEQYF  \\\\\n",
       "\tTGTGCCAGCAGCCCAGGGAACTATGGCTACACCTTC & white   & CASSPGNYGYTF     \\\\\n",
       "\tTGCGCCGGTAGGTCAGGTAAGGGGGCGGCCTACAATGAGCAGTTCTTC & white   & CAGRSGKGAAYNEQFF \\\\\n",
       "\tTGTGCCAGCAGCTATGGACTAGCGGGGGGCTACGAGCAGTACTTC & white   & CASSYGLAGGYEQYF  \\\\\n",
       "\tTGTGCCAGCAGTTTTTCTACGGGACAGGGGCATGAAAAACTGTTTTTT & white   & CASSFSTGQGHEKLFF \\\\\n",
       "\tTGTGCCAGCAGCCGTCCCTTAGACAATGAGCAGTTCTTC & white   & CASSRPLDNEQFF    \\\\\n",
       "\tTGTGCCAGCAGCGAAGAGGGACAGGGGTGGAAGAACACTGAAGCTTTCTTT & white   & CASSEEGQGWKNTEAFF\\\\\n",
       "\tTGTGCCAGCTCACCACAGGGGGCGCCTGAAGCTTTCTTT & white   & CASSPQGAPEAFF    \\\\\n",
       "\tTGTGCCAGCAGGGGCAGGGGAGGTGAGCAGTTCTTC & white   & CASRGRGGEQFF     \\\\\n",
       "\tTGCGCCAGCAGCTGGGACAGGGCCAACACTGAAGCTTTCTTT & white   & CASSWDRANTEAFF   \\\\\n",
       "\tTGTGCCAGCAGCCCGGCAAGTAACTATGGCTACACCTTC & white   & CASSPASNYGYTF    \\\\\n",
       "\tTGTGCCAGCAGCCAGGGTTACACCGGGGAGCTGTTTTTT & white   & CASSQGYTGELFF    \\\\\n",
       "\tTGTGCCAGCAGCCCCCCGCTAGCGGGGGGGAGTGAGCAGTTCTTC & white   & CASSPPLAGGSEQFF  \\\\\n",
       "\tTGTGCCAGCAGCTTAAGTGGGACCTCCTATAATTCACCCCTCCACTTT & white   & CASSLSGTSYNSPLHF \\\\\n",
       "\tTGTGCCACCAGTGACGCTGGGGTTCCATCTGAAGCTTTCTTT & white   & CATSDAGVPSEAFF   \\\\\n",
       "\tTGTGCCAGCAGCCAACAACCGGGGGGCTTAGACTACGAGCAGTACTTC & white   & CASSQQPGGLDYEQYF \\\\\n",
       "\tTGTGCCATCAGTGATATGGGGAGCTCCTATAATTCACCCCTCCACTTT & white   & CAISDMGSSYNSPLHF \\\\\n",
       "\tTGTGCCAGCAGATACCGGGACACCATGAACACTGAAGCTTTCTTT & white   & CASRYRDTMNTEAFF  \\\\\n",
       "\tTGTGCCACCAGCAGAGAACTCTCCGAGCGGGGGTACTACGAGCAGTACTTC & white   & CATSRELSERGYYEQYF\\\\\n",
       "\tTGTGCCAGCAGCCCCTGGGACGAGCAGTACTTC & white   & CASSPWDEQYF      \\\\\n",
       "\tTGTGCCAGCAGCTTATGGCGGGCGAGAACCGGGGAGCTGTTTTTT & white   & CASSLWRARTGELFF  \\\\\n",
       "\t... & ... & ...\\\\\n",
       "\tTGTGCCAGCAGTCCCCTTAATAGCAATCAGCCCCAGCATTTT & white & CASSPLNSNQPQHF    \\\\\n",
       "\tTGTGCCAGTAGTAGGGACGGAGACGGGGAGCTGTTTTTT & white & CASSRDGDGELFF     \\\\\n",
       "\tTGTGCCAGCAGTGCGGGACAGGGCGTATACGAGCAGTACTTC & white & CASSAGQGVYEQYF    \\\\\n",
       "\tTGCAGTGCTAGACTCTTGTTGGCGGGAGCTGAAAATGAGCAGTTCTTC & white & CSARLLLAGAENEQFF  \\\\\n",
       "\tTGTGCCAGTAGTCTTACAAAGGGAGGCCGTGAAAAACTGTTTTTT & white & CASSLTKGGREKLFF   \\\\\n",
       "\tTGTGCCAGCAGCCTTCGGGTGGGGCTAGCGGGGGCCCCCGATGAGCAGTTCTTC & white & CASSLRVGLAGAPDEQFF\\\\\n",
       "\tTGTGCCAGCAGCTGGTCCCCGGGACAGGTTCTCCCAGATACGCAGTATTTT & white & CASSWSPGQVLPDTQYF \\\\\n",
       "\tTGCAGTGCTAGATCGGACAGTACCTCCTACGAGCAGTACTTC & white & CSARSDSTSYEQYF    \\\\\n",
       "\tTGTGCCTGGAGTGTCACAGGGAATTCACCCCTCCACTTT & white & CAWSVTGNSPLHF     \\\\\n",
       "\tTGTGCCAGCACCCCCCTATGGGGTCTCTCCTATAATTCACCCCTCCACTTT & white & CASTPLWGLSYNSPLHF \\\\\n",
       "\tTGTGCCAGCAGCTTTCGGACTAGCGGGACCGGGGAGCTGTTTTTT & white & CASSFRTSGTGELFF   \\\\\n",
       "\tTGTGCCAGCAGCCCTCTAGCGACCACTAGCACAGATACGCAGTATTTT & white & CASSPLATTSTDTQYF  \\\\\n",
       "\tTGTGCCAGCAGTTATCGACTACAGGGGGCGAGCACTGAAGCTTTCTTT & white & CASSYRLQGASTEAFF  \\\\\n",
       "\tTGTGCCAGCAGTTCATACAGGAGCTCCTACGAGCAGTACTTC & white & CASSSYRSSYEQYF    \\\\\n",
       "\tTGTGCCAGCAGCTCCCACAGGGGAAGCAACGAGCAGTACTTC & white & CASSSHRGSNEQYF    \\\\\n",
       "\tTGTGCCAGCAGTCGGACAGGGTCGACCTACGAGCAGTACTTC & white & CASSRTGSTYEQYF    \\\\\n",
       "\tTGCGCCAGCAGCTTGGGGGGCGGTCAGCCCCAGCATTTT & white & CASSLGGGQPQHF     \\\\\n",
       "\tTGCAGTGCTAGAGACCCCGTTGAGCGGGAGCGTGCGGATACGCAGTATTTT & white & CSARDPVERERADTQYF \\\\\n",
       "\tTGTGCCAGTAGGGATATCAGGGGTATGACCACAGATACGCAGTATTTT & white & CASRDIRGMTTDTQYF  \\\\\n",
       "\tTGCGCCAGCAGCCAAGGGGGCCCGAGCTCCTACGAGCAGTACTTC & white & CASSQGGPSSYEQYF   \\\\\n",
       "\tTGTGCCAGCAGTACCATGACAGGGGCTAACTATGGCTACACCTTC & white & CASSTMTGANYGYTF   \\\\\n",
       "\tTGTGCCAGCAGCTTTGGGGGCGCTAATGAAAAACTGTTTTTT & white & CASSFGGANEKLFF    \\\\\n",
       "\tTGCAGTGCCGAGGGGACTAACACAGATACGCAGTATTTT & white & CSAEGTNTDTQYF     \\\\\n",
       "\tTGTGCCAGCAGCGGCGCAGTGGGGTATGGCTACACCTTC & white & CASSGAVGYGYTF     \\\\\n",
       "\tTGTGCCAGCACTAGCGGGAGCACAGATACGCAGTATTTT & white & CASTSGSTDTQYF     \\\\\n",
       "\tTGTGCCAGCAGTGCCGGGGTCAATGAGCAGTTCTTC & white & CASSAGVNEQFF      \\\\\n",
       "\tTGTGCCAGCAGTTTCGGGGGGAGGGGCACAGATACGCAGTATTTT & white & CASSFGGRGTDTQYF   \\\\\n",
       "\tTGCAGTGCTAGAGATTCCTACACAGGGGAATATGGCTACACCTTC & white & CSARDSYTGEYGYTF   \\\\\n",
       "\tTGTGCCAGCTTCTTAGGTGGGGGCAGCGATGAGCAGTTCTTC & white & CASFLGGGSDEQFF    \\\\\n",
       "\tTGTGCCAGCAGTTCAACAGATACGCAGTATTTT & white & CASSSTDTQYF       \\\\\n",
       "\\end{tabular}\n"
      ],
      "text/markdown": [
       "\n",
       "A data.frame: 101 x 2\n",
       "\n",
       "| <!--/--> | color &lt;chr&gt; | aaSeqCDR3 &lt;chr&gt; |\n",
       "|---|---|---|\n",
       "| TGTGCCAGCAGTTTAGGGAGGAATCAGCCCCAGCATTTT | #93DBCD | CASSLGRNQPQHF     |\n",
       "| TGTGCCAGCAGTCCGGACAGGGGGCGTTACCAAGAGACCCAGTACTTC | #D96D62 | CASSPDRGRYQETQYF  |\n",
       "| TGTGCCAGTAGTAGATTCGCAGGGGGCTCTGGAAACACCATATATTTT | #D7A9C5 | CASSRFAGGSGNTIYF  |\n",
       "| TGTGCCAGCAGCCACGACAGGGAACAAGAGACCCAGTACTTC | #D5CD92 | CASSHDREQETQYF    |\n",
       "| TGTGCCAGCAGCTTCTTAGGTGGGGGCAGCGATGAGCAGTTCTTC | #C15DD9 | CASSFLGGGSDEQFF   |\n",
       "| TGTGCCAGTAGTATCGGCAGGAATAGCAATCAGCCCCAGCATTTT | #8595D6 | CASSIGRNSNQPQHF   |\n",
       "| TGCGCCAGCAGCTTCGGGGGGGCCCCAGATACGCAGTATTTT | #A4E368 | CASSFGGAPDTQYF    |\n",
       "| TGTGCCAGCTCACCAGGAGAGGGAAATCAAGCTTTCTTT | white   | CASSPGEGNQAFF     |\n",
       "| TGTGCCATCAGTCGGACGAAAGAACCCAATGAAAAACTGTTTTTT | white   | CAISRTKEPNEKLFF   |\n",
       "| TGCAGTGCTAGAGTACTCTCCCCCAAGGACAACGAGCAGTACTTC | white   | CSARVLSPKDNEQYF   |\n",
       "| TGTGCCAGCAGCCCAGGGAACTATGGCTACACCTTC | white   | CASSPGNYGYTF      |\n",
       "| TGCGCCGGTAGGTCAGGTAAGGGGGCGGCCTACAATGAGCAGTTCTTC | white   | CAGRSGKGAAYNEQFF  |\n",
       "| TGTGCCAGCAGCTATGGACTAGCGGGGGGCTACGAGCAGTACTTC | white   | CASSYGLAGGYEQYF   |\n",
       "| TGTGCCAGCAGTTTTTCTACGGGACAGGGGCATGAAAAACTGTTTTTT | white   | CASSFSTGQGHEKLFF  |\n",
       "| TGTGCCAGCAGCCGTCCCTTAGACAATGAGCAGTTCTTC | white   | CASSRPLDNEQFF     |\n",
       "| TGTGCCAGCAGCGAAGAGGGACAGGGGTGGAAGAACACTGAAGCTTTCTTT | white   | CASSEEGQGWKNTEAFF |\n",
       "| TGTGCCAGCTCACCACAGGGGGCGCCTGAAGCTTTCTTT | white   | CASSPQGAPEAFF     |\n",
       "| TGTGCCAGCAGGGGCAGGGGAGGTGAGCAGTTCTTC | white   | CASRGRGGEQFF      |\n",
       "| TGCGCCAGCAGCTGGGACAGGGCCAACACTGAAGCTTTCTTT | white   | CASSWDRANTEAFF    |\n",
       "| TGTGCCAGCAGCCCGGCAAGTAACTATGGCTACACCTTC | white   | CASSPASNYGYTF     |\n",
       "| TGTGCCAGCAGCCAGGGTTACACCGGGGAGCTGTTTTTT | white   | CASSQGYTGELFF     |\n",
       "| TGTGCCAGCAGCCCCCCGCTAGCGGGGGGGAGTGAGCAGTTCTTC | white   | CASSPPLAGGSEQFF   |\n",
       "| TGTGCCAGCAGCTTAAGTGGGACCTCCTATAATTCACCCCTCCACTTT | white   | CASSLSGTSYNSPLHF  |\n",
       "| TGTGCCACCAGTGACGCTGGGGTTCCATCTGAAGCTTTCTTT | white   | CATSDAGVPSEAFF    |\n",
       "| TGTGCCAGCAGCCAACAACCGGGGGGCTTAGACTACGAGCAGTACTTC | white   | CASSQQPGGLDYEQYF  |\n",
       "| TGTGCCATCAGTGATATGGGGAGCTCCTATAATTCACCCCTCCACTTT | white   | CAISDMGSSYNSPLHF  |\n",
       "| TGTGCCAGCAGATACCGGGACACCATGAACACTGAAGCTTTCTTT | white   | CASRYRDTMNTEAFF   |\n",
       "| TGTGCCACCAGCAGAGAACTCTCCGAGCGGGGGTACTACGAGCAGTACTTC | white   | CATSRELSERGYYEQYF |\n",
       "| TGTGCCAGCAGCCCCTGGGACGAGCAGTACTTC | white   | CASSPWDEQYF       |\n",
       "| TGTGCCAGCAGCTTATGGCGGGCGAGAACCGGGGAGCTGTTTTTT | white   | CASSLWRARTGELFF   |\n",
       "| ... | ... | ... |\n",
       "| TGTGCCAGCAGTCCCCTTAATAGCAATCAGCCCCAGCATTTT | white | CASSPLNSNQPQHF     |\n",
       "| TGTGCCAGTAGTAGGGACGGAGACGGGGAGCTGTTTTTT | white | CASSRDGDGELFF      |\n",
       "| TGTGCCAGCAGTGCGGGACAGGGCGTATACGAGCAGTACTTC | white | CASSAGQGVYEQYF     |\n",
       "| TGCAGTGCTAGACTCTTGTTGGCGGGAGCTGAAAATGAGCAGTTCTTC | white | CSARLLLAGAENEQFF   |\n",
       "| TGTGCCAGTAGTCTTACAAAGGGAGGCCGTGAAAAACTGTTTTTT | white | CASSLTKGGREKLFF    |\n",
       "| TGTGCCAGCAGCCTTCGGGTGGGGCTAGCGGGGGCCCCCGATGAGCAGTTCTTC | white | CASSLRVGLAGAPDEQFF |\n",
       "| TGTGCCAGCAGCTGGTCCCCGGGACAGGTTCTCCCAGATACGCAGTATTTT | white | CASSWSPGQVLPDTQYF  |\n",
       "| TGCAGTGCTAGATCGGACAGTACCTCCTACGAGCAGTACTTC | white | CSARSDSTSYEQYF     |\n",
       "| TGTGCCTGGAGTGTCACAGGGAATTCACCCCTCCACTTT | white | CAWSVTGNSPLHF      |\n",
       "| TGTGCCAGCACCCCCCTATGGGGTCTCTCCTATAATTCACCCCTCCACTTT | white | CASTPLWGLSYNSPLHF  |\n",
       "| TGTGCCAGCAGCTTTCGGACTAGCGGGACCGGGGAGCTGTTTTTT | white | CASSFRTSGTGELFF    |\n",
       "| TGTGCCAGCAGCCCTCTAGCGACCACTAGCACAGATACGCAGTATTTT | white | CASSPLATTSTDTQYF   |\n",
       "| TGTGCCAGCAGTTATCGACTACAGGGGGCGAGCACTGAAGCTTTCTTT | white | CASSYRLQGASTEAFF   |\n",
       "| TGTGCCAGCAGTTCATACAGGAGCTCCTACGAGCAGTACTTC | white | CASSSYRSSYEQYF     |\n",
       "| TGTGCCAGCAGCTCCCACAGGGGAAGCAACGAGCAGTACTTC | white | CASSSHRGSNEQYF     |\n",
       "| TGTGCCAGCAGTCGGACAGGGTCGACCTACGAGCAGTACTTC | white | CASSRTGSTYEQYF     |\n",
       "| TGCGCCAGCAGCTTGGGGGGCGGTCAGCCCCAGCATTTT | white | CASSLGGGQPQHF      |\n",
       "| TGCAGTGCTAGAGACCCCGTTGAGCGGGAGCGTGCGGATACGCAGTATTTT | white | CSARDPVERERADTQYF  |\n",
       "| TGTGCCAGTAGGGATATCAGGGGTATGACCACAGATACGCAGTATTTT | white | CASRDIRGMTTDTQYF   |\n",
       "| TGCGCCAGCAGCCAAGGGGGCCCGAGCTCCTACGAGCAGTACTTC | white | CASSQGGPSSYEQYF    |\n",
       "| TGTGCCAGCAGTACCATGACAGGGGCTAACTATGGCTACACCTTC | white | CASSTMTGANYGYTF    |\n",
       "| TGTGCCAGCAGCTTTGGGGGCGCTAATGAAAAACTGTTTTTT | white | CASSFGGANEKLFF     |\n",
       "| TGCAGTGCCGAGGGGACTAACACAGATACGCAGTATTTT | white | CSAEGTNTDTQYF      |\n",
       "| TGTGCCAGCAGCGGCGCAGTGGGGTATGGCTACACCTTC | white | CASSGAVGYGYTF      |\n",
       "| TGTGCCAGCACTAGCGGGAGCACAGATACGCAGTATTTT | white | CASTSGSTDTQYF      |\n",
       "| TGTGCCAGCAGTGCCGGGGTCAATGAGCAGTTCTTC | white | CASSAGVNEQFF       |\n",
       "| TGTGCCAGCAGTTTCGGGGGGAGGGGCACAGATACGCAGTATTTT | white | CASSFGGRGTDTQYF    |\n",
       "| TGCAGTGCTAGAGATTCCTACACAGGGGAATATGGCTACACCTTC | white | CSARDSYTGEYGYTF    |\n",
       "| TGTGCCAGCTTCTTAGGTGGGGGCAGCGATGAGCAGTTCTTC | white | CASFLGGGSDEQFF     |\n",
       "| TGTGCCAGCAGTTCAACAGATACGCAGTATTTT | white | CASSSTDTQYF        |\n",
       "\n"
      ],
      "text/plain": [
       "                                                       color  \n",
       "TGTGCCAGCAGTTTAGGGAGGAATCAGCCCCAGCATTTT                #93DBCD\n",
       "TGTGCCAGCAGTCCGGACAGGGGGCGTTACCAAGAGACCCAGTACTTC       #D96D62\n",
       "TGTGCCAGTAGTAGATTCGCAGGGGGCTCTGGAAACACCATATATTTT       #D7A9C5\n",
       "TGTGCCAGCAGCCACGACAGGGAACAAGAGACCCAGTACTTC             #D5CD92\n",
       "TGTGCCAGCAGCTTCTTAGGTGGGGGCAGCGATGAGCAGTTCTTC          #C15DD9\n",
       "TGTGCCAGTAGTATCGGCAGGAATAGCAATCAGCCCCAGCATTTT          #8595D6\n",
       "TGCGCCAGCAGCTTCGGGGGGGCCCCAGATACGCAGTATTTT             #A4E368\n",
       "TGTGCCAGCTCACCAGGAGAGGGAAATCAAGCTTTCTTT                white  \n",
       "TGTGCCATCAGTCGGACGAAAGAACCCAATGAAAAACTGTTTTTT          white  \n",
       "TGCAGTGCTAGAGTACTCTCCCCCAAGGACAACGAGCAGTACTTC          white  \n",
       "TGTGCCAGCAGCCCAGGGAACTATGGCTACACCTTC                   white  \n",
       "TGCGCCGGTAGGTCAGGTAAGGGGGCGGCCTACAATGAGCAGTTCTTC       white  \n",
       "TGTGCCAGCAGCTATGGACTAGCGGGGGGCTACGAGCAGTACTTC          white  \n",
       "TGTGCCAGCAGTTTTTCTACGGGACAGGGGCATGAAAAACTGTTTTTT       white  \n",
       "TGTGCCAGCAGCCGTCCCTTAGACAATGAGCAGTTCTTC                white  \n",
       "TGTGCCAGCAGCGAAGAGGGACAGGGGTGGAAGAACACTGAAGCTTTCTTT    white  \n",
       "TGTGCCAGCTCACCACAGGGGGCGCCTGAAGCTTTCTTT                white  \n",
       "TGTGCCAGCAGGGGCAGGGGAGGTGAGCAGTTCTTC                   white  \n",
       "TGCGCCAGCAGCTGGGACAGGGCCAACACTGAAGCTTTCTTT             white  \n",
       "TGTGCCAGCAGCCCGGCAAGTAACTATGGCTACACCTTC                white  \n",
       "TGTGCCAGCAGCCAGGGTTACACCGGGGAGCTGTTTTTT                white  \n",
       "TGTGCCAGCAGCCCCCCGCTAGCGGGGGGGAGTGAGCAGTTCTTC          white  \n",
       "TGTGCCAGCAGCTTAAGTGGGACCTCCTATAATTCACCCCTCCACTTT       white  \n",
       "TGTGCCACCAGTGACGCTGGGGTTCCATCTGAAGCTTTCTTT             white  \n",
       "TGTGCCAGCAGCCAACAACCGGGGGGCTTAGACTACGAGCAGTACTTC       white  \n",
       "TGTGCCATCAGTGATATGGGGAGCTCCTATAATTCACCCCTCCACTTT       white  \n",
       "TGTGCCAGCAGATACCGGGACACCATGAACACTGAAGCTTTCTTT          white  \n",
       "TGTGCCACCAGCAGAGAACTCTCCGAGCGGGGGTACTACGAGCAGTACTTC    white  \n",
       "TGTGCCAGCAGCCCCTGGGACGAGCAGTACTTC                      white  \n",
       "TGTGCCAGCAGCTTATGGCGGGCGAGAACCGGGGAGCTGTTTTTT          white  \n",
       "...                                                    ...    \n",
       "TGTGCCAGCAGTCCCCTTAATAGCAATCAGCCCCAGCATTTT             white  \n",
       "TGTGCCAGTAGTAGGGACGGAGACGGGGAGCTGTTTTTT                white  \n",
       "TGTGCCAGCAGTGCGGGACAGGGCGTATACGAGCAGTACTTC             white  \n",
       "TGCAGTGCTAGACTCTTGTTGGCGGGAGCTGAAAATGAGCAGTTCTTC       white  \n",
       "TGTGCCAGTAGTCTTACAAAGGGAGGCCGTGAAAAACTGTTTTTT          white  \n",
       "TGTGCCAGCAGCCTTCGGGTGGGGCTAGCGGGGGCCCCCGATGAGCAGTTCTTC white  \n",
       "TGTGCCAGCAGCTGGTCCCCGGGACAGGTTCTCCCAGATACGCAGTATTTT    white  \n",
       "TGCAGTGCTAGATCGGACAGTACCTCCTACGAGCAGTACTTC             white  \n",
       "TGTGCCTGGAGTGTCACAGGGAATTCACCCCTCCACTTT                white  \n",
       "TGTGCCAGCACCCCCCTATGGGGTCTCTCCTATAATTCACCCCTCCACTTT    white  \n",
       "TGTGCCAGCAGCTTTCGGACTAGCGGGACCGGGGAGCTGTTTTTT          white  \n",
       "TGTGCCAGCAGCCCTCTAGCGACCACTAGCACAGATACGCAGTATTTT       white  \n",
       "TGTGCCAGCAGTTATCGACTACAGGGGGCGAGCACTGAAGCTTTCTTT       white  \n",
       "TGTGCCAGCAGTTCATACAGGAGCTCCTACGAGCAGTACTTC             white  \n",
       "TGTGCCAGCAGCTCCCACAGGGGAAGCAACGAGCAGTACTTC             white  \n",
       "TGTGCCAGCAGTCGGACAGGGTCGACCTACGAGCAGTACTTC             white  \n",
       "TGCGCCAGCAGCTTGGGGGGCGGTCAGCCCCAGCATTTT                white  \n",
       "TGCAGTGCTAGAGACCCCGTTGAGCGGGAGCGTGCGGATACGCAGTATTTT    white  \n",
       "TGTGCCAGTAGGGATATCAGGGGTATGACCACAGATACGCAGTATTTT       white  \n",
       "TGCGCCAGCAGCCAAGGGGGCCCGAGCTCCTACGAGCAGTACTTC          white  \n",
       "TGTGCCAGCAGTACCATGACAGGGGCTAACTATGGCTACACCTTC          white  \n",
       "TGTGCCAGCAGCTTTGGGGGCGCTAATGAAAAACTGTTTTTT             white  \n",
       "TGCAGTGCCGAGGGGACTAACACAGATACGCAGTATTTT                white  \n",
       "TGTGCCAGCAGCGGCGCAGTGGGGTATGGCTACACCTTC                white  \n",
       "TGTGCCAGCACTAGCGGGAGCACAGATACGCAGTATTTT                white  \n",
       "TGTGCCAGCAGTGCCGGGGTCAATGAGCAGTTCTTC                   white  \n",
       "TGTGCCAGCAGTTTCGGGGGGAGGGGCACAGATACGCAGTATTTT          white  \n",
       "TGCAGTGCTAGAGATTCCTACACAGGGGAATATGGCTACACCTTC          white  \n",
       "TGTGCCAGCTTCTTAGGTGGGGGCAGCGATGAGCAGTTCTTC             white  \n",
       "TGTGCCAGCAGTTCAACAGATACGCAGTATTTT                      white  \n",
       "                                                       aaSeqCDR3         \n",
       "TGTGCCAGCAGTTTAGGGAGGAATCAGCCCCAGCATTTT                CASSLGRNQPQHF     \n",
       "TGTGCCAGCAGTCCGGACAGGGGGCGTTACCAAGAGACCCAGTACTTC       CASSPDRGRYQETQYF  \n",
       "TGTGCCAGTAGTAGATTCGCAGGGGGCTCTGGAAACACCATATATTTT       CASSRFAGGSGNTIYF  \n",
       "TGTGCCAGCAGCCACGACAGGGAACAAGAGACCCAGTACTTC             CASSHDREQETQYF    \n",
       "TGTGCCAGCAGCTTCTTAGGTGGGGGCAGCGATGAGCAGTTCTTC          CASSFLGGGSDEQFF   \n",
       "TGTGCCAGTAGTATCGGCAGGAATAGCAATCAGCCCCAGCATTTT          CASSIGRNSNQPQHF   \n",
       "TGCGCCAGCAGCTTCGGGGGGGCCCCAGATACGCAGTATTTT             CASSFGGAPDTQYF    \n",
       "TGTGCCAGCTCACCAGGAGAGGGAAATCAAGCTTTCTTT                CASSPGEGNQAFF     \n",
       "TGTGCCATCAGTCGGACGAAAGAACCCAATGAAAAACTGTTTTTT          CAISRTKEPNEKLFF   \n",
       "TGCAGTGCTAGAGTACTCTCCCCCAAGGACAACGAGCAGTACTTC          CSARVLSPKDNEQYF   \n",
       "TGTGCCAGCAGCCCAGGGAACTATGGCTACACCTTC                   CASSPGNYGYTF      \n",
       "TGCGCCGGTAGGTCAGGTAAGGGGGCGGCCTACAATGAGCAGTTCTTC       CAGRSGKGAAYNEQFF  \n",
       "TGTGCCAGCAGCTATGGACTAGCGGGGGGCTACGAGCAGTACTTC          CASSYGLAGGYEQYF   \n",
       "TGTGCCAGCAGTTTTTCTACGGGACAGGGGCATGAAAAACTGTTTTTT       CASSFSTGQGHEKLFF  \n",
       "TGTGCCAGCAGCCGTCCCTTAGACAATGAGCAGTTCTTC                CASSRPLDNEQFF     \n",
       "TGTGCCAGCAGCGAAGAGGGACAGGGGTGGAAGAACACTGAAGCTTTCTTT    CASSEEGQGWKNTEAFF \n",
       "TGTGCCAGCTCACCACAGGGGGCGCCTGAAGCTTTCTTT                CASSPQGAPEAFF     \n",
       "TGTGCCAGCAGGGGCAGGGGAGGTGAGCAGTTCTTC                   CASRGRGGEQFF      \n",
       "TGCGCCAGCAGCTGGGACAGGGCCAACACTGAAGCTTTCTTT             CASSWDRANTEAFF    \n",
       "TGTGCCAGCAGCCCGGCAAGTAACTATGGCTACACCTTC                CASSPASNYGYTF     \n",
       "TGTGCCAGCAGCCAGGGTTACACCGGGGAGCTGTTTTTT                CASSQGYTGELFF     \n",
       "TGTGCCAGCAGCCCCCCGCTAGCGGGGGGGAGTGAGCAGTTCTTC          CASSPPLAGGSEQFF   \n",
       "TGTGCCAGCAGCTTAAGTGGGACCTCCTATAATTCACCCCTCCACTTT       CASSLSGTSYNSPLHF  \n",
       "TGTGCCACCAGTGACGCTGGGGTTCCATCTGAAGCTTTCTTT             CATSDAGVPSEAFF    \n",
       "TGTGCCAGCAGCCAACAACCGGGGGGCTTAGACTACGAGCAGTACTTC       CASSQQPGGLDYEQYF  \n",
       "TGTGCCATCAGTGATATGGGGAGCTCCTATAATTCACCCCTCCACTTT       CAISDMGSSYNSPLHF  \n",
       "TGTGCCAGCAGATACCGGGACACCATGAACACTGAAGCTTTCTTT          CASRYRDTMNTEAFF   \n",
       "TGTGCCACCAGCAGAGAACTCTCCGAGCGGGGGTACTACGAGCAGTACTTC    CATSRELSERGYYEQYF \n",
       "TGTGCCAGCAGCCCCTGGGACGAGCAGTACTTC                      CASSPWDEQYF       \n",
       "TGTGCCAGCAGCTTATGGCGGGCGAGAACCGGGGAGCTGTTTTTT          CASSLWRARTGELFF   \n",
       "...                                                    ...               \n",
       "TGTGCCAGCAGTCCCCTTAATAGCAATCAGCCCCAGCATTTT             CASSPLNSNQPQHF    \n",
       "TGTGCCAGTAGTAGGGACGGAGACGGGGAGCTGTTTTTT                CASSRDGDGELFF     \n",
       "TGTGCCAGCAGTGCGGGACAGGGCGTATACGAGCAGTACTTC             CASSAGQGVYEQYF    \n",
       "TGCAGTGCTAGACTCTTGTTGGCGGGAGCTGAAAATGAGCAGTTCTTC       CSARLLLAGAENEQFF  \n",
       "TGTGCCAGTAGTCTTACAAAGGGAGGCCGTGAAAAACTGTTTTTT          CASSLTKGGREKLFF   \n",
       "TGTGCCAGCAGCCTTCGGGTGGGGCTAGCGGGGGCCCCCGATGAGCAGTTCTTC CASSLRVGLAGAPDEQFF\n",
       "TGTGCCAGCAGCTGGTCCCCGGGACAGGTTCTCCCAGATACGCAGTATTTT    CASSWSPGQVLPDTQYF \n",
       "TGCAGTGCTAGATCGGACAGTACCTCCTACGAGCAGTACTTC             CSARSDSTSYEQYF    \n",
       "TGTGCCTGGAGTGTCACAGGGAATTCACCCCTCCACTTT                CAWSVTGNSPLHF     \n",
       "TGTGCCAGCACCCCCCTATGGGGTCTCTCCTATAATTCACCCCTCCACTTT    CASTPLWGLSYNSPLHF \n",
       "TGTGCCAGCAGCTTTCGGACTAGCGGGACCGGGGAGCTGTTTTTT          CASSFRTSGTGELFF   \n",
       "TGTGCCAGCAGCCCTCTAGCGACCACTAGCACAGATACGCAGTATTTT       CASSPLATTSTDTQYF  \n",
       "TGTGCCAGCAGTTATCGACTACAGGGGGCGAGCACTGAAGCTTTCTTT       CASSYRLQGASTEAFF  \n",
       "TGTGCCAGCAGTTCATACAGGAGCTCCTACGAGCAGTACTTC             CASSSYRSSYEQYF    \n",
       "TGTGCCAGCAGCTCCCACAGGGGAAGCAACGAGCAGTACTTC             CASSSHRGSNEQYF    \n",
       "TGTGCCAGCAGTCGGACAGGGTCGACCTACGAGCAGTACTTC             CASSRTGSTYEQYF    \n",
       "TGCGCCAGCAGCTTGGGGGGCGGTCAGCCCCAGCATTTT                CASSLGGGQPQHF     \n",
       "TGCAGTGCTAGAGACCCCGTTGAGCGGGAGCGTGCGGATACGCAGTATTTT    CSARDPVERERADTQYF \n",
       "TGTGCCAGTAGGGATATCAGGGGTATGACCACAGATACGCAGTATTTT       CASRDIRGMTTDTQYF  \n",
       "TGCGCCAGCAGCCAAGGGGGCCCGAGCTCCTACGAGCAGTACTTC          CASSQGGPSSYEQYF   \n",
       "TGTGCCAGCAGTACCATGACAGGGGCTAACTATGGCTACACCTTC          CASSTMTGANYGYTF   \n",
       "TGTGCCAGCAGCTTTGGGGGCGCTAATGAAAAACTGTTTTTT             CASSFGGANEKLFF    \n",
       "TGCAGTGCCGAGGGGACTAACACAGATACGCAGTATTTT                CSAEGTNTDTQYF     \n",
       "TGTGCCAGCAGCGGCGCAGTGGGGTATGGCTACACCTTC                CASSGAVGYGYTF     \n",
       "TGTGCCAGCACTAGCGGGAGCACAGATACGCAGTATTTT                CASTSGSTDTQYF     \n",
       "TGTGCCAGCAGTGCCGGGGTCAATGAGCAGTTCTTC                   CASSAGVNEQFF      \n",
       "TGTGCCAGCAGTTTCGGGGGGAGGGGCACAGATACGCAGTATTTT          CASSFGGRGTDTQYF   \n",
       "TGCAGTGCTAGAGATTCCTACACAGGGGAATATGGCTACACCTTC          CSARDSYTGEYGYTF   \n",
       "TGTGCCAGCTTCTTAGGTGGGGGCAGCGATGAGCAGTTCTTC             CASFLGGGSDEQFF    \n",
       "TGTGCCAGCAGTTCAACAGATACGCAGTATTTT                      CASSSTDTQYF       "
      ]
     },
     "metadata": {},
     "output_type": "display_data"
    }
   ],
   "source": [
    "(color_tcrs)"
   ]
  },
  {
   "cell_type": "code",
   "execution_count": 282,
   "metadata": {
    "vscode": {
     "languageId": "r"
    }
   },
   "outputs": [
    {
     "data": {
      "text/html": [
       "<strong>pdf:</strong> 2"
      ],
      "text/latex": [
       "\\textbf{pdf:} 2"
      ],
      "text/markdown": [
       "**pdf:** 2"
      ],
      "text/plain": [
       "pdf \n",
       "  2 "
      ]
     },
     "metadata": {},
     "output_type": "display_data"
    }
   ],
   "source": [
    "pdf(paste0(plotpath, \"clonetrack_highoverlap_cfdna_relapse.pdf\"),\n",
    "    width = 12, height = 6\n",
    ")\n",
    "myp + theme(axis.text.x = element_text(angle = 45, hjust = 1))\n",
    "dev.off()"
   ]
  },
  {
   "cell_type": "code",
   "execution_count": 283,
   "metadata": {
    "vscode": {
     "languageId": "r"
    }
   },
   "outputs": [
    {
     "name": "stderr",
     "output_type": "stream",
     "text": [
      "\u001b[1m\u001b[22mScale for \u001b[32mfill\u001b[39m is already present.\n",
      "Adding another scale for \u001b[32mfill\u001b[39m, which will replace the existing scale.\n"
     ]
    },
    {
     "data": {
      "text/html": [
       "<strong>pdf:</strong> 2"
      ],
      "text/latex": [
       "\\textbf{pdf:} 2"
      ],
      "text/markdown": [
       "**pdf:** 2"
      ],
      "text/plain": [
       "pdf \n",
       "  2 "
      ]
     },
     "metadata": {},
     "output_type": "display_data"
    }
   ],
   "source": [
    "pdf(paste0(plotpath, \"lgd_clonetrack_highoverlap_cfdna_relapse.pdf\"),\n",
    "    width = 12, height = 12\n",
    ")\n",
    "grid.draw(cowplot::get_legend(myp + theme(legend.position = \"right\") +\n",
    "    scale_fill_manual(\n",
    "        breaks = rownames(color_tcrs)[color_tcrs$color != \"white\"],\n",
    "        values = color_tcrs$color, labels = color_tcrs$aaSeqCDR3[color_tcrs$color != \"white\"]\n",
    "    )))\n",
    "\n",
    "dev.off()\n"
   ]
  },
  {
   "cell_type": "markdown",
   "metadata": {},
   "source": [
    "# Sankey plot"
   ]
  },
  {
   "cell_type": "code",
   "execution_count": null,
   "metadata": {
    "vscode": {
     "languageId": "r"
    }
   },
   "outputs": [],
   "source": [
    "dim(int_all)"
   ]
  },
  {
   "cell_type": "code",
   "execution_count": null,
   "metadata": {
    "vscode": {
     "languageId": "r"
    }
   },
   "outputs": [],
   "source": [
    "int_all$basename_tcr <- paste0(int_all$basename, \"_\", int_all$aaSeqCDR3)"
   ]
  },
  {
   "cell_type": "code",
   "execution_count": null,
   "metadata": {
    "vscode": {
     "languageId": "r"
    }
   },
   "outputs": [],
   "source": [
    "sankey_rows <- data.frame(int_all[, c(\"basename_tcr\", \"basename\", \"aaSeqCDR3\", \"Patient\", \"sampletype\")])"
   ]
  },
  {
   "cell_type": "code",
   "execution_count": null,
   "metadata": {
    "vscode": {
     "languageId": "r"
    }
   },
   "outputs": [],
   "source": [
    "sankey_rows$all <- \"All\""
   ]
  },
  {
   "cell_type": "code",
   "execution_count": null,
   "metadata": {
    "vscode": {
     "languageId": "r"
    }
   },
   "outputs": [],
   "source": [
    "head(sankey_rows)"
   ]
  },
  {
   "cell_type": "code",
   "execution_count": null,
   "metadata": {
    "vscode": {
     "languageId": "r"
    }
   },
   "outputs": [],
   "source": [
    "mytb <- as.data.frame(table(sankey_rows$aaSeqCDR3))"
   ]
  },
  {
   "cell_type": "code",
   "execution_count": null,
   "metadata": {
    "vscode": {
     "languageId": "r"
    }
   },
   "outputs": [],
   "source": [
    "nrow(mytb) # total unique sequences\n",
    "\n",
    "nrow(mytb[mytb$Freq > 1,]) # total sequences that occur more than once"
   ]
  },
  {
   "cell_type": "code",
   "execution_count": null,
   "metadata": {
    "vscode": {
     "languageId": "r"
    }
   },
   "outputs": [],
   "source": [
    "2262 / 50514 * 100"
   ]
  },
  {
   "cell_type": "code",
   "execution_count": null,
   "metadata": {
    "vscode": {
     "languageId": "r"
    }
   },
   "outputs": [],
   "source": [
    "summary(mytb$Freq[mytb$Freq > 1])"
   ]
  },
  {
   "cell_type": "code",
   "execution_count": null,
   "metadata": {
    "vscode": {
     "languageId": "r"
    }
   },
   "outputs": [],
   "source": [
    "tail(sankey_rows)"
   ]
  },
  {
   "cell_type": "code",
   "execution_count": null,
   "metadata": {
    "vscode": {
     "languageId": "r"
    }
   },
   "outputs": [],
   "source": [
    "uniquetcrs <- unique(int_all$aaSeqCDR3)"
   ]
  },
  {
   "cell_type": "code",
   "execution_count": null,
   "metadata": {
    "vscode": {
     "languageId": "r"
    }
   },
   "outputs": [],
   "source": [
    "length(uniquetcrs)"
   ]
  },
  {
   "cell_type": "code",
   "execution_count": null,
   "metadata": {
    "vscode": {
     "languageId": "r"
    }
   },
   "outputs": [],
   "source": [
    "dim(int_all)"
   ]
  },
  {
   "cell_type": "code",
   "execution_count": null,
   "metadata": {
    "vscode": {
     "languageId": "r"
    }
   },
   "outputs": [],
   "source": [
    "sankey_rows$unique_tcr <- NA\n",
    "sankey_rows$unique_tcr[!sankey_rows$aaSeqCDR3 %in% dups$aaSeqCDR3] <- \"Found once\"\n",
    "sankey_rows$unique_tcr[sankey_rows$aaSeqCDR3 %in% dups$aaSeqCDR3] <- \"Found more than once\""
   ]
  },
  {
   "cell_type": "code",
   "execution_count": null,
   "metadata": {
    "vscode": {
     "languageId": "r"
    }
   },
   "outputs": [],
   "source": [
    "table(sankey_rows$unique_tcr)"
   ]
  },
  {
   "cell_type": "code",
   "execution_count": null,
   "metadata": {
    "vscode": {
     "languageId": "r"
    }
   },
   "outputs": [],
   "source": [
    "head(public)"
   ]
  },
  {
   "cell_type": "code",
   "execution_count": null,
   "metadata": {
    "vscode": {
     "languageId": "r"
    }
   },
   "outputs": [],
   "source": [
    "sankey_rows$public_tcr <- NA\n",
    "sankey_rows$public_tcr[sankey_rows$aaSeqCDR3 %in% public] <- \"Public\"\n",
    "sankey_rows$public_tcr[!sankey_rows$aaSeqCDR3 %in% public] <- NA"
   ]
  },
  {
   "cell_type": "code",
   "execution_count": null,
   "metadata": {
    "vscode": {
     "languageId": "r"
    }
   },
   "outputs": [],
   "source": [
    "dim(tcr_pat_tab)"
   ]
  },
  {
   "cell_type": "code",
   "execution_count": null,
   "metadata": {
    "vscode": {
     "languageId": "r"
    }
   },
   "outputs": [],
   "source": [
    "sankey_rows$public_tcr[sankey_rows$aaSeqCDR3 %in% patient_specific] <- \"patient_specific\""
   ]
  },
  {
   "cell_type": "code",
   "execution_count": null,
   "metadata": {
    "vscode": {
     "languageId": "r"
    }
   },
   "outputs": [],
   "source": [
    "# #factor tcr_pat_tab_df$name\n",
    "# tcr_pat_tab_df$name <- factor(tcr_pat_tab_df$name, levels = c(\"Total\", \"Unique\", \"Public\", \"Patient-specific\"))"
   ]
  },
  {
   "cell_type": "code",
   "execution_count": null,
   "metadata": {
    "vscode": {
     "languageId": "r"
    }
   },
   "outputs": [],
   "source": [
    "table(sankey_rows$public_tcr)"
   ]
  },
  {
   "cell_type": "code",
   "execution_count": null,
   "metadata": {
    "vscode": {
     "languageId": "r"
    }
   },
   "outputs": [],
   "source": [
    "head(sankey_rows)"
   ]
  },
  {
   "cell_type": "code",
   "execution_count": null,
   "metadata": {
    "vscode": {
     "languageId": "r"
    }
   },
   "outputs": [],
   "source": [
    "sankey_rows$db_annot <- tcr_pat_tab$db_annot[ match(sankey_rows$aaSeqCDR3, rownames(tcr_pat_tab))]"
   ]
  },
  {
   "cell_type": "code",
   "execution_count": null,
   "metadata": {
    "vscode": {
     "languageId": "r"
    }
   },
   "outputs": [],
   "source": [
    "# dummy input\n",
    "sankey_rows$db_annot <- NA\n",
    "sankey_rows$db_annot[which(sankey_rows$public_tcr == \"Public\")][1:10] <- \"HomoSap\"\n",
    "sankey_rows$db_annot[which(sankey_rows$public_tcr == \"Public\")][11:25] <- \"Viral\""
   ]
  },
  {
   "cell_type": "code",
   "execution_count": null,
   "metadata": {
    "vscode": {
     "languageId": "r"
    }
   },
   "outputs": [],
   "source": [
    "# write.csv(unique(sankey_rows$aaSeqCDR3[ which(sankey_rows$public_tcr == \"patient_specific\")]), paste0(\"~/Downloads/sankey_rows_patient_specific.csv\"), row.names = F)\n",
    "\n",
    "# write.csv(unique(sankey_rows$aaSeqCDR3[ which(sankey_rows$public_tcr == \"Public\")]), paste0(\"~/Downloads/sankey_rows_public.csv\"), row.names = F)"
   ]
  },
  {
   "cell_type": "code",
   "execution_count": null,
   "metadata": {
    "vscode": {
     "languageId": "r"
    }
   },
   "outputs": [],
   "source": [
    "df <- make_long(sankey_rows, all, unique_tcr, public_tcr, db_annot)"
   ]
  },
  {
   "cell_type": "code",
   "execution_count": null,
   "metadata": {
    "vscode": {
     "languageId": "r"
    }
   },
   "outputs": [],
   "source": [
    "# df$next_node <- factor(df$next_node, levels = c('ALCL','BL','BLL','DLBCL','ERMS','HD',\n",
    "#                                       'Lymphoma','n = 4','n = 17','n = 2','n = 23',\n",
    "#                                       'n = 21','n = 25','NB','OS','PMBCL','Solid'))\n",
    "\n",
    "# df$node <- factor(df$node, levels = c('ALCL','BL','BLL','DLBCL','ERMS','HD',\n",
    "#                                       'Lymphoma','n = 4','n = 17','n = 2','n = 23',\n",
    "#                                       'n = 21','n = 25','NB','OS','PMBCL','Solid'))"
   ]
  },
  {
   "cell_type": "code",
   "execution_count": null,
   "metadata": {
    "vscode": {
     "languageId": "r"
    }
   },
   "outputs": [],
   "source": [
    "# library(randomcoloR)\n",
    "# set.seed(5250)\n",
    "# myColors <- distinctColorPalette(17)\n",
    "# names(myColors) <- levels(factor(df$node))"
   ]
  },
  {
   "cell_type": "code",
   "execution_count": null,
   "metadata": {
    "vscode": {
     "languageId": "r"
    }
   },
   "outputs": [],
   "source": [
    "# #failed samples color grey\n",
    "# myColors[\"n = 2\"] <- \"grey\"\n",
    "# myColors[\"n = 4\"] <- \"grey\""
   ]
  },
  {
   "cell_type": "code",
   "execution_count": null,
   "metadata": {
    "vscode": {
     "languageId": "r"
    }
   },
   "outputs": [],
   "source": [
    "# # Tumor types white\n",
    "# myColors[names(myColors) %in% c(\"ALCL\", \"BL\", \"BLL\", \"DLBCL\", \"ERMS\", \"HD\", \"PMBCL\", \"NB\", \"OS\")] <- \"white\""
   ]
  },
  {
   "cell_type": "code",
   "execution_count": null,
   "metadata": {
    "vscode": {
     "languageId": "r"
    }
   },
   "outputs": [],
   "source": [
    "head(df)"
   ]
  },
  {
   "cell_type": "code",
   "execution_count": null,
   "metadata": {
    "vscode": {
     "languageId": "r"
    }
   },
   "outputs": [],
   "source": [
    "sankey <- ggplot(df, aes(x = x, \n",
    "               next_x = next_x, \n",
    "               node = node, \n",
    "               next_node = next_node,\n",
    "               fill = node, #color = node,\n",
    "               label = node#, fill.node = node\n",
    "               )) +\n",
    "  geom_sankey(flow.alpha = 0.5, na.rm = TRUE, node.color = \"black\") +\n",
    "  theme_sankey(base_size = 16) +\n",
    "  geom_sankey_label(size = 5, hjust = 0.5,# vjust = 0.2,\n",
    "                    color = 1, label.size = 0,\n",
    "                    fill = alpha(\"white\",0), na.rm = TRUE) +\n",
    "theme(legend.position = \"none\", \n",
    "      axis.title.x = element_blank(),\n",
    "      axis.text.x = element_text(size = 20, color = \"black\"),\n",
    "     plot.title = element_text(hjust = 0.5, size = 30)) \n",
    "#scale_fill_manual(values = myColors, na.value=\"white\")+\n",
    "#scale_color_manual(values = myColors, na.value=\"white\") +\n",
    "# labs(title = \"Tumor sample processing\")"
   ]
  },
  {
   "cell_type": "code",
   "execution_count": null,
   "metadata": {
    "vscode": {
     "languageId": "r"
    }
   },
   "outputs": [],
   "source": [
    "sankey"
   ]
  },
  {
   "cell_type": "code",
   "execution_count": null,
   "metadata": {
    "vscode": {
     "languageId": "r"
    }
   },
   "outputs": [],
   "source": [
    "pdf(paste0(plotpath, \"tcr_sankey.pdf\"),\n",
    "   width = 12, height = 6)\n",
    "sankey\n",
    "dev.off()"
   ]
  },
  {
   "cell_type": "markdown",
   "metadata": {
    "vscode": {
     "languageId": "r"
    }
   },
   "source": [
    "PCA"
   ]
  },
  {
   "cell_type": "code",
   "execution_count": 109,
   "metadata": {
    "vscode": {
     "languageId": "r"
    }
   },
   "outputs": [
    {
     "data": {
      "text/html": [
       "<table class=\"dataframe\">\n",
       "<caption>A data.frame: 6 x 39</caption>\n",
       "<thead>\n",
       "\t<tr><th></th><th scope=col>cloneId</th><th scope=col>cloneCount</th><th scope=col>cloneFraction</th><th scope=col>clonalSequence</th><th scope=col>clonalSequenceQuality</th><th scope=col>allVHitsWithScore</th><th scope=col>allDHitsWithScore</th><th scope=col>allJHitsWithScore</th><th scope=col>allCHitsWithScore</th><th scope=col>allVAlignments</th><th scope=col>...</th><th scope=col>aaSeqFR2</th><th scope=col>aaSeqCDR2</th><th scope=col>aaSeqFR3</th><th scope=col>aaSeqCDR3</th><th scope=col>aaSeqFR4</th><th scope=col>refPoints</th><th scope=col>file</th><th scope=col>basename</th><th scope=col>Patient</th><th scope=col>sampletype</th></tr>\n",
       "\t<tr><th></th><th scope=col>&lt;int&gt;</th><th scope=col>&lt;int&gt;</th><th scope=col>&lt;dbl&gt;</th><th scope=col>&lt;chr&gt;</th><th scope=col>&lt;chr&gt;</th><th scope=col>&lt;chr&gt;</th><th scope=col>&lt;chr&gt;</th><th scope=col>&lt;chr&gt;</th><th scope=col>&lt;chr&gt;</th><th scope=col>&lt;chr&gt;</th><th scope=col>...</th><th scope=col>&lt;lgl&gt;</th><th scope=col>&lt;lgl&gt;</th><th scope=col>&lt;lgl&gt;</th><th scope=col>&lt;chr&gt;</th><th scope=col>&lt;lgl&gt;</th><th scope=col>&lt;chr&gt;</th><th scope=col>&lt;chr&gt;</th><th scope=col>&lt;chr&gt;</th><th scope=col>&lt;chr&gt;</th><th scope=col>&lt;chr&gt;</th></tr>\n",
       "</thead>\n",
       "<tbody>\n",
       "\t<tr><th scope=row>175100</th><td>667</td><td>  4</td><td>0.000113215</td><td>TGTGCCAGCTCACCAGGACAGGGGATTCTGGCCCTTCAAGAGACCCAGTACTTC</td><td>EEEEEEEEEEEEEEEEEEEEEEEEEEEEEEEEEEEEEEEEEEEEEEEEEEEEEE</td><td>TRBV18*00(330)                     </td><td>TRBD1*00(45)             </td><td>TRBJ2-5*00(230)  </td><td>NA</td><td>702|717|739|0|15||75.0                       </td><td>...</td><td>NA</td><td>NA</td><td>NA</td><td>CASSPGQGILALQETQYF</td><td>NA</td><td>:::::::::0:-2:15:15:-1:-2:24:36:-2:54::: </td><td>batchFFPE_3Apr2020/mixcr/clones/CLONES_TRBCHP_412-FFPE-DNA_S1.txt</td><td>CHP_412-FFPE-DNA_S1</td><td>CHP_412</td><td>Tumor</td></tr>\n",
       "\t<tr><th scope=row>17809</th><td>  0</td><td>530</td><td>0.552659020</td><td>TGTGCCAGTAGTATTCCCAGGCCCAGCAATCAGCCCCAGCATTTT         </td><td>EEEEEEEEEEEEEEEEEEEEEEEEEEEEEEEEEEEEEEEEEEEEE         </td><td>TRBV19*00(723.6)                   </td><td>TRBD2*00(25)             </td><td>TRBJ1-5*00(117.8)</td><td>NA</td><td>559|573|596|0|14||70.0                       </td><td>...</td><td>NA</td><td>NA</td><td>NA</td><td>CASSIPRPSNQPQHF   </td><td>NA</td><td>:::::::::0:-3:14:19:-14:3:24:24:-1:45::: </td><td>batchFFPE_3Apr2020/mixcr/clones/CLONES_TRBCHP_418-FFPE-DNA_S2.txt</td><td>CHP_418-FFPE-DNA_S2</td><td>CHP_418</td><td>Tumor</td></tr>\n",
       "\t<tr><th scope=row>22595</th><td>  5</td><td>157</td><td>0.163712200</td><td>TGCAGTGGCCTCAGCCGCGAACCTGACTCTGGAAACACCATATATTTT      </td><td>EEEEEEEEEEEEEEEEEEEEEEEEEEEEEEEEEEEEEEEEEEEEEEEE      </td><td>TRBV20-1*00(317.5)                 </td><td>                         </td><td>TRBJ1-3*00(251)  </td><td>NA</td><td>759|766|793|0|7||35.0                        </td><td>...</td><td>NA</td><td>NA</td><td>NA</td><td>CSGLSREPDSGNTIYF  </td><td>NA</td><td>:::::::::0:-7:7:::::26:0:48:::           </td><td>batchFFPE_3Apr2020/mixcr/clones/CLONES_TRBCHP_418-FFPE-DNA_S2.txt</td><td>CHP_418-FFPE-DNA_S2</td><td>CHP_418</td><td>Tumor</td></tr>\n",
       "\t<tr><th scope=row>31774</th><td>  6</td><td>141</td><td>0.147028154</td><td>TGTGCCAGCAGCTTTGGAGGGGATTTCGTGGCGAATGAGCAGTTCTTC      </td><td>EEEEEEEEEEEEEEEEEEEEEEEEEEEEEEEEEEEEEEEEEEEEEEEE      </td><td>TRBV7-6*00(386.8),TRBV7-7*00(349.6)</td><td>TRBD2*00(30)             </td><td>TRBJ2-1*00(214.6)</td><td>NA</td><td>576|590|613|0|14||70.0;585|599|622|0|14||70.0</td><td>...</td><td>NA</td><td>NA</td><td>NA</td><td>CASSFGGDFVANEQFF  </td><td>NA</td><td>:::::::::0:-3:14:15:-10:0:21:33:-7:48::: </td><td>batchFFPE_3Apr2020/mixcr/clones/CLONES_TRBCHP_418-FFPE-DNA_S2.txt</td><td>CHP_418-FFPE-DNA_S2</td><td>CHP_418</td><td>Tumor</td></tr>\n",
       "\t<tr><th scope=row>41597</th><td> 10</td><td>105</td><td>0.109489051</td><td>TGTGCCAGCAGTCCCCCGGCCGGCCGAAACACAGATACGCAGTATTTT      </td><td>EEEEEEEEEEEEEEEEEEEEEEEEEEEEEEEEEEEEEEEEEEEEEEEE      </td><td>TRBV27*00(1191.6)                  </td><td>TRBD1*00(25),TRBD2*00(25)</td><td>TRBJ2-3*00(127.5)</td><td>NA</td><td>556|568|593|0|12||60.0                       </td><td>...</td><td>NA</td><td>NA</td><td>NA</td><td>CASSPPAGRNTDTQYF  </td><td>NA</td><td>:::::::::0:-5:12:12:11:-18:17:29:-2:48:::</td><td>batchFFPE_3Apr2020/mixcr/clones/CLONES_TRBCHP_418-FFPE-DNA_S2.txt</td><td>CHP_418-FFPE-DNA_S2</td><td>CHP_418</td><td>Tumor</td></tr>\n",
       "\t<tr><th scope=row>51492</th><td> 16</td><td> 25</td><td>0.026068822</td><td>TGTGCCAGCAGTGAGCGGGGCGGGGGCAACTACGAGCAGTACTTC         </td><td>EEEEEEEEEEEEEEEEEEEEEEEEEEEEEEEEEEEEEEEEEEEEE         </td><td>TRBV2*00(92.8)                     </td><td>TRBD1*00(30)             </td><td>TRBJ2-7*00(219.3)</td><td>NA</td><td>518|532|555|0|14||70.0                       </td><td>...</td><td>NA</td><td>NA</td><td>NA</td><td>CASSERGGGNYEQYF   </td><td>NA</td><td>:::::::::0:-3:14:21:-6:0:27:29:-3:45:::  </td><td>batchFFPE_3Apr2020/mixcr/clones/CLONES_TRBCHP_418-FFPE-DNA_S2.txt</td><td>CHP_418-FFPE-DNA_S2</td><td>CHP_418</td><td>Tumor</td></tr>\n",
       "</tbody>\n",
       "</table>\n"
      ],
      "text/latex": [
       "A data.frame: 6 x 39\n",
       "\\begin{tabular}{r|lllllllllllllllllllll}\n",
       "  & cloneId & cloneCount & cloneFraction & clonalSequence & clonalSequenceQuality & allVHitsWithScore & allDHitsWithScore & allJHitsWithScore & allCHitsWithScore & allVAlignments & ... & aaSeqFR2 & aaSeqCDR2 & aaSeqFR3 & aaSeqCDR3 & aaSeqFR4 & refPoints & file & basename & Patient & sampletype\\\\\n",
       "  & <int> & <int> & <dbl> & <chr> & <chr> & <chr> & <chr> & <chr> & <chr> & <chr> & ... & <lgl> & <lgl> & <lgl> & <chr> & <lgl> & <chr> & <chr> & <chr> & <chr> & <chr>\\\\\n",
       "\\hline\n",
       "\t175100 & 667 &   4 & 0.000113215 & TGTGCCAGCTCACCAGGACAGGGGATTCTGGCCCTTCAAGAGACCCAGTACTTC & EEEEEEEEEEEEEEEEEEEEEEEEEEEEEEEEEEEEEEEEEEEEEEEEEEEEEE & TRBV18*00(330)                      & TRBD1*00(45)              & TRBJ2-5*00(230)   & NA & 702\\textbar{}717\\textbar{}739\\textbar{}0\\textbar{}15\\textbar{}\\textbar{}75.0                        & ... & NA & NA & NA & CASSPGQGILALQETQYF & NA & :::::::::0:-2:15:15:-1:-2:24:36:-2:54:::  & batchFFPE\\_3Apr2020/mixcr/clones/CLONES\\_TRBCHP\\_412-FFPE-DNA\\_S1.txt & CHP\\_412-FFPE-DNA\\_S1 & CHP\\_412 & Tumor\\\\\n",
       "\t17809 &   0 & 530 & 0.552659020 & TGTGCCAGTAGTATTCCCAGGCCCAGCAATCAGCCCCAGCATTTT          & EEEEEEEEEEEEEEEEEEEEEEEEEEEEEEEEEEEEEEEEEEEEE          & TRBV19*00(723.6)                    & TRBD2*00(25)              & TRBJ1-5*00(117.8) & NA & 559\\textbar{}573\\textbar{}596\\textbar{}0\\textbar{}14\\textbar{}\\textbar{}70.0                        & ... & NA & NA & NA & CASSIPRPSNQPQHF    & NA & :::::::::0:-3:14:19:-14:3:24:24:-1:45:::  & batchFFPE\\_3Apr2020/mixcr/clones/CLONES\\_TRBCHP\\_418-FFPE-DNA\\_S2.txt & CHP\\_418-FFPE-DNA\\_S2 & CHP\\_418 & Tumor\\\\\n",
       "\t22595 &   5 & 157 & 0.163712200 & TGCAGTGGCCTCAGCCGCGAACCTGACTCTGGAAACACCATATATTTT       & EEEEEEEEEEEEEEEEEEEEEEEEEEEEEEEEEEEEEEEEEEEEEEEE       & TRBV20-1*00(317.5)                  &                           & TRBJ1-3*00(251)   & NA & 759\\textbar{}766\\textbar{}793\\textbar{}0\\textbar{}7\\textbar{}\\textbar{}35.0                         & ... & NA & NA & NA & CSGLSREPDSGNTIYF   & NA & :::::::::0:-7:7:::::26:0:48:::            & batchFFPE\\_3Apr2020/mixcr/clones/CLONES\\_TRBCHP\\_418-FFPE-DNA\\_S2.txt & CHP\\_418-FFPE-DNA\\_S2 & CHP\\_418 & Tumor\\\\\n",
       "\t31774 &   6 & 141 & 0.147028154 & TGTGCCAGCAGCTTTGGAGGGGATTTCGTGGCGAATGAGCAGTTCTTC       & EEEEEEEEEEEEEEEEEEEEEEEEEEEEEEEEEEEEEEEEEEEEEEEE       & TRBV7-6*00(386.8),TRBV7-7*00(349.6) & TRBD2*00(30)              & TRBJ2-1*00(214.6) & NA & 576\\textbar{}590\\textbar{}613\\textbar{}0\\textbar{}14\\textbar{}\\textbar{}70.0;585\\textbar{}599\\textbar{}622\\textbar{}0\\textbar{}14\\textbar{}\\textbar{}70.0 & ... & NA & NA & NA & CASSFGGDFVANEQFF   & NA & :::::::::0:-3:14:15:-10:0:21:33:-7:48:::  & batchFFPE\\_3Apr2020/mixcr/clones/CLONES\\_TRBCHP\\_418-FFPE-DNA\\_S2.txt & CHP\\_418-FFPE-DNA\\_S2 & CHP\\_418 & Tumor\\\\\n",
       "\t41597 &  10 & 105 & 0.109489051 & TGTGCCAGCAGTCCCCCGGCCGGCCGAAACACAGATACGCAGTATTTT       & EEEEEEEEEEEEEEEEEEEEEEEEEEEEEEEEEEEEEEEEEEEEEEEE       & TRBV27*00(1191.6)                   & TRBD1*00(25),TRBD2*00(25) & TRBJ2-3*00(127.5) & NA & 556\\textbar{}568\\textbar{}593\\textbar{}0\\textbar{}12\\textbar{}\\textbar{}60.0                        & ... & NA & NA & NA & CASSPPAGRNTDTQYF   & NA & :::::::::0:-5:12:12:11:-18:17:29:-2:48::: & batchFFPE\\_3Apr2020/mixcr/clones/CLONES\\_TRBCHP\\_418-FFPE-DNA\\_S2.txt & CHP\\_418-FFPE-DNA\\_S2 & CHP\\_418 & Tumor\\\\\n",
       "\t51492 &  16 &  25 & 0.026068822 & TGTGCCAGCAGTGAGCGGGGCGGGGGCAACTACGAGCAGTACTTC          & EEEEEEEEEEEEEEEEEEEEEEEEEEEEEEEEEEEEEEEEEEEEE          & TRBV2*00(92.8)                      & TRBD1*00(30)              & TRBJ2-7*00(219.3) & NA & 518\\textbar{}532\\textbar{}555\\textbar{}0\\textbar{}14\\textbar{}\\textbar{}70.0                        & ... & NA & NA & NA & CASSERGGGNYEQYF    & NA & :::::::::0:-3:14:21:-6:0:27:29:-3:45:::   & batchFFPE\\_3Apr2020/mixcr/clones/CLONES\\_TRBCHP\\_418-FFPE-DNA\\_S2.txt & CHP\\_418-FFPE-DNA\\_S2 & CHP\\_418 & Tumor\\\\\n",
       "\\end{tabular}\n"
      ],
      "text/markdown": [
       "\n",
       "A data.frame: 6 x 39\n",
       "\n",
       "| <!--/--> | cloneId &lt;int&gt; | cloneCount &lt;int&gt; | cloneFraction &lt;dbl&gt; | clonalSequence &lt;chr&gt; | clonalSequenceQuality &lt;chr&gt; | allVHitsWithScore &lt;chr&gt; | allDHitsWithScore &lt;chr&gt; | allJHitsWithScore &lt;chr&gt; | allCHitsWithScore &lt;chr&gt; | allVAlignments &lt;chr&gt; | ... ... | aaSeqFR2 &lt;lgl&gt; | aaSeqCDR2 &lt;lgl&gt; | aaSeqFR3 &lt;lgl&gt; | aaSeqCDR3 &lt;chr&gt; | aaSeqFR4 &lt;lgl&gt; | refPoints &lt;chr&gt; | file &lt;chr&gt; | basename &lt;chr&gt; | Patient &lt;chr&gt; | sampletype &lt;chr&gt; |\n",
       "|---|---|---|---|---|---|---|---|---|---|---|---|---|---|---|---|---|---|---|---|---|---|\n",
       "| 175100 | 667 |   4 | 0.000113215 | TGTGCCAGCTCACCAGGACAGGGGATTCTGGCCCTTCAAGAGACCCAGTACTTC | EEEEEEEEEEEEEEEEEEEEEEEEEEEEEEEEEEEEEEEEEEEEEEEEEEEEEE | TRBV18*00(330)                      | TRBD1*00(45)              | TRBJ2-5*00(230)   | NA | 702|717|739|0|15||75.0                        | ... | NA | NA | NA | CASSPGQGILALQETQYF | NA | :::::::::0:-2:15:15:-1:-2:24:36:-2:54:::  | batchFFPE_3Apr2020/mixcr/clones/CLONES_TRBCHP_412-FFPE-DNA_S1.txt | CHP_412-FFPE-DNA_S1 | CHP_412 | Tumor |\n",
       "| 17809 |   0 | 530 | 0.552659020 | TGTGCCAGTAGTATTCCCAGGCCCAGCAATCAGCCCCAGCATTTT          | EEEEEEEEEEEEEEEEEEEEEEEEEEEEEEEEEEEEEEEEEEEEE          | TRBV19*00(723.6)                    | TRBD2*00(25)              | TRBJ1-5*00(117.8) | NA | 559|573|596|0|14||70.0                        | ... | NA | NA | NA | CASSIPRPSNQPQHF    | NA | :::::::::0:-3:14:19:-14:3:24:24:-1:45:::  | batchFFPE_3Apr2020/mixcr/clones/CLONES_TRBCHP_418-FFPE-DNA_S2.txt | CHP_418-FFPE-DNA_S2 | CHP_418 | Tumor |\n",
       "| 22595 |   5 | 157 | 0.163712200 | TGCAGTGGCCTCAGCCGCGAACCTGACTCTGGAAACACCATATATTTT       | EEEEEEEEEEEEEEEEEEEEEEEEEEEEEEEEEEEEEEEEEEEEEEEE       | TRBV20-1*00(317.5)                  | <!----> | TRBJ1-3*00(251)   | NA | 759|766|793|0|7||35.0                         | ... | NA | NA | NA | CSGLSREPDSGNTIYF   | NA | :::::::::0:-7:7:::::26:0:48:::            | batchFFPE_3Apr2020/mixcr/clones/CLONES_TRBCHP_418-FFPE-DNA_S2.txt | CHP_418-FFPE-DNA_S2 | CHP_418 | Tumor |\n",
       "| 31774 |   6 | 141 | 0.147028154 | TGTGCCAGCAGCTTTGGAGGGGATTTCGTGGCGAATGAGCAGTTCTTC       | EEEEEEEEEEEEEEEEEEEEEEEEEEEEEEEEEEEEEEEEEEEEEEEE       | TRBV7-6*00(386.8),TRBV7-7*00(349.6) | TRBD2*00(30)              | TRBJ2-1*00(214.6) | NA | 576|590|613|0|14||70.0;585|599|622|0|14||70.0 | ... | NA | NA | NA | CASSFGGDFVANEQFF   | NA | :::::::::0:-3:14:15:-10:0:21:33:-7:48:::  | batchFFPE_3Apr2020/mixcr/clones/CLONES_TRBCHP_418-FFPE-DNA_S2.txt | CHP_418-FFPE-DNA_S2 | CHP_418 | Tumor |\n",
       "| 41597 |  10 | 105 | 0.109489051 | TGTGCCAGCAGTCCCCCGGCCGGCCGAAACACAGATACGCAGTATTTT       | EEEEEEEEEEEEEEEEEEEEEEEEEEEEEEEEEEEEEEEEEEEEEEEE       | TRBV27*00(1191.6)                   | TRBD1*00(25),TRBD2*00(25) | TRBJ2-3*00(127.5) | NA | 556|568|593|0|12||60.0                        | ... | NA | NA | NA | CASSPPAGRNTDTQYF   | NA | :::::::::0:-5:12:12:11:-18:17:29:-2:48::: | batchFFPE_3Apr2020/mixcr/clones/CLONES_TRBCHP_418-FFPE-DNA_S2.txt | CHP_418-FFPE-DNA_S2 | CHP_418 | Tumor |\n",
       "| 51492 |  16 |  25 | 0.026068822 | TGTGCCAGCAGTGAGCGGGGCGGGGGCAACTACGAGCAGTACTTC          | EEEEEEEEEEEEEEEEEEEEEEEEEEEEEEEEEEEEEEEEEEEEE          | TRBV2*00(92.8)                      | TRBD1*00(30)              | TRBJ2-7*00(219.3) | NA | 518|532|555|0|14||70.0                        | ... | NA | NA | NA | CASSERGGGNYEQYF    | NA | :::::::::0:-3:14:21:-6:0:27:29:-3:45:::   | batchFFPE_3Apr2020/mixcr/clones/CLONES_TRBCHP_418-FFPE-DNA_S2.txt | CHP_418-FFPE-DNA_S2 | CHP_418 | Tumor |\n",
       "\n"
      ],
      "text/plain": [
       "       cloneId cloneCount cloneFraction\n",
       "175100 667       4        0.000113215  \n",
       "17809    0     530        0.552659020  \n",
       "22595    5     157        0.163712200  \n",
       "31774    6     141        0.147028154  \n",
       "41597   10     105        0.109489051  \n",
       "51492   16      25        0.026068822  \n",
       "       clonalSequence                                        \n",
       "175100 TGTGCCAGCTCACCAGGACAGGGGATTCTGGCCCTTCAAGAGACCCAGTACTTC\n",
       "17809  TGTGCCAGTAGTATTCCCAGGCCCAGCAATCAGCCCCAGCATTTT         \n",
       "22595  TGCAGTGGCCTCAGCCGCGAACCTGACTCTGGAAACACCATATATTTT      \n",
       "31774  TGTGCCAGCAGCTTTGGAGGGGATTTCGTGGCGAATGAGCAGTTCTTC      \n",
       "41597  TGTGCCAGCAGTCCCCCGGCCGGCCGAAACACAGATACGCAGTATTTT      \n",
       "51492  TGTGCCAGCAGTGAGCGGGGCGGGGGCAACTACGAGCAGTACTTC         \n",
       "       clonalSequenceQuality                                 \n",
       "175100 EEEEEEEEEEEEEEEEEEEEEEEEEEEEEEEEEEEEEEEEEEEEEEEEEEEEEE\n",
       "17809  EEEEEEEEEEEEEEEEEEEEEEEEEEEEEEEEEEEEEEEEEEEEE         \n",
       "22595  EEEEEEEEEEEEEEEEEEEEEEEEEEEEEEEEEEEEEEEEEEEEEEEE      \n",
       "31774  EEEEEEEEEEEEEEEEEEEEEEEEEEEEEEEEEEEEEEEEEEEEEEEE      \n",
       "41597  EEEEEEEEEEEEEEEEEEEEEEEEEEEEEEEEEEEEEEEEEEEEEEEE      \n",
       "51492  EEEEEEEEEEEEEEEEEEEEEEEEEEEEEEEEEEEEEEEEEEEEE         \n",
       "       allVHitsWithScore                   allDHitsWithScore        \n",
       "175100 TRBV18*00(330)                      TRBD1*00(45)             \n",
       "17809  TRBV19*00(723.6)                    TRBD2*00(25)             \n",
       "22595  TRBV20-1*00(317.5)                                           \n",
       "31774  TRBV7-6*00(386.8),TRBV7-7*00(349.6) TRBD2*00(30)             \n",
       "41597  TRBV27*00(1191.6)                   TRBD1*00(25),TRBD2*00(25)\n",
       "51492  TRBV2*00(92.8)                      TRBD1*00(30)             \n",
       "       allJHitsWithScore allCHitsWithScore\n",
       "175100 TRBJ2-5*00(230)   NA               \n",
       "17809  TRBJ1-5*00(117.8) NA               \n",
       "22595  TRBJ1-3*00(251)   NA               \n",
       "31774  TRBJ2-1*00(214.6) NA               \n",
       "41597  TRBJ2-3*00(127.5) NA               \n",
       "51492  TRBJ2-7*00(219.3) NA               \n",
       "       allVAlignments                                ... aaSeqFR2 aaSeqCDR2\n",
       "175100 702|717|739|0|15||75.0                        ... NA       NA       \n",
       "17809  559|573|596|0|14||70.0                        ... NA       NA       \n",
       "22595  759|766|793|0|7||35.0                         ... NA       NA       \n",
       "31774  576|590|613|0|14||70.0;585|599|622|0|14||70.0 ... NA       NA       \n",
       "41597  556|568|593|0|12||60.0                        ... NA       NA       \n",
       "51492  518|532|555|0|14||70.0                        ... NA       NA       \n",
       "       aaSeqFR3 aaSeqCDR3          aaSeqFR4\n",
       "175100 NA       CASSPGQGILALQETQYF NA      \n",
       "17809  NA       CASSIPRPSNQPQHF    NA      \n",
       "22595  NA       CSGLSREPDSGNTIYF   NA      \n",
       "31774  NA       CASSFGGDFVANEQFF   NA      \n",
       "41597  NA       CASSPPAGRNTDTQYF   NA      \n",
       "51492  NA       CASSERGGGNYEQYF    NA      \n",
       "       refPoints                                \n",
       "175100 :::::::::0:-2:15:15:-1:-2:24:36:-2:54::: \n",
       "17809  :::::::::0:-3:14:19:-14:3:24:24:-1:45::: \n",
       "22595  :::::::::0:-7:7:::::26:0:48:::           \n",
       "31774  :::::::::0:-3:14:15:-10:0:21:33:-7:48::: \n",
       "41597  :::::::::0:-5:12:12:11:-18:17:29:-2:48:::\n",
       "51492  :::::::::0:-3:14:21:-6:0:27:29:-3:45:::  \n",
       "       file                                                             \n",
       "175100 batchFFPE_3Apr2020/mixcr/clones/CLONES_TRBCHP_412-FFPE-DNA_S1.txt\n",
       "17809  batchFFPE_3Apr2020/mixcr/clones/CLONES_TRBCHP_418-FFPE-DNA_S2.txt\n",
       "22595  batchFFPE_3Apr2020/mixcr/clones/CLONES_TRBCHP_418-FFPE-DNA_S2.txt\n",
       "31774  batchFFPE_3Apr2020/mixcr/clones/CLONES_TRBCHP_418-FFPE-DNA_S2.txt\n",
       "41597  batchFFPE_3Apr2020/mixcr/clones/CLONES_TRBCHP_418-FFPE-DNA_S2.txt\n",
       "51492  batchFFPE_3Apr2020/mixcr/clones/CLONES_TRBCHP_418-FFPE-DNA_S2.txt\n",
       "       basename            Patient sampletype\n",
       "175100 CHP_412-FFPE-DNA_S1 CHP_412 Tumor     \n",
       "17809  CHP_418-FFPE-DNA_S2 CHP_418 Tumor     \n",
       "22595  CHP_418-FFPE-DNA_S2 CHP_418 Tumor     \n",
       "31774  CHP_418-FFPE-DNA_S2 CHP_418 Tumor     \n",
       "41597  CHP_418-FFPE-DNA_S2 CHP_418 Tumor     \n",
       "51492  CHP_418-FFPE-DNA_S2 CHP_418 Tumor     "
      ]
     },
     "metadata": {},
     "output_type": "display_data"
    }
   ],
   "source": [
    "tail(int_all)"
   ]
  },
  {
   "cell_type": "code",
   "execution_count": 171,
   "metadata": {
    "vscode": {
     "languageId": "r"
    }
   },
   "outputs": [
    {
     "data": {
      "text/plain": [
       "    Min.  1st Qu.   Median     Mean  3rd Qu.     Max. \n",
       "    1.00     8.00    25.00    98.36    96.00 50649.00 "
      ]
     },
     "metadata": {},
     "output_type": "display_data"
    },
    {
     "data": {
      "text/plain": [
       "   Min. 1st Qu.  Median    Mean 3rd Qu.    Max. \n",
       "    1.0    16.0   118.0   460.9   560.0 66879.0 "
      ]
     },
     "metadata": {},
     "output_type": "display_data"
    }
   ],
   "source": [
    "summary(int_all$cloneCount[grepl(\"PBMC\", int_all$basename)])\n",
    "\n",
    "summary(int_all$cloneCount[grepl(\"cfDNA\", int_all$basename)])"
   ]
  },
  {
   "cell_type": "code",
   "execution_count": 217,
   "metadata": {
    "vscode": {
     "languageId": "r"
    }
   },
   "outputs": [],
   "source": [
    "int_all_subset <- int_all[ grepl(\"PBMC\", int_all$basename),]\n",
    "int_all_subset <- int_all_subset[ int_all_subset$cloneCount > 25,]"
   ]
  },
  {
   "cell_type": "code",
   "execution_count": 218,
   "metadata": {
    "vscode": {
     "languageId": "r"
    }
   },
   "outputs": [],
   "source": [
    "int_mat <- xtabs(cloneCount ~ aaSeqCDR3 + basename, data = int_all_subset) "
   ]
  },
  {
   "cell_type": "code",
   "execution_count": 219,
   "metadata": {
    "vscode": {
     "languageId": "r"
    }
   },
   "outputs": [],
   "source": [
    "int_mat <- as.data.frame.matrix(int_mat)"
   ]
  },
  {
   "cell_type": "code",
   "execution_count": 220,
   "metadata": {
    "vscode": {
     "languageId": "r"
    }
   },
   "outputs": [],
   "source": [
    "int_mat_t <- t(int_mat)"
   ]
  },
  {
   "cell_type": "code",
   "execution_count": 221,
   "metadata": {
    "vscode": {
     "languageId": "r"
    }
   },
   "outputs": [
    {
     "data": {
      "text/html": [
       "<style>\n",
       ".list-inline {list-style: none; margin:0; padding: 0}\n",
       ".list-inline>li {display: inline-block}\n",
       ".list-inline>li:not(:last-child)::after {content: \"\\00b7\"; padding: 0 .5ex}\n",
       "</style>\n",
       "<ol class=list-inline><li>186</li><li>23886</li></ol>\n"
      ],
      "text/latex": [
       "\\begin{enumerate*}\n",
       "\\item 186\n",
       "\\item 23886\n",
       "\\end{enumerate*}\n"
      ],
      "text/markdown": [
       "1. 186\n",
       "2. 23886\n",
       "\n",
       "\n"
      ],
      "text/plain": [
       "[1]   186 23886"
      ]
     },
     "metadata": {},
     "output_type": "display_data"
    }
   ],
   "source": [
    "dim(int_mat_t)"
   ]
  },
  {
   "cell_type": "code",
   "execution_count": 222,
   "metadata": {
    "vscode": {
     "languageId": "r"
    }
   },
   "outputs": [],
   "source": [
    "mymaxes <- apply(int_mat_t, 2, max)"
   ]
  },
  {
   "cell_type": "code",
   "execution_count": 223,
   "metadata": {
    "vscode": {
     "languageId": "r"
    }
   },
   "outputs": [],
   "source": [
    "int_mat_t_norm <- sweep(int_mat_t, MARGIN = 2, STATS = mymaxes, FUN = \"/\")"
   ]
  },
  {
   "cell_type": "code",
   "execution_count": 224,
   "metadata": {
    "vscode": {
     "languageId": "r"
    }
   },
   "outputs": [],
   "source": [
    "set.seed(123)\n",
    "pca <- prcomp(int_mat_t_norm, center = T, scale. = T)"
   ]
  },
  {
   "cell_type": "code",
   "execution_count": 225,
   "metadata": {
    "vscode": {
     "languageId": "r"
    }
   },
   "outputs": [],
   "source": [
    "p1 <- factoextra::fviz_pca_ind(pca,\n",
    "     #col.ind = as.vector(df_narm$cancergroup),\n",
    "    # gradient.cols = c(\"#00AFBB\", \"#E7B800\", \"#FC4E07\"),\n",
    "    # remove labels\n",
    "    label = \"none\",\n",
    "    repel = TRUE, addEllipses = FALSE, mean.point = FALSE\n",
    ")"
   ]
  },
  {
   "cell_type": "code",
   "execution_count": 228,
   "metadata": {
    "vscode": {
     "languageId": "r"
    }
   },
   "outputs": [
    {
     "data": {
      "image/png": "[encoded data removed]",
      "text/plain": [
       "plot without title"
      ]
     },
     "metadata": {
      "image/png": {
       "height": 420,
       "width": 420
      }
     },
     "output_type": "display_data"
    }
   ],
   "source": [
    "p1+ coord_cartesian(xlim = c(-5,0), ylim = c(0,2))"
   ]
  },
  {
   "cell_type": "code",
   "execution_count": null,
   "metadata": {
    "vscode": {
     "languageId": "r"
    }
   },
   "outputs": [],
   "source": []
  }
 ],
 "metadata": {
  "kernelspec": {
   "display_name": "R 4.0",
   "language": "R",
   "name": "ir40"
  },
  "language_info": {
   "codemirror_mode": "r",
   "file_extension": ".r",
   "mimetype": "text/x-r-source",
   "name": "R",
   "pygments_lexer": "r",
   "version": "4.2.2"
  },
  "toc": {
   "base_numbering": 1,
   "nav_menu": {},
   "number_sections": false,
   "sideBar": true,
   "skip_h1_title": false,
   "title_cell": "Table of Contents",
   "title_sidebar": "Contents",
   "toc_cell": true,
   "toc_position": {
    "height": "calc(100% - 180px)",
    "left": "10px",
    "top": "150px",
    "width": "217.3px"
   },
   "toc_section_display": true,
   "toc_window_display": true
  }
 },
 "nbformat": 4,
 "nbformat_minor": 2
}

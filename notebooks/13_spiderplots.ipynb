{
 "cells": [
  {
   "cell_type": "code",
   "execution_count": 1,
   "metadata": {
    "vscode": {
     "languageId": "r"
    }
   },
   "outputs": [
    {
     "data": {
      "text/html": [
       "'en_US.UTF-8/en_US.UTF-8/en_US.UTF-8/C/en_US.UTF-8/C'"
      ],
      "text/latex": [
       "'en\\_US.UTF-8/en\\_US.UTF-8/en\\_US.UTF-8/C/en\\_US.UTF-8/C'"
      ],
      "text/markdown": [
       "'en_US.UTF-8/en_US.UTF-8/en_US.UTF-8/C/en_US.UTF-8/C'"
      ],
      "text/plain": [
       "[1] \"en_US.UTF-8/en_US.UTF-8/en_US.UTF-8/C/en_US.UTF-8/C\""
      ]
     },
     "metadata": {},
     "output_type": "display_data"
    }
   ],
   "source": [
    "Sys.setlocale(category = \"LC_ALL\", locale = \"en_US.UTF-8\")"
   ]
  },
  {
   "attachments": {},
   "cell_type": "markdown",
   "metadata": {},
   "source": [
    "# Dependencies"
   ]
  },
  {
   "cell_type": "code",
   "execution_count": 2,
   "metadata": {
    "vscode": {
     "languageId": "r"
    }
   },
   "outputs": [],
   "source": [
    "pacman::p_load(dplyr, ggplot2, ggbeeswarm, ggpubr, ggsignif, cowplot, ggh4x, ggrepel, ComplexHeatmap)"
   ]
  },
  {
   "attachments": {},
   "cell_type": "markdown",
   "metadata": {},
   "source": [
    "# Functions"
   ]
  },
  {
   "cell_type": "code",
   "execution_count": 3,
   "metadata": {
    "vscode": {
     "languageId": "r"
    }
   },
   "outputs": [],
   "source": [
    "source(\"/Users/anabbi/git/ped_CapTCRseq/R/ggplot2_theme.R\")\n",
    "source(\"/Users/anabbi/git/ped_CapTCRseq/R/color_schemes.R\")\n",
    "source(\"/Users/anabbi/git/ped_CapTCRseq/R/Misc_functions.R\")"
   ]
  },
  {
   "cell_type": "code",
   "execution_count": 4,
   "metadata": {
    "vscode": {
     "languageId": "r"
    }
   },
   "outputs": [],
   "source": [
    "scaleFUN <- function(x) sprintf(\"%.1f\", x)"
   ]
  },
  {
   "attachments": {},
   "cell_type": "markdown",
   "metadata": {},
   "source": [
    "# Paths"
   ]
  },
  {
   "cell_type": "code",
   "execution_count": 5,
   "metadata": {
    "vscode": {
     "languageId": "r"
    }
   },
   "outputs": [],
   "source": [
    "datapath <- \"/Users/anabbi/OneDrive - UHN/Documents/INTERCEPT/Data/\"\n",
    "plotpath <- \"/Users/anabbi/OneDrive - UHN/Documents/INTERCEPT/Plots/\"\n",
    "manifestpath <- \"/Users/anabbi/OneDrive - UHN/Documents/INTERCEPT/Manifests/\"\n",
    "gitpath <- \"/Users/anabbi/git/ped_CapTCRseq/\""
   ]
  },
  {
   "cell_type": "code",
   "execution_count": 6,
   "metadata": {
    "vscode": {
     "languageId": "r"
    }
   },
   "outputs": [],
   "source": [
    "h4hpath <- \"/Users/anabbi/Desktop/H4H/INTERCEPT/\""
   ]
  },
  {
   "attachments": {},
   "cell_type": "markdown",
   "metadata": {},
   "source": [
    "# Main"
   ]
  },
  {
   "cell_type": "code",
   "execution_count": 7,
   "metadata": {
    "vscode": {
     "languageId": "r"
    }
   },
   "outputs": [],
   "source": [
    "meta_div <- readr::read_rds(paste0(datapath, \"capTCRseq/meta_div_goodsamples.rds\"))"
   ]
  },
  {
   "cell_type": "code",
   "execution_count": 8,
   "metadata": {
    "vscode": {
     "languageId": "r"
    }
   },
   "outputs": [],
   "source": [
    "meta_div <- meta_div[ meta_div$cancergroup != \"Normal\", ]\n",
    "meta_div <- meta_div[ meta_div$cancergroup != \"LFS\", ]"
   ]
  },
  {
   "cell_type": "code",
   "execution_count": 9,
   "metadata": {
    "vscode": {
     "languageId": "r"
    }
   },
   "outputs": [
    {
     "data": {
      "text/plain": [
       "\n",
       "cfDNA  PBMC Tumor  <NA> \n",
       "  274   534    18     0 "
      ]
     },
     "metadata": {},
     "output_type": "display_data"
    }
   ],
   "source": [
    "table(meta_div$sampletype, useNA = \"always\")"
   ]
  },
  {
   "attachments": {},
   "cell_type": "markdown",
   "metadata": {},
   "source": [
    "Separate PBMC and cfDNA"
   ]
  },
  {
   "cell_type": "code",
   "execution_count": 10,
   "metadata": {
    "vscode": {
     "languageId": "r"
    }
   },
   "outputs": [
    {
     "data": {
      "text/plain": [
       "\n",
       "           Leukemia            Lymphoma        Solid tumors T-cell malignancies \n",
       "                370                 138                 274                  44 "
      ]
     },
     "metadata": {},
     "output_type": "display_data"
    }
   ],
   "source": [
    "table(meta_div$cancergroup)"
   ]
  },
  {
   "cell_type": "code",
   "execution_count": 11,
   "metadata": {
    "vscode": {
     "languageId": "r"
    }
   },
   "outputs": [],
   "source": [
    "meta_div <- meta_div[ meta_div$cancergroup != \"T-cell malignancies\", ]"
   ]
  },
  {
   "cell_type": "code",
   "execution_count": 12,
   "metadata": {
    "vscode": {
     "languageId": "r"
    }
   },
   "outputs": [],
   "source": [
    "pbmc <- meta_div[ which(meta_div$sampletype == \"PBMC\"),]\n",
    "cfdna <- meta_div[ which(meta_div$sampletype == \"cfDNA\"),]"
   ]
  },
  {
   "attachments": {},
   "cell_type": "markdown",
   "metadata": {
    "vscode": {
     "languageId": "r"
    }
   },
   "source": [
    "## Change relative to with baseline"
   ]
  },
  {
   "cell_type": "code",
   "execution_count": 14,
   "metadata": {
    "vscode": {
     "languageId": "r"
    }
   },
   "outputs": [],
   "source": [
    "pbmc <- meta_div[ which(meta_div$sampletype == \"PBMC\"),]\n",
    "pbmc <- pbmc[ !is.na(pbmc$TRB),]"
   ]
  },
  {
   "cell_type": "code",
   "execution_count": 15,
   "metadata": {
    "vscode": {
     "languageId": "r"
    }
   },
   "outputs": [],
   "source": [
    "diff_log10shann <- calculate_delta.fx(pbmc, \"cycle\", \"log10shann\")\n",
    "diff_log10shann <- diff_log10shann[ !is.na(diff_log10shann$Difference),]"
   ]
  },
  {
   "cell_type": "code",
   "execution_count": 16,
   "metadata": {
    "vscode": {
     "languageId": "r"
    }
   },
   "outputs": [],
   "source": [
    "diff_log10shann_cfdna <- calculate_delta.fx(cfdna, \"cycle\", \"log10shann\")\n",
    "diff_log10shann_cfdna <- diff_log10shann_cfdna[ !is.na(diff_log10shann_cfdna$Difference),]"
   ]
  },
  {
   "cell_type": "code",
   "execution_count": 17,
   "metadata": {
    "vscode": {
     "languageId": "r"
    }
   },
   "outputs": [],
   "source": [
    "pbmc1 <- meta_div[ meta_div$sampletype == \"PBMC\" & !is.na(meta_div$CD3),]\n",
    "pbmc1 <- pbmc1[ pbmc1$CD3 > 0,]"
   ]
  },
  {
   "cell_type": "code",
   "execution_count": 18,
   "metadata": {
    "vscode": {
     "languageId": "r"
    }
   },
   "outputs": [],
   "source": [
    "mycells <- c(\"`Naïve%`\", \"`SCM%`\", \"`CM%`\", \"`EM%`\", \"`TE%`\", \"`PD1%`\", \"`LAG3%`\", \"`TIM3%`\")"
   ]
  },
  {
   "cell_type": "code",
   "execution_count": 19,
   "metadata": {
    "vscode": {
     "languageId": "r"
    }
   },
   "outputs": [],
   "source": [
    "# pbmc1 <- pbmc1[ apply(pbmc1[ , mycells], 1, function(x) !any(is.na(x)) ), ]"
   ]
  },
  {
   "cell_type": "code",
   "execution_count": 20,
   "metadata": {
    "vscode": {
     "languageId": "r"
    }
   },
   "outputs": [],
   "source": [
    "for (i in 1:length(mycells)) {\n",
    "    pbmc1$grp <- gsub(\"`\", \"\", mycells[i])\n",
    "    mycol <- paste0(\"Diff_\", gsub(\"%\", \"\", pbmc1$grp[1]))\n",
    "    mydiff <- calculate_delta.fx(pbmc1, \"cycle\", mycells[i])\n",
    "    pbmc1[[mycol]] <- mydiff$Difference[ match(pbmc1$sample_id, mydiff$sample_id) ]\n",
    "}"
   ]
  },
  {
   "cell_type": "code",
   "execution_count": 21,
   "metadata": {
    "vscode": {
     "languageId": "r"
    }
   },
   "outputs": [],
   "source": [
    "# pivot_longer\n",
    "pbmc1_long <- pbmc1 %>%\n",
    "    select(sample_id, Patient, cycle, cancergroup, Diff_Naïve, Diff_SCM, Diff_CM, Diff_EM, Diff_TE,\n",
    "    Diff_PD1, Diff_LAG3, Diff_TIM3) %>%\n",
    "    tidyr::pivot_longer(cols = starts_with(\"Diff_\"), names_to = \"Celltype\", values_to = \"Diff\")"
   ]
  },
  {
   "cell_type": "code",
   "execution_count": 22,
   "metadata": {
    "vscode": {
     "languageId": "r"
    }
   },
   "outputs": [],
   "source": [
    "pbmc1_long$Celltype <- gsub(\"Diff_\", \"\", pbmc1_long$Celltype)\n",
    "pbmc1_long$Celltype <- paste0(pbmc1_long$Celltype, \"%\")"
   ]
  },
  {
   "cell_type": "code",
   "execution_count": 23,
   "metadata": {
    "vscode": {
     "languageId": "r"
    }
   },
   "outputs": [],
   "source": [
    "pbmc1_long_cells <- pbmc1_long[ pbmc1_long$Celltype %in% c(\"Naïve%\", \"SCM%\", \"CM%\", \"EM%\", \"TE%\"), ]\n",
    "pbmc1_long_ic <- pbmc1_long[ pbmc1_long$Celltype %in% c(\"PD1%\", \"LAG3%\", \"TIM3%\"), ]"
   ]
  },
  {
   "cell_type": "markdown",
   "metadata": {},
   "source": [
    "### Export by cancergroup"
   ]
  },
  {
   "cell_type": "markdown",
   "metadata": {},
   "source": [
    "Leu"
   ]
  },
  {
   "cell_type": "code",
   "execution_count": 24,
   "metadata": {
    "vscode": {
     "languageId": "r"
    }
   },
   "outputs": [
    {
     "data": {
      "text/html": [
       "<table class=\"dataframe\">\n",
       "<caption>A grouped_df: 6 x 67</caption>\n",
       "<thead>\n",
       "\t<tr><th scope=col>sample_id</th><th scope=col>Patient</th><th scope=col>cycle</th><th scope=col>FOLD</th><th scope=col>ATC</th><th scope=col>Age</th><th scope=col>Disease_type</th><th scope=col>TE_fold</th><th scope=col>CD3</th><th scope=col>EM</th><th scope=col>...</th><th scope=col>SE_Shannon</th><th scope=col>observed_Simpson</th><th scope=col>estimated_Simpson</th><th scope=col>SE_Simpson</th><th scope=col>basename</th><th scope=col>file</th><th scope=col>sampletype</th><th scope=col>Group</th><th scope=col>log10shann</th><th scope=col>Difference</th></tr>\n",
       "\t<tr><th scope=col>&lt;chr&gt;</th><th scope=col>&lt;chr&gt;</th><th scope=col>&lt;chr&gt;</th><th scope=col>&lt;dbl&gt;</th><th scope=col>&lt;dbl&gt;</th><th scope=col>&lt;dbl&gt;</th><th scope=col>&lt;chr&gt;</th><th scope=col>&lt;dbl&gt;</th><th scope=col>&lt;int&gt;</th><th scope=col>&lt;int&gt;</th><th scope=col>...</th><th scope=col>&lt;dbl&gt;</th><th scope=col>&lt;dbl&gt;</th><th scope=col>&lt;dbl&gt;</th><th scope=col>&lt;dbl&gt;</th><th scope=col>&lt;chr&gt;</th><th scope=col>&lt;chr&gt;</th><th scope=col>&lt;chr&gt;</th><th scope=col>&lt;chr&gt;</th><th scope=col>&lt;dbl&gt;</th><th scope=col>&lt;dbl&gt;</th></tr>\n",
       "</thead>\n",
       "<tbody>\n",
       "\t<tr><td>CHP_347_01</td><td>CHP_347</td><td>X01</td><td> 0.8</td><td> 126.72</td><td>13</td><td>ALL</td><td> 0.8</td><td>1701</td><td> 1</td><td>...</td><td>1.122</td><td> 79.873</td><td> 80.961</td><td>1.755</td><td>CHP_347-01-PBMC-DNA</td><td>batch4_19Aug2019/mixcr/clones/CLONES_TRBCHP_347-01-PBMC-DNA.txt</td><td>PBMC</td><td>CHP</td><td>2.029022</td><td> 0.00000000</td></tr>\n",
       "\t<tr><td>CHP_347_02</td><td>CHP_347</td><td>X02</td><td> 6.4</td><td>1038.59</td><td>13</td><td>ALL</td><td> 6.4</td><td> 927</td><td>15</td><td>...</td><td>2.727</td><td>231.692</td><td>240.987</td><td>3.678</td><td>CHP_347-02-PBMC-DNA</td><td>batch4_19Aug2019/mixcr/clones/CLONES_TRBCHP_347-02-PBMC-DNA.txt</td><td>PBMC</td><td>CHP</td><td>2.447600</td><td> 0.41857746</td></tr>\n",
       "\t<tr><td>CHP_347_03</td><td>CHP_347</td><td>X03</td><td>37.6</td><td> 768.80</td><td>13</td><td>ALL</td><td>37.6</td><td>2379</td><td>27</td><td>...</td><td>1.704</td><td> 49.106</td><td> 50.983</td><td>2.435</td><td>CHP_347-03-PBMC-DNA</td><td>batch7_25Oct2019/mixcr/clones/CLONES_TRBCHP_347-03-PBMC-DNA.txt</td><td>PBMC</td><td>CHP</td><td>1.841165</td><td>-0.18785696</td></tr>\n",
       "\t<tr><td>CHP_347_04</td><td>CHP_347</td><td>X04</td><td> 0.8</td><td>1542.25</td><td>13</td><td>ALL</td><td> 0.8</td><td> 745</td><td>14</td><td>...</td><td>1.830</td><td> 58.083</td><td> 62.492</td><td>2.479</td><td>CHP_347-04-PBMC-DNA</td><td>batch6a_5Nov2019/mixcr/clones/CLONES_TRBCHP_347-04-PBMC-DNA.txt</td><td>PBMC</td><td>CHP</td><td>1.847980</td><td>-0.18104277</td></tr>\n",
       "\t<tr><td>CHP_347_05</td><td>CHP_347</td><td>X05</td><td> 2.6</td><td>1278.87</td><td>13</td><td>ALL</td><td> 2.6</td><td>2175</td><td> 7</td><td>...</td><td>2.041</td><td> 78.937</td><td> 84.835</td><td>4.097</td><td>CHP_347-05-PBMC-DNA</td><td>batch8_14Jan2020/mixcr/clones/CLONES_TRBCHP_347-05-PBMC-DNA.txt</td><td>PBMC</td><td>CHP</td><td>2.006778</td><td>-0.02224411</td></tr>\n",
       "\t<tr><td>CHP_348_01</td><td>CHP_348</td><td>X01</td><td>11.5</td><td>  50.96</td><td>18</td><td>OS </td><td>11.5</td><td>1125</td><td>28</td><td>...</td><td>1.741</td><td> 57.108</td><td> 60.689</td><td>2.516</td><td>CHP_348-01-PBMC-DNA</td><td>batch2_Aug62019/mixcr/clones/CLONES_TRBCHP_348-01-PBMC-DNA.txt </td><td>PBMC</td><td>CHP</td><td>1.844738</td><td> 0.00000000</td></tr>\n",
       "</tbody>\n",
       "</table>\n"
      ],
      "text/latex": [
       "A grouped\\_df: 6 x 67\n",
       "\\begin{tabular}{lllllllllllllllllllll}\n",
       " sample\\_id & Patient & cycle & FOLD & ATC & Age & Disease\\_type & TE\\_fold & CD3 & EM & ... & SE\\_Shannon & observed\\_Simpson & estimated\\_Simpson & SE\\_Simpson & basename & file & sampletype & Group & log10shann & Difference\\\\\n",
       " <chr> & <chr> & <chr> & <dbl> & <dbl> & <dbl> & <chr> & <dbl> & <int> & <int> & ... & <dbl> & <dbl> & <dbl> & <dbl> & <chr> & <chr> & <chr> & <chr> & <dbl> & <dbl>\\\\\n",
       "\\hline\n",
       "\t CHP\\_347\\_01 & CHP\\_347 & X01 &  0.8 &  126.72 & 13 & ALL &  0.8 & 1701 &  1 & ... & 1.122 &  79.873 &  80.961 & 1.755 & CHP\\_347-01-PBMC-DNA & batch4\\_19Aug2019/mixcr/clones/CLONES\\_TRBCHP\\_347-01-PBMC-DNA.txt & PBMC & CHP & 2.029022 &  0.00000000\\\\\n",
       "\t CHP\\_347\\_02 & CHP\\_347 & X02 &  6.4 & 1038.59 & 13 & ALL &  6.4 &  927 & 15 & ... & 2.727 & 231.692 & 240.987 & 3.678 & CHP\\_347-02-PBMC-DNA & batch4\\_19Aug2019/mixcr/clones/CLONES\\_TRBCHP\\_347-02-PBMC-DNA.txt & PBMC & CHP & 2.447600 &  0.41857746\\\\\n",
       "\t CHP\\_347\\_03 & CHP\\_347 & X03 & 37.6 &  768.80 & 13 & ALL & 37.6 & 2379 & 27 & ... & 1.704 &  49.106 &  50.983 & 2.435 & CHP\\_347-03-PBMC-DNA & batch7\\_25Oct2019/mixcr/clones/CLONES\\_TRBCHP\\_347-03-PBMC-DNA.txt & PBMC & CHP & 1.841165 & -0.18785696\\\\\n",
       "\t CHP\\_347\\_04 & CHP\\_347 & X04 &  0.8 & 1542.25 & 13 & ALL &  0.8 &  745 & 14 & ... & 1.830 &  58.083 &  62.492 & 2.479 & CHP\\_347-04-PBMC-DNA & batch6a\\_5Nov2019/mixcr/clones/CLONES\\_TRBCHP\\_347-04-PBMC-DNA.txt & PBMC & CHP & 1.847980 & -0.18104277\\\\\n",
       "\t CHP\\_347\\_05 & CHP\\_347 & X05 &  2.6 & 1278.87 & 13 & ALL &  2.6 & 2175 &  7 & ... & 2.041 &  78.937 &  84.835 & 4.097 & CHP\\_347-05-PBMC-DNA & batch8\\_14Jan2020/mixcr/clones/CLONES\\_TRBCHP\\_347-05-PBMC-DNA.txt & PBMC & CHP & 2.006778 & -0.02224411\\\\\n",
       "\t CHP\\_348\\_01 & CHP\\_348 & X01 & 11.5 &   50.96 & 18 & OS  & 11.5 & 1125 & 28 & ... & 1.741 &  57.108 &  60.689 & 2.516 & CHP\\_348-01-PBMC-DNA & batch2\\_Aug62019/mixcr/clones/CLONES\\_TRBCHP\\_348-01-PBMC-DNA.txt  & PBMC & CHP & 1.844738 &  0.00000000\\\\\n",
       "\\end{tabular}\n"
      ],
      "text/markdown": [
       "\n",
       "A grouped_df: 6 x 67\n",
       "\n",
       "| sample_id &lt;chr&gt; | Patient &lt;chr&gt; | cycle &lt;chr&gt; | FOLD &lt;dbl&gt; | ATC &lt;dbl&gt; | Age &lt;dbl&gt; | Disease_type &lt;chr&gt; | TE_fold &lt;dbl&gt; | CD3 &lt;int&gt; | EM &lt;int&gt; | ... ... | SE_Shannon &lt;dbl&gt; | observed_Simpson &lt;dbl&gt; | estimated_Simpson &lt;dbl&gt; | SE_Simpson &lt;dbl&gt; | basename &lt;chr&gt; | file &lt;chr&gt; | sampletype &lt;chr&gt; | Group &lt;chr&gt; | log10shann &lt;dbl&gt; | Difference &lt;dbl&gt; |\n",
       "|---|---|---|---|---|---|---|---|---|---|---|---|---|---|---|---|---|---|---|---|---|\n",
       "| CHP_347_01 | CHP_347 | X01 |  0.8 |  126.72 | 13 | ALL |  0.8 | 1701 |  1 | ... | 1.122 |  79.873 |  80.961 | 1.755 | CHP_347-01-PBMC-DNA | batch4_19Aug2019/mixcr/clones/CLONES_TRBCHP_347-01-PBMC-DNA.txt | PBMC | CHP | 2.029022 |  0.00000000 |\n",
       "| CHP_347_02 | CHP_347 | X02 |  6.4 | 1038.59 | 13 | ALL |  6.4 |  927 | 15 | ... | 2.727 | 231.692 | 240.987 | 3.678 | CHP_347-02-PBMC-DNA | batch4_19Aug2019/mixcr/clones/CLONES_TRBCHP_347-02-PBMC-DNA.txt | PBMC | CHP | 2.447600 |  0.41857746 |\n",
       "| CHP_347_03 | CHP_347 | X03 | 37.6 |  768.80 | 13 | ALL | 37.6 | 2379 | 27 | ... | 1.704 |  49.106 |  50.983 | 2.435 | CHP_347-03-PBMC-DNA | batch7_25Oct2019/mixcr/clones/CLONES_TRBCHP_347-03-PBMC-DNA.txt | PBMC | CHP | 1.841165 | -0.18785696 |\n",
       "| CHP_347_04 | CHP_347 | X04 |  0.8 | 1542.25 | 13 | ALL |  0.8 |  745 | 14 | ... | 1.830 |  58.083 |  62.492 | 2.479 | CHP_347-04-PBMC-DNA | batch6a_5Nov2019/mixcr/clones/CLONES_TRBCHP_347-04-PBMC-DNA.txt | PBMC | CHP | 1.847980 | -0.18104277 |\n",
       "| CHP_347_05 | CHP_347 | X05 |  2.6 | 1278.87 | 13 | ALL |  2.6 | 2175 |  7 | ... | 2.041 |  78.937 |  84.835 | 4.097 | CHP_347-05-PBMC-DNA | batch8_14Jan2020/mixcr/clones/CLONES_TRBCHP_347-05-PBMC-DNA.txt | PBMC | CHP | 2.006778 | -0.02224411 |\n",
       "| CHP_348_01 | CHP_348 | X01 | 11.5 |   50.96 | 18 | OS  | 11.5 | 1125 | 28 | ... | 1.741 |  57.108 |  60.689 | 2.516 | CHP_348-01-PBMC-DNA | batch2_Aug62019/mixcr/clones/CLONES_TRBCHP_348-01-PBMC-DNA.txt  | PBMC | CHP | 1.844738 |  0.00000000 |\n",
       "\n"
      ],
      "text/plain": [
       "  sample_id  Patient cycle FOLD ATC     Age Disease_type TE_fold CD3  EM ...\n",
       "1 CHP_347_01 CHP_347 X01    0.8  126.72 13  ALL           0.8    1701  1 ...\n",
       "2 CHP_347_02 CHP_347 X02    6.4 1038.59 13  ALL           6.4     927 15 ...\n",
       "3 CHP_347_03 CHP_347 X03   37.6  768.80 13  ALL          37.6    2379 27 ...\n",
       "4 CHP_347_04 CHP_347 X04    0.8 1542.25 13  ALL           0.8     745 14 ...\n",
       "5 CHP_347_05 CHP_347 X05    2.6 1278.87 13  ALL           2.6    2175  7 ...\n",
       "6 CHP_348_01 CHP_348 X01   11.5   50.96 18  OS           11.5    1125 28 ...\n",
       "  SE_Shannon observed_Simpson estimated_Simpson SE_Simpson basename           \n",
       "1 1.122       79.873           80.961           1.755      CHP_347-01-PBMC-DNA\n",
       "2 2.727      231.692          240.987           3.678      CHP_347-02-PBMC-DNA\n",
       "3 1.704       49.106           50.983           2.435      CHP_347-03-PBMC-DNA\n",
       "4 1.830       58.083           62.492           2.479      CHP_347-04-PBMC-DNA\n",
       "5 2.041       78.937           84.835           4.097      CHP_347-05-PBMC-DNA\n",
       "6 1.741       57.108           60.689           2.516      CHP_348-01-PBMC-DNA\n",
       "  file                                                            sampletype\n",
       "1 batch4_19Aug2019/mixcr/clones/CLONES_TRBCHP_347-01-PBMC-DNA.txt PBMC      \n",
       "2 batch4_19Aug2019/mixcr/clones/CLONES_TRBCHP_347-02-PBMC-DNA.txt PBMC      \n",
       "3 batch7_25Oct2019/mixcr/clones/CLONES_TRBCHP_347-03-PBMC-DNA.txt PBMC      \n",
       "4 batch6a_5Nov2019/mixcr/clones/CLONES_TRBCHP_347-04-PBMC-DNA.txt PBMC      \n",
       "5 batch8_14Jan2020/mixcr/clones/CLONES_TRBCHP_347-05-PBMC-DNA.txt PBMC      \n",
       "6 batch2_Aug62019/mixcr/clones/CLONES_TRBCHP_348-01-PBMC-DNA.txt  PBMC      \n",
       "  Group log10shann Difference \n",
       "1 CHP   2.029022    0.00000000\n",
       "2 CHP   2.447600    0.41857746\n",
       "3 CHP   1.841165   -0.18785696\n",
       "4 CHP   1.847980   -0.18104277\n",
       "5 CHP   2.006778   -0.02224411\n",
       "6 CHP   1.844738    0.00000000"
      ]
     },
     "metadata": {},
     "output_type": "display_data"
    }
   ],
   "source": [
    "head(diff_log10shann)"
   ]
  },
  {
   "cell_type": "code",
   "execution_count": 25,
   "metadata": {
    "vscode": {
     "languageId": "r"
    }
   },
   "outputs": [],
   "source": [
    "diff_log10shann$grp <- \"TCR Diversity\"\n",
    "diff_log10shann_cfdna$grp <- \"cfTCR Diversity\""
   ]
  },
  {
   "cell_type": "code",
   "execution_count": 26,
   "metadata": {
    "vscode": {
     "languageId": "r"
    }
   },
   "outputs": [],
   "source": [
    "p_shann_leu <- delta_basespiderplot.fx(diff_log10shann[ diff_log10shann$cancergroup == \"Leukemia\",], \n",
    "\"cycle\", \"cancergroup\", group_col) + theme(legend.position = \"none\")"
   ]
  },
  {
   "cell_type": "code",
   "execution_count": 27,
   "metadata": {
    "vscode": {
     "languageId": "r"
    }
   },
   "outputs": [],
   "source": [
    "p_shann_leu <- p_shann_leu + theme(legend.position = \"none\") +\n",
    "  facet_wrap(~grp, nrow = 1, scales = \"free_x\", strip.position = \"top\") +\n",
    "  theme(plot.margin = unit(c(0, 0, 0, 0.5), \"cm\"),\n",
    "    axis.title.x = element_blank(),\n",
    "    legend.position = \"none\",\n",
    "    strip.text.x = element_text(size = 13),\n",
    "    strip.background.x = element_blank(),\n",
    "    strip.placement = \"outside\"\n",
    "  ) +\n",
    "  ylab(\"D TCR diversity\") +\n",
    "  scale_x_discrete(get_breaks(\"cycle\"),\n",
    "    labels = c(\"Pre-cycle 1\", \"Pre-cycle 2\", \"Pre-cycle 3\", \"Pre-cycle 4\", \"Pre-cycle 5\")\n",
    "  )\n"
   ]
  },
  {
   "cell_type": "code",
   "execution_count": 28,
   "metadata": {
    "vscode": {
     "languageId": "r"
    }
   },
   "outputs": [],
   "source": [
    "p_cfshann_leu <- delta_basespiderplot.fx(\n",
    "    diff_log10shann_cfdna[diff_log10shann_cfdna$cancergroup == \"Leukemia\", ],\n",
    "    \"cycle\", \"cancergroup\", group_col\n",
    ")"
   ]
  },
  {
   "cell_type": "code",
   "execution_count": 29,
   "metadata": {
    "vscode": {
     "languageId": "r"
    }
   },
   "outputs": [],
   "source": [
    "p_cfshann_leu <- p_cfshann_leu + theme(legend.position = \"none\") +\n",
    "    facet_wrap(~grp, nrow = 1, scales = \"free_x\", strip.position = \"top\") +\n",
    "    theme(plot.margin = unit(c(0, 0, 0, 0), \"cm\"),\n",
    "        axis.title.x = element_blank(),\n",
    "        legend.position = \"none\",\n",
    "        strip.text.x = element_text(size = 13),\n",
    "        strip.background.x = element_blank(),\n",
    "        strip.placement = \"outside\"\n",
    "    ) +\n",
    "    ylab(\"D cfTCR diversity\") +\n",
    "    scale_x_discrete(get_breaks(\"cycle\"),\n",
    "        labels = c(\"Pre-cycle 1\", \"Pre-cycle 2\", \"Pre-cycle 3\", \"Pre-cycle 4\", \"Pre-cycle 5\")\n",
    "    ) + scale_y_continuous(labels = scaleFUN)\n"
   ]
  },
  {
   "cell_type": "code",
   "execution_count": 30,
   "metadata": {
    "vscode": {
     "languageId": "r"
    }
   },
   "outputs": [
    {
     "data": {
      "text/plain": [
       "\n",
       "   CM%    EM% Naïve%   SCM%    TE% \n",
       "   189    189    189    189    189 "
      ]
     },
     "metadata": {},
     "output_type": "display_data"
    }
   ],
   "source": [
    "table(pbmc1_long_cells$Celltype)"
   ]
  },
  {
   "cell_type": "code",
   "execution_count": 31,
   "metadata": {
    "vscode": {
     "languageId": "r"
    }
   },
   "outputs": [],
   "source": [
    "pbmc1_long_cells$Celltype <- factor(pbmc1_long_cells$Celltype, levels = c(\"Naïve%\", \"SCM%\", \"CM%\", \"EM%\", \"TE%\"))"
   ]
  },
  {
   "cell_type": "code",
   "execution_count": 32,
   "metadata": {
    "vscode": {
     "languageId": "r"
    }
   },
   "outputs": [],
   "source": [
    "p_leu <- ggplot(pbmc1_long_cells[pbmc1_long_cells$cancergroup == \"Leukemia\", ], aes(x = cycle, y = Diff)) +\n",
    "    geom_point(aes(color = cancergroup), cex = 2) +\n",
    "    geom_line(aes(group = Patient, color = cancergroup)) +\n",
    "    scale_color_manual(values = group_col) +\n",
    "    myplot +\n",
    "    myaxis +\n",
    "    theme(plot.margin = unit(c(0, 0, 0, 0), \"cm\"),\n",
    "        axis.text.x = element_text(angle = 45, hjust = 1),\n",
    "        axis.title.x = element_blank(), legend.position = \"none\"\n",
    "    ) +\n",
    "    facet_wrap(~Celltype, nrow = 1, scales = \"free_x\", strip.position = \"top\") +\n",
    "    theme(\n",
    "        axis.title.x = element_blank(),\n",
    "        legend.position = \"none\",\n",
    "        strip.text.x = element_text(size = 13),\n",
    "        strip.background.x = element_blank(),\n",
    "        strip.placement = \"outside\"\n",
    "    ) +\n",
    "    ylab(\"D T-cell subsets\") +\n",
    "    scale_x_discrete(get_breaks(\"cycle\"),\n",
    "        labels = c(\"Pre-cycle 1\", \"Pre-cycle 2\", \"Pre-cycle 3\", \"Pre-cycle 4\", \"Pre-cycle 5\")\n",
    "    )\n"
   ]
  },
  {
   "cell_type": "code",
   "execution_count": 33,
   "metadata": {
    "vscode": {
     "languageId": "r"
    }
   },
   "outputs": [],
   "source": [
    "p_leu_ic <- ggplot(pbmc1_long_ic[pbmc1_long_ic$cancergroup == \"Leukemia\", ], aes(x = cycle, y = Diff)) +\n",
    "    geom_point(aes(color = cancergroup), cex = 2) +\n",
    "    geom_line(aes(group = Patient, color = cancergroup)) +\n",
    "    scale_color_manual(values = group_col) +\n",
    "    myplot +\n",
    "    myaxis +\n",
    "    theme(plot.margin = unit(c(0, 0, 0, 0.5), \"cm\"),\n",
    "        axis.text.x = element_text(angle = 45, hjust = 1),\n",
    "        axis.title.x = element_blank(), legend.position = \"none\"\n",
    "    ) +\n",
    "    facet_wrap(~Celltype, nrow = 1, scales = \"free_x\", strip.position = \"top\") +\n",
    "    theme(\n",
    "        axis.title.x = element_blank(),\n",
    "        legend.position = \"none\",\n",
    "        strip.text.x = element_text(size = 13),\n",
    "        strip.background.x = element_blank(),\n",
    "        strip.placement = \"outside\"\n",
    "    ) +\n",
    "ylab(\"D Immune Checkpoint proteins\") +\n",
    "    scale_x_discrete(get_breaks(\"cycle\"),\n",
    "        labels = c(\"Pre-cycle 1\", \"Pre-cycle 2\", \"Pre-cycle 3\", \"Pre-cycle 4\", \"Pre-cycle 5\")\n",
    "    )\n"
   ]
  },
  {
   "cell_type": "code",
   "execution_count": 34,
   "metadata": {
    "vscode": {
     "languageId": "r"
    }
   },
   "outputs": [
    {
     "name": "stderr",
     "output_type": "stream",
     "text": [
      "Warning message:\n",
      "“\u001b[1m\u001b[22mRemoved 65 rows containing missing values (`geom_point()`).”\n",
      "Warning message:\n",
      "“\u001b[1m\u001b[22mRemoved 65 rows containing missing values (`geom_line()`).”\n"
     ]
    },
    {
     "data": {
      "image/png": "[encoded data removed]",
      "text/plain": [
       "plot without title"
      ]
     },
     "metadata": {
      "image/png": {
       "height": 420,
       "width": 420
      }
     },
     "output_type": "display_data"
    }
   ],
   "source": [
    "p_leu"
   ]
  },
  {
   "cell_type": "code",
   "execution_count": 35,
   "metadata": {
    "vscode": {
     "languageId": "r"
    }
   },
   "outputs": [
    {
     "name": "stderr",
     "output_type": "stream",
     "text": [
      "Warning message:\n",
      "“\u001b[1m\u001b[22mRemoved 65 rows containing missing values (`geom_point()`).”\n",
      "Warning message:\n",
      "“\u001b[1m\u001b[22mRemoved 65 rows containing missing values (`geom_line()`).”\n",
      "Warning message:\n",
      "“\u001b[1m\u001b[22mRemoved 52 rows containing missing values (`geom_point()`).”\n",
      "Warning message:\n",
      "“\u001b[1m\u001b[22mRemoved 50 rows containing missing values (`geom_line()`).”\n"
     ]
    },
    {
     "data": {
      "text/html": [
       "<strong>pdf:</strong> 2"
      ],
      "text/latex": [
       "\\textbf{pdf:} 2"
      ],
      "text/markdown": [
       "**pdf:** 2"
      ],
      "text/plain": [
       "pdf \n",
       "  2 "
      ]
     },
     "metadata": {},
     "output_type": "display_data"
    }
   ],
   "source": [
    "pdf(paste0(plotpath, \"p_leu_spiderplots_overtime.pdf\"), width = 18, height = 5)\n",
    "cowplot::plot_grid(p_leu ,\n",
    "p_leu_ic , \n",
    "p_shann_leu , \n",
    "p_cfshann_leu , labels = c(\"A\", \"B\", \"C\"),\n",
    "    rel_widths = c(0.5, 0.3, 0.13, 0.12), nrow = 1, ncol = 4\n",
    ")\n",
    "dev.off()"
   ]
  },
  {
   "cell_type": "markdown",
   "metadata": {},
   "source": [
    "Lym"
   ]
  },
  {
   "cell_type": "code",
   "execution_count": 36,
   "metadata": {
    "vscode": {
     "languageId": "r"
    }
   },
   "outputs": [],
   "source": [
    "p_shann_lym <- delta_basespiderplot.fx(\n",
    "    diff_log10shann[diff_log10shann$cancergroup == \"Lymphoma\", ],\n",
    "    \"cycle\", \"cancergroup\", group_col\n",
    ") + theme(legend.position = \"none\")"
   ]
  },
  {
   "cell_type": "code",
   "execution_count": 37,
   "metadata": {
    "vscode": {
     "languageId": "r"
    }
   },
   "outputs": [],
   "source": [
    "p_shann_lym <- p_shann_lym + theme(legend.position = \"none\") +\n",
    "  facet_wrap(~grp, nrow = 1, scales = \"free_x\", strip.position = \"top\") +\n",
    "  theme(plot.margin = unit(c(0, 0, 0, 0.5), \"cm\"),\n",
    "    axis.title.x = element_blank(),\n",
    "    legend.position = \"none\",\n",
    "    strip.text.x = element_text(size = 13),\n",
    "    strip.background.x = element_blank(),\n",
    "    strip.placement = \"outside\"\n",
    "  ) +\n",
    "  ylab(\"D TCR diversity\") +\n",
    "  scale_x_discrete(get_breaks(\"cycle\"),\n",
    "    labels = c(\"Pre-cycle 1\", \"Pre-cycle 2\", \"Pre-cycle 3\", \"Pre-cycle 4\", \"Pre-cycle 5\")\n",
    "  )\n"
   ]
  },
  {
   "cell_type": "code",
   "execution_count": 38,
   "metadata": {
    "vscode": {
     "languageId": "r"
    }
   },
   "outputs": [],
   "source": [
    "p_cfshann_lym <- delta_basespiderplot.fx(\n",
    "    diff_log10shann_cfdna[diff_log10shann_cfdna$cancergroup == \"Lymphoma\", ],\n",
    "    \"cycle\", \"cancergroup\", group_col\n",
    ")\n"
   ]
  },
  {
   "cell_type": "code",
   "execution_count": 39,
   "metadata": {
    "vscode": {
     "languageId": "r"
    }
   },
   "outputs": [],
   "source": [
    "p_cfshann_lym <- p_cfshann_lym + theme(legend.position = \"none\") +\n",
    "    facet_wrap(~grp, nrow = 1, scales = \"free_x\", strip.position = \"top\") +\n",
    "    theme(plot.margin = unit(c(0, 0, 0, 0), \"cm\"),\n",
    "        axis.title.x = element_blank(),\n",
    "        legend.position = \"none\",\n",
    "        strip.text.x = element_text(size = 13),\n",
    "        strip.background.x = element_blank(),\n",
    "        strip.placement = \"outside\"\n",
    "    ) +\n",
    "    ylab(\"D cfTCR diversity\") +\n",
    "    scale_x_discrete(get_breaks(\"cycle\"),\n",
    "        labels = c(\"Pre-cycle 1\", \"Pre-cycle 2\", \"Pre-cycle 3\", \"Pre-cycle 4\", \"Pre-cycle 5\")\n",
    "    )\n"
   ]
  },
  {
   "cell_type": "code",
   "execution_count": 40,
   "metadata": {
    "vscode": {
     "languageId": "r"
    }
   },
   "outputs": [],
   "source": [
    "p_lym <- ggplot(pbmc1_long_cells[pbmc1_long_cells$cancergroup == \"Lymphoma\", ], aes(x = cycle, y = Diff)) +\n",
    "    geom_point(aes(color = cancergroup), cex = 2) +\n",
    "    geom_line(aes(group = Patient, color = cancergroup)) +\n",
    "    scale_color_manual(values = group_col) +\n",
    "    myplot +\n",
    "    myaxis +\n",
    "    theme(plot.margin = unit(c(0, 0, 0, 0), \"cm\"),\n",
    "        axis.text.x = element_text(angle = 45, hjust = 1),\n",
    "        axis.title.x = element_blank(), legend.position = \"none\"\n",
    "    ) +\n",
    "    facet_wrap(~Celltype, nrow = 1, scales = \"free_x\", strip.position = \"top\") +\n",
    "    theme(\n",
    "        axis.title.x = element_blank(),\n",
    "        legend.position = \"none\",\n",
    "        strip.text.x = element_text(size = 13),\n",
    "        strip.background.x = element_blank(),\n",
    "        strip.placement = \"outside\"\n",
    "    ) +\n",
    "    ylab(\"D T-cell subsets\") +\n",
    "    scale_x_discrete(get_breaks(\"cycle\"),\n",
    "        labels = c(\"Pre-cycle 1\", \"Pre-cycle 2\", \"Pre-cycle 3\", \"Pre-cycle 4\", \"Pre-cycle 5\")\n",
    "    )\n"
   ]
  },
  {
   "cell_type": "code",
   "execution_count": 41,
   "metadata": {
    "vscode": {
     "languageId": "r"
    }
   },
   "outputs": [],
   "source": [
    "p_lym_ic <- ggplot(pbmc1_long_ic[pbmc1_long_ic$cancergroup == \"Lymphoma\", ], aes(x = cycle, y = Diff)) +\n",
    "    geom_point(aes(color = cancergroup), cex = 2) +\n",
    "    geom_line(aes(group = Patient, color = cancergroup)) +\n",
    "    scale_color_manual(values = group_col) +\n",
    "    myplot +\n",
    "    myaxis +\n",
    "    theme(plot.margin = unit(c(0, 0, 0, 0.5), \"cm\"),\n",
    "        axis.text.x = element_text(angle = 45, hjust = 1),\n",
    "        axis.title.x = element_blank(), legend.position = \"none\"\n",
    "    ) +\n",
    "    facet_wrap(~Celltype, nrow = 1, scales = \"free_x\", strip.position = \"top\") +\n",
    "    theme(\n",
    "        axis.title.x = element_blank(),\n",
    "        legend.position = \"none\",\n",
    "        strip.text.x = element_text(size = 13),\n",
    "        strip.background.x = element_blank(),\n",
    "        strip.placement = \"outside\"\n",
    "    ) +\n",
    "    ylab(\"D Immune Checkpoint proteins\") +\n",
    "    scale_x_discrete(get_breaks(\"cycle\"),\n",
    "        labels = c(\"Pre-cycle 1\", \"Pre-cycle 2\", \"Pre-cycle 3\", \"Pre-cycle 4\", \"Pre-cycle 5\")\n",
    "    )\n"
   ]
  },
  {
   "cell_type": "code",
   "execution_count": 42,
   "metadata": {
    "vscode": {
     "languageId": "r"
    }
   },
   "outputs": [
    {
     "name": "stderr",
     "output_type": "stream",
     "text": [
      "Warning message:\n",
      "“\u001b[1m\u001b[22mRemoved 45 rows containing missing values (`geom_point()`).”\n",
      "Warning message:\n",
      "“\u001b[1m\u001b[22mRemoved 45 rows containing missing values (`geom_line()`).”\n",
      "Warning message:\n",
      "“\u001b[1m\u001b[22mRemoved 31 rows containing missing values (`geom_point()`).”\n",
      "Warning message:\n",
      "“\u001b[1m\u001b[22mRemoved 30 rows containing missing values (`geom_line()`).”\n"
     ]
    },
    {
     "data": {
      "text/html": [
       "<strong>pdf:</strong> 2"
      ],
      "text/latex": [
       "\\textbf{pdf:} 2"
      ],
      "text/markdown": [
       "**pdf:** 2"
      ],
      "text/plain": [
       "pdf \n",
       "  2 "
      ]
     },
     "metadata": {},
     "output_type": "display_data"
    }
   ],
   "source": [
    "pdf(paste0(plotpath, \"p_lym_spiderplots_overtime.pdf\"), width = 18, height = 5)\n",
    "cowplot::plot_grid(p_lym ,\n",
    "    p_lym_ic ,\n",
    "    p_shann_lym ,\n",
    "    p_cfshann_lym,  labels = c(\"D\", \"E\", \"F\"),\n",
    "    rel_widths = c(0.5, 0.3, 0.13, 0.12), nrow = 1, ncol = 4\n",
    ")\n",
    "dev.off()"
   ]
  },
  {
   "cell_type": "markdown",
   "metadata": {},
   "source": [
    "Solid"
   ]
  },
  {
   "cell_type": "code",
   "execution_count": 43,
   "metadata": {
    "vscode": {
     "languageId": "r"
    }
   },
   "outputs": [],
   "source": [
    "p_shann_solid <- delta_basespiderplot.fx(\n",
    "    diff_log10shann[diff_log10shann$cancergroup == \"Solid tumors\", ],\n",
    "    \"cycle\", \"cancergroup\", group_col\n",
    ") + theme(legend.position = \"none\")"
   ]
  },
  {
   "cell_type": "code",
   "execution_count": 44,
   "metadata": {
    "vscode": {
     "languageId": "r"
    }
   },
   "outputs": [],
   "source": [
    "p_shann_solid <- p_shann_solid + theme(legend.position = \"none\") +\n",
    "  facet_wrap(~grp, nrow = 1, scales = \"free_x\", strip.position = \"top\") +\n",
    "  theme(plot.margin = unit(c(0, 0, 0, 0.5), \"cm\"),\n",
    "    axis.title.x = element_blank(),\n",
    "    legend.position = \"none\",\n",
    "    strip.text.x = element_text(size = 13),\n",
    "    strip.background.x = element_blank(),\n",
    "    strip.placement = \"outside\"\n",
    "  ) +\n",
    "  ylab(\"D TCR diversity\") +\n",
    "  scale_x_discrete(get_breaks(\"cycle\"),\n",
    "    labels = c(\"Pre-cycle 1\", \"Pre-cycle 2\", \"Pre-cycle 3\", \"Pre-cycle 4\", \"Pre-cycle 5\")\n",
    "  ) + scale_y_continuous(labels = scaleFUN)\n"
   ]
  },
  {
   "cell_type": "code",
   "execution_count": 45,
   "metadata": {
    "vscode": {
     "languageId": "r"
    }
   },
   "outputs": [],
   "source": [
    "p_cfshann_solid <- delta_basespiderplot.fx(\n",
    "    diff_log10shann_cfdna[diff_log10shann_cfdna$cancergroup == \"Solid tumors\", ],\n",
    "    \"cycle\", \"cancergroup\", group_col\n",
    ")\n"
   ]
  },
  {
   "cell_type": "code",
   "execution_count": 46,
   "metadata": {
    "vscode": {
     "languageId": "r"
    }
   },
   "outputs": [],
   "source": [
    "p_cfshann_solid <- p_cfshann_solid + theme(legend.position = \"none\") +\n",
    "    facet_wrap(~grp, nrow = 1, scales = \"free_x\", strip.position = \"top\") +\n",
    "    theme(plot.margin = unit(c(0, 0, 0, 0), \"cm\"),\n",
    "        axis.title.x = element_blank(),\n",
    "        legend.position = \"none\",\n",
    "        strip.text.x = element_text(size = 13),\n",
    "        strip.background.x = element_blank(),\n",
    "        strip.placement = \"outside\"\n",
    "    ) +\n",
    "    ylab(\"D cfTCR diversity\") +\n",
    "    scale_x_discrete(get_breaks(\"cycle\"),\n",
    "        labels = c(\"Pre-cycle 1\", \"Pre-cycle 2\", \"Pre-cycle 3\", \"Pre-cycle 4\", \"Pre-cycle 5\")\n",
    "    )\n"
   ]
  },
  {
   "cell_type": "code",
   "execution_count": 47,
   "metadata": {
    "vscode": {
     "languageId": "r"
    }
   },
   "outputs": [],
   "source": [
    "p_solid <- ggplot(pbmc1_long_cells[pbmc1_long_cells$cancergroup == \"Solid tumors\", ], aes(x = cycle, y = Diff)) +\n",
    "    geom_point(aes(color = cancergroup), cex = 2) +\n",
    "    geom_line(aes(group = Patient, color = cancergroup)) +\n",
    "    scale_color_manual(values = group_col) +\n",
    "    myplot +\n",
    "    myaxis +\n",
    "    theme(plot.margin = unit(c(0, 0, 0, 0), \"cm\"),\n",
    "        axis.text.x = element_text(angle = 45, hjust = 1),\n",
    "        axis.title.x = element_blank(), legend.position = \"none\"\n",
    "    ) +\n",
    "    facet_wrap(~Celltype, nrow = 1, scales = \"free_x\", strip.position = \"top\") +\n",
    "    theme(\n",
    "        axis.title.x = element_blank(),\n",
    "        legend.position = \"none\",\n",
    "        strip.text.x = element_text(size = 13),\n",
    "        strip.background.x = element_blank(),\n",
    "        strip.placement = \"outside\"\n",
    "    ) +\n",
    "    ylab(\"D T-cell subsets\") +\n",
    "    scale_x_discrete(get_breaks(\"cycle\"),\n",
    "        labels = c(\"Pre-cycle 1\", \"Pre-cycle 2\", \"Pre-cycle 3\", \"Pre-cycle 4\", \"Pre-cycle 5\")\n",
    "    )\n"
   ]
  },
  {
   "cell_type": "code",
   "execution_count": 48,
   "metadata": {
    "vscode": {
     "languageId": "r"
    }
   },
   "outputs": [],
   "source": [
    "p_solid_ic <- ggplot(pbmc1_long_ic[pbmc1_long_ic$cancergroup == \"Solid tumors\", ], aes(x = cycle, y = Diff)) +\n",
    "    geom_point(aes(color = cancergroup), cex = 2) +\n",
    "    geom_line(aes(group = Patient, color = cancergroup)) +\n",
    "    scale_color_manual(values = group_col) +\n",
    "    myplot +\n",
    "    myaxis +\n",
    "    theme(plot.margin = unit(c(0, 0, 0, 0.5), \"cm\"),\n",
    "        axis.text.x = element_text(angle = 45, hjust = 1),\n",
    "        axis.title.x = element_blank(), legend.position = \"none\"\n",
    "    ) +\n",
    "    facet_wrap(~Celltype, nrow = 1, scales = \"free_x\", strip.position = \"top\") +\n",
    "    theme(\n",
    "        axis.title.x = element_blank(),\n",
    "        legend.position = \"none\",\n",
    "        strip.text.x = element_text(size = 13),\n",
    "        strip.background.x = element_blank(),\n",
    "        strip.placement = \"outside\"\n",
    "    ) +\n",
    "    ylab(\"D Immune Checkpoint proteins\") +\n",
    "    scale_x_discrete(get_breaks(\"cycle\"),\n",
    "        labels = c(\"Pre-cycle 1\", \"Pre-cycle 2\", \"Pre-cycle 3\", \"Pre-cycle 4\", \"Pre-cycle 5\")\n",
    "    )\n"
   ]
  },
  {
   "cell_type": "code",
   "execution_count": 49,
   "metadata": {
    "vscode": {
     "languageId": "r"
    }
   },
   "outputs": [
    {
     "name": "stderr",
     "output_type": "stream",
     "text": [
      "Warning message:\n",
      "“\u001b[1m\u001b[22mRemoved 125 rows containing missing values (`geom_point()`).”\n",
      "Warning message:\n",
      "“\u001b[1m\u001b[22mRemoved 125 rows containing missing values (`geom_line()`).”\n",
      "Warning message:\n",
      "“\u001b[1m\u001b[22mRemoved 79 rows containing missing values (`geom_point()`).”\n",
      "Warning message:\n",
      "“\u001b[1m\u001b[22mRemoved 76 rows containing missing values (`geom_line()`).”\n"
     ]
    },
    {
     "data": {
      "text/html": [
       "<strong>pdf:</strong> 2"
      ],
      "text/latex": [
       "\\textbf{pdf:} 2"
      ],
      "text/markdown": [
       "**pdf:** 2"
      ],
      "text/plain": [
       "pdf \n",
       "  2 "
      ]
     },
     "metadata": {},
     "output_type": "display_data"
    }
   ],
   "source": [
    "pdf(paste0(plotpath, \"p_solid_spiderplots_overtime.pdf\"), width = 18, height = 5)\n",
    "cowplot::plot_grid(p_solid,\n",
    "    p_solid_ic,\n",
    "    p_shann_solid ,\n",
    "    p_cfshann_solid, labels = c(\"G\", \"H\", \"I\"),\n",
    "    rel_widths = c(0.5, 0.3, 0.13, 0.12), nrow = 1, ncol = 4\n",
    ")\n",
    "dev.off()\n"
   ]
  },
  {
   "cell_type": "markdown",
   "metadata": {},
   "source": [
    "# Backup"
   ]
  },
  {
   "attachments": {},
   "cell_type": "markdown",
   "metadata": {},
   "source": [
    "### PBMC"
   ]
  },
  {
   "cell_type": "code",
   "execution_count": null,
   "metadata": {
    "vscode": {
     "languageId": "r"
    }
   },
   "outputs": [],
   "source": []
  },
  {
   "cell_type": "code",
   "execution_count": null,
   "metadata": {
    "vscode": {
     "languageId": "r"
    }
   },
   "outputs": [],
   "source": []
  },
  {
   "cell_type": "code",
   "execution_count": null,
   "metadata": {
    "vscode": {
     "languageId": "r"
    }
   },
   "outputs": [],
   "source": [
    "# 25% 75% intercepts\n",
    "# myintercepts <- quantile(diff_log10shann$Difference[diff_log10shann$Difference != 0], c(0.25, 0.75) )"
   ]
  },
  {
   "cell_type": "code",
   "execution_count": null,
   "metadata": {
    "vscode": {
     "languageId": "r"
    }
   },
   "outputs": [],
   "source": [
    "colnames(diff_log10shann)"
   ]
  },
  {
   "cell_type": "code",
   "execution_count": null,
   "metadata": {
    "vscode": {
     "languageId": "r"
    }
   },
   "outputs": [],
   "source": [
    "# diff_log10shann$Difference_scaled<- scale(diff_log10shann$Difference)"
   ]
  },
  {
   "cell_type": "code",
   "execution_count": null,
   "metadata": {
    "vscode": {
     "languageId": "r"
    }
   },
   "outputs": [],
   "source": [
    "# diff_log10shann$Difference_scaled[diff_log10shann$cycle == \"X01\"] <- 0"
   ]
  },
  {
   "cell_type": "code",
   "execution_count": null,
   "metadata": {
    "vscode": {
     "languageId": "r"
    }
   },
   "outputs": [],
   "source": [
    "# summary(diff_log10shann$Difference_scaled)"
   ]
  },
  {
   "cell_type": "code",
   "execution_count": null,
   "metadata": {
    "vscode": {
     "languageId": "r"
    }
   },
   "outputs": [],
   "source": [
    "summary(diff_log10shann$Difference)"
   ]
  },
  {
   "cell_type": "code",
   "execution_count": null,
   "metadata": {
    "vscode": {
     "languageId": "r"
    }
   },
   "outputs": [],
   "source": []
  },
  {
   "cell_type": "code",
   "execution_count": null,
   "metadata": {
    "vscode": {
     "languageId": "r"
    }
   },
   "outputs": [],
   "source": [
    "# diff_log10shann$Difference <- diff_log10shann$Difference_scaled"
   ]
  },
  {
   "cell_type": "code",
   "execution_count": null,
   "metadata": {
    "vscode": {
     "languageId": "r"
    }
   },
   "outputs": [],
   "source": [
    "p_shann <- delta_basespiderplot.fx(diff_log10shann, \"cycle\", \"cancergroup\", group_col)"
   ]
  },
  {
   "cell_type": "code",
   "execution_count": null,
   "metadata": {
    "vscode": {
     "languageId": "r"
    }
   },
   "outputs": [],
   "source": [
    "p_shann"
   ]
  },
  {
   "cell_type": "code",
   "execution_count": null,
   "metadata": {
    "vscode": {
     "languageId": "r"
    }
   },
   "outputs": [],
   "source": [
    "p_shann <- p_shann + geom_hline(yintercept = 0, linetype = \"dashed\", color = \"grey\")"
   ]
  },
  {
   "cell_type": "code",
   "execution_count": null,
   "metadata": {
    "vscode": {
     "languageId": "r"
    }
   },
   "outputs": [],
   "source": [
    "# get the last timepoint for each patient\n",
    "last_timepoint <- diff_log10shann %>%\n",
    "    group_by(Patient) %>%\n",
    "    filter(cycle == max(cycle))"
   ]
  },
  {
   "cell_type": "code",
   "execution_count": null,
   "metadata": {
    "vscode": {
     "languageId": "r"
    }
   },
   "outputs": [],
   "source": [
    "dim(last_timepoint)"
   ]
  },
  {
   "cell_type": "code",
   "execution_count": null,
   "metadata": {
    "vscode": {
     "languageId": "r"
    }
   },
   "outputs": [],
   "source": [
    "last_timepoint$cycleno <- as.numeric(gsub(\"X0\", \"\", last_timepoint$cycle) )"
   ]
  },
  {
   "cell_type": "code",
   "execution_count": null,
   "metadata": {
    "vscode": {
     "languageId": "r"
    }
   },
   "outputs": [],
   "source": [
    "# p0 <- p0 + geom_text_repel(\n",
    "#     data = last_timepoint,\n",
    "#     aes(label = Disease_type),\n",
    "#     hjust = \"left\",\n",
    "#     direction = \"y\",\n",
    "#     nudge_x = 6.5 - last_timepoint$cycleno,\n",
    "#     size = 3,\n",
    "#     xlim = c(6, NA),\n",
    "#     segment.color = NA\n",
    "# ) + facet_wrap(~cancergroup, nrow = 1)\n"
   ]
  },
  {
   "cell_type": "code",
   "execution_count": null,
   "metadata": {
    "vscode": {
     "languageId": "r"
    }
   },
   "outputs": [],
   "source": [
    "p_shann + theme(legend.position = \"none\")+ \n",
    "theme(strip.background = element_blank(),\n",
    "          strip.text = element_text(size = 15),\n",
    "          strip.placement = \"outside\",\n",
    "          panel.border = element_rect(color = \"black\", fill = NA, size = 0.5)) +\n",
    "          ylab(\"Change in TCR diversity\") + facet_wrap(~cancergroup, nrow = 1)"
   ]
  },
  {
   "cell_type": "code",
   "execution_count": null,
   "metadata": {
    "vscode": {
     "languageId": "r"
    }
   },
   "outputs": [],
   "source": [
    "pdf(paste0(plotpath, \"delta_shann_cancergroup_facet.pdf\"), width = 10, height = 6)\n",
    "p_shann + theme(legend.position = \"none\")+ \n",
    "theme(strip.background = element_blank(),\n",
    "          strip.text = element_text(size = 15),\n",
    "          strip.placement = \"outside\",\n",
    "          panel.border = element_rect(color = \"black\", fill = NA, size = 0.5)) +\n",
    "          facet_wrap(~cancergroup, nrow = 1) + \n",
    "          ylab(\"Change in TCR diversity\") +\n",
    "          scale_x_discrete(get_breaks(\"cycle\"), labels = c(\"Pre-cycle 1\", \"Pre-cycle 2\", \"Pre-cycle 3\", \"Pre-cycle 4\", \"Pre-cycle 5\"), expand = expansion(mult = c(0.1,0.8)))\n",
    "dev.off()"
   ]
  },
  {
   "attachments": {},
   "cell_type": "markdown",
   "metadata": {
    "vscode": {
     "languageId": "r"
    }
   },
   "source": [
    "### cfDNA"
   ]
  },
  {
   "cell_type": "code",
   "execution_count": null,
   "metadata": {
    "vscode": {
     "languageId": "r"
    }
   },
   "outputs": [],
   "source": []
  },
  {
   "cell_type": "code",
   "execution_count": null,
   "metadata": {
    "vscode": {
     "languageId": "r"
    }
   },
   "outputs": [],
   "source": [
    "summary(diff_log10shann_cfdna$Difference)"
   ]
  },
  {
   "cell_type": "code",
   "execution_count": null,
   "metadata": {
    "vscode": {
     "languageId": "r"
    }
   },
   "outputs": [],
   "source": [
    "# diff_log10shann_cfdna$Difference[diff_log10shann_cfdna$cycle == \"X01\"] <- 0"
   ]
  },
  {
   "cell_type": "code",
   "execution_count": null,
   "metadata": {
    "vscode": {
     "languageId": "r"
    }
   },
   "outputs": [],
   "source": [
    "# 25% 75% intercepts\n",
    "# myintercepts <- quantile(diff_log10shann_cfdna$Difference[diff_log10shann_cfdna$Difference != 0], c(0.25, 0.75) )"
   ]
  },
  {
   "cell_type": "code",
   "execution_count": null,
   "metadata": {
    "vscode": {
     "languageId": "r"
    }
   },
   "outputs": [],
   "source": [
    "# diff_log10shann_cfdna$Relapse[is.na(diff_log10shann_cfdna$Relapse)] <- 0"
   ]
  },
  {
   "cell_type": "code",
   "execution_count": null,
   "metadata": {
    "vscode": {
     "languageId": "r"
    }
   },
   "outputs": [],
   "source": [
    "# diff_log10shann_cfdna$Relapse <- as.character(diff_log10shann_cfdna$Relapse)"
   ]
  },
  {
   "cell_type": "code",
   "execution_count": null,
   "metadata": {
    "vscode": {
     "languageId": "r"
    }
   },
   "outputs": [],
   "source": []
  },
  {
   "cell_type": "code",
   "execution_count": null,
   "metadata": {
    "vscode": {
     "languageId": "r"
    }
   },
   "outputs": [],
   "source": [
    "p_cfshann <- delta_basespiderplot.fx(diff_log10shann_cfdna, \"cycle\", \"cancergroup\", group_col)"
   ]
  },
  {
   "cell_type": "code",
   "execution_count": null,
   "metadata": {
    "vscode": {
     "languageId": "r"
    }
   },
   "outputs": [],
   "source": [
    "p_cfshann"
   ]
  },
  {
   "cell_type": "code",
   "execution_count": null,
   "metadata": {
    "vscode": {
     "languageId": "r"
    }
   },
   "outputs": [],
   "source": [
    "p_cfshann <- p_cfshann + geom_hline(yintercept = 0, linetype = \"dashed\", color = \"grey\")"
   ]
  },
  {
   "cell_type": "code",
   "execution_count": null,
   "metadata": {
    "vscode": {
     "languageId": "r"
    }
   },
   "outputs": [],
   "source": [
    "# last_timepoint <- diff_log10shann_cfdna %>%\n",
    "#     group_by(Patient) %>%\n",
    "#     filter(cycle == max(cycle))"
   ]
  },
  {
   "cell_type": "code",
   "execution_count": null,
   "metadata": {
    "vscode": {
     "languageId": "r"
    }
   },
   "outputs": [],
   "source": [
    "# last_timepoint$cycleno <- as.numeric(gsub(\"X0\", \"\", last_timepoint$cycle) )"
   ]
  },
  {
   "cell_type": "code",
   "execution_count": null,
   "metadata": {
    "vscode": {
     "languageId": "r"
    }
   },
   "outputs": [],
   "source": [
    "# p1 <- p1 + geom_text_repel(\n",
    "#     data = last_timepoint,\n",
    "#     aes(label = Disease_type),\n",
    "#     hjust = \"left\",\n",
    "#     direction = \"y\",\n",
    "#     nudge_x = 6.5 - last_timepoint$cycleno,\n",
    "#     size = 3,\n",
    "#     xlim = c(6, NA),\n",
    "#     segment.color = NA,\n",
    "# ) + facet_wrap(~cancergroup, nrow = 1)"
   ]
  },
  {
   "cell_type": "code",
   "execution_count": null,
   "metadata": {
    "vscode": {
     "languageId": "r"
    }
   },
   "outputs": [],
   "source": [
    "# pdf(paste0(plotpath, \"delta_cfDNAshann_cancergroup_facet.pdf\"), width = 10, height = 6)\n",
    "# p_cfshann + theme(legend.position = \"none\") +\n",
    "#     theme(\n",
    "#         strip.background = element_blank(),\n",
    "#         strip.text = element_text(size = 15),\n",
    "#         strip.placement = \"outside\",\n",
    "#         panel.border = element_rect(color = \"black\", fill = NA, size = 0.5)\n",
    "#     ) + facet_wrap(~cancergroup, nrow = 1) +\n",
    "#     ylab(\"Change in cfTCR diversity\") +\n",
    "#     scale_x_discrete(get_breaks(\"cycle\"), labels = c(\"Pre-cycle 1\", \"Pre-cycle 2\", \"Pre-cycle 3\", \"Pre-cycle 4\", \"Pre-cycle 5\"), expand = expansion(mult = c(0.1, 0.8)))\n",
    "\n",
    "# dev.off()\n"
   ]
  },
  {
   "attachments": {},
   "cell_type": "markdown",
   "metadata": {
    "vscode": {
     "languageId": "r"
    }
   },
   "source": [
    "### Flow"
   ]
  },
  {
   "cell_type": "code",
   "execution_count": null,
   "metadata": {
    "vscode": {
     "languageId": "r"
    }
   },
   "outputs": [],
   "source": []
  },
  {
   "cell_type": "code",
   "execution_count": null,
   "metadata": {
    "vscode": {
     "languageId": "r"
    }
   },
   "outputs": [],
   "source": []
  },
  {
   "cell_type": "code",
   "execution_count": null,
   "metadata": {
    "vscode": {
     "languageId": "r"
    }
   },
   "outputs": [],
   "source": [
    "# subset to samples with no NA in `Naïve%`, `CM%`, `EM%`, `TEMRA%`. use apply\n",
    "# to subset to samples with no NA in any of these columns\n"
   ]
  },
  {
   "cell_type": "code",
   "execution_count": null,
   "metadata": {
    "vscode": {
     "languageId": "r"
    }
   },
   "outputs": [],
   "source": [
    "mycells <- c(\"`Naïve%`\", \"`SCM%`\", \"`CM%`\", \"`EM%`\", \"`TE%`\", \"`LAG3%`\", \"`TIM3%`\", \"`PD1%`\")"
   ]
  },
  {
   "cell_type": "code",
   "execution_count": null,
   "metadata": {
    "vscode": {
     "languageId": "r"
    }
   },
   "outputs": [],
   "source": []
  },
  {
   "cell_type": "code",
   "execution_count": null,
   "metadata": {
    "vscode": {
     "languageId": "r"
    }
   },
   "outputs": [],
   "source": []
  },
  {
   "cell_type": "code",
   "execution_count": null,
   "metadata": {
    "vscode": {
     "languageId": "r"
    }
   },
   "outputs": [],
   "source": [
    "head(pbmc1_long)"
   ]
  },
  {
   "cell_type": "code",
   "execution_count": null,
   "metadata": {
    "vscode": {
     "languageId": "r"
    }
   },
   "outputs": [],
   "source": []
  },
  {
   "cell_type": "markdown",
   "metadata": {},
   "source": [
    "Leu"
   ]
  },
  {
   "cell_type": "code",
   "execution_count": null,
   "metadata": {
    "vscode": {
     "languageId": "r"
    }
   },
   "outputs": [],
   "source": [
    "head(diff_log10shann)"
   ]
  },
  {
   "cell_type": "code",
   "execution_count": null,
   "metadata": {
    "vscode": {
     "languageId": "r"
    }
   },
   "outputs": [],
   "source": [
    "diff_log10shann$grp <- \"TCR Diversity\"\n",
    "diff_log10shann_cfdna$grp <- \"cfTCR Diversity\""
   ]
  },
  {
   "cell_type": "code",
   "execution_count": null,
   "metadata": {
    "vscode": {
     "languageId": "r"
    }
   },
   "outputs": [],
   "source": [
    "p_shann_leu <- delta_basespiderplot.fx(diff_log10shann[ diff_log10shann$cancergroup == \"Leukemia\",], \n",
    "\"cycle\", \"cancergroup\", group_col) + theme(legend.position = \"none\")"
   ]
  },
  {
   "cell_type": "code",
   "execution_count": null,
   "metadata": {
    "vscode": {
     "languageId": "r"
    }
   },
   "outputs": [],
   "source": [
    "p_shann_leu <- p_shann_leu + theme(legend.position = \"none\") +\n",
    "  facet_wrap(~grp, nrow = 1, scales = \"free_x\", strip.position = \"top\") +\n",
    "  theme(\n",
    "    axis.title.x = element_blank(),\n",
    "    legend.position = \"none\",\n",
    "    strip.background.x = element_blank(),\n",
    "    strip.placement = \"outside\"\n",
    "  ) +\n",
    "  ylab(\"Change in TCR diversity\") +\n",
    "  scale_x_discrete(get_breaks(\"cycle\"),\n",
    "    labels = c(\"Pre-cycle 1\", \"Pre-cycle 2\", \"Pre-cycle 3\", \"Pre-cycle 4\", \"Pre-cycle 5\")\n",
    "  )\n"
   ]
  },
  {
   "cell_type": "code",
   "execution_count": null,
   "metadata": {
    "vscode": {
     "languageId": "r"
    }
   },
   "outputs": [],
   "source": [
    "p_cfshann_leu <- delta_basespiderplot.fx(\n",
    "    diff_log10shann_cfdna[diff_log10shann_cfdna$cancergroup == \"Leukemia\", ],\n",
    "    \"cycle\", \"cancergroup\", group_col\n",
    ")"
   ]
  },
  {
   "cell_type": "code",
   "execution_count": null,
   "metadata": {
    "vscode": {
     "languageId": "r"
    }
   },
   "outputs": [],
   "source": [
    "p_cfshann_leu <- p_cfshann_leu + theme(legend.position = \"none\") +\n",
    "    facet_wrap(~grp, nrow = 1, scales = \"free_x\", strip.position = \"top\") +\n",
    "    theme(\n",
    "        axis.title.x = element_blank(),\n",
    "        legend.position = \"none\",\n",
    "        strip.background.x = element_blank(),\n",
    "        strip.placement = \"outside\"\n",
    "    ) +\n",
    "    ylab(\"Change in cfTCR diversity\") +\n",
    "    scale_x_discrete(get_breaks(\"cycle\"),\n",
    "        labels = c(\"Pre-cycle 1\", \"Pre-cycle 2\", \"Pre-cycle 3\", \"Pre-cycle 4\", \"Pre-cycle 5\")\n",
    "    )\n"
   ]
  },
  {
   "cell_type": "code",
   "execution_count": null,
   "metadata": {
    "vscode": {
     "languageId": "r"
    }
   },
   "outputs": [],
   "source": [
    "table(pbmc1_long_cells$Celltype)"
   ]
  },
  {
   "cell_type": "code",
   "execution_count": null,
   "metadata": {
    "vscode": {
     "languageId": "r"
    }
   },
   "outputs": [],
   "source": [
    "pbmc1_long_cells$Celltype <- factor(pbmc1_long_cells$Celltype, levels = c(\"Diff_Naïve\", \"Diff_SCM\", \"Diff_CM\", \"Diff_EM\", \"Diff_TE\"))"
   ]
  },
  {
   "cell_type": "code",
   "execution_count": null,
   "metadata": {
    "vscode": {
     "languageId": "r"
    }
   },
   "outputs": [],
   "source": [
    "p_leu <- ggplot(pbmc1_long_cells[pbmc1_long_cells$cancergroup == \"Leukemia\", ], aes(x = cycle, y = Diff)) +\n",
    "    geom_point(aes(color = cancergroup), cex = 2) +\n",
    "    geom_line(aes(group = Patient, color = cancergroup)) +\n",
    "    scale_color_manual(values = group_col) +\n",
    "    myplot +\n",
    "    myaxis +\n",
    "    theme(\n",
    "        axis.text.x = element_text(angle = 45, hjust = 1),\n",
    "        axis.title.x = element_blank(), legend.position = \"none\"\n",
    "    ) +\n",
    "    facet_wrap(~Celltype, nrow = 1, scales = \"free_x\", strip.position = \"top\") +\n",
    "    theme(\n",
    "        axis.title.x = element_blank(),\n",
    "        legend.position = \"none\",\n",
    "        strip.background.x = element_blank(),\n",
    "        strip.placement = \"outside\"\n",
    "    ) +\n",
    "    ylab(\"Change in T-cell subsets\") +\n",
    "    scale_x_discrete(get_breaks(\"cycle\"),\n",
    "        labels = c(\"Pre-cycle 1\", \"Pre-cycle 2\", \"Pre-cycle 3\", \"Pre-cycle 4\", \"Pre-cycle 5\")\n",
    "    )\n"
   ]
  },
  {
   "cell_type": "code",
   "execution_count": null,
   "metadata": {
    "vscode": {
     "languageId": "r"
    }
   },
   "outputs": [],
   "source": [
    "p_leu_ic <- ggplot(pbmc1_long_ic[pbmc1_long_ic$cancergroup == \"Leukemia\", ], aes(x = cycle, y = Diff)) +\n",
    "    geom_point(aes(color = cancergroup), cex = 2) +\n",
    "    geom_line(aes(group = Patient, color = cancergroup)) +\n",
    "    scale_color_manual(values = group_col) +\n",
    "    myplot +\n",
    "    myaxis +\n",
    "    theme(\n",
    "        axis.text.x = element_text(angle = 45, hjust = 1),\n",
    "        axis.title.x = element_blank(), legend.position = \"none\"\n",
    "    ) +\n",
    "    facet_wrap(~Celltype, nrow = 1, scales = \"free_x\", strip.position = \"top\") +\n",
    "    theme(\n",
    "        axis.title.x = element_blank(),\n",
    "        legend.position = \"none\",\n",
    "        strip.background.x = element_blank(),\n",
    "        strip.placement = \"outside\"\n",
    "    ) +\n",
    "ylab(\"Change in Immune Checkpoint proteins\") +\n",
    "    scale_x_discrete(get_breaks(\"cycle\"),\n",
    "        labels = c(\"Pre-cycle 1\", \"Pre-cycle 2\", \"Pre-cycle 3\", \"Pre-cycle 4\", \"Pre-cycle 5\")\n",
    "    )\n"
   ]
  },
  {
   "cell_type": "code",
   "execution_count": null,
   "metadata": {
    "vscode": {
     "languageId": "r"
    }
   },
   "outputs": [],
   "source": [
    "p_leu"
   ]
  },
  {
   "cell_type": "code",
   "execution_count": null,
   "metadata": {
    "vscode": {
     "languageId": "r"
    }
   },
   "outputs": [],
   "source": [
    "pdf(paste0(plotpath, \"p_leu_spiderplots_overtime.pdf\"), width = 20, height = 4)\n",
    "cowplot::plot_grid(p_leu ,\n",
    "p_leu_ic , \n",
    "p_shann_leu , \n",
    "p_cfshann_leu , #labels = c(\"A\", \"B\", \"C\", \"D\"),\n",
    "    rel_widths = c(0.5, 0.3, 0.1, 0.1), nrow = 1, ncol = 4\n",
    ")\n",
    "dev.off()"
   ]
  },
  {
   "cell_type": "markdown",
   "metadata": {},
   "source": [
    "Lym"
   ]
  },
  {
   "cell_type": "code",
   "execution_count": null,
   "metadata": {
    "vscode": {
     "languageId": "r"
    }
   },
   "outputs": [],
   "source": [
    "p_shann_lym <- delta_basespiderplot.fx(\n",
    "    diff_log10shann[diff_log10shann$cancergroup == \"Lymphoma\", ],\n",
    "    \"cycle\", \"cancergroup\", group_col\n",
    ") + theme(legend.position = \"none\")"
   ]
  },
  {
   "cell_type": "code",
   "execution_count": null,
   "metadata": {
    "vscode": {
     "languageId": "r"
    }
   },
   "outputs": [],
   "source": [
    "p_shann_lym <- p_shann_lym + theme(legend.position = \"none\") +\n",
    "  facet_wrap(~grp, nrow = 1, scales = \"free_x\", strip.position = \"top\") +\n",
    "  theme(\n",
    "    axis.title.x = element_blank(),\n",
    "    legend.position = \"none\",\n",
    "    strip.background.x = element_blank(),\n",
    "    strip.placement = \"outside\"\n",
    "  ) +\n",
    "  ylab(\"Change in TCR diversity\") +\n",
    "  scale_x_discrete(get_breaks(\"cycle\"),\n",
    "    labels = c(\"Pre-cycle 1\", \"Pre-cycle 2\", \"Pre-cycle 3\", \"Pre-cycle 4\", \"Pre-cycle 5\")\n",
    "  )\n"
   ]
  },
  {
   "cell_type": "code",
   "execution_count": null,
   "metadata": {
    "vscode": {
     "languageId": "r"
    }
   },
   "outputs": [],
   "source": [
    "p_cfshann_lym <- delta_basespiderplot.fx(\n",
    "    diff_log10shann_cfdna[diff_log10shann_cfdna$cancergroup == \"Lymphoma\", ],\n",
    "    \"cycle\", \"cancergroup\", group_col\n",
    ")\n"
   ]
  },
  {
   "cell_type": "code",
   "execution_count": null,
   "metadata": {
    "vscode": {
     "languageId": "r"
    }
   },
   "outputs": [],
   "source": [
    "p_cfshann_lym <- p_cfshann_lym + theme(legend.position = \"none\") +\n",
    "    facet_wrap(~grp, nrow = 1, scales = \"free_x\", strip.position = \"top\") +\n",
    "    theme(\n",
    "        axis.title.x = element_blank(),\n",
    "        legend.position = \"none\",\n",
    "        strip.background.x = element_blank(),\n",
    "        strip.placement = \"outside\"\n",
    "    ) +\n",
    "    ylab(\"Change in cfTCR diversity\") +\n",
    "    scale_x_discrete(get_breaks(\"cycle\"),\n",
    "        labels = c(\"Pre-cycle 1\", \"Pre-cycle 2\", \"Pre-cycle 3\", \"Pre-cycle 4\", \"Pre-cycle 5\")\n",
    "    )\n"
   ]
  },
  {
   "cell_type": "code",
   "execution_count": null,
   "metadata": {
    "vscode": {
     "languageId": "r"
    }
   },
   "outputs": [],
   "source": [
    "p_lym <- ggplot(pbmc1_long_cells[pbmc1_long_cells$cancergroup == \"Lymphoma\", ], aes(x = cycle, y = Diff)) +\n",
    "    geom_point(aes(color = cancergroup), cex = 2) +\n",
    "    geom_line(aes(group = Patient, color = cancergroup)) +\n",
    "    scale_color_manual(values = group_col) +\n",
    "    myplot +\n",
    "    myaxis +\n",
    "    theme(\n",
    "        axis.text.x = element_text(angle = 45, hjust = 1),\n",
    "        axis.title.x = element_blank(), legend.position = \"none\"\n",
    "    ) +\n",
    "    facet_wrap(~Celltype, nrow = 1, scales = \"free_x\", strip.position = \"top\") +\n",
    "    theme(\n",
    "        axis.title.x = element_blank(),\n",
    "        legend.position = \"none\",\n",
    "        strip.background.x = element_blank(),\n",
    "        strip.placement = \"outside\"\n",
    "    ) +\n",
    "    ylab(\"Change in T-cell subsets\") +\n",
    "    scale_x_discrete(get_breaks(\"cycle\"),\n",
    "        labels = c(\"Pre-cycle 1\", \"Pre-cycle 2\", \"Pre-cycle 3\", \"Pre-cycle 4\", \"Pre-cycle 5\")\n",
    "    )\n"
   ]
  },
  {
   "cell_type": "code",
   "execution_count": null,
   "metadata": {
    "vscode": {
     "languageId": "r"
    }
   },
   "outputs": [],
   "source": [
    "p_lym_ic <- ggplot(pbmc1_long_ic[pbmc1_long_ic$cancergroup == \"Lymphoma\", ], aes(x = cycle, y = Diff)) +\n",
    "    geom_point(aes(color = cancergroup), cex = 2) +\n",
    "    geom_line(aes(group = Patient, color = cancergroup)) +\n",
    "    scale_color_manual(values = group_col) +\n",
    "    myplot +\n",
    "    myaxis +\n",
    "    theme(\n",
    "        axis.text.x = element_text(angle = 45, hjust = 1),\n",
    "        axis.title.x = element_blank(), legend.position = \"none\"\n",
    "    ) +\n",
    "    facet_wrap(~Celltype, nrow = 1, scales = \"free_x\", strip.position = \"top\") +\n",
    "    theme(\n",
    "        axis.title.x = element_blank(),\n",
    "        legend.position = \"none\",\n",
    "        strip.background.x = element_blank(),\n",
    "        strip.placement = \"outside\"\n",
    "    ) +\n",
    "    ylab(\"Change in Immune Checkpoint proteins\") +\n",
    "    scale_x_discrete(get_breaks(\"cycle\"),\n",
    "        labels = c(\"Pre-cycle 1\", \"Pre-cycle 2\", \"Pre-cycle 3\", \"Pre-cycle 4\", \"Pre-cycle 5\")\n",
    "    )\n"
   ]
  },
  {
   "cell_type": "code",
   "execution_count": null,
   "metadata": {
    "vscode": {
     "languageId": "r"
    }
   },
   "outputs": [],
   "source": [
    "pdf(paste0(plotpath, \"p_lym_spiderplots_overtime.pdf\"), width = 20, height = 4)\n",
    "cowplot::plot_grid(p_lym ,\n",
    "    p_lym_ic ,\n",
    "    p_shann_lym ,\n",
    "    p_cfshann_lym, # labels = c(\"A\", \"B\", \"C\", \"D\"),\n",
    "    rel_widths = c(0.5, 0.3, 0.1, 0.1), nrow = 1, ncol = 4\n",
    ")\n",
    "dev.off()"
   ]
  },
  {
   "cell_type": "markdown",
   "metadata": {},
   "source": [
    "Solid"
   ]
  },
  {
   "cell_type": "code",
   "execution_count": null,
   "metadata": {
    "vscode": {
     "languageId": "r"
    }
   },
   "outputs": [],
   "source": [
    "p_shann_solid <- delta_basespiderplot.fx(\n",
    "    diff_log10shann[diff_log10shann$cancergroup == \"Solid tumors\", ],\n",
    "    \"cycle\", \"cancergroup\", group_col\n",
    ") + theme(legend.position = \"none\")"
   ]
  },
  {
   "cell_type": "code",
   "execution_count": null,
   "metadata": {
    "vscode": {
     "languageId": "r"
    }
   },
   "outputs": [],
   "source": [
    "p_shann_solid <- p_shann_solid + theme(legend.position = \"none\") +\n",
    "  facet_wrap(~grp, nrow = 1, scales = \"free_x\", strip.position = \"top\") +\n",
    "  theme(\n",
    "    axis.title.x = element_blank(),\n",
    "    legend.position = \"none\",\n",
    "    strip.background.x = element_blank(),\n",
    "    strip.placement = \"outside\"\n",
    "  ) +\n",
    "  ylab(\"Change in TCR diversity\") +\n",
    "  scale_x_discrete(get_breaks(\"cycle\"),\n",
    "    labels = c(\"Pre-cycle 1\", \"Pre-cycle 2\", \"Pre-cycle 3\", \"Pre-cycle 4\", \"Pre-cycle 5\")\n",
    "  )\n"
   ]
  },
  {
   "cell_type": "code",
   "execution_count": null,
   "metadata": {
    "vscode": {
     "languageId": "r"
    }
   },
   "outputs": [],
   "source": [
    "p_cfshann_solid <- delta_basespiderplot.fx(\n",
    "    diff_log10shann_cfdna[diff_log10shann_cfdna$cancergroup == \"Solid tumors\", ],\n",
    "    \"cycle\", \"cancergroup\", group_col\n",
    ")\n"
   ]
  },
  {
   "cell_type": "code",
   "execution_count": null,
   "metadata": {
    "vscode": {
     "languageId": "r"
    }
   },
   "outputs": [],
   "source": [
    "p_cfshann_solid <- p_cfshann_solid + theme(legend.position = \"none\") +\n",
    "    facet_wrap(~grp, nrow = 1, scales = \"free_x\", strip.position = \"top\") +\n",
    "    theme(\n",
    "        axis.title.x = element_blank(),\n",
    "        legend.position = \"none\",\n",
    "        strip.background.x = element_blank(),\n",
    "        strip.placement = \"outside\"\n",
    "    ) +\n",
    "    ylab(\"Change in cfTCR diversity\") +\n",
    "    scale_x_discrete(get_breaks(\"cycle\"),\n",
    "        labels = c(\"Pre-cycle 1\", \"Pre-cycle 2\", \"Pre-cycle 3\", \"Pre-cycle 4\", \"Pre-cycle 5\")\n",
    "    )\n"
   ]
  },
  {
   "cell_type": "code",
   "execution_count": null,
   "metadata": {
    "vscode": {
     "languageId": "r"
    }
   },
   "outputs": [],
   "source": [
    "p_solid <- ggplot(pbmc1_long_cells[pbmc1_long_cells$cancergroup == \"Solid tumors\", ], aes(x = cycle, y = Diff)) +\n",
    "    geom_point(aes(color = cancergroup), cex = 2) +\n",
    "    geom_line(aes(group = Patient, color = cancergroup)) +\n",
    "    scale_color_manual(values = group_col) +\n",
    "    myplot +\n",
    "    myaxis +\n",
    "    theme(\n",
    "        axis.text.x = element_text(angle = 45, hjust = 1),\n",
    "        axis.title.x = element_blank(), legend.position = \"none\"\n",
    "    ) +\n",
    "    facet_wrap(~Celltype, nrow = 1, scales = \"free_x\", strip.position = \"top\") +\n",
    "    theme(\n",
    "        axis.title.x = element_blank(),\n",
    "        legend.position = \"none\",\n",
    "        strip.background.x = element_blank(),\n",
    "        strip.placement = \"outside\"\n",
    "    ) +\n",
    "    ylab(\"Change in T-cell subsets\") +\n",
    "    scale_x_discrete(get_breaks(\"cycle\"),\n",
    "        labels = c(\"Pre-cycle 1\", \"Pre-cycle 2\", \"Pre-cycle 3\", \"Pre-cycle 4\", \"Pre-cycle 5\")\n",
    "    )\n"
   ]
  },
  {
   "cell_type": "code",
   "execution_count": null,
   "metadata": {
    "vscode": {
     "languageId": "r"
    }
   },
   "outputs": [],
   "source": [
    "p_solid_ic <- ggplot(pbmc1_long_ic[pbmc1_long_ic$cancergroup == \"Solid tumors\", ], aes(x = cycle, y = Diff)) +\n",
    "    geom_point(aes(color = cancergroup), cex = 2) +\n",
    "    geom_line(aes(group = Patient, color = cancergroup)) +\n",
    "    scale_color_manual(values = group_col) +\n",
    "    myplot +\n",
    "    myaxis +\n",
    "    theme(\n",
    "        axis.text.x = element_text(angle = 45, hjust = 1),\n",
    "        axis.title.x = element_blank(), legend.position = \"none\"\n",
    "    ) +\n",
    "    facet_wrap(~Celltype, nrow = 1, scales = \"free_x\", strip.position = \"top\") +\n",
    "    theme(\n",
    "        axis.title.x = element_blank(),\n",
    "        legend.position = \"none\",\n",
    "        strip.background.x = element_blank(),\n",
    "        strip.placement = \"outside\"\n",
    "    ) +\n",
    "    ylab(\"Change in Immune Checkpoint proteins\") +\n",
    "    scale_x_discrete(get_breaks(\"cycle\"),\n",
    "        labels = c(\"Pre-cycle 1\", \"Pre-cycle 2\", \"Pre-cycle 3\", \"Pre-cycle 4\", \"Pre-cycle 5\")\n",
    "    )\n"
   ]
  },
  {
   "cell_type": "code",
   "execution_count": null,
   "metadata": {
    "vscode": {
     "languageId": "r"
    }
   },
   "outputs": [],
   "source": [
    "pdf(paste0(plotpath, \"p_solid_spiderplots_overtime.pdf\"), width = 20, height = 4)\n",
    "cowplot::plot_grid(p_solid,\n",
    "    p_solid_ic,\n",
    "    p_shann_solid ,\n",
    "    p_cfshann_solid, # labels = c(\"A\", \"B\", \"C\", \"D\"),\n",
    "    rel_widths = c(0.5, 0.3, 0.1, 0.1), nrow = 1, ncol = 4\n",
    ")\n",
    "dev.off()\n"
   ]
  },
  {
   "cell_type": "code",
   "execution_count": null,
   "metadata": {
    "vscode": {
     "languageId": "r"
    }
   },
   "outputs": [],
   "source": []
  },
  {
   "cell_type": "markdown",
   "metadata": {},
   "source": [
    "## Average change over time"
   ]
  },
  {
   "cell_type": "code",
   "execution_count": null,
   "metadata": {
    "vscode": {
     "languageId": "r"
    }
   },
   "outputs": [],
   "source": [
    "table(meta_div$cancergroup)"
   ]
  },
  {
   "cell_type": "code",
   "execution_count": null,
   "metadata": {
    "vscode": {
     "languageId": "r"
    }
   },
   "outputs": [],
   "source": [
    "meta_div <- meta_div[ meta_div$cancergroup %in% c(\"Leukemia\", \"Solid tumors\", \"Lymphoma\"),]"
   ]
  },
  {
   "cell_type": "code",
   "execution_count": null,
   "metadata": {
    "vscode": {
     "languageId": "r"
    }
   },
   "outputs": [],
   "source": [
    "# pbmc <- meta_div[ which(meta_div$sampletype == \"PBMC\"),]"
   ]
  },
  {
   "cell_type": "code",
   "execution_count": null,
   "metadata": {
    "vscode": {
     "languageId": "r"
    }
   },
   "outputs": [],
   "source": [
    "pbmc1 <- meta_div[ meta_div$sampletype == \"PBMC\" & !is.na(meta_div$CD3),]\n",
    "# pbmc1 <- pbmc1[ pbmc1$CD3 > 0,]"
   ]
  },
  {
   "cell_type": "code",
   "execution_count": null,
   "metadata": {
    "vscode": {
     "languageId": "r"
    }
   },
   "outputs": [],
   "source": [
    "mytab <- table(pbmc1$Patient, pbmc1$cycle)\n",
    "mytab <- mytab[rowSums(mytab == 1) > 1, ]\n",
    "baseline_patients <- rownames(mytab)[mytab[, 1] == 1]\n",
    "df1 <- pbmc1[pbmc1$Patient %in% baseline_patients, ]"
   ]
  },
  {
   "cell_type": "code",
   "execution_count": null,
   "metadata": {
    "vscode": {
     "languageId": "r"
    }
   },
   "outputs": [],
   "source": [
    "dim(df1)"
   ]
  },
  {
   "cell_type": "code",
   "execution_count": null,
   "metadata": {
    "vscode": {
     "languageId": "r"
    }
   },
   "outputs": [],
   "source": [
    "df1$cfTCR_shann <- cfdna[ match(df1$sample_id, cfdna$sample_id), \"log10shann\"]"
   ]
  },
  {
   "cell_type": "code",
   "execution_count": null,
   "metadata": {
    "vscode": {
     "languageId": "r"
    }
   },
   "outputs": [],
   "source": [
    "result <- df1 %>%\n",
    "    group_by(Patient) %>%\n",
    "    mutate(DifferenceN = `Naïve%` - `Naïve%`[cycle == \"X01\"]) %>%\n",
    "    mutate(DifferenceCM = `CM%` - `CM%`[cycle == \"X01\"]) %>%\n",
    "    mutate(DifferenceSCM = `SCM%` - `SCM%`[cycle == \"X01\"]) %>%\n",
    "    mutate(DifferenceEM = `EM%` - `EM%`[cycle == \"X01\"]) %>%\n",
    "    mutate(DifferenceTE = `TE%` - `TE%`[cycle == \"X01\"]) %>%\n",
    "    mutate(DifferenceLAG = `LAG3%` - `LAG3%`[cycle == \"X01\"]) %>%\n",
    "    mutate(DifferenceTIM = `TIM3%` - `TIM3%`[cycle == \"X01\"]) %>%\n",
    "    mutate(DifferencePD1 = `PD1%` - `PD1%`[cycle == \"X01\"]) %>%\n",
    "    mutate(DifferenceTCR = log10shann - log10shann[cycle == \"X01\"]) %>%\n",
    "    mutate(DifferencecfTCR = cfTCR_shann - cfTCR_shann[cycle == \"X01\"])\n"
   ]
  },
  {
   "cell_type": "code",
   "execution_count": null,
   "metadata": {
    "vscode": {
     "languageId": "r"
    }
   },
   "outputs": [],
   "source": [
    "result_noX01 <- result[ result$cycle != \"X01\", ]"
   ]
  },
  {
   "cell_type": "code",
   "execution_count": null,
   "metadata": {
    "vscode": {
     "languageId": "r"
    }
   },
   "outputs": [],
   "source": [
    "# group_by Patient and average DifferencecfTCR\n",
    "tmp <- result_noX01 %>%\n",
    "    group_by(Patient) %>%\n",
    "    mutate(AverageDifferenceTCR = mean(DifferenceN, na.rm = TRUE))"
   ]
  },
  {
   "cell_type": "code",
   "execution_count": null,
   "metadata": {
    "vscode": {
     "languageId": "r"
    }
   },
   "outputs": [],
   "source": [
    "pairwise.t.test(tmp$AverageDifferenceTCR, tmp$cancergroup, p.adjust.method = \"none\")"
   ]
  },
  {
   "cell_type": "markdown",
   "metadata": {
    "vscode": {
     "languageId": "r"
    }
   },
   "source": [
    "## Per patient spider plot"
   ]
  },
  {
   "cell_type": "code",
   "execution_count": null,
   "metadata": {
    "vscode": {
     "languageId": "r"
    }
   },
   "outputs": [],
   "source": [
    "pbmc1 <- meta_div[ meta_div$sampletype == \"PBMC\" & !is.na(meta_div$CD3),]\n",
    "pbmc1 <- pbmc1[ pbmc1$CD3 > 0,]"
   ]
  },
  {
   "cell_type": "code",
   "execution_count": null,
   "metadata": {
    "vscode": {
     "languageId": "r"
    }
   },
   "outputs": [],
   "source": [
    "mytab <- table(pbmc1$Patient, pbmc1$cycle)\n",
    "mytab <- mytab[rowSums(mytab == 1) > 1, ]\n",
    "baseline_patients <- rownames(mytab)[mytab[, 1] == 1]\n",
    "df1 <- pbmc1[pbmc1$Patient %in% baseline_patients, ]"
   ]
  },
  {
   "cell_type": "code",
   "execution_count": null,
   "metadata": {
    "vscode": {
     "languageId": "r"
    }
   },
   "outputs": [],
   "source": [
    "dim(df1)"
   ]
  },
  {
   "cell_type": "code",
   "execution_count": null,
   "metadata": {
    "vscode": {
     "languageId": "r"
    }
   },
   "outputs": [],
   "source": [
    "df1$cfTCR_shann <- cfdna[ match(df1$sample_id, cfdna$sample_id), \"log10shann\"]"
   ]
  },
  {
   "cell_type": "code",
   "execution_count": null,
   "metadata": {
    "vscode": {
     "languageId": "r"
    }
   },
   "outputs": [],
   "source": [
    "result <- df1 %>%\n",
    "    group_by(Patient) %>%\n",
    "    mutate(DifferenceN = `Naïve%` - `Naïve%`[cycle == \"X01\"]) %>%\n",
    "    mutate(DifferenceCM = `CM%` - `CM%`[cycle == \"X01\"]) %>%\n",
    "    mutate(DifferenceSCM = `SCM%` - `SCM%`[cycle == \"X01\"]) %>%\n",
    "    mutate(DifferenceEM = `EM%` - `EM%`[cycle == \"X01\"]) %>%\n",
    "    mutate(DifferenceTE = `TE%` - `TE%`[cycle == \"X01\"]) %>%\n",
    "    mutate(DifferenceLAG = `LAG3%` - `LAG3%`[cycle == \"X01\"]) %>%\n",
    "    mutate(DifferenceTIM = `TIM3%` - `TIM3%`[cycle == \"X01\"]) %>%\n",
    "    mutate(DifferencePD1 = `PD1%` - `PD1%`[cycle == \"X01\"]) %>%\n",
    "    mutate(DifferenceTCR = log10shann - log10shann[cycle == \"X01\"]) %>%\n",
    "    mutate(DifferencecfTCR = cfTCR_shann - cfTCR_shann[cycle == \"X01\"])\n"
   ]
  },
  {
   "cell_type": "code",
   "execution_count": null,
   "metadata": {
    "vscode": {
     "languageId": "r"
    }
   },
   "outputs": [],
   "source": [
    "result_noX01 <- result[ result$cycle != \"X01\", ]"
   ]
  },
  {
   "cell_type": "code",
   "execution_count": null,
   "metadata": {
    "vscode": {
     "languageId": "r"
    }
   },
   "outputs": [],
   "source": [
    "dim(result_noX01)"
   ]
  },
  {
   "cell_type": "code",
   "execution_count": null,
   "metadata": {
    "vscode": {
     "languageId": "r"
    }
   },
   "outputs": [],
   "source": [
    "head(result)"
   ]
  },
  {
   "cell_type": "code",
   "execution_count": null,
   "metadata": {
    "vscode": {
     "languageId": "r"
    }
   },
   "outputs": [],
   "source": [
    "tmp <- result[ !duplicated(result$Patient), ]\n",
    "tmp <- tmp[ order(tmp$cancergroup),]"
   ]
  },
  {
   "cell_type": "code",
   "execution_count": null,
   "metadata": {
    "vscode": {
     "languageId": "r"
    }
   },
   "outputs": [],
   "source": [
    "head(tmp)"
   ]
  },
  {
   "cell_type": "code",
   "execution_count": null,
   "metadata": {
    "vscode": {
     "languageId": "r"
    }
   },
   "outputs": [],
   "source": [
    "result$Patient <- factor(result$Patient, levels = tmp$Patient)"
   ]
  },
  {
   "cell_type": "code",
   "execution_count": null,
   "metadata": {
    "vscode": {
     "languageId": "r"
    }
   },
   "outputs": [],
   "source": [
    "result_m <- reshape2::melt(result[, c(\n",
    "    \"Patient\", \"cycle\", \"cancergroup\", \"Disease_type\",\n",
    "    \"DifferenceN\", \"DifferenceSCM\", \"DifferenceCM\", \"DifferenceEM\", \"DifferenceTE\",\n",
    "    \"DifferenceLAG\", \"DifferenceTIM\", \"DifferencePD1\" #\"DifferenceTCR\", \"DifferencecfTCR\"\n",
    ")], id.vars = c(\"Patient\", \"cycle\", \"cancergroup\", \"Disease_type\"))\n"
   ]
  },
  {
   "cell_type": "code",
   "execution_count": null,
   "metadata": {
    "vscode": {
     "languageId": "r"
    }
   },
   "outputs": [],
   "source": [
    "head(result_m)"
   ]
  },
  {
   "cell_type": "code",
   "execution_count": null,
   "metadata": {
    "vscode": {
     "languageId": "r"
    }
   },
   "outputs": [],
   "source": [
    "result_m$grp <- NA\n",
    "result_m$grp[ result_m$variable %in% c(\"DifferenceN\", \"DifferenceSCM\", \"DifferenceCM\", \"DifferenceEM\", \"DifferenceTE\") ] <- \"T cell subsets\"\n",
    "result_m$grp[ result_m$variable %in% c(\"DifferenceLAG\", \"DifferenceTIM\", \"DifferencePD1\") ] <- \"T cell exhaustion markers\"\n",
    "# result_m$grp[ result_m$variable %in% c(\"DifferenceTCR\", \"DifferencecfTCR\") ] <- \"TCR diversity\""
   ]
  },
  {
   "cell_type": "code",
   "execution_count": null,
   "metadata": {
    "vscode": {
     "languageId": "r"
    }
   },
   "outputs": [],
   "source": [
    "p0 <- ggplot(result_m, aes(x = cycle, y = value)) +\n",
    "    geom_point(aes(color = variable)) +\n",
    "    geom_line(aes(group = variable, color = variable)) +\n",
    "    myplot +\n",
    "    myaxis +\n",
    "    theme(\n",
    "        axis.text.x = element_text(angle = 45, hjust = 1),\n",
    "        axis.title.x = element_blank()\n",
    "    ) + scale_color_brewer(palette = \"Dark2\") \n"
   ]
  },
  {
   "cell_type": "code",
   "execution_count": null,
   "metadata": {
    "vscode": {
     "languageId": "r"
    }
   },
   "outputs": [],
   "source": [
    "p1 <- p0 + facet_nested(grp ~ Patient + cancergroup, nest_line = element_line(linetype = 1), switch = \"y\", axes = \"all\", remove_labels = \"all\") +\n",
    "    theme(\n",
    "        axis.title.y = element_blank(),\n",
    "        strip.background = element_blank(),\n",
    "        strip.text = element_text(size = 10),\n",
    "        strip.placement = \"outside\",\n",
    "        legend.position = \"right\",\n",
    "        panel.border = element_rect(color = \"black\", fill = NA, size = 0.5),\n",
    "        ggh4x.facet.nestline = element_line(colour = \"black\", linewidth = 0.3),\n",
    "        axis.text.x = element_blank()\n",
    "    ) + scale_x_discrete(get_breaks(\"cycle\"), labels = c(\"Pre-cycle 1\", \"Pre-cycle 2\", \"Pre-cycle 3\", \"Pre-cycle 4\", \"Pre-cycle 5\"), expand = expansion(mult = c(0.1, 0.8)))\n"
   ]
  },
  {
   "cell_type": "code",
   "execution_count": null,
   "metadata": {
    "vscode": {
     "languageId": "r"
    }
   },
   "outputs": [],
   "source": [
    "result_m_tcr <- reshape2::melt(result[, c(\n",
    "    \"Patient\", \"cycle\", \"cancergroup\", \"Disease_type\",\n",
    "    \"DifferenceTCR\", \"DifferencecfTCR\"\n",
    ")], id.vars = c(\"Patient\", \"cycle\", \"cancergroup\", \"Disease_type\"))\n"
   ]
  },
  {
   "cell_type": "code",
   "execution_count": null,
   "metadata": {
    "vscode": {
     "languageId": "r"
    }
   },
   "outputs": [],
   "source": [
    "result_m_tcr$grp <- NA\n",
    "result_m_tcr$grp[ result_m_tcr$variable %in% c(\"DifferenceTCR\", \"DifferencecfTCR\") ] <- \"TCR diversity\""
   ]
  },
  {
   "cell_type": "code",
   "execution_count": null,
   "metadata": {
    "vscode": {
     "languageId": "r"
    }
   },
   "outputs": [],
   "source": [
    "p2 <- ggplot(result_m_tcr, aes(x = cycle, y = value)) +\n",
    "    geom_point(aes(color = variable)) +\n",
    "    geom_line(aes(group = variable, color = variable)) +\n",
    "    myplot +\n",
    "    myaxis +\n",
    "    theme(\n",
    "        axis.text.x = element_text(angle = 45, hjust = 1),\n",
    "        axis.title.x = element_blank()\n",
    "    ) + scale_color_brewer(palette = \"Set1\")"
   ]
  },
  {
   "cell_type": "code",
   "execution_count": null,
   "metadata": {
    "vscode": {
     "languageId": "r"
    }
   },
   "outputs": [],
   "source": [
    "p3 <- p2 + facet_nested(grp ~ Patient + cancergroup, nest_line = element_line(linetype = 1), switch = \"y\", axes = \"all\", remove_labels = \"all\") +\n",
    "    theme(\n",
    "        axis.title.y = element_blank(),\n",
    "        strip.background = element_blank(),\n",
    "        strip.text = element_blank(),\n",
    "        strip.placement = \"outside\",\n",
    "        legend.position = \"right\",\n",
    "        panel.border = element_rect(color = \"black\", fill = NA, size = 0.5),\n",
    "        ggh4x.facet.nestline = element_line(colour = \"black\", linewidth = 0.3),\n",
    "        axis.text.x = element_text(size = 10)\n",
    "    ) + scale_x_discrete(get_breaks(\"cycle\"), labels = c(\"Pre-cycle 1\", \"Pre-cycle 2\", \"Pre-cycle 3\", \"Pre-cycle 4\", \"Pre-cycle 5\"), expand = expansion(mult = c(0.1, 0.8)))\n"
   ]
  },
  {
   "cell_type": "code",
   "execution_count": null,
   "metadata": {
    "vscode": {
     "languageId": "r"
    }
   },
   "outputs": [],
   "source": [
    "library(patchwork)"
   ]
  },
  {
   "cell_type": "code",
   "execution_count": null,
   "metadata": {
    "vscode": {
     "languageId": "r"
    }
   },
   "outputs": [],
   "source": [
    "p4 <- p1 / p3 & theme(legend.position = \"right\") "
   ]
  },
  {
   "cell_type": "code",
   "execution_count": null,
   "metadata": {
    "vscode": {
     "languageId": "r"
    }
   },
   "outputs": [],
   "source": [
    "# p4 <- ggarrange(p1, p3, ncol = 1, nrow = 2, heights = c(2, 1), align = \"v\", common.legend = FALSE, legend = \"bottom\")"
   ]
  },
  {
   "cell_type": "code",
   "execution_count": null,
   "metadata": {
    "vscode": {
     "languageId": "r"
    }
   },
   "outputs": [],
   "source": [
    "pdf(paste0(plotpath, \"delta_Tcellsubsets_cancergroup_facet_patient.pdf\"), width = 45, height = 10)\n",
    "p4 + plot_layout( heights = c(2, 1))\n",
    "dev.off()"
   ]
  },
  {
   "cell_type": "markdown",
   "metadata": {},
   "source": [
    "## Heatmap all differences"
   ]
  },
  {
   "cell_type": "code",
   "execution_count": null,
   "metadata": {
    "vscode": {
     "languageId": "r"
    }
   },
   "outputs": [],
   "source": [
    "length(baseline_patients)"
   ]
  },
  {
   "cell_type": "code",
   "execution_count": null,
   "metadata": {
    "vscode": {
     "languageId": "r"
    }
   },
   "outputs": [],
   "source": [
    "head(result)"
   ]
  },
  {
   "cell_type": "code",
   "execution_count": null,
   "metadata": {
    "vscode": {
     "languageId": "r"
    }
   },
   "outputs": [],
   "source": [
    "result_noX01 <- result[ result$cycle != \"X01\", ]"
   ]
  },
  {
   "cell_type": "code",
   "execution_count": null,
   "metadata": {
    "vscode": {
     "languageId": "r"
    }
   },
   "outputs": [],
   "source": [
    "dim(result_noX01)"
   ]
  },
  {
   "cell_type": "code",
   "execution_count": null,
   "metadata": {
    "vscode": {
     "languageId": "r"
    }
   },
   "outputs": [],
   "source": [
    " result_noX01 <- result_noX01[!is.na(result_noX01$DifferenceTCR), ]"
   ]
  },
  {
   "cell_type": "code",
   "execution_count": null,
   "metadata": {
    "vscode": {
     "languageId": "r"
    }
   },
   "outputs": [],
   "source": [
    "result_noX01 <- result_noX01[ order(result_noX01$foldgroup),]"
   ]
  },
  {
   "cell_type": "code",
   "execution_count": null,
   "metadata": {
    "vscode": {
     "languageId": "r"
    }
   },
   "outputs": [],
   "source": [
    "diff_mat <- as.data.frame(result_noX01[, c(\n",
    "    \"DifferenceN\", \"DifferenceSCM\", \"DifferenceCM\", \"DifferenceEM\", \n",
    "    \"DifferenceTE\",\n",
    "    \"DifferenceLAG\", \"DifferencePD1\", \"DifferenceTCR\"#, \"DifferencecfTCR\"\n",
    ")])\n"
   ]
  },
  {
   "cell_type": "code",
   "execution_count": null,
   "metadata": {
    "vscode": {
     "languageId": "r"
    }
   },
   "outputs": [],
   "source": [
    "rownames(diff_mat) <- result_noX01$sample_id\n",
    "diff_mat <- as.matrix(diff_mat)"
   ]
  },
  {
   "cell_type": "code",
   "execution_count": null,
   "metadata": {
    "vscode": {
     "languageId": "r"
    }
   },
   "outputs": [],
   "source": [
    "head(diff_mat)"
   ]
  },
  {
   "cell_type": "code",
   "execution_count": null,
   "metadata": {
    "vscode": {
     "languageId": "r"
    }
   },
   "outputs": [],
   "source": [
    "makematrix_4hm <- function(df, var, name ){\n",
    "    mymat <- df[[var]]\n",
    "names(mymat) <- df[[\"sample_id\"]]\n",
    "mymat <- t(as.matrix(mymat))\n",
    "rownames(mymat) <- name\n",
    "    \n",
    "    return(mymat)\n",
    "}"
   ]
  },
  {
   "cell_type": "code",
   "execution_count": null,
   "metadata": {
    "vscode": {
     "languageId": "r"
    }
   },
   "outputs": [],
   "source": [
    "mycohort <- makematrix_4hm(result_noX01, \"Disease_type\", \"disease\")\n",
    "mycycle <- makematrix_4hm(result_noX01, \"cycle\", \"Cycle\")\n",
    "mysample <- makematrix_4hm(result_noX01, \"cancergroup\", \"cancergroup\")\n",
    "mygroup <- makematrix_4hm(result_noX01, \"foldgroup\", \"Fold\")"
   ]
  },
  {
   "cell_type": "code",
   "execution_count": null,
   "metadata": {
    "vscode": {
     "languageId": "r"
    }
   },
   "outputs": [],
   "source": [
    "group_col <- c(\"blue\", \"red\", \"green\")\n",
    "names(group_col) <- names(table(result_noX01$foldgroup))"
   ]
  },
  {
   "cell_type": "code",
   "execution_count": null,
   "metadata": {
    "vscode": {
     "languageId": "r"
    }
   },
   "outputs": [],
   "source": [
    "cohort_col <- c(\"blue\", \"red\", \"green\", \"orange\", \"purple\", \"yellow\", \"black\", \"grey\", \"pink\", \n",
    "\"brown\", \"cyan\", \"magenta\", \"navy\", \"maroon\", \"gray\",\"gold\") \n",
    "names(cohort_col) <- names(table(result_noX01$Disease_type))"
   ]
  },
  {
   "cell_type": "code",
   "execution_count": null,
   "metadata": {
    "vscode": {
     "languageId": "r"
    }
   },
   "outputs": [],
   "source": [
    "cycle_col <- c(\"blue\", \"red\", \"green\", \"orange\", \"purple\", \"yellow\")\n",
    "names(cycle_col) <- names(table(result_noX01$cycle))"
   ]
  },
  {
   "cell_type": "code",
   "execution_count": null,
   "metadata": {
    "vscode": {
     "languageId": "r"
    }
   },
   "outputs": [],
   "source": [
    "type_col <- c(\"blue\", \"red\", \"green\", \"orange\", \"purple\")\n",
    "names(type_col) <- names(table(result_noX01$cancergroup))"
   ]
  },
  {
   "cell_type": "code",
   "execution_count": null,
   "metadata": {
    "vscode": {
     "languageId": "r"
    }
   },
   "outputs": [],
   "source": [
    "cohort_hm <- Heatmap(mycohort, col = cohort_col, height = unit(1,\"cm\"))\n",
    "cycle_hm <- Heatmap(mycycle, col = cycle_col, , height = unit(1,\"cm\"))\n",
    "sample_hm <- Heatmap(mysample, col = type_col, , height = unit(1,\"cm\"))\n",
    "group_hm <- Heatmap(mygroup, col = group_col, , height = unit(1,\"cm\"))"
   ]
  },
  {
   "cell_type": "code",
   "execution_count": null,
   "metadata": {
    "vscode": {
     "languageId": "r"
    }
   },
   "outputs": [],
   "source": [
    "unlist(mysample)"
   ]
  },
  {
   "cell_type": "code",
   "execution_count": null,
   "metadata": {
    "vscode": {
     "languageId": "r"
    }
   },
   "outputs": [],
   "source": [
    "mypts <- makematrix_4hm(result_noX01, \"Patient\", \"Patient\")"
   ]
  },
  {
   "cell_type": "code",
   "execution_count": null,
   "metadata": {
    "vscode": {
     "languageId": "r"
    }
   },
   "outputs": [],
   "source": [
    "pts_hm <- Heatmap(mypts,  height = unit(1,\"cm\"), show_heatmap_legend = FALSE, show_column_names = FALSE)"
   ]
  },
  {
   "cell_type": "code",
   "execution_count": null,
   "metadata": {
    "vscode": {
     "languageId": "r"
    }
   },
   "outputs": [],
   "source": [
    "mypca <- prcomp(diff_mat, center = TRUE, scale. = TRUE)"
   ]
  },
  {
   "cell_type": "code",
   "execution_count": null,
   "metadata": {
    "vscode": {
     "languageId": "r"
    }
   },
   "outputs": [],
   "source": [
    "# create UMAP from mypca\n",
    "library(umap)\n",
    "set.seed(123)\n",
    "myumap <- umap(mypca$x[, 1:2], n_neighbors = 5, min_dist = 0.1, metric = \"euclidean\")"
   ]
  },
  {
   "cell_type": "code",
   "execution_count": null,
   "metadata": {
    "vscode": {
     "languageId": "r"
    }
   },
   "outputs": [],
   "source": [
    "# plot UMAP\n",
    "myumap_df <- as.data.frame(myumap$layout)\n",
    "myumap_df$Patient <- result_noX01$Patient\n",
    "myumap_df$Disease_type <- result_noX01$Disease_type\n",
    "myumap_df$cycle <- result_noX01$cycle\n",
    "myumap_df$cancergroup <- result_noX01$cancergroup\n",
    "myumap_df$foldgroup <- result_noX01$foldgroup\n"
   ]
  },
  {
   "cell_type": "code",
   "execution_count": null,
   "metadata": {
    "vscode": {
     "languageId": "r"
    }
   },
   "outputs": [],
   "source": [
    "# plot UMAP\n",
    "p1 <- ggplot(myumap_df, aes(x = V1, y = V2)) +\n",
    "    geom_point(aes(color = foldgroup)) +\n",
    "    myplot +\n",
    "    myaxis +\n",
    "    theme(\n",
    "        axis.text.x = element_text(angle = 45, hjust = 1),\n",
    "        axis.title.x = element_blank()\n",
    "    )"
   ]
  },
  {
   "cell_type": "code",
   "execution_count": null,
   "metadata": {
    "vscode": {
     "languageId": "r"
    }
   },
   "outputs": [],
   "source": [
    "p1"
   ]
  },
  {
   "cell_type": "code",
   "execution_count": null,
   "metadata": {
    "vscode": {
     "languageId": "r"
    }
   },
   "outputs": [],
   "source": [
    "factoextra::fviz_pca_ind(mypca, col.ind = result_noX01$foldgroup, repel = T)"
   ]
  },
  {
   "cell_type": "code",
   "execution_count": null,
   "metadata": {
    "vscode": {
     "languageId": "r"
    }
   },
   "outputs": [],
   "source": [
    "hm <- Heatmap(t(scale(diff_mat)))"
   ]
  },
  {
   "cell_type": "code",
   "execution_count": null,
   "metadata": {
    "vscode": {
     "languageId": "r"
    }
   },
   "outputs": [],
   "source": [
    "sample_hm %v% hm %v%  cycle_hm %v%  group_hm %v% pts_hm"
   ]
  },
  {
   "cell_type": "code",
   "execution_count": null,
   "metadata": {
    "vscode": {
     "languageId": "r"
    }
   },
   "outputs": [],
   "source": [
    "head(diff_mat)"
   ]
  },
  {
   "cell_type": "code",
   "execution_count": null,
   "metadata": {
    "vscode": {
     "languageId": "r"
    }
   },
   "outputs": [],
   "source": [
    "hm <- Heatmap(cor(t(diff_mat)))"
   ]
  },
  {
   "cell_type": "code",
   "execution_count": null,
   "metadata": {
    "vscode": {
     "languageId": "r"
    }
   },
   "outputs": [],
   "source": [
    "hm %v% cycle_hm %v% sample_hm %v% group_hm %v% pts_hm"
   ]
  },
  {
   "cell_type": "code",
   "execution_count": null,
   "metadata": {
    "vscode": {
     "languageId": "r"
    }
   },
   "outputs": [],
   "source": [
    "cormat <- cor(t(diff_mat))"
   ]
  },
  {
   "cell_type": "code",
   "execution_count": null,
   "metadata": {
    "vscode": {
     "languageId": "r"
    }
   },
   "outputs": [],
   "source": [
    "library(ConsensusClusterPlus)"
   ]
  },
  {
   "cell_type": "code",
   "execution_count": null,
   "metadata": {
    "vscode": {
     "languageId": "r"
    }
   },
   "outputs": [],
   "source": [
    "head(diff_mat)"
   ]
  },
  {
   "cell_type": "code",
   "execution_count": null,
   "metadata": {
    "vscode": {
     "languageId": "r"
    }
   },
   "outputs": [],
   "source": [
    "results <- ConsensusClusterPlus(t(scale(diff_mat)),\n",
    "    maxK = 8, reps = 200, pItem = 0.8, pFeature = 1,\n",
    "    clusterAlg = \"km\", distance = \"euclidean\",\n",
    "    seed = 888, writeTable = FALSE, title = \"clusters_IM\", plot = \"png\"\n",
    ")\n"
   ]
  },
  {
   "cell_type": "code",
   "execution_count": null,
   "metadata": {
    "vscode": {
     "languageId": "r"
    }
   },
   "outputs": [],
   "source": [
    "result_noX01$class <- as.numeric(results[[6]]$consensusClass)"
   ]
  },
  {
   "cell_type": "code",
   "execution_count": null,
   "metadata": {
    "vscode": {
     "languageId": "r"
    }
   },
   "outputs": [],
   "source": [
    "hm <- Heatmap(t(scale(diff_mat)))"
   ]
  },
  {
   "cell_type": "code",
   "execution_count": null,
   "metadata": {
    "vscode": {
     "languageId": "r"
    }
   },
   "outputs": [],
   "source": [
    "myclasshm <- Heatmap(t(result_noX01$class))"
   ]
  },
  {
   "cell_type": "code",
   "execution_count": null,
   "metadata": {
    "vscode": {
     "languageId": "r"
    }
   },
   "outputs": [],
   "source": [
    "myclasshm %v% hm %v% cohort_hm %v% cycle_hm %v% sample_hm %v% group_hm %v% pts_hm"
   ]
  },
  {
   "cell_type": "code",
   "execution_count": null,
   "metadata": {
    "vscode": {
     "languageId": "r"
    }
   },
   "outputs": [],
   "source": []
  },
  {
   "cell_type": "markdown",
   "metadata": {},
   "source": [
    "## Heatmap all values"
   ]
  },
  {
   "cell_type": "code",
   "execution_count": null,
   "metadata": {
    "vscode": {
     "languageId": "r"
    }
   },
   "outputs": [],
   "source": [
    "allpbmcs <- pbmc1"
   ]
  },
  {
   "cell_type": "code",
   "execution_count": null,
   "metadata": {
    "vscode": {
     "languageId": "r"
    }
   },
   "outputs": [],
   "source": [
    "allpbmcs$cfTCR_shann <- cfdna[ match(allpbmcs$sample_id, cfdna$sample_id), \"log10shann\"]"
   ]
  },
  {
   "cell_type": "code",
   "execution_count": null,
   "metadata": {
    "vscode": {
     "languageId": "r"
    }
   },
   "outputs": [],
   "source": [
    "allpbmcs <- allpbmcs[ !is.na(allpbmcs$cfTCR_shann), ]\n",
    "allpbmcs <- allpbmcs[ !is.na(allpbmcs$`LAG3%`), ]\n",
    "allpbmcs <- allpbmcs[ !is.na(allpbmcs$`PD1%`), ]\n",
    "allpbmcs <- allpbmcs[ !is.na(allpbmcs$log10shann), ]"
   ]
  },
  {
   "cell_type": "code",
   "execution_count": null,
   "metadata": {
    "vscode": {
     "languageId": "r"
    }
   },
   "outputs": [],
   "source": [
    "mymat <- as.matrix(allpbmcs[, c( \n",
    "    \"Naïve%\", \"SCM%\", \"CM%\", \"EM%\", \"TE%\",\n",
    "    \"LAG3%\", \"PD1%\", \"log10shann\", \"cfTCR_shann\"\n",
    ")])\n"
   ]
  },
  {
   "cell_type": "code",
   "execution_count": null,
   "metadata": {
    "vscode": {
     "languageId": "r"
    }
   },
   "outputs": [],
   "source": [
    "rownames(mymat) <- allpbmcs$sample_id"
   ]
  },
  {
   "cell_type": "code",
   "execution_count": null,
   "metadata": {
    "vscode": {
     "languageId": "r"
    }
   },
   "outputs": [],
   "source": [
    "makematrix_4hm <- function(df, var, name ){\n",
    "    mymat <- df[[var]]\n",
    "names(mymat) <- df[[\"sample_id\"]]\n",
    "mymat <- t(as.matrix(mymat))\n",
    "rownames(mymat) <- name\n",
    "    \n",
    "    return(mymat)\n",
    "}"
   ]
  },
  {
   "cell_type": "code",
   "execution_count": null,
   "metadata": {
    "vscode": {
     "languageId": "r"
    }
   },
   "outputs": [],
   "source": [
    "mycohort <- makematrix_4hm(allpbmcs, \"Disease_type\", \"disease\")\n",
    "mycycle <- makematrix_4hm(allpbmcs, \"cycle\", \"Cycle\")\n",
    "mysample <- makematrix_4hm(allpbmcs, \"cancergroup\", \"cancergroup\")\n",
    "mygroup <- makematrix_4hm(allpbmcs, \"foldgroup\", \"Fold\")"
   ]
  },
  {
   "cell_type": "code",
   "execution_count": null,
   "metadata": {
    "vscode": {
     "languageId": "r"
    }
   },
   "outputs": [],
   "source": [
    "allpbmcs$Relapse[is.na(allpbmcs$Relapse)] <- 0\n",
    "allpbmcs$Relapse <- as.factor(allpbmcs$Relapse)"
   ]
  },
  {
   "cell_type": "code",
   "execution_count": null,
   "metadata": {
    "vscode": {
     "languageId": "r"
    }
   },
   "outputs": [],
   "source": [
    "myrelapse <- makematrix_4hm(allpbmcs, \"Relapse\", \"Relapse\")"
   ]
  },
  {
   "cell_type": "code",
   "execution_count": null,
   "metadata": {
    "vscode": {
     "languageId": "r"
    }
   },
   "outputs": [],
   "source": [
    "rel_col <- c(\"blue\", \"red\")\n",
    "names(rel_col) <- names(table(allpbmcs$Relapse))"
   ]
  },
  {
   "cell_type": "code",
   "execution_count": null,
   "metadata": {
    "vscode": {
     "languageId": "r"
    }
   },
   "outputs": [],
   "source": [
    "group_col <- c(\"blue\", \"red\", \"green\")\n",
    "names(group_col) <- names(table(allpbmcs$foldgroup))"
   ]
  },
  {
   "cell_type": "code",
   "execution_count": null,
   "metadata": {
    "vscode": {
     "languageId": "r"
    }
   },
   "outputs": [],
   "source": [
    "# cohort_col <- c(\"blue\", \"red\", \"green\", \"orange\", \"purple\", \"yellow\", \"black\", \"grey\", \"pink\", \n",
    "# \"brown\", \"cyan\", \"magenta\", \"navy\", \"maroon\", \"gray\",\"gold\", \"darkgreen\") \n",
    "# names(cohort_col) <- names(table(allpbmcs$Disease_type))"
   ]
  },
  {
   "cell_type": "code",
   "execution_count": null,
   "metadata": {
    "vscode": {
     "languageId": "r"
    }
   },
   "outputs": [],
   "source": [
    "cycle_col <- c(\"blue\", \"red\", \"green\", \"orange\", \"purple\", \"yellow\")\n",
    "names(cycle_col) <- names(table(allpbmcs$cycle))"
   ]
  },
  {
   "cell_type": "code",
   "execution_count": null,
   "metadata": {
    "vscode": {
     "languageId": "r"
    }
   },
   "outputs": [],
   "source": [
    "type_col <- c(\"blue\", \"red\", \"green\", \"orange\", \"purple\")\n",
    "names(type_col) <- names(table(allpbmcs$cancergroup))"
   ]
  },
  {
   "cell_type": "code",
   "execution_count": null,
   "metadata": {
    "vscode": {
     "languageId": "r"
    }
   },
   "outputs": [],
   "source": [
    "# cohort_hm <- Heatmap(mycohort, col = cohort_col, height = unit(1,\"cm\"))\n",
    "cycle_hm <- Heatmap(mycycle, col = cycle_col, , height = unit(1,\"cm\"))\n",
    "sample_hm <- Heatmap(mysample, col = type_col, , height = unit(1,\"cm\"))\n",
    "group_hm <- Heatmap(mygroup, col = group_col, , height = unit(1,\"cm\"))"
   ]
  },
  {
   "cell_type": "code",
   "execution_count": null,
   "metadata": {
    "vscode": {
     "languageId": "r"
    }
   },
   "outputs": [],
   "source": [
    "rel_hm <- Heatmap(myrelapse, col = rel_col, , height = unit(1,\"cm\"))"
   ]
  },
  {
   "cell_type": "code",
   "execution_count": null,
   "metadata": {
    "vscode": {
     "languageId": "r"
    }
   },
   "outputs": [],
   "source": [
    "mypts <- makematrix_4hm(allpbmcs, \"Patient\", \"Patient\")"
   ]
  },
  {
   "cell_type": "code",
   "execution_count": null,
   "metadata": {
    "vscode": {
     "languageId": "r"
    }
   },
   "outputs": [],
   "source": [
    "pts_hm <- Heatmap(mypts,  height = unit(1,\"cm\"), show_heatmap_legend = FALSE, show_column_names = FALSE)"
   ]
  },
  {
   "cell_type": "code",
   "execution_count": null,
   "metadata": {
    "vscode": {
     "languageId": "r"
    }
   },
   "outputs": [],
   "source": [
    "hm <- Heatmap(t(scale(mymat)))"
   ]
  },
  {
   "cell_type": "code",
   "execution_count": null,
   "metadata": {
    "vscode": {
     "languageId": "r"
    }
   },
   "outputs": [],
   "source": [
    "hm %v% cycle_hm %v% sample_hm %v% group_hm %v% rel_hm"
   ]
  },
  {
   "cell_type": "code",
   "execution_count": null,
   "metadata": {
    "vscode": {
     "languageId": "r"
    }
   },
   "outputs": [],
   "source": [
    "pdf(paste0(plotpath, \"heatmap_samples_immunediv.pdf\"))\n",
    "hm %v% cycle_hm %v% sample_hm %v% group_hm %v% rel_hm\n",
    "dev.off()"
   ]
  },
  {
   "cell_type": "code",
   "execution_count": null,
   "metadata": {
    "vscode": {
     "languageId": "r"
    }
   },
   "outputs": [],
   "source": [
    "hm <- Heatmap(cor(mymat, method = \"spearman\"), show_row_names = TRUE)"
   ]
  },
  {
   "cell_type": "code",
   "execution_count": null,
   "metadata": {
    "vscode": {
     "languageId": "r"
    }
   },
   "outputs": [],
   "source": [
    "pdf(paste0(plotpath, \"heatmap_vars_cor.pdf\"))\n",
    "hm \n",
    "dev.off()"
   ]
  },
  {
   "cell_type": "code",
   "execution_count": null,
   "metadata": {
    "vscode": {
     "languageId": "r"
    }
   },
   "outputs": [],
   "source": [
    "pdf(paste0(plotpath, \"heatmap_samples_cor.pdf\"))\n",
    "hm %v% cycle_hm %v% sample_hm %v% group_hm %v% pts_hm\n",
    "dev.off()"
   ]
  },
  {
   "cell_type": "code",
   "execution_count": null,
   "metadata": {
    "vscode": {
     "languageId": "r"
    }
   },
   "outputs": [],
   "source": [
    "hm %v% cycle_hm %v% sample_hm %v% group_hm %v% pts_hm"
   ]
  },
  {
   "cell_type": "code",
   "execution_count": null,
   "metadata": {
    "vscode": {
     "languageId": "r"
    }
   },
   "outputs": [],
   "source": []
  },
  {
   "cell_type": "code",
   "execution_count": null,
   "metadata": {
    "vscode": {
     "languageId": "r"
    }
   },
   "outputs": [],
   "source": []
  },
  {
   "cell_type": "code",
   "execution_count": null,
   "metadata": {
    "vscode": {
     "languageId": "r"
    }
   },
   "outputs": [],
   "source": []
  },
  {
   "cell_type": "code",
   "execution_count": null,
   "metadata": {
    "vscode": {
     "languageId": "r"
    }
   },
   "outputs": [],
   "source": [
    "pbmc1 <- meta_div[ meta_div$sampletype == \"PBMC\" & !is.na(meta_div$CD3),]\n",
    "pbmc1 <- pbmc1[ pbmc1$CD3 > 0,]"
   ]
  },
  {
   "cell_type": "code",
   "execution_count": null,
   "metadata": {
    "vscode": {
     "languageId": "r"
    }
   },
   "outputs": [],
   "source": [
    "mycells <- c(\"Naïve%\", \"SCM%\", \"CM%\", \"EM%\", \"TE%\", \"LAG3%\", \"TIM3%\", \"PD1%\")"
   ]
  },
  {
   "cell_type": "code",
   "execution_count": null,
   "metadata": {
    "vscode": {
     "languageId": "r"
    }
   },
   "outputs": [],
   "source": [
    "mydiff <- calculate_delta.fx(pbmc1, \"cycle\", \"`Naïve%`\")"
   ]
  },
  {
   "cell_type": "code",
   "execution_count": null,
   "metadata": {
    "vscode": {
     "languageId": "r"
    }
   },
   "outputs": [],
   "source": [
    "head(mydiff$cycle)"
   ]
  },
  {
   "cell_type": "code",
   "execution_count": null,
   "metadata": {
    "vscode": {
     "languageId": "r"
    }
   },
   "outputs": [],
   "source": [
    "# tmp <- mydiff[ mydiff$cancergroup %in% c(\"Leukemia\", \"Solid tumors\"),]"
   ]
  },
  {
   "cell_type": "code",
   "execution_count": null,
   "metadata": {
    "vscode": {
     "languageId": "r"
    }
   },
   "outputs": [],
   "source": [
    "# subset to samples with no NA in `Naïve%`, `CM%`, `EM%`, `TEMRA%`. use apply\n",
    "# to subset to samples with no NA in any of these columns\n",
    "pbmc1 <- pbmc1[ apply(pbmc1[ , mycells], 1, function(x) !any(is.na(x)) ), ]"
   ]
  },
  {
   "cell_type": "code",
   "execution_count": null,
   "metadata": {
    "vscode": {
     "languageId": "r"
    }
   },
   "outputs": [],
   "source": [
    "gg_list <- list()\n",
    "\n",
    "mycells <- c(\"`Naïve%`\", \"`SCM%`\", \"`CM%`\", \"`EM%`\", \"`TE%`\", \"`LAG3%`\", \"`TIM3%`\", \"`PD1%`\")\n",
    "\n",
    "for (i in 1:length(mycells)) {\n",
    "    pbmc1$grp <- gsub(\"`\", \"\", mycells[i])\n",
    "    mydiff <- calculate_delta.fx(pbmc1, \"cycle\", mycells[i])\n",
    "    p0 <- delta_basespiderplot.fx(mydiff, \"cycle\", \"cancergroup\", group_col)\n",
    "\n",
    "    p0 <- p0 + geom_hline(yintercept = 0, linetype = \"dashed\", color = \"grey\")\n",
    "\n",
    "    # get the last timepoint for each patient\n",
    "    last_timepoint <- mydiff %>%\n",
    "        group_by(Patient) %>%\n",
    "        filter(cycle == max(cycle))\n",
    "last_timepoint$cycleno <- as.numeric(gsub(\"X0\", \"\", last_timepoint$cycle) )\n",
    "\n",
    "    p0 <- p0 + geom_text_repel(\n",
    "        data = last_timepoint,\n",
    "        aes(label = Patient),\n",
    "        hjust = \"left\",\n",
    "        direction = \"y\",\n",
    "          nudge_x = 6.5 - last_timepoint$cycleno,\n",
    "        \n",
    "        size = 3,\n",
    "        xlim = c(6, NA),\n",
    "        segment.color = NA,\n",
    "    ) + \n",
    "        facet_nested(~ grp + cancergroup, nest_line = element_line(linetype = 1), switch = \"y\", axes = \"all\", remove_labels = \"all\") +\n",
    "        theme(\n",
    "            axis.title.y = element_blank(),\n",
    "            strip.background = element_blank(),\n",
    "            strip.text = element_text(size = 15),\n",
    "            strip.placement = \"outside\",\n",
    "            legend.position = \"none\",\n",
    "            panel.border = element_rect(color = \"black\", fill = NA, size = 0.5),\n",
    "            ggh4x.facet.nestline = element_line(colour = \"black\", linewidth = 0.3),\n",
    "            axis.text.x = element_text(size = 10)\n",
    "        ) +  scale_x_discrete(get_breaks(\"cycle\"), labels = c(\"Pre-cycle 1\", \"Pre-cycle 2\", \"Pre-cycle 3\", \"Pre-cycle 4\", \"Pre-cycle 5\"), expand = expansion(mult = c(0.1, 0.8)))\n",
    "\n",
    "    gg_list[[i]] <- p0\n",
    "}\n"
   ]
  },
  {
   "cell_type": "code",
   "execution_count": null,
   "metadata": {
    "vscode": {
     "languageId": "r"
    }
   },
   "outputs": [],
   "source": [
    "p0"
   ]
  },
  {
   "cell_type": "code",
   "execution_count": null,
   "metadata": {
    "vscode": {
     "languageId": "r"
    }
   },
   "outputs": [],
   "source": [
    "allp <- cowplot::plot_grid(plotlist=gg_list, nrow = 2, align = \"h\")"
   ]
  },
  {
   "cell_type": "code",
   "execution_count": null,
   "metadata": {
    "vscode": {
     "languageId": "r"
    }
   },
   "outputs": [],
   "source": [
    "pdf(paste0(plotpath, \"delta_Tcellsubsets_cancergroup_facet.pdf\"), width = 25, height = 10)\n",
    "allp\n",
    "dev.off()"
   ]
  },
  {
   "cell_type": "code",
   "execution_count": null,
   "metadata": {
    "vscode": {
     "languageId": "r"
    }
   },
   "outputs": [],
   "source": []
  },
  {
   "attachments": {},
   "cell_type": "markdown",
   "metadata": {},
   "source": [
    "## Plots for chemo cycles - paired samples"
   ]
  },
  {
   "attachments": {},
   "cell_type": "markdown",
   "metadata": {},
   "source": [
    "### PBMC"
   ]
  },
  {
   "cell_type": "code",
   "execution_count": null,
   "metadata": {
    "vscode": {
     "languageId": "r"
    }
   },
   "outputs": [],
   "source": [
    "mytab <- table(pbmc$Patient, pbmc$cycle)"
   ]
  },
  {
   "cell_type": "code",
   "execution_count": null,
   "metadata": {
    "vscode": {
     "languageId": "r"
    }
   },
   "outputs": [],
   "source": [
    "paired_patients <- rownames(mytab)[rowSums(mytab == 1) == 5]"
   ]
  },
  {
   "cell_type": "code",
   "execution_count": null,
   "metadata": {
    "vscode": {
     "languageId": "r"
    }
   },
   "outputs": [],
   "source": [
    "paired_patients"
   ]
  },
  {
   "cell_type": "code",
   "execution_count": null,
   "metadata": {
    "vscode": {
     "languageId": "r"
    }
   },
   "outputs": [],
   "source": [
    "paired_pbmc <- pbmc[ pbmc$Patient %in% paired_patients,]"
   ]
  },
  {
   "cell_type": "code",
   "execution_count": null,
   "metadata": {
    "vscode": {
     "languageId": "r"
    }
   },
   "outputs": [],
   "source": [
    "# ggplot(paired_pbmc, aes(x= cycle, y= log10shann, group = Patient) ) + \n",
    "# facet_grid(Patient ~ ., scales = \"free_y\") + \n",
    "# geom_line()"
   ]
  },
  {
   "attachments": {},
   "cell_type": "markdown",
   "metadata": {},
   "source": [
    "### cfDNA"
   ]
  },
  {
   "cell_type": "code",
   "execution_count": null,
   "metadata": {
    "vscode": {
     "languageId": "r"
    }
   },
   "outputs": [],
   "source": [
    "mytab <- table(cfdna$Patient, cfdna$cycle)"
   ]
  },
  {
   "cell_type": "code",
   "execution_count": null,
   "metadata": {
    "vscode": {
     "languageId": "r"
    }
   },
   "outputs": [],
   "source": [
    "paired_patients <- rownames(mytab)[rowSums(mytab == 1) >= 4]"
   ]
  },
  {
   "cell_type": "code",
   "execution_count": null,
   "metadata": {
    "vscode": {
     "languageId": "r"
    }
   },
   "outputs": [],
   "source": [
    "paired_cfdna <- cfdna[ cfdna$Patient %in% paired_patients,]"
   ]
  },
  {
   "cell_type": "code",
   "execution_count": null,
   "metadata": {
    "vscode": {
     "languageId": "r"
    }
   },
   "outputs": [],
   "source": [
    "p_cfdna_paired <- ggplot(\n",
    "  paired_cfdna,\n",
    "  aes(x = cycle, y = log10shann)\n",
    ") +\n",
    "#  geom_boxplot() + #  \n",
    "  geom_point(aes(color = cancergroup), cex = 2) +\n",
    "  geom_line(aes(group = Patient, color = cancergroup)) + \n",
    "  scale_color_manual(values= group_col) +\n",
    "  myplot +\n",
    "  myaxis +\n",
    "  theme(\n",
    "    axis.text.x = element_text(angle = 45, hjust = 1),\n",
    "    axis.title.x = element_blank()\n",
    "  ) +\n",
    "  annotation_logticks(sides = \"l\") +\n",
    "  scale_y_continuous(breaks = log10(c(1,10,100) ) , labels = c(1,10,100)) +\n",
    " # labs(title = \"Observed Shannon Diversity by Cycle - PBMC (n = 234)\\nBH corrected p\", y = \"Observed Shannon Diversity\") +\n",
    "  facet_wrap(~cancergroup, nrow = 1)"
   ]
  },
  {
   "cell_type": "code",
   "execution_count": null,
   "metadata": {
    "vscode": {
     "languageId": "r"
    }
   },
   "outputs": [],
   "source": [
    "p_cfdna_paired"
   ]
  },
  {
   "attachments": {},
   "cell_type": "markdown",
   "metadata": {},
   "source": []
  }
 ],
 "metadata": {
  "kernelspec": {
   "display_name": "R 4.0",
   "language": "R",
   "name": "ir40"
  },
  "language_info": {
   "codemirror_mode": "r",
   "file_extension": ".r",
   "mimetype": "text/x-r-source",
   "name": "R",
   "pygments_lexer": "r",
   "version": "4.2.2"
  },
  "toc": {
   "base_numbering": 1,
   "nav_menu": {},
   "number_sections": false,
   "sideBar": true,
   "skip_h1_title": false,
   "title_cell": "Table of Contents",
   "title_sidebar": "Contents",
   "toc_cell": true,
   "toc_position": {
    "height": "calc(100% - 180px)",
    "left": "10px",
    "top": "150px",
    "width": "186.15px"
   },
   "toc_section_display": true,
   "toc_window_display": true
  }
 },
 "nbformat": 4,
 "nbformat_minor": 2
}

{
 "cells": [
  {
   "attachments": {},
   "cell_type": "markdown",
   "metadata": {},
   "source": [
    "# Dependencies"
   ]
  },
  {
   "cell_type": "code",
   "execution_count": 1,
   "metadata": {
    "vscode": {
     "languageId": "r"
    }
   },
   "outputs": [],
   "source": [
    "pacman::p_load(factoextra, dplyr)"
   ]
  },
  {
   "attachments": {},
   "cell_type": "markdown",
   "metadata": {},
   "source": [
    "# Functions"
   ]
  },
  {
   "attachments": {},
   "cell_type": "markdown",
   "metadata": {},
   "source": [
    "# Paths"
   ]
  },
  {
   "cell_type": "code",
   "execution_count": 2,
   "metadata": {
    "vscode": {
     "languageId": "r"
    }
   },
   "outputs": [],
   "source": [
    "datapath <- \"/Users/anabbi/OneDrive - UHN/Documents/INTERCEPT/Data/\"\n",
    "plotpath <- \"/Users/anabbi/OneDrive - UHN/Documents/INTERCEPT/Plots/\"\n",
    "manifestpath <- \"/Users/anabbi/OneDrive - UHN/Documents/INTERCEPT/Manifests/\"\n",
    "gitpath <- \"/Users/anabbi/git/ped_CapTCRseq/\"\n",
    "h4hpath <- \"/Users/anabbi/Desktop/H4H/INTERCEPT/\""
   ]
  },
  {
   "attachments": {},
   "cell_type": "markdown",
   "metadata": {},
   "source": [
    "# Main"
   ]
  },
  {
   "cell_type": "markdown",
   "metadata": {},
   "source": [
    "# PBMC"
   ]
  },
  {
   "cell_type": "code",
   "execution_count": 3,
   "metadata": {
    "vscode": {
     "languageId": "r"
    }
   },
   "outputs": [],
   "source": [
    "meta_div <- readr::read_rds(paste0(datapath, \"capTCRseq/meta_div_goodsamples.rds\"))"
   ]
  },
  {
   "cell_type": "code",
   "execution_count": 4,
   "metadata": {
    "vscode": {
     "languageId": "r"
    }
   },
   "outputs": [],
   "source": [
    "meta_div <- meta_div[ !is.na(meta_div$TRB), ]"
   ]
  },
  {
   "cell_type": "code",
   "execution_count": 5,
   "metadata": {
    "vscode": {
     "languageId": "r"
    }
   },
   "outputs": [],
   "source": [
    "meta_div <- meta_div[ meta_div$sampletype == \"PBMC\",]"
   ]
  },
  {
   "cell_type": "code",
   "execution_count": 6,
   "metadata": {
    "vscode": {
     "languageId": "r"
    }
   },
   "outputs": [
    {
     "data": {
      "text/html": [
       "<table class=\"dataframe\">\n",
       "<caption>A data.frame: 6 x 66</caption>\n",
       "<thead>\n",
       "\t<tr><th></th><th scope=col>sample_id</th><th scope=col>Patient</th><th scope=col>cycle</th><th scope=col>FOLD</th><th scope=col>ATC</th><th scope=col>Age</th><th scope=col>Disease_type</th><th scope=col>TE_fold</th><th scope=col>CD3</th><th scope=col>EM</th><th scope=col>...</th><th scope=col>estimated_Shannon</th><th scope=col>SE_Shannon</th><th scope=col>observed_Simpson</th><th scope=col>estimated_Simpson</th><th scope=col>SE_Simpson</th><th scope=col>basename</th><th scope=col>file</th><th scope=col>sampletype</th><th scope=col>Group</th><th scope=col>log10shann</th></tr>\n",
       "\t<tr><th></th><th scope=col>&lt;chr&gt;</th><th scope=col>&lt;chr&gt;</th><th scope=col>&lt;chr&gt;</th><th scope=col>&lt;dbl&gt;</th><th scope=col>&lt;dbl&gt;</th><th scope=col>&lt;dbl&gt;</th><th scope=col>&lt;chr&gt;</th><th scope=col>&lt;dbl&gt;</th><th scope=col>&lt;int&gt;</th><th scope=col>&lt;int&gt;</th><th scope=col>...</th><th scope=col>&lt;dbl&gt;</th><th scope=col>&lt;dbl&gt;</th><th scope=col>&lt;dbl&gt;</th><th scope=col>&lt;dbl&gt;</th><th scope=col>&lt;dbl&gt;</th><th scope=col>&lt;chr&gt;</th><th scope=col>&lt;chr&gt;</th><th scope=col>&lt;chr&gt;</th><th scope=col>&lt;chr&gt;</th><th scope=col>&lt;dbl&gt;</th></tr>\n",
       "</thead>\n",
       "<tbody>\n",
       "\t<tr><th scope=row>287</th><td>CHP_10YO_M_00  </td><td>CHP_10YO_M  </td><td>X00</td><td>NA</td><td>NA</td><td>NA</td><td>Normal</td><td>NA</td><td>NA</td><td>NA</td><td>...</td><td>10.601</td><td>0.073</td><td> 8.556</td><td> 8.561</td><td>0.094</td><td>CHP_10YO-M_PBMC_DNA  </td><td>batchNormal_16Apr2020/mixcr/clones/CLONES_TRBCHP_10YO-M_PBMC_DNA.txt  </td><td>PBMC</td><td>CHP</td><td>1.0249370</td></tr>\n",
       "\t<tr><th scope=row>288</th><td>CHP_11YO_M_00  </td><td>CHP_11YO_M  </td><td>X00</td><td>NA</td><td>NA</td><td>NA</td><td>Normal</td><td>NA</td><td>NA</td><td>NA</td><td>...</td><td>11.614</td><td>0.054</td><td>10.406</td><td>10.414</td><td>0.066</td><td>CHP_11YO-M_PBMC_DNA  </td><td>batchNormal_16Apr2020/mixcr/clones/CLONES_TRBCHP_11YO-M_PBMC_DNA.txt  </td><td>PBMC</td><td>CHP</td><td>1.0647200</td></tr>\n",
       "\t<tr><th scope=row>289</th><td>CHP_15YO_F_A_00</td><td>CHP_15YO_F_A</td><td>X00</td><td>NA</td><td>NA</td><td>NA</td><td>Normal</td><td>NA</td><td>NA</td><td>NA</td><td>...</td><td> 8.989</td><td>0.036</td><td> 8.560</td><td> 8.570</td><td>0.060</td><td>CHP_15YO-F-A_PBMC_DNA</td><td>batchNormal_16Apr2020/mixcr/clones/CLONES_TRBCHP_15YO-F-A_PBMC_DNA.txt</td><td>PBMC</td><td>CHP</td><td>0.9533731</td></tr>\n",
       "\t<tr><th scope=row>290</th><td>CHP_15YO_F_B_00</td><td>CHP_15YO_F_B</td><td>X00</td><td>NA</td><td>NA</td><td>NA</td><td>Normal</td><td>NA</td><td>NA</td><td>NA</td><td>...</td><td> 6.334</td><td>0.040</td><td> 5.870</td><td> 5.876</td><td>0.066</td><td>CHP_15YO-F-B_PBMC_DNA</td><td>batchNormal_16Apr2020/mixcr/clones/CLONES_TRBCHP_15YO-F-B_PBMC_DNA.txt</td><td>PBMC</td><td>CHP</td><td>0.8014037</td></tr>\n",
       "\t<tr><th scope=row>291</th><td>CHP_15YO_M_00  </td><td>CHP_15YO_M  </td><td>X00</td><td>NA</td><td>NA</td><td>NA</td><td>Normal</td><td>NA</td><td>NA</td><td>NA</td><td>...</td><td>21.120</td><td>0.040</td><td>20.321</td><td>20.339</td><td>0.068</td><td>CHP_15YO-M_PBMC_DNA  </td><td>batchNormal_16Apr2020/mixcr/clones/CLONES_TRBCHP_15YO-M_PBMC_DNA.txt  </td><td>PBMC</td><td>CHP</td><td>1.3244882</td></tr>\n",
       "\t<tr><th scope=row>292</th><td>CHP_16YO_M_00  </td><td>CHP_16YO_M  </td><td>X00</td><td>NA</td><td>NA</td><td>NA</td><td>Normal</td><td>NA</td><td>NA</td><td>NA</td><td>...</td><td> 3.973</td><td>0.007</td><td> 3.944</td><td> 3.946</td><td>0.013</td><td>CHP_16YO-M_PBMC_DNA  </td><td>batchNormal_16Apr2020/mixcr/clones/CLONES_TRBCHP_16YO-M_PBMC_DNA.txt  </td><td>PBMC</td><td>CHP</td><td>0.5990092</td></tr>\n",
       "</tbody>\n",
       "</table>\n"
      ],
      "text/latex": [
       "A data.frame: 6 x 66\n",
       "\\begin{tabular}{r|lllllllllllllllllllll}\n",
       "  & sample\\_id & Patient & cycle & FOLD & ATC & Age & Disease\\_type & TE\\_fold & CD3 & EM & ... & estimated\\_Shannon & SE\\_Shannon & observed\\_Simpson & estimated\\_Simpson & SE\\_Simpson & basename & file & sampletype & Group & log10shann\\\\\n",
       "  & <chr> & <chr> & <chr> & <dbl> & <dbl> & <dbl> & <chr> & <dbl> & <int> & <int> & ... & <dbl> & <dbl> & <dbl> & <dbl> & <dbl> & <chr> & <chr> & <chr> & <chr> & <dbl>\\\\\n",
       "\\hline\n",
       "\t287 & CHP\\_10YO\\_M\\_00   & CHP\\_10YO\\_M   & X00 & NA & NA & NA & Normal & NA & NA & NA & ... & 10.601 & 0.073 &  8.556 &  8.561 & 0.094 & CHP\\_10YO-M\\_PBMC\\_DNA   & batchNormal\\_16Apr2020/mixcr/clones/CLONES\\_TRBCHP\\_10YO-M\\_PBMC\\_DNA.txt   & PBMC & CHP & 1.0249370\\\\\n",
       "\t288 & CHP\\_11YO\\_M\\_00   & CHP\\_11YO\\_M   & X00 & NA & NA & NA & Normal & NA & NA & NA & ... & 11.614 & 0.054 & 10.406 & 10.414 & 0.066 & CHP\\_11YO-M\\_PBMC\\_DNA   & batchNormal\\_16Apr2020/mixcr/clones/CLONES\\_TRBCHP\\_11YO-M\\_PBMC\\_DNA.txt   & PBMC & CHP & 1.0647200\\\\\n",
       "\t289 & CHP\\_15YO\\_F\\_A\\_00 & CHP\\_15YO\\_F\\_A & X00 & NA & NA & NA & Normal & NA & NA & NA & ... &  8.989 & 0.036 &  8.560 &  8.570 & 0.060 & CHP\\_15YO-F-A\\_PBMC\\_DNA & batchNormal\\_16Apr2020/mixcr/clones/CLONES\\_TRBCHP\\_15YO-F-A\\_PBMC\\_DNA.txt & PBMC & CHP & 0.9533731\\\\\n",
       "\t290 & CHP\\_15YO\\_F\\_B\\_00 & CHP\\_15YO\\_F\\_B & X00 & NA & NA & NA & Normal & NA & NA & NA & ... &  6.334 & 0.040 &  5.870 &  5.876 & 0.066 & CHP\\_15YO-F-B\\_PBMC\\_DNA & batchNormal\\_16Apr2020/mixcr/clones/CLONES\\_TRBCHP\\_15YO-F-B\\_PBMC\\_DNA.txt & PBMC & CHP & 0.8014037\\\\\n",
       "\t291 & CHP\\_15YO\\_M\\_00   & CHP\\_15YO\\_M   & X00 & NA & NA & NA & Normal & NA & NA & NA & ... & 21.120 & 0.040 & 20.321 & 20.339 & 0.068 & CHP\\_15YO-M\\_PBMC\\_DNA   & batchNormal\\_16Apr2020/mixcr/clones/CLONES\\_TRBCHP\\_15YO-M\\_PBMC\\_DNA.txt   & PBMC & CHP & 1.3244882\\\\\n",
       "\t292 & CHP\\_16YO\\_M\\_00   & CHP\\_16YO\\_M   & X00 & NA & NA & NA & Normal & NA & NA & NA & ... &  3.973 & 0.007 &  3.944 &  3.946 & 0.013 & CHP\\_16YO-M\\_PBMC\\_DNA   & batchNormal\\_16Apr2020/mixcr/clones/CLONES\\_TRBCHP\\_16YO-M\\_PBMC\\_DNA.txt   & PBMC & CHP & 0.5990092\\\\\n",
       "\\end{tabular}\n"
      ],
      "text/markdown": [
       "\n",
       "A data.frame: 6 x 66\n",
       "\n",
       "| <!--/--> | sample_id &lt;chr&gt; | Patient &lt;chr&gt; | cycle &lt;chr&gt; | FOLD &lt;dbl&gt; | ATC &lt;dbl&gt; | Age &lt;dbl&gt; | Disease_type &lt;chr&gt; | TE_fold &lt;dbl&gt; | CD3 &lt;int&gt; | EM &lt;int&gt; | ... ... | estimated_Shannon &lt;dbl&gt; | SE_Shannon &lt;dbl&gt; | observed_Simpson &lt;dbl&gt; | estimated_Simpson &lt;dbl&gt; | SE_Simpson &lt;dbl&gt; | basename &lt;chr&gt; | file &lt;chr&gt; | sampletype &lt;chr&gt; | Group &lt;chr&gt; | log10shann &lt;dbl&gt; |\n",
       "|---|---|---|---|---|---|---|---|---|---|---|---|---|---|---|---|---|---|---|---|---|---|\n",
       "| 287 | CHP_10YO_M_00   | CHP_10YO_M   | X00 | NA | NA | NA | Normal | NA | NA | NA | ... | 10.601 | 0.073 |  8.556 |  8.561 | 0.094 | CHP_10YO-M_PBMC_DNA   | batchNormal_16Apr2020/mixcr/clones/CLONES_TRBCHP_10YO-M_PBMC_DNA.txt   | PBMC | CHP | 1.0249370 |\n",
       "| 288 | CHP_11YO_M_00   | CHP_11YO_M   | X00 | NA | NA | NA | Normal | NA | NA | NA | ... | 11.614 | 0.054 | 10.406 | 10.414 | 0.066 | CHP_11YO-M_PBMC_DNA   | batchNormal_16Apr2020/mixcr/clones/CLONES_TRBCHP_11YO-M_PBMC_DNA.txt   | PBMC | CHP | 1.0647200 |\n",
       "| 289 | CHP_15YO_F_A_00 | CHP_15YO_F_A | X00 | NA | NA | NA | Normal | NA | NA | NA | ... |  8.989 | 0.036 |  8.560 |  8.570 | 0.060 | CHP_15YO-F-A_PBMC_DNA | batchNormal_16Apr2020/mixcr/clones/CLONES_TRBCHP_15YO-F-A_PBMC_DNA.txt | PBMC | CHP | 0.9533731 |\n",
       "| 290 | CHP_15YO_F_B_00 | CHP_15YO_F_B | X00 | NA | NA | NA | Normal | NA | NA | NA | ... |  6.334 | 0.040 |  5.870 |  5.876 | 0.066 | CHP_15YO-F-B_PBMC_DNA | batchNormal_16Apr2020/mixcr/clones/CLONES_TRBCHP_15YO-F-B_PBMC_DNA.txt | PBMC | CHP | 0.8014037 |\n",
       "| 291 | CHP_15YO_M_00   | CHP_15YO_M   | X00 | NA | NA | NA | Normal | NA | NA | NA | ... | 21.120 | 0.040 | 20.321 | 20.339 | 0.068 | CHP_15YO-M_PBMC_DNA   | batchNormal_16Apr2020/mixcr/clones/CLONES_TRBCHP_15YO-M_PBMC_DNA.txt   | PBMC | CHP | 1.3244882 |\n",
       "| 292 | CHP_16YO_M_00   | CHP_16YO_M   | X00 | NA | NA | NA | Normal | NA | NA | NA | ... |  3.973 | 0.007 |  3.944 |  3.946 | 0.013 | CHP_16YO-M_PBMC_DNA   | batchNormal_16Apr2020/mixcr/clones/CLONES_TRBCHP_16YO-M_PBMC_DNA.txt   | PBMC | CHP | 0.5990092 |\n",
       "\n"
      ],
      "text/plain": [
       "    sample_id       Patient      cycle FOLD ATC Age Disease_type TE_fold CD3 EM\n",
       "287 CHP_10YO_M_00   CHP_10YO_M   X00   NA   NA  NA  Normal       NA      NA  NA\n",
       "288 CHP_11YO_M_00   CHP_11YO_M   X00   NA   NA  NA  Normal       NA      NA  NA\n",
       "289 CHP_15YO_F_A_00 CHP_15YO_F_A X00   NA   NA  NA  Normal       NA      NA  NA\n",
       "290 CHP_15YO_F_B_00 CHP_15YO_F_B X00   NA   NA  NA  Normal       NA      NA  NA\n",
       "291 CHP_15YO_M_00   CHP_15YO_M   X00   NA   NA  NA  Normal       NA      NA  NA\n",
       "292 CHP_16YO_M_00   CHP_16YO_M   X00   NA   NA  NA  Normal       NA      NA  NA\n",
       "    ... estimated_Shannon SE_Shannon observed_Simpson estimated_Simpson\n",
       "287 ... 10.601            0.073       8.556            8.561           \n",
       "288 ... 11.614            0.054      10.406           10.414           \n",
       "289 ...  8.989            0.036       8.560            8.570           \n",
       "290 ...  6.334            0.040       5.870            5.876           \n",
       "291 ... 21.120            0.040      20.321           20.339           \n",
       "292 ...  3.973            0.007       3.944            3.946           \n",
       "    SE_Simpson basename             \n",
       "287 0.094      CHP_10YO-M_PBMC_DNA  \n",
       "288 0.066      CHP_11YO-M_PBMC_DNA  \n",
       "289 0.060      CHP_15YO-F-A_PBMC_DNA\n",
       "290 0.066      CHP_15YO-F-B_PBMC_DNA\n",
       "291 0.068      CHP_15YO-M_PBMC_DNA  \n",
       "292 0.013      CHP_16YO-M_PBMC_DNA  \n",
       "    file                                                                  \n",
       "287 batchNormal_16Apr2020/mixcr/clones/CLONES_TRBCHP_10YO-M_PBMC_DNA.txt  \n",
       "288 batchNormal_16Apr2020/mixcr/clones/CLONES_TRBCHP_11YO-M_PBMC_DNA.txt  \n",
       "289 batchNormal_16Apr2020/mixcr/clones/CLONES_TRBCHP_15YO-F-A_PBMC_DNA.txt\n",
       "290 batchNormal_16Apr2020/mixcr/clones/CLONES_TRBCHP_15YO-F-B_PBMC_DNA.txt\n",
       "291 batchNormal_16Apr2020/mixcr/clones/CLONES_TRBCHP_15YO-M_PBMC_DNA.txt  \n",
       "292 batchNormal_16Apr2020/mixcr/clones/CLONES_TRBCHP_16YO-M_PBMC_DNA.txt  \n",
       "    sampletype Group log10shann\n",
       "287 PBMC       CHP   1.0249370 \n",
       "288 PBMC       CHP   1.0647200 \n",
       "289 PBMC       CHP   0.9533731 \n",
       "290 PBMC       CHP   0.8014037 \n",
       "291 PBMC       CHP   1.3244882 \n",
       "292 PBMC       CHP   0.5990092 "
      ]
     },
     "metadata": {},
     "output_type": "display_data"
    }
   ],
   "source": [
    "head(meta_div)"
   ]
  },
  {
   "cell_type": "code",
   "execution_count": 7,
   "metadata": {
    "vscode": {
     "languageId": "r"
    }
   },
   "outputs": [],
   "source": [
    "flelist <- file.path(paste0( h4hpath, \"/NextSeq/\", meta_div$file) )"
   ]
  },
  {
   "cell_type": "code",
   "execution_count": 8,
   "metadata": {
    "vscode": {
     "languageId": "r"
    }
   },
   "outputs": [
    {
     "data": {
      "text/html": [
       "<style>\n",
       ".list-inline {list-style: none; margin:0; padding: 0}\n",
       ".list-inline>li {display: inline-block}\n",
       ".list-inline>li:not(:last-child)::after {content: \"\\00b7\"; padding: 0 .5ex}\n",
       "</style>\n",
       "<ol class=list-inline><li>'/Users/anabbi/Desktop/H4H/INTERCEPT//NextSeq/batchNormal_16Apr2020/mixcr/clones/CLONES_TRBCHP_10YO-M_PBMC_DNA.txt'</li><li>'/Users/anabbi/Desktop/H4H/INTERCEPT//NextSeq/batchNormal_16Apr2020/mixcr/clones/CLONES_TRBCHP_11YO-M_PBMC_DNA.txt'</li><li>'/Users/anabbi/Desktop/H4H/INTERCEPT//NextSeq/batchNormal_16Apr2020/mixcr/clones/CLONES_TRBCHP_15YO-F-A_PBMC_DNA.txt'</li><li>'/Users/anabbi/Desktop/H4H/INTERCEPT//NextSeq/batchNormal_16Apr2020/mixcr/clones/CLONES_TRBCHP_15YO-F-B_PBMC_DNA.txt'</li><li>'/Users/anabbi/Desktop/H4H/INTERCEPT//NextSeq/batchNormal_16Apr2020/mixcr/clones/CLONES_TRBCHP_15YO-M_PBMC_DNA.txt'</li><li>'/Users/anabbi/Desktop/H4H/INTERCEPT//NextSeq/batchNormal_16Apr2020/mixcr/clones/CLONES_TRBCHP_16YO-M_PBMC_DNA.txt'</li></ol>\n"
      ],
      "text/latex": [
       "\\begin{enumerate*}\n",
       "\\item '/Users/anabbi/Desktop/H4H/INTERCEPT//NextSeq/batchNormal\\_16Apr2020/mixcr/clones/CLONES\\_TRBCHP\\_10YO-M\\_PBMC\\_DNA.txt'\n",
       "\\item '/Users/anabbi/Desktop/H4H/INTERCEPT//NextSeq/batchNormal\\_16Apr2020/mixcr/clones/CLONES\\_TRBCHP\\_11YO-M\\_PBMC\\_DNA.txt'\n",
       "\\item '/Users/anabbi/Desktop/H4H/INTERCEPT//NextSeq/batchNormal\\_16Apr2020/mixcr/clones/CLONES\\_TRBCHP\\_15YO-F-A\\_PBMC\\_DNA.txt'\n",
       "\\item '/Users/anabbi/Desktop/H4H/INTERCEPT//NextSeq/batchNormal\\_16Apr2020/mixcr/clones/CLONES\\_TRBCHP\\_15YO-F-B\\_PBMC\\_DNA.txt'\n",
       "\\item '/Users/anabbi/Desktop/H4H/INTERCEPT//NextSeq/batchNormal\\_16Apr2020/mixcr/clones/CLONES\\_TRBCHP\\_15YO-M\\_PBMC\\_DNA.txt'\n",
       "\\item '/Users/anabbi/Desktop/H4H/INTERCEPT//NextSeq/batchNormal\\_16Apr2020/mixcr/clones/CLONES\\_TRBCHP\\_16YO-M\\_PBMC\\_DNA.txt'\n",
       "\\end{enumerate*}\n"
      ],
      "text/markdown": [
       "1. '/Users/anabbi/Desktop/H4H/INTERCEPT//NextSeq/batchNormal_16Apr2020/mixcr/clones/CLONES_TRBCHP_10YO-M_PBMC_DNA.txt'\n",
       "2. '/Users/anabbi/Desktop/H4H/INTERCEPT//NextSeq/batchNormal_16Apr2020/mixcr/clones/CLONES_TRBCHP_11YO-M_PBMC_DNA.txt'\n",
       "3. '/Users/anabbi/Desktop/H4H/INTERCEPT//NextSeq/batchNormal_16Apr2020/mixcr/clones/CLONES_TRBCHP_15YO-F-A_PBMC_DNA.txt'\n",
       "4. '/Users/anabbi/Desktop/H4H/INTERCEPT//NextSeq/batchNormal_16Apr2020/mixcr/clones/CLONES_TRBCHP_15YO-F-B_PBMC_DNA.txt'\n",
       "5. '/Users/anabbi/Desktop/H4H/INTERCEPT//NextSeq/batchNormal_16Apr2020/mixcr/clones/CLONES_TRBCHP_15YO-M_PBMC_DNA.txt'\n",
       "6. '/Users/anabbi/Desktop/H4H/INTERCEPT//NextSeq/batchNormal_16Apr2020/mixcr/clones/CLONES_TRBCHP_16YO-M_PBMC_DNA.txt'\n",
       "\n",
       "\n"
      ],
      "text/plain": [
       "[1] \"/Users/anabbi/Desktop/H4H/INTERCEPT//NextSeq/batchNormal_16Apr2020/mixcr/clones/CLONES_TRBCHP_10YO-M_PBMC_DNA.txt\"  \n",
       "[2] \"/Users/anabbi/Desktop/H4H/INTERCEPT//NextSeq/batchNormal_16Apr2020/mixcr/clones/CLONES_TRBCHP_11YO-M_PBMC_DNA.txt\"  \n",
       "[3] \"/Users/anabbi/Desktop/H4H/INTERCEPT//NextSeq/batchNormal_16Apr2020/mixcr/clones/CLONES_TRBCHP_15YO-F-A_PBMC_DNA.txt\"\n",
       "[4] \"/Users/anabbi/Desktop/H4H/INTERCEPT//NextSeq/batchNormal_16Apr2020/mixcr/clones/CLONES_TRBCHP_15YO-F-B_PBMC_DNA.txt\"\n",
       "[5] \"/Users/anabbi/Desktop/H4H/INTERCEPT//NextSeq/batchNormal_16Apr2020/mixcr/clones/CLONES_TRBCHP_15YO-M_PBMC_DNA.txt\"  \n",
       "[6] \"/Users/anabbi/Desktop/H4H/INTERCEPT//NextSeq/batchNormal_16Apr2020/mixcr/clones/CLONES_TRBCHP_16YO-M_PBMC_DNA.txt\"  "
      ]
     },
     "metadata": {},
     "output_type": "display_data"
    }
   ],
   "source": [
    "head(flelist)"
   ]
  },
  {
   "cell_type": "code",
   "execution_count": 9,
   "metadata": {
    "vscode": {
     "languageId": "r"
    }
   },
   "outputs": [],
   "source": [
    "Vgene.fx <- function(fle){\n",
    "    onefle <- read.table(fle, header = T, sep = \"\\t\")\n",
    "    basename <- gsub(\".txt\", \"\", basename(fle))\n",
    "basename <- gsub(\"CLONES_TRB\", \"\", basename)\n",
    "onefle$basename <- basename\n",
    "# Remove non-productive\n",
    "onefle <- onefle[!grepl(\"_\", onefle$aaSeqCDR3), ]\n",
    "onefle <- onefle[!grepl(\"[*]\", onefle$aaSeqCDR3), ]\n",
    "\n",
    " # if the file has no productive cdr3, message and exit\n",
    " if(nrow(onefle) == 0) { next }\n",
    "\n",
    "# remove scores and take the first hit\n",
    "onefle$TRBV <- gsub(\"[*]0.*\", \"\", onefle$allVHitsWithScore)\n",
    "onefle$TRBJ <- gsub(\"[*]0.*\", \"\", onefle$allJHitsWithScore)\n",
    "# remove super long cdr3s\n",
    "onefle <- onefle[nchar(onefle$aaSeqCDR3) <= 25, ]\n",
    "\n",
    " #exit if the file has no productive cdr3\n",
    " if(nrow(onefle) == 0) { next }\n",
    "\n",
    "onefle$cdr3_length <- nchar(onefle$aaSeqCDR3)\n",
    "onefle_s <- onefle[, c(\"basename\", \"aaSeqCDR3\", \"cdr3_length\", \"TRBV\", \"TRBJ\", \"cloneCount\", \"cloneFraction\")]\n",
    "\n",
    "return(onefle_s)\n",
    "}"
   ]
  },
  {
   "cell_type": "code",
   "execution_count": 23,
   "metadata": {
    "vscode": {
     "languageId": "r"
    }
   },
   "outputs": [],
   "source": [
    "myflelist <- lapply(flelist, Vgene.fx)"
   ]
  },
  {
   "cell_type": "code",
   "execution_count": 24,
   "metadata": {
    "vscode": {
     "languageId": "r"
    }
   },
   "outputs": [],
   "source": [
    "int_v_j_cdr3_l <- do.call(\"rbind\", myflelist)"
   ]
  },
  {
   "cell_type": "code",
   "execution_count": 25,
   "metadata": {
    "vscode": {
     "languageId": "r"
    }
   },
   "outputs": [
    {
     "data": {
      "text/html": [
       "<table class=\"dataframe\">\n",
       "<caption>A data.frame: 6 x 7</caption>\n",
       "<thead>\n",
       "\t<tr><th></th><th scope=col>basename</th><th scope=col>aaSeqCDR3</th><th scope=col>cdr3_length</th><th scope=col>TRBV</th><th scope=col>TRBJ</th><th scope=col>cloneCount</th><th scope=col>cloneFraction</th></tr>\n",
       "\t<tr><th></th><th scope=col>&lt;chr&gt;</th><th scope=col>&lt;chr&gt;</th><th scope=col>&lt;int&gt;</th><th scope=col>&lt;chr&gt;</th><th scope=col>&lt;chr&gt;</th><th scope=col>&lt;int&gt;</th><th scope=col>&lt;dbl&gt;</th></tr>\n",
       "</thead>\n",
       "<tbody>\n",
       "\t<tr><th scope=row>1</th><td>CHP_10YO-M_PBMC_DNA</td><td>CASSQYTADTQYF     </td><td>13</td><td>TRBV13  </td><td>TRBJ2-3</td><td>3012</td><td>0.20644277</td></tr>\n",
       "\t<tr><th scope=row>2</th><td>CHP_10YO-M_PBMC_DNA</td><td>CASSDGRYGRDSNTEAFF</td><td>18</td><td>TRBV2   </td><td>TRBJ1-1</td><td>1590</td><td>0.10897875</td></tr>\n",
       "\t<tr><th scope=row>3</th><td>CHP_10YO-M_PBMC_DNA</td><td>CASSLNSGGTYGYTF   </td><td>15</td><td>TRBV12-4</td><td>TRBJ1-2</td><td>1301</td><td>0.08917066</td></tr>\n",
       "\t<tr><th scope=row>4</th><td>CHP_10YO-M_PBMC_DNA</td><td>CASYEGEWNTEAFF    </td><td>14</td><td>TRBV2   </td><td>TRBJ1-1</td><td>1214</td><td>0.08320768</td></tr>\n",
       "\t<tr><th scope=row>6</th><td>CHP_10YO-M_PBMC_DNA</td><td>CASSLGPNTEAFF     </td><td>13</td><td>TRBV12-4</td><td>TRBJ1-1</td><td>1088</td><td>0.07457162</td></tr>\n",
       "\t<tr><th scope=row>7</th><td>CHP_10YO-M_PBMC_DNA</td><td>CASSNGSGRPEAFF    </td><td>14</td><td>TRBV19  </td><td>TRBJ1-1</td><td> 860</td><td>0.05894448</td></tr>\n",
       "</tbody>\n",
       "</table>\n"
      ],
      "text/latex": [
       "A data.frame: 6 x 7\n",
       "\\begin{tabular}{r|lllllll}\n",
       "  & basename & aaSeqCDR3 & cdr3\\_length & TRBV & TRBJ & cloneCount & cloneFraction\\\\\n",
       "  & <chr> & <chr> & <int> & <chr> & <chr> & <int> & <dbl>\\\\\n",
       "\\hline\n",
       "\t1 & CHP\\_10YO-M\\_PBMC\\_DNA & CASSQYTADTQYF      & 13 & TRBV13   & TRBJ2-3 & 3012 & 0.20644277\\\\\n",
       "\t2 & CHP\\_10YO-M\\_PBMC\\_DNA & CASSDGRYGRDSNTEAFF & 18 & TRBV2    & TRBJ1-1 & 1590 & 0.10897875\\\\\n",
       "\t3 & CHP\\_10YO-M\\_PBMC\\_DNA & CASSLNSGGTYGYTF    & 15 & TRBV12-4 & TRBJ1-2 & 1301 & 0.08917066\\\\\n",
       "\t4 & CHP\\_10YO-M\\_PBMC\\_DNA & CASYEGEWNTEAFF     & 14 & TRBV2    & TRBJ1-1 & 1214 & 0.08320768\\\\\n",
       "\t6 & CHP\\_10YO-M\\_PBMC\\_DNA & CASSLGPNTEAFF      & 13 & TRBV12-4 & TRBJ1-1 & 1088 & 0.07457162\\\\\n",
       "\t7 & CHP\\_10YO-M\\_PBMC\\_DNA & CASSNGSGRPEAFF     & 14 & TRBV19   & TRBJ1-1 &  860 & 0.05894448\\\\\n",
       "\\end{tabular}\n"
      ],
      "text/markdown": [
       "\n",
       "A data.frame: 6 x 7\n",
       "\n",
       "| <!--/--> | basename &lt;chr&gt; | aaSeqCDR3 &lt;chr&gt; | cdr3_length &lt;int&gt; | TRBV &lt;chr&gt; | TRBJ &lt;chr&gt; | cloneCount &lt;int&gt; | cloneFraction &lt;dbl&gt; |\n",
       "|---|---|---|---|---|---|---|---|\n",
       "| 1 | CHP_10YO-M_PBMC_DNA | CASSQYTADTQYF      | 13 | TRBV13   | TRBJ2-3 | 3012 | 0.20644277 |\n",
       "| 2 | CHP_10YO-M_PBMC_DNA | CASSDGRYGRDSNTEAFF | 18 | TRBV2    | TRBJ1-1 | 1590 | 0.10897875 |\n",
       "| 3 | CHP_10YO-M_PBMC_DNA | CASSLNSGGTYGYTF    | 15 | TRBV12-4 | TRBJ1-2 | 1301 | 0.08917066 |\n",
       "| 4 | CHP_10YO-M_PBMC_DNA | CASYEGEWNTEAFF     | 14 | TRBV2    | TRBJ1-1 | 1214 | 0.08320768 |\n",
       "| 6 | CHP_10YO-M_PBMC_DNA | CASSLGPNTEAFF      | 13 | TRBV12-4 | TRBJ1-1 | 1088 | 0.07457162 |\n",
       "| 7 | CHP_10YO-M_PBMC_DNA | CASSNGSGRPEAFF     | 14 | TRBV19   | TRBJ1-1 |  860 | 0.05894448 |\n",
       "\n"
      ],
      "text/plain": [
       "  basename            aaSeqCDR3          cdr3_length TRBV     TRBJ   \n",
       "1 CHP_10YO-M_PBMC_DNA CASSQYTADTQYF      13          TRBV13   TRBJ2-3\n",
       "2 CHP_10YO-M_PBMC_DNA CASSDGRYGRDSNTEAFF 18          TRBV2    TRBJ1-1\n",
       "3 CHP_10YO-M_PBMC_DNA CASSLNSGGTYGYTF    15          TRBV12-4 TRBJ1-2\n",
       "4 CHP_10YO-M_PBMC_DNA CASYEGEWNTEAFF     14          TRBV2    TRBJ1-1\n",
       "6 CHP_10YO-M_PBMC_DNA CASSLGPNTEAFF      13          TRBV12-4 TRBJ1-1\n",
       "7 CHP_10YO-M_PBMC_DNA CASSNGSGRPEAFF     14          TRBV19   TRBJ1-1\n",
       "  cloneCount cloneFraction\n",
       "1 3012       0.20644277   \n",
       "2 1590       0.10897875   \n",
       "3 1301       0.08917066   \n",
       "4 1214       0.08320768   \n",
       "6 1088       0.07457162   \n",
       "7  860       0.05894448   "
      ]
     },
     "metadata": {},
     "output_type": "display_data"
    }
   ],
   "source": [
    "head(int_v_j_cdr3_l)"
   ]
  },
  {
   "cell_type": "code",
   "execution_count": 26,
   "metadata": {
    "vscode": {
     "languageId": "r"
    }
   },
   "outputs": [],
   "source": [
    "readr::write_rds(int_v_j_cdr3_l, paste0(datapath, \"capTCRseq/int_pbmc_v_j_cdr3_l.rds\"))"
   ]
  },
  {
   "cell_type": "code",
   "execution_count": 27,
   "metadata": {
    "vscode": {
     "languageId": "r"
    }
   },
   "outputs": [],
   "source": [
    "int_v_j_cdr3_l <- readr::read_rds( paste0(datapath, \"capTCRseq/int_pbmc_v_j_cdr3_l.rds\"))"
   ]
  },
  {
   "cell_type": "code",
   "execution_count": 28,
   "metadata": {
    "vscode": {
     "languageId": "r"
    }
   },
   "outputs": [
    {
     "data": {
      "text/html": [
       "<table class=\"dataframe\">\n",
       "<caption>A data.frame: 6 x 7</caption>\n",
       "<thead>\n",
       "\t<tr><th></th><th scope=col>basename</th><th scope=col>aaSeqCDR3</th><th scope=col>cdr3_length</th><th scope=col>TRBV</th><th scope=col>TRBJ</th><th scope=col>cloneCount</th><th scope=col>cloneFraction</th></tr>\n",
       "\t<tr><th></th><th scope=col>&lt;chr&gt;</th><th scope=col>&lt;chr&gt;</th><th scope=col>&lt;int&gt;</th><th scope=col>&lt;chr&gt;</th><th scope=col>&lt;chr&gt;</th><th scope=col>&lt;int&gt;</th><th scope=col>&lt;dbl&gt;</th></tr>\n",
       "</thead>\n",
       "<tbody>\n",
       "\t<tr><th scope=row>1</th><td>CHP_10YO-M_PBMC_DNA</td><td>CASSQYTADTQYF     </td><td>13</td><td>TRBV13  </td><td>TRBJ2-3</td><td>3012</td><td>0.20644277</td></tr>\n",
       "\t<tr><th scope=row>2</th><td>CHP_10YO-M_PBMC_DNA</td><td>CASSDGRYGRDSNTEAFF</td><td>18</td><td>TRBV2   </td><td>TRBJ1-1</td><td>1590</td><td>0.10897875</td></tr>\n",
       "\t<tr><th scope=row>3</th><td>CHP_10YO-M_PBMC_DNA</td><td>CASSLNSGGTYGYTF   </td><td>15</td><td>TRBV12-4</td><td>TRBJ1-2</td><td>1301</td><td>0.08917066</td></tr>\n",
       "\t<tr><th scope=row>4</th><td>CHP_10YO-M_PBMC_DNA</td><td>CASYEGEWNTEAFF    </td><td>14</td><td>TRBV2   </td><td>TRBJ1-1</td><td>1214</td><td>0.08320768</td></tr>\n",
       "\t<tr><th scope=row>6</th><td>CHP_10YO-M_PBMC_DNA</td><td>CASSLGPNTEAFF     </td><td>13</td><td>TRBV12-4</td><td>TRBJ1-1</td><td>1088</td><td>0.07457162</td></tr>\n",
       "\t<tr><th scope=row>7</th><td>CHP_10YO-M_PBMC_DNA</td><td>CASSNGSGRPEAFF    </td><td>14</td><td>TRBV19  </td><td>TRBJ1-1</td><td> 860</td><td>0.05894448</td></tr>\n",
       "</tbody>\n",
       "</table>\n"
      ],
      "text/latex": [
       "A data.frame: 6 x 7\n",
       "\\begin{tabular}{r|lllllll}\n",
       "  & basename & aaSeqCDR3 & cdr3\\_length & TRBV & TRBJ & cloneCount & cloneFraction\\\\\n",
       "  & <chr> & <chr> & <int> & <chr> & <chr> & <int> & <dbl>\\\\\n",
       "\\hline\n",
       "\t1 & CHP\\_10YO-M\\_PBMC\\_DNA & CASSQYTADTQYF      & 13 & TRBV13   & TRBJ2-3 & 3012 & 0.20644277\\\\\n",
       "\t2 & CHP\\_10YO-M\\_PBMC\\_DNA & CASSDGRYGRDSNTEAFF & 18 & TRBV2    & TRBJ1-1 & 1590 & 0.10897875\\\\\n",
       "\t3 & CHP\\_10YO-M\\_PBMC\\_DNA & CASSLNSGGTYGYTF    & 15 & TRBV12-4 & TRBJ1-2 & 1301 & 0.08917066\\\\\n",
       "\t4 & CHP\\_10YO-M\\_PBMC\\_DNA & CASYEGEWNTEAFF     & 14 & TRBV2    & TRBJ1-1 & 1214 & 0.08320768\\\\\n",
       "\t6 & CHP\\_10YO-M\\_PBMC\\_DNA & CASSLGPNTEAFF      & 13 & TRBV12-4 & TRBJ1-1 & 1088 & 0.07457162\\\\\n",
       "\t7 & CHP\\_10YO-M\\_PBMC\\_DNA & CASSNGSGRPEAFF     & 14 & TRBV19   & TRBJ1-1 &  860 & 0.05894448\\\\\n",
       "\\end{tabular}\n"
      ],
      "text/markdown": [
       "\n",
       "A data.frame: 6 x 7\n",
       "\n",
       "| <!--/--> | basename &lt;chr&gt; | aaSeqCDR3 &lt;chr&gt; | cdr3_length &lt;int&gt; | TRBV &lt;chr&gt; | TRBJ &lt;chr&gt; | cloneCount &lt;int&gt; | cloneFraction &lt;dbl&gt; |\n",
       "|---|---|---|---|---|---|---|---|\n",
       "| 1 | CHP_10YO-M_PBMC_DNA | CASSQYTADTQYF      | 13 | TRBV13   | TRBJ2-3 | 3012 | 0.20644277 |\n",
       "| 2 | CHP_10YO-M_PBMC_DNA | CASSDGRYGRDSNTEAFF | 18 | TRBV2    | TRBJ1-1 | 1590 | 0.10897875 |\n",
       "| 3 | CHP_10YO-M_PBMC_DNA | CASSLNSGGTYGYTF    | 15 | TRBV12-4 | TRBJ1-2 | 1301 | 0.08917066 |\n",
       "| 4 | CHP_10YO-M_PBMC_DNA | CASYEGEWNTEAFF     | 14 | TRBV2    | TRBJ1-1 | 1214 | 0.08320768 |\n",
       "| 6 | CHP_10YO-M_PBMC_DNA | CASSLGPNTEAFF      | 13 | TRBV12-4 | TRBJ1-1 | 1088 | 0.07457162 |\n",
       "| 7 | CHP_10YO-M_PBMC_DNA | CASSNGSGRPEAFF     | 14 | TRBV19   | TRBJ1-1 |  860 | 0.05894448 |\n",
       "\n"
      ],
      "text/plain": [
       "  basename            aaSeqCDR3          cdr3_length TRBV     TRBJ   \n",
       "1 CHP_10YO-M_PBMC_DNA CASSQYTADTQYF      13          TRBV13   TRBJ2-3\n",
       "2 CHP_10YO-M_PBMC_DNA CASSDGRYGRDSNTEAFF 18          TRBV2    TRBJ1-1\n",
       "3 CHP_10YO-M_PBMC_DNA CASSLNSGGTYGYTF    15          TRBV12-4 TRBJ1-2\n",
       "4 CHP_10YO-M_PBMC_DNA CASYEGEWNTEAFF     14          TRBV2    TRBJ1-1\n",
       "6 CHP_10YO-M_PBMC_DNA CASSLGPNTEAFF      13          TRBV12-4 TRBJ1-1\n",
       "7 CHP_10YO-M_PBMC_DNA CASSNGSGRPEAFF     14          TRBV19   TRBJ1-1\n",
       "  cloneCount cloneFraction\n",
       "1 3012       0.20644277   \n",
       "2 1590       0.10897875   \n",
       "3 1301       0.08917066   \n",
       "4 1214       0.08320768   \n",
       "6 1088       0.07457162   \n",
       "7  860       0.05894448   "
      ]
     },
     "metadata": {},
     "output_type": "display_data"
    }
   ],
   "source": [
    "head(int_v_j_cdr3_l)"
   ]
  },
  {
   "cell_type": "code",
   "execution_count": 46,
   "metadata": {
    "vscode": {
     "languageId": "r"
    }
   },
   "outputs": [
    {
     "data": {
      "text/html": [
       "<table class=\"dataframe\">\n",
       "<caption>A data.frame: 4 x 7</caption>\n",
       "<thead>\n",
       "\t<tr><th></th><th scope=col>basename</th><th scope=col>aaSeqCDR3</th><th scope=col>cdr3_length</th><th scope=col>TRBV</th><th scope=col>TRBJ</th><th scope=col>cloneCount</th><th scope=col>cloneFraction</th></tr>\n",
       "\t<tr><th></th><th scope=col>&lt;chr&gt;</th><th scope=col>&lt;chr&gt;</th><th scope=col>&lt;int&gt;</th><th scope=col>&lt;chr&gt;</th><th scope=col>&lt;chr&gt;</th><th scope=col>&lt;int&gt;</th><th scope=col>&lt;dbl&gt;</th></tr>\n",
       "</thead>\n",
       "<tbody>\n",
       "\t<tr><th scope=row>108135</th><td>LFS_TCR-5067-PBMC-DNA</td><td>CASSPGGGNTIYF    </td><td>13</td><td>TRBV7-2</td><td>TRBJ1-3</td><td>6</td><td>0.0034662045</td></tr>\n",
       "\t<tr><th scope=row>135115</th><td>LFS_TCR-5067-PBMC-DNA</td><td>CASSPTSGGTPYNEQFF</td><td>17</td><td>TRBV7-2</td><td>TRBJ2-1</td><td>4</td><td>0.0023108030</td></tr>\n",
       "\t<tr><th scope=row>24078</th><td>LFS_TCR-5067-PBMC-DNA</td><td>CASSPFGTVENEQYF  </td><td>15</td><td>TRBV7-2</td><td>TRBJ2-7</td><td>1</td><td>0.0005777008</td></tr>\n",
       "\t<tr><th scope=row>25377</th><td>LFS_TCR-5067-PBMC-DNA</td><td>CASSVPNQPQHF     </td><td>12</td><td>TRBV7-2</td><td>TRBJ1-5</td><td>1</td><td>0.0005777008</td></tr>\n",
       "</tbody>\n",
       "</table>\n"
      ],
      "text/latex": [
       "A data.frame: 4 x 7\n",
       "\\begin{tabular}{r|lllllll}\n",
       "  & basename & aaSeqCDR3 & cdr3\\_length & TRBV & TRBJ & cloneCount & cloneFraction\\\\\n",
       "  & <chr> & <chr> & <int> & <chr> & <chr> & <int> & <dbl>\\\\\n",
       "\\hline\n",
       "\t108135 & LFS\\_TCR-5067-PBMC-DNA & CASSPGGGNTIYF     & 13 & TRBV7-2 & TRBJ1-3 & 6 & 0.0034662045\\\\\n",
       "\t135115 & LFS\\_TCR-5067-PBMC-DNA & CASSPTSGGTPYNEQFF & 17 & TRBV7-2 & TRBJ2-1 & 4 & 0.0023108030\\\\\n",
       "\t24078 & LFS\\_TCR-5067-PBMC-DNA & CASSPFGTVENEQYF   & 15 & TRBV7-2 & TRBJ2-7 & 1 & 0.0005777008\\\\\n",
       "\t25377 & LFS\\_TCR-5067-PBMC-DNA & CASSVPNQPQHF      & 12 & TRBV7-2 & TRBJ1-5 & 1 & 0.0005777008\\\\\n",
       "\\end{tabular}\n"
      ],
      "text/markdown": [
       "\n",
       "A data.frame: 4 x 7\n",
       "\n",
       "| <!--/--> | basename &lt;chr&gt; | aaSeqCDR3 &lt;chr&gt; | cdr3_length &lt;int&gt; | TRBV &lt;chr&gt; | TRBJ &lt;chr&gt; | cloneCount &lt;int&gt; | cloneFraction &lt;dbl&gt; |\n",
       "|---|---|---|---|---|---|---|---|\n",
       "| 108135 | LFS_TCR-5067-PBMC-DNA | CASSPGGGNTIYF     | 13 | TRBV7-2 | TRBJ1-3 | 6 | 0.0034662045 |\n",
       "| 135115 | LFS_TCR-5067-PBMC-DNA | CASSPTSGGTPYNEQFF | 17 | TRBV7-2 | TRBJ2-1 | 4 | 0.0023108030 |\n",
       "| 24078 | LFS_TCR-5067-PBMC-DNA | CASSPFGTVENEQYF   | 15 | TRBV7-2 | TRBJ2-7 | 1 | 0.0005777008 |\n",
       "| 25377 | LFS_TCR-5067-PBMC-DNA | CASSVPNQPQHF      | 12 | TRBV7-2 | TRBJ1-5 | 1 | 0.0005777008 |\n",
       "\n"
      ],
      "text/plain": [
       "       basename              aaSeqCDR3         cdr3_length TRBV    TRBJ   \n",
       "108135 LFS_TCR-5067-PBMC-DNA CASSPGGGNTIYF     13          TRBV7-2 TRBJ1-3\n",
       "135115 LFS_TCR-5067-PBMC-DNA CASSPTSGGTPYNEQFF 17          TRBV7-2 TRBJ2-1\n",
       "24078  LFS_TCR-5067-PBMC-DNA CASSPFGTVENEQYF   15          TRBV7-2 TRBJ2-7\n",
       "25377  LFS_TCR-5067-PBMC-DNA CASSVPNQPQHF      12          TRBV7-2 TRBJ1-5\n",
       "       cloneCount cloneFraction\n",
       "108135 6          0.0034662045 \n",
       "135115 4          0.0023108030 \n",
       "24078  1          0.0005777008 \n",
       "25377  1          0.0005777008 "
      ]
     },
     "metadata": {},
     "output_type": "display_data"
    }
   ],
   "source": [
    "int_v_j_cdr3_l[ int_v_j_cdr3_l$basename == \"LFS_TCR-5067-PBMC-DNA\" &\n",
    "int_v_j_cdr3_l$TRBV == \"TRBV7-2\",]"
   ]
  },
  {
   "cell_type": "code",
   "execution_count": 48,
   "metadata": {
    "vscode": {
     "languageId": "r"
    }
   },
   "outputs": [
    {
     "name": "stderr",
     "output_type": "stream",
     "text": [
      "\u001b[1m\u001b[22m`summarise()` has grouped output by 'basename'. You can override using the\n",
      "`.groups` argument.\n"
     ]
    }
   ],
   "source": [
    "int_v <- int_v_j_cdr3_l %>% group_by(basename, TRBV) %>% summarize(Vcount = sum(cloneCount)) %>% ungroup()"
   ]
  },
  {
   "cell_type": "code",
   "execution_count": 49,
   "metadata": {
    "vscode": {
     "languageId": "r"
    }
   },
   "outputs": [
    {
     "data": {
      "text/html": [
       "<table class=\"dataframe\">\n",
       "<caption>A tibble: 6 x 3</caption>\n",
       "<thead>\n",
       "\t<tr><th scope=col>basename</th><th scope=col>TRBV</th><th scope=col>Vcount</th></tr>\n",
       "\t<tr><th scope=col>&lt;chr&gt;</th><th scope=col>&lt;chr&gt;</th><th scope=col>&lt;int&gt;</th></tr>\n",
       "</thead>\n",
       "<tbody>\n",
       "\t<tr><td>CHP-328-04-PBMC-DNA</td><td>TRBV10-1</td><td>14581</td></tr>\n",
       "\t<tr><td>CHP-328-04-PBMC-DNA</td><td>TRBV10-2</td><td> 2306</td></tr>\n",
       "\t<tr><td>CHP-328-04-PBMC-DNA</td><td>TRBV10-3</td><td>  405</td></tr>\n",
       "\t<tr><td>CHP-328-04-PBMC-DNA</td><td>TRBV11-1</td><td> 1123</td></tr>\n",
       "\t<tr><td>CHP-328-04-PBMC-DNA</td><td>TRBV11-2</td><td> 3818</td></tr>\n",
       "\t<tr><td>CHP-328-04-PBMC-DNA</td><td>TRBV11-3</td><td> 1897</td></tr>\n",
       "</tbody>\n",
       "</table>\n"
      ],
      "text/latex": [
       "A tibble: 6 x 3\n",
       "\\begin{tabular}{lll}\n",
       " basename & TRBV & Vcount\\\\\n",
       " <chr> & <chr> & <int>\\\\\n",
       "\\hline\n",
       "\t CHP-328-04-PBMC-DNA & TRBV10-1 & 14581\\\\\n",
       "\t CHP-328-04-PBMC-DNA & TRBV10-2 &  2306\\\\\n",
       "\t CHP-328-04-PBMC-DNA & TRBV10-3 &   405\\\\\n",
       "\t CHP-328-04-PBMC-DNA & TRBV11-1 &  1123\\\\\n",
       "\t CHP-328-04-PBMC-DNA & TRBV11-2 &  3818\\\\\n",
       "\t CHP-328-04-PBMC-DNA & TRBV11-3 &  1897\\\\\n",
       "\\end{tabular}\n"
      ],
      "text/markdown": [
       "\n",
       "A tibble: 6 x 3\n",
       "\n",
       "| basename &lt;chr&gt; | TRBV &lt;chr&gt; | Vcount &lt;int&gt; |\n",
       "|---|---|---|\n",
       "| CHP-328-04-PBMC-DNA | TRBV10-1 | 14581 |\n",
       "| CHP-328-04-PBMC-DNA | TRBV10-2 |  2306 |\n",
       "| CHP-328-04-PBMC-DNA | TRBV10-3 |   405 |\n",
       "| CHP-328-04-PBMC-DNA | TRBV11-1 |  1123 |\n",
       "| CHP-328-04-PBMC-DNA | TRBV11-2 |  3818 |\n",
       "| CHP-328-04-PBMC-DNA | TRBV11-3 |  1897 |\n",
       "\n"
      ],
      "text/plain": [
       "  basename            TRBV     Vcount\n",
       "1 CHP-328-04-PBMC-DNA TRBV10-1 14581 \n",
       "2 CHP-328-04-PBMC-DNA TRBV10-2  2306 \n",
       "3 CHP-328-04-PBMC-DNA TRBV10-3   405 \n",
       "4 CHP-328-04-PBMC-DNA TRBV11-1  1123 \n",
       "5 CHP-328-04-PBMC-DNA TRBV11-2  3818 \n",
       "6 CHP-328-04-PBMC-DNA TRBV11-3  1897 "
      ]
     },
     "metadata": {},
     "output_type": "display_data"
    }
   ],
   "source": [
    "head(int_v)"
   ]
  },
  {
   "cell_type": "code",
   "execution_count": 50,
   "metadata": {
    "vscode": {
     "languageId": "r"
    }
   },
   "outputs": [],
   "source": [
    "int_v_count <- tidyr::pivot_wider(int_v, names_from = \"TRBV\", values_from = \"Vcount\", values_fill = 0)"
   ]
  },
  {
   "cell_type": "code",
   "execution_count": 51,
   "metadata": {
    "vscode": {
     "languageId": "r"
    }
   },
   "outputs": [
    {
     "data": {
      "text/html": [
       "<table class=\"dataframe\">\n",
       "<caption>A tibble: 6 x 62</caption>\n",
       "<thead>\n",
       "\t<tr><th scope=col>basename</th><th scope=col>TRBV10-1</th><th scope=col>TRBV10-2</th><th scope=col>TRBV10-3</th><th scope=col>TRBV11-1</th><th scope=col>TRBV11-2</th><th scope=col>TRBV11-3</th><th scope=col>TRBV12-2</th><th scope=col>TRBV12-3</th><th scope=col>TRBV12-4</th><th scope=col>...</th><th scope=col>TRBV7-4</th><th scope=col>TRBV1</th><th scope=col>TRBV12-1</th><th scope=col>TRBV6-7</th><th scope=col>TRBV7-1</th><th scope=col>TRBV6-9</th><th scope=col>TRBV5-2</th><th scope=col>TRBV6-8</th><th scope=col>TRBV7-5</th><th scope=col>TRBV26</th></tr>\n",
       "\t<tr><th scope=col>&lt;chr&gt;</th><th scope=col>&lt;int&gt;</th><th scope=col>&lt;int&gt;</th><th scope=col>&lt;int&gt;</th><th scope=col>&lt;int&gt;</th><th scope=col>&lt;int&gt;</th><th scope=col>&lt;int&gt;</th><th scope=col>&lt;int&gt;</th><th scope=col>&lt;int&gt;</th><th scope=col>&lt;int&gt;</th><th scope=col>...</th><th scope=col>&lt;int&gt;</th><th scope=col>&lt;int&gt;</th><th scope=col>&lt;int&gt;</th><th scope=col>&lt;int&gt;</th><th scope=col>&lt;int&gt;</th><th scope=col>&lt;int&gt;</th><th scope=col>&lt;int&gt;</th><th scope=col>&lt;int&gt;</th><th scope=col>&lt;int&gt;</th><th scope=col>&lt;int&gt;</th></tr>\n",
       "</thead>\n",
       "<tbody>\n",
       "\t<tr><td>CHP-328-04-PBMC-DNA</td><td>14581</td><td>2306</td><td>  405</td><td>1123</td><td>3818</td><td>1897</td><td>119</td><td>2627</td><td>10206</td><td>...</td><td>  0</td><td> 0</td><td> 0</td><td>   0</td><td> 0</td><td>0</td><td>0</td><td>0</td><td>0</td><td>0</td></tr>\n",
       "\t<tr><td>CHP-328-05-PBMC-DNA</td><td>  119</td><td> 130</td><td>   29</td><td>   0</td><td> 196</td><td>  79</td><td>  0</td><td>1626</td><td>  825</td><td>...</td><td> 15</td><td> 0</td><td> 0</td><td>   0</td><td> 0</td><td>0</td><td>0</td><td>0</td><td>0</td><td>0</td></tr>\n",
       "\t<tr><td>CHP-351-03-PBMC-DNA</td><td>  669</td><td> 401</td><td>12834</td><td> 780</td><td>2637</td><td> 591</td><td>637</td><td>3120</td><td> 2932</td><td>...</td><td> 19</td><td>31</td><td>91</td><td> 372</td><td> 0</td><td>0</td><td>0</td><td>0</td><td>0</td><td>0</td></tr>\n",
       "\t<tr><td>CHP-369-01-PBMC-DNA</td><td> 1315</td><td>3593</td><td>17363</td><td>1147</td><td>3712</td><td> 502</td><td>  0</td><td>9747</td><td>13006</td><td>...</td><td>  0</td><td> 0</td><td> 0</td><td>1229</td><td>27</td><td>0</td><td>0</td><td>0</td><td>0</td><td>0</td></tr>\n",
       "\t<tr><td>CHP-377-02-PBMC-DNA</td><td>  392</td><td> 222</td><td>  376</td><td> 223</td><td> 458</td><td> 366</td><td>  0</td><td>1704</td><td> 1594</td><td>...</td><td>  0</td><td> 0</td><td> 0</td><td>  78</td><td> 0</td><td>0</td><td>0</td><td>0</td><td>0</td><td>0</td></tr>\n",
       "\t<tr><td>CHP-411-02-PBMC-DNA</td><td>  911</td><td>1069</td><td> 2795</td><td>1039</td><td>2155</td><td> 658</td><td>  0</td><td>3771</td><td> 3825</td><td>...</td><td>160</td><td>45</td><td> 0</td><td>   0</td><td> 0</td><td>0</td><td>0</td><td>0</td><td>0</td><td>0</td></tr>\n",
       "</tbody>\n",
       "</table>\n"
      ],
      "text/latex": [
       "A tibble: 6 x 62\n",
       "\\begin{tabular}{lllllllllllllllllllll}\n",
       " basename & TRBV10-1 & TRBV10-2 & TRBV10-3 & TRBV11-1 & TRBV11-2 & TRBV11-3 & TRBV12-2 & TRBV12-3 & TRBV12-4 & ... & TRBV7-4 & TRBV1 & TRBV12-1 & TRBV6-7 & TRBV7-1 & TRBV6-9 & TRBV5-2 & TRBV6-8 & TRBV7-5 & TRBV26\\\\\n",
       " <chr> & <int> & <int> & <int> & <int> & <int> & <int> & <int> & <int> & <int> & ... & <int> & <int> & <int> & <int> & <int> & <int> & <int> & <int> & <int> & <int>\\\\\n",
       "\\hline\n",
       "\t CHP-328-04-PBMC-DNA & 14581 & 2306 &   405 & 1123 & 3818 & 1897 & 119 & 2627 & 10206 & ... &   0 &  0 &  0 &    0 &  0 & 0 & 0 & 0 & 0 & 0\\\\\n",
       "\t CHP-328-05-PBMC-DNA &   119 &  130 &    29 &    0 &  196 &   79 &   0 & 1626 &   825 & ... &  15 &  0 &  0 &    0 &  0 & 0 & 0 & 0 & 0 & 0\\\\\n",
       "\t CHP-351-03-PBMC-DNA &   669 &  401 & 12834 &  780 & 2637 &  591 & 637 & 3120 &  2932 & ... &  19 & 31 & 91 &  372 &  0 & 0 & 0 & 0 & 0 & 0\\\\\n",
       "\t CHP-369-01-PBMC-DNA &  1315 & 3593 & 17363 & 1147 & 3712 &  502 &   0 & 9747 & 13006 & ... &   0 &  0 &  0 & 1229 & 27 & 0 & 0 & 0 & 0 & 0\\\\\n",
       "\t CHP-377-02-PBMC-DNA &   392 &  222 &   376 &  223 &  458 &  366 &   0 & 1704 &  1594 & ... &   0 &  0 &  0 &   78 &  0 & 0 & 0 & 0 & 0 & 0\\\\\n",
       "\t CHP-411-02-PBMC-DNA &   911 & 1069 &  2795 & 1039 & 2155 &  658 &   0 & 3771 &  3825 & ... & 160 & 45 &  0 &    0 &  0 & 0 & 0 & 0 & 0 & 0\\\\\n",
       "\\end{tabular}\n"
      ],
      "text/markdown": [
       "\n",
       "A tibble: 6 x 62\n",
       "\n",
       "| basename &lt;chr&gt; | TRBV10-1 &lt;int&gt; | TRBV10-2 &lt;int&gt; | TRBV10-3 &lt;int&gt; | TRBV11-1 &lt;int&gt; | TRBV11-2 &lt;int&gt; | TRBV11-3 &lt;int&gt; | TRBV12-2 &lt;int&gt; | TRBV12-3 &lt;int&gt; | TRBV12-4 &lt;int&gt; | ... ... | TRBV7-4 &lt;int&gt; | TRBV1 &lt;int&gt; | TRBV12-1 &lt;int&gt; | TRBV6-7 &lt;int&gt; | TRBV7-1 &lt;int&gt; | TRBV6-9 &lt;int&gt; | TRBV5-2 &lt;int&gt; | TRBV6-8 &lt;int&gt; | TRBV7-5 &lt;int&gt; | TRBV26 &lt;int&gt; |\n",
       "|---|---|---|---|---|---|---|---|---|---|---|---|---|---|---|---|---|---|---|---|---|\n",
       "| CHP-328-04-PBMC-DNA | 14581 | 2306 |   405 | 1123 | 3818 | 1897 | 119 | 2627 | 10206 | ... |   0 |  0 |  0 |    0 |  0 | 0 | 0 | 0 | 0 | 0 |\n",
       "| CHP-328-05-PBMC-DNA |   119 |  130 |    29 |    0 |  196 |   79 |   0 | 1626 |   825 | ... |  15 |  0 |  0 |    0 |  0 | 0 | 0 | 0 | 0 | 0 |\n",
       "| CHP-351-03-PBMC-DNA |   669 |  401 | 12834 |  780 | 2637 |  591 | 637 | 3120 |  2932 | ... |  19 | 31 | 91 |  372 |  0 | 0 | 0 | 0 | 0 | 0 |\n",
       "| CHP-369-01-PBMC-DNA |  1315 | 3593 | 17363 | 1147 | 3712 |  502 |   0 | 9747 | 13006 | ... |   0 |  0 |  0 | 1229 | 27 | 0 | 0 | 0 | 0 | 0 |\n",
       "| CHP-377-02-PBMC-DNA |   392 |  222 |   376 |  223 |  458 |  366 |   0 | 1704 |  1594 | ... |   0 |  0 |  0 |   78 |  0 | 0 | 0 | 0 | 0 | 0 |\n",
       "| CHP-411-02-PBMC-DNA |   911 | 1069 |  2795 | 1039 | 2155 |  658 |   0 | 3771 |  3825 | ... | 160 | 45 |  0 |    0 |  0 | 0 | 0 | 0 | 0 | 0 |\n",
       "\n"
      ],
      "text/plain": [
       "  basename            TRBV10-1 TRBV10-2 TRBV10-3 TRBV11-1 TRBV11-2 TRBV11-3\n",
       "1 CHP-328-04-PBMC-DNA 14581    2306       405    1123     3818     1897    \n",
       "2 CHP-328-05-PBMC-DNA   119     130        29       0      196       79    \n",
       "3 CHP-351-03-PBMC-DNA   669     401     12834     780     2637      591    \n",
       "4 CHP-369-01-PBMC-DNA  1315    3593     17363    1147     3712      502    \n",
       "5 CHP-377-02-PBMC-DNA   392     222       376     223      458      366    \n",
       "6 CHP-411-02-PBMC-DNA   911    1069      2795    1039     2155      658    \n",
       "  TRBV12-2 TRBV12-3 TRBV12-4 ... TRBV7-4 TRBV1 TRBV12-1 TRBV6-7 TRBV7-1 TRBV6-9\n",
       "1 119      2627     10206    ...   0      0     0          0     0      0      \n",
       "2   0      1626       825    ...  15      0     0          0     0      0      \n",
       "3 637      3120      2932    ...  19     31    91        372     0      0      \n",
       "4   0      9747     13006    ...   0      0     0       1229    27      0      \n",
       "5   0      1704      1594    ...   0      0     0         78     0      0      \n",
       "6   0      3771      3825    ... 160     45     0          0     0      0      \n",
       "  TRBV5-2 TRBV6-8 TRBV7-5 TRBV26\n",
       "1 0       0       0       0     \n",
       "2 0       0       0       0     \n",
       "3 0       0       0       0     \n",
       "4 0       0       0       0     \n",
       "5 0       0       0       0     \n",
       "6 0       0       0       0     "
      ]
     },
     "metadata": {},
     "output_type": "display_data"
    }
   ],
   "source": [
    "head(int_v_count)"
   ]
  },
  {
   "cell_type": "code",
   "execution_count": 52,
   "metadata": {
    "vscode": {
     "languageId": "r"
    }
   },
   "outputs": [],
   "source": [
    "int_v_count <- as.data.frame(int_v_count)\n",
    "rownames(int_v_count) <- int_v_count$basename\n",
    "int_v_count$basename <- NULL"
   ]
  },
  {
   "cell_type": "code",
   "execution_count": 53,
   "metadata": {
    "vscode": {
     "languageId": "r"
    }
   },
   "outputs": [
    {
     "data": {
      "text/html": [
       "<table class=\"dataframe\">\n",
       "<caption>A data.frame: 6 x 61</caption>\n",
       "<thead>\n",
       "\t<tr><th></th><th scope=col>TRBV10-1</th><th scope=col>TRBV10-2</th><th scope=col>TRBV10-3</th><th scope=col>TRBV11-1</th><th scope=col>TRBV11-2</th><th scope=col>TRBV11-3</th><th scope=col>TRBV12-2</th><th scope=col>TRBV12-3</th><th scope=col>TRBV12-4</th><th scope=col>TRBV12-5</th><th scope=col>...</th><th scope=col>TRBV7-4</th><th scope=col>TRBV1</th><th scope=col>TRBV12-1</th><th scope=col>TRBV6-7</th><th scope=col>TRBV7-1</th><th scope=col>TRBV6-9</th><th scope=col>TRBV5-2</th><th scope=col>TRBV6-8</th><th scope=col>TRBV7-5</th><th scope=col>TRBV26</th></tr>\n",
       "\t<tr><th></th><th scope=col>&lt;int&gt;</th><th scope=col>&lt;int&gt;</th><th scope=col>&lt;int&gt;</th><th scope=col>&lt;int&gt;</th><th scope=col>&lt;int&gt;</th><th scope=col>&lt;int&gt;</th><th scope=col>&lt;int&gt;</th><th scope=col>&lt;int&gt;</th><th scope=col>&lt;int&gt;</th><th scope=col>&lt;int&gt;</th><th scope=col>...</th><th scope=col>&lt;int&gt;</th><th scope=col>&lt;int&gt;</th><th scope=col>&lt;int&gt;</th><th scope=col>&lt;int&gt;</th><th scope=col>&lt;int&gt;</th><th scope=col>&lt;int&gt;</th><th scope=col>&lt;int&gt;</th><th scope=col>&lt;int&gt;</th><th scope=col>&lt;int&gt;</th><th scope=col>&lt;int&gt;</th></tr>\n",
       "</thead>\n",
       "<tbody>\n",
       "\t<tr><th scope=row>CHP-328-04-PBMC-DNA</th><td>14581</td><td>2306</td><td>  405</td><td>1123</td><td>3818</td><td>1897</td><td>119</td><td>2627</td><td>10206</td><td> 554</td><td>...</td><td>  0</td><td> 0</td><td> 0</td><td>   0</td><td> 0</td><td>0</td><td>0</td><td>0</td><td>0</td><td>0</td></tr>\n",
       "\t<tr><th scope=row>CHP-328-05-PBMC-DNA</th><td>  119</td><td> 130</td><td>   29</td><td>   0</td><td> 196</td><td>  79</td><td>  0</td><td>1626</td><td>  825</td><td> 255</td><td>...</td><td> 15</td><td> 0</td><td> 0</td><td>   0</td><td> 0</td><td>0</td><td>0</td><td>0</td><td>0</td><td>0</td></tr>\n",
       "\t<tr><th scope=row>CHP-351-03-PBMC-DNA</th><td>  669</td><td> 401</td><td>12834</td><td> 780</td><td>2637</td><td> 591</td><td>637</td><td>3120</td><td> 2932</td><td>1730</td><td>...</td><td> 19</td><td>31</td><td>91</td><td> 372</td><td> 0</td><td>0</td><td>0</td><td>0</td><td>0</td><td>0</td></tr>\n",
       "\t<tr><th scope=row>CHP-369-01-PBMC-DNA</th><td> 1315</td><td>3593</td><td>17363</td><td>1147</td><td>3712</td><td> 502</td><td>  0</td><td>9747</td><td>13006</td><td> 812</td><td>...</td><td>  0</td><td> 0</td><td> 0</td><td>1229</td><td>27</td><td>0</td><td>0</td><td>0</td><td>0</td><td>0</td></tr>\n",
       "\t<tr><th scope=row>CHP-377-02-PBMC-DNA</th><td>  392</td><td> 222</td><td>  376</td><td> 223</td><td> 458</td><td> 366</td><td>  0</td><td>1704</td><td> 1594</td><td> 431</td><td>...</td><td>  0</td><td> 0</td><td> 0</td><td>  78</td><td> 0</td><td>0</td><td>0</td><td>0</td><td>0</td><td>0</td></tr>\n",
       "\t<tr><th scope=row>CHP-411-02-PBMC-DNA</th><td>  911</td><td>1069</td><td> 2795</td><td>1039</td><td>2155</td><td> 658</td><td>  0</td><td>3771</td><td> 3825</td><td> 571</td><td>...</td><td>160</td><td>45</td><td> 0</td><td>   0</td><td> 0</td><td>0</td><td>0</td><td>0</td><td>0</td><td>0</td></tr>\n",
       "</tbody>\n",
       "</table>\n"
      ],
      "text/latex": [
       "A data.frame: 6 x 61\n",
       "\\begin{tabular}{r|lllllllllllllllllllll}\n",
       "  & TRBV10-1 & TRBV10-2 & TRBV10-3 & TRBV11-1 & TRBV11-2 & TRBV11-3 & TRBV12-2 & TRBV12-3 & TRBV12-4 & TRBV12-5 & ... & TRBV7-4 & TRBV1 & TRBV12-1 & TRBV6-7 & TRBV7-1 & TRBV6-9 & TRBV5-2 & TRBV6-8 & TRBV7-5 & TRBV26\\\\\n",
       "  & <int> & <int> & <int> & <int> & <int> & <int> & <int> & <int> & <int> & <int> & ... & <int> & <int> & <int> & <int> & <int> & <int> & <int> & <int> & <int> & <int>\\\\\n",
       "\\hline\n",
       "\tCHP-328-04-PBMC-DNA & 14581 & 2306 &   405 & 1123 & 3818 & 1897 & 119 & 2627 & 10206 &  554 & ... &   0 &  0 &  0 &    0 &  0 & 0 & 0 & 0 & 0 & 0\\\\\n",
       "\tCHP-328-05-PBMC-DNA &   119 &  130 &    29 &    0 &  196 &   79 &   0 & 1626 &   825 &  255 & ... &  15 &  0 &  0 &    0 &  0 & 0 & 0 & 0 & 0 & 0\\\\\n",
       "\tCHP-351-03-PBMC-DNA &   669 &  401 & 12834 &  780 & 2637 &  591 & 637 & 3120 &  2932 & 1730 & ... &  19 & 31 & 91 &  372 &  0 & 0 & 0 & 0 & 0 & 0\\\\\n",
       "\tCHP-369-01-PBMC-DNA &  1315 & 3593 & 17363 & 1147 & 3712 &  502 &   0 & 9747 & 13006 &  812 & ... &   0 &  0 &  0 & 1229 & 27 & 0 & 0 & 0 & 0 & 0\\\\\n",
       "\tCHP-377-02-PBMC-DNA &   392 &  222 &   376 &  223 &  458 &  366 &   0 & 1704 &  1594 &  431 & ... &   0 &  0 &  0 &   78 &  0 & 0 & 0 & 0 & 0 & 0\\\\\n",
       "\tCHP-411-02-PBMC-DNA &   911 & 1069 &  2795 & 1039 & 2155 &  658 &   0 & 3771 &  3825 &  571 & ... & 160 & 45 &  0 &    0 &  0 & 0 & 0 & 0 & 0 & 0\\\\\n",
       "\\end{tabular}\n"
      ],
      "text/markdown": [
       "\n",
       "A data.frame: 6 x 61\n",
       "\n",
       "| <!--/--> | TRBV10-1 &lt;int&gt; | TRBV10-2 &lt;int&gt; | TRBV10-3 &lt;int&gt; | TRBV11-1 &lt;int&gt; | TRBV11-2 &lt;int&gt; | TRBV11-3 &lt;int&gt; | TRBV12-2 &lt;int&gt; | TRBV12-3 &lt;int&gt; | TRBV12-4 &lt;int&gt; | TRBV12-5 &lt;int&gt; | ... ... | TRBV7-4 &lt;int&gt; | TRBV1 &lt;int&gt; | TRBV12-1 &lt;int&gt; | TRBV6-7 &lt;int&gt; | TRBV7-1 &lt;int&gt; | TRBV6-9 &lt;int&gt; | TRBV5-2 &lt;int&gt; | TRBV6-8 &lt;int&gt; | TRBV7-5 &lt;int&gt; | TRBV26 &lt;int&gt; |\n",
       "|---|---|---|---|---|---|---|---|---|---|---|---|---|---|---|---|---|---|---|---|---|---|\n",
       "| CHP-328-04-PBMC-DNA | 14581 | 2306 |   405 | 1123 | 3818 | 1897 | 119 | 2627 | 10206 |  554 | ... |   0 |  0 |  0 |    0 |  0 | 0 | 0 | 0 | 0 | 0 |\n",
       "| CHP-328-05-PBMC-DNA |   119 |  130 |    29 |    0 |  196 |   79 |   0 | 1626 |   825 |  255 | ... |  15 |  0 |  0 |    0 |  0 | 0 | 0 | 0 | 0 | 0 |\n",
       "| CHP-351-03-PBMC-DNA |   669 |  401 | 12834 |  780 | 2637 |  591 | 637 | 3120 |  2932 | 1730 | ... |  19 | 31 | 91 |  372 |  0 | 0 | 0 | 0 | 0 | 0 |\n",
       "| CHP-369-01-PBMC-DNA |  1315 | 3593 | 17363 | 1147 | 3712 |  502 |   0 | 9747 | 13006 |  812 | ... |   0 |  0 |  0 | 1229 | 27 | 0 | 0 | 0 | 0 | 0 |\n",
       "| CHP-377-02-PBMC-DNA |   392 |  222 |   376 |  223 |  458 |  366 |   0 | 1704 |  1594 |  431 | ... |   0 |  0 |  0 |   78 |  0 | 0 | 0 | 0 | 0 | 0 |\n",
       "| CHP-411-02-PBMC-DNA |   911 | 1069 |  2795 | 1039 | 2155 |  658 |   0 | 3771 |  3825 |  571 | ... | 160 | 45 |  0 |    0 |  0 | 0 | 0 | 0 | 0 | 0 |\n",
       "\n"
      ],
      "text/plain": [
       "                    TRBV10-1 TRBV10-2 TRBV10-3 TRBV11-1 TRBV11-2 TRBV11-3\n",
       "CHP-328-04-PBMC-DNA 14581    2306       405    1123     3818     1897    \n",
       "CHP-328-05-PBMC-DNA   119     130        29       0      196       79    \n",
       "CHP-351-03-PBMC-DNA   669     401     12834     780     2637      591    \n",
       "CHP-369-01-PBMC-DNA  1315    3593     17363    1147     3712      502    \n",
       "CHP-377-02-PBMC-DNA   392     222       376     223      458      366    \n",
       "CHP-411-02-PBMC-DNA   911    1069      2795    1039     2155      658    \n",
       "                    TRBV12-2 TRBV12-3 TRBV12-4 TRBV12-5 ... TRBV7-4 TRBV1\n",
       "CHP-328-04-PBMC-DNA 119      2627     10206     554     ...   0      0   \n",
       "CHP-328-05-PBMC-DNA   0      1626       825     255     ...  15      0   \n",
       "CHP-351-03-PBMC-DNA 637      3120      2932    1730     ...  19     31   \n",
       "CHP-369-01-PBMC-DNA   0      9747     13006     812     ...   0      0   \n",
       "CHP-377-02-PBMC-DNA   0      1704      1594     431     ...   0      0   \n",
       "CHP-411-02-PBMC-DNA   0      3771      3825     571     ... 160     45   \n",
       "                    TRBV12-1 TRBV6-7 TRBV7-1 TRBV6-9 TRBV5-2 TRBV6-8 TRBV7-5\n",
       "CHP-328-04-PBMC-DNA  0          0     0      0       0       0       0      \n",
       "CHP-328-05-PBMC-DNA  0          0     0      0       0       0       0      \n",
       "CHP-351-03-PBMC-DNA 91        372     0      0       0       0       0      \n",
       "CHP-369-01-PBMC-DNA  0       1229    27      0       0       0       0      \n",
       "CHP-377-02-PBMC-DNA  0         78     0      0       0       0       0      \n",
       "CHP-411-02-PBMC-DNA  0          0     0      0       0       0       0      \n",
       "                    TRBV26\n",
       "CHP-328-04-PBMC-DNA 0     \n",
       "CHP-328-05-PBMC-DNA 0     \n",
       "CHP-351-03-PBMC-DNA 0     \n",
       "CHP-369-01-PBMC-DNA 0     \n",
       "CHP-377-02-PBMC-DNA 0     \n",
       "CHP-411-02-PBMC-DNA 0     "
      ]
     },
     "metadata": {},
     "output_type": "display_data"
    }
   ],
   "source": [
    "head(int_v_count)"
   ]
  },
  {
   "cell_type": "code",
   "execution_count": 54,
   "metadata": {
    "vscode": {
     "languageId": "r"
    }
   },
   "outputs": [],
   "source": [
    "readr::write_rds(int_v_count, paste0(datapath, \"capTCRseq/int_pbmc_v_count.rds\"))"
   ]
  },
  {
   "cell_type": "code",
   "execution_count": 57,
   "metadata": {
    "vscode": {
     "languageId": "r"
    }
   },
   "outputs": [
    {
     "name": "stderr",
     "output_type": "stream",
     "text": [
      "\u001b[1m\u001b[22m`summarise()` has grouped output by 'basename'. You can override using the\n",
      "`.groups` argument.\n"
     ]
    }
   ],
   "source": [
    "int_v <- int_v_j_cdr3_l %>% group_by(basename, TRBV) %>% summarize(Vfrac = sum(cloneFraction)) %>% ungroup()"
   ]
  },
  {
   "cell_type": "code",
   "execution_count": 58,
   "metadata": {
    "vscode": {
     "languageId": "r"
    }
   },
   "outputs": [
    {
     "data": {
      "text/html": [
       "<table class=\"dataframe\">\n",
       "<caption>A tibble: 6 x 3</caption>\n",
       "<thead>\n",
       "\t<tr><th scope=col>basename</th><th scope=col>TRBV</th><th scope=col>Vfrac</th></tr>\n",
       "\t<tr><th scope=col>&lt;chr&gt;</th><th scope=col>&lt;chr&gt;</th><th scope=col>&lt;dbl&gt;</th></tr>\n",
       "</thead>\n",
       "<tbody>\n",
       "\t<tr><td>CHP-328-04-PBMC-DNA</td><td>TRBV10-1</td><td>0.052511596</td></tr>\n",
       "\t<tr><td>CHP-328-04-PBMC-DNA</td><td>TRBV10-2</td><td>0.008304762</td></tr>\n",
       "\t<tr><td>CHP-328-04-PBMC-DNA</td><td>TRBV10-3</td><td>0.001458555</td></tr>\n",
       "\t<tr><td>CHP-328-04-PBMC-DNA</td><td>TRBV11-1</td><td>0.004044340</td></tr>\n",
       "\t<tr><td>CHP-328-04-PBMC-DNA</td><td>TRBV11-2</td><td>0.013750036</td></tr>\n",
       "\t<tr><td>CHP-328-04-PBMC-DNA</td><td>TRBV11-3</td><td>0.006831802</td></tr>\n",
       "</tbody>\n",
       "</table>\n"
      ],
      "text/latex": [
       "A tibble: 6 x 3\n",
       "\\begin{tabular}{lll}\n",
       " basename & TRBV & Vfrac\\\\\n",
       " <chr> & <chr> & <dbl>\\\\\n",
       "\\hline\n",
       "\t CHP-328-04-PBMC-DNA & TRBV10-1 & 0.052511596\\\\\n",
       "\t CHP-328-04-PBMC-DNA & TRBV10-2 & 0.008304762\\\\\n",
       "\t CHP-328-04-PBMC-DNA & TRBV10-3 & 0.001458555\\\\\n",
       "\t CHP-328-04-PBMC-DNA & TRBV11-1 & 0.004044340\\\\\n",
       "\t CHP-328-04-PBMC-DNA & TRBV11-2 & 0.013750036\\\\\n",
       "\t CHP-328-04-PBMC-DNA & TRBV11-3 & 0.006831802\\\\\n",
       "\\end{tabular}\n"
      ],
      "text/markdown": [
       "\n",
       "A tibble: 6 x 3\n",
       "\n",
       "| basename &lt;chr&gt; | TRBV &lt;chr&gt; | Vfrac &lt;dbl&gt; |\n",
       "|---|---|---|\n",
       "| CHP-328-04-PBMC-DNA | TRBV10-1 | 0.052511596 |\n",
       "| CHP-328-04-PBMC-DNA | TRBV10-2 | 0.008304762 |\n",
       "| CHP-328-04-PBMC-DNA | TRBV10-3 | 0.001458555 |\n",
       "| CHP-328-04-PBMC-DNA | TRBV11-1 | 0.004044340 |\n",
       "| CHP-328-04-PBMC-DNA | TRBV11-2 | 0.013750036 |\n",
       "| CHP-328-04-PBMC-DNA | TRBV11-3 | 0.006831802 |\n",
       "\n"
      ],
      "text/plain": [
       "  basename            TRBV     Vfrac      \n",
       "1 CHP-328-04-PBMC-DNA TRBV10-1 0.052511596\n",
       "2 CHP-328-04-PBMC-DNA TRBV10-2 0.008304762\n",
       "3 CHP-328-04-PBMC-DNA TRBV10-3 0.001458555\n",
       "4 CHP-328-04-PBMC-DNA TRBV11-1 0.004044340\n",
       "5 CHP-328-04-PBMC-DNA TRBV11-2 0.013750036\n",
       "6 CHP-328-04-PBMC-DNA TRBV11-3 0.006831802"
      ]
     },
     "metadata": {},
     "output_type": "display_data"
    }
   ],
   "source": [
    "head(int_v)"
   ]
  },
  {
   "cell_type": "code",
   "execution_count": 59,
   "metadata": {
    "vscode": {
     "languageId": "r"
    }
   },
   "outputs": [],
   "source": [
    "int_v_fraction <- tidyr::pivot_wider(int_v, names_from = \"TRBV\", values_from = \"Vfrac\", values_fill = 0)"
   ]
  },
  {
   "cell_type": "code",
   "execution_count": 61,
   "metadata": {
    "vscode": {
     "languageId": "r"
    }
   },
   "outputs": [],
   "source": [
    "int_v_fraction <- as.data.frame(int_v_fraction)\n",
    "rownames(int_v_fraction) <- int_v_fraction$basename\n",
    "int_v_fraction$basename <- NULL"
   ]
  },
  {
   "cell_type": "code",
   "execution_count": 63,
   "metadata": {
    "vscode": {
     "languageId": "r"
    }
   },
   "outputs": [],
   "source": [
    "readr::write_rds(int_v_fraction, paste0(datapath, \"capTCRseq/int_pbmc_v_fraction.rds\"))"
   ]
  },
  {
   "cell_type": "code",
   "execution_count": 64,
   "metadata": {
    "vscode": {
     "languageId": "r"
    }
   },
   "outputs": [],
   "source": [
    "# should be done for all files\n",
    "vfreq <- int_v_j_cdr3_l %>% group_by(TRBV) %>% tally() %>% arrange(desc(n)) %>% mutate(freq = n/sum(n))"
   ]
  },
  {
   "cell_type": "code",
   "execution_count": 65,
   "metadata": {
    "vscode": {
     "languageId": "r"
    }
   },
   "outputs": [
    {
     "data": {
      "text/html": [
       "<table class=\"dataframe\">\n",
       "<caption>A tibble: 6 x 3</caption>\n",
       "<thead>\n",
       "\t<tr><th scope=col>TRBV</th><th scope=col>n</th><th scope=col>freq</th></tr>\n",
       "\t<tr><th scope=col>&lt;chr&gt;</th><th scope=col>&lt;int&gt;</th><th scope=col>&lt;dbl&gt;</th></tr>\n",
       "</thead>\n",
       "<tbody>\n",
       "\t<tr><td>TRBV20-1</td><td>4222</td><td>0.08339424</td></tr>\n",
       "\t<tr><td>TRBV19  </td><td>2567</td><td>0.05070417</td></tr>\n",
       "\t<tr><td>TRBV7-9 </td><td>2280</td><td>0.04503526</td></tr>\n",
       "\t<tr><td>TRBV5-1 </td><td>2259</td><td>0.04462046</td></tr>\n",
       "\t<tr><td>TRBV28  </td><td>2199</td><td>0.04343532</td></tr>\n",
       "\t<tr><td>TRBV6-5 </td><td>2156</td><td>0.04258597</td></tr>\n",
       "</tbody>\n",
       "</table>\n"
      ],
      "text/latex": [
       "A tibble: 6 x 3\n",
       "\\begin{tabular}{lll}\n",
       " TRBV & n & freq\\\\\n",
       " <chr> & <int> & <dbl>\\\\\n",
       "\\hline\n",
       "\t TRBV20-1 & 4222 & 0.08339424\\\\\n",
       "\t TRBV19   & 2567 & 0.05070417\\\\\n",
       "\t TRBV7-9  & 2280 & 0.04503526\\\\\n",
       "\t TRBV5-1  & 2259 & 0.04462046\\\\\n",
       "\t TRBV28   & 2199 & 0.04343532\\\\\n",
       "\t TRBV6-5  & 2156 & 0.04258597\\\\\n",
       "\\end{tabular}\n"
      ],
      "text/markdown": [
       "\n",
       "A tibble: 6 x 3\n",
       "\n",
       "| TRBV &lt;chr&gt; | n &lt;int&gt; | freq &lt;dbl&gt; |\n",
       "|---|---|---|\n",
       "| TRBV20-1 | 4222 | 0.08339424 |\n",
       "| TRBV19   | 2567 | 0.05070417 |\n",
       "| TRBV7-9  | 2280 | 0.04503526 |\n",
       "| TRBV5-1  | 2259 | 0.04462046 |\n",
       "| TRBV28   | 2199 | 0.04343532 |\n",
       "| TRBV6-5  | 2156 | 0.04258597 |\n",
       "\n"
      ],
      "text/plain": [
       "  TRBV     n    freq      \n",
       "1 TRBV20-1 4222 0.08339424\n",
       "2 TRBV19   2567 0.05070417\n",
       "3 TRBV7-9  2280 0.04503526\n",
       "4 TRBV5-1  2259 0.04462046\n",
       "5 TRBV28   2199 0.04343532\n",
       "6 TRBV6-5  2156 0.04258597"
      ]
     },
     "metadata": {},
     "output_type": "display_data"
    }
   ],
   "source": [
    "head(vfreq)"
   ]
  },
  {
   "cell_type": "code",
   "execution_count": 66,
   "metadata": {
    "vscode": {
     "languageId": "r"
    }
   },
   "outputs": [],
   "source": [
    "readr::write_rds(vfreq, paste0(datapath, \"capTCRseq/vfreq_int_pbmc.rds\"))"
   ]
  },
  {
   "cell_type": "code",
   "execution_count": 67,
   "metadata": {
    "vscode": {
     "languageId": "r"
    }
   },
   "outputs": [
    {
     "data": {
      "text/plain": [
       "     Min.   1st Qu.    Median      Mean   3rd Qu.      Max. \n",
       "1.975e-05 2.509e-03 1.221e-02 1.639e-02 2.315e-02 8.339e-02 "
      ]
     },
     "metadata": {},
     "output_type": "display_data"
    }
   ],
   "source": [
    "summary(vfreq$freq)"
   ]
  },
  {
   "cell_type": "code",
   "execution_count": 68,
   "metadata": {
    "vscode": {
     "languageId": "r"
    }
   },
   "outputs": [],
   "source": [
    "#low frequency V genes\n",
    "lowfreq_v <- vfreq$TRBV[vfreq$freq < 0.001 ]"
   ]
  },
  {
   "cell_type": "code",
   "execution_count": 69,
   "metadata": {
    "vscode": {
     "languageId": "r"
    }
   },
   "outputs": [
    {
     "data": {
      "text/html": [
       "<style>\n",
       ".list-inline {list-style: none; margin:0; padding: 0}\n",
       ".list-inline>li {display: inline-block}\n",
       ".list-inline>li:not(:last-child)::after {content: \"\\00b7\"; padding: 0 .5ex}\n",
       "</style>\n",
       "<ol class=list-inline><li>'TRBV12-2'</li><li>'TRBV12-1'</li><li>'TRBV6-7'</li><li>'TRBV1'</li><li>'TRBV7-4'</li><li>'TRBV5-7'</li><li>'TRBV6-9'</li><li>'TRBV7-1'</li><li>'TRBV6-8'</li><li>'TRBV7-5'</li><li>'TRBV5-2'</li><li>'TRBV26'</li></ol>\n"
      ],
      "text/latex": [
       "\\begin{enumerate*}\n",
       "\\item 'TRBV12-2'\n",
       "\\item 'TRBV12-1'\n",
       "\\item 'TRBV6-7'\n",
       "\\item 'TRBV1'\n",
       "\\item 'TRBV7-4'\n",
       "\\item 'TRBV5-7'\n",
       "\\item 'TRBV6-9'\n",
       "\\item 'TRBV7-1'\n",
       "\\item 'TRBV6-8'\n",
       "\\item 'TRBV7-5'\n",
       "\\item 'TRBV5-2'\n",
       "\\item 'TRBV26'\n",
       "\\end{enumerate*}\n"
      ],
      "text/markdown": [
       "1. 'TRBV12-2'\n",
       "2. 'TRBV12-1'\n",
       "3. 'TRBV6-7'\n",
       "4. 'TRBV1'\n",
       "5. 'TRBV7-4'\n",
       "6. 'TRBV5-7'\n",
       "7. 'TRBV6-9'\n",
       "8. 'TRBV7-1'\n",
       "9. 'TRBV6-8'\n",
       "10. 'TRBV7-5'\n",
       "11. 'TRBV5-2'\n",
       "12. 'TRBV26'\n",
       "\n",
       "\n"
      ],
      "text/plain": [
       " [1] \"TRBV12-2\" \"TRBV12-1\" \"TRBV6-7\"  \"TRBV1\"    \"TRBV7-4\"  \"TRBV5-7\" \n",
       " [7] \"TRBV6-9\"  \"TRBV7-1\"  \"TRBV6-8\"  \"TRBV7-5\"  \"TRBV5-2\"  \"TRBV26\"  "
      ]
     },
     "metadata": {},
     "output_type": "display_data"
    }
   ],
   "source": [
    "lowfreq_v"
   ]
  },
  {
   "cell_type": "code",
   "execution_count": 70,
   "metadata": {
    "vscode": {
     "languageId": "r"
    }
   },
   "outputs": [
    {
     "data": {
      "image/png": "[encoded data removed]",
      "text/plain": [
       "Plot with title \"Histogram of vfreq$freq\""
      ]
     },
     "metadata": {
      "image/png": {
       "height": 420,
       "width": 420
      }
     },
     "output_type": "display_data"
    }
   ],
   "source": [
    "hist(vfreq$freq, breaks = 100)"
   ]
  },
  {
   "cell_type": "code",
   "execution_count": 71,
   "metadata": {
    "vscode": {
     "languageId": "r"
    }
   },
   "outputs": [],
   "source": [
    "vgene_mat <- as.data.frame.matrix(table(int_v_j_cdr3_l %>% select(basename, TRBV  )))"
   ]
  },
  {
   "cell_type": "code",
   "execution_count": 72,
   "metadata": {
    "vscode": {
     "languageId": "r"
    }
   },
   "outputs": [
    {
     "data": {
      "text/html": [
       "<table class=\"dataframe\">\n",
       "<caption>A data.frame: 6 x 61</caption>\n",
       "<thead>\n",
       "\t<tr><th></th><th scope=col>TRBV1</th><th scope=col>TRBV10-1</th><th scope=col>TRBV10-2</th><th scope=col>TRBV10-3</th><th scope=col>TRBV11-1</th><th scope=col>TRBV11-2</th><th scope=col>TRBV11-3</th><th scope=col>TRBV12-1</th><th scope=col>TRBV12-2</th><th scope=col>TRBV12-3</th><th scope=col>...</th><th scope=col>TRBV7-1</th><th scope=col>TRBV7-2</th><th scope=col>TRBV7-3</th><th scope=col>TRBV7-4</th><th scope=col>TRBV7-5</th><th scope=col>TRBV7-6</th><th scope=col>TRBV7-7</th><th scope=col>TRBV7-8</th><th scope=col>TRBV7-9</th><th scope=col>TRBV9</th></tr>\n",
       "\t<tr><th></th><th scope=col>&lt;int&gt;</th><th scope=col>&lt;int&gt;</th><th scope=col>&lt;int&gt;</th><th scope=col>&lt;int&gt;</th><th scope=col>&lt;int&gt;</th><th scope=col>&lt;int&gt;</th><th scope=col>&lt;int&gt;</th><th scope=col>&lt;int&gt;</th><th scope=col>&lt;int&gt;</th><th scope=col>&lt;int&gt;</th><th scope=col>...</th><th scope=col>&lt;int&gt;</th><th scope=col>&lt;int&gt;</th><th scope=col>&lt;int&gt;</th><th scope=col>&lt;int&gt;</th><th scope=col>&lt;int&gt;</th><th scope=col>&lt;int&gt;</th><th scope=col>&lt;int&gt;</th><th scope=col>&lt;int&gt;</th><th scope=col>&lt;int&gt;</th><th scope=col>&lt;int&gt;</th></tr>\n",
       "</thead>\n",
       "<tbody>\n",
       "\t<tr><th scope=row>CHP-328-04-PBMC-DNA</th><td>0</td><td>7</td><td>3</td><td> 4</td><td> 3</td><td>10</td><td> 2</td><td>0</td><td>3</td><td>13</td><td>...</td><td>0</td><td>14</td><td> 0</td><td>0</td><td>0</td><td> 4</td><td>2</td><td> 8</td><td>21</td><td>11</td></tr>\n",
       "\t<tr><th scope=row>CHP-328-05-PBMC-DNA</th><td>0</td><td>1</td><td>2</td><td> 1</td><td> 0</td><td> 3</td><td> 2</td><td>0</td><td>0</td><td> 9</td><td>...</td><td>0</td><td> 3</td><td> 3</td><td>1</td><td>0</td><td> 1</td><td>0</td><td> 2</td><td> 2</td><td> 6</td></tr>\n",
       "\t<tr><th scope=row>CHP-351-03-PBMC-DNA</th><td>1</td><td>4</td><td>3</td><td>24</td><td> 8</td><td>19</td><td> 4</td><td>1</td><td>1</td><td>29</td><td>...</td><td>0</td><td>23</td><td>21</td><td>1</td><td>0</td><td>18</td><td>9</td><td>13</td><td>52</td><td>73</td></tr>\n",
       "\t<tr><th scope=row>CHP-369-01-PBMC-DNA</th><td>0</td><td>6</td><td>6</td><td>18</td><td> 6</td><td>17</td><td> 2</td><td>0</td><td>0</td><td>21</td><td>...</td><td>1</td><td> 8</td><td>10</td><td>0</td><td>0</td><td> 7</td><td>2</td><td> 2</td><td>22</td><td>26</td></tr>\n",
       "\t<tr><th scope=row>CHP-377-02-PBMC-DNA</th><td>0</td><td>5</td><td>1</td><td> 5</td><td> 3</td><td>12</td><td> 3</td><td>0</td><td>0</td><td>30</td><td>...</td><td>0</td><td> 8</td><td> 4</td><td>0</td><td>0</td><td> 3</td><td>0</td><td>11</td><td>22</td><td>21</td></tr>\n",
       "\t<tr><th scope=row>CHP-411-02-PBMC-DNA</th><td>1</td><td>6</td><td>9</td><td>25</td><td>14</td><td>25</td><td>15</td><td>0</td><td>0</td><td>48</td><td>...</td><td>0</td><td>26</td><td>15</td><td>1</td><td>0</td><td>11</td><td>4</td><td>15</td><td>60</td><td>69</td></tr>\n",
       "</tbody>\n",
       "</table>\n"
      ],
      "text/latex": [
       "A data.frame: 6 x 61\n",
       "\\begin{tabular}{r|lllllllllllllllllllll}\n",
       "  & TRBV1 & TRBV10-1 & TRBV10-2 & TRBV10-3 & TRBV11-1 & TRBV11-2 & TRBV11-3 & TRBV12-1 & TRBV12-2 & TRBV12-3 & ... & TRBV7-1 & TRBV7-2 & TRBV7-3 & TRBV7-4 & TRBV7-5 & TRBV7-6 & TRBV7-7 & TRBV7-8 & TRBV7-9 & TRBV9\\\\\n",
       "  & <int> & <int> & <int> & <int> & <int> & <int> & <int> & <int> & <int> & <int> & ... & <int> & <int> & <int> & <int> & <int> & <int> & <int> & <int> & <int> & <int>\\\\\n",
       "\\hline\n",
       "\tCHP-328-04-PBMC-DNA & 0 & 7 & 3 &  4 &  3 & 10 &  2 & 0 & 3 & 13 & ... & 0 & 14 &  0 & 0 & 0 &  4 & 2 &  8 & 21 & 11\\\\\n",
       "\tCHP-328-05-PBMC-DNA & 0 & 1 & 2 &  1 &  0 &  3 &  2 & 0 & 0 &  9 & ... & 0 &  3 &  3 & 1 & 0 &  1 & 0 &  2 &  2 &  6\\\\\n",
       "\tCHP-351-03-PBMC-DNA & 1 & 4 & 3 & 24 &  8 & 19 &  4 & 1 & 1 & 29 & ... & 0 & 23 & 21 & 1 & 0 & 18 & 9 & 13 & 52 & 73\\\\\n",
       "\tCHP-369-01-PBMC-DNA & 0 & 6 & 6 & 18 &  6 & 17 &  2 & 0 & 0 & 21 & ... & 1 &  8 & 10 & 0 & 0 &  7 & 2 &  2 & 22 & 26\\\\\n",
       "\tCHP-377-02-PBMC-DNA & 0 & 5 & 1 &  5 &  3 & 12 &  3 & 0 & 0 & 30 & ... & 0 &  8 &  4 & 0 & 0 &  3 & 0 & 11 & 22 & 21\\\\\n",
       "\tCHP-411-02-PBMC-DNA & 1 & 6 & 9 & 25 & 14 & 25 & 15 & 0 & 0 & 48 & ... & 0 & 26 & 15 & 1 & 0 & 11 & 4 & 15 & 60 & 69\\\\\n",
       "\\end{tabular}\n"
      ],
      "text/markdown": [
       "\n",
       "A data.frame: 6 x 61\n",
       "\n",
       "| <!--/--> | TRBV1 &lt;int&gt; | TRBV10-1 &lt;int&gt; | TRBV10-2 &lt;int&gt; | TRBV10-3 &lt;int&gt; | TRBV11-1 &lt;int&gt; | TRBV11-2 &lt;int&gt; | TRBV11-3 &lt;int&gt; | TRBV12-1 &lt;int&gt; | TRBV12-2 &lt;int&gt; | TRBV12-3 &lt;int&gt; | ... ... | TRBV7-1 &lt;int&gt; | TRBV7-2 &lt;int&gt; | TRBV7-3 &lt;int&gt; | TRBV7-4 &lt;int&gt; | TRBV7-5 &lt;int&gt; | TRBV7-6 &lt;int&gt; | TRBV7-7 &lt;int&gt; | TRBV7-8 &lt;int&gt; | TRBV7-9 &lt;int&gt; | TRBV9 &lt;int&gt; |\n",
       "|---|---|---|---|---|---|---|---|---|---|---|---|---|---|---|---|---|---|---|---|---|---|\n",
       "| CHP-328-04-PBMC-DNA | 0 | 7 | 3 |  4 |  3 | 10 |  2 | 0 | 3 | 13 | ... | 0 | 14 |  0 | 0 | 0 |  4 | 2 |  8 | 21 | 11 |\n",
       "| CHP-328-05-PBMC-DNA | 0 | 1 | 2 |  1 |  0 |  3 |  2 | 0 | 0 |  9 | ... | 0 |  3 |  3 | 1 | 0 |  1 | 0 |  2 |  2 |  6 |\n",
       "| CHP-351-03-PBMC-DNA | 1 | 4 | 3 | 24 |  8 | 19 |  4 | 1 | 1 | 29 | ... | 0 | 23 | 21 | 1 | 0 | 18 | 9 | 13 | 52 | 73 |\n",
       "| CHP-369-01-PBMC-DNA | 0 | 6 | 6 | 18 |  6 | 17 |  2 | 0 | 0 | 21 | ... | 1 |  8 | 10 | 0 | 0 |  7 | 2 |  2 | 22 | 26 |\n",
       "| CHP-377-02-PBMC-DNA | 0 | 5 | 1 |  5 |  3 | 12 |  3 | 0 | 0 | 30 | ... | 0 |  8 |  4 | 0 | 0 |  3 | 0 | 11 | 22 | 21 |\n",
       "| CHP-411-02-PBMC-DNA | 1 | 6 | 9 | 25 | 14 | 25 | 15 | 0 | 0 | 48 | ... | 0 | 26 | 15 | 1 | 0 | 11 | 4 | 15 | 60 | 69 |\n",
       "\n"
      ],
      "text/plain": [
       "                    TRBV1 TRBV10-1 TRBV10-2 TRBV10-3 TRBV11-1 TRBV11-2 TRBV11-3\n",
       "CHP-328-04-PBMC-DNA 0     7        3         4        3       10        2      \n",
       "CHP-328-05-PBMC-DNA 0     1        2         1        0        3        2      \n",
       "CHP-351-03-PBMC-DNA 1     4        3        24        8       19        4      \n",
       "CHP-369-01-PBMC-DNA 0     6        6        18        6       17        2      \n",
       "CHP-377-02-PBMC-DNA 0     5        1         5        3       12        3      \n",
       "CHP-411-02-PBMC-DNA 1     6        9        25       14       25       15      \n",
       "                    TRBV12-1 TRBV12-2 TRBV12-3 ... TRBV7-1 TRBV7-2 TRBV7-3\n",
       "CHP-328-04-PBMC-DNA 0        3        13       ... 0       14       0     \n",
       "CHP-328-05-PBMC-DNA 0        0         9       ... 0        3       3     \n",
       "CHP-351-03-PBMC-DNA 1        1        29       ... 0       23      21     \n",
       "CHP-369-01-PBMC-DNA 0        0        21       ... 1        8      10     \n",
       "CHP-377-02-PBMC-DNA 0        0        30       ... 0        8       4     \n",
       "CHP-411-02-PBMC-DNA 0        0        48       ... 0       26      15     \n",
       "                    TRBV7-4 TRBV7-5 TRBV7-6 TRBV7-7 TRBV7-8 TRBV7-9 TRBV9\n",
       "CHP-328-04-PBMC-DNA 0       0        4      2        8      21      11   \n",
       "CHP-328-05-PBMC-DNA 1       0        1      0        2       2       6   \n",
       "CHP-351-03-PBMC-DNA 1       0       18      9       13      52      73   \n",
       "CHP-369-01-PBMC-DNA 0       0        7      2        2      22      26   \n",
       "CHP-377-02-PBMC-DNA 0       0        3      0       11      22      21   \n",
       "CHP-411-02-PBMC-DNA 1       0       11      4       15      60      69   "
      ]
     },
     "metadata": {},
     "output_type": "display_data"
    }
   ],
   "source": [
    "head(vgene_mat)"
   ]
  },
  {
   "cell_type": "code",
   "execution_count": 73,
   "metadata": {
    "vscode": {
     "languageId": "r"
    }
   },
   "outputs": [],
   "source": [
    "readr::write_rds(vgene_mat, paste0(datapath, \"capTCRseq/int_pbmc_vgene_matrix.rds\"))"
   ]
  },
  {
   "cell_type": "code",
   "execution_count": 74,
   "metadata": {
    "vscode": {
     "languageId": "r"
    }
   },
   "outputs": [],
   "source": [
    "# remove lowfreq_v, hf = high freq\n",
    "vgene_mat_hf <- vgene_mat[, !colnames(vgene_mat) %in% lowfreq_v ]"
   ]
  },
  {
   "cell_type": "code",
   "execution_count": 75,
   "metadata": {
    "vscode": {
     "languageId": "r"
    }
   },
   "outputs": [
    {
     "data": {
      "text/html": [
       "<style>\n",
       ".list-inline {list-style: none; margin:0; padding: 0}\n",
       ".list-inline>li {display: inline-block}\n",
       ".list-inline>li:not(:last-child)::after {content: \"\\00b7\"; padding: 0 .5ex}\n",
       "</style>\n",
       "<ol class=list-inline><li>221</li><li>49</li></ol>\n"
      ],
      "text/latex": [
       "\\begin{enumerate*}\n",
       "\\item 221\n",
       "\\item 49\n",
       "\\end{enumerate*}\n"
      ],
      "text/markdown": [
       "1. 221\n",
       "2. 49\n",
       "\n",
       "\n"
      ],
      "text/plain": [
       "[1] 221  49"
      ]
     },
     "metadata": {},
     "output_type": "display_data"
    }
   ],
   "source": [
    "dim(vgene_mat_hf)"
   ]
  },
  {
   "cell_type": "code",
   "execution_count": 76,
   "metadata": {
    "vscode": {
     "languageId": "r"
    }
   },
   "outputs": [
    {
     "data": {
      "text/html": [
       "<style>\n",
       ".list-inline {list-style: none; margin:0; padding: 0}\n",
       ".list-inline>li {display: inline-block}\n",
       ".list-inline>li:not(:last-child)::after {content: \"\\00b7\"; padding: 0 .5ex}\n",
       "</style>\n",
       "<ol class=list-inline><li>221</li><li>61</li></ol>\n"
      ],
      "text/latex": [
       "\\begin{enumerate*}\n",
       "\\item 221\n",
       "\\item 61\n",
       "\\end{enumerate*}\n"
      ],
      "text/markdown": [
       "1. 221\n",
       "2. 61\n",
       "\n",
       "\n"
      ],
      "text/plain": [
       "[1] 221  61"
      ]
     },
     "metadata": {},
     "output_type": "display_data"
    }
   ],
   "source": [
    "dim(vgene_mat)"
   ]
  },
  {
   "cell_type": "code",
   "execution_count": 77,
   "metadata": {
    "vscode": {
     "languageId": "r"
    }
   },
   "outputs": [],
   "source": [
    "cormat <- cor(vgene_mat_hf)"
   ]
  },
  {
   "cell_type": "code",
   "execution_count": 78,
   "metadata": {
    "vscode": {
     "languageId": "r"
    }
   },
   "outputs": [],
   "source": [
    "#vgene_mat_hf[,c(\"TRBV10-3\", \"TRBV7-9\", \"TRBV13\")]"
   ]
  },
  {
   "cell_type": "code",
   "execution_count": 79,
   "metadata": {
    "vscode": {
     "languageId": "r"
    }
   },
   "outputs": [
    {
     "data": {
      "text/plain": [
       "   Min. 1st Qu.  Median    Mean 3rd Qu.    Max. \n",
       "0.08345 0.62324 0.72667 0.69808 0.79891 1.00000 "
      ]
     },
     "metadata": {},
     "output_type": "display_data"
    }
   ],
   "source": [
    "summary(as.vector(cormat) )\n",
    "\n",
    "# generally high correlation"
   ]
  },
  {
   "attachments": {},
   "cell_type": "markdown",
   "metadata": {},
   "source": [
    "PCA"
   ]
  },
  {
   "cell_type": "code",
   "execution_count": 80,
   "metadata": {
    "vscode": {
     "languageId": "r"
    }
   },
   "outputs": [],
   "source": [
    "mypca <- prcomp(vgene_mat_hf, scale = TRUE)"
   ]
  },
  {
   "cell_type": "code",
   "execution_count": 81,
   "metadata": {
    "vscode": {
     "languageId": "r"
    }
   },
   "outputs": [],
   "source": [
    "out <- mypca$x\n",
    "mydf <- data.frame(out)"
   ]
  },
  {
   "cell_type": "code",
   "execution_count": 82,
   "metadata": {
    "vscode": {
     "languageId": "r"
    }
   },
   "outputs": [
    {
     "data": {
      "text/html": [
       "<table class=\"dataframe\">\n",
       "<caption>A matrix: 6 x 49 of type dbl</caption>\n",
       "<thead>\n",
       "\t<tr><th></th><th scope=col>PC1</th><th scope=col>PC2</th><th scope=col>PC3</th><th scope=col>PC4</th><th scope=col>PC5</th><th scope=col>PC6</th><th scope=col>PC7</th><th scope=col>PC8</th><th scope=col>PC9</th><th scope=col>PC10</th><th scope=col>...</th><th scope=col>PC40</th><th scope=col>PC41</th><th scope=col>PC42</th><th scope=col>PC43</th><th scope=col>PC44</th><th scope=col>PC45</th><th scope=col>PC46</th><th scope=col>PC47</th><th scope=col>PC48</th><th scope=col>PC49</th></tr>\n",
       "</thead>\n",
       "<tbody>\n",
       "\t<tr><th scope=row>CHP-328-04-PBMC-DNA</th><td> -5.006471</td><td> 0.5650993</td><td> 0.03742088</td><td>-2.538840</td><td>-0.06424418</td><td>-0.215909413</td><td> 0.001992262</td><td> 0.84667610</td><td> 0.7775266</td><td>-1.1991008</td><td>...</td><td> 0.21680152</td><td> 0.009628257</td><td> 0.22086229</td><td> 0.246431242</td><td>-0.07195632</td><td>-0.031484889</td><td>-0.250326483</td><td> 0.34381538</td><td>-0.08299217</td><td>-0.01813168</td></tr>\n",
       "\t<tr><th scope=row>CHP-328-05-PBMC-DNA</th><td>  1.460002</td><td>-0.1877939</td><td>-0.09194317</td><td>-1.304826</td><td>-0.46009580</td><td> 0.426764524</td><td> 0.110065231</td><td> 0.23918078</td><td>-1.0062285</td><td> 0.3974634</td><td>...</td><td> 0.03775845</td><td>-0.503961614</td><td> 0.13788616</td><td>-0.127186095</td><td>-0.12559191</td><td>-0.007272142</td><td>-0.090793078</td><td> 0.01991409</td><td> 0.21516869</td><td>-0.07922203</td></tr>\n",
       "\t<tr><th scope=row>CHP-351-03-PBMC-DNA</th><td>-17.989549</td><td> 2.8557326</td><td> 0.31020899</td><td> 1.380491</td><td> 2.20877826</td><td> 3.968147946</td><td> 3.144816198</td><td> 5.34560123</td><td> 0.3622490</td><td>-2.1909169</td><td>...</td><td>-0.23501443</td><td> 0.313240907</td><td> 0.27547734</td><td> 0.291348363</td><td> 0.22911570</td><td> 0.139931262</td><td> 0.276120998</td><td> 0.01403591</td><td>-0.02564226</td><td>-0.01330318</td></tr>\n",
       "\t<tr><th scope=row>CHP-369-01-PBMC-DNA</th><td> -9.268181</td><td>-2.0232455</td><td> 1.92218571</td><td>-1.915525</td><td>-0.29847252</td><td>-0.009104692</td><td> 0.634428711</td><td> 0.06045066</td><td> 2.8910747</td><td>-0.9757597</td><td>...</td><td> 0.34419968</td><td>-0.409504425</td><td>-0.09937998</td><td> 0.000915571</td><td> 0.10166432</td><td> 0.059653506</td><td>-0.008308396</td><td>-0.30944222</td><td>-0.12912352</td><td> 0.10777990</td></tr>\n",
       "\t<tr><th scope=row>CHP-377-02-PBMC-DNA</th><td> -5.925406</td><td> 0.9281065</td><td> 1.30686447</td><td>-1.072786</td><td> 1.35996077</td><td> 0.272756431</td><td>-0.070248908</td><td>-1.33602037</td><td>-2.1383691</td><td> 0.3717638</td><td>...</td><td>-0.46564285</td><td>-0.201698922</td><td>-0.23750959</td><td>-0.131325843</td><td>-0.10335981</td><td>-0.169157565</td><td> 0.046999368</td><td> 0.01305572</td><td>-0.12013920</td><td>-0.16745050</td></tr>\n",
       "\t<tr><th scope=row>CHP-411-02-PBMC-DNA</th><td>-20.968403</td><td> 1.1417967</td><td>-1.47606261</td><td>-1.791333</td><td>-1.66197205</td><td>-0.118685664</td><td> 0.746602753</td><td>-2.40421626</td><td> 3.9624707</td><td> 1.0138534</td><td>...</td><td>-0.25237739</td><td> 0.242373067</td><td> 0.05159567</td><td>-0.161071068</td><td> 0.08216847</td><td> 0.023629931</td><td>-0.100242951</td><td> 0.03507960</td><td> 0.07540083</td><td> 0.02933552</td></tr>\n",
       "</tbody>\n",
       "</table>\n"
      ],
      "text/latex": [
       "A matrix: 6 x 49 of type dbl\n",
       "\\begin{tabular}{r|lllllllllllllllllllll}\n",
       "  & PC1 & PC2 & PC3 & PC4 & PC5 & PC6 & PC7 & PC8 & PC9 & PC10 & ... & PC40 & PC41 & PC42 & PC43 & PC44 & PC45 & PC46 & PC47 & PC48 & PC49\\\\\n",
       "\\hline\n",
       "\tCHP-328-04-PBMC-DNA &  -5.006471 &  0.5650993 &  0.03742088 & -2.538840 & -0.06424418 & -0.215909413 &  0.001992262 &  0.84667610 &  0.7775266 & -1.1991008 & ... &  0.21680152 &  0.009628257 &  0.22086229 &  0.246431242 & -0.07195632 & -0.031484889 & -0.250326483 &  0.34381538 & -0.08299217 & -0.01813168\\\\\n",
       "\tCHP-328-05-PBMC-DNA &   1.460002 & -0.1877939 & -0.09194317 & -1.304826 & -0.46009580 &  0.426764524 &  0.110065231 &  0.23918078 & -1.0062285 &  0.3974634 & ... &  0.03775845 & -0.503961614 &  0.13788616 & -0.127186095 & -0.12559191 & -0.007272142 & -0.090793078 &  0.01991409 &  0.21516869 & -0.07922203\\\\\n",
       "\tCHP-351-03-PBMC-DNA & -17.989549 &  2.8557326 &  0.31020899 &  1.380491 &  2.20877826 &  3.968147946 &  3.144816198 &  5.34560123 &  0.3622490 & -2.1909169 & ... & -0.23501443 &  0.313240907 &  0.27547734 &  0.291348363 &  0.22911570 &  0.139931262 &  0.276120998 &  0.01403591 & -0.02564226 & -0.01330318\\\\\n",
       "\tCHP-369-01-PBMC-DNA &  -9.268181 & -2.0232455 &  1.92218571 & -1.915525 & -0.29847252 & -0.009104692 &  0.634428711 &  0.06045066 &  2.8910747 & -0.9757597 & ... &  0.34419968 & -0.409504425 & -0.09937998 &  0.000915571 &  0.10166432 &  0.059653506 & -0.008308396 & -0.30944222 & -0.12912352 &  0.10777990\\\\\n",
       "\tCHP-377-02-PBMC-DNA &  -5.925406 &  0.9281065 &  1.30686447 & -1.072786 &  1.35996077 &  0.272756431 & -0.070248908 & -1.33602037 & -2.1383691 &  0.3717638 & ... & -0.46564285 & -0.201698922 & -0.23750959 & -0.131325843 & -0.10335981 & -0.169157565 &  0.046999368 &  0.01305572 & -0.12013920 & -0.16745050\\\\\n",
       "\tCHP-411-02-PBMC-DNA & -20.968403 &  1.1417967 & -1.47606261 & -1.791333 & -1.66197205 & -0.118685664 &  0.746602753 & -2.40421626 &  3.9624707 &  1.0138534 & ... & -0.25237739 &  0.242373067 &  0.05159567 & -0.161071068 &  0.08216847 &  0.023629931 & -0.100242951 &  0.03507960 &  0.07540083 &  0.02933552\\\\\n",
       "\\end{tabular}\n"
      ],
      "text/markdown": [
       "\n",
       "A matrix: 6 x 49 of type dbl\n",
       "\n",
       "| <!--/--> | PC1 | PC2 | PC3 | PC4 | PC5 | PC6 | PC7 | PC8 | PC9 | PC10 | ... | PC40 | PC41 | PC42 | PC43 | PC44 | PC45 | PC46 | PC47 | PC48 | PC49 |\n",
       "|---|---|---|---|---|---|---|---|---|---|---|---|---|---|---|---|---|---|---|---|---|---|\n",
       "| CHP-328-04-PBMC-DNA |  -5.006471 |  0.5650993 |  0.03742088 | -2.538840 | -0.06424418 | -0.215909413 |  0.001992262 |  0.84667610 |  0.7775266 | -1.1991008 | ... |  0.21680152 |  0.009628257 |  0.22086229 |  0.246431242 | -0.07195632 | -0.031484889 | -0.250326483 |  0.34381538 | -0.08299217 | -0.01813168 |\n",
       "| CHP-328-05-PBMC-DNA |   1.460002 | -0.1877939 | -0.09194317 | -1.304826 | -0.46009580 |  0.426764524 |  0.110065231 |  0.23918078 | -1.0062285 |  0.3974634 | ... |  0.03775845 | -0.503961614 |  0.13788616 | -0.127186095 | -0.12559191 | -0.007272142 | -0.090793078 |  0.01991409 |  0.21516869 | -0.07922203 |\n",
       "| CHP-351-03-PBMC-DNA | -17.989549 |  2.8557326 |  0.31020899 |  1.380491 |  2.20877826 |  3.968147946 |  3.144816198 |  5.34560123 |  0.3622490 | -2.1909169 | ... | -0.23501443 |  0.313240907 |  0.27547734 |  0.291348363 |  0.22911570 |  0.139931262 |  0.276120998 |  0.01403591 | -0.02564226 | -0.01330318 |\n",
       "| CHP-369-01-PBMC-DNA |  -9.268181 | -2.0232455 |  1.92218571 | -1.915525 | -0.29847252 | -0.009104692 |  0.634428711 |  0.06045066 |  2.8910747 | -0.9757597 | ... |  0.34419968 | -0.409504425 | -0.09937998 |  0.000915571 |  0.10166432 |  0.059653506 | -0.008308396 | -0.30944222 | -0.12912352 |  0.10777990 |\n",
       "| CHP-377-02-PBMC-DNA |  -5.925406 |  0.9281065 |  1.30686447 | -1.072786 |  1.35996077 |  0.272756431 | -0.070248908 | -1.33602037 | -2.1383691 |  0.3717638 | ... | -0.46564285 | -0.201698922 | -0.23750959 | -0.131325843 | -0.10335981 | -0.169157565 |  0.046999368 |  0.01305572 | -0.12013920 | -0.16745050 |\n",
       "| CHP-411-02-PBMC-DNA | -20.968403 |  1.1417967 | -1.47606261 | -1.791333 | -1.66197205 | -0.118685664 |  0.746602753 | -2.40421626 |  3.9624707 |  1.0138534 | ... | -0.25237739 |  0.242373067 |  0.05159567 | -0.161071068 |  0.08216847 |  0.023629931 | -0.100242951 |  0.03507960 |  0.07540083 |  0.02933552 |\n",
       "\n"
      ],
      "text/plain": [
       "                    PC1        PC2        PC3         PC4       PC5        \n",
       "CHP-328-04-PBMC-DNA  -5.006471  0.5650993  0.03742088 -2.538840 -0.06424418\n",
       "CHP-328-05-PBMC-DNA   1.460002 -0.1877939 -0.09194317 -1.304826 -0.46009580\n",
       "CHP-351-03-PBMC-DNA -17.989549  2.8557326  0.31020899  1.380491  2.20877826\n",
       "CHP-369-01-PBMC-DNA  -9.268181 -2.0232455  1.92218571 -1.915525 -0.29847252\n",
       "CHP-377-02-PBMC-DNA  -5.925406  0.9281065  1.30686447 -1.072786  1.35996077\n",
       "CHP-411-02-PBMC-DNA -20.968403  1.1417967 -1.47606261 -1.791333 -1.66197205\n",
       "                    PC6          PC7          PC8         PC9        PC10      \n",
       "CHP-328-04-PBMC-DNA -0.215909413  0.001992262  0.84667610  0.7775266 -1.1991008\n",
       "CHP-328-05-PBMC-DNA  0.426764524  0.110065231  0.23918078 -1.0062285  0.3974634\n",
       "CHP-351-03-PBMC-DNA  3.968147946  3.144816198  5.34560123  0.3622490 -2.1909169\n",
       "CHP-369-01-PBMC-DNA -0.009104692  0.634428711  0.06045066  2.8910747 -0.9757597\n",
       "CHP-377-02-PBMC-DNA  0.272756431 -0.070248908 -1.33602037 -2.1383691  0.3717638\n",
       "CHP-411-02-PBMC-DNA -0.118685664  0.746602753 -2.40421626  3.9624707  1.0138534\n",
       "                    ... PC40        PC41         PC42        PC43        \n",
       "CHP-328-04-PBMC-DNA ...  0.21680152  0.009628257  0.22086229  0.246431242\n",
       "CHP-328-05-PBMC-DNA ...  0.03775845 -0.503961614  0.13788616 -0.127186095\n",
       "CHP-351-03-PBMC-DNA ... -0.23501443  0.313240907  0.27547734  0.291348363\n",
       "CHP-369-01-PBMC-DNA ...  0.34419968 -0.409504425 -0.09937998  0.000915571\n",
       "CHP-377-02-PBMC-DNA ... -0.46564285 -0.201698922 -0.23750959 -0.131325843\n",
       "CHP-411-02-PBMC-DNA ... -0.25237739  0.242373067  0.05159567 -0.161071068\n",
       "                    PC44        PC45         PC46         PC47       \n",
       "CHP-328-04-PBMC-DNA -0.07195632 -0.031484889 -0.250326483  0.34381538\n",
       "CHP-328-05-PBMC-DNA -0.12559191 -0.007272142 -0.090793078  0.01991409\n",
       "CHP-351-03-PBMC-DNA  0.22911570  0.139931262  0.276120998  0.01403591\n",
       "CHP-369-01-PBMC-DNA  0.10166432  0.059653506 -0.008308396 -0.30944222\n",
       "CHP-377-02-PBMC-DNA -0.10335981 -0.169157565  0.046999368  0.01305572\n",
       "CHP-411-02-PBMC-DNA  0.08216847  0.023629931 -0.100242951  0.03507960\n",
       "                    PC48        PC49       \n",
       "CHP-328-04-PBMC-DNA -0.08299217 -0.01813168\n",
       "CHP-328-05-PBMC-DNA  0.21516869 -0.07922203\n",
       "CHP-351-03-PBMC-DNA -0.02564226 -0.01330318\n",
       "CHP-369-01-PBMC-DNA -0.12912352  0.10777990\n",
       "CHP-377-02-PBMC-DNA -0.12013920 -0.16745050\n",
       "CHP-411-02-PBMC-DNA  0.07540083  0.02933552"
      ]
     },
     "metadata": {},
     "output_type": "display_data"
    }
   ],
   "source": [
    "head(out)"
   ]
  },
  {
   "cell_type": "code",
   "execution_count": 83,
   "metadata": {
    "vscode": {
     "languageId": "r"
    }
   },
   "outputs": [],
   "source": [
    "p0 <- fviz_pca_ind(mypca,geom = \"point\", pointshape = 16, pointsize = 2, alpha = 1,\n",
    "                    ellipse.alpha = 0, invisible=\"quali\", repel = TRUE,\n",
    "                       title = \"PCA of frequent V genes (n = 49)\")"
   ]
  },
  {
   "cell_type": "code",
   "execution_count": 84,
   "metadata": {
    "vscode": {
     "languageId": "r"
    }
   },
   "outputs": [
    {
     "data": {
      "image/png": "[encoded data removed]",
      "text/plain": [
       "plot without title"
      ]
     },
     "metadata": {
      "image/png": {
       "height": 420,
       "width": 420
      }
     },
     "output_type": "display_data"
    }
   ],
   "source": [
    "p0"
   ]
  },
  {
   "cell_type": "code",
   "execution_count": 85,
   "metadata": {
    "vscode": {
     "languageId": "r"
    }
   },
   "outputs": [],
   "source": [
    "readr::write_rds(mydf, paste0(datapath, \"/capTCRseq/INT_PBMC_V_PCA_postqc.rds\"))"
   ]
  },
  {
   "cell_type": "markdown",
   "metadata": {
    "vscode": {
     "languageId": "r"
    }
   },
   "source": [
    "# cfDNA"
   ]
  },
  {
   "cell_type": "code",
   "execution_count": 13,
   "metadata": {
    "vscode": {
     "languageId": "r"
    }
   },
   "outputs": [],
   "source": [
    "meta_div <- readr::read_rds(paste0(datapath, \"capTCRseq/meta_div_goodsamples.rds\"))"
   ]
  },
  {
   "cell_type": "code",
   "execution_count": 14,
   "metadata": {
    "vscode": {
     "languageId": "r"
    }
   },
   "outputs": [],
   "source": [
    "meta_div <- meta_div[ !is.na(meta_div$TRB), ]"
   ]
  },
  {
   "cell_type": "code",
   "execution_count": 15,
   "metadata": {
    "vscode": {
     "languageId": "r"
    }
   },
   "outputs": [],
   "source": [
    "meta_div <- meta_div[ meta_div$sampletype == \"cfDNA\",]"
   ]
  },
  {
   "cell_type": "code",
   "execution_count": 16,
   "metadata": {
    "vscode": {
     "languageId": "r"
    }
   },
   "outputs": [
    {
     "data": {
      "text/html": [
       "<table class=\"dataframe\">\n",
       "<caption>A data.frame: 6 x 66</caption>\n",
       "<thead>\n",
       "\t<tr><th></th><th scope=col>sample_id</th><th scope=col>Patient</th><th scope=col>cycle</th><th scope=col>FOLD</th><th scope=col>ATC</th><th scope=col>Age</th><th scope=col>Disease_type</th><th scope=col>TE_fold</th><th scope=col>CD3</th><th scope=col>EM</th><th scope=col>...</th><th scope=col>estimated_Shannon</th><th scope=col>SE_Shannon</th><th scope=col>observed_Simpson</th><th scope=col>estimated_Simpson</th><th scope=col>SE_Simpson</th><th scope=col>basename</th><th scope=col>file</th><th scope=col>sampletype</th><th scope=col>Group</th><th scope=col>log10shann</th></tr>\n",
       "\t<tr><th></th><th scope=col>&lt;chr&gt;</th><th scope=col>&lt;chr&gt;</th><th scope=col>&lt;chr&gt;</th><th scope=col>&lt;dbl&gt;</th><th scope=col>&lt;dbl&gt;</th><th scope=col>&lt;dbl&gt;</th><th scope=col>&lt;chr&gt;</th><th scope=col>&lt;dbl&gt;</th><th scope=col>&lt;int&gt;</th><th scope=col>&lt;int&gt;</th><th scope=col>...</th><th scope=col>&lt;dbl&gt;</th><th scope=col>&lt;dbl&gt;</th><th scope=col>&lt;dbl&gt;</th><th scope=col>&lt;dbl&gt;</th><th scope=col>&lt;dbl&gt;</th><th scope=col>&lt;chr&gt;</th><th scope=col>&lt;chr&gt;</th><th scope=col>&lt;chr&gt;</th><th scope=col>&lt;chr&gt;</th><th scope=col>&lt;dbl&gt;</th></tr>\n",
       "</thead>\n",
       "<tbody>\n",
       "\t<tr><th scope=row>1</th><td>CHP_323_03</td><td>CHP_323</td><td>X03</td><td>0</td><td>786.24</td><td> 1</td><td>HR ALL</td><td>0</td><td>0</td><td>NA</td><td>...</td><td>43.456</td><td>0.145</td><td>31.052</td><td>31.063</td><td>0.159</td><td>CHP_323-03_cfDNA</td><td>batch3a9_cfDNA_10Jul2020/mixcr/clones/CLONES_TRBCHP_323-03_cfDNA.txt          </td><td>cfDNA</td><td>CHP</td><td>1.6377198</td></tr>\n",
       "\t<tr><th scope=row>2</th><td>CHP_323_05</td><td>CHP_323</td><td>X05</td><td>0</td><td>979.50</td><td> 1</td><td>HR ALL</td><td>0</td><td>0</td><td>NA</td><td>...</td><td> 8.686</td><td>0.093</td><td> 6.804</td><td> 6.812</td><td>0.134</td><td>CHP_323-05_cfDNA</td><td>remaining_batch_1_cfDNA_8April2021/mixcr/clones/CLONES_TRBCHP_323-05_cfDNA.txt</td><td>cfDNA</td><td>CHP</td><td>0.9380692</td></tr>\n",
       "\t<tr><th scope=row>3</th><td>CHP_324_04</td><td>CHP_324</td><td>X04</td><td>0</td><td>  0.00</td><td>12</td><td>T-ALL </td><td>0</td><td>0</td><td>NA</td><td>...</td><td> 1.000</td><td>0.000</td><td> 1.000</td><td> 1.000</td><td>0.000</td><td>CHP_324-04_cfDNA</td><td>batch5_cfDNA_25Jun2020/mixcr/clones/CLONES_TRBCHP_324-04_cfDNA.txt            </td><td>cfDNA</td><td>CHP</td><td>0.0000000</td></tr>\n",
       "\t<tr><th scope=row>4</th><td>CHP_324_05</td><td>CHP_324</td><td>X05</td><td>0</td><td>  0.00</td><td>12</td><td>T-ALL </td><td>0</td><td>0</td><td>NA</td><td>...</td><td> 1.775</td><td>0.019</td><td> 1.627</td><td> 1.627</td><td>0.028</td><td>CHP_324-05_cfDNA</td><td>batch10_cfDNA_13Jul2020/mixcr/clones/CLONES_TRBCHP_324-05_cfDNA.txt           </td><td>cfDNA</td><td>CHP</td><td>0.2491984</td></tr>\n",
       "\t<tr><th scope=row>5</th><td>CHP_326_05</td><td>CHP_326</td><td>X05</td><td>0</td><td>972.90</td><td> 4</td><td>SR ALL</td><td>0</td><td>0</td><td>NA</td><td>...</td><td>16.475</td><td>0.087</td><td>14.065</td><td>14.075</td><td>0.099</td><td>CHP_326-05_cfDNA</td><td>batch10_cfDNA_13Jul2020/mixcr/clones/CLONES_TRBCHP_326-05_cfDNA.txt           </td><td>cfDNA</td><td>CHP</td><td>1.2165354</td></tr>\n",
       "\t<tr><th scope=row>6</th><td>CHP_328_05</td><td>CHP_328</td><td>X05</td><td>0</td><td> 91.16</td><td> 7</td><td>SR ALL</td><td>0</td><td>0</td><td>NA</td><td>...</td><td> 3.066</td><td>0.028</td><td> 2.691</td><td> 2.692</td><td>0.024</td><td>CHP_328-05_cfDNA</td><td>batch10_cfDNA_13Jul2020/mixcr/clones/CLONES_TRBCHP_328-05_cfDNA.txt           </td><td>cfDNA</td><td>CHP</td><td>0.4864305</td></tr>\n",
       "</tbody>\n",
       "</table>\n"
      ],
      "text/latex": [
       "A data.frame: 6 x 66\n",
       "\\begin{tabular}{r|lllllllllllllllllllll}\n",
       "  & sample\\_id & Patient & cycle & FOLD & ATC & Age & Disease\\_type & TE\\_fold & CD3 & EM & ... & estimated\\_Shannon & SE\\_Shannon & observed\\_Simpson & estimated\\_Simpson & SE\\_Simpson & basename & file & sampletype & Group & log10shann\\\\\n",
       "  & <chr> & <chr> & <chr> & <dbl> & <dbl> & <dbl> & <chr> & <dbl> & <int> & <int> & ... & <dbl> & <dbl> & <dbl> & <dbl> & <dbl> & <chr> & <chr> & <chr> & <chr> & <dbl>\\\\\n",
       "\\hline\n",
       "\t1 & CHP\\_323\\_03 & CHP\\_323 & X03 & 0 & 786.24 &  1 & HR ALL & 0 & 0 & NA & ... & 43.456 & 0.145 & 31.052 & 31.063 & 0.159 & CHP\\_323-03\\_cfDNA & batch3a9\\_cfDNA\\_10Jul2020/mixcr/clones/CLONES\\_TRBCHP\\_323-03\\_cfDNA.txt           & cfDNA & CHP & 1.6377198\\\\\n",
       "\t2 & CHP\\_323\\_05 & CHP\\_323 & X05 & 0 & 979.50 &  1 & HR ALL & 0 & 0 & NA & ... &  8.686 & 0.093 &  6.804 &  6.812 & 0.134 & CHP\\_323-05\\_cfDNA & remaining\\_batch\\_1\\_cfDNA\\_8April2021/mixcr/clones/CLONES\\_TRBCHP\\_323-05\\_cfDNA.txt & cfDNA & CHP & 0.9380692\\\\\n",
       "\t3 & CHP\\_324\\_04 & CHP\\_324 & X04 & 0 &   0.00 & 12 & T-ALL  & 0 & 0 & NA & ... &  1.000 & 0.000 &  1.000 &  1.000 & 0.000 & CHP\\_324-04\\_cfDNA & batch5\\_cfDNA\\_25Jun2020/mixcr/clones/CLONES\\_TRBCHP\\_324-04\\_cfDNA.txt             & cfDNA & CHP & 0.0000000\\\\\n",
       "\t4 & CHP\\_324\\_05 & CHP\\_324 & X05 & 0 &   0.00 & 12 & T-ALL  & 0 & 0 & NA & ... &  1.775 & 0.019 &  1.627 &  1.627 & 0.028 & CHP\\_324-05\\_cfDNA & batch10\\_cfDNA\\_13Jul2020/mixcr/clones/CLONES\\_TRBCHP\\_324-05\\_cfDNA.txt            & cfDNA & CHP & 0.2491984\\\\\n",
       "\t5 & CHP\\_326\\_05 & CHP\\_326 & X05 & 0 & 972.90 &  4 & SR ALL & 0 & 0 & NA & ... & 16.475 & 0.087 & 14.065 & 14.075 & 0.099 & CHP\\_326-05\\_cfDNA & batch10\\_cfDNA\\_13Jul2020/mixcr/clones/CLONES\\_TRBCHP\\_326-05\\_cfDNA.txt            & cfDNA & CHP & 1.2165354\\\\\n",
       "\t6 & CHP\\_328\\_05 & CHP\\_328 & X05 & 0 &  91.16 &  7 & SR ALL & 0 & 0 & NA & ... &  3.066 & 0.028 &  2.691 &  2.692 & 0.024 & CHP\\_328-05\\_cfDNA & batch10\\_cfDNA\\_13Jul2020/mixcr/clones/CLONES\\_TRBCHP\\_328-05\\_cfDNA.txt            & cfDNA & CHP & 0.4864305\\\\\n",
       "\\end{tabular}\n"
      ],
      "text/markdown": [
       "\n",
       "A data.frame: 6 x 66\n",
       "\n",
       "| <!--/--> | sample_id &lt;chr&gt; | Patient &lt;chr&gt; | cycle &lt;chr&gt; | FOLD &lt;dbl&gt; | ATC &lt;dbl&gt; | Age &lt;dbl&gt; | Disease_type &lt;chr&gt; | TE_fold &lt;dbl&gt; | CD3 &lt;int&gt; | EM &lt;int&gt; | ... ... | estimated_Shannon &lt;dbl&gt; | SE_Shannon &lt;dbl&gt; | observed_Simpson &lt;dbl&gt; | estimated_Simpson &lt;dbl&gt; | SE_Simpson &lt;dbl&gt; | basename &lt;chr&gt; | file &lt;chr&gt; | sampletype &lt;chr&gt; | Group &lt;chr&gt; | log10shann &lt;dbl&gt; |\n",
       "|---|---|---|---|---|---|---|---|---|---|---|---|---|---|---|---|---|---|---|---|---|---|\n",
       "| 1 | CHP_323_03 | CHP_323 | X03 | 0 | 786.24 |  1 | HR ALL | 0 | 0 | NA | ... | 43.456 | 0.145 | 31.052 | 31.063 | 0.159 | CHP_323-03_cfDNA | batch3a9_cfDNA_10Jul2020/mixcr/clones/CLONES_TRBCHP_323-03_cfDNA.txt           | cfDNA | CHP | 1.6377198 |\n",
       "| 2 | CHP_323_05 | CHP_323 | X05 | 0 | 979.50 |  1 | HR ALL | 0 | 0 | NA | ... |  8.686 | 0.093 |  6.804 |  6.812 | 0.134 | CHP_323-05_cfDNA | remaining_batch_1_cfDNA_8April2021/mixcr/clones/CLONES_TRBCHP_323-05_cfDNA.txt | cfDNA | CHP | 0.9380692 |\n",
       "| 3 | CHP_324_04 | CHP_324 | X04 | 0 |   0.00 | 12 | T-ALL  | 0 | 0 | NA | ... |  1.000 | 0.000 |  1.000 |  1.000 | 0.000 | CHP_324-04_cfDNA | batch5_cfDNA_25Jun2020/mixcr/clones/CLONES_TRBCHP_324-04_cfDNA.txt             | cfDNA | CHP | 0.0000000 |\n",
       "| 4 | CHP_324_05 | CHP_324 | X05 | 0 |   0.00 | 12 | T-ALL  | 0 | 0 | NA | ... |  1.775 | 0.019 |  1.627 |  1.627 | 0.028 | CHP_324-05_cfDNA | batch10_cfDNA_13Jul2020/mixcr/clones/CLONES_TRBCHP_324-05_cfDNA.txt            | cfDNA | CHP | 0.2491984 |\n",
       "| 5 | CHP_326_05 | CHP_326 | X05 | 0 | 972.90 |  4 | SR ALL | 0 | 0 | NA | ... | 16.475 | 0.087 | 14.065 | 14.075 | 0.099 | CHP_326-05_cfDNA | batch10_cfDNA_13Jul2020/mixcr/clones/CLONES_TRBCHP_326-05_cfDNA.txt            | cfDNA | CHP | 1.2165354 |\n",
       "| 6 | CHP_328_05 | CHP_328 | X05 | 0 |  91.16 |  7 | SR ALL | 0 | 0 | NA | ... |  3.066 | 0.028 |  2.691 |  2.692 | 0.024 | CHP_328-05_cfDNA | batch10_cfDNA_13Jul2020/mixcr/clones/CLONES_TRBCHP_328-05_cfDNA.txt            | cfDNA | CHP | 0.4864305 |\n",
       "\n"
      ],
      "text/plain": [
       "  sample_id  Patient cycle FOLD ATC    Age Disease_type TE_fold CD3 EM ...\n",
       "1 CHP_323_03 CHP_323 X03   0    786.24  1  HR ALL       0       0   NA ...\n",
       "2 CHP_323_05 CHP_323 X05   0    979.50  1  HR ALL       0       0   NA ...\n",
       "3 CHP_324_04 CHP_324 X04   0      0.00 12  T-ALL        0       0   NA ...\n",
       "4 CHP_324_05 CHP_324 X05   0      0.00 12  T-ALL        0       0   NA ...\n",
       "5 CHP_326_05 CHP_326 X05   0    972.90  4  SR ALL       0       0   NA ...\n",
       "6 CHP_328_05 CHP_328 X05   0     91.16  7  SR ALL       0       0   NA ...\n",
       "  estimated_Shannon SE_Shannon observed_Simpson estimated_Simpson SE_Simpson\n",
       "1 43.456            0.145      31.052           31.063            0.159     \n",
       "2  8.686            0.093       6.804            6.812            0.134     \n",
       "3  1.000            0.000       1.000            1.000            0.000     \n",
       "4  1.775            0.019       1.627            1.627            0.028     \n",
       "5 16.475            0.087      14.065           14.075            0.099     \n",
       "6  3.066            0.028       2.691            2.692            0.024     \n",
       "  basename        \n",
       "1 CHP_323-03_cfDNA\n",
       "2 CHP_323-05_cfDNA\n",
       "3 CHP_324-04_cfDNA\n",
       "4 CHP_324-05_cfDNA\n",
       "5 CHP_326-05_cfDNA\n",
       "6 CHP_328-05_cfDNA\n",
       "  file                                                                          \n",
       "1 batch3a9_cfDNA_10Jul2020/mixcr/clones/CLONES_TRBCHP_323-03_cfDNA.txt          \n",
       "2 remaining_batch_1_cfDNA_8April2021/mixcr/clones/CLONES_TRBCHP_323-05_cfDNA.txt\n",
       "3 batch5_cfDNA_25Jun2020/mixcr/clones/CLONES_TRBCHP_324-04_cfDNA.txt            \n",
       "4 batch10_cfDNA_13Jul2020/mixcr/clones/CLONES_TRBCHP_324-05_cfDNA.txt           \n",
       "5 batch10_cfDNA_13Jul2020/mixcr/clones/CLONES_TRBCHP_326-05_cfDNA.txt           \n",
       "6 batch10_cfDNA_13Jul2020/mixcr/clones/CLONES_TRBCHP_328-05_cfDNA.txt           \n",
       "  sampletype Group log10shann\n",
       "1 cfDNA      CHP   1.6377198 \n",
       "2 cfDNA      CHP   0.9380692 \n",
       "3 cfDNA      CHP   0.0000000 \n",
       "4 cfDNA      CHP   0.2491984 \n",
       "5 cfDNA      CHP   1.2165354 \n",
       "6 cfDNA      CHP   0.4864305 "
      ]
     },
     "metadata": {},
     "output_type": "display_data"
    }
   ],
   "source": [
    "head(meta_div)"
   ]
  },
  {
   "cell_type": "code",
   "execution_count": 17,
   "metadata": {
    "vscode": {
     "languageId": "r"
    }
   },
   "outputs": [],
   "source": [
    "flelist <- file.path(paste0( h4hpath, \"/NextSeq/\", meta_div$file) )"
   ]
  },
  {
   "cell_type": "code",
   "execution_count": 18,
   "metadata": {
    "vscode": {
     "languageId": "r"
    }
   },
   "outputs": [
    {
     "data": {
      "text/html": [
       "<style>\n",
       ".list-inline {list-style: none; margin:0; padding: 0}\n",
       ".list-inline>li {display: inline-block}\n",
       ".list-inline>li:not(:last-child)::after {content: \"\\00b7\"; padding: 0 .5ex}\n",
       "</style>\n",
       "<ol class=list-inline><li>'/Users/anabbi/Desktop/H4H/INTERCEPT//NextSeq/batch3a9_cfDNA_10Jul2020/mixcr/clones/CLONES_TRBCHP_323-03_cfDNA.txt'</li><li>'/Users/anabbi/Desktop/H4H/INTERCEPT//NextSeq/remaining_batch_1_cfDNA_8April2021/mixcr/clones/CLONES_TRBCHP_323-05_cfDNA.txt'</li><li>'/Users/anabbi/Desktop/H4H/INTERCEPT//NextSeq/batch5_cfDNA_25Jun2020/mixcr/clones/CLONES_TRBCHP_324-04_cfDNA.txt'</li><li>'/Users/anabbi/Desktop/H4H/INTERCEPT//NextSeq/batch10_cfDNA_13Jul2020/mixcr/clones/CLONES_TRBCHP_324-05_cfDNA.txt'</li><li>'/Users/anabbi/Desktop/H4H/INTERCEPT//NextSeq/batch10_cfDNA_13Jul2020/mixcr/clones/CLONES_TRBCHP_326-05_cfDNA.txt'</li><li>'/Users/anabbi/Desktop/H4H/INTERCEPT//NextSeq/batch10_cfDNA_13Jul2020/mixcr/clones/CLONES_TRBCHP_328-05_cfDNA.txt'</li></ol>\n"
      ],
      "text/latex": [
       "\\begin{enumerate*}\n",
       "\\item '/Users/anabbi/Desktop/H4H/INTERCEPT//NextSeq/batch3a9\\_cfDNA\\_10Jul2020/mixcr/clones/CLONES\\_TRBCHP\\_323-03\\_cfDNA.txt'\n",
       "\\item '/Users/anabbi/Desktop/H4H/INTERCEPT//NextSeq/remaining\\_batch\\_1\\_cfDNA\\_8April2021/mixcr/clones/CLONES\\_TRBCHP\\_323-05\\_cfDNA.txt'\n",
       "\\item '/Users/anabbi/Desktop/H4H/INTERCEPT//NextSeq/batch5\\_cfDNA\\_25Jun2020/mixcr/clones/CLONES\\_TRBCHP\\_324-04\\_cfDNA.txt'\n",
       "\\item '/Users/anabbi/Desktop/H4H/INTERCEPT//NextSeq/batch10\\_cfDNA\\_13Jul2020/mixcr/clones/CLONES\\_TRBCHP\\_324-05\\_cfDNA.txt'\n",
       "\\item '/Users/anabbi/Desktop/H4H/INTERCEPT//NextSeq/batch10\\_cfDNA\\_13Jul2020/mixcr/clones/CLONES\\_TRBCHP\\_326-05\\_cfDNA.txt'\n",
       "\\item '/Users/anabbi/Desktop/H4H/INTERCEPT//NextSeq/batch10\\_cfDNA\\_13Jul2020/mixcr/clones/CLONES\\_TRBCHP\\_328-05\\_cfDNA.txt'\n",
       "\\end{enumerate*}\n"
      ],
      "text/markdown": [
       "1. '/Users/anabbi/Desktop/H4H/INTERCEPT//NextSeq/batch3a9_cfDNA_10Jul2020/mixcr/clones/CLONES_TRBCHP_323-03_cfDNA.txt'\n",
       "2. '/Users/anabbi/Desktop/H4H/INTERCEPT//NextSeq/remaining_batch_1_cfDNA_8April2021/mixcr/clones/CLONES_TRBCHP_323-05_cfDNA.txt'\n",
       "3. '/Users/anabbi/Desktop/H4H/INTERCEPT//NextSeq/batch5_cfDNA_25Jun2020/mixcr/clones/CLONES_TRBCHP_324-04_cfDNA.txt'\n",
       "4. '/Users/anabbi/Desktop/H4H/INTERCEPT//NextSeq/batch10_cfDNA_13Jul2020/mixcr/clones/CLONES_TRBCHP_324-05_cfDNA.txt'\n",
       "5. '/Users/anabbi/Desktop/H4H/INTERCEPT//NextSeq/batch10_cfDNA_13Jul2020/mixcr/clones/CLONES_TRBCHP_326-05_cfDNA.txt'\n",
       "6. '/Users/anabbi/Desktop/H4H/INTERCEPT//NextSeq/batch10_cfDNA_13Jul2020/mixcr/clones/CLONES_TRBCHP_328-05_cfDNA.txt'\n",
       "\n",
       "\n"
      ],
      "text/plain": [
       "[1] \"/Users/anabbi/Desktop/H4H/INTERCEPT//NextSeq/batch3a9_cfDNA_10Jul2020/mixcr/clones/CLONES_TRBCHP_323-03_cfDNA.txt\"          \n",
       "[2] \"/Users/anabbi/Desktop/H4H/INTERCEPT//NextSeq/remaining_batch_1_cfDNA_8April2021/mixcr/clones/CLONES_TRBCHP_323-05_cfDNA.txt\"\n",
       "[3] \"/Users/anabbi/Desktop/H4H/INTERCEPT//NextSeq/batch5_cfDNA_25Jun2020/mixcr/clones/CLONES_TRBCHP_324-04_cfDNA.txt\"            \n",
       "[4] \"/Users/anabbi/Desktop/H4H/INTERCEPT//NextSeq/batch10_cfDNA_13Jul2020/mixcr/clones/CLONES_TRBCHP_324-05_cfDNA.txt\"           \n",
       "[5] \"/Users/anabbi/Desktop/H4H/INTERCEPT//NextSeq/batch10_cfDNA_13Jul2020/mixcr/clones/CLONES_TRBCHP_326-05_cfDNA.txt\"           \n",
       "[6] \"/Users/anabbi/Desktop/H4H/INTERCEPT//NextSeq/batch10_cfDNA_13Jul2020/mixcr/clones/CLONES_TRBCHP_328-05_cfDNA.txt\"           "
      ]
     },
     "metadata": {},
     "output_type": "display_data"
    }
   ],
   "source": [
    "head(flelist)"
   ]
  },
  {
   "cell_type": "code",
   "execution_count": 19,
   "metadata": {
    "vscode": {
     "languageId": "r"
    }
   },
   "outputs": [],
   "source": [
    "Vgene.fx <- function(fle){\n",
    "    onefle <- read.table(fle, header = T, sep = \"\\t\")\n",
    "    basename <- gsub(\".txt\", \"\", basename(fle))\n",
    "basename <- gsub(\"CLONES_TRB\", \"\", basename)\n",
    "onefle$basename <- basename\n",
    "# Remove non-productive\n",
    "onefle <- onefle[!grepl(\"_\", onefle$aaSeqCDR3), ]\n",
    "onefle <- onefle[!grepl(\"[*]\", onefle$aaSeqCDR3), ]\n",
    "\n",
    " # if the file has no productive cdr3, message and exit\n",
    " if(nrow(onefle) == 0) { next }\n",
    "\n",
    "# remove scores and take the first hit\n",
    "onefle$TRBV <- gsub(\"[*]0.*\", \"\", onefle$allVHitsWithScore)\n",
    "onefle$TRBJ <- gsub(\"[*]0.*\", \"\", onefle$allJHitsWithScore)\n",
    "# remove super long cdr3s\n",
    "onefle <- onefle[nchar(onefle$aaSeqCDR3) <= 25, ]\n",
    "\n",
    " #exit if the file has no productive cdr3\n",
    " if(nrow(onefle) == 0) { next }\n",
    "\n",
    "onefle$cdr3_length <- nchar(onefle$aaSeqCDR3)\n",
    "onefle_s <- onefle[, c(\"basename\", \"aaSeqCDR3\", \"cdr3_length\", \"TRBV\", \"TRBJ\", \"cloneCount\", \"cloneFraction\")]\n",
    "\n",
    "return(onefle_s)\n",
    "}"
   ]
  },
  {
   "cell_type": "code",
   "execution_count": 21,
   "metadata": {
    "vscode": {
     "languageId": "r"
    }
   },
   "outputs": [],
   "source": [
    "myflelist <- lapply(flelist, Vgene.fx)"
   ]
  },
  {
   "cell_type": "code",
   "execution_count": 22,
   "metadata": {
    "vscode": {
     "languageId": "r"
    }
   },
   "outputs": [],
   "source": [
    "int_v_j_cdr3_l <- do.call(\"rbind\", myflelist)"
   ]
  },
  {
   "cell_type": "code",
   "execution_count": 23,
   "metadata": {
    "vscode": {
     "languageId": "r"
    }
   },
   "outputs": [
    {
     "data": {
      "text/html": [
       "<table class=\"dataframe\">\n",
       "<caption>A data.frame: 6 x 7</caption>\n",
       "<thead>\n",
       "\t<tr><th></th><th scope=col>basename</th><th scope=col>aaSeqCDR3</th><th scope=col>cdr3_length</th><th scope=col>TRBV</th><th scope=col>TRBJ</th><th scope=col>cloneCount</th><th scope=col>cloneFraction</th></tr>\n",
       "\t<tr><th></th><th scope=col>&lt;chr&gt;</th><th scope=col>&lt;chr&gt;</th><th scope=col>&lt;int&gt;</th><th scope=col>&lt;chr&gt;</th><th scope=col>&lt;chr&gt;</th><th scope=col>&lt;int&gt;</th><th scope=col>&lt;dbl&gt;</th></tr>\n",
       "</thead>\n",
       "<tbody>\n",
       "\t<tr><th scope=row>1</th><td>CHP_323-03_cfDNA</td><td>CASSQGTEGGYTF  </td><td>13</td><td>TRBV4-3 </td><td>TRBJ1-2</td><td>7047</td><td>0.06883248</td></tr>\n",
       "\t<tr><th scope=row>2</th><td>CHP_323-03_cfDNA</td><td>CSARGRGKGADTQYF</td><td>15</td><td>TRBV20-1</td><td>TRBJ2-3</td><td>5287</td><td>0.05164145</td></tr>\n",
       "\t<tr><th scope=row>3</th><td>CHP_323-03_cfDNA</td><td>CASRSDEKLFF    </td><td>11</td><td>TRBV28  </td><td>TRBJ1-4</td><td>4084</td><td>0.03989099</td></tr>\n",
       "\t<tr><th scope=row>4</th><td>CHP_323-03_cfDNA</td><td>CAISDGQDTDTQYF </td><td>14</td><td>TRBV10-3</td><td>TRBJ2-3</td><td>3884</td><td>0.03793747</td></tr>\n",
       "\t<tr><th scope=row>6</th><td>CHP_323-03_cfDNA</td><td>CASSPSNTEAFF   </td><td>12</td><td>TRBV19  </td><td>TRBJ1-1</td><td>3533</td><td>0.03450903</td></tr>\n",
       "\t<tr><th scope=row>8</th><td>CHP_323-03_cfDNA</td><td>CASPGTGLYNQPQHF</td><td>15</td><td>TRBV30  </td><td>TRBJ1-5</td><td>3079</td><td>0.03007453</td></tr>\n",
       "</tbody>\n",
       "</table>\n"
      ],
      "text/latex": [
       "A data.frame: 6 x 7\n",
       "\\begin{tabular}{r|lllllll}\n",
       "  & basename & aaSeqCDR3 & cdr3\\_length & TRBV & TRBJ & cloneCount & cloneFraction\\\\\n",
       "  & <chr> & <chr> & <int> & <chr> & <chr> & <int> & <dbl>\\\\\n",
       "\\hline\n",
       "\t1 & CHP\\_323-03\\_cfDNA & CASSQGTEGGYTF   & 13 & TRBV4-3  & TRBJ1-2 & 7047 & 0.06883248\\\\\n",
       "\t2 & CHP\\_323-03\\_cfDNA & CSARGRGKGADTQYF & 15 & TRBV20-1 & TRBJ2-3 & 5287 & 0.05164145\\\\\n",
       "\t3 & CHP\\_323-03\\_cfDNA & CASRSDEKLFF     & 11 & TRBV28   & TRBJ1-4 & 4084 & 0.03989099\\\\\n",
       "\t4 & CHP\\_323-03\\_cfDNA & CAISDGQDTDTQYF  & 14 & TRBV10-3 & TRBJ2-3 & 3884 & 0.03793747\\\\\n",
       "\t6 & CHP\\_323-03\\_cfDNA & CASSPSNTEAFF    & 12 & TRBV19   & TRBJ1-1 & 3533 & 0.03450903\\\\\n",
       "\t8 & CHP\\_323-03\\_cfDNA & CASPGTGLYNQPQHF & 15 & TRBV30   & TRBJ1-5 & 3079 & 0.03007453\\\\\n",
       "\\end{tabular}\n"
      ],
      "text/markdown": [
       "\n",
       "A data.frame: 6 x 7\n",
       "\n",
       "| <!--/--> | basename &lt;chr&gt; | aaSeqCDR3 &lt;chr&gt; | cdr3_length &lt;int&gt; | TRBV &lt;chr&gt; | TRBJ &lt;chr&gt; | cloneCount &lt;int&gt; | cloneFraction &lt;dbl&gt; |\n",
       "|---|---|---|---|---|---|---|---|\n",
       "| 1 | CHP_323-03_cfDNA | CASSQGTEGGYTF   | 13 | TRBV4-3  | TRBJ1-2 | 7047 | 0.06883248 |\n",
       "| 2 | CHP_323-03_cfDNA | CSARGRGKGADTQYF | 15 | TRBV20-1 | TRBJ2-3 | 5287 | 0.05164145 |\n",
       "| 3 | CHP_323-03_cfDNA | CASRSDEKLFF     | 11 | TRBV28   | TRBJ1-4 | 4084 | 0.03989099 |\n",
       "| 4 | CHP_323-03_cfDNA | CAISDGQDTDTQYF  | 14 | TRBV10-3 | TRBJ2-3 | 3884 | 0.03793747 |\n",
       "| 6 | CHP_323-03_cfDNA | CASSPSNTEAFF    | 12 | TRBV19   | TRBJ1-1 | 3533 | 0.03450903 |\n",
       "| 8 | CHP_323-03_cfDNA | CASPGTGLYNQPQHF | 15 | TRBV30   | TRBJ1-5 | 3079 | 0.03007453 |\n",
       "\n"
      ],
      "text/plain": [
       "  basename         aaSeqCDR3       cdr3_length TRBV     TRBJ    cloneCount\n",
       "1 CHP_323-03_cfDNA CASSQGTEGGYTF   13          TRBV4-3  TRBJ1-2 7047      \n",
       "2 CHP_323-03_cfDNA CSARGRGKGADTQYF 15          TRBV20-1 TRBJ2-3 5287      \n",
       "3 CHP_323-03_cfDNA CASRSDEKLFF     11          TRBV28   TRBJ1-4 4084      \n",
       "4 CHP_323-03_cfDNA CAISDGQDTDTQYF  14          TRBV10-3 TRBJ2-3 3884      \n",
       "6 CHP_323-03_cfDNA CASSPSNTEAFF    12          TRBV19   TRBJ1-1 3533      \n",
       "8 CHP_323-03_cfDNA CASPGTGLYNQPQHF 15          TRBV30   TRBJ1-5 3079      \n",
       "  cloneFraction\n",
       "1 0.06883248   \n",
       "2 0.05164145   \n",
       "3 0.03989099   \n",
       "4 0.03793747   \n",
       "6 0.03450903   \n",
       "8 0.03007453   "
      ]
     },
     "metadata": {},
     "output_type": "display_data"
    }
   ],
   "source": [
    "head(int_v_j_cdr3_l)"
   ]
  },
  {
   "cell_type": "code",
   "execution_count": 24,
   "metadata": {
    "vscode": {
     "languageId": "r"
    }
   },
   "outputs": [],
   "source": [
    "readr::write_rds(int_v_j_cdr3_l, paste0(datapath, \"capTCRseq/int_cfdna_v_j_cdr3_l.rds\"))"
   ]
  },
  {
   "cell_type": "code",
   "execution_count": 25,
   "metadata": {
    "vscode": {
     "languageId": "r"
    }
   },
   "outputs": [],
   "source": [
    "int_v_j_cdr3_l <- readr::read_rds( paste0(datapath, \"capTCRseq/int_cfdna_v_j_cdr3_l.rds\"))"
   ]
  },
  {
   "cell_type": "code",
   "execution_count": 26,
   "metadata": {
    "vscode": {
     "languageId": "r"
    }
   },
   "outputs": [
    {
     "name": "stderr",
     "output_type": "stream",
     "text": [
      "\u001b[1m\u001b[22m`summarise()` has grouped output by 'basename'. You can override using the\n",
      "`.groups` argument.\n"
     ]
    }
   ],
   "source": [
    "int_v <- int_v_j_cdr3_l %>% group_by(basename, TRBV) %>% summarize(Vcount = sum(cloneCount)) %>% ungroup()"
   ]
  },
  {
   "cell_type": "code",
   "execution_count": 27,
   "metadata": {
    "vscode": {
     "languageId": "r"
    }
   },
   "outputs": [
    {
     "data": {
      "text/html": [
       "<table class=\"dataframe\">\n",
       "<caption>A tibble: 6 x 3</caption>\n",
       "<thead>\n",
       "\t<tr><th scope=col>basename</th><th scope=col>TRBV</th><th scope=col>Vcount</th></tr>\n",
       "\t<tr><th scope=col>&lt;chr&gt;</th><th scope=col>&lt;chr&gt;</th><th scope=col>&lt;int&gt;</th></tr>\n",
       "</thead>\n",
       "<tbody>\n",
       "\t<tr><td>CHP_323-03_cfDNA</td><td>TRBV10-3</td><td>4967</td></tr>\n",
       "\t<tr><td>CHP_323-03_cfDNA</td><td>TRBV11-1</td><td>  24</td></tr>\n",
       "\t<tr><td>CHP_323-03_cfDNA</td><td>TRBV11-2</td><td>1073</td></tr>\n",
       "\t<tr><td>CHP_323-03_cfDNA</td><td>TRBV11-3</td><td>1212</td></tr>\n",
       "\t<tr><td>CHP_323-03_cfDNA</td><td>TRBV12-3</td><td>  55</td></tr>\n",
       "\t<tr><td>CHP_323-03_cfDNA</td><td>TRBV12-4</td><td>1973</td></tr>\n",
       "</tbody>\n",
       "</table>\n"
      ],
      "text/latex": [
       "A tibble: 6 x 3\n",
       "\\begin{tabular}{lll}\n",
       " basename & TRBV & Vcount\\\\\n",
       " <chr> & <chr> & <int>\\\\\n",
       "\\hline\n",
       "\t CHP\\_323-03\\_cfDNA & TRBV10-3 & 4967\\\\\n",
       "\t CHP\\_323-03\\_cfDNA & TRBV11-1 &   24\\\\\n",
       "\t CHP\\_323-03\\_cfDNA & TRBV11-2 & 1073\\\\\n",
       "\t CHP\\_323-03\\_cfDNA & TRBV11-3 & 1212\\\\\n",
       "\t CHP\\_323-03\\_cfDNA & TRBV12-3 &   55\\\\\n",
       "\t CHP\\_323-03\\_cfDNA & TRBV12-4 & 1973\\\\\n",
       "\\end{tabular}\n"
      ],
      "text/markdown": [
       "\n",
       "A tibble: 6 x 3\n",
       "\n",
       "| basename &lt;chr&gt; | TRBV &lt;chr&gt; | Vcount &lt;int&gt; |\n",
       "|---|---|---|\n",
       "| CHP_323-03_cfDNA | TRBV10-3 | 4967 |\n",
       "| CHP_323-03_cfDNA | TRBV11-1 |   24 |\n",
       "| CHP_323-03_cfDNA | TRBV11-2 | 1073 |\n",
       "| CHP_323-03_cfDNA | TRBV11-3 | 1212 |\n",
       "| CHP_323-03_cfDNA | TRBV12-3 |   55 |\n",
       "| CHP_323-03_cfDNA | TRBV12-4 | 1973 |\n",
       "\n"
      ],
      "text/plain": [
       "  basename         TRBV     Vcount\n",
       "1 CHP_323-03_cfDNA TRBV10-3 4967  \n",
       "2 CHP_323-03_cfDNA TRBV11-1   24  \n",
       "3 CHP_323-03_cfDNA TRBV11-2 1073  \n",
       "4 CHP_323-03_cfDNA TRBV11-3 1212  \n",
       "5 CHP_323-03_cfDNA TRBV12-3   55  \n",
       "6 CHP_323-03_cfDNA TRBV12-4 1973  "
      ]
     },
     "metadata": {},
     "output_type": "display_data"
    }
   ],
   "source": [
    "head(int_v)"
   ]
  },
  {
   "cell_type": "code",
   "execution_count": 28,
   "metadata": {
    "vscode": {
     "languageId": "r"
    }
   },
   "outputs": [],
   "source": [
    "int_v_count <- tidyr::pivot_wider(int_v, names_from = \"TRBV\", values_from = \"Vcount\", values_fill = 0)"
   ]
  },
  {
   "cell_type": "code",
   "execution_count": 29,
   "metadata": {
    "vscode": {
     "languageId": "r"
    }
   },
   "outputs": [
    {
     "data": {
      "text/html": [
       "<table class=\"dataframe\">\n",
       "<caption>A tibble: 6 x 59</caption>\n",
       "<thead>\n",
       "\t<tr><th scope=col>basename</th><th scope=col>TRBV10-3</th><th scope=col>TRBV11-1</th><th scope=col>TRBV11-2</th><th scope=col>TRBV11-3</th><th scope=col>TRBV12-3</th><th scope=col>TRBV12-4</th><th scope=col>TRBV14</th><th scope=col>TRBV15</th><th scope=col>TRBV16</th><th scope=col>...</th><th scope=col>TRBV7-5</th><th scope=col>TRBV7-1</th><th scope=col>TRBV10-2</th><th scope=col>TRBV12-2</th><th scope=col>TRBV12-1</th><th scope=col>TRBV5-7</th><th scope=col>TRBV1</th><th scope=col>TRBV6-7</th><th scope=col>TRBV17</th><th scope=col>TRBV7-4</th></tr>\n",
       "\t<tr><th scope=col>&lt;chr&gt;</th><th scope=col>&lt;int&gt;</th><th scope=col>&lt;int&gt;</th><th scope=col>&lt;int&gt;</th><th scope=col>&lt;int&gt;</th><th scope=col>&lt;int&gt;</th><th scope=col>&lt;int&gt;</th><th scope=col>&lt;int&gt;</th><th scope=col>&lt;int&gt;</th><th scope=col>&lt;int&gt;</th><th scope=col>...</th><th scope=col>&lt;int&gt;</th><th scope=col>&lt;int&gt;</th><th scope=col>&lt;int&gt;</th><th scope=col>&lt;int&gt;</th><th scope=col>&lt;int&gt;</th><th scope=col>&lt;int&gt;</th><th scope=col>&lt;int&gt;</th><th scope=col>&lt;int&gt;</th><th scope=col>&lt;int&gt;</th><th scope=col>&lt;int&gt;</th></tr>\n",
       "</thead>\n",
       "<tbody>\n",
       "\t<tr><td>CHP_323-03_cfDNA</td><td>4967</td><td>24</td><td>1073</td><td>1212</td><td>55</td><td>1973</td><td>259</td><td>345</td><td>1842</td><td>...</td><td>0</td><td>0</td><td>0</td><td>0</td><td>0</td><td>0</td><td>0</td><td>0</td><td>0</td><td>0</td></tr>\n",
       "\t<tr><td>CHP_323-05_cfDNA</td><td>   0</td><td> 0</td><td>   0</td><td>   0</td><td> 0</td><td>2061</td><td>  0</td><td>  0</td><td>   0</td><td>...</td><td>0</td><td>0</td><td>0</td><td>0</td><td>0</td><td>0</td><td>0</td><td>0</td><td>0</td><td>0</td></tr>\n",
       "\t<tr><td>CHP_324-04_cfDNA</td><td>   0</td><td> 0</td><td>   0</td><td>   0</td><td> 0</td><td>   0</td><td>  0</td><td>  0</td><td>   0</td><td>...</td><td>0</td><td>0</td><td>0</td><td>0</td><td>0</td><td>0</td><td>0</td><td>0</td><td>0</td><td>0</td></tr>\n",
       "\t<tr><td>CHP_324-05_cfDNA</td><td>   0</td><td> 0</td><td>   0</td><td>   0</td><td> 0</td><td>   0</td><td>  0</td><td>  0</td><td>   0</td><td>...</td><td>0</td><td>0</td><td>0</td><td>0</td><td>0</td><td>0</td><td>0</td><td>0</td><td>0</td><td>0</td></tr>\n",
       "\t<tr><td>CHP_326-05_cfDNA</td><td> 709</td><td> 0</td><td>   0</td><td>   0</td><td> 0</td><td>   0</td><td>  0</td><td>  0</td><td>   0</td><td>...</td><td>0</td><td>0</td><td>0</td><td>0</td><td>0</td><td>0</td><td>0</td><td>0</td><td>0</td><td>0</td></tr>\n",
       "\t<tr><td>CHP_328-05_cfDNA</td><td>   0</td><td> 0</td><td>   0</td><td>   0</td><td> 0</td><td>   0</td><td>  0</td><td>  0</td><td>   0</td><td>...</td><td>0</td><td>0</td><td>0</td><td>0</td><td>0</td><td>0</td><td>0</td><td>0</td><td>0</td><td>0</td></tr>\n",
       "</tbody>\n",
       "</table>\n"
      ],
      "text/latex": [
       "A tibble: 6 x 59\n",
       "\\begin{tabular}{lllllllllllllllllllll}\n",
       " basename & TRBV10-3 & TRBV11-1 & TRBV11-2 & TRBV11-3 & TRBV12-3 & TRBV12-4 & TRBV14 & TRBV15 & TRBV16 & ... & TRBV7-5 & TRBV7-1 & TRBV10-2 & TRBV12-2 & TRBV12-1 & TRBV5-7 & TRBV1 & TRBV6-7 & TRBV17 & TRBV7-4\\\\\n",
       " <chr> & <int> & <int> & <int> & <int> & <int> & <int> & <int> & <int> & <int> & ... & <int> & <int> & <int> & <int> & <int> & <int> & <int> & <int> & <int> & <int>\\\\\n",
       "\\hline\n",
       "\t CHP\\_323-03\\_cfDNA & 4967 & 24 & 1073 & 1212 & 55 & 1973 & 259 & 345 & 1842 & ... & 0 & 0 & 0 & 0 & 0 & 0 & 0 & 0 & 0 & 0\\\\\n",
       "\t CHP\\_323-05\\_cfDNA &    0 &  0 &    0 &    0 &  0 & 2061 &   0 &   0 &    0 & ... & 0 & 0 & 0 & 0 & 0 & 0 & 0 & 0 & 0 & 0\\\\\n",
       "\t CHP\\_324-04\\_cfDNA &    0 &  0 &    0 &    0 &  0 &    0 &   0 &   0 &    0 & ... & 0 & 0 & 0 & 0 & 0 & 0 & 0 & 0 & 0 & 0\\\\\n",
       "\t CHP\\_324-05\\_cfDNA &    0 &  0 &    0 &    0 &  0 &    0 &   0 &   0 &    0 & ... & 0 & 0 & 0 & 0 & 0 & 0 & 0 & 0 & 0 & 0\\\\\n",
       "\t CHP\\_326-05\\_cfDNA &  709 &  0 &    0 &    0 &  0 &    0 &   0 &   0 &    0 & ... & 0 & 0 & 0 & 0 & 0 & 0 & 0 & 0 & 0 & 0\\\\\n",
       "\t CHP\\_328-05\\_cfDNA &    0 &  0 &    0 &    0 &  0 &    0 &   0 &   0 &    0 & ... & 0 & 0 & 0 & 0 & 0 & 0 & 0 & 0 & 0 & 0\\\\\n",
       "\\end{tabular}\n"
      ],
      "text/markdown": [
       "\n",
       "A tibble: 6 x 59\n",
       "\n",
       "| basename &lt;chr&gt; | TRBV10-3 &lt;int&gt; | TRBV11-1 &lt;int&gt; | TRBV11-2 &lt;int&gt; | TRBV11-3 &lt;int&gt; | TRBV12-3 &lt;int&gt; | TRBV12-4 &lt;int&gt; | TRBV14 &lt;int&gt; | TRBV15 &lt;int&gt; | TRBV16 &lt;int&gt; | ... ... | TRBV7-5 &lt;int&gt; | TRBV7-1 &lt;int&gt; | TRBV10-2 &lt;int&gt; | TRBV12-2 &lt;int&gt; | TRBV12-1 &lt;int&gt; | TRBV5-7 &lt;int&gt; | TRBV1 &lt;int&gt; | TRBV6-7 &lt;int&gt; | TRBV17 &lt;int&gt; | TRBV7-4 &lt;int&gt; |\n",
       "|---|---|---|---|---|---|---|---|---|---|---|---|---|---|---|---|---|---|---|---|---|\n",
       "| CHP_323-03_cfDNA | 4967 | 24 | 1073 | 1212 | 55 | 1973 | 259 | 345 | 1842 | ... | 0 | 0 | 0 | 0 | 0 | 0 | 0 | 0 | 0 | 0 |\n",
       "| CHP_323-05_cfDNA |    0 |  0 |    0 |    0 |  0 | 2061 |   0 |   0 |    0 | ... | 0 | 0 | 0 | 0 | 0 | 0 | 0 | 0 | 0 | 0 |\n",
       "| CHP_324-04_cfDNA |    0 |  0 |    0 |    0 |  0 |    0 |   0 |   0 |    0 | ... | 0 | 0 | 0 | 0 | 0 | 0 | 0 | 0 | 0 | 0 |\n",
       "| CHP_324-05_cfDNA |    0 |  0 |    0 |    0 |  0 |    0 |   0 |   0 |    0 | ... | 0 | 0 | 0 | 0 | 0 | 0 | 0 | 0 | 0 | 0 |\n",
       "| CHP_326-05_cfDNA |  709 |  0 |    0 |    0 |  0 |    0 |   0 |   0 |    0 | ... | 0 | 0 | 0 | 0 | 0 | 0 | 0 | 0 | 0 | 0 |\n",
       "| CHP_328-05_cfDNA |    0 |  0 |    0 |    0 |  0 |    0 |   0 |   0 |    0 | ... | 0 | 0 | 0 | 0 | 0 | 0 | 0 | 0 | 0 | 0 |\n",
       "\n"
      ],
      "text/plain": [
       "  basename         TRBV10-3 TRBV11-1 TRBV11-2 TRBV11-3 TRBV12-3 TRBV12-4 TRBV14\n",
       "1 CHP_323-03_cfDNA 4967     24       1073     1212     55       1973     259   \n",
       "2 CHP_323-05_cfDNA    0      0          0        0      0       2061       0   \n",
       "3 CHP_324-04_cfDNA    0      0          0        0      0          0       0   \n",
       "4 CHP_324-05_cfDNA    0      0          0        0      0          0       0   \n",
       "5 CHP_326-05_cfDNA  709      0          0        0      0          0       0   \n",
       "6 CHP_328-05_cfDNA    0      0          0        0      0          0       0   \n",
       "  TRBV15 TRBV16 ... TRBV7-5 TRBV7-1 TRBV10-2 TRBV12-2 TRBV12-1 TRBV5-7 TRBV1\n",
       "1 345    1842   ... 0       0       0        0        0        0       0    \n",
       "2   0       0   ... 0       0       0        0        0        0       0    \n",
       "3   0       0   ... 0       0       0        0        0        0       0    \n",
       "4   0       0   ... 0       0       0        0        0        0       0    \n",
       "5   0       0   ... 0       0       0        0        0        0       0    \n",
       "6   0       0   ... 0       0       0        0        0        0       0    \n",
       "  TRBV6-7 TRBV17 TRBV7-4\n",
       "1 0       0      0      \n",
       "2 0       0      0      \n",
       "3 0       0      0      \n",
       "4 0       0      0      \n",
       "5 0       0      0      \n",
       "6 0       0      0      "
      ]
     },
     "metadata": {},
     "output_type": "display_data"
    }
   ],
   "source": [
    "head(int_v_count)"
   ]
  },
  {
   "cell_type": "code",
   "execution_count": 30,
   "metadata": {
    "vscode": {
     "languageId": "r"
    }
   },
   "outputs": [],
   "source": [
    "int_v_count <- as.data.frame(int_v_count)\n",
    "rownames(int_v_count) <- int_v_count$basename\n",
    "int_v_count$basename <- NULL"
   ]
  },
  {
   "cell_type": "code",
   "execution_count": 31,
   "metadata": {
    "vscode": {
     "languageId": "r"
    }
   },
   "outputs": [
    {
     "data": {
      "text/html": [
       "<table class=\"dataframe\">\n",
       "<caption>A data.frame: 6 x 58</caption>\n",
       "<thead>\n",
       "\t<tr><th></th><th scope=col>TRBV10-3</th><th scope=col>TRBV11-1</th><th scope=col>TRBV11-2</th><th scope=col>TRBV11-3</th><th scope=col>TRBV12-3</th><th scope=col>TRBV12-4</th><th scope=col>TRBV14</th><th scope=col>TRBV15</th><th scope=col>TRBV16</th><th scope=col>TRBV18</th><th scope=col>...</th><th scope=col>TRBV7-5</th><th scope=col>TRBV7-1</th><th scope=col>TRBV10-2</th><th scope=col>TRBV12-2</th><th scope=col>TRBV12-1</th><th scope=col>TRBV5-7</th><th scope=col>TRBV1</th><th scope=col>TRBV6-7</th><th scope=col>TRBV17</th><th scope=col>TRBV7-4</th></tr>\n",
       "\t<tr><th></th><th scope=col>&lt;int&gt;</th><th scope=col>&lt;int&gt;</th><th scope=col>&lt;int&gt;</th><th scope=col>&lt;int&gt;</th><th scope=col>&lt;int&gt;</th><th scope=col>&lt;int&gt;</th><th scope=col>&lt;int&gt;</th><th scope=col>&lt;int&gt;</th><th scope=col>&lt;int&gt;</th><th scope=col>&lt;int&gt;</th><th scope=col>...</th><th scope=col>&lt;int&gt;</th><th scope=col>&lt;int&gt;</th><th scope=col>&lt;int&gt;</th><th scope=col>&lt;int&gt;</th><th scope=col>&lt;int&gt;</th><th scope=col>&lt;int&gt;</th><th scope=col>&lt;int&gt;</th><th scope=col>&lt;int&gt;</th><th scope=col>&lt;int&gt;</th><th scope=col>&lt;int&gt;</th></tr>\n",
       "</thead>\n",
       "<tbody>\n",
       "\t<tr><th scope=row>CHP_323-03_cfDNA</th><td>4967</td><td>24</td><td>1073</td><td>1212</td><td>55</td><td>1973</td><td>259</td><td>345</td><td>1842</td><td>3106</td><td>...</td><td>0</td><td>0</td><td>0</td><td>0</td><td>0</td><td>0</td><td>0</td><td>0</td><td>0</td><td>0</td></tr>\n",
       "\t<tr><th scope=row>CHP_323-05_cfDNA</th><td>   0</td><td> 0</td><td>   0</td><td>   0</td><td> 0</td><td>2061</td><td>  0</td><td>  0</td><td>   0</td><td> 768</td><td>...</td><td>0</td><td>0</td><td>0</td><td>0</td><td>0</td><td>0</td><td>0</td><td>0</td><td>0</td><td>0</td></tr>\n",
       "\t<tr><th scope=row>CHP_324-04_cfDNA</th><td>   0</td><td> 0</td><td>   0</td><td>   0</td><td> 0</td><td>   0</td><td>  0</td><td>  0</td><td>   0</td><td>   0</td><td>...</td><td>0</td><td>0</td><td>0</td><td>0</td><td>0</td><td>0</td><td>0</td><td>0</td><td>0</td><td>0</td></tr>\n",
       "\t<tr><th scope=row>CHP_324-05_cfDNA</th><td>   0</td><td> 0</td><td>   0</td><td>   0</td><td> 0</td><td>   0</td><td>  0</td><td>  0</td><td>   0</td><td>   0</td><td>...</td><td>0</td><td>0</td><td>0</td><td>0</td><td>0</td><td>0</td><td>0</td><td>0</td><td>0</td><td>0</td></tr>\n",
       "\t<tr><th scope=row>CHP_326-05_cfDNA</th><td> 709</td><td> 0</td><td>   0</td><td>   0</td><td> 0</td><td>   0</td><td>  0</td><td>  0</td><td>   0</td><td>   0</td><td>...</td><td>0</td><td>0</td><td>0</td><td>0</td><td>0</td><td>0</td><td>0</td><td>0</td><td>0</td><td>0</td></tr>\n",
       "\t<tr><th scope=row>CHP_328-05_cfDNA</th><td>   0</td><td> 0</td><td>   0</td><td>   0</td><td> 0</td><td>   0</td><td>  0</td><td>  0</td><td>   0</td><td>   0</td><td>...</td><td>0</td><td>0</td><td>0</td><td>0</td><td>0</td><td>0</td><td>0</td><td>0</td><td>0</td><td>0</td></tr>\n",
       "</tbody>\n",
       "</table>\n"
      ],
      "text/latex": [
       "A data.frame: 6 x 58\n",
       "\\begin{tabular}{r|lllllllllllllllllllll}\n",
       "  & TRBV10-3 & TRBV11-1 & TRBV11-2 & TRBV11-3 & TRBV12-3 & TRBV12-4 & TRBV14 & TRBV15 & TRBV16 & TRBV18 & ... & TRBV7-5 & TRBV7-1 & TRBV10-2 & TRBV12-2 & TRBV12-1 & TRBV5-7 & TRBV1 & TRBV6-7 & TRBV17 & TRBV7-4\\\\\n",
       "  & <int> & <int> & <int> & <int> & <int> & <int> & <int> & <int> & <int> & <int> & ... & <int> & <int> & <int> & <int> & <int> & <int> & <int> & <int> & <int> & <int>\\\\\n",
       "\\hline\n",
       "\tCHP\\_323-03\\_cfDNA & 4967 & 24 & 1073 & 1212 & 55 & 1973 & 259 & 345 & 1842 & 3106 & ... & 0 & 0 & 0 & 0 & 0 & 0 & 0 & 0 & 0 & 0\\\\\n",
       "\tCHP\\_323-05\\_cfDNA &    0 &  0 &    0 &    0 &  0 & 2061 &   0 &   0 &    0 &  768 & ... & 0 & 0 & 0 & 0 & 0 & 0 & 0 & 0 & 0 & 0\\\\\n",
       "\tCHP\\_324-04\\_cfDNA &    0 &  0 &    0 &    0 &  0 &    0 &   0 &   0 &    0 &    0 & ... & 0 & 0 & 0 & 0 & 0 & 0 & 0 & 0 & 0 & 0\\\\\n",
       "\tCHP\\_324-05\\_cfDNA &    0 &  0 &    0 &    0 &  0 &    0 &   0 &   0 &    0 &    0 & ... & 0 & 0 & 0 & 0 & 0 & 0 & 0 & 0 & 0 & 0\\\\\n",
       "\tCHP\\_326-05\\_cfDNA &  709 &  0 &    0 &    0 &  0 &    0 &   0 &   0 &    0 &    0 & ... & 0 & 0 & 0 & 0 & 0 & 0 & 0 & 0 & 0 & 0\\\\\n",
       "\tCHP\\_328-05\\_cfDNA &    0 &  0 &    0 &    0 &  0 &    0 &   0 &   0 &    0 &    0 & ... & 0 & 0 & 0 & 0 & 0 & 0 & 0 & 0 & 0 & 0\\\\\n",
       "\\end{tabular}\n"
      ],
      "text/markdown": [
       "\n",
       "A data.frame: 6 x 58\n",
       "\n",
       "| <!--/--> | TRBV10-3 &lt;int&gt; | TRBV11-1 &lt;int&gt; | TRBV11-2 &lt;int&gt; | TRBV11-3 &lt;int&gt; | TRBV12-3 &lt;int&gt; | TRBV12-4 &lt;int&gt; | TRBV14 &lt;int&gt; | TRBV15 &lt;int&gt; | TRBV16 &lt;int&gt; | TRBV18 &lt;int&gt; | ... ... | TRBV7-5 &lt;int&gt; | TRBV7-1 &lt;int&gt; | TRBV10-2 &lt;int&gt; | TRBV12-2 &lt;int&gt; | TRBV12-1 &lt;int&gt; | TRBV5-7 &lt;int&gt; | TRBV1 &lt;int&gt; | TRBV6-7 &lt;int&gt; | TRBV17 &lt;int&gt; | TRBV7-4 &lt;int&gt; |\n",
       "|---|---|---|---|---|---|---|---|---|---|---|---|---|---|---|---|---|---|---|---|---|---|\n",
       "| CHP_323-03_cfDNA | 4967 | 24 | 1073 | 1212 | 55 | 1973 | 259 | 345 | 1842 | 3106 | ... | 0 | 0 | 0 | 0 | 0 | 0 | 0 | 0 | 0 | 0 |\n",
       "| CHP_323-05_cfDNA |    0 |  0 |    0 |    0 |  0 | 2061 |   0 |   0 |    0 |  768 | ... | 0 | 0 | 0 | 0 | 0 | 0 | 0 | 0 | 0 | 0 |\n",
       "| CHP_324-04_cfDNA |    0 |  0 |    0 |    0 |  0 |    0 |   0 |   0 |    0 |    0 | ... | 0 | 0 | 0 | 0 | 0 | 0 | 0 | 0 | 0 | 0 |\n",
       "| CHP_324-05_cfDNA |    0 |  0 |    0 |    0 |  0 |    0 |   0 |   0 |    0 |    0 | ... | 0 | 0 | 0 | 0 | 0 | 0 | 0 | 0 | 0 | 0 |\n",
       "| CHP_326-05_cfDNA |  709 |  0 |    0 |    0 |  0 |    0 |   0 |   0 |    0 |    0 | ... | 0 | 0 | 0 | 0 | 0 | 0 | 0 | 0 | 0 | 0 |\n",
       "| CHP_328-05_cfDNA |    0 |  0 |    0 |    0 |  0 |    0 |   0 |   0 |    0 |    0 | ... | 0 | 0 | 0 | 0 | 0 | 0 | 0 | 0 | 0 | 0 |\n",
       "\n"
      ],
      "text/plain": [
       "                 TRBV10-3 TRBV11-1 TRBV11-2 TRBV11-3 TRBV12-3 TRBV12-4 TRBV14\n",
       "CHP_323-03_cfDNA 4967     24       1073     1212     55       1973     259   \n",
       "CHP_323-05_cfDNA    0      0          0        0      0       2061       0   \n",
       "CHP_324-04_cfDNA    0      0          0        0      0          0       0   \n",
       "CHP_324-05_cfDNA    0      0          0        0      0          0       0   \n",
       "CHP_326-05_cfDNA  709      0          0        0      0          0       0   \n",
       "CHP_328-05_cfDNA    0      0          0        0      0          0       0   \n",
       "                 TRBV15 TRBV16 TRBV18 ... TRBV7-5 TRBV7-1 TRBV10-2 TRBV12-2\n",
       "CHP_323-03_cfDNA 345    1842   3106   ... 0       0       0        0       \n",
       "CHP_323-05_cfDNA   0       0    768   ... 0       0       0        0       \n",
       "CHP_324-04_cfDNA   0       0      0   ... 0       0       0        0       \n",
       "CHP_324-05_cfDNA   0       0      0   ... 0       0       0        0       \n",
       "CHP_326-05_cfDNA   0       0      0   ... 0       0       0        0       \n",
       "CHP_328-05_cfDNA   0       0      0   ... 0       0       0        0       \n",
       "                 TRBV12-1 TRBV5-7 TRBV1 TRBV6-7 TRBV17 TRBV7-4\n",
       "CHP_323-03_cfDNA 0        0       0     0       0      0      \n",
       "CHP_323-05_cfDNA 0        0       0     0       0      0      \n",
       "CHP_324-04_cfDNA 0        0       0     0       0      0      \n",
       "CHP_324-05_cfDNA 0        0       0     0       0      0      \n",
       "CHP_326-05_cfDNA 0        0       0     0       0      0      \n",
       "CHP_328-05_cfDNA 0        0       0     0       0      0      "
      ]
     },
     "metadata": {},
     "output_type": "display_data"
    }
   ],
   "source": [
    "head(int_v_count)"
   ]
  },
  {
   "cell_type": "code",
   "execution_count": 32,
   "metadata": {
    "vscode": {
     "languageId": "r"
    }
   },
   "outputs": [],
   "source": [
    "readr::write_rds(int_v_count, paste0(datapath, \"capTCRseq/int_cfdna_v_count.rds\"))"
   ]
  },
  {
   "cell_type": "code",
   "execution_count": 33,
   "metadata": {
    "vscode": {
     "languageId": "r"
    }
   },
   "outputs": [
    {
     "name": "stderr",
     "output_type": "stream",
     "text": [
      "\u001b[1m\u001b[22m`summarise()` has grouped output by 'basename'. You can override using the\n",
      "`.groups` argument.\n"
     ]
    }
   ],
   "source": [
    "int_v <- int_v_j_cdr3_l %>% group_by(basename, TRBV) %>% summarize(Vfrac = sum(cloneFraction)) %>% ungroup()"
   ]
  },
  {
   "cell_type": "code",
   "execution_count": 34,
   "metadata": {
    "vscode": {
     "languageId": "r"
    }
   },
   "outputs": [
    {
     "data": {
      "text/html": [
       "<table class=\"dataframe\">\n",
       "<caption>A tibble: 6 x 3</caption>\n",
       "<thead>\n",
       "\t<tr><th scope=col>basename</th><th scope=col>TRBV</th><th scope=col>Vfrac</th></tr>\n",
       "\t<tr><th scope=col>&lt;chr&gt;</th><th scope=col>&lt;chr&gt;</th><th scope=col>&lt;dbl&gt;</th></tr>\n",
       "</thead>\n",
       "<tbody>\n",
       "\t<tr><td>CHP_323-03_cfDNA</td><td>TRBV10-3</td><td>0.0485158089</td></tr>\n",
       "\t<tr><td>CHP_323-03_cfDNA</td><td>TRBV11-1</td><td>0.0002344231</td></tr>\n",
       "\t<tr><td>CHP_323-03_cfDNA</td><td>TRBV11-2</td><td>0.0104806650</td></tr>\n",
       "\t<tr><td>CHP_323-03_cfDNA</td><td>TRBV11-3</td><td>0.0118383653</td></tr>\n",
       "\t<tr><td>CHP_323-03_cfDNA</td><td>TRBV12-3</td><td>0.0005372195</td></tr>\n",
       "\t<tr><td>CHP_323-03_cfDNA</td><td>TRBV12-4</td><td>0.0192715303</td></tr>\n",
       "</tbody>\n",
       "</table>\n"
      ],
      "text/latex": [
       "A tibble: 6 x 3\n",
       "\\begin{tabular}{lll}\n",
       " basename & TRBV & Vfrac\\\\\n",
       " <chr> & <chr> & <dbl>\\\\\n",
       "\\hline\n",
       "\t CHP\\_323-03\\_cfDNA & TRBV10-3 & 0.0485158089\\\\\n",
       "\t CHP\\_323-03\\_cfDNA & TRBV11-1 & 0.0002344231\\\\\n",
       "\t CHP\\_323-03\\_cfDNA & TRBV11-2 & 0.0104806650\\\\\n",
       "\t CHP\\_323-03\\_cfDNA & TRBV11-3 & 0.0118383653\\\\\n",
       "\t CHP\\_323-03\\_cfDNA & TRBV12-3 & 0.0005372195\\\\\n",
       "\t CHP\\_323-03\\_cfDNA & TRBV12-4 & 0.0192715303\\\\\n",
       "\\end{tabular}\n"
      ],
      "text/markdown": [
       "\n",
       "A tibble: 6 x 3\n",
       "\n",
       "| basename &lt;chr&gt; | TRBV &lt;chr&gt; | Vfrac &lt;dbl&gt; |\n",
       "|---|---|---|\n",
       "| CHP_323-03_cfDNA | TRBV10-3 | 0.0485158089 |\n",
       "| CHP_323-03_cfDNA | TRBV11-1 | 0.0002344231 |\n",
       "| CHP_323-03_cfDNA | TRBV11-2 | 0.0104806650 |\n",
       "| CHP_323-03_cfDNA | TRBV11-3 | 0.0118383653 |\n",
       "| CHP_323-03_cfDNA | TRBV12-3 | 0.0005372195 |\n",
       "| CHP_323-03_cfDNA | TRBV12-4 | 0.0192715303 |\n",
       "\n"
      ],
      "text/plain": [
       "  basename         TRBV     Vfrac       \n",
       "1 CHP_323-03_cfDNA TRBV10-3 0.0485158089\n",
       "2 CHP_323-03_cfDNA TRBV11-1 0.0002344231\n",
       "3 CHP_323-03_cfDNA TRBV11-2 0.0104806650\n",
       "4 CHP_323-03_cfDNA TRBV11-3 0.0118383653\n",
       "5 CHP_323-03_cfDNA TRBV12-3 0.0005372195\n",
       "6 CHP_323-03_cfDNA TRBV12-4 0.0192715303"
      ]
     },
     "metadata": {},
     "output_type": "display_data"
    }
   ],
   "source": [
    "head(int_v)"
   ]
  },
  {
   "cell_type": "code",
   "execution_count": 35,
   "metadata": {
    "vscode": {
     "languageId": "r"
    }
   },
   "outputs": [],
   "source": [
    "int_v_fraction <- tidyr::pivot_wider(int_v, names_from = \"TRBV\", values_from = \"Vfrac\", values_fill = 0)"
   ]
  },
  {
   "cell_type": "code",
   "execution_count": 36,
   "metadata": {
    "vscode": {
     "languageId": "r"
    }
   },
   "outputs": [],
   "source": [
    "int_v_fraction <- as.data.frame(int_v_fraction)\n",
    "rownames(int_v_fraction) <- int_v_fraction$basename\n",
    "int_v_fraction$basename <- NULL"
   ]
  },
  {
   "cell_type": "code",
   "execution_count": 37,
   "metadata": {
    "vscode": {
     "languageId": "r"
    }
   },
   "outputs": [],
   "source": [
    "readr::write_rds(int_v_fraction, paste0(datapath, \"capTCRseq/int_cfdna_v_fraction.rds\"))"
   ]
  },
  {
   "cell_type": "code",
   "execution_count": null,
   "metadata": {
    "vscode": {
     "languageId": "r"
    }
   },
   "outputs": [],
   "source": []
  },
  {
   "cell_type": "code",
   "execution_count": 15,
   "metadata": {
    "vscode": {
     "languageId": "r"
    }
   },
   "outputs": [],
   "source": [
    "# should be done for all files\n",
    "vfreq <- int_v_j_cdr3_l %>% group_by(TRBV) %>% tally() %>% arrange(desc(n)) %>% mutate(freq = n/sum(n)) %>% ungroup()"
   ]
  },
  {
   "cell_type": "code",
   "execution_count": 16,
   "metadata": {
    "vscode": {
     "languageId": "r"
    }
   },
   "outputs": [
    {
     "data": {
      "text/html": [
       "<table class=\"dataframe\">\n",
       "<caption>A tibble: 6 x 3</caption>\n",
       "<thead>\n",
       "\t<tr><th scope=col>TRBV</th><th scope=col>n</th><th scope=col>freq</th></tr>\n",
       "\t<tr><th scope=col>&lt;chr&gt;</th><th scope=col>&lt;int&gt;</th><th scope=col>&lt;dbl&gt;</th></tr>\n",
       "</thead>\n",
       "<tbody>\n",
       "\t<tr><td>TRBV20-1</td><td>280</td><td>0.07510730</td></tr>\n",
       "\t<tr><td>TRBV19  </td><td>245</td><td>0.06571888</td></tr>\n",
       "\t<tr><td>TRBV5-1 </td><td>211</td><td>0.05659871</td></tr>\n",
       "\t<tr><td>TRBV28  </td><td>173</td><td>0.04640558</td></tr>\n",
       "\t<tr><td>TRBV6-5 </td><td>161</td><td>0.04318670</td></tr>\n",
       "\t<tr><td>TRBV27  </td><td>155</td><td>0.04157725</td></tr>\n",
       "</tbody>\n",
       "</table>\n"
      ],
      "text/latex": [
       "A tibble: 6 x 3\n",
       "\\begin{tabular}{lll}\n",
       " TRBV & n & freq\\\\\n",
       " <chr> & <int> & <dbl>\\\\\n",
       "\\hline\n",
       "\t TRBV20-1 & 280 & 0.07510730\\\\\n",
       "\t TRBV19   & 245 & 0.06571888\\\\\n",
       "\t TRBV5-1  & 211 & 0.05659871\\\\\n",
       "\t TRBV28   & 173 & 0.04640558\\\\\n",
       "\t TRBV6-5  & 161 & 0.04318670\\\\\n",
       "\t TRBV27   & 155 & 0.04157725\\\\\n",
       "\\end{tabular}\n"
      ],
      "text/markdown": [
       "\n",
       "A tibble: 6 x 3\n",
       "\n",
       "| TRBV &lt;chr&gt; | n &lt;int&gt; | freq &lt;dbl&gt; |\n",
       "|---|---|---|\n",
       "| TRBV20-1 | 280 | 0.07510730 |\n",
       "| TRBV19   | 245 | 0.06571888 |\n",
       "| TRBV5-1  | 211 | 0.05659871 |\n",
       "| TRBV28   | 173 | 0.04640558 |\n",
       "| TRBV6-5  | 161 | 0.04318670 |\n",
       "| TRBV27   | 155 | 0.04157725 |\n",
       "\n"
      ],
      "text/plain": [
       "  TRBV     n   freq      \n",
       "1 TRBV20-1 280 0.07510730\n",
       "2 TRBV19   245 0.06571888\n",
       "3 TRBV5-1  211 0.05659871\n",
       "4 TRBV28   173 0.04640558\n",
       "5 TRBV6-5  161 0.04318670\n",
       "6 TRBV27   155 0.04157725"
      ]
     },
     "metadata": {},
     "output_type": "display_data"
    }
   ],
   "source": [
    "head(vfreq)"
   ]
  },
  {
   "cell_type": "code",
   "execution_count": 17,
   "metadata": {
    "vscode": {
     "languageId": "r"
    }
   },
   "outputs": [
    {
     "data": {
      "text/html": [
       "<table class=\"dataframe\">\n",
       "<caption>A tibble: 6 x 3</caption>\n",
       "<thead>\n",
       "\t<tr><th scope=col>TRBV</th><th scope=col>n</th><th scope=col>freq</th></tr>\n",
       "\t<tr><th scope=col>&lt;chr&gt;</th><th scope=col>&lt;int&gt;</th><th scope=col>&lt;dbl&gt;</th></tr>\n",
       "</thead>\n",
       "<tbody>\n",
       "\t<tr><td>TRBV17 </td><td>1</td><td>0.0002682403</td></tr>\n",
       "\t<tr><td>TRBV5-7</td><td>1</td><td>0.0002682403</td></tr>\n",
       "\t<tr><td>TRBV6-7</td><td>1</td><td>0.0002682403</td></tr>\n",
       "\t<tr><td>TRBV7-1</td><td>1</td><td>0.0002682403</td></tr>\n",
       "\t<tr><td>TRBV7-4</td><td>1</td><td>0.0002682403</td></tr>\n",
       "\t<tr><td>TRBV7-5</td><td>1</td><td>0.0002682403</td></tr>\n",
       "</tbody>\n",
       "</table>\n"
      ],
      "text/latex": [
       "A tibble: 6 x 3\n",
       "\\begin{tabular}{lll}\n",
       " TRBV & n & freq\\\\\n",
       " <chr> & <int> & <dbl>\\\\\n",
       "\\hline\n",
       "\t TRBV17  & 1 & 0.0002682403\\\\\n",
       "\t TRBV5-7 & 1 & 0.0002682403\\\\\n",
       "\t TRBV6-7 & 1 & 0.0002682403\\\\\n",
       "\t TRBV7-1 & 1 & 0.0002682403\\\\\n",
       "\t TRBV7-4 & 1 & 0.0002682403\\\\\n",
       "\t TRBV7-5 & 1 & 0.0002682403\\\\\n",
       "\\end{tabular}\n"
      ],
      "text/markdown": [
       "\n",
       "A tibble: 6 x 3\n",
       "\n",
       "| TRBV &lt;chr&gt; | n &lt;int&gt; | freq &lt;dbl&gt; |\n",
       "|---|---|---|\n",
       "| TRBV17  | 1 | 0.0002682403 |\n",
       "| TRBV5-7 | 1 | 0.0002682403 |\n",
       "| TRBV6-7 | 1 | 0.0002682403 |\n",
       "| TRBV7-1 | 1 | 0.0002682403 |\n",
       "| TRBV7-4 | 1 | 0.0002682403 |\n",
       "| TRBV7-5 | 1 | 0.0002682403 |\n",
       "\n"
      ],
      "text/plain": [
       "  TRBV    n freq        \n",
       "1 TRBV17  1 0.0002682403\n",
       "2 TRBV5-7 1 0.0002682403\n",
       "3 TRBV6-7 1 0.0002682403\n",
       "4 TRBV7-1 1 0.0002682403\n",
       "5 TRBV7-4 1 0.0002682403\n",
       "6 TRBV7-5 1 0.0002682403"
      ]
     },
     "metadata": {},
     "output_type": "display_data"
    }
   ],
   "source": [
    "tail(vfreq)"
   ]
  },
  {
   "cell_type": "code",
   "execution_count": 18,
   "metadata": {
    "vscode": {
     "languageId": "r"
    }
   },
   "outputs": [],
   "source": [
    "readr::write_rds(vfreq, paste0(datapath, \"capTCRseq/vfreq_int_cfdna.rds\"))"
   ]
  },
  {
   "cell_type": "code",
   "execution_count": 19,
   "metadata": {
    "vscode": {
     "languageId": "r"
    }
   },
   "outputs": [
    {
     "data": {
      "text/plain": [
       "     Min.   1st Qu.    Median      Mean   3rd Qu.      Max. \n",
       "0.0002682 0.0049625 0.0112661 0.0172414 0.0235381 0.0751073 "
      ]
     },
     "metadata": {},
     "output_type": "display_data"
    }
   ],
   "source": [
    "summary(vfreq$freq)"
   ]
  },
  {
   "cell_type": "code",
   "execution_count": 20,
   "metadata": {
    "vscode": {
     "languageId": "r"
    }
   },
   "outputs": [],
   "source": [
    "#low frequency V genes\n",
    "lowfreq_v <- vfreq$TRBV[vfreq$freq < 0.001 ]"
   ]
  },
  {
   "cell_type": "code",
   "execution_count": 21,
   "metadata": {
    "vscode": {
     "languageId": "r"
    }
   },
   "outputs": [
    {
     "data": {
      "text/html": [
       "<style>\n",
       ".list-inline {list-style: none; margin:0; padding: 0}\n",
       ".list-inline>li {display: inline-block}\n",
       ".list-inline>li:not(:last-child)::after {content: \"\\00b7\"; padding: 0 .5ex}\n",
       "</style>\n",
       "<ol class=list-inline><li>'TRBV12-1'</li><li>'TRBV12-2'</li><li>'TRBV16'</li><li>'TRBV17'</li><li>'TRBV5-7'</li><li>'TRBV6-7'</li><li>'TRBV7-1'</li><li>'TRBV7-4'</li><li>'TRBV7-5'</li></ol>\n"
      ],
      "text/latex": [
       "\\begin{enumerate*}\n",
       "\\item 'TRBV12-1'\n",
       "\\item 'TRBV12-2'\n",
       "\\item 'TRBV16'\n",
       "\\item 'TRBV17'\n",
       "\\item 'TRBV5-7'\n",
       "\\item 'TRBV6-7'\n",
       "\\item 'TRBV7-1'\n",
       "\\item 'TRBV7-4'\n",
       "\\item 'TRBV7-5'\n",
       "\\end{enumerate*}\n"
      ],
      "text/markdown": [
       "1. 'TRBV12-1'\n",
       "2. 'TRBV12-2'\n",
       "3. 'TRBV16'\n",
       "4. 'TRBV17'\n",
       "5. 'TRBV5-7'\n",
       "6. 'TRBV6-7'\n",
       "7. 'TRBV7-1'\n",
       "8. 'TRBV7-4'\n",
       "9. 'TRBV7-5'\n",
       "\n",
       "\n"
      ],
      "text/plain": [
       "[1] \"TRBV12-1\" \"TRBV12-2\" \"TRBV16\"   \"TRBV17\"   \"TRBV5-7\"  \"TRBV6-7\"  \"TRBV7-1\" \n",
       "[8] \"TRBV7-4\"  \"TRBV7-5\" "
      ]
     },
     "metadata": {},
     "output_type": "display_data"
    }
   ],
   "source": [
    "lowfreq_v"
   ]
  },
  {
   "cell_type": "code",
   "execution_count": 22,
   "metadata": {
    "vscode": {
     "languageId": "r"
    }
   },
   "outputs": [
    {
     "data": {
      "image/png": "[encoded data removed]",
      "text/plain": [
       "Plot with title \"Histogram of vfreq$freq\""
      ]
     },
     "metadata": {
      "image/png": {
       "height": 420,
       "width": 420
      }
     },
     "output_type": "display_data"
    }
   ],
   "source": [
    "hist(vfreq$freq, breaks = 100)"
   ]
  },
  {
   "cell_type": "code",
   "execution_count": 23,
   "metadata": {
    "vscode": {
     "languageId": "r"
    }
   },
   "outputs": [],
   "source": [
    "vgene_mat <- as.data.frame.matrix(table(int_v_j_cdr3_l %>% select(basename, TRBV  )))"
   ]
  },
  {
   "cell_type": "code",
   "execution_count": 24,
   "metadata": {
    "vscode": {
     "languageId": "r"
    }
   },
   "outputs": [
    {
     "data": {
      "text/html": [
       "<table class=\"dataframe\">\n",
       "<caption>A data.frame: 6 x 58</caption>\n",
       "<thead>\n",
       "\t<tr><th></th><th scope=col>TRBV1</th><th scope=col>TRBV10-1</th><th scope=col>TRBV10-2</th><th scope=col>TRBV10-3</th><th scope=col>TRBV11-1</th><th scope=col>TRBV11-2</th><th scope=col>TRBV11-3</th><th scope=col>TRBV12-1</th><th scope=col>TRBV12-2</th><th scope=col>TRBV12-3</th><th scope=col>...</th><th scope=col>TRBV7-1</th><th scope=col>TRBV7-2</th><th scope=col>TRBV7-3</th><th scope=col>TRBV7-4</th><th scope=col>TRBV7-5</th><th scope=col>TRBV7-6</th><th scope=col>TRBV7-7</th><th scope=col>TRBV7-8</th><th scope=col>TRBV7-9</th><th scope=col>TRBV9</th></tr>\n",
       "\t<tr><th></th><th scope=col>&lt;int&gt;</th><th scope=col>&lt;int&gt;</th><th scope=col>&lt;int&gt;</th><th scope=col>&lt;int&gt;</th><th scope=col>&lt;int&gt;</th><th scope=col>&lt;int&gt;</th><th scope=col>&lt;int&gt;</th><th scope=col>&lt;int&gt;</th><th scope=col>&lt;int&gt;</th><th scope=col>&lt;int&gt;</th><th scope=col>...</th><th scope=col>&lt;int&gt;</th><th scope=col>&lt;int&gt;</th><th scope=col>&lt;int&gt;</th><th scope=col>&lt;int&gt;</th><th scope=col>&lt;int&gt;</th><th scope=col>&lt;int&gt;</th><th scope=col>&lt;int&gt;</th><th scope=col>&lt;int&gt;</th><th scope=col>&lt;int&gt;</th><th scope=col>&lt;int&gt;</th></tr>\n",
       "</thead>\n",
       "<tbody>\n",
       "\t<tr><th scope=row>CHP_323-03_cfDNA</th><td>0</td><td>0</td><td>0</td><td>5</td><td>1</td><td>4</td><td>1</td><td>0</td><td>0</td><td>1</td><td>...</td><td>0</td><td>0</td><td>0</td><td>0</td><td>0</td><td>2</td><td>1</td><td>1</td><td>0</td><td>9</td></tr>\n",
       "\t<tr><th scope=row>CHP_323-05_cfDNA</th><td>0</td><td>0</td><td>0</td><td>0</td><td>0</td><td>0</td><td>0</td><td>0</td><td>0</td><td>0</td><td>...</td><td>0</td><td>0</td><td>0</td><td>0</td><td>0</td><td>0</td><td>0</td><td>0</td><td>2</td><td>2</td></tr>\n",
       "\t<tr><th scope=row>CHP_324-04_cfDNA</th><td>0</td><td>0</td><td>0</td><td>0</td><td>0</td><td>0</td><td>0</td><td>0</td><td>0</td><td>0</td><td>...</td><td>0</td><td>0</td><td>0</td><td>0</td><td>0</td><td>0</td><td>0</td><td>0</td><td>0</td><td>0</td></tr>\n",
       "\t<tr><th scope=row>CHP_324-05_cfDNA</th><td>0</td><td>0</td><td>0</td><td>0</td><td>0</td><td>0</td><td>0</td><td>0</td><td>0</td><td>0</td><td>...</td><td>0</td><td>0</td><td>0</td><td>0</td><td>0</td><td>0</td><td>0</td><td>0</td><td>0</td><td>0</td></tr>\n",
       "\t<tr><th scope=row>CHP_326-05_cfDNA</th><td>0</td><td>0</td><td>0</td><td>1</td><td>0</td><td>0</td><td>0</td><td>0</td><td>0</td><td>0</td><td>...</td><td>0</td><td>4</td><td>0</td><td>0</td><td>0</td><td>0</td><td>0</td><td>0</td><td>2</td><td>0</td></tr>\n",
       "\t<tr><th scope=row>CHP_328-05_cfDNA</th><td>0</td><td>0</td><td>0</td><td>0</td><td>0</td><td>0</td><td>0</td><td>0</td><td>0</td><td>0</td><td>...</td><td>0</td><td>0</td><td>0</td><td>0</td><td>0</td><td>0</td><td>0</td><td>0</td><td>0</td><td>0</td></tr>\n",
       "</tbody>\n",
       "</table>\n"
      ],
      "text/latex": [
       "A data.frame: 6 x 58\n",
       "\\begin{tabular}{r|lllllllllllllllllllll}\n",
       "  & TRBV1 & TRBV10-1 & TRBV10-2 & TRBV10-3 & TRBV11-1 & TRBV11-2 & TRBV11-3 & TRBV12-1 & TRBV12-2 & TRBV12-3 & ... & TRBV7-1 & TRBV7-2 & TRBV7-3 & TRBV7-4 & TRBV7-5 & TRBV7-6 & TRBV7-7 & TRBV7-8 & TRBV7-9 & TRBV9\\\\\n",
       "  & <int> & <int> & <int> & <int> & <int> & <int> & <int> & <int> & <int> & <int> & ... & <int> & <int> & <int> & <int> & <int> & <int> & <int> & <int> & <int> & <int>\\\\\n",
       "\\hline\n",
       "\tCHP\\_323-03\\_cfDNA & 0 & 0 & 0 & 5 & 1 & 4 & 1 & 0 & 0 & 1 & ... & 0 & 0 & 0 & 0 & 0 & 2 & 1 & 1 & 0 & 9\\\\\n",
       "\tCHP\\_323-05\\_cfDNA & 0 & 0 & 0 & 0 & 0 & 0 & 0 & 0 & 0 & 0 & ... & 0 & 0 & 0 & 0 & 0 & 0 & 0 & 0 & 2 & 2\\\\\n",
       "\tCHP\\_324-04\\_cfDNA & 0 & 0 & 0 & 0 & 0 & 0 & 0 & 0 & 0 & 0 & ... & 0 & 0 & 0 & 0 & 0 & 0 & 0 & 0 & 0 & 0\\\\\n",
       "\tCHP\\_324-05\\_cfDNA & 0 & 0 & 0 & 0 & 0 & 0 & 0 & 0 & 0 & 0 & ... & 0 & 0 & 0 & 0 & 0 & 0 & 0 & 0 & 0 & 0\\\\\n",
       "\tCHP\\_326-05\\_cfDNA & 0 & 0 & 0 & 1 & 0 & 0 & 0 & 0 & 0 & 0 & ... & 0 & 4 & 0 & 0 & 0 & 0 & 0 & 0 & 2 & 0\\\\\n",
       "\tCHP\\_328-05\\_cfDNA & 0 & 0 & 0 & 0 & 0 & 0 & 0 & 0 & 0 & 0 & ... & 0 & 0 & 0 & 0 & 0 & 0 & 0 & 0 & 0 & 0\\\\\n",
       "\\end{tabular}\n"
      ],
      "text/markdown": [
       "\n",
       "A data.frame: 6 x 58\n",
       "\n",
       "| <!--/--> | TRBV1 &lt;int&gt; | TRBV10-1 &lt;int&gt; | TRBV10-2 &lt;int&gt; | TRBV10-3 &lt;int&gt; | TRBV11-1 &lt;int&gt; | TRBV11-2 &lt;int&gt; | TRBV11-3 &lt;int&gt; | TRBV12-1 &lt;int&gt; | TRBV12-2 &lt;int&gt; | TRBV12-3 &lt;int&gt; | ... ... | TRBV7-1 &lt;int&gt; | TRBV7-2 &lt;int&gt; | TRBV7-3 &lt;int&gt; | TRBV7-4 &lt;int&gt; | TRBV7-5 &lt;int&gt; | TRBV7-6 &lt;int&gt; | TRBV7-7 &lt;int&gt; | TRBV7-8 &lt;int&gt; | TRBV7-9 &lt;int&gt; | TRBV9 &lt;int&gt; |\n",
       "|---|---|---|---|---|---|---|---|---|---|---|---|---|---|---|---|---|---|---|---|---|---|\n",
       "| CHP_323-03_cfDNA | 0 | 0 | 0 | 5 | 1 | 4 | 1 | 0 | 0 | 1 | ... | 0 | 0 | 0 | 0 | 0 | 2 | 1 | 1 | 0 | 9 |\n",
       "| CHP_323-05_cfDNA | 0 | 0 | 0 | 0 | 0 | 0 | 0 | 0 | 0 | 0 | ... | 0 | 0 | 0 | 0 | 0 | 0 | 0 | 0 | 2 | 2 |\n",
       "| CHP_324-04_cfDNA | 0 | 0 | 0 | 0 | 0 | 0 | 0 | 0 | 0 | 0 | ... | 0 | 0 | 0 | 0 | 0 | 0 | 0 | 0 | 0 | 0 |\n",
       "| CHP_324-05_cfDNA | 0 | 0 | 0 | 0 | 0 | 0 | 0 | 0 | 0 | 0 | ... | 0 | 0 | 0 | 0 | 0 | 0 | 0 | 0 | 0 | 0 |\n",
       "| CHP_326-05_cfDNA | 0 | 0 | 0 | 1 | 0 | 0 | 0 | 0 | 0 | 0 | ... | 0 | 4 | 0 | 0 | 0 | 0 | 0 | 0 | 2 | 0 |\n",
       "| CHP_328-05_cfDNA | 0 | 0 | 0 | 0 | 0 | 0 | 0 | 0 | 0 | 0 | ... | 0 | 0 | 0 | 0 | 0 | 0 | 0 | 0 | 0 | 0 |\n",
       "\n"
      ],
      "text/plain": [
       "                 TRBV1 TRBV10-1 TRBV10-2 TRBV10-3 TRBV11-1 TRBV11-2 TRBV11-3\n",
       "CHP_323-03_cfDNA 0     0        0        5        1        4        1       \n",
       "CHP_323-05_cfDNA 0     0        0        0        0        0        0       \n",
       "CHP_324-04_cfDNA 0     0        0        0        0        0        0       \n",
       "CHP_324-05_cfDNA 0     0        0        0        0        0        0       \n",
       "CHP_326-05_cfDNA 0     0        0        1        0        0        0       \n",
       "CHP_328-05_cfDNA 0     0        0        0        0        0        0       \n",
       "                 TRBV12-1 TRBV12-2 TRBV12-3 ... TRBV7-1 TRBV7-2 TRBV7-3 TRBV7-4\n",
       "CHP_323-03_cfDNA 0        0        1        ... 0       0       0       0      \n",
       "CHP_323-05_cfDNA 0        0        0        ... 0       0       0       0      \n",
       "CHP_324-04_cfDNA 0        0        0        ... 0       0       0       0      \n",
       "CHP_324-05_cfDNA 0        0        0        ... 0       0       0       0      \n",
       "CHP_326-05_cfDNA 0        0        0        ... 0       4       0       0      \n",
       "CHP_328-05_cfDNA 0        0        0        ... 0       0       0       0      \n",
       "                 TRBV7-5 TRBV7-6 TRBV7-7 TRBV7-8 TRBV7-9 TRBV9\n",
       "CHP_323-03_cfDNA 0       2       1       1       0       9    \n",
       "CHP_323-05_cfDNA 0       0       0       0       2       2    \n",
       "CHP_324-04_cfDNA 0       0       0       0       0       0    \n",
       "CHP_324-05_cfDNA 0       0       0       0       0       0    \n",
       "CHP_326-05_cfDNA 0       0       0       0       2       0    \n",
       "CHP_328-05_cfDNA 0       0       0       0       0       0    "
      ]
     },
     "metadata": {},
     "output_type": "display_data"
    }
   ],
   "source": [
    "head(vgene_mat)"
   ]
  },
  {
   "cell_type": "code",
   "execution_count": 25,
   "metadata": {
    "vscode": {
     "languageId": "r"
    }
   },
   "outputs": [],
   "source": [
    "readr::write_rds(vgene_mat, paste0(datapath, \"capTCRseq/int_cfdna_vgene_matrix.rds\"))"
   ]
  },
  {
   "cell_type": "code",
   "execution_count": 26,
   "metadata": {
    "vscode": {
     "languageId": "r"
    }
   },
   "outputs": [],
   "source": [
    "# remove lowfreq_v, hf = high freq\n",
    "vgene_mat_hf <- vgene_mat[, !colnames(vgene_mat) %in% lowfreq_v ]"
   ]
  },
  {
   "cell_type": "code",
   "execution_count": 27,
   "metadata": {
    "vscode": {
     "languageId": "r"
    }
   },
   "outputs": [
    {
     "data": {
      "text/html": [
       "<style>\n",
       ".list-inline {list-style: none; margin:0; padding: 0}\n",
       ".list-inline>li {display: inline-block}\n",
       ".list-inline>li:not(:last-child)::after {content: \"\\00b7\"; padding: 0 .5ex}\n",
       "</style>\n",
       "<ol class=list-inline><li>266</li><li>49</li></ol>\n"
      ],
      "text/latex": [
       "\\begin{enumerate*}\n",
       "\\item 266\n",
       "\\item 49\n",
       "\\end{enumerate*}\n"
      ],
      "text/markdown": [
       "1. 266\n",
       "2. 49\n",
       "\n",
       "\n"
      ],
      "text/plain": [
       "[1] 266  49"
      ]
     },
     "metadata": {},
     "output_type": "display_data"
    }
   ],
   "source": [
    "dim(vgene_mat_hf)"
   ]
  },
  {
   "cell_type": "code",
   "execution_count": 28,
   "metadata": {
    "vscode": {
     "languageId": "r"
    }
   },
   "outputs": [
    {
     "data": {
      "text/html": [
       "<style>\n",
       ".list-inline {list-style: none; margin:0; padding: 0}\n",
       ".list-inline>li {display: inline-block}\n",
       ".list-inline>li:not(:last-child)::after {content: \"\\00b7\"; padding: 0 .5ex}\n",
       "</style>\n",
       "<ol class=list-inline><li>266</li><li>58</li></ol>\n"
      ],
      "text/latex": [
       "\\begin{enumerate*}\n",
       "\\item 266\n",
       "\\item 58\n",
       "\\end{enumerate*}\n"
      ],
      "text/markdown": [
       "1. 266\n",
       "2. 58\n",
       "\n",
       "\n"
      ],
      "text/plain": [
       "[1] 266  58"
      ]
     },
     "metadata": {},
     "output_type": "display_data"
    }
   ],
   "source": [
    "dim(vgene_mat)"
   ]
  },
  {
   "cell_type": "code",
   "execution_count": 29,
   "metadata": {
    "vscode": {
     "languageId": "r"
    }
   },
   "outputs": [],
   "source": [
    "cormat <- cor(vgene_mat_hf)"
   ]
  },
  {
   "cell_type": "code",
   "execution_count": 30,
   "metadata": {
    "vscode": {
     "languageId": "r"
    }
   },
   "outputs": [],
   "source": [
    "#vgene_mat_hf[,c(\"TRBV10-3\", \"TRBV7-9\", \"TRBV13\")]"
   ]
  },
  {
   "cell_type": "code",
   "execution_count": 31,
   "metadata": {
    "vscode": {
     "languageId": "r"
    }
   },
   "outputs": [
    {
     "data": {
      "text/plain": [
       "    Min.  1st Qu.   Median     Mean  3rd Qu.     Max. \n",
       "-0.06903  0.15304  0.28437  0.28838  0.40388  1.00000 "
      ]
     },
     "metadata": {},
     "output_type": "display_data"
    }
   ],
   "source": [
    "summary(as.vector(cormat) )\n",
    "\n",
    "# generally high correlation"
   ]
  },
  {
   "cell_type": "markdown",
   "metadata": {},
   "source": [
    "PCA"
   ]
  },
  {
   "cell_type": "code",
   "execution_count": 32,
   "metadata": {
    "vscode": {
     "languageId": "r"
    }
   },
   "outputs": [],
   "source": [
    "mypca <- prcomp(vgene_mat_hf, scale = TRUE)"
   ]
  },
  {
   "cell_type": "code",
   "execution_count": 33,
   "metadata": {
    "vscode": {
     "languageId": "r"
    }
   },
   "outputs": [],
   "source": [
    "out <- mypca$x\n",
    "mydf <- data.frame(out)"
   ]
  },
  {
   "cell_type": "code",
   "execution_count": 34,
   "metadata": {
    "vscode": {
     "languageId": "r"
    }
   },
   "outputs": [
    {
     "data": {
      "text/html": [
       "<table class=\"dataframe\">\n",
       "<caption>A matrix: 6 x 49 of type dbl</caption>\n",
       "<thead>\n",
       "\t<tr><th></th><th scope=col>PC1</th><th scope=col>PC2</th><th scope=col>PC3</th><th scope=col>PC4</th><th scope=col>PC5</th><th scope=col>PC6</th><th scope=col>PC7</th><th scope=col>PC8</th><th scope=col>PC9</th><th scope=col>PC10</th><th scope=col>...</th><th scope=col>PC40</th><th scope=col>PC41</th><th scope=col>PC42</th><th scope=col>PC43</th><th scope=col>PC44</th><th scope=col>PC45</th><th scope=col>PC46</th><th scope=col>PC47</th><th scope=col>PC48</th><th scope=col>PC49</th></tr>\n",
       "</thead>\n",
       "<tbody>\n",
       "\t<tr><th scope=row>CHP_323-03_cfDNA</th><td>15.83866850</td><td> 7.9531074</td><td> 9.4381691</td><td> 0.379325530</td><td> 7.18074505</td><td> 2.79783019</td><td> 0.86589009</td><td>-2.86544186</td><td>-3.158583008</td><td> 2.03969451</td><td>...</td><td> 0.22108475</td><td>-0.23371871</td><td> 0.53776231</td><td>-0.06676863</td><td> 0.10654426</td><td> 0.36256247</td><td> 0.45532059</td><td>-0.4183013</td><td>-0.6505279</td><td> 0.09932753</td></tr>\n",
       "\t<tr><th scope=row>CHP_323-05_cfDNA</th><td> 0.03694791</td><td> 0.2037428</td><td> 0.9895571</td><td>-2.176076742</td><td> 1.07133588</td><td> 1.43146515</td><td> 1.35258930</td><td>-1.37627872</td><td> 1.374466861</td><td> 0.20393558</td><td>...</td><td> 0.72594958</td><td> 0.73361579</td><td>-0.06743142</td><td>-0.63041167</td><td>-0.13500831</td><td> 0.53629075</td><td>-0.30678681</td><td>-0.9411188</td><td> 0.5512794</td><td> 0.18748726</td></tr>\n",
       "\t<tr><th scope=row>CHP_324-04_cfDNA</th><td>-2.42588499</td><td>-0.2790740</td><td> 0.1117550</td><td>-0.094609098</td><td>-0.05604981</td><td> 0.08629582</td><td> 0.03522337</td><td>-0.18379500</td><td> 0.003041802</td><td>-0.02527073</td><td>...</td><td> 0.11972688</td><td>-0.24618071</td><td> 0.22611405</td><td> 0.05030421</td><td> 0.04167489</td><td> 0.07560319</td><td> 0.17417859</td><td>-0.4981331</td><td>-0.3808961</td><td>-0.13662565</td></tr>\n",
       "\t<tr><th scope=row>CHP_324-05_cfDNA</th><td>-2.20171492</td><td>-0.2392266</td><td> 0.1373460</td><td>-0.001147959</td><td> 0.24775824</td><td>-0.06519060</td><td>-0.11251321</td><td>-0.10624861</td><td> 0.365820190</td><td> 0.15327150</td><td>...</td><td>-0.09990993</td><td>-0.30383943</td><td>-0.02730897</td><td> 0.04507368</td><td>-0.01013837</td><td> 0.11729085</td><td> 0.03339129</td><td>-0.1548399</td><td> 0.1263361</td><td> 0.05863072</td></tr>\n",
       "\t<tr><th scope=row>CHP_326-05_cfDNA</th><td> 1.53369308</td><td> 0.6800554</td><td>-0.7668898</td><td> 0.786472419</td><td>-1.81313460</td><td>-0.95346835</td><td> 1.14669547</td><td> 0.08523654</td><td> 0.030848305</td><td> 1.03668470</td><td>...</td><td>-0.04481269</td><td>-0.04475912</td><td>-0.58740858</td><td>-0.19154568</td><td>-0.27191197</td><td>-0.17300584</td><td>-0.05734738</td><td>-0.4438526</td><td> 0.1124433</td><td>-0.28540345</td></tr>\n",
       "\t<tr><th scope=row>CHP_328-05_cfDNA</th><td>-1.73881538</td><td>-0.8087552</td><td>-0.8391630</td><td> 1.129923007</td><td> 0.06742512</td><td> 0.36686128</td><td> 0.05117531</td><td>-0.91311985</td><td> 0.166227110</td><td> 0.61812576</td><td>...</td><td> 0.01893665</td><td> 0.18739052</td><td>-0.35927512</td><td> 0.32878444</td><td> 0.27062479</td><td> 0.50372462</td><td> 0.50081465</td><td> 0.3196915</td><td> 0.2104239</td><td>-0.16289456</td></tr>\n",
       "</tbody>\n",
       "</table>\n"
      ],
      "text/latex": [
       "A matrix: 6 x 49 of type dbl\n",
       "\\begin{tabular}{r|lllllllllllllllllllll}\n",
       "  & PC1 & PC2 & PC3 & PC4 & PC5 & PC6 & PC7 & PC8 & PC9 & PC10 & ... & PC40 & PC41 & PC42 & PC43 & PC44 & PC45 & PC46 & PC47 & PC48 & PC49\\\\\n",
       "\\hline\n",
       "\tCHP\\_323-03\\_cfDNA & 15.83866850 &  7.9531074 &  9.4381691 &  0.379325530 &  7.18074505 &  2.79783019 &  0.86589009 & -2.86544186 & -3.158583008 &  2.03969451 & ... &  0.22108475 & -0.23371871 &  0.53776231 & -0.06676863 &  0.10654426 &  0.36256247 &  0.45532059 & -0.4183013 & -0.6505279 &  0.09932753\\\\\n",
       "\tCHP\\_323-05\\_cfDNA &  0.03694791 &  0.2037428 &  0.9895571 & -2.176076742 &  1.07133588 &  1.43146515 &  1.35258930 & -1.37627872 &  1.374466861 &  0.20393558 & ... &  0.72594958 &  0.73361579 & -0.06743142 & -0.63041167 & -0.13500831 &  0.53629075 & -0.30678681 & -0.9411188 &  0.5512794 &  0.18748726\\\\\n",
       "\tCHP\\_324-04\\_cfDNA & -2.42588499 & -0.2790740 &  0.1117550 & -0.094609098 & -0.05604981 &  0.08629582 &  0.03522337 & -0.18379500 &  0.003041802 & -0.02527073 & ... &  0.11972688 & -0.24618071 &  0.22611405 &  0.05030421 &  0.04167489 &  0.07560319 &  0.17417859 & -0.4981331 & -0.3808961 & -0.13662565\\\\\n",
       "\tCHP\\_324-05\\_cfDNA & -2.20171492 & -0.2392266 &  0.1373460 & -0.001147959 &  0.24775824 & -0.06519060 & -0.11251321 & -0.10624861 &  0.365820190 &  0.15327150 & ... & -0.09990993 & -0.30383943 & -0.02730897 &  0.04507368 & -0.01013837 &  0.11729085 &  0.03339129 & -0.1548399 &  0.1263361 &  0.05863072\\\\\n",
       "\tCHP\\_326-05\\_cfDNA &  1.53369308 &  0.6800554 & -0.7668898 &  0.786472419 & -1.81313460 & -0.95346835 &  1.14669547 &  0.08523654 &  0.030848305 &  1.03668470 & ... & -0.04481269 & -0.04475912 & -0.58740858 & -0.19154568 & -0.27191197 & -0.17300584 & -0.05734738 & -0.4438526 &  0.1124433 & -0.28540345\\\\\n",
       "\tCHP\\_328-05\\_cfDNA & -1.73881538 & -0.8087552 & -0.8391630 &  1.129923007 &  0.06742512 &  0.36686128 &  0.05117531 & -0.91311985 &  0.166227110 &  0.61812576 & ... &  0.01893665 &  0.18739052 & -0.35927512 &  0.32878444 &  0.27062479 &  0.50372462 &  0.50081465 &  0.3196915 &  0.2104239 & -0.16289456\\\\\n",
       "\\end{tabular}\n"
      ],
      "text/markdown": [
       "\n",
       "A matrix: 6 x 49 of type dbl\n",
       "\n",
       "| <!--/--> | PC1 | PC2 | PC3 | PC4 | PC5 | PC6 | PC7 | PC8 | PC9 | PC10 | ... | PC40 | PC41 | PC42 | PC43 | PC44 | PC45 | PC46 | PC47 | PC48 | PC49 |\n",
       "|---|---|---|---|---|---|---|---|---|---|---|---|---|---|---|---|---|---|---|---|---|---|\n",
       "| CHP_323-03_cfDNA | 15.83866850 |  7.9531074 |  9.4381691 |  0.379325530 |  7.18074505 |  2.79783019 |  0.86589009 | -2.86544186 | -3.158583008 |  2.03969451 | ... |  0.22108475 | -0.23371871 |  0.53776231 | -0.06676863 |  0.10654426 |  0.36256247 |  0.45532059 | -0.4183013 | -0.6505279 |  0.09932753 |\n",
       "| CHP_323-05_cfDNA |  0.03694791 |  0.2037428 |  0.9895571 | -2.176076742 |  1.07133588 |  1.43146515 |  1.35258930 | -1.37627872 |  1.374466861 |  0.20393558 | ... |  0.72594958 |  0.73361579 | -0.06743142 | -0.63041167 | -0.13500831 |  0.53629075 | -0.30678681 | -0.9411188 |  0.5512794 |  0.18748726 |\n",
       "| CHP_324-04_cfDNA | -2.42588499 | -0.2790740 |  0.1117550 | -0.094609098 | -0.05604981 |  0.08629582 |  0.03522337 | -0.18379500 |  0.003041802 | -0.02527073 | ... |  0.11972688 | -0.24618071 |  0.22611405 |  0.05030421 |  0.04167489 |  0.07560319 |  0.17417859 | -0.4981331 | -0.3808961 | -0.13662565 |\n",
       "| CHP_324-05_cfDNA | -2.20171492 | -0.2392266 |  0.1373460 | -0.001147959 |  0.24775824 | -0.06519060 | -0.11251321 | -0.10624861 |  0.365820190 |  0.15327150 | ... | -0.09990993 | -0.30383943 | -0.02730897 |  0.04507368 | -0.01013837 |  0.11729085 |  0.03339129 | -0.1548399 |  0.1263361 |  0.05863072 |\n",
       "| CHP_326-05_cfDNA |  1.53369308 |  0.6800554 | -0.7668898 |  0.786472419 | -1.81313460 | -0.95346835 |  1.14669547 |  0.08523654 |  0.030848305 |  1.03668470 | ... | -0.04481269 | -0.04475912 | -0.58740858 | -0.19154568 | -0.27191197 | -0.17300584 | -0.05734738 | -0.4438526 |  0.1124433 | -0.28540345 |\n",
       "| CHP_328-05_cfDNA | -1.73881538 | -0.8087552 | -0.8391630 |  1.129923007 |  0.06742512 |  0.36686128 |  0.05117531 | -0.91311985 |  0.166227110 |  0.61812576 | ... |  0.01893665 |  0.18739052 | -0.35927512 |  0.32878444 |  0.27062479 |  0.50372462 |  0.50081465 |  0.3196915 |  0.2104239 | -0.16289456 |\n",
       "\n"
      ],
      "text/plain": [
       "                 PC1         PC2        PC3        PC4          PC5        \n",
       "CHP_323-03_cfDNA 15.83866850  7.9531074  9.4381691  0.379325530  7.18074505\n",
       "CHP_323-05_cfDNA  0.03694791  0.2037428  0.9895571 -2.176076742  1.07133588\n",
       "CHP_324-04_cfDNA -2.42588499 -0.2790740  0.1117550 -0.094609098 -0.05604981\n",
       "CHP_324-05_cfDNA -2.20171492 -0.2392266  0.1373460 -0.001147959  0.24775824\n",
       "CHP_326-05_cfDNA  1.53369308  0.6800554 -0.7668898  0.786472419 -1.81313460\n",
       "CHP_328-05_cfDNA -1.73881538 -0.8087552 -0.8391630  1.129923007  0.06742512\n",
       "                 PC6         PC7         PC8         PC9          PC10       \n",
       "CHP_323-03_cfDNA  2.79783019  0.86589009 -2.86544186 -3.158583008  2.03969451\n",
       "CHP_323-05_cfDNA  1.43146515  1.35258930 -1.37627872  1.374466861  0.20393558\n",
       "CHP_324-04_cfDNA  0.08629582  0.03522337 -0.18379500  0.003041802 -0.02527073\n",
       "CHP_324-05_cfDNA -0.06519060 -0.11251321 -0.10624861  0.365820190  0.15327150\n",
       "CHP_326-05_cfDNA -0.95346835  1.14669547  0.08523654  0.030848305  1.03668470\n",
       "CHP_328-05_cfDNA  0.36686128  0.05117531 -0.91311985  0.166227110  0.61812576\n",
       "                 ... PC40        PC41        PC42        PC43       \n",
       "CHP_323-03_cfDNA ...  0.22108475 -0.23371871  0.53776231 -0.06676863\n",
       "CHP_323-05_cfDNA ...  0.72594958  0.73361579 -0.06743142 -0.63041167\n",
       "CHP_324-04_cfDNA ...  0.11972688 -0.24618071  0.22611405  0.05030421\n",
       "CHP_324-05_cfDNA ... -0.09990993 -0.30383943 -0.02730897  0.04507368\n",
       "CHP_326-05_cfDNA ... -0.04481269 -0.04475912 -0.58740858 -0.19154568\n",
       "CHP_328-05_cfDNA ...  0.01893665  0.18739052 -0.35927512  0.32878444\n",
       "                 PC44        PC45        PC46        PC47       PC48      \n",
       "CHP_323-03_cfDNA  0.10654426  0.36256247  0.45532059 -0.4183013 -0.6505279\n",
       "CHP_323-05_cfDNA -0.13500831  0.53629075 -0.30678681 -0.9411188  0.5512794\n",
       "CHP_324-04_cfDNA  0.04167489  0.07560319  0.17417859 -0.4981331 -0.3808961\n",
       "CHP_324-05_cfDNA -0.01013837  0.11729085  0.03339129 -0.1548399  0.1263361\n",
       "CHP_326-05_cfDNA -0.27191197 -0.17300584 -0.05734738 -0.4438526  0.1124433\n",
       "CHP_328-05_cfDNA  0.27062479  0.50372462  0.50081465  0.3196915  0.2104239\n",
       "                 PC49       \n",
       "CHP_323-03_cfDNA  0.09932753\n",
       "CHP_323-05_cfDNA  0.18748726\n",
       "CHP_324-04_cfDNA -0.13662565\n",
       "CHP_324-05_cfDNA  0.05863072\n",
       "CHP_326-05_cfDNA -0.28540345\n",
       "CHP_328-05_cfDNA -0.16289456"
      ]
     },
     "metadata": {},
     "output_type": "display_data"
    }
   ],
   "source": [
    "head(out)"
   ]
  },
  {
   "cell_type": "code",
   "execution_count": 35,
   "metadata": {
    "vscode": {
     "languageId": "r"
    }
   },
   "outputs": [],
   "source": [
    "p0 <- fviz_pca_ind(mypca,geom = \"point\", pointshape = 16, pointsize = 2, alpha = 1,\n",
    "                    ellipse.alpha = 0, invisible=\"quali\", repel = TRUE,\n",
    "                       title = \"PCA of frequent V genes (n = 49)\")"
   ]
  },
  {
   "cell_type": "code",
   "execution_count": 36,
   "metadata": {
    "vscode": {
     "languageId": "r"
    }
   },
   "outputs": [
    {
     "data": {
      "image/png": "[encoded data removed]",
      "text/plain": [
       "plot without title"
      ]
     },
     "metadata": {
      "image/png": {
       "height": 420,
       "width": 420
      }
     },
     "output_type": "display_data"
    }
   ],
   "source": [
    "p0"
   ]
  },
  {
   "cell_type": "code",
   "execution_count": 37,
   "metadata": {
    "vscode": {
     "languageId": "r"
    }
   },
   "outputs": [],
   "source": [
    "readr::write_rds(mydf, paste0(datapath, \"/capTCRseq/INT_cfDNA_V_PCA_postqc.rds\"))"
   ]
  },
  {
   "cell_type": "code",
   "execution_count": null,
   "metadata": {
    "vscode": {
     "languageId": "r"
    }
   },
   "outputs": [],
   "source": []
  }
 ],
 "metadata": {
  "kernelspec": {
   "display_name": "R 4.0",
   "language": "R",
   "name": "ir40"
  },
  "language_info": {
   "codemirror_mode": "r",
   "file_extension": ".r",
   "mimetype": "text/x-r-source",
   "name": "R",
   "pygments_lexer": "r",
   "version": "4.2.2"
  },
  "orig_nbformat": 4,
  "vscode": {
   "interpreter": {
    "hash": "aee8b7b246df8f9039afb4144a1f6fd8d2ca17a180786b69acc140d282b71a49"
   }
  }
 },
 "nbformat": 4,
 "nbformat_minor": 2
}

{
 "cells": [
  {
   "cell_type": "code",
   "execution_count": 1,
   "metadata": {
    "vscode": {
     "languageId": "r"
    }
   },
   "outputs": [
    {
     "data": {
      "text/html": [
       "'en_US.UTF-8/en_US.UTF-8/en_US.UTF-8/C/en_US.UTF-8/C'"
      ],
      "text/latex": [
       "'en\\_US.UTF-8/en\\_US.UTF-8/en\\_US.UTF-8/C/en\\_US.UTF-8/C'"
      ],
      "text/markdown": [
       "'en_US.UTF-8/en_US.UTF-8/en_US.UTF-8/C/en_US.UTF-8/C'"
      ],
      "text/plain": [
       "[1] \"en_US.UTF-8/en_US.UTF-8/en_US.UTF-8/C/en_US.UTF-8/C\""
      ]
     },
     "metadata": {},
     "output_type": "display_data"
    }
   ],
   "source": [
    "Sys.setlocale(category = \"LC_ALL\", locale = \"en_US.UTF-8\")"
   ]
  },
  {
   "attachments": {},
   "cell_type": "markdown",
   "metadata": {},
   "source": [
    "# Dependencies"
   ]
  },
  {
   "cell_type": "code",
   "execution_count": 2,
   "metadata": {
    "vscode": {
     "languageId": "r"
    }
   },
   "outputs": [],
   "source": [
    "pacman::p_load(ggplot2)"
   ]
  },
  {
   "attachments": {},
   "cell_type": "markdown",
   "metadata": {},
   "source": [
    "# Functions"
   ]
  },
  {
   "cell_type": "code",
   "execution_count": 3,
   "metadata": {
    "vscode": {
     "languageId": "r"
    }
   },
   "outputs": [],
   "source": [
    "source(\"/Users/anabbi/git/ped_CapTCRseq/R/ggplot2_theme.R\")\n",
    "source(\"/Users/anabbi/git/ped_CapTCRseq/R/color_schemes.R\")\n",
    "source(\"/Users/anabbi/git/ped_CapTCRseq/R/Misc_functions.R\")"
   ]
  },
  {
   "attachments": {},
   "cell_type": "markdown",
   "metadata": {},
   "source": [
    "# Paths"
   ]
  },
  {
   "cell_type": "code",
   "execution_count": 4,
   "metadata": {
    "vscode": {
     "languageId": "r"
    }
   },
   "outputs": [],
   "source": [
    "datapath <- \"/Users/anabbi/OneDrive - UHN/Documents/INTERCEPT/Data/\"\n",
    "plotpath <- \"/Users/anabbi/OneDrive - UHN/Documents/INTERCEPT/Plots/\"\n",
    "manifestpath <- \"/Users/anabbi/OneDrive - UHN/Documents/INTERCEPT/Manifests/\"\n",
    "gitpath <- \"/Users/anabbi/git/ped_CapTCRseq/\""
   ]
  },
  {
   "attachments": {},
   "cell_type": "markdown",
   "metadata": {},
   "source": [
    "# Main"
   ]
  },
  {
   "cell_type": "code",
   "execution_count": 5,
   "metadata": {
    "vscode": {
     "languageId": "r"
    }
   },
   "outputs": [],
   "source": [
    "metadata <- read.csv(\n",
    "    file = paste0(datapath, \"INT_metadata_flow.csv\"),\n",
    "    header = T, stringsAsFactors = F, colClasses = c(\"cycle\" = \"character\"), check.names = F\n",
    ")\n"
   ]
  },
  {
   "cell_type": "code",
   "execution_count": 6,
   "metadata": {
    "vscode": {
     "languageId": "r"
    }
   },
   "outputs": [
    {
     "data": {
      "text/html": [
       "<table class=\"dataframe\">\n",
       "<caption>A data.frame: 6 x 42</caption>\n",
       "<thead>\n",
       "\t<tr><th></th><th scope=col>Patient</th><th scope=col>cycle</th><th scope=col>FOLD</th><th scope=col>ATC</th><th scope=col>Age</th><th scope=col>Disease_type</th><th scope=col>TE_fold</th><th scope=col>CD3</th><th scope=col>EM</th><th scope=col>CM</th><th scope=col>...</th><th scope=col>cancergroup</th><th scope=col>agegroup</th><th scope=col>foldgroup</th><th scope=col>sample_id</th><th scope=col>Remission</th><th scope=col>Relapse</th><th scope=col>Transplant</th><th scope=col>CART</th><th scope=col>vital_status</th><th scope=col>LOF</th></tr>\n",
       "\t<tr><th></th><th scope=col>&lt;chr&gt;</th><th scope=col>&lt;chr&gt;</th><th scope=col>&lt;dbl&gt;</th><th scope=col>&lt;dbl&gt;</th><th scope=col>&lt;dbl&gt;</th><th scope=col>&lt;chr&gt;</th><th scope=col>&lt;dbl&gt;</th><th scope=col>&lt;int&gt;</th><th scope=col>&lt;int&gt;</th><th scope=col>&lt;int&gt;</th><th scope=col>...</th><th scope=col>&lt;chr&gt;</th><th scope=col>&lt;chr&gt;</th><th scope=col>&lt;chr&gt;</th><th scope=col>&lt;chr&gt;</th><th scope=col>&lt;int&gt;</th><th scope=col>&lt;int&gt;</th><th scope=col>&lt;int&gt;</th><th scope=col>&lt;int&gt;</th><th scope=col>&lt;int&gt;</th><th scope=col>&lt;int&gt;</th></tr>\n",
       "</thead>\n",
       "<tbody>\n",
       "\t<tr><th scope=row>1</th><td>CHP_319</td><td>01</td><td>1.4</td><td>0</td><td>1</td><td>HR ALL</td><td>1.4</td><td>0</td><td>NA</td><td>NA</td><td>...</td><td>Leukemia</td><td>&lt; 2 yrs </td><td>Low </td><td>CHP_319_01</td><td>0</td><td>1</td><td>0</td><td>1</td><td>1</td><td>0</td></tr>\n",
       "\t<tr><th scope=row>2</th><td>CHP_319</td><td>02</td><td>7.9</td><td>0</td><td>1</td><td>HR ALL</td><td>7.9</td><td>0</td><td>NA</td><td>NA</td><td>...</td><td>Leukemia</td><td>&lt; 2 yrs </td><td>High</td><td>CHP_319_02</td><td>0</td><td>1</td><td>0</td><td>1</td><td>1</td><td>0</td></tr>\n",
       "\t<tr><th scope=row>3</th><td>CHP_319</td><td>03</td><td>1.8</td><td>0</td><td>1</td><td>HR ALL</td><td>1.8</td><td>0</td><td>NA</td><td>NA</td><td>...</td><td>Leukemia</td><td>&lt; 2 yrs </td><td>Low </td><td>CHP_319_03</td><td>0</td><td>1</td><td>0</td><td>1</td><td>1</td><td>0</td></tr>\n",
       "\t<tr><th scope=row>4</th><td>CHP_319</td><td>04</td><td>1.5</td><td>0</td><td>1</td><td>HR ALL</td><td>1.5</td><td>0</td><td>NA</td><td>NA</td><td>...</td><td>Leukemia</td><td>&lt; 2 yrs </td><td>Low </td><td>CHP_319_04</td><td>0</td><td>1</td><td>0</td><td>1</td><td>1</td><td>0</td></tr>\n",
       "\t<tr><th scope=row>5</th><td>CHP_319</td><td>05</td><td>1.2</td><td>0</td><td>1</td><td>HR ALL</td><td>1.2</td><td>0</td><td>NA</td><td>NA</td><td>...</td><td>Leukemia</td><td>&lt; 2 yrs </td><td>Low </td><td>CHP_319_05</td><td>0</td><td>1</td><td>0</td><td>1</td><td>1</td><td>0</td></tr>\n",
       "\t<tr><th scope=row>6</th><td>CHP_320</td><td>01</td><td>8.9</td><td>0</td><td>6</td><td>AML   </td><td>8.9</td><td>0</td><td>NA</td><td>NA</td><td>...</td><td>Leukemia</td><td>5-11 yrs</td><td>High</td><td>CHP_320_01</td><td>0</td><td>1</td><td>0</td><td>0</td><td>1</td><td>0</td></tr>\n",
       "</tbody>\n",
       "</table>\n"
      ],
      "text/latex": [
       "A data.frame: 6 x 42\n",
       "\\begin{tabular}{r|lllllllllllllllllllll}\n",
       "  & Patient & cycle & FOLD & ATC & Age & Disease\\_type & TE\\_fold & CD3 & EM & CM & ... & cancergroup & agegroup & foldgroup & sample\\_id & Remission & Relapse & Transplant & CART & vital\\_status & LOF\\\\\n",
       "  & <chr> & <chr> & <dbl> & <dbl> & <dbl> & <chr> & <dbl> & <int> & <int> & <int> & ... & <chr> & <chr> & <chr> & <chr> & <int> & <int> & <int> & <int> & <int> & <int>\\\\\n",
       "\\hline\n",
       "\t1 & CHP\\_319 & 01 & 1.4 & 0 & 1 & HR ALL & 1.4 & 0 & NA & NA & ... & Leukemia & < 2 yrs  & Low  & CHP\\_319\\_01 & 0 & 1 & 0 & 1 & 1 & 0\\\\\n",
       "\t2 & CHP\\_319 & 02 & 7.9 & 0 & 1 & HR ALL & 7.9 & 0 & NA & NA & ... & Leukemia & < 2 yrs  & High & CHP\\_319\\_02 & 0 & 1 & 0 & 1 & 1 & 0\\\\\n",
       "\t3 & CHP\\_319 & 03 & 1.8 & 0 & 1 & HR ALL & 1.8 & 0 & NA & NA & ... & Leukemia & < 2 yrs  & Low  & CHP\\_319\\_03 & 0 & 1 & 0 & 1 & 1 & 0\\\\\n",
       "\t4 & CHP\\_319 & 04 & 1.5 & 0 & 1 & HR ALL & 1.5 & 0 & NA & NA & ... & Leukemia & < 2 yrs  & Low  & CHP\\_319\\_04 & 0 & 1 & 0 & 1 & 1 & 0\\\\\n",
       "\t5 & CHP\\_319 & 05 & 1.2 & 0 & 1 & HR ALL & 1.2 & 0 & NA & NA & ... & Leukemia & < 2 yrs  & Low  & CHP\\_319\\_05 & 0 & 1 & 0 & 1 & 1 & 0\\\\\n",
       "\t6 & CHP\\_320 & 01 & 8.9 & 0 & 6 & AML    & 8.9 & 0 & NA & NA & ... & Leukemia & 5-11 yrs & High & CHP\\_320\\_01 & 0 & 1 & 0 & 0 & 1 & 0\\\\\n",
       "\\end{tabular}\n"
      ],
      "text/markdown": [
       "\n",
       "A data.frame: 6 x 42\n",
       "\n",
       "| <!--/--> | Patient &lt;chr&gt; | cycle &lt;chr&gt; | FOLD &lt;dbl&gt; | ATC &lt;dbl&gt; | Age &lt;dbl&gt; | Disease_type &lt;chr&gt; | TE_fold &lt;dbl&gt; | CD3 &lt;int&gt; | EM &lt;int&gt; | CM &lt;int&gt; | ... ... | cancergroup &lt;chr&gt; | agegroup &lt;chr&gt; | foldgroup &lt;chr&gt; | sample_id &lt;chr&gt; | Remission &lt;int&gt; | Relapse &lt;int&gt; | Transplant &lt;int&gt; | CART &lt;int&gt; | vital_status &lt;int&gt; | LOF &lt;int&gt; |\n",
       "|---|---|---|---|---|---|---|---|---|---|---|---|---|---|---|---|---|---|---|---|---|---|\n",
       "| 1 | CHP_319 | 01 | 1.4 | 0 | 1 | HR ALL | 1.4 | 0 | NA | NA | ... | Leukemia | &lt; 2 yrs  | Low  | CHP_319_01 | 0 | 1 | 0 | 1 | 1 | 0 |\n",
       "| 2 | CHP_319 | 02 | 7.9 | 0 | 1 | HR ALL | 7.9 | 0 | NA | NA | ... | Leukemia | &lt; 2 yrs  | High | CHP_319_02 | 0 | 1 | 0 | 1 | 1 | 0 |\n",
       "| 3 | CHP_319 | 03 | 1.8 | 0 | 1 | HR ALL | 1.8 | 0 | NA | NA | ... | Leukemia | &lt; 2 yrs  | Low  | CHP_319_03 | 0 | 1 | 0 | 1 | 1 | 0 |\n",
       "| 4 | CHP_319 | 04 | 1.5 | 0 | 1 | HR ALL | 1.5 | 0 | NA | NA | ... | Leukemia | &lt; 2 yrs  | Low  | CHP_319_04 | 0 | 1 | 0 | 1 | 1 | 0 |\n",
       "| 5 | CHP_319 | 05 | 1.2 | 0 | 1 | HR ALL | 1.2 | 0 | NA | NA | ... | Leukemia | &lt; 2 yrs  | Low  | CHP_319_05 | 0 | 1 | 0 | 1 | 1 | 0 |\n",
       "| 6 | CHP_320 | 01 | 8.9 | 0 | 6 | AML    | 8.9 | 0 | NA | NA | ... | Leukemia | 5-11 yrs | High | CHP_320_01 | 0 | 1 | 0 | 0 | 1 | 0 |\n",
       "\n"
      ],
      "text/plain": [
       "  Patient cycle FOLD ATC Age Disease_type TE_fold CD3 EM CM ... cancergroup\n",
       "1 CHP_319 01    1.4  0   1   HR ALL       1.4     0   NA NA ... Leukemia   \n",
       "2 CHP_319 02    7.9  0   1   HR ALL       7.9     0   NA NA ... Leukemia   \n",
       "3 CHP_319 03    1.8  0   1   HR ALL       1.8     0   NA NA ... Leukemia   \n",
       "4 CHP_319 04    1.5  0   1   HR ALL       1.5     0   NA NA ... Leukemia   \n",
       "5 CHP_319 05    1.2  0   1   HR ALL       1.2     0   NA NA ... Leukemia   \n",
       "6 CHP_320 01    8.9  0   6   AML          8.9     0   NA NA ... Leukemia   \n",
       "  agegroup foldgroup sample_id  Remission Relapse Transplant CART vital_status\n",
       "1 < 2 yrs  Low       CHP_319_01 0         1       0          1    1           \n",
       "2 < 2 yrs  High      CHP_319_02 0         1       0          1    1           \n",
       "3 < 2 yrs  Low       CHP_319_03 0         1       0          1    1           \n",
       "4 < 2 yrs  Low       CHP_319_04 0         1       0          1    1           \n",
       "5 < 2 yrs  Low       CHP_319_05 0         1       0          1    1           \n",
       "6 5-11 yrs High      CHP_320_01 0         1       0          0    1           \n",
       "  LOF\n",
       "1 0  \n",
       "2 0  \n",
       "3 0  \n",
       "4 0  \n",
       "5 0  \n",
       "6 0  "
      ]
     },
     "metadata": {},
     "output_type": "display_data"
    }
   ],
   "source": [
    "head(metadata)"
   ]
  },
  {
   "cell_type": "code",
   "execution_count": 7,
   "metadata": {
    "vscode": {
     "languageId": "r"
    }
   },
   "outputs": [
    {
     "data": {
      "text/html": [
       "<style>\n",
       ".list-inline {list-style: none; margin:0; padding: 0}\n",
       ".list-inline>li {display: inline-block}\n",
       ".list-inline>li:not(:last-child)::after {content: \"\\00b7\"; padding: 0 .5ex}\n",
       "</style>\n",
       "<ol class=list-inline><li>'Patient'</li><li>'cycle'</li><li>'FOLD'</li><li>'ATC'</li><li>'Age'</li><li>'Disease_type'</li><li>'TE_fold'</li><li>'CD3'</li><li>'EM'</li><li>'CM'</li><li>'Naïve'</li><li>'SCM'</li><li>'TE'</li><li>'EM%'</li><li>'CM%'</li><li>'Naïve%'</li><li>'SCM%'</li><li>'TE%'</li><li>'Naïve/TE'</li><li>'N+CM+SCM/TE+EM'</li><li>'PD-1'</li><li>'PDL1'</li><li>'LAG3'</li><li>'TIM3'</li><li>'CTLA4'</li><li>'PD1%'</li><li>'PDL1%'</li><li>'LAG3%'</li><li>'TIM3%'</li><li>'CTLA4%'</li><li>'Any NCR'</li><li>'PD1 + LAG3 + TIM3'</li><li>'cancergroup'</li><li>'agegroup'</li><li>'foldgroup'</li><li>'sample_id'</li><li>'Remission'</li><li>'Relapse'</li><li>'Transplant'</li><li>'CART'</li><li>'vital_status'</li><li>'LOF'</li></ol>\n"
      ],
      "text/latex": [
       "\\begin{enumerate*}\n",
       "\\item 'Patient'\n",
       "\\item 'cycle'\n",
       "\\item 'FOLD'\n",
       "\\item 'ATC'\n",
       "\\item 'Age'\n",
       "\\item 'Disease\\_type'\n",
       "\\item 'TE\\_fold'\n",
       "\\item 'CD3'\n",
       "\\item 'EM'\n",
       "\\item 'CM'\n",
       "\\item 'Naïve'\n",
       "\\item 'SCM'\n",
       "\\item 'TE'\n",
       "\\item 'EM\\%'\n",
       "\\item 'CM\\%'\n",
       "\\item 'Naïve\\%'\n",
       "\\item 'SCM\\%'\n",
       "\\item 'TE\\%'\n",
       "\\item 'Naïve/TE'\n",
       "\\item 'N+CM+SCM/TE+EM'\n",
       "\\item 'PD-1'\n",
       "\\item 'PDL1'\n",
       "\\item 'LAG3'\n",
       "\\item 'TIM3'\n",
       "\\item 'CTLA4'\n",
       "\\item 'PD1\\%'\n",
       "\\item 'PDL1\\%'\n",
       "\\item 'LAG3\\%'\n",
       "\\item 'TIM3\\%'\n",
       "\\item 'CTLA4\\%'\n",
       "\\item 'Any NCR'\n",
       "\\item 'PD1 + LAG3 + TIM3'\n",
       "\\item 'cancergroup'\n",
       "\\item 'agegroup'\n",
       "\\item 'foldgroup'\n",
       "\\item 'sample\\_id'\n",
       "\\item 'Remission'\n",
       "\\item 'Relapse'\n",
       "\\item 'Transplant'\n",
       "\\item 'CART'\n",
       "\\item 'vital\\_status'\n",
       "\\item 'LOF'\n",
       "\\end{enumerate*}\n"
      ],
      "text/markdown": [
       "1. 'Patient'\n",
       "2. 'cycle'\n",
       "3. 'FOLD'\n",
       "4. 'ATC'\n",
       "5. 'Age'\n",
       "6. 'Disease_type'\n",
       "7. 'TE_fold'\n",
       "8. 'CD3'\n",
       "9. 'EM'\n",
       "10. 'CM'\n",
       "11. 'Naïve'\n",
       "12. 'SCM'\n",
       "13. 'TE'\n",
       "14. 'EM%'\n",
       "15. 'CM%'\n",
       "16. 'Naïve%'\n",
       "17. 'SCM%'\n",
       "18. 'TE%'\n",
       "19. 'Naïve/TE'\n",
       "20. 'N+CM+SCM/TE+EM'\n",
       "21. 'PD-1'\n",
       "22. 'PDL1'\n",
       "23. 'LAG3'\n",
       "24. 'TIM3'\n",
       "25. 'CTLA4'\n",
       "26. 'PD1%'\n",
       "27. 'PDL1%'\n",
       "28. 'LAG3%'\n",
       "29. 'TIM3%'\n",
       "30. 'CTLA4%'\n",
       "31. 'Any NCR'\n",
       "32. 'PD1 + LAG3 + TIM3'\n",
       "33. 'cancergroup'\n",
       "34. 'agegroup'\n",
       "35. 'foldgroup'\n",
       "36. 'sample_id'\n",
       "37. 'Remission'\n",
       "38. 'Relapse'\n",
       "39. 'Transplant'\n",
       "40. 'CART'\n",
       "41. 'vital_status'\n",
       "42. 'LOF'\n",
       "\n",
       "\n"
      ],
      "text/plain": [
       " [1] \"Patient\"           \"cycle\"             \"FOLD\"             \n",
       " [4] \"ATC\"               \"Age\"               \"Disease_type\"     \n",
       " [7] \"TE_fold\"           \"CD3\"               \"EM\"               \n",
       "[10] \"CM\"                \"Naïve\"             \"SCM\"              \n",
       "[13] \"TE\"                \"EM%\"               \"CM%\"              \n",
       "[16] \"Naïve%\"            \"SCM%\"              \"TE%\"              \n",
       "[19] \"Naïve/TE\"          \"N+CM+SCM/TE+EM\"    \"PD-1\"             \n",
       "[22] \"PDL1\"              \"LAG3\"              \"TIM3\"             \n",
       "[25] \"CTLA4\"             \"PD1%\"              \"PDL1%\"            \n",
       "[28] \"LAG3%\"             \"TIM3%\"             \"CTLA4%\"           \n",
       "[31] \"Any NCR\"           \"PD1 + LAG3 + TIM3\" \"cancergroup\"      \n",
       "[34] \"agegroup\"          \"foldgroup\"         \"sample_id\"        \n",
       "[37] \"Remission\"         \"Relapse\"           \"Transplant\"       \n",
       "[40] \"CART\"              \"vital_status\"      \"LOF\"              "
      ]
     },
     "metadata": {},
     "output_type": "display_data"
    }
   ],
   "source": [
    "colnames(metadata)"
   ]
  },
  {
   "cell_type": "code",
   "execution_count": 8,
   "metadata": {
    "vscode": {
     "languageId": "r"
    }
   },
   "outputs": [],
   "source": [
    "# confirmed with David, remove those samples with NCR% > 100\n",
    "metadata$`TIM3%`[metadata$`TIM3%` > 100] <- NA\n",
    "metadata$`LAG3%`[metadata$`LAG3%` > 100] <- NA\n",
    "metadata$`PD1%`[metadata$`PD1%` > 100] <- NA\n",
    "metadata$`PDL1%`[metadata$`PDL1%` > 100] <- NA"
   ]
  },
  {
   "attachments": {},
   "cell_type": "markdown",
   "metadata": {},
   "source": [
    "## TRB"
   ]
  },
  {
   "cell_type": "code",
   "execution_count": 9,
   "metadata": {
    "vscode": {
     "languageId": "r"
    }
   },
   "outputs": [],
   "source": [
    "divstats <- read.csv(paste0(datapath, \"capTCRseq/divstats_TRBCHP.csv\"),\n",
    "    header = T, stringsAsFactors = F, row.names = 1\n",
    ")"
   ]
  },
  {
   "cell_type": "code",
   "execution_count": 10,
   "metadata": {
    "vscode": {
     "languageId": "r"
    }
   },
   "outputs": [
    {
     "data": {
      "text/html": [
       "<table class=\"dataframe\">\n",
       "<caption>A data.frame: 6 x 22</caption>\n",
       "<thead>\n",
       "\t<tr><th></th><th scope=col>TRB</th><th scope=col>Reads</th><th scope=col>CPKR</th><th scope=col>Average_reads</th><th scope=col>VMR</th><th scope=col>Max_reads</th><th scope=col>Singletons</th><th scope=col>Doubletons</th><th scope=col>qD</th><th scope=col>Sample_Coverage</th><th scope=col>...</th><th scope=col>SE_Richeness</th><th scope=col>observed_Shannon</th><th scope=col>estimated_Shannon</th><th scope=col>SE_Shannon</th><th scope=col>observed_Simpson</th><th scope=col>estimated_Simpson</th><th scope=col>SE_Simpson</th><th scope=col>sample_id</th><th scope=col>basename</th><th scope=col>file</th></tr>\n",
       "\t<tr><th></th><th scope=col>&lt;int&gt;</th><th scope=col>&lt;int&gt;</th><th scope=col>&lt;dbl&gt;</th><th scope=col>&lt;dbl&gt;</th><th scope=col>&lt;dbl&gt;</th><th scope=col>&lt;int&gt;</th><th scope=col>&lt;int&gt;</th><th scope=col>&lt;int&gt;</th><th scope=col>&lt;dbl&gt;</th><th scope=col>&lt;int&gt;</th><th scope=col>...</th><th scope=col>&lt;dbl&gt;</th><th scope=col>&lt;dbl&gt;</th><th scope=col>&lt;dbl&gt;</th><th scope=col>&lt;dbl&gt;</th><th scope=col>&lt;dbl&gt;</th><th scope=col>&lt;dbl&gt;</th><th scope=col>&lt;dbl&gt;</th><th scope=col>&lt;chr&gt;</th><th scope=col>&lt;chr&gt;</th><th scope=col>&lt;chr&gt;</th></tr>\n",
       "</thead>\n",
       "<tbody>\n",
       "\t<tr><th scope=row>CHP_315-05-PBMC-DNA</th><td> 27</td><td> 659</td><td> 40.97117</td><td>24.407407</td><td>1.4380040</td><td>187</td><td> 1</td><td> 1</td><td>2257.973</td><td>1</td><td>...</td><td>3.1145810</td><td>10.590575</td><td>10.600918</td><td>0.058468781</td><td> 8.555735</td><td> 8.560820</td><td>0.08393007</td><td>CHP_315_05</td><td>CHP_315-05-PBMC-DNA</td><td>batch4_19Aug2019/mixcr/clones/CLONES_TRBCHP_315-05-PBMC-DNA.txt     </td></tr>\n",
       "\t<tr><th scope=row>CHP_350-01-PBMC-DNA</th><td>153</td><td>1647</td><td> 92.89617</td><td>10.764706</td><td>0.7872963</td><td> 59</td><td> 5</td><td> 6</td><td>2257.973</td><td>1</td><td>...</td><td>0.3487351</td><td>11.606989</td><td>11.614239</td><td>0.051942239</td><td>10.406291</td><td>10.413592</td><td>0.07633573</td><td>CHP_350_01</td><td>CHP_350-01-PBMC-DNA</td><td>batch_reseq_24Feb2020/mixcr/clones/CLONES_TRBCHP_350-01-PBMC-DNA.txt</td></tr>\n",
       "\t<tr><th scope=row>CHP_350-02-PBMC-DNA</th><td>269</td><td>2992</td><td> 89.90642</td><td>11.122677</td><td>0.8300771</td><td> 92</td><td>17</td><td> 5</td><td>2257.973</td><td>1</td><td>...</td><td>0.1969464</td><td> 8.982499</td><td> 8.989346</td><td>0.038009158</td><td> 8.560414</td><td> 8.570231</td><td>0.05280061</td><td>CHP_350_02</td><td>CHP_350-02-PBMC-DNA</td><td>batch_reseq_24Feb2020/mixcr/clones/CLONES_TRBCHP_350-02-PBMC-DNA.txt</td></tr>\n",
       "\t<tr><th scope=row>CHP_350-03-PBMC-DNA</th><td>207</td><td>2134</td><td> 97.00094</td><td>10.309179</td><td>0.7807083</td><td> 52</td><td> 9</td><td>10</td><td>2257.973</td><td>1</td><td>...</td><td>0.0000000</td><td> 6.330136</td><td> 6.334282</td><td>0.038194590</td><td> 5.869952</td><td> 5.876197</td><td>0.05588238</td><td>CHP_350_03</td><td>CHP_350-03-PBMC-DNA</td><td>batch_reseq_24Feb2020/mixcr/clones/CLONES_TRBCHP_350-03-PBMC-DNA.txt</td></tr>\n",
       "\t<tr><th scope=row>CHP_350-04-PBMC-DNA</th><td>106</td><td> 989</td><td>107.17897</td><td> 9.330189</td><td>0.7731222</td><td> 34</td><td>10</td><td> 2</td><td>2257.973</td><td>1</td><td>...</td><td>0.2386833</td><td>21.109696</td><td>21.120245</td><td>0.046734399</td><td>20.321168</td><td>20.338970</td><td>0.08003607</td><td>CHP_350_04</td><td>CHP_350-04-PBMC-DNA</td><td>batch_reseq_24Feb2020/mixcr/clones/CLONES_TRBCHP_350-04-PBMC-DNA.txt</td></tr>\n",
       "\t<tr><th scope=row>CHP_353-02-PBMC-DNA</th><td> 16</td><td> 234</td><td> 68.37607</td><td>14.625000</td><td>0.5897147</td><td> 35</td><td> 1</td><td> 0</td><td>2257.973</td><td>1</td><td>...</td><td>0.0000000</td><td> 3.971569</td><td> 3.972829</td><td>0.006780018</td><td> 3.943803</td><td> 3.946259</td><td>0.01323688</td><td>CHP_353_02</td><td>CHP_353-02-PBMC-DNA</td><td>batch_reseq_24Feb2020/mixcr/clones/CLONES_TRBCHP_353-02-PBMC-DNA.txt</td></tr>\n",
       "</tbody>\n",
       "</table>\n"
      ],
      "text/latex": [
       "A data.frame: 6 x 22\n",
       "\\begin{tabular}{r|lllllllllllllllllllll}\n",
       "  & TRB & Reads & CPKR & Average\\_reads & VMR & Max\\_reads & Singletons & Doubletons & qD & Sample\\_Coverage & ... & SE\\_Richeness & observed\\_Shannon & estimated\\_Shannon & SE\\_Shannon & observed\\_Simpson & estimated\\_Simpson & SE\\_Simpson & sample\\_id & basename & file\\\\\n",
       "  & <int> & <int> & <dbl> & <dbl> & <dbl> & <int> & <int> & <int> & <dbl> & <int> & ... & <dbl> & <dbl> & <dbl> & <dbl> & <dbl> & <dbl> & <dbl> & <chr> & <chr> & <chr>\\\\\n",
       "\\hline\n",
       "\tCHP\\_315-05-PBMC-DNA &  27 &  659 &  40.97117 & 24.407407 & 1.4380040 & 187 &  1 &  1 & 2257.973 & 1 & ... & 3.1145810 & 10.590575 & 10.600918 & 0.058468781 &  8.555735 &  8.560820 & 0.08393007 & CHP\\_315\\_05 & CHP\\_315-05-PBMC-DNA & batch4\\_19Aug2019/mixcr/clones/CLONES\\_TRBCHP\\_315-05-PBMC-DNA.txt     \\\\\n",
       "\tCHP\\_350-01-PBMC-DNA & 153 & 1647 &  92.89617 & 10.764706 & 0.7872963 &  59 &  5 &  6 & 2257.973 & 1 & ... & 0.3487351 & 11.606989 & 11.614239 & 0.051942239 & 10.406291 & 10.413592 & 0.07633573 & CHP\\_350\\_01 & CHP\\_350-01-PBMC-DNA & batch\\_reseq\\_24Feb2020/mixcr/clones/CLONES\\_TRBCHP\\_350-01-PBMC-DNA.txt\\\\\n",
       "\tCHP\\_350-02-PBMC-DNA & 269 & 2992 &  89.90642 & 11.122677 & 0.8300771 &  92 & 17 &  5 & 2257.973 & 1 & ... & 0.1969464 &  8.982499 &  8.989346 & 0.038009158 &  8.560414 &  8.570231 & 0.05280061 & CHP\\_350\\_02 & CHP\\_350-02-PBMC-DNA & batch\\_reseq\\_24Feb2020/mixcr/clones/CLONES\\_TRBCHP\\_350-02-PBMC-DNA.txt\\\\\n",
       "\tCHP\\_350-03-PBMC-DNA & 207 & 2134 &  97.00094 & 10.309179 & 0.7807083 &  52 &  9 & 10 & 2257.973 & 1 & ... & 0.0000000 &  6.330136 &  6.334282 & 0.038194590 &  5.869952 &  5.876197 & 0.05588238 & CHP\\_350\\_03 & CHP\\_350-03-PBMC-DNA & batch\\_reseq\\_24Feb2020/mixcr/clones/CLONES\\_TRBCHP\\_350-03-PBMC-DNA.txt\\\\\n",
       "\tCHP\\_350-04-PBMC-DNA & 106 &  989 & 107.17897 &  9.330189 & 0.7731222 &  34 & 10 &  2 & 2257.973 & 1 & ... & 0.2386833 & 21.109696 & 21.120245 & 0.046734399 & 20.321168 & 20.338970 & 0.08003607 & CHP\\_350\\_04 & CHP\\_350-04-PBMC-DNA & batch\\_reseq\\_24Feb2020/mixcr/clones/CLONES\\_TRBCHP\\_350-04-PBMC-DNA.txt\\\\\n",
       "\tCHP\\_353-02-PBMC-DNA &  16 &  234 &  68.37607 & 14.625000 & 0.5897147 &  35 &  1 &  0 & 2257.973 & 1 & ... & 0.0000000 &  3.971569 &  3.972829 & 0.006780018 &  3.943803 &  3.946259 & 0.01323688 & CHP\\_353\\_02 & CHP\\_353-02-PBMC-DNA & batch\\_reseq\\_24Feb2020/mixcr/clones/CLONES\\_TRBCHP\\_353-02-PBMC-DNA.txt\\\\\n",
       "\\end{tabular}\n"
      ],
      "text/markdown": [
       "\n",
       "A data.frame: 6 x 22\n",
       "\n",
       "| <!--/--> | TRB &lt;int&gt; | Reads &lt;int&gt; | CPKR &lt;dbl&gt; | Average_reads &lt;dbl&gt; | VMR &lt;dbl&gt; | Max_reads &lt;int&gt; | Singletons &lt;int&gt; | Doubletons &lt;int&gt; | qD &lt;dbl&gt; | Sample_Coverage &lt;int&gt; | ... ... | SE_Richeness &lt;dbl&gt; | observed_Shannon &lt;dbl&gt; | estimated_Shannon &lt;dbl&gt; | SE_Shannon &lt;dbl&gt; | observed_Simpson &lt;dbl&gt; | estimated_Simpson &lt;dbl&gt; | SE_Simpson &lt;dbl&gt; | sample_id &lt;chr&gt; | basename &lt;chr&gt; | file &lt;chr&gt; |\n",
       "|---|---|---|---|---|---|---|---|---|---|---|---|---|---|---|---|---|---|---|---|---|---|\n",
       "| CHP_315-05-PBMC-DNA |  27 |  659 |  40.97117 | 24.407407 | 1.4380040 | 187 |  1 |  1 | 2257.973 | 1 | ... | 3.1145810 | 10.590575 | 10.600918 | 0.058468781 |  8.555735 |  8.560820 | 0.08393007 | CHP_315_05 | CHP_315-05-PBMC-DNA | batch4_19Aug2019/mixcr/clones/CLONES_TRBCHP_315-05-PBMC-DNA.txt      |\n",
       "| CHP_350-01-PBMC-DNA | 153 | 1647 |  92.89617 | 10.764706 | 0.7872963 |  59 |  5 |  6 | 2257.973 | 1 | ... | 0.3487351 | 11.606989 | 11.614239 | 0.051942239 | 10.406291 | 10.413592 | 0.07633573 | CHP_350_01 | CHP_350-01-PBMC-DNA | batch_reseq_24Feb2020/mixcr/clones/CLONES_TRBCHP_350-01-PBMC-DNA.txt |\n",
       "| CHP_350-02-PBMC-DNA | 269 | 2992 |  89.90642 | 11.122677 | 0.8300771 |  92 | 17 |  5 | 2257.973 | 1 | ... | 0.1969464 |  8.982499 |  8.989346 | 0.038009158 |  8.560414 |  8.570231 | 0.05280061 | CHP_350_02 | CHP_350-02-PBMC-DNA | batch_reseq_24Feb2020/mixcr/clones/CLONES_TRBCHP_350-02-PBMC-DNA.txt |\n",
       "| CHP_350-03-PBMC-DNA | 207 | 2134 |  97.00094 | 10.309179 | 0.7807083 |  52 |  9 | 10 | 2257.973 | 1 | ... | 0.0000000 |  6.330136 |  6.334282 | 0.038194590 |  5.869952 |  5.876197 | 0.05588238 | CHP_350_03 | CHP_350-03-PBMC-DNA | batch_reseq_24Feb2020/mixcr/clones/CLONES_TRBCHP_350-03-PBMC-DNA.txt |\n",
       "| CHP_350-04-PBMC-DNA | 106 |  989 | 107.17897 |  9.330189 | 0.7731222 |  34 | 10 |  2 | 2257.973 | 1 | ... | 0.2386833 | 21.109696 | 21.120245 | 0.046734399 | 20.321168 | 20.338970 | 0.08003607 | CHP_350_04 | CHP_350-04-PBMC-DNA | batch_reseq_24Feb2020/mixcr/clones/CLONES_TRBCHP_350-04-PBMC-DNA.txt |\n",
       "| CHP_353-02-PBMC-DNA |  16 |  234 |  68.37607 | 14.625000 | 0.5897147 |  35 |  1 |  0 | 2257.973 | 1 | ... | 0.0000000 |  3.971569 |  3.972829 | 0.006780018 |  3.943803 |  3.946259 | 0.01323688 | CHP_353_02 | CHP_353-02-PBMC-DNA | batch_reseq_24Feb2020/mixcr/clones/CLONES_TRBCHP_353-02-PBMC-DNA.txt |\n",
       "\n"
      ],
      "text/plain": [
       "                    TRB Reads CPKR      Average_reads VMR       Max_reads\n",
       "CHP_315-05-PBMC-DNA  27  659   40.97117 24.407407     1.4380040 187      \n",
       "CHP_350-01-PBMC-DNA 153 1647   92.89617 10.764706     0.7872963  59      \n",
       "CHP_350-02-PBMC-DNA 269 2992   89.90642 11.122677     0.8300771  92      \n",
       "CHP_350-03-PBMC-DNA 207 2134   97.00094 10.309179     0.7807083  52      \n",
       "CHP_350-04-PBMC-DNA 106  989  107.17897  9.330189     0.7731222  34      \n",
       "CHP_353-02-PBMC-DNA  16  234   68.37607 14.625000     0.5897147  35      \n",
       "                    Singletons Doubletons qD       Sample_Coverage ...\n",
       "CHP_315-05-PBMC-DNA  1          1         2257.973 1               ...\n",
       "CHP_350-01-PBMC-DNA  5          6         2257.973 1               ...\n",
       "CHP_350-02-PBMC-DNA 17          5         2257.973 1               ...\n",
       "CHP_350-03-PBMC-DNA  9         10         2257.973 1               ...\n",
       "CHP_350-04-PBMC-DNA 10          2         2257.973 1               ...\n",
       "CHP_353-02-PBMC-DNA  1          0         2257.973 1               ...\n",
       "                    SE_Richeness observed_Shannon estimated_Shannon SE_Shannon \n",
       "CHP_315-05-PBMC-DNA 3.1145810    10.590575        10.600918         0.058468781\n",
       "CHP_350-01-PBMC-DNA 0.3487351    11.606989        11.614239         0.051942239\n",
       "CHP_350-02-PBMC-DNA 0.1969464     8.982499         8.989346         0.038009158\n",
       "CHP_350-03-PBMC-DNA 0.0000000     6.330136         6.334282         0.038194590\n",
       "CHP_350-04-PBMC-DNA 0.2386833    21.109696        21.120245         0.046734399\n",
       "CHP_353-02-PBMC-DNA 0.0000000     3.971569         3.972829         0.006780018\n",
       "                    observed_Simpson estimated_Simpson SE_Simpson sample_id \n",
       "CHP_315-05-PBMC-DNA  8.555735         8.560820         0.08393007 CHP_315_05\n",
       "CHP_350-01-PBMC-DNA 10.406291        10.413592         0.07633573 CHP_350_01\n",
       "CHP_350-02-PBMC-DNA  8.560414         8.570231         0.05280061 CHP_350_02\n",
       "CHP_350-03-PBMC-DNA  5.869952         5.876197         0.05588238 CHP_350_03\n",
       "CHP_350-04-PBMC-DNA 20.321168        20.338970         0.08003607 CHP_350_04\n",
       "CHP_353-02-PBMC-DNA  3.943803         3.946259         0.01323688 CHP_353_02\n",
       "                    basename           \n",
       "CHP_315-05-PBMC-DNA CHP_315-05-PBMC-DNA\n",
       "CHP_350-01-PBMC-DNA CHP_350-01-PBMC-DNA\n",
       "CHP_350-02-PBMC-DNA CHP_350-02-PBMC-DNA\n",
       "CHP_350-03-PBMC-DNA CHP_350-03-PBMC-DNA\n",
       "CHP_350-04-PBMC-DNA CHP_350-04-PBMC-DNA\n",
       "CHP_353-02-PBMC-DNA CHP_353-02-PBMC-DNA\n",
       "                    file                                                                \n",
       "CHP_315-05-PBMC-DNA batch4_19Aug2019/mixcr/clones/CLONES_TRBCHP_315-05-PBMC-DNA.txt     \n",
       "CHP_350-01-PBMC-DNA batch_reseq_24Feb2020/mixcr/clones/CLONES_TRBCHP_350-01-PBMC-DNA.txt\n",
       "CHP_350-02-PBMC-DNA batch_reseq_24Feb2020/mixcr/clones/CLONES_TRBCHP_350-02-PBMC-DNA.txt\n",
       "CHP_350-03-PBMC-DNA batch_reseq_24Feb2020/mixcr/clones/CLONES_TRBCHP_350-03-PBMC-DNA.txt\n",
       "CHP_350-04-PBMC-DNA batch_reseq_24Feb2020/mixcr/clones/CLONES_TRBCHP_350-04-PBMC-DNA.txt\n",
       "CHP_353-02-PBMC-DNA batch_reseq_24Feb2020/mixcr/clones/CLONES_TRBCHP_353-02-PBMC-DNA.txt"
      ]
     },
     "metadata": {},
     "output_type": "display_data"
    }
   ],
   "source": [
    "head(divstats)"
   ]
  },
  {
   "cell_type": "code",
   "execution_count": 11,
   "metadata": {
    "vscode": {
     "languageId": "r"
    }
   },
   "outputs": [],
   "source": [
    "divstats$sampletype <- NA\n",
    "divstats$sampletype[grepl(\"PBMC\", divstats$basename)] <- \"PBMC\"\n",
    "divstats$sampletype[grepl(\"cfDNA\", divstats$basename)] <- \"cfDNA\"\n",
    "divstats$sampletype[grepl(\"FFPE\", divstats$basename)] <- \"FFPE\""
   ]
  },
  {
   "cell_type": "code",
   "execution_count": 12,
   "metadata": {
    "vscode": {
     "languageId": "r"
    }
   },
   "outputs": [
    {
     "data": {
      "text/plain": [
       "\n",
       "cfDNA  FFPE  PBMC  <NA> \n",
       "  287    18   288     0 "
      ]
     },
     "metadata": {},
     "output_type": "display_data"
    }
   ],
   "source": [
    "table(divstats$sampletype, useNA = \"always\")"
   ]
  },
  {
   "cell_type": "code",
   "execution_count": 13,
   "metadata": {
    "vscode": {
     "languageId": "r"
    }
   },
   "outputs": [
    {
     "data": {
      "text/html": [
       "<table class=\"dataframe\">\n",
       "<caption>A data.frame: 5 x 23</caption>\n",
       "<thead>\n",
       "\t<tr><th></th><th scope=col>TRB</th><th scope=col>Reads</th><th scope=col>CPKR</th><th scope=col>Average_reads</th><th scope=col>VMR</th><th scope=col>Max_reads</th><th scope=col>Singletons</th><th scope=col>Doubletons</th><th scope=col>qD</th><th scope=col>Sample_Coverage</th><th scope=col>...</th><th scope=col>observed_Shannon</th><th scope=col>estimated_Shannon</th><th scope=col>SE_Shannon</th><th scope=col>observed_Simpson</th><th scope=col>estimated_Simpson</th><th scope=col>SE_Simpson</th><th scope=col>sample_id</th><th scope=col>basename</th><th scope=col>file</th><th scope=col>sampletype</th></tr>\n",
       "\t<tr><th></th><th scope=col>&lt;int&gt;</th><th scope=col>&lt;int&gt;</th><th scope=col>&lt;dbl&gt;</th><th scope=col>&lt;dbl&gt;</th><th scope=col>&lt;dbl&gt;</th><th scope=col>&lt;int&gt;</th><th scope=col>&lt;int&gt;</th><th scope=col>&lt;int&gt;</th><th scope=col>&lt;dbl&gt;</th><th scope=col>&lt;int&gt;</th><th scope=col>...</th><th scope=col>&lt;dbl&gt;</th><th scope=col>&lt;dbl&gt;</th><th scope=col>&lt;dbl&gt;</th><th scope=col>&lt;dbl&gt;</th><th scope=col>&lt;dbl&gt;</th><th scope=col>&lt;dbl&gt;</th><th scope=col>&lt;chr&gt;</th><th scope=col>&lt;chr&gt;</th><th scope=col>&lt;chr&gt;</th><th scope=col>&lt;chr&gt;</th></tr>\n",
       "</thead>\n",
       "<tbody>\n",
       "\t<tr><th scope=row>CHP_323-03_cfDNA</th><td>103</td><td>81588</td><td> 1.262441</td><td>792.11650</td><td>1.5296185</td><td>7047</td><td> 8</td><td>0</td><td>2257.973</td><td>1</td><td>...</td><td> 4.720236</td><td> 4.725638</td><td>0.082817431</td><td> 3.424802</td><td> 3.427516</td><td>0.074829554</td><td>CHP_323_03</td><td>CHP_323-03_cfDNA   </td><td>batch3a9_cfDNA_10Jul2020/mixcr/clones/CLONES_TRBCHP_323-03_cfDNA.txt          </td><td>cfDNA</td></tr>\n",
       "\t<tr><th scope=row>CHP_323-03-PBMC-DNA</th><td> 45</td><td> 3175</td><td>14.173228</td><td> 70.55556</td><td>0.6027869</td><td> 220</td><td> 1</td><td>0</td><td>2257.973</td><td>1</td><td>...</td><td> 2.344161</td><td> 2.348531</td><td>0.038261692</td><td> 2.046021</td><td> 2.047408</td><td>0.042413975</td><td>CHP_323_03</td><td>CHP_323-03-PBMC-DNA</td><td>batch4_19Aug2019/mixcr/clones/CLONES_TRBCHP_323-03-PBMC-DNA.txt               </td><td>PBMC </td></tr>\n",
       "\t<tr><th scope=row>CHP_323-04-PBMC-DNA</th><td> 23</td><td>  671</td><td>34.277198</td><td> 29.17391</td><td>1.2769705</td><td> 167</td><td> 1</td><td>1</td><td>2257.973</td><td>1</td><td>...</td><td> 2.007448</td><td> 2.007966</td><td>0.005587078</td><td> 1.991623</td><td> 1.991948</td><td>0.004056773</td><td>CHP_323_04</td><td>CHP_323-04-PBMC-DNA</td><td>batch7_25Oct2019/mixcr/clones/CLONES_TRBCHP_323-04-PBMC-DNA.txt               </td><td>PBMC </td></tr>\n",
       "\t<tr><th scope=row>CHP_323-05-PBMC-DNA</th><td>153</td><td> 2020</td><td>75.742574</td><td> 13.20261</td><td>1.9254929</td><td> 290</td><td>10</td><td>8</td><td>2257.973</td><td>1</td><td>...</td><td> 7.241584</td><td> 7.248654</td><td>0.054277847</td><td> 6.298940</td><td> 6.303667</td><td>0.064966257</td><td>CHP_323_05</td><td>CHP_323-05-PBMC-DNA</td><td>batch7_25Oct2019/mixcr/clones/CLONES_TRBCHP_323-05-PBMC-DNA.txt               </td><td>PBMC </td></tr>\n",
       "\t<tr><th scope=row>CHP_323-05_cfDNA</th><td> 15</td><td> 4938</td><td> 3.037667</td><td>329.20000</td><td>1.1360081</td><td>1391</td><td> 3</td><td>0</td><td>2257.973</td><td>1</td><td>...</td><td>75.242505</td><td>85.713396</td><td>3.425698637</td><td>58.921912</td><td>67.204007</td><td>3.762391411</td><td>CHP_323_05</td><td>CHP_323-05_cfDNA   </td><td>remaining_batch_1_cfDNA_8April2021/mixcr/clones/CLONES_TRBCHP_323-05_cfDNA.txt</td><td>cfDNA</td></tr>\n",
       "</tbody>\n",
       "</table>\n"
      ],
      "text/latex": [
       "A data.frame: 5 x 23\n",
       "\\begin{tabular}{r|lllllllllllllllllllll}\n",
       "  & TRB & Reads & CPKR & Average\\_reads & VMR & Max\\_reads & Singletons & Doubletons & qD & Sample\\_Coverage & ... & observed\\_Shannon & estimated\\_Shannon & SE\\_Shannon & observed\\_Simpson & estimated\\_Simpson & SE\\_Simpson & sample\\_id & basename & file & sampletype\\\\\n",
       "  & <int> & <int> & <dbl> & <dbl> & <dbl> & <int> & <int> & <int> & <dbl> & <int> & ... & <dbl> & <dbl> & <dbl> & <dbl> & <dbl> & <dbl> & <chr> & <chr> & <chr> & <chr>\\\\\n",
       "\\hline\n",
       "\tCHP\\_323-03\\_cfDNA & 103 & 81588 &  1.262441 & 792.11650 & 1.5296185 & 7047 &  8 & 0 & 2257.973 & 1 & ... &  4.720236 &  4.725638 & 0.082817431 &  3.424802 &  3.427516 & 0.074829554 & CHP\\_323\\_03 & CHP\\_323-03\\_cfDNA    & batch3a9\\_cfDNA\\_10Jul2020/mixcr/clones/CLONES\\_TRBCHP\\_323-03\\_cfDNA.txt           & cfDNA\\\\\n",
       "\tCHP\\_323-03-PBMC-DNA &  45 &  3175 & 14.173228 &  70.55556 & 0.6027869 &  220 &  1 & 0 & 2257.973 & 1 & ... &  2.344161 &  2.348531 & 0.038261692 &  2.046021 &  2.047408 & 0.042413975 & CHP\\_323\\_03 & CHP\\_323-03-PBMC-DNA & batch4\\_19Aug2019/mixcr/clones/CLONES\\_TRBCHP\\_323-03-PBMC-DNA.txt                & PBMC \\\\\n",
       "\tCHP\\_323-04-PBMC-DNA &  23 &   671 & 34.277198 &  29.17391 & 1.2769705 &  167 &  1 & 1 & 2257.973 & 1 & ... &  2.007448 &  2.007966 & 0.005587078 &  1.991623 &  1.991948 & 0.004056773 & CHP\\_323\\_04 & CHP\\_323-04-PBMC-DNA & batch7\\_25Oct2019/mixcr/clones/CLONES\\_TRBCHP\\_323-04-PBMC-DNA.txt                & PBMC \\\\\n",
       "\tCHP\\_323-05-PBMC-DNA & 153 &  2020 & 75.742574 &  13.20261 & 1.9254929 &  290 & 10 & 8 & 2257.973 & 1 & ... &  7.241584 &  7.248654 & 0.054277847 &  6.298940 &  6.303667 & 0.064966257 & CHP\\_323\\_05 & CHP\\_323-05-PBMC-DNA & batch7\\_25Oct2019/mixcr/clones/CLONES\\_TRBCHP\\_323-05-PBMC-DNA.txt                & PBMC \\\\\n",
       "\tCHP\\_323-05\\_cfDNA &  15 &  4938 &  3.037667 & 329.20000 & 1.1360081 & 1391 &  3 & 0 & 2257.973 & 1 & ... & 75.242505 & 85.713396 & 3.425698637 & 58.921912 & 67.204007 & 3.762391411 & CHP\\_323\\_05 & CHP\\_323-05\\_cfDNA    & remaining\\_batch\\_1\\_cfDNA\\_8April2021/mixcr/clones/CLONES\\_TRBCHP\\_323-05\\_cfDNA.txt & cfDNA\\\\\n",
       "\\end{tabular}\n"
      ],
      "text/markdown": [
       "\n",
       "A data.frame: 5 x 23\n",
       "\n",
       "| <!--/--> | TRB &lt;int&gt; | Reads &lt;int&gt; | CPKR &lt;dbl&gt; | Average_reads &lt;dbl&gt; | VMR &lt;dbl&gt; | Max_reads &lt;int&gt; | Singletons &lt;int&gt; | Doubletons &lt;int&gt; | qD &lt;dbl&gt; | Sample_Coverage &lt;int&gt; | ... ... | observed_Shannon &lt;dbl&gt; | estimated_Shannon &lt;dbl&gt; | SE_Shannon &lt;dbl&gt; | observed_Simpson &lt;dbl&gt; | estimated_Simpson &lt;dbl&gt; | SE_Simpson &lt;dbl&gt; | sample_id &lt;chr&gt; | basename &lt;chr&gt; | file &lt;chr&gt; | sampletype &lt;chr&gt; |\n",
       "|---|---|---|---|---|---|---|---|---|---|---|---|---|---|---|---|---|---|---|---|---|---|\n",
       "| CHP_323-03_cfDNA | 103 | 81588 |  1.262441 | 792.11650 | 1.5296185 | 7047 |  8 | 0 | 2257.973 | 1 | ... |  4.720236 |  4.725638 | 0.082817431 |  3.424802 |  3.427516 | 0.074829554 | CHP_323_03 | CHP_323-03_cfDNA    | batch3a9_cfDNA_10Jul2020/mixcr/clones/CLONES_TRBCHP_323-03_cfDNA.txt           | cfDNA |\n",
       "| CHP_323-03-PBMC-DNA |  45 |  3175 | 14.173228 |  70.55556 | 0.6027869 |  220 |  1 | 0 | 2257.973 | 1 | ... |  2.344161 |  2.348531 | 0.038261692 |  2.046021 |  2.047408 | 0.042413975 | CHP_323_03 | CHP_323-03-PBMC-DNA | batch4_19Aug2019/mixcr/clones/CLONES_TRBCHP_323-03-PBMC-DNA.txt                | PBMC  |\n",
       "| CHP_323-04-PBMC-DNA |  23 |   671 | 34.277198 |  29.17391 | 1.2769705 |  167 |  1 | 1 | 2257.973 | 1 | ... |  2.007448 |  2.007966 | 0.005587078 |  1.991623 |  1.991948 | 0.004056773 | CHP_323_04 | CHP_323-04-PBMC-DNA | batch7_25Oct2019/mixcr/clones/CLONES_TRBCHP_323-04-PBMC-DNA.txt                | PBMC  |\n",
       "| CHP_323-05-PBMC-DNA | 153 |  2020 | 75.742574 |  13.20261 | 1.9254929 |  290 | 10 | 8 | 2257.973 | 1 | ... |  7.241584 |  7.248654 | 0.054277847 |  6.298940 |  6.303667 | 0.064966257 | CHP_323_05 | CHP_323-05-PBMC-DNA | batch7_25Oct2019/mixcr/clones/CLONES_TRBCHP_323-05-PBMC-DNA.txt                | PBMC  |\n",
       "| CHP_323-05_cfDNA |  15 |  4938 |  3.037667 | 329.20000 | 1.1360081 | 1391 |  3 | 0 | 2257.973 | 1 | ... | 75.242505 | 85.713396 | 3.425698637 | 58.921912 | 67.204007 | 3.762391411 | CHP_323_05 | CHP_323-05_cfDNA    | remaining_batch_1_cfDNA_8April2021/mixcr/clones/CLONES_TRBCHP_323-05_cfDNA.txt | cfDNA |\n",
       "\n"
      ],
      "text/plain": [
       "                    TRB Reads CPKR      Average_reads VMR       Max_reads\n",
       "CHP_323-03_cfDNA    103 81588  1.262441 792.11650     1.5296185 7047     \n",
       "CHP_323-03-PBMC-DNA  45  3175 14.173228  70.55556     0.6027869  220     \n",
       "CHP_323-04-PBMC-DNA  23   671 34.277198  29.17391     1.2769705  167     \n",
       "CHP_323-05-PBMC-DNA 153  2020 75.742574  13.20261     1.9254929  290     \n",
       "CHP_323-05_cfDNA     15  4938  3.037667 329.20000     1.1360081 1391     \n",
       "                    Singletons Doubletons qD       Sample_Coverage ...\n",
       "CHP_323-03_cfDNA     8         0          2257.973 1               ...\n",
       "CHP_323-03-PBMC-DNA  1         0          2257.973 1               ...\n",
       "CHP_323-04-PBMC-DNA  1         1          2257.973 1               ...\n",
       "CHP_323-05-PBMC-DNA 10         8          2257.973 1               ...\n",
       "CHP_323-05_cfDNA     3         0          2257.973 1               ...\n",
       "                    observed_Shannon estimated_Shannon SE_Shannon \n",
       "CHP_323-03_cfDNA     4.720236         4.725638         0.082817431\n",
       "CHP_323-03-PBMC-DNA  2.344161         2.348531         0.038261692\n",
       "CHP_323-04-PBMC-DNA  2.007448         2.007966         0.005587078\n",
       "CHP_323-05-PBMC-DNA  7.241584         7.248654         0.054277847\n",
       "CHP_323-05_cfDNA    75.242505        85.713396         3.425698637\n",
       "                    observed_Simpson estimated_Simpson SE_Simpson  sample_id \n",
       "CHP_323-03_cfDNA     3.424802         3.427516         0.074829554 CHP_323_03\n",
       "CHP_323-03-PBMC-DNA  2.046021         2.047408         0.042413975 CHP_323_03\n",
       "CHP_323-04-PBMC-DNA  1.991623         1.991948         0.004056773 CHP_323_04\n",
       "CHP_323-05-PBMC-DNA  6.298940         6.303667         0.064966257 CHP_323_05\n",
       "CHP_323-05_cfDNA    58.921912        67.204007         3.762391411 CHP_323_05\n",
       "                    basename           \n",
       "CHP_323-03_cfDNA    CHP_323-03_cfDNA   \n",
       "CHP_323-03-PBMC-DNA CHP_323-03-PBMC-DNA\n",
       "CHP_323-04-PBMC-DNA CHP_323-04-PBMC-DNA\n",
       "CHP_323-05-PBMC-DNA CHP_323-05-PBMC-DNA\n",
       "CHP_323-05_cfDNA    CHP_323-05_cfDNA   \n",
       "                    file                                                                          \n",
       "CHP_323-03_cfDNA    batch3a9_cfDNA_10Jul2020/mixcr/clones/CLONES_TRBCHP_323-03_cfDNA.txt          \n",
       "CHP_323-03-PBMC-DNA batch4_19Aug2019/mixcr/clones/CLONES_TRBCHP_323-03-PBMC-DNA.txt               \n",
       "CHP_323-04-PBMC-DNA batch7_25Oct2019/mixcr/clones/CLONES_TRBCHP_323-04-PBMC-DNA.txt               \n",
       "CHP_323-05-PBMC-DNA batch7_25Oct2019/mixcr/clones/CLONES_TRBCHP_323-05-PBMC-DNA.txt               \n",
       "CHP_323-05_cfDNA    remaining_batch_1_cfDNA_8April2021/mixcr/clones/CLONES_TRBCHP_323-05_cfDNA.txt\n",
       "                    sampletype\n",
       "CHP_323-03_cfDNA    cfDNA     \n",
       "CHP_323-03-PBMC-DNA PBMC      \n",
       "CHP_323-04-PBMC-DNA PBMC      \n",
       "CHP_323-05-PBMC-DNA PBMC      \n",
       "CHP_323-05_cfDNA    cfDNA     "
      ]
     },
     "metadata": {},
     "output_type": "display_data"
    }
   ],
   "source": [
    "divstats[grepl(\"CHP_323\", rownames(divstats)),]"
   ]
  },
  {
   "cell_type": "code",
   "execution_count": 14,
   "metadata": {
    "vscode": {
     "languageId": "r"
    }
   },
   "outputs": [],
   "source": [
    "lfs <- divstats$sample_id[grepl(\"LFS\", divstats$sample_id)]\n",
    "normals <- divstats$sample_id[grepl(\"YO\", divstats$sample_id) | grepl(\"MO\", divstats$sample_id)]"
   ]
  },
  {
   "cell_type": "code",
   "execution_count": 15,
   "metadata": {
    "vscode": {
     "languageId": "r"
    }
   },
   "outputs": [
    {
     "data": {
      "text/plain": [
       "\n",
       "cfDNA  FFPE  PBMC  <NA> \n",
       "  287    18   288     0 "
      ]
     },
     "metadata": {},
     "output_type": "display_data"
    }
   ],
   "source": [
    "table(divstats$sampletype, useNA = \"always\")"
   ]
  },
  {
   "cell_type": "code",
   "execution_count": 16,
   "metadata": {
    "vscode": {
     "languageId": "r"
    }
   },
   "outputs": [],
   "source": [
    "#merge div file separately for each sample type, then merge, just to capture all data regardless of available datatype\n",
    "meta_div_cf <- merge(metadata, divstats[divstats$sampletype == \"cfDNA\",], by = \"sample_id\", all = FALSE)\n",
    "meta_div_pbmc <- merge(metadata, divstats[divstats$sampletype == \"PBMC\",], by = \"sample_id\", all = TRUE)"
   ]
  },
  {
   "cell_type": "code",
   "execution_count": 17,
   "metadata": {
    "vscode": {
     "languageId": "r"
    }
   },
   "outputs": [],
   "source": [
    "div_ffpe <- divstats[divstats$sampletype == \"FFPE\",]\n",
    "\n",
    "div_ffpe$Patient <- gsub(\"_A\", \"\", div_ffpe$sample_id)\n",
    "div_ffpe$Patient <- gsub(\"_B\", \"\", div_ffpe$Patient)"
   ]
  },
  {
   "cell_type": "code",
   "execution_count": 18,
   "metadata": {
    "vscode": {
     "languageId": "r"
    }
   },
   "outputs": [],
   "source": [
    "meta_div_ffpe <- cbind(metadata[ match(div_ffpe$Patient, metadata$Patient),], div_ffpe)"
   ]
  },
  {
   "cell_type": "code",
   "execution_count": 19,
   "metadata": {
    "vscode": {
     "languageId": "r"
    }
   },
   "outputs": [
    {
     "data": {
      "text/html": [
       "<style>\n",
       ".list-inline {list-style: none; margin:0; padding: 0}\n",
       ".list-inline>li {display: inline-block}\n",
       ".list-inline>li:not(:last-child)::after {content: \"\\00b7\"; padding: 0 .5ex}\n",
       "</style>\n",
       "<ol class=list-inline><li>36</li><li>62</li></ol>\n"
      ],
      "text/latex": [
       "\\begin{enumerate*}\n",
       "\\item 36\n",
       "\\item 62\n",
       "\\end{enumerate*}\n"
      ],
      "text/markdown": [
       "1. 36\n",
       "2. 62\n",
       "\n",
       "\n"
      ],
      "text/plain": [
       "[1] 36 62"
      ]
     },
     "metadata": {},
     "output_type": "display_data"
    }
   ],
   "source": [
    "which(colnames(meta_div_ffpe) == \"sample_id\")"
   ]
  },
  {
   "cell_type": "code",
   "execution_count": 20,
   "metadata": {
    "vscode": {
     "languageId": "r"
    }
   },
   "outputs": [],
   "source": [
    "meta_div_ffpe <- meta_div_ffpe[, c(36,1:35,38:ncol(meta_div_ffpe)-1)]"
   ]
  },
  {
   "cell_type": "code",
   "execution_count": 21,
   "metadata": {
    "vscode": {
     "languageId": "r"
    }
   },
   "outputs": [],
   "source": [
    "meta_div_ffpe$sample_id.1 <- NULL"
   ]
  },
  {
   "cell_type": "code",
   "execution_count": 22,
   "metadata": {
    "vscode": {
     "languageId": "r"
    }
   },
   "outputs": [],
   "source": [
    "meta_div <- rbind(meta_div_cf, meta_div_pbmc, meta_div_ffpe)"
   ]
  },
  {
   "cell_type": "code",
   "execution_count": 23,
   "metadata": {
    "vscode": {
     "languageId": "r"
    }
   },
   "outputs": [
    {
     "data": {
      "text/html": [
       "<style>\n",
       ".list-inline {list-style: none; margin:0; padding: 0}\n",
       ".list-inline>li {display: inline-block}\n",
       ".list-inline>li:not(:last-child)::after {content: \"\\00b7\"; padding: 0 .5ex}\n",
       "</style>\n",
       "<ol class=list-inline><li>925</li><li>64</li></ol>\n"
      ],
      "text/latex": [
       "\\begin{enumerate*}\n",
       "\\item 925\n",
       "\\item 64\n",
       "\\end{enumerate*}\n"
      ],
      "text/markdown": [
       "1. 925\n",
       "2. 64\n",
       "\n",
       "\n"
      ],
      "text/plain": [
       "[1] 925  64"
      ]
     },
     "metadata": {},
     "output_type": "display_data"
    }
   ],
   "source": [
    "dim(meta_div)"
   ]
  },
  {
   "cell_type": "code",
   "execution_count": 24,
   "metadata": {
    "vscode": {
     "languageId": "r"
    }
   },
   "outputs": [],
   "source": [
    "#create a group for LFS and non-LFS\n",
    "meta_div$Group <- NA\n",
    "meta_div$Group[grepl(\"LFS\", meta_div$sample_id)] <- \"LFS\"\n",
    "meta_div$Group[grepl(\"CHP\", meta_div$sample_id)] <- \"CHP\""
   ]
  },
  {
   "cell_type": "code",
   "execution_count": 25,
   "metadata": {
    "vscode": {
     "languageId": "r"
    }
   },
   "outputs": [],
   "source": [
    "#create sample type\n",
    "meta_div$sampletype <- NA\n",
    "meta_div$sampletype[grepl(\"PBMC\", meta_div$basename)] <- \"PBMC\"\n",
    "meta_div$sampletype[grepl(\"cfDNA\", meta_div$basename)] <- \"cfDNA\"\n",
    "meta_div$sampletype[grepl(\"FFPE\", meta_div$basename)] <- \"Tumor\"\n",
    "#sampletyoe is PBMC if basename is NA, they are flow data\n",
    "meta_div$sampletype[is.na(meta_div$basename)] <- \"PBMC\""
   ]
  },
  {
   "cell_type": "code",
   "execution_count": 26,
   "metadata": {
    "vscode": {
     "languageId": "r"
    }
   },
   "outputs": [],
   "source": [
    "# add Patient id for normals, lfs\n",
    "meta_div$Patient[meta_div$sample_id %in% c(lfs, normals)] <-\n",
    "       substr(\n",
    "              meta_div$sample_id[meta_div$sample_id %in% c(lfs, normals)], 1,\n",
    "              nchar(meta_div$sample_id[meta_div$sample_id %in% c(lfs, normals)]) - 3\n",
    "       )\n"
   ]
  },
  {
   "cell_type": "code",
   "execution_count": 27,
   "metadata": {
    "vscode": {
     "languageId": "r"
    }
   },
   "outputs": [],
   "source": [
    "# few samples we sequenced but was not in David's file\n",
    "meta_div$Patient[is.na(meta_div$Patient) & meta_div$sampletype != \"Tumor\"] <-\n",
    "       substr(\n",
    "              meta_div$sample_id[is.na(meta_div$Patient) & meta_div$sampletype != \"Tumor\"], 1,\n",
    "              nchar(meta_div$sample_id[is.na(meta_div$Patient) & meta_div$sampletype != \"Tumor\"]) - 3\n",
    "       )\n"
   ]
  },
  {
   "cell_type": "code",
   "execution_count": 28,
   "metadata": {
    "vscode": {
     "languageId": "r"
    }
   },
   "outputs": [],
   "source": [
    "# Patient id same as sampel_id for tumor samples\n",
    "meta_div$Patient[is.na(meta_div$Patient)] <- meta_div$sample_id[is.na(meta_div$Patient)]\n"
   ]
  },
  {
   "cell_type": "code",
   "execution_count": 29,
   "metadata": {
    "vscode": {
     "languageId": "r"
    }
   },
   "outputs": [],
   "source": [
    "# overwrite cycle for consistency\n",
    "\n",
    "meta_div$cycle <- NA\n",
    "meta_div$cycle <- substr(\n",
    "       meta_div$sample_id,\n",
    "       nchar(meta_div$sample_id) - 1, nchar(meta_div$sample_id)\n",
    ")\n"
   ]
  },
  {
   "cell_type": "code",
   "execution_count": 30,
   "metadata": {
    "vscode": {
     "languageId": "r"
    }
   },
   "outputs": [],
   "source": [
    "#add X to prevent numeric\n",
    "meta_div$cycle <- paste0(\"X\", meta_div$cycle)"
   ]
  },
  {
   "cell_type": "code",
   "execution_count": 31,
   "metadata": {
    "vscode": {
     "languageId": "r"
    }
   },
   "outputs": [],
   "source": [
    "# cycle for tumors are 00\n",
    "meta_div$cycle[ which(meta_div$sampletype == \"Tumor\")] <- \"X00\""
   ]
  },
  {
   "cell_type": "code",
   "execution_count": 32,
   "metadata": {
    "vscode": {
     "languageId": "r"
    }
   },
   "outputs": [
    {
     "data": {
      "text/plain": [
       "\n",
       "X00 X01 X02 X03 X04 X05 \n",
       " 42 183 184 176 172 168 "
      ]
     },
     "metadata": {},
     "output_type": "display_data"
    }
   ],
   "source": [
    "table(meta_div$cycle)"
   ]
  },
  {
   "cell_type": "code",
   "execution_count": 33,
   "metadata": {
    "vscode": {
     "languageId": "r"
    }
   },
   "outputs": [],
   "source": [
    "#Disease_type for normals = Normal and lfs = LFS\n",
    "meta_div$Disease_type[ meta_div$sample_id %in% normals] <- \"Normal\"\n",
    "\n",
    "meta_div$Disease_type[ meta_div$sample_id %in% lfs] <- \"LFS\""
   ]
  },
  {
   "cell_type": "code",
   "execution_count": 34,
   "metadata": {
    "vscode": {
     "languageId": "r"
    }
   },
   "outputs": [
    {
     "data": {
      "text/plain": [
       "\n",
       "  ALCL    ALL    AML   ARMS     BL    BLL    CML  DLBCL   ERMS    EWS     HB \n",
       "    15    180     82      9     37     17     21     22     42     48     27 \n",
       "    HD HR ALL    LFS  MS NB     NB Normal     OS  PMBCL    RMS SR ALL  T-ALL \n",
       "    67    105     10      6     29     14     93     16     15     18     31 \n",
       " WILMS   <NA> \n",
       "    19      2 "
      ]
     },
     "metadata": {},
     "output_type": "display_data"
    }
   ],
   "source": [
    "table(meta_div$Disease_type, useNA = \"always\")"
   ]
  },
  {
   "cell_type": "code",
   "execution_count": 35,
   "metadata": {
    "vscode": {
     "languageId": "r"
    }
   },
   "outputs": [],
   "source": [
    "#minor fix\n",
    "meta_div$Patient[ meta_div$Patient == \"CHP_404_A\"] <- \"CHP_404\"\n",
    "meta_div$Patient[ meta_div$Patient == \"CHP_404_B\"] <- \"CHP_404\"\n",
    "meta_div$Patient[ meta_div$Patient == \"CHP_344_A\"] <- \"CHP_344\""
   ]
  },
  {
   "cell_type": "code",
   "execution_count": 36,
   "metadata": {
    "vscode": {
     "languageId": "r"
    }
   },
   "outputs": [],
   "source": [
    "# add dx for tumors\n",
    "for (i in unique(meta_div$Patient[which(meta_div$sampletype == \"Tumor\")])) {\n",
    "   # print(i)\n",
    "   tmp <- meta_div[meta_div$Patient == i, ]\n",
    "   cancer <- names(table(tmp$Disease_type)[1])\n",
    "   meta_div$Disease_type[meta_div$Patient == i &\n",
    "      meta_div$sampletype %in% \"Tumor\"] <- cancer\n",
    "}\n"
   ]
  },
  {
   "cell_type": "code",
   "execution_count": 37,
   "metadata": {
    "vscode": {
     "languageId": "r"
    }
   },
   "outputs": [
    {
     "data": {
      "text/html": [
       "<table class=\"dataframe\">\n",
       "<caption>A data.frame: 2 x 65</caption>\n",
       "<thead>\n",
       "\t<tr><th></th><th scope=col>sample_id</th><th scope=col>Patient</th><th scope=col>cycle</th><th scope=col>FOLD</th><th scope=col>ATC</th><th scope=col>Age</th><th scope=col>Disease_type</th><th scope=col>TE_fold</th><th scope=col>CD3</th><th scope=col>EM</th><th scope=col>...</th><th scope=col>observed_Shannon</th><th scope=col>estimated_Shannon</th><th scope=col>SE_Shannon</th><th scope=col>observed_Simpson</th><th scope=col>estimated_Simpson</th><th scope=col>SE_Simpson</th><th scope=col>basename</th><th scope=col>file</th><th scope=col>sampletype</th><th scope=col>Group</th></tr>\n",
       "\t<tr><th></th><th scope=col>&lt;chr&gt;</th><th scope=col>&lt;chr&gt;</th><th scope=col>&lt;chr&gt;</th><th scope=col>&lt;dbl&gt;</th><th scope=col>&lt;dbl&gt;</th><th scope=col>&lt;dbl&gt;</th><th scope=col>&lt;chr&gt;</th><th scope=col>&lt;dbl&gt;</th><th scope=col>&lt;int&gt;</th><th scope=col>&lt;int&gt;</th><th scope=col>...</th><th scope=col>&lt;dbl&gt;</th><th scope=col>&lt;dbl&gt;</th><th scope=col>&lt;dbl&gt;</th><th scope=col>&lt;dbl&gt;</th><th scope=col>&lt;dbl&gt;</th><th scope=col>&lt;dbl&gt;</th><th scope=col>&lt;chr&gt;</th><th scope=col>&lt;chr&gt;</th><th scope=col>&lt;chr&gt;</th><th scope=col>&lt;chr&gt;</th></tr>\n",
       "</thead>\n",
       "<tbody>\n",
       "\t<tr><th scope=row>296</th><td>CHP_303_05</td><td>CHP_303</td><td>X05</td><td>NA</td><td>NA</td><td>NA</td><td>NA</td><td>NA</td><td>NA</td><td>NA</td><td>...</td><td>233.58105</td><td>251.87150</td><td>3.68538931</td><td>193.735238</td><td>213.47843</td><td>5.28987505</td><td>CHP_303-05-PBMC-DNA</td><td>batch4_19Aug2019/mixcr/clones/CLONES_TRBCHP_303-05-PBMC-DNA.txt</td><td>PBMC</td><td>CHP</td></tr>\n",
       "\t<tr><th scope=row>297</th><td>CHP_315_05</td><td>CHP_315</td><td>X05</td><td>NA</td><td>NA</td><td>NA</td><td>NA</td><td>NA</td><td>NA</td><td>NA</td><td>...</td><td> 10.59058</td><td> 10.60092</td><td>0.05846878</td><td>  8.555735</td><td>  8.56082</td><td>0.08393007</td><td>CHP_315-05-PBMC-DNA</td><td>batch4_19Aug2019/mixcr/clones/CLONES_TRBCHP_315-05-PBMC-DNA.txt</td><td>PBMC</td><td>CHP</td></tr>\n",
       "</tbody>\n",
       "</table>\n"
      ],
      "text/latex": [
       "A data.frame: 2 x 65\n",
       "\\begin{tabular}{r|lllllllllllllllllllll}\n",
       "  & sample\\_id & Patient & cycle & FOLD & ATC & Age & Disease\\_type & TE\\_fold & CD3 & EM & ... & observed\\_Shannon & estimated\\_Shannon & SE\\_Shannon & observed\\_Simpson & estimated\\_Simpson & SE\\_Simpson & basename & file & sampletype & Group\\\\\n",
       "  & <chr> & <chr> & <chr> & <dbl> & <dbl> & <dbl> & <chr> & <dbl> & <int> & <int> & ... & <dbl> & <dbl> & <dbl> & <dbl> & <dbl> & <dbl> & <chr> & <chr> & <chr> & <chr>\\\\\n",
       "\\hline\n",
       "\t296 & CHP\\_303\\_05 & CHP\\_303 & X05 & NA & NA & NA & NA & NA & NA & NA & ... & 233.58105 & 251.87150 & 3.68538931 & 193.735238 & 213.47843 & 5.28987505 & CHP\\_303-05-PBMC-DNA & batch4\\_19Aug2019/mixcr/clones/CLONES\\_TRBCHP\\_303-05-PBMC-DNA.txt & PBMC & CHP\\\\\n",
       "\t297 & CHP\\_315\\_05 & CHP\\_315 & X05 & NA & NA & NA & NA & NA & NA & NA & ... &  10.59058 &  10.60092 & 0.05846878 &   8.555735 &   8.56082 & 0.08393007 & CHP\\_315-05-PBMC-DNA & batch4\\_19Aug2019/mixcr/clones/CLONES\\_TRBCHP\\_315-05-PBMC-DNA.txt & PBMC & CHP\\\\\n",
       "\\end{tabular}\n"
      ],
      "text/markdown": [
       "\n",
       "A data.frame: 2 x 65\n",
       "\n",
       "| <!--/--> | sample_id &lt;chr&gt; | Patient &lt;chr&gt; | cycle &lt;chr&gt; | FOLD &lt;dbl&gt; | ATC &lt;dbl&gt; | Age &lt;dbl&gt; | Disease_type &lt;chr&gt; | TE_fold &lt;dbl&gt; | CD3 &lt;int&gt; | EM &lt;int&gt; | ... ... | observed_Shannon &lt;dbl&gt; | estimated_Shannon &lt;dbl&gt; | SE_Shannon &lt;dbl&gt; | observed_Simpson &lt;dbl&gt; | estimated_Simpson &lt;dbl&gt; | SE_Simpson &lt;dbl&gt; | basename &lt;chr&gt; | file &lt;chr&gt; | sampletype &lt;chr&gt; | Group &lt;chr&gt; |\n",
       "|---|---|---|---|---|---|---|---|---|---|---|---|---|---|---|---|---|---|---|---|---|---|\n",
       "| 296 | CHP_303_05 | CHP_303 | X05 | NA | NA | NA | NA | NA | NA | NA | ... | 233.58105 | 251.87150 | 3.68538931 | 193.735238 | 213.47843 | 5.28987505 | CHP_303-05-PBMC-DNA | batch4_19Aug2019/mixcr/clones/CLONES_TRBCHP_303-05-PBMC-DNA.txt | PBMC | CHP |\n",
       "| 297 | CHP_315_05 | CHP_315 | X05 | NA | NA | NA | NA | NA | NA | NA | ... |  10.59058 |  10.60092 | 0.05846878 |   8.555735 |   8.56082 | 0.08393007 | CHP_315-05-PBMC-DNA | batch4_19Aug2019/mixcr/clones/CLONES_TRBCHP_315-05-PBMC-DNA.txt | PBMC | CHP |\n",
       "\n"
      ],
      "text/plain": [
       "    sample_id  Patient cycle FOLD ATC Age Disease_type TE_fold CD3 EM ...\n",
       "296 CHP_303_05 CHP_303 X05   NA   NA  NA  NA           NA      NA  NA ...\n",
       "297 CHP_315_05 CHP_315 X05   NA   NA  NA  NA           NA      NA  NA ...\n",
       "    observed_Shannon estimated_Shannon SE_Shannon observed_Simpson\n",
       "296 233.58105        251.87150         3.68538931 193.735238      \n",
       "297  10.59058         10.60092         0.05846878   8.555735      \n",
       "    estimated_Simpson SE_Simpson basename           \n",
       "296 213.47843         5.28987505 CHP_303-05-PBMC-DNA\n",
       "297   8.56082         0.08393007 CHP_315-05-PBMC-DNA\n",
       "    file                                                            sampletype\n",
       "296 batch4_19Aug2019/mixcr/clones/CLONES_TRBCHP_303-05-PBMC-DNA.txt PBMC      \n",
       "297 batch4_19Aug2019/mixcr/clones/CLONES_TRBCHP_315-05-PBMC-DNA.txt PBMC      \n",
       "    Group\n",
       "296 CHP  \n",
       "297 CHP  "
      ]
     },
     "metadata": {},
     "output_type": "display_data"
    }
   ],
   "source": [
    "meta_div[ is.na(meta_div$Disease_type),]"
   ]
  },
  {
   "cell_type": "code",
   "execution_count": 38,
   "metadata": {
    "vscode": {
     "languageId": "r"
    }
   },
   "outputs": [],
   "source": [
    "# old samples. Remove them!\n",
    "meta_div <- meta_div[ !is.na(meta_div$Disease_type),]"
   ]
  },
  {
   "cell_type": "code",
   "execution_count": 39,
   "metadata": {
    "vscode": {
     "languageId": "r"
    }
   },
   "outputs": [
    {
     "data": {
      "text/plain": [
       "\n",
       "Leukemia Lymphoma    Solid     <NA> \n",
       "     437      174      288       24 "
      ]
     },
     "metadata": {},
     "output_type": "display_data"
    }
   ],
   "source": [
    "table(meta_div$cancergroup, useNA = \"always\")"
   ]
  },
  {
   "cell_type": "code",
   "execution_count": 40,
   "metadata": {
    "vscode": {
     "languageId": "r"
    }
   },
   "outputs": [
    {
     "data": {
      "text/plain": [
       "\n",
       "  ALCL    ALL    AML   ARMS     BL    BLL    CML  DLBCL   ERMS    EWS     HB \n",
       "    15    180     82      9     37     17     21     22     42     48     27 \n",
       "    HD HR ALL    LFS  MS NB     NB Normal     OS  PMBCL    RMS SR ALL  T-ALL \n",
       "    67    105     10      6     29     14     93     16     15     18     31 \n",
       " WILMS   <NA> \n",
       "    19      0 "
      ]
     },
     "metadata": {},
     "output_type": "display_data"
    }
   ],
   "source": [
    "table(meta_div$Disease_type, useNA = \"always\")"
   ]
  },
  {
   "cell_type": "code",
   "execution_count": 41,
   "metadata": {
    "vscode": {
     "languageId": "r"
    }
   },
   "outputs": [],
   "source": [
    "meta_div$cancergroup[ meta_div$sampletype == \"Tumor\"] <- \"Solid\"\n",
    "meta_div$cancergroup[ meta_div$Disease_type == \"Normal\"] <- \"Normal\"\n",
    "meta_div$cancergroup[ meta_div$Disease_type == \"LFS\"] <- \"LFS\""
   ]
  },
  {
   "cell_type": "code",
   "execution_count": 42,
   "metadata": {
    "vscode": {
     "languageId": "r"
    }
   },
   "outputs": [
    {
     "data": {
      "text/plain": [
       "\n",
       "Leukemia      LFS Lymphoma   Normal    Solid     <NA> \n",
       "     437       10      164       14      298        0 "
      ]
     },
     "metadata": {},
     "output_type": "display_data"
    }
   ],
   "source": [
    "table(meta_div$cancergroup, useNA = \"always\")"
   ]
  },
  {
   "cell_type": "code",
   "execution_count": 43,
   "metadata": {
    "vscode": {
     "languageId": "r"
    }
   },
   "outputs": [
    {
     "data": {
      "text/plain": [
       "\n",
       "cfDNA  PBMC Tumor  <NA> \n",
       "  286   619    18     0 "
      ]
     },
     "metadata": {},
     "output_type": "display_data"
    }
   ],
   "source": [
    "table(meta_div$sampletype, useNA = \"always\")"
   ]
  },
  {
   "cell_type": "code",
   "execution_count": 44,
   "metadata": {
    "vscode": {
     "languageId": "r"
    }
   },
   "outputs": [],
   "source": [
    "save(meta_div, file = paste0(datapath,\"capTCRseq/meta_div_TRB.RData\"))"
   ]
  },
  {
   "cell_type": "code",
   "execution_count": null,
   "metadata": {
    "vscode": {
     "languageId": "r"
    }
   },
   "outputs": [],
   "source": []
  }
 ],
 "metadata": {
  "kernelspec": {
   "display_name": "R 4.0",
   "language": "R",
   "name": "ir40"
  },
  "language_info": {
   "codemirror_mode": "r",
   "file_extension": ".r",
   "mimetype": "text/x-r-source",
   "name": "R",
   "pygments_lexer": "r",
   "version": "4.2.2"
  },
  "toc": {
   "base_numbering": 1,
   "nav_menu": {},
   "number_sections": false,
   "sideBar": true,
   "skip_h1_title": false,
   "title_cell": "Table of Contents",
   "title_sidebar": "Contents",
   "toc_cell": true,
   "toc_position": {
    "height": "calc(100% - 180px)",
    "left": "10px",
    "top": "150px",
    "width": "217.301px"
   },
   "toc_section_display": true,
   "toc_window_display": true
  }
 },
 "nbformat": 4,
 "nbformat_minor": 2
}

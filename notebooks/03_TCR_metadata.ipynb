{
 "cells": [
  {
   "cell_type": "code",
   "execution_count": 2,
   "metadata": {
    "vscode": {
     "languageId": "r"
    }
   },
   "outputs": [
    {
     "data": {
      "text/html": [
       "'en_US.UTF-8/en_US.UTF-8/en_US.UTF-8/C/en_US.UTF-8/C'"
      ],
      "text/latex": [
       "'en\\_US.UTF-8/en\\_US.UTF-8/en\\_US.UTF-8/C/en\\_US.UTF-8/C'"
      ],
      "text/markdown": [
       "'en_US.UTF-8/en_US.UTF-8/en_US.UTF-8/C/en_US.UTF-8/C'"
      ],
      "text/plain": [
       "[1] \"en_US.UTF-8/en_US.UTF-8/en_US.UTF-8/C/en_US.UTF-8/C\""
      ]
     },
     "metadata": {},
     "output_type": "display_data"
    }
   ],
   "source": [
    "Sys.setlocale(category = \"LC_ALL\", locale = \"en_US.UTF-8\")"
   ]
  },
  {
   "attachments": {},
   "cell_type": "markdown",
   "metadata": {},
   "source": [
    "# Dependencies"
   ]
  },
  {
   "cell_type": "code",
   "execution_count": 1,
   "metadata": {
    "vscode": {
     "languageId": "r"
    }
   },
   "outputs": [],
   "source": [
    "pacman::p_load(ggplot2)"
   ]
  },
  {
   "attachments": {},
   "cell_type": "markdown",
   "metadata": {},
   "source": [
    "# Functions"
   ]
  },
  {
   "cell_type": "code",
   "execution_count": 3,
   "metadata": {
    "vscode": {
     "languageId": "r"
    }
   },
   "outputs": [],
   "source": [
    "source(\"/Users/anabbi/git/ped_CapTCRseq/R/ggplot2_theme.R\")\n",
    "source(\"/Users/anabbi/git/ped_CapTCRseq/R/color_schemes.R\")\n",
    "source(\"/Users/anabbi/git/ped_CapTCRseq/R/Misc_functions.R\")"
   ]
  },
  {
   "attachments": {},
   "cell_type": "markdown",
   "metadata": {},
   "source": [
    "# Paths"
   ]
  },
  {
   "cell_type": "code",
   "execution_count": 4,
   "metadata": {
    "vscode": {
     "languageId": "r"
    }
   },
   "outputs": [],
   "source": [
    "datapath <- \"/Users/anabbi/OneDrive - UHN/Documents/INTERCEPT/Data/\"\n",
    "plotpath <- \"/Users/anabbi/OneDrive - UHN/Documents/INTERCEPT/Plots/\"\n",
    "manifestpath <- \"/Users/anabbi/OneDrive - UHN/Documents/INTERCEPT/Manifests/\"\n",
    "gitpath <- \"/Users/anabbi/git/ped_CapTCRseq/\""
   ]
  },
  {
   "attachments": {},
   "cell_type": "markdown",
   "metadata": {},
   "source": [
    "# Main"
   ]
  },
  {
   "cell_type": "code",
   "execution_count": 5,
   "metadata": {
    "vscode": {
     "languageId": "r"
    }
   },
   "outputs": [],
   "source": [
    "metadata <- read.csv(\n",
    "    file = paste0(datapath, \"INT_metadata_flow.csv\"),\n",
    "    header = T, stringsAsFactors = F, colClasses = c(\"cycle\" = \"character\"), check.names = F\n",
    ")\n"
   ]
  },
  {
   "cell_type": "code",
   "execution_count": 6,
   "metadata": {
    "vscode": {
     "languageId": "r"
    }
   },
   "outputs": [
    {
     "data": {
      "text/html": [
       "<table class=\"dataframe\">\n",
       "<caption>A data.frame: 6 x 42</caption>\n",
       "<thead>\n",
       "\t<tr><th></th><th scope=col>Patient</th><th scope=col>cycle</th><th scope=col>FOLD</th><th scope=col>ATC</th><th scope=col>Age</th><th scope=col>Disease_type</th><th scope=col>TE_fold</th><th scope=col>CD3</th><th scope=col>EM</th><th scope=col>CM</th><th scope=col>...</th><th scope=col>cancergroup</th><th scope=col>agegroup</th><th scope=col>foldgroup</th><th scope=col>sample_id</th><th scope=col>Remission</th><th scope=col>Relapse</th><th scope=col>Transplant</th><th scope=col>CART</th><th scope=col>vital_status</th><th scope=col>LOF</th></tr>\n",
       "\t<tr><th></th><th scope=col>&lt;chr&gt;</th><th scope=col>&lt;chr&gt;</th><th scope=col>&lt;dbl&gt;</th><th scope=col>&lt;dbl&gt;</th><th scope=col>&lt;dbl&gt;</th><th scope=col>&lt;chr&gt;</th><th scope=col>&lt;dbl&gt;</th><th scope=col>&lt;int&gt;</th><th scope=col>&lt;int&gt;</th><th scope=col>&lt;int&gt;</th><th scope=col>...</th><th scope=col>&lt;chr&gt;</th><th scope=col>&lt;chr&gt;</th><th scope=col>&lt;chr&gt;</th><th scope=col>&lt;chr&gt;</th><th scope=col>&lt;int&gt;</th><th scope=col>&lt;int&gt;</th><th scope=col>&lt;int&gt;</th><th scope=col>&lt;int&gt;</th><th scope=col>&lt;int&gt;</th><th scope=col>&lt;int&gt;</th></tr>\n",
       "</thead>\n",
       "<tbody>\n",
       "\t<tr><th scope=row>1</th><td>CHP_319</td><td>01</td><td>1.4</td><td>0</td><td>1</td><td>HR ALL</td><td>1.4</td><td>0</td><td>NA</td><td>NA</td><td>...</td><td>Leukemia</td><td>&lt; 2 yrs </td><td>Low </td><td>CHP_319_01</td><td>0</td><td>1</td><td>0</td><td>1</td><td>1</td><td>0</td></tr>\n",
       "\t<tr><th scope=row>2</th><td>CHP_319</td><td>02</td><td>7.9</td><td>0</td><td>1</td><td>HR ALL</td><td>7.9</td><td>0</td><td>NA</td><td>NA</td><td>...</td><td>Leukemia</td><td>&lt; 2 yrs </td><td>High</td><td>CHP_319_02</td><td>0</td><td>1</td><td>0</td><td>1</td><td>1</td><td>0</td></tr>\n",
       "\t<tr><th scope=row>3</th><td>CHP_319</td><td>03</td><td>1.8</td><td>0</td><td>1</td><td>HR ALL</td><td>1.8</td><td>0</td><td>NA</td><td>NA</td><td>...</td><td>Leukemia</td><td>&lt; 2 yrs </td><td>Low </td><td>CHP_319_03</td><td>0</td><td>1</td><td>0</td><td>1</td><td>1</td><td>0</td></tr>\n",
       "\t<tr><th scope=row>4</th><td>CHP_319</td><td>04</td><td>1.5</td><td>0</td><td>1</td><td>HR ALL</td><td>1.5</td><td>0</td><td>NA</td><td>NA</td><td>...</td><td>Leukemia</td><td>&lt; 2 yrs </td><td>Low </td><td>CHP_319_04</td><td>0</td><td>1</td><td>0</td><td>1</td><td>1</td><td>0</td></tr>\n",
       "\t<tr><th scope=row>5</th><td>CHP_319</td><td>05</td><td>1.2</td><td>0</td><td>1</td><td>HR ALL</td><td>1.2</td><td>0</td><td>NA</td><td>NA</td><td>...</td><td>Leukemia</td><td>&lt; 2 yrs </td><td>Low </td><td>CHP_319_05</td><td>0</td><td>1</td><td>0</td><td>1</td><td>1</td><td>0</td></tr>\n",
       "\t<tr><th scope=row>6</th><td>CHP_320</td><td>01</td><td>8.9</td><td>0</td><td>6</td><td>AML   </td><td>8.9</td><td>0</td><td>NA</td><td>NA</td><td>...</td><td>Leukemia</td><td>5-11 yrs</td><td>High</td><td>CHP_320_01</td><td>0</td><td>1</td><td>0</td><td>0</td><td>1</td><td>0</td></tr>\n",
       "</tbody>\n",
       "</table>\n"
      ],
      "text/latex": [
       "A data.frame: 6 x 42\n",
       "\\begin{tabular}{r|lllllllllllllllllllll}\n",
       "  & Patient & cycle & FOLD & ATC & Age & Disease\\_type & TE\\_fold & CD3 & EM & CM & ... & cancergroup & agegroup & foldgroup & sample\\_id & Remission & Relapse & Transplant & CART & vital\\_status & LOF\\\\\n",
       "  & <chr> & <chr> & <dbl> & <dbl> & <dbl> & <chr> & <dbl> & <int> & <int> & <int> & ... & <chr> & <chr> & <chr> & <chr> & <int> & <int> & <int> & <int> & <int> & <int>\\\\\n",
       "\\hline\n",
       "\t1 & CHP\\_319 & 01 & 1.4 & 0 & 1 & HR ALL & 1.4 & 0 & NA & NA & ... & Leukemia & < 2 yrs  & Low  & CHP\\_319\\_01 & 0 & 1 & 0 & 1 & 1 & 0\\\\\n",
       "\t2 & CHP\\_319 & 02 & 7.9 & 0 & 1 & HR ALL & 7.9 & 0 & NA & NA & ... & Leukemia & < 2 yrs  & High & CHP\\_319\\_02 & 0 & 1 & 0 & 1 & 1 & 0\\\\\n",
       "\t3 & CHP\\_319 & 03 & 1.8 & 0 & 1 & HR ALL & 1.8 & 0 & NA & NA & ... & Leukemia & < 2 yrs  & Low  & CHP\\_319\\_03 & 0 & 1 & 0 & 1 & 1 & 0\\\\\n",
       "\t4 & CHP\\_319 & 04 & 1.5 & 0 & 1 & HR ALL & 1.5 & 0 & NA & NA & ... & Leukemia & < 2 yrs  & Low  & CHP\\_319\\_04 & 0 & 1 & 0 & 1 & 1 & 0\\\\\n",
       "\t5 & CHP\\_319 & 05 & 1.2 & 0 & 1 & HR ALL & 1.2 & 0 & NA & NA & ... & Leukemia & < 2 yrs  & Low  & CHP\\_319\\_05 & 0 & 1 & 0 & 1 & 1 & 0\\\\\n",
       "\t6 & CHP\\_320 & 01 & 8.9 & 0 & 6 & AML    & 8.9 & 0 & NA & NA & ... & Leukemia & 5-11 yrs & High & CHP\\_320\\_01 & 0 & 1 & 0 & 0 & 1 & 0\\\\\n",
       "\\end{tabular}\n"
      ],
      "text/markdown": [
       "\n",
       "A data.frame: 6 x 42\n",
       "\n",
       "| <!--/--> | Patient &lt;chr&gt; | cycle &lt;chr&gt; | FOLD &lt;dbl&gt; | ATC &lt;dbl&gt; | Age &lt;dbl&gt; | Disease_type &lt;chr&gt; | TE_fold &lt;dbl&gt; | CD3 &lt;int&gt; | EM &lt;int&gt; | CM &lt;int&gt; | ... ... | cancergroup &lt;chr&gt; | agegroup &lt;chr&gt; | foldgroup &lt;chr&gt; | sample_id &lt;chr&gt; | Remission &lt;int&gt; | Relapse &lt;int&gt; | Transplant &lt;int&gt; | CART &lt;int&gt; | vital_status &lt;int&gt; | LOF &lt;int&gt; |\n",
       "|---|---|---|---|---|---|---|---|---|---|---|---|---|---|---|---|---|---|---|---|---|---|\n",
       "| 1 | CHP_319 | 01 | 1.4 | 0 | 1 | HR ALL | 1.4 | 0 | NA | NA | ... | Leukemia | &lt; 2 yrs  | Low  | CHP_319_01 | 0 | 1 | 0 | 1 | 1 | 0 |\n",
       "| 2 | CHP_319 | 02 | 7.9 | 0 | 1 | HR ALL | 7.9 | 0 | NA | NA | ... | Leukemia | &lt; 2 yrs  | High | CHP_319_02 | 0 | 1 | 0 | 1 | 1 | 0 |\n",
       "| 3 | CHP_319 | 03 | 1.8 | 0 | 1 | HR ALL | 1.8 | 0 | NA | NA | ... | Leukemia | &lt; 2 yrs  | Low  | CHP_319_03 | 0 | 1 | 0 | 1 | 1 | 0 |\n",
       "| 4 | CHP_319 | 04 | 1.5 | 0 | 1 | HR ALL | 1.5 | 0 | NA | NA | ... | Leukemia | &lt; 2 yrs  | Low  | CHP_319_04 | 0 | 1 | 0 | 1 | 1 | 0 |\n",
       "| 5 | CHP_319 | 05 | 1.2 | 0 | 1 | HR ALL | 1.2 | 0 | NA | NA | ... | Leukemia | &lt; 2 yrs  | Low  | CHP_319_05 | 0 | 1 | 0 | 1 | 1 | 0 |\n",
       "| 6 | CHP_320 | 01 | 8.9 | 0 | 6 | AML    | 8.9 | 0 | NA | NA | ... | Leukemia | 5-11 yrs | High | CHP_320_01 | 0 | 1 | 0 | 0 | 1 | 0 |\n",
       "\n"
      ],
      "text/plain": [
       "  Patient cycle FOLD ATC Age Disease_type TE_fold CD3 EM CM ... cancergroup\n",
       "1 CHP_319 01    1.4  0   1   HR ALL       1.4     0   NA NA ... Leukemia   \n",
       "2 CHP_319 02    7.9  0   1   HR ALL       7.9     0   NA NA ... Leukemia   \n",
       "3 CHP_319 03    1.8  0   1   HR ALL       1.8     0   NA NA ... Leukemia   \n",
       "4 CHP_319 04    1.5  0   1   HR ALL       1.5     0   NA NA ... Leukemia   \n",
       "5 CHP_319 05    1.2  0   1   HR ALL       1.2     0   NA NA ... Leukemia   \n",
       "6 CHP_320 01    8.9  0   6   AML          8.9     0   NA NA ... Leukemia   \n",
       "  agegroup foldgroup sample_id  Remission Relapse Transplant CART vital_status\n",
       "1 < 2 yrs  Low       CHP_319_01 0         1       0          1    1           \n",
       "2 < 2 yrs  High      CHP_319_02 0         1       0          1    1           \n",
       "3 < 2 yrs  Low       CHP_319_03 0         1       0          1    1           \n",
       "4 < 2 yrs  Low       CHP_319_04 0         1       0          1    1           \n",
       "5 < 2 yrs  Low       CHP_319_05 0         1       0          1    1           \n",
       "6 5-11 yrs High      CHP_320_01 0         1       0          0    1           \n",
       "  LOF\n",
       "1 0  \n",
       "2 0  \n",
       "3 0  \n",
       "4 0  \n",
       "5 0  \n",
       "6 0  "
      ]
     },
     "metadata": {},
     "output_type": "display_data"
    }
   ],
   "source": [
    "head(metadata)"
   ]
  },
  {
   "cell_type": "code",
   "execution_count": 7,
   "metadata": {
    "vscode": {
     "languageId": "r"
    }
   },
   "outputs": [
    {
     "data": {
      "text/html": [
       "<style>\n",
       ".list-inline {list-style: none; margin:0; padding: 0}\n",
       ".list-inline>li {display: inline-block}\n",
       ".list-inline>li:not(:last-child)::after {content: \"\\00b7\"; padding: 0 .5ex}\n",
       "</style>\n",
       "<ol class=list-inline><li>'Patient'</li><li>'cycle'</li><li>'FOLD'</li><li>'ATC'</li><li>'Age'</li><li>'Disease_type'</li><li>'TE_fold'</li><li>'CD3'</li><li>'EM'</li><li>'CM'</li><li>'Naïve'</li><li>'SCM'</li><li>'TE'</li><li>'EM%'</li><li>'CM%'</li><li>'Naïve%'</li><li>'SCM%'</li><li>'TE%'</li><li>'Naïve/TE'</li><li>'N+CM+SCM/TE+EM'</li><li>'PD-1'</li><li>'PDL1'</li><li>'LAG3'</li><li>'TIM3'</li><li>'CTLA4'</li><li>'PD1%'</li><li>'PDL1%'</li><li>'LAG3%'</li><li>'TIM3%'</li><li>'CTLA4%'</li><li>'Any NCR'</li><li>'PD1 + LAG3 + TIM3'</li><li>'cancergroup'</li><li>'agegroup'</li><li>'foldgroup'</li><li>'sample_id'</li><li>'Remission'</li><li>'Relapse'</li><li>'Transplant'</li><li>'CART'</li><li>'vital_status'</li><li>'LOF'</li></ol>\n"
      ],
      "text/latex": [
       "\\begin{enumerate*}\n",
       "\\item 'Patient'\n",
       "\\item 'cycle'\n",
       "\\item 'FOLD'\n",
       "\\item 'ATC'\n",
       "\\item 'Age'\n",
       "\\item 'Disease\\_type'\n",
       "\\item 'TE\\_fold'\n",
       "\\item 'CD3'\n",
       "\\item 'EM'\n",
       "\\item 'CM'\n",
       "\\item 'Naïve'\n",
       "\\item 'SCM'\n",
       "\\item 'TE'\n",
       "\\item 'EM\\%'\n",
       "\\item 'CM\\%'\n",
       "\\item 'Naïve\\%'\n",
       "\\item 'SCM\\%'\n",
       "\\item 'TE\\%'\n",
       "\\item 'Naïve/TE'\n",
       "\\item 'N+CM+SCM/TE+EM'\n",
       "\\item 'PD-1'\n",
       "\\item 'PDL1'\n",
       "\\item 'LAG3'\n",
       "\\item 'TIM3'\n",
       "\\item 'CTLA4'\n",
       "\\item 'PD1\\%'\n",
       "\\item 'PDL1\\%'\n",
       "\\item 'LAG3\\%'\n",
       "\\item 'TIM3\\%'\n",
       "\\item 'CTLA4\\%'\n",
       "\\item 'Any NCR'\n",
       "\\item 'PD1 + LAG3 + TIM3'\n",
       "\\item 'cancergroup'\n",
       "\\item 'agegroup'\n",
       "\\item 'foldgroup'\n",
       "\\item 'sample\\_id'\n",
       "\\item 'Remission'\n",
       "\\item 'Relapse'\n",
       "\\item 'Transplant'\n",
       "\\item 'CART'\n",
       "\\item 'vital\\_status'\n",
       "\\item 'LOF'\n",
       "\\end{enumerate*}\n"
      ],
      "text/markdown": [
       "1. 'Patient'\n",
       "2. 'cycle'\n",
       "3. 'FOLD'\n",
       "4. 'ATC'\n",
       "5. 'Age'\n",
       "6. 'Disease_type'\n",
       "7. 'TE_fold'\n",
       "8. 'CD3'\n",
       "9. 'EM'\n",
       "10. 'CM'\n",
       "11. 'Naïve'\n",
       "12. 'SCM'\n",
       "13. 'TE'\n",
       "14. 'EM%'\n",
       "15. 'CM%'\n",
       "16. 'Naïve%'\n",
       "17. 'SCM%'\n",
       "18. 'TE%'\n",
       "19. 'Naïve/TE'\n",
       "20. 'N+CM+SCM/TE+EM'\n",
       "21. 'PD-1'\n",
       "22. 'PDL1'\n",
       "23. 'LAG3'\n",
       "24. 'TIM3'\n",
       "25. 'CTLA4'\n",
       "26. 'PD1%'\n",
       "27. 'PDL1%'\n",
       "28. 'LAG3%'\n",
       "29. 'TIM3%'\n",
       "30. 'CTLA4%'\n",
       "31. 'Any NCR'\n",
       "32. 'PD1 + LAG3 + TIM3'\n",
       "33. 'cancergroup'\n",
       "34. 'agegroup'\n",
       "35. 'foldgroup'\n",
       "36. 'sample_id'\n",
       "37. 'Remission'\n",
       "38. 'Relapse'\n",
       "39. 'Transplant'\n",
       "40. 'CART'\n",
       "41. 'vital_status'\n",
       "42. 'LOF'\n",
       "\n",
       "\n"
      ],
      "text/plain": [
       " [1] \"Patient\"           \"cycle\"             \"FOLD\"             \n",
       " [4] \"ATC\"               \"Age\"               \"Disease_type\"     \n",
       " [7] \"TE_fold\"           \"CD3\"               \"EM\"               \n",
       "[10] \"CM\"                \"Naïve\"             \"SCM\"              \n",
       "[13] \"TE\"                \"EM%\"               \"CM%\"              \n",
       "[16] \"Naïve%\"            \"SCM%\"              \"TE%\"              \n",
       "[19] \"Naïve/TE\"          \"N+CM+SCM/TE+EM\"    \"PD-1\"             \n",
       "[22] \"PDL1\"              \"LAG3\"              \"TIM3\"             \n",
       "[25] \"CTLA4\"             \"PD1%\"              \"PDL1%\"            \n",
       "[28] \"LAG3%\"             \"TIM3%\"             \"CTLA4%\"           \n",
       "[31] \"Any NCR\"           \"PD1 + LAG3 + TIM3\" \"cancergroup\"      \n",
       "[34] \"agegroup\"          \"foldgroup\"         \"sample_id\"        \n",
       "[37] \"Remission\"         \"Relapse\"           \"Transplant\"       \n",
       "[40] \"CART\"              \"vital_status\"      \"LOF\"              "
      ]
     },
     "metadata": {},
     "output_type": "display_data"
    }
   ],
   "source": [
    "colnames(metadata)"
   ]
  },
  {
   "cell_type": "code",
   "execution_count": 8,
   "metadata": {
    "vscode": {
     "languageId": "r"
    }
   },
   "outputs": [],
   "source": [
    "# confirmed with David, remove those samples with NCR% > 100\n",
    "metadata$`TIM3%`[metadata$`TIM3%` > 100] <- NA\n",
    "metadata$`LAG3%`[metadata$`LAG3%` > 100] <- NA\n",
    "metadata$`PD1%`[metadata$`PD1%` > 100] <- NA\n",
    "metadata$`PDL1%`[metadata$`PDL1%` > 100] <- NA"
   ]
  },
  {
   "attachments": {},
   "cell_type": "markdown",
   "metadata": {},
   "source": [
    "## TRB"
   ]
  },
  {
   "cell_type": "code",
   "execution_count": 9,
   "metadata": {
    "vscode": {
     "languageId": "r"
    }
   },
   "outputs": [],
   "source": [
    "divstats <- read.csv(paste0(datapath, \"capTCRseq/divstats_TRBCHP_updated_corrected.csv\"),\n",
    "    header = T, stringsAsFactors = F, row.names = 1\n",
    ")"
   ]
  },
  {
   "cell_type": "code",
   "execution_count": 10,
   "metadata": {
    "vscode": {
     "languageId": "r"
    }
   },
   "outputs": [
    {
     "data": {
      "text/html": [
       "<table class=\"dataframe\">\n",
       "<caption>A data.frame: 2 x 22</caption>\n",
       "<thead>\n",
       "\t<tr><th></th><th scope=col>TRB</th><th scope=col>Reads</th><th scope=col>CPKR</th><th scope=col>Average_reads</th><th scope=col>VMR</th><th scope=col>Max_reads</th><th scope=col>Singletons</th><th scope=col>Doubletons</th><th scope=col>qD</th><th scope=col>Sample_Coverage</th><th scope=col>...</th><th scope=col>SE_Richeness</th><th scope=col>observed_Shannon</th><th scope=col>estimated_Shannon</th><th scope=col>SE_Shannon</th><th scope=col>observed_Simpson</th><th scope=col>estimated_Simpson</th><th scope=col>SE_Simpson</th><th scope=col>sample_id</th><th scope=col>basename</th><th scope=col>file</th></tr>\n",
       "\t<tr><th></th><th scope=col>&lt;int&gt;</th><th scope=col>&lt;int&gt;</th><th scope=col>&lt;dbl&gt;</th><th scope=col>&lt;dbl&gt;</th><th scope=col>&lt;dbl&gt;</th><th scope=col>&lt;int&gt;</th><th scope=col>&lt;int&gt;</th><th scope=col>&lt;int&gt;</th><th scope=col>&lt;dbl&gt;</th><th scope=col>&lt;dbl&gt;</th><th scope=col>...</th><th scope=col>&lt;dbl&gt;</th><th scope=col>&lt;dbl&gt;</th><th scope=col>&lt;dbl&gt;</th><th scope=col>&lt;dbl&gt;</th><th scope=col>&lt;dbl&gt;</th><th scope=col>&lt;dbl&gt;</th><th scope=col>&lt;dbl&gt;</th><th scope=col>&lt;chr&gt;</th><th scope=col>&lt;chr&gt;</th><th scope=col>&lt;chr&gt;</th></tr>\n",
       "</thead>\n",
       "<tbody>\n",
       "\t<tr><th scope=row>CHP_407-04-PBMC-DNA</th><td>569</td><td>69502</td><td> 8.186815</td><td>122.1476</td><td>0.7336426</td><td>659</td><td>9</td><td>4</td><td>574.9624</td><td>0.9999468</td><td>...</td><td>12.38727</td><td>440.9874</td><td>442.8405</td><td>1.043615</td><td>370.1329</td><td>372.1093</td><td>1.636065</td><td>CHP_407_04</td><td>CHP_407-04-PBMC-DNA</td><td>batch13_26Aug2020/mixcr/clones/CLONES_TRBCHP_407-04-PBMC-DNA.txt               </td></tr>\n",
       "\t<tr><th scope=row>CHP_407-04_cfDNA</th><td>  1</td><td>   58</td><td>17.241379</td><td> 58.0000</td><td>       NA</td><td> 58</td><td>0</td><td>0</td><td>  1.0000</td><td>1.0000000</td><td>...</td><td> 0.00000</td><td>  1.0000</td><td>  1.0000</td><td>0.000000</td><td>  1.0000</td><td>  1.0000</td><td>0.000000</td><td>CHP_407_04</td><td>CHP_407-04_cfDNA   </td><td>remaining_batch_3_cfDNA_15April2021/mixcr/clones/CLONES_TRBCHP_407-04_cfDNA.txt</td></tr>\n",
       "</tbody>\n",
       "</table>\n"
      ],
      "text/latex": [
       "A data.frame: 2 x 22\n",
       "\\begin{tabular}{r|lllllllllllllllllllll}\n",
       "  & TRB & Reads & CPKR & Average\\_reads & VMR & Max\\_reads & Singletons & Doubletons & qD & Sample\\_Coverage & ... & SE\\_Richeness & observed\\_Shannon & estimated\\_Shannon & SE\\_Shannon & observed\\_Simpson & estimated\\_Simpson & SE\\_Simpson & sample\\_id & basename & file\\\\\n",
       "  & <int> & <int> & <dbl> & <dbl> & <dbl> & <int> & <int> & <int> & <dbl> & <dbl> & ... & <dbl> & <dbl> & <dbl> & <dbl> & <dbl> & <dbl> & <dbl> & <chr> & <chr> & <chr>\\\\\n",
       "\\hline\n",
       "\tCHP\\_407-04-PBMC-DNA & 569 & 69502 &  8.186815 & 122.1476 & 0.7336426 & 659 & 9 & 4 & 574.9624 & 0.9999468 & ... & 12.38727 & 440.9874 & 442.8405 & 1.043615 & 370.1329 & 372.1093 & 1.636065 & CHP\\_407\\_04 & CHP\\_407-04-PBMC-DNA & batch13\\_26Aug2020/mixcr/clones/CLONES\\_TRBCHP\\_407-04-PBMC-DNA.txt               \\\\\n",
       "\tCHP\\_407-04\\_cfDNA &   1 &    58 & 17.241379 &  58.0000 &        NA &  58 & 0 & 0 &   1.0000 & 1.0000000 & ... &  0.00000 &   1.0000 &   1.0000 & 0.000000 &   1.0000 &   1.0000 & 0.000000 & CHP\\_407\\_04 & CHP\\_407-04\\_cfDNA    & remaining\\_batch\\_3\\_cfDNA\\_15April2021/mixcr/clones/CLONES\\_TRBCHP\\_407-04\\_cfDNA.txt\\\\\n",
       "\\end{tabular}\n"
      ],
      "text/markdown": [
       "\n",
       "A data.frame: 2 x 22\n",
       "\n",
       "| <!--/--> | TRB &lt;int&gt; | Reads &lt;int&gt; | CPKR &lt;dbl&gt; | Average_reads &lt;dbl&gt; | VMR &lt;dbl&gt; | Max_reads &lt;int&gt; | Singletons &lt;int&gt; | Doubletons &lt;int&gt; | qD &lt;dbl&gt; | Sample_Coverage &lt;dbl&gt; | ... ... | SE_Richeness &lt;dbl&gt; | observed_Shannon &lt;dbl&gt; | estimated_Shannon &lt;dbl&gt; | SE_Shannon &lt;dbl&gt; | observed_Simpson &lt;dbl&gt; | estimated_Simpson &lt;dbl&gt; | SE_Simpson &lt;dbl&gt; | sample_id &lt;chr&gt; | basename &lt;chr&gt; | file &lt;chr&gt; |\n",
       "|---|---|---|---|---|---|---|---|---|---|---|---|---|---|---|---|---|---|---|---|---|---|\n",
       "| CHP_407-04-PBMC-DNA | 569 | 69502 |  8.186815 | 122.1476 | 0.7336426 | 659 | 9 | 4 | 574.9624 | 0.9999468 | ... | 12.38727 | 440.9874 | 442.8405 | 1.043615 | 370.1329 | 372.1093 | 1.636065 | CHP_407_04 | CHP_407-04-PBMC-DNA | batch13_26Aug2020/mixcr/clones/CLONES_TRBCHP_407-04-PBMC-DNA.txt                |\n",
       "| CHP_407-04_cfDNA |   1 |    58 | 17.241379 |  58.0000 |        NA |  58 | 0 | 0 |   1.0000 | 1.0000000 | ... |  0.00000 |   1.0000 |   1.0000 | 0.000000 |   1.0000 |   1.0000 | 0.000000 | CHP_407_04 | CHP_407-04_cfDNA    | remaining_batch_3_cfDNA_15April2021/mixcr/clones/CLONES_TRBCHP_407-04_cfDNA.txt |\n",
       "\n"
      ],
      "text/plain": [
       "                    TRB Reads CPKR      Average_reads VMR       Max_reads\n",
       "CHP_407-04-PBMC-DNA 569 69502  8.186815 122.1476      0.7336426 659      \n",
       "CHP_407-04_cfDNA      1    58 17.241379  58.0000             NA  58      \n",
       "                    Singletons Doubletons qD       Sample_Coverage ...\n",
       "CHP_407-04-PBMC-DNA 9          4          574.9624 0.9999468       ...\n",
       "CHP_407-04_cfDNA    0          0            1.0000 1.0000000       ...\n",
       "                    SE_Richeness observed_Shannon estimated_Shannon SE_Shannon\n",
       "CHP_407-04-PBMC-DNA 12.38727     440.9874         442.8405          1.043615  \n",
       "CHP_407-04_cfDNA     0.00000       1.0000           1.0000          0.000000  \n",
       "                    observed_Simpson estimated_Simpson SE_Simpson sample_id \n",
       "CHP_407-04-PBMC-DNA 370.1329         372.1093          1.636065   CHP_407_04\n",
       "CHP_407-04_cfDNA      1.0000           1.0000          0.000000   CHP_407_04\n",
       "                    basename           \n",
       "CHP_407-04-PBMC-DNA CHP_407-04-PBMC-DNA\n",
       "CHP_407-04_cfDNA    CHP_407-04_cfDNA   \n",
       "                    file                                                                           \n",
       "CHP_407-04-PBMC-DNA batch13_26Aug2020/mixcr/clones/CLONES_TRBCHP_407-04-PBMC-DNA.txt               \n",
       "CHP_407-04_cfDNA    remaining_batch_3_cfDNA_15April2021/mixcr/clones/CLONES_TRBCHP_407-04_cfDNA.txt"
      ]
     },
     "metadata": {},
     "output_type": "display_data"
    }
   ],
   "source": [
    "head(divstats[ divstats$sample_id == \"CHP_407_04\",])"
   ]
  },
  {
   "cell_type": "code",
   "execution_count": 11,
   "metadata": {
    "vscode": {
     "languageId": "r"
    }
   },
   "outputs": [],
   "source": [
    "divstats$sampletype <- NA\n",
    "divstats$sampletype[grepl(\"PBMC\", divstats$basename)] <- \"PBMC\"\n",
    "divstats$sampletype[grepl(\"cfDNA\", divstats$basename)] <- \"cfDNA\"\n",
    "divstats$sampletype[grepl(\"FFPE\", divstats$basename)] <- \"FFPE\""
   ]
  },
  {
   "cell_type": "code",
   "execution_count": 12,
   "metadata": {
    "vscode": {
     "languageId": "r"
    }
   },
   "outputs": [
    {
     "data": {
      "text/plain": [
       "\n",
       "cfDNA  FFPE  PBMC  <NA> \n",
       "  287    18   288     0 "
      ]
     },
     "metadata": {},
     "output_type": "display_data"
    }
   ],
   "source": [
    "table(divstats$sampletype, useNA = \"always\")"
   ]
  },
  {
   "cell_type": "code",
   "execution_count": 13,
   "metadata": {
    "vscode": {
     "languageId": "r"
    }
   },
   "outputs": [
    {
     "data": {
      "text/html": [
       "<table class=\"dataframe\">\n",
       "<caption>A data.frame: 5 x 23</caption>\n",
       "<thead>\n",
       "\t<tr><th></th><th scope=col>TRB</th><th scope=col>Reads</th><th scope=col>CPKR</th><th scope=col>Average_reads</th><th scope=col>VMR</th><th scope=col>Max_reads</th><th scope=col>Singletons</th><th scope=col>Doubletons</th><th scope=col>qD</th><th scope=col>Sample_Coverage</th><th scope=col>...</th><th scope=col>observed_Shannon</th><th scope=col>estimated_Shannon</th><th scope=col>SE_Shannon</th><th scope=col>observed_Simpson</th><th scope=col>estimated_Simpson</th><th scope=col>SE_Simpson</th><th scope=col>sample_id</th><th scope=col>basename</th><th scope=col>file</th><th scope=col>sampletype</th></tr>\n",
       "\t<tr><th></th><th scope=col>&lt;int&gt;</th><th scope=col>&lt;int&gt;</th><th scope=col>&lt;dbl&gt;</th><th scope=col>&lt;dbl&gt;</th><th scope=col>&lt;dbl&gt;</th><th scope=col>&lt;int&gt;</th><th scope=col>&lt;int&gt;</th><th scope=col>&lt;int&gt;</th><th scope=col>&lt;dbl&gt;</th><th scope=col>&lt;dbl&gt;</th><th scope=col>...</th><th scope=col>&lt;dbl&gt;</th><th scope=col>&lt;dbl&gt;</th><th scope=col>&lt;dbl&gt;</th><th scope=col>&lt;dbl&gt;</th><th scope=col>&lt;dbl&gt;</th><th scope=col>&lt;dbl&gt;</th><th scope=col>&lt;chr&gt;</th><th scope=col>&lt;chr&gt;</th><th scope=col>&lt;chr&gt;</th><th scope=col>&lt;chr&gt;</th></tr>\n",
       "</thead>\n",
       "<tbody>\n",
       "\t<tr><th scope=row>CHP_323-03_cfDNA</th><td>103</td><td>81588</td><td> 1.262441</td><td>792.11650</td><td>1.5296185</td><td>7047</td><td> 8</td><td>0</td><td>109.95861</td><td>0.9999263</td><td>...</td><td>43.423179</td><td>43.456085</td><td>0.15187858</td><td>31.051999</td><td>31.063441</td><td>0.1585361</td><td>CHP_323_03</td><td>CHP_323-03_cfDNA   </td><td>batch3a9_cfDNA_10Jul2020/mixcr/clones/CLONES_TRBCHP_323-03_cfDNA.txt          </td><td>cfDNA</td></tr>\n",
       "\t<tr><th scope=row>CHP_323-03-PBMC-DNA</th><td> 45</td><td> 3175</td><td>14.173228</td><td> 70.55556</td><td>0.6027869</td><td> 220</td><td> 1</td><td>0</td><td> 45.00000</td><td>1.0000000</td><td>...</td><td>37.721974</td><td>37.986092</td><td>0.38027285</td><td>33.203530</td><td>33.543868</td><td>0.6519925</td><td>CHP_323_03</td><td>CHP_323-03-PBMC-DNA</td><td>batch4_19Aug2019/mixcr/clones/CLONES_TRBCHP_323-03-PBMC-DNA.txt               </td><td>PBMC </td></tr>\n",
       "\t<tr><th scope=row>CHP_323-04-PBMC-DNA</th><td> 23</td><td>  671</td><td>34.277198</td><td> 29.17391</td><td>1.2769705</td><td> 167</td><td> 1</td><td>1</td><td> 23.43169</td><td>0.9997989</td><td>...</td><td>13.183675</td><td>13.413889</td><td>0.59376924</td><td> 8.985232</td><td> 9.093612</td><td>0.6029626</td><td>CHP_323_04</td><td>CHP_323-04-PBMC-DNA</td><td>batch7_25Oct2019/mixcr/clones/CLONES_TRBCHP_323-04-PBMC-DNA.txt               </td><td>PBMC </td></tr>\n",
       "\t<tr><th scope=row>CHP_323-05-PBMC-DNA</th><td>153</td><td> 2020</td><td>75.742574</td><td> 13.20261</td><td>1.9254929</td><td> 290</td><td>10</td><td>8</td><td>157.98588</td><td>0.9990015</td><td>...</td><td>81.753356</td><td>85.173688</td><td>2.53829992</td><td>32.669335</td><td>33.189941</td><td>2.5682322</td><td>CHP_323_05</td><td>CHP_323-05-PBMC-DNA</td><td>batch7_25Oct2019/mixcr/clones/CLONES_TRBCHP_323-05-PBMC-DNA.txt               </td><td>PBMC </td></tr>\n",
       "\t<tr><th scope=row>CHP_323-05_cfDNA</th><td> 15</td><td> 4938</td><td> 3.037667</td><td>329.20000</td><td>1.1360081</td><td>1391</td><td> 3</td><td>0</td><td> 16.89609</td><td>0.9997766</td><td>...</td><td> 8.670523</td><td> 8.686386</td><td>0.09652094</td><td> 6.804325</td><td> 6.812334</td><td>0.1201723</td><td>CHP_323_05</td><td>CHP_323-05_cfDNA   </td><td>remaining_batch_1_cfDNA_8April2021/mixcr/clones/CLONES_TRBCHP_323-05_cfDNA.txt</td><td>cfDNA</td></tr>\n",
       "</tbody>\n",
       "</table>\n"
      ],
      "text/latex": [
       "A data.frame: 5 x 23\n",
       "\\begin{tabular}{r|lllllllllllllllllllll}\n",
       "  & TRB & Reads & CPKR & Average\\_reads & VMR & Max\\_reads & Singletons & Doubletons & qD & Sample\\_Coverage & ... & observed\\_Shannon & estimated\\_Shannon & SE\\_Shannon & observed\\_Simpson & estimated\\_Simpson & SE\\_Simpson & sample\\_id & basename & file & sampletype\\\\\n",
       "  & <int> & <int> & <dbl> & <dbl> & <dbl> & <int> & <int> & <int> & <dbl> & <dbl> & ... & <dbl> & <dbl> & <dbl> & <dbl> & <dbl> & <dbl> & <chr> & <chr> & <chr> & <chr>\\\\\n",
       "\\hline\n",
       "\tCHP\\_323-03\\_cfDNA & 103 & 81588 &  1.262441 & 792.11650 & 1.5296185 & 7047 &  8 & 0 & 109.95861 & 0.9999263 & ... & 43.423179 & 43.456085 & 0.15187858 & 31.051999 & 31.063441 & 0.1585361 & CHP\\_323\\_03 & CHP\\_323-03\\_cfDNA    & batch3a9\\_cfDNA\\_10Jul2020/mixcr/clones/CLONES\\_TRBCHP\\_323-03\\_cfDNA.txt           & cfDNA\\\\\n",
       "\tCHP\\_323-03-PBMC-DNA &  45 &  3175 & 14.173228 &  70.55556 & 0.6027869 &  220 &  1 & 0 &  45.00000 & 1.0000000 & ... & 37.721974 & 37.986092 & 0.38027285 & 33.203530 & 33.543868 & 0.6519925 & CHP\\_323\\_03 & CHP\\_323-03-PBMC-DNA & batch4\\_19Aug2019/mixcr/clones/CLONES\\_TRBCHP\\_323-03-PBMC-DNA.txt                & PBMC \\\\\n",
       "\tCHP\\_323-04-PBMC-DNA &  23 &   671 & 34.277198 &  29.17391 & 1.2769705 &  167 &  1 & 1 &  23.43169 & 0.9997989 & ... & 13.183675 & 13.413889 & 0.59376924 &  8.985232 &  9.093612 & 0.6029626 & CHP\\_323\\_04 & CHP\\_323-04-PBMC-DNA & batch7\\_25Oct2019/mixcr/clones/CLONES\\_TRBCHP\\_323-04-PBMC-DNA.txt                & PBMC \\\\\n",
       "\tCHP\\_323-05-PBMC-DNA & 153 &  2020 & 75.742574 &  13.20261 & 1.9254929 &  290 & 10 & 8 & 157.98588 & 0.9990015 & ... & 81.753356 & 85.173688 & 2.53829992 & 32.669335 & 33.189941 & 2.5682322 & CHP\\_323\\_05 & CHP\\_323-05-PBMC-DNA & batch7\\_25Oct2019/mixcr/clones/CLONES\\_TRBCHP\\_323-05-PBMC-DNA.txt                & PBMC \\\\\n",
       "\tCHP\\_323-05\\_cfDNA &  15 &  4938 &  3.037667 & 329.20000 & 1.1360081 & 1391 &  3 & 0 &  16.89609 & 0.9997766 & ... &  8.670523 &  8.686386 & 0.09652094 &  6.804325 &  6.812334 & 0.1201723 & CHP\\_323\\_05 & CHP\\_323-05\\_cfDNA    & remaining\\_batch\\_1\\_cfDNA\\_8April2021/mixcr/clones/CLONES\\_TRBCHP\\_323-05\\_cfDNA.txt & cfDNA\\\\\n",
       "\\end{tabular}\n"
      ],
      "text/markdown": [
       "\n",
       "A data.frame: 5 x 23\n",
       "\n",
       "| <!--/--> | TRB &lt;int&gt; | Reads &lt;int&gt; | CPKR &lt;dbl&gt; | Average_reads &lt;dbl&gt; | VMR &lt;dbl&gt; | Max_reads &lt;int&gt; | Singletons &lt;int&gt; | Doubletons &lt;int&gt; | qD &lt;dbl&gt; | Sample_Coverage &lt;dbl&gt; | ... ... | observed_Shannon &lt;dbl&gt; | estimated_Shannon &lt;dbl&gt; | SE_Shannon &lt;dbl&gt; | observed_Simpson &lt;dbl&gt; | estimated_Simpson &lt;dbl&gt; | SE_Simpson &lt;dbl&gt; | sample_id &lt;chr&gt; | basename &lt;chr&gt; | file &lt;chr&gt; | sampletype &lt;chr&gt; |\n",
       "|---|---|---|---|---|---|---|---|---|---|---|---|---|---|---|---|---|---|---|---|---|---|\n",
       "| CHP_323-03_cfDNA | 103 | 81588 |  1.262441 | 792.11650 | 1.5296185 | 7047 |  8 | 0 | 109.95861 | 0.9999263 | ... | 43.423179 | 43.456085 | 0.15187858 | 31.051999 | 31.063441 | 0.1585361 | CHP_323_03 | CHP_323-03_cfDNA    | batch3a9_cfDNA_10Jul2020/mixcr/clones/CLONES_TRBCHP_323-03_cfDNA.txt           | cfDNA |\n",
       "| CHP_323-03-PBMC-DNA |  45 |  3175 | 14.173228 |  70.55556 | 0.6027869 |  220 |  1 | 0 |  45.00000 | 1.0000000 | ... | 37.721974 | 37.986092 | 0.38027285 | 33.203530 | 33.543868 | 0.6519925 | CHP_323_03 | CHP_323-03-PBMC-DNA | batch4_19Aug2019/mixcr/clones/CLONES_TRBCHP_323-03-PBMC-DNA.txt                | PBMC  |\n",
       "| CHP_323-04-PBMC-DNA |  23 |   671 | 34.277198 |  29.17391 | 1.2769705 |  167 |  1 | 1 |  23.43169 | 0.9997989 | ... | 13.183675 | 13.413889 | 0.59376924 |  8.985232 |  9.093612 | 0.6029626 | CHP_323_04 | CHP_323-04-PBMC-DNA | batch7_25Oct2019/mixcr/clones/CLONES_TRBCHP_323-04-PBMC-DNA.txt                | PBMC  |\n",
       "| CHP_323-05-PBMC-DNA | 153 |  2020 | 75.742574 |  13.20261 | 1.9254929 |  290 | 10 | 8 | 157.98588 | 0.9990015 | ... | 81.753356 | 85.173688 | 2.53829992 | 32.669335 | 33.189941 | 2.5682322 | CHP_323_05 | CHP_323-05-PBMC-DNA | batch7_25Oct2019/mixcr/clones/CLONES_TRBCHP_323-05-PBMC-DNA.txt                | PBMC  |\n",
       "| CHP_323-05_cfDNA |  15 |  4938 |  3.037667 | 329.20000 | 1.1360081 | 1391 |  3 | 0 |  16.89609 | 0.9997766 | ... |  8.670523 |  8.686386 | 0.09652094 |  6.804325 |  6.812334 | 0.1201723 | CHP_323_05 | CHP_323-05_cfDNA    | remaining_batch_1_cfDNA_8April2021/mixcr/clones/CLONES_TRBCHP_323-05_cfDNA.txt | cfDNA |\n",
       "\n"
      ],
      "text/plain": [
       "                    TRB Reads CPKR      Average_reads VMR       Max_reads\n",
       "CHP_323-03_cfDNA    103 81588  1.262441 792.11650     1.5296185 7047     \n",
       "CHP_323-03-PBMC-DNA  45  3175 14.173228  70.55556     0.6027869  220     \n",
       "CHP_323-04-PBMC-DNA  23   671 34.277198  29.17391     1.2769705  167     \n",
       "CHP_323-05-PBMC-DNA 153  2020 75.742574  13.20261     1.9254929  290     \n",
       "CHP_323-05_cfDNA     15  4938  3.037667 329.20000     1.1360081 1391     \n",
       "                    Singletons Doubletons qD        Sample_Coverage ...\n",
       "CHP_323-03_cfDNA     8         0          109.95861 0.9999263       ...\n",
       "CHP_323-03-PBMC-DNA  1         0           45.00000 1.0000000       ...\n",
       "CHP_323-04-PBMC-DNA  1         1           23.43169 0.9997989       ...\n",
       "CHP_323-05-PBMC-DNA 10         8          157.98588 0.9990015       ...\n",
       "CHP_323-05_cfDNA     3         0           16.89609 0.9997766       ...\n",
       "                    observed_Shannon estimated_Shannon SE_Shannon\n",
       "CHP_323-03_cfDNA    43.423179        43.456085         0.15187858\n",
       "CHP_323-03-PBMC-DNA 37.721974        37.986092         0.38027285\n",
       "CHP_323-04-PBMC-DNA 13.183675        13.413889         0.59376924\n",
       "CHP_323-05-PBMC-DNA 81.753356        85.173688         2.53829992\n",
       "CHP_323-05_cfDNA     8.670523         8.686386         0.09652094\n",
       "                    observed_Simpson estimated_Simpson SE_Simpson sample_id \n",
       "CHP_323-03_cfDNA    31.051999        31.063441         0.1585361  CHP_323_03\n",
       "CHP_323-03-PBMC-DNA 33.203530        33.543868         0.6519925  CHP_323_03\n",
       "CHP_323-04-PBMC-DNA  8.985232         9.093612         0.6029626  CHP_323_04\n",
       "CHP_323-05-PBMC-DNA 32.669335        33.189941         2.5682322  CHP_323_05\n",
       "CHP_323-05_cfDNA     6.804325         6.812334         0.1201723  CHP_323_05\n",
       "                    basename           \n",
       "CHP_323-03_cfDNA    CHP_323-03_cfDNA   \n",
       "CHP_323-03-PBMC-DNA CHP_323-03-PBMC-DNA\n",
       "CHP_323-04-PBMC-DNA CHP_323-04-PBMC-DNA\n",
       "CHP_323-05-PBMC-DNA CHP_323-05-PBMC-DNA\n",
       "CHP_323-05_cfDNA    CHP_323-05_cfDNA   \n",
       "                    file                                                                          \n",
       "CHP_323-03_cfDNA    batch3a9_cfDNA_10Jul2020/mixcr/clones/CLONES_TRBCHP_323-03_cfDNA.txt          \n",
       "CHP_323-03-PBMC-DNA batch4_19Aug2019/mixcr/clones/CLONES_TRBCHP_323-03-PBMC-DNA.txt               \n",
       "CHP_323-04-PBMC-DNA batch7_25Oct2019/mixcr/clones/CLONES_TRBCHP_323-04-PBMC-DNA.txt               \n",
       "CHP_323-05-PBMC-DNA batch7_25Oct2019/mixcr/clones/CLONES_TRBCHP_323-05-PBMC-DNA.txt               \n",
       "CHP_323-05_cfDNA    remaining_batch_1_cfDNA_8April2021/mixcr/clones/CLONES_TRBCHP_323-05_cfDNA.txt\n",
       "                    sampletype\n",
       "CHP_323-03_cfDNA    cfDNA     \n",
       "CHP_323-03-PBMC-DNA PBMC      \n",
       "CHP_323-04-PBMC-DNA PBMC      \n",
       "CHP_323-05-PBMC-DNA PBMC      \n",
       "CHP_323-05_cfDNA    cfDNA     "
      ]
     },
     "metadata": {},
     "output_type": "display_data"
    }
   ],
   "source": [
    "divstats[grepl(\"CHP_323\", rownames(divstats)),]"
   ]
  },
  {
   "cell_type": "code",
   "execution_count": 14,
   "metadata": {
    "vscode": {
     "languageId": "r"
    }
   },
   "outputs": [],
   "source": [
    "lfs <- divstats$sample_id[grepl(\"LFS\", divstats$sample_id)]\n",
    "normals <- divstats$sample_id[grepl(\"YO\", divstats$sample_id) | grepl(\"MO\", divstats$sample_id)]"
   ]
  },
  {
   "cell_type": "code",
   "execution_count": 15,
   "metadata": {
    "vscode": {
     "languageId": "r"
    }
   },
   "outputs": [
    {
     "data": {
      "text/plain": [
       "\n",
       "cfDNA  FFPE  PBMC  <NA> \n",
       "  287    18   288     0 "
      ]
     },
     "metadata": {},
     "output_type": "display_data"
    }
   ],
   "source": [
    "table(divstats$sampletype, useNA = \"always\")"
   ]
  },
  {
   "cell_type": "code",
   "execution_count": 16,
   "metadata": {
    "vscode": {
     "languageId": "r"
    }
   },
   "outputs": [],
   "source": [
    "#merge div file separately for each sample type, then merge, just to capture all data regardless of available datatype\n",
    "meta_div_cf <- merge(metadata, divstats[divstats$sampletype == \"cfDNA\",], by = \"sample_id\", all = FALSE)\n",
    "meta_div_pbmc <- merge(metadata, divstats[divstats$sampletype == \"PBMC\",], by = \"sample_id\", all = TRUE)"
   ]
  },
  {
   "cell_type": "code",
   "execution_count": 17,
   "metadata": {
    "vscode": {
     "languageId": "r"
    }
   },
   "outputs": [
    {
     "data": {
      "text/html": [
       "<style>\n",
       ".list-inline {list-style: none; margin:0; padding: 0}\n",
       ".list-inline>li {display: inline-block}\n",
       ".list-inline>li:not(:last-child)::after {content: \"\\00b7\"; padding: 0 .5ex}\n",
       "</style>\n",
       "<ol class=list-inline><li>595</li><li>42</li></ol>\n"
      ],
      "text/latex": [
       "\\begin{enumerate*}\n",
       "\\item 595\n",
       "\\item 42\n",
       "\\end{enumerate*}\n"
      ],
      "text/markdown": [
       "1. 595\n",
       "2. 42\n",
       "\n",
       "\n"
      ],
      "text/plain": [
       "[1] 595  42"
      ]
     },
     "metadata": {},
     "output_type": "display_data"
    },
    {
     "data": {
      "text/html": [
       "<style>\n",
       ".list-inline {list-style: none; margin:0; padding: 0}\n",
       ".list-inline>li {display: inline-block}\n",
       ".list-inline>li:not(:last-child)::after {content: \"\\00b7\"; padding: 0 .5ex}\n",
       "</style>\n",
       "<ol class=list-inline><li>621</li><li>64</li></ol>\n"
      ],
      "text/latex": [
       "\\begin{enumerate*}\n",
       "\\item 621\n",
       "\\item 64\n",
       "\\end{enumerate*}\n"
      ],
      "text/markdown": [
       "1. 621\n",
       "2. 64\n",
       "\n",
       "\n"
      ],
      "text/plain": [
       "[1] 621  64"
      ]
     },
     "metadata": {},
     "output_type": "display_data"
    },
    {
     "data": {
      "text/html": [
       "<style>\n",
       ".list-inline {list-style: none; margin:0; padding: 0}\n",
       ".list-inline>li {display: inline-block}\n",
       ".list-inline>li:not(:last-child)::after {content: \"\\00b7\"; padding: 0 .5ex}\n",
       "</style>\n",
       "<ol class=list-inline><li>288</li><li>23</li></ol>\n"
      ],
      "text/latex": [
       "\\begin{enumerate*}\n",
       "\\item 288\n",
       "\\item 23\n",
       "\\end{enumerate*}\n"
      ],
      "text/markdown": [
       "1. 288\n",
       "2. 23\n",
       "\n",
       "\n"
      ],
      "text/plain": [
       "[1] 288  23"
      ]
     },
     "metadata": {},
     "output_type": "display_data"
    }
   ],
   "source": [
    "dim(metadata)\n",
    "dim(meta_div_pbmc)\n",
    "dim(divstats[divstats$sampletype == \"PBMC\",])"
   ]
  },
  {
   "cell_type": "code",
   "execution_count": 18,
   "metadata": {
    "vscode": {
     "languageId": "r"
    }
   },
   "outputs": [
    {
     "data": {
      "text/html": [
       "<table class=\"dataframe\">\n",
       "<caption>A data.frame: 1 x 64</caption>\n",
       "<thead>\n",
       "\t<tr><th></th><th scope=col>sample_id</th><th scope=col>Patient</th><th scope=col>cycle</th><th scope=col>FOLD</th><th scope=col>ATC</th><th scope=col>Age</th><th scope=col>Disease_type</th><th scope=col>TE_fold</th><th scope=col>CD3</th><th scope=col>EM</th><th scope=col>...</th><th scope=col>SE_Richeness</th><th scope=col>observed_Shannon</th><th scope=col>estimated_Shannon</th><th scope=col>SE_Shannon</th><th scope=col>observed_Simpson</th><th scope=col>estimated_Simpson</th><th scope=col>SE_Simpson</th><th scope=col>basename</th><th scope=col>file</th><th scope=col>sampletype</th></tr>\n",
       "\t<tr><th></th><th scope=col>&lt;chr&gt;</th><th scope=col>&lt;chr&gt;</th><th scope=col>&lt;chr&gt;</th><th scope=col>&lt;dbl&gt;</th><th scope=col>&lt;dbl&gt;</th><th scope=col>&lt;dbl&gt;</th><th scope=col>&lt;chr&gt;</th><th scope=col>&lt;dbl&gt;</th><th scope=col>&lt;int&gt;</th><th scope=col>&lt;int&gt;</th><th scope=col>...</th><th scope=col>&lt;dbl&gt;</th><th scope=col>&lt;dbl&gt;</th><th scope=col>&lt;dbl&gt;</th><th scope=col>&lt;dbl&gt;</th><th scope=col>&lt;dbl&gt;</th><th scope=col>&lt;dbl&gt;</th><th scope=col>&lt;dbl&gt;</th><th scope=col>&lt;chr&gt;</th><th scope=col>&lt;chr&gt;</th><th scope=col>&lt;chr&gt;</th></tr>\n",
       "</thead>\n",
       "<tbody>\n",
       "\t<tr><th scope=row>249</th><td>CHP_407_01</td><td>CHP_407</td><td>01</td><td>1</td><td>216.81</td><td>12</td><td>DLBCL</td><td>1</td><td>2219</td><td>735</td><td>...</td><td>0</td><td>4.314781</td><td>4.316694</td><td>0.03156677</td><td>4.006012</td><td>4.008145</td><td>0.02787398</td><td>CHP_407-01_cfDNA</td><td>remaining_batch_3_cfDNA_15April2021/mixcr/clones/CLONES_TRBCHP_407-01_cfDNA.txt</td><td>cfDNA</td></tr>\n",
       "</tbody>\n",
       "</table>\n"
      ],
      "text/latex": [
       "A data.frame: 1 x 64\n",
       "\\begin{tabular}{r|lllllllllllllllllllll}\n",
       "  & sample\\_id & Patient & cycle & FOLD & ATC & Age & Disease\\_type & TE\\_fold & CD3 & EM & ... & SE\\_Richeness & observed\\_Shannon & estimated\\_Shannon & SE\\_Shannon & observed\\_Simpson & estimated\\_Simpson & SE\\_Simpson & basename & file & sampletype\\\\\n",
       "  & <chr> & <chr> & <chr> & <dbl> & <dbl> & <dbl> & <chr> & <dbl> & <int> & <int> & ... & <dbl> & <dbl> & <dbl> & <dbl> & <dbl> & <dbl> & <dbl> & <chr> & <chr> & <chr>\\\\\n",
       "\\hline\n",
       "\t249 & CHP\\_407\\_01 & CHP\\_407 & 01 & 1 & 216.81 & 12 & DLBCL & 1 & 2219 & 735 & ... & 0 & 4.314781 & 4.316694 & 0.03156677 & 4.006012 & 4.008145 & 0.02787398 & CHP\\_407-01\\_cfDNA & remaining\\_batch\\_3\\_cfDNA\\_15April2021/mixcr/clones/CLONES\\_TRBCHP\\_407-01\\_cfDNA.txt & cfDNA\\\\\n",
       "\\end{tabular}\n"
      ],
      "text/markdown": [
       "\n",
       "A data.frame: 1 x 64\n",
       "\n",
       "| <!--/--> | sample_id &lt;chr&gt; | Patient &lt;chr&gt; | cycle &lt;chr&gt; | FOLD &lt;dbl&gt; | ATC &lt;dbl&gt; | Age &lt;dbl&gt; | Disease_type &lt;chr&gt; | TE_fold &lt;dbl&gt; | CD3 &lt;int&gt; | EM &lt;int&gt; | ... ... | SE_Richeness &lt;dbl&gt; | observed_Shannon &lt;dbl&gt; | estimated_Shannon &lt;dbl&gt; | SE_Shannon &lt;dbl&gt; | observed_Simpson &lt;dbl&gt; | estimated_Simpson &lt;dbl&gt; | SE_Simpson &lt;dbl&gt; | basename &lt;chr&gt; | file &lt;chr&gt; | sampletype &lt;chr&gt; |\n",
       "|---|---|---|---|---|---|---|---|---|---|---|---|---|---|---|---|---|---|---|---|---|---|\n",
       "| 249 | CHP_407_01 | CHP_407 | 01 | 1 | 216.81 | 12 | DLBCL | 1 | 2219 | 735 | ... | 0 | 4.314781 | 4.316694 | 0.03156677 | 4.006012 | 4.008145 | 0.02787398 | CHP_407-01_cfDNA | remaining_batch_3_cfDNA_15April2021/mixcr/clones/CLONES_TRBCHP_407-01_cfDNA.txt | cfDNA |\n",
       "\n"
      ],
      "text/plain": [
       "    sample_id  Patient cycle FOLD ATC    Age Disease_type TE_fold CD3  EM  ...\n",
       "249 CHP_407_01 CHP_407 01    1    216.81 12  DLBCL        1       2219 735 ...\n",
       "    SE_Richeness observed_Shannon estimated_Shannon SE_Shannon observed_Simpson\n",
       "249 0            4.314781         4.316694          0.03156677 4.006012        \n",
       "    estimated_Simpson SE_Simpson basename        \n",
       "249 4.008145          0.02787398 CHP_407-01_cfDNA\n",
       "    file                                                                           \n",
       "249 remaining_batch_3_cfDNA_15April2021/mixcr/clones/CLONES_TRBCHP_407-01_cfDNA.txt\n",
       "    sampletype\n",
       "249 cfDNA     "
      ]
     },
     "metadata": {},
     "output_type": "display_data"
    }
   ],
   "source": [
    "meta_div_cf[ meta_div_cf$sample_id == \"CHP_407_01\",]"
   ]
  },
  {
   "cell_type": "code",
   "execution_count": 19,
   "metadata": {
    "vscode": {
     "languageId": "r"
    }
   },
   "outputs": [],
   "source": [
    "div_ffpe <- divstats[divstats$sampletype == \"FFPE\",]\n",
    "\n",
    "div_ffpe$Patient <- gsub(\"_A\", \"\", div_ffpe$sample_id)\n",
    "div_ffpe$Patient <- gsub(\"_B\", \"\", div_ffpe$Patient)"
   ]
  },
  {
   "cell_type": "code",
   "execution_count": 20,
   "metadata": {
    "vscode": {
     "languageId": "r"
    }
   },
   "outputs": [],
   "source": [
    "meta_div_ffpe <- cbind(metadata[ match(div_ffpe$Patient, metadata$Patient),], div_ffpe)"
   ]
  },
  {
   "cell_type": "code",
   "execution_count": 21,
   "metadata": {
    "vscode": {
     "languageId": "r"
    }
   },
   "outputs": [
    {
     "data": {
      "text/html": [
       "<style>\n",
       ".list-inline {list-style: none; margin:0; padding: 0}\n",
       ".list-inline>li {display: inline-block}\n",
       ".list-inline>li:not(:last-child)::after {content: \"\\00b7\"; padding: 0 .5ex}\n",
       "</style>\n",
       "<ol class=list-inline><li>36</li><li>62</li></ol>\n"
      ],
      "text/latex": [
       "\\begin{enumerate*}\n",
       "\\item 36\n",
       "\\item 62\n",
       "\\end{enumerate*}\n"
      ],
      "text/markdown": [
       "1. 36\n",
       "2. 62\n",
       "\n",
       "\n"
      ],
      "text/plain": [
       "[1] 36 62"
      ]
     },
     "metadata": {},
     "output_type": "display_data"
    }
   ],
   "source": [
    "which(colnames(meta_div_ffpe) == \"sample_id\")"
   ]
  },
  {
   "cell_type": "code",
   "execution_count": 22,
   "metadata": {
    "vscode": {
     "languageId": "r"
    }
   },
   "outputs": [],
   "source": [
    "meta_div_ffpe <- meta_div_ffpe[, c(36,1:35,38:ncol(meta_div_ffpe)-1)]"
   ]
  },
  {
   "cell_type": "code",
   "execution_count": 23,
   "metadata": {
    "vscode": {
     "languageId": "r"
    }
   },
   "outputs": [],
   "source": [
    "meta_div_ffpe$sample_id.1 <- NULL"
   ]
  },
  {
   "cell_type": "code",
   "execution_count": 24,
   "metadata": {
    "vscode": {
     "languageId": "r"
    }
   },
   "outputs": [
    {
     "data": {
      "text/html": [
       "<table class=\"dataframe\">\n",
       "<caption>A data.frame: 6 x 64</caption>\n",
       "<thead>\n",
       "\t<tr><th></th><th scope=col>sample_id</th><th scope=col>Patient</th><th scope=col>cycle</th><th scope=col>FOLD</th><th scope=col>ATC</th><th scope=col>Age</th><th scope=col>Disease_type</th><th scope=col>TE_fold</th><th scope=col>CD3</th><th scope=col>EM</th><th scope=col>...</th><th scope=col>SE_Richeness</th><th scope=col>observed_Shannon</th><th scope=col>estimated_Shannon</th><th scope=col>SE_Shannon</th><th scope=col>observed_Simpson</th><th scope=col>estimated_Simpson</th><th scope=col>SE_Simpson</th><th scope=col>basename</th><th scope=col>file</th><th scope=col>sampletype</th></tr>\n",
       "\t<tr><th></th><th scope=col>&lt;chr&gt;</th><th scope=col>&lt;chr&gt;</th><th scope=col>&lt;chr&gt;</th><th scope=col>&lt;dbl&gt;</th><th scope=col>&lt;dbl&gt;</th><th scope=col>&lt;dbl&gt;</th><th scope=col>&lt;chr&gt;</th><th scope=col>&lt;dbl&gt;</th><th scope=col>&lt;int&gt;</th><th scope=col>&lt;int&gt;</th><th scope=col>...</th><th scope=col>&lt;dbl&gt;</th><th scope=col>&lt;dbl&gt;</th><th scope=col>&lt;dbl&gt;</th><th scope=col>&lt;dbl&gt;</th><th scope=col>&lt;dbl&gt;</th><th scope=col>&lt;dbl&gt;</th><th scope=col>&lt;dbl&gt;</th><th scope=col>&lt;chr&gt;</th><th scope=col>&lt;chr&gt;</th><th scope=col>&lt;chr&gt;</th></tr>\n",
       "</thead>\n",
       "<tbody>\n",
       "\t<tr><th scope=row>126</th><td>CHP_344_01</td><td>CHP_344</td><td>01</td><td>0.0</td><td> 247.80</td><td> 6</td><td>BL  </td><td>0.0</td><td>   0</td><td> NA</td><td>...</td><td>0.000000</td><td>  4.807224</td><td>  4.810892</td><td>0.05326430</td><td> 4.009203</td><td> 4.012886</td><td>0.068738694</td><td>CHP_344_A-FFPE-DNA </td><td>batchFFPE_3Apr2020/mixcr/clones/CLONES_TRBCHP_344_A-FFPE-DNA.txt </td><td>FFPE</td></tr>\n",
       "\t<tr><th scope=row>211</th><td>CHP_361_01</td><td>CHP_361</td><td>01</td><td>2.4</td><td> 516.04</td><td>13</td><td>HD  </td><td>2.4</td><td>2317</td><td> 94</td><td>...</td><td>3.810522</td><td>104.524707</td><td>104.825759</td><td>0.45502335</td><td>83.093330</td><td>83.359522</td><td>0.675356761</td><td>CHP_361-FFPE-DNA_S1</td><td>batchFFPE_3Apr2020/mixcr/clones/CLONES_TRBCHP_361-FFPE-DNA_S1.txt</td><td>FFPE</td></tr>\n",
       "\t<tr><th scope=row>226</th><td>CHP_364_01</td><td>CHP_364</td><td>01</td><td>2.3</td><td> 877.68</td><td>16</td><td>OS  </td><td>2.3</td><td>2411</td><td> 33</td><td>...</td><td>0.000000</td><td>  7.123768</td><td>  7.136111</td><td>0.10078646</td><td> 5.433764</td><td> 5.443025</td><td>0.144449256</td><td>CHP_364-FFPE-DNA_S1</td><td>batchFFPE_3Apr2020/mixcr/clones/CLONES_TRBCHP_364-FFPE-DNA_S1.txt</td><td>FFPE</td></tr>\n",
       "\t<tr><th scope=row>236</th><td>CHP_366_01</td><td>CHP_366</td><td>01</td><td>8.9</td><td>1113.50</td><td>14</td><td>HD  </td><td>8.9</td><td>  NA</td><td>243</td><td>...</td><td>0.000000</td><td>  4.720236</td><td>  4.725638</td><td>0.08553979</td><td> 3.424802</td><td> 3.427516</td><td>0.079762310</td><td>CHP_366-FFPE-DNA_S1</td><td>batchFFPE_3Apr2020/mixcr/clones/CLONES_TRBCHP_366-FFPE-DNA_S1.txt</td><td>FFPE</td></tr>\n",
       "\t<tr><th scope=row>256</th><td>CHP_370_01</td><td>CHP_370</td><td>01</td><td>4.2</td><td>   0.00</td><td>17</td><td>ALCL</td><td>4.2</td><td> 592</td><td> 19</td><td>...</td><td>0.000000</td><td>  2.555199</td><td>  2.555493</td><td>0.01328165</td><td> 2.267262</td><td> 2.267426</td><td>0.009076097</td><td>CHP_370-FFPE-DNA_S5</td><td>batchFFPE_3Apr2020/mixcr/clones/CLONES_TRBCHP_370-FFPE-DNA_S5.txt</td><td>FFPE</td></tr>\n",
       "\t<tr><th scope=row>266</th><td>CHP_372_01</td><td>CHP_372</td><td>01</td><td>1.0</td><td>   0.00</td><td>21</td><td>BL  </td><td>1.0</td><td> 328</td><td> 16</td><td>...</td><td>1.462165</td><td>  2.406266</td><td>  2.411727</td><td>0.04685703</td><td> 1.739144</td><td> 1.739628</td><td>0.032705491</td><td>CHP_372-FFPE-DNA_S1</td><td>batchFFPE_3Apr2020/mixcr/clones/CLONES_TRBCHP_372-FFPE-DNA_S1.txt</td><td>FFPE</td></tr>\n",
       "</tbody>\n",
       "</table>\n"
      ],
      "text/latex": [
       "A data.frame: 6 x 64\n",
       "\\begin{tabular}{r|lllllllllllllllllllll}\n",
       "  & sample\\_id & Patient & cycle & FOLD & ATC & Age & Disease\\_type & TE\\_fold & CD3 & EM & ... & SE\\_Richeness & observed\\_Shannon & estimated\\_Shannon & SE\\_Shannon & observed\\_Simpson & estimated\\_Simpson & SE\\_Simpson & basename & file & sampletype\\\\\n",
       "  & <chr> & <chr> & <chr> & <dbl> & <dbl> & <dbl> & <chr> & <dbl> & <int> & <int> & ... & <dbl> & <dbl> & <dbl> & <dbl> & <dbl> & <dbl> & <dbl> & <chr> & <chr> & <chr>\\\\\n",
       "\\hline\n",
       "\t126 & CHP\\_344\\_01 & CHP\\_344 & 01 & 0.0 &  247.80 &  6 & BL   & 0.0 &    0 &  NA & ... & 0.000000 &   4.807224 &   4.810892 & 0.05326430 &  4.009203 &  4.012886 & 0.068738694 & CHP\\_344\\_A-FFPE-DNA  & batchFFPE\\_3Apr2020/mixcr/clones/CLONES\\_TRBCHP\\_344\\_A-FFPE-DNA.txt  & FFPE\\\\\n",
       "\t211 & CHP\\_361\\_01 & CHP\\_361 & 01 & 2.4 &  516.04 & 13 & HD   & 2.4 & 2317 &  94 & ... & 3.810522 & 104.524707 & 104.825759 & 0.45502335 & 83.093330 & 83.359522 & 0.675356761 & CHP\\_361-FFPE-DNA\\_S1 & batchFFPE\\_3Apr2020/mixcr/clones/CLONES\\_TRBCHP\\_361-FFPE-DNA\\_S1.txt & FFPE\\\\\n",
       "\t226 & CHP\\_364\\_01 & CHP\\_364 & 01 & 2.3 &  877.68 & 16 & OS   & 2.3 & 2411 &  33 & ... & 0.000000 &   7.123768 &   7.136111 & 0.10078646 &  5.433764 &  5.443025 & 0.144449256 & CHP\\_364-FFPE-DNA\\_S1 & batchFFPE\\_3Apr2020/mixcr/clones/CLONES\\_TRBCHP\\_364-FFPE-DNA\\_S1.txt & FFPE\\\\\n",
       "\t236 & CHP\\_366\\_01 & CHP\\_366 & 01 & 8.9 & 1113.50 & 14 & HD   & 8.9 &   NA & 243 & ... & 0.000000 &   4.720236 &   4.725638 & 0.08553979 &  3.424802 &  3.427516 & 0.079762310 & CHP\\_366-FFPE-DNA\\_S1 & batchFFPE\\_3Apr2020/mixcr/clones/CLONES\\_TRBCHP\\_366-FFPE-DNA\\_S1.txt & FFPE\\\\\n",
       "\t256 & CHP\\_370\\_01 & CHP\\_370 & 01 & 4.2 &    0.00 & 17 & ALCL & 4.2 &  592 &  19 & ... & 0.000000 &   2.555199 &   2.555493 & 0.01328165 &  2.267262 &  2.267426 & 0.009076097 & CHP\\_370-FFPE-DNA\\_S5 & batchFFPE\\_3Apr2020/mixcr/clones/CLONES\\_TRBCHP\\_370-FFPE-DNA\\_S5.txt & FFPE\\\\\n",
       "\t266 & CHP\\_372\\_01 & CHP\\_372 & 01 & 1.0 &    0.00 & 21 & BL   & 1.0 &  328 &  16 & ... & 1.462165 &   2.406266 &   2.411727 & 0.04685703 &  1.739144 &  1.739628 & 0.032705491 & CHP\\_372-FFPE-DNA\\_S1 & batchFFPE\\_3Apr2020/mixcr/clones/CLONES\\_TRBCHP\\_372-FFPE-DNA\\_S1.txt & FFPE\\\\\n",
       "\\end{tabular}\n"
      ],
      "text/markdown": [
       "\n",
       "A data.frame: 6 x 64\n",
       "\n",
       "| <!--/--> | sample_id &lt;chr&gt; | Patient &lt;chr&gt; | cycle &lt;chr&gt; | FOLD &lt;dbl&gt; | ATC &lt;dbl&gt; | Age &lt;dbl&gt; | Disease_type &lt;chr&gt; | TE_fold &lt;dbl&gt; | CD3 &lt;int&gt; | EM &lt;int&gt; | ... ... | SE_Richeness &lt;dbl&gt; | observed_Shannon &lt;dbl&gt; | estimated_Shannon &lt;dbl&gt; | SE_Shannon &lt;dbl&gt; | observed_Simpson &lt;dbl&gt; | estimated_Simpson &lt;dbl&gt; | SE_Simpson &lt;dbl&gt; | basename &lt;chr&gt; | file &lt;chr&gt; | sampletype &lt;chr&gt; |\n",
       "|---|---|---|---|---|---|---|---|---|---|---|---|---|---|---|---|---|---|---|---|---|---|\n",
       "| 126 | CHP_344_01 | CHP_344 | 01 | 0.0 |  247.80 |  6 | BL   | 0.0 |    0 |  NA | ... | 0.000000 |   4.807224 |   4.810892 | 0.05326430 |  4.009203 |  4.012886 | 0.068738694 | CHP_344_A-FFPE-DNA  | batchFFPE_3Apr2020/mixcr/clones/CLONES_TRBCHP_344_A-FFPE-DNA.txt  | FFPE |\n",
       "| 211 | CHP_361_01 | CHP_361 | 01 | 2.4 |  516.04 | 13 | HD   | 2.4 | 2317 |  94 | ... | 3.810522 | 104.524707 | 104.825759 | 0.45502335 | 83.093330 | 83.359522 | 0.675356761 | CHP_361-FFPE-DNA_S1 | batchFFPE_3Apr2020/mixcr/clones/CLONES_TRBCHP_361-FFPE-DNA_S1.txt | FFPE |\n",
       "| 226 | CHP_364_01 | CHP_364 | 01 | 2.3 |  877.68 | 16 | OS   | 2.3 | 2411 |  33 | ... | 0.000000 |   7.123768 |   7.136111 | 0.10078646 |  5.433764 |  5.443025 | 0.144449256 | CHP_364-FFPE-DNA_S1 | batchFFPE_3Apr2020/mixcr/clones/CLONES_TRBCHP_364-FFPE-DNA_S1.txt | FFPE |\n",
       "| 236 | CHP_366_01 | CHP_366 | 01 | 8.9 | 1113.50 | 14 | HD   | 8.9 |   NA | 243 | ... | 0.000000 |   4.720236 |   4.725638 | 0.08553979 |  3.424802 |  3.427516 | 0.079762310 | CHP_366-FFPE-DNA_S1 | batchFFPE_3Apr2020/mixcr/clones/CLONES_TRBCHP_366-FFPE-DNA_S1.txt | FFPE |\n",
       "| 256 | CHP_370_01 | CHP_370 | 01 | 4.2 |    0.00 | 17 | ALCL | 4.2 |  592 |  19 | ... | 0.000000 |   2.555199 |   2.555493 | 0.01328165 |  2.267262 |  2.267426 | 0.009076097 | CHP_370-FFPE-DNA_S5 | batchFFPE_3Apr2020/mixcr/clones/CLONES_TRBCHP_370-FFPE-DNA_S5.txt | FFPE |\n",
       "| 266 | CHP_372_01 | CHP_372 | 01 | 1.0 |    0.00 | 21 | BL   | 1.0 |  328 |  16 | ... | 1.462165 |   2.406266 |   2.411727 | 0.04685703 |  1.739144 |  1.739628 | 0.032705491 | CHP_372-FFPE-DNA_S1 | batchFFPE_3Apr2020/mixcr/clones/CLONES_TRBCHP_372-FFPE-DNA_S1.txt | FFPE |\n",
       "\n"
      ],
      "text/plain": [
       "    sample_id  Patient cycle FOLD ATC     Age Disease_type TE_fold CD3  EM  ...\n",
       "126 CHP_344_01 CHP_344 01    0.0   247.80  6  BL           0.0        0  NA ...\n",
       "211 CHP_361_01 CHP_361 01    2.4   516.04 13  HD           2.4     2317  94 ...\n",
       "226 CHP_364_01 CHP_364 01    2.3   877.68 16  OS           2.3     2411  33 ...\n",
       "236 CHP_366_01 CHP_366 01    8.9  1113.50 14  HD           8.9       NA 243 ...\n",
       "256 CHP_370_01 CHP_370 01    4.2     0.00 17  ALCL         4.2      592  19 ...\n",
       "266 CHP_372_01 CHP_372 01    1.0     0.00 21  BL           1.0      328  16 ...\n",
       "    SE_Richeness observed_Shannon estimated_Shannon SE_Shannon observed_Simpson\n",
       "126 0.000000       4.807224         4.810892        0.05326430  4.009203       \n",
       "211 3.810522     104.524707       104.825759        0.45502335 83.093330       \n",
       "226 0.000000       7.123768         7.136111        0.10078646  5.433764       \n",
       "236 0.000000       4.720236         4.725638        0.08553979  3.424802       \n",
       "256 0.000000       2.555199         2.555493        0.01328165  2.267262       \n",
       "266 1.462165       2.406266         2.411727        0.04685703  1.739144       \n",
       "    estimated_Simpson SE_Simpson  basename           \n",
       "126  4.012886         0.068738694 CHP_344_A-FFPE-DNA \n",
       "211 83.359522         0.675356761 CHP_361-FFPE-DNA_S1\n",
       "226  5.443025         0.144449256 CHP_364-FFPE-DNA_S1\n",
       "236  3.427516         0.079762310 CHP_366-FFPE-DNA_S1\n",
       "256  2.267426         0.009076097 CHP_370-FFPE-DNA_S5\n",
       "266  1.739628         0.032705491 CHP_372-FFPE-DNA_S1\n",
       "    file                                                             \n",
       "126 batchFFPE_3Apr2020/mixcr/clones/CLONES_TRBCHP_344_A-FFPE-DNA.txt \n",
       "211 batchFFPE_3Apr2020/mixcr/clones/CLONES_TRBCHP_361-FFPE-DNA_S1.txt\n",
       "226 batchFFPE_3Apr2020/mixcr/clones/CLONES_TRBCHP_364-FFPE-DNA_S1.txt\n",
       "236 batchFFPE_3Apr2020/mixcr/clones/CLONES_TRBCHP_366-FFPE-DNA_S1.txt\n",
       "256 batchFFPE_3Apr2020/mixcr/clones/CLONES_TRBCHP_370-FFPE-DNA_S5.txt\n",
       "266 batchFFPE_3Apr2020/mixcr/clones/CLONES_TRBCHP_372-FFPE-DNA_S1.txt\n",
       "    sampletype\n",
       "126 FFPE      \n",
       "211 FFPE      \n",
       "226 FFPE      \n",
       "236 FFPE      \n",
       "256 FFPE      \n",
       "266 FFPE      "
      ]
     },
     "metadata": {},
     "output_type": "display_data"
    }
   ],
   "source": [
    "head(meta_div_ffpe)"
   ]
  },
  {
   "cell_type": "code",
   "execution_count": 25,
   "metadata": {
    "vscode": {
     "languageId": "r"
    }
   },
   "outputs": [],
   "source": [
    "meta_div <- rbind(meta_div_cf, meta_div_pbmc, meta_div_ffpe)"
   ]
  },
  {
   "cell_type": "code",
   "execution_count": 26,
   "metadata": {
    "vscode": {
     "languageId": "r"
    }
   },
   "outputs": [
    {
     "data": {
      "text/html": [
       "<style>\n",
       ".list-inline {list-style: none; margin:0; padding: 0}\n",
       ".list-inline>li {display: inline-block}\n",
       ".list-inline>li:not(:last-child)::after {content: \"\\00b7\"; padding: 0 .5ex}\n",
       "</style>\n",
       "<ol class=list-inline><li>925</li><li>64</li></ol>\n"
      ],
      "text/latex": [
       "\\begin{enumerate*}\n",
       "\\item 925\n",
       "\\item 64\n",
       "\\end{enumerate*}\n"
      ],
      "text/markdown": [
       "1. 925\n",
       "2. 64\n",
       "\n",
       "\n"
      ],
      "text/plain": [
       "[1] 925  64"
      ]
     },
     "metadata": {},
     "output_type": "display_data"
    }
   ],
   "source": [
    "dim(meta_div)"
   ]
  },
  {
   "cell_type": "code",
   "execution_count": 27,
   "metadata": {
    "vscode": {
     "languageId": "r"
    }
   },
   "outputs": [],
   "source": [
    "#create a group for LFS and non-LFS\n",
    "meta_div$Group <- NA\n",
    "meta_div$Group[grepl(\"LFS\", meta_div$sample_id)] <- \"LFS\"\n",
    "meta_div$Group[grepl(\"CHP\", meta_div$sample_id)] <- \"CHP\""
   ]
  },
  {
   "cell_type": "code",
   "execution_count": 28,
   "metadata": {
    "vscode": {
     "languageId": "r"
    }
   },
   "outputs": [],
   "source": [
    "#create sample type\n",
    "meta_div$sampletype <- NA\n",
    "meta_div$sampletype[grepl(\"PBMC\", meta_div$basename)] <- \"PBMC\"\n",
    "meta_div$sampletype[grepl(\"cfDNA\", meta_div$basename)] <- \"cfDNA\"\n",
    "meta_div$sampletype[grepl(\"FFPE\", meta_div$basename)] <- \"Tumor\"\n",
    "#sampletyoe is PBMC if basename is NA, they are flow data\n",
    "meta_div$sampletype[is.na(meta_div$basename)] <- \"PBMC\""
   ]
  },
  {
   "cell_type": "code",
   "execution_count": 29,
   "metadata": {
    "vscode": {
     "languageId": "r"
    }
   },
   "outputs": [],
   "source": [
    "# add Patient id for normals, lfs\n",
    "meta_div$Patient[meta_div$sample_id %in% c(lfs, normals)] <-\n",
    "       substr(\n",
    "              meta_div$sample_id[meta_div$sample_id %in% c(lfs, normals)], 1,\n",
    "              nchar(meta_div$sample_id[meta_div$sample_id %in% c(lfs, normals)]) - 3\n",
    "       )\n"
   ]
  },
  {
   "cell_type": "code",
   "execution_count": 30,
   "metadata": {
    "vscode": {
     "languageId": "r"
    }
   },
   "outputs": [],
   "source": [
    "# few samples we sequenced but was not in David's file\n",
    "meta_div$Patient[is.na(meta_div$Patient) & meta_div$sampletype != \"Tumor\"] <-\n",
    "       substr(\n",
    "              meta_div$sample_id[is.na(meta_div$Patient) & meta_div$sampletype != \"Tumor\"], 1,\n",
    "              nchar(meta_div$sample_id[is.na(meta_div$Patient) & meta_div$sampletype != \"Tumor\"]) - 3\n",
    "       )\n"
   ]
  },
  {
   "cell_type": "code",
   "execution_count": 31,
   "metadata": {
    "vscode": {
     "languageId": "r"
    }
   },
   "outputs": [],
   "source": [
    "# Patient id same as sampel_id for tumor samples\n",
    "meta_div$Patient[is.na(meta_div$Patient)] <- meta_div$sample_id[is.na(meta_div$Patient)]\n"
   ]
  },
  {
   "cell_type": "code",
   "execution_count": 32,
   "metadata": {
    "vscode": {
     "languageId": "r"
    }
   },
   "outputs": [],
   "source": [
    "# overwrite cycle for consistency\n",
    "\n",
    "meta_div$cycle <- NA\n",
    "meta_div$cycle <- substr(\n",
    "       meta_div$sample_id,\n",
    "       nchar(meta_div$sample_id) - 1, nchar(meta_div$sample_id)\n",
    ")\n"
   ]
  },
  {
   "cell_type": "code",
   "execution_count": 33,
   "metadata": {
    "vscode": {
     "languageId": "r"
    }
   },
   "outputs": [],
   "source": [
    "#add X to prevent numeric\n",
    "meta_div$cycle <- paste0(\"X\", meta_div$cycle)"
   ]
  },
  {
   "cell_type": "code",
   "execution_count": 34,
   "metadata": {
    "vscode": {
     "languageId": "r"
    }
   },
   "outputs": [],
   "source": [
    "# cycle for tumors are 00\n",
    "meta_div$cycle[ which(meta_div$sampletype == \"Tumor\")] <- \"X00\""
   ]
  },
  {
   "cell_type": "code",
   "execution_count": 35,
   "metadata": {
    "vscode": {
     "languageId": "r"
    }
   },
   "outputs": [
    {
     "data": {
      "text/plain": [
       "\n",
       "X00 X01 X02 X03 X04 X05 \n",
       " 42 183 184 176 172 168 "
      ]
     },
     "metadata": {},
     "output_type": "display_data"
    }
   ],
   "source": [
    "table(meta_div$cycle)"
   ]
  },
  {
   "cell_type": "code",
   "execution_count": 36,
   "metadata": {
    "vscode": {
     "languageId": "r"
    }
   },
   "outputs": [],
   "source": [
    "#Disease_type for normals = Normal and lfs = LFS\n",
    "meta_div$Disease_type[ meta_div$sample_id %in% normals] <- \"Normal\"\n",
    "\n",
    "meta_div$Disease_type[ meta_div$sample_id %in% lfs] <- \"LFS\""
   ]
  },
  {
   "cell_type": "code",
   "execution_count": 37,
   "metadata": {
    "vscode": {
     "languageId": "r"
    }
   },
   "outputs": [
    {
     "data": {
      "text/plain": [
       "\n",
       "  ALCL    ALL    AML   ARMS     BL    BLL    CML  DLBCL   ERMS    EWS     HB \n",
       "    15    180     82      9     37     17     21     22     42     48     27 \n",
       "    HD HR ALL    LFS  MS NB     NB Normal     OS  PMBCL    RMS SR ALL  T-ALL \n",
       "    67    105     10      6     29     14     93     16     15     18     31 \n",
       " WILMS   <NA> \n",
       "    19      2 "
      ]
     },
     "metadata": {},
     "output_type": "display_data"
    }
   ],
   "source": [
    "table(meta_div$Disease_type, useNA = \"always\")"
   ]
  },
  {
   "cell_type": "code",
   "execution_count": 38,
   "metadata": {
    "vscode": {
     "languageId": "r"
    }
   },
   "outputs": [],
   "source": [
    "#minor fix\n",
    "meta_div$Patient[ meta_div$Patient == \"CHP_404_A\"] <- \"CHP_404\"\n",
    "meta_div$Patient[ meta_div$Patient == \"CHP_404_B\"] <- \"CHP_404\"\n",
    "meta_div$Patient[ meta_div$Patient == \"CHP_344_A\"] <- \"CHP_344\""
   ]
  },
  {
   "cell_type": "code",
   "execution_count": 39,
   "metadata": {
    "vscode": {
     "languageId": "r"
    }
   },
   "outputs": [
    {
     "data": {
      "text/html": [
       "<style>\n",
       ".list-inline {list-style: none; margin:0; padding: 0}\n",
       ".list-inline>li {display: inline-block}\n",
       ".list-inline>li:not(:last-child)::after {content: \"\\00b7\"; padding: 0 .5ex}\n",
       "</style>\n",
       "<ol class=list-inline><li>'CHP_323'</li><li>'CHP_324'</li><li>'CHP_326'</li><li>'CHP_328'</li><li>'CHP_329'</li><li>'CHP_330'</li><li>'CHP_331'</li><li>'CHP_333'</li><li>'CHP_334'</li><li>'CHP_335'</li><li>'CHP_336'</li><li>'CHP_337'</li><li>'CHP_338'</li><li>'CHP_339'</li><li>'CHP_340'</li><li>'CHP_341'</li><li>'CHP_342'</li><li>'CHP_343'</li><li>'CHP_344'</li><li>'CHP_345'</li><li>'CHP_347'</li><li>'CHP_348'</li><li>'CHP_349'</li><li>'CHP_350'</li><li>'CHP_351'</li><li>'CHP_353'</li><li>'CHP_355'</li><li>'CHP_356'</li><li>'CHP_357'</li><li>'CHP_358'</li><li>'CHP_359'</li><li>'CHP_360'</li><li>'CHP_361'</li><li>'CHP_362'</li><li>'CHP_363'</li><li>'CHP_364'</li><li>'CHP_365'</li><li>'CHP_366'</li><li>'CHP_367'</li><li>'CHP_368'</li><li>'CHP_369'</li><li>'CHP_370'</li><li>'CHP_371'</li><li>'CHP_372'</li><li>'CHP_373'</li><li>'CHP_374'</li><li>'CHP_375'</li><li>'CHP_376'</li><li>'CHP_377'</li><li>'CHP_378'</li><li>'CHP_379'</li><li>'CHP_380'</li><li>'CHP_381'</li><li>'CHP_382'</li><li>'CHP_383'</li><li>'CHP_384'</li><li>'CHP_385'</li><li>'CHP_386'</li><li>'CHP_387'</li><li>'CHP_388'</li><li>'CHP_389'</li><li>'CHP_390'</li><li>'CHP_391'</li><li>'CHP_392'</li><li>'CHP_393'</li><li>'CHP_394'</li><li>'CHP_395'</li><li>'CHP_396'</li><li>'CHP_397'</li><li>'CHP_398'</li><li>'CHP_399'</li><li>'CHP_400'</li><li>'CHP_401'</li><li>'CHP_402'</li><li>'CHP_403'</li><li>'CHP_404'</li><li>'CHP_405'</li><li>'CHP_407'</li><li>'CHP_408'</li><li>'CHP_409'</li><li>'CHP_410'</li><li>'CHP_411'</li><li>'CHP_412'</li><li>'CHP_413'</li><li>'CHP_414'</li><li>'CHP_415'</li><li>'CHP_416'</li><li>'CHP_417'</li><li>'CHP_418'</li><li>'CHP_419'</li><li>'CHP_420'</li><li>'CHP_421'</li><li>'CHP_422'</li><li>'CHP_423'</li><li>'CHP_10YO_M'</li><li>'CHP_11YO_M'</li><li>'CHP_15YO_F_A'</li><li>'CHP_15YO_F_B'</li><li>'CHP_15YO_M'</li><li>'CHP_16YO_M'</li><li>'CHP_1YO_M_A'</li><li>'CHP_1YO_M_B'</li><li>'CHP_2YO_M'</li><li>'CHP_303'</li><li>'CHP_315'</li><li>'CHP_319'</li><li>'CHP_320'</li><li>'CHP_321'</li><li>'CHP_322'</li><li>'CHP_325'</li><li>'CHP_327'</li><li>'CHP_332'</li><li>'CHP_346'</li><li>'CHP_352'</li><li>'CHP_354'</li><li>'CHP_3YO_F'</li><li>'CHP_3YO_M_A'</li><li>'CHP_3YO_M_B'</li><li>'CHP_406'</li><li>'CHP_424'</li><li>'CHP_425'</li><li>'CHP_426'</li><li>'CHP_427'</li><li>'CHP_428'</li><li>'CHP_429'</li><li>'CHP_430'</li><li>'CHP_431'</li><li>'CHP_432'</li><li>'CHP_433'</li><li>'CHP_434'</li><li>'CHP_435'</li><li>'CHP_436'</li><li>'CHP_437'</li><li>'CHP_5YO_M'</li><li>'CHP_8MO_F'</li><li>'LFS_TCR_4535'</li><li>'LFS_TCR_4570'</li><li>'LFS_TCR_4602'</li><li>'LFS_TCR_4758'</li><li>'LFS_TCR_4759'</li><li>'LFS_TCR_4783'</li><li>'LFS_TCR_4837'</li><li>'LFS_TCR_4838'</li><li>'LFS_TCR_5014'</li><li>'LFS_TCR_5067'</li></ol>\n"
      ],
      "text/latex": [
       "\\begin{enumerate*}\n",
       "\\item 'CHP\\_323'\n",
       "\\item 'CHP\\_324'\n",
       "\\item 'CHP\\_326'\n",
       "\\item 'CHP\\_328'\n",
       "\\item 'CHP\\_329'\n",
       "\\item 'CHP\\_330'\n",
       "\\item 'CHP\\_331'\n",
       "\\item 'CHP\\_333'\n",
       "\\item 'CHP\\_334'\n",
       "\\item 'CHP\\_335'\n",
       "\\item 'CHP\\_336'\n",
       "\\item 'CHP\\_337'\n",
       "\\item 'CHP\\_338'\n",
       "\\item 'CHP\\_339'\n",
       "\\item 'CHP\\_340'\n",
       "\\item 'CHP\\_341'\n",
       "\\item 'CHP\\_342'\n",
       "\\item 'CHP\\_343'\n",
       "\\item 'CHP\\_344'\n",
       "\\item 'CHP\\_345'\n",
       "\\item 'CHP\\_347'\n",
       "\\item 'CHP\\_348'\n",
       "\\item 'CHP\\_349'\n",
       "\\item 'CHP\\_350'\n",
       "\\item 'CHP\\_351'\n",
       "\\item 'CHP\\_353'\n",
       "\\item 'CHP\\_355'\n",
       "\\item 'CHP\\_356'\n",
       "\\item 'CHP\\_357'\n",
       "\\item 'CHP\\_358'\n",
       "\\item 'CHP\\_359'\n",
       "\\item 'CHP\\_360'\n",
       "\\item 'CHP\\_361'\n",
       "\\item 'CHP\\_362'\n",
       "\\item 'CHP\\_363'\n",
       "\\item 'CHP\\_364'\n",
       "\\item 'CHP\\_365'\n",
       "\\item 'CHP\\_366'\n",
       "\\item 'CHP\\_367'\n",
       "\\item 'CHP\\_368'\n",
       "\\item 'CHP\\_369'\n",
       "\\item 'CHP\\_370'\n",
       "\\item 'CHP\\_371'\n",
       "\\item 'CHP\\_372'\n",
       "\\item 'CHP\\_373'\n",
       "\\item 'CHP\\_374'\n",
       "\\item 'CHP\\_375'\n",
       "\\item 'CHP\\_376'\n",
       "\\item 'CHP\\_377'\n",
       "\\item 'CHP\\_378'\n",
       "\\item 'CHP\\_379'\n",
       "\\item 'CHP\\_380'\n",
       "\\item 'CHP\\_381'\n",
       "\\item 'CHP\\_382'\n",
       "\\item 'CHP\\_383'\n",
       "\\item 'CHP\\_384'\n",
       "\\item 'CHP\\_385'\n",
       "\\item 'CHP\\_386'\n",
       "\\item 'CHP\\_387'\n",
       "\\item 'CHP\\_388'\n",
       "\\item 'CHP\\_389'\n",
       "\\item 'CHP\\_390'\n",
       "\\item 'CHP\\_391'\n",
       "\\item 'CHP\\_392'\n",
       "\\item 'CHP\\_393'\n",
       "\\item 'CHP\\_394'\n",
       "\\item 'CHP\\_395'\n",
       "\\item 'CHP\\_396'\n",
       "\\item 'CHP\\_397'\n",
       "\\item 'CHP\\_398'\n",
       "\\item 'CHP\\_399'\n",
       "\\item 'CHP\\_400'\n",
       "\\item 'CHP\\_401'\n",
       "\\item 'CHP\\_402'\n",
       "\\item 'CHP\\_403'\n",
       "\\item 'CHP\\_404'\n",
       "\\item 'CHP\\_405'\n",
       "\\item 'CHP\\_407'\n",
       "\\item 'CHP\\_408'\n",
       "\\item 'CHP\\_409'\n",
       "\\item 'CHP\\_410'\n",
       "\\item 'CHP\\_411'\n",
       "\\item 'CHP\\_412'\n",
       "\\item 'CHP\\_413'\n",
       "\\item 'CHP\\_414'\n",
       "\\item 'CHP\\_415'\n",
       "\\item 'CHP\\_416'\n",
       "\\item 'CHP\\_417'\n",
       "\\item 'CHP\\_418'\n",
       "\\item 'CHP\\_419'\n",
       "\\item 'CHP\\_420'\n",
       "\\item 'CHP\\_421'\n",
       "\\item 'CHP\\_422'\n",
       "\\item 'CHP\\_423'\n",
       "\\item 'CHP\\_10YO\\_M'\n",
       "\\item 'CHP\\_11YO\\_M'\n",
       "\\item 'CHP\\_15YO\\_F\\_A'\n",
       "\\item 'CHP\\_15YO\\_F\\_B'\n",
       "\\item 'CHP\\_15YO\\_M'\n",
       "\\item 'CHP\\_16YO\\_M'\n",
       "\\item 'CHP\\_1YO\\_M\\_A'\n",
       "\\item 'CHP\\_1YO\\_M\\_B'\n",
       "\\item 'CHP\\_2YO\\_M'\n",
       "\\item 'CHP\\_303'\n",
       "\\item 'CHP\\_315'\n",
       "\\item 'CHP\\_319'\n",
       "\\item 'CHP\\_320'\n",
       "\\item 'CHP\\_321'\n",
       "\\item 'CHP\\_322'\n",
       "\\item 'CHP\\_325'\n",
       "\\item 'CHP\\_327'\n",
       "\\item 'CHP\\_332'\n",
       "\\item 'CHP\\_346'\n",
       "\\item 'CHP\\_352'\n",
       "\\item 'CHP\\_354'\n",
       "\\item 'CHP\\_3YO\\_F'\n",
       "\\item 'CHP\\_3YO\\_M\\_A'\n",
       "\\item 'CHP\\_3YO\\_M\\_B'\n",
       "\\item 'CHP\\_406'\n",
       "\\item 'CHP\\_424'\n",
       "\\item 'CHP\\_425'\n",
       "\\item 'CHP\\_426'\n",
       "\\item 'CHP\\_427'\n",
       "\\item 'CHP\\_428'\n",
       "\\item 'CHP\\_429'\n",
       "\\item 'CHP\\_430'\n",
       "\\item 'CHP\\_431'\n",
       "\\item 'CHP\\_432'\n",
       "\\item 'CHP\\_433'\n",
       "\\item 'CHP\\_434'\n",
       "\\item 'CHP\\_435'\n",
       "\\item 'CHP\\_436'\n",
       "\\item 'CHP\\_437'\n",
       "\\item 'CHP\\_5YO\\_M'\n",
       "\\item 'CHP\\_8MO\\_F'\n",
       "\\item 'LFS\\_TCR\\_4535'\n",
       "\\item 'LFS\\_TCR\\_4570'\n",
       "\\item 'LFS\\_TCR\\_4602'\n",
       "\\item 'LFS\\_TCR\\_4758'\n",
       "\\item 'LFS\\_TCR\\_4759'\n",
       "\\item 'LFS\\_TCR\\_4783'\n",
       "\\item 'LFS\\_TCR\\_4837'\n",
       "\\item 'LFS\\_TCR\\_4838'\n",
       "\\item 'LFS\\_TCR\\_5014'\n",
       "\\item 'LFS\\_TCR\\_5067'\n",
       "\\end{enumerate*}\n"
      ],
      "text/markdown": [
       "1. 'CHP_323'\n",
       "2. 'CHP_324'\n",
       "3. 'CHP_326'\n",
       "4. 'CHP_328'\n",
       "5. 'CHP_329'\n",
       "6. 'CHP_330'\n",
       "7. 'CHP_331'\n",
       "8. 'CHP_333'\n",
       "9. 'CHP_334'\n",
       "10. 'CHP_335'\n",
       "11. 'CHP_336'\n",
       "12. 'CHP_337'\n",
       "13. 'CHP_338'\n",
       "14. 'CHP_339'\n",
       "15. 'CHP_340'\n",
       "16. 'CHP_341'\n",
       "17. 'CHP_342'\n",
       "18. 'CHP_343'\n",
       "19. 'CHP_344'\n",
       "20. 'CHP_345'\n",
       "21. 'CHP_347'\n",
       "22. 'CHP_348'\n",
       "23. 'CHP_349'\n",
       "24. 'CHP_350'\n",
       "25. 'CHP_351'\n",
       "26. 'CHP_353'\n",
       "27. 'CHP_355'\n",
       "28. 'CHP_356'\n",
       "29. 'CHP_357'\n",
       "30. 'CHP_358'\n",
       "31. 'CHP_359'\n",
       "32. 'CHP_360'\n",
       "33. 'CHP_361'\n",
       "34. 'CHP_362'\n",
       "35. 'CHP_363'\n",
       "36. 'CHP_364'\n",
       "37. 'CHP_365'\n",
       "38. 'CHP_366'\n",
       "39. 'CHP_367'\n",
       "40. 'CHP_368'\n",
       "41. 'CHP_369'\n",
       "42. 'CHP_370'\n",
       "43. 'CHP_371'\n",
       "44. 'CHP_372'\n",
       "45. 'CHP_373'\n",
       "46. 'CHP_374'\n",
       "47. 'CHP_375'\n",
       "48. 'CHP_376'\n",
       "49. 'CHP_377'\n",
       "50. 'CHP_378'\n",
       "51. 'CHP_379'\n",
       "52. 'CHP_380'\n",
       "53. 'CHP_381'\n",
       "54. 'CHP_382'\n",
       "55. 'CHP_383'\n",
       "56. 'CHP_384'\n",
       "57. 'CHP_385'\n",
       "58. 'CHP_386'\n",
       "59. 'CHP_387'\n",
       "60. 'CHP_388'\n",
       "61. 'CHP_389'\n",
       "62. 'CHP_390'\n",
       "63. 'CHP_391'\n",
       "64. 'CHP_392'\n",
       "65. 'CHP_393'\n",
       "66. 'CHP_394'\n",
       "67. 'CHP_395'\n",
       "68. 'CHP_396'\n",
       "69. 'CHP_397'\n",
       "70. 'CHP_398'\n",
       "71. 'CHP_399'\n",
       "72. 'CHP_400'\n",
       "73. 'CHP_401'\n",
       "74. 'CHP_402'\n",
       "75. 'CHP_403'\n",
       "76. 'CHP_404'\n",
       "77. 'CHP_405'\n",
       "78. 'CHP_407'\n",
       "79. 'CHP_408'\n",
       "80. 'CHP_409'\n",
       "81. 'CHP_410'\n",
       "82. 'CHP_411'\n",
       "83. 'CHP_412'\n",
       "84. 'CHP_413'\n",
       "85. 'CHP_414'\n",
       "86. 'CHP_415'\n",
       "87. 'CHP_416'\n",
       "88. 'CHP_417'\n",
       "89. 'CHP_418'\n",
       "90. 'CHP_419'\n",
       "91. 'CHP_420'\n",
       "92. 'CHP_421'\n",
       "93. 'CHP_422'\n",
       "94. 'CHP_423'\n",
       "95. 'CHP_10YO_M'\n",
       "96. 'CHP_11YO_M'\n",
       "97. 'CHP_15YO_F_A'\n",
       "98. 'CHP_15YO_F_B'\n",
       "99. 'CHP_15YO_M'\n",
       "100. 'CHP_16YO_M'\n",
       "101. 'CHP_1YO_M_A'\n",
       "102. 'CHP_1YO_M_B'\n",
       "103. 'CHP_2YO_M'\n",
       "104. 'CHP_303'\n",
       "105. 'CHP_315'\n",
       "106. 'CHP_319'\n",
       "107. 'CHP_320'\n",
       "108. 'CHP_321'\n",
       "109. 'CHP_322'\n",
       "110. 'CHP_325'\n",
       "111. 'CHP_327'\n",
       "112. 'CHP_332'\n",
       "113. 'CHP_346'\n",
       "114. 'CHP_352'\n",
       "115. 'CHP_354'\n",
       "116. 'CHP_3YO_F'\n",
       "117. 'CHP_3YO_M_A'\n",
       "118. 'CHP_3YO_M_B'\n",
       "119. 'CHP_406'\n",
       "120. 'CHP_424'\n",
       "121. 'CHP_425'\n",
       "122. 'CHP_426'\n",
       "123. 'CHP_427'\n",
       "124. 'CHP_428'\n",
       "125. 'CHP_429'\n",
       "126. 'CHP_430'\n",
       "127. 'CHP_431'\n",
       "128. 'CHP_432'\n",
       "129. 'CHP_433'\n",
       "130. 'CHP_434'\n",
       "131. 'CHP_435'\n",
       "132. 'CHP_436'\n",
       "133. 'CHP_437'\n",
       "134. 'CHP_5YO_M'\n",
       "135. 'CHP_8MO_F'\n",
       "136. 'LFS_TCR_4535'\n",
       "137. 'LFS_TCR_4570'\n",
       "138. 'LFS_TCR_4602'\n",
       "139. 'LFS_TCR_4758'\n",
       "140. 'LFS_TCR_4759'\n",
       "141. 'LFS_TCR_4783'\n",
       "142. 'LFS_TCR_4837'\n",
       "143. 'LFS_TCR_4838'\n",
       "144. 'LFS_TCR_5014'\n",
       "145. 'LFS_TCR_5067'\n",
       "\n",
       "\n"
      ],
      "text/plain": [
       "  [1] \"CHP_323\"      \"CHP_324\"      \"CHP_326\"      \"CHP_328\"      \"CHP_329\"     \n",
       "  [6] \"CHP_330\"      \"CHP_331\"      \"CHP_333\"      \"CHP_334\"      \"CHP_335\"     \n",
       " [11] \"CHP_336\"      \"CHP_337\"      \"CHP_338\"      \"CHP_339\"      \"CHP_340\"     \n",
       " [16] \"CHP_341\"      \"CHP_342\"      \"CHP_343\"      \"CHP_344\"      \"CHP_345\"     \n",
       " [21] \"CHP_347\"      \"CHP_348\"      \"CHP_349\"      \"CHP_350\"      \"CHP_351\"     \n",
       " [26] \"CHP_353\"      \"CHP_355\"      \"CHP_356\"      \"CHP_357\"      \"CHP_358\"     \n",
       " [31] \"CHP_359\"      \"CHP_360\"      \"CHP_361\"      \"CHP_362\"      \"CHP_363\"     \n",
       " [36] \"CHP_364\"      \"CHP_365\"      \"CHP_366\"      \"CHP_367\"      \"CHP_368\"     \n",
       " [41] \"CHP_369\"      \"CHP_370\"      \"CHP_371\"      \"CHP_372\"      \"CHP_373\"     \n",
       " [46] \"CHP_374\"      \"CHP_375\"      \"CHP_376\"      \"CHP_377\"      \"CHP_378\"     \n",
       " [51] \"CHP_379\"      \"CHP_380\"      \"CHP_381\"      \"CHP_382\"      \"CHP_383\"     \n",
       " [56] \"CHP_384\"      \"CHP_385\"      \"CHP_386\"      \"CHP_387\"      \"CHP_388\"     \n",
       " [61] \"CHP_389\"      \"CHP_390\"      \"CHP_391\"      \"CHP_392\"      \"CHP_393\"     \n",
       " [66] \"CHP_394\"      \"CHP_395\"      \"CHP_396\"      \"CHP_397\"      \"CHP_398\"     \n",
       " [71] \"CHP_399\"      \"CHP_400\"      \"CHP_401\"      \"CHP_402\"      \"CHP_403\"     \n",
       " [76] \"CHP_404\"      \"CHP_405\"      \"CHP_407\"      \"CHP_408\"      \"CHP_409\"     \n",
       " [81] \"CHP_410\"      \"CHP_411\"      \"CHP_412\"      \"CHP_413\"      \"CHP_414\"     \n",
       " [86] \"CHP_415\"      \"CHP_416\"      \"CHP_417\"      \"CHP_418\"      \"CHP_419\"     \n",
       " [91] \"CHP_420\"      \"CHP_421\"      \"CHP_422\"      \"CHP_423\"      \"CHP_10YO_M\"  \n",
       " [96] \"CHP_11YO_M\"   \"CHP_15YO_F_A\" \"CHP_15YO_F_B\" \"CHP_15YO_M\"   \"CHP_16YO_M\"  \n",
       "[101] \"CHP_1YO_M_A\"  \"CHP_1YO_M_B\"  \"CHP_2YO_M\"    \"CHP_303\"      \"CHP_315\"     \n",
       "[106] \"CHP_319\"      \"CHP_320\"      \"CHP_321\"      \"CHP_322\"      \"CHP_325\"     \n",
       "[111] \"CHP_327\"      \"CHP_332\"      \"CHP_346\"      \"CHP_352\"      \"CHP_354\"     \n",
       "[116] \"CHP_3YO_F\"    \"CHP_3YO_M_A\"  \"CHP_3YO_M_B\"  \"CHP_406\"      \"CHP_424\"     \n",
       "[121] \"CHP_425\"      \"CHP_426\"      \"CHP_427\"      \"CHP_428\"      \"CHP_429\"     \n",
       "[126] \"CHP_430\"      \"CHP_431\"      \"CHP_432\"      \"CHP_433\"      \"CHP_434\"     \n",
       "[131] \"CHP_435\"      \"CHP_436\"      \"CHP_437\"      \"CHP_5YO_M\"    \"CHP_8MO_F\"   \n",
       "[136] \"LFS_TCR_4535\" \"LFS_TCR_4570\" \"LFS_TCR_4602\" \"LFS_TCR_4758\" \"LFS_TCR_4759\"\n",
       "[141] \"LFS_TCR_4783\" \"LFS_TCR_4837\" \"LFS_TCR_4838\" \"LFS_TCR_5014\" \"LFS_TCR_5067\""
      ]
     },
     "metadata": {},
     "output_type": "display_data"
    }
   ],
   "source": [
    "unique(meta_div$Patient)"
   ]
  },
  {
   "cell_type": "code",
   "execution_count": 40,
   "metadata": {
    "vscode": {
     "languageId": "r"
    }
   },
   "outputs": [],
   "source": [
    "# add dx for tumors\n",
    "for (i in unique(meta_div$Patient[which(meta_div$sampletype == \"Tumor\")])) {\n",
    "   # print(i)\n",
    "   tmp <- meta_div[meta_div$Patient == i, ]\n",
    "   cancer <- names(table(tmp$Disease_type)[1])\n",
    "   meta_div$Disease_type[meta_div$Patient == i &\n",
    "      meta_div$sampletype %in% \"Tumor\"] <- cancer\n",
    "}\n"
   ]
  },
  {
   "cell_type": "code",
   "execution_count": 41,
   "metadata": {
    "vscode": {
     "languageId": "r"
    }
   },
   "outputs": [
    {
     "data": {
      "text/html": [
       "<table class=\"dataframe\">\n",
       "<caption>A data.frame: 2 x 65</caption>\n",
       "<thead>\n",
       "\t<tr><th></th><th scope=col>sample_id</th><th scope=col>Patient</th><th scope=col>cycle</th><th scope=col>FOLD</th><th scope=col>ATC</th><th scope=col>Age</th><th scope=col>Disease_type</th><th scope=col>TE_fold</th><th scope=col>CD3</th><th scope=col>EM</th><th scope=col>...</th><th scope=col>observed_Shannon</th><th scope=col>estimated_Shannon</th><th scope=col>SE_Shannon</th><th scope=col>observed_Simpson</th><th scope=col>estimated_Simpson</th><th scope=col>SE_Simpson</th><th scope=col>basename</th><th scope=col>file</th><th scope=col>sampletype</th><th scope=col>Group</th></tr>\n",
       "\t<tr><th></th><th scope=col>&lt;chr&gt;</th><th scope=col>&lt;chr&gt;</th><th scope=col>&lt;chr&gt;</th><th scope=col>&lt;dbl&gt;</th><th scope=col>&lt;dbl&gt;</th><th scope=col>&lt;dbl&gt;</th><th scope=col>&lt;chr&gt;</th><th scope=col>&lt;dbl&gt;</th><th scope=col>&lt;int&gt;</th><th scope=col>&lt;int&gt;</th><th scope=col>...</th><th scope=col>&lt;dbl&gt;</th><th scope=col>&lt;dbl&gt;</th><th scope=col>&lt;dbl&gt;</th><th scope=col>&lt;dbl&gt;</th><th scope=col>&lt;dbl&gt;</th><th scope=col>&lt;dbl&gt;</th><th scope=col>&lt;chr&gt;</th><th scope=col>&lt;chr&gt;</th><th scope=col>&lt;chr&gt;</th><th scope=col>&lt;chr&gt;</th></tr>\n",
       "</thead>\n",
       "<tbody>\n",
       "\t<tr><th scope=row>296</th><td>CHP_303_05</td><td>CHP_303</td><td>X05</td><td>NA</td><td>NA</td><td>NA</td><td>NA</td><td>NA</td><td>NA</td><td>NA</td><td>...</td><td>191.49643</td><td>194.71378</td><td>1.3610489</td><td>158.597414</td><td>161.725093</td><td>1.9785872</td><td>CHP_303-05-PBMC-DNA</td><td>batch4_19Aug2019/mixcr/clones/CLONES_TRBCHP_303-05-PBMC-DNA.txt</td><td>PBMC</td><td>CHP</td></tr>\n",
       "\t<tr><th scope=row>297</th><td>CHP_315_05</td><td>CHP_315</td><td>X05</td><td>NA</td><td>NA</td><td>NA</td><td>NA</td><td>NA</td><td>NA</td><td>NA</td><td>...</td><td> 15.46954</td><td> 15.79328</td><td>0.6325886</td><td>  9.026271</td><td>  9.137733</td><td>0.6765911</td><td>CHP_315-05-PBMC-DNA</td><td>batch4_19Aug2019/mixcr/clones/CLONES_TRBCHP_315-05-PBMC-DNA.txt</td><td>PBMC</td><td>CHP</td></tr>\n",
       "</tbody>\n",
       "</table>\n"
      ],
      "text/latex": [
       "A data.frame: 2 x 65\n",
       "\\begin{tabular}{r|lllllllllllllllllllll}\n",
       "  & sample\\_id & Patient & cycle & FOLD & ATC & Age & Disease\\_type & TE\\_fold & CD3 & EM & ... & observed\\_Shannon & estimated\\_Shannon & SE\\_Shannon & observed\\_Simpson & estimated\\_Simpson & SE\\_Simpson & basename & file & sampletype & Group\\\\\n",
       "  & <chr> & <chr> & <chr> & <dbl> & <dbl> & <dbl> & <chr> & <dbl> & <int> & <int> & ... & <dbl> & <dbl> & <dbl> & <dbl> & <dbl> & <dbl> & <chr> & <chr> & <chr> & <chr>\\\\\n",
       "\\hline\n",
       "\t296 & CHP\\_303\\_05 & CHP\\_303 & X05 & NA & NA & NA & NA & NA & NA & NA & ... & 191.49643 & 194.71378 & 1.3610489 & 158.597414 & 161.725093 & 1.9785872 & CHP\\_303-05-PBMC-DNA & batch4\\_19Aug2019/mixcr/clones/CLONES\\_TRBCHP\\_303-05-PBMC-DNA.txt & PBMC & CHP\\\\\n",
       "\t297 & CHP\\_315\\_05 & CHP\\_315 & X05 & NA & NA & NA & NA & NA & NA & NA & ... &  15.46954 &  15.79328 & 0.6325886 &   9.026271 &   9.137733 & 0.6765911 & CHP\\_315-05-PBMC-DNA & batch4\\_19Aug2019/mixcr/clones/CLONES\\_TRBCHP\\_315-05-PBMC-DNA.txt & PBMC & CHP\\\\\n",
       "\\end{tabular}\n"
      ],
      "text/markdown": [
       "\n",
       "A data.frame: 2 x 65\n",
       "\n",
       "| <!--/--> | sample_id &lt;chr&gt; | Patient &lt;chr&gt; | cycle &lt;chr&gt; | FOLD &lt;dbl&gt; | ATC &lt;dbl&gt; | Age &lt;dbl&gt; | Disease_type &lt;chr&gt; | TE_fold &lt;dbl&gt; | CD3 &lt;int&gt; | EM &lt;int&gt; | ... ... | observed_Shannon &lt;dbl&gt; | estimated_Shannon &lt;dbl&gt; | SE_Shannon &lt;dbl&gt; | observed_Simpson &lt;dbl&gt; | estimated_Simpson &lt;dbl&gt; | SE_Simpson &lt;dbl&gt; | basename &lt;chr&gt; | file &lt;chr&gt; | sampletype &lt;chr&gt; | Group &lt;chr&gt; |\n",
       "|---|---|---|---|---|---|---|---|---|---|---|---|---|---|---|---|---|---|---|---|---|---|\n",
       "| 296 | CHP_303_05 | CHP_303 | X05 | NA | NA | NA | NA | NA | NA | NA | ... | 191.49643 | 194.71378 | 1.3610489 | 158.597414 | 161.725093 | 1.9785872 | CHP_303-05-PBMC-DNA | batch4_19Aug2019/mixcr/clones/CLONES_TRBCHP_303-05-PBMC-DNA.txt | PBMC | CHP |\n",
       "| 297 | CHP_315_05 | CHP_315 | X05 | NA | NA | NA | NA | NA | NA | NA | ... |  15.46954 |  15.79328 | 0.6325886 |   9.026271 |   9.137733 | 0.6765911 | CHP_315-05-PBMC-DNA | batch4_19Aug2019/mixcr/clones/CLONES_TRBCHP_315-05-PBMC-DNA.txt | PBMC | CHP |\n",
       "\n"
      ],
      "text/plain": [
       "    sample_id  Patient cycle FOLD ATC Age Disease_type TE_fold CD3 EM ...\n",
       "296 CHP_303_05 CHP_303 X05   NA   NA  NA  NA           NA      NA  NA ...\n",
       "297 CHP_315_05 CHP_315 X05   NA   NA  NA  NA           NA      NA  NA ...\n",
       "    observed_Shannon estimated_Shannon SE_Shannon observed_Simpson\n",
       "296 191.49643        194.71378         1.3610489  158.597414      \n",
       "297  15.46954         15.79328         0.6325886    9.026271      \n",
       "    estimated_Simpson SE_Simpson basename           \n",
       "296 161.725093        1.9785872  CHP_303-05-PBMC-DNA\n",
       "297   9.137733        0.6765911  CHP_315-05-PBMC-DNA\n",
       "    file                                                            sampletype\n",
       "296 batch4_19Aug2019/mixcr/clones/CLONES_TRBCHP_303-05-PBMC-DNA.txt PBMC      \n",
       "297 batch4_19Aug2019/mixcr/clones/CLONES_TRBCHP_315-05-PBMC-DNA.txt PBMC      \n",
       "    Group\n",
       "296 CHP  \n",
       "297 CHP  "
      ]
     },
     "metadata": {},
     "output_type": "display_data"
    }
   ],
   "source": [
    "meta_div[ is.na(meta_div$Disease_type),]"
   ]
  },
  {
   "cell_type": "code",
   "execution_count": 42,
   "metadata": {
    "vscode": {
     "languageId": "r"
    }
   },
   "outputs": [],
   "source": [
    "# old samples. Remove them!\n",
    "meta_div <- meta_div[ !is.na(meta_div$Disease_type),]"
   ]
  },
  {
   "cell_type": "code",
   "execution_count": 43,
   "metadata": {
    "vscode": {
     "languageId": "r"
    }
   },
   "outputs": [
    {
     "data": {
      "text/plain": [
       "\n",
       "Leukemia Lymphoma    Solid     <NA> \n",
       "     437      174      288       24 "
      ]
     },
     "metadata": {},
     "output_type": "display_data"
    }
   ],
   "source": [
    "table(meta_div$cancergroup, useNA = \"always\")"
   ]
  },
  {
   "cell_type": "code",
   "execution_count": 44,
   "metadata": {
    "vscode": {
     "languageId": "r"
    }
   },
   "outputs": [
    {
     "data": {
      "text/plain": [
       "\n",
       "  ALCL    ALL    AML   ARMS     BL    BLL    CML  DLBCL   ERMS    EWS     HB \n",
       "    15    180     82      9     37     17     21     22     42     48     27 \n",
       "    HD HR ALL    LFS  MS NB     NB Normal     OS  PMBCL    RMS SR ALL  T-ALL \n",
       "    67    105     10      6     29     14     93     16     15     18     31 \n",
       " WILMS   <NA> \n",
       "    19      0 "
      ]
     },
     "metadata": {},
     "output_type": "display_data"
    }
   ],
   "source": [
    "table(meta_div$Disease_type, useNA = \"always\")"
   ]
  },
  {
   "cell_type": "code",
   "execution_count": 45,
   "metadata": {
    "vscode": {
     "languageId": "r"
    }
   },
   "outputs": [],
   "source": [
    "meta_div$cancergroup[ meta_div$sampletype == \"Tumor\"] <- \"Solid\"\n",
    "meta_div$cancergroup[ meta_div$Disease_type == \"Normal\"] <- \"Normal\"\n",
    "meta_div$cancergroup[ meta_div$Disease_type == \"LFS\"] <- \"LFS\""
   ]
  },
  {
   "cell_type": "code",
   "execution_count": 46,
   "metadata": {
    "vscode": {
     "languageId": "r"
    }
   },
   "outputs": [
    {
     "data": {
      "text/plain": [
       "\n",
       "Leukemia      LFS Lymphoma   Normal    Solid     <NA> \n",
       "     437       10      164       14      298        0 "
      ]
     },
     "metadata": {},
     "output_type": "display_data"
    }
   ],
   "source": [
    "table(meta_div$cancergroup, useNA = \"always\")"
   ]
  },
  {
   "cell_type": "code",
   "execution_count": 47,
   "metadata": {
    "vscode": {
     "languageId": "r"
    }
   },
   "outputs": [
    {
     "data": {
      "text/plain": [
       "\n",
       "cfDNA  PBMC Tumor  <NA> \n",
       "  286   619    18     0 "
      ]
     },
     "metadata": {},
     "output_type": "display_data"
    }
   ],
   "source": [
    "table(meta_div$sampletype, useNA = \"always\")"
   ]
  },
  {
   "cell_type": "code",
   "execution_count": 48,
   "metadata": {
    "vscode": {
     "languageId": "r"
    }
   },
   "outputs": [
    {
     "data": {
      "text/html": [
       "<table class=\"dataframe\">\n",
       "<caption>A data.frame: 3 x 65</caption>\n",
       "<thead>\n",
       "\t<tr><th></th><th scope=col>sample_id</th><th scope=col>Patient</th><th scope=col>cycle</th><th scope=col>FOLD</th><th scope=col>ATC</th><th scope=col>Age</th><th scope=col>Disease_type</th><th scope=col>TE_fold</th><th scope=col>CD3</th><th scope=col>EM</th><th scope=col>...</th><th scope=col>observed_Shannon</th><th scope=col>estimated_Shannon</th><th scope=col>SE_Shannon</th><th scope=col>observed_Simpson</th><th scope=col>estimated_Simpson</th><th scope=col>SE_Simpson</th><th scope=col>basename</th><th scope=col>file</th><th scope=col>sampletype</th><th scope=col>Group</th></tr>\n",
       "\t<tr><th></th><th scope=col>&lt;chr&gt;</th><th scope=col>&lt;chr&gt;</th><th scope=col>&lt;chr&gt;</th><th scope=col>&lt;dbl&gt;</th><th scope=col>&lt;dbl&gt;</th><th scope=col>&lt;dbl&gt;</th><th scope=col>&lt;chr&gt;</th><th scope=col>&lt;dbl&gt;</th><th scope=col>&lt;int&gt;</th><th scope=col>&lt;int&gt;</th><th scope=col>...</th><th scope=col>&lt;dbl&gt;</th><th scope=col>&lt;dbl&gt;</th><th scope=col>&lt;dbl&gt;</th><th scope=col>&lt;dbl&gt;</th><th scope=col>&lt;dbl&gt;</th><th scope=col>&lt;dbl&gt;</th><th scope=col>&lt;chr&gt;</th><th scope=col>&lt;chr&gt;</th><th scope=col>&lt;chr&gt;</th><th scope=col>&lt;chr&gt;</th></tr>\n",
       "</thead>\n",
       "<tbody>\n",
       "\t<tr><th scope=row>249</th><td>CHP_407_01</td><td>CHP_407</td><td>X01</td><td>1</td><td>216.81</td><td>12</td><td>DLBCL</td><td>1</td><td>2219</td><td>735</td><td>...</td><td>  4.314781</td><td>  4.316694</td><td>0.03156677</td><td>  4.006012</td><td>  4.008145</td><td>0.02787398</td><td>CHP_407-01_cfDNA   </td><td>remaining_batch_3_cfDNA_15April2021/mixcr/clones/CLONES_TRBCHP_407-01_cfDNA.txt</td><td>cfDNA</td><td>CHP</td></tr>\n",
       "\t<tr><th scope=row>741</th><td>CHP_407_01</td><td>CHP_407</td><td>X01</td><td>1</td><td>216.81</td><td>12</td><td>DLBCL</td><td>1</td><td>2219</td><td>735</td><td>...</td><td>296.625795</td><td>328.340127</td><td>4.82121497</td><td>247.015293</td><td>280.442163</td><td>6.77665004</td><td>CHP_407-01_PBMC_DNA</td><td>batch11_23Apr2020/mixcr/clones/CLONES_TRBCHP_407-01_PBMC_DNA.txt               </td><td>PBMC </td><td>CHP</td></tr>\n",
       "\t<tr><th scope=row>4411</th><td>CHP_407_01</td><td>CHP_407</td><td>X00</td><td>1</td><td>216.81</td><td>12</td><td>DLBCL</td><td>1</td><td>2219</td><td>735</td><td>...</td><td>  3.243773</td><td>  3.244667</td><td>0.02276269</td><td>  2.904515</td><td>  2.905275</td><td>0.02163161</td><td>CHP_407-FFPE-DNA_S7</td><td>batchFFPE_3Apr2020/mixcr/clones/CLONES_TRBCHP_407-FFPE-DNA_S7.txt              </td><td>Tumor</td><td>CHP</td></tr>\n",
       "</tbody>\n",
       "</table>\n"
      ],
      "text/latex": [
       "A data.frame: 3 x 65\n",
       "\\begin{tabular}{r|lllllllllllllllllllll}\n",
       "  & sample\\_id & Patient & cycle & FOLD & ATC & Age & Disease\\_type & TE\\_fold & CD3 & EM & ... & observed\\_Shannon & estimated\\_Shannon & SE\\_Shannon & observed\\_Simpson & estimated\\_Simpson & SE\\_Simpson & basename & file & sampletype & Group\\\\\n",
       "  & <chr> & <chr> & <chr> & <dbl> & <dbl> & <dbl> & <chr> & <dbl> & <int> & <int> & ... & <dbl> & <dbl> & <dbl> & <dbl> & <dbl> & <dbl> & <chr> & <chr> & <chr> & <chr>\\\\\n",
       "\\hline\n",
       "\t249 & CHP\\_407\\_01 & CHP\\_407 & X01 & 1 & 216.81 & 12 & DLBCL & 1 & 2219 & 735 & ... &   4.314781 &   4.316694 & 0.03156677 &   4.006012 &   4.008145 & 0.02787398 & CHP\\_407-01\\_cfDNA    & remaining\\_batch\\_3\\_cfDNA\\_15April2021/mixcr/clones/CLONES\\_TRBCHP\\_407-01\\_cfDNA.txt & cfDNA & CHP\\\\\n",
       "\t741 & CHP\\_407\\_01 & CHP\\_407 & X01 & 1 & 216.81 & 12 & DLBCL & 1 & 2219 & 735 & ... & 296.625795 & 328.340127 & 4.82121497 & 247.015293 & 280.442163 & 6.77665004 & CHP\\_407-01\\_PBMC\\_DNA & batch11\\_23Apr2020/mixcr/clones/CLONES\\_TRBCHP\\_407-01\\_PBMC\\_DNA.txt                & PBMC  & CHP\\\\\n",
       "\t4411 & CHP\\_407\\_01 & CHP\\_407 & X00 & 1 & 216.81 & 12 & DLBCL & 1 & 2219 & 735 & ... &   3.243773 &   3.244667 & 0.02276269 &   2.904515 &   2.905275 & 0.02163161 & CHP\\_407-FFPE-DNA\\_S7 & batchFFPE\\_3Apr2020/mixcr/clones/CLONES\\_TRBCHP\\_407-FFPE-DNA\\_S7.txt               & Tumor & CHP\\\\\n",
       "\\end{tabular}\n"
      ],
      "text/markdown": [
       "\n",
       "A data.frame: 3 x 65\n",
       "\n",
       "| <!--/--> | sample_id &lt;chr&gt; | Patient &lt;chr&gt; | cycle &lt;chr&gt; | FOLD &lt;dbl&gt; | ATC &lt;dbl&gt; | Age &lt;dbl&gt; | Disease_type &lt;chr&gt; | TE_fold &lt;dbl&gt; | CD3 &lt;int&gt; | EM &lt;int&gt; | ... ... | observed_Shannon &lt;dbl&gt; | estimated_Shannon &lt;dbl&gt; | SE_Shannon &lt;dbl&gt; | observed_Simpson &lt;dbl&gt; | estimated_Simpson &lt;dbl&gt; | SE_Simpson &lt;dbl&gt; | basename &lt;chr&gt; | file &lt;chr&gt; | sampletype &lt;chr&gt; | Group &lt;chr&gt; |\n",
       "|---|---|---|---|---|---|---|---|---|---|---|---|---|---|---|---|---|---|---|---|---|---|\n",
       "| 249 | CHP_407_01 | CHP_407 | X01 | 1 | 216.81 | 12 | DLBCL | 1 | 2219 | 735 | ... |   4.314781 |   4.316694 | 0.03156677 |   4.006012 |   4.008145 | 0.02787398 | CHP_407-01_cfDNA    | remaining_batch_3_cfDNA_15April2021/mixcr/clones/CLONES_TRBCHP_407-01_cfDNA.txt | cfDNA | CHP |\n",
       "| 741 | CHP_407_01 | CHP_407 | X01 | 1 | 216.81 | 12 | DLBCL | 1 | 2219 | 735 | ... | 296.625795 | 328.340127 | 4.82121497 | 247.015293 | 280.442163 | 6.77665004 | CHP_407-01_PBMC_DNA | batch11_23Apr2020/mixcr/clones/CLONES_TRBCHP_407-01_PBMC_DNA.txt                | PBMC  | CHP |\n",
       "| 4411 | CHP_407_01 | CHP_407 | X00 | 1 | 216.81 | 12 | DLBCL | 1 | 2219 | 735 | ... |   3.243773 |   3.244667 | 0.02276269 |   2.904515 |   2.905275 | 0.02163161 | CHP_407-FFPE-DNA_S7 | batchFFPE_3Apr2020/mixcr/clones/CLONES_TRBCHP_407-FFPE-DNA_S7.txt               | Tumor | CHP |\n",
       "\n"
      ],
      "text/plain": [
       "     sample_id  Patient cycle FOLD ATC    Age Disease_type TE_fold CD3  EM  ...\n",
       "249  CHP_407_01 CHP_407 X01   1    216.81 12  DLBCL        1       2219 735 ...\n",
       "741  CHP_407_01 CHP_407 X01   1    216.81 12  DLBCL        1       2219 735 ...\n",
       "4411 CHP_407_01 CHP_407 X00   1    216.81 12  DLBCL        1       2219 735 ...\n",
       "     observed_Shannon estimated_Shannon SE_Shannon observed_Simpson\n",
       "249    4.314781         4.316694        0.03156677   4.006012      \n",
       "741  296.625795       328.340127        4.82121497 247.015293      \n",
       "4411   3.243773         3.244667        0.02276269   2.904515      \n",
       "     estimated_Simpson SE_Simpson basename           \n",
       "249    4.008145        0.02787398 CHP_407-01_cfDNA   \n",
       "741  280.442163        6.77665004 CHP_407-01_PBMC_DNA\n",
       "4411   2.905275        0.02163161 CHP_407-FFPE-DNA_S7\n",
       "     file                                                                           \n",
       "249  remaining_batch_3_cfDNA_15April2021/mixcr/clones/CLONES_TRBCHP_407-01_cfDNA.txt\n",
       "741  batch11_23Apr2020/mixcr/clones/CLONES_TRBCHP_407-01_PBMC_DNA.txt               \n",
       "4411 batchFFPE_3Apr2020/mixcr/clones/CLONES_TRBCHP_407-FFPE-DNA_S7.txt              \n",
       "     sampletype Group\n",
       "249  cfDNA      CHP  \n",
       "741  PBMC       CHP  \n",
       "4411 Tumor      CHP  "
      ]
     },
     "metadata": {},
     "output_type": "display_data"
    }
   ],
   "source": [
    "head(meta_div[meta_div$sample_id == \"CHP_407_01\",])"
   ]
  },
  {
   "cell_type": "code",
   "execution_count": 49,
   "metadata": {
    "vscode": {
     "languageId": "r"
    }
   },
   "outputs": [
    {
     "data": {
      "text/html": [
       "143"
      ],
      "text/latex": [
       "143"
      ],
      "text/markdown": [
       "143"
      ],
      "text/plain": [
       "[1] 143"
      ]
     },
     "metadata": {},
     "output_type": "display_data"
    }
   ],
   "source": [
    "length(unique(meta_div$Patient))"
   ]
  },
  {
   "cell_type": "code",
   "execution_count": 50,
   "metadata": {
    "vscode": {
     "languageId": "r"
    }
   },
   "outputs": [
    {
     "data": {
      "text/html": [
       "<table class=\"dataframe\">\n",
       "<caption>A data.frame: 10 x 65</caption>\n",
       "<thead>\n",
       "\t<tr><th></th><th scope=col>sample_id</th><th scope=col>Patient</th><th scope=col>cycle</th><th scope=col>FOLD</th><th scope=col>ATC</th><th scope=col>Age</th><th scope=col>Disease_type</th><th scope=col>TE_fold</th><th scope=col>CD3</th><th scope=col>EM</th><th scope=col>...</th><th scope=col>observed_Shannon</th><th scope=col>estimated_Shannon</th><th scope=col>SE_Shannon</th><th scope=col>observed_Simpson</th><th scope=col>estimated_Simpson</th><th scope=col>SE_Simpson</th><th scope=col>basename</th><th scope=col>file</th><th scope=col>sampletype</th><th scope=col>Group</th></tr>\n",
       "\t<tr><th></th><th scope=col>&lt;chr&gt;</th><th scope=col>&lt;chr&gt;</th><th scope=col>&lt;chr&gt;</th><th scope=col>&lt;dbl&gt;</th><th scope=col>&lt;dbl&gt;</th><th scope=col>&lt;dbl&gt;</th><th scope=col>&lt;chr&gt;</th><th scope=col>&lt;dbl&gt;</th><th scope=col>&lt;int&gt;</th><th scope=col>&lt;int&gt;</th><th scope=col>...</th><th scope=col>&lt;dbl&gt;</th><th scope=col>&lt;dbl&gt;</th><th scope=col>&lt;dbl&gt;</th><th scope=col>&lt;dbl&gt;</th><th scope=col>&lt;dbl&gt;</th><th scope=col>&lt;dbl&gt;</th><th scope=col>&lt;chr&gt;</th><th scope=col>&lt;chr&gt;</th><th scope=col>&lt;chr&gt;</th><th scope=col>&lt;chr&gt;</th></tr>\n",
       "</thead>\n",
       "<tbody>\n",
       "\t<tr><th scope=row>249</th><td>CHP_407_01</td><td>CHP_407</td><td>X01</td><td> 1.0</td><td>216.81</td><td>12</td><td>DLBCL</td><td> 1.0</td><td>2219</td><td>735</td><td>...</td><td>  4.314781</td><td>  4.316694</td><td>0.03156677</td><td>  4.006012</td><td>  4.008145</td><td>0.02787398</td><td>CHP_407-01_cfDNA   </td><td>remaining_batch_3_cfDNA_15April2021/mixcr/clones/CLONES_TRBCHP_407-01_cfDNA.txt</td><td>cfDNA</td><td>CHP</td></tr>\n",
       "\t<tr><th scope=row>250</th><td>CHP_407_02</td><td>CHP_407</td><td>X02</td><td>18.1</td><td>570.15</td><td>12</td><td>DLBCL</td><td>18.1</td><td>2373</td><td>839</td><td>...</td><td>  6.629124</td><td>  6.638905</td><td>0.09053794</td><td>  4.708198</td><td>  4.711226</td><td>0.08111305</td><td>CHP_407-02_cfDNA   </td><td>priority_pool3/mixcr/clones/CLONES_TRBCHP_407-02_cfDNA.txt                     </td><td>cfDNA</td><td>CHP</td></tr>\n",
       "\t<tr><th scope=row>251</th><td>CHP_407_03</td><td>CHP_407</td><td>X03</td><td> 3.7</td><td> 86.24</td><td>12</td><td>DLBCL</td><td> 3.7</td><td>1185</td><td> 72</td><td>...</td><td>  1.481101</td><td>  1.487815</td><td>0.05912977</td><td>  1.230549</td><td>  1.231358</td><td>0.03432500</td><td>CHP_407-03_cfDNA   </td><td>batch11_cfDNA_11Sep2020/mixcr/clones/CLONES_TRBCHP_407-03_cfDNA.txt            </td><td>cfDNA</td><td>CHP</td></tr>\n",
       "\t<tr><th scope=row>252</th><td>CHP_407_04</td><td>CHP_407</td><td>X04</td><td> 0.0</td><td>  0.00</td><td>12</td><td>DLBCL</td><td> 0.0</td><td>   0</td><td> NA</td><td>...</td><td>  1.000000</td><td>  1.000000</td><td>0.00000000</td><td>  1.000000</td><td>  1.000000</td><td>0.00000000</td><td>CHP_407-04_cfDNA   </td><td>remaining_batch_3_cfDNA_15April2021/mixcr/clones/CLONES_TRBCHP_407-04_cfDNA.txt</td><td>cfDNA</td><td>CHP</td></tr>\n",
       "\t<tr><th scope=row>741</th><td>CHP_407_01</td><td>CHP_407</td><td>X01</td><td> 1.0</td><td>216.81</td><td>12</td><td>DLBCL</td><td> 1.0</td><td>2219</td><td>735</td><td>...</td><td>296.625795</td><td>328.340127</td><td>4.82121497</td><td>247.015293</td><td>280.442163</td><td>6.77665004</td><td>CHP_407-01_PBMC_DNA</td><td>batch11_23Apr2020/mixcr/clones/CLONES_TRBCHP_407-01_PBMC_DNA.txt               </td><td>PBMC </td><td>CHP</td></tr>\n",
       "\t<tr><th scope=row>742</th><td>CHP_407_02</td><td>CHP_407</td><td>X02</td><td>18.1</td><td>570.15</td><td>12</td><td>DLBCL</td><td>18.1</td><td>2373</td><td>839</td><td>...</td><td> 40.144620</td><td> 41.509305</td><td>0.91390958</td><td> 32.776496</td><td> 33.849983</td><td>1.02611973</td><td>CHP_407-02_PBMC_DNA</td><td>batch11_23Apr2020/mixcr/clones/CLONES_TRBCHP_407-02_PBMC_DNA.txt               </td><td>PBMC </td><td>CHP</td></tr>\n",
       "\t<tr><th scope=row>743</th><td>CHP_407_03</td><td>CHP_407</td><td>X03</td><td> 3.7</td><td> 86.24</td><td>12</td><td>DLBCL</td><td> 3.7</td><td>1185</td><td> 72</td><td>...</td><td> 23.868713</td><td> 24.224584</td><td>0.59816864</td><td> 17.986145</td><td> 18.256270</td><td>0.83346694</td><td>CHP_407-03__PBMC-DN</td><td>batch12_30Apr2021/mixcr/clones/CLONES_TRBCHP_407-03__PBMC-DN.txt               </td><td>PBMC </td><td>CHP</td></tr>\n",
       "\t<tr><th scope=row>744</th><td>CHP_407_04</td><td>CHP_407</td><td>X04</td><td> 0.0</td><td>  0.00</td><td>12</td><td>DLBCL</td><td> 0.0</td><td>   0</td><td> NA</td><td>...</td><td>440.987356</td><td>442.840531</td><td>1.04361494</td><td>370.132939</td><td>372.109282</td><td>1.63606502</td><td>CHP_407-04-PBMC-DNA</td><td>batch13_26Aug2020/mixcr/clones/CLONES_TRBCHP_407-04-PBMC-DNA.txt               </td><td>PBMC </td><td>CHP</td></tr>\n",
       "\t<tr><th scope=row>745</th><td>CHP_407_05</td><td>CHP_407</td><td>X05</td><td> 0.0</td><td>  0.00</td><td>12</td><td>DLBCL</td><td> 0.0</td><td>   0</td><td> NA</td><td>...</td><td>        NA</td><td>        NA</td><td>        NA</td><td>        NA</td><td>        NA</td><td>        NA</td><td>NA                 </td><td>NA                                                                             </td><td>PBMC </td><td>CHP</td></tr>\n",
       "\t<tr><th scope=row>4411</th><td>CHP_407_01</td><td>CHP_407</td><td>X00</td><td> 1.0</td><td>216.81</td><td>12</td><td>DLBCL</td><td> 1.0</td><td>2219</td><td>735</td><td>...</td><td>  3.243773</td><td>  3.244667</td><td>0.02276269</td><td>  2.904515</td><td>  2.905275</td><td>0.02163161</td><td>CHP_407-FFPE-DNA_S7</td><td>batchFFPE_3Apr2020/mixcr/clones/CLONES_TRBCHP_407-FFPE-DNA_S7.txt              </td><td>Tumor</td><td>CHP</td></tr>\n",
       "</tbody>\n",
       "</table>\n"
      ],
      "text/latex": [
       "A data.frame: 10 x 65\n",
       "\\begin{tabular}{r|lllllllllllllllllllll}\n",
       "  & sample\\_id & Patient & cycle & FOLD & ATC & Age & Disease\\_type & TE\\_fold & CD3 & EM & ... & observed\\_Shannon & estimated\\_Shannon & SE\\_Shannon & observed\\_Simpson & estimated\\_Simpson & SE\\_Simpson & basename & file & sampletype & Group\\\\\n",
       "  & <chr> & <chr> & <chr> & <dbl> & <dbl> & <dbl> & <chr> & <dbl> & <int> & <int> & ... & <dbl> & <dbl> & <dbl> & <dbl> & <dbl> & <dbl> & <chr> & <chr> & <chr> & <chr>\\\\\n",
       "\\hline\n",
       "\t249 & CHP\\_407\\_01 & CHP\\_407 & X01 &  1.0 & 216.81 & 12 & DLBCL &  1.0 & 2219 & 735 & ... &   4.314781 &   4.316694 & 0.03156677 &   4.006012 &   4.008145 & 0.02787398 & CHP\\_407-01\\_cfDNA    & remaining\\_batch\\_3\\_cfDNA\\_15April2021/mixcr/clones/CLONES\\_TRBCHP\\_407-01\\_cfDNA.txt & cfDNA & CHP\\\\\n",
       "\t250 & CHP\\_407\\_02 & CHP\\_407 & X02 & 18.1 & 570.15 & 12 & DLBCL & 18.1 & 2373 & 839 & ... &   6.629124 &   6.638905 & 0.09053794 &   4.708198 &   4.711226 & 0.08111305 & CHP\\_407-02\\_cfDNA    & priority\\_pool3/mixcr/clones/CLONES\\_TRBCHP\\_407-02\\_cfDNA.txt                      & cfDNA & CHP\\\\\n",
       "\t251 & CHP\\_407\\_03 & CHP\\_407 & X03 &  3.7 &  86.24 & 12 & DLBCL &  3.7 & 1185 &  72 & ... &   1.481101 &   1.487815 & 0.05912977 &   1.230549 &   1.231358 & 0.03432500 & CHP\\_407-03\\_cfDNA    & batch11\\_cfDNA\\_11Sep2020/mixcr/clones/CLONES\\_TRBCHP\\_407-03\\_cfDNA.txt             & cfDNA & CHP\\\\\n",
       "\t252 & CHP\\_407\\_04 & CHP\\_407 & X04 &  0.0 &   0.00 & 12 & DLBCL &  0.0 &    0 &  NA & ... &   1.000000 &   1.000000 & 0.00000000 &   1.000000 &   1.000000 & 0.00000000 & CHP\\_407-04\\_cfDNA    & remaining\\_batch\\_3\\_cfDNA\\_15April2021/mixcr/clones/CLONES\\_TRBCHP\\_407-04\\_cfDNA.txt & cfDNA & CHP\\\\\n",
       "\t741 & CHP\\_407\\_01 & CHP\\_407 & X01 &  1.0 & 216.81 & 12 & DLBCL &  1.0 & 2219 & 735 & ... & 296.625795 & 328.340127 & 4.82121497 & 247.015293 & 280.442163 & 6.77665004 & CHP\\_407-01\\_PBMC\\_DNA & batch11\\_23Apr2020/mixcr/clones/CLONES\\_TRBCHP\\_407-01\\_PBMC\\_DNA.txt                & PBMC  & CHP\\\\\n",
       "\t742 & CHP\\_407\\_02 & CHP\\_407 & X02 & 18.1 & 570.15 & 12 & DLBCL & 18.1 & 2373 & 839 & ... &  40.144620 &  41.509305 & 0.91390958 &  32.776496 &  33.849983 & 1.02611973 & CHP\\_407-02\\_PBMC\\_DNA & batch11\\_23Apr2020/mixcr/clones/CLONES\\_TRBCHP\\_407-02\\_PBMC\\_DNA.txt                & PBMC  & CHP\\\\\n",
       "\t743 & CHP\\_407\\_03 & CHP\\_407 & X03 &  3.7 &  86.24 & 12 & DLBCL &  3.7 & 1185 &  72 & ... &  23.868713 &  24.224584 & 0.59816864 &  17.986145 &  18.256270 & 0.83346694 & CHP\\_407-03\\_\\_PBMC-DN & batch12\\_30Apr2021/mixcr/clones/CLONES\\_TRBCHP\\_407-03\\_\\_PBMC-DN.txt                & PBMC  & CHP\\\\\n",
       "\t744 & CHP\\_407\\_04 & CHP\\_407 & X04 &  0.0 &   0.00 & 12 & DLBCL &  0.0 &    0 &  NA & ... & 440.987356 & 442.840531 & 1.04361494 & 370.132939 & 372.109282 & 1.63606502 & CHP\\_407-04-PBMC-DNA & batch13\\_26Aug2020/mixcr/clones/CLONES\\_TRBCHP\\_407-04-PBMC-DNA.txt                & PBMC  & CHP\\\\\n",
       "\t745 & CHP\\_407\\_05 & CHP\\_407 & X05 &  0.0 &   0.00 & 12 & DLBCL &  0.0 &    0 &  NA & ... &         NA &         NA &         NA &         NA &         NA &         NA & NA                  & NA                                                                              & PBMC  & CHP\\\\\n",
       "\t4411 & CHP\\_407\\_01 & CHP\\_407 & X00 &  1.0 & 216.81 & 12 & DLBCL &  1.0 & 2219 & 735 & ... &   3.243773 &   3.244667 & 0.02276269 &   2.904515 &   2.905275 & 0.02163161 & CHP\\_407-FFPE-DNA\\_S7 & batchFFPE\\_3Apr2020/mixcr/clones/CLONES\\_TRBCHP\\_407-FFPE-DNA\\_S7.txt               & Tumor & CHP\\\\\n",
       "\\end{tabular}\n"
      ],
      "text/markdown": [
       "\n",
       "A data.frame: 10 x 65\n",
       "\n",
       "| <!--/--> | sample_id &lt;chr&gt; | Patient &lt;chr&gt; | cycle &lt;chr&gt; | FOLD &lt;dbl&gt; | ATC &lt;dbl&gt; | Age &lt;dbl&gt; | Disease_type &lt;chr&gt; | TE_fold &lt;dbl&gt; | CD3 &lt;int&gt; | EM &lt;int&gt; | ... ... | observed_Shannon &lt;dbl&gt; | estimated_Shannon &lt;dbl&gt; | SE_Shannon &lt;dbl&gt; | observed_Simpson &lt;dbl&gt; | estimated_Simpson &lt;dbl&gt; | SE_Simpson &lt;dbl&gt; | basename &lt;chr&gt; | file &lt;chr&gt; | sampletype &lt;chr&gt; | Group &lt;chr&gt; |\n",
       "|---|---|---|---|---|---|---|---|---|---|---|---|---|---|---|---|---|---|---|---|---|---|\n",
       "| 249 | CHP_407_01 | CHP_407 | X01 |  1.0 | 216.81 | 12 | DLBCL |  1.0 | 2219 | 735 | ... |   4.314781 |   4.316694 | 0.03156677 |   4.006012 |   4.008145 | 0.02787398 | CHP_407-01_cfDNA    | remaining_batch_3_cfDNA_15April2021/mixcr/clones/CLONES_TRBCHP_407-01_cfDNA.txt | cfDNA | CHP |\n",
       "| 250 | CHP_407_02 | CHP_407 | X02 | 18.1 | 570.15 | 12 | DLBCL | 18.1 | 2373 | 839 | ... |   6.629124 |   6.638905 | 0.09053794 |   4.708198 |   4.711226 | 0.08111305 | CHP_407-02_cfDNA    | priority_pool3/mixcr/clones/CLONES_TRBCHP_407-02_cfDNA.txt                      | cfDNA | CHP |\n",
       "| 251 | CHP_407_03 | CHP_407 | X03 |  3.7 |  86.24 | 12 | DLBCL |  3.7 | 1185 |  72 | ... |   1.481101 |   1.487815 | 0.05912977 |   1.230549 |   1.231358 | 0.03432500 | CHP_407-03_cfDNA    | batch11_cfDNA_11Sep2020/mixcr/clones/CLONES_TRBCHP_407-03_cfDNA.txt             | cfDNA | CHP |\n",
       "| 252 | CHP_407_04 | CHP_407 | X04 |  0.0 |   0.00 | 12 | DLBCL |  0.0 |    0 |  NA | ... |   1.000000 |   1.000000 | 0.00000000 |   1.000000 |   1.000000 | 0.00000000 | CHP_407-04_cfDNA    | remaining_batch_3_cfDNA_15April2021/mixcr/clones/CLONES_TRBCHP_407-04_cfDNA.txt | cfDNA | CHP |\n",
       "| 741 | CHP_407_01 | CHP_407 | X01 |  1.0 | 216.81 | 12 | DLBCL |  1.0 | 2219 | 735 | ... | 296.625795 | 328.340127 | 4.82121497 | 247.015293 | 280.442163 | 6.77665004 | CHP_407-01_PBMC_DNA | batch11_23Apr2020/mixcr/clones/CLONES_TRBCHP_407-01_PBMC_DNA.txt                | PBMC  | CHP |\n",
       "| 742 | CHP_407_02 | CHP_407 | X02 | 18.1 | 570.15 | 12 | DLBCL | 18.1 | 2373 | 839 | ... |  40.144620 |  41.509305 | 0.91390958 |  32.776496 |  33.849983 | 1.02611973 | CHP_407-02_PBMC_DNA | batch11_23Apr2020/mixcr/clones/CLONES_TRBCHP_407-02_PBMC_DNA.txt                | PBMC  | CHP |\n",
       "| 743 | CHP_407_03 | CHP_407 | X03 |  3.7 |  86.24 | 12 | DLBCL |  3.7 | 1185 |  72 | ... |  23.868713 |  24.224584 | 0.59816864 |  17.986145 |  18.256270 | 0.83346694 | CHP_407-03__PBMC-DN | batch12_30Apr2021/mixcr/clones/CLONES_TRBCHP_407-03__PBMC-DN.txt                | PBMC  | CHP |\n",
       "| 744 | CHP_407_04 | CHP_407 | X04 |  0.0 |   0.00 | 12 | DLBCL |  0.0 |    0 |  NA | ... | 440.987356 | 442.840531 | 1.04361494 | 370.132939 | 372.109282 | 1.63606502 | CHP_407-04-PBMC-DNA | batch13_26Aug2020/mixcr/clones/CLONES_TRBCHP_407-04-PBMC-DNA.txt                | PBMC  | CHP |\n",
       "| 745 | CHP_407_05 | CHP_407 | X05 |  0.0 |   0.00 | 12 | DLBCL |  0.0 |    0 |  NA | ... |         NA |         NA |         NA |         NA |         NA |         NA | NA                  | NA                                                                              | PBMC  | CHP |\n",
       "| 4411 | CHP_407_01 | CHP_407 | X00 |  1.0 | 216.81 | 12 | DLBCL |  1.0 | 2219 | 735 | ... |   3.243773 |   3.244667 | 0.02276269 |   2.904515 |   2.905275 | 0.02163161 | CHP_407-FFPE-DNA_S7 | batchFFPE_3Apr2020/mixcr/clones/CLONES_TRBCHP_407-FFPE-DNA_S7.txt               | Tumor | CHP |\n",
       "\n"
      ],
      "text/plain": [
       "     sample_id  Patient cycle FOLD ATC    Age Disease_type TE_fold CD3  EM  ...\n",
       "249  CHP_407_01 CHP_407 X01    1.0 216.81 12  DLBCL         1.0    2219 735 ...\n",
       "250  CHP_407_02 CHP_407 X02   18.1 570.15 12  DLBCL        18.1    2373 839 ...\n",
       "251  CHP_407_03 CHP_407 X03    3.7  86.24 12  DLBCL         3.7    1185  72 ...\n",
       "252  CHP_407_04 CHP_407 X04    0.0   0.00 12  DLBCL         0.0       0  NA ...\n",
       "741  CHP_407_01 CHP_407 X01    1.0 216.81 12  DLBCL         1.0    2219 735 ...\n",
       "742  CHP_407_02 CHP_407 X02   18.1 570.15 12  DLBCL        18.1    2373 839 ...\n",
       "743  CHP_407_03 CHP_407 X03    3.7  86.24 12  DLBCL         3.7    1185  72 ...\n",
       "744  CHP_407_04 CHP_407 X04    0.0   0.00 12  DLBCL         0.0       0  NA ...\n",
       "745  CHP_407_05 CHP_407 X05    0.0   0.00 12  DLBCL         0.0       0  NA ...\n",
       "4411 CHP_407_01 CHP_407 X00    1.0 216.81 12  DLBCL         1.0    2219 735 ...\n",
       "     observed_Shannon estimated_Shannon SE_Shannon observed_Simpson\n",
       "249    4.314781         4.316694        0.03156677   4.006012      \n",
       "250    6.629124         6.638905        0.09053794   4.708198      \n",
       "251    1.481101         1.487815        0.05912977   1.230549      \n",
       "252    1.000000         1.000000        0.00000000   1.000000      \n",
       "741  296.625795       328.340127        4.82121497 247.015293      \n",
       "742   40.144620        41.509305        0.91390958  32.776496      \n",
       "743   23.868713        24.224584        0.59816864  17.986145      \n",
       "744  440.987356       442.840531        1.04361494 370.132939      \n",
       "745          NA               NA                NA         NA      \n",
       "4411   3.243773         3.244667        0.02276269   2.904515      \n",
       "     estimated_Simpson SE_Simpson basename           \n",
       "249    4.008145        0.02787398 CHP_407-01_cfDNA   \n",
       "250    4.711226        0.08111305 CHP_407-02_cfDNA   \n",
       "251    1.231358        0.03432500 CHP_407-03_cfDNA   \n",
       "252    1.000000        0.00000000 CHP_407-04_cfDNA   \n",
       "741  280.442163        6.77665004 CHP_407-01_PBMC_DNA\n",
       "742   33.849983        1.02611973 CHP_407-02_PBMC_DNA\n",
       "743   18.256270        0.83346694 CHP_407-03__PBMC-DN\n",
       "744  372.109282        1.63606502 CHP_407-04-PBMC-DNA\n",
       "745          NA                NA NA                 \n",
       "4411   2.905275        0.02163161 CHP_407-FFPE-DNA_S7\n",
       "     file                                                                           \n",
       "249  remaining_batch_3_cfDNA_15April2021/mixcr/clones/CLONES_TRBCHP_407-01_cfDNA.txt\n",
       "250  priority_pool3/mixcr/clones/CLONES_TRBCHP_407-02_cfDNA.txt                     \n",
       "251  batch11_cfDNA_11Sep2020/mixcr/clones/CLONES_TRBCHP_407-03_cfDNA.txt            \n",
       "252  remaining_batch_3_cfDNA_15April2021/mixcr/clones/CLONES_TRBCHP_407-04_cfDNA.txt\n",
       "741  batch11_23Apr2020/mixcr/clones/CLONES_TRBCHP_407-01_PBMC_DNA.txt               \n",
       "742  batch11_23Apr2020/mixcr/clones/CLONES_TRBCHP_407-02_PBMC_DNA.txt               \n",
       "743  batch12_30Apr2021/mixcr/clones/CLONES_TRBCHP_407-03__PBMC-DN.txt               \n",
       "744  batch13_26Aug2020/mixcr/clones/CLONES_TRBCHP_407-04-PBMC-DNA.txt               \n",
       "745  NA                                                                             \n",
       "4411 batchFFPE_3Apr2020/mixcr/clones/CLONES_TRBCHP_407-FFPE-DNA_S7.txt              \n",
       "     sampletype Group\n",
       "249  cfDNA      CHP  \n",
       "250  cfDNA      CHP  \n",
       "251  cfDNA      CHP  \n",
       "252  cfDNA      CHP  \n",
       "741  PBMC       CHP  \n",
       "742  PBMC       CHP  \n",
       "743  PBMC       CHP  \n",
       "744  PBMC       CHP  \n",
       "745  PBMC       CHP  \n",
       "4411 Tumor      CHP  "
      ]
     },
     "metadata": {},
     "output_type": "display_data"
    }
   ],
   "source": [
    "meta_div[ meta_div$Patient == \"CHP_407\",]"
   ]
  },
  {
   "cell_type": "code",
   "execution_count": 51,
   "metadata": {
    "vscode": {
     "languageId": "r"
    }
   },
   "outputs": [],
   "source": [
    "save(meta_div, file = paste0(datapath,\"capTCRseq/meta_div_TRB.RData\"))"
   ]
  },
  {
   "cell_type": "code",
   "execution_count": null,
   "metadata": {
    "vscode": {
     "languageId": "r"
    }
   },
   "outputs": [],
   "source": []
  }
 ],
 "metadata": {
  "kernelspec": {
   "display_name": "R 4.0",
   "language": "R",
   "name": "ir40"
  },
  "language_info": {
   "codemirror_mode": "r",
   "file_extension": ".r",
   "mimetype": "text/x-r-source",
   "name": "R",
   "pygments_lexer": "r",
   "version": "4.2.2"
  },
  "toc": {
   "base_numbering": 1,
   "nav_menu": {},
   "number_sections": false,
   "sideBar": true,
   "skip_h1_title": false,
   "title_cell": "Table of Contents",
   "title_sidebar": "Contents",
   "toc_cell": true,
   "toc_position": {
    "height": "calc(100% - 180px)",
    "left": "10px",
    "top": "150px",
    "width": "217.301px"
   },
   "toc_section_display": true,
   "toc_window_display": true
  }
 },
 "nbformat": 4,
 "nbformat_minor": 2
}

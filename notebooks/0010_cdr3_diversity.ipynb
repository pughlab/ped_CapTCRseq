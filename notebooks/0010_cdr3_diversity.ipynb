{
 "cells": [
  {
   "cell_type": "code",
   "execution_count": 1,
   "metadata": {
    "vscode": {
     "languageId": "r"
    }
   },
   "outputs": [
    {
     "data": {
      "text/html": [
       "'en_US.UTF-8/en_US.UTF-8/en_US.UTF-8/C/en_US.UTF-8/C'"
      ],
      "text/latex": [
       "'en\\_US.UTF-8/en\\_US.UTF-8/en\\_US.UTF-8/C/en\\_US.UTF-8/C'"
      ],
      "text/markdown": [
       "'en_US.UTF-8/en_US.UTF-8/en_US.UTF-8/C/en_US.UTF-8/C'"
      ],
      "text/plain": [
       "[1] \"en_US.UTF-8/en_US.UTF-8/en_US.UTF-8/C/en_US.UTF-8/C\""
      ]
     },
     "metadata": {},
     "output_type": "display_data"
    }
   ],
   "source": [
    "Sys.setlocale(category = \"LC_ALL\", locale = \"en_US.UTF-8\")"
   ]
  },
  {
   "attachments": {},
   "cell_type": "markdown",
   "metadata": {},
   "source": [
    "# Dependencies"
   ]
  },
  {
   "cell_type": "code",
   "execution_count": 2,
   "metadata": {
    "vscode": {
     "languageId": "r"
    }
   },
   "outputs": [],
   "source": [
    "pacman::p_load(dplyr, ggplot2, ggbeeswarm, ggpubr, ggsignif, ggh4x, ggthemes, ggridges, cowplot) "
   ]
  },
  {
   "attachments": {},
   "cell_type": "markdown",
   "metadata": {},
   "source": [
    "# Functions"
   ]
  },
  {
   "cell_type": "code",
   "execution_count": 3,
   "metadata": {
    "vscode": {
     "languageId": "r"
    }
   },
   "outputs": [],
   "source": [
    "baseplot.fx <- function(df, x, y, clr, clr_palette, sampletype) {\n",
    "  if (sampletype == \"PBMC\") {\n",
    "    mybreaks <- c(1, 10, 100, 500, 1000, 1500)\n",
    "  } else {\n",
    "    mybreaks <- c(1, 10, 50, 100)\n",
    "  }\n",
    "  myp <- ggplot(\n",
    "    df,\n",
    "    aes(x = eval(as.name(x)), y = eval(as.name(y)))\n",
    "  ) +\n",
    "    geom_boxplot() + #\n",
    "    geom_beeswarm(aes(color = eval(as.name(clr))), cex = 2) +\n",
    "    scale_color_manual(values = clr_palette) +\n",
    "    myplot +\n",
    "    myaxis +\n",
    "    theme(axis.text.x = element_text(angle = 45, hjust = 1), axis.title.x = element_blank()) +\n",
    "    annotation_logticks(sides = \"l\") +\n",
    "    scale_y_continuous(breaks = log10(mybreaks), labels = mybreaks)\n",
    "  return(myp)\n",
    "}\n"
   ]
  },
  {
   "cell_type": "code",
   "execution_count": 4,
   "metadata": {
    "vscode": {
     "languageId": "r"
    }
   },
   "outputs": [],
   "source": [
    "source(\"/Users/anabbi/git/ped_CapTCRseq/R/ggplot2_theme.R\")\n",
    "source(\"/Users/anabbi/git/ped_CapTCRseq/R/color_schemes.R\")\n",
    "source(\"/Users/anabbi/git/ped_CapTCRseq/R/Misc_functions.R\")"
   ]
  },
  {
   "attachments": {},
   "cell_type": "markdown",
   "metadata": {},
   "source": [
    "# Paths"
   ]
  },
  {
   "cell_type": "code",
   "execution_count": 5,
   "metadata": {
    "vscode": {
     "languageId": "r"
    }
   },
   "outputs": [],
   "source": [
    "datapath <- \"/Users/anabbi/OneDrive - UHN/Documents/INTERCEPT/Data/\"\n",
    "plotpath <- \"/Users/anabbi/OneDrive - UHN/Documents/INTERCEPT/Plots/\"\n",
    "manifestpath <- \"/Users/anabbi/OneDrive - UHN/Documents/INTERCEPT/Manifests/\"\n",
    "gitpath <- \"/Users/anabbi/git/ped_CapTCRseq/\""
   ]
  },
  {
   "cell_type": "code",
   "execution_count": 6,
   "metadata": {
    "vscode": {
     "languageId": "r"
    }
   },
   "outputs": [],
   "source": [
    "h4hpath <- \"/Users/anabbi/Desktop/H4H/INTERCEPT/\""
   ]
  },
  {
   "attachments": {},
   "cell_type": "markdown",
   "metadata": {},
   "source": [
    "# Main"
   ]
  },
  {
   "cell_type": "code",
   "execution_count": 7,
   "metadata": {
    "vscode": {
     "languageId": "r"
    }
   },
   "outputs": [],
   "source": [
    "meta_div <- readr::read_rds(paste0(datapath, \"capTCRseq/meta_div_goodsamples.rds\"))"
   ]
  },
  {
   "cell_type": "code",
   "execution_count": 8,
   "metadata": {
    "vscode": {
     "languageId": "r"
    }
   },
   "outputs": [
    {
     "data": {
      "text/html": [
       "<style>\n",
       ".list-inline {list-style: none; margin:0; padding: 0}\n",
       ".list-inline>li {display: inline-block}\n",
       ".list-inline>li:not(:last-child)::after {content: \"\\00b7\"; padding: 0 .5ex}\n",
       "</style>\n",
       "<ol class=list-inline><li>832</li><li>66</li></ol>\n"
      ],
      "text/latex": [
       "\\begin{enumerate*}\n",
       "\\item 832\n",
       "\\item 66\n",
       "\\end{enumerate*}\n"
      ],
      "text/markdown": [
       "1. 832\n",
       "2. 66\n",
       "\n",
       "\n"
      ],
      "text/plain": [
       "[1] 832  66"
      ]
     },
     "metadata": {},
     "output_type": "display_data"
    }
   ],
   "source": [
    "dim(meta_div)"
   ]
  },
  {
   "cell_type": "code",
   "execution_count": 9,
   "metadata": {
    "vscode": {
     "languageId": "r"
    }
   },
   "outputs": [],
   "source": [
    "meta_div <- meta_div[ !is.na(meta_div$TRB), ]"
   ]
  },
  {
   "cell_type": "code",
   "execution_count": 10,
   "metadata": {
    "vscode": {
     "languageId": "r"
    }
   },
   "outputs": [],
   "source": [
    "meta_div <- meta_div[ meta_div$cancergroup != \"Normal\", ]\n",
    "meta_div <- meta_div[ meta_div$cancergroup != \"LFS\", ]"
   ]
  },
  {
   "cell_type": "code",
   "execution_count": 11,
   "metadata": {
    "vscode": {
     "languageId": "r"
    }
   },
   "outputs": [],
   "source": [
    "#meta_div$log10shann <- log10(meta_div$observed_Shannon)"
   ]
  },
  {
   "attachments": {},
   "cell_type": "markdown",
   "metadata": {},
   "source": [
    "# Ridge plots"
   ]
  },
  {
   "cell_type": "code",
   "execution_count": 12,
   "metadata": {
    "vscode": {
     "languageId": "r"
    }
   },
   "outputs": [],
   "source": [
    "meta_div <- meta_div[ meta_div$cycle != \"X00\",]"
   ]
  },
  {
   "cell_type": "code",
   "execution_count": 13,
   "metadata": {
    "vscode": {
     "languageId": "r"
    }
   },
   "outputs": [],
   "source": [
    "tmp <- meta_div[ meta_div$cycle == \"X01\", ]"
   ]
  },
  {
   "cell_type": "code",
   "execution_count": 14,
   "metadata": {
    "vscode": {
     "languageId": "r"
    }
   },
   "outputs": [
    {
     "data": {
      "text/html": [
       "<style>\n",
       ".dl-inline {width: auto; margin:0; padding: 0}\n",
       ".dl-inline>dt, .dl-inline>dd {float: none; width: auto; display: inline-block}\n",
       ".dl-inline>dt::after {content: \":\\0020\"; padding-right: .5ex}\n",
       ".dl-inline>dt:not(:first-of-type) {padding-left: .5ex}\n",
       "</style><dl class=dl-inline><dt>Leukemia</dt><dd>0.584683043599572</dd><dt>Lymphoma</dt><dd>0.65767622632626</dd><dt>Solid tumors</dt><dd>0.605267605808823</dd><dt>T-cell malignancies</dt><dd>0.00902574208691021</dd></dl>\n"
      ],
      "text/latex": [
       "\\begin{description*}\n",
       "\\item[Leukemia] 0.584683043599572\n",
       "\\item[Lymphoma] 0.65767622632626\n",
       "\\item[Solid tumors] 0.605267605808823\n",
       "\\item[T-cell malignancies] 0.00902574208691021\n",
       "\\end{description*}\n"
      ],
      "text/markdown": [
       "Leukemia\n",
       ":   0.584683043599572Lymphoma\n",
       ":   0.65767622632626Solid tumors\n",
       ":   0.605267605808823T-cell malignancies\n",
       ":   0.00902574208691021\n",
       "\n"
      ],
      "text/plain": [
       "           Leukemia            Lymphoma        Solid tumors T-cell malignancies \n",
       "        0.584683044         0.657676226         0.605267606         0.009025742 "
      ]
     },
     "metadata": {},
     "output_type": "display_data"
    }
   ],
   "source": [
    "tapply(tmp$log10shann[tmp$sampletype == \"cfDNA\"], \n",
    "tmp$cancergroup[tmp$sampletype == \"cfDNA\"], median)"
   ]
  },
  {
   "cell_type": "code",
   "execution_count": 15,
   "metadata": {
    "vscode": {
     "languageId": "r"
    }
   },
   "outputs": [],
   "source": [
    "meta_div <- meta_div[ meta_div$cancergroup != \"T-cell malignancies\" ,] "
   ]
  },
  {
   "cell_type": "code",
   "execution_count": 16,
   "metadata": {
    "vscode": {
     "languageId": "r"
    }
   },
   "outputs": [
    {
     "data": {
      "text/plain": [
       "\n",
       "   ALL    AML   ARMS     BL    BLL    CML  DLBCL   ERMS    EWS     HB     HD \n",
       "    99     45      6     21      9     13     11     19     34     16     34 \n",
       "HR ALL  MS NB     NB     OS  PMBCL SR ALL  WILMS \n",
       "    53      1     12     46      7      7      6 "
      ]
     },
     "metadata": {},
     "output_type": "display_data"
    }
   ],
   "source": [
    "table(meta_div$Disease_type)"
   ]
  },
  {
   "cell_type": "code",
   "execution_count": 17,
   "metadata": {
    "vscode": {
     "languageId": "r"
    }
   },
   "outputs": [],
   "source": [
    "meta_div$cancergroup <- factor(meta_div$cancergroup, levels = c(\"Solid tumors\", \"Leukemia\", \"Lymphoma\"))"
   ]
  },
  {
   "cell_type": "code",
   "execution_count": 18,
   "metadata": {
    "vscode": {
     "languageId": "r"
    }
   },
   "outputs": [],
   "source": [
    "mybreaks <- c(1,10,100, 1000)"
   ]
  },
  {
   "cell_type": "code",
   "execution_count": 19,
   "metadata": {
    "vscode": {
     "languageId": "r"
    }
   },
   "outputs": [
    {
     "data": {
      "text/plain": [
       "   Min. 1st Qu.  Median    Mean 3rd Qu.    Max. \n",
       " 0.0000  0.5319  1.0475  1.1892  1.8526  3.1838 "
      ]
     },
     "metadata": {},
     "output_type": "display_data"
    }
   ],
   "source": [
    "summary(meta_div$log10shann)"
   ]
  },
  {
   "cell_type": "code",
   "execution_count": 20,
   "metadata": {
    "vscode": {
     "languageId": "r"
    }
   },
   "outputs": [],
   "source": [
    "meta_div$type <- \"TCR diversity (CapTCR-seq)\""
   ]
  },
  {
   "cell_type": "code",
   "execution_count": 21,
   "metadata": {
    "vscode": {
     "languageId": "r"
    }
   },
   "outputs": [],
   "source": [
    "meta_div$sampletype <- factor(meta_div$sampletype, levels = c(\"PBMC\", \"cfDNA\"))"
   ]
  },
  {
   "cell_type": "code",
   "execution_count": 22,
   "metadata": {
    "vscode": {
     "languageId": "r"
    }
   },
   "outputs": [],
   "source": [
    "meta_div$cycle <- factor(meta_div$cycle, levels = c(\"X05\", \"X04\", \"X03\", \"X02\", \"X01\"))"
   ]
  },
  {
   "cell_type": "code",
   "execution_count": 23,
   "metadata": {
    "vscode": {
     "languageId": "r"
    }
   },
   "outputs": [],
   "source": [
    "myp <- ggplot(meta_div, aes(x = log10shann, y = cycle, fill = cancergroup)) +\n",
    "  geom_density_ridges(\n",
    "    alpha = 0.4, from = 0, to = 3.18,\n",
    "    scale = 1,\n",
    "    panel_scaling = TRUE,\n",
    "    quantile_lines = FALSE, size = 0.2,\n",
    "    jittered_points = TRUE, point_shape = \"|\", point_size = 3,\n",
    "    position = position_points_jitter(height = 0)\n",
    "  ) +\n",
    "  scale_x_continuous(breaks = log10(mybreaks), labels = mybreaks) +\n",
    "  annotation_logticks(sides = \"b\", size = 0.3) +\n",
    "  facet_nested(cancergroup ~ type + sampletype, nest_line = element_line(linetype = 1), axes = \"all\", remove_labels = \"all\") +\n",
    "  theme(\n",
    "    axis.text.y = element_blank(),\n",
    "    panel.grid.minor = element_blank(),\n",
    "    panel.grid.major.y = element_blank(),\n",
    "    panel.grid.major.x = element_line(colour = \"#7f7f7f2a\"),\n",
    "    panel.background = element_blank(),\n",
    "    panel.spacing = unit(.5, \"lines\"),\n",
    "    panel.border = element_blank(),\n",
    "    axis.title = element_blank(),\n",
    "    axis.line = element_line(),\n",
    "    legend.position = \"none\",\n",
    "    strip.background = element_blank(),\n",
    "    strip.placement = \"outside\",\n",
    "    strip.text.y = element_blank(),\n",
    "    ggh4x.facet.nestline = element_line(colour = \"black\", linewidth = 0.3)\n",
    "  )\n"
   ]
  },
  {
   "cell_type": "code",
   "execution_count": 24,
   "metadata": {
    "vscode": {
     "languageId": "r"
    }
   },
   "outputs": [
    {
     "name": "stderr",
     "output_type": "stream",
     "text": [
      "Picking joint bandwidth of 0.305\n",
      "\n"
     ]
    },
    {
     "name": "stderr",
     "output_type": "stream",
     "text": [
      "Picking joint bandwidth of 0.211\n",
      "\n",
      "Picking joint bandwidth of 0.232\n",
      "\n",
      "Picking joint bandwidth of 0.189\n",
      "\n",
      "Picking joint bandwidth of 0.244\n",
      "\n",
      "Picking joint bandwidth of 0.165\n",
      "\n"
     ]
    },
    {
     "data": {
      "text/html": [
       "<strong>pdf:</strong> 2"
      ],
      "text/latex": [
       "\\textbf{pdf:} 2"
      ],
      "text/markdown": [
       "**pdf:** 2"
      ],
      "text/plain": [
       "pdf \n",
       "  2 "
      ]
     },
     "metadata": {},
     "output_type": "display_data"
    }
   ],
   "source": [
    "pdf(paste0(plotpath, \"TCR_div_facet_ridges.pdf\"), width = 4, height = 9, onefile = FALSE)\n",
    "myp\n",
    "dev.off()"
   ]
  },
  {
   "attachments": {},
   "cell_type": "markdown",
   "metadata": {},
   "source": [
    "stats"
   ]
  },
  {
   "cell_type": "code",
   "execution_count": 25,
   "metadata": {
    "vscode": {
     "languageId": "r"
    }
   },
   "outputs": [],
   "source": [
    "pbmc <- meta_div[meta_div$sampletype == \"PBMC\",]\n",
    "cfdna <- meta_div[meta_div$sampletype == \"cfDNA\",]"
   ]
  },
  {
   "cell_type": "code",
   "execution_count": 26,
   "metadata": {
    "vscode": {
     "languageId": "r"
    }
   },
   "outputs": [],
   "source": [
    "tmp <- cfdna[ cfdna$cycle == \"X01\", ]"
   ]
  },
  {
   "cell_type": "code",
   "execution_count": 27,
   "metadata": {
    "vscode": {
     "languageId": "r"
    }
   },
   "outputs": [
    {
     "data": {
      "text/plain": [
       "$`Solid tumors`\n",
       "   Min. 1st Qu.  Median    Mean 3rd Qu.    Max. \n",
       " 0.0000  0.0000  0.6053  0.5537  0.8863  1.5303 \n",
       "\n",
       "$Leukemia\n",
       "   Min. 1st Qu.  Median    Mean 3rd Qu.    Max. \n",
       " 0.0000  0.2358  0.5847  0.6081  0.9781  1.4804 \n",
       "\n",
       "$Lymphoma\n",
       "   Min. 1st Qu.  Median    Mean 3rd Qu.    Max. \n",
       " 0.4447  0.5668  0.6577  0.8491  0.9269  1.6508 \n"
      ]
     },
     "metadata": {},
     "output_type": "display_data"
    }
   ],
   "source": [
    "tapply(tmp$log10shann, tmp$cancergroup, summary)"
   ]
  },
  {
   "cell_type": "code",
   "execution_count": 28,
   "metadata": {
    "vscode": {
     "languageId": "r"
    }
   },
   "outputs": [
    {
     "data": {
      "text/plain": [
       "\n",
       "\tExact two-sample Kolmogorov-Smirnov test\n",
       "\n",
       "data:  tmp[[mytest]][which(tmp$cancergroup == \"Solid tumors\")] and tmp[[mytest]][which(tmp$cancergroup == \"Lymphoma\")]\n",
       "D = 0.4375, p-value = 0.1428\n",
       "alternative hypothesis: two-sided\n"
      ]
     },
     "metadata": {},
     "output_type": "display_data"
    },
    {
     "data": {
      "text/plain": [
       "\n",
       "\tExact two-sample Kolmogorov-Smirnov test\n",
       "\n",
       "data:  tmp[[mytest]][which(tmp$cancergroup == \"Solid tumors\")] and tmp[[mytest]][which(tmp$cancergroup == \"Leukemia\")]\n",
       "D = 0.14423, p-value = 0.9423\n",
       "alternative hypothesis: two-sided\n"
      ]
     },
     "metadata": {},
     "output_type": "display_data"
    },
    {
     "data": {
      "text/plain": [
       "\n",
       "\tExact two-sample Kolmogorov-Smirnov test\n",
       "\n",
       "data:  tmp[[mytest]][which(tmp$cancergroup == \"Lymphoma\")] and tmp[[mytest]][which(tmp$cancergroup == \"Leukemia\")]\n",
       "D = 0.38462, p-value = 0.1825\n",
       "alternative hypothesis: two-sided\n"
      ]
     },
     "metadata": {},
     "output_type": "display_data"
    }
   ],
   "source": [
    "mytest <- \"log10shann\"\n",
    "ks.test(tmp[[mytest]][ which(tmp$cancergroup == \"Solid tumors\")], tmp[[mytest]][ which(tmp$cancergroup == \"Lymphoma\")])\n",
    "ks.test(tmp[[mytest]][ which(tmp$cancergroup == \"Solid tumors\")], tmp[[mytest]][ which(tmp$cancergroup == \"Leukemia\")])\n",
    "ks.test(tmp[[mytest]][ which(tmp$cancergroup == \"Lymphoma\")], tmp[[mytest]][ which(tmp$cancergroup == \"Leukemia\")])"
   ]
  },
  {
   "cell_type": "code",
   "execution_count": 29,
   "metadata": {
    "vscode": {
     "languageId": "r"
    }
   },
   "outputs": [],
   "source": [
    "tmp <- cfdna[ cfdna$cancergroup == \"Lymphoma\", ]"
   ]
  },
  {
   "cell_type": "code",
   "execution_count": 30,
   "metadata": {
    "vscode": {
     "languageId": "r"
    }
   },
   "outputs": [
    {
     "data": {
      "text/plain": [
       "$X05\n",
       "   Min. 1st Qu.  Median    Mean 3rd Qu.    Max. \n",
       " 0.0000  0.2956  0.3181  0.4764  0.7448  1.1866 \n",
       "\n",
       "$X04\n",
       "   Min. 1st Qu.  Median    Mean 3rd Qu.    Max. \n",
       "0.00000 0.09616 0.45251 0.42778 0.72329 0.90162 \n",
       "\n",
       "$X03\n",
       "   Min. 1st Qu.  Median    Mean 3rd Qu.    Max. \n",
       " 0.0000  0.1477  0.2076  0.2463  0.3943  0.5437 \n",
       "\n",
       "$X02\n",
       "   Min. 1st Qu.  Median    Mean 3rd Qu.    Max. \n",
       " 0.0000  0.2244  0.4136  0.4537  0.7358  0.9340 \n",
       "\n",
       "$X01\n",
       "   Min. 1st Qu.  Median    Mean 3rd Qu.    Max. \n",
       " 0.4447  0.5668  0.6577  0.8491  0.9269  1.6508 \n"
      ]
     },
     "metadata": {},
     "output_type": "display_data"
    }
   ],
   "source": [
    "tapply(tmp$log10shann, tmp$cycle, summary)"
   ]
  },
  {
   "cell_type": "code",
   "execution_count": 31,
   "metadata": {
    "vscode": {
     "languageId": "r"
    }
   },
   "outputs": [
    {
     "data": {
      "text/plain": [
       "\n",
       "\tExact two-sample Kolmogorov-Smirnov test\n",
       "\n",
       "data:  tmp[[mytest]][which(tmp$cycle == \"X01\")] and tmp[[mytest]][which(tmp$cycle == \"X02\")]\n",
       "D = 0.5, p-value = 0.1678\n",
       "alternative hypothesis: two-sided\n"
      ]
     },
     "metadata": {},
     "output_type": "display_data"
    },
    {
     "data": {
      "text/plain": [
       "\n",
       "\tExact two-sample Kolmogorov-Smirnov test\n",
       "\n",
       "data:  tmp[[mytest]][which(tmp$cycle == \"X01\")] and tmp[[mytest]][which(tmp$cycle == \"X03\")]\n",
       "D = 0.82308, p-value = 0.0003077\n",
       "alternative hypothesis: two-sided\n"
      ]
     },
     "metadata": {},
     "output_type": "display_data"
    },
    {
     "data": {
      "text/plain": [
       "\n",
       "\tExact two-sample Kolmogorov-Smirnov test\n",
       "\n",
       "data:  tmp[[mytest]][which(tmp$cycle == \"X01\")] and tmp[[mytest]][which(tmp$cycle == \"X04\")]\n",
       "D = 0.5, p-value = 0.1678\n",
       "alternative hypothesis: two-sided\n"
      ]
     },
     "metadata": {},
     "output_type": "display_data"
    },
    {
     "data": {
      "text/plain": [
       "\n",
       "\tExact two-sample Kolmogorov-Smirnov test\n",
       "\n",
       "data:  tmp[[mytest]][which(tmp$cycle == \"X01\")] and tmp[[mytest]][which(tmp$cycle == \"X05\")]\n",
       "D = 0.56667, p-value = 0.07463\n",
       "alternative hypothesis: two-sided\n"
      ]
     },
     "metadata": {},
     "output_type": "display_data"
    },
    {
     "data": {
      "text/plain": [
       "\n",
       "\tExact two-sample Kolmogorov-Smirnov test\n",
       "\n",
       "data:  tmp[[mytest]][which(tmp$cycle == \"X02\")] and tmp[[mytest]][which(tmp$cycle == \"X03\")]\n",
       "D = 0.42308, p-value = 0.193\n",
       "alternative hypothesis: two-sided\n"
      ]
     },
     "metadata": {},
     "output_type": "display_data"
    },
    {
     "data": {
      "text/plain": [
       "\n",
       "\tExact two-sample Kolmogorov-Smirnov test\n",
       "\n",
       "data:  tmp[[mytest]][which(tmp$cycle == \"X02\")] and tmp[[mytest]][which(tmp$cycle == \"X04\")]\n",
       "D = 0.2, p-value = 0.9917\n",
       "alternative hypothesis: two-sided\n"
      ]
     },
     "metadata": {},
     "output_type": "display_data"
    },
    {
     "data": {
      "text/plain": [
       "\n",
       "\tExact two-sample Kolmogorov-Smirnov test\n",
       "\n",
       "data:  tmp[[mytest]][which(tmp$cycle == \"X02\")] and tmp[[mytest]][which(tmp$cycle == \"X05\")]\n",
       "D = 0.27778, p-value = 0.7396\n",
       "alternative hypothesis: two-sided\n"
      ]
     },
     "metadata": {},
     "output_type": "display_data"
    },
    {
     "data": {
      "text/plain": [
       "\n",
       "\tExact two-sample Kolmogorov-Smirnov test\n",
       "\n",
       "data:  tmp[[mytest]][which(tmp$cycle == \"X03\")] and tmp[[mytest]][which(tmp$cycle == \"X04\")]\n",
       "D = 0.5, p-value = 0.07744\n",
       "alternative hypothesis: two-sided\n"
      ]
     },
     "metadata": {},
     "output_type": "display_data"
    },
    {
     "data": {
      "text/plain": [
       "\n",
       "\tExact two-sample Kolmogorov-Smirnov test\n",
       "\n",
       "data:  tmp[[mytest]][which(tmp$cycle == \"X03\")] and tmp[[mytest]][which(tmp$cycle == \"X05\")]\n",
       "D = 0.47009, p-value = 0.1392\n",
       "alternative hypothesis: two-sided\n"
      ]
     },
     "metadata": {},
     "output_type": "display_data"
    },
    {
     "data": {
      "text/plain": [
       "\n",
       "\tExact two-sample Kolmogorov-Smirnov test\n",
       "\n",
       "data:  tmp[[mytest]][which(tmp$cycle == \"X04\")] and tmp[[mytest]][which(tmp$cycle == \"X05\")]\n",
       "D = 0.28889, p-value = 0.6914\n",
       "alternative hypothesis: two-sided\n"
      ]
     },
     "metadata": {},
     "output_type": "display_data"
    }
   ],
   "source": [
    "\n",
    "mytest <- \"log10shann\"\n",
    "ks.test(tmp[[mytest]][ which(tmp$cycle == \"X01\")], tmp[[mytest]][ which(tmp$cycle == \"X02\")])\n",
    "ks.test(tmp[[mytest]][ which(tmp$cycle == \"X01\")], tmp[[mytest]][ which(tmp$cycle == \"X03\")])\n",
    "ks.test(tmp[[mytest]][ which(tmp$cycle == \"X01\")], tmp[[mytest]][ which(tmp$cycle == \"X04\")])\n",
    "ks.test(tmp[[mytest]][ which(tmp$cycle == \"X01\")], tmp[[mytest]][ which(tmp$cycle == \"X05\")])\n",
    "ks.test(tmp[[mytest]][ which(tmp$cycle == \"X02\")], tmp[[mytest]][ which(tmp$cycle == \"X03\")])\n",
    "ks.test(tmp[[mytest]][ which(tmp$cycle == \"X02\")], tmp[[mytest]][ which(tmp$cycle == \"X04\")])\n",
    "ks.test(tmp[[mytest]][ which(tmp$cycle == \"X02\")], tmp[[mytest]][ which(tmp$cycle == \"X05\")])\n",
    "ks.test(tmp[[mytest]][ which(tmp$cycle == \"X03\")], tmp[[mytest]][ which(tmp$cycle == \"X04\")])\n",
    "ks.test(tmp[[mytest]][ which(tmp$cycle == \"X03\")], tmp[[mytest]][ which(tmp$cycle == \"X05\")])\n",
    "ks.test(tmp[[mytest]][ which(tmp$cycle == \"X04\")], tmp[[mytest]][ which(tmp$cycle == \"X05\")])"
   ]
  },
  {
   "attachments": {},
   "cell_type": "markdown",
   "metadata": {},
   "source": [
    "Separate PBMC and cfDNA"
   ]
  },
  {
   "cell_type": "code",
   "execution_count": 32,
   "metadata": {
    "vscode": {
     "languageId": "r"
    }
   },
   "outputs": [],
   "source": [
    "pbmc <- meta_div[ which(meta_div$sampletype == \"PBMC\"),]\n",
    "cfdna <- meta_div[ which(meta_div$sampletype == \"cfDNA\"),]"
   ]
  },
  {
   "cell_type": "code",
   "execution_count": 33,
   "metadata": {
    "vscode": {
     "languageId": "r"
    }
   },
   "outputs": [],
   "source": [
    "# names(group_col)[ names(group_col) == \"Solid\"] <- \"Solid tumors\""
   ]
  },
  {
   "attachments": {},
   "cell_type": "markdown",
   "metadata": {},
   "source": [
    "## rms"
   ]
  },
  {
   "cell_type": "code",
   "execution_count": 34,
   "metadata": {
    "vscode": {
     "languageId": "r"
    }
   },
   "outputs": [],
   "source": [
    "pacman::p_load(rms)"
   ]
  },
  {
   "cell_type": "code",
   "execution_count": 35,
   "metadata": {
    "vscode": {
     "languageId": "r"
    }
   },
   "outputs": [],
   "source": [
    "dd <- datadist(pbmc[ , c(\"cycle\", \"Disease_type\", \"Age\", \"log10shann\", \"cancergroup\", \"agegroup\")])\n",
    "options(datadist=\"dd\")"
   ]
  },
  {
   "cell_type": "code",
   "execution_count": 36,
   "metadata": {
    "vscode": {
     "languageId": "r"
    }
   },
   "outputs": [],
   "source": [
    "options(prType=\"plain\")"
   ]
  },
  {
   "cell_type": "code",
   "execution_count": 37,
   "metadata": {
    "vscode": {
     "languageId": "r"
    }
   },
   "outputs": [],
   "source": [
    "f <- ols(log10shann ~ cycle + cancergroup + Age, data = pbmc)\n"
   ]
  },
  {
   "cell_type": "code",
   "execution_count": 38,
   "metadata": {
    "vscode": {
     "languageId": "r"
    }
   },
   "outputs": [
    {
     "data": {
      "text/plain": [
       "Linear Regression Model\n",
       "\n",
       "ols(formula = log10shann ~ cycle + cancergroup + Age, data = pbmc)\n",
       "\n",
       "                Model Likelihood    Discrimination    \n",
       "                      Ratio Test           Indexes    \n",
       "Obs     188    LR chi2     23.57    R2       0.118    \n",
       "sigma0.5685    d.f.            7    R2 adj   0.084    \n",
       "d.f.    180    Pr(> chi2) 0.0014    g        0.231    \n",
       "\n",
       "Residuals\n",
       "\n",
       "     Min       1Q   Median       3Q      Max \n",
       "-1.65779 -0.34825  0.02266  0.40561  1.38288 \n",
       "\n",
       "\n",
       "                     Coef    S.E.   t     Pr(>|t|)\n",
       "Intercept             2.0439 0.1250 16.35 <0.0001 \n",
       "cycle=X04            -0.1231 0.1453 -0.85 0.3978  \n",
       "cycle=X03            -0.1642 0.1334 -1.23 0.2199  \n",
       "cycle=X02             0.1344 0.1336  1.01 0.3158  \n",
       "cycle=X01            -0.1925 0.1334 -1.44 0.1508  \n",
       "cancergroup=Leukemia  0.1662 0.0940  1.77 0.0787  \n",
       "cancergroup=Lymphoma -0.0692 0.1345 -0.51 0.6073  \n",
       "Age                  -0.0163 0.0075 -2.18 0.0308  \n"
      ]
     },
     "metadata": {},
     "output_type": "display_data"
    }
   ],
   "source": [
    "f"
   ]
  },
  {
   "cell_type": "code",
   "execution_count": 39,
   "metadata": {
    "vscode": {
     "languageId": "r"
    }
   },
   "outputs": [
    {
     "data": {
      "text/html": [
       "<table class=\"dataframe\">\n",
       "<caption>A anova.rms: 5 x 5 of type dbl</caption>\n",
       "<thead>\n",
       "\t<tr><th></th><th scope=col>d.f.</th><th scope=col>Partial SS</th><th scope=col>MS</th><th scope=col>F</th><th scope=col>P</th></tr>\n",
       "</thead>\n",
       "<tbody>\n",
       "\t<tr><th scope=row>cycle</th><td>  4</td><td> 3.022105</td><td>0.7555263</td><td>2.337728</td><td>0.057071925</td></tr>\n",
       "\t<tr><th scope=row>cancergroup</th><td>  2</td><td> 1.526420</td><td>0.7632102</td><td>2.361503</td><td>0.097193368</td></tr>\n",
       "\t<tr><th scope=row>Age</th><td>  1</td><td> 1.530700</td><td>1.5306998</td><td>4.736247</td><td>0.030836029</td></tr>\n",
       "\t<tr><th scope=row>TOTAL</th><td>  7</td><td> 7.771573</td><td>1.1102247</td><td>3.435225</td><td>0.001789035</td></tr>\n",
       "\t<tr><th scope=row>ERROR</th><td>180</td><td>58.173899</td><td>0.3231883</td><td>      NA</td><td>         NA</td></tr>\n",
       "</tbody>\n",
       "</table>\n"
      ],
      "text/latex": [
       "A anova.rms: 5 x 5 of type dbl\n",
       "\\begin{tabular}{r|lllll}\n",
       "  & d.f. & Partial SS & MS & F & P\\\\\n",
       "\\hline\n",
       "\tcycle &   4 &  3.022105 & 0.7555263 & 2.337728 & 0.057071925\\\\\n",
       "\tcancergroup &   2 &  1.526420 & 0.7632102 & 2.361503 & 0.097193368\\\\\n",
       "\tAge &   1 &  1.530700 & 1.5306998 & 4.736247 & 0.030836029\\\\\n",
       "\tTOTAL &   7 &  7.771573 & 1.1102247 & 3.435225 & 0.001789035\\\\\n",
       "\tERROR & 180 & 58.173899 & 0.3231883 &       NA &          NA\\\\\n",
       "\\end{tabular}\n"
      ],
      "text/markdown": [
       "\n",
       "A anova.rms: 5 x 5 of type dbl\n",
       "\n",
       "| <!--/--> | d.f. | Partial SS | MS | F | P |\n",
       "|---|---|---|---|---|---|\n",
       "| cycle |   4 |  3.022105 | 0.7555263 | 2.337728 | 0.057071925 |\n",
       "| cancergroup |   2 |  1.526420 | 0.7632102 | 2.361503 | 0.097193368 |\n",
       "| Age |   1 |  1.530700 | 1.5306998 | 4.736247 | 0.030836029 |\n",
       "| TOTAL |   7 |  7.771573 | 1.1102247 | 3.435225 | 0.001789035 |\n",
       "| ERROR | 180 | 58.173899 | 0.3231883 |       NA |          NA |\n",
       "\n"
      ],
      "text/plain": [
       "            d.f. Partial SS MS        F        P          \n",
       "cycle         4   3.022105  0.7555263 2.337728 0.057071925\n",
       "cancergroup   2   1.526420  0.7632102 2.361503 0.097193368\n",
       "Age           1   1.530700  1.5306998 4.736247 0.030836029\n",
       "TOTAL         7   7.771573  1.1102247 3.435225 0.001789035\n",
       "ERROR       180  58.173899  0.3231883       NA          NA"
      ]
     },
     "metadata": {},
     "output_type": "display_data"
    }
   ],
   "source": [
    "anova(f)"
   ]
  },
  {
   "cell_type": "code",
   "execution_count": 40,
   "metadata": {
    "vscode": {
     "languageId": "r"
    }
   },
   "outputs": [
    {
     "name": "stdout",
     "output_type": "stream",
     "text": [
      "Linear Regression Model\n",
      "\n",
      "ols(formula = log10shann ~ cycle + cancergroup + Age, data = pbmc)\n",
      "\n",
      "                Model Likelihood    Discrimination    \n",
      "                      Ratio Test           Indexes    \n",
      "Obs     188    LR chi2     23.57    R2       0.118    \n",
      "sigma0.5685    d.f.            7    R2 adj   0.084    \n",
      "d.f.    180    Pr(> chi2) 0.0014    g        0.231    \n",
      "\n",
      "Residuals\n",
      "\n",
      "     Min       1Q   Median       3Q      Max \n",
      "-1.65779 -0.34825  0.02266  0.40561  1.38288 \n",
      "\n",
      "\n",
      "                     Coef    S.E.   t     Pr(>|t|)\n",
      "Intercept             2.0439 0.1250 16.35 <0.0001 \n",
      "cycle=X04            -0.1231 0.1453 -0.85 0.3978  \n",
      "cycle=X03            -0.1642 0.1334 -1.23 0.2199  \n",
      "cycle=X02             0.1344 0.1336  1.01 0.3158  \n",
      "cycle=X01            -0.1925 0.1334 -1.44 0.1508  \n",
      "cancergroup=Leukemia  0.1662 0.0940  1.77 0.0787  \n",
      "cancergroup=Lymphoma -0.0692 0.1345 -0.51 0.6073  \n",
      "Age                  -0.0163 0.0075 -2.18 0.0308  \n",
      "\n"
     ]
    }
   ],
   "source": [
    "print(f)"
   ]
  },
  {
   "cell_type": "code",
   "execution_count": 41,
   "metadata": {
    "vscode": {
     "languageId": "r"
    }
   },
   "outputs": [
    {
     "data": {
      "text/html": [
       "<table class=\"dataframe\">\n",
       "<caption>A summary.rms: 7 x 8 of type dbl</caption>\n",
       "<thead>\n",
       "\t<tr><th></th><th scope=col>Low</th><th scope=col>High</th><th scope=col>Diff.</th><th scope=col>Effect</th><th scope=col>S.E.</th><th scope=col>Lower 0.95</th><th scope=col>Upper 0.95</th><th scope=col>Type</th></tr>\n",
       "</thead>\n",
       "<tbody>\n",
       "\t<tr><th scope=row>Age</th><td>1</td><td>13</td><td>12</td><td>-0.1959585</td><td>0.09004239</td><td>-0.3736330</td><td>-0.01828412</td><td>1</td></tr>\n",
       "\t<tr><th scope=row>cycle - X05:X02</th><td>4</td><td> 1</td><td>NA</td><td>-0.1343714</td><td>0.13359027</td><td>-0.3979758</td><td> 0.12923307</td><td>1</td></tr>\n",
       "\t<tr><th scope=row>cycle - X04:X02</th><td>4</td><td> 2</td><td>NA</td><td>-0.2575026</td><td>0.13722732</td><td>-0.5282837</td><td> 0.01327862</td><td>1</td></tr>\n",
       "\t<tr><th scope=row>cycle - X03:X02</th><td>4</td><td> 3</td><td>NA</td><td>-0.2985709</td><td>0.12522164</td><td>-0.5456621</td><td>-0.05147967</td><td>1</td></tr>\n",
       "\t<tr><th scope=row>cycle - X01:X02</th><td>4</td><td> 5</td><td>NA</td><td>-0.3269042</td><td>0.12350828</td><td>-0.5706146</td><td>-0.08319391</td><td>1</td></tr>\n",
       "\t<tr><th scope=row>cancergroup - Solid tumors:Leukemia</th><td>2</td><td> 1</td><td>NA</td><td>-0.1662072</td><td>0.09399479</td><td>-0.3516806</td><td> 0.01926626</td><td>1</td></tr>\n",
       "\t<tr><th scope=row>cancergroup - Lymphoma:Leukemia</th><td>2</td><td> 3</td><td>NA</td><td>-0.2354405</td><td>0.13233049</td><td>-0.4965591</td><td> 0.02567814</td><td>1</td></tr>\n",
       "</tbody>\n",
       "</table>\n"
      ],
      "text/latex": [
       "A summary.rms: 7 x 8 of type dbl\n",
       "\\begin{tabular}{r|llllllll}\n",
       "  & Low & High & Diff. & Effect & S.E. & Lower 0.95 & Upper 0.95 & Type\\\\\n",
       "\\hline\n",
       "\tAge & 1 & 13 & 12 & -0.1959585 & 0.09004239 & -0.3736330 & -0.01828412 & 1\\\\\n",
       "\tcycle - X05:X02 & 4 &  1 & NA & -0.1343714 & 0.13359027 & -0.3979758 &  0.12923307 & 1\\\\\n",
       "\tcycle - X04:X02 & 4 &  2 & NA & -0.2575026 & 0.13722732 & -0.5282837 &  0.01327862 & 1\\\\\n",
       "\tcycle - X03:X02 & 4 &  3 & NA & -0.2985709 & 0.12522164 & -0.5456621 & -0.05147967 & 1\\\\\n",
       "\tcycle - X01:X02 & 4 &  5 & NA & -0.3269042 & 0.12350828 & -0.5706146 & -0.08319391 & 1\\\\\n",
       "\tcancergroup - Solid tumors:Leukemia & 2 &  1 & NA & -0.1662072 & 0.09399479 & -0.3516806 &  0.01926626 & 1\\\\\n",
       "\tcancergroup - Lymphoma:Leukemia & 2 &  3 & NA & -0.2354405 & 0.13233049 & -0.4965591 &  0.02567814 & 1\\\\\n",
       "\\end{tabular}\n"
      ],
      "text/markdown": [
       "\n",
       "A summary.rms: 7 x 8 of type dbl\n",
       "\n",
       "| <!--/--> | Low | High | Diff. | Effect | S.E. | Lower 0.95 | Upper 0.95 | Type |\n",
       "|---|---|---|---|---|---|---|---|---|\n",
       "| Age | 1 | 13 | 12 | -0.1959585 | 0.09004239 | -0.3736330 | -0.01828412 | 1 |\n",
       "| cycle - X05:X02 | 4 |  1 | NA | -0.1343714 | 0.13359027 | -0.3979758 |  0.12923307 | 1 |\n",
       "| cycle - X04:X02 | 4 |  2 | NA | -0.2575026 | 0.13722732 | -0.5282837 |  0.01327862 | 1 |\n",
       "| cycle - X03:X02 | 4 |  3 | NA | -0.2985709 | 0.12522164 | -0.5456621 | -0.05147967 | 1 |\n",
       "| cycle - X01:X02 | 4 |  5 | NA | -0.3269042 | 0.12350828 | -0.5706146 | -0.08319391 | 1 |\n",
       "| cancergroup - Solid tumors:Leukemia | 2 |  1 | NA | -0.1662072 | 0.09399479 | -0.3516806 |  0.01926626 | 1 |\n",
       "| cancergroup - Lymphoma:Leukemia | 2 |  3 | NA | -0.2354405 | 0.13233049 | -0.4965591 |  0.02567814 | 1 |\n",
       "\n"
      ],
      "text/plain": [
       "                                    Low High Diff. Effect     S.E.      \n",
       "Age                                 1   13   12    -0.1959585 0.09004239\n",
       "cycle - X05:X02                     4    1   NA    -0.1343714 0.13359027\n",
       "cycle - X04:X02                     4    2   NA    -0.2575026 0.13722732\n",
       "cycle - X03:X02                     4    3   NA    -0.2985709 0.12522164\n",
       "cycle - X01:X02                     4    5   NA    -0.3269042 0.12350828\n",
       "cancergroup - Solid tumors:Leukemia 2    1   NA    -0.1662072 0.09399479\n",
       "cancergroup - Lymphoma:Leukemia     2    3   NA    -0.2354405 0.13233049\n",
       "                                    Lower 0.95 Upper 0.95  Type\n",
       "Age                                 -0.3736330 -0.01828412 1   \n",
       "cycle - X05:X02                     -0.3979758  0.12923307 1   \n",
       "cycle - X04:X02                     -0.5282837  0.01327862 1   \n",
       "cycle - X03:X02                     -0.5456621 -0.05147967 1   \n",
       "cycle - X01:X02                     -0.5706146 -0.08319391 1   \n",
       "cancergroup - Solid tumors:Leukemia -0.3516806  0.01926626 1   \n",
       "cancergroup - Lymphoma:Leukemia     -0.4965591  0.02567814 1   "
      ]
     },
     "metadata": {},
     "output_type": "display_data"
    }
   ],
   "source": [
    "summary(f)"
   ]
  },
  {
   "cell_type": "code",
   "execution_count": 42,
   "metadata": {
    "vscode": {
     "languageId": "r"
    }
   },
   "outputs": [
    {
     "data": {
      "image/png": "[encoded data removed]",
      "text/plain": [
       "Plot with title “log10shann”"
      ]
     },
     "metadata": {
      "image/png": {
       "height": 420,
       "width": 420
      }
     },
     "output_type": "display_data"
    }
   ],
   "source": [
    "plot(summary(f))\n"
   ]
  },
  {
   "cell_type": "code",
   "execution_count": 43,
   "metadata": {
    "vscode": {
     "languageId": "r"
    }
   },
   "outputs": [
    {
     "data": {
      "text/plain": [
       "$X05\n",
       "   Min. 1st Qu.  Median    Mean 3rd Qu.    Max. \n",
       " 0.2907  1.7967  2.0474  2.0252  2.4225  2.7837 \n",
       "\n",
       "$X04\n",
       "   Min. 1st Qu.  Median    Mean 3rd Qu.    Max. \n",
       " 0.9663  1.4801  1.9081  1.8814  2.2058  2.6821 \n",
       "\n",
       "$X03\n",
       "   Min. 1st Qu.  Median    Mean 3rd Qu.    Max. \n",
       " 0.2574  1.4312  1.8421  1.8213  2.3641  3.1838 \n",
       "\n",
       "$X02\n",
       "   Min. 1st Qu.  Median    Mean 3rd Qu.    Max. \n",
       "  1.100   1.759   2.211   2.090   2.447   3.005 \n",
       "\n",
       "$X01\n",
       "   Min. 1st Qu.  Median    Mean 3rd Qu.    Max. \n",
       "  0.000   1.441   1.926   1.787   2.323   2.744 \n"
      ]
     },
     "metadata": {},
     "output_type": "display_data"
    }
   ],
   "source": [
    "tapply(pbmc$log10shann, pbmc$cycle, summary)"
   ]
  },
  {
   "cell_type": "code",
   "execution_count": 44,
   "metadata": {
    "vscode": {
     "languageId": "r"
    }
   },
   "outputs": [
    {
     "data": {
      "text/plain": [
       "Linear Regression Model\n",
       "\n",
       "ols(formula = log10shann ~ cycle + cancergroup + agegroup, data = pbmc)\n",
       "\n",
       "                Model Likelihood    Discrimination    \n",
       "                      Ratio Test           Indexes    \n",
       "Obs     188    LR chi2     24.10    R2       0.120    \n",
       "sigma0.5725    d.f.           10    R2 adj   0.071    \n",
       "d.f.    177    Pr(> chi2) 0.0074    g        0.233    \n",
       "\n",
       "Residuals\n",
       "\n",
       "    Min      1Q  Median      3Q     Max \n",
       "-1.7070 -0.3431  0.0428  0.3929  1.2648 \n",
       "\n",
       "\n",
       "                     Coef    S.E.   t     Pr(>|t|)\n",
       "Intercept             2.0794 0.1434 14.51 <0.0001 \n",
       "cycle=X04            -0.1506 0.1469 -1.03 0.3065  \n",
       "cycle=X03            -0.1879 0.1348 -1.39 0.1651  \n",
       "cycle=X02             0.0999 0.1354  0.74 0.4617  \n",
       "cycle=X01            -0.2416 0.1361 -1.78 0.0774  \n",
       "cancergroup=Leukemia  0.1582 0.0960  1.65 0.1012  \n",
       "cancergroup=Lymphoma -0.1278 0.1449 -0.88 0.3793  \n",
       "agegroup=>= 18 yrs   -0.3183 0.1748 -1.82 0.0703  \n",
       "agegroup=12-17 yrs   -0.1307 0.1296 -1.01 0.3145  \n",
       "agegroup=2-4 yrs     -0.0497 0.1517 -0.33 0.7436  \n",
       "agegroup=5-11 yrs    -0.2091 0.1171 -1.79 0.0759  \n"
      ]
     },
     "metadata": {},
     "output_type": "display_data"
    }
   ],
   "source": [
    "f <- ols(log10shann ~ cycle + cancergroup + agegroup, data = pbmc)\n",
    "f"
   ]
  },
  {
   "attachments": {},
   "cell_type": "markdown",
   "metadata": {},
   "source": [
    "# scatterplots flow vs div"
   ]
  },
  {
   "cell_type": "code",
   "execution_count": 45,
   "metadata": {
    "vscode": {
     "languageId": "r"
    }
   },
   "outputs": [],
   "source": [
    "flowd <- meta_div[ which(meta_div$sampletype == \"PBMC\" & meta_div$CD3 > 0), ]"
   ]
  },
  {
   "cell_type": "code",
   "execution_count": 46,
   "metadata": {
    "vscode": {
     "languageId": "r"
    }
   },
   "outputs": [
    {
     "data": {
      "text/html": [
       "<style>\n",
       ".list-inline {list-style: none; margin:0; padding: 0}\n",
       ".list-inline>li {display: inline-block}\n",
       ".list-inline>li:not(:last-child)::after {content: \"\\00b7\"; padding: 0 .5ex}\n",
       "</style>\n",
       "<ol class=list-inline><li>'sample_id'</li><li>'Patient'</li><li>'cycle'</li><li>'FOLD'</li><li>'ATC'</li><li>'Age'</li><li>'Disease_type'</li><li>'TE_fold'</li><li>'CD3'</li><li>'EM'</li><li>'CM'</li><li>'Naïve'</li><li>'SCM'</li><li>'TE'</li><li>'EM%'</li><li>'CM%'</li><li>'Naïve%'</li><li>'SCM%'</li><li>'TE%'</li><li>'Naïve/TE'</li><li>'N+CM+SCM/TE+EM'</li><li>'PD-1'</li><li>'PDL1'</li><li>'LAG3'</li><li>'TIM3'</li><li>'CTLA4'</li><li>'PD1%'</li><li>'PDL1%'</li><li>'LAG3%'</li><li>'TIM3%'</li><li>'CTLA4%'</li><li>'Any NCR'</li><li>'PD1 + LAG3 + TIM3'</li><li>'cancergroup'</li><li>'agegroup'</li><li>'foldgroup'</li><li>'Remission'</li><li>'Relapse'</li><li>'Transplant'</li><li>'CART'</li><li>'vital_status'</li><li>'LOF'</li><li>'TRB'</li><li>'Reads'</li><li>'CPKR'</li><li>'Average_reads'</li><li>'VMR'</li><li>'Max_reads'</li><li>'Singletons'</li><li>'Doubletons'</li><li>'qD'</li><li>'Sample_Coverage'</li><li>'observed_Richness'</li><li>'estimated_Richness'</li><li>'SE_Richeness'</li><li>'observed_Shannon'</li><li>'estimated_Shannon'</li><li>'SE_Shannon'</li><li>'observed_Simpson'</li><li>'estimated_Simpson'</li><li>'SE_Simpson'</li><li>'basename'</li><li>'file'</li><li>'sampletype'</li><li>'Group'</li><li>'log10shann'</li><li>'type'</li></ol>\n"
      ],
      "text/latex": [
       "\\begin{enumerate*}\n",
       "\\item 'sample\\_id'\n",
       "\\item 'Patient'\n",
       "\\item 'cycle'\n",
       "\\item 'FOLD'\n",
       "\\item 'ATC'\n",
       "\\item 'Age'\n",
       "\\item 'Disease\\_type'\n",
       "\\item 'TE\\_fold'\n",
       "\\item 'CD3'\n",
       "\\item 'EM'\n",
       "\\item 'CM'\n",
       "\\item 'Naïve'\n",
       "\\item 'SCM'\n",
       "\\item 'TE'\n",
       "\\item 'EM\\%'\n",
       "\\item 'CM\\%'\n",
       "\\item 'Naïve\\%'\n",
       "\\item 'SCM\\%'\n",
       "\\item 'TE\\%'\n",
       "\\item 'Naïve/TE'\n",
       "\\item 'N+CM+SCM/TE+EM'\n",
       "\\item 'PD-1'\n",
       "\\item 'PDL1'\n",
       "\\item 'LAG3'\n",
       "\\item 'TIM3'\n",
       "\\item 'CTLA4'\n",
       "\\item 'PD1\\%'\n",
       "\\item 'PDL1\\%'\n",
       "\\item 'LAG3\\%'\n",
       "\\item 'TIM3\\%'\n",
       "\\item 'CTLA4\\%'\n",
       "\\item 'Any NCR'\n",
       "\\item 'PD1 + LAG3 + TIM3'\n",
       "\\item 'cancergroup'\n",
       "\\item 'agegroup'\n",
       "\\item 'foldgroup'\n",
       "\\item 'Remission'\n",
       "\\item 'Relapse'\n",
       "\\item 'Transplant'\n",
       "\\item 'CART'\n",
       "\\item 'vital\\_status'\n",
       "\\item 'LOF'\n",
       "\\item 'TRB'\n",
       "\\item 'Reads'\n",
       "\\item 'CPKR'\n",
       "\\item 'Average\\_reads'\n",
       "\\item 'VMR'\n",
       "\\item 'Max\\_reads'\n",
       "\\item 'Singletons'\n",
       "\\item 'Doubletons'\n",
       "\\item 'qD'\n",
       "\\item 'Sample\\_Coverage'\n",
       "\\item 'observed\\_Richness'\n",
       "\\item 'estimated\\_Richness'\n",
       "\\item 'SE\\_Richeness'\n",
       "\\item 'observed\\_Shannon'\n",
       "\\item 'estimated\\_Shannon'\n",
       "\\item 'SE\\_Shannon'\n",
       "\\item 'observed\\_Simpson'\n",
       "\\item 'estimated\\_Simpson'\n",
       "\\item 'SE\\_Simpson'\n",
       "\\item 'basename'\n",
       "\\item 'file'\n",
       "\\item 'sampletype'\n",
       "\\item 'Group'\n",
       "\\item 'log10shann'\n",
       "\\item 'type'\n",
       "\\end{enumerate*}\n"
      ],
      "text/markdown": [
       "1. 'sample_id'\n",
       "2. 'Patient'\n",
       "3. 'cycle'\n",
       "4. 'FOLD'\n",
       "5. 'ATC'\n",
       "6. 'Age'\n",
       "7. 'Disease_type'\n",
       "8. 'TE_fold'\n",
       "9. 'CD3'\n",
       "10. 'EM'\n",
       "11. 'CM'\n",
       "12. 'Naïve'\n",
       "13. 'SCM'\n",
       "14. 'TE'\n",
       "15. 'EM%'\n",
       "16. 'CM%'\n",
       "17. 'Naïve%'\n",
       "18. 'SCM%'\n",
       "19. 'TE%'\n",
       "20. 'Naïve/TE'\n",
       "21. 'N+CM+SCM/TE+EM'\n",
       "22. 'PD-1'\n",
       "23. 'PDL1'\n",
       "24. 'LAG3'\n",
       "25. 'TIM3'\n",
       "26. 'CTLA4'\n",
       "27. 'PD1%'\n",
       "28. 'PDL1%'\n",
       "29. 'LAG3%'\n",
       "30. 'TIM3%'\n",
       "31. 'CTLA4%'\n",
       "32. 'Any NCR'\n",
       "33. 'PD1 + LAG3 + TIM3'\n",
       "34. 'cancergroup'\n",
       "35. 'agegroup'\n",
       "36. 'foldgroup'\n",
       "37. 'Remission'\n",
       "38. 'Relapse'\n",
       "39. 'Transplant'\n",
       "40. 'CART'\n",
       "41. 'vital_status'\n",
       "42. 'LOF'\n",
       "43. 'TRB'\n",
       "44. 'Reads'\n",
       "45. 'CPKR'\n",
       "46. 'Average_reads'\n",
       "47. 'VMR'\n",
       "48. 'Max_reads'\n",
       "49. 'Singletons'\n",
       "50. 'Doubletons'\n",
       "51. 'qD'\n",
       "52. 'Sample_Coverage'\n",
       "53. 'observed_Richness'\n",
       "54. 'estimated_Richness'\n",
       "55. 'SE_Richeness'\n",
       "56. 'observed_Shannon'\n",
       "57. 'estimated_Shannon'\n",
       "58. 'SE_Shannon'\n",
       "59. 'observed_Simpson'\n",
       "60. 'estimated_Simpson'\n",
       "61. 'SE_Simpson'\n",
       "62. 'basename'\n",
       "63. 'file'\n",
       "64. 'sampletype'\n",
       "65. 'Group'\n",
       "66. 'log10shann'\n",
       "67. 'type'\n",
       "\n",
       "\n"
      ],
      "text/plain": [
       " [1] \"sample_id\"          \"Patient\"            \"cycle\"             \n",
       " [4] \"FOLD\"               \"ATC\"                \"Age\"               \n",
       " [7] \"Disease_type\"       \"TE_fold\"            \"CD3\"               \n",
       "[10] \"EM\"                 \"CM\"                 \"Naïve\"             \n",
       "[13] \"SCM\"                \"TE\"                 \"EM%\"               \n",
       "[16] \"CM%\"                \"Naïve%\"             \"SCM%\"              \n",
       "[19] \"TE%\"                \"Naïve/TE\"           \"N+CM+SCM/TE+EM\"    \n",
       "[22] \"PD-1\"               \"PDL1\"               \"LAG3\"              \n",
       "[25] \"TIM3\"               \"CTLA4\"              \"PD1%\"              \n",
       "[28] \"PDL1%\"              \"LAG3%\"              \"TIM3%\"             \n",
       "[31] \"CTLA4%\"             \"Any NCR\"            \"PD1 + LAG3 + TIM3\" \n",
       "[34] \"cancergroup\"        \"agegroup\"           \"foldgroup\"         \n",
       "[37] \"Remission\"          \"Relapse\"            \"Transplant\"        \n",
       "[40] \"CART\"               \"vital_status\"       \"LOF\"               \n",
       "[43] \"TRB\"                \"Reads\"              \"CPKR\"              \n",
       "[46] \"Average_reads\"      \"VMR\"                \"Max_reads\"         \n",
       "[49] \"Singletons\"         \"Doubletons\"         \"qD\"                \n",
       "[52] \"Sample_Coverage\"    \"observed_Richness\"  \"estimated_Richness\"\n",
       "[55] \"SE_Richeness\"       \"observed_Shannon\"   \"estimated_Shannon\" \n",
       "[58] \"SE_Shannon\"         \"observed_Simpson\"   \"estimated_Simpson\" \n",
       "[61] \"SE_Simpson\"         \"basename\"           \"file\"              \n",
       "[64] \"sampletype\"         \"Group\"              \"log10shann\"        \n",
       "[67] \"type\"              "
      ]
     },
     "metadata": {},
     "output_type": "display_data"
    }
   ],
   "source": [
    "colnames(flowd)"
   ]
  },
  {
   "cell_type": "code",
   "execution_count": 47,
   "metadata": {
    "vscode": {
     "languageId": "r"
    }
   },
   "outputs": [
    {
     "name": "stderr",
     "output_type": "stream",
     "text": [
      "Warning message:\n",
      "“\u001b[1m\u001b[22mThe `size` argument of `element_rect()` is deprecated as of ggplot2 3.4.0.\n",
      "\u001b[36mℹ\u001b[39m Please use the `linewidth` argument instead.”\n"
     ]
    }
   ],
   "source": [
    "p1 <- ggplot(flowd, aes(x = `Naïve%`, y = TRB, color = cancergroup)) +\n",
    "    geom_point() +\n",
    "    # geom_smooth(method = \"lm\", se = FALSE) +\n",
    "    myplot +\n",
    "    myaxis +\n",
    "    theme(\n",
    "        strip.background = element_blank(),\n",
    "        strip.text = element_text(size = 15),\n",
    "        strip.placement = \"outside\",\n",
    "        legend.position = \"none\",\n",
    "        axis.text.x = element_text(angle = 0, hjust = 0.5),\n",
    "        panel.border = element_rect(color = \"black\", fill = NA, size = 0.5)\n",
    "    ) +\n",
    "    scale_color_manual(values = group_col) +\n",
    "    labs(y = \"Total TRB (PBMC)\")\n",
    "\n",
    "p2 <- ggplot(flowd, aes(x = `SCM%`, y = TRB, color = cancergroup)) +\n",
    "    geom_point() +\n",
    "    # geom_smooth(method = \"lm\", se = FALSE) +\n",
    "    myplot +\n",
    "    myaxis +\n",
    "    theme(\n",
    "        axis.title.y = element_blank(),\n",
    "        strip.background = element_blank(),\n",
    "        strip.text = element_text(size = 15),\n",
    "        strip.placement = \"outside\",\n",
    "        legend.position = \"none\",\n",
    "        axis.text.x = element_text(angle = 0, hjust = 0.5),\n",
    "        panel.border = element_rect(color = \"black\", fill = NA, size = 0.5)\n",
    "    ) +\n",
    "    scale_color_manual(values = group_col)\n",
    "\n",
    "p3 <- ggplot(flowd, aes(x = `CM%`, y = TRB, color = cancergroup)) +\n",
    "    geom_point() +\n",
    "    # geom_smooth(method = \"lm\", se = FALSE) +\n",
    "    myplot +\n",
    "    myaxis +\n",
    "    theme(\n",
    "        axis.title.y = element_blank(),\n",
    "        strip.background = element_blank(),\n",
    "        strip.text = element_text(size = 15),\n",
    "        strip.placement = \"outside\",\n",
    "        legend.position = \"none\",\n",
    "        axis.text.x = element_text(angle = 0, hjust = 0.5),\n",
    "        panel.border = element_rect(color = \"black\", fill = NA, size = 0.5)\n",
    "    ) +\n",
    "    scale_color_manual(values = group_col)\n",
    "\n",
    "p4 <- ggplot(flowd, aes(x = `EM%`, y = TRB, color = cancergroup)) +\n",
    "    geom_point() +\n",
    "    # geom_smooth(method = \"lm\", se = FALSE) +\n",
    "    myplot +\n",
    "    myaxis +\n",
    "    theme(\n",
    "        strip.background = element_blank(),\n",
    "        strip.text = element_text(size = 15),\n",
    "        strip.placement = \"outside\",\n",
    "        legend.position = \"none\",\n",
    "        axis.text.x = element_text(angle = 0, hjust = 0.5),\n",
    "        panel.border = element_rect(color = \"black\", fill = NA, size = 0.5)\n",
    "    ) +\n",
    "    scale_color_manual(values = group_col) +\n",
    "    labs(y = \"Total TRB (PBMC)\")\n",
    "\n",
    "p5 <- ggplot(flowd, aes(x = `TE%`, y = TRB, color = cancergroup)) +\n",
    "    geom_point() +\n",
    "    #geom_smooth(method = \"lm\", se = FALSE) +\n",
    "    myplot +\n",
    "    myaxis +\n",
    "    theme(\n",
    "        axis.title.y = element_blank(),\n",
    "        strip.background = element_blank(),\n",
    "        strip.text = element_text(size = 15),\n",
    "        strip.placement = \"outside\",\n",
    "        legend.position = \"none\",\n",
    "        axis.text.x = element_text(angle = 0, hjust = 0.5),\n",
    "        panel.border = element_rect(color = \"black\", fill = NA, size = 0.5)\n",
    "    ) +\n",
    "    scale_color_manual(values = group_col)\n"
   ]
  },
  {
   "cell_type": "code",
   "execution_count": 48,
   "metadata": {
    "vscode": {
     "languageId": "r"
    }
   },
   "outputs": [],
   "source": [
    "allp <- cowplot::plot_grid(p1, p2, p3, p4, p5, align = \"hv\", axis = \"tblr\")"
   ]
  },
  {
   "cell_type": "code",
   "execution_count": 49,
   "metadata": {
    "vscode": {
     "languageId": "r"
    }
   },
   "outputs": [
    {
     "data": {
      "text/html": [
       "<strong>pdf:</strong> 2"
      ],
      "text/latex": [
       "\\textbf{pdf:} 2"
      ],
      "text/markdown": [
       "**pdf:** 2"
      ],
      "text/plain": [
       "pdf \n",
       "  2 "
      ]
     },
     "metadata": {},
     "output_type": "display_data"
    }
   ],
   "source": [
    "pdf(paste0(plotpath, \"TRB_flow_PBMC.pdf\"), width = 10, height = 12)\n",
    "allp\n",
    "dev.off()"
   ]
  },
  {
   "cell_type": "code",
   "execution_count": 50,
   "metadata": {
    "vscode": {
     "languageId": "r"
    }
   },
   "outputs": [],
   "source": [
    "flowd <- meta_div[ which(meta_div$sampletype == \"cfDNA\" & meta_div$CD3 > 0), ]"
   ]
  },
  {
   "cell_type": "code",
   "execution_count": 51,
   "metadata": {
    "vscode": {
     "languageId": "r"
    }
   },
   "outputs": [],
   "source": [
    "p1 <- ggplot(flowd, aes(x = `Naïve%`, y = TRB, color = cancergroup)) +\n",
    "    geom_point() +\n",
    "    # geom_smooth(method = \"lm\", se = FALSE) +\n",
    "    myplot +\n",
    "    myaxis +\n",
    "    theme(\n",
    "        strip.background = element_blank(),\n",
    "        strip.text = element_text(size = 15),\n",
    "        strip.placement = \"outside\",\n",
    "        legend.position = \"none\",\n",
    "        axis.text.x = element_text(angle = 0, hjust = 0.5),\n",
    "        panel.border = element_rect(color = \"black\", fill = NA, size = 0.5)\n",
    "    ) +\n",
    "    scale_color_manual(values = group_col) +\n",
    "    labs(y = \"Total TRB (cfDNA)\")\n",
    "\n",
    "p2 <- ggplot(flowd, aes(x = `SCM%`, y = TRB, color = cancergroup)) +\n",
    "    geom_point() +\n",
    "    # geom_smooth(method = \"lm\", se = FALSE) +\n",
    "    myplot +\n",
    "    myaxis +\n",
    "    theme(\n",
    "        axis.title.y = element_blank(),\n",
    "        strip.background = element_blank(),\n",
    "        strip.text = element_text(size = 15),\n",
    "        strip.placement = \"outside\",\n",
    "        legend.position = \"none\",\n",
    "        axis.text.x = element_text(angle = 0, hjust = 0.5),\n",
    "        panel.border = element_rect(color = \"black\", fill = NA, size = 0.5)\n",
    "    ) +\n",
    "    scale_color_manual(values = group_col)\n",
    "\n",
    "p3 <- ggplot(flowd, aes(x = `CM%`, y = TRB, color = cancergroup)) +\n",
    "    geom_point() +\n",
    "    # geom_smooth(method = \"lm\", se = FALSE) +\n",
    "    myplot +\n",
    "    myaxis +\n",
    "    theme(\n",
    "        axis.title.y = element_blank(),\n",
    "        strip.background = element_blank(),\n",
    "        strip.text = element_text(size = 15),\n",
    "        strip.placement = \"outside\",\n",
    "        legend.position = \"none\",\n",
    "        axis.text.x = element_text(angle = 0, hjust = 0.5),\n",
    "        panel.border = element_rect(color = \"black\", fill = NA, size = 0.5)\n",
    "    ) +\n",
    "    scale_color_manual(values = group_col)\n",
    "\n",
    "p4 <- ggplot(flowd, aes(x = `EM%`, y = TRB, color = cancergroup)) +\n",
    "    geom_point() +\n",
    "    # geom_smooth(method = \"lm\", se = FALSE) +\n",
    "    myplot +\n",
    "    myaxis +\n",
    "    theme(\n",
    "        strip.background = element_blank(),\n",
    "        strip.text = element_text(size = 15),\n",
    "        strip.placement = \"outside\",\n",
    "        legend.position = \"none\",\n",
    "        axis.text.x = element_text(angle = 0, hjust = 0.5),\n",
    "        panel.border = element_rect(color = \"black\", fill = NA, size = 0.5)\n",
    "    ) +\n",
    "    scale_color_manual(values = group_col) +\n",
    "    labs(y = \"Total TRB (cfDNA)\")\n",
    "\n",
    "p5 <- ggplot(flowd, aes(x = `TE%`, y = TRB, color = cancergroup)) +\n",
    "    geom_point() +\n",
    "    # geom_smooth(method = \"lm\", se = FALSE) +\n",
    "    myplot +\n",
    "    myaxis +\n",
    "    theme(\n",
    "        axis.title.y = element_blank(),\n",
    "        strip.background = element_blank(),\n",
    "        strip.text = element_text(size = 15),\n",
    "        strip.placement = \"outside\",\n",
    "        legend.position = \"none\",\n",
    "        axis.text.x = element_text(angle = 0, hjust = 0.5),\n",
    "        panel.border = element_rect(color = \"black\", fill = NA, size = 0.5)\n",
    "    ) +\n",
    "    scale_color_manual(values = group_col)\n"
   ]
  },
  {
   "cell_type": "code",
   "execution_count": 52,
   "metadata": {
    "vscode": {
     "languageId": "r"
    }
   },
   "outputs": [],
   "source": [
    "allp <- cowplot::plot_grid(p1, p2, p3, p4, p5, align = \"hv\", axis = \"tblr\")"
   ]
  },
  {
   "cell_type": "code",
   "execution_count": 53,
   "metadata": {
    "vscode": {
     "languageId": "r"
    }
   },
   "outputs": [],
   "source": [
    "mylgd <-  get_legend(p1 + \n",
    "theme(legend.position = 'right', legend.box = 'vertical', legend.margin = margin(0,0,0,0)) +\n",
    "guides(colour = guide_legend(override.aes = list(size=3)))) "
   ]
  },
  {
   "cell_type": "code",
   "execution_count": 54,
   "metadata": {
    "vscode": {
     "languageId": "r"
    }
   },
   "outputs": [
    {
     "data": {
      "text/html": [
       "<strong>pdf:</strong> 2"
      ],
      "text/latex": [
       "\\textbf{pdf:} 2"
      ],
      "text/markdown": [
       "**pdf:** 2"
      ],
      "text/plain": [
       "pdf \n",
       "  2 "
      ]
     },
     "metadata": {},
     "output_type": "display_data"
    }
   ],
   "source": [
    "pdf(paste0(plotpath, \"TRB_flow_cfDNA.pdf\"), width = 10, height = 12)\n",
    "plot_grid(allp, mylgd, ncol = 2, rel_widths = c(1, .1))\n",
    "dev.off()"
   ]
  },
  {
   "attachments": {},
   "cell_type": "markdown",
   "metadata": {},
   "source": [
    "### PBMC"
   ]
  },
  {
   "cell_type": "code",
   "execution_count": 55,
   "metadata": {
    "vscode": {
     "languageId": "r"
    }
   },
   "outputs": [
    {
     "data": {
      "text/plain": [
       "\n",
       "  < 2 yrs >= 18 yrs 12-17 yrs   2-4 yrs  5-11 yrs \n",
       "       49        16        50        21        52 "
      ]
     },
     "metadata": {},
     "output_type": "display_data"
    }
   ],
   "source": [
    "table(pbmc$agegroup)"
   ]
  },
  {
   "cell_type": "code",
   "execution_count": 56,
   "metadata": {
    "vscode": {
     "languageId": "r"
    }
   },
   "outputs": [],
   "source": [
    "pbmc$agegroup <- factor(pbmc$agegroup, levels = c(\"< 2 yrs\", \"2-4 yrs\", \"5-11 yrs\", \"12-17 yrs\", \">= 18 yrs\"))"
   ]
  },
  {
   "cell_type": "code",
   "execution_count": 57,
   "metadata": {
    "vscode": {
     "languageId": "r"
    }
   },
   "outputs": [],
   "source": [
    "pbmc$Cyclegroup <- NA\n",
    "pbmc$Cyclegroup[ pbmc$cycle == \"X01\"] <- \"Baseline\"\n",
    "pbmc$Cyclegroup[ pbmc$cycle %in% c(\"X02\", \"X03\")] <- \"Early chemo\"\n",
    "pbmc$Cyclegroup[ pbmc$cycle %in% c(\"X04\", \"X05\")] <- \"Late chemo\""
   ]
  },
  {
   "cell_type": "code",
   "execution_count": 58,
   "metadata": {
    "vscode": {
     "languageId": "r"
    }
   },
   "outputs": [
    {
     "data": {
      "text/plain": [
       "Linear Regression Model\n",
       "\n",
       "ols(formula = log10shann ~ agegroup + cancergroup, data = pbmc[pbmc$cycle == \n",
       "    \"X05\", ])\n",
       "\n",
       "                Model Likelihood    Discrimination    \n",
       "                      Ratio Test           Indexes    \n",
       "Obs      33    LR chi2      2.69    R2       0.078    \n",
       "sigma0.5720    d.f.            6    R2 adj  -0.134    \n",
       "d.f.     26    Pr(> chi2) 0.8467    g        0.165    \n",
       "\n",
       "Residuals\n",
       "\n",
       "     Min       1Q   Median       3Q      Max \n",
       "-1.61837 -0.24209  0.05198  0.35625  0.87467 \n",
       "\n",
       "\n",
       "                     Coef    S.E.   t     Pr(>|t|)\n",
       "Intercept             1.9069 0.2644  7.21 <0.0001 \n",
       "agegroup=2-4 yrs      0.2102 0.3312  0.63 0.5311  \n",
       "agegroup=5-11 yrs     0.0022 0.2567  0.01 0.9932  \n",
       "agegroup=12-17 yrs    0.1848 0.3909  0.47 0.6403  \n",
       "agegroup=>= 18 yrs    0.1875 0.4844  0.39 0.7018  \n",
       "cancergroup=Leukemia  0.1572 0.2355  0.67 0.5104  \n",
       "cancergroup=Lymphoma -0.2797 0.4140 -0.68 0.5052  \n"
      ]
     },
     "metadata": {},
     "output_type": "display_data"
    }
   ],
   "source": [
    "f <- ols(log10shann ~  agegroup + cancergroup, data = pbmc[pbmc$cycle == \"X05\",])\n",
    "f\n"
   ]
  },
  {
   "cell_type": "code",
   "execution_count": 59,
   "metadata": {
    "vscode": {
     "languageId": "r"
    }
   },
   "outputs": [],
   "source": [
    "annotation_df <- data.frame(\n",
    "  cycle = c(\"X01\"),\n",
    "  start = c(\"< 2 yrs\"),\n",
    "  end = c(\"12-17 yrs\"),\n",
    "  y = c(3),\n",
    "  label = c(\"p = 0.04\") )"
   ]
  },
  {
   "cell_type": "code",
   "execution_count": 60,
   "metadata": {
    "vscode": {
     "languageId": "r"
    }
   },
   "outputs": [],
   "source": [
    "p_pbmc <- baseplot.fx(pbmc, \"agegroup\", \"log10shann\", \"cancergroup\", group_col, \"PBMC\")"
   ]
  },
  {
   "cell_type": "code",
   "execution_count": 61,
   "metadata": {
    "vscode": {
     "languageId": "r"
    }
   },
   "outputs": [
    {
     "name": "stderr",
     "output_type": "stream",
     "text": [
      "Warning message in geom_signif(data = annotation_df, aes(xmin = start, xmax = end, :\n",
      "“\u001b[1m\u001b[22mIgnoring unknown aesthetics: \u001b[32mxmin\u001b[39m, \u001b[32mxmax\u001b[39m, \u001b[32mannotations\u001b[39m, and \u001b[32my_position\u001b[39m”\n"
     ]
    },
    {
     "data": {
      "image/png": "[encoded data removed]",
      "text/plain": [
       "plot without title"
      ]
     },
     "metadata": {
      "image/png": {
       "height": 420,
       "width": 420
      }
     },
     "output_type": "display_data"
    }
   ],
   "source": [
    "p_pbmc <- p_pbmc + geom_signif(\n",
    "    data = annotation_df,\n",
    "    aes(xmin = start, xmax = end, annotations = label, y_position = y),\n",
    "    textsize = 5, vjust = 0,\n",
    "    manual = TRUE\n",
    "  ) +\n",
    "facet_wrap(~cycle, nrow = 1) + \n",
    "labs( y = \"TCR diversity\")\n",
    "\n",
    "p_pbmc"
   ]
  },
  {
   "cell_type": "code",
   "execution_count": 62,
   "metadata": {
    "vscode": {
     "languageId": "r"
    }
   },
   "outputs": [
    {
     "data": {
      "text/html": [
       "<strong>pdf:</strong> 2"
      ],
      "text/latex": [
       "\\textbf{pdf:} 2"
      ],
      "text/markdown": [
       "**pdf:** 2"
      ],
      "text/plain": [
       "pdf \n",
       "  2 "
      ]
     },
     "metadata": {},
     "output_type": "display_data"
    }
   ],
   "source": [
    "pdf(paste0(plotpath, \"pbmc_shann_age_facet_cycle.pdf\"), width = 12, height = 6)\n",
    "p_pbmc + theme(legend.position = \"bottom\")+ \n",
    "theme(strip.background = element_blank(),\n",
    "          strip.text = element_text(size = 15),\n",
    "          strip.placement = \"outside\",\n",
    "          panel.border = element_rect(color = \"black\", fill = NA, size = 0.5))\n",
    "dev.off()"
   ]
  },
  {
   "attachments": {},
   "cell_type": "markdown",
   "metadata": {},
   "source": [
    "### cfDNA"
   ]
  },
  {
   "cell_type": "code",
   "execution_count": 36,
   "metadata": {
    "vscode": {
     "languageId": "r"
    }
   },
   "outputs": [
    {
     "data": {
      "text/plain": [
       "\n",
       "  < 2 yrs >= 18 yrs 12-17 yrs   2-4 yrs  5-11 yrs \n",
       "       49        25        77        45        70 "
      ]
     },
     "metadata": {},
     "output_type": "display_data"
    }
   ],
   "source": [
    "table(cfdna$agegroup)"
   ]
  },
  {
   "cell_type": "code",
   "execution_count": 37,
   "metadata": {
    "vscode": {
     "languageId": "r"
    }
   },
   "outputs": [],
   "source": [
    "cfdna$agegroup <- factor(cfdna$agegroup, levels = c(\"< 2 yrs\", \"2-4 yrs\", \"5-11 yrs\", \"12-17 yrs\", \">= 18 yrs\"))"
   ]
  },
  {
   "cell_type": "code",
   "execution_count": 38,
   "metadata": {
    "vscode": {
     "languageId": "r"
    }
   },
   "outputs": [],
   "source": [
    "cfdna$Cyclegroup <- NA\n",
    "cfdna$Cyclegroup[ cfdna$cycle == \"X01\"] <- \"Baseline\"\n",
    "cfdna$Cyclegroup[ cfdna$cycle %in% c(\"X02\", \"X03\")] <- \"Early chemo\"\n",
    "cfdna$Cyclegroup[ cfdna$cycle %in% c(\"X04\", \"X05\")] <- \"Late chemo\""
   ]
  },
  {
   "cell_type": "code",
   "execution_count": 39,
   "metadata": {
    "vscode": {
     "languageId": "r"
    }
   },
   "outputs": [
    {
     "data": {
      "text/plain": [
       "Linear Regression Model\n",
       "\n",
       "ols(formula = log10shann ~ agegroup + cancergroup, data = cfdna[cfdna$cycle == \n",
       "    \"X04\", ])\n",
       "\n",
       "                Model Likelihood    Discrimination    \n",
       "                      Ratio Test           Indexes    \n",
       "Obs      50    LR chi2     12.50    R2       0.221    \n",
       "sigma0.4556    d.f.            6    R2 adj   0.113    \n",
       "d.f.     43    Pr(> chi2) 0.0517    g        0.258    \n",
       "\n",
       "Residuals\n",
       "\n",
       "      Min        1Q    Median        3Q       Max \n",
       "-1.056772 -0.350704  0.007409  0.267044  1.219000 \n",
       "\n",
       "\n",
       "                         Coef    S.E.   t     Pr(>|t|)\n",
       "Intercept                 1.0568 0.1556  6.79 <0.0001 \n",
       "agegroup=2-4 yrs         -0.2058 0.2289 -0.90 0.3736  \n",
       "agegroup=5-11 yrs        -0.4497 0.2005 -2.24 0.0301  \n",
       "agegroup=12-17 yrs       -0.3285 0.2055 -1.60 0.1172  \n",
       "agegroup=>= 18 yrs       -0.2911 0.2779 -1.05 0.3007  \n",
       "cancergroup=Lymphoma     -0.3166 0.1851 -1.71 0.0944  \n",
       "cancergroup=Solid tumors -0.2252 0.1518 -1.48 0.1453  \n"
      ]
     },
     "metadata": {},
     "output_type": "display_data"
    }
   ],
   "source": [
    "f <- ols(log10shann ~  agegroup + cancergroup, data = cfdna[cfdna$cycle == \"X04\",])\n",
    "f\n"
   ]
  },
  {
   "cell_type": "code",
   "execution_count": 40,
   "metadata": {
    "vscode": {
     "languageId": "r"
    }
   },
   "outputs": [],
   "source": [
    "annotation_df <- data.frame(\n",
    "  cycle = c(\"X02\", \"X02\", \"X03\", \"X03\", \"X04\"),\n",
    "  start = rep(\"< 2 yrs\", 5),\n",
    "  end = c(\"2-4 yrs\", \">= 18 yrs\",\"5-11 yrs\", \">= 18 yrs\",\"5-11 yrs\"),\n",
    "  y = c(1.7, 1.9, 2.1, 2.3, 2.3),\n",
    "  label = c(\"p = 0.05\", \"p = 0.004\", \"p = 0.01\", \"p = 0.05\", \"p = 0.03\"))"
   ]
  },
  {
   "cell_type": "code",
   "execution_count": 41,
   "metadata": {
    "vscode": {
     "languageId": "r"
    }
   },
   "outputs": [],
   "source": [
    "p_cfdna <- baseplot.fx(cfdna, \"agegroup\", \"log10shann\", \"cancergroup\", group_col, \"cfDNA\")"
   ]
  },
  {
   "cell_type": "code",
   "execution_count": 42,
   "metadata": {
    "vscode": {
     "languageId": "r"
    }
   },
   "outputs": [
    {
     "name": "stderr",
     "output_type": "stream",
     "text": [
      "Warning message in geom_signif(data = annotation_df, aes(xmin = start, xmax = end, :\n",
      "“\u001b[1m\u001b[22mIgnoring unknown aesthetics: \u001b[32mxmin\u001b[39m, \u001b[32mxmax\u001b[39m, \u001b[32mannotations\u001b[39m, and \u001b[32my_position\u001b[39m”\n"
     ]
    },
    {
     "data": {
      "image/png": "[encoded data removed]",
      "text/plain": [
       "plot without title"
      ]
     },
     "metadata": {
      "image/png": {
       "height": 420,
       "width": 420
      }
     },
     "output_type": "display_data"
    }
   ],
   "source": [
    "p_cfdna <- p_cfdna + geom_signif(\n",
    "    data = annotation_df,\n",
    "    aes(xmin = start, xmax = end, annotations = label, y_position = y),\n",
    "    textsize = 5, vjust = 0,\n",
    "    manual = TRUE\n",
    "  ) +\n",
    "facet_wrap(~cycle, nrow = 1) + \n",
    "labs( y = \"cfTCR diversity\")\n",
    "\n",
    "p_cfdna"
   ]
  },
  {
   "cell_type": "code",
   "execution_count": 43,
   "metadata": {
    "vscode": {
     "languageId": "r"
    }
   },
   "outputs": [
    {
     "data": {
      "text/html": [
       "<strong>pdf:</strong> 2"
      ],
      "text/latex": [
       "\\textbf{pdf:} 2"
      ],
      "text/markdown": [
       "**pdf:** 2"
      ],
      "text/plain": [
       "pdf \n",
       "  2 "
      ]
     },
     "metadata": {},
     "output_type": "display_data"
    }
   ],
   "source": [
    "pdf(paste0(plotpath, \"cfdna_shann_age_facet_cycle.pdf\"), width = 12, height = 6)\n",
    "p_cfdna + theme(legend.position = \"bottom\")+ \n",
    "theme(strip.background = element_blank(),\n",
    "          strip.text = element_text(size = 15),\n",
    "          strip.placement = \"outside\",\n",
    "          panel.border = element_rect(color = \"black\", fill = NA, size = 0.5))\n",
    "dev.off()"
   ]
  },
  {
   "attachments": {},
   "cell_type": "markdown",
   "metadata": {},
   "source": [
    "## Plots for cancer groups"
   ]
  },
  {
   "attachments": {},
   "cell_type": "markdown",
   "metadata": {},
   "source": [
    "### PBMC"
   ]
  },
  {
   "cell_type": "code",
   "execution_count": 44,
   "metadata": {
    "vscode": {
     "languageId": "r"
    }
   },
   "outputs": [
    {
     "data": {
      "text/plain": [
       "Linear Regression Model\n",
       "\n",
       "ols(formula = log10shann ~ cancergroup + Age, data = pbmc[pbmc$cycle == \n",
       "    \"X05\", ])\n",
       "\n",
       "                Model Likelihood    Discrimination    \n",
       "                      Ratio Test           Indexes    \n",
       "Obs      36    LR chi2      1.42    R2       0.039    \n",
       "sigma0.5284    d.f.            3    R2 adj  -0.052    \n",
       "d.f.     32    Pr(> chi2) 0.7017    g        0.114    \n",
       "\n",
       "Residuals\n",
       "\n",
       "      Min        1Q    Median        3Q       Max \n",
       "-1.692334 -0.187964 -0.002642  0.320536  0.796088 \n",
       "\n",
       "\n",
       "                         Coef    S.E.   t     Pr(>|t|)\n",
       "Intercept                 2.0915 0.1658 12.61 <0.0001 \n",
       "cancergroup=Lymphoma     -0.2915 0.3033 -0.96 0.3438  \n",
       "cancergroup=Solid tumors -0.1500 0.1991 -0.75 0.4566  \n",
       "Age                       0.0046 0.0192  0.24 0.8117  \n"
      ]
     },
     "metadata": {},
     "output_type": "display_data"
    }
   ],
   "source": [
    "f <- ols(log10shann ~  cancergroup + Age, data = pbmc[pbmc$cycle == \"X05\",])\n",
    "f"
   ]
  },
  {
   "cell_type": "code",
   "execution_count": 45,
   "metadata": {
    "vscode": {
     "languageId": "r"
    }
   },
   "outputs": [],
   "source": [
    "# annotation_df <- data.frame(\n",
    "#   Cyclegroup = \"Early chemo\",\n",
    "#   start = c(\"Leukemia\",\"Leukemia\"),\n",
    "#   end = c(\"Lymphoma\",\"Solid tumors\"),\n",
    "#   y = c(3.3,3.5),\n",
    "#   label = c(\"p = 0.03\", \"p = 0.05\") )"
   ]
  },
  {
   "cell_type": "code",
   "execution_count": 46,
   "metadata": {
    "vscode": {
     "languageId": "r"
    }
   },
   "outputs": [],
   "source": [
    "p_pbmc <- baseplot.fx(pbmc, \"cancergroup\", \"log10shann\", \"cycle\", rep(\"grey\",5), \"PBMC\")"
   ]
  },
  {
   "cell_type": "code",
   "execution_count": 47,
   "metadata": {
    "vscode": {
     "languageId": "r"
    }
   },
   "outputs": [
    {
     "data": {
      "image/png": "[encoded data removed]",
      "text/plain": [
       "plot without title"
      ]
     },
     "metadata": {
      "image/png": {
       "height": 420,
       "width": 420
      }
     },
     "output_type": "display_data"
    }
   ],
   "source": [
    "p_pbmc <- p_pbmc + \n",
    "# geom_signif(\n",
    "#     data = annotation_df,\n",
    "#     aes(xmin = start, xmax = end, annotations = label, y_position = y),\n",
    "#     textsize = 5, vjust = 0, tip_length = 0.01,\n",
    "#     manual = TRUE\n",
    "#   ) +\n",
    "facet_wrap(~cycle, nrow = 1) + \n",
    "labs( y = \"TCR diversity\")\n",
    "\n",
    "p_pbmc"
   ]
  },
  {
   "cell_type": "code",
   "execution_count": 48,
   "metadata": {
    "vscode": {
     "languageId": "r"
    }
   },
   "outputs": [
    {
     "data": {
      "text/html": [
       "<strong>pdf:</strong> 2"
      ],
      "text/latex": [
       "\\textbf{pdf:} 2"
      ],
      "text/markdown": [
       "**pdf:** 2"
      ],
      "text/plain": [
       "pdf \n",
       "  2 "
      ]
     },
     "metadata": {},
     "output_type": "display_data"
    }
   ],
   "source": [
    "pdf(paste0(plotpath, \"pbmc_shann_cancergroup_facet.pdf\"), width = 12, height = 6)\n",
    "p_pbmc + theme(legend.position = \"none\")+ \n",
    "theme(strip.background = element_blank(),\n",
    "          strip.text = element_text(size = 15),\n",
    "          strip.placement = \"outside\",\n",
    "          panel.border = element_rect(color = \"black\", fill = NA, size = 0.5))\n",
    "dev.off()"
   ]
  },
  {
   "attachments": {},
   "cell_type": "markdown",
   "metadata": {},
   "source": [
    "### cfDNA"
   ]
  },
  {
   "cell_type": "code",
   "execution_count": 49,
   "metadata": {
    "vscode": {
     "languageId": "r"
    }
   },
   "outputs": [
    {
     "data": {
      "text/plain": [
       "Linear Regression Model\n",
       "\n",
       "ols(formula = log10shann ~ cancergroup + Age, data = cfdna[cfdna$cycle == \n",
       "    \"X05\", ])\n",
       "\n",
       "                Model Likelihood    Discrimination    \n",
       "                      Ratio Test           Indexes    \n",
       "Obs      42    LR chi2      7.98    R2       0.173    \n",
       "sigma0.4030    d.f.            3    R2 adj   0.108    \n",
       "d.f.     38    Pr(> chi2) 0.0465    g        0.205    \n",
       "\n",
       "Residuals\n",
       "\n",
       "     Min       1Q   Median       3Q      Max \n",
       "-0.77753 -0.28513  0.02004  0.25927  0.79551 \n",
       "\n",
       "\n",
       "                         Coef    S.E.   t     Pr(>|t|)\n",
       "Intercept                 0.7730 0.1234  6.26 <0.0001 \n",
       "cancergroup=Lymphoma     -0.4408 0.1643 -2.68 0.0108  \n",
       "cancergroup=Solid tumors -0.2534 0.1473 -1.72 0.0935  \n",
       "Age                       0.0116 0.0118  0.98 0.3310  \n"
      ]
     },
     "metadata": {},
     "output_type": "display_data"
    }
   ],
   "source": [
    "f <- ols(log10shann ~  cancergroup + Age, data = cfdna[cfdna$cycle == \"X05\",])\n",
    "f"
   ]
  },
  {
   "cell_type": "code",
   "execution_count": 50,
   "metadata": {
    "vscode": {
     "languageId": "r"
    }
   },
   "outputs": [],
   "source": [
    "annotation_df <- data.frame(\n",
    "  cycle = c(\"X01\",\"X02\", \"X02\", \"X03\", \"X05\"),\n",
    "  start = c(\"Leukemia\",\"Leukemia\", \"Leukemia\",\"Leukemia\", \"Leukemia\"),\n",
    "  end = c(\"Lymphoma\", \"Lymphoma\", \"Solid tumors\", \"Lymphoma\",\"Lymphoma\"),\n",
    "  y = c(2, 2, 2.2, 2, 2.2),\n",
    "  label = c(\"p = 0.04\", \"p = 0.02\", \"p = 0.008\", \"p = 0.02\", \"p = 0.01\") )"
   ]
  },
  {
   "cell_type": "code",
   "execution_count": 51,
   "metadata": {
    "vscode": {
     "languageId": "r"
    }
   },
   "outputs": [],
   "source": [
    "p_cfdna <- baseplot.fx(cfdna, \"cancergroup\", \"log10shann\", \"cycle\", rep(\"grey\",5), \"cfDNA\")"
   ]
  },
  {
   "cell_type": "code",
   "execution_count": 52,
   "metadata": {
    "vscode": {
     "languageId": "r"
    }
   },
   "outputs": [
    {
     "name": "stderr",
     "output_type": "stream",
     "text": [
      "Warning message in geom_signif(data = annotation_df, aes(xmin = start, xmax = end, :\n",
      "“\u001b[1m\u001b[22mIgnoring unknown aesthetics: \u001b[32mxmin\u001b[39m, \u001b[32mxmax\u001b[39m, \u001b[32mannotations\u001b[39m, and \u001b[32my_position\u001b[39m”\n"
     ]
    },
    {
     "data": {
      "image/png": "[encoded data removed]",
      "text/plain": [
       "plot without title"
      ]
     },
     "metadata": {
      "image/png": {
       "height": 420,
       "width": 420
      }
     },
     "output_type": "display_data"
    }
   ],
   "source": [
    "p_cfdna <- p_cfdna + geom_signif(\n",
    "    data = annotation_df,\n",
    "    aes(xmin = start, xmax = end, annotations = label, y_position = y),\n",
    "    textsize = 5, vjust = 0, tip_length = 0.01,\n",
    "    manual = TRUE\n",
    "  ) +\n",
    "facet_wrap(~cycle, nrow = 1) + \n",
    "labs( y = \"cfTCR diversity\")\n",
    "\n",
    "p_cfdna"
   ]
  },
  {
   "cell_type": "code",
   "execution_count": 53,
   "metadata": {
    "vscode": {
     "languageId": "r"
    }
   },
   "outputs": [
    {
     "data": {
      "text/html": [
       "<strong>pdf:</strong> 2"
      ],
      "text/latex": [
       "\\textbf{pdf:} 2"
      ],
      "text/markdown": [
       "**pdf:** 2"
      ],
      "text/plain": [
       "pdf \n",
       "  2 "
      ]
     },
     "metadata": {},
     "output_type": "display_data"
    }
   ],
   "source": [
    "pdf(paste0(plotpath, \"cfdna_shann_cancergroup_facet.pdf\"), width = 12, height = 6)\n",
    "p_cfdna + theme(legend.position = \"none\")+ \n",
    "theme(strip.background = element_blank(),\n",
    "          strip.text = element_text(size = 15),\n",
    "          strip.placement = \"outside\",\n",
    "          panel.border = element_rect(color = \"black\", fill = NA, size = 0.5))\n",
    "dev.off()"
   ]
  }
 ],
 "metadata": {
  "kernelspec": {
   "display_name": "R 4.0",
   "language": "R",
   "name": "ir40"
  },
  "language_info": {
   "codemirror_mode": "r",
   "file_extension": ".r",
   "mimetype": "text/x-r-source",
   "name": "R",
   "pygments_lexer": "r",
   "version": "4.2.2"
  },
  "toc": {
   "base_numbering": 1,
   "nav_menu": {},
   "number_sections": false,
   "sideBar": true,
   "skip_h1_title": false,
   "title_cell": "Table of Contents",
   "title_sidebar": "Contents",
   "toc_cell": true,
   "toc_position": {
    "height": "calc(100% - 180px)",
    "left": "10px",
    "top": "150px",
    "width": "186.15px"
   },
   "toc_section_display": true,
   "toc_window_display": true
  }
 },
 "nbformat": 4,
 "nbformat_minor": 2
}

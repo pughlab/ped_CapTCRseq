{
 "cells": [
  {
   "cell_type": "code",
   "execution_count": 1,
   "metadata": {
    "vscode": {
     "languageId": "r"
    }
   },
   "outputs": [
    {
     "data": {
      "text/html": [
       "'en_US.UTF-8/en_US.UTF-8/en_US.UTF-8/C/en_US.UTF-8/C'"
      ],
      "text/latex": [
       "'en\\_US.UTF-8/en\\_US.UTF-8/en\\_US.UTF-8/C/en\\_US.UTF-8/C'"
      ],
      "text/markdown": [
       "'en_US.UTF-8/en_US.UTF-8/en_US.UTF-8/C/en_US.UTF-8/C'"
      ],
      "text/plain": [
       "[1] \"en_US.UTF-8/en_US.UTF-8/en_US.UTF-8/C/en_US.UTF-8/C\""
      ]
     },
     "metadata": {},
     "output_type": "display_data"
    }
   ],
   "source": [
    "Sys.setlocale(category = \"LC_ALL\", locale = \"en_US.UTF-8\")"
   ]
  },
  {
   "attachments": {},
   "cell_type": "markdown",
   "metadata": {},
   "source": [
    "# Dependencies"
   ]
  },
  {
   "cell_type": "code",
   "execution_count": 2,
   "metadata": {
    "vscode": {
     "languageId": "r"
    }
   },
   "outputs": [],
   "source": [
    "pacman::p_load(dplyr, ggplot2, ggbeeswarm, ggpubr, ggsignif, cowplot, ComplexHeatmap, factoextra, FactoMineR, VIM, missMDA) "
   ]
  },
  {
   "attachments": {},
   "cell_type": "markdown",
   "metadata": {},
   "source": [
    "# Functions"
   ]
  },
  {
   "cell_type": "code",
   "execution_count": 3,
   "metadata": {
    "vscode": {
     "languageId": "r"
    }
   },
   "outputs": [],
   "source": [
    "source(\"/Users/anabbi/git/ped_CapTCRseq/R/ggplot2_theme.R\")\n",
    "source(\"/Users/anabbi/git/ped_CapTCRseq/R/color_schemes.R\")\n",
    "source(\"/Users/anabbi/git/ped_CapTCRseq/R/Misc_functions.R\")"
   ]
  },
  {
   "attachments": {},
   "cell_type": "markdown",
   "metadata": {},
   "source": [
    "# Paths"
   ]
  },
  {
   "cell_type": "code",
   "execution_count": 4,
   "metadata": {
    "vscode": {
     "languageId": "r"
    }
   },
   "outputs": [],
   "source": [
    "datapath <- \"/Users/anabbi/OneDrive - UHN/Documents/INTERCEPT/Data/\"\n",
    "plotpath <- \"/Users/anabbi/OneDrive - UHN/Documents/INTERCEPT/Plots/\"\n",
    "manifestpath <- \"/Users/anabbi/OneDrive - UHN/Documents/INTERCEPT/Manifests/\"\n",
    "gitpath <- \"/Users/anabbi/git/ped_CapTCRseq/\""
   ]
  },
  {
   "cell_type": "code",
   "execution_count": 5,
   "metadata": {
    "vscode": {
     "languageId": "r"
    }
   },
   "outputs": [],
   "source": [
    "h4hpath <- \"/Users/anabbi/Desktop/H4H/INTERCEPT/\""
   ]
  },
  {
   "attachments": {},
   "cell_type": "markdown",
   "metadata": {},
   "source": [
    "# Main"
   ]
  },
  {
   "cell_type": "code",
   "execution_count": 6,
   "metadata": {
    "vscode": {
     "languageId": "r"
    }
   },
   "outputs": [],
   "source": [
    "pbmc_hla_v_j_gliph <- readr::read_rds(paste0(datapath, \"/int_pbmc_hla_v_j_gliph.rds\"))"
   ]
  },
  {
   "cell_type": "code",
   "execution_count": 7,
   "metadata": {
    "vscode": {
     "languageId": "r"
    }
   },
   "outputs": [],
   "source": [
    "# cfdna_hla_v_j_gliph <- readr::read_rds(paste0(datapath, \"/int_cfdna_hla_v_j_gliph.rds\"))"
   ]
  },
  {
   "cell_type": "code",
   "execution_count": 8,
   "metadata": {
    "vscode": {
     "languageId": "r"
    }
   },
   "outputs": [],
   "source": [
    "rownames(pbmc_hla_v_j_gliph) <- pbmc_hla_v_j_gliph$sample_id"
   ]
  },
  {
   "cell_type": "code",
   "execution_count": 9,
   "metadata": {
    "vscode": {
     "languageId": "r"
    }
   },
   "outputs": [
    {
     "data": {
      "text/html": [
       "<style>\n",
       ".list-inline {list-style: none; margin:0; padding: 0}\n",
       ".list-inline>li {display: inline-block}\n",
       ".list-inline>li:not(:last-child)::after {content: \"\\00b7\"; padding: 0 .5ex}\n",
       "</style>\n",
       "<ol class=list-inline><li>534</li><li>8829</li></ol>\n"
      ],
      "text/latex": [
       "\\begin{enumerate*}\n",
       "\\item 534\n",
       "\\item 8829\n",
       "\\end{enumerate*}\n"
      ],
      "text/markdown": [
       "1. 534\n",
       "2. 8829\n",
       "\n",
       "\n"
      ],
      "text/plain": [
       "[1]  534 8829"
      ]
     },
     "metadata": {},
     "output_type": "display_data"
    }
   ],
   "source": [
    "dim(pbmc_hla_v_j_gliph)"
   ]
  },
  {
   "cell_type": "code",
   "execution_count": 10,
   "metadata": {
    "vscode": {
     "languageId": "r"
    }
   },
   "outputs": [
    {
     "data": {
      "text/plain": [
       "\n",
       "  0   1 \n",
       "431 103 "
      ]
     },
     "metadata": {},
     "output_type": "display_data"
    }
   ],
   "source": [
    "table(pbmc_hla_v_j_gliph$Relapse)"
   ]
  },
  {
   "cell_type": "code",
   "execution_count": 11,
   "metadata": {
    "vscode": {
     "languageId": "r"
    }
   },
   "outputs": [
    {
     "data": {
      "text/html": [
       "<table class=\"dataframe\">\n",
       "<caption>A data.frame: 6 x 8829</caption>\n",
       "<thead>\n",
       "\t<tr><th></th><th scope=col>sample_id</th><th scope=col>Patient</th><th scope=col>cycle</th><th scope=col>FOLD</th><th scope=col>ATC</th><th scope=col>Age</th><th scope=col>Disease_type</th><th scope=col>TE_fold</th><th scope=col>CD3</th><th scope=col>EM</th><th scope=col>...</th><th scope=col>G%TDT</th><th scope=col>SG%GE</th><th scope=col>G%TE</th><th scope=col>G%SYE</th><th scope=col>S%P</th><th scope=col>G%GE</th><th scope=col>S%G</th><th scope=col>%YE</th><th scope=col>%G</th><th scope=col>%E</th></tr>\n",
       "\t<tr><th></th><th scope=col>&lt;chr&gt;</th><th scope=col>&lt;chr&gt;</th><th scope=col>&lt;chr&gt;</th><th scope=col>&lt;dbl&gt;</th><th scope=col>&lt;dbl&gt;</th><th scope=col>&lt;dbl&gt;</th><th scope=col>&lt;chr&gt;</th><th scope=col>&lt;dbl&gt;</th><th scope=col>&lt;int&gt;</th><th scope=col>&lt;int&gt;</th><th scope=col>...</th><th scope=col>&lt;dbl&gt;</th><th scope=col>&lt;dbl&gt;</th><th scope=col>&lt;dbl&gt;</th><th scope=col>&lt;dbl&gt;</th><th scope=col>&lt;dbl&gt;</th><th scope=col>&lt;dbl&gt;</th><th scope=col>&lt;dbl&gt;</th><th scope=col>&lt;dbl&gt;</th><th scope=col>&lt;dbl&gt;</th><th scope=col>&lt;dbl&gt;</th></tr>\n",
       "</thead>\n",
       "<tbody>\n",
       "\t<tr><th scope=row>CHP_319_05</th><td>CHP_319_05</td><td>CHP_319</td><td>X05</td><td>1.2</td><td>  0.00</td><td> 1</td><td>HR ALL</td><td>1.2</td><td>0</td><td>NA</td><td>...</td><td>0</td><td>0</td><td>0</td><td>0</td><td>0</td><td>0</td><td>0</td><td>0</td><td>0</td><td>0</td></tr>\n",
       "\t<tr><th scope=row>CHP_323_03</th><td>CHP_323_03</td><td>CHP_323</td><td>X03</td><td>0.0</td><td>786.24</td><td> 1</td><td>HR ALL</td><td>0.0</td><td>0</td><td>NA</td><td>...</td><td>0</td><td>0</td><td>0</td><td>0</td><td>0</td><td>0</td><td>0</td><td>0</td><td>0</td><td>0</td></tr>\n",
       "\t<tr><th scope=row>CHP_323_05</th><td>CHP_323_05</td><td>CHP_323</td><td>X05</td><td>0.0</td><td>979.50</td><td> 1</td><td>HR ALL</td><td>0.0</td><td>0</td><td>NA</td><td>...</td><td>0</td><td>0</td><td>0</td><td>0</td><td>0</td><td>0</td><td>0</td><td>0</td><td>0</td><td>0</td></tr>\n",
       "\t<tr><th scope=row>CHP_324_05</th><td>CHP_324_05</td><td>CHP_324</td><td>X05</td><td>0.0</td><td>  0.00</td><td>12</td><td>T-ALL </td><td>0.0</td><td>0</td><td>NA</td><td>...</td><td>0</td><td>0</td><td>0</td><td>0</td><td>0</td><td>0</td><td>0</td><td>0</td><td>0</td><td>0</td></tr>\n",
       "\t<tr><th scope=row>CHP_328_04</th><td>CHP_328_04</td><td>CHP_328</td><td>X04</td><td>0.0</td><td>130.82</td><td> 7</td><td>SR ALL</td><td>0.0</td><td>0</td><td>NA</td><td>...</td><td>0</td><td>0</td><td>0</td><td>0</td><td>0</td><td>0</td><td>0</td><td>0</td><td>0</td><td>0</td></tr>\n",
       "\t<tr><th scope=row>CHP_328_05</th><td>CHP_328_05</td><td>CHP_328</td><td>X05</td><td>0.0</td><td> 91.16</td><td> 7</td><td>SR ALL</td><td>0.0</td><td>0</td><td>NA</td><td>...</td><td>0</td><td>0</td><td>0</td><td>0</td><td>0</td><td>0</td><td>0</td><td>0</td><td>0</td><td>0</td></tr>\n",
       "</tbody>\n",
       "</table>\n"
      ],
      "text/latex": [
       "A data.frame: 6 x 8829\n",
       "\\begin{tabular}{r|lllllllllllllllllllll}\n",
       "  & sample\\_id & Patient & cycle & FOLD & ATC & Age & Disease\\_type & TE\\_fold & CD3 & EM & ... & G\\%TDT & SG\\%GE & G\\%TE & G\\%SYE & S\\%P & G\\%GE & S\\%G & \\%YE & \\%G & \\%E\\\\\n",
       "  & <chr> & <chr> & <chr> & <dbl> & <dbl> & <dbl> & <chr> & <dbl> & <int> & <int> & ... & <dbl> & <dbl> & <dbl> & <dbl> & <dbl> & <dbl> & <dbl> & <dbl> & <dbl> & <dbl>\\\\\n",
       "\\hline\n",
       "\tCHP\\_319\\_05 & CHP\\_319\\_05 & CHP\\_319 & X05 & 1.2 &   0.00 &  1 & HR ALL & 1.2 & 0 & NA & ... & 0 & 0 & 0 & 0 & 0 & 0 & 0 & 0 & 0 & 0\\\\\n",
       "\tCHP\\_323\\_03 & CHP\\_323\\_03 & CHP\\_323 & X03 & 0.0 & 786.24 &  1 & HR ALL & 0.0 & 0 & NA & ... & 0 & 0 & 0 & 0 & 0 & 0 & 0 & 0 & 0 & 0\\\\\n",
       "\tCHP\\_323\\_05 & CHP\\_323\\_05 & CHP\\_323 & X05 & 0.0 & 979.50 &  1 & HR ALL & 0.0 & 0 & NA & ... & 0 & 0 & 0 & 0 & 0 & 0 & 0 & 0 & 0 & 0\\\\\n",
       "\tCHP\\_324\\_05 & CHP\\_324\\_05 & CHP\\_324 & X05 & 0.0 &   0.00 & 12 & T-ALL  & 0.0 & 0 & NA & ... & 0 & 0 & 0 & 0 & 0 & 0 & 0 & 0 & 0 & 0\\\\\n",
       "\tCHP\\_328\\_04 & CHP\\_328\\_04 & CHP\\_328 & X04 & 0.0 & 130.82 &  7 & SR ALL & 0.0 & 0 & NA & ... & 0 & 0 & 0 & 0 & 0 & 0 & 0 & 0 & 0 & 0\\\\\n",
       "\tCHP\\_328\\_05 & CHP\\_328\\_05 & CHP\\_328 & X05 & 0.0 &  91.16 &  7 & SR ALL & 0.0 & 0 & NA & ... & 0 & 0 & 0 & 0 & 0 & 0 & 0 & 0 & 0 & 0\\\\\n",
       "\\end{tabular}\n"
      ],
      "text/markdown": [
       "\n",
       "A data.frame: 6 x 8829\n",
       "\n",
       "| <!--/--> | sample_id &lt;chr&gt; | Patient &lt;chr&gt; | cycle &lt;chr&gt; | FOLD &lt;dbl&gt; | ATC &lt;dbl&gt; | Age &lt;dbl&gt; | Disease_type &lt;chr&gt; | TE_fold &lt;dbl&gt; | CD3 &lt;int&gt; | EM &lt;int&gt; | ... ... | G%TDT &lt;dbl&gt; | SG%GE &lt;dbl&gt; | G%TE &lt;dbl&gt; | G%SYE &lt;dbl&gt; | S%P &lt;dbl&gt; | G%GE &lt;dbl&gt; | S%G &lt;dbl&gt; | %YE &lt;dbl&gt; | %G &lt;dbl&gt; | %E &lt;dbl&gt; |\n",
       "|---|---|---|---|---|---|---|---|---|---|---|---|---|---|---|---|---|---|---|---|---|---|\n",
       "| CHP_319_05 | CHP_319_05 | CHP_319 | X05 | 1.2 |   0.00 |  1 | HR ALL | 1.2 | 0 | NA | ... | 0 | 0 | 0 | 0 | 0 | 0 | 0 | 0 | 0 | 0 |\n",
       "| CHP_323_03 | CHP_323_03 | CHP_323 | X03 | 0.0 | 786.24 |  1 | HR ALL | 0.0 | 0 | NA | ... | 0 | 0 | 0 | 0 | 0 | 0 | 0 | 0 | 0 | 0 |\n",
       "| CHP_323_05 | CHP_323_05 | CHP_323 | X05 | 0.0 | 979.50 |  1 | HR ALL | 0.0 | 0 | NA | ... | 0 | 0 | 0 | 0 | 0 | 0 | 0 | 0 | 0 | 0 |\n",
       "| CHP_324_05 | CHP_324_05 | CHP_324 | X05 | 0.0 |   0.00 | 12 | T-ALL  | 0.0 | 0 | NA | ... | 0 | 0 | 0 | 0 | 0 | 0 | 0 | 0 | 0 | 0 |\n",
       "| CHP_328_04 | CHP_328_04 | CHP_328 | X04 | 0.0 | 130.82 |  7 | SR ALL | 0.0 | 0 | NA | ... | 0 | 0 | 0 | 0 | 0 | 0 | 0 | 0 | 0 | 0 |\n",
       "| CHP_328_05 | CHP_328_05 | CHP_328 | X05 | 0.0 |  91.16 |  7 | SR ALL | 0.0 | 0 | NA | ... | 0 | 0 | 0 | 0 | 0 | 0 | 0 | 0 | 0 | 0 |\n",
       "\n"
      ],
      "text/plain": [
       "           sample_id  Patient cycle FOLD ATC    Age Disease_type TE_fold CD3 EM\n",
       "CHP_319_05 CHP_319_05 CHP_319 X05   1.2    0.00  1  HR ALL       1.2     0   NA\n",
       "CHP_323_03 CHP_323_03 CHP_323 X03   0.0  786.24  1  HR ALL       0.0     0   NA\n",
       "CHP_323_05 CHP_323_05 CHP_323 X05   0.0  979.50  1  HR ALL       0.0     0   NA\n",
       "CHP_324_05 CHP_324_05 CHP_324 X05   0.0    0.00 12  T-ALL        0.0     0   NA\n",
       "CHP_328_04 CHP_328_04 CHP_328 X04   0.0  130.82  7  SR ALL       0.0     0   NA\n",
       "CHP_328_05 CHP_328_05 CHP_328 X05   0.0   91.16  7  SR ALL       0.0     0   NA\n",
       "           ... G%TDT SG%GE G%TE G%SYE S%P G%GE S%G %YE %G %E\n",
       "CHP_319_05 ... 0     0     0    0     0   0    0   0   0  0 \n",
       "CHP_323_03 ... 0     0     0    0     0   0    0   0   0  0 \n",
       "CHP_323_05 ... 0     0     0    0     0   0    0   0   0  0 \n",
       "CHP_324_05 ... 0     0     0    0     0   0    0   0   0  0 \n",
       "CHP_328_04 ... 0     0     0    0     0   0    0   0   0  0 \n",
       "CHP_328_05 ... 0     0     0    0     0   0    0   0   0  0 "
      ]
     },
     "metadata": {},
     "output_type": "display_data"
    }
   ],
   "source": [
    "head(pbmc_hla_v_j_gliph)"
   ]
  },
  {
   "cell_type": "code",
   "execution_count": 12,
   "metadata": {
    "vscode": {
     "languageId": "r"
    }
   },
   "outputs": [],
   "source": [
    "cols_flow <- c('ATC', 'Naïve%','SCM%','CM%','EM%','TE%','PD1%','LAG3%','TIM3%')\n",
    "cols_others <- c(\"observed_Shannon\")"
   ]
  },
  {
   "cell_type": "code",
   "execution_count": 13,
   "metadata": {
    "vscode": {
     "languageId": "r"
    }
   },
   "outputs": [],
   "source": [
    "pbmc_hla_v_j_gliph$cyclenum <- as.numeric(gsub(\"X0\", \"\", pbmc_hla_v_j_gliph$cycle))"
   ]
  },
  {
   "cell_type": "code",
   "execution_count": 14,
   "metadata": {
    "vscode": {
     "languageId": "r"
    }
   },
   "outputs": [],
   "source": [
    "mymat <- pbmc_hla_v_j_gliph[, c(cols_flow, cols_others)]"
   ]
  },
  {
   "cell_type": "code",
   "execution_count": 15,
   "metadata": {
    "vscode": {
     "languageId": "r"
    }
   },
   "outputs": [],
   "source": [
    "rownames(mymat) <- pbmc_hla_v_j_gliph[[\"sample_id\"]]\n",
    "# remove rows with all NAs\n",
    "mymat <- mymat[rowSums(is.na(mymat)) != ncol(mymat), ]\n",
    "# rmeove those with only 0s and NAs\n",
    "mymat <- mymat[rowSums(mymat, na.rm = TRUE) != 0, ]\n"
   ]
  },
  {
   "cell_type": "code",
   "execution_count": 16,
   "metadata": {
    "vscode": {
     "languageId": "r"
    }
   },
   "outputs": [],
   "source": [
    "pbmc_hla_v_j_gliph <- pbmc_hla_v_j_gliph[rownames(mymat), ]"
   ]
  },
  {
   "cell_type": "code",
   "execution_count": 17,
   "metadata": {
    "vscode": {
     "languageId": "r"
    }
   },
   "outputs": [],
   "source": [
    "mymat_narm <- mymat[rowSums(is.na(mymat)) == 0, ]"
   ]
  },
  {
   "cell_type": "code",
   "execution_count": 18,
   "metadata": {
    "vscode": {
     "languageId": "r"
    }
   },
   "outputs": [],
   "source": [
    "# myvars <- sort(Rfast::colVars(mymat_narm), decreasing = TRUE)\n",
    "# mymat_narm <- mymat_narm[, names(myvars)[myvars > 0]]"
   ]
  },
  {
   "cell_type": "code",
   "execution_count": 19,
   "metadata": {
    "vscode": {
     "languageId": "r"
    }
   },
   "outputs": [],
   "source": [
    "df_narm <- pbmc_hla_v_j_gliph[rownames(mymat_narm), ]"
   ]
  },
  {
   "cell_type": "code",
   "execution_count": 20,
   "metadata": {
    "vscode": {
     "languageId": "r"
    }
   },
   "outputs": [
    {
     "data": {
      "text/html": [
       "<table class=\"dataframe\">\n",
       "<caption>A data.frame: 6 x 8830</caption>\n",
       "<thead>\n",
       "\t<tr><th></th><th scope=col>sample_id</th><th scope=col>Patient</th><th scope=col>cycle</th><th scope=col>FOLD</th><th scope=col>ATC</th><th scope=col>Age</th><th scope=col>Disease_type</th><th scope=col>TE_fold</th><th scope=col>CD3</th><th scope=col>EM</th><th scope=col>...</th><th scope=col>SG%GE</th><th scope=col>G%TE</th><th scope=col>G%SYE</th><th scope=col>S%P</th><th scope=col>G%GE</th><th scope=col>S%G</th><th scope=col>%YE</th><th scope=col>%G</th><th scope=col>%E</th><th scope=col>cyclenum</th></tr>\n",
       "\t<tr><th></th><th scope=col>&lt;chr&gt;</th><th scope=col>&lt;chr&gt;</th><th scope=col>&lt;chr&gt;</th><th scope=col>&lt;dbl&gt;</th><th scope=col>&lt;dbl&gt;</th><th scope=col>&lt;dbl&gt;</th><th scope=col>&lt;chr&gt;</th><th scope=col>&lt;dbl&gt;</th><th scope=col>&lt;int&gt;</th><th scope=col>&lt;int&gt;</th><th scope=col>...</th><th scope=col>&lt;dbl&gt;</th><th scope=col>&lt;dbl&gt;</th><th scope=col>&lt;dbl&gt;</th><th scope=col>&lt;dbl&gt;</th><th scope=col>&lt;dbl&gt;</th><th scope=col>&lt;dbl&gt;</th><th scope=col>&lt;dbl&gt;</th><th scope=col>&lt;dbl&gt;</th><th scope=col>&lt;dbl&gt;</th><th scope=col>&lt;dbl&gt;</th></tr>\n",
       "</thead>\n",
       "<tbody>\n",
       "\t<tr><th scope=row>CHP_343_02</th><td>CHP_343_02</td><td>CHP_343</td><td>X02</td><td>0.3</td><td>459.04</td><td> 8</td><td>EWS</td><td>0.3</td><td>1135</td><td> 16</td><td>...</td><td>0</td><td>0</td><td>0</td><td>0</td><td>0</td><td>0</td><td>0</td><td>0</td><td>0</td><td>2</td></tr>\n",
       "\t<tr><th scope=row>CHP_343_03</th><td>CHP_343_03</td><td>CHP_343</td><td>X03</td><td>0.6</td><td>370.30</td><td> 8</td><td>EWS</td><td>0.6</td><td>1650</td><td> 16</td><td>...</td><td>0</td><td>0</td><td>0</td><td>0</td><td>0</td><td>0</td><td>0</td><td>0</td><td>0</td><td>3</td></tr>\n",
       "\t<tr><th scope=row>CHP_343_04</th><td>CHP_343_04</td><td>CHP_343</td><td>X04</td><td>1.5</td><td>536.63</td><td> 8</td><td>EWS</td><td>1.5</td><td>2612</td><td>146</td><td>...</td><td>0</td><td>0</td><td>0</td><td>0</td><td>0</td><td>0</td><td>0</td><td>0</td><td>0</td><td>4</td></tr>\n",
       "\t<tr><th scope=row>CHP_343_05</th><td>CHP_343_05</td><td>CHP_343</td><td>X05</td><td>2.1</td><td>371.20</td><td> 8</td><td>EWS</td><td>2.1</td><td>2436</td><td>152</td><td>...</td><td>0</td><td>0</td><td>0</td><td>0</td><td>0</td><td>0</td><td>0</td><td>0</td><td>0</td><td>5</td></tr>\n",
       "\t<tr><th scope=row>CHP_346_01</th><td>CHP_346_01</td><td>CHP_346</td><td>X01</td><td>0.8</td><td>331.70</td><td> 1</td><td>NB </td><td>0.8</td><td> 637</td><td>  0</td><td>...</td><td>0</td><td>0</td><td>0</td><td>0</td><td>0</td><td>0</td><td>0</td><td>0</td><td>0</td><td>1</td></tr>\n",
       "\t<tr><th scope=row>CHP_347_01</th><td>CHP_347_01</td><td>CHP_347</td><td>X01</td><td>0.8</td><td>126.72</td><td>13</td><td>ALL</td><td>0.8</td><td>1701</td><td>  1</td><td>...</td><td>0</td><td>0</td><td>0</td><td>0</td><td>0</td><td>0</td><td>0</td><td>0</td><td>0</td><td>1</td></tr>\n",
       "</tbody>\n",
       "</table>\n"
      ],
      "text/latex": [
       "A data.frame: 6 x 8830\n",
       "\\begin{tabular}{r|lllllllllllllllllllll}\n",
       "  & sample\\_id & Patient & cycle & FOLD & ATC & Age & Disease\\_type & TE\\_fold & CD3 & EM & ... & SG\\%GE & G\\%TE & G\\%SYE & S\\%P & G\\%GE & S\\%G & \\%YE & \\%G & \\%E & cyclenum\\\\\n",
       "  & <chr> & <chr> & <chr> & <dbl> & <dbl> & <dbl> & <chr> & <dbl> & <int> & <int> & ... & <dbl> & <dbl> & <dbl> & <dbl> & <dbl> & <dbl> & <dbl> & <dbl> & <dbl> & <dbl>\\\\\n",
       "\\hline\n",
       "\tCHP\\_343\\_02 & CHP\\_343\\_02 & CHP\\_343 & X02 & 0.3 & 459.04 &  8 & EWS & 0.3 & 1135 &  16 & ... & 0 & 0 & 0 & 0 & 0 & 0 & 0 & 0 & 0 & 2\\\\\n",
       "\tCHP\\_343\\_03 & CHP\\_343\\_03 & CHP\\_343 & X03 & 0.6 & 370.30 &  8 & EWS & 0.6 & 1650 &  16 & ... & 0 & 0 & 0 & 0 & 0 & 0 & 0 & 0 & 0 & 3\\\\\n",
       "\tCHP\\_343\\_04 & CHP\\_343\\_04 & CHP\\_343 & X04 & 1.5 & 536.63 &  8 & EWS & 1.5 & 2612 & 146 & ... & 0 & 0 & 0 & 0 & 0 & 0 & 0 & 0 & 0 & 4\\\\\n",
       "\tCHP\\_343\\_05 & CHP\\_343\\_05 & CHP\\_343 & X05 & 2.1 & 371.20 &  8 & EWS & 2.1 & 2436 & 152 & ... & 0 & 0 & 0 & 0 & 0 & 0 & 0 & 0 & 0 & 5\\\\\n",
       "\tCHP\\_346\\_01 & CHP\\_346\\_01 & CHP\\_346 & X01 & 0.8 & 331.70 &  1 & NB  & 0.8 &  637 &   0 & ... & 0 & 0 & 0 & 0 & 0 & 0 & 0 & 0 & 0 & 1\\\\\n",
       "\tCHP\\_347\\_01 & CHP\\_347\\_01 & CHP\\_347 & X01 & 0.8 & 126.72 & 13 & ALL & 0.8 & 1701 &   1 & ... & 0 & 0 & 0 & 0 & 0 & 0 & 0 & 0 & 0 & 1\\\\\n",
       "\\end{tabular}\n"
      ],
      "text/markdown": [
       "\n",
       "A data.frame: 6 x 8830\n",
       "\n",
       "| <!--/--> | sample_id &lt;chr&gt; | Patient &lt;chr&gt; | cycle &lt;chr&gt; | FOLD &lt;dbl&gt; | ATC &lt;dbl&gt; | Age &lt;dbl&gt; | Disease_type &lt;chr&gt; | TE_fold &lt;dbl&gt; | CD3 &lt;int&gt; | EM &lt;int&gt; | ... ... | SG%GE &lt;dbl&gt; | G%TE &lt;dbl&gt; | G%SYE &lt;dbl&gt; | S%P &lt;dbl&gt; | G%GE &lt;dbl&gt; | S%G &lt;dbl&gt; | %YE &lt;dbl&gt; | %G &lt;dbl&gt; | %E &lt;dbl&gt; | cyclenum &lt;dbl&gt; |\n",
       "|---|---|---|---|---|---|---|---|---|---|---|---|---|---|---|---|---|---|---|---|---|---|\n",
       "| CHP_343_02 | CHP_343_02 | CHP_343 | X02 | 0.3 | 459.04 |  8 | EWS | 0.3 | 1135 |  16 | ... | 0 | 0 | 0 | 0 | 0 | 0 | 0 | 0 | 0 | 2 |\n",
       "| CHP_343_03 | CHP_343_03 | CHP_343 | X03 | 0.6 | 370.30 |  8 | EWS | 0.6 | 1650 |  16 | ... | 0 | 0 | 0 | 0 | 0 | 0 | 0 | 0 | 0 | 3 |\n",
       "| CHP_343_04 | CHP_343_04 | CHP_343 | X04 | 1.5 | 536.63 |  8 | EWS | 1.5 | 2612 | 146 | ... | 0 | 0 | 0 | 0 | 0 | 0 | 0 | 0 | 0 | 4 |\n",
       "| CHP_343_05 | CHP_343_05 | CHP_343 | X05 | 2.1 | 371.20 |  8 | EWS | 2.1 | 2436 | 152 | ... | 0 | 0 | 0 | 0 | 0 | 0 | 0 | 0 | 0 | 5 |\n",
       "| CHP_346_01 | CHP_346_01 | CHP_346 | X01 | 0.8 | 331.70 |  1 | NB  | 0.8 |  637 |   0 | ... | 0 | 0 | 0 | 0 | 0 | 0 | 0 | 0 | 0 | 1 |\n",
       "| CHP_347_01 | CHP_347_01 | CHP_347 | X01 | 0.8 | 126.72 | 13 | ALL | 0.8 | 1701 |   1 | ... | 0 | 0 | 0 | 0 | 0 | 0 | 0 | 0 | 0 | 1 |\n",
       "\n"
      ],
      "text/plain": [
       "           sample_id  Patient cycle FOLD ATC    Age Disease_type TE_fold CD3 \n",
       "CHP_343_02 CHP_343_02 CHP_343 X02   0.3  459.04  8  EWS          0.3     1135\n",
       "CHP_343_03 CHP_343_03 CHP_343 X03   0.6  370.30  8  EWS          0.6     1650\n",
       "CHP_343_04 CHP_343_04 CHP_343 X04   1.5  536.63  8  EWS          1.5     2612\n",
       "CHP_343_05 CHP_343_05 CHP_343 X05   2.1  371.20  8  EWS          2.1     2436\n",
       "CHP_346_01 CHP_346_01 CHP_346 X01   0.8  331.70  1  NB           0.8      637\n",
       "CHP_347_01 CHP_347_01 CHP_347 X01   0.8  126.72 13  ALL          0.8     1701\n",
       "           EM  ... SG%GE G%TE G%SYE S%P G%GE S%G %YE %G %E cyclenum\n",
       "CHP_343_02  16 ... 0     0    0     0   0    0   0   0  0  2       \n",
       "CHP_343_03  16 ... 0     0    0     0   0    0   0   0  0  3       \n",
       "CHP_343_04 146 ... 0     0    0     0   0    0   0   0  0  4       \n",
       "CHP_343_05 152 ... 0     0    0     0   0    0   0   0  0  5       \n",
       "CHP_346_01   0 ... 0     0    0     0   0    0   0   0  0  1       \n",
       "CHP_347_01   1 ... 0     0    0     0   0    0   0   0  0  1       "
      ]
     },
     "metadata": {},
     "output_type": "display_data"
    }
   ],
   "source": [
    "head(df_narm)"
   ]
  },
  {
   "cell_type": "code",
   "execution_count": 21,
   "metadata": {
    "vscode": {
     "languageId": "r"
    }
   },
   "outputs": [
    {
     "data": {
      "text/html": [
       "<style>\n",
       ".list-inline {list-style: none; margin:0; padding: 0}\n",
       ".list-inline>li {display: inline-block}\n",
       ".list-inline>li:not(:last-child)::after {content: \"\\00b7\"; padding: 0 .5ex}\n",
       "</style>\n",
       "<ol class=list-inline><li>97</li><li>8830</li></ol>\n"
      ],
      "text/latex": [
       "\\begin{enumerate*}\n",
       "\\item 97\n",
       "\\item 8830\n",
       "\\end{enumerate*}\n"
      ],
      "text/markdown": [
       "1. 97\n",
       "2. 8830\n",
       "\n",
       "\n"
      ],
      "text/plain": [
       "[1]   97 8830"
      ]
     },
     "metadata": {},
     "output_type": "display_data"
    }
   ],
   "source": [
    "dim(df_narm)"
   ]
  },
  {
   "cell_type": "code",
   "execution_count": 22,
   "metadata": {
    "vscode": {
     "languageId": "r"
    }
   },
   "outputs": [
    {
     "data": {
      "text/html": [
       "<table class=\"dataframe\">\n",
       "<caption>A data.frame: 6 x 10</caption>\n",
       "<thead>\n",
       "\t<tr><th></th><th scope=col>ATC</th><th scope=col>Naïve%</th><th scope=col>SCM%</th><th scope=col>CM%</th><th scope=col>EM%</th><th scope=col>TE%</th><th scope=col>PD1%</th><th scope=col>LAG3%</th><th scope=col>TIM3%</th><th scope=col>observed_Shannon</th></tr>\n",
       "\t<tr><th></th><th scope=col>&lt;dbl&gt;</th><th scope=col>&lt;dbl&gt;</th><th scope=col>&lt;dbl&gt;</th><th scope=col>&lt;dbl&gt;</th><th scope=col>&lt;dbl&gt;</th><th scope=col>&lt;dbl&gt;</th><th scope=col>&lt;dbl&gt;</th><th scope=col>&lt;dbl&gt;</th><th scope=col>&lt;dbl&gt;</th><th scope=col>&lt;dbl&gt;</th></tr>\n",
       "</thead>\n",
       "<tbody>\n",
       "\t<tr><th scope=row>CHP_343_02</th><td>459.04</td><td> 0.0000000</td><td>6.6079295</td><td>23.4361233</td><td>1.40969163</td><td>68.546256</td><td>12.158590</td><td>33.127753</td><td>12.158590</td><td> 21.422</td></tr>\n",
       "\t<tr><th scope=row>CHP_343_03</th><td>370.30</td><td> 0.2424242</td><td>3.9393939</td><td>82.0000000</td><td>0.96969697</td><td>12.848485</td><td>36.060606</td><td> 8.000000</td><td>36.060606</td><td> 26.992</td></tr>\n",
       "\t<tr><th scope=row>CHP_343_04</th><td>536.63</td><td> 1.5313936</td><td>1.3016845</td><td>46.5543645</td><td>5.58958652</td><td>45.022971</td><td>45.022971</td><td>16.768760</td><td>45.022971</td><td> 28.222</td></tr>\n",
       "\t<tr><th scope=row>CHP_343_05</th><td>371.20</td><td> 1.2315271</td><td>0.7389163</td><td>27.0525452</td><td>6.23973727</td><td>64.737274</td><td>20.402299</td><td>26.929392</td><td>20.402299</td><td> 26.774</td></tr>\n",
       "\t<tr><th scope=row>CHP_346_01</th><td>331.70</td><td>94.6624804</td><td>0.1569859</td><td> 0.7849294</td><td>0.00000000</td><td> 4.395604</td><td> 5.180534</td><td> 3.767661</td><td> 5.180534</td><td> 29.129</td></tr>\n",
       "\t<tr><th scope=row>CHP_347_01</th><td>126.72</td><td>21.1640212</td><td>0.0000000</td><td> 0.2351558</td><td>0.05878895</td><td>78.542034</td><td>17.930629</td><td> 2.410347</td><td>17.930629</td><td>106.911</td></tr>\n",
       "</tbody>\n",
       "</table>\n"
      ],
      "text/latex": [
       "A data.frame: 6 x 10\n",
       "\\begin{tabular}{r|llllllllll}\n",
       "  & ATC & Naïve\\% & SCM\\% & CM\\% & EM\\% & TE\\% & PD1\\% & LAG3\\% & TIM3\\% & observed\\_Shannon\\\\\n",
       "  & <dbl> & <dbl> & <dbl> & <dbl> & <dbl> & <dbl> & <dbl> & <dbl> & <dbl> & <dbl>\\\\\n",
       "\\hline\n",
       "\tCHP\\_343\\_02 & 459.04 &  0.0000000 & 6.6079295 & 23.4361233 & 1.40969163 & 68.546256 & 12.158590 & 33.127753 & 12.158590 &  21.422\\\\\n",
       "\tCHP\\_343\\_03 & 370.30 &  0.2424242 & 3.9393939 & 82.0000000 & 0.96969697 & 12.848485 & 36.060606 &  8.000000 & 36.060606 &  26.992\\\\\n",
       "\tCHP\\_343\\_04 & 536.63 &  1.5313936 & 1.3016845 & 46.5543645 & 5.58958652 & 45.022971 & 45.022971 & 16.768760 & 45.022971 &  28.222\\\\\n",
       "\tCHP\\_343\\_05 & 371.20 &  1.2315271 & 0.7389163 & 27.0525452 & 6.23973727 & 64.737274 & 20.402299 & 26.929392 & 20.402299 &  26.774\\\\\n",
       "\tCHP\\_346\\_01 & 331.70 & 94.6624804 & 0.1569859 &  0.7849294 & 0.00000000 &  4.395604 &  5.180534 &  3.767661 &  5.180534 &  29.129\\\\\n",
       "\tCHP\\_347\\_01 & 126.72 & 21.1640212 & 0.0000000 &  0.2351558 & 0.05878895 & 78.542034 & 17.930629 &  2.410347 & 17.930629 & 106.911\\\\\n",
       "\\end{tabular}\n"
      ],
      "text/markdown": [
       "\n",
       "A data.frame: 6 x 10\n",
       "\n",
       "| <!--/--> | ATC &lt;dbl&gt; | Naïve% &lt;dbl&gt; | SCM% &lt;dbl&gt; | CM% &lt;dbl&gt; | EM% &lt;dbl&gt; | TE% &lt;dbl&gt; | PD1% &lt;dbl&gt; | LAG3% &lt;dbl&gt; | TIM3% &lt;dbl&gt; | observed_Shannon &lt;dbl&gt; |\n",
       "|---|---|---|---|---|---|---|---|---|---|---|\n",
       "| CHP_343_02 | 459.04 |  0.0000000 | 6.6079295 | 23.4361233 | 1.40969163 | 68.546256 | 12.158590 | 33.127753 | 12.158590 |  21.422 |\n",
       "| CHP_343_03 | 370.30 |  0.2424242 | 3.9393939 | 82.0000000 | 0.96969697 | 12.848485 | 36.060606 |  8.000000 | 36.060606 |  26.992 |\n",
       "| CHP_343_04 | 536.63 |  1.5313936 | 1.3016845 | 46.5543645 | 5.58958652 | 45.022971 | 45.022971 | 16.768760 | 45.022971 |  28.222 |\n",
       "| CHP_343_05 | 371.20 |  1.2315271 | 0.7389163 | 27.0525452 | 6.23973727 | 64.737274 | 20.402299 | 26.929392 | 20.402299 |  26.774 |\n",
       "| CHP_346_01 | 331.70 | 94.6624804 | 0.1569859 |  0.7849294 | 0.00000000 |  4.395604 |  5.180534 |  3.767661 |  5.180534 |  29.129 |\n",
       "| CHP_347_01 | 126.72 | 21.1640212 | 0.0000000 |  0.2351558 | 0.05878895 | 78.542034 | 17.930629 |  2.410347 | 17.930629 | 106.911 |\n",
       "\n"
      ],
      "text/plain": [
       "           ATC    Naïve%     SCM%      CM%        EM%        TE%      \n",
       "CHP_343_02 459.04  0.0000000 6.6079295 23.4361233 1.40969163 68.546256\n",
       "CHP_343_03 370.30  0.2424242 3.9393939 82.0000000 0.96969697 12.848485\n",
       "CHP_343_04 536.63  1.5313936 1.3016845 46.5543645 5.58958652 45.022971\n",
       "CHP_343_05 371.20  1.2315271 0.7389163 27.0525452 6.23973727 64.737274\n",
       "CHP_346_01 331.70 94.6624804 0.1569859  0.7849294 0.00000000  4.395604\n",
       "CHP_347_01 126.72 21.1640212 0.0000000  0.2351558 0.05878895 78.542034\n",
       "           PD1%      LAG3%     TIM3%     observed_Shannon\n",
       "CHP_343_02 12.158590 33.127753 12.158590  21.422         \n",
       "CHP_343_03 36.060606  8.000000 36.060606  26.992         \n",
       "CHP_343_04 45.022971 16.768760 45.022971  28.222         \n",
       "CHP_343_05 20.402299 26.929392 20.402299  26.774         \n",
       "CHP_346_01  5.180534  3.767661  5.180534  29.129         \n",
       "CHP_347_01 17.930629  2.410347 17.930629 106.911         "
      ]
     },
     "metadata": {},
     "output_type": "display_data"
    }
   ],
   "source": [
    "head(mymat_narm)"
   ]
  },
  {
   "cell_type": "code",
   "execution_count": 23,
   "metadata": {
    "vscode": {
     "languageId": "r"
    }
   },
   "outputs": [],
   "source": [
    "# # Get median of mymat_narm columns for each cancergroup using df_narm\n",
    "# medians <- apply(mymat_narm, 2, function(x) tapply(x, df_narm$cancergroup, median, na.rm = TRUE))\n",
    "# mads <- apply(mymat_narm, 2, function(x) tapply(x, df_narm$cancergroup, mad, na.rm = TRUE))"
   ]
  },
  {
   "cell_type": "code",
   "execution_count": 24,
   "metadata": {
    "vscode": {
     "languageId": "r"
    }
   },
   "outputs": [
    {
     "data": {
      "text/html": [
       "<table class=\"dataframe\">\n",
       "<caption>A data.frame: 6 x 10</caption>\n",
       "<thead>\n",
       "\t<tr><th></th><th scope=col>ATC</th><th scope=col>Naïve%</th><th scope=col>SCM%</th><th scope=col>CM%</th><th scope=col>EM%</th><th scope=col>TE%</th><th scope=col>PD1%</th><th scope=col>LAG3%</th><th scope=col>TIM3%</th><th scope=col>observed_Shannon</th></tr>\n",
       "\t<tr><th></th><th scope=col>&lt;dbl&gt;</th><th scope=col>&lt;dbl&gt;</th><th scope=col>&lt;dbl&gt;</th><th scope=col>&lt;dbl&gt;</th><th scope=col>&lt;dbl&gt;</th><th scope=col>&lt;dbl&gt;</th><th scope=col>&lt;dbl&gt;</th><th scope=col>&lt;dbl&gt;</th><th scope=col>&lt;dbl&gt;</th><th scope=col>&lt;dbl&gt;</th></tr>\n",
       "</thead>\n",
       "<tbody>\n",
       "\t<tr><th scope=row>CHP_343_02</th><td>459.04</td><td> 0.0000000</td><td>6.6079295</td><td>23.4361233</td><td>1.40969163</td><td>68.546256</td><td>12.158590</td><td>33.127753</td><td>12.158590</td><td> 21.422</td></tr>\n",
       "\t<tr><th scope=row>CHP_343_03</th><td>370.30</td><td> 0.2424242</td><td>3.9393939</td><td>82.0000000</td><td>0.96969697</td><td>12.848485</td><td>36.060606</td><td> 8.000000</td><td>36.060606</td><td> 26.992</td></tr>\n",
       "\t<tr><th scope=row>CHP_343_04</th><td>536.63</td><td> 1.5313936</td><td>1.3016845</td><td>46.5543645</td><td>5.58958652</td><td>45.022971</td><td>45.022971</td><td>16.768760</td><td>45.022971</td><td> 28.222</td></tr>\n",
       "\t<tr><th scope=row>CHP_343_05</th><td>371.20</td><td> 1.2315271</td><td>0.7389163</td><td>27.0525452</td><td>6.23973727</td><td>64.737274</td><td>20.402299</td><td>26.929392</td><td>20.402299</td><td> 26.774</td></tr>\n",
       "\t<tr><th scope=row>CHP_346_01</th><td>331.70</td><td>94.6624804</td><td>0.1569859</td><td> 0.7849294</td><td>0.00000000</td><td> 4.395604</td><td> 5.180534</td><td> 3.767661</td><td> 5.180534</td><td> 29.129</td></tr>\n",
       "\t<tr><th scope=row>CHP_347_01</th><td>126.72</td><td>21.1640212</td><td>0.0000000</td><td> 0.2351558</td><td>0.05878895</td><td>78.542034</td><td>17.930629</td><td> 2.410347</td><td>17.930629</td><td>106.911</td></tr>\n",
       "</tbody>\n",
       "</table>\n"
      ],
      "text/latex": [
       "A data.frame: 6 x 10\n",
       "\\begin{tabular}{r|llllllllll}\n",
       "  & ATC & Naïve\\% & SCM\\% & CM\\% & EM\\% & TE\\% & PD1\\% & LAG3\\% & TIM3\\% & observed\\_Shannon\\\\\n",
       "  & <dbl> & <dbl> & <dbl> & <dbl> & <dbl> & <dbl> & <dbl> & <dbl> & <dbl> & <dbl>\\\\\n",
       "\\hline\n",
       "\tCHP\\_343\\_02 & 459.04 &  0.0000000 & 6.6079295 & 23.4361233 & 1.40969163 & 68.546256 & 12.158590 & 33.127753 & 12.158590 &  21.422\\\\\n",
       "\tCHP\\_343\\_03 & 370.30 &  0.2424242 & 3.9393939 & 82.0000000 & 0.96969697 & 12.848485 & 36.060606 &  8.000000 & 36.060606 &  26.992\\\\\n",
       "\tCHP\\_343\\_04 & 536.63 &  1.5313936 & 1.3016845 & 46.5543645 & 5.58958652 & 45.022971 & 45.022971 & 16.768760 & 45.022971 &  28.222\\\\\n",
       "\tCHP\\_343\\_05 & 371.20 &  1.2315271 & 0.7389163 & 27.0525452 & 6.23973727 & 64.737274 & 20.402299 & 26.929392 & 20.402299 &  26.774\\\\\n",
       "\tCHP\\_346\\_01 & 331.70 & 94.6624804 & 0.1569859 &  0.7849294 & 0.00000000 &  4.395604 &  5.180534 &  3.767661 &  5.180534 &  29.129\\\\\n",
       "\tCHP\\_347\\_01 & 126.72 & 21.1640212 & 0.0000000 &  0.2351558 & 0.05878895 & 78.542034 & 17.930629 &  2.410347 & 17.930629 & 106.911\\\\\n",
       "\\end{tabular}\n"
      ],
      "text/markdown": [
       "\n",
       "A data.frame: 6 x 10\n",
       "\n",
       "| <!--/--> | ATC &lt;dbl&gt; | Naïve% &lt;dbl&gt; | SCM% &lt;dbl&gt; | CM% &lt;dbl&gt; | EM% &lt;dbl&gt; | TE% &lt;dbl&gt; | PD1% &lt;dbl&gt; | LAG3% &lt;dbl&gt; | TIM3% &lt;dbl&gt; | observed_Shannon &lt;dbl&gt; |\n",
       "|---|---|---|---|---|---|---|---|---|---|---|\n",
       "| CHP_343_02 | 459.04 |  0.0000000 | 6.6079295 | 23.4361233 | 1.40969163 | 68.546256 | 12.158590 | 33.127753 | 12.158590 |  21.422 |\n",
       "| CHP_343_03 | 370.30 |  0.2424242 | 3.9393939 | 82.0000000 | 0.96969697 | 12.848485 | 36.060606 |  8.000000 | 36.060606 |  26.992 |\n",
       "| CHP_343_04 | 536.63 |  1.5313936 | 1.3016845 | 46.5543645 | 5.58958652 | 45.022971 | 45.022971 | 16.768760 | 45.022971 |  28.222 |\n",
       "| CHP_343_05 | 371.20 |  1.2315271 | 0.7389163 | 27.0525452 | 6.23973727 | 64.737274 | 20.402299 | 26.929392 | 20.402299 |  26.774 |\n",
       "| CHP_346_01 | 331.70 | 94.6624804 | 0.1569859 |  0.7849294 | 0.00000000 |  4.395604 |  5.180534 |  3.767661 |  5.180534 |  29.129 |\n",
       "| CHP_347_01 | 126.72 | 21.1640212 | 0.0000000 |  0.2351558 | 0.05878895 | 78.542034 | 17.930629 |  2.410347 | 17.930629 | 106.911 |\n",
       "\n"
      ],
      "text/plain": [
       "           ATC    Naïve%     SCM%      CM%        EM%        TE%      \n",
       "CHP_343_02 459.04  0.0000000 6.6079295 23.4361233 1.40969163 68.546256\n",
       "CHP_343_03 370.30  0.2424242 3.9393939 82.0000000 0.96969697 12.848485\n",
       "CHP_343_04 536.63  1.5313936 1.3016845 46.5543645 5.58958652 45.022971\n",
       "CHP_343_05 371.20  1.2315271 0.7389163 27.0525452 6.23973727 64.737274\n",
       "CHP_346_01 331.70 94.6624804 0.1569859  0.7849294 0.00000000  4.395604\n",
       "CHP_347_01 126.72 21.1640212 0.0000000  0.2351558 0.05878895 78.542034\n",
       "           PD1%      LAG3%     TIM3%     observed_Shannon\n",
       "CHP_343_02 12.158590 33.127753 12.158590  21.422         \n",
       "CHP_343_03 36.060606  8.000000 36.060606  26.992         \n",
       "CHP_343_04 45.022971 16.768760 45.022971  28.222         \n",
       "CHP_343_05 20.402299 26.929392 20.402299  26.774         \n",
       "CHP_346_01  5.180534  3.767661  5.180534  29.129         \n",
       "CHP_347_01 17.930629  2.410347 17.930629 106.911         "
      ]
     },
     "metadata": {},
     "output_type": "display_data"
    }
   ],
   "source": [
    "head(mymat_narm)"
   ]
  },
  {
   "cell_type": "code",
   "execution_count": 25,
   "metadata": {
    "vscode": {
     "languageId": "r"
    }
   },
   "outputs": [
    {
     "data": {
      "text/html": [
       "<table class=\"dataframe\">\n",
       "<caption>A data.frame: 6 x 8830</caption>\n",
       "<thead>\n",
       "\t<tr><th></th><th scope=col>sample_id</th><th scope=col>Patient</th><th scope=col>cycle</th><th scope=col>FOLD</th><th scope=col>ATC</th><th scope=col>Age</th><th scope=col>Disease_type</th><th scope=col>TE_fold</th><th scope=col>CD3</th><th scope=col>EM</th><th scope=col>...</th><th scope=col>SG%GE</th><th scope=col>G%TE</th><th scope=col>G%SYE</th><th scope=col>S%P</th><th scope=col>G%GE</th><th scope=col>S%G</th><th scope=col>%YE</th><th scope=col>%G</th><th scope=col>%E</th><th scope=col>cyclenum</th></tr>\n",
       "\t<tr><th></th><th scope=col>&lt;chr&gt;</th><th scope=col>&lt;chr&gt;</th><th scope=col>&lt;chr&gt;</th><th scope=col>&lt;dbl&gt;</th><th scope=col>&lt;dbl&gt;</th><th scope=col>&lt;dbl&gt;</th><th scope=col>&lt;chr&gt;</th><th scope=col>&lt;dbl&gt;</th><th scope=col>&lt;int&gt;</th><th scope=col>&lt;int&gt;</th><th scope=col>...</th><th scope=col>&lt;dbl&gt;</th><th scope=col>&lt;dbl&gt;</th><th scope=col>&lt;dbl&gt;</th><th scope=col>&lt;dbl&gt;</th><th scope=col>&lt;dbl&gt;</th><th scope=col>&lt;dbl&gt;</th><th scope=col>&lt;dbl&gt;</th><th scope=col>&lt;dbl&gt;</th><th scope=col>&lt;dbl&gt;</th><th scope=col>&lt;dbl&gt;</th></tr>\n",
       "</thead>\n",
       "<tbody>\n",
       "\t<tr><th scope=row>CHP_343_02</th><td>CHP_343_02</td><td>CHP_343</td><td>X02</td><td>0.3</td><td>459.04</td><td> 8</td><td>EWS</td><td>0.3</td><td>1135</td><td> 16</td><td>...</td><td>0</td><td>0</td><td>0</td><td>0</td><td>0</td><td>0</td><td>0</td><td>0</td><td>0</td><td>2</td></tr>\n",
       "\t<tr><th scope=row>CHP_343_03</th><td>CHP_343_03</td><td>CHP_343</td><td>X03</td><td>0.6</td><td>370.30</td><td> 8</td><td>EWS</td><td>0.6</td><td>1650</td><td> 16</td><td>...</td><td>0</td><td>0</td><td>0</td><td>0</td><td>0</td><td>0</td><td>0</td><td>0</td><td>0</td><td>3</td></tr>\n",
       "\t<tr><th scope=row>CHP_343_04</th><td>CHP_343_04</td><td>CHP_343</td><td>X04</td><td>1.5</td><td>536.63</td><td> 8</td><td>EWS</td><td>1.5</td><td>2612</td><td>146</td><td>...</td><td>0</td><td>0</td><td>0</td><td>0</td><td>0</td><td>0</td><td>0</td><td>0</td><td>0</td><td>4</td></tr>\n",
       "\t<tr><th scope=row>CHP_343_05</th><td>CHP_343_05</td><td>CHP_343</td><td>X05</td><td>2.1</td><td>371.20</td><td> 8</td><td>EWS</td><td>2.1</td><td>2436</td><td>152</td><td>...</td><td>0</td><td>0</td><td>0</td><td>0</td><td>0</td><td>0</td><td>0</td><td>0</td><td>0</td><td>5</td></tr>\n",
       "\t<tr><th scope=row>CHP_346_01</th><td>CHP_346_01</td><td>CHP_346</td><td>X01</td><td>0.8</td><td>331.70</td><td> 1</td><td>NB </td><td>0.8</td><td> 637</td><td>  0</td><td>...</td><td>0</td><td>0</td><td>0</td><td>0</td><td>0</td><td>0</td><td>0</td><td>0</td><td>0</td><td>1</td></tr>\n",
       "\t<tr><th scope=row>CHP_347_01</th><td>CHP_347_01</td><td>CHP_347</td><td>X01</td><td>0.8</td><td>126.72</td><td>13</td><td>ALL</td><td>0.8</td><td>1701</td><td>  1</td><td>...</td><td>0</td><td>0</td><td>0</td><td>0</td><td>0</td><td>0</td><td>0</td><td>0</td><td>0</td><td>1</td></tr>\n",
       "</tbody>\n",
       "</table>\n"
      ],
      "text/latex": [
       "A data.frame: 6 x 8830\n",
       "\\begin{tabular}{r|lllllllllllllllllllll}\n",
       "  & sample\\_id & Patient & cycle & FOLD & ATC & Age & Disease\\_type & TE\\_fold & CD3 & EM & ... & SG\\%GE & G\\%TE & G\\%SYE & S\\%P & G\\%GE & S\\%G & \\%YE & \\%G & \\%E & cyclenum\\\\\n",
       "  & <chr> & <chr> & <chr> & <dbl> & <dbl> & <dbl> & <chr> & <dbl> & <int> & <int> & ... & <dbl> & <dbl> & <dbl> & <dbl> & <dbl> & <dbl> & <dbl> & <dbl> & <dbl> & <dbl>\\\\\n",
       "\\hline\n",
       "\tCHP\\_343\\_02 & CHP\\_343\\_02 & CHP\\_343 & X02 & 0.3 & 459.04 &  8 & EWS & 0.3 & 1135 &  16 & ... & 0 & 0 & 0 & 0 & 0 & 0 & 0 & 0 & 0 & 2\\\\\n",
       "\tCHP\\_343\\_03 & CHP\\_343\\_03 & CHP\\_343 & X03 & 0.6 & 370.30 &  8 & EWS & 0.6 & 1650 &  16 & ... & 0 & 0 & 0 & 0 & 0 & 0 & 0 & 0 & 0 & 3\\\\\n",
       "\tCHP\\_343\\_04 & CHP\\_343\\_04 & CHP\\_343 & X04 & 1.5 & 536.63 &  8 & EWS & 1.5 & 2612 & 146 & ... & 0 & 0 & 0 & 0 & 0 & 0 & 0 & 0 & 0 & 4\\\\\n",
       "\tCHP\\_343\\_05 & CHP\\_343\\_05 & CHP\\_343 & X05 & 2.1 & 371.20 &  8 & EWS & 2.1 & 2436 & 152 & ... & 0 & 0 & 0 & 0 & 0 & 0 & 0 & 0 & 0 & 5\\\\\n",
       "\tCHP\\_346\\_01 & CHP\\_346\\_01 & CHP\\_346 & X01 & 0.8 & 331.70 &  1 & NB  & 0.8 &  637 &   0 & ... & 0 & 0 & 0 & 0 & 0 & 0 & 0 & 0 & 0 & 1\\\\\n",
       "\tCHP\\_347\\_01 & CHP\\_347\\_01 & CHP\\_347 & X01 & 0.8 & 126.72 & 13 & ALL & 0.8 & 1701 &   1 & ... & 0 & 0 & 0 & 0 & 0 & 0 & 0 & 0 & 0 & 1\\\\\n",
       "\\end{tabular}\n"
      ],
      "text/markdown": [
       "\n",
       "A data.frame: 6 x 8830\n",
       "\n",
       "| <!--/--> | sample_id &lt;chr&gt; | Patient &lt;chr&gt; | cycle &lt;chr&gt; | FOLD &lt;dbl&gt; | ATC &lt;dbl&gt; | Age &lt;dbl&gt; | Disease_type &lt;chr&gt; | TE_fold &lt;dbl&gt; | CD3 &lt;int&gt; | EM &lt;int&gt; | ... ... | SG%GE &lt;dbl&gt; | G%TE &lt;dbl&gt; | G%SYE &lt;dbl&gt; | S%P &lt;dbl&gt; | G%GE &lt;dbl&gt; | S%G &lt;dbl&gt; | %YE &lt;dbl&gt; | %G &lt;dbl&gt; | %E &lt;dbl&gt; | cyclenum &lt;dbl&gt; |\n",
       "|---|---|---|---|---|---|---|---|---|---|---|---|---|---|---|---|---|---|---|---|---|---|\n",
       "| CHP_343_02 | CHP_343_02 | CHP_343 | X02 | 0.3 | 459.04 |  8 | EWS | 0.3 | 1135 |  16 | ... | 0 | 0 | 0 | 0 | 0 | 0 | 0 | 0 | 0 | 2 |\n",
       "| CHP_343_03 | CHP_343_03 | CHP_343 | X03 | 0.6 | 370.30 |  8 | EWS | 0.6 | 1650 |  16 | ... | 0 | 0 | 0 | 0 | 0 | 0 | 0 | 0 | 0 | 3 |\n",
       "| CHP_343_04 | CHP_343_04 | CHP_343 | X04 | 1.5 | 536.63 |  8 | EWS | 1.5 | 2612 | 146 | ... | 0 | 0 | 0 | 0 | 0 | 0 | 0 | 0 | 0 | 4 |\n",
       "| CHP_343_05 | CHP_343_05 | CHP_343 | X05 | 2.1 | 371.20 |  8 | EWS | 2.1 | 2436 | 152 | ... | 0 | 0 | 0 | 0 | 0 | 0 | 0 | 0 | 0 | 5 |\n",
       "| CHP_346_01 | CHP_346_01 | CHP_346 | X01 | 0.8 | 331.70 |  1 | NB  | 0.8 |  637 |   0 | ... | 0 | 0 | 0 | 0 | 0 | 0 | 0 | 0 | 0 | 1 |\n",
       "| CHP_347_01 | CHP_347_01 | CHP_347 | X01 | 0.8 | 126.72 | 13 | ALL | 0.8 | 1701 |   1 | ... | 0 | 0 | 0 | 0 | 0 | 0 | 0 | 0 | 0 | 1 |\n",
       "\n"
      ],
      "text/plain": [
       "           sample_id  Patient cycle FOLD ATC    Age Disease_type TE_fold CD3 \n",
       "CHP_343_02 CHP_343_02 CHP_343 X02   0.3  459.04  8  EWS          0.3     1135\n",
       "CHP_343_03 CHP_343_03 CHP_343 X03   0.6  370.30  8  EWS          0.6     1650\n",
       "CHP_343_04 CHP_343_04 CHP_343 X04   1.5  536.63  8  EWS          1.5     2612\n",
       "CHP_343_05 CHP_343_05 CHP_343 X05   2.1  371.20  8  EWS          2.1     2436\n",
       "CHP_346_01 CHP_346_01 CHP_346 X01   0.8  331.70  1  NB           0.8      637\n",
       "CHP_347_01 CHP_347_01 CHP_347 X01   0.8  126.72 13  ALL          0.8     1701\n",
       "           EM  ... SG%GE G%TE G%SYE S%P G%GE S%G %YE %G %E cyclenum\n",
       "CHP_343_02  16 ... 0     0    0     0   0    0   0   0  0  2       \n",
       "CHP_343_03  16 ... 0     0    0     0   0    0   0   0  0  3       \n",
       "CHP_343_04 146 ... 0     0    0     0   0    0   0   0  0  4       \n",
       "CHP_343_05 152 ... 0     0    0     0   0    0   0   0  0  5       \n",
       "CHP_346_01   0 ... 0     0    0     0   0    0   0   0  0  1       \n",
       "CHP_347_01   1 ... 0     0    0     0   0    0   0   0  0  1       "
      ]
     },
     "metadata": {},
     "output_type": "display_data"
    }
   ],
   "source": [
    "head(df_narm)"
   ]
  },
  {
   "cell_type": "code",
   "execution_count": 26,
   "metadata": {
    "vscode": {
     "languageId": "r"
    }
   },
   "outputs": [],
   "source": [
    "# scale each column by the median of the cancergroup in medians\n",
    "# mymat_narm_scaled <- mymat_narm\n",
    "# for(i in 1:nrow(mymat_narm)){\n",
    "#   mymat_narm_scaled[i, ] <- mymat_narm[i, ]/medians[df_narm$cancergroup[i], ]#/ mads[df_narm$cancergroup[i], ]\n",
    "# }"
   ]
  },
  {
   "cell_type": "code",
   "execution_count": 27,
   "metadata": {
    "vscode": {
     "languageId": "r"
    }
   },
   "outputs": [],
   "source": [
    "pca <- prcomp(mymat_narm, center = T, scale. = T)"
   ]
  },
  {
   "cell_type": "code",
   "execution_count": 28,
   "metadata": {
    "vscode": {
     "languageId": "r"
    }
   },
   "outputs": [],
   "source": [
    "p1 <- fviz_pca_ind(pca,\n",
    "     col.ind = as.vector(df_narm$cancergroup),\n",
    "    # gradient.cols = c(\"#00AFBB\", \"#E7B800\", \"#FC4E07\"),\n",
    "    # remove labels\n",
    "    label = \"none\",\n",
    "    repel = TRUE, addEllipses = FALSE, mean.point = FALSE\n",
    ")"
   ]
  },
  {
   "cell_type": "code",
   "execution_count": 29,
   "metadata": {
    "vscode": {
     "languageId": "r"
    }
   },
   "outputs": [
    {
     "data": {
      "image/png": "[encoded data removed]",
      "text/plain": [
       "plot without title"
      ]
     },
     "metadata": {
      "image/png": {
       "height": 420,
       "width": 420
      }
     },
     "output_type": "display_data"
    }
   ],
   "source": [
    "p1"
   ]
  },
  {
   "cell_type": "code",
   "execution_count": 30,
   "metadata": {
    "vscode": {
     "languageId": "r"
    }
   },
   "outputs": [
    {
     "data": {
      "image/png": "[encoded data removed]",
      "text/plain": [
       "plot without title"
      ]
     },
     "metadata": {
      "image/png": {
       "height": 420,
       "width": 420
      }
     },
     "output_type": "display_data"
    }
   ],
   "source": [
    "fviz_pca_var(pca)"
   ]
  },
  {
   "cell_type": "code",
   "execution_count": 31,
   "metadata": {
    "vscode": {
     "languageId": "r"
    }
   },
   "outputs": [],
   "source": [
    "df_narm$Dim1 <- pca$x[,1][match( df_narm$sample_id, rownames(pca$x))]\n",
    "df_narm$Dim2 <- pca$x[,2][match( df_narm$sample_id, rownames(pca$x))]"
   ]
  },
  {
   "cell_type": "code",
   "execution_count": 32,
   "metadata": {
    "vscode": {
     "languageId": "r"
    }
   },
   "outputs": [
    {
     "data": {
      "text/plain": [
       "\n",
       "CHP_349 CHP_353 CHP_356 CHP_364 CHP_368 CHP_390 CHP_411 CHP_413 CHP_418 \n",
       "      2       3       3       3       1       1       1       2       1 "
      ]
     },
     "metadata": {},
     "output_type": "display_data"
    }
   ],
   "source": [
    "table(df_narm$Patient[df_narm$Relapse == 1])"
   ]
  },
  {
   "cell_type": "code",
   "execution_count": 33,
   "metadata": {
    "vscode": {
     "languageId": "r"
    }
   },
   "outputs": [],
   "source": [
    "mydist <- as.matrix(dist(pca$x[,1:2])) "
   ]
  },
  {
   "cell_type": "code",
   "execution_count": 34,
   "metadata": {
    "vscode": {
     "languageId": "r"
    }
   },
   "outputs": [],
   "source": [
    "# order df_narm\n",
    "df_narm <- df_narm %>%\n",
    "    group_by(Patient) %>%\n",
    "    # order cyclenum\n",
    "    arrange(cyclenum) %>%\n",
    "    ungroup()\n",
    "pts <- names(which(table(df_narm$Patient) > 1))"
   ]
  },
  {
   "cell_type": "code",
   "execution_count": 35,
   "metadata": {
    "vscode": {
     "languageId": "r"
    }
   },
   "outputs": [
    {
     "data": {
      "text/html": [
       "<style>\n",
       ".list-inline {list-style: none; margin:0; padding: 0}\n",
       ".list-inline>li {display: inline-block}\n",
       ".list-inline>li:not(:last-child)::after {content: \"\\00b7\"; padding: 0 .5ex}\n",
       "</style>\n",
       "<ol class=list-inline><li>97</li><li>8832</li></ol>\n"
      ],
      "text/latex": [
       "\\begin{enumerate*}\n",
       "\\item 97\n",
       "\\item 8832\n",
       "\\end{enumerate*}\n"
      ],
      "text/markdown": [
       "1. 97\n",
       "2. 8832\n",
       "\n",
       "\n"
      ],
      "text/plain": [
       "[1]   97 8832"
      ]
     },
     "metadata": {},
     "output_type": "display_data"
    }
   ],
   "source": [
    "dim(df_narm)"
   ]
  },
  {
   "cell_type": "code",
   "execution_count": 36,
   "metadata": {
    "vscode": {
     "languageId": "r"
    }
   },
   "outputs": [],
   "source": [
    "df_narm$Dim1 <- pca$x[,1][match( df_narm$sample_id, rownames(pca$x))]\n",
    "df_narm$Dim2 <- pca$x[,2][match( df_narm$sample_id, rownames(pca$x))]"
   ]
  },
  {
   "cell_type": "code",
   "execution_count": 37,
   "metadata": {
    "vscode": {
     "languageId": "r"
    }
   },
   "outputs": [],
   "source": [
    "df_narm$dist <- NA\n",
    "df_narm$quantreg <- NA\n",
    "df_narm$quantreg1 <- NA\n",
    "df_narm$quantreg2 <- NA"
   ]
  },
  {
   "cell_type": "code",
   "execution_count": 38,
   "metadata": {
    "vscode": {
     "languageId": "r"
    }
   },
   "outputs": [
    {
     "name": "stderr",
     "output_type": "stream",
     "text": [
      "Warning message:\n",
      "“\u001b[1m\u001b[22mThere was 1 warning in `mutate()`.\n",
      "\u001b[1m\u001b[22m\u001b[36mℹ\u001b[39m In argument: `quantreg_n1 = quantreg::rq(Dim1 ~ cyclenum, tau =\n",
      "  0.5)$coef[2]/n()`.\n",
      "Caused by warning in `rq.fit.br()`:\n",
      "\u001b[33m!\u001b[39m Solution may be nonunique”\n",
      "Warning message:\n",
      "“\u001b[1m\u001b[22mThere was 1 warning in `mutate()`.\n",
      "\u001b[1m\u001b[22m\u001b[36mℹ\u001b[39m In argument: `quantreg_n2 = quantreg::rq(Dim2 ~ cyclenum, tau =\n",
      "  0.5)$coef[2]/n()`.\n",
      "Caused by warning in `rq.fit.br()`:\n",
      "\u001b[33m!\u001b[39m Solution may be nonunique”\n",
      "Warning message:\n",
      "“\u001b[1m\u001b[22mThere was 1 warning in `mutate()`.\n",
      "\u001b[1m\u001b[22m\u001b[36mℹ\u001b[39m In argument: `quantreg_n1 = quantreg::rq(Dim1 ~ cyclenum, tau =\n",
      "  0.5)$coef[2]/n()`.\n",
      "Caused by warning in `rq.fit.br()`:\n",
      "\u001b[33m!\u001b[39m Solution may be nonunique”\n",
      "Warning message:\n",
      "“\u001b[1m\u001b[22mThere was 1 warning in `mutate()`.\n",
      "\u001b[1m\u001b[22m\u001b[36mℹ\u001b[39m In argument: `quantreg_n2 = quantreg::rq(Dim2 ~ cyclenum, tau =\n",
      "  0.5)$coef[2]/n()`.\n",
      "Caused by warning in `rq.fit.br()`:\n",
      "\u001b[33m!\u001b[39m Solution may be nonunique”\n",
      "Warning message:\n",
      "“\u001b[1m\u001b[22mThere was 1 warning in `mutate()`.\n",
      "\u001b[1m\u001b[22m\u001b[36mℹ\u001b[39m In argument: `quantreg_n1 = quantreg::rq(Dim1 ~ cyclenum, tau =\n",
      "  0.5)$coef[2]/n()`.\n",
      "Caused by warning in `rq.fit.br()`:\n",
      "\u001b[33m!\u001b[39m Solution may be nonunique”\n",
      "Warning message:\n",
      "“\u001b[1m\u001b[22mThere was 1 warning in `mutate()`.\n",
      "\u001b[1m\u001b[22m\u001b[36mℹ\u001b[39m In argument: `quantreg_n2 = quantreg::rq(Dim2 ~ cyclenum, tau =\n",
      "  0.5)$coef[2]/n()`.\n",
      "Caused by warning in `rq.fit.br()`:\n",
      "\u001b[33m!\u001b[39m Solution may be nonunique”\n",
      "Warning message:\n",
      "“\u001b[1m\u001b[22mThere was 1 warning in `mutate()`.\n",
      "\u001b[1m\u001b[22m\u001b[36mℹ\u001b[39m In argument: `quantreg_n1 = quantreg::rq(Dim1 ~ cyclenum, tau =\n",
      "  0.5)$coef[2]/n()`.\n",
      "Caused by warning in `rq.fit.br()`:\n",
      "\u001b[33m!\u001b[39m Solution may be nonunique”\n",
      "Warning message:\n",
      "“\u001b[1m\u001b[22mThere was 1 warning in `mutate()`.\n",
      "\u001b[1m\u001b[22m\u001b[36mℹ\u001b[39m In argument: `quantreg_n2 = quantreg::rq(Dim2 ~ cyclenum, tau =\n",
      "  0.5)$coef[2]/n()`.\n",
      "Caused by warning in `rq.fit.br()`:\n",
      "\u001b[33m!\u001b[39m Solution may be nonunique”\n"
     ]
    }
   ],
   "source": [
    "for (i in pts) {\n",
    "    tmp <- df_narm[df_narm$Patient == i, ]\n",
    "\n",
    "# quantreg\n",
    "tmp <- tmp %>% mutate(quantreg_n = quantreg::rq(Dim2 ~ Dim1, tau = 0.5)$coef[2] / n())\n",
    "tmp <- tmp %>% mutate(quantreg_n1 = quantreg::rq(Dim1 ~ cyclenum, tau = 0.5)$coef[2] / n())\n",
    "tmp <- tmp %>% mutate(quantreg_n2 = quantreg::rq(Dim2 ~ cyclenum, tau = 0.5)$coef[2] / n())\n",
    "    # distances\n",
    "    distances_df <- mydist[tmp$sample_id, tmp$sample_id]\n",
    "    if (nrow(tmp) == 2) {\n",
    "        mydiff <- diff(tmp$cyclenum)\n",
    "        if (mydiff == 1) {\n",
    "            tmp$dist[2] <- distances_df[tmp$sample_id[1], tmp$sample_id[2]]\n",
    "        }\n",
    "    }\n",
    "    if (nrow(tmp) == 3) {\n",
    "        mydiff <- diff(tmp$cyclenum)\n",
    "        if (mydiff[1] == 1) {\n",
    "            tmp$dist[2] <- distances_df[tmp$sample_id[1], tmp$sample_id[2]]\n",
    "        }\n",
    "        if (mydiff[2] == 1) {\n",
    "            tmp$dist[3] <- distances_df[tmp$sample_id[2], tmp$sample_id[3]]\n",
    "        }\n",
    "    }\n",
    "    if (nrow(tmp) == 4) {\n",
    "        mydiff <- diff(tmp$cyclenum)\n",
    "        if (mydiff[1] == 1) {\n",
    "            tmp$dist[2] <- distances_df[tmp$sample_id[1], tmp$sample_id[2]]\n",
    "        }\n",
    "        if (mydiff[2] == 1) {\n",
    "            tmp$dist[3] <- distances_df[tmp$sample_id[2], tmp$sample_id[3]]\n",
    "        }\n",
    "        if (mydiff[3] == 1) {\n",
    "            tmp$dist[4] <- distances_df[tmp$sample_id[3], tmp$sample_id[4]]\n",
    "        }\n",
    "    }\n",
    "    if (nrow(tmp) == 5) {\n",
    "        mydiff <- diff(tmp$cyclenum)\n",
    "        if (mydiff[1] == 1) {\n",
    "            tmp$dist[2] <- distances_df[tmp$sample_id[1], tmp$sample_id[2]]\n",
    "        }\n",
    "        if (mydiff[2] == 1) {\n",
    "            tmp$dist[3] <- distances_df[tmp$sample_id[2], tmp$sample_id[3]]\n",
    "        }\n",
    "        if (mydiff[3] == 1) {\n",
    "            tmp$dist[4] <- distances_df[tmp$sample_id[3], tmp$sample_id[4]]\n",
    "        }\n",
    "        if (mydiff[4] == 1) {\n",
    "            tmp$dist[5] <- distances_df[tmp$sample_id[4], tmp$sample_id[5]]\n",
    "        }\n",
    "    }\n",
    "    df_narm$dist[df_narm$Patient == i] <- tmp$dist\n",
    "    df_narm$quantreg[df_narm$Patient == i] <- tmp$quantreg_n\n",
    "    df_narm$quantreg1[df_narm$Patient == i] <- tmp$quantreg_n1\n",
    "    df_narm$quantreg2[df_narm$Patient == i] <- tmp$quantreg_n2\n",
    "}\n"
   ]
  },
  {
   "cell_type": "code",
   "execution_count": 39,
   "metadata": {
    "vscode": {
     "languageId": "r"
    }
   },
   "outputs": [
    {
     "data": {
      "text/html": [
       "<table class=\"dataframe\">\n",
       "<caption>A tibble: 6 x 8836</caption>\n",
       "<thead>\n",
       "\t<tr><th scope=col>sample_id</th><th scope=col>Patient</th><th scope=col>cycle</th><th scope=col>FOLD</th><th scope=col>ATC</th><th scope=col>Age</th><th scope=col>Disease_type</th><th scope=col>TE_fold</th><th scope=col>CD3</th><th scope=col>EM</th><th scope=col>...</th><th scope=col>%YE</th><th scope=col>%G</th><th scope=col>%E</th><th scope=col>cyclenum</th><th scope=col>Dim1</th><th scope=col>Dim2</th><th scope=col>dist</th><th scope=col>quantreg</th><th scope=col>quantreg1</th><th scope=col>quantreg2</th></tr>\n",
       "\t<tr><th scope=col>&lt;chr&gt;</th><th scope=col>&lt;chr&gt;</th><th scope=col>&lt;chr&gt;</th><th scope=col>&lt;dbl&gt;</th><th scope=col>&lt;dbl&gt;</th><th scope=col>&lt;dbl&gt;</th><th scope=col>&lt;chr&gt;</th><th scope=col>&lt;dbl&gt;</th><th scope=col>&lt;int&gt;</th><th scope=col>&lt;int&gt;</th><th scope=col>...</th><th scope=col>&lt;dbl&gt;</th><th scope=col>&lt;dbl&gt;</th><th scope=col>&lt;dbl&gt;</th><th scope=col>&lt;dbl&gt;</th><th scope=col>&lt;dbl&gt;</th><th scope=col>&lt;dbl&gt;</th><th scope=col>&lt;dbl&gt;</th><th scope=col>&lt;dbl&gt;</th><th scope=col>&lt;dbl&gt;</th><th scope=col>&lt;dbl&gt;</th></tr>\n",
       "</thead>\n",
       "<tbody>\n",
       "\t<tr><td>CHP_346_01</td><td>CHP_346</td><td>X01</td><td> 0.8</td><td> 331.70</td><td> 1</td><td>NB    </td><td> 0.8</td><td> 637</td><td> 0</td><td>...</td><td>0</td><td>0</td><td>0</td><td>1</td><td>1.1528760</td><td> 2.7379150</td><td>NA</td><td>         NA</td><td>         NA</td><td>         NA</td></tr>\n",
       "\t<tr><td>CHP_347_01</td><td>CHP_347</td><td>X01</td><td> 0.8</td><td> 126.72</td><td>13</td><td>ALL   </td><td> 0.8</td><td>1701</td><td> 1</td><td>...</td><td>0</td><td>0</td><td>0</td><td>1</td><td>0.9560215</td><td>-0.8316722</td><td>NA</td><td>-0.01345430</td><td>-0.11178772</td><td>-0.16848748</td></tr>\n",
       "\t<tr><td>CHP_348_01</td><td>CHP_348</td><td>X01</td><td>11.5</td><td>  50.96</td><td>18</td><td>OS    </td><td>11.5</td><td>1125</td><td>28</td><td>...</td><td>0</td><td>0</td><td>0</td><td>1</td><td>0.7284483</td><td> 0.3967528</td><td>NA</td><td> 0.44827013</td><td>-0.48605209</td><td>-0.43576527</td></tr>\n",
       "\t<tr><td>CHP_349_01</td><td>CHP_349</td><td>X01</td><td> 2.0</td><td>3152.22</td><td>17</td><td>CML   </td><td> 2.0</td><td>2735</td><td>53</td><td>...</td><td>0</td><td>0</td><td>0</td><td>1</td><td>1.8591443</td><td>-1.4181300</td><td>NA</td><td>-0.21810580</td><td>-1.50386731</td><td> 0.65600437</td></tr>\n",
       "\t<tr><td>CHP_350_01</td><td>CHP_350</td><td>X01</td><td> 2.7</td><td>1615.44</td><td> 1</td><td>HB    </td><td> 2.7</td><td>1338</td><td>18</td><td>...</td><td>0</td><td>0</td><td>0</td><td>1</td><td>1.5666157</td><td> 0.9483792</td><td>NA</td><td> 0.07299216</td><td>-0.08247636</td><td> 0.05737364</td></tr>\n",
       "\t<tr><td>CHP_352_01</td><td>CHP_352</td><td>X01</td><td> 1.2</td><td> 763.14</td><td>17</td><td>HR ALL</td><td> 1.2</td><td>2337</td><td> 2</td><td>...</td><td>0</td><td>0</td><td>0</td><td>1</td><td>1.7527945</td><td>-1.5201639</td><td>NA</td><td>         NA</td><td>         NA</td><td>         NA</td></tr>\n",
       "</tbody>\n",
       "</table>\n"
      ],
      "text/latex": [
       "A tibble: 6 x 8836\n",
       "\\begin{tabular}{lllllllllllllllllllll}\n",
       " sample\\_id & Patient & cycle & FOLD & ATC & Age & Disease\\_type & TE\\_fold & CD3 & EM & ... & \\%YE & \\%G & \\%E & cyclenum & Dim1 & Dim2 & dist & quantreg & quantreg1 & quantreg2\\\\\n",
       " <chr> & <chr> & <chr> & <dbl> & <dbl> & <dbl> & <chr> & <dbl> & <int> & <int> & ... & <dbl> & <dbl> & <dbl> & <dbl> & <dbl> & <dbl> & <dbl> & <dbl> & <dbl> & <dbl>\\\\\n",
       "\\hline\n",
       "\t CHP\\_346\\_01 & CHP\\_346 & X01 &  0.8 &  331.70 &  1 & NB     &  0.8 &  637 &  0 & ... & 0 & 0 & 0 & 1 & 1.1528760 &  2.7379150 & NA &          NA &          NA &          NA\\\\\n",
       "\t CHP\\_347\\_01 & CHP\\_347 & X01 &  0.8 &  126.72 & 13 & ALL    &  0.8 & 1701 &  1 & ... & 0 & 0 & 0 & 1 & 0.9560215 & -0.8316722 & NA & -0.01345430 & -0.11178772 & -0.16848748\\\\\n",
       "\t CHP\\_348\\_01 & CHP\\_348 & X01 & 11.5 &   50.96 & 18 & OS     & 11.5 & 1125 & 28 & ... & 0 & 0 & 0 & 1 & 0.7284483 &  0.3967528 & NA &  0.44827013 & -0.48605209 & -0.43576527\\\\\n",
       "\t CHP\\_349\\_01 & CHP\\_349 & X01 &  2.0 & 3152.22 & 17 & CML    &  2.0 & 2735 & 53 & ... & 0 & 0 & 0 & 1 & 1.8591443 & -1.4181300 & NA & -0.21810580 & -1.50386731 &  0.65600437\\\\\n",
       "\t CHP\\_350\\_01 & CHP\\_350 & X01 &  2.7 & 1615.44 &  1 & HB     &  2.7 & 1338 & 18 & ... & 0 & 0 & 0 & 1 & 1.5666157 &  0.9483792 & NA &  0.07299216 & -0.08247636 &  0.05737364\\\\\n",
       "\t CHP\\_352\\_01 & CHP\\_352 & X01 &  1.2 &  763.14 & 17 & HR ALL &  1.2 & 2337 &  2 & ... & 0 & 0 & 0 & 1 & 1.7527945 & -1.5201639 & NA &          NA &          NA &          NA\\\\\n",
       "\\end{tabular}\n"
      ],
      "text/markdown": [
       "\n",
       "A tibble: 6 x 8836\n",
       "\n",
       "| sample_id &lt;chr&gt; | Patient &lt;chr&gt; | cycle &lt;chr&gt; | FOLD &lt;dbl&gt; | ATC &lt;dbl&gt; | Age &lt;dbl&gt; | Disease_type &lt;chr&gt; | TE_fold &lt;dbl&gt; | CD3 &lt;int&gt; | EM &lt;int&gt; | ... ... | %YE &lt;dbl&gt; | %G &lt;dbl&gt; | %E &lt;dbl&gt; | cyclenum &lt;dbl&gt; | Dim1 &lt;dbl&gt; | Dim2 &lt;dbl&gt; | dist &lt;dbl&gt; | quantreg &lt;dbl&gt; | quantreg1 &lt;dbl&gt; | quantreg2 &lt;dbl&gt; |\n",
       "|---|---|---|---|---|---|---|---|---|---|---|---|---|---|---|---|---|---|---|---|---|\n",
       "| CHP_346_01 | CHP_346 | X01 |  0.8 |  331.70 |  1 | NB     |  0.8 |  637 |  0 | ... | 0 | 0 | 0 | 1 | 1.1528760 |  2.7379150 | NA |          NA |          NA |          NA |\n",
       "| CHP_347_01 | CHP_347 | X01 |  0.8 |  126.72 | 13 | ALL    |  0.8 | 1701 |  1 | ... | 0 | 0 | 0 | 1 | 0.9560215 | -0.8316722 | NA | -0.01345430 | -0.11178772 | -0.16848748 |\n",
       "| CHP_348_01 | CHP_348 | X01 | 11.5 |   50.96 | 18 | OS     | 11.5 | 1125 | 28 | ... | 0 | 0 | 0 | 1 | 0.7284483 |  0.3967528 | NA |  0.44827013 | -0.48605209 | -0.43576527 |\n",
       "| CHP_349_01 | CHP_349 | X01 |  2.0 | 3152.22 | 17 | CML    |  2.0 | 2735 | 53 | ... | 0 | 0 | 0 | 1 | 1.8591443 | -1.4181300 | NA | -0.21810580 | -1.50386731 |  0.65600437 |\n",
       "| CHP_350_01 | CHP_350 | X01 |  2.7 | 1615.44 |  1 | HB     |  2.7 | 1338 | 18 | ... | 0 | 0 | 0 | 1 | 1.5666157 |  0.9483792 | NA |  0.07299216 | -0.08247636 |  0.05737364 |\n",
       "| CHP_352_01 | CHP_352 | X01 |  1.2 |  763.14 | 17 | HR ALL |  1.2 | 2337 |  2 | ... | 0 | 0 | 0 | 1 | 1.7527945 | -1.5201639 | NA |          NA |          NA |          NA |\n",
       "\n"
      ],
      "text/plain": [
       "  sample_id  Patient cycle FOLD ATC     Age Disease_type TE_fold CD3  EM ...\n",
       "1 CHP_346_01 CHP_346 X01    0.8  331.70  1  NB            0.8     637  0 ...\n",
       "2 CHP_347_01 CHP_347 X01    0.8  126.72 13  ALL           0.8    1701  1 ...\n",
       "3 CHP_348_01 CHP_348 X01   11.5   50.96 18  OS           11.5    1125 28 ...\n",
       "4 CHP_349_01 CHP_349 X01    2.0 3152.22 17  CML           2.0    2735 53 ...\n",
       "5 CHP_350_01 CHP_350 X01    2.7 1615.44  1  HB            2.7    1338 18 ...\n",
       "6 CHP_352_01 CHP_352 X01    1.2  763.14 17  HR ALL        1.2    2337  2 ...\n",
       "  %YE %G %E cyclenum Dim1      Dim2       dist quantreg    quantreg1  \n",
       "1 0   0  0  1        1.1528760  2.7379150 NA            NA          NA\n",
       "2 0   0  0  1        0.9560215 -0.8316722 NA   -0.01345430 -0.11178772\n",
       "3 0   0  0  1        0.7284483  0.3967528 NA    0.44827013 -0.48605209\n",
       "4 0   0  0  1        1.8591443 -1.4181300 NA   -0.21810580 -1.50386731\n",
       "5 0   0  0  1        1.5666157  0.9483792 NA    0.07299216 -0.08247636\n",
       "6 0   0  0  1        1.7527945 -1.5201639 NA            NA          NA\n",
       "  quantreg2  \n",
       "1          NA\n",
       "2 -0.16848748\n",
       "3 -0.43576527\n",
       "4  0.65600437\n",
       "5  0.05737364\n",
       "6          NA"
      ]
     },
     "metadata": {},
     "output_type": "display_data"
    }
   ],
   "source": [
    "head(df_narm)"
   ]
  },
  {
   "cell_type": "code",
   "execution_count": 40,
   "metadata": {
    "vscode": {
     "languageId": "r"
    }
   },
   "outputs": [],
   "source": [
    "allpts <- as.data.frame(table(df_narm$Patient), stringsAsFactors = F)\n",
    "df_narm$dist[df_narm$dist == 0] <- NA\n",
    "\n",
    "allpts$sumdist <- NA\n",
    "allpts$meddist <- NA\n",
    "allpts$samplecount <- NA\n",
    "\n",
    "for (i in 1:nrow(allpts)) {\n",
    "    tmp <- as.data.frame(df_narm[df_narm$Patient == allpts$Var1[i], ])\n",
    "    allpts$sumdist[i] <- sum(tmp[tmp$dist != 0, \"dist\"], na.rm = T)\n",
    "    allpts$meddist[i] <- median(tmp[tmp$dist != 0, \"dist\"], na.rm = T)\n",
    "    # count number of samples for meddist\n",
    "    allpts$samplecount[i] <- nrow(tmp[!is.na(tmp$dist), ]) + 1 # add 1 for the first sample, this is the number of samples with a distance\n",
    "}\n",
    "allpts$sumdist_n <- allpts$sumdist / allpts$samplecount\n",
    "allpts$meddist_n <- allpts$meddist / allpts$samplecount\n",
    "allpts_no0 <- allpts[allpts$sumdist_n > 0, ]\n",
    "allpts_no0 <- allpts_no0[allpts_no0$Freq > 1, ]\n",
    "\n",
    "mysample_df <- df_narm[df_narm$Patient %in% allpts_no0$Var1, ]\n",
    "mypatients <- mysample_df[!duplicated(mysample_df$Patient), ]\n",
    "mypatients$meddist_n <- allpts_no0$meddist_n[match(mypatients$Patient, allpts_no0$Var1)]\n",
    "mypatients$meddist <- allpts_no0$meddist[match(mypatients$Patient, allpts_no0$Var1)]\n"
   ]
  },
  {
   "cell_type": "code",
   "execution_count": 41,
   "metadata": {
    "vscode": {
     "languageId": "r"
    }
   },
   "outputs": [],
   "source": [
    "df_narm$meddist_n <- mypatients$meddist_n[match(df_narm$Patient, mypatients$Patient)]"
   ]
  },
  {
   "cell_type": "code",
   "execution_count": 42,
   "metadata": {
    "vscode": {
     "languageId": "r"
    }
   },
   "outputs": [
    {
     "data": {
      "text/plain": [
       "   Min. 1st Qu.  Median    Mean 3rd Qu.    Max. \n",
       " 0.2807  0.5745  0.6931  0.8648  1.0616  1.8641 "
      ]
     },
     "metadata": {},
     "output_type": "display_data"
    }
   ],
   "source": [
    "summary(mypatients$meddist_n)"
   ]
  },
  {
   "cell_type": "code",
   "execution_count": 43,
   "metadata": {
    "vscode": {
     "languageId": "r"
    }
   },
   "outputs": [
    {
     "data": {
      "text/html": [
       "<table class=\"dataframe\">\n",
       "<caption>A tibble: 19 x 8838</caption>\n",
       "<thead>\n",
       "\t<tr><th scope=col>sample_id</th><th scope=col>Patient</th><th scope=col>cycle</th><th scope=col>FOLD</th><th scope=col>ATC</th><th scope=col>Age</th><th scope=col>Disease_type</th><th scope=col>TE_fold</th><th scope=col>CD3</th><th scope=col>EM</th><th scope=col>...</th><th scope=col>%E</th><th scope=col>cyclenum</th><th scope=col>Dim1</th><th scope=col>Dim2</th><th scope=col>dist</th><th scope=col>quantreg</th><th scope=col>quantreg1</th><th scope=col>quantreg2</th><th scope=col>meddist_n</th><th scope=col>meddist</th></tr>\n",
       "\t<tr><th scope=col>&lt;chr&gt;</th><th scope=col>&lt;chr&gt;</th><th scope=col>&lt;chr&gt;</th><th scope=col>&lt;dbl&gt;</th><th scope=col>&lt;dbl&gt;</th><th scope=col>&lt;dbl&gt;</th><th scope=col>&lt;chr&gt;</th><th scope=col>&lt;dbl&gt;</th><th scope=col>&lt;int&gt;</th><th scope=col>&lt;int&gt;</th><th scope=col>...</th><th scope=col>&lt;dbl&gt;</th><th scope=col>&lt;dbl&gt;</th><th scope=col>&lt;dbl&gt;</th><th scope=col>&lt;dbl&gt;</th><th scope=col>&lt;dbl&gt;</th><th scope=col>&lt;dbl&gt;</th><th scope=col>&lt;dbl&gt;</th><th scope=col>&lt;dbl&gt;</th><th scope=col>&lt;dbl&gt;</th><th scope=col>&lt;dbl&gt;</th></tr>\n",
       "</thead>\n",
       "<tbody>\n",
       "\t<tr><td>CHP_391_02</td><td>CHP_391</td><td>X02</td><td> 1.5</td><td>  18.20</td><td>10</td><td>HR ALL</td><td> 1.5</td><td>2456</td><td>230</td><td>...</td><td>0</td><td>2</td><td> 1.20863285</td><td>-0.11012797</td><td>NA</td><td> 0.3716894475</td><td> 0.22531025</td><td> 0.16749089</td><td>0.2807453</td><td>0.5614905</td></tr>\n",
       "\t<tr><td>CHP_350_01</td><td>CHP_350</td><td>X01</td><td> 2.7</td><td>1615.44</td><td> 1</td><td>HB    </td><td> 2.7</td><td>1338</td><td> 18</td><td>...</td><td>0</td><td>1</td><td> 1.56661570</td><td> 0.94837918</td><td>NA</td><td> 0.0729921632</td><td>-0.08247636</td><td> 0.05737364</td><td>0.4027098</td><td>2.0135488</td></tr>\n",
       "\t<tr><td>CHP_343_02</td><td>CHP_343</td><td>X02</td><td> 0.3</td><td> 459.04</td><td> 8</td><td>EWS   </td><td> 0.3</td><td>1135</td><td> 16</td><td>...</td><td>0</td><td>2</td><td>-0.44785925</td><td>-1.56775889</td><td>NA</td><td>-0.0308024317</td><td>-0.29015979</td><td>-0.07532030</td><td>0.4792046</td><td>1.9168186</td></tr>\n",
       "\t<tr><td>CHP_357_01</td><td>CHP_357</td><td>X01</td><td> 1.7</td><td> 251.00</td><td> 1</td><td>AML   </td><td> 1.7</td><td>1382</td><td>  2</td><td>...</td><td>0</td><td>1</td><td> 0.61736723</td><td> 0.26841212</td><td>NA</td><td>-0.0008721045</td><td>-0.06617686</td><td> 0.00263992</td><td>0.5518933</td><td>2.7594667</td></tr>\n",
       "\t<tr><td>CHP_413_01</td><td>CHP_413</td><td>X01</td><td> 4.0</td><td>   0.00</td><td>19</td><td>AML   </td><td> 4.0</td><td>1985</td><td> 43</td><td>...</td><td>0</td><td>1</td><td> 0.58903722</td><td>-1.60091863</td><td>NA</td><td> 0.8933473335</td><td> 0.28009405</td><td> 0.50044255</td><td>0.5734941</td><td>1.1469881</td></tr>\n",
       "\t<tr><td>CHP_398_04</td><td>CHP_398</td><td>X04</td><td> 1.0</td><td>   0.00</td><td> 6</td><td>ALL   </td><td> 1.0</td><td>2395</td><td>627</td><td>...</td><td>0</td><td>4</td><td>-0.44261851</td><td>-0.14151261</td><td>NA</td><td>-0.3299006192</td><td> 0.48034956</td><td>-0.31693524</td><td>0.5754856</td><td>1.1509711</td></tr>\n",
       "\t<tr><td>CHP_408_01</td><td>CHP_408</td><td>X01</td><td> 5.1</td><td> 338.80</td><td> 5</td><td>OS    </td><td> 5.1</td><td>2140</td><td>338</td><td>...</td><td>0</td><td>1</td><td> 0.04519578</td><td> 0.79843721</td><td>NA</td><td> 0.1195051653</td><td>-0.17717911</td><td> 0.33370958</td><td>0.6126847</td><td>1.8380541</td></tr>\n",
       "\t<tr><td>CHP_362_01</td><td>CHP_362</td><td>X01</td><td>10.2</td><td>1072.50</td><td>16</td><td>OS    </td><td>10.2</td><td>2489</td><td>115</td><td>...</td><td>0</td><td>1</td><td>-0.13575972</td><td>-0.08639769</td><td>NA</td><td> 0.0999931725</td><td>-0.25318187</td><td> 0.06265540</td><td>0.6268568</td><td>1.2537136</td></tr>\n",
       "\t<tr><td>CHP_348_01</td><td>CHP_348</td><td>X01</td><td>11.5</td><td>  50.96</td><td>18</td><td>OS    </td><td>11.5</td><td>1125</td><td> 28</td><td>...</td><td>0</td><td>1</td><td> 0.72844825</td><td> 0.39675281</td><td>NA</td><td> 0.4482701307</td><td>-0.48605209</td><td>-0.43576527</td><td>0.6527925</td><td>1.3055849</td></tr>\n",
       "\t<tr><td>CHP_405_01</td><td>CHP_405</td><td>X01</td><td> 0.7</td><td>4936.56</td><td> 1</td><td>CML   </td><td> 0.7</td><td> 463</td><td>100</td><td>...</td><td>0</td><td>1</td><td>-0.38291868</td><td>-0.58176708</td><td>NA</td><td> 0.1579092709</td><td> 0.29661751</td><td> 0.14051597</td><td>0.6931440</td><td>2.0794321</td></tr>\n",
       "\t<tr><td>CHP_347_01</td><td>CHP_347</td><td>X01</td><td> 0.8</td><td> 126.72</td><td>13</td><td>ALL   </td><td> 0.8</td><td>1701</td><td>  1</td><td>...</td><td>0</td><td>1</td><td> 0.95602146</td><td>-0.83167221</td><td>NA</td><td>-0.0134542975</td><td>-0.11178772</td><td>-0.16848748</td><td>0.7204043</td><td>3.6020214</td></tr>\n",
       "\t<tr><td>CHP_361_01</td><td>CHP_361</td><td>X01</td><td> 2.4</td><td> 516.04</td><td>13</td><td>HD    </td><td> 2.4</td><td>2317</td><td> 94</td><td>...</td><td>0</td><td>1</td><td>-1.76297197</td><td>-0.13580767</td><td>NA</td><td> 0.0537991396</td><td>-0.51796530</td><td>-0.10253794</td><td>0.8014012</td><td>2.4042037</td></tr>\n",
       "\t<tr><td>CHP_364_01</td><td>CHP_364</td><td>X01</td><td> 2.3</td><td> 877.68</td><td>16</td><td>OS    </td><td> 2.3</td><td>2411</td><td> 33</td><td>...</td><td>0</td><td>1</td><td> 0.80724144</td><td> 0.54018209</td><td>NA</td><td>-0.0777524727</td><td>-0.18404061</td><td>-0.14295152</td><td>0.9701549</td><td>1.9403098</td></tr>\n",
       "\t<tr><td>CHP_356_02</td><td>CHP_356</td><td>X02</td><td> 1.1</td><td>   0.00</td><td> 9</td><td>EWS   </td><td> 1.1</td><td>1028</td><td> 66</td><td>...</td><td>0</td><td>2</td><td> 1.29877586</td><td>-0.93341668</td><td>NA</td><td> 0.0895514419</td><td>-0.03141932</td><td>-0.07674195</td><td>1.0361132</td><td>2.0722264</td></tr>\n",
       "\t<tr><td>CHP_409_01</td><td>CHP_409</td><td>X01</td><td> 2.9</td><td> 156.78</td><td>11</td><td>EWS   </td><td> 2.9</td><td>2291</td><td>670</td><td>...</td><td>0</td><td>1</td><td>-0.72324795</td><td> 0.57387316</td><td>NA</td><td>-0.9074239725</td><td> 0.52460166</td><td>-0.95207224</td><td>1.0870365</td><td>2.1740731</td></tr>\n",
       "\t<tr><td>CHP_399_01</td><td>CHP_399</td><td>X01</td><td> 7.1</td><td> 622.20</td><td> 2</td><td>HR ALL</td><td> 7.1</td><td>2389</td><td>  0</td><td>...</td><td>0</td><td>1</td><td> 2.05722559</td><td>-0.90958152</td><td>NA</td><td>-2.6945200364</td><td> 0.02589756</td><td>-0.06172504</td><td>1.1852181</td><td>3.5556542</td></tr>\n",
       "\t<tr><td>CHP_349_01</td><td>CHP_349</td><td>X01</td><td> 2.0</td><td>3152.22</td><td>17</td><td>CML   </td><td> 2.0</td><td>2735</td><td> 53</td><td>...</td><td>0</td><td>1</td><td> 1.85914426</td><td>-1.41813003</td><td>NA</td><td>-0.2181057993</td><td>-1.50386731</td><td> 0.65600437</td><td>1.6407189</td><td>3.2814379</td></tr>\n",
       "\t<tr><td>CHP_396_01</td><td>CHP_396</td><td>X01</td><td> 1.1</td><td>6767.11</td><td> 1</td><td>HR ALL</td><td> 1.1</td><td>2481</td><td>  0</td><td>...</td><td>0</td><td>1</td><td> 2.25893216</td><td>-2.22800422</td><td>NA</td><td>-0.2759941285</td><td>-1.46882628</td><td> 0.81077486</td><td>1.6777385</td><td>3.3554770</td></tr>\n",
       "\t<tr><td>CHP_407_02</td><td>CHP_407</td><td>X02</td><td>18.1</td><td> 570.15</td><td>12</td><td>DLBCL </td><td>18.1</td><td>2373</td><td>839</td><td>...</td><td>0</td><td>2</td><td>-0.60618244</td><td>-0.18204000</td><td>NA</td><td> 0.0453220931</td><td>-1.85644469</td><td>-0.16827592</td><td>1.8640557</td><td>3.7281114</td></tr>\n",
       "</tbody>\n",
       "</table>\n"
      ],
      "text/latex": [
       "A tibble: 19 x 8838\n",
       "\\begin{tabular}{lllllllllllllllllllll}\n",
       " sample\\_id & Patient & cycle & FOLD & ATC & Age & Disease\\_type & TE\\_fold & CD3 & EM & ... & \\%E & cyclenum & Dim1 & Dim2 & dist & quantreg & quantreg1 & quantreg2 & meddist\\_n & meddist\\\\\n",
       " <chr> & <chr> & <chr> & <dbl> & <dbl> & <dbl> & <chr> & <dbl> & <int> & <int> & ... & <dbl> & <dbl> & <dbl> & <dbl> & <dbl> & <dbl> & <dbl> & <dbl> & <dbl> & <dbl>\\\\\n",
       "\\hline\n",
       "\t CHP\\_391\\_02 & CHP\\_391 & X02 &  1.5 &   18.20 & 10 & HR ALL &  1.5 & 2456 & 230 & ... & 0 & 2 &  1.20863285 & -0.11012797 & NA &  0.3716894475 &  0.22531025 &  0.16749089 & 0.2807453 & 0.5614905\\\\\n",
       "\t CHP\\_350\\_01 & CHP\\_350 & X01 &  2.7 & 1615.44 &  1 & HB     &  2.7 & 1338 &  18 & ... & 0 & 1 &  1.56661570 &  0.94837918 & NA &  0.0729921632 & -0.08247636 &  0.05737364 & 0.4027098 & 2.0135488\\\\\n",
       "\t CHP\\_343\\_02 & CHP\\_343 & X02 &  0.3 &  459.04 &  8 & EWS    &  0.3 & 1135 &  16 & ... & 0 & 2 & -0.44785925 & -1.56775889 & NA & -0.0308024317 & -0.29015979 & -0.07532030 & 0.4792046 & 1.9168186\\\\\n",
       "\t CHP\\_357\\_01 & CHP\\_357 & X01 &  1.7 &  251.00 &  1 & AML    &  1.7 & 1382 &   2 & ... & 0 & 1 &  0.61736723 &  0.26841212 & NA & -0.0008721045 & -0.06617686 &  0.00263992 & 0.5518933 & 2.7594667\\\\\n",
       "\t CHP\\_413\\_01 & CHP\\_413 & X01 &  4.0 &    0.00 & 19 & AML    &  4.0 & 1985 &  43 & ... & 0 & 1 &  0.58903722 & -1.60091863 & NA &  0.8933473335 &  0.28009405 &  0.50044255 & 0.5734941 & 1.1469881\\\\\n",
       "\t CHP\\_398\\_04 & CHP\\_398 & X04 &  1.0 &    0.00 &  6 & ALL    &  1.0 & 2395 & 627 & ... & 0 & 4 & -0.44261851 & -0.14151261 & NA & -0.3299006192 &  0.48034956 & -0.31693524 & 0.5754856 & 1.1509711\\\\\n",
       "\t CHP\\_408\\_01 & CHP\\_408 & X01 &  5.1 &  338.80 &  5 & OS     &  5.1 & 2140 & 338 & ... & 0 & 1 &  0.04519578 &  0.79843721 & NA &  0.1195051653 & -0.17717911 &  0.33370958 & 0.6126847 & 1.8380541\\\\\n",
       "\t CHP\\_362\\_01 & CHP\\_362 & X01 & 10.2 & 1072.50 & 16 & OS     & 10.2 & 2489 & 115 & ... & 0 & 1 & -0.13575972 & -0.08639769 & NA &  0.0999931725 & -0.25318187 &  0.06265540 & 0.6268568 & 1.2537136\\\\\n",
       "\t CHP\\_348\\_01 & CHP\\_348 & X01 & 11.5 &   50.96 & 18 & OS     & 11.5 & 1125 &  28 & ... & 0 & 1 &  0.72844825 &  0.39675281 & NA &  0.4482701307 & -0.48605209 & -0.43576527 & 0.6527925 & 1.3055849\\\\\n",
       "\t CHP\\_405\\_01 & CHP\\_405 & X01 &  0.7 & 4936.56 &  1 & CML    &  0.7 &  463 & 100 & ... & 0 & 1 & -0.38291868 & -0.58176708 & NA &  0.1579092709 &  0.29661751 &  0.14051597 & 0.6931440 & 2.0794321\\\\\n",
       "\t CHP\\_347\\_01 & CHP\\_347 & X01 &  0.8 &  126.72 & 13 & ALL    &  0.8 & 1701 &   1 & ... & 0 & 1 &  0.95602146 & -0.83167221 & NA & -0.0134542975 & -0.11178772 & -0.16848748 & 0.7204043 & 3.6020214\\\\\n",
       "\t CHP\\_361\\_01 & CHP\\_361 & X01 &  2.4 &  516.04 & 13 & HD     &  2.4 & 2317 &  94 & ... & 0 & 1 & -1.76297197 & -0.13580767 & NA &  0.0537991396 & -0.51796530 & -0.10253794 & 0.8014012 & 2.4042037\\\\\n",
       "\t CHP\\_364\\_01 & CHP\\_364 & X01 &  2.3 &  877.68 & 16 & OS     &  2.3 & 2411 &  33 & ... & 0 & 1 &  0.80724144 &  0.54018209 & NA & -0.0777524727 & -0.18404061 & -0.14295152 & 0.9701549 & 1.9403098\\\\\n",
       "\t CHP\\_356\\_02 & CHP\\_356 & X02 &  1.1 &    0.00 &  9 & EWS    &  1.1 & 1028 &  66 & ... & 0 & 2 &  1.29877586 & -0.93341668 & NA &  0.0895514419 & -0.03141932 & -0.07674195 & 1.0361132 & 2.0722264\\\\\n",
       "\t CHP\\_409\\_01 & CHP\\_409 & X01 &  2.9 &  156.78 & 11 & EWS    &  2.9 & 2291 & 670 & ... & 0 & 1 & -0.72324795 &  0.57387316 & NA & -0.9074239725 &  0.52460166 & -0.95207224 & 1.0870365 & 2.1740731\\\\\n",
       "\t CHP\\_399\\_01 & CHP\\_399 & X01 &  7.1 &  622.20 &  2 & HR ALL &  7.1 & 2389 &   0 & ... & 0 & 1 &  2.05722559 & -0.90958152 & NA & -2.6945200364 &  0.02589756 & -0.06172504 & 1.1852181 & 3.5556542\\\\\n",
       "\t CHP\\_349\\_01 & CHP\\_349 & X01 &  2.0 & 3152.22 & 17 & CML    &  2.0 & 2735 &  53 & ... & 0 & 1 &  1.85914426 & -1.41813003 & NA & -0.2181057993 & -1.50386731 &  0.65600437 & 1.6407189 & 3.2814379\\\\\n",
       "\t CHP\\_396\\_01 & CHP\\_396 & X01 &  1.1 & 6767.11 &  1 & HR ALL &  1.1 & 2481 &   0 & ... & 0 & 1 &  2.25893216 & -2.22800422 & NA & -0.2759941285 & -1.46882628 &  0.81077486 & 1.6777385 & 3.3554770\\\\\n",
       "\t CHP\\_407\\_02 & CHP\\_407 & X02 & 18.1 &  570.15 & 12 & DLBCL  & 18.1 & 2373 & 839 & ... & 0 & 2 & -0.60618244 & -0.18204000 & NA &  0.0453220931 & -1.85644469 & -0.16827592 & 1.8640557 & 3.7281114\\\\\n",
       "\\end{tabular}\n"
      ],
      "text/markdown": [
       "\n",
       "A tibble: 19 x 8838\n",
       "\n",
       "| sample_id &lt;chr&gt; | Patient &lt;chr&gt; | cycle &lt;chr&gt; | FOLD &lt;dbl&gt; | ATC &lt;dbl&gt; | Age &lt;dbl&gt; | Disease_type &lt;chr&gt; | TE_fold &lt;dbl&gt; | CD3 &lt;int&gt; | EM &lt;int&gt; | ... ... | %E &lt;dbl&gt; | cyclenum &lt;dbl&gt; | Dim1 &lt;dbl&gt; | Dim2 &lt;dbl&gt; | dist &lt;dbl&gt; | quantreg &lt;dbl&gt; | quantreg1 &lt;dbl&gt; | quantreg2 &lt;dbl&gt; | meddist_n &lt;dbl&gt; | meddist &lt;dbl&gt; |\n",
       "|---|---|---|---|---|---|---|---|---|---|---|---|---|---|---|---|---|---|---|---|---|\n",
       "| CHP_391_02 | CHP_391 | X02 |  1.5 |   18.20 | 10 | HR ALL |  1.5 | 2456 | 230 | ... | 0 | 2 |  1.20863285 | -0.11012797 | NA |  0.3716894475 |  0.22531025 |  0.16749089 | 0.2807453 | 0.5614905 |\n",
       "| CHP_350_01 | CHP_350 | X01 |  2.7 | 1615.44 |  1 | HB     |  2.7 | 1338 |  18 | ... | 0 | 1 |  1.56661570 |  0.94837918 | NA |  0.0729921632 | -0.08247636 |  0.05737364 | 0.4027098 | 2.0135488 |\n",
       "| CHP_343_02 | CHP_343 | X02 |  0.3 |  459.04 |  8 | EWS    |  0.3 | 1135 |  16 | ... | 0 | 2 | -0.44785925 | -1.56775889 | NA | -0.0308024317 | -0.29015979 | -0.07532030 | 0.4792046 | 1.9168186 |\n",
       "| CHP_357_01 | CHP_357 | X01 |  1.7 |  251.00 |  1 | AML    |  1.7 | 1382 |   2 | ... | 0 | 1 |  0.61736723 |  0.26841212 | NA | -0.0008721045 | -0.06617686 |  0.00263992 | 0.5518933 | 2.7594667 |\n",
       "| CHP_413_01 | CHP_413 | X01 |  4.0 |    0.00 | 19 | AML    |  4.0 | 1985 |  43 | ... | 0 | 1 |  0.58903722 | -1.60091863 | NA |  0.8933473335 |  0.28009405 |  0.50044255 | 0.5734941 | 1.1469881 |\n",
       "| CHP_398_04 | CHP_398 | X04 |  1.0 |    0.00 |  6 | ALL    |  1.0 | 2395 | 627 | ... | 0 | 4 | -0.44261851 | -0.14151261 | NA | -0.3299006192 |  0.48034956 | -0.31693524 | 0.5754856 | 1.1509711 |\n",
       "| CHP_408_01 | CHP_408 | X01 |  5.1 |  338.80 |  5 | OS     |  5.1 | 2140 | 338 | ... | 0 | 1 |  0.04519578 |  0.79843721 | NA |  0.1195051653 | -0.17717911 |  0.33370958 | 0.6126847 | 1.8380541 |\n",
       "| CHP_362_01 | CHP_362 | X01 | 10.2 | 1072.50 | 16 | OS     | 10.2 | 2489 | 115 | ... | 0 | 1 | -0.13575972 | -0.08639769 | NA |  0.0999931725 | -0.25318187 |  0.06265540 | 0.6268568 | 1.2537136 |\n",
       "| CHP_348_01 | CHP_348 | X01 | 11.5 |   50.96 | 18 | OS     | 11.5 | 1125 |  28 | ... | 0 | 1 |  0.72844825 |  0.39675281 | NA |  0.4482701307 | -0.48605209 | -0.43576527 | 0.6527925 | 1.3055849 |\n",
       "| CHP_405_01 | CHP_405 | X01 |  0.7 | 4936.56 |  1 | CML    |  0.7 |  463 | 100 | ... | 0 | 1 | -0.38291868 | -0.58176708 | NA |  0.1579092709 |  0.29661751 |  0.14051597 | 0.6931440 | 2.0794321 |\n",
       "| CHP_347_01 | CHP_347 | X01 |  0.8 |  126.72 | 13 | ALL    |  0.8 | 1701 |   1 | ... | 0 | 1 |  0.95602146 | -0.83167221 | NA | -0.0134542975 | -0.11178772 | -0.16848748 | 0.7204043 | 3.6020214 |\n",
       "| CHP_361_01 | CHP_361 | X01 |  2.4 |  516.04 | 13 | HD     |  2.4 | 2317 |  94 | ... | 0 | 1 | -1.76297197 | -0.13580767 | NA |  0.0537991396 | -0.51796530 | -0.10253794 | 0.8014012 | 2.4042037 |\n",
       "| CHP_364_01 | CHP_364 | X01 |  2.3 |  877.68 | 16 | OS     |  2.3 | 2411 |  33 | ... | 0 | 1 |  0.80724144 |  0.54018209 | NA | -0.0777524727 | -0.18404061 | -0.14295152 | 0.9701549 | 1.9403098 |\n",
       "| CHP_356_02 | CHP_356 | X02 |  1.1 |    0.00 |  9 | EWS    |  1.1 | 1028 |  66 | ... | 0 | 2 |  1.29877586 | -0.93341668 | NA |  0.0895514419 | -0.03141932 | -0.07674195 | 1.0361132 | 2.0722264 |\n",
       "| CHP_409_01 | CHP_409 | X01 |  2.9 |  156.78 | 11 | EWS    |  2.9 | 2291 | 670 | ... | 0 | 1 | -0.72324795 |  0.57387316 | NA | -0.9074239725 |  0.52460166 | -0.95207224 | 1.0870365 | 2.1740731 |\n",
       "| CHP_399_01 | CHP_399 | X01 |  7.1 |  622.20 |  2 | HR ALL |  7.1 | 2389 |   0 | ... | 0 | 1 |  2.05722559 | -0.90958152 | NA | -2.6945200364 |  0.02589756 | -0.06172504 | 1.1852181 | 3.5556542 |\n",
       "| CHP_349_01 | CHP_349 | X01 |  2.0 | 3152.22 | 17 | CML    |  2.0 | 2735 |  53 | ... | 0 | 1 |  1.85914426 | -1.41813003 | NA | -0.2181057993 | -1.50386731 |  0.65600437 | 1.6407189 | 3.2814379 |\n",
       "| CHP_396_01 | CHP_396 | X01 |  1.1 | 6767.11 |  1 | HR ALL |  1.1 | 2481 |   0 | ... | 0 | 1 |  2.25893216 | -2.22800422 | NA | -0.2759941285 | -1.46882628 |  0.81077486 | 1.6777385 | 3.3554770 |\n",
       "| CHP_407_02 | CHP_407 | X02 | 18.1 |  570.15 | 12 | DLBCL  | 18.1 | 2373 | 839 | ... | 0 | 2 | -0.60618244 | -0.18204000 | NA |  0.0453220931 | -1.85644469 | -0.16827592 | 1.8640557 | 3.7281114 |\n",
       "\n"
      ],
      "text/plain": [
       "   sample_id  Patient cycle FOLD ATC     Age Disease_type TE_fold CD3  EM  ...\n",
       "1  CHP_391_02 CHP_391 X02    1.5   18.20 10  HR ALL        1.5    2456 230 ...\n",
       "2  CHP_350_01 CHP_350 X01    2.7 1615.44  1  HB            2.7    1338  18 ...\n",
       "3  CHP_343_02 CHP_343 X02    0.3  459.04  8  EWS           0.3    1135  16 ...\n",
       "4  CHP_357_01 CHP_357 X01    1.7  251.00  1  AML           1.7    1382   2 ...\n",
       "5  CHP_413_01 CHP_413 X01    4.0    0.00 19  AML           4.0    1985  43 ...\n",
       "6  CHP_398_04 CHP_398 X04    1.0    0.00  6  ALL           1.0    2395 627 ...\n",
       "7  CHP_408_01 CHP_408 X01    5.1  338.80  5  OS            5.1    2140 338 ...\n",
       "8  CHP_362_01 CHP_362 X01   10.2 1072.50 16  OS           10.2    2489 115 ...\n",
       "9  CHP_348_01 CHP_348 X01   11.5   50.96 18  OS           11.5    1125  28 ...\n",
       "10 CHP_405_01 CHP_405 X01    0.7 4936.56  1  CML           0.7     463 100 ...\n",
       "11 CHP_347_01 CHP_347 X01    0.8  126.72 13  ALL           0.8    1701   1 ...\n",
       "12 CHP_361_01 CHP_361 X01    2.4  516.04 13  HD            2.4    2317  94 ...\n",
       "13 CHP_364_01 CHP_364 X01    2.3  877.68 16  OS            2.3    2411  33 ...\n",
       "14 CHP_356_02 CHP_356 X02    1.1    0.00  9  EWS           1.1    1028  66 ...\n",
       "15 CHP_409_01 CHP_409 X01    2.9  156.78 11  EWS           2.9    2291 670 ...\n",
       "16 CHP_399_01 CHP_399 X01    7.1  622.20  2  HR ALL        7.1    2389   0 ...\n",
       "17 CHP_349_01 CHP_349 X01    2.0 3152.22 17  CML           2.0    2735  53 ...\n",
       "18 CHP_396_01 CHP_396 X01    1.1 6767.11  1  HR ALL        1.1    2481   0 ...\n",
       "19 CHP_407_02 CHP_407 X02   18.1  570.15 12  DLBCL        18.1    2373 839 ...\n",
       "   %E cyclenum Dim1        Dim2        dist quantreg      quantreg1  \n",
       "1  0  2         1.20863285 -0.11012797 NA    0.3716894475  0.22531025\n",
       "2  0  1         1.56661570  0.94837918 NA    0.0729921632 -0.08247636\n",
       "3  0  2        -0.44785925 -1.56775889 NA   -0.0308024317 -0.29015979\n",
       "4  0  1         0.61736723  0.26841212 NA   -0.0008721045 -0.06617686\n",
       "5  0  1         0.58903722 -1.60091863 NA    0.8933473335  0.28009405\n",
       "6  0  4        -0.44261851 -0.14151261 NA   -0.3299006192  0.48034956\n",
       "7  0  1         0.04519578  0.79843721 NA    0.1195051653 -0.17717911\n",
       "8  0  1        -0.13575972 -0.08639769 NA    0.0999931725 -0.25318187\n",
       "9  0  1         0.72844825  0.39675281 NA    0.4482701307 -0.48605209\n",
       "10 0  1        -0.38291868 -0.58176708 NA    0.1579092709  0.29661751\n",
       "11 0  1         0.95602146 -0.83167221 NA   -0.0134542975 -0.11178772\n",
       "12 0  1        -1.76297197 -0.13580767 NA    0.0537991396 -0.51796530\n",
       "13 0  1         0.80724144  0.54018209 NA   -0.0777524727 -0.18404061\n",
       "14 0  2         1.29877586 -0.93341668 NA    0.0895514419 -0.03141932\n",
       "15 0  1        -0.72324795  0.57387316 NA   -0.9074239725  0.52460166\n",
       "16 0  1         2.05722559 -0.90958152 NA   -2.6945200364  0.02589756\n",
       "17 0  1         1.85914426 -1.41813003 NA   -0.2181057993 -1.50386731\n",
       "18 0  1         2.25893216 -2.22800422 NA   -0.2759941285 -1.46882628\n",
       "19 0  2        -0.60618244 -0.18204000 NA    0.0453220931 -1.85644469\n",
       "   quantreg2   meddist_n meddist  \n",
       "1   0.16749089 0.2807453 0.5614905\n",
       "2   0.05737364 0.4027098 2.0135488\n",
       "3  -0.07532030 0.4792046 1.9168186\n",
       "4   0.00263992 0.5518933 2.7594667\n",
       "5   0.50044255 0.5734941 1.1469881\n",
       "6  -0.31693524 0.5754856 1.1509711\n",
       "7   0.33370958 0.6126847 1.8380541\n",
       "8   0.06265540 0.6268568 1.2537136\n",
       "9  -0.43576527 0.6527925 1.3055849\n",
       "10  0.14051597 0.6931440 2.0794321\n",
       "11 -0.16848748 0.7204043 3.6020214\n",
       "12 -0.10253794 0.8014012 2.4042037\n",
       "13 -0.14295152 0.9701549 1.9403098\n",
       "14 -0.07674195 1.0361132 2.0722264\n",
       "15 -0.95207224 1.0870365 2.1740731\n",
       "16 -0.06172504 1.1852181 3.5556542\n",
       "17  0.65600437 1.6407189 3.2814379\n",
       "18  0.81077486 1.6777385 3.3554770\n",
       "19 -0.16827592 1.8640557 3.7281114"
      ]
     },
     "metadata": {},
     "output_type": "display_data"
    }
   ],
   "source": [
    "mypatients[ order(mypatients$meddist_n), ]"
   ]
  },
  {
   "cell_type": "code",
   "execution_count": 48,
   "metadata": {
    "vscode": {
     "languageId": "r"
    }
   },
   "outputs": [
    {
     "data": {
      "image/png": "[encoded data removed]",
      "text/plain": [
       "plot without title"
      ]
     },
     "metadata": {
      "image/png": {
       "height": 420,
       "width": 420
      }
     },
     "output_type": "display_data"
    }
   ],
   "source": [
    "ggplot(data = mypatients, aes(x = quantreg2, y = quantreg1, shape = as.factor(Relapse)))  + \n",
    "geom_point(aes(color = cancergroup), alpha = 1, size = 3) + \n",
    "# geom_text(data = df_narm[df_narm$Patient %in% c( \"CHP_413\"),], aes(label = Patient), size = 3, nudge_x = 0.1, nudge_y = 0.1) +\n",
    "myplot + myaxis + #theme(axis.text.x = element_text(angle = 0, hjust = 0.5)) +\n",
    "scale_color_manual(values =  group_col) "
   ]
  },
  {
   "cell_type": "code",
   "execution_count": 49,
   "metadata": {
    "vscode": {
     "languageId": "r"
    }
   },
   "outputs": [
    {
     "data": {
      "text/plain": [
       "\n",
       "CHP_343 CHP_346 CHP_347 CHP_348 CHP_349 CHP_350 CHP_351 CHP_352 CHP_353 CHP_354 \n",
       "      4       1       5       2       2       5       1       1       3       1 \n",
       "CHP_356 CHP_357 CHP_358 CHP_361 CHP_362 CHP_363 CHP_364 CHP_365 CHP_367 CHP_368 \n",
       "      3       5       1       3       3       1       3       1       1       1 \n",
       "CHP_369 CHP_370 CHP_371 CHP_372 CHP_373 CHP_375 CHP_378 CHP_381 CHP_383 CHP_385 \n",
       "      1       1       1       1       1       1       2       1       2       1 \n",
       "CHP_387 CHP_390 CHP_391 CHP_393 CHP_394 CHP_396 CHP_397 CHP_398 CHP_399 CHP_400 \n",
       "      2       1       2       1       2       2       2       2       3       1 \n",
       "CHP_403 CHP_404 CHP_405 CHP_407 CHP_408 CHP_409 CHP_410 CHP_411 CHP_413 CHP_414 \n",
       "      1       1       3       2       3       2       1       1       2       1 \n",
       "CHP_415 CHP_418 CHP_419 \n",
       "      1       1       1 "
      ]
     },
     "metadata": {},
     "output_type": "display_data"
    }
   ],
   "source": [
    "table(df_narm$Patient ) "
   ]
  },
  {
   "cell_type": "code",
   "execution_count": 61,
   "metadata": {
    "vscode": {
     "languageId": "r"
    }
   },
   "outputs": [
    {
     "data": {
      "text/plain": [
       "\n",
       "CHP_343 CHP_346 CHP_347 CHP_348 CHP_350 CHP_351 CHP_352 CHP_354 CHP_357 CHP_358 \n",
       "      4       1       5       2       5       1       1       1       5       1 \n",
       "CHP_361 CHP_362 CHP_363 CHP_365 CHP_367 CHP_369 CHP_370 CHP_371 CHP_372 CHP_373 \n",
       "      3       3       1       1       1       1       1       1       1       1 \n",
       "CHP_375 CHP_378 CHP_381 CHP_383 CHP_385 CHP_387 CHP_391 CHP_393 CHP_394 CHP_396 \n",
       "      1       2       1       2       1       2       2       1       2       2 \n",
       "CHP_397 CHP_398 CHP_399 CHP_400 CHP_403 CHP_404 CHP_405 CHP_407 CHP_408 CHP_409 \n",
       "      2       2       3       1       1       1       3       2       3       2 \n",
       "CHP_410 CHP_414 CHP_415 CHP_419 \n",
       "      1       1       1       1 "
      ]
     },
     "metadata": {},
     "output_type": "display_data"
    }
   ],
   "source": [
    "table(df_narm$Patient[df_narm$Relapse == 0])"
   ]
  },
  {
   "cell_type": "code",
   "execution_count": 51,
   "metadata": {
    "vscode": {
     "languageId": "r"
    }
   },
   "outputs": [
    {
     "data": {
      "text/html": [
       "<table class=\"dataframe\">\n",
       "<caption>A tibble: 6 x 8837</caption>\n",
       "<thead>\n",
       "\t<tr><th scope=col>sample_id</th><th scope=col>Patient</th><th scope=col>cycle</th><th scope=col>FOLD</th><th scope=col>ATC</th><th scope=col>Age</th><th scope=col>Disease_type</th><th scope=col>TE_fold</th><th scope=col>CD3</th><th scope=col>EM</th><th scope=col>...</th><th scope=col>%G</th><th scope=col>%E</th><th scope=col>cyclenum</th><th scope=col>Dim1</th><th scope=col>Dim2</th><th scope=col>dist</th><th scope=col>quantreg</th><th scope=col>quantreg1</th><th scope=col>quantreg2</th><th scope=col>meddist_n</th></tr>\n",
       "\t<tr><th scope=col>&lt;chr&gt;</th><th scope=col>&lt;chr&gt;</th><th scope=col>&lt;chr&gt;</th><th scope=col>&lt;dbl&gt;</th><th scope=col>&lt;dbl&gt;</th><th scope=col>&lt;dbl&gt;</th><th scope=col>&lt;chr&gt;</th><th scope=col>&lt;dbl&gt;</th><th scope=col>&lt;int&gt;</th><th scope=col>&lt;int&gt;</th><th scope=col>...</th><th scope=col>&lt;dbl&gt;</th><th scope=col>&lt;dbl&gt;</th><th scope=col>&lt;dbl&gt;</th><th scope=col>&lt;dbl&gt;</th><th scope=col>&lt;dbl&gt;</th><th scope=col>&lt;dbl&gt;</th><th scope=col>&lt;dbl&gt;</th><th scope=col>&lt;dbl&gt;</th><th scope=col>&lt;dbl&gt;</th><th scope=col>&lt;dbl&gt;</th></tr>\n",
       "</thead>\n",
       "<tbody>\n",
       "\t<tr><td>CHP_346_01</td><td>CHP_346</td><td>X01</td><td> 0.8</td><td> 331.70</td><td> 1</td><td>NB    </td><td> 0.8</td><td> 637</td><td> 0</td><td>...</td><td>0</td><td>0</td><td>1</td><td>1.1528760</td><td> 2.7379150</td><td>NA</td><td>         NA</td><td>         NA</td><td>         NA</td><td>       NA</td></tr>\n",
       "\t<tr><td>CHP_347_01</td><td>CHP_347</td><td>X01</td><td> 0.8</td><td> 126.72</td><td>13</td><td>ALL   </td><td> 0.8</td><td>1701</td><td> 1</td><td>...</td><td>0</td><td>0</td><td>1</td><td>0.9560215</td><td>-0.8316722</td><td>NA</td><td>-0.01345430</td><td>-0.11178772</td><td>-0.16848748</td><td>0.7204043</td></tr>\n",
       "\t<tr><td>CHP_348_01</td><td>CHP_348</td><td>X01</td><td>11.5</td><td>  50.96</td><td>18</td><td>OS    </td><td>11.5</td><td>1125</td><td>28</td><td>...</td><td>0</td><td>0</td><td>1</td><td>0.7284483</td><td> 0.3967528</td><td>NA</td><td> 0.44827013</td><td>-0.48605209</td><td>-0.43576527</td><td>0.6527925</td></tr>\n",
       "\t<tr><td>CHP_349_01</td><td>CHP_349</td><td>X01</td><td> 2.0</td><td>3152.22</td><td>17</td><td>CML   </td><td> 2.0</td><td>2735</td><td>53</td><td>...</td><td>0</td><td>0</td><td>1</td><td>1.8591443</td><td>-1.4181300</td><td>NA</td><td>-0.21810580</td><td>-1.50386731</td><td> 0.65600437</td><td>1.6407189</td></tr>\n",
       "\t<tr><td>CHP_350_01</td><td>CHP_350</td><td>X01</td><td> 2.7</td><td>1615.44</td><td> 1</td><td>HB    </td><td> 2.7</td><td>1338</td><td>18</td><td>...</td><td>0</td><td>0</td><td>1</td><td>1.5666157</td><td> 0.9483792</td><td>NA</td><td> 0.07299216</td><td>-0.08247636</td><td> 0.05737364</td><td>0.4027098</td></tr>\n",
       "\t<tr><td>CHP_352_01</td><td>CHP_352</td><td>X01</td><td> 1.2</td><td> 763.14</td><td>17</td><td>HR ALL</td><td> 1.2</td><td>2337</td><td> 2</td><td>...</td><td>0</td><td>0</td><td>1</td><td>1.7527945</td><td>-1.5201639</td><td>NA</td><td>         NA</td><td>         NA</td><td>         NA</td><td>       NA</td></tr>\n",
       "</tbody>\n",
       "</table>\n"
      ],
      "text/latex": [
       "A tibble: 6 x 8837\n",
       "\\begin{tabular}{lllllllllllllllllllll}\n",
       " sample\\_id & Patient & cycle & FOLD & ATC & Age & Disease\\_type & TE\\_fold & CD3 & EM & ... & \\%G & \\%E & cyclenum & Dim1 & Dim2 & dist & quantreg & quantreg1 & quantreg2 & meddist\\_n\\\\\n",
       " <chr> & <chr> & <chr> & <dbl> & <dbl> & <dbl> & <chr> & <dbl> & <int> & <int> & ... & <dbl> & <dbl> & <dbl> & <dbl> & <dbl> & <dbl> & <dbl> & <dbl> & <dbl> & <dbl>\\\\\n",
       "\\hline\n",
       "\t CHP\\_346\\_01 & CHP\\_346 & X01 &  0.8 &  331.70 &  1 & NB     &  0.8 &  637 &  0 & ... & 0 & 0 & 1 & 1.1528760 &  2.7379150 & NA &          NA &          NA &          NA &        NA\\\\\n",
       "\t CHP\\_347\\_01 & CHP\\_347 & X01 &  0.8 &  126.72 & 13 & ALL    &  0.8 & 1701 &  1 & ... & 0 & 0 & 1 & 0.9560215 & -0.8316722 & NA & -0.01345430 & -0.11178772 & -0.16848748 & 0.7204043\\\\\n",
       "\t CHP\\_348\\_01 & CHP\\_348 & X01 & 11.5 &   50.96 & 18 & OS     & 11.5 & 1125 & 28 & ... & 0 & 0 & 1 & 0.7284483 &  0.3967528 & NA &  0.44827013 & -0.48605209 & -0.43576527 & 0.6527925\\\\\n",
       "\t CHP\\_349\\_01 & CHP\\_349 & X01 &  2.0 & 3152.22 & 17 & CML    &  2.0 & 2735 & 53 & ... & 0 & 0 & 1 & 1.8591443 & -1.4181300 & NA & -0.21810580 & -1.50386731 &  0.65600437 & 1.6407189\\\\\n",
       "\t CHP\\_350\\_01 & CHP\\_350 & X01 &  2.7 & 1615.44 &  1 & HB     &  2.7 & 1338 & 18 & ... & 0 & 0 & 1 & 1.5666157 &  0.9483792 & NA &  0.07299216 & -0.08247636 &  0.05737364 & 0.4027098\\\\\n",
       "\t CHP\\_352\\_01 & CHP\\_352 & X01 &  1.2 &  763.14 & 17 & HR ALL &  1.2 & 2337 &  2 & ... & 0 & 0 & 1 & 1.7527945 & -1.5201639 & NA &          NA &          NA &          NA &        NA\\\\\n",
       "\\end{tabular}\n"
      ],
      "text/markdown": [
       "\n",
       "A tibble: 6 x 8837\n",
       "\n",
       "| sample_id &lt;chr&gt; | Patient &lt;chr&gt; | cycle &lt;chr&gt; | FOLD &lt;dbl&gt; | ATC &lt;dbl&gt; | Age &lt;dbl&gt; | Disease_type &lt;chr&gt; | TE_fold &lt;dbl&gt; | CD3 &lt;int&gt; | EM &lt;int&gt; | ... ... | %G &lt;dbl&gt; | %E &lt;dbl&gt; | cyclenum &lt;dbl&gt; | Dim1 &lt;dbl&gt; | Dim2 &lt;dbl&gt; | dist &lt;dbl&gt; | quantreg &lt;dbl&gt; | quantreg1 &lt;dbl&gt; | quantreg2 &lt;dbl&gt; | meddist_n &lt;dbl&gt; |\n",
       "|---|---|---|---|---|---|---|---|---|---|---|---|---|---|---|---|---|---|---|---|---|\n",
       "| CHP_346_01 | CHP_346 | X01 |  0.8 |  331.70 |  1 | NB     |  0.8 |  637 |  0 | ... | 0 | 0 | 1 | 1.1528760 |  2.7379150 | NA |          NA |          NA |          NA |        NA |\n",
       "| CHP_347_01 | CHP_347 | X01 |  0.8 |  126.72 | 13 | ALL    |  0.8 | 1701 |  1 | ... | 0 | 0 | 1 | 0.9560215 | -0.8316722 | NA | -0.01345430 | -0.11178772 | -0.16848748 | 0.7204043 |\n",
       "| CHP_348_01 | CHP_348 | X01 | 11.5 |   50.96 | 18 | OS     | 11.5 | 1125 | 28 | ... | 0 | 0 | 1 | 0.7284483 |  0.3967528 | NA |  0.44827013 | -0.48605209 | -0.43576527 | 0.6527925 |\n",
       "| CHP_349_01 | CHP_349 | X01 |  2.0 | 3152.22 | 17 | CML    |  2.0 | 2735 | 53 | ... | 0 | 0 | 1 | 1.8591443 | -1.4181300 | NA | -0.21810580 | -1.50386731 |  0.65600437 | 1.6407189 |\n",
       "| CHP_350_01 | CHP_350 | X01 |  2.7 | 1615.44 |  1 | HB     |  2.7 | 1338 | 18 | ... | 0 | 0 | 1 | 1.5666157 |  0.9483792 | NA |  0.07299216 | -0.08247636 |  0.05737364 | 0.4027098 |\n",
       "| CHP_352_01 | CHP_352 | X01 |  1.2 |  763.14 | 17 | HR ALL |  1.2 | 2337 |  2 | ... | 0 | 0 | 1 | 1.7527945 | -1.5201639 | NA |          NA |          NA |          NA |        NA |\n",
       "\n"
      ],
      "text/plain": [
       "  sample_id  Patient cycle FOLD ATC     Age Disease_type TE_fold CD3  EM ... %G\n",
       "1 CHP_346_01 CHP_346 X01    0.8  331.70  1  NB            0.8     637  0 ... 0 \n",
       "2 CHP_347_01 CHP_347 X01    0.8  126.72 13  ALL           0.8    1701  1 ... 0 \n",
       "3 CHP_348_01 CHP_348 X01   11.5   50.96 18  OS           11.5    1125 28 ... 0 \n",
       "4 CHP_349_01 CHP_349 X01    2.0 3152.22 17  CML           2.0    2735 53 ... 0 \n",
       "5 CHP_350_01 CHP_350 X01    2.7 1615.44  1  HB            2.7    1338 18 ... 0 \n",
       "6 CHP_352_01 CHP_352 X01    1.2  763.14 17  HR ALL        1.2    2337  2 ... 0 \n",
       "  %E cyclenum Dim1      Dim2       dist quantreg    quantreg1   quantreg2  \n",
       "1 0  1        1.1528760  2.7379150 NA            NA          NA          NA\n",
       "2 0  1        0.9560215 -0.8316722 NA   -0.01345430 -0.11178772 -0.16848748\n",
       "3 0  1        0.7284483  0.3967528 NA    0.44827013 -0.48605209 -0.43576527\n",
       "4 0  1        1.8591443 -1.4181300 NA   -0.21810580 -1.50386731  0.65600437\n",
       "5 0  1        1.5666157  0.9483792 NA    0.07299216 -0.08247636  0.05737364\n",
       "6 0  1        1.7527945 -1.5201639 NA            NA          NA          NA\n",
       "  meddist_n\n",
       "1        NA\n",
       "2 0.7204043\n",
       "3 0.6527925\n",
       "4 1.6407189\n",
       "5 0.4027098\n",
       "6        NA"
      ]
     },
     "metadata": {},
     "output_type": "display_data"
    }
   ],
   "source": [
    "head(df_narm)"
   ]
  },
  {
   "cell_type": "code",
   "execution_count": 52,
   "metadata": {
    "vscode": {
     "languageId": "r"
    }
   },
   "outputs": [
    {
     "data": {
      "text/plain": [
       "     Min.   1st Qu.    Median      Mean   3rd Qu.      Max.      NA's \n",
       "-2.694520 -0.218106 -0.000872  0.298233  0.119505 14.333340        28 "
      ]
     },
     "metadata": {},
     "output_type": "display_data"
    }
   ],
   "source": [
    "# summary(df_narm$quantreg)"
   ]
  },
  {
   "cell_type": "code",
   "execution_count": 63,
   "metadata": {
    "vscode": {
     "languageId": "r"
    }
   },
   "outputs": [],
   "source": [
    "df_narm$prepost <- NA\n",
    "df_narm$prepost[ df_narm$cycle == \"X01\"] <- \"Pre\"\n",
    "df_narm$prepost[ df_narm$cycle != \"X01\"] <- \"Post\""
   ]
  },
  {
   "cell_type": "code",
   "execution_count": 64,
   "metadata": {
    "vscode": {
     "languageId": "r"
    }
   },
   "outputs": [],
   "source": [
    "dimplot_pt <- function(df, pt){\n",
    "   p1 <- ggplot(data = df, aes(x = Dim1, y = Dim2,  shape = as.factor(prepost)))  + \n",
    "geom_point(aes(color = cancergroup), alpha = 1, size = 3) + \n",
    "# geom_text(data = df_narm[df_narm$Patient %in% c( \"CHP_418\"),], aes(label = Patient), size = 3, nudge_x = 0.1, nudge_y = 0.1) +\n",
    " geom_path(data = df_narm[df_narm$Patient == pt,], aes(group = Patient), #color = c(\"red\", \"black\"),\n",
    " arrow = arrow(length=unit(0.30,\"cm\"), ends=\"last\", type = \"closed\")) +\n",
    "myplot + myaxis + theme(axis.text.x = element_text(angle = 0, hjust = 0.5)) +\n",
    "scale_color_manual(values =  group_col) + geom_hline(yintercept = 0,  linetype = \"dashed\") +\n",
    "geom_vline(xintercept = 0,  linetype = \"dashed\") + ggtitle(pt)\n",
    "return(p1)\n",
    "}"
   ]
  },
  {
   "cell_type": "code",
   "execution_count": 65,
   "metadata": {
    "vscode": {
     "languageId": "r"
    }
   },
   "outputs": [],
   "source": [
    "for( i in c(\"CHP_353\", \"CHP_356\", \"CHP_364\", \"CHP_362\", \"CHP_361\", \"CHP_399\", \"CHP_408\", \"CHP_405\")){\n",
    "    pdf(paste0(plotpath, \"PCAplot_\", i, \".pdf\"))\n",
    "    print(dimplot_pt(df_narm, i))\n",
    "    dev.off()\n",
    "}"
   ]
  },
  {
   "cell_type": "code",
   "execution_count": 54,
   "metadata": {
    "vscode": {
     "languageId": "r"
    }
   },
   "outputs": [
    {
     "data": {
      "image/png": "[encoded data removed]",
      "text/plain": [
       "plot without title"
      ]
     },
     "metadata": {
      "image/png": {
       "height": 420,
       "width": 420
      }
     },
     "output_type": "display_data"
    }
   ],
   "source": [
    "ggplot(data = df_narm, aes(x = Dim1, y = Dim2,  shape = as.factor(Relapse)))  + \n",
    "geom_point(aes(color = cancergroup), alpha = 1, size = 3) + \n",
    "# geom_text(data = df_narm[df_narm$Patient %in% c( \"CHP_418\"),], aes(label = Patient), size = 3, nudge_x = 0.1, nudge_y = 0.1) +\n",
    " geom_path(data = df_narm[df_narm$Patient %in% c( \"CHP_353\"),], aes(group = Patient), #color = c(\"red\", \"black\"),\n",
    " arrow = arrow(length=unit(0.30,\"cm\"), ends=\"last\", type = \"closed\")) +\n",
    "myplot + myaxis + theme(axis.text.x = element_text(angle = 0, hjust = 0.5)) +\n",
    "scale_color_manual(values =  group_col) + geom_hline(yintercept = 0,  linetype = \"dashed\") +\n",
    "geom_vline(xintercept = 0,  linetype = \"dashed\") + ggtitle(expression(underline(\"PCA\"))) "
   ]
  },
  {
   "cell_type": "code",
   "execution_count": 68,
   "metadata": {
    "vscode": {
     "languageId": "r"
    }
   },
   "outputs": [
    {
     "data": {
      "text/html": [
       "<table class=\"dataframe\">\n",
       "<caption>A tibble: 6 x 8838</caption>\n",
       "<thead>\n",
       "\t<tr><th scope=col>sample_id</th><th scope=col>Patient</th><th scope=col>cycle</th><th scope=col>FOLD</th><th scope=col>ATC</th><th scope=col>Age</th><th scope=col>Disease_type</th><th scope=col>TE_fold</th><th scope=col>CD3</th><th scope=col>EM</th><th scope=col>...</th><th scope=col>%E</th><th scope=col>cyclenum</th><th scope=col>Dim1</th><th scope=col>Dim2</th><th scope=col>dist</th><th scope=col>quantreg</th><th scope=col>quantreg1</th><th scope=col>quantreg2</th><th scope=col>meddist_n</th><th scope=col>prepost</th></tr>\n",
       "\t<tr><th scope=col>&lt;chr&gt;</th><th scope=col>&lt;chr&gt;</th><th scope=col>&lt;chr&gt;</th><th scope=col>&lt;dbl&gt;</th><th scope=col>&lt;dbl&gt;</th><th scope=col>&lt;dbl&gt;</th><th scope=col>&lt;chr&gt;</th><th scope=col>&lt;dbl&gt;</th><th scope=col>&lt;int&gt;</th><th scope=col>&lt;int&gt;</th><th scope=col>...</th><th scope=col>&lt;dbl&gt;</th><th scope=col>&lt;dbl&gt;</th><th scope=col>&lt;dbl&gt;</th><th scope=col>&lt;dbl&gt;</th><th scope=col>&lt;dbl&gt;</th><th scope=col>&lt;dbl&gt;</th><th scope=col>&lt;dbl&gt;</th><th scope=col>&lt;dbl&gt;</th><th scope=col>&lt;dbl&gt;</th><th scope=col>&lt;chr&gt;</th></tr>\n",
       "</thead>\n",
       "<tbody>\n",
       "\t<tr><td>CHP_357_05</td><td>CHP_357</td><td>X05</td><td>2.9</td><td>  0.00</td><td> 1</td><td>AML  </td><td>2.9</td><td> 611</td><td>  8</td><td>...</td><td>0</td><td>5</td><td>-0.70616989</td><td> 2.4003769</td><td>3.919579</td><td>-0.0008721045</td><td>-0.06617686</td><td> 0.00263992</td><td>0.5518933</td><td>Post</td></tr>\n",
       "\t<tr><td>CHP_375_05</td><td>CHP_375</td><td>X05</td><td>0.5</td><td>  0.00</td><td>14</td><td>T-ALL</td><td>0.5</td><td>1481</td><td>  6</td><td>...</td><td>0</td><td>5</td><td>-3.20318658</td><td>-1.9718182</td><td>      NA</td><td>           NA</td><td>         NA</td><td>         NA</td><td>       NA</td><td>Post</td></tr>\n",
       "\t<tr><td>CHP_383_05</td><td>CHP_383</td><td>X05</td><td>0.8</td><td>  0.00</td><td> 8</td><td>ALL  </td><td>0.8</td><td> 353</td><td>  1</td><td>...</td><td>0</td><td>5</td><td>-0.06711793</td><td> 0.6544565</td><td>      NA</td><td>-0.2269388889</td><td>-0.40441987</td><td> 0.18355719</td><td>       NA</td><td>Post</td></tr>\n",
       "\t<tr><td>CHP_390_05</td><td>CHP_390</td><td>X05</td><td>0.0</td><td>791.48</td><td> 5</td><td>OS   </td><td>0.0</td><td>2506</td><td>307</td><td>...</td><td>0</td><td>5</td><td> 0.37416339</td><td> 0.8357395</td><td>      NA</td><td>           NA</td><td>         NA</td><td>         NA</td><td>       NA</td><td>Post</td></tr>\n",
       "\t<tr><td>CHP_397_05</td><td>CHP_397</td><td>X05</td><td>1.5</td><td>  0.00</td><td> 2</td><td>ALL  </td><td>1.5</td><td>2527</td><td> 98</td><td>...</td><td>0</td><td>5</td><td> 0.78158753</td><td>-1.2500691</td><td>      NA</td><td> 0.3431974884</td><td>-0.07844783</td><td>-0.05384619</td><td>       NA</td><td>Post</td></tr>\n",
       "\t<tr><td>CHP_398_05</td><td>CHP_398</td><td>X05</td><td>4.3</td><td>  0.00</td><td> 6</td><td>ALL  </td><td>4.3</td><td>3100</td><td>  1</td><td>...</td><td>0</td><td>5</td><td> 0.51808062</td><td>-0.7753831</td><td>1.150971</td><td>-0.3299006192</td><td> 0.48034956</td><td>-0.31693524</td><td>0.5754856</td><td>Post</td></tr>\n",
       "</tbody>\n",
       "</table>\n"
      ],
      "text/latex": [
       "A tibble: 6 x 8838\n",
       "\\begin{tabular}{lllllllllllllllllllll}\n",
       " sample\\_id & Patient & cycle & FOLD & ATC & Age & Disease\\_type & TE\\_fold & CD3 & EM & ... & \\%E & cyclenum & Dim1 & Dim2 & dist & quantreg & quantreg1 & quantreg2 & meddist\\_n & prepost\\\\\n",
       " <chr> & <chr> & <chr> & <dbl> & <dbl> & <dbl> & <chr> & <dbl> & <int> & <int> & ... & <dbl> & <dbl> & <dbl> & <dbl> & <dbl> & <dbl> & <dbl> & <dbl> & <dbl> & <chr>\\\\\n",
       "\\hline\n",
       "\t CHP\\_357\\_05 & CHP\\_357 & X05 & 2.9 &   0.00 &  1 & AML   & 2.9 &  611 &   8 & ... & 0 & 5 & -0.70616989 &  2.4003769 & 3.919579 & -0.0008721045 & -0.06617686 &  0.00263992 & 0.5518933 & Post\\\\\n",
       "\t CHP\\_375\\_05 & CHP\\_375 & X05 & 0.5 &   0.00 & 14 & T-ALL & 0.5 & 1481 &   6 & ... & 0 & 5 & -3.20318658 & -1.9718182 &       NA &            NA &          NA &          NA &        NA & Post\\\\\n",
       "\t CHP\\_383\\_05 & CHP\\_383 & X05 & 0.8 &   0.00 &  8 & ALL   & 0.8 &  353 &   1 & ... & 0 & 5 & -0.06711793 &  0.6544565 &       NA & -0.2269388889 & -0.40441987 &  0.18355719 &        NA & Post\\\\\n",
       "\t CHP\\_390\\_05 & CHP\\_390 & X05 & 0.0 & 791.48 &  5 & OS    & 0.0 & 2506 & 307 & ... & 0 & 5 &  0.37416339 &  0.8357395 &       NA &            NA &          NA &          NA &        NA & Post\\\\\n",
       "\t CHP\\_397\\_05 & CHP\\_397 & X05 & 1.5 &   0.00 &  2 & ALL   & 1.5 & 2527 &  98 & ... & 0 & 5 &  0.78158753 & -1.2500691 &       NA &  0.3431974884 & -0.07844783 & -0.05384619 &        NA & Post\\\\\n",
       "\t CHP\\_398\\_05 & CHP\\_398 & X05 & 4.3 &   0.00 &  6 & ALL   & 4.3 & 3100 &   1 & ... & 0 & 5 &  0.51808062 & -0.7753831 & 1.150971 & -0.3299006192 &  0.48034956 & -0.31693524 & 0.5754856 & Post\\\\\n",
       "\\end{tabular}\n"
      ],
      "text/markdown": [
       "\n",
       "A tibble: 6 x 8838\n",
       "\n",
       "| sample_id &lt;chr&gt; | Patient &lt;chr&gt; | cycle &lt;chr&gt; | FOLD &lt;dbl&gt; | ATC &lt;dbl&gt; | Age &lt;dbl&gt; | Disease_type &lt;chr&gt; | TE_fold &lt;dbl&gt; | CD3 &lt;int&gt; | EM &lt;int&gt; | ... ... | %E &lt;dbl&gt; | cyclenum &lt;dbl&gt; | Dim1 &lt;dbl&gt; | Dim2 &lt;dbl&gt; | dist &lt;dbl&gt; | quantreg &lt;dbl&gt; | quantreg1 &lt;dbl&gt; | quantreg2 &lt;dbl&gt; | meddist_n &lt;dbl&gt; | prepost &lt;chr&gt; |\n",
       "|---|---|---|---|---|---|---|---|---|---|---|---|---|---|---|---|---|---|---|---|---|\n",
       "| CHP_357_05 | CHP_357 | X05 | 2.9 |   0.00 |  1 | AML   | 2.9 |  611 |   8 | ... | 0 | 5 | -0.70616989 |  2.4003769 | 3.919579 | -0.0008721045 | -0.06617686 |  0.00263992 | 0.5518933 | Post |\n",
       "| CHP_375_05 | CHP_375 | X05 | 0.5 |   0.00 | 14 | T-ALL | 0.5 | 1481 |   6 | ... | 0 | 5 | -3.20318658 | -1.9718182 |       NA |            NA |          NA |          NA |        NA | Post |\n",
       "| CHP_383_05 | CHP_383 | X05 | 0.8 |   0.00 |  8 | ALL   | 0.8 |  353 |   1 | ... | 0 | 5 | -0.06711793 |  0.6544565 |       NA | -0.2269388889 | -0.40441987 |  0.18355719 |        NA | Post |\n",
       "| CHP_390_05 | CHP_390 | X05 | 0.0 | 791.48 |  5 | OS    | 0.0 | 2506 | 307 | ... | 0 | 5 |  0.37416339 |  0.8357395 |       NA |            NA |          NA |          NA |        NA | Post |\n",
       "| CHP_397_05 | CHP_397 | X05 | 1.5 |   0.00 |  2 | ALL   | 1.5 | 2527 |  98 | ... | 0 | 5 |  0.78158753 | -1.2500691 |       NA |  0.3431974884 | -0.07844783 | -0.05384619 |        NA | Post |\n",
       "| CHP_398_05 | CHP_398 | X05 | 4.3 |   0.00 |  6 | ALL   | 4.3 | 3100 |   1 | ... | 0 | 5 |  0.51808062 | -0.7753831 | 1.150971 | -0.3299006192 |  0.48034956 | -0.31693524 | 0.5754856 | Post |\n",
       "\n"
      ],
      "text/plain": [
       "  sample_id  Patient cycle FOLD ATC    Age Disease_type TE_fold CD3  EM  ... %E\n",
       "1 CHP_357_05 CHP_357 X05   2.9    0.00  1  AML          2.9      611   8 ... 0 \n",
       "2 CHP_375_05 CHP_375 X05   0.5    0.00 14  T-ALL        0.5     1481   6 ... 0 \n",
       "3 CHP_383_05 CHP_383 X05   0.8    0.00  8  ALL          0.8      353   1 ... 0 \n",
       "4 CHP_390_05 CHP_390 X05   0.0  791.48  5  OS           0.0     2506 307 ... 0 \n",
       "5 CHP_397_05 CHP_397 X05   1.5    0.00  2  ALL          1.5     2527  98 ... 0 \n",
       "6 CHP_398_05 CHP_398 X05   4.3    0.00  6  ALL          4.3     3100   1 ... 0 \n",
       "  cyclenum Dim1        Dim2       dist     quantreg      quantreg1  \n",
       "1 5        -0.70616989  2.4003769 3.919579 -0.0008721045 -0.06617686\n",
       "2 5        -3.20318658 -1.9718182       NA            NA          NA\n",
       "3 5        -0.06711793  0.6544565       NA -0.2269388889 -0.40441987\n",
       "4 5         0.37416339  0.8357395       NA            NA          NA\n",
       "5 5         0.78158753 -1.2500691       NA  0.3431974884 -0.07844783\n",
       "6 5         0.51808062 -0.7753831 1.150971 -0.3299006192  0.48034956\n",
       "  quantreg2   meddist_n prepost\n",
       "1  0.00263992 0.5518933 Post   \n",
       "2          NA        NA Post   \n",
       "3  0.18355719        NA Post   \n",
       "4          NA        NA Post   \n",
       "5 -0.05384619        NA Post   \n",
       "6 -0.31693524 0.5754856 Post   "
      ]
     },
     "metadata": {},
     "output_type": "display_data"
    }
   ],
   "source": [
    "tail(df_narm)"
   ]
  },
  {
   "cell_type": "code",
   "execution_count": 85,
   "metadata": {
    "vscode": {
     "languageId": "r"
    }
   },
   "outputs": [],
   "source": [
    "df_narm_pre_post <- df_narm[df_narm$cycle %in% c(\"X02\"), ]\n",
    "df_narm_pre_post$dist_pre <- df_narm_pre_post$dist\n",
    "\n",
    "df_narm_pre_post$dist_post <- NA\n",
    "for (i in 1:nrow(df_narm_pre_post)) {\n",
    "    tm <- df_narm$dist[df_narm$Patient == df_narm_pre_post$Patient[i] & df_narm$cycle != \"X02\"]\n",
    "    if(sum(is.na(tm)) == length(tm)){\n",
    "        df_narm_pre_post$dist_post[i] <- NA}\n",
    "    else{\n",
    "    df_narm_pre_post$dist_post[i] <- mean(tm, na.rm = T)\n",
    "}  \n",
    "}"
   ]
  },
  {
   "cell_type": "code",
   "execution_count": 86,
   "metadata": {
    "vscode": {
     "languageId": "r"
    }
   },
   "outputs": [
    {
     "data": {
      "text/html": [
       "<table class=\"dataframe\">\n",
       "<caption>A tibble: 2 x 8838</caption>\n",
       "<thead>\n",
       "\t<tr><th scope=col>sample_id</th><th scope=col>Patient</th><th scope=col>cycle</th><th scope=col>FOLD</th><th scope=col>ATC</th><th scope=col>Age</th><th scope=col>Disease_type</th><th scope=col>TE_fold</th><th scope=col>CD3</th><th scope=col>EM</th><th scope=col>...</th><th scope=col>%E</th><th scope=col>cyclenum</th><th scope=col>Dim1</th><th scope=col>Dim2</th><th scope=col>dist</th><th scope=col>quantreg</th><th scope=col>quantreg1</th><th scope=col>quantreg2</th><th scope=col>meddist_n</th><th scope=col>prepost</th></tr>\n",
       "\t<tr><th scope=col>&lt;chr&gt;</th><th scope=col>&lt;chr&gt;</th><th scope=col>&lt;chr&gt;</th><th scope=col>&lt;dbl&gt;</th><th scope=col>&lt;dbl&gt;</th><th scope=col>&lt;dbl&gt;</th><th scope=col>&lt;chr&gt;</th><th scope=col>&lt;dbl&gt;</th><th scope=col>&lt;int&gt;</th><th scope=col>&lt;int&gt;</th><th scope=col>...</th><th scope=col>&lt;dbl&gt;</th><th scope=col>&lt;dbl&gt;</th><th scope=col>&lt;dbl&gt;</th><th scope=col>&lt;dbl&gt;</th><th scope=col>&lt;dbl&gt;</th><th scope=col>&lt;dbl&gt;</th><th scope=col>&lt;dbl&gt;</th><th scope=col>&lt;dbl&gt;</th><th scope=col>&lt;dbl&gt;</th><th scope=col>&lt;chr&gt;</th></tr>\n",
       "</thead>\n",
       "<tbody>\n",
       "\t<tr><td>CHP_348_01</td><td>CHP_348</td><td>X01</td><td>11.5</td><td> 50.96</td><td>18</td><td>OS</td><td>11.5</td><td>1125</td><td>28</td><td>...</td><td>0</td><td>1</td><td> 0.7284483</td><td> 0.3967528</td><td>      NA</td><td>0.4482701</td><td>-0.4860521</td><td>-0.4357653</td><td>0.6527925</td><td>Pre </td></tr>\n",
       "\t<tr><td>CHP_348_02</td><td>CHP_348</td><td>X02</td><td> 3.2</td><td>437.50</td><td>18</td><td>OS</td><td> 3.2</td><td>2379</td><td>61</td><td>...</td><td>0</td><td>2</td><td>-0.2436559</td><td>-0.4747777</td><td>1.305585</td><td>0.4482701</td><td>-0.4860521</td><td>-0.4357653</td><td>0.6527925</td><td>Post</td></tr>\n",
       "</tbody>\n",
       "</table>\n"
      ],
      "text/latex": [
       "A tibble: 2 x 8838\n",
       "\\begin{tabular}{lllllllllllllllllllll}\n",
       " sample\\_id & Patient & cycle & FOLD & ATC & Age & Disease\\_type & TE\\_fold & CD3 & EM & ... & \\%E & cyclenum & Dim1 & Dim2 & dist & quantreg & quantreg1 & quantreg2 & meddist\\_n & prepost\\\\\n",
       " <chr> & <chr> & <chr> & <dbl> & <dbl> & <dbl> & <chr> & <dbl> & <int> & <int> & ... & <dbl> & <dbl> & <dbl> & <dbl> & <dbl> & <dbl> & <dbl> & <dbl> & <dbl> & <chr>\\\\\n",
       "\\hline\n",
       "\t CHP\\_348\\_01 & CHP\\_348 & X01 & 11.5 &  50.96 & 18 & OS & 11.5 & 1125 & 28 & ... & 0 & 1 &  0.7284483 &  0.3967528 &       NA & 0.4482701 & -0.4860521 & -0.4357653 & 0.6527925 & Pre \\\\\n",
       "\t CHP\\_348\\_02 & CHP\\_348 & X02 &  3.2 & 437.50 & 18 & OS &  3.2 & 2379 & 61 & ... & 0 & 2 & -0.2436559 & -0.4747777 & 1.305585 & 0.4482701 & -0.4860521 & -0.4357653 & 0.6527925 & Post\\\\\n",
       "\\end{tabular}\n"
      ],
      "text/markdown": [
       "\n",
       "A tibble: 2 x 8838\n",
       "\n",
       "| sample_id &lt;chr&gt; | Patient &lt;chr&gt; | cycle &lt;chr&gt; | FOLD &lt;dbl&gt; | ATC &lt;dbl&gt; | Age &lt;dbl&gt; | Disease_type &lt;chr&gt; | TE_fold &lt;dbl&gt; | CD3 &lt;int&gt; | EM &lt;int&gt; | ... ... | %E &lt;dbl&gt; | cyclenum &lt;dbl&gt; | Dim1 &lt;dbl&gt; | Dim2 &lt;dbl&gt; | dist &lt;dbl&gt; | quantreg &lt;dbl&gt; | quantreg1 &lt;dbl&gt; | quantreg2 &lt;dbl&gt; | meddist_n &lt;dbl&gt; | prepost &lt;chr&gt; |\n",
       "|---|---|---|---|---|---|---|---|---|---|---|---|---|---|---|---|---|---|---|---|---|\n",
       "| CHP_348_01 | CHP_348 | X01 | 11.5 |  50.96 | 18 | OS | 11.5 | 1125 | 28 | ... | 0 | 1 |  0.7284483 |  0.3967528 |       NA | 0.4482701 | -0.4860521 | -0.4357653 | 0.6527925 | Pre  |\n",
       "| CHP_348_02 | CHP_348 | X02 |  3.2 | 437.50 | 18 | OS |  3.2 | 2379 | 61 | ... | 0 | 2 | -0.2436559 | -0.4747777 | 1.305585 | 0.4482701 | -0.4860521 | -0.4357653 | 0.6527925 | Post |\n",
       "\n"
      ],
      "text/plain": [
       "  sample_id  Patient cycle FOLD ATC    Age Disease_type TE_fold CD3  EM ... %E\n",
       "1 CHP_348_01 CHP_348 X01   11.5  50.96 18  OS           11.5    1125 28 ... 0 \n",
       "2 CHP_348_02 CHP_348 X02    3.2 437.50 18  OS            3.2    2379 61 ... 0 \n",
       "  cyclenum Dim1       Dim2       dist     quantreg  quantreg1  quantreg2 \n",
       "1 1         0.7284483  0.3967528       NA 0.4482701 -0.4860521 -0.4357653\n",
       "2 2        -0.2436559 -0.4747777 1.305585 0.4482701 -0.4860521 -0.4357653\n",
       "  meddist_n prepost\n",
       "1 0.6527925 Pre    \n",
       "2 0.6527925 Post   "
      ]
     },
     "metadata": {},
     "output_type": "display_data"
    }
   ],
   "source": [
    "df_narm[ df_narm$Patient == \"CHP_348\",]"
   ]
  },
  {
   "cell_type": "code",
   "execution_count": 87,
   "metadata": {
    "vscode": {
     "languageId": "r"
    }
   },
   "outputs": [
    {
     "data": {
      "text/html": [
       "<table class=\"dataframe\">\n",
       "<caption>A tibble: 6 x 8840</caption>\n",
       "<thead>\n",
       "\t<tr><th scope=col>sample_id</th><th scope=col>Patient</th><th scope=col>cycle</th><th scope=col>FOLD</th><th scope=col>ATC</th><th scope=col>Age</th><th scope=col>Disease_type</th><th scope=col>TE_fold</th><th scope=col>CD3</th><th scope=col>EM</th><th scope=col>...</th><th scope=col>Dim1</th><th scope=col>Dim2</th><th scope=col>dist</th><th scope=col>quantreg</th><th scope=col>quantreg1</th><th scope=col>quantreg2</th><th scope=col>meddist_n</th><th scope=col>prepost</th><th scope=col>dist_pre</th><th scope=col>dist_post</th></tr>\n",
       "\t<tr><th scope=col>&lt;chr&gt;</th><th scope=col>&lt;chr&gt;</th><th scope=col>&lt;chr&gt;</th><th scope=col>&lt;dbl&gt;</th><th scope=col>&lt;dbl&gt;</th><th scope=col>&lt;dbl&gt;</th><th scope=col>&lt;chr&gt;</th><th scope=col>&lt;dbl&gt;</th><th scope=col>&lt;int&gt;</th><th scope=col>&lt;int&gt;</th><th scope=col>...</th><th scope=col>&lt;dbl&gt;</th><th scope=col>&lt;dbl&gt;</th><th scope=col>&lt;dbl&gt;</th><th scope=col>&lt;dbl&gt;</th><th scope=col>&lt;dbl&gt;</th><th scope=col>&lt;dbl&gt;</th><th scope=col>&lt;dbl&gt;</th><th scope=col>&lt;chr&gt;</th><th scope=col>&lt;dbl&gt;</th><th scope=col>&lt;dbl&gt;</th></tr>\n",
       "</thead>\n",
       "<tbody>\n",
       "\t<tr><td>CHP_343_02</td><td>CHP_343</td><td>X02</td><td> 0.3</td><td> 459.04</td><td> 8</td><td>EWS</td><td> 0.3</td><td>1135</td><td> 16</td><td>...</td><td>-0.4478593</td><td>-1.5677589</td><td>      NA</td><td>-0.03080243</td><td>-0.29015979</td><td>-0.07532030</td><td>0.4792046</td><td>Post</td><td>      NA</td><td>1.904389</td></tr>\n",
       "\t<tr><td>CHP_347_02</td><td>CHP_347</td><td>X02</td><td> 6.4</td><td>1038.59</td><td>13</td><td>ALL</td><td> 6.4</td><td> 927</td><td> 15</td><td>...</td><td> 0.3970829</td><td> 2.5684987</td><td>3.445805</td><td>-0.01345430</td><td>-0.11178772</td><td>-0.16848748</td><td>0.7204043</td><td>Post</td><td>3.445805</td><td>5.043518</td></tr>\n",
       "\t<tr><td>CHP_348_02</td><td>CHP_348</td><td>X02</td><td> 3.2</td><td> 437.50</td><td>18</td><td>OS </td><td> 3.2</td><td>2379</td><td> 61</td><td>...</td><td>-0.2436559</td><td>-0.4747777</td><td>1.305585</td><td> 0.44827013</td><td>-0.48605209</td><td>-0.43576527</td><td>0.6527925</td><td>Post</td><td>1.305585</td><td>      NA</td></tr>\n",
       "\t<tr><td>CHP_349_02</td><td>CHP_349</td><td>X02</td><td>13.0</td><td> 353.06</td><td>17</td><td>CML</td><td>13.0</td><td>2767</td><td>717</td><td>...</td><td>-1.1485904</td><td>-0.1061213</td><td>3.281438</td><td>-0.21810580</td><td>-1.50386731</td><td> 0.65600437</td><td>1.6407189</td><td>Post</td><td>3.281438</td><td>      NA</td></tr>\n",
       "\t<tr><td>CHP_350_02</td><td>CHP_350</td><td>X02</td><td>39.5</td><td>   0.00</td><td> 1</td><td>HB </td><td>39.5</td><td>2368</td><td> 26</td><td>...</td><td> 1.3213678</td><td> 2.7986484</td><td>1.866452</td><td> 0.07299216</td><td>-0.08247636</td><td> 0.05737364</td><td>0.4027098</td><td>Post</td><td>1.866452</td><td>2.283024</td></tr>\n",
       "\t<tr><td>CHP_356_02</td><td>CHP_356</td><td>X02</td><td> 1.1</td><td>   0.00</td><td> 9</td><td>EWS</td><td> 1.1</td><td>1028</td><td> 66</td><td>...</td><td> 1.2987759</td><td>-0.9334167</td><td>      NA</td><td> 0.08955144</td><td>-0.03141932</td><td>-0.07674195</td><td>1.0361132</td><td>Post</td><td>      NA</td><td>2.072226</td></tr>\n",
       "</tbody>\n",
       "</table>\n"
      ],
      "text/latex": [
       "A tibble: 6 x 8840\n",
       "\\begin{tabular}{lllllllllllllllllllll}\n",
       " sample\\_id & Patient & cycle & FOLD & ATC & Age & Disease\\_type & TE\\_fold & CD3 & EM & ... & Dim1 & Dim2 & dist & quantreg & quantreg1 & quantreg2 & meddist\\_n & prepost & dist\\_pre & dist\\_post\\\\\n",
       " <chr> & <chr> & <chr> & <dbl> & <dbl> & <dbl> & <chr> & <dbl> & <int> & <int> & ... & <dbl> & <dbl> & <dbl> & <dbl> & <dbl> & <dbl> & <dbl> & <chr> & <dbl> & <dbl>\\\\\n",
       "\\hline\n",
       "\t CHP\\_343\\_02 & CHP\\_343 & X02 &  0.3 &  459.04 &  8 & EWS &  0.3 & 1135 &  16 & ... & -0.4478593 & -1.5677589 &       NA & -0.03080243 & -0.29015979 & -0.07532030 & 0.4792046 & Post &       NA & 1.904389\\\\\n",
       "\t CHP\\_347\\_02 & CHP\\_347 & X02 &  6.4 & 1038.59 & 13 & ALL &  6.4 &  927 &  15 & ... &  0.3970829 &  2.5684987 & 3.445805 & -0.01345430 & -0.11178772 & -0.16848748 & 0.7204043 & Post & 3.445805 & 5.043518\\\\\n",
       "\t CHP\\_348\\_02 & CHP\\_348 & X02 &  3.2 &  437.50 & 18 & OS  &  3.2 & 2379 &  61 & ... & -0.2436559 & -0.4747777 & 1.305585 &  0.44827013 & -0.48605209 & -0.43576527 & 0.6527925 & Post & 1.305585 &       NA\\\\\n",
       "\t CHP\\_349\\_02 & CHP\\_349 & X02 & 13.0 &  353.06 & 17 & CML & 13.0 & 2767 & 717 & ... & -1.1485904 & -0.1061213 & 3.281438 & -0.21810580 & -1.50386731 &  0.65600437 & 1.6407189 & Post & 3.281438 &       NA\\\\\n",
       "\t CHP\\_350\\_02 & CHP\\_350 & X02 & 39.5 &    0.00 &  1 & HB  & 39.5 & 2368 &  26 & ... &  1.3213678 &  2.7986484 & 1.866452 &  0.07299216 & -0.08247636 &  0.05737364 & 0.4027098 & Post & 1.866452 & 2.283024\\\\\n",
       "\t CHP\\_356\\_02 & CHP\\_356 & X02 &  1.1 &    0.00 &  9 & EWS &  1.1 & 1028 &  66 & ... &  1.2987759 & -0.9334167 &       NA &  0.08955144 & -0.03141932 & -0.07674195 & 1.0361132 & Post &       NA & 2.072226\\\\\n",
       "\\end{tabular}\n"
      ],
      "text/markdown": [
       "\n",
       "A tibble: 6 x 8840\n",
       "\n",
       "| sample_id &lt;chr&gt; | Patient &lt;chr&gt; | cycle &lt;chr&gt; | FOLD &lt;dbl&gt; | ATC &lt;dbl&gt; | Age &lt;dbl&gt; | Disease_type &lt;chr&gt; | TE_fold &lt;dbl&gt; | CD3 &lt;int&gt; | EM &lt;int&gt; | ... ... | Dim1 &lt;dbl&gt; | Dim2 &lt;dbl&gt; | dist &lt;dbl&gt; | quantreg &lt;dbl&gt; | quantreg1 &lt;dbl&gt; | quantreg2 &lt;dbl&gt; | meddist_n &lt;dbl&gt; | prepost &lt;chr&gt; | dist_pre &lt;dbl&gt; | dist_post &lt;dbl&gt; |\n",
       "|---|---|---|---|---|---|---|---|---|---|---|---|---|---|---|---|---|---|---|---|---|\n",
       "| CHP_343_02 | CHP_343 | X02 |  0.3 |  459.04 |  8 | EWS |  0.3 | 1135 |  16 | ... | -0.4478593 | -1.5677589 |       NA | -0.03080243 | -0.29015979 | -0.07532030 | 0.4792046 | Post |       NA | 1.904389 |\n",
       "| CHP_347_02 | CHP_347 | X02 |  6.4 | 1038.59 | 13 | ALL |  6.4 |  927 |  15 | ... |  0.3970829 |  2.5684987 | 3.445805 | -0.01345430 | -0.11178772 | -0.16848748 | 0.7204043 | Post | 3.445805 | 5.043518 |\n",
       "| CHP_348_02 | CHP_348 | X02 |  3.2 |  437.50 | 18 | OS  |  3.2 | 2379 |  61 | ... | -0.2436559 | -0.4747777 | 1.305585 |  0.44827013 | -0.48605209 | -0.43576527 | 0.6527925 | Post | 1.305585 |       NA |\n",
       "| CHP_349_02 | CHP_349 | X02 | 13.0 |  353.06 | 17 | CML | 13.0 | 2767 | 717 | ... | -1.1485904 | -0.1061213 | 3.281438 | -0.21810580 | -1.50386731 |  0.65600437 | 1.6407189 | Post | 3.281438 |       NA |\n",
       "| CHP_350_02 | CHP_350 | X02 | 39.5 |    0.00 |  1 | HB  | 39.5 | 2368 |  26 | ... |  1.3213678 |  2.7986484 | 1.866452 |  0.07299216 | -0.08247636 |  0.05737364 | 0.4027098 | Post | 1.866452 | 2.283024 |\n",
       "| CHP_356_02 | CHP_356 | X02 |  1.1 |    0.00 |  9 | EWS |  1.1 | 1028 |  66 | ... |  1.2987759 | -0.9334167 |       NA |  0.08955144 | -0.03141932 | -0.07674195 | 1.0361132 | Post |       NA | 2.072226 |\n",
       "\n"
      ],
      "text/plain": [
       "  sample_id  Patient cycle FOLD ATC     Age Disease_type TE_fold CD3  EM  ...\n",
       "1 CHP_343_02 CHP_343 X02    0.3  459.04  8  EWS           0.3    1135  16 ...\n",
       "2 CHP_347_02 CHP_347 X02    6.4 1038.59 13  ALL           6.4     927  15 ...\n",
       "3 CHP_348_02 CHP_348 X02    3.2  437.50 18  OS            3.2    2379  61 ...\n",
       "4 CHP_349_02 CHP_349 X02   13.0  353.06 17  CML          13.0    2767 717 ...\n",
       "5 CHP_350_02 CHP_350 X02   39.5    0.00  1  HB           39.5    2368  26 ...\n",
       "6 CHP_356_02 CHP_356 X02    1.1    0.00  9  EWS           1.1    1028  66 ...\n",
       "  Dim1       Dim2       dist     quantreg    quantreg1   quantreg2   meddist_n\n",
       "1 -0.4478593 -1.5677589       NA -0.03080243 -0.29015979 -0.07532030 0.4792046\n",
       "2  0.3970829  2.5684987 3.445805 -0.01345430 -0.11178772 -0.16848748 0.7204043\n",
       "3 -0.2436559 -0.4747777 1.305585  0.44827013 -0.48605209 -0.43576527 0.6527925\n",
       "4 -1.1485904 -0.1061213 3.281438 -0.21810580 -1.50386731  0.65600437 1.6407189\n",
       "5  1.3213678  2.7986484 1.866452  0.07299216 -0.08247636  0.05737364 0.4027098\n",
       "6  1.2987759 -0.9334167       NA  0.08955144 -0.03141932 -0.07674195 1.0361132\n",
       "  prepost dist_pre dist_post\n",
       "1 Post          NA 1.904389 \n",
       "2 Post    3.445805 5.043518 \n",
       "3 Post    1.305585       NA \n",
       "4 Post    3.281438       NA \n",
       "5 Post    1.866452 2.283024 \n",
       "6 Post          NA 2.072226 "
      ]
     },
     "metadata": {},
     "output_type": "display_data"
    }
   ],
   "source": [
    "head(df_narm_pre_post)"
   ]
  },
  {
   "cell_type": "code",
   "execution_count": 91,
   "metadata": {
    "vscode": {
     "languageId": "r"
    }
   },
   "outputs": [
    {
     "data": {
      "text/plain": [
       "\n",
       " 0  1 \n",
       "15  6 "
      ]
     },
     "metadata": {},
     "output_type": "display_data"
    }
   ],
   "source": [
    "table(df_narm_pre_post$Relapse)"
   ]
  },
  {
   "cell_type": "code",
   "execution_count": 99,
   "metadata": {
    "vscode": {
     "languageId": "r"
    }
   },
   "outputs": [
    {
     "name": "stderr",
     "output_type": "stream",
     "text": [
      "Warning message:\n",
      "“\u001b[1m\u001b[22mRemoved 14 rows containing missing values (`geom_point()`).”\n"
     ]
    },
    {
     "data": {
      "image/png": "[encoded data removed]",
      "text/plain": [
       "plot without title"
      ]
     },
     "metadata": {
      "image/png": {
       "height": 420,
       "width": 420
      }
     },
     "output_type": "display_data"
    }
   ],
   "source": [
    "ggplot(data = df_narm_pre_post, aes(x = dist_post, y = dist_pre) ) + \n",
    "geom_point(aes(color = cancergroup)) "
   ]
  },
  {
   "cell_type": "code",
   "execution_count": 63,
   "metadata": {
    "vscode": {
     "languageId": "r"
    }
   },
   "outputs": [
    {
     "data": {
      "text/plain": [
       "\n",
       "\tWelch Two Sample t-test\n",
       "\n",
       "data:  df_narm$Dim1[df_narm$Relapse == 1] and df_narm$Dim1[df_narm$Relapse == 0]\n",
       "t = 2.4685, df = 55.124, p-value = 0.0167\n",
       "alternative hypothesis: true difference in means is not equal to 0\n",
       "95 percent confidence interval:\n",
       " 0.1410035 1.3575746\n",
       "sample estimates:\n",
       " mean of x  mean of y \n",
       " 0.6179704 -0.1313187 \n"
      ]
     },
     "metadata": {},
     "output_type": "display_data"
    },
    {
     "data": {
      "text/plain": [
       "\n",
       "\tWelch Two Sample t-test\n",
       "\n",
       "data:  df_narm$Dim2[df_narm$Relapse == 1] and df_narm$Dim2[df_narm$Relapse == 0]\n",
       "t = -0.51694, df = 22.945, p-value = 0.6101\n",
       "alternative hypothesis: true difference in means is not equal to 0\n",
       "95 percent confidence interval:\n",
       " -0.9720329  0.5833955\n",
       "sample estimates:\n",
       "  mean of x   mean of y \n",
       "-0.16026284  0.03405585 \n"
      ]
     },
     "metadata": {},
     "output_type": "display_data"
    }
   ],
   "source": [
    "t.test(df_narm$Dim1[df_narm$Relapse == 1], df_narm$Dim1[df_narm$Relapse == 0])\n",
    "t.test(df_narm$Dim2[df_narm$Relapse == 1], df_narm$Dim2[df_narm$Relapse == 0])"
   ]
  },
  {
   "cell_type": "code",
   "execution_count": 197,
   "metadata": {
    "vscode": {
     "languageId": "r"
    }
   },
   "outputs": [
    {
     "data": {
      "image/png": "[encoded data removed]",
      "text/plain": [
       "plot without title"
      ]
     },
     "metadata": {
      "image/png": {
       "height": 420,
       "width": 420
      }
     },
     "output_type": "display_data"
    }
   ],
   "source": [
    "ggplot(data = df_narm, aes(x = as.factor(Relapse), y = Dim1) ) + geom_boxplot() +\n",
    "geom_jitter(aes(color = Disease_type)) "
   ]
  },
  {
   "cell_type": "markdown",
   "metadata": {
    "vscode": {
     "languageId": "r"
    }
   },
   "source": [
    "# Impute with missMDA"
   ]
  },
  {
   "cell_type": "code",
   "execution_count": 17,
   "metadata": {
    "vscode": {
     "languageId": "r"
    }
   },
   "outputs": [],
   "source": [
    "set.seed(123)\n",
    "res.comp <- imputePCA(mymat, ncp = 5, maxiter = 1000)"
   ]
  },
  {
   "cell_type": "code",
   "execution_count": 18,
   "metadata": {
    "vscode": {
     "languageId": "r"
    }
   },
   "outputs": [],
   "source": [
    "res.pca <- PCA(res.comp$completeObs, quali.sup = NULL, ncp = 5, graph = FALSE) "
   ]
  },
  {
   "cell_type": "code",
   "execution_count": 19,
   "metadata": {
    "vscode": {
     "languageId": "r"
    }
   },
   "outputs": [
    {
     "data": {
      "text/html": [
       "<table class=\"dataframe\">\n",
       "<caption>A matrix: 6 x 10 of type dbl</caption>\n",
       "<thead>\n",
       "\t<tr><th></th><th scope=col>ATC</th><th scope=col>Naïve%</th><th scope=col>SCM%</th><th scope=col>CM%</th><th scope=col>EM%</th><th scope=col>TE%</th><th scope=col>PD1%</th><th scope=col>LAG3%</th><th scope=col>TIM3%</th><th scope=col>observed_Shannon</th></tr>\n",
       "</thead>\n",
       "<tbody>\n",
       "\t<tr><th scope=row>CHP_319_05</th><td>  0.00</td><td>13.71900</td><td>10.586455</td><td>15.90337</td><td>4.876446</td><td>54.94216</td><td>24.32371</td><td>13.91138</td><td>24.35907</td><td> 11.878</td></tr>\n",
       "\t<tr><th scope=row>CHP_323_03</th><td>786.24</td><td>14.22209</td><td> 9.849054</td><td>16.15021</td><td>4.812524</td><td>54.99333</td><td>21.04305</td><td>12.86386</td><td>21.02054</td><td> 37.722</td></tr>\n",
       "\t<tr><th scope=row>CHP_323_05</th><td>979.50</td><td>17.06647</td><td> 8.858393</td><td>15.74125</td><td>4.700990</td><td>53.65777</td><td>18.83897</td><td>12.08986</td><td>18.82162</td><td> 81.753</td></tr>\n",
       "\t<tr><th scope=row>CHP_324_05</th><td>  0.00</td><td>22.24261</td><td> 8.050705</td><td>14.43207</td><td>4.576250</td><td>50.71865</td><td>19.94497</td><td>12.29320</td><td>20.04107</td><td>129.919</td></tr>\n",
       "\t<tr><th scope=row>CHP_328_04</th><td>130.82</td><td>28.79103</td><td> 6.004779</td><td>13.35724</td><td>4.337932</td><td>47.52385</td><td>16.07806</td><td>10.89160</td><td>16.21061</td><td>223.747</td></tr>\n",
       "\t<tr><th scope=row>CHP_328_05</th><td> 91.16</td><td>19.00862</td><td> 8.944665</td><td>15.02900</td><td>4.684792</td><td>52.35595</td><td>21.25592</td><td>12.79678</td><td>21.32186</td><td> 87.321</td></tr>\n",
       "</tbody>\n",
       "</table>\n"
      ],
      "text/latex": [
       "A matrix: 6 x 10 of type dbl\n",
       "\\begin{tabular}{r|llllllllll}\n",
       "  & ATC & Naïve\\% & SCM\\% & CM\\% & EM\\% & TE\\% & PD1\\% & LAG3\\% & TIM3\\% & observed\\_Shannon\\\\\n",
       "\\hline\n",
       "\tCHP\\_319\\_05 &   0.00 & 13.71900 & 10.586455 & 15.90337 & 4.876446 & 54.94216 & 24.32371 & 13.91138 & 24.35907 &  11.878\\\\\n",
       "\tCHP\\_323\\_03 & 786.24 & 14.22209 &  9.849054 & 16.15021 & 4.812524 & 54.99333 & 21.04305 & 12.86386 & 21.02054 &  37.722\\\\\n",
       "\tCHP\\_323\\_05 & 979.50 & 17.06647 &  8.858393 & 15.74125 & 4.700990 & 53.65777 & 18.83897 & 12.08986 & 18.82162 &  81.753\\\\\n",
       "\tCHP\\_324\\_05 &   0.00 & 22.24261 &  8.050705 & 14.43207 & 4.576250 & 50.71865 & 19.94497 & 12.29320 & 20.04107 & 129.919\\\\\n",
       "\tCHP\\_328\\_04 & 130.82 & 28.79103 &  6.004779 & 13.35724 & 4.337932 & 47.52385 & 16.07806 & 10.89160 & 16.21061 & 223.747\\\\\n",
       "\tCHP\\_328\\_05 &  91.16 & 19.00862 &  8.944665 & 15.02900 & 4.684792 & 52.35595 & 21.25592 & 12.79678 & 21.32186 &  87.321\\\\\n",
       "\\end{tabular}\n"
      ],
      "text/markdown": [
       "\n",
       "A matrix: 6 x 10 of type dbl\n",
       "\n",
       "| <!--/--> | ATC | Naïve% | SCM% | CM% | EM% | TE% | PD1% | LAG3% | TIM3% | observed_Shannon |\n",
       "|---|---|---|---|---|---|---|---|---|---|---|\n",
       "| CHP_319_05 |   0.00 | 13.71900 | 10.586455 | 15.90337 | 4.876446 | 54.94216 | 24.32371 | 13.91138 | 24.35907 |  11.878 |\n",
       "| CHP_323_03 | 786.24 | 14.22209 |  9.849054 | 16.15021 | 4.812524 | 54.99333 | 21.04305 | 12.86386 | 21.02054 |  37.722 |\n",
       "| CHP_323_05 | 979.50 | 17.06647 |  8.858393 | 15.74125 | 4.700990 | 53.65777 | 18.83897 | 12.08986 | 18.82162 |  81.753 |\n",
       "| CHP_324_05 |   0.00 | 22.24261 |  8.050705 | 14.43207 | 4.576250 | 50.71865 | 19.94497 | 12.29320 | 20.04107 | 129.919 |\n",
       "| CHP_328_04 | 130.82 | 28.79103 |  6.004779 | 13.35724 | 4.337932 | 47.52385 | 16.07806 | 10.89160 | 16.21061 | 223.747 |\n",
       "| CHP_328_05 |  91.16 | 19.00862 |  8.944665 | 15.02900 | 4.684792 | 52.35595 | 21.25592 | 12.79678 | 21.32186 |  87.321 |\n",
       "\n"
      ],
      "text/plain": [
       "           ATC    Naïve%   SCM%      CM%      EM%      TE%      PD1%    \n",
       "CHP_319_05   0.00 13.71900 10.586455 15.90337 4.876446 54.94216 24.32371\n",
       "CHP_323_03 786.24 14.22209  9.849054 16.15021 4.812524 54.99333 21.04305\n",
       "CHP_323_05 979.50 17.06647  8.858393 15.74125 4.700990 53.65777 18.83897\n",
       "CHP_324_05   0.00 22.24261  8.050705 14.43207 4.576250 50.71865 19.94497\n",
       "CHP_328_04 130.82 28.79103  6.004779 13.35724 4.337932 47.52385 16.07806\n",
       "CHP_328_05  91.16 19.00862  8.944665 15.02900 4.684792 52.35595 21.25592\n",
       "           LAG3%    TIM3%    observed_Shannon\n",
       "CHP_319_05 13.91138 24.35907  11.878         \n",
       "CHP_323_03 12.86386 21.02054  37.722         \n",
       "CHP_323_05 12.08986 18.82162  81.753         \n",
       "CHP_324_05 12.29320 20.04107 129.919         \n",
       "CHP_328_04 10.89160 16.21061 223.747         \n",
       "CHP_328_05 12.79678 21.32186  87.321         "
      ]
     },
     "metadata": {},
     "output_type": "display_data"
    }
   ],
   "source": [
    "head(res.comp$completeObs)"
   ]
  },
  {
   "cell_type": "code",
   "execution_count": 20,
   "metadata": {
    "vscode": {
     "languageId": "r"
    }
   },
   "outputs": [],
   "source": [
    "p1 <- fviz_pca_ind(res.pca,\n",
    "     habillage = as.factor(pbmc_hla_v_j_gliph$cancergroup),\n",
    "    # remove labels\n",
    "    label = \"none\",\n",
    "    repel = F, addEllipses = FALSE, mean.point = FALSE\n",
    ")"
   ]
  },
  {
   "cell_type": "code",
   "execution_count": 21,
   "metadata": {
    "vscode": {
     "languageId": "r"
    }
   },
   "outputs": [
    {
     "data": {
      "image/png": "[encoded data removed]",
      "text/plain": [
       "plot without title"
      ]
     },
     "metadata": {
      "image/png": {
       "height": 420,
       "width": 420
      }
     },
     "output_type": "display_data"
    }
   ],
   "source": [
    "p1"
   ]
  },
  {
   "cell_type": "code",
   "execution_count": 22,
   "metadata": {
    "vscode": {
     "languageId": "r"
    }
   },
   "outputs": [],
   "source": [
    "myx <- res.pca$ind$coord\n",
    "# myx <- prcomp(missforest_mymat$ximp)$x\n",
    "mydist <- as.matrix(dist(myx[, 1:2])) "
   ]
  },
  {
   "cell_type": "code",
   "execution_count": 23,
   "metadata": {
    "vscode": {
     "languageId": "r"
    }
   },
   "outputs": [
    {
     "data": {
      "text/html": [
       "<table class=\"dataframe\">\n",
       "<caption>A matrix: 6 x 5 of type dbl</caption>\n",
       "<thead>\n",
       "\t<tr><th></th><th scope=col>Dim.1</th><th scope=col>Dim.2</th><th scope=col>Dim.3</th><th scope=col>Dim.4</th><th scope=col>Dim.5</th></tr>\n",
       "</thead>\n",
       "<tbody>\n",
       "\t<tr><th scope=row>CHP_319_05</th><td> 1.1758235</td><td>-0.66017794</td><td>-0.32090267</td><td> 0.14238057</td><td>-0.3806131</td></tr>\n",
       "\t<tr><th scope=row>CHP_323_03</th><td> 0.7604305</td><td>-0.73986012</td><td>-0.14442888</td><td>-0.01932204</td><td> 0.4043838</td></tr>\n",
       "\t<tr><th scope=row>CHP_323_05</th><td> 0.4051864</td><td>-0.57429598</td><td>-0.04063838</td><td>-0.07440812</td><td> 0.5898525</td></tr>\n",
       "\t<tr><th scope=row>CHP_324_05</th><td> 0.3827760</td><td>-0.08012999</td><td>-0.13163860</td><td> 0.09432539</td><td>-0.4040646</td></tr>\n",
       "\t<tr><th scope=row>CHP_328_04</th><td>-0.2878248</td><td> 0.34654784</td><td> 0.04127118</td><td> 0.03097288</td><td>-0.2912382</td></tr>\n",
       "\t<tr><th scope=row>CHP_328_05</th><td> 0.6409358</td><td>-0.31341774</td><td>-0.18428253</td><td> 0.09413868</td><td>-0.3039904</td></tr>\n",
       "</tbody>\n",
       "</table>\n"
      ],
      "text/latex": [
       "A matrix: 6 x 5 of type dbl\n",
       "\\begin{tabular}{r|lllll}\n",
       "  & Dim.1 & Dim.2 & Dim.3 & Dim.4 & Dim.5\\\\\n",
       "\\hline\n",
       "\tCHP\\_319\\_05 &  1.1758235 & -0.66017794 & -0.32090267 &  0.14238057 & -0.3806131\\\\\n",
       "\tCHP\\_323\\_03 &  0.7604305 & -0.73986012 & -0.14442888 & -0.01932204 &  0.4043838\\\\\n",
       "\tCHP\\_323\\_05 &  0.4051864 & -0.57429598 & -0.04063838 & -0.07440812 &  0.5898525\\\\\n",
       "\tCHP\\_324\\_05 &  0.3827760 & -0.08012999 & -0.13163860 &  0.09432539 & -0.4040646\\\\\n",
       "\tCHP\\_328\\_04 & -0.2878248 &  0.34654784 &  0.04127118 &  0.03097288 & -0.2912382\\\\\n",
       "\tCHP\\_328\\_05 &  0.6409358 & -0.31341774 & -0.18428253 &  0.09413868 & -0.3039904\\\\\n",
       "\\end{tabular}\n"
      ],
      "text/markdown": [
       "\n",
       "A matrix: 6 x 5 of type dbl\n",
       "\n",
       "| <!--/--> | Dim.1 | Dim.2 | Dim.3 | Dim.4 | Dim.5 |\n",
       "|---|---|---|---|---|---|\n",
       "| CHP_319_05 |  1.1758235 | -0.66017794 | -0.32090267 |  0.14238057 | -0.3806131 |\n",
       "| CHP_323_03 |  0.7604305 | -0.73986012 | -0.14442888 | -0.01932204 |  0.4043838 |\n",
       "| CHP_323_05 |  0.4051864 | -0.57429598 | -0.04063838 | -0.07440812 |  0.5898525 |\n",
       "| CHP_324_05 |  0.3827760 | -0.08012999 | -0.13163860 |  0.09432539 | -0.4040646 |\n",
       "| CHP_328_04 | -0.2878248 |  0.34654784 |  0.04127118 |  0.03097288 | -0.2912382 |\n",
       "| CHP_328_05 |  0.6409358 | -0.31341774 | -0.18428253 |  0.09413868 | -0.3039904 |\n",
       "\n"
      ],
      "text/plain": [
       "           Dim.1      Dim.2       Dim.3       Dim.4       Dim.5     \n",
       "CHP_319_05  1.1758235 -0.66017794 -0.32090267  0.14238057 -0.3806131\n",
       "CHP_323_03  0.7604305 -0.73986012 -0.14442888 -0.01932204  0.4043838\n",
       "CHP_323_05  0.4051864 -0.57429598 -0.04063838 -0.07440812  0.5898525\n",
       "CHP_324_05  0.3827760 -0.08012999 -0.13163860  0.09432539 -0.4040646\n",
       "CHP_328_04 -0.2878248  0.34654784  0.04127118  0.03097288 -0.2912382\n",
       "CHP_328_05  0.6409358 -0.31341774 -0.18428253  0.09413868 -0.3039904"
      ]
     },
     "metadata": {},
     "output_type": "display_data"
    }
   ],
   "source": [
    "head(myx)"
   ]
  },
  {
   "cell_type": "code",
   "execution_count": 24,
   "metadata": {
    "vscode": {
     "languageId": "r"
    }
   },
   "outputs": [],
   "source": [
    "sample_df <- pbmc_hla_v_j_gliph %>%\n",
    "    group_by(Patient) %>%\n",
    "    # order cyclenum\n",
    "    arrange(cyclenum) %>%\n",
    "    ungroup()\n",
    "pts <- names(which(table(sample_df$Patient) > 1))\n"
   ]
  },
  {
   "cell_type": "code",
   "execution_count": 25,
   "metadata": {
    "vscode": {
     "languageId": "r"
    }
   },
   "outputs": [
    {
     "data": {
      "text/html": [
       "<table class=\"dataframe\">\n",
       "<caption>A tibble: 6 x 8830</caption>\n",
       "<thead>\n",
       "\t<tr><th scope=col>sample_id</th><th scope=col>Patient</th><th scope=col>cycle</th><th scope=col>FOLD</th><th scope=col>ATC</th><th scope=col>Age</th><th scope=col>Disease_type</th><th scope=col>TE_fold</th><th scope=col>CD3</th><th scope=col>EM</th><th scope=col>...</th><th scope=col>SG%GE</th><th scope=col>G%TE</th><th scope=col>G%SYE</th><th scope=col>S%P</th><th scope=col>G%GE</th><th scope=col>S%G</th><th scope=col>%YE</th><th scope=col>%G</th><th scope=col>%E</th><th scope=col>cyclenum</th></tr>\n",
       "\t<tr><th scope=col>&lt;chr&gt;</th><th scope=col>&lt;chr&gt;</th><th scope=col>&lt;chr&gt;</th><th scope=col>&lt;dbl&gt;</th><th scope=col>&lt;dbl&gt;</th><th scope=col>&lt;dbl&gt;</th><th scope=col>&lt;chr&gt;</th><th scope=col>&lt;dbl&gt;</th><th scope=col>&lt;int&gt;</th><th scope=col>&lt;int&gt;</th><th scope=col>...</th><th scope=col>&lt;dbl&gt;</th><th scope=col>&lt;dbl&gt;</th><th scope=col>&lt;dbl&gt;</th><th scope=col>&lt;dbl&gt;</th><th scope=col>&lt;dbl&gt;</th><th scope=col>&lt;dbl&gt;</th><th scope=col>&lt;dbl&gt;</th><th scope=col>&lt;dbl&gt;</th><th scope=col>&lt;dbl&gt;</th><th scope=col>&lt;dbl&gt;</th></tr>\n",
       "</thead>\n",
       "<tbody>\n",
       "\t<tr><td>CHP_346_01</td><td>CHP_346</td><td>X01</td><td> 0.8</td><td> 331.70</td><td> 1</td><td>NB    </td><td> 0.8</td><td> 637</td><td> 0</td><td>...</td><td>0</td><td>0</td><td>0</td><td>0</td><td>0</td><td>0</td><td>0</td><td>0</td><td>0</td><td>1</td></tr>\n",
       "\t<tr><td>CHP_347_01</td><td>CHP_347</td><td>X01</td><td> 0.8</td><td> 126.72</td><td>13</td><td>ALL   </td><td> 0.8</td><td>1701</td><td> 1</td><td>...</td><td>0</td><td>0</td><td>0</td><td>0</td><td>0</td><td>0</td><td>0</td><td>0</td><td>0</td><td>1</td></tr>\n",
       "\t<tr><td>CHP_348_01</td><td>CHP_348</td><td>X01</td><td>11.5</td><td>  50.96</td><td>18</td><td>OS    </td><td>11.5</td><td>1125</td><td>28</td><td>...</td><td>0</td><td>0</td><td>0</td><td>0</td><td>0</td><td>0</td><td>0</td><td>0</td><td>0</td><td>1</td></tr>\n",
       "\t<tr><td>CHP_349_01</td><td>CHP_349</td><td>X01</td><td> 2.0</td><td>3152.22</td><td>17</td><td>CML   </td><td> 2.0</td><td>2735</td><td>53</td><td>...</td><td>0</td><td>0</td><td>0</td><td>0</td><td>0</td><td>0</td><td>0</td><td>0</td><td>0</td><td>1</td></tr>\n",
       "\t<tr><td>CHP_350_01</td><td>CHP_350</td><td>X01</td><td> 2.7</td><td>1615.44</td><td> 1</td><td>HB    </td><td> 2.7</td><td>1338</td><td>18</td><td>...</td><td>0</td><td>0</td><td>0</td><td>0</td><td>0</td><td>0</td><td>0</td><td>0</td><td>0</td><td>1</td></tr>\n",
       "\t<tr><td>CHP_352_01</td><td>CHP_352</td><td>X01</td><td> 1.2</td><td> 763.14</td><td>17</td><td>HR ALL</td><td> 1.2</td><td>2337</td><td> 2</td><td>...</td><td>0</td><td>0</td><td>0</td><td>0</td><td>0</td><td>0</td><td>0</td><td>0</td><td>0</td><td>1</td></tr>\n",
       "</tbody>\n",
       "</table>\n"
      ],
      "text/latex": [
       "A tibble: 6 x 8830\n",
       "\\begin{tabular}{lllllllllllllllllllll}\n",
       " sample\\_id & Patient & cycle & FOLD & ATC & Age & Disease\\_type & TE\\_fold & CD3 & EM & ... & SG\\%GE & G\\%TE & G\\%SYE & S\\%P & G\\%GE & S\\%G & \\%YE & \\%G & \\%E & cyclenum\\\\\n",
       " <chr> & <chr> & <chr> & <dbl> & <dbl> & <dbl> & <chr> & <dbl> & <int> & <int> & ... & <dbl> & <dbl> & <dbl> & <dbl> & <dbl> & <dbl> & <dbl> & <dbl> & <dbl> & <dbl>\\\\\n",
       "\\hline\n",
       "\t CHP\\_346\\_01 & CHP\\_346 & X01 &  0.8 &  331.70 &  1 & NB     &  0.8 &  637 &  0 & ... & 0 & 0 & 0 & 0 & 0 & 0 & 0 & 0 & 0 & 1\\\\\n",
       "\t CHP\\_347\\_01 & CHP\\_347 & X01 &  0.8 &  126.72 & 13 & ALL    &  0.8 & 1701 &  1 & ... & 0 & 0 & 0 & 0 & 0 & 0 & 0 & 0 & 0 & 1\\\\\n",
       "\t CHP\\_348\\_01 & CHP\\_348 & X01 & 11.5 &   50.96 & 18 & OS     & 11.5 & 1125 & 28 & ... & 0 & 0 & 0 & 0 & 0 & 0 & 0 & 0 & 0 & 1\\\\\n",
       "\t CHP\\_349\\_01 & CHP\\_349 & X01 &  2.0 & 3152.22 & 17 & CML    &  2.0 & 2735 & 53 & ... & 0 & 0 & 0 & 0 & 0 & 0 & 0 & 0 & 0 & 1\\\\\n",
       "\t CHP\\_350\\_01 & CHP\\_350 & X01 &  2.7 & 1615.44 &  1 & HB     &  2.7 & 1338 & 18 & ... & 0 & 0 & 0 & 0 & 0 & 0 & 0 & 0 & 0 & 1\\\\\n",
       "\t CHP\\_352\\_01 & CHP\\_352 & X01 &  1.2 &  763.14 & 17 & HR ALL &  1.2 & 2337 &  2 & ... & 0 & 0 & 0 & 0 & 0 & 0 & 0 & 0 & 0 & 1\\\\\n",
       "\\end{tabular}\n"
      ],
      "text/markdown": [
       "\n",
       "A tibble: 6 x 8830\n",
       "\n",
       "| sample_id &lt;chr&gt; | Patient &lt;chr&gt; | cycle &lt;chr&gt; | FOLD &lt;dbl&gt; | ATC &lt;dbl&gt; | Age &lt;dbl&gt; | Disease_type &lt;chr&gt; | TE_fold &lt;dbl&gt; | CD3 &lt;int&gt; | EM &lt;int&gt; | ... ... | SG%GE &lt;dbl&gt; | G%TE &lt;dbl&gt; | G%SYE &lt;dbl&gt; | S%P &lt;dbl&gt; | G%GE &lt;dbl&gt; | S%G &lt;dbl&gt; | %YE &lt;dbl&gt; | %G &lt;dbl&gt; | %E &lt;dbl&gt; | cyclenum &lt;dbl&gt; |\n",
       "|---|---|---|---|---|---|---|---|---|---|---|---|---|---|---|---|---|---|---|---|---|\n",
       "| CHP_346_01 | CHP_346 | X01 |  0.8 |  331.70 |  1 | NB     |  0.8 |  637 |  0 | ... | 0 | 0 | 0 | 0 | 0 | 0 | 0 | 0 | 0 | 1 |\n",
       "| CHP_347_01 | CHP_347 | X01 |  0.8 |  126.72 | 13 | ALL    |  0.8 | 1701 |  1 | ... | 0 | 0 | 0 | 0 | 0 | 0 | 0 | 0 | 0 | 1 |\n",
       "| CHP_348_01 | CHP_348 | X01 | 11.5 |   50.96 | 18 | OS     | 11.5 | 1125 | 28 | ... | 0 | 0 | 0 | 0 | 0 | 0 | 0 | 0 | 0 | 1 |\n",
       "| CHP_349_01 | CHP_349 | X01 |  2.0 | 3152.22 | 17 | CML    |  2.0 | 2735 | 53 | ... | 0 | 0 | 0 | 0 | 0 | 0 | 0 | 0 | 0 | 1 |\n",
       "| CHP_350_01 | CHP_350 | X01 |  2.7 | 1615.44 |  1 | HB     |  2.7 | 1338 | 18 | ... | 0 | 0 | 0 | 0 | 0 | 0 | 0 | 0 | 0 | 1 |\n",
       "| CHP_352_01 | CHP_352 | X01 |  1.2 |  763.14 | 17 | HR ALL |  1.2 | 2337 |  2 | ... | 0 | 0 | 0 | 0 | 0 | 0 | 0 | 0 | 0 | 1 |\n",
       "\n"
      ],
      "text/plain": [
       "  sample_id  Patient cycle FOLD ATC     Age Disease_type TE_fold CD3  EM ...\n",
       "1 CHP_346_01 CHP_346 X01    0.8  331.70  1  NB            0.8     637  0 ...\n",
       "2 CHP_347_01 CHP_347 X01    0.8  126.72 13  ALL           0.8    1701  1 ...\n",
       "3 CHP_348_01 CHP_348 X01   11.5   50.96 18  OS           11.5    1125 28 ...\n",
       "4 CHP_349_01 CHP_349 X01    2.0 3152.22 17  CML           2.0    2735 53 ...\n",
       "5 CHP_350_01 CHP_350 X01    2.7 1615.44  1  HB            2.7    1338 18 ...\n",
       "6 CHP_352_01 CHP_352 X01    1.2  763.14 17  HR ALL        1.2    2337  2 ...\n",
       "  SG%GE G%TE G%SYE S%P G%GE S%G %YE %G %E cyclenum\n",
       "1 0     0    0     0   0    0   0   0  0  1       \n",
       "2 0     0    0     0   0    0   0   0  0  1       \n",
       "3 0     0    0     0   0    0   0   0  0  1       \n",
       "4 0     0    0     0   0    0   0   0  0  1       \n",
       "5 0     0    0     0   0    0   0   0  0  1       \n",
       "6 0     0    0     0   0    0   0   0  0  1       "
      ]
     },
     "metadata": {},
     "output_type": "display_data"
    }
   ],
   "source": [
    "head(sample_df)"
   ]
  },
  {
   "cell_type": "code",
   "execution_count": 26,
   "metadata": {
    "vscode": {
     "languageId": "r"
    }
   },
   "outputs": [],
   "source": [
    "sample_df$Dim1 <- myx[,1][match( sample_df$sample_id, rownames(myx))]\n",
    "sample_df$Dim2 <- myx[,2][match( sample_df$sample_id, rownames(myx))]\n",
    "# sample_df$dist <- NA"
   ]
  },
  {
   "cell_type": "code",
   "execution_count": 27,
   "metadata": {
    "vscode": {
     "languageId": "r"
    }
   },
   "outputs": [],
   "source": [
    "sample_df$dist <- NA\n",
    "sample_df$quantreg <- NA\n",
    "# sample_df$quantreg1 <- NA\n",
    "# sample_df$quantreg2 <- NA"
   ]
  },
  {
   "cell_type": "code",
   "execution_count": 28,
   "metadata": {
    "vscode": {
     "languageId": "r"
    }
   },
   "outputs": [],
   "source": [
    "for (i in pts) {\n",
    "    tmp <- sample_df[sample_df$Patient == i, ]\n",
    "\n",
    "    # quantreg\n",
    "tmp <- tmp %>% mutate(quantreg_n = quantreg::rq(Dim2 ~ Dim1, tau = 0.5)$coef[2] / n())\n",
    "# tmp <- tmp %>% mutate(quantreg_n1 = quantreg::rq(Dim1 ~ cyclenum, tau = 0.5)$coef[2] / n())\n",
    "# tmp <- tmp %>% mutate(quantreg_n2 = quantreg::rq(Dim2 ~ cyclenum, tau = 0.5)$coef[2] / n())\n",
    "\n",
    "    distances_df <- mydist[tmp$sample_id, tmp$sample_id]\n",
    "    if (nrow(tmp) == 2) {\n",
    "        mydiff <- diff(tmp$cyclenum)\n",
    "        if (mydiff == 1) {\n",
    "            tmp$dist[2] <- distances_df[tmp$sample_id[1], tmp$sample_id[2]]\n",
    "        }\n",
    "    }\n",
    "    if (nrow(tmp) == 3) {\n",
    "        mydiff <- diff(tmp$cyclenum)\n",
    "        if (mydiff[1] == 1) {\n",
    "            tmp$dist[2] <- distances_df[tmp$sample_id[1], tmp$sample_id[2]]\n",
    "        }\n",
    "        if (mydiff[2] == 1) {\n",
    "            tmp$dist[3] <- distances_df[tmp$sample_id[2], tmp$sample_id[3]]\n",
    "        }\n",
    "    }\n",
    "    if (nrow(tmp) == 4) {\n",
    "        mydiff <- diff(tmp$cyclenum)\n",
    "        if (mydiff[1] == 1) {\n",
    "            tmp$dist[2] <- distances_df[tmp$sample_id[1], tmp$sample_id[2]]\n",
    "        }\n",
    "        if (mydiff[2] == 1) {\n",
    "            tmp$dist[3] <- distances_df[tmp$sample_id[2], tmp$sample_id[3]]\n",
    "        }\n",
    "        if (mydiff[3] == 1) {\n",
    "            tmp$dist[4] <- distances_df[tmp$sample_id[3], tmp$sample_id[4]]\n",
    "        }\n",
    "    }\n",
    "    if (nrow(tmp) == 5) {\n",
    "        mydiff <- diff(tmp$cyclenum)\n",
    "        if (mydiff[1] == 1) {\n",
    "            tmp$dist[2] <- distances_df[tmp$sample_id[1], tmp$sample_id[2]]\n",
    "        }\n",
    "        if (mydiff[2] == 1) {\n",
    "            tmp$dist[3] <- distances_df[tmp$sample_id[2], tmp$sample_id[3]]\n",
    "        }\n",
    "        if (mydiff[3] == 1) {\n",
    "            tmp$dist[4] <- distances_df[tmp$sample_id[3], tmp$sample_id[4]]\n",
    "        }\n",
    "        if (mydiff[4] == 1) {\n",
    "            tmp$dist[5] <- distances_df[tmp$sample_id[4], tmp$sample_id[5]]\n",
    "        }\n",
    "    }\n",
    "    sample_df$dist[sample_df$Patient == i] <- tmp$dist\n",
    "    sample_df$quantreg[sample_df$Patient == i] <- tmp$quantreg_n\n",
    "    # sample_df$quantreg1[sample_df$Patient == i] <- tmp$quantreg_n1\n",
    "    # sample_df$quantreg2[sample_df$Patient == i] <- tmp$quantreg_n2\n",
    "}\n"
   ]
  },
  {
   "cell_type": "code",
   "execution_count": 112,
   "metadata": {
    "vscode": {
     "languageId": "r"
    }
   },
   "outputs": [],
   "source": [
    "# head(allpts)"
   ]
  },
  {
   "cell_type": "code",
   "execution_count": 29,
   "metadata": {
    "vscode": {
     "languageId": "r"
    }
   },
   "outputs": [],
   "source": [
    "allpts <- as.data.frame(table(sample_df$Patient), stringsAsFactors = F)\n",
    "sample_df$dist[sample_df$dist == 0] <- NA\n",
    "\n",
    "allpts$sumdist <- NA\n",
    "allpts$meddist <- NA\n",
    "allpts$samplecount <- NA\n",
    "\n",
    "for (i in 1:nrow(allpts)) {\n",
    "    tmp <- as.data.frame(sample_df[sample_df$Patient == allpts$Var1[i], ])\n",
    "    allpts$sumdist[i] <- sum(tmp[tmp$dist != 0, \"dist\"], na.rm = T)\n",
    "    allpts$meddist[i] <- median(tmp[tmp$dist != 0, \"dist\"], na.rm = T)\n",
    "    # count number of samples for meddist\n",
    "    allpts$samplecount[i] <- nrow(tmp[!is.na(tmp$dist), ]) + 1 # add 1 for the first sample, this is the number of samples with a distance\n",
    "}\n",
    "allpts$sumdist_n <- allpts$sumdist / allpts$samplecount\n",
    "allpts$meddist_n <- allpts$meddist / allpts$samplecount\n",
    "allpts_no0 <- allpts[allpts$sumdist_n > 0, ]\n",
    "allpts_no0 <- allpts_no0[allpts_no0$Freq > 1, ]\n",
    "\n",
    "mysample_df <- sample_df[sample_df$Patient %in% allpts_no0$Var1, ]\n",
    "mypatients <- mysample_df[!duplicated(mysample_df$Patient), ]\n",
    "\n",
    "mypatients$meddist_n <- allpts_no0$meddist_n[match(mypatients$Patient, allpts_no0$Var1)]\n"
   ]
  },
  {
   "cell_type": "code",
   "execution_count": 32,
   "metadata": {
    "vscode": {
     "languageId": "r"
    }
   },
   "outputs": [
    {
     "data": {
      "text/html": [
       "<table class=\"dataframe\">\n",
       "<caption>A data.frame: 80 x 7</caption>\n",
       "<thead>\n",
       "\t<tr><th></th><th scope=col>Var1</th><th scope=col>Freq</th><th scope=col>sumdist</th><th scope=col>meddist</th><th scope=col>samplecount</th><th scope=col>sumdist_n</th><th scope=col>meddist_n</th></tr>\n",
       "\t<tr><th></th><th scope=col>&lt;chr&gt;</th><th scope=col>&lt;int&gt;</th><th scope=col>&lt;dbl&gt;</th><th scope=col>&lt;dbl&gt;</th><th scope=col>&lt;dbl&gt;</th><th scope=col>&lt;dbl&gt;</th><th scope=col>&lt;dbl&gt;</th></tr>\n",
       "</thead>\n",
       "<tbody>\n",
       "\t<tr><th scope=row>2</th><td>CHP_323</td><td>4</td><td> 1.6130196</td><td>0.80650981</td><td>3</td><td>0.53767320</td><td>0.26883660</td></tr>\n",
       "\t<tr><th scope=row>4</th><td>CHP_325</td><td>3</td><td> 0.3025886</td><td>0.15129431</td><td>3</td><td>0.10086288</td><td>0.05043144</td></tr>\n",
       "\t<tr><th scope=row>5</th><td>CHP_326</td><td>5</td><td> 0.7890309</td><td>0.11900047</td><td>5</td><td>0.15780618</td><td>0.02380009</td></tr>\n",
       "\t<tr><th scope=row>6</th><td>CHP_328</td><td>5</td><td> 2.0068604</td><td>0.40051327</td><td>5</td><td>0.40137209</td><td>0.08010265</td></tr>\n",
       "\t<tr><th scope=row>7</th><td>CHP_330</td><td>5</td><td>10.3231415</td><td>3.03919306</td><td>5</td><td>2.06462830</td><td>0.60783861</td></tr>\n",
       "\t<tr><th scope=row>8</th><td>CHP_331</td><td>2</td><td> 0.6363383</td><td>0.63633830</td><td>2</td><td>0.31816915</td><td>0.31816915</td></tr>\n",
       "\t<tr><th scope=row>9</th><td>CHP_332</td><td>5</td><td> 7.6544755</td><td>1.83908245</td><td>5</td><td>1.53089510</td><td>0.36781649</td></tr>\n",
       "\t<tr><th scope=row>10</th><td>CHP_334</td><td>4</td><td> 0.1911520</td><td>0.07638313</td><td>4</td><td>0.04778800</td><td>0.01909578</td></tr>\n",
       "\t<tr><th scope=row>12</th><td>CHP_338</td><td>5</td><td> 5.2157859</td><td>1.44004546</td><td>5</td><td>1.04315718</td><td>0.28800909</td></tr>\n",
       "\t<tr><th scope=row>13</th><td>CHP_339</td><td>5</td><td> 2.6866496</td><td>0.69921800</td><td>5</td><td>0.53732992</td><td>0.13984360</td></tr>\n",
       "\t<tr><th scope=row>14</th><td>CHP_340</td><td>3</td><td> 2.3300441</td><td>1.16502206</td><td>3</td><td>0.77668137</td><td>0.38834069</td></tr>\n",
       "\t<tr><th scope=row>16</th><td>CHP_343</td><td>5</td><td> 9.9292888</td><td>2.38134139</td><td>5</td><td>1.98585776</td><td>0.47626828</td></tr>\n",
       "\t<tr><th scope=row>17</th><td>CHP_344</td><td>4</td><td> 1.3329174</td><td>0.66645870</td><td>3</td><td>0.44430580</td><td>0.22215290</td></tr>\n",
       "\t<tr><th scope=row>18</th><td>CHP_345</td><td>4</td><td> 1.1291952</td><td>0.56459760</td><td>3</td><td>0.37639840</td><td>0.18819920</td></tr>\n",
       "\t<tr><th scope=row>20</th><td>CHP_347</td><td>5</td><td>19.2333688</td><td>3.21324264</td><td>5</td><td>3.84667376</td><td>0.64264853</td></tr>\n",
       "\t<tr><th scope=row>21</th><td>CHP_348</td><td>2</td><td> 1.2357504</td><td>1.23575041</td><td>2</td><td>0.61787521</td><td>0.61787521</td></tr>\n",
       "\t<tr><th scope=row>22</th><td>CHP_349</td><td>2</td><td> 4.3238208</td><td>4.32382077</td><td>2</td><td>2.16191039</td><td>2.16191039</td></tr>\n",
       "\t<tr><th scope=row>23</th><td>CHP_350</td><td>5</td><td> 8.8941827</td><td>2.02918845</td><td>5</td><td>1.77883655</td><td>0.40583769</td></tr>\n",
       "\t<tr><th scope=row>29</th><td>CHP_356</td><td>5</td><td> 6.9762080</td><td>1.85500024</td><td>5</td><td>1.39524161</td><td>0.37100005</td></tr>\n",
       "\t<tr><th scope=row>30</th><td>CHP_357</td><td>5</td><td>17.3060710</td><td>3.42874324</td><td>5</td><td>3.46121420</td><td>0.68574865</td></tr>\n",
       "\t<tr><th scope=row>31</th><td>CHP_358</td><td>3</td><td> 6.8622688</td><td>3.43113438</td><td>3</td><td>2.28742292</td><td>1.14371146</td></tr>\n",
       "\t<tr><th scope=row>32</th><td>CHP_359</td><td>3</td><td>19.8159670</td><td>9.90798348</td><td>3</td><td>6.60532232</td><td>3.30266116</td></tr>\n",
       "\t<tr><th scope=row>33</th><td>CHP_360</td><td>4</td><td> 0.2586523</td><td>0.12932615</td><td>3</td><td>0.08621744</td><td>0.04310872</td></tr>\n",
       "\t<tr><th scope=row>34</th><td>CHP_361</td><td>4</td><td>10.9501375</td><td>4.67080236</td><td>4</td><td>2.73753437</td><td>1.16770059</td></tr>\n",
       "\t<tr><th scope=row>35</th><td>CHP_362</td><td>4</td><td> 6.6506539</td><td>2.33459723</td><td>4</td><td>1.66266348</td><td>0.58364931</td></tr>\n",
       "\t<tr><th scope=row>36</th><td>CHP_363</td><td>3</td><td> 3.6193409</td><td>1.80967043</td><td>3</td><td>1.20644696</td><td>0.60322348</td></tr>\n",
       "\t<tr><th scope=row>37</th><td>CHP_364</td><td>4</td><td> 4.1026657</td><td>2.05133284</td><td>3</td><td>1.36755523</td><td>0.68377761</td></tr>\n",
       "\t<tr><th scope=row>38</th><td>CHP_365</td><td>4</td><td> 4.6174057</td><td>1.31472791</td><td>4</td><td>1.15435142</td><td>0.32868198</td></tr>\n",
       "\t<tr><th scope=row>40</th><td>CHP_367</td><td>3</td><td> 2.4999135</td><td>2.49991352</td><td>2</td><td>1.24995676</td><td>1.24995676</td></tr>\n",
       "\t<tr><th scope=row>42</th><td>CHP_369</td><td>2</td><td> 3.8008268</td><td>3.80082677</td><td>2</td><td>1.90041338</td><td>1.90041338</td></tr>\n",
       "\t<tr><th scope=row>...</th><td>...</td><td>...</td><td>...</td><td>...</td><td>...</td><td>...</td><td>...</td></tr>\n",
       "\t<tr><th scope=row>69</th><td>CHP_396</td><td>3</td><td> 4.1001679</td><td>4.1001679</td><td>2</td><td>2.0500840</td><td>2.0500840</td></tr>\n",
       "\t<tr><th scope=row>71</th><td>CHP_398</td><td>4</td><td> 5.9002805</td><td>2.9501403</td><td>3</td><td>1.9667602</td><td>0.9833801</td></tr>\n",
       "\t<tr><th scope=row>72</th><td>CHP_399</td><td>3</td><td> 8.9977905</td><td>4.4988952</td><td>3</td><td>2.9992635</td><td>1.4996317</td></tr>\n",
       "\t<tr><th scope=row>73</th><td>CHP_400</td><td>5</td><td> 8.6864951</td><td>2.1272011</td><td>5</td><td>1.7372990</td><td>0.4254402</td></tr>\n",
       "\t<tr><th scope=row>74</th><td>CHP_401</td><td>3</td><td> 0.7670250</td><td>0.7670250</td><td>2</td><td>0.3835125</td><td>0.3835125</td></tr>\n",
       "\t<tr><th scope=row>75</th><td>CHP_402</td><td>3</td><td>12.2714327</td><td>6.1357163</td><td>3</td><td>4.0904776</td><td>2.0452388</td></tr>\n",
       "\t<tr><th scope=row>76</th><td>CHP_403</td><td>3</td><td> 5.4392691</td><td>2.7196345</td><td>3</td><td>1.8130897</td><td>0.9065448</td></tr>\n",
       "\t<tr><th scope=row>77</th><td>CHP_404</td><td>3</td><td> 0.7493683</td><td>0.7493683</td><td>2</td><td>0.3746841</td><td>0.3746841</td></tr>\n",
       "\t<tr><th scope=row>78</th><td>CHP_405</td><td>5</td><td> 9.0956325</td><td>2.1504865</td><td>5</td><td>1.8191265</td><td>0.4300973</td></tr>\n",
       "\t<tr><th scope=row>79</th><td>CHP_406</td><td>4</td><td> 4.9653298</td><td>1.3967775</td><td>4</td><td>1.2413325</td><td>0.3491944</td></tr>\n",
       "\t<tr><th scope=row>80</th><td>CHP_407</td><td>4</td><td>13.7672436</td><td>4.0100900</td><td>4</td><td>3.4418109</td><td>1.0025225</td></tr>\n",
       "\t<tr><th scope=row>81</th><td>CHP_408</td><td>5</td><td> 6.8345694</td><td>1.6610773</td><td>5</td><td>1.3669139</td><td>0.3322155</td></tr>\n",
       "\t<tr><th scope=row>82</th><td>CHP_409</td><td>4</td><td> 4.6122647</td><td>1.3127769</td><td>4</td><td>1.1530662</td><td>0.3281942</td></tr>\n",
       "\t<tr><th scope=row>83</th><td>CHP_410</td><td>4</td><td> 6.3453294</td><td>1.9101606</td><td>4</td><td>1.5863323</td><td>0.4775401</td></tr>\n",
       "\t<tr><th scope=row>84</th><td>CHP_411</td><td>2</td><td> 5.4731692</td><td>5.4731692</td><td>2</td><td>2.7365846</td><td>2.7365846</td></tr>\n",
       "\t<tr><th scope=row>85</th><td>CHP_412</td><td>5</td><td>15.0482954</td><td>2.5635862</td><td>5</td><td>3.0096591</td><td>0.5127172</td></tr>\n",
       "\t<tr><th scope=row>86</th><td>CHP_413</td><td>4</td><td> 4.7181546</td><td>1.3067975</td><td>4</td><td>1.1795386</td><td>0.3266994</td></tr>\n",
       "\t<tr><th scope=row>87</th><td>CHP_414</td><td>5</td><td>11.2540437</td><td>2.7536541</td><td>5</td><td>2.2508087</td><td>0.5507308</td></tr>\n",
       "\t<tr><th scope=row>88</th><td>CHP_415</td><td>5</td><td>12.2012894</td><td>1.9350215</td><td>5</td><td>2.4402579</td><td>0.3870043</td></tr>\n",
       "\t<tr><th scope=row>91</th><td>CHP_418</td><td>5</td><td>10.2233227</td><td>2.8448355</td><td>5</td><td>2.0446645</td><td>0.5689671</td></tr>\n",
       "\t<tr><th scope=row>92</th><td>CHP_419</td><td>4</td><td>13.8049406</td><td>5.3067858</td><td>4</td><td>3.4512351</td><td>1.3266964</td></tr>\n",
       "\t<tr><th scope=row>93</th><td>CHP_420</td><td>3</td><td> 1.5951892</td><td>0.7975946</td><td>3</td><td>0.5317297</td><td>0.2658649</td></tr>\n",
       "\t<tr><th scope=row>94</th><td>CHP_421</td><td>3</td><td> 1.6379310</td><td>0.8189655</td><td>3</td><td>0.5459770</td><td>0.2729885</td></tr>\n",
       "\t<tr><th scope=row>96</th><td>CHP_423</td><td>3</td><td> 3.8763013</td><td>1.9381506</td><td>3</td><td>1.2921004</td><td>0.6460502</td></tr>\n",
       "\t<tr><th scope=row>97</th><td>CHP_424</td><td>2</td><td> 0.4671049</td><td>0.4671049</td><td>2</td><td>0.2335525</td><td>0.2335525</td></tr>\n",
       "\t<tr><th scope=row>98</th><td>CHP_425</td><td>3</td><td> 1.4268563</td><td>1.4268563</td><td>2</td><td>0.7134281</td><td>0.7134281</td></tr>\n",
       "\t<tr><th scope=row>99</th><td>CHP_426</td><td>3</td><td> 5.8769098</td><td>2.9384549</td><td>3</td><td>1.9589699</td><td>0.9794850</td></tr>\n",
       "\t<tr><th scope=row>101</th><td>CHP_428</td><td>2</td><td> 4.8386803</td><td>4.8386803</td><td>2</td><td>2.4193401</td><td>2.4193401</td></tr>\n",
       "\t<tr><th scope=row>102</th><td>CHP_429</td><td>2</td><td> 3.9702101</td><td>3.9702101</td><td>2</td><td>1.9851051</td><td>1.9851051</td></tr>\n",
       "\t<tr><th scope=row>103</th><td>CHP_430</td><td>2</td><td> 1.5444982</td><td>1.5444982</td><td>2</td><td>0.7722491</td><td>0.7722491</td></tr>\n",
       "</tbody>\n",
       "</table>\n"
      ],
      "text/latex": [
       "A data.frame: 80 x 7\n",
       "\\begin{tabular}{r|lllllll}\n",
       "  & Var1 & Freq & sumdist & meddist & samplecount & sumdist\\_n & meddist\\_n\\\\\n",
       "  & <chr> & <int> & <dbl> & <dbl> & <dbl> & <dbl> & <dbl>\\\\\n",
       "\\hline\n",
       "\t2 & CHP\\_323 & 4 &  1.6130196 & 0.80650981 & 3 & 0.53767320 & 0.26883660\\\\\n",
       "\t4 & CHP\\_325 & 3 &  0.3025886 & 0.15129431 & 3 & 0.10086288 & 0.05043144\\\\\n",
       "\t5 & CHP\\_326 & 5 &  0.7890309 & 0.11900047 & 5 & 0.15780618 & 0.02380009\\\\\n",
       "\t6 & CHP\\_328 & 5 &  2.0068604 & 0.40051327 & 5 & 0.40137209 & 0.08010265\\\\\n",
       "\t7 & CHP\\_330 & 5 & 10.3231415 & 3.03919306 & 5 & 2.06462830 & 0.60783861\\\\\n",
       "\t8 & CHP\\_331 & 2 &  0.6363383 & 0.63633830 & 2 & 0.31816915 & 0.31816915\\\\\n",
       "\t9 & CHP\\_332 & 5 &  7.6544755 & 1.83908245 & 5 & 1.53089510 & 0.36781649\\\\\n",
       "\t10 & CHP\\_334 & 4 &  0.1911520 & 0.07638313 & 4 & 0.04778800 & 0.01909578\\\\\n",
       "\t12 & CHP\\_338 & 5 &  5.2157859 & 1.44004546 & 5 & 1.04315718 & 0.28800909\\\\\n",
       "\t13 & CHP\\_339 & 5 &  2.6866496 & 0.69921800 & 5 & 0.53732992 & 0.13984360\\\\\n",
       "\t14 & CHP\\_340 & 3 &  2.3300441 & 1.16502206 & 3 & 0.77668137 & 0.38834069\\\\\n",
       "\t16 & CHP\\_343 & 5 &  9.9292888 & 2.38134139 & 5 & 1.98585776 & 0.47626828\\\\\n",
       "\t17 & CHP\\_344 & 4 &  1.3329174 & 0.66645870 & 3 & 0.44430580 & 0.22215290\\\\\n",
       "\t18 & CHP\\_345 & 4 &  1.1291952 & 0.56459760 & 3 & 0.37639840 & 0.18819920\\\\\n",
       "\t20 & CHP\\_347 & 5 & 19.2333688 & 3.21324264 & 5 & 3.84667376 & 0.64264853\\\\\n",
       "\t21 & CHP\\_348 & 2 &  1.2357504 & 1.23575041 & 2 & 0.61787521 & 0.61787521\\\\\n",
       "\t22 & CHP\\_349 & 2 &  4.3238208 & 4.32382077 & 2 & 2.16191039 & 2.16191039\\\\\n",
       "\t23 & CHP\\_350 & 5 &  8.8941827 & 2.02918845 & 5 & 1.77883655 & 0.40583769\\\\\n",
       "\t29 & CHP\\_356 & 5 &  6.9762080 & 1.85500024 & 5 & 1.39524161 & 0.37100005\\\\\n",
       "\t30 & CHP\\_357 & 5 & 17.3060710 & 3.42874324 & 5 & 3.46121420 & 0.68574865\\\\\n",
       "\t31 & CHP\\_358 & 3 &  6.8622688 & 3.43113438 & 3 & 2.28742292 & 1.14371146\\\\\n",
       "\t32 & CHP\\_359 & 3 & 19.8159670 & 9.90798348 & 3 & 6.60532232 & 3.30266116\\\\\n",
       "\t33 & CHP\\_360 & 4 &  0.2586523 & 0.12932615 & 3 & 0.08621744 & 0.04310872\\\\\n",
       "\t34 & CHP\\_361 & 4 & 10.9501375 & 4.67080236 & 4 & 2.73753437 & 1.16770059\\\\\n",
       "\t35 & CHP\\_362 & 4 &  6.6506539 & 2.33459723 & 4 & 1.66266348 & 0.58364931\\\\\n",
       "\t36 & CHP\\_363 & 3 &  3.6193409 & 1.80967043 & 3 & 1.20644696 & 0.60322348\\\\\n",
       "\t37 & CHP\\_364 & 4 &  4.1026657 & 2.05133284 & 3 & 1.36755523 & 0.68377761\\\\\n",
       "\t38 & CHP\\_365 & 4 &  4.6174057 & 1.31472791 & 4 & 1.15435142 & 0.32868198\\\\\n",
       "\t40 & CHP\\_367 & 3 &  2.4999135 & 2.49991352 & 2 & 1.24995676 & 1.24995676\\\\\n",
       "\t42 & CHP\\_369 & 2 &  3.8008268 & 3.80082677 & 2 & 1.90041338 & 1.90041338\\\\\n",
       "\t... & ... & ... & ... & ... & ... & ... & ...\\\\\n",
       "\t69 & CHP\\_396 & 3 &  4.1001679 & 4.1001679 & 2 & 2.0500840 & 2.0500840\\\\\n",
       "\t71 & CHP\\_398 & 4 &  5.9002805 & 2.9501403 & 3 & 1.9667602 & 0.9833801\\\\\n",
       "\t72 & CHP\\_399 & 3 &  8.9977905 & 4.4988952 & 3 & 2.9992635 & 1.4996317\\\\\n",
       "\t73 & CHP\\_400 & 5 &  8.6864951 & 2.1272011 & 5 & 1.7372990 & 0.4254402\\\\\n",
       "\t74 & CHP\\_401 & 3 &  0.7670250 & 0.7670250 & 2 & 0.3835125 & 0.3835125\\\\\n",
       "\t75 & CHP\\_402 & 3 & 12.2714327 & 6.1357163 & 3 & 4.0904776 & 2.0452388\\\\\n",
       "\t76 & CHP\\_403 & 3 &  5.4392691 & 2.7196345 & 3 & 1.8130897 & 0.9065448\\\\\n",
       "\t77 & CHP\\_404 & 3 &  0.7493683 & 0.7493683 & 2 & 0.3746841 & 0.3746841\\\\\n",
       "\t78 & CHP\\_405 & 5 &  9.0956325 & 2.1504865 & 5 & 1.8191265 & 0.4300973\\\\\n",
       "\t79 & CHP\\_406 & 4 &  4.9653298 & 1.3967775 & 4 & 1.2413325 & 0.3491944\\\\\n",
       "\t80 & CHP\\_407 & 4 & 13.7672436 & 4.0100900 & 4 & 3.4418109 & 1.0025225\\\\\n",
       "\t81 & CHP\\_408 & 5 &  6.8345694 & 1.6610773 & 5 & 1.3669139 & 0.3322155\\\\\n",
       "\t82 & CHP\\_409 & 4 &  4.6122647 & 1.3127769 & 4 & 1.1530662 & 0.3281942\\\\\n",
       "\t83 & CHP\\_410 & 4 &  6.3453294 & 1.9101606 & 4 & 1.5863323 & 0.4775401\\\\\n",
       "\t84 & CHP\\_411 & 2 &  5.4731692 & 5.4731692 & 2 & 2.7365846 & 2.7365846\\\\\n",
       "\t85 & CHP\\_412 & 5 & 15.0482954 & 2.5635862 & 5 & 3.0096591 & 0.5127172\\\\\n",
       "\t86 & CHP\\_413 & 4 &  4.7181546 & 1.3067975 & 4 & 1.1795386 & 0.3266994\\\\\n",
       "\t87 & CHP\\_414 & 5 & 11.2540437 & 2.7536541 & 5 & 2.2508087 & 0.5507308\\\\\n",
       "\t88 & CHP\\_415 & 5 & 12.2012894 & 1.9350215 & 5 & 2.4402579 & 0.3870043\\\\\n",
       "\t91 & CHP\\_418 & 5 & 10.2233227 & 2.8448355 & 5 & 2.0446645 & 0.5689671\\\\\n",
       "\t92 & CHP\\_419 & 4 & 13.8049406 & 5.3067858 & 4 & 3.4512351 & 1.3266964\\\\\n",
       "\t93 & CHP\\_420 & 3 &  1.5951892 & 0.7975946 & 3 & 0.5317297 & 0.2658649\\\\\n",
       "\t94 & CHP\\_421 & 3 &  1.6379310 & 0.8189655 & 3 & 0.5459770 & 0.2729885\\\\\n",
       "\t96 & CHP\\_423 & 3 &  3.8763013 & 1.9381506 & 3 & 1.2921004 & 0.6460502\\\\\n",
       "\t97 & CHP\\_424 & 2 &  0.4671049 & 0.4671049 & 2 & 0.2335525 & 0.2335525\\\\\n",
       "\t98 & CHP\\_425 & 3 &  1.4268563 & 1.4268563 & 2 & 0.7134281 & 0.7134281\\\\\n",
       "\t99 & CHP\\_426 & 3 &  5.8769098 & 2.9384549 & 3 & 1.9589699 & 0.9794850\\\\\n",
       "\t101 & CHP\\_428 & 2 &  4.8386803 & 4.8386803 & 2 & 2.4193401 & 2.4193401\\\\\n",
       "\t102 & CHP\\_429 & 2 &  3.9702101 & 3.9702101 & 2 & 1.9851051 & 1.9851051\\\\\n",
       "\t103 & CHP\\_430 & 2 &  1.5444982 & 1.5444982 & 2 & 0.7722491 & 0.7722491\\\\\n",
       "\\end{tabular}\n"
      ],
      "text/markdown": [
       "\n",
       "A data.frame: 80 x 7\n",
       "\n",
       "| <!--/--> | Var1 &lt;chr&gt; | Freq &lt;int&gt; | sumdist &lt;dbl&gt; | meddist &lt;dbl&gt; | samplecount &lt;dbl&gt; | sumdist_n &lt;dbl&gt; | meddist_n &lt;dbl&gt; |\n",
       "|---|---|---|---|---|---|---|---|\n",
       "| 2 | CHP_323 | 4 |  1.6130196 | 0.80650981 | 3 | 0.53767320 | 0.26883660 |\n",
       "| 4 | CHP_325 | 3 |  0.3025886 | 0.15129431 | 3 | 0.10086288 | 0.05043144 |\n",
       "| 5 | CHP_326 | 5 |  0.7890309 | 0.11900047 | 5 | 0.15780618 | 0.02380009 |\n",
       "| 6 | CHP_328 | 5 |  2.0068604 | 0.40051327 | 5 | 0.40137209 | 0.08010265 |\n",
       "| 7 | CHP_330 | 5 | 10.3231415 | 3.03919306 | 5 | 2.06462830 | 0.60783861 |\n",
       "| 8 | CHP_331 | 2 |  0.6363383 | 0.63633830 | 2 | 0.31816915 | 0.31816915 |\n",
       "| 9 | CHP_332 | 5 |  7.6544755 | 1.83908245 | 5 | 1.53089510 | 0.36781649 |\n",
       "| 10 | CHP_334 | 4 |  0.1911520 | 0.07638313 | 4 | 0.04778800 | 0.01909578 |\n",
       "| 12 | CHP_338 | 5 |  5.2157859 | 1.44004546 | 5 | 1.04315718 | 0.28800909 |\n",
       "| 13 | CHP_339 | 5 |  2.6866496 | 0.69921800 | 5 | 0.53732992 | 0.13984360 |\n",
       "| 14 | CHP_340 | 3 |  2.3300441 | 1.16502206 | 3 | 0.77668137 | 0.38834069 |\n",
       "| 16 | CHP_343 | 5 |  9.9292888 | 2.38134139 | 5 | 1.98585776 | 0.47626828 |\n",
       "| 17 | CHP_344 | 4 |  1.3329174 | 0.66645870 | 3 | 0.44430580 | 0.22215290 |\n",
       "| 18 | CHP_345 | 4 |  1.1291952 | 0.56459760 | 3 | 0.37639840 | 0.18819920 |\n",
       "| 20 | CHP_347 | 5 | 19.2333688 | 3.21324264 | 5 | 3.84667376 | 0.64264853 |\n",
       "| 21 | CHP_348 | 2 |  1.2357504 | 1.23575041 | 2 | 0.61787521 | 0.61787521 |\n",
       "| 22 | CHP_349 | 2 |  4.3238208 | 4.32382077 | 2 | 2.16191039 | 2.16191039 |\n",
       "| 23 | CHP_350 | 5 |  8.8941827 | 2.02918845 | 5 | 1.77883655 | 0.40583769 |\n",
       "| 29 | CHP_356 | 5 |  6.9762080 | 1.85500024 | 5 | 1.39524161 | 0.37100005 |\n",
       "| 30 | CHP_357 | 5 | 17.3060710 | 3.42874324 | 5 | 3.46121420 | 0.68574865 |\n",
       "| 31 | CHP_358 | 3 |  6.8622688 | 3.43113438 | 3 | 2.28742292 | 1.14371146 |\n",
       "| 32 | CHP_359 | 3 | 19.8159670 | 9.90798348 | 3 | 6.60532232 | 3.30266116 |\n",
       "| 33 | CHP_360 | 4 |  0.2586523 | 0.12932615 | 3 | 0.08621744 | 0.04310872 |\n",
       "| 34 | CHP_361 | 4 | 10.9501375 | 4.67080236 | 4 | 2.73753437 | 1.16770059 |\n",
       "| 35 | CHP_362 | 4 |  6.6506539 | 2.33459723 | 4 | 1.66266348 | 0.58364931 |\n",
       "| 36 | CHP_363 | 3 |  3.6193409 | 1.80967043 | 3 | 1.20644696 | 0.60322348 |\n",
       "| 37 | CHP_364 | 4 |  4.1026657 | 2.05133284 | 3 | 1.36755523 | 0.68377761 |\n",
       "| 38 | CHP_365 | 4 |  4.6174057 | 1.31472791 | 4 | 1.15435142 | 0.32868198 |\n",
       "| 40 | CHP_367 | 3 |  2.4999135 | 2.49991352 | 2 | 1.24995676 | 1.24995676 |\n",
       "| 42 | CHP_369 | 2 |  3.8008268 | 3.80082677 | 2 | 1.90041338 | 1.90041338 |\n",
       "| ... | ... | ... | ... | ... | ... | ... | ... |\n",
       "| 69 | CHP_396 | 3 |  4.1001679 | 4.1001679 | 2 | 2.0500840 | 2.0500840 |\n",
       "| 71 | CHP_398 | 4 |  5.9002805 | 2.9501403 | 3 | 1.9667602 | 0.9833801 |\n",
       "| 72 | CHP_399 | 3 |  8.9977905 | 4.4988952 | 3 | 2.9992635 | 1.4996317 |\n",
       "| 73 | CHP_400 | 5 |  8.6864951 | 2.1272011 | 5 | 1.7372990 | 0.4254402 |\n",
       "| 74 | CHP_401 | 3 |  0.7670250 | 0.7670250 | 2 | 0.3835125 | 0.3835125 |\n",
       "| 75 | CHP_402 | 3 | 12.2714327 | 6.1357163 | 3 | 4.0904776 | 2.0452388 |\n",
       "| 76 | CHP_403 | 3 |  5.4392691 | 2.7196345 | 3 | 1.8130897 | 0.9065448 |\n",
       "| 77 | CHP_404 | 3 |  0.7493683 | 0.7493683 | 2 | 0.3746841 | 0.3746841 |\n",
       "| 78 | CHP_405 | 5 |  9.0956325 | 2.1504865 | 5 | 1.8191265 | 0.4300973 |\n",
       "| 79 | CHP_406 | 4 |  4.9653298 | 1.3967775 | 4 | 1.2413325 | 0.3491944 |\n",
       "| 80 | CHP_407 | 4 | 13.7672436 | 4.0100900 | 4 | 3.4418109 | 1.0025225 |\n",
       "| 81 | CHP_408 | 5 |  6.8345694 | 1.6610773 | 5 | 1.3669139 | 0.3322155 |\n",
       "| 82 | CHP_409 | 4 |  4.6122647 | 1.3127769 | 4 | 1.1530662 | 0.3281942 |\n",
       "| 83 | CHP_410 | 4 |  6.3453294 | 1.9101606 | 4 | 1.5863323 | 0.4775401 |\n",
       "| 84 | CHP_411 | 2 |  5.4731692 | 5.4731692 | 2 | 2.7365846 | 2.7365846 |\n",
       "| 85 | CHP_412 | 5 | 15.0482954 | 2.5635862 | 5 | 3.0096591 | 0.5127172 |\n",
       "| 86 | CHP_413 | 4 |  4.7181546 | 1.3067975 | 4 | 1.1795386 | 0.3266994 |\n",
       "| 87 | CHP_414 | 5 | 11.2540437 | 2.7536541 | 5 | 2.2508087 | 0.5507308 |\n",
       "| 88 | CHP_415 | 5 | 12.2012894 | 1.9350215 | 5 | 2.4402579 | 0.3870043 |\n",
       "| 91 | CHP_418 | 5 | 10.2233227 | 2.8448355 | 5 | 2.0446645 | 0.5689671 |\n",
       "| 92 | CHP_419 | 4 | 13.8049406 | 5.3067858 | 4 | 3.4512351 | 1.3266964 |\n",
       "| 93 | CHP_420 | 3 |  1.5951892 | 0.7975946 | 3 | 0.5317297 | 0.2658649 |\n",
       "| 94 | CHP_421 | 3 |  1.6379310 | 0.8189655 | 3 | 0.5459770 | 0.2729885 |\n",
       "| 96 | CHP_423 | 3 |  3.8763013 | 1.9381506 | 3 | 1.2921004 | 0.6460502 |\n",
       "| 97 | CHP_424 | 2 |  0.4671049 | 0.4671049 | 2 | 0.2335525 | 0.2335525 |\n",
       "| 98 | CHP_425 | 3 |  1.4268563 | 1.4268563 | 2 | 0.7134281 | 0.7134281 |\n",
       "| 99 | CHP_426 | 3 |  5.8769098 | 2.9384549 | 3 | 1.9589699 | 0.9794850 |\n",
       "| 101 | CHP_428 | 2 |  4.8386803 | 4.8386803 | 2 | 2.4193401 | 2.4193401 |\n",
       "| 102 | CHP_429 | 2 |  3.9702101 | 3.9702101 | 2 | 1.9851051 | 1.9851051 |\n",
       "| 103 | CHP_430 | 2 |  1.5444982 | 1.5444982 | 2 | 0.7722491 | 0.7722491 |\n",
       "\n"
      ],
      "text/plain": [
       "    Var1    Freq sumdist    meddist    samplecount sumdist_n  meddist_n \n",
       "2   CHP_323 4     1.6130196 0.80650981 3           0.53767320 0.26883660\n",
       "4   CHP_325 3     0.3025886 0.15129431 3           0.10086288 0.05043144\n",
       "5   CHP_326 5     0.7890309 0.11900047 5           0.15780618 0.02380009\n",
       "6   CHP_328 5     2.0068604 0.40051327 5           0.40137209 0.08010265\n",
       "7   CHP_330 5    10.3231415 3.03919306 5           2.06462830 0.60783861\n",
       "8   CHP_331 2     0.6363383 0.63633830 2           0.31816915 0.31816915\n",
       "9   CHP_332 5     7.6544755 1.83908245 5           1.53089510 0.36781649\n",
       "10  CHP_334 4     0.1911520 0.07638313 4           0.04778800 0.01909578\n",
       "12  CHP_338 5     5.2157859 1.44004546 5           1.04315718 0.28800909\n",
       "13  CHP_339 5     2.6866496 0.69921800 5           0.53732992 0.13984360\n",
       "14  CHP_340 3     2.3300441 1.16502206 3           0.77668137 0.38834069\n",
       "16  CHP_343 5     9.9292888 2.38134139 5           1.98585776 0.47626828\n",
       "17  CHP_344 4     1.3329174 0.66645870 3           0.44430580 0.22215290\n",
       "18  CHP_345 4     1.1291952 0.56459760 3           0.37639840 0.18819920\n",
       "20  CHP_347 5    19.2333688 3.21324264 5           3.84667376 0.64264853\n",
       "21  CHP_348 2     1.2357504 1.23575041 2           0.61787521 0.61787521\n",
       "22  CHP_349 2     4.3238208 4.32382077 2           2.16191039 2.16191039\n",
       "23  CHP_350 5     8.8941827 2.02918845 5           1.77883655 0.40583769\n",
       "29  CHP_356 5     6.9762080 1.85500024 5           1.39524161 0.37100005\n",
       "30  CHP_357 5    17.3060710 3.42874324 5           3.46121420 0.68574865\n",
       "31  CHP_358 3     6.8622688 3.43113438 3           2.28742292 1.14371146\n",
       "32  CHP_359 3    19.8159670 9.90798348 3           6.60532232 3.30266116\n",
       "33  CHP_360 4     0.2586523 0.12932615 3           0.08621744 0.04310872\n",
       "34  CHP_361 4    10.9501375 4.67080236 4           2.73753437 1.16770059\n",
       "35  CHP_362 4     6.6506539 2.33459723 4           1.66266348 0.58364931\n",
       "36  CHP_363 3     3.6193409 1.80967043 3           1.20644696 0.60322348\n",
       "37  CHP_364 4     4.1026657 2.05133284 3           1.36755523 0.68377761\n",
       "38  CHP_365 4     4.6174057 1.31472791 4           1.15435142 0.32868198\n",
       "40  CHP_367 3     2.4999135 2.49991352 2           1.24995676 1.24995676\n",
       "42  CHP_369 2     3.8008268 3.80082677 2           1.90041338 1.90041338\n",
       "... ...     ...  ...        ...        ...         ...        ...       \n",
       "69  CHP_396 3     4.1001679 4.1001679  2           2.0500840  2.0500840 \n",
       "71  CHP_398 4     5.9002805 2.9501403  3           1.9667602  0.9833801 \n",
       "72  CHP_399 3     8.9977905 4.4988952  3           2.9992635  1.4996317 \n",
       "73  CHP_400 5     8.6864951 2.1272011  5           1.7372990  0.4254402 \n",
       "74  CHP_401 3     0.7670250 0.7670250  2           0.3835125  0.3835125 \n",
       "75  CHP_402 3    12.2714327 6.1357163  3           4.0904776  2.0452388 \n",
       "76  CHP_403 3     5.4392691 2.7196345  3           1.8130897  0.9065448 \n",
       "77  CHP_404 3     0.7493683 0.7493683  2           0.3746841  0.3746841 \n",
       "78  CHP_405 5     9.0956325 2.1504865  5           1.8191265  0.4300973 \n",
       "79  CHP_406 4     4.9653298 1.3967775  4           1.2413325  0.3491944 \n",
       "80  CHP_407 4    13.7672436 4.0100900  4           3.4418109  1.0025225 \n",
       "81  CHP_408 5     6.8345694 1.6610773  5           1.3669139  0.3322155 \n",
       "82  CHP_409 4     4.6122647 1.3127769  4           1.1530662  0.3281942 \n",
       "83  CHP_410 4     6.3453294 1.9101606  4           1.5863323  0.4775401 \n",
       "84  CHP_411 2     5.4731692 5.4731692  2           2.7365846  2.7365846 \n",
       "85  CHP_412 5    15.0482954 2.5635862  5           3.0096591  0.5127172 \n",
       "86  CHP_413 4     4.7181546 1.3067975  4           1.1795386  0.3266994 \n",
       "87  CHP_414 5    11.2540437 2.7536541  5           2.2508087  0.5507308 \n",
       "88  CHP_415 5    12.2012894 1.9350215  5           2.4402579  0.3870043 \n",
       "91  CHP_418 5    10.2233227 2.8448355  5           2.0446645  0.5689671 \n",
       "92  CHP_419 4    13.8049406 5.3067858  4           3.4512351  1.3266964 \n",
       "93  CHP_420 3     1.5951892 0.7975946  3           0.5317297  0.2658649 \n",
       "94  CHP_421 3     1.6379310 0.8189655  3           0.5459770  0.2729885 \n",
       "96  CHP_423 3     3.8763013 1.9381506  3           1.2921004  0.6460502 \n",
       "97  CHP_424 2     0.4671049 0.4671049  2           0.2335525  0.2335525 \n",
       "98  CHP_425 3     1.4268563 1.4268563  2           0.7134281  0.7134281 \n",
       "99  CHP_426 3     5.8769098 2.9384549  3           1.9589699  0.9794850 \n",
       "101 CHP_428 2     4.8386803 4.8386803  2           2.4193401  2.4193401 \n",
       "102 CHP_429 2     3.9702101 3.9702101  2           1.9851051  1.9851051 \n",
       "103 CHP_430 2     1.5444982 1.5444982  2           0.7722491  0.7722491 "
      ]
     },
     "metadata": {},
     "output_type": "display_data"
    }
   ],
   "source": [
    "(allpts_no0)"
   ]
  },
  {
   "cell_type": "code",
   "execution_count": 30,
   "metadata": {
    "vscode": {
     "languageId": "r"
    }
   },
   "outputs": [
    {
     "data": {
      "text/html": [
       "<table class=\"dataframe\">\n",
       "<caption>A tibble: 6 x 8835</caption>\n",
       "<thead>\n",
       "\t<tr><th scope=col>sample_id</th><th scope=col>Patient</th><th scope=col>cycle</th><th scope=col>FOLD</th><th scope=col>ATC</th><th scope=col>Age</th><th scope=col>Disease_type</th><th scope=col>TE_fold</th><th scope=col>CD3</th><th scope=col>EM</th><th scope=col>...</th><th scope=col>S%G</th><th scope=col>%YE</th><th scope=col>%G</th><th scope=col>%E</th><th scope=col>cyclenum</th><th scope=col>Dim1</th><th scope=col>Dim2</th><th scope=col>dist</th><th scope=col>quantreg</th><th scope=col>meddist_n</th></tr>\n",
       "\t<tr><th scope=col>&lt;chr&gt;</th><th scope=col>&lt;chr&gt;</th><th scope=col>&lt;chr&gt;</th><th scope=col>&lt;dbl&gt;</th><th scope=col>&lt;dbl&gt;</th><th scope=col>&lt;dbl&gt;</th><th scope=col>&lt;chr&gt;</th><th scope=col>&lt;dbl&gt;</th><th scope=col>&lt;int&gt;</th><th scope=col>&lt;int&gt;</th><th scope=col>...</th><th scope=col>&lt;dbl&gt;</th><th scope=col>&lt;dbl&gt;</th><th scope=col>&lt;dbl&gt;</th><th scope=col>&lt;dbl&gt;</th><th scope=col>&lt;dbl&gt;</th><th scope=col>&lt;dbl&gt;</th><th scope=col>&lt;dbl&gt;</th><th scope=col>&lt;dbl&gt;</th><th scope=col>&lt;dbl&gt;</th><th scope=col>&lt;dbl&gt;</th></tr>\n",
       "</thead>\n",
       "<tbody>\n",
       "\t<tr><td>CHP_347_01</td><td>CHP_347</td><td>X01</td><td> 0.8</td><td> 126.72</td><td>13</td><td>ALL</td><td> 0.8</td><td>1701</td><td> 1</td><td>...</td><td>0</td><td>0</td><td>0</td><td>0</td><td>1</td><td>-0.9541641</td><td>-1.28401109</td><td>NA</td><td> 0.09216541</td><td>0.6426485</td></tr>\n",
       "\t<tr><td>CHP_348_01</td><td>CHP_348</td><td>X01</td><td>11.5</td><td>  50.96</td><td>18</td><td>OS </td><td>11.5</td><td>1125</td><td>28</td><td>...</td><td>0</td><td>0</td><td>0</td><td>0</td><td>1</td><td>-0.7139932</td><td> 0.16238592</td><td>NA</td><td>-0.18857876</td><td>0.6178752</td></tr>\n",
       "\t<tr><td>CHP_349_01</td><td>CHP_349</td><td>X01</td><td> 2.0</td><td>3152.22</td><td>17</td><td>CML</td><td> 2.0</td><td>2735</td><td>53</td><td>...</td><td>0</td><td>0</td><td>0</td><td>0</td><td>1</td><td>-1.2083397</td><td>-2.67123009</td><td>NA</td><td> 0.61127896</td><td>2.1619104</td></tr>\n",
       "\t<tr><td>CHP_350_01</td><td>CHP_350</td><td>X01</td><td> 2.7</td><td>1615.44</td><td> 1</td><td>HB </td><td> 2.7</td><td>1338</td><td>18</td><td>...</td><td>0</td><td>0</td><td>0</td><td>0</td><td>1</td><td>-1.8316563</td><td> 0.34808927</td><td>NA</td><td>-0.12049457</td><td>0.4058377</td></tr>\n",
       "\t<tr><td>CHP_357_01</td><td>CHP_357</td><td>X01</td><td> 1.7</td><td> 251.00</td><td> 1</td><td>AML</td><td> 1.7</td><td>1382</td><td> 2</td><td>...</td><td>0</td><td>0</td><td>0</td><td>0</td><td>1</td><td>-0.7689761</td><td> 0.05223209</td><td>NA</td><td> 0.07010041</td><td>0.6857486</td></tr>\n",
       "\t<tr><td>CHP_361_01</td><td>CHP_361</td><td>X01</td><td> 2.4</td><td> 516.04</td><td>13</td><td>HD </td><td> 2.4</td><td>2317</td><td>94</td><td>...</td><td>0</td><td>0</td><td>0</td><td>0</td><td>1</td><td> 2.5060131</td><td> 0.29950330</td><td>NA</td><td> 0.08694873</td><td>1.1677006</td></tr>\n",
       "</tbody>\n",
       "</table>\n"
      ],
      "text/latex": [
       "A tibble: 6 x 8835\n",
       "\\begin{tabular}{lllllllllllllllllllll}\n",
       " sample\\_id & Patient & cycle & FOLD & ATC & Age & Disease\\_type & TE\\_fold & CD3 & EM & ... & S\\%G & \\%YE & \\%G & \\%E & cyclenum & Dim1 & Dim2 & dist & quantreg & meddist\\_n\\\\\n",
       " <chr> & <chr> & <chr> & <dbl> & <dbl> & <dbl> & <chr> & <dbl> & <int> & <int> & ... & <dbl> & <dbl> & <dbl> & <dbl> & <dbl> & <dbl> & <dbl> & <dbl> & <dbl> & <dbl>\\\\\n",
       "\\hline\n",
       "\t CHP\\_347\\_01 & CHP\\_347 & X01 &  0.8 &  126.72 & 13 & ALL &  0.8 & 1701 &  1 & ... & 0 & 0 & 0 & 0 & 1 & -0.9541641 & -1.28401109 & NA &  0.09216541 & 0.6426485\\\\\n",
       "\t CHP\\_348\\_01 & CHP\\_348 & X01 & 11.5 &   50.96 & 18 & OS  & 11.5 & 1125 & 28 & ... & 0 & 0 & 0 & 0 & 1 & -0.7139932 &  0.16238592 & NA & -0.18857876 & 0.6178752\\\\\n",
       "\t CHP\\_349\\_01 & CHP\\_349 & X01 &  2.0 & 3152.22 & 17 & CML &  2.0 & 2735 & 53 & ... & 0 & 0 & 0 & 0 & 1 & -1.2083397 & -2.67123009 & NA &  0.61127896 & 2.1619104\\\\\n",
       "\t CHP\\_350\\_01 & CHP\\_350 & X01 &  2.7 & 1615.44 &  1 & HB  &  2.7 & 1338 & 18 & ... & 0 & 0 & 0 & 0 & 1 & -1.8316563 &  0.34808927 & NA & -0.12049457 & 0.4058377\\\\\n",
       "\t CHP\\_357\\_01 & CHP\\_357 & X01 &  1.7 &  251.00 &  1 & AML &  1.7 & 1382 &  2 & ... & 0 & 0 & 0 & 0 & 1 & -0.7689761 &  0.05223209 & NA &  0.07010041 & 0.6857486\\\\\n",
       "\t CHP\\_361\\_01 & CHP\\_361 & X01 &  2.4 &  516.04 & 13 & HD  &  2.4 & 2317 & 94 & ... & 0 & 0 & 0 & 0 & 1 &  2.5060131 &  0.29950330 & NA &  0.08694873 & 1.1677006\\\\\n",
       "\\end{tabular}\n"
      ],
      "text/markdown": [
       "\n",
       "A tibble: 6 x 8835\n",
       "\n",
       "| sample_id &lt;chr&gt; | Patient &lt;chr&gt; | cycle &lt;chr&gt; | FOLD &lt;dbl&gt; | ATC &lt;dbl&gt; | Age &lt;dbl&gt; | Disease_type &lt;chr&gt; | TE_fold &lt;dbl&gt; | CD3 &lt;int&gt; | EM &lt;int&gt; | ... ... | S%G &lt;dbl&gt; | %YE &lt;dbl&gt; | %G &lt;dbl&gt; | %E &lt;dbl&gt; | cyclenum &lt;dbl&gt; | Dim1 &lt;dbl&gt; | Dim2 &lt;dbl&gt; | dist &lt;dbl&gt; | quantreg &lt;dbl&gt; | meddist_n &lt;dbl&gt; |\n",
       "|---|---|---|---|---|---|---|---|---|---|---|---|---|---|---|---|---|---|---|---|---|\n",
       "| CHP_347_01 | CHP_347 | X01 |  0.8 |  126.72 | 13 | ALL |  0.8 | 1701 |  1 | ... | 0 | 0 | 0 | 0 | 1 | -0.9541641 | -1.28401109 | NA |  0.09216541 | 0.6426485 |\n",
       "| CHP_348_01 | CHP_348 | X01 | 11.5 |   50.96 | 18 | OS  | 11.5 | 1125 | 28 | ... | 0 | 0 | 0 | 0 | 1 | -0.7139932 |  0.16238592 | NA | -0.18857876 | 0.6178752 |\n",
       "| CHP_349_01 | CHP_349 | X01 |  2.0 | 3152.22 | 17 | CML |  2.0 | 2735 | 53 | ... | 0 | 0 | 0 | 0 | 1 | -1.2083397 | -2.67123009 | NA |  0.61127896 | 2.1619104 |\n",
       "| CHP_350_01 | CHP_350 | X01 |  2.7 | 1615.44 |  1 | HB  |  2.7 | 1338 | 18 | ... | 0 | 0 | 0 | 0 | 1 | -1.8316563 |  0.34808927 | NA | -0.12049457 | 0.4058377 |\n",
       "| CHP_357_01 | CHP_357 | X01 |  1.7 |  251.00 |  1 | AML |  1.7 | 1382 |  2 | ... | 0 | 0 | 0 | 0 | 1 | -0.7689761 |  0.05223209 | NA |  0.07010041 | 0.6857486 |\n",
       "| CHP_361_01 | CHP_361 | X01 |  2.4 |  516.04 | 13 | HD  |  2.4 | 2317 | 94 | ... | 0 | 0 | 0 | 0 | 1 |  2.5060131 |  0.29950330 | NA |  0.08694873 | 1.1677006 |\n",
       "\n"
      ],
      "text/plain": [
       "  sample_id  Patient cycle FOLD ATC     Age Disease_type TE_fold CD3  EM ...\n",
       "1 CHP_347_01 CHP_347 X01    0.8  126.72 13  ALL           0.8    1701  1 ...\n",
       "2 CHP_348_01 CHP_348 X01   11.5   50.96 18  OS           11.5    1125 28 ...\n",
       "3 CHP_349_01 CHP_349 X01    2.0 3152.22 17  CML           2.0    2735 53 ...\n",
       "4 CHP_350_01 CHP_350 X01    2.7 1615.44  1  HB            2.7    1338 18 ...\n",
       "5 CHP_357_01 CHP_357 X01    1.7  251.00  1  AML           1.7    1382  2 ...\n",
       "6 CHP_361_01 CHP_361 X01    2.4  516.04 13  HD            2.4    2317 94 ...\n",
       "  S%G %YE %G %E cyclenum Dim1       Dim2        dist quantreg    meddist_n\n",
       "1 0   0   0  0  1        -0.9541641 -1.28401109 NA    0.09216541 0.6426485\n",
       "2 0   0   0  0  1        -0.7139932  0.16238592 NA   -0.18857876 0.6178752\n",
       "3 0   0   0  0  1        -1.2083397 -2.67123009 NA    0.61127896 2.1619104\n",
       "4 0   0   0  0  1        -1.8316563  0.34808927 NA   -0.12049457 0.4058377\n",
       "5 0   0   0  0  1        -0.7689761  0.05223209 NA    0.07010041 0.6857486\n",
       "6 0   0   0  0  1         2.5060131  0.29950330 NA    0.08694873 1.1677006"
      ]
     },
     "metadata": {},
     "output_type": "display_data"
    }
   ],
   "source": [
    "head(mypatients)"
   ]
  },
  {
   "cell_type": "code",
   "execution_count": 33,
   "metadata": {
    "vscode": {
     "languageId": "r"
    }
   },
   "outputs": [
    {
     "data": {
      "text/html": [
       "<table class=\"dataframe\">\n",
       "<caption>A tibble: 6 x 8834</caption>\n",
       "<thead>\n",
       "\t<tr><th scope=col>sample_id</th><th scope=col>Patient</th><th scope=col>cycle</th><th scope=col>FOLD</th><th scope=col>ATC</th><th scope=col>Age</th><th scope=col>Disease_type</th><th scope=col>TE_fold</th><th scope=col>CD3</th><th scope=col>EM</th><th scope=col>...</th><th scope=col>G%GE</th><th scope=col>S%G</th><th scope=col>%YE</th><th scope=col>%G</th><th scope=col>%E</th><th scope=col>cyclenum</th><th scope=col>Dim1</th><th scope=col>Dim2</th><th scope=col>dist</th><th scope=col>quantreg</th></tr>\n",
       "\t<tr><th scope=col>&lt;chr&gt;</th><th scope=col>&lt;chr&gt;</th><th scope=col>&lt;chr&gt;</th><th scope=col>&lt;dbl&gt;</th><th scope=col>&lt;dbl&gt;</th><th scope=col>&lt;dbl&gt;</th><th scope=col>&lt;chr&gt;</th><th scope=col>&lt;dbl&gt;</th><th scope=col>&lt;int&gt;</th><th scope=col>&lt;int&gt;</th><th scope=col>...</th><th scope=col>&lt;dbl&gt;</th><th scope=col>&lt;dbl&gt;</th><th scope=col>&lt;dbl&gt;</th><th scope=col>&lt;dbl&gt;</th><th scope=col>&lt;dbl&gt;</th><th scope=col>&lt;dbl&gt;</th><th scope=col>&lt;dbl&gt;</th><th scope=col>&lt;dbl&gt;</th><th scope=col>&lt;dbl&gt;</th><th scope=col>&lt;dbl&gt;</th></tr>\n",
       "</thead>\n",
       "<tbody>\n",
       "\t<tr><td>CHP_346_01</td><td>CHP_346</td><td>X01</td><td> 0.8</td><td> 331.70</td><td> 1</td><td>NB    </td><td> 0.8</td><td> 637</td><td> 0</td><td>...</td><td>0</td><td>0</td><td>0</td><td>0</td><td>0</td><td>1</td><td>-2.1175109</td><td> 2.7883021</td><td>NA</td><td>         NA</td></tr>\n",
       "\t<tr><td>CHP_347_01</td><td>CHP_347</td><td>X01</td><td> 0.8</td><td> 126.72</td><td>13</td><td>ALL   </td><td> 0.8</td><td>1701</td><td> 1</td><td>...</td><td>0</td><td>0</td><td>0</td><td>0</td><td>0</td><td>1</td><td>-0.9541641</td><td>-1.2840111</td><td>NA</td><td> 0.09216541</td></tr>\n",
       "\t<tr><td>CHP_348_01</td><td>CHP_348</td><td>X01</td><td>11.5</td><td>  50.96</td><td>18</td><td>OS    </td><td>11.5</td><td>1125</td><td>28</td><td>...</td><td>0</td><td>0</td><td>0</td><td>0</td><td>0</td><td>1</td><td>-0.7139932</td><td> 0.1623859</td><td>NA</td><td>-0.18857876</td></tr>\n",
       "\t<tr><td>CHP_349_01</td><td>CHP_349</td><td>X01</td><td> 2.0</td><td>3152.22</td><td>17</td><td>CML   </td><td> 2.0</td><td>2735</td><td>53</td><td>...</td><td>0</td><td>0</td><td>0</td><td>0</td><td>0</td><td>1</td><td>-1.2083397</td><td>-2.6712301</td><td>NA</td><td> 0.61127896</td></tr>\n",
       "\t<tr><td>CHP_350_01</td><td>CHP_350</td><td>X01</td><td> 2.7</td><td>1615.44</td><td> 1</td><td>HB    </td><td> 2.7</td><td>1338</td><td>18</td><td>...</td><td>0</td><td>0</td><td>0</td><td>0</td><td>0</td><td>1</td><td>-1.8316563</td><td> 0.3480893</td><td>NA</td><td>-0.12049457</td></tr>\n",
       "\t<tr><td>CHP_352_01</td><td>CHP_352</td><td>X01</td><td> 1.2</td><td> 763.14</td><td>17</td><td>HR ALL</td><td> 1.2</td><td>2337</td><td> 2</td><td>...</td><td>0</td><td>0</td><td>0</td><td>0</td><td>0</td><td>1</td><td>-1.5622942</td><td>-2.3619056</td><td>NA</td><td>         NA</td></tr>\n",
       "</tbody>\n",
       "</table>\n"
      ],
      "text/latex": [
       "A tibble: 6 x 8834\n",
       "\\begin{tabular}{lllllllllllllllllllll}\n",
       " sample\\_id & Patient & cycle & FOLD & ATC & Age & Disease\\_type & TE\\_fold & CD3 & EM & ... & G\\%GE & S\\%G & \\%YE & \\%G & \\%E & cyclenum & Dim1 & Dim2 & dist & quantreg\\\\\n",
       " <chr> & <chr> & <chr> & <dbl> & <dbl> & <dbl> & <chr> & <dbl> & <int> & <int> & ... & <dbl> & <dbl> & <dbl> & <dbl> & <dbl> & <dbl> & <dbl> & <dbl> & <dbl> & <dbl>\\\\\n",
       "\\hline\n",
       "\t CHP\\_346\\_01 & CHP\\_346 & X01 &  0.8 &  331.70 &  1 & NB     &  0.8 &  637 &  0 & ... & 0 & 0 & 0 & 0 & 0 & 1 & -2.1175109 &  2.7883021 & NA &          NA\\\\\n",
       "\t CHP\\_347\\_01 & CHP\\_347 & X01 &  0.8 &  126.72 & 13 & ALL    &  0.8 & 1701 &  1 & ... & 0 & 0 & 0 & 0 & 0 & 1 & -0.9541641 & -1.2840111 & NA &  0.09216541\\\\\n",
       "\t CHP\\_348\\_01 & CHP\\_348 & X01 & 11.5 &   50.96 & 18 & OS     & 11.5 & 1125 & 28 & ... & 0 & 0 & 0 & 0 & 0 & 1 & -0.7139932 &  0.1623859 & NA & -0.18857876\\\\\n",
       "\t CHP\\_349\\_01 & CHP\\_349 & X01 &  2.0 & 3152.22 & 17 & CML    &  2.0 & 2735 & 53 & ... & 0 & 0 & 0 & 0 & 0 & 1 & -1.2083397 & -2.6712301 & NA &  0.61127896\\\\\n",
       "\t CHP\\_350\\_01 & CHP\\_350 & X01 &  2.7 & 1615.44 &  1 & HB     &  2.7 & 1338 & 18 & ... & 0 & 0 & 0 & 0 & 0 & 1 & -1.8316563 &  0.3480893 & NA & -0.12049457\\\\\n",
       "\t CHP\\_352\\_01 & CHP\\_352 & X01 &  1.2 &  763.14 & 17 & HR ALL &  1.2 & 2337 &  2 & ... & 0 & 0 & 0 & 0 & 0 & 1 & -1.5622942 & -2.3619056 & NA &          NA\\\\\n",
       "\\end{tabular}\n"
      ],
      "text/markdown": [
       "\n",
       "A tibble: 6 x 8834\n",
       "\n",
       "| sample_id &lt;chr&gt; | Patient &lt;chr&gt; | cycle &lt;chr&gt; | FOLD &lt;dbl&gt; | ATC &lt;dbl&gt; | Age &lt;dbl&gt; | Disease_type &lt;chr&gt; | TE_fold &lt;dbl&gt; | CD3 &lt;int&gt; | EM &lt;int&gt; | ... ... | G%GE &lt;dbl&gt; | S%G &lt;dbl&gt; | %YE &lt;dbl&gt; | %G &lt;dbl&gt; | %E &lt;dbl&gt; | cyclenum &lt;dbl&gt; | Dim1 &lt;dbl&gt; | Dim2 &lt;dbl&gt; | dist &lt;dbl&gt; | quantreg &lt;dbl&gt; |\n",
       "|---|---|---|---|---|---|---|---|---|---|---|---|---|---|---|---|---|---|---|---|---|\n",
       "| CHP_346_01 | CHP_346 | X01 |  0.8 |  331.70 |  1 | NB     |  0.8 |  637 |  0 | ... | 0 | 0 | 0 | 0 | 0 | 1 | -2.1175109 |  2.7883021 | NA |          NA |\n",
       "| CHP_347_01 | CHP_347 | X01 |  0.8 |  126.72 | 13 | ALL    |  0.8 | 1701 |  1 | ... | 0 | 0 | 0 | 0 | 0 | 1 | -0.9541641 | -1.2840111 | NA |  0.09216541 |\n",
       "| CHP_348_01 | CHP_348 | X01 | 11.5 |   50.96 | 18 | OS     | 11.5 | 1125 | 28 | ... | 0 | 0 | 0 | 0 | 0 | 1 | -0.7139932 |  0.1623859 | NA | -0.18857876 |\n",
       "| CHP_349_01 | CHP_349 | X01 |  2.0 | 3152.22 | 17 | CML    |  2.0 | 2735 | 53 | ... | 0 | 0 | 0 | 0 | 0 | 1 | -1.2083397 | -2.6712301 | NA |  0.61127896 |\n",
       "| CHP_350_01 | CHP_350 | X01 |  2.7 | 1615.44 |  1 | HB     |  2.7 | 1338 | 18 | ... | 0 | 0 | 0 | 0 | 0 | 1 | -1.8316563 |  0.3480893 | NA | -0.12049457 |\n",
       "| CHP_352_01 | CHP_352 | X01 |  1.2 |  763.14 | 17 | HR ALL |  1.2 | 2337 |  2 | ... | 0 | 0 | 0 | 0 | 0 | 1 | -1.5622942 | -2.3619056 | NA |          NA |\n",
       "\n"
      ],
      "text/plain": [
       "  sample_id  Patient cycle FOLD ATC     Age Disease_type TE_fold CD3  EM ...\n",
       "1 CHP_346_01 CHP_346 X01    0.8  331.70  1  NB            0.8     637  0 ...\n",
       "2 CHP_347_01 CHP_347 X01    0.8  126.72 13  ALL           0.8    1701  1 ...\n",
       "3 CHP_348_01 CHP_348 X01   11.5   50.96 18  OS           11.5    1125 28 ...\n",
       "4 CHP_349_01 CHP_349 X01    2.0 3152.22 17  CML           2.0    2735 53 ...\n",
       "5 CHP_350_01 CHP_350 X01    2.7 1615.44  1  HB            2.7    1338 18 ...\n",
       "6 CHP_352_01 CHP_352 X01    1.2  763.14 17  HR ALL        1.2    2337  2 ...\n",
       "  G%GE S%G %YE %G %E cyclenum Dim1       Dim2       dist quantreg   \n",
       "1 0    0   0   0  0  1        -2.1175109  2.7883021 NA            NA\n",
       "2 0    0   0   0  0  1        -0.9541641 -1.2840111 NA    0.09216541\n",
       "3 0    0   0   0  0  1        -0.7139932  0.1623859 NA   -0.18857876\n",
       "4 0    0   0   0  0  1        -1.2083397 -2.6712301 NA    0.61127896\n",
       "5 0    0   0   0  0  1        -1.8316563  0.3480893 NA   -0.12049457\n",
       "6 0    0   0   0  0  1        -1.5622942 -2.3619056 NA            NA"
      ]
     },
     "metadata": {},
     "output_type": "display_data"
    }
   ],
   "source": [
    "head(sample_df)"
   ]
  },
  {
   "cell_type": "code",
   "execution_count": 34,
   "metadata": {
    "vscode": {
     "languageId": "r"
    }
   },
   "outputs": [],
   "source": [
    "df_narm_pre_post <- sample_df[sample_df$cycle %in% c(\"X02\"), ]\n",
    "# df_narm_pre_post <- df_narm_pre_post[!is.na(df_narm_pre_post$dist),]\n",
    "df_narm_pre_post$dist_pre <- df_narm_pre_post$dist\n",
    "\n",
    "df_narm_pre_post$dist_post <- NA\n",
    "for (i in 1:nrow(df_narm_pre_post)) {\n",
    "    tm <- sample_df$dist[sample_df$Patient == df_narm_pre_post$Patient[i] & sample_df$cycle != \"X02\"]\n",
    "    if(sum(is.na(tm)) == length(tm)){\n",
    "        df_narm_pre_post$dist_post[i] <- NA}\n",
    "    else{\n",
    "    df_narm_pre_post$dist_post[i] <- median(tm, na.rm = T)\n",
    "}  \n",
    "}"
   ]
  },
  {
   "cell_type": "code",
   "execution_count": 52,
   "metadata": {
    "vscode": {
     "languageId": "r"
    }
   },
   "outputs": [
    {
     "data": {
      "text/html": [
       "<table class=\"dataframe\">\n",
       "<caption>A tibble: 1 x 22</caption>\n",
       "<thead>\n",
       "\t<tr><th scope=col>N+CM+SCM/TE+EM</th><th scope=col>PD-1</th><th scope=col>PDL1</th><th scope=col>LAG3</th><th scope=col>TIM3</th><th scope=col>CTLA4</th><th scope=col>PD1%</th><th scope=col>PDL1%</th><th scope=col>LAG3%</th><th scope=col>TIM3%</th><th scope=col>...</th><th scope=col>PD1 + LAG3 + TIM3</th><th scope=col>cancergroup</th><th scope=col>agegroup</th><th scope=col>foldgroup</th><th scope=col>Remission</th><th scope=col>Relapse</th><th scope=col>Transplant</th><th scope=col>CART</th><th scope=col>vital_status</th><th scope=col>LOF</th></tr>\n",
       "\t<tr><th scope=col>&lt;dbl&gt;</th><th scope=col>&lt;int&gt;</th><th scope=col>&lt;int&gt;</th><th scope=col>&lt;int&gt;</th><th scope=col>&lt;int&gt;</th><th scope=col>&lt;int&gt;</th><th scope=col>&lt;dbl&gt;</th><th scope=col>&lt;dbl&gt;</th><th scope=col>&lt;dbl&gt;</th><th scope=col>&lt;dbl&gt;</th><th scope=col>...</th><th scope=col>&lt;dbl&gt;</th><th scope=col>&lt;chr&gt;</th><th scope=col>&lt;chr&gt;</th><th scope=col>&lt;chr&gt;</th><th scope=col>&lt;int&gt;</th><th scope=col>&lt;int&gt;</th><th scope=col>&lt;int&gt;</th><th scope=col>&lt;int&gt;</th><th scope=col>&lt;int&gt;</th><th scope=col>&lt;int&gt;</th></tr>\n",
       "</thead>\n",
       "<tbody>\n",
       "\t<tr><td>0.171371</td><td>74</td><td>NA</td><td>50</td><td>74</td><td>NA</td><td>12.73666</td><td>NA</td><td>8.605852</td><td>12.73666</td><td>...</td><td>NA</td><td>Solid tumors</td><td>2-4 yrs</td><td>Low</td><td>1</td><td>1</td><td>0</td><td>0</td><td>0</td><td>0</td></tr>\n",
       "</tbody>\n",
       "</table>\n"
      ],
      "text/latex": [
       "A tibble: 1 x 22\n",
       "\\begin{tabular}{lllllllllllllllllllll}\n",
       " N+CM+SCM/TE+EM & PD-1 & PDL1 & LAG3 & TIM3 & CTLA4 & PD1\\% & PDL1\\% & LAG3\\% & TIM3\\% & ... & PD1 + LAG3 + TIM3 & cancergroup & agegroup & foldgroup & Remission & Relapse & Transplant & CART & vital\\_status & LOF\\\\\n",
       " <dbl> & <int> & <int> & <int> & <int> & <int> & <dbl> & <dbl> & <dbl> & <dbl> & ... & <dbl> & <chr> & <chr> & <chr> & <int> & <int> & <int> & <int> & <int> & <int>\\\\\n",
       "\\hline\n",
       "\t 0.171371 & 74 & NA & 50 & 74 & NA & 12.73666 & NA & 8.605852 & 12.73666 & ... & NA & Solid tumors & 2-4 yrs & Low & 1 & 1 & 0 & 0 & 0 & 0\\\\\n",
       "\\end{tabular}\n"
      ],
      "text/markdown": [
       "\n",
       "A tibble: 1 x 22\n",
       "\n",
       "| N+CM+SCM/TE+EM &lt;dbl&gt; | PD-1 &lt;int&gt; | PDL1 &lt;int&gt; | LAG3 &lt;int&gt; | TIM3 &lt;int&gt; | CTLA4 &lt;int&gt; | PD1% &lt;dbl&gt; | PDL1% &lt;dbl&gt; | LAG3% &lt;dbl&gt; | TIM3% &lt;dbl&gt; | ... ... | PD1 + LAG3 + TIM3 &lt;dbl&gt; | cancergroup &lt;chr&gt; | agegroup &lt;chr&gt; | foldgroup &lt;chr&gt; | Remission &lt;int&gt; | Relapse &lt;int&gt; | Transplant &lt;int&gt; | CART &lt;int&gt; | vital_status &lt;int&gt; | LOF &lt;int&gt; |\n",
       "|---|---|---|---|---|---|---|---|---|---|---|---|---|---|---|---|---|---|---|---|---|\n",
       "| 0.171371 | 74 | NA | 50 | 74 | NA | 12.73666 | NA | 8.605852 | 12.73666 | ... | NA | Solid tumors | 2-4 yrs | Low | 1 | 1 | 0 | 0 | 0 | 0 |\n",
       "\n"
      ],
      "text/plain": [
       "  N+CM+SCM/TE+EM PD-1 PDL1 LAG3 TIM3 CTLA4 PD1%     PDL1% LAG3%    TIM3%    ...\n",
       "1 0.171371       74   NA   50   74   NA    12.73666 NA    8.605852 12.73666 ...\n",
       "  PD1 + LAG3 + TIM3 cancergroup  agegroup foldgroup Remission Relapse\n",
       "1 NA                Solid tumors 2-4 yrs  Low       1         1      \n",
       "  Transplant CART vital_status LOF\n",
       "1 0          0    0            0  "
      ]
     },
     "metadata": {},
     "output_type": "display_data"
    }
   ],
   "source": [
    "df_narm_pre_post[df_narm_pre_post$Patient == \"CHP_418\",21:42]"
   ]
  },
  {
   "cell_type": "code",
   "execution_count": 35,
   "metadata": {
    "vscode": {
     "languageId": "r"
    }
   },
   "outputs": [],
   "source": [
    "df_narm_pre_post$meddist_n <- mypatients$meddist_n[match(df_narm_pre_post$Patient, mypatients$Patient)]\n",
    "sample_df$meddist_n <- mypatients$meddist_n[match(sample_df$Patient, mypatients$Patient)]"
   ]
  },
  {
   "cell_type": "code",
   "execution_count": 44,
   "metadata": {
    "vscode": {
     "languageId": "r"
    }
   },
   "outputs": [
    {
     "name": "stderr",
     "output_type": "stream",
     "text": [
      "Warning message:\n",
      "“\u001b[1m\u001b[22mRemoved 20 rows containing missing values (`geom_point()`).”\n"
     ]
    },
    {
     "data": {
      "image/png": "[encoded data removed]",
      "text/plain": [
       "plot without title"
      ]
     },
     "metadata": {
      "image/png": {
       "height": 420,
       "width": 420
      }
     },
     "output_type": "display_data"
    }
   ],
   "source": [
    "ggplot(data = df_narm_pre_post, aes(x = dist_post, y = dist_pre) ) + geom_point(aes(color = cancergroup))"
   ]
  },
  {
   "cell_type": "code",
   "execution_count": 47,
   "metadata": {
    "vscode": {
     "languageId": "r"
    }
   },
   "outputs": [
    {
     "data": {
      "text/plain": [
       "Frequencies of Missing Values Due to Each Variable\n",
       "    Relapse   dist_post cancergroup \n",
       "          0          14           0 \n",
       "\n",
       "Logistic Regression Model\n",
       "\n",
       "rms::lrm(formula = Relapse ~ dist_post * cancergroup, data = df_narm_pre_post)\n",
       "\n",
       "\n",
       "                      Model Likelihood     Discrimination    Rank Discrim.    \n",
       "                            Ratio Test            Indexes          Indexes    \n",
       "Obs            55    LR chi2     15.61     R2       0.403    C       0.824    \n",
       " 0             45    d.f.            7     R2(7,55) 0.145    Dxy     0.649    \n",
       " 1             10    Pr(> chi2) 0.0289    R2(7,24.5)0.296    gamma   0.649    \n",
       "max |deriv| 0.001                          Brier    0.104    tau-a   0.197    \n",
       "\n",
       "                                            Coef    S.E.     Wald Z Pr(>|Z|)\n",
       "Intercept                                   -3.3206   1.1166 -2.97  0.0029  \n",
       "dist_post                                    0.7084   0.2912  2.43  0.0150  \n",
       "cancergroup=Lymphoma                         3.5535   1.8951  1.88  0.0608  \n",
       "cancergroup=Solid tumors                     1.2379   1.6417  0.75  0.4508  \n",
       "cancergroup=T-cell malignancies             -5.5063 177.4503 -0.03  0.9752  \n",
       "dist_post * cancergroup=Lymphoma            -3.7778   5.1099 -0.74  0.4597  \n",
       "dist_post * cancergroup=Solid tumors        -0.5084   0.5003 -1.02  0.3095  \n",
       "dist_post * cancergroup=T-cell malignancies -0.7084  66.6803 -0.01  0.9915  \n"
      ]
     },
     "metadata": {},
     "output_type": "display_data"
    }
   ],
   "source": [
    "rms::lrm(Relapse ~ dist_post*cancergroup, data = df_narm_pre_post)"
   ]
  },
  {
   "cell_type": "code",
   "execution_count": 39,
   "metadata": {
    "vscode": {
     "languageId": "r"
    }
   },
   "outputs": [
    {
     "data": {
      "text/plain": [
       "Logistic Regression Model\n",
       "\n",
       "rms::lrm(formula = Relapse ~ meddist_n, data = mypatients)\n",
       "\n",
       "                      Model Likelihood     Discrimination    Rank Discrim.    \n",
       "                            Ratio Test            Indexes          Indexes    \n",
       "Obs            80    LR chi2      7.30     R2       0.148    C       0.630    \n",
       " 0             67    d.f.            1     R2(1,80) 0.076    Dxy     0.261    \n",
       " 1             13    Pr(> chi2) 0.0069    R2(1,32.7)0.175    gamma   0.261    \n",
       "max |deriv| 1e-08                          Brier    0.117    tau-a   0.072    \n",
       "\n",
       "          Coef    S.E.   Wald Z Pr(>|Z|)\n",
       "Intercept -2.6363 0.5343 -4.93  <0.0001 \n",
       "meddist_n  1.0651 0.4015  2.65  0.0080  \n"
      ]
     },
     "metadata": {},
     "output_type": "display_data"
    }
   ],
   "source": [
    "rms::lrm(Relapse ~ meddist_n, data = mypatients)"
   ]
  },
  {
   "cell_type": "code",
   "execution_count": 116,
   "metadata": {
    "vscode": {
     "languageId": "r"
    }
   },
   "outputs": [
    {
     "data": {
      "text/plain": [
       "Logistic Regression Model\n",
       "\n",
       "rms::lrm(formula = Relapse ~ meddist_n * cancergroup, data = mypatients)\n",
       "\n",
       "                       Model Likelihood     Discrimination    Rank Discrim.    \n",
       "                             Ratio Test            Indexes          Indexes    \n",
       "Obs             80    LR chi2     18.95     R2       0.358    C       0.799    \n",
       " 0              67    d.f.            7     R2(7,80) 0.139    Dxy     0.598    \n",
       " 1              13    Pr(> chi2) 0.0083    R2(7,32.7)0.306    gamma   0.598    \n",
       "max |deriv| 0.0003                          Brier    0.095    tau-a   0.165    \n",
       "\n",
       "                                            Coef      S.E.     Wald Z Pr(>|Z|)\n",
       "Intercept                                     -3.4854   0.9748 -3.58  0.0003  \n",
       "meddist_n                                      1.6009   0.5667  2.83  0.0047  \n",
       "cancergroup=Lymphoma                          52.3575 148.4300  0.35  0.7243  \n",
       "cancergroup=Solid tumors                       2.1752   1.4129  1.54  0.1237  \n",
       "cancergroup=T-cell malignancies                3.3240   3.1404  1.06  0.2898  \n",
       "meddist_n * cancergroup=Lymphoma            -251.0936 742.1883 -0.34  0.7351  \n",
       "meddist_n * cancergroup=Solid tumors          -2.3646   1.7060 -1.39  0.1657  \n",
       "meddist_n * cancergroup=T-cell malignancies   -2.1043   2.6831 -0.78  0.4329  \n"
      ]
     },
     "metadata": {},
     "output_type": "display_data"
    }
   ],
   "source": [
    "rms::lrm(Relapse ~ meddist_n*cancergroup, data = mypatients)"
   ]
  },
  {
   "cell_type": "code",
   "execution_count": null,
   "metadata": {
    "vscode": {
     "languageId": "r"
    }
   },
   "outputs": [],
   "source": []
  },
  {
   "cell_type": "markdown",
   "metadata": {},
   "source": [
    "# Impute with miss Forest"
   ]
  },
  {
   "cell_type": "code",
   "execution_count": 39,
   "metadata": {
    "vscode": {
     "languageId": "r"
    }
   },
   "outputs": [],
   "source": [
    "pacman::p_load(missForest)"
   ]
  },
  {
   "cell_type": "code",
   "execution_count": 54,
   "metadata": {
    "vscode": {
     "languageId": "r"
    }
   },
   "outputs": [],
   "source": [
    "missforest_mymat <- missForest(mymat, maxiter = 100, ntree = 10)"
   ]
  },
  {
   "cell_type": "code",
   "execution_count": 55,
   "metadata": {
    "vscode": {
     "languageId": "r"
    }
   },
   "outputs": [],
   "source": [
    "p1 <- fviz_pca_ind(prcomp(missforest_mymat$ximp, center = TRUE, scale. = TRUE),\n",
    "     habillage = as.factor(pbmc_hla_v_j_gliph$cancergroup),\n",
    "    # remove labels\n",
    "    label = \"none\",\n",
    "    repel = F, addEllipses = FALSE, mean.point = FALSE\n",
    ")"
   ]
  },
  {
   "cell_type": "code",
   "execution_count": 56,
   "metadata": {
    "vscode": {
     "languageId": "r"
    }
   },
   "outputs": [
    {
     "data": {
      "image/png": "[encoded data removed]",
      "text/plain": [
       "plot without title"
      ]
     },
     "metadata": {
      "image/png": {
       "height": 420,
       "width": 420
      }
     },
     "output_type": "display_data"
    }
   ],
   "source": [
    "p1"
   ]
  },
  {
   "cell_type": "code",
   "execution_count": null,
   "metadata": {
    "vscode": {
     "languageId": "r"
    }
   },
   "outputs": [],
   "source": []
  },
  {
   "cell_type": "code",
   "execution_count": 212,
   "metadata": {
    "vscode": {
     "languageId": "r"
    }
   },
   "outputs": [
    {
     "data": {
      "text/html": [
       "<dl>\n",
       "\t<dt>$ximp</dt>\n",
       "\t\t<dd><table class=\"dataframe\">\n",
       "<caption>A data.frame: 334 x 10</caption>\n",
       "<thead>\n",
       "\t<tr><th></th><th scope=col>ATC</th><th scope=col>Naïve_p</th><th scope=col>SCM_p</th><th scope=col>CM_p</th><th scope=col>EM_p</th><th scope=col>TE_p</th><th scope=col>PD1_p</th><th scope=col>LAG3_p</th><th scope=col>TIM3_p</th><th scope=col>observed_Shannon</th></tr>\n",
       "\t<tr><th></th><th scope=col>&lt;dbl&gt;</th><th scope=col>&lt;dbl&gt;</th><th scope=col>&lt;dbl&gt;</th><th scope=col>&lt;dbl&gt;</th><th scope=col>&lt;dbl&gt;</th><th scope=col>&lt;dbl&gt;</th><th scope=col>&lt;dbl&gt;</th><th scope=col>&lt;dbl&gt;</th><th scope=col>&lt;dbl&gt;</th><th scope=col>&lt;dbl&gt;</th></tr>\n",
       "</thead>\n",
       "<tbody>\n",
       "\t<tr><th scope=row>CHP_319_05</th><td>   0.00</td><td>17.3661796</td><td>7.6547855</td><td>16.8810951</td><td>3.298219</td><td>53.967138</td><td>19.369118</td><td> 8.630303</td><td>20.081948</td><td> 11.878</td></tr>\n",
       "\t<tr><th scope=row>CHP_323_03</th><td> 786.24</td><td>22.2747042</td><td>7.1631124</td><td>12.4063379</td><td>5.004511</td><td>56.796537</td><td>17.124634</td><td> 8.753034</td><td>16.618011</td><td> 37.722</td></tr>\n",
       "\t<tr><th scope=row>CHP_323_05</th><td> 979.50</td><td>25.6269097</td><td>6.5535731</td><td>11.1224337</td><td>3.608383</td><td>51.741454</td><td>13.739595</td><td>10.040031</td><td>12.593740</td><td> 81.753</td></tr>\n",
       "\t<tr><th scope=row>CHP_324_05</th><td>   0.00</td><td>18.6771271</td><td>5.3118633</td><td>14.1914251</td><td>2.839556</td><td>60.031333</td><td>18.197065</td><td> 7.238974</td><td>18.248399</td><td>129.919</td></tr>\n",
       "\t<tr><th scope=row>CHP_328_04</th><td> 130.82</td><td>26.2879376</td><td>6.5291140</td><td>13.2179834</td><td>2.766223</td><td>42.387415</td><td>14.907751</td><td> 6.151939</td><td>14.030911</td><td>223.747</td></tr>\n",
       "\t<tr><th scope=row>CHP_328_05</th><td>  91.16</td><td>20.3733852</td><td>6.7214852</td><td>13.2894774</td><td>2.949333</td><td>58.917227</td><td>18.699718</td><td> 7.407993</td><td>18.704113</td><td> 87.321</td></tr>\n",
       "\t<tr><th scope=row>CHP_330_05</th><td>   0.00</td><td>17.7491621</td><td>6.8166620</td><td>14.2282850</td><td>3.268630</td><td>60.098011</td><td>18.753667</td><td> 7.526674</td><td>18.627509</td><td> 91.054</td></tr>\n",
       "\t<tr><th scope=row>CHP_331_04</th><td>   0.00</td><td>17.5147564</td><td>6.4345470</td><td>16.2908453</td><td>3.487852</td><td>56.746543</td><td>19.446455</td><td> 8.502042</td><td>20.123658</td><td> 26.745</td></tr>\n",
       "\t<tr><th scope=row>CHP_331_05</th><td>   0.00</td><td>17.4639893</td><td>6.7599811</td><td>14.3070883</td><td>3.290490</td><td>60.760647</td><td>18.487891</td><td> 7.350559</td><td>18.273499</td><td>103.194</td></tr>\n",
       "\t<tr><th scope=row>CHP_335_03</th><td>   0.00</td><td>19.1507844</td><td>5.3470699</td><td>14.2841868</td><td>2.797679</td><td>58.635645</td><td>18.235771</td><td> 7.082941</td><td>18.272188</td><td>142.849</td></tr>\n",
       "\t<tr><th scope=row>CHP_338_03</th><td> 329.29</td><td>29.6374091</td><td>6.5321893</td><td>13.2385985</td><td>7.368120</td><td>35.922914</td><td>14.519962</td><td> 7.024517</td><td>14.224290</td><td>371.391</td></tr>\n",
       "\t<tr><th scope=row>CHP_338_04</th><td>   0.00</td><td>17.7512288</td><td>7.0033923</td><td>14.1658508</td><td>3.095994</td><td>59.726234</td><td>18.664426</td><td> 7.185654</td><td>18.232288</td><td>109.087</td></tr>\n",
       "\t<tr><th scope=row>CHP_338_05</th><td>   0.00</td><td>24.8653363</td><td>6.1892031</td><td>14.3699625</td><td>2.716365</td><td>47.341026</td><td>17.530613</td><td> 6.158027</td><td>17.920995</td><td>253.452</td></tr>\n",
       "\t<tr><th scope=row>CHP_339_03</th><td> 376.20</td><td>19.0731667</td><td>8.6700955</td><td>15.1279704</td><td>4.890987</td><td>54.197115</td><td>18.546382</td><td> 7.816611</td><td>18.546920</td><td> 16.955</td></tr>\n",
       "\t<tr><th scope=row>CHP_339_05</th><td> 421.94</td><td>25.7859824</td><td>6.9043549</td><td>12.4904910</td><td>4.082379</td><td>49.588293</td><td>14.251146</td><td> 8.334630</td><td>13.375422</td><td>150.728</td></tr>\n",
       "\t<tr><th scope=row>CHP_340_03</th><td>   0.00</td><td>18.4932258</td><td>6.3822686</td><td>15.3348449</td><td>3.783532</td><td>57.782893</td><td>18.998255</td><td> 7.056021</td><td>19.177298</td><td> 69.520</td></tr>\n",
       "\t<tr><th scope=row>CHP_340_04</th><td>   0.00</td><td>19.5288562</td><td>5.2449793</td><td>14.3371428</td><td>2.770937</td><td>58.841893</td><td>18.178766</td><td> 6.856046</td><td>17.833489</td><td>148.741</td></tr>\n",
       "\t<tr><th scope=row>CHP_340_05</th><td>   0.00</td><td>26.8857907</td><td>6.2546417</td><td>13.1025475</td><td>6.191903</td><td>41.340429</td><td>17.279503</td><td> 6.421011</td><td>17.418265</td><td>349.449</td></tr>\n",
       "\t<tr><th scope=row>CHP_342_04</th><td>   0.00</td><td>18.1761564</td><td>6.5817903</td><td>15.9294721</td><td>3.417274</td><td>56.595524</td><td>19.304068</td><td> 8.297353</td><td>19.909833</td><td> 30.207</td></tr>\n",
       "\t<tr><th scope=row>CHP_343_02</th><td> 459.04</td><td> 0.0000000</td><td>6.6079295</td><td>23.4361233</td><td>1.409692</td><td>68.546256</td><td>12.158590</td><td>33.127753</td><td>12.158590</td><td> 21.422</td></tr>\n",
       "\t<tr><th scope=row>CHP_343_03</th><td> 370.30</td><td> 0.2424242</td><td>3.9393939</td><td>82.0000000</td><td>0.969697</td><td>12.848485</td><td>36.060606</td><td> 8.000000</td><td>36.060606</td><td> 26.992</td></tr>\n",
       "\t<tr><th scope=row>CHP_343_04</th><td> 536.63</td><td> 1.5313936</td><td>1.3016845</td><td>46.5543645</td><td>5.589587</td><td>45.022971</td><td>45.022971</td><td>16.768760</td><td>45.022971</td><td> 28.222</td></tr>\n",
       "\t<tr><th scope=row>CHP_343_05</th><td> 371.20</td><td> 1.2315271</td><td>0.7389163</td><td>27.0525452</td><td>6.239737</td><td>64.737274</td><td>20.402299</td><td>26.929392</td><td>20.402299</td><td> 26.774</td></tr>\n",
       "\t<tr><th scope=row>CHP_344_02</th><td> 829.08</td><td>20.2746918</td><td>9.1759535</td><td>13.0397261</td><td>5.231946</td><td>56.840850</td><td>16.621768</td><td> 8.554581</td><td>14.893008</td><td> 12.587</td></tr>\n",
       "\t<tr><th scope=row>CHP_344_04</th><td>   0.00</td><td>17.7491621</td><td>6.8166620</td><td>14.2282850</td><td>3.268630</td><td>60.098011</td><td>18.753667</td><td> 7.526674</td><td>18.627509</td><td> 91.862</td></tr>\n",
       "\t<tr><th scope=row>CHP_344_05</th><td> 134.32</td><td>20.9748207</td><td>7.0880142</td><td>12.7428531</td><td>3.122054</td><td>58.471863</td><td>19.272862</td><td> 8.225881</td><td>19.091024</td><td> 94.598</td></tr>\n",
       "\t<tr><th scope=row>CHP_345_02</th><td>1598.08</td><td>26.4350347</td><td>6.7687513</td><td>11.0028753</td><td>4.001582</td><td>45.137752</td><td>13.629694</td><td> 8.504671</td><td>12.430460</td><td> 91.608</td></tr>\n",
       "\t<tr><th scope=row>CHP_345_04</th><td>   0.00</td><td>22.1349952</td><td>5.8492285</td><td>14.2294755</td><td>2.449143</td><td>57.965279</td><td>18.024628</td><td> 6.921484</td><td>18.087488</td><td>160.622</td></tr>\n",
       "\t<tr><th scope=row>CHP_345_05</th><td>   0.00</td><td>17.8561683</td><td>6.5963758</td><td>14.1463069</td><td>2.626972</td><td>60.943996</td><td>18.572668</td><td> 7.369449</td><td>18.140991</td><td>113.075</td></tr>\n",
       "\t<tr><th scope=row>CHP_346_01</th><td> 331.70</td><td>94.6624804</td><td>0.1569859</td><td> 0.7849294</td><td>0.000000</td><td> 4.395604</td><td> 5.180534</td><td> 3.767661</td><td> 5.180534</td><td> 29.129</td></tr>\n",
       "\t<tr><th scope=row>...</th><td>...</td><td>...</td><td>...</td><td>...</td><td>...</td><td>...</td><td>...</td><td>...</td><td>...</td><td>...</td></tr>\n",
       "\t<tr><th scope=row>CHP_419_01</th><td> 465.510</td><td>24.414959</td><td> 7.0508177</td><td>12.1769277</td><td> 4.16842894</td><td>52.994900</td><td>13.9071106</td><td> 8.2481729</td><td>13.2051391</td><td>126.31267</td></tr>\n",
       "\t<tr><th scope=row>CHP_419_03</th><td>1690.200</td><td>46.485261</td><td> 5.4421769</td><td>39.2290249</td><td> 0.90702948</td><td> 7.936508</td><td>42.6303855</td><td>18.1405896</td><td>42.6303855</td><td>248.74518</td></tr>\n",
       "\t<tr><th scope=row>CHP_419_04</th><td>   0.000</td><td> 1.966955</td><td> 5.0354052</td><td> 4.1699449</td><td> 0.00000000</td><td>88.827695</td><td> 5.0354052</td><td>48.8591660</td><td> 5.0354052</td><td>171.28595</td></tr>\n",
       "\t<tr><th scope=row>CHP_420_02</th><td> 247.500</td><td> 5.886970</td><td> 1.2558870</td><td> 2.8649922</td><td> 1.13814757</td><td>88.854003</td><td> 3.1397174</td><td> 2.9434851</td><td> 3.1397174</td><td>114.95530</td></tr>\n",
       "\t<tr><th scope=row>CHP_420_03</th><td>   0.000</td><td> 2.840000</td><td> 0.8000000</td><td> 4.5200000</td><td> 2.20000000</td><td>89.640000</td><td> 5.0400000</td><td> 5.7600000</td><td> 5.0400000</td><td>121.82272</td></tr>\n",
       "\t<tr><th scope=row>CHP_421_01</th><td>   0.000</td><td>22.268212</td><td> 2.4834437</td><td> 0.9933775</td><td> 2.06953642</td><td>72.185430</td><td> 2.6490066</td><td> 2.7731788</td><td> 2.6490066</td><td>183.09562</td></tr>\n",
       "\t<tr><th scope=row>CHP_421_02</th><td>   0.000</td><td> 2.218115</td><td> 0.7393715</td><td> 3.0314233</td><td> 3.25323475</td><td>90.757856</td><td> 4.3622921</td><td> 3.6968577</td><td> 4.3622921</td><td>108.40489</td></tr>\n",
       "\t<tr><th scope=row>CHP_421_03</th><td> 262.200</td><td> 7.114309</td><td> 1.2390088</td><td> 3.0375699</td><td> 0.15987210</td><td>88.449241</td><td> 4.1167066</td><td> 5.3956835</td><td> 4.1167066</td><td> 98.57994</td></tr>\n",
       "\t<tr><th scope=row>CHP_423_01</th><td> 839.960</td><td>25.709546</td><td> 6.5877280</td><td>11.1688807</td><td> 4.12643963</td><td>52.175726</td><td>14.0430969</td><td> 8.3062040</td><td>12.9820031</td><td>105.87796</td></tr>\n",
       "\t<tr><th scope=row>CHP_423_02</th><td>   0.000</td><td>38.080960</td><td> 2.4362819</td><td> 3.0359820</td><td> 1.53673163</td><td>54.910045</td><td> 2.6986507</td><td> 4.1604198</td><td> 2.6986507</td><td>152.72526</td></tr>\n",
       "\t<tr><th scope=row>CHP_423_03</th><td>   0.000</td><td>47.698745</td><td>16.1320316</td><td> 9.9953510</td><td> 0.04649000</td><td>26.127383</td><td> 9.2980009</td><td> 3.7192004</td><td> 9.2980009</td><td>236.83652</td></tr>\n",
       "\t<tr><th scope=row>CHP_424_01</th><td> 413.703</td><td>13.380282</td><td> 2.2300469</td><td> 0.9389671</td><td>10.79812207</td><td>72.652582</td><td> 1.2910798</td><td>13.7323944</td><td> 1.2910798</td><td>220.53086</td></tr>\n",
       "\t<tr><th scope=row>CHP_424_02</th><td> 803.640</td><td>10.973570</td><td> 1.7397123</td><td> 6.6577451</td><td> 0.16728003</td><td>80.461693</td><td> 6.7915691</td><td>11.8768819</td><td> 6.7915691</td><td>117.53741</td></tr>\n",
       "\t<tr><th scope=row>CHP_425_01</th><td>2366.700</td><td>29.549832</td><td> 6.9896173</td><td>12.5471314</td><td> 3.97178015</td><td>41.284428</td><td>13.1893935</td><td> 7.1288927</td><td>12.1460861</td><td>251.06299</td></tr>\n",
       "\t<tr><th scope=row>CHP_425_03</th><td>   0.000</td><td>40.269587</td><td> 7.1609099</td><td>13.9848357</td><td>11.79443976</td><td>26.790227</td><td>18.5762426</td><td> 2.1482730</td><td>18.5762426</td><td>438.62744</td></tr>\n",
       "\t<tr><th scope=row>CHP_425_04</th><td>   0.000</td><td>40.567376</td><td> 3.5744681</td><td> 5.2482270</td><td> 2.86524823</td><td>47.744681</td><td> 8.8510638</td><td> 7.6595745</td><td> 8.8510638</td><td>157.04194</td></tr>\n",
       "\t<tr><th scope=row>CHP_426_01</th><td> 148.920</td><td>23.170732</td><td> 2.1026072</td><td> 9.4196804</td><td> 0.33641716</td><td>64.970563</td><td> 9.5458368</td><td> 7.0227082</td><td> 9.5458368</td><td>151.42995</td></tr>\n",
       "\t<tr><th scope=row>CHP_426_02</th><td>   0.000</td><td>24.085851</td><td> 5.7233704</td><td> 3.0206677</td><td> 0.07949126</td><td>67.090620</td><td> 5.4054054</td><td> 2.7821940</td><td> 5.4054054</td><td>173.77785</td></tr>\n",
       "\t<tr><th scope=row>CHP_426_03</th><td>   0.000</td><td> 7.540395</td><td>24.5960503</td><td> 2.8725314</td><td> 1.79533214</td><td>63.195691</td><td>53.8599641</td><td> 5.9245961</td><td>53.8599641</td><td> 93.27634</td></tr>\n",
       "\t<tr><th scope=row>CHP_427_01</th><td>1617.110</td><td>34.768740</td><td> 3.2695375</td><td>13.1578947</td><td> 0.15948963</td><td>48.644338</td><td>12.5996810</td><td>16.4274322</td><td>12.5996810</td><td>143.89766</td></tr>\n",
       "\t<tr><th scope=row>CHP_428_01</th><td> 823.680</td><td>37.829766</td><td> 1.3937282</td><td> 3.0363365</td><td>19.86062718</td><td>37.879542</td><td> 2.3892484</td><td> 5.0771528</td><td> 2.3892484</td><td>401.47191</td></tr>\n",
       "\t<tr><th scope=row>CHP_428_02</th><td>   0.000</td><td>35.474391</td><td>31.9059614</td><td>16.5407221</td><td> 0.00000000</td><td>16.078925</td><td>44.9202351</td><td> 1.5952981</td><td>44.9202351</td><td>217.88625</td></tr>\n",
       "\t<tr><th scope=row>CHP_429_01</th><td> 924.000</td><td>73.806796</td><td> 0.7254677</td><td> 0.9545628</td><td> 0.15273005</td><td>24.360443</td><td> 0.7636502</td><td> 0.5345552</td><td> 0.7636502</td><td>262.85500</td></tr>\n",
       "\t<tr><th scope=row>CHP_429_02</th><td>   0.000</td><td>25.844156</td><td> 1.2987013</td><td>11.8614719</td><td> 1.42857143</td><td>59.567100</td><td>13.8095238</td><td>17.8787879</td><td>13.8095238</td><td>121.61047</td></tr>\n",
       "\t<tr><th scope=row>CHP_430_01</th><td>  43.000</td><td> 3.321799</td><td>10.1730104</td><td>13.9100346</td><td> 0.00000000</td><td>72.595156</td><td>17.9238754</td><td>11.7647059</td><td>17.9238754</td><td> 91.90172</td></tr>\n",
       "\t<tr><th scope=row>CHP_430_02</th><td>   0.000</td><td> 5.997501</td><td> 0.2915452</td><td>14.0358184</td><td> 0.54144107</td><td>79.133694</td><td> 9.5793419</td><td> 1.7492711</td><td> 9.5793419</td><td>164.06985</td></tr>\n",
       "\t<tr><th scope=row>CHP_431_01</th><td>   0.000</td><td>51.121795</td><td>19.9519231</td><td> 9.9759615</td><td> 0.04006410</td><td>18.910256</td><td>15.2644231</td><td> 6.9711538</td><td>15.2644231</td><td>372.47999</td></tr>\n",
       "\t<tr><th scope=row>CHP_432_01</th><td>   0.000</td><td>45.509822</td><td> 5.3320861</td><td>14.8737138</td><td> 0.70159027</td><td>33.582788</td><td>15.5753040</td><td> 4.0692236</td><td>15.5753040</td><td>315.91532</td></tr>\n",
       "\t<tr><th scope=row>CHP_433_01</th><td>   0.000</td><td> 5.492558</td><td>11.0205528</td><td> 9.2841956</td><td> 0.95676825</td><td>73.245925</td><td>13.5719348</td><td>13.6782424</td><td>13.5719348</td><td> 83.50876</td></tr>\n",
       "\t<tr><th scope=row>CHP_434_01</th><td>   0.000</td><td>16.962103</td><td> 4.6149144</td><td>17.0843521</td><td> 4.43154034</td><td>56.907090</td><td>19.1320293</td><td> 1.4975550</td><td>19.1320293</td><td> 86.06380</td></tr>\n",
       "</tbody>\n",
       "</table>\n",
       "</dd>\n",
       "\t<dt>$OOBerror</dt>\n",
       "\t\t<dd><strong>NRMSE:</strong> 0.740975581061694</dd>\n",
       "</dl>\n"
      ],
      "text/latex": [
       "\\begin{description}\n",
       "\\item[\\$ximp] A data.frame: 334 x 10\n",
       "\\begin{tabular}{r|llllllllll}\n",
       "  & ATC & Naïve\\_p & SCM\\_p & CM\\_p & EM\\_p & TE\\_p & PD1\\_p & LAG3\\_p & TIM3\\_p & observed\\_Shannon\\\\\n",
       "  & <dbl> & <dbl> & <dbl> & <dbl> & <dbl> & <dbl> & <dbl> & <dbl> & <dbl> & <dbl>\\\\\n",
       "\\hline\n",
       "\tCHP\\_319\\_05 &    0.00 & 17.3661796 & 7.6547855 & 16.8810951 & 3.298219 & 53.967138 & 19.369118 &  8.630303 & 20.081948 &  11.878\\\\\n",
       "\tCHP\\_323\\_03 &  786.24 & 22.2747042 & 7.1631124 & 12.4063379 & 5.004511 & 56.796537 & 17.124634 &  8.753034 & 16.618011 &  37.722\\\\\n",
       "\tCHP\\_323\\_05 &  979.50 & 25.6269097 & 6.5535731 & 11.1224337 & 3.608383 & 51.741454 & 13.739595 & 10.040031 & 12.593740 &  81.753\\\\\n",
       "\tCHP\\_324\\_05 &    0.00 & 18.6771271 & 5.3118633 & 14.1914251 & 2.839556 & 60.031333 & 18.197065 &  7.238974 & 18.248399 & 129.919\\\\\n",
       "\tCHP\\_328\\_04 &  130.82 & 26.2879376 & 6.5291140 & 13.2179834 & 2.766223 & 42.387415 & 14.907751 &  6.151939 & 14.030911 & 223.747\\\\\n",
       "\tCHP\\_328\\_05 &   91.16 & 20.3733852 & 6.7214852 & 13.2894774 & 2.949333 & 58.917227 & 18.699718 &  7.407993 & 18.704113 &  87.321\\\\\n",
       "\tCHP\\_330\\_05 &    0.00 & 17.7491621 & 6.8166620 & 14.2282850 & 3.268630 & 60.098011 & 18.753667 &  7.526674 & 18.627509 &  91.054\\\\\n",
       "\tCHP\\_331\\_04 &    0.00 & 17.5147564 & 6.4345470 & 16.2908453 & 3.487852 & 56.746543 & 19.446455 &  8.502042 & 20.123658 &  26.745\\\\\n",
       "\tCHP\\_331\\_05 &    0.00 & 17.4639893 & 6.7599811 & 14.3070883 & 3.290490 & 60.760647 & 18.487891 &  7.350559 & 18.273499 & 103.194\\\\\n",
       "\tCHP\\_335\\_03 &    0.00 & 19.1507844 & 5.3470699 & 14.2841868 & 2.797679 & 58.635645 & 18.235771 &  7.082941 & 18.272188 & 142.849\\\\\n",
       "\tCHP\\_338\\_03 &  329.29 & 29.6374091 & 6.5321893 & 13.2385985 & 7.368120 & 35.922914 & 14.519962 &  7.024517 & 14.224290 & 371.391\\\\\n",
       "\tCHP\\_338\\_04 &    0.00 & 17.7512288 & 7.0033923 & 14.1658508 & 3.095994 & 59.726234 & 18.664426 &  7.185654 & 18.232288 & 109.087\\\\\n",
       "\tCHP\\_338\\_05 &    0.00 & 24.8653363 & 6.1892031 & 14.3699625 & 2.716365 & 47.341026 & 17.530613 &  6.158027 & 17.920995 & 253.452\\\\\n",
       "\tCHP\\_339\\_03 &  376.20 & 19.0731667 & 8.6700955 & 15.1279704 & 4.890987 & 54.197115 & 18.546382 &  7.816611 & 18.546920 &  16.955\\\\\n",
       "\tCHP\\_339\\_05 &  421.94 & 25.7859824 & 6.9043549 & 12.4904910 & 4.082379 & 49.588293 & 14.251146 &  8.334630 & 13.375422 & 150.728\\\\\n",
       "\tCHP\\_340\\_03 &    0.00 & 18.4932258 & 6.3822686 & 15.3348449 & 3.783532 & 57.782893 & 18.998255 &  7.056021 & 19.177298 &  69.520\\\\\n",
       "\tCHP\\_340\\_04 &    0.00 & 19.5288562 & 5.2449793 & 14.3371428 & 2.770937 & 58.841893 & 18.178766 &  6.856046 & 17.833489 & 148.741\\\\\n",
       "\tCHP\\_340\\_05 &    0.00 & 26.8857907 & 6.2546417 & 13.1025475 & 6.191903 & 41.340429 & 17.279503 &  6.421011 & 17.418265 & 349.449\\\\\n",
       "\tCHP\\_342\\_04 &    0.00 & 18.1761564 & 6.5817903 & 15.9294721 & 3.417274 & 56.595524 & 19.304068 &  8.297353 & 19.909833 &  30.207\\\\\n",
       "\tCHP\\_343\\_02 &  459.04 &  0.0000000 & 6.6079295 & 23.4361233 & 1.409692 & 68.546256 & 12.158590 & 33.127753 & 12.158590 &  21.422\\\\\n",
       "\tCHP\\_343\\_03 &  370.30 &  0.2424242 & 3.9393939 & 82.0000000 & 0.969697 & 12.848485 & 36.060606 &  8.000000 & 36.060606 &  26.992\\\\\n",
       "\tCHP\\_343\\_04 &  536.63 &  1.5313936 & 1.3016845 & 46.5543645 & 5.589587 & 45.022971 & 45.022971 & 16.768760 & 45.022971 &  28.222\\\\\n",
       "\tCHP\\_343\\_05 &  371.20 &  1.2315271 & 0.7389163 & 27.0525452 & 6.239737 & 64.737274 & 20.402299 & 26.929392 & 20.402299 &  26.774\\\\\n",
       "\tCHP\\_344\\_02 &  829.08 & 20.2746918 & 9.1759535 & 13.0397261 & 5.231946 & 56.840850 & 16.621768 &  8.554581 & 14.893008 &  12.587\\\\\n",
       "\tCHP\\_344\\_04 &    0.00 & 17.7491621 & 6.8166620 & 14.2282850 & 3.268630 & 60.098011 & 18.753667 &  7.526674 & 18.627509 &  91.862\\\\\n",
       "\tCHP\\_344\\_05 &  134.32 & 20.9748207 & 7.0880142 & 12.7428531 & 3.122054 & 58.471863 & 19.272862 &  8.225881 & 19.091024 &  94.598\\\\\n",
       "\tCHP\\_345\\_02 & 1598.08 & 26.4350347 & 6.7687513 & 11.0028753 & 4.001582 & 45.137752 & 13.629694 &  8.504671 & 12.430460 &  91.608\\\\\n",
       "\tCHP\\_345\\_04 &    0.00 & 22.1349952 & 5.8492285 & 14.2294755 & 2.449143 & 57.965279 & 18.024628 &  6.921484 & 18.087488 & 160.622\\\\\n",
       "\tCHP\\_345\\_05 &    0.00 & 17.8561683 & 6.5963758 & 14.1463069 & 2.626972 & 60.943996 & 18.572668 &  7.369449 & 18.140991 & 113.075\\\\\n",
       "\tCHP\\_346\\_01 &  331.70 & 94.6624804 & 0.1569859 &  0.7849294 & 0.000000 &  4.395604 &  5.180534 &  3.767661 &  5.180534 &  29.129\\\\\n",
       "\t... & ... & ... & ... & ... & ... & ... & ... & ... & ... & ...\\\\\n",
       "\tCHP\\_419\\_01 &  465.510 & 24.414959 &  7.0508177 & 12.1769277 &  4.16842894 & 52.994900 & 13.9071106 &  8.2481729 & 13.2051391 & 126.31267\\\\\n",
       "\tCHP\\_419\\_03 & 1690.200 & 46.485261 &  5.4421769 & 39.2290249 &  0.90702948 &  7.936508 & 42.6303855 & 18.1405896 & 42.6303855 & 248.74518\\\\\n",
       "\tCHP\\_419\\_04 &    0.000 &  1.966955 &  5.0354052 &  4.1699449 &  0.00000000 & 88.827695 &  5.0354052 & 48.8591660 &  5.0354052 & 171.28595\\\\\n",
       "\tCHP\\_420\\_02 &  247.500 &  5.886970 &  1.2558870 &  2.8649922 &  1.13814757 & 88.854003 &  3.1397174 &  2.9434851 &  3.1397174 & 114.95530\\\\\n",
       "\tCHP\\_420\\_03 &    0.000 &  2.840000 &  0.8000000 &  4.5200000 &  2.20000000 & 89.640000 &  5.0400000 &  5.7600000 &  5.0400000 & 121.82272\\\\\n",
       "\tCHP\\_421\\_01 &    0.000 & 22.268212 &  2.4834437 &  0.9933775 &  2.06953642 & 72.185430 &  2.6490066 &  2.7731788 &  2.6490066 & 183.09562\\\\\n",
       "\tCHP\\_421\\_02 &    0.000 &  2.218115 &  0.7393715 &  3.0314233 &  3.25323475 & 90.757856 &  4.3622921 &  3.6968577 &  4.3622921 & 108.40489\\\\\n",
       "\tCHP\\_421\\_03 &  262.200 &  7.114309 &  1.2390088 &  3.0375699 &  0.15987210 & 88.449241 &  4.1167066 &  5.3956835 &  4.1167066 &  98.57994\\\\\n",
       "\tCHP\\_423\\_01 &  839.960 & 25.709546 &  6.5877280 & 11.1688807 &  4.12643963 & 52.175726 & 14.0430969 &  8.3062040 & 12.9820031 & 105.87796\\\\\n",
       "\tCHP\\_423\\_02 &    0.000 & 38.080960 &  2.4362819 &  3.0359820 &  1.53673163 & 54.910045 &  2.6986507 &  4.1604198 &  2.6986507 & 152.72526\\\\\n",
       "\tCHP\\_423\\_03 &    0.000 & 47.698745 & 16.1320316 &  9.9953510 &  0.04649000 & 26.127383 &  9.2980009 &  3.7192004 &  9.2980009 & 236.83652\\\\\n",
       "\tCHP\\_424\\_01 &  413.703 & 13.380282 &  2.2300469 &  0.9389671 & 10.79812207 & 72.652582 &  1.2910798 & 13.7323944 &  1.2910798 & 220.53086\\\\\n",
       "\tCHP\\_424\\_02 &  803.640 & 10.973570 &  1.7397123 &  6.6577451 &  0.16728003 & 80.461693 &  6.7915691 & 11.8768819 &  6.7915691 & 117.53741\\\\\n",
       "\tCHP\\_425\\_01 & 2366.700 & 29.549832 &  6.9896173 & 12.5471314 &  3.97178015 & 41.284428 & 13.1893935 &  7.1288927 & 12.1460861 & 251.06299\\\\\n",
       "\tCHP\\_425\\_03 &    0.000 & 40.269587 &  7.1609099 & 13.9848357 & 11.79443976 & 26.790227 & 18.5762426 &  2.1482730 & 18.5762426 & 438.62744\\\\\n",
       "\tCHP\\_425\\_04 &    0.000 & 40.567376 &  3.5744681 &  5.2482270 &  2.86524823 & 47.744681 &  8.8510638 &  7.6595745 &  8.8510638 & 157.04194\\\\\n",
       "\tCHP\\_426\\_01 &  148.920 & 23.170732 &  2.1026072 &  9.4196804 &  0.33641716 & 64.970563 &  9.5458368 &  7.0227082 &  9.5458368 & 151.42995\\\\\n",
       "\tCHP\\_426\\_02 &    0.000 & 24.085851 &  5.7233704 &  3.0206677 &  0.07949126 & 67.090620 &  5.4054054 &  2.7821940 &  5.4054054 & 173.77785\\\\\n",
       "\tCHP\\_426\\_03 &    0.000 &  7.540395 & 24.5960503 &  2.8725314 &  1.79533214 & 63.195691 & 53.8599641 &  5.9245961 & 53.8599641 &  93.27634\\\\\n",
       "\tCHP\\_427\\_01 & 1617.110 & 34.768740 &  3.2695375 & 13.1578947 &  0.15948963 & 48.644338 & 12.5996810 & 16.4274322 & 12.5996810 & 143.89766\\\\\n",
       "\tCHP\\_428\\_01 &  823.680 & 37.829766 &  1.3937282 &  3.0363365 & 19.86062718 & 37.879542 &  2.3892484 &  5.0771528 &  2.3892484 & 401.47191\\\\\n",
       "\tCHP\\_428\\_02 &    0.000 & 35.474391 & 31.9059614 & 16.5407221 &  0.00000000 & 16.078925 & 44.9202351 &  1.5952981 & 44.9202351 & 217.88625\\\\\n",
       "\tCHP\\_429\\_01 &  924.000 & 73.806796 &  0.7254677 &  0.9545628 &  0.15273005 & 24.360443 &  0.7636502 &  0.5345552 &  0.7636502 & 262.85500\\\\\n",
       "\tCHP\\_429\\_02 &    0.000 & 25.844156 &  1.2987013 & 11.8614719 &  1.42857143 & 59.567100 & 13.8095238 & 17.8787879 & 13.8095238 & 121.61047\\\\\n",
       "\tCHP\\_430\\_01 &   43.000 &  3.321799 & 10.1730104 & 13.9100346 &  0.00000000 & 72.595156 & 17.9238754 & 11.7647059 & 17.9238754 &  91.90172\\\\\n",
       "\tCHP\\_430\\_02 &    0.000 &  5.997501 &  0.2915452 & 14.0358184 &  0.54144107 & 79.133694 &  9.5793419 &  1.7492711 &  9.5793419 & 164.06985\\\\\n",
       "\tCHP\\_431\\_01 &    0.000 & 51.121795 & 19.9519231 &  9.9759615 &  0.04006410 & 18.910256 & 15.2644231 &  6.9711538 & 15.2644231 & 372.47999\\\\\n",
       "\tCHP\\_432\\_01 &    0.000 & 45.509822 &  5.3320861 & 14.8737138 &  0.70159027 & 33.582788 & 15.5753040 &  4.0692236 & 15.5753040 & 315.91532\\\\\n",
       "\tCHP\\_433\\_01 &    0.000 &  5.492558 & 11.0205528 &  9.2841956 &  0.95676825 & 73.245925 & 13.5719348 & 13.6782424 & 13.5719348 &  83.50876\\\\\n",
       "\tCHP\\_434\\_01 &    0.000 & 16.962103 &  4.6149144 & 17.0843521 &  4.43154034 & 56.907090 & 19.1320293 &  1.4975550 & 19.1320293 &  86.06380\\\\\n",
       "\\end{tabular}\n",
       "\n",
       "\\item[\\$OOBerror] \\textbf{NRMSE:} 0.740975581061694\n",
       "\\end{description}\n"
      ],
      "text/markdown": [
       "$ximp\n",
       ":   \n",
       "A data.frame: 334 x 10\n",
       "\n",
       "| <!--/--> | ATC &lt;dbl&gt; | Naïve_p &lt;dbl&gt; | SCM_p &lt;dbl&gt; | CM_p &lt;dbl&gt; | EM_p &lt;dbl&gt; | TE_p &lt;dbl&gt; | PD1_p &lt;dbl&gt; | LAG3_p &lt;dbl&gt; | TIM3_p &lt;dbl&gt; | observed_Shannon &lt;dbl&gt; |\n",
       "|---|---|---|---|---|---|---|---|---|---|---|\n",
       "| CHP_319_05 |    0.00 | 17.3661796 | 7.6547855 | 16.8810951 | 3.298219 | 53.967138 | 19.369118 |  8.630303 | 20.081948 |  11.878 |\n",
       "| CHP_323_03 |  786.24 | 22.2747042 | 7.1631124 | 12.4063379 | 5.004511 | 56.796537 | 17.124634 |  8.753034 | 16.618011 |  37.722 |\n",
       "| CHP_323_05 |  979.50 | 25.6269097 | 6.5535731 | 11.1224337 | 3.608383 | 51.741454 | 13.739595 | 10.040031 | 12.593740 |  81.753 |\n",
       "| CHP_324_05 |    0.00 | 18.6771271 | 5.3118633 | 14.1914251 | 2.839556 | 60.031333 | 18.197065 |  7.238974 | 18.248399 | 129.919 |\n",
       "| CHP_328_04 |  130.82 | 26.2879376 | 6.5291140 | 13.2179834 | 2.766223 | 42.387415 | 14.907751 |  6.151939 | 14.030911 | 223.747 |\n",
       "| CHP_328_05 |   91.16 | 20.3733852 | 6.7214852 | 13.2894774 | 2.949333 | 58.917227 | 18.699718 |  7.407993 | 18.704113 |  87.321 |\n",
       "| CHP_330_05 |    0.00 | 17.7491621 | 6.8166620 | 14.2282850 | 3.268630 | 60.098011 | 18.753667 |  7.526674 | 18.627509 |  91.054 |\n",
       "| CHP_331_04 |    0.00 | 17.5147564 | 6.4345470 | 16.2908453 | 3.487852 | 56.746543 | 19.446455 |  8.502042 | 20.123658 |  26.745 |\n",
       "| CHP_331_05 |    0.00 | 17.4639893 | 6.7599811 | 14.3070883 | 3.290490 | 60.760647 | 18.487891 |  7.350559 | 18.273499 | 103.194 |\n",
       "| CHP_335_03 |    0.00 | 19.1507844 | 5.3470699 | 14.2841868 | 2.797679 | 58.635645 | 18.235771 |  7.082941 | 18.272188 | 142.849 |\n",
       "| CHP_338_03 |  329.29 | 29.6374091 | 6.5321893 | 13.2385985 | 7.368120 | 35.922914 | 14.519962 |  7.024517 | 14.224290 | 371.391 |\n",
       "| CHP_338_04 |    0.00 | 17.7512288 | 7.0033923 | 14.1658508 | 3.095994 | 59.726234 | 18.664426 |  7.185654 | 18.232288 | 109.087 |\n",
       "| CHP_338_05 |    0.00 | 24.8653363 | 6.1892031 | 14.3699625 | 2.716365 | 47.341026 | 17.530613 |  6.158027 | 17.920995 | 253.452 |\n",
       "| CHP_339_03 |  376.20 | 19.0731667 | 8.6700955 | 15.1279704 | 4.890987 | 54.197115 | 18.546382 |  7.816611 | 18.546920 |  16.955 |\n",
       "| CHP_339_05 |  421.94 | 25.7859824 | 6.9043549 | 12.4904910 | 4.082379 | 49.588293 | 14.251146 |  8.334630 | 13.375422 | 150.728 |\n",
       "| CHP_340_03 |    0.00 | 18.4932258 | 6.3822686 | 15.3348449 | 3.783532 | 57.782893 | 18.998255 |  7.056021 | 19.177298 |  69.520 |\n",
       "| CHP_340_04 |    0.00 | 19.5288562 | 5.2449793 | 14.3371428 | 2.770937 | 58.841893 | 18.178766 |  6.856046 | 17.833489 | 148.741 |\n",
       "| CHP_340_05 |    0.00 | 26.8857907 | 6.2546417 | 13.1025475 | 6.191903 | 41.340429 | 17.279503 |  6.421011 | 17.418265 | 349.449 |\n",
       "| CHP_342_04 |    0.00 | 18.1761564 | 6.5817903 | 15.9294721 | 3.417274 | 56.595524 | 19.304068 |  8.297353 | 19.909833 |  30.207 |\n",
       "| CHP_343_02 |  459.04 |  0.0000000 | 6.6079295 | 23.4361233 | 1.409692 | 68.546256 | 12.158590 | 33.127753 | 12.158590 |  21.422 |\n",
       "| CHP_343_03 |  370.30 |  0.2424242 | 3.9393939 | 82.0000000 | 0.969697 | 12.848485 | 36.060606 |  8.000000 | 36.060606 |  26.992 |\n",
       "| CHP_343_04 |  536.63 |  1.5313936 | 1.3016845 | 46.5543645 | 5.589587 | 45.022971 | 45.022971 | 16.768760 | 45.022971 |  28.222 |\n",
       "| CHP_343_05 |  371.20 |  1.2315271 | 0.7389163 | 27.0525452 | 6.239737 | 64.737274 | 20.402299 | 26.929392 | 20.402299 |  26.774 |\n",
       "| CHP_344_02 |  829.08 | 20.2746918 | 9.1759535 | 13.0397261 | 5.231946 | 56.840850 | 16.621768 |  8.554581 | 14.893008 |  12.587 |\n",
       "| CHP_344_04 |    0.00 | 17.7491621 | 6.8166620 | 14.2282850 | 3.268630 | 60.098011 | 18.753667 |  7.526674 | 18.627509 |  91.862 |\n",
       "| CHP_344_05 |  134.32 | 20.9748207 | 7.0880142 | 12.7428531 | 3.122054 | 58.471863 | 19.272862 |  8.225881 | 19.091024 |  94.598 |\n",
       "| CHP_345_02 | 1598.08 | 26.4350347 | 6.7687513 | 11.0028753 | 4.001582 | 45.137752 | 13.629694 |  8.504671 | 12.430460 |  91.608 |\n",
       "| CHP_345_04 |    0.00 | 22.1349952 | 5.8492285 | 14.2294755 | 2.449143 | 57.965279 | 18.024628 |  6.921484 | 18.087488 | 160.622 |\n",
       "| CHP_345_05 |    0.00 | 17.8561683 | 6.5963758 | 14.1463069 | 2.626972 | 60.943996 | 18.572668 |  7.369449 | 18.140991 | 113.075 |\n",
       "| CHP_346_01 |  331.70 | 94.6624804 | 0.1569859 |  0.7849294 | 0.000000 |  4.395604 |  5.180534 |  3.767661 |  5.180534 |  29.129 |\n",
       "| ... | ... | ... | ... | ... | ... | ... | ... | ... | ... | ... |\n",
       "| CHP_419_01 |  465.510 | 24.414959 |  7.0508177 | 12.1769277 |  4.16842894 | 52.994900 | 13.9071106 |  8.2481729 | 13.2051391 | 126.31267 |\n",
       "| CHP_419_03 | 1690.200 | 46.485261 |  5.4421769 | 39.2290249 |  0.90702948 |  7.936508 | 42.6303855 | 18.1405896 | 42.6303855 | 248.74518 |\n",
       "| CHP_419_04 |    0.000 |  1.966955 |  5.0354052 |  4.1699449 |  0.00000000 | 88.827695 |  5.0354052 | 48.8591660 |  5.0354052 | 171.28595 |\n",
       "| CHP_420_02 |  247.500 |  5.886970 |  1.2558870 |  2.8649922 |  1.13814757 | 88.854003 |  3.1397174 |  2.9434851 |  3.1397174 | 114.95530 |\n",
       "| CHP_420_03 |    0.000 |  2.840000 |  0.8000000 |  4.5200000 |  2.20000000 | 89.640000 |  5.0400000 |  5.7600000 |  5.0400000 | 121.82272 |\n",
       "| CHP_421_01 |    0.000 | 22.268212 |  2.4834437 |  0.9933775 |  2.06953642 | 72.185430 |  2.6490066 |  2.7731788 |  2.6490066 | 183.09562 |\n",
       "| CHP_421_02 |    0.000 |  2.218115 |  0.7393715 |  3.0314233 |  3.25323475 | 90.757856 |  4.3622921 |  3.6968577 |  4.3622921 | 108.40489 |\n",
       "| CHP_421_03 |  262.200 |  7.114309 |  1.2390088 |  3.0375699 |  0.15987210 | 88.449241 |  4.1167066 |  5.3956835 |  4.1167066 |  98.57994 |\n",
       "| CHP_423_01 |  839.960 | 25.709546 |  6.5877280 | 11.1688807 |  4.12643963 | 52.175726 | 14.0430969 |  8.3062040 | 12.9820031 | 105.87796 |\n",
       "| CHP_423_02 |    0.000 | 38.080960 |  2.4362819 |  3.0359820 |  1.53673163 | 54.910045 |  2.6986507 |  4.1604198 |  2.6986507 | 152.72526 |\n",
       "| CHP_423_03 |    0.000 | 47.698745 | 16.1320316 |  9.9953510 |  0.04649000 | 26.127383 |  9.2980009 |  3.7192004 |  9.2980009 | 236.83652 |\n",
       "| CHP_424_01 |  413.703 | 13.380282 |  2.2300469 |  0.9389671 | 10.79812207 | 72.652582 |  1.2910798 | 13.7323944 |  1.2910798 | 220.53086 |\n",
       "| CHP_424_02 |  803.640 | 10.973570 |  1.7397123 |  6.6577451 |  0.16728003 | 80.461693 |  6.7915691 | 11.8768819 |  6.7915691 | 117.53741 |\n",
       "| CHP_425_01 | 2366.700 | 29.549832 |  6.9896173 | 12.5471314 |  3.97178015 | 41.284428 | 13.1893935 |  7.1288927 | 12.1460861 | 251.06299 |\n",
       "| CHP_425_03 |    0.000 | 40.269587 |  7.1609099 | 13.9848357 | 11.79443976 | 26.790227 | 18.5762426 |  2.1482730 | 18.5762426 | 438.62744 |\n",
       "| CHP_425_04 |    0.000 | 40.567376 |  3.5744681 |  5.2482270 |  2.86524823 | 47.744681 |  8.8510638 |  7.6595745 |  8.8510638 | 157.04194 |\n",
       "| CHP_426_01 |  148.920 | 23.170732 |  2.1026072 |  9.4196804 |  0.33641716 | 64.970563 |  9.5458368 |  7.0227082 |  9.5458368 | 151.42995 |\n",
       "| CHP_426_02 |    0.000 | 24.085851 |  5.7233704 |  3.0206677 |  0.07949126 | 67.090620 |  5.4054054 |  2.7821940 |  5.4054054 | 173.77785 |\n",
       "| CHP_426_03 |    0.000 |  7.540395 | 24.5960503 |  2.8725314 |  1.79533214 | 63.195691 | 53.8599641 |  5.9245961 | 53.8599641 |  93.27634 |\n",
       "| CHP_427_01 | 1617.110 | 34.768740 |  3.2695375 | 13.1578947 |  0.15948963 | 48.644338 | 12.5996810 | 16.4274322 | 12.5996810 | 143.89766 |\n",
       "| CHP_428_01 |  823.680 | 37.829766 |  1.3937282 |  3.0363365 | 19.86062718 | 37.879542 |  2.3892484 |  5.0771528 |  2.3892484 | 401.47191 |\n",
       "| CHP_428_02 |    0.000 | 35.474391 | 31.9059614 | 16.5407221 |  0.00000000 | 16.078925 | 44.9202351 |  1.5952981 | 44.9202351 | 217.88625 |\n",
       "| CHP_429_01 |  924.000 | 73.806796 |  0.7254677 |  0.9545628 |  0.15273005 | 24.360443 |  0.7636502 |  0.5345552 |  0.7636502 | 262.85500 |\n",
       "| CHP_429_02 |    0.000 | 25.844156 |  1.2987013 | 11.8614719 |  1.42857143 | 59.567100 | 13.8095238 | 17.8787879 | 13.8095238 | 121.61047 |\n",
       "| CHP_430_01 |   43.000 |  3.321799 | 10.1730104 | 13.9100346 |  0.00000000 | 72.595156 | 17.9238754 | 11.7647059 | 17.9238754 |  91.90172 |\n",
       "| CHP_430_02 |    0.000 |  5.997501 |  0.2915452 | 14.0358184 |  0.54144107 | 79.133694 |  9.5793419 |  1.7492711 |  9.5793419 | 164.06985 |\n",
       "| CHP_431_01 |    0.000 | 51.121795 | 19.9519231 |  9.9759615 |  0.04006410 | 18.910256 | 15.2644231 |  6.9711538 | 15.2644231 | 372.47999 |\n",
       "| CHP_432_01 |    0.000 | 45.509822 |  5.3320861 | 14.8737138 |  0.70159027 | 33.582788 | 15.5753040 |  4.0692236 | 15.5753040 | 315.91532 |\n",
       "| CHP_433_01 |    0.000 |  5.492558 | 11.0205528 |  9.2841956 |  0.95676825 | 73.245925 | 13.5719348 | 13.6782424 | 13.5719348 |  83.50876 |\n",
       "| CHP_434_01 |    0.000 | 16.962103 |  4.6149144 | 17.0843521 |  4.43154034 | 56.907090 | 19.1320293 |  1.4975550 | 19.1320293 |  86.06380 |\n",
       "\n",
       "\n",
       "$OOBerror\n",
       ":   **NRMSE:** 0.740975581061694\n",
       "\n",
       "\n"
      ],
      "text/plain": [
       "$ximp\n",
       "                  ATC     Naïve_p       SCM_p        CM_p        EM_p\n",
       "CHP_319_05    0.00000 17.36617959  7.65478546 16.88109511  3.29821876\n",
       "CHP_323_03  786.24000 22.27470421  7.16311236 12.40633786  5.00451094\n",
       "CHP_323_05  979.50000 25.62690972  6.55357307 11.12243366  3.60838319\n",
       "CHP_324_05    0.00000 18.67712706  5.31186330 14.19142512  2.83955583\n",
       "CHP_328_04  130.82000 26.28793761  6.52911396 13.21798336  2.76622309\n",
       "CHP_328_05   91.16000 20.37338517  6.72148520 13.28947744  2.94933327\n",
       "CHP_330_05    0.00000 17.74916211  6.81666197 14.22828498  3.26863042\n",
       "CHP_331_04    0.00000 17.51475637  6.43454702 16.29084529  3.48785212\n",
       "CHP_331_05    0.00000 17.46398926  6.75998110 14.30708828  3.29049046\n",
       "CHP_335_03    0.00000 19.15078443  5.34706987 14.28418684  2.79767942\n",
       "CHP_338_03  329.29000 29.63740913  6.53218935 13.23859850  7.36811964\n",
       "CHP_338_04    0.00000 17.75122883  7.00339228 14.16585079  3.09599442\n",
       "CHP_338_05    0.00000 24.86533627  6.18920308 14.36996246  2.71636454\n",
       "CHP_339_03  376.20000 19.07316666  8.67009552 15.12797039  4.89098734\n",
       "CHP_339_05  421.94000 25.78598238  6.90435490 12.49049102  4.08237917\n",
       "CHP_340_03    0.00000 18.49322580  6.38226863 15.33484492  3.78353245\n",
       "CHP_340_04    0.00000 19.52885617  5.24497930 14.33714283  2.77093651\n",
       "CHP_340_05    0.00000 26.88579069  6.25464171 13.10254750  6.19190281\n",
       "CHP_342_04    0.00000 18.17615636  6.58179030 15.92947211  3.41727400\n",
       "CHP_343_02  459.04000  0.00000000  6.60792952 23.43612335  1.40969163\n",
       "CHP_343_03  370.30000  0.24242424  3.93939394 82.00000000  0.96969697\n",
       "CHP_343_04  536.63000  1.53139357  1.30168453 46.55436447  5.58958652\n",
       "CHP_343_05  371.20000  1.23152709  0.73891626 27.05254516  6.23973727\n",
       "CHP_344_02  829.08000 20.27469185  9.17595347 13.03972608  5.23194580\n",
       "CHP_344_04    0.00000 17.74916211  6.81666197 14.22828498  3.26863042\n",
       "CHP_344_05  134.32000 20.97482074  7.08801415 12.74285309  3.12205405\n",
       "CHP_345_02 1598.08000 26.43503473  6.76875129 11.00287535  4.00158246\n",
       "CHP_345_04    0.00000 22.13499517  5.84922846 14.22947549  2.44914272\n",
       "CHP_345_05    0.00000 17.85616829  6.59637577 14.14630694  2.62697180\n",
       "CHP_346_01  331.70000 94.66248038  0.15698587  0.78492936  0.00000000\n",
       "CHP_347_01  126.72000 21.16402116  0.00000000  0.23515579  0.05878895\n",
       "CHP_347_02 1038.59000  8.62998921 76.59115426  8.09061489  1.61812298\n",
       "CHP_347_03  768.80000 39.42833123  3.86717108 39.89071038  1.13493064\n",
       "CHP_347_04 1542.25000 22.68456376  4.69798658 64.56375839  1.87919463\n",
       "CHP_347_05 1278.87000  1.42528736  0.32183908  0.78160920  0.32183908\n",
       "CHP_348_01   50.96000 26.31111111  8.71111111 24.44444444  2.48888889\n",
       "CHP_348_02  437.50000 23.66540563  1.68137873 19.20975200  2.56410256\n",
       "CHP_349_01 3152.22000  0.91407678 19.37842779  2.30347349  1.93784278\n",
       "CHP_349_02  353.06000 28.80375858  0.97578605  9.17961691 25.91254066\n",
       "CHP_350_01 1615.44000 45.96412556 10.98654709  4.40956652  1.34529148\n",
       "CHP_350_02    0.00000 65.92060811 20.35472973  3.16722973  1.09797297\n",
       "CHP_350_03    0.00000 45.86466165  2.50626566  2.21386800  2.67335004\n",
       "CHP_350_04    0.00000 23.80176068  2.93446365  8.73818063  1.01075970\n",
       "CHP_350_05    0.00000 69.77225673  7.45341615 14.69979296  1.24223602\n",
       "CHP_351_03    0.00000 40.69069069  8.55855856 30.33033033  1.12612613\n",
       "CHP_352_01  763.14000  9.41377835  1.83996577  1.79717587  0.08557980\n",
       "CHP_353_01  344.00000  4.41919192 20.62289562  1.76767677  0.79966330\n",
       "CHP_353_03 1213.70000 59.61140967 11.03761885 10.50020670  6.32492766\n",
       "CHP_353_05 1180.35000 39.48374761  3.39388145 16.10898662 24.52198853\n",
       "CHP_354_01 5252.80000  0.24449878 16.01466993  1.42624287  0.08149959\n",
       "CHP_355_01   90.24000  0.66939383  0.03718855  0.74377092  0.00000000\n",
       "CHP_356_02    0.00000 10.01945525  4.96108949  3.98832685  6.42023346\n",
       "CHP_356_03    0.00000  1.37875101  0.81103001 30.17031630  1.78426602\n",
       "CHP_356_05    0.00000  0.32454361  1.05476673 14.19878296  3.69168357\n",
       "CHP_357_01  251.00000 25.61505065  6.15050651 15.19536903  0.14471780\n",
       "CHP_357_02  351.48000 13.51869607  0.47938639  7.38255034  2.68456376\n",
       "CHP_357_03  415.31000 34.12774071  9.00857960 48.52240229  0.33365110\n",
       "CHP_357_04    0.00000  4.66245750 27.82904322 49.00437105  0.72850898\n",
       "CHP_357_05    0.00000 64.32078560 16.85761047  9.98363339  1.30932897\n",
       "CHP_358_03    0.00000 58.54029397 11.09984795 23.46680182  0.30410542\n",
       "CHP_358_05    0.00000 28.33603847  7.70630417 13.91447445  7.12458750\n",
       "CHP_359_02    0.00000 26.86999713  6.90144883 12.47570239  6.81794002\n",
       "CHP_359_03    0.00000 30.02774336  7.66487157 14.04588346  6.58940741\n",
       "CHP_359_04    0.00000 26.50719464  6.47444650 13.88163930  5.66894566\n",
       "CHP_360_02   75.24000 24.45299351  6.10259083 13.36552683  2.46212122\n",
       "CHP_360_03    0.00000 23.65776551  6.06320321 14.37067384  2.62789920\n",
       "CHP_360_05  677.60000 24.37209663  6.37306010 11.33918105  4.48626122\n",
       "CHP_361_01  516.04000 15.83944756 16.87526975 30.08200259  4.05697022\n",
       "CHP_361_02    0.00000  1.39247035 12.63537906 60.64981949  3.04280557\n",
       "CHP_361_03    0.00000  0.77686664 11.78247734 61.80405697  4.10012948\n",
       "CHP_361_04    0.00000 16.64843868  7.32331711 15.55606449  2.99098338\n",
       "CHP_362_01 1072.50000 22.61952591  0.56247489 37.72599438  4.62032945\n",
       "CHP_362_02    0.00000 29.15032680  1.83006536 46.01307190  7.58169935\n",
       "CHP_362_03    0.00000 17.93304630  6.63503414 14.17693226  3.15070731\n",
       "CHP_362_04    0.00000 36.78257227  3.39338081 39.71512359  1.59195643\n",
       "CHP_363_01  198.00000 31.97311570  3.40854537  8.30532885 10.12962074\n",
       "CHP_363_02    0.00000 24.14972134  5.96902257 14.35095701  2.42643300\n",
       "CHP_363_03    0.00000 16.73773562 10.45170921 16.46031744  4.44793026\n",
       "CHP_364_01  877.68000 47.61509747  0.74657818  7.42430527  1.36872667\n",
       "CHP_364_02    0.00000  9.24809007  1.16606353  5.06634499  0.72376357\n",
       "CHP_364_04    0.00000 14.01792991  5.54197229 21.63814181  0.36674817\n",
       "CHP_365_01 1343.86000 17.37361999  0.34863451  2.38233585  0.87158629\n",
       "CHP_365_02    0.00000 18.34696723  6.56534666 15.11793396  3.58268112\n",
       "CHP_365_03    0.00000 17.62324671  6.85553518 14.15839728  3.26967323\n",
       "CHP_365_04    0.00000 24.83920852  5.92482913 14.40319530  2.73808185\n",
       "CHP_366_01 1113.50000 26.17259132  6.64071327 11.11027372  3.81349809\n",
       "CHP_366_03    0.00000 18.02036849  6.38900190 14.33602850  3.40109837\n",
       "CHP_366_05    0.00000 17.92701532  7.37868720 13.97578627  2.53160866\n",
       "CHP_367_01 3004.65000 14.30700447  2.68256334  7.45156483  2.23546945\n",
       "CHP_367_02    0.00000 18.29746384  6.55370657 15.20222112  3.61397287\n",
       "CHP_368_01  439.41000 43.41749324  5.18485122 11.18124436 10.23444545\n",
       "CHP_368_05    0.00000 26.51543209  6.99036856 14.47273448  4.48560309\n",
       "CHP_369_01  544.44000 80.01257071 11.62790698  2.76555625  0.25141420\n",
       "CHP_369_02    0.00000 22.13499517  5.84922846 14.22947549  2.44212682\n",
       "CHP_370_01    0.00000 71.62162162  9.12162162 10.81081081  3.20945946\n",
       "CHP_370_02    0.00000 26.92867687  7.01572274 12.88023544  6.76522611\n",
       "CHP_370_03    0.00000 25.40619322  5.69119279 15.09999382  2.41920351\n",
       "CHP_370_05    0.00000 22.38789603  5.85743475 14.69499684  2.67286842\n",
       "CHP_371_01  333.20000 39.05325444 11.43984221 32.34714004  3.64891519\n",
       "CHP_372_01    0.00000  5.48780488  4.57317073 15.85365854  4.87804878\n",
       "CHP_373_01 1912.77000 29.03225806  1.98511166  1.48883375  0.00000000\n",
       "CHP_373_03    0.00000 18.79295994  6.68883401 14.98158395  3.32097322\n",
       "CHP_374_03    0.00000 18.29746384  6.55370657 15.20222112  3.61556777\n",
       "CHP_374_04  300.60000 22.20138824  7.25818235 12.92882753  2.89056184\n",
       "CHP_374_05  144.00000 19.68169817  6.90984292 14.80512203  3.42029790\n",
       "CHP_375_02    0.00000 28.23301124  7.20825567 13.04113346  6.67334716\n",
       "CHP_375_05    0.00000  4.38892640  3.98379473  2.97096556  0.40513167\n",
       "CHP_376_02    0.00000 30.02774336  7.66487157 14.04588346  6.58940741\n",
       "CHP_376_03    0.00000 26.67585701  7.21882676 12.37355830  6.67313978\n",
       "CHP_377_02    0.00000 26.62877193  6.32696158 13.88505582  6.38898518\n",
       "CHP_378_01    0.00000 49.03974989  4.82358196  2.18847700 16.70388566\n",
       "CHP_378_02    0.00000 21.85962065  5.97758088 14.09700188  2.56113917\n",
       "CHP_378_04 1143.10000 33.44537815  6.72268908  2.05882353  5.67226891\n",
       "CHP_380_02    0.00000 18.17239674  6.55599865 15.16241409  3.72578224\n",
       "CHP_380_03    0.00000 18.62730380  6.76918568 15.19548795  3.48889469\n",
       "CHP_380_05    0.00000 18.69374489  6.82420803 15.14832397  3.91098777\n",
       "CHP_381_01    4.92000 33.62255965 15.54591468  4.77223427 12.43673174\n",
       "CHP_381_02   20.76000 28.66790741  7.14715230 13.52387071  7.30857222\n",
       "CHP_382_02    0.00000 16.96895887  7.90422229 16.45560146  2.67595170\n",
       "CHP_382_05  502.80000 30.83892337  7.18827815 12.00790108  7.87446820\n",
       "CHP_383_03  102.35000 35.01400560  4.08963585  0.05602241  0.00000000\n",
       "CHP_383_05    0.00000 28.89518414 28.61189802  0.84985836  0.28328612\n",
       "CHP_385_03  647.02000  0.06523157  0.01630789  0.30984997 21.39595564\n",
       "CHP_386_02  479.57000 19.15127012  8.55166052 14.94269455  4.59243182\n",
       "CHP_387_01  288.99000  1.03562552  2.27837614  4.97100249  8.65782933\n",
       "CHP_387_03  483.72000  5.68760611  3.52292020 59.55008489  2.54668930\n",
       "CHP_388_04    0.00000 38.29623945  5.29547199  0.07674597  0.00000000\n",
       "CHP_388_05    0.00000 18.17239674  6.55599865 15.16241409  3.72578224\n",
       "CHP_390_05  791.48000 44.09417398  9.25778132  1.67597765 12.25059856\n",
       "CHP_391_02   18.20000 16.12377850  0.97719870  1.14006515  9.36482085\n",
       "CHP_391_03    0.00000  8.12972012  3.64282541 19.23589516  0.26654820\n",
       "CHP_391_04    0.00000 16.96489892  7.19118541 16.35004476  2.68897297\n",
       "CHP_392_04    0.00000 17.74916211  6.81666197 14.22828498  3.26863042\n",
       "CHP_393_04  175.48000 23.09711286  8.66141732 16.27296588  0.26246719\n",
       "CHP_393_05  181.44000 28.29426728  7.66967514 12.93013153  7.39668201\n",
       "CHP_394_01  101.20000 51.85628743  3.23353293 13.77245509  0.00000000\n",
       "CHP_394_04  140.70000  2.64357338  0.09115770 36.87329079 12.76207840\n",
       "CHP_396_01 6767.11000  6.44901249  2.61991133  0.36275695  0.00000000\n",
       "CHP_396_02 2501.60000 19.03820817  6.98287220 19.63109354  1.91040843\n",
       "CHP_396_04  241.65000 28.53264422  7.90662690 13.10856913  7.70993226\n",
       "CHP_397_01  124.80000 11.37500000  9.66666667  0.16666667  0.00000000\n",
       "CHP_397_05    0.00000  0.00000000  0.43529877  0.19786308  3.87811634\n",
       "CHP_398_04    0.00000 24.88517745  4.96868476  0.58455115 26.17954071\n",
       "CHP_398_05    0.00000  6.45161290  2.67741935  9.38709677  0.03225806\n",
       "CHP_399_01  622.20000 21.47341984  0.54416074  0.50230222  0.00000000\n",
       "CHP_399_02 1045.99000 58.53324195  0.41124058  4.45510624  6.30568883\n",
       "CHP_399_03  206.15000  0.00000000  2.35198702  0.32441200  1.09489051\n",
       "CHP_400_03   68.37000  4.33734940  2.08835341  0.00000000  0.04016064\n",
       "CHP_400_04    0.00000  0.69742489  3.37982833  7.29613734 11.90987124\n",
       "CHP_400_05    0.00000 16.78531840  7.39450332 15.42520485  2.76133797\n",
       "CHP_401_03  396.03000 13.96210873 10.95551895  0.08237232  0.00000000\n",
       "CHP_401_05    0.00000 22.25623445  5.91813194 14.69499684  2.68098327\n",
       "CHP_402_02  419.95000  3.49819059  0.68355448  0.24125452  0.00000000\n",
       "CHP_402_03    0.00000  4.54545455  0.00000000 70.45454545  2.27272727\n",
       "CHP_403_02  674.56000 23.32657201 18.45841785  0.00000000  0.00000000\n",
       "CHP_403_03  216.20000  6.92640693 27.27272727 16.88311688  6.49350649\n",
       "CHP_404_01 2100.84000 21.05263158  7.36842105  2.10526316  6.31578947\n",
       "CHP_404_02  856.44000 20.09925558  4.46650124  0.24813896  0.24813896\n",
       "CHP_404_05  326.60000 30.37041303  7.32185676 13.24253761  7.40160570\n",
       "CHP_405_01 4936.56000 16.41468683  8.85529158 30.23758099 21.59827214\n",
       "CHP_405_02 1053.80000 56.83391003  8.73702422  0.51903114  0.95155709\n",
       "CHP_405_03    0.00000 36.50931139  6.79948029  0.47639671  0.08661758\n",
       "CHP_405_04    0.00000 26.92867687  7.01572274 12.88023544  6.76522611\n",
       "CHP_405_05    0.00000 18.76002671  5.31186330 14.19142512  2.83955583\n",
       "CHP_406_03    0.00000 18.73682017  6.60786448 15.89549937  3.63692983\n",
       "CHP_407_02  570.15000  2.61272651 22.75600506  4.46691951 35.35608934\n",
       "CHP_407_03   86.24000  4.97890295  1.35021097 72.23628692  6.07594937\n",
       "CHP_407_04    0.00000 27.57396484  7.23170981 12.71764681  6.81040503\n",
       "CHP_408_01  338.80000 39.34579439  7.61682243 15.60747664 15.79439252\n",
       "CHP_408_02    0.00000 34.73903967  6.80584551  7.13987474 21.79540710\n",
       "CHP_408_03   69.16000 53.04659498 20.07168459 11.03942652  3.01075269\n",
       "CHP_409_01  156.78000 35.57398516  3.88476648  5.45613269 29.24487124\n",
       "CHP_409_02  338.13000  2.29681979  4.15194346 22.61484099  1.14840989\n",
       "CHP_409_03  198.09000 18.28674173  9.55465505 15.74284526  5.31268557\n",
       "CHP_409_04  522.07000 20.01805012  7.18354004 13.19004586  4.36227754\n",
       "CHP_410_01    0.00000 32.00000000  8.80000000  2.80000000  0.40000000\n",
       "CHP_410_02    0.00000 18.69374489  6.82420803 15.14832397  3.91098777\n",
       "CHP_410_03  179.34000 27.69808661  6.48660171 13.08970590  4.57655226\n",
       "CHP_411_02    0.00000 62.00000000  4.00000000 16.00000000  2.00000000\n",
       "CHP_412_01    0.00000 18.40364440  6.67491775 15.40337078  3.63415821\n",
       "CHP_412_02    0.00000 26.50719464  6.38016961 14.13184934  4.66193377\n",
       "CHP_412_03    0.00000 16.21363563  7.48110528 16.36932383  2.56541394\n",
       "CHP_413_01    0.00000  5.18891688  1.56171285  4.68513854  2.16624685\n",
       "CHP_413_02   93.42000 13.30693069  3.68316832  0.55445545 12.35643564\n",
       "CHP_414_01    0.00000 16.73773562 10.10127068 16.53576958  3.77139810\n",
       "CHP_414_02  802.76000 36.23443007  7.72615377 10.78863116  8.43280496\n",
       "CHP_414_03   73.80000 13.30693069  3.68316832  0.55445545 12.35643564\n",
       "CHP_415_01    0.00000 17.66390840  6.81685182 14.22828498  3.26967323\n",
       "CHP_415_02  234.32000 20.91856183  6.71091551 12.60516366  3.46279881\n",
       "CHP_415_03  389.60000 13.84995878  3.83347073  0.57708162  8.77988458\n",
       "CHP_416_01   45.00000 27.06383988  7.18221086 11.95305104  6.58746735\n",
       "CHP_417_01  159.46000 17.76676068 11.25090121 16.25049306  4.59879955\n",
       "CHP_418_01   18.48000 17.68638871  7.13572475 13.91539440  3.19419920\n",
       "CHP_418_02    0.00000  1.20481928  7.22891566  6.19621343  7.74526678\n",
       "CHP_419_02  473.60000  0.09732360  0.04866180  0.82725061 10.70559611\n",
       "CHP_420_01 1473.20000  1.29449838  1.37540453  0.48543689  0.12135922\n",
       "CHP_422_01 2136.39000 23.97018819  7.16798037 11.24050021  4.85095084\n",
       "CHP_323_01  154.75000 22.66398084  5.99236606 13.67349991  2.16048915\n",
       "CHP_323_02 1397.28000 30.48772468  6.38658880 11.82454333  3.79695072\n",
       "CHP_325_02  927.46000 26.24046552  6.62674323 11.09342086  4.05996592\n",
       "CHP_325_03  624.72000 24.08860283  6.50408119 10.98699081  4.21905982\n",
       "CHP_325_04  163.77000 21.93736449  6.00535819 13.42829366  2.12996305\n",
       "CHP_326_01   77.52000 20.19971201  5.94804588 13.63948653  2.52838998\n",
       "CHP_326_02  400.14000 22.03769714  7.69582005 12.24166798  4.01581364\n",
       "CHP_326_03  122.08000 23.03587142  5.96798758 13.26702226  2.24342315\n",
       "CHP_326_04 1242.85000 28.75320004  7.03357176 11.12915445  4.00605626\n",
       "CHP_326_05  972.90000 27.00504913  6.80314773 10.96500726  3.91603714\n",
       "CHP_328_01  155.22000 22.66398084  5.99236606 13.67349991  2.16048915\n",
       "CHP_328_02  829.44000 25.02959306  6.45089753 11.54614626  3.98534858\n",
       "CHP_328_03  997.20000 29.81133886  7.02794457 11.59085694  3.04799801\n",
       "CHP_330_01    0.00000 12.92572835  7.67336890  2.66721379  0.98481740\n",
       "CHP_330_02    0.00000 31.87628866 11.21649485 21.11340206  0.86597938\n",
       "CHP_330_03    0.00000 60.66176471  1.47058824 11.94852941  3.12500000\n",
       "CHP_330_04    0.00000 63.76811594  2.17391304  8.73590982  5.03220612\n",
       "CHP_332_01    0.00000  7.13891951 22.85005513  8.18632856  0.02756340\n",
       "CHP_332_02    0.00000  0.49937578 17.81106950 14.93965876  8.98876404\n",
       "CHP_332_03    0.00000  2.72080368 11.46923399 39.84930933  1.59062369\n",
       "CHP_332_04    0.00000  0.97402597  2.46753247 36.16883117  1.81818182\n",
       "CHP_332_05    0.00000  1.74796748  1.34146341 22.19512195 12.72357724\n",
       "CHP_334_01  136.08000 21.94002770  5.96861259 13.44794422  2.24880389\n",
       "CHP_334_02  328.86000 26.40693333  6.04748727 13.06255584  2.27119434\n",
       "CHP_334_03  299.44000 24.57178992  6.50808690 12.09098793  3.02742527\n",
       "CHP_334_04   39.20000 18.10407795  6.60992023 13.98609496  2.60891139\n",
       "CHP_338_01  942.34000 25.83266431  6.40734079 11.61092071  3.70403968\n",
       "CHP_338_02  644.68000 24.05635653  6.67863115 10.98357185  4.56941019\n",
       "CHP_339_01  173.25000 21.40580182  7.08291466 12.83048034  3.04258970\n",
       "CHP_339_02  111.02000 23.01318610  5.96190025 13.22068120  2.03584208\n",
       "CHP_339_04  447.95000 24.68645170  7.07781334 12.28679902  4.04351519\n",
       "CHP_342_01 9927.72000 27.74788801  8.77208519 17.17019207  8.60163906\n",
       "CHP_343_01  219.30000  9.54151177  2.31309376  8.42627014  0.04130525\n",
       "CHP_344_01  247.80000 23.01481216  6.85283131 12.59377987  2.28345190\n",
       "CHP_345_01  287.00000 23.03473789  7.09964591 12.58196550  3.55114097\n",
       "CHP_351_05    0.00000 63.99572650  9.72222222  9.56196581  0.80128205\n",
       "CHP_356_01    0.00000  2.76220977  2.04163331  0.48038431  0.40032026\n",
       "CHP_356_04    0.00000  0.39648825  1.81251770 32.34211272  2.23732654\n",
       "CHP_358_04 1470.18000 31.95095340  6.37837084 10.59129972  3.76182814\n",
       "CHP_360_01  173.28000 21.40580182  7.08291466 12.83048034  3.04258970\n",
       "CHP_364_05    0.00000 26.38036810  5.09674375 31.94903256  4.86078339\n",
       "CHP_367_05    0.00000 49.26160338  4.95780591  8.75527426  6.54008439\n",
       "CHP_371_05  128.80000 22.22076051  7.00310593 13.26436618  2.60162450\n",
       "CHP_373_04   47.25000  7.20097640  2.84784378  7.11960944  0.04068348\n",
       "CHP_373_05    0.00000  4.80480480  0.96096096  3.96396396 24.02402402\n",
       "CHP_374_01 2136.90000 29.54983166  7.07828733 12.54759581  3.91826186\n",
       "CHP_375_04    0.00000 12.82051282  1.83150183 33.33333333  4.39560440\n",
       "CHP_378_03  129.60000 22.47647461  5.82396360 13.64074938  2.30521872\n",
       "CHP_378_05    0.00000  2.64282938  0.23319083  1.08822386  1.32141469\n",
       "CHP_379_01 2145.90000 29.54983166  7.07828733 12.54759581  3.91826186\n",
       "CHP_380_01  187.06000 22.74633505  6.87690536 13.06342883  3.22342988\n",
       "CHP_381_03   15.60000 19.72868545  5.86055413 14.52934025  2.65499525\n",
       "CHP_381_04   89.10000 20.53600004  6.15595910 13.50053538  2.40325528\n",
       "CHP_381_05   81.03000 20.30123347  5.79294444 13.65465368  2.44403447\n",
       "CHP_382_01  526.14000 25.18954879  6.69395941 12.66879737  4.33587257\n",
       "CHP_383_01   48.88000 46.87500000  3.12500000 25.00000000  7.29166667\n",
       "CHP_383_02  208.19000 22.24221874  7.10098468 12.76700711  3.37603403\n",
       "CHP_383_04    0.00000 14.97326203  0.80213904  6.68449198  0.00000000\n",
       "CHP_384_01    0.00000 80.24971623  8.11577753  7.20771850  1.41884222\n",
       "CHP_385_01    0.00000  0.30549898  0.88255261  0.88255261  0.54310930\n",
       "CHP_385_04  210.80000 25.44731610  1.68986083 16.15308151  1.49105368\n",
       "CHP_385_05   72.98000 20.78431373  4.96732026 42.48366013  0.52287582\n",
       "CHP_386_01  472.50000 25.00000000  0.00000000 50.00000000  0.00000000\n",
       "CHP_386_03  676.78000  4.94296578  3.80228137 10.26615970  0.38022814\n",
       "CHP_388_01  584.04000 23.42007036  6.37811592 11.97197680  4.82700510\n",
       "CHP_388_03  254.98000 80.54538055  2.52340252  1.18030118  0.16280016\n",
       "CHP_389_01 1863.10000 30.34031542  6.72515717 12.33364273  4.30937150\n",
       "CHP_389_02  376.48000 23.79896526  1.92165558  1.55210643 15.74279379\n",
       "CHP_389_05    0.00000 12.11871393  0.82440231 41.54987634 15.58120363\n",
       "CHP_390_01  304.98000 37.33994217 55.14250310  0.61957869  0.20652623\n",
       "CHP_390_04 1096.68000 28.80422358  7.10681394 11.13981051  3.39594417\n",
       "CHP_391_01 1647.36000 80.62709966  0.33594625  2.01567749  1.11982083\n",
       "CHP_392_01   63.24000 43.90243902  0.00000000  9.75609756 12.19512195\n",
       "CHP_392_03   75.24000 22.02898551  2.31884058  2.19461698  0.66252588\n",
       "CHP_393_01  340.40000 47.94258373 17.94258373 22.05741627  2.15311005\n",
       "CHP_393_03   44.80000  0.00000000 32.72727273 21.81818182  1.81818182\n",
       "CHP_394_02  235.04000 13.62359551  9.83146067  2.80898876  0.00000000\n",
       "CHP_394_05  394.40000  0.00000000  0.00000000 61.01694915 11.86440678\n",
       "CHP_395_01 5875.96000  2.43090243  0.73260073 53.21345321  0.00000000\n",
       "CHP_395_02  570.70350  2.37807336  0.40306328  1.28980250  0.56428859\n",
       "CHP_398_01  328.04000 32.15962441  1.17370892  4.46009390  0.00000000\n",
       "CHP_398_03  158.40000  0.23932988  0.43877144  0.00000000  3.51017152\n",
       "CHP_400_01  737.10000 32.22222222  0.00000000  3.88888889  0.55555556\n",
       "CHP_400_02  237.07000  0.87922258 16.19620546  4.25728829 34.93752892\n",
       "CHP_401_02  547.96000  9.52380952 15.87301587  1.58730159 15.87301587\n",
       "CHP_402_01    0.00000 61.21533442  1.59053834  1.34584013  0.12234910\n",
       "CHP_403_01  352.08000 56.11111111  6.66666667 18.33333333 11.66666667\n",
       "CHP_406_01  296.00000 24.57178992  6.50808690 12.09098793  3.02742527\n",
       "CHP_406_02    0.00000  8.42696629 20.78651685  0.00000000  0.00000000\n",
       "CHP_406_04  102.41000 21.95792025  6.03704142 13.70093880  2.10190608\n",
       "CHP_407_01  216.81000 50.87877422  0.67598017  1.98287517 33.12302839\n",
       "CHP_408_04   58.46000 47.52747253  2.24358974 23.58058608  2.38095238\n",
       "CHP_408_05  159.80000 42.46112238  1.35226504 37.11967546  2.50169033\n",
       "CHP_410_04  411.72000 14.69500924  1.20147874 11.64510166  0.55452865\n",
       "CHP_411_03   35.88000  7.32538330  4.08858603 40.16183986  1.66098807\n",
       "CHP_412_04    0.00000  0.28466856  0.69133794  6.87271248  0.16266775\n",
       "CHP_412_05    0.00000  4.69879518 54.09638554 23.25301205  0.24096386\n",
       "CHP_413_03  685.36000 10.74824308  1.77759405 16.74245556  5.37412154\n",
       "CHP_413_04    0.00000 20.65420561  7.19626168 35.79439252  8.03738318\n",
       "CHP_414_04  712.05000 56.05121850  1.73482032 10.69805865  0.78479967\n",
       "CHP_414_05  302.72000 63.84680135  7.19696970  7.99663300  4.25084175\n",
       "CHP_415_04   51.59000 19.21340982  6.07784104 14.01350277  2.69818549\n",
       "CHP_415_05    0.00000  4.89913545 67.43515850 26.80115274  0.57636888\n",
       "CHP_417_03   52.00000 47.88833214  9.44881890 20.04294918  4.36649964\n",
       "CHP_418_03    0.00000  0.00000000  0.54753609 61.59780986  0.84619214\n",
       "CHP_418_04    0.00000  0.39215686 16.73202614  1.78649237  0.17429194\n",
       "CHP_418_05   84.28115  8.84438882 23.69628703  2.62828536  0.37546934\n",
       "CHP_419_01  465.51000 24.41495865  7.05081768 12.17692774  4.16842894\n",
       "CHP_419_03 1690.20000 46.48526077  5.44217687 39.22902494  0.90702948\n",
       "CHP_419_04    0.00000  1.96695515  5.03540519  4.16994493  0.00000000\n",
       "CHP_420_02  247.50000  5.88697017  1.25588697  2.86499215  1.13814757\n",
       "CHP_420_03    0.00000  2.84000000  0.80000000  4.52000000  2.20000000\n",
       "CHP_421_01    0.00000 22.26821192  2.48344371  0.99337748  2.06953642\n",
       "CHP_421_02    0.00000  2.21811460  0.73937153  3.03142329  3.25323475\n",
       "CHP_421_03  262.20000  7.11430855  1.23900879  3.03756994  0.15987210\n",
       "CHP_423_01  839.96000 25.70954600  6.58772798 11.16888072  4.12643963\n",
       "CHP_423_02    0.00000 38.08095952  2.43628186  3.03598201  1.53673163\n",
       "CHP_423_03    0.00000 47.69874477 16.13203161  9.99535100  0.04649000\n",
       "CHP_424_01  413.70305 13.38028169  2.23004695  0.93896714 10.79812207\n",
       "CHP_424_02  803.64000 10.97356976  1.73971228  6.65774507  0.16728003\n",
       "CHP_425_01 2366.70000 29.54983166  6.98961729 12.54713141  3.97178015\n",
       "CHP_425_03    0.00000 40.26958719  7.16090986 13.98483572 11.79443976\n",
       "CHP_425_04    0.00000 40.56737589  3.57446809  5.24822695  2.86524823\n",
       "CHP_426_01  148.92000 23.17073171  2.10260723  9.41968040  0.33641716\n",
       "CHP_426_02    0.00000 24.08585056  5.72337043  3.02066773  0.07949126\n",
       "CHP_426_03    0.00000  7.54039497 24.59605027  2.87253142  1.79533214\n",
       "CHP_427_01 1617.11000 34.76874003  3.26953748 13.15789474  0.15948963\n",
       "CHP_428_01  823.68000 37.82976605  1.39372822  3.03633649 19.86062718\n",
       "CHP_428_02    0.00000 35.47439127 31.90596138 16.54072208  0.00000000\n",
       "CHP_429_01  924.00000 73.80679649  0.72546774  0.95456281  0.15273005\n",
       "CHP_429_02    0.00000 25.84415584  1.29870130 11.86147186  1.42857143\n",
       "CHP_430_01   43.00000  3.32179931 10.17301038 13.91003460  0.00000000\n",
       "CHP_430_02    0.00000  5.99750104  0.29154519 14.03581841  0.54144107\n",
       "CHP_431_01    0.00000 51.12179487 19.95192308  9.97596154  0.04006410\n",
       "CHP_432_01    0.00000 45.50982226  5.33208606 14.87371375  0.70159027\n",
       "CHP_433_01    0.00000  5.49255847 11.02055280  9.28419561  0.95676825\n",
       "CHP_434_01    0.00000 16.96210269  4.61491443 17.08435208  4.43154034\n",
       "                 TE_p      PD1_p     LAG3_p     TIM3_p observed_Shannon\n",
       "CHP_319_05 53.9671380 19.3691181  8.6303034 20.0819484         11.87800\n",
       "CHP_323_03 56.7965366 17.1246337  8.7530336 16.6180113         37.72200\n",
       "CHP_323_05 51.7414542 13.7395952 10.0400309 12.5937400         81.75300\n",
       "CHP_324_05 60.0313327 18.1970647  7.2389738 18.2483990        129.91900\n",
       "CHP_328_04 42.3874150 14.9077511  6.1519391 14.0309111        223.74700\n",
       "CHP_328_05 58.9172265 18.6997183  7.4079926 18.7041134         87.32100\n",
       "CHP_330_05 60.0980113 18.7536666  7.5266739 18.6275089         91.05400\n",
       "CHP_331_04 56.7465431 19.4464548  8.5020422 20.1236578         26.74500\n",
       "CHP_331_05 60.7606468 18.4878910  7.3505594 18.2734993        103.19400\n",
       "CHP_335_03 58.6356450 18.2357714  7.0829410 18.2721885        142.84900\n",
       "CHP_338_03 35.9229143 14.5199620  7.0245167 14.2242899        371.39100\n",
       "CHP_338_04 59.7262339 18.6644261  7.1856542 18.2322882        109.08700\n",
       "CHP_338_05 47.3410258 17.5306132  6.1580269 17.9209951        253.45200\n",
       "CHP_339_03 54.1971152 18.5463822  7.8166112 18.5469198         16.95500\n",
       "CHP_339_05 49.5882933 14.2511457  8.3346299 13.3754217        150.72800\n",
       "CHP_340_03 57.7828933 18.9982549  7.0560212 19.1772978         69.52000\n",
       "CHP_340_04 58.8418929 18.1787656  6.8560461 17.8334887        148.74100\n",
       "CHP_340_05 41.3404293 17.2795033  6.4210112 17.4182649        349.44900\n",
       "CHP_342_04 56.5955236 19.3040680  8.2973534 19.9098327         30.20700\n",
       "CHP_343_02 68.5462555 12.1585903 33.1277533 12.1585903         21.42200\n",
       "CHP_343_03 12.8484848 36.0606061  8.0000000 36.0606061         26.99200\n",
       "CHP_343_04 45.0229709 45.0229709 16.7687596 45.0229709         28.22200\n",
       "CHP_343_05 64.7372742 20.4022989 26.9293924 20.4022989         26.77400\n",
       "CHP_344_02 56.8408501 16.6217680  8.5545810 14.8930084         12.58700\n",
       "CHP_344_04 60.0980113 18.7536666  7.5266739 18.6275089         91.86200\n",
       "CHP_344_05 58.4718635 19.2728623  8.2258808 19.0910237         94.59800\n",
       "CHP_345_02 45.1377519 13.6296941  8.5046709 12.4304599         91.60800\n",
       "CHP_345_04 57.9652786 18.0246276  6.9214842 18.0874885        160.62200\n",
       "CHP_345_05 60.9439963 18.5726684  7.3694486 18.1409905        113.07500\n",
       "CHP_346_01  4.3956044  5.1805338  3.7676609  5.1805338         29.12900\n",
       "CHP_347_01 78.5420341 17.9306290  2.4103469 17.9306290        106.91100\n",
       "CHP_347_02  5.0701187  5.3937433  7.2276160  5.3937433        280.28500\n",
       "CHP_347_03 15.6788567 35.7292980 33.6696091 35.7292980         69.36900\n",
       "CHP_347_04  6.1744966 60.0000000 60.8053691 60.0000000         70.46600\n",
       "CHP_347_05 97.1494253  0.6896552  5.1034483  0.6896552        101.57300\n",
       "CHP_348_01 38.0444444  5.4222222  1.6000000  5.4222222         69.94200\n",
       "CHP_348_02 52.8793611 23.0769231  6.8095839 23.0769231         37.58300\n",
       "CHP_349_01 75.4661792  4.2778793  1.3528336  4.2778793         13.97300\n",
       "CHP_349_02 35.1282978 28.8037586 24.6114926 28.8037586         56.37000\n",
       "CHP_350_01 37.2944694  3.8116592  0.3736921  3.8116592        119.72600\n",
       "CHP_350_02  9.4594595  1.7314189  1.1402027  1.7314189        208.21100\n",
       "CHP_350_03 46.7418546  8.9807853  6.6833751  8.9807853        159.57900\n",
       "CHP_350_04 63.5148353  9.5533094 42.8757744  9.5533094         80.93000\n",
       "CHP_350_05  6.8322981 14.4927536  9.7308489 14.4927536         44.11900\n",
       "CHP_351_03 19.2942943 29.9549550 19.0690691 29.9549550        582.71400\n",
       "CHP_352_01 86.8635002  4.5357296  4.7068892  4.5357296         13.96300\n",
       "CHP_353_01 72.3905724  4.1245791  2.5252525  4.1245791        171.64300\n",
       "CHP_353_03 12.5258371  5.5394791  4.8367094  5.5394791        125.46300\n",
       "CHP_353_05 16.4913958  5.8795411  7.4091778  5.8795411        264.54700\n",
       "CHP_354_01 82.2330888 17.9299104 12.4286879 17.9299104          5.03100\n",
       "CHP_355_01 98.5496467 11.4989395 13.1963480 14.3592283         11.22300\n",
       "CHP_356_02 74.6108949  7.7821012  4.8638132  7.7821012         79.16600\n",
       "CHP_356_03 65.8556367 25.1419303  9.1646391 25.1419303          2.56900\n",
       "CHP_356_05 80.7302231  8.9249493  4.3813387  8.9249493          1.95300\n",
       "CHP_357_01 52.8943560 14.1099855  3.1837916 14.1099855        242.14300\n",
       "CHP_357_02 75.9348035  6.9990412  2.2051774  6.9990412        389.88500\n",
       "CHP_357_03  8.0076263 64.8236416 48.9990467 64.8236416         71.98900\n",
       "CHP_357_04 17.7756192 52.2098106 20.4468188 52.2098106         37.19000\n",
       "CHP_357_05  7.5286416 25.8592471 10.6382979 25.8592471        195.88700\n",
       "CHP_358_03  6.5889508 29.8530157 21.4394323 29.8530157        551.69000\n",
       "CHP_358_05 39.4535755 15.2895064  8.5603482 14.6087606        511.03900\n",
       "CHP_359_02 40.8667364 17.3434334  7.2506945 17.3207523        381.52000\n",
       "CHP_359_03 37.1273258 15.1050581  8.2167352 14.9939550       1526.86100\n",
       "CHP_359_04 41.1013875 17.6216996  5.9215505 17.5727257        291.53300\n",
       "CHP_360_02 52.0298117 17.4227163  7.2562653 17.7550311        189.20000\n",
       "CHP_360_03 50.7253892 18.1572247  6.7948873 18.0693621        201.41200\n",
       "CHP_360_05 53.5793772 13.7898374  8.0663223 12.8724287        121.14400\n",
       "CHP_361_01 36.9443246 29.9093656 24.6007769 29.9093656         76.60700\n",
       "CHP_361_02 22.2795255 64.0020629 49.4584838 64.0020629         88.16500\n",
       "CHP_361_03 21.5364696 54.3375054 41.3034096 54.3375054         39.76400\n",
       "CHP_361_04 56.6962183 19.4346980  8.3821231 19.6667705         23.91500\n",
       "CHP_362_01 34.4716754  8.0755323 16.5126557  8.0755323        110.07900\n",
       "CHP_362_02 15.4248366  7.6688453  4.4008715  7.6688453        277.01700\n",
       "CHP_362_03 60.9532778 18.7239574  8.0447414 18.7518792         83.50900\n",
       "CHP_362_04 18.5169669 40.0921659 13.5735233 40.0921659         16.24700\n",
       "CHP_363_01 46.1833893  5.7609217  9.6015362  5.7609217        554.21200\n",
       "CHP_363_02 50.8898804 17.9188216  6.8727801 17.9980305        205.65200\n",
       "CHP_363_03 53.9484434 18.7270638  7.5055093 19.4030935          5.04200\n",
       "CHP_364_01 42.8452924 12.5673994  5.0601410 12.5673994         82.14900\n",
       "CHP_364_02 83.7957378  6.1519903  5.5890631  6.1519903         59.18500\n",
       "CHP_364_04 58.4352078 24.8573757 19.8451508 24.8573757         82.11200\n",
       "CHP_365_01 79.0238234  4.8808832  3.0796049  4.8808832         32.90400\n",
       "CHP_365_02 57.0435019 19.1774244  7.7107120 19.4535372         59.74400\n",
       "CHP_365_03 60.1611496 18.9847181  7.6012422 18.8831905         97.88900\n",
       "CHP_365_04 47.4625426 17.5480758  6.2072057 17.9878803        255.83900\n",
       "CHP_366_01 46.4186965 13.6199086  8.4834289 12.4624092         99.35100\n",
       "CHP_366_03 60.7795213 18.8672417  8.4150106 18.8255292         79.63900\n",
       "CHP_366_05 59.8094270 18.2409913  7.5800275 18.0755913        111.52300\n",
       "CHP_367_01 73.3233979  6.8554396  9.8360656  6.8554396         27.55200\n",
       "CHP_367_02 57.0938392 18.8482822  7.0252614 19.0835484         66.77500\n",
       "CHP_368_01 29.9819657  5.0495942 10.9558161  5.0495942        178.63200\n",
       "CHP_368_05 41.0257454 17.6898423  5.1012344 17.5477759        280.01700\n",
       "CHP_369_01  5.3425519  7.7309868  2.8284098  7.7309868        388.01300\n",
       "CHP_369_02 57.9652786 18.0246276  6.8491566 18.0874885        162.43100\n",
       "CHP_370_01  5.2364865 13.1756757  9.9662162 13.1756757         10.89700\n",
       "CHP_370_02 40.7951053 17.4452140  6.9945642 17.5312723        430.30400\n",
       "CHP_370_03 47.6634682 17.9753359  6.5718026 18.2047903        233.58100\n",
       "CHP_370_05 55.1846898 18.3410133  6.3069552 18.0868440        178.11400\n",
       "CHP_371_01 13.5108481 30.6706114 22.9783037 30.6706114        431.81800\n",
       "CHP_372_01 69.2073171 28.9634146 31.7073171 28.9634146          2.72400\n",
       "CHP_373_01 67.4937965  2.7295285  3.7220844  2.7295285        222.38900\n",
       "CHP_373_03 57.0963313 19.1201747  7.4936750 19.3673158         51.90900\n",
       "CHP_374_03 57.0938392 18.8482822  7.0252614 19.0835484         66.96800\n",
       "CHP_374_04 56.4536731 18.4999677  9.5524887 18.6911776         81.07000\n",
       "CHP_374_05 55.8689228 19.0644002  8.0805499 19.1115210         29.58500\n",
       "CHP_375_02 39.6908806 15.3793189  6.1210998 15.1031654        401.69100\n",
       "CHP_375_05 88.2511816 68.8723835 29.0344362 68.8723835        135.25200\n",
       "CHP_376_02 37.1273258 15.1050581  8.2167352 14.9939550       1011.97000\n",
       "CHP_376_03 41.5652152 17.2638256  6.6512923 17.2641069        384.52000\n",
       "CHP_377_02 41.7285985 17.4170167  5.9092908 17.6029963        315.43500\n",
       "CHP_378_01 27.2443055  3.1710585 12.5949084  3.1710585        457.17000\n",
       "CHP_378_02 58.3553350 18.0142165  7.3953772 18.0501104        166.84100\n",
       "CHP_378_04 52.1008403  9.4537815  7.6470588  9.4537815        169.54500\n",
       "CHP_380_02 57.2858898 19.0694830  7.0586065 19.2820993         62.36300\n",
       "CHP_380_03 55.9995327 19.3372843  8.2894402 19.6103903         50.21400\n",
       "CHP_380_05 55.3196190 19.5257113  8.5750751 19.6666574         46.08700\n",
       "CHP_381_01 33.6225597 11.4967462  8.5321764 11.4967462        455.93500\n",
       "CHP_381_02 40.0188507 15.2890364  6.6193231 14.4151072        458.47500\n",
       "CHP_382_02 55.5455436 19.3176279  8.2764745 20.0005898         16.89400\n",
       "CHP_382_05 37.6388099 13.0597443  9.4924020 12.7334595        484.32800\n",
       "CHP_383_03 60.8403361  5.5462185  1.9047619  5.5462185          1.80900\n",
       "CHP_383_05 41.3597734 21.5297450  9.0651558 21.5297450         25.22300\n",
       "CHP_385_03 78.2126549  1.9569472  6.4905414  1.9569472          2.45500\n",
       "CHP_386_02 56.0351021 17.9368055  7.9399913 17.2981016         22.08100\n",
       "CHP_387_01 83.0571665  4.1425021  9.4449047  4.1425021          4.42900\n",
       "CHP_387_03 28.6926995  6.7911715 12.1816638  6.7911715         38.99600\n",
       "CHP_388_04 56.3315426  9.9002302  0.6907137  9.0983353         61.38900\n",
       "CHP_388_05 57.2858898 19.0694830  7.0586065 19.2820993         62.61500\n",
       "CHP_390_05 32.7214685 15.8020750 10.7342378 15.8020750         92.16100\n",
       "CHP_391_02 72.3941368 10.1384365 11.1970684 10.1384365        440.21500\n",
       "CHP_391_03 68.7250111  1.2883163  1.6437139  1.2883163        573.61000\n",
       "CHP_391_04 56.1732378 20.0395956  8.1014128 20.3634538         25.35500\n",
       "CHP_392_04 60.0980113 18.7536666  7.5266739 18.6275089         91.37600\n",
       "CHP_393_04 51.7060367 22.0472441 10.7611549 22.0472441         28.22500\n",
       "CHP_393_05 39.5140551 15.3417873  9.1045778 14.5963161        468.48200\n",
       "CHP_394_01 31.1377246 11.2574850  8.9820359 11.2574850          1.00000\n",
       "CHP_394_04 47.6298997 32.6800365 41.2032817 32.6800365         56.36300\n",
       "CHP_396_01 90.5683192  1.6928658 17.5735590  1.6928658        229.38000\n",
       "CHP_396_02 52.4374177 26.8115942 19.5652174 26.8115942        188.81400\n",
       "CHP_396_04 38.5898760 14.9571101  9.1622393 14.3273537        480.89800\n",
       "CHP_397_01 78.7916667  1.7083333 18.5416667  1.7083333        145.03900\n",
       "CHP_397_05 95.4887218  5.1048674 41.3138108  5.1048674        470.16000\n",
       "CHP_398_04 43.3820459 27.2233820 12.6513570 27.2233820         38.94700\n",
       "CHP_398_05 81.4516129 20.2903226  7.1290323 20.2903226        351.83500\n",
       "CHP_399_01 77.4801172  0.6278778  2.0929259  0.6278778         23.68300\n",
       "CHP_399_02 30.2947224  2.6045236  4.4551062  2.6045236        672.32800\n",
       "CHP_399_03 96.2287105  1.2165450  2.6358475  1.2165450        275.95300\n",
       "CHP_400_03 93.5341365 26.2650602 15.5823293 26.4523584         55.20100\n",
       "CHP_400_04 76.7167382 37.1781116 15.5579399 37.1781116          9.25300\n",
       "CHP_400_05 57.3156644 19.4258091  8.5202778 19.4268195         24.04400\n",
       "CHP_401_03 75.0000000 26.8121911  4.6128501 25.7447847         65.77400\n",
       "CHP_401_05 55.7321591 18.3293666  6.2785140 17.9170097        178.41100\n",
       "CHP_402_02 95.5770004  0.7237636 13.7112988  2.5851630        167.73100\n",
       "CHP_402_03 22.7272727 33.5319289 19.1853977 36.5512328        231.23700\n",
       "CHP_403_02 58.2150101  5.4766734  4.8681542  5.3958277        262.87000\n",
       "CHP_403_03 42.4242424 11.6883117  7.3593074 11.6883117          7.45600\n",
       "CHP_404_01 63.1578947  9.4736842  4.2105263  9.4736842        267.70700\n",
       "CHP_404_02 74.9379653 13.3995037  3.2258065 11.6720952         75.24300\n",
       "CHP_404_05 36.6874784 14.5769700  8.2230642 14.1062741        607.77500\n",
       "CHP_405_01 22.8941685 20.0863931  9.9352052 20.0863931         37.61000\n",
       "CHP_405_02 32.9584775  5.7093426  8.9100346  5.7093426        279.33800\n",
       "CHP_405_03 56.1281940  4.8938935  6.6262451  4.8938935         73.16400\n",
       "CHP_405_04 40.7951053 17.4452140  6.9945642 17.5312723        430.62600\n",
       "CHP_405_05 59.9405295 18.2330559  7.2389738 18.8345948        130.62600\n",
       "CHP_406_03 55.8599153 19.3982239  8.3889195 20.0142861         37.57100\n",
       "CHP_407_02 34.8082596 29.0771176  4.8883270 29.0771176         40.14500\n",
       "CHP_407_03 15.3586498 61.6877637  2.4472574 61.6877637         23.86900\n",
       "CHP_407_04 40.2072751 17.3498802  6.8030295 17.4698831        440.98700\n",
       "CHP_408_01 21.6355140 12.8037383 10.0467290 12.8037383         10.31200\n",
       "CHP_408_02 29.5198330 27.8079332 24.3841336 27.8079332         47.17200\n",
       "CHP_408_03 12.8315412 34.6953405  8.3154122 34.6953405        573.52200\n",
       "CHP_409_01 25.8402444 27.9790485 12.9201222 27.9790485         86.53000\n",
       "CHP_409_02 69.7879859 15.0176678  5.1236749 15.0176678         22.32900\n",
       "CHP_409_03 53.4839014 18.5353355  8.3230850 19.0652274          9.51500\n",
       "CHP_409_04 57.3873950 18.0399721  7.4993683 17.7334011         57.45000\n",
       "CHP_410_01 56.0000000  0.8000000  1.2000000  0.8000000         45.27300\n",
       "CHP_410_02 55.6246371 19.5257113  8.5750751 19.5779962         44.93500\n",
       "CHP_410_03 39.2947798 17.2222886  5.5784866 17.0863357        272.25900\n",
       "CHP_411_02 16.0000000 22.0000000 14.0000000 22.0000000        838.54500\n",
       "CHP_412_01 56.1165842 19.3125935  7.8577205 19.5579544         42.19900\n",
       "CHP_412_02 41.5247476 17.8045887  5.1025442 17.2461206        286.45600\n",
       "CHP_412_03 56.2903409 19.3764409  8.6507234 19.9856228         21.80500\n",
       "CHP_413_01 86.3979849 21.4609572  2.5188917 21.4609572         27.86100\n",
       "CHP_413_02 70.0990099 10.4950495  7.4059406 10.4950495        185.41200\n",
       "CHP_414_01 54.8115300 19.0608782  8.1351669 19.9643967          5.66800\n",
       "CHP_414_02 27.4786174 13.6409573  8.5663974 12.8566867        592.44500\n",
       "CHP_414_03 70.0990099 10.4950495  7.4059406 10.4950495        377.04900\n",
       "CHP_415_01 60.0827816 19.5121790  8.4346185 19.2244964         93.72000\n",
       "CHP_415_02 58.2752314 18.6694214  7.5118955 18.9032890         58.56700\n",
       "CHP_415_03 72.9596043 10.9233306  7.7081616 10.9233306          9.47000\n",
       "CHP_416_01 41.1285496 17.5325800  6.8885193 17.2954658        347.52200\n",
       "CHP_417_01 53.2437552 18.9815462  8.4806396 19.5311629          5.32000\n",
       "CHP_418_01 60.1221332 18.4584985  7.1390145 18.2817199        106.87000\n",
       "CHP_418_02 77.6247849 12.7366609  8.6058520 12.7366609         55.98800\n",
       "CHP_419_02 88.3211679 11.4355231  4.3795620 11.4355231        117.22200\n",
       "CHP_420_01 96.7233010  5.2996570 12.1413945  5.1234538        416.12400\n",
       "CHP_422_01 52.8340910 15.6436189  9.0059517 13.7566651         42.20900\n",
       "CHP_323_01 55.2627851 17.7639788  7.0027276 17.9143644        174.91991\n",
       "CHP_323_02 40.8034666 12.6612381  6.3090956 11.6943666        245.78881\n",
       "CHP_325_02 45.8790982 13.7029330  8.0018536 12.4226048        111.32558\n",
       "CHP_325_03 53.3620193 13.7779150  8.1932482 12.8798827        115.92051\n",
       "CHP_325_04 58.1909671 17.8509428  7.5924015 17.7718535        157.09082\n",
       "CHP_326_01 58.2216393 18.1158787  6.9988914 18.4823868        139.36727\n",
       "CHP_326_02 56.4469177 17.0631711  9.8958828 16.8154516         80.44987\n",
       "CHP_326_03 54.4712125 17.8687996  6.7455175 17.6941369        173.73792\n",
       "CHP_326_04 43.5678371 13.0946129  6.6023154 11.7397430        196.54325\n",
       "CHP_326_05 45.2545859 13.0723506  7.1760125 11.5882744        184.11490\n",
       "CHP_328_01 55.2627851 17.7639788  7.0027276 17.9143644        174.91991\n",
       "CHP_328_02 52.1077370 13.8314937  8.4150379 12.7977394        110.66911\n",
       "CHP_328_03 41.2859515 12.8805021  6.6613338 12.0922123        297.63420\n",
       "CHP_330_01 75.7488716  4.6368486  2.7492819  4.6368486        146.58236\n",
       "CHP_330_02 34.9278351 21.8556701 11.7525773 21.8556701        291.85001\n",
       "CHP_330_03 22.7941176  9.9264706  4.7794118  9.9264706        235.61915\n",
       "CHP_330_04 20.2898551  8.7761675  1.6103060  8.7761675        234.52490\n",
       "CHP_332_01 61.7971334  9.3715546  7.4145535  9.3715546        162.31620\n",
       "CHP_332_02 57.7611319 18.3757479  9.0179356 19.3069214        119.44025\n",
       "CHP_332_03 44.3700293 32.3147761 10.7994977 32.3147761         80.30944\n",
       "CHP_332_04 58.5714286 37.4675325 47.2727273 37.4675325         51.22787\n",
       "CHP_332_05 61.9918699 19.1869919 21.7479675 19.1869919         75.29459\n",
       "CHP_334_01 58.1856636 17.8360829  7.7845376 17.6885640        167.81907\n",
       "CHP_334_02 44.9921642 14.6237466  7.1696418 13.8705245        179.24926\n",
       "CHP_334_03 52.3327255 14.9720255  7.7845253 13.9018954        157.13553\n",
       "CHP_334_04 59.9941147 19.3973203  7.5248890 19.1187563         94.81090\n",
       "CHP_338_01 51.9080459 13.9071131  8.5837898 12.7612016        106.83095\n",
       "CHP_338_02 53.3420787 13.9372065  8.3745867 13.0401294        100.70368\n",
       "CHP_339_01 57.7335992 19.3292449  7.6318743 19.2437083         94.71448\n",
       "CHP_339_02 54.2433963 17.9372920  7.4906781 17.9848068        162.30922\n",
       "CHP_339_04 52.5071664 14.0035122  7.8133284 13.3993848        127.90759\n",
       "CHP_342_01 40.6645075 13.9151745  9.6166019 13.2527520        477.97844\n",
       "CHP_343_01 79.6778191  7.8893019  5.7001239  7.8893019        134.16346\n",
       "CHP_344_01 54.0204486 17.4154796  8.1250467 17.7436746        142.28175\n",
       "CHP_345_01 52.9290026 17.8276267  7.4864325 17.8525129        114.29791\n",
       "CHP_351_05 15.9188034  7.2649573  2.3504274 24.4123932        317.67923\n",
       "CHP_356_01 94.3154524  1.1609287  1.6012810  1.1609287        247.11598\n",
       "CHP_356_04 63.2115548 30.1614274 11.7813651 30.1614274         44.45551\n",
       "CHP_358_04 40.4275278 12.7250899  6.8003230 11.4679175        231.06723\n",
       "CHP_360_01 57.7335992 19.3292449  7.6318743 19.2437083         94.71448\n",
       "CHP_364_05 31.7130722 27.6545540  4.3416706 27.6545540        134.37596\n",
       "CHP_367_05 30.4852321 19.6202532 15.8227848 19.6202532        301.47725\n",
       "CHP_371_05 56.2282655 18.6067568  7.2188458 18.4327733        100.95605\n",
       "CHP_373_04 82.7908869  3.7021969  2.9292107  3.7021969        142.98779\n",
       "CHP_373_05 66.2462462 38.1981982  5.1051051 38.1981982         79.97083\n",
       "CHP_374_01 41.2660369 13.1873529  6.4313562 12.1204841        247.37778\n",
       "CHP_375_04 47.6190476 27.4725275  3.6630037 27.4725275         64.79197\n",
       "CHP_378_03 55.1075869 17.8093827  7.2459590 17.8621976        158.31529\n",
       "CHP_378_05 94.7143412  1.9043918  1.2825496  1.9043918        194.70448\n",
       "CHP_379_01 41.2660369 13.1873529  6.4313562 12.1204841        247.37778\n",
       "CHP_380_01 54.5339208 17.7868820  8.0577299 18.0069470        119.36115\n",
       "CHP_381_03 58.0909386 18.5355783  6.3607665 17.9538186        144.76170\n",
       "CHP_381_04 57.6575155 18.1280375  7.4063027 18.3723125        138.33751\n",
       "CHP_381_05 58.2282292 17.9062935  7.2767553 17.7504597        148.13919\n",
       "CHP_382_01 49.8081345 13.7754724  8.5102277 13.0151903        142.96307\n",
       "CHP_383_01 17.7083333 21.8750000 22.9166667 21.8750000        419.15933\n",
       "CHP_383_02 56.6488488 18.2654844  7.3810507 18.3064315        105.27436\n",
       "CHP_383_04 77.5401070  8.2887701  1.8716578  8.2887701        194.89356\n",
       "CHP_384_01  3.0079455  3.6322361  1.2485812  3.6322361        206.11211\n",
       "CHP_385_01 97.3862865  1.5614392  1.9348269  0.5770536        202.11108\n",
       "CHP_385_04 55.2186879 21.6202783 17.2962227 21.6202783         85.62208\n",
       "CHP_385_05 31.2418301 53.3333333  4.7058824 53.3333333         84.46893\n",
       "CHP_386_01 25.0000000 75.0000000 25.0000000 75.0000000        115.82303\n",
       "CHP_386_03 80.6083650  9.5057034  4.5627376  9.5057034        108.64612\n",
       "CHP_388_01 53.2508094 14.2441239  8.1583463 13.8160289         98.79814\n",
       "CHP_388_03 15.5881156  2.6862027  4.9654050  2.6862027        228.83576\n",
       "CHP_389_01 39.8019940 12.7487693  6.4717712 11.7301170        255.07051\n",
       "CHP_389_02 56.9844789  6.6518847 14.4863267  6.6518847        216.29183\n",
       "CHP_389_05 29.9258038 43.2811212 36.7683430 43.2811212         74.14773\n",
       "CHP_390_01  6.6914498 47.6662536 37.0508055 47.6662536        184.96684\n",
       "CHP_390_04 43.1084998 12.9969900  7.0541341 11.4804728        181.77467\n",
       "CHP_391_01 15.9014558  1.0078387  1.0078387  1.0078387        292.89157\n",
       "CHP_392_01 34.1463415 12.1951220 12.1951220 12.1951220        242.76370\n",
       "CHP_392_03 72.7950311  2.6086957  7.9089027  2.6086957        151.90439\n",
       "CHP_393_01  9.9043062 19.6650718  7.4162679 19.6650718        416.27657\n",
       "CHP_393_03 43.6363636 22.4242424  3.0303030 22.4242424         97.49149\n",
       "CHP_394_02 73.7359551 15.5898876 10.8146067 15.5898876         99.39090\n",
       "CHP_394_05 27.1186441 55.5932203 13.5593220 55.5932203         68.71483\n",
       "CHP_395_01 43.6230436  0.4662005  3.1302031  0.4662005        219.97941\n",
       "CHP_395_02 95.3647723 10.5199516 23.9016526 32.5272068        144.31505\n",
       "CHP_398_01 62.2065728  4.4600939  8.6854460  4.4600939        146.14222\n",
       "CHP_398_03 95.8117272  0.1595533  2.9517351  0.1595533        204.05527\n",
       "CHP_400_01 63.3333333  9.4444444 16.6666667  9.4444444        159.63376\n",
       "CHP_400_02 43.7297547 28.6904211  9.6714484 28.6904211         64.05032\n",
       "CHP_401_02 57.1428571  1.5873016 11.1111111  1.5873016        202.16671\n",
       "CHP_402_01 35.7259380  0.9787928 12.7243067  0.9787928        246.82045\n",
       "CHP_403_01  7.2222222 15.0000000  2.2222222 15.5583839        387.47827\n",
       "CHP_406_01 52.3327255 14.9720255  7.7845253 13.9018954        156.75919\n",
       "CHP_406_02 70.7865169 29.2134831 22.4719101 29.2134831         93.23754\n",
       "CHP_406_04 58.2477815 17.8519846  7.6293727 17.8124588        162.88359\n",
       "CHP_407_01 13.3393420 28.8418206 14.6462370 28.8418206        248.75266\n",
       "CHP_408_04 24.2673993 18.8186813 16.3003663 18.8186813        379.69763\n",
       "CHP_408_05 16.5652468 33.5361731 20.6220419 33.5361731        330.32059\n",
       "CHP_410_04 71.9038817 12.7541590 13.7707948 12.7541590         95.47391\n",
       "CHP_411_03 46.7632027 31.6865417 31.7291312 31.6865417         80.03386\n",
       "CHP_412_04 91.9886133  6.7100447  6.9133794  6.7100447        181.33204\n",
       "CHP_412_05 17.7108434 54.6987952 29.5180723 54.6987952         95.13287\n",
       "CHP_413_03 65.3575858 11.8230674 11.8230674 11.8230674         57.65752\n",
       "CHP_413_04 28.3177570 28.7850467  4.1121495 28.7850467        143.94029\n",
       "CHP_414_04 30.7311029 11.1111111  2.9739777 11.1111111        203.09807\n",
       "CHP_414_05 16.7087542 14.6043771  0.4629630 14.6043771        258.46195\n",
       "CHP_415_04 59.3404770 18.4781697  6.5535919 18.5274784        138.80237\n",
       "CHP_415_05  0.2881844 81.5561960  2.0172911 81.5561960        136.69201\n",
       "CHP_417_03 18.2534001 12.0973515  2.5769506 12.0973515        279.46057\n",
       "CHP_418_03 37.0084619 25.5599801 24.8133400 25.5599801        101.63774\n",
       "CHP_418_04 80.9150327 15.4697668  8.7194595 13.3512052        107.90201\n",
       "CHP_418_05 64.4555695 18.5231539  2.8368794 18.5231539         89.83286\n",
       "CHP_419_01 52.9948999 13.9071106  8.2481729 13.2051391        126.31267\n",
       "CHP_419_03  7.9365079 42.6303855 18.1405896 42.6303855        248.74518\n",
       "CHP_419_04 88.8276947  5.0354052 48.8591660  5.0354052        171.28595\n",
       "CHP_420_02 88.8540031  3.1397174  2.9434851  3.1397174        114.95530\n",
       "CHP_420_03 89.6400000  5.0400000  5.7600000  5.0400000        121.82272\n",
       "CHP_421_01 72.1854305  2.6490066  2.7731788  2.6490066        183.09562\n",
       "CHP_421_02 90.7578558  4.3622921  3.6968577  4.3622921        108.40489\n",
       "CHP_421_03 88.4492406  4.1167066  5.3956835  4.1167066         98.57994\n",
       "CHP_423_01 52.1757261 14.0430969  8.3062040 12.9820031        105.87796\n",
       "CHP_423_02 54.9100450  2.6986507  4.1604198  2.6986507        152.72526\n",
       "CHP_423_03 26.1273826  9.2980009  3.7192004  9.2980009        236.83652\n",
       "CHP_424_01 72.6525822  1.2910798 13.7323944  1.2910798        220.53086\n",
       "CHP_424_02 80.4616929  6.7915691 11.8768819  6.7915691        117.53741\n",
       "CHP_425_01 41.2844281 13.1893935  7.1288927 12.1460861        251.06299\n",
       "CHP_425_03 26.7902275 18.5762426  2.1482730 18.5762426        438.62744\n",
       "CHP_425_04 47.7446809  8.8510638  7.6595745  8.8510638        157.04194\n",
       "CHP_426_01 64.9705635  9.5458368  7.0227082  9.5458368        151.42995\n",
       "CHP_426_02 67.0906200  5.4054054  2.7821940  5.4054054        173.77785\n",
       "CHP_426_03 63.1956912 53.8599641  5.9245961 53.8599641         93.27634\n",
       "CHP_427_01 48.6443381 12.5996810 16.4274322 12.5996810        143.89766\n",
       "CHP_428_01 37.8795421  2.3892484  5.0771528  2.3892484        401.47191\n",
       "CHP_428_02 16.0789253 44.9202351  1.5952981 44.9202351        217.88625\n",
       "CHP_429_01 24.3604429  0.7636502  0.5345552  0.7636502        262.85500\n",
       "CHP_429_02 59.5670996 13.8095238 17.8787879 13.8095238        121.61047\n",
       "CHP_430_01 72.5951557 17.9238754 11.7647059 17.9238754         91.90172\n",
       "CHP_430_02 79.1336943  9.5793419  1.7492711  9.5793419        164.06985\n",
       "CHP_431_01 18.9102564 15.2644231  6.9711538 15.2644231        372.47999\n",
       "CHP_432_01 33.5827877 15.5753040  4.0692236 15.5753040        315.91532\n",
       "CHP_433_01 73.2459249 13.5719348 13.6782424 13.5719348         83.50876\n",
       "CHP_434_01 56.9070905 19.1320293  1.4975550 19.1320293         86.06380\n",
       "\n",
       "$OOBerror\n",
       "    NRMSE \n",
       "0.7409756 \n"
      ]
     },
     "metadata": {},
     "output_type": "display_data"
    }
   ],
   "source": [
    "head(missforest_mymat)"
   ]
  },
  {
   "cell_type": "code",
   "execution_count": 118,
   "metadata": {
    "vscode": {
     "languageId": "r"
    }
   },
   "outputs": [
    {
     "data": {
      "text/html": [
       "<table class=\"dataframe\">\n",
       "<caption>A data.frame: 6 x 10</caption>\n",
       "<thead>\n",
       "\t<tr><th></th><th scope=col>ATC</th><th scope=col>Naïve%</th><th scope=col>SCM%</th><th scope=col>CM%</th><th scope=col>EM%</th><th scope=col>TE%</th><th scope=col>PD1%</th><th scope=col>LAG3%</th><th scope=col>TIM3%</th><th scope=col>observed_Shannon</th></tr>\n",
       "\t<tr><th></th><th scope=col>&lt;dbl&gt;</th><th scope=col>&lt;dbl&gt;</th><th scope=col>&lt;dbl&gt;</th><th scope=col>&lt;dbl&gt;</th><th scope=col>&lt;dbl&gt;</th><th scope=col>&lt;dbl&gt;</th><th scope=col>&lt;dbl&gt;</th><th scope=col>&lt;dbl&gt;</th><th scope=col>&lt;dbl&gt;</th><th scope=col>&lt;dbl&gt;</th></tr>\n",
       "</thead>\n",
       "<tbody>\n",
       "\t<tr><th scope=row>CHP_319_05</th><td>  0.00</td><td>NA</td><td>NA</td><td>NA</td><td>NA</td><td>NA</td><td>NA</td><td>NA</td><td>NA</td><td> 11.878</td></tr>\n",
       "\t<tr><th scope=row>CHP_323_03</th><td>786.24</td><td>NA</td><td>NA</td><td>NA</td><td>NA</td><td>NA</td><td>NA</td><td>NA</td><td>NA</td><td> 37.722</td></tr>\n",
       "\t<tr><th scope=row>CHP_323_05</th><td>979.50</td><td>NA</td><td>NA</td><td>NA</td><td>NA</td><td>NA</td><td>NA</td><td>NA</td><td>NA</td><td> 81.753</td></tr>\n",
       "\t<tr><th scope=row>CHP_324_05</th><td>  0.00</td><td>NA</td><td>NA</td><td>NA</td><td>NA</td><td>NA</td><td>NA</td><td>NA</td><td>NA</td><td>129.919</td></tr>\n",
       "\t<tr><th scope=row>CHP_328_04</th><td>130.82</td><td>NA</td><td>NA</td><td>NA</td><td>NA</td><td>NA</td><td>NA</td><td>NA</td><td>NA</td><td>223.747</td></tr>\n",
       "\t<tr><th scope=row>CHP_328_05</th><td> 91.16</td><td>NA</td><td>NA</td><td>NA</td><td>NA</td><td>NA</td><td>NA</td><td>NA</td><td>NA</td><td> 87.321</td></tr>\n",
       "</tbody>\n",
       "</table>\n"
      ],
      "text/latex": [
       "A data.frame: 6 x 10\n",
       "\\begin{tabular}{r|llllllllll}\n",
       "  & ATC & Naïve\\% & SCM\\% & CM\\% & EM\\% & TE\\% & PD1\\% & LAG3\\% & TIM3\\% & observed\\_Shannon\\\\\n",
       "  & <dbl> & <dbl> & <dbl> & <dbl> & <dbl> & <dbl> & <dbl> & <dbl> & <dbl> & <dbl>\\\\\n",
       "\\hline\n",
       "\tCHP\\_319\\_05 &   0.00 & NA & NA & NA & NA & NA & NA & NA & NA &  11.878\\\\\n",
       "\tCHP\\_323\\_03 & 786.24 & NA & NA & NA & NA & NA & NA & NA & NA &  37.722\\\\\n",
       "\tCHP\\_323\\_05 & 979.50 & NA & NA & NA & NA & NA & NA & NA & NA &  81.753\\\\\n",
       "\tCHP\\_324\\_05 &   0.00 & NA & NA & NA & NA & NA & NA & NA & NA & 129.919\\\\\n",
       "\tCHP\\_328\\_04 & 130.82 & NA & NA & NA & NA & NA & NA & NA & NA & 223.747\\\\\n",
       "\tCHP\\_328\\_05 &  91.16 & NA & NA & NA & NA & NA & NA & NA & NA &  87.321\\\\\n",
       "\\end{tabular}\n"
      ],
      "text/markdown": [
       "\n",
       "A data.frame: 6 x 10\n",
       "\n",
       "| <!--/--> | ATC &lt;dbl&gt; | Naïve% &lt;dbl&gt; | SCM% &lt;dbl&gt; | CM% &lt;dbl&gt; | EM% &lt;dbl&gt; | TE% &lt;dbl&gt; | PD1% &lt;dbl&gt; | LAG3% &lt;dbl&gt; | TIM3% &lt;dbl&gt; | observed_Shannon &lt;dbl&gt; |\n",
       "|---|---|---|---|---|---|---|---|---|---|---|\n",
       "| CHP_319_05 |   0.00 | NA | NA | NA | NA | NA | NA | NA | NA |  11.878 |\n",
       "| CHP_323_03 | 786.24 | NA | NA | NA | NA | NA | NA | NA | NA |  37.722 |\n",
       "| CHP_323_05 | 979.50 | NA | NA | NA | NA | NA | NA | NA | NA |  81.753 |\n",
       "| CHP_324_05 |   0.00 | NA | NA | NA | NA | NA | NA | NA | NA | 129.919 |\n",
       "| CHP_328_04 | 130.82 | NA | NA | NA | NA | NA | NA | NA | NA | 223.747 |\n",
       "| CHP_328_05 |  91.16 | NA | NA | NA | NA | NA | NA | NA | NA |  87.321 |\n",
       "\n"
      ],
      "text/plain": [
       "           ATC    Naïve% SCM% CM% EM% TE% PD1% LAG3% TIM3% observed_Shannon\n",
       "CHP_319_05   0.00 NA     NA   NA  NA  NA  NA   NA    NA     11.878         \n",
       "CHP_323_03 786.24 NA     NA   NA  NA  NA  NA   NA    NA     37.722         \n",
       "CHP_323_05 979.50 NA     NA   NA  NA  NA  NA   NA    NA     81.753         \n",
       "CHP_324_05   0.00 NA     NA   NA  NA  NA  NA   NA    NA    129.919         \n",
       "CHP_328_04 130.82 NA     NA   NA  NA  NA  NA   NA    NA    223.747         \n",
       "CHP_328_05  91.16 NA     NA   NA  NA  NA  NA   NA    NA     87.321         "
      ]
     },
     "metadata": {},
     "output_type": "display_data"
    }
   ],
   "source": [
    "head(mymat)"
   ]
  },
  {
   "cell_type": "code",
   "execution_count": 119,
   "metadata": {
    "vscode": {
     "languageId": "r"
    }
   },
   "outputs": [],
   "source": [
    "colnames(mymat) <- gsub(\"%\", \"_p\", colnames(mymat))"
   ]
  },
  {
   "cell_type": "code",
   "execution_count": 120,
   "metadata": {
    "vscode": {
     "languageId": "r"
    }
   },
   "outputs": [],
   "source": [
    "colnames(pbmc_hla_v_j_gliph) <- gsub(\"%\", \"_p\", colnames(pbmc_hla_v_j_gliph))"
   ]
  },
  {
   "cell_type": "code",
   "execution_count": null,
   "metadata": {
    "vscode": {
     "languageId": "r"
    }
   },
   "outputs": [],
   "source": [
    "# ipc_r <- prcomp( formula( paste(\"~\", paste(mycols[!grepl(\"TIM3\", mycols)]) ) ),\n",
    "# data = sample_df)"
   ]
  },
  {
   "cell_type": "code",
   "execution_count": 123,
   "metadata": {
    "vscode": {
     "languageId": "r"
    }
   },
   "outputs": [],
   "source": [
    "f1 <- as.formula( paste(\"~\", paste(colnames(mymat), collapse = \"+\") ) )"
   ]
  },
  {
   "cell_type": "code",
   "execution_count": 124,
   "metadata": {
    "vscode": {
     "languageId": "r"
    }
   },
   "outputs": [
    {
     "data": {
      "text/plain": [
       "~ATC + Naïve_p + SCM_p + CM_p + EM_p + TE_p + PD1_p + LAG3_p + \n",
       "    TIM3_p + observed_Shannon"
      ]
     },
     "metadata": {},
     "output_type": "display_data"
    }
   ],
   "source": [
    "f1"
   ]
  },
  {
   "cell_type": "code",
   "execution_count": 138,
   "metadata": {
    "vscode": {
     "languageId": "r"
    }
   },
   "outputs": [],
   "source": [
    "ptrans <- transcan( f1, \n",
    "imputed=TRUE , transformed =TRUE , data= mymat , pl= FALSE , pr= FALSE, iter.max = 100)"
   ]
  },
  {
   "cell_type": "code",
   "execution_count": 139,
   "metadata": {
    "vscode": {
     "languageId": "r"
    }
   },
   "outputs": [],
   "source": [
    "trans <- ptrans$transformed"
   ]
  },
  {
   "cell_type": "code",
   "execution_count": 140,
   "metadata": {
    "vscode": {
     "languageId": "r"
    }
   },
   "outputs": [
    {
     "data": {
      "text/html": [
       "<table class=\"dataframe\">\n",
       "<caption>A matrix: 6 x 10 of type dbl</caption>\n",
       "<thead>\n",
       "\t<tr><th></th><th scope=col>ATC</th><th scope=col>Naïve_p</th><th scope=col>SCM_p</th><th scope=col>CM_p</th><th scope=col>EM_p</th><th scope=col>TE_p</th><th scope=col>PD1_p</th><th scope=col>LAG3_p</th><th scope=col>TIM3_p</th><th scope=col>observed_Shannon</th></tr>\n",
       "</thead>\n",
       "<tbody>\n",
       "\t<tr><th scope=row>CHP_319_05</th><td> 1.0450022</td><td>0.6307584</td><td>0.4300507</td><td>0.4860174</td><td>-0.5569453</td><td>-0.10221271</td><td>0.3236684</td><td>0.4455819</td><td>0.3304039</td><td> 0.0008308402</td></tr>\n",
       "\t<tr><th scope=row>CHP_323_03</th><td>-0.7601212</td><td>0.6333310</td><td>0.4346872</td><td>0.4821680</td><td>-0.5391943</td><td>-0.09771290</td><td>0.2949332</td><td>0.5436462</td><td>0.3022701</td><td>-0.2063050547</td></tr>\n",
       "\t<tr><th scope=row>CHP_323_05</th><td>-0.5274420</td><td>0.6331283</td><td>0.4343581</td><td>0.4824225</td><td>-0.5397003</td><td>-0.09779671</td><td>0.2778562</td><td>0.5340860</td><td>0.2901181</td><td> 0.0999342100</td></tr>\n",
       "\t<tr><th scope=row>CHP_324_05</th><td> 1.0450022</td><td>0.6308669</td><td>0.4281485</td><td>0.4871032</td><td>-0.5571235</td><td>-0.10217620</td><td>0.2600227</td><td>0.4177035</td><td>0.2699306</td><td> 0.1799341276</td></tr>\n",
       "\t<tr><th scope=row>CHP_328_04</th><td>-0.9218362</td><td>0.6340890</td><td>0.4314885</td><td>0.4844563</td><td>-0.5392011</td><td>-0.09747378</td><td>0.2048930</td><td>0.4744958</td><td>0.2020011</td><td>-0.8148596026</td></tr>\n",
       "\t<tr><th scope=row>CHP_328_05</th><td>-0.5305889</td><td>0.6338030</td><td>0.4335700</td><td>0.4834073</td><td>-0.5421760</td><td>-0.09825683</td><td>0.2527702</td><td>0.5243911</td><td>0.2658450</td><td> 0.1487647906</td></tr>\n",
       "</tbody>\n",
       "</table>\n"
      ],
      "text/latex": [
       "A matrix: 6 x 10 of type dbl\n",
       "\\begin{tabular}{r|llllllllll}\n",
       "  & ATC & Naïve\\_p & SCM\\_p & CM\\_p & EM\\_p & TE\\_p & PD1\\_p & LAG3\\_p & TIM3\\_p & observed\\_Shannon\\\\\n",
       "\\hline\n",
       "\tCHP\\_319\\_05 &  1.0450022 & 0.6307584 & 0.4300507 & 0.4860174 & -0.5569453 & -0.10221271 & 0.3236684 & 0.4455819 & 0.3304039 &  0.0008308402\\\\\n",
       "\tCHP\\_323\\_03 & -0.7601212 & 0.6333310 & 0.4346872 & 0.4821680 & -0.5391943 & -0.09771290 & 0.2949332 & 0.5436462 & 0.3022701 & -0.2063050547\\\\\n",
       "\tCHP\\_323\\_05 & -0.5274420 & 0.6331283 & 0.4343581 & 0.4824225 & -0.5397003 & -0.09779671 & 0.2778562 & 0.5340860 & 0.2901181 &  0.0999342100\\\\\n",
       "\tCHP\\_324\\_05 &  1.0450022 & 0.6308669 & 0.4281485 & 0.4871032 & -0.5571235 & -0.10217620 & 0.2600227 & 0.4177035 & 0.2699306 &  0.1799341276\\\\\n",
       "\tCHP\\_328\\_04 & -0.9218362 & 0.6340890 & 0.4314885 & 0.4844563 & -0.5392011 & -0.09747378 & 0.2048930 & 0.4744958 & 0.2020011 & -0.8148596026\\\\\n",
       "\tCHP\\_328\\_05 & -0.5305889 & 0.6338030 & 0.4335700 & 0.4834073 & -0.5421760 & -0.09825683 & 0.2527702 & 0.5243911 & 0.2658450 &  0.1487647906\\\\\n",
       "\\end{tabular}\n"
      ],
      "text/markdown": [
       "\n",
       "A matrix: 6 x 10 of type dbl\n",
       "\n",
       "| <!--/--> | ATC | Naïve_p | SCM_p | CM_p | EM_p | TE_p | PD1_p | LAG3_p | TIM3_p | observed_Shannon |\n",
       "|---|---|---|---|---|---|---|---|---|---|---|\n",
       "| CHP_319_05 |  1.0450022 | 0.6307584 | 0.4300507 | 0.4860174 | -0.5569453 | -0.10221271 | 0.3236684 | 0.4455819 | 0.3304039 |  0.0008308402 |\n",
       "| CHP_323_03 | -0.7601212 | 0.6333310 | 0.4346872 | 0.4821680 | -0.5391943 | -0.09771290 | 0.2949332 | 0.5436462 | 0.3022701 | -0.2063050547 |\n",
       "| CHP_323_05 | -0.5274420 | 0.6331283 | 0.4343581 | 0.4824225 | -0.5397003 | -0.09779671 | 0.2778562 | 0.5340860 | 0.2901181 |  0.0999342100 |\n",
       "| CHP_324_05 |  1.0450022 | 0.6308669 | 0.4281485 | 0.4871032 | -0.5571235 | -0.10217620 | 0.2600227 | 0.4177035 | 0.2699306 |  0.1799341276 |\n",
       "| CHP_328_04 | -0.9218362 | 0.6340890 | 0.4314885 | 0.4844563 | -0.5392011 | -0.09747378 | 0.2048930 | 0.4744958 | 0.2020011 | -0.8148596026 |\n",
       "| CHP_328_05 | -0.5305889 | 0.6338030 | 0.4335700 | 0.4834073 | -0.5421760 | -0.09825683 | 0.2527702 | 0.5243911 | 0.2658450 |  0.1487647906 |\n",
       "\n"
      ],
      "text/plain": [
       "           ATC        Naïve_p   SCM_p     CM_p      EM_p       TE_p       \n",
       "CHP_319_05  1.0450022 0.6307584 0.4300507 0.4860174 -0.5569453 -0.10221271\n",
       "CHP_323_03 -0.7601212 0.6333310 0.4346872 0.4821680 -0.5391943 -0.09771290\n",
       "CHP_323_05 -0.5274420 0.6331283 0.4343581 0.4824225 -0.5397003 -0.09779671\n",
       "CHP_324_05  1.0450022 0.6308669 0.4281485 0.4871032 -0.5571235 -0.10217620\n",
       "CHP_328_04 -0.9218362 0.6340890 0.4314885 0.4844563 -0.5392011 -0.09747378\n",
       "CHP_328_05 -0.5305889 0.6338030 0.4335700 0.4834073 -0.5421760 -0.09825683\n",
       "           PD1_p     LAG3_p    TIM3_p    observed_Shannon\n",
       "CHP_319_05 0.3236684 0.4455819 0.3304039  0.0008308402   \n",
       "CHP_323_03 0.2949332 0.5436462 0.3022701 -0.2063050547   \n",
       "CHP_323_05 0.2778562 0.5340860 0.2901181  0.0999342100   \n",
       "CHP_324_05 0.2600227 0.4177035 0.2699306  0.1799341276   \n",
       "CHP_328_04 0.2048930 0.4744958 0.2020011 -0.8148596026   \n",
       "CHP_328_05 0.2527702 0.5243911 0.2658450  0.1487647906   "
      ]
     },
     "metadata": {},
     "output_type": "display_data"
    }
   ],
   "source": [
    "head(trans)"
   ]
  },
  {
   "cell_type": "code",
   "execution_count": 141,
   "metadata": {
    "vscode": {
     "languageId": "r"
    }
   },
   "outputs": [
    {
     "name": "stdout",
     "output_type": "stream",
     "text": [
      "\n",
      "\n",
      "Imputed missing values with the following frequencies\n",
      " and stored them in variables with their original names:\n",
      "\n",
      "             ATC          Naïve_p            SCM_p             CM_p \n",
      "               3              137              137              137 \n",
      "            EM_p             TE_p            PD1_p           LAG3_p \n",
      "             137              137              142              142 \n",
      "          TIM3_p observed_Shannon \n",
      "             149              137 \n"
     ]
    }
   ],
   "source": [
    "imp <- impute(ptrans , data= mymat, list.out= TRUE)"
   ]
  },
  {
   "cell_type": "code",
   "execution_count": 142,
   "metadata": {
    "vscode": {
     "languageId": "r"
    }
   },
   "outputs": [
    {
     "data": {
      "text/html": [
       "<style>\n",
       ".list-inline {list-style: none; margin:0; padding: 0}\n",
       ".list-inline>li {display: inline-block}\n",
       ".list-inline>li:not(:last-child)::after {content: \"\\00b7\"; padding: 0 .5ex}\n",
       "</style>\n",
       "<ol class=list-inline><li>'ATC'</li><li>'Naïve_p'</li><li>'SCM_p'</li><li>'CM_p'</li><li>'EM_p'</li><li>'TE_p'</li><li>'PD1_p'</li><li>'LAG3_p'</li><li>'TIM3_p'</li><li>'observed_Shannon'</li></ol>\n"
      ],
      "text/latex": [
       "\\begin{enumerate*}\n",
       "\\item 'ATC'\n",
       "\\item 'Naïve\\_p'\n",
       "\\item 'SCM\\_p'\n",
       "\\item 'CM\\_p'\n",
       "\\item 'EM\\_p'\n",
       "\\item 'TE\\_p'\n",
       "\\item 'PD1\\_p'\n",
       "\\item 'LAG3\\_p'\n",
       "\\item 'TIM3\\_p'\n",
       "\\item 'observed\\_Shannon'\n",
       "\\end{enumerate*}\n"
      ],
      "text/markdown": [
       "1. 'ATC'\n",
       "2. 'Naïve_p'\n",
       "3. 'SCM_p'\n",
       "4. 'CM_p'\n",
       "5. 'EM_p'\n",
       "6. 'TE_p'\n",
       "7. 'PD1_p'\n",
       "8. 'LAG3_p'\n",
       "9. 'TIM3_p'\n",
       "10. 'observed_Shannon'\n",
       "\n",
       "\n"
      ],
      "text/plain": [
       " [1] \"ATC\"              \"Naïve_p\"          \"SCM_p\"            \"CM_p\"            \n",
       " [5] \"EM_p\"             \"TE_p\"             \"PD1_p\"            \"LAG3_p\"          \n",
       " [9] \"TIM3_p\"           \"observed_Shannon\""
      ]
     },
     "metadata": {},
     "output_type": "display_data"
    }
   ],
   "source": [
    "names(imp)"
   ]
  },
  {
   "cell_type": "code",
   "execution_count": 143,
   "metadata": {
    "vscode": {
     "languageId": "r"
    }
   },
   "outputs": [],
   "source": [
    "NAvars <- all.vars( as.formula( paste(\"~\", paste(names(imp), collapse = \"+\") ) ))"
   ]
  },
  {
   "cell_type": "code",
   "execution_count": 144,
   "metadata": {
    "vscode": {
     "languageId": "r"
    }
   },
   "outputs": [
    {
     "data": {
      "text/html": [
       "<style>\n",
       ".list-inline {list-style: none; margin:0; padding: 0}\n",
       ".list-inline>li {display: inline-block}\n",
       ".list-inline>li:not(:last-child)::after {content: \"\\00b7\"; padding: 0 .5ex}\n",
       "</style>\n",
       "<ol class=list-inline><li>'ATC'</li><li>'Naïve_p'</li><li>'SCM_p'</li><li>'CM_p'</li><li>'EM_p'</li><li>'TE_p'</li><li>'PD1_p'</li><li>'LAG3_p'</li><li>'TIM3_p'</li><li>'observed_Shannon'</li></ol>\n"
      ],
      "text/latex": [
       "\\begin{enumerate*}\n",
       "\\item 'ATC'\n",
       "\\item 'Naïve\\_p'\n",
       "\\item 'SCM\\_p'\n",
       "\\item 'CM\\_p'\n",
       "\\item 'EM\\_p'\n",
       "\\item 'TE\\_p'\n",
       "\\item 'PD1\\_p'\n",
       "\\item 'LAG3\\_p'\n",
       "\\item 'TIM3\\_p'\n",
       "\\item 'observed\\_Shannon'\n",
       "\\end{enumerate*}\n"
      ],
      "text/markdown": [
       "1. 'ATC'\n",
       "2. 'Naïve_p'\n",
       "3. 'SCM_p'\n",
       "4. 'CM_p'\n",
       "5. 'EM_p'\n",
       "6. 'TE_p'\n",
       "7. 'PD1_p'\n",
       "8. 'LAG3_p'\n",
       "9. 'TIM3_p'\n",
       "10. 'observed_Shannon'\n",
       "\n",
       "\n"
      ],
      "text/plain": [
       " [1] \"ATC\"              \"Naïve_p\"          \"SCM_p\"            \"CM_p\"            \n",
       " [5] \"EM_p\"             \"TE_p\"             \"PD1_p\"            \"LAG3_p\"          \n",
       " [9] \"TIM3_p\"           \"observed_Shannon\""
      ]
     },
     "metadata": {},
     "output_type": "display_data"
    }
   ],
   "source": [
    "NAvars"
   ]
  },
  {
   "cell_type": "code",
   "execution_count": 145,
   "metadata": {
    "vscode": {
     "languageId": "r"
    }
   },
   "outputs": [],
   "source": [
    "imp_pbmc_hla_v_j_gliph <- pbmc_hla_v_j_gliph"
   ]
  },
  {
   "cell_type": "code",
   "execution_count": 146,
   "metadata": {
    "vscode": {
     "languageId": "r"
    }
   },
   "outputs": [],
   "source": [
    "for(x in NAvars ) imp_pbmc_hla_v_j_gliph[[x]] <- imp[[x]]"
   ]
  },
  {
   "cell_type": "code",
   "execution_count": 147,
   "metadata": {
    "vscode": {
     "languageId": "r"
    }
   },
   "outputs": [
    {
     "data": {
      "text/plain": [
       "\n",
       "  0   1 \n",
       "280  54 "
      ]
     },
     "metadata": {},
     "output_type": "display_data"
    }
   ],
   "source": [
    "table(imp_pbmc_hla_v_j_gliph$Relapse)"
   ]
  },
  {
   "cell_type": "code",
   "execution_count": 153,
   "metadata": {
    "vscode": {
     "languageId": "r"
    }
   },
   "outputs": [
    {
     "data": {
      "text/html": [
       "<table class=\"dataframe\">\n",
       "<caption>A matrix: 6 x 10 of type dbl</caption>\n",
       "<thead>\n",
       "\t<tr><th></th><th scope=col>ATC</th><th scope=col>Naïve_p</th><th scope=col>SCM_p</th><th scope=col>CM_p</th><th scope=col>EM_p</th><th scope=col>TE_p</th><th scope=col>PD1_p</th><th scope=col>LAG3_p</th><th scope=col>TIM3_p</th><th scope=col>observed_Shannon</th></tr>\n",
       "</thead>\n",
       "<tbody>\n",
       "\t<tr><th scope=row>CHP_319_05</th><td> 1.0450022</td><td>0.6307584</td><td>0.4300507</td><td>0.4860174</td><td>-0.5569453</td><td>-0.10221271</td><td>0.3236684</td><td>0.4455819</td><td>0.3304039</td><td> 0.0008308402</td></tr>\n",
       "\t<tr><th scope=row>CHP_323_03</th><td>-0.7601212</td><td>0.6333310</td><td>0.4346872</td><td>0.4821680</td><td>-0.5391943</td><td>-0.09771290</td><td>0.2949332</td><td>0.5436462</td><td>0.3022701</td><td>-0.2063050547</td></tr>\n",
       "\t<tr><th scope=row>CHP_323_05</th><td>-0.5274420</td><td>0.6331283</td><td>0.4343581</td><td>0.4824225</td><td>-0.5397003</td><td>-0.09779671</td><td>0.2778562</td><td>0.5340860</td><td>0.2901181</td><td> 0.0999342100</td></tr>\n",
       "\t<tr><th scope=row>CHP_324_05</th><td> 1.0450022</td><td>0.6308669</td><td>0.4281485</td><td>0.4871032</td><td>-0.5571235</td><td>-0.10217620</td><td>0.2600227</td><td>0.4177035</td><td>0.2699306</td><td> 0.1799341276</td></tr>\n",
       "\t<tr><th scope=row>CHP_328_04</th><td>-0.9218362</td><td>0.6340890</td><td>0.4314885</td><td>0.4844563</td><td>-0.5392011</td><td>-0.09747378</td><td>0.2048930</td><td>0.4744958</td><td>0.2020011</td><td>-0.8148596026</td></tr>\n",
       "\t<tr><th scope=row>CHP_328_05</th><td>-0.5305889</td><td>0.6338030</td><td>0.4335700</td><td>0.4834073</td><td>-0.5421760</td><td>-0.09825683</td><td>0.2527702</td><td>0.5243911</td><td>0.2658450</td><td> 0.1487647906</td></tr>\n",
       "</tbody>\n",
       "</table>\n"
      ],
      "text/latex": [
       "A matrix: 6 x 10 of type dbl\n",
       "\\begin{tabular}{r|llllllllll}\n",
       "  & ATC & Naïve\\_p & SCM\\_p & CM\\_p & EM\\_p & TE\\_p & PD1\\_p & LAG3\\_p & TIM3\\_p & observed\\_Shannon\\\\\n",
       "\\hline\n",
       "\tCHP\\_319\\_05 &  1.0450022 & 0.6307584 & 0.4300507 & 0.4860174 & -0.5569453 & -0.10221271 & 0.3236684 & 0.4455819 & 0.3304039 &  0.0008308402\\\\\n",
       "\tCHP\\_323\\_03 & -0.7601212 & 0.6333310 & 0.4346872 & 0.4821680 & -0.5391943 & -0.09771290 & 0.2949332 & 0.5436462 & 0.3022701 & -0.2063050547\\\\\n",
       "\tCHP\\_323\\_05 & -0.5274420 & 0.6331283 & 0.4343581 & 0.4824225 & -0.5397003 & -0.09779671 & 0.2778562 & 0.5340860 & 0.2901181 &  0.0999342100\\\\\n",
       "\tCHP\\_324\\_05 &  1.0450022 & 0.6308669 & 0.4281485 & 0.4871032 & -0.5571235 & -0.10217620 & 0.2600227 & 0.4177035 & 0.2699306 &  0.1799341276\\\\\n",
       "\tCHP\\_328\\_04 & -0.9218362 & 0.6340890 & 0.4314885 & 0.4844563 & -0.5392011 & -0.09747378 & 0.2048930 & 0.4744958 & 0.2020011 & -0.8148596026\\\\\n",
       "\tCHP\\_328\\_05 & -0.5305889 & 0.6338030 & 0.4335700 & 0.4834073 & -0.5421760 & -0.09825683 & 0.2527702 & 0.5243911 & 0.2658450 &  0.1487647906\\\\\n",
       "\\end{tabular}\n"
      ],
      "text/markdown": [
       "\n",
       "A matrix: 6 x 10 of type dbl\n",
       "\n",
       "| <!--/--> | ATC | Naïve_p | SCM_p | CM_p | EM_p | TE_p | PD1_p | LAG3_p | TIM3_p | observed_Shannon |\n",
       "|---|---|---|---|---|---|---|---|---|---|---|\n",
       "| CHP_319_05 |  1.0450022 | 0.6307584 | 0.4300507 | 0.4860174 | -0.5569453 | -0.10221271 | 0.3236684 | 0.4455819 | 0.3304039 |  0.0008308402 |\n",
       "| CHP_323_03 | -0.7601212 | 0.6333310 | 0.4346872 | 0.4821680 | -0.5391943 | -0.09771290 | 0.2949332 | 0.5436462 | 0.3022701 | -0.2063050547 |\n",
       "| CHP_323_05 | -0.5274420 | 0.6331283 | 0.4343581 | 0.4824225 | -0.5397003 | -0.09779671 | 0.2778562 | 0.5340860 | 0.2901181 |  0.0999342100 |\n",
       "| CHP_324_05 |  1.0450022 | 0.6308669 | 0.4281485 | 0.4871032 | -0.5571235 | -0.10217620 | 0.2600227 | 0.4177035 | 0.2699306 |  0.1799341276 |\n",
       "| CHP_328_04 | -0.9218362 | 0.6340890 | 0.4314885 | 0.4844563 | -0.5392011 | -0.09747378 | 0.2048930 | 0.4744958 | 0.2020011 | -0.8148596026 |\n",
       "| CHP_328_05 | -0.5305889 | 0.6338030 | 0.4335700 | 0.4834073 | -0.5421760 | -0.09825683 | 0.2527702 | 0.5243911 | 0.2658450 |  0.1487647906 |\n",
       "\n"
      ],
      "text/plain": [
       "           ATC        Naïve_p   SCM_p     CM_p      EM_p       TE_p       \n",
       "CHP_319_05  1.0450022 0.6307584 0.4300507 0.4860174 -0.5569453 -0.10221271\n",
       "CHP_323_03 -0.7601212 0.6333310 0.4346872 0.4821680 -0.5391943 -0.09771290\n",
       "CHP_323_05 -0.5274420 0.6331283 0.4343581 0.4824225 -0.5397003 -0.09779671\n",
       "CHP_324_05  1.0450022 0.6308669 0.4281485 0.4871032 -0.5571235 -0.10217620\n",
       "CHP_328_04 -0.9218362 0.6340890 0.4314885 0.4844563 -0.5392011 -0.09747378\n",
       "CHP_328_05 -0.5305889 0.6338030 0.4335700 0.4834073 -0.5421760 -0.09825683\n",
       "           PD1_p     LAG3_p    TIM3_p    observed_Shannon\n",
       "CHP_319_05 0.3236684 0.4455819 0.3304039  0.0008308402   \n",
       "CHP_323_03 0.2949332 0.5436462 0.3022701 -0.2063050547   \n",
       "CHP_323_05 0.2778562 0.5340860 0.2901181  0.0999342100   \n",
       "CHP_324_05 0.2600227 0.4177035 0.2699306  0.1799341276   \n",
       "CHP_328_04 0.2048930 0.4744958 0.2020011 -0.8148596026   \n",
       "CHP_328_05 0.2527702 0.5243911 0.2658450  0.1487647906   "
      ]
     },
     "metadata": {},
     "output_type": "display_data"
    }
   ],
   "source": [
    "head(trans)"
   ]
  },
  {
   "cell_type": "code",
   "execution_count": 154,
   "metadata": {
    "vscode": {
     "languageId": "r"
    }
   },
   "outputs": [],
   "source": [
    "myf <- as.formula( paste(\"Relapse ~\", paste( colnames(mymat), collapse = \"+\") ) )"
   ]
  },
  {
   "cell_type": "code",
   "execution_count": 157,
   "metadata": {
    "vscode": {
     "languageId": "r"
    }
   },
   "outputs": [
    {
     "data": {
      "text/html": [
       "<table class=\"dataframe\">\n",
       "<caption>A data.frame: 6 x 8830</caption>\n",
       "<thead>\n",
       "\t<tr><th></th><th scope=col>sample_id</th><th scope=col>Patient</th><th scope=col>cycle</th><th scope=col>FOLD</th><th scope=col>ATC</th><th scope=col>Age</th><th scope=col>Disease_type</th><th scope=col>TE_fold</th><th scope=col>CD3</th><th scope=col>EM</th><th scope=col>...</th><th scope=col>SG_pGE</th><th scope=col>G_pTE</th><th scope=col>G_pSYE</th><th scope=col>S_pP</th><th scope=col>G_pGE</th><th scope=col>S_pG</th><th scope=col>_pYE</th><th scope=col>_pG</th><th scope=col>_pE</th><th scope=col>cyclenum</th></tr>\n",
       "\t<tr><th></th><th scope=col>&lt;chr&gt;</th><th scope=col>&lt;chr&gt;</th><th scope=col>&lt;chr&gt;</th><th scope=col>&lt;dbl&gt;</th><th scope=col>&lt;dbl&gt;</th><th scope=col>&lt;dbl&gt;</th><th scope=col>&lt;chr&gt;</th><th scope=col>&lt;dbl&gt;</th><th scope=col>&lt;int&gt;</th><th scope=col>&lt;int&gt;</th><th scope=col>...</th><th scope=col>&lt;dbl&gt;</th><th scope=col>&lt;dbl&gt;</th><th scope=col>&lt;dbl&gt;</th><th scope=col>&lt;dbl&gt;</th><th scope=col>&lt;dbl&gt;</th><th scope=col>&lt;dbl&gt;</th><th scope=col>&lt;dbl&gt;</th><th scope=col>&lt;dbl&gt;</th><th scope=col>&lt;dbl&gt;</th><th scope=col>&lt;dbl&gt;</th></tr>\n",
       "</thead>\n",
       "<tbody>\n",
       "\t<tr><th scope=row>CHP_319_05</th><td>CHP_319_05</td><td>CHP_319</td><td>X05</td><td>1.2</td><td>  0.00</td><td> 1</td><td>HR ALL</td><td>1.2</td><td>0</td><td>NA</td><td>...</td><td>0</td><td>0</td><td>0</td><td>0</td><td>0</td><td>0</td><td>0</td><td>0</td><td>0</td><td>5</td></tr>\n",
       "\t<tr><th scope=row>CHP_323_03</th><td>CHP_323_03</td><td>CHP_323</td><td>X03</td><td>0.0</td><td>786.24</td><td> 1</td><td>HR ALL</td><td>0.0</td><td>0</td><td>NA</td><td>...</td><td>0</td><td>0</td><td>0</td><td>0</td><td>0</td><td>0</td><td>0</td><td>0</td><td>0</td><td>3</td></tr>\n",
       "\t<tr><th scope=row>CHP_323_05</th><td>CHP_323_05</td><td>CHP_323</td><td>X05</td><td>0.0</td><td>979.50</td><td> 1</td><td>HR ALL</td><td>0.0</td><td>0</td><td>NA</td><td>...</td><td>0</td><td>0</td><td>0</td><td>0</td><td>0</td><td>0</td><td>0</td><td>0</td><td>0</td><td>5</td></tr>\n",
       "\t<tr><th scope=row>CHP_324_05</th><td>CHP_324_05</td><td>CHP_324</td><td>X05</td><td>0.0</td><td>  0.00</td><td>12</td><td>T-ALL </td><td>0.0</td><td>0</td><td>NA</td><td>...</td><td>0</td><td>0</td><td>0</td><td>0</td><td>0</td><td>0</td><td>0</td><td>0</td><td>0</td><td>5</td></tr>\n",
       "\t<tr><th scope=row>CHP_328_04</th><td>CHP_328_04</td><td>CHP_328</td><td>X04</td><td>0.0</td><td>130.82</td><td> 7</td><td>SR ALL</td><td>0.0</td><td>0</td><td>NA</td><td>...</td><td>0</td><td>0</td><td>0</td><td>0</td><td>0</td><td>0</td><td>0</td><td>0</td><td>0</td><td>4</td></tr>\n",
       "\t<tr><th scope=row>CHP_328_05</th><td>CHP_328_05</td><td>CHP_328</td><td>X05</td><td>0.0</td><td> 91.16</td><td> 7</td><td>SR ALL</td><td>0.0</td><td>0</td><td>NA</td><td>...</td><td>0</td><td>0</td><td>0</td><td>0</td><td>0</td><td>0</td><td>0</td><td>0</td><td>0</td><td>5</td></tr>\n",
       "</tbody>\n",
       "</table>\n"
      ],
      "text/latex": [
       "A data.frame: 6 x 8830\n",
       "\\begin{tabular}{r|lllllllllllllllllllll}\n",
       "  & sample\\_id & Patient & cycle & FOLD & ATC & Age & Disease\\_type & TE\\_fold & CD3 & EM & ... & SG\\_pGE & G\\_pTE & G\\_pSYE & S\\_pP & G\\_pGE & S\\_pG & \\_pYE & \\_pG & \\_pE & cyclenum\\\\\n",
       "  & <chr> & <chr> & <chr> & <dbl> & <dbl> & <dbl> & <chr> & <dbl> & <int> & <int> & ... & <dbl> & <dbl> & <dbl> & <dbl> & <dbl> & <dbl> & <dbl> & <dbl> & <dbl> & <dbl>\\\\\n",
       "\\hline\n",
       "\tCHP\\_319\\_05 & CHP\\_319\\_05 & CHP\\_319 & X05 & 1.2 &   0.00 &  1 & HR ALL & 1.2 & 0 & NA & ... & 0 & 0 & 0 & 0 & 0 & 0 & 0 & 0 & 0 & 5\\\\\n",
       "\tCHP\\_323\\_03 & CHP\\_323\\_03 & CHP\\_323 & X03 & 0.0 & 786.24 &  1 & HR ALL & 0.0 & 0 & NA & ... & 0 & 0 & 0 & 0 & 0 & 0 & 0 & 0 & 0 & 3\\\\\n",
       "\tCHP\\_323\\_05 & CHP\\_323\\_05 & CHP\\_323 & X05 & 0.0 & 979.50 &  1 & HR ALL & 0.0 & 0 & NA & ... & 0 & 0 & 0 & 0 & 0 & 0 & 0 & 0 & 0 & 5\\\\\n",
       "\tCHP\\_324\\_05 & CHP\\_324\\_05 & CHP\\_324 & X05 & 0.0 &   0.00 & 12 & T-ALL  & 0.0 & 0 & NA & ... & 0 & 0 & 0 & 0 & 0 & 0 & 0 & 0 & 0 & 5\\\\\n",
       "\tCHP\\_328\\_04 & CHP\\_328\\_04 & CHP\\_328 & X04 & 0.0 & 130.82 &  7 & SR ALL & 0.0 & 0 & NA & ... & 0 & 0 & 0 & 0 & 0 & 0 & 0 & 0 & 0 & 4\\\\\n",
       "\tCHP\\_328\\_05 & CHP\\_328\\_05 & CHP\\_328 & X05 & 0.0 &  91.16 &  7 & SR ALL & 0.0 & 0 & NA & ... & 0 & 0 & 0 & 0 & 0 & 0 & 0 & 0 & 0 & 5\\\\\n",
       "\\end{tabular}\n"
      ],
      "text/markdown": [
       "\n",
       "A data.frame: 6 x 8830\n",
       "\n",
       "| <!--/--> | sample_id &lt;chr&gt; | Patient &lt;chr&gt; | cycle &lt;chr&gt; | FOLD &lt;dbl&gt; | ATC &lt;dbl&gt; | Age &lt;dbl&gt; | Disease_type &lt;chr&gt; | TE_fold &lt;dbl&gt; | CD3 &lt;int&gt; | EM &lt;int&gt; | ... ... | SG_pGE &lt;dbl&gt; | G_pTE &lt;dbl&gt; | G_pSYE &lt;dbl&gt; | S_pP &lt;dbl&gt; | G_pGE &lt;dbl&gt; | S_pG &lt;dbl&gt; | _pYE &lt;dbl&gt; | _pG &lt;dbl&gt; | _pE &lt;dbl&gt; | cyclenum &lt;dbl&gt; |\n",
       "|---|---|---|---|---|---|---|---|---|---|---|---|---|---|---|---|---|---|---|---|---|---|\n",
       "| CHP_319_05 | CHP_319_05 | CHP_319 | X05 | 1.2 |   0.00 |  1 | HR ALL | 1.2 | 0 | NA | ... | 0 | 0 | 0 | 0 | 0 | 0 | 0 | 0 | 0 | 5 |\n",
       "| CHP_323_03 | CHP_323_03 | CHP_323 | X03 | 0.0 | 786.24 |  1 | HR ALL | 0.0 | 0 | NA | ... | 0 | 0 | 0 | 0 | 0 | 0 | 0 | 0 | 0 | 3 |\n",
       "| CHP_323_05 | CHP_323_05 | CHP_323 | X05 | 0.0 | 979.50 |  1 | HR ALL | 0.0 | 0 | NA | ... | 0 | 0 | 0 | 0 | 0 | 0 | 0 | 0 | 0 | 5 |\n",
       "| CHP_324_05 | CHP_324_05 | CHP_324 | X05 | 0.0 |   0.00 | 12 | T-ALL  | 0.0 | 0 | NA | ... | 0 | 0 | 0 | 0 | 0 | 0 | 0 | 0 | 0 | 5 |\n",
       "| CHP_328_04 | CHP_328_04 | CHP_328 | X04 | 0.0 | 130.82 |  7 | SR ALL | 0.0 | 0 | NA | ... | 0 | 0 | 0 | 0 | 0 | 0 | 0 | 0 | 0 | 4 |\n",
       "| CHP_328_05 | CHP_328_05 | CHP_328 | X05 | 0.0 |  91.16 |  7 | SR ALL | 0.0 | 0 | NA | ... | 0 | 0 | 0 | 0 | 0 | 0 | 0 | 0 | 0 | 5 |\n",
       "\n"
      ],
      "text/plain": [
       "           sample_id  Patient cycle FOLD ATC    Age Disease_type TE_fold CD3 EM\n",
       "CHP_319_05 CHP_319_05 CHP_319 X05   1.2    0.00  1  HR ALL       1.2     0   NA\n",
       "CHP_323_03 CHP_323_03 CHP_323 X03   0.0  786.24  1  HR ALL       0.0     0   NA\n",
       "CHP_323_05 CHP_323_05 CHP_323 X05   0.0  979.50  1  HR ALL       0.0     0   NA\n",
       "CHP_324_05 CHP_324_05 CHP_324 X05   0.0    0.00 12  T-ALL        0.0     0   NA\n",
       "CHP_328_04 CHP_328_04 CHP_328 X04   0.0  130.82  7  SR ALL       0.0     0   NA\n",
       "CHP_328_05 CHP_328_05 CHP_328 X05   0.0   91.16  7  SR ALL       0.0     0   NA\n",
       "           ... SG_pGE G_pTE G_pSYE S_pP G_pGE S_pG _pYE _pG _pE cyclenum\n",
       "CHP_319_05 ... 0      0     0      0    0     0    0    0   0   5       \n",
       "CHP_323_03 ... 0      0     0      0    0     0    0    0   0   3       \n",
       "CHP_323_05 ... 0      0     0      0    0     0    0    0   0   5       \n",
       "CHP_324_05 ... 0      0     0      0    0     0    0    0   0   5       \n",
       "CHP_328_04 ... 0      0     0      0    0     0    0    0   0   4       \n",
       "CHP_328_05 ... 0      0     0      0    0     0    0    0   0   5       "
      ]
     },
     "metadata": {},
     "output_type": "display_data"
    }
   ],
   "source": [
    "head(imp_pbmc_hla_v_j_gliph)"
   ]
  },
  {
   "cell_type": "code",
   "execution_count": 158,
   "metadata": {
    "vscode": {
     "languageId": "r"
    }
   },
   "outputs": [],
   "source": [
    "trans_fit <- lrm(Relapse ~ trans, data = imp_pbmc_hla_v_j_gliph)"
   ]
  },
  {
   "cell_type": "code",
   "execution_count": 159,
   "metadata": {
    "vscode": {
     "languageId": "r"
    }
   },
   "outputs": [
    {
     "data": {
      "text/plain": [
       "Logistic Regression Model\n",
       "\n",
       "lrm(formula = Relapse ~ trans, data = imp_pbmc_hla_v_j_gliph)\n",
       "\n",
       "                      Model Likelihood       Discrimination    Rank Discrim.    \n",
       "                            Ratio Test              Indexes          Indexes    \n",
       "Obs           334    LR chi2     25.32       R2       0.124    C       0.680    \n",
       " 0            280    d.f.           10      R2(10,334)0.045    Dxy     0.360    \n",
       " 1             54    Pr(> chi2) 0.0048    R2(10,135.8)0.107    gamma   0.361    \n",
       "max |deriv| 8e-12                            Brier    0.122    tau-a   0.098    \n",
       "\n",
       "                 Coef     S.E.    Wald Z Pr(>|Z|)\n",
       "Intercept         -1.3511  0.2373 -5.69  <0.0001 \n",
       "ATC                0.3944  0.1756  2.25  0.0247  \n",
       "Naïve_p           -1.6052 15.2296 -0.11  0.9161  \n",
       "SCM_p              0.4916  7.3757  0.07  0.9469  \n",
       "CM_p               0.7053 11.8306  0.06  0.9525  \n",
       "EM_p              -0.2859  4.8455 -0.06  0.9529  \n",
       "TE_p               1.6566 19.2202  0.09  0.9313  \n",
       "PD1_p             37.4897 15.6803  2.39  0.0168  \n",
       "LAG3_p             0.0226  0.1815  0.12  0.9008  \n",
       "TIM3_p           -36.7475 15.6116 -2.35  0.0186  \n",
       "observed_Shannon   0.6846  0.2851  2.40  0.0163  \n"
      ]
     },
     "metadata": {},
     "output_type": "display_data"
    }
   ],
   "source": [
    "trans_fit"
   ]
  },
  {
   "cell_type": "code",
   "execution_count": 160,
   "metadata": {
    "vscode": {
     "languageId": "r"
    }
   },
   "outputs": [],
   "source": [
    "myf <- as.formula( paste(\"Relapse ~\", paste( colnames(mymat), collapse = \"+\") ) )"
   ]
  },
  {
   "cell_type": "code",
   "execution_count": 163,
   "metadata": {
    "vscode": {
     "languageId": "r"
    }
   },
   "outputs": [],
   "source": [
    "raw_fit <- lrm( myf, data = imp_pbmc_hla_v_j_gliph ) "
   ]
  },
  {
   "cell_type": "code",
   "execution_count": 164,
   "metadata": {
    "vscode": {
     "languageId": "r"
    }
   },
   "outputs": [
    {
     "data": {
      "text/html": [
       "292.231850965723"
      ],
      "text/latex": [
       "292.231850965723"
      ],
      "text/markdown": [
       "292.231850965723"
      ],
      "text/plain": [
       "[1] 292.2319"
      ]
     },
     "metadata": {},
     "output_type": "display_data"
    },
    {
     "data": {
      "text/html": [
       "302.548381532007"
      ],
      "text/latex": [
       "302.548381532007"
      ],
      "text/markdown": [
       "302.548381532007"
      ],
      "text/plain": [
       "[1] 302.5484"
      ]
     },
     "metadata": {},
     "output_type": "display_data"
    }
   ],
   "source": [
    "AIC(trans_fit)\n",
    "AIC(raw_fit)"
   ]
  },
  {
   "cell_type": "code",
   "execution_count": 169,
   "metadata": {
    "vscode": {
     "languageId": "r"
    }
   },
   "outputs": [],
   "source": [
    "pca_raw <- prcomp( imp_pbmc_hla_v_j_gliph[, colnames(mymat)])$x[,1:5]"
   ]
  },
  {
   "cell_type": "code",
   "execution_count": 182,
   "metadata": {
    "vscode": {
     "languageId": "r"
    }
   },
   "outputs": [
    {
     "data": {
      "image/png": "[encoded data removed]",
      "text/plain": [
       "plot without title"
      ]
     },
     "metadata": {
      "image/png": {
       "height": 420,
       "width": 420
      }
     },
     "output_type": "display_data"
    }
   ],
   "source": [
    "fviz_pca_ind(prcomp( trans[, colnames(mymat)]),\n",
    "     col.ind = as.vector(imp_pbmc_hla_v_j_gliph$cancergroup),\n",
    "    # gradient.cols = c(\"#00AFBB\", \"#E7B800\", \"#FC4E07\"),\n",
    "    # remove labels\n",
    "    label = \"none\",\n",
    "    repel = TRUE, addEllipses = FALSE, mean.point = FALSE\n",
    ")"
   ]
  },
  {
   "cell_type": "code",
   "execution_count": 183,
   "metadata": {
    "vscode": {
     "languageId": "r"
    }
   },
   "outputs": [],
   "source": [
    "pca_trans <- prcomp( trans[, colnames(mymat)])$x[,1:5]"
   ]
  },
  {
   "cell_type": "code",
   "execution_count": 184,
   "metadata": {
    "vscode": {
     "languageId": "r"
    }
   },
   "outputs": [
    {
     "data": {
      "text/html": [
       "<table class=\"dataframe\">\n",
       "<caption>A matrix: 6 x 5 of type dbl</caption>\n",
       "<thead>\n",
       "\t<tr><th></th><th scope=col>PC1</th><th scope=col>PC2</th><th scope=col>PC3</th><th scope=col>PC4</th><th scope=col>PC5</th></tr>\n",
       "</thead>\n",
       "<tbody>\n",
       "\t<tr><th scope=row>CHP_319_05</th><td>0.5401223</td><td> 0.0812415529</td><td>-0.1946104</td><td> 0.77270778</td><td>0.3595410</td></tr>\n",
       "\t<tr><th scope=row>CHP_323_03</th><td>0.5095763</td><td>-0.3202580757</td><td>-0.3878690</td><td>-0.16252943</td><td>0.1344389</td></tr>\n",
       "\t<tr><th scope=row>CHP_323_05</th><td>0.5581015</td><td>-0.0008534011</td><td>-0.3183001</td><td>-0.03965704</td><td>0.1458892</td></tr>\n",
       "\t<tr><th scope=row>CHP_324_05</th><td>0.5062719</td><td> 0.2612002896</td><td>-0.1556392</td><td> 0.78127532</td><td>0.3479664</td></tr>\n",
       "\t<tr><th scope=row>CHP_328_04</th><td>0.2518919</td><td>-0.8985431931</td><td>-0.4752780</td><td>-0.23693364</td><td>0.1489254</td></tr>\n",
       "\t<tr><th scope=row>CHP_328_05</th><td>0.5406522</td><td> 0.0488154566</td><td>-0.3071431</td><td>-0.03569113</td><td>0.1424426</td></tr>\n",
       "</tbody>\n",
       "</table>\n"
      ],
      "text/latex": [
       "A matrix: 6 x 5 of type dbl\n",
       "\\begin{tabular}{r|lllll}\n",
       "  & PC1 & PC2 & PC3 & PC4 & PC5\\\\\n",
       "\\hline\n",
       "\tCHP\\_319\\_05 & 0.5401223 &  0.0812415529 & -0.1946104 &  0.77270778 & 0.3595410\\\\\n",
       "\tCHP\\_323\\_03 & 0.5095763 & -0.3202580757 & -0.3878690 & -0.16252943 & 0.1344389\\\\\n",
       "\tCHP\\_323\\_05 & 0.5581015 & -0.0008534011 & -0.3183001 & -0.03965704 & 0.1458892\\\\\n",
       "\tCHP\\_324\\_05 & 0.5062719 &  0.2612002896 & -0.1556392 &  0.78127532 & 0.3479664\\\\\n",
       "\tCHP\\_328\\_04 & 0.2518919 & -0.8985431931 & -0.4752780 & -0.23693364 & 0.1489254\\\\\n",
       "\tCHP\\_328\\_05 & 0.5406522 &  0.0488154566 & -0.3071431 & -0.03569113 & 0.1424426\\\\\n",
       "\\end{tabular}\n"
      ],
      "text/markdown": [
       "\n",
       "A matrix: 6 x 5 of type dbl\n",
       "\n",
       "| <!--/--> | PC1 | PC2 | PC3 | PC4 | PC5 |\n",
       "|---|---|---|---|---|---|\n",
       "| CHP_319_05 | 0.5401223 |  0.0812415529 | -0.1946104 |  0.77270778 | 0.3595410 |\n",
       "| CHP_323_03 | 0.5095763 | -0.3202580757 | -0.3878690 | -0.16252943 | 0.1344389 |\n",
       "| CHP_323_05 | 0.5581015 | -0.0008534011 | -0.3183001 | -0.03965704 | 0.1458892 |\n",
       "| CHP_324_05 | 0.5062719 |  0.2612002896 | -0.1556392 |  0.78127532 | 0.3479664 |\n",
       "| CHP_328_04 | 0.2518919 | -0.8985431931 | -0.4752780 | -0.23693364 | 0.1489254 |\n",
       "| CHP_328_05 | 0.5406522 |  0.0488154566 | -0.3071431 | -0.03569113 | 0.1424426 |\n",
       "\n"
      ],
      "text/plain": [
       "           PC1       PC2           PC3        PC4         PC5      \n",
       "CHP_319_05 0.5401223  0.0812415529 -0.1946104  0.77270778 0.3595410\n",
       "CHP_323_03 0.5095763 -0.3202580757 -0.3878690 -0.16252943 0.1344389\n",
       "CHP_323_05 0.5581015 -0.0008534011 -0.3183001 -0.03965704 0.1458892\n",
       "CHP_324_05 0.5062719  0.2612002896 -0.1556392  0.78127532 0.3479664\n",
       "CHP_328_04 0.2518919 -0.8985431931 -0.4752780 -0.23693364 0.1489254\n",
       "CHP_328_05 0.5406522  0.0488154566 -0.3071431 -0.03569113 0.1424426"
      ]
     },
     "metadata": {},
     "output_type": "display_data"
    }
   ],
   "source": [
    "head(pca_trans)"
   ]
  },
  {
   "cell_type": "code",
   "execution_count": 171,
   "metadata": {
    "vscode": {
     "languageId": "r"
    }
   },
   "outputs": [],
   "source": [
    "pcaraw_fit <- lrm( Relapse ~ pca_raw, data = imp_pbmc_hla_v_j_gliph ) \n",
    "pcatrans_fit <- lrm(Relapse ~ pca_trans, data = imp_pbmc_hla_v_j_gliph )"
   ]
  },
  {
   "cell_type": "code",
   "execution_count": 172,
   "metadata": {
    "vscode": {
     "languageId": "r"
    }
   },
   "outputs": [
    {
     "data": {
      "text/html": [
       "300.508723977449"
      ],
      "text/latex": [
       "300.508723977449"
      ],
      "text/markdown": [
       "300.508723977449"
      ],
      "text/plain": [
       "[1] 300.5087"
      ]
     },
     "metadata": {},
     "output_type": "display_data"
    },
    {
     "data": {
      "text/html": [
       "301.737471855544"
      ],
      "text/latex": [
       "301.737471855544"
      ],
      "text/markdown": [
       "301.737471855544"
      ],
      "text/plain": [
       "[1] 301.7375"
      ]
     },
     "metadata": {},
     "output_type": "display_data"
    }
   ],
   "source": [
    "AIC(pcaraw_fit)\n",
    "AIC(pcatrans_fit)"
   ]
  },
  {
   "cell_type": "markdown",
   "metadata": {
    "vscode": {
     "languageId": "r"
    }
   },
   "source": [
    "# Backup"
   ]
  },
  {
   "cell_type": "code",
   "execution_count": null,
   "metadata": {
    "vscode": {
     "languageId": "r"
    }
   },
   "outputs": [],
   "source": []
  },
  {
   "cell_type": "code",
   "execution_count": null,
   "metadata": {
    "vscode": {
     "languageId": "r"
    }
   },
   "outputs": [],
   "source": [
    "mymat <- pbmc_hla_v_j_gliph[, c(66,200:270)]\n",
    "mymat <- cbind(mymat, pbmc_hla_v_j_gliph[,c('ATC', 'Naïve%','SCM%','CM%','EM%','TE%','PD1%','LAG3%','TIM3%')])\n",
    "# mymat <- pbmc_hla_v_j_gliph[,c('ATC', 'Naïve%','SCM%','CM%','EM%','TE%','PD1%','LAG3%','TIM3%')]\n",
    "rownames(mymat) <- pbmc_hla_v_j_gliph$sample_id"
   ]
  },
  {
   "cell_type": "code",
   "execution_count": null,
   "metadata": {
    "vscode": {
     "languageId": "r"
    }
   },
   "outputs": [],
   "source": [
    "head(mymat, 10)"
   ]
  },
  {
   "cell_type": "code",
   "execution_count": null,
   "metadata": {
    "vscode": {
     "languageId": "r"
    }
   },
   "outputs": [],
   "source": [
    "# remove rows with all NAs\n",
    "mymat <- mymat[ rowSums(is.na(mymat)) != ncol(mymat), ]\n",
    "# rmeove those with only 0s and NAs\n",
    "mymat <- mymat[ rowSums(mymat, na.rm = TRUE) != 0, ]"
   ]
  },
  {
   "cell_type": "code",
   "execution_count": null,
   "metadata": {
    "vscode": {
     "languageId": "r"
    }
   },
   "outputs": [],
   "source": [
    "# sample_df <- as.data.frame(sample_df)\n",
    "rownames(pbmc_hla_v_j_gliph) <- pbmc_hla_v_j_gliph$sample_id"
   ]
  },
  {
   "cell_type": "code",
   "execution_count": null,
   "metadata": {
    "vscode": {
     "languageId": "r"
    }
   },
   "outputs": [],
   "source": [
    "pbmc_hla_v_j_gliph <- pbmc_hla_v_j_gliph[ rownames(mymat), ]"
   ]
  },
  {
   "cell_type": "code",
   "execution_count": null,
   "metadata": {
    "vscode": {
     "languageId": "r"
    }
   },
   "outputs": [],
   "source": [
    "dim(pbmc_hla_v_j_gliph)"
   ]
  },
  {
   "cell_type": "code",
   "execution_count": null,
   "metadata": {
    "vscode": {
     "languageId": "r"
    }
   },
   "outputs": [],
   "source": [
    "dim(mymat)"
   ]
  },
  {
   "cell_type": "code",
   "execution_count": null,
   "metadata": {
    "vscode": {
     "languageId": "r"
    }
   },
   "outputs": [],
   "source": [
    "pbmc_hla_v_j_gliph <- pbmc_hla_v_j_gliph[ rownames(mymat), ]"
   ]
  },
  {
   "cell_type": "code",
   "execution_count": null,
   "metadata": {
    "vscode": {
     "languageId": "r"
    }
   },
   "outputs": [],
   "source": [
    "pbmc_hla_v_j_gliph$cyclenum <- as.numeric(gsub(\"X0\", \"\", pbmc_hla_v_j_gliph$cycle))"
   ]
  },
  {
   "cell_type": "markdown",
   "metadata": {},
   "source": [
    "# PCA"
   ]
  },
  {
   "cell_type": "code",
   "execution_count": null,
   "metadata": {
    "vscode": {
     "languageId": "r"
    }
   },
   "outputs": [],
   "source": [
    "mymat_narm <- mymat[ rowSums(is.na(mymat)) == 0, ]\n",
    "pbmc_hla_v_j_gliph_narm <- pbmc_hla_v_j_gliph[ rownames(mymat_narm), ]"
   ]
  },
  {
   "cell_type": "code",
   "execution_count": null,
   "metadata": {
    "vscode": {
     "languageId": "r"
    }
   },
   "outputs": [],
   "source": [
    "head(pbmc_hla_v_j_gliph_narm)"
   ]
  },
  {
   "cell_type": "code",
   "execution_count": null,
   "metadata": {
    "vscode": {
     "languageId": "r"
    }
   },
   "outputs": [],
   "source": [
    "myvars <- sort( Rfast::colVars(mymat_narm) , decreasing = TRUE)"
   ]
  },
  {
   "cell_type": "code",
   "execution_count": null,
   "metadata": {
    "vscode": {
     "languageId": "r"
    }
   },
   "outputs": [],
   "source": [
    "mymat_narm <- mymat_narm[ , names(myvars)[ myvars > 0]]"
   ]
  },
  {
   "cell_type": "code",
   "execution_count": null,
   "metadata": {
    "vscode": {
     "languageId": "r"
    }
   },
   "outputs": [],
   "source": [
    "dim(mymat_narm)\n",
    "dim(mymat)\n"
   ]
  },
  {
   "cell_type": "code",
   "execution_count": null,
   "metadata": {
    "vscode": {
     "languageId": "r"
    }
   },
   "outputs": [],
   "source": [
    "#PCA\n",
    "pca <- prcomp(mymat_narm, center = TRUE, scale. = TRUE)"
   ]
  },
  {
   "cell_type": "code",
   "execution_count": null,
   "metadata": {
    "vscode": {
     "languageId": "r"
    }
   },
   "outputs": [],
   "source": [
    "# plot PCA with factoextra\n",
    "viz_pca <- fviz_pca_ind(pca,\n",
    "    col.ind = as.vector(pbmc_hla_v_j_gliph_narm$cancergroup),\n",
    "    # gradient.cols = c(\"#00AFBB\", \"#E7B800\", \"#FC4E07\"),\n",
    "    # remove labels\n",
    "    label = \"none\",\n",
    "    repel = TRUE, addEllipses = FALSE\n",
    ")"
   ]
  },
  {
   "cell_type": "code",
   "execution_count": null,
   "metadata": {
    "vscode": {
     "languageId": "r"
    }
   },
   "outputs": [],
   "source": [
    "viz_pca# + coord_cartesian(xlim = c(-5, 5), ylim = c(-5, 5) )"
   ]
  },
  {
   "cell_type": "code",
   "execution_count": null,
   "metadata": {
    "vscode": {
     "languageId": "r"
    }
   },
   "outputs": [],
   "source": [
    "dim(mymat_narm)"
   ]
  },
  {
   "cell_type": "code",
   "execution_count": null,
   "metadata": {
    "vscode": {
     "languageId": "r"
    }
   },
   "outputs": [],
   "source": [
    "sum( summary(pca)$importance[2,1:5] )"
   ]
  },
  {
   "cell_type": "code",
   "execution_count": null,
   "metadata": {
    "vscode": {
     "languageId": "r"
    }
   },
   "outputs": [],
   "source": [
    "# scree plot\n",
    "fviz_eig(pca)"
   ]
  },
  {
   "cell_type": "code",
   "execution_count": null,
   "metadata": {
    "vscode": {
     "languageId": "r"
    }
   },
   "outputs": [],
   "source": [
    "myx <- pca$x"
   ]
  },
  {
   "cell_type": "code",
   "execution_count": null,
   "metadata": {
    "vscode": {
     "languageId": "r"
    }
   },
   "outputs": [],
   "source": [
    "mydist <- as.matrix(dist(myx[,1:5]))"
   ]
  },
  {
   "cell_type": "code",
   "execution_count": null,
   "metadata": {
    "vscode": {
     "languageId": "r"
    }
   },
   "outputs": [],
   "source": [
    "head(mydist)"
   ]
  },
  {
   "cell_type": "code",
   "execution_count": null,
   "metadata": {
    "vscode": {
     "languageId": "r"
    }
   },
   "outputs": [],
   "source": [
    "# pbmc_hla_v_j_gliph_narm$cyclenum <- as.numeric(gsub(\"X0\", \"\", pbmc_hla_v_j_gliph_narm$cycle))"
   ]
  },
  {
   "cell_type": "code",
   "execution_count": null,
   "metadata": {
    "vscode": {
     "languageId": "r"
    }
   },
   "outputs": [],
   "source": [
    "sample_df_narm <- pbmc_hla_v_j_gliph_narm %>% group_by(Patient) %>% \n",
    "# order cyclenum\n",
    "arrange(cyclenum) %>%\n",
    "ungroup()"
   ]
  },
  {
   "cell_type": "code",
   "execution_count": null,
   "metadata": {
    "vscode": {
     "languageId": "r"
    }
   },
   "outputs": [],
   "source": [
    "pts <- names(which(table(sample_df_narm$Patient) > 1 ))"
   ]
  },
  {
   "cell_type": "code",
   "execution_count": null,
   "metadata": {
    "vscode": {
     "languageId": "r"
    }
   },
   "outputs": [],
   "source": [
    "sample_df_narm$dist <- NA"
   ]
  },
  {
   "cell_type": "code",
   "execution_count": null,
   "metadata": {
    "vscode": {
     "languageId": "r"
    }
   },
   "outputs": [],
   "source": [
    "sample_df_narm <- pbmc_hla_v_j_gliph_narm"
   ]
  },
  {
   "cell_type": "code",
   "execution_count": null,
   "metadata": {
    "vscode": {
     "languageId": "r"
    }
   },
   "outputs": [],
   "source": [
    "for (i in pts) {\n",
    "    tmp <- sample_df_narm[sample_df_narm$Patient == i, ]\n",
    "    # tmp <- tmp[ order(tmp$cyclenum, decreasing = F), ]\n",
    "    distances_df <- mydist[tmp$sample_id, tmp$sample_id]\n",
    "    if (nrow(tmp) == 2) {\n",
    "        mydiff <- diff(tmp$cyclenum)\n",
    "        if (mydiff == 1) {\n",
    "            tmp$dist[2] <- distances_df[tmp$sample_id[1], tmp$sample_id[2]]\n",
    "        }\n",
    "    }\n",
    "    if (nrow(tmp) == 3) {\n",
    "        mydiff <- diff(tmp$cyclenum)\n",
    "        if (mydiff[1] == 1) {\n",
    "            tmp$dist[2] <- distances_df[tmp$sample_id[1], tmp$sample_id[2]]\n",
    "        }\n",
    "        if (mydiff[2] == 1) {\n",
    "            tmp$dist[3] <- distances_df[tmp$sample_id[2], tmp$sample_id[3]]\n",
    "        }\n",
    "    }\n",
    "    if (nrow(tmp) == 4) {\n",
    "        mydiff <- diff(tmp$cyclenum)\n",
    "        if (mydiff[1] == 1) {\n",
    "            tmp$dist[2] <- distances_df[tmp$sample_id[1], tmp$sample_id[2]]\n",
    "        }\n",
    "        if (mydiff[2] == 1) {\n",
    "            tmp$dist[3] <- distances_df[tmp$sample_id[2], tmp$sample_id[3]]\n",
    "        }\n",
    "        if (mydiff[3] == 1) {\n",
    "            tmp$dist[4] <- distances_df[tmp$sample_id[3], tmp$sample_id[4]]\n",
    "        }\n",
    "    }\n",
    "    if (nrow(tmp) == 5) {\n",
    "        mydiff <- diff(tmp$cyclenum)\n",
    "        if (mydiff[1] == 1) {\n",
    "            tmp$dist[2] <- distances_df[tmp$sample_id[1], tmp$sample_id[2]]\n",
    "        }\n",
    "        if (mydiff[2] == 1) {\n",
    "            tmp$dist[3] <- distances_df[tmp$sample_id[2], tmp$sample_id[3]]\n",
    "        }\n",
    "        if (mydiff[3] == 1) {\n",
    "            tmp$dist[4] <- distances_df[tmp$sample_id[3], tmp$sample_id[4]]\n",
    "        }\n",
    "        if (mydiff[4] == 1) {\n",
    "            tmp$dist[5] <- distances_df[tmp$sample_id[4], tmp$sample_id[5]]\n",
    "        }\n",
    "    }\n",
    "    sample_df_narm$dist[sample_df_narm$Patient == i] <- tmp$dist\n",
    "}\n"
   ]
  },
  {
   "cell_type": "code",
   "execution_count": null,
   "metadata": {
    "vscode": {
     "languageId": "r"
    }
   },
   "outputs": [],
   "source": [
    "# sample_df_narm$dist[is.na(sample_df_narm$dist)] <- 0"
   ]
  },
  {
   "cell_type": "code",
   "execution_count": null,
   "metadata": {
    "vscode": {
     "languageId": "r"
    }
   },
   "outputs": [],
   "source": [
    "head(sample_df_narm)"
   ]
  },
  {
   "cell_type": "code",
   "execution_count": null,
   "metadata": {
    "vscode": {
     "languageId": "r"
    }
   },
   "outputs": [],
   "source": [
    "allpts <- as.data.frame(table(sample_df_narm$Patient), stringsAsFactors = F)"
   ]
  },
  {
   "cell_type": "code",
   "execution_count": null,
   "metadata": {
    "vscode": {
     "languageId": "r"
    }
   },
   "outputs": [],
   "source": [
    "# sample_df_narm$Relapse[is.na(sample_df_narm$Relapse)] <- 0"
   ]
  },
  {
   "cell_type": "code",
   "execution_count": null,
   "metadata": {
    "vscode": {
     "languageId": "r"
    }
   },
   "outputs": [],
   "source": [
    "# t.test(sample_df_narm$dist[sample_df_narm$dist != 0] ~ sample_df_narm$Relapse[sample_df_narm$dist != 0])"
   ]
  },
  {
   "cell_type": "code",
   "execution_count": null,
   "metadata": {
    "vscode": {
     "languageId": "r"
    }
   },
   "outputs": [],
   "source": [
    "sample_df_narm[ sample_df_narm$Patient == \"CHP_351\",]"
   ]
  },
  {
   "cell_type": "code",
   "execution_count": null,
   "metadata": {
    "vscode": {
     "languageId": "r"
    }
   },
   "outputs": [],
   "source": [
    "sample_df_narm$dist[ sample_df_narm$dist == 0] <- NA"
   ]
  },
  {
   "cell_type": "code",
   "execution_count": null,
   "metadata": {
    "vscode": {
     "languageId": "r"
    }
   },
   "outputs": [],
   "source": [
    "allpts$sumdist <- NA\n",
    "for(i in 1:nrow(allpts)){\n",
    "    tmp <- as.data.frame(sample_df_narm[ sample_df_narm$Patient == allpts$Var1[i],] )\n",
    "    allpts$sumdist[i] <- sum(tmp[ tmp$dist != 0, \"dist\"], na.rm = T)\n",
    "}"
   ]
  },
  {
   "cell_type": "code",
   "execution_count": null,
   "metadata": {
    "vscode": {
     "languageId": "r"
    }
   },
   "outputs": [],
   "source": [
    "allpts$sumdist_n <- allpts$sumdist / allpts$Freq"
   ]
  },
  {
   "cell_type": "code",
   "execution_count": null,
   "metadata": {
    "vscode": {
     "languageId": "r"
    }
   },
   "outputs": [],
   "source": [
    "head(allpts, 10)"
   ]
  },
  {
   "cell_type": "code",
   "execution_count": null,
   "metadata": {
    "vscode": {
     "languageId": "r"
    }
   },
   "outputs": [],
   "source": [
    "allpts_no0 <- allpts[ allpts$sumdist_n > 0,]"
   ]
  },
  {
   "cell_type": "code",
   "execution_count": null,
   "metadata": {
    "vscode": {
     "languageId": "r"
    }
   },
   "outputs": [],
   "source": [
    "dim(allpts_no0)"
   ]
  },
  {
   "cell_type": "code",
   "execution_count": null,
   "metadata": {
    "vscode": {
     "languageId": "r"
    }
   },
   "outputs": [],
   "source": [
    "mysample_df <- sample_df_narm[ sample_df_narm$Patient %in% allpts_no0$Var1,]"
   ]
  },
  {
   "cell_type": "code",
   "execution_count": null,
   "metadata": {
    "vscode": {
     "languageId": "r"
    }
   },
   "outputs": [],
   "source": [
    "dim(mysample_df)"
   ]
  },
  {
   "cell_type": "code",
   "execution_count": null,
   "metadata": {
    "vscode": {
     "languageId": "r"
    }
   },
   "outputs": [],
   "source": [
    "mypatients <- mysample_df[!duplicated(mysample_df$Patient),]"
   ]
  },
  {
   "cell_type": "code",
   "execution_count": null,
   "metadata": {
    "vscode": {
     "languageId": "r"
    }
   },
   "outputs": [],
   "source": [
    "dim(mypatients)"
   ]
  },
  {
   "cell_type": "code",
   "execution_count": null,
   "metadata": {
    "vscode": {
     "languageId": "r"
    }
   },
   "outputs": [],
   "source": [
    "head(mypatients)"
   ]
  },
  {
   "cell_type": "code",
   "execution_count": null,
   "metadata": {
    "vscode": {
     "languageId": "r"
    }
   },
   "outputs": [],
   "source": [
    "head(allpts_no0)"
   ]
  },
  {
   "cell_type": "code",
   "execution_count": null,
   "metadata": {
    "vscode": {
     "languageId": "r"
    }
   },
   "outputs": [],
   "source": [
    "mypatients$sumdist_n <- allpts_no0$sumdist_n[ match(mypatients$Patient, allpts_no0$Var1)]\n",
    "mypatients$sumdist <- allpts_no0$sumdist[ match(mypatients$Patient, allpts_no0$Var1)]"
   ]
  },
  {
   "cell_type": "code",
   "execution_count": null,
   "metadata": {
    "vscode": {
     "languageId": "r"
    }
   },
   "outputs": [],
   "source": [
    "# tmp$Relapse[ is.na(tmp$Relapse) ] <- 0"
   ]
  },
  {
   "cell_type": "code",
   "execution_count": null,
   "metadata": {
    "vscode": {
     "languageId": "r"
    }
   },
   "outputs": [],
   "source": [
    "dim(mypatients)"
   ]
  },
  {
   "cell_type": "code",
   "execution_count": null,
   "metadata": {
    "vscode": {
     "languageId": "r"
    }
   },
   "outputs": [],
   "source": [
    "head(mypatients, 10)"
   ]
  },
  {
   "cell_type": "code",
   "execution_count": null,
   "metadata": {
    "vscode": {
     "languageId": "r"
    }
   },
   "outputs": [],
   "source": [
    "myfit <- rms::lrm(Relapse ~ sumdist_n, data = mypatients)"
   ]
  },
  {
   "cell_type": "code",
   "execution_count": null,
   "metadata": {
    "vscode": {
     "languageId": "r"
    }
   },
   "outputs": [],
   "source": [
    "print(myfit)"
   ]
  },
  {
   "cell_type": "code",
   "execution_count": null,
   "metadata": {
    "vscode": {
     "languageId": "r"
    }
   },
   "outputs": [],
   "source": [
    "anova(myfit)"
   ]
  },
  {
   "cell_type": "code",
   "execution_count": null,
   "metadata": {
    "vscode": {
     "languageId": "r"
    }
   },
   "outputs": [],
   "source": [
    "mypatients <- mypatients[order(mypatients$sumdist_n),]"
   ]
  },
  {
   "cell_type": "code",
   "execution_count": null,
   "metadata": {
    "vscode": {
     "languageId": "r"
    }
   },
   "outputs": [],
   "source": [
    "makematrix_4hm <- function(df, var, name) {\n",
    "    mymat <- df[[var]]\n",
    "    names(mymat) <- df[[\"Patient\"]]\n",
    "    mymat <- t(as.matrix(mymat))\n",
    "    rownames(mymat) <- name\n",
    "    return(mymat)\n",
    "}"
   ]
  },
  {
   "cell_type": "code",
   "execution_count": null,
   "metadata": {
    "vscode": {
     "languageId": "r"
    }
   },
   "outputs": [],
   "source": [
    "mycohort <- makematrix_4hm(mypatients, \"Disease_type\", \"disease\")\n",
    "mysample <- makematrix_4hm(mypatients, \"cancergroup\", \"cancergroup\")\n",
    "mygroup <- makematrix_4hm(mypatients, \"Relapse\", \"Relapse\")\n",
    "# myatc <- makematrix_4hm(tmp, \"ATC\", \"ATC\")\n",
    "myage <- makematrix_4hm(mypatients, \"Age\", \"Age\")"
   ]
  },
  {
   "cell_type": "code",
   "execution_count": null,
   "metadata": {
    "vscode": {
     "languageId": "r"
    }
   },
   "outputs": [],
   "source": [
    "age_col <- c(\"blue\", \"red\")\n",
    "# atc_col <- c(\"blue\", \"red\")"
   ]
  },
  {
   "cell_type": "code",
   "execution_count": null,
   "metadata": {
    "vscode": {
     "languageId": "r"
    }
   },
   "outputs": [],
   "source": [
    "group_col <- c(\"blue\", \"red\", \"green\")\n",
    "names(group_col) <- names(table(mypatients$Relapse))"
   ]
  },
  {
   "cell_type": "code",
   "execution_count": null,
   "metadata": {
    "vscode": {
     "languageId": "r"
    }
   },
   "outputs": [],
   "source": [
    "# cohort_col <- c(\"blue\", \"red\", \"green\", \"orange\", \"purple\", \"yellow\", \"black\", \"grey\", \"pink\", \n",
    "# \"brown\", \"cyan\", \"magenta\", \"navy\", \"maroon\", \"gray\",\"gold\", \"darkgreen\") \n",
    "# names(cohort_col) <- names(table(allpbmcs$Disease_type))"
   ]
  },
  {
   "cell_type": "code",
   "execution_count": null,
   "metadata": {
    "vscode": {
     "languageId": "r"
    }
   },
   "outputs": [],
   "source": [
    "type_col <- c(\"blue\", \"red\", \"green\", \"orange\", \"purple\")\n",
    "names(type_col) <- names(table(mypatients$cancergroup))"
   ]
  },
  {
   "cell_type": "code",
   "execution_count": null,
   "metadata": {
    "vscode": {
     "languageId": "r"
    }
   },
   "outputs": [],
   "source": [
    "age_hm <- Heatmap(myage, col = age_col,  height = unit(1,\"cm\"))\n",
    "# atc_hm <- Heatmap(myatc, col = atc_col,  height = unit(1,\"cm\"))"
   ]
  },
  {
   "cell_type": "code",
   "execution_count": null,
   "metadata": {
    "vscode": {
     "languageId": "r"
    }
   },
   "outputs": [],
   "source": [
    "cohort_hm <- Heatmap(mycohort, col = cohort_col, height = unit(1,\"cm\"))\n",
    "sample_hm <- Heatmap(mysample, col = type_col, height = unit(1,\"cm\"))\n",
    "group_hm <- Heatmap(mygroup, col = group_col,  height = unit(1,\"cm\"))"
   ]
  },
  {
   "cell_type": "code",
   "execution_count": null,
   "metadata": {
    "vscode": {
     "languageId": "r"
    }
   },
   "outputs": [],
   "source": [
    "# length(unique(sample_df_narm$Patient))"
   ]
  },
  {
   "cell_type": "code",
   "execution_count": null,
   "metadata": {
    "vscode": {
     "languageId": "r"
    }
   },
   "outputs": [],
   "source": [
    "# tail(sample_df_narm[, c(\"sample_id\", \"cycle\", \"dist\")])"
   ]
  },
  {
   "cell_type": "code",
   "execution_count": null,
   "metadata": {
    "vscode": {
     "languageId": "r"
    }
   },
   "outputs": [],
   "source": [
    "# pivot_wider\n",
    " \n",
    "wider_df <- tidyr::pivot_wider(mysample_df, names_from = cycle, values_from = dist, id_cols = Patient) \n",
    "\n",
    "wider_df[ wider_df$Patient == \"CHP_350\",]"
   ]
  },
  {
   "cell_type": "code",
   "execution_count": null,
   "metadata": {
    "vscode": {
     "languageId": "r"
    }
   },
   "outputs": [],
   "source": [
    "wider_df <- as.data.frame(wider_df)\n",
    "rownames(wider_df) <- wider_df$Patient\n",
    "wider_df$Patient <- NULL\n",
    "wider_df$X01 <- NULL"
   ]
  },
  {
   "cell_type": "code",
   "execution_count": null,
   "metadata": {
    "vscode": {
     "languageId": "r"
    }
   },
   "outputs": [],
   "source": [
    "head(wider_df)"
   ]
  },
  {
   "cell_type": "code",
   "execution_count": null,
   "metadata": {
    "vscode": {
     "languageId": "r"
    }
   },
   "outputs": [],
   "source": [
    "hm1 <- Heatmap(t(scale(wider_df)), cluster_columns = F, name = \"dists\")"
   ]
  },
  {
   "cell_type": "code",
   "execution_count": null,
   "metadata": {
    "vscode": {
     "languageId": "r"
    }
   },
   "outputs": [],
   "source": [
    "dim(wider_df)"
   ]
  },
  {
   "cell_type": "code",
   "execution_count": null,
   "metadata": {
    "vscode": {
     "languageId": "r"
    }
   },
   "outputs": [],
   "source": [
    "hm <- Heatmap(t(scale(mypatients$sumdist_n)), cluster_columns = F)"
   ]
  },
  {
   "cell_type": "code",
   "execution_count": null,
   "metadata": {
    "vscode": {
     "languageId": "r"
    }
   },
   "outputs": [],
   "source": [
    "dim(mypatients)"
   ]
  },
  {
   "cell_type": "code",
   "execution_count": null,
   "metadata": {
    "vscode": {
     "languageId": "r"
    }
   },
   "outputs": [],
   "source": [
    "hm %v% hm1 %v% sample_hm %v% group_hm %v% age_hm "
   ]
  },
  {
   "cell_type": "code",
   "execution_count": null,
   "metadata": {
    "vscode": {
     "languageId": "r"
    }
   },
   "outputs": [],
   "source": [
    "ls()"
   ]
  },
  {
   "cell_type": "code",
   "execution_count": null,
   "metadata": {
    "vscode": {
     "languageId": "r"
    }
   },
   "outputs": [],
   "source": [
    "rm(tmp, wider_df, pts, myx, mysample, mysample_df, allpts, allpts_no0, distances_df, hm, hm1, i, mydiff, mydist, myfit, mymat_narm, pca, sample_df_narm)"
   ]
  }
 ],
 "metadata": {
  "kernelspec": {
   "display_name": "R 4.0",
   "language": "R",
   "name": "ir40"
  },
  "language_info": {
   "codemirror_mode": "r",
   "file_extension": ".r",
   "mimetype": "text/x-r-source",
   "name": "R",
   "pygments_lexer": "r",
   "version": "4.2.2"
  },
  "toc": {
   "base_numbering": 1,
   "nav_menu": {},
   "number_sections": false,
   "sideBar": true,
   "skip_h1_title": false,
   "title_cell": "Table of Contents",
   "title_sidebar": "Contents",
   "toc_cell": true,
   "toc_position": {
    "height": "calc(100% - 180px)",
    "left": "10px",
    "top": "150px",
    "width": "186.15px"
   },
   "toc_section_display": true,
   "toc_window_display": true
  }
 },
 "nbformat": 4,
 "nbformat_minor": 2
}

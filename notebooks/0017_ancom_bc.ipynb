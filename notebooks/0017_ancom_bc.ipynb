{
 "cells": [
  {
   "attachments": {},
   "cell_type": "markdown",
   "metadata": {},
   "source": [
    "# Dependencies"
   ]
  },
  {
   "cell_type": "code",
   "execution_count": 1,
   "metadata": {
    "vscode": {
     "languageId": "r"
    }
   },
   "outputs": [],
   "source": [
    "pacman::p_load(\n",
    "    ggpubr,\n",
    "    igraph, graphlayouts, ggraph, ggforce, dplyr, \n",
    "    ggplot2, GUniFrac, ggsignif,\n",
    "    dendextend, ComplexHeatmap, ANCOMBC, \n",
    "    TreeSummarizedExperiment, lsmeans, factoextra\n",
    ")\n"
   ]
  },
  {
   "attachments": {},
   "cell_type": "markdown",
   "metadata": {},
   "source": [
    "# Functions"
   ]
  },
  {
   "cell_type": "code",
   "execution_count": 2,
   "metadata": {
    "vscode": {
     "languageId": "r"
    }
   },
   "outputs": [],
   "source": [
    "source(\"/Users/anabbi/git/ped_CapTCRseq/R/ggplot2_theme.R\")\n",
    "source(\"/Users/anabbi/git/ped_CapTCRseq/R/color_schemes.R\")\n",
    "source(\"/Users/anabbi/git/ped_CapTCRseq/R/Misc_functions.R\")"
   ]
  },
  {
   "attachments": {},
   "cell_type": "markdown",
   "metadata": {},
   "source": [
    "# Paths"
   ]
  },
  {
   "cell_type": "code",
   "execution_count": 3,
   "metadata": {
    "vscode": {
     "languageId": "r"
    }
   },
   "outputs": [],
   "source": [
    "datapath <- \"/Users/anabbi/OneDrive - UHN/Documents/INTERCEPT/Data/\"\n",
    "plotpath <- \"/Users/anabbi/OneDrive - UHN/Documents/INTERCEPT/Plots/\"\n",
    "manifestpath <- \"/Users/anabbi/OneDrive - UHN/Documents/INTERCEPT/Manifests/\"\n",
    "gitpath <- \"/Users/anabbi/git/ped_CapTCRseq/\""
   ]
  },
  {
   "cell_type": "code",
   "execution_count": 4,
   "metadata": {
    "vscode": {
     "languageId": "r"
    }
   },
   "outputs": [],
   "source": [
    "h4hpath <- \"/Users/anabbi/Desktop/H4H/INTERCEPT/analysis/GLIPH/run_gliph/\""
   ]
  },
  {
   "attachments": {},
   "cell_type": "markdown",
   "metadata": {},
   "source": [
    "# Main"
   ]
  },
  {
   "cell_type": "code",
   "execution_count": 5,
   "metadata": {
    "vscode": {
     "languageId": "r"
    }
   },
   "outputs": [],
   "source": [
    "# based on v5 gliph run"
   ]
  },
  {
   "cell_type": "code",
   "execution_count": 6,
   "metadata": {
    "vscode": {
     "languageId": "r"
    }
   },
   "outputs": [],
   "source": [
    "meta_div <- readr::read_rds(paste0(datapath, \"capTCRseq/meta_div_goodsamples.rds\"))"
   ]
  },
  {
   "cell_type": "code",
   "execution_count": 7,
   "metadata": {
    "vscode": {
     "languageId": "r"
    }
   },
   "outputs": [],
   "source": [
    "#remove those samples that we did not have the TCRseq data for\n",
    "meta_div <- meta_div[!is.na(meta_div$TRB),]"
   ]
  },
  {
   "cell_type": "code",
   "execution_count": 8,
   "metadata": {
    "vscode": {
     "languageId": "r"
    }
   },
   "outputs": [],
   "source": [
    "gliph_out <- readr::read_rds(file = paste0(datapath, \"GLIPH/int_gliph_v5_cleaned.rds\"))"
   ]
  },
  {
   "cell_type": "code",
   "execution_count": 9,
   "metadata": {
    "vscode": {
     "languageId": "r"
    }
   },
   "outputs": [],
   "source": [
    "samples_tcr <- readr::read_rds(file = paste0(datapath, \"GLIPH/int_samples_gliphannot_stat.rds\"))\n",
    "gliphdf <- readr::read_rds(file = paste0(datapath, \"GLIPH/gliphannot_stat.rds\"))"
   ]
  },
  {
   "cell_type": "code",
   "execution_count": 10,
   "metadata": {
    "vscode": {
     "languageId": "r"
    }
   },
   "outputs": [
    {
     "data": {
      "text/html": [
       "<table class=\"dataframe\">\n",
       "<caption>A data.frame: 6 x 13</caption>\n",
       "<thead>\n",
       "\t<tr><th></th><th scope=col>gliph</th><th scope=col>CMV</th><th scope=col>EBV</th><th scope=col>HCV</th><th scope=col>Influenza</th><th scope=col>HomoSapiens</th><th scope=col>MDavis</th><th scope=col>HPV</th><th scope=col>CEF</th><th scope=col>TB</th><th scope=col>MCPyV</th><th scope=col>S-pneumoniae</th><th scope=col>n_unique_cdr3</th></tr>\n",
       "\t<tr><th></th><th scope=col>&lt;chr&gt;</th><th scope=col>&lt;dbl&gt;</th><th scope=col>&lt;dbl&gt;</th><th scope=col>&lt;dbl&gt;</th><th scope=col>&lt;dbl&gt;</th><th scope=col>&lt;dbl&gt;</th><th scope=col>&lt;dbl&gt;</th><th scope=col>&lt;dbl&gt;</th><th scope=col>&lt;dbl&gt;</th><th scope=col>&lt;dbl&gt;</th><th scope=col>&lt;dbl&gt;</th><th scope=col>&lt;dbl&gt;</th><th scope=col>&lt;dbl&gt;</th></tr>\n",
       "</thead>\n",
       "<tbody>\n",
       "\t<tr><th scope=row>SLG%E</th><td>SLG%E  </td><td>0</td><td>0</td><td>0</td><td>0</td><td>0</td><td>39</td><td>0</td><td>0</td><td>0</td><td>0</td><td>0</td><td>50</td></tr>\n",
       "\t<tr><th scope=row>S%GGNTE</th><td>S%GGNTE</td><td>0</td><td>0</td><td>0</td><td>0</td><td>1</td><td>40</td><td>0</td><td>0</td><td>0</td><td>0</td><td>0</td><td>41</td></tr>\n",
       "\t<tr><th scope=row>GIWV</th><td>GIWV   </td><td>0</td><td>0</td><td>0</td><td>0</td><td>0</td><td> 0</td><td>0</td><td>0</td><td>0</td><td>0</td><td>0</td><td>82</td></tr>\n",
       "\t<tr><th scope=row>IWV</th><td>IWV    </td><td>0</td><td>0</td><td>0</td><td>0</td><td>1</td><td> 0</td><td>0</td><td>0</td><td>0</td><td>0</td><td>0</td><td>97</td></tr>\n",
       "\t<tr><th scope=row>WVYE</th><td>WVYE   </td><td>0</td><td>0</td><td>0</td><td>0</td><td>0</td><td> 0</td><td>0</td><td>0</td><td>0</td><td>0</td><td>0</td><td>98</td></tr>\n",
       "\t<tr><th scope=row>IWVY</th><td>IWVY   </td><td>0</td><td>0</td><td>0</td><td>0</td><td>0</td><td> 0</td><td>0</td><td>0</td><td>0</td><td>0</td><td>0</td><td>95</td></tr>\n",
       "</tbody>\n",
       "</table>\n"
      ],
      "text/latex": [
       "A data.frame: 6 x 13\n",
       "\\begin{tabular}{r|lllllllllllll}\n",
       "  & gliph & CMV & EBV & HCV & Influenza & HomoSapiens & MDavis & HPV & CEF & TB & MCPyV & S-pneumoniae & n\\_unique\\_cdr3\\\\\n",
       "  & <chr> & <dbl> & <dbl> & <dbl> & <dbl> & <dbl> & <dbl> & <dbl> & <dbl> & <dbl> & <dbl> & <dbl> & <dbl>\\\\\n",
       "\\hline\n",
       "\tSLG\\%E & SLG\\%E   & 0 & 0 & 0 & 0 & 0 & 39 & 0 & 0 & 0 & 0 & 0 & 50\\\\\n",
       "\tS\\%GGNTE & S\\%GGNTE & 0 & 0 & 0 & 0 & 1 & 40 & 0 & 0 & 0 & 0 & 0 & 41\\\\\n",
       "\tGIWV & GIWV    & 0 & 0 & 0 & 0 & 0 &  0 & 0 & 0 & 0 & 0 & 0 & 82\\\\\n",
       "\tIWV & IWV     & 0 & 0 & 0 & 0 & 1 &  0 & 0 & 0 & 0 & 0 & 0 & 97\\\\\n",
       "\tWVYE & WVYE    & 0 & 0 & 0 & 0 & 0 &  0 & 0 & 0 & 0 & 0 & 0 & 98\\\\\n",
       "\tIWVY & IWVY    & 0 & 0 & 0 & 0 & 0 &  0 & 0 & 0 & 0 & 0 & 0 & 95\\\\\n",
       "\\end{tabular}\n"
      ],
      "text/markdown": [
       "\n",
       "A data.frame: 6 x 13\n",
       "\n",
       "| <!--/--> | gliph &lt;chr&gt; | CMV &lt;dbl&gt; | EBV &lt;dbl&gt; | HCV &lt;dbl&gt; | Influenza &lt;dbl&gt; | HomoSapiens &lt;dbl&gt; | MDavis &lt;dbl&gt; | HPV &lt;dbl&gt; | CEF &lt;dbl&gt; | TB &lt;dbl&gt; | MCPyV &lt;dbl&gt; | S-pneumoniae &lt;dbl&gt; | n_unique_cdr3 &lt;dbl&gt; |\n",
       "|---|---|---|---|---|---|---|---|---|---|---|---|---|---|\n",
       "| SLG%E | SLG%E   | 0 | 0 | 0 | 0 | 0 | 39 | 0 | 0 | 0 | 0 | 0 | 50 |\n",
       "| S%GGNTE | S%GGNTE | 0 | 0 | 0 | 0 | 1 | 40 | 0 | 0 | 0 | 0 | 0 | 41 |\n",
       "| GIWV | GIWV    | 0 | 0 | 0 | 0 | 0 |  0 | 0 | 0 | 0 | 0 | 0 | 82 |\n",
       "| IWV | IWV     | 0 | 0 | 0 | 0 | 1 |  0 | 0 | 0 | 0 | 0 | 0 | 97 |\n",
       "| WVYE | WVYE    | 0 | 0 | 0 | 0 | 0 |  0 | 0 | 0 | 0 | 0 | 0 | 98 |\n",
       "| IWVY | IWVY    | 0 | 0 | 0 | 0 | 0 |  0 | 0 | 0 | 0 | 0 | 0 | 95 |\n",
       "\n"
      ],
      "text/plain": [
       "        gliph   CMV EBV HCV Influenza HomoSapiens MDavis HPV CEF TB MCPyV\n",
       "SLG%E   SLG%E   0   0   0   0         0           39     0   0   0  0    \n",
       "S%GGNTE S%GGNTE 0   0   0   0         1           40     0   0   0  0    \n",
       "GIWV    GIWV    0   0   0   0         0            0     0   0   0  0    \n",
       "IWV     IWV     0   0   0   0         1            0     0   0   0  0    \n",
       "WVYE    WVYE    0   0   0   0         0            0     0   0   0  0    \n",
       "IWVY    IWVY    0   0   0   0         0            0     0   0   0  0    \n",
       "        S-pneumoniae n_unique_cdr3\n",
       "SLG%E   0            50           \n",
       "S%GGNTE 0            41           \n",
       "GIWV    0            82           \n",
       "IWV     0            97           \n",
       "WVYE    0            98           \n",
       "IWVY    0            95           "
      ]
     },
     "metadata": {},
     "output_type": "display_data"
    }
   ],
   "source": [
    "head(gliphdf)"
   ]
  },
  {
   "cell_type": "code",
   "execution_count": 11,
   "metadata": {
    "vscode": {
     "languageId": "r"
    }
   },
   "outputs": [
    {
     "data": {
      "text/html": [
       "<table class=\"dataframe\">\n",
       "<caption>A data.frame: 6 x 22</caption>\n",
       "<thead>\n",
       "\t<tr><th></th><th scope=col>CMV</th><th scope=col>EBV</th><th scope=col>HCV</th><th scope=col>Influenza</th><th scope=col>HomoSapiens</th><th scope=col>MDavis</th><th scope=col>HPV</th><th scope=col>CEF</th><th scope=col>TB</th><th scope=col>MCPyV</th><th scope=col>...</th><th scope=col>cdr3_reads</th><th scope=col>n_gliph</th><th scope=col>n_cdr3ingliph</th><th scope=col>cdr3reads_ingliph</th><th scope=col>cancergroup</th><th scope=col>cycle</th><th scope=col>sampletype</th><th scope=col>cyclenum</th><th scope=col>Patient</th><th scope=col>Age</th></tr>\n",
       "\t<tr><th></th><th scope=col>&lt;dbl&gt;</th><th scope=col>&lt;dbl&gt;</th><th scope=col>&lt;dbl&gt;</th><th scope=col>&lt;dbl&gt;</th><th scope=col>&lt;dbl&gt;</th><th scope=col>&lt;dbl&gt;</th><th scope=col>&lt;dbl&gt;</th><th scope=col>&lt;dbl&gt;</th><th scope=col>&lt;dbl&gt;</th><th scope=col>&lt;dbl&gt;</th><th scope=col>...</th><th scope=col>&lt;int&gt;</th><th scope=col>&lt;dbl&gt;</th><th scope=col>&lt;int&gt;</th><th scope=col>&lt;dbl&gt;</th><th scope=col>&lt;chr&gt;</th><th scope=col>&lt;chr&gt;</th><th scope=col>&lt;chr&gt;</th><th scope=col>&lt;dbl&gt;</th><th scope=col>&lt;chr&gt;</th><th scope=col>&lt;dbl&gt;</th></tr>\n",
       "</thead>\n",
       "<tbody>\n",
       "\t<tr><th scope=row>Leukemia:CHP_319_X05-PBMC</th><td>0</td><td>0</td><td>0</td><td>0</td><td>0</td><td> 2</td><td>0</td><td>0</td><td>0</td><td>0</td><td>...</td><td>   79</td><td> 3</td><td> 3</td><td>    9</td><td>Leukemia</td><td>X05</td><td>PBMC </td><td>5</td><td>CHP_319</td><td>1</td></tr>\n",
       "\t<tr><th scope=row>Leukemia:CHP_323_X03-PBMC</th><td>2</td><td>0</td><td>1</td><td>0</td><td>0</td><td>16</td><td>0</td><td>0</td><td>0</td><td>1</td><td>...</td><td> 3175</td><td>21</td><td>12</td><td> 1537</td><td>Leukemia</td><td>X03</td><td>PBMC </td><td>3</td><td>CHP_323</td><td>1</td></tr>\n",
       "\t<tr><th scope=row>Leukemia:CHP_323_X03-cfDNA</th><td>2</td><td>0</td><td>0</td><td>0</td><td>4</td><td>33</td><td>0</td><td>0</td><td>0</td><td>0</td><td>...</td><td>81588</td><td>49</td><td>25</td><td>51235</td><td>Leukemia</td><td>X03</td><td>cfDNA</td><td>3</td><td>CHP_323</td><td>1</td></tr>\n",
       "\t<tr><th scope=row>Leukemia:CHP_323_X05-PBMC</th><td>1</td><td>0</td><td>0</td><td>0</td><td>2</td><td>47</td><td>0</td><td>0</td><td>0</td><td>1</td><td>...</td><td> 2020</td><td>71</td><td>36</td><td>  777</td><td>Leukemia</td><td>X05</td><td>PBMC </td><td>5</td><td>CHP_323</td><td>1</td></tr>\n",
       "\t<tr><th scope=row>Leukemia:CHP_323_X05-cfDNA</th><td>0</td><td>0</td><td>0</td><td>0</td><td>0</td><td> 4</td><td>0</td><td>0</td><td>0</td><td>0</td><td>...</td><td> 4938</td><td> 6</td><td> 2</td><td> 3273</td><td>Leukemia</td><td>X05</td><td>cfDNA</td><td>5</td><td>CHP_323</td><td>1</td></tr>\n",
       "\t<tr><th scope=row>Leukemia:CHP_326_X05-cfDNA</th><td>0</td><td>0</td><td>3</td><td>0</td><td>0</td><td> 5</td><td>0</td><td>0</td><td>0</td><td>0</td><td>...</td><td>18584</td><td> 8</td><td> 4</td><td> 7553</td><td>Leukemia</td><td>X05</td><td>cfDNA</td><td>5</td><td>CHP_326</td><td>4</td></tr>\n",
       "</tbody>\n",
       "</table>\n"
      ],
      "text/latex": [
       "A data.frame: 6 x 22\n",
       "\\begin{tabular}{r|lllllllllllllllllllll}\n",
       "  & CMV & EBV & HCV & Influenza & HomoSapiens & MDavis & HPV & CEF & TB & MCPyV & ... & cdr3\\_reads & n\\_gliph & n\\_cdr3ingliph & cdr3reads\\_ingliph & cancergroup & cycle & sampletype & cyclenum & Patient & Age\\\\\n",
       "  & <dbl> & <dbl> & <dbl> & <dbl> & <dbl> & <dbl> & <dbl> & <dbl> & <dbl> & <dbl> & ... & <int> & <dbl> & <int> & <dbl> & <chr> & <chr> & <chr> & <dbl> & <chr> & <dbl>\\\\\n",
       "\\hline\n",
       "\tLeukemia:CHP\\_319\\_X05-PBMC & 0 & 0 & 0 & 0 & 0 &  2 & 0 & 0 & 0 & 0 & ... &    79 &  3 &  3 &     9 & Leukemia & X05 & PBMC  & 5 & CHP\\_319 & 1\\\\\n",
       "\tLeukemia:CHP\\_323\\_X03-PBMC & 2 & 0 & 1 & 0 & 0 & 16 & 0 & 0 & 0 & 1 & ... &  3175 & 21 & 12 &  1537 & Leukemia & X03 & PBMC  & 3 & CHP\\_323 & 1\\\\\n",
       "\tLeukemia:CHP\\_323\\_X03-cfDNA & 2 & 0 & 0 & 0 & 4 & 33 & 0 & 0 & 0 & 0 & ... & 81588 & 49 & 25 & 51235 & Leukemia & X03 & cfDNA & 3 & CHP\\_323 & 1\\\\\n",
       "\tLeukemia:CHP\\_323\\_X05-PBMC & 1 & 0 & 0 & 0 & 2 & 47 & 0 & 0 & 0 & 1 & ... &  2020 & 71 & 36 &   777 & Leukemia & X05 & PBMC  & 5 & CHP\\_323 & 1\\\\\n",
       "\tLeukemia:CHP\\_323\\_X05-cfDNA & 0 & 0 & 0 & 0 & 0 &  4 & 0 & 0 & 0 & 0 & ... &  4938 &  6 &  2 &  3273 & Leukemia & X05 & cfDNA & 5 & CHP\\_323 & 1\\\\\n",
       "\tLeukemia:CHP\\_326\\_X05-cfDNA & 0 & 0 & 3 & 0 & 0 &  5 & 0 & 0 & 0 & 0 & ... & 18584 &  8 &  4 &  7553 & Leukemia & X05 & cfDNA & 5 & CHP\\_326 & 4\\\\\n",
       "\\end{tabular}\n"
      ],
      "text/markdown": [
       "\n",
       "A data.frame: 6 x 22\n",
       "\n",
       "| <!--/--> | CMV &lt;dbl&gt; | EBV &lt;dbl&gt; | HCV &lt;dbl&gt; | Influenza &lt;dbl&gt; | HomoSapiens &lt;dbl&gt; | MDavis &lt;dbl&gt; | HPV &lt;dbl&gt; | CEF &lt;dbl&gt; | TB &lt;dbl&gt; | MCPyV &lt;dbl&gt; | ... ... | cdr3_reads &lt;int&gt; | n_gliph &lt;dbl&gt; | n_cdr3ingliph &lt;int&gt; | cdr3reads_ingliph &lt;dbl&gt; | cancergroup &lt;chr&gt; | cycle &lt;chr&gt; | sampletype &lt;chr&gt; | cyclenum &lt;dbl&gt; | Patient &lt;chr&gt; | Age &lt;dbl&gt; |\n",
       "|---|---|---|---|---|---|---|---|---|---|---|---|---|---|---|---|---|---|---|---|---|---|\n",
       "| Leukemia:CHP_319_X05-PBMC | 0 | 0 | 0 | 0 | 0 |  2 | 0 | 0 | 0 | 0 | ... |    79 |  3 |  3 |     9 | Leukemia | X05 | PBMC  | 5 | CHP_319 | 1 |\n",
       "| Leukemia:CHP_323_X03-PBMC | 2 | 0 | 1 | 0 | 0 | 16 | 0 | 0 | 0 | 1 | ... |  3175 | 21 | 12 |  1537 | Leukemia | X03 | PBMC  | 3 | CHP_323 | 1 |\n",
       "| Leukemia:CHP_323_X03-cfDNA | 2 | 0 | 0 | 0 | 4 | 33 | 0 | 0 | 0 | 0 | ... | 81588 | 49 | 25 | 51235 | Leukemia | X03 | cfDNA | 3 | CHP_323 | 1 |\n",
       "| Leukemia:CHP_323_X05-PBMC | 1 | 0 | 0 | 0 | 2 | 47 | 0 | 0 | 0 | 1 | ... |  2020 | 71 | 36 |   777 | Leukemia | X05 | PBMC  | 5 | CHP_323 | 1 |\n",
       "| Leukemia:CHP_323_X05-cfDNA | 0 | 0 | 0 | 0 | 0 |  4 | 0 | 0 | 0 | 0 | ... |  4938 |  6 |  2 |  3273 | Leukemia | X05 | cfDNA | 5 | CHP_323 | 1 |\n",
       "| Leukemia:CHP_326_X05-cfDNA | 0 | 0 | 3 | 0 | 0 |  5 | 0 | 0 | 0 | 0 | ... | 18584 |  8 |  4 |  7553 | Leukemia | X05 | cfDNA | 5 | CHP_326 | 4 |\n",
       "\n"
      ],
      "text/plain": [
       "                           CMV EBV HCV Influenza HomoSapiens MDavis HPV CEF TB\n",
       "Leukemia:CHP_319_X05-PBMC  0   0   0   0         0            2     0   0   0 \n",
       "Leukemia:CHP_323_X03-PBMC  2   0   1   0         0           16     0   0   0 \n",
       "Leukemia:CHP_323_X03-cfDNA 2   0   0   0         4           33     0   0   0 \n",
       "Leukemia:CHP_323_X05-PBMC  1   0   0   0         2           47     0   0   0 \n",
       "Leukemia:CHP_323_X05-cfDNA 0   0   0   0         0            4     0   0   0 \n",
       "Leukemia:CHP_326_X05-cfDNA 0   0   3   0         0            5     0   0   0 \n",
       "                           MCPyV ... cdr3_reads n_gliph n_cdr3ingliph\n",
       "Leukemia:CHP_319_X05-PBMC  0     ...    79       3       3           \n",
       "Leukemia:CHP_323_X03-PBMC  1     ...  3175      21      12           \n",
       "Leukemia:CHP_323_X03-cfDNA 0     ... 81588      49      25           \n",
       "Leukemia:CHP_323_X05-PBMC  1     ...  2020      71      36           \n",
       "Leukemia:CHP_323_X05-cfDNA 0     ...  4938       6       2           \n",
       "Leukemia:CHP_326_X05-cfDNA 0     ... 18584       8       4           \n",
       "                           cdr3reads_ingliph cancergroup cycle sampletype\n",
       "Leukemia:CHP_319_X05-PBMC      9             Leukemia    X05   PBMC      \n",
       "Leukemia:CHP_323_X03-PBMC   1537             Leukemia    X03   PBMC      \n",
       "Leukemia:CHP_323_X03-cfDNA 51235             Leukemia    X03   cfDNA     \n",
       "Leukemia:CHP_323_X05-PBMC    777             Leukemia    X05   PBMC      \n",
       "Leukemia:CHP_323_X05-cfDNA  3273             Leukemia    X05   cfDNA     \n",
       "Leukemia:CHP_326_X05-cfDNA  7553             Leukemia    X05   cfDNA     \n",
       "                           cyclenum Patient Age\n",
       "Leukemia:CHP_319_X05-PBMC  5        CHP_319 1  \n",
       "Leukemia:CHP_323_X03-PBMC  3        CHP_323 1  \n",
       "Leukemia:CHP_323_X03-cfDNA 3        CHP_323 1  \n",
       "Leukemia:CHP_323_X05-PBMC  5        CHP_323 1  \n",
       "Leukemia:CHP_323_X05-cfDNA 5        CHP_323 1  \n",
       "Leukemia:CHP_326_X05-cfDNA 5        CHP_326 4  "
      ]
     },
     "metadata": {},
     "output_type": "display_data"
    }
   ],
   "source": [
    "head(samples_tcr)"
   ]
  },
  {
   "cell_type": "code",
   "execution_count": 13,
   "metadata": {
    "vscode": {
     "languageId": "r"
    }
   },
   "outputs": [],
   "source": [
    "gliph_out_chp <- gliph_out[ grepl(\"CHP\", gliph_out$Sample),]"
   ]
  },
  {
   "cell_type": "code",
   "execution_count": 10,
   "metadata": {
    "vscode": {
     "languageId": "r"
    }
   },
   "outputs": [],
   "source": [
    "components_sep_cfdna <- readr::read_rds(paste0(datapath, \"GLIPH/components_sep_cfDNA.rds\"))\n",
    "components_sep_pbmc <- readr::read_rds(paste0(datapath, \"GLIPH/components_sep_PBMC.rds\"))"
   ]
  },
  {
   "cell_type": "code",
   "execution_count": null,
   "metadata": {
    "vscode": {
     "languageId": "r"
    }
   },
   "outputs": [],
   "source": [
    "pat_type <- gliph_out_nosingle_chppatterns[, c(\"pattern\", \"Sample\", \"Freq\")] %>%\n",
    "  tidyr::pivot_wider(names_from = Sample, values_from = Freq, values_fn = sum, values_fill = 0)\n",
    "pat_type <- as.data.frame(pat_type)\n",
    "rownames(pat_type) <- pat_type$pattern\n",
    "pat_type$pattern <- NULL"
   ]
  },
  {
   "cell_type": "code",
   "execution_count": null,
   "metadata": {
    "vscode": {
     "languageId": "r"
    }
   },
   "outputs": [],
   "source": []
  },
  {
   "cell_type": "code",
   "execution_count": null,
   "metadata": {
    "vscode": {
     "languageId": "r"
    }
   },
   "outputs": [],
   "source": [
    "levels(as.factor(gliphdf$Family))"
   ]
  },
  {
   "cell_type": "code",
   "execution_count": null,
   "metadata": {
    "vscode": {
     "languageId": "r"
    }
   },
   "outputs": [],
   "source": [
    "# species = gliph, genus = original annotations, family = grouped annotations\n",
    "gliphdf$Genus <- gliphdf$Family"
   ]
  },
  {
   "cell_type": "code",
   "execution_count": null,
   "metadata": {
    "vscode": {
     "languageId": "r"
    }
   },
   "outputs": [],
   "source": [
    "gliphdf$Family[grepl(\"hs_\", gliphdf$Family)] <- \"cross-reactive\"\n",
    "gliphdf$Family[grepl(\"_hs\", gliphdf$Family)] <- \"cross-reactive\"\n",
    "gliphdf$Family[ gliphdf$Family %in% c(\"CMV\", \"EBV\", \"HPV\")] <- \"Viral\""
   ]
  },
  {
   "cell_type": "code",
   "execution_count": null,
   "metadata": {
    "vscode": {
     "languageId": "r"
    }
   },
   "outputs": [],
   "source": [
    "levels(as.factor(gliphdf$Genus))\n",
    "levels(as.factor(gliphdf$Family))"
   ]
  },
  {
   "attachments": {},
   "cell_type": "markdown",
   "metadata": {},
   "source": [
    "Create TreeSummarizedExperiment to input to ANCOMBC"
   ]
  },
  {
   "cell_type": "code",
   "execution_count": null,
   "metadata": {
    "vscode": {
     "languageId": "r"
    }
   },
   "outputs": [],
   "source": [
    "table(metadata_matched$cancergroup)"
   ]
  },
  {
   "cell_type": "code",
   "execution_count": null,
   "metadata": {
    "vscode": {
     "languageId": "r"
    }
   },
   "outputs": [],
   "source": [
    "rownames(metadata_matched) <- metadata_matched$samplename"
   ]
  },
  {
   "cell_type": "code",
   "execution_count": null,
   "metadata": {
    "vscode": {
     "languageId": "r"
    }
   },
   "outputs": [],
   "source": [
    "head(metadata_matched)"
   ]
  },
  {
   "cell_type": "code",
   "execution_count": null,
   "metadata": {
    "vscode": {
     "languageId": "r"
    }
   },
   "outputs": [],
   "source": [
    "table(gliphdf$Family)"
   ]
  },
  {
   "cell_type": "code",
   "execution_count": null,
   "metadata": {
    "vscode": {
     "languageId": "r"
    }
   },
   "outputs": [],
   "source": [
    "head(gliphdf)"
   ]
  },
  {
   "cell_type": "code",
   "execution_count": null,
   "metadata": {
    "vscode": {
     "languageId": "r"
    }
   },
   "outputs": [],
   "source": [
    "tse_X01 <- TreeSummarizedExperiment(\n",
    "    assays = list(Count = as.matrix(pat_type)),\n",
    "    rowData = gliphdf,\n",
    "    colData = metadata_matched\n",
    ")"
   ]
  },
  {
   "cell_type": "code",
   "execution_count": null,
   "metadata": {
    "vscode": {
     "languageId": "r"
    }
   },
   "outputs": [],
   "source": [
    "table(metadata_matched$cancergroup)"
   ]
  },
  {
   "cell_type": "code",
   "execution_count": null,
   "metadata": {
    "vscode": {
     "languageId": "r"
    }
   },
   "outputs": [],
   "source": [
    "# tse_X01 <- onetest_tse[, colnames(onetest_tse)[grepl(\"X01\", colnames(onetest_tse)) ] ]\n",
    "\n",
    "# tse_X01 <- tse_X01[, colnames(tse_X01)[!grepl(\"T-cellmalignancies\", colnames(tse_X01)) ] ]"
   ]
  },
  {
   "cell_type": "code",
   "execution_count": null,
   "metadata": {
    "vscode": {
     "languageId": "r"
    }
   },
   "outputs": [],
   "source": [
    "nks <- gliphdf$gliph[ gliphdf$Family %in% c(\"NK\", \"TB\")]"
   ]
  },
  {
   "cell_type": "code",
   "execution_count": null,
   "metadata": {
    "vscode": {
     "languageId": "r"
    }
   },
   "outputs": [],
   "source": [
    "length(nks)"
   ]
  },
  {
   "cell_type": "code",
   "execution_count": null,
   "metadata": {
    "vscode": {
     "languageId": "r"
    }
   },
   "outputs": [],
   "source": [
    "tse_X01 <- tse_X01[ !rownames(tse_X01) %in% nks, ]"
   ]
  },
  {
   "cell_type": "code",
   "execution_count": null,
   "metadata": {
    "vscode": {
     "languageId": "r"
    }
   },
   "outputs": [],
   "source": [
    "tse_X01"
   ]
  },
  {
   "cell_type": "code",
   "execution_count": null,
   "metadata": {
    "vscode": {
     "languageId": "r"
    }
   },
   "outputs": [],
   "source": [
    "table(rowData(tse_X01)$Family)"
   ]
  },
  {
   "cell_type": "code",
   "execution_count": null,
   "metadata": {
    "vscode": {
     "languageId": "r"
    }
   },
   "outputs": [],
   "source": [
    "# colData(tse_X01)$cancergroup <- as.character(colData(tse_X01)$cancergroup)\n",
    "\n",
    "# colData(tse_X01) <- colData(tse_X01)[ colData(tse_X01)$cancergroup != \"T-cell malignancies\"]"
   ]
  },
  {
   "cell_type": "code",
   "execution_count": null,
   "metadata": {
    "vscode": {
     "languageId": "r"
    }
   },
   "outputs": [],
   "source": [
    "colData(tse_X01)$cancergroup <- factor(colData(tse_X01)$cancergroup, levels = c(\"Leukemia\", \"Lymphoma\", \"Solid tumors\"))"
   ]
  },
  {
   "cell_type": "code",
   "execution_count": null,
   "metadata": {
    "vscode": {
     "languageId": "r"
    }
   },
   "outputs": [],
   "source": [
    "table(rowData(tse_X01)$gliph)"
   ]
  },
  {
   "cell_type": "code",
   "execution_count": null,
   "metadata": {
    "vscode": {
     "languageId": "r"
    }
   },
   "outputs": [],
   "source": [
    "# readr::write_rds(onetest_tse, \"/Users/anabbi/Desktop/H4H/INTERCEPT/analysis/GLIPH/ancombc/int_gliph_tse_X01_pbmc.rds\")"
   ]
  },
  {
   "cell_type": "code",
   "execution_count": null,
   "metadata": {
    "vscode": {
     "languageId": "r"
    }
   },
   "outputs": [],
   "source": [
    "# rowData(tse_X01)$Family <- rowData(tse_X01)$gliph"
   ]
  },
  {
   "cell_type": "code",
   "execution_count": null,
   "metadata": {
    "vscode": {
     "languageId": "r"
    }
   },
   "outputs": [],
   "source": [
    "set.seed(111)"
   ]
  },
  {
   "cell_type": "code",
   "execution_count": null,
   "metadata": {
    "vscode": {
     "languageId": "r"
    }
   },
   "outputs": [],
   "source": [
    "out <- ancombc2(\n",
    "    data = tse_X01, assay_name = \"Count\",\n",
    "    tax_level = NULL, \n",
    "    fix_formula = \"cancergroup\", rand_formula = NULL,#\"(1|Patient)\",\n",
    "    p_adj_method = \"fdr\", \n",
    "    pseudo = 0, pseudo_sens = TRUE, # add pseudocounts\n",
    "    prv_cut = 0.01, # prevalence cutoff\n",
    "    lib_cut = 0, # library size cutoff\n",
    "    s0_perc = 0.05, \n",
    "    group = \"cancergroup\", \n",
    "    struc_zero = FALSE, \n",
    "    neg_lb = FALSE, # check this again\n",
    "    alpha = 0.05, \n",
    "    n_cl = 10, # number of nodes\n",
    "    verbose = TRUE,\n",
    "    global = TRUE, pairwise = TRUE, dunnet = TRUE, trend = FALSE, # test types\n",
    "    iter_control = list(tol = 1e-2, max_iter = 20, verbose = TRUE),\n",
    "    em_control = list(tol = 1e-5, max_iter = 100),\n",
    "    lme_control = lme4::lmerControl(),\n",
    "    mdfdr_control = list(fwer_ctrl_method = \"fdr\", B = 100)\n",
    ")\n"
   ]
  },
  {
   "cell_type": "code",
   "execution_count": null,
   "metadata": {
    "vscode": {
     "languageId": "r"
    }
   },
   "outputs": [],
   "source": [
    "myres <- out$res_pair"
   ]
  },
  {
   "cell_type": "code",
   "execution_count": null,
   "metadata": {
    "vscode": {
     "languageId": "r"
    }
   },
   "outputs": [],
   "source": [
    "myres"
   ]
  },
  {
   "cell_type": "code",
   "execution_count": null,
   "metadata": {
    "vscode": {
     "languageId": "r"
    }
   },
   "outputs": [],
   "source": [
    "out$res"
   ]
  }
 ],
 "metadata": {
  "kernelspec": {
   "display_name": "R 4.0",
   "language": "R",
   "name": "ir40"
  },
  "language_info": {
   "codemirror_mode": "r",
   "file_extension": ".r",
   "mimetype": "text/x-r-source",
   "name": "R",
   "pygments_lexer": "r",
   "version": "4.2.2"
  },
  "toc": {
   "base_numbering": 1,
   "nav_menu": {},
   "number_sections": false,
   "sideBar": true,
   "skip_h1_title": false,
   "title_cell": "Table of Contents",
   "title_sidebar": "Contents",
   "toc_cell": true,
   "toc_position": {
    "height": "calc(100% - 180px)",
    "left": "10px",
    "top": "150px",
    "width": "186.15px"
   },
   "toc_section_display": true,
   "toc_window_display": true
  }
 },
 "nbformat": 4,
 "nbformat_minor": 2
}

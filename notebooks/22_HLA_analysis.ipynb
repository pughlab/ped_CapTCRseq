{
 "cells": [
  {
   "cell_type": "code",
   "execution_count": 1,
   "metadata": {
    "vscode": {
     "languageId": "r"
    }
   },
   "outputs": [
    {
     "data": {
      "text/html": [
       "'en_US.UTF-8/en_US.UTF-8/en_US.UTF-8/C/en_US.UTF-8/C'"
      ],
      "text/latex": [
       "'en\\_US.UTF-8/en\\_US.UTF-8/en\\_US.UTF-8/C/en\\_US.UTF-8/C'"
      ],
      "text/markdown": [
       "'en_US.UTF-8/en_US.UTF-8/en_US.UTF-8/C/en_US.UTF-8/C'"
      ],
      "text/plain": [
       "[1] \"en_US.UTF-8/en_US.UTF-8/en_US.UTF-8/C/en_US.UTF-8/C\""
      ]
     },
     "metadata": {},
     "output_type": "display_data"
    }
   ],
   "source": [
    "Sys.setlocale(category = \"LC_ALL\", locale = \"en_US.UTF-8\")"
   ]
  },
  {
   "attachments": {},
   "cell_type": "markdown",
   "metadata": {},
   "source": [
    "# Dependencies"
   ]
  },
  {
   "cell_type": "code",
   "execution_count": 2,
   "metadata": {
    "vscode": {
     "languageId": "r"
    }
   },
   "outputs": [],
   "source": [
    "pacman::p_load(factoextra)"
   ]
  },
  {
   "attachments": {},
   "cell_type": "markdown",
   "metadata": {},
   "source": [
    "# Functions"
   ]
  },
  {
   "attachments": {},
   "cell_type": "markdown",
   "metadata": {},
   "source": [
    "# Paths"
   ]
  },
  {
   "cell_type": "code",
   "execution_count": 3,
   "metadata": {
    "vscode": {
     "languageId": "r"
    }
   },
   "outputs": [],
   "source": [
    "datapath <- \"/Users/anabbi/OneDrive - UHN/Documents/INTERCEPT/Data/\"\n",
    "plotpath <- \"/Users/anabbi/OneDrive - UHN/Documents/INTERCEPT/Plots/\"\n",
    "manifestpath <- \"/Users/anabbi/OneDrive - UHN/Documents/INTERCEPT/Manifests/\"\n",
    "gitpath <- \"/Users/anabbi/git/ped_CapTCRseq/\"\n",
    "h4hpath <- \"/Users/anabbi/Desktop/H4H/INTERCEPT/\""
   ]
  },
  {
   "attachments": {},
   "cell_type": "markdown",
   "metadata": {},
   "source": [
    "# Main"
   ]
  },
  {
   "cell_type": "code",
   "execution_count": 27,
   "metadata": {
    "vscode": {
     "languageId": "r"
    }
   },
   "outputs": [],
   "source": [
    "hla <- xlsx::read.xlsx(file = paste0(datapath, \"/HLA/UHN-20230127-B257-HLA.xlsx\"), sheetIndex = 1)"
   ]
  },
  {
   "cell_type": "code",
   "execution_count": 28,
   "metadata": {
    "vscode": {
     "languageId": "r"
    }
   },
   "outputs": [
    {
     "data": {
      "text/html": [
       "<table class=\"dataframe\">\n",
       "<caption>A data.frame: 9 x 8</caption>\n",
       "<thead>\n",
       "\t<tr><th></th><th scope=col>Sample.ID</th><th scope=col>Locus</th><th scope=col>Allele.1</th><th scope=col>Allele.2</th><th scope=col>Comments</th><th scope=col>Diploid.Ambiguities</th><th scope=col>Allele.1.Ambiguities</th><th scope=col>Allele.2.Ambiguities</th></tr>\n",
       "\t<tr><th></th><th scope=col>&lt;chr&gt;</th><th scope=col>&lt;chr&gt;</th><th scope=col>&lt;chr&gt;</th><th scope=col>&lt;chr&gt;</th><th scope=col>&lt;chr&gt;</th><th scope=col>&lt;chr&gt;</th><th scope=col>&lt;chr&gt;</th><th scope=col>&lt;chr&gt;</th></tr>\n",
       "</thead>\n",
       "<tbody>\n",
       "\t<tr><th scope=row>577</th><td>418-02</td><td>A     </td><td>A*68:01:02        </td><td>A*68:03:01   </td><td></td><td></td><td></td><td></td></tr>\n",
       "\t<tr><th scope=row>578</th><td>418-02</td><td>B     </td><td>B*39:05:01        </td><td>B*44:02:01   </td><td></td><td></td><td></td><td></td></tr>\n",
       "\t<tr><th scope=row>579</th><td>418-02</td><td>C     </td><td>C*07:02:01        </td><td>C*07:04:01   </td><td></td><td></td><td></td><td></td></tr>\n",
       "\t<tr><th scope=row>580</th><td>418-02</td><td>DPA1  </td><td>DPA1*02:01:01     </td><td>DPA1*02:01:01</td><td></td><td></td><td></td><td></td></tr>\n",
       "\t<tr><th scope=row>581</th><td>418-02</td><td>DPB1  </td><td>DPB1*09:01:01     </td><td>DPB1*14:01:01</td><td></td><td></td><td></td><td></td></tr>\n",
       "\t<tr><th scope=row>582</th><td>418-02</td><td>DQA1  </td><td>DQA1*01:01:01     </td><td>DQA1*03:01:01</td><td></td><td></td><td></td><td></td></tr>\n",
       "\t<tr><th scope=row>583</th><td>418-02</td><td>DQB1  </td><td>DQB1*03:02:01     </td><td>DQB1*05:01:01</td><td></td><td></td><td></td><td></td></tr>\n",
       "\t<tr><th scope=row>584</th><td>418-02</td><td>DRB1  </td><td>DRB1*01:01:01     </td><td>DRB1*04:04:01</td><td></td><td></td><td></td><td></td></tr>\n",
       "\t<tr><th scope=row>585</th><td>418-02</td><td>DRB345</td><td>DRB345*Not_Present</td><td>DRB4*01:03:01</td><td></td><td></td><td></td><td></td></tr>\n",
       "</tbody>\n",
       "</table>\n"
      ],
      "text/latex": [
       "A data.frame: 9 x 8\n",
       "\\begin{tabular}{r|llllllll}\n",
       "  & Sample.ID & Locus & Allele.1 & Allele.2 & Comments & Diploid.Ambiguities & Allele.1.Ambiguities & Allele.2.Ambiguities\\\\\n",
       "  & <chr> & <chr> & <chr> & <chr> & <chr> & <chr> & <chr> & <chr>\\\\\n",
       "\\hline\n",
       "\t577 & 418-02 & A      & A*68:01:02         & A*68:03:01    &  &  &  & \\\\\n",
       "\t578 & 418-02 & B      & B*39:05:01         & B*44:02:01    &  &  &  & \\\\\n",
       "\t579 & 418-02 & C      & C*07:02:01         & C*07:04:01    &  &  &  & \\\\\n",
       "\t580 & 418-02 & DPA1   & DPA1*02:01:01      & DPA1*02:01:01 &  &  &  & \\\\\n",
       "\t581 & 418-02 & DPB1   & DPB1*09:01:01      & DPB1*14:01:01 &  &  &  & \\\\\n",
       "\t582 & 418-02 & DQA1   & DQA1*01:01:01      & DQA1*03:01:01 &  &  &  & \\\\\n",
       "\t583 & 418-02 & DQB1   & DQB1*03:02:01      & DQB1*05:01:01 &  &  &  & \\\\\n",
       "\t584 & 418-02 & DRB1   & DRB1*01:01:01      & DRB1*04:04:01 &  &  &  & \\\\\n",
       "\t585 & 418-02 & DRB345 & DRB345*Not\\_Present & DRB4*01:03:01 &  &  &  & \\\\\n",
       "\\end{tabular}\n"
      ],
      "text/markdown": [
       "\n",
       "A data.frame: 9 x 8\n",
       "\n",
       "| <!--/--> | Sample.ID &lt;chr&gt; | Locus &lt;chr&gt; | Allele.1 &lt;chr&gt; | Allele.2 &lt;chr&gt; | Comments &lt;chr&gt; | Diploid.Ambiguities &lt;chr&gt; | Allele.1.Ambiguities &lt;chr&gt; | Allele.2.Ambiguities &lt;chr&gt; |\n",
       "|---|---|---|---|---|---|---|---|---|\n",
       "| 577 | 418-02 | A      | A*68:01:02         | A*68:03:01    | <!----> | <!----> | <!----> | <!----> |\n",
       "| 578 | 418-02 | B      | B*39:05:01         | B*44:02:01    | <!----> | <!----> | <!----> | <!----> |\n",
       "| 579 | 418-02 | C      | C*07:02:01         | C*07:04:01    | <!----> | <!----> | <!----> | <!----> |\n",
       "| 580 | 418-02 | DPA1   | DPA1*02:01:01      | DPA1*02:01:01 | <!----> | <!----> | <!----> | <!----> |\n",
       "| 581 | 418-02 | DPB1   | DPB1*09:01:01      | DPB1*14:01:01 | <!----> | <!----> | <!----> | <!----> |\n",
       "| 582 | 418-02 | DQA1   | DQA1*01:01:01      | DQA1*03:01:01 | <!----> | <!----> | <!----> | <!----> |\n",
       "| 583 | 418-02 | DQB1   | DQB1*03:02:01      | DQB1*05:01:01 | <!----> | <!----> | <!----> | <!----> |\n",
       "| 584 | 418-02 | DRB1   | DRB1*01:01:01      | DRB1*04:04:01 | <!----> | <!----> | <!----> | <!----> |\n",
       "| 585 | 418-02 | DRB345 | DRB345*Not_Present | DRB4*01:03:01 | <!----> | <!----> | <!----> | <!----> |\n",
       "\n"
      ],
      "text/plain": [
       "    Sample.ID Locus  Allele.1           Allele.2      Comments\n",
       "577 418-02    A      A*68:01:02         A*68:03:01            \n",
       "578 418-02    B      B*39:05:01         B*44:02:01            \n",
       "579 418-02    C      C*07:02:01         C*07:04:01            \n",
       "580 418-02    DPA1   DPA1*02:01:01      DPA1*02:01:01         \n",
       "581 418-02    DPB1   DPB1*09:01:01      DPB1*14:01:01         \n",
       "582 418-02    DQA1   DQA1*01:01:01      DQA1*03:01:01         \n",
       "583 418-02    DQB1   DQB1*03:02:01      DQB1*05:01:01         \n",
       "584 418-02    DRB1   DRB1*01:01:01      DRB1*04:04:01         \n",
       "585 418-02    DRB345 DRB345*Not_Present DRB4*01:03:01         \n",
       "    Diploid.Ambiguities Allele.1.Ambiguities Allele.2.Ambiguities\n",
       "577                                                              \n",
       "578                                                              \n",
       "579                                                              \n",
       "580                                                              \n",
       "581                                                              \n",
       "582                                                              \n",
       "583                                                              \n",
       "584                                                              \n",
       "585                                                              "
      ]
     },
     "metadata": {},
     "output_type": "display_data"
    }
   ],
   "source": [
    "hla[ hla$Sample.ID == \"418-02\",]"
   ]
  },
  {
   "attachments": {},
   "cell_type": "markdown",
   "metadata": {},
   "source": [
    "make a mtrix for hla pre qc"
   ]
  },
  {
   "cell_type": "code",
   "execution_count": 29,
   "metadata": {
    "vscode": {
     "languageId": "r"
    }
   },
   "outputs": [],
   "source": [
    "hla1 <- hla[ hla$Locus != \"DRB345\",] # remove DRB345"
   ]
  },
  {
   "cell_type": "code",
   "execution_count": 30,
   "metadata": {
    "vscode": {
     "languageId": "r"
    }
   },
   "outputs": [],
   "source": [
    "allhla_preqc <- matrix(NA, nrow = length(unique(hla1$Sample.ID)), ncol = length(unique(c(hla1$Allele.1, hla1$Allele.2))),\n",
    "                       dimnames = list(unique(hla1$Sample.ID), unique(c(hla1$Allele.1, hla1$Allele.2))))"
   ]
  },
  {
   "cell_type": "code",
   "execution_count": 31,
   "metadata": {
    "vscode": {
     "languageId": "r"
    }
   },
   "outputs": [
    {
     "data": {
      "text/html": [
       "<table class=\"dataframe\">\n",
       "<caption>A data.frame: 8 x 2</caption>\n",
       "<thead>\n",
       "\t<tr><th></th><th scope=col>Allele.1</th><th scope=col>Allele.2</th></tr>\n",
       "\t<tr><th></th><th scope=col>&lt;chr&gt;</th><th scope=col>&lt;chr&gt;</th></tr>\n",
       "</thead>\n",
       "<tbody>\n",
       "\t<tr><th scope=row>577</th><td>A*68:01:02   </td><td>A*68:03:01   </td></tr>\n",
       "\t<tr><th scope=row>578</th><td>B*39:05:01   </td><td>B*44:02:01   </td></tr>\n",
       "\t<tr><th scope=row>579</th><td>C*07:02:01   </td><td>C*07:04:01   </td></tr>\n",
       "\t<tr><th scope=row>580</th><td>DPA1*02:01:01</td><td>DPA1*02:01:01</td></tr>\n",
       "\t<tr><th scope=row>581</th><td>DPB1*09:01:01</td><td>DPB1*14:01:01</td></tr>\n",
       "\t<tr><th scope=row>582</th><td>DQA1*01:01:01</td><td>DQA1*03:01:01</td></tr>\n",
       "\t<tr><th scope=row>583</th><td>DQB1*03:02:01</td><td>DQB1*05:01:01</td></tr>\n",
       "\t<tr><th scope=row>584</th><td>DRB1*01:01:01</td><td>DRB1*04:04:01</td></tr>\n",
       "</tbody>\n",
       "</table>\n"
      ],
      "text/latex": [
       "A data.frame: 8 x 2\n",
       "\\begin{tabular}{r|ll}\n",
       "  & Allele.1 & Allele.2\\\\\n",
       "  & <chr> & <chr>\\\\\n",
       "\\hline\n",
       "\t577 & A*68:01:02    & A*68:03:01   \\\\\n",
       "\t578 & B*39:05:01    & B*44:02:01   \\\\\n",
       "\t579 & C*07:02:01    & C*07:04:01   \\\\\n",
       "\t580 & DPA1*02:01:01 & DPA1*02:01:01\\\\\n",
       "\t581 & DPB1*09:01:01 & DPB1*14:01:01\\\\\n",
       "\t582 & DQA1*01:01:01 & DQA1*03:01:01\\\\\n",
       "\t583 & DQB1*03:02:01 & DQB1*05:01:01\\\\\n",
       "\t584 & DRB1*01:01:01 & DRB1*04:04:01\\\\\n",
       "\\end{tabular}\n"
      ],
      "text/markdown": [
       "\n",
       "A data.frame: 8 x 2\n",
       "\n",
       "| <!--/--> | Allele.1 &lt;chr&gt; | Allele.2 &lt;chr&gt; |\n",
       "|---|---|---|\n",
       "| 577 | A*68:01:02    | A*68:03:01    |\n",
       "| 578 | B*39:05:01    | B*44:02:01    |\n",
       "| 579 | C*07:02:01    | C*07:04:01    |\n",
       "| 580 | DPA1*02:01:01 | DPA1*02:01:01 |\n",
       "| 581 | DPB1*09:01:01 | DPB1*14:01:01 |\n",
       "| 582 | DQA1*01:01:01 | DQA1*03:01:01 |\n",
       "| 583 | DQB1*03:02:01 | DQB1*05:01:01 |\n",
       "| 584 | DRB1*01:01:01 | DRB1*04:04:01 |\n",
       "\n"
      ],
      "text/plain": [
       "    Allele.1      Allele.2     \n",
       "577 A*68:01:02    A*68:03:01   \n",
       "578 B*39:05:01    B*44:02:01   \n",
       "579 C*07:02:01    C*07:04:01   \n",
       "580 DPA1*02:01:01 DPA1*02:01:01\n",
       "581 DPB1*09:01:01 DPB1*14:01:01\n",
       "582 DQA1*01:01:01 DQA1*03:01:01\n",
       "583 DQB1*03:02:01 DQB1*05:01:01\n",
       "584 DRB1*01:01:01 DRB1*04:04:01"
      ]
     },
     "metadata": {},
     "output_type": "display_data"
    }
   ],
   "source": [
    "hla1[ hla1$Sample.ID == \"418-02\", c(\"Allele.1\", \"Allele.2\")] "
   ]
  },
  {
   "cell_type": "code",
   "execution_count": 36,
   "metadata": {
    "vscode": {
     "languageId": "r"
    }
   },
   "outputs": [],
   "source": [
    "for(i in 1:nrow(allhla_preqc)){\n",
    "    myhla <- hla1[ hla1$Sample.ID == rownames(allhla_preqc)[i], c(\"Allele.1\", \"Allele.2\")]\n",
    "    allalleles <- c(myhla$Allele.1, myhla$Allele.2)\n",
    "    mytab <- as.data.frame(table(allalleles), stringsAsFactors = F)\n",
    "    allhla_preqc[i, match(mytab$allalleles, colnames(allhla_preqc) )] <- mytab$Freq}"
   ]
  },
  {
   "cell_type": "code",
   "execution_count": 37,
   "metadata": {
    "vscode": {
     "languageId": "r"
    }
   },
   "outputs": [
    {
     "data": {
      "text/html": [
       "<table class=\"dataframe\">\n",
       "<caption>A data.frame: 12 x 2</caption>\n",
       "<thead>\n",
       "\t<tr><th scope=col>allalleles</th><th scope=col>Freq</th></tr>\n",
       "\t<tr><th scope=col>&lt;chr&gt;</th><th scope=col>&lt;int&gt;</th></tr>\n",
       "</thead>\n",
       "<tbody>\n",
       "\t<tr><td>A*11:01:01   </td><td>1</td></tr>\n",
       "\t<tr><td>A*23:01:01   </td><td>1</td></tr>\n",
       "\t<tr><td>B*07:02:01   </td><td>2</td></tr>\n",
       "\t<tr><td>C*07:02:01   </td><td>2</td></tr>\n",
       "\t<tr><td>DPA1*01:03:01</td><td>2</td></tr>\n",
       "\t<tr><td>DPB1*04:01:01</td><td>2</td></tr>\n",
       "\t<tr><td>DQA1*01:02:01</td><td>1</td></tr>\n",
       "\t<tr><td>DQA1*01:03:01</td><td>1</td></tr>\n",
       "\t<tr><td>DQB1*06:02:01</td><td>1</td></tr>\n",
       "\t<tr><td>DQB1*06:03:01</td><td>1</td></tr>\n",
       "\t<tr><td>DRB1*13:01:01</td><td>1</td></tr>\n",
       "\t<tr><td>DRB1*15:01:01</td><td>1</td></tr>\n",
       "</tbody>\n",
       "</table>\n"
      ],
      "text/latex": [
       "A data.frame: 12 x 2\n",
       "\\begin{tabular}{ll}\n",
       " allalleles & Freq\\\\\n",
       " <chr> & <int>\\\\\n",
       "\\hline\n",
       "\t A*11:01:01    & 1\\\\\n",
       "\t A*23:01:01    & 1\\\\\n",
       "\t B*07:02:01    & 2\\\\\n",
       "\t C*07:02:01    & 2\\\\\n",
       "\t DPA1*01:03:01 & 2\\\\\n",
       "\t DPB1*04:01:01 & 2\\\\\n",
       "\t DQA1*01:02:01 & 1\\\\\n",
       "\t DQA1*01:03:01 & 1\\\\\n",
       "\t DQB1*06:02:01 & 1\\\\\n",
       "\t DQB1*06:03:01 & 1\\\\\n",
       "\t DRB1*13:01:01 & 1\\\\\n",
       "\t DRB1*15:01:01 & 1\\\\\n",
       "\\end{tabular}\n"
      ],
      "text/markdown": [
       "\n",
       "A data.frame: 12 x 2\n",
       "\n",
       "| allalleles &lt;chr&gt; | Freq &lt;int&gt; |\n",
       "|---|---|\n",
       "| A*11:01:01    | 1 |\n",
       "| A*23:01:01    | 1 |\n",
       "| B*07:02:01    | 2 |\n",
       "| C*07:02:01    | 2 |\n",
       "| DPA1*01:03:01 | 2 |\n",
       "| DPB1*04:01:01 | 2 |\n",
       "| DQA1*01:02:01 | 1 |\n",
       "| DQA1*01:03:01 | 1 |\n",
       "| DQB1*06:02:01 | 1 |\n",
       "| DQB1*06:03:01 | 1 |\n",
       "| DRB1*13:01:01 | 1 |\n",
       "| DRB1*15:01:01 | 1 |\n",
       "\n"
      ],
      "text/plain": [
       "   allalleles    Freq\n",
       "1  A*11:01:01    1   \n",
       "2  A*23:01:01    1   \n",
       "3  B*07:02:01    2   \n",
       "4  C*07:02:01    2   \n",
       "5  DPA1*01:03:01 2   \n",
       "6  DPB1*04:01:01 2   \n",
       "7  DQA1*01:02:01 1   \n",
       "8  DQA1*01:03:01 1   \n",
       "9  DQB1*06:02:01 1   \n",
       "10 DQB1*06:03:01 1   \n",
       "11 DRB1*13:01:01 1   \n",
       "12 DRB1*15:01:01 1   "
      ]
     },
     "metadata": {},
     "output_type": "display_data"
    }
   ],
   "source": [
    "mytab"
   ]
  },
  {
   "cell_type": "code",
   "execution_count": 39,
   "metadata": {
    "vscode": {
     "languageId": "r"
    }
   },
   "outputs": [],
   "source": [
    "# order colnames\n",
    "allhla_preqc <- allhla_preqc[, order(colnames(allhla_preqc))]"
   ]
  },
  {
   "cell_type": "code",
   "execution_count": 40,
   "metadata": {
    "vscode": {
     "languageId": "r"
    }
   },
   "outputs": [],
   "source": [
    "allhla_preqc[ is.na(allhla_preqc)] <- 0"
   ]
  },
  {
   "cell_type": "code",
   "execution_count": 41,
   "metadata": {
    "vscode": {
     "languageId": "r"
    }
   },
   "outputs": [],
   "source": [
    "readr::write_rds(allhla_preqc, paste0(datapath, \"HLA/allhla_preqc.rds\"))"
   ]
  },
  {
   "attachments": {},
   "cell_type": "markdown",
   "metadata": {},
   "source": [
    "# Some cleanup and QC"
   ]
  },
  {
   "cell_type": "code",
   "execution_count": 45,
   "metadata": {
    "vscode": {
     "languageId": "r"
    }
   },
   "outputs": [],
   "source": [
    "hlafiles <- list.files(path = paste0(datapath, \"/HLA/\"), pattern = \"INT\", full.names = TRUE)"
   ]
  },
  {
   "cell_type": "code",
   "execution_count": 47,
   "metadata": {
    "vscode": {
     "languageId": "r"
    }
   },
   "outputs": [],
   "source": [
    "hlafiles <- hlafiles[ hlafiles != \"/Users/anabbi/OneDrive - UHN/Documents/INTERCEPT/Data//HLA//INT_HLA_PCA_postqc.rds\"]\n",
    "hlafiles <- hlafiles[ hlafiles != \"/Users/anabbi/OneDrive - UHN/Documents/INTERCEPT/Data//HLA//INT_allHLA_postqc.rds\"]"
   ]
  },
  {
   "cell_type": "code",
   "execution_count": 7,
   "metadata": {
    "vscode": {
     "languageId": "r"
    }
   },
   "outputs": [],
   "source": [
    "hlas <- lapply(hlafiles, function(x) {\n",
    "  read.table(x, header = TRUE, sep = \"\\t\", stringsAsFactors = FALSE, check.names = F)\n",
    "})"
   ]
  },
  {
   "cell_type": "code",
   "execution_count": 48,
   "metadata": {
    "vscode": {
     "languageId": "r"
    }
   },
   "outputs": [
    {
     "data": {
      "text/html": [
       "<style>\n",
       ".list-inline {list-style: none; margin:0; padding: 0}\n",
       ".list-inline>li {display: inline-block}\n",
       ".list-inline>li:not(:last-child)::after {content: \"\\00b7\"; padding: 0 .5ex}\n",
       "</style>\n",
       "<ol class=list-inline><li>'/Users/anabbi/OneDrive - UHN/Documents/INTERCEPT/Data//HLA//INT_HLA_A.txt'</li><li>'/Users/anabbi/OneDrive - UHN/Documents/INTERCEPT/Data//HLA//INT_HLA_B.txt'</li><li>'/Users/anabbi/OneDrive - UHN/Documents/INTERCEPT/Data//HLA//INT_HLA_C.txt'</li><li>'/Users/anabbi/OneDrive - UHN/Documents/INTERCEPT/Data//HLA//INT_HLA_DPA1.txt'</li><li>'/Users/anabbi/OneDrive - UHN/Documents/INTERCEPT/Data//HLA//INT_HLA_DPB1.txt'</li><li>'/Users/anabbi/OneDrive - UHN/Documents/INTERCEPT/Data//HLA//INT_HLA_DQA1.txt'</li><li>'/Users/anabbi/OneDrive - UHN/Documents/INTERCEPT/Data//HLA//INT_HLA_DQB1.txt'</li><li>'/Users/anabbi/OneDrive - UHN/Documents/INTERCEPT/Data//HLA//INT_HLA_DRB1.txt'</li><li>'/Users/anabbi/OneDrive - UHN/Documents/INTERCEPT/Data//HLA//INT_HLA_DRB345.txt'</li></ol>\n"
      ],
      "text/latex": [
       "\\begin{enumerate*}\n",
       "\\item '/Users/anabbi/OneDrive - UHN/Documents/INTERCEPT/Data//HLA//INT\\_HLA\\_A.txt'\n",
       "\\item '/Users/anabbi/OneDrive - UHN/Documents/INTERCEPT/Data//HLA//INT\\_HLA\\_B.txt'\n",
       "\\item '/Users/anabbi/OneDrive - UHN/Documents/INTERCEPT/Data//HLA//INT\\_HLA\\_C.txt'\n",
       "\\item '/Users/anabbi/OneDrive - UHN/Documents/INTERCEPT/Data//HLA//INT\\_HLA\\_DPA1.txt'\n",
       "\\item '/Users/anabbi/OneDrive - UHN/Documents/INTERCEPT/Data//HLA//INT\\_HLA\\_DPB1.txt'\n",
       "\\item '/Users/anabbi/OneDrive - UHN/Documents/INTERCEPT/Data//HLA//INT\\_HLA\\_DQA1.txt'\n",
       "\\item '/Users/anabbi/OneDrive - UHN/Documents/INTERCEPT/Data//HLA//INT\\_HLA\\_DQB1.txt'\n",
       "\\item '/Users/anabbi/OneDrive - UHN/Documents/INTERCEPT/Data//HLA//INT\\_HLA\\_DRB1.txt'\n",
       "\\item '/Users/anabbi/OneDrive - UHN/Documents/INTERCEPT/Data//HLA//INT\\_HLA\\_DRB345.txt'\n",
       "\\end{enumerate*}\n"
      ],
      "text/markdown": [
       "1. '/Users/anabbi/OneDrive - UHN/Documents/INTERCEPT/Data//HLA//INT_HLA_A.txt'\n",
       "2. '/Users/anabbi/OneDrive - UHN/Documents/INTERCEPT/Data//HLA//INT_HLA_B.txt'\n",
       "3. '/Users/anabbi/OneDrive - UHN/Documents/INTERCEPT/Data//HLA//INT_HLA_C.txt'\n",
       "4. '/Users/anabbi/OneDrive - UHN/Documents/INTERCEPT/Data//HLA//INT_HLA_DPA1.txt'\n",
       "5. '/Users/anabbi/OneDrive - UHN/Documents/INTERCEPT/Data//HLA//INT_HLA_DPB1.txt'\n",
       "6. '/Users/anabbi/OneDrive - UHN/Documents/INTERCEPT/Data//HLA//INT_HLA_DQA1.txt'\n",
       "7. '/Users/anabbi/OneDrive - UHN/Documents/INTERCEPT/Data//HLA//INT_HLA_DQB1.txt'\n",
       "8. '/Users/anabbi/OneDrive - UHN/Documents/INTERCEPT/Data//HLA//INT_HLA_DRB1.txt'\n",
       "9. '/Users/anabbi/OneDrive - UHN/Documents/INTERCEPT/Data//HLA//INT_HLA_DRB345.txt'\n",
       "\n",
       "\n"
      ],
      "text/plain": [
       "[1] \"/Users/anabbi/OneDrive - UHN/Documents/INTERCEPT/Data//HLA//INT_HLA_A.txt\"     \n",
       "[2] \"/Users/anabbi/OneDrive - UHN/Documents/INTERCEPT/Data//HLA//INT_HLA_B.txt\"     \n",
       "[3] \"/Users/anabbi/OneDrive - UHN/Documents/INTERCEPT/Data//HLA//INT_HLA_C.txt\"     \n",
       "[4] \"/Users/anabbi/OneDrive - UHN/Documents/INTERCEPT/Data//HLA//INT_HLA_DPA1.txt\"  \n",
       "[5] \"/Users/anabbi/OneDrive - UHN/Documents/INTERCEPT/Data//HLA//INT_HLA_DPB1.txt\"  \n",
       "[6] \"/Users/anabbi/OneDrive - UHN/Documents/INTERCEPT/Data//HLA//INT_HLA_DQA1.txt\"  \n",
       "[7] \"/Users/anabbi/OneDrive - UHN/Documents/INTERCEPT/Data//HLA//INT_HLA_DQB1.txt\"  \n",
       "[8] \"/Users/anabbi/OneDrive - UHN/Documents/INTERCEPT/Data//HLA//INT_HLA_DRB1.txt\"  \n",
       "[9] \"/Users/anabbi/OneDrive - UHN/Documents/INTERCEPT/Data//HLA//INT_HLA_DRB345.txt\""
      ]
     },
     "metadata": {},
     "output_type": "display_data"
    }
   ],
   "source": [
    "hlafiles"
   ]
  },
  {
   "attachments": {},
   "cell_type": "markdown",
   "metadata": {},
   "source": [
    "Allele frequencies"
   ]
  },
  {
   "cell_type": "code",
   "execution_count": 8,
   "metadata": {
    "vscode": {
     "languageId": "r"
    }
   },
   "outputs": [],
   "source": [
    "afs <- lapply(hlas, function(x) {\n",
    "    n <- colSums(x)\n",
    "    freq <- colSums(x) / (2 * nrow(x))\n",
    "    data.frame(type=names(freq), freq, n)\n",
    "})"
   ]
  },
  {
   "cell_type": "code",
   "execution_count": 9,
   "metadata": {
    "vscode": {
     "languageId": "r"
    }
   },
   "outputs": [],
   "source": [
    "lowfreq <- lapply(afs, function(x) {\n",
    "    subset(x, freq < 0.01 | freq > 0.99)$type\n",
    "})"
   ]
  },
  {
   "cell_type": "code",
   "execution_count": 11,
   "metadata": {
    "vscode": {
     "languageId": "r"
    }
   },
   "outputs": [],
   "source": [
    "hlas_lowfreqrm <- purrr::map2(hlas, lowfreq, function(x, y) {\n",
    "    x[, !colnames(x) %in% y]\n",
    "})"
   ]
  },
  {
   "attachments": {},
   "cell_type": "markdown",
   "metadata": {},
   "source": [
    "hwe"
   ]
  },
  {
   "cell_type": "code",
   "execution_count": 12,
   "metadata": {
    "vscode": {
     "languageId": "r"
    }
   },
   "outputs": [],
   "source": [
    "hwe.fx <- function(x) {\n",
    "    x <- as.numeric(x)\n",
    "    # observed counts\n",
    "    a0 <- length(x[x == 0])\n",
    "    a1 <- length(x[x == 1])\n",
    "    a2 <- length(x[x == 2])\n",
    "    freq <- sum(x) / (2 * length(x))\n",
    "    # get expected frequencies\n",
    "    P_a0 <- (1 - freq)^2\n",
    "    P_a1 <- 2 * (1 - freq) * freq\n",
    "    P_a2 <- freq^2\n",
    "    chitest <- chisq.test(c(a0, a1, a2), p = c(P_a0, P_a1, P_a2)) #  Pearson's chi-squared goodness-of-fit test compared to expected frequencies\n",
    "    chitest$p.value#[chitest$p.value <= 1e-04]\n",
    "}"
   ]
  },
  {
   "cell_type": "code",
   "execution_count": 25,
   "metadata": {
    "vscode": {
     "languageId": "r"
    }
   },
   "outputs": [],
   "source": [
    "# hwe_chip <- lapply(hlas_lowfreqrm, function(x) {\n",
    "#     apply(x, 2, hwe.fx) \n",
    "# })"
   ]
  },
  {
   "cell_type": "code",
   "execution_count": 14,
   "metadata": {
    "vscode": {
     "languageId": "r"
    }
   },
   "outputs": [],
   "source": [
    "sig_hwe_chip <- lapply( hwe_chip, function(x) x[x <= 1e-04] )"
   ]
  },
  {
   "cell_type": "code",
   "execution_count": 16,
   "metadata": {
    "vscode": {
     "languageId": "r"
    }
   },
   "outputs": [],
   "source": [
    "hlas_lowfreqrm_hwe <- purrr::map2(hlas_lowfreqrm, sig_hwe_chip, function(x, y) {\n",
    "    x[, !colnames(x) %in% names(y)]\n",
    "})"
   ]
  },
  {
   "cell_type": "code",
   "execution_count": 18,
   "metadata": {
    "vscode": {
     "languageId": "r"
    }
   },
   "outputs": [],
   "source": [
    "allhlas <- hlas_lowfreqrm_hwe[[1]]"
   ]
  },
  {
   "cell_type": "code",
   "execution_count": 19,
   "metadata": {
    "vscode": {
     "languageId": "r"
    }
   },
   "outputs": [],
   "source": [
    "for(i in 2:length(hlas_lowfreqrm_hwe)){\n",
    "x <- hlas_lowfreqrm_hwe[[i]]\n",
    "x <- x[rownames(allhlas),] # make sure the same rows are in the same order\n",
    "allhlas <- cbind(allhlas, x)\n",
    "}"
   ]
  },
  {
   "cell_type": "code",
   "execution_count": 20,
   "metadata": {
    "vscode": {
     "languageId": "r"
    }
   },
   "outputs": [
    {
     "data": {
      "text/html": [
       "<table class=\"dataframe\">\n",
       "<caption>A data.frame: 6 x 134</caption>\n",
       "<thead>\n",
       "\t<tr><th></th><th scope=col>A*02:01:01</th><th scope=col>A*01:01:01</th><th scope=col>A*11:01:01</th><th scope=col>A*26:01:01</th><th scope=col>A*31:01:02</th><th scope=col>A*03:01:01</th><th scope=col>A*02:05:01</th><th scope=col>A*23:01:01</th><th scope=col>A*24:02:01</th><th scope=col>A*30:01:01</th><th scope=col>...</th><th scope=col>DRB345*Not_Present</th><th scope=col>DRB5*01:01:01</th><th scope=col>DRB4*01:03:01</th><th scope=col>DRB3*03:01:01</th><th scope=col>DRB4*01:01:01</th><th scope=col>DRB3*01:62:01</th><th scope=col>DRB4*01:03:02</th><th scope=col>DRB5*02:02:01</th><th scope=col>DRB5*01:02:01</th><th scope=col>DRB4*01:03:01:02N</th></tr>\n",
       "\t<tr><th></th><th scope=col>&lt;int&gt;</th><th scope=col>&lt;int&gt;</th><th scope=col>&lt;int&gt;</th><th scope=col>&lt;int&gt;</th><th scope=col>&lt;int&gt;</th><th scope=col>&lt;int&gt;</th><th scope=col>&lt;int&gt;</th><th scope=col>&lt;int&gt;</th><th scope=col>&lt;int&gt;</th><th scope=col>&lt;int&gt;</th><th scope=col>...</th><th scope=col>&lt;int&gt;</th><th scope=col>&lt;int&gt;</th><th scope=col>&lt;int&gt;</th><th scope=col>&lt;int&gt;</th><th scope=col>&lt;int&gt;</th><th scope=col>&lt;int&gt;</th><th scope=col>&lt;int&gt;</th><th scope=col>&lt;int&gt;</th><th scope=col>&lt;int&gt;</th><th scope=col>&lt;int&gt;</th></tr>\n",
       "</thead>\n",
       "<tbody>\n",
       "\t<tr><th scope=row>315-05</th><td>1</td><td>0</td><td>0</td><td>0</td><td>0</td><td>0</td><td>1</td><td>0</td><td>0</td><td>0</td><td>...</td><td>0</td><td>0</td><td>0</td><td>1</td><td>0</td><td>0</td><td>0</td><td>0</td><td>0</td><td>0</td></tr>\n",
       "\t<tr><th scope=row>319-05</th><td>0</td><td>1</td><td>0</td><td>0</td><td>0</td><td>1</td><td>0</td><td>0</td><td>0</td><td>0</td><td>...</td><td>0</td><td>0</td><td>0</td><td>0</td><td>0</td><td>0</td><td>0</td><td>0</td><td>0</td><td>0</td></tr>\n",
       "\t<tr><th scope=row>323-03</th><td>0</td><td>0</td><td>1</td><td>0</td><td>0</td><td>0</td><td>0</td><td>1</td><td>0</td><td>0</td><td>...</td><td>1</td><td>0</td><td>1</td><td>0</td><td>0</td><td>0</td><td>0</td><td>0</td><td>0</td><td>0</td></tr>\n",
       "\t<tr><th scope=row>329-04</th><td>0</td><td>0</td><td>0</td><td>2</td><td>0</td><td>0</td><td>0</td><td>0</td><td>0</td><td>0</td><td>...</td><td>0</td><td>1</td><td>0</td><td>0</td><td>0</td><td>0</td><td>0</td><td>1</td><td>0</td><td>0</td></tr>\n",
       "\t<tr><th scope=row>330-05</th><td>1</td><td>0</td><td>0</td><td>0</td><td>0</td><td>0</td><td>0</td><td>0</td><td>0</td><td>0</td><td>...</td><td>0</td><td>0</td><td>1</td><td>0</td><td>0</td><td>0</td><td>0</td><td>0</td><td>0</td><td>0</td></tr>\n",
       "\t<tr><th scope=row>331-04</th><td>1</td><td>0</td><td>0</td><td>1</td><td>0</td><td>0</td><td>0</td><td>0</td><td>0</td><td>0</td><td>...</td><td>1</td><td>0</td><td>1</td><td>0</td><td>0</td><td>0</td><td>0</td><td>0</td><td>0</td><td>0</td></tr>\n",
       "</tbody>\n",
       "</table>\n"
      ],
      "text/latex": [
       "A data.frame: 6 x 134\n",
       "\\begin{tabular}{r|lllllllllllllllllllll}\n",
       "  & A*02:01:01 & A*01:01:01 & A*11:01:01 & A*26:01:01 & A*31:01:02 & A*03:01:01 & A*02:05:01 & A*23:01:01 & A*24:02:01 & A*30:01:01 & ... & DRB345*Not\\_Present & DRB5*01:01:01 & DRB4*01:03:01 & DRB3*03:01:01 & DRB4*01:01:01 & DRB3*01:62:01 & DRB4*01:03:02 & DRB5*02:02:01 & DRB5*01:02:01 & DRB4*01:03:01:02N\\\\\n",
       "  & <int> & <int> & <int> & <int> & <int> & <int> & <int> & <int> & <int> & <int> & ... & <int> & <int> & <int> & <int> & <int> & <int> & <int> & <int> & <int> & <int>\\\\\n",
       "\\hline\n",
       "\t315-05 & 1 & 0 & 0 & 0 & 0 & 0 & 1 & 0 & 0 & 0 & ... & 0 & 0 & 0 & 1 & 0 & 0 & 0 & 0 & 0 & 0\\\\\n",
       "\t319-05 & 0 & 1 & 0 & 0 & 0 & 1 & 0 & 0 & 0 & 0 & ... & 0 & 0 & 0 & 0 & 0 & 0 & 0 & 0 & 0 & 0\\\\\n",
       "\t323-03 & 0 & 0 & 1 & 0 & 0 & 0 & 0 & 1 & 0 & 0 & ... & 1 & 0 & 1 & 0 & 0 & 0 & 0 & 0 & 0 & 0\\\\\n",
       "\t329-04 & 0 & 0 & 0 & 2 & 0 & 0 & 0 & 0 & 0 & 0 & ... & 0 & 1 & 0 & 0 & 0 & 0 & 0 & 1 & 0 & 0\\\\\n",
       "\t330-05 & 1 & 0 & 0 & 0 & 0 & 0 & 0 & 0 & 0 & 0 & ... & 0 & 0 & 1 & 0 & 0 & 0 & 0 & 0 & 0 & 0\\\\\n",
       "\t331-04 & 1 & 0 & 0 & 1 & 0 & 0 & 0 & 0 & 0 & 0 & ... & 1 & 0 & 1 & 0 & 0 & 0 & 0 & 0 & 0 & 0\\\\\n",
       "\\end{tabular}\n"
      ],
      "text/markdown": [
       "\n",
       "A data.frame: 6 x 134\n",
       "\n",
       "| <!--/--> | A*02:01:01 &lt;int&gt; | A*01:01:01 &lt;int&gt; | A*11:01:01 &lt;int&gt; | A*26:01:01 &lt;int&gt; | A*31:01:02 &lt;int&gt; | A*03:01:01 &lt;int&gt; | A*02:05:01 &lt;int&gt; | A*23:01:01 &lt;int&gt; | A*24:02:01 &lt;int&gt; | A*30:01:01 &lt;int&gt; | ... ... | DRB345*Not_Present &lt;int&gt; | DRB5*01:01:01 &lt;int&gt; | DRB4*01:03:01 &lt;int&gt; | DRB3*03:01:01 &lt;int&gt; | DRB4*01:01:01 &lt;int&gt; | DRB3*01:62:01 &lt;int&gt; | DRB4*01:03:02 &lt;int&gt; | DRB5*02:02:01 &lt;int&gt; | DRB5*01:02:01 &lt;int&gt; | DRB4*01:03:01:02N &lt;int&gt; |\n",
       "|---|---|---|---|---|---|---|---|---|---|---|---|---|---|---|---|---|---|---|---|---|---|\n",
       "| 315-05 | 1 | 0 | 0 | 0 | 0 | 0 | 1 | 0 | 0 | 0 | ... | 0 | 0 | 0 | 1 | 0 | 0 | 0 | 0 | 0 | 0 |\n",
       "| 319-05 | 0 | 1 | 0 | 0 | 0 | 1 | 0 | 0 | 0 | 0 | ... | 0 | 0 | 0 | 0 | 0 | 0 | 0 | 0 | 0 | 0 |\n",
       "| 323-03 | 0 | 0 | 1 | 0 | 0 | 0 | 0 | 1 | 0 | 0 | ... | 1 | 0 | 1 | 0 | 0 | 0 | 0 | 0 | 0 | 0 |\n",
       "| 329-04 | 0 | 0 | 0 | 2 | 0 | 0 | 0 | 0 | 0 | 0 | ... | 0 | 1 | 0 | 0 | 0 | 0 | 0 | 1 | 0 | 0 |\n",
       "| 330-05 | 1 | 0 | 0 | 0 | 0 | 0 | 0 | 0 | 0 | 0 | ... | 0 | 0 | 1 | 0 | 0 | 0 | 0 | 0 | 0 | 0 |\n",
       "| 331-04 | 1 | 0 | 0 | 1 | 0 | 0 | 0 | 0 | 0 | 0 | ... | 1 | 0 | 1 | 0 | 0 | 0 | 0 | 0 | 0 | 0 |\n",
       "\n"
      ],
      "text/plain": [
       "       A*02:01:01 A*01:01:01 A*11:01:01 A*26:01:01 A*31:01:02 A*03:01:01\n",
       "315-05 1          0          0          0          0          0         \n",
       "319-05 0          1          0          0          0          1         \n",
       "323-03 0          0          1          0          0          0         \n",
       "329-04 0          0          0          2          0          0         \n",
       "330-05 1          0          0          0          0          0         \n",
       "331-04 1          0          0          1          0          0         \n",
       "       A*02:05:01 A*23:01:01 A*24:02:01 A*30:01:01 ... DRB345*Not_Present\n",
       "315-05 1          0          0          0          ... 0                 \n",
       "319-05 0          0          0          0          ... 0                 \n",
       "323-03 0          1          0          0          ... 1                 \n",
       "329-04 0          0          0          0          ... 0                 \n",
       "330-05 0          0          0          0          ... 0                 \n",
       "331-04 0          0          0          0          ... 1                 \n",
       "       DRB5*01:01:01 DRB4*01:03:01 DRB3*03:01:01 DRB4*01:01:01 DRB3*01:62:01\n",
       "315-05 0             0             1             0             0            \n",
       "319-05 0             0             0             0             0            \n",
       "323-03 0             1             0             0             0            \n",
       "329-04 1             0             0             0             0            \n",
       "330-05 0             1             0             0             0            \n",
       "331-04 0             1             0             0             0            \n",
       "       DRB4*01:03:02 DRB5*02:02:01 DRB5*01:02:01 DRB4*01:03:01:02N\n",
       "315-05 0             0             0             0                \n",
       "319-05 0             0             0             0                \n",
       "323-03 0             0             0             0                \n",
       "329-04 0             1             0             0                \n",
       "330-05 0             0             0             0                \n",
       "331-04 0             0             0             0                "
      ]
     },
     "metadata": {},
     "output_type": "display_data"
    }
   ],
   "source": [
    "head(allhlas)"
   ]
  },
  {
   "cell_type": "code",
   "execution_count": 28,
   "metadata": {
    "vscode": {
     "languageId": "r"
    }
   },
   "outputs": [],
   "source": [
    "allhlas$`DRB345*Not_Present` <- NULL # remove non-present alleles"
   ]
  },
  {
   "attachments": {},
   "cell_type": "markdown",
   "metadata": {},
   "source": [
    "LD pruning"
   ]
  },
  {
   "cell_type": "code",
   "execution_count": 29,
   "metadata": {
    "vscode": {
     "languageId": "r"
    }
   },
   "outputs": [],
   "source": [
    "cormat <- cor(allhlas)\n",
    "\n",
    "remove <- c()\n",
    "for( i in 1:ncol(allhlas) ){    \n",
    "    if( is.element(i, remove) ){ next } else {\n",
    "        r2 <- cormat[,i]^2\n",
    "        ldmarker <- ( 1:ncol(allhlas) )[ r2 > 0.5 ]\n",
    "        ldmarker <- setdiff(ldmarker, i) #keep self\n",
    "        remove <- c(remove, ldmarker)\n",
    "    }\n",
    "}"
   ]
  },
  {
   "cell_type": "code",
   "execution_count": 30,
   "metadata": {
    "vscode": {
     "languageId": "r"
    }
   },
   "outputs": [
    {
     "data": {
      "text/html": [
       "<table class=\"dataframe\">\n",
       "<caption>A matrix: 43 x 43 of type dbl</caption>\n",
       "<thead>\n",
       "\t<tr><th></th><th scope=col>B*08:01:01</th><th scope=col>C*07:04:01</th><th scope=col>DPB1*01:01:02</th><th scope=col>DRB1*04:07:01</th><th scope=col>C*07:02:01</th><th scope=col>C*12:03:01</th><th scope=col>C*02:02:02</th><th scope=col>C*17:01:01</th><th scope=col>C*02:10:01</th><th scope=col>C*03:04:01</th><th scope=col>...</th><th scope=col>DQB1*03:03:02</th><th scope=col>DRB1*09:01:02</th><th scope=col>DRB4*01:03:02</th><th scope=col>DRB1*11:01:02</th><th scope=col>DRB1*13:02:01</th><th scope=col>DRB3*03:01:01</th><th scope=col>DQB1*04:02:01</th><th scope=col>DRB3*01:62:01</th><th scope=col>DRB5*01:02:01</th><th scope=col>DQB1*02:02:01</th></tr>\n",
       "</thead>\n",
       "<tbody>\n",
       "\t<tr><th scope=row>B*08:01:01</th><td> 1.00000000</td><td>-0.08606630</td><td>-0.08606630</td><td>-0.08606630</td><td>-0.10474044</td><td>-0.243440571</td><td> 0.14791073</td><td>-0.10622957</td><td>-0.08606630</td><td>-0.082597366</td><td>...</td><td>-0.13933620</td><td>-0.13933620</td><td>-0.10622957</td><td>-0.08606630</td><td>-0.15388118</td><td>-0.15388118</td><td> 0.079190896</td><td>-0.08606630</td><td>-0.08606630</td><td> 0.023073301</td></tr>\n",
       "\t<tr><th scope=row>C*07:04:01</th><td>-0.08606630</td><td> 1.00000000</td><td>-0.03076923</td><td>-0.03076923</td><td> 0.14411534</td><td> 0.107338853</td><td>-0.04981355</td><td>-0.03797773</td><td>-0.03076923</td><td>-0.069098016</td><td>...</td><td>-0.04981355</td><td>-0.04981355</td><td>-0.03797773</td><td>-0.03076923</td><td>-0.05501347</td><td>-0.05501347</td><td>-0.059914469</td><td>-0.03076923</td><td> 0.48461538</td><td>-0.097022155</td></tr>\n",
       "\t<tr><th scope=row>DPB1*01:01:02</th><td>-0.08606630</td><td>-0.03076923</td><td> 1.00000000</td><td>-0.03076923</td><td>-0.07045639</td><td>-0.087031502</td><td>-0.04981355</td><td>-0.03797773</td><td>-0.03076923</td><td>-0.069098016</td><td>...</td><td>-0.04981355</td><td>-0.04981355</td><td>-0.03797773</td><td> 0.48461538</td><td>-0.05501347</td><td>-0.05501347</td><td>-0.059914469</td><td>-0.03076923</td><td>-0.03076923</td><td> 0.074043224</td></tr>\n",
       "\t<tr><th scope=row>DRB1*04:07:01</th><td>-0.08606630</td><td>-0.03076923</td><td>-0.03076923</td><td> 1.00000000</td><td>-0.07045639</td><td> 0.107338853</td><td> 0.28393722</td><td>-0.03797773</td><td>-0.03076923</td><td> 0.188100155</td><td>...</td><td>-0.04981355</td><td>-0.04981355</td><td>-0.03797773</td><td>-0.03076923</td><td>-0.05501347</td><td>-0.05501347</td><td>-0.059914469</td><td>-0.03076923</td><td>-0.03076923</td><td>-0.097022155</td></tr>\n",
       "\t<tr><th scope=row>C*07:02:01</th><td>-0.10474044</td><td> 0.14411534</td><td>-0.07045639</td><td>-0.07045639</td><td> 1.00000000</td><td>-0.037441907</td><td>-0.11406469</td><td>-0.08696264</td><td>-0.07045639</td><td>-0.158222889</td><td>...</td><td>-0.11406469</td><td>-0.11406469</td><td>-0.08696264</td><td>-0.07045639</td><td>-0.12597163</td><td>-0.12597163</td><td>-0.017817416</td><td>-0.07045639</td><td>-0.07045639</td><td>-0.150944297</td></tr>\n",
       "\t<tr><th scope=row>C*12:03:01</th><td>-0.24344057</td><td> 0.10733885</td><td>-0.08703150</td><td> 0.10733885</td><td>-0.03744191</td><td> 1.000000000</td><td>-0.01502921</td><td>-0.10742090</td><td>-0.08703150</td><td>-0.098446564</td><td>...</td><td>-0.01502921</td><td>-0.14089881</td><td>-0.10742090</td><td>-0.08703150</td><td> 0.19191518</td><td> 0.19191518</td><td>-0.061331820</td><td>-0.08703150</td><td> 0.10733885</td><td>-0.080884478</td></tr>\n",
       "\t<tr><th scope=row>C*02:02:02</th><td> 0.14791073</td><td>-0.04981355</td><td>-0.04981355</td><td> 0.28393722</td><td>-0.11406469</td><td>-0.015029206</td><td> 1.00000000</td><td>-0.06148367</td><td>-0.04981355</td><td> 0.054689831</td><td>...</td><td>-0.08064516</td><td>-0.08064516</td><td>-0.06148367</td><td>-0.04981355</td><td>-0.08906352</td><td>-0.08906352</td><td>-0.096997949</td><td>-0.04981355</td><td>-0.04981355</td><td> 0.064482632</td></tr>\n",
       "\t<tr><th scope=row>C*17:01:01</th><td>-0.10622957</td><td>-0.03797773</td><td>-0.03797773</td><td>-0.03797773</td><td>-0.08696264</td><td>-0.107420904</td><td>-0.06148367</td><td> 1.00000000</td><td>-0.03797773</td><td>-0.085286030</td><td>...</td><td>-0.06148367</td><td>-0.06148367</td><td>-0.04687500</td><td> 0.38610688</td><td> 0.18484381</td><td> 0.18484381</td><td> 0.161987899</td><td> 0.38610688</td><td>-0.03797773</td><td>-0.119752127</td></tr>\n",
       "\t<tr><th scope=row>C*02:10:01</th><td>-0.08606630</td><td>-0.03076923</td><td>-0.03076923</td><td>-0.03076923</td><td>-0.07045639</td><td>-0.087031502</td><td>-0.04981355</td><td>-0.03797773</td><td> 1.00000000</td><td> 0.188100155</td><td>...</td><td>-0.04981355</td><td>-0.04981355</td><td>-0.03797773</td><td>-0.03076923</td><td> 0.25214506</td><td> 0.25214506</td><td>-0.059914469</td><td>-0.03076923</td><td>-0.03076923</td><td> 0.245108602</td></tr>\n",
       "\t<tr><th scope=row>C*03:04:01</th><td>-0.08259737</td><td>-0.06909802</td><td>-0.06909802</td><td> 0.18810015</td><td>-0.15822289</td><td>-0.098446564</td><td> 0.05468983</td><td>-0.08528603</td><td> 0.18810015</td><td> 1.000000000</td><td>...</td><td> 0.05468983</td><td> 0.05468983</td><td> 0.12634967</td><td>-0.06909802</td><td> 0.02974182</td><td> 0.02974182</td><td> 0.008542797</td><td>-0.06909802</td><td> 0.18810015</td><td>-0.047143896</td></tr>\n",
       "\t<tr><th scope=row>DRB4*01:03:01:02N</th><td> 0.07626739</td><td>-0.03797773</td><td>-0.03797773</td><td>-0.03797773</td><td>-0.08696264</td><td> 0.052516886</td><td>-0.06148367</td><td>-0.04687500</td><td>-0.03797773</td><td>-0.085286030</td><td>...</td><td> 0.48777047</td><td>-0.06148367</td><td>-0.04687500</td><td>-0.03797773</td><td>-0.06790181</td><td>-0.06790181</td><td>-0.073950997</td><td>-0.03797773</td><td>-0.03797773</td><td> 0.021009145</td></tr>\n",
       "\t<tr><th scope=row>DPB1*01:01:01</th><td>-0.08259737</td><td>-0.06909802</td><td>-0.06909802</td><td>-0.06909802</td><td>-0.15822289</td><td>-0.195445385</td><td> 0.22124523</td><td> 0.12634967</td><td>-0.06909802</td><td>-0.155172414</td><td>...</td><td>-0.11186556</td><td> 0.22124523</td><td>-0.08528603</td><td> 0.18810015</td><td> 0.02974182</td><td> 0.02974182</td><td> 0.151634650</td><td> 0.44529833</td><td>-0.06909802</td><td> 0.123593457</td></tr>\n",
       "\t<tr><th scope=row>DPB1*19:01:01</th><td>-0.08606630</td><td>-0.03076923</td><td>-0.03076923</td><td> 0.48461538</td><td> 0.14411534</td><td> 0.107338853</td><td>-0.04981355</td><td>-0.03797773</td><td>-0.03076923</td><td>-0.069098016</td><td>...</td><td>-0.04981355</td><td>-0.04981355</td><td>-0.03797773</td><td>-0.03076923</td><td>-0.05501347</td><td>-0.05501347</td><td>-0.059914469</td><td>-0.03076923</td><td>-0.03076923</td><td>-0.097022155</td></tr>\n",
       "\t<tr><th scope=row>DQB1*06:02:01</th><td>-0.02589119</td><td>-0.10228166</td><td> 0.09927338</td><td>-0.10228166</td><td> 0.43710456</td><td>-0.061264825</td><td>-0.03506567</td><td>-0.12624381</td><td>-0.10228166</td><td> 0.072060376</td><td>...</td><td>-0.16558791</td><td>-0.16558791</td><td>-0.12624381</td><td> 0.09927338</td><td>-0.06275062</td><td>-0.06275062</td><td>-0.087030051</td><td>-0.10228166</td><td>-0.10228166</td><td>-0.188717136</td></tr>\n",
       "\t<tr><th scope=row>DRB1*15:01:01</th><td>-0.08243544</td><td>-0.09421114</td><td>-0.09421114</td><td>-0.09421114</td><td> 0.39746203</td><td>-0.028424370</td><td>-0.01626904</td><td>-0.11628256</td><td>-0.09421114</td><td> 0.103433539</td><td>...</td><td>-0.15252222</td><td>-0.15252222</td><td>-0.11628256</td><td>-0.09421114</td><td>-0.04304671</td><td>-0.04304671</td><td>-0.066391373</td><td>-0.09421114</td><td>-0.09421114</td><td>-0.157394170</td></tr>\n",
       "\t<tr><th scope=row>DRB5*01:01:01</th><td>-0.09777281</td><td>-0.09825015</td><td>-0.09825015</td><td>-0.09825015</td><td> 0.37453457</td><td> 0.032422004</td><td>-0.02584743</td><td>-0.12126781</td><td>-0.09825015</td><td> 0.087336247</td><td>...</td><td>-0.15906113</td><td>-0.15906113</td><td>-0.12126781</td><td>-0.09825015</td><td>-0.05306551</td><td>-0.05306551</td><td>-0.076867506</td><td>-0.09825015</td><td>-0.09825015</td><td>-0.173245849</td></tr>\n",
       "\t<tr><th scope=row>DQB1*02:01:01</th><td> 0.64183005</td><td>-0.07347184</td><td>-0.07347184</td><td>-0.07347184</td><td> 0.03670652</td><td>-0.207816838</td><td> 0.19983015</td><td>-0.09068453</td><td>-0.07347184</td><td>-0.164994638</td><td>...</td><td>-0.11894652</td><td>-0.11894652</td><td>-0.09068453</td><td>-0.07347184</td><td>-0.13136307</td><td>-0.13136307</td><td>-0.006131393</td><td>-0.07347184</td><td>-0.07347184</td><td> 0.013412640</td></tr>\n",
       "\t<tr><th scope=row>DRB1*03:01:01</th><td> 0.64183005</td><td>-0.07347184</td><td>-0.07347184</td><td>-0.07347184</td><td> 0.03670652</td><td>-0.207816838</td><td> 0.19983015</td><td>-0.09068453</td><td>-0.07347184</td><td>-0.164994638</td><td>...</td><td>-0.11894652</td><td>-0.11894652</td><td>-0.09068453</td><td>-0.07347184</td><td>-0.13136307</td><td>-0.13136307</td><td>-0.006131393</td><td>-0.07347184</td><td>-0.07347184</td><td> 0.013412640</td></tr>\n",
       "\t<tr><th scope=row>DRB1*01:02:01</th><td>-0.12363303</td><td>-0.04419957</td><td> 0.32597183</td><td>-0.04419957</td><td>-0.10120962</td><td> 0.014585613</td><td>-0.07155647</td><td> 0.25004133</td><td>-0.04419957</td><td>-0.099258333</td><td>...</td><td>-0.07155647</td><td>-0.07155647</td><td>-0.05455447</td><td>-0.04419957</td><td>-0.07902608</td><td>-0.07902608</td><td>-0.086066297</td><td>-0.04419957</td><td>-0.04419957</td><td> 0.106362055</td></tr>\n",
       "\t<tr><th scope=row>DQB1*02:02:01</th><td> 0.02307330</td><td>-0.09702216</td><td> 0.07404322</td><td>-0.09702216</td><td>-0.15094430</td><td>-0.080884478</td><td> 0.06448263</td><td>-0.11975213</td><td> 0.24510860</td><td>-0.047143896</td><td>...</td><td>-0.15707308</td><td> 0.06448263</td><td>-0.11975213</td><td>-0.09702216</td><td>-0.07151816</td><td>-0.07151816</td><td>-0.093751513</td><td> 0.07404322</td><td>-0.09702216</td><td> 1.000000000</td></tr>\n",
       "\t<tr><th scope=row>DRB1*07:01:01</th><td> 0.02307330</td><td>-0.09702216</td><td> 0.07404322</td><td>-0.09702216</td><td>-0.15094430</td><td>-0.016369478</td><td> 0.06448263</td><td>-0.11975213</td><td> 0.24510860</td><td>-0.047143896</td><td>...</td><td> 0.06448263</td><td>-0.15707308</td><td>-0.11975213</td><td>-0.09702216</td><td>-0.07151816</td><td>-0.07151816</td><td>-0.188923504</td><td>-0.09702216</td><td>-0.09702216</td><td> 0.886440678</td></tr>\n",
       "\t<tr><th scope=row>DQB1*05:01:01</th><td>-0.06650752</td><td> 0.12557147</td><td> 0.12557147</td><td>-0.09015388</td><td> 0.06300359</td><td>-0.010928674</td><td>-0.00625516</td><td> 0.24374474</td><td> 0.12557147</td><td> 0.012854429</td><td>...</td><td>-0.14595374</td><td>-0.14595374</td><td>-0.11127477</td><td>-0.09015388</td><td>-0.03262169</td><td>-0.03262169</td><td>-0.175549452</td><td>-0.09015388</td><td>-0.09015388</td><td> 0.002137406</td></tr>\n",
       "\t<tr><th scope=row>DRB1*01:01:01</th><td> 0.02808310</td><td> 0.18810015</td><td>-0.06909802</td><td>-0.06909802</td><td> 0.16301752</td><td>-0.001447744</td><td> 0.05468983</td><td>-0.08528603</td><td> 0.18810015</td><td> 0.101532567</td><td>...</td><td>-0.11186556</td><td>-0.11186556</td><td>-0.08528603</td><td>-0.06909802</td><td>-0.12354295</td><td>-0.12354295</td><td>-0.134549055</td><td>-0.06909802</td><td>-0.06909802</td><td>-0.047143896</td></tr>\n",
       "\t<tr><th scope=row>DQB1*06:03:01</th><td>-0.06427797</td><td>-0.06459179</td><td>-0.06459179</td><td> 0.20588632</td><td> 0.18992267</td><td> 0.021314931</td><td> 0.07058492</td><td>-0.07972410</td><td>-0.06459179</td><td>-0.010073114</td><td>...</td><td> 0.07058492</td><td> 0.07058492</td><td> 0.14283901</td><td>-0.06459179</td><td>-0.11548609</td><td>-0.11548609</td><td>-0.125774437</td><td>-0.06459179</td><td>-0.06459179</td><td>-0.203672120</td></tr>\n",
       "\t<tr><th scope=row>DRB1*13:01:01</th><td>-0.06427797</td><td>-0.06459179</td><td>-0.06459179</td><td> 0.20588632</td><td> 0.18992267</td><td> 0.021314931</td><td> 0.07058492</td><td>-0.07972410</td><td>-0.06459179</td><td>-0.010073114</td><td>...</td><td> 0.07058492</td><td> 0.07058492</td><td> 0.14283901</td><td>-0.06459179</td><td>-0.11548609</td><td>-0.11548609</td><td>-0.125774437</td><td>-0.06459179</td><td>-0.06459179</td><td>-0.203672120</td></tr>\n",
       "\t<tr><th scope=row>DQB1*03:02:01</th><td>-0.06650752</td><td> 0.34129682</td><td>-0.09015388</td><td> 0.12557147</td><td>-0.11662366</td><td> 0.233145039</td><td>-0.14595374</td><td> 0.06623498</td><td>-0.09015388</td><td> 0.120510270</td><td>...</td><td>-0.00625516</td><td>-0.00625516</td><td> 0.06623498</td><td>-0.09015388</td><td>-0.03262169</td><td>-0.03262169</td><td> 0.064487554</td><td>-0.09015388</td><td> 0.12557147</td><td>-0.212671904</td></tr>\n",
       "\t<tr><th scope=row>DQB1*04:02:01</th><td> 0.07919090</td><td>-0.05991447</td><td>-0.05991447</td><td>-0.05991447</td><td>-0.01781742</td><td>-0.061331820</td><td>-0.09699795</td><td> 0.16198790</td><td>-0.05991447</td><td> 0.008542797</td><td>...</td><td>-0.09699795</td><td> 0.08868384</td><td>-0.07395100</td><td> 0.22681906</td><td> 0.06376389</td><td> 0.06376389</td><td> 1.000000000</td><td> 0.51355259</td><td>-0.05991447</td><td>-0.093751513</td></tr>\n",
       "\t<tr><th scope=row>DQB1*03:01:01</th><td>-0.11765549</td><td>-0.09194206</td><td>-0.09194206</td><td> 0.23227468</td><td>-0.14304083</td><td>-0.076649355</td><td> 0.06110631</td><td>-0.11348189</td><td>-0.09194206</td><td>-0.044675435</td><td>...</td><td> 0.06110631</td><td>-0.04387120</td><td>-0.11348189</td><td>-0.09194206</td><td>-0.16438668</td><td>-0.16438668</td><td>-0.179031443</td><td>-0.09194206</td><td>-0.09194206</td><td>-0.128493541</td></tr>\n",
       "\t<tr><th scope=row>DQB1*05:02:01</th><td> 0.19495978</td><td>-0.04419957</td><td>-0.04419957</td><td>-0.04419957</td><td> 0.05290503</td><td>-0.125019536</td><td> 0.16815769</td><td>-0.05455447</td><td>-0.04419957</td><td>-0.099258333</td><td>...</td><td> 0.16815769</td><td> 0.16815769</td><td> 0.25004133</td><td>-0.04419957</td><td>-0.07902608</td><td>-0.07902608</td><td>-0.086066297</td><td>-0.04419957</td><td>-0.04419957</td><td>-0.139370969</td></tr>\n",
       "\t<tr><th scope=row>DRB1*16:01:01</th><td> 0.25876434</td><td>-0.03797773</td><td>-0.03797773</td><td>-0.03797773</td><td> 0.08959787</td><td>-0.107420904</td><td> 0.21314340</td><td>-0.04687500</td><td>-0.03797773</td><td>-0.085286030</td><td>...</td><td>-0.06148367</td><td>-0.06148367</td><td>-0.04687500</td><td>-0.03797773</td><td>-0.06790181</td><td>-0.06790181</td><td>-0.073950997</td><td>-0.03797773</td><td>-0.03797773</td><td>-0.119752127</td></tr>\n",
       "\t<tr><th scope=row>DRB5*02:02:01</th><td> 0.14791073</td><td>-0.04981355</td><td>-0.04981355</td><td>-0.04981355</td><td> 0.02488684</td><td>-0.140898808</td><td> 0.13548387</td><td>-0.06148367</td><td>-0.04981355</td><td>-0.111865564</td><td>...</td><td> 0.13548387</td><td> 0.35161290</td><td> 0.21314340</td><td>-0.04981355</td><td>-0.08906352</td><td>-0.08906352</td><td>-0.096997949</td><td>-0.04981355</td><td>-0.04981355</td><td>-0.046295223</td></tr>\n",
       "\t<tr><th scope=row>DQB1*05:03:01</th><td>-0.10622957</td><td>-0.03797773</td><td>-0.03797773</td><td>-0.03797773</td><td> 0.08959787</td><td> 0.212454676</td><td>-0.06148367</td><td>-0.04687500</td><td>-0.03797773</td><td>-0.085286030</td><td>...</td><td>-0.06148367</td><td>-0.06148367</td><td>-0.04687500</td><td>-0.03797773</td><td>-0.06790181</td><td>-0.06790181</td><td>-0.073950997</td><td>-0.03797773</td><td>-0.03797773</td><td>-0.119752127</td></tr>\n",
       "\t<tr><th scope=row>DRB1*14:54:01</th><td>-0.10622957</td><td>-0.03797773</td><td>-0.03797773</td><td>-0.03797773</td><td> 0.08959787</td><td> 0.212454676</td><td>-0.06148367</td><td>-0.04687500</td><td>-0.03797773</td><td>-0.085286030</td><td>...</td><td>-0.06148367</td><td>-0.06148367</td><td>-0.04687500</td><td>-0.03797773</td><td>-0.06790181</td><td>-0.06790181</td><td>-0.073950997</td><td>-0.03797773</td><td>-0.03797773</td><td>-0.119752127</td></tr>\n",
       "\t<tr><th scope=row>DQB1*03:03:02</th><td>-0.13933620</td><td>-0.04981355</td><td>-0.04981355</td><td>-0.04981355</td><td>-0.11406469</td><td>-0.015029206</td><td>-0.08064516</td><td>-0.06148367</td><td>-0.04981355</td><td> 0.054689831</td><td>...</td><td> 1.00000000</td><td> 0.56774194</td><td> 0.76239753</td><td>-0.04981355</td><td>-0.08906352</td><td>-0.08906352</td><td>-0.096997949</td><td>-0.04981355</td><td>-0.04981355</td><td>-0.157073078</td></tr>\n",
       "\t<tr><th scope=row>DRB1*09:01:02</th><td>-0.13933620</td><td>-0.04981355</td><td>-0.04981355</td><td>-0.04981355</td><td>-0.11406469</td><td>-0.140898808</td><td>-0.08064516</td><td>-0.06148367</td><td>-0.04981355</td><td> 0.054689831</td><td>...</td><td> 0.56774194</td><td> 1.00000000</td><td> 0.76239753</td><td>-0.04981355</td><td>-0.08906352</td><td>-0.08906352</td><td> 0.088683839</td><td> 0.28393722</td><td>-0.04981355</td><td> 0.064482632</td></tr>\n",
       "\t<tr><th scope=row>DRB4*01:03:02</th><td>-0.10622957</td><td>-0.03797773</td><td>-0.03797773</td><td>-0.03797773</td><td>-0.08696264</td><td>-0.107420904</td><td>-0.06148367</td><td>-0.04687500</td><td>-0.03797773</td><td> 0.126349674</td><td>...</td><td> 0.76239753</td><td> 0.76239753</td><td> 1.00000000</td><td>-0.03797773</td><td>-0.06790181</td><td>-0.06790181</td><td>-0.073950997</td><td>-0.03797773</td><td>-0.03797773</td><td>-0.119752127</td></tr>\n",
       "\t<tr><th scope=row>DRB1*11:01:02</th><td>-0.08606630</td><td>-0.03076923</td><td> 0.48461538</td><td>-0.03076923</td><td>-0.07045639</td><td>-0.087031502</td><td>-0.04981355</td><td> 0.38610688</td><td>-0.03076923</td><td>-0.069098016</td><td>...</td><td>-0.04981355</td><td>-0.04981355</td><td>-0.03797773</td><td> 1.00000000</td><td>-0.05501347</td><td>-0.05501347</td><td> 0.226819061</td><td> 0.48461538</td><td>-0.03076923</td><td>-0.097022155</td></tr>\n",
       "\t<tr><th scope=row>DRB1*13:02:01</th><td>-0.15388118</td><td>-0.05501347</td><td>-0.05501347</td><td>-0.05501347</td><td>-0.12597163</td><td> 0.191915185</td><td>-0.08906352</td><td> 0.18484381</td><td> 0.25214506</td><td> 0.029741821</td><td>...</td><td>-0.08906352</td><td>-0.08906352</td><td>-0.06790181</td><td>-0.05501347</td><td> 1.00000000</td><td> 1.00000000</td><td> 0.063763892</td><td>-0.05501347</td><td>-0.05501347</td><td>-0.071518157</td></tr>\n",
       "\t<tr><th scope=row>DRB3*03:01:01</th><td>-0.15388118</td><td>-0.05501347</td><td>-0.05501347</td><td>-0.05501347</td><td>-0.12597163</td><td> 0.191915185</td><td>-0.08906352</td><td> 0.18484381</td><td> 0.25214506</td><td> 0.029741821</td><td>...</td><td>-0.08906352</td><td>-0.08906352</td><td>-0.06790181</td><td>-0.05501347</td><td> 1.00000000</td><td> 1.00000000</td><td> 0.063763892</td><td>-0.05501347</td><td>-0.05501347</td><td>-0.071518157</td></tr>\n",
       "\t<tr><th scope=row>DQB1*04:02:01</th><td> 0.07919090</td><td>-0.05991447</td><td>-0.05991447</td><td>-0.05991447</td><td>-0.01781742</td><td>-0.061331820</td><td>-0.09699795</td><td> 0.16198790</td><td>-0.05991447</td><td> 0.008542797</td><td>...</td><td>-0.09699795</td><td> 0.08868384</td><td>-0.07395100</td><td> 0.22681906</td><td> 0.06376389</td><td> 0.06376389</td><td> 1.000000000</td><td> 0.51355259</td><td>-0.05991447</td><td>-0.093751513</td></tr>\n",
       "\t<tr><th scope=row>DRB3*01:62:01</th><td>-0.08606630</td><td>-0.03076923</td><td>-0.03076923</td><td>-0.03076923</td><td>-0.07045639</td><td>-0.087031502</td><td>-0.04981355</td><td> 0.38610688</td><td>-0.03076923</td><td>-0.069098016</td><td>...</td><td>-0.04981355</td><td> 0.28393722</td><td>-0.03797773</td><td> 0.48461538</td><td>-0.05501347</td><td>-0.05501347</td><td> 0.513552591</td><td> 1.00000000</td><td>-0.03076923</td><td> 0.074043224</td></tr>\n",
       "\t<tr><th scope=row>DRB5*01:02:01</th><td>-0.08606630</td><td> 0.48461538</td><td>-0.03076923</td><td>-0.03076923</td><td>-0.07045639</td><td> 0.107338853</td><td>-0.04981355</td><td>-0.03797773</td><td>-0.03076923</td><td> 0.188100155</td><td>...</td><td>-0.04981355</td><td>-0.04981355</td><td>-0.03797773</td><td>-0.03076923</td><td>-0.05501347</td><td>-0.05501347</td><td>-0.059914469</td><td>-0.03076923</td><td> 1.00000000</td><td>-0.097022155</td></tr>\n",
       "\t<tr><th scope=row>DQB1*02:02:01</th><td> 0.02307330</td><td>-0.09702216</td><td> 0.07404322</td><td>-0.09702216</td><td>-0.15094430</td><td>-0.080884478</td><td> 0.06448263</td><td>-0.11975213</td><td> 0.24510860</td><td>-0.047143896</td><td>...</td><td>-0.15707308</td><td> 0.06448263</td><td>-0.11975213</td><td>-0.09702216</td><td>-0.07151816</td><td>-0.07151816</td><td>-0.093751513</td><td> 0.07404322</td><td>-0.09702216</td><td> 1.000000000</td></tr>\n",
       "</tbody>\n",
       "</table>\n"
      ],
      "text/latex": [
       "A matrix: 43 x 43 of type dbl\n",
       "\\begin{tabular}{r|lllllllllllllllllllll}\n",
       "  & B*08:01:01 & C*07:04:01 & DPB1*01:01:02 & DRB1*04:07:01 & C*07:02:01 & C*12:03:01 & C*02:02:02 & C*17:01:01 & C*02:10:01 & C*03:04:01 & ... & DQB1*03:03:02 & DRB1*09:01:02 & DRB4*01:03:02 & DRB1*11:01:02 & DRB1*13:02:01 & DRB3*03:01:01 & DQB1*04:02:01 & DRB3*01:62:01 & DRB5*01:02:01 & DQB1*02:02:01\\\\\n",
       "\\hline\n",
       "\tB*08:01:01 &  1.00000000 & -0.08606630 & -0.08606630 & -0.08606630 & -0.10474044 & -0.243440571 &  0.14791073 & -0.10622957 & -0.08606630 & -0.082597366 & ... & -0.13933620 & -0.13933620 & -0.10622957 & -0.08606630 & -0.15388118 & -0.15388118 &  0.079190896 & -0.08606630 & -0.08606630 &  0.023073301\\\\\n",
       "\tC*07:04:01 & -0.08606630 &  1.00000000 & -0.03076923 & -0.03076923 &  0.14411534 &  0.107338853 & -0.04981355 & -0.03797773 & -0.03076923 & -0.069098016 & ... & -0.04981355 & -0.04981355 & -0.03797773 & -0.03076923 & -0.05501347 & -0.05501347 & -0.059914469 & -0.03076923 &  0.48461538 & -0.097022155\\\\\n",
       "\tDPB1*01:01:02 & -0.08606630 & -0.03076923 &  1.00000000 & -0.03076923 & -0.07045639 & -0.087031502 & -0.04981355 & -0.03797773 & -0.03076923 & -0.069098016 & ... & -0.04981355 & -0.04981355 & -0.03797773 &  0.48461538 & -0.05501347 & -0.05501347 & -0.059914469 & -0.03076923 & -0.03076923 &  0.074043224\\\\\n",
       "\tDRB1*04:07:01 & -0.08606630 & -0.03076923 & -0.03076923 &  1.00000000 & -0.07045639 &  0.107338853 &  0.28393722 & -0.03797773 & -0.03076923 &  0.188100155 & ... & -0.04981355 & -0.04981355 & -0.03797773 & -0.03076923 & -0.05501347 & -0.05501347 & -0.059914469 & -0.03076923 & -0.03076923 & -0.097022155\\\\\n",
       "\tC*07:02:01 & -0.10474044 &  0.14411534 & -0.07045639 & -0.07045639 &  1.00000000 & -0.037441907 & -0.11406469 & -0.08696264 & -0.07045639 & -0.158222889 & ... & -0.11406469 & -0.11406469 & -0.08696264 & -0.07045639 & -0.12597163 & -0.12597163 & -0.017817416 & -0.07045639 & -0.07045639 & -0.150944297\\\\\n",
       "\tC*12:03:01 & -0.24344057 &  0.10733885 & -0.08703150 &  0.10733885 & -0.03744191 &  1.000000000 & -0.01502921 & -0.10742090 & -0.08703150 & -0.098446564 & ... & -0.01502921 & -0.14089881 & -0.10742090 & -0.08703150 &  0.19191518 &  0.19191518 & -0.061331820 & -0.08703150 &  0.10733885 & -0.080884478\\\\\n",
       "\tC*02:02:02 &  0.14791073 & -0.04981355 & -0.04981355 &  0.28393722 & -0.11406469 & -0.015029206 &  1.00000000 & -0.06148367 & -0.04981355 &  0.054689831 & ... & -0.08064516 & -0.08064516 & -0.06148367 & -0.04981355 & -0.08906352 & -0.08906352 & -0.096997949 & -0.04981355 & -0.04981355 &  0.064482632\\\\\n",
       "\tC*17:01:01 & -0.10622957 & -0.03797773 & -0.03797773 & -0.03797773 & -0.08696264 & -0.107420904 & -0.06148367 &  1.00000000 & -0.03797773 & -0.085286030 & ... & -0.06148367 & -0.06148367 & -0.04687500 &  0.38610688 &  0.18484381 &  0.18484381 &  0.161987899 &  0.38610688 & -0.03797773 & -0.119752127\\\\\n",
       "\tC*02:10:01 & -0.08606630 & -0.03076923 & -0.03076923 & -0.03076923 & -0.07045639 & -0.087031502 & -0.04981355 & -0.03797773 &  1.00000000 &  0.188100155 & ... & -0.04981355 & -0.04981355 & -0.03797773 & -0.03076923 &  0.25214506 &  0.25214506 & -0.059914469 & -0.03076923 & -0.03076923 &  0.245108602\\\\\n",
       "\tC*03:04:01 & -0.08259737 & -0.06909802 & -0.06909802 &  0.18810015 & -0.15822289 & -0.098446564 &  0.05468983 & -0.08528603 &  0.18810015 &  1.000000000 & ... &  0.05468983 &  0.05468983 &  0.12634967 & -0.06909802 &  0.02974182 &  0.02974182 &  0.008542797 & -0.06909802 &  0.18810015 & -0.047143896\\\\\n",
       "\tDRB4*01:03:01:02N &  0.07626739 & -0.03797773 & -0.03797773 & -0.03797773 & -0.08696264 &  0.052516886 & -0.06148367 & -0.04687500 & -0.03797773 & -0.085286030 & ... &  0.48777047 & -0.06148367 & -0.04687500 & -0.03797773 & -0.06790181 & -0.06790181 & -0.073950997 & -0.03797773 & -0.03797773 &  0.021009145\\\\\n",
       "\tDPB1*01:01:01 & -0.08259737 & -0.06909802 & -0.06909802 & -0.06909802 & -0.15822289 & -0.195445385 &  0.22124523 &  0.12634967 & -0.06909802 & -0.155172414 & ... & -0.11186556 &  0.22124523 & -0.08528603 &  0.18810015 &  0.02974182 &  0.02974182 &  0.151634650 &  0.44529833 & -0.06909802 &  0.123593457\\\\\n",
       "\tDPB1*19:01:01 & -0.08606630 & -0.03076923 & -0.03076923 &  0.48461538 &  0.14411534 &  0.107338853 & -0.04981355 & -0.03797773 & -0.03076923 & -0.069098016 & ... & -0.04981355 & -0.04981355 & -0.03797773 & -0.03076923 & -0.05501347 & -0.05501347 & -0.059914469 & -0.03076923 & -0.03076923 & -0.097022155\\\\\n",
       "\tDQB1*06:02:01 & -0.02589119 & -0.10228166 &  0.09927338 & -0.10228166 &  0.43710456 & -0.061264825 & -0.03506567 & -0.12624381 & -0.10228166 &  0.072060376 & ... & -0.16558791 & -0.16558791 & -0.12624381 &  0.09927338 & -0.06275062 & -0.06275062 & -0.087030051 & -0.10228166 & -0.10228166 & -0.188717136\\\\\n",
       "\tDRB1*15:01:01 & -0.08243544 & -0.09421114 & -0.09421114 & -0.09421114 &  0.39746203 & -0.028424370 & -0.01626904 & -0.11628256 & -0.09421114 &  0.103433539 & ... & -0.15252222 & -0.15252222 & -0.11628256 & -0.09421114 & -0.04304671 & -0.04304671 & -0.066391373 & -0.09421114 & -0.09421114 & -0.157394170\\\\\n",
       "\tDRB5*01:01:01 & -0.09777281 & -0.09825015 & -0.09825015 & -0.09825015 &  0.37453457 &  0.032422004 & -0.02584743 & -0.12126781 & -0.09825015 &  0.087336247 & ... & -0.15906113 & -0.15906113 & -0.12126781 & -0.09825015 & -0.05306551 & -0.05306551 & -0.076867506 & -0.09825015 & -0.09825015 & -0.173245849\\\\\n",
       "\tDQB1*02:01:01 &  0.64183005 & -0.07347184 & -0.07347184 & -0.07347184 &  0.03670652 & -0.207816838 &  0.19983015 & -0.09068453 & -0.07347184 & -0.164994638 & ... & -0.11894652 & -0.11894652 & -0.09068453 & -0.07347184 & -0.13136307 & -0.13136307 & -0.006131393 & -0.07347184 & -0.07347184 &  0.013412640\\\\\n",
       "\tDRB1*03:01:01 &  0.64183005 & -0.07347184 & -0.07347184 & -0.07347184 &  0.03670652 & -0.207816838 &  0.19983015 & -0.09068453 & -0.07347184 & -0.164994638 & ... & -0.11894652 & -0.11894652 & -0.09068453 & -0.07347184 & -0.13136307 & -0.13136307 & -0.006131393 & -0.07347184 & -0.07347184 &  0.013412640\\\\\n",
       "\tDRB1*01:02:01 & -0.12363303 & -0.04419957 &  0.32597183 & -0.04419957 & -0.10120962 &  0.014585613 & -0.07155647 &  0.25004133 & -0.04419957 & -0.099258333 & ... & -0.07155647 & -0.07155647 & -0.05455447 & -0.04419957 & -0.07902608 & -0.07902608 & -0.086066297 & -0.04419957 & -0.04419957 &  0.106362055\\\\\n",
       "\tDQB1*02:02:01 &  0.02307330 & -0.09702216 &  0.07404322 & -0.09702216 & -0.15094430 & -0.080884478 &  0.06448263 & -0.11975213 &  0.24510860 & -0.047143896 & ... & -0.15707308 &  0.06448263 & -0.11975213 & -0.09702216 & -0.07151816 & -0.07151816 & -0.093751513 &  0.07404322 & -0.09702216 &  1.000000000\\\\\n",
       "\tDRB1*07:01:01 &  0.02307330 & -0.09702216 &  0.07404322 & -0.09702216 & -0.15094430 & -0.016369478 &  0.06448263 & -0.11975213 &  0.24510860 & -0.047143896 & ... &  0.06448263 & -0.15707308 & -0.11975213 & -0.09702216 & -0.07151816 & -0.07151816 & -0.188923504 & -0.09702216 & -0.09702216 &  0.886440678\\\\\n",
       "\tDQB1*05:01:01 & -0.06650752 &  0.12557147 &  0.12557147 & -0.09015388 &  0.06300359 & -0.010928674 & -0.00625516 &  0.24374474 &  0.12557147 &  0.012854429 & ... & -0.14595374 & -0.14595374 & -0.11127477 & -0.09015388 & -0.03262169 & -0.03262169 & -0.175549452 & -0.09015388 & -0.09015388 &  0.002137406\\\\\n",
       "\tDRB1*01:01:01 &  0.02808310 &  0.18810015 & -0.06909802 & -0.06909802 &  0.16301752 & -0.001447744 &  0.05468983 & -0.08528603 &  0.18810015 &  0.101532567 & ... & -0.11186556 & -0.11186556 & -0.08528603 & -0.06909802 & -0.12354295 & -0.12354295 & -0.134549055 & -0.06909802 & -0.06909802 & -0.047143896\\\\\n",
       "\tDQB1*06:03:01 & -0.06427797 & -0.06459179 & -0.06459179 &  0.20588632 &  0.18992267 &  0.021314931 &  0.07058492 & -0.07972410 & -0.06459179 & -0.010073114 & ... &  0.07058492 &  0.07058492 &  0.14283901 & -0.06459179 & -0.11548609 & -0.11548609 & -0.125774437 & -0.06459179 & -0.06459179 & -0.203672120\\\\\n",
       "\tDRB1*13:01:01 & -0.06427797 & -0.06459179 & -0.06459179 &  0.20588632 &  0.18992267 &  0.021314931 &  0.07058492 & -0.07972410 & -0.06459179 & -0.010073114 & ... &  0.07058492 &  0.07058492 &  0.14283901 & -0.06459179 & -0.11548609 & -0.11548609 & -0.125774437 & -0.06459179 & -0.06459179 & -0.203672120\\\\\n",
       "\tDQB1*03:02:01 & -0.06650752 &  0.34129682 & -0.09015388 &  0.12557147 & -0.11662366 &  0.233145039 & -0.14595374 &  0.06623498 & -0.09015388 &  0.120510270 & ... & -0.00625516 & -0.00625516 &  0.06623498 & -0.09015388 & -0.03262169 & -0.03262169 &  0.064487554 & -0.09015388 &  0.12557147 & -0.212671904\\\\\n",
       "\tDQB1*04:02:01 &  0.07919090 & -0.05991447 & -0.05991447 & -0.05991447 & -0.01781742 & -0.061331820 & -0.09699795 &  0.16198790 & -0.05991447 &  0.008542797 & ... & -0.09699795 &  0.08868384 & -0.07395100 &  0.22681906 &  0.06376389 &  0.06376389 &  1.000000000 &  0.51355259 & -0.05991447 & -0.093751513\\\\\n",
       "\tDQB1*03:01:01 & -0.11765549 & -0.09194206 & -0.09194206 &  0.23227468 & -0.14304083 & -0.076649355 &  0.06110631 & -0.11348189 & -0.09194206 & -0.044675435 & ... &  0.06110631 & -0.04387120 & -0.11348189 & -0.09194206 & -0.16438668 & -0.16438668 & -0.179031443 & -0.09194206 & -0.09194206 & -0.128493541\\\\\n",
       "\tDQB1*05:02:01 &  0.19495978 & -0.04419957 & -0.04419957 & -0.04419957 &  0.05290503 & -0.125019536 &  0.16815769 & -0.05455447 & -0.04419957 & -0.099258333 & ... &  0.16815769 &  0.16815769 &  0.25004133 & -0.04419957 & -0.07902608 & -0.07902608 & -0.086066297 & -0.04419957 & -0.04419957 & -0.139370969\\\\\n",
       "\tDRB1*16:01:01 &  0.25876434 & -0.03797773 & -0.03797773 & -0.03797773 &  0.08959787 & -0.107420904 &  0.21314340 & -0.04687500 & -0.03797773 & -0.085286030 & ... & -0.06148367 & -0.06148367 & -0.04687500 & -0.03797773 & -0.06790181 & -0.06790181 & -0.073950997 & -0.03797773 & -0.03797773 & -0.119752127\\\\\n",
       "\tDRB5*02:02:01 &  0.14791073 & -0.04981355 & -0.04981355 & -0.04981355 &  0.02488684 & -0.140898808 &  0.13548387 & -0.06148367 & -0.04981355 & -0.111865564 & ... &  0.13548387 &  0.35161290 &  0.21314340 & -0.04981355 & -0.08906352 & -0.08906352 & -0.096997949 & -0.04981355 & -0.04981355 & -0.046295223\\\\\n",
       "\tDQB1*05:03:01 & -0.10622957 & -0.03797773 & -0.03797773 & -0.03797773 &  0.08959787 &  0.212454676 & -0.06148367 & -0.04687500 & -0.03797773 & -0.085286030 & ... & -0.06148367 & -0.06148367 & -0.04687500 & -0.03797773 & -0.06790181 & -0.06790181 & -0.073950997 & -0.03797773 & -0.03797773 & -0.119752127\\\\\n",
       "\tDRB1*14:54:01 & -0.10622957 & -0.03797773 & -0.03797773 & -0.03797773 &  0.08959787 &  0.212454676 & -0.06148367 & -0.04687500 & -0.03797773 & -0.085286030 & ... & -0.06148367 & -0.06148367 & -0.04687500 & -0.03797773 & -0.06790181 & -0.06790181 & -0.073950997 & -0.03797773 & -0.03797773 & -0.119752127\\\\\n",
       "\tDQB1*03:03:02 & -0.13933620 & -0.04981355 & -0.04981355 & -0.04981355 & -0.11406469 & -0.015029206 & -0.08064516 & -0.06148367 & -0.04981355 &  0.054689831 & ... &  1.00000000 &  0.56774194 &  0.76239753 & -0.04981355 & -0.08906352 & -0.08906352 & -0.096997949 & -0.04981355 & -0.04981355 & -0.157073078\\\\\n",
       "\tDRB1*09:01:02 & -0.13933620 & -0.04981355 & -0.04981355 & -0.04981355 & -0.11406469 & -0.140898808 & -0.08064516 & -0.06148367 & -0.04981355 &  0.054689831 & ... &  0.56774194 &  1.00000000 &  0.76239753 & -0.04981355 & -0.08906352 & -0.08906352 &  0.088683839 &  0.28393722 & -0.04981355 &  0.064482632\\\\\n",
       "\tDRB4*01:03:02 & -0.10622957 & -0.03797773 & -0.03797773 & -0.03797773 & -0.08696264 & -0.107420904 & -0.06148367 & -0.04687500 & -0.03797773 &  0.126349674 & ... &  0.76239753 &  0.76239753 &  1.00000000 & -0.03797773 & -0.06790181 & -0.06790181 & -0.073950997 & -0.03797773 & -0.03797773 & -0.119752127\\\\\n",
       "\tDRB1*11:01:02 & -0.08606630 & -0.03076923 &  0.48461538 & -0.03076923 & -0.07045639 & -0.087031502 & -0.04981355 &  0.38610688 & -0.03076923 & -0.069098016 & ... & -0.04981355 & -0.04981355 & -0.03797773 &  1.00000000 & -0.05501347 & -0.05501347 &  0.226819061 &  0.48461538 & -0.03076923 & -0.097022155\\\\\n",
       "\tDRB1*13:02:01 & -0.15388118 & -0.05501347 & -0.05501347 & -0.05501347 & -0.12597163 &  0.191915185 & -0.08906352 &  0.18484381 &  0.25214506 &  0.029741821 & ... & -0.08906352 & -0.08906352 & -0.06790181 & -0.05501347 &  1.00000000 &  1.00000000 &  0.063763892 & -0.05501347 & -0.05501347 & -0.071518157\\\\\n",
       "\tDRB3*03:01:01 & -0.15388118 & -0.05501347 & -0.05501347 & -0.05501347 & -0.12597163 &  0.191915185 & -0.08906352 &  0.18484381 &  0.25214506 &  0.029741821 & ... & -0.08906352 & -0.08906352 & -0.06790181 & -0.05501347 &  1.00000000 &  1.00000000 &  0.063763892 & -0.05501347 & -0.05501347 & -0.071518157\\\\\n",
       "\tDQB1*04:02:01 &  0.07919090 & -0.05991447 & -0.05991447 & -0.05991447 & -0.01781742 & -0.061331820 & -0.09699795 &  0.16198790 & -0.05991447 &  0.008542797 & ... & -0.09699795 &  0.08868384 & -0.07395100 &  0.22681906 &  0.06376389 &  0.06376389 &  1.000000000 &  0.51355259 & -0.05991447 & -0.093751513\\\\\n",
       "\tDRB3*01:62:01 & -0.08606630 & -0.03076923 & -0.03076923 & -0.03076923 & -0.07045639 & -0.087031502 & -0.04981355 &  0.38610688 & -0.03076923 & -0.069098016 & ... & -0.04981355 &  0.28393722 & -0.03797773 &  0.48461538 & -0.05501347 & -0.05501347 &  0.513552591 &  1.00000000 & -0.03076923 &  0.074043224\\\\\n",
       "\tDRB5*01:02:01 & -0.08606630 &  0.48461538 & -0.03076923 & -0.03076923 & -0.07045639 &  0.107338853 & -0.04981355 & -0.03797773 & -0.03076923 &  0.188100155 & ... & -0.04981355 & -0.04981355 & -0.03797773 & -0.03076923 & -0.05501347 & -0.05501347 & -0.059914469 & -0.03076923 &  1.00000000 & -0.097022155\\\\\n",
       "\tDQB1*02:02:01 &  0.02307330 & -0.09702216 &  0.07404322 & -0.09702216 & -0.15094430 & -0.080884478 &  0.06448263 & -0.11975213 &  0.24510860 & -0.047143896 & ... & -0.15707308 &  0.06448263 & -0.11975213 & -0.09702216 & -0.07151816 & -0.07151816 & -0.093751513 &  0.07404322 & -0.09702216 &  1.000000000\\\\\n",
       "\\end{tabular}\n"
      ],
      "text/markdown": [
       "\n",
       "A matrix: 43 x 43 of type dbl\n",
       "\n",
       "| <!--/--> | B*08:01:01 | C*07:04:01 | DPB1*01:01:02 | DRB1*04:07:01 | C*07:02:01 | C*12:03:01 | C*02:02:02 | C*17:01:01 | C*02:10:01 | C*03:04:01 | ... | DQB1*03:03:02 | DRB1*09:01:02 | DRB4*01:03:02 | DRB1*11:01:02 | DRB1*13:02:01 | DRB3*03:01:01 | DQB1*04:02:01 | DRB3*01:62:01 | DRB5*01:02:01 | DQB1*02:02:01 |\n",
       "|---|---|---|---|---|---|---|---|---|---|---|---|---|---|---|---|---|---|---|---|---|---|\n",
       "| B*08:01:01 |  1.00000000 | -0.08606630 | -0.08606630 | -0.08606630 | -0.10474044 | -0.243440571 |  0.14791073 | -0.10622957 | -0.08606630 | -0.082597366 | ... | -0.13933620 | -0.13933620 | -0.10622957 | -0.08606630 | -0.15388118 | -0.15388118 |  0.079190896 | -0.08606630 | -0.08606630 |  0.023073301 |\n",
       "| C*07:04:01 | -0.08606630 |  1.00000000 | -0.03076923 | -0.03076923 |  0.14411534 |  0.107338853 | -0.04981355 | -0.03797773 | -0.03076923 | -0.069098016 | ... | -0.04981355 | -0.04981355 | -0.03797773 | -0.03076923 | -0.05501347 | -0.05501347 | -0.059914469 | -0.03076923 |  0.48461538 | -0.097022155 |\n",
       "| DPB1*01:01:02 | -0.08606630 | -0.03076923 |  1.00000000 | -0.03076923 | -0.07045639 | -0.087031502 | -0.04981355 | -0.03797773 | -0.03076923 | -0.069098016 | ... | -0.04981355 | -0.04981355 | -0.03797773 |  0.48461538 | -0.05501347 | -0.05501347 | -0.059914469 | -0.03076923 | -0.03076923 |  0.074043224 |\n",
       "| DRB1*04:07:01 | -0.08606630 | -0.03076923 | -0.03076923 |  1.00000000 | -0.07045639 |  0.107338853 |  0.28393722 | -0.03797773 | -0.03076923 |  0.188100155 | ... | -0.04981355 | -0.04981355 | -0.03797773 | -0.03076923 | -0.05501347 | -0.05501347 | -0.059914469 | -0.03076923 | -0.03076923 | -0.097022155 |\n",
       "| C*07:02:01 | -0.10474044 |  0.14411534 | -0.07045639 | -0.07045639 |  1.00000000 | -0.037441907 | -0.11406469 | -0.08696264 | -0.07045639 | -0.158222889 | ... | -0.11406469 | -0.11406469 | -0.08696264 | -0.07045639 | -0.12597163 | -0.12597163 | -0.017817416 | -0.07045639 | -0.07045639 | -0.150944297 |\n",
       "| C*12:03:01 | -0.24344057 |  0.10733885 | -0.08703150 |  0.10733885 | -0.03744191 |  1.000000000 | -0.01502921 | -0.10742090 | -0.08703150 | -0.098446564 | ... | -0.01502921 | -0.14089881 | -0.10742090 | -0.08703150 |  0.19191518 |  0.19191518 | -0.061331820 | -0.08703150 |  0.10733885 | -0.080884478 |\n",
       "| C*02:02:02 |  0.14791073 | -0.04981355 | -0.04981355 |  0.28393722 | -0.11406469 | -0.015029206 |  1.00000000 | -0.06148367 | -0.04981355 |  0.054689831 | ... | -0.08064516 | -0.08064516 | -0.06148367 | -0.04981355 | -0.08906352 | -0.08906352 | -0.096997949 | -0.04981355 | -0.04981355 |  0.064482632 |\n",
       "| C*17:01:01 | -0.10622957 | -0.03797773 | -0.03797773 | -0.03797773 | -0.08696264 | -0.107420904 | -0.06148367 |  1.00000000 | -0.03797773 | -0.085286030 | ... | -0.06148367 | -0.06148367 | -0.04687500 |  0.38610688 |  0.18484381 |  0.18484381 |  0.161987899 |  0.38610688 | -0.03797773 | -0.119752127 |\n",
       "| C*02:10:01 | -0.08606630 | -0.03076923 | -0.03076923 | -0.03076923 | -0.07045639 | -0.087031502 | -0.04981355 | -0.03797773 |  1.00000000 |  0.188100155 | ... | -0.04981355 | -0.04981355 | -0.03797773 | -0.03076923 |  0.25214506 |  0.25214506 | -0.059914469 | -0.03076923 | -0.03076923 |  0.245108602 |\n",
       "| C*03:04:01 | -0.08259737 | -0.06909802 | -0.06909802 |  0.18810015 | -0.15822289 | -0.098446564 |  0.05468983 | -0.08528603 |  0.18810015 |  1.000000000 | ... |  0.05468983 |  0.05468983 |  0.12634967 | -0.06909802 |  0.02974182 |  0.02974182 |  0.008542797 | -0.06909802 |  0.18810015 | -0.047143896 |\n",
       "| DRB4*01:03:01:02N |  0.07626739 | -0.03797773 | -0.03797773 | -0.03797773 | -0.08696264 |  0.052516886 | -0.06148367 | -0.04687500 | -0.03797773 | -0.085286030 | ... |  0.48777047 | -0.06148367 | -0.04687500 | -0.03797773 | -0.06790181 | -0.06790181 | -0.073950997 | -0.03797773 | -0.03797773 |  0.021009145 |\n",
       "| DPB1*01:01:01 | -0.08259737 | -0.06909802 | -0.06909802 | -0.06909802 | -0.15822289 | -0.195445385 |  0.22124523 |  0.12634967 | -0.06909802 | -0.155172414 | ... | -0.11186556 |  0.22124523 | -0.08528603 |  0.18810015 |  0.02974182 |  0.02974182 |  0.151634650 |  0.44529833 | -0.06909802 |  0.123593457 |\n",
       "| DPB1*19:01:01 | -0.08606630 | -0.03076923 | -0.03076923 |  0.48461538 |  0.14411534 |  0.107338853 | -0.04981355 | -0.03797773 | -0.03076923 | -0.069098016 | ... | -0.04981355 | -0.04981355 | -0.03797773 | -0.03076923 | -0.05501347 | -0.05501347 | -0.059914469 | -0.03076923 | -0.03076923 | -0.097022155 |\n",
       "| DQB1*06:02:01 | -0.02589119 | -0.10228166 |  0.09927338 | -0.10228166 |  0.43710456 | -0.061264825 | -0.03506567 | -0.12624381 | -0.10228166 |  0.072060376 | ... | -0.16558791 | -0.16558791 | -0.12624381 |  0.09927338 | -0.06275062 | -0.06275062 | -0.087030051 | -0.10228166 | -0.10228166 | -0.188717136 |\n",
       "| DRB1*15:01:01 | -0.08243544 | -0.09421114 | -0.09421114 | -0.09421114 |  0.39746203 | -0.028424370 | -0.01626904 | -0.11628256 | -0.09421114 |  0.103433539 | ... | -0.15252222 | -0.15252222 | -0.11628256 | -0.09421114 | -0.04304671 | -0.04304671 | -0.066391373 | -0.09421114 | -0.09421114 | -0.157394170 |\n",
       "| DRB5*01:01:01 | -0.09777281 | -0.09825015 | -0.09825015 | -0.09825015 |  0.37453457 |  0.032422004 | -0.02584743 | -0.12126781 | -0.09825015 |  0.087336247 | ... | -0.15906113 | -0.15906113 | -0.12126781 | -0.09825015 | -0.05306551 | -0.05306551 | -0.076867506 | -0.09825015 | -0.09825015 | -0.173245849 |\n",
       "| DQB1*02:01:01 |  0.64183005 | -0.07347184 | -0.07347184 | -0.07347184 |  0.03670652 | -0.207816838 |  0.19983015 | -0.09068453 | -0.07347184 | -0.164994638 | ... | -0.11894652 | -0.11894652 | -0.09068453 | -0.07347184 | -0.13136307 | -0.13136307 | -0.006131393 | -0.07347184 | -0.07347184 |  0.013412640 |\n",
       "| DRB1*03:01:01 |  0.64183005 | -0.07347184 | -0.07347184 | -0.07347184 |  0.03670652 | -0.207816838 |  0.19983015 | -0.09068453 | -0.07347184 | -0.164994638 | ... | -0.11894652 | -0.11894652 | -0.09068453 | -0.07347184 | -0.13136307 | -0.13136307 | -0.006131393 | -0.07347184 | -0.07347184 |  0.013412640 |\n",
       "| DRB1*01:02:01 | -0.12363303 | -0.04419957 |  0.32597183 | -0.04419957 | -0.10120962 |  0.014585613 | -0.07155647 |  0.25004133 | -0.04419957 | -0.099258333 | ... | -0.07155647 | -0.07155647 | -0.05455447 | -0.04419957 | -0.07902608 | -0.07902608 | -0.086066297 | -0.04419957 | -0.04419957 |  0.106362055 |\n",
       "| DQB1*02:02:01 |  0.02307330 | -0.09702216 |  0.07404322 | -0.09702216 | -0.15094430 | -0.080884478 |  0.06448263 | -0.11975213 |  0.24510860 | -0.047143896 | ... | -0.15707308 |  0.06448263 | -0.11975213 | -0.09702216 | -0.07151816 | -0.07151816 | -0.093751513 |  0.07404322 | -0.09702216 |  1.000000000 |\n",
       "| DRB1*07:01:01 |  0.02307330 | -0.09702216 |  0.07404322 | -0.09702216 | -0.15094430 | -0.016369478 |  0.06448263 | -0.11975213 |  0.24510860 | -0.047143896 | ... |  0.06448263 | -0.15707308 | -0.11975213 | -0.09702216 | -0.07151816 | -0.07151816 | -0.188923504 | -0.09702216 | -0.09702216 |  0.886440678 |\n",
       "| DQB1*05:01:01 | -0.06650752 |  0.12557147 |  0.12557147 | -0.09015388 |  0.06300359 | -0.010928674 | -0.00625516 |  0.24374474 |  0.12557147 |  0.012854429 | ... | -0.14595374 | -0.14595374 | -0.11127477 | -0.09015388 | -0.03262169 | -0.03262169 | -0.175549452 | -0.09015388 | -0.09015388 |  0.002137406 |\n",
       "| DRB1*01:01:01 |  0.02808310 |  0.18810015 | -0.06909802 | -0.06909802 |  0.16301752 | -0.001447744 |  0.05468983 | -0.08528603 |  0.18810015 |  0.101532567 | ... | -0.11186556 | -0.11186556 | -0.08528603 | -0.06909802 | -0.12354295 | -0.12354295 | -0.134549055 | -0.06909802 | -0.06909802 | -0.047143896 |\n",
       "| DQB1*06:03:01 | -0.06427797 | -0.06459179 | -0.06459179 |  0.20588632 |  0.18992267 |  0.021314931 |  0.07058492 | -0.07972410 | -0.06459179 | -0.010073114 | ... |  0.07058492 |  0.07058492 |  0.14283901 | -0.06459179 | -0.11548609 | -0.11548609 | -0.125774437 | -0.06459179 | -0.06459179 | -0.203672120 |\n",
       "| DRB1*13:01:01 | -0.06427797 | -0.06459179 | -0.06459179 |  0.20588632 |  0.18992267 |  0.021314931 |  0.07058492 | -0.07972410 | -0.06459179 | -0.010073114 | ... |  0.07058492 |  0.07058492 |  0.14283901 | -0.06459179 | -0.11548609 | -0.11548609 | -0.125774437 | -0.06459179 | -0.06459179 | -0.203672120 |\n",
       "| DQB1*03:02:01 | -0.06650752 |  0.34129682 | -0.09015388 |  0.12557147 | -0.11662366 |  0.233145039 | -0.14595374 |  0.06623498 | -0.09015388 |  0.120510270 | ... | -0.00625516 | -0.00625516 |  0.06623498 | -0.09015388 | -0.03262169 | -0.03262169 |  0.064487554 | -0.09015388 |  0.12557147 | -0.212671904 |\n",
       "| DQB1*04:02:01 |  0.07919090 | -0.05991447 | -0.05991447 | -0.05991447 | -0.01781742 | -0.061331820 | -0.09699795 |  0.16198790 | -0.05991447 |  0.008542797 | ... | -0.09699795 |  0.08868384 | -0.07395100 |  0.22681906 |  0.06376389 |  0.06376389 |  1.000000000 |  0.51355259 | -0.05991447 | -0.093751513 |\n",
       "| DQB1*03:01:01 | -0.11765549 | -0.09194206 | -0.09194206 |  0.23227468 | -0.14304083 | -0.076649355 |  0.06110631 | -0.11348189 | -0.09194206 | -0.044675435 | ... |  0.06110631 | -0.04387120 | -0.11348189 | -0.09194206 | -0.16438668 | -0.16438668 | -0.179031443 | -0.09194206 | -0.09194206 | -0.128493541 |\n",
       "| DQB1*05:02:01 |  0.19495978 | -0.04419957 | -0.04419957 | -0.04419957 |  0.05290503 | -0.125019536 |  0.16815769 | -0.05455447 | -0.04419957 | -0.099258333 | ... |  0.16815769 |  0.16815769 |  0.25004133 | -0.04419957 | -0.07902608 | -0.07902608 | -0.086066297 | -0.04419957 | -0.04419957 | -0.139370969 |\n",
       "| DRB1*16:01:01 |  0.25876434 | -0.03797773 | -0.03797773 | -0.03797773 |  0.08959787 | -0.107420904 |  0.21314340 | -0.04687500 | -0.03797773 | -0.085286030 | ... | -0.06148367 | -0.06148367 | -0.04687500 | -0.03797773 | -0.06790181 | -0.06790181 | -0.073950997 | -0.03797773 | -0.03797773 | -0.119752127 |\n",
       "| DRB5*02:02:01 |  0.14791073 | -0.04981355 | -0.04981355 | -0.04981355 |  0.02488684 | -0.140898808 |  0.13548387 | -0.06148367 | -0.04981355 | -0.111865564 | ... |  0.13548387 |  0.35161290 |  0.21314340 | -0.04981355 | -0.08906352 | -0.08906352 | -0.096997949 | -0.04981355 | -0.04981355 | -0.046295223 |\n",
       "| DQB1*05:03:01 | -0.10622957 | -0.03797773 | -0.03797773 | -0.03797773 |  0.08959787 |  0.212454676 | -0.06148367 | -0.04687500 | -0.03797773 | -0.085286030 | ... | -0.06148367 | -0.06148367 | -0.04687500 | -0.03797773 | -0.06790181 | -0.06790181 | -0.073950997 | -0.03797773 | -0.03797773 | -0.119752127 |\n",
       "| DRB1*14:54:01 | -0.10622957 | -0.03797773 | -0.03797773 | -0.03797773 |  0.08959787 |  0.212454676 | -0.06148367 | -0.04687500 | -0.03797773 | -0.085286030 | ... | -0.06148367 | -0.06148367 | -0.04687500 | -0.03797773 | -0.06790181 | -0.06790181 | -0.073950997 | -0.03797773 | -0.03797773 | -0.119752127 |\n",
       "| DQB1*03:03:02 | -0.13933620 | -0.04981355 | -0.04981355 | -0.04981355 | -0.11406469 | -0.015029206 | -0.08064516 | -0.06148367 | -0.04981355 |  0.054689831 | ... |  1.00000000 |  0.56774194 |  0.76239753 | -0.04981355 | -0.08906352 | -0.08906352 | -0.096997949 | -0.04981355 | -0.04981355 | -0.157073078 |\n",
       "| DRB1*09:01:02 | -0.13933620 | -0.04981355 | -0.04981355 | -0.04981355 | -0.11406469 | -0.140898808 | -0.08064516 | -0.06148367 | -0.04981355 |  0.054689831 | ... |  0.56774194 |  1.00000000 |  0.76239753 | -0.04981355 | -0.08906352 | -0.08906352 |  0.088683839 |  0.28393722 | -0.04981355 |  0.064482632 |\n",
       "| DRB4*01:03:02 | -0.10622957 | -0.03797773 | -0.03797773 | -0.03797773 | -0.08696264 | -0.107420904 | -0.06148367 | -0.04687500 | -0.03797773 |  0.126349674 | ... |  0.76239753 |  0.76239753 |  1.00000000 | -0.03797773 | -0.06790181 | -0.06790181 | -0.073950997 | -0.03797773 | -0.03797773 | -0.119752127 |\n",
       "| DRB1*11:01:02 | -0.08606630 | -0.03076923 |  0.48461538 | -0.03076923 | -0.07045639 | -0.087031502 | -0.04981355 |  0.38610688 | -0.03076923 | -0.069098016 | ... | -0.04981355 | -0.04981355 | -0.03797773 |  1.00000000 | -0.05501347 | -0.05501347 |  0.226819061 |  0.48461538 | -0.03076923 | -0.097022155 |\n",
       "| DRB1*13:02:01 | -0.15388118 | -0.05501347 | -0.05501347 | -0.05501347 | -0.12597163 |  0.191915185 | -0.08906352 |  0.18484381 |  0.25214506 |  0.029741821 | ... | -0.08906352 | -0.08906352 | -0.06790181 | -0.05501347 |  1.00000000 |  1.00000000 |  0.063763892 | -0.05501347 | -0.05501347 | -0.071518157 |\n",
       "| DRB3*03:01:01 | -0.15388118 | -0.05501347 | -0.05501347 | -0.05501347 | -0.12597163 |  0.191915185 | -0.08906352 |  0.18484381 |  0.25214506 |  0.029741821 | ... | -0.08906352 | -0.08906352 | -0.06790181 | -0.05501347 |  1.00000000 |  1.00000000 |  0.063763892 | -0.05501347 | -0.05501347 | -0.071518157 |\n",
       "| DQB1*04:02:01 |  0.07919090 | -0.05991447 | -0.05991447 | -0.05991447 | -0.01781742 | -0.061331820 | -0.09699795 |  0.16198790 | -0.05991447 |  0.008542797 | ... | -0.09699795 |  0.08868384 | -0.07395100 |  0.22681906 |  0.06376389 |  0.06376389 |  1.000000000 |  0.51355259 | -0.05991447 | -0.093751513 |\n",
       "| DRB3*01:62:01 | -0.08606630 | -0.03076923 | -0.03076923 | -0.03076923 | -0.07045639 | -0.087031502 | -0.04981355 |  0.38610688 | -0.03076923 | -0.069098016 | ... | -0.04981355 |  0.28393722 | -0.03797773 |  0.48461538 | -0.05501347 | -0.05501347 |  0.513552591 |  1.00000000 | -0.03076923 |  0.074043224 |\n",
       "| DRB5*01:02:01 | -0.08606630 |  0.48461538 | -0.03076923 | -0.03076923 | -0.07045639 |  0.107338853 | -0.04981355 | -0.03797773 | -0.03076923 |  0.188100155 | ... | -0.04981355 | -0.04981355 | -0.03797773 | -0.03076923 | -0.05501347 | -0.05501347 | -0.059914469 | -0.03076923 |  1.00000000 | -0.097022155 |\n",
       "| DQB1*02:02:01 |  0.02307330 | -0.09702216 |  0.07404322 | -0.09702216 | -0.15094430 | -0.080884478 |  0.06448263 | -0.11975213 |  0.24510860 | -0.047143896 | ... | -0.15707308 |  0.06448263 | -0.11975213 | -0.09702216 | -0.07151816 | -0.07151816 | -0.093751513 |  0.07404322 | -0.09702216 |  1.000000000 |\n",
       "\n"
      ],
      "text/plain": [
       "                  B*08:01:01  C*07:04:01  DPB1*01:01:02 DRB1*04:07:01\n",
       "B*08:01:01         1.00000000 -0.08606630 -0.08606630   -0.08606630  \n",
       "C*07:04:01        -0.08606630  1.00000000 -0.03076923   -0.03076923  \n",
       "DPB1*01:01:02     -0.08606630 -0.03076923  1.00000000   -0.03076923  \n",
       "DRB1*04:07:01     -0.08606630 -0.03076923 -0.03076923    1.00000000  \n",
       "C*07:02:01        -0.10474044  0.14411534 -0.07045639   -0.07045639  \n",
       "C*12:03:01        -0.24344057  0.10733885 -0.08703150    0.10733885  \n",
       "C*02:02:02         0.14791073 -0.04981355 -0.04981355    0.28393722  \n",
       "C*17:01:01        -0.10622957 -0.03797773 -0.03797773   -0.03797773  \n",
       "C*02:10:01        -0.08606630 -0.03076923 -0.03076923   -0.03076923  \n",
       "C*03:04:01        -0.08259737 -0.06909802 -0.06909802    0.18810015  \n",
       "DRB4*01:03:01:02N  0.07626739 -0.03797773 -0.03797773   -0.03797773  \n",
       "DPB1*01:01:01     -0.08259737 -0.06909802 -0.06909802   -0.06909802  \n",
       "DPB1*19:01:01     -0.08606630 -0.03076923 -0.03076923    0.48461538  \n",
       "DQB1*06:02:01     -0.02589119 -0.10228166  0.09927338   -0.10228166  \n",
       "DRB1*15:01:01     -0.08243544 -0.09421114 -0.09421114   -0.09421114  \n",
       "DRB5*01:01:01     -0.09777281 -0.09825015 -0.09825015   -0.09825015  \n",
       "DQB1*02:01:01      0.64183005 -0.07347184 -0.07347184   -0.07347184  \n",
       "DRB1*03:01:01      0.64183005 -0.07347184 -0.07347184   -0.07347184  \n",
       "DRB1*01:02:01     -0.12363303 -0.04419957  0.32597183   -0.04419957  \n",
       "DQB1*02:02:01      0.02307330 -0.09702216  0.07404322   -0.09702216  \n",
       "DRB1*07:01:01      0.02307330 -0.09702216  0.07404322   -0.09702216  \n",
       "DQB1*05:01:01     -0.06650752  0.12557147  0.12557147   -0.09015388  \n",
       "DRB1*01:01:01      0.02808310  0.18810015 -0.06909802   -0.06909802  \n",
       "DQB1*06:03:01     -0.06427797 -0.06459179 -0.06459179    0.20588632  \n",
       "DRB1*13:01:01     -0.06427797 -0.06459179 -0.06459179    0.20588632  \n",
       "DQB1*03:02:01     -0.06650752  0.34129682 -0.09015388    0.12557147  \n",
       "DQB1*04:02:01      0.07919090 -0.05991447 -0.05991447   -0.05991447  \n",
       "DQB1*03:01:01     -0.11765549 -0.09194206 -0.09194206    0.23227468  \n",
       "DQB1*05:02:01      0.19495978 -0.04419957 -0.04419957   -0.04419957  \n",
       "DRB1*16:01:01      0.25876434 -0.03797773 -0.03797773   -0.03797773  \n",
       "DRB5*02:02:01      0.14791073 -0.04981355 -0.04981355   -0.04981355  \n",
       "DQB1*05:03:01     -0.10622957 -0.03797773 -0.03797773   -0.03797773  \n",
       "DRB1*14:54:01     -0.10622957 -0.03797773 -0.03797773   -0.03797773  \n",
       "DQB1*03:03:02     -0.13933620 -0.04981355 -0.04981355   -0.04981355  \n",
       "DRB1*09:01:02     -0.13933620 -0.04981355 -0.04981355   -0.04981355  \n",
       "DRB4*01:03:02     -0.10622957 -0.03797773 -0.03797773   -0.03797773  \n",
       "DRB1*11:01:02     -0.08606630 -0.03076923  0.48461538   -0.03076923  \n",
       "DRB1*13:02:01     -0.15388118 -0.05501347 -0.05501347   -0.05501347  \n",
       "DRB3*03:01:01     -0.15388118 -0.05501347 -0.05501347   -0.05501347  \n",
       "DQB1*04:02:01      0.07919090 -0.05991447 -0.05991447   -0.05991447  \n",
       "DRB3*01:62:01     -0.08606630 -0.03076923 -0.03076923   -0.03076923  \n",
       "DRB5*01:02:01     -0.08606630  0.48461538 -0.03076923   -0.03076923  \n",
       "DQB1*02:02:01      0.02307330 -0.09702216  0.07404322   -0.09702216  \n",
       "                  C*07:02:01  C*12:03:01   C*02:02:02  C*17:01:01  C*02:10:01 \n",
       "B*08:01:01        -0.10474044 -0.243440571  0.14791073 -0.10622957 -0.08606630\n",
       "C*07:04:01         0.14411534  0.107338853 -0.04981355 -0.03797773 -0.03076923\n",
       "DPB1*01:01:02     -0.07045639 -0.087031502 -0.04981355 -0.03797773 -0.03076923\n",
       "DRB1*04:07:01     -0.07045639  0.107338853  0.28393722 -0.03797773 -0.03076923\n",
       "C*07:02:01         1.00000000 -0.037441907 -0.11406469 -0.08696264 -0.07045639\n",
       "C*12:03:01        -0.03744191  1.000000000 -0.01502921 -0.10742090 -0.08703150\n",
       "C*02:02:02        -0.11406469 -0.015029206  1.00000000 -0.06148367 -0.04981355\n",
       "C*17:01:01        -0.08696264 -0.107420904 -0.06148367  1.00000000 -0.03797773\n",
       "C*02:10:01        -0.07045639 -0.087031502 -0.04981355 -0.03797773  1.00000000\n",
       "C*03:04:01        -0.15822289 -0.098446564  0.05468983 -0.08528603  0.18810015\n",
       "DRB4*01:03:01:02N -0.08696264  0.052516886 -0.06148367 -0.04687500 -0.03797773\n",
       "DPB1*01:01:01     -0.15822289 -0.195445385  0.22124523  0.12634967 -0.06909802\n",
       "DPB1*19:01:01      0.14411534  0.107338853 -0.04981355 -0.03797773 -0.03076923\n",
       "DQB1*06:02:01      0.43710456 -0.061264825 -0.03506567 -0.12624381 -0.10228166\n",
       "DRB1*15:01:01      0.39746203 -0.028424370 -0.01626904 -0.11628256 -0.09421114\n",
       "DRB5*01:01:01      0.37453457  0.032422004 -0.02584743 -0.12126781 -0.09825015\n",
       "DQB1*02:01:01      0.03670652 -0.207816838  0.19983015 -0.09068453 -0.07347184\n",
       "DRB1*03:01:01      0.03670652 -0.207816838  0.19983015 -0.09068453 -0.07347184\n",
       "DRB1*01:02:01     -0.10120962  0.014585613 -0.07155647  0.25004133 -0.04419957\n",
       "DQB1*02:02:01     -0.15094430 -0.080884478  0.06448263 -0.11975213  0.24510860\n",
       "DRB1*07:01:01     -0.15094430 -0.016369478  0.06448263 -0.11975213  0.24510860\n",
       "DQB1*05:01:01      0.06300359 -0.010928674 -0.00625516  0.24374474  0.12557147\n",
       "DRB1*01:01:01      0.16301752 -0.001447744  0.05468983 -0.08528603  0.18810015\n",
       "DQB1*06:03:01      0.18992267  0.021314931  0.07058492 -0.07972410 -0.06459179\n",
       "DRB1*13:01:01      0.18992267  0.021314931  0.07058492 -0.07972410 -0.06459179\n",
       "DQB1*03:02:01     -0.11662366  0.233145039 -0.14595374  0.06623498 -0.09015388\n",
       "DQB1*04:02:01     -0.01781742 -0.061331820 -0.09699795  0.16198790 -0.05991447\n",
       "DQB1*03:01:01     -0.14304083 -0.076649355  0.06110631 -0.11348189 -0.09194206\n",
       "DQB1*05:02:01      0.05290503 -0.125019536  0.16815769 -0.05455447 -0.04419957\n",
       "DRB1*16:01:01      0.08959787 -0.107420904  0.21314340 -0.04687500 -0.03797773\n",
       "DRB5*02:02:01      0.02488684 -0.140898808  0.13548387 -0.06148367 -0.04981355\n",
       "DQB1*05:03:01      0.08959787  0.212454676 -0.06148367 -0.04687500 -0.03797773\n",
       "DRB1*14:54:01      0.08959787  0.212454676 -0.06148367 -0.04687500 -0.03797773\n",
       "DQB1*03:03:02     -0.11406469 -0.015029206 -0.08064516 -0.06148367 -0.04981355\n",
       "DRB1*09:01:02     -0.11406469 -0.140898808 -0.08064516 -0.06148367 -0.04981355\n",
       "DRB4*01:03:02     -0.08696264 -0.107420904 -0.06148367 -0.04687500 -0.03797773\n",
       "DRB1*11:01:02     -0.07045639 -0.087031502 -0.04981355  0.38610688 -0.03076923\n",
       "DRB1*13:02:01     -0.12597163  0.191915185 -0.08906352  0.18484381  0.25214506\n",
       "DRB3*03:01:01     -0.12597163  0.191915185 -0.08906352  0.18484381  0.25214506\n",
       "DQB1*04:02:01     -0.01781742 -0.061331820 -0.09699795  0.16198790 -0.05991447\n",
       "DRB3*01:62:01     -0.07045639 -0.087031502 -0.04981355  0.38610688 -0.03076923\n",
       "DRB5*01:02:01     -0.07045639  0.107338853 -0.04981355 -0.03797773 -0.03076923\n",
       "DQB1*02:02:01     -0.15094430 -0.080884478  0.06448263 -0.11975213  0.24510860\n",
       "                  C*03:04:01   ... DQB1*03:03:02 DRB1*09:01:02 DRB4*01:03:02\n",
       "B*08:01:01        -0.082597366 ... -0.13933620   -0.13933620   -0.10622957  \n",
       "C*07:04:01        -0.069098016 ... -0.04981355   -0.04981355   -0.03797773  \n",
       "DPB1*01:01:02     -0.069098016 ... -0.04981355   -0.04981355   -0.03797773  \n",
       "DRB1*04:07:01      0.188100155 ... -0.04981355   -0.04981355   -0.03797773  \n",
       "C*07:02:01        -0.158222889 ... -0.11406469   -0.11406469   -0.08696264  \n",
       "C*12:03:01        -0.098446564 ... -0.01502921   -0.14089881   -0.10742090  \n",
       "C*02:02:02         0.054689831 ... -0.08064516   -0.08064516   -0.06148367  \n",
       "C*17:01:01        -0.085286030 ... -0.06148367   -0.06148367   -0.04687500  \n",
       "C*02:10:01         0.188100155 ... -0.04981355   -0.04981355   -0.03797773  \n",
       "C*03:04:01         1.000000000 ...  0.05468983    0.05468983    0.12634967  \n",
       "DRB4*01:03:01:02N -0.085286030 ...  0.48777047   -0.06148367   -0.04687500  \n",
       "DPB1*01:01:01     -0.155172414 ... -0.11186556    0.22124523   -0.08528603  \n",
       "DPB1*19:01:01     -0.069098016 ... -0.04981355   -0.04981355   -0.03797773  \n",
       "DQB1*06:02:01      0.072060376 ... -0.16558791   -0.16558791   -0.12624381  \n",
       "DRB1*15:01:01      0.103433539 ... -0.15252222   -0.15252222   -0.11628256  \n",
       "DRB5*01:01:01      0.087336247 ... -0.15906113   -0.15906113   -0.12126781  \n",
       "DQB1*02:01:01     -0.164994638 ... -0.11894652   -0.11894652   -0.09068453  \n",
       "DRB1*03:01:01     -0.164994638 ... -0.11894652   -0.11894652   -0.09068453  \n",
       "DRB1*01:02:01     -0.099258333 ... -0.07155647   -0.07155647   -0.05455447  \n",
       "DQB1*02:02:01     -0.047143896 ... -0.15707308    0.06448263   -0.11975213  \n",
       "DRB1*07:01:01     -0.047143896 ...  0.06448263   -0.15707308   -0.11975213  \n",
       "DQB1*05:01:01      0.012854429 ... -0.14595374   -0.14595374   -0.11127477  \n",
       "DRB1*01:01:01      0.101532567 ... -0.11186556   -0.11186556   -0.08528603  \n",
       "DQB1*06:03:01     -0.010073114 ...  0.07058492    0.07058492    0.14283901  \n",
       "DRB1*13:01:01     -0.010073114 ...  0.07058492    0.07058492    0.14283901  \n",
       "DQB1*03:02:01      0.120510270 ... -0.00625516   -0.00625516    0.06623498  \n",
       "DQB1*04:02:01      0.008542797 ... -0.09699795    0.08868384   -0.07395100  \n",
       "DQB1*03:01:01     -0.044675435 ...  0.06110631   -0.04387120   -0.11348189  \n",
       "DQB1*05:02:01     -0.099258333 ...  0.16815769    0.16815769    0.25004133  \n",
       "DRB1*16:01:01     -0.085286030 ... -0.06148367   -0.06148367   -0.04687500  \n",
       "DRB5*02:02:01     -0.111865564 ...  0.13548387    0.35161290    0.21314340  \n",
       "DQB1*05:03:01     -0.085286030 ... -0.06148367   -0.06148367   -0.04687500  \n",
       "DRB1*14:54:01     -0.085286030 ... -0.06148367   -0.06148367   -0.04687500  \n",
       "DQB1*03:03:02      0.054689831 ...  1.00000000    0.56774194    0.76239753  \n",
       "DRB1*09:01:02      0.054689831 ...  0.56774194    1.00000000    0.76239753  \n",
       "DRB4*01:03:02      0.126349674 ...  0.76239753    0.76239753    1.00000000  \n",
       "DRB1*11:01:02     -0.069098016 ... -0.04981355   -0.04981355   -0.03797773  \n",
       "DRB1*13:02:01      0.029741821 ... -0.08906352   -0.08906352   -0.06790181  \n",
       "DRB3*03:01:01      0.029741821 ... -0.08906352   -0.08906352   -0.06790181  \n",
       "DQB1*04:02:01      0.008542797 ... -0.09699795    0.08868384   -0.07395100  \n",
       "DRB3*01:62:01     -0.069098016 ... -0.04981355    0.28393722   -0.03797773  \n",
       "DRB5*01:02:01      0.188100155 ... -0.04981355   -0.04981355   -0.03797773  \n",
       "DQB1*02:02:01     -0.047143896 ... -0.15707308    0.06448263   -0.11975213  \n",
       "                  DRB1*11:01:02 DRB1*13:02:01 DRB3*03:01:01 DQB1*04:02:01\n",
       "B*08:01:01        -0.08606630   -0.15388118   -0.15388118    0.079190896 \n",
       "C*07:04:01        -0.03076923   -0.05501347   -0.05501347   -0.059914469 \n",
       "DPB1*01:01:02      0.48461538   -0.05501347   -0.05501347   -0.059914469 \n",
       "DRB1*04:07:01     -0.03076923   -0.05501347   -0.05501347   -0.059914469 \n",
       "C*07:02:01        -0.07045639   -0.12597163   -0.12597163   -0.017817416 \n",
       "C*12:03:01        -0.08703150    0.19191518    0.19191518   -0.061331820 \n",
       "C*02:02:02        -0.04981355   -0.08906352   -0.08906352   -0.096997949 \n",
       "C*17:01:01         0.38610688    0.18484381    0.18484381    0.161987899 \n",
       "C*02:10:01        -0.03076923    0.25214506    0.25214506   -0.059914469 \n",
       "C*03:04:01        -0.06909802    0.02974182    0.02974182    0.008542797 \n",
       "DRB4*01:03:01:02N -0.03797773   -0.06790181   -0.06790181   -0.073950997 \n",
       "DPB1*01:01:01      0.18810015    0.02974182    0.02974182    0.151634650 \n",
       "DPB1*19:01:01     -0.03076923   -0.05501347   -0.05501347   -0.059914469 \n",
       "DQB1*06:02:01      0.09927338   -0.06275062   -0.06275062   -0.087030051 \n",
       "DRB1*15:01:01     -0.09421114   -0.04304671   -0.04304671   -0.066391373 \n",
       "DRB5*01:01:01     -0.09825015   -0.05306551   -0.05306551   -0.076867506 \n",
       "DQB1*02:01:01     -0.07347184   -0.13136307   -0.13136307   -0.006131393 \n",
       "DRB1*03:01:01     -0.07347184   -0.13136307   -0.13136307   -0.006131393 \n",
       "DRB1*01:02:01     -0.04419957   -0.07902608   -0.07902608   -0.086066297 \n",
       "DQB1*02:02:01     -0.09702216   -0.07151816   -0.07151816   -0.093751513 \n",
       "DRB1*07:01:01     -0.09702216   -0.07151816   -0.07151816   -0.188923504 \n",
       "DQB1*05:01:01     -0.09015388   -0.03262169   -0.03262169   -0.175549452 \n",
       "DRB1*01:01:01     -0.06909802   -0.12354295   -0.12354295   -0.134549055 \n",
       "DQB1*06:03:01     -0.06459179   -0.11548609   -0.11548609   -0.125774437 \n",
       "DRB1*13:01:01     -0.06459179   -0.11548609   -0.11548609   -0.125774437 \n",
       "DQB1*03:02:01     -0.09015388   -0.03262169   -0.03262169    0.064487554 \n",
       "DQB1*04:02:01      0.22681906    0.06376389    0.06376389    1.000000000 \n",
       "DQB1*03:01:01     -0.09194206   -0.16438668   -0.16438668   -0.179031443 \n",
       "DQB1*05:02:01     -0.04419957   -0.07902608   -0.07902608   -0.086066297 \n",
       "DRB1*16:01:01     -0.03797773   -0.06790181   -0.06790181   -0.073950997 \n",
       "DRB5*02:02:01     -0.04981355   -0.08906352   -0.08906352   -0.096997949 \n",
       "DQB1*05:03:01     -0.03797773   -0.06790181   -0.06790181   -0.073950997 \n",
       "DRB1*14:54:01     -0.03797773   -0.06790181   -0.06790181   -0.073950997 \n",
       "DQB1*03:03:02     -0.04981355   -0.08906352   -0.08906352   -0.096997949 \n",
       "DRB1*09:01:02     -0.04981355   -0.08906352   -0.08906352    0.088683839 \n",
       "DRB4*01:03:02     -0.03797773   -0.06790181   -0.06790181   -0.073950997 \n",
       "DRB1*11:01:02      1.00000000   -0.05501347   -0.05501347    0.226819061 \n",
       "DRB1*13:02:01     -0.05501347    1.00000000    1.00000000    0.063763892 \n",
       "DRB3*03:01:01     -0.05501347    1.00000000    1.00000000    0.063763892 \n",
       "DQB1*04:02:01      0.22681906    0.06376389    0.06376389    1.000000000 \n",
       "DRB3*01:62:01      0.48461538   -0.05501347   -0.05501347    0.513552591 \n",
       "DRB5*01:02:01     -0.03076923   -0.05501347   -0.05501347   -0.059914469 \n",
       "DQB1*02:02:01     -0.09702216   -0.07151816   -0.07151816   -0.093751513 \n",
       "                  DRB3*01:62:01 DRB5*01:02:01 DQB1*02:02:01\n",
       "B*08:01:01        -0.08606630   -0.08606630    0.023073301 \n",
       "C*07:04:01        -0.03076923    0.48461538   -0.097022155 \n",
       "DPB1*01:01:02     -0.03076923   -0.03076923    0.074043224 \n",
       "DRB1*04:07:01     -0.03076923   -0.03076923   -0.097022155 \n",
       "C*07:02:01        -0.07045639   -0.07045639   -0.150944297 \n",
       "C*12:03:01        -0.08703150    0.10733885   -0.080884478 \n",
       "C*02:02:02        -0.04981355   -0.04981355    0.064482632 \n",
       "C*17:01:01         0.38610688   -0.03797773   -0.119752127 \n",
       "C*02:10:01        -0.03076923   -0.03076923    0.245108602 \n",
       "C*03:04:01        -0.06909802    0.18810015   -0.047143896 \n",
       "DRB4*01:03:01:02N -0.03797773   -0.03797773    0.021009145 \n",
       "DPB1*01:01:01      0.44529833   -0.06909802    0.123593457 \n",
       "DPB1*19:01:01     -0.03076923   -0.03076923   -0.097022155 \n",
       "DQB1*06:02:01     -0.10228166   -0.10228166   -0.188717136 \n",
       "DRB1*15:01:01     -0.09421114   -0.09421114   -0.157394170 \n",
       "DRB5*01:01:01     -0.09825015   -0.09825015   -0.173245849 \n",
       "DQB1*02:01:01     -0.07347184   -0.07347184    0.013412640 \n",
       "DRB1*03:01:01     -0.07347184   -0.07347184    0.013412640 \n",
       "DRB1*01:02:01     -0.04419957   -0.04419957    0.106362055 \n",
       "DQB1*02:02:01      0.07404322   -0.09702216    1.000000000 \n",
       "DRB1*07:01:01     -0.09702216   -0.09702216    0.886440678 \n",
       "DQB1*05:01:01     -0.09015388   -0.09015388    0.002137406 \n",
       "DRB1*01:01:01     -0.06909802   -0.06909802   -0.047143896 \n",
       "DQB1*06:03:01     -0.06459179   -0.06459179   -0.203672120 \n",
       "DRB1*13:01:01     -0.06459179   -0.06459179   -0.203672120 \n",
       "DQB1*03:02:01     -0.09015388    0.12557147   -0.212671904 \n",
       "DQB1*04:02:01      0.51355259   -0.05991447   -0.093751513 \n",
       "DQB1*03:01:01     -0.09194206   -0.09194206   -0.128493541 \n",
       "DQB1*05:02:01     -0.04419957   -0.04419957   -0.139370969 \n",
       "DRB1*16:01:01     -0.03797773   -0.03797773   -0.119752127 \n",
       "DRB5*02:02:01     -0.04981355   -0.04981355   -0.046295223 \n",
       "DQB1*05:03:01     -0.03797773   -0.03797773   -0.119752127 \n",
       "DRB1*14:54:01     -0.03797773   -0.03797773   -0.119752127 \n",
       "DQB1*03:03:02     -0.04981355   -0.04981355   -0.157073078 \n",
       "DRB1*09:01:02      0.28393722   -0.04981355    0.064482632 \n",
       "DRB4*01:03:02     -0.03797773   -0.03797773   -0.119752127 \n",
       "DRB1*11:01:02      0.48461538   -0.03076923   -0.097022155 \n",
       "DRB1*13:02:01     -0.05501347   -0.05501347   -0.071518157 \n",
       "DRB3*03:01:01     -0.05501347   -0.05501347   -0.071518157 \n",
       "DQB1*04:02:01      0.51355259   -0.05991447   -0.093751513 \n",
       "DRB3*01:62:01      1.00000000   -0.03076923    0.074043224 \n",
       "DRB5*01:02:01     -0.03076923    1.00000000   -0.097022155 \n",
       "DQB1*02:02:01      0.07404322   -0.09702216    1.000000000 "
      ]
     },
     "metadata": {},
     "output_type": "display_data"
    }
   ],
   "source": [
    "cormat[remove,remove, drop = F]"
   ]
  },
  {
   "cell_type": "code",
   "execution_count": 31,
   "metadata": {
    "vscode": {
     "languageId": "r"
    }
   },
   "outputs": [
    {
     "data": {
      "text/html": [
       "<style>\n",
       ".list-inline {list-style: none; margin:0; padding: 0}\n",
       ".list-inline>li {display: inline-block}\n",
       ".list-inline>li:not(:last-child)::after {content: \"\\00b7\"; padding: 0 .5ex}\n",
       "</style>\n",
       "<ol class=list-inline><li>67</li><li>92</li></ol>\n"
      ],
      "text/latex": [
       "\\begin{enumerate*}\n",
       "\\item 67\n",
       "\\item 92\n",
       "\\end{enumerate*}\n"
      ],
      "text/markdown": [
       "1. 67\n",
       "2. 92\n",
       "\n",
       "\n"
      ],
      "text/plain": [
       "[1] 67 92"
      ]
     },
     "metadata": {},
     "output_type": "display_data"
    }
   ],
   "source": [
    "remove <- unique(remove)\n",
    "keep <- setdiff(1:ncol(allhlas), remove)\n",
    "\n",
    "allhlas_1 <- allhlas[, keep]\n",
    "dim(allhlas_1)"
   ]
  },
  {
   "cell_type": "code",
   "execution_count": 49,
   "metadata": {
    "vscode": {
     "languageId": "r"
    }
   },
   "outputs": [
    {
     "data": {
      "text/html": [
       "<style>\n",
       ".list-inline {list-style: none; margin:0; padding: 0}\n",
       ".list-inline>li {display: inline-block}\n",
       ".list-inline>li:not(:last-child)::after {content: \"\\00b7\"; padding: 0 .5ex}\n",
       "</style>\n",
       "<ol class=list-inline><li>67</li><li>133</li></ol>\n"
      ],
      "text/latex": [
       "\\begin{enumerate*}\n",
       "\\item 67\n",
       "\\item 133\n",
       "\\end{enumerate*}\n"
      ],
      "text/markdown": [
       "1. 67\n",
       "2. 133\n",
       "\n",
       "\n"
      ],
      "text/plain": [
       "[1]  67 133"
      ]
     },
     "metadata": {},
     "output_type": "display_data"
    }
   ],
   "source": [
    "dim(allhlas)"
   ]
  },
  {
   "cell_type": "code",
   "execution_count": 33,
   "metadata": {
    "vscode": {
     "languageId": "r"
    }
   },
   "outputs": [],
   "source": [
    "readr::write_rds(allhlas, paste0(datapath, \"/HLA/INT_allHLA_postqc.rds\"))"
   ]
  },
  {
   "cell_type": "code",
   "execution_count": null,
   "metadata": {
    "vscode": {
     "languageId": "r"
    }
   },
   "outputs": [],
   "source": []
  },
  {
   "attachments": {},
   "cell_type": "markdown",
   "metadata": {},
   "source": [
    "# PCA"
   ]
  },
  {
   "cell_type": "code",
   "execution_count": 34,
   "metadata": {
    "vscode": {
     "languageId": "r"
    }
   },
   "outputs": [
    {
     "data": {
      "text/html": [
       "<table class=\"dataframe\">\n",
       "<caption>A data.frame: 6 x 133</caption>\n",
       "<thead>\n",
       "\t<tr><th></th><th scope=col>A*02:01:01</th><th scope=col>A*01:01:01</th><th scope=col>A*11:01:01</th><th scope=col>A*26:01:01</th><th scope=col>A*31:01:02</th><th scope=col>A*03:01:01</th><th scope=col>A*02:05:01</th><th scope=col>A*23:01:01</th><th scope=col>A*24:02:01</th><th scope=col>A*30:01:01</th><th scope=col>...</th><th scope=col>DRB3*01:01:02</th><th scope=col>DRB5*01:01:01</th><th scope=col>DRB4*01:03:01</th><th scope=col>DRB3*03:01:01</th><th scope=col>DRB4*01:01:01</th><th scope=col>DRB3*01:62:01</th><th scope=col>DRB4*01:03:02</th><th scope=col>DRB5*02:02:01</th><th scope=col>DRB5*01:02:01</th><th scope=col>DRB4*01:03:01:02N</th></tr>\n",
       "\t<tr><th></th><th scope=col>&lt;int&gt;</th><th scope=col>&lt;int&gt;</th><th scope=col>&lt;int&gt;</th><th scope=col>&lt;int&gt;</th><th scope=col>&lt;int&gt;</th><th scope=col>&lt;int&gt;</th><th scope=col>&lt;int&gt;</th><th scope=col>&lt;int&gt;</th><th scope=col>&lt;int&gt;</th><th scope=col>&lt;int&gt;</th><th scope=col>...</th><th scope=col>&lt;int&gt;</th><th scope=col>&lt;int&gt;</th><th scope=col>&lt;int&gt;</th><th scope=col>&lt;int&gt;</th><th scope=col>&lt;int&gt;</th><th scope=col>&lt;int&gt;</th><th scope=col>&lt;int&gt;</th><th scope=col>&lt;int&gt;</th><th scope=col>&lt;int&gt;</th><th scope=col>&lt;int&gt;</th></tr>\n",
       "</thead>\n",
       "<tbody>\n",
       "\t<tr><th scope=row>315-05</th><td>1</td><td>0</td><td>0</td><td>0</td><td>0</td><td>0</td><td>1</td><td>0</td><td>0</td><td>0</td><td>...</td><td>0</td><td>0</td><td>0</td><td>1</td><td>0</td><td>0</td><td>0</td><td>0</td><td>0</td><td>0</td></tr>\n",
       "\t<tr><th scope=row>319-05</th><td>0</td><td>1</td><td>0</td><td>0</td><td>0</td><td>1</td><td>0</td><td>0</td><td>0</td><td>0</td><td>...</td><td>1</td><td>0</td><td>0</td><td>0</td><td>0</td><td>0</td><td>0</td><td>0</td><td>0</td><td>0</td></tr>\n",
       "\t<tr><th scope=row>323-03</th><td>0</td><td>0</td><td>1</td><td>0</td><td>0</td><td>0</td><td>0</td><td>1</td><td>0</td><td>0</td><td>...</td><td>0</td><td>0</td><td>1</td><td>0</td><td>0</td><td>0</td><td>0</td><td>0</td><td>0</td><td>0</td></tr>\n",
       "\t<tr><th scope=row>329-04</th><td>0</td><td>0</td><td>0</td><td>2</td><td>0</td><td>0</td><td>0</td><td>0</td><td>0</td><td>0</td><td>...</td><td>0</td><td>1</td><td>0</td><td>0</td><td>0</td><td>0</td><td>0</td><td>1</td><td>0</td><td>0</td></tr>\n",
       "\t<tr><th scope=row>330-05</th><td>1</td><td>0</td><td>0</td><td>0</td><td>0</td><td>0</td><td>0</td><td>0</td><td>0</td><td>0</td><td>...</td><td>0</td><td>0</td><td>1</td><td>0</td><td>0</td><td>0</td><td>0</td><td>0</td><td>0</td><td>0</td></tr>\n",
       "\t<tr><th scope=row>331-04</th><td>1</td><td>0</td><td>0</td><td>1</td><td>0</td><td>0</td><td>0</td><td>0</td><td>0</td><td>0</td><td>...</td><td>0</td><td>0</td><td>1</td><td>0</td><td>0</td><td>0</td><td>0</td><td>0</td><td>0</td><td>0</td></tr>\n",
       "</tbody>\n",
       "</table>\n"
      ],
      "text/latex": [
       "A data.frame: 6 x 133\n",
       "\\begin{tabular}{r|lllllllllllllllllllll}\n",
       "  & A*02:01:01 & A*01:01:01 & A*11:01:01 & A*26:01:01 & A*31:01:02 & A*03:01:01 & A*02:05:01 & A*23:01:01 & A*24:02:01 & A*30:01:01 & ... & DRB3*01:01:02 & DRB5*01:01:01 & DRB4*01:03:01 & DRB3*03:01:01 & DRB4*01:01:01 & DRB3*01:62:01 & DRB4*01:03:02 & DRB5*02:02:01 & DRB5*01:02:01 & DRB4*01:03:01:02N\\\\\n",
       "  & <int> & <int> & <int> & <int> & <int> & <int> & <int> & <int> & <int> & <int> & ... & <int> & <int> & <int> & <int> & <int> & <int> & <int> & <int> & <int> & <int>\\\\\n",
       "\\hline\n",
       "\t315-05 & 1 & 0 & 0 & 0 & 0 & 0 & 1 & 0 & 0 & 0 & ... & 0 & 0 & 0 & 1 & 0 & 0 & 0 & 0 & 0 & 0\\\\\n",
       "\t319-05 & 0 & 1 & 0 & 0 & 0 & 1 & 0 & 0 & 0 & 0 & ... & 1 & 0 & 0 & 0 & 0 & 0 & 0 & 0 & 0 & 0\\\\\n",
       "\t323-03 & 0 & 0 & 1 & 0 & 0 & 0 & 0 & 1 & 0 & 0 & ... & 0 & 0 & 1 & 0 & 0 & 0 & 0 & 0 & 0 & 0\\\\\n",
       "\t329-04 & 0 & 0 & 0 & 2 & 0 & 0 & 0 & 0 & 0 & 0 & ... & 0 & 1 & 0 & 0 & 0 & 0 & 0 & 1 & 0 & 0\\\\\n",
       "\t330-05 & 1 & 0 & 0 & 0 & 0 & 0 & 0 & 0 & 0 & 0 & ... & 0 & 0 & 1 & 0 & 0 & 0 & 0 & 0 & 0 & 0\\\\\n",
       "\t331-04 & 1 & 0 & 0 & 1 & 0 & 0 & 0 & 0 & 0 & 0 & ... & 0 & 0 & 1 & 0 & 0 & 0 & 0 & 0 & 0 & 0\\\\\n",
       "\\end{tabular}\n"
      ],
      "text/markdown": [
       "\n",
       "A data.frame: 6 x 133\n",
       "\n",
       "| <!--/--> | A*02:01:01 &lt;int&gt; | A*01:01:01 &lt;int&gt; | A*11:01:01 &lt;int&gt; | A*26:01:01 &lt;int&gt; | A*31:01:02 &lt;int&gt; | A*03:01:01 &lt;int&gt; | A*02:05:01 &lt;int&gt; | A*23:01:01 &lt;int&gt; | A*24:02:01 &lt;int&gt; | A*30:01:01 &lt;int&gt; | ... ... | DRB3*01:01:02 &lt;int&gt; | DRB5*01:01:01 &lt;int&gt; | DRB4*01:03:01 &lt;int&gt; | DRB3*03:01:01 &lt;int&gt; | DRB4*01:01:01 &lt;int&gt; | DRB3*01:62:01 &lt;int&gt; | DRB4*01:03:02 &lt;int&gt; | DRB5*02:02:01 &lt;int&gt; | DRB5*01:02:01 &lt;int&gt; | DRB4*01:03:01:02N &lt;int&gt; |\n",
       "|---|---|---|---|---|---|---|---|---|---|---|---|---|---|---|---|---|---|---|---|---|---|\n",
       "| 315-05 | 1 | 0 | 0 | 0 | 0 | 0 | 1 | 0 | 0 | 0 | ... | 0 | 0 | 0 | 1 | 0 | 0 | 0 | 0 | 0 | 0 |\n",
       "| 319-05 | 0 | 1 | 0 | 0 | 0 | 1 | 0 | 0 | 0 | 0 | ... | 1 | 0 | 0 | 0 | 0 | 0 | 0 | 0 | 0 | 0 |\n",
       "| 323-03 | 0 | 0 | 1 | 0 | 0 | 0 | 0 | 1 | 0 | 0 | ... | 0 | 0 | 1 | 0 | 0 | 0 | 0 | 0 | 0 | 0 |\n",
       "| 329-04 | 0 | 0 | 0 | 2 | 0 | 0 | 0 | 0 | 0 | 0 | ... | 0 | 1 | 0 | 0 | 0 | 0 | 0 | 1 | 0 | 0 |\n",
       "| 330-05 | 1 | 0 | 0 | 0 | 0 | 0 | 0 | 0 | 0 | 0 | ... | 0 | 0 | 1 | 0 | 0 | 0 | 0 | 0 | 0 | 0 |\n",
       "| 331-04 | 1 | 0 | 0 | 1 | 0 | 0 | 0 | 0 | 0 | 0 | ... | 0 | 0 | 1 | 0 | 0 | 0 | 0 | 0 | 0 | 0 |\n",
       "\n"
      ],
      "text/plain": [
       "       A*02:01:01 A*01:01:01 A*11:01:01 A*26:01:01 A*31:01:02 A*03:01:01\n",
       "315-05 1          0          0          0          0          0         \n",
       "319-05 0          1          0          0          0          1         \n",
       "323-03 0          0          1          0          0          0         \n",
       "329-04 0          0          0          2          0          0         \n",
       "330-05 1          0          0          0          0          0         \n",
       "331-04 1          0          0          1          0          0         \n",
       "       A*02:05:01 A*23:01:01 A*24:02:01 A*30:01:01 ... DRB3*01:01:02\n",
       "315-05 1          0          0          0          ... 0            \n",
       "319-05 0          0          0          0          ... 1            \n",
       "323-03 0          1          0          0          ... 0            \n",
       "329-04 0          0          0          0          ... 0            \n",
       "330-05 0          0          0          0          ... 0            \n",
       "331-04 0          0          0          0          ... 0            \n",
       "       DRB5*01:01:01 DRB4*01:03:01 DRB3*03:01:01 DRB4*01:01:01 DRB3*01:62:01\n",
       "315-05 0             0             1             0             0            \n",
       "319-05 0             0             0             0             0            \n",
       "323-03 0             1             0             0             0            \n",
       "329-04 1             0             0             0             0            \n",
       "330-05 0             1             0             0             0            \n",
       "331-04 0             1             0             0             0            \n",
       "       DRB4*01:03:02 DRB5*02:02:01 DRB5*01:02:01 DRB4*01:03:01:02N\n",
       "315-05 0             0             0             0                \n",
       "319-05 0             0             0             0                \n",
       "323-03 0             0             0             0                \n",
       "329-04 0             1             0             0                \n",
       "330-05 0             0             0             0                \n",
       "331-04 0             0             0             0                "
      ]
     },
     "metadata": {},
     "output_type": "display_data"
    }
   ],
   "source": [
    "head(allhlas)"
   ]
  },
  {
   "cell_type": "code",
   "execution_count": 35,
   "metadata": {
    "vscode": {
     "languageId": "r"
    }
   },
   "outputs": [],
   "source": [
    "mypca <- prcomp(allhlas, scale = TRUE)"
   ]
  },
  {
   "cell_type": "code",
   "execution_count": 36,
   "metadata": {
    "vscode": {
     "languageId": "r"
    }
   },
   "outputs": [],
   "source": [
    "out <- mypca$x\n",
    "mydf <- data.frame(out)"
   ]
  },
  {
   "cell_type": "code",
   "execution_count": 37,
   "metadata": {
    "vscode": {
     "languageId": "r"
    }
   },
   "outputs": [
    {
     "data": {
      "text/html": [
       "<table class=\"dataframe\">\n",
       "<caption>A matrix: 6 x 67 of type dbl</caption>\n",
       "<thead>\n",
       "\t<tr><th></th><th scope=col>PC1</th><th scope=col>PC2</th><th scope=col>PC3</th><th scope=col>PC4</th><th scope=col>PC5</th><th scope=col>PC6</th><th scope=col>PC7</th><th scope=col>PC8</th><th scope=col>PC9</th><th scope=col>PC10</th><th scope=col>...</th><th scope=col>PC58</th><th scope=col>PC59</th><th scope=col>PC60</th><th scope=col>PC61</th><th scope=col>PC62</th><th scope=col>PC63</th><th scope=col>PC64</th><th scope=col>PC65</th><th scope=col>PC66</th><th scope=col>PC67</th></tr>\n",
       "</thead>\n",
       "<tbody>\n",
       "\t<tr><th scope=row>315-05</th><td> 1.5994807</td><td>-2.75392915</td><td>-3.6547541</td><td> 3.00870560</td><td>-1.045136</td><td> 0.5287100</td><td>-1.8757465</td><td> 0.3343362</td><td>-2.3583774</td><td> 1.1607715</td><td>...</td><td>-0.56200756</td><td> 0.09116364</td><td> 0.28052375</td><td> 0.4286436</td><td>-0.50358304</td><td>-0.17351975</td><td>-0.19289813</td><td> 0.09468978</td><td> 0.02220044</td><td>-4.281298e-15</td></tr>\n",
       "\t<tr><th scope=row>319-05</th><td>-4.5116318</td><td>-1.67137430</td><td> 2.1776762</td><td>-0.47436388</td><td>-1.269876</td><td>-0.4977175</td><td> 2.3541207</td><td>-1.3194999</td><td>-0.8199320</td><td> 1.6228864</td><td>...</td><td>-0.02746453</td><td> 0.73210861</td><td> 0.28327223</td><td> 0.1452850</td><td>-0.48212842</td><td>-0.54035394</td><td> 0.20009435</td><td>-0.06884182</td><td>-0.04549944</td><td> 3.538836e-16</td></tr>\n",
       "\t<tr><th scope=row>323-03</th><td> 4.0361352</td><td>-1.46424506</td><td>-1.5761945</td><td> 0.26495255</td><td> 1.523820</td><td> 0.6062843</td><td> 4.3771079</td><td> 2.1224396</td><td> 3.7911107</td><td>-1.1823766</td><td>...</td><td> 0.02470743</td><td>-0.03183286</td><td>-0.04405361</td><td>-0.1610146</td><td> 0.03734669</td><td>-0.11109515</td><td> 0.01811488</td><td>-0.04966904</td><td> 0.07404961</td><td> 1.214306e-15</td></tr>\n",
       "\t<tr><th scope=row>329-04</th><td>-4.3156998</td><td> 0.01793391</td><td>-4.2877899</td><td>-0.91892049</td><td> 4.999538</td><td>-1.3448269</td><td> 0.5318479</td><td> 0.2051508</td><td> 1.6042167</td><td>-0.1553559</td><td>...</td><td> 1.07728453</td><td> 0.23553871</td><td>-0.41576809</td><td> 0.1828485</td><td> 0.14326169</td><td> 0.25014513</td><td> 0.02564533</td><td> 0.04213038</td><td>-0.16973345</td><td> 1.554312e-15</td></tr>\n",
       "\t<tr><th scope=row>330-05</th><td> 0.1571253</td><td>-2.75598867</td><td> 2.2182489</td><td>-3.48796794</td><td>-1.015814</td><td>-1.1667454</td><td> 1.4771895</td><td> 1.5911107</td><td>-0.2171056</td><td> 1.4242086</td><td>...</td><td> 0.53999487</td><td> 0.03376339</td><td> 0.12865505</td><td> 0.3819691</td><td>-0.22784438</td><td> 0.21399124</td><td>-0.06209030</td><td>-0.04503587</td><td>-0.18745411</td><td> 2.296774e-15</td></tr>\n",
       "\t<tr><th scope=row>331-04</th><td> 2.8666197</td><td> 4.17592201</td><td> 0.8498015</td><td>-0.02595606</td><td> 1.418365</td><td> 1.7684105</td><td> 0.6478297</td><td>-0.6565622</td><td>-2.9168568</td><td> 0.1246463</td><td>...</td><td>-0.64475906</td><td> 0.67092116</td><td> 0.72125674</td><td>-0.1384374</td><td>-0.08713158</td><td> 0.06463642</td><td>-0.21355867</td><td>-0.06704705</td><td> 0.01220340</td><td>-1.894318e-15</td></tr>\n",
       "</tbody>\n",
       "</table>\n"
      ],
      "text/latex": [
       "A matrix: 6 x 67 of type dbl\n",
       "\\begin{tabular}{r|lllllllllllllllllllll}\n",
       "  & PC1 & PC2 & PC3 & PC4 & PC5 & PC6 & PC7 & PC8 & PC9 & PC10 & ... & PC58 & PC59 & PC60 & PC61 & PC62 & PC63 & PC64 & PC65 & PC66 & PC67\\\\\n",
       "\\hline\n",
       "\t315-05 &  1.5994807 & -2.75392915 & -3.6547541 &  3.00870560 & -1.045136 &  0.5287100 & -1.8757465 &  0.3343362 & -2.3583774 &  1.1607715 & ... & -0.56200756 &  0.09116364 &  0.28052375 &  0.4286436 & -0.50358304 & -0.17351975 & -0.19289813 &  0.09468978 &  0.02220044 & -4.281298e-15\\\\\n",
       "\t319-05 & -4.5116318 & -1.67137430 &  2.1776762 & -0.47436388 & -1.269876 & -0.4977175 &  2.3541207 & -1.3194999 & -0.8199320 &  1.6228864 & ... & -0.02746453 &  0.73210861 &  0.28327223 &  0.1452850 & -0.48212842 & -0.54035394 &  0.20009435 & -0.06884182 & -0.04549944 &  3.538836e-16\\\\\n",
       "\t323-03 &  4.0361352 & -1.46424506 & -1.5761945 &  0.26495255 &  1.523820 &  0.6062843 &  4.3771079 &  2.1224396 &  3.7911107 & -1.1823766 & ... &  0.02470743 & -0.03183286 & -0.04405361 & -0.1610146 &  0.03734669 & -0.11109515 &  0.01811488 & -0.04966904 &  0.07404961 &  1.214306e-15\\\\\n",
       "\t329-04 & -4.3156998 &  0.01793391 & -4.2877899 & -0.91892049 &  4.999538 & -1.3448269 &  0.5318479 &  0.2051508 &  1.6042167 & -0.1553559 & ... &  1.07728453 &  0.23553871 & -0.41576809 &  0.1828485 &  0.14326169 &  0.25014513 &  0.02564533 &  0.04213038 & -0.16973345 &  1.554312e-15\\\\\n",
       "\t330-05 &  0.1571253 & -2.75598867 &  2.2182489 & -3.48796794 & -1.015814 & -1.1667454 &  1.4771895 &  1.5911107 & -0.2171056 &  1.4242086 & ... &  0.53999487 &  0.03376339 &  0.12865505 &  0.3819691 & -0.22784438 &  0.21399124 & -0.06209030 & -0.04503587 & -0.18745411 &  2.296774e-15\\\\\n",
       "\t331-04 &  2.8666197 &  4.17592201 &  0.8498015 & -0.02595606 &  1.418365 &  1.7684105 &  0.6478297 & -0.6565622 & -2.9168568 &  0.1246463 & ... & -0.64475906 &  0.67092116 &  0.72125674 & -0.1384374 & -0.08713158 &  0.06463642 & -0.21355867 & -0.06704705 &  0.01220340 & -1.894318e-15\\\\\n",
       "\\end{tabular}\n"
      ],
      "text/markdown": [
       "\n",
       "A matrix: 6 x 67 of type dbl\n",
       "\n",
       "| <!--/--> | PC1 | PC2 | PC3 | PC4 | PC5 | PC6 | PC7 | PC8 | PC9 | PC10 | ... | PC58 | PC59 | PC60 | PC61 | PC62 | PC63 | PC64 | PC65 | PC66 | PC67 |\n",
       "|---|---|---|---|---|---|---|---|---|---|---|---|---|---|---|---|---|---|---|---|---|---|\n",
       "| 315-05 |  1.5994807 | -2.75392915 | -3.6547541 |  3.00870560 | -1.045136 |  0.5287100 | -1.8757465 |  0.3343362 | -2.3583774 |  1.1607715 | ... | -0.56200756 |  0.09116364 |  0.28052375 |  0.4286436 | -0.50358304 | -0.17351975 | -0.19289813 |  0.09468978 |  0.02220044 | -4.281298e-15 |\n",
       "| 319-05 | -4.5116318 | -1.67137430 |  2.1776762 | -0.47436388 | -1.269876 | -0.4977175 |  2.3541207 | -1.3194999 | -0.8199320 |  1.6228864 | ... | -0.02746453 |  0.73210861 |  0.28327223 |  0.1452850 | -0.48212842 | -0.54035394 |  0.20009435 | -0.06884182 | -0.04549944 |  3.538836e-16 |\n",
       "| 323-03 |  4.0361352 | -1.46424506 | -1.5761945 |  0.26495255 |  1.523820 |  0.6062843 |  4.3771079 |  2.1224396 |  3.7911107 | -1.1823766 | ... |  0.02470743 | -0.03183286 | -0.04405361 | -0.1610146 |  0.03734669 | -0.11109515 |  0.01811488 | -0.04966904 |  0.07404961 |  1.214306e-15 |\n",
       "| 329-04 | -4.3156998 |  0.01793391 | -4.2877899 | -0.91892049 |  4.999538 | -1.3448269 |  0.5318479 |  0.2051508 |  1.6042167 | -0.1553559 | ... |  1.07728453 |  0.23553871 | -0.41576809 |  0.1828485 |  0.14326169 |  0.25014513 |  0.02564533 |  0.04213038 | -0.16973345 |  1.554312e-15 |\n",
       "| 330-05 |  0.1571253 | -2.75598867 |  2.2182489 | -3.48796794 | -1.015814 | -1.1667454 |  1.4771895 |  1.5911107 | -0.2171056 |  1.4242086 | ... |  0.53999487 |  0.03376339 |  0.12865505 |  0.3819691 | -0.22784438 |  0.21399124 | -0.06209030 | -0.04503587 | -0.18745411 |  2.296774e-15 |\n",
       "| 331-04 |  2.8666197 |  4.17592201 |  0.8498015 | -0.02595606 |  1.418365 |  1.7684105 |  0.6478297 | -0.6565622 | -2.9168568 |  0.1246463 | ... | -0.64475906 |  0.67092116 |  0.72125674 | -0.1384374 | -0.08713158 |  0.06463642 | -0.21355867 | -0.06704705 |  0.01220340 | -1.894318e-15 |\n",
       "\n"
      ],
      "text/plain": [
       "       PC1        PC2         PC3        PC4         PC5       PC6       \n",
       "315-05  1.5994807 -2.75392915 -3.6547541  3.00870560 -1.045136  0.5287100\n",
       "319-05 -4.5116318 -1.67137430  2.1776762 -0.47436388 -1.269876 -0.4977175\n",
       "323-03  4.0361352 -1.46424506 -1.5761945  0.26495255  1.523820  0.6062843\n",
       "329-04 -4.3156998  0.01793391 -4.2877899 -0.91892049  4.999538 -1.3448269\n",
       "330-05  0.1571253 -2.75598867  2.2182489 -3.48796794 -1.015814 -1.1667454\n",
       "331-04  2.8666197  4.17592201  0.8498015 -0.02595606  1.418365  1.7684105\n",
       "       PC7        PC8        PC9        PC10       ... PC58        PC59       \n",
       "315-05 -1.8757465  0.3343362 -2.3583774  1.1607715 ... -0.56200756  0.09116364\n",
       "319-05  2.3541207 -1.3194999 -0.8199320  1.6228864 ... -0.02746453  0.73210861\n",
       "323-03  4.3771079  2.1224396  3.7911107 -1.1823766 ...  0.02470743 -0.03183286\n",
       "329-04  0.5318479  0.2051508  1.6042167 -0.1553559 ...  1.07728453  0.23553871\n",
       "330-05  1.4771895  1.5911107 -0.2171056  1.4242086 ...  0.53999487  0.03376339\n",
       "331-04  0.6478297 -0.6565622 -2.9168568  0.1246463 ... -0.64475906  0.67092116\n",
       "       PC60        PC61       PC62        PC63        PC64        PC65       \n",
       "315-05  0.28052375  0.4286436 -0.50358304 -0.17351975 -0.19289813  0.09468978\n",
       "319-05  0.28327223  0.1452850 -0.48212842 -0.54035394  0.20009435 -0.06884182\n",
       "323-03 -0.04405361 -0.1610146  0.03734669 -0.11109515  0.01811488 -0.04966904\n",
       "329-04 -0.41576809  0.1828485  0.14326169  0.25014513  0.02564533  0.04213038\n",
       "330-05  0.12865505  0.3819691 -0.22784438  0.21399124 -0.06209030 -0.04503587\n",
       "331-04  0.72125674 -0.1384374 -0.08713158  0.06463642 -0.21355867 -0.06704705\n",
       "       PC66        PC67         \n",
       "315-05  0.02220044 -4.281298e-15\n",
       "319-05 -0.04549944  3.538836e-16\n",
       "323-03  0.07404961  1.214306e-15\n",
       "329-04 -0.16973345  1.554312e-15\n",
       "330-05 -0.18745411  2.296774e-15\n",
       "331-04  0.01220340 -1.894318e-15"
      ]
     },
     "metadata": {},
     "output_type": "display_data"
    }
   ],
   "source": [
    "head(out)"
   ]
  },
  {
   "cell_type": "code",
   "execution_count": 38,
   "metadata": {
    "vscode": {
     "languageId": "r"
    }
   },
   "outputs": [
    {
     "data": {
      "text/html": [
       "<table class=\"dataframe\">\n",
       "<caption>A data.frame: 6 x 67</caption>\n",
       "<thead>\n",
       "\t<tr><th></th><th scope=col>PC1</th><th scope=col>PC2</th><th scope=col>PC3</th><th scope=col>PC4</th><th scope=col>PC5</th><th scope=col>PC6</th><th scope=col>PC7</th><th scope=col>PC8</th><th scope=col>PC9</th><th scope=col>PC10</th><th scope=col>...</th><th scope=col>PC58</th><th scope=col>PC59</th><th scope=col>PC60</th><th scope=col>PC61</th><th scope=col>PC62</th><th scope=col>PC63</th><th scope=col>PC64</th><th scope=col>PC65</th><th scope=col>PC66</th><th scope=col>PC67</th></tr>\n",
       "\t<tr><th></th><th scope=col>&lt;dbl&gt;</th><th scope=col>&lt;dbl&gt;</th><th scope=col>&lt;dbl&gt;</th><th scope=col>&lt;dbl&gt;</th><th scope=col>&lt;dbl&gt;</th><th scope=col>&lt;dbl&gt;</th><th scope=col>&lt;dbl&gt;</th><th scope=col>&lt;dbl&gt;</th><th scope=col>&lt;dbl&gt;</th><th scope=col>&lt;dbl&gt;</th><th scope=col>...</th><th scope=col>&lt;dbl&gt;</th><th scope=col>&lt;dbl&gt;</th><th scope=col>&lt;dbl&gt;</th><th scope=col>&lt;dbl&gt;</th><th scope=col>&lt;dbl&gt;</th><th scope=col>&lt;dbl&gt;</th><th scope=col>&lt;dbl&gt;</th><th scope=col>&lt;dbl&gt;</th><th scope=col>&lt;dbl&gt;</th><th scope=col>&lt;dbl&gt;</th></tr>\n",
       "</thead>\n",
       "<tbody>\n",
       "\t<tr><th scope=row>315-05</th><td> 1.5994807</td><td>-2.75392915</td><td>-3.6547541</td><td> 3.00870560</td><td>-1.045136</td><td> 0.5287100</td><td>-1.8757465</td><td> 0.3343362</td><td>-2.3583774</td><td> 1.1607715</td><td>...</td><td>-0.56200756</td><td> 0.09116364</td><td> 0.28052375</td><td> 0.4286436</td><td>-0.50358304</td><td>-0.17351975</td><td>-0.19289813</td><td> 0.09468978</td><td> 0.02220044</td><td>-4.281298e-15</td></tr>\n",
       "\t<tr><th scope=row>319-05</th><td>-4.5116318</td><td>-1.67137430</td><td> 2.1776762</td><td>-0.47436388</td><td>-1.269876</td><td>-0.4977175</td><td> 2.3541207</td><td>-1.3194999</td><td>-0.8199320</td><td> 1.6228864</td><td>...</td><td>-0.02746453</td><td> 0.73210861</td><td> 0.28327223</td><td> 0.1452850</td><td>-0.48212842</td><td>-0.54035394</td><td> 0.20009435</td><td>-0.06884182</td><td>-0.04549944</td><td> 3.538836e-16</td></tr>\n",
       "\t<tr><th scope=row>323-03</th><td> 4.0361352</td><td>-1.46424506</td><td>-1.5761945</td><td> 0.26495255</td><td> 1.523820</td><td> 0.6062843</td><td> 4.3771079</td><td> 2.1224396</td><td> 3.7911107</td><td>-1.1823766</td><td>...</td><td> 0.02470743</td><td>-0.03183286</td><td>-0.04405361</td><td>-0.1610146</td><td> 0.03734669</td><td>-0.11109515</td><td> 0.01811488</td><td>-0.04966904</td><td> 0.07404961</td><td> 1.214306e-15</td></tr>\n",
       "\t<tr><th scope=row>329-04</th><td>-4.3156998</td><td> 0.01793391</td><td>-4.2877899</td><td>-0.91892049</td><td> 4.999538</td><td>-1.3448269</td><td> 0.5318479</td><td> 0.2051508</td><td> 1.6042167</td><td>-0.1553559</td><td>...</td><td> 1.07728453</td><td> 0.23553871</td><td>-0.41576809</td><td> 0.1828485</td><td> 0.14326169</td><td> 0.25014513</td><td> 0.02564533</td><td> 0.04213038</td><td>-0.16973345</td><td> 1.554312e-15</td></tr>\n",
       "\t<tr><th scope=row>330-05</th><td> 0.1571253</td><td>-2.75598867</td><td> 2.2182489</td><td>-3.48796794</td><td>-1.015814</td><td>-1.1667454</td><td> 1.4771895</td><td> 1.5911107</td><td>-0.2171056</td><td> 1.4242086</td><td>...</td><td> 0.53999487</td><td> 0.03376339</td><td> 0.12865505</td><td> 0.3819691</td><td>-0.22784438</td><td> 0.21399124</td><td>-0.06209030</td><td>-0.04503587</td><td>-0.18745411</td><td> 2.296774e-15</td></tr>\n",
       "\t<tr><th scope=row>331-04</th><td> 2.8666197</td><td> 4.17592201</td><td> 0.8498015</td><td>-0.02595606</td><td> 1.418365</td><td> 1.7684105</td><td> 0.6478297</td><td>-0.6565622</td><td>-2.9168568</td><td> 0.1246463</td><td>...</td><td>-0.64475906</td><td> 0.67092116</td><td> 0.72125674</td><td>-0.1384374</td><td>-0.08713158</td><td> 0.06463642</td><td>-0.21355867</td><td>-0.06704705</td><td> 0.01220340</td><td>-1.894318e-15</td></tr>\n",
       "</tbody>\n",
       "</table>\n"
      ],
      "text/latex": [
       "A data.frame: 6 x 67\n",
       "\\begin{tabular}{r|lllllllllllllllllllll}\n",
       "  & PC1 & PC2 & PC3 & PC4 & PC5 & PC6 & PC7 & PC8 & PC9 & PC10 & ... & PC58 & PC59 & PC60 & PC61 & PC62 & PC63 & PC64 & PC65 & PC66 & PC67\\\\\n",
       "  & <dbl> & <dbl> & <dbl> & <dbl> & <dbl> & <dbl> & <dbl> & <dbl> & <dbl> & <dbl> & ... & <dbl> & <dbl> & <dbl> & <dbl> & <dbl> & <dbl> & <dbl> & <dbl> & <dbl> & <dbl>\\\\\n",
       "\\hline\n",
       "\t315-05 &  1.5994807 & -2.75392915 & -3.6547541 &  3.00870560 & -1.045136 &  0.5287100 & -1.8757465 &  0.3343362 & -2.3583774 &  1.1607715 & ... & -0.56200756 &  0.09116364 &  0.28052375 &  0.4286436 & -0.50358304 & -0.17351975 & -0.19289813 &  0.09468978 &  0.02220044 & -4.281298e-15\\\\\n",
       "\t319-05 & -4.5116318 & -1.67137430 &  2.1776762 & -0.47436388 & -1.269876 & -0.4977175 &  2.3541207 & -1.3194999 & -0.8199320 &  1.6228864 & ... & -0.02746453 &  0.73210861 &  0.28327223 &  0.1452850 & -0.48212842 & -0.54035394 &  0.20009435 & -0.06884182 & -0.04549944 &  3.538836e-16\\\\\n",
       "\t323-03 &  4.0361352 & -1.46424506 & -1.5761945 &  0.26495255 &  1.523820 &  0.6062843 &  4.3771079 &  2.1224396 &  3.7911107 & -1.1823766 & ... &  0.02470743 & -0.03183286 & -0.04405361 & -0.1610146 &  0.03734669 & -0.11109515 &  0.01811488 & -0.04966904 &  0.07404961 &  1.214306e-15\\\\\n",
       "\t329-04 & -4.3156998 &  0.01793391 & -4.2877899 & -0.91892049 &  4.999538 & -1.3448269 &  0.5318479 &  0.2051508 &  1.6042167 & -0.1553559 & ... &  1.07728453 &  0.23553871 & -0.41576809 &  0.1828485 &  0.14326169 &  0.25014513 &  0.02564533 &  0.04213038 & -0.16973345 &  1.554312e-15\\\\\n",
       "\t330-05 &  0.1571253 & -2.75598867 &  2.2182489 & -3.48796794 & -1.015814 & -1.1667454 &  1.4771895 &  1.5911107 & -0.2171056 &  1.4242086 & ... &  0.53999487 &  0.03376339 &  0.12865505 &  0.3819691 & -0.22784438 &  0.21399124 & -0.06209030 & -0.04503587 & -0.18745411 &  2.296774e-15\\\\\n",
       "\t331-04 &  2.8666197 &  4.17592201 &  0.8498015 & -0.02595606 &  1.418365 &  1.7684105 &  0.6478297 & -0.6565622 & -2.9168568 &  0.1246463 & ... & -0.64475906 &  0.67092116 &  0.72125674 & -0.1384374 & -0.08713158 &  0.06463642 & -0.21355867 & -0.06704705 &  0.01220340 & -1.894318e-15\\\\\n",
       "\\end{tabular}\n"
      ],
      "text/markdown": [
       "\n",
       "A data.frame: 6 x 67\n",
       "\n",
       "| <!--/--> | PC1 &lt;dbl&gt; | PC2 &lt;dbl&gt; | PC3 &lt;dbl&gt; | PC4 &lt;dbl&gt; | PC5 &lt;dbl&gt; | PC6 &lt;dbl&gt; | PC7 &lt;dbl&gt; | PC8 &lt;dbl&gt; | PC9 &lt;dbl&gt; | PC10 &lt;dbl&gt; | ... ... | PC58 &lt;dbl&gt; | PC59 &lt;dbl&gt; | PC60 &lt;dbl&gt; | PC61 &lt;dbl&gt; | PC62 &lt;dbl&gt; | PC63 &lt;dbl&gt; | PC64 &lt;dbl&gt; | PC65 &lt;dbl&gt; | PC66 &lt;dbl&gt; | PC67 &lt;dbl&gt; |\n",
       "|---|---|---|---|---|---|---|---|---|---|---|---|---|---|---|---|---|---|---|---|---|---|\n",
       "| 315-05 |  1.5994807 | -2.75392915 | -3.6547541 |  3.00870560 | -1.045136 |  0.5287100 | -1.8757465 |  0.3343362 | -2.3583774 |  1.1607715 | ... | -0.56200756 |  0.09116364 |  0.28052375 |  0.4286436 | -0.50358304 | -0.17351975 | -0.19289813 |  0.09468978 |  0.02220044 | -4.281298e-15 |\n",
       "| 319-05 | -4.5116318 | -1.67137430 |  2.1776762 | -0.47436388 | -1.269876 | -0.4977175 |  2.3541207 | -1.3194999 | -0.8199320 |  1.6228864 | ... | -0.02746453 |  0.73210861 |  0.28327223 |  0.1452850 | -0.48212842 | -0.54035394 |  0.20009435 | -0.06884182 | -0.04549944 |  3.538836e-16 |\n",
       "| 323-03 |  4.0361352 | -1.46424506 | -1.5761945 |  0.26495255 |  1.523820 |  0.6062843 |  4.3771079 |  2.1224396 |  3.7911107 | -1.1823766 | ... |  0.02470743 | -0.03183286 | -0.04405361 | -0.1610146 |  0.03734669 | -0.11109515 |  0.01811488 | -0.04966904 |  0.07404961 |  1.214306e-15 |\n",
       "| 329-04 | -4.3156998 |  0.01793391 | -4.2877899 | -0.91892049 |  4.999538 | -1.3448269 |  0.5318479 |  0.2051508 |  1.6042167 | -0.1553559 | ... |  1.07728453 |  0.23553871 | -0.41576809 |  0.1828485 |  0.14326169 |  0.25014513 |  0.02564533 |  0.04213038 | -0.16973345 |  1.554312e-15 |\n",
       "| 330-05 |  0.1571253 | -2.75598867 |  2.2182489 | -3.48796794 | -1.015814 | -1.1667454 |  1.4771895 |  1.5911107 | -0.2171056 |  1.4242086 | ... |  0.53999487 |  0.03376339 |  0.12865505 |  0.3819691 | -0.22784438 |  0.21399124 | -0.06209030 | -0.04503587 | -0.18745411 |  2.296774e-15 |\n",
       "| 331-04 |  2.8666197 |  4.17592201 |  0.8498015 | -0.02595606 |  1.418365 |  1.7684105 |  0.6478297 | -0.6565622 | -2.9168568 |  0.1246463 | ... | -0.64475906 |  0.67092116 |  0.72125674 | -0.1384374 | -0.08713158 |  0.06463642 | -0.21355867 | -0.06704705 |  0.01220340 | -1.894318e-15 |\n",
       "\n"
      ],
      "text/plain": [
       "       PC1        PC2         PC3        PC4         PC5       PC6       \n",
       "315-05  1.5994807 -2.75392915 -3.6547541  3.00870560 -1.045136  0.5287100\n",
       "319-05 -4.5116318 -1.67137430  2.1776762 -0.47436388 -1.269876 -0.4977175\n",
       "323-03  4.0361352 -1.46424506 -1.5761945  0.26495255  1.523820  0.6062843\n",
       "329-04 -4.3156998  0.01793391 -4.2877899 -0.91892049  4.999538 -1.3448269\n",
       "330-05  0.1571253 -2.75598867  2.2182489 -3.48796794 -1.015814 -1.1667454\n",
       "331-04  2.8666197  4.17592201  0.8498015 -0.02595606  1.418365  1.7684105\n",
       "       PC7        PC8        PC9        PC10       ... PC58        PC59       \n",
       "315-05 -1.8757465  0.3343362 -2.3583774  1.1607715 ... -0.56200756  0.09116364\n",
       "319-05  2.3541207 -1.3194999 -0.8199320  1.6228864 ... -0.02746453  0.73210861\n",
       "323-03  4.3771079  2.1224396  3.7911107 -1.1823766 ...  0.02470743 -0.03183286\n",
       "329-04  0.5318479  0.2051508  1.6042167 -0.1553559 ...  1.07728453  0.23553871\n",
       "330-05  1.4771895  1.5911107 -0.2171056  1.4242086 ...  0.53999487  0.03376339\n",
       "331-04  0.6478297 -0.6565622 -2.9168568  0.1246463 ... -0.64475906  0.67092116\n",
       "       PC60        PC61       PC62        PC63        PC64        PC65       \n",
       "315-05  0.28052375  0.4286436 -0.50358304 -0.17351975 -0.19289813  0.09468978\n",
       "319-05  0.28327223  0.1452850 -0.48212842 -0.54035394  0.20009435 -0.06884182\n",
       "323-03 -0.04405361 -0.1610146  0.03734669 -0.11109515  0.01811488 -0.04966904\n",
       "329-04 -0.41576809  0.1828485  0.14326169  0.25014513  0.02564533  0.04213038\n",
       "330-05  0.12865505  0.3819691 -0.22784438  0.21399124 -0.06209030 -0.04503587\n",
       "331-04  0.72125674 -0.1384374 -0.08713158  0.06463642 -0.21355867 -0.06704705\n",
       "       PC66        PC67         \n",
       "315-05  0.02220044 -4.281298e-15\n",
       "319-05 -0.04549944  3.538836e-16\n",
       "323-03  0.07404961  1.214306e-15\n",
       "329-04 -0.16973345  1.554312e-15\n",
       "330-05 -0.18745411  2.296774e-15\n",
       "331-04  0.01220340 -1.894318e-15"
      ]
     },
     "metadata": {},
     "output_type": "display_data"
    }
   ],
   "source": [
    "head(mydf)"
   ]
  },
  {
   "cell_type": "code",
   "execution_count": 39,
   "metadata": {
    "vscode": {
     "languageId": "r"
    }
   },
   "outputs": [],
   "source": [
    "readr::write_rds(mydf, paste0(datapath, \"/HLA/INT_HLA_PCA_postqc.rds\"))"
   ]
  },
  {
   "cell_type": "code",
   "execution_count": 40,
   "metadata": {
    "vscode": {
     "languageId": "r"
    }
   },
   "outputs": [],
   "source": [
    "p0 <- fviz_pca_ind(mypca,geom = \"point\", pointshape = 16, pointsize = 2, alpha = 1,\n",
    "                    ellipse.alpha = 0, invisible=\"quali\",\n",
    "                       title = \"PCA of HLA types (n = 67)\")"
   ]
  },
  {
   "cell_type": "code",
   "execution_count": 41,
   "metadata": {
    "vscode": {
     "languageId": "r"
    }
   },
   "outputs": [
    {
     "data": {
      "image/png": "[encoded data removed]",
      "text/plain": [
       "plot without title"
      ]
     },
     "metadata": {
      "image/png": {
       "height": 420,
       "width": 420
      }
     },
     "output_type": "display_data"
    }
   ],
   "source": [
    "p0"
   ]
  },
  {
   "cell_type": "code",
   "execution_count": null,
   "metadata": {
    "vscode": {
     "languageId": "r"
    }
   },
   "outputs": [],
   "source": []
  },
  {
   "cell_type": "markdown",
   "metadata": {},
   "source": [
    "# lmer"
   ]
  },
  {
   "cell_type": "code",
   "execution_count": 88,
   "metadata": {
    "vscode": {
     "languageId": "r"
    }
   },
   "outputs": [],
   "source": [
    "pca <- readr::read_rds(paste0(datapath, \"/HLA/INT_HLA_PCA_postqc.rds\"))"
   ]
  },
  {
   "cell_type": "code",
   "execution_count": null,
   "metadata": {
    "vscode": {
     "languageId": "r"
    }
   },
   "outputs": [],
   "source": []
  },
  {
   "cell_type": "code",
   "execution_count": null,
   "metadata": {
    "vscode": {
     "languageId": "r"
    }
   },
   "outputs": [],
   "source": []
  },
  {
   "attachments": {},
   "cell_type": "markdown",
   "metadata": {
    "vscode": {
     "languageId": "r"
    }
   },
   "source": [
    "# Binding affinities"
   ]
  },
  {
   "attachments": {},
   "cell_type": "markdown",
   "metadata": {},
   "source": [
    "## HLA I"
   ]
  },
  {
   "cell_type": "code",
   "execution_count": 5,
   "metadata": {
    "vscode": {
     "languageId": "r"
    }
   },
   "outputs": [],
   "source": [
    "allhlas <- readr::read_rds(file = paste0(datapath, \"HLA/allhla_preqc.rds\"))"
   ]
  },
  {
   "cell_type": "code",
   "execution_count": 395,
   "metadata": {
    "vscode": {
     "languageId": "r"
    }
   },
   "outputs": [],
   "source": [
    "int_hla <- as.data.frame(matrix(NA, nrow = nrow(allhlas), ncol = 16, dimnames = list(rownames(allhlas), c(\"A_1\", \"A_2\", \"B_1\", \"B_2\", \"C_1\", \"C_2\", \n",
    "\"DRB1_1\", \"DRB1_2\",\"DQB1_1\", \"DQB1_2\", \"DPB1_1\", \"DPB1_2\", \"DPA1_1\", \"DPA1_2\", \"DQA1_1\", \"DQA1_2\")))  )  # not including DRB345"
   ]
  },
  {
   "cell_type": "code",
   "execution_count": 396,
   "metadata": {
    "vscode": {
     "languageId": "r"
    }
   },
   "outputs": [],
   "source": [
    "for(i in 1:nrow(allhlas)){\n",
    "    myhla <- allhlas[i,,drop = F]\n",
    "    x <- colnames(myhla)[myhla == 1]\n",
    "    if( length(x[grepl(\"A\\\\*\", x)]) == 2 ){\n",
    "        int_hla[i,c(\"A_1\", \"A_2\")] <- x[grepl(\"A\\\\*\", x)] }\n",
    "        else { int_hla[i,c(\"A_1\", \"A_2\")] <- c(x[grepl(\"A\\\\*\", x)], NA)}\n",
    "    if( length(x[grepl(\"B\\\\*\", x)]) == 2 ){\n",
    "        int_hla[i,c(\"B_1\", \"B_2\")] <- x[grepl(\"B\\\\*\", x)] }\n",
    "        else { int_hla[i,c(\"B_1\", \"B_2\")] <- c(x[grepl(\"B\\\\*\", x)], NA)}\n",
    "    if( length(x[grepl(\"C\\\\*\", x)]) == 2 ){\n",
    "        int_hla[i,c(\"C_1\", \"C_2\")] <- x[grepl(\"C\\\\*\", x)] }\n",
    "        else { int_hla[i,c(\"C_1\", \"C_2\")] <- c(x[grepl(\"C\\\\*\", x)], NA)}\n",
    "    if( length(x[grepl(\"DRB1\\\\*\", x)]) == 2 ){\n",
    "        int_hla[i,c(\"DRB1_1\", \"DRB1_2\")] <- x[grepl(\"DRB1\\\\*\", x)] }\n",
    "        else { int_hla[i,c(\"DRB1_1\", \"DRB1_2\")] <- c(x[grepl(\"DRB1\\\\*\", x)], NA)}\n",
    "    if( length(x[grepl(\"DQB1\\\\*\", x)]) == 2 ){\n",
    "        int_hla[i,c(\"DQB1_1\", \"DQB1_2\")] <- x[grepl(\"DQB1\\\\*\", x)] }\n",
    "        else { int_hla[i,c(\"DQB1_1\", \"DQB1_2\")] <- c(x[grepl(\"DQB1\\\\*\", x)], NA)}\n",
    "    if( length(x[grepl(\"DPB1\\\\*\", x)]) == 2 ){\n",
    "        int_hla[i,c(\"DPB1_1\", \"DPB1_2\")] <- x[grepl(\"DPB1\\\\*\", x)] }\n",
    "        else { int_hla[i,c(\"DPB1_1\", \"DPB1_2\")] <- c(x[grepl(\"DPB1\\\\*\", x)], NA)}\n",
    "    if( length(x[grepl(\"DPA1\\\\*\", x)]) == 2 ){\n",
    "        int_hla[i,c(\"DPA1_1\", \"DPA1_2\")] <- x[grepl(\"DPA1\\\\*\", x)] }\n",
    "        else { int_hla[i,c(\"DPA1_1\", \"DPA1_2\")] <- c(x[grepl(\"DPA1\\\\*\", x)], NA)}\n",
    "    if( length(x[grepl(\"DQA1\\\\*\", x)]) == 2 ){\n",
    "        int_hla[i,c(\"DQA1_1\", \"DQA1_2\")] <- x[grepl(\"DQA1\\\\*\", x)] }\n",
    "        else { int_hla[i,c(\"DQA1_1\", \"DQA1_2\")] <- c(x[grepl(\"DQA1\\\\*\", x)], NA)}\n",
    "\n",
    "} "
   ]
  },
  {
   "cell_type": "code",
   "execution_count": 397,
   "metadata": {
    "vscode": {
     "languageId": "r"
    }
   },
   "outputs": [],
   "source": [
    "for(i in 1:nrow(allhlas)){\n",
    "     myhla <- allhlas[i,,drop = F]\n",
    "y <- colnames(myhla)[myhla == 2]\n",
    "     if( length(y[grepl(\"A\\\\*\", y)]) == 1 ){\n",
    "        int_hla[i,c(\"A_1\", \"A_2\")] <- rep(y[grepl(\"A\\\\*\", y)],2) }\n",
    "    if( length(y[grepl(\"B\\\\*\", y)]) == 1 ){\n",
    "        int_hla[i,c(\"B_1\", \"B_2\")] <- rep(y[grepl(\"B\\\\*\", y)],2) }\n",
    "    if( length(y[grepl(\"C\\\\*\", y)]) == 1 ){\n",
    "        int_hla[i,c(\"C_1\", \"C_2\")] <- rep(y[grepl(\"C\\\\*\", y)],2) }\n",
    "    if( length(y[grepl(\"DRB1\\\\*\", y)]) == 1 ){\n",
    "        int_hla[i,c(\"DRB1_1\", \"DRB1_2\")] <- rep(y[grepl(\"DRB1\\\\*\", y)],2) }\n",
    "    if( length(y[grepl(\"DQB1\\\\*\", y)]) == 1 ){\n",
    "        int_hla[i,c(\"DQB1_1\", \"DQB1_2\")] <- rep(y[grepl(\"DQB1\\\\*\", y)],2) }\n",
    "    if( length(y[grepl(\"DPB1\\\\*\", y)]) == 1 ){\n",
    "        int_hla[i,c(\"DPB1_1\", \"DPB1_2\")] <- rep(y[grepl(\"DPB1\\\\*\", y)],2) }\n",
    "    if( length(y[grepl(\"DPA1\\\\*\", y)]) == 1 ){\n",
    "        int_hla[i,c(\"DPA1_1\", \"DPA1_2\")] <- rep(y[grepl(\"DPA1\\\\*\", y)],2) }\n",
    "    if( length(y[grepl(\"DQA1\\\\*\", y)]) == 1 ){\n",
    "        int_hla[i,c(\"DQA1_1\", \"DQA1_2\")] <- rep(y[grepl(\"DQA1\\\\*\", y)],2) }\n",
    "    \n",
    "}"
   ]
  },
  {
   "cell_type": "code",
   "execution_count": 398,
   "metadata": {
    "vscode": {
     "languageId": "r"
    }
   },
   "outputs": [
    {
     "data": {
      "text/html": [
       "<table class=\"dataframe\">\n",
       "<caption>A data.frame: 6 x 16</caption>\n",
       "<thead>\n",
       "\t<tr><th></th><th scope=col>A_1</th><th scope=col>A_2</th><th scope=col>B_1</th><th scope=col>B_2</th><th scope=col>C_1</th><th scope=col>C_2</th><th scope=col>DRB1_1</th><th scope=col>DRB1_2</th><th scope=col>DQB1_1</th><th scope=col>DQB1_2</th><th scope=col>DPB1_1</th><th scope=col>DPB1_2</th><th scope=col>DPA1_1</th><th scope=col>DPA1_2</th><th scope=col>DQA1_1</th><th scope=col>DQA1_2</th></tr>\n",
       "\t<tr><th></th><th scope=col>&lt;chr&gt;</th><th scope=col>&lt;chr&gt;</th><th scope=col>&lt;chr&gt;</th><th scope=col>&lt;chr&gt;</th><th scope=col>&lt;chr&gt;</th><th scope=col>&lt;chr&gt;</th><th scope=col>&lt;chr&gt;</th><th scope=col>&lt;chr&gt;</th><th scope=col>&lt;chr&gt;</th><th scope=col>&lt;chr&gt;</th><th scope=col>&lt;chr&gt;</th><th scope=col>&lt;chr&gt;</th><th scope=col>&lt;chr&gt;</th><th scope=col>&lt;chr&gt;</th><th scope=col>&lt;chr&gt;</th><th scope=col>&lt;chr&gt;</th></tr>\n",
       "</thead>\n",
       "<tbody>\n",
       "\t<tr><th scope=row>414-02</th><td>A*02:01:01</td><td>A*30:04:01</td><td>B*07:02:01</td><td>B*44:02:01</td><td>C*05:01:01</td><td>C*07:02:01</td><td>DRB1*01:01:01</td><td>DRB1*15:01:01</td><td>DQB1*05:01:01</td><td>DQB1*06:02:01</td><td>DPB1*04:01:01</td><td>DPB1*20:01:01</td><td>DPA1*01:03:01</td><td>DPA1*01:03:01</td><td>DQA1*01:01:01</td><td>DQA1*01:02:01</td></tr>\n",
       "\t<tr><th scope=row>415-03</th><td>A*02:01:01</td><td>A*24:02:01</td><td>B*40:01:02</td><td>B*55:01:01</td><td>C*03:03:01</td><td>C*03:04:01</td><td>DRB1*04:04:01</td><td>DRB1*15:01:01</td><td>DQB1*03:02:01</td><td>DQB1*06:02:01</td><td>DPB1*04:01:01</td><td>DPB1*06:01:01</td><td>DPA1*01:03:01</td><td>DPA1*01:03:01</td><td>DQA1*01:02:01</td><td>DQA1*03:01:01</td></tr>\n",
       "\t<tr><th scope=row>417-02</th><td>A*03:01:01</td><td>A*25:01:01</td><td>B*18:01:01</td><td>B*40:01:02</td><td>C*03:04:01</td><td>C*12:03:01</td><td>DRB1*13:02:01</td><td>DRB1*15:01:01</td><td>DQB1*06:02:01</td><td>DQB1*06:04:01</td><td>DPB1*03:01:01</td><td>DPB1*23:01:01</td><td>DPA1*01:03:01</td><td>DPA1*01:03:01</td><td>DQA1*01:02:01</td><td>DQA1*01:02:01</td></tr>\n",
       "\t<tr><th scope=row>418-02</th><td>A*68:01:02</td><td>A*68:03:01</td><td>B*39:05:01</td><td>B*44:02:01</td><td>C*07:02:01</td><td>C*07:04:01</td><td>DRB1*01:01:01</td><td>DRB1*04:04:01</td><td>DQB1*03:02:01</td><td>DQB1*05:01:01</td><td>DPB1*09:01:01</td><td>DPB1*14:01:01</td><td>DPA1*02:01:01</td><td>DPA1*02:01:01</td><td>DQA1*01:01:01</td><td>DQA1*03:01:01</td></tr>\n",
       "\t<tr><th scope=row>419-02</th><td>A*02:01:01</td><td>A*03:01:01</td><td>B*07:02:01</td><td>B*45:01:01</td><td>C*06:02:01</td><td>C*07:02:01</td><td>DRB1*14:54:01</td><td>DRB1*15:01:01</td><td>DQB1*05:03:01</td><td>DQB1*06:02:01</td><td>DPB1*03:01:01</td><td>DPB1*04:01:01</td><td>DPA1*01:03:01</td><td>DPA1*01:03:01</td><td>DQA1*01:02:01</td><td>DQA1*01:04:01</td></tr>\n",
       "\t<tr><th scope=row>422-01</th><td>A*11:01:01</td><td>A*23:01:01</td><td>B*07:02:01</td><td>B*07:02:01</td><td>C*07:02:01</td><td>C*07:02:01</td><td>DRB1*13:01:01</td><td>DRB1*15:01:01</td><td>DQB1*06:02:01</td><td>DQB1*06:03:01</td><td>DPB1*04:01:01</td><td>DPB1*04:01:01</td><td>DPA1*01:03:01</td><td>DPA1*01:03:01</td><td>DQA1*01:02:01</td><td>DQA1*01:03:01</td></tr>\n",
       "</tbody>\n",
       "</table>\n"
      ],
      "text/latex": [
       "A data.frame: 6 x 16\n",
       "\\begin{tabular}{r|llllllllllllllll}\n",
       "  & A\\_1 & A\\_2 & B\\_1 & B\\_2 & C\\_1 & C\\_2 & DRB1\\_1 & DRB1\\_2 & DQB1\\_1 & DQB1\\_2 & DPB1\\_1 & DPB1\\_2 & DPA1\\_1 & DPA1\\_2 & DQA1\\_1 & DQA1\\_2\\\\\n",
       "  & <chr> & <chr> & <chr> & <chr> & <chr> & <chr> & <chr> & <chr> & <chr> & <chr> & <chr> & <chr> & <chr> & <chr> & <chr> & <chr>\\\\\n",
       "\\hline\n",
       "\t414-02 & A*02:01:01 & A*30:04:01 & B*07:02:01 & B*44:02:01 & C*05:01:01 & C*07:02:01 & DRB1*01:01:01 & DRB1*15:01:01 & DQB1*05:01:01 & DQB1*06:02:01 & DPB1*04:01:01 & DPB1*20:01:01 & DPA1*01:03:01 & DPA1*01:03:01 & DQA1*01:01:01 & DQA1*01:02:01\\\\\n",
       "\t415-03 & A*02:01:01 & A*24:02:01 & B*40:01:02 & B*55:01:01 & C*03:03:01 & C*03:04:01 & DRB1*04:04:01 & DRB1*15:01:01 & DQB1*03:02:01 & DQB1*06:02:01 & DPB1*04:01:01 & DPB1*06:01:01 & DPA1*01:03:01 & DPA1*01:03:01 & DQA1*01:02:01 & DQA1*03:01:01\\\\\n",
       "\t417-02 & A*03:01:01 & A*25:01:01 & B*18:01:01 & B*40:01:02 & C*03:04:01 & C*12:03:01 & DRB1*13:02:01 & DRB1*15:01:01 & DQB1*06:02:01 & DQB1*06:04:01 & DPB1*03:01:01 & DPB1*23:01:01 & DPA1*01:03:01 & DPA1*01:03:01 & DQA1*01:02:01 & DQA1*01:02:01\\\\\n",
       "\t418-02 & A*68:01:02 & A*68:03:01 & B*39:05:01 & B*44:02:01 & C*07:02:01 & C*07:04:01 & DRB1*01:01:01 & DRB1*04:04:01 & DQB1*03:02:01 & DQB1*05:01:01 & DPB1*09:01:01 & DPB1*14:01:01 & DPA1*02:01:01 & DPA1*02:01:01 & DQA1*01:01:01 & DQA1*03:01:01\\\\\n",
       "\t419-02 & A*02:01:01 & A*03:01:01 & B*07:02:01 & B*45:01:01 & C*06:02:01 & C*07:02:01 & DRB1*14:54:01 & DRB1*15:01:01 & DQB1*05:03:01 & DQB1*06:02:01 & DPB1*03:01:01 & DPB1*04:01:01 & DPA1*01:03:01 & DPA1*01:03:01 & DQA1*01:02:01 & DQA1*01:04:01\\\\\n",
       "\t422-01 & A*11:01:01 & A*23:01:01 & B*07:02:01 & B*07:02:01 & C*07:02:01 & C*07:02:01 & DRB1*13:01:01 & DRB1*15:01:01 & DQB1*06:02:01 & DQB1*06:03:01 & DPB1*04:01:01 & DPB1*04:01:01 & DPA1*01:03:01 & DPA1*01:03:01 & DQA1*01:02:01 & DQA1*01:03:01\\\\\n",
       "\\end{tabular}\n"
      ],
      "text/markdown": [
       "\n",
       "A data.frame: 6 x 16\n",
       "\n",
       "| <!--/--> | A_1 &lt;chr&gt; | A_2 &lt;chr&gt; | B_1 &lt;chr&gt; | B_2 &lt;chr&gt; | C_1 &lt;chr&gt; | C_2 &lt;chr&gt; | DRB1_1 &lt;chr&gt; | DRB1_2 &lt;chr&gt; | DQB1_1 &lt;chr&gt; | DQB1_2 &lt;chr&gt; | DPB1_1 &lt;chr&gt; | DPB1_2 &lt;chr&gt; | DPA1_1 &lt;chr&gt; | DPA1_2 &lt;chr&gt; | DQA1_1 &lt;chr&gt; | DQA1_2 &lt;chr&gt; |\n",
       "|---|---|---|---|---|---|---|---|---|---|---|---|---|---|---|---|---|\n",
       "| 414-02 | A*02:01:01 | A*30:04:01 | B*07:02:01 | B*44:02:01 | C*05:01:01 | C*07:02:01 | DRB1*01:01:01 | DRB1*15:01:01 | DQB1*05:01:01 | DQB1*06:02:01 | DPB1*04:01:01 | DPB1*20:01:01 | DPA1*01:03:01 | DPA1*01:03:01 | DQA1*01:01:01 | DQA1*01:02:01 |\n",
       "| 415-03 | A*02:01:01 | A*24:02:01 | B*40:01:02 | B*55:01:01 | C*03:03:01 | C*03:04:01 | DRB1*04:04:01 | DRB1*15:01:01 | DQB1*03:02:01 | DQB1*06:02:01 | DPB1*04:01:01 | DPB1*06:01:01 | DPA1*01:03:01 | DPA1*01:03:01 | DQA1*01:02:01 | DQA1*03:01:01 |\n",
       "| 417-02 | A*03:01:01 | A*25:01:01 | B*18:01:01 | B*40:01:02 | C*03:04:01 | C*12:03:01 | DRB1*13:02:01 | DRB1*15:01:01 | DQB1*06:02:01 | DQB1*06:04:01 | DPB1*03:01:01 | DPB1*23:01:01 | DPA1*01:03:01 | DPA1*01:03:01 | DQA1*01:02:01 | DQA1*01:02:01 |\n",
       "| 418-02 | A*68:01:02 | A*68:03:01 | B*39:05:01 | B*44:02:01 | C*07:02:01 | C*07:04:01 | DRB1*01:01:01 | DRB1*04:04:01 | DQB1*03:02:01 | DQB1*05:01:01 | DPB1*09:01:01 | DPB1*14:01:01 | DPA1*02:01:01 | DPA1*02:01:01 | DQA1*01:01:01 | DQA1*03:01:01 |\n",
       "| 419-02 | A*02:01:01 | A*03:01:01 | B*07:02:01 | B*45:01:01 | C*06:02:01 | C*07:02:01 | DRB1*14:54:01 | DRB1*15:01:01 | DQB1*05:03:01 | DQB1*06:02:01 | DPB1*03:01:01 | DPB1*04:01:01 | DPA1*01:03:01 | DPA1*01:03:01 | DQA1*01:02:01 | DQA1*01:04:01 |\n",
       "| 422-01 | A*11:01:01 | A*23:01:01 | B*07:02:01 | B*07:02:01 | C*07:02:01 | C*07:02:01 | DRB1*13:01:01 | DRB1*15:01:01 | DQB1*06:02:01 | DQB1*06:03:01 | DPB1*04:01:01 | DPB1*04:01:01 | DPA1*01:03:01 | DPA1*01:03:01 | DQA1*01:02:01 | DQA1*01:03:01 |\n",
       "\n"
      ],
      "text/plain": [
       "       A_1        A_2        B_1        B_2        C_1        C_2       \n",
       "414-02 A*02:01:01 A*30:04:01 B*07:02:01 B*44:02:01 C*05:01:01 C*07:02:01\n",
       "415-03 A*02:01:01 A*24:02:01 B*40:01:02 B*55:01:01 C*03:03:01 C*03:04:01\n",
       "417-02 A*03:01:01 A*25:01:01 B*18:01:01 B*40:01:02 C*03:04:01 C*12:03:01\n",
       "418-02 A*68:01:02 A*68:03:01 B*39:05:01 B*44:02:01 C*07:02:01 C*07:04:01\n",
       "419-02 A*02:01:01 A*03:01:01 B*07:02:01 B*45:01:01 C*06:02:01 C*07:02:01\n",
       "422-01 A*11:01:01 A*23:01:01 B*07:02:01 B*07:02:01 C*07:02:01 C*07:02:01\n",
       "       DRB1_1        DRB1_2        DQB1_1        DQB1_2        DPB1_1       \n",
       "414-02 DRB1*01:01:01 DRB1*15:01:01 DQB1*05:01:01 DQB1*06:02:01 DPB1*04:01:01\n",
       "415-03 DRB1*04:04:01 DRB1*15:01:01 DQB1*03:02:01 DQB1*06:02:01 DPB1*04:01:01\n",
       "417-02 DRB1*13:02:01 DRB1*15:01:01 DQB1*06:02:01 DQB1*06:04:01 DPB1*03:01:01\n",
       "418-02 DRB1*01:01:01 DRB1*04:04:01 DQB1*03:02:01 DQB1*05:01:01 DPB1*09:01:01\n",
       "419-02 DRB1*14:54:01 DRB1*15:01:01 DQB1*05:03:01 DQB1*06:02:01 DPB1*03:01:01\n",
       "422-01 DRB1*13:01:01 DRB1*15:01:01 DQB1*06:02:01 DQB1*06:03:01 DPB1*04:01:01\n",
       "       DPB1_2        DPA1_1        DPA1_2        DQA1_1        DQA1_2       \n",
       "414-02 DPB1*20:01:01 DPA1*01:03:01 DPA1*01:03:01 DQA1*01:01:01 DQA1*01:02:01\n",
       "415-03 DPB1*06:01:01 DPA1*01:03:01 DPA1*01:03:01 DQA1*01:02:01 DQA1*03:01:01\n",
       "417-02 DPB1*23:01:01 DPA1*01:03:01 DPA1*01:03:01 DQA1*01:02:01 DQA1*01:02:01\n",
       "418-02 DPB1*14:01:01 DPA1*02:01:01 DPA1*02:01:01 DQA1*01:01:01 DQA1*03:01:01\n",
       "419-02 DPB1*04:01:01 DPA1*01:03:01 DPA1*01:03:01 DQA1*01:02:01 DQA1*01:04:01\n",
       "422-01 DPB1*04:01:01 DPA1*01:03:01 DPA1*01:03:01 DQA1*01:02:01 DQA1*01:03:01"
      ]
     },
     "metadata": {},
     "output_type": "display_data"
    }
   ],
   "source": [
    "tail(int_hla)"
   ]
  },
  {
   "cell_type": "code",
   "execution_count": 399,
   "metadata": {
    "vscode": {
     "languageId": "r"
    }
   },
   "outputs": [],
   "source": [
    "readr::write_rds(int_hla, paste0(datapath, \"HLA/int_hla_matrix.rds\") )"
   ]
  },
  {
   "cell_type": "code",
   "execution_count": 400,
   "metadata": {
    "vscode": {
     "languageId": "r"
    }
   },
   "outputs": [],
   "source": [
    "int_hlaI <- int_hla[, c(\"A_1\", \"A_2\", \"B_1\", \"B_2\", \"C_1\", \"C_2\")]"
   ]
  },
  {
   "cell_type": "code",
   "execution_count": 401,
   "metadata": {
    "vscode": {
     "languageId": "r"
    }
   },
   "outputs": [],
   "source": [
    "# remove last three characters\n",
    "int_hlaI <- gsub(\"...$\", \"\", as.matrix(int_hlaI)) "
   ]
  },
  {
   "cell_type": "code",
   "execution_count": 402,
   "metadata": {
    "vscode": {
     "languageId": "r"
    }
   },
   "outputs": [
    {
     "data": {
      "text/html": [
       "<table class=\"dataframe\">\n",
       "<caption>A matrix: 6 x 6 of type chr</caption>\n",
       "<thead>\n",
       "\t<tr><th></th><th scope=col>A_1</th><th scope=col>A_2</th><th scope=col>B_1</th><th scope=col>B_2</th><th scope=col>C_1</th><th scope=col>C_2</th></tr>\n",
       "</thead>\n",
       "<tbody>\n",
       "\t<tr><th scope=row>315-05</th><td>A*02:01</td><td>A*02:05</td><td>B*35:01</td><td>B*49:01</td><td>C*04:01</td><td>C*07:01</td></tr>\n",
       "\t<tr><th scope=row>319-05</th><td>A*01:01</td><td>A*03:01</td><td>B*07:02</td><td>B*51:01</td><td>C*07:02</td><td>C*14:02</td></tr>\n",
       "\t<tr><th scope=row>323-03</th><td>A*11:01</td><td>A*23:01</td><td>B*41:01</td><td>B*49:01</td><td>C*07:01</td><td>C*17:01</td></tr>\n",
       "\t<tr><th scope=row>329-04</th><td>A*26:01</td><td>A*26:01</td><td>B*07:02</td><td>B*49:01</td><td>C*07:01</td><td>C*07:02</td></tr>\n",
       "\t<tr><th scope=row>330-05</th><td>A*02:01</td><td>A*33:03</td><td>B*13:02</td><td>B*18:01</td><td>C*05:01</td><td>C*06:02</td></tr>\n",
       "\t<tr><th scope=row>331-04</th><td>A*02:01</td><td>A*26:01</td><td>B*35:03</td><td>B*38:01</td><td>C*04:01</td><td>C*12:03</td></tr>\n",
       "</tbody>\n",
       "</table>\n"
      ],
      "text/latex": [
       "A matrix: 6 x 6 of type chr\n",
       "\\begin{tabular}{r|llllll}\n",
       "  & A\\_1 & A\\_2 & B\\_1 & B\\_2 & C\\_1 & C\\_2\\\\\n",
       "\\hline\n",
       "\t315-05 & A*02:01 & A*02:05 & B*35:01 & B*49:01 & C*04:01 & C*07:01\\\\\n",
       "\t319-05 & A*01:01 & A*03:01 & B*07:02 & B*51:01 & C*07:02 & C*14:02\\\\\n",
       "\t323-03 & A*11:01 & A*23:01 & B*41:01 & B*49:01 & C*07:01 & C*17:01\\\\\n",
       "\t329-04 & A*26:01 & A*26:01 & B*07:02 & B*49:01 & C*07:01 & C*07:02\\\\\n",
       "\t330-05 & A*02:01 & A*33:03 & B*13:02 & B*18:01 & C*05:01 & C*06:02\\\\\n",
       "\t331-04 & A*02:01 & A*26:01 & B*35:03 & B*38:01 & C*04:01 & C*12:03\\\\\n",
       "\\end{tabular}\n"
      ],
      "text/markdown": [
       "\n",
       "A matrix: 6 x 6 of type chr\n",
       "\n",
       "| <!--/--> | A_1 | A_2 | B_1 | B_2 | C_1 | C_2 |\n",
       "|---|---|---|---|---|---|---|\n",
       "| 315-05 | A*02:01 | A*02:05 | B*35:01 | B*49:01 | C*04:01 | C*07:01 |\n",
       "| 319-05 | A*01:01 | A*03:01 | B*07:02 | B*51:01 | C*07:02 | C*14:02 |\n",
       "| 323-03 | A*11:01 | A*23:01 | B*41:01 | B*49:01 | C*07:01 | C*17:01 |\n",
       "| 329-04 | A*26:01 | A*26:01 | B*07:02 | B*49:01 | C*07:01 | C*07:02 |\n",
       "| 330-05 | A*02:01 | A*33:03 | B*13:02 | B*18:01 | C*05:01 | C*06:02 |\n",
       "| 331-04 | A*02:01 | A*26:01 | B*35:03 | B*38:01 | C*04:01 | C*12:03 |\n",
       "\n"
      ],
      "text/plain": [
       "       A_1     A_2     B_1     B_2     C_1     C_2    \n",
       "315-05 A*02:01 A*02:05 B*35:01 B*49:01 C*04:01 C*07:01\n",
       "319-05 A*01:01 A*03:01 B*07:02 B*51:01 C*07:02 C*14:02\n",
       "323-03 A*11:01 A*23:01 B*41:01 B*49:01 C*07:01 C*17:01\n",
       "329-04 A*26:01 A*26:01 B*07:02 B*49:01 C*07:01 C*07:02\n",
       "330-05 A*02:01 A*33:03 B*13:02 B*18:01 C*05:01 C*06:02\n",
       "331-04 A*02:01 A*26:01 B*35:03 B*38:01 C*04:01 C*12:03"
      ]
     },
     "metadata": {},
     "output_type": "display_data"
    }
   ],
   "source": [
    "head(int_hlaI)"
   ]
  },
  {
   "cell_type": "code",
   "execution_count": 403,
   "metadata": {
    "vscode": {
     "languageId": "r"
    }
   },
   "outputs": [],
   "source": [
    "bd <- read.table(paste0(h4hpath, \"analysis/HLA/bdata.20130222.mhci.txt\"), sep = \"\\t\", header = T)\n",
    "bd_human <- bd[ bd$species == \"human\",]"
   ]
  },
  {
   "cell_type": "code",
   "execution_count": 404,
   "metadata": {
    "vscode": {
     "languageId": "r"
    }
   },
   "outputs": [
    {
     "data": {
      "text/html": [
       "<table class=\"dataframe\">\n",
       "<caption>A data.frame: 6 x 6</caption>\n",
       "<thead>\n",
       "\t<tr><th></th><th scope=col>species</th><th scope=col>mhc</th><th scope=col>peptide_length</th><th scope=col>sequence</th><th scope=col>inequality</th><th scope=col>meas</th></tr>\n",
       "\t<tr><th></th><th scope=col>&lt;chr&gt;</th><th scope=col>&lt;chr&gt;</th><th scope=col>&lt;int&gt;</th><th scope=col>&lt;chr&gt;</th><th scope=col>&lt;chr&gt;</th><th scope=col>&lt;dbl&gt;</th></tr>\n",
       "</thead>\n",
       "<tbody>\n",
       "\t<tr><th scope=row>5010</th><td>human</td><td>HLA-A*01:01</td><td>8</td><td>ASFCGSPY</td><td>=</td><td>  51.4000</td></tr>\n",
       "\t<tr><th scope=row>5011</th><td>human</td><td>HLA-A*01:01</td><td>8</td><td>LTDFGLSK</td><td>=</td><td> 739.3855</td></tr>\n",
       "\t<tr><th scope=row>5012</th><td>human</td><td>HLA-A*01:01</td><td>8</td><td>FTSFFYRY</td><td>=</td><td>1285.0000</td></tr>\n",
       "\t<tr><th scope=row>5013</th><td>human</td><td>HLA-A*01:01</td><td>8</td><td>KSVFNSLY</td><td>=</td><td>1466.0000</td></tr>\n",
       "\t<tr><th scope=row>5014</th><td>human</td><td>HLA-A*01:01</td><td>8</td><td>RDWAHNSL</td><td>=</td><td>1804.6755</td></tr>\n",
       "\t<tr><th scope=row>5015</th><td>human</td><td>HLA-A*01:01</td><td>8</td><td>FSSCPVAY</td><td>=</td><td>1939.4666</td></tr>\n",
       "</tbody>\n",
       "</table>\n"
      ],
      "text/latex": [
       "A data.frame: 6 x 6\n",
       "\\begin{tabular}{r|llllll}\n",
       "  & species & mhc & peptide\\_length & sequence & inequality & meas\\\\\n",
       "  & <chr> & <chr> & <int> & <chr> & <chr> & <dbl>\\\\\n",
       "\\hline\n",
       "\t5010 & human & HLA-A*01:01 & 8 & ASFCGSPY & = &   51.4000\\\\\n",
       "\t5011 & human & HLA-A*01:01 & 8 & LTDFGLSK & = &  739.3855\\\\\n",
       "\t5012 & human & HLA-A*01:01 & 8 & FTSFFYRY & = & 1285.0000\\\\\n",
       "\t5013 & human & HLA-A*01:01 & 8 & KSVFNSLY & = & 1466.0000\\\\\n",
       "\t5014 & human & HLA-A*01:01 & 8 & RDWAHNSL & = & 1804.6755\\\\\n",
       "\t5015 & human & HLA-A*01:01 & 8 & FSSCPVAY & = & 1939.4666\\\\\n",
       "\\end{tabular}\n"
      ],
      "text/markdown": [
       "\n",
       "A data.frame: 6 x 6\n",
       "\n",
       "| <!--/--> | species &lt;chr&gt; | mhc &lt;chr&gt; | peptide_length &lt;int&gt; | sequence &lt;chr&gt; | inequality &lt;chr&gt; | meas &lt;dbl&gt; |\n",
       "|---|---|---|---|---|---|---|\n",
       "| 5010 | human | HLA-A*01:01 | 8 | ASFCGSPY | = |   51.4000 |\n",
       "| 5011 | human | HLA-A*01:01 | 8 | LTDFGLSK | = |  739.3855 |\n",
       "| 5012 | human | HLA-A*01:01 | 8 | FTSFFYRY | = | 1285.0000 |\n",
       "| 5013 | human | HLA-A*01:01 | 8 | KSVFNSLY | = | 1466.0000 |\n",
       "| 5014 | human | HLA-A*01:01 | 8 | RDWAHNSL | = | 1804.6755 |\n",
       "| 5015 | human | HLA-A*01:01 | 8 | FSSCPVAY | = | 1939.4666 |\n",
       "\n"
      ],
      "text/plain": [
       "     species mhc         peptide_length sequence inequality meas     \n",
       "5010 human   HLA-A*01:01 8              ASFCGSPY =            51.4000\n",
       "5011 human   HLA-A*01:01 8              LTDFGLSK =           739.3855\n",
       "5012 human   HLA-A*01:01 8              FTSFFYRY =          1285.0000\n",
       "5013 human   HLA-A*01:01 8              KSVFNSLY =          1466.0000\n",
       "5014 human   HLA-A*01:01 8              RDWAHNSL =          1804.6755\n",
       "5015 human   HLA-A*01:01 8              FSSCPVAY =          1939.4666"
      ]
     },
     "metadata": {},
     "output_type": "display_data"
    }
   ],
   "source": [
    "head(bd_human)"
   ]
  },
  {
   "cell_type": "code",
   "execution_count": 445,
   "metadata": {
    "vscode": {
     "languageId": "r"
    }
   },
   "outputs": [],
   "source": [
    "meanval <- vector()\n",
    "for( i in unique(bd_human$mhc)){\n",
    "  tmp <- bd_human[ bd_human$mhc == i,]\n",
    "  meanval <- c(meanval, mean(tmp$meas))\n",
    "}\n",
    "names(meanval) <- unique(bd_human$mhc)"
   ]
  },
  {
   "cell_type": "code",
   "execution_count": 446,
   "metadata": {
    "vscode": {
     "languageId": "r"
    }
   },
   "outputs": [],
   "source": [
    "# minval <- readr::read_rds(paste0(h4hpath, \"analysis/HLA/minval.rds\") )"
   ]
  },
  {
   "cell_type": "code",
   "execution_count": 447,
   "metadata": {
    "vscode": {
     "languageId": "r"
    }
   },
   "outputs": [],
   "source": [
    "names(meanval) <- gsub(\"HLA-\", \"\", names(meanval))"
   ]
  },
  {
   "cell_type": "code",
   "execution_count": 448,
   "metadata": {
    "vscode": {
     "languageId": "r"
    }
   },
   "outputs": [],
   "source": [
    "int_hlaI_meanval <- int_hlaI"
   ]
  },
  {
   "cell_type": "code",
   "execution_count": 449,
   "metadata": {
    "vscode": {
     "languageId": "r"
    }
   },
   "outputs": [],
   "source": [
    "int_hlaI_meanval[,1] <- meanval[int_hlaI[,1]]\n",
    "int_hlaI_meanval[,2] <- meanval[int_hlaI[,2]]\n",
    "int_hlaI_meanval[,3] <- meanval[int_hlaI[,3]]\n",
    "int_hlaI_meanval[,4] <- meanval[int_hlaI[,4]]\n",
    "int_hlaI_meanval[,5] <- meanval[int_hlaI[,5]]\n",
    "int_hlaI_meanval[,6] <- meanval[int_hlaI[,6]]"
   ]
  },
  {
   "cell_type": "code",
   "execution_count": 450,
   "metadata": {
    "vscode": {
     "languageId": "r"
    }
   },
   "outputs": [],
   "source": [
    "int_hlaI_meanval_narm <- int_hlaI_meanval[complete.cases(int_hlaI_meanval),]"
   ]
  },
  {
   "cell_type": "code",
   "execution_count": 451,
   "metadata": {
    "vscode": {
     "languageId": "r"
    }
   },
   "outputs": [],
   "source": [
    "class(int_hlaI_meanval_narm) <- \"numeric\""
   ]
  },
  {
   "cell_type": "code",
   "execution_count": 452,
   "metadata": {
    "vscode": {
     "languageId": "r"
    }
   },
   "outputs": [
    {
     "data": {
      "text/html": [
       "<table class=\"dataframe\">\n",
       "<caption>A matrix: 6 x 6 of type dbl</caption>\n",
       "<thead>\n",
       "\t<tr><th></th><th scope=col>A_1</th><th scope=col>A_2</th><th scope=col>B_1</th><th scope=col>B_2</th><th scope=col>C_1</th><th scope=col>C_2</th></tr>\n",
       "</thead>\n",
       "<tbody>\n",
       "\t<tr><th scope=row>319-05</th><td>25049.41</td><td>19084.59</td><td>20968.09</td><td>24484.53</td><td>2018.1119</td><td>2469.9649</td></tr>\n",
       "\t<tr><th scope=row>331-04</th><td>25936.65</td><td>25220.16</td><td>53117.17</td><td>13490.88</td><td>9777.3523</td><td> 193.7384</td></tr>\n",
       "\t<tr><th scope=row>343-03</th><td>25936.65</td><td>19084.59</td><td>23761.23</td><td>53117.17</td><td>9777.3523</td><td>8227.8264</td></tr>\n",
       "\t<tr><th scope=row>345-02</th><td>25936.65</td><td>18338.98</td><td>20968.09</td><td>23761.23</td><td>2018.1119</td><td> 193.7384</td></tr>\n",
       "\t<tr><th scope=row>347-05</th><td>19084.59</td><td>21046.55</td><td>20968.09</td><td>19701.96</td><td>9777.3523</td><td>2018.1119</td></tr>\n",
       "\t<tr><th scope=row>348-04</th><td>25220.16</td><td>25220.16</td><td>13490.88</td><td>13490.88</td><td> 193.7384</td><td> 193.7384</td></tr>\n",
       "</tbody>\n",
       "</table>\n"
      ],
      "text/latex": [
       "A matrix: 6 x 6 of type dbl\n",
       "\\begin{tabular}{r|llllll}\n",
       "  & A\\_1 & A\\_2 & B\\_1 & B\\_2 & C\\_1 & C\\_2\\\\\n",
       "\\hline\n",
       "\t319-05 & 25049.41 & 19084.59 & 20968.09 & 24484.53 & 2018.1119 & 2469.9649\\\\\n",
       "\t331-04 & 25936.65 & 25220.16 & 53117.17 & 13490.88 & 9777.3523 &  193.7384\\\\\n",
       "\t343-03 & 25936.65 & 19084.59 & 23761.23 & 53117.17 & 9777.3523 & 8227.8264\\\\\n",
       "\t345-02 & 25936.65 & 18338.98 & 20968.09 & 23761.23 & 2018.1119 &  193.7384\\\\\n",
       "\t347-05 & 19084.59 & 21046.55 & 20968.09 & 19701.96 & 9777.3523 & 2018.1119\\\\\n",
       "\t348-04 & 25220.16 & 25220.16 & 13490.88 & 13490.88 &  193.7384 &  193.7384\\\\\n",
       "\\end{tabular}\n"
      ],
      "text/markdown": [
       "\n",
       "A matrix: 6 x 6 of type dbl\n",
       "\n",
       "| <!--/--> | A_1 | A_2 | B_1 | B_2 | C_1 | C_2 |\n",
       "|---|---|---|---|---|---|---|\n",
       "| 319-05 | 25049.41 | 19084.59 | 20968.09 | 24484.53 | 2018.1119 | 2469.9649 |\n",
       "| 331-04 | 25936.65 | 25220.16 | 53117.17 | 13490.88 | 9777.3523 |  193.7384 |\n",
       "| 343-03 | 25936.65 | 19084.59 | 23761.23 | 53117.17 | 9777.3523 | 8227.8264 |\n",
       "| 345-02 | 25936.65 | 18338.98 | 20968.09 | 23761.23 | 2018.1119 |  193.7384 |\n",
       "| 347-05 | 19084.59 | 21046.55 | 20968.09 | 19701.96 | 9777.3523 | 2018.1119 |\n",
       "| 348-04 | 25220.16 | 25220.16 | 13490.88 | 13490.88 |  193.7384 |  193.7384 |\n",
       "\n"
      ],
      "text/plain": [
       "       A_1      A_2      B_1      B_2      C_1       C_2      \n",
       "319-05 25049.41 19084.59 20968.09 24484.53 2018.1119 2469.9649\n",
       "331-04 25936.65 25220.16 53117.17 13490.88 9777.3523  193.7384\n",
       "343-03 25936.65 19084.59 23761.23 53117.17 9777.3523 8227.8264\n",
       "345-02 25936.65 18338.98 20968.09 23761.23 2018.1119  193.7384\n",
       "347-05 19084.59 21046.55 20968.09 19701.96 9777.3523 2018.1119\n",
       "348-04 25220.16 25220.16 13490.88 13490.88  193.7384  193.7384"
      ]
     },
     "metadata": {},
     "output_type": "display_data"
    }
   ],
   "source": [
    "head(int_hlaI_meanval_narm)"
   ]
  },
  {
   "cell_type": "code",
   "execution_count": 453,
   "metadata": {
    "vscode": {
     "languageId": "r"
    }
   },
   "outputs": [],
   "source": [
    "hmeans <- apply(int_hlaI_meanval_narm,1, function(x) { psych::harmonic.mean(x)})"
   ]
  },
  {
   "cell_type": "code",
   "execution_count": 454,
   "metadata": {
    "vscode": {
     "languageId": "r"
    }
   },
   "outputs": [],
   "source": [
    "names(hmeans) <- paste0(\"CHP_\", names(hmeans))\n",
    "names(hmeans) <- gsub(\"...$\", \"\", names(hmeans))"
   ]
  },
  {
   "cell_type": "code",
   "execution_count": 455,
   "metadata": {
    "vscode": {
     "languageId": "r"
    }
   },
   "outputs": [
    {
     "data": {
      "text/html": [
       "<style>\n",
       ".dl-inline {width: auto; margin:0; padding: 0}\n",
       ".dl-inline>dt, .dl-inline>dd {float: none; width: auto; display: inline-block}\n",
       ".dl-inline>dt::after {content: \":\\0020\"; padding-right: .5ex}\n",
       ".dl-inline>dt:not(:first-of-type) {padding-left: .5ex}\n",
       "</style><dl class=dl-inline><dt>CHP_348</dt><dd>568.679947372319</dd><dt>CHP_396</dt><dd>1025.34547761442</dd><dt>CHP_345</dt><dd>1027.40187605008</dd><dt>CHP_385</dt><dd>1096.9825933388</dd><dt>CHP_362</dt><dd>1097.89759377315</dd><dt>CHP_395</dt><dd>1100.23633497412</dd><dt>CHP_331</dt><dd>1103.94893503708</dd><dt>CHP_422</dt><dd>5107.89066234198</dd><dt>CHP_319</dt><dd>5549.2369469285</dd><dt>CHP_347</dt><dd>7536.27067249489</dd><dt>CHP_402</dt><dd>7635.98096796752</dd><dt>CHP_419</dt><dd>8550.92234872308</dd><dt>CHP_413</dt><dd>8717.69088282003</dd><dt>CHP_388</dt><dd>10470.3299845379</dd><dt>CHP_393</dt><dd>13596.3716929428</dd><dt>CHP_400</dt><dd>14831.1116371963</dd><dt>CHP_361</dt><dd>14935.272542063</dd><dt>CHP_350</dt><dd>14994.5567693625</dd><dt>CHP_398</dt><dd>15108.2321255243</dd><dt>CHP_343</dt><dd>15970.9797730038</dd><dt>CHP_381</dt><dd>17898.1044830101</dd><dt>CHP_353</dt><dd>18036.2740889203</dd><dt>CHP_363</dt><dd>18348.0576825333</dd><dt>CHP_404</dt><dd>18585.8604311521</dd><dt>CHP_407</dt><dd>18864.6386600302</dd></dl>\n"
      ],
      "text/latex": [
       "\\begin{description*}\n",
       "\\item[CHP\\textbackslash{}\\_348] 568.679947372319\n",
       "\\item[CHP\\textbackslash{}\\_396] 1025.34547761442\n",
       "\\item[CHP\\textbackslash{}\\_345] 1027.40187605008\n",
       "\\item[CHP\\textbackslash{}\\_385] 1096.9825933388\n",
       "\\item[CHP\\textbackslash{}\\_362] 1097.89759377315\n",
       "\\item[CHP\\textbackslash{}\\_395] 1100.23633497412\n",
       "\\item[CHP\\textbackslash{}\\_331] 1103.94893503708\n",
       "\\item[CHP\\textbackslash{}\\_422] 5107.89066234198\n",
       "\\item[CHP\\textbackslash{}\\_319] 5549.2369469285\n",
       "\\item[CHP\\textbackslash{}\\_347] 7536.27067249489\n",
       "\\item[CHP\\textbackslash{}\\_402] 7635.98096796752\n",
       "\\item[CHP\\textbackslash{}\\_419] 8550.92234872308\n",
       "\\item[CHP\\textbackslash{}\\_413] 8717.69088282003\n",
       "\\item[CHP\\textbackslash{}\\_388] 10470.3299845379\n",
       "\\item[CHP\\textbackslash{}\\_393] 13596.3716929428\n",
       "\\item[CHP\\textbackslash{}\\_400] 14831.1116371963\n",
       "\\item[CHP\\textbackslash{}\\_361] 14935.272542063\n",
       "\\item[CHP\\textbackslash{}\\_350] 14994.5567693625\n",
       "\\item[CHP\\textbackslash{}\\_398] 15108.2321255243\n",
       "\\item[CHP\\textbackslash{}\\_343] 15970.9797730038\n",
       "\\item[CHP\\textbackslash{}\\_381] 17898.1044830101\n",
       "\\item[CHP\\textbackslash{}\\_353] 18036.2740889203\n",
       "\\item[CHP\\textbackslash{}\\_363] 18348.0576825333\n",
       "\\item[CHP\\textbackslash{}\\_404] 18585.8604311521\n",
       "\\item[CHP\\textbackslash{}\\_407] 18864.6386600302\n",
       "\\end{description*}\n"
      ],
      "text/markdown": [
       "CHP_348\n",
       ":   568.679947372319CHP_396\n",
       ":   1025.34547761442CHP_345\n",
       ":   1027.40187605008CHP_385\n",
       ":   1096.9825933388CHP_362\n",
       ":   1097.89759377315CHP_395\n",
       ":   1100.23633497412CHP_331\n",
       ":   1103.94893503708CHP_422\n",
       ":   5107.89066234198CHP_319\n",
       ":   5549.2369469285CHP_347\n",
       ":   7536.27067249489CHP_402\n",
       ":   7635.98096796752CHP_419\n",
       ":   8550.92234872308CHP_413\n",
       ":   8717.69088282003CHP_388\n",
       ":   10470.3299845379CHP_393\n",
       ":   13596.3716929428CHP_400\n",
       ":   14831.1116371963CHP_361\n",
       ":   14935.272542063CHP_350\n",
       ":   14994.5567693625CHP_398\n",
       ":   15108.2321255243CHP_343\n",
       ":   15970.9797730038CHP_381\n",
       ":   17898.1044830101CHP_353\n",
       ":   18036.2740889203CHP_363\n",
       ":   18348.0576825333CHP_404\n",
       ":   18585.8604311521CHP_407\n",
       ":   18864.6386600302\n",
       "\n"
      ],
      "text/plain": [
       "   CHP_348    CHP_396    CHP_345    CHP_385    CHP_362    CHP_395    CHP_331 \n",
       "  568.6799  1025.3455  1027.4019  1096.9826  1097.8976  1100.2363  1103.9489 \n",
       "   CHP_422    CHP_319    CHP_347    CHP_402    CHP_419    CHP_413    CHP_388 \n",
       " 5107.8907  5549.2369  7536.2707  7635.9810  8550.9223  8717.6909 10470.3300 \n",
       "   CHP_393    CHP_400    CHP_361    CHP_350    CHP_398    CHP_343    CHP_381 \n",
       "13596.3717 14831.1116 14935.2725 14994.5568 15108.2321 15970.9798 17898.1045 \n",
       "   CHP_353    CHP_363    CHP_404    CHP_407 \n",
       "18036.2741 18348.0577 18585.8604 18864.6387 "
      ]
     },
     "metadata": {},
     "output_type": "display_data"
    }
   ],
   "source": [
    "sort(hmeans)"
   ]
  },
  {
   "cell_type": "code",
   "execution_count": 456,
   "metadata": {
    "vscode": {
     "languageId": "r"
    }
   },
   "outputs": [],
   "source": [
    "meta_div <- readr::read_rds(paste0(datapath, \"capTCRseq/meta_div_goodsamples.rds\"))"
   ]
  },
  {
   "cell_type": "code",
   "execution_count": 457,
   "metadata": {
    "vscode": {
     "languageId": "r"
    }
   },
   "outputs": [],
   "source": [
    "meta_div <- meta_div[ !is.na(meta_div$TRB),]"
   ]
  },
  {
   "cell_type": "code",
   "execution_count": 458,
   "metadata": {
    "vscode": {
     "languageId": "r"
    }
   },
   "outputs": [],
   "source": [
    "pbmc <- meta_div[ meta_div$sampletype == \"PBMC\",]\n",
    "cfdna <- meta_div[ meta_div$sampletype == \"cfDNA\",]"
   ]
  },
  {
   "cell_type": "code",
   "execution_count": 459,
   "metadata": {
    "vscode": {
     "languageId": "r"
    }
   },
   "outputs": [],
   "source": [
    "tmp <- pbmc[ pbmc$Patient %in% names(hmeans),]"
   ]
  },
  {
   "cell_type": "code",
   "execution_count": 460,
   "metadata": {
    "vscode": {
     "languageId": "r"
    }
   },
   "outputs": [
    {
     "data": {
      "text/html": [
       "<style>\n",
       ".list-inline {list-style: none; margin:0; padding: 0}\n",
       ".list-inline>li {display: inline-block}\n",
       ".list-inline>li:not(:last-child)::after {content: \"\\00b7\"; padding: 0 .5ex}\n",
       "</style>\n",
       "<ol class=list-inline><li>'CHP_348'</li><li>'CHP_396'</li><li>'CHP_345'</li><li>'CHP_385'</li><li>'CHP_362'</li><li>'CHP_395'</li><li>'CHP_331'</li><li>'CHP_422'</li><li>'CHP_319'</li><li>'CHP_347'</li><li>'CHP_402'</li><li>'CHP_419'</li><li>'CHP_413'</li><li>'CHP_388'</li><li>'CHP_393'</li><li>'CHP_400'</li><li>'CHP_361'</li><li>'CHP_350'</li><li>'CHP_398'</li><li>'CHP_343'</li><li>'CHP_381'</li><li>'CHP_353'</li><li>'CHP_363'</li><li>'CHP_404'</li><li>'CHP_407'</li></ol>\n"
      ],
      "text/latex": [
       "\\begin{enumerate*}\n",
       "\\item 'CHP\\_348'\n",
       "\\item 'CHP\\_396'\n",
       "\\item 'CHP\\_345'\n",
       "\\item 'CHP\\_385'\n",
       "\\item 'CHP\\_362'\n",
       "\\item 'CHP\\_395'\n",
       "\\item 'CHP\\_331'\n",
       "\\item 'CHP\\_422'\n",
       "\\item 'CHP\\_319'\n",
       "\\item 'CHP\\_347'\n",
       "\\item 'CHP\\_402'\n",
       "\\item 'CHP\\_419'\n",
       "\\item 'CHP\\_413'\n",
       "\\item 'CHP\\_388'\n",
       "\\item 'CHP\\_393'\n",
       "\\item 'CHP\\_400'\n",
       "\\item 'CHP\\_361'\n",
       "\\item 'CHP\\_350'\n",
       "\\item 'CHP\\_398'\n",
       "\\item 'CHP\\_343'\n",
       "\\item 'CHP\\_381'\n",
       "\\item 'CHP\\_353'\n",
       "\\item 'CHP\\_363'\n",
       "\\item 'CHP\\_404'\n",
       "\\item 'CHP\\_407'\n",
       "\\end{enumerate*}\n"
      ],
      "text/markdown": [
       "1. 'CHP_348'\n",
       "2. 'CHP_396'\n",
       "3. 'CHP_345'\n",
       "4. 'CHP_385'\n",
       "5. 'CHP_362'\n",
       "6. 'CHP_395'\n",
       "7. 'CHP_331'\n",
       "8. 'CHP_422'\n",
       "9. 'CHP_319'\n",
       "10. 'CHP_347'\n",
       "11. 'CHP_402'\n",
       "12. 'CHP_419'\n",
       "13. 'CHP_413'\n",
       "14. 'CHP_388'\n",
       "15. 'CHP_393'\n",
       "16. 'CHP_400'\n",
       "17. 'CHP_361'\n",
       "18. 'CHP_350'\n",
       "19. 'CHP_398'\n",
       "20. 'CHP_343'\n",
       "21. 'CHP_381'\n",
       "22. 'CHP_353'\n",
       "23. 'CHP_363'\n",
       "24. 'CHP_404'\n",
       "25. 'CHP_407'\n",
       "\n",
       "\n"
      ],
      "text/plain": [
       " [1] \"CHP_348\" \"CHP_396\" \"CHP_345\" \"CHP_385\" \"CHP_362\" \"CHP_395\" \"CHP_331\"\n",
       " [8] \"CHP_422\" \"CHP_319\" \"CHP_347\" \"CHP_402\" \"CHP_419\" \"CHP_413\" \"CHP_388\"\n",
       "[15] \"CHP_393\" \"CHP_400\" \"CHP_361\" \"CHP_350\" \"CHP_398\" \"CHP_343\" \"CHP_381\"\n",
       "[22] \"CHP_353\" \"CHP_363\" \"CHP_404\" \"CHP_407\""
      ]
     },
     "metadata": {},
     "output_type": "display_data"
    }
   ],
   "source": [
    "names(sort(hmeans))"
   ]
  },
  {
   "cell_type": "code",
   "execution_count": 461,
   "metadata": {
    "vscode": {
     "languageId": "r"
    }
   },
   "outputs": [
    {
     "data": {
      "text/html": [
       "<table class=\"dataframe\">\n",
       "<caption>A data.frame: 25 x 1</caption>\n",
       "<thead>\n",
       "\t<tr><th></th><th scope=col>hmeans</th></tr>\n",
       "\t<tr><th></th><th scope=col>&lt;dbl&gt;</th></tr>\n",
       "</thead>\n",
       "<tbody>\n",
       "\t<tr><th scope=row>CHP_319</th><td> 5549.2369</td></tr>\n",
       "\t<tr><th scope=row>CHP_331</th><td> 1103.9489</td></tr>\n",
       "\t<tr><th scope=row>CHP_343</th><td>15970.9798</td></tr>\n",
       "\t<tr><th scope=row>CHP_345</th><td> 1027.4019</td></tr>\n",
       "\t<tr><th scope=row>CHP_347</th><td> 7536.2707</td></tr>\n",
       "\t<tr><th scope=row>CHP_348</th><td>  568.6799</td></tr>\n",
       "\t<tr><th scope=row>CHP_350</th><td>14994.5568</td></tr>\n",
       "\t<tr><th scope=row>CHP_353</th><td>18036.2741</td></tr>\n",
       "\t<tr><th scope=row>CHP_361</th><td>14935.2725</td></tr>\n",
       "\t<tr><th scope=row>CHP_362</th><td> 1097.8976</td></tr>\n",
       "\t<tr><th scope=row>CHP_363</th><td>18348.0577</td></tr>\n",
       "\t<tr><th scope=row>CHP_381</th><td>17898.1045</td></tr>\n",
       "\t<tr><th scope=row>CHP_385</th><td> 1096.9826</td></tr>\n",
       "\t<tr><th scope=row>CHP_388</th><td>10470.3300</td></tr>\n",
       "\t<tr><th scope=row>CHP_393</th><td>13596.3717</td></tr>\n",
       "\t<tr><th scope=row>CHP_395</th><td> 1100.2363</td></tr>\n",
       "\t<tr><th scope=row>CHP_396</th><td> 1025.3455</td></tr>\n",
       "\t<tr><th scope=row>CHP_398</th><td>15108.2321</td></tr>\n",
       "\t<tr><th scope=row>CHP_400</th><td>14831.1116</td></tr>\n",
       "\t<tr><th scope=row>CHP_402</th><td> 7635.9810</td></tr>\n",
       "\t<tr><th scope=row>CHP_404</th><td>18585.8604</td></tr>\n",
       "\t<tr><th scope=row>CHP_407</th><td>18864.6387</td></tr>\n",
       "\t<tr><th scope=row>CHP_413</th><td> 8717.6909</td></tr>\n",
       "\t<tr><th scope=row>CHP_419</th><td> 8550.9223</td></tr>\n",
       "\t<tr><th scope=row>CHP_422</th><td> 5107.8907</td></tr>\n",
       "</tbody>\n",
       "</table>\n"
      ],
      "text/latex": [
       "A data.frame: 25 x 1\n",
       "\\begin{tabular}{r|l}\n",
       "  & hmeans\\\\\n",
       "  & <dbl>\\\\\n",
       "\\hline\n",
       "\tCHP\\_319 &  5549.2369\\\\\n",
       "\tCHP\\_331 &  1103.9489\\\\\n",
       "\tCHP\\_343 & 15970.9798\\\\\n",
       "\tCHP\\_345 &  1027.4019\\\\\n",
       "\tCHP\\_347 &  7536.2707\\\\\n",
       "\tCHP\\_348 &   568.6799\\\\\n",
       "\tCHP\\_350 & 14994.5568\\\\\n",
       "\tCHP\\_353 & 18036.2741\\\\\n",
       "\tCHP\\_361 & 14935.2725\\\\\n",
       "\tCHP\\_362 &  1097.8976\\\\\n",
       "\tCHP\\_363 & 18348.0577\\\\\n",
       "\tCHP\\_381 & 17898.1045\\\\\n",
       "\tCHP\\_385 &  1096.9826\\\\\n",
       "\tCHP\\_388 & 10470.3300\\\\\n",
       "\tCHP\\_393 & 13596.3717\\\\\n",
       "\tCHP\\_395 &  1100.2363\\\\\n",
       "\tCHP\\_396 &  1025.3455\\\\\n",
       "\tCHP\\_398 & 15108.2321\\\\\n",
       "\tCHP\\_400 & 14831.1116\\\\\n",
       "\tCHP\\_402 &  7635.9810\\\\\n",
       "\tCHP\\_404 & 18585.8604\\\\\n",
       "\tCHP\\_407 & 18864.6387\\\\\n",
       "\tCHP\\_413 &  8717.6909\\\\\n",
       "\tCHP\\_419 &  8550.9223\\\\\n",
       "\tCHP\\_422 &  5107.8907\\\\\n",
       "\\end{tabular}\n"
      ],
      "text/markdown": [
       "\n",
       "A data.frame: 25 x 1\n",
       "\n",
       "| <!--/--> | hmeans &lt;dbl&gt; |\n",
       "|---|---|\n",
       "| CHP_319 |  5549.2369 |\n",
       "| CHP_331 |  1103.9489 |\n",
       "| CHP_343 | 15970.9798 |\n",
       "| CHP_345 |  1027.4019 |\n",
       "| CHP_347 |  7536.2707 |\n",
       "| CHP_348 |   568.6799 |\n",
       "| CHP_350 | 14994.5568 |\n",
       "| CHP_353 | 18036.2741 |\n",
       "| CHP_361 | 14935.2725 |\n",
       "| CHP_362 |  1097.8976 |\n",
       "| CHP_363 | 18348.0577 |\n",
       "| CHP_381 | 17898.1045 |\n",
       "| CHP_385 |  1096.9826 |\n",
       "| CHP_388 | 10470.3300 |\n",
       "| CHP_393 | 13596.3717 |\n",
       "| CHP_395 |  1100.2363 |\n",
       "| CHP_396 |  1025.3455 |\n",
       "| CHP_398 | 15108.2321 |\n",
       "| CHP_400 | 14831.1116 |\n",
       "| CHP_402 |  7635.9810 |\n",
       "| CHP_404 | 18585.8604 |\n",
       "| CHP_407 | 18864.6387 |\n",
       "| CHP_413 |  8717.6909 |\n",
       "| CHP_419 |  8550.9223 |\n",
       "| CHP_422 |  5107.8907 |\n",
       "\n"
      ],
      "text/plain": [
       "        hmeans    \n",
       "CHP_319  5549.2369\n",
       "CHP_331  1103.9489\n",
       "CHP_343 15970.9798\n",
       "CHP_345  1027.4019\n",
       "CHP_347  7536.2707\n",
       "CHP_348   568.6799\n",
       "CHP_350 14994.5568\n",
       "CHP_353 18036.2741\n",
       "CHP_361 14935.2725\n",
       "CHP_362  1097.8976\n",
       "CHP_363 18348.0577\n",
       "CHP_381 17898.1045\n",
       "CHP_385  1096.9826\n",
       "CHP_388 10470.3300\n",
       "CHP_393 13596.3717\n",
       "CHP_395  1100.2363\n",
       "CHP_396  1025.3455\n",
       "CHP_398 15108.2321\n",
       "CHP_400 14831.1116\n",
       "CHP_402  7635.9810\n",
       "CHP_404 18585.8604\n",
       "CHP_407 18864.6387\n",
       "CHP_413  8717.6909\n",
       "CHP_419  8550.9223\n",
       "CHP_422  5107.8907"
      ]
     },
     "metadata": {},
     "output_type": "display_data"
    }
   ],
   "source": [
    "as.data.frame(hmeans)"
   ]
  },
  {
   "cell_type": "code",
   "execution_count": 466,
   "metadata": {
    "vscode": {
     "languageId": "r"
    }
   },
   "outputs": [
    {
     "data": {
      "image/png": "[encoded data removed]",
      "text/plain": [
       "plot without title"
      ]
     },
     "metadata": {
      "image/png": {
       "height": 420,
       "width": 420
      }
     },
     "output_type": "display_data"
    }
   ],
   "source": [
    "ggplot(as.data.frame(hmeans) )+ geom_histogram(aes(x = hmeans), binwidth = 50)"
   ]
  },
  {
   "cell_type": "code",
   "execution_count": 139,
   "metadata": {
    "vscode": {
     "languageId": "r"
    }
   },
   "outputs": [],
   "source": [
    "tmp$Patient <- factor(tmp$Patient, levels = names(sort(hmeans)))"
   ]
  },
  {
   "cell_type": "code",
   "execution_count": 140,
   "metadata": {
    "vscode": {
     "languageId": "r"
    }
   },
   "outputs": [
    {
     "data": {
      "text/html": [
       "<style>\n",
       ".list-inline {list-style: none; margin:0; padding: 0}\n",
       ".list-inline>li {display: inline-block}\n",
       ".list-inline>li:not(:last-child)::after {content: \"\\00b7\"; padding: 0 .5ex}\n",
       "</style>\n",
       "<ol class=list-inline><li>'sample_id'</li><li>'Patient'</li><li>'cycle'</li><li>'FOLD'</li><li>'ATC'</li><li>'Age'</li><li>'Disease_type'</li><li>'TE_fold'</li><li>'CD3'</li><li>'EM'</li><li>'CM'</li><li>'Naïve'</li><li>'SCM'</li><li>'TE'</li><li>'EM%'</li><li>'CM%'</li><li>'Naïve%'</li><li>'SCM%'</li><li>'TE%'</li><li>'Naïve/TE'</li><li>'N+CM+SCM/TE+EM'</li><li>'PD-1'</li><li>'PDL1'</li><li>'LAG3'</li><li>'TIM3'</li><li>'CTLA4'</li><li>'PD1%'</li><li>'PDL1%'</li><li>'LAG3%'</li><li>'TIM3%'</li><li>'CTLA4%'</li><li>'Any NCR'</li><li>'PD1 + LAG3 + TIM3'</li><li>'cancergroup'</li><li>'agegroup'</li><li>'foldgroup'</li><li>'Remission'</li><li>'Relapse'</li><li>'Transplant'</li><li>'CART'</li><li>'TRB'</li><li>'Reads'</li><li>'CPKR'</li><li>'Average_reads'</li><li>'VMR'</li><li>'Max_reads'</li><li>'Singletons'</li><li>'Doubletons'</li><li>'qD'</li><li>'Sample_Coverage'</li><li>'observed_Richness'</li><li>'estimated_Richness'</li><li>'SE_Richeness'</li><li>'observed_Shannon'</li><li>'estimated_Shannon'</li><li>'SE_Shannon'</li><li>'observed_Simpson'</li><li>'estimated_Simpson'</li><li>'SE_Simpson'</li><li>'basename'</li><li>'file'</li><li>'Group'</li><li>'sampletype'</li><li>'log10shann'</li></ol>\n"
      ],
      "text/latex": [
       "\\begin{enumerate*}\n",
       "\\item 'sample\\_id'\n",
       "\\item 'Patient'\n",
       "\\item 'cycle'\n",
       "\\item 'FOLD'\n",
       "\\item 'ATC'\n",
       "\\item 'Age'\n",
       "\\item 'Disease\\_type'\n",
       "\\item 'TE\\_fold'\n",
       "\\item 'CD3'\n",
       "\\item 'EM'\n",
       "\\item 'CM'\n",
       "\\item 'Naïve'\n",
       "\\item 'SCM'\n",
       "\\item 'TE'\n",
       "\\item 'EM\\%'\n",
       "\\item 'CM\\%'\n",
       "\\item 'Naïve\\%'\n",
       "\\item 'SCM\\%'\n",
       "\\item 'TE\\%'\n",
       "\\item 'Naïve/TE'\n",
       "\\item 'N+CM+SCM/TE+EM'\n",
       "\\item 'PD-1'\n",
       "\\item 'PDL1'\n",
       "\\item 'LAG3'\n",
       "\\item 'TIM3'\n",
       "\\item 'CTLA4'\n",
       "\\item 'PD1\\%'\n",
       "\\item 'PDL1\\%'\n",
       "\\item 'LAG3\\%'\n",
       "\\item 'TIM3\\%'\n",
       "\\item 'CTLA4\\%'\n",
       "\\item 'Any NCR'\n",
       "\\item 'PD1 + LAG3 + TIM3'\n",
       "\\item 'cancergroup'\n",
       "\\item 'agegroup'\n",
       "\\item 'foldgroup'\n",
       "\\item 'Remission'\n",
       "\\item 'Relapse'\n",
       "\\item 'Transplant'\n",
       "\\item 'CART'\n",
       "\\item 'TRB'\n",
       "\\item 'Reads'\n",
       "\\item 'CPKR'\n",
       "\\item 'Average\\_reads'\n",
       "\\item 'VMR'\n",
       "\\item 'Max\\_reads'\n",
       "\\item 'Singletons'\n",
       "\\item 'Doubletons'\n",
       "\\item 'qD'\n",
       "\\item 'Sample\\_Coverage'\n",
       "\\item 'observed\\_Richness'\n",
       "\\item 'estimated\\_Richness'\n",
       "\\item 'SE\\_Richeness'\n",
       "\\item 'observed\\_Shannon'\n",
       "\\item 'estimated\\_Shannon'\n",
       "\\item 'SE\\_Shannon'\n",
       "\\item 'observed\\_Simpson'\n",
       "\\item 'estimated\\_Simpson'\n",
       "\\item 'SE\\_Simpson'\n",
       "\\item 'basename'\n",
       "\\item 'file'\n",
       "\\item 'Group'\n",
       "\\item 'sampletype'\n",
       "\\item 'log10shann'\n",
       "\\end{enumerate*}\n"
      ],
      "text/markdown": [
       "1. 'sample_id'\n",
       "2. 'Patient'\n",
       "3. 'cycle'\n",
       "4. 'FOLD'\n",
       "5. 'ATC'\n",
       "6. 'Age'\n",
       "7. 'Disease_type'\n",
       "8. 'TE_fold'\n",
       "9. 'CD3'\n",
       "10. 'EM'\n",
       "11. 'CM'\n",
       "12. 'Naïve'\n",
       "13. 'SCM'\n",
       "14. 'TE'\n",
       "15. 'EM%'\n",
       "16. 'CM%'\n",
       "17. 'Naïve%'\n",
       "18. 'SCM%'\n",
       "19. 'TE%'\n",
       "20. 'Naïve/TE'\n",
       "21. 'N+CM+SCM/TE+EM'\n",
       "22. 'PD-1'\n",
       "23. 'PDL1'\n",
       "24. 'LAG3'\n",
       "25. 'TIM3'\n",
       "26. 'CTLA4'\n",
       "27. 'PD1%'\n",
       "28. 'PDL1%'\n",
       "29. 'LAG3%'\n",
       "30. 'TIM3%'\n",
       "31. 'CTLA4%'\n",
       "32. 'Any NCR'\n",
       "33. 'PD1 + LAG3 + TIM3'\n",
       "34. 'cancergroup'\n",
       "35. 'agegroup'\n",
       "36. 'foldgroup'\n",
       "37. 'Remission'\n",
       "38. 'Relapse'\n",
       "39. 'Transplant'\n",
       "40. 'CART'\n",
       "41. 'TRB'\n",
       "42. 'Reads'\n",
       "43. 'CPKR'\n",
       "44. 'Average_reads'\n",
       "45. 'VMR'\n",
       "46. 'Max_reads'\n",
       "47. 'Singletons'\n",
       "48. 'Doubletons'\n",
       "49. 'qD'\n",
       "50. 'Sample_Coverage'\n",
       "51. 'observed_Richness'\n",
       "52. 'estimated_Richness'\n",
       "53. 'SE_Richeness'\n",
       "54. 'observed_Shannon'\n",
       "55. 'estimated_Shannon'\n",
       "56. 'SE_Shannon'\n",
       "57. 'observed_Simpson'\n",
       "58. 'estimated_Simpson'\n",
       "59. 'SE_Simpson'\n",
       "60. 'basename'\n",
       "61. 'file'\n",
       "62. 'Group'\n",
       "63. 'sampletype'\n",
       "64. 'log10shann'\n",
       "\n",
       "\n"
      ],
      "text/plain": [
       " [1] \"sample_id\"          \"Patient\"            \"cycle\"             \n",
       " [4] \"FOLD\"               \"ATC\"                \"Age\"               \n",
       " [7] \"Disease_type\"       \"TE_fold\"            \"CD3\"               \n",
       "[10] \"EM\"                 \"CM\"                 \"Naïve\"             \n",
       "[13] \"SCM\"                \"TE\"                 \"EM%\"               \n",
       "[16] \"CM%\"                \"Naïve%\"             \"SCM%\"              \n",
       "[19] \"TE%\"                \"Naïve/TE\"           \"N+CM+SCM/TE+EM\"    \n",
       "[22] \"PD-1\"               \"PDL1\"               \"LAG3\"              \n",
       "[25] \"TIM3\"               \"CTLA4\"              \"PD1%\"              \n",
       "[28] \"PDL1%\"              \"LAG3%\"              \"TIM3%\"             \n",
       "[31] \"CTLA4%\"             \"Any NCR\"            \"PD1 + LAG3 + TIM3\" \n",
       "[34] \"cancergroup\"        \"agegroup\"           \"foldgroup\"         \n",
       "[37] \"Remission\"          \"Relapse\"            \"Transplant\"        \n",
       "[40] \"CART\"               \"TRB\"                \"Reads\"             \n",
       "[43] \"CPKR\"               \"Average_reads\"      \"VMR\"               \n",
       "[46] \"Max_reads\"          \"Singletons\"         \"Doubletons\"        \n",
       "[49] \"qD\"                 \"Sample_Coverage\"    \"observed_Richness\" \n",
       "[52] \"estimated_Richness\" \"SE_Richeness\"       \"observed_Shannon\"  \n",
       "[55] \"estimated_Shannon\"  \"SE_Shannon\"         \"observed_Simpson\"  \n",
       "[58] \"estimated_Simpson\"  \"SE_Simpson\"         \"basename\"          \n",
       "[61] \"file\"               \"Group\"              \"sampletype\"        \n",
       "[64] \"log10shann\"        "
      ]
     },
     "metadata": {},
     "output_type": "display_data"
    }
   ],
   "source": [
    "colnames(tmp)"
   ]
  },
  {
   "cell_type": "code",
   "execution_count": 145,
   "metadata": {
    "vscode": {
     "languageId": "r"
    }
   },
   "outputs": [
    {
     "data": {
      "image/png": "[encoded data removed]",
      "text/plain": [
       "plot without title"
      ]
     },
     "metadata": {
      "image/png": {
       "height": 420,
       "width": 420
      }
     },
     "output_type": "display_data"
    }
   ],
   "source": [
    "ggplot(data = tmp, aes(y = TRB, x = Patient)) + geom_point() + facet_wrap(~cycle, ncol = 2) + theme_bw() + \n",
    "theme(axis.text.x = element_text(angle = 45, hjust = 1))"
   ]
  },
  {
   "attachments": {},
   "cell_type": "markdown",
   "metadata": {},
   "source": [
    "## HLA II"
   ]
  },
  {
   "cell_type": "code",
   "execution_count": 322,
   "metadata": {
    "vscode": {
     "languageId": "r"
    }
   },
   "outputs": [],
   "source": [
    "int_hla <- readr::read_rds(paste0(datapath, \"HLA/int_hla_matrix.rds\") )"
   ]
  },
  {
   "cell_type": "code",
   "execution_count": 323,
   "metadata": {
    "vscode": {
     "languageId": "r"
    }
   },
   "outputs": [
    {
     "data": {
      "text/html": [
       "<table class=\"dataframe\">\n",
       "<caption>A data.frame: 6 x 16</caption>\n",
       "<thead>\n",
       "\t<tr><th></th><th scope=col>A_1</th><th scope=col>A_2</th><th scope=col>B_1</th><th scope=col>B_2</th><th scope=col>C_1</th><th scope=col>C_2</th><th scope=col>DRB1_1</th><th scope=col>DRB1_2</th><th scope=col>DQB1_1</th><th scope=col>DQB1_2</th><th scope=col>DPB1_1</th><th scope=col>DPB1_2</th><th scope=col>DPA1_1</th><th scope=col>DPA1_2</th><th scope=col>DQA1_1</th><th scope=col>DQA1_2</th></tr>\n",
       "\t<tr><th></th><th scope=col>&lt;chr&gt;</th><th scope=col>&lt;chr&gt;</th><th scope=col>&lt;chr&gt;</th><th scope=col>&lt;chr&gt;</th><th scope=col>&lt;chr&gt;</th><th scope=col>&lt;chr&gt;</th><th scope=col>&lt;chr&gt;</th><th scope=col>&lt;chr&gt;</th><th scope=col>&lt;chr&gt;</th><th scope=col>&lt;chr&gt;</th><th scope=col>&lt;chr&gt;</th><th scope=col>&lt;chr&gt;</th><th scope=col>&lt;chr&gt;</th><th scope=col>&lt;chr&gt;</th><th scope=col>&lt;chr&gt;</th><th scope=col>&lt;chr&gt;</th></tr>\n",
       "</thead>\n",
       "<tbody>\n",
       "\t<tr><th scope=row>315-05</th><td>A*02:01:01</td><td>A*02:05:01</td><td>B*35:01:01</td><td>B*49:01:01</td><td>C*04:01:01</td><td>C*07:01:01</td><td>DRB1*13:02:01</td><td>DRB1*13:04   </td><td>DQB1*03:19:01</td><td>DQB1*06:04:01</td><td>DPB1*01:01:01</td><td>DPB1*04:02:01</td><td>DPA1*01:03:01</td><td>DPA1*02:02:02</td><td>DQA1*01:02:01</td><td>DQA1*05:05:01</td></tr>\n",
       "\t<tr><th scope=row>319-05</th><td>A*01:01:01</td><td>A*03:01:01</td><td>B*07:02:01</td><td>B*51:01:01</td><td>C*07:02:01</td><td>C*14:02:01</td><td>DRB1*03:01:01</td><td>DRB1*11:01:01</td><td>DQB1*02:01:01</td><td>DQB1*03:01:01</td><td>DPB1*03:01:01</td><td>DPB1*03:01:01</td><td>DPA1*01:03:01</td><td>DPA1*01:03:01</td><td>DQA1*05:01:01</td><td>DQA1*05:09:01</td></tr>\n",
       "\t<tr><th scope=row>323-03</th><td>A*11:01:01</td><td>A*23:01:01</td><td>B*41:01:01</td><td>B*49:01:01</td><td>C*07:01:01</td><td>C*17:01:01</td><td>DRB1*01:02:01</td><td>DRB1*04:05:01</td><td>DQB1*03:02:01</td><td>DQB1*05:01:01</td><td>DPB1*04:01:01</td><td>DPB1*13:01:01</td><td>DPA1*01:03:01</td><td>DPA1*02:01:01</td><td>DQA1*01:01:02</td><td>DQA1*03:03:01</td></tr>\n",
       "\t<tr><th scope=row>329-04</th><td>A*26:01:01</td><td>A*26:01:01</td><td>B*07:02:01</td><td>B*49:01:01</td><td>C*07:01:01</td><td>C*07:02:01</td><td>DRB1*15:01:01</td><td>DRB1*16:01:01</td><td>DQB1*05:02:01</td><td>DQB1*06:02:01</td><td>DPB1*03:01:01</td><td>DPB1*04:01:01</td><td>DPA1*01:03:01</td><td>DPA1*01:03:01</td><td>DQA1*01:02:01</td><td>DQA1*01:02:02</td></tr>\n",
       "\t<tr><th scope=row>330-05</th><td>A*02:01:01</td><td>A*33:03:01</td><td>B*13:02:01</td><td>B*18:01:01</td><td>C*05:01:01</td><td>C*06:02:01</td><td>DRB1*03:01:01</td><td>DRB1*07:01:01</td><td>DQB1*02:01:01</td><td>DQB1*02:02:01</td><td>DPB1*04:01:01</td><td>DPB1*13:01:01</td><td>DPA1*01:03:01</td><td>DPA1*02:01:01</td><td>DQA1*02:01:01</td><td>DQA1*05:01:01</td></tr>\n",
       "\t<tr><th scope=row>331-04</th><td>A*02:01:01</td><td>A*26:01:01</td><td>B*35:03:01</td><td>B*38:01:01</td><td>C*04:01:01</td><td>C*12:03:01</td><td>DRB1*01:01:01</td><td>DRB1*04:02:01</td><td>DQB1*03:02:01</td><td>DQB1*05:01:01</td><td>DPB1*02:01:02</td><td>DPB1*04:02:01</td><td>DPA1*01:03:01</td><td>DPA1*01:03:01</td><td>DQA1*01:01:01</td><td>DQA1*03:01:01</td></tr>\n",
       "</tbody>\n",
       "</table>\n"
      ],
      "text/latex": [
       "A data.frame: 6 x 16\n",
       "\\begin{tabular}{r|llllllllllllllll}\n",
       "  & A\\_1 & A\\_2 & B\\_1 & B\\_2 & C\\_1 & C\\_2 & DRB1\\_1 & DRB1\\_2 & DQB1\\_1 & DQB1\\_2 & DPB1\\_1 & DPB1\\_2 & DPA1\\_1 & DPA1\\_2 & DQA1\\_1 & DQA1\\_2\\\\\n",
       "  & <chr> & <chr> & <chr> & <chr> & <chr> & <chr> & <chr> & <chr> & <chr> & <chr> & <chr> & <chr> & <chr> & <chr> & <chr> & <chr>\\\\\n",
       "\\hline\n",
       "\t315-05 & A*02:01:01 & A*02:05:01 & B*35:01:01 & B*49:01:01 & C*04:01:01 & C*07:01:01 & DRB1*13:02:01 & DRB1*13:04    & DQB1*03:19:01 & DQB1*06:04:01 & DPB1*01:01:01 & DPB1*04:02:01 & DPA1*01:03:01 & DPA1*02:02:02 & DQA1*01:02:01 & DQA1*05:05:01\\\\\n",
       "\t319-05 & A*01:01:01 & A*03:01:01 & B*07:02:01 & B*51:01:01 & C*07:02:01 & C*14:02:01 & DRB1*03:01:01 & DRB1*11:01:01 & DQB1*02:01:01 & DQB1*03:01:01 & DPB1*03:01:01 & DPB1*03:01:01 & DPA1*01:03:01 & DPA1*01:03:01 & DQA1*05:01:01 & DQA1*05:09:01\\\\\n",
       "\t323-03 & A*11:01:01 & A*23:01:01 & B*41:01:01 & B*49:01:01 & C*07:01:01 & C*17:01:01 & DRB1*01:02:01 & DRB1*04:05:01 & DQB1*03:02:01 & DQB1*05:01:01 & DPB1*04:01:01 & DPB1*13:01:01 & DPA1*01:03:01 & DPA1*02:01:01 & DQA1*01:01:02 & DQA1*03:03:01\\\\\n",
       "\t329-04 & A*26:01:01 & A*26:01:01 & B*07:02:01 & B*49:01:01 & C*07:01:01 & C*07:02:01 & DRB1*15:01:01 & DRB1*16:01:01 & DQB1*05:02:01 & DQB1*06:02:01 & DPB1*03:01:01 & DPB1*04:01:01 & DPA1*01:03:01 & DPA1*01:03:01 & DQA1*01:02:01 & DQA1*01:02:02\\\\\n",
       "\t330-05 & A*02:01:01 & A*33:03:01 & B*13:02:01 & B*18:01:01 & C*05:01:01 & C*06:02:01 & DRB1*03:01:01 & DRB1*07:01:01 & DQB1*02:01:01 & DQB1*02:02:01 & DPB1*04:01:01 & DPB1*13:01:01 & DPA1*01:03:01 & DPA1*02:01:01 & DQA1*02:01:01 & DQA1*05:01:01\\\\\n",
       "\t331-04 & A*02:01:01 & A*26:01:01 & B*35:03:01 & B*38:01:01 & C*04:01:01 & C*12:03:01 & DRB1*01:01:01 & DRB1*04:02:01 & DQB1*03:02:01 & DQB1*05:01:01 & DPB1*02:01:02 & DPB1*04:02:01 & DPA1*01:03:01 & DPA1*01:03:01 & DQA1*01:01:01 & DQA1*03:01:01\\\\\n",
       "\\end{tabular}\n"
      ],
      "text/markdown": [
       "\n",
       "A data.frame: 6 x 16\n",
       "\n",
       "| <!--/--> | A_1 &lt;chr&gt; | A_2 &lt;chr&gt; | B_1 &lt;chr&gt; | B_2 &lt;chr&gt; | C_1 &lt;chr&gt; | C_2 &lt;chr&gt; | DRB1_1 &lt;chr&gt; | DRB1_2 &lt;chr&gt; | DQB1_1 &lt;chr&gt; | DQB1_2 &lt;chr&gt; | DPB1_1 &lt;chr&gt; | DPB1_2 &lt;chr&gt; | DPA1_1 &lt;chr&gt; | DPA1_2 &lt;chr&gt; | DQA1_1 &lt;chr&gt; | DQA1_2 &lt;chr&gt; |\n",
       "|---|---|---|---|---|---|---|---|---|---|---|---|---|---|---|---|---|\n",
       "| 315-05 | A*02:01:01 | A*02:05:01 | B*35:01:01 | B*49:01:01 | C*04:01:01 | C*07:01:01 | DRB1*13:02:01 | DRB1*13:04    | DQB1*03:19:01 | DQB1*06:04:01 | DPB1*01:01:01 | DPB1*04:02:01 | DPA1*01:03:01 | DPA1*02:02:02 | DQA1*01:02:01 | DQA1*05:05:01 |\n",
       "| 319-05 | A*01:01:01 | A*03:01:01 | B*07:02:01 | B*51:01:01 | C*07:02:01 | C*14:02:01 | DRB1*03:01:01 | DRB1*11:01:01 | DQB1*02:01:01 | DQB1*03:01:01 | DPB1*03:01:01 | DPB1*03:01:01 | DPA1*01:03:01 | DPA1*01:03:01 | DQA1*05:01:01 | DQA1*05:09:01 |\n",
       "| 323-03 | A*11:01:01 | A*23:01:01 | B*41:01:01 | B*49:01:01 | C*07:01:01 | C*17:01:01 | DRB1*01:02:01 | DRB1*04:05:01 | DQB1*03:02:01 | DQB1*05:01:01 | DPB1*04:01:01 | DPB1*13:01:01 | DPA1*01:03:01 | DPA1*02:01:01 | DQA1*01:01:02 | DQA1*03:03:01 |\n",
       "| 329-04 | A*26:01:01 | A*26:01:01 | B*07:02:01 | B*49:01:01 | C*07:01:01 | C*07:02:01 | DRB1*15:01:01 | DRB1*16:01:01 | DQB1*05:02:01 | DQB1*06:02:01 | DPB1*03:01:01 | DPB1*04:01:01 | DPA1*01:03:01 | DPA1*01:03:01 | DQA1*01:02:01 | DQA1*01:02:02 |\n",
       "| 330-05 | A*02:01:01 | A*33:03:01 | B*13:02:01 | B*18:01:01 | C*05:01:01 | C*06:02:01 | DRB1*03:01:01 | DRB1*07:01:01 | DQB1*02:01:01 | DQB1*02:02:01 | DPB1*04:01:01 | DPB1*13:01:01 | DPA1*01:03:01 | DPA1*02:01:01 | DQA1*02:01:01 | DQA1*05:01:01 |\n",
       "| 331-04 | A*02:01:01 | A*26:01:01 | B*35:03:01 | B*38:01:01 | C*04:01:01 | C*12:03:01 | DRB1*01:01:01 | DRB1*04:02:01 | DQB1*03:02:01 | DQB1*05:01:01 | DPB1*02:01:02 | DPB1*04:02:01 | DPA1*01:03:01 | DPA1*01:03:01 | DQA1*01:01:01 | DQA1*03:01:01 |\n",
       "\n"
      ],
      "text/plain": [
       "       A_1        A_2        B_1        B_2        C_1        C_2       \n",
       "315-05 A*02:01:01 A*02:05:01 B*35:01:01 B*49:01:01 C*04:01:01 C*07:01:01\n",
       "319-05 A*01:01:01 A*03:01:01 B*07:02:01 B*51:01:01 C*07:02:01 C*14:02:01\n",
       "323-03 A*11:01:01 A*23:01:01 B*41:01:01 B*49:01:01 C*07:01:01 C*17:01:01\n",
       "329-04 A*26:01:01 A*26:01:01 B*07:02:01 B*49:01:01 C*07:01:01 C*07:02:01\n",
       "330-05 A*02:01:01 A*33:03:01 B*13:02:01 B*18:01:01 C*05:01:01 C*06:02:01\n",
       "331-04 A*02:01:01 A*26:01:01 B*35:03:01 B*38:01:01 C*04:01:01 C*12:03:01\n",
       "       DRB1_1        DRB1_2        DQB1_1        DQB1_2        DPB1_1       \n",
       "315-05 DRB1*13:02:01 DRB1*13:04    DQB1*03:19:01 DQB1*06:04:01 DPB1*01:01:01\n",
       "319-05 DRB1*03:01:01 DRB1*11:01:01 DQB1*02:01:01 DQB1*03:01:01 DPB1*03:01:01\n",
       "323-03 DRB1*01:02:01 DRB1*04:05:01 DQB1*03:02:01 DQB1*05:01:01 DPB1*04:01:01\n",
       "329-04 DRB1*15:01:01 DRB1*16:01:01 DQB1*05:02:01 DQB1*06:02:01 DPB1*03:01:01\n",
       "330-05 DRB1*03:01:01 DRB1*07:01:01 DQB1*02:01:01 DQB1*02:02:01 DPB1*04:01:01\n",
       "331-04 DRB1*01:01:01 DRB1*04:02:01 DQB1*03:02:01 DQB1*05:01:01 DPB1*02:01:02\n",
       "       DPB1_2        DPA1_1        DPA1_2        DQA1_1        DQA1_2       \n",
       "315-05 DPB1*04:02:01 DPA1*01:03:01 DPA1*02:02:02 DQA1*01:02:01 DQA1*05:05:01\n",
       "319-05 DPB1*03:01:01 DPA1*01:03:01 DPA1*01:03:01 DQA1*05:01:01 DQA1*05:09:01\n",
       "323-03 DPB1*13:01:01 DPA1*01:03:01 DPA1*02:01:01 DQA1*01:01:02 DQA1*03:03:01\n",
       "329-04 DPB1*04:01:01 DPA1*01:03:01 DPA1*01:03:01 DQA1*01:02:01 DQA1*01:02:02\n",
       "330-05 DPB1*13:01:01 DPA1*01:03:01 DPA1*02:01:01 DQA1*02:01:01 DQA1*05:01:01\n",
       "331-04 DPB1*04:02:01 DPA1*01:03:01 DPA1*01:03:01 DQA1*01:01:01 DQA1*03:01:01"
      ]
     },
     "metadata": {},
     "output_type": "display_data"
    }
   ],
   "source": [
    "head(int_hla)"
   ]
  },
  {
   "cell_type": "code",
   "execution_count": 324,
   "metadata": {
    "vscode": {
     "languageId": "r"
    }
   },
   "outputs": [],
   "source": [
    "int_hlaII <- int_hla[, c(\"DRB1_1\", \"DRB1_2\", \"DQB1_1\", \"DQB1_2\", \"DPB1_1\", \"DPB1_2\", \"DPA1_1\", \"DPA1_2\", \"DQA1_1\", \"DQA1_2\" )]"
   ]
  },
  {
   "cell_type": "code",
   "execution_count": 325,
   "metadata": {
    "vscode": {
     "languageId": "r"
    }
   },
   "outputs": [],
   "source": [
    "# remove last three characters\n",
    "int_hlaII <- gsub(\"...$\", \"\", as.matrix(int_hlaII)) \n",
    "int_hlaII <- gsub(\":\", \"\", as.matrix(int_hlaII)) "
   ]
  },
  {
   "cell_type": "code",
   "execution_count": 326,
   "metadata": {
    "vscode": {
     "languageId": "r"
    }
   },
   "outputs": [
    {
     "data": {
      "text/html": [
       "<table class=\"dataframe\">\n",
       "<caption>A matrix: 6 x 10 of type chr</caption>\n",
       "<thead>\n",
       "\t<tr><th></th><th scope=col>DRB1_1</th><th scope=col>DRB1_2</th><th scope=col>DQB1_1</th><th scope=col>DQB1_2</th><th scope=col>DPB1_1</th><th scope=col>DPB1_2</th><th scope=col>DPA1_1</th><th scope=col>DPA1_2</th><th scope=col>DQA1_1</th><th scope=col>DQA1_2</th></tr>\n",
       "</thead>\n",
       "<tbody>\n",
       "\t<tr><th scope=row>315-05</th><td>DRB1*1302</td><td>DRB1*13  </td><td>DQB1*0319</td><td>DQB1*0604</td><td>DPB1*0101</td><td>DPB1*0402</td><td>DPA1*0103</td><td>DPA1*0202</td><td>DQA1*0102</td><td>DQA1*0505</td></tr>\n",
       "\t<tr><th scope=row>319-05</th><td>DRB1*0301</td><td>DRB1*1101</td><td>DQB1*0201</td><td>DQB1*0301</td><td>DPB1*0301</td><td>DPB1*0301</td><td>DPA1*0103</td><td>DPA1*0103</td><td>DQA1*0501</td><td>DQA1*0509</td></tr>\n",
       "\t<tr><th scope=row>323-03</th><td>DRB1*0102</td><td>DRB1*0405</td><td>DQB1*0302</td><td>DQB1*0501</td><td>DPB1*0401</td><td>DPB1*1301</td><td>DPA1*0103</td><td>DPA1*0201</td><td>DQA1*0101</td><td>DQA1*0303</td></tr>\n",
       "\t<tr><th scope=row>329-04</th><td>DRB1*1501</td><td>DRB1*1601</td><td>DQB1*0502</td><td>DQB1*0602</td><td>DPB1*0301</td><td>DPB1*0401</td><td>DPA1*0103</td><td>DPA1*0103</td><td>DQA1*0102</td><td>DQA1*0102</td></tr>\n",
       "\t<tr><th scope=row>330-05</th><td>DRB1*0301</td><td>DRB1*0701</td><td>DQB1*0201</td><td>DQB1*0202</td><td>DPB1*0401</td><td>DPB1*1301</td><td>DPA1*0103</td><td>DPA1*0201</td><td>DQA1*0201</td><td>DQA1*0501</td></tr>\n",
       "\t<tr><th scope=row>331-04</th><td>DRB1*0101</td><td>DRB1*0402</td><td>DQB1*0302</td><td>DQB1*0501</td><td>DPB1*0201</td><td>DPB1*0402</td><td>DPA1*0103</td><td>DPA1*0103</td><td>DQA1*0101</td><td>DQA1*0301</td></tr>\n",
       "</tbody>\n",
       "</table>\n"
      ],
      "text/latex": [
       "A matrix: 6 x 10 of type chr\n",
       "\\begin{tabular}{r|llllllllll}\n",
       "  & DRB1\\_1 & DRB1\\_2 & DQB1\\_1 & DQB1\\_2 & DPB1\\_1 & DPB1\\_2 & DPA1\\_1 & DPA1\\_2 & DQA1\\_1 & DQA1\\_2\\\\\n",
       "\\hline\n",
       "\t315-05 & DRB1*1302 & DRB1*13   & DQB1*0319 & DQB1*0604 & DPB1*0101 & DPB1*0402 & DPA1*0103 & DPA1*0202 & DQA1*0102 & DQA1*0505\\\\\n",
       "\t319-05 & DRB1*0301 & DRB1*1101 & DQB1*0201 & DQB1*0301 & DPB1*0301 & DPB1*0301 & DPA1*0103 & DPA1*0103 & DQA1*0501 & DQA1*0509\\\\\n",
       "\t323-03 & DRB1*0102 & DRB1*0405 & DQB1*0302 & DQB1*0501 & DPB1*0401 & DPB1*1301 & DPA1*0103 & DPA1*0201 & DQA1*0101 & DQA1*0303\\\\\n",
       "\t329-04 & DRB1*1501 & DRB1*1601 & DQB1*0502 & DQB1*0602 & DPB1*0301 & DPB1*0401 & DPA1*0103 & DPA1*0103 & DQA1*0102 & DQA1*0102\\\\\n",
       "\t330-05 & DRB1*0301 & DRB1*0701 & DQB1*0201 & DQB1*0202 & DPB1*0401 & DPB1*1301 & DPA1*0103 & DPA1*0201 & DQA1*0201 & DQA1*0501\\\\\n",
       "\t331-04 & DRB1*0101 & DRB1*0402 & DQB1*0302 & DQB1*0501 & DPB1*0201 & DPB1*0402 & DPA1*0103 & DPA1*0103 & DQA1*0101 & DQA1*0301\\\\\n",
       "\\end{tabular}\n"
      ],
      "text/markdown": [
       "\n",
       "A matrix: 6 x 10 of type chr\n",
       "\n",
       "| <!--/--> | DRB1_1 | DRB1_2 | DQB1_1 | DQB1_2 | DPB1_1 | DPB1_2 | DPA1_1 | DPA1_2 | DQA1_1 | DQA1_2 |\n",
       "|---|---|---|---|---|---|---|---|---|---|---|\n",
       "| 315-05 | DRB1*1302 | DRB1*13   | DQB1*0319 | DQB1*0604 | DPB1*0101 | DPB1*0402 | DPA1*0103 | DPA1*0202 | DQA1*0102 | DQA1*0505 |\n",
       "| 319-05 | DRB1*0301 | DRB1*1101 | DQB1*0201 | DQB1*0301 | DPB1*0301 | DPB1*0301 | DPA1*0103 | DPA1*0103 | DQA1*0501 | DQA1*0509 |\n",
       "| 323-03 | DRB1*0102 | DRB1*0405 | DQB1*0302 | DQB1*0501 | DPB1*0401 | DPB1*1301 | DPA1*0103 | DPA1*0201 | DQA1*0101 | DQA1*0303 |\n",
       "| 329-04 | DRB1*1501 | DRB1*1601 | DQB1*0502 | DQB1*0602 | DPB1*0301 | DPB1*0401 | DPA1*0103 | DPA1*0103 | DQA1*0102 | DQA1*0102 |\n",
       "| 330-05 | DRB1*0301 | DRB1*0701 | DQB1*0201 | DQB1*0202 | DPB1*0401 | DPB1*1301 | DPA1*0103 | DPA1*0201 | DQA1*0201 | DQA1*0501 |\n",
       "| 331-04 | DRB1*0101 | DRB1*0402 | DQB1*0302 | DQB1*0501 | DPB1*0201 | DPB1*0402 | DPA1*0103 | DPA1*0103 | DQA1*0101 | DQA1*0301 |\n",
       "\n"
      ],
      "text/plain": [
       "       DRB1_1    DRB1_2    DQB1_1    DQB1_2    DPB1_1    DPB1_2    DPA1_1   \n",
       "315-05 DRB1*1302 DRB1*13   DQB1*0319 DQB1*0604 DPB1*0101 DPB1*0402 DPA1*0103\n",
       "319-05 DRB1*0301 DRB1*1101 DQB1*0201 DQB1*0301 DPB1*0301 DPB1*0301 DPA1*0103\n",
       "323-03 DRB1*0102 DRB1*0405 DQB1*0302 DQB1*0501 DPB1*0401 DPB1*1301 DPA1*0103\n",
       "329-04 DRB1*1501 DRB1*1601 DQB1*0502 DQB1*0602 DPB1*0301 DPB1*0401 DPA1*0103\n",
       "330-05 DRB1*0301 DRB1*0701 DQB1*0201 DQB1*0202 DPB1*0401 DPB1*1301 DPA1*0103\n",
       "331-04 DRB1*0101 DRB1*0402 DQB1*0302 DQB1*0501 DPB1*0201 DPB1*0402 DPA1*0103\n",
       "       DPA1_2    DQA1_1    DQA1_2   \n",
       "315-05 DPA1*0202 DQA1*0102 DQA1*0505\n",
       "319-05 DPA1*0103 DQA1*0501 DQA1*0509\n",
       "323-03 DPA1*0201 DQA1*0101 DQA1*0303\n",
       "329-04 DPA1*0103 DQA1*0102 DQA1*0102\n",
       "330-05 DPA1*0201 DQA1*0201 DQA1*0501\n",
       "331-04 DPA1*0103 DQA1*0101 DQA1*0301"
      ]
     },
     "metadata": {},
     "output_type": "display_data"
    }
   ],
   "source": [
    "head(int_hlaII)"
   ]
  },
  {
   "cell_type": "code",
   "execution_count": 327,
   "metadata": {
    "vscode": {
     "languageId": "r"
    }
   },
   "outputs": [],
   "source": [
    "hlaiis <- list.files(paste0(datapath, \"/HLA/classII_binding_data_Nov_16_2009/class_II_similarity_reduced_5cv_sep/\"), pattern = \"train\", full.names = T)"
   ]
  },
  {
   "cell_type": "code",
   "execution_count": 328,
   "metadata": {
    "vscode": {
     "languageId": "r"
    }
   },
   "outputs": [],
   "source": [
    "hlaiis <- hlaiis[ !grepl(\"H-2\", hlaiis)]"
   ]
  },
  {
   "cell_type": "code",
   "execution_count": 329,
   "metadata": {
    "vscode": {
     "languageId": "r"
    }
   },
   "outputs": [],
   "source": [
    "hlaiifiles <- lapply(hlaiis, function(x) {\n",
    "  read.table(x, header = FALSE, sep = \"\\t\", stringsAsFactors = FALSE, check.names = F)\n",
    "})"
   ]
  },
  {
   "cell_type": "code",
   "execution_count": 330,
   "metadata": {
    "vscode": {
     "languageId": "r"
    }
   },
   "outputs": [],
   "source": [
    "allhlaii <- do.call(rbind, hlaiifiles)"
   ]
  },
  {
   "cell_type": "code",
   "execution_count": 331,
   "metadata": {
    "vscode": {
     "languageId": "r"
    }
   },
   "outputs": [],
   "source": [
    "colnames(allhlaii) <- c(\"species\",\"mhc\",\"peptide_length\", \"TBD\", \"sequence\",\"inequality\",\"meas\")"
   ]
  },
  {
   "cell_type": "code",
   "execution_count": 332,
   "metadata": {
    "vscode": {
     "languageId": "r"
    }
   },
   "outputs": [],
   "source": [
    "meanval <- vector()\n",
    "for( i in unique(allhlaii$mhc)){\n",
    "  tmp <- allhlaii[ allhlaii$mhc == i,]\n",
    "  meanval <- c(meanval, mean(tmp$meas))\n",
    "}\n",
    "names(meanval) <- unique(allhlaii$mhc)"
   ]
  },
  {
   "cell_type": "code",
   "execution_count": 333,
   "metadata": {
    "vscode": {
     "languageId": "r"
    }
   },
   "outputs": [
    {
     "data": {
      "text/html": [
       "<style>\n",
       ".dl-inline {width: auto; margin:0; padding: 0}\n",
       ".dl-inline>dt, .dl-inline>dd {float: none; width: auto; display: inline-block}\n",
       ".dl-inline>dt::after {content: \":\\0020\"; padding-right: .5ex}\n",
       ".dl-inline>dt:not(:first-of-type) {padding-left: .5ex}\n",
       "</style><dl class=dl-inline><dt>HLA-DPA1*01/DPB1*0401</dt><dd>13394.9059681651</dd><dt>HLA-DPA1*0103/DPB1*0201</dt><dd>8919.10531925427</dd><dt>HLA-DPA1*0201/DPB1*0101</dt><dd>7288.16202605773</dd><dt>HLA-DPA1*0201/DPB1*0501</dt><dd>13794.2656478825</dd><dt>HLA-DPA1*0301/DPB1*0402</dt><dd>9221.003735093</dd><dt>HLA-DPB1*0301/DPB1*0401</dt><dd>14645.5856863433</dd></dl>\n"
      ],
      "text/latex": [
       "\\begin{description*}\n",
       "\\item[HLA-DPA1*01/DPB1*0401] 13394.9059681651\n",
       "\\item[HLA-DPA1*0103/DPB1*0201] 8919.10531925427\n",
       "\\item[HLA-DPA1*0201/DPB1*0101] 7288.16202605773\n",
       "\\item[HLA-DPA1*0201/DPB1*0501] 13794.2656478825\n",
       "\\item[HLA-DPA1*0301/DPB1*0402] 9221.003735093\n",
       "\\item[HLA-DPB1*0301/DPB1*0401] 14645.5856863433\n",
       "\\end{description*}\n"
      ],
      "text/markdown": [
       "HLA-DPA1*01/DPB1*0401\n",
       ":   13394.9059681651HLA-DPA1*0103/DPB1*0201\n",
       ":   8919.10531925427HLA-DPA1*0201/DPB1*0101\n",
       ":   7288.16202605773HLA-DPA1*0201/DPB1*0501\n",
       ":   13794.2656478825HLA-DPA1*0301/DPB1*0402\n",
       ":   9221.003735093HLA-DPB1*0301/DPB1*0401\n",
       ":   14645.5856863433\n",
       "\n"
      ],
      "text/plain": [
       "  HLA-DPA1*01/DPB1*0401 HLA-DPA1*0103/DPB1*0201 HLA-DPA1*0201/DPB1*0101 \n",
       "              13394.906                8919.105                7288.162 \n",
       "HLA-DPA1*0201/DPB1*0501 HLA-DPA1*0301/DPB1*0402 HLA-DPB1*0301/DPB1*0401 \n",
       "              13794.266                9221.004               14645.586 "
      ]
     },
     "metadata": {},
     "output_type": "display_data"
    }
   ],
   "source": [
    "head(meanval)"
   ]
  },
  {
   "cell_type": "code",
   "execution_count": 334,
   "metadata": {
    "vscode": {
     "languageId": "r"
    }
   },
   "outputs": [],
   "source": [
    "# minval <- readr::read_rds(paste0(h4hpath, \"analysis/HLA/minval.rds\") )"
   ]
  },
  {
   "cell_type": "code",
   "execution_count": 335,
   "metadata": {
    "vscode": {
     "languageId": "r"
    }
   },
   "outputs": [],
   "source": [
    "names(meanval) <- gsub(\"HLA-\", \"\", names(meanval))"
   ]
  },
  {
   "cell_type": "code",
   "execution_count": 336,
   "metadata": {
    "vscode": {
     "languageId": "r"
    }
   },
   "outputs": [],
   "source": [
    "int_hlaII_meanval <- matrix(NA, nrow = nrow(int_hlaII), ncol = 10, dimnames = list(rownames(int_hlaII), \n",
    "c(\"DRB1_1\", \"DRB1_2\", \"DQ1\", \"DQ2\", \"DQ3\", \"DQ4\", \"DP1\", \"DP2\", \"DP3\", \"DP4\")))"
   ]
  },
  {
   "cell_type": "code",
   "execution_count": 337,
   "metadata": {
    "vscode": {
     "languageId": "r"
    }
   },
   "outputs": [],
   "source": [
    "int_hlaII_meanval[, c(\"DRB1_1\", \"DRB1_2\")] <- int_hlaII[,c(\"DRB1_1\", \"DRB1_2\")]"
   ]
  },
  {
   "cell_type": "code",
   "execution_count": 338,
   "metadata": {
    "vscode": {
     "languageId": "r"
    }
   },
   "outputs": [
    {
     "data": {
      "text/html": [
       "<table class=\"dataframe\">\n",
       "<caption>A matrix: 6 x 10 of type chr</caption>\n",
       "<thead>\n",
       "\t<tr><th></th><th scope=col>DRB1_1</th><th scope=col>DRB1_2</th><th scope=col>DQ1</th><th scope=col>DQ2</th><th scope=col>DQ3</th><th scope=col>DQ4</th><th scope=col>DP1</th><th scope=col>DP2</th><th scope=col>DP3</th><th scope=col>DP4</th></tr>\n",
       "</thead>\n",
       "<tbody>\n",
       "\t<tr><th scope=row>315-05</th><td>DRB1*1302</td><td>DRB1*13  </td><td>NA</td><td>NA</td><td>NA</td><td>NA</td><td>NA</td><td>NA</td><td>NA</td><td>NA</td></tr>\n",
       "\t<tr><th scope=row>319-05</th><td>DRB1*0301</td><td>DRB1*1101</td><td>NA</td><td>NA</td><td>NA</td><td>NA</td><td>NA</td><td>NA</td><td>NA</td><td>NA</td></tr>\n",
       "\t<tr><th scope=row>323-03</th><td>DRB1*0102</td><td>DRB1*0405</td><td>NA</td><td>NA</td><td>NA</td><td>NA</td><td>NA</td><td>NA</td><td>NA</td><td>NA</td></tr>\n",
       "\t<tr><th scope=row>329-04</th><td>DRB1*1501</td><td>DRB1*1601</td><td>NA</td><td>NA</td><td>NA</td><td>NA</td><td>NA</td><td>NA</td><td>NA</td><td>NA</td></tr>\n",
       "\t<tr><th scope=row>330-05</th><td>DRB1*0301</td><td>DRB1*0701</td><td>NA</td><td>NA</td><td>NA</td><td>NA</td><td>NA</td><td>NA</td><td>NA</td><td>NA</td></tr>\n",
       "\t<tr><th scope=row>331-04</th><td>DRB1*0101</td><td>DRB1*0402</td><td>NA</td><td>NA</td><td>NA</td><td>NA</td><td>NA</td><td>NA</td><td>NA</td><td>NA</td></tr>\n",
       "</tbody>\n",
       "</table>\n"
      ],
      "text/latex": [
       "A matrix: 6 x 10 of type chr\n",
       "\\begin{tabular}{r|llllllllll}\n",
       "  & DRB1\\_1 & DRB1\\_2 & DQ1 & DQ2 & DQ3 & DQ4 & DP1 & DP2 & DP3 & DP4\\\\\n",
       "\\hline\n",
       "\t315-05 & DRB1*1302 & DRB1*13   & NA & NA & NA & NA & NA & NA & NA & NA\\\\\n",
       "\t319-05 & DRB1*0301 & DRB1*1101 & NA & NA & NA & NA & NA & NA & NA & NA\\\\\n",
       "\t323-03 & DRB1*0102 & DRB1*0405 & NA & NA & NA & NA & NA & NA & NA & NA\\\\\n",
       "\t329-04 & DRB1*1501 & DRB1*1601 & NA & NA & NA & NA & NA & NA & NA & NA\\\\\n",
       "\t330-05 & DRB1*0301 & DRB1*0701 & NA & NA & NA & NA & NA & NA & NA & NA\\\\\n",
       "\t331-04 & DRB1*0101 & DRB1*0402 & NA & NA & NA & NA & NA & NA & NA & NA\\\\\n",
       "\\end{tabular}\n"
      ],
      "text/markdown": [
       "\n",
       "A matrix: 6 x 10 of type chr\n",
       "\n",
       "| <!--/--> | DRB1_1 | DRB1_2 | DQ1 | DQ2 | DQ3 | DQ4 | DP1 | DP2 | DP3 | DP4 |\n",
       "|---|---|---|---|---|---|---|---|---|---|---|\n",
       "| 315-05 | DRB1*1302 | DRB1*13   | NA | NA | NA | NA | NA | NA | NA | NA |\n",
       "| 319-05 | DRB1*0301 | DRB1*1101 | NA | NA | NA | NA | NA | NA | NA | NA |\n",
       "| 323-03 | DRB1*0102 | DRB1*0405 | NA | NA | NA | NA | NA | NA | NA | NA |\n",
       "| 329-04 | DRB1*1501 | DRB1*1601 | NA | NA | NA | NA | NA | NA | NA | NA |\n",
       "| 330-05 | DRB1*0301 | DRB1*0701 | NA | NA | NA | NA | NA | NA | NA | NA |\n",
       "| 331-04 | DRB1*0101 | DRB1*0402 | NA | NA | NA | NA | NA | NA | NA | NA |\n",
       "\n"
      ],
      "text/plain": [
       "       DRB1_1    DRB1_2    DQ1 DQ2 DQ3 DQ4 DP1 DP2 DP3 DP4\n",
       "315-05 DRB1*1302 DRB1*13   NA  NA  NA  NA  NA  NA  NA  NA \n",
       "319-05 DRB1*0301 DRB1*1101 NA  NA  NA  NA  NA  NA  NA  NA \n",
       "323-03 DRB1*0102 DRB1*0405 NA  NA  NA  NA  NA  NA  NA  NA \n",
       "329-04 DRB1*1501 DRB1*1601 NA  NA  NA  NA  NA  NA  NA  NA \n",
       "330-05 DRB1*0301 DRB1*0701 NA  NA  NA  NA  NA  NA  NA  NA \n",
       "331-04 DRB1*0101 DRB1*0402 NA  NA  NA  NA  NA  NA  NA  NA "
      ]
     },
     "metadata": {},
     "output_type": "display_data"
    }
   ],
   "source": [
    "head(int_hlaII_meanval)"
   ]
  },
  {
   "cell_type": "code",
   "execution_count": 339,
   "metadata": {
    "vscode": {
     "languageId": "r"
    }
   },
   "outputs": [],
   "source": [
    "for( i in 1:nrow(int_hlaII)){\n",
    "  tmp <- expand.grid(int_hlaII[i , c(\"DQA1_1\", \"DQA1_2\")], int_hlaII[i, c(\"DQB1_1\", \"DQB1_2\")], stringsAsFactors = FALSE)\n",
    "  tmp$V1 <- paste(tmp$Var1, tmp$Var2, sep = \"/\")\n",
    "  int_hlaII_meanval[i, c(\"DQ1\", \"DQ2\", \"DQ3\", \"DQ4\")] <- tmp$V1\n",
    "  \n",
    "  tmp <- expand.grid(int_hlaII[i , c(\"DPA1_1\", \"DPA1_2\")], int_hlaII[i, c(\"DPB1_1\", \"DPB1_2\")], stringsAsFactors = FALSE)\n",
    "  tmp$V1 <- paste(tmp$Var1, tmp$Var2, sep = \"/\")\n",
    "  int_hlaII_meanval[i, c(\"DP1\", \"DP2\", \"DP3\", \"DP4\")] <- tmp$V1\n",
    "}"
   ]
  },
  {
   "cell_type": "code",
   "execution_count": 340,
   "metadata": {
    "vscode": {
     "languageId": "r"
    }
   },
   "outputs": [],
   "source": [
    "int_hlaII_meanval_names <- int_hlaII_meanval"
   ]
  },
  {
   "cell_type": "code",
   "execution_count": 341,
   "metadata": {
    "vscode": {
     "languageId": "r"
    }
   },
   "outputs": [
    {
     "data": {
      "text/html": [
       "<table class=\"dataframe\">\n",
       "<caption>A matrix: 6 x 10 of type chr</caption>\n",
       "<thead>\n",
       "\t<tr><th></th><th scope=col>DRB1_1</th><th scope=col>DRB1_2</th><th scope=col>DQ1</th><th scope=col>DQ2</th><th scope=col>DQ3</th><th scope=col>DQ4</th><th scope=col>DP1</th><th scope=col>DP2</th><th scope=col>DP3</th><th scope=col>DP4</th></tr>\n",
       "</thead>\n",
       "<tbody>\n",
       "\t<tr><th scope=row>315-05</th><td>DRB1*1302</td><td>DRB1*13  </td><td>DQA1*0102/DQB1*0319</td><td>DQA1*0505/DQB1*0319</td><td>DQA1*0102/DQB1*0604</td><td>DQA1*0505/DQB1*0604</td><td>DPA1*0103/DPB1*0101</td><td>DPA1*0202/DPB1*0101</td><td>DPA1*0103/DPB1*0402</td><td>DPA1*0202/DPB1*0402</td></tr>\n",
       "\t<tr><th scope=row>319-05</th><td>DRB1*0301</td><td>DRB1*1101</td><td>DQA1*0501/DQB1*0201</td><td>DQA1*0509/DQB1*0201</td><td>DQA1*0501/DQB1*0301</td><td>DQA1*0509/DQB1*0301</td><td>DPA1*0103/DPB1*0301</td><td>DPA1*0103/DPB1*0301</td><td>DPA1*0103/DPB1*0301</td><td>DPA1*0103/DPB1*0301</td></tr>\n",
       "\t<tr><th scope=row>323-03</th><td>DRB1*0102</td><td>DRB1*0405</td><td>DQA1*0101/DQB1*0302</td><td>DQA1*0303/DQB1*0302</td><td>DQA1*0101/DQB1*0501</td><td>DQA1*0303/DQB1*0501</td><td>DPA1*0103/DPB1*0401</td><td>DPA1*0201/DPB1*0401</td><td>DPA1*0103/DPB1*1301</td><td>DPA1*0201/DPB1*1301</td></tr>\n",
       "\t<tr><th scope=row>329-04</th><td>DRB1*1501</td><td>DRB1*1601</td><td>DQA1*0102/DQB1*0502</td><td>DQA1*0102/DQB1*0502</td><td>DQA1*0102/DQB1*0602</td><td>DQA1*0102/DQB1*0602</td><td>DPA1*0103/DPB1*0301</td><td>DPA1*0103/DPB1*0301</td><td>DPA1*0103/DPB1*0401</td><td>DPA1*0103/DPB1*0401</td></tr>\n",
       "\t<tr><th scope=row>330-05</th><td>DRB1*0301</td><td>DRB1*0701</td><td>DQA1*0201/DQB1*0201</td><td>DQA1*0501/DQB1*0201</td><td>DQA1*0201/DQB1*0202</td><td>DQA1*0501/DQB1*0202</td><td>DPA1*0103/DPB1*0401</td><td>DPA1*0201/DPB1*0401</td><td>DPA1*0103/DPB1*1301</td><td>DPA1*0201/DPB1*1301</td></tr>\n",
       "\t<tr><th scope=row>331-04</th><td>DRB1*0101</td><td>DRB1*0402</td><td>DQA1*0101/DQB1*0302</td><td>DQA1*0301/DQB1*0302</td><td>DQA1*0101/DQB1*0501</td><td>DQA1*0301/DQB1*0501</td><td>DPA1*0103/DPB1*0201</td><td>DPA1*0103/DPB1*0201</td><td>DPA1*0103/DPB1*0402</td><td>DPA1*0103/DPB1*0402</td></tr>\n",
       "</tbody>\n",
       "</table>\n"
      ],
      "text/latex": [
       "A matrix: 6 x 10 of type chr\n",
       "\\begin{tabular}{r|llllllllll}\n",
       "  & DRB1\\_1 & DRB1\\_2 & DQ1 & DQ2 & DQ3 & DQ4 & DP1 & DP2 & DP3 & DP4\\\\\n",
       "\\hline\n",
       "\t315-05 & DRB1*1302 & DRB1*13   & DQA1*0102/DQB1*0319 & DQA1*0505/DQB1*0319 & DQA1*0102/DQB1*0604 & DQA1*0505/DQB1*0604 & DPA1*0103/DPB1*0101 & DPA1*0202/DPB1*0101 & DPA1*0103/DPB1*0402 & DPA1*0202/DPB1*0402\\\\\n",
       "\t319-05 & DRB1*0301 & DRB1*1101 & DQA1*0501/DQB1*0201 & DQA1*0509/DQB1*0201 & DQA1*0501/DQB1*0301 & DQA1*0509/DQB1*0301 & DPA1*0103/DPB1*0301 & DPA1*0103/DPB1*0301 & DPA1*0103/DPB1*0301 & DPA1*0103/DPB1*0301\\\\\n",
       "\t323-03 & DRB1*0102 & DRB1*0405 & DQA1*0101/DQB1*0302 & DQA1*0303/DQB1*0302 & DQA1*0101/DQB1*0501 & DQA1*0303/DQB1*0501 & DPA1*0103/DPB1*0401 & DPA1*0201/DPB1*0401 & DPA1*0103/DPB1*1301 & DPA1*0201/DPB1*1301\\\\\n",
       "\t329-04 & DRB1*1501 & DRB1*1601 & DQA1*0102/DQB1*0502 & DQA1*0102/DQB1*0502 & DQA1*0102/DQB1*0602 & DQA1*0102/DQB1*0602 & DPA1*0103/DPB1*0301 & DPA1*0103/DPB1*0301 & DPA1*0103/DPB1*0401 & DPA1*0103/DPB1*0401\\\\\n",
       "\t330-05 & DRB1*0301 & DRB1*0701 & DQA1*0201/DQB1*0201 & DQA1*0501/DQB1*0201 & DQA1*0201/DQB1*0202 & DQA1*0501/DQB1*0202 & DPA1*0103/DPB1*0401 & DPA1*0201/DPB1*0401 & DPA1*0103/DPB1*1301 & DPA1*0201/DPB1*1301\\\\\n",
       "\t331-04 & DRB1*0101 & DRB1*0402 & DQA1*0101/DQB1*0302 & DQA1*0301/DQB1*0302 & DQA1*0101/DQB1*0501 & DQA1*0301/DQB1*0501 & DPA1*0103/DPB1*0201 & DPA1*0103/DPB1*0201 & DPA1*0103/DPB1*0402 & DPA1*0103/DPB1*0402\\\\\n",
       "\\end{tabular}\n"
      ],
      "text/markdown": [
       "\n",
       "A matrix: 6 x 10 of type chr\n",
       "\n",
       "| <!--/--> | DRB1_1 | DRB1_2 | DQ1 | DQ2 | DQ3 | DQ4 | DP1 | DP2 | DP3 | DP4 |\n",
       "|---|---|---|---|---|---|---|---|---|---|---|\n",
       "| 315-05 | DRB1*1302 | DRB1*13   | DQA1*0102/DQB1*0319 | DQA1*0505/DQB1*0319 | DQA1*0102/DQB1*0604 | DQA1*0505/DQB1*0604 | DPA1*0103/DPB1*0101 | DPA1*0202/DPB1*0101 | DPA1*0103/DPB1*0402 | DPA1*0202/DPB1*0402 |\n",
       "| 319-05 | DRB1*0301 | DRB1*1101 | DQA1*0501/DQB1*0201 | DQA1*0509/DQB1*0201 | DQA1*0501/DQB1*0301 | DQA1*0509/DQB1*0301 | DPA1*0103/DPB1*0301 | DPA1*0103/DPB1*0301 | DPA1*0103/DPB1*0301 | DPA1*0103/DPB1*0301 |\n",
       "| 323-03 | DRB1*0102 | DRB1*0405 | DQA1*0101/DQB1*0302 | DQA1*0303/DQB1*0302 | DQA1*0101/DQB1*0501 | DQA1*0303/DQB1*0501 | DPA1*0103/DPB1*0401 | DPA1*0201/DPB1*0401 | DPA1*0103/DPB1*1301 | DPA1*0201/DPB1*1301 |\n",
       "| 329-04 | DRB1*1501 | DRB1*1601 | DQA1*0102/DQB1*0502 | DQA1*0102/DQB1*0502 | DQA1*0102/DQB1*0602 | DQA1*0102/DQB1*0602 | DPA1*0103/DPB1*0301 | DPA1*0103/DPB1*0301 | DPA1*0103/DPB1*0401 | DPA1*0103/DPB1*0401 |\n",
       "| 330-05 | DRB1*0301 | DRB1*0701 | DQA1*0201/DQB1*0201 | DQA1*0501/DQB1*0201 | DQA1*0201/DQB1*0202 | DQA1*0501/DQB1*0202 | DPA1*0103/DPB1*0401 | DPA1*0201/DPB1*0401 | DPA1*0103/DPB1*1301 | DPA1*0201/DPB1*1301 |\n",
       "| 331-04 | DRB1*0101 | DRB1*0402 | DQA1*0101/DQB1*0302 | DQA1*0301/DQB1*0302 | DQA1*0101/DQB1*0501 | DQA1*0301/DQB1*0501 | DPA1*0103/DPB1*0201 | DPA1*0103/DPB1*0201 | DPA1*0103/DPB1*0402 | DPA1*0103/DPB1*0402 |\n",
       "\n"
      ],
      "text/plain": [
       "       DRB1_1    DRB1_2    DQ1                 DQ2                \n",
       "315-05 DRB1*1302 DRB1*13   DQA1*0102/DQB1*0319 DQA1*0505/DQB1*0319\n",
       "319-05 DRB1*0301 DRB1*1101 DQA1*0501/DQB1*0201 DQA1*0509/DQB1*0201\n",
       "323-03 DRB1*0102 DRB1*0405 DQA1*0101/DQB1*0302 DQA1*0303/DQB1*0302\n",
       "329-04 DRB1*1501 DRB1*1601 DQA1*0102/DQB1*0502 DQA1*0102/DQB1*0502\n",
       "330-05 DRB1*0301 DRB1*0701 DQA1*0201/DQB1*0201 DQA1*0501/DQB1*0201\n",
       "331-04 DRB1*0101 DRB1*0402 DQA1*0101/DQB1*0302 DQA1*0301/DQB1*0302\n",
       "       DQ3                 DQ4                 DP1                \n",
       "315-05 DQA1*0102/DQB1*0604 DQA1*0505/DQB1*0604 DPA1*0103/DPB1*0101\n",
       "319-05 DQA1*0501/DQB1*0301 DQA1*0509/DQB1*0301 DPA1*0103/DPB1*0301\n",
       "323-03 DQA1*0101/DQB1*0501 DQA1*0303/DQB1*0501 DPA1*0103/DPB1*0401\n",
       "329-04 DQA1*0102/DQB1*0602 DQA1*0102/DQB1*0602 DPA1*0103/DPB1*0301\n",
       "330-05 DQA1*0201/DQB1*0202 DQA1*0501/DQB1*0202 DPA1*0103/DPB1*0401\n",
       "331-04 DQA1*0101/DQB1*0501 DQA1*0301/DQB1*0501 DPA1*0103/DPB1*0201\n",
       "       DP2                 DP3                 DP4                \n",
       "315-05 DPA1*0202/DPB1*0101 DPA1*0103/DPB1*0402 DPA1*0202/DPB1*0402\n",
       "319-05 DPA1*0103/DPB1*0301 DPA1*0103/DPB1*0301 DPA1*0103/DPB1*0301\n",
       "323-03 DPA1*0201/DPB1*0401 DPA1*0103/DPB1*1301 DPA1*0201/DPB1*1301\n",
       "329-04 DPA1*0103/DPB1*0301 DPA1*0103/DPB1*0401 DPA1*0103/DPB1*0401\n",
       "330-05 DPA1*0201/DPB1*0401 DPA1*0103/DPB1*1301 DPA1*0201/DPB1*1301\n",
       "331-04 DPA1*0103/DPB1*0201 DPA1*0103/DPB1*0402 DPA1*0103/DPB1*0402"
      ]
     },
     "metadata": {},
     "output_type": "display_data"
    }
   ],
   "source": [
    "head(int_hlaII_meanval)"
   ]
  },
  {
   "cell_type": "code",
   "execution_count": 342,
   "metadata": {
    "vscode": {
     "languageId": "r"
    }
   },
   "outputs": [],
   "source": [
    "int_hlaII_meanval[,1] <- meanval[int_hlaII_meanval_names[,1]]\n",
    "int_hlaII_meanval[,2] <- meanval[int_hlaII_meanval_names[,2]]\n",
    "int_hlaII_meanval[,3] <- meanval[int_hlaII_meanval_names[,3]]\n",
    "int_hlaII_meanval[,4] <- meanval[int_hlaII_meanval_names[,4]]\n",
    "int_hlaII_meanval[,5] <- meanval[int_hlaII_meanval_names[,5]]\n",
    "int_hlaII_meanval[,6] <- meanval[int_hlaII_meanval_names[,6]]\n",
    "int_hlaII_meanval[,7] <- meanval[int_hlaII_meanval_names[,7]]\n",
    "int_hlaII_meanval[,8] <- meanval[int_hlaII_meanval_names[,8]]\n",
    "int_hlaII_meanval[,9] <- meanval[int_hlaII_meanval_names[,9]]\n",
    "int_hlaII_meanval[,10] <- meanval[int_hlaII_meanval_names[,10]]"
   ]
  },
  {
   "cell_type": "code",
   "execution_count": 343,
   "metadata": {
    "vscode": {
     "languageId": "r"
    }
   },
   "outputs": [
    {
     "data": {
      "text/html": [
       "26"
      ],
      "text/latex": [
       "26"
      ],
      "text/markdown": [
       "26"
      ],
      "text/plain": [
       "[1] 26"
      ]
     },
     "metadata": {},
     "output_type": "display_data"
    }
   ],
   "source": [
    "length(unique(names(meanval)) )"
   ]
  },
  {
   "cell_type": "code",
   "execution_count": 344,
   "metadata": {
    "vscode": {
     "languageId": "r"
    }
   },
   "outputs": [
    {
     "data": {
      "text/html": [
       "<style>\n",
       ".list-inline {list-style: none; margin:0; padding: 0}\n",
       ".list-inline>li {display: inline-block}\n",
       ".list-inline>li:not(:last-child)::after {content: \"\\00b7\"; padding: 0 .5ex}\n",
       "</style>\n",
       "<ol class=list-inline><li>'DPA1*01/DPB1*0401'</li><li>'DPA1*0103/DPB1*0201'</li><li>'DPA1*0201/DPB1*0101'</li><li>'DPA1*0201/DPB1*0501'</li><li>'DPA1*0301/DPB1*0402'</li><li>'DPB1*0301/DPB1*0401'</li></ol>\n"
      ],
      "text/latex": [
       "\\begin{enumerate*}\n",
       "\\item 'DPA1*01/DPB1*0401'\n",
       "\\item 'DPA1*0103/DPB1*0201'\n",
       "\\item 'DPA1*0201/DPB1*0101'\n",
       "\\item 'DPA1*0201/DPB1*0501'\n",
       "\\item 'DPA1*0301/DPB1*0402'\n",
       "\\item 'DPB1*0301/DPB1*0401'\n",
       "\\end{enumerate*}\n"
      ],
      "text/markdown": [
       "1. 'DPA1*01/DPB1*0401'\n",
       "2. 'DPA1*0103/DPB1*0201'\n",
       "3. 'DPA1*0201/DPB1*0101'\n",
       "4. 'DPA1*0201/DPB1*0501'\n",
       "5. 'DPA1*0301/DPB1*0402'\n",
       "6. 'DPB1*0301/DPB1*0401'\n",
       "\n",
       "\n"
      ],
      "text/plain": [
       "[1] \"DPA1*01/DPB1*0401\"   \"DPA1*0103/DPB1*0201\" \"DPA1*0201/DPB1*0101\"\n",
       "[4] \"DPA1*0201/DPB1*0501\" \"DPA1*0301/DPB1*0402\" \"DPB1*0301/DPB1*0401\""
      ]
     },
     "metadata": {},
     "output_type": "display_data"
    }
   ],
   "source": [
    "names(meanval)[grepl(\"DPB1\", names(meanval))]  "
   ]
  },
  {
   "cell_type": "code",
   "execution_count": 347,
   "metadata": {
    "vscode": {
     "languageId": "r"
    }
   },
   "outputs": [],
   "source": [
    "#int_hlaII_meanval_narm <- int_hlaII_meanval[complete.cases(int_hlaII_meanval),]"
   ]
  },
  {
   "cell_type": "code",
   "execution_count": 349,
   "metadata": {
    "vscode": {
     "languageId": "r"
    }
   },
   "outputs": [],
   "source": [
    "class(int_hlaI_meanval) <- \"numeric\""
   ]
  },
  {
   "cell_type": "code",
   "execution_count": 350,
   "metadata": {
    "vscode": {
     "languageId": "r"
    }
   },
   "outputs": [
    {
     "data": {
      "text/html": [
       "<table class=\"dataframe\">\n",
       "<caption>A matrix: 6 x 6 of type dbl</caption>\n",
       "<thead>\n",
       "\t<tr><th></th><th scope=col>A_1</th><th scope=col>A_2</th><th scope=col>B_1</th><th scope=col>B_2</th><th scope=col>C_1</th><th scope=col>C_2</th></tr>\n",
       "</thead>\n",
       "<tbody>\n",
       "\t<tr><th scope=row>315-05</th><td>1</td><td>2.4</td><td>1.00000</td><td>NA</td><td>2.000000</td><td>2.000001</td></tr>\n",
       "\t<tr><th scope=row>319-05</th><td>1</td><td>1.0</td><td>1.00000</td><td> 1</td><td>1.000000</td><td>1.000000</td></tr>\n",
       "\t<tr><th scope=row>323-03</th><td>1</td><td>1.0</td><td>     NA</td><td>NA</td><td>2.000001</td><td>      NA</td></tr>\n",
       "\t<tr><th scope=row>329-04</th><td>1</td><td>1.0</td><td>1.00000</td><td>NA</td><td>2.000001</td><td>1.000000</td></tr>\n",
       "\t<tr><th scope=row>330-05</th><td>1</td><td> NA</td><td>     NA</td><td> 1</td><td>1.000000</td><td>1.859269</td></tr>\n",
       "\t<tr><th scope=row>331-04</th><td>1</td><td>1.0</td><td>2.50025</td><td> 1</td><td>2.000000</td><td>1.000000</td></tr>\n",
       "</tbody>\n",
       "</table>\n"
      ],
      "text/latex": [
       "A matrix: 6 x 6 of type dbl\n",
       "\\begin{tabular}{r|llllll}\n",
       "  & A\\_1 & A\\_2 & B\\_1 & B\\_2 & C\\_1 & C\\_2\\\\\n",
       "\\hline\n",
       "\t315-05 & 1 & 2.4 & 1.00000 & NA & 2.000000 & 2.000001\\\\\n",
       "\t319-05 & 1 & 1.0 & 1.00000 &  1 & 1.000000 & 1.000000\\\\\n",
       "\t323-03 & 1 & 1.0 &      NA & NA & 2.000001 &       NA\\\\\n",
       "\t329-04 & 1 & 1.0 & 1.00000 & NA & 2.000001 & 1.000000\\\\\n",
       "\t330-05 & 1 &  NA &      NA &  1 & 1.000000 & 1.859269\\\\\n",
       "\t331-04 & 1 & 1.0 & 2.50025 &  1 & 2.000000 & 1.000000\\\\\n",
       "\\end{tabular}\n"
      ],
      "text/markdown": [
       "\n",
       "A matrix: 6 x 6 of type dbl\n",
       "\n",
       "| <!--/--> | A_1 | A_2 | B_1 | B_2 | C_1 | C_2 |\n",
       "|---|---|---|---|---|---|---|\n",
       "| 315-05 | 1 | 2.4 | 1.00000 | NA | 2.000000 | 2.000001 |\n",
       "| 319-05 | 1 | 1.0 | 1.00000 |  1 | 1.000000 | 1.000000 |\n",
       "| 323-03 | 1 | 1.0 |      NA | NA | 2.000001 |       NA |\n",
       "| 329-04 | 1 | 1.0 | 1.00000 | NA | 2.000001 | 1.000000 |\n",
       "| 330-05 | 1 |  NA |      NA |  1 | 1.000000 | 1.859269 |\n",
       "| 331-04 | 1 | 1.0 | 2.50025 |  1 | 2.000000 | 1.000000 |\n",
       "\n"
      ],
      "text/plain": [
       "       A_1 A_2 B_1     B_2 C_1      C_2     \n",
       "315-05 1   2.4 1.00000 NA  2.000000 2.000001\n",
       "319-05 1   1.0 1.00000  1  1.000000 1.000000\n",
       "323-03 1   1.0      NA NA  2.000001       NA\n",
       "329-04 1   1.0 1.00000 NA  2.000001 1.000000\n",
       "330-05 1    NA      NA  1  1.000000 1.859269\n",
       "331-04 1   1.0 2.50025  1  2.000000 1.000000"
      ]
     },
     "metadata": {},
     "output_type": "display_data"
    }
   ],
   "source": [
    "head(int_hlaI_meanval)"
   ]
  },
  {
   "cell_type": "code",
   "execution_count": 351,
   "metadata": {
    "vscode": {
     "languageId": "r"
    }
   },
   "outputs": [],
   "source": [
    "hmeans <- apply(int_hlaI_meanval,1, function(x) { psych::harmonic.mean(x)})"
   ]
  },
  {
   "cell_type": "code",
   "execution_count": 352,
   "metadata": {
    "vscode": {
     "languageId": "r"
    }
   },
   "outputs": [],
   "source": [
    "names(hmeans) <- paste0(\"CHP_\", names(hmeans))\n",
    "names(hmeans) <- gsub(\"...$\", \"\", names(hmeans))"
   ]
  },
  {
   "cell_type": "code",
   "execution_count": 353,
   "metadata": {
    "vscode": {
     "languageId": "r"
    }
   },
   "outputs": [
    {
     "data": {
      "text/html": [
       "<style>\n",
       ".dl-inline {width: auto; margin:0; padding: 0}\n",
       ".dl-inline>dt, .dl-inline>dd {float: none; width: auto; display: inline-block}\n",
       ".dl-inline>dt::after {content: \":\\0020\"; padding-right: .5ex}\n",
       ".dl-inline>dt:not(:first-of-type) {padding-left: .5ex}\n",
       "</style><dl class=dl-inline><dt>CHP_319</dt><dd>1</dd><dt>CHP_339</dt><dd>1</dd><dt>CHP_345</dt><dd>1</dd><dt>CHP_346</dt><dd>1</dd><dt>CHP_348</dt><dd>1</dd><dt>CHP_349</dt><dd>1</dd><dt>CHP_359</dt><dd>1</dd><dt>CHP_364</dt><dd>1</dd><dt>CHP_365</dt><dd>1</dd><dt>CHP_369</dt><dd>1</dd><dt>CHP_376</dt><dd>1</dd><dt>CHP_380</dt><dd>1</dd><dt>CHP_387</dt><dd>1</dd><dt>CHP_395</dt><dd>1</dd><dt>CHP_396</dt><dd>1</dd><dt>CHP_414</dt><dd>1</dd><dt>CHP_415</dt><dd>1</dd><dt>CHP_417</dt><dd>1</dd><dt>CHP_418</dt><dd>1</dd><dt>CHP_422</dt><dd>1</dd><dt>CHP_347</dt><dd>1.09090909090909</dd><dt>CHP_350</dt><dd>1.09090909090909</dd><dt>CHP_362</dt><dd>1.09090909090909</dd><dt>CHP_398</dt><dd>1.09090909090909</dd><dt>CHP_385</dt><dd>1.0909091182314</dd><dt>CHP_388</dt><dd>1.0909091182314</dd><dt>CHP_402</dt><dd>1.0909091182314</dd><dt>CHP_413</dt><dd>1.0909091182314</dd><dt>CHP_410</dt><dd>1.10184440675893</dd><dt>CHP_338</dt><dd>1.11111111111111</dd><dt>CHP_344</dt><dd>1.11111111111111</dd><dt>CHP_367</dt><dd>1.11111111111111</dd><dt>CHP_374</dt><dd>1.11111111111111</dd><dt>CHP_405</dt><dd>1.11111111111111</dd><dt>CHP_409</dt><dd>1.11111111111111</dd><dt>CHP_329</dt><dd>1.11111114512345</dd><dt>CHP_351</dt><dd>1.11111114512345</dd><dt>CHP_370</dt><dd>1.11111114512345</dd><dt>CHP_373</dt><dd>1.11111114512345</dd><dt>CHP_397</dt><dd>1.11111114512345</dd><dt>CHP_412</dt><dd>1.11111114512345</dd><dt>CHP_330</dt><dd>1.13063153114708</dd><dt>CHP_378</dt><dd>1.14285714285714</dd><dt>CHP_419</dt><dd>1.17109302288583</dd><dt>CHP_390</dt><dd>1.18210492317748</dd><dt>CHP_404</dt><dd>1.19098524503346</dd><dt>CHP_353</dt><dd>1.19098527759861</dd><dt>CHP_381</dt><dd>1.19098527759861</dd><dt>CHP_407</dt><dd>1.19098527759861</dd><dt>CHP_355</dt><dd>1.2</dd><dt>CHP_368</dt><dd>1.2</dd><dt>CHP_361</dt><dd>1.20000003305999</dd><dt>CHP_400</dt><dd>1.20000003305999</dd><dt>CHP_323</dt><dd>1.20000006611999</dd><dt>CHP_357</dt><dd>1.20000006611999</dd><dt>CHP_393</dt><dd>1.20000006611999</dd><dt>CHP_408</dt><dd>1.21362518938376</dd><dt>CHP_358</dt><dd>1.22381858409539</dd><dt>CHP_360</dt><dd>1.22381858409539</dd><dt>CHP_331</dt><dd>1.22449978471921</dd><dt>CHP_401</dt><dd>1.25</dd><dt>CHP_363</dt><dd>1.29774101144537</dd><dt>CHP_352</dt><dd>1.33333333333333</dd><dt>CHP_343</dt><dd>1.36364879431019</dd><dt>CHP_356</dt><dd>1.44738224740337</dd><dt>CHP_375</dt><dd>1.44738224740337</dd><dt>CHP_315</dt><dd>1.46341469314692</dd></dl>\n"
      ],
      "text/latex": [
       "\\begin{description*}\n",
       "\\item[CHP\\textbackslash{}\\_319] 1\n",
       "\\item[CHP\\textbackslash{}\\_339] 1\n",
       "\\item[CHP\\textbackslash{}\\_345] 1\n",
       "\\item[CHP\\textbackslash{}\\_346] 1\n",
       "\\item[CHP\\textbackslash{}\\_348] 1\n",
       "\\item[CHP\\textbackslash{}\\_349] 1\n",
       "\\item[CHP\\textbackslash{}\\_359] 1\n",
       "\\item[CHP\\textbackslash{}\\_364] 1\n",
       "\\item[CHP\\textbackslash{}\\_365] 1\n",
       "\\item[CHP\\textbackslash{}\\_369] 1\n",
       "\\item[CHP\\textbackslash{}\\_376] 1\n",
       "\\item[CHP\\textbackslash{}\\_380] 1\n",
       "\\item[CHP\\textbackslash{}\\_387] 1\n",
       "\\item[CHP\\textbackslash{}\\_395] 1\n",
       "\\item[CHP\\textbackslash{}\\_396] 1\n",
       "\\item[CHP\\textbackslash{}\\_414] 1\n",
       "\\item[CHP\\textbackslash{}\\_415] 1\n",
       "\\item[CHP\\textbackslash{}\\_417] 1\n",
       "\\item[CHP\\textbackslash{}\\_418] 1\n",
       "\\item[CHP\\textbackslash{}\\_422] 1\n",
       "\\item[CHP\\textbackslash{}\\_347] 1.09090909090909\n",
       "\\item[CHP\\textbackslash{}\\_350] 1.09090909090909\n",
       "\\item[CHP\\textbackslash{}\\_362] 1.09090909090909\n",
       "\\item[CHP\\textbackslash{}\\_398] 1.09090909090909\n",
       "\\item[CHP\\textbackslash{}\\_385] 1.0909091182314\n",
       "\\item[CHP\\textbackslash{}\\_388] 1.0909091182314\n",
       "\\item[CHP\\textbackslash{}\\_402] 1.0909091182314\n",
       "\\item[CHP\\textbackslash{}\\_413] 1.0909091182314\n",
       "\\item[CHP\\textbackslash{}\\_410] 1.10184440675893\n",
       "\\item[CHP\\textbackslash{}\\_338] 1.11111111111111\n",
       "\\item[CHP\\textbackslash{}\\_344] 1.11111111111111\n",
       "\\item[CHP\\textbackslash{}\\_367] 1.11111111111111\n",
       "\\item[CHP\\textbackslash{}\\_374] 1.11111111111111\n",
       "\\item[CHP\\textbackslash{}\\_405] 1.11111111111111\n",
       "\\item[CHP\\textbackslash{}\\_409] 1.11111111111111\n",
       "\\item[CHP\\textbackslash{}\\_329] 1.11111114512345\n",
       "\\item[CHP\\textbackslash{}\\_351] 1.11111114512345\n",
       "\\item[CHP\\textbackslash{}\\_370] 1.11111114512345\n",
       "\\item[CHP\\textbackslash{}\\_373] 1.11111114512345\n",
       "\\item[CHP\\textbackslash{}\\_397] 1.11111114512345\n",
       "\\item[CHP\\textbackslash{}\\_412] 1.11111114512345\n",
       "\\item[CHP\\textbackslash{}\\_330] 1.13063153114708\n",
       "\\item[CHP\\textbackslash{}\\_378] 1.14285714285714\n",
       "\\item[CHP\\textbackslash{}\\_419] 1.17109302288583\n",
       "\\item[CHP\\textbackslash{}\\_390] 1.18210492317748\n",
       "\\item[CHP\\textbackslash{}\\_404] 1.19098524503346\n",
       "\\item[CHP\\textbackslash{}\\_353] 1.19098527759861\n",
       "\\item[CHP\\textbackslash{}\\_381] 1.19098527759861\n",
       "\\item[CHP\\textbackslash{}\\_407] 1.19098527759861\n",
       "\\item[CHP\\textbackslash{}\\_355] 1.2\n",
       "\\item[CHP\\textbackslash{}\\_368] 1.2\n",
       "\\item[CHP\\textbackslash{}\\_361] 1.20000003305999\n",
       "\\item[CHP\\textbackslash{}\\_400] 1.20000003305999\n",
       "\\item[CHP\\textbackslash{}\\_323] 1.20000006611999\n",
       "\\item[CHP\\textbackslash{}\\_357] 1.20000006611999\n",
       "\\item[CHP\\textbackslash{}\\_393] 1.20000006611999\n",
       "\\item[CHP\\textbackslash{}\\_408] 1.21362518938376\n",
       "\\item[CHP\\textbackslash{}\\_358] 1.22381858409539\n",
       "\\item[CHP\\textbackslash{}\\_360] 1.22381858409539\n",
       "\\item[CHP\\textbackslash{}\\_331] 1.22449978471921\n",
       "\\item[CHP\\textbackslash{}\\_401] 1.25\n",
       "\\item[CHP\\textbackslash{}\\_363] 1.29774101144537\n",
       "\\item[CHP\\textbackslash{}\\_352] 1.33333333333333\n",
       "\\item[CHP\\textbackslash{}\\_343] 1.36364879431019\n",
       "\\item[CHP\\textbackslash{}\\_356] 1.44738224740337\n",
       "\\item[CHP\\textbackslash{}\\_375] 1.44738224740337\n",
       "\\item[CHP\\textbackslash{}\\_315] 1.46341469314692\n",
       "\\end{description*}\n"
      ],
      "text/markdown": [
       "CHP_319\n",
       ":   1CHP_339\n",
       ":   1CHP_345\n",
       ":   1CHP_346\n",
       ":   1CHP_348\n",
       ":   1CHP_349\n",
       ":   1CHP_359\n",
       ":   1CHP_364\n",
       ":   1CHP_365\n",
       ":   1CHP_369\n",
       ":   1CHP_376\n",
       ":   1CHP_380\n",
       ":   1CHP_387\n",
       ":   1CHP_395\n",
       ":   1CHP_396\n",
       ":   1CHP_414\n",
       ":   1CHP_415\n",
       ":   1CHP_417\n",
       ":   1CHP_418\n",
       ":   1CHP_422\n",
       ":   1CHP_347\n",
       ":   1.09090909090909CHP_350\n",
       ":   1.09090909090909CHP_362\n",
       ":   1.09090909090909CHP_398\n",
       ":   1.09090909090909CHP_385\n",
       ":   1.0909091182314CHP_388\n",
       ":   1.0909091182314CHP_402\n",
       ":   1.0909091182314CHP_413\n",
       ":   1.0909091182314CHP_410\n",
       ":   1.10184440675893CHP_338\n",
       ":   1.11111111111111CHP_344\n",
       ":   1.11111111111111CHP_367\n",
       ":   1.11111111111111CHP_374\n",
       ":   1.11111111111111CHP_405\n",
       ":   1.11111111111111CHP_409\n",
       ":   1.11111111111111CHP_329\n",
       ":   1.11111114512345CHP_351\n",
       ":   1.11111114512345CHP_370\n",
       ":   1.11111114512345CHP_373\n",
       ":   1.11111114512345CHP_397\n",
       ":   1.11111114512345CHP_412\n",
       ":   1.11111114512345CHP_330\n",
       ":   1.13063153114708CHP_378\n",
       ":   1.14285714285714CHP_419\n",
       ":   1.17109302288583CHP_390\n",
       ":   1.18210492317748CHP_404\n",
       ":   1.19098524503346CHP_353\n",
       ":   1.19098527759861CHP_381\n",
       ":   1.19098527759861CHP_407\n",
       ":   1.19098527759861CHP_355\n",
       ":   1.2CHP_368\n",
       ":   1.2CHP_361\n",
       ":   1.20000003305999CHP_400\n",
       ":   1.20000003305999CHP_323\n",
       ":   1.20000006611999CHP_357\n",
       ":   1.20000006611999CHP_393\n",
       ":   1.20000006611999CHP_408\n",
       ":   1.21362518938376CHP_358\n",
       ":   1.22381858409539CHP_360\n",
       ":   1.22381858409539CHP_331\n",
       ":   1.22449978471921CHP_401\n",
       ":   1.25CHP_363\n",
       ":   1.29774101144537CHP_352\n",
       ":   1.33333333333333CHP_343\n",
       ":   1.36364879431019CHP_356\n",
       ":   1.44738224740337CHP_375\n",
       ":   1.44738224740337CHP_315\n",
       ":   1.46341469314692\n",
       "\n"
      ],
      "text/plain": [
       " CHP_319  CHP_339  CHP_345  CHP_346  CHP_348  CHP_349  CHP_359  CHP_364 \n",
       "1.000000 1.000000 1.000000 1.000000 1.000000 1.000000 1.000000 1.000000 \n",
       " CHP_365  CHP_369  CHP_376  CHP_380  CHP_387  CHP_395  CHP_396  CHP_414 \n",
       "1.000000 1.000000 1.000000 1.000000 1.000000 1.000000 1.000000 1.000000 \n",
       " CHP_415  CHP_417  CHP_418  CHP_422  CHP_347  CHP_350  CHP_362  CHP_398 \n",
       "1.000000 1.000000 1.000000 1.000000 1.090909 1.090909 1.090909 1.090909 \n",
       " CHP_385  CHP_388  CHP_402  CHP_413  CHP_410  CHP_338  CHP_344  CHP_367 \n",
       "1.090909 1.090909 1.090909 1.090909 1.101844 1.111111 1.111111 1.111111 \n",
       " CHP_374  CHP_405  CHP_409  CHP_329  CHP_351  CHP_370  CHP_373  CHP_397 \n",
       "1.111111 1.111111 1.111111 1.111111 1.111111 1.111111 1.111111 1.111111 \n",
       " CHP_412  CHP_330  CHP_378  CHP_419  CHP_390  CHP_404  CHP_353  CHP_381 \n",
       "1.111111 1.130632 1.142857 1.171093 1.182105 1.190985 1.190985 1.190985 \n",
       " CHP_407  CHP_355  CHP_368  CHP_361  CHP_400  CHP_323  CHP_357  CHP_393 \n",
       "1.190985 1.200000 1.200000 1.200000 1.200000 1.200000 1.200000 1.200000 \n",
       " CHP_408  CHP_358  CHP_360  CHP_331  CHP_401  CHP_363  CHP_352  CHP_343 \n",
       "1.213625 1.223819 1.223819 1.224500 1.250000 1.297741 1.333333 1.363649 \n",
       " CHP_356  CHP_375  CHP_315 \n",
       "1.447382 1.447382 1.463415 "
      ]
     },
     "metadata": {},
     "output_type": "display_data"
    }
   ],
   "source": [
    "sort(hmeans)"
   ]
  },
  {
   "cell_type": "code",
   "execution_count": 354,
   "metadata": {
    "vscode": {
     "languageId": "r"
    }
   },
   "outputs": [],
   "source": [
    "meta_div <- readr::read_rds(paste0(datapath, \"capTCRseq/meta_div_goodsamples.rds\"))"
   ]
  },
  {
   "cell_type": "code",
   "execution_count": 355,
   "metadata": {
    "vscode": {
     "languageId": "r"
    }
   },
   "outputs": [],
   "source": [
    "meta_div <- meta_div[ !is.na(meta_div$TRB),]"
   ]
  },
  {
   "cell_type": "code",
   "execution_count": 356,
   "metadata": {
    "vscode": {
     "languageId": "r"
    }
   },
   "outputs": [],
   "source": [
    "pbmc <- meta_div[ meta_div$sampletype == \"PBMC\",]\n",
    "cfdna <- meta_div[ meta_div$sampletype == \"cfDNA\",]"
   ]
  },
  {
   "cell_type": "code",
   "execution_count": 375,
   "metadata": {
    "vscode": {
     "languageId": "r"
    }
   },
   "outputs": [],
   "source": [
    "tmp <- cfdna[ cfdna$Patient %in% names(hmeans),]"
   ]
  },
  {
   "cell_type": "code",
   "execution_count": 376,
   "metadata": {
    "vscode": {
     "languageId": "r"
    }
   },
   "outputs": [
    {
     "data": {
      "text/html": [
       "<style>\n",
       ".list-inline {list-style: none; margin:0; padding: 0}\n",
       ".list-inline>li {display: inline-block}\n",
       ".list-inline>li:not(:last-child)::after {content: \"\\00b7\"; padding: 0 .5ex}\n",
       "</style>\n",
       "<ol class=list-inline><li>'CHP_319'</li><li>'CHP_339'</li><li>'CHP_345'</li><li>'CHP_346'</li><li>'CHP_348'</li><li>'CHP_349'</li><li>'CHP_359'</li><li>'CHP_364'</li><li>'CHP_365'</li><li>'CHP_369'</li><li>'CHP_376'</li><li>'CHP_380'</li><li>'CHP_387'</li><li>'CHP_395'</li><li>'CHP_396'</li><li>'CHP_414'</li><li>'CHP_415'</li><li>'CHP_417'</li><li>'CHP_418'</li><li>'CHP_422'</li><li>'CHP_347'</li><li>'CHP_350'</li><li>'CHP_362'</li><li>'CHP_398'</li><li>'CHP_385'</li><li>'CHP_388'</li><li>'CHP_402'</li><li>'CHP_413'</li><li>'CHP_410'</li><li>'CHP_338'</li><li>'CHP_344'</li><li>'CHP_367'</li><li>'CHP_374'</li><li>'CHP_405'</li><li>'CHP_409'</li><li>'CHP_329'</li><li>'CHP_351'</li><li>'CHP_370'</li><li>'CHP_373'</li><li>'CHP_397'</li><li>'CHP_412'</li><li>'CHP_330'</li><li>'CHP_378'</li><li>'CHP_419'</li><li>'CHP_390'</li><li>'CHP_404'</li><li>'CHP_353'</li><li>'CHP_381'</li><li>'CHP_407'</li><li>'CHP_355'</li><li>'CHP_368'</li><li>'CHP_361'</li><li>'CHP_400'</li><li>'CHP_323'</li><li>'CHP_357'</li><li>'CHP_393'</li><li>'CHP_408'</li><li>'CHP_358'</li><li>'CHP_360'</li><li>'CHP_331'</li><li>'CHP_401'</li><li>'CHP_363'</li><li>'CHP_352'</li><li>'CHP_343'</li><li>'CHP_356'</li><li>'CHP_375'</li><li>'CHP_315'</li></ol>\n"
      ],
      "text/latex": [
       "\\begin{enumerate*}\n",
       "\\item 'CHP\\_319'\n",
       "\\item 'CHP\\_339'\n",
       "\\item 'CHP\\_345'\n",
       "\\item 'CHP\\_346'\n",
       "\\item 'CHP\\_348'\n",
       "\\item 'CHP\\_349'\n",
       "\\item 'CHP\\_359'\n",
       "\\item 'CHP\\_364'\n",
       "\\item 'CHP\\_365'\n",
       "\\item 'CHP\\_369'\n",
       "\\item 'CHP\\_376'\n",
       "\\item 'CHP\\_380'\n",
       "\\item 'CHP\\_387'\n",
       "\\item 'CHP\\_395'\n",
       "\\item 'CHP\\_396'\n",
       "\\item 'CHP\\_414'\n",
       "\\item 'CHP\\_415'\n",
       "\\item 'CHP\\_417'\n",
       "\\item 'CHP\\_418'\n",
       "\\item 'CHP\\_422'\n",
       "\\item 'CHP\\_347'\n",
       "\\item 'CHP\\_350'\n",
       "\\item 'CHP\\_362'\n",
       "\\item 'CHP\\_398'\n",
       "\\item 'CHP\\_385'\n",
       "\\item 'CHP\\_388'\n",
       "\\item 'CHP\\_402'\n",
       "\\item 'CHP\\_413'\n",
       "\\item 'CHP\\_410'\n",
       "\\item 'CHP\\_338'\n",
       "\\item 'CHP\\_344'\n",
       "\\item 'CHP\\_367'\n",
       "\\item 'CHP\\_374'\n",
       "\\item 'CHP\\_405'\n",
       "\\item 'CHP\\_409'\n",
       "\\item 'CHP\\_329'\n",
       "\\item 'CHP\\_351'\n",
       "\\item 'CHP\\_370'\n",
       "\\item 'CHP\\_373'\n",
       "\\item 'CHP\\_397'\n",
       "\\item 'CHP\\_412'\n",
       "\\item 'CHP\\_330'\n",
       "\\item 'CHP\\_378'\n",
       "\\item 'CHP\\_419'\n",
       "\\item 'CHP\\_390'\n",
       "\\item 'CHP\\_404'\n",
       "\\item 'CHP\\_353'\n",
       "\\item 'CHP\\_381'\n",
       "\\item 'CHP\\_407'\n",
       "\\item 'CHP\\_355'\n",
       "\\item 'CHP\\_368'\n",
       "\\item 'CHP\\_361'\n",
       "\\item 'CHP\\_400'\n",
       "\\item 'CHP\\_323'\n",
       "\\item 'CHP\\_357'\n",
       "\\item 'CHP\\_393'\n",
       "\\item 'CHP\\_408'\n",
       "\\item 'CHP\\_358'\n",
       "\\item 'CHP\\_360'\n",
       "\\item 'CHP\\_331'\n",
       "\\item 'CHP\\_401'\n",
       "\\item 'CHP\\_363'\n",
       "\\item 'CHP\\_352'\n",
       "\\item 'CHP\\_343'\n",
       "\\item 'CHP\\_356'\n",
       "\\item 'CHP\\_375'\n",
       "\\item 'CHP\\_315'\n",
       "\\end{enumerate*}\n"
      ],
      "text/markdown": [
       "1. 'CHP_319'\n",
       "2. 'CHP_339'\n",
       "3. 'CHP_345'\n",
       "4. 'CHP_346'\n",
       "5. 'CHP_348'\n",
       "6. 'CHP_349'\n",
       "7. 'CHP_359'\n",
       "8. 'CHP_364'\n",
       "9. 'CHP_365'\n",
       "10. 'CHP_369'\n",
       "11. 'CHP_376'\n",
       "12. 'CHP_380'\n",
       "13. 'CHP_387'\n",
       "14. 'CHP_395'\n",
       "15. 'CHP_396'\n",
       "16. 'CHP_414'\n",
       "17. 'CHP_415'\n",
       "18. 'CHP_417'\n",
       "19. 'CHP_418'\n",
       "20. 'CHP_422'\n",
       "21. 'CHP_347'\n",
       "22. 'CHP_350'\n",
       "23. 'CHP_362'\n",
       "24. 'CHP_398'\n",
       "25. 'CHP_385'\n",
       "26. 'CHP_388'\n",
       "27. 'CHP_402'\n",
       "28. 'CHP_413'\n",
       "29. 'CHP_410'\n",
       "30. 'CHP_338'\n",
       "31. 'CHP_344'\n",
       "32. 'CHP_367'\n",
       "33. 'CHP_374'\n",
       "34. 'CHP_405'\n",
       "35. 'CHP_409'\n",
       "36. 'CHP_329'\n",
       "37. 'CHP_351'\n",
       "38. 'CHP_370'\n",
       "39. 'CHP_373'\n",
       "40. 'CHP_397'\n",
       "41. 'CHP_412'\n",
       "42. 'CHP_330'\n",
       "43. 'CHP_378'\n",
       "44. 'CHP_419'\n",
       "45. 'CHP_390'\n",
       "46. 'CHP_404'\n",
       "47. 'CHP_353'\n",
       "48. 'CHP_381'\n",
       "49. 'CHP_407'\n",
       "50. 'CHP_355'\n",
       "51. 'CHP_368'\n",
       "52. 'CHP_361'\n",
       "53. 'CHP_400'\n",
       "54. 'CHP_323'\n",
       "55. 'CHP_357'\n",
       "56. 'CHP_393'\n",
       "57. 'CHP_408'\n",
       "58. 'CHP_358'\n",
       "59. 'CHP_360'\n",
       "60. 'CHP_331'\n",
       "61. 'CHP_401'\n",
       "62. 'CHP_363'\n",
       "63. 'CHP_352'\n",
       "64. 'CHP_343'\n",
       "65. 'CHP_356'\n",
       "66. 'CHP_375'\n",
       "67. 'CHP_315'\n",
       "\n",
       "\n"
      ],
      "text/plain": [
       " [1] \"CHP_319\" \"CHP_339\" \"CHP_345\" \"CHP_346\" \"CHP_348\" \"CHP_349\" \"CHP_359\"\n",
       " [8] \"CHP_364\" \"CHP_365\" \"CHP_369\" \"CHP_376\" \"CHP_380\" \"CHP_387\" \"CHP_395\"\n",
       "[15] \"CHP_396\" \"CHP_414\" \"CHP_415\" \"CHP_417\" \"CHP_418\" \"CHP_422\" \"CHP_347\"\n",
       "[22] \"CHP_350\" \"CHP_362\" \"CHP_398\" \"CHP_385\" \"CHP_388\" \"CHP_402\" \"CHP_413\"\n",
       "[29] \"CHP_410\" \"CHP_338\" \"CHP_344\" \"CHP_367\" \"CHP_374\" \"CHP_405\" \"CHP_409\"\n",
       "[36] \"CHP_329\" \"CHP_351\" \"CHP_370\" \"CHP_373\" \"CHP_397\" \"CHP_412\" \"CHP_330\"\n",
       "[43] \"CHP_378\" \"CHP_419\" \"CHP_390\" \"CHP_404\" \"CHP_353\" \"CHP_381\" \"CHP_407\"\n",
       "[50] \"CHP_355\" \"CHP_368\" \"CHP_361\" \"CHP_400\" \"CHP_323\" \"CHP_357\" \"CHP_393\"\n",
       "[57] \"CHP_408\" \"CHP_358\" \"CHP_360\" \"CHP_331\" \"CHP_401\" \"CHP_363\" \"CHP_352\"\n",
       "[64] \"CHP_343\" \"CHP_356\" \"CHP_375\" \"CHP_315\""
      ]
     },
     "metadata": {},
     "output_type": "display_data"
    }
   ],
   "source": [
    "names(sort(hmeans))"
   ]
  },
  {
   "cell_type": "code",
   "execution_count": 377,
   "metadata": {
    "vscode": {
     "languageId": "r"
    }
   },
   "outputs": [
    {
     "data": {
      "image/png": "[encoded data removed]",
      "text/plain": [
       "plot without title"
      ]
     },
     "metadata": {
      "image/png": {
       "height": 420,
       "width": 420
      }
     },
     "output_type": "display_data"
    }
   ],
   "source": [
    "ggplot(as.data.frame(hmeans) )+ geom_histogram(aes(x = hmeans), bins = 100)"
   ]
  },
  {
   "cell_type": "code",
   "execution_count": 378,
   "metadata": {
    "vscode": {
     "languageId": "r"
    }
   },
   "outputs": [],
   "source": [
    "tmp$Patient <- factor(tmp$Patient, levels = names(sort(hmeans)))"
   ]
  },
  {
   "cell_type": "code",
   "execution_count": 379,
   "metadata": {
    "vscode": {
     "languageId": "r"
    }
   },
   "outputs": [
    {
     "data": {
      "text/html": [
       "<style>\n",
       ".list-inline {list-style: none; margin:0; padding: 0}\n",
       ".list-inline>li {display: inline-block}\n",
       ".list-inline>li:not(:last-child)::after {content: \"\\00b7\"; padding: 0 .5ex}\n",
       "</style>\n",
       "<ol class=list-inline><li>'sample_id'</li><li>'Patient'</li><li>'cycle'</li><li>'FOLD'</li><li>'ATC'</li><li>'Age'</li><li>'Disease_type'</li><li>'TE_fold'</li><li>'CD3'</li><li>'EM'</li><li>'CM'</li><li>'Naïve'</li><li>'SCM'</li><li>'TE'</li><li>'EM%'</li><li>'CM%'</li><li>'Naïve%'</li><li>'SCM%'</li><li>'TE%'</li><li>'Naïve/TE'</li><li>'N+CM+SCM/TE+EM'</li><li>'PD-1'</li><li>'PDL1'</li><li>'LAG3'</li><li>'TIM3'</li><li>'CTLA4'</li><li>'PD1%'</li><li>'PDL1%'</li><li>'LAG3%'</li><li>'TIM3%'</li><li>'CTLA4%'</li><li>'Any NCR'</li><li>'PD1 + LAG3 + TIM3'</li><li>'cancergroup'</li><li>'agegroup'</li><li>'foldgroup'</li><li>'Remission'</li><li>'Relapse'</li><li>'Transplant'</li><li>'CART'</li><li>'TRB'</li><li>'Reads'</li><li>'CPKR'</li><li>'Average_reads'</li><li>'VMR'</li><li>'Max_reads'</li><li>'Singletons'</li><li>'Doubletons'</li><li>'qD'</li><li>'Sample_Coverage'</li><li>'observed_Richness'</li><li>'estimated_Richness'</li><li>'SE_Richeness'</li><li>'observed_Shannon'</li><li>'estimated_Shannon'</li><li>'SE_Shannon'</li><li>'observed_Simpson'</li><li>'estimated_Simpson'</li><li>'SE_Simpson'</li><li>'basename'</li><li>'file'</li><li>'Group'</li><li>'sampletype'</li><li>'log10shann'</li></ol>\n"
      ],
      "text/latex": [
       "\\begin{enumerate*}\n",
       "\\item 'sample\\_id'\n",
       "\\item 'Patient'\n",
       "\\item 'cycle'\n",
       "\\item 'FOLD'\n",
       "\\item 'ATC'\n",
       "\\item 'Age'\n",
       "\\item 'Disease\\_type'\n",
       "\\item 'TE\\_fold'\n",
       "\\item 'CD3'\n",
       "\\item 'EM'\n",
       "\\item 'CM'\n",
       "\\item 'Naïve'\n",
       "\\item 'SCM'\n",
       "\\item 'TE'\n",
       "\\item 'EM\\%'\n",
       "\\item 'CM\\%'\n",
       "\\item 'Naïve\\%'\n",
       "\\item 'SCM\\%'\n",
       "\\item 'TE\\%'\n",
       "\\item 'Naïve/TE'\n",
       "\\item 'N+CM+SCM/TE+EM'\n",
       "\\item 'PD-1'\n",
       "\\item 'PDL1'\n",
       "\\item 'LAG3'\n",
       "\\item 'TIM3'\n",
       "\\item 'CTLA4'\n",
       "\\item 'PD1\\%'\n",
       "\\item 'PDL1\\%'\n",
       "\\item 'LAG3\\%'\n",
       "\\item 'TIM3\\%'\n",
       "\\item 'CTLA4\\%'\n",
       "\\item 'Any NCR'\n",
       "\\item 'PD1 + LAG3 + TIM3'\n",
       "\\item 'cancergroup'\n",
       "\\item 'agegroup'\n",
       "\\item 'foldgroup'\n",
       "\\item 'Remission'\n",
       "\\item 'Relapse'\n",
       "\\item 'Transplant'\n",
       "\\item 'CART'\n",
       "\\item 'TRB'\n",
       "\\item 'Reads'\n",
       "\\item 'CPKR'\n",
       "\\item 'Average\\_reads'\n",
       "\\item 'VMR'\n",
       "\\item 'Max\\_reads'\n",
       "\\item 'Singletons'\n",
       "\\item 'Doubletons'\n",
       "\\item 'qD'\n",
       "\\item 'Sample\\_Coverage'\n",
       "\\item 'observed\\_Richness'\n",
       "\\item 'estimated\\_Richness'\n",
       "\\item 'SE\\_Richeness'\n",
       "\\item 'observed\\_Shannon'\n",
       "\\item 'estimated\\_Shannon'\n",
       "\\item 'SE\\_Shannon'\n",
       "\\item 'observed\\_Simpson'\n",
       "\\item 'estimated\\_Simpson'\n",
       "\\item 'SE\\_Simpson'\n",
       "\\item 'basename'\n",
       "\\item 'file'\n",
       "\\item 'Group'\n",
       "\\item 'sampletype'\n",
       "\\item 'log10shann'\n",
       "\\end{enumerate*}\n"
      ],
      "text/markdown": [
       "1. 'sample_id'\n",
       "2. 'Patient'\n",
       "3. 'cycle'\n",
       "4. 'FOLD'\n",
       "5. 'ATC'\n",
       "6. 'Age'\n",
       "7. 'Disease_type'\n",
       "8. 'TE_fold'\n",
       "9. 'CD3'\n",
       "10. 'EM'\n",
       "11. 'CM'\n",
       "12. 'Naïve'\n",
       "13. 'SCM'\n",
       "14. 'TE'\n",
       "15. 'EM%'\n",
       "16. 'CM%'\n",
       "17. 'Naïve%'\n",
       "18. 'SCM%'\n",
       "19. 'TE%'\n",
       "20. 'Naïve/TE'\n",
       "21. 'N+CM+SCM/TE+EM'\n",
       "22. 'PD-1'\n",
       "23. 'PDL1'\n",
       "24. 'LAG3'\n",
       "25. 'TIM3'\n",
       "26. 'CTLA4'\n",
       "27. 'PD1%'\n",
       "28. 'PDL1%'\n",
       "29. 'LAG3%'\n",
       "30. 'TIM3%'\n",
       "31. 'CTLA4%'\n",
       "32. 'Any NCR'\n",
       "33. 'PD1 + LAG3 + TIM3'\n",
       "34. 'cancergroup'\n",
       "35. 'agegroup'\n",
       "36. 'foldgroup'\n",
       "37. 'Remission'\n",
       "38. 'Relapse'\n",
       "39. 'Transplant'\n",
       "40. 'CART'\n",
       "41. 'TRB'\n",
       "42. 'Reads'\n",
       "43. 'CPKR'\n",
       "44. 'Average_reads'\n",
       "45. 'VMR'\n",
       "46. 'Max_reads'\n",
       "47. 'Singletons'\n",
       "48. 'Doubletons'\n",
       "49. 'qD'\n",
       "50. 'Sample_Coverage'\n",
       "51. 'observed_Richness'\n",
       "52. 'estimated_Richness'\n",
       "53. 'SE_Richeness'\n",
       "54. 'observed_Shannon'\n",
       "55. 'estimated_Shannon'\n",
       "56. 'SE_Shannon'\n",
       "57. 'observed_Simpson'\n",
       "58. 'estimated_Simpson'\n",
       "59. 'SE_Simpson'\n",
       "60. 'basename'\n",
       "61. 'file'\n",
       "62. 'Group'\n",
       "63. 'sampletype'\n",
       "64. 'log10shann'\n",
       "\n",
       "\n"
      ],
      "text/plain": [
       " [1] \"sample_id\"          \"Patient\"            \"cycle\"             \n",
       " [4] \"FOLD\"               \"ATC\"                \"Age\"               \n",
       " [7] \"Disease_type\"       \"TE_fold\"            \"CD3\"               \n",
       "[10] \"EM\"                 \"CM\"                 \"Naïve\"             \n",
       "[13] \"SCM\"                \"TE\"                 \"EM%\"               \n",
       "[16] \"CM%\"                \"Naïve%\"             \"SCM%\"              \n",
       "[19] \"TE%\"                \"Naïve/TE\"           \"N+CM+SCM/TE+EM\"    \n",
       "[22] \"PD-1\"               \"PDL1\"               \"LAG3\"              \n",
       "[25] \"TIM3\"               \"CTLA4\"              \"PD1%\"              \n",
       "[28] \"PDL1%\"              \"LAG3%\"              \"TIM3%\"             \n",
       "[31] \"CTLA4%\"             \"Any NCR\"            \"PD1 + LAG3 + TIM3\" \n",
       "[34] \"cancergroup\"        \"agegroup\"           \"foldgroup\"         \n",
       "[37] \"Remission\"          \"Relapse\"            \"Transplant\"        \n",
       "[40] \"CART\"               \"TRB\"                \"Reads\"             \n",
       "[43] \"CPKR\"               \"Average_reads\"      \"VMR\"               \n",
       "[46] \"Max_reads\"          \"Singletons\"         \"Doubletons\"        \n",
       "[49] \"qD\"                 \"Sample_Coverage\"    \"observed_Richness\" \n",
       "[52] \"estimated_Richness\" \"SE_Richeness\"       \"observed_Shannon\"  \n",
       "[55] \"estimated_Shannon\"  \"SE_Shannon\"         \"observed_Simpson\"  \n",
       "[58] \"estimated_Simpson\"  \"SE_Simpson\"         \"basename\"          \n",
       "[61] \"file\"               \"Group\"              \"sampletype\"        \n",
       "[64] \"log10shann\"        "
      ]
     },
     "metadata": {},
     "output_type": "display_data"
    }
   ],
   "source": [
    "colnames(tmp)"
   ]
  },
  {
   "cell_type": "code",
   "execution_count": 392,
   "metadata": {
    "vscode": {
     "languageId": "r"
    }
   },
   "outputs": [
    {
     "data": {
      "image/png": "[encoded data removed]",
      "text/plain": [
       "plot without title"
      ]
     },
     "metadata": {
      "image/png": {
       "height": 420,
       "width": 420
      }
     },
     "output_type": "display_data"
    }
   ],
   "source": [
    "ggplot(data = tmp, aes(y = TRB, x = Patient)) + geom_point() + facet_wrap(~cycle, ncol = 2) + theme_bw() + \n",
    "theme(axis.text.x = element_text(angle = 45, hjust = 1))"
   ]
  },
  {
   "attachments": {},
   "cell_type": "markdown",
   "metadata": {
    "vscode": {
     "languageId": "r"
    }
   },
   "source": [
    "# Find ranks"
   ]
  },
  {
   "cell_type": "code",
   "execution_count": 4,
   "metadata": {
    "vscode": {
     "languageId": "r"
    }
   },
   "outputs": [],
   "source": [
    "meta_div <- readr::read_rds(paste0(datapath, \"capTCRseq/meta_div_goodsamples.rds\"))"
   ]
  },
  {
   "cell_type": "code",
   "execution_count": 5,
   "metadata": {
    "vscode": {
     "languageId": "r"
    }
   },
   "outputs": [],
   "source": [
    "meta_div <- meta_div[ !is.na(meta_div$TRB),]"
   ]
  },
  {
   "cell_type": "code",
   "execution_count": 6,
   "metadata": {
    "vscode": {
     "languageId": "r"
    }
   },
   "outputs": [],
   "source": [
    "pbmc <- meta_div[ meta_div$sampletype == \"PBMC\",]\n",
    "cfdna <- meta_div[ meta_div$sampletype == \"cfDNA\",]"
   ]
  },
  {
   "cell_type": "code",
   "execution_count": 7,
   "metadata": {
    "vscode": {
     "languageId": "r"
    }
   },
   "outputs": [],
   "source": [
    "hlamat <- readr::read_rds(paste0(datapath, \"HLA/int_hla_matrix.rds\") )"
   ]
  },
  {
   "cell_type": "code",
   "execution_count": 8,
   "metadata": {
    "vscode": {
     "languageId": "r"
    }
   },
   "outputs": [],
   "source": [
    "int_hlaI <- hlamat[, c(\"A_1\", \"A_2\", \"B_1\", \"B_2\", \"C_1\", \"C_2\")]"
   ]
  },
  {
   "cell_type": "code",
   "execution_count": 9,
   "metadata": {
    "vscode": {
     "languageId": "r"
    }
   },
   "outputs": [],
   "source": [
    "# remove last three characters\n",
    "int_hlaI <- gsub(\"...$\", \"\", as.matrix(int_hlaI)) "
   ]
  },
  {
   "cell_type": "code",
   "execution_count": 10,
   "metadata": {
    "vscode": {
     "languageId": "r"
    }
   },
   "outputs": [
    {
     "data": {
      "text/html": [
       "<table class=\"dataframe\">\n",
       "<caption>A matrix: 6 x 6 of type chr</caption>\n",
       "<thead>\n",
       "\t<tr><th></th><th scope=col>A_1</th><th scope=col>A_2</th><th scope=col>B_1</th><th scope=col>B_2</th><th scope=col>C_1</th><th scope=col>C_2</th></tr>\n",
       "</thead>\n",
       "<tbody>\n",
       "\t<tr><th scope=row>315-05</th><td>A*02:01</td><td>A*02:05</td><td>B*35:01</td><td>B*49:01</td><td>C*04:01</td><td>C*07:01</td></tr>\n",
       "\t<tr><th scope=row>319-05</th><td>A*01:01</td><td>A*03:01</td><td>B*07:02</td><td>B*51:01</td><td>C*07:02</td><td>C*14:02</td></tr>\n",
       "\t<tr><th scope=row>323-03</th><td>A*11:01</td><td>A*23:01</td><td>B*41:01</td><td>B*49:01</td><td>C*07:01</td><td>C*17:01</td></tr>\n",
       "\t<tr><th scope=row>329-04</th><td>A*26:01</td><td>A*26:01</td><td>B*07:02</td><td>B*49:01</td><td>C*07:01</td><td>C*07:02</td></tr>\n",
       "\t<tr><th scope=row>330-05</th><td>A*02:01</td><td>A*33:03</td><td>B*13:02</td><td>B*18:01</td><td>C*05:01</td><td>C*06:02</td></tr>\n",
       "\t<tr><th scope=row>331-04</th><td>A*02:01</td><td>A*26:01</td><td>B*35:03</td><td>B*38:01</td><td>C*04:01</td><td>C*12:03</td></tr>\n",
       "</tbody>\n",
       "</table>\n"
      ],
      "text/latex": [
       "A matrix: 6 x 6 of type chr\n",
       "\\begin{tabular}{r|llllll}\n",
       "  & A\\_1 & A\\_2 & B\\_1 & B\\_2 & C\\_1 & C\\_2\\\\\n",
       "\\hline\n",
       "\t315-05 & A*02:01 & A*02:05 & B*35:01 & B*49:01 & C*04:01 & C*07:01\\\\\n",
       "\t319-05 & A*01:01 & A*03:01 & B*07:02 & B*51:01 & C*07:02 & C*14:02\\\\\n",
       "\t323-03 & A*11:01 & A*23:01 & B*41:01 & B*49:01 & C*07:01 & C*17:01\\\\\n",
       "\t329-04 & A*26:01 & A*26:01 & B*07:02 & B*49:01 & C*07:01 & C*07:02\\\\\n",
       "\t330-05 & A*02:01 & A*33:03 & B*13:02 & B*18:01 & C*05:01 & C*06:02\\\\\n",
       "\t331-04 & A*02:01 & A*26:01 & B*35:03 & B*38:01 & C*04:01 & C*12:03\\\\\n",
       "\\end{tabular}\n"
      ],
      "text/markdown": [
       "\n",
       "A matrix: 6 x 6 of type chr\n",
       "\n",
       "| <!--/--> | A_1 | A_2 | B_1 | B_2 | C_1 | C_2 |\n",
       "|---|---|---|---|---|---|---|\n",
       "| 315-05 | A*02:01 | A*02:05 | B*35:01 | B*49:01 | C*04:01 | C*07:01 |\n",
       "| 319-05 | A*01:01 | A*03:01 | B*07:02 | B*51:01 | C*07:02 | C*14:02 |\n",
       "| 323-03 | A*11:01 | A*23:01 | B*41:01 | B*49:01 | C*07:01 | C*17:01 |\n",
       "| 329-04 | A*26:01 | A*26:01 | B*07:02 | B*49:01 | C*07:01 | C*07:02 |\n",
       "| 330-05 | A*02:01 | A*33:03 | B*13:02 | B*18:01 | C*05:01 | C*06:02 |\n",
       "| 331-04 | A*02:01 | A*26:01 | B*35:03 | B*38:01 | C*04:01 | C*12:03 |\n",
       "\n"
      ],
      "text/plain": [
       "       A_1     A_2     B_1     B_2     C_1     C_2    \n",
       "315-05 A*02:01 A*02:05 B*35:01 B*49:01 C*04:01 C*07:01\n",
       "319-05 A*01:01 A*03:01 B*07:02 B*51:01 C*07:02 C*14:02\n",
       "323-03 A*11:01 A*23:01 B*41:01 B*49:01 C*07:01 C*17:01\n",
       "329-04 A*26:01 A*26:01 B*07:02 B*49:01 C*07:01 C*07:02\n",
       "330-05 A*02:01 A*33:03 B*13:02 B*18:01 C*05:01 C*06:02\n",
       "331-04 A*02:01 A*26:01 B*35:03 B*38:01 C*04:01 C*12:03"
      ]
     },
     "metadata": {},
     "output_type": "display_data"
    }
   ],
   "source": [
    "head(int_hlaI)"
   ]
  },
  {
   "cell_type": "code",
   "execution_count": 11,
   "metadata": {
    "vscode": {
     "languageId": "r"
    }
   },
   "outputs": [],
   "source": [
    "hlais <- apply(int_hlaI,1, function(x) {\n",
    "  paste(unlist(x), collapse = \",\")}) "
   ]
  },
  {
   "cell_type": "code",
   "execution_count": 12,
   "metadata": {
    "vscode": {
     "languageId": "r"
    }
   },
   "outputs": [
    {
     "data": {
      "text/html": [
       "'/Users/anabbi/Desktop/H4H/INTERCEPT/'"
      ],
      "text/latex": [
       "'/Users/anabbi/Desktop/H4H/INTERCEPT/'"
      ],
      "text/markdown": [
       "'/Users/anabbi/Desktop/H4H/INTERCEPT/'"
      ],
      "text/plain": [
       "[1] \"/Users/anabbi/Desktop/H4H/INTERCEPT/\""
      ]
     },
     "metadata": {},
     "output_type": "display_data"
    }
   ],
   "source": [
    "h4hpath"
   ]
  },
  {
   "cell_type": "code",
   "execution_count": 13,
   "metadata": {
    "vscode": {
     "languageId": "r"
    }
   },
   "outputs": [],
   "source": [
    "# readr::write_rds(hlais, paste0(h4hpath, \"analysis/HLA/int_hlaI.rds\") )"
   ]
  },
  {
   "cell_type": "code",
   "execution_count": 14,
   "metadata": {
    "vscode": {
     "languageId": "r"
    }
   },
   "outputs": [],
   "source": [
    "load(file = paste0(datapath, \"Adaptivedatasets/allAdaptive.RData\"))"
   ]
  },
  {
   "cell_type": "code",
   "execution_count": 15,
   "metadata": {
    "vscode": {
     "languageId": "r"
    }
   },
   "outputs": [
    {
     "data": {
      "text/html": [
       "<table class=\"dataframe\">\n",
       "<caption>A data.frame: 6 x 7</caption>\n",
       "<thead>\n",
       "\t<tr><th></th><th scope=col>sample_name</th><th scope=col>study</th><th scope=col>Agegroup</th><th scope=col>Sex</th><th scope=col>disease</th><th scope=col>subject</th><th scope=col>age</th></tr>\n",
       "\t<tr><th></th><th scope=col>&lt;chr&gt;</th><th scope=col>&lt;chr&gt;</th><th scope=col>&lt;chr&gt;</th><th scope=col>&lt;chr&gt;</th><th scope=col>&lt;chr&gt;</th><th scope=col>&lt;chr&gt;</th><th scope=col>&lt;dbl&gt;</th></tr>\n",
       "</thead>\n",
       "<tbody>\n",
       "\t<tr><th scope=row>1</th><td>Preterm_23_3  </td><td>Carey</td><td>Neonate</td><td>Male  </td><td>Ctrl</td><td>Preterm_23_3  </td><td> 0</td></tr>\n",
       "\t<tr><th scope=row>2</th><td>Preterm_25_5  </td><td>Carey</td><td>Neonate</td><td>Female</td><td>Ctrl</td><td>Preterm_25_5  </td><td> 0</td></tr>\n",
       "\t<tr><th scope=row>3</th><td>Preterm_26_B_2</td><td>Carey</td><td>Neonate</td><td>Male  </td><td>Ctrl</td><td>Preterm_26_B_2</td><td> 0</td></tr>\n",
       "\t<tr><th scope=row>4</th><td>Preterm_27_4  </td><td>Carey</td><td>Neonate</td><td>Female</td><td>Ctrl</td><td>Preterm_27_4  </td><td> 0</td></tr>\n",
       "\t<tr><th scope=row>5</th><td>Adult_1_15-04 </td><td>Carey</td><td>Adult  </td><td>NA    </td><td>Ctrl</td><td>Adult_1_15-04 </td><td>39</td></tr>\n",
       "\t<tr><th scope=row>6</th><td>Adult_2_15-07 </td><td>Carey</td><td>Adult  </td><td>NA    </td><td>Ctrl</td><td>Adult_2_15-07 </td><td>39</td></tr>\n",
       "</tbody>\n",
       "</table>\n"
      ],
      "text/latex": [
       "A data.frame: 6 x 7\n",
       "\\begin{tabular}{r|lllllll}\n",
       "  & sample\\_name & study & Agegroup & Sex & disease & subject & age\\\\\n",
       "  & <chr> & <chr> & <chr> & <chr> & <chr> & <chr> & <dbl>\\\\\n",
       "\\hline\n",
       "\t1 & Preterm\\_23\\_3   & Carey & Neonate & Male   & Ctrl & Preterm\\_23\\_3   &  0\\\\\n",
       "\t2 & Preterm\\_25\\_5   & Carey & Neonate & Female & Ctrl & Preterm\\_25\\_5   &  0\\\\\n",
       "\t3 & Preterm\\_26\\_B\\_2 & Carey & Neonate & Male   & Ctrl & Preterm\\_26\\_B\\_2 &  0\\\\\n",
       "\t4 & Preterm\\_27\\_4   & Carey & Neonate & Female & Ctrl & Preterm\\_27\\_4   &  0\\\\\n",
       "\t5 & Adult\\_1\\_15-04  & Carey & Adult   & NA     & Ctrl & Adult\\_1\\_15-04  & 39\\\\\n",
       "\t6 & Adult\\_2\\_15-07  & Carey & Adult   & NA     & Ctrl & Adult\\_2\\_15-07  & 39\\\\\n",
       "\\end{tabular}\n"
      ],
      "text/markdown": [
       "\n",
       "A data.frame: 6 x 7\n",
       "\n",
       "| <!--/--> | sample_name &lt;chr&gt; | study &lt;chr&gt; | Agegroup &lt;chr&gt; | Sex &lt;chr&gt; | disease &lt;chr&gt; | subject &lt;chr&gt; | age &lt;dbl&gt; |\n",
       "|---|---|---|---|---|---|---|---|\n",
       "| 1 | Preterm_23_3   | Carey | Neonate | Male   | Ctrl | Preterm_23_3   |  0 |\n",
       "| 2 | Preterm_25_5   | Carey | Neonate | Female | Ctrl | Preterm_25_5   |  0 |\n",
       "| 3 | Preterm_26_B_2 | Carey | Neonate | Male   | Ctrl | Preterm_26_B_2 |  0 |\n",
       "| 4 | Preterm_27_4   | Carey | Neonate | Female | Ctrl | Preterm_27_4   |  0 |\n",
       "| 5 | Adult_1_15-04  | Carey | Adult   | NA     | Ctrl | Adult_1_15-04  | 39 |\n",
       "| 6 | Adult_2_15-07  | Carey | Adult   | NA     | Ctrl | Adult_2_15-07  | 39 |\n",
       "\n"
      ],
      "text/plain": [
       "  sample_name    study Agegroup Sex    disease subject        age\n",
       "1 Preterm_23_3   Carey Neonate  Male   Ctrl    Preterm_23_3    0 \n",
       "2 Preterm_25_5   Carey Neonate  Female Ctrl    Preterm_25_5    0 \n",
       "3 Preterm_26_B_2 Carey Neonate  Male   Ctrl    Preterm_26_B_2  0 \n",
       "4 Preterm_27_4   Carey Neonate  Female Ctrl    Preterm_27_4    0 \n",
       "5 Adult_1_15-04  Carey Adult    NA     Ctrl    Adult_1_15-04  39 \n",
       "6 Adult_2_15-07  Carey Adult    NA     Ctrl    Adult_2_15-07  39 "
      ]
     },
     "metadata": {},
     "output_type": "display_data"
    }
   ],
   "source": [
    "head(allAdaptive)"
   ]
  },
  {
   "cell_type": "code",
   "execution_count": 16,
   "metadata": {
    "vscode": {
     "languageId": "r"
    }
   },
   "outputs": [],
   "source": [
    "mitch_meta <- allAdaptive[ allAdaptive$study == \"Mitchell\",]"
   ]
  },
  {
   "cell_type": "code",
   "execution_count": 17,
   "metadata": {
    "vscode": {
     "languageId": "r"
    }
   },
   "outputs": [],
   "source": [
    "int <- readr::read_rds(paste0(h4hpath, \"analysis/HLA/int_hlaI.rds\") )\n",
    "mitch <- readr::read_rds(paste0(h4hpath, \"analysis/HLA/mitch_hlaI.rds\") )"
   ]
  },
  {
   "cell_type": "code",
   "execution_count": 18,
   "metadata": {
    "vscode": {
     "languageId": "r"
    }
   },
   "outputs": [],
   "source": [
    "int_mitch <- c(int, mitch)"
   ]
  },
  {
   "cell_type": "code",
   "execution_count": 19,
   "metadata": {
    "vscode": {
     "languageId": "r"
    }
   },
   "outputs": [],
   "source": [
    "myranks <- readr::read_rds(paste0(h4hpath, \"analysis/HLA/myminranks.rds\") )"
   ]
  },
  {
   "cell_type": "code",
   "execution_count": 20,
   "metadata": {
    "vscode": {
     "languageId": "r"
    }
   },
   "outputs": [],
   "source": [
    "tmp<-as.data.frame(int_mitch)"
   ]
  },
  {
   "cell_type": "code",
   "execution_count": 21,
   "metadata": {
    "vscode": {
     "languageId": "r"
    }
   },
   "outputs": [],
   "source": [
    "tmp$ranks <- myranks[match(tmp$int_mitch, names(myranks))]"
   ]
  },
  {
   "cell_type": "code",
   "execution_count": 22,
   "metadata": {
    "vscode": {
     "languageId": "r"
    }
   },
   "outputs": [],
   "source": [
    "tmp <- tmp[ !is.na(tmp$ranks),]"
   ]
  },
  {
   "cell_type": "code",
   "execution_count": 23,
   "metadata": {
    "vscode": {
     "languageId": "r"
    }
   },
   "outputs": [
    {
     "data": {
      "text/html": [
       "<table class=\"dataframe\">\n",
       "<caption>A data.frame: 6 x 2</caption>\n",
       "<thead>\n",
       "\t<tr><th></th><th scope=col>int_mitch</th><th scope=col>ranks</th></tr>\n",
       "\t<tr><th></th><th scope=col>&lt;chr&gt;</th><th scope=col>&lt;dbl&gt;</th></tr>\n",
       "</thead>\n",
       "<tbody>\n",
       "\t<tr><th scope=row>310177_TCRB</th><td>A*01:01,A*03:01,B*07:02,B*08:01,C*07:01,C*07:02</td><td>87262841</td></tr>\n",
       "\t<tr><th scope=row>310283_TCRB</th><td>A*01:01,A*03:01,B*07:02,B*08:01,C*07:01,C*07:02</td><td>87262841</td></tr>\n",
       "\t<tr><th scope=row>Daisy-16_TCRB</th><td>A*24:02,A*02:01,B*15:01,B*35:01,C*03:03,C*04:01</td><td>56297306</td></tr>\n",
       "\t<tr><th scope=row>Daisy-19_TCRB</th><td>A*24:02,A*02:01,B*15:01,B*35:01,C*03:03,C*04:01</td><td>56297306</td></tr>\n",
       "\t<tr><th scope=row>Daisy-10_TCRB</th><td>A*24:02,A*02:01,B*15:01,B*35:01,C*03:03,C*04:01</td><td>56297306</td></tr>\n",
       "\t<tr><th scope=row>Daisy-2_TCRB</th><td>A*24:02,A*02:01,B*15:01,B*35:01,C*03:03,C*04:01</td><td>56297306</td></tr>\n",
       "</tbody>\n",
       "</table>\n"
      ],
      "text/latex": [
       "A data.frame: 6 x 2\n",
       "\\begin{tabular}{r|ll}\n",
       "  & int\\_mitch & ranks\\\\\n",
       "  & <chr> & <dbl>\\\\\n",
       "\\hline\n",
       "\t310177\\_TCRB & A*01:01,A*03:01,B*07:02,B*08:01,C*07:01,C*07:02 & 87262841\\\\\n",
       "\t310283\\_TCRB & A*01:01,A*03:01,B*07:02,B*08:01,C*07:01,C*07:02 & 87262841\\\\\n",
       "\tDaisy-16\\_TCRB & A*24:02,A*02:01,B*15:01,B*35:01,C*03:03,C*04:01 & 56297306\\\\\n",
       "\tDaisy-19\\_TCRB & A*24:02,A*02:01,B*15:01,B*35:01,C*03:03,C*04:01 & 56297306\\\\\n",
       "\tDaisy-10\\_TCRB & A*24:02,A*02:01,B*15:01,B*35:01,C*03:03,C*04:01 & 56297306\\\\\n",
       "\tDaisy-2\\_TCRB & A*24:02,A*02:01,B*15:01,B*35:01,C*03:03,C*04:01 & 56297306\\\\\n",
       "\\end{tabular}\n"
      ],
      "text/markdown": [
       "\n",
       "A data.frame: 6 x 2\n",
       "\n",
       "| <!--/--> | int_mitch &lt;chr&gt; | ranks &lt;dbl&gt; |\n",
       "|---|---|---|\n",
       "| 310177_TCRB | A*01:01,A*03:01,B*07:02,B*08:01,C*07:01,C*07:02 | 87262841 |\n",
       "| 310283_TCRB | A*01:01,A*03:01,B*07:02,B*08:01,C*07:01,C*07:02 | 87262841 |\n",
       "| Daisy-16_TCRB | A*24:02,A*02:01,B*15:01,B*35:01,C*03:03,C*04:01 | 56297306 |\n",
       "| Daisy-19_TCRB | A*24:02,A*02:01,B*15:01,B*35:01,C*03:03,C*04:01 | 56297306 |\n",
       "| Daisy-10_TCRB | A*24:02,A*02:01,B*15:01,B*35:01,C*03:03,C*04:01 | 56297306 |\n",
       "| Daisy-2_TCRB | A*24:02,A*02:01,B*15:01,B*35:01,C*03:03,C*04:01 | 56297306 |\n",
       "\n"
      ],
      "text/plain": [
       "              int_mitch                                       ranks   \n",
       "310177_TCRB   A*01:01,A*03:01,B*07:02,B*08:01,C*07:01,C*07:02 87262841\n",
       "310283_TCRB   A*01:01,A*03:01,B*07:02,B*08:01,C*07:01,C*07:02 87262841\n",
       "Daisy-16_TCRB A*24:02,A*02:01,B*15:01,B*35:01,C*03:03,C*04:01 56297306\n",
       "Daisy-19_TCRB A*24:02,A*02:01,B*15:01,B*35:01,C*03:03,C*04:01 56297306\n",
       "Daisy-10_TCRB A*24:02,A*02:01,B*15:01,B*35:01,C*03:03,C*04:01 56297306\n",
       "Daisy-2_TCRB  A*24:02,A*02:01,B*15:01,B*35:01,C*03:03,C*04:01 56297306"
      ]
     },
     "metadata": {},
     "output_type": "display_data"
    }
   ],
   "source": [
    "tail(tmp)"
   ]
  },
  {
   "cell_type": "code",
   "execution_count": 24,
   "metadata": {
    "vscode": {
     "languageId": "r"
    }
   },
   "outputs": [],
   "source": [
    "tmp$Patient[!grepl(\"TCRB\", rownames(tmp))] <- paste0(\"CHP_\", rownames(tmp)[!grepl(\"TCRB\", rownames(tmp))])"
   ]
  },
  {
   "cell_type": "code",
   "execution_count": 25,
   "metadata": {
    "vscode": {
     "languageId": "r"
    }
   },
   "outputs": [
    {
     "data": {
      "text/html": [
       "<table class=\"dataframe\">\n",
       "<caption>A data.frame: 6 x 3</caption>\n",
       "<thead>\n",
       "\t<tr><th></th><th scope=col>int_mitch</th><th scope=col>ranks</th><th scope=col>Patient</th></tr>\n",
       "\t<tr><th></th><th scope=col>&lt;chr&gt;</th><th scope=col>&lt;dbl&gt;</th><th scope=col>&lt;chr&gt;</th></tr>\n",
       "</thead>\n",
       "<tbody>\n",
       "\t<tr><th scope=row>319-05</th><td>A*01:01,A*03:01,B*07:02,B*51:01,C*07:02,C*14:02</td><td> 29238686</td><td>CHP_319-05</td></tr>\n",
       "\t<tr><th scope=row>331-04</th><td>A*02:01,A*26:01,B*35:03,B*38:01,C*04:01,C*12:03</td><td>250536652</td><td>CHP_331-04</td></tr>\n",
       "\t<tr><th scope=row>343-03</th><td>A*02:01,A*03:01,B*18:01,B*35:03,C*04:01,C*07:01</td><td>435585459</td><td>CHP_343-03</td></tr>\n",
       "\t<tr><th scope=row>345-02</th><td>A*02:01,A*25:01,B*07:02,B*18:01,C*07:02,C*12:03</td><td> 23417697</td><td>CHP_345-02</td></tr>\n",
       "\t<tr><th scope=row>347-05</th><td>A*03:01,A*29:02,B*07:02,B*35:01,C*04:01,C*07:02</td><td> 64260012</td><td>CHP_347-05</td></tr>\n",
       "\t<tr><th scope=row>348-04</th><td>A*26:01,A*26:01,B*38:01,B*38:01,C*12:03,C*12:03</td><td> 25382649</td><td>CHP_348-04</td></tr>\n",
       "</tbody>\n",
       "</table>\n"
      ],
      "text/latex": [
       "A data.frame: 6 x 3\n",
       "\\begin{tabular}{r|lll}\n",
       "  & int\\_mitch & ranks & Patient\\\\\n",
       "  & <chr> & <dbl> & <chr>\\\\\n",
       "\\hline\n",
       "\t319-05 & A*01:01,A*03:01,B*07:02,B*51:01,C*07:02,C*14:02 &  29238686 & CHP\\_319-05\\\\\n",
       "\t331-04 & A*02:01,A*26:01,B*35:03,B*38:01,C*04:01,C*12:03 & 250536652 & CHP\\_331-04\\\\\n",
       "\t343-03 & A*02:01,A*03:01,B*18:01,B*35:03,C*04:01,C*07:01 & 435585459 & CHP\\_343-03\\\\\n",
       "\t345-02 & A*02:01,A*25:01,B*07:02,B*18:01,C*07:02,C*12:03 &  23417697 & CHP\\_345-02\\\\\n",
       "\t347-05 & A*03:01,A*29:02,B*07:02,B*35:01,C*04:01,C*07:02 &  64260012 & CHP\\_347-05\\\\\n",
       "\t348-04 & A*26:01,A*26:01,B*38:01,B*38:01,C*12:03,C*12:03 &  25382649 & CHP\\_348-04\\\\\n",
       "\\end{tabular}\n"
      ],
      "text/markdown": [
       "\n",
       "A data.frame: 6 x 3\n",
       "\n",
       "| <!--/--> | int_mitch &lt;chr&gt; | ranks &lt;dbl&gt; | Patient &lt;chr&gt; |\n",
       "|---|---|---|---|\n",
       "| 319-05 | A*01:01,A*03:01,B*07:02,B*51:01,C*07:02,C*14:02 |  29238686 | CHP_319-05 |\n",
       "| 331-04 | A*02:01,A*26:01,B*35:03,B*38:01,C*04:01,C*12:03 | 250536652 | CHP_331-04 |\n",
       "| 343-03 | A*02:01,A*03:01,B*18:01,B*35:03,C*04:01,C*07:01 | 435585459 | CHP_343-03 |\n",
       "| 345-02 | A*02:01,A*25:01,B*07:02,B*18:01,C*07:02,C*12:03 |  23417697 | CHP_345-02 |\n",
       "| 347-05 | A*03:01,A*29:02,B*07:02,B*35:01,C*04:01,C*07:02 |  64260012 | CHP_347-05 |\n",
       "| 348-04 | A*26:01,A*26:01,B*38:01,B*38:01,C*12:03,C*12:03 |  25382649 | CHP_348-04 |\n",
       "\n"
      ],
      "text/plain": [
       "       int_mitch                                       ranks     Patient   \n",
       "319-05 A*01:01,A*03:01,B*07:02,B*51:01,C*07:02,C*14:02  29238686 CHP_319-05\n",
       "331-04 A*02:01,A*26:01,B*35:03,B*38:01,C*04:01,C*12:03 250536652 CHP_331-04\n",
       "343-03 A*02:01,A*03:01,B*18:01,B*35:03,C*04:01,C*07:01 435585459 CHP_343-03\n",
       "345-02 A*02:01,A*25:01,B*07:02,B*18:01,C*07:02,C*12:03  23417697 CHP_345-02\n",
       "347-05 A*03:01,A*29:02,B*07:02,B*35:01,C*04:01,C*07:02  64260012 CHP_347-05\n",
       "348-04 A*26:01,A*26:01,B*38:01,B*38:01,C*12:03,C*12:03  25382649 CHP_348-04"
      ]
     },
     "metadata": {},
     "output_type": "display_data"
    }
   ],
   "source": [
    "head(tmp)"
   ]
  },
  {
   "cell_type": "code",
   "execution_count": 26,
   "metadata": {
    "vscode": {
     "languageId": "r"
    }
   },
   "outputs": [],
   "source": [
    "tmp$Patient[!grepl(\"TCRB\", rownames(tmp))] <- gsub(\"-.*\", \"\", tmp$Patient[!grepl(\"TCRB\", rownames(tmp))])"
   ]
  },
  {
   "cell_type": "code",
   "execution_count": 27,
   "metadata": {
    "vscode": {
     "languageId": "r"
    }
   },
   "outputs": [
    {
     "data": {
      "text/html": [
       "<table class=\"dataframe\">\n",
       "<caption>A data.frame: 1 x 7</caption>\n",
       "<thead>\n",
       "\t<tr><th></th><th scope=col>sample_name</th><th scope=col>study</th><th scope=col>Agegroup</th><th scope=col>Sex</th><th scope=col>disease</th><th scope=col>subject</th><th scope=col>age</th></tr>\n",
       "\t<tr><th></th><th scope=col>&lt;chr&gt;</th><th scope=col>&lt;chr&gt;</th><th scope=col>&lt;chr&gt;</th><th scope=col>&lt;chr&gt;</th><th scope=col>&lt;chr&gt;</th><th scope=col>&lt;chr&gt;</th><th scope=col>&lt;dbl&gt;</th></tr>\n",
       "</thead>\n",
       "<tbody>\n",
       "\t<tr><th scope=row>264</th><td>310177_TCRB</td><td>Mitchell</td><td>Child</td><td>Male</td><td>T1D</td><td>Subject 010</td><td>9</td></tr>\n",
       "</tbody>\n",
       "</table>\n"
      ],
      "text/latex": [
       "A data.frame: 1 x 7\n",
       "\\begin{tabular}{r|lllllll}\n",
       "  & sample\\_name & study & Agegroup & Sex & disease & subject & age\\\\\n",
       "  & <chr> & <chr> & <chr> & <chr> & <chr> & <chr> & <dbl>\\\\\n",
       "\\hline\n",
       "\t264 & 310177\\_TCRB & Mitchell & Child & Male & T1D & Subject 010 & 9\\\\\n",
       "\\end{tabular}\n"
      ],
      "text/markdown": [
       "\n",
       "A data.frame: 1 x 7\n",
       "\n",
       "| <!--/--> | sample_name &lt;chr&gt; | study &lt;chr&gt; | Agegroup &lt;chr&gt; | Sex &lt;chr&gt; | disease &lt;chr&gt; | subject &lt;chr&gt; | age &lt;dbl&gt; |\n",
       "|---|---|---|---|---|---|---|---|\n",
       "| 264 | 310177_TCRB | Mitchell | Child | Male | T1D | Subject 010 | 9 |\n",
       "\n"
      ],
      "text/plain": [
       "    sample_name study    Agegroup Sex  disease subject     age\n",
       "264 310177_TCRB Mitchell Child    Male T1D     Subject 010 9  "
      ]
     },
     "metadata": {},
     "output_type": "display_data"
    }
   ],
   "source": [
    "mitch_meta[ mitch_meta$sample_name == \"310177_TCRB\",]"
   ]
  },
  {
   "cell_type": "code",
   "execution_count": 28,
   "metadata": {
    "vscode": {
     "languageId": "r"
    }
   },
   "outputs": [],
   "source": [
    "tmp$Patient[is.na(tmp$Patient)] <- mitch_meta$subject[match(rownames(tmp)[is.na(tmp$Patient)], mitch_meta$sample_name)]"
   ]
  },
  {
   "cell_type": "code",
   "execution_count": 29,
   "metadata": {
    "vscode": {
     "languageId": "r"
    }
   },
   "outputs": [
    {
     "data": {
      "text/html": [
       "<table class=\"dataframe\">\n",
       "<caption>A data.frame: 6 x 3</caption>\n",
       "<thead>\n",
       "\t<tr><th></th><th scope=col>int_mitch</th><th scope=col>ranks</th><th scope=col>Patient</th></tr>\n",
       "\t<tr><th></th><th scope=col>&lt;chr&gt;</th><th scope=col>&lt;dbl&gt;</th><th scope=col>&lt;chr&gt;</th></tr>\n",
       "</thead>\n",
       "<tbody>\n",
       "\t<tr><th scope=row>319-05</th><td>A*01:01,A*03:01,B*07:02,B*51:01,C*07:02,C*14:02</td><td> 29238686</td><td>CHP_319</td></tr>\n",
       "\t<tr><th scope=row>331-04</th><td>A*02:01,A*26:01,B*35:03,B*38:01,C*04:01,C*12:03</td><td>250536652</td><td>CHP_331</td></tr>\n",
       "\t<tr><th scope=row>343-03</th><td>A*02:01,A*03:01,B*18:01,B*35:03,C*04:01,C*07:01</td><td>435585459</td><td>CHP_343</td></tr>\n",
       "\t<tr><th scope=row>345-02</th><td>A*02:01,A*25:01,B*07:02,B*18:01,C*07:02,C*12:03</td><td> 23417697</td><td>CHP_345</td></tr>\n",
       "\t<tr><th scope=row>347-05</th><td>A*03:01,A*29:02,B*07:02,B*35:01,C*04:01,C*07:02</td><td> 64260012</td><td>CHP_347</td></tr>\n",
       "\t<tr><th scope=row>348-04</th><td>A*26:01,A*26:01,B*38:01,B*38:01,C*12:03,C*12:03</td><td> 25382649</td><td>CHP_348</td></tr>\n",
       "</tbody>\n",
       "</table>\n"
      ],
      "text/latex": [
       "A data.frame: 6 x 3\n",
       "\\begin{tabular}{r|lll}\n",
       "  & int\\_mitch & ranks & Patient\\\\\n",
       "  & <chr> & <dbl> & <chr>\\\\\n",
       "\\hline\n",
       "\t319-05 & A*01:01,A*03:01,B*07:02,B*51:01,C*07:02,C*14:02 &  29238686 & CHP\\_319\\\\\n",
       "\t331-04 & A*02:01,A*26:01,B*35:03,B*38:01,C*04:01,C*12:03 & 250536652 & CHP\\_331\\\\\n",
       "\t343-03 & A*02:01,A*03:01,B*18:01,B*35:03,C*04:01,C*07:01 & 435585459 & CHP\\_343\\\\\n",
       "\t345-02 & A*02:01,A*25:01,B*07:02,B*18:01,C*07:02,C*12:03 &  23417697 & CHP\\_345\\\\\n",
       "\t347-05 & A*03:01,A*29:02,B*07:02,B*35:01,C*04:01,C*07:02 &  64260012 & CHP\\_347\\\\\n",
       "\t348-04 & A*26:01,A*26:01,B*38:01,B*38:01,C*12:03,C*12:03 &  25382649 & CHP\\_348\\\\\n",
       "\\end{tabular}\n"
      ],
      "text/markdown": [
       "\n",
       "A data.frame: 6 x 3\n",
       "\n",
       "| <!--/--> | int_mitch &lt;chr&gt; | ranks &lt;dbl&gt; | Patient &lt;chr&gt; |\n",
       "|---|---|---|---|\n",
       "| 319-05 | A*01:01,A*03:01,B*07:02,B*51:01,C*07:02,C*14:02 |  29238686 | CHP_319 |\n",
       "| 331-04 | A*02:01,A*26:01,B*35:03,B*38:01,C*04:01,C*12:03 | 250536652 | CHP_331 |\n",
       "| 343-03 | A*02:01,A*03:01,B*18:01,B*35:03,C*04:01,C*07:01 | 435585459 | CHP_343 |\n",
       "| 345-02 | A*02:01,A*25:01,B*07:02,B*18:01,C*07:02,C*12:03 |  23417697 | CHP_345 |\n",
       "| 347-05 | A*03:01,A*29:02,B*07:02,B*35:01,C*04:01,C*07:02 |  64260012 | CHP_347 |\n",
       "| 348-04 | A*26:01,A*26:01,B*38:01,B*38:01,C*12:03,C*12:03 |  25382649 | CHP_348 |\n",
       "\n"
      ],
      "text/plain": [
       "       int_mitch                                       ranks     Patient\n",
       "319-05 A*01:01,A*03:01,B*07:02,B*51:01,C*07:02,C*14:02  29238686 CHP_319\n",
       "331-04 A*02:01,A*26:01,B*35:03,B*38:01,C*04:01,C*12:03 250536652 CHP_331\n",
       "343-03 A*02:01,A*03:01,B*18:01,B*35:03,C*04:01,C*07:01 435585459 CHP_343\n",
       "345-02 A*02:01,A*25:01,B*07:02,B*18:01,C*07:02,C*12:03  23417697 CHP_345\n",
       "347-05 A*03:01,A*29:02,B*07:02,B*35:01,C*04:01,C*07:02  64260012 CHP_347\n",
       "348-04 A*26:01,A*26:01,B*38:01,B*38:01,C*12:03,C*12:03  25382649 CHP_348"
      ]
     },
     "metadata": {},
     "output_type": "display_data"
    }
   ],
   "source": [
    "head(tmp)"
   ]
  },
  {
   "cell_type": "code",
   "execution_count": 30,
   "metadata": {
    "vscode": {
     "languageId": "r"
    }
   },
   "outputs": [],
   "source": [
    "tmp <- tmp[!duplicated(tmp$Patient),]"
   ]
  },
  {
   "cell_type": "code",
   "execution_count": 31,
   "metadata": {
    "vscode": {
     "languageId": "r"
    }
   },
   "outputs": [],
   "source": [
    "tmp$grp <- NA\n",
    "tmp$grp[ grepl(\"CHP\", tmp$Patient)] <- \"CHP\"\n",
    "tmp$grp[ grepl(\"Subject\", tmp$Patient)] <- \"T1D\"\n",
    "tmp$grp[ grepl(\"Control\", tmp$Patient)] <- \"Ctrl\""
   ]
  },
  {
   "cell_type": "code",
   "execution_count": 32,
   "metadata": {
    "vscode": {
     "languageId": "r"
    }
   },
   "outputs": [
    {
     "data": {
      "text/plain": [
       "\n",
       " CHP Ctrl  T1D \n",
       "  25    7    7 "
      ]
     },
     "metadata": {},
     "output_type": "display_data"
    }
   ],
   "source": [
    "table(tmp$grp)"
   ]
  },
  {
   "cell_type": "code",
   "execution_count": 33,
   "metadata": {
    "vscode": {
     "languageId": "r"
    }
   },
   "outputs": [
    {
     "data": {
      "image/png": "[encoded data removed]",
      "text/plain": [
       "plot without title"
      ]
     },
     "metadata": {
      "image/png": {
       "height": 420,
       "width": 420
      }
     },
     "output_type": "display_data"
    }
   ],
   "source": [
    "ggplot(tmp) + geom_point(aes(x = ranks, y = grp ))"
   ]
  },
  {
   "cell_type": "code",
   "execution_count": 191,
   "metadata": {
    "vscode": {
     "languageId": "r"
    }
   },
   "outputs": [],
   "source": [
    "  # pbmc <- cfdna"
   ]
  },
  {
   "cell_type": "code",
   "execution_count": 34,
   "metadata": {
    "vscode": {
     "languageId": "r"
    }
   },
   "outputs": [],
   "source": [
    "pbmc1 <- pbmc[ pbmc$Patient %in% tmp$Patient,]"
   ]
  },
  {
   "cell_type": "code",
   "execution_count": 35,
   "metadata": {
    "vscode": {
     "languageId": "r"
    }
   },
   "outputs": [
    {
     "data": {
      "text/html": [
       "<style>\n",
       ".list-inline {list-style: none; margin:0; padding: 0}\n",
       ".list-inline>li {display: inline-block}\n",
       ".list-inline>li:not(:last-child)::after {content: \"\\00b7\"; padding: 0 .5ex}\n",
       "</style>\n",
       "<ol class=list-inline><li>63</li><li>66</li></ol>\n"
      ],
      "text/latex": [
       "\\begin{enumerate*}\n",
       "\\item 63\n",
       "\\item 66\n",
       "\\end{enumerate*}\n"
      ],
      "text/markdown": [
       "1. 63\n",
       "2. 66\n",
       "\n",
       "\n"
      ],
      "text/plain": [
       "[1] 63 66"
      ]
     },
     "metadata": {},
     "output_type": "display_data"
    }
   ],
   "source": [
    "dim(pbmc1)"
   ]
  },
  {
   "cell_type": "code",
   "execution_count": 36,
   "metadata": {
    "vscode": {
     "languageId": "r"
    }
   },
   "outputs": [],
   "source": [
    "pbmc1$ranks <- tmp$ranks[ match(pbmc1$Patient, tmp$Patient)]"
   ]
  },
  {
   "cell_type": "code",
   "execution_count": 37,
   "metadata": {
    "vscode": {
     "languageId": "r"
    }
   },
   "outputs": [
    {
     "data": {
      "image/png": "[encoded data removed]",
      "text/plain": [
       "plot without title"
      ]
     },
     "metadata": {
      "image/png": {
       "height": 420,
       "width": 420
      }
     },
     "output_type": "display_data"
    }
   ],
   "source": [
    "ggplot(pbmc1[ pbmc1$cycle != \"X01\",]) + geom_point(aes(x = (ranks), y = `log10shann`, color = cancergroup), size = 5)"
   ]
  },
  {
   "cell_type": "code",
   "execution_count": 41,
   "metadata": {
    "vscode": {
     "languageId": "r"
    }
   },
   "outputs": [
    {
     "name": "stderr",
     "output_type": "stream",
     "text": [
      "\n",
      "Attaching package: ‘dplyr’\n",
      "\n",
      "\n",
      "The following objects are masked from ‘package:stats’:\n",
      "\n",
      "    filter, lag\n",
      "\n",
      "\n",
      "The following objects are masked from ‘package:base’:\n",
      "\n",
      "    intersect, setdiff, setequal, union\n",
      "\n",
      "\n"
     ]
    }
   ],
   "source": [
    "library(dplyr)"
   ]
  },
  {
   "cell_type": "code",
   "execution_count": 43,
   "metadata": {
    "vscode": {
     "languageId": "r"
    }
   },
   "outputs": [],
   "source": [
    "pbmc1$cyclenum <- as.numeric(gsub(\"X0\", \"\", pbmc1$cycle) )"
   ]
  },
  {
   "cell_type": "code",
   "execution_count": 44,
   "metadata": {
    "vscode": {
     "languageId": "r"
    }
   },
   "outputs": [],
   "source": [
    "result2 <- pbmc1 %>%\n",
    "    group_by(Patient) %>%\n",
    "    mutate(AUC_N = trapz(cyclenum, `Naïve%`) / n() ) %>%\n",
    "    mutate(AUC_CM = trapz(cyclenum, `CM%`) / n() ) %>%\n",
    "    mutate(AUC_SCM = trapz(cyclenum, `SCM%`) / n()  ) %>%\n",
    "    mutate(AUC_EM = trapz(cyclenum, `EM%`) / n() ) %>%\n",
    "    mutate(AUC_TE = trapz(cyclenum, `TE%`) / n() ) %>%\n",
    "    mutate(AUC_LAG = trapz(cyclenum, `LAG3%`) / n() ) %>%\n",
    "    mutate(AUC_TIM = trapz(cyclenum, `TIM3%`) / n() ) %>%\n",
    "    mutate(AUC_PD1 = trapz(cyclenum, `PD1%`) / n() ) %>%\n",
    "    mutate(AUC_TCR = trapz(cyclenum, `log10shann`) / n() ) %>%\n",
    "    # mutate(AUC_cfTCR = trapz(cyclenum, DifferencecfTCR) / n() ) %>%\n",
    "    ungroup()"
   ]
  },
  {
   "cell_type": "code",
   "execution_count": 46,
   "metadata": {
    "vscode": {
     "languageId": "r"
    }
   },
   "outputs": [],
   "source": [
    "mypts <- result2[ !duplicated(result2$Patient), ]"
   ]
  },
  {
   "cell_type": "code",
   "execution_count": 48,
   "metadata": {
    "vscode": {
     "languageId": "r"
    }
   },
   "outputs": [
    {
     "data": {
      "text/html": [
       "<style>\n",
       ".list-inline {list-style: none; margin:0; padding: 0}\n",
       ".list-inline>li {display: inline-block}\n",
       ".list-inline>li:not(:last-child)::after {content: \"\\00b7\"; padding: 0 .5ex}\n",
       "</style>\n",
       "<ol class=list-inline><li>29238686</li><li>250536652</li><li>435585459</li><li>23417697</li><li>64260012</li><li>25382649</li><li>62079292</li><li>146076316</li><li>227728580</li><li>69315239</li><li>282878244</li><li>146505696</li><li>90577691</li><li>81939866</li><li>232916385</li><li>23417497</li><li>67396467</li><li>227967050</li><li>87262491</li><li>141359611</li><li>146075721</li><li>91761916</li><li>120179747</li><li>12502854</li></ol>\n"
      ],
      "text/latex": [
       "\\begin{enumerate*}\n",
       "\\item 29238686\n",
       "\\item 250536652\n",
       "\\item 435585459\n",
       "\\item 23417697\n",
       "\\item 64260012\n",
       "\\item 25382649\n",
       "\\item 62079292\n",
       "\\item 146076316\n",
       "\\item 227728580\n",
       "\\item 69315239\n",
       "\\item 282878244\n",
       "\\item 146505696\n",
       "\\item 90577691\n",
       "\\item 81939866\n",
       "\\item 232916385\n",
       "\\item 23417497\n",
       "\\item 67396467\n",
       "\\item 227967050\n",
       "\\item 87262491\n",
       "\\item 141359611\n",
       "\\item 146075721\n",
       "\\item 91761916\n",
       "\\item 120179747\n",
       "\\item 12502854\n",
       "\\end{enumerate*}\n"
      ],
      "text/markdown": [
       "1. 29238686\n",
       "2. 250536652\n",
       "3. 435585459\n",
       "4. 23417697\n",
       "5. 64260012\n",
       "6. 25382649\n",
       "7. 62079292\n",
       "8. 146076316\n",
       "9. 227728580\n",
       "10. 69315239\n",
       "11. 282878244\n",
       "12. 146505696\n",
       "13. 90577691\n",
       "14. 81939866\n",
       "15. 232916385\n",
       "16. 23417497\n",
       "17. 67396467\n",
       "18. 227967050\n",
       "19. 87262491\n",
       "20. 141359611\n",
       "21. 146075721\n",
       "22. 91761916\n",
       "23. 120179747\n",
       "24. 12502854\n",
       "\n",
       "\n"
      ],
      "text/plain": [
       " [1]  29238686 250536652 435585459  23417697  64260012  25382649  62079292\n",
       " [8] 146076316 227728580  69315239 282878244 146505696  90577691  81939866\n",
       "[15] 232916385  23417497  67396467 227967050  87262491 141359611 146075721\n",
       "[22]  91761916 120179747  12502854"
      ]
     },
     "metadata": {},
     "output_type": "display_data"
    }
   ],
   "source": [
    "mypts$ranks"
   ]
  },
  {
   "cell_type": "code",
   "execution_count": 67,
   "metadata": {
    "vscode": {
     "languageId": "r"
    }
   },
   "outputs": [
    {
     "data": {
      "text/html": [
       "<style>\n",
       ".list-inline {list-style: none; margin:0; padding: 0}\n",
       ".list-inline>li {display: inline-block}\n",
       ".list-inline>li:not(:last-child)::after {content: \"\\00b7\"; padding: 0 .5ex}\n",
       "</style>\n",
       "<ol class=list-inline><li>'sample_id'</li><li>'Patient'</li><li>'cycle'</li><li>'FOLD'</li><li>'ATC'</li><li>'Age'</li><li>'Disease_type'</li><li>'TE_fold'</li><li>'CD3'</li><li>'EM'</li><li>'CM'</li><li>'Naïve'</li><li>'SCM'</li><li>'TE'</li><li>'EM%'</li><li>'CM%'</li><li>'Naïve%'</li><li>'SCM%'</li><li>'TE%'</li><li>'Naïve/TE'</li><li>'N+CM+SCM/TE+EM'</li><li>'PD-1'</li><li>'PDL1'</li><li>'LAG3'</li><li>'TIM3'</li><li>'CTLA4'</li><li>'PD1%'</li><li>'PDL1%'</li><li>'LAG3%'</li><li>'TIM3%'</li><li>'CTLA4%'</li><li>'Any NCR'</li><li>'PD1 + LAG3 + TIM3'</li><li>'cancergroup'</li><li>'agegroup'</li><li>'foldgroup'</li><li>'Remission'</li><li>'Relapse'</li><li>'Transplant'</li><li>'CART'</li><li>'vital_status'</li><li>'LOF'</li><li>'TRB'</li><li>'Reads'</li><li>'CPKR'</li><li>'Average_reads'</li><li>'VMR'</li><li>'Max_reads'</li><li>'Singletons'</li><li>'Doubletons'</li><li>'qD'</li><li>'Sample_Coverage'</li><li>'observed_Richness'</li><li>'estimated_Richness'</li><li>'SE_Richeness'</li><li>'observed_Shannon'</li><li>'estimated_Shannon'</li><li>'SE_Shannon'</li><li>'observed_Simpson'</li><li>'estimated_Simpson'</li><li>'SE_Simpson'</li><li>'basename'</li><li>'file'</li><li>'sampletype'</li><li>'Group'</li><li>'log10shann'</li><li>'ranks'</li><li>'cyclenum'</li><li>'AUC_N'</li><li>'AUC_CM'</li><li>'AUC_SCM'</li><li>'AUC_EM'</li><li>'AUC_TE'</li><li>'AUC_LAG'</li><li>'AUC_TIM'</li><li>'AUC_PD1'</li><li>'AUC_TCR'</li></ol>\n"
      ],
      "text/latex": [
       "\\begin{enumerate*}\n",
       "\\item 'sample\\_id'\n",
       "\\item 'Patient'\n",
       "\\item 'cycle'\n",
       "\\item 'FOLD'\n",
       "\\item 'ATC'\n",
       "\\item 'Age'\n",
       "\\item 'Disease\\_type'\n",
       "\\item 'TE\\_fold'\n",
       "\\item 'CD3'\n",
       "\\item 'EM'\n",
       "\\item 'CM'\n",
       "\\item 'Naïve'\n",
       "\\item 'SCM'\n",
       "\\item 'TE'\n",
       "\\item 'EM\\%'\n",
       "\\item 'CM\\%'\n",
       "\\item 'Naïve\\%'\n",
       "\\item 'SCM\\%'\n",
       "\\item 'TE\\%'\n",
       "\\item 'Naïve/TE'\n",
       "\\item 'N+CM+SCM/TE+EM'\n",
       "\\item 'PD-1'\n",
       "\\item 'PDL1'\n",
       "\\item 'LAG3'\n",
       "\\item 'TIM3'\n",
       "\\item 'CTLA4'\n",
       "\\item 'PD1\\%'\n",
       "\\item 'PDL1\\%'\n",
       "\\item 'LAG3\\%'\n",
       "\\item 'TIM3\\%'\n",
       "\\item 'CTLA4\\%'\n",
       "\\item 'Any NCR'\n",
       "\\item 'PD1 + LAG3 + TIM3'\n",
       "\\item 'cancergroup'\n",
       "\\item 'agegroup'\n",
       "\\item 'foldgroup'\n",
       "\\item 'Remission'\n",
       "\\item 'Relapse'\n",
       "\\item 'Transplant'\n",
       "\\item 'CART'\n",
       "\\item 'vital\\_status'\n",
       "\\item 'LOF'\n",
       "\\item 'TRB'\n",
       "\\item 'Reads'\n",
       "\\item 'CPKR'\n",
       "\\item 'Average\\_reads'\n",
       "\\item 'VMR'\n",
       "\\item 'Max\\_reads'\n",
       "\\item 'Singletons'\n",
       "\\item 'Doubletons'\n",
       "\\item 'qD'\n",
       "\\item 'Sample\\_Coverage'\n",
       "\\item 'observed\\_Richness'\n",
       "\\item 'estimated\\_Richness'\n",
       "\\item 'SE\\_Richeness'\n",
       "\\item 'observed\\_Shannon'\n",
       "\\item 'estimated\\_Shannon'\n",
       "\\item 'SE\\_Shannon'\n",
       "\\item 'observed\\_Simpson'\n",
       "\\item 'estimated\\_Simpson'\n",
       "\\item 'SE\\_Simpson'\n",
       "\\item 'basename'\n",
       "\\item 'file'\n",
       "\\item 'sampletype'\n",
       "\\item 'Group'\n",
       "\\item 'log10shann'\n",
       "\\item 'ranks'\n",
       "\\item 'cyclenum'\n",
       "\\item 'AUC\\_N'\n",
       "\\item 'AUC\\_CM'\n",
       "\\item 'AUC\\_SCM'\n",
       "\\item 'AUC\\_EM'\n",
       "\\item 'AUC\\_TE'\n",
       "\\item 'AUC\\_LAG'\n",
       "\\item 'AUC\\_TIM'\n",
       "\\item 'AUC\\_PD1'\n",
       "\\item 'AUC\\_TCR'\n",
       "\\end{enumerate*}\n"
      ],
      "text/markdown": [
       "1. 'sample_id'\n",
       "2. 'Patient'\n",
       "3. 'cycle'\n",
       "4. 'FOLD'\n",
       "5. 'ATC'\n",
       "6. 'Age'\n",
       "7. 'Disease_type'\n",
       "8. 'TE_fold'\n",
       "9. 'CD3'\n",
       "10. 'EM'\n",
       "11. 'CM'\n",
       "12. 'Naïve'\n",
       "13. 'SCM'\n",
       "14. 'TE'\n",
       "15. 'EM%'\n",
       "16. 'CM%'\n",
       "17. 'Naïve%'\n",
       "18. 'SCM%'\n",
       "19. 'TE%'\n",
       "20. 'Naïve/TE'\n",
       "21. 'N+CM+SCM/TE+EM'\n",
       "22. 'PD-1'\n",
       "23. 'PDL1'\n",
       "24. 'LAG3'\n",
       "25. 'TIM3'\n",
       "26. 'CTLA4'\n",
       "27. 'PD1%'\n",
       "28. 'PDL1%'\n",
       "29. 'LAG3%'\n",
       "30. 'TIM3%'\n",
       "31. 'CTLA4%'\n",
       "32. 'Any NCR'\n",
       "33. 'PD1 + LAG3 + TIM3'\n",
       "34. 'cancergroup'\n",
       "35. 'agegroup'\n",
       "36. 'foldgroup'\n",
       "37. 'Remission'\n",
       "38. 'Relapse'\n",
       "39. 'Transplant'\n",
       "40. 'CART'\n",
       "41. 'vital_status'\n",
       "42. 'LOF'\n",
       "43. 'TRB'\n",
       "44. 'Reads'\n",
       "45. 'CPKR'\n",
       "46. 'Average_reads'\n",
       "47. 'VMR'\n",
       "48. 'Max_reads'\n",
       "49. 'Singletons'\n",
       "50. 'Doubletons'\n",
       "51. 'qD'\n",
       "52. 'Sample_Coverage'\n",
       "53. 'observed_Richness'\n",
       "54. 'estimated_Richness'\n",
       "55. 'SE_Richeness'\n",
       "56. 'observed_Shannon'\n",
       "57. 'estimated_Shannon'\n",
       "58. 'SE_Shannon'\n",
       "59. 'observed_Simpson'\n",
       "60. 'estimated_Simpson'\n",
       "61. 'SE_Simpson'\n",
       "62. 'basename'\n",
       "63. 'file'\n",
       "64. 'sampletype'\n",
       "65. 'Group'\n",
       "66. 'log10shann'\n",
       "67. 'ranks'\n",
       "68. 'cyclenum'\n",
       "69. 'AUC_N'\n",
       "70. 'AUC_CM'\n",
       "71. 'AUC_SCM'\n",
       "72. 'AUC_EM'\n",
       "73. 'AUC_TE'\n",
       "74. 'AUC_LAG'\n",
       "75. 'AUC_TIM'\n",
       "76. 'AUC_PD1'\n",
       "77. 'AUC_TCR'\n",
       "\n",
       "\n"
      ],
      "text/plain": [
       " [1] \"sample_id\"          \"Patient\"            \"cycle\"             \n",
       " [4] \"FOLD\"               \"ATC\"                \"Age\"               \n",
       " [7] \"Disease_type\"       \"TE_fold\"            \"CD3\"               \n",
       "[10] \"EM\"                 \"CM\"                 \"Naïve\"             \n",
       "[13] \"SCM\"                \"TE\"                 \"EM%\"               \n",
       "[16] \"CM%\"                \"Naïve%\"             \"SCM%\"              \n",
       "[19] \"TE%\"                \"Naïve/TE\"           \"N+CM+SCM/TE+EM\"    \n",
       "[22] \"PD-1\"               \"PDL1\"               \"LAG3\"              \n",
       "[25] \"TIM3\"               \"CTLA4\"              \"PD1%\"              \n",
       "[28] \"PDL1%\"              \"LAG3%\"              \"TIM3%\"             \n",
       "[31] \"CTLA4%\"             \"Any NCR\"            \"PD1 + LAG3 + TIM3\" \n",
       "[34] \"cancergroup\"        \"agegroup\"           \"foldgroup\"         \n",
       "[37] \"Remission\"          \"Relapse\"            \"Transplant\"        \n",
       "[40] \"CART\"               \"vital_status\"       \"LOF\"               \n",
       "[43] \"TRB\"                \"Reads\"              \"CPKR\"              \n",
       "[46] \"Average_reads\"      \"VMR\"                \"Max_reads\"         \n",
       "[49] \"Singletons\"         \"Doubletons\"         \"qD\"                \n",
       "[52] \"Sample_Coverage\"    \"observed_Richness\"  \"estimated_Richness\"\n",
       "[55] \"SE_Richeness\"       \"observed_Shannon\"   \"estimated_Shannon\" \n",
       "[58] \"SE_Shannon\"         \"observed_Simpson\"   \"estimated_Simpson\" \n",
       "[61] \"SE_Simpson\"         \"basename\"           \"file\"              \n",
       "[64] \"sampletype\"         \"Group\"              \"log10shann\"        \n",
       "[67] \"ranks\"              \"cyclenum\"           \"AUC_N\"             \n",
       "[70] \"AUC_CM\"             \"AUC_SCM\"            \"AUC_EM\"            \n",
       "[73] \"AUC_TE\"             \"AUC_LAG\"            \"AUC_TIM\"           \n",
       "[76] \"AUC_PD1\"            \"AUC_TCR\"           "
      ]
     },
     "metadata": {},
     "output_type": "display_data"
    }
   ],
   "source": [
    "colnames(mypts)"
   ]
  },
  {
   "cell_type": "code",
   "execution_count": 70,
   "metadata": {
    "vscode": {
     "languageId": "r"
    }
   },
   "outputs": [
    {
     "data": {
      "text/html": [
       "<table class=\"dataframe\">\n",
       "<caption>A anova: 2 x 6</caption>\n",
       "<thead>\n",
       "\t<tr><th></th><th scope=col>Res.Df</th><th scope=col>RSS</th><th scope=col>Df</th><th scope=col>Sum of Sq</th><th scope=col>F</th><th scope=col>Pr(&gt;F)</th></tr>\n",
       "\t<tr><th></th><th scope=col>&lt;dbl&gt;</th><th scope=col>&lt;dbl&gt;</th><th scope=col>&lt;dbl&gt;</th><th scope=col>&lt;dbl&gt;</th><th scope=col>&lt;dbl&gt;</th><th scope=col>&lt;dbl&gt;</th></tr>\n",
       "</thead>\n",
       "<tbody>\n",
       "\t<tr><th scope=row>1</th><td>8</td><td>711.5532</td><td>NA</td><td>      NA</td><td>      NA</td><td>        NA</td></tr>\n",
       "\t<tr><th scope=row>2</th><td>7</td><td>375.3364</td><td> 1</td><td>336.2168</td><td>6.270423</td><td>0.04074818</td></tr>\n",
       "</tbody>\n",
       "</table>\n"
      ],
      "text/latex": [
       "A anova: 2 x 6\n",
       "\\begin{tabular}{r|llllll}\n",
       "  & Res.Df & RSS & Df & Sum of Sq & F & Pr(>F)\\\\\n",
       "  & <dbl> & <dbl> & <dbl> & <dbl> & <dbl> & <dbl>\\\\\n",
       "\\hline\n",
       "\t1 & 8 & 711.5532 & NA &       NA &       NA &         NA\\\\\n",
       "\t2 & 7 & 375.3364 &  1 & 336.2168 & 6.270423 & 0.04074818\\\\\n",
       "\\end{tabular}\n"
      ],
      "text/markdown": [
       "\n",
       "A anova: 2 x 6\n",
       "\n",
       "| <!--/--> | Res.Df &lt;dbl&gt; | RSS &lt;dbl&gt; | Df &lt;dbl&gt; | Sum of Sq &lt;dbl&gt; | F &lt;dbl&gt; | Pr(&gt;F) &lt;dbl&gt; |\n",
       "|---|---|---|---|---|---|---|\n",
       "| 1 | 8 | 711.5532 | NA |       NA |       NA |         NA |\n",
       "| 2 | 7 | 375.3364 |  1 | 336.2168 | 6.270423 | 0.04074818 |\n",
       "\n"
      ],
      "text/plain": [
       "  Res.Df RSS      Df Sum of Sq F        Pr(>F)    \n",
       "1 8      711.5532 NA       NA        NA         NA\n",
       "2 7      375.3364  1 336.2168  6.270423 0.04074818"
      ]
     },
     "metadata": {},
     "output_type": "display_data"
    }
   ],
   "source": [
    "myfit0 <- lm(AUC_PD1 ~ cancergroup + Age, data= mypts)\n",
    "myfit1 <- lm(AUC_PD1 ~ ranks + cancergroup + Age, data= mypts)\n",
    "\n",
    "anova(myfit0, myfit1)"
   ]
  },
  {
   "cell_type": "code",
   "execution_count": 71,
   "metadata": {
    "vscode": {
     "languageId": "r"
    }
   },
   "outputs": [],
   "source": [
    "myfit1 <- lm(AUC_CM ~ ranks + cancergroup + Age, data= mypts)"
   ]
  },
  {
   "cell_type": "code",
   "execution_count": 74,
   "metadata": {
    "vscode": {
     "languageId": "r"
    }
   },
   "outputs": [
    {
     "data": {
      "text/plain": [
       "\n",
       "Call:\n",
       "lm(formula = AUC_CM ~ ranks + cancergroup + Age, data = mypts)\n",
       "\n",
       "Residuals:\n",
       "    Min      1Q  Median      3Q     Max \n",
       "-11.493  -4.114  -1.342   4.558  14.005 \n",
       "\n",
       "Coefficients:\n",
       "                          Estimate Std. Error t value Pr(>|t|)   \n",
       "(Intercept)             -8.976e-01  5.650e+00  -0.159  0.87772   \n",
       "ranks                    8.757e-08  2.538e-08   3.451  0.00869 **\n",
       "cancergroupSolid tumors -3.579e+00  5.523e+00  -0.648  0.53514   \n",
       "Age                      2.982e-01  4.373e-01   0.682  0.51464   \n",
       "---\n",
       "Signif. codes:  0 ‘***’ 0.001 ‘**’ 0.01 ‘*’ 0.05 ‘.’ 0.1 ‘ ’ 1\n",
       "\n",
       "Residual standard error: 8.811 on 8 degrees of freedom\n",
       "  (12 observations deleted due to missingness)\n",
       "Multiple R-squared:  0.6094,\tAdjusted R-squared:  0.4629 \n",
       "F-statistic:  4.16 on 3 and 8 DF,  p-value: 0.04747\n"
      ]
     },
     "metadata": {},
     "output_type": "display_data"
    }
   ],
   "source": [
    "summary.lm(myfit1)"
   ]
  },
  {
   "cell_type": "code",
   "execution_count": 77,
   "metadata": {
    "vscode": {
     "languageId": "r"
    }
   },
   "outputs": [
    {
     "data": {
      "text/plain": [
       "     Min.   1st Qu.    Median      Mean   3rd Qu.      Max. \n",
       " 12502854  63714832  91169804 128598409 166811417 435585459 "
      ]
     },
     "metadata": {},
     "output_type": "display_data"
    }
   ],
   "source": [
    "summary(mypts$ranks)"
   ]
  },
  {
   "cell_type": "code",
   "execution_count": 81,
   "metadata": {
    "vscode": {
     "languageId": "r"
    }
   },
   "outputs": [
    {
     "name": "stderr",
     "output_type": "stream",
     "text": [
      "Warning message:\n",
      "“\u001b[1m\u001b[22mRemoved 12 rows containing missing values (`geom_point()`).”\n"
     ]
    },
    {
     "data": {
      "image/png": "[encoded data removed]",
      "text/plain": [
       "plot without title"
      ]
     },
     "metadata": {
      "image/png": {
       "height": 420,
       "width": 420
      }
     },
     "output_type": "display_data"
    }
   ],
   "source": [
    "ggplot(mypts) + geom_point(aes(x = ranks, y = AUC_CM, color = cancergroup), size = 5) + geom_vline(xintercept = 91169804)"
   ]
  },
  {
   "cell_type": "code",
   "execution_count": 38,
   "metadata": {
    "vscode": {
     "languageId": "r"
    }
   },
   "outputs": [
    {
     "data": {
      "text/html": [
       "<table class=\"dataframe\">\n",
       "<caption>A data.frame: 6 x 67</caption>\n",
       "<thead>\n",
       "\t<tr><th></th><th scope=col>sample_id</th><th scope=col>Patient</th><th scope=col>cycle</th><th scope=col>FOLD</th><th scope=col>ATC</th><th scope=col>Age</th><th scope=col>Disease_type</th><th scope=col>TE_fold</th><th scope=col>CD3</th><th scope=col>EM</th><th scope=col>...</th><th scope=col>SE_Shannon</th><th scope=col>observed_Simpson</th><th scope=col>estimated_Simpson</th><th scope=col>SE_Simpson</th><th scope=col>basename</th><th scope=col>file</th><th scope=col>sampletype</th><th scope=col>Group</th><th scope=col>log10shann</th><th scope=col>ranks</th></tr>\n",
       "\t<tr><th></th><th scope=col>&lt;chr&gt;</th><th scope=col>&lt;chr&gt;</th><th scope=col>&lt;chr&gt;</th><th scope=col>&lt;dbl&gt;</th><th scope=col>&lt;dbl&gt;</th><th scope=col>&lt;dbl&gt;</th><th scope=col>&lt;chr&gt;</th><th scope=col>&lt;dbl&gt;</th><th scope=col>&lt;int&gt;</th><th scope=col>&lt;int&gt;</th><th scope=col>...</th><th scope=col>&lt;dbl&gt;</th><th scope=col>&lt;dbl&gt;</th><th scope=col>&lt;dbl&gt;</th><th scope=col>&lt;dbl&gt;</th><th scope=col>&lt;chr&gt;</th><th scope=col>&lt;chr&gt;</th><th scope=col>&lt;chr&gt;</th><th scope=col>&lt;chr&gt;</th><th scope=col>&lt;dbl&gt;</th><th scope=col>&lt;dbl&gt;</th></tr>\n",
       "</thead>\n",
       "<tbody>\n",
       "\t<tr><th scope=row>302</th><td>CHP_319_05</td><td>CHP_319</td><td>X05</td><td>1.2</td><td>  0.00</td><td>1</td><td>HR ALL</td><td>1.2</td><td>   0</td><td> NA</td><td>...</td><td>1.217</td><td>10.248</td><td>11.626</td><td>1.269</td><td>CHP_319-05-PBMC-DNA</td><td>batch2_Aug62019/mixcr/clones/CLONES_TRBCHP_319-05-PBMC-DNA.txt</td><td>PBMC</td><td>CHP</td><td>1.074743</td><td> 29238686</td></tr>\n",
       "\t<tr><th scope=row>361</th><td>CHP_331_04</td><td>CHP_331</td><td>X04</td><td>0.0</td><td>  0.00</td><td>5</td><td>SR ALL</td><td>0.0</td><td>   0</td><td> NA</td><td>...</td><td>1.711</td><td>18.948</td><td>20.709</td><td>2.363</td><td>CHP_331-04-PBMC-DNA</td><td>batch2_Aug62019/mixcr/clones/CLONES_TRBCHP_331-04-PBMC-DNA.txt</td><td>PBMC</td><td>CHP</td><td>1.427243</td><td>250536652</td></tr>\n",
       "\t<tr><th scope=row>362</th><td>CHP_331_05</td><td>CHP_331</td><td>X05</td><td>0.0</td><td>  0.00</td><td>5</td><td>SR ALL</td><td>0.0</td><td>   0</td><td> NA</td><td>...</td><td>2.835</td><td>75.373</td><td>80.729</td><td>3.079</td><td>CHP_331-05-PBMC-DNA</td><td>batch2_Aug62019/mixcr/clones/CLONES_TRBCHP_331-05-PBMC-DNA.txt</td><td>PBMC</td><td>CHP</td><td>2.013654</td><td>250536652</td></tr>\n",
       "\t<tr><th scope=row>419</th><td>CHP_343_02</td><td>CHP_343</td><td>X02</td><td>0.3</td><td>459.04</td><td>8</td><td>EWS   </td><td>0.3</td><td>1135</td><td> 16</td><td>...</td><td>0.397</td><td>19.668</td><td>20.298</td><td>0.549</td><td>CHP_343-02-PBMC-DNA</td><td>batch2_Aug62019/mixcr/clones/CLONES_TRBCHP_343-02-PBMC-DNA.txt</td><td>PBMC</td><td>CHP</td><td>1.330860</td><td>435585459</td></tr>\n",
       "\t<tr><th scope=row>420</th><td>CHP_343_03</td><td>CHP_343</td><td>X03</td><td>0.6</td><td>370.30</td><td>8</td><td>EWS   </td><td>0.6</td><td>1650</td><td> 16</td><td>...</td><td>0.782</td><td>18.967</td><td>19.381</td><td>1.155</td><td>CHP_343-03-PBMC-DNA</td><td>batch2_Aug62019/mixcr/clones/CLONES_TRBCHP_343-03-PBMC-DNA.txt</td><td>PBMC</td><td>CHP</td><td>1.431235</td><td>435585459</td></tr>\n",
       "\t<tr><th scope=row>421</th><td>CHP_343_04</td><td>CHP_343</td><td>X04</td><td>1.5</td><td>536.63</td><td>8</td><td>EWS   </td><td>1.5</td><td>2612</td><td>146</td><td>...</td><td>0.949</td><td>18.786</td><td>19.288</td><td>1.459</td><td>CHP_343-04-PBMC-DNA</td><td>batch2_Aug62019/mixcr/clones/CLONES_TRBCHP_343-04-PBMC-DNA.txt</td><td>PBMC</td><td>CHP</td><td>1.450588</td><td>435585459</td></tr>\n",
       "</tbody>\n",
       "</table>\n"
      ],
      "text/latex": [
       "A data.frame: 6 x 67\n",
       "\\begin{tabular}{r|lllllllllllllllllllll}\n",
       "  & sample\\_id & Patient & cycle & FOLD & ATC & Age & Disease\\_type & TE\\_fold & CD3 & EM & ... & SE\\_Shannon & observed\\_Simpson & estimated\\_Simpson & SE\\_Simpson & basename & file & sampletype & Group & log10shann & ranks\\\\\n",
       "  & <chr> & <chr> & <chr> & <dbl> & <dbl> & <dbl> & <chr> & <dbl> & <int> & <int> & ... & <dbl> & <dbl> & <dbl> & <dbl> & <chr> & <chr> & <chr> & <chr> & <dbl> & <dbl>\\\\\n",
       "\\hline\n",
       "\t302 & CHP\\_319\\_05 & CHP\\_319 & X05 & 1.2 &   0.00 & 1 & HR ALL & 1.2 &    0 &  NA & ... & 1.217 & 10.248 & 11.626 & 1.269 & CHP\\_319-05-PBMC-DNA & batch2\\_Aug62019/mixcr/clones/CLONES\\_TRBCHP\\_319-05-PBMC-DNA.txt & PBMC & CHP & 1.074743 &  29238686\\\\\n",
       "\t361 & CHP\\_331\\_04 & CHP\\_331 & X04 & 0.0 &   0.00 & 5 & SR ALL & 0.0 &    0 &  NA & ... & 1.711 & 18.948 & 20.709 & 2.363 & CHP\\_331-04-PBMC-DNA & batch2\\_Aug62019/mixcr/clones/CLONES\\_TRBCHP\\_331-04-PBMC-DNA.txt & PBMC & CHP & 1.427243 & 250536652\\\\\n",
       "\t362 & CHP\\_331\\_05 & CHP\\_331 & X05 & 0.0 &   0.00 & 5 & SR ALL & 0.0 &    0 &  NA & ... & 2.835 & 75.373 & 80.729 & 3.079 & CHP\\_331-05-PBMC-DNA & batch2\\_Aug62019/mixcr/clones/CLONES\\_TRBCHP\\_331-05-PBMC-DNA.txt & PBMC & CHP & 2.013654 & 250536652\\\\\n",
       "\t419 & CHP\\_343\\_02 & CHP\\_343 & X02 & 0.3 & 459.04 & 8 & EWS    & 0.3 & 1135 &  16 & ... & 0.397 & 19.668 & 20.298 & 0.549 & CHP\\_343-02-PBMC-DNA & batch2\\_Aug62019/mixcr/clones/CLONES\\_TRBCHP\\_343-02-PBMC-DNA.txt & PBMC & CHP & 1.330860 & 435585459\\\\\n",
       "\t420 & CHP\\_343\\_03 & CHP\\_343 & X03 & 0.6 & 370.30 & 8 & EWS    & 0.6 & 1650 &  16 & ... & 0.782 & 18.967 & 19.381 & 1.155 & CHP\\_343-03-PBMC-DNA & batch2\\_Aug62019/mixcr/clones/CLONES\\_TRBCHP\\_343-03-PBMC-DNA.txt & PBMC & CHP & 1.431235 & 435585459\\\\\n",
       "\t421 & CHP\\_343\\_04 & CHP\\_343 & X04 & 1.5 & 536.63 & 8 & EWS    & 1.5 & 2612 & 146 & ... & 0.949 & 18.786 & 19.288 & 1.459 & CHP\\_343-04-PBMC-DNA & batch2\\_Aug62019/mixcr/clones/CLONES\\_TRBCHP\\_343-04-PBMC-DNA.txt & PBMC & CHP & 1.450588 & 435585459\\\\\n",
       "\\end{tabular}\n"
      ],
      "text/markdown": [
       "\n",
       "A data.frame: 6 x 67\n",
       "\n",
       "| <!--/--> | sample_id &lt;chr&gt; | Patient &lt;chr&gt; | cycle &lt;chr&gt; | FOLD &lt;dbl&gt; | ATC &lt;dbl&gt; | Age &lt;dbl&gt; | Disease_type &lt;chr&gt; | TE_fold &lt;dbl&gt; | CD3 &lt;int&gt; | EM &lt;int&gt; | ... ... | SE_Shannon &lt;dbl&gt; | observed_Simpson &lt;dbl&gt; | estimated_Simpson &lt;dbl&gt; | SE_Simpson &lt;dbl&gt; | basename &lt;chr&gt; | file &lt;chr&gt; | sampletype &lt;chr&gt; | Group &lt;chr&gt; | log10shann &lt;dbl&gt; | ranks &lt;dbl&gt; |\n",
       "|---|---|---|---|---|---|---|---|---|---|---|---|---|---|---|---|---|---|---|---|---|---|\n",
       "| 302 | CHP_319_05 | CHP_319 | X05 | 1.2 |   0.00 | 1 | HR ALL | 1.2 |    0 |  NA | ... | 1.217 | 10.248 | 11.626 | 1.269 | CHP_319-05-PBMC-DNA | batch2_Aug62019/mixcr/clones/CLONES_TRBCHP_319-05-PBMC-DNA.txt | PBMC | CHP | 1.074743 |  29238686 |\n",
       "| 361 | CHP_331_04 | CHP_331 | X04 | 0.0 |   0.00 | 5 | SR ALL | 0.0 |    0 |  NA | ... | 1.711 | 18.948 | 20.709 | 2.363 | CHP_331-04-PBMC-DNA | batch2_Aug62019/mixcr/clones/CLONES_TRBCHP_331-04-PBMC-DNA.txt | PBMC | CHP | 1.427243 | 250536652 |\n",
       "| 362 | CHP_331_05 | CHP_331 | X05 | 0.0 |   0.00 | 5 | SR ALL | 0.0 |    0 |  NA | ... | 2.835 | 75.373 | 80.729 | 3.079 | CHP_331-05-PBMC-DNA | batch2_Aug62019/mixcr/clones/CLONES_TRBCHP_331-05-PBMC-DNA.txt | PBMC | CHP | 2.013654 | 250536652 |\n",
       "| 419 | CHP_343_02 | CHP_343 | X02 | 0.3 | 459.04 | 8 | EWS    | 0.3 | 1135 |  16 | ... | 0.397 | 19.668 | 20.298 | 0.549 | CHP_343-02-PBMC-DNA | batch2_Aug62019/mixcr/clones/CLONES_TRBCHP_343-02-PBMC-DNA.txt | PBMC | CHP | 1.330860 | 435585459 |\n",
       "| 420 | CHP_343_03 | CHP_343 | X03 | 0.6 | 370.30 | 8 | EWS    | 0.6 | 1650 |  16 | ... | 0.782 | 18.967 | 19.381 | 1.155 | CHP_343-03-PBMC-DNA | batch2_Aug62019/mixcr/clones/CLONES_TRBCHP_343-03-PBMC-DNA.txt | PBMC | CHP | 1.431235 | 435585459 |\n",
       "| 421 | CHP_343_04 | CHP_343 | X04 | 1.5 | 536.63 | 8 | EWS    | 1.5 | 2612 | 146 | ... | 0.949 | 18.786 | 19.288 | 1.459 | CHP_343-04-PBMC-DNA | batch2_Aug62019/mixcr/clones/CLONES_TRBCHP_343-04-PBMC-DNA.txt | PBMC | CHP | 1.450588 | 435585459 |\n",
       "\n"
      ],
      "text/plain": [
       "    sample_id  Patient cycle FOLD ATC    Age Disease_type TE_fold CD3  EM  ...\n",
       "302 CHP_319_05 CHP_319 X05   1.2    0.00 1   HR ALL       1.2        0  NA ...\n",
       "361 CHP_331_04 CHP_331 X04   0.0    0.00 5   SR ALL       0.0        0  NA ...\n",
       "362 CHP_331_05 CHP_331 X05   0.0    0.00 5   SR ALL       0.0        0  NA ...\n",
       "419 CHP_343_02 CHP_343 X02   0.3  459.04 8   EWS          0.3     1135  16 ...\n",
       "420 CHP_343_03 CHP_343 X03   0.6  370.30 8   EWS          0.6     1650  16 ...\n",
       "421 CHP_343_04 CHP_343 X04   1.5  536.63 8   EWS          1.5     2612 146 ...\n",
       "    SE_Shannon observed_Simpson estimated_Simpson SE_Simpson\n",
       "302 1.217      10.248           11.626            1.269     \n",
       "361 1.711      18.948           20.709            2.363     \n",
       "362 2.835      75.373           80.729            3.079     \n",
       "419 0.397      19.668           20.298            0.549     \n",
       "420 0.782      18.967           19.381            1.155     \n",
       "421 0.949      18.786           19.288            1.459     \n",
       "    basename           \n",
       "302 CHP_319-05-PBMC-DNA\n",
       "361 CHP_331-04-PBMC-DNA\n",
       "362 CHP_331-05-PBMC-DNA\n",
       "419 CHP_343-02-PBMC-DNA\n",
       "420 CHP_343-03-PBMC-DNA\n",
       "421 CHP_343-04-PBMC-DNA\n",
       "    file                                                           sampletype\n",
       "302 batch2_Aug62019/mixcr/clones/CLONES_TRBCHP_319-05-PBMC-DNA.txt PBMC      \n",
       "361 batch2_Aug62019/mixcr/clones/CLONES_TRBCHP_331-04-PBMC-DNA.txt PBMC      \n",
       "362 batch2_Aug62019/mixcr/clones/CLONES_TRBCHP_331-05-PBMC-DNA.txt PBMC      \n",
       "419 batch2_Aug62019/mixcr/clones/CLONES_TRBCHP_343-02-PBMC-DNA.txt PBMC      \n",
       "420 batch2_Aug62019/mixcr/clones/CLONES_TRBCHP_343-03-PBMC-DNA.txt PBMC      \n",
       "421 batch2_Aug62019/mixcr/clones/CLONES_TRBCHP_343-04-PBMC-DNA.txt PBMC      \n",
       "    Group log10shann ranks    \n",
       "302 CHP   1.074743    29238686\n",
       "361 CHP   1.427243   250536652\n",
       "362 CHP   2.013654   250536652\n",
       "419 CHP   1.330860   435585459\n",
       "420 CHP   1.431235   435585459\n",
       "421 CHP   1.450588   435585459"
      ]
     },
     "metadata": {},
     "output_type": "display_data"
    }
   ],
   "source": [
    "head(pbmc1)"
   ]
  },
  {
   "cell_type": "code",
   "execution_count": null,
   "metadata": {
    "vscode": {
     "languageId": "r"
    }
   },
   "outputs": [],
   "source": []
  },
  {
   "cell_type": "code",
   "execution_count": 247,
   "metadata": {
    "vscode": {
     "languageId": "r"
    }
   },
   "outputs": [],
   "source": [
    "allhla_preqc <- readr::read_rds( paste0(datapath, \"HLA/mitchel_allhla_preqc.rds\"))"
   ]
  },
  {
   "cell_type": "code",
   "execution_count": 249,
   "metadata": {
    "vscode": {
     "languageId": "r"
    }
   },
   "outputs": [
    {
     "data": {
      "text/html": [
       "<table class=\"dataframe\">\n",
       "<caption>A matrix: 2 x 129 of type int</caption>\n",
       "<thead>\n",
       "\t<tr><th></th><th scope=col>HLA-A*0101</th><th scope=col>HLA-A*0301</th><th scope=col>HLA-B*1801</th><th scope=col>HLA-C*0701</th><th scope=col>HLA-DPA1*0103</th><th scope=col>HLA-DPB1*0201</th><th scope=col>HLA-DPB1*0401</th><th scope=col>HLA-DQA1*0301</th><th scope=col>HLA-DQA1*0501</th><th scope=col>HLA-DQB1*0201</th><th scope=col>...</th><th scope=col>HLA-B*4102</th><th scope=col>HLA-C*1703</th><th scope=col>HLA-DPB1*1601</th><th scope=col>HLA-A*0205</th><th scope=col>HLA-B*0706</th><th scope=col>HLA-C*1505</th><th scope=col>HLA-DPB1*12401</th><th scope=col>HLA-DRB1*0405</th><th scope=col>HLA-DQA1*0302</th><th scope=col>HLA-DRB1*0901</th></tr>\n",
       "</thead>\n",
       "<tbody>\n",
       "\t<tr><th scope=row>310177_TCRB</th><td>1</td><td>1</td><td>NA</td><td>1</td><td>1</td><td>NA</td><td>1</td><td>1</td><td>1</td><td>1</td><td>...</td><td>NA</td><td>NA</td><td>NA</td><td>NA</td><td>NA</td><td>NA</td><td>NA</td><td>NA</td><td>NA</td><td>NA</td></tr>\n",
       "\t<tr><th scope=row>310283_TCRB</th><td>1</td><td>1</td><td>NA</td><td>1</td><td>1</td><td>NA</td><td>1</td><td>1</td><td>1</td><td>1</td><td>...</td><td>NA</td><td>NA</td><td>NA</td><td>NA</td><td>NA</td><td>NA</td><td>NA</td><td>NA</td><td>NA</td><td>NA</td></tr>\n",
       "</tbody>\n",
       "</table>\n"
      ],
      "text/latex": [
       "A matrix: 2 x 129 of type int\n",
       "\\begin{tabular}{r|lllllllllllllllllllll}\n",
       "  & HLA-A*0101 & HLA-A*0301 & HLA-B*1801 & HLA-C*0701 & HLA-DPA1*0103 & HLA-DPB1*0201 & HLA-DPB1*0401 & HLA-DQA1*0301 & HLA-DQA1*0501 & HLA-DQB1*0201 & ... & HLA-B*4102 & HLA-C*1703 & HLA-DPB1*1601 & HLA-A*0205 & HLA-B*0706 & HLA-C*1505 & HLA-DPB1*12401 & HLA-DRB1*0405 & HLA-DQA1*0302 & HLA-DRB1*0901\\\\\n",
       "\\hline\n",
       "\t310177\\_TCRB & 1 & 1 & NA & 1 & 1 & NA & 1 & 1 & 1 & 1 & ... & NA & NA & NA & NA & NA & NA & NA & NA & NA & NA\\\\\n",
       "\t310283\\_TCRB & 1 & 1 & NA & 1 & 1 & NA & 1 & 1 & 1 & 1 & ... & NA & NA & NA & NA & NA & NA & NA & NA & NA & NA\\\\\n",
       "\\end{tabular}\n"
      ],
      "text/markdown": [
       "\n",
       "A matrix: 2 x 129 of type int\n",
       "\n",
       "| <!--/--> | HLA-A*0101 | HLA-A*0301 | HLA-B*1801 | HLA-C*0701 | HLA-DPA1*0103 | HLA-DPB1*0201 | HLA-DPB1*0401 | HLA-DQA1*0301 | HLA-DQA1*0501 | HLA-DQB1*0201 | ... | HLA-B*4102 | HLA-C*1703 | HLA-DPB1*1601 | HLA-A*0205 | HLA-B*0706 | HLA-C*1505 | HLA-DPB1*12401 | HLA-DRB1*0405 | HLA-DQA1*0302 | HLA-DRB1*0901 |\n",
       "|---|---|---|---|---|---|---|---|---|---|---|---|---|---|---|---|---|---|---|---|---|---|\n",
       "| 310177_TCRB | 1 | 1 | NA | 1 | 1 | NA | 1 | 1 | 1 | 1 | ... | NA | NA | NA | NA | NA | NA | NA | NA | NA | NA |\n",
       "| 310283_TCRB | 1 | 1 | NA | 1 | 1 | NA | 1 | 1 | 1 | 1 | ... | NA | NA | NA | NA | NA | NA | NA | NA | NA | NA |\n",
       "\n"
      ],
      "text/plain": [
       "            HLA-A*0101 HLA-A*0301 HLA-B*1801 HLA-C*0701 HLA-DPA1*0103\n",
       "310177_TCRB 1          1          NA         1          1            \n",
       "310283_TCRB 1          1          NA         1          1            \n",
       "            HLA-DPB1*0201 HLA-DPB1*0401 HLA-DQA1*0301 HLA-DQA1*0501\n",
       "310177_TCRB NA            1             1             1            \n",
       "310283_TCRB NA            1             1             1            \n",
       "            HLA-DQB1*0201 ... HLA-B*4102 HLA-C*1703 HLA-DPB1*1601 HLA-A*0205\n",
       "310177_TCRB 1             ... NA         NA         NA            NA        \n",
       "310283_TCRB 1             ... NA         NA         NA            NA        \n",
       "            HLA-B*0706 HLA-C*1505 HLA-DPB1*12401 HLA-DRB1*0405 HLA-DQA1*0302\n",
       "310177_TCRB NA         NA         NA             NA            NA           \n",
       "310283_TCRB NA         NA         NA             NA            NA           \n",
       "            HLA-DRB1*0901\n",
       "310177_TCRB NA           \n",
       "310283_TCRB NA           "
      ]
     },
     "metadata": {},
     "output_type": "display_data"
    }
   ],
   "source": [
    "head(allhla_preqc[c(\"310177_TCRB\", \"310283_TCRB\"),])"
   ]
  },
  {
   "cell_type": "code",
   "execution_count": null,
   "metadata": {
    "vscode": {
     "languageId": "r"
    }
   },
   "outputs": [],
   "source": []
  }
 ],
 "metadata": {
  "kernelspec": {
   "display_name": "R 4.0",
   "language": "R",
   "name": "ir40"
  },
  "language_info": {
   "codemirror_mode": "r",
   "file_extension": ".r",
   "mimetype": "text/x-r-source",
   "name": "R",
   "pygments_lexer": "r",
   "version": "4.2.2"
  },
  "orig_nbformat": 4,
  "vscode": {
   "interpreter": {
    "hash": "aee8b7b246df8f9039afb4144a1f6fd8d2ca17a180786b69acc140d282b71a49"
   }
  }
 },
 "nbformat": 4,
 "nbformat_minor": 2
}

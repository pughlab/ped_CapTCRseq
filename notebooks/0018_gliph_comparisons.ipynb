{
 "cells": [
  {
   "attachments": {},
   "cell_type": "markdown",
   "metadata": {},
   "source": [
    "# Dependencies"
   ]
  },
  {
   "cell_type": "code",
   "execution_count": 1,
   "metadata": {
    "vscode": {
     "languageId": "r"
    }
   },
   "outputs": [],
   "source": [
    "pacman::p_load(dplyr, ggplot2)"
   ]
  },
  {
   "attachments": {},
   "cell_type": "markdown",
   "metadata": {},
   "source": [
    "# Functions"
   ]
  },
  {
   "cell_type": "code",
   "execution_count": 2,
   "metadata": {
    "vscode": {
     "languageId": "r"
    }
   },
   "outputs": [],
   "source": [
    "source(\"/Users/anabbi/git/ped_CapTCRseq/R/ggplot2_theme.R\")\n",
    "source(\"/Users/anabbi/git/ped_CapTCRseq/R/color_schemes.R\")\n",
    "source(\"/Users/anabbi/git/ped_CapTCRseq/R/Misc_functions.R\")"
   ]
  },
  {
   "attachments": {},
   "cell_type": "markdown",
   "metadata": {},
   "source": [
    "# Paths"
   ]
  },
  {
   "cell_type": "code",
   "execution_count": 3,
   "metadata": {
    "vscode": {
     "languageId": "r"
    }
   },
   "outputs": [],
   "source": [
    "datapath <- \"/Users/anabbi/OneDrive - UHN/Documents/INTERCEPT/Data/\"\n",
    "plotpath <- \"/Users/anabbi/OneDrive - UHN/Documents/INTERCEPT/Plots/\"\n",
    "manifestpath <- \"/Users/anabbi/OneDrive - UHN/Documents/INTERCEPT/Manifests/\"\n",
    "gitpath <- \"/Users/anabbi/git/ped_CapTCRseq/\""
   ]
  },
  {
   "cell_type": "code",
   "execution_count": 4,
   "metadata": {
    "vscode": {
     "languageId": "r"
    }
   },
   "outputs": [],
   "source": [
    "h4hpath <- \"/Users/anabbi/Desktop/H4H/INTERCEPT/analysis/GLIPH/run_gliph/\""
   ]
  },
  {
   "attachments": {},
   "cell_type": "markdown",
   "metadata": {},
   "source": [
    "# Main"
   ]
  },
  {
   "cell_type": "markdown",
   "metadata": {},
   "source": [
    "# Create summary tables for control datasets"
   ]
  },
  {
   "cell_type": "markdown",
   "metadata": {},
   "source": [
    "### Emerson adult"
   ]
  },
  {
   "cell_type": "code",
   "execution_count": 5,
   "metadata": {
    "vscode": {
     "languageId": "r"
    }
   },
   "outputs": [
    {
     "name": "stderr",
     "output_type": "stream",
     "text": [
      "Warning message in file(file, \"rt\"):\n",
      "\"cannot open file '/Users/anabbi/Desktop/H4H/INTERCEPT/analysis/GLIPH/run_gliph/v9_emerson_adult/gliph_output/int_vdj_v9_emerson_adult_cluster.csv': No such file or directory\"\n"
     ]
    },
    {
     "ename": "ERROR",
     "evalue": "Error in file(file, \"rt\"): cannot open the connection\n",
     "output_type": "error",
     "traceback": [
      "Error in file(file, \"rt\"): cannot open the connection\nTraceback:\n",
      "1. read.table(paste0(h4hpath, \"v9_emerson_adult/gliph_output/int_vdj_v9_emerson_adult_cluster.csv\"), \n .     sep = \",\", header = T)",
      "2. file(file, \"rt\")"
     ]
    }
   ],
   "source": [
    "gliphout_emerson <- read.table(paste0(h4hpath, \"v9_emerson_adult/gliph_output/int_vdj_v9_emerson_adult_cluster.csv\"), sep = \",\", header = T)"
   ]
  },
  {
   "cell_type": "code",
   "execution_count": 6,
   "metadata": {
    "vscode": {
     "languageId": "r"
    }
   },
   "outputs": [
    {
     "name": "stderr",
     "output_type": "stream",
     "text": [
      "Warning message in readRDS(con, refhook = refhook):\n",
      "\"cannot open file '/Users/anabbi/Desktop/H4H/INTERCEPT/analysis/GLIPH/run_gliph/v9_emerson_adult/gliph_input/int_vdj_gliphinput_v9_emerson_adult.RDS': No such file or directory\"\n"
     ]
    },
    {
     "ename": "ERROR",
     "evalue": "Error in readRDS(con, refhook = refhook): cannot open the connection\n",
     "output_type": "error",
     "traceback": [
      "Error in readRDS(con, refhook = refhook): cannot open the connection\nTraceback:\n",
      "1. readr::read_rds(paste0(h4hpath, \"v9_emerson_adult/gliph_input/int_vdj_gliphinput_v9_emerson_adult.RDS\"))",
      "2. readRDS(con, refhook = refhook)"
     ]
    }
   ],
   "source": [
    "gliphin_emerson <- readr::read_rds(paste0(h4hpath, \"v9_emerson_adult/gliph_input/int_vdj_gliphinput_v9_emerson_adult.RDS\"))"
   ]
  },
  {
   "cell_type": "code",
   "execution_count": null,
   "metadata": {
    "vscode": {
     "languageId": "r"
    }
   },
   "outputs": [],
   "source": [
    "# remove columns starting with HLA\n",
    "gliphout_emerson <- gliphout_emerson[,!grepl(\"HLA\", colnames(gliphout_emerson))]\n",
    "# no single\n",
    "gliphout_emerson <- gliphout_emerson[ gliphout_emerson$pattern != \"single\",]"
   ]
  },
  {
   "cell_type": "code",
   "execution_count": 8,
   "metadata": {
    "vscode": {
     "languageId": "r"
    }
   },
   "outputs": [
    {
     "data": {
      "text/html": [
       "<style>\n",
       ".list-inline {list-style: none; margin:0; padding: 0}\n",
       ".list-inline>li {display: inline-block}\n",
       ".list-inline>li:not(:last-child)::after {content: \"\\00b7\"; padding: 0 .5ex}\n",
       "</style>\n",
       "<ol class=list-inline><li>119052</li><li>18</li></ol>\n"
      ],
      "text/latex": [
       "\\begin{enumerate*}\n",
       "\\item 119052\n",
       "\\item 18\n",
       "\\end{enumerate*}\n"
      ],
      "text/markdown": [
       "1. 119052\n",
       "2. 18\n",
       "\n",
       "\n"
      ],
      "text/plain": [
       "[1] 119052     18"
      ]
     },
     "metadata": {},
     "output_type": "display_data"
    }
   ],
   "source": [
    "dim(gliphout_emerson)"
   ]
  },
  {
   "cell_type": "code",
   "execution_count": 9,
   "metadata": {
    "vscode": {
     "languageId": "r"
    }
   },
   "outputs": [],
   "source": [
    "gliphout_emerson$subject <- gsub(\":.*\", \"\", gliphout_emerson$Sample)"
   ]
  },
  {
   "cell_type": "code",
   "execution_count": 10,
   "metadata": {
    "vscode": {
     "languageId": "r"
    }
   },
   "outputs": [],
   "source": [
    "readr::write_rds(gliphout_emerson, file = paste0(datapath, \"GLIPH/emerson_adult_cleaned.rds\"))"
   ]
  },
  {
   "cell_type": "markdown",
   "metadata": {},
   "source": [
    "Create a gliph dataframe"
   ]
  },
  {
   "cell_type": "code",
   "execution_count": 11,
   "metadata": {
    "vscode": {
     "languageId": "r"
    }
   },
   "outputs": [],
   "source": [
    "gliphdf <- data.frame(gliph = unique(gliphout_emerson$pattern))\n",
    "rownames(gliphdf) <- gliphdf$gliph"
   ]
  },
  {
   "cell_type": "code",
   "execution_count": 12,
   "metadata": {
    "vscode": {
     "languageId": "r"
    }
   },
   "outputs": [
    {
     "data": {
      "text/html": [
       "<table class=\"dataframe\">\n",
       "<caption>A data.frame: 6 x 1</caption>\n",
       "<thead>\n",
       "\t<tr><th></th><th scope=col>gliph</th></tr>\n",
       "\t<tr><th></th><th scope=col>&lt;chr&gt;</th></tr>\n",
       "</thead>\n",
       "<tbody>\n",
       "\t<tr><th scope=row>SLG%E</th><td>SLG%E  </td></tr>\n",
       "\t<tr><th scope=row>S%GGNTE</th><td>S%GGNTE</td></tr>\n",
       "\t<tr><th scope=row>YDTG</th><td>YDTG   </td></tr>\n",
       "\t<tr><th scope=row>S%SGANV</th><td>S%SGANV</td></tr>\n",
       "\t<tr><th scope=row>S%TGNTE</th><td>S%TGNTE</td></tr>\n",
       "\t<tr><th scope=row>SVG%NTE</th><td>SVG%NTE</td></tr>\n",
       "</tbody>\n",
       "</table>\n"
      ],
      "text/latex": [
       "A data.frame: 6 x 1\n",
       "\\begin{tabular}{r|l}\n",
       "  & gliph\\\\\n",
       "  & <chr>\\\\\n",
       "\\hline\n",
       "\tSLG\\%E & SLG\\%E  \\\\\n",
       "\tS\\%GGNTE & S\\%GGNTE\\\\\n",
       "\tYDTG & YDTG   \\\\\n",
       "\tS\\%SGANV & S\\%SGANV\\\\\n",
       "\tS\\%TGNTE & S\\%TGNTE\\\\\n",
       "\tSVG\\%NTE & SVG\\%NTE\\\\\n",
       "\\end{tabular}\n"
      ],
      "text/markdown": [
       "\n",
       "A data.frame: 6 x 1\n",
       "\n",
       "| <!--/--> | gliph &lt;chr&gt; |\n",
       "|---|---|\n",
       "| SLG%E | SLG%E   |\n",
       "| S%GGNTE | S%GGNTE |\n",
       "| YDTG | YDTG    |\n",
       "| S%SGANV | S%SGANV |\n",
       "| S%TGNTE | S%TGNTE |\n",
       "| SVG%NTE | SVG%NTE |\n",
       "\n"
      ],
      "text/plain": [
       "        gliph  \n",
       "SLG%E   SLG%E  \n",
       "S%GGNTE S%GGNTE\n",
       "YDTG    YDTG   \n",
       "S%SGANV S%SGANV\n",
       "S%TGNTE S%TGNTE\n",
       "SVG%NTE SVG%NTE"
      ]
     },
     "metadata": {},
     "output_type": "display_data"
    }
   ],
   "source": [
    "head(gliphdf)"
   ]
  },
  {
   "cell_type": "code",
   "execution_count": 13,
   "metadata": {
    "vscode": {
     "languageId": "r"
    }
   },
   "outputs": [
    {
     "data": {
      "text/html": [
       "<table class=\"dataframe\">\n",
       "<caption>A data.frame: 6 x 2</caption>\n",
       "<thead>\n",
       "\t<tr><th></th><th scope=col>subject</th><th scope=col>Sample</th></tr>\n",
       "\t<tr><th></th><th scope=col>&lt;chr&gt;</th><th scope=col>&lt;chr&gt;</th></tr>\n",
       "</thead>\n",
       "<tbody>\n",
       "\t<tr><th scope=row>1</th><td>MDavis </td><td>MDavis:DRB10401     </td></tr>\n",
       "\t<tr><th scope=row>2</th><td>MDavis </td><td>MDavis:DRB10401     </td></tr>\n",
       "\t<tr><th scope=row>3</th><td>MDavis </td><td>MDavis:DRB10401     </td></tr>\n",
       "\t<tr><th scope=row>4</th><td>Emerson</td><td>Emerson:P00014_2108 </td></tr>\n",
       "\t<tr><th scope=row>5</th><td>Emerson</td><td>Emerson:P00486_45778</td></tr>\n",
       "\t<tr><th scope=row>6</th><td>MDavis </td><td>MDavis:DRB10401     </td></tr>\n",
       "</tbody>\n",
       "</table>\n"
      ],
      "text/latex": [
       "A data.frame: 6 x 2\n",
       "\\begin{tabular}{r|ll}\n",
       "  & subject & Sample\\\\\n",
       "  & <chr> & <chr>\\\\\n",
       "\\hline\n",
       "\t1 & MDavis  & MDavis:DRB10401     \\\\\n",
       "\t2 & MDavis  & MDavis:DRB10401     \\\\\n",
       "\t3 & MDavis  & MDavis:DRB10401     \\\\\n",
       "\t4 & Emerson & Emerson:P00014\\_2108 \\\\\n",
       "\t5 & Emerson & Emerson:P00486\\_45778\\\\\n",
       "\t6 & MDavis  & MDavis:DRB10401     \\\\\n",
       "\\end{tabular}\n"
      ],
      "text/markdown": [
       "\n",
       "A data.frame: 6 x 2\n",
       "\n",
       "| <!--/--> | subject &lt;chr&gt; | Sample &lt;chr&gt; |\n",
       "|---|---|---|\n",
       "| 1 | MDavis  | MDavis:DRB10401      |\n",
       "| 2 | MDavis  | MDavis:DRB10401      |\n",
       "| 3 | MDavis  | MDavis:DRB10401      |\n",
       "| 4 | Emerson | Emerson:P00014_2108  |\n",
       "| 5 | Emerson | Emerson:P00486_45778 |\n",
       "| 6 | MDavis  | MDavis:DRB10401      |\n",
       "\n"
      ],
      "text/plain": [
       "  subject Sample              \n",
       "1 MDavis  MDavis:DRB10401     \n",
       "2 MDavis  MDavis:DRB10401     \n",
       "3 MDavis  MDavis:DRB10401     \n",
       "4 Emerson Emerson:P00014_2108 \n",
       "5 Emerson Emerson:P00486_45778\n",
       "6 MDavis  MDavis:DRB10401     "
      ]
     },
     "metadata": {},
     "output_type": "display_data"
    }
   ],
   "source": [
    "head(gliphout_emerson[, c(\"subject\", \"Sample\")])"
   ]
  },
  {
   "cell_type": "code",
   "execution_count": 14,
   "metadata": {
    "vscode": {
     "languageId": "r"
    }
   },
   "outputs": [
    {
     "data": {
      "text/html": [
       "<style>\n",
       ".list-inline {list-style: none; margin:0; padding: 0}\n",
       ".list-inline>li {display: inline-block}\n",
       ".list-inline>li:not(:last-child)::after {content: \"\\00b7\"; padding: 0 .5ex}\n",
       "</style>\n",
       "<ol class=list-inline><li>'CEF'</li><li>'CMV'</li><li>'DENV'</li><li>'EBV'</li><li>'HCV'</li><li>'HPV'</li><li>'HomoSapiens'</li><li>'Influenza'</li><li>'M.tuberculosis'</li><li>'MCPyV'</li><li>'MDavis'</li><li>'S-pneumoniae'</li></ol>\n"
      ],
      "text/latex": [
       "\\begin{enumerate*}\n",
       "\\item 'CEF'\n",
       "\\item 'CMV'\n",
       "\\item 'DENV'\n",
       "\\item 'EBV'\n",
       "\\item 'HCV'\n",
       "\\item 'HPV'\n",
       "\\item 'HomoSapiens'\n",
       "\\item 'Influenza'\n",
       "\\item 'M.tuberculosis'\n",
       "\\item 'MCPyV'\n",
       "\\item 'MDavis'\n",
       "\\item 'S-pneumoniae'\n",
       "\\end{enumerate*}\n"
      ],
      "text/markdown": [
       "1. 'CEF'\n",
       "2. 'CMV'\n",
       "3. 'DENV'\n",
       "4. 'EBV'\n",
       "5. 'HCV'\n",
       "6. 'HPV'\n",
       "7. 'HomoSapiens'\n",
       "8. 'Influenza'\n",
       "9. 'M.tuberculosis'\n",
       "10. 'MCPyV'\n",
       "11. 'MDavis'\n",
       "12. 'S-pneumoniae'\n",
       "\n",
       "\n"
      ],
      "text/plain": [
       " [1] \"CEF\"            \"CMV\"            \"DENV\"           \"EBV\"           \n",
       " [5] \"HCV\"            \"HPV\"            \"HomoSapiens\"    \"Influenza\"     \n",
       " [9] \"M.tuberculosis\" \"MCPyV\"          \"MDavis\"         \"S-pneumoniae\"  "
      ]
     },
     "metadata": {},
     "output_type": "display_data"
    }
   ],
   "source": [
    "names(table(gliphout_emerson$subject[!grepl(\"Emerson\", gliphout_emerson$Sample)]))"
   ]
  },
  {
   "cell_type": "code",
   "execution_count": 15,
   "metadata": {
    "vscode": {
     "languageId": "r"
    }
   },
   "outputs": [],
   "source": [
    "for(i in 1:nrow(gliphdf)){\n",
    "\n",
    "mygliph <- gliphout_emerson[gliphout_emerson$pattern == gliphdf$gliph[i],]\n",
    "# add gliphdf$CMV, if mygliph$subject ciontains CMV\n",
    "gliphdf$CMV[i] <- ifelse(sum(grepl(\"CMV\", mygliph$subject)) > 0, sum(grepl(\"CMV\", mygliph$subject)), 0)\n",
    "gliphdf$EBV[i] <- ifelse(sum(grepl(\"EBV\", mygliph$subject)) > 0, sum(grepl(\"EBV\", mygliph$subject)), 0)\n",
    "gliphdf$HCV[i] <- ifelse(sum(grepl(\"HCV\", mygliph$subject)) > 0, sum(grepl(\"HCV\", mygliph$subject)), 0)\n",
    "gliphdf$Influenza[i] <- ifelse(sum(grepl(\"Influenza\", mygliph$subject)) > 0, sum(grepl(\"Influenza\", mygliph$subject)), 0)\n",
    "gliphdf$HomoSapiens[i] <- ifelse(sum(grepl(\"HomoSapiens\", mygliph$subject)) > 0, sum(grepl(\"HomoSapiens\", mygliph$subject)), 0)\n",
    "gliphdf$MDavis[i] <- ifelse(sum(grepl(\"MDavis\", mygliph$subject)) > 0, sum(grepl(\"MDavis\", mygliph$subject)), 0)\n",
    "gliphdf$HPV[i] <- ifelse(sum(grepl(\"HPV\", mygliph$subject)) > 0, sum(grepl(\"HPV\", mygliph$subject)), 0)\n",
    "gliphdf$CEF[i] <- ifelse(sum(grepl(\"CEF\", mygliph$subject)) > 0, sum(grepl(\"CEF\", mygliph$subject)), 0)\n",
    "gliphdf$TB[i] <- ifelse(sum(grepl(\"M.tuberculosis\", mygliph$subject)) > 0, sum(grepl(\"M.tuberculosis\", mygliph$subject)), 0)\n",
    "gliphdf$MCPyV[i] <- ifelse(sum(grepl(\"MCPyV\", mygliph$subject)) > 0, sum(grepl(\"MCPyV\", mygliph$subject)), 0)\n",
    "gliphdf$SP[i] <- ifelse(sum(grepl(\"S-pneumoniae\", mygliph$subject)) > 0, sum(grepl(\"S-pneumoniae\", mygliph$subject)), 0)\n",
    "gliphdf$DENV[i] <- ifelse(sum(grepl(\"DENV\", mygliph$subject)) > 0, sum(grepl(\"DENV\", mygliph$subject)), 0)\n",
    "}"
   ]
  },
  {
   "cell_type": "code",
   "execution_count": 16,
   "metadata": {
    "vscode": {
     "languageId": "r"
    }
   },
   "outputs": [
    {
     "data": {
      "text/html": [
       "<table class=\"dataframe\">\n",
       "<caption>A data.frame: 6 x 13</caption>\n",
       "<thead>\n",
       "\t<tr><th></th><th scope=col>gliph</th><th scope=col>CMV</th><th scope=col>EBV</th><th scope=col>HCV</th><th scope=col>Influenza</th><th scope=col>HomoSapiens</th><th scope=col>MDavis</th><th scope=col>HPV</th><th scope=col>CEF</th><th scope=col>TB</th><th scope=col>MCPyV</th><th scope=col>SP</th><th scope=col>DENV</th></tr>\n",
       "\t<tr><th></th><th scope=col>&lt;chr&gt;</th><th scope=col>&lt;dbl&gt;</th><th scope=col>&lt;dbl&gt;</th><th scope=col>&lt;dbl&gt;</th><th scope=col>&lt;dbl&gt;</th><th scope=col>&lt;dbl&gt;</th><th scope=col>&lt;dbl&gt;</th><th scope=col>&lt;dbl&gt;</th><th scope=col>&lt;dbl&gt;</th><th scope=col>&lt;dbl&gt;</th><th scope=col>&lt;dbl&gt;</th><th scope=col>&lt;dbl&gt;</th><th scope=col>&lt;dbl&gt;</th></tr>\n",
       "</thead>\n",
       "<tbody>\n",
       "\t<tr><th scope=row>SLG%E</th><td>SLG%E  </td><td>0</td><td>0</td><td>0</td><td>0</td><td>0</td><td>39</td><td>0</td><td>0</td><td>0</td><td>0</td><td>0</td><td>0</td></tr>\n",
       "\t<tr><th scope=row>S%GGNTE</th><td>S%GGNTE</td><td>0</td><td>0</td><td>0</td><td>0</td><td>1</td><td>40</td><td>0</td><td>0</td><td>0</td><td>0</td><td>0</td><td>0</td></tr>\n",
       "\t<tr><th scope=row>YDTG</th><td>YDTG   </td><td>0</td><td>0</td><td>0</td><td>0</td><td>0</td><td>75</td><td>0</td><td>0</td><td>0</td><td>0</td><td>0</td><td>0</td></tr>\n",
       "\t<tr><th scope=row>S%SGANV</th><td>S%SGANV</td><td>0</td><td>0</td><td>0</td><td>0</td><td>0</td><td>34</td><td>0</td><td>0</td><td>0</td><td>0</td><td>0</td><td>0</td></tr>\n",
       "\t<tr><th scope=row>S%TGNTE</th><td>S%TGNTE</td><td>0</td><td>0</td><td>0</td><td>0</td><td>0</td><td>34</td><td>0</td><td>0</td><td>0</td><td>0</td><td>0</td><td>0</td></tr>\n",
       "\t<tr><th scope=row>SVG%NTE</th><td>SVG%NTE</td><td>0</td><td>0</td><td>0</td><td>0</td><td>0</td><td>28</td><td>0</td><td>0</td><td>0</td><td>0</td><td>0</td><td>0</td></tr>\n",
       "</tbody>\n",
       "</table>\n"
      ],
      "text/latex": [
       "A data.frame: 6 x 13\n",
       "\\begin{tabular}{r|lllllllllllll}\n",
       "  & gliph & CMV & EBV & HCV & Influenza & HomoSapiens & MDavis & HPV & CEF & TB & MCPyV & SP & DENV\\\\\n",
       "  & <chr> & <dbl> & <dbl> & <dbl> & <dbl> & <dbl> & <dbl> & <dbl> & <dbl> & <dbl> & <dbl> & <dbl> & <dbl>\\\\\n",
       "\\hline\n",
       "\tSLG\\%E & SLG\\%E   & 0 & 0 & 0 & 0 & 0 & 39 & 0 & 0 & 0 & 0 & 0 & 0\\\\\n",
       "\tS\\%GGNTE & S\\%GGNTE & 0 & 0 & 0 & 0 & 1 & 40 & 0 & 0 & 0 & 0 & 0 & 0\\\\\n",
       "\tYDTG & YDTG    & 0 & 0 & 0 & 0 & 0 & 75 & 0 & 0 & 0 & 0 & 0 & 0\\\\\n",
       "\tS\\%SGANV & S\\%SGANV & 0 & 0 & 0 & 0 & 0 & 34 & 0 & 0 & 0 & 0 & 0 & 0\\\\\n",
       "\tS\\%TGNTE & S\\%TGNTE & 0 & 0 & 0 & 0 & 0 & 34 & 0 & 0 & 0 & 0 & 0 & 0\\\\\n",
       "\tSVG\\%NTE & SVG\\%NTE & 0 & 0 & 0 & 0 & 0 & 28 & 0 & 0 & 0 & 0 & 0 & 0\\\\\n",
       "\\end{tabular}\n"
      ],
      "text/markdown": [
       "\n",
       "A data.frame: 6 x 13\n",
       "\n",
       "| <!--/--> | gliph &lt;chr&gt; | CMV &lt;dbl&gt; | EBV &lt;dbl&gt; | HCV &lt;dbl&gt; | Influenza &lt;dbl&gt; | HomoSapiens &lt;dbl&gt; | MDavis &lt;dbl&gt; | HPV &lt;dbl&gt; | CEF &lt;dbl&gt; | TB &lt;dbl&gt; | MCPyV &lt;dbl&gt; | SP &lt;dbl&gt; | DENV &lt;dbl&gt; |\n",
       "|---|---|---|---|---|---|---|---|---|---|---|---|---|---|\n",
       "| SLG%E | SLG%E   | 0 | 0 | 0 | 0 | 0 | 39 | 0 | 0 | 0 | 0 | 0 | 0 |\n",
       "| S%GGNTE | S%GGNTE | 0 | 0 | 0 | 0 | 1 | 40 | 0 | 0 | 0 | 0 | 0 | 0 |\n",
       "| YDTG | YDTG    | 0 | 0 | 0 | 0 | 0 | 75 | 0 | 0 | 0 | 0 | 0 | 0 |\n",
       "| S%SGANV | S%SGANV | 0 | 0 | 0 | 0 | 0 | 34 | 0 | 0 | 0 | 0 | 0 | 0 |\n",
       "| S%TGNTE | S%TGNTE | 0 | 0 | 0 | 0 | 0 | 34 | 0 | 0 | 0 | 0 | 0 | 0 |\n",
       "| SVG%NTE | SVG%NTE | 0 | 0 | 0 | 0 | 0 | 28 | 0 | 0 | 0 | 0 | 0 | 0 |\n",
       "\n"
      ],
      "text/plain": [
       "        gliph   CMV EBV HCV Influenza HomoSapiens MDavis HPV CEF TB MCPyV SP\n",
       "SLG%E   SLG%E   0   0   0   0         0           39     0   0   0  0     0 \n",
       "S%GGNTE S%GGNTE 0   0   0   0         1           40     0   0   0  0     0 \n",
       "YDTG    YDTG    0   0   0   0         0           75     0   0   0  0     0 \n",
       "S%SGANV S%SGANV 0   0   0   0         0           34     0   0   0  0     0 \n",
       "S%TGNTE S%TGNTE 0   0   0   0         0           34     0   0   0  0     0 \n",
       "SVG%NTE SVG%NTE 0   0   0   0         0           28     0   0   0  0     0 \n",
       "        DENV\n",
       "SLG%E   0   \n",
       "S%GGNTE 0   \n",
       "YDTG    0   \n",
       "S%SGANV 0   \n",
       "S%TGNTE 0   \n",
       "SVG%NTE 0   "
      ]
     },
     "metadata": {},
     "output_type": "display_data"
    }
   ],
   "source": [
    "head(gliphdf)"
   ]
  },
  {
   "cell_type": "code",
   "execution_count": 17,
   "metadata": {
    "vscode": {
     "languageId": "r"
    }
   },
   "outputs": [
    {
     "data": {
      "text/html": [
       "<style>\n",
       ".list-inline {list-style: none; margin:0; padding: 0}\n",
       ".list-inline>li {display: inline-block}\n",
       ".list-inline>li:not(:last-child)::after {content: \"\\00b7\"; padding: 0 .5ex}\n",
       "</style>\n",
       "<ol class=list-inline><li>'index'</li><li>'pattern'</li><li>'Fisher_score'</li><li>'number_subject'</li><li>'number_unique_cdr3'</li><li>'final_score'</li><li>'hla_score'</li><li>'vb_score'</li><li>'expansion_score'</li><li>'length_score'</li><li>'cluster_size_score'</li><li>'type'</li><li>'TcRb'</li><li>'V'</li><li>'J'</li><li>'TcRa'</li><li>'Sample'</li><li>'Freq'</li><li>'subject'</li></ol>\n"
      ],
      "text/latex": [
       "\\begin{enumerate*}\n",
       "\\item 'index'\n",
       "\\item 'pattern'\n",
       "\\item 'Fisher\\_score'\n",
       "\\item 'number\\_subject'\n",
       "\\item 'number\\_unique\\_cdr3'\n",
       "\\item 'final\\_score'\n",
       "\\item 'hla\\_score'\n",
       "\\item 'vb\\_score'\n",
       "\\item 'expansion\\_score'\n",
       "\\item 'length\\_score'\n",
       "\\item 'cluster\\_size\\_score'\n",
       "\\item 'type'\n",
       "\\item 'TcRb'\n",
       "\\item 'V'\n",
       "\\item 'J'\n",
       "\\item 'TcRa'\n",
       "\\item 'Sample'\n",
       "\\item 'Freq'\n",
       "\\item 'subject'\n",
       "\\end{enumerate*}\n"
      ],
      "text/markdown": [
       "1. 'index'\n",
       "2. 'pattern'\n",
       "3. 'Fisher_score'\n",
       "4. 'number_subject'\n",
       "5. 'number_unique_cdr3'\n",
       "6. 'final_score'\n",
       "7. 'hla_score'\n",
       "8. 'vb_score'\n",
       "9. 'expansion_score'\n",
       "10. 'length_score'\n",
       "11. 'cluster_size_score'\n",
       "12. 'type'\n",
       "13. 'TcRb'\n",
       "14. 'V'\n",
       "15. 'J'\n",
       "16. 'TcRa'\n",
       "17. 'Sample'\n",
       "18. 'Freq'\n",
       "19. 'subject'\n",
       "\n",
       "\n"
      ],
      "text/plain": [
       " [1] \"index\"              \"pattern\"            \"Fisher_score\"      \n",
       " [4] \"number_subject\"     \"number_unique_cdr3\" \"final_score\"       \n",
       " [7] \"hla_score\"          \"vb_score\"           \"expansion_score\"   \n",
       "[10] \"length_score\"       \"cluster_size_score\" \"type\"              \n",
       "[13] \"TcRb\"               \"V\"                  \"J\"                 \n",
       "[16] \"TcRa\"               \"Sample\"             \"Freq\"              \n",
       "[19] \"subject\"           "
      ]
     },
     "metadata": {},
     "output_type": "display_data"
    }
   ],
   "source": [
    "colnames(gliphout_emerson)"
   ]
  },
  {
   "cell_type": "code",
   "execution_count": 18,
   "metadata": {
    "vscode": {
     "languageId": "r"
    }
   },
   "outputs": [],
   "source": [
    "# add number of unique cdr3s for each group\n",
    "for (i in 1:nrow(gliphdf)) {\n",
    "    mygliph <- gliphout_emerson[gliphout_emerson$pattern == gliphdf$gliph[i], ]\n",
    "    gliphdf$n_unique_cdr3[i] <- mygliph$number_unique_cdr3[1]\n",
    "}\n"
   ]
  },
  {
   "cell_type": "code",
   "execution_count": 19,
   "metadata": {
    "vscode": {
     "languageId": "r"
    }
   },
   "outputs": [
    {
     "data": {
      "text/html": [
       "<table class=\"dataframe\">\n",
       "<caption>A data.frame: 6 x 14</caption>\n",
       "<thead>\n",
       "\t<tr><th></th><th scope=col>gliph</th><th scope=col>CMV</th><th scope=col>EBV</th><th scope=col>HCV</th><th scope=col>Influenza</th><th scope=col>HomoSapiens</th><th scope=col>MDavis</th><th scope=col>HPV</th><th scope=col>CEF</th><th scope=col>TB</th><th scope=col>MCPyV</th><th scope=col>SP</th><th scope=col>DENV</th><th scope=col>n_unique_cdr3</th></tr>\n",
       "\t<tr><th></th><th scope=col>&lt;chr&gt;</th><th scope=col>&lt;dbl&gt;</th><th scope=col>&lt;dbl&gt;</th><th scope=col>&lt;dbl&gt;</th><th scope=col>&lt;dbl&gt;</th><th scope=col>&lt;dbl&gt;</th><th scope=col>&lt;dbl&gt;</th><th scope=col>&lt;dbl&gt;</th><th scope=col>&lt;dbl&gt;</th><th scope=col>&lt;dbl&gt;</th><th scope=col>&lt;dbl&gt;</th><th scope=col>&lt;dbl&gt;</th><th scope=col>&lt;dbl&gt;</th><th scope=col>&lt;int&gt;</th></tr>\n",
       "</thead>\n",
       "<tbody>\n",
       "\t<tr><th scope=row>SLG%E</th><td>SLG%E  </td><td>0</td><td>0</td><td>0</td><td>0</td><td>0</td><td>39</td><td>0</td><td>0</td><td>0</td><td>0</td><td>0</td><td>0</td><td>53</td></tr>\n",
       "\t<tr><th scope=row>S%GGNTE</th><td>S%GGNTE</td><td>0</td><td>0</td><td>0</td><td>0</td><td>1</td><td>40</td><td>0</td><td>0</td><td>0</td><td>0</td><td>0</td><td>0</td><td>42</td></tr>\n",
       "\t<tr><th scope=row>YDTG</th><td>YDTG   </td><td>0</td><td>0</td><td>0</td><td>0</td><td>0</td><td>75</td><td>0</td><td>0</td><td>0</td><td>0</td><td>0</td><td>0</td><td>78</td></tr>\n",
       "\t<tr><th scope=row>S%SGANV</th><td>S%SGANV</td><td>0</td><td>0</td><td>0</td><td>0</td><td>0</td><td>34</td><td>0</td><td>0</td><td>0</td><td>0</td><td>0</td><td>0</td><td>36</td></tr>\n",
       "\t<tr><th scope=row>S%TGNTE</th><td>S%TGNTE</td><td>0</td><td>0</td><td>0</td><td>0</td><td>0</td><td>34</td><td>0</td><td>0</td><td>0</td><td>0</td><td>0</td><td>0</td><td>35</td></tr>\n",
       "\t<tr><th scope=row>SVG%NTE</th><td>SVG%NTE</td><td>0</td><td>0</td><td>0</td><td>0</td><td>0</td><td>28</td><td>0</td><td>0</td><td>0</td><td>0</td><td>0</td><td>0</td><td>31</td></tr>\n",
       "</tbody>\n",
       "</table>\n"
      ],
      "text/latex": [
       "A data.frame: 6 x 14\n",
       "\\begin{tabular}{r|llllllllllllll}\n",
       "  & gliph & CMV & EBV & HCV & Influenza & HomoSapiens & MDavis & HPV & CEF & TB & MCPyV & SP & DENV & n\\_unique\\_cdr3\\\\\n",
       "  & <chr> & <dbl> & <dbl> & <dbl> & <dbl> & <dbl> & <dbl> & <dbl> & <dbl> & <dbl> & <dbl> & <dbl> & <dbl> & <int>\\\\\n",
       "\\hline\n",
       "\tSLG\\%E & SLG\\%E   & 0 & 0 & 0 & 0 & 0 & 39 & 0 & 0 & 0 & 0 & 0 & 0 & 53\\\\\n",
       "\tS\\%GGNTE & S\\%GGNTE & 0 & 0 & 0 & 0 & 1 & 40 & 0 & 0 & 0 & 0 & 0 & 0 & 42\\\\\n",
       "\tYDTG & YDTG    & 0 & 0 & 0 & 0 & 0 & 75 & 0 & 0 & 0 & 0 & 0 & 0 & 78\\\\\n",
       "\tS\\%SGANV & S\\%SGANV & 0 & 0 & 0 & 0 & 0 & 34 & 0 & 0 & 0 & 0 & 0 & 0 & 36\\\\\n",
       "\tS\\%TGNTE & S\\%TGNTE & 0 & 0 & 0 & 0 & 0 & 34 & 0 & 0 & 0 & 0 & 0 & 0 & 35\\\\\n",
       "\tSVG\\%NTE & SVG\\%NTE & 0 & 0 & 0 & 0 & 0 & 28 & 0 & 0 & 0 & 0 & 0 & 0 & 31\\\\\n",
       "\\end{tabular}\n"
      ],
      "text/markdown": [
       "\n",
       "A data.frame: 6 x 14\n",
       "\n",
       "| <!--/--> | gliph &lt;chr&gt; | CMV &lt;dbl&gt; | EBV &lt;dbl&gt; | HCV &lt;dbl&gt; | Influenza &lt;dbl&gt; | HomoSapiens &lt;dbl&gt; | MDavis &lt;dbl&gt; | HPV &lt;dbl&gt; | CEF &lt;dbl&gt; | TB &lt;dbl&gt; | MCPyV &lt;dbl&gt; | SP &lt;dbl&gt; | DENV &lt;dbl&gt; | n_unique_cdr3 &lt;int&gt; |\n",
       "|---|---|---|---|---|---|---|---|---|---|---|---|---|---|---|\n",
       "| SLG%E | SLG%E   | 0 | 0 | 0 | 0 | 0 | 39 | 0 | 0 | 0 | 0 | 0 | 0 | 53 |\n",
       "| S%GGNTE | S%GGNTE | 0 | 0 | 0 | 0 | 1 | 40 | 0 | 0 | 0 | 0 | 0 | 0 | 42 |\n",
       "| YDTG | YDTG    | 0 | 0 | 0 | 0 | 0 | 75 | 0 | 0 | 0 | 0 | 0 | 0 | 78 |\n",
       "| S%SGANV | S%SGANV | 0 | 0 | 0 | 0 | 0 | 34 | 0 | 0 | 0 | 0 | 0 | 0 | 36 |\n",
       "| S%TGNTE | S%TGNTE | 0 | 0 | 0 | 0 | 0 | 34 | 0 | 0 | 0 | 0 | 0 | 0 | 35 |\n",
       "| SVG%NTE | SVG%NTE | 0 | 0 | 0 | 0 | 0 | 28 | 0 | 0 | 0 | 0 | 0 | 0 | 31 |\n",
       "\n"
      ],
      "text/plain": [
       "        gliph   CMV EBV HCV Influenza HomoSapiens MDavis HPV CEF TB MCPyV SP\n",
       "SLG%E   SLG%E   0   0   0   0         0           39     0   0   0  0     0 \n",
       "S%GGNTE S%GGNTE 0   0   0   0         1           40     0   0   0  0     0 \n",
       "YDTG    YDTG    0   0   0   0         0           75     0   0   0  0     0 \n",
       "S%SGANV S%SGANV 0   0   0   0         0           34     0   0   0  0     0 \n",
       "S%TGNTE S%TGNTE 0   0   0   0         0           34     0   0   0  0     0 \n",
       "SVG%NTE SVG%NTE 0   0   0   0         0           28     0   0   0  0     0 \n",
       "        DENV n_unique_cdr3\n",
       "SLG%E   0    53           \n",
       "S%GGNTE 0    42           \n",
       "YDTG    0    78           \n",
       "S%SGANV 0    36           \n",
       "S%TGNTE 0    35           \n",
       "SVG%NTE 0    31           "
      ]
     },
     "metadata": {},
     "output_type": "display_data"
    }
   ],
   "source": [
    "head(gliphdf)"
   ]
  },
  {
   "cell_type": "markdown",
   "metadata": {},
   "source": [
    "Create samples x gliph dataframe"
   ]
  },
  {
   "cell_type": "code",
   "execution_count": 20,
   "metadata": {
    "vscode": {
     "languageId": "r"
    }
   },
   "outputs": [],
   "source": [
    "gliphout_emerson$Sample <- gsub(\"_.*\", \"\", gliphout_emerson$Sample)"
   ]
  },
  {
   "cell_type": "code",
   "execution_count": 21,
   "metadata": {
    "vscode": {
     "languageId": "r"
    }
   },
   "outputs": [],
   "source": [
    "mysamples <- names(table(gliphout_emerson$Sample[grepl(\"Emerson\", gliphout_emerson$Sample)]))"
   ]
  },
  {
   "cell_type": "code",
   "execution_count": 22,
   "metadata": {
    "vscode": {
     "languageId": "r"
    }
   },
   "outputs": [
    {
     "data": {
      "text/html": [
       "<style>\n",
       ".list-inline {list-style: none; margin:0; padding: 0}\n",
       ".list-inline>li {display: inline-block}\n",
       ".list-inline>li:not(:last-child)::after {content: \"\\00b7\"; padding: 0 .5ex}\n",
       "</style>\n",
       "<ol class=list-inline><li>'Emerson:P00001'</li><li>'Emerson:P00002'</li><li>'Emerson:P00004'</li><li>'Emerson:P00005'</li><li>'Emerson:P00006'</li><li>'Emerson:P00008'</li></ol>\n"
      ],
      "text/latex": [
       "\\begin{enumerate*}\n",
       "\\item 'Emerson:P00001'\n",
       "\\item 'Emerson:P00002'\n",
       "\\item 'Emerson:P00004'\n",
       "\\item 'Emerson:P00005'\n",
       "\\item 'Emerson:P00006'\n",
       "\\item 'Emerson:P00008'\n",
       "\\end{enumerate*}\n"
      ],
      "text/markdown": [
       "1. 'Emerson:P00001'\n",
       "2. 'Emerson:P00002'\n",
       "3. 'Emerson:P00004'\n",
       "4. 'Emerson:P00005'\n",
       "5. 'Emerson:P00006'\n",
       "6. 'Emerson:P00008'\n",
       "\n",
       "\n"
      ],
      "text/plain": [
       "[1] \"Emerson:P00001\" \"Emerson:P00002\" \"Emerson:P00004\" \"Emerson:P00005\"\n",
       "[5] \"Emerson:P00006\" \"Emerson:P00008\""
      ]
     },
     "metadata": {},
     "output_type": "display_data"
    }
   ],
   "source": [
    "head(mysamples)"
   ]
  },
  {
   "cell_type": "code",
   "execution_count": 23,
   "metadata": {
    "vscode": {
     "languageId": "r"
    }
   },
   "outputs": [
    {
     "data": {
      "text/html": [
       "<style>\n",
       ".list-inline {list-style: none; margin:0; padding: 0}\n",
       ".list-inline>li {display: inline-block}\n",
       ".list-inline>li:not(:last-child)::after {content: \"\\00b7\"; padding: 0 .5ex}\n",
       "</style>\n",
       "<ol class=list-inline><li>'CMV'</li><li>'EBV'</li><li>'HCV'</li><li>'Influenza'</li><li>'HomoSapiens'</li><li>'MDavis'</li><li>'HPV'</li><li>'CEF'</li><li>'TB'</li><li>'MCPyV'</li><li>'SP'</li><li>'DENV'</li><li>'n_unique_cdr3'</li></ol>\n"
      ],
      "text/latex": [
       "\\begin{enumerate*}\n",
       "\\item 'CMV'\n",
       "\\item 'EBV'\n",
       "\\item 'HCV'\n",
       "\\item 'Influenza'\n",
       "\\item 'HomoSapiens'\n",
       "\\item 'MDavis'\n",
       "\\item 'HPV'\n",
       "\\item 'CEF'\n",
       "\\item 'TB'\n",
       "\\item 'MCPyV'\n",
       "\\item 'SP'\n",
       "\\item 'DENV'\n",
       "\\item 'n\\_unique\\_cdr3'\n",
       "\\end{enumerate*}\n"
      ],
      "text/markdown": [
       "1. 'CMV'\n",
       "2. 'EBV'\n",
       "3. 'HCV'\n",
       "4. 'Influenza'\n",
       "5. 'HomoSapiens'\n",
       "6. 'MDavis'\n",
       "7. 'HPV'\n",
       "8. 'CEF'\n",
       "9. 'TB'\n",
       "10. 'MCPyV'\n",
       "11. 'SP'\n",
       "12. 'DENV'\n",
       "13. 'n_unique_cdr3'\n",
       "\n",
       "\n"
      ],
      "text/plain": [
       " [1] \"CMV\"           \"EBV\"           \"HCV\"           \"Influenza\"    \n",
       " [5] \"HomoSapiens\"   \"MDavis\"        \"HPV\"           \"CEF\"          \n",
       " [9] \"TB\"            \"MCPyV\"         \"SP\"            \"DENV\"         \n",
       "[13] \"n_unique_cdr3\""
      ]
     },
     "metadata": {},
     "output_type": "display_data"
    }
   ],
   "source": [
    "colnames(gliphdf)[2:14]"
   ]
  },
  {
   "cell_type": "code",
   "execution_count": 24,
   "metadata": {
    "vscode": {
     "languageId": "r"
    }
   },
   "outputs": [],
   "source": [
    "samples_tcr <- as.data.frame(matrix(0, nrow = length(mysamples), ncol = 12, \n",
    "dimnames = list(mysamples, colnames(gliphdf)[2:13])) ) "
   ]
  },
  {
   "cell_type": "code",
   "execution_count": 25,
   "metadata": {
    "vscode": {
     "languageId": "r"
    }
   },
   "outputs": [
    {
     "data": {
      "text/html": [
       "<table class=\"dataframe\">\n",
       "<caption>A data.frame: 6 x 12</caption>\n",
       "<thead>\n",
       "\t<tr><th></th><th scope=col>CMV</th><th scope=col>EBV</th><th scope=col>HCV</th><th scope=col>Influenza</th><th scope=col>HomoSapiens</th><th scope=col>MDavis</th><th scope=col>HPV</th><th scope=col>CEF</th><th scope=col>TB</th><th scope=col>MCPyV</th><th scope=col>SP</th><th scope=col>DENV</th></tr>\n",
       "\t<tr><th></th><th scope=col>&lt;dbl&gt;</th><th scope=col>&lt;dbl&gt;</th><th scope=col>&lt;dbl&gt;</th><th scope=col>&lt;dbl&gt;</th><th scope=col>&lt;dbl&gt;</th><th scope=col>&lt;dbl&gt;</th><th scope=col>&lt;dbl&gt;</th><th scope=col>&lt;dbl&gt;</th><th scope=col>&lt;dbl&gt;</th><th scope=col>&lt;dbl&gt;</th><th scope=col>&lt;dbl&gt;</th><th scope=col>&lt;dbl&gt;</th></tr>\n",
       "</thead>\n",
       "<tbody>\n",
       "\t<tr><th scope=row>Emerson:P00001</th><td>0</td><td>0</td><td>0</td><td>0</td><td>0</td><td>0</td><td>0</td><td>0</td><td>0</td><td>0</td><td>0</td><td>0</td></tr>\n",
       "\t<tr><th scope=row>Emerson:P00002</th><td>0</td><td>0</td><td>0</td><td>0</td><td>0</td><td>0</td><td>0</td><td>0</td><td>0</td><td>0</td><td>0</td><td>0</td></tr>\n",
       "\t<tr><th scope=row>Emerson:P00004</th><td>0</td><td>0</td><td>0</td><td>0</td><td>0</td><td>0</td><td>0</td><td>0</td><td>0</td><td>0</td><td>0</td><td>0</td></tr>\n",
       "\t<tr><th scope=row>Emerson:P00005</th><td>0</td><td>0</td><td>0</td><td>0</td><td>0</td><td>0</td><td>0</td><td>0</td><td>0</td><td>0</td><td>0</td><td>0</td></tr>\n",
       "\t<tr><th scope=row>Emerson:P00006</th><td>0</td><td>0</td><td>0</td><td>0</td><td>0</td><td>0</td><td>0</td><td>0</td><td>0</td><td>0</td><td>0</td><td>0</td></tr>\n",
       "\t<tr><th scope=row>Emerson:P00008</th><td>0</td><td>0</td><td>0</td><td>0</td><td>0</td><td>0</td><td>0</td><td>0</td><td>0</td><td>0</td><td>0</td><td>0</td></tr>\n",
       "</tbody>\n",
       "</table>\n"
      ],
      "text/latex": [
       "A data.frame: 6 x 12\n",
       "\\begin{tabular}{r|llllllllllll}\n",
       "  & CMV & EBV & HCV & Influenza & HomoSapiens & MDavis & HPV & CEF & TB & MCPyV & SP & DENV\\\\\n",
       "  & <dbl> & <dbl> & <dbl> & <dbl> & <dbl> & <dbl> & <dbl> & <dbl> & <dbl> & <dbl> & <dbl> & <dbl>\\\\\n",
       "\\hline\n",
       "\tEmerson:P00001 & 0 & 0 & 0 & 0 & 0 & 0 & 0 & 0 & 0 & 0 & 0 & 0\\\\\n",
       "\tEmerson:P00002 & 0 & 0 & 0 & 0 & 0 & 0 & 0 & 0 & 0 & 0 & 0 & 0\\\\\n",
       "\tEmerson:P00004 & 0 & 0 & 0 & 0 & 0 & 0 & 0 & 0 & 0 & 0 & 0 & 0\\\\\n",
       "\tEmerson:P00005 & 0 & 0 & 0 & 0 & 0 & 0 & 0 & 0 & 0 & 0 & 0 & 0\\\\\n",
       "\tEmerson:P00006 & 0 & 0 & 0 & 0 & 0 & 0 & 0 & 0 & 0 & 0 & 0 & 0\\\\\n",
       "\tEmerson:P00008 & 0 & 0 & 0 & 0 & 0 & 0 & 0 & 0 & 0 & 0 & 0 & 0\\\\\n",
       "\\end{tabular}\n"
      ],
      "text/markdown": [
       "\n",
       "A data.frame: 6 x 12\n",
       "\n",
       "| <!--/--> | CMV &lt;dbl&gt; | EBV &lt;dbl&gt; | HCV &lt;dbl&gt; | Influenza &lt;dbl&gt; | HomoSapiens &lt;dbl&gt; | MDavis &lt;dbl&gt; | HPV &lt;dbl&gt; | CEF &lt;dbl&gt; | TB &lt;dbl&gt; | MCPyV &lt;dbl&gt; | SP &lt;dbl&gt; | DENV &lt;dbl&gt; |\n",
       "|---|---|---|---|---|---|---|---|---|---|---|---|---|\n",
       "| Emerson:P00001 | 0 | 0 | 0 | 0 | 0 | 0 | 0 | 0 | 0 | 0 | 0 | 0 |\n",
       "| Emerson:P00002 | 0 | 0 | 0 | 0 | 0 | 0 | 0 | 0 | 0 | 0 | 0 | 0 |\n",
       "| Emerson:P00004 | 0 | 0 | 0 | 0 | 0 | 0 | 0 | 0 | 0 | 0 | 0 | 0 |\n",
       "| Emerson:P00005 | 0 | 0 | 0 | 0 | 0 | 0 | 0 | 0 | 0 | 0 | 0 | 0 |\n",
       "| Emerson:P00006 | 0 | 0 | 0 | 0 | 0 | 0 | 0 | 0 | 0 | 0 | 0 | 0 |\n",
       "| Emerson:P00008 | 0 | 0 | 0 | 0 | 0 | 0 | 0 | 0 | 0 | 0 | 0 | 0 |\n",
       "\n"
      ],
      "text/plain": [
       "               CMV EBV HCV Influenza HomoSapiens MDavis HPV CEF TB MCPyV SP\n",
       "Emerson:P00001 0   0   0   0         0           0      0   0   0  0     0 \n",
       "Emerson:P00002 0   0   0   0         0           0      0   0   0  0     0 \n",
       "Emerson:P00004 0   0   0   0         0           0      0   0   0  0     0 \n",
       "Emerson:P00005 0   0   0   0         0           0      0   0   0  0     0 \n",
       "Emerson:P00006 0   0   0   0         0           0      0   0   0  0     0 \n",
       "Emerson:P00008 0   0   0   0         0           0      0   0   0  0     0 \n",
       "               DENV\n",
       "Emerson:P00001 0   \n",
       "Emerson:P00002 0   \n",
       "Emerson:P00004 0   \n",
       "Emerson:P00005 0   \n",
       "Emerson:P00006 0   \n",
       "Emerson:P00008 0   "
      ]
     },
     "metadata": {},
     "output_type": "display_data"
    }
   ],
   "source": [
    "head(samples_tcr)"
   ]
  },
  {
   "cell_type": "code",
   "execution_count": 26,
   "metadata": {
    "vscode": {
     "languageId": "r"
    }
   },
   "outputs": [],
   "source": [
    "# count number of TCRs with annotated gliph groups for each sample\n",
    "# # eg if 3 TCRs are annotated to a one gliph group with HPV annotation, then count it as 3\n",
    "for (i in 1:nrow(samples_tcr)) {\n",
    "    samplegliphs <- gliphout_emerson$pattern[gliphout_emerson$Sample == rownames(samples_tcr)[i]]\n",
    "    mytab <- as.data.frame(table(gliphout_emerson$subject[gliphout_emerson$pattern %in% samplegliphs]), stringsAsFactors = F)\n",
    "    mycols <- intersect(colnames(samples_tcr), mytab$Var1)\n",
    "    samples_tcr[i, mycols] <- mytab$Freq[match(mycols, mytab$Var1)]\n",
    "}"
   ]
  },
  {
   "cell_type": "code",
   "execution_count": null,
   "metadata": {
    "vscode": {
     "languageId": "r"
    }
   },
   "outputs": [],
   "source": [
    "# # count number of annotated gliph groups for each sample\n",
    "# for (i in 1:nrow(gliphdf)) {\n",
    "#     mygliph <- gliphout_emerson[gliphout_emerson$pattern == rownames(gliphdf)[i], ]\n",
    "#     sample_subject_tab <- as.data.frame.matrix(table(mygliph$Sample, mygliph$subject))\n",
    "#     if (sum(grepl(\"Emerson\", rownames(sample_subject_tab))) > 0) {\n",
    "#         # subset to  samples\n",
    "#         sample_subject_tab <- sample_subject_tab[grepl(\"Emerson\", rownames(sample_subject_tab)), ]\n",
    "#         # select same samples in samples_tcr, then match colnames\n",
    "#         samples_tcr[rownames(sample_subject_tab), which(colnames(samples_tcr) %in% colnames(sample_subject_tab))] <-\n",
    "#             samples_tcr[rownames(sample_subject_tab), which(colnames(samples_tcr) %in% colnames(sample_subject_tab))] + 1\n",
    "#     }\n",
    "# }\n"
   ]
  },
  {
   "cell_type": "code",
   "execution_count": 27,
   "metadata": {
    "vscode": {
     "languageId": "r"
    }
   },
   "outputs": [
    {
     "data": {
      "text/html": [
       "<table class=\"dataframe\">\n",
       "<caption>A data.frame: 6 x 12</caption>\n",
       "<thead>\n",
       "\t<tr><th></th><th scope=col>CMV</th><th scope=col>EBV</th><th scope=col>HCV</th><th scope=col>Influenza</th><th scope=col>HomoSapiens</th><th scope=col>MDavis</th><th scope=col>HPV</th><th scope=col>CEF</th><th scope=col>TB</th><th scope=col>MCPyV</th><th scope=col>SP</th><th scope=col>DENV</th></tr>\n",
       "\t<tr><th></th><th scope=col>&lt;dbl&gt;</th><th scope=col>&lt;dbl&gt;</th><th scope=col>&lt;dbl&gt;</th><th scope=col>&lt;dbl&gt;</th><th scope=col>&lt;dbl&gt;</th><th scope=col>&lt;dbl&gt;</th><th scope=col>&lt;dbl&gt;</th><th scope=col>&lt;dbl&gt;</th><th scope=col>&lt;dbl&gt;</th><th scope=col>&lt;dbl&gt;</th><th scope=col>&lt;dbl&gt;</th><th scope=col>&lt;dbl&gt;</th></tr>\n",
       "</thead>\n",
       "<tbody>\n",
       "\t<tr><th scope=row>Emerson:P00001</th><td>1</td><td>1</td><td>2</td><td>0</td><td> 7</td><td>403</td><td>2</td><td>0</td><td>0</td><td>3</td><td>0</td><td>0</td></tr>\n",
       "\t<tr><th scope=row>Emerson:P00002</th><td>2</td><td>1</td><td>1</td><td>0</td><td> 1</td><td>111</td><td>0</td><td>0</td><td>0</td><td>0</td><td>0</td><td>0</td></tr>\n",
       "\t<tr><th scope=row>Emerson:P00004</th><td>6</td><td>5</td><td>4</td><td>7</td><td>19</td><td>667</td><td>1</td><td>0</td><td>0</td><td>3</td><td>0</td><td>0</td></tr>\n",
       "\t<tr><th scope=row>Emerson:P00005</th><td>3</td><td>0</td><td>1</td><td>0</td><td> 1</td><td>337</td><td>0</td><td>0</td><td>0</td><td>3</td><td>0</td><td>0</td></tr>\n",
       "\t<tr><th scope=row>Emerson:P00006</th><td>0</td><td>0</td><td>0</td><td>0</td><td> 0</td><td>  0</td><td>0</td><td>0</td><td>0</td><td>0</td><td>0</td><td>0</td></tr>\n",
       "\t<tr><th scope=row>Emerson:P00008</th><td>3</td><td>4</td><td>6</td><td>0</td><td> 9</td><td>439</td><td>0</td><td>0</td><td>0</td><td>0</td><td>0</td><td>0</td></tr>\n",
       "</tbody>\n",
       "</table>\n"
      ],
      "text/latex": [
       "A data.frame: 6 x 12\n",
       "\\begin{tabular}{r|llllllllllll}\n",
       "  & CMV & EBV & HCV & Influenza & HomoSapiens & MDavis & HPV & CEF & TB & MCPyV & SP & DENV\\\\\n",
       "  & <dbl> & <dbl> & <dbl> & <dbl> & <dbl> & <dbl> & <dbl> & <dbl> & <dbl> & <dbl> & <dbl> & <dbl>\\\\\n",
       "\\hline\n",
       "\tEmerson:P00001 & 1 & 1 & 2 & 0 &  7 & 403 & 2 & 0 & 0 & 3 & 0 & 0\\\\\n",
       "\tEmerson:P00002 & 2 & 1 & 1 & 0 &  1 & 111 & 0 & 0 & 0 & 0 & 0 & 0\\\\\n",
       "\tEmerson:P00004 & 6 & 5 & 4 & 7 & 19 & 667 & 1 & 0 & 0 & 3 & 0 & 0\\\\\n",
       "\tEmerson:P00005 & 3 & 0 & 1 & 0 &  1 & 337 & 0 & 0 & 0 & 3 & 0 & 0\\\\\n",
       "\tEmerson:P00006 & 0 & 0 & 0 & 0 &  0 &   0 & 0 & 0 & 0 & 0 & 0 & 0\\\\\n",
       "\tEmerson:P00008 & 3 & 4 & 6 & 0 &  9 & 439 & 0 & 0 & 0 & 0 & 0 & 0\\\\\n",
       "\\end{tabular}\n"
      ],
      "text/markdown": [
       "\n",
       "A data.frame: 6 x 12\n",
       "\n",
       "| <!--/--> | CMV &lt;dbl&gt; | EBV &lt;dbl&gt; | HCV &lt;dbl&gt; | Influenza &lt;dbl&gt; | HomoSapiens &lt;dbl&gt; | MDavis &lt;dbl&gt; | HPV &lt;dbl&gt; | CEF &lt;dbl&gt; | TB &lt;dbl&gt; | MCPyV &lt;dbl&gt; | SP &lt;dbl&gt; | DENV &lt;dbl&gt; |\n",
       "|---|---|---|---|---|---|---|---|---|---|---|---|---|\n",
       "| Emerson:P00001 | 1 | 1 | 2 | 0 |  7 | 403 | 2 | 0 | 0 | 3 | 0 | 0 |\n",
       "| Emerson:P00002 | 2 | 1 | 1 | 0 |  1 | 111 | 0 | 0 | 0 | 0 | 0 | 0 |\n",
       "| Emerson:P00004 | 6 | 5 | 4 | 7 | 19 | 667 | 1 | 0 | 0 | 3 | 0 | 0 |\n",
       "| Emerson:P00005 | 3 | 0 | 1 | 0 |  1 | 337 | 0 | 0 | 0 | 3 | 0 | 0 |\n",
       "| Emerson:P00006 | 0 | 0 | 0 | 0 |  0 |   0 | 0 | 0 | 0 | 0 | 0 | 0 |\n",
       "| Emerson:P00008 | 3 | 4 | 6 | 0 |  9 | 439 | 0 | 0 | 0 | 0 | 0 | 0 |\n",
       "\n"
      ],
      "text/plain": [
       "               CMV EBV HCV Influenza HomoSapiens MDavis HPV CEF TB MCPyV SP\n",
       "Emerson:P00001 1   1   2   0          7          403    2   0   0  3     0 \n",
       "Emerson:P00002 2   1   1   0          1          111    0   0   0  0     0 \n",
       "Emerson:P00004 6   5   4   7         19          667    1   0   0  3     0 \n",
       "Emerson:P00005 3   0   1   0          1          337    0   0   0  3     0 \n",
       "Emerson:P00006 0   0   0   0          0            0    0   0   0  0     0 \n",
       "Emerson:P00008 3   4   6   0          9          439    0   0   0  0     0 \n",
       "               DENV\n",
       "Emerson:P00001 0   \n",
       "Emerson:P00002 0   \n",
       "Emerson:P00004 0   \n",
       "Emerson:P00005 0   \n",
       "Emerson:P00006 0   \n",
       "Emerson:P00008 0   "
      ]
     },
     "metadata": {},
     "output_type": "display_data"
    }
   ],
   "source": [
    "head(samples_tcr)"
   ]
  },
  {
   "cell_type": "code",
   "execution_count": 28,
   "metadata": {
    "vscode": {
     "languageId": "r"
    }
   },
   "outputs": [],
   "source": [
    "gliphin_emerson$subject <- gsub(\"_.*\", \"\", gliphin_emerson$subject.condition)"
   ]
  },
  {
   "cell_type": "code",
   "execution_count": 29,
   "metadata": {
    "vscode": {
     "languageId": "r"
    }
   },
   "outputs": [
    {
     "data": {
      "text/html": [
       "<table class=\"dataframe\">\n",
       "<caption>A data.frame: 6 x 7</caption>\n",
       "<thead>\n",
       "\t<tr><th></th><th scope=col>CDR3b</th><th scope=col>TRBV</th><th scope=col>TRBJ</th><th scope=col>CDR3a</th><th scope=col>subject.condition</th><th scope=col>count</th><th scope=col>subject</th></tr>\n",
       "\t<tr><th></th><th scope=col>&lt;chr&gt;</th><th scope=col>&lt;chr&gt;</th><th scope=col>&lt;chr&gt;</th><th scope=col>&lt;lgl&gt;</th><th scope=col>&lt;chr&gt;</th><th scope=col>&lt;dbl&gt;</th><th scope=col>&lt;chr&gt;</th></tr>\n",
       "</thead>\n",
       "<tbody>\n",
       "\t<tr><th scope=row>1</th><td>CAAAGGSYEQYF </td><td>TRBV6-8 </td><td>NA</td><td>NA</td><td>MDavis:B5101                  </td><td>1</td><td>MDavis:B5101   </td></tr>\n",
       "\t<tr><th scope=row>2</th><td>CAAAGTSTDTQYF</td><td>TRBV6-8 </td><td>NA</td><td>NA</td><td>MDavis:C0602_DRB11501         </td><td>1</td><td>MDavis:C0602   </td></tr>\n",
       "\t<tr><th scope=row>3</th><td>CAAAGYDEKLFF </td><td>TRBV9-1 </td><td>NA</td><td>NA</td><td>MDavis:DQA10102               </td><td>1</td><td>MDavis:DQA10102</td></tr>\n",
       "\t<tr><th scope=row>4</th><td>CAAGGMNTEAFF </td><td>TRBV30-1</td><td>NA</td><td>NA</td><td>MDavis:A3101_DQA10301_DRB10701</td><td>1</td><td>MDavis:A3101   </td></tr>\n",
       "\t<tr><th scope=row>5</th><td>CAAGQEGTDTQYF</td><td>TRBV29-1</td><td>NA</td><td>NA</td><td>MDavis:B0702_C0702            </td><td>1</td><td>MDavis:B0702   </td></tr>\n",
       "\t<tr><th scope=row>6</th><td>CAAGRGLNTEAFF</td><td>TRBV29-1</td><td>NA</td><td>NA</td><td>MDavis:B3501_C0401_DRB11501   </td><td>1</td><td>MDavis:B3501   </td></tr>\n",
       "</tbody>\n",
       "</table>\n"
      ],
      "text/latex": [
       "A data.frame: 6 x 7\n",
       "\\begin{tabular}{r|lllllll}\n",
       "  & CDR3b & TRBV & TRBJ & CDR3a & subject.condition & count & subject\\\\\n",
       "  & <chr> & <chr> & <chr> & <lgl> & <chr> & <dbl> & <chr>\\\\\n",
       "\\hline\n",
       "\t1 & CAAAGGSYEQYF  & TRBV6-8  & NA & NA & MDavis:B5101                   & 1 & MDavis:B5101   \\\\\n",
       "\t2 & CAAAGTSTDTQYF & TRBV6-8  & NA & NA & MDavis:C0602\\_DRB11501          & 1 & MDavis:C0602   \\\\\n",
       "\t3 & CAAAGYDEKLFF  & TRBV9-1  & NA & NA & MDavis:DQA10102                & 1 & MDavis:DQA10102\\\\\n",
       "\t4 & CAAGGMNTEAFF  & TRBV30-1 & NA & NA & MDavis:A3101\\_DQA10301\\_DRB10701 & 1 & MDavis:A3101   \\\\\n",
       "\t5 & CAAGQEGTDTQYF & TRBV29-1 & NA & NA & MDavis:B0702\\_C0702             & 1 & MDavis:B0702   \\\\\n",
       "\t6 & CAAGRGLNTEAFF & TRBV29-1 & NA & NA & MDavis:B3501\\_C0401\\_DRB11501    & 1 & MDavis:B3501   \\\\\n",
       "\\end{tabular}\n"
      ],
      "text/markdown": [
       "\n",
       "A data.frame: 6 x 7\n",
       "\n",
       "| <!--/--> | CDR3b &lt;chr&gt; | TRBV &lt;chr&gt; | TRBJ &lt;chr&gt; | CDR3a &lt;lgl&gt; | subject.condition &lt;chr&gt; | count &lt;dbl&gt; | subject &lt;chr&gt; |\n",
       "|---|---|---|---|---|---|---|---|\n",
       "| 1 | CAAAGGSYEQYF  | TRBV6-8  | NA | NA | MDavis:B5101                   | 1 | MDavis:B5101    |\n",
       "| 2 | CAAAGTSTDTQYF | TRBV6-8  | NA | NA | MDavis:C0602_DRB11501          | 1 | MDavis:C0602    |\n",
       "| 3 | CAAAGYDEKLFF  | TRBV9-1  | NA | NA | MDavis:DQA10102                | 1 | MDavis:DQA10102 |\n",
       "| 4 | CAAGGMNTEAFF  | TRBV30-1 | NA | NA | MDavis:A3101_DQA10301_DRB10701 | 1 | MDavis:A3101    |\n",
       "| 5 | CAAGQEGTDTQYF | TRBV29-1 | NA | NA | MDavis:B0702_C0702             | 1 | MDavis:B0702    |\n",
       "| 6 | CAAGRGLNTEAFF | TRBV29-1 | NA | NA | MDavis:B3501_C0401_DRB11501    | 1 | MDavis:B3501    |\n",
       "\n"
      ],
      "text/plain": [
       "  CDR3b         TRBV     TRBJ CDR3a subject.condition              count\n",
       "1 CAAAGGSYEQYF  TRBV6-8  NA   NA    MDavis:B5101                   1    \n",
       "2 CAAAGTSTDTQYF TRBV6-8  NA   NA    MDavis:C0602_DRB11501          1    \n",
       "3 CAAAGYDEKLFF  TRBV9-1  NA   NA    MDavis:DQA10102                1    \n",
       "4 CAAGGMNTEAFF  TRBV30-1 NA   NA    MDavis:A3101_DQA10301_DRB10701 1    \n",
       "5 CAAGQEGTDTQYF TRBV29-1 NA   NA    MDavis:B0702_C0702             1    \n",
       "6 CAAGRGLNTEAFF TRBV29-1 NA   NA    MDavis:B3501_C0401_DRB11501    1    \n",
       "  subject        \n",
       "1 MDavis:B5101   \n",
       "2 MDavis:C0602   \n",
       "3 MDavis:DQA10102\n",
       "4 MDavis:A3101   \n",
       "5 MDavis:B0702   \n",
       "6 MDavis:B3501   "
      ]
     },
     "metadata": {},
     "output_type": "display_data"
    }
   ],
   "source": [
    "head(gliphin_emerson)"
   ]
  },
  {
   "cell_type": "code",
   "execution_count": 30,
   "metadata": {
    "vscode": {
     "languageId": "r"
    }
   },
   "outputs": [],
   "source": [
    "gliphin_emerson_samples <- gliphin_emerson[ grepl(\"Emerson\", gliphin_emerson$subject),]"
   ]
  },
  {
   "cell_type": "code",
   "execution_count": 31,
   "metadata": {
    "vscode": {
     "languageId": "r"
    }
   },
   "outputs": [
    {
     "data": {
      "text/html": [
       "<table class=\"dataframe\">\n",
       "<caption>A data.frame: 6 x 7</caption>\n",
       "<thead>\n",
       "\t<tr><th></th><th scope=col>CDR3b</th><th scope=col>TRBV</th><th scope=col>TRBJ</th><th scope=col>CDR3a</th><th scope=col>subject.condition</th><th scope=col>count</th><th scope=col>subject</th></tr>\n",
       "\t<tr><th></th><th scope=col>&lt;chr&gt;</th><th scope=col>&lt;chr&gt;</th><th scope=col>&lt;chr&gt;</th><th scope=col>&lt;lgl&gt;</th><th scope=col>&lt;chr&gt;</th><th scope=col>&lt;dbl&gt;</th><th scope=col>&lt;chr&gt;</th></tr>\n",
       "</thead>\n",
       "<tbody>\n",
       "\t<tr><th scope=row>21816</th><td>CASSRGQGPYEQYF    </td><td>TRBV06-05</td><td>TRBJ02-07</td><td>NA</td><td>Emerson:P00001_1</td><td>39</td><td>Emerson:P00001</td></tr>\n",
       "\t<tr><th scope=row>21817</th><td>CAISPASPRGPSTDTQYF</td><td>TRBV28-01</td><td>TRBJ02-03</td><td>NA</td><td>Emerson:P00001_2</td><td>85</td><td>Emerson:P00001</td></tr>\n",
       "\t<tr><th scope=row>21818</th><td>CASSFQDRGRNEQFF   </td><td>TRBV07-06</td><td>TRBJ02-01</td><td>NA</td><td>Emerson:P00001_3</td><td>46</td><td>Emerson:P00001</td></tr>\n",
       "\t<tr><th scope=row>21819</th><td>CASSRDRVQETQYF    </td><td>TRBV06-05</td><td>TRBJ02-05</td><td>NA</td><td>Emerson:P00001_4</td><td>53</td><td>Emerson:P00001</td></tr>\n",
       "\t<tr><th scope=row>21820</th><td>CASSPGQGYEQYF     </td><td>TRBV12   </td><td>TRBJ02-07</td><td>NA</td><td>Emerson:P00001_5</td><td>61</td><td>Emerson:P00001</td></tr>\n",
       "\t<tr><th scope=row>21821</th><td>CASSLVTGAGTEAFF   </td><td>TRBV05-04</td><td>TRBJ01-01</td><td>NA</td><td>Emerson:P00001_6</td><td>94</td><td>Emerson:P00001</td></tr>\n",
       "</tbody>\n",
       "</table>\n"
      ],
      "text/latex": [
       "A data.frame: 6 x 7\n",
       "\\begin{tabular}{r|lllllll}\n",
       "  & CDR3b & TRBV & TRBJ & CDR3a & subject.condition & count & subject\\\\\n",
       "  & <chr> & <chr> & <chr> & <lgl> & <chr> & <dbl> & <chr>\\\\\n",
       "\\hline\n",
       "\t21816 & CASSRGQGPYEQYF     & TRBV06-05 & TRBJ02-07 & NA & Emerson:P00001\\_1 & 39 & Emerson:P00001\\\\\n",
       "\t21817 & CAISPASPRGPSTDTQYF & TRBV28-01 & TRBJ02-03 & NA & Emerson:P00001\\_2 & 85 & Emerson:P00001\\\\\n",
       "\t21818 & CASSFQDRGRNEQFF    & TRBV07-06 & TRBJ02-01 & NA & Emerson:P00001\\_3 & 46 & Emerson:P00001\\\\\n",
       "\t21819 & CASSRDRVQETQYF     & TRBV06-05 & TRBJ02-05 & NA & Emerson:P00001\\_4 & 53 & Emerson:P00001\\\\\n",
       "\t21820 & CASSPGQGYEQYF      & TRBV12    & TRBJ02-07 & NA & Emerson:P00001\\_5 & 61 & Emerson:P00001\\\\\n",
       "\t21821 & CASSLVTGAGTEAFF    & TRBV05-04 & TRBJ01-01 & NA & Emerson:P00001\\_6 & 94 & Emerson:P00001\\\\\n",
       "\\end{tabular}\n"
      ],
      "text/markdown": [
       "\n",
       "A data.frame: 6 x 7\n",
       "\n",
       "| <!--/--> | CDR3b &lt;chr&gt; | TRBV &lt;chr&gt; | TRBJ &lt;chr&gt; | CDR3a &lt;lgl&gt; | subject.condition &lt;chr&gt; | count &lt;dbl&gt; | subject &lt;chr&gt; |\n",
       "|---|---|---|---|---|---|---|---|\n",
       "| 21816 | CASSRGQGPYEQYF     | TRBV06-05 | TRBJ02-07 | NA | Emerson:P00001_1 | 39 | Emerson:P00001 |\n",
       "| 21817 | CAISPASPRGPSTDTQYF | TRBV28-01 | TRBJ02-03 | NA | Emerson:P00001_2 | 85 | Emerson:P00001 |\n",
       "| 21818 | CASSFQDRGRNEQFF    | TRBV07-06 | TRBJ02-01 | NA | Emerson:P00001_3 | 46 | Emerson:P00001 |\n",
       "| 21819 | CASSRDRVQETQYF     | TRBV06-05 | TRBJ02-05 | NA | Emerson:P00001_4 | 53 | Emerson:P00001 |\n",
       "| 21820 | CASSPGQGYEQYF      | TRBV12    | TRBJ02-07 | NA | Emerson:P00001_5 | 61 | Emerson:P00001 |\n",
       "| 21821 | CASSLVTGAGTEAFF    | TRBV05-04 | TRBJ01-01 | NA | Emerson:P00001_6 | 94 | Emerson:P00001 |\n",
       "\n"
      ],
      "text/plain": [
       "      CDR3b              TRBV      TRBJ      CDR3a subject.condition count\n",
       "21816 CASSRGQGPYEQYF     TRBV06-05 TRBJ02-07 NA    Emerson:P00001_1  39   \n",
       "21817 CAISPASPRGPSTDTQYF TRBV28-01 TRBJ02-03 NA    Emerson:P00001_2  85   \n",
       "21818 CASSFQDRGRNEQFF    TRBV07-06 TRBJ02-01 NA    Emerson:P00001_3  46   \n",
       "21819 CASSRDRVQETQYF     TRBV06-05 TRBJ02-05 NA    Emerson:P00001_4  53   \n",
       "21820 CASSPGQGYEQYF      TRBV12    TRBJ02-07 NA    Emerson:P00001_5  61   \n",
       "21821 CASSLVTGAGTEAFF    TRBV05-04 TRBJ01-01 NA    Emerson:P00001_6  94   \n",
       "      subject       \n",
       "21816 Emerson:P00001\n",
       "21817 Emerson:P00001\n",
       "21818 Emerson:P00001\n",
       "21819 Emerson:P00001\n",
       "21820 Emerson:P00001\n",
       "21821 Emerson:P00001"
      ]
     },
     "metadata": {},
     "output_type": "display_data"
    }
   ],
   "source": [
    "head(gliphin_emerson_samples)"
   ]
  },
  {
   "cell_type": "code",
   "execution_count": 32,
   "metadata": {
    "vscode": {
     "languageId": "r"
    }
   },
   "outputs": [],
   "source": [
    "mytab <- gliphin_emerson_samples %>% group_by(subject) %>% summarise(n = n())\n",
    "mytab1 <- gliphin_emerson_samples %>% group_by(subject) %>% summarise(SumCount = sum(count))\n"
   ]
  },
  {
   "cell_type": "code",
   "execution_count": 33,
   "metadata": {
    "vscode": {
     "languageId": "r"
    }
   },
   "outputs": [
    {
     "data": {
      "text/html": [
       "<table class=\"dataframe\">\n",
       "<caption>A tibble: 6 x 2</caption>\n",
       "<thead>\n",
       "\t<tr><th scope=col>subject</th><th scope=col>SumCount</th></tr>\n",
       "\t<tr><th scope=col>&lt;chr&gt;</th><th scope=col>&lt;dbl&gt;</th></tr>\n",
       "</thead>\n",
       "<tbody>\n",
       "\t<tr><td>Emerson:P00001</td><td>30394</td></tr>\n",
       "\t<tr><td>Emerson:P00002</td><td> 1940</td></tr>\n",
       "\t<tr><td>Emerson:P00004</td><td>48734</td></tr>\n",
       "\t<tr><td>Emerson:P00005</td><td> 8595</td></tr>\n",
       "\t<tr><td>Emerson:P00006</td><td>  222</td></tr>\n",
       "\t<tr><td>Emerson:P00008</td><td> 5723</td></tr>\n",
       "</tbody>\n",
       "</table>\n"
      ],
      "text/latex": [
       "A tibble: 6 x 2\n",
       "\\begin{tabular}{ll}\n",
       " subject & SumCount\\\\\n",
       " <chr> & <dbl>\\\\\n",
       "\\hline\n",
       "\t Emerson:P00001 & 30394\\\\\n",
       "\t Emerson:P00002 &  1940\\\\\n",
       "\t Emerson:P00004 & 48734\\\\\n",
       "\t Emerson:P00005 &  8595\\\\\n",
       "\t Emerson:P00006 &   222\\\\\n",
       "\t Emerson:P00008 &  5723\\\\\n",
       "\\end{tabular}\n"
      ],
      "text/markdown": [
       "\n",
       "A tibble: 6 x 2\n",
       "\n",
       "| subject &lt;chr&gt; | SumCount &lt;dbl&gt; |\n",
       "|---|---|\n",
       "| Emerson:P00001 | 30394 |\n",
       "| Emerson:P00002 |  1940 |\n",
       "| Emerson:P00004 | 48734 |\n",
       "| Emerson:P00005 |  8595 |\n",
       "| Emerson:P00006 |   222 |\n",
       "| Emerson:P00008 |  5723 |\n",
       "\n"
      ],
      "text/plain": [
       "  subject        SumCount\n",
       "1 Emerson:P00001 30394   \n",
       "2 Emerson:P00002  1940   \n",
       "3 Emerson:P00004 48734   \n",
       "4 Emerson:P00005  8595   \n",
       "5 Emerson:P00006   222   \n",
       "6 Emerson:P00008  5723   "
      ]
     },
     "metadata": {},
     "output_type": "display_data"
    }
   ],
   "source": [
    "head(mytab1)"
   ]
  },
  {
   "cell_type": "code",
   "execution_count": 34,
   "metadata": {
    "vscode": {
     "languageId": "r"
    }
   },
   "outputs": [],
   "source": [
    "samples_tcr$n_cdr3 <- mytab$n[ match(rownames(samples_tcr), mytab$subject) ]\n",
    "samples_tcr$cdr3_reads <- mytab1$SumCount[ match(rownames(samples_tcr), mytab1$subject) ]"
   ]
  },
  {
   "cell_type": "code",
   "execution_count": 35,
   "metadata": {
    "vscode": {
     "languageId": "r"
    }
   },
   "outputs": [
    {
     "data": {
      "text/html": [
       "<table class=\"dataframe\">\n",
       "<caption>A data.frame: 6 x 14</caption>\n",
       "<thead>\n",
       "\t<tr><th></th><th scope=col>CMV</th><th scope=col>EBV</th><th scope=col>HCV</th><th scope=col>Influenza</th><th scope=col>HomoSapiens</th><th scope=col>MDavis</th><th scope=col>HPV</th><th scope=col>CEF</th><th scope=col>TB</th><th scope=col>MCPyV</th><th scope=col>SP</th><th scope=col>DENV</th><th scope=col>n_cdr3</th><th scope=col>cdr3_reads</th></tr>\n",
       "\t<tr><th></th><th scope=col>&lt;dbl&gt;</th><th scope=col>&lt;dbl&gt;</th><th scope=col>&lt;dbl&gt;</th><th scope=col>&lt;dbl&gt;</th><th scope=col>&lt;dbl&gt;</th><th scope=col>&lt;dbl&gt;</th><th scope=col>&lt;dbl&gt;</th><th scope=col>&lt;dbl&gt;</th><th scope=col>&lt;dbl&gt;</th><th scope=col>&lt;dbl&gt;</th><th scope=col>&lt;dbl&gt;</th><th scope=col>&lt;dbl&gt;</th><th scope=col>&lt;int&gt;</th><th scope=col>&lt;dbl&gt;</th></tr>\n",
       "</thead>\n",
       "<tbody>\n",
       "\t<tr><th scope=row>Emerson:P00001</th><td>1</td><td>1</td><td>2</td><td>0</td><td> 7</td><td>403</td><td>2</td><td>0</td><td>0</td><td>3</td><td>0</td><td>0</td><td>314</td><td>30394</td></tr>\n",
       "\t<tr><th scope=row>Emerson:P00002</th><td>2</td><td>1</td><td>1</td><td>0</td><td> 1</td><td>111</td><td>0</td><td>0</td><td>0</td><td>0</td><td>0</td><td>0</td><td> 82</td><td> 1940</td></tr>\n",
       "\t<tr><th scope=row>Emerson:P00004</th><td>6</td><td>5</td><td>4</td><td>7</td><td>19</td><td>667</td><td>1</td><td>0</td><td>0</td><td>3</td><td>0</td><td>0</td><td>504</td><td>48734</td></tr>\n",
       "\t<tr><th scope=row>Emerson:P00005</th><td>3</td><td>0</td><td>1</td><td>0</td><td> 1</td><td>337</td><td>0</td><td>0</td><td>0</td><td>3</td><td>0</td><td>0</td><td>205</td><td> 8595</td></tr>\n",
       "\t<tr><th scope=row>Emerson:P00006</th><td>0</td><td>0</td><td>0</td><td>0</td><td> 0</td><td>  0</td><td>0</td><td>0</td><td>0</td><td>0</td><td>0</td><td>0</td><td>  3</td><td>  222</td></tr>\n",
       "\t<tr><th scope=row>Emerson:P00008</th><td>3</td><td>4</td><td>6</td><td>0</td><td> 9</td><td>439</td><td>0</td><td>0</td><td>0</td><td>0</td><td>0</td><td>0</td><td>252</td><td> 5723</td></tr>\n",
       "</tbody>\n",
       "</table>\n"
      ],
      "text/latex": [
       "A data.frame: 6 x 14\n",
       "\\begin{tabular}{r|llllllllllllll}\n",
       "  & CMV & EBV & HCV & Influenza & HomoSapiens & MDavis & HPV & CEF & TB & MCPyV & SP & DENV & n\\_cdr3 & cdr3\\_reads\\\\\n",
       "  & <dbl> & <dbl> & <dbl> & <dbl> & <dbl> & <dbl> & <dbl> & <dbl> & <dbl> & <dbl> & <dbl> & <dbl> & <int> & <dbl>\\\\\n",
       "\\hline\n",
       "\tEmerson:P00001 & 1 & 1 & 2 & 0 &  7 & 403 & 2 & 0 & 0 & 3 & 0 & 0 & 314 & 30394\\\\\n",
       "\tEmerson:P00002 & 2 & 1 & 1 & 0 &  1 & 111 & 0 & 0 & 0 & 0 & 0 & 0 &  82 &  1940\\\\\n",
       "\tEmerson:P00004 & 6 & 5 & 4 & 7 & 19 & 667 & 1 & 0 & 0 & 3 & 0 & 0 & 504 & 48734\\\\\n",
       "\tEmerson:P00005 & 3 & 0 & 1 & 0 &  1 & 337 & 0 & 0 & 0 & 3 & 0 & 0 & 205 &  8595\\\\\n",
       "\tEmerson:P00006 & 0 & 0 & 0 & 0 &  0 &   0 & 0 & 0 & 0 & 0 & 0 & 0 &   3 &   222\\\\\n",
       "\tEmerson:P00008 & 3 & 4 & 6 & 0 &  9 & 439 & 0 & 0 & 0 & 0 & 0 & 0 & 252 &  5723\\\\\n",
       "\\end{tabular}\n"
      ],
      "text/markdown": [
       "\n",
       "A data.frame: 6 x 14\n",
       "\n",
       "| <!--/--> | CMV &lt;dbl&gt; | EBV &lt;dbl&gt; | HCV &lt;dbl&gt; | Influenza &lt;dbl&gt; | HomoSapiens &lt;dbl&gt; | MDavis &lt;dbl&gt; | HPV &lt;dbl&gt; | CEF &lt;dbl&gt; | TB &lt;dbl&gt; | MCPyV &lt;dbl&gt; | SP &lt;dbl&gt; | DENV &lt;dbl&gt; | n_cdr3 &lt;int&gt; | cdr3_reads &lt;dbl&gt; |\n",
       "|---|---|---|---|---|---|---|---|---|---|---|---|---|---|---|\n",
       "| Emerson:P00001 | 1 | 1 | 2 | 0 |  7 | 403 | 2 | 0 | 0 | 3 | 0 | 0 | 314 | 30394 |\n",
       "| Emerson:P00002 | 2 | 1 | 1 | 0 |  1 | 111 | 0 | 0 | 0 | 0 | 0 | 0 |  82 |  1940 |\n",
       "| Emerson:P00004 | 6 | 5 | 4 | 7 | 19 | 667 | 1 | 0 | 0 | 3 | 0 | 0 | 504 | 48734 |\n",
       "| Emerson:P00005 | 3 | 0 | 1 | 0 |  1 | 337 | 0 | 0 | 0 | 3 | 0 | 0 | 205 |  8595 |\n",
       "| Emerson:P00006 | 0 | 0 | 0 | 0 |  0 |   0 | 0 | 0 | 0 | 0 | 0 | 0 |   3 |   222 |\n",
       "| Emerson:P00008 | 3 | 4 | 6 | 0 |  9 | 439 | 0 | 0 | 0 | 0 | 0 | 0 | 252 |  5723 |\n",
       "\n"
      ],
      "text/plain": [
       "               CMV EBV HCV Influenza HomoSapiens MDavis HPV CEF TB MCPyV SP\n",
       "Emerson:P00001 1   1   2   0          7          403    2   0   0  3     0 \n",
       "Emerson:P00002 2   1   1   0          1          111    0   0   0  0     0 \n",
       "Emerson:P00004 6   5   4   7         19          667    1   0   0  3     0 \n",
       "Emerson:P00005 3   0   1   0          1          337    0   0   0  3     0 \n",
       "Emerson:P00006 0   0   0   0          0            0    0   0   0  0     0 \n",
       "Emerson:P00008 3   4   6   0          9          439    0   0   0  0     0 \n",
       "               DENV n_cdr3 cdr3_reads\n",
       "Emerson:P00001 0    314    30394     \n",
       "Emerson:P00002 0     82     1940     \n",
       "Emerson:P00004 0    504    48734     \n",
       "Emerson:P00005 0    205     8595     \n",
       "Emerson:P00006 0      3      222     \n",
       "Emerson:P00008 0    252     5723     "
      ]
     },
     "metadata": {},
     "output_type": "display_data"
    }
   ],
   "source": [
    "head(samples_tcr)"
   ]
  },
  {
   "cell_type": "code",
   "execution_count": 36,
   "metadata": {
    "vscode": {
     "languageId": "r"
    }
   },
   "outputs": [],
   "source": [
    "# get the matrix of GLIPH x samples\n",
    "pat_type <- as.data.frame.matrix(table(gliphout_emerson %>% select(pattern, Sample)))"
   ]
  },
  {
   "cell_type": "code",
   "execution_count": 37,
   "metadata": {
    "vscode": {
     "languageId": "r"
    }
   },
   "outputs": [],
   "source": [
    "pat_type <- pat_type[, grepl(\"Emerson\", colnames(pat_type))]"
   ]
  },
  {
   "cell_type": "code",
   "execution_count": 38,
   "metadata": {
    "vscode": {
     "languageId": "r"
    }
   },
   "outputs": [
    {
     "data": {
      "text/html": [
       "<table class=\"dataframe\">\n",
       "<caption>A data.frame: 6 x 253</caption>\n",
       "<thead>\n",
       "\t<tr><th></th><th scope=col>Emerson:P00001</th><th scope=col>Emerson:P00002</th><th scope=col>Emerson:P00004</th><th scope=col>Emerson:P00005</th><th scope=col>Emerson:P00006</th><th scope=col>Emerson:P00008</th><th scope=col>Emerson:P00009</th><th scope=col>Emerson:P00011</th><th scope=col>Emerson:P00013</th><th scope=col>Emerson:P00014</th><th scope=col>...</th><th scope=col>Emerson:P00626</th><th scope=col>Emerson:P00628</th><th scope=col>Emerson:P00636</th><th scope=col>Emerson:P00639</th><th scope=col>Emerson:P00647</th><th scope=col>Emerson:P00649</th><th scope=col>Emerson:P00650</th><th scope=col>Emerson:P00654</th><th scope=col>Emerson:P00656</th><th scope=col>Emerson:P00665</th></tr>\n",
       "\t<tr><th></th><th scope=col>&lt;int&gt;</th><th scope=col>&lt;int&gt;</th><th scope=col>&lt;int&gt;</th><th scope=col>&lt;int&gt;</th><th scope=col>&lt;int&gt;</th><th scope=col>&lt;int&gt;</th><th scope=col>&lt;int&gt;</th><th scope=col>&lt;int&gt;</th><th scope=col>&lt;int&gt;</th><th scope=col>&lt;int&gt;</th><th scope=col>...</th><th scope=col>&lt;int&gt;</th><th scope=col>&lt;int&gt;</th><th scope=col>&lt;int&gt;</th><th scope=col>&lt;int&gt;</th><th scope=col>&lt;int&gt;</th><th scope=col>&lt;int&gt;</th><th scope=col>&lt;int&gt;</th><th scope=col>&lt;int&gt;</th><th scope=col>&lt;int&gt;</th><th scope=col>&lt;int&gt;</th></tr>\n",
       "</thead>\n",
       "<tbody>\n",
       "\t<tr><th scope=row>%AAGYG</th><td>0</td><td>0</td><td>0</td><td>0</td><td>0</td><td>0</td><td>0</td><td>0</td><td>0</td><td>0</td><td>...</td><td>0</td><td>0</td><td>0</td><td>0</td><td>0</td><td>0</td><td>0</td><td>0</td><td>0</td><td>0</td></tr>\n",
       "\t<tr><th scope=row>%AANEK</th><td>0</td><td>0</td><td>0</td><td>0</td><td>0</td><td>0</td><td>0</td><td>0</td><td>0</td><td>0</td><td>...</td><td>0</td><td>0</td><td>0</td><td>0</td><td>1</td><td>0</td><td>0</td><td>0</td><td>0</td><td>0</td></tr>\n",
       "\t<tr><th scope=row>%AAQET</th><td>0</td><td>0</td><td>0</td><td>0</td><td>0</td><td>0</td><td>0</td><td>0</td><td>0</td><td>0</td><td>...</td><td>0</td><td>0</td><td>0</td><td>0</td><td>0</td><td>0</td><td>0</td><td>0</td><td>0</td><td>0</td></tr>\n",
       "\t<tr><th scope=row>%ADRLNTE</th><td>0</td><td>0</td><td>0</td><td>0</td><td>0</td><td>0</td><td>0</td><td>0</td><td>0</td><td>0</td><td>...</td><td>0</td><td>0</td><td>0</td><td>0</td><td>0</td><td>0</td><td>0</td><td>0</td><td>0</td><td>0</td></tr>\n",
       "\t<tr><th scope=row>%ADSGNT</th><td>0</td><td>0</td><td>0</td><td>0</td><td>0</td><td>0</td><td>0</td><td>0</td><td>0</td><td>0</td><td>...</td><td>0</td><td>0</td><td>0</td><td>1</td><td>0</td><td>0</td><td>0</td><td>0</td><td>0</td><td>0</td></tr>\n",
       "\t<tr><th scope=row>%ADT</th><td>0</td><td>0</td><td>0</td><td>0</td><td>0</td><td>0</td><td>0</td><td>0</td><td>0</td><td>0</td><td>...</td><td>0</td><td>0</td><td>0</td><td>0</td><td>0</td><td>0</td><td>0</td><td>0</td><td>0</td><td>0</td></tr>\n",
       "</tbody>\n",
       "</table>\n"
      ],
      "text/latex": [
       "A data.frame: 6 x 253\n",
       "\\begin{tabular}{r|lllllllllllllllllllll}\n",
       "  & Emerson:P00001 & Emerson:P00002 & Emerson:P00004 & Emerson:P00005 & Emerson:P00006 & Emerson:P00008 & Emerson:P00009 & Emerson:P00011 & Emerson:P00013 & Emerson:P00014 & ... & Emerson:P00626 & Emerson:P00628 & Emerson:P00636 & Emerson:P00639 & Emerson:P00647 & Emerson:P00649 & Emerson:P00650 & Emerson:P00654 & Emerson:P00656 & Emerson:P00665\\\\\n",
       "  & <int> & <int> & <int> & <int> & <int> & <int> & <int> & <int> & <int> & <int> & ... & <int> & <int> & <int> & <int> & <int> & <int> & <int> & <int> & <int> & <int>\\\\\n",
       "\\hline\n",
       "\t\\%AAGYG & 0 & 0 & 0 & 0 & 0 & 0 & 0 & 0 & 0 & 0 & ... & 0 & 0 & 0 & 0 & 0 & 0 & 0 & 0 & 0 & 0\\\\\n",
       "\t\\%AANEK & 0 & 0 & 0 & 0 & 0 & 0 & 0 & 0 & 0 & 0 & ... & 0 & 0 & 0 & 0 & 1 & 0 & 0 & 0 & 0 & 0\\\\\n",
       "\t\\%AAQET & 0 & 0 & 0 & 0 & 0 & 0 & 0 & 0 & 0 & 0 & ... & 0 & 0 & 0 & 0 & 0 & 0 & 0 & 0 & 0 & 0\\\\\n",
       "\t\\%ADRLNTE & 0 & 0 & 0 & 0 & 0 & 0 & 0 & 0 & 0 & 0 & ... & 0 & 0 & 0 & 0 & 0 & 0 & 0 & 0 & 0 & 0\\\\\n",
       "\t\\%ADSGNT & 0 & 0 & 0 & 0 & 0 & 0 & 0 & 0 & 0 & 0 & ... & 0 & 0 & 0 & 1 & 0 & 0 & 0 & 0 & 0 & 0\\\\\n",
       "\t\\%ADT & 0 & 0 & 0 & 0 & 0 & 0 & 0 & 0 & 0 & 0 & ... & 0 & 0 & 0 & 0 & 0 & 0 & 0 & 0 & 0 & 0\\\\\n",
       "\\end{tabular}\n"
      ],
      "text/markdown": [
       "\n",
       "A data.frame: 6 x 253\n",
       "\n",
       "| <!--/--> | Emerson:P00001 &lt;int&gt; | Emerson:P00002 &lt;int&gt; | Emerson:P00004 &lt;int&gt; | Emerson:P00005 &lt;int&gt; | Emerson:P00006 &lt;int&gt; | Emerson:P00008 &lt;int&gt; | Emerson:P00009 &lt;int&gt; | Emerson:P00011 &lt;int&gt; | Emerson:P00013 &lt;int&gt; | Emerson:P00014 &lt;int&gt; | ... ... | Emerson:P00626 &lt;int&gt; | Emerson:P00628 &lt;int&gt; | Emerson:P00636 &lt;int&gt; | Emerson:P00639 &lt;int&gt; | Emerson:P00647 &lt;int&gt; | Emerson:P00649 &lt;int&gt; | Emerson:P00650 &lt;int&gt; | Emerson:P00654 &lt;int&gt; | Emerson:P00656 &lt;int&gt; | Emerson:P00665 &lt;int&gt; |\n",
       "|---|---|---|---|---|---|---|---|---|---|---|---|---|---|---|---|---|---|---|---|---|---|\n",
       "| %AAGYG | 0 | 0 | 0 | 0 | 0 | 0 | 0 | 0 | 0 | 0 | ... | 0 | 0 | 0 | 0 | 0 | 0 | 0 | 0 | 0 | 0 |\n",
       "| %AANEK | 0 | 0 | 0 | 0 | 0 | 0 | 0 | 0 | 0 | 0 | ... | 0 | 0 | 0 | 0 | 1 | 0 | 0 | 0 | 0 | 0 |\n",
       "| %AAQET | 0 | 0 | 0 | 0 | 0 | 0 | 0 | 0 | 0 | 0 | ... | 0 | 0 | 0 | 0 | 0 | 0 | 0 | 0 | 0 | 0 |\n",
       "| %ADRLNTE | 0 | 0 | 0 | 0 | 0 | 0 | 0 | 0 | 0 | 0 | ... | 0 | 0 | 0 | 0 | 0 | 0 | 0 | 0 | 0 | 0 |\n",
       "| %ADSGNT | 0 | 0 | 0 | 0 | 0 | 0 | 0 | 0 | 0 | 0 | ... | 0 | 0 | 0 | 1 | 0 | 0 | 0 | 0 | 0 | 0 |\n",
       "| %ADT | 0 | 0 | 0 | 0 | 0 | 0 | 0 | 0 | 0 | 0 | ... | 0 | 0 | 0 | 0 | 0 | 0 | 0 | 0 | 0 | 0 |\n",
       "\n"
      ],
      "text/plain": [
       "         Emerson:P00001 Emerson:P00002 Emerson:P00004 Emerson:P00005\n",
       "%AAGYG   0              0              0              0             \n",
       "%AANEK   0              0              0              0             \n",
       "%AAQET   0              0              0              0             \n",
       "%ADRLNTE 0              0              0              0             \n",
       "%ADSGNT  0              0              0              0             \n",
       "%ADT     0              0              0              0             \n",
       "         Emerson:P00006 Emerson:P00008 Emerson:P00009 Emerson:P00011\n",
       "%AAGYG   0              0              0              0             \n",
       "%AANEK   0              0              0              0             \n",
       "%AAQET   0              0              0              0             \n",
       "%ADRLNTE 0              0              0              0             \n",
       "%ADSGNT  0              0              0              0             \n",
       "%ADT     0              0              0              0             \n",
       "         Emerson:P00013 Emerson:P00014 ... Emerson:P00626 Emerson:P00628\n",
       "%AAGYG   0              0              ... 0              0             \n",
       "%AANEK   0              0              ... 0              0             \n",
       "%AAQET   0              0              ... 0              0             \n",
       "%ADRLNTE 0              0              ... 0              0             \n",
       "%ADSGNT  0              0              ... 0              0             \n",
       "%ADT     0              0              ... 0              0             \n",
       "         Emerson:P00636 Emerson:P00639 Emerson:P00647 Emerson:P00649\n",
       "%AAGYG   0              0              0              0             \n",
       "%AANEK   0              0              1              0             \n",
       "%AAQET   0              0              0              0             \n",
       "%ADRLNTE 0              0              0              0             \n",
       "%ADSGNT  0              1              0              0             \n",
       "%ADT     0              0              0              0             \n",
       "         Emerson:P00650 Emerson:P00654 Emerson:P00656 Emerson:P00665\n",
       "%AAGYG   0              0              0              0             \n",
       "%AANEK   0              0              0              0             \n",
       "%AAQET   0              0              0              0             \n",
       "%ADRLNTE 0              0              0              0             \n",
       "%ADSGNT  0              0              0              0             \n",
       "%ADT     0              0              0              0             "
      ]
     },
     "metadata": {},
     "output_type": "display_data"
    }
   ],
   "source": [
    "head(pat_type)"
   ]
  },
  {
   "cell_type": "code",
   "execution_count": 39,
   "metadata": {
    "vscode": {
     "languageId": "r"
    }
   },
   "outputs": [],
   "source": [
    "pat_type[ pat_type > 0] <- 1 # sometimes for one sample there are two CDR3s grouped in one cluster, recode to 1 to count once"
   ]
  },
  {
   "cell_type": "code",
   "execution_count": 40,
   "metadata": {
    "vscode": {
     "languageId": "r"
    }
   },
   "outputs": [],
   "source": [
    "# fill n_gliph for each samples\n",
    "n_gliph <- colSums(pat_type)"
   ]
  },
  {
   "cell_type": "code",
   "execution_count": 41,
   "metadata": {
    "vscode": {
     "languageId": "r"
    }
   },
   "outputs": [],
   "source": [
    "samples_tcr$n_gliph <- n_gliph[ match(rownames(samples_tcr), names(n_gliph)) ]"
   ]
  },
  {
   "cell_type": "code",
   "execution_count": 42,
   "metadata": {
    "vscode": {
     "languageId": "r"
    }
   },
   "outputs": [
    {
     "data": {
      "text/html": [
       "<table class=\"dataframe\">\n",
       "<caption>A data.frame: 6 x 15</caption>\n",
       "<thead>\n",
       "\t<tr><th></th><th scope=col>CMV</th><th scope=col>EBV</th><th scope=col>HCV</th><th scope=col>Influenza</th><th scope=col>HomoSapiens</th><th scope=col>MDavis</th><th scope=col>HPV</th><th scope=col>CEF</th><th scope=col>TB</th><th scope=col>MCPyV</th><th scope=col>SP</th><th scope=col>DENV</th><th scope=col>n_cdr3</th><th scope=col>cdr3_reads</th><th scope=col>n_gliph</th></tr>\n",
       "\t<tr><th></th><th scope=col>&lt;dbl&gt;</th><th scope=col>&lt;dbl&gt;</th><th scope=col>&lt;dbl&gt;</th><th scope=col>&lt;dbl&gt;</th><th scope=col>&lt;dbl&gt;</th><th scope=col>&lt;dbl&gt;</th><th scope=col>&lt;dbl&gt;</th><th scope=col>&lt;dbl&gt;</th><th scope=col>&lt;dbl&gt;</th><th scope=col>&lt;dbl&gt;</th><th scope=col>&lt;dbl&gt;</th><th scope=col>&lt;dbl&gt;</th><th scope=col>&lt;int&gt;</th><th scope=col>&lt;dbl&gt;</th><th scope=col>&lt;dbl&gt;</th></tr>\n",
       "</thead>\n",
       "<tbody>\n",
       "\t<tr><th scope=row>Emerson:P00001</th><td>1</td><td>1</td><td>2</td><td>0</td><td> 7</td><td>403</td><td>2</td><td>0</td><td>0</td><td>3</td><td>0</td><td>0</td><td>314</td><td>30394</td><td>333</td></tr>\n",
       "\t<tr><th scope=row>Emerson:P00002</th><td>2</td><td>1</td><td>1</td><td>0</td><td> 1</td><td>111</td><td>0</td><td>0</td><td>0</td><td>0</td><td>0</td><td>0</td><td> 82</td><td> 1940</td><td> 73</td></tr>\n",
       "\t<tr><th scope=row>Emerson:P00004</th><td>6</td><td>5</td><td>4</td><td>7</td><td>19</td><td>667</td><td>1</td><td>0</td><td>0</td><td>3</td><td>0</td><td>0</td><td>504</td><td>48734</td><td>521</td></tr>\n",
       "\t<tr><th scope=row>Emerson:P00005</th><td>3</td><td>0</td><td>1</td><td>0</td><td> 1</td><td>337</td><td>0</td><td>0</td><td>0</td><td>3</td><td>0</td><td>0</td><td>205</td><td> 8595</td><td>193</td></tr>\n",
       "\t<tr><th scope=row>Emerson:P00006</th><td>0</td><td>0</td><td>0</td><td>0</td><td> 0</td><td>  0</td><td>0</td><td>0</td><td>0</td><td>0</td><td>0</td><td>0</td><td>  3</td><td>  222</td><td>  1</td></tr>\n",
       "\t<tr><th scope=row>Emerson:P00008</th><td>3</td><td>4</td><td>6</td><td>0</td><td> 9</td><td>439</td><td>0</td><td>0</td><td>0</td><td>0</td><td>0</td><td>0</td><td>252</td><td> 5723</td><td>276</td></tr>\n",
       "</tbody>\n",
       "</table>\n"
      ],
      "text/latex": [
       "A data.frame: 6 x 15\n",
       "\\begin{tabular}{r|lllllllllllllll}\n",
       "  & CMV & EBV & HCV & Influenza & HomoSapiens & MDavis & HPV & CEF & TB & MCPyV & SP & DENV & n\\_cdr3 & cdr3\\_reads & n\\_gliph\\\\\n",
       "  & <dbl> & <dbl> & <dbl> & <dbl> & <dbl> & <dbl> & <dbl> & <dbl> & <dbl> & <dbl> & <dbl> & <dbl> & <int> & <dbl> & <dbl>\\\\\n",
       "\\hline\n",
       "\tEmerson:P00001 & 1 & 1 & 2 & 0 &  7 & 403 & 2 & 0 & 0 & 3 & 0 & 0 & 314 & 30394 & 333\\\\\n",
       "\tEmerson:P00002 & 2 & 1 & 1 & 0 &  1 & 111 & 0 & 0 & 0 & 0 & 0 & 0 &  82 &  1940 &  73\\\\\n",
       "\tEmerson:P00004 & 6 & 5 & 4 & 7 & 19 & 667 & 1 & 0 & 0 & 3 & 0 & 0 & 504 & 48734 & 521\\\\\n",
       "\tEmerson:P00005 & 3 & 0 & 1 & 0 &  1 & 337 & 0 & 0 & 0 & 3 & 0 & 0 & 205 &  8595 & 193\\\\\n",
       "\tEmerson:P00006 & 0 & 0 & 0 & 0 &  0 &   0 & 0 & 0 & 0 & 0 & 0 & 0 &   3 &   222 &   1\\\\\n",
       "\tEmerson:P00008 & 3 & 4 & 6 & 0 &  9 & 439 & 0 & 0 & 0 & 0 & 0 & 0 & 252 &  5723 & 276\\\\\n",
       "\\end{tabular}\n"
      ],
      "text/markdown": [
       "\n",
       "A data.frame: 6 x 15\n",
       "\n",
       "| <!--/--> | CMV &lt;dbl&gt; | EBV &lt;dbl&gt; | HCV &lt;dbl&gt; | Influenza &lt;dbl&gt; | HomoSapiens &lt;dbl&gt; | MDavis &lt;dbl&gt; | HPV &lt;dbl&gt; | CEF &lt;dbl&gt; | TB &lt;dbl&gt; | MCPyV &lt;dbl&gt; | SP &lt;dbl&gt; | DENV &lt;dbl&gt; | n_cdr3 &lt;int&gt; | cdr3_reads &lt;dbl&gt; | n_gliph &lt;dbl&gt; |\n",
       "|---|---|---|---|---|---|---|---|---|---|---|---|---|---|---|---|\n",
       "| Emerson:P00001 | 1 | 1 | 2 | 0 |  7 | 403 | 2 | 0 | 0 | 3 | 0 | 0 | 314 | 30394 | 333 |\n",
       "| Emerson:P00002 | 2 | 1 | 1 | 0 |  1 | 111 | 0 | 0 | 0 | 0 | 0 | 0 |  82 |  1940 |  73 |\n",
       "| Emerson:P00004 | 6 | 5 | 4 | 7 | 19 | 667 | 1 | 0 | 0 | 3 | 0 | 0 | 504 | 48734 | 521 |\n",
       "| Emerson:P00005 | 3 | 0 | 1 | 0 |  1 | 337 | 0 | 0 | 0 | 3 | 0 | 0 | 205 |  8595 | 193 |\n",
       "| Emerson:P00006 | 0 | 0 | 0 | 0 |  0 |   0 | 0 | 0 | 0 | 0 | 0 | 0 |   3 |   222 |   1 |\n",
       "| Emerson:P00008 | 3 | 4 | 6 | 0 |  9 | 439 | 0 | 0 | 0 | 0 | 0 | 0 | 252 |  5723 | 276 |\n",
       "\n"
      ],
      "text/plain": [
       "               CMV EBV HCV Influenza HomoSapiens MDavis HPV CEF TB MCPyV SP\n",
       "Emerson:P00001 1   1   2   0          7          403    2   0   0  3     0 \n",
       "Emerson:P00002 2   1   1   0          1          111    0   0   0  0     0 \n",
       "Emerson:P00004 6   5   4   7         19          667    1   0   0  3     0 \n",
       "Emerson:P00005 3   0   1   0          1          337    0   0   0  3     0 \n",
       "Emerson:P00006 0   0   0   0          0            0    0   0   0  0     0 \n",
       "Emerson:P00008 3   4   6   0          9          439    0   0   0  0     0 \n",
       "               DENV n_cdr3 cdr3_reads n_gliph\n",
       "Emerson:P00001 0    314    30394      333    \n",
       "Emerson:P00002 0     82     1940       73    \n",
       "Emerson:P00004 0    504    48734      521    \n",
       "Emerson:P00005 0    205     8595      193    \n",
       "Emerson:P00006 0      3      222        1    \n",
       "Emerson:P00008 0    252     5723      276    "
      ]
     },
     "metadata": {},
     "output_type": "display_data"
    }
   ],
   "source": [
    "head(samples_tcr)"
   ]
  },
  {
   "cell_type": "code",
   "execution_count": 43,
   "metadata": {
    "vscode": {
     "languageId": "r"
    }
   },
   "outputs": [
    {
     "data": {
      "text/html": [
       "<style>\n",
       ".list-inline {list-style: none; margin:0; padding: 0}\n",
       ".list-inline>li {display: inline-block}\n",
       ".list-inline>li:not(:last-child)::after {content: \"\\00b7\"; padding: 0 .5ex}\n",
       "</style>\n",
       "<ol class=list-inline><li>'MDavis:DRB10401'</li><li>'MDavis:DRB10401'</li><li>'MDavis:DRB10401'</li><li>'Emerson:P00014'</li><li>'Emerson:P00486'</li><li>'MDavis:DRB10401'</li></ol>\n"
      ],
      "text/latex": [
       "\\begin{enumerate*}\n",
       "\\item 'MDavis:DRB10401'\n",
       "\\item 'MDavis:DRB10401'\n",
       "\\item 'MDavis:DRB10401'\n",
       "\\item 'Emerson:P00014'\n",
       "\\item 'Emerson:P00486'\n",
       "\\item 'MDavis:DRB10401'\n",
       "\\end{enumerate*}\n"
      ],
      "text/markdown": [
       "1. 'MDavis:DRB10401'\n",
       "2. 'MDavis:DRB10401'\n",
       "3. 'MDavis:DRB10401'\n",
       "4. 'Emerson:P00014'\n",
       "5. 'Emerson:P00486'\n",
       "6. 'MDavis:DRB10401'\n",
       "\n",
       "\n"
      ],
      "text/plain": [
       "[1] \"MDavis:DRB10401\" \"MDavis:DRB10401\" \"MDavis:DRB10401\" \"Emerson:P00014\" \n",
       "[5] \"Emerson:P00486\"  \"MDavis:DRB10401\""
      ]
     },
     "metadata": {},
     "output_type": "display_data"
    }
   ],
   "source": [
    "head(gliphout_emerson$Sample)"
   ]
  },
  {
   "cell_type": "code",
   "execution_count": 44,
   "metadata": {
    "vscode": {
     "languageId": "r"
    }
   },
   "outputs": [],
   "source": [
    "# get number of unique cdr3s used in gliph for each sample\n",
    "samples_tcr$n_cdr3ingliph <- NA\n",
    "samples_tcr$cdr3reads_ingliph <- NA\n",
    "for (i in 1:nrow(samples_tcr)) {\n",
    "    mysample <- gliphout_emerson[gliphout_emerson$Sample == rownames(samples_tcr)[i], ]\n",
    "    samples_tcr$n_cdr3ingliph[i] <- length(unique(mysample$TcRb))\n",
    "    samples_tcr$cdr3reads_ingliph[i] <- sum(mysample$Freq)\n",
    "}"
   ]
  },
  {
   "cell_type": "code",
   "execution_count": 45,
   "metadata": {
    "vscode": {
     "languageId": "r"
    }
   },
   "outputs": [
    {
     "data": {
      "text/html": [
       "<table class=\"dataframe\">\n",
       "<caption>A data.frame: 6 x 17</caption>\n",
       "<thead>\n",
       "\t<tr><th></th><th scope=col>CMV</th><th scope=col>EBV</th><th scope=col>HCV</th><th scope=col>Influenza</th><th scope=col>HomoSapiens</th><th scope=col>MDavis</th><th scope=col>HPV</th><th scope=col>CEF</th><th scope=col>TB</th><th scope=col>MCPyV</th><th scope=col>SP</th><th scope=col>DENV</th><th scope=col>n_cdr3</th><th scope=col>cdr3_reads</th><th scope=col>n_gliph</th><th scope=col>n_cdr3ingliph</th><th scope=col>cdr3reads_ingliph</th></tr>\n",
       "\t<tr><th></th><th scope=col>&lt;dbl&gt;</th><th scope=col>&lt;dbl&gt;</th><th scope=col>&lt;dbl&gt;</th><th scope=col>&lt;dbl&gt;</th><th scope=col>&lt;dbl&gt;</th><th scope=col>&lt;dbl&gt;</th><th scope=col>&lt;dbl&gt;</th><th scope=col>&lt;dbl&gt;</th><th scope=col>&lt;dbl&gt;</th><th scope=col>&lt;dbl&gt;</th><th scope=col>&lt;dbl&gt;</th><th scope=col>&lt;dbl&gt;</th><th scope=col>&lt;int&gt;</th><th scope=col>&lt;dbl&gt;</th><th scope=col>&lt;dbl&gt;</th><th scope=col>&lt;int&gt;</th><th scope=col>&lt;dbl&gt;</th></tr>\n",
       "</thead>\n",
       "<tbody>\n",
       "\t<tr><th scope=row>Emerson:P00001</th><td>1</td><td>1</td><td>2</td><td>0</td><td> 7</td><td>403</td><td>2</td><td>0</td><td>0</td><td>3</td><td>0</td><td>0</td><td>314</td><td>30394</td><td>333</td><td>150</td><td>33353</td></tr>\n",
       "\t<tr><th scope=row>Emerson:P00002</th><td>2</td><td>1</td><td>1</td><td>0</td><td> 1</td><td>111</td><td>0</td><td>0</td><td>0</td><td>0</td><td>0</td><td>0</td><td> 82</td><td> 1940</td><td> 73</td><td> 36</td><td> 1637</td></tr>\n",
       "\t<tr><th scope=row>Emerson:P00004</th><td>6</td><td>5</td><td>4</td><td>7</td><td>19</td><td>667</td><td>1</td><td>0</td><td>0</td><td>3</td><td>0</td><td>0</td><td>504</td><td>48734</td><td>521</td><td>215</td><td>63165</td></tr>\n",
       "\t<tr><th scope=row>Emerson:P00005</th><td>3</td><td>0</td><td>1</td><td>0</td><td> 1</td><td>337</td><td>0</td><td>0</td><td>0</td><td>3</td><td>0</td><td>0</td><td>205</td><td> 8595</td><td>193</td><td> 97</td><td> 6399</td></tr>\n",
       "\t<tr><th scope=row>Emerson:P00006</th><td>0</td><td>0</td><td>0</td><td>0</td><td> 0</td><td>  0</td><td>0</td><td>0</td><td>0</td><td>0</td><td>0</td><td>0</td><td>  3</td><td>  222</td><td>  1</td><td>  1</td><td>   68</td></tr>\n",
       "\t<tr><th scope=row>Emerson:P00008</th><td>3</td><td>4</td><td>6</td><td>0</td><td> 9</td><td>439</td><td>0</td><td>0</td><td>0</td><td>0</td><td>0</td><td>0</td><td>252</td><td> 5723</td><td>276</td><td>117</td><td> 5759</td></tr>\n",
       "</tbody>\n",
       "</table>\n"
      ],
      "text/latex": [
       "A data.frame: 6 x 17\n",
       "\\begin{tabular}{r|lllllllllllllllll}\n",
       "  & CMV & EBV & HCV & Influenza & HomoSapiens & MDavis & HPV & CEF & TB & MCPyV & SP & DENV & n\\_cdr3 & cdr3\\_reads & n\\_gliph & n\\_cdr3ingliph & cdr3reads\\_ingliph\\\\\n",
       "  & <dbl> & <dbl> & <dbl> & <dbl> & <dbl> & <dbl> & <dbl> & <dbl> & <dbl> & <dbl> & <dbl> & <dbl> & <int> & <dbl> & <dbl> & <int> & <dbl>\\\\\n",
       "\\hline\n",
       "\tEmerson:P00001 & 1 & 1 & 2 & 0 &  7 & 403 & 2 & 0 & 0 & 3 & 0 & 0 & 314 & 30394 & 333 & 150 & 33353\\\\\n",
       "\tEmerson:P00002 & 2 & 1 & 1 & 0 &  1 & 111 & 0 & 0 & 0 & 0 & 0 & 0 &  82 &  1940 &  73 &  36 &  1637\\\\\n",
       "\tEmerson:P00004 & 6 & 5 & 4 & 7 & 19 & 667 & 1 & 0 & 0 & 3 & 0 & 0 & 504 & 48734 & 521 & 215 & 63165\\\\\n",
       "\tEmerson:P00005 & 3 & 0 & 1 & 0 &  1 & 337 & 0 & 0 & 0 & 3 & 0 & 0 & 205 &  8595 & 193 &  97 &  6399\\\\\n",
       "\tEmerson:P00006 & 0 & 0 & 0 & 0 &  0 &   0 & 0 & 0 & 0 & 0 & 0 & 0 &   3 &   222 &   1 &   1 &    68\\\\\n",
       "\tEmerson:P00008 & 3 & 4 & 6 & 0 &  9 & 439 & 0 & 0 & 0 & 0 & 0 & 0 & 252 &  5723 & 276 & 117 &  5759\\\\\n",
       "\\end{tabular}\n"
      ],
      "text/markdown": [
       "\n",
       "A data.frame: 6 x 17\n",
       "\n",
       "| <!--/--> | CMV &lt;dbl&gt; | EBV &lt;dbl&gt; | HCV &lt;dbl&gt; | Influenza &lt;dbl&gt; | HomoSapiens &lt;dbl&gt; | MDavis &lt;dbl&gt; | HPV &lt;dbl&gt; | CEF &lt;dbl&gt; | TB &lt;dbl&gt; | MCPyV &lt;dbl&gt; | SP &lt;dbl&gt; | DENV &lt;dbl&gt; | n_cdr3 &lt;int&gt; | cdr3_reads &lt;dbl&gt; | n_gliph &lt;dbl&gt; | n_cdr3ingliph &lt;int&gt; | cdr3reads_ingliph &lt;dbl&gt; |\n",
       "|---|---|---|---|---|---|---|---|---|---|---|---|---|---|---|---|---|---|\n",
       "| Emerson:P00001 | 1 | 1 | 2 | 0 |  7 | 403 | 2 | 0 | 0 | 3 | 0 | 0 | 314 | 30394 | 333 | 150 | 33353 |\n",
       "| Emerson:P00002 | 2 | 1 | 1 | 0 |  1 | 111 | 0 | 0 | 0 | 0 | 0 | 0 |  82 |  1940 |  73 |  36 |  1637 |\n",
       "| Emerson:P00004 | 6 | 5 | 4 | 7 | 19 | 667 | 1 | 0 | 0 | 3 | 0 | 0 | 504 | 48734 | 521 | 215 | 63165 |\n",
       "| Emerson:P00005 | 3 | 0 | 1 | 0 |  1 | 337 | 0 | 0 | 0 | 3 | 0 | 0 | 205 |  8595 | 193 |  97 |  6399 |\n",
       "| Emerson:P00006 | 0 | 0 | 0 | 0 |  0 |   0 | 0 | 0 | 0 | 0 | 0 | 0 |   3 |   222 |   1 |   1 |    68 |\n",
       "| Emerson:P00008 | 3 | 4 | 6 | 0 |  9 | 439 | 0 | 0 | 0 | 0 | 0 | 0 | 252 |  5723 | 276 | 117 |  5759 |\n",
       "\n"
      ],
      "text/plain": [
       "               CMV EBV HCV Influenza HomoSapiens MDavis HPV CEF TB MCPyV SP\n",
       "Emerson:P00001 1   1   2   0          7          403    2   0   0  3     0 \n",
       "Emerson:P00002 2   1   1   0          1          111    0   0   0  0     0 \n",
       "Emerson:P00004 6   5   4   7         19          667    1   0   0  3     0 \n",
       "Emerson:P00005 3   0   1   0          1          337    0   0   0  3     0 \n",
       "Emerson:P00006 0   0   0   0          0            0    0   0   0  0     0 \n",
       "Emerson:P00008 3   4   6   0          9          439    0   0   0  0     0 \n",
       "               DENV n_cdr3 cdr3_reads n_gliph n_cdr3ingliph cdr3reads_ingliph\n",
       "Emerson:P00001 0    314    30394      333     150           33353            \n",
       "Emerson:P00002 0     82     1940       73      36            1637            \n",
       "Emerson:P00004 0    504    48734      521     215           63165            \n",
       "Emerson:P00005 0    205     8595      193      97            6399            \n",
       "Emerson:P00006 0      3      222        1       1              68            \n",
       "Emerson:P00008 0    252     5723      276     117            5759            "
      ]
     },
     "metadata": {},
     "output_type": "display_data"
    }
   ],
   "source": [
    "head(samples_tcr)"
   ]
  },
  {
   "cell_type": "code",
   "execution_count": 46,
   "metadata": {
    "vscode": {
     "languageId": "r"
    }
   },
   "outputs": [],
   "source": [
    "samples_tcr$study <- \"Emerson_adult\""
   ]
  },
  {
   "cell_type": "code",
   "execution_count": 47,
   "metadata": {
    "vscode": {
     "languageId": "r"
    }
   },
   "outputs": [
    {
     "data": {
      "text/html": [
       "<table class=\"dataframe\">\n",
       "<caption>A data.frame: 6 x 14</caption>\n",
       "<thead>\n",
       "\t<tr><th></th><th scope=col>gliph</th><th scope=col>CMV</th><th scope=col>EBV</th><th scope=col>HCV</th><th scope=col>Influenza</th><th scope=col>HomoSapiens</th><th scope=col>MDavis</th><th scope=col>HPV</th><th scope=col>CEF</th><th scope=col>TB</th><th scope=col>MCPyV</th><th scope=col>SP</th><th scope=col>DENV</th><th scope=col>n_unique_cdr3</th></tr>\n",
       "\t<tr><th></th><th scope=col>&lt;chr&gt;</th><th scope=col>&lt;dbl&gt;</th><th scope=col>&lt;dbl&gt;</th><th scope=col>&lt;dbl&gt;</th><th scope=col>&lt;dbl&gt;</th><th scope=col>&lt;dbl&gt;</th><th scope=col>&lt;dbl&gt;</th><th scope=col>&lt;dbl&gt;</th><th scope=col>&lt;dbl&gt;</th><th scope=col>&lt;dbl&gt;</th><th scope=col>&lt;dbl&gt;</th><th scope=col>&lt;dbl&gt;</th><th scope=col>&lt;dbl&gt;</th><th scope=col>&lt;int&gt;</th></tr>\n",
       "</thead>\n",
       "<tbody>\n",
       "\t<tr><th scope=row>SLG%E</th><td>SLG%E  </td><td>0</td><td>0</td><td>0</td><td>0</td><td>0</td><td>39</td><td>0</td><td>0</td><td>0</td><td>0</td><td>0</td><td>0</td><td>53</td></tr>\n",
       "\t<tr><th scope=row>S%GGNTE</th><td>S%GGNTE</td><td>0</td><td>0</td><td>0</td><td>0</td><td>1</td><td>40</td><td>0</td><td>0</td><td>0</td><td>0</td><td>0</td><td>0</td><td>42</td></tr>\n",
       "\t<tr><th scope=row>YDTG</th><td>YDTG   </td><td>0</td><td>0</td><td>0</td><td>0</td><td>0</td><td>75</td><td>0</td><td>0</td><td>0</td><td>0</td><td>0</td><td>0</td><td>78</td></tr>\n",
       "\t<tr><th scope=row>S%SGANV</th><td>S%SGANV</td><td>0</td><td>0</td><td>0</td><td>0</td><td>0</td><td>34</td><td>0</td><td>0</td><td>0</td><td>0</td><td>0</td><td>0</td><td>36</td></tr>\n",
       "\t<tr><th scope=row>S%TGNTE</th><td>S%TGNTE</td><td>0</td><td>0</td><td>0</td><td>0</td><td>0</td><td>34</td><td>0</td><td>0</td><td>0</td><td>0</td><td>0</td><td>0</td><td>35</td></tr>\n",
       "\t<tr><th scope=row>SVG%NTE</th><td>SVG%NTE</td><td>0</td><td>0</td><td>0</td><td>0</td><td>0</td><td>28</td><td>0</td><td>0</td><td>0</td><td>0</td><td>0</td><td>0</td><td>31</td></tr>\n",
       "</tbody>\n",
       "</table>\n"
      ],
      "text/latex": [
       "A data.frame: 6 x 14\n",
       "\\begin{tabular}{r|llllllllllllll}\n",
       "  & gliph & CMV & EBV & HCV & Influenza & HomoSapiens & MDavis & HPV & CEF & TB & MCPyV & SP & DENV & n\\_unique\\_cdr3\\\\\n",
       "  & <chr> & <dbl> & <dbl> & <dbl> & <dbl> & <dbl> & <dbl> & <dbl> & <dbl> & <dbl> & <dbl> & <dbl> & <dbl> & <int>\\\\\n",
       "\\hline\n",
       "\tSLG\\%E & SLG\\%E   & 0 & 0 & 0 & 0 & 0 & 39 & 0 & 0 & 0 & 0 & 0 & 0 & 53\\\\\n",
       "\tS\\%GGNTE & S\\%GGNTE & 0 & 0 & 0 & 0 & 1 & 40 & 0 & 0 & 0 & 0 & 0 & 0 & 42\\\\\n",
       "\tYDTG & YDTG    & 0 & 0 & 0 & 0 & 0 & 75 & 0 & 0 & 0 & 0 & 0 & 0 & 78\\\\\n",
       "\tS\\%SGANV & S\\%SGANV & 0 & 0 & 0 & 0 & 0 & 34 & 0 & 0 & 0 & 0 & 0 & 0 & 36\\\\\n",
       "\tS\\%TGNTE & S\\%TGNTE & 0 & 0 & 0 & 0 & 0 & 34 & 0 & 0 & 0 & 0 & 0 & 0 & 35\\\\\n",
       "\tSVG\\%NTE & SVG\\%NTE & 0 & 0 & 0 & 0 & 0 & 28 & 0 & 0 & 0 & 0 & 0 & 0 & 31\\\\\n",
       "\\end{tabular}\n"
      ],
      "text/markdown": [
       "\n",
       "A data.frame: 6 x 14\n",
       "\n",
       "| <!--/--> | gliph &lt;chr&gt; | CMV &lt;dbl&gt; | EBV &lt;dbl&gt; | HCV &lt;dbl&gt; | Influenza &lt;dbl&gt; | HomoSapiens &lt;dbl&gt; | MDavis &lt;dbl&gt; | HPV &lt;dbl&gt; | CEF &lt;dbl&gt; | TB &lt;dbl&gt; | MCPyV &lt;dbl&gt; | SP &lt;dbl&gt; | DENV &lt;dbl&gt; | n_unique_cdr3 &lt;int&gt; |\n",
       "|---|---|---|---|---|---|---|---|---|---|---|---|---|---|---|\n",
       "| SLG%E | SLG%E   | 0 | 0 | 0 | 0 | 0 | 39 | 0 | 0 | 0 | 0 | 0 | 0 | 53 |\n",
       "| S%GGNTE | S%GGNTE | 0 | 0 | 0 | 0 | 1 | 40 | 0 | 0 | 0 | 0 | 0 | 0 | 42 |\n",
       "| YDTG | YDTG    | 0 | 0 | 0 | 0 | 0 | 75 | 0 | 0 | 0 | 0 | 0 | 0 | 78 |\n",
       "| S%SGANV | S%SGANV | 0 | 0 | 0 | 0 | 0 | 34 | 0 | 0 | 0 | 0 | 0 | 0 | 36 |\n",
       "| S%TGNTE | S%TGNTE | 0 | 0 | 0 | 0 | 0 | 34 | 0 | 0 | 0 | 0 | 0 | 0 | 35 |\n",
       "| SVG%NTE | SVG%NTE | 0 | 0 | 0 | 0 | 0 | 28 | 0 | 0 | 0 | 0 | 0 | 0 | 31 |\n",
       "\n"
      ],
      "text/plain": [
       "        gliph   CMV EBV HCV Influenza HomoSapiens MDavis HPV CEF TB MCPyV SP\n",
       "SLG%E   SLG%E   0   0   0   0         0           39     0   0   0  0     0 \n",
       "S%GGNTE S%GGNTE 0   0   0   0         1           40     0   0   0  0     0 \n",
       "YDTG    YDTG    0   0   0   0         0           75     0   0   0  0     0 \n",
       "S%SGANV S%SGANV 0   0   0   0         0           34     0   0   0  0     0 \n",
       "S%TGNTE S%TGNTE 0   0   0   0         0           34     0   0   0  0     0 \n",
       "SVG%NTE SVG%NTE 0   0   0   0         0           28     0   0   0  0     0 \n",
       "        DENV n_unique_cdr3\n",
       "SLG%E   0    53           \n",
       "S%GGNTE 0    42           \n",
       "YDTG    0    78           \n",
       "S%SGANV 0    36           \n",
       "S%TGNTE 0    35           \n",
       "SVG%NTE 0    31           "
      ]
     },
     "metadata": {},
     "output_type": "display_data"
    }
   ],
   "source": [
    "head(gliphdf)"
   ]
  },
  {
   "cell_type": "code",
   "execution_count": 48,
   "metadata": {
    "vscode": {
     "languageId": "r"
    }
   },
   "outputs": [],
   "source": [
    "readr::write_rds(samples_tcr, file = paste0(datapath, \"GLIPH/emerson_adult_samples_gliphannot_stat.rds\"))\n",
    "readr::write_rds(gliphdf, file = paste0(datapath, \"GLIPH/emerson_adult_gliphannot_stat.rds\"))"
   ]
  },
  {
   "cell_type": "code",
   "execution_count": 50,
   "metadata": {
    "vscode": {
     "languageId": "r"
    }
   },
   "outputs": [
    {
     "data": {
      "text/html": [
       "<table class=\"dataframe\">\n",
       "<caption>A data.frame: 1 x 18</caption>\n",
       "<thead>\n",
       "\t<tr><th></th><th scope=col>CMV</th><th scope=col>EBV</th><th scope=col>HCV</th><th scope=col>Influenza</th><th scope=col>HomoSapiens</th><th scope=col>MDavis</th><th scope=col>HPV</th><th scope=col>CEF</th><th scope=col>TB</th><th scope=col>MCPyV</th><th scope=col>SP</th><th scope=col>DENV</th><th scope=col>n_cdr3</th><th scope=col>cdr3_reads</th><th scope=col>n_gliph</th><th scope=col>n_cdr3ingliph</th><th scope=col>cdr3reads_ingliph</th><th scope=col>study</th></tr>\n",
       "\t<tr><th></th><th scope=col>&lt;dbl&gt;</th><th scope=col>&lt;dbl&gt;</th><th scope=col>&lt;dbl&gt;</th><th scope=col>&lt;dbl&gt;</th><th scope=col>&lt;dbl&gt;</th><th scope=col>&lt;dbl&gt;</th><th scope=col>&lt;dbl&gt;</th><th scope=col>&lt;dbl&gt;</th><th scope=col>&lt;dbl&gt;</th><th scope=col>&lt;dbl&gt;</th><th scope=col>&lt;dbl&gt;</th><th scope=col>&lt;dbl&gt;</th><th scope=col>&lt;int&gt;</th><th scope=col>&lt;dbl&gt;</th><th scope=col>&lt;dbl&gt;</th><th scope=col>&lt;int&gt;</th><th scope=col>&lt;dbl&gt;</th><th scope=col>&lt;chr&gt;</th></tr>\n",
       "</thead>\n",
       "<tbody>\n",
       "\t<tr><th scope=row>Emerson:P00014</th><td>3</td><td>3</td><td>4</td><td>0</td><td>15</td><td>881</td><td>1</td><td>0</td><td>0</td><td>4</td><td>0</td><td>0</td><td>500</td><td>26315</td><td>512</td><td>231</td><td>26278</td><td>Emerson_adult</td></tr>\n",
       "</tbody>\n",
       "</table>\n"
      ],
      "text/latex": [
       "A data.frame: 1 x 18\n",
       "\\begin{tabular}{r|llllllllllllllllll}\n",
       "  & CMV & EBV & HCV & Influenza & HomoSapiens & MDavis & HPV & CEF & TB & MCPyV & SP & DENV & n\\_cdr3 & cdr3\\_reads & n\\_gliph & n\\_cdr3ingliph & cdr3reads\\_ingliph & study\\\\\n",
       "  & <dbl> & <dbl> & <dbl> & <dbl> & <dbl> & <dbl> & <dbl> & <dbl> & <dbl> & <dbl> & <dbl> & <dbl> & <int> & <dbl> & <dbl> & <int> & <dbl> & <chr>\\\\\n",
       "\\hline\n",
       "\tEmerson:P00014 & 3 & 3 & 4 & 0 & 15 & 881 & 1 & 0 & 0 & 4 & 0 & 0 & 500 & 26315 & 512 & 231 & 26278 & Emerson\\_adult\\\\\n",
       "\\end{tabular}\n"
      ],
      "text/markdown": [
       "\n",
       "A data.frame: 1 x 18\n",
       "\n",
       "| <!--/--> | CMV &lt;dbl&gt; | EBV &lt;dbl&gt; | HCV &lt;dbl&gt; | Influenza &lt;dbl&gt; | HomoSapiens &lt;dbl&gt; | MDavis &lt;dbl&gt; | HPV &lt;dbl&gt; | CEF &lt;dbl&gt; | TB &lt;dbl&gt; | MCPyV &lt;dbl&gt; | SP &lt;dbl&gt; | DENV &lt;dbl&gt; | n_cdr3 &lt;int&gt; | cdr3_reads &lt;dbl&gt; | n_gliph &lt;dbl&gt; | n_cdr3ingliph &lt;int&gt; | cdr3reads_ingliph &lt;dbl&gt; | study &lt;chr&gt; |\n",
       "|---|---|---|---|---|---|---|---|---|---|---|---|---|---|---|---|---|---|---|\n",
       "| Emerson:P00014 | 3 | 3 | 4 | 0 | 15 | 881 | 1 | 0 | 0 | 4 | 0 | 0 | 500 | 26315 | 512 | 231 | 26278 | Emerson_adult |\n",
       "\n"
      ],
      "text/plain": [
       "               CMV EBV HCV Influenza HomoSapiens MDavis HPV CEF TB MCPyV SP\n",
       "Emerson:P00014 3   3   4   0         15          881    1   0   0  4     0 \n",
       "               DENV n_cdr3 cdr3_reads n_gliph n_cdr3ingliph cdr3reads_ingliph\n",
       "Emerson:P00014 0    500    26315      512     231           26278            \n",
       "               study        \n",
       "Emerson:P00014 Emerson_adult"
      ]
     },
     "metadata": {},
     "output_type": "display_data"
    }
   ],
   "source": [
    "# check a sample\n",
    "samples_tcr[10,]"
   ]
  },
  {
   "cell_type": "code",
   "execution_count": 62,
   "metadata": {
    "vscode": {
     "languageId": "r"
    }
   },
   "outputs": [
    {
     "data": {
      "text/html": [
       "26315"
      ],
      "text/latex": [
       "26315"
      ],
      "text/markdown": [
       "26315"
      ],
      "text/plain": [
       "[1] 26315"
      ]
     },
     "metadata": {},
     "output_type": "display_data"
    },
    {
     "data": {
      "text/html": [
       "500"
      ],
      "text/latex": [
       "500"
      ],
      "text/markdown": [
       "500"
      ],
      "text/plain": [
       "[1] 500"
      ]
     },
     "metadata": {},
     "output_type": "display_data"
    },
    {
     "data": {
      "text/html": [
       "26278"
      ],
      "text/latex": [
       "26278"
      ],
      "text/markdown": [
       "26278"
      ],
      "text/plain": [
       "[1] 26278"
      ]
     },
     "metadata": {},
     "output_type": "display_data"
    },
    {
     "data": {
      "text/html": [
       "231"
      ],
      "text/latex": [
       "231"
      ],
      "text/markdown": [
       "231"
      ],
      "text/plain": [
       "[1] 231"
      ]
     },
     "metadata": {},
     "output_type": "display_data"
    }
   ],
   "source": [
    "temp <- gliphin_emerson[ gliphin_emerson$subject == \"Emerson:P00014\",]\n",
    "sum(temp$count) # cdr3_reads\n",
    "length(unique(temp$CDR3b)) # n_cdr3\n",
    "\n",
    "temp <- gliphout_emerson[ gliphout_emerson$Sample == \"Emerson:P00014\",]\n",
    "sum(temp$Freq) # cdr3reads_ingliph\n",
    "length(unique(temp$TcRb)) # n_cdr3ingliph"
   ]
  },
  {
   "cell_type": "code",
   "execution_count": 65,
   "metadata": {
    "vscode": {
     "languageId": "r"
    }
   },
   "outputs": [
    {
     "data": {
      "text/plain": [
       "\n",
       "         CMV          EBV      Emerson          HCV          HPV  HomoSapiens \n",
       "           3            3         2025            4            1           15 \n",
       "       MCPyV       MDavis S-pneumoniae \n",
       "           4          881            2 "
      ]
     },
     "metadata": {},
     "output_type": "display_data"
    }
   ],
   "source": [
    "samplegliphs <- gliphout_emerson$pattern[ gliphout_emerson$Sample == \"Emerson:P00014\"]\n",
    "table(gliphout_emerson$subject[ gliphout_emerson$pattern %in% samplegliphs])"
   ]
  },
  {
   "cell_type": "markdown",
   "metadata": {},
   "source": [
    "Create summary tables for frequencies"
   ]
  },
  {
   "cell_type": "code",
   "execution_count": 66,
   "metadata": {
    "vscode": {
     "languageId": "r"
    }
   },
   "outputs": [],
   "source": [
    "gliphout <- readr::read_rds(file = paste0(datapath, \"GLIPH/emerson_adult_cleaned.rds\"))"
   ]
  },
  {
   "cell_type": "code",
   "execution_count": 67,
   "metadata": {
    "vscode": {
     "languageId": "r"
    }
   },
   "outputs": [],
   "source": [
    "# use the previous data\n",
    "samples_tcr <- readr::read_rds(file = paste0(datapath, \"GLIPH/emerson_adult_samples_gliphannot_stat.rds\"))\n",
    "gliphdf <- readr::read_rds(file = paste0(datapath, \"GLIPH/emerson_adult_gliphannot_stat.rds\"))"
   ]
  },
  {
   "cell_type": "code",
   "execution_count": 68,
   "metadata": {
    "vscode": {
     "languageId": "r"
    }
   },
   "outputs": [],
   "source": [
    "gliphdf_freq <- gliphdf %>% mutate_all(~NA)\n",
    "gliphdf_freq$n_unique_cdr3 <- NULL\n",
    "gliphdf_freq$gliph <- NULL"
   ]
  },
  {
   "cell_type": "code",
   "execution_count": 69,
   "metadata": {
    "vscode": {
     "languageId": "r"
    }
   },
   "outputs": [
    {
     "data": {
      "text/html": [
       "<table class=\"dataframe\">\n",
       "<caption>A data.frame: 6 x 13</caption>\n",
       "<thead>\n",
       "\t<tr><th></th><th scope=col>CMV</th><th scope=col>EBV</th><th scope=col>HCV</th><th scope=col>Influenza</th><th scope=col>HomoSapiens</th><th scope=col>MDavis</th><th scope=col>HPV</th><th scope=col>CEF</th><th scope=col>TB</th><th scope=col>MCPyV</th><th scope=col>SP</th><th scope=col>DENV</th><th scope=col>n_cdr3</th></tr>\n",
       "\t<tr><th></th><th scope=col>&lt;dbl&gt;</th><th scope=col>&lt;dbl&gt;</th><th scope=col>&lt;dbl&gt;</th><th scope=col>&lt;dbl&gt;</th><th scope=col>&lt;dbl&gt;</th><th scope=col>&lt;dbl&gt;</th><th scope=col>&lt;dbl&gt;</th><th scope=col>&lt;dbl&gt;</th><th scope=col>&lt;dbl&gt;</th><th scope=col>&lt;dbl&gt;</th><th scope=col>&lt;dbl&gt;</th><th scope=col>&lt;dbl&gt;</th><th scope=col>&lt;int&gt;</th></tr>\n",
       "</thead>\n",
       "<tbody>\n",
       "\t<tr><th scope=row>Emerson:P00001</th><td>1</td><td>1</td><td>2</td><td>0</td><td> 7</td><td>403</td><td>2</td><td>0</td><td>0</td><td>3</td><td>0</td><td>0</td><td>314</td></tr>\n",
       "\t<tr><th scope=row>Emerson:P00002</th><td>2</td><td>1</td><td>1</td><td>0</td><td> 1</td><td>111</td><td>0</td><td>0</td><td>0</td><td>0</td><td>0</td><td>0</td><td> 82</td></tr>\n",
       "\t<tr><th scope=row>Emerson:P00004</th><td>6</td><td>5</td><td>4</td><td>7</td><td>19</td><td>667</td><td>1</td><td>0</td><td>0</td><td>3</td><td>0</td><td>0</td><td>504</td></tr>\n",
       "\t<tr><th scope=row>Emerson:P00005</th><td>3</td><td>0</td><td>1</td><td>0</td><td> 1</td><td>337</td><td>0</td><td>0</td><td>0</td><td>3</td><td>0</td><td>0</td><td>205</td></tr>\n",
       "\t<tr><th scope=row>Emerson:P00006</th><td>0</td><td>0</td><td>0</td><td>0</td><td> 0</td><td>  0</td><td>0</td><td>0</td><td>0</td><td>0</td><td>0</td><td>0</td><td>  3</td></tr>\n",
       "\t<tr><th scope=row>Emerson:P00008</th><td>3</td><td>4</td><td>6</td><td>0</td><td> 9</td><td>439</td><td>0</td><td>0</td><td>0</td><td>0</td><td>0</td><td>0</td><td>252</td></tr>\n",
       "</tbody>\n",
       "</table>\n"
      ],
      "text/latex": [
       "A data.frame: 6 x 13\n",
       "\\begin{tabular}{r|lllllllllllll}\n",
       "  & CMV & EBV & HCV & Influenza & HomoSapiens & MDavis & HPV & CEF & TB & MCPyV & SP & DENV & n\\_cdr3\\\\\n",
       "  & <dbl> & <dbl> & <dbl> & <dbl> & <dbl> & <dbl> & <dbl> & <dbl> & <dbl> & <dbl> & <dbl> & <dbl> & <int>\\\\\n",
       "\\hline\n",
       "\tEmerson:P00001 & 1 & 1 & 2 & 0 &  7 & 403 & 2 & 0 & 0 & 3 & 0 & 0 & 314\\\\\n",
       "\tEmerson:P00002 & 2 & 1 & 1 & 0 &  1 & 111 & 0 & 0 & 0 & 0 & 0 & 0 &  82\\\\\n",
       "\tEmerson:P00004 & 6 & 5 & 4 & 7 & 19 & 667 & 1 & 0 & 0 & 3 & 0 & 0 & 504\\\\\n",
       "\tEmerson:P00005 & 3 & 0 & 1 & 0 &  1 & 337 & 0 & 0 & 0 & 3 & 0 & 0 & 205\\\\\n",
       "\tEmerson:P00006 & 0 & 0 & 0 & 0 &  0 &   0 & 0 & 0 & 0 & 0 & 0 & 0 &   3\\\\\n",
       "\tEmerson:P00008 & 3 & 4 & 6 & 0 &  9 & 439 & 0 & 0 & 0 & 0 & 0 & 0 & 252\\\\\n",
       "\\end{tabular}\n"
      ],
      "text/markdown": [
       "\n",
       "A data.frame: 6 x 13\n",
       "\n",
       "| <!--/--> | CMV &lt;dbl&gt; | EBV &lt;dbl&gt; | HCV &lt;dbl&gt; | Influenza &lt;dbl&gt; | HomoSapiens &lt;dbl&gt; | MDavis &lt;dbl&gt; | HPV &lt;dbl&gt; | CEF &lt;dbl&gt; | TB &lt;dbl&gt; | MCPyV &lt;dbl&gt; | SP &lt;dbl&gt; | DENV &lt;dbl&gt; | n_cdr3 &lt;int&gt; |\n",
       "|---|---|---|---|---|---|---|---|---|---|---|---|---|---|\n",
       "| Emerson:P00001 | 1 | 1 | 2 | 0 |  7 | 403 | 2 | 0 | 0 | 3 | 0 | 0 | 314 |\n",
       "| Emerson:P00002 | 2 | 1 | 1 | 0 |  1 | 111 | 0 | 0 | 0 | 0 | 0 | 0 |  82 |\n",
       "| Emerson:P00004 | 6 | 5 | 4 | 7 | 19 | 667 | 1 | 0 | 0 | 3 | 0 | 0 | 504 |\n",
       "| Emerson:P00005 | 3 | 0 | 1 | 0 |  1 | 337 | 0 | 0 | 0 | 3 | 0 | 0 | 205 |\n",
       "| Emerson:P00006 | 0 | 0 | 0 | 0 |  0 |   0 | 0 | 0 | 0 | 0 | 0 | 0 |   3 |\n",
       "| Emerson:P00008 | 3 | 4 | 6 | 0 |  9 | 439 | 0 | 0 | 0 | 0 | 0 | 0 | 252 |\n",
       "\n"
      ],
      "text/plain": [
       "               CMV EBV HCV Influenza HomoSapiens MDavis HPV CEF TB MCPyV SP\n",
       "Emerson:P00001 1   1   2   0          7          403    2   0   0  3     0 \n",
       "Emerson:P00002 2   1   1   0          1          111    0   0   0  0     0 \n",
       "Emerson:P00004 6   5   4   7         19          667    1   0   0  3     0 \n",
       "Emerson:P00005 3   0   1   0          1          337    0   0   0  3     0 \n",
       "Emerson:P00006 0   0   0   0          0            0    0   0   0  0     0 \n",
       "Emerson:P00008 3   4   6   0          9          439    0   0   0  0     0 \n",
       "               DENV n_cdr3\n",
       "Emerson:P00001 0    314   \n",
       "Emerson:P00002 0     82   \n",
       "Emerson:P00004 0    504   \n",
       "Emerson:P00005 0    205   \n",
       "Emerson:P00006 0      3   \n",
       "Emerson:P00008 0    252   "
      ]
     },
     "metadata": {},
     "output_type": "display_data"
    }
   ],
   "source": [
    "head(samples_tcr[,1:13])"
   ]
  },
  {
   "cell_type": "code",
   "execution_count": 70,
   "metadata": {
    "vscode": {
     "languageId": "r"
    }
   },
   "outputs": [],
   "source": [
    "columns_to_na <- colnames(samples_tcr)[1:12]\n",
    "\n",
    "samples_tcr_freq <- samples_tcr %>%\n",
    "  mutate(across(all_of(columns_to_na), ~NA))"
   ]
  },
  {
   "cell_type": "code",
   "execution_count": 71,
   "metadata": {
    "vscode": {
     "languageId": "r"
    }
   },
   "outputs": [
    {
     "data": {
      "text/html": [
       "<table class=\"dataframe\">\n",
       "<caption>A data.frame: 6 x 18</caption>\n",
       "<thead>\n",
       "\t<tr><th></th><th scope=col>CMV</th><th scope=col>EBV</th><th scope=col>HCV</th><th scope=col>Influenza</th><th scope=col>HomoSapiens</th><th scope=col>MDavis</th><th scope=col>HPV</th><th scope=col>CEF</th><th scope=col>TB</th><th scope=col>MCPyV</th><th scope=col>SP</th><th scope=col>DENV</th><th scope=col>n_cdr3</th><th scope=col>cdr3_reads</th><th scope=col>n_gliph</th><th scope=col>n_cdr3ingliph</th><th scope=col>cdr3reads_ingliph</th><th scope=col>study</th></tr>\n",
       "\t<tr><th></th><th scope=col>&lt;lgl&gt;</th><th scope=col>&lt;lgl&gt;</th><th scope=col>&lt;lgl&gt;</th><th scope=col>&lt;lgl&gt;</th><th scope=col>&lt;lgl&gt;</th><th scope=col>&lt;lgl&gt;</th><th scope=col>&lt;lgl&gt;</th><th scope=col>&lt;lgl&gt;</th><th scope=col>&lt;lgl&gt;</th><th scope=col>&lt;lgl&gt;</th><th scope=col>&lt;lgl&gt;</th><th scope=col>&lt;lgl&gt;</th><th scope=col>&lt;int&gt;</th><th scope=col>&lt;dbl&gt;</th><th scope=col>&lt;dbl&gt;</th><th scope=col>&lt;int&gt;</th><th scope=col>&lt;dbl&gt;</th><th scope=col>&lt;chr&gt;</th></tr>\n",
       "</thead>\n",
       "<tbody>\n",
       "\t<tr><th scope=row>Emerson:P00001</th><td>NA</td><td>NA</td><td>NA</td><td>NA</td><td>NA</td><td>NA</td><td>NA</td><td>NA</td><td>NA</td><td>NA</td><td>NA</td><td>NA</td><td>314</td><td>30394</td><td>333</td><td>150</td><td>33353</td><td>Emerson_adult</td></tr>\n",
       "\t<tr><th scope=row>Emerson:P00002</th><td>NA</td><td>NA</td><td>NA</td><td>NA</td><td>NA</td><td>NA</td><td>NA</td><td>NA</td><td>NA</td><td>NA</td><td>NA</td><td>NA</td><td> 82</td><td> 1940</td><td> 73</td><td> 36</td><td> 1637</td><td>Emerson_adult</td></tr>\n",
       "\t<tr><th scope=row>Emerson:P00004</th><td>NA</td><td>NA</td><td>NA</td><td>NA</td><td>NA</td><td>NA</td><td>NA</td><td>NA</td><td>NA</td><td>NA</td><td>NA</td><td>NA</td><td>504</td><td>48734</td><td>521</td><td>215</td><td>63165</td><td>Emerson_adult</td></tr>\n",
       "\t<tr><th scope=row>Emerson:P00005</th><td>NA</td><td>NA</td><td>NA</td><td>NA</td><td>NA</td><td>NA</td><td>NA</td><td>NA</td><td>NA</td><td>NA</td><td>NA</td><td>NA</td><td>205</td><td> 8595</td><td>193</td><td> 97</td><td> 6399</td><td>Emerson_adult</td></tr>\n",
       "\t<tr><th scope=row>Emerson:P00006</th><td>NA</td><td>NA</td><td>NA</td><td>NA</td><td>NA</td><td>NA</td><td>NA</td><td>NA</td><td>NA</td><td>NA</td><td>NA</td><td>NA</td><td>  3</td><td>  222</td><td>  1</td><td>  1</td><td>   68</td><td>Emerson_adult</td></tr>\n",
       "\t<tr><th scope=row>Emerson:P00008</th><td>NA</td><td>NA</td><td>NA</td><td>NA</td><td>NA</td><td>NA</td><td>NA</td><td>NA</td><td>NA</td><td>NA</td><td>NA</td><td>NA</td><td>252</td><td> 5723</td><td>276</td><td>117</td><td> 5759</td><td>Emerson_adult</td></tr>\n",
       "</tbody>\n",
       "</table>\n"
      ],
      "text/latex": [
       "A data.frame: 6 x 18\n",
       "\\begin{tabular}{r|llllllllllllllllll}\n",
       "  & CMV & EBV & HCV & Influenza & HomoSapiens & MDavis & HPV & CEF & TB & MCPyV & SP & DENV & n\\_cdr3 & cdr3\\_reads & n\\_gliph & n\\_cdr3ingliph & cdr3reads\\_ingliph & study\\\\\n",
       "  & <lgl> & <lgl> & <lgl> & <lgl> & <lgl> & <lgl> & <lgl> & <lgl> & <lgl> & <lgl> & <lgl> & <lgl> & <int> & <dbl> & <dbl> & <int> & <dbl> & <chr>\\\\\n",
       "\\hline\n",
       "\tEmerson:P00001 & NA & NA & NA & NA & NA & NA & NA & NA & NA & NA & NA & NA & 314 & 30394 & 333 & 150 & 33353 & Emerson\\_adult\\\\\n",
       "\tEmerson:P00002 & NA & NA & NA & NA & NA & NA & NA & NA & NA & NA & NA & NA &  82 &  1940 &  73 &  36 &  1637 & Emerson\\_adult\\\\\n",
       "\tEmerson:P00004 & NA & NA & NA & NA & NA & NA & NA & NA & NA & NA & NA & NA & 504 & 48734 & 521 & 215 & 63165 & Emerson\\_adult\\\\\n",
       "\tEmerson:P00005 & NA & NA & NA & NA & NA & NA & NA & NA & NA & NA & NA & NA & 205 &  8595 & 193 &  97 &  6399 & Emerson\\_adult\\\\\n",
       "\tEmerson:P00006 & NA & NA & NA & NA & NA & NA & NA & NA & NA & NA & NA & NA &   3 &   222 &   1 &   1 &    68 & Emerson\\_adult\\\\\n",
       "\tEmerson:P00008 & NA & NA & NA & NA & NA & NA & NA & NA & NA & NA & NA & NA & 252 &  5723 & 276 & 117 &  5759 & Emerson\\_adult\\\\\n",
       "\\end{tabular}\n"
      ],
      "text/markdown": [
       "\n",
       "A data.frame: 6 x 18\n",
       "\n",
       "| <!--/--> | CMV &lt;lgl&gt; | EBV &lt;lgl&gt; | HCV &lt;lgl&gt; | Influenza &lt;lgl&gt; | HomoSapiens &lt;lgl&gt; | MDavis &lt;lgl&gt; | HPV &lt;lgl&gt; | CEF &lt;lgl&gt; | TB &lt;lgl&gt; | MCPyV &lt;lgl&gt; | SP &lt;lgl&gt; | DENV &lt;lgl&gt; | n_cdr3 &lt;int&gt; | cdr3_reads &lt;dbl&gt; | n_gliph &lt;dbl&gt; | n_cdr3ingliph &lt;int&gt; | cdr3reads_ingliph &lt;dbl&gt; | study &lt;chr&gt; |\n",
       "|---|---|---|---|---|---|---|---|---|---|---|---|---|---|---|---|---|---|---|\n",
       "| Emerson:P00001 | NA | NA | NA | NA | NA | NA | NA | NA | NA | NA | NA | NA | 314 | 30394 | 333 | 150 | 33353 | Emerson_adult |\n",
       "| Emerson:P00002 | NA | NA | NA | NA | NA | NA | NA | NA | NA | NA | NA | NA |  82 |  1940 |  73 |  36 |  1637 | Emerson_adult |\n",
       "| Emerson:P00004 | NA | NA | NA | NA | NA | NA | NA | NA | NA | NA | NA | NA | 504 | 48734 | 521 | 215 | 63165 | Emerson_adult |\n",
       "| Emerson:P00005 | NA | NA | NA | NA | NA | NA | NA | NA | NA | NA | NA | NA | 205 |  8595 | 193 |  97 |  6399 | Emerson_adult |\n",
       "| Emerson:P00006 | NA | NA | NA | NA | NA | NA | NA | NA | NA | NA | NA | NA |   3 |   222 |   1 |   1 |    68 | Emerson_adult |\n",
       "| Emerson:P00008 | NA | NA | NA | NA | NA | NA | NA | NA | NA | NA | NA | NA | 252 |  5723 | 276 | 117 |  5759 | Emerson_adult |\n",
       "\n"
      ],
      "text/plain": [
       "               CMV EBV HCV Influenza HomoSapiens MDavis HPV CEF TB MCPyV SP\n",
       "Emerson:P00001 NA  NA  NA  NA        NA          NA     NA  NA  NA NA    NA\n",
       "Emerson:P00002 NA  NA  NA  NA        NA          NA     NA  NA  NA NA    NA\n",
       "Emerson:P00004 NA  NA  NA  NA        NA          NA     NA  NA  NA NA    NA\n",
       "Emerson:P00005 NA  NA  NA  NA        NA          NA     NA  NA  NA NA    NA\n",
       "Emerson:P00006 NA  NA  NA  NA        NA          NA     NA  NA  NA NA    NA\n",
       "Emerson:P00008 NA  NA  NA  NA        NA          NA     NA  NA  NA NA    NA\n",
       "               DENV n_cdr3 cdr3_reads n_gliph n_cdr3ingliph cdr3reads_ingliph\n",
       "Emerson:P00001 NA   314    30394      333     150           33353            \n",
       "Emerson:P00002 NA    82     1940       73      36            1637            \n",
       "Emerson:P00004 NA   504    48734      521     215           63165            \n",
       "Emerson:P00005 NA   205     8595      193      97            6399            \n",
       "Emerson:P00006 NA     3      222        1       1              68            \n",
       "Emerson:P00008 NA   252     5723      276     117            5759            \n",
       "               study        \n",
       "Emerson:P00001 Emerson_adult\n",
       "Emerson:P00002 Emerson_adult\n",
       "Emerson:P00004 Emerson_adult\n",
       "Emerson:P00005 Emerson_adult\n",
       "Emerson:P00006 Emerson_adult\n",
       "Emerson:P00008 Emerson_adult"
      ]
     },
     "metadata": {},
     "output_type": "display_data"
    }
   ],
   "source": [
    "head(samples_tcr_freq)"
   ]
  },
  {
   "cell_type": "code",
   "execution_count": 72,
   "metadata": {
    "vscode": {
     "languageId": "r"
    }
   },
   "outputs": [
    {
     "data": {
      "text/html": [
       "<style>\n",
       ".list-inline {list-style: none; margin:0; padding: 0}\n",
       ".list-inline>li {display: inline-block}\n",
       ".list-inline>li:not(:last-child)::after {content: \"\\00b7\"; padding: 0 .5ex}\n",
       "</style>\n",
       "<ol class=list-inline><li>'CEF'</li><li>'CMV'</li><li>'DENV'</li><li>'EBV'</li><li>'HCV'</li><li>'HPV'</li><li>'HomoSapiens'</li><li>'Influenza'</li><li>'M.tuberculosis'</li><li>'MCPyV'</li><li>'MDavis'</li><li>'S-pneumoniae'</li></ol>\n"
      ],
      "text/latex": [
       "\\begin{enumerate*}\n",
       "\\item 'CEF'\n",
       "\\item 'CMV'\n",
       "\\item 'DENV'\n",
       "\\item 'EBV'\n",
       "\\item 'HCV'\n",
       "\\item 'HPV'\n",
       "\\item 'HomoSapiens'\n",
       "\\item 'Influenza'\n",
       "\\item 'M.tuberculosis'\n",
       "\\item 'MCPyV'\n",
       "\\item 'MDavis'\n",
       "\\item 'S-pneumoniae'\n",
       "\\end{enumerate*}\n"
      ],
      "text/markdown": [
       "1. 'CEF'\n",
       "2. 'CMV'\n",
       "3. 'DENV'\n",
       "4. 'EBV'\n",
       "5. 'HCV'\n",
       "6. 'HPV'\n",
       "7. 'HomoSapiens'\n",
       "8. 'Influenza'\n",
       "9. 'M.tuberculosis'\n",
       "10. 'MCPyV'\n",
       "11. 'MDavis'\n",
       "12. 'S-pneumoniae'\n",
       "\n",
       "\n"
      ],
      "text/plain": [
       " [1] \"CEF\"            \"CMV\"            \"DENV\"           \"EBV\"           \n",
       " [5] \"HCV\"            \"HPV\"            \"HomoSapiens\"    \"Influenza\"     \n",
       " [9] \"M.tuberculosis\" \"MCPyV\"          \"MDavis\"         \"S-pneumoniae\"  "
      ]
     },
     "metadata": {},
     "output_type": "display_data"
    }
   ],
   "source": [
    "names(table(gliphout$subject[!grepl(\"Emerson\", gliphout$Sample)]))"
   ]
  },
  {
   "cell_type": "code",
   "execution_count": 73,
   "metadata": {
    "vscode": {
     "languageId": "r"
    }
   },
   "outputs": [
    {
     "data": {
      "text/html": [
       "<table class=\"dataframe\">\n",
       "<caption>A data.frame: 6 x 12</caption>\n",
       "<thead>\n",
       "\t<tr><th></th><th scope=col>CMV</th><th scope=col>EBV</th><th scope=col>HCV</th><th scope=col>Influenza</th><th scope=col>HomoSapiens</th><th scope=col>MDavis</th><th scope=col>HPV</th><th scope=col>CEF</th><th scope=col>TB</th><th scope=col>MCPyV</th><th scope=col>SP</th><th scope=col>DENV</th></tr>\n",
       "\t<tr><th></th><th scope=col>&lt;lgl&gt;</th><th scope=col>&lt;lgl&gt;</th><th scope=col>&lt;lgl&gt;</th><th scope=col>&lt;lgl&gt;</th><th scope=col>&lt;lgl&gt;</th><th scope=col>&lt;lgl&gt;</th><th scope=col>&lt;lgl&gt;</th><th scope=col>&lt;lgl&gt;</th><th scope=col>&lt;lgl&gt;</th><th scope=col>&lt;lgl&gt;</th><th scope=col>&lt;lgl&gt;</th><th scope=col>&lt;lgl&gt;</th></tr>\n",
       "</thead>\n",
       "<tbody>\n",
       "\t<tr><th scope=row>SLG%E</th><td>NA</td><td>NA</td><td>NA</td><td>NA</td><td>NA</td><td>NA</td><td>NA</td><td>NA</td><td>NA</td><td>NA</td><td>NA</td><td>NA</td></tr>\n",
       "\t<tr><th scope=row>S%GGNTE</th><td>NA</td><td>NA</td><td>NA</td><td>NA</td><td>NA</td><td>NA</td><td>NA</td><td>NA</td><td>NA</td><td>NA</td><td>NA</td><td>NA</td></tr>\n",
       "\t<tr><th scope=row>YDTG</th><td>NA</td><td>NA</td><td>NA</td><td>NA</td><td>NA</td><td>NA</td><td>NA</td><td>NA</td><td>NA</td><td>NA</td><td>NA</td><td>NA</td></tr>\n",
       "\t<tr><th scope=row>S%SGANV</th><td>NA</td><td>NA</td><td>NA</td><td>NA</td><td>NA</td><td>NA</td><td>NA</td><td>NA</td><td>NA</td><td>NA</td><td>NA</td><td>NA</td></tr>\n",
       "\t<tr><th scope=row>S%TGNTE</th><td>NA</td><td>NA</td><td>NA</td><td>NA</td><td>NA</td><td>NA</td><td>NA</td><td>NA</td><td>NA</td><td>NA</td><td>NA</td><td>NA</td></tr>\n",
       "\t<tr><th scope=row>SVG%NTE</th><td>NA</td><td>NA</td><td>NA</td><td>NA</td><td>NA</td><td>NA</td><td>NA</td><td>NA</td><td>NA</td><td>NA</td><td>NA</td><td>NA</td></tr>\n",
       "</tbody>\n",
       "</table>\n"
      ],
      "text/latex": [
       "A data.frame: 6 x 12\n",
       "\\begin{tabular}{r|llllllllllll}\n",
       "  & CMV & EBV & HCV & Influenza & HomoSapiens & MDavis & HPV & CEF & TB & MCPyV & SP & DENV\\\\\n",
       "  & <lgl> & <lgl> & <lgl> & <lgl> & <lgl> & <lgl> & <lgl> & <lgl> & <lgl> & <lgl> & <lgl> & <lgl>\\\\\n",
       "\\hline\n",
       "\tSLG\\%E & NA & NA & NA & NA & NA & NA & NA & NA & NA & NA & NA & NA\\\\\n",
       "\tS\\%GGNTE & NA & NA & NA & NA & NA & NA & NA & NA & NA & NA & NA & NA\\\\\n",
       "\tYDTG & NA & NA & NA & NA & NA & NA & NA & NA & NA & NA & NA & NA\\\\\n",
       "\tS\\%SGANV & NA & NA & NA & NA & NA & NA & NA & NA & NA & NA & NA & NA\\\\\n",
       "\tS\\%TGNTE & NA & NA & NA & NA & NA & NA & NA & NA & NA & NA & NA & NA\\\\\n",
       "\tSVG\\%NTE & NA & NA & NA & NA & NA & NA & NA & NA & NA & NA & NA & NA\\\\\n",
       "\\end{tabular}\n"
      ],
      "text/markdown": [
       "\n",
       "A data.frame: 6 x 12\n",
       "\n",
       "| <!--/--> | CMV &lt;lgl&gt; | EBV &lt;lgl&gt; | HCV &lt;lgl&gt; | Influenza &lt;lgl&gt; | HomoSapiens &lt;lgl&gt; | MDavis &lt;lgl&gt; | HPV &lt;lgl&gt; | CEF &lt;lgl&gt; | TB &lt;lgl&gt; | MCPyV &lt;lgl&gt; | SP &lt;lgl&gt; | DENV &lt;lgl&gt; |\n",
       "|---|---|---|---|---|---|---|---|---|---|---|---|---|\n",
       "| SLG%E | NA | NA | NA | NA | NA | NA | NA | NA | NA | NA | NA | NA |\n",
       "| S%GGNTE | NA | NA | NA | NA | NA | NA | NA | NA | NA | NA | NA | NA |\n",
       "| YDTG | NA | NA | NA | NA | NA | NA | NA | NA | NA | NA | NA | NA |\n",
       "| S%SGANV | NA | NA | NA | NA | NA | NA | NA | NA | NA | NA | NA | NA |\n",
       "| S%TGNTE | NA | NA | NA | NA | NA | NA | NA | NA | NA | NA | NA | NA |\n",
       "| SVG%NTE | NA | NA | NA | NA | NA | NA | NA | NA | NA | NA | NA | NA |\n",
       "\n"
      ],
      "text/plain": [
       "        CMV EBV HCV Influenza HomoSapiens MDavis HPV CEF TB MCPyV SP DENV\n",
       "SLG%E   NA  NA  NA  NA        NA          NA     NA  NA  NA NA    NA NA  \n",
       "S%GGNTE NA  NA  NA  NA        NA          NA     NA  NA  NA NA    NA NA  \n",
       "YDTG    NA  NA  NA  NA        NA          NA     NA  NA  NA NA    NA NA  \n",
       "S%SGANV NA  NA  NA  NA        NA          NA     NA  NA  NA NA    NA NA  \n",
       "S%TGNTE NA  NA  NA  NA        NA          NA     NA  NA  NA NA    NA NA  \n",
       "SVG%NTE NA  NA  NA  NA        NA          NA     NA  NA  NA NA    NA NA  "
      ]
     },
     "metadata": {},
     "output_type": "display_data"
    }
   ],
   "source": [
    "head(gliphdf_freq)"
   ]
  },
  {
   "cell_type": "code",
   "execution_count": 74,
   "metadata": {
    "vscode": {
     "languageId": "r"
    }
   },
   "outputs": [],
   "source": [
    "for(i in 1:nrow(gliphdf_freq)){\n",
    "\n",
    "mygliph <- gliphout[gliphout$pattern == rownames(gliphdf_freq)[i],]\n",
    "# sum Freq of CHP samples if  if mygliph$Sample ciontains CMV\n",
    "gliphdf_freq$CMV[i] <- ifelse(sum(grepl(\"CMV\", mygliph$subject)) > 0, sum(mygliph$Freq[grepl(\"Emerson\", mygliph$Sample)]), 0)\n",
    "gliphdf_freq$EBV[i] <- ifelse(sum(grepl(\"EBV\", mygliph$subject)) > 0, sum(mygliph$Freq[grepl(\"Emerson\", mygliph$Sample)]), 0)\n",
    "gliphdf_freq$HCV[i] <- ifelse(sum(grepl(\"HCV\", mygliph$subject)) > 0, sum(mygliph$Freq[grepl(\"Emerson\", mygliph$Sample)]), 0)\n",
    "gliphdf_freq$Influenza[i] <- ifelse(sum(grepl(\"Influenza\", mygliph$subject)) > 0, sum(mygliph$Freq[grepl(\"Emerson\", mygliph$Sample)]), 0)\n",
    "\n",
    "gliphdf_freq$HomoSapiens[i] <- ifelse(sum(grepl(\"HomoSapiens\", mygliph$subject)) > 0, sum(mygliph$Freq[grepl(\"Emerson\", mygliph$Sample)]), 0)\n",
    "gliphdf_freq$MDavis[i] <- ifelse(sum(grepl(\"MDavis\", mygliph$subject)) > 0, sum(mygliph$Freq[grepl(\"Emerson\", mygliph$Sample)]), 0)\n",
    "\n",
    "gliphdf_freq$HPV[i] <- ifelse(sum(grepl(\"HPV\", mygliph$subject)) > 0, sum(mygliph$Freq[grepl(\"Emerson\", mygliph$Sample)]), 0)\n",
    "gliphdf_freq$CEF[i] <- ifelse(sum(grepl(\"CEF\", mygliph$subject)) > 0, sum(mygliph$Freq[grepl(\"Emerson\", mygliph$Sample)]), 0)\n",
    "gliphdf_freq$TB[i] <- ifelse(sum(grepl(\"M.tuberculosis\", mygliph$subject)) > 0, sum(mygliph$Freq[grepl(\"Emerson\", mygliph$Sample)]), 0)\n",
    "gliphdf_freq$MCPyV[i] <- ifelse(sum(grepl(\"MCPyV\", mygliph$subject)) > 0, sum(mygliph$Freq[grepl(\"Emerson\", mygliph$Sample)]), 0)\n",
    "gliphdf_freq$SP[i] <- ifelse(sum(grepl(\"S-pneumoniae\", mygliph$subject)) > 0, sum(mygliph$Freq[grepl(\"Emerson\", mygliph$Sample)]), 0)\n",
    "# gliphdf_freq$HTLV1[i] <- ifelse(sum(grepl(\"HTLV-1\", mygliph$subject)) > 0, sum(mygliph$Freq[grepl(\"CHP\", mygliph$Sample)]), 0)\n",
    "gliphdf_freq$DENV[i] <- ifelse(sum(grepl(\"DENV\", mygliph$subject)) > 0, sum(mygliph$Freq[grepl(\"Emerson\", mygliph$Sample)]), 0)\n",
    "}"
   ]
  },
  {
   "cell_type": "code",
   "execution_count": 75,
   "metadata": {
    "vscode": {
     "languageId": "r"
    }
   },
   "outputs": [
    {
     "data": {
      "text/html": [
       "<table class=\"dataframe\">\n",
       "<caption>A data.frame: 6 x 14</caption>\n",
       "<thead>\n",
       "\t<tr><th></th><th scope=col>gliph</th><th scope=col>CMV</th><th scope=col>EBV</th><th scope=col>HCV</th><th scope=col>Influenza</th><th scope=col>HomoSapiens</th><th scope=col>MDavis</th><th scope=col>HPV</th><th scope=col>CEF</th><th scope=col>TB</th><th scope=col>MCPyV</th><th scope=col>SP</th><th scope=col>DENV</th><th scope=col>n_unique_cdr3</th></tr>\n",
       "\t<tr><th></th><th scope=col>&lt;chr&gt;</th><th scope=col>&lt;dbl&gt;</th><th scope=col>&lt;dbl&gt;</th><th scope=col>&lt;dbl&gt;</th><th scope=col>&lt;dbl&gt;</th><th scope=col>&lt;dbl&gt;</th><th scope=col>&lt;dbl&gt;</th><th scope=col>&lt;dbl&gt;</th><th scope=col>&lt;dbl&gt;</th><th scope=col>&lt;dbl&gt;</th><th scope=col>&lt;dbl&gt;</th><th scope=col>&lt;dbl&gt;</th><th scope=col>&lt;dbl&gt;</th><th scope=col>&lt;int&gt;</th></tr>\n",
       "</thead>\n",
       "<tbody>\n",
       "\t<tr><th scope=row>SLG%E</th><td>SLG%E  </td><td>0</td><td>0</td><td>0</td><td>0</td><td>0</td><td>39</td><td>0</td><td>0</td><td>0</td><td>0</td><td>0</td><td>0</td><td>53</td></tr>\n",
       "\t<tr><th scope=row>S%GGNTE</th><td>S%GGNTE</td><td>0</td><td>0</td><td>0</td><td>0</td><td>1</td><td>40</td><td>0</td><td>0</td><td>0</td><td>0</td><td>0</td><td>0</td><td>42</td></tr>\n",
       "\t<tr><th scope=row>YDTG</th><td>YDTG   </td><td>0</td><td>0</td><td>0</td><td>0</td><td>0</td><td>75</td><td>0</td><td>0</td><td>0</td><td>0</td><td>0</td><td>0</td><td>78</td></tr>\n",
       "\t<tr><th scope=row>S%SGANV</th><td>S%SGANV</td><td>0</td><td>0</td><td>0</td><td>0</td><td>0</td><td>34</td><td>0</td><td>0</td><td>0</td><td>0</td><td>0</td><td>0</td><td>36</td></tr>\n",
       "\t<tr><th scope=row>S%TGNTE</th><td>S%TGNTE</td><td>0</td><td>0</td><td>0</td><td>0</td><td>0</td><td>34</td><td>0</td><td>0</td><td>0</td><td>0</td><td>0</td><td>0</td><td>35</td></tr>\n",
       "\t<tr><th scope=row>SVG%NTE</th><td>SVG%NTE</td><td>0</td><td>0</td><td>0</td><td>0</td><td>0</td><td>28</td><td>0</td><td>0</td><td>0</td><td>0</td><td>0</td><td>0</td><td>31</td></tr>\n",
       "</tbody>\n",
       "</table>\n"
      ],
      "text/latex": [
       "A data.frame: 6 x 14\n",
       "\\begin{tabular}{r|llllllllllllll}\n",
       "  & gliph & CMV & EBV & HCV & Influenza & HomoSapiens & MDavis & HPV & CEF & TB & MCPyV & SP & DENV & n\\_unique\\_cdr3\\\\\n",
       "  & <chr> & <dbl> & <dbl> & <dbl> & <dbl> & <dbl> & <dbl> & <dbl> & <dbl> & <dbl> & <dbl> & <dbl> & <dbl> & <int>\\\\\n",
       "\\hline\n",
       "\tSLG\\%E & SLG\\%E   & 0 & 0 & 0 & 0 & 0 & 39 & 0 & 0 & 0 & 0 & 0 & 0 & 53\\\\\n",
       "\tS\\%GGNTE & S\\%GGNTE & 0 & 0 & 0 & 0 & 1 & 40 & 0 & 0 & 0 & 0 & 0 & 0 & 42\\\\\n",
       "\tYDTG & YDTG    & 0 & 0 & 0 & 0 & 0 & 75 & 0 & 0 & 0 & 0 & 0 & 0 & 78\\\\\n",
       "\tS\\%SGANV & S\\%SGANV & 0 & 0 & 0 & 0 & 0 & 34 & 0 & 0 & 0 & 0 & 0 & 0 & 36\\\\\n",
       "\tS\\%TGNTE & S\\%TGNTE & 0 & 0 & 0 & 0 & 0 & 34 & 0 & 0 & 0 & 0 & 0 & 0 & 35\\\\\n",
       "\tSVG\\%NTE & SVG\\%NTE & 0 & 0 & 0 & 0 & 0 & 28 & 0 & 0 & 0 & 0 & 0 & 0 & 31\\\\\n",
       "\\end{tabular}\n"
      ],
      "text/markdown": [
       "\n",
       "A data.frame: 6 x 14\n",
       "\n",
       "| <!--/--> | gliph &lt;chr&gt; | CMV &lt;dbl&gt; | EBV &lt;dbl&gt; | HCV &lt;dbl&gt; | Influenza &lt;dbl&gt; | HomoSapiens &lt;dbl&gt; | MDavis &lt;dbl&gt; | HPV &lt;dbl&gt; | CEF &lt;dbl&gt; | TB &lt;dbl&gt; | MCPyV &lt;dbl&gt; | SP &lt;dbl&gt; | DENV &lt;dbl&gt; | n_unique_cdr3 &lt;int&gt; |\n",
       "|---|---|---|---|---|---|---|---|---|---|---|---|---|---|---|\n",
       "| SLG%E | SLG%E   | 0 | 0 | 0 | 0 | 0 | 39 | 0 | 0 | 0 | 0 | 0 | 0 | 53 |\n",
       "| S%GGNTE | S%GGNTE | 0 | 0 | 0 | 0 | 1 | 40 | 0 | 0 | 0 | 0 | 0 | 0 | 42 |\n",
       "| YDTG | YDTG    | 0 | 0 | 0 | 0 | 0 | 75 | 0 | 0 | 0 | 0 | 0 | 0 | 78 |\n",
       "| S%SGANV | S%SGANV | 0 | 0 | 0 | 0 | 0 | 34 | 0 | 0 | 0 | 0 | 0 | 0 | 36 |\n",
       "| S%TGNTE | S%TGNTE | 0 | 0 | 0 | 0 | 0 | 34 | 0 | 0 | 0 | 0 | 0 | 0 | 35 |\n",
       "| SVG%NTE | SVG%NTE | 0 | 0 | 0 | 0 | 0 | 28 | 0 | 0 | 0 | 0 | 0 | 0 | 31 |\n",
       "\n"
      ],
      "text/plain": [
       "        gliph   CMV EBV HCV Influenza HomoSapiens MDavis HPV CEF TB MCPyV SP\n",
       "SLG%E   SLG%E   0   0   0   0         0           39     0   0   0  0     0 \n",
       "S%GGNTE S%GGNTE 0   0   0   0         1           40     0   0   0  0     0 \n",
       "YDTG    YDTG    0   0   0   0         0           75     0   0   0  0     0 \n",
       "S%SGANV S%SGANV 0   0   0   0         0           34     0   0   0  0     0 \n",
       "S%TGNTE S%TGNTE 0   0   0   0         0           34     0   0   0  0     0 \n",
       "SVG%NTE SVG%NTE 0   0   0   0         0           28     0   0   0  0     0 \n",
       "        DENV n_unique_cdr3\n",
       "SLG%E   0    53           \n",
       "S%GGNTE 0    42           \n",
       "YDTG    0    78           \n",
       "S%SGANV 0    36           \n",
       "S%TGNTE 0    35           \n",
       "SVG%NTE 0    31           "
      ]
     },
     "metadata": {},
     "output_type": "display_data"
    }
   ],
   "source": [
    "head(gliphdf)"
   ]
  },
  {
   "cell_type": "code",
   "execution_count": 76,
   "metadata": {
    "vscode": {
     "languageId": "r"
    }
   },
   "outputs": [
    {
     "data": {
      "text/html": [
       "<table class=\"dataframe\">\n",
       "<caption>A data.frame: 6 x 12</caption>\n",
       "<thead>\n",
       "\t<tr><th></th><th scope=col>CMV</th><th scope=col>EBV</th><th scope=col>HCV</th><th scope=col>Influenza</th><th scope=col>HomoSapiens</th><th scope=col>MDavis</th><th scope=col>HPV</th><th scope=col>CEF</th><th scope=col>TB</th><th scope=col>MCPyV</th><th scope=col>SP</th><th scope=col>DENV</th></tr>\n",
       "\t<tr><th></th><th scope=col>&lt;dbl&gt;</th><th scope=col>&lt;dbl&gt;</th><th scope=col>&lt;dbl&gt;</th><th scope=col>&lt;dbl&gt;</th><th scope=col>&lt;dbl&gt;</th><th scope=col>&lt;dbl&gt;</th><th scope=col>&lt;dbl&gt;</th><th scope=col>&lt;dbl&gt;</th><th scope=col>&lt;dbl&gt;</th><th scope=col>&lt;dbl&gt;</th><th scope=col>&lt;dbl&gt;</th><th scope=col>&lt;dbl&gt;</th></tr>\n",
       "</thead>\n",
       "<tbody>\n",
       "\t<tr><th scope=row>SLG%E</th><td>0</td><td>0</td><td>0</td><td>0</td><td>   0</td><td>1935</td><td>0</td><td>0</td><td>0</td><td>0</td><td>0</td><td>0</td></tr>\n",
       "\t<tr><th scope=row>S%GGNTE</th><td>0</td><td>0</td><td>0</td><td>0</td><td>1027</td><td>1027</td><td>0</td><td>0</td><td>0</td><td>0</td><td>0</td><td>0</td></tr>\n",
       "\t<tr><th scope=row>YDTG</th><td>0</td><td>0</td><td>0</td><td>0</td><td>   0</td><td> 124</td><td>0</td><td>0</td><td>0</td><td>0</td><td>0</td><td>0</td></tr>\n",
       "\t<tr><th scope=row>S%SGANV</th><td>0</td><td>0</td><td>0</td><td>0</td><td>   0</td><td>1147</td><td>0</td><td>0</td><td>0</td><td>0</td><td>0</td><td>0</td></tr>\n",
       "\t<tr><th scope=row>S%TGNTE</th><td>0</td><td>0</td><td>0</td><td>0</td><td>   0</td><td>1347</td><td>0</td><td>0</td><td>0</td><td>0</td><td>0</td><td>0</td></tr>\n",
       "\t<tr><th scope=row>SVG%NTE</th><td>0</td><td>0</td><td>0</td><td>0</td><td>   0</td><td> 705</td><td>0</td><td>0</td><td>0</td><td>0</td><td>0</td><td>0</td></tr>\n",
       "</tbody>\n",
       "</table>\n"
      ],
      "text/latex": [
       "A data.frame: 6 x 12\n",
       "\\begin{tabular}{r|llllllllllll}\n",
       "  & CMV & EBV & HCV & Influenza & HomoSapiens & MDavis & HPV & CEF & TB & MCPyV & SP & DENV\\\\\n",
       "  & <dbl> & <dbl> & <dbl> & <dbl> & <dbl> & <dbl> & <dbl> & <dbl> & <dbl> & <dbl> & <dbl> & <dbl>\\\\\n",
       "\\hline\n",
       "\tSLG\\%E & 0 & 0 & 0 & 0 &    0 & 1935 & 0 & 0 & 0 & 0 & 0 & 0\\\\\n",
       "\tS\\%GGNTE & 0 & 0 & 0 & 0 & 1027 & 1027 & 0 & 0 & 0 & 0 & 0 & 0\\\\\n",
       "\tYDTG & 0 & 0 & 0 & 0 &    0 &  124 & 0 & 0 & 0 & 0 & 0 & 0\\\\\n",
       "\tS\\%SGANV & 0 & 0 & 0 & 0 &    0 & 1147 & 0 & 0 & 0 & 0 & 0 & 0\\\\\n",
       "\tS\\%TGNTE & 0 & 0 & 0 & 0 &    0 & 1347 & 0 & 0 & 0 & 0 & 0 & 0\\\\\n",
       "\tSVG\\%NTE & 0 & 0 & 0 & 0 &    0 &  705 & 0 & 0 & 0 & 0 & 0 & 0\\\\\n",
       "\\end{tabular}\n"
      ],
      "text/markdown": [
       "\n",
       "A data.frame: 6 x 12\n",
       "\n",
       "| <!--/--> | CMV &lt;dbl&gt; | EBV &lt;dbl&gt; | HCV &lt;dbl&gt; | Influenza &lt;dbl&gt; | HomoSapiens &lt;dbl&gt; | MDavis &lt;dbl&gt; | HPV &lt;dbl&gt; | CEF &lt;dbl&gt; | TB &lt;dbl&gt; | MCPyV &lt;dbl&gt; | SP &lt;dbl&gt; | DENV &lt;dbl&gt; |\n",
       "|---|---|---|---|---|---|---|---|---|---|---|---|---|\n",
       "| SLG%E | 0 | 0 | 0 | 0 |    0 | 1935 | 0 | 0 | 0 | 0 | 0 | 0 |\n",
       "| S%GGNTE | 0 | 0 | 0 | 0 | 1027 | 1027 | 0 | 0 | 0 | 0 | 0 | 0 |\n",
       "| YDTG | 0 | 0 | 0 | 0 |    0 |  124 | 0 | 0 | 0 | 0 | 0 | 0 |\n",
       "| S%SGANV | 0 | 0 | 0 | 0 |    0 | 1147 | 0 | 0 | 0 | 0 | 0 | 0 |\n",
       "| S%TGNTE | 0 | 0 | 0 | 0 |    0 | 1347 | 0 | 0 | 0 | 0 | 0 | 0 |\n",
       "| SVG%NTE | 0 | 0 | 0 | 0 |    0 |  705 | 0 | 0 | 0 | 0 | 0 | 0 |\n",
       "\n"
      ],
      "text/plain": [
       "        CMV EBV HCV Influenza HomoSapiens MDavis HPV CEF TB MCPyV SP DENV\n",
       "SLG%E   0   0   0   0            0        1935   0   0   0  0     0  0   \n",
       "S%GGNTE 0   0   0   0         1027        1027   0   0   0  0     0  0   \n",
       "YDTG    0   0   0   0            0         124   0   0   0  0     0  0   \n",
       "S%SGANV 0   0   0   0            0        1147   0   0   0  0     0  0   \n",
       "S%TGNTE 0   0   0   0            0        1347   0   0   0  0     0  0   \n",
       "SVG%NTE 0   0   0   0            0         705   0   0   0  0     0  0   "
      ]
     },
     "metadata": {},
     "output_type": "display_data"
    }
   ],
   "source": [
    "head(gliphdf_freq)"
   ]
  },
  {
   "cell_type": "code",
   "execution_count": 77,
   "metadata": {
    "vscode": {
     "languageId": "r"
    }
   },
   "outputs": [
    {
     "data": {
      "text/html": [
       "<style>\n",
       ".list-inline {list-style: none; margin:0; padding: 0}\n",
       ".list-inline>li {display: inline-block}\n",
       ".list-inline>li:not(:last-child)::after {content: \"\\00b7\"; padding: 0 .5ex}\n",
       "</style>\n",
       "<ol class=list-inline><li>'index'</li><li>'pattern'</li><li>'Fisher_score'</li><li>'number_subject'</li><li>'number_unique_cdr3'</li><li>'final_score'</li><li>'hla_score'</li><li>'vb_score'</li><li>'expansion_score'</li><li>'length_score'</li><li>'cluster_size_score'</li><li>'type'</li><li>'TcRb'</li><li>'V'</li><li>'J'</li><li>'TcRa'</li><li>'Sample'</li><li>'Freq'</li><li>'subject'</li></ol>\n"
      ],
      "text/latex": [
       "\\begin{enumerate*}\n",
       "\\item 'index'\n",
       "\\item 'pattern'\n",
       "\\item 'Fisher\\_score'\n",
       "\\item 'number\\_subject'\n",
       "\\item 'number\\_unique\\_cdr3'\n",
       "\\item 'final\\_score'\n",
       "\\item 'hla\\_score'\n",
       "\\item 'vb\\_score'\n",
       "\\item 'expansion\\_score'\n",
       "\\item 'length\\_score'\n",
       "\\item 'cluster\\_size\\_score'\n",
       "\\item 'type'\n",
       "\\item 'TcRb'\n",
       "\\item 'V'\n",
       "\\item 'J'\n",
       "\\item 'TcRa'\n",
       "\\item 'Sample'\n",
       "\\item 'Freq'\n",
       "\\item 'subject'\n",
       "\\end{enumerate*}\n"
      ],
      "text/markdown": [
       "1. 'index'\n",
       "2. 'pattern'\n",
       "3. 'Fisher_score'\n",
       "4. 'number_subject'\n",
       "5. 'number_unique_cdr3'\n",
       "6. 'final_score'\n",
       "7. 'hla_score'\n",
       "8. 'vb_score'\n",
       "9. 'expansion_score'\n",
       "10. 'length_score'\n",
       "11. 'cluster_size_score'\n",
       "12. 'type'\n",
       "13. 'TcRb'\n",
       "14. 'V'\n",
       "15. 'J'\n",
       "16. 'TcRa'\n",
       "17. 'Sample'\n",
       "18. 'Freq'\n",
       "19. 'subject'\n",
       "\n",
       "\n"
      ],
      "text/plain": [
       " [1] \"index\"              \"pattern\"            \"Fisher_score\"      \n",
       " [4] \"number_subject\"     \"number_unique_cdr3\" \"final_score\"       \n",
       " [7] \"hla_score\"          \"vb_score\"           \"expansion_score\"   \n",
       "[10] \"length_score\"       \"cluster_size_score\" \"type\"              \n",
       "[13] \"TcRb\"               \"V\"                  \"J\"                 \n",
       "[16] \"TcRa\"               \"Sample\"             \"Freq\"              \n",
       "[19] \"subject\"           "
      ]
     },
     "metadata": {},
     "output_type": "display_data"
    }
   ],
   "source": [
    "colnames(gliphout)"
   ]
  },
  {
   "cell_type": "code",
   "execution_count": 78,
   "metadata": {
    "vscode": {
     "languageId": "r"
    }
   },
   "outputs": [
    {
     "data": {
      "text/html": [
       "<table class=\"dataframe\">\n",
       "<caption>A data.frame: 6 x 18</caption>\n",
       "<thead>\n",
       "\t<tr><th></th><th scope=col>CMV</th><th scope=col>EBV</th><th scope=col>HCV</th><th scope=col>Influenza</th><th scope=col>HomoSapiens</th><th scope=col>MDavis</th><th scope=col>HPV</th><th scope=col>CEF</th><th scope=col>TB</th><th scope=col>MCPyV</th><th scope=col>SP</th><th scope=col>DENV</th><th scope=col>n_cdr3</th><th scope=col>cdr3_reads</th><th scope=col>n_gliph</th><th scope=col>n_cdr3ingliph</th><th scope=col>cdr3reads_ingliph</th><th scope=col>study</th></tr>\n",
       "\t<tr><th></th><th scope=col>&lt;lgl&gt;</th><th scope=col>&lt;lgl&gt;</th><th scope=col>&lt;lgl&gt;</th><th scope=col>&lt;lgl&gt;</th><th scope=col>&lt;lgl&gt;</th><th scope=col>&lt;lgl&gt;</th><th scope=col>&lt;lgl&gt;</th><th scope=col>&lt;lgl&gt;</th><th scope=col>&lt;lgl&gt;</th><th scope=col>&lt;lgl&gt;</th><th scope=col>&lt;lgl&gt;</th><th scope=col>&lt;lgl&gt;</th><th scope=col>&lt;int&gt;</th><th scope=col>&lt;dbl&gt;</th><th scope=col>&lt;dbl&gt;</th><th scope=col>&lt;int&gt;</th><th scope=col>&lt;dbl&gt;</th><th scope=col>&lt;chr&gt;</th></tr>\n",
       "</thead>\n",
       "<tbody>\n",
       "\t<tr><th scope=row>Emerson:P00001</th><td>NA</td><td>NA</td><td>NA</td><td>NA</td><td>NA</td><td>NA</td><td>NA</td><td>NA</td><td>NA</td><td>NA</td><td>NA</td><td>NA</td><td>314</td><td>30394</td><td>333</td><td>150</td><td>33353</td><td>Emerson_adult</td></tr>\n",
       "\t<tr><th scope=row>Emerson:P00002</th><td>NA</td><td>NA</td><td>NA</td><td>NA</td><td>NA</td><td>NA</td><td>NA</td><td>NA</td><td>NA</td><td>NA</td><td>NA</td><td>NA</td><td> 82</td><td> 1940</td><td> 73</td><td> 36</td><td> 1637</td><td>Emerson_adult</td></tr>\n",
       "\t<tr><th scope=row>Emerson:P00004</th><td>NA</td><td>NA</td><td>NA</td><td>NA</td><td>NA</td><td>NA</td><td>NA</td><td>NA</td><td>NA</td><td>NA</td><td>NA</td><td>NA</td><td>504</td><td>48734</td><td>521</td><td>215</td><td>63165</td><td>Emerson_adult</td></tr>\n",
       "\t<tr><th scope=row>Emerson:P00005</th><td>NA</td><td>NA</td><td>NA</td><td>NA</td><td>NA</td><td>NA</td><td>NA</td><td>NA</td><td>NA</td><td>NA</td><td>NA</td><td>NA</td><td>205</td><td> 8595</td><td>193</td><td> 97</td><td> 6399</td><td>Emerson_adult</td></tr>\n",
       "\t<tr><th scope=row>Emerson:P00006</th><td>NA</td><td>NA</td><td>NA</td><td>NA</td><td>NA</td><td>NA</td><td>NA</td><td>NA</td><td>NA</td><td>NA</td><td>NA</td><td>NA</td><td>  3</td><td>  222</td><td>  1</td><td>  1</td><td>   68</td><td>Emerson_adult</td></tr>\n",
       "\t<tr><th scope=row>Emerson:P00008</th><td>NA</td><td>NA</td><td>NA</td><td>NA</td><td>NA</td><td>NA</td><td>NA</td><td>NA</td><td>NA</td><td>NA</td><td>NA</td><td>NA</td><td>252</td><td> 5723</td><td>276</td><td>117</td><td> 5759</td><td>Emerson_adult</td></tr>\n",
       "</tbody>\n",
       "</table>\n"
      ],
      "text/latex": [
       "A data.frame: 6 x 18\n",
       "\\begin{tabular}{r|llllllllllllllllll}\n",
       "  & CMV & EBV & HCV & Influenza & HomoSapiens & MDavis & HPV & CEF & TB & MCPyV & SP & DENV & n\\_cdr3 & cdr3\\_reads & n\\_gliph & n\\_cdr3ingliph & cdr3reads\\_ingliph & study\\\\\n",
       "  & <lgl> & <lgl> & <lgl> & <lgl> & <lgl> & <lgl> & <lgl> & <lgl> & <lgl> & <lgl> & <lgl> & <lgl> & <int> & <dbl> & <dbl> & <int> & <dbl> & <chr>\\\\\n",
       "\\hline\n",
       "\tEmerson:P00001 & NA & NA & NA & NA & NA & NA & NA & NA & NA & NA & NA & NA & 314 & 30394 & 333 & 150 & 33353 & Emerson\\_adult\\\\\n",
       "\tEmerson:P00002 & NA & NA & NA & NA & NA & NA & NA & NA & NA & NA & NA & NA &  82 &  1940 &  73 &  36 &  1637 & Emerson\\_adult\\\\\n",
       "\tEmerson:P00004 & NA & NA & NA & NA & NA & NA & NA & NA & NA & NA & NA & NA & 504 & 48734 & 521 & 215 & 63165 & Emerson\\_adult\\\\\n",
       "\tEmerson:P00005 & NA & NA & NA & NA & NA & NA & NA & NA & NA & NA & NA & NA & 205 &  8595 & 193 &  97 &  6399 & Emerson\\_adult\\\\\n",
       "\tEmerson:P00006 & NA & NA & NA & NA & NA & NA & NA & NA & NA & NA & NA & NA &   3 &   222 &   1 &   1 &    68 & Emerson\\_adult\\\\\n",
       "\tEmerson:P00008 & NA & NA & NA & NA & NA & NA & NA & NA & NA & NA & NA & NA & 252 &  5723 & 276 & 117 &  5759 & Emerson\\_adult\\\\\n",
       "\\end{tabular}\n"
      ],
      "text/markdown": [
       "\n",
       "A data.frame: 6 x 18\n",
       "\n",
       "| <!--/--> | CMV &lt;lgl&gt; | EBV &lt;lgl&gt; | HCV &lt;lgl&gt; | Influenza &lt;lgl&gt; | HomoSapiens &lt;lgl&gt; | MDavis &lt;lgl&gt; | HPV &lt;lgl&gt; | CEF &lt;lgl&gt; | TB &lt;lgl&gt; | MCPyV &lt;lgl&gt; | SP &lt;lgl&gt; | DENV &lt;lgl&gt; | n_cdr3 &lt;int&gt; | cdr3_reads &lt;dbl&gt; | n_gliph &lt;dbl&gt; | n_cdr3ingliph &lt;int&gt; | cdr3reads_ingliph &lt;dbl&gt; | study &lt;chr&gt; |\n",
       "|---|---|---|---|---|---|---|---|---|---|---|---|---|---|---|---|---|---|---|\n",
       "| Emerson:P00001 | NA | NA | NA | NA | NA | NA | NA | NA | NA | NA | NA | NA | 314 | 30394 | 333 | 150 | 33353 | Emerson_adult |\n",
       "| Emerson:P00002 | NA | NA | NA | NA | NA | NA | NA | NA | NA | NA | NA | NA |  82 |  1940 |  73 |  36 |  1637 | Emerson_adult |\n",
       "| Emerson:P00004 | NA | NA | NA | NA | NA | NA | NA | NA | NA | NA | NA | NA | 504 | 48734 | 521 | 215 | 63165 | Emerson_adult |\n",
       "| Emerson:P00005 | NA | NA | NA | NA | NA | NA | NA | NA | NA | NA | NA | NA | 205 |  8595 | 193 |  97 |  6399 | Emerson_adult |\n",
       "| Emerson:P00006 | NA | NA | NA | NA | NA | NA | NA | NA | NA | NA | NA | NA |   3 |   222 |   1 |   1 |    68 | Emerson_adult |\n",
       "| Emerson:P00008 | NA | NA | NA | NA | NA | NA | NA | NA | NA | NA | NA | NA | 252 |  5723 | 276 | 117 |  5759 | Emerson_adult |\n",
       "\n"
      ],
      "text/plain": [
       "               CMV EBV HCV Influenza HomoSapiens MDavis HPV CEF TB MCPyV SP\n",
       "Emerson:P00001 NA  NA  NA  NA        NA          NA     NA  NA  NA NA    NA\n",
       "Emerson:P00002 NA  NA  NA  NA        NA          NA     NA  NA  NA NA    NA\n",
       "Emerson:P00004 NA  NA  NA  NA        NA          NA     NA  NA  NA NA    NA\n",
       "Emerson:P00005 NA  NA  NA  NA        NA          NA     NA  NA  NA NA    NA\n",
       "Emerson:P00006 NA  NA  NA  NA        NA          NA     NA  NA  NA NA    NA\n",
       "Emerson:P00008 NA  NA  NA  NA        NA          NA     NA  NA  NA NA    NA\n",
       "               DENV n_cdr3 cdr3_reads n_gliph n_cdr3ingliph cdr3reads_ingliph\n",
       "Emerson:P00001 NA   314    30394      333     150           33353            \n",
       "Emerson:P00002 NA    82     1940       73      36            1637            \n",
       "Emerson:P00004 NA   504    48734      521     215           63165            \n",
       "Emerson:P00005 NA   205     8595      193      97            6399            \n",
       "Emerson:P00006 NA     3      222        1       1              68            \n",
       "Emerson:P00008 NA   252     5723      276     117            5759            \n",
       "               study        \n",
       "Emerson:P00001 Emerson_adult\n",
       "Emerson:P00002 Emerson_adult\n",
       "Emerson:P00004 Emerson_adult\n",
       "Emerson:P00005 Emerson_adult\n",
       "Emerson:P00006 Emerson_adult\n",
       "Emerson:P00008 Emerson_adult"
      ]
     },
     "metadata": {},
     "output_type": "display_data"
    }
   ],
   "source": [
    "head(samples_tcr_freq)"
   ]
  },
  {
   "cell_type": "code",
   "execution_count": 79,
   "metadata": {
    "vscode": {
     "languageId": "r"
    }
   },
   "outputs": [
    {
     "data": {
      "text/html": [
       "<style>\n",
       ".list-inline {list-style: none; margin:0; padding: 0}\n",
       ".list-inline>li {display: inline-block}\n",
       ".list-inline>li:not(:last-child)::after {content: \"\\00b7\"; padding: 0 .5ex}\n",
       "</style>\n",
       "<ol class=list-inline><li>'CMV'</li><li>'EBV'</li><li>'HCV'</li><li>'Influenza'</li><li>'HomoSapiens'</li><li>'MDavis'</li><li>'HPV'</li><li>'CEF'</li><li>'TB'</li><li>'MCPyV'</li><li>'SP'</li><li>'DENV'</li></ol>\n"
      ],
      "text/latex": [
       "\\begin{enumerate*}\n",
       "\\item 'CMV'\n",
       "\\item 'EBV'\n",
       "\\item 'HCV'\n",
       "\\item 'Influenza'\n",
       "\\item 'HomoSapiens'\n",
       "\\item 'MDavis'\n",
       "\\item 'HPV'\n",
       "\\item 'CEF'\n",
       "\\item 'TB'\n",
       "\\item 'MCPyV'\n",
       "\\item 'SP'\n",
       "\\item 'DENV'\n",
       "\\end{enumerate*}\n"
      ],
      "text/markdown": [
       "1. 'CMV'\n",
       "2. 'EBV'\n",
       "3. 'HCV'\n",
       "4. 'Influenza'\n",
       "5. 'HomoSapiens'\n",
       "6. 'MDavis'\n",
       "7. 'HPV'\n",
       "8. 'CEF'\n",
       "9. 'TB'\n",
       "10. 'MCPyV'\n",
       "11. 'SP'\n",
       "12. 'DENV'\n",
       "\n",
       "\n"
      ],
      "text/plain": [
       " [1] \"CMV\"         \"EBV\"         \"HCV\"         \"Influenza\"   \"HomoSapiens\"\n",
       " [6] \"MDavis\"      \"HPV\"         \"CEF\"         \"TB\"          \"MCPyV\"      \n",
       "[11] \"SP\"          \"DENV\"       "
      ]
     },
     "metadata": {},
     "output_type": "display_data"
    },
    {
     "data": {
      "text/html": [
       "<style>\n",
       ".list-inline {list-style: none; margin:0; padding: 0}\n",
       ".list-inline>li {display: inline-block}\n",
       ".list-inline>li:not(:last-child)::after {content: \"\\00b7\"; padding: 0 .5ex}\n",
       "</style>\n",
       "<ol class=list-inline><li>'CMV'</li><li>'EBV'</li><li>'HCV'</li><li>'Influenza'</li><li>'HomoSapiens'</li><li>'MDavis'</li><li>'HPV'</li><li>'CEF'</li><li>'TB'</li><li>'MCPyV'</li><li>'SP'</li><li>'DENV'</li><li>'n_cdr3'</li><li>'cdr3_reads'</li><li>'n_gliph'</li><li>'n_cdr3ingliph'</li><li>'cdr3reads_ingliph'</li><li>'study'</li></ol>\n"
      ],
      "text/latex": [
       "\\begin{enumerate*}\n",
       "\\item 'CMV'\n",
       "\\item 'EBV'\n",
       "\\item 'HCV'\n",
       "\\item 'Influenza'\n",
       "\\item 'HomoSapiens'\n",
       "\\item 'MDavis'\n",
       "\\item 'HPV'\n",
       "\\item 'CEF'\n",
       "\\item 'TB'\n",
       "\\item 'MCPyV'\n",
       "\\item 'SP'\n",
       "\\item 'DENV'\n",
       "\\item 'n\\_cdr3'\n",
       "\\item 'cdr3\\_reads'\n",
       "\\item 'n\\_gliph'\n",
       "\\item 'n\\_cdr3ingliph'\n",
       "\\item 'cdr3reads\\_ingliph'\n",
       "\\item 'study'\n",
       "\\end{enumerate*}\n"
      ],
      "text/markdown": [
       "1. 'CMV'\n",
       "2. 'EBV'\n",
       "3. 'HCV'\n",
       "4. 'Influenza'\n",
       "5. 'HomoSapiens'\n",
       "6. 'MDavis'\n",
       "7. 'HPV'\n",
       "8. 'CEF'\n",
       "9. 'TB'\n",
       "10. 'MCPyV'\n",
       "11. 'SP'\n",
       "12. 'DENV'\n",
       "13. 'n_cdr3'\n",
       "14. 'cdr3_reads'\n",
       "15. 'n_gliph'\n",
       "16. 'n_cdr3ingliph'\n",
       "17. 'cdr3reads_ingliph'\n",
       "18. 'study'\n",
       "\n",
       "\n"
      ],
      "text/plain": [
       " [1] \"CMV\"               \"EBV\"               \"HCV\"              \n",
       " [4] \"Influenza\"         \"HomoSapiens\"       \"MDavis\"           \n",
       " [7] \"HPV\"               \"CEF\"               \"TB\"               \n",
       "[10] \"MCPyV\"             \"SP\"                \"DENV\"             \n",
       "[13] \"n_cdr3\"            \"cdr3_reads\"        \"n_gliph\"          \n",
       "[16] \"n_cdr3ingliph\"     \"cdr3reads_ingliph\" \"study\"            "
      ]
     },
     "metadata": {},
     "output_type": "display_data"
    }
   ],
   "source": [
    "colnames(gliphdf_freq)\n",
    "colnames(samples_tcr_freq)"
   ]
  },
  {
   "cell_type": "code",
   "execution_count": 80,
   "metadata": {
    "vscode": {
     "languageId": "r"
    }
   },
   "outputs": [],
   "source": [
    "gliphout$sample_id <- gsub(\"_.*\", \"\", gliphout$Sample)"
   ]
  },
  {
   "cell_type": "code",
   "execution_count": 81,
   "metadata": {
    "vscode": {
     "languageId": "r"
    }
   },
   "outputs": [],
   "source": [
    "myantigens <- c('CMV','EBV','HCV','Influenza','HomoSapiens','MDavis','HPV','CEF','TB','MCPyV','SP','DENV')\n",
    "# count number of annotated gliph groups for each sample\n",
    "for (i in 1:nrow(samples_tcr_freq)) {\n",
    "    mysample <- gliphout[gliphout$sample_id == rownames(samples_tcr_freq)[i], ]\n",
    "    for (a in myantigens) {\n",
    "        tmp <- gliphout[gliphout$pattern %in% mysample$pattern, ] # subset to include patterns in my sample\n",
    "        antigen_gliphs <- tmp$pattern[grepl(a, tmp$subject)] # get antigen gliphs\n",
    "        samples_tcr_freq[i, a] <- sum(mysample$Freq[mysample$pattern %in% antigen_gliphs])\n",
    "    }\n",
    "}\n"
   ]
  },
  {
   "cell_type": "code",
   "execution_count": 82,
   "metadata": {
    "vscode": {
     "languageId": "r"
    }
   },
   "outputs": [
    {
     "data": {
      "text/html": [
       "<table class=\"dataframe\">\n",
       "<caption>A data.frame: 6 x 18</caption>\n",
       "<thead>\n",
       "\t<tr><th></th><th scope=col>CMV</th><th scope=col>EBV</th><th scope=col>HCV</th><th scope=col>Influenza</th><th scope=col>HomoSapiens</th><th scope=col>MDavis</th><th scope=col>HPV</th><th scope=col>CEF</th><th scope=col>TB</th><th scope=col>MCPyV</th><th scope=col>SP</th><th scope=col>DENV</th><th scope=col>n_cdr3</th><th scope=col>cdr3_reads</th><th scope=col>n_gliph</th><th scope=col>n_cdr3ingliph</th><th scope=col>cdr3reads_ingliph</th><th scope=col>study</th></tr>\n",
       "\t<tr><th></th><th scope=col>&lt;dbl&gt;</th><th scope=col>&lt;dbl&gt;</th><th scope=col>&lt;dbl&gt;</th><th scope=col>&lt;dbl&gt;</th><th scope=col>&lt;dbl&gt;</th><th scope=col>&lt;dbl&gt;</th><th scope=col>&lt;dbl&gt;</th><th scope=col>&lt;dbl&gt;</th><th scope=col>&lt;dbl&gt;</th><th scope=col>&lt;dbl&gt;</th><th scope=col>&lt;dbl&gt;</th><th scope=col>&lt;dbl&gt;</th><th scope=col>&lt;int&gt;</th><th scope=col>&lt;dbl&gt;</th><th scope=col>&lt;dbl&gt;</th><th scope=col>&lt;int&gt;</th><th scope=col>&lt;dbl&gt;</th><th scope=col>&lt;chr&gt;</th></tr>\n",
       "</thead>\n",
       "<tbody>\n",
       "\t<tr><th scope=row>Emerson:P00001</th><td>227</td><td>364</td><td>427</td><td>  0</td><td> 327</td><td>12546</td><td>465</td><td>0</td><td>0</td><td>100</td><td>0</td><td>0</td><td>314</td><td>30394</td><td>333</td><td>150</td><td>33353</td><td>Emerson_adult</td></tr>\n",
       "\t<tr><th scope=row>Emerson:P00002</th><td> 46</td><td> 18</td><td> 25</td><td>  0</td><td>  19</td><td>  894</td><td>  0</td><td>0</td><td>0</td><td>  0</td><td>0</td><td>0</td><td> 82</td><td> 1940</td><td> 73</td><td> 36</td><td> 1637</td><td>Emerson_adult</td></tr>\n",
       "\t<tr><th scope=row>Emerson:P00004</th><td>432</td><td>274</td><td>249</td><td>465</td><td>1146</td><td>39163</td><td> 70</td><td>0</td><td>0</td><td>226</td><td>0</td><td>0</td><td>504</td><td>48734</td><td>521</td><td>215</td><td>63165</td><td>Emerson_adult</td></tr>\n",
       "\t<tr><th scope=row>Emerson:P00005</th><td>102</td><td>  0</td><td> 23</td><td>  0</td><td>  21</td><td> 3000</td><td>  0</td><td>0</td><td>0</td><td> 67</td><td>0</td><td>0</td><td>205</td><td> 8595</td><td>193</td><td> 97</td><td> 6399</td><td>Emerson_adult</td></tr>\n",
       "\t<tr><th scope=row>Emerson:P00006</th><td>  0</td><td>  0</td><td>  0</td><td>  0</td><td>   0</td><td>    0</td><td>  0</td><td>0</td><td>0</td><td>  0</td><td>0</td><td>0</td><td>  3</td><td>  222</td><td>  1</td><td>  1</td><td>   68</td><td>Emerson_adult</td></tr>\n",
       "\t<tr><th scope=row>Emerson:P00008</th><td> 37</td><td> 82</td><td>127</td><td>  0</td><td> 277</td><td> 2974</td><td>  0</td><td>0</td><td>0</td><td>  0</td><td>0</td><td>0</td><td>252</td><td> 5723</td><td>276</td><td>117</td><td> 5759</td><td>Emerson_adult</td></tr>\n",
       "</tbody>\n",
       "</table>\n"
      ],
      "text/latex": [
       "A data.frame: 6 x 18\n",
       "\\begin{tabular}{r|llllllllllllllllll}\n",
       "  & CMV & EBV & HCV & Influenza & HomoSapiens & MDavis & HPV & CEF & TB & MCPyV & SP & DENV & n\\_cdr3 & cdr3\\_reads & n\\_gliph & n\\_cdr3ingliph & cdr3reads\\_ingliph & study\\\\\n",
       "  & <dbl> & <dbl> & <dbl> & <dbl> & <dbl> & <dbl> & <dbl> & <dbl> & <dbl> & <dbl> & <dbl> & <dbl> & <int> & <dbl> & <dbl> & <int> & <dbl> & <chr>\\\\\n",
       "\\hline\n",
       "\tEmerson:P00001 & 227 & 364 & 427 &   0 &  327 & 12546 & 465 & 0 & 0 & 100 & 0 & 0 & 314 & 30394 & 333 & 150 & 33353 & Emerson\\_adult\\\\\n",
       "\tEmerson:P00002 &  46 &  18 &  25 &   0 &   19 &   894 &   0 & 0 & 0 &   0 & 0 & 0 &  82 &  1940 &  73 &  36 &  1637 & Emerson\\_adult\\\\\n",
       "\tEmerson:P00004 & 432 & 274 & 249 & 465 & 1146 & 39163 &  70 & 0 & 0 & 226 & 0 & 0 & 504 & 48734 & 521 & 215 & 63165 & Emerson\\_adult\\\\\n",
       "\tEmerson:P00005 & 102 &   0 &  23 &   0 &   21 &  3000 &   0 & 0 & 0 &  67 & 0 & 0 & 205 &  8595 & 193 &  97 &  6399 & Emerson\\_adult\\\\\n",
       "\tEmerson:P00006 &   0 &   0 &   0 &   0 &    0 &     0 &   0 & 0 & 0 &   0 & 0 & 0 &   3 &   222 &   1 &   1 &    68 & Emerson\\_adult\\\\\n",
       "\tEmerson:P00008 &  37 &  82 & 127 &   0 &  277 &  2974 &   0 & 0 & 0 &   0 & 0 & 0 & 252 &  5723 & 276 & 117 &  5759 & Emerson\\_adult\\\\\n",
       "\\end{tabular}\n"
      ],
      "text/markdown": [
       "\n",
       "A data.frame: 6 x 18\n",
       "\n",
       "| <!--/--> | CMV &lt;dbl&gt; | EBV &lt;dbl&gt; | HCV &lt;dbl&gt; | Influenza &lt;dbl&gt; | HomoSapiens &lt;dbl&gt; | MDavis &lt;dbl&gt; | HPV &lt;dbl&gt; | CEF &lt;dbl&gt; | TB &lt;dbl&gt; | MCPyV &lt;dbl&gt; | SP &lt;dbl&gt; | DENV &lt;dbl&gt; | n_cdr3 &lt;int&gt; | cdr3_reads &lt;dbl&gt; | n_gliph &lt;dbl&gt; | n_cdr3ingliph &lt;int&gt; | cdr3reads_ingliph &lt;dbl&gt; | study &lt;chr&gt; |\n",
       "|---|---|---|---|---|---|---|---|---|---|---|---|---|---|---|---|---|---|---|\n",
       "| Emerson:P00001 | 227 | 364 | 427 |   0 |  327 | 12546 | 465 | 0 | 0 | 100 | 0 | 0 | 314 | 30394 | 333 | 150 | 33353 | Emerson_adult |\n",
       "| Emerson:P00002 |  46 |  18 |  25 |   0 |   19 |   894 |   0 | 0 | 0 |   0 | 0 | 0 |  82 |  1940 |  73 |  36 |  1637 | Emerson_adult |\n",
       "| Emerson:P00004 | 432 | 274 | 249 | 465 | 1146 | 39163 |  70 | 0 | 0 | 226 | 0 | 0 | 504 | 48734 | 521 | 215 | 63165 | Emerson_adult |\n",
       "| Emerson:P00005 | 102 |   0 |  23 |   0 |   21 |  3000 |   0 | 0 | 0 |  67 | 0 | 0 | 205 |  8595 | 193 |  97 |  6399 | Emerson_adult |\n",
       "| Emerson:P00006 |   0 |   0 |   0 |   0 |    0 |     0 |   0 | 0 | 0 |   0 | 0 | 0 |   3 |   222 |   1 |   1 |    68 | Emerson_adult |\n",
       "| Emerson:P00008 |  37 |  82 | 127 |   0 |  277 |  2974 |   0 | 0 | 0 |   0 | 0 | 0 | 252 |  5723 | 276 | 117 |  5759 | Emerson_adult |\n",
       "\n"
      ],
      "text/plain": [
       "               CMV EBV HCV Influenza HomoSapiens MDavis HPV CEF TB MCPyV SP\n",
       "Emerson:P00001 227 364 427   0        327        12546  465 0   0  100   0 \n",
       "Emerson:P00002  46  18  25   0         19          894    0 0   0    0   0 \n",
       "Emerson:P00004 432 274 249 465       1146        39163   70 0   0  226   0 \n",
       "Emerson:P00005 102   0  23   0         21         3000    0 0   0   67   0 \n",
       "Emerson:P00006   0   0   0   0          0            0    0 0   0    0   0 \n",
       "Emerson:P00008  37  82 127   0        277         2974    0 0   0    0   0 \n",
       "               DENV n_cdr3 cdr3_reads n_gliph n_cdr3ingliph cdr3reads_ingliph\n",
       "Emerson:P00001 0    314    30394      333     150           33353            \n",
       "Emerson:P00002 0     82     1940       73      36            1637            \n",
       "Emerson:P00004 0    504    48734      521     215           63165            \n",
       "Emerson:P00005 0    205     8595      193      97            6399            \n",
       "Emerson:P00006 0      3      222        1       1              68            \n",
       "Emerson:P00008 0    252     5723      276     117            5759            \n",
       "               study        \n",
       "Emerson:P00001 Emerson_adult\n",
       "Emerson:P00002 Emerson_adult\n",
       "Emerson:P00004 Emerson_adult\n",
       "Emerson:P00005 Emerson_adult\n",
       "Emerson:P00006 Emerson_adult\n",
       "Emerson:P00008 Emerson_adult"
      ]
     },
     "metadata": {},
     "output_type": "display_data"
    }
   ],
   "source": [
    "head(samples_tcr_freq)"
   ]
  },
  {
   "cell_type": "code",
   "execution_count": 83,
   "metadata": {
    "vscode": {
     "languageId": "r"
    }
   },
   "outputs": [],
   "source": [
    "# Replace NA values with 0 in columns\n",
    "columns_to_fill <- colnames(samples_tcr_freq)[1:12]\n",
    "\n",
    "samples_tcr_freq[columns_to_fill] <- lapply(samples_tcr_freq[columns_to_fill], function(x) ifelse(is.na(x), 0, x))\n"
   ]
  },
  {
   "cell_type": "code",
   "execution_count": 84,
   "metadata": {
    "vscode": {
     "languageId": "r"
    }
   },
   "outputs": [
    {
     "data": {
      "text/html": [
       "<table class=\"dataframe\">\n",
       "<caption>A data.frame: 6 x 13</caption>\n",
       "<thead>\n",
       "\t<tr><th></th><th scope=col>CMV</th><th scope=col>EBV</th><th scope=col>HCV</th><th scope=col>Influenza</th><th scope=col>HomoSapiens</th><th scope=col>MDavis</th><th scope=col>HPV</th><th scope=col>CEF</th><th scope=col>TB</th><th scope=col>MCPyV</th><th scope=col>SP</th><th scope=col>DENV</th><th scope=col>n_cdr3</th></tr>\n",
       "\t<tr><th></th><th scope=col>&lt;dbl&gt;</th><th scope=col>&lt;dbl&gt;</th><th scope=col>&lt;dbl&gt;</th><th scope=col>&lt;dbl&gt;</th><th scope=col>&lt;dbl&gt;</th><th scope=col>&lt;dbl&gt;</th><th scope=col>&lt;dbl&gt;</th><th scope=col>&lt;dbl&gt;</th><th scope=col>&lt;dbl&gt;</th><th scope=col>&lt;dbl&gt;</th><th scope=col>&lt;dbl&gt;</th><th scope=col>&lt;dbl&gt;</th><th scope=col>&lt;int&gt;</th></tr>\n",
       "</thead>\n",
       "<tbody>\n",
       "\t<tr><th scope=row>Emerson:P00001</th><td>227</td><td>364</td><td>427</td><td>  0</td><td> 327</td><td>12546</td><td>465</td><td>0</td><td>0</td><td>100</td><td>0</td><td>0</td><td>314</td></tr>\n",
       "\t<tr><th scope=row>Emerson:P00002</th><td> 46</td><td> 18</td><td> 25</td><td>  0</td><td>  19</td><td>  894</td><td>  0</td><td>0</td><td>0</td><td>  0</td><td>0</td><td>0</td><td> 82</td></tr>\n",
       "\t<tr><th scope=row>Emerson:P00004</th><td>432</td><td>274</td><td>249</td><td>465</td><td>1146</td><td>39163</td><td> 70</td><td>0</td><td>0</td><td>226</td><td>0</td><td>0</td><td>504</td></tr>\n",
       "\t<tr><th scope=row>Emerson:P00005</th><td>102</td><td>  0</td><td> 23</td><td>  0</td><td>  21</td><td> 3000</td><td>  0</td><td>0</td><td>0</td><td> 67</td><td>0</td><td>0</td><td>205</td></tr>\n",
       "\t<tr><th scope=row>Emerson:P00006</th><td>  0</td><td>  0</td><td>  0</td><td>  0</td><td>   0</td><td>    0</td><td>  0</td><td>0</td><td>0</td><td>  0</td><td>0</td><td>0</td><td>  3</td></tr>\n",
       "\t<tr><th scope=row>Emerson:P00008</th><td> 37</td><td> 82</td><td>127</td><td>  0</td><td> 277</td><td> 2974</td><td>  0</td><td>0</td><td>0</td><td>  0</td><td>0</td><td>0</td><td>252</td></tr>\n",
       "</tbody>\n",
       "</table>\n"
      ],
      "text/latex": [
       "A data.frame: 6 x 13\n",
       "\\begin{tabular}{r|lllllllllllll}\n",
       "  & CMV & EBV & HCV & Influenza & HomoSapiens & MDavis & HPV & CEF & TB & MCPyV & SP & DENV & n\\_cdr3\\\\\n",
       "  & <dbl> & <dbl> & <dbl> & <dbl> & <dbl> & <dbl> & <dbl> & <dbl> & <dbl> & <dbl> & <dbl> & <dbl> & <int>\\\\\n",
       "\\hline\n",
       "\tEmerson:P00001 & 227 & 364 & 427 &   0 &  327 & 12546 & 465 & 0 & 0 & 100 & 0 & 0 & 314\\\\\n",
       "\tEmerson:P00002 &  46 &  18 &  25 &   0 &   19 &   894 &   0 & 0 & 0 &   0 & 0 & 0 &  82\\\\\n",
       "\tEmerson:P00004 & 432 & 274 & 249 & 465 & 1146 & 39163 &  70 & 0 & 0 & 226 & 0 & 0 & 504\\\\\n",
       "\tEmerson:P00005 & 102 &   0 &  23 &   0 &   21 &  3000 &   0 & 0 & 0 &  67 & 0 & 0 & 205\\\\\n",
       "\tEmerson:P00006 &   0 &   0 &   0 &   0 &    0 &     0 &   0 & 0 & 0 &   0 & 0 & 0 &   3\\\\\n",
       "\tEmerson:P00008 &  37 &  82 & 127 &   0 &  277 &  2974 &   0 & 0 & 0 &   0 & 0 & 0 & 252\\\\\n",
       "\\end{tabular}\n"
      ],
      "text/markdown": [
       "\n",
       "A data.frame: 6 x 13\n",
       "\n",
       "| <!--/--> | CMV &lt;dbl&gt; | EBV &lt;dbl&gt; | HCV &lt;dbl&gt; | Influenza &lt;dbl&gt; | HomoSapiens &lt;dbl&gt; | MDavis &lt;dbl&gt; | HPV &lt;dbl&gt; | CEF &lt;dbl&gt; | TB &lt;dbl&gt; | MCPyV &lt;dbl&gt; | SP &lt;dbl&gt; | DENV &lt;dbl&gt; | n_cdr3 &lt;int&gt; |\n",
       "|---|---|---|---|---|---|---|---|---|---|---|---|---|---|\n",
       "| Emerson:P00001 | 227 | 364 | 427 |   0 |  327 | 12546 | 465 | 0 | 0 | 100 | 0 | 0 | 314 |\n",
       "| Emerson:P00002 |  46 |  18 |  25 |   0 |   19 |   894 |   0 | 0 | 0 |   0 | 0 | 0 |  82 |\n",
       "| Emerson:P00004 | 432 | 274 | 249 | 465 | 1146 | 39163 |  70 | 0 | 0 | 226 | 0 | 0 | 504 |\n",
       "| Emerson:P00005 | 102 |   0 |  23 |   0 |   21 |  3000 |   0 | 0 | 0 |  67 | 0 | 0 | 205 |\n",
       "| Emerson:P00006 |   0 |   0 |   0 |   0 |    0 |     0 |   0 | 0 | 0 |   0 | 0 | 0 |   3 |\n",
       "| Emerson:P00008 |  37 |  82 | 127 |   0 |  277 |  2974 |   0 | 0 | 0 |   0 | 0 | 0 | 252 |\n",
       "\n"
      ],
      "text/plain": [
       "               CMV EBV HCV Influenza HomoSapiens MDavis HPV CEF TB MCPyV SP\n",
       "Emerson:P00001 227 364 427   0        327        12546  465 0   0  100   0 \n",
       "Emerson:P00002  46  18  25   0         19          894    0 0   0    0   0 \n",
       "Emerson:P00004 432 274 249 465       1146        39163   70 0   0  226   0 \n",
       "Emerson:P00005 102   0  23   0         21         3000    0 0   0   67   0 \n",
       "Emerson:P00006   0   0   0   0          0            0    0 0   0    0   0 \n",
       "Emerson:P00008  37  82 127   0        277         2974    0 0   0    0   0 \n",
       "               DENV n_cdr3\n",
       "Emerson:P00001 0    314   \n",
       "Emerson:P00002 0     82   \n",
       "Emerson:P00004 0    504   \n",
       "Emerson:P00005 0    205   \n",
       "Emerson:P00006 0      3   \n",
       "Emerson:P00008 0    252   "
      ]
     },
     "metadata": {},
     "output_type": "display_data"
    }
   ],
   "source": [
    "head(samples_tcr_freq[,1:13])"
   ]
  },
  {
   "cell_type": "code",
   "execution_count": 85,
   "metadata": {
    "vscode": {
     "languageId": "r"
    }
   },
   "outputs": [
    {
     "data": {
      "text/plain": [
       "\n",
       "Emerson_adult \n",
       "          253 "
      ]
     },
     "metadata": {},
     "output_type": "display_data"
    }
   ],
   "source": [
    "table(samples_tcr_freq$study)"
   ]
  },
  {
   "cell_type": "code",
   "execution_count": 86,
   "metadata": {
    "vscode": {
     "languageId": "r"
    }
   },
   "outputs": [],
   "source": [
    "readr::write_rds(samples_tcr_freq, file = paste0(datapath, \"GLIPH/emerson_adult_samples_gliphannot_freq_stat.rds\"))\n",
    "readr::write_rds(gliphdf_freq, file = paste0(datapath, \"GLIPH/emerson_adult_gliphannot_freq_stat.rds\"))"
   ]
  },
  {
   "cell_type": "code",
   "execution_count": 95,
   "metadata": {
    "vscode": {
     "languageId": "r"
    }
   },
   "outputs": [
    {
     "data": {
      "text/html": [
       "<table class=\"dataframe\">\n",
       "<caption>A data.frame: 1 x 12</caption>\n",
       "<thead>\n",
       "\t<tr><th></th><th scope=col>CMV</th><th scope=col>EBV</th><th scope=col>HCV</th><th scope=col>Influenza</th><th scope=col>HomoSapiens</th><th scope=col>MDavis</th><th scope=col>HPV</th><th scope=col>CEF</th><th scope=col>TB</th><th scope=col>MCPyV</th><th scope=col>SP</th><th scope=col>DENV</th></tr>\n",
       "\t<tr><th></th><th scope=col>&lt;dbl&gt;</th><th scope=col>&lt;dbl&gt;</th><th scope=col>&lt;dbl&gt;</th><th scope=col>&lt;dbl&gt;</th><th scope=col>&lt;dbl&gt;</th><th scope=col>&lt;dbl&gt;</th><th scope=col>&lt;dbl&gt;</th><th scope=col>&lt;dbl&gt;</th><th scope=col>&lt;dbl&gt;</th><th scope=col>&lt;dbl&gt;</th><th scope=col>&lt;dbl&gt;</th><th scope=col>&lt;dbl&gt;</th></tr>\n",
       "</thead>\n",
       "<tbody>\n",
       "\t<tr><th scope=row>STG%YG</th><td>115</td><td>0</td><td>0</td><td>115</td><td>0</td><td>115</td><td>0</td><td>0</td><td>0</td><td>0</td><td>0</td><td>0</td></tr>\n",
       "</tbody>\n",
       "</table>\n"
      ],
      "text/latex": [
       "A data.frame: 1 x 12\n",
       "\\begin{tabular}{r|llllllllllll}\n",
       "  & CMV & EBV & HCV & Influenza & HomoSapiens & MDavis & HPV & CEF & TB & MCPyV & SP & DENV\\\\\n",
       "  & <dbl> & <dbl> & <dbl> & <dbl> & <dbl> & <dbl> & <dbl> & <dbl> & <dbl> & <dbl> & <dbl> & <dbl>\\\\\n",
       "\\hline\n",
       "\tSTG\\%YG & 115 & 0 & 0 & 115 & 0 & 115 & 0 & 0 & 0 & 0 & 0 & 0\\\\\n",
       "\\end{tabular}\n"
      ],
      "text/markdown": [
       "\n",
       "A data.frame: 1 x 12\n",
       "\n",
       "| <!--/--> | CMV &lt;dbl&gt; | EBV &lt;dbl&gt; | HCV &lt;dbl&gt; | Influenza &lt;dbl&gt; | HomoSapiens &lt;dbl&gt; | MDavis &lt;dbl&gt; | HPV &lt;dbl&gt; | CEF &lt;dbl&gt; | TB &lt;dbl&gt; | MCPyV &lt;dbl&gt; | SP &lt;dbl&gt; | DENV &lt;dbl&gt; |\n",
       "|---|---|---|---|---|---|---|---|---|---|---|---|---|\n",
       "| STG%YG | 115 | 0 | 0 | 115 | 0 | 115 | 0 | 0 | 0 | 0 | 0 | 0 |\n",
       "\n"
      ],
      "text/plain": [
       "       CMV EBV HCV Influenza HomoSapiens MDavis HPV CEF TB MCPyV SP DENV\n",
       "STG%YG 115 0   0   115       0           115    0   0   0  0     0  0   "
      ]
     },
     "metadata": {},
     "output_type": "display_data"
    }
   ],
   "source": [
    "(gliphdf_freq[\"STG%YG\",])"
   ]
  },
  {
   "cell_type": "code",
   "execution_count": 96,
   "metadata": {
    "vscode": {
     "languageId": "r"
    }
   },
   "outputs": [
    {
     "data": {
      "text/plain": [
       "\n",
       "      CMV   Emerson Influenza    MDavis \n",
       "        1         3         2         6 "
      ]
     },
     "metadata": {},
     "output_type": "display_data"
    },
    {
     "data": {
      "text/html": [
       "115"
      ],
      "text/latex": [
       "115"
      ],
      "text/markdown": [
       "115"
      ],
      "text/plain": [
       "[1] 115"
      ]
     },
     "metadata": {},
     "output_type": "display_data"
    },
    {
     "data": {
      "text/html": [
       "124"
      ],
      "text/latex": [
       "124"
      ],
      "text/markdown": [
       "124"
      ],
      "text/plain": [
       "[1] 124"
      ]
     },
     "metadata": {},
     "output_type": "display_data"
    }
   ],
   "source": [
    "# sanity check\n",
    "table(gliphout_emerson$subject[gliphout_emerson$pattern == \"STG%YG\"])\n",
    "emerson <- gliphout_emerson$Sample[grepl(\"Emerson\", gliphout_emerson$Sample)]\n",
    "sum(gliphout_emerson$Freq[gliphout_emerson$pattern == \"STG%YG\" & gliphout_emerson$Sample %in% emerson])\n",
    "sum(gliphout_emerson$Freq[gliphout_emerson$pattern == \"STG%YG\"])"
   ]
  },
  {
   "cell_type": "code",
   "execution_count": 97,
   "metadata": {
    "vscode": {
     "languageId": "r"
    }
   },
   "outputs": [
    {
     "data": {
      "text/html": [
       "<table class=\"dataframe\">\n",
       "<caption>A data.frame: 6 x 18</caption>\n",
       "<thead>\n",
       "\t<tr><th></th><th scope=col>CMV</th><th scope=col>EBV</th><th scope=col>HCV</th><th scope=col>Influenza</th><th scope=col>HomoSapiens</th><th scope=col>MDavis</th><th scope=col>HPV</th><th scope=col>CEF</th><th scope=col>TB</th><th scope=col>MCPyV</th><th scope=col>SP</th><th scope=col>DENV</th><th scope=col>n_cdr3</th><th scope=col>cdr3_reads</th><th scope=col>n_gliph</th><th scope=col>n_cdr3ingliph</th><th scope=col>cdr3reads_ingliph</th><th scope=col>study</th></tr>\n",
       "\t<tr><th></th><th scope=col>&lt;dbl&gt;</th><th scope=col>&lt;dbl&gt;</th><th scope=col>&lt;dbl&gt;</th><th scope=col>&lt;dbl&gt;</th><th scope=col>&lt;dbl&gt;</th><th scope=col>&lt;dbl&gt;</th><th scope=col>&lt;dbl&gt;</th><th scope=col>&lt;dbl&gt;</th><th scope=col>&lt;dbl&gt;</th><th scope=col>&lt;dbl&gt;</th><th scope=col>&lt;dbl&gt;</th><th scope=col>&lt;dbl&gt;</th><th scope=col>&lt;int&gt;</th><th scope=col>&lt;dbl&gt;</th><th scope=col>&lt;dbl&gt;</th><th scope=col>&lt;int&gt;</th><th scope=col>&lt;dbl&gt;</th><th scope=col>&lt;chr&gt;</th></tr>\n",
       "</thead>\n",
       "<tbody>\n",
       "\t<tr><th scope=row>Emerson:P00001</th><td>227</td><td>364</td><td>427</td><td>  0</td><td> 327</td><td>12546</td><td>465</td><td>0</td><td>0</td><td>100</td><td>0</td><td>0</td><td>314</td><td>30394</td><td>333</td><td>150</td><td>33353</td><td>Emerson_adult</td></tr>\n",
       "\t<tr><th scope=row>Emerson:P00002</th><td> 46</td><td> 18</td><td> 25</td><td>  0</td><td>  19</td><td>  894</td><td>  0</td><td>0</td><td>0</td><td>  0</td><td>0</td><td>0</td><td> 82</td><td> 1940</td><td> 73</td><td> 36</td><td> 1637</td><td>Emerson_adult</td></tr>\n",
       "\t<tr><th scope=row>Emerson:P00004</th><td>432</td><td>274</td><td>249</td><td>465</td><td>1146</td><td>39163</td><td> 70</td><td>0</td><td>0</td><td>226</td><td>0</td><td>0</td><td>504</td><td>48734</td><td>521</td><td>215</td><td>63165</td><td>Emerson_adult</td></tr>\n",
       "\t<tr><th scope=row>Emerson:P00005</th><td>102</td><td>  0</td><td> 23</td><td>  0</td><td>  21</td><td> 3000</td><td>  0</td><td>0</td><td>0</td><td> 67</td><td>0</td><td>0</td><td>205</td><td> 8595</td><td>193</td><td> 97</td><td> 6399</td><td>Emerson_adult</td></tr>\n",
       "\t<tr><th scope=row>Emerson:P00006</th><td>  0</td><td>  0</td><td>  0</td><td>  0</td><td>   0</td><td>    0</td><td>  0</td><td>0</td><td>0</td><td>  0</td><td>0</td><td>0</td><td>  3</td><td>  222</td><td>  1</td><td>  1</td><td>   68</td><td>Emerson_adult</td></tr>\n",
       "\t<tr><th scope=row>Emerson:P00008</th><td> 37</td><td> 82</td><td>127</td><td>  0</td><td> 277</td><td> 2974</td><td>  0</td><td>0</td><td>0</td><td>  0</td><td>0</td><td>0</td><td>252</td><td> 5723</td><td>276</td><td>117</td><td> 5759</td><td>Emerson_adult</td></tr>\n",
       "</tbody>\n",
       "</table>\n"
      ],
      "text/latex": [
       "A data.frame: 6 x 18\n",
       "\\begin{tabular}{r|llllllllllllllllll}\n",
       "  & CMV & EBV & HCV & Influenza & HomoSapiens & MDavis & HPV & CEF & TB & MCPyV & SP & DENV & n\\_cdr3 & cdr3\\_reads & n\\_gliph & n\\_cdr3ingliph & cdr3reads\\_ingliph & study\\\\\n",
       "  & <dbl> & <dbl> & <dbl> & <dbl> & <dbl> & <dbl> & <dbl> & <dbl> & <dbl> & <dbl> & <dbl> & <dbl> & <int> & <dbl> & <dbl> & <int> & <dbl> & <chr>\\\\\n",
       "\\hline\n",
       "\tEmerson:P00001 & 227 & 364 & 427 &   0 &  327 & 12546 & 465 & 0 & 0 & 100 & 0 & 0 & 314 & 30394 & 333 & 150 & 33353 & Emerson\\_adult\\\\\n",
       "\tEmerson:P00002 &  46 &  18 &  25 &   0 &   19 &   894 &   0 & 0 & 0 &   0 & 0 & 0 &  82 &  1940 &  73 &  36 &  1637 & Emerson\\_adult\\\\\n",
       "\tEmerson:P00004 & 432 & 274 & 249 & 465 & 1146 & 39163 &  70 & 0 & 0 & 226 & 0 & 0 & 504 & 48734 & 521 & 215 & 63165 & Emerson\\_adult\\\\\n",
       "\tEmerson:P00005 & 102 &   0 &  23 &   0 &   21 &  3000 &   0 & 0 & 0 &  67 & 0 & 0 & 205 &  8595 & 193 &  97 &  6399 & Emerson\\_adult\\\\\n",
       "\tEmerson:P00006 &   0 &   0 &   0 &   0 &    0 &     0 &   0 & 0 & 0 &   0 & 0 & 0 &   3 &   222 &   1 &   1 &    68 & Emerson\\_adult\\\\\n",
       "\tEmerson:P00008 &  37 &  82 & 127 &   0 &  277 &  2974 &   0 & 0 & 0 &   0 & 0 & 0 & 252 &  5723 & 276 & 117 &  5759 & Emerson\\_adult\\\\\n",
       "\\end{tabular}\n"
      ],
      "text/markdown": [
       "\n",
       "A data.frame: 6 x 18\n",
       "\n",
       "| <!--/--> | CMV &lt;dbl&gt; | EBV &lt;dbl&gt; | HCV &lt;dbl&gt; | Influenza &lt;dbl&gt; | HomoSapiens &lt;dbl&gt; | MDavis &lt;dbl&gt; | HPV &lt;dbl&gt; | CEF &lt;dbl&gt; | TB &lt;dbl&gt; | MCPyV &lt;dbl&gt; | SP &lt;dbl&gt; | DENV &lt;dbl&gt; | n_cdr3 &lt;int&gt; | cdr3_reads &lt;dbl&gt; | n_gliph &lt;dbl&gt; | n_cdr3ingliph &lt;int&gt; | cdr3reads_ingliph &lt;dbl&gt; | study &lt;chr&gt; |\n",
       "|---|---|---|---|---|---|---|---|---|---|---|---|---|---|---|---|---|---|---|\n",
       "| Emerson:P00001 | 227 | 364 | 427 |   0 |  327 | 12546 | 465 | 0 | 0 | 100 | 0 | 0 | 314 | 30394 | 333 | 150 | 33353 | Emerson_adult |\n",
       "| Emerson:P00002 |  46 |  18 |  25 |   0 |   19 |   894 |   0 | 0 | 0 |   0 | 0 | 0 |  82 |  1940 |  73 |  36 |  1637 | Emerson_adult |\n",
       "| Emerson:P00004 | 432 | 274 | 249 | 465 | 1146 | 39163 |  70 | 0 | 0 | 226 | 0 | 0 | 504 | 48734 | 521 | 215 | 63165 | Emerson_adult |\n",
       "| Emerson:P00005 | 102 |   0 |  23 |   0 |   21 |  3000 |   0 | 0 | 0 |  67 | 0 | 0 | 205 |  8595 | 193 |  97 |  6399 | Emerson_adult |\n",
       "| Emerson:P00006 |   0 |   0 |   0 |   0 |    0 |     0 |   0 | 0 | 0 |   0 | 0 | 0 |   3 |   222 |   1 |   1 |    68 | Emerson_adult |\n",
       "| Emerson:P00008 |  37 |  82 | 127 |   0 |  277 |  2974 |   0 | 0 | 0 |   0 | 0 | 0 | 252 |  5723 | 276 | 117 |  5759 | Emerson_adult |\n",
       "\n"
      ],
      "text/plain": [
       "               CMV EBV HCV Influenza HomoSapiens MDavis HPV CEF TB MCPyV SP\n",
       "Emerson:P00001 227 364 427   0        327        12546  465 0   0  100   0 \n",
       "Emerson:P00002  46  18  25   0         19          894    0 0   0    0   0 \n",
       "Emerson:P00004 432 274 249 465       1146        39163   70 0   0  226   0 \n",
       "Emerson:P00005 102   0  23   0         21         3000    0 0   0   67   0 \n",
       "Emerson:P00006   0   0   0   0          0            0    0 0   0    0   0 \n",
       "Emerson:P00008  37  82 127   0        277         2974    0 0   0    0   0 \n",
       "               DENV n_cdr3 cdr3_reads n_gliph n_cdr3ingliph cdr3reads_ingliph\n",
       "Emerson:P00001 0    314    30394      333     150           33353            \n",
       "Emerson:P00002 0     82     1940       73      36            1637            \n",
       "Emerson:P00004 0    504    48734      521     215           63165            \n",
       "Emerson:P00005 0    205     8595      193      97            6399            \n",
       "Emerson:P00006 0      3      222        1       1              68            \n",
       "Emerson:P00008 0    252     5723      276     117            5759            \n",
       "               study        \n",
       "Emerson:P00001 Emerson_adult\n",
       "Emerson:P00002 Emerson_adult\n",
       "Emerson:P00004 Emerson_adult\n",
       "Emerson:P00005 Emerson_adult\n",
       "Emerson:P00006 Emerson_adult\n",
       "Emerson:P00008 Emerson_adult"
      ]
     },
     "metadata": {},
     "output_type": "display_data"
    }
   ],
   "source": [
    "head(samples_tcr_freq)"
   ]
  },
  {
   "cell_type": "code",
   "execution_count": 99,
   "metadata": {
    "vscode": {
     "languageId": "r"
    }
   },
   "outputs": [
    {
     "data": {
      "text/html": [
       "127"
      ],
      "text/latex": [
       "127"
      ],
      "text/markdown": [
       "127"
      ],
      "text/plain": [
       "[1] 127"
      ]
     },
     "metadata": {},
     "output_type": "display_data"
    }
   ],
   "source": [
    "# sanity check\n",
    "mysample <- gliphout_emerson[gliphout_emerson$Sample == \"Emerson:P00008\", ]\n",
    "tmp <- gliphout_emerson[gliphout_emerson$pattern %in% mysample$pattern, ] \n",
    "antigen_gliphs <- tmp$pattern[grepl(\"HCV\", tmp$subject)]\n",
    "sum(mysample$Freq[mysample$pattern %in% antigen_gliphs])"
   ]
  },
  {
   "cell_type": "code",
   "execution_count": 103,
   "metadata": {
    "vscode": {
     "languageId": "r"
    }
   },
   "outputs": [],
   "source": [
    "# rm(gliphin_emerson)"
   ]
  },
  {
   "cell_type": "markdown",
   "metadata": {},
   "source": [
    "### Emerson child"
   ]
  },
  {
   "cell_type": "code",
   "execution_count": 104,
   "metadata": {
    "vscode": {
     "languageId": "r"
    }
   },
   "outputs": [],
   "source": [
    "gliphout_emerson <- read.table(paste0(h4hpath, \"v9_emerson_child/gliph_output/int_vdj_v9_emerson_child_cluster.csv\"), sep = \",\", header = T)"
   ]
  },
  {
   "cell_type": "code",
   "execution_count": 105,
   "metadata": {
    "vscode": {
     "languageId": "r"
    }
   },
   "outputs": [],
   "source": [
    "gliphin_emerson <- readr::read_rds(paste0(h4hpath, \"v9_emerson_child/gliph_input/int_vdj_gliphinput_v9_emerson_child.RDS\"))"
   ]
  },
  {
   "cell_type": "code",
   "execution_count": 106,
   "metadata": {
    "vscode": {
     "languageId": "r"
    }
   },
   "outputs": [],
   "source": [
    "# remove columns starting with HLA\n",
    "gliphout_emerson <- gliphout_emerson[,!grepl(\"HLA\", colnames(gliphout_emerson))]\n",
    "# no single\n",
    "gliphout_emerson <- gliphout_emerson[ gliphout_emerson$pattern != \"single\",]"
   ]
  },
  {
   "cell_type": "code",
   "execution_count": 107,
   "metadata": {
    "vscode": {
     "languageId": "r"
    }
   },
   "outputs": [
    {
     "data": {
      "text/html": [
       "<style>\n",
       ".list-inline {list-style: none; margin:0; padding: 0}\n",
       ".list-inline>li {display: inline-block}\n",
       ".list-inline>li:not(:last-child)::after {content: \"\\00b7\"; padding: 0 .5ex}\n",
       "</style>\n",
       "<ol class=list-inline><li>44157</li><li>18</li></ol>\n"
      ],
      "text/latex": [
       "\\begin{enumerate*}\n",
       "\\item 44157\n",
       "\\item 18\n",
       "\\end{enumerate*}\n"
      ],
      "text/markdown": [
       "1. 44157\n",
       "2. 18\n",
       "\n",
       "\n"
      ],
      "text/plain": [
       "[1] 44157    18"
      ]
     },
     "metadata": {},
     "output_type": "display_data"
    }
   ],
   "source": [
    "dim(gliphout_emerson)"
   ]
  },
  {
   "cell_type": "code",
   "execution_count": 108,
   "metadata": {
    "vscode": {
     "languageId": "r"
    }
   },
   "outputs": [],
   "source": [
    "gliphout_emerson$subject <- gsub(\":.*\", \"\", gliphout_emerson$Sample)"
   ]
  },
  {
   "cell_type": "code",
   "execution_count": 109,
   "metadata": {
    "vscode": {
     "languageId": "r"
    }
   },
   "outputs": [],
   "source": [
    "readr::write_rds(gliphout_emerson, file = paste0(datapath, \"GLIPH/emerson_child_cleaned.rds\"))"
   ]
  },
  {
   "cell_type": "markdown",
   "metadata": {},
   "source": [
    "Create a gliph dataframe"
   ]
  },
  {
   "cell_type": "code",
   "execution_count": 110,
   "metadata": {
    "vscode": {
     "languageId": "r"
    }
   },
   "outputs": [],
   "source": [
    "gliphdf <- data.frame(gliph = unique(gliphout_emerson$pattern))\n",
    "rownames(gliphdf) <- gliphdf$gliph"
   ]
  },
  {
   "cell_type": "code",
   "execution_count": 111,
   "metadata": {
    "vscode": {
     "languageId": "r"
    }
   },
   "outputs": [
    {
     "data": {
      "text/html": [
       "<table class=\"dataframe\">\n",
       "<caption>A data.frame: 6 x 1</caption>\n",
       "<thead>\n",
       "\t<tr><th></th><th scope=col>gliph</th></tr>\n",
       "\t<tr><th></th><th scope=col>&lt;chr&gt;</th></tr>\n",
       "</thead>\n",
       "<tbody>\n",
       "\t<tr><th scope=row>SLG%E</th><td>SLG%E  </td></tr>\n",
       "\t<tr><th scope=row>S%GSGE</th><td>S%GSGE </td></tr>\n",
       "\t<tr><th scope=row>SLQG%E</th><td>SLQG%E </td></tr>\n",
       "\t<tr><th scope=row>S%SGANV</th><td>S%SGANV</td></tr>\n",
       "\t<tr><th scope=row>S%GGNTE</th><td>S%GGNTE</td></tr>\n",
       "\t<tr><th scope=row>S%TGNTE</th><td>S%TGNTE</td></tr>\n",
       "</tbody>\n",
       "</table>\n"
      ],
      "text/latex": [
       "A data.frame: 6 x 1\n",
       "\\begin{tabular}{r|l}\n",
       "  & gliph\\\\\n",
       "  & <chr>\\\\\n",
       "\\hline\n",
       "\tSLG\\%E & SLG\\%E  \\\\\n",
       "\tS\\%GSGE & S\\%GSGE \\\\\n",
       "\tSLQG\\%E & SLQG\\%E \\\\\n",
       "\tS\\%SGANV & S\\%SGANV\\\\\n",
       "\tS\\%GGNTE & S\\%GGNTE\\\\\n",
       "\tS\\%TGNTE & S\\%TGNTE\\\\\n",
       "\\end{tabular}\n"
      ],
      "text/markdown": [
       "\n",
       "A data.frame: 6 x 1\n",
       "\n",
       "| <!--/--> | gliph &lt;chr&gt; |\n",
       "|---|---|\n",
       "| SLG%E | SLG%E   |\n",
       "| S%GSGE | S%GSGE  |\n",
       "| SLQG%E | SLQG%E  |\n",
       "| S%SGANV | S%SGANV |\n",
       "| S%GGNTE | S%GGNTE |\n",
       "| S%TGNTE | S%TGNTE |\n",
       "\n"
      ],
      "text/plain": [
       "        gliph  \n",
       "SLG%E   SLG%E  \n",
       "S%GSGE  S%GSGE \n",
       "SLQG%E  SLQG%E \n",
       "S%SGANV S%SGANV\n",
       "S%GGNTE S%GGNTE\n",
       "S%TGNTE S%TGNTE"
      ]
     },
     "metadata": {},
     "output_type": "display_data"
    }
   ],
   "source": [
    "head(gliphdf)"
   ]
  },
  {
   "cell_type": "code",
   "execution_count": 112,
   "metadata": {
    "vscode": {
     "languageId": "r"
    }
   },
   "outputs": [
    {
     "data": {
      "text/html": [
       "<table class=\"dataframe\">\n",
       "<caption>A data.frame: 6 x 2</caption>\n",
       "<thead>\n",
       "\t<tr><th></th><th scope=col>subject</th><th scope=col>Sample</th></tr>\n",
       "\t<tr><th></th><th scope=col>&lt;chr&gt;</th><th scope=col>&lt;chr&gt;</th></tr>\n",
       "</thead>\n",
       "<tbody>\n",
       "\t<tr><th scope=row>1</th><td>MDavis </td><td>MDavis:DRB10401         </td></tr>\n",
       "\t<tr><th scope=row>2</th><td>MDavis </td><td>MDavis:DRB10401         </td></tr>\n",
       "\t<tr><th scope=row>3</th><td>MDavis </td><td>MDavis:DRB10401_DRB11101</td></tr>\n",
       "\t<tr><th scope=row>4</th><td>MDavis </td><td>MDavis:DRB10401         </td></tr>\n",
       "\t<tr><th scope=row>5</th><td>MDavis </td><td>MDavis:DRB10401         </td></tr>\n",
       "\t<tr><th scope=row>6</th><td>Emerson</td><td>Emerson:P00378_2501     </td></tr>\n",
       "</tbody>\n",
       "</table>\n"
      ],
      "text/latex": [
       "A data.frame: 6 x 2\n",
       "\\begin{tabular}{r|ll}\n",
       "  & subject & Sample\\\\\n",
       "  & <chr> & <chr>\\\\\n",
       "\\hline\n",
       "\t1 & MDavis  & MDavis:DRB10401         \\\\\n",
       "\t2 & MDavis  & MDavis:DRB10401         \\\\\n",
       "\t3 & MDavis  & MDavis:DRB10401\\_DRB11101\\\\\n",
       "\t4 & MDavis  & MDavis:DRB10401         \\\\\n",
       "\t5 & MDavis  & MDavis:DRB10401         \\\\\n",
       "\t6 & Emerson & Emerson:P00378\\_2501     \\\\\n",
       "\\end{tabular}\n"
      ],
      "text/markdown": [
       "\n",
       "A data.frame: 6 x 2\n",
       "\n",
       "| <!--/--> | subject &lt;chr&gt; | Sample &lt;chr&gt; |\n",
       "|---|---|---|\n",
       "| 1 | MDavis  | MDavis:DRB10401          |\n",
       "| 2 | MDavis  | MDavis:DRB10401          |\n",
       "| 3 | MDavis  | MDavis:DRB10401_DRB11101 |\n",
       "| 4 | MDavis  | MDavis:DRB10401          |\n",
       "| 5 | MDavis  | MDavis:DRB10401          |\n",
       "| 6 | Emerson | Emerson:P00378_2501      |\n",
       "\n"
      ],
      "text/plain": [
       "  subject Sample                  \n",
       "1 MDavis  MDavis:DRB10401         \n",
       "2 MDavis  MDavis:DRB10401         \n",
       "3 MDavis  MDavis:DRB10401_DRB11101\n",
       "4 MDavis  MDavis:DRB10401         \n",
       "5 MDavis  MDavis:DRB10401         \n",
       "6 Emerson Emerson:P00378_2501     "
      ]
     },
     "metadata": {},
     "output_type": "display_data"
    }
   ],
   "source": [
    "head(gliphout_emerson[, c(\"subject\", \"Sample\")])"
   ]
  },
  {
   "cell_type": "code",
   "execution_count": 113,
   "metadata": {
    "vscode": {
     "languageId": "r"
    }
   },
   "outputs": [
    {
     "data": {
      "text/html": [
       "<style>\n",
       ".list-inline {list-style: none; margin:0; padding: 0}\n",
       ".list-inline>li {display: inline-block}\n",
       ".list-inline>li:not(:last-child)::after {content: \"\\00b7\"; padding: 0 .5ex}\n",
       "</style>\n",
       "<ol class=list-inline><li>'CEF'</li><li>'CMV'</li><li>'EBV'</li><li>'HCV'</li><li>'HPV'</li><li>'HomoSapiens'</li><li>'Influenza'</li><li>'M.tuberculosis'</li><li>'MCPyV'</li><li>'MDavis'</li><li>'S-pneumoniae'</li></ol>\n"
      ],
      "text/latex": [
       "\\begin{enumerate*}\n",
       "\\item 'CEF'\n",
       "\\item 'CMV'\n",
       "\\item 'EBV'\n",
       "\\item 'HCV'\n",
       "\\item 'HPV'\n",
       "\\item 'HomoSapiens'\n",
       "\\item 'Influenza'\n",
       "\\item 'M.tuberculosis'\n",
       "\\item 'MCPyV'\n",
       "\\item 'MDavis'\n",
       "\\item 'S-pneumoniae'\n",
       "\\end{enumerate*}\n"
      ],
      "text/markdown": [
       "1. 'CEF'\n",
       "2. 'CMV'\n",
       "3. 'EBV'\n",
       "4. 'HCV'\n",
       "5. 'HPV'\n",
       "6. 'HomoSapiens'\n",
       "7. 'Influenza'\n",
       "8. 'M.tuberculosis'\n",
       "9. 'MCPyV'\n",
       "10. 'MDavis'\n",
       "11. 'S-pneumoniae'\n",
       "\n",
       "\n"
      ],
      "text/plain": [
       " [1] \"CEF\"            \"CMV\"            \"EBV\"            \"HCV\"           \n",
       " [5] \"HPV\"            \"HomoSapiens\"    \"Influenza\"      \"M.tuberculosis\"\n",
       " [9] \"MCPyV\"          \"MDavis\"         \"S-pneumoniae\"  "
      ]
     },
     "metadata": {},
     "output_type": "display_data"
    }
   ],
   "source": [
    "names(table(gliphout_emerson$subject[!grepl(\"Emerson\", gliphout_emerson$Sample)]))"
   ]
  },
  {
   "cell_type": "code",
   "execution_count": 114,
   "metadata": {
    "vscode": {
     "languageId": "r"
    }
   },
   "outputs": [],
   "source": [
    "for(i in 1:nrow(gliphdf)){\n",
    "\n",
    "mygliph <- gliphout_emerson[gliphout_emerson$pattern == gliphdf$gliph[i],]\n",
    "# add gliphdf$CMV, if mygliph$subject ciontains CMV\n",
    "gliphdf$CMV[i] <- ifelse(sum(grepl(\"CMV\", mygliph$subject)) > 0, sum(grepl(\"CMV\", mygliph$subject)), 0)\n",
    "gliphdf$EBV[i] <- ifelse(sum(grepl(\"EBV\", mygliph$subject)) > 0, sum(grepl(\"EBV\", mygliph$subject)), 0)\n",
    "gliphdf$HCV[i] <- ifelse(sum(grepl(\"HCV\", mygliph$subject)) > 0, sum(grepl(\"HCV\", mygliph$subject)), 0)\n",
    "gliphdf$Influenza[i] <- ifelse(sum(grepl(\"Influenza\", mygliph$subject)) > 0, sum(grepl(\"Influenza\", mygliph$subject)), 0)\n",
    "gliphdf$HomoSapiens[i] <- ifelse(sum(grepl(\"HomoSapiens\", mygliph$subject)) > 0, sum(grepl(\"HomoSapiens\", mygliph$subject)), 0)\n",
    "gliphdf$MDavis[i] <- ifelse(sum(grepl(\"MDavis\", mygliph$subject)) > 0, sum(grepl(\"MDavis\", mygliph$subject)), 0)\n",
    "gliphdf$HPV[i] <- ifelse(sum(grepl(\"HPV\", mygliph$subject)) > 0, sum(grepl(\"HPV\", mygliph$subject)), 0)\n",
    "gliphdf$CEF[i] <- ifelse(sum(grepl(\"CEF\", mygliph$subject)) > 0, sum(grepl(\"CEF\", mygliph$subject)), 0)\n",
    "gliphdf$TB[i] <- ifelse(sum(grepl(\"M.tuberculosis\", mygliph$subject)) > 0, sum(grepl(\"M.tuberculosis\", mygliph$subject)), 0)\n",
    "gliphdf$MCPyV[i] <- ifelse(sum(grepl(\"MCPyV\", mygliph$subject)) > 0, sum(grepl(\"MCPyV\", mygliph$subject)), 0)\n",
    "gliphdf$SP[i] <- ifelse(sum(grepl(\"S-pneumoniae\", mygliph$subject)) > 0, sum(grepl(\"S-pneumoniae\", mygliph$subject)), 0)\n",
    "gliphdf$DENV[i] <- ifelse(sum(grepl(\"DENV\", mygliph$subject)) > 0, sum(grepl(\"DENV\", mygliph$subject)), 0)\n",
    "}"
   ]
  },
  {
   "cell_type": "code",
   "execution_count": 115,
   "metadata": {
    "vscode": {
     "languageId": "r"
    }
   },
   "outputs": [
    {
     "data": {
      "text/html": [
       "<table class=\"dataframe\">\n",
       "<caption>A data.frame: 6 x 13</caption>\n",
       "<thead>\n",
       "\t<tr><th></th><th scope=col>gliph</th><th scope=col>CMV</th><th scope=col>EBV</th><th scope=col>HCV</th><th scope=col>Influenza</th><th scope=col>HomoSapiens</th><th scope=col>MDavis</th><th scope=col>HPV</th><th scope=col>CEF</th><th scope=col>TB</th><th scope=col>MCPyV</th><th scope=col>SP</th><th scope=col>DENV</th></tr>\n",
       "\t<tr><th></th><th scope=col>&lt;chr&gt;</th><th scope=col>&lt;dbl&gt;</th><th scope=col>&lt;dbl&gt;</th><th scope=col>&lt;dbl&gt;</th><th scope=col>&lt;dbl&gt;</th><th scope=col>&lt;dbl&gt;</th><th scope=col>&lt;dbl&gt;</th><th scope=col>&lt;dbl&gt;</th><th scope=col>&lt;dbl&gt;</th><th scope=col>&lt;dbl&gt;</th><th scope=col>&lt;dbl&gt;</th><th scope=col>&lt;dbl&gt;</th><th scope=col>&lt;dbl&gt;</th></tr>\n",
       "</thead>\n",
       "<tbody>\n",
       "\t<tr><th scope=row>SLG%E</th><td>SLG%E  </td><td>0</td><td>0</td><td>0</td><td>0</td><td>0</td><td>39</td><td>0</td><td>0</td><td>0</td><td>0</td><td>0</td><td>0</td></tr>\n",
       "\t<tr><th scope=row>S%GSGE</th><td>S%GSGE </td><td>0</td><td>0</td><td>0</td><td>0</td><td>0</td><td>32</td><td>0</td><td>0</td><td>0</td><td>0</td><td>0</td><td>0</td></tr>\n",
       "\t<tr><th scope=row>SLQG%E</th><td>SLQG%E </td><td>0</td><td>0</td><td>0</td><td>0</td><td>0</td><td>30</td><td>1</td><td>0</td><td>0</td><td>0</td><td>0</td><td>0</td></tr>\n",
       "\t<tr><th scope=row>S%SGANV</th><td>S%SGANV</td><td>0</td><td>0</td><td>0</td><td>0</td><td>0</td><td>34</td><td>0</td><td>0</td><td>0</td><td>0</td><td>0</td><td>0</td></tr>\n",
       "\t<tr><th scope=row>S%GGNTE</th><td>S%GGNTE</td><td>0</td><td>0</td><td>0</td><td>0</td><td>1</td><td>40</td><td>0</td><td>0</td><td>0</td><td>0</td><td>0</td><td>0</td></tr>\n",
       "\t<tr><th scope=row>S%TGNTE</th><td>S%TGNTE</td><td>0</td><td>0</td><td>0</td><td>0</td><td>0</td><td>34</td><td>0</td><td>0</td><td>0</td><td>0</td><td>0</td><td>0</td></tr>\n",
       "</tbody>\n",
       "</table>\n"
      ],
      "text/latex": [
       "A data.frame: 6 x 13\n",
       "\\begin{tabular}{r|lllllllllllll}\n",
       "  & gliph & CMV & EBV & HCV & Influenza & HomoSapiens & MDavis & HPV & CEF & TB & MCPyV & SP & DENV\\\\\n",
       "  & <chr> & <dbl> & <dbl> & <dbl> & <dbl> & <dbl> & <dbl> & <dbl> & <dbl> & <dbl> & <dbl> & <dbl> & <dbl>\\\\\n",
       "\\hline\n",
       "\tSLG\\%E & SLG\\%E   & 0 & 0 & 0 & 0 & 0 & 39 & 0 & 0 & 0 & 0 & 0 & 0\\\\\n",
       "\tS\\%GSGE & S\\%GSGE  & 0 & 0 & 0 & 0 & 0 & 32 & 0 & 0 & 0 & 0 & 0 & 0\\\\\n",
       "\tSLQG\\%E & SLQG\\%E  & 0 & 0 & 0 & 0 & 0 & 30 & 1 & 0 & 0 & 0 & 0 & 0\\\\\n",
       "\tS\\%SGANV & S\\%SGANV & 0 & 0 & 0 & 0 & 0 & 34 & 0 & 0 & 0 & 0 & 0 & 0\\\\\n",
       "\tS\\%GGNTE & S\\%GGNTE & 0 & 0 & 0 & 0 & 1 & 40 & 0 & 0 & 0 & 0 & 0 & 0\\\\\n",
       "\tS\\%TGNTE & S\\%TGNTE & 0 & 0 & 0 & 0 & 0 & 34 & 0 & 0 & 0 & 0 & 0 & 0\\\\\n",
       "\\end{tabular}\n"
      ],
      "text/markdown": [
       "\n",
       "A data.frame: 6 x 13\n",
       "\n",
       "| <!--/--> | gliph &lt;chr&gt; | CMV &lt;dbl&gt; | EBV &lt;dbl&gt; | HCV &lt;dbl&gt; | Influenza &lt;dbl&gt; | HomoSapiens &lt;dbl&gt; | MDavis &lt;dbl&gt; | HPV &lt;dbl&gt; | CEF &lt;dbl&gt; | TB &lt;dbl&gt; | MCPyV &lt;dbl&gt; | SP &lt;dbl&gt; | DENV &lt;dbl&gt; |\n",
       "|---|---|---|---|---|---|---|---|---|---|---|---|---|---|\n",
       "| SLG%E | SLG%E   | 0 | 0 | 0 | 0 | 0 | 39 | 0 | 0 | 0 | 0 | 0 | 0 |\n",
       "| S%GSGE | S%GSGE  | 0 | 0 | 0 | 0 | 0 | 32 | 0 | 0 | 0 | 0 | 0 | 0 |\n",
       "| SLQG%E | SLQG%E  | 0 | 0 | 0 | 0 | 0 | 30 | 1 | 0 | 0 | 0 | 0 | 0 |\n",
       "| S%SGANV | S%SGANV | 0 | 0 | 0 | 0 | 0 | 34 | 0 | 0 | 0 | 0 | 0 | 0 |\n",
       "| S%GGNTE | S%GGNTE | 0 | 0 | 0 | 0 | 1 | 40 | 0 | 0 | 0 | 0 | 0 | 0 |\n",
       "| S%TGNTE | S%TGNTE | 0 | 0 | 0 | 0 | 0 | 34 | 0 | 0 | 0 | 0 | 0 | 0 |\n",
       "\n"
      ],
      "text/plain": [
       "        gliph   CMV EBV HCV Influenza HomoSapiens MDavis HPV CEF TB MCPyV SP\n",
       "SLG%E   SLG%E   0   0   0   0         0           39     0   0   0  0     0 \n",
       "S%GSGE  S%GSGE  0   0   0   0         0           32     0   0   0  0     0 \n",
       "SLQG%E  SLQG%E  0   0   0   0         0           30     1   0   0  0     0 \n",
       "S%SGANV S%SGANV 0   0   0   0         0           34     0   0   0  0     0 \n",
       "S%GGNTE S%GGNTE 0   0   0   0         1           40     0   0   0  0     0 \n",
       "S%TGNTE S%TGNTE 0   0   0   0         0           34     0   0   0  0     0 \n",
       "        DENV\n",
       "SLG%E   0   \n",
       "S%GSGE  0   \n",
       "SLQG%E  0   \n",
       "S%SGANV 0   \n",
       "S%GGNTE 0   \n",
       "S%TGNTE 0   "
      ]
     },
     "metadata": {},
     "output_type": "display_data"
    }
   ],
   "source": [
    "head(gliphdf)"
   ]
  },
  {
   "cell_type": "code",
   "execution_count": 116,
   "metadata": {
    "vscode": {
     "languageId": "r"
    }
   },
   "outputs": [
    {
     "data": {
      "text/html": [
       "<style>\n",
       ".list-inline {list-style: none; margin:0; padding: 0}\n",
       ".list-inline>li {display: inline-block}\n",
       ".list-inline>li:not(:last-child)::after {content: \"\\00b7\"; padding: 0 .5ex}\n",
       "</style>\n",
       "<ol class=list-inline><li>'index'</li><li>'pattern'</li><li>'Fisher_score'</li><li>'number_subject'</li><li>'number_unique_cdr3'</li><li>'final_score'</li><li>'hla_score'</li><li>'vb_score'</li><li>'expansion_score'</li><li>'length_score'</li><li>'cluster_size_score'</li><li>'type'</li><li>'TcRb'</li><li>'V'</li><li>'J'</li><li>'TcRa'</li><li>'Sample'</li><li>'Freq'</li><li>'subject'</li></ol>\n"
      ],
      "text/latex": [
       "\\begin{enumerate*}\n",
       "\\item 'index'\n",
       "\\item 'pattern'\n",
       "\\item 'Fisher\\_score'\n",
       "\\item 'number\\_subject'\n",
       "\\item 'number\\_unique\\_cdr3'\n",
       "\\item 'final\\_score'\n",
       "\\item 'hla\\_score'\n",
       "\\item 'vb\\_score'\n",
       "\\item 'expansion\\_score'\n",
       "\\item 'length\\_score'\n",
       "\\item 'cluster\\_size\\_score'\n",
       "\\item 'type'\n",
       "\\item 'TcRb'\n",
       "\\item 'V'\n",
       "\\item 'J'\n",
       "\\item 'TcRa'\n",
       "\\item 'Sample'\n",
       "\\item 'Freq'\n",
       "\\item 'subject'\n",
       "\\end{enumerate*}\n"
      ],
      "text/markdown": [
       "1. 'index'\n",
       "2. 'pattern'\n",
       "3. 'Fisher_score'\n",
       "4. 'number_subject'\n",
       "5. 'number_unique_cdr3'\n",
       "6. 'final_score'\n",
       "7. 'hla_score'\n",
       "8. 'vb_score'\n",
       "9. 'expansion_score'\n",
       "10. 'length_score'\n",
       "11. 'cluster_size_score'\n",
       "12. 'type'\n",
       "13. 'TcRb'\n",
       "14. 'V'\n",
       "15. 'J'\n",
       "16. 'TcRa'\n",
       "17. 'Sample'\n",
       "18. 'Freq'\n",
       "19. 'subject'\n",
       "\n",
       "\n"
      ],
      "text/plain": [
       " [1] \"index\"              \"pattern\"            \"Fisher_score\"      \n",
       " [4] \"number_subject\"     \"number_unique_cdr3\" \"final_score\"       \n",
       " [7] \"hla_score\"          \"vb_score\"           \"expansion_score\"   \n",
       "[10] \"length_score\"       \"cluster_size_score\" \"type\"              \n",
       "[13] \"TcRb\"               \"V\"                  \"J\"                 \n",
       "[16] \"TcRa\"               \"Sample\"             \"Freq\"              \n",
       "[19] \"subject\"           "
      ]
     },
     "metadata": {},
     "output_type": "display_data"
    }
   ],
   "source": [
    "colnames(gliphout_emerson)"
   ]
  },
  {
   "cell_type": "code",
   "execution_count": 117,
   "metadata": {
    "vscode": {
     "languageId": "r"
    }
   },
   "outputs": [],
   "source": [
    "# add number of unique cdr3s for each group\n",
    "for (i in 1:nrow(gliphdf)) {\n",
    "    mygliph <- gliphout_emerson[gliphout_emerson$pattern == gliphdf$gliph[i], ]\n",
    "    gliphdf$n_unique_cdr3[i] <- mygliph$number_unique_cdr3[1]\n",
    "}\n"
   ]
  },
  {
   "cell_type": "code",
   "execution_count": 118,
   "metadata": {
    "vscode": {
     "languageId": "r"
    }
   },
   "outputs": [
    {
     "data": {
      "text/html": [
       "<table class=\"dataframe\">\n",
       "<caption>A data.frame: 6 x 14</caption>\n",
       "<thead>\n",
       "\t<tr><th></th><th scope=col>gliph</th><th scope=col>CMV</th><th scope=col>EBV</th><th scope=col>HCV</th><th scope=col>Influenza</th><th scope=col>HomoSapiens</th><th scope=col>MDavis</th><th scope=col>HPV</th><th scope=col>CEF</th><th scope=col>TB</th><th scope=col>MCPyV</th><th scope=col>SP</th><th scope=col>DENV</th><th scope=col>n_unique_cdr3</th></tr>\n",
       "\t<tr><th></th><th scope=col>&lt;chr&gt;</th><th scope=col>&lt;dbl&gt;</th><th scope=col>&lt;dbl&gt;</th><th scope=col>&lt;dbl&gt;</th><th scope=col>&lt;dbl&gt;</th><th scope=col>&lt;dbl&gt;</th><th scope=col>&lt;dbl&gt;</th><th scope=col>&lt;dbl&gt;</th><th scope=col>&lt;dbl&gt;</th><th scope=col>&lt;dbl&gt;</th><th scope=col>&lt;dbl&gt;</th><th scope=col>&lt;dbl&gt;</th><th scope=col>&lt;dbl&gt;</th><th scope=col>&lt;int&gt;</th></tr>\n",
       "</thead>\n",
       "<tbody>\n",
       "\t<tr><th scope=row>SLG%E</th><td>SLG%E  </td><td>0</td><td>0</td><td>0</td><td>0</td><td>0</td><td>39</td><td>0</td><td>0</td><td>0</td><td>0</td><td>0</td><td>0</td><td>40</td></tr>\n",
       "\t<tr><th scope=row>S%GSGE</th><td>S%GSGE </td><td>0</td><td>0</td><td>0</td><td>0</td><td>0</td><td>32</td><td>0</td><td>0</td><td>0</td><td>0</td><td>0</td><td>0</td><td>33</td></tr>\n",
       "\t<tr><th scope=row>SLQG%E</th><td>SLQG%E </td><td>0</td><td>0</td><td>0</td><td>0</td><td>0</td><td>30</td><td>1</td><td>0</td><td>0</td><td>0</td><td>0</td><td>0</td><td>30</td></tr>\n",
       "\t<tr><th scope=row>S%SGANV</th><td>S%SGANV</td><td>0</td><td>0</td><td>0</td><td>0</td><td>0</td><td>34</td><td>0</td><td>0</td><td>0</td><td>0</td><td>0</td><td>0</td><td>34</td></tr>\n",
       "\t<tr><th scope=row>S%GGNTE</th><td>S%GGNTE</td><td>0</td><td>0</td><td>0</td><td>0</td><td>1</td><td>40</td><td>0</td><td>0</td><td>0</td><td>0</td><td>0</td><td>0</td><td>40</td></tr>\n",
       "\t<tr><th scope=row>S%TGNTE</th><td>S%TGNTE</td><td>0</td><td>0</td><td>0</td><td>0</td><td>0</td><td>34</td><td>0</td><td>0</td><td>0</td><td>0</td><td>0</td><td>0</td><td>34</td></tr>\n",
       "</tbody>\n",
       "</table>\n"
      ],
      "text/latex": [
       "A data.frame: 6 x 14\n",
       "\\begin{tabular}{r|llllllllllllll}\n",
       "  & gliph & CMV & EBV & HCV & Influenza & HomoSapiens & MDavis & HPV & CEF & TB & MCPyV & SP & DENV & n\\_unique\\_cdr3\\\\\n",
       "  & <chr> & <dbl> & <dbl> & <dbl> & <dbl> & <dbl> & <dbl> & <dbl> & <dbl> & <dbl> & <dbl> & <dbl> & <dbl> & <int>\\\\\n",
       "\\hline\n",
       "\tSLG\\%E & SLG\\%E   & 0 & 0 & 0 & 0 & 0 & 39 & 0 & 0 & 0 & 0 & 0 & 0 & 40\\\\\n",
       "\tS\\%GSGE & S\\%GSGE  & 0 & 0 & 0 & 0 & 0 & 32 & 0 & 0 & 0 & 0 & 0 & 0 & 33\\\\\n",
       "\tSLQG\\%E & SLQG\\%E  & 0 & 0 & 0 & 0 & 0 & 30 & 1 & 0 & 0 & 0 & 0 & 0 & 30\\\\\n",
       "\tS\\%SGANV & S\\%SGANV & 0 & 0 & 0 & 0 & 0 & 34 & 0 & 0 & 0 & 0 & 0 & 0 & 34\\\\\n",
       "\tS\\%GGNTE & S\\%GGNTE & 0 & 0 & 0 & 0 & 1 & 40 & 0 & 0 & 0 & 0 & 0 & 0 & 40\\\\\n",
       "\tS\\%TGNTE & S\\%TGNTE & 0 & 0 & 0 & 0 & 0 & 34 & 0 & 0 & 0 & 0 & 0 & 0 & 34\\\\\n",
       "\\end{tabular}\n"
      ],
      "text/markdown": [
       "\n",
       "A data.frame: 6 x 14\n",
       "\n",
       "| <!--/--> | gliph &lt;chr&gt; | CMV &lt;dbl&gt; | EBV &lt;dbl&gt; | HCV &lt;dbl&gt; | Influenza &lt;dbl&gt; | HomoSapiens &lt;dbl&gt; | MDavis &lt;dbl&gt; | HPV &lt;dbl&gt; | CEF &lt;dbl&gt; | TB &lt;dbl&gt; | MCPyV &lt;dbl&gt; | SP &lt;dbl&gt; | DENV &lt;dbl&gt; | n_unique_cdr3 &lt;int&gt; |\n",
       "|---|---|---|---|---|---|---|---|---|---|---|---|---|---|---|\n",
       "| SLG%E | SLG%E   | 0 | 0 | 0 | 0 | 0 | 39 | 0 | 0 | 0 | 0 | 0 | 0 | 40 |\n",
       "| S%GSGE | S%GSGE  | 0 | 0 | 0 | 0 | 0 | 32 | 0 | 0 | 0 | 0 | 0 | 0 | 33 |\n",
       "| SLQG%E | SLQG%E  | 0 | 0 | 0 | 0 | 0 | 30 | 1 | 0 | 0 | 0 | 0 | 0 | 30 |\n",
       "| S%SGANV | S%SGANV | 0 | 0 | 0 | 0 | 0 | 34 | 0 | 0 | 0 | 0 | 0 | 0 | 34 |\n",
       "| S%GGNTE | S%GGNTE | 0 | 0 | 0 | 0 | 1 | 40 | 0 | 0 | 0 | 0 | 0 | 0 | 40 |\n",
       "| S%TGNTE | S%TGNTE | 0 | 0 | 0 | 0 | 0 | 34 | 0 | 0 | 0 | 0 | 0 | 0 | 34 |\n",
       "\n"
      ],
      "text/plain": [
       "        gliph   CMV EBV HCV Influenza HomoSapiens MDavis HPV CEF TB MCPyV SP\n",
       "SLG%E   SLG%E   0   0   0   0         0           39     0   0   0  0     0 \n",
       "S%GSGE  S%GSGE  0   0   0   0         0           32     0   0   0  0     0 \n",
       "SLQG%E  SLQG%E  0   0   0   0         0           30     1   0   0  0     0 \n",
       "S%SGANV S%SGANV 0   0   0   0         0           34     0   0   0  0     0 \n",
       "S%GGNTE S%GGNTE 0   0   0   0         1           40     0   0   0  0     0 \n",
       "S%TGNTE S%TGNTE 0   0   0   0         0           34     0   0   0  0     0 \n",
       "        DENV n_unique_cdr3\n",
       "SLG%E   0    40           \n",
       "S%GSGE  0    33           \n",
       "SLQG%E  0    30           \n",
       "S%SGANV 0    34           \n",
       "S%GGNTE 0    40           \n",
       "S%TGNTE 0    34           "
      ]
     },
     "metadata": {},
     "output_type": "display_data"
    }
   ],
   "source": [
    "head(gliphdf)"
   ]
  },
  {
   "cell_type": "markdown",
   "metadata": {},
   "source": [
    "Create samples x gliph dataframe"
   ]
  },
  {
   "cell_type": "code",
   "execution_count": 119,
   "metadata": {
    "vscode": {
     "languageId": "r"
    }
   },
   "outputs": [],
   "source": [
    "gliphout_emerson$Sample <- gsub(\"_.*\", \"\", gliphout_emerson$Sample)"
   ]
  },
  {
   "cell_type": "code",
   "execution_count": 120,
   "metadata": {
    "vscode": {
     "languageId": "r"
    }
   },
   "outputs": [],
   "source": [
    "mysamples <- names(table(gliphout_emerson$Sample[grepl(\"Emerson\", gliphout_emerson$Sample)]))"
   ]
  },
  {
   "cell_type": "code",
   "execution_count": 121,
   "metadata": {
    "vscode": {
     "languageId": "r"
    }
   },
   "outputs": [
    {
     "data": {
      "text/html": [
       "<style>\n",
       ".list-inline {list-style: none; margin:0; padding: 0}\n",
       ".list-inline>li {display: inline-block}\n",
       ".list-inline>li:not(:last-child)::after {content: \"\\00b7\"; padding: 0 .5ex}\n",
       "</style>\n",
       "<ol class=list-inline><li>'Emerson:P00015'</li><li>'Emerson:P00023'</li><li>'Emerson:P00091'</li><li>'Emerson:P00092'</li><li>'Emerson:P00171'</li><li>'Emerson:P00183'</li></ol>\n"
      ],
      "text/latex": [
       "\\begin{enumerate*}\n",
       "\\item 'Emerson:P00015'\n",
       "\\item 'Emerson:P00023'\n",
       "\\item 'Emerson:P00091'\n",
       "\\item 'Emerson:P00092'\n",
       "\\item 'Emerson:P00171'\n",
       "\\item 'Emerson:P00183'\n",
       "\\end{enumerate*}\n"
      ],
      "text/markdown": [
       "1. 'Emerson:P00015'\n",
       "2. 'Emerson:P00023'\n",
       "3. 'Emerson:P00091'\n",
       "4. 'Emerson:P00092'\n",
       "5. 'Emerson:P00171'\n",
       "6. 'Emerson:P00183'\n",
       "\n",
       "\n"
      ],
      "text/plain": [
       "[1] \"Emerson:P00015\" \"Emerson:P00023\" \"Emerson:P00091\" \"Emerson:P00092\"\n",
       "[5] \"Emerson:P00171\" \"Emerson:P00183\""
      ]
     },
     "metadata": {},
     "output_type": "display_data"
    }
   ],
   "source": [
    "head(mysamples)"
   ]
  },
  {
   "cell_type": "code",
   "execution_count": 122,
   "metadata": {
    "vscode": {
     "languageId": "r"
    }
   },
   "outputs": [],
   "source": [
    "samples_tcr <- as.data.frame(matrix(0, nrow = length(mysamples), ncol = 12, \n",
    "dimnames = list(mysamples, colnames(gliphdf)[2:13])) ) "
   ]
  },
  {
   "cell_type": "code",
   "execution_count": 123,
   "metadata": {
    "vscode": {
     "languageId": "r"
    }
   },
   "outputs": [
    {
     "data": {
      "text/html": [
       "<table class=\"dataframe\">\n",
       "<caption>A data.frame: 6 x 12</caption>\n",
       "<thead>\n",
       "\t<tr><th></th><th scope=col>CMV</th><th scope=col>EBV</th><th scope=col>HCV</th><th scope=col>Influenza</th><th scope=col>HomoSapiens</th><th scope=col>MDavis</th><th scope=col>HPV</th><th scope=col>CEF</th><th scope=col>TB</th><th scope=col>MCPyV</th><th scope=col>SP</th><th scope=col>DENV</th></tr>\n",
       "\t<tr><th></th><th scope=col>&lt;dbl&gt;</th><th scope=col>&lt;dbl&gt;</th><th scope=col>&lt;dbl&gt;</th><th scope=col>&lt;dbl&gt;</th><th scope=col>&lt;dbl&gt;</th><th scope=col>&lt;dbl&gt;</th><th scope=col>&lt;dbl&gt;</th><th scope=col>&lt;dbl&gt;</th><th scope=col>&lt;dbl&gt;</th><th scope=col>&lt;dbl&gt;</th><th scope=col>&lt;dbl&gt;</th><th scope=col>&lt;dbl&gt;</th></tr>\n",
       "</thead>\n",
       "<tbody>\n",
       "\t<tr><th scope=row>Emerson:P00015</th><td>0</td><td>0</td><td>0</td><td>0</td><td>0</td><td>0</td><td>0</td><td>0</td><td>0</td><td>0</td><td>0</td><td>0</td></tr>\n",
       "\t<tr><th scope=row>Emerson:P00023</th><td>0</td><td>0</td><td>0</td><td>0</td><td>0</td><td>0</td><td>0</td><td>0</td><td>0</td><td>0</td><td>0</td><td>0</td></tr>\n",
       "\t<tr><th scope=row>Emerson:P00091</th><td>0</td><td>0</td><td>0</td><td>0</td><td>0</td><td>0</td><td>0</td><td>0</td><td>0</td><td>0</td><td>0</td><td>0</td></tr>\n",
       "\t<tr><th scope=row>Emerson:P00092</th><td>0</td><td>0</td><td>0</td><td>0</td><td>0</td><td>0</td><td>0</td><td>0</td><td>0</td><td>0</td><td>0</td><td>0</td></tr>\n",
       "\t<tr><th scope=row>Emerson:P00171</th><td>0</td><td>0</td><td>0</td><td>0</td><td>0</td><td>0</td><td>0</td><td>0</td><td>0</td><td>0</td><td>0</td><td>0</td></tr>\n",
       "\t<tr><th scope=row>Emerson:P00183</th><td>0</td><td>0</td><td>0</td><td>0</td><td>0</td><td>0</td><td>0</td><td>0</td><td>0</td><td>0</td><td>0</td><td>0</td></tr>\n",
       "</tbody>\n",
       "</table>\n"
      ],
      "text/latex": [
       "A data.frame: 6 x 12\n",
       "\\begin{tabular}{r|llllllllllll}\n",
       "  & CMV & EBV & HCV & Influenza & HomoSapiens & MDavis & HPV & CEF & TB & MCPyV & SP & DENV\\\\\n",
       "  & <dbl> & <dbl> & <dbl> & <dbl> & <dbl> & <dbl> & <dbl> & <dbl> & <dbl> & <dbl> & <dbl> & <dbl>\\\\\n",
       "\\hline\n",
       "\tEmerson:P00015 & 0 & 0 & 0 & 0 & 0 & 0 & 0 & 0 & 0 & 0 & 0 & 0\\\\\n",
       "\tEmerson:P00023 & 0 & 0 & 0 & 0 & 0 & 0 & 0 & 0 & 0 & 0 & 0 & 0\\\\\n",
       "\tEmerson:P00091 & 0 & 0 & 0 & 0 & 0 & 0 & 0 & 0 & 0 & 0 & 0 & 0\\\\\n",
       "\tEmerson:P00092 & 0 & 0 & 0 & 0 & 0 & 0 & 0 & 0 & 0 & 0 & 0 & 0\\\\\n",
       "\tEmerson:P00171 & 0 & 0 & 0 & 0 & 0 & 0 & 0 & 0 & 0 & 0 & 0 & 0\\\\\n",
       "\tEmerson:P00183 & 0 & 0 & 0 & 0 & 0 & 0 & 0 & 0 & 0 & 0 & 0 & 0\\\\\n",
       "\\end{tabular}\n"
      ],
      "text/markdown": [
       "\n",
       "A data.frame: 6 x 12\n",
       "\n",
       "| <!--/--> | CMV &lt;dbl&gt; | EBV &lt;dbl&gt; | HCV &lt;dbl&gt; | Influenza &lt;dbl&gt; | HomoSapiens &lt;dbl&gt; | MDavis &lt;dbl&gt; | HPV &lt;dbl&gt; | CEF &lt;dbl&gt; | TB &lt;dbl&gt; | MCPyV &lt;dbl&gt; | SP &lt;dbl&gt; | DENV &lt;dbl&gt; |\n",
       "|---|---|---|---|---|---|---|---|---|---|---|---|---|\n",
       "| Emerson:P00015 | 0 | 0 | 0 | 0 | 0 | 0 | 0 | 0 | 0 | 0 | 0 | 0 |\n",
       "| Emerson:P00023 | 0 | 0 | 0 | 0 | 0 | 0 | 0 | 0 | 0 | 0 | 0 | 0 |\n",
       "| Emerson:P00091 | 0 | 0 | 0 | 0 | 0 | 0 | 0 | 0 | 0 | 0 | 0 | 0 |\n",
       "| Emerson:P00092 | 0 | 0 | 0 | 0 | 0 | 0 | 0 | 0 | 0 | 0 | 0 | 0 |\n",
       "| Emerson:P00171 | 0 | 0 | 0 | 0 | 0 | 0 | 0 | 0 | 0 | 0 | 0 | 0 |\n",
       "| Emerson:P00183 | 0 | 0 | 0 | 0 | 0 | 0 | 0 | 0 | 0 | 0 | 0 | 0 |\n",
       "\n"
      ],
      "text/plain": [
       "               CMV EBV HCV Influenza HomoSapiens MDavis HPV CEF TB MCPyV SP\n",
       "Emerson:P00015 0   0   0   0         0           0      0   0   0  0     0 \n",
       "Emerson:P00023 0   0   0   0         0           0      0   0   0  0     0 \n",
       "Emerson:P00091 0   0   0   0         0           0      0   0   0  0     0 \n",
       "Emerson:P00092 0   0   0   0         0           0      0   0   0  0     0 \n",
       "Emerson:P00171 0   0   0   0         0           0      0   0   0  0     0 \n",
       "Emerson:P00183 0   0   0   0         0           0      0   0   0  0     0 \n",
       "               DENV\n",
       "Emerson:P00015 0   \n",
       "Emerson:P00023 0   \n",
       "Emerson:P00091 0   \n",
       "Emerson:P00092 0   \n",
       "Emerson:P00171 0   \n",
       "Emerson:P00183 0   "
      ]
     },
     "metadata": {},
     "output_type": "display_data"
    }
   ],
   "source": [
    "head(samples_tcr)"
   ]
  },
  {
   "cell_type": "code",
   "execution_count": 124,
   "metadata": {
    "vscode": {
     "languageId": "r"
    }
   },
   "outputs": [],
   "source": [
    "# count number of TCRs with annotated gliph groups for each sample\n",
    "# # eg if 3 TCRs are annotated to a one gliph group with HPV annotation, then count it as 3\n",
    "for (i in 1:nrow(samples_tcr)) {\n",
    "    samplegliphs <- gliphout_emerson$pattern[gliphout_emerson$Sample == rownames(samples_tcr)[i]]\n",
    "    mytab <- as.data.frame(table(gliphout_emerson$subject[gliphout_emerson$pattern %in% samplegliphs]), stringsAsFactors = F)\n",
    "    mycols <- intersect(colnames(samples_tcr), mytab$Var1)\n",
    "    samples_tcr[i, mycols] <- mytab$Freq[match(mycols, mytab$Var1)]\n",
    "}"
   ]
  },
  {
   "cell_type": "code",
   "execution_count": null,
   "metadata": {
    "vscode": {
     "languageId": "r"
    }
   },
   "outputs": [],
   "source": [
    "# # count number of annotated gliph groups for each sample\n",
    "# for (i in 1:nrow(gliphdf)) {\n",
    "#     mygliph <- gliphout_emerson[gliphout_emerson$pattern == rownames(gliphdf)[i], ]\n",
    "#     sample_subject_tab <- as.data.frame.matrix(table(mygliph$Sample, mygliph$subject))\n",
    "#     if (sum(grepl(\"Emerson\", rownames(sample_subject_tab))) > 0) {\n",
    "#         # subset to  samples\n",
    "#         sample_subject_tab <- sample_subject_tab[grepl(\"Emerson\", rownames(sample_subject_tab)), ]\n",
    "#         # select same samples in samples_tcr, then match colnames\n",
    "#         samples_tcr[rownames(sample_subject_tab), which(colnames(samples_tcr) %in% colnames(sample_subject_tab))] <-\n",
    "#             samples_tcr[rownames(sample_subject_tab), which(colnames(samples_tcr) %in% colnames(sample_subject_tab))] + 1\n",
    "#     }\n",
    "# }\n"
   ]
  },
  {
   "cell_type": "code",
   "execution_count": 125,
   "metadata": {
    "vscode": {
     "languageId": "r"
    }
   },
   "outputs": [
    {
     "data": {
      "text/html": [
       "<table class=\"dataframe\">\n",
       "<caption>A data.frame: 6 x 12</caption>\n",
       "<thead>\n",
       "\t<tr><th></th><th scope=col>CMV</th><th scope=col>EBV</th><th scope=col>HCV</th><th scope=col>Influenza</th><th scope=col>HomoSapiens</th><th scope=col>MDavis</th><th scope=col>HPV</th><th scope=col>CEF</th><th scope=col>TB</th><th scope=col>MCPyV</th><th scope=col>SP</th><th scope=col>DENV</th></tr>\n",
       "\t<tr><th></th><th scope=col>&lt;dbl&gt;</th><th scope=col>&lt;dbl&gt;</th><th scope=col>&lt;dbl&gt;</th><th scope=col>&lt;dbl&gt;</th><th scope=col>&lt;dbl&gt;</th><th scope=col>&lt;dbl&gt;</th><th scope=col>&lt;dbl&gt;</th><th scope=col>&lt;dbl&gt;</th><th scope=col>&lt;dbl&gt;</th><th scope=col>&lt;dbl&gt;</th><th scope=col>&lt;dbl&gt;</th><th scope=col>&lt;dbl&gt;</th></tr>\n",
       "</thead>\n",
       "<tbody>\n",
       "\t<tr><th scope=row>Emerson:P00015</th><td>2</td><td>2</td><td>1</td><td>0</td><td> 7</td><td>387</td><td>1</td><td>0</td><td>0</td><td>0</td><td>0</td><td>0</td></tr>\n",
       "\t<tr><th scope=row>Emerson:P00023</th><td>0</td><td>0</td><td>0</td><td>0</td><td> 1</td><td>111</td><td>0</td><td>0</td><td>0</td><td>0</td><td>0</td><td>0</td></tr>\n",
       "\t<tr><th scope=row>Emerson:P00091</th><td>9</td><td>3</td><td>2</td><td>0</td><td>23</td><td>637</td><td>1</td><td>1</td><td>0</td><td>7</td><td>0</td><td>0</td></tr>\n",
       "\t<tr><th scope=row>Emerson:P00092</th><td>4</td><td>1</td><td>0</td><td>1</td><td> 5</td><td>253</td><td>1</td><td>1</td><td>0</td><td>2</td><td>0</td><td>0</td></tr>\n",
       "\t<tr><th scope=row>Emerson:P00171</th><td>0</td><td>0</td><td>0</td><td>0</td><td> 0</td><td>  2</td><td>0</td><td>0</td><td>0</td><td>0</td><td>0</td><td>0</td></tr>\n",
       "\t<tr><th scope=row>Emerson:P00183</th><td>3</td><td>3</td><td>1</td><td>0</td><td> 8</td><td>452</td><td>1</td><td>0</td><td>0</td><td>2</td><td>0</td><td>0</td></tr>\n",
       "</tbody>\n",
       "</table>\n"
      ],
      "text/latex": [
       "A data.frame: 6 x 12\n",
       "\\begin{tabular}{r|llllllllllll}\n",
       "  & CMV & EBV & HCV & Influenza & HomoSapiens & MDavis & HPV & CEF & TB & MCPyV & SP & DENV\\\\\n",
       "  & <dbl> & <dbl> & <dbl> & <dbl> & <dbl> & <dbl> & <dbl> & <dbl> & <dbl> & <dbl> & <dbl> & <dbl>\\\\\n",
       "\\hline\n",
       "\tEmerson:P00015 & 2 & 2 & 1 & 0 &  7 & 387 & 1 & 0 & 0 & 0 & 0 & 0\\\\\n",
       "\tEmerson:P00023 & 0 & 0 & 0 & 0 &  1 & 111 & 0 & 0 & 0 & 0 & 0 & 0\\\\\n",
       "\tEmerson:P00091 & 9 & 3 & 2 & 0 & 23 & 637 & 1 & 1 & 0 & 7 & 0 & 0\\\\\n",
       "\tEmerson:P00092 & 4 & 1 & 0 & 1 &  5 & 253 & 1 & 1 & 0 & 2 & 0 & 0\\\\\n",
       "\tEmerson:P00171 & 0 & 0 & 0 & 0 &  0 &   2 & 0 & 0 & 0 & 0 & 0 & 0\\\\\n",
       "\tEmerson:P00183 & 3 & 3 & 1 & 0 &  8 & 452 & 1 & 0 & 0 & 2 & 0 & 0\\\\\n",
       "\\end{tabular}\n"
      ],
      "text/markdown": [
       "\n",
       "A data.frame: 6 x 12\n",
       "\n",
       "| <!--/--> | CMV &lt;dbl&gt; | EBV &lt;dbl&gt; | HCV &lt;dbl&gt; | Influenza &lt;dbl&gt; | HomoSapiens &lt;dbl&gt; | MDavis &lt;dbl&gt; | HPV &lt;dbl&gt; | CEF &lt;dbl&gt; | TB &lt;dbl&gt; | MCPyV &lt;dbl&gt; | SP &lt;dbl&gt; | DENV &lt;dbl&gt; |\n",
       "|---|---|---|---|---|---|---|---|---|---|---|---|---|\n",
       "| Emerson:P00015 | 2 | 2 | 1 | 0 |  7 | 387 | 1 | 0 | 0 | 0 | 0 | 0 |\n",
       "| Emerson:P00023 | 0 | 0 | 0 | 0 |  1 | 111 | 0 | 0 | 0 | 0 | 0 | 0 |\n",
       "| Emerson:P00091 | 9 | 3 | 2 | 0 | 23 | 637 | 1 | 1 | 0 | 7 | 0 | 0 |\n",
       "| Emerson:P00092 | 4 | 1 | 0 | 1 |  5 | 253 | 1 | 1 | 0 | 2 | 0 | 0 |\n",
       "| Emerson:P00171 | 0 | 0 | 0 | 0 |  0 |   2 | 0 | 0 | 0 | 0 | 0 | 0 |\n",
       "| Emerson:P00183 | 3 | 3 | 1 | 0 |  8 | 452 | 1 | 0 | 0 | 2 | 0 | 0 |\n",
       "\n"
      ],
      "text/plain": [
       "               CMV EBV HCV Influenza HomoSapiens MDavis HPV CEF TB MCPyV SP\n",
       "Emerson:P00015 2   2   1   0          7          387    1   0   0  0     0 \n",
       "Emerson:P00023 0   0   0   0          1          111    0   0   0  0     0 \n",
       "Emerson:P00091 9   3   2   0         23          637    1   1   0  7     0 \n",
       "Emerson:P00092 4   1   0   1          5          253    1   1   0  2     0 \n",
       "Emerson:P00171 0   0   0   0          0            2    0   0   0  0     0 \n",
       "Emerson:P00183 3   3   1   0          8          452    1   0   0  2     0 \n",
       "               DENV\n",
       "Emerson:P00015 0   \n",
       "Emerson:P00023 0   \n",
       "Emerson:P00091 0   \n",
       "Emerson:P00092 0   \n",
       "Emerson:P00171 0   \n",
       "Emerson:P00183 0   "
      ]
     },
     "metadata": {},
     "output_type": "display_data"
    }
   ],
   "source": [
    "head(samples_tcr)"
   ]
  },
  {
   "cell_type": "code",
   "execution_count": 126,
   "metadata": {
    "vscode": {
     "languageId": "r"
    }
   },
   "outputs": [],
   "source": [
    "gliphin_emerson$subject <- gsub(\"_.*\", \"\", gliphin_emerson$subject.condition)"
   ]
  },
  {
   "cell_type": "code",
   "execution_count": 127,
   "metadata": {
    "vscode": {
     "languageId": "r"
    }
   },
   "outputs": [
    {
     "data": {
      "text/html": [
       "<table class=\"dataframe\">\n",
       "<caption>A data.frame: 6 x 7</caption>\n",
       "<thead>\n",
       "\t<tr><th></th><th scope=col>CDR3b</th><th scope=col>TRBV</th><th scope=col>TRBJ</th><th scope=col>CDR3a</th><th scope=col>subject.condition</th><th scope=col>count</th><th scope=col>subject</th></tr>\n",
       "\t<tr><th></th><th scope=col>&lt;chr&gt;</th><th scope=col>&lt;chr&gt;</th><th scope=col>&lt;chr&gt;</th><th scope=col>&lt;lgl&gt;</th><th scope=col>&lt;chr&gt;</th><th scope=col>&lt;dbl&gt;</th><th scope=col>&lt;chr&gt;</th></tr>\n",
       "</thead>\n",
       "<tbody>\n",
       "\t<tr><th scope=row>1</th><td>CAAAGGSYEQYF </td><td>TRBV6-8 </td><td>NA</td><td>NA</td><td>MDavis:B5101                  </td><td>1</td><td>MDavis:B5101   </td></tr>\n",
       "\t<tr><th scope=row>2</th><td>CAAAGTSTDTQYF</td><td>TRBV6-8 </td><td>NA</td><td>NA</td><td>MDavis:C0602_DRB11501         </td><td>1</td><td>MDavis:C0602   </td></tr>\n",
       "\t<tr><th scope=row>3</th><td>CAAAGYDEKLFF </td><td>TRBV9-1 </td><td>NA</td><td>NA</td><td>MDavis:DQA10102               </td><td>1</td><td>MDavis:DQA10102</td></tr>\n",
       "\t<tr><th scope=row>4</th><td>CAAGGMNTEAFF </td><td>TRBV30-1</td><td>NA</td><td>NA</td><td>MDavis:A3101_DQA10301_DRB10701</td><td>1</td><td>MDavis:A3101   </td></tr>\n",
       "\t<tr><th scope=row>5</th><td>CAAGQEGTDTQYF</td><td>TRBV29-1</td><td>NA</td><td>NA</td><td>MDavis:B0702_C0702            </td><td>1</td><td>MDavis:B0702   </td></tr>\n",
       "\t<tr><th scope=row>6</th><td>CAAGRGLNTEAFF</td><td>TRBV29-1</td><td>NA</td><td>NA</td><td>MDavis:B3501_C0401_DRB11501   </td><td>1</td><td>MDavis:B3501   </td></tr>\n",
       "</tbody>\n",
       "</table>\n"
      ],
      "text/latex": [
       "A data.frame: 6 x 7\n",
       "\\begin{tabular}{r|lllllll}\n",
       "  & CDR3b & TRBV & TRBJ & CDR3a & subject.condition & count & subject\\\\\n",
       "  & <chr> & <chr> & <chr> & <lgl> & <chr> & <dbl> & <chr>\\\\\n",
       "\\hline\n",
       "\t1 & CAAAGGSYEQYF  & TRBV6-8  & NA & NA & MDavis:B5101                   & 1 & MDavis:B5101   \\\\\n",
       "\t2 & CAAAGTSTDTQYF & TRBV6-8  & NA & NA & MDavis:C0602\\_DRB11501          & 1 & MDavis:C0602   \\\\\n",
       "\t3 & CAAAGYDEKLFF  & TRBV9-1  & NA & NA & MDavis:DQA10102                & 1 & MDavis:DQA10102\\\\\n",
       "\t4 & CAAGGMNTEAFF  & TRBV30-1 & NA & NA & MDavis:A3101\\_DQA10301\\_DRB10701 & 1 & MDavis:A3101   \\\\\n",
       "\t5 & CAAGQEGTDTQYF & TRBV29-1 & NA & NA & MDavis:B0702\\_C0702             & 1 & MDavis:B0702   \\\\\n",
       "\t6 & CAAGRGLNTEAFF & TRBV29-1 & NA & NA & MDavis:B3501\\_C0401\\_DRB11501    & 1 & MDavis:B3501   \\\\\n",
       "\\end{tabular}\n"
      ],
      "text/markdown": [
       "\n",
       "A data.frame: 6 x 7\n",
       "\n",
       "| <!--/--> | CDR3b &lt;chr&gt; | TRBV &lt;chr&gt; | TRBJ &lt;chr&gt; | CDR3a &lt;lgl&gt; | subject.condition &lt;chr&gt; | count &lt;dbl&gt; | subject &lt;chr&gt; |\n",
       "|---|---|---|---|---|---|---|---|\n",
       "| 1 | CAAAGGSYEQYF  | TRBV6-8  | NA | NA | MDavis:B5101                   | 1 | MDavis:B5101    |\n",
       "| 2 | CAAAGTSTDTQYF | TRBV6-8  | NA | NA | MDavis:C0602_DRB11501          | 1 | MDavis:C0602    |\n",
       "| 3 | CAAAGYDEKLFF  | TRBV9-1  | NA | NA | MDavis:DQA10102                | 1 | MDavis:DQA10102 |\n",
       "| 4 | CAAGGMNTEAFF  | TRBV30-1 | NA | NA | MDavis:A3101_DQA10301_DRB10701 | 1 | MDavis:A3101    |\n",
       "| 5 | CAAGQEGTDTQYF | TRBV29-1 | NA | NA | MDavis:B0702_C0702             | 1 | MDavis:B0702    |\n",
       "| 6 | CAAGRGLNTEAFF | TRBV29-1 | NA | NA | MDavis:B3501_C0401_DRB11501    | 1 | MDavis:B3501    |\n",
       "\n"
      ],
      "text/plain": [
       "  CDR3b         TRBV     TRBJ CDR3a subject.condition              count\n",
       "1 CAAAGGSYEQYF  TRBV6-8  NA   NA    MDavis:B5101                   1    \n",
       "2 CAAAGTSTDTQYF TRBV6-8  NA   NA    MDavis:C0602_DRB11501          1    \n",
       "3 CAAAGYDEKLFF  TRBV9-1  NA   NA    MDavis:DQA10102                1    \n",
       "4 CAAGGMNTEAFF  TRBV30-1 NA   NA    MDavis:A3101_DQA10301_DRB10701 1    \n",
       "5 CAAGQEGTDTQYF TRBV29-1 NA   NA    MDavis:B0702_C0702             1    \n",
       "6 CAAGRGLNTEAFF TRBV29-1 NA   NA    MDavis:B3501_C0401_DRB11501    1    \n",
       "  subject        \n",
       "1 MDavis:B5101   \n",
       "2 MDavis:C0602   \n",
       "3 MDavis:DQA10102\n",
       "4 MDavis:A3101   \n",
       "5 MDavis:B0702   \n",
       "6 MDavis:B3501   "
      ]
     },
     "metadata": {},
     "output_type": "display_data"
    }
   ],
   "source": [
    "head(gliphin_emerson)"
   ]
  },
  {
   "cell_type": "code",
   "execution_count": 128,
   "metadata": {
    "vscode": {
     "languageId": "r"
    }
   },
   "outputs": [],
   "source": [
    "gliphin_emerson_samples <- gliphin_emerson[ grepl(\"Emerson\", gliphin_emerson$subject),]"
   ]
  },
  {
   "cell_type": "code",
   "execution_count": 129,
   "metadata": {
    "vscode": {
     "languageId": "r"
    }
   },
   "outputs": [
    {
     "data": {
      "text/html": [
       "<table class=\"dataframe\">\n",
       "<caption>A data.frame: 6 x 7</caption>\n",
       "<thead>\n",
       "\t<tr><th></th><th scope=col>CDR3b</th><th scope=col>TRBV</th><th scope=col>TRBJ</th><th scope=col>CDR3a</th><th scope=col>subject.condition</th><th scope=col>count</th><th scope=col>subject</th></tr>\n",
       "\t<tr><th></th><th scope=col>&lt;chr&gt;</th><th scope=col>&lt;chr&gt;</th><th scope=col>&lt;chr&gt;</th><th scope=col>&lt;lgl&gt;</th><th scope=col>&lt;chr&gt;</th><th scope=col>&lt;dbl&gt;</th><th scope=col>&lt;chr&gt;</th></tr>\n",
       "</thead>\n",
       "<tbody>\n",
       "\t<tr><th scope=row>21816</th><td>CASSLFGTLNEQFF  </td><td>TRBV07-02</td><td>TRBJ02-01</td><td>NA</td><td>Emerson:P00015_1</td><td>34</td><td>Emerson:P00015</td></tr>\n",
       "\t<tr><th scope=row>21817</th><td>CASSSGQGGDEQFF  </td><td>TRBV05-04</td><td>TRBJ02-01</td><td>NA</td><td>Emerson:P00015_2</td><td>23</td><td>Emerson:P00015</td></tr>\n",
       "\t<tr><th scope=row>21818</th><td>CASSGDRRVGQPQHF </td><td>TRBV19-01</td><td>TRBJ01-05</td><td>NA</td><td>Emerson:P00015_3</td><td>27</td><td>Emerson:P00015</td></tr>\n",
       "\t<tr><th scope=row>21819</th><td>CASSDSPDYEQYF   </td><td>TRBV06-01</td><td>TRBJ02-07</td><td>NA</td><td>Emerson:P00015_4</td><td>56</td><td>Emerson:P00015</td></tr>\n",
       "\t<tr><th scope=row>21820</th><td>CASSYSTSLSSYEQYF</td><td>TRBV06   </td><td>TRBJ02-07</td><td>NA</td><td>Emerson:P00015_5</td><td>43</td><td>Emerson:P00015</td></tr>\n",
       "\t<tr><th scope=row>21821</th><td>CASSDDRGRSEKLFF </td><td>TRBV25-01</td><td>TRBJ01-04</td><td>NA</td><td>Emerson:P00015_6</td><td>33</td><td>Emerson:P00015</td></tr>\n",
       "</tbody>\n",
       "</table>\n"
      ],
      "text/latex": [
       "A data.frame: 6 x 7\n",
       "\\begin{tabular}{r|lllllll}\n",
       "  & CDR3b & TRBV & TRBJ & CDR3a & subject.condition & count & subject\\\\\n",
       "  & <chr> & <chr> & <chr> & <lgl> & <chr> & <dbl> & <chr>\\\\\n",
       "\\hline\n",
       "\t21816 & CASSLFGTLNEQFF   & TRBV07-02 & TRBJ02-01 & NA & Emerson:P00015\\_1 & 34 & Emerson:P00015\\\\\n",
       "\t21817 & CASSSGQGGDEQFF   & TRBV05-04 & TRBJ02-01 & NA & Emerson:P00015\\_2 & 23 & Emerson:P00015\\\\\n",
       "\t21818 & CASSGDRRVGQPQHF  & TRBV19-01 & TRBJ01-05 & NA & Emerson:P00015\\_3 & 27 & Emerson:P00015\\\\\n",
       "\t21819 & CASSDSPDYEQYF    & TRBV06-01 & TRBJ02-07 & NA & Emerson:P00015\\_4 & 56 & Emerson:P00015\\\\\n",
       "\t21820 & CASSYSTSLSSYEQYF & TRBV06    & TRBJ02-07 & NA & Emerson:P00015\\_5 & 43 & Emerson:P00015\\\\\n",
       "\t21821 & CASSDDRGRSEKLFF  & TRBV25-01 & TRBJ01-04 & NA & Emerson:P00015\\_6 & 33 & Emerson:P00015\\\\\n",
       "\\end{tabular}\n"
      ],
      "text/markdown": [
       "\n",
       "A data.frame: 6 x 7\n",
       "\n",
       "| <!--/--> | CDR3b &lt;chr&gt; | TRBV &lt;chr&gt; | TRBJ &lt;chr&gt; | CDR3a &lt;lgl&gt; | subject.condition &lt;chr&gt; | count &lt;dbl&gt; | subject &lt;chr&gt; |\n",
       "|---|---|---|---|---|---|---|---|\n",
       "| 21816 | CASSLFGTLNEQFF   | TRBV07-02 | TRBJ02-01 | NA | Emerson:P00015_1 | 34 | Emerson:P00015 |\n",
       "| 21817 | CASSSGQGGDEQFF   | TRBV05-04 | TRBJ02-01 | NA | Emerson:P00015_2 | 23 | Emerson:P00015 |\n",
       "| 21818 | CASSGDRRVGQPQHF  | TRBV19-01 | TRBJ01-05 | NA | Emerson:P00015_3 | 27 | Emerson:P00015 |\n",
       "| 21819 | CASSDSPDYEQYF    | TRBV06-01 | TRBJ02-07 | NA | Emerson:P00015_4 | 56 | Emerson:P00015 |\n",
       "| 21820 | CASSYSTSLSSYEQYF | TRBV06    | TRBJ02-07 | NA | Emerson:P00015_5 | 43 | Emerson:P00015 |\n",
       "| 21821 | CASSDDRGRSEKLFF  | TRBV25-01 | TRBJ01-04 | NA | Emerson:P00015_6 | 33 | Emerson:P00015 |\n",
       "\n"
      ],
      "text/plain": [
       "      CDR3b            TRBV      TRBJ      CDR3a subject.condition count\n",
       "21816 CASSLFGTLNEQFF   TRBV07-02 TRBJ02-01 NA    Emerson:P00015_1  34   \n",
       "21817 CASSSGQGGDEQFF   TRBV05-04 TRBJ02-01 NA    Emerson:P00015_2  23   \n",
       "21818 CASSGDRRVGQPQHF  TRBV19-01 TRBJ01-05 NA    Emerson:P00015_3  27   \n",
       "21819 CASSDSPDYEQYF    TRBV06-01 TRBJ02-07 NA    Emerson:P00015_4  56   \n",
       "21820 CASSYSTSLSSYEQYF TRBV06    TRBJ02-07 NA    Emerson:P00015_5  43   \n",
       "21821 CASSDDRGRSEKLFF  TRBV25-01 TRBJ01-04 NA    Emerson:P00015_6  33   \n",
       "      subject       \n",
       "21816 Emerson:P00015\n",
       "21817 Emerson:P00015\n",
       "21818 Emerson:P00015\n",
       "21819 Emerson:P00015\n",
       "21820 Emerson:P00015\n",
       "21821 Emerson:P00015"
      ]
     },
     "metadata": {},
     "output_type": "display_data"
    }
   ],
   "source": [
    "head(gliphin_emerson_samples)"
   ]
  },
  {
   "cell_type": "code",
   "execution_count": 130,
   "metadata": {
    "vscode": {
     "languageId": "r"
    }
   },
   "outputs": [],
   "source": [
    "mytab <- gliphin_emerson_samples %>% group_by(subject) %>% summarise(n = n())\n",
    "mytab1 <- gliphin_emerson_samples %>% group_by(subject) %>% summarise(SumCount = sum(count))"
   ]
  },
  {
   "cell_type": "code",
   "execution_count": 131,
   "metadata": {
    "vscode": {
     "languageId": "r"
    }
   },
   "outputs": [
    {
     "data": {
      "text/html": [
       "<table class=\"dataframe\">\n",
       "<caption>A tibble: 6 x 2</caption>\n",
       "<thead>\n",
       "\t<tr><th scope=col>subject</th><th scope=col>SumCount</th></tr>\n",
       "\t<tr><th scope=col>&lt;chr&gt;</th><th scope=col>&lt;dbl&gt;</th></tr>\n",
       "</thead>\n",
       "<tbody>\n",
       "\t<tr><td>Emerson:P00015</td><td>10948</td></tr>\n",
       "\t<tr><td>Emerson:P00023</td><td> 2726</td></tr>\n",
       "\t<tr><td>Emerson:P00091</td><td> 8596</td></tr>\n",
       "\t<tr><td>Emerson:P00092</td><td> 4968</td></tr>\n",
       "\t<tr><td>Emerson:P00171</td><td>   46</td></tr>\n",
       "\t<tr><td>Emerson:P00183</td><td> 4797</td></tr>\n",
       "</tbody>\n",
       "</table>\n"
      ],
      "text/latex": [
       "A tibble: 6 x 2\n",
       "\\begin{tabular}{ll}\n",
       " subject & SumCount\\\\\n",
       " <chr> & <dbl>\\\\\n",
       "\\hline\n",
       "\t Emerson:P00015 & 10948\\\\\n",
       "\t Emerson:P00023 &  2726\\\\\n",
       "\t Emerson:P00091 &  8596\\\\\n",
       "\t Emerson:P00092 &  4968\\\\\n",
       "\t Emerson:P00171 &    46\\\\\n",
       "\t Emerson:P00183 &  4797\\\\\n",
       "\\end{tabular}\n"
      ],
      "text/markdown": [
       "\n",
       "A tibble: 6 x 2\n",
       "\n",
       "| subject &lt;chr&gt; | SumCount &lt;dbl&gt; |\n",
       "|---|---|\n",
       "| Emerson:P00015 | 10948 |\n",
       "| Emerson:P00023 |  2726 |\n",
       "| Emerson:P00091 |  8596 |\n",
       "| Emerson:P00092 |  4968 |\n",
       "| Emerson:P00171 |    46 |\n",
       "| Emerson:P00183 |  4797 |\n",
       "\n"
      ],
      "text/plain": [
       "  subject        SumCount\n",
       "1 Emerson:P00015 10948   \n",
       "2 Emerson:P00023  2726   \n",
       "3 Emerson:P00091  8596   \n",
       "4 Emerson:P00092  4968   \n",
       "5 Emerson:P00171    46   \n",
       "6 Emerson:P00183  4797   "
      ]
     },
     "metadata": {},
     "output_type": "display_data"
    }
   ],
   "source": [
    "head(mytab1)"
   ]
  },
  {
   "cell_type": "code",
   "execution_count": 132,
   "metadata": {
    "vscode": {
     "languageId": "r"
    }
   },
   "outputs": [],
   "source": [
    "samples_tcr$n_cdr3 <- mytab$n[ match(rownames(samples_tcr), mytab$subject) ]\n",
    "samples_tcr$cdr3_reads <- mytab1$SumCount[ match(rownames(samples_tcr), mytab1$subject) ]"
   ]
  },
  {
   "cell_type": "code",
   "execution_count": 133,
   "metadata": {
    "vscode": {
     "languageId": "r"
    }
   },
   "outputs": [
    {
     "data": {
      "text/html": [
       "<table class=\"dataframe\">\n",
       "<caption>A data.frame: 6 x 14</caption>\n",
       "<thead>\n",
       "\t<tr><th></th><th scope=col>CMV</th><th scope=col>EBV</th><th scope=col>HCV</th><th scope=col>Influenza</th><th scope=col>HomoSapiens</th><th scope=col>MDavis</th><th scope=col>HPV</th><th scope=col>CEF</th><th scope=col>TB</th><th scope=col>MCPyV</th><th scope=col>SP</th><th scope=col>DENV</th><th scope=col>n_cdr3</th><th scope=col>cdr3_reads</th></tr>\n",
       "\t<tr><th></th><th scope=col>&lt;dbl&gt;</th><th scope=col>&lt;dbl&gt;</th><th scope=col>&lt;dbl&gt;</th><th scope=col>&lt;dbl&gt;</th><th scope=col>&lt;dbl&gt;</th><th scope=col>&lt;dbl&gt;</th><th scope=col>&lt;dbl&gt;</th><th scope=col>&lt;dbl&gt;</th><th scope=col>&lt;dbl&gt;</th><th scope=col>&lt;dbl&gt;</th><th scope=col>&lt;dbl&gt;</th><th scope=col>&lt;dbl&gt;</th><th scope=col>&lt;int&gt;</th><th scope=col>&lt;dbl&gt;</th></tr>\n",
       "</thead>\n",
       "<tbody>\n",
       "\t<tr><th scope=row>Emerson:P00015</th><td>2</td><td>2</td><td>1</td><td>0</td><td> 7</td><td>387</td><td>1</td><td>0</td><td>0</td><td>0</td><td>0</td><td>0</td><td>314</td><td>10948</td></tr>\n",
       "\t<tr><th scope=row>Emerson:P00023</th><td>0</td><td>0</td><td>0</td><td>0</td><td> 1</td><td>111</td><td>0</td><td>0</td><td>0</td><td>0</td><td>0</td><td>0</td><td> 82</td><td> 2726</td></tr>\n",
       "\t<tr><th scope=row>Emerson:P00091</th><td>9</td><td>3</td><td>2</td><td>0</td><td>23</td><td>637</td><td>1</td><td>1</td><td>0</td><td>7</td><td>0</td><td>0</td><td>504</td><td> 8596</td></tr>\n",
       "\t<tr><th scope=row>Emerson:P00092</th><td>4</td><td>1</td><td>0</td><td>1</td><td> 5</td><td>253</td><td>1</td><td>1</td><td>0</td><td>2</td><td>0</td><td>0</td><td>205</td><td> 4968</td></tr>\n",
       "\t<tr><th scope=row>Emerson:P00171</th><td>0</td><td>0</td><td>0</td><td>0</td><td> 0</td><td>  2</td><td>0</td><td>0</td><td>0</td><td>0</td><td>0</td><td>0</td><td>  3</td><td>   46</td></tr>\n",
       "\t<tr><th scope=row>Emerson:P00183</th><td>3</td><td>3</td><td>1</td><td>0</td><td> 8</td><td>452</td><td>1</td><td>0</td><td>0</td><td>2</td><td>0</td><td>0</td><td>252</td><td> 4797</td></tr>\n",
       "</tbody>\n",
       "</table>\n"
      ],
      "text/latex": [
       "A data.frame: 6 x 14\n",
       "\\begin{tabular}{r|llllllllllllll}\n",
       "  & CMV & EBV & HCV & Influenza & HomoSapiens & MDavis & HPV & CEF & TB & MCPyV & SP & DENV & n\\_cdr3 & cdr3\\_reads\\\\\n",
       "  & <dbl> & <dbl> & <dbl> & <dbl> & <dbl> & <dbl> & <dbl> & <dbl> & <dbl> & <dbl> & <dbl> & <dbl> & <int> & <dbl>\\\\\n",
       "\\hline\n",
       "\tEmerson:P00015 & 2 & 2 & 1 & 0 &  7 & 387 & 1 & 0 & 0 & 0 & 0 & 0 & 314 & 10948\\\\\n",
       "\tEmerson:P00023 & 0 & 0 & 0 & 0 &  1 & 111 & 0 & 0 & 0 & 0 & 0 & 0 &  82 &  2726\\\\\n",
       "\tEmerson:P00091 & 9 & 3 & 2 & 0 & 23 & 637 & 1 & 1 & 0 & 7 & 0 & 0 & 504 &  8596\\\\\n",
       "\tEmerson:P00092 & 4 & 1 & 0 & 1 &  5 & 253 & 1 & 1 & 0 & 2 & 0 & 0 & 205 &  4968\\\\\n",
       "\tEmerson:P00171 & 0 & 0 & 0 & 0 &  0 &   2 & 0 & 0 & 0 & 0 & 0 & 0 &   3 &    46\\\\\n",
       "\tEmerson:P00183 & 3 & 3 & 1 & 0 &  8 & 452 & 1 & 0 & 0 & 2 & 0 & 0 & 252 &  4797\\\\\n",
       "\\end{tabular}\n"
      ],
      "text/markdown": [
       "\n",
       "A data.frame: 6 x 14\n",
       "\n",
       "| <!--/--> | CMV &lt;dbl&gt; | EBV &lt;dbl&gt; | HCV &lt;dbl&gt; | Influenza &lt;dbl&gt; | HomoSapiens &lt;dbl&gt; | MDavis &lt;dbl&gt; | HPV &lt;dbl&gt; | CEF &lt;dbl&gt; | TB &lt;dbl&gt; | MCPyV &lt;dbl&gt; | SP &lt;dbl&gt; | DENV &lt;dbl&gt; | n_cdr3 &lt;int&gt; | cdr3_reads &lt;dbl&gt; |\n",
       "|---|---|---|---|---|---|---|---|---|---|---|---|---|---|---|\n",
       "| Emerson:P00015 | 2 | 2 | 1 | 0 |  7 | 387 | 1 | 0 | 0 | 0 | 0 | 0 | 314 | 10948 |\n",
       "| Emerson:P00023 | 0 | 0 | 0 | 0 |  1 | 111 | 0 | 0 | 0 | 0 | 0 | 0 |  82 |  2726 |\n",
       "| Emerson:P00091 | 9 | 3 | 2 | 0 | 23 | 637 | 1 | 1 | 0 | 7 | 0 | 0 | 504 |  8596 |\n",
       "| Emerson:P00092 | 4 | 1 | 0 | 1 |  5 | 253 | 1 | 1 | 0 | 2 | 0 | 0 | 205 |  4968 |\n",
       "| Emerson:P00171 | 0 | 0 | 0 | 0 |  0 |   2 | 0 | 0 | 0 | 0 | 0 | 0 |   3 |    46 |\n",
       "| Emerson:P00183 | 3 | 3 | 1 | 0 |  8 | 452 | 1 | 0 | 0 | 2 | 0 | 0 | 252 |  4797 |\n",
       "\n"
      ],
      "text/plain": [
       "               CMV EBV HCV Influenza HomoSapiens MDavis HPV CEF TB MCPyV SP\n",
       "Emerson:P00015 2   2   1   0          7          387    1   0   0  0     0 \n",
       "Emerson:P00023 0   0   0   0          1          111    0   0   0  0     0 \n",
       "Emerson:P00091 9   3   2   0         23          637    1   1   0  7     0 \n",
       "Emerson:P00092 4   1   0   1          5          253    1   1   0  2     0 \n",
       "Emerson:P00171 0   0   0   0          0            2    0   0   0  0     0 \n",
       "Emerson:P00183 3   3   1   0          8          452    1   0   0  2     0 \n",
       "               DENV n_cdr3 cdr3_reads\n",
       "Emerson:P00015 0    314    10948     \n",
       "Emerson:P00023 0     82     2726     \n",
       "Emerson:P00091 0    504     8596     \n",
       "Emerson:P00092 0    205     4968     \n",
       "Emerson:P00171 0      3       46     \n",
       "Emerson:P00183 0    252     4797     "
      ]
     },
     "metadata": {},
     "output_type": "display_data"
    }
   ],
   "source": [
    "head(samples_tcr)"
   ]
  },
  {
   "cell_type": "code",
   "execution_count": 134,
   "metadata": {
    "vscode": {
     "languageId": "r"
    }
   },
   "outputs": [],
   "source": [
    "# get the matrix of GLIPH x samples\n",
    "pat_type <- as.data.frame.matrix(table(gliphout_emerson %>% select(pattern, Sample)))"
   ]
  },
  {
   "cell_type": "code",
   "execution_count": 135,
   "metadata": {
    "vscode": {
     "languageId": "r"
    }
   },
   "outputs": [],
   "source": [
    "pat_type <- pat_type[, grepl(\"Emerson\", colnames(pat_type))]"
   ]
  },
  {
   "cell_type": "code",
   "execution_count": 136,
   "metadata": {
    "vscode": {
     "languageId": "r"
    }
   },
   "outputs": [
    {
     "data": {
      "text/html": [
       "<table class=\"dataframe\">\n",
       "<caption>A data.frame: 6 x 21</caption>\n",
       "<thead>\n",
       "\t<tr><th></th><th scope=col>Emerson:P00015</th><th scope=col>Emerson:P00023</th><th scope=col>Emerson:P00091</th><th scope=col>Emerson:P00092</th><th scope=col>Emerson:P00171</th><th scope=col>Emerson:P00183</th><th scope=col>Emerson:P00185</th><th scope=col>Emerson:P00245</th><th scope=col>Emerson:P00307</th><th scope=col>Emerson:P00332</th><th scope=col>...</th><th scope=col>Emerson:P00397</th><th scope=col>Emerson:P00404</th><th scope=col>Emerson:P00423</th><th scope=col>Emerson:P00425</th><th scope=col>Emerson:P00446</th><th scope=col>Emerson:P00454</th><th scope=col>Emerson:P00540</th><th scope=col>Emerson:P00564</th><th scope=col>Emerson:P00629</th><th scope=col>Emerson:P00634</th></tr>\n",
       "\t<tr><th></th><th scope=col>&lt;int&gt;</th><th scope=col>&lt;int&gt;</th><th scope=col>&lt;int&gt;</th><th scope=col>&lt;int&gt;</th><th scope=col>&lt;int&gt;</th><th scope=col>&lt;int&gt;</th><th scope=col>&lt;int&gt;</th><th scope=col>&lt;int&gt;</th><th scope=col>&lt;int&gt;</th><th scope=col>&lt;int&gt;</th><th scope=col>...</th><th scope=col>&lt;int&gt;</th><th scope=col>&lt;int&gt;</th><th scope=col>&lt;int&gt;</th><th scope=col>&lt;int&gt;</th><th scope=col>&lt;int&gt;</th><th scope=col>&lt;int&gt;</th><th scope=col>&lt;int&gt;</th><th scope=col>&lt;int&gt;</th><th scope=col>&lt;int&gt;</th><th scope=col>&lt;int&gt;</th></tr>\n",
       "</thead>\n",
       "<tbody>\n",
       "\t<tr><th scope=row>%AAGYG</th><td>0</td><td>0</td><td>0</td><td>0</td><td>0</td><td>0</td><td>0</td><td>0</td><td>0</td><td>0</td><td>...</td><td>0</td><td>0</td><td>0</td><td>0</td><td>0</td><td>0</td><td>1</td><td>0</td><td>0</td><td>0</td></tr>\n",
       "\t<tr><th scope=row>%AGGAYG</th><td>0</td><td>0</td><td>0</td><td>0</td><td>0</td><td>0</td><td>0</td><td>0</td><td>0</td><td>0</td><td>...</td><td>0</td><td>0</td><td>0</td><td>0</td><td>0</td><td>0</td><td>0</td><td>0</td><td>0</td><td>0</td></tr>\n",
       "\t<tr><th scope=row>%AGGGYE</th><td>0</td><td>0</td><td>0</td><td>0</td><td>0</td><td>0</td><td>0</td><td>0</td><td>0</td><td>0</td><td>...</td><td>0</td><td>0</td><td>0</td><td>0</td><td>0</td><td>0</td><td>0</td><td>0</td><td>0</td><td>0</td></tr>\n",
       "\t<tr><th scope=row>%AGGNTE</th><td>0</td><td>0</td><td>0</td><td>0</td><td>0</td><td>0</td><td>0</td><td>0</td><td>0</td><td>0</td><td>...</td><td>0</td><td>0</td><td>0</td><td>0</td><td>0</td><td>0</td><td>0</td><td>0</td><td>0</td><td>0</td></tr>\n",
       "\t<tr><th scope=row>%AGGPNTE</th><td>0</td><td>0</td><td>0</td><td>0</td><td>0</td><td>0</td><td>0</td><td>0</td><td>0</td><td>0</td><td>...</td><td>0</td><td>0</td><td>0</td><td>0</td><td>0</td><td>0</td><td>0</td><td>0</td><td>0</td><td>0</td></tr>\n",
       "\t<tr><th scope=row>%AGGPTDT</th><td>0</td><td>0</td><td>0</td><td>0</td><td>0</td><td>0</td><td>0</td><td>0</td><td>0</td><td>0</td><td>...</td><td>0</td><td>1</td><td>0</td><td>0</td><td>0</td><td>0</td><td>0</td><td>0</td><td>0</td><td>0</td></tr>\n",
       "</tbody>\n",
       "</table>\n"
      ],
      "text/latex": [
       "A data.frame: 6 x 21\n",
       "\\begin{tabular}{r|lllllllllllllllllllll}\n",
       "  & Emerson:P00015 & Emerson:P00023 & Emerson:P00091 & Emerson:P00092 & Emerson:P00171 & Emerson:P00183 & Emerson:P00185 & Emerson:P00245 & Emerson:P00307 & Emerson:P00332 & ... & Emerson:P00397 & Emerson:P00404 & Emerson:P00423 & Emerson:P00425 & Emerson:P00446 & Emerson:P00454 & Emerson:P00540 & Emerson:P00564 & Emerson:P00629 & Emerson:P00634\\\\\n",
       "  & <int> & <int> & <int> & <int> & <int> & <int> & <int> & <int> & <int> & <int> & ... & <int> & <int> & <int> & <int> & <int> & <int> & <int> & <int> & <int> & <int>\\\\\n",
       "\\hline\n",
       "\t\\%AAGYG & 0 & 0 & 0 & 0 & 0 & 0 & 0 & 0 & 0 & 0 & ... & 0 & 0 & 0 & 0 & 0 & 0 & 1 & 0 & 0 & 0\\\\\n",
       "\t\\%AGGAYG & 0 & 0 & 0 & 0 & 0 & 0 & 0 & 0 & 0 & 0 & ... & 0 & 0 & 0 & 0 & 0 & 0 & 0 & 0 & 0 & 0\\\\\n",
       "\t\\%AGGGYE & 0 & 0 & 0 & 0 & 0 & 0 & 0 & 0 & 0 & 0 & ... & 0 & 0 & 0 & 0 & 0 & 0 & 0 & 0 & 0 & 0\\\\\n",
       "\t\\%AGGNTE & 0 & 0 & 0 & 0 & 0 & 0 & 0 & 0 & 0 & 0 & ... & 0 & 0 & 0 & 0 & 0 & 0 & 0 & 0 & 0 & 0\\\\\n",
       "\t\\%AGGPNTE & 0 & 0 & 0 & 0 & 0 & 0 & 0 & 0 & 0 & 0 & ... & 0 & 0 & 0 & 0 & 0 & 0 & 0 & 0 & 0 & 0\\\\\n",
       "\t\\%AGGPTDT & 0 & 0 & 0 & 0 & 0 & 0 & 0 & 0 & 0 & 0 & ... & 0 & 1 & 0 & 0 & 0 & 0 & 0 & 0 & 0 & 0\\\\\n",
       "\\end{tabular}\n"
      ],
      "text/markdown": [
       "\n",
       "A data.frame: 6 x 21\n",
       "\n",
       "| <!--/--> | Emerson:P00015 &lt;int&gt; | Emerson:P00023 &lt;int&gt; | Emerson:P00091 &lt;int&gt; | Emerson:P00092 &lt;int&gt; | Emerson:P00171 &lt;int&gt; | Emerson:P00183 &lt;int&gt; | Emerson:P00185 &lt;int&gt; | Emerson:P00245 &lt;int&gt; | Emerson:P00307 &lt;int&gt; | Emerson:P00332 &lt;int&gt; | ... ... | Emerson:P00397 &lt;int&gt; | Emerson:P00404 &lt;int&gt; | Emerson:P00423 &lt;int&gt; | Emerson:P00425 &lt;int&gt; | Emerson:P00446 &lt;int&gt; | Emerson:P00454 &lt;int&gt; | Emerson:P00540 &lt;int&gt; | Emerson:P00564 &lt;int&gt; | Emerson:P00629 &lt;int&gt; | Emerson:P00634 &lt;int&gt; |\n",
       "|---|---|---|---|---|---|---|---|---|---|---|---|---|---|---|---|---|---|---|---|---|---|\n",
       "| %AAGYG | 0 | 0 | 0 | 0 | 0 | 0 | 0 | 0 | 0 | 0 | ... | 0 | 0 | 0 | 0 | 0 | 0 | 1 | 0 | 0 | 0 |\n",
       "| %AGGAYG | 0 | 0 | 0 | 0 | 0 | 0 | 0 | 0 | 0 | 0 | ... | 0 | 0 | 0 | 0 | 0 | 0 | 0 | 0 | 0 | 0 |\n",
       "| %AGGGYE | 0 | 0 | 0 | 0 | 0 | 0 | 0 | 0 | 0 | 0 | ... | 0 | 0 | 0 | 0 | 0 | 0 | 0 | 0 | 0 | 0 |\n",
       "| %AGGNTE | 0 | 0 | 0 | 0 | 0 | 0 | 0 | 0 | 0 | 0 | ... | 0 | 0 | 0 | 0 | 0 | 0 | 0 | 0 | 0 | 0 |\n",
       "| %AGGPNTE | 0 | 0 | 0 | 0 | 0 | 0 | 0 | 0 | 0 | 0 | ... | 0 | 0 | 0 | 0 | 0 | 0 | 0 | 0 | 0 | 0 |\n",
       "| %AGGPTDT | 0 | 0 | 0 | 0 | 0 | 0 | 0 | 0 | 0 | 0 | ... | 0 | 1 | 0 | 0 | 0 | 0 | 0 | 0 | 0 | 0 |\n",
       "\n"
      ],
      "text/plain": [
       "         Emerson:P00015 Emerson:P00023 Emerson:P00091 Emerson:P00092\n",
       "%AAGYG   0              0              0              0             \n",
       "%AGGAYG  0              0              0              0             \n",
       "%AGGGYE  0              0              0              0             \n",
       "%AGGNTE  0              0              0              0             \n",
       "%AGGPNTE 0              0              0              0             \n",
       "%AGGPTDT 0              0              0              0             \n",
       "         Emerson:P00171 Emerson:P00183 Emerson:P00185 Emerson:P00245\n",
       "%AAGYG   0              0              0              0             \n",
       "%AGGAYG  0              0              0              0             \n",
       "%AGGGYE  0              0              0              0             \n",
       "%AGGNTE  0              0              0              0             \n",
       "%AGGPNTE 0              0              0              0             \n",
       "%AGGPTDT 0              0              0              0             \n",
       "         Emerson:P00307 Emerson:P00332 ... Emerson:P00397 Emerson:P00404\n",
       "%AAGYG   0              0              ... 0              0             \n",
       "%AGGAYG  0              0              ... 0              0             \n",
       "%AGGGYE  0              0              ... 0              0             \n",
       "%AGGNTE  0              0              ... 0              0             \n",
       "%AGGPNTE 0              0              ... 0              0             \n",
       "%AGGPTDT 0              0              ... 0              1             \n",
       "         Emerson:P00423 Emerson:P00425 Emerson:P00446 Emerson:P00454\n",
       "%AAGYG   0              0              0              0             \n",
       "%AGGAYG  0              0              0              0             \n",
       "%AGGGYE  0              0              0              0             \n",
       "%AGGNTE  0              0              0              0             \n",
       "%AGGPNTE 0              0              0              0             \n",
       "%AGGPTDT 0              0              0              0             \n",
       "         Emerson:P00540 Emerson:P00564 Emerson:P00629 Emerson:P00634\n",
       "%AAGYG   1              0              0              0             \n",
       "%AGGAYG  0              0              0              0             \n",
       "%AGGGYE  0              0              0              0             \n",
       "%AGGNTE  0              0              0              0             \n",
       "%AGGPNTE 0              0              0              0             \n",
       "%AGGPTDT 0              0              0              0             "
      ]
     },
     "metadata": {},
     "output_type": "display_data"
    }
   ],
   "source": [
    "head(pat_type)"
   ]
  },
  {
   "cell_type": "code",
   "execution_count": 137,
   "metadata": {
    "vscode": {
     "languageId": "r"
    }
   },
   "outputs": [],
   "source": [
    "pat_type[ pat_type > 0] <- 1 # sometimes for one sample there are two CDR3s grouped in one cluster, recode to 1 to count once"
   ]
  },
  {
   "cell_type": "code",
   "execution_count": 138,
   "metadata": {
    "vscode": {
     "languageId": "r"
    }
   },
   "outputs": [],
   "source": [
    "# fill n_gliph for each samples\n",
    "n_gliph <- colSums(pat_type)"
   ]
  },
  {
   "cell_type": "code",
   "execution_count": 139,
   "metadata": {
    "vscode": {
     "languageId": "r"
    }
   },
   "outputs": [],
   "source": [
    "samples_tcr$n_gliph <- n_gliph[ match(rownames(samples_tcr), names(n_gliph)) ]"
   ]
  },
  {
   "cell_type": "code",
   "execution_count": 140,
   "metadata": {
    "vscode": {
     "languageId": "r"
    }
   },
   "outputs": [
    {
     "data": {
      "text/html": [
       "<table class=\"dataframe\">\n",
       "<caption>A data.frame: 6 x 15</caption>\n",
       "<thead>\n",
       "\t<tr><th></th><th scope=col>CMV</th><th scope=col>EBV</th><th scope=col>HCV</th><th scope=col>Influenza</th><th scope=col>HomoSapiens</th><th scope=col>MDavis</th><th scope=col>HPV</th><th scope=col>CEF</th><th scope=col>TB</th><th scope=col>MCPyV</th><th scope=col>SP</th><th scope=col>DENV</th><th scope=col>n_cdr3</th><th scope=col>cdr3_reads</th><th scope=col>n_gliph</th></tr>\n",
       "\t<tr><th></th><th scope=col>&lt;dbl&gt;</th><th scope=col>&lt;dbl&gt;</th><th scope=col>&lt;dbl&gt;</th><th scope=col>&lt;dbl&gt;</th><th scope=col>&lt;dbl&gt;</th><th scope=col>&lt;dbl&gt;</th><th scope=col>&lt;dbl&gt;</th><th scope=col>&lt;dbl&gt;</th><th scope=col>&lt;dbl&gt;</th><th scope=col>&lt;dbl&gt;</th><th scope=col>&lt;dbl&gt;</th><th scope=col>&lt;dbl&gt;</th><th scope=col>&lt;int&gt;</th><th scope=col>&lt;dbl&gt;</th><th scope=col>&lt;dbl&gt;</th></tr>\n",
       "</thead>\n",
       "<tbody>\n",
       "\t<tr><th scope=row>Emerson:P00015</th><td>2</td><td>2</td><td>1</td><td>0</td><td> 7</td><td>387</td><td>1</td><td>0</td><td>0</td><td>0</td><td>0</td><td>0</td><td>314</td><td>10948</td><td>168</td></tr>\n",
       "\t<tr><th scope=row>Emerson:P00023</th><td>0</td><td>0</td><td>0</td><td>0</td><td> 1</td><td>111</td><td>0</td><td>0</td><td>0</td><td>0</td><td>0</td><td>0</td><td> 82</td><td> 2726</td><td> 41</td></tr>\n",
       "\t<tr><th scope=row>Emerson:P00091</th><td>9</td><td>3</td><td>2</td><td>0</td><td>23</td><td>637</td><td>1</td><td>1</td><td>0</td><td>7</td><td>0</td><td>0</td><td>504</td><td> 8596</td><td>275</td></tr>\n",
       "\t<tr><th scope=row>Emerson:P00092</th><td>4</td><td>1</td><td>0</td><td>1</td><td> 5</td><td>253</td><td>1</td><td>1</td><td>0</td><td>2</td><td>0</td><td>0</td><td>205</td><td> 4968</td><td> 96</td></tr>\n",
       "\t<tr><th scope=row>Emerson:P00171</th><td>0</td><td>0</td><td>0</td><td>0</td><td> 0</td><td>  2</td><td>0</td><td>0</td><td>0</td><td>0</td><td>0</td><td>0</td><td>  3</td><td>   46</td><td>  2</td></tr>\n",
       "\t<tr><th scope=row>Emerson:P00183</th><td>3</td><td>3</td><td>1</td><td>0</td><td> 8</td><td>452</td><td>1</td><td>0</td><td>0</td><td>2</td><td>0</td><td>0</td><td>252</td><td> 4797</td><td>147</td></tr>\n",
       "</tbody>\n",
       "</table>\n"
      ],
      "text/latex": [
       "A data.frame: 6 x 15\n",
       "\\begin{tabular}{r|lllllllllllllll}\n",
       "  & CMV & EBV & HCV & Influenza & HomoSapiens & MDavis & HPV & CEF & TB & MCPyV & SP & DENV & n\\_cdr3 & cdr3\\_reads & n\\_gliph\\\\\n",
       "  & <dbl> & <dbl> & <dbl> & <dbl> & <dbl> & <dbl> & <dbl> & <dbl> & <dbl> & <dbl> & <dbl> & <dbl> & <int> & <dbl> & <dbl>\\\\\n",
       "\\hline\n",
       "\tEmerson:P00015 & 2 & 2 & 1 & 0 &  7 & 387 & 1 & 0 & 0 & 0 & 0 & 0 & 314 & 10948 & 168\\\\\n",
       "\tEmerson:P00023 & 0 & 0 & 0 & 0 &  1 & 111 & 0 & 0 & 0 & 0 & 0 & 0 &  82 &  2726 &  41\\\\\n",
       "\tEmerson:P00091 & 9 & 3 & 2 & 0 & 23 & 637 & 1 & 1 & 0 & 7 & 0 & 0 & 504 &  8596 & 275\\\\\n",
       "\tEmerson:P00092 & 4 & 1 & 0 & 1 &  5 & 253 & 1 & 1 & 0 & 2 & 0 & 0 & 205 &  4968 &  96\\\\\n",
       "\tEmerson:P00171 & 0 & 0 & 0 & 0 &  0 &   2 & 0 & 0 & 0 & 0 & 0 & 0 &   3 &    46 &   2\\\\\n",
       "\tEmerson:P00183 & 3 & 3 & 1 & 0 &  8 & 452 & 1 & 0 & 0 & 2 & 0 & 0 & 252 &  4797 & 147\\\\\n",
       "\\end{tabular}\n"
      ],
      "text/markdown": [
       "\n",
       "A data.frame: 6 x 15\n",
       "\n",
       "| <!--/--> | CMV &lt;dbl&gt; | EBV &lt;dbl&gt; | HCV &lt;dbl&gt; | Influenza &lt;dbl&gt; | HomoSapiens &lt;dbl&gt; | MDavis &lt;dbl&gt; | HPV &lt;dbl&gt; | CEF &lt;dbl&gt; | TB &lt;dbl&gt; | MCPyV &lt;dbl&gt; | SP &lt;dbl&gt; | DENV &lt;dbl&gt; | n_cdr3 &lt;int&gt; | cdr3_reads &lt;dbl&gt; | n_gliph &lt;dbl&gt; |\n",
       "|---|---|---|---|---|---|---|---|---|---|---|---|---|---|---|---|\n",
       "| Emerson:P00015 | 2 | 2 | 1 | 0 |  7 | 387 | 1 | 0 | 0 | 0 | 0 | 0 | 314 | 10948 | 168 |\n",
       "| Emerson:P00023 | 0 | 0 | 0 | 0 |  1 | 111 | 0 | 0 | 0 | 0 | 0 | 0 |  82 |  2726 |  41 |\n",
       "| Emerson:P00091 | 9 | 3 | 2 | 0 | 23 | 637 | 1 | 1 | 0 | 7 | 0 | 0 | 504 |  8596 | 275 |\n",
       "| Emerson:P00092 | 4 | 1 | 0 | 1 |  5 | 253 | 1 | 1 | 0 | 2 | 0 | 0 | 205 |  4968 |  96 |\n",
       "| Emerson:P00171 | 0 | 0 | 0 | 0 |  0 |   2 | 0 | 0 | 0 | 0 | 0 | 0 |   3 |    46 |   2 |\n",
       "| Emerson:P00183 | 3 | 3 | 1 | 0 |  8 | 452 | 1 | 0 | 0 | 2 | 0 | 0 | 252 |  4797 | 147 |\n",
       "\n"
      ],
      "text/plain": [
       "               CMV EBV HCV Influenza HomoSapiens MDavis HPV CEF TB MCPyV SP\n",
       "Emerson:P00015 2   2   1   0          7          387    1   0   0  0     0 \n",
       "Emerson:P00023 0   0   0   0          1          111    0   0   0  0     0 \n",
       "Emerson:P00091 9   3   2   0         23          637    1   1   0  7     0 \n",
       "Emerson:P00092 4   1   0   1          5          253    1   1   0  2     0 \n",
       "Emerson:P00171 0   0   0   0          0            2    0   0   0  0     0 \n",
       "Emerson:P00183 3   3   1   0          8          452    1   0   0  2     0 \n",
       "               DENV n_cdr3 cdr3_reads n_gliph\n",
       "Emerson:P00015 0    314    10948      168    \n",
       "Emerson:P00023 0     82     2726       41    \n",
       "Emerson:P00091 0    504     8596      275    \n",
       "Emerson:P00092 0    205     4968       96    \n",
       "Emerson:P00171 0      3       46        2    \n",
       "Emerson:P00183 0    252     4797      147    "
      ]
     },
     "metadata": {},
     "output_type": "display_data"
    }
   ],
   "source": [
    "head(samples_tcr)"
   ]
  },
  {
   "cell_type": "code",
   "execution_count": 141,
   "metadata": {
    "vscode": {
     "languageId": "r"
    }
   },
   "outputs": [
    {
     "data": {
      "text/html": [
       "<style>\n",
       ".list-inline {list-style: none; margin:0; padding: 0}\n",
       ".list-inline>li {display: inline-block}\n",
       ".list-inline>li:not(:last-child)::after {content: \"\\00b7\"; padding: 0 .5ex}\n",
       "</style>\n",
       "<ol class=list-inline><li>'MDavis:DRB10401'</li><li>'MDavis:DRB10401'</li><li>'MDavis:DRB10401'</li><li>'MDavis:DRB10401'</li><li>'MDavis:DRB10401'</li><li>'Emerson:P00378'</li></ol>\n"
      ],
      "text/latex": [
       "\\begin{enumerate*}\n",
       "\\item 'MDavis:DRB10401'\n",
       "\\item 'MDavis:DRB10401'\n",
       "\\item 'MDavis:DRB10401'\n",
       "\\item 'MDavis:DRB10401'\n",
       "\\item 'MDavis:DRB10401'\n",
       "\\item 'Emerson:P00378'\n",
       "\\end{enumerate*}\n"
      ],
      "text/markdown": [
       "1. 'MDavis:DRB10401'\n",
       "2. 'MDavis:DRB10401'\n",
       "3. 'MDavis:DRB10401'\n",
       "4. 'MDavis:DRB10401'\n",
       "5. 'MDavis:DRB10401'\n",
       "6. 'Emerson:P00378'\n",
       "\n",
       "\n"
      ],
      "text/plain": [
       "[1] \"MDavis:DRB10401\" \"MDavis:DRB10401\" \"MDavis:DRB10401\" \"MDavis:DRB10401\"\n",
       "[5] \"MDavis:DRB10401\" \"Emerson:P00378\" "
      ]
     },
     "metadata": {},
     "output_type": "display_data"
    }
   ],
   "source": [
    "head(gliphout_emerson$Sample)"
   ]
  },
  {
   "cell_type": "code",
   "execution_count": 142,
   "metadata": {
    "vscode": {
     "languageId": "r"
    }
   },
   "outputs": [],
   "source": [
    "# get number of unique cdr3s used in gliph for each sample\n",
    "samples_tcr$n_cdr3ingliph <- NA\n",
    "samples_tcr$cdr3reads_ingliph <- NA\n",
    "for (i in 1:nrow(samples_tcr)) {\n",
    "    mysample <- gliphout_emerson[gliphout_emerson$Sample == rownames(samples_tcr)[i], ]\n",
    "    samples_tcr$n_cdr3ingliph[i] <- length(unique(mysample$TcRb))\n",
    "    samples_tcr$cdr3reads_ingliph[i] <- sum(mysample$Freq)\n",
    "}\n"
   ]
  },
  {
   "cell_type": "code",
   "execution_count": 143,
   "metadata": {
    "vscode": {
     "languageId": "r"
    }
   },
   "outputs": [
    {
     "data": {
      "text/html": [
       "<table class=\"dataframe\">\n",
       "<caption>A data.frame: 6 x 17</caption>\n",
       "<thead>\n",
       "\t<tr><th></th><th scope=col>CMV</th><th scope=col>EBV</th><th scope=col>HCV</th><th scope=col>Influenza</th><th scope=col>HomoSapiens</th><th scope=col>MDavis</th><th scope=col>HPV</th><th scope=col>CEF</th><th scope=col>TB</th><th scope=col>MCPyV</th><th scope=col>SP</th><th scope=col>DENV</th><th scope=col>n_cdr3</th><th scope=col>cdr3_reads</th><th scope=col>n_gliph</th><th scope=col>n_cdr3ingliph</th><th scope=col>cdr3reads_ingliph</th></tr>\n",
       "\t<tr><th></th><th scope=col>&lt;dbl&gt;</th><th scope=col>&lt;dbl&gt;</th><th scope=col>&lt;dbl&gt;</th><th scope=col>&lt;dbl&gt;</th><th scope=col>&lt;dbl&gt;</th><th scope=col>&lt;dbl&gt;</th><th scope=col>&lt;dbl&gt;</th><th scope=col>&lt;dbl&gt;</th><th scope=col>&lt;dbl&gt;</th><th scope=col>&lt;dbl&gt;</th><th scope=col>&lt;dbl&gt;</th><th scope=col>&lt;dbl&gt;</th><th scope=col>&lt;int&gt;</th><th scope=col>&lt;dbl&gt;</th><th scope=col>&lt;dbl&gt;</th><th scope=col>&lt;int&gt;</th><th scope=col>&lt;dbl&gt;</th></tr>\n",
       "</thead>\n",
       "<tbody>\n",
       "\t<tr><th scope=row>Emerson:P00015</th><td>2</td><td>2</td><td>1</td><td>0</td><td> 7</td><td>387</td><td>1</td><td>0</td><td>0</td><td>0</td><td>0</td><td>0</td><td>314</td><td>10948</td><td>168</td><td> 91</td><td>6341</td></tr>\n",
       "\t<tr><th scope=row>Emerson:P00023</th><td>0</td><td>0</td><td>0</td><td>0</td><td> 1</td><td>111</td><td>0</td><td>0</td><td>0</td><td>0</td><td>0</td><td>0</td><td> 82</td><td> 2726</td><td> 41</td><td> 24</td><td>1405</td></tr>\n",
       "\t<tr><th scope=row>Emerson:P00091</th><td>9</td><td>3</td><td>2</td><td>0</td><td>23</td><td>637</td><td>1</td><td>1</td><td>0</td><td>7</td><td>0</td><td>0</td><td>504</td><td> 8596</td><td>275</td><td>148</td><td>5119</td></tr>\n",
       "\t<tr><th scope=row>Emerson:P00092</th><td>4</td><td>1</td><td>0</td><td>1</td><td> 5</td><td>253</td><td>1</td><td>1</td><td>0</td><td>2</td><td>0</td><td>0</td><td>205</td><td> 4968</td><td> 96</td><td> 55</td><td>2370</td></tr>\n",
       "\t<tr><th scope=row>Emerson:P00171</th><td>0</td><td>0</td><td>0</td><td>0</td><td> 0</td><td>  2</td><td>0</td><td>0</td><td>0</td><td>0</td><td>0</td><td>0</td><td>  3</td><td>   46</td><td>  2</td><td>  1</td><td>  26</td></tr>\n",
       "\t<tr><th scope=row>Emerson:P00183</th><td>3</td><td>3</td><td>1</td><td>0</td><td> 8</td><td>452</td><td>1</td><td>0</td><td>0</td><td>2</td><td>0</td><td>0</td><td>252</td><td> 4797</td><td>147</td><td> 86</td><td>3061</td></tr>\n",
       "</tbody>\n",
       "</table>\n"
      ],
      "text/latex": [
       "A data.frame: 6 x 17\n",
       "\\begin{tabular}{r|lllllllllllllllll}\n",
       "  & CMV & EBV & HCV & Influenza & HomoSapiens & MDavis & HPV & CEF & TB & MCPyV & SP & DENV & n\\_cdr3 & cdr3\\_reads & n\\_gliph & n\\_cdr3ingliph & cdr3reads\\_ingliph\\\\\n",
       "  & <dbl> & <dbl> & <dbl> & <dbl> & <dbl> & <dbl> & <dbl> & <dbl> & <dbl> & <dbl> & <dbl> & <dbl> & <int> & <dbl> & <dbl> & <int> & <dbl>\\\\\n",
       "\\hline\n",
       "\tEmerson:P00015 & 2 & 2 & 1 & 0 &  7 & 387 & 1 & 0 & 0 & 0 & 0 & 0 & 314 & 10948 & 168 &  91 & 6341\\\\\n",
       "\tEmerson:P00023 & 0 & 0 & 0 & 0 &  1 & 111 & 0 & 0 & 0 & 0 & 0 & 0 &  82 &  2726 &  41 &  24 & 1405\\\\\n",
       "\tEmerson:P00091 & 9 & 3 & 2 & 0 & 23 & 637 & 1 & 1 & 0 & 7 & 0 & 0 & 504 &  8596 & 275 & 148 & 5119\\\\\n",
       "\tEmerson:P00092 & 4 & 1 & 0 & 1 &  5 & 253 & 1 & 1 & 0 & 2 & 0 & 0 & 205 &  4968 &  96 &  55 & 2370\\\\\n",
       "\tEmerson:P00171 & 0 & 0 & 0 & 0 &  0 &   2 & 0 & 0 & 0 & 0 & 0 & 0 &   3 &    46 &   2 &   1 &   26\\\\\n",
       "\tEmerson:P00183 & 3 & 3 & 1 & 0 &  8 & 452 & 1 & 0 & 0 & 2 & 0 & 0 & 252 &  4797 & 147 &  86 & 3061\\\\\n",
       "\\end{tabular}\n"
      ],
      "text/markdown": [
       "\n",
       "A data.frame: 6 x 17\n",
       "\n",
       "| <!--/--> | CMV &lt;dbl&gt; | EBV &lt;dbl&gt; | HCV &lt;dbl&gt; | Influenza &lt;dbl&gt; | HomoSapiens &lt;dbl&gt; | MDavis &lt;dbl&gt; | HPV &lt;dbl&gt; | CEF &lt;dbl&gt; | TB &lt;dbl&gt; | MCPyV &lt;dbl&gt; | SP &lt;dbl&gt; | DENV &lt;dbl&gt; | n_cdr3 &lt;int&gt; | cdr3_reads &lt;dbl&gt; | n_gliph &lt;dbl&gt; | n_cdr3ingliph &lt;int&gt; | cdr3reads_ingliph &lt;dbl&gt; |\n",
       "|---|---|---|---|---|---|---|---|---|---|---|---|---|---|---|---|---|---|\n",
       "| Emerson:P00015 | 2 | 2 | 1 | 0 |  7 | 387 | 1 | 0 | 0 | 0 | 0 | 0 | 314 | 10948 | 168 |  91 | 6341 |\n",
       "| Emerson:P00023 | 0 | 0 | 0 | 0 |  1 | 111 | 0 | 0 | 0 | 0 | 0 | 0 |  82 |  2726 |  41 |  24 | 1405 |\n",
       "| Emerson:P00091 | 9 | 3 | 2 | 0 | 23 | 637 | 1 | 1 | 0 | 7 | 0 | 0 | 504 |  8596 | 275 | 148 | 5119 |\n",
       "| Emerson:P00092 | 4 | 1 | 0 | 1 |  5 | 253 | 1 | 1 | 0 | 2 | 0 | 0 | 205 |  4968 |  96 |  55 | 2370 |\n",
       "| Emerson:P00171 | 0 | 0 | 0 | 0 |  0 |   2 | 0 | 0 | 0 | 0 | 0 | 0 |   3 |    46 |   2 |   1 |   26 |\n",
       "| Emerson:P00183 | 3 | 3 | 1 | 0 |  8 | 452 | 1 | 0 | 0 | 2 | 0 | 0 | 252 |  4797 | 147 |  86 | 3061 |\n",
       "\n"
      ],
      "text/plain": [
       "               CMV EBV HCV Influenza HomoSapiens MDavis HPV CEF TB MCPyV SP\n",
       "Emerson:P00015 2   2   1   0          7          387    1   0   0  0     0 \n",
       "Emerson:P00023 0   0   0   0          1          111    0   0   0  0     0 \n",
       "Emerson:P00091 9   3   2   0         23          637    1   1   0  7     0 \n",
       "Emerson:P00092 4   1   0   1          5          253    1   1   0  2     0 \n",
       "Emerson:P00171 0   0   0   0          0            2    0   0   0  0     0 \n",
       "Emerson:P00183 3   3   1   0          8          452    1   0   0  2     0 \n",
       "               DENV n_cdr3 cdr3_reads n_gliph n_cdr3ingliph cdr3reads_ingliph\n",
       "Emerson:P00015 0    314    10948      168      91           6341             \n",
       "Emerson:P00023 0     82     2726       41      24           1405             \n",
       "Emerson:P00091 0    504     8596      275     148           5119             \n",
       "Emerson:P00092 0    205     4968       96      55           2370             \n",
       "Emerson:P00171 0      3       46        2       1             26             \n",
       "Emerson:P00183 0    252     4797      147      86           3061             "
      ]
     },
     "metadata": {},
     "output_type": "display_data"
    }
   ],
   "source": [
    "head(samples_tcr)"
   ]
  },
  {
   "cell_type": "code",
   "execution_count": 144,
   "metadata": {
    "vscode": {
     "languageId": "r"
    }
   },
   "outputs": [],
   "source": [
    "samples_tcr$study <- \"Emerson_child\""
   ]
  },
  {
   "cell_type": "code",
   "execution_count": 145,
   "metadata": {
    "vscode": {
     "languageId": "r"
    }
   },
   "outputs": [
    {
     "data": {
      "text/html": [
       "<table class=\"dataframe\">\n",
       "<caption>A data.frame: 6 x 14</caption>\n",
       "<thead>\n",
       "\t<tr><th></th><th scope=col>gliph</th><th scope=col>CMV</th><th scope=col>EBV</th><th scope=col>HCV</th><th scope=col>Influenza</th><th scope=col>HomoSapiens</th><th scope=col>MDavis</th><th scope=col>HPV</th><th scope=col>CEF</th><th scope=col>TB</th><th scope=col>MCPyV</th><th scope=col>SP</th><th scope=col>DENV</th><th scope=col>n_unique_cdr3</th></tr>\n",
       "\t<tr><th></th><th scope=col>&lt;chr&gt;</th><th scope=col>&lt;dbl&gt;</th><th scope=col>&lt;dbl&gt;</th><th scope=col>&lt;dbl&gt;</th><th scope=col>&lt;dbl&gt;</th><th scope=col>&lt;dbl&gt;</th><th scope=col>&lt;dbl&gt;</th><th scope=col>&lt;dbl&gt;</th><th scope=col>&lt;dbl&gt;</th><th scope=col>&lt;dbl&gt;</th><th scope=col>&lt;dbl&gt;</th><th scope=col>&lt;dbl&gt;</th><th scope=col>&lt;dbl&gt;</th><th scope=col>&lt;int&gt;</th></tr>\n",
       "</thead>\n",
       "<tbody>\n",
       "\t<tr><th scope=row>SLG%E</th><td>SLG%E  </td><td>0</td><td>0</td><td>0</td><td>0</td><td>0</td><td>39</td><td>0</td><td>0</td><td>0</td><td>0</td><td>0</td><td>0</td><td>40</td></tr>\n",
       "\t<tr><th scope=row>S%GSGE</th><td>S%GSGE </td><td>0</td><td>0</td><td>0</td><td>0</td><td>0</td><td>32</td><td>0</td><td>0</td><td>0</td><td>0</td><td>0</td><td>0</td><td>33</td></tr>\n",
       "\t<tr><th scope=row>SLQG%E</th><td>SLQG%E </td><td>0</td><td>0</td><td>0</td><td>0</td><td>0</td><td>30</td><td>1</td><td>0</td><td>0</td><td>0</td><td>0</td><td>0</td><td>30</td></tr>\n",
       "\t<tr><th scope=row>S%SGANV</th><td>S%SGANV</td><td>0</td><td>0</td><td>0</td><td>0</td><td>0</td><td>34</td><td>0</td><td>0</td><td>0</td><td>0</td><td>0</td><td>0</td><td>34</td></tr>\n",
       "\t<tr><th scope=row>S%GGNTE</th><td>S%GGNTE</td><td>0</td><td>0</td><td>0</td><td>0</td><td>1</td><td>40</td><td>0</td><td>0</td><td>0</td><td>0</td><td>0</td><td>0</td><td>40</td></tr>\n",
       "\t<tr><th scope=row>S%TGNTE</th><td>S%TGNTE</td><td>0</td><td>0</td><td>0</td><td>0</td><td>0</td><td>34</td><td>0</td><td>0</td><td>0</td><td>0</td><td>0</td><td>0</td><td>34</td></tr>\n",
       "</tbody>\n",
       "</table>\n"
      ],
      "text/latex": [
       "A data.frame: 6 x 14\n",
       "\\begin{tabular}{r|llllllllllllll}\n",
       "  & gliph & CMV & EBV & HCV & Influenza & HomoSapiens & MDavis & HPV & CEF & TB & MCPyV & SP & DENV & n\\_unique\\_cdr3\\\\\n",
       "  & <chr> & <dbl> & <dbl> & <dbl> & <dbl> & <dbl> & <dbl> & <dbl> & <dbl> & <dbl> & <dbl> & <dbl> & <dbl> & <int>\\\\\n",
       "\\hline\n",
       "\tSLG\\%E & SLG\\%E   & 0 & 0 & 0 & 0 & 0 & 39 & 0 & 0 & 0 & 0 & 0 & 0 & 40\\\\\n",
       "\tS\\%GSGE & S\\%GSGE  & 0 & 0 & 0 & 0 & 0 & 32 & 0 & 0 & 0 & 0 & 0 & 0 & 33\\\\\n",
       "\tSLQG\\%E & SLQG\\%E  & 0 & 0 & 0 & 0 & 0 & 30 & 1 & 0 & 0 & 0 & 0 & 0 & 30\\\\\n",
       "\tS\\%SGANV & S\\%SGANV & 0 & 0 & 0 & 0 & 0 & 34 & 0 & 0 & 0 & 0 & 0 & 0 & 34\\\\\n",
       "\tS\\%GGNTE & S\\%GGNTE & 0 & 0 & 0 & 0 & 1 & 40 & 0 & 0 & 0 & 0 & 0 & 0 & 40\\\\\n",
       "\tS\\%TGNTE & S\\%TGNTE & 0 & 0 & 0 & 0 & 0 & 34 & 0 & 0 & 0 & 0 & 0 & 0 & 34\\\\\n",
       "\\end{tabular}\n"
      ],
      "text/markdown": [
       "\n",
       "A data.frame: 6 x 14\n",
       "\n",
       "| <!--/--> | gliph &lt;chr&gt; | CMV &lt;dbl&gt; | EBV &lt;dbl&gt; | HCV &lt;dbl&gt; | Influenza &lt;dbl&gt; | HomoSapiens &lt;dbl&gt; | MDavis &lt;dbl&gt; | HPV &lt;dbl&gt; | CEF &lt;dbl&gt; | TB &lt;dbl&gt; | MCPyV &lt;dbl&gt; | SP &lt;dbl&gt; | DENV &lt;dbl&gt; | n_unique_cdr3 &lt;int&gt; |\n",
       "|---|---|---|---|---|---|---|---|---|---|---|---|---|---|---|\n",
       "| SLG%E | SLG%E   | 0 | 0 | 0 | 0 | 0 | 39 | 0 | 0 | 0 | 0 | 0 | 0 | 40 |\n",
       "| S%GSGE | S%GSGE  | 0 | 0 | 0 | 0 | 0 | 32 | 0 | 0 | 0 | 0 | 0 | 0 | 33 |\n",
       "| SLQG%E | SLQG%E  | 0 | 0 | 0 | 0 | 0 | 30 | 1 | 0 | 0 | 0 | 0 | 0 | 30 |\n",
       "| S%SGANV | S%SGANV | 0 | 0 | 0 | 0 | 0 | 34 | 0 | 0 | 0 | 0 | 0 | 0 | 34 |\n",
       "| S%GGNTE | S%GGNTE | 0 | 0 | 0 | 0 | 1 | 40 | 0 | 0 | 0 | 0 | 0 | 0 | 40 |\n",
       "| S%TGNTE | S%TGNTE | 0 | 0 | 0 | 0 | 0 | 34 | 0 | 0 | 0 | 0 | 0 | 0 | 34 |\n",
       "\n"
      ],
      "text/plain": [
       "        gliph   CMV EBV HCV Influenza HomoSapiens MDavis HPV CEF TB MCPyV SP\n",
       "SLG%E   SLG%E   0   0   0   0         0           39     0   0   0  0     0 \n",
       "S%GSGE  S%GSGE  0   0   0   0         0           32     0   0   0  0     0 \n",
       "SLQG%E  SLQG%E  0   0   0   0         0           30     1   0   0  0     0 \n",
       "S%SGANV S%SGANV 0   0   0   0         0           34     0   0   0  0     0 \n",
       "S%GGNTE S%GGNTE 0   0   0   0         1           40     0   0   0  0     0 \n",
       "S%TGNTE S%TGNTE 0   0   0   0         0           34     0   0   0  0     0 \n",
       "        DENV n_unique_cdr3\n",
       "SLG%E   0    40           \n",
       "S%GSGE  0    33           \n",
       "SLQG%E  0    30           \n",
       "S%SGANV 0    34           \n",
       "S%GGNTE 0    40           \n",
       "S%TGNTE 0    34           "
      ]
     },
     "metadata": {},
     "output_type": "display_data"
    }
   ],
   "source": [
    "head(gliphdf)"
   ]
  },
  {
   "cell_type": "code",
   "execution_count": 146,
   "metadata": {
    "vscode": {
     "languageId": "r"
    }
   },
   "outputs": [],
   "source": [
    "readr::write_rds(samples_tcr, file = paste0(datapath, \"GLIPH/emerson_child_samples_gliphannot_stat.rds\"))\n",
    "readr::write_rds(gliphdf, file = paste0(datapath, \"GLIPH/emerson_child_gliphannot_stat.rds\"))"
   ]
  },
  {
   "cell_type": "code",
   "execution_count": 151,
   "metadata": {
    "vscode": {
     "languageId": "r"
    }
   },
   "outputs": [
    {
     "data": {
      "text/html": [
       "<table class=\"dataframe\">\n",
       "<caption>A data.frame: 1 x 18</caption>\n",
       "<thead>\n",
       "\t<tr><th></th><th scope=col>CMV</th><th scope=col>EBV</th><th scope=col>HCV</th><th scope=col>Influenza</th><th scope=col>HomoSapiens</th><th scope=col>MDavis</th><th scope=col>HPV</th><th scope=col>CEF</th><th scope=col>TB</th><th scope=col>MCPyV</th><th scope=col>SP</th><th scope=col>DENV</th><th scope=col>n_cdr3</th><th scope=col>cdr3_reads</th><th scope=col>n_gliph</th><th scope=col>n_cdr3ingliph</th><th scope=col>cdr3reads_ingliph</th><th scope=col>study</th></tr>\n",
       "\t<tr><th></th><th scope=col>&lt;dbl&gt;</th><th scope=col>&lt;dbl&gt;</th><th scope=col>&lt;dbl&gt;</th><th scope=col>&lt;dbl&gt;</th><th scope=col>&lt;dbl&gt;</th><th scope=col>&lt;dbl&gt;</th><th scope=col>&lt;dbl&gt;</th><th scope=col>&lt;dbl&gt;</th><th scope=col>&lt;dbl&gt;</th><th scope=col>&lt;dbl&gt;</th><th scope=col>&lt;dbl&gt;</th><th scope=col>&lt;dbl&gt;</th><th scope=col>&lt;int&gt;</th><th scope=col>&lt;dbl&gt;</th><th scope=col>&lt;dbl&gt;</th><th scope=col>&lt;int&gt;</th><th scope=col>&lt;dbl&gt;</th><th scope=col>&lt;chr&gt;</th></tr>\n",
       "</thead>\n",
       "<tbody>\n",
       "\t<tr><th scope=row>Emerson:P00425</th><td>8</td><td>0</td><td>1</td><td>1</td><td>7</td><td>341</td><td>0</td><td>0</td><td>0</td><td>3</td><td>0</td><td>0</td><td>276</td><td>6656</td><td>170</td><td>100</td><td>4660</td><td>Emerson_child</td></tr>\n",
       "</tbody>\n",
       "</table>\n"
      ],
      "text/latex": [
       "A data.frame: 1 x 18\n",
       "\\begin{tabular}{r|llllllllllllllllll}\n",
       "  & CMV & EBV & HCV & Influenza & HomoSapiens & MDavis & HPV & CEF & TB & MCPyV & SP & DENV & n\\_cdr3 & cdr3\\_reads & n\\_gliph & n\\_cdr3ingliph & cdr3reads\\_ingliph & study\\\\\n",
       "  & <dbl> & <dbl> & <dbl> & <dbl> & <dbl> & <dbl> & <dbl> & <dbl> & <dbl> & <dbl> & <dbl> & <dbl> & <int> & <dbl> & <dbl> & <int> & <dbl> & <chr>\\\\\n",
       "\\hline\n",
       "\tEmerson:P00425 & 8 & 0 & 1 & 1 & 7 & 341 & 0 & 0 & 0 & 3 & 0 & 0 & 276 & 6656 & 170 & 100 & 4660 & Emerson\\_child\\\\\n",
       "\\end{tabular}\n"
      ],
      "text/markdown": [
       "\n",
       "A data.frame: 1 x 18\n",
       "\n",
       "| <!--/--> | CMV &lt;dbl&gt; | EBV &lt;dbl&gt; | HCV &lt;dbl&gt; | Influenza &lt;dbl&gt; | HomoSapiens &lt;dbl&gt; | MDavis &lt;dbl&gt; | HPV &lt;dbl&gt; | CEF &lt;dbl&gt; | TB &lt;dbl&gt; | MCPyV &lt;dbl&gt; | SP &lt;dbl&gt; | DENV &lt;dbl&gt; | n_cdr3 &lt;int&gt; | cdr3_reads &lt;dbl&gt; | n_gliph &lt;dbl&gt; | n_cdr3ingliph &lt;int&gt; | cdr3reads_ingliph &lt;dbl&gt; | study &lt;chr&gt; |\n",
       "|---|---|---|---|---|---|---|---|---|---|---|---|---|---|---|---|---|---|---|\n",
       "| Emerson:P00425 | 8 | 0 | 1 | 1 | 7 | 341 | 0 | 0 | 0 | 3 | 0 | 0 | 276 | 6656 | 170 | 100 | 4660 | Emerson_child |\n",
       "\n"
      ],
      "text/plain": [
       "               CMV EBV HCV Influenza HomoSapiens MDavis HPV CEF TB MCPyV SP\n",
       "Emerson:P00425 8   0   1   1         7           341    0   0   0  3     0 \n",
       "               DENV n_cdr3 cdr3_reads n_gliph n_cdr3ingliph cdr3reads_ingliph\n",
       "Emerson:P00425 0    276    6656       170     100           4660             \n",
       "               study        \n",
       "Emerson:P00425 Emerson_child"
      ]
     },
     "metadata": {},
     "output_type": "display_data"
    }
   ],
   "source": [
    "# check a sample\n",
    "samples_tcr[15,]"
   ]
  },
  {
   "cell_type": "code",
   "execution_count": 152,
   "metadata": {
    "vscode": {
     "languageId": "r"
    }
   },
   "outputs": [
    {
     "data": {
      "text/html": [
       "6656"
      ],
      "text/latex": [
       "6656"
      ],
      "text/markdown": [
       "6656"
      ],
      "text/plain": [
       "[1] 6656"
      ]
     },
     "metadata": {},
     "output_type": "display_data"
    },
    {
     "data": {
      "text/html": [
       "276"
      ],
      "text/latex": [
       "276"
      ],
      "text/markdown": [
       "276"
      ],
      "text/plain": [
       "[1] 276"
      ]
     },
     "metadata": {},
     "output_type": "display_data"
    },
    {
     "data": {
      "text/html": [
       "4660"
      ],
      "text/latex": [
       "4660"
      ],
      "text/markdown": [
       "4660"
      ],
      "text/plain": [
       "[1] 4660"
      ]
     },
     "metadata": {},
     "output_type": "display_data"
    },
    {
     "data": {
      "text/html": [
       "100"
      ],
      "text/latex": [
       "100"
      ],
      "text/markdown": [
       "100"
      ],
      "text/plain": [
       "[1] 100"
      ]
     },
     "metadata": {},
     "output_type": "display_data"
    }
   ],
   "source": [
    "temp <- gliphin_emerson[ gliphin_emerson$subject == \"Emerson:P00425\",]\n",
    "sum(temp$count) # cdr3_reads\n",
    "length(unique(temp$CDR3b)) # n_cdr3\n",
    "\n",
    "temp <- gliphout_emerson[ gliphout_emerson$Sample == \"Emerson:P00425\",]\n",
    "sum(temp$Freq) # cdr3reads_ingliph\n",
    "length(unique(temp$TcRb)) # n_cdr3ingliph"
   ]
  },
  {
   "cell_type": "code",
   "execution_count": 153,
   "metadata": {
    "vscode": {
     "languageId": "r"
    }
   },
   "outputs": [
    {
     "data": {
      "text/plain": [
       "\n",
       "         CMV      Emerson          HCV  HomoSapiens    Influenza        MCPyV \n",
       "           8          244            1            7            1            3 \n",
       "      MDavis S-pneumoniae \n",
       "         341            1 "
      ]
     },
     "metadata": {},
     "output_type": "display_data"
    }
   ],
   "source": [
    "samplegliphs <- gliphout_emerson$pattern[ gliphout_emerson$Sample == \"Emerson:P00425\"]\n",
    "table(gliphout_emerson$subject[ gliphout_emerson$pattern %in% samplegliphs])"
   ]
  },
  {
   "cell_type": "code",
   "execution_count": 154,
   "metadata": {
    "vscode": {
     "languageId": "r"
    }
   },
   "outputs": [
    {
     "data": {
      "text/html": [
       "<style>\n",
       ".list-inline {list-style: none; margin:0; padding: 0}\n",
       ".list-inline>li {display: inline-block}\n",
       ".list-inline>li:not(:last-child)::after {content: \"\\00b7\"; padding: 0 .5ex}\n",
       "</style>\n",
       "<ol class=list-inline><li>'a'</li><li>'addjurkat.fx'</li><li>'age_pal'</li><li>'align_plots1'</li><li>'antigen_gliphs'</li><li>'calculate_delta.fx'</li><li>'cohort_col'</li><li>'columns_to_fill'</li><li>'columns_to_na'</li><li>'cycle_col'</li><li>'datapath'</li><li>'delta_basespiderplot.fx'</li><li>'emerson'</li><li>'gitpath'</li><li>'gliphdf'</li><li>'gliphdf_freq'</li><li>'gliphin_emerson'</li><li>'gliphin_emerson_samples'</li><li>'gliphout'</li><li>'gliphout_emerson'</li><li>'group_col'</li><li>'h4hpath'</li><li>'histdenp'</li><li>'histp'</li><li>'i'</li><li>'lsmeans_df.fx'</li><li>'manifestpath'</li><li>'message_parallel'</li><li>'myantigens'</li><li>'myaxis'</li><li>'mycols'</li><li>'mygliph'</li><li>'myplot'</li><li>'mysample'</li><li>'mysamples'</li><li>'mytab'</li><li>'mytab1'</li><li>'n_gliph'</li><li>'pat_type'</li><li>'plotpath'</li><li>'round_and_format'</li><li>'safe_mclapply'</li><li>'samplegliphs'</li><li>'samples_tcr'</li><li>'samples_tcr_freq'</li><li>'sampletags_columns'</li><li>'temp'</li><li>'text_matrix'</li><li>'toString_onefle.fx'</li><li>'type_col'</li></ol>\n"
      ],
      "text/latex": [
       "\\begin{enumerate*}\n",
       "\\item 'a'\n",
       "\\item 'addjurkat.fx'\n",
       "\\item 'age\\_pal'\n",
       "\\item 'align\\_plots1'\n",
       "\\item 'antigen\\_gliphs'\n",
       "\\item 'calculate\\_delta.fx'\n",
       "\\item 'cohort\\_col'\n",
       "\\item 'columns\\_to\\_fill'\n",
       "\\item 'columns\\_to\\_na'\n",
       "\\item 'cycle\\_col'\n",
       "\\item 'datapath'\n",
       "\\item 'delta\\_basespiderplot.fx'\n",
       "\\item 'emerson'\n",
       "\\item 'gitpath'\n",
       "\\item 'gliphdf'\n",
       "\\item 'gliphdf\\_freq'\n",
       "\\item 'gliphin\\_emerson'\n",
       "\\item 'gliphin\\_emerson\\_samples'\n",
       "\\item 'gliphout'\n",
       "\\item 'gliphout\\_emerson'\n",
       "\\item 'group\\_col'\n",
       "\\item 'h4hpath'\n",
       "\\item 'histdenp'\n",
       "\\item 'histp'\n",
       "\\item 'i'\n",
       "\\item 'lsmeans\\_df.fx'\n",
       "\\item 'manifestpath'\n",
       "\\item 'message\\_parallel'\n",
       "\\item 'myantigens'\n",
       "\\item 'myaxis'\n",
       "\\item 'mycols'\n",
       "\\item 'mygliph'\n",
       "\\item 'myplot'\n",
       "\\item 'mysample'\n",
       "\\item 'mysamples'\n",
       "\\item 'mytab'\n",
       "\\item 'mytab1'\n",
       "\\item 'n\\_gliph'\n",
       "\\item 'pat\\_type'\n",
       "\\item 'plotpath'\n",
       "\\item 'round\\_and\\_format'\n",
       "\\item 'safe\\_mclapply'\n",
       "\\item 'samplegliphs'\n",
       "\\item 'samples\\_tcr'\n",
       "\\item 'samples\\_tcr\\_freq'\n",
       "\\item 'sampletags\\_columns'\n",
       "\\item 'temp'\n",
       "\\item 'text\\_matrix'\n",
       "\\item 'toString\\_onefle.fx'\n",
       "\\item 'type\\_col'\n",
       "\\end{enumerate*}\n"
      ],
      "text/markdown": [
       "1. 'a'\n",
       "2. 'addjurkat.fx'\n",
       "3. 'age_pal'\n",
       "4. 'align_plots1'\n",
       "5. 'antigen_gliphs'\n",
       "6. 'calculate_delta.fx'\n",
       "7. 'cohort_col'\n",
       "8. 'columns_to_fill'\n",
       "9. 'columns_to_na'\n",
       "10. 'cycle_col'\n",
       "11. 'datapath'\n",
       "12. 'delta_basespiderplot.fx'\n",
       "13. 'emerson'\n",
       "14. 'gitpath'\n",
       "15. 'gliphdf'\n",
       "16. 'gliphdf_freq'\n",
       "17. 'gliphin_emerson'\n",
       "18. 'gliphin_emerson_samples'\n",
       "19. 'gliphout'\n",
       "20. 'gliphout_emerson'\n",
       "21. 'group_col'\n",
       "22. 'h4hpath'\n",
       "23. 'histdenp'\n",
       "24. 'histp'\n",
       "25. 'i'\n",
       "26. 'lsmeans_df.fx'\n",
       "27. 'manifestpath'\n",
       "28. 'message_parallel'\n",
       "29. 'myantigens'\n",
       "30. 'myaxis'\n",
       "31. 'mycols'\n",
       "32. 'mygliph'\n",
       "33. 'myplot'\n",
       "34. 'mysample'\n",
       "35. 'mysamples'\n",
       "36. 'mytab'\n",
       "37. 'mytab1'\n",
       "38. 'n_gliph'\n",
       "39. 'pat_type'\n",
       "40. 'plotpath'\n",
       "41. 'round_and_format'\n",
       "42. 'safe_mclapply'\n",
       "43. 'samplegliphs'\n",
       "44. 'samples_tcr'\n",
       "45. 'samples_tcr_freq'\n",
       "46. 'sampletags_columns'\n",
       "47. 'temp'\n",
       "48. 'text_matrix'\n",
       "49. 'toString_onefle.fx'\n",
       "50. 'type_col'\n",
       "\n",
       "\n"
      ],
      "text/plain": [
       " [1] \"a\"                       \"addjurkat.fx\"           \n",
       " [3] \"age_pal\"                 \"align_plots1\"           \n",
       " [5] \"antigen_gliphs\"          \"calculate_delta.fx\"     \n",
       " [7] \"cohort_col\"              \"columns_to_fill\"        \n",
       " [9] \"columns_to_na\"           \"cycle_col\"              \n",
       "[11] \"datapath\"                \"delta_basespiderplot.fx\"\n",
       "[13] \"emerson\"                 \"gitpath\"                \n",
       "[15] \"gliphdf\"                 \"gliphdf_freq\"           \n",
       "[17] \"gliphin_emerson\"         \"gliphin_emerson_samples\"\n",
       "[19] \"gliphout\"                \"gliphout_emerson\"       \n",
       "[21] \"group_col\"               \"h4hpath\"                \n",
       "[23] \"histdenp\"                \"histp\"                  \n",
       "[25] \"i\"                       \"lsmeans_df.fx\"          \n",
       "[27] \"manifestpath\"            \"message_parallel\"       \n",
       "[29] \"myantigens\"              \"myaxis\"                 \n",
       "[31] \"mycols\"                  \"mygliph\"                \n",
       "[33] \"myplot\"                  \"mysample\"               \n",
       "[35] \"mysamples\"               \"mytab\"                  \n",
       "[37] \"mytab1\"                  \"n_gliph\"                \n",
       "[39] \"pat_type\"                \"plotpath\"               \n",
       "[41] \"round_and_format\"        \"safe_mclapply\"          \n",
       "[43] \"samplegliphs\"            \"samples_tcr\"            \n",
       "[45] \"samples_tcr_freq\"        \"sampletags_columns\"     \n",
       "[47] \"temp\"                    \"text_matrix\"            \n",
       "[49] \"toString_onefle.fx\"      \"type_col\"               "
      ]
     },
     "metadata": {},
     "output_type": "display_data"
    }
   ],
   "source": [
    "ls()"
   ]
  },
  {
   "cell_type": "code",
   "execution_count": 160,
   "metadata": {
    "vscode": {
     "languageId": "r"
    }
   },
   "outputs": [],
   "source": [
    "# rm(mysamples)"
   ]
  },
  {
   "cell_type": "markdown",
   "metadata": {},
   "source": [
    "Create summary tables for frequencies"
   ]
  },
  {
   "cell_type": "code",
   "execution_count": 161,
   "metadata": {
    "vscode": {
     "languageId": "r"
    }
   },
   "outputs": [],
   "source": [
    "gliphout <- readr::read_rds(file = paste0(datapath, \"GLIPH/emerson_child_cleaned.rds\"))"
   ]
  },
  {
   "cell_type": "code",
   "execution_count": 162,
   "metadata": {
    "vscode": {
     "languageId": "r"
    }
   },
   "outputs": [],
   "source": [
    "# use the previous data\n",
    "samples_tcr <- readr::read_rds(file = paste0(datapath, \"GLIPH/emerson_child_samples_gliphannot_stat.rds\"))\n",
    "gliphdf <- readr::read_rds(file = paste0(datapath, \"GLIPH/emerson_child_gliphannot_stat.rds\"))"
   ]
  },
  {
   "cell_type": "code",
   "execution_count": 163,
   "metadata": {
    "vscode": {
     "languageId": "r"
    }
   },
   "outputs": [],
   "source": [
    "gliphdf_freq <- gliphdf %>% mutate_all(~NA)\n",
    "gliphdf_freq$n_unique_cdr3 <- NULL\n",
    "gliphdf_freq$gliph <- NULL"
   ]
  },
  {
   "cell_type": "code",
   "execution_count": 164,
   "metadata": {
    "vscode": {
     "languageId": "r"
    }
   },
   "outputs": [
    {
     "data": {
      "text/html": [
       "<table class=\"dataframe\">\n",
       "<caption>A data.frame: 6 x 13</caption>\n",
       "<thead>\n",
       "\t<tr><th></th><th scope=col>CMV</th><th scope=col>EBV</th><th scope=col>HCV</th><th scope=col>Influenza</th><th scope=col>HomoSapiens</th><th scope=col>MDavis</th><th scope=col>HPV</th><th scope=col>CEF</th><th scope=col>TB</th><th scope=col>MCPyV</th><th scope=col>SP</th><th scope=col>DENV</th><th scope=col>n_cdr3</th></tr>\n",
       "\t<tr><th></th><th scope=col>&lt;dbl&gt;</th><th scope=col>&lt;dbl&gt;</th><th scope=col>&lt;dbl&gt;</th><th scope=col>&lt;dbl&gt;</th><th scope=col>&lt;dbl&gt;</th><th scope=col>&lt;dbl&gt;</th><th scope=col>&lt;dbl&gt;</th><th scope=col>&lt;dbl&gt;</th><th scope=col>&lt;dbl&gt;</th><th scope=col>&lt;dbl&gt;</th><th scope=col>&lt;dbl&gt;</th><th scope=col>&lt;dbl&gt;</th><th scope=col>&lt;int&gt;</th></tr>\n",
       "</thead>\n",
       "<tbody>\n",
       "\t<tr><th scope=row>Emerson:P00015</th><td>2</td><td>2</td><td>1</td><td>0</td><td> 7</td><td>387</td><td>1</td><td>0</td><td>0</td><td>0</td><td>0</td><td>0</td><td>314</td></tr>\n",
       "\t<tr><th scope=row>Emerson:P00023</th><td>0</td><td>0</td><td>0</td><td>0</td><td> 1</td><td>111</td><td>0</td><td>0</td><td>0</td><td>0</td><td>0</td><td>0</td><td> 82</td></tr>\n",
       "\t<tr><th scope=row>Emerson:P00091</th><td>9</td><td>3</td><td>2</td><td>0</td><td>23</td><td>637</td><td>1</td><td>1</td><td>0</td><td>7</td><td>0</td><td>0</td><td>504</td></tr>\n",
       "\t<tr><th scope=row>Emerson:P00092</th><td>4</td><td>1</td><td>0</td><td>1</td><td> 5</td><td>253</td><td>1</td><td>1</td><td>0</td><td>2</td><td>0</td><td>0</td><td>205</td></tr>\n",
       "\t<tr><th scope=row>Emerson:P00171</th><td>0</td><td>0</td><td>0</td><td>0</td><td> 0</td><td>  2</td><td>0</td><td>0</td><td>0</td><td>0</td><td>0</td><td>0</td><td>  3</td></tr>\n",
       "\t<tr><th scope=row>Emerson:P00183</th><td>3</td><td>3</td><td>1</td><td>0</td><td> 8</td><td>452</td><td>1</td><td>0</td><td>0</td><td>2</td><td>0</td><td>0</td><td>252</td></tr>\n",
       "</tbody>\n",
       "</table>\n"
      ],
      "text/latex": [
       "A data.frame: 6 x 13\n",
       "\\begin{tabular}{r|lllllllllllll}\n",
       "  & CMV & EBV & HCV & Influenza & HomoSapiens & MDavis & HPV & CEF & TB & MCPyV & SP & DENV & n\\_cdr3\\\\\n",
       "  & <dbl> & <dbl> & <dbl> & <dbl> & <dbl> & <dbl> & <dbl> & <dbl> & <dbl> & <dbl> & <dbl> & <dbl> & <int>\\\\\n",
       "\\hline\n",
       "\tEmerson:P00015 & 2 & 2 & 1 & 0 &  7 & 387 & 1 & 0 & 0 & 0 & 0 & 0 & 314\\\\\n",
       "\tEmerson:P00023 & 0 & 0 & 0 & 0 &  1 & 111 & 0 & 0 & 0 & 0 & 0 & 0 &  82\\\\\n",
       "\tEmerson:P00091 & 9 & 3 & 2 & 0 & 23 & 637 & 1 & 1 & 0 & 7 & 0 & 0 & 504\\\\\n",
       "\tEmerson:P00092 & 4 & 1 & 0 & 1 &  5 & 253 & 1 & 1 & 0 & 2 & 0 & 0 & 205\\\\\n",
       "\tEmerson:P00171 & 0 & 0 & 0 & 0 &  0 &   2 & 0 & 0 & 0 & 0 & 0 & 0 &   3\\\\\n",
       "\tEmerson:P00183 & 3 & 3 & 1 & 0 &  8 & 452 & 1 & 0 & 0 & 2 & 0 & 0 & 252\\\\\n",
       "\\end{tabular}\n"
      ],
      "text/markdown": [
       "\n",
       "A data.frame: 6 x 13\n",
       "\n",
       "| <!--/--> | CMV &lt;dbl&gt; | EBV &lt;dbl&gt; | HCV &lt;dbl&gt; | Influenza &lt;dbl&gt; | HomoSapiens &lt;dbl&gt; | MDavis &lt;dbl&gt; | HPV &lt;dbl&gt; | CEF &lt;dbl&gt; | TB &lt;dbl&gt; | MCPyV &lt;dbl&gt; | SP &lt;dbl&gt; | DENV &lt;dbl&gt; | n_cdr3 &lt;int&gt; |\n",
       "|---|---|---|---|---|---|---|---|---|---|---|---|---|---|\n",
       "| Emerson:P00015 | 2 | 2 | 1 | 0 |  7 | 387 | 1 | 0 | 0 | 0 | 0 | 0 | 314 |\n",
       "| Emerson:P00023 | 0 | 0 | 0 | 0 |  1 | 111 | 0 | 0 | 0 | 0 | 0 | 0 |  82 |\n",
       "| Emerson:P00091 | 9 | 3 | 2 | 0 | 23 | 637 | 1 | 1 | 0 | 7 | 0 | 0 | 504 |\n",
       "| Emerson:P00092 | 4 | 1 | 0 | 1 |  5 | 253 | 1 | 1 | 0 | 2 | 0 | 0 | 205 |\n",
       "| Emerson:P00171 | 0 | 0 | 0 | 0 |  0 |   2 | 0 | 0 | 0 | 0 | 0 | 0 |   3 |\n",
       "| Emerson:P00183 | 3 | 3 | 1 | 0 |  8 | 452 | 1 | 0 | 0 | 2 | 0 | 0 | 252 |\n",
       "\n"
      ],
      "text/plain": [
       "               CMV EBV HCV Influenza HomoSapiens MDavis HPV CEF TB MCPyV SP\n",
       "Emerson:P00015 2   2   1   0          7          387    1   0   0  0     0 \n",
       "Emerson:P00023 0   0   0   0          1          111    0   0   0  0     0 \n",
       "Emerson:P00091 9   3   2   0         23          637    1   1   0  7     0 \n",
       "Emerson:P00092 4   1   0   1          5          253    1   1   0  2     0 \n",
       "Emerson:P00171 0   0   0   0          0            2    0   0   0  0     0 \n",
       "Emerson:P00183 3   3   1   0          8          452    1   0   0  2     0 \n",
       "               DENV n_cdr3\n",
       "Emerson:P00015 0    314   \n",
       "Emerson:P00023 0     82   \n",
       "Emerson:P00091 0    504   \n",
       "Emerson:P00092 0    205   \n",
       "Emerson:P00171 0      3   \n",
       "Emerson:P00183 0    252   "
      ]
     },
     "metadata": {},
     "output_type": "display_data"
    }
   ],
   "source": [
    "head(samples_tcr[,1:13])"
   ]
  },
  {
   "cell_type": "code",
   "execution_count": 165,
   "metadata": {
    "vscode": {
     "languageId": "r"
    }
   },
   "outputs": [
    {
     "data": {
      "text/html": [
       "<style>\n",
       ".list-inline {list-style: none; margin:0; padding: 0}\n",
       ".list-inline>li {display: inline-block}\n",
       ".list-inline>li:not(:last-child)::after {content: \"\\00b7\"; padding: 0 .5ex}\n",
       "</style>\n",
       "<ol class=list-inline><li>'CMV'</li><li>'EBV'</li><li>'HCV'</li><li>'Influenza'</li><li>'HomoSapiens'</li><li>'MDavis'</li><li>'HPV'</li><li>'CEF'</li><li>'TB'</li><li>'MCPyV'</li><li>'SP'</li><li>'DENV'</li></ol>\n"
      ],
      "text/latex": [
       "\\begin{enumerate*}\n",
       "\\item 'CMV'\n",
       "\\item 'EBV'\n",
       "\\item 'HCV'\n",
       "\\item 'Influenza'\n",
       "\\item 'HomoSapiens'\n",
       "\\item 'MDavis'\n",
       "\\item 'HPV'\n",
       "\\item 'CEF'\n",
       "\\item 'TB'\n",
       "\\item 'MCPyV'\n",
       "\\item 'SP'\n",
       "\\item 'DENV'\n",
       "\\end{enumerate*}\n"
      ],
      "text/markdown": [
       "1. 'CMV'\n",
       "2. 'EBV'\n",
       "3. 'HCV'\n",
       "4. 'Influenza'\n",
       "5. 'HomoSapiens'\n",
       "6. 'MDavis'\n",
       "7. 'HPV'\n",
       "8. 'CEF'\n",
       "9. 'TB'\n",
       "10. 'MCPyV'\n",
       "11. 'SP'\n",
       "12. 'DENV'\n",
       "\n",
       "\n"
      ],
      "text/plain": [
       " [1] \"CMV\"         \"EBV\"         \"HCV\"         \"Influenza\"   \"HomoSapiens\"\n",
       " [6] \"MDavis\"      \"HPV\"         \"CEF\"         \"TB\"          \"MCPyV\"      \n",
       "[11] \"SP\"          \"DENV\"       "
      ]
     },
     "metadata": {},
     "output_type": "display_data"
    }
   ],
   "source": [
    "colnames(samples_tcr)[1:12]"
   ]
  },
  {
   "cell_type": "code",
   "execution_count": null,
   "metadata": {
    "vscode": {
     "languageId": "r"
    }
   },
   "outputs": [],
   "source": []
  },
  {
   "cell_type": "code",
   "execution_count": 166,
   "metadata": {
    "vscode": {
     "languageId": "r"
    }
   },
   "outputs": [],
   "source": [
    "columns_to_na <- colnames(samples_tcr)[1:12]\n",
    "\n",
    "samples_tcr_freq <- samples_tcr %>%\n",
    "  mutate(across(all_of(columns_to_na), ~NA))"
   ]
  },
  {
   "cell_type": "code",
   "execution_count": 167,
   "metadata": {
    "vscode": {
     "languageId": "r"
    }
   },
   "outputs": [
    {
     "data": {
      "text/html": [
       "<table class=\"dataframe\">\n",
       "<caption>A data.frame: 6 x 18</caption>\n",
       "<thead>\n",
       "\t<tr><th></th><th scope=col>CMV</th><th scope=col>EBV</th><th scope=col>HCV</th><th scope=col>Influenza</th><th scope=col>HomoSapiens</th><th scope=col>MDavis</th><th scope=col>HPV</th><th scope=col>CEF</th><th scope=col>TB</th><th scope=col>MCPyV</th><th scope=col>SP</th><th scope=col>DENV</th><th scope=col>n_cdr3</th><th scope=col>cdr3_reads</th><th scope=col>n_gliph</th><th scope=col>n_cdr3ingliph</th><th scope=col>cdr3reads_ingliph</th><th scope=col>study</th></tr>\n",
       "\t<tr><th></th><th scope=col>&lt;lgl&gt;</th><th scope=col>&lt;lgl&gt;</th><th scope=col>&lt;lgl&gt;</th><th scope=col>&lt;lgl&gt;</th><th scope=col>&lt;lgl&gt;</th><th scope=col>&lt;lgl&gt;</th><th scope=col>&lt;lgl&gt;</th><th scope=col>&lt;lgl&gt;</th><th scope=col>&lt;lgl&gt;</th><th scope=col>&lt;lgl&gt;</th><th scope=col>&lt;lgl&gt;</th><th scope=col>&lt;lgl&gt;</th><th scope=col>&lt;int&gt;</th><th scope=col>&lt;dbl&gt;</th><th scope=col>&lt;dbl&gt;</th><th scope=col>&lt;int&gt;</th><th scope=col>&lt;dbl&gt;</th><th scope=col>&lt;chr&gt;</th></tr>\n",
       "</thead>\n",
       "<tbody>\n",
       "\t<tr><th scope=row>Emerson:P00015</th><td>NA</td><td>NA</td><td>NA</td><td>NA</td><td>NA</td><td>NA</td><td>NA</td><td>NA</td><td>NA</td><td>NA</td><td>NA</td><td>NA</td><td>314</td><td>10948</td><td>168</td><td> 91</td><td>6341</td><td>Emerson_child</td></tr>\n",
       "\t<tr><th scope=row>Emerson:P00023</th><td>NA</td><td>NA</td><td>NA</td><td>NA</td><td>NA</td><td>NA</td><td>NA</td><td>NA</td><td>NA</td><td>NA</td><td>NA</td><td>NA</td><td> 82</td><td> 2726</td><td> 41</td><td> 24</td><td>1405</td><td>Emerson_child</td></tr>\n",
       "\t<tr><th scope=row>Emerson:P00091</th><td>NA</td><td>NA</td><td>NA</td><td>NA</td><td>NA</td><td>NA</td><td>NA</td><td>NA</td><td>NA</td><td>NA</td><td>NA</td><td>NA</td><td>504</td><td> 8596</td><td>275</td><td>148</td><td>5119</td><td>Emerson_child</td></tr>\n",
       "\t<tr><th scope=row>Emerson:P00092</th><td>NA</td><td>NA</td><td>NA</td><td>NA</td><td>NA</td><td>NA</td><td>NA</td><td>NA</td><td>NA</td><td>NA</td><td>NA</td><td>NA</td><td>205</td><td> 4968</td><td> 96</td><td> 55</td><td>2370</td><td>Emerson_child</td></tr>\n",
       "\t<tr><th scope=row>Emerson:P00171</th><td>NA</td><td>NA</td><td>NA</td><td>NA</td><td>NA</td><td>NA</td><td>NA</td><td>NA</td><td>NA</td><td>NA</td><td>NA</td><td>NA</td><td>  3</td><td>   46</td><td>  2</td><td>  1</td><td>  26</td><td>Emerson_child</td></tr>\n",
       "\t<tr><th scope=row>Emerson:P00183</th><td>NA</td><td>NA</td><td>NA</td><td>NA</td><td>NA</td><td>NA</td><td>NA</td><td>NA</td><td>NA</td><td>NA</td><td>NA</td><td>NA</td><td>252</td><td> 4797</td><td>147</td><td> 86</td><td>3061</td><td>Emerson_child</td></tr>\n",
       "</tbody>\n",
       "</table>\n"
      ],
      "text/latex": [
       "A data.frame: 6 x 18\n",
       "\\begin{tabular}{r|llllllllllllllllll}\n",
       "  & CMV & EBV & HCV & Influenza & HomoSapiens & MDavis & HPV & CEF & TB & MCPyV & SP & DENV & n\\_cdr3 & cdr3\\_reads & n\\_gliph & n\\_cdr3ingliph & cdr3reads\\_ingliph & study\\\\\n",
       "  & <lgl> & <lgl> & <lgl> & <lgl> & <lgl> & <lgl> & <lgl> & <lgl> & <lgl> & <lgl> & <lgl> & <lgl> & <int> & <dbl> & <dbl> & <int> & <dbl> & <chr>\\\\\n",
       "\\hline\n",
       "\tEmerson:P00015 & NA & NA & NA & NA & NA & NA & NA & NA & NA & NA & NA & NA & 314 & 10948 & 168 &  91 & 6341 & Emerson\\_child\\\\\n",
       "\tEmerson:P00023 & NA & NA & NA & NA & NA & NA & NA & NA & NA & NA & NA & NA &  82 &  2726 &  41 &  24 & 1405 & Emerson\\_child\\\\\n",
       "\tEmerson:P00091 & NA & NA & NA & NA & NA & NA & NA & NA & NA & NA & NA & NA & 504 &  8596 & 275 & 148 & 5119 & Emerson\\_child\\\\\n",
       "\tEmerson:P00092 & NA & NA & NA & NA & NA & NA & NA & NA & NA & NA & NA & NA & 205 &  4968 &  96 &  55 & 2370 & Emerson\\_child\\\\\n",
       "\tEmerson:P00171 & NA & NA & NA & NA & NA & NA & NA & NA & NA & NA & NA & NA &   3 &    46 &   2 &   1 &   26 & Emerson\\_child\\\\\n",
       "\tEmerson:P00183 & NA & NA & NA & NA & NA & NA & NA & NA & NA & NA & NA & NA & 252 &  4797 & 147 &  86 & 3061 & Emerson\\_child\\\\\n",
       "\\end{tabular}\n"
      ],
      "text/markdown": [
       "\n",
       "A data.frame: 6 x 18\n",
       "\n",
       "| <!--/--> | CMV &lt;lgl&gt; | EBV &lt;lgl&gt; | HCV &lt;lgl&gt; | Influenza &lt;lgl&gt; | HomoSapiens &lt;lgl&gt; | MDavis &lt;lgl&gt; | HPV &lt;lgl&gt; | CEF &lt;lgl&gt; | TB &lt;lgl&gt; | MCPyV &lt;lgl&gt; | SP &lt;lgl&gt; | DENV &lt;lgl&gt; | n_cdr3 &lt;int&gt; | cdr3_reads &lt;dbl&gt; | n_gliph &lt;dbl&gt; | n_cdr3ingliph &lt;int&gt; | cdr3reads_ingliph &lt;dbl&gt; | study &lt;chr&gt; |\n",
       "|---|---|---|---|---|---|---|---|---|---|---|---|---|---|---|---|---|---|---|\n",
       "| Emerson:P00015 | NA | NA | NA | NA | NA | NA | NA | NA | NA | NA | NA | NA | 314 | 10948 | 168 |  91 | 6341 | Emerson_child |\n",
       "| Emerson:P00023 | NA | NA | NA | NA | NA | NA | NA | NA | NA | NA | NA | NA |  82 |  2726 |  41 |  24 | 1405 | Emerson_child |\n",
       "| Emerson:P00091 | NA | NA | NA | NA | NA | NA | NA | NA | NA | NA | NA | NA | 504 |  8596 | 275 | 148 | 5119 | Emerson_child |\n",
       "| Emerson:P00092 | NA | NA | NA | NA | NA | NA | NA | NA | NA | NA | NA | NA | 205 |  4968 |  96 |  55 | 2370 | Emerson_child |\n",
       "| Emerson:P00171 | NA | NA | NA | NA | NA | NA | NA | NA | NA | NA | NA | NA |   3 |    46 |   2 |   1 |   26 | Emerson_child |\n",
       "| Emerson:P00183 | NA | NA | NA | NA | NA | NA | NA | NA | NA | NA | NA | NA | 252 |  4797 | 147 |  86 | 3061 | Emerson_child |\n",
       "\n"
      ],
      "text/plain": [
       "               CMV EBV HCV Influenza HomoSapiens MDavis HPV CEF TB MCPyV SP\n",
       "Emerson:P00015 NA  NA  NA  NA        NA          NA     NA  NA  NA NA    NA\n",
       "Emerson:P00023 NA  NA  NA  NA        NA          NA     NA  NA  NA NA    NA\n",
       "Emerson:P00091 NA  NA  NA  NA        NA          NA     NA  NA  NA NA    NA\n",
       "Emerson:P00092 NA  NA  NA  NA        NA          NA     NA  NA  NA NA    NA\n",
       "Emerson:P00171 NA  NA  NA  NA        NA          NA     NA  NA  NA NA    NA\n",
       "Emerson:P00183 NA  NA  NA  NA        NA          NA     NA  NA  NA NA    NA\n",
       "               DENV n_cdr3 cdr3_reads n_gliph n_cdr3ingliph cdr3reads_ingliph\n",
       "Emerson:P00015 NA   314    10948      168      91           6341             \n",
       "Emerson:P00023 NA    82     2726       41      24           1405             \n",
       "Emerson:P00091 NA   504     8596      275     148           5119             \n",
       "Emerson:P00092 NA   205     4968       96      55           2370             \n",
       "Emerson:P00171 NA     3       46        2       1             26             \n",
       "Emerson:P00183 NA   252     4797      147      86           3061             \n",
       "               study        \n",
       "Emerson:P00015 Emerson_child\n",
       "Emerson:P00023 Emerson_child\n",
       "Emerson:P00091 Emerson_child\n",
       "Emerson:P00092 Emerson_child\n",
       "Emerson:P00171 Emerson_child\n",
       "Emerson:P00183 Emerson_child"
      ]
     },
     "metadata": {},
     "output_type": "display_data"
    }
   ],
   "source": [
    "head(samples_tcr_freq)"
   ]
  },
  {
   "cell_type": "code",
   "execution_count": 168,
   "metadata": {
    "vscode": {
     "languageId": "r"
    }
   },
   "outputs": [
    {
     "data": {
      "text/html": [
       "<style>\n",
       ".list-inline {list-style: none; margin:0; padding: 0}\n",
       ".list-inline>li {display: inline-block}\n",
       ".list-inline>li:not(:last-child)::after {content: \"\\00b7\"; padding: 0 .5ex}\n",
       "</style>\n",
       "<ol class=list-inline><li>'CEF'</li><li>'CMV'</li><li>'EBV'</li><li>'HCV'</li><li>'HPV'</li><li>'HomoSapiens'</li><li>'Influenza'</li><li>'M.tuberculosis'</li><li>'MCPyV'</li><li>'MDavis'</li><li>'S-pneumoniae'</li></ol>\n"
      ],
      "text/latex": [
       "\\begin{enumerate*}\n",
       "\\item 'CEF'\n",
       "\\item 'CMV'\n",
       "\\item 'EBV'\n",
       "\\item 'HCV'\n",
       "\\item 'HPV'\n",
       "\\item 'HomoSapiens'\n",
       "\\item 'Influenza'\n",
       "\\item 'M.tuberculosis'\n",
       "\\item 'MCPyV'\n",
       "\\item 'MDavis'\n",
       "\\item 'S-pneumoniae'\n",
       "\\end{enumerate*}\n"
      ],
      "text/markdown": [
       "1. 'CEF'\n",
       "2. 'CMV'\n",
       "3. 'EBV'\n",
       "4. 'HCV'\n",
       "5. 'HPV'\n",
       "6. 'HomoSapiens'\n",
       "7. 'Influenza'\n",
       "8. 'M.tuberculosis'\n",
       "9. 'MCPyV'\n",
       "10. 'MDavis'\n",
       "11. 'S-pneumoniae'\n",
       "\n",
       "\n"
      ],
      "text/plain": [
       " [1] \"CEF\"            \"CMV\"            \"EBV\"            \"HCV\"           \n",
       " [5] \"HPV\"            \"HomoSapiens\"    \"Influenza\"      \"M.tuberculosis\"\n",
       " [9] \"MCPyV\"          \"MDavis\"         \"S-pneumoniae\"  "
      ]
     },
     "metadata": {},
     "output_type": "display_data"
    }
   ],
   "source": [
    "names(table(gliphout$subject[!grepl(\"Emerson\", gliphout$Sample)]))"
   ]
  },
  {
   "cell_type": "code",
   "execution_count": 169,
   "metadata": {
    "vscode": {
     "languageId": "r"
    }
   },
   "outputs": [
    {
     "data": {
      "text/html": [
       "<table class=\"dataframe\">\n",
       "<caption>A data.frame: 6 x 12</caption>\n",
       "<thead>\n",
       "\t<tr><th></th><th scope=col>CMV</th><th scope=col>EBV</th><th scope=col>HCV</th><th scope=col>Influenza</th><th scope=col>HomoSapiens</th><th scope=col>MDavis</th><th scope=col>HPV</th><th scope=col>CEF</th><th scope=col>TB</th><th scope=col>MCPyV</th><th scope=col>SP</th><th scope=col>DENV</th></tr>\n",
       "\t<tr><th></th><th scope=col>&lt;lgl&gt;</th><th scope=col>&lt;lgl&gt;</th><th scope=col>&lt;lgl&gt;</th><th scope=col>&lt;lgl&gt;</th><th scope=col>&lt;lgl&gt;</th><th scope=col>&lt;lgl&gt;</th><th scope=col>&lt;lgl&gt;</th><th scope=col>&lt;lgl&gt;</th><th scope=col>&lt;lgl&gt;</th><th scope=col>&lt;lgl&gt;</th><th scope=col>&lt;lgl&gt;</th><th scope=col>&lt;lgl&gt;</th></tr>\n",
       "</thead>\n",
       "<tbody>\n",
       "\t<tr><th scope=row>SLG%E</th><td>NA</td><td>NA</td><td>NA</td><td>NA</td><td>NA</td><td>NA</td><td>NA</td><td>NA</td><td>NA</td><td>NA</td><td>NA</td><td>NA</td></tr>\n",
       "\t<tr><th scope=row>S%GSGE</th><td>NA</td><td>NA</td><td>NA</td><td>NA</td><td>NA</td><td>NA</td><td>NA</td><td>NA</td><td>NA</td><td>NA</td><td>NA</td><td>NA</td></tr>\n",
       "\t<tr><th scope=row>SLQG%E</th><td>NA</td><td>NA</td><td>NA</td><td>NA</td><td>NA</td><td>NA</td><td>NA</td><td>NA</td><td>NA</td><td>NA</td><td>NA</td><td>NA</td></tr>\n",
       "\t<tr><th scope=row>S%SGANV</th><td>NA</td><td>NA</td><td>NA</td><td>NA</td><td>NA</td><td>NA</td><td>NA</td><td>NA</td><td>NA</td><td>NA</td><td>NA</td><td>NA</td></tr>\n",
       "\t<tr><th scope=row>S%GGNTE</th><td>NA</td><td>NA</td><td>NA</td><td>NA</td><td>NA</td><td>NA</td><td>NA</td><td>NA</td><td>NA</td><td>NA</td><td>NA</td><td>NA</td></tr>\n",
       "\t<tr><th scope=row>S%TGNTE</th><td>NA</td><td>NA</td><td>NA</td><td>NA</td><td>NA</td><td>NA</td><td>NA</td><td>NA</td><td>NA</td><td>NA</td><td>NA</td><td>NA</td></tr>\n",
       "</tbody>\n",
       "</table>\n"
      ],
      "text/latex": [
       "A data.frame: 6 x 12\n",
       "\\begin{tabular}{r|llllllllllll}\n",
       "  & CMV & EBV & HCV & Influenza & HomoSapiens & MDavis & HPV & CEF & TB & MCPyV & SP & DENV\\\\\n",
       "  & <lgl> & <lgl> & <lgl> & <lgl> & <lgl> & <lgl> & <lgl> & <lgl> & <lgl> & <lgl> & <lgl> & <lgl>\\\\\n",
       "\\hline\n",
       "\tSLG\\%E & NA & NA & NA & NA & NA & NA & NA & NA & NA & NA & NA & NA\\\\\n",
       "\tS\\%GSGE & NA & NA & NA & NA & NA & NA & NA & NA & NA & NA & NA & NA\\\\\n",
       "\tSLQG\\%E & NA & NA & NA & NA & NA & NA & NA & NA & NA & NA & NA & NA\\\\\n",
       "\tS\\%SGANV & NA & NA & NA & NA & NA & NA & NA & NA & NA & NA & NA & NA\\\\\n",
       "\tS\\%GGNTE & NA & NA & NA & NA & NA & NA & NA & NA & NA & NA & NA & NA\\\\\n",
       "\tS\\%TGNTE & NA & NA & NA & NA & NA & NA & NA & NA & NA & NA & NA & NA\\\\\n",
       "\\end{tabular}\n"
      ],
      "text/markdown": [
       "\n",
       "A data.frame: 6 x 12\n",
       "\n",
       "| <!--/--> | CMV &lt;lgl&gt; | EBV &lt;lgl&gt; | HCV &lt;lgl&gt; | Influenza &lt;lgl&gt; | HomoSapiens &lt;lgl&gt; | MDavis &lt;lgl&gt; | HPV &lt;lgl&gt; | CEF &lt;lgl&gt; | TB &lt;lgl&gt; | MCPyV &lt;lgl&gt; | SP &lt;lgl&gt; | DENV &lt;lgl&gt; |\n",
       "|---|---|---|---|---|---|---|---|---|---|---|---|---|\n",
       "| SLG%E | NA | NA | NA | NA | NA | NA | NA | NA | NA | NA | NA | NA |\n",
       "| S%GSGE | NA | NA | NA | NA | NA | NA | NA | NA | NA | NA | NA | NA |\n",
       "| SLQG%E | NA | NA | NA | NA | NA | NA | NA | NA | NA | NA | NA | NA |\n",
       "| S%SGANV | NA | NA | NA | NA | NA | NA | NA | NA | NA | NA | NA | NA |\n",
       "| S%GGNTE | NA | NA | NA | NA | NA | NA | NA | NA | NA | NA | NA | NA |\n",
       "| S%TGNTE | NA | NA | NA | NA | NA | NA | NA | NA | NA | NA | NA | NA |\n",
       "\n"
      ],
      "text/plain": [
       "        CMV EBV HCV Influenza HomoSapiens MDavis HPV CEF TB MCPyV SP DENV\n",
       "SLG%E   NA  NA  NA  NA        NA          NA     NA  NA  NA NA    NA NA  \n",
       "S%GSGE  NA  NA  NA  NA        NA          NA     NA  NA  NA NA    NA NA  \n",
       "SLQG%E  NA  NA  NA  NA        NA          NA     NA  NA  NA NA    NA NA  \n",
       "S%SGANV NA  NA  NA  NA        NA          NA     NA  NA  NA NA    NA NA  \n",
       "S%GGNTE NA  NA  NA  NA        NA          NA     NA  NA  NA NA    NA NA  \n",
       "S%TGNTE NA  NA  NA  NA        NA          NA     NA  NA  NA NA    NA NA  "
      ]
     },
     "metadata": {},
     "output_type": "display_data"
    }
   ],
   "source": [
    "head(gliphdf_freq)"
   ]
  },
  {
   "cell_type": "code",
   "execution_count": 170,
   "metadata": {
    "vscode": {
     "languageId": "r"
    }
   },
   "outputs": [],
   "source": [
    "for(i in 1:nrow(gliphdf_freq)){\n",
    "\n",
    "mygliph <- gliphout[gliphout$pattern == rownames(gliphdf_freq)[i],]\n",
    "# sum Freq of CHP samples if  if mygliph$Sample ciontains CMV\n",
    "gliphdf_freq$CMV[i] <- ifelse(sum(grepl(\"CMV\", mygliph$subject)) > 0, sum(mygliph$Freq[grepl(\"Emerson\", mygliph$Sample)]), 0)\n",
    "gliphdf_freq$EBV[i] <- ifelse(sum(grepl(\"EBV\", mygliph$subject)) > 0, sum(mygliph$Freq[grepl(\"Emerson\", mygliph$Sample)]), 0)\n",
    "gliphdf_freq$HCV[i] <- ifelse(sum(grepl(\"HCV\", mygliph$subject)) > 0, sum(mygliph$Freq[grepl(\"Emerson\", mygliph$Sample)]), 0)\n",
    "gliphdf_freq$Influenza[i] <- ifelse(sum(grepl(\"Influenza\", mygliph$subject)) > 0, sum(mygliph$Freq[grepl(\"Emerson\", mygliph$Sample)]), 0)\n",
    "\n",
    "gliphdf_freq$HomoSapiens[i] <- ifelse(sum(grepl(\"HomoSapiens\", mygliph$subject)) > 0, sum(mygliph$Freq[grepl(\"Emerson\", mygliph$Sample)]), 0)\n",
    "gliphdf_freq$MDavis[i] <- ifelse(sum(grepl(\"MDavis\", mygliph$subject)) > 0, sum(mygliph$Freq[grepl(\"Emerson\", mygliph$Sample)]), 0)\n",
    "\n",
    "gliphdf_freq$HPV[i] <- ifelse(sum(grepl(\"HPV\", mygliph$subject)) > 0, sum(mygliph$Freq[grepl(\"Emerson\", mygliph$Sample)]), 0)\n",
    "gliphdf_freq$CEF[i] <- ifelse(sum(grepl(\"CEF\", mygliph$subject)) > 0, sum(mygliph$Freq[grepl(\"Emerson\", mygliph$Sample)]), 0)\n",
    "gliphdf_freq$TB[i] <- ifelse(sum(grepl(\"M.tuberculosis\", mygliph$subject)) > 0, sum(mygliph$Freq[grepl(\"Emerson\", mygliph$Sample)]), 0)\n",
    "gliphdf_freq$MCPyV[i] <- ifelse(sum(grepl(\"MCPyV\", mygliph$subject)) > 0, sum(mygliph$Freq[grepl(\"Emerson\", mygliph$Sample)]), 0)\n",
    "gliphdf_freq$SP[i] <- ifelse(sum(grepl(\"S-pneumoniae\", mygliph$subject)) > 0, sum(mygliph$Freq[grepl(\"Emerson\", mygliph$Sample)]), 0)\n",
    "# gliphdf_freq$HTLV1[i] <- ifelse(sum(grepl(\"HTLV-1\", mygliph$subject)) > 0, sum(mygliph$Freq[grepl(\"CHP\", mygliph$Sample)]), 0)\n",
    "# gliphdf_freq$DENV[i] <- ifelse(sum(grepl(\"DENV\", mygliph$subject)) > 0, sum(mygliph$Freq[grepl(\"Emerson\", mygliph$Sample)]), 0)\n",
    "}"
   ]
  },
  {
   "cell_type": "code",
   "execution_count": 171,
   "metadata": {
    "vscode": {
     "languageId": "r"
    }
   },
   "outputs": [
    {
     "data": {
      "text/html": [
       "<table class=\"dataframe\">\n",
       "<caption>A data.frame: 6 x 14</caption>\n",
       "<thead>\n",
       "\t<tr><th></th><th scope=col>gliph</th><th scope=col>CMV</th><th scope=col>EBV</th><th scope=col>HCV</th><th scope=col>Influenza</th><th scope=col>HomoSapiens</th><th scope=col>MDavis</th><th scope=col>HPV</th><th scope=col>CEF</th><th scope=col>TB</th><th scope=col>MCPyV</th><th scope=col>SP</th><th scope=col>DENV</th><th scope=col>n_unique_cdr3</th></tr>\n",
       "\t<tr><th></th><th scope=col>&lt;chr&gt;</th><th scope=col>&lt;dbl&gt;</th><th scope=col>&lt;dbl&gt;</th><th scope=col>&lt;dbl&gt;</th><th scope=col>&lt;dbl&gt;</th><th scope=col>&lt;dbl&gt;</th><th scope=col>&lt;dbl&gt;</th><th scope=col>&lt;dbl&gt;</th><th scope=col>&lt;dbl&gt;</th><th scope=col>&lt;dbl&gt;</th><th scope=col>&lt;dbl&gt;</th><th scope=col>&lt;dbl&gt;</th><th scope=col>&lt;dbl&gt;</th><th scope=col>&lt;int&gt;</th></tr>\n",
       "</thead>\n",
       "<tbody>\n",
       "\t<tr><th scope=row>SLG%E</th><td>SLG%E  </td><td>0</td><td>0</td><td>0</td><td>0</td><td>0</td><td>39</td><td>0</td><td>0</td><td>0</td><td>0</td><td>0</td><td>0</td><td>40</td></tr>\n",
       "\t<tr><th scope=row>S%GSGE</th><td>S%GSGE </td><td>0</td><td>0</td><td>0</td><td>0</td><td>0</td><td>32</td><td>0</td><td>0</td><td>0</td><td>0</td><td>0</td><td>0</td><td>33</td></tr>\n",
       "\t<tr><th scope=row>SLQG%E</th><td>SLQG%E </td><td>0</td><td>0</td><td>0</td><td>0</td><td>0</td><td>30</td><td>1</td><td>0</td><td>0</td><td>0</td><td>0</td><td>0</td><td>30</td></tr>\n",
       "\t<tr><th scope=row>S%SGANV</th><td>S%SGANV</td><td>0</td><td>0</td><td>0</td><td>0</td><td>0</td><td>34</td><td>0</td><td>0</td><td>0</td><td>0</td><td>0</td><td>0</td><td>34</td></tr>\n",
       "\t<tr><th scope=row>S%GGNTE</th><td>S%GGNTE</td><td>0</td><td>0</td><td>0</td><td>0</td><td>1</td><td>40</td><td>0</td><td>0</td><td>0</td><td>0</td><td>0</td><td>0</td><td>40</td></tr>\n",
       "\t<tr><th scope=row>S%TGNTE</th><td>S%TGNTE</td><td>0</td><td>0</td><td>0</td><td>0</td><td>0</td><td>34</td><td>0</td><td>0</td><td>0</td><td>0</td><td>0</td><td>0</td><td>34</td></tr>\n",
       "</tbody>\n",
       "</table>\n"
      ],
      "text/latex": [
       "A data.frame: 6 x 14\n",
       "\\begin{tabular}{r|llllllllllllll}\n",
       "  & gliph & CMV & EBV & HCV & Influenza & HomoSapiens & MDavis & HPV & CEF & TB & MCPyV & SP & DENV & n\\_unique\\_cdr3\\\\\n",
       "  & <chr> & <dbl> & <dbl> & <dbl> & <dbl> & <dbl> & <dbl> & <dbl> & <dbl> & <dbl> & <dbl> & <dbl> & <dbl> & <int>\\\\\n",
       "\\hline\n",
       "\tSLG\\%E & SLG\\%E   & 0 & 0 & 0 & 0 & 0 & 39 & 0 & 0 & 0 & 0 & 0 & 0 & 40\\\\\n",
       "\tS\\%GSGE & S\\%GSGE  & 0 & 0 & 0 & 0 & 0 & 32 & 0 & 0 & 0 & 0 & 0 & 0 & 33\\\\\n",
       "\tSLQG\\%E & SLQG\\%E  & 0 & 0 & 0 & 0 & 0 & 30 & 1 & 0 & 0 & 0 & 0 & 0 & 30\\\\\n",
       "\tS\\%SGANV & S\\%SGANV & 0 & 0 & 0 & 0 & 0 & 34 & 0 & 0 & 0 & 0 & 0 & 0 & 34\\\\\n",
       "\tS\\%GGNTE & S\\%GGNTE & 0 & 0 & 0 & 0 & 1 & 40 & 0 & 0 & 0 & 0 & 0 & 0 & 40\\\\\n",
       "\tS\\%TGNTE & S\\%TGNTE & 0 & 0 & 0 & 0 & 0 & 34 & 0 & 0 & 0 & 0 & 0 & 0 & 34\\\\\n",
       "\\end{tabular}\n"
      ],
      "text/markdown": [
       "\n",
       "A data.frame: 6 x 14\n",
       "\n",
       "| <!--/--> | gliph &lt;chr&gt; | CMV &lt;dbl&gt; | EBV &lt;dbl&gt; | HCV &lt;dbl&gt; | Influenza &lt;dbl&gt; | HomoSapiens &lt;dbl&gt; | MDavis &lt;dbl&gt; | HPV &lt;dbl&gt; | CEF &lt;dbl&gt; | TB &lt;dbl&gt; | MCPyV &lt;dbl&gt; | SP &lt;dbl&gt; | DENV &lt;dbl&gt; | n_unique_cdr3 &lt;int&gt; |\n",
       "|---|---|---|---|---|---|---|---|---|---|---|---|---|---|---|\n",
       "| SLG%E | SLG%E   | 0 | 0 | 0 | 0 | 0 | 39 | 0 | 0 | 0 | 0 | 0 | 0 | 40 |\n",
       "| S%GSGE | S%GSGE  | 0 | 0 | 0 | 0 | 0 | 32 | 0 | 0 | 0 | 0 | 0 | 0 | 33 |\n",
       "| SLQG%E | SLQG%E  | 0 | 0 | 0 | 0 | 0 | 30 | 1 | 0 | 0 | 0 | 0 | 0 | 30 |\n",
       "| S%SGANV | S%SGANV | 0 | 0 | 0 | 0 | 0 | 34 | 0 | 0 | 0 | 0 | 0 | 0 | 34 |\n",
       "| S%GGNTE | S%GGNTE | 0 | 0 | 0 | 0 | 1 | 40 | 0 | 0 | 0 | 0 | 0 | 0 | 40 |\n",
       "| S%TGNTE | S%TGNTE | 0 | 0 | 0 | 0 | 0 | 34 | 0 | 0 | 0 | 0 | 0 | 0 | 34 |\n",
       "\n"
      ],
      "text/plain": [
       "        gliph   CMV EBV HCV Influenza HomoSapiens MDavis HPV CEF TB MCPyV SP\n",
       "SLG%E   SLG%E   0   0   0   0         0           39     0   0   0  0     0 \n",
       "S%GSGE  S%GSGE  0   0   0   0         0           32     0   0   0  0     0 \n",
       "SLQG%E  SLQG%E  0   0   0   0         0           30     1   0   0  0     0 \n",
       "S%SGANV S%SGANV 0   0   0   0         0           34     0   0   0  0     0 \n",
       "S%GGNTE S%GGNTE 0   0   0   0         1           40     0   0   0  0     0 \n",
       "S%TGNTE S%TGNTE 0   0   0   0         0           34     0   0   0  0     0 \n",
       "        DENV n_unique_cdr3\n",
       "SLG%E   0    40           \n",
       "S%GSGE  0    33           \n",
       "SLQG%E  0    30           \n",
       "S%SGANV 0    34           \n",
       "S%GGNTE 0    40           \n",
       "S%TGNTE 0    34           "
      ]
     },
     "metadata": {},
     "output_type": "display_data"
    }
   ],
   "source": [
    "head(gliphdf)"
   ]
  },
  {
   "cell_type": "code",
   "execution_count": 172,
   "metadata": {
    "vscode": {
     "languageId": "r"
    }
   },
   "outputs": [
    {
     "data": {
      "text/html": [
       "<table class=\"dataframe\">\n",
       "<caption>A data.frame: 6 x 12</caption>\n",
       "<thead>\n",
       "\t<tr><th></th><th scope=col>CMV</th><th scope=col>EBV</th><th scope=col>HCV</th><th scope=col>Influenza</th><th scope=col>HomoSapiens</th><th scope=col>MDavis</th><th scope=col>HPV</th><th scope=col>CEF</th><th scope=col>TB</th><th scope=col>MCPyV</th><th scope=col>SP</th><th scope=col>DENV</th></tr>\n",
       "\t<tr><th></th><th scope=col>&lt;dbl&gt;</th><th scope=col>&lt;dbl&gt;</th><th scope=col>&lt;dbl&gt;</th><th scope=col>&lt;dbl&gt;</th><th scope=col>&lt;dbl&gt;</th><th scope=col>&lt;dbl&gt;</th><th scope=col>&lt;dbl&gt;</th><th scope=col>&lt;dbl&gt;</th><th scope=col>&lt;dbl&gt;</th><th scope=col>&lt;dbl&gt;</th><th scope=col>&lt;dbl&gt;</th><th scope=col>&lt;lgl&gt;</th></tr>\n",
       "</thead>\n",
       "<tbody>\n",
       "\t<tr><th scope=row>SLG%E</th><td>0</td><td>0</td><td>0</td><td>0</td><td>  0</td><td>147</td><td>0</td><td>0</td><td>0</td><td>0</td><td>0</td><td>NA</td></tr>\n",
       "\t<tr><th scope=row>S%GSGE</th><td>0</td><td>0</td><td>0</td><td>0</td><td>  0</td><td> 19</td><td>0</td><td>0</td><td>0</td><td>0</td><td>0</td><td>NA</td></tr>\n",
       "\t<tr><th scope=row>SLQG%E</th><td>0</td><td>0</td><td>0</td><td>0</td><td>  0</td><td>  0</td><td>0</td><td>0</td><td>0</td><td>0</td><td>0</td><td>NA</td></tr>\n",
       "\t<tr><th scope=row>S%SGANV</th><td>0</td><td>0</td><td>0</td><td>0</td><td>  0</td><td> 41</td><td>0</td><td>0</td><td>0</td><td>0</td><td>0</td><td>NA</td></tr>\n",
       "\t<tr><th scope=row>S%GGNTE</th><td>0</td><td>0</td><td>0</td><td>0</td><td>164</td><td>164</td><td>0</td><td>0</td><td>0</td><td>0</td><td>0</td><td>NA</td></tr>\n",
       "\t<tr><th scope=row>S%TGNTE</th><td>0</td><td>0</td><td>0</td><td>0</td><td>  0</td><td> 89</td><td>0</td><td>0</td><td>0</td><td>0</td><td>0</td><td>NA</td></tr>\n",
       "</tbody>\n",
       "</table>\n"
      ],
      "text/latex": [
       "A data.frame: 6 x 12\n",
       "\\begin{tabular}{r|llllllllllll}\n",
       "  & CMV & EBV & HCV & Influenza & HomoSapiens & MDavis & HPV & CEF & TB & MCPyV & SP & DENV\\\\\n",
       "  & <dbl> & <dbl> & <dbl> & <dbl> & <dbl> & <dbl> & <dbl> & <dbl> & <dbl> & <dbl> & <dbl> & <lgl>\\\\\n",
       "\\hline\n",
       "\tSLG\\%E & 0 & 0 & 0 & 0 &   0 & 147 & 0 & 0 & 0 & 0 & 0 & NA\\\\\n",
       "\tS\\%GSGE & 0 & 0 & 0 & 0 &   0 &  19 & 0 & 0 & 0 & 0 & 0 & NA\\\\\n",
       "\tSLQG\\%E & 0 & 0 & 0 & 0 &   0 &   0 & 0 & 0 & 0 & 0 & 0 & NA\\\\\n",
       "\tS\\%SGANV & 0 & 0 & 0 & 0 &   0 &  41 & 0 & 0 & 0 & 0 & 0 & NA\\\\\n",
       "\tS\\%GGNTE & 0 & 0 & 0 & 0 & 164 & 164 & 0 & 0 & 0 & 0 & 0 & NA\\\\\n",
       "\tS\\%TGNTE & 0 & 0 & 0 & 0 &   0 &  89 & 0 & 0 & 0 & 0 & 0 & NA\\\\\n",
       "\\end{tabular}\n"
      ],
      "text/markdown": [
       "\n",
       "A data.frame: 6 x 12\n",
       "\n",
       "| <!--/--> | CMV &lt;dbl&gt; | EBV &lt;dbl&gt; | HCV &lt;dbl&gt; | Influenza &lt;dbl&gt; | HomoSapiens &lt;dbl&gt; | MDavis &lt;dbl&gt; | HPV &lt;dbl&gt; | CEF &lt;dbl&gt; | TB &lt;dbl&gt; | MCPyV &lt;dbl&gt; | SP &lt;dbl&gt; | DENV &lt;lgl&gt; |\n",
       "|---|---|---|---|---|---|---|---|---|---|---|---|---|\n",
       "| SLG%E | 0 | 0 | 0 | 0 |   0 | 147 | 0 | 0 | 0 | 0 | 0 | NA |\n",
       "| S%GSGE | 0 | 0 | 0 | 0 |   0 |  19 | 0 | 0 | 0 | 0 | 0 | NA |\n",
       "| SLQG%E | 0 | 0 | 0 | 0 |   0 |   0 | 0 | 0 | 0 | 0 | 0 | NA |\n",
       "| S%SGANV | 0 | 0 | 0 | 0 |   0 |  41 | 0 | 0 | 0 | 0 | 0 | NA |\n",
       "| S%GGNTE | 0 | 0 | 0 | 0 | 164 | 164 | 0 | 0 | 0 | 0 | 0 | NA |\n",
       "| S%TGNTE | 0 | 0 | 0 | 0 |   0 |  89 | 0 | 0 | 0 | 0 | 0 | NA |\n",
       "\n"
      ],
      "text/plain": [
       "        CMV EBV HCV Influenza HomoSapiens MDavis HPV CEF TB MCPyV SP DENV\n",
       "SLG%E   0   0   0   0           0         147    0   0   0  0     0  NA  \n",
       "S%GSGE  0   0   0   0           0          19    0   0   0  0     0  NA  \n",
       "SLQG%E  0   0   0   0           0           0    0   0   0  0     0  NA  \n",
       "S%SGANV 0   0   0   0           0          41    0   0   0  0     0  NA  \n",
       "S%GGNTE 0   0   0   0         164         164    0   0   0  0     0  NA  \n",
       "S%TGNTE 0   0   0   0           0          89    0   0   0  0     0  NA  "
      ]
     },
     "metadata": {},
     "output_type": "display_data"
    }
   ],
   "source": [
    "head(gliphdf_freq)"
   ]
  },
  {
   "cell_type": "code",
   "execution_count": 173,
   "metadata": {
    "vscode": {
     "languageId": "r"
    }
   },
   "outputs": [
    {
     "data": {
      "text/html": [
       "<style>\n",
       ".list-inline {list-style: none; margin:0; padding: 0}\n",
       ".list-inline>li {display: inline-block}\n",
       ".list-inline>li:not(:last-child)::after {content: \"\\00b7\"; padding: 0 .5ex}\n",
       "</style>\n",
       "<ol class=list-inline><li>'index'</li><li>'pattern'</li><li>'Fisher_score'</li><li>'number_subject'</li><li>'number_unique_cdr3'</li><li>'final_score'</li><li>'hla_score'</li><li>'vb_score'</li><li>'expansion_score'</li><li>'length_score'</li><li>'cluster_size_score'</li><li>'type'</li><li>'TcRb'</li><li>'V'</li><li>'J'</li><li>'TcRa'</li><li>'Sample'</li><li>'Freq'</li><li>'subject'</li></ol>\n"
      ],
      "text/latex": [
       "\\begin{enumerate*}\n",
       "\\item 'index'\n",
       "\\item 'pattern'\n",
       "\\item 'Fisher\\_score'\n",
       "\\item 'number\\_subject'\n",
       "\\item 'number\\_unique\\_cdr3'\n",
       "\\item 'final\\_score'\n",
       "\\item 'hla\\_score'\n",
       "\\item 'vb\\_score'\n",
       "\\item 'expansion\\_score'\n",
       "\\item 'length\\_score'\n",
       "\\item 'cluster\\_size\\_score'\n",
       "\\item 'type'\n",
       "\\item 'TcRb'\n",
       "\\item 'V'\n",
       "\\item 'J'\n",
       "\\item 'TcRa'\n",
       "\\item 'Sample'\n",
       "\\item 'Freq'\n",
       "\\item 'subject'\n",
       "\\end{enumerate*}\n"
      ],
      "text/markdown": [
       "1. 'index'\n",
       "2. 'pattern'\n",
       "3. 'Fisher_score'\n",
       "4. 'number_subject'\n",
       "5. 'number_unique_cdr3'\n",
       "6. 'final_score'\n",
       "7. 'hla_score'\n",
       "8. 'vb_score'\n",
       "9. 'expansion_score'\n",
       "10. 'length_score'\n",
       "11. 'cluster_size_score'\n",
       "12. 'type'\n",
       "13. 'TcRb'\n",
       "14. 'V'\n",
       "15. 'J'\n",
       "16. 'TcRa'\n",
       "17. 'Sample'\n",
       "18. 'Freq'\n",
       "19. 'subject'\n",
       "\n",
       "\n"
      ],
      "text/plain": [
       " [1] \"index\"              \"pattern\"            \"Fisher_score\"      \n",
       " [4] \"number_subject\"     \"number_unique_cdr3\" \"final_score\"       \n",
       " [7] \"hla_score\"          \"vb_score\"           \"expansion_score\"   \n",
       "[10] \"length_score\"       \"cluster_size_score\" \"type\"              \n",
       "[13] \"TcRb\"               \"V\"                  \"J\"                 \n",
       "[16] \"TcRa\"               \"Sample\"             \"Freq\"              \n",
       "[19] \"subject\"           "
      ]
     },
     "metadata": {},
     "output_type": "display_data"
    }
   ],
   "source": [
    "colnames(gliphout)"
   ]
  },
  {
   "cell_type": "code",
   "execution_count": 174,
   "metadata": {
    "vscode": {
     "languageId": "r"
    }
   },
   "outputs": [
    {
     "data": {
      "text/html": [
       "<table class=\"dataframe\">\n",
       "<caption>A data.frame: 6 x 18</caption>\n",
       "<thead>\n",
       "\t<tr><th></th><th scope=col>CMV</th><th scope=col>EBV</th><th scope=col>HCV</th><th scope=col>Influenza</th><th scope=col>HomoSapiens</th><th scope=col>MDavis</th><th scope=col>HPV</th><th scope=col>CEF</th><th scope=col>TB</th><th scope=col>MCPyV</th><th scope=col>SP</th><th scope=col>DENV</th><th scope=col>n_cdr3</th><th scope=col>cdr3_reads</th><th scope=col>n_gliph</th><th scope=col>n_cdr3ingliph</th><th scope=col>cdr3reads_ingliph</th><th scope=col>study</th></tr>\n",
       "\t<tr><th></th><th scope=col>&lt;lgl&gt;</th><th scope=col>&lt;lgl&gt;</th><th scope=col>&lt;lgl&gt;</th><th scope=col>&lt;lgl&gt;</th><th scope=col>&lt;lgl&gt;</th><th scope=col>&lt;lgl&gt;</th><th scope=col>&lt;lgl&gt;</th><th scope=col>&lt;lgl&gt;</th><th scope=col>&lt;lgl&gt;</th><th scope=col>&lt;lgl&gt;</th><th scope=col>&lt;lgl&gt;</th><th scope=col>&lt;lgl&gt;</th><th scope=col>&lt;int&gt;</th><th scope=col>&lt;dbl&gt;</th><th scope=col>&lt;dbl&gt;</th><th scope=col>&lt;int&gt;</th><th scope=col>&lt;dbl&gt;</th><th scope=col>&lt;chr&gt;</th></tr>\n",
       "</thead>\n",
       "<tbody>\n",
       "\t<tr><th scope=row>Emerson:P00015</th><td>NA</td><td>NA</td><td>NA</td><td>NA</td><td>NA</td><td>NA</td><td>NA</td><td>NA</td><td>NA</td><td>NA</td><td>NA</td><td>NA</td><td>314</td><td>10948</td><td>168</td><td> 91</td><td>6341</td><td>Emerson_child</td></tr>\n",
       "\t<tr><th scope=row>Emerson:P00023</th><td>NA</td><td>NA</td><td>NA</td><td>NA</td><td>NA</td><td>NA</td><td>NA</td><td>NA</td><td>NA</td><td>NA</td><td>NA</td><td>NA</td><td> 82</td><td> 2726</td><td> 41</td><td> 24</td><td>1405</td><td>Emerson_child</td></tr>\n",
       "\t<tr><th scope=row>Emerson:P00091</th><td>NA</td><td>NA</td><td>NA</td><td>NA</td><td>NA</td><td>NA</td><td>NA</td><td>NA</td><td>NA</td><td>NA</td><td>NA</td><td>NA</td><td>504</td><td> 8596</td><td>275</td><td>148</td><td>5119</td><td>Emerson_child</td></tr>\n",
       "\t<tr><th scope=row>Emerson:P00092</th><td>NA</td><td>NA</td><td>NA</td><td>NA</td><td>NA</td><td>NA</td><td>NA</td><td>NA</td><td>NA</td><td>NA</td><td>NA</td><td>NA</td><td>205</td><td> 4968</td><td> 96</td><td> 55</td><td>2370</td><td>Emerson_child</td></tr>\n",
       "\t<tr><th scope=row>Emerson:P00171</th><td>NA</td><td>NA</td><td>NA</td><td>NA</td><td>NA</td><td>NA</td><td>NA</td><td>NA</td><td>NA</td><td>NA</td><td>NA</td><td>NA</td><td>  3</td><td>   46</td><td>  2</td><td>  1</td><td>  26</td><td>Emerson_child</td></tr>\n",
       "\t<tr><th scope=row>Emerson:P00183</th><td>NA</td><td>NA</td><td>NA</td><td>NA</td><td>NA</td><td>NA</td><td>NA</td><td>NA</td><td>NA</td><td>NA</td><td>NA</td><td>NA</td><td>252</td><td> 4797</td><td>147</td><td> 86</td><td>3061</td><td>Emerson_child</td></tr>\n",
       "</tbody>\n",
       "</table>\n"
      ],
      "text/latex": [
       "A data.frame: 6 x 18\n",
       "\\begin{tabular}{r|llllllllllllllllll}\n",
       "  & CMV & EBV & HCV & Influenza & HomoSapiens & MDavis & HPV & CEF & TB & MCPyV & SP & DENV & n\\_cdr3 & cdr3\\_reads & n\\_gliph & n\\_cdr3ingliph & cdr3reads\\_ingliph & study\\\\\n",
       "  & <lgl> & <lgl> & <lgl> & <lgl> & <lgl> & <lgl> & <lgl> & <lgl> & <lgl> & <lgl> & <lgl> & <lgl> & <int> & <dbl> & <dbl> & <int> & <dbl> & <chr>\\\\\n",
       "\\hline\n",
       "\tEmerson:P00015 & NA & NA & NA & NA & NA & NA & NA & NA & NA & NA & NA & NA & 314 & 10948 & 168 &  91 & 6341 & Emerson\\_child\\\\\n",
       "\tEmerson:P00023 & NA & NA & NA & NA & NA & NA & NA & NA & NA & NA & NA & NA &  82 &  2726 &  41 &  24 & 1405 & Emerson\\_child\\\\\n",
       "\tEmerson:P00091 & NA & NA & NA & NA & NA & NA & NA & NA & NA & NA & NA & NA & 504 &  8596 & 275 & 148 & 5119 & Emerson\\_child\\\\\n",
       "\tEmerson:P00092 & NA & NA & NA & NA & NA & NA & NA & NA & NA & NA & NA & NA & 205 &  4968 &  96 &  55 & 2370 & Emerson\\_child\\\\\n",
       "\tEmerson:P00171 & NA & NA & NA & NA & NA & NA & NA & NA & NA & NA & NA & NA &   3 &    46 &   2 &   1 &   26 & Emerson\\_child\\\\\n",
       "\tEmerson:P00183 & NA & NA & NA & NA & NA & NA & NA & NA & NA & NA & NA & NA & 252 &  4797 & 147 &  86 & 3061 & Emerson\\_child\\\\\n",
       "\\end{tabular}\n"
      ],
      "text/markdown": [
       "\n",
       "A data.frame: 6 x 18\n",
       "\n",
       "| <!--/--> | CMV &lt;lgl&gt; | EBV &lt;lgl&gt; | HCV &lt;lgl&gt; | Influenza &lt;lgl&gt; | HomoSapiens &lt;lgl&gt; | MDavis &lt;lgl&gt; | HPV &lt;lgl&gt; | CEF &lt;lgl&gt; | TB &lt;lgl&gt; | MCPyV &lt;lgl&gt; | SP &lt;lgl&gt; | DENV &lt;lgl&gt; | n_cdr3 &lt;int&gt; | cdr3_reads &lt;dbl&gt; | n_gliph &lt;dbl&gt; | n_cdr3ingliph &lt;int&gt; | cdr3reads_ingliph &lt;dbl&gt; | study &lt;chr&gt; |\n",
       "|---|---|---|---|---|---|---|---|---|---|---|---|---|---|---|---|---|---|---|\n",
       "| Emerson:P00015 | NA | NA | NA | NA | NA | NA | NA | NA | NA | NA | NA | NA | 314 | 10948 | 168 |  91 | 6341 | Emerson_child |\n",
       "| Emerson:P00023 | NA | NA | NA | NA | NA | NA | NA | NA | NA | NA | NA | NA |  82 |  2726 |  41 |  24 | 1405 | Emerson_child |\n",
       "| Emerson:P00091 | NA | NA | NA | NA | NA | NA | NA | NA | NA | NA | NA | NA | 504 |  8596 | 275 | 148 | 5119 | Emerson_child |\n",
       "| Emerson:P00092 | NA | NA | NA | NA | NA | NA | NA | NA | NA | NA | NA | NA | 205 |  4968 |  96 |  55 | 2370 | Emerson_child |\n",
       "| Emerson:P00171 | NA | NA | NA | NA | NA | NA | NA | NA | NA | NA | NA | NA |   3 |    46 |   2 |   1 |   26 | Emerson_child |\n",
       "| Emerson:P00183 | NA | NA | NA | NA | NA | NA | NA | NA | NA | NA | NA | NA | 252 |  4797 | 147 |  86 | 3061 | Emerson_child |\n",
       "\n"
      ],
      "text/plain": [
       "               CMV EBV HCV Influenza HomoSapiens MDavis HPV CEF TB MCPyV SP\n",
       "Emerson:P00015 NA  NA  NA  NA        NA          NA     NA  NA  NA NA    NA\n",
       "Emerson:P00023 NA  NA  NA  NA        NA          NA     NA  NA  NA NA    NA\n",
       "Emerson:P00091 NA  NA  NA  NA        NA          NA     NA  NA  NA NA    NA\n",
       "Emerson:P00092 NA  NA  NA  NA        NA          NA     NA  NA  NA NA    NA\n",
       "Emerson:P00171 NA  NA  NA  NA        NA          NA     NA  NA  NA NA    NA\n",
       "Emerson:P00183 NA  NA  NA  NA        NA          NA     NA  NA  NA NA    NA\n",
       "               DENV n_cdr3 cdr3_reads n_gliph n_cdr3ingliph cdr3reads_ingliph\n",
       "Emerson:P00015 NA   314    10948      168      91           6341             \n",
       "Emerson:P00023 NA    82     2726       41      24           1405             \n",
       "Emerson:P00091 NA   504     8596      275     148           5119             \n",
       "Emerson:P00092 NA   205     4968       96      55           2370             \n",
       "Emerson:P00171 NA     3       46        2       1             26             \n",
       "Emerson:P00183 NA   252     4797      147      86           3061             \n",
       "               study        \n",
       "Emerson:P00015 Emerson_child\n",
       "Emerson:P00023 Emerson_child\n",
       "Emerson:P00091 Emerson_child\n",
       "Emerson:P00092 Emerson_child\n",
       "Emerson:P00171 Emerson_child\n",
       "Emerson:P00183 Emerson_child"
      ]
     },
     "metadata": {},
     "output_type": "display_data"
    }
   ],
   "source": [
    "head(samples_tcr_freq)"
   ]
  },
  {
   "cell_type": "code",
   "execution_count": 175,
   "metadata": {
    "vscode": {
     "languageId": "r"
    }
   },
   "outputs": [
    {
     "data": {
      "text/html": [
       "<style>\n",
       ".list-inline {list-style: none; margin:0; padding: 0}\n",
       ".list-inline>li {display: inline-block}\n",
       ".list-inline>li:not(:last-child)::after {content: \"\\00b7\"; padding: 0 .5ex}\n",
       "</style>\n",
       "<ol class=list-inline><li>'CMV'</li><li>'EBV'</li><li>'HCV'</li><li>'Influenza'</li><li>'HomoSapiens'</li><li>'MDavis'</li><li>'HPV'</li><li>'CEF'</li><li>'TB'</li><li>'MCPyV'</li><li>'SP'</li><li>'DENV'</li></ol>\n"
      ],
      "text/latex": [
       "\\begin{enumerate*}\n",
       "\\item 'CMV'\n",
       "\\item 'EBV'\n",
       "\\item 'HCV'\n",
       "\\item 'Influenza'\n",
       "\\item 'HomoSapiens'\n",
       "\\item 'MDavis'\n",
       "\\item 'HPV'\n",
       "\\item 'CEF'\n",
       "\\item 'TB'\n",
       "\\item 'MCPyV'\n",
       "\\item 'SP'\n",
       "\\item 'DENV'\n",
       "\\end{enumerate*}\n"
      ],
      "text/markdown": [
       "1. 'CMV'\n",
       "2. 'EBV'\n",
       "3. 'HCV'\n",
       "4. 'Influenza'\n",
       "5. 'HomoSapiens'\n",
       "6. 'MDavis'\n",
       "7. 'HPV'\n",
       "8. 'CEF'\n",
       "9. 'TB'\n",
       "10. 'MCPyV'\n",
       "11. 'SP'\n",
       "12. 'DENV'\n",
       "\n",
       "\n"
      ],
      "text/plain": [
       " [1] \"CMV\"         \"EBV\"         \"HCV\"         \"Influenza\"   \"HomoSapiens\"\n",
       " [6] \"MDavis\"      \"HPV\"         \"CEF\"         \"TB\"          \"MCPyV\"      \n",
       "[11] \"SP\"          \"DENV\"       "
      ]
     },
     "metadata": {},
     "output_type": "display_data"
    },
    {
     "data": {
      "text/html": [
       "<style>\n",
       ".list-inline {list-style: none; margin:0; padding: 0}\n",
       ".list-inline>li {display: inline-block}\n",
       ".list-inline>li:not(:last-child)::after {content: \"\\00b7\"; padding: 0 .5ex}\n",
       "</style>\n",
       "<ol class=list-inline><li>'CMV'</li><li>'EBV'</li><li>'HCV'</li><li>'Influenza'</li><li>'HomoSapiens'</li><li>'MDavis'</li><li>'HPV'</li><li>'CEF'</li><li>'TB'</li><li>'MCPyV'</li><li>'SP'</li><li>'DENV'</li><li>'n_cdr3'</li><li>'cdr3_reads'</li><li>'n_gliph'</li><li>'n_cdr3ingliph'</li><li>'cdr3reads_ingliph'</li><li>'study'</li></ol>\n"
      ],
      "text/latex": [
       "\\begin{enumerate*}\n",
       "\\item 'CMV'\n",
       "\\item 'EBV'\n",
       "\\item 'HCV'\n",
       "\\item 'Influenza'\n",
       "\\item 'HomoSapiens'\n",
       "\\item 'MDavis'\n",
       "\\item 'HPV'\n",
       "\\item 'CEF'\n",
       "\\item 'TB'\n",
       "\\item 'MCPyV'\n",
       "\\item 'SP'\n",
       "\\item 'DENV'\n",
       "\\item 'n\\_cdr3'\n",
       "\\item 'cdr3\\_reads'\n",
       "\\item 'n\\_gliph'\n",
       "\\item 'n\\_cdr3ingliph'\n",
       "\\item 'cdr3reads\\_ingliph'\n",
       "\\item 'study'\n",
       "\\end{enumerate*}\n"
      ],
      "text/markdown": [
       "1. 'CMV'\n",
       "2. 'EBV'\n",
       "3. 'HCV'\n",
       "4. 'Influenza'\n",
       "5. 'HomoSapiens'\n",
       "6. 'MDavis'\n",
       "7. 'HPV'\n",
       "8. 'CEF'\n",
       "9. 'TB'\n",
       "10. 'MCPyV'\n",
       "11. 'SP'\n",
       "12. 'DENV'\n",
       "13. 'n_cdr3'\n",
       "14. 'cdr3_reads'\n",
       "15. 'n_gliph'\n",
       "16. 'n_cdr3ingliph'\n",
       "17. 'cdr3reads_ingliph'\n",
       "18. 'study'\n",
       "\n",
       "\n"
      ],
      "text/plain": [
       " [1] \"CMV\"               \"EBV\"               \"HCV\"              \n",
       " [4] \"Influenza\"         \"HomoSapiens\"       \"MDavis\"           \n",
       " [7] \"HPV\"               \"CEF\"               \"TB\"               \n",
       "[10] \"MCPyV\"             \"SP\"                \"DENV\"             \n",
       "[13] \"n_cdr3\"            \"cdr3_reads\"        \"n_gliph\"          \n",
       "[16] \"n_cdr3ingliph\"     \"cdr3reads_ingliph\" \"study\"            "
      ]
     },
     "metadata": {},
     "output_type": "display_data"
    }
   ],
   "source": [
    "colnames(gliphdf_freq)\n",
    "colnames(samples_tcr_freq)"
   ]
  },
  {
   "cell_type": "code",
   "execution_count": 176,
   "metadata": {
    "vscode": {
     "languageId": "r"
    }
   },
   "outputs": [],
   "source": [
    "gliphout$sample_id <- gsub(\"_.*\", \"\", gliphout$Sample)"
   ]
  },
  {
   "cell_type": "code",
   "execution_count": 177,
   "metadata": {
    "vscode": {
     "languageId": "r"
    }
   },
   "outputs": [
    {
     "data": {
      "text/html": [
       "<table class=\"dataframe\">\n",
       "<caption>A data.frame: 6 x 18</caption>\n",
       "<thead>\n",
       "\t<tr><th></th><th scope=col>CMV</th><th scope=col>EBV</th><th scope=col>HCV</th><th scope=col>Influenza</th><th scope=col>HomoSapiens</th><th scope=col>MDavis</th><th scope=col>HPV</th><th scope=col>CEF</th><th scope=col>TB</th><th scope=col>MCPyV</th><th scope=col>SP</th><th scope=col>DENV</th><th scope=col>n_cdr3</th><th scope=col>cdr3_reads</th><th scope=col>n_gliph</th><th scope=col>n_cdr3ingliph</th><th scope=col>cdr3reads_ingliph</th><th scope=col>study</th></tr>\n",
       "\t<tr><th></th><th scope=col>&lt;lgl&gt;</th><th scope=col>&lt;lgl&gt;</th><th scope=col>&lt;lgl&gt;</th><th scope=col>&lt;lgl&gt;</th><th scope=col>&lt;lgl&gt;</th><th scope=col>&lt;lgl&gt;</th><th scope=col>&lt;lgl&gt;</th><th scope=col>&lt;lgl&gt;</th><th scope=col>&lt;lgl&gt;</th><th scope=col>&lt;lgl&gt;</th><th scope=col>&lt;lgl&gt;</th><th scope=col>&lt;lgl&gt;</th><th scope=col>&lt;int&gt;</th><th scope=col>&lt;dbl&gt;</th><th scope=col>&lt;dbl&gt;</th><th scope=col>&lt;int&gt;</th><th scope=col>&lt;dbl&gt;</th><th scope=col>&lt;chr&gt;</th></tr>\n",
       "</thead>\n",
       "<tbody>\n",
       "\t<tr><th scope=row>Emerson:P00015</th><td>NA</td><td>NA</td><td>NA</td><td>NA</td><td>NA</td><td>NA</td><td>NA</td><td>NA</td><td>NA</td><td>NA</td><td>NA</td><td>NA</td><td>314</td><td>10948</td><td>168</td><td> 91</td><td>6341</td><td>Emerson_child</td></tr>\n",
       "\t<tr><th scope=row>Emerson:P00023</th><td>NA</td><td>NA</td><td>NA</td><td>NA</td><td>NA</td><td>NA</td><td>NA</td><td>NA</td><td>NA</td><td>NA</td><td>NA</td><td>NA</td><td> 82</td><td> 2726</td><td> 41</td><td> 24</td><td>1405</td><td>Emerson_child</td></tr>\n",
       "\t<tr><th scope=row>Emerson:P00091</th><td>NA</td><td>NA</td><td>NA</td><td>NA</td><td>NA</td><td>NA</td><td>NA</td><td>NA</td><td>NA</td><td>NA</td><td>NA</td><td>NA</td><td>504</td><td> 8596</td><td>275</td><td>148</td><td>5119</td><td>Emerson_child</td></tr>\n",
       "\t<tr><th scope=row>Emerson:P00092</th><td>NA</td><td>NA</td><td>NA</td><td>NA</td><td>NA</td><td>NA</td><td>NA</td><td>NA</td><td>NA</td><td>NA</td><td>NA</td><td>NA</td><td>205</td><td> 4968</td><td> 96</td><td> 55</td><td>2370</td><td>Emerson_child</td></tr>\n",
       "\t<tr><th scope=row>Emerson:P00171</th><td>NA</td><td>NA</td><td>NA</td><td>NA</td><td>NA</td><td>NA</td><td>NA</td><td>NA</td><td>NA</td><td>NA</td><td>NA</td><td>NA</td><td>  3</td><td>   46</td><td>  2</td><td>  1</td><td>  26</td><td>Emerson_child</td></tr>\n",
       "\t<tr><th scope=row>Emerson:P00183</th><td>NA</td><td>NA</td><td>NA</td><td>NA</td><td>NA</td><td>NA</td><td>NA</td><td>NA</td><td>NA</td><td>NA</td><td>NA</td><td>NA</td><td>252</td><td> 4797</td><td>147</td><td> 86</td><td>3061</td><td>Emerson_child</td></tr>\n",
       "</tbody>\n",
       "</table>\n"
      ],
      "text/latex": [
       "A data.frame: 6 x 18\n",
       "\\begin{tabular}{r|llllllllllllllllll}\n",
       "  & CMV & EBV & HCV & Influenza & HomoSapiens & MDavis & HPV & CEF & TB & MCPyV & SP & DENV & n\\_cdr3 & cdr3\\_reads & n\\_gliph & n\\_cdr3ingliph & cdr3reads\\_ingliph & study\\\\\n",
       "  & <lgl> & <lgl> & <lgl> & <lgl> & <lgl> & <lgl> & <lgl> & <lgl> & <lgl> & <lgl> & <lgl> & <lgl> & <int> & <dbl> & <dbl> & <int> & <dbl> & <chr>\\\\\n",
       "\\hline\n",
       "\tEmerson:P00015 & NA & NA & NA & NA & NA & NA & NA & NA & NA & NA & NA & NA & 314 & 10948 & 168 &  91 & 6341 & Emerson\\_child\\\\\n",
       "\tEmerson:P00023 & NA & NA & NA & NA & NA & NA & NA & NA & NA & NA & NA & NA &  82 &  2726 &  41 &  24 & 1405 & Emerson\\_child\\\\\n",
       "\tEmerson:P00091 & NA & NA & NA & NA & NA & NA & NA & NA & NA & NA & NA & NA & 504 &  8596 & 275 & 148 & 5119 & Emerson\\_child\\\\\n",
       "\tEmerson:P00092 & NA & NA & NA & NA & NA & NA & NA & NA & NA & NA & NA & NA & 205 &  4968 &  96 &  55 & 2370 & Emerson\\_child\\\\\n",
       "\tEmerson:P00171 & NA & NA & NA & NA & NA & NA & NA & NA & NA & NA & NA & NA &   3 &    46 &   2 &   1 &   26 & Emerson\\_child\\\\\n",
       "\tEmerson:P00183 & NA & NA & NA & NA & NA & NA & NA & NA & NA & NA & NA & NA & 252 &  4797 & 147 &  86 & 3061 & Emerson\\_child\\\\\n",
       "\\end{tabular}\n"
      ],
      "text/markdown": [
       "\n",
       "A data.frame: 6 x 18\n",
       "\n",
       "| <!--/--> | CMV &lt;lgl&gt; | EBV &lt;lgl&gt; | HCV &lt;lgl&gt; | Influenza &lt;lgl&gt; | HomoSapiens &lt;lgl&gt; | MDavis &lt;lgl&gt; | HPV &lt;lgl&gt; | CEF &lt;lgl&gt; | TB &lt;lgl&gt; | MCPyV &lt;lgl&gt; | SP &lt;lgl&gt; | DENV &lt;lgl&gt; | n_cdr3 &lt;int&gt; | cdr3_reads &lt;dbl&gt; | n_gliph &lt;dbl&gt; | n_cdr3ingliph &lt;int&gt; | cdr3reads_ingliph &lt;dbl&gt; | study &lt;chr&gt; |\n",
       "|---|---|---|---|---|---|---|---|---|---|---|---|---|---|---|---|---|---|---|\n",
       "| Emerson:P00015 | NA | NA | NA | NA | NA | NA | NA | NA | NA | NA | NA | NA | 314 | 10948 | 168 |  91 | 6341 | Emerson_child |\n",
       "| Emerson:P00023 | NA | NA | NA | NA | NA | NA | NA | NA | NA | NA | NA | NA |  82 |  2726 |  41 |  24 | 1405 | Emerson_child |\n",
       "| Emerson:P00091 | NA | NA | NA | NA | NA | NA | NA | NA | NA | NA | NA | NA | 504 |  8596 | 275 | 148 | 5119 | Emerson_child |\n",
       "| Emerson:P00092 | NA | NA | NA | NA | NA | NA | NA | NA | NA | NA | NA | NA | 205 |  4968 |  96 |  55 | 2370 | Emerson_child |\n",
       "| Emerson:P00171 | NA | NA | NA | NA | NA | NA | NA | NA | NA | NA | NA | NA |   3 |    46 |   2 |   1 |   26 | Emerson_child |\n",
       "| Emerson:P00183 | NA | NA | NA | NA | NA | NA | NA | NA | NA | NA | NA | NA | 252 |  4797 | 147 |  86 | 3061 | Emerson_child |\n",
       "\n"
      ],
      "text/plain": [
       "               CMV EBV HCV Influenza HomoSapiens MDavis HPV CEF TB MCPyV SP\n",
       "Emerson:P00015 NA  NA  NA  NA        NA          NA     NA  NA  NA NA    NA\n",
       "Emerson:P00023 NA  NA  NA  NA        NA          NA     NA  NA  NA NA    NA\n",
       "Emerson:P00091 NA  NA  NA  NA        NA          NA     NA  NA  NA NA    NA\n",
       "Emerson:P00092 NA  NA  NA  NA        NA          NA     NA  NA  NA NA    NA\n",
       "Emerson:P00171 NA  NA  NA  NA        NA          NA     NA  NA  NA NA    NA\n",
       "Emerson:P00183 NA  NA  NA  NA        NA          NA     NA  NA  NA NA    NA\n",
       "               DENV n_cdr3 cdr3_reads n_gliph n_cdr3ingliph cdr3reads_ingliph\n",
       "Emerson:P00015 NA   314    10948      168      91           6341             \n",
       "Emerson:P00023 NA    82     2726       41      24           1405             \n",
       "Emerson:P00091 NA   504     8596      275     148           5119             \n",
       "Emerson:P00092 NA   205     4968       96      55           2370             \n",
       "Emerson:P00171 NA     3       46        2       1             26             \n",
       "Emerson:P00183 NA   252     4797      147      86           3061             \n",
       "               study        \n",
       "Emerson:P00015 Emerson_child\n",
       "Emerson:P00023 Emerson_child\n",
       "Emerson:P00091 Emerson_child\n",
       "Emerson:P00092 Emerson_child\n",
       "Emerson:P00171 Emerson_child\n",
       "Emerson:P00183 Emerson_child"
      ]
     },
     "metadata": {},
     "output_type": "display_data"
    }
   ],
   "source": [
    "head(samples_tcr_freq)"
   ]
  },
  {
   "cell_type": "code",
   "execution_count": 178,
   "metadata": {
    "vscode": {
     "languageId": "r"
    }
   },
   "outputs": [
    {
     "data": {
      "text/html": [
       "<style>\n",
       ".list-inline {list-style: none; margin:0; padding: 0}\n",
       ".list-inline>li {display: inline-block}\n",
       ".list-inline>li:not(:last-child)::after {content: \"\\00b7\"; padding: 0 .5ex}\n",
       "</style>\n",
       "<ol class=list-inline><li>'MDavis:DRB10401'</li><li>'MDavis:DRB10401'</li><li>'MDavis:DRB10401'</li><li>'MDavis:DRB10401'</li><li>'MDavis:DRB10401'</li><li>'Emerson:P00378'</li></ol>\n"
      ],
      "text/latex": [
       "\\begin{enumerate*}\n",
       "\\item 'MDavis:DRB10401'\n",
       "\\item 'MDavis:DRB10401'\n",
       "\\item 'MDavis:DRB10401'\n",
       "\\item 'MDavis:DRB10401'\n",
       "\\item 'MDavis:DRB10401'\n",
       "\\item 'Emerson:P00378'\n",
       "\\end{enumerate*}\n"
      ],
      "text/markdown": [
       "1. 'MDavis:DRB10401'\n",
       "2. 'MDavis:DRB10401'\n",
       "3. 'MDavis:DRB10401'\n",
       "4. 'MDavis:DRB10401'\n",
       "5. 'MDavis:DRB10401'\n",
       "6. 'Emerson:P00378'\n",
       "\n",
       "\n"
      ],
      "text/plain": [
       "[1] \"MDavis:DRB10401\" \"MDavis:DRB10401\" \"MDavis:DRB10401\" \"MDavis:DRB10401\"\n",
       "[5] \"MDavis:DRB10401\" \"Emerson:P00378\" "
      ]
     },
     "metadata": {},
     "output_type": "display_data"
    }
   ],
   "source": [
    "head(gliphout$sample_id)"
   ]
  },
  {
   "cell_type": "code",
   "execution_count": null,
   "metadata": {
    "vscode": {
     "languageId": "r"
    }
   },
   "outputs": [],
   "source": []
  },
  {
   "cell_type": "code",
   "execution_count": 179,
   "metadata": {
    "vscode": {
     "languageId": "r"
    }
   },
   "outputs": [],
   "source": [
    "myantigens <- c('CMV','EBV','HCV','Influenza','HomoSapiens','MDavis','HPV','CEF','TB','MCPyV','SP','DENV')\n",
    "# count number of annotated gliph groups for each sample\n",
    "for (i in 1:nrow(samples_tcr_freq)) {\n",
    "    mysample <- gliphout[gliphout$sample_id == rownames(samples_tcr_freq)[i], ]\n",
    "    for (a in myantigens) {\n",
    "        tmp <- gliphout[gliphout$pattern %in% mysample$pattern, ] # subset to include patterns in my sample\n",
    "        antigen_gliphs <- tmp$pattern[grepl(a, tmp$subject)] # get antigen gliphs\n",
    "        samples_tcr_freq[i, a] <- sum(mysample$Freq[mysample$pattern %in% antigen_gliphs])\n",
    "    }\n",
    "}\n"
   ]
  },
  {
   "cell_type": "code",
   "execution_count": 180,
   "metadata": {
    "vscode": {
     "languageId": "r"
    }
   },
   "outputs": [
    {
     "data": {
      "text/html": [
       "<table class=\"dataframe\">\n",
       "<caption>A data.frame: 6 x 18</caption>\n",
       "<thead>\n",
       "\t<tr><th></th><th scope=col>CMV</th><th scope=col>EBV</th><th scope=col>HCV</th><th scope=col>Influenza</th><th scope=col>HomoSapiens</th><th scope=col>MDavis</th><th scope=col>HPV</th><th scope=col>CEF</th><th scope=col>TB</th><th scope=col>MCPyV</th><th scope=col>SP</th><th scope=col>DENV</th><th scope=col>n_cdr3</th><th scope=col>cdr3_reads</th><th scope=col>n_gliph</th><th scope=col>n_cdr3ingliph</th><th scope=col>cdr3reads_ingliph</th><th scope=col>study</th></tr>\n",
       "\t<tr><th></th><th scope=col>&lt;dbl&gt;</th><th scope=col>&lt;dbl&gt;</th><th scope=col>&lt;dbl&gt;</th><th scope=col>&lt;dbl&gt;</th><th scope=col>&lt;dbl&gt;</th><th scope=col>&lt;dbl&gt;</th><th scope=col>&lt;dbl&gt;</th><th scope=col>&lt;dbl&gt;</th><th scope=col>&lt;dbl&gt;</th><th scope=col>&lt;dbl&gt;</th><th scope=col>&lt;dbl&gt;</th><th scope=col>&lt;dbl&gt;</th><th scope=col>&lt;int&gt;</th><th scope=col>&lt;dbl&gt;</th><th scope=col>&lt;dbl&gt;</th><th scope=col>&lt;int&gt;</th><th scope=col>&lt;dbl&gt;</th><th scope=col>&lt;chr&gt;</th></tr>\n",
       "</thead>\n",
       "<tbody>\n",
       "\t<tr><th scope=row>Emerson:P00015</th><td> 90</td><td> 82</td><td>49</td><td> 0</td><td>279</td><td>5138</td><td>26</td><td> 0</td><td>0</td><td> 0</td><td>0</td><td>0</td><td>314</td><td>10948</td><td>168</td><td> 91</td><td>6341</td><td>Emerson_child</td></tr>\n",
       "\t<tr><th scope=row>Emerson:P00023</th><td>  0</td><td>  0</td><td> 0</td><td> 0</td><td> 35</td><td>1104</td><td> 0</td><td> 0</td><td>0</td><td> 0</td><td>0</td><td>0</td><td> 82</td><td> 2726</td><td> 41</td><td> 24</td><td>1405</td><td>Emerson_child</td></tr>\n",
       "\t<tr><th scope=row>Emerson:P00091</th><td>123</td><td> 42</td><td>58</td><td> 0</td><td>378</td><td>4029</td><td>30</td><td>14</td><td>0</td><td>83</td><td>0</td><td>0</td><td>504</td><td> 8596</td><td>275</td><td>148</td><td>5119</td><td>Emerson_child</td></tr>\n",
       "\t<tr><th scope=row>Emerson:P00092</th><td> 86</td><td> 33</td><td> 0</td><td>16</td><td>129</td><td>2094</td><td>17</td><td>21</td><td>0</td><td>68</td><td>0</td><td>0</td><td>205</td><td> 4968</td><td> 96</td><td> 55</td><td>2370</td><td>Emerson_child</td></tr>\n",
       "\t<tr><th scope=row>Emerson:P00171</th><td>  0</td><td>  0</td><td> 0</td><td> 0</td><td>  0</td><td>  26</td><td> 0</td><td> 0</td><td>0</td><td> 0</td><td>0</td><td>0</td><td>  3</td><td>   46</td><td>  2</td><td>  1</td><td>  26</td><td>Emerson_child</td></tr>\n",
       "\t<tr><th scope=row>Emerson:P00183</th><td> 39</td><td>107</td><td>22</td><td> 0</td><td>138</td><td>2669</td><td>22</td><td> 0</td><td>0</td><td>23</td><td>0</td><td>0</td><td>252</td><td> 4797</td><td>147</td><td> 86</td><td>3061</td><td>Emerson_child</td></tr>\n",
       "</tbody>\n",
       "</table>\n"
      ],
      "text/latex": [
       "A data.frame: 6 x 18\n",
       "\\begin{tabular}{r|llllllllllllllllll}\n",
       "  & CMV & EBV & HCV & Influenza & HomoSapiens & MDavis & HPV & CEF & TB & MCPyV & SP & DENV & n\\_cdr3 & cdr3\\_reads & n\\_gliph & n\\_cdr3ingliph & cdr3reads\\_ingliph & study\\\\\n",
       "  & <dbl> & <dbl> & <dbl> & <dbl> & <dbl> & <dbl> & <dbl> & <dbl> & <dbl> & <dbl> & <dbl> & <dbl> & <int> & <dbl> & <dbl> & <int> & <dbl> & <chr>\\\\\n",
       "\\hline\n",
       "\tEmerson:P00015 &  90 &  82 & 49 &  0 & 279 & 5138 & 26 &  0 & 0 &  0 & 0 & 0 & 314 & 10948 & 168 &  91 & 6341 & Emerson\\_child\\\\\n",
       "\tEmerson:P00023 &   0 &   0 &  0 &  0 &  35 & 1104 &  0 &  0 & 0 &  0 & 0 & 0 &  82 &  2726 &  41 &  24 & 1405 & Emerson\\_child\\\\\n",
       "\tEmerson:P00091 & 123 &  42 & 58 &  0 & 378 & 4029 & 30 & 14 & 0 & 83 & 0 & 0 & 504 &  8596 & 275 & 148 & 5119 & Emerson\\_child\\\\\n",
       "\tEmerson:P00092 &  86 &  33 &  0 & 16 & 129 & 2094 & 17 & 21 & 0 & 68 & 0 & 0 & 205 &  4968 &  96 &  55 & 2370 & Emerson\\_child\\\\\n",
       "\tEmerson:P00171 &   0 &   0 &  0 &  0 &   0 &   26 &  0 &  0 & 0 &  0 & 0 & 0 &   3 &    46 &   2 &   1 &   26 & Emerson\\_child\\\\\n",
       "\tEmerson:P00183 &  39 & 107 & 22 &  0 & 138 & 2669 & 22 &  0 & 0 & 23 & 0 & 0 & 252 &  4797 & 147 &  86 & 3061 & Emerson\\_child\\\\\n",
       "\\end{tabular}\n"
      ],
      "text/markdown": [
       "\n",
       "A data.frame: 6 x 18\n",
       "\n",
       "| <!--/--> | CMV &lt;dbl&gt; | EBV &lt;dbl&gt; | HCV &lt;dbl&gt; | Influenza &lt;dbl&gt; | HomoSapiens &lt;dbl&gt; | MDavis &lt;dbl&gt; | HPV &lt;dbl&gt; | CEF &lt;dbl&gt; | TB &lt;dbl&gt; | MCPyV &lt;dbl&gt; | SP &lt;dbl&gt; | DENV &lt;dbl&gt; | n_cdr3 &lt;int&gt; | cdr3_reads &lt;dbl&gt; | n_gliph &lt;dbl&gt; | n_cdr3ingliph &lt;int&gt; | cdr3reads_ingliph &lt;dbl&gt; | study &lt;chr&gt; |\n",
       "|---|---|---|---|---|---|---|---|---|---|---|---|---|---|---|---|---|---|---|\n",
       "| Emerson:P00015 |  90 |  82 | 49 |  0 | 279 | 5138 | 26 |  0 | 0 |  0 | 0 | 0 | 314 | 10948 | 168 |  91 | 6341 | Emerson_child |\n",
       "| Emerson:P00023 |   0 |   0 |  0 |  0 |  35 | 1104 |  0 |  0 | 0 |  0 | 0 | 0 |  82 |  2726 |  41 |  24 | 1405 | Emerson_child |\n",
       "| Emerson:P00091 | 123 |  42 | 58 |  0 | 378 | 4029 | 30 | 14 | 0 | 83 | 0 | 0 | 504 |  8596 | 275 | 148 | 5119 | Emerson_child |\n",
       "| Emerson:P00092 |  86 |  33 |  0 | 16 | 129 | 2094 | 17 | 21 | 0 | 68 | 0 | 0 | 205 |  4968 |  96 |  55 | 2370 | Emerson_child |\n",
       "| Emerson:P00171 |   0 |   0 |  0 |  0 |   0 |   26 |  0 |  0 | 0 |  0 | 0 | 0 |   3 |    46 |   2 |   1 |   26 | Emerson_child |\n",
       "| Emerson:P00183 |  39 | 107 | 22 |  0 | 138 | 2669 | 22 |  0 | 0 | 23 | 0 | 0 | 252 |  4797 | 147 |  86 | 3061 | Emerson_child |\n",
       "\n"
      ],
      "text/plain": [
       "               CMV EBV HCV Influenza HomoSapiens MDavis HPV CEF TB MCPyV SP\n",
       "Emerson:P00015  90  82 49   0        279         5138   26   0  0   0    0 \n",
       "Emerson:P00023   0   0  0   0         35         1104    0   0  0   0    0 \n",
       "Emerson:P00091 123  42 58   0        378         4029   30  14  0  83    0 \n",
       "Emerson:P00092  86  33  0  16        129         2094   17  21  0  68    0 \n",
       "Emerson:P00171   0   0  0   0          0           26    0   0  0   0    0 \n",
       "Emerson:P00183  39 107 22   0        138         2669   22   0  0  23    0 \n",
       "               DENV n_cdr3 cdr3_reads n_gliph n_cdr3ingliph cdr3reads_ingliph\n",
       "Emerson:P00015 0    314    10948      168      91           6341             \n",
       "Emerson:P00023 0     82     2726       41      24           1405             \n",
       "Emerson:P00091 0    504     8596      275     148           5119             \n",
       "Emerson:P00092 0    205     4968       96      55           2370             \n",
       "Emerson:P00171 0      3       46        2       1             26             \n",
       "Emerson:P00183 0    252     4797      147      86           3061             \n",
       "               study        \n",
       "Emerson:P00015 Emerson_child\n",
       "Emerson:P00023 Emerson_child\n",
       "Emerson:P00091 Emerson_child\n",
       "Emerson:P00092 Emerson_child\n",
       "Emerson:P00171 Emerson_child\n",
       "Emerson:P00183 Emerson_child"
      ]
     },
     "metadata": {},
     "output_type": "display_data"
    }
   ],
   "source": [
    "head(samples_tcr_freq)"
   ]
  },
  {
   "cell_type": "code",
   "execution_count": 181,
   "metadata": {
    "vscode": {
     "languageId": "r"
    }
   },
   "outputs": [],
   "source": [
    "# Replace NA values with 0 in columns\n",
    "columns_to_fill <- colnames(samples_tcr_freq)[1:12]\n",
    "\n",
    "samples_tcr_freq[columns_to_fill] <- lapply(samples_tcr_freq[columns_to_fill], function(x) ifelse(is.na(x), 0, x))\n"
   ]
  },
  {
   "cell_type": "code",
   "execution_count": 182,
   "metadata": {
    "vscode": {
     "languageId": "r"
    }
   },
   "outputs": [
    {
     "data": {
      "text/html": [
       "<table class=\"dataframe\">\n",
       "<caption>A data.frame: 6 x 13</caption>\n",
       "<thead>\n",
       "\t<tr><th></th><th scope=col>CMV</th><th scope=col>EBV</th><th scope=col>HCV</th><th scope=col>Influenza</th><th scope=col>HomoSapiens</th><th scope=col>MDavis</th><th scope=col>HPV</th><th scope=col>CEF</th><th scope=col>TB</th><th scope=col>MCPyV</th><th scope=col>SP</th><th scope=col>DENV</th><th scope=col>n_cdr3</th></tr>\n",
       "\t<tr><th></th><th scope=col>&lt;dbl&gt;</th><th scope=col>&lt;dbl&gt;</th><th scope=col>&lt;dbl&gt;</th><th scope=col>&lt;dbl&gt;</th><th scope=col>&lt;dbl&gt;</th><th scope=col>&lt;dbl&gt;</th><th scope=col>&lt;dbl&gt;</th><th scope=col>&lt;dbl&gt;</th><th scope=col>&lt;dbl&gt;</th><th scope=col>&lt;dbl&gt;</th><th scope=col>&lt;dbl&gt;</th><th scope=col>&lt;dbl&gt;</th><th scope=col>&lt;int&gt;</th></tr>\n",
       "</thead>\n",
       "<tbody>\n",
       "\t<tr><th scope=row>Emerson:P00015</th><td> 90</td><td> 82</td><td>49</td><td> 0</td><td>279</td><td>5138</td><td>26</td><td> 0</td><td>0</td><td> 0</td><td>0</td><td>0</td><td>314</td></tr>\n",
       "\t<tr><th scope=row>Emerson:P00023</th><td>  0</td><td>  0</td><td> 0</td><td> 0</td><td> 35</td><td>1104</td><td> 0</td><td> 0</td><td>0</td><td> 0</td><td>0</td><td>0</td><td> 82</td></tr>\n",
       "\t<tr><th scope=row>Emerson:P00091</th><td>123</td><td> 42</td><td>58</td><td> 0</td><td>378</td><td>4029</td><td>30</td><td>14</td><td>0</td><td>83</td><td>0</td><td>0</td><td>504</td></tr>\n",
       "\t<tr><th scope=row>Emerson:P00092</th><td> 86</td><td> 33</td><td> 0</td><td>16</td><td>129</td><td>2094</td><td>17</td><td>21</td><td>0</td><td>68</td><td>0</td><td>0</td><td>205</td></tr>\n",
       "\t<tr><th scope=row>Emerson:P00171</th><td>  0</td><td>  0</td><td> 0</td><td> 0</td><td>  0</td><td>  26</td><td> 0</td><td> 0</td><td>0</td><td> 0</td><td>0</td><td>0</td><td>  3</td></tr>\n",
       "\t<tr><th scope=row>Emerson:P00183</th><td> 39</td><td>107</td><td>22</td><td> 0</td><td>138</td><td>2669</td><td>22</td><td> 0</td><td>0</td><td>23</td><td>0</td><td>0</td><td>252</td></tr>\n",
       "</tbody>\n",
       "</table>\n"
      ],
      "text/latex": [
       "A data.frame: 6 x 13\n",
       "\\begin{tabular}{r|lllllllllllll}\n",
       "  & CMV & EBV & HCV & Influenza & HomoSapiens & MDavis & HPV & CEF & TB & MCPyV & SP & DENV & n\\_cdr3\\\\\n",
       "  & <dbl> & <dbl> & <dbl> & <dbl> & <dbl> & <dbl> & <dbl> & <dbl> & <dbl> & <dbl> & <dbl> & <dbl> & <int>\\\\\n",
       "\\hline\n",
       "\tEmerson:P00015 &  90 &  82 & 49 &  0 & 279 & 5138 & 26 &  0 & 0 &  0 & 0 & 0 & 314\\\\\n",
       "\tEmerson:P00023 &   0 &   0 &  0 &  0 &  35 & 1104 &  0 &  0 & 0 &  0 & 0 & 0 &  82\\\\\n",
       "\tEmerson:P00091 & 123 &  42 & 58 &  0 & 378 & 4029 & 30 & 14 & 0 & 83 & 0 & 0 & 504\\\\\n",
       "\tEmerson:P00092 &  86 &  33 &  0 & 16 & 129 & 2094 & 17 & 21 & 0 & 68 & 0 & 0 & 205\\\\\n",
       "\tEmerson:P00171 &   0 &   0 &  0 &  0 &   0 &   26 &  0 &  0 & 0 &  0 & 0 & 0 &   3\\\\\n",
       "\tEmerson:P00183 &  39 & 107 & 22 &  0 & 138 & 2669 & 22 &  0 & 0 & 23 & 0 & 0 & 252\\\\\n",
       "\\end{tabular}\n"
      ],
      "text/markdown": [
       "\n",
       "A data.frame: 6 x 13\n",
       "\n",
       "| <!--/--> | CMV &lt;dbl&gt; | EBV &lt;dbl&gt; | HCV &lt;dbl&gt; | Influenza &lt;dbl&gt; | HomoSapiens &lt;dbl&gt; | MDavis &lt;dbl&gt; | HPV &lt;dbl&gt; | CEF &lt;dbl&gt; | TB &lt;dbl&gt; | MCPyV &lt;dbl&gt; | SP &lt;dbl&gt; | DENV &lt;dbl&gt; | n_cdr3 &lt;int&gt; |\n",
       "|---|---|---|---|---|---|---|---|---|---|---|---|---|---|\n",
       "| Emerson:P00015 |  90 |  82 | 49 |  0 | 279 | 5138 | 26 |  0 | 0 |  0 | 0 | 0 | 314 |\n",
       "| Emerson:P00023 |   0 |   0 |  0 |  0 |  35 | 1104 |  0 |  0 | 0 |  0 | 0 | 0 |  82 |\n",
       "| Emerson:P00091 | 123 |  42 | 58 |  0 | 378 | 4029 | 30 | 14 | 0 | 83 | 0 | 0 | 504 |\n",
       "| Emerson:P00092 |  86 |  33 |  0 | 16 | 129 | 2094 | 17 | 21 | 0 | 68 | 0 | 0 | 205 |\n",
       "| Emerson:P00171 |   0 |   0 |  0 |  0 |   0 |   26 |  0 |  0 | 0 |  0 | 0 | 0 |   3 |\n",
       "| Emerson:P00183 |  39 | 107 | 22 |  0 | 138 | 2669 | 22 |  0 | 0 | 23 | 0 | 0 | 252 |\n",
       "\n"
      ],
      "text/plain": [
       "               CMV EBV HCV Influenza HomoSapiens MDavis HPV CEF TB MCPyV SP\n",
       "Emerson:P00015  90  82 49   0        279         5138   26   0  0   0    0 \n",
       "Emerson:P00023   0   0  0   0         35         1104    0   0  0   0    0 \n",
       "Emerson:P00091 123  42 58   0        378         4029   30  14  0  83    0 \n",
       "Emerson:P00092  86  33  0  16        129         2094   17  21  0  68    0 \n",
       "Emerson:P00171   0   0  0   0          0           26    0   0  0   0    0 \n",
       "Emerson:P00183  39 107 22   0        138         2669   22   0  0  23    0 \n",
       "               DENV n_cdr3\n",
       "Emerson:P00015 0    314   \n",
       "Emerson:P00023 0     82   \n",
       "Emerson:P00091 0    504   \n",
       "Emerson:P00092 0    205   \n",
       "Emerson:P00171 0      3   \n",
       "Emerson:P00183 0    252   "
      ]
     },
     "metadata": {},
     "output_type": "display_data"
    }
   ],
   "source": [
    "head(samples_tcr_freq[,1:13])"
   ]
  },
  {
   "cell_type": "code",
   "execution_count": 183,
   "metadata": {
    "vscode": {
     "languageId": "r"
    }
   },
   "outputs": [
    {
     "data": {
      "text/plain": [
       "\n",
       "Emerson_child \n",
       "           21 "
      ]
     },
     "metadata": {},
     "output_type": "display_data"
    }
   ],
   "source": [
    "table(samples_tcr_freq$study)"
   ]
  },
  {
   "cell_type": "code",
   "execution_count": 188,
   "metadata": {
    "vscode": {
     "languageId": "r"
    }
   },
   "outputs": [
    {
     "data": {
      "text/html": [
       "<table class=\"dataframe\">\n",
       "<caption>A data.frame: 1 x 18</caption>\n",
       "<thead>\n",
       "\t<tr><th></th><th scope=col>CMV</th><th scope=col>EBV</th><th scope=col>HCV</th><th scope=col>Influenza</th><th scope=col>HomoSapiens</th><th scope=col>MDavis</th><th scope=col>HPV</th><th scope=col>CEF</th><th scope=col>TB</th><th scope=col>MCPyV</th><th scope=col>SP</th><th scope=col>DENV</th><th scope=col>n_cdr3</th><th scope=col>cdr3_reads</th><th scope=col>n_gliph</th><th scope=col>n_cdr3ingliph</th><th scope=col>cdr3reads_ingliph</th><th scope=col>study</th></tr>\n",
       "\t<tr><th></th><th scope=col>&lt;dbl&gt;</th><th scope=col>&lt;dbl&gt;</th><th scope=col>&lt;dbl&gt;</th><th scope=col>&lt;dbl&gt;</th><th scope=col>&lt;dbl&gt;</th><th scope=col>&lt;dbl&gt;</th><th scope=col>&lt;dbl&gt;</th><th scope=col>&lt;dbl&gt;</th><th scope=col>&lt;dbl&gt;</th><th scope=col>&lt;dbl&gt;</th><th scope=col>&lt;dbl&gt;</th><th scope=col>&lt;dbl&gt;</th><th scope=col>&lt;int&gt;</th><th scope=col>&lt;dbl&gt;</th><th scope=col>&lt;dbl&gt;</th><th scope=col>&lt;int&gt;</th><th scope=col>&lt;dbl&gt;</th><th scope=col>&lt;chr&gt;</th></tr>\n",
       "</thead>\n",
       "<tbody>\n",
       "\t<tr><th scope=row>Emerson:P00378</th><td>142</td><td>121</td><td>240</td><td>28</td><td>914</td><td>16540</td><td>101</td><td>27</td><td>0</td><td>160</td><td>0</td><td>0</td><td>1268</td><td>44860</td><td>673</td><td>387</td><td>20905</td><td>Emerson_child</td></tr>\n",
       "</tbody>\n",
       "</table>\n"
      ],
      "text/latex": [
       "A data.frame: 1 x 18\n",
       "\\begin{tabular}{r|llllllllllllllllll}\n",
       "  & CMV & EBV & HCV & Influenza & HomoSapiens & MDavis & HPV & CEF & TB & MCPyV & SP & DENV & n\\_cdr3 & cdr3\\_reads & n\\_gliph & n\\_cdr3ingliph & cdr3reads\\_ingliph & study\\\\\n",
       "  & <dbl> & <dbl> & <dbl> & <dbl> & <dbl> & <dbl> & <dbl> & <dbl> & <dbl> & <dbl> & <dbl> & <dbl> & <int> & <dbl> & <dbl> & <int> & <dbl> & <chr>\\\\\n",
       "\\hline\n",
       "\tEmerson:P00378 & 142 & 121 & 240 & 28 & 914 & 16540 & 101 & 27 & 0 & 160 & 0 & 0 & 1268 & 44860 & 673 & 387 & 20905 & Emerson\\_child\\\\\n",
       "\\end{tabular}\n"
      ],
      "text/markdown": [
       "\n",
       "A data.frame: 1 x 18\n",
       "\n",
       "| <!--/--> | CMV &lt;dbl&gt; | EBV &lt;dbl&gt; | HCV &lt;dbl&gt; | Influenza &lt;dbl&gt; | HomoSapiens &lt;dbl&gt; | MDavis &lt;dbl&gt; | HPV &lt;dbl&gt; | CEF &lt;dbl&gt; | TB &lt;dbl&gt; | MCPyV &lt;dbl&gt; | SP &lt;dbl&gt; | DENV &lt;dbl&gt; | n_cdr3 &lt;int&gt; | cdr3_reads &lt;dbl&gt; | n_gliph &lt;dbl&gt; | n_cdr3ingliph &lt;int&gt; | cdr3reads_ingliph &lt;dbl&gt; | study &lt;chr&gt; |\n",
       "|---|---|---|---|---|---|---|---|---|---|---|---|---|---|---|---|---|---|---|\n",
       "| Emerson:P00378 | 142 | 121 | 240 | 28 | 914 | 16540 | 101 | 27 | 0 | 160 | 0 | 0 | 1268 | 44860 | 673 | 387 | 20905 | Emerson_child |\n",
       "\n"
      ],
      "text/plain": [
       "               CMV EBV HCV Influenza HomoSapiens MDavis HPV CEF TB MCPyV SP\n",
       "Emerson:P00378 142 121 240 28        914         16540  101 27  0  160   0 \n",
       "               DENV n_cdr3 cdr3_reads n_gliph n_cdr3ingliph cdr3reads_ingliph\n",
       "Emerson:P00378 0    1268   44860      673     387           20905            \n",
       "               study        \n",
       "Emerson:P00378 Emerson_child"
      ]
     },
     "metadata": {},
     "output_type": "display_data"
    }
   ],
   "source": [
    "samples_tcr_freq[\"Emerson:P00378\",]"
   ]
  },
  {
   "cell_type": "code",
   "execution_count": 189,
   "metadata": {
    "vscode": {
     "languageId": "r"
    }
   },
   "outputs": [
    {
     "data": {
      "text/html": [
       "121"
      ],
      "text/latex": [
       "121"
      ],
      "text/markdown": [
       "121"
      ],
      "text/plain": [
       "[1] 121"
      ]
     },
     "metadata": {},
     "output_type": "display_data"
    }
   ],
   "source": [
    "# sanity check\n",
    "mysample <- gliphout_emerson[gliphout_emerson$Sample == \"Emerson:P00378\", ]\n",
    "tmp <- gliphout_emerson[gliphout_emerson$pattern %in% mysample$pattern, ] \n",
    "antigen_gliphs <- tmp$pattern[grepl(\"EBV\", tmp$subject)]\n",
    "sum(mysample$Freq[mysample$pattern %in% antigen_gliphs])"
   ]
  },
  {
   "cell_type": "code",
   "execution_count": 190,
   "metadata": {
    "vscode": {
     "languageId": "r"
    }
   },
   "outputs": [],
   "source": [
    "readr::write_rds(samples_tcr_freq, file = paste0(datapath, \"GLIPH/emerson_child_samples_gliphannot_freq_stat.rds\"))\n",
    "readr::write_rds(gliphdf_freq, file = paste0(datapath, \"GLIPH/emerson_child_gliphannot_freq_stat.rds\"))"
   ]
  },
  {
   "cell_type": "markdown",
   "metadata": {},
   "source": [
    "# chi-square"
   ]
  },
  {
   "cell_type": "code",
   "execution_count": 191,
   "metadata": {
    "vscode": {
     "languageId": "r"
    }
   },
   "outputs": [],
   "source": [
    "samples_tcr_int <- readr::read_rds(file = paste0(datapath, \"GLIPH/int_samples_gliphannot_stat.rds\"))\n",
    "gliphdf_int <- readr::read_rds(file = paste0(datapath, \"GLIPH/gliphannot_stat.rds\"))"
   ]
  },
  {
   "cell_type": "code",
   "execution_count": 192,
   "metadata": {
    "vscode": {
     "languageId": "r"
    }
   },
   "outputs": [],
   "source": [
    "samples_tcr_emersonadult <- readr::read_rds(file = paste0(datapath, \"GLIPH/emerson_adult_samples_gliphannot_stat.rds\"))\n",
    "gliphdf_emerson_adult <- readr::read_rds(file = paste0(datapath, \"GLIPH/emerson_adult_gliphannot_stat.rds\"))"
   ]
  },
  {
   "cell_type": "code",
   "execution_count": 193,
   "metadata": {
    "vscode": {
     "languageId": "r"
    }
   },
   "outputs": [],
   "source": [
    "samples_tcr_emersonchild <- readr::read_rds(file = paste0(datapath, \"GLIPH/emerson_child_samples_gliphannot_stat.rds\"))\n",
    "gliphdf_emerson_child <- readr::read_rds(file = paste0(datapath, \"GLIPH/emerson_child_gliphannot_stat.rds\"))"
   ]
  },
  {
   "cell_type": "markdown",
   "metadata": {},
   "source": [
    "contingency table for baseline samples and healthy controls"
   ]
  },
  {
   "cell_type": "markdown",
   "metadata": {},
   "source": [
    "INt"
   ]
  },
  {
   "cell_type": "code",
   "execution_count": 194,
   "metadata": {
    "vscode": {
     "languageId": "r"
    }
   },
   "outputs": [],
   "source": [
    "samples_tcr_pbmc <- samples_tcr_int[ grepl(\"PBMC\", rownames(samples_tcr_int)),]\n",
    "samples_tcr_pbmc <- samples_tcr_pbmc[ !grepl(\"X00\", rownames(samples_tcr_pbmc)),]\n",
    "samples_tcr_pbmc01 <- samples_tcr_pbmc[ grepl(\"X01\", rownames(samples_tcr_pbmc)),]"
   ]
  },
  {
   "cell_type": "code",
   "execution_count": 195,
   "metadata": {
    "vscode": {
     "languageId": "r"
    }
   },
   "outputs": [],
   "source": [
    "# pivot_longer\n",
    "samples_tcr_pbmc01$sample_id <- rownames(samples_tcr_pbmc01)\n",
    "samples_tcr_pbmc01_long <- tidyr::pivot_longer(samples_tcr_pbmc01, cols = c(1:13), names_to = \"antigen\", values_to = \"n\")"
   ]
  },
  {
   "cell_type": "code",
   "execution_count": 196,
   "metadata": {
    "vscode": {
     "languageId": "r"
    }
   },
   "outputs": [],
   "source": [
    "samples_tcr_pbmc01_long <- samples_tcr_pbmc01_long[ samples_tcr_pbmc01_long$n > 0,]"
   ]
  },
  {
   "cell_type": "code",
   "execution_count": 197,
   "metadata": {
    "vscode": {
     "languageId": "r"
    }
   },
   "outputs": [],
   "source": [
    "tab_int <- as.data.frame.matrix(table(samples_tcr_pbmc01_long$cancergroup, \n",
    "samples_tcr_pbmc01_long$antigen))"
   ]
  },
  {
   "cell_type": "code",
   "execution_count": 198,
   "metadata": {
    "vscode": {
     "languageId": "r"
    }
   },
   "outputs": [],
   "source": [
    "# remove mdavis\n",
    "tab_int <- tab_int[,!grepl(\"MDavis\", colnames(tab_int))]\n",
    "tab_int <- tab_int[,!grepl(\"CEF\", colnames(tab_int))]\n",
    "tab_int <- tab_int[,!grepl(\"DENV\", colnames(tab_int))]"
   ]
  },
  {
   "cell_type": "code",
   "execution_count": 199,
   "metadata": {
    "vscode": {
     "languageId": "r"
    }
   },
   "outputs": [
    {
     "data": {
      "text/html": [
       "<table class=\"dataframe\">\n",
       "<caption>A data.frame: 4 x 7</caption>\n",
       "<thead>\n",
       "\t<tr><th></th><th scope=col>CMV</th><th scope=col>EBV</th><th scope=col>HCV</th><th scope=col>HPV</th><th scope=col>HomoSapiens</th><th scope=col>Influenza</th><th scope=col>MCPyV</th></tr>\n",
       "\t<tr><th></th><th scope=col>&lt;int&gt;</th><th scope=col>&lt;int&gt;</th><th scope=col>&lt;int&gt;</th><th scope=col>&lt;int&gt;</th><th scope=col>&lt;int&gt;</th><th scope=col>&lt;int&gt;</th><th scope=col>&lt;int&gt;</th></tr>\n",
       "</thead>\n",
       "<tbody>\n",
       "\t<tr><th scope=row>Leukemia</th><td>12</td><td>11</td><td>11</td><td>9</td><td>16</td><td>4</td><td>9</td></tr>\n",
       "\t<tr><th scope=row>Lymphoma</th><td> 4</td><td> 4</td><td> 2</td><td>1</td><td> 5</td><td>1</td><td>3</td></tr>\n",
       "\t<tr><th scope=row>Solidtumors</th><td> 9</td><td> 9</td><td> 8</td><td>5</td><td>12</td><td>4</td><td>4</td></tr>\n",
       "\t<tr><th scope=row>T-cellmalignancies</th><td> 1</td><td> 1</td><td> 0</td><td>1</td><td> 2</td><td>0</td><td>1</td></tr>\n",
       "</tbody>\n",
       "</table>\n"
      ],
      "text/latex": [
       "A data.frame: 4 x 7\n",
       "\\begin{tabular}{r|lllllll}\n",
       "  & CMV & EBV & HCV & HPV & HomoSapiens & Influenza & MCPyV\\\\\n",
       "  & <int> & <int> & <int> & <int> & <int> & <int> & <int>\\\\\n",
       "\\hline\n",
       "\tLeukemia & 12 & 11 & 11 & 9 & 16 & 4 & 9\\\\\n",
       "\tLymphoma &  4 &  4 &  2 & 1 &  5 & 1 & 3\\\\\n",
       "\tSolidtumors &  9 &  9 &  8 & 5 & 12 & 4 & 4\\\\\n",
       "\tT-cellmalignancies &  1 &  1 &  0 & 1 &  2 & 0 & 1\\\\\n",
       "\\end{tabular}\n"
      ],
      "text/markdown": [
       "\n",
       "A data.frame: 4 x 7\n",
       "\n",
       "| <!--/--> | CMV &lt;int&gt; | EBV &lt;int&gt; | HCV &lt;int&gt; | HPV &lt;int&gt; | HomoSapiens &lt;int&gt; | Influenza &lt;int&gt; | MCPyV &lt;int&gt; |\n",
       "|---|---|---|---|---|---|---|---|\n",
       "| Leukemia | 12 | 11 | 11 | 9 | 16 | 4 | 9 |\n",
       "| Lymphoma |  4 |  4 |  2 | 1 |  5 | 1 | 3 |\n",
       "| Solidtumors |  9 |  9 |  8 | 5 | 12 | 4 | 4 |\n",
       "| T-cellmalignancies |  1 |  1 |  0 | 1 |  2 | 0 | 1 |\n",
       "\n"
      ],
      "text/plain": [
       "                   CMV EBV HCV HPV HomoSapiens Influenza MCPyV\n",
       "Leukemia           12  11  11  9   16          4         9    \n",
       "Lymphoma            4   4   2  1    5          1         3    \n",
       "Solidtumors         9   9   8  5   12          4         4    \n",
       "T-cellmalignancies  1   1   0  1    2          0         1    "
      ]
     },
     "metadata": {},
     "output_type": "display_data"
    }
   ],
   "source": [
    "head(tab_int)"
   ]
  },
  {
   "cell_type": "markdown",
   "metadata": {},
   "source": [
    "Child"
   ]
  },
  {
   "cell_type": "code",
   "execution_count": 200,
   "metadata": {
    "vscode": {
     "languageId": "r"
    }
   },
   "outputs": [
    {
     "data": {
      "text/html": [
       "<style>\n",
       ".list-inline {list-style: none; margin:0; padding: 0}\n",
       ".list-inline>li {display: inline-block}\n",
       ".list-inline>li:not(:last-child)::after {content: \"\\00b7\"; padding: 0 .5ex}\n",
       "</style>\n",
       "<ol class=list-inline><li>21</li><li>18</li></ol>\n"
      ],
      "text/latex": [
       "\\begin{enumerate*}\n",
       "\\item 21\n",
       "\\item 18\n",
       "\\end{enumerate*}\n"
      ],
      "text/markdown": [
       "1. 21\n",
       "2. 18\n",
       "\n",
       "\n"
      ],
      "text/plain": [
       "[1] 21 18"
      ]
     },
     "metadata": {},
     "output_type": "display_data"
    }
   ],
   "source": [
    "dim(samples_tcr_emersonchild)"
   ]
  },
  {
   "cell_type": "code",
   "execution_count": 201,
   "metadata": {
    "vscode": {
     "languageId": "r"
    }
   },
   "outputs": [
    {
     "data": {
      "text/html": [
       "<table class=\"dataframe\">\n",
       "<caption>A data.frame: 6 x 18</caption>\n",
       "<thead>\n",
       "\t<tr><th></th><th scope=col>CMV</th><th scope=col>EBV</th><th scope=col>HCV</th><th scope=col>Influenza</th><th scope=col>HomoSapiens</th><th scope=col>MDavis</th><th scope=col>HPV</th><th scope=col>CEF</th><th scope=col>TB</th><th scope=col>MCPyV</th><th scope=col>SP</th><th scope=col>DENV</th><th scope=col>n_cdr3</th><th scope=col>cdr3_reads</th><th scope=col>n_gliph</th><th scope=col>n_cdr3ingliph</th><th scope=col>cdr3reads_ingliph</th><th scope=col>study</th></tr>\n",
       "\t<tr><th></th><th scope=col>&lt;dbl&gt;</th><th scope=col>&lt;dbl&gt;</th><th scope=col>&lt;dbl&gt;</th><th scope=col>&lt;dbl&gt;</th><th scope=col>&lt;dbl&gt;</th><th scope=col>&lt;dbl&gt;</th><th scope=col>&lt;dbl&gt;</th><th scope=col>&lt;dbl&gt;</th><th scope=col>&lt;dbl&gt;</th><th scope=col>&lt;dbl&gt;</th><th scope=col>&lt;dbl&gt;</th><th scope=col>&lt;dbl&gt;</th><th scope=col>&lt;int&gt;</th><th scope=col>&lt;dbl&gt;</th><th scope=col>&lt;dbl&gt;</th><th scope=col>&lt;int&gt;</th><th scope=col>&lt;dbl&gt;</th><th scope=col>&lt;chr&gt;</th></tr>\n",
       "</thead>\n",
       "<tbody>\n",
       "\t<tr><th scope=row>Emerson:P00015</th><td>2</td><td>2</td><td>1</td><td>0</td><td> 7</td><td>387</td><td>1</td><td>0</td><td>0</td><td>0</td><td>0</td><td>0</td><td>314</td><td>10948</td><td>168</td><td> 91</td><td>6341</td><td>Emerson_child</td></tr>\n",
       "\t<tr><th scope=row>Emerson:P00023</th><td>0</td><td>0</td><td>0</td><td>0</td><td> 1</td><td>111</td><td>0</td><td>0</td><td>0</td><td>0</td><td>0</td><td>0</td><td> 82</td><td> 2726</td><td> 41</td><td> 24</td><td>1405</td><td>Emerson_child</td></tr>\n",
       "\t<tr><th scope=row>Emerson:P00091</th><td>9</td><td>3</td><td>2</td><td>0</td><td>23</td><td>637</td><td>1</td><td>1</td><td>0</td><td>7</td><td>0</td><td>0</td><td>504</td><td> 8596</td><td>275</td><td>148</td><td>5119</td><td>Emerson_child</td></tr>\n",
       "\t<tr><th scope=row>Emerson:P00092</th><td>4</td><td>1</td><td>0</td><td>1</td><td> 5</td><td>253</td><td>1</td><td>1</td><td>0</td><td>2</td><td>0</td><td>0</td><td>205</td><td> 4968</td><td> 96</td><td> 55</td><td>2370</td><td>Emerson_child</td></tr>\n",
       "\t<tr><th scope=row>Emerson:P00171</th><td>0</td><td>0</td><td>0</td><td>0</td><td> 0</td><td>  2</td><td>0</td><td>0</td><td>0</td><td>0</td><td>0</td><td>0</td><td>  3</td><td>   46</td><td>  2</td><td>  1</td><td>  26</td><td>Emerson_child</td></tr>\n",
       "\t<tr><th scope=row>Emerson:P00183</th><td>3</td><td>3</td><td>1</td><td>0</td><td> 8</td><td>452</td><td>1</td><td>0</td><td>0</td><td>2</td><td>0</td><td>0</td><td>252</td><td> 4797</td><td>147</td><td> 86</td><td>3061</td><td>Emerson_child</td></tr>\n",
       "</tbody>\n",
       "</table>\n"
      ],
      "text/latex": [
       "A data.frame: 6 x 18\n",
       "\\begin{tabular}{r|llllllllllllllllll}\n",
       "  & CMV & EBV & HCV & Influenza & HomoSapiens & MDavis & HPV & CEF & TB & MCPyV & SP & DENV & n\\_cdr3 & cdr3\\_reads & n\\_gliph & n\\_cdr3ingliph & cdr3reads\\_ingliph & study\\\\\n",
       "  & <dbl> & <dbl> & <dbl> & <dbl> & <dbl> & <dbl> & <dbl> & <dbl> & <dbl> & <dbl> & <dbl> & <dbl> & <int> & <dbl> & <dbl> & <int> & <dbl> & <chr>\\\\\n",
       "\\hline\n",
       "\tEmerson:P00015 & 2 & 2 & 1 & 0 &  7 & 387 & 1 & 0 & 0 & 0 & 0 & 0 & 314 & 10948 & 168 &  91 & 6341 & Emerson\\_child\\\\\n",
       "\tEmerson:P00023 & 0 & 0 & 0 & 0 &  1 & 111 & 0 & 0 & 0 & 0 & 0 & 0 &  82 &  2726 &  41 &  24 & 1405 & Emerson\\_child\\\\\n",
       "\tEmerson:P00091 & 9 & 3 & 2 & 0 & 23 & 637 & 1 & 1 & 0 & 7 & 0 & 0 & 504 &  8596 & 275 & 148 & 5119 & Emerson\\_child\\\\\n",
       "\tEmerson:P00092 & 4 & 1 & 0 & 1 &  5 & 253 & 1 & 1 & 0 & 2 & 0 & 0 & 205 &  4968 &  96 &  55 & 2370 & Emerson\\_child\\\\\n",
       "\tEmerson:P00171 & 0 & 0 & 0 & 0 &  0 &   2 & 0 & 0 & 0 & 0 & 0 & 0 &   3 &    46 &   2 &   1 &   26 & Emerson\\_child\\\\\n",
       "\tEmerson:P00183 & 3 & 3 & 1 & 0 &  8 & 452 & 1 & 0 & 0 & 2 & 0 & 0 & 252 &  4797 & 147 &  86 & 3061 & Emerson\\_child\\\\\n",
       "\\end{tabular}\n"
      ],
      "text/markdown": [
       "\n",
       "A data.frame: 6 x 18\n",
       "\n",
       "| <!--/--> | CMV &lt;dbl&gt; | EBV &lt;dbl&gt; | HCV &lt;dbl&gt; | Influenza &lt;dbl&gt; | HomoSapiens &lt;dbl&gt; | MDavis &lt;dbl&gt; | HPV &lt;dbl&gt; | CEF &lt;dbl&gt; | TB &lt;dbl&gt; | MCPyV &lt;dbl&gt; | SP &lt;dbl&gt; | DENV &lt;dbl&gt; | n_cdr3 &lt;int&gt; | cdr3_reads &lt;dbl&gt; | n_gliph &lt;dbl&gt; | n_cdr3ingliph &lt;int&gt; | cdr3reads_ingliph &lt;dbl&gt; | study &lt;chr&gt; |\n",
       "|---|---|---|---|---|---|---|---|---|---|---|---|---|---|---|---|---|---|---|\n",
       "| Emerson:P00015 | 2 | 2 | 1 | 0 |  7 | 387 | 1 | 0 | 0 | 0 | 0 | 0 | 314 | 10948 | 168 |  91 | 6341 | Emerson_child |\n",
       "| Emerson:P00023 | 0 | 0 | 0 | 0 |  1 | 111 | 0 | 0 | 0 | 0 | 0 | 0 |  82 |  2726 |  41 |  24 | 1405 | Emerson_child |\n",
       "| Emerson:P00091 | 9 | 3 | 2 | 0 | 23 | 637 | 1 | 1 | 0 | 7 | 0 | 0 | 504 |  8596 | 275 | 148 | 5119 | Emerson_child |\n",
       "| Emerson:P00092 | 4 | 1 | 0 | 1 |  5 | 253 | 1 | 1 | 0 | 2 | 0 | 0 | 205 |  4968 |  96 |  55 | 2370 | Emerson_child |\n",
       "| Emerson:P00171 | 0 | 0 | 0 | 0 |  0 |   2 | 0 | 0 | 0 | 0 | 0 | 0 |   3 |    46 |   2 |   1 |   26 | Emerson_child |\n",
       "| Emerson:P00183 | 3 | 3 | 1 | 0 |  8 | 452 | 1 | 0 | 0 | 2 | 0 | 0 | 252 |  4797 | 147 |  86 | 3061 | Emerson_child |\n",
       "\n"
      ],
      "text/plain": [
       "               CMV EBV HCV Influenza HomoSapiens MDavis HPV CEF TB MCPyV SP\n",
       "Emerson:P00015 2   2   1   0          7          387    1   0   0  0     0 \n",
       "Emerson:P00023 0   0   0   0          1          111    0   0   0  0     0 \n",
       "Emerson:P00091 9   3   2   0         23          637    1   1   0  7     0 \n",
       "Emerson:P00092 4   1   0   1          5          253    1   1   0  2     0 \n",
       "Emerson:P00171 0   0   0   0          0            2    0   0   0  0     0 \n",
       "Emerson:P00183 3   3   1   0          8          452    1   0   0  2     0 \n",
       "               DENV n_cdr3 cdr3_reads n_gliph n_cdr3ingliph cdr3reads_ingliph\n",
       "Emerson:P00015 0    314    10948      168      91           6341             \n",
       "Emerson:P00023 0     82     2726       41      24           1405             \n",
       "Emerson:P00091 0    504     8596      275     148           5119             \n",
       "Emerson:P00092 0    205     4968       96      55           2370             \n",
       "Emerson:P00171 0      3       46        2       1             26             \n",
       "Emerson:P00183 0    252     4797      147      86           3061             \n",
       "               study        \n",
       "Emerson:P00015 Emerson_child\n",
       "Emerson:P00023 Emerson_child\n",
       "Emerson:P00091 Emerson_child\n",
       "Emerson:P00092 Emerson_child\n",
       "Emerson:P00171 Emerson_child\n",
       "Emerson:P00183 Emerson_child"
      ]
     },
     "metadata": {},
     "output_type": "display_data"
    }
   ],
   "source": [
    "head(samples_tcr_emersonchild)"
   ]
  },
  {
   "cell_type": "code",
   "execution_count": 202,
   "metadata": {
    "vscode": {
     "languageId": "r"
    }
   },
   "outputs": [],
   "source": [
    "# pivot_longer\n",
    "samples_tcr_emersonchild$sample_id <- rownames(samples_tcr_emersonchild)\n",
    "samples_tcr_child_long <- tidyr::pivot_longer(samples_tcr_emersonchild, cols = c(1:12), names_to = \"antigen\", values_to = \"n\")"
   ]
  },
  {
   "cell_type": "code",
   "execution_count": 203,
   "metadata": {
    "vscode": {
     "languageId": "r"
    }
   },
   "outputs": [],
   "source": [
    "# remove 0\n",
    "samples_tcr_child_long <- samples_tcr_child_long[samples_tcr_child_long$n > 0,]"
   ]
  },
  {
   "cell_type": "code",
   "execution_count": 204,
   "metadata": {
    "vscode": {
     "languageId": "r"
    }
   },
   "outputs": [],
   "source": [
    "tab_child <- as.data.frame.matrix(table(samples_tcr_child_long$study, \n",
    "samples_tcr_child_long$antigen))"
   ]
  },
  {
   "cell_type": "code",
   "execution_count": 205,
   "metadata": {
    "vscode": {
     "languageId": "r"
    }
   },
   "outputs": [
    {
     "data": {
      "text/html": [
       "<table class=\"dataframe\">\n",
       "<caption>A data.frame: 1 x 9</caption>\n",
       "<thead>\n",
       "\t<tr><th></th><th scope=col>CEF</th><th scope=col>CMV</th><th scope=col>EBV</th><th scope=col>HCV</th><th scope=col>HPV</th><th scope=col>HomoSapiens</th><th scope=col>Influenza</th><th scope=col>MCPyV</th><th scope=col>MDavis</th></tr>\n",
       "\t<tr><th></th><th scope=col>&lt;int&gt;</th><th scope=col>&lt;int&gt;</th><th scope=col>&lt;int&gt;</th><th scope=col>&lt;int&gt;</th><th scope=col>&lt;int&gt;</th><th scope=col>&lt;int&gt;</th><th scope=col>&lt;int&gt;</th><th scope=col>&lt;int&gt;</th><th scope=col>&lt;int&gt;</th></tr>\n",
       "</thead>\n",
       "<tbody>\n",
       "\t<tr><th scope=row>Emerson_child</th><td>6</td><td>14</td><td>12</td><td>13</td><td>9</td><td>18</td><td>4</td><td>12</td><td>21</td></tr>\n",
       "</tbody>\n",
       "</table>\n"
      ],
      "text/latex": [
       "A data.frame: 1 x 9\n",
       "\\begin{tabular}{r|lllllllll}\n",
       "  & CEF & CMV & EBV & HCV & HPV & HomoSapiens & Influenza & MCPyV & MDavis\\\\\n",
       "  & <int> & <int> & <int> & <int> & <int> & <int> & <int> & <int> & <int>\\\\\n",
       "\\hline\n",
       "\tEmerson\\_child & 6 & 14 & 12 & 13 & 9 & 18 & 4 & 12 & 21\\\\\n",
       "\\end{tabular}\n"
      ],
      "text/markdown": [
       "\n",
       "A data.frame: 1 x 9\n",
       "\n",
       "| <!--/--> | CEF &lt;int&gt; | CMV &lt;int&gt; | EBV &lt;int&gt; | HCV &lt;int&gt; | HPV &lt;int&gt; | HomoSapiens &lt;int&gt; | Influenza &lt;int&gt; | MCPyV &lt;int&gt; | MDavis &lt;int&gt; |\n",
       "|---|---|---|---|---|---|---|---|---|---|\n",
       "| Emerson_child | 6 | 14 | 12 | 13 | 9 | 18 | 4 | 12 | 21 |\n",
       "\n"
      ],
      "text/plain": [
       "              CEF CMV EBV HCV HPV HomoSapiens Influenza MCPyV MDavis\n",
       "Emerson_child 6   14  12  13  9   18          4         12    21    "
      ]
     },
     "metadata": {},
     "output_type": "display_data"
    }
   ],
   "source": [
    "head(tab_child)"
   ]
  },
  {
   "cell_type": "code",
   "execution_count": 206,
   "metadata": {
    "vscode": {
     "languageId": "r"
    }
   },
   "outputs": [],
   "source": [
    "# remove mdavis\n",
    "tab_child <- tab_child[,!grepl(\"MDavis\", colnames(tab_child))]\n",
    "tab_child <- tab_child[,!grepl(\"CEF\", colnames(tab_child))]"
   ]
  },
  {
   "cell_type": "code",
   "execution_count": 207,
   "metadata": {
    "vscode": {
     "languageId": "r"
    }
   },
   "outputs": [
    {
     "data": {
      "text/html": [
       "<table class=\"dataframe\">\n",
       "<caption>A data.frame: 1 x 7</caption>\n",
       "<thead>\n",
       "\t<tr><th></th><th scope=col>CMV</th><th scope=col>EBV</th><th scope=col>HCV</th><th scope=col>HPV</th><th scope=col>HomoSapiens</th><th scope=col>Influenza</th><th scope=col>MCPyV</th></tr>\n",
       "\t<tr><th></th><th scope=col>&lt;int&gt;</th><th scope=col>&lt;int&gt;</th><th scope=col>&lt;int&gt;</th><th scope=col>&lt;int&gt;</th><th scope=col>&lt;int&gt;</th><th scope=col>&lt;int&gt;</th><th scope=col>&lt;int&gt;</th></tr>\n",
       "</thead>\n",
       "<tbody>\n",
       "\t<tr><th scope=row>Emerson_child</th><td>14</td><td>12</td><td>13</td><td>9</td><td>18</td><td>4</td><td>12</td></tr>\n",
       "</tbody>\n",
       "</table>\n"
      ],
      "text/latex": [
       "A data.frame: 1 x 7\n",
       "\\begin{tabular}{r|lllllll}\n",
       "  & CMV & EBV & HCV & HPV & HomoSapiens & Influenza & MCPyV\\\\\n",
       "  & <int> & <int> & <int> & <int> & <int> & <int> & <int>\\\\\n",
       "\\hline\n",
       "\tEmerson\\_child & 14 & 12 & 13 & 9 & 18 & 4 & 12\\\\\n",
       "\\end{tabular}\n"
      ],
      "text/markdown": [
       "\n",
       "A data.frame: 1 x 7\n",
       "\n",
       "| <!--/--> | CMV &lt;int&gt; | EBV &lt;int&gt; | HCV &lt;int&gt; | HPV &lt;int&gt; | HomoSapiens &lt;int&gt; | Influenza &lt;int&gt; | MCPyV &lt;int&gt; |\n",
       "|---|---|---|---|---|---|---|---|\n",
       "| Emerson_child | 14 | 12 | 13 | 9 | 18 | 4 | 12 |\n",
       "\n"
      ],
      "text/plain": [
       "              CMV EBV HCV HPV HomoSapiens Influenza MCPyV\n",
       "Emerson_child 14  12  13  9   18          4         12   "
      ]
     },
     "metadata": {},
     "output_type": "display_data"
    }
   ],
   "source": [
    "head(tab_child)"
   ]
  },
  {
   "cell_type": "markdown",
   "metadata": {},
   "source": [
    "Adult"
   ]
  },
  {
   "cell_type": "code",
   "execution_count": 208,
   "metadata": {
    "vscode": {
     "languageId": "r"
    }
   },
   "outputs": [],
   "source": [
    "# pivot_longer\n",
    "samples_tcr_emersonadult$sample_id <- rownames(samples_tcr_emersonadult)\n",
    "samples_tcr_adult_long <- tidyr::pivot_longer(samples_tcr_emersonadult, cols = c(1:12), names_to = \"antigen\", values_to = \"n\")"
   ]
  },
  {
   "cell_type": "code",
   "execution_count": 209,
   "metadata": {
    "vscode": {
     "languageId": "r"
    }
   },
   "outputs": [
    {
     "data": {
      "text/html": [
       "<style>\n",
       ".list-inline {list-style: none; margin:0; padding: 0}\n",
       ".list-inline>li {display: inline-block}\n",
       ".list-inline>li:not(:last-child)::after {content: \"\\00b7\"; padding: 0 .5ex}\n",
       "</style>\n",
       "<ol class=list-inline><li>253</li><li>19</li></ol>\n"
      ],
      "text/latex": [
       "\\begin{enumerate*}\n",
       "\\item 253\n",
       "\\item 19\n",
       "\\end{enumerate*}\n"
      ],
      "text/markdown": [
       "1. 253\n",
       "2. 19\n",
       "\n",
       "\n"
      ],
      "text/plain": [
       "[1] 253  19"
      ]
     },
     "metadata": {},
     "output_type": "display_data"
    }
   ],
   "source": [
    "dim(samples_tcr_emersonadult)"
   ]
  },
  {
   "cell_type": "code",
   "execution_count": 210,
   "metadata": {
    "vscode": {
     "languageId": "r"
    }
   },
   "outputs": [],
   "source": [
    "# remove 0\n",
    "samples_tcr_adult_long <- samples_tcr_adult_long[samples_tcr_adult_long$n > 0,]"
   ]
  },
  {
   "cell_type": "code",
   "execution_count": 211,
   "metadata": {
    "vscode": {
     "languageId": "r"
    }
   },
   "outputs": [],
   "source": [
    "tab_adult <- as.data.frame.matrix(table(samples_tcr_adult_long$study, \n",
    "samples_tcr_adult_long$antigen))"
   ]
  },
  {
   "cell_type": "code",
   "execution_count": 212,
   "metadata": {
    "vscode": {
     "languageId": "r"
    }
   },
   "outputs": [],
   "source": [
    "# remove mdavis\n",
    "tab_adult <- tab_adult[,!grepl(\"MDavis\", colnames(tab_adult))]\n",
    "tab_adult <- tab_adult[,!grepl(\"CEF\", colnames(tab_adult))]\n",
    "tab_adult <- tab_adult[,!grepl(\"DENV\", colnames(tab_adult))]\n"
   ]
  },
  {
   "cell_type": "code",
   "execution_count": 213,
   "metadata": {
    "vscode": {
     "languageId": "r"
    }
   },
   "outputs": [
    {
     "data": {
      "text/html": [
       "<table class=\"dataframe\">\n",
       "<caption>A data.frame: 1 x 7</caption>\n",
       "<thead>\n",
       "\t<tr><th></th><th scope=col>CMV</th><th scope=col>EBV</th><th scope=col>HCV</th><th scope=col>HPV</th><th scope=col>HomoSapiens</th><th scope=col>Influenza</th><th scope=col>MCPyV</th></tr>\n",
       "\t<tr><th></th><th scope=col>&lt;int&gt;</th><th scope=col>&lt;int&gt;</th><th scope=col>&lt;int&gt;</th><th scope=col>&lt;int&gt;</th><th scope=col>&lt;int&gt;</th><th scope=col>&lt;int&gt;</th><th scope=col>&lt;int&gt;</th></tr>\n",
       "</thead>\n",
       "<tbody>\n",
       "\t<tr><th scope=row>Emerson_adult</th><td>185</td><td>146</td><td>148</td><td>93</td><td>200</td><td>46</td><td>135</td></tr>\n",
       "</tbody>\n",
       "</table>\n"
      ],
      "text/latex": [
       "A data.frame: 1 x 7\n",
       "\\begin{tabular}{r|lllllll}\n",
       "  & CMV & EBV & HCV & HPV & HomoSapiens & Influenza & MCPyV\\\\\n",
       "  & <int> & <int> & <int> & <int> & <int> & <int> & <int>\\\\\n",
       "\\hline\n",
       "\tEmerson\\_adult & 185 & 146 & 148 & 93 & 200 & 46 & 135\\\\\n",
       "\\end{tabular}\n"
      ],
      "text/markdown": [
       "\n",
       "A data.frame: 1 x 7\n",
       "\n",
       "| <!--/--> | CMV &lt;int&gt; | EBV &lt;int&gt; | HCV &lt;int&gt; | HPV &lt;int&gt; | HomoSapiens &lt;int&gt; | Influenza &lt;int&gt; | MCPyV &lt;int&gt; |\n",
       "|---|---|---|---|---|---|---|---|\n",
       "| Emerson_adult | 185 | 146 | 148 | 93 | 200 | 46 | 135 |\n",
       "\n"
      ],
      "text/plain": [
       "              CMV EBV HCV HPV HomoSapiens Influenza MCPyV\n",
       "Emerson_adult 185 146 148 93  200         46        135  "
      ]
     },
     "metadata": {},
     "output_type": "display_data"
    }
   ],
   "source": [
    "head(tab_adult)"
   ]
  },
  {
   "cell_type": "markdown",
   "metadata": {},
   "source": [
    "bind all together"
   ]
  },
  {
   "cell_type": "code",
   "execution_count": 214,
   "metadata": {
    "vscode": {
     "languageId": "r"
    }
   },
   "outputs": [],
   "source": [
    "all_tab <- rbind(tab_int, tab_child, tab_adult)"
   ]
  },
  {
   "cell_type": "code",
   "execution_count": 215,
   "metadata": {
    "vscode": {
     "languageId": "r"
    }
   },
   "outputs": [],
   "source": [
    "adultcount <- as.data.frame(table(samples_tcr_emersonadult$study))\n",
    "childcount <- as.data.frame(table(samples_tcr_emersonchild$study))\n",
    "intcount <- as.data.frame(table(samples_tcr_pbmc01$cancergroup))\n"
   ]
  },
  {
   "cell_type": "code",
   "execution_count": 216,
   "metadata": {
    "vscode": {
     "languageId": "r"
    }
   },
   "outputs": [],
   "source": [
    "# remove Tcells becasue only two samples\n",
    "all_tab <- all_tab[!grepl(\"T-cellmalignancies\", rownames(all_tab)),]"
   ]
  },
  {
   "cell_type": "code",
   "execution_count": 217,
   "metadata": {
    "vscode": {
     "languageId": "r"
    }
   },
   "outputs": [
    {
     "data": {
      "text/html": [
       "<table class=\"dataframe\">\n",
       "<caption>A data.frame: 4 x 2</caption>\n",
       "<thead>\n",
       "\t<tr><th scope=col>Var1</th><th scope=col>Freq</th></tr>\n",
       "\t<tr><th scope=col>&lt;fct&gt;</th><th scope=col>&lt;int&gt;</th></tr>\n",
       "</thead>\n",
       "<tbody>\n",
       "\t<tr><td>Leukemia          </td><td>22</td></tr>\n",
       "\t<tr><td>Lymphoma          </td><td> 5</td></tr>\n",
       "\t<tr><td>Solidtumors       </td><td>13</td></tr>\n",
       "\t<tr><td>T-cellmalignancies</td><td> 2</td></tr>\n",
       "</tbody>\n",
       "</table>\n"
      ],
      "text/latex": [
       "A data.frame: 4 x 2\n",
       "\\begin{tabular}{ll}\n",
       " Var1 & Freq\\\\\n",
       " <fct> & <int>\\\\\n",
       "\\hline\n",
       "\t Leukemia           & 22\\\\\n",
       "\t Lymphoma           &  5\\\\\n",
       "\t Solidtumors        & 13\\\\\n",
       "\t T-cellmalignancies &  2\\\\\n",
       "\\end{tabular}\n"
      ],
      "text/markdown": [
       "\n",
       "A data.frame: 4 x 2\n",
       "\n",
       "| Var1 &lt;fct&gt; | Freq &lt;int&gt; |\n",
       "|---|---|\n",
       "| Leukemia           | 22 |\n",
       "| Lymphoma           |  5 |\n",
       "| Solidtumors        | 13 |\n",
       "| T-cellmalignancies |  2 |\n",
       "\n"
      ],
      "text/plain": [
       "  Var1               Freq\n",
       "1 Leukemia           22  \n",
       "2 Lymphoma            5  \n",
       "3 Solidtumors        13  \n",
       "4 T-cellmalignancies  2  "
      ]
     },
     "metadata": {},
     "output_type": "display_data"
    }
   ],
   "source": [
    "intcount"
   ]
  },
  {
   "cell_type": "code",
   "execution_count": 218,
   "metadata": {
    "vscode": {
     "languageId": "r"
    }
   },
   "outputs": [],
   "source": [
    "all_tab$n <- NA\n",
    "all_tab$n[ grepl(\"Emerson_adult\", rownames(all_tab))] <- adultcount$Freq\n",
    "all_tab$n[ grepl(\"Emerson_child\", rownames(all_tab))] <- childcount$Freq\n",
    "all_tab$n[ grepl(\"Leukemia\", rownames(all_tab))] <- intcount$Freq[intcount$Var1 == \"Leukemia\"]\n",
    "all_tab$n[ grepl(\"Lymphoma\", rownames(all_tab))] <- intcount$Freq[intcount$Var1 == \"Lymphoma\"]\n",
    "all_tab$n[ grepl(\"Solidtumors\", rownames(all_tab))] <- intcount$Freq[intcount$Var1 == \"Solidtumors\"]"
   ]
  },
  {
   "cell_type": "code",
   "execution_count": 219,
   "metadata": {
    "vscode": {
     "languageId": "r"
    }
   },
   "outputs": [
    {
     "data": {
      "text/html": [
       "<table class=\"dataframe\">\n",
       "<caption>A data.frame: 5 x 8</caption>\n",
       "<thead>\n",
       "\t<tr><th></th><th scope=col>CMV</th><th scope=col>EBV</th><th scope=col>HCV</th><th scope=col>HPV</th><th scope=col>HomoSapiens</th><th scope=col>Influenza</th><th scope=col>MCPyV</th><th scope=col>n</th></tr>\n",
       "\t<tr><th></th><th scope=col>&lt;int&gt;</th><th scope=col>&lt;int&gt;</th><th scope=col>&lt;int&gt;</th><th scope=col>&lt;int&gt;</th><th scope=col>&lt;int&gt;</th><th scope=col>&lt;int&gt;</th><th scope=col>&lt;int&gt;</th><th scope=col>&lt;int&gt;</th></tr>\n",
       "</thead>\n",
       "<tbody>\n",
       "\t<tr><th scope=row>Leukemia</th><td> 12</td><td> 11</td><td> 11</td><td> 9</td><td> 16</td><td> 4</td><td>  9</td><td> 22</td></tr>\n",
       "\t<tr><th scope=row>Lymphoma</th><td>  4</td><td>  4</td><td>  2</td><td> 1</td><td>  5</td><td> 1</td><td>  3</td><td>  5</td></tr>\n",
       "\t<tr><th scope=row>Solidtumors</th><td>  9</td><td>  9</td><td>  8</td><td> 5</td><td> 12</td><td> 4</td><td>  4</td><td> 13</td></tr>\n",
       "\t<tr><th scope=row>Emerson_child</th><td> 14</td><td> 12</td><td> 13</td><td> 9</td><td> 18</td><td> 4</td><td> 12</td><td> 21</td></tr>\n",
       "\t<tr><th scope=row>Emerson_adult</th><td>185</td><td>146</td><td>148</td><td>93</td><td>200</td><td>46</td><td>135</td><td>253</td></tr>\n",
       "</tbody>\n",
       "</table>\n"
      ],
      "text/latex": [
       "A data.frame: 5 x 8\n",
       "\\begin{tabular}{r|llllllll}\n",
       "  & CMV & EBV & HCV & HPV & HomoSapiens & Influenza & MCPyV & n\\\\\n",
       "  & <int> & <int> & <int> & <int> & <int> & <int> & <int> & <int>\\\\\n",
       "\\hline\n",
       "\tLeukemia &  12 &  11 &  11 &  9 &  16 &  4 &   9 &  22\\\\\n",
       "\tLymphoma &   4 &   4 &   2 &  1 &   5 &  1 &   3 &   5\\\\\n",
       "\tSolidtumors &   9 &   9 &   8 &  5 &  12 &  4 &   4 &  13\\\\\n",
       "\tEmerson\\_child &  14 &  12 &  13 &  9 &  18 &  4 &  12 &  21\\\\\n",
       "\tEmerson\\_adult & 185 & 146 & 148 & 93 & 200 & 46 & 135 & 253\\\\\n",
       "\\end{tabular}\n"
      ],
      "text/markdown": [
       "\n",
       "A data.frame: 5 x 8\n",
       "\n",
       "| <!--/--> | CMV &lt;int&gt; | EBV &lt;int&gt; | HCV &lt;int&gt; | HPV &lt;int&gt; | HomoSapiens &lt;int&gt; | Influenza &lt;int&gt; | MCPyV &lt;int&gt; | n &lt;int&gt; |\n",
       "|---|---|---|---|---|---|---|---|---|\n",
       "| Leukemia |  12 |  11 |  11 |  9 |  16 |  4 |   9 |  22 |\n",
       "| Lymphoma |   4 |   4 |   2 |  1 |   5 |  1 |   3 |   5 |\n",
       "| Solidtumors |   9 |   9 |   8 |  5 |  12 |  4 |   4 |  13 |\n",
       "| Emerson_child |  14 |  12 |  13 |  9 |  18 |  4 |  12 |  21 |\n",
       "| Emerson_adult | 185 | 146 | 148 | 93 | 200 | 46 | 135 | 253 |\n",
       "\n"
      ],
      "text/plain": [
       "              CMV EBV HCV HPV HomoSapiens Influenza MCPyV n  \n",
       "Leukemia       12  11  11  9   16          4          9    22\n",
       "Lymphoma        4   4   2  1    5          1          3     5\n",
       "Solidtumors     9   9   8  5   12          4          4    13\n",
       "Emerson_child  14  12  13  9   18          4         12    21\n",
       "Emerson_adult 185 146 148 93  200         46        135   253"
      ]
     },
     "metadata": {},
     "output_type": "display_data"
    }
   ],
   "source": [
    "all_tab"
   ]
  },
  {
   "cell_type": "code",
   "execution_count": 220,
   "metadata": {
    "vscode": {
     "languageId": "r"
    }
   },
   "outputs": [],
   "source": [
    "mymat <- as.data.frame(matrix(NA, nrow = 0, ncol = 6) )\n",
    "colnames(mymat) <- c(\"Antigen\", \"Cancer\", \"p\", \"OR\", \"Lower\", \"Upper\")"
   ]
  },
  {
   "cell_type": "code",
   "execution_count": 221,
   "metadata": {
    "vscode": {
     "languageId": "r"
    }
   },
   "outputs": [
    {
     "name": "stdout",
     "output_type": "stream",
     "text": [
      "[1] \"Leukemia\"\n",
      "[1] \"CMV\"\n",
      "[1] \"EBV\"\n",
      "[1] \"HCV\"\n",
      "[1] \"HPV\"\n",
      "[1] \"Influenza\"\n",
      "[1] \"MCPyV\"\n",
      "[1] \"HomoSapiens\"\n",
      "[1] \"Lymphoma\"\n",
      "[1] \"CMV\"\n",
      "[1] \"EBV\"\n",
      "[1] \"HCV\"\n",
      "[1] \"HPV\"\n",
      "[1] \"Influenza\"\n",
      "[1] \"MCPyV\"\n",
      "[1] \"HomoSapiens\"\n",
      "[1] \"Solidtumors\"\n",
      "[1] \"CMV\"\n",
      "[1] \"EBV\"\n",
      "[1] \"HCV\"\n",
      "[1] \"HPV\"\n",
      "[1] \"Influenza\"\n",
      "[1] \"MCPyV\"\n",
      "[1] \"HomoSapiens\"\n"
     ]
    }
   ],
   "source": [
    "for (c in c(\"Leukemia\", \"Lymphoma\", \"Solidtumors\")) {\n",
    "  print(c)\n",
    "\n",
    "  for (v in c(\"CMV\", \"EBV\", \"HCV\", \"HPV\", \"Influenza\", \"MCPyV\", \"HomoSapiens\")) {\n",
    "    print(v)\n",
    "all_tab$others <- NA\n",
    "all_tab[c, \"others\"] <- all_tab[c,\"n\"] - all_tab[c,v] \n",
    "all_tab[\"Emerson_adult\", \"others\"] <- all_tab[\"Emerson_adult\",\"n\"] - all_tab[\"Emerson_adult\",v] \n",
    "contingency_table <- all_tab[c(c, \"Emerson_adult\"), c(v, \"others\")]\n",
    "\n",
    "if( nrow(contingency_table) == 1) next\n",
    "    c1 <- fisher.test(contingency_table)\n",
    "    mymat_c <- as.data.frame(matrix(NA, nrow = 1, ncol = 6))\n",
    "    colnames(mymat_c) <- c(\"Antigen\", \"Cancer\", \"p\", \"OR\", \"Lower\", \"Upper\")\n",
    "\n",
    "    mymat_c$Antigen[1] <- v\n",
    "    mymat_c$Cancer[1] <- c\n",
    "    mymat_c$p[1] <- c1$p.value\n",
    "    mymat_c$OR[1] <- c1$estimate\n",
    "    mymat_c$Lower[1] <- c1$conf.int[1]\n",
    "    mymat_c$Upper[1] <- c1$conf.int[2]\n",
    "    mymat <- rbind(mymat, mymat_c[1, ])\n",
    "\n",
    "  } # end of virus loop\n",
    "} # end of cancer loop"
   ]
  },
  {
   "cell_type": "code",
   "execution_count": 222,
   "metadata": {
    "vscode": {
     "languageId": "r"
    }
   },
   "outputs": [
    {
     "data": {
      "text/html": [
       "<table class=\"dataframe\">\n",
       "<caption>A data.frame: 21 x 7</caption>\n",
       "<thead>\n",
       "\t<tr><th></th><th scope=col>Antigen</th><th scope=col>Cancer</th><th scope=col>p</th><th scope=col>OR</th><th scope=col>Lower</th><th scope=col>Upper</th><th scope=col>padj</th></tr>\n",
       "\t<tr><th></th><th scope=col>&lt;chr&gt;</th><th scope=col>&lt;chr&gt;</th><th scope=col>&lt;dbl&gt;</th><th scope=col>&lt;dbl&gt;</th><th scope=col>&lt;dbl&gt;</th><th scope=col>&lt;dbl&gt;</th><th scope=col>&lt;dbl&gt;</th></tr>\n",
       "</thead>\n",
       "<tbody>\n",
       "\t<tr><th scope=row>1</th><td>CMV        </td><td>Leukemia   </td><td>0.08300485</td><td>0.4425654</td><td>0.166485349</td><td>  1.200471</td><td>1</td></tr>\n",
       "\t<tr><th scope=row>2</th><td>EBV        </td><td>Leukemia   </td><td>0.50764399</td><td>0.7337276</td><td>0.277010151</td><td>  1.942978</td><td>1</td></tr>\n",
       "\t<tr><th scope=row>3</th><td>HCV        </td><td>Leukemia   </td><td>0.50242750</td><td>0.7103739</td><td>0.268147120</td><td>  1.881465</td><td>1</td></tr>\n",
       "\t<tr><th scope=row>4</th><td>HPV        </td><td>Leukemia   </td><td>0.81853682</td><td>1.1902859</td><td>0.431321490</td><td>  3.143704</td><td>1</td></tr>\n",
       "\t<tr><th scope=row>5</th><td>Influenza  </td><td>Leukemia   </td><td>1.00000000</td><td>1.0000000</td><td>0.235111022</td><td>  3.236063</td><td>1</td></tr>\n",
       "\t<tr><th scope=row>6</th><td>MCPyV      </td><td>Leukemia   </td><td>0.27585273</td><td>0.6062405</td><td>0.220223625</td><td>  1.596292</td><td>1</td></tr>\n",
       "\t<tr><th scope=row>7</th><td>HomoSapiens</td><td>Leukemia   </td><td>0.58718011</td><td>0.7076339</td><td>0.247612629</td><td>  2.318432</td><td>1</td></tr>\n",
       "\t<tr><th scope=row>8</th><td>CMV        </td><td>Lymphoma   </td><td>1.00000000</td><td>1.4682143</td><td>0.141998128</td><td> 73.434455</td><td>1</td></tr>\n",
       "\t<tr><th scope=row>9</th><td>EBV        </td><td>Lymphoma   </td><td>0.40330543</td><td>2.9210220</td><td>0.283818879</td><td>145.595952</td><td>1</td></tr>\n",
       "\t<tr><th scope=row>10</th><td>HCV        </td><td>Lymphoma   </td><td>0.65231970</td><td>0.4743660</td><td>0.038977966</td><td>  4.216031</td><td>1</td></tr>\n",
       "\t<tr><th scope=row>11</th><td>HPV        </td><td>Lymphoma   </td><td>0.65565754</td><td>0.4313184</td><td>0.008646655</td><td>  4.443502</td><td>1</td></tr>\n",
       "\t<tr><th scope=row>12</th><td>Influenza  </td><td>Lymphoma   </td><td>1.00000000</td><td>1.1244980</td><td>0.022363588</td><td> 11.717165</td><td>1</td></tr>\n",
       "\t<tr><th scope=row>13</th><td>MCPyV      </td><td>Lymphoma   </td><td>1.00000000</td><td>1.3097528</td><td>0.147423733</td><td> 15.923278</td><td>1</td></tr>\n",
       "\t<tr><th scope=row>14</th><td>HomoSapiens</td><td>Lymphoma   </td><td>0.58665697</td><td>      Inf</td><td>0.235654101</td><td>       Inf</td><td>1</td></tr>\n",
       "\t<tr><th scope=row>15</th><td>CMV        </td><td>Solidtumors</td><td>0.75363484</td><td>0.8276686</td><td>0.221927750</td><td>  3.799976</td><td>1</td></tr>\n",
       "\t<tr><th scope=row>16</th><td>EBV        </td><td>Solidtumors</td><td>0.56698810</td><td>1.6460277</td><td>0.444893836</td><td>  7.511736</td><td>1</td></tr>\n",
       "\t<tr><th scope=row>17</th><td>HCV        </td><td>Solidtumors</td><td>1.00000000</td><td>1.1345674</td><td>0.316880779</td><td>  4.536526</td><td>1</td></tr>\n",
       "\t<tr><th scope=row>18</th><td>HPV        </td><td>Solidtumors</td><td>1.00000000</td><td>1.0749720</td><td>0.268512358</td><td>  3.854396</td><td>1</td></tr>\n",
       "\t<tr><th scope=row>19</th><td>Influenza  </td><td>Solidtumors</td><td>0.27459086</td><td>1.9938390</td><td>0.429855723</td><td>  7.533343</td><td>1</td></tr>\n",
       "\t<tr><th scope=row>20</th><td>MCPyV      </td><td>Solidtumors</td><td>0.15498335</td><td>0.3898128</td><td>0.085459528</td><td>  1.441129</td><td>1</td></tr>\n",
       "\t<tr><th scope=row>21</th><td>HomoSapiens</td><td>Solidtumors</td><td>0.47702089</td><td>3.1702743</td><td>0.449947097</td><td>138.394231</td><td>1</td></tr>\n",
       "</tbody>\n",
       "</table>\n"
      ],
      "text/latex": [
       "A data.frame: 21 x 7\n",
       "\\begin{tabular}{r|lllllll}\n",
       "  & Antigen & Cancer & p & OR & Lower & Upper & padj\\\\\n",
       "  & <chr> & <chr> & <dbl> & <dbl> & <dbl> & <dbl> & <dbl>\\\\\n",
       "\\hline\n",
       "\t1 & CMV         & Leukemia    & 0.08300485 & 0.4425654 & 0.166485349 &   1.200471 & 1\\\\\n",
       "\t2 & EBV         & Leukemia    & 0.50764399 & 0.7337276 & 0.277010151 &   1.942978 & 1\\\\\n",
       "\t3 & HCV         & Leukemia    & 0.50242750 & 0.7103739 & 0.268147120 &   1.881465 & 1\\\\\n",
       "\t4 & HPV         & Leukemia    & 0.81853682 & 1.1902859 & 0.431321490 &   3.143704 & 1\\\\\n",
       "\t5 & Influenza   & Leukemia    & 1.00000000 & 1.0000000 & 0.235111022 &   3.236063 & 1\\\\\n",
       "\t6 & MCPyV       & Leukemia    & 0.27585273 & 0.6062405 & 0.220223625 &   1.596292 & 1\\\\\n",
       "\t7 & HomoSapiens & Leukemia    & 0.58718011 & 0.7076339 & 0.247612629 &   2.318432 & 1\\\\\n",
       "\t8 & CMV         & Lymphoma    & 1.00000000 & 1.4682143 & 0.141998128 &  73.434455 & 1\\\\\n",
       "\t9 & EBV         & Lymphoma    & 0.40330543 & 2.9210220 & 0.283818879 & 145.595952 & 1\\\\\n",
       "\t10 & HCV         & Lymphoma    & 0.65231970 & 0.4743660 & 0.038977966 &   4.216031 & 1\\\\\n",
       "\t11 & HPV         & Lymphoma    & 0.65565754 & 0.4313184 & 0.008646655 &   4.443502 & 1\\\\\n",
       "\t12 & Influenza   & Lymphoma    & 1.00000000 & 1.1244980 & 0.022363588 &  11.717165 & 1\\\\\n",
       "\t13 & MCPyV       & Lymphoma    & 1.00000000 & 1.3097528 & 0.147423733 &  15.923278 & 1\\\\\n",
       "\t14 & HomoSapiens & Lymphoma    & 0.58665697 &       Inf & 0.235654101 &        Inf & 1\\\\\n",
       "\t15 & CMV         & Solidtumors & 0.75363484 & 0.8276686 & 0.221927750 &   3.799976 & 1\\\\\n",
       "\t16 & EBV         & Solidtumors & 0.56698810 & 1.6460277 & 0.444893836 &   7.511736 & 1\\\\\n",
       "\t17 & HCV         & Solidtumors & 1.00000000 & 1.1345674 & 0.316880779 &   4.536526 & 1\\\\\n",
       "\t18 & HPV         & Solidtumors & 1.00000000 & 1.0749720 & 0.268512358 &   3.854396 & 1\\\\\n",
       "\t19 & Influenza   & Solidtumors & 0.27459086 & 1.9938390 & 0.429855723 &   7.533343 & 1\\\\\n",
       "\t20 & MCPyV       & Solidtumors & 0.15498335 & 0.3898128 & 0.085459528 &   1.441129 & 1\\\\\n",
       "\t21 & HomoSapiens & Solidtumors & 0.47702089 & 3.1702743 & 0.449947097 & 138.394231 & 1\\\\\n",
       "\\end{tabular}\n"
      ],
      "text/markdown": [
       "\n",
       "A data.frame: 21 x 7\n",
       "\n",
       "| <!--/--> | Antigen &lt;chr&gt; | Cancer &lt;chr&gt; | p &lt;dbl&gt; | OR &lt;dbl&gt; | Lower &lt;dbl&gt; | Upper &lt;dbl&gt; | padj &lt;dbl&gt; |\n",
       "|---|---|---|---|---|---|---|---|\n",
       "| 1 | CMV         | Leukemia    | 0.08300485 | 0.4425654 | 0.166485349 |   1.200471 | 1 |\n",
       "| 2 | EBV         | Leukemia    | 0.50764399 | 0.7337276 | 0.277010151 |   1.942978 | 1 |\n",
       "| 3 | HCV         | Leukemia    | 0.50242750 | 0.7103739 | 0.268147120 |   1.881465 | 1 |\n",
       "| 4 | HPV         | Leukemia    | 0.81853682 | 1.1902859 | 0.431321490 |   3.143704 | 1 |\n",
       "| 5 | Influenza   | Leukemia    | 1.00000000 | 1.0000000 | 0.235111022 |   3.236063 | 1 |\n",
       "| 6 | MCPyV       | Leukemia    | 0.27585273 | 0.6062405 | 0.220223625 |   1.596292 | 1 |\n",
       "| 7 | HomoSapiens | Leukemia    | 0.58718011 | 0.7076339 | 0.247612629 |   2.318432 | 1 |\n",
       "| 8 | CMV         | Lymphoma    | 1.00000000 | 1.4682143 | 0.141998128 |  73.434455 | 1 |\n",
       "| 9 | EBV         | Lymphoma    | 0.40330543 | 2.9210220 | 0.283818879 | 145.595952 | 1 |\n",
       "| 10 | HCV         | Lymphoma    | 0.65231970 | 0.4743660 | 0.038977966 |   4.216031 | 1 |\n",
       "| 11 | HPV         | Lymphoma    | 0.65565754 | 0.4313184 | 0.008646655 |   4.443502 | 1 |\n",
       "| 12 | Influenza   | Lymphoma    | 1.00000000 | 1.1244980 | 0.022363588 |  11.717165 | 1 |\n",
       "| 13 | MCPyV       | Lymphoma    | 1.00000000 | 1.3097528 | 0.147423733 |  15.923278 | 1 |\n",
       "| 14 | HomoSapiens | Lymphoma    | 0.58665697 |       Inf | 0.235654101 |        Inf | 1 |\n",
       "| 15 | CMV         | Solidtumors | 0.75363484 | 0.8276686 | 0.221927750 |   3.799976 | 1 |\n",
       "| 16 | EBV         | Solidtumors | 0.56698810 | 1.6460277 | 0.444893836 |   7.511736 | 1 |\n",
       "| 17 | HCV         | Solidtumors | 1.00000000 | 1.1345674 | 0.316880779 |   4.536526 | 1 |\n",
       "| 18 | HPV         | Solidtumors | 1.00000000 | 1.0749720 | 0.268512358 |   3.854396 | 1 |\n",
       "| 19 | Influenza   | Solidtumors | 0.27459086 | 1.9938390 | 0.429855723 |   7.533343 | 1 |\n",
       "| 20 | MCPyV       | Solidtumors | 0.15498335 | 0.3898128 | 0.085459528 |   1.441129 | 1 |\n",
       "| 21 | HomoSapiens | Solidtumors | 0.47702089 | 3.1702743 | 0.449947097 | 138.394231 | 1 |\n",
       "\n"
      ],
      "text/plain": [
       "   Antigen     Cancer      p          OR        Lower       Upper      padj\n",
       "1  CMV         Leukemia    0.08300485 0.4425654 0.166485349   1.200471 1   \n",
       "2  EBV         Leukemia    0.50764399 0.7337276 0.277010151   1.942978 1   \n",
       "3  HCV         Leukemia    0.50242750 0.7103739 0.268147120   1.881465 1   \n",
       "4  HPV         Leukemia    0.81853682 1.1902859 0.431321490   3.143704 1   \n",
       "5  Influenza   Leukemia    1.00000000 1.0000000 0.235111022   3.236063 1   \n",
       "6  MCPyV       Leukemia    0.27585273 0.6062405 0.220223625   1.596292 1   \n",
       "7  HomoSapiens Leukemia    0.58718011 0.7076339 0.247612629   2.318432 1   \n",
       "8  CMV         Lymphoma    1.00000000 1.4682143 0.141998128  73.434455 1   \n",
       "9  EBV         Lymphoma    0.40330543 2.9210220 0.283818879 145.595952 1   \n",
       "10 HCV         Lymphoma    0.65231970 0.4743660 0.038977966   4.216031 1   \n",
       "11 HPV         Lymphoma    0.65565754 0.4313184 0.008646655   4.443502 1   \n",
       "12 Influenza   Lymphoma    1.00000000 1.1244980 0.022363588  11.717165 1   \n",
       "13 MCPyV       Lymphoma    1.00000000 1.3097528 0.147423733  15.923278 1   \n",
       "14 HomoSapiens Lymphoma    0.58665697       Inf 0.235654101        Inf 1   \n",
       "15 CMV         Solidtumors 0.75363484 0.8276686 0.221927750   3.799976 1   \n",
       "16 EBV         Solidtumors 0.56698810 1.6460277 0.444893836   7.511736 1   \n",
       "17 HCV         Solidtumors 1.00000000 1.1345674 0.316880779   4.536526 1   \n",
       "18 HPV         Solidtumors 1.00000000 1.0749720 0.268512358   3.854396 1   \n",
       "19 Influenza   Solidtumors 0.27459086 1.9938390 0.429855723   7.533343 1   \n",
       "20 MCPyV       Solidtumors 0.15498335 0.3898128 0.085459528   1.441129 1   \n",
       "21 HomoSapiens Solidtumors 0.47702089 3.1702743 0.449947097 138.394231 1   "
      ]
     },
     "metadata": {},
     "output_type": "display_data"
    }
   ],
   "source": [
    "mymat$padj <- p.adjust(mymat$p, method = \"fdr\")\n",
    "mymat[ order(mymat$padj),]"
   ]
  },
  {
   "cell_type": "code",
   "execution_count": 227,
   "metadata": {
    "vscode": {
     "languageId": "r"
    }
   },
   "outputs": [],
   "source": [
    "all_tab$others <- NULL\n",
    "all_tab$n <- NULL"
   ]
  },
  {
   "cell_type": "code",
   "execution_count": 228,
   "metadata": {
    "vscode": {
     "languageId": "r"
    }
   },
   "outputs": [
    {
     "data": {
      "text/html": [
       "<table class=\"dataframe\">\n",
       "<caption>A data.frame: 5 x 7</caption>\n",
       "<thead>\n",
       "\t<tr><th></th><th scope=col>CMV</th><th scope=col>EBV</th><th scope=col>HCV</th><th scope=col>HPV</th><th scope=col>HomoSapiens</th><th scope=col>Influenza</th><th scope=col>MCPyV</th></tr>\n",
       "\t<tr><th></th><th scope=col>&lt;int&gt;</th><th scope=col>&lt;int&gt;</th><th scope=col>&lt;int&gt;</th><th scope=col>&lt;int&gt;</th><th scope=col>&lt;int&gt;</th><th scope=col>&lt;int&gt;</th><th scope=col>&lt;int&gt;</th></tr>\n",
       "</thead>\n",
       "<tbody>\n",
       "\t<tr><th scope=row>Leukemia</th><td> 12</td><td> 11</td><td> 11</td><td> 9</td><td> 16</td><td> 4</td><td>  9</td></tr>\n",
       "\t<tr><th scope=row>Lymphoma</th><td>  4</td><td>  4</td><td>  2</td><td> 1</td><td>  5</td><td> 1</td><td>  3</td></tr>\n",
       "\t<tr><th scope=row>Solidtumors</th><td>  9</td><td>  9</td><td>  8</td><td> 5</td><td> 12</td><td> 4</td><td>  4</td></tr>\n",
       "\t<tr><th scope=row>Emerson_child</th><td> 14</td><td> 12</td><td> 13</td><td> 9</td><td> 18</td><td> 4</td><td> 12</td></tr>\n",
       "\t<tr><th scope=row>Emerson_adult</th><td>185</td><td>146</td><td>148</td><td>93</td><td>200</td><td>46</td><td>135</td></tr>\n",
       "</tbody>\n",
       "</table>\n"
      ],
      "text/latex": [
       "A data.frame: 5 x 7\n",
       "\\begin{tabular}{r|lllllll}\n",
       "  & CMV & EBV & HCV & HPV & HomoSapiens & Influenza & MCPyV\\\\\n",
       "  & <int> & <int> & <int> & <int> & <int> & <int> & <int>\\\\\n",
       "\\hline\n",
       "\tLeukemia &  12 &  11 &  11 &  9 &  16 &  4 &   9\\\\\n",
       "\tLymphoma &   4 &   4 &   2 &  1 &   5 &  1 &   3\\\\\n",
       "\tSolidtumors &   9 &   9 &   8 &  5 &  12 &  4 &   4\\\\\n",
       "\tEmerson\\_child &  14 &  12 &  13 &  9 &  18 &  4 &  12\\\\\n",
       "\tEmerson\\_adult & 185 & 146 & 148 & 93 & 200 & 46 & 135\\\\\n",
       "\\end{tabular}\n"
      ],
      "text/markdown": [
       "\n",
       "A data.frame: 5 x 7\n",
       "\n",
       "| <!--/--> | CMV &lt;int&gt; | EBV &lt;int&gt; | HCV &lt;int&gt; | HPV &lt;int&gt; | HomoSapiens &lt;int&gt; | Influenza &lt;int&gt; | MCPyV &lt;int&gt; |\n",
       "|---|---|---|---|---|---|---|---|\n",
       "| Leukemia |  12 |  11 |  11 |  9 |  16 |  4 |   9 |\n",
       "| Lymphoma |   4 |   4 |   2 |  1 |   5 |  1 |   3 |\n",
       "| Solidtumors |   9 |   9 |   8 |  5 |  12 |  4 |   4 |\n",
       "| Emerson_child |  14 |  12 |  13 |  9 |  18 |  4 |  12 |\n",
       "| Emerson_adult | 185 | 146 | 148 | 93 | 200 | 46 | 135 |\n",
       "\n"
      ],
      "text/plain": [
       "              CMV EBV HCV HPV HomoSapiens Influenza MCPyV\n",
       "Leukemia       12  11  11  9   16          4          9  \n",
       "Lymphoma        4   4   2  1    5          1          3  \n",
       "Solidtumors     9   9   8  5   12          4          4  \n",
       "Emerson_child  14  12  13  9   18          4         12  \n",
       "Emerson_adult 185 146 148 93  200         46        135  "
      ]
     },
     "metadata": {},
     "output_type": "display_data"
    }
   ],
   "source": [
    "all_tab"
   ]
  },
  {
   "cell_type": "code",
   "execution_count": 231,
   "metadata": {
    "vscode": {
     "languageId": "r"
    }
   },
   "outputs": [
    {
     "name": "stderr",
     "output_type": "stream",
     "text": [
      "Warning message in chisq.test(all_tab[!grepl(\"Emerson_Adult\", rownames(all_tab)), :\n",
      "\"Chi-squared approximation may be incorrect\"\n"
     ]
    }
   ],
   "source": [
    "chisq <- chisq.test(all_tab[ !grepl(\"Emerson_Adult\", rownames(all_tab)),])"
   ]
  },
  {
   "cell_type": "code",
   "execution_count": 232,
   "metadata": {
    "vscode": {
     "languageId": "r"
    }
   },
   "outputs": [
    {
     "data": {
      "text/plain": [
       "\n",
       "\tPearson's Chi-squared test\n",
       "\n",
       "data:  all_tab[!grepl(\"Emerson_Adult\", rownames(all_tab)), ]\n",
       "X-squared = 5.2853, df = 24, p-value = 1\n"
      ]
     },
     "metadata": {},
     "output_type": "display_data"
    }
   ],
   "source": [
    "chisq"
   ]
  },
  {
   "cell_type": "code",
   "execution_count": 233,
   "metadata": {
    "vscode": {
     "languageId": "r"
    }
   },
   "outputs": [
    {
     "data": {
      "image/png": "[encoded data removed]",
      "text/plain": [
       "Plot with title \"\""
      ]
     },
     "metadata": {
      "image/png": {
       "height": 420,
       "width": 420
      }
     },
     "output_type": "display_data"
    }
   ],
   "source": [
    "corrplot::corrplot(chisq$residuals, is.cor = FALSE,\n",
    "tl.pos = \"lt\", tl.cex = 0.9, tl.col = \"black\", tl.srt = 45)"
   ]
  },
  {
   "cell_type": "code",
   "execution_count": 234,
   "metadata": {
    "vscode": {
     "languageId": "r"
    }
   },
   "outputs": [
    {
     "data": {
      "text/html": [
       "<strong>pdf:</strong> 2"
      ],
      "text/latex": [
       "\\textbf{pdf:} 2"
      ],
      "text/markdown": [
       "**pdf:** 2"
      ],
      "text/plain": [
       "pdf \n",
       "  2 "
      ]
     },
     "metadata": {},
     "output_type": "display_data"
    }
   ],
   "source": [
    "pdf(paste0(plotpath, \"antigen_enrichment_chisq.pdf\"), width = 10, height = 10)\n",
    "corrplot::corrplot(chisq$residuals,\n",
    "    is.cor = FALSE,\n",
    "    tl.pos = \"lt\", tl.cex = 0.9, tl.col = \"black\", tl.srt = 45\n",
    ")\n",
    "dev.off()"
   ]
  },
  {
   "cell_type": "markdown",
   "metadata": {},
   "source": [
    "# Comparing clonal fraction between cancers and healthy subjects"
   ]
  },
  {
   "cell_type": "code",
   "execution_count": 5,
   "metadata": {
    "vscode": {
     "languageId": "r"
    }
   },
   "outputs": [],
   "source": [
    "int_samples_tcr_freq <- readr::read_rds(file = paste0(datapath, \"GLIPH/int_samples_gliphannot_freq_stat.rds\"))"
   ]
  },
  {
   "cell_type": "code",
   "execution_count": 6,
   "metadata": {
    "vscode": {
     "languageId": "r"
    }
   },
   "outputs": [],
   "source": [
    "adult_samples_tcr_freq <- readr::read_rds(file = paste0(datapath, \"GLIPH/emerson_adult_samples_gliphannot_freq_stat.rds\"))"
   ]
  },
  {
   "cell_type": "code",
   "execution_count": 7,
   "metadata": {
    "vscode": {
     "languageId": "r"
    }
   },
   "outputs": [],
   "source": [
    "child_samples_tcr_freq <- readr::read_rds(file = paste0(datapath, \"GLIPH/emerson_child_samples_gliphannot_freq_stat.rds\"))"
   ]
  },
  {
   "cell_type": "code",
   "execution_count": 8,
   "metadata": {
    "vscode": {
     "languageId": "r"
    }
   },
   "outputs": [],
   "source": [
    "int_samples_tcr_freq_pbmc <- int_samples_tcr_freq[ int_samples_tcr_freq$sampletype == \"PBMC\",]\n",
    "int_samples_tcr_freq_pbmc <- int_samples_tcr_freq_pbmc[ !grepl(\"X00\", rownames(int_samples_tcr_freq_pbmc)),]\n",
    "int_samples_tcr_freq_pbmc01 <- int_samples_tcr_freq_pbmc[ grepl(\"X01\", rownames(int_samples_tcr_freq_pbmc)),]"
   ]
  },
  {
   "cell_type": "code",
   "execution_count": 9,
   "metadata": {
    "vscode": {
     "languageId": "r"
    }
   },
   "outputs": [],
   "source": [
    "myantigens <- colnames(int_samples_tcr_freq_pbmc01)[1:11]"
   ]
  },
  {
   "cell_type": "code",
   "execution_count": 10,
   "metadata": {
    "vscode": {
     "languageId": "r"
    }
   },
   "outputs": [],
   "source": [
    "myantigens <- myantigens[ !myantigens %in% c(\"MDavis\", \"CEF\", \"TB\", \"SP\")]"
   ]
  },
  {
   "cell_type": "code",
   "execution_count": 11,
   "metadata": {
    "vscode": {
     "languageId": "r"
    }
   },
   "outputs": [
    {
     "data": {
      "text/html": [
       "<style>\n",
       ".list-inline {list-style: none; margin:0; padding: 0}\n",
       ".list-inline>li {display: inline-block}\n",
       ".list-inline>li:not(:last-child)::after {content: \"\\00b7\"; padding: 0 .5ex}\n",
       "</style>\n",
       "<ol class=list-inline><li>'CMV'</li><li>'EBV'</li><li>'HCV'</li><li>'Influenza'</li><li>'HomoSapiens'</li><li>'HPV'</li><li>'MCPyV'</li></ol>\n"
      ],
      "text/latex": [
       "\\begin{enumerate*}\n",
       "\\item 'CMV'\n",
       "\\item 'EBV'\n",
       "\\item 'HCV'\n",
       "\\item 'Influenza'\n",
       "\\item 'HomoSapiens'\n",
       "\\item 'HPV'\n",
       "\\item 'MCPyV'\n",
       "\\end{enumerate*}\n"
      ],
      "text/markdown": [
       "1. 'CMV'\n",
       "2. 'EBV'\n",
       "3. 'HCV'\n",
       "4. 'Influenza'\n",
       "5. 'HomoSapiens'\n",
       "6. 'HPV'\n",
       "7. 'MCPyV'\n",
       "\n",
       "\n"
      ],
      "text/plain": [
       "[1] \"CMV\"         \"EBV\"         \"HCV\"         \"Influenza\"   \"HomoSapiens\"\n",
       "[6] \"HPV\"         \"MCPyV\"      "
      ]
     },
     "metadata": {},
     "output_type": "display_data"
    }
   ],
   "source": [
    "myantigens"
   ]
  },
  {
   "cell_type": "code",
   "execution_count": 12,
   "metadata": {
    "vscode": {
     "languageId": "r"
    }
   },
   "outputs": [],
   "source": [
    "meta_div <- readr::read_rds(paste0(datapath, \"capTCRseq/meta_div_goodsamples.rds\"))\n",
    "load(file = paste0(datapath, \"Adaptivedatasets/allAdaptive.RData\"))"
   ]
  },
  {
   "cell_type": "code",
   "execution_count": 13,
   "metadata": {
    "vscode": {
     "languageId": "r"
    }
   },
   "outputs": [
    {
     "data": {
      "text/html": [
       "<style>\n",
       ".list-inline {list-style: none; margin:0; padding: 0}\n",
       ".list-inline>li {display: inline-block}\n",
       ".list-inline>li:not(:last-child)::after {content: \"\\00b7\"; padding: 0 .5ex}\n",
       "</style>\n",
       "<ol class=list-inline><li>'CMV'</li><li>'EBV'</li><li>'HCV'</li><li>'Influenza'</li><li>'HomoSapiens'</li><li>'MDavis'</li><li>'HPV'</li><li>'CEF'</li><li>'TB'</li><li>'MCPyV'</li><li>'SP'</li><li>'HTLV1'</li><li>'DENV'</li><li>'n_cdr3'</li><li>'cdr3_reads'</li><li>'n_gliph'</li><li>'n_cdr3ingliph'</li><li>'cdr3reads_ingliph'</li><li>'cancergroup'</li><li>'cycle'</li><li>'sampletype'</li><li>'cyclenum'</li><li>'Patient'</li><li>'Age'</li></ol>\n"
      ],
      "text/latex": [
       "\\begin{enumerate*}\n",
       "\\item 'CMV'\n",
       "\\item 'EBV'\n",
       "\\item 'HCV'\n",
       "\\item 'Influenza'\n",
       "\\item 'HomoSapiens'\n",
       "\\item 'MDavis'\n",
       "\\item 'HPV'\n",
       "\\item 'CEF'\n",
       "\\item 'TB'\n",
       "\\item 'MCPyV'\n",
       "\\item 'SP'\n",
       "\\item 'HTLV1'\n",
       "\\item 'DENV'\n",
       "\\item 'n\\_cdr3'\n",
       "\\item 'cdr3\\_reads'\n",
       "\\item 'n\\_gliph'\n",
       "\\item 'n\\_cdr3ingliph'\n",
       "\\item 'cdr3reads\\_ingliph'\n",
       "\\item 'cancergroup'\n",
       "\\item 'cycle'\n",
       "\\item 'sampletype'\n",
       "\\item 'cyclenum'\n",
       "\\item 'Patient'\n",
       "\\item 'Age'\n",
       "\\end{enumerate*}\n"
      ],
      "text/markdown": [
       "1. 'CMV'\n",
       "2. 'EBV'\n",
       "3. 'HCV'\n",
       "4. 'Influenza'\n",
       "5. 'HomoSapiens'\n",
       "6. 'MDavis'\n",
       "7. 'HPV'\n",
       "8. 'CEF'\n",
       "9. 'TB'\n",
       "10. 'MCPyV'\n",
       "11. 'SP'\n",
       "12. 'HTLV1'\n",
       "13. 'DENV'\n",
       "14. 'n_cdr3'\n",
       "15. 'cdr3_reads'\n",
       "16. 'n_gliph'\n",
       "17. 'n_cdr3ingliph'\n",
       "18. 'cdr3reads_ingliph'\n",
       "19. 'cancergroup'\n",
       "20. 'cycle'\n",
       "21. 'sampletype'\n",
       "22. 'cyclenum'\n",
       "23. 'Patient'\n",
       "24. 'Age'\n",
       "\n",
       "\n"
      ],
      "text/plain": [
       " [1] \"CMV\"               \"EBV\"               \"HCV\"              \n",
       " [4] \"Influenza\"         \"HomoSapiens\"       \"MDavis\"           \n",
       " [7] \"HPV\"               \"CEF\"               \"TB\"               \n",
       "[10] \"MCPyV\"             \"SP\"                \"HTLV1\"            \n",
       "[13] \"DENV\"              \"n_cdr3\"            \"cdr3_reads\"       \n",
       "[16] \"n_gliph\"           \"n_cdr3ingliph\"     \"cdr3reads_ingliph\"\n",
       "[19] \"cancergroup\"       \"cycle\"             \"sampletype\"       \n",
       "[22] \"cyclenum\"          \"Patient\"           \"Age\"              "
      ]
     },
     "metadata": {},
     "output_type": "display_data"
    }
   ],
   "source": [
    "colnames(int_samples_tcr_freq_pbmc01)"
   ]
  },
  {
   "cell_type": "code",
   "execution_count": 14,
   "metadata": {
    "vscode": {
     "languageId": "r"
    }
   },
   "outputs": [],
   "source": [
    "int_samples_tcr_freq_pbmc01$Relapse <- meta_div$Relapse[ match(int_samples_tcr_freq_pbmc01$Patient, meta_div$Patient)]"
   ]
  },
  {
   "cell_type": "code",
   "execution_count": 15,
   "metadata": {
    "vscode": {
     "languageId": "r"
    }
   },
   "outputs": [
    {
     "data": {
      "text/html": [
       "<table class=\"dataframe\">\n",
       "<caption>A data.frame: 6 x 25</caption>\n",
       "<thead>\n",
       "\t<tr><th></th><th scope=col>CMV</th><th scope=col>EBV</th><th scope=col>HCV</th><th scope=col>Influenza</th><th scope=col>HomoSapiens</th><th scope=col>MDavis</th><th scope=col>HPV</th><th scope=col>CEF</th><th scope=col>TB</th><th scope=col>MCPyV</th><th scope=col>...</th><th scope=col>n_gliph</th><th scope=col>n_cdr3ingliph</th><th scope=col>cdr3reads_ingliph</th><th scope=col>cancergroup</th><th scope=col>cycle</th><th scope=col>sampletype</th><th scope=col>cyclenum</th><th scope=col>Patient</th><th scope=col>Age</th><th scope=col>Relapse</th></tr>\n",
       "\t<tr><th></th><th scope=col>&lt;dbl&gt;</th><th scope=col>&lt;dbl&gt;</th><th scope=col>&lt;dbl&gt;</th><th scope=col>&lt;dbl&gt;</th><th scope=col>&lt;dbl&gt;</th><th scope=col>&lt;dbl&gt;</th><th scope=col>&lt;dbl&gt;</th><th scope=col>&lt;dbl&gt;</th><th scope=col>&lt;dbl&gt;</th><th scope=col>&lt;dbl&gt;</th><th scope=col>...</th><th scope=col>&lt;dbl&gt;</th><th scope=col>&lt;int&gt;</th><th scope=col>&lt;dbl&gt;</th><th scope=col>&lt;chr&gt;</th><th scope=col>&lt;chr&gt;</th><th scope=col>&lt;chr&gt;</th><th scope=col>&lt;dbl&gt;</th><th scope=col>&lt;chr&gt;</th><th scope=col>&lt;dbl&gt;</th><th scope=col>&lt;int&gt;</th></tr>\n",
       "</thead>\n",
       "<tbody>\n",
       "\t<tr><th scope=row>Leukemia:CHP_347_X01-PBMC</th><td> 0</td><td>0</td><td>46</td><td>74</td><td>63</td><td>2824</td><td> 0</td><td>0</td><td>0</td><td>0</td><td>...</td><td>135</td><td>63</td><td>5256</td><td>Leukemia</td><td>X01</td><td>PBMC</td><td>1</td><td>CHP_347</td><td>13</td><td>0</td></tr>\n",
       "\t<tr><th scope=row>Leukemia:CHP_349_X01-PBMC</th><td> 0</td><td>0</td><td> 0</td><td> 0</td><td> 0</td><td> 603</td><td> 0</td><td>0</td><td>0</td><td>0</td><td>...</td><td> 11</td><td> 5</td><td> 841</td><td>Leukemia</td><td>X01</td><td>PBMC</td><td>1</td><td>CHP_349</td><td>17</td><td>1</td></tr>\n",
       "\t<tr><th scope=row>Leukemia:CHP_352_X01-PBMC</th><td> 0</td><td>0</td><td> 0</td><td> 0</td><td> 0</td><td>  72</td><td> 0</td><td>0</td><td>0</td><td>0</td><td>...</td><td>  5</td><td> 2</td><td> 101</td><td>Leukemia</td><td>X01</td><td>PBMC</td><td>1</td><td>CHP_352</td><td>17</td><td>0</td></tr>\n",
       "\t<tr><th scope=row>Leukemia:CHP_353_X01-PBMC</th><td>18</td><td>0</td><td>13</td><td> 0</td><td>16</td><td> 866</td><td>21</td><td>0</td><td>0</td><td>3</td><td>...</td><td>163</td><td>82</td><td>1502</td><td>Leukemia</td><td>X01</td><td>PBMC</td><td>1</td><td>CHP_353</td><td> 6</td><td>1</td></tr>\n",
       "\t<tr><th scope=row>Leukemia:CHP_354_X01-PBMC</th><td> 0</td><td>0</td><td> 0</td><td> 0</td><td> 0</td><td>  17</td><td>17</td><td>0</td><td>0</td><td>0</td><td>...</td><td>  5</td><td> 1</td><td>  85</td><td>Leukemia</td><td>X01</td><td>PBMC</td><td>1</td><td>CHP_354</td><td> 9</td><td>0</td></tr>\n",
       "\t<tr><th scope=row>Leukemia:CHP_355_X01-PBMC</th><td> 0</td><td>0</td><td> 0</td><td> 0</td><td>31</td><td>  35</td><td> 0</td><td>0</td><td>0</td><td>0</td><td>...</td><td>  8</td><td> 4</td><td> 157</td><td>Leukemia</td><td>X01</td><td>PBMC</td><td>1</td><td>CHP_355</td><td> 3</td><td>0</td></tr>\n",
       "</tbody>\n",
       "</table>\n"
      ],
      "text/latex": [
       "A data.frame: 6 x 25\n",
       "\\begin{tabular}{r|lllllllllllllllllllll}\n",
       "  & CMV & EBV & HCV & Influenza & HomoSapiens & MDavis & HPV & CEF & TB & MCPyV & ... & n\\_gliph & n\\_cdr3ingliph & cdr3reads\\_ingliph & cancergroup & cycle & sampletype & cyclenum & Patient & Age & Relapse\\\\\n",
       "  & <dbl> & <dbl> & <dbl> & <dbl> & <dbl> & <dbl> & <dbl> & <dbl> & <dbl> & <dbl> & ... & <dbl> & <int> & <dbl> & <chr> & <chr> & <chr> & <dbl> & <chr> & <dbl> & <int>\\\\\n",
       "\\hline\n",
       "\tLeukemia:CHP\\_347\\_X01-PBMC &  0 & 0 & 46 & 74 & 63 & 2824 &  0 & 0 & 0 & 0 & ... & 135 & 63 & 5256 & Leukemia & X01 & PBMC & 1 & CHP\\_347 & 13 & 0\\\\\n",
       "\tLeukemia:CHP\\_349\\_X01-PBMC &  0 & 0 &  0 &  0 &  0 &  603 &  0 & 0 & 0 & 0 & ... &  11 &  5 &  841 & Leukemia & X01 & PBMC & 1 & CHP\\_349 & 17 & 1\\\\\n",
       "\tLeukemia:CHP\\_352\\_X01-PBMC &  0 & 0 &  0 &  0 &  0 &   72 &  0 & 0 & 0 & 0 & ... &   5 &  2 &  101 & Leukemia & X01 & PBMC & 1 & CHP\\_352 & 17 & 0\\\\\n",
       "\tLeukemia:CHP\\_353\\_X01-PBMC & 18 & 0 & 13 &  0 & 16 &  866 & 21 & 0 & 0 & 3 & ... & 163 & 82 & 1502 & Leukemia & X01 & PBMC & 1 & CHP\\_353 &  6 & 1\\\\\n",
       "\tLeukemia:CHP\\_354\\_X01-PBMC &  0 & 0 &  0 &  0 &  0 &   17 & 17 & 0 & 0 & 0 & ... &   5 &  1 &   85 & Leukemia & X01 & PBMC & 1 & CHP\\_354 &  9 & 0\\\\\n",
       "\tLeukemia:CHP\\_355\\_X01-PBMC &  0 & 0 &  0 &  0 & 31 &   35 &  0 & 0 & 0 & 0 & ... &   8 &  4 &  157 & Leukemia & X01 & PBMC & 1 & CHP\\_355 &  3 & 0\\\\\n",
       "\\end{tabular}\n"
      ],
      "text/markdown": [
       "\n",
       "A data.frame: 6 x 25\n",
       "\n",
       "| <!--/--> | CMV &lt;dbl&gt; | EBV &lt;dbl&gt; | HCV &lt;dbl&gt; | Influenza &lt;dbl&gt; | HomoSapiens &lt;dbl&gt; | MDavis &lt;dbl&gt; | HPV &lt;dbl&gt; | CEF &lt;dbl&gt; | TB &lt;dbl&gt; | MCPyV &lt;dbl&gt; | ... ... | n_gliph &lt;dbl&gt; | n_cdr3ingliph &lt;int&gt; | cdr3reads_ingliph &lt;dbl&gt; | cancergroup &lt;chr&gt; | cycle &lt;chr&gt; | sampletype &lt;chr&gt; | cyclenum &lt;dbl&gt; | Patient &lt;chr&gt; | Age &lt;dbl&gt; | Relapse &lt;int&gt; |\n",
       "|---|---|---|---|---|---|---|---|---|---|---|---|---|---|---|---|---|---|---|---|---|---|\n",
       "| Leukemia:CHP_347_X01-PBMC |  0 | 0 | 46 | 74 | 63 | 2824 |  0 | 0 | 0 | 0 | ... | 135 | 63 | 5256 | Leukemia | X01 | PBMC | 1 | CHP_347 | 13 | 0 |\n",
       "| Leukemia:CHP_349_X01-PBMC |  0 | 0 |  0 |  0 |  0 |  603 |  0 | 0 | 0 | 0 | ... |  11 |  5 |  841 | Leukemia | X01 | PBMC | 1 | CHP_349 | 17 | 1 |\n",
       "| Leukemia:CHP_352_X01-PBMC |  0 | 0 |  0 |  0 |  0 |   72 |  0 | 0 | 0 | 0 | ... |   5 |  2 |  101 | Leukemia | X01 | PBMC | 1 | CHP_352 | 17 | 0 |\n",
       "| Leukemia:CHP_353_X01-PBMC | 18 | 0 | 13 |  0 | 16 |  866 | 21 | 0 | 0 | 3 | ... | 163 | 82 | 1502 | Leukemia | X01 | PBMC | 1 | CHP_353 |  6 | 1 |\n",
       "| Leukemia:CHP_354_X01-PBMC |  0 | 0 |  0 |  0 |  0 |   17 | 17 | 0 | 0 | 0 | ... |   5 |  1 |   85 | Leukemia | X01 | PBMC | 1 | CHP_354 |  9 | 0 |\n",
       "| Leukemia:CHP_355_X01-PBMC |  0 | 0 |  0 |  0 | 31 |   35 |  0 | 0 | 0 | 0 | ... |   8 |  4 |  157 | Leukemia | X01 | PBMC | 1 | CHP_355 |  3 | 0 |\n",
       "\n"
      ],
      "text/plain": [
       "                          CMV EBV HCV Influenza HomoSapiens MDavis HPV CEF TB\n",
       "Leukemia:CHP_347_X01-PBMC  0  0   46  74        63          2824    0  0   0 \n",
       "Leukemia:CHP_349_X01-PBMC  0  0    0   0         0           603    0  0   0 \n",
       "Leukemia:CHP_352_X01-PBMC  0  0    0   0         0            72    0  0   0 \n",
       "Leukemia:CHP_353_X01-PBMC 18  0   13   0        16           866   21  0   0 \n",
       "Leukemia:CHP_354_X01-PBMC  0  0    0   0         0            17   17  0   0 \n",
       "Leukemia:CHP_355_X01-PBMC  0  0    0   0        31            35    0  0   0 \n",
       "                          MCPyV ... n_gliph n_cdr3ingliph cdr3reads_ingliph\n",
       "Leukemia:CHP_347_X01-PBMC 0     ... 135     63            5256             \n",
       "Leukemia:CHP_349_X01-PBMC 0     ...  11      5             841             \n",
       "Leukemia:CHP_352_X01-PBMC 0     ...   5      2             101             \n",
       "Leukemia:CHP_353_X01-PBMC 3     ... 163     82            1502             \n",
       "Leukemia:CHP_354_X01-PBMC 0     ...   5      1              85             \n",
       "Leukemia:CHP_355_X01-PBMC 0     ...   8      4             157             \n",
       "                          cancergroup cycle sampletype cyclenum Patient Age\n",
       "Leukemia:CHP_347_X01-PBMC Leukemia    X01   PBMC       1        CHP_347 13 \n",
       "Leukemia:CHP_349_X01-PBMC Leukemia    X01   PBMC       1        CHP_349 17 \n",
       "Leukemia:CHP_352_X01-PBMC Leukemia    X01   PBMC       1        CHP_352 17 \n",
       "Leukemia:CHP_353_X01-PBMC Leukemia    X01   PBMC       1        CHP_353  6 \n",
       "Leukemia:CHP_354_X01-PBMC Leukemia    X01   PBMC       1        CHP_354  9 \n",
       "Leukemia:CHP_355_X01-PBMC Leukemia    X01   PBMC       1        CHP_355  3 \n",
       "                          Relapse\n",
       "Leukemia:CHP_347_X01-PBMC 0      \n",
       "Leukemia:CHP_349_X01-PBMC 1      \n",
       "Leukemia:CHP_352_X01-PBMC 0      \n",
       "Leukemia:CHP_353_X01-PBMC 1      \n",
       "Leukemia:CHP_354_X01-PBMC 0      \n",
       "Leukemia:CHP_355_X01-PBMC 0      "
      ]
     },
     "metadata": {},
     "output_type": "display_data"
    }
   ],
   "source": [
    "head(int_samples_tcr_freq_pbmc01)"
   ]
  },
  {
   "cell_type": "code",
   "execution_count": 16,
   "metadata": {
    "vscode": {
     "languageId": "r"
    }
   },
   "outputs": [],
   "source": [
    "for (i in 1:length(myantigens)) {\n",
    "    myvar <- paste0(myantigens[i], \"_frac\")\n",
    "    int_samples_tcr_freq_pbmc01[[myvar]] <- NA\n",
    "    int_samples_tcr_freq_pbmc01[[myvar]] <- int_samples_tcr_freq_pbmc01[,myantigens[i]] / int_samples_tcr_freq_pbmc01$cdr3_reads\n",
    "}"
   ]
  },
  {
   "cell_type": "code",
   "execution_count": 17,
   "metadata": {
    "vscode": {
     "languageId": "r"
    }
   },
   "outputs": [],
   "source": [
    "int_samples_tcr_freq_pbmc01$study <- int_samples_tcr_freq_pbmc01$cancergroup"
   ]
  },
  {
   "cell_type": "code",
   "execution_count": 18,
   "metadata": {
    "vscode": {
     "languageId": "r"
    }
   },
   "outputs": [
    {
     "data": {
      "text/html": [
       "<style>\n",
       ".list-inline {list-style: none; margin:0; padding: 0}\n",
       ".list-inline>li {display: inline-block}\n",
       ".list-inline>li:not(:last-child)::after {content: \"\\00b7\"; padding: 0 .5ex}\n",
       "</style>\n",
       "<ol class=list-inline><li>'CMV'</li><li>'EBV'</li><li>'HCV'</li><li>'Influenza'</li><li>'HomoSapiens'</li><li>'MDavis'</li><li>'HPV'</li><li>'CEF'</li><li>'TB'</li><li>'MCPyV'</li><li>'SP'</li><li>'HTLV1'</li><li>'DENV'</li><li>'n_cdr3'</li><li>'cdr3_reads'</li><li>'n_gliph'</li><li>'n_cdr3ingliph'</li><li>'cdr3reads_ingliph'</li><li>'cancergroup'</li><li>'cycle'</li><li>'sampletype'</li><li>'cyclenum'</li><li>'Patient'</li><li>'Age'</li><li>'Relapse'</li><li>'CMV_frac'</li><li>'EBV_frac'</li><li>'HCV_frac'</li><li>'Influenza_frac'</li><li>'HomoSapiens_frac'</li><li>'HPV_frac'</li><li>'MCPyV_frac'</li><li>'study'</li></ol>\n"
      ],
      "text/latex": [
       "\\begin{enumerate*}\n",
       "\\item 'CMV'\n",
       "\\item 'EBV'\n",
       "\\item 'HCV'\n",
       "\\item 'Influenza'\n",
       "\\item 'HomoSapiens'\n",
       "\\item 'MDavis'\n",
       "\\item 'HPV'\n",
       "\\item 'CEF'\n",
       "\\item 'TB'\n",
       "\\item 'MCPyV'\n",
       "\\item 'SP'\n",
       "\\item 'HTLV1'\n",
       "\\item 'DENV'\n",
       "\\item 'n\\_cdr3'\n",
       "\\item 'cdr3\\_reads'\n",
       "\\item 'n\\_gliph'\n",
       "\\item 'n\\_cdr3ingliph'\n",
       "\\item 'cdr3reads\\_ingliph'\n",
       "\\item 'cancergroup'\n",
       "\\item 'cycle'\n",
       "\\item 'sampletype'\n",
       "\\item 'cyclenum'\n",
       "\\item 'Patient'\n",
       "\\item 'Age'\n",
       "\\item 'Relapse'\n",
       "\\item 'CMV\\_frac'\n",
       "\\item 'EBV\\_frac'\n",
       "\\item 'HCV\\_frac'\n",
       "\\item 'Influenza\\_frac'\n",
       "\\item 'HomoSapiens\\_frac'\n",
       "\\item 'HPV\\_frac'\n",
       "\\item 'MCPyV\\_frac'\n",
       "\\item 'study'\n",
       "\\end{enumerate*}\n"
      ],
      "text/markdown": [
       "1. 'CMV'\n",
       "2. 'EBV'\n",
       "3. 'HCV'\n",
       "4. 'Influenza'\n",
       "5. 'HomoSapiens'\n",
       "6. 'MDavis'\n",
       "7. 'HPV'\n",
       "8. 'CEF'\n",
       "9. 'TB'\n",
       "10. 'MCPyV'\n",
       "11. 'SP'\n",
       "12. 'HTLV1'\n",
       "13. 'DENV'\n",
       "14. 'n_cdr3'\n",
       "15. 'cdr3_reads'\n",
       "16. 'n_gliph'\n",
       "17. 'n_cdr3ingliph'\n",
       "18. 'cdr3reads_ingliph'\n",
       "19. 'cancergroup'\n",
       "20. 'cycle'\n",
       "21. 'sampletype'\n",
       "22. 'cyclenum'\n",
       "23. 'Patient'\n",
       "24. 'Age'\n",
       "25. 'Relapse'\n",
       "26. 'CMV_frac'\n",
       "27. 'EBV_frac'\n",
       "28. 'HCV_frac'\n",
       "29. 'Influenza_frac'\n",
       "30. 'HomoSapiens_frac'\n",
       "31. 'HPV_frac'\n",
       "32. 'MCPyV_frac'\n",
       "33. 'study'\n",
       "\n",
       "\n"
      ],
      "text/plain": [
       " [1] \"CMV\"               \"EBV\"               \"HCV\"              \n",
       " [4] \"Influenza\"         \"HomoSapiens\"       \"MDavis\"           \n",
       " [7] \"HPV\"               \"CEF\"               \"TB\"               \n",
       "[10] \"MCPyV\"             \"SP\"                \"HTLV1\"            \n",
       "[13] \"DENV\"              \"n_cdr3\"            \"cdr3_reads\"       \n",
       "[16] \"n_gliph\"           \"n_cdr3ingliph\"     \"cdr3reads_ingliph\"\n",
       "[19] \"cancergroup\"       \"cycle\"             \"sampletype\"       \n",
       "[22] \"cyclenum\"          \"Patient\"           \"Age\"              \n",
       "[25] \"Relapse\"           \"CMV_frac\"          \"EBV_frac\"         \n",
       "[28] \"HCV_frac\"          \"Influenza_frac\"    \"HomoSapiens_frac\" \n",
       "[31] \"HPV_frac\"          \"MCPyV_frac\"        \"study\"            "
      ]
     },
     "metadata": {},
     "output_type": "display_data"
    }
   ],
   "source": [
    "colnames(int_samples_tcr_freq_pbmc01)"
   ]
  },
  {
   "cell_type": "code",
   "execution_count": 19,
   "metadata": {
    "vscode": {
     "languageId": "r"
    }
   },
   "outputs": [],
   "source": [
    "# lrmodel <- glm(Relapse ~ Influenza_frac*cancergroup, data = int_samples_tcr_freq_pbmc01, family = \"binomial\")\n",
    "\n",
    "# summary(lrmodel)"
   ]
  },
  {
   "cell_type": "code",
   "execution_count": null,
   "metadata": {
    "vscode": {
     "languageId": "r"
    }
   },
   "outputs": [],
   "source": []
  },
  {
   "cell_type": "code",
   "execution_count": 20,
   "metadata": {
    "vscode": {
     "languageId": "r"
    }
   },
   "outputs": [],
   "source": [
    "for (i in 1:length(myantigens)) {\n",
    "    myvar <- paste0(myantigens[i], \"_frac\")\n",
    "    child_samples_tcr_freq[[myvar]] <- NA\n",
    "    child_samples_tcr_freq[[myvar]] <- child_samples_tcr_freq[,myantigens[i]] / child_samples_tcr_freq$cdr3_reads\n",
    "}"
   ]
  },
  {
   "cell_type": "code",
   "execution_count": 21,
   "metadata": {
    "vscode": {
     "languageId": "r"
    }
   },
   "outputs": [],
   "source": [
    "for (i in 1:length(myantigens)) {\n",
    "    myvar <- paste0(myantigens[i], \"_frac\")\n",
    "    adult_samples_tcr_freq[[myvar]] <- NA\n",
    "    adult_samples_tcr_freq[[myvar]] <- adult_samples_tcr_freq[,myantigens[i]] / adult_samples_tcr_freq$cdr3_reads\n",
    "}"
   ]
  },
  {
   "cell_type": "code",
   "execution_count": 24,
   "metadata": {
    "vscode": {
     "languageId": "r"
    }
   },
   "outputs": [
    {
     "data": {
      "text/html": [
       "<table class=\"dataframe\">\n",
       "<caption>A data.frame: 6 x 25</caption>\n",
       "<thead>\n",
       "\t<tr><th></th><th scope=col>CMV</th><th scope=col>EBV</th><th scope=col>HCV</th><th scope=col>Influenza</th><th scope=col>HomoSapiens</th><th scope=col>MDavis</th><th scope=col>HPV</th><th scope=col>CEF</th><th scope=col>TB</th><th scope=col>MCPyV</th><th scope=col>...</th><th scope=col>n_cdr3ingliph</th><th scope=col>cdr3reads_ingliph</th><th scope=col>study</th><th scope=col>CMV_frac</th><th scope=col>EBV_frac</th><th scope=col>HCV_frac</th><th scope=col>Influenza_frac</th><th scope=col>HomoSapiens_frac</th><th scope=col>HPV_frac</th><th scope=col>MCPyV_frac</th></tr>\n",
       "\t<tr><th></th><th scope=col>&lt;dbl&gt;</th><th scope=col>&lt;dbl&gt;</th><th scope=col>&lt;dbl&gt;</th><th scope=col>&lt;dbl&gt;</th><th scope=col>&lt;dbl&gt;</th><th scope=col>&lt;dbl&gt;</th><th scope=col>&lt;dbl&gt;</th><th scope=col>&lt;dbl&gt;</th><th scope=col>&lt;dbl&gt;</th><th scope=col>&lt;dbl&gt;</th><th scope=col>...</th><th scope=col>&lt;int&gt;</th><th scope=col>&lt;dbl&gt;</th><th scope=col>&lt;chr&gt;</th><th scope=col>&lt;dbl&gt;</th><th scope=col>&lt;dbl&gt;</th><th scope=col>&lt;dbl&gt;</th><th scope=col>&lt;dbl&gt;</th><th scope=col>&lt;dbl&gt;</th><th scope=col>&lt;dbl&gt;</th><th scope=col>&lt;dbl&gt;</th></tr>\n",
       "</thead>\n",
       "<tbody>\n",
       "\t<tr><th scope=row>Emerson:P00001</th><td>227</td><td>364</td><td>427</td><td>  0</td><td> 327</td><td>12546</td><td>465</td><td>0</td><td>0</td><td>100</td><td>...</td><td>150</td><td>33353</td><td>Emerson_adult</td><td>0.007468579</td><td>0.011976048</td><td>0.014048825</td><td>0.000000000</td><td>0.010758702</td><td>0.015299072</td><td>0.003290123</td></tr>\n",
       "\t<tr><th scope=row>Emerson:P00002</th><td> 46</td><td> 18</td><td> 25</td><td>  0</td><td>  19</td><td>  894</td><td>  0</td><td>0</td><td>0</td><td>  0</td><td>...</td><td> 36</td><td> 1637</td><td>Emerson_adult</td><td>0.023711340</td><td>0.009278351</td><td>0.012886598</td><td>0.000000000</td><td>0.009793814</td><td>0.000000000</td><td>0.000000000</td></tr>\n",
       "\t<tr><th scope=row>Emerson:P00004</th><td>432</td><td>274</td><td>249</td><td>465</td><td>1146</td><td>39163</td><td> 70</td><td>0</td><td>0</td><td>226</td><td>...</td><td>215</td><td>63165</td><td>Emerson_adult</td><td>0.008864448</td><td>0.005622358</td><td>0.005109369</td><td>0.009541593</td><td>0.023515410</td><td>0.001436369</td><td>0.004637419</td></tr>\n",
       "\t<tr><th scope=row>Emerson:P00005</th><td>102</td><td>  0</td><td> 23</td><td>  0</td><td>  21</td><td> 3000</td><td>  0</td><td>0</td><td>0</td><td> 67</td><td>...</td><td> 97</td><td> 6399</td><td>Emerson_adult</td><td>0.011867365</td><td>0.000000000</td><td>0.002675974</td><td>0.000000000</td><td>0.002443281</td><td>0.000000000</td><td>0.007795230</td></tr>\n",
       "\t<tr><th scope=row>Emerson:P00006</th><td>  0</td><td>  0</td><td>  0</td><td>  0</td><td>   0</td><td>    0</td><td>  0</td><td>0</td><td>0</td><td>  0</td><td>...</td><td>  1</td><td>   68</td><td>Emerson_adult</td><td>0.000000000</td><td>0.000000000</td><td>0.000000000</td><td>0.000000000</td><td>0.000000000</td><td>0.000000000</td><td>0.000000000</td></tr>\n",
       "\t<tr><th scope=row>Emerson:P00008</th><td> 37</td><td> 82</td><td>127</td><td>  0</td><td> 277</td><td> 2974</td><td>  0</td><td>0</td><td>0</td><td>  0</td><td>...</td><td>117</td><td> 5759</td><td>Emerson_adult</td><td>0.006465141</td><td>0.014328150</td><td>0.022191158</td><td>0.000000000</td><td>0.048401188</td><td>0.000000000</td><td>0.000000000</td></tr>\n",
       "</tbody>\n",
       "</table>\n"
      ],
      "text/latex": [
       "A data.frame: 6 x 25\n",
       "\\begin{tabular}{r|lllllllllllllllllllll}\n",
       "  & CMV & EBV & HCV & Influenza & HomoSapiens & MDavis & HPV & CEF & TB & MCPyV & ... & n\\_cdr3ingliph & cdr3reads\\_ingliph & study & CMV\\_frac & EBV\\_frac & HCV\\_frac & Influenza\\_frac & HomoSapiens\\_frac & HPV\\_frac & MCPyV\\_frac\\\\\n",
       "  & <dbl> & <dbl> & <dbl> & <dbl> & <dbl> & <dbl> & <dbl> & <dbl> & <dbl> & <dbl> & ... & <int> & <dbl> & <chr> & <dbl> & <dbl> & <dbl> & <dbl> & <dbl> & <dbl> & <dbl>\\\\\n",
       "\\hline\n",
       "\tEmerson:P00001 & 227 & 364 & 427 &   0 &  327 & 12546 & 465 & 0 & 0 & 100 & ... & 150 & 33353 & Emerson\\_adult & 0.007468579 & 0.011976048 & 0.014048825 & 0.000000000 & 0.010758702 & 0.015299072 & 0.003290123\\\\\n",
       "\tEmerson:P00002 &  46 &  18 &  25 &   0 &   19 &   894 &   0 & 0 & 0 &   0 & ... &  36 &  1637 & Emerson\\_adult & 0.023711340 & 0.009278351 & 0.012886598 & 0.000000000 & 0.009793814 & 0.000000000 & 0.000000000\\\\\n",
       "\tEmerson:P00004 & 432 & 274 & 249 & 465 & 1146 & 39163 &  70 & 0 & 0 & 226 & ... & 215 & 63165 & Emerson\\_adult & 0.008864448 & 0.005622358 & 0.005109369 & 0.009541593 & 0.023515410 & 0.001436369 & 0.004637419\\\\\n",
       "\tEmerson:P00005 & 102 &   0 &  23 &   0 &   21 &  3000 &   0 & 0 & 0 &  67 & ... &  97 &  6399 & Emerson\\_adult & 0.011867365 & 0.000000000 & 0.002675974 & 0.000000000 & 0.002443281 & 0.000000000 & 0.007795230\\\\\n",
       "\tEmerson:P00006 &   0 &   0 &   0 &   0 &    0 &     0 &   0 & 0 & 0 &   0 & ... &   1 &    68 & Emerson\\_adult & 0.000000000 & 0.000000000 & 0.000000000 & 0.000000000 & 0.000000000 & 0.000000000 & 0.000000000\\\\\n",
       "\tEmerson:P00008 &  37 &  82 & 127 &   0 &  277 &  2974 &   0 & 0 & 0 &   0 & ... & 117 &  5759 & Emerson\\_adult & 0.006465141 & 0.014328150 & 0.022191158 & 0.000000000 & 0.048401188 & 0.000000000 & 0.000000000\\\\\n",
       "\\end{tabular}\n"
      ],
      "text/markdown": [
       "\n",
       "A data.frame: 6 x 25\n",
       "\n",
       "| <!--/--> | CMV &lt;dbl&gt; | EBV &lt;dbl&gt; | HCV &lt;dbl&gt; | Influenza &lt;dbl&gt; | HomoSapiens &lt;dbl&gt; | MDavis &lt;dbl&gt; | HPV &lt;dbl&gt; | CEF &lt;dbl&gt; | TB &lt;dbl&gt; | MCPyV &lt;dbl&gt; | ... ... | n_cdr3ingliph &lt;int&gt; | cdr3reads_ingliph &lt;dbl&gt; | study &lt;chr&gt; | CMV_frac &lt;dbl&gt; | EBV_frac &lt;dbl&gt; | HCV_frac &lt;dbl&gt; | Influenza_frac &lt;dbl&gt; | HomoSapiens_frac &lt;dbl&gt; | HPV_frac &lt;dbl&gt; | MCPyV_frac &lt;dbl&gt; |\n",
       "|---|---|---|---|---|---|---|---|---|---|---|---|---|---|---|---|---|---|---|---|---|---|\n",
       "| Emerson:P00001 | 227 | 364 | 427 |   0 |  327 | 12546 | 465 | 0 | 0 | 100 | ... | 150 | 33353 | Emerson_adult | 0.007468579 | 0.011976048 | 0.014048825 | 0.000000000 | 0.010758702 | 0.015299072 | 0.003290123 |\n",
       "| Emerson:P00002 |  46 |  18 |  25 |   0 |   19 |   894 |   0 | 0 | 0 |   0 | ... |  36 |  1637 | Emerson_adult | 0.023711340 | 0.009278351 | 0.012886598 | 0.000000000 | 0.009793814 | 0.000000000 | 0.000000000 |\n",
       "| Emerson:P00004 | 432 | 274 | 249 | 465 | 1146 | 39163 |  70 | 0 | 0 | 226 | ... | 215 | 63165 | Emerson_adult | 0.008864448 | 0.005622358 | 0.005109369 | 0.009541593 | 0.023515410 | 0.001436369 | 0.004637419 |\n",
       "| Emerson:P00005 | 102 |   0 |  23 |   0 |   21 |  3000 |   0 | 0 | 0 |  67 | ... |  97 |  6399 | Emerson_adult | 0.011867365 | 0.000000000 | 0.002675974 | 0.000000000 | 0.002443281 | 0.000000000 | 0.007795230 |\n",
       "| Emerson:P00006 |   0 |   0 |   0 |   0 |    0 |     0 |   0 | 0 | 0 |   0 | ... |   1 |    68 | Emerson_adult | 0.000000000 | 0.000000000 | 0.000000000 | 0.000000000 | 0.000000000 | 0.000000000 | 0.000000000 |\n",
       "| Emerson:P00008 |  37 |  82 | 127 |   0 |  277 |  2974 |   0 | 0 | 0 |   0 | ... | 117 |  5759 | Emerson_adult | 0.006465141 | 0.014328150 | 0.022191158 | 0.000000000 | 0.048401188 | 0.000000000 | 0.000000000 |\n",
       "\n"
      ],
      "text/plain": [
       "               CMV EBV HCV Influenza HomoSapiens MDavis HPV CEF TB MCPyV ...\n",
       "Emerson:P00001 227 364 427   0        327        12546  465 0   0  100   ...\n",
       "Emerson:P00002  46  18  25   0         19          894    0 0   0    0   ...\n",
       "Emerson:P00004 432 274 249 465       1146        39163   70 0   0  226   ...\n",
       "Emerson:P00005 102   0  23   0         21         3000    0 0   0   67   ...\n",
       "Emerson:P00006   0   0   0   0          0            0    0 0   0    0   ...\n",
       "Emerson:P00008  37  82 127   0        277         2974    0 0   0    0   ...\n",
       "               n_cdr3ingliph cdr3reads_ingliph study         CMV_frac   \n",
       "Emerson:P00001 150           33353             Emerson_adult 0.007468579\n",
       "Emerson:P00002  36            1637             Emerson_adult 0.023711340\n",
       "Emerson:P00004 215           63165             Emerson_adult 0.008864448\n",
       "Emerson:P00005  97            6399             Emerson_adult 0.011867365\n",
       "Emerson:P00006   1              68             Emerson_adult 0.000000000\n",
       "Emerson:P00008 117            5759             Emerson_adult 0.006465141\n",
       "               EBV_frac    HCV_frac    Influenza_frac HomoSapiens_frac\n",
       "Emerson:P00001 0.011976048 0.014048825 0.000000000    0.010758702     \n",
       "Emerson:P00002 0.009278351 0.012886598 0.000000000    0.009793814     \n",
       "Emerson:P00004 0.005622358 0.005109369 0.009541593    0.023515410     \n",
       "Emerson:P00005 0.000000000 0.002675974 0.000000000    0.002443281     \n",
       "Emerson:P00006 0.000000000 0.000000000 0.000000000    0.000000000     \n",
       "Emerson:P00008 0.014328150 0.022191158 0.000000000    0.048401188     \n",
       "               HPV_frac    MCPyV_frac \n",
       "Emerson:P00001 0.015299072 0.003290123\n",
       "Emerson:P00002 0.000000000 0.000000000\n",
       "Emerson:P00004 0.001436369 0.004637419\n",
       "Emerson:P00005 0.000000000 0.007795230\n",
       "Emerson:P00006 0.000000000 0.000000000\n",
       "Emerson:P00008 0.000000000 0.000000000"
      ]
     },
     "metadata": {},
     "output_type": "display_data"
    }
   ],
   "source": [
    "head(adult_samples_tcr_freq)"
   ]
  },
  {
   "cell_type": "code",
   "execution_count": 28,
   "metadata": {
    "vscode": {
     "languageId": "r"
    }
   },
   "outputs": [],
   "source": [
    "adult_samples_tcr_freq$Patient <- gsub(\".*:\", \"\", rownames(adult_samples_tcr_freq))\n",
    "child_samples_tcr_freq$Patient <- gsub(\".*:\", \"\", rownames(child_samples_tcr_freq))"
   ]
  },
  {
   "cell_type": "code",
   "execution_count": 33,
   "metadata": {
    "vscode": {
     "languageId": "r"
    }
   },
   "outputs": [],
   "source": [
    "adult_samples_tcr_freq$Age <- allAdaptive$age[match(adult_samples_tcr_freq$Patient, allAdaptive$sample_name)]\n",
    "child_samples_tcr_freq$Age <- allAdaptive$age[match(child_samples_tcr_freq$Patient, allAdaptive$sample_name)]"
   ]
  },
  {
   "cell_type": "code",
   "execution_count": 34,
   "metadata": {
    "vscode": {
     "languageId": "r"
    }
   },
   "outputs": [
    {
     "data": {
      "text/html": [
       "<style>\n",
       ".list-inline {list-style: none; margin:0; padding: 0}\n",
       ".list-inline>li {display: inline-block}\n",
       ".list-inline>li:not(:last-child)::after {content: \"\\00b7\"; padding: 0 .5ex}\n",
       "</style>\n",
       "<ol class=list-inline><li>55</li><li>41</li><li>45</li><li>27</li><li>37</li><li>32</li></ol>\n"
      ],
      "text/latex": [
       "\\begin{enumerate*}\n",
       "\\item 55\n",
       "\\item 41\n",
       "\\item 45\n",
       "\\item 27\n",
       "\\item 37\n",
       "\\item 32\n",
       "\\end{enumerate*}\n"
      ],
      "text/markdown": [
       "1. 55\n",
       "2. 41\n",
       "3. 45\n",
       "4. 27\n",
       "5. 37\n",
       "6. 32\n",
       "\n",
       "\n"
      ],
      "text/plain": [
       "[1] 55 41 45 27 37 32"
      ]
     },
     "metadata": {},
     "output_type": "display_data"
    }
   ],
   "source": [
    "head(adult_samples_tcr_freq$Age )"
   ]
  },
  {
   "cell_type": "code",
   "execution_count": 31,
   "metadata": {
    "vscode": {
     "languageId": "r"
    }
   },
   "outputs": [
    {
     "data": {
      "text/html": [
       "<table class=\"dataframe\">\n",
       "<caption>A data.frame: 1 x 7</caption>\n",
       "<thead>\n",
       "\t<tr><th></th><th scope=col>sample_name</th><th scope=col>study</th><th scope=col>Agegroup</th><th scope=col>Sex</th><th scope=col>disease</th><th scope=col>subject</th><th scope=col>age</th></tr>\n",
       "\t<tr><th></th><th scope=col>&lt;chr&gt;</th><th scope=col>&lt;chr&gt;</th><th scope=col>&lt;chr&gt;</th><th scope=col>&lt;chr&gt;</th><th scope=col>&lt;chr&gt;</th><th scope=col>&lt;chr&gt;</th><th scope=col>&lt;dbl&gt;</th></tr>\n",
       "</thead>\n",
       "<tbody>\n",
       "\t<tr><th scope=row>770</th><td>P00001</td><td>Emerson</td><td>Adult</td><td>Male</td><td>Cytomegalovirus -</td><td>P00001</td><td>55</td></tr>\n",
       "</tbody>\n",
       "</table>\n"
      ],
      "text/latex": [
       "A data.frame: 1 x 7\n",
       "\\begin{tabular}{r|lllllll}\n",
       "  & sample\\_name & study & Agegroup & Sex & disease & subject & age\\\\\n",
       "  & <chr> & <chr> & <chr> & <chr> & <chr> & <chr> & <dbl>\\\\\n",
       "\\hline\n",
       "\t770 & P00001 & Emerson & Adult & Male & Cytomegalovirus - & P00001 & 55\\\\\n",
       "\\end{tabular}\n"
      ],
      "text/markdown": [
       "\n",
       "A data.frame: 1 x 7\n",
       "\n",
       "| <!--/--> | sample_name &lt;chr&gt; | study &lt;chr&gt; | Agegroup &lt;chr&gt; | Sex &lt;chr&gt; | disease &lt;chr&gt; | subject &lt;chr&gt; | age &lt;dbl&gt; |\n",
       "|---|---|---|---|---|---|---|---|\n",
       "| 770 | P00001 | Emerson | Adult | Male | Cytomegalovirus - | P00001 | 55 |\n",
       "\n"
      ],
      "text/plain": [
       "    sample_name study   Agegroup Sex  disease           subject age\n",
       "770 P00001      Emerson Adult    Male Cytomegalovirus - P00001  55 "
      ]
     },
     "metadata": {},
     "output_type": "display_data"
    }
   ],
   "source": [
    "allAdaptive[ allAdaptive$sample_name == \"P00001\",]"
   ]
  },
  {
   "cell_type": "code",
   "execution_count": 35,
   "metadata": {
    "vscode": {
     "languageId": "r"
    }
   },
   "outputs": [],
   "source": [
    "# subset and rbind\n",
    "mycols <- c(paste0(myantigens, \"_frac\"), \"study\", \"Age\")\n",
    "\n",
    "samples_tcr_freq_all <- rbind(adult_samples_tcr_freq[,mycols], child_samples_tcr_freq[,mycols], int_samples_tcr_freq_pbmc01[,mycols])"
   ]
  },
  {
   "cell_type": "code",
   "execution_count": 36,
   "metadata": {
    "vscode": {
     "languageId": "r"
    }
   },
   "outputs": [
    {
     "data": {
      "text/html": [
       "<table class=\"dataframe\">\n",
       "<caption>A data.frame: 6 x 9</caption>\n",
       "<thead>\n",
       "\t<tr><th></th><th scope=col>CMV_frac</th><th scope=col>EBV_frac</th><th scope=col>HCV_frac</th><th scope=col>Influenza_frac</th><th scope=col>HomoSapiens_frac</th><th scope=col>HPV_frac</th><th scope=col>MCPyV_frac</th><th scope=col>study</th><th scope=col>Age</th></tr>\n",
       "\t<tr><th></th><th scope=col>&lt;dbl&gt;</th><th scope=col>&lt;dbl&gt;</th><th scope=col>&lt;dbl&gt;</th><th scope=col>&lt;dbl&gt;</th><th scope=col>&lt;dbl&gt;</th><th scope=col>&lt;dbl&gt;</th><th scope=col>&lt;dbl&gt;</th><th scope=col>&lt;chr&gt;</th><th scope=col>&lt;dbl&gt;</th></tr>\n",
       "</thead>\n",
       "<tbody>\n",
       "\t<tr><th scope=row>Emerson:P00001</th><td>0.007468579</td><td>0.011976048</td><td>0.014048825</td><td>0.000000000</td><td>0.010758702</td><td>0.015299072</td><td>0.003290123</td><td>Emerson_adult</td><td>55</td></tr>\n",
       "\t<tr><th scope=row>Emerson:P00002</th><td>0.023711340</td><td>0.009278351</td><td>0.012886598</td><td>0.000000000</td><td>0.009793814</td><td>0.000000000</td><td>0.000000000</td><td>Emerson_adult</td><td>41</td></tr>\n",
       "\t<tr><th scope=row>Emerson:P00004</th><td>0.008864448</td><td>0.005622358</td><td>0.005109369</td><td>0.009541593</td><td>0.023515410</td><td>0.001436369</td><td>0.004637419</td><td>Emerson_adult</td><td>45</td></tr>\n",
       "\t<tr><th scope=row>Emerson:P00005</th><td>0.011867365</td><td>0.000000000</td><td>0.002675974</td><td>0.000000000</td><td>0.002443281</td><td>0.000000000</td><td>0.007795230</td><td>Emerson_adult</td><td>27</td></tr>\n",
       "\t<tr><th scope=row>Emerson:P00006</th><td>0.000000000</td><td>0.000000000</td><td>0.000000000</td><td>0.000000000</td><td>0.000000000</td><td>0.000000000</td><td>0.000000000</td><td>Emerson_adult</td><td>37</td></tr>\n",
       "\t<tr><th scope=row>Emerson:P00008</th><td>0.006465141</td><td>0.014328150</td><td>0.022191158</td><td>0.000000000</td><td>0.048401188</td><td>0.000000000</td><td>0.000000000</td><td>Emerson_adult</td><td>32</td></tr>\n",
       "</tbody>\n",
       "</table>\n"
      ],
      "text/latex": [
       "A data.frame: 6 x 9\n",
       "\\begin{tabular}{r|lllllllll}\n",
       "  & CMV\\_frac & EBV\\_frac & HCV\\_frac & Influenza\\_frac & HomoSapiens\\_frac & HPV\\_frac & MCPyV\\_frac & study & Age\\\\\n",
       "  & <dbl> & <dbl> & <dbl> & <dbl> & <dbl> & <dbl> & <dbl> & <chr> & <dbl>\\\\\n",
       "\\hline\n",
       "\tEmerson:P00001 & 0.007468579 & 0.011976048 & 0.014048825 & 0.000000000 & 0.010758702 & 0.015299072 & 0.003290123 & Emerson\\_adult & 55\\\\\n",
       "\tEmerson:P00002 & 0.023711340 & 0.009278351 & 0.012886598 & 0.000000000 & 0.009793814 & 0.000000000 & 0.000000000 & Emerson\\_adult & 41\\\\\n",
       "\tEmerson:P00004 & 0.008864448 & 0.005622358 & 0.005109369 & 0.009541593 & 0.023515410 & 0.001436369 & 0.004637419 & Emerson\\_adult & 45\\\\\n",
       "\tEmerson:P00005 & 0.011867365 & 0.000000000 & 0.002675974 & 0.000000000 & 0.002443281 & 0.000000000 & 0.007795230 & Emerson\\_adult & 27\\\\\n",
       "\tEmerson:P00006 & 0.000000000 & 0.000000000 & 0.000000000 & 0.000000000 & 0.000000000 & 0.000000000 & 0.000000000 & Emerson\\_adult & 37\\\\\n",
       "\tEmerson:P00008 & 0.006465141 & 0.014328150 & 0.022191158 & 0.000000000 & 0.048401188 & 0.000000000 & 0.000000000 & Emerson\\_adult & 32\\\\\n",
       "\\end{tabular}\n"
      ],
      "text/markdown": [
       "\n",
       "A data.frame: 6 x 9\n",
       "\n",
       "| <!--/--> | CMV_frac &lt;dbl&gt; | EBV_frac &lt;dbl&gt; | HCV_frac &lt;dbl&gt; | Influenza_frac &lt;dbl&gt; | HomoSapiens_frac &lt;dbl&gt; | HPV_frac &lt;dbl&gt; | MCPyV_frac &lt;dbl&gt; | study &lt;chr&gt; | Age &lt;dbl&gt; |\n",
       "|---|---|---|---|---|---|---|---|---|---|\n",
       "| Emerson:P00001 | 0.007468579 | 0.011976048 | 0.014048825 | 0.000000000 | 0.010758702 | 0.015299072 | 0.003290123 | Emerson_adult | 55 |\n",
       "| Emerson:P00002 | 0.023711340 | 0.009278351 | 0.012886598 | 0.000000000 | 0.009793814 | 0.000000000 | 0.000000000 | Emerson_adult | 41 |\n",
       "| Emerson:P00004 | 0.008864448 | 0.005622358 | 0.005109369 | 0.009541593 | 0.023515410 | 0.001436369 | 0.004637419 | Emerson_adult | 45 |\n",
       "| Emerson:P00005 | 0.011867365 | 0.000000000 | 0.002675974 | 0.000000000 | 0.002443281 | 0.000000000 | 0.007795230 | Emerson_adult | 27 |\n",
       "| Emerson:P00006 | 0.000000000 | 0.000000000 | 0.000000000 | 0.000000000 | 0.000000000 | 0.000000000 | 0.000000000 | Emerson_adult | 37 |\n",
       "| Emerson:P00008 | 0.006465141 | 0.014328150 | 0.022191158 | 0.000000000 | 0.048401188 | 0.000000000 | 0.000000000 | Emerson_adult | 32 |\n",
       "\n"
      ],
      "text/plain": [
       "               CMV_frac    EBV_frac    HCV_frac    Influenza_frac\n",
       "Emerson:P00001 0.007468579 0.011976048 0.014048825 0.000000000   \n",
       "Emerson:P00002 0.023711340 0.009278351 0.012886598 0.000000000   \n",
       "Emerson:P00004 0.008864448 0.005622358 0.005109369 0.009541593   \n",
       "Emerson:P00005 0.011867365 0.000000000 0.002675974 0.000000000   \n",
       "Emerson:P00006 0.000000000 0.000000000 0.000000000 0.000000000   \n",
       "Emerson:P00008 0.006465141 0.014328150 0.022191158 0.000000000   \n",
       "               HomoSapiens_frac HPV_frac    MCPyV_frac  study         Age\n",
       "Emerson:P00001 0.010758702      0.015299072 0.003290123 Emerson_adult 55 \n",
       "Emerson:P00002 0.009793814      0.000000000 0.000000000 Emerson_adult 41 \n",
       "Emerson:P00004 0.023515410      0.001436369 0.004637419 Emerson_adult 45 \n",
       "Emerson:P00005 0.002443281      0.000000000 0.007795230 Emerson_adult 27 \n",
       "Emerson:P00006 0.000000000      0.000000000 0.000000000 Emerson_adult 37 \n",
       "Emerson:P00008 0.048401188      0.000000000 0.000000000 Emerson_adult 32 "
      ]
     },
     "metadata": {},
     "output_type": "display_data"
    }
   ],
   "source": [
    "head(samples_tcr_freq_all)"
   ]
  },
  {
   "cell_type": "code",
   "execution_count": 37,
   "metadata": {
    "vscode": {
     "languageId": "r"
    }
   },
   "outputs": [
    {
     "data": {
      "text/plain": [
       "\n",
       "     Emerson_adult      Emerson_child           Leukemia           Lymphoma \n",
       "               253                 21                 22                  5 \n",
       "       Solidtumors T-cellmalignancies \n",
       "                13                  2 "
      ]
     },
     "metadata": {},
     "output_type": "display_data"
    }
   ],
   "source": [
    "table(samples_tcr_freq_all$study)"
   ]
  },
  {
   "cell_type": "code",
   "execution_count": 38,
   "metadata": {
    "vscode": {
     "languageId": "r"
    }
   },
   "outputs": [
    {
     "data": {
      "text/html": [
       "<table class=\"dataframe\">\n",
       "<caption>A data.frame: 6 x 9</caption>\n",
       "<thead>\n",
       "\t<tr><th></th><th scope=col>CMV_frac</th><th scope=col>EBV_frac</th><th scope=col>HCV_frac</th><th scope=col>Influenza_frac</th><th scope=col>HomoSapiens_frac</th><th scope=col>HPV_frac</th><th scope=col>MCPyV_frac</th><th scope=col>study</th><th scope=col>Age</th></tr>\n",
       "\t<tr><th></th><th scope=col>&lt;dbl&gt;</th><th scope=col>&lt;dbl&gt;</th><th scope=col>&lt;dbl&gt;</th><th scope=col>&lt;dbl&gt;</th><th scope=col>&lt;dbl&gt;</th><th scope=col>&lt;dbl&gt;</th><th scope=col>&lt;dbl&gt;</th><th scope=col>&lt;chr&gt;</th><th scope=col>&lt;dbl&gt;</th></tr>\n",
       "</thead>\n",
       "<tbody>\n",
       "\t<tr><th scope=row>Emerson:P00001</th><td>0.007468579</td><td>0.011976048</td><td>0.014048825</td><td>0.000000000</td><td>0.010758702</td><td>0.015299072</td><td>0.003290123</td><td>Emerson_adult</td><td>55</td></tr>\n",
       "\t<tr><th scope=row>Emerson:P00002</th><td>0.023711340</td><td>0.009278351</td><td>0.012886598</td><td>0.000000000</td><td>0.009793814</td><td>0.000000000</td><td>0.000000000</td><td>Emerson_adult</td><td>41</td></tr>\n",
       "\t<tr><th scope=row>Emerson:P00004</th><td>0.008864448</td><td>0.005622358</td><td>0.005109369</td><td>0.009541593</td><td>0.023515410</td><td>0.001436369</td><td>0.004637419</td><td>Emerson_adult</td><td>45</td></tr>\n",
       "\t<tr><th scope=row>Emerson:P00005</th><td>0.011867365</td><td>0.000000000</td><td>0.002675974</td><td>0.000000000</td><td>0.002443281</td><td>0.000000000</td><td>0.007795230</td><td>Emerson_adult</td><td>27</td></tr>\n",
       "\t<tr><th scope=row>Emerson:P00006</th><td>0.000000000</td><td>0.000000000</td><td>0.000000000</td><td>0.000000000</td><td>0.000000000</td><td>0.000000000</td><td>0.000000000</td><td>Emerson_adult</td><td>37</td></tr>\n",
       "\t<tr><th scope=row>Emerson:P00008</th><td>0.006465141</td><td>0.014328150</td><td>0.022191158</td><td>0.000000000</td><td>0.048401188</td><td>0.000000000</td><td>0.000000000</td><td>Emerson_adult</td><td>32</td></tr>\n",
       "</tbody>\n",
       "</table>\n"
      ],
      "text/latex": [
       "A data.frame: 6 x 9\n",
       "\\begin{tabular}{r|lllllllll}\n",
       "  & CMV\\_frac & EBV\\_frac & HCV\\_frac & Influenza\\_frac & HomoSapiens\\_frac & HPV\\_frac & MCPyV\\_frac & study & Age\\\\\n",
       "  & <dbl> & <dbl> & <dbl> & <dbl> & <dbl> & <dbl> & <dbl> & <chr> & <dbl>\\\\\n",
       "\\hline\n",
       "\tEmerson:P00001 & 0.007468579 & 0.011976048 & 0.014048825 & 0.000000000 & 0.010758702 & 0.015299072 & 0.003290123 & Emerson\\_adult & 55\\\\\n",
       "\tEmerson:P00002 & 0.023711340 & 0.009278351 & 0.012886598 & 0.000000000 & 0.009793814 & 0.000000000 & 0.000000000 & Emerson\\_adult & 41\\\\\n",
       "\tEmerson:P00004 & 0.008864448 & 0.005622358 & 0.005109369 & 0.009541593 & 0.023515410 & 0.001436369 & 0.004637419 & Emerson\\_adult & 45\\\\\n",
       "\tEmerson:P00005 & 0.011867365 & 0.000000000 & 0.002675974 & 0.000000000 & 0.002443281 & 0.000000000 & 0.007795230 & Emerson\\_adult & 27\\\\\n",
       "\tEmerson:P00006 & 0.000000000 & 0.000000000 & 0.000000000 & 0.000000000 & 0.000000000 & 0.000000000 & 0.000000000 & Emerson\\_adult & 37\\\\\n",
       "\tEmerson:P00008 & 0.006465141 & 0.014328150 & 0.022191158 & 0.000000000 & 0.048401188 & 0.000000000 & 0.000000000 & Emerson\\_adult & 32\\\\\n",
       "\\end{tabular}\n"
      ],
      "text/markdown": [
       "\n",
       "A data.frame: 6 x 9\n",
       "\n",
       "| <!--/--> | CMV_frac &lt;dbl&gt; | EBV_frac &lt;dbl&gt; | HCV_frac &lt;dbl&gt; | Influenza_frac &lt;dbl&gt; | HomoSapiens_frac &lt;dbl&gt; | HPV_frac &lt;dbl&gt; | MCPyV_frac &lt;dbl&gt; | study &lt;chr&gt; | Age &lt;dbl&gt; |\n",
       "|---|---|---|---|---|---|---|---|---|---|\n",
       "| Emerson:P00001 | 0.007468579 | 0.011976048 | 0.014048825 | 0.000000000 | 0.010758702 | 0.015299072 | 0.003290123 | Emerson_adult | 55 |\n",
       "| Emerson:P00002 | 0.023711340 | 0.009278351 | 0.012886598 | 0.000000000 | 0.009793814 | 0.000000000 | 0.000000000 | Emerson_adult | 41 |\n",
       "| Emerson:P00004 | 0.008864448 | 0.005622358 | 0.005109369 | 0.009541593 | 0.023515410 | 0.001436369 | 0.004637419 | Emerson_adult | 45 |\n",
       "| Emerson:P00005 | 0.011867365 | 0.000000000 | 0.002675974 | 0.000000000 | 0.002443281 | 0.000000000 | 0.007795230 | Emerson_adult | 27 |\n",
       "| Emerson:P00006 | 0.000000000 | 0.000000000 | 0.000000000 | 0.000000000 | 0.000000000 | 0.000000000 | 0.000000000 | Emerson_adult | 37 |\n",
       "| Emerson:P00008 | 0.006465141 | 0.014328150 | 0.022191158 | 0.000000000 | 0.048401188 | 0.000000000 | 0.000000000 | Emerson_adult | 32 |\n",
       "\n"
      ],
      "text/plain": [
       "               CMV_frac    EBV_frac    HCV_frac    Influenza_frac\n",
       "Emerson:P00001 0.007468579 0.011976048 0.014048825 0.000000000   \n",
       "Emerson:P00002 0.023711340 0.009278351 0.012886598 0.000000000   \n",
       "Emerson:P00004 0.008864448 0.005622358 0.005109369 0.009541593   \n",
       "Emerson:P00005 0.011867365 0.000000000 0.002675974 0.000000000   \n",
       "Emerson:P00006 0.000000000 0.000000000 0.000000000 0.000000000   \n",
       "Emerson:P00008 0.006465141 0.014328150 0.022191158 0.000000000   \n",
       "               HomoSapiens_frac HPV_frac    MCPyV_frac  study         Age\n",
       "Emerson:P00001 0.010758702      0.015299072 0.003290123 Emerson_adult 55 \n",
       "Emerson:P00002 0.009793814      0.000000000 0.000000000 Emerson_adult 41 \n",
       "Emerson:P00004 0.023515410      0.001436369 0.004637419 Emerson_adult 45 \n",
       "Emerson:P00005 0.002443281      0.000000000 0.007795230 Emerson_adult 27 \n",
       "Emerson:P00006 0.000000000      0.000000000 0.000000000 Emerson_adult 37 \n",
       "Emerson:P00008 0.048401188      0.000000000 0.000000000 Emerson_adult 32 "
      ]
     },
     "metadata": {},
     "output_type": "display_data"
    }
   ],
   "source": [
    "head(samples_tcr_freq_all)"
   ]
  },
  {
   "cell_type": "code",
   "execution_count": 39,
   "metadata": {
    "vscode": {
     "languageId": "r"
    }
   },
   "outputs": [],
   "source": [
    "samples_tcr_freq_all <- samples_tcr_freq_all[ \n",
    "    samples_tcr_freq_all$study != \"T-cellmalignancies\",]"
   ]
  },
  {
   "cell_type": "code",
   "execution_count": 40,
   "metadata": {
    "vscode": {
     "languageId": "r"
    }
   },
   "outputs": [
    {
     "data": {
      "text/plain": [
       "\n",
       "Emerson_adult Emerson_child      Leukemia      Lymphoma   Solidtumors \n",
       "          253            21            22             5            13 "
      ]
     },
     "metadata": {},
     "output_type": "display_data"
    }
   ],
   "source": [
    "table(samples_tcr_freq_all$study)"
   ]
  },
  {
   "cell_type": "code",
   "execution_count": 131,
   "metadata": {
    "vscode": {
     "languageId": "r"
    }
   },
   "outputs": [
    {
     "data": {
      "text/plain": [
       "$Healthy\n",
       "    Min.  1st Qu.   Median     Mean  3rd Qu.     Max. \n",
       "0.000000 0.000000 0.000000 0.002270 0.002628 0.044944 \n",
       "\n",
       "$Leukemia\n",
       "    Min.  1st Qu.   Median     Mean  3rd Qu.     Max. \n",
       "0.000000 0.000000 0.000000 0.007095 0.005176 0.094444 \n",
       "\n",
       "$Lymphoma\n",
       "     Min.   1st Qu.    Median      Mean   3rd Qu.      Max. \n",
       "0.0000000 0.0000000 0.0000000 0.0001285 0.0000000 0.0006426 \n",
       "\n",
       "$Solidtumors\n",
       "    Min.  1st Qu.   Median     Mean  3rd Qu.     Max. \n",
       "0.000000 0.000000 0.000000 0.016251 0.001214 0.201817 \n"
      ]
     },
     "metadata": {},
     "output_type": "display_data"
    }
   ],
   "source": [
    "tapply(samples_tcr_freq_all$HPV_frac, samples_tcr_freq_all$study, summary)"
   ]
  },
  {
   "cell_type": "code",
   "execution_count": 130,
   "metadata": {
    "vscode": {
     "languageId": "r"
    }
   },
   "outputs": [
    {
     "data": {
      "text/html": [
       "0.01"
      ],
      "text/latex": [
       "0.01"
      ],
      "text/markdown": [
       "0.01"
      ],
      "text/plain": [
       "[1] 0.01"
      ]
     },
     "metadata": {},
     "output_type": "display_data"
    }
   ],
   "source": [
    "round(0.0098621, 3)"
   ]
  },
  {
   "cell_type": "code",
   "execution_count": 42,
   "metadata": {
    "vscode": {
     "languageId": "r"
    }
   },
   "outputs": [],
   "source": [
    "# samples_tcr_freq_all$grp <- NA\n",
    "# samples_tcr_freq_all$grp[ samples_tcr_freq_all$study == \"Emerson_child\"] <- \"Healthy\"\n",
    "# samples_tcr_freq_all$grp[ samples_tcr_freq_all$study == \"Emerson_adult\"] <- \"Healthy\"\n",
    "# samples_tcr_freq_all$grp[is.na(samples_tcr_freq_all$grp)] <- \"Cancer\""
   ]
  },
  {
   "cell_type": "code",
   "execution_count": 46,
   "metadata": {
    "vscode": {
     "languageId": "r"
    }
   },
   "outputs": [
    {
     "data": {
      "text/plain": [
       "   Min. 1st Qu.  Median    Mean 3rd Qu.    Max. \n",
       "   0.10   24.00   36.00   33.89   46.00   63.00 "
      ]
     },
     "metadata": {},
     "output_type": "display_data"
    }
   ],
   "source": [
    "summary(samples_tcr_freq_all$Age)"
   ]
  },
  {
   "cell_type": "code",
   "execution_count": 56,
   "metadata": {
    "vscode": {
     "languageId": "r"
    }
   },
   "outputs": [],
   "source": [
    "samples_tcr_freq_all$study[ grepl(\"Emerson\", samples_tcr_freq_all$study)] <- \"Healthy\""
   ]
  },
  {
   "cell_type": "code",
   "execution_count": 64,
   "metadata": {
    "vscode": {
     "languageId": "r"
    }
   },
   "outputs": [],
   "source": [
    "# tapply(samples_tcr_freq_all$Age, samples_tcr_freq_all$study, summary)"
   ]
  },
  {
   "cell_type": "code",
   "execution_count": 61,
   "metadata": {
    "vscode": {
     "languageId": "r"
    }
   },
   "outputs": [
    {
     "data": {
      "text/plain": [
       "\n",
       "Call:\n",
       "aov(formula = HPV_frac ~ study * Age, data = samples_tcr_freq_all)\n",
       "\n",
       "Residuals:\n",
       "      Min        1Q    Median        3Q       Max \n",
       "-0.032932 -0.002397 -0.002112  0.000480  0.168884 \n",
       "\n",
       "Coefficients:\n",
       "                       Estimate Std. Error t value Pr(>|t|)    \n",
       "(Intercept)           1.622e-03  2.421e-03   0.670    0.503    \n",
       "studyLeukemia         5.796e-03  4.605e-03   1.259    0.209    \n",
       "studyLymphoma        -1.989e-03  5.526e-02  -0.036    0.971    \n",
       "studySolidtumors      3.359e-02  6.022e-03   5.578 5.35e-08 ***\n",
       "Age                   1.722e-05  6.098e-05   0.282    0.778    \n",
       "studyLeukemia:Age    -6.549e-05  4.257e-04  -0.154    0.878    \n",
       "studyLymphoma:Age     1.721e-05  3.814e-03   0.005    0.996    \n",
       "studySolidtumors:Age -2.300e-03  5.126e-04  -4.487 1.02e-05 ***\n",
       "---\n",
       "Signif. codes:  0 '***' 0.001 '**' 0.01 '*' 0.05 '.' 0.1 ' ' 1\n",
       "\n",
       "Residual standard error: 0.01276 on 306 degrees of freedom\n",
       "Multiple R-squared:  0.1094,\tAdjusted R-squared:  0.08905 \n",
       "F-statistic: 5.371 on 7 and 306 DF,  p-value: 8.092e-06\n"
      ]
     },
     "metadata": {},
     "output_type": "display_data"
    }
   ],
   "source": [
    "myfit <- aov(HPV_frac ~ study*Age, samples_tcr_freq_all)\n",
    "summary.lm(myfit)"
   ]
  },
  {
   "cell_type": "code",
   "execution_count": null,
   "metadata": {
    "vscode": {
     "languageId": "r"
    }
   },
   "outputs": [],
   "source": []
  },
  {
   "cell_type": "code",
   "execution_count": 62,
   "metadata": {
    "vscode": {
     "languageId": "r"
    }
   },
   "outputs": [],
   "source": [
    "# for (i in myantigens) {\n",
    "#     mycol <- paste0(i, \"_frac\")\n",
    "#     print(mycol)\n",
    "#     print(pairwise.t.test(samples_tcr_freq_all[[mycol]], samples_tcr_freq_all$study,\n",
    "#         p.adjust.method = \"bonferroni\", pool.sd = FALSE\n",
    "#     ))\n",
    "# }"
   ]
  },
  {
   "cell_type": "code",
   "execution_count": 65,
   "metadata": {
    "vscode": {
     "languageId": "r"
    }
   },
   "outputs": [
    {
     "data": {
      "text/html": [
       "<table class=\"dataframe\">\n",
       "<caption>A data.frame: 6 x 10</caption>\n",
       "<thead>\n",
       "\t<tr><th></th><th scope=col>CMV_frac</th><th scope=col>EBV_frac</th><th scope=col>HCV_frac</th><th scope=col>Influenza_frac</th><th scope=col>HomoSapiens_frac</th><th scope=col>HPV_frac</th><th scope=col>MCPyV_frac</th><th scope=col>study</th><th scope=col>Age</th><th scope=col>grp</th></tr>\n",
       "\t<tr><th></th><th scope=col>&lt;dbl&gt;</th><th scope=col>&lt;dbl&gt;</th><th scope=col>&lt;dbl&gt;</th><th scope=col>&lt;dbl&gt;</th><th scope=col>&lt;dbl&gt;</th><th scope=col>&lt;dbl&gt;</th><th scope=col>&lt;dbl&gt;</th><th scope=col>&lt;chr&gt;</th><th scope=col>&lt;dbl&gt;</th><th scope=col>&lt;chr&gt;</th></tr>\n",
       "</thead>\n",
       "<tbody>\n",
       "\t<tr><th scope=row>Emerson:P00001</th><td>0.007468579</td><td>0.011976048</td><td>0.014048825</td><td>0.000000000</td><td>0.010758702</td><td>0.015299072</td><td>0.003290123</td><td>Healthy</td><td>55</td><td>Healthy</td></tr>\n",
       "\t<tr><th scope=row>Emerson:P00002</th><td>0.023711340</td><td>0.009278351</td><td>0.012886598</td><td>0.000000000</td><td>0.009793814</td><td>0.000000000</td><td>0.000000000</td><td>Healthy</td><td>41</td><td>Healthy</td></tr>\n",
       "\t<tr><th scope=row>Emerson:P00004</th><td>0.008864448</td><td>0.005622358</td><td>0.005109369</td><td>0.009541593</td><td>0.023515410</td><td>0.001436369</td><td>0.004637419</td><td>Healthy</td><td>45</td><td>Healthy</td></tr>\n",
       "\t<tr><th scope=row>Emerson:P00005</th><td>0.011867365</td><td>0.000000000</td><td>0.002675974</td><td>0.000000000</td><td>0.002443281</td><td>0.000000000</td><td>0.007795230</td><td>Healthy</td><td>27</td><td>Healthy</td></tr>\n",
       "\t<tr><th scope=row>Emerson:P00006</th><td>0.000000000</td><td>0.000000000</td><td>0.000000000</td><td>0.000000000</td><td>0.000000000</td><td>0.000000000</td><td>0.000000000</td><td>Healthy</td><td>37</td><td>Healthy</td></tr>\n",
       "\t<tr><th scope=row>Emerson:P00008</th><td>0.006465141</td><td>0.014328150</td><td>0.022191158</td><td>0.000000000</td><td>0.048401188</td><td>0.000000000</td><td>0.000000000</td><td>Healthy</td><td>32</td><td>Healthy</td></tr>\n",
       "</tbody>\n",
       "</table>\n"
      ],
      "text/latex": [
       "A data.frame: 6 x 10\n",
       "\\begin{tabular}{r|llllllllll}\n",
       "  & CMV\\_frac & EBV\\_frac & HCV\\_frac & Influenza\\_frac & HomoSapiens\\_frac & HPV\\_frac & MCPyV\\_frac & study & Age & grp\\\\\n",
       "  & <dbl> & <dbl> & <dbl> & <dbl> & <dbl> & <dbl> & <dbl> & <chr> & <dbl> & <chr>\\\\\n",
       "\\hline\n",
       "\tEmerson:P00001 & 0.007468579 & 0.011976048 & 0.014048825 & 0.000000000 & 0.010758702 & 0.015299072 & 0.003290123 & Healthy & 55 & Healthy\\\\\n",
       "\tEmerson:P00002 & 0.023711340 & 0.009278351 & 0.012886598 & 0.000000000 & 0.009793814 & 0.000000000 & 0.000000000 & Healthy & 41 & Healthy\\\\\n",
       "\tEmerson:P00004 & 0.008864448 & 0.005622358 & 0.005109369 & 0.009541593 & 0.023515410 & 0.001436369 & 0.004637419 & Healthy & 45 & Healthy\\\\\n",
       "\tEmerson:P00005 & 0.011867365 & 0.000000000 & 0.002675974 & 0.000000000 & 0.002443281 & 0.000000000 & 0.007795230 & Healthy & 27 & Healthy\\\\\n",
       "\tEmerson:P00006 & 0.000000000 & 0.000000000 & 0.000000000 & 0.000000000 & 0.000000000 & 0.000000000 & 0.000000000 & Healthy & 37 & Healthy\\\\\n",
       "\tEmerson:P00008 & 0.006465141 & 0.014328150 & 0.022191158 & 0.000000000 & 0.048401188 & 0.000000000 & 0.000000000 & Healthy & 32 & Healthy\\\\\n",
       "\\end{tabular}\n"
      ],
      "text/markdown": [
       "\n",
       "A data.frame: 6 x 10\n",
       "\n",
       "| <!--/--> | CMV_frac &lt;dbl&gt; | EBV_frac &lt;dbl&gt; | HCV_frac &lt;dbl&gt; | Influenza_frac &lt;dbl&gt; | HomoSapiens_frac &lt;dbl&gt; | HPV_frac &lt;dbl&gt; | MCPyV_frac &lt;dbl&gt; | study &lt;chr&gt; | Age &lt;dbl&gt; | grp &lt;chr&gt; |\n",
       "|---|---|---|---|---|---|---|---|---|---|---|\n",
       "| Emerson:P00001 | 0.007468579 | 0.011976048 | 0.014048825 | 0.000000000 | 0.010758702 | 0.015299072 | 0.003290123 | Healthy | 55 | Healthy |\n",
       "| Emerson:P00002 | 0.023711340 | 0.009278351 | 0.012886598 | 0.000000000 | 0.009793814 | 0.000000000 | 0.000000000 | Healthy | 41 | Healthy |\n",
       "| Emerson:P00004 | 0.008864448 | 0.005622358 | 0.005109369 | 0.009541593 | 0.023515410 | 0.001436369 | 0.004637419 | Healthy | 45 | Healthy |\n",
       "| Emerson:P00005 | 0.011867365 | 0.000000000 | 0.002675974 | 0.000000000 | 0.002443281 | 0.000000000 | 0.007795230 | Healthy | 27 | Healthy |\n",
       "| Emerson:P00006 | 0.000000000 | 0.000000000 | 0.000000000 | 0.000000000 | 0.000000000 | 0.000000000 | 0.000000000 | Healthy | 37 | Healthy |\n",
       "| Emerson:P00008 | 0.006465141 | 0.014328150 | 0.022191158 | 0.000000000 | 0.048401188 | 0.000000000 | 0.000000000 | Healthy | 32 | Healthy |\n",
       "\n"
      ],
      "text/plain": [
       "               CMV_frac    EBV_frac    HCV_frac    Influenza_frac\n",
       "Emerson:P00001 0.007468579 0.011976048 0.014048825 0.000000000   \n",
       "Emerson:P00002 0.023711340 0.009278351 0.012886598 0.000000000   \n",
       "Emerson:P00004 0.008864448 0.005622358 0.005109369 0.009541593   \n",
       "Emerson:P00005 0.011867365 0.000000000 0.002675974 0.000000000   \n",
       "Emerson:P00006 0.000000000 0.000000000 0.000000000 0.000000000   \n",
       "Emerson:P00008 0.006465141 0.014328150 0.022191158 0.000000000   \n",
       "               HomoSapiens_frac HPV_frac    MCPyV_frac  study   Age grp    \n",
       "Emerson:P00001 0.010758702      0.015299072 0.003290123 Healthy 55  Healthy\n",
       "Emerson:P00002 0.009793814      0.000000000 0.000000000 Healthy 41  Healthy\n",
       "Emerson:P00004 0.023515410      0.001436369 0.004637419 Healthy 45  Healthy\n",
       "Emerson:P00005 0.002443281      0.000000000 0.007795230 Healthy 27  Healthy\n",
       "Emerson:P00006 0.000000000      0.000000000 0.000000000 Healthy 37  Healthy\n",
       "Emerson:P00008 0.048401188      0.000000000 0.000000000 Healthy 32  Healthy"
      ]
     },
     "metadata": {},
     "output_type": "display_data"
    }
   ],
   "source": [
    "head(samples_tcr_freq_all)"
   ]
  },
  {
   "cell_type": "code",
   "execution_count": 66,
   "metadata": {
    "vscode": {
     "languageId": "r"
    }
   },
   "outputs": [],
   "source": [
    "# pivot_longer\n",
    "# exclude MDavis, CEF, HTLV, DENV\n",
    "samples_tcr_freq_all_long <- samples_tcr_freq_all %>%\n",
    "    dplyr::select(\n",
    "        study,\n",
    "        CMV_frac, EBV_frac,\n",
    "        HCV_frac, Influenza_frac, HomoSapiens_frac,\n",
    "        HPV_frac, MCPyV_frac\n",
    "    ) %>%\n",
    "    tidyr::pivot_longer(cols = ends_with(\"_frac\"), names_to = \"antigen\", values_to = \"fraction\")\n"
   ]
  },
  {
   "cell_type": "code",
   "execution_count": 67,
   "metadata": {
    "vscode": {
     "languageId": "r"
    }
   },
   "outputs": [],
   "source": [
    "samples_tcr_freq_all_long <- samples_tcr_freq_all_long[ !is.na(samples_tcr_freq_all_long$fraction),]"
   ]
  },
  {
   "cell_type": "code",
   "execution_count": 68,
   "metadata": {
    "vscode": {
     "languageId": "r"
    }
   },
   "outputs": [],
   "source": [
    "samples_tcr_freq_all_long$antigen <- gsub(\"_frac\", \"\", samples_tcr_freq_all_long$antigen)"
   ]
  },
  {
   "cell_type": "code",
   "execution_count": 69,
   "metadata": {
    "vscode": {
     "languageId": "r"
    }
   },
   "outputs": [],
   "source": [
    "samples_tcr_freq_all_long$antigen <- factor(samples_tcr_freq_all_long$antigen,\n",
    "    levels = c(\"HomoSapiens\", \"CMV\", \"EBV\", \"HCV\", \"HPV\", \"MCPyV\", \"Influenza\")\n",
    ")"
   ]
  },
  {
   "cell_type": "code",
   "execution_count": 70,
   "metadata": {
    "vscode": {
     "languageId": "r"
    }
   },
   "outputs": [
    {
     "data": {
      "text/html": [
       "<style>\n",
       ".list-inline {list-style: none; margin:0; padding: 0}\n",
       ".list-inline>li {display: inline-block}\n",
       ".list-inline>li:not(:last-child)::after {content: \"\\00b7\"; padding: 0 .5ex}\n",
       "</style>\n",
       "<ol class=list-inline><li>0.76303859194636</li><li>0.37719298245614</li><li>0.216867469879518</li><li>0.216867469879518</li><li>0.205599134433324</li><li>0.20181669966228</li></ol>\n"
      ],
      "text/latex": [
       "\\begin{enumerate*}\n",
       "\\item 0.76303859194636\n",
       "\\item 0.37719298245614\n",
       "\\item 0.216867469879518\n",
       "\\item 0.216867469879518\n",
       "\\item 0.205599134433324\n",
       "\\item 0.20181669966228\n",
       "\\end{enumerate*}\n"
      ],
      "text/markdown": [
       "1. 0.76303859194636\n",
       "2. 0.37719298245614\n",
       "3. 0.216867469879518\n",
       "4. 0.216867469879518\n",
       "5. 0.205599134433324\n",
       "6. 0.20181669966228\n",
       "\n",
       "\n"
      ],
      "text/plain": [
       "[1] 0.7630386 0.3771930 0.2168675 0.2168675 0.2055991 0.2018167"
      ]
     },
     "metadata": {},
     "output_type": "display_data"
    }
   ],
   "source": [
    "head(sort(samples_tcr_freq_all_long$fraction, decreasing = T))"
   ]
  },
  {
   "cell_type": "code",
   "execution_count": 71,
   "metadata": {
    "vscode": {
     "languageId": "r"
    }
   },
   "outputs": [
    {
     "data": {
      "text/html": [
       "<style>\n",
       ".list-inline {list-style: none; margin:0; padding: 0}\n",
       ".list-inline>li {display: inline-block}\n",
       ".list-inline>li:not(:last-child)::after {content: \"\\00b7\"; padding: 0 .5ex}\n",
       "</style>\n",
       "<ol class=list-inline><li>2198</li><li>3</li></ol>\n"
      ],
      "text/latex": [
       "\\begin{enumerate*}\n",
       "\\item 2198\n",
       "\\item 3\n",
       "\\end{enumerate*}\n"
      ],
      "text/markdown": [
       "1. 2198\n",
       "2. 3\n",
       "\n",
       "\n"
      ],
      "text/plain": [
       "[1] 2198    3"
      ]
     },
     "metadata": {},
     "output_type": "display_data"
    }
   ],
   "source": [
    "dim(samples_tcr_freq_all_long)"
   ]
  },
  {
   "cell_type": "code",
   "execution_count": 99,
   "metadata": {
    "vscode": {
     "languageId": "r"
    }
   },
   "outputs": [],
   "source": [
    "lmtest_mat <- as.data.frame(matrix(NA, nrow = 0, ncol = 6))\n",
    "colnames(lmtest_mat) <- c(\"antigen\", \"group\", \"coefficient\", \"lower.95\", \"upper.95\", \"p\")"
   ]
  },
  {
   "cell_type": "code",
   "execution_count": 100,
   "metadata": {
    "vscode": {
     "languageId": "r"
    }
   },
   "outputs": [
    {
     "name": "stdout",
     "output_type": "stream",
     "text": [
      "[1] \"CMV_frac\"\n",
      "[1] \"EBV_frac\"\n",
      "[1] \"HCV_frac\"\n",
      "[1] \"Influenza_frac\"\n",
      "[1] \"HomoSapiens_frac\"\n",
      "[1] \"HPV_frac\"\n",
      "[1] \"MCPyV_frac\"\n"
     ]
    }
   ],
   "source": [
    "for (i in myantigens) {\n",
    "    mycol <- paste0(i, \"_frac\")\n",
    "    print(mycol)\n",
    "    myformula <- paste0(mycol, \"~study+Age\")\n",
    "    myfit <- aov(as.formula(myformula), samples_tcr_freq_all)\n",
    "suml <- summary.lm(myfit)\n",
    "mymat <- as.data.frame(matrix(NA, nrow = 3, ncol = 6))\n",
    "colnames(mymat) <- c(\"antigen\", \"group\", \"coefficient\", \"lower.95\", \"upper.95\", \"p\")\n",
    "mymat$antigen <- i\n",
    "mymat$group <- rownames(suml$coefficients)[2:4]\n",
    "mymat$coefficient <- suml$coefficients[2:4,1]\n",
    "mymat$p <- suml$coefficients[2:4,4]\n",
    "\n",
    "myCI <- confint(myfit, level = 0.95)\n",
    "mymat$lower.95 <- myCI[2:4,1]\n",
    "mymat$upper.95 <- myCI[2:4,2]\n",
    "\n",
    "    lmtest_mat <- rbind(lmtest_mat, mymat)\n",
    "}"
   ]
  },
  {
   "cell_type": "code",
   "execution_count": 103,
   "metadata": {
    "vscode": {
     "languageId": "r"
    }
   },
   "outputs": [
    {
     "data": {
      "text/html": [
       "<table class=\"dataframe\">\n",
       "<caption>A data.frame: 21 x 6</caption>\n",
       "<thead>\n",
       "\t<tr><th scope=col>antigen</th><th scope=col>group</th><th scope=col>coefficient</th><th scope=col>lower.95</th><th scope=col>upper.95</th><th scope=col>p</th></tr>\n",
       "\t<tr><th scope=col>&lt;chr&gt;</th><th scope=col>&lt;chr&gt;</th><th scope=col>&lt;dbl&gt;</th><th scope=col>&lt;dbl&gt;</th><th scope=col>&lt;dbl&gt;</th><th scope=col>&lt;dbl&gt;</th></tr>\n",
       "</thead>\n",
       "<tbody>\n",
       "\t<tr><td>CMV        </td><td>studyLeukemia   </td><td>-6.683727e-03</td><td>-0.0193483732</td><td>0.005980919</td><td>0.299880796</td></tr>\n",
       "\t<tr><td>CMV        </td><td>studyLymphoma   </td><td> 1.431904e-02</td><td>-0.0078684261</td><td>0.036506513</td><td>0.205086992</td></tr>\n",
       "\t<tr><td>CMV        </td><td>studySolidtumors</td><td>-3.247035e-03</td><td>-0.0183247375</td><td>0.011830667</td><td>0.672046797</td></tr>\n",
       "\t<tr><td>EBV        </td><td>studyLeukemia   </td><td>-3.761342e-03</td><td>-0.0127420929</td><td>0.005219410</td><td>0.410515538</td></tr>\n",
       "\t<tr><td>EBV        </td><td>studyLymphoma   </td><td> 4.071693e-04</td><td>-0.0153264049</td><td>0.016140743</td><td>0.959421080</td></tr>\n",
       "\t<tr><td>EBV        </td><td>studySolidtumors</td><td> 6.690748e-05</td><td>-0.0106249898</td><td>0.010758805</td><td>0.990183651</td></tr>\n",
       "\t<tr><td>HCV        </td><td>studyLeukemia   </td><td>-1.271254e-03</td><td>-0.0069608982</td><td>0.004418391</td><td>0.660503436</td></tr>\n",
       "\t<tr><td>HCV        </td><td>studyLymphoma   </td><td>-3.907130e-03</td><td>-0.0138749425</td><td>0.006060682</td><td>0.441132013</td></tr>\n",
       "\t<tr><td>HCV        </td><td>studySolidtumors</td><td>-2.326300e-03</td><td>-0.0091000197</td><td>0.004447420</td><td>0.499700009</td></tr>\n",
       "\t<tr><td>Influenza  </td><td>studyLeukemia   </td><td> 1.388891e-03</td><td>-0.0008361383</td><td>0.003613920</td><td>0.220289833</td></tr>\n",
       "\t<tr><td>Influenza  </td><td>studyLymphoma   </td><td> 3.749913e-04</td><td>-0.0035230859</td><td>0.004273069</td><td>0.849991319</td></tr>\n",
       "\t<tr><td>Influenza  </td><td>studySolidtumors</td><td> 8.928169e-04</td><td>-0.0017561579</td><td>0.003541792</td><td>0.507704217</td></tr>\n",
       "\t<tr><td>HomoSapiens</td><td>studyLeukemia   </td><td> 2.290607e-02</td><td>-0.0019583464</td><td>0.047770487</td><td>0.070849185</td></tr>\n",
       "\t<tr><td>HomoSapiens</td><td>studyLymphoma   </td><td>-1.957129e-03</td><td>-0.0455176426</td><td>0.041603385</td><td>0.929611727</td></tr>\n",
       "\t<tr><td>HomoSapiens</td><td>studySolidtumors</td><td> 1.410219e-03</td><td>-0.0281917357</td><td>0.031012173</td><td>0.925377554</td></tr>\n",
       "\t<tr><td>HPV        </td><td>studyLeukemia   </td><td> 4.330228e-03</td><td>-0.0025065590</td><td>0.011167016</td><td>0.213610283</td></tr>\n",
       "\t<tr><td>HPV        </td><td>studyLymphoma   </td><td>-2.512982e-03</td><td>-0.0144904990</td><td>0.009464535</td><td>0.680014799</td></tr>\n",
       "\t<tr><td>HPV        </td><td>studySolidtumors</td><td> 1.351224e-02</td><td> 0.0053728034</td><td>0.021651670</td><td>0.001211215</td></tr>\n",
       "\t<tr><td>MCPyV      </td><td>studyLeukemia   </td><td>-2.890539e-03</td><td>-0.0114464327</td><td>0.005665355</td><td>0.506698817</td></tr>\n",
       "\t<tr><td>MCPyV      </td><td>studyLymphoma   </td><td> 1.562886e-03</td><td>-0.0134263710</td><td>0.016552143</td><td>0.837579649</td></tr>\n",
       "\t<tr><td>MCPyV      </td><td>studySolidtumors</td><td>-4.422377e-03</td><td>-0.0146084663</td><td>0.005763713</td><td>0.393611161</td></tr>\n",
       "</tbody>\n",
       "</table>\n"
      ],
      "text/latex": [
       "A data.frame: 21 x 6\n",
       "\\begin{tabular}{llllll}\n",
       " antigen & group & coefficient & lower.95 & upper.95 & p\\\\\n",
       " <chr> & <chr> & <dbl> & <dbl> & <dbl> & <dbl>\\\\\n",
       "\\hline\n",
       "\t CMV         & studyLeukemia    & -6.683727e-03 & -0.0193483732 & 0.005980919 & 0.299880796\\\\\n",
       "\t CMV         & studyLymphoma    &  1.431904e-02 & -0.0078684261 & 0.036506513 & 0.205086992\\\\\n",
       "\t CMV         & studySolidtumors & -3.247035e-03 & -0.0183247375 & 0.011830667 & 0.672046797\\\\\n",
       "\t EBV         & studyLeukemia    & -3.761342e-03 & -0.0127420929 & 0.005219410 & 0.410515538\\\\\n",
       "\t EBV         & studyLymphoma    &  4.071693e-04 & -0.0153264049 & 0.016140743 & 0.959421080\\\\\n",
       "\t EBV         & studySolidtumors &  6.690748e-05 & -0.0106249898 & 0.010758805 & 0.990183651\\\\\n",
       "\t HCV         & studyLeukemia    & -1.271254e-03 & -0.0069608982 & 0.004418391 & 0.660503436\\\\\n",
       "\t HCV         & studyLymphoma    & -3.907130e-03 & -0.0138749425 & 0.006060682 & 0.441132013\\\\\n",
       "\t HCV         & studySolidtumors & -2.326300e-03 & -0.0091000197 & 0.004447420 & 0.499700009\\\\\n",
       "\t Influenza   & studyLeukemia    &  1.388891e-03 & -0.0008361383 & 0.003613920 & 0.220289833\\\\\n",
       "\t Influenza   & studyLymphoma    &  3.749913e-04 & -0.0035230859 & 0.004273069 & 0.849991319\\\\\n",
       "\t Influenza   & studySolidtumors &  8.928169e-04 & -0.0017561579 & 0.003541792 & 0.507704217\\\\\n",
       "\t HomoSapiens & studyLeukemia    &  2.290607e-02 & -0.0019583464 & 0.047770487 & 0.070849185\\\\\n",
       "\t HomoSapiens & studyLymphoma    & -1.957129e-03 & -0.0455176426 & 0.041603385 & 0.929611727\\\\\n",
       "\t HomoSapiens & studySolidtumors &  1.410219e-03 & -0.0281917357 & 0.031012173 & 0.925377554\\\\\n",
       "\t HPV         & studyLeukemia    &  4.330228e-03 & -0.0025065590 & 0.011167016 & 0.213610283\\\\\n",
       "\t HPV         & studyLymphoma    & -2.512982e-03 & -0.0144904990 & 0.009464535 & 0.680014799\\\\\n",
       "\t HPV         & studySolidtumors &  1.351224e-02 &  0.0053728034 & 0.021651670 & 0.001211215\\\\\n",
       "\t MCPyV       & studyLeukemia    & -2.890539e-03 & -0.0114464327 & 0.005665355 & 0.506698817\\\\\n",
       "\t MCPyV       & studyLymphoma    &  1.562886e-03 & -0.0134263710 & 0.016552143 & 0.837579649\\\\\n",
       "\t MCPyV       & studySolidtumors & -4.422377e-03 & -0.0146084663 & 0.005763713 & 0.393611161\\\\\n",
       "\\end{tabular}\n"
      ],
      "text/markdown": [
       "\n",
       "A data.frame: 21 x 6\n",
       "\n",
       "| antigen &lt;chr&gt; | group &lt;chr&gt; | coefficient &lt;dbl&gt; | lower.95 &lt;dbl&gt; | upper.95 &lt;dbl&gt; | p &lt;dbl&gt; |\n",
       "|---|---|---|---|---|---|\n",
       "| CMV         | studyLeukemia    | -6.683727e-03 | -0.0193483732 | 0.005980919 | 0.299880796 |\n",
       "| CMV         | studyLymphoma    |  1.431904e-02 | -0.0078684261 | 0.036506513 | 0.205086992 |\n",
       "| CMV         | studySolidtumors | -3.247035e-03 | -0.0183247375 | 0.011830667 | 0.672046797 |\n",
       "| EBV         | studyLeukemia    | -3.761342e-03 | -0.0127420929 | 0.005219410 | 0.410515538 |\n",
       "| EBV         | studyLymphoma    |  4.071693e-04 | -0.0153264049 | 0.016140743 | 0.959421080 |\n",
       "| EBV         | studySolidtumors |  6.690748e-05 | -0.0106249898 | 0.010758805 | 0.990183651 |\n",
       "| HCV         | studyLeukemia    | -1.271254e-03 | -0.0069608982 | 0.004418391 | 0.660503436 |\n",
       "| HCV         | studyLymphoma    | -3.907130e-03 | -0.0138749425 | 0.006060682 | 0.441132013 |\n",
       "| HCV         | studySolidtumors | -2.326300e-03 | -0.0091000197 | 0.004447420 | 0.499700009 |\n",
       "| Influenza   | studyLeukemia    |  1.388891e-03 | -0.0008361383 | 0.003613920 | 0.220289833 |\n",
       "| Influenza   | studyLymphoma    |  3.749913e-04 | -0.0035230859 | 0.004273069 | 0.849991319 |\n",
       "| Influenza   | studySolidtumors |  8.928169e-04 | -0.0017561579 | 0.003541792 | 0.507704217 |\n",
       "| HomoSapiens | studyLeukemia    |  2.290607e-02 | -0.0019583464 | 0.047770487 | 0.070849185 |\n",
       "| HomoSapiens | studyLymphoma    | -1.957129e-03 | -0.0455176426 | 0.041603385 | 0.929611727 |\n",
       "| HomoSapiens | studySolidtumors |  1.410219e-03 | -0.0281917357 | 0.031012173 | 0.925377554 |\n",
       "| HPV         | studyLeukemia    |  4.330228e-03 | -0.0025065590 | 0.011167016 | 0.213610283 |\n",
       "| HPV         | studyLymphoma    | -2.512982e-03 | -0.0144904990 | 0.009464535 | 0.680014799 |\n",
       "| HPV         | studySolidtumors |  1.351224e-02 |  0.0053728034 | 0.021651670 | 0.001211215 |\n",
       "| MCPyV       | studyLeukemia    | -2.890539e-03 | -0.0114464327 | 0.005665355 | 0.506698817 |\n",
       "| MCPyV       | studyLymphoma    |  1.562886e-03 | -0.0134263710 | 0.016552143 | 0.837579649 |\n",
       "| MCPyV       | studySolidtumors | -4.422377e-03 | -0.0146084663 | 0.005763713 | 0.393611161 |\n",
       "\n"
      ],
      "text/plain": [
       "   antigen     group            coefficient   lower.95      upper.95   \n",
       "1  CMV         studyLeukemia    -6.683727e-03 -0.0193483732 0.005980919\n",
       "2  CMV         studyLymphoma     1.431904e-02 -0.0078684261 0.036506513\n",
       "3  CMV         studySolidtumors -3.247035e-03 -0.0183247375 0.011830667\n",
       "4  EBV         studyLeukemia    -3.761342e-03 -0.0127420929 0.005219410\n",
       "5  EBV         studyLymphoma     4.071693e-04 -0.0153264049 0.016140743\n",
       "6  EBV         studySolidtumors  6.690748e-05 -0.0106249898 0.010758805\n",
       "7  HCV         studyLeukemia    -1.271254e-03 -0.0069608982 0.004418391\n",
       "8  HCV         studyLymphoma    -3.907130e-03 -0.0138749425 0.006060682\n",
       "9  HCV         studySolidtumors -2.326300e-03 -0.0091000197 0.004447420\n",
       "10 Influenza   studyLeukemia     1.388891e-03 -0.0008361383 0.003613920\n",
       "11 Influenza   studyLymphoma     3.749913e-04 -0.0035230859 0.004273069\n",
       "12 Influenza   studySolidtumors  8.928169e-04 -0.0017561579 0.003541792\n",
       "13 HomoSapiens studyLeukemia     2.290607e-02 -0.0019583464 0.047770487\n",
       "14 HomoSapiens studyLymphoma    -1.957129e-03 -0.0455176426 0.041603385\n",
       "15 HomoSapiens studySolidtumors  1.410219e-03 -0.0281917357 0.031012173\n",
       "16 HPV         studyLeukemia     4.330228e-03 -0.0025065590 0.011167016\n",
       "17 HPV         studyLymphoma    -2.512982e-03 -0.0144904990 0.009464535\n",
       "18 HPV         studySolidtumors  1.351224e-02  0.0053728034 0.021651670\n",
       "19 MCPyV       studyLeukemia    -2.890539e-03 -0.0114464327 0.005665355\n",
       "20 MCPyV       studyLymphoma     1.562886e-03 -0.0134263710 0.016552143\n",
       "21 MCPyV       studySolidtumors -4.422377e-03 -0.0146084663 0.005763713\n",
       "   p          \n",
       "1  0.299880796\n",
       "2  0.205086992\n",
       "3  0.672046797\n",
       "4  0.410515538\n",
       "5  0.959421080\n",
       "6  0.990183651\n",
       "7  0.660503436\n",
       "8  0.441132013\n",
       "9  0.499700009\n",
       "10 0.220289833\n",
       "11 0.849991319\n",
       "12 0.507704217\n",
       "13 0.070849185\n",
       "14 0.929611727\n",
       "15 0.925377554\n",
       "16 0.213610283\n",
       "17 0.680014799\n",
       "18 0.001211215\n",
       "19 0.506698817\n",
       "20 0.837579649\n",
       "21 0.393611161"
      ]
     },
     "metadata": {},
     "output_type": "display_data"
    }
   ],
   "source": [
    "lmtest_mat"
   ]
  },
  {
   "cell_type": "code",
   "execution_count": 118,
   "metadata": {
    "vscode": {
     "languageId": "r"
    }
   },
   "outputs": [
    {
     "data": {
      "text/html": [
       "<table class=\"dataframe\">\n",
       "<caption>A data.frame: 2 x 6</caption>\n",
       "<thead>\n",
       "\t<tr><th></th><th scope=col>antigen</th><th scope=col>group</th><th scope=col>coefficient</th><th scope=col>lower.95</th><th scope=col>upper.95</th><th scope=col>p</th></tr>\n",
       "\t<tr><th></th><th scope=col>&lt;chr&gt;</th><th scope=col>&lt;chr&gt;</th><th scope=col>&lt;dbl&gt;</th><th scope=col>&lt;dbl&gt;</th><th scope=col>&lt;dbl&gt;</th><th scope=col>&lt;dbl&gt;</th></tr>\n",
       "</thead>\n",
       "<tbody>\n",
       "\t<tr><th scope=row>13</th><td>HomoSapiens</td><td>studyLeukemia   </td><td>0.02290607</td><td>-0.001958346</td><td>0.04777049</td><td>0.070849185</td></tr>\n",
       "\t<tr><th scope=row>18</th><td>HPV        </td><td>studySolidtumors</td><td>0.01351224</td><td> 0.005372803</td><td>0.02165167</td><td>0.001211215</td></tr>\n",
       "</tbody>\n",
       "</table>\n"
      ],
      "text/latex": [
       "A data.frame: 2 x 6\n",
       "\\begin{tabular}{r|llllll}\n",
       "  & antigen & group & coefficient & lower.95 & upper.95 & p\\\\\n",
       "  & <chr> & <chr> & <dbl> & <dbl> & <dbl> & <dbl>\\\\\n",
       "\\hline\n",
       "\t13 & HomoSapiens & studyLeukemia    & 0.02290607 & -0.001958346 & 0.04777049 & 0.070849185\\\\\n",
       "\t18 & HPV         & studySolidtumors & 0.01351224 &  0.005372803 & 0.02165167 & 0.001211215\\\\\n",
       "\\end{tabular}\n"
      ],
      "text/markdown": [
       "\n",
       "A data.frame: 2 x 6\n",
       "\n",
       "| <!--/--> | antigen &lt;chr&gt; | group &lt;chr&gt; | coefficient &lt;dbl&gt; | lower.95 &lt;dbl&gt; | upper.95 &lt;dbl&gt; | p &lt;dbl&gt; |\n",
       "|---|---|---|---|---|---|---|\n",
       "| 13 | HomoSapiens | studyLeukemia    | 0.02290607 | -0.001958346 | 0.04777049 | 0.070849185 |\n",
       "| 18 | HPV         | studySolidtumors | 0.01351224 |  0.005372803 | 0.02165167 | 0.001211215 |\n",
       "\n"
      ],
      "text/plain": [
       "   antigen     group            coefficient lower.95     upper.95   p          \n",
       "13 HomoSapiens studyLeukemia    0.02290607  -0.001958346 0.04777049 0.070849185\n",
       "18 HPV         studySolidtumors 0.01351224   0.005372803 0.02165167 0.001211215"
      ]
     },
     "metadata": {},
     "output_type": "display_data"
    }
   ],
   "source": [
    "sig_lmtest_mat <- lmtest_mat[ lmtest_mat$p < 0.08,]\n",
    "sig_lmtest_mat"
   ]
  },
  {
   "cell_type": "code",
   "execution_count": 119,
   "metadata": {
    "vscode": {
     "languageId": "r"
    }
   },
   "outputs": [],
   "source": [
    "sig_lmtest_mat$p.val <- sapply(sig_lmtest_mat$p, function(x) round_and_format(x) )"
   ]
  },
  {
   "cell_type": "code",
   "execution_count": 120,
   "metadata": {
    "vscode": {
     "languageId": "r"
    }
   },
   "outputs": [
    {
     "data": {
      "text/html": [
       "<table class=\"dataframe\">\n",
       "<caption>A data.frame: 2 x 7</caption>\n",
       "<thead>\n",
       "\t<tr><th></th><th scope=col>antigen</th><th scope=col>group</th><th scope=col>coefficient</th><th scope=col>lower.95</th><th scope=col>upper.95</th><th scope=col>p</th><th scope=col>p.val</th></tr>\n",
       "\t<tr><th></th><th scope=col>&lt;chr&gt;</th><th scope=col>&lt;chr&gt;</th><th scope=col>&lt;dbl&gt;</th><th scope=col>&lt;dbl&gt;</th><th scope=col>&lt;dbl&gt;</th><th scope=col>&lt;dbl&gt;</th><th scope=col>&lt;chr&gt;</th></tr>\n",
       "</thead>\n",
       "<tbody>\n",
       "\t<tr><th scope=row>13</th><td>HomoSapiens</td><td>studyLeukemia   </td><td>0.02290607</td><td>-0.001958346</td><td>0.04777049</td><td>0.070849185</td><td>0.07 </td></tr>\n",
       "\t<tr><th scope=row>18</th><td>HPV        </td><td>studySolidtumors</td><td>0.01351224</td><td> 0.005372803</td><td>0.02165167</td><td>0.001211215</td><td>0.001</td></tr>\n",
       "</tbody>\n",
       "</table>\n"
      ],
      "text/latex": [
       "A data.frame: 2 x 7\n",
       "\\begin{tabular}{r|lllllll}\n",
       "  & antigen & group & coefficient & lower.95 & upper.95 & p & p.val\\\\\n",
       "  & <chr> & <chr> & <dbl> & <dbl> & <dbl> & <dbl> & <chr>\\\\\n",
       "\\hline\n",
       "\t13 & HomoSapiens & studyLeukemia    & 0.02290607 & -0.001958346 & 0.04777049 & 0.070849185 & 0.07 \\\\\n",
       "\t18 & HPV         & studySolidtumors & 0.01351224 &  0.005372803 & 0.02165167 & 0.001211215 & 0.001\\\\\n",
       "\\end{tabular}\n"
      ],
      "text/markdown": [
       "\n",
       "A data.frame: 2 x 7\n",
       "\n",
       "| <!--/--> | antigen &lt;chr&gt; | group &lt;chr&gt; | coefficient &lt;dbl&gt; | lower.95 &lt;dbl&gt; | upper.95 &lt;dbl&gt; | p &lt;dbl&gt; | p.val &lt;chr&gt; |\n",
       "|---|---|---|---|---|---|---|---|\n",
       "| 13 | HomoSapiens | studyLeukemia    | 0.02290607 | -0.001958346 | 0.04777049 | 0.070849185 | 0.07  |\n",
       "| 18 | HPV         | studySolidtumors | 0.01351224 |  0.005372803 | 0.02165167 | 0.001211215 | 0.001 |\n",
       "\n"
      ],
      "text/plain": [
       "   antigen     group            coefficient lower.95     upper.95   p          \n",
       "13 HomoSapiens studyLeukemia    0.02290607  -0.001958346 0.04777049 0.070849185\n",
       "18 HPV         studySolidtumors 0.01351224   0.005372803 0.02165167 0.001211215\n",
       "   p.val\n",
       "13 0.07 \n",
       "18 0.001"
      ]
     },
     "metadata": {},
     "output_type": "display_data"
    }
   ],
   "source": [
    "sig_lmtest_mat"
   ]
  },
  {
   "cell_type": "code",
   "execution_count": 121,
   "metadata": {
    "vscode": {
     "languageId": "r"
    }
   },
   "outputs": [],
   "source": [
    "# recode for visualization\n",
    "samples_tcr_freq_all_long$fraction[ samples_tcr_freq_all_long$fraction > 0.2] <- 0.21"
   ]
  },
  {
   "cell_type": "code",
   "execution_count": 122,
   "metadata": {
    "vscode": {
     "languageId": "r"
    }
   },
   "outputs": [
    {
     "data": {
      "text/html": [
       "<table class=\"dataframe\">\n",
       "<caption>A tibble: 6 x 3</caption>\n",
       "<thead>\n",
       "\t<tr><th scope=col>study</th><th scope=col>antigen</th><th scope=col>fraction</th></tr>\n",
       "\t<tr><th scope=col>&lt;chr&gt;</th><th scope=col>&lt;fct&gt;</th><th scope=col>&lt;dbl&gt;</th></tr>\n",
       "</thead>\n",
       "<tbody>\n",
       "\t<tr><td>Healthy</td><td>CMV        </td><td>0.007468579</td></tr>\n",
       "\t<tr><td>Healthy</td><td>EBV        </td><td>0.011976048</td></tr>\n",
       "\t<tr><td>Healthy</td><td>HCV        </td><td>0.014048825</td></tr>\n",
       "\t<tr><td>Healthy</td><td>Influenza  </td><td>0.000000000</td></tr>\n",
       "\t<tr><td>Healthy</td><td>HomoSapiens</td><td>0.010758702</td></tr>\n",
       "\t<tr><td>Healthy</td><td>HPV        </td><td>0.015299072</td></tr>\n",
       "</tbody>\n",
       "</table>\n"
      ],
      "text/latex": [
       "A tibble: 6 x 3\n",
       "\\begin{tabular}{lll}\n",
       " study & antigen & fraction\\\\\n",
       " <chr> & <fct> & <dbl>\\\\\n",
       "\\hline\n",
       "\t Healthy & CMV         & 0.007468579\\\\\n",
       "\t Healthy & EBV         & 0.011976048\\\\\n",
       "\t Healthy & HCV         & 0.014048825\\\\\n",
       "\t Healthy & Influenza   & 0.000000000\\\\\n",
       "\t Healthy & HomoSapiens & 0.010758702\\\\\n",
       "\t Healthy & HPV         & 0.015299072\\\\\n",
       "\\end{tabular}\n"
      ],
      "text/markdown": [
       "\n",
       "A tibble: 6 x 3\n",
       "\n",
       "| study &lt;chr&gt; | antigen &lt;fct&gt; | fraction &lt;dbl&gt; |\n",
       "|---|---|---|\n",
       "| Healthy | CMV         | 0.007468579 |\n",
       "| Healthy | EBV         | 0.011976048 |\n",
       "| Healthy | HCV         | 0.014048825 |\n",
       "| Healthy | Influenza   | 0.000000000 |\n",
       "| Healthy | HomoSapiens | 0.010758702 |\n",
       "| Healthy | HPV         | 0.015299072 |\n",
       "\n"
      ],
      "text/plain": [
       "  study   antigen     fraction   \n",
       "1 Healthy CMV         0.007468579\n",
       "2 Healthy EBV         0.011976048\n",
       "3 Healthy HCV         0.014048825\n",
       "4 Healthy Influenza   0.000000000\n",
       "5 Healthy HomoSapiens 0.010758702\n",
       "6 Healthy HPV         0.015299072"
      ]
     },
     "metadata": {},
     "output_type": "display_data"
    }
   ],
   "source": [
    "head(samples_tcr_freq_all_long)"
   ]
  },
  {
   "cell_type": "code",
   "execution_count": 124,
   "metadata": {
    "vscode": {
     "languageId": "r"
    }
   },
   "outputs": [
    {
     "name": "stderr",
     "output_type": "stream",
     "text": [
      "Warning message in ggsignif::geom_signif(data = sig_lmtest_mat, aes(xmin = c(1, :\n",
      "\"\u001b[1m\u001b[22mIgnoring unknown aesthetics: \u001b[32mxmin\u001b[39m, \u001b[32mxmax\u001b[39m, \u001b[32mannotations\u001b[39m, and \u001b[32my_position\u001b[39m\"\n"
     ]
    }
   ],
   "source": [
    "p_sample <- ggplot(samples_tcr_freq_all_long, aes(x = study, y = fraction)) +\n",
    "    geom_jitter(width = 0.1, alpha = 0.3, shape = 16) +\n",
    "    geom_boxplot(fill = \"transparent\", outlier.shape = NA) +\n",
    "    myplot +\n",
    "    myaxis +\n",
    "    theme(\n",
    "        plot.margin = unit(c(0, 0, 0, 0), \"cm\"),\n",
    "        axis.text.x = element_text(angle = 45, hjust = 1),\n",
    "        axis.title.x = element_blank(), legend.position = \"none\"\n",
    "    ) +\n",
    "    ggsignif::geom_signif(\n",
    "            data = sig_lmtest_mat,\n",
    "            aes(xmin = c(1,1), xmax = c(2,4), annotations = p.val, y_position = 0.22),\n",
    "            textsize = 3, vjust = -0.2, color = \"black\",\n",
    "            manual = TRUE\n",
    "        ) +\n",
    "            facet_wrap(~ factor(antigen, levels(samples_tcr_freq_all_long$antigen)), nrow = 1, scales = \"free_x\", strip.position = \"top\") +\n",
    "    theme(\n",
    "        axis.title.x = element_blank(),\n",
    "        legend.position = \"none\",\n",
    "        strip.text.x = element_text(size = 13),\n",
    "        strip.background.x = element_blank(),\n",
    "        strip.placement = \"outside\"\n",
    "    ) +\n",
    "    ylab(\"TCR frequencies\\nwith antigen annotation\") +\n",
    "    scale_y_continuous( # offset for jitter\n",
    "        limits = c(-0.001, 0.3), breaks = c(0, 0.05, 0.1, 0.15, 0.2),\n",
    "        labels = c(\"0\", \"0.05\", \"0.1\", \"0.15\", \">0.2\")\n",
    "    ) +\n",
    "    scale_x_discrete(labels = c(\"Healthy\", \"Leukemia\", \"Lymphoma\", \"Solid tumors\"))\n"
   ]
  },
  {
   "cell_type": "code",
   "execution_count": 125,
   "metadata": {
    "vscode": {
     "languageId": "r"
    }
   },
   "outputs": [
    {
     "data": {
      "image/png": "[encoded data removed]",
      "text/plain": [
       "plot without title"
      ]
     },
     "metadata": {
      "image/png": {
       "height": 420,
       "width": 420
      }
     },
     "output_type": "display_data"
    }
   ],
   "source": [
    "p_sample"
   ]
  },
  {
   "cell_type": "code",
   "execution_count": 132,
   "metadata": {
    "vscode": {
     "languageId": "r"
    }
   },
   "outputs": [
    {
     "data": {
      "text/html": [
       "<strong>pdf:</strong> 2"
      ],
      "text/latex": [
       "\\textbf{pdf:} 2"
      ],
      "text/markdown": [
       "**pdf:** 2"
      ],
      "text/plain": [
       "pdf \n",
       "  2 "
      ]
     },
     "metadata": {},
     "output_type": "display_data"
    }
   ],
   "source": [
    "pdf(paste0(plotpath, \"antigen_fraction_all.pdf\"), width = 11, height = 5)\n",
    "cowplot::plot_grid(p_sample, labels = \"A\") #+ coord_cartesian(ylim = c(0, 0.2))\n",
    "dev.off()"
   ]
  },
  {
   "cell_type": "markdown",
   "metadata": {},
   "source": [
    "# Backup"
   ]
  },
  {
   "cell_type": "markdown",
   "metadata": {},
   "source": [
    "### 1- Fisher test of antigen-specific motifs in pre vs post therapy CDR3s"
   ]
  },
  {
   "cell_type": "code",
   "execution_count": null,
   "metadata": {
    "vscode": {
     "languageId": "r"
    }
   },
   "outputs": [],
   "source": [
    "# bucket all postchemo together\n",
    "samples_tcr$group <-NA\n",
    "samples_tcr$group[ samples_tcr$cycle == \"X01\"] <- \"pre\"\n",
    "samples_tcr$group[ samples_tcr$cycle != \"X01\"] <- \"post\""
   ]
  },
  {
   "cell_type": "code",
   "execution_count": null,
   "metadata": {
    "vscode": {
     "languageId": "r"
    }
   },
   "outputs": [],
   "source": [
    "samples_tcr$group <- factor(samples_tcr$group, levels = c(\"pre\", \"post\"))"
   ]
  },
  {
   "cell_type": "code",
   "execution_count": null,
   "metadata": {
    "vscode": {
     "languageId": "r"
    }
   },
   "outputs": [],
   "source": [
    "mymat <- as.data.frame(matrix(NA, nrow = 0, ncol = 8) )\n",
    "colnames(mymat) <- c(\"Antigen\", \"Cancer\",\"Pre\", \"Post\", \"p\", \"OR\", \"Lower\", \"Upper\")"
   ]
  },
  {
   "cell_type": "code",
   "execution_count": null,
   "metadata": {
    "vscode": {
     "languageId": "r"
    }
   },
   "outputs": [],
   "source": [
    "for (c in c(\"Leukemia\", \"Lymphoma\", \"Solidtumors\")) {\n",
    "  print(c)\n",
    "  pbmc <- samples_tcr[samples_tcr$sampletype == \"PBMC\", ]\n",
    "  pbmc <- pbmc[pbmc$cancergroup == c, ]\n",
    "\n",
    "  pbmc <- pbmc[!is.na(pbmc$group), ]\n",
    "\n",
    "  for (v in c(\"CMV\", \"EBV\", \"HCV\", \"HPV\", \"Influenza\", \"MCPyV\", \"HomoSapiens\")) {\n",
    "    print(v)\n",
    "    pbmc$Notfound <- pbmc$n_gliph - pbmc[[v]]\n",
    "\n",
    "    contingency_table <- pbmc %>%\n",
    "      group_by(group) %>%\n",
    "      summarise(\n",
    "        Motifs_Found = sum(eval(parse(text = v))),\n",
    "        Motifs_Not_Found = sum(Notfound)\n",
    "      )\n",
    "\n",
    "    contingency_table <- as.data.frame(contingency_table)\n",
    "    rownames(contingency_table) <- contingency_table$group\n",
    "    contingency_table$group <- NULL\n",
    "    contingency_table <- as.matrix(t(contingency_table))\n",
    "    proptab <- prop.table(contingency_table, 2)\n",
    "\n",
    "    c1 <- fisher.test(contingency_table)\n",
    "    mymat_c <- as.data.frame(matrix(NA, nrow = 1, ncol = 8))\n",
    "    colnames(mymat_c) <- c(\"Antigen\", \"Cancer\",\"Pre\", \"Post\", \"p\", \"OR\", \"Lower\", \"Upper\")\n",
    "\n",
    "    mymat_c$Antigen[1] <- v\n",
    "    mymat_c$Cancer[1] <- c\n",
    "    mymat_c$Pre[1] <- proptab[1,1]\n",
    "    mymat_c$Post[1] <- proptab[1,2]\n",
    "\n",
    "    mymat_c$p[1] <- c1$p.value\n",
    "    mymat_c$OR[1] <- c1$estimate\n",
    "    mymat_c$Lower[1] <- c1$conf.int[1]\n",
    "    mymat_c$Upper[1] <- c1$conf.int[2]\n",
    "    mymat <- rbind(mymat, mymat_c[1, ])\n",
    "  } # end of virus loop\n",
    "} # end of cancer loop"
   ]
  },
  {
   "cell_type": "code",
   "execution_count": null,
   "metadata": {
    "vscode": {
     "languageId": "r"
    }
   },
   "outputs": [],
   "source": [
    "contingency_table"
   ]
  },
  {
   "cell_type": "code",
   "execution_count": null,
   "metadata": {
    "vscode": {
     "languageId": "r"
    }
   },
   "outputs": [],
   "source": [
    "mymat$padj <- p.adjust(mymat$p, method = \"fdr\")"
   ]
  },
  {
   "cell_type": "code",
   "execution_count": null,
   "metadata": {
    "vscode": {
     "languageId": "r"
    }
   },
   "outputs": [],
   "source": [
    "mymat[order(mymat$padj),]"
   ]
  },
  {
   "cell_type": "code",
   "execution_count": null,
   "metadata": {
    "vscode": {
     "languageId": "r"
    }
   },
   "outputs": [],
   "source": [
    "meta_div[meta_div$Patient == \"CHP_408\",]"
   ]
  },
  {
   "cell_type": "code",
   "execution_count": null,
   "metadata": {
    "vscode": {
     "languageId": "r"
    }
   },
   "outputs": [],
   "source": [
    "# pbmc$tmp <- pbmc$MCPyV / pbmc$n_gliph"
   ]
  },
  {
   "cell_type": "code",
   "execution_count": null,
   "metadata": {
    "vscode": {
     "languageId": "r"
    }
   },
   "outputs": [],
   "source": [
    "# mygliphs <- unique(tmp$pattern[ tmp$Sample %in% rownames(pbmc)[ rownames(pbmc) == \"Leukemia:CHP_411_X01-cfDNA\"]] )"
   ]
  },
  {
   "cell_type": "code",
   "execution_count": null,
   "metadata": {
    "vscode": {
     "languageId": "r"
    }
   },
   "outputs": [],
   "source": [
    "# tmp[tmp$pattern %in% mygliphs & tmp$subject == \"HomoSapiens\",]"
   ]
  },
  {
   "cell_type": "code",
   "execution_count": null,
   "metadata": {
    "vscode": {
     "languageId": "r"
    }
   },
   "outputs": [],
   "source": []
  },
  {
   "cell_type": "markdown",
   "metadata": {},
   "source": [
    "### 1.1- Fisher test of antigen-specific motifs in pre vs post therapy clone counts"
   ]
  },
  {
   "cell_type": "code",
   "execution_count": null,
   "metadata": {
    "vscode": {
     "languageId": "r"
    }
   },
   "outputs": [],
   "source": [
    "samples_tcr_freq <- readr::read_rds( file = paste0(datapath, \"GLIPH/int_samples_gliphannot_freq_stat.rds\"))\n",
    "gliphdf_freq <- readr::read_rds(file = paste0(datapath, \"GLIPH/gliphannot_freq_stat.rds\"))"
   ]
  },
  {
   "cell_type": "code",
   "execution_count": null,
   "metadata": {
    "vscode": {
     "languageId": "r"
    }
   },
   "outputs": [],
   "source": [
    "colnames(samples_tcr_freq)"
   ]
  },
  {
   "cell_type": "code",
   "execution_count": null,
   "metadata": {
    "vscode": {
     "languageId": "r"
    }
   },
   "outputs": [],
   "source": [
    "# bucket all postchemo together\n",
    "samples_tcr_freq$group <-NA\n",
    "samples_tcr_freq$group[ samples_tcr_freq$cycle == \"X01\"] <- \"pre\"\n",
    "samples_tcr_freq$group[ samples_tcr_freq$cycle != \"X01\"] <- \"post\""
   ]
  },
  {
   "cell_type": "code",
   "execution_count": null,
   "metadata": {
    "vscode": {
     "languageId": "r"
    }
   },
   "outputs": [],
   "source": [
    "samples_tcr_freq$group <- factor(samples_tcr_freq$group, levels = c(\"pre\", \"post\"))"
   ]
  },
  {
   "cell_type": "code",
   "execution_count": null,
   "metadata": {
    "vscode": {
     "languageId": "r"
    }
   },
   "outputs": [],
   "source": [
    "mymat <- as.data.frame(matrix(NA, nrow = 0, ncol = 10) )\n",
    "colnames(mymat) <- c(\"Antigen\", \"Cancer\",\"n_pre\", \"n_post\",\"Pre\", \"Post\", \"p\", \"OR\", \"Lower\", \"Upper\")"
   ]
  },
  {
   "cell_type": "code",
   "execution_count": null,
   "metadata": {
    "vscode": {
     "languageId": "r"
    }
   },
   "outputs": [],
   "source": [
    "for (c in c(\"Leukemia\", \"Lymphoma\", \"Solidtumors\")) {\n",
    "  print(c)\n",
    "  pbmc <- samples_tcr_freq[samples_tcr_freq$sampletype == \"PBMC\", ]\n",
    "  pbmc <- pbmc[pbmc$cancergroup == c, ]\n",
    "  pbmc <- pbmc[!is.na(pbmc$group), ]\n",
    "\n",
    "  for (v in c(\"CMV\", \"EBV\", \"HCV\", \"HPV\", \"Influenza\", \"MCPyV\", \"HomoSapiens\", \n",
    "      \"TB\", \"SP\", \"DENV\", \"HTLV1\", \"CEF\")) {\n",
    "    print(v)\n",
    "    pbmc$Notfound <- pbmc$cdr3_reads - pbmc[[v]]\n",
    "\n",
    "    contingency_table <- pbmc %>%\n",
    "      group_by(group) %>%\n",
    "      summarise(\n",
    "        Motifs_Found = sum(eval(parse(text = v))),\n",
    "        Motifs_Not_Found = sum(Notfound)\n",
    "      )\n",
    "\n",
    "    contingency_table <- as.data.frame(contingency_table)\n",
    "    rownames(contingency_table) <- contingency_table$group\n",
    "    contingency_table$group <- NULL\n",
    "    contingency_table <- as.matrix(t(contingency_table))\n",
    "    proptab <- prop.table(contingency_table, 2)\n",
    "\n",
    "    c1 <- fisher.test(contingency_table)\n",
    "    mymat_c <- as.data.frame(matrix(NA, nrow = 1, ncol = 10))\n",
    "    colnames(mymat_c) <- c(\"Antigen\", \"Cancer\",\"n_pre\", \"n_post\", \"Pre\", \"Post\", \"p\", \"OR\", \"Lower\", \"Upper\")\n",
    "\n",
    "    mymat_c$Antigen[1] <- v\n",
    "    mymat_c$Cancer[1] <- c\n",
    "    mymat_c$n_pre[1] <- table(pbmc$group)[1]\n",
    "    mymat_c$n_post[1] <- table(pbmc$group)[2]\n",
    "\n",
    "    mymat_c$Pre[1] <- proptab[1,1]\n",
    "    mymat_c$Post[1] <- proptab[1,2]\n",
    "\n",
    "    mymat_c$p[1] <- c1$p.value\n",
    "    mymat_c$OR[1] <- c1$estimate\n",
    "    mymat_c$Lower[1] <- c1$conf.int[1]\n",
    "    mymat_c$Upper[1] <- c1$conf.int[2]\n",
    "    mymat <- rbind(mymat, mymat_c[1, ])\n",
    "  } # end of virus loop\n",
    "} # end of cancer loop"
   ]
  },
  {
   "cell_type": "code",
   "execution_count": null,
   "metadata": {
    "vscode": {
     "languageId": "r"
    }
   },
   "outputs": [],
   "source": [
    "mymat$padj <- p.adjust(mymat$p, method = \"fdr\")"
   ]
  },
  {
   "cell_type": "code",
   "execution_count": null,
   "metadata": {
    "vscode": {
     "languageId": "r"
    }
   },
   "outputs": [],
   "source": [
    "mymat[order(mymat$padj),]"
   ]
  },
  {
   "cell_type": "code",
   "execution_count": null,
   "metadata": {
    "vscode": {
     "languageId": "r"
    }
   },
   "outputs": [],
   "source": []
  },
  {
   "cell_type": "code",
   "execution_count": null,
   "metadata": {
    "vscode": {
     "languageId": "r"
    }
   },
   "outputs": [],
   "source": []
  },
  {
   "cell_type": "code",
   "execution_count": null,
   "metadata": {
    "vscode": {
     "languageId": "r"
    }
   },
   "outputs": [],
   "source": []
  },
  {
   "cell_type": "code",
   "execution_count": null,
   "metadata": {
    "vscode": {
     "languageId": "r"
    }
   },
   "outputs": [],
   "source": []
  },
  {
   "cell_type": "code",
   "execution_count": null,
   "metadata": {
    "vscode": {
     "languageId": "r"
    }
   },
   "outputs": [],
   "source": []
  },
  {
   "cell_type": "markdown",
   "metadata": {},
   "source": [
    "# 3- annotated GLIPH groups between CMV- and +"
   ]
  },
  {
   "cell_type": "code",
   "execution_count": 9,
   "metadata": {
    "vscode": {
     "languageId": "r"
    }
   },
   "outputs": [],
   "source": [
    "h4hpath <- \"/Users/anabbi/Desktop/H4H/INTERCEPT/analysis/GLIPH/run_gliph/\""
   ]
  },
  {
   "cell_type": "markdown",
   "metadata": {},
   "source": [
    "50K emerson input"
   ]
  },
  {
   "cell_type": "code",
   "execution_count": 10,
   "metadata": {
    "vscode": {
     "languageId": "r"
    }
   },
   "outputs": [
    {
     "name": "stderr",
     "output_type": "stream",
     "text": [
      "\u001b[1mRows: \u001b[22m\u001b[34m4177040\u001b[39m \u001b[1mColumns: \u001b[22m\u001b[34m29\u001b[39m\n",
      "\u001b[36m--\u001b[39m \u001b[1mColumn specification\u001b[22m \u001b[36m--------------------------------------------------------\u001b[39m\n",
      "\u001b[1mDelimiter:\u001b[22m \",\"\n",
      "\u001b[31mchr\u001b[39m (17): pattern, type, TcRb, V, J, Sample, HLA-A, HLA-B, HLA-C, HLA-DPA1, ...\n",
      "\u001b[32mdbl\u001b[39m (11): index, Fisher_score, number_subject, number_unique_cdr3, final_sco...\n",
      "\u001b[33mlgl\u001b[39m  (1): TcRa\n",
      "\n",
      "\u001b[36mi\u001b[39m Use `spec()` to retrieve the full column specification for this data.\n",
      "\u001b[36mi\u001b[39m Specify the column types or set `show_col_types = FALSE` to quiet this message.\n"
     ]
    }
   ],
   "source": [
    "gliph_emerson <- readr::read_csv(paste0(h4hpath, \"/v9_emerson/gliph_output/int_vdj_v9_emerson_cluster.csv\"), col_names = T) #  Mitchel as reference\n",
    "\n",
    "gliph_emerson <- gliph_emerson[,!grepl(\"HLA\", colnames(gliph_emerson))]"
   ]
  },
  {
   "cell_type": "code",
   "execution_count": 11,
   "metadata": {
    "vscode": {
     "languageId": "r"
    }
   },
   "outputs": [],
   "source": [
    "emerson <- gliph_emerson[ gliph_emerson$pattern != \"single\",]\n",
    "emerson <- emerson[emerson$number_unique_cdr3 >= 3,]"
   ]
  },
  {
   "cell_type": "code",
   "execution_count": 12,
   "metadata": {
    "vscode": {
     "languageId": "r"
    }
   },
   "outputs": [],
   "source": [
    "emerson$subject <- gsub(\":.*\", \"\", emerson$Sample)\n",
    "emerson$samplename <- gsub(\".*:\", \"\", emerson$Sample)"
   ]
  },
  {
   "cell_type": "code",
   "execution_count": 22,
   "metadata": {
    "vscode": {
     "languageId": "r"
    }
   },
   "outputs": [],
   "source": [
    "readr::write_rds(emerson, file = paste0(datapath, \"GLIPH/emerson_50K_cleaned.rds\"))"
   ]
  },
  {
   "cell_type": "code",
   "execution_count": null,
   "metadata": {
    "vscode": {
     "languageId": "r"
    }
   },
   "outputs": [],
   "source": [
    "gliphin_emerson <- readr::read_rds(paste0(h4hpath, \"v9_emerson_adult/gliph_input/int_vdj_gliphinput_v9_emerson_adult.RDS\"))"
   ]
  },
  {
   "cell_type": "code",
   "execution_count": null,
   "metadata": {
    "vscode": {
     "languageId": "r"
    }
   },
   "outputs": [],
   "source": [
    "# remove columns starting with HLA\n",
    "gliphout_emerson <- gliphout_emerson[,!grepl(\"HLA\", colnames(gliphout_emerson))]\n",
    "# no single\n",
    "gliphout_emerson <- gliphout_emerson[ gliphout_emerson$pattern != \"single\",]"
   ]
  },
  {
   "cell_type": "code",
   "execution_count": null,
   "metadata": {
    "vscode": {
     "languageId": "r"
    }
   },
   "outputs": [
    {
     "data": {
      "text/html": [
       "<style>\n",
       ".list-inline {list-style: none; margin:0; padding: 0}\n",
       ".list-inline>li {display: inline-block}\n",
       ".list-inline>li:not(:last-child)::after {content: \"\\00b7\"; padding: 0 .5ex}\n",
       "</style>\n",
       "<ol class=list-inline><li>119052</li><li>18</li></ol>\n"
      ],
      "text/latex": [
       "\\begin{enumerate*}\n",
       "\\item 119052\n",
       "\\item 18\n",
       "\\end{enumerate*}\n"
      ],
      "text/markdown": [
       "1. 119052\n",
       "2. 18\n",
       "\n",
       "\n"
      ],
      "text/plain": [
       "[1] 119052     18"
      ]
     },
     "metadata": {},
     "output_type": "display_data"
    }
   ],
   "source": [
    "dim(gliphout_emerson)"
   ]
  },
  {
   "cell_type": "code",
   "execution_count": null,
   "metadata": {
    "vscode": {
     "languageId": "r"
    }
   },
   "outputs": [],
   "source": [
    "gliphout_emerson$subject <- gsub(\":.*\", \"\", gliphout_emerson$Sample)"
   ]
  },
  {
   "cell_type": "code",
   "execution_count": null,
   "metadata": {
    "vscode": {
     "languageId": "r"
    }
   },
   "outputs": [],
   "source": []
  },
  {
   "cell_type": "markdown",
   "metadata": {},
   "source": [
    "Create a gliph dataframe"
   ]
  },
  {
   "cell_type": "code",
   "execution_count": null,
   "metadata": {
    "vscode": {
     "languageId": "r"
    }
   },
   "outputs": [],
   "source": [
    "gliphdf <- data.frame(gliph = unique(gliphout_emerson$pattern))\n",
    "rownames(gliphdf) <- gliphdf$gliph"
   ]
  },
  {
   "cell_type": "code",
   "execution_count": null,
   "metadata": {
    "vscode": {
     "languageId": "r"
    }
   },
   "outputs": [
    {
     "data": {
      "text/html": [
       "<table class=\"dataframe\">\n",
       "<caption>A data.frame: 6 x 1</caption>\n",
       "<thead>\n",
       "\t<tr><th></th><th scope=col>gliph</th></tr>\n",
       "\t<tr><th></th><th scope=col>&lt;chr&gt;</th></tr>\n",
       "</thead>\n",
       "<tbody>\n",
       "\t<tr><th scope=row>SLG%E</th><td>SLG%E  </td></tr>\n",
       "\t<tr><th scope=row>S%GGNTE</th><td>S%GGNTE</td></tr>\n",
       "\t<tr><th scope=row>YDTG</th><td>YDTG   </td></tr>\n",
       "\t<tr><th scope=row>S%SGANV</th><td>S%SGANV</td></tr>\n",
       "\t<tr><th scope=row>S%TGNTE</th><td>S%TGNTE</td></tr>\n",
       "\t<tr><th scope=row>SVG%NTE</th><td>SVG%NTE</td></tr>\n",
       "</tbody>\n",
       "</table>\n"
      ],
      "text/latex": [
       "A data.frame: 6 x 1\n",
       "\\begin{tabular}{r|l}\n",
       "  & gliph\\\\\n",
       "  & <chr>\\\\\n",
       "\\hline\n",
       "\tSLG\\%E & SLG\\%E  \\\\\n",
       "\tS\\%GGNTE & S\\%GGNTE\\\\\n",
       "\tYDTG & YDTG   \\\\\n",
       "\tS\\%SGANV & S\\%SGANV\\\\\n",
       "\tS\\%TGNTE & S\\%TGNTE\\\\\n",
       "\tSVG\\%NTE & SVG\\%NTE\\\\\n",
       "\\end{tabular}\n"
      ],
      "text/markdown": [
       "\n",
       "A data.frame: 6 x 1\n",
       "\n",
       "| <!--/--> | gliph &lt;chr&gt; |\n",
       "|---|---|\n",
       "| SLG%E | SLG%E   |\n",
       "| S%GGNTE | S%GGNTE |\n",
       "| YDTG | YDTG    |\n",
       "| S%SGANV | S%SGANV |\n",
       "| S%TGNTE | S%TGNTE |\n",
       "| SVG%NTE | SVG%NTE |\n",
       "\n"
      ],
      "text/plain": [
       "        gliph  \n",
       "SLG%E   SLG%E  \n",
       "S%GGNTE S%GGNTE\n",
       "YDTG    YDTG   \n",
       "S%SGANV S%SGANV\n",
       "S%TGNTE S%TGNTE\n",
       "SVG%NTE SVG%NTE"
      ]
     },
     "metadata": {},
     "output_type": "display_data"
    }
   ],
   "source": [
    "head(gliphdf)"
   ]
  },
  {
   "cell_type": "code",
   "execution_count": null,
   "metadata": {
    "vscode": {
     "languageId": "r"
    }
   },
   "outputs": [
    {
     "data": {
      "text/html": [
       "<table class=\"dataframe\">\n",
       "<caption>A data.frame: 6 x 2</caption>\n",
       "<thead>\n",
       "\t<tr><th></th><th scope=col>subject</th><th scope=col>Sample</th></tr>\n",
       "\t<tr><th></th><th scope=col>&lt;chr&gt;</th><th scope=col>&lt;chr&gt;</th></tr>\n",
       "</thead>\n",
       "<tbody>\n",
       "\t<tr><th scope=row>1</th><td>MDavis </td><td>MDavis:DRB10401     </td></tr>\n",
       "\t<tr><th scope=row>2</th><td>MDavis </td><td>MDavis:DRB10401     </td></tr>\n",
       "\t<tr><th scope=row>3</th><td>MDavis </td><td>MDavis:DRB10401     </td></tr>\n",
       "\t<tr><th scope=row>4</th><td>Emerson</td><td>Emerson:P00014_2108 </td></tr>\n",
       "\t<tr><th scope=row>5</th><td>Emerson</td><td>Emerson:P00486_45778</td></tr>\n",
       "\t<tr><th scope=row>6</th><td>MDavis </td><td>MDavis:DRB10401     </td></tr>\n",
       "</tbody>\n",
       "</table>\n"
      ],
      "text/latex": [
       "A data.frame: 6 x 2\n",
       "\\begin{tabular}{r|ll}\n",
       "  & subject & Sample\\\\\n",
       "  & <chr> & <chr>\\\\\n",
       "\\hline\n",
       "\t1 & MDavis  & MDavis:DRB10401     \\\\\n",
       "\t2 & MDavis  & MDavis:DRB10401     \\\\\n",
       "\t3 & MDavis  & MDavis:DRB10401     \\\\\n",
       "\t4 & Emerson & Emerson:P00014\\_2108 \\\\\n",
       "\t5 & Emerson & Emerson:P00486\\_45778\\\\\n",
       "\t6 & MDavis  & MDavis:DRB10401     \\\\\n",
       "\\end{tabular}\n"
      ],
      "text/markdown": [
       "\n",
       "A data.frame: 6 x 2\n",
       "\n",
       "| <!--/--> | subject &lt;chr&gt; | Sample &lt;chr&gt; |\n",
       "|---|---|---|\n",
       "| 1 | MDavis  | MDavis:DRB10401      |\n",
       "| 2 | MDavis  | MDavis:DRB10401      |\n",
       "| 3 | MDavis  | MDavis:DRB10401      |\n",
       "| 4 | Emerson | Emerson:P00014_2108  |\n",
       "| 5 | Emerson | Emerson:P00486_45778 |\n",
       "| 6 | MDavis  | MDavis:DRB10401      |\n",
       "\n"
      ],
      "text/plain": [
       "  subject Sample              \n",
       "1 MDavis  MDavis:DRB10401     \n",
       "2 MDavis  MDavis:DRB10401     \n",
       "3 MDavis  MDavis:DRB10401     \n",
       "4 Emerson Emerson:P00014_2108 \n",
       "5 Emerson Emerson:P00486_45778\n",
       "6 MDavis  MDavis:DRB10401     "
      ]
     },
     "metadata": {},
     "output_type": "display_data"
    }
   ],
   "source": [
    "head(gliphout_emerson[, c(\"subject\", \"Sample\")])"
   ]
  },
  {
   "cell_type": "code",
   "execution_count": null,
   "metadata": {
    "vscode": {
     "languageId": "r"
    }
   },
   "outputs": [
    {
     "data": {
      "text/html": [
       "<style>\n",
       ".list-inline {list-style: none; margin:0; padding: 0}\n",
       ".list-inline>li {display: inline-block}\n",
       ".list-inline>li:not(:last-child)::after {content: \"\\00b7\"; padding: 0 .5ex}\n",
       "</style>\n",
       "<ol class=list-inline><li>'CEF'</li><li>'CMV'</li><li>'DENV'</li><li>'EBV'</li><li>'HCV'</li><li>'HPV'</li><li>'HomoSapiens'</li><li>'Influenza'</li><li>'M.tuberculosis'</li><li>'MCPyV'</li><li>'MDavis'</li><li>'S-pneumoniae'</li></ol>\n"
      ],
      "text/latex": [
       "\\begin{enumerate*}\n",
       "\\item 'CEF'\n",
       "\\item 'CMV'\n",
       "\\item 'DENV'\n",
       "\\item 'EBV'\n",
       "\\item 'HCV'\n",
       "\\item 'HPV'\n",
       "\\item 'HomoSapiens'\n",
       "\\item 'Influenza'\n",
       "\\item 'M.tuberculosis'\n",
       "\\item 'MCPyV'\n",
       "\\item 'MDavis'\n",
       "\\item 'S-pneumoniae'\n",
       "\\end{enumerate*}\n"
      ],
      "text/markdown": [
       "1. 'CEF'\n",
       "2. 'CMV'\n",
       "3. 'DENV'\n",
       "4. 'EBV'\n",
       "5. 'HCV'\n",
       "6. 'HPV'\n",
       "7. 'HomoSapiens'\n",
       "8. 'Influenza'\n",
       "9. 'M.tuberculosis'\n",
       "10. 'MCPyV'\n",
       "11. 'MDavis'\n",
       "12. 'S-pneumoniae'\n",
       "\n",
       "\n"
      ],
      "text/plain": [
       " [1] \"CEF\"            \"CMV\"            \"DENV\"           \"EBV\"           \n",
       " [5] \"HCV\"            \"HPV\"            \"HomoSapiens\"    \"Influenza\"     \n",
       " [9] \"M.tuberculosis\" \"MCPyV\"          \"MDavis\"         \"S-pneumoniae\"  "
      ]
     },
     "metadata": {},
     "output_type": "display_data"
    }
   ],
   "source": [
    "names(table(gliphout_emerson$subject[!grepl(\"Emerson\", gliphout_emerson$Sample)]))"
   ]
  },
  {
   "cell_type": "code",
   "execution_count": null,
   "metadata": {
    "vscode": {
     "languageId": "r"
    }
   },
   "outputs": [],
   "source": [
    "for(i in 1:nrow(gliphdf)){\n",
    "\n",
    "mygliph <- gliphout_emerson[gliphout_emerson$pattern == gliphdf$gliph[i],]\n",
    "# add gliphdf$CMV, if mygliph$subject ciontains CMV\n",
    "gliphdf$CMV[i] <- ifelse(sum(grepl(\"CMV\", mygliph$subject)) > 0, sum(grepl(\"CMV\", mygliph$subject)), 0)\n",
    "gliphdf$EBV[i] <- ifelse(sum(grepl(\"EBV\", mygliph$subject)) > 0, sum(grepl(\"EBV\", mygliph$subject)), 0)\n",
    "gliphdf$HCV[i] <- ifelse(sum(grepl(\"HCV\", mygliph$subject)) > 0, sum(grepl(\"HCV\", mygliph$subject)), 0)\n",
    "gliphdf$Influenza[i] <- ifelse(sum(grepl(\"Influenza\", mygliph$subject)) > 0, sum(grepl(\"Influenza\", mygliph$subject)), 0)\n",
    "gliphdf$HomoSapiens[i] <- ifelse(sum(grepl(\"HomoSapiens\", mygliph$subject)) > 0, sum(grepl(\"HomoSapiens\", mygliph$subject)), 0)\n",
    "gliphdf$MDavis[i] <- ifelse(sum(grepl(\"MDavis\", mygliph$subject)) > 0, sum(grepl(\"MDavis\", mygliph$subject)), 0)\n",
    "gliphdf$HPV[i] <- ifelse(sum(grepl(\"HPV\", mygliph$subject)) > 0, sum(grepl(\"HPV\", mygliph$subject)), 0)\n",
    "gliphdf$CEF[i] <- ifelse(sum(grepl(\"CEF\", mygliph$subject)) > 0, sum(grepl(\"CEF\", mygliph$subject)), 0)\n",
    "gliphdf$TB[i] <- ifelse(sum(grepl(\"M.tuberculosis\", mygliph$subject)) > 0, sum(grepl(\"M.tuberculosis\", mygliph$subject)), 0)\n",
    "gliphdf$MCPyV[i] <- ifelse(sum(grepl(\"MCPyV\", mygliph$subject)) > 0, sum(grepl(\"MCPyV\", mygliph$subject)), 0)\n",
    "gliphdf$SP[i] <- ifelse(sum(grepl(\"S-pneumoniae\", mygliph$subject)) > 0, sum(grepl(\"S-pneumoniae\", mygliph$subject)), 0)\n",
    "gliphdf$DENV[i] <- ifelse(sum(grepl(\"DENV\", mygliph$subject)) > 0, sum(grepl(\"DENV\", mygliph$subject)), 0)\n",
    "}"
   ]
  },
  {
   "cell_type": "code",
   "execution_count": null,
   "metadata": {
    "vscode": {
     "languageId": "r"
    }
   },
   "outputs": [
    {
     "data": {
      "text/html": [
       "<table class=\"dataframe\">\n",
       "<caption>A data.frame: 6 x 13</caption>\n",
       "<thead>\n",
       "\t<tr><th></th><th scope=col>gliph</th><th scope=col>CMV</th><th scope=col>EBV</th><th scope=col>HCV</th><th scope=col>Influenza</th><th scope=col>HomoSapiens</th><th scope=col>MDavis</th><th scope=col>HPV</th><th scope=col>CEF</th><th scope=col>TB</th><th scope=col>MCPyV</th><th scope=col>SP</th><th scope=col>DENV</th></tr>\n",
       "\t<tr><th></th><th scope=col>&lt;chr&gt;</th><th scope=col>&lt;dbl&gt;</th><th scope=col>&lt;dbl&gt;</th><th scope=col>&lt;dbl&gt;</th><th scope=col>&lt;dbl&gt;</th><th scope=col>&lt;dbl&gt;</th><th scope=col>&lt;dbl&gt;</th><th scope=col>&lt;dbl&gt;</th><th scope=col>&lt;dbl&gt;</th><th scope=col>&lt;dbl&gt;</th><th scope=col>&lt;dbl&gt;</th><th scope=col>&lt;dbl&gt;</th><th scope=col>&lt;dbl&gt;</th></tr>\n",
       "</thead>\n",
       "<tbody>\n",
       "\t<tr><th scope=row>SLG%E</th><td>SLG%E  </td><td>0</td><td>0</td><td>0</td><td>0</td><td>0</td><td>39</td><td>0</td><td>0</td><td>0</td><td>0</td><td>0</td><td>0</td></tr>\n",
       "\t<tr><th scope=row>S%GGNTE</th><td>S%GGNTE</td><td>0</td><td>0</td><td>0</td><td>0</td><td>1</td><td>40</td><td>0</td><td>0</td><td>0</td><td>0</td><td>0</td><td>0</td></tr>\n",
       "\t<tr><th scope=row>YDTG</th><td>YDTG   </td><td>0</td><td>0</td><td>0</td><td>0</td><td>0</td><td>75</td><td>0</td><td>0</td><td>0</td><td>0</td><td>0</td><td>0</td></tr>\n",
       "\t<tr><th scope=row>S%SGANV</th><td>S%SGANV</td><td>0</td><td>0</td><td>0</td><td>0</td><td>0</td><td>34</td><td>0</td><td>0</td><td>0</td><td>0</td><td>0</td><td>0</td></tr>\n",
       "\t<tr><th scope=row>S%TGNTE</th><td>S%TGNTE</td><td>0</td><td>0</td><td>0</td><td>0</td><td>0</td><td>34</td><td>0</td><td>0</td><td>0</td><td>0</td><td>0</td><td>0</td></tr>\n",
       "\t<tr><th scope=row>SVG%NTE</th><td>SVG%NTE</td><td>0</td><td>0</td><td>0</td><td>0</td><td>0</td><td>28</td><td>0</td><td>0</td><td>0</td><td>0</td><td>0</td><td>0</td></tr>\n",
       "</tbody>\n",
       "</table>\n"
      ],
      "text/latex": [
       "A data.frame: 6 x 13\n",
       "\\begin{tabular}{r|lllllllllllll}\n",
       "  & gliph & CMV & EBV & HCV & Influenza & HomoSapiens & MDavis & HPV & CEF & TB & MCPyV & SP & DENV\\\\\n",
       "  & <chr> & <dbl> & <dbl> & <dbl> & <dbl> & <dbl> & <dbl> & <dbl> & <dbl> & <dbl> & <dbl> & <dbl> & <dbl>\\\\\n",
       "\\hline\n",
       "\tSLG\\%E & SLG\\%E   & 0 & 0 & 0 & 0 & 0 & 39 & 0 & 0 & 0 & 0 & 0 & 0\\\\\n",
       "\tS\\%GGNTE & S\\%GGNTE & 0 & 0 & 0 & 0 & 1 & 40 & 0 & 0 & 0 & 0 & 0 & 0\\\\\n",
       "\tYDTG & YDTG    & 0 & 0 & 0 & 0 & 0 & 75 & 0 & 0 & 0 & 0 & 0 & 0\\\\\n",
       "\tS\\%SGANV & S\\%SGANV & 0 & 0 & 0 & 0 & 0 & 34 & 0 & 0 & 0 & 0 & 0 & 0\\\\\n",
       "\tS\\%TGNTE & S\\%TGNTE & 0 & 0 & 0 & 0 & 0 & 34 & 0 & 0 & 0 & 0 & 0 & 0\\\\\n",
       "\tSVG\\%NTE & SVG\\%NTE & 0 & 0 & 0 & 0 & 0 & 28 & 0 & 0 & 0 & 0 & 0 & 0\\\\\n",
       "\\end{tabular}\n"
      ],
      "text/markdown": [
       "\n",
       "A data.frame: 6 x 13\n",
       "\n",
       "| <!--/--> | gliph &lt;chr&gt; | CMV &lt;dbl&gt; | EBV &lt;dbl&gt; | HCV &lt;dbl&gt; | Influenza &lt;dbl&gt; | HomoSapiens &lt;dbl&gt; | MDavis &lt;dbl&gt; | HPV &lt;dbl&gt; | CEF &lt;dbl&gt; | TB &lt;dbl&gt; | MCPyV &lt;dbl&gt; | SP &lt;dbl&gt; | DENV &lt;dbl&gt; |\n",
       "|---|---|---|---|---|---|---|---|---|---|---|---|---|---|\n",
       "| SLG%E | SLG%E   | 0 | 0 | 0 | 0 | 0 | 39 | 0 | 0 | 0 | 0 | 0 | 0 |\n",
       "| S%GGNTE | S%GGNTE | 0 | 0 | 0 | 0 | 1 | 40 | 0 | 0 | 0 | 0 | 0 | 0 |\n",
       "| YDTG | YDTG    | 0 | 0 | 0 | 0 | 0 | 75 | 0 | 0 | 0 | 0 | 0 | 0 |\n",
       "| S%SGANV | S%SGANV | 0 | 0 | 0 | 0 | 0 | 34 | 0 | 0 | 0 | 0 | 0 | 0 |\n",
       "| S%TGNTE | S%TGNTE | 0 | 0 | 0 | 0 | 0 | 34 | 0 | 0 | 0 | 0 | 0 | 0 |\n",
       "| SVG%NTE | SVG%NTE | 0 | 0 | 0 | 0 | 0 | 28 | 0 | 0 | 0 | 0 | 0 | 0 |\n",
       "\n"
      ],
      "text/plain": [
       "        gliph   CMV EBV HCV Influenza HomoSapiens MDavis HPV CEF TB MCPyV SP\n",
       "SLG%E   SLG%E   0   0   0   0         0           39     0   0   0  0     0 \n",
       "S%GGNTE S%GGNTE 0   0   0   0         1           40     0   0   0  0     0 \n",
       "YDTG    YDTG    0   0   0   0         0           75     0   0   0  0     0 \n",
       "S%SGANV S%SGANV 0   0   0   0         0           34     0   0   0  0     0 \n",
       "S%TGNTE S%TGNTE 0   0   0   0         0           34     0   0   0  0     0 \n",
       "SVG%NTE SVG%NTE 0   0   0   0         0           28     0   0   0  0     0 \n",
       "        DENV\n",
       "SLG%E   0   \n",
       "S%GGNTE 0   \n",
       "YDTG    0   \n",
       "S%SGANV 0   \n",
       "S%TGNTE 0   \n",
       "SVG%NTE 0   "
      ]
     },
     "metadata": {},
     "output_type": "display_data"
    }
   ],
   "source": [
    "head(gliphdf)"
   ]
  },
  {
   "cell_type": "code",
   "execution_count": null,
   "metadata": {
    "vscode": {
     "languageId": "r"
    }
   },
   "outputs": [
    {
     "data": {
      "text/html": [
       "<style>\n",
       ".list-inline {list-style: none; margin:0; padding: 0}\n",
       ".list-inline>li {display: inline-block}\n",
       ".list-inline>li:not(:last-child)::after {content: \"\\00b7\"; padding: 0 .5ex}\n",
       "</style>\n",
       "<ol class=list-inline><li>'index'</li><li>'pattern'</li><li>'Fisher_score'</li><li>'number_subject'</li><li>'number_unique_cdr3'</li><li>'final_score'</li><li>'hla_score'</li><li>'vb_score'</li><li>'expansion_score'</li><li>'length_score'</li><li>'cluster_size_score'</li><li>'type'</li><li>'TcRb'</li><li>'V'</li><li>'J'</li><li>'TcRa'</li><li>'Sample'</li><li>'Freq'</li><li>'subject'</li></ol>\n"
      ],
      "text/latex": [
       "\\begin{enumerate*}\n",
       "\\item 'index'\n",
       "\\item 'pattern'\n",
       "\\item 'Fisher\\_score'\n",
       "\\item 'number\\_subject'\n",
       "\\item 'number\\_unique\\_cdr3'\n",
       "\\item 'final\\_score'\n",
       "\\item 'hla\\_score'\n",
       "\\item 'vb\\_score'\n",
       "\\item 'expansion\\_score'\n",
       "\\item 'length\\_score'\n",
       "\\item 'cluster\\_size\\_score'\n",
       "\\item 'type'\n",
       "\\item 'TcRb'\n",
       "\\item 'V'\n",
       "\\item 'J'\n",
       "\\item 'TcRa'\n",
       "\\item 'Sample'\n",
       "\\item 'Freq'\n",
       "\\item 'subject'\n",
       "\\end{enumerate*}\n"
      ],
      "text/markdown": [
       "1. 'index'\n",
       "2. 'pattern'\n",
       "3. 'Fisher_score'\n",
       "4. 'number_subject'\n",
       "5. 'number_unique_cdr3'\n",
       "6. 'final_score'\n",
       "7. 'hla_score'\n",
       "8. 'vb_score'\n",
       "9. 'expansion_score'\n",
       "10. 'length_score'\n",
       "11. 'cluster_size_score'\n",
       "12. 'type'\n",
       "13. 'TcRb'\n",
       "14. 'V'\n",
       "15. 'J'\n",
       "16. 'TcRa'\n",
       "17. 'Sample'\n",
       "18. 'Freq'\n",
       "19. 'subject'\n",
       "\n",
       "\n"
      ],
      "text/plain": [
       " [1] \"index\"              \"pattern\"            \"Fisher_score\"      \n",
       " [4] \"number_subject\"     \"number_unique_cdr3\" \"final_score\"       \n",
       " [7] \"hla_score\"          \"vb_score\"           \"expansion_score\"   \n",
       "[10] \"length_score\"       \"cluster_size_score\" \"type\"              \n",
       "[13] \"TcRb\"               \"V\"                  \"J\"                 \n",
       "[16] \"TcRa\"               \"Sample\"             \"Freq\"              \n",
       "[19] \"subject\"           "
      ]
     },
     "metadata": {},
     "output_type": "display_data"
    }
   ],
   "source": [
    "colnames(gliphout_emerson)"
   ]
  },
  {
   "cell_type": "code",
   "execution_count": null,
   "metadata": {
    "vscode": {
     "languageId": "r"
    }
   },
   "outputs": [],
   "source": [
    "# add number of unique cdr3s for each group\n",
    "for (i in 1:nrow(gliphdf)) {\n",
    "    mygliph <- gliphout_emerson[gliphout_emerson$pattern == gliphdf$gliph[i], ]\n",
    "    gliphdf$n_unique_cdr3[i] <- mygliph$number_unique_cdr3[1]\n",
    "}\n"
   ]
  },
  {
   "cell_type": "code",
   "execution_count": null,
   "metadata": {
    "vscode": {
     "languageId": "r"
    }
   },
   "outputs": [
    {
     "data": {
      "text/html": [
       "<table class=\"dataframe\">\n",
       "<caption>A data.frame: 6 x 14</caption>\n",
       "<thead>\n",
       "\t<tr><th></th><th scope=col>gliph</th><th scope=col>CMV</th><th scope=col>EBV</th><th scope=col>HCV</th><th scope=col>Influenza</th><th scope=col>HomoSapiens</th><th scope=col>MDavis</th><th scope=col>HPV</th><th scope=col>CEF</th><th scope=col>TB</th><th scope=col>MCPyV</th><th scope=col>SP</th><th scope=col>DENV</th><th scope=col>n_unique_cdr3</th></tr>\n",
       "\t<tr><th></th><th scope=col>&lt;chr&gt;</th><th scope=col>&lt;dbl&gt;</th><th scope=col>&lt;dbl&gt;</th><th scope=col>&lt;dbl&gt;</th><th scope=col>&lt;dbl&gt;</th><th scope=col>&lt;dbl&gt;</th><th scope=col>&lt;dbl&gt;</th><th scope=col>&lt;dbl&gt;</th><th scope=col>&lt;dbl&gt;</th><th scope=col>&lt;dbl&gt;</th><th scope=col>&lt;dbl&gt;</th><th scope=col>&lt;dbl&gt;</th><th scope=col>&lt;dbl&gt;</th><th scope=col>&lt;int&gt;</th></tr>\n",
       "</thead>\n",
       "<tbody>\n",
       "\t<tr><th scope=row>SLG%E</th><td>SLG%E  </td><td>0</td><td>0</td><td>0</td><td>0</td><td>0</td><td>39</td><td>0</td><td>0</td><td>0</td><td>0</td><td>0</td><td>0</td><td>53</td></tr>\n",
       "\t<tr><th scope=row>S%GGNTE</th><td>S%GGNTE</td><td>0</td><td>0</td><td>0</td><td>0</td><td>1</td><td>40</td><td>0</td><td>0</td><td>0</td><td>0</td><td>0</td><td>0</td><td>42</td></tr>\n",
       "\t<tr><th scope=row>YDTG</th><td>YDTG   </td><td>0</td><td>0</td><td>0</td><td>0</td><td>0</td><td>75</td><td>0</td><td>0</td><td>0</td><td>0</td><td>0</td><td>0</td><td>78</td></tr>\n",
       "\t<tr><th scope=row>S%SGANV</th><td>S%SGANV</td><td>0</td><td>0</td><td>0</td><td>0</td><td>0</td><td>34</td><td>0</td><td>0</td><td>0</td><td>0</td><td>0</td><td>0</td><td>36</td></tr>\n",
       "\t<tr><th scope=row>S%TGNTE</th><td>S%TGNTE</td><td>0</td><td>0</td><td>0</td><td>0</td><td>0</td><td>34</td><td>0</td><td>0</td><td>0</td><td>0</td><td>0</td><td>0</td><td>35</td></tr>\n",
       "\t<tr><th scope=row>SVG%NTE</th><td>SVG%NTE</td><td>0</td><td>0</td><td>0</td><td>0</td><td>0</td><td>28</td><td>0</td><td>0</td><td>0</td><td>0</td><td>0</td><td>0</td><td>31</td></tr>\n",
       "</tbody>\n",
       "</table>\n"
      ],
      "text/latex": [
       "A data.frame: 6 x 14\n",
       "\\begin{tabular}{r|llllllllllllll}\n",
       "  & gliph & CMV & EBV & HCV & Influenza & HomoSapiens & MDavis & HPV & CEF & TB & MCPyV & SP & DENV & n\\_unique\\_cdr3\\\\\n",
       "  & <chr> & <dbl> & <dbl> & <dbl> & <dbl> & <dbl> & <dbl> & <dbl> & <dbl> & <dbl> & <dbl> & <dbl> & <dbl> & <int>\\\\\n",
       "\\hline\n",
       "\tSLG\\%E & SLG\\%E   & 0 & 0 & 0 & 0 & 0 & 39 & 0 & 0 & 0 & 0 & 0 & 0 & 53\\\\\n",
       "\tS\\%GGNTE & S\\%GGNTE & 0 & 0 & 0 & 0 & 1 & 40 & 0 & 0 & 0 & 0 & 0 & 0 & 42\\\\\n",
       "\tYDTG & YDTG    & 0 & 0 & 0 & 0 & 0 & 75 & 0 & 0 & 0 & 0 & 0 & 0 & 78\\\\\n",
       "\tS\\%SGANV & S\\%SGANV & 0 & 0 & 0 & 0 & 0 & 34 & 0 & 0 & 0 & 0 & 0 & 0 & 36\\\\\n",
       "\tS\\%TGNTE & S\\%TGNTE & 0 & 0 & 0 & 0 & 0 & 34 & 0 & 0 & 0 & 0 & 0 & 0 & 35\\\\\n",
       "\tSVG\\%NTE & SVG\\%NTE & 0 & 0 & 0 & 0 & 0 & 28 & 0 & 0 & 0 & 0 & 0 & 0 & 31\\\\\n",
       "\\end{tabular}\n"
      ],
      "text/markdown": [
       "\n",
       "A data.frame: 6 x 14\n",
       "\n",
       "| <!--/--> | gliph &lt;chr&gt; | CMV &lt;dbl&gt; | EBV &lt;dbl&gt; | HCV &lt;dbl&gt; | Influenza &lt;dbl&gt; | HomoSapiens &lt;dbl&gt; | MDavis &lt;dbl&gt; | HPV &lt;dbl&gt; | CEF &lt;dbl&gt; | TB &lt;dbl&gt; | MCPyV &lt;dbl&gt; | SP &lt;dbl&gt; | DENV &lt;dbl&gt; | n_unique_cdr3 &lt;int&gt; |\n",
       "|---|---|---|---|---|---|---|---|---|---|---|---|---|---|---|\n",
       "| SLG%E | SLG%E   | 0 | 0 | 0 | 0 | 0 | 39 | 0 | 0 | 0 | 0 | 0 | 0 | 53 |\n",
       "| S%GGNTE | S%GGNTE | 0 | 0 | 0 | 0 | 1 | 40 | 0 | 0 | 0 | 0 | 0 | 0 | 42 |\n",
       "| YDTG | YDTG    | 0 | 0 | 0 | 0 | 0 | 75 | 0 | 0 | 0 | 0 | 0 | 0 | 78 |\n",
       "| S%SGANV | S%SGANV | 0 | 0 | 0 | 0 | 0 | 34 | 0 | 0 | 0 | 0 | 0 | 0 | 36 |\n",
       "| S%TGNTE | S%TGNTE | 0 | 0 | 0 | 0 | 0 | 34 | 0 | 0 | 0 | 0 | 0 | 0 | 35 |\n",
       "| SVG%NTE | SVG%NTE | 0 | 0 | 0 | 0 | 0 | 28 | 0 | 0 | 0 | 0 | 0 | 0 | 31 |\n",
       "\n"
      ],
      "text/plain": [
       "        gliph   CMV EBV HCV Influenza HomoSapiens MDavis HPV CEF TB MCPyV SP\n",
       "SLG%E   SLG%E   0   0   0   0         0           39     0   0   0  0     0 \n",
       "S%GGNTE S%GGNTE 0   0   0   0         1           40     0   0   0  0     0 \n",
       "YDTG    YDTG    0   0   0   0         0           75     0   0   0  0     0 \n",
       "S%SGANV S%SGANV 0   0   0   0         0           34     0   0   0  0     0 \n",
       "S%TGNTE S%TGNTE 0   0   0   0         0           34     0   0   0  0     0 \n",
       "SVG%NTE SVG%NTE 0   0   0   0         0           28     0   0   0  0     0 \n",
       "        DENV n_unique_cdr3\n",
       "SLG%E   0    53           \n",
       "S%GGNTE 0    42           \n",
       "YDTG    0    78           \n",
       "S%SGANV 0    36           \n",
       "S%TGNTE 0    35           \n",
       "SVG%NTE 0    31           "
      ]
     },
     "metadata": {},
     "output_type": "display_data"
    }
   ],
   "source": [
    "head(gliphdf)"
   ]
  },
  {
   "cell_type": "markdown",
   "metadata": {},
   "source": [
    "Create samples x gliph dataframe"
   ]
  },
  {
   "cell_type": "code",
   "execution_count": null,
   "metadata": {
    "vscode": {
     "languageId": "r"
    }
   },
   "outputs": [],
   "source": [
    "gliphout_emerson$Sample <- gsub(\"_.*\", \"\", gliphout_emerson$Sample)"
   ]
  },
  {
   "cell_type": "code",
   "execution_count": null,
   "metadata": {
    "vscode": {
     "languageId": "r"
    }
   },
   "outputs": [],
   "source": [
    "mysamples <- names(table(gliphout_emerson$Sample[grepl(\"Emerson\", gliphout_emerson$Sample)]))"
   ]
  },
  {
   "cell_type": "code",
   "execution_count": null,
   "metadata": {
    "vscode": {
     "languageId": "r"
    }
   },
   "outputs": [
    {
     "data": {
      "text/html": [
       "<style>\n",
       ".list-inline {list-style: none; margin:0; padding: 0}\n",
       ".list-inline>li {display: inline-block}\n",
       ".list-inline>li:not(:last-child)::after {content: \"\\00b7\"; padding: 0 .5ex}\n",
       "</style>\n",
       "<ol class=list-inline><li>'Emerson:P00001'</li><li>'Emerson:P00002'</li><li>'Emerson:P00004'</li><li>'Emerson:P00005'</li><li>'Emerson:P00006'</li><li>'Emerson:P00008'</li></ol>\n"
      ],
      "text/latex": [
       "\\begin{enumerate*}\n",
       "\\item 'Emerson:P00001'\n",
       "\\item 'Emerson:P00002'\n",
       "\\item 'Emerson:P00004'\n",
       "\\item 'Emerson:P00005'\n",
       "\\item 'Emerson:P00006'\n",
       "\\item 'Emerson:P00008'\n",
       "\\end{enumerate*}\n"
      ],
      "text/markdown": [
       "1. 'Emerson:P00001'\n",
       "2. 'Emerson:P00002'\n",
       "3. 'Emerson:P00004'\n",
       "4. 'Emerson:P00005'\n",
       "5. 'Emerson:P00006'\n",
       "6. 'Emerson:P00008'\n",
       "\n",
       "\n"
      ],
      "text/plain": [
       "[1] \"Emerson:P00001\" \"Emerson:P00002\" \"Emerson:P00004\" \"Emerson:P00005\"\n",
       "[5] \"Emerson:P00006\" \"Emerson:P00008\""
      ]
     },
     "metadata": {},
     "output_type": "display_data"
    }
   ],
   "source": [
    "head(mysamples)"
   ]
  },
  {
   "cell_type": "code",
   "execution_count": null,
   "metadata": {
    "vscode": {
     "languageId": "r"
    }
   },
   "outputs": [
    {
     "data": {
      "text/html": [
       "<style>\n",
       ".list-inline {list-style: none; margin:0; padding: 0}\n",
       ".list-inline>li {display: inline-block}\n",
       ".list-inline>li:not(:last-child)::after {content: \"\\00b7\"; padding: 0 .5ex}\n",
       "</style>\n",
       "<ol class=list-inline><li>'CMV'</li><li>'EBV'</li><li>'HCV'</li><li>'Influenza'</li><li>'HomoSapiens'</li><li>'MDavis'</li><li>'HPV'</li><li>'CEF'</li><li>'TB'</li><li>'MCPyV'</li><li>'SP'</li><li>'DENV'</li><li>'n_unique_cdr3'</li></ol>\n"
      ],
      "text/latex": [
       "\\begin{enumerate*}\n",
       "\\item 'CMV'\n",
       "\\item 'EBV'\n",
       "\\item 'HCV'\n",
       "\\item 'Influenza'\n",
       "\\item 'HomoSapiens'\n",
       "\\item 'MDavis'\n",
       "\\item 'HPV'\n",
       "\\item 'CEF'\n",
       "\\item 'TB'\n",
       "\\item 'MCPyV'\n",
       "\\item 'SP'\n",
       "\\item 'DENV'\n",
       "\\item 'n\\_unique\\_cdr3'\n",
       "\\end{enumerate*}\n"
      ],
      "text/markdown": [
       "1. 'CMV'\n",
       "2. 'EBV'\n",
       "3. 'HCV'\n",
       "4. 'Influenza'\n",
       "5. 'HomoSapiens'\n",
       "6. 'MDavis'\n",
       "7. 'HPV'\n",
       "8. 'CEF'\n",
       "9. 'TB'\n",
       "10. 'MCPyV'\n",
       "11. 'SP'\n",
       "12. 'DENV'\n",
       "13. 'n_unique_cdr3'\n",
       "\n",
       "\n"
      ],
      "text/plain": [
       " [1] \"CMV\"           \"EBV\"           \"HCV\"           \"Influenza\"    \n",
       " [5] \"HomoSapiens\"   \"MDavis\"        \"HPV\"           \"CEF\"          \n",
       " [9] \"TB\"            \"MCPyV\"         \"SP\"            \"DENV\"         \n",
       "[13] \"n_unique_cdr3\""
      ]
     },
     "metadata": {},
     "output_type": "display_data"
    }
   ],
   "source": [
    "colnames(gliphdf)[2:14]"
   ]
  },
  {
   "cell_type": "code",
   "execution_count": null,
   "metadata": {
    "vscode": {
     "languageId": "r"
    }
   },
   "outputs": [],
   "source": [
    "samples_tcr <- as.data.frame(matrix(0, nrow = length(mysamples), ncol = 12, \n",
    "dimnames = list(mysamples, colnames(gliphdf)[2:13])) ) "
   ]
  },
  {
   "cell_type": "code",
   "execution_count": null,
   "metadata": {
    "vscode": {
     "languageId": "r"
    }
   },
   "outputs": [
    {
     "data": {
      "text/html": [
       "<table class=\"dataframe\">\n",
       "<caption>A data.frame: 6 x 12</caption>\n",
       "<thead>\n",
       "\t<tr><th></th><th scope=col>CMV</th><th scope=col>EBV</th><th scope=col>HCV</th><th scope=col>Influenza</th><th scope=col>HomoSapiens</th><th scope=col>MDavis</th><th scope=col>HPV</th><th scope=col>CEF</th><th scope=col>TB</th><th scope=col>MCPyV</th><th scope=col>SP</th><th scope=col>DENV</th></tr>\n",
       "\t<tr><th></th><th scope=col>&lt;dbl&gt;</th><th scope=col>&lt;dbl&gt;</th><th scope=col>&lt;dbl&gt;</th><th scope=col>&lt;dbl&gt;</th><th scope=col>&lt;dbl&gt;</th><th scope=col>&lt;dbl&gt;</th><th scope=col>&lt;dbl&gt;</th><th scope=col>&lt;dbl&gt;</th><th scope=col>&lt;dbl&gt;</th><th scope=col>&lt;dbl&gt;</th><th scope=col>&lt;dbl&gt;</th><th scope=col>&lt;dbl&gt;</th></tr>\n",
       "</thead>\n",
       "<tbody>\n",
       "\t<tr><th scope=row>Emerson:P00001</th><td>0</td><td>0</td><td>0</td><td>0</td><td>0</td><td>0</td><td>0</td><td>0</td><td>0</td><td>0</td><td>0</td><td>0</td></tr>\n",
       "\t<tr><th scope=row>Emerson:P00002</th><td>0</td><td>0</td><td>0</td><td>0</td><td>0</td><td>0</td><td>0</td><td>0</td><td>0</td><td>0</td><td>0</td><td>0</td></tr>\n",
       "\t<tr><th scope=row>Emerson:P00004</th><td>0</td><td>0</td><td>0</td><td>0</td><td>0</td><td>0</td><td>0</td><td>0</td><td>0</td><td>0</td><td>0</td><td>0</td></tr>\n",
       "\t<tr><th scope=row>Emerson:P00005</th><td>0</td><td>0</td><td>0</td><td>0</td><td>0</td><td>0</td><td>0</td><td>0</td><td>0</td><td>0</td><td>0</td><td>0</td></tr>\n",
       "\t<tr><th scope=row>Emerson:P00006</th><td>0</td><td>0</td><td>0</td><td>0</td><td>0</td><td>0</td><td>0</td><td>0</td><td>0</td><td>0</td><td>0</td><td>0</td></tr>\n",
       "\t<tr><th scope=row>Emerson:P00008</th><td>0</td><td>0</td><td>0</td><td>0</td><td>0</td><td>0</td><td>0</td><td>0</td><td>0</td><td>0</td><td>0</td><td>0</td></tr>\n",
       "</tbody>\n",
       "</table>\n"
      ],
      "text/latex": [
       "A data.frame: 6 x 12\n",
       "\\begin{tabular}{r|llllllllllll}\n",
       "  & CMV & EBV & HCV & Influenza & HomoSapiens & MDavis & HPV & CEF & TB & MCPyV & SP & DENV\\\\\n",
       "  & <dbl> & <dbl> & <dbl> & <dbl> & <dbl> & <dbl> & <dbl> & <dbl> & <dbl> & <dbl> & <dbl> & <dbl>\\\\\n",
       "\\hline\n",
       "\tEmerson:P00001 & 0 & 0 & 0 & 0 & 0 & 0 & 0 & 0 & 0 & 0 & 0 & 0\\\\\n",
       "\tEmerson:P00002 & 0 & 0 & 0 & 0 & 0 & 0 & 0 & 0 & 0 & 0 & 0 & 0\\\\\n",
       "\tEmerson:P00004 & 0 & 0 & 0 & 0 & 0 & 0 & 0 & 0 & 0 & 0 & 0 & 0\\\\\n",
       "\tEmerson:P00005 & 0 & 0 & 0 & 0 & 0 & 0 & 0 & 0 & 0 & 0 & 0 & 0\\\\\n",
       "\tEmerson:P00006 & 0 & 0 & 0 & 0 & 0 & 0 & 0 & 0 & 0 & 0 & 0 & 0\\\\\n",
       "\tEmerson:P00008 & 0 & 0 & 0 & 0 & 0 & 0 & 0 & 0 & 0 & 0 & 0 & 0\\\\\n",
       "\\end{tabular}\n"
      ],
      "text/markdown": [
       "\n",
       "A data.frame: 6 x 12\n",
       "\n",
       "| <!--/--> | CMV &lt;dbl&gt; | EBV &lt;dbl&gt; | HCV &lt;dbl&gt; | Influenza &lt;dbl&gt; | HomoSapiens &lt;dbl&gt; | MDavis &lt;dbl&gt; | HPV &lt;dbl&gt; | CEF &lt;dbl&gt; | TB &lt;dbl&gt; | MCPyV &lt;dbl&gt; | SP &lt;dbl&gt; | DENV &lt;dbl&gt; |\n",
       "|---|---|---|---|---|---|---|---|---|---|---|---|---|\n",
       "| Emerson:P00001 | 0 | 0 | 0 | 0 | 0 | 0 | 0 | 0 | 0 | 0 | 0 | 0 |\n",
       "| Emerson:P00002 | 0 | 0 | 0 | 0 | 0 | 0 | 0 | 0 | 0 | 0 | 0 | 0 |\n",
       "| Emerson:P00004 | 0 | 0 | 0 | 0 | 0 | 0 | 0 | 0 | 0 | 0 | 0 | 0 |\n",
       "| Emerson:P00005 | 0 | 0 | 0 | 0 | 0 | 0 | 0 | 0 | 0 | 0 | 0 | 0 |\n",
       "| Emerson:P00006 | 0 | 0 | 0 | 0 | 0 | 0 | 0 | 0 | 0 | 0 | 0 | 0 |\n",
       "| Emerson:P00008 | 0 | 0 | 0 | 0 | 0 | 0 | 0 | 0 | 0 | 0 | 0 | 0 |\n",
       "\n"
      ],
      "text/plain": [
       "               CMV EBV HCV Influenza HomoSapiens MDavis HPV CEF TB MCPyV SP\n",
       "Emerson:P00001 0   0   0   0         0           0      0   0   0  0     0 \n",
       "Emerson:P00002 0   0   0   0         0           0      0   0   0  0     0 \n",
       "Emerson:P00004 0   0   0   0         0           0      0   0   0  0     0 \n",
       "Emerson:P00005 0   0   0   0         0           0      0   0   0  0     0 \n",
       "Emerson:P00006 0   0   0   0         0           0      0   0   0  0     0 \n",
       "Emerson:P00008 0   0   0   0         0           0      0   0   0  0     0 \n",
       "               DENV\n",
       "Emerson:P00001 0   \n",
       "Emerson:P00002 0   \n",
       "Emerson:P00004 0   \n",
       "Emerson:P00005 0   \n",
       "Emerson:P00006 0   \n",
       "Emerson:P00008 0   "
      ]
     },
     "metadata": {},
     "output_type": "display_data"
    }
   ],
   "source": [
    "head(samples_tcr)"
   ]
  },
  {
   "cell_type": "code",
   "execution_count": null,
   "metadata": {
    "vscode": {
     "languageId": "r"
    }
   },
   "outputs": [],
   "source": [
    "# count number of TCRs with annotated gliph groups for each sample\n",
    "# # eg if 3 TCRs are annotated to a one gliph group with HPV annotation, then count it as 3\n",
    "for (i in 1:nrow(samples_tcr)) {\n",
    "    samplegliphs <- gliphout_emerson$pattern[gliphout_emerson$Sample == rownames(samples_tcr)[i]]\n",
    "    mytab <- as.data.frame(table(gliphout_emerson$subject[gliphout_emerson$pattern %in% samplegliphs]), stringsAsFactors = F)\n",
    "    mycols <- intersect(colnames(samples_tcr), mytab$Var1)\n",
    "    samples_tcr[i, mycols] <- mytab$Freq[match(mycols, mytab$Var1)]\n",
    "}"
   ]
  },
  {
   "cell_type": "code",
   "execution_count": null,
   "metadata": {
    "vscode": {
     "languageId": "r"
    }
   },
   "outputs": [],
   "source": [
    "# # count number of annotated gliph groups for each sample\n",
    "# for (i in 1:nrow(gliphdf)) {\n",
    "#     mygliph <- gliphout_emerson[gliphout_emerson$pattern == rownames(gliphdf)[i], ]\n",
    "#     sample_subject_tab <- as.data.frame.matrix(table(mygliph$Sample, mygliph$subject))\n",
    "#     if (sum(grepl(\"Emerson\", rownames(sample_subject_tab))) > 0) {\n",
    "#         # subset to  samples\n",
    "#         sample_subject_tab <- sample_subject_tab[grepl(\"Emerson\", rownames(sample_subject_tab)), ]\n",
    "#         # select same samples in samples_tcr, then match colnames\n",
    "#         samples_tcr[rownames(sample_subject_tab), which(colnames(samples_tcr) %in% colnames(sample_subject_tab))] <-\n",
    "#             samples_tcr[rownames(sample_subject_tab), which(colnames(samples_tcr) %in% colnames(sample_subject_tab))] + 1\n",
    "#     }\n",
    "# }\n"
   ]
  },
  {
   "cell_type": "code",
   "execution_count": null,
   "metadata": {
    "vscode": {
     "languageId": "r"
    }
   },
   "outputs": [
    {
     "data": {
      "text/html": [
       "<table class=\"dataframe\">\n",
       "<caption>A data.frame: 6 x 12</caption>\n",
       "<thead>\n",
       "\t<tr><th></th><th scope=col>CMV</th><th scope=col>EBV</th><th scope=col>HCV</th><th scope=col>Influenza</th><th scope=col>HomoSapiens</th><th scope=col>MDavis</th><th scope=col>HPV</th><th scope=col>CEF</th><th scope=col>TB</th><th scope=col>MCPyV</th><th scope=col>SP</th><th scope=col>DENV</th></tr>\n",
       "\t<tr><th></th><th scope=col>&lt;dbl&gt;</th><th scope=col>&lt;dbl&gt;</th><th scope=col>&lt;dbl&gt;</th><th scope=col>&lt;dbl&gt;</th><th scope=col>&lt;dbl&gt;</th><th scope=col>&lt;dbl&gt;</th><th scope=col>&lt;dbl&gt;</th><th scope=col>&lt;dbl&gt;</th><th scope=col>&lt;dbl&gt;</th><th scope=col>&lt;dbl&gt;</th><th scope=col>&lt;dbl&gt;</th><th scope=col>&lt;dbl&gt;</th></tr>\n",
       "</thead>\n",
       "<tbody>\n",
       "\t<tr><th scope=row>Emerson:P00001</th><td>1</td><td>1</td><td>2</td><td>0</td><td> 7</td><td>403</td><td>2</td><td>0</td><td>0</td><td>3</td><td>0</td><td>0</td></tr>\n",
       "\t<tr><th scope=row>Emerson:P00002</th><td>2</td><td>1</td><td>1</td><td>0</td><td> 1</td><td>111</td><td>0</td><td>0</td><td>0</td><td>0</td><td>0</td><td>0</td></tr>\n",
       "\t<tr><th scope=row>Emerson:P00004</th><td>6</td><td>5</td><td>4</td><td>7</td><td>19</td><td>667</td><td>1</td><td>0</td><td>0</td><td>3</td><td>0</td><td>0</td></tr>\n",
       "\t<tr><th scope=row>Emerson:P00005</th><td>3</td><td>0</td><td>1</td><td>0</td><td> 1</td><td>337</td><td>0</td><td>0</td><td>0</td><td>3</td><td>0</td><td>0</td></tr>\n",
       "\t<tr><th scope=row>Emerson:P00006</th><td>0</td><td>0</td><td>0</td><td>0</td><td> 0</td><td>  0</td><td>0</td><td>0</td><td>0</td><td>0</td><td>0</td><td>0</td></tr>\n",
       "\t<tr><th scope=row>Emerson:P00008</th><td>3</td><td>4</td><td>6</td><td>0</td><td> 9</td><td>439</td><td>0</td><td>0</td><td>0</td><td>0</td><td>0</td><td>0</td></tr>\n",
       "</tbody>\n",
       "</table>\n"
      ],
      "text/latex": [
       "A data.frame: 6 x 12\n",
       "\\begin{tabular}{r|llllllllllll}\n",
       "  & CMV & EBV & HCV & Influenza & HomoSapiens & MDavis & HPV & CEF & TB & MCPyV & SP & DENV\\\\\n",
       "  & <dbl> & <dbl> & <dbl> & <dbl> & <dbl> & <dbl> & <dbl> & <dbl> & <dbl> & <dbl> & <dbl> & <dbl>\\\\\n",
       "\\hline\n",
       "\tEmerson:P00001 & 1 & 1 & 2 & 0 &  7 & 403 & 2 & 0 & 0 & 3 & 0 & 0\\\\\n",
       "\tEmerson:P00002 & 2 & 1 & 1 & 0 &  1 & 111 & 0 & 0 & 0 & 0 & 0 & 0\\\\\n",
       "\tEmerson:P00004 & 6 & 5 & 4 & 7 & 19 & 667 & 1 & 0 & 0 & 3 & 0 & 0\\\\\n",
       "\tEmerson:P00005 & 3 & 0 & 1 & 0 &  1 & 337 & 0 & 0 & 0 & 3 & 0 & 0\\\\\n",
       "\tEmerson:P00006 & 0 & 0 & 0 & 0 &  0 &   0 & 0 & 0 & 0 & 0 & 0 & 0\\\\\n",
       "\tEmerson:P00008 & 3 & 4 & 6 & 0 &  9 & 439 & 0 & 0 & 0 & 0 & 0 & 0\\\\\n",
       "\\end{tabular}\n"
      ],
      "text/markdown": [
       "\n",
       "A data.frame: 6 x 12\n",
       "\n",
       "| <!--/--> | CMV &lt;dbl&gt; | EBV &lt;dbl&gt; | HCV &lt;dbl&gt; | Influenza &lt;dbl&gt; | HomoSapiens &lt;dbl&gt; | MDavis &lt;dbl&gt; | HPV &lt;dbl&gt; | CEF &lt;dbl&gt; | TB &lt;dbl&gt; | MCPyV &lt;dbl&gt; | SP &lt;dbl&gt; | DENV &lt;dbl&gt; |\n",
       "|---|---|---|---|---|---|---|---|---|---|---|---|---|\n",
       "| Emerson:P00001 | 1 | 1 | 2 | 0 |  7 | 403 | 2 | 0 | 0 | 3 | 0 | 0 |\n",
       "| Emerson:P00002 | 2 | 1 | 1 | 0 |  1 | 111 | 0 | 0 | 0 | 0 | 0 | 0 |\n",
       "| Emerson:P00004 | 6 | 5 | 4 | 7 | 19 | 667 | 1 | 0 | 0 | 3 | 0 | 0 |\n",
       "| Emerson:P00005 | 3 | 0 | 1 | 0 |  1 | 337 | 0 | 0 | 0 | 3 | 0 | 0 |\n",
       "| Emerson:P00006 | 0 | 0 | 0 | 0 |  0 |   0 | 0 | 0 | 0 | 0 | 0 | 0 |\n",
       "| Emerson:P00008 | 3 | 4 | 6 | 0 |  9 | 439 | 0 | 0 | 0 | 0 | 0 | 0 |\n",
       "\n"
      ],
      "text/plain": [
       "               CMV EBV HCV Influenza HomoSapiens MDavis HPV CEF TB MCPyV SP\n",
       "Emerson:P00001 1   1   2   0          7          403    2   0   0  3     0 \n",
       "Emerson:P00002 2   1   1   0          1          111    0   0   0  0     0 \n",
       "Emerson:P00004 6   5   4   7         19          667    1   0   0  3     0 \n",
       "Emerson:P00005 3   0   1   0          1          337    0   0   0  3     0 \n",
       "Emerson:P00006 0   0   0   0          0            0    0   0   0  0     0 \n",
       "Emerson:P00008 3   4   6   0          9          439    0   0   0  0     0 \n",
       "               DENV\n",
       "Emerson:P00001 0   \n",
       "Emerson:P00002 0   \n",
       "Emerson:P00004 0   \n",
       "Emerson:P00005 0   \n",
       "Emerson:P00006 0   \n",
       "Emerson:P00008 0   "
      ]
     },
     "metadata": {},
     "output_type": "display_data"
    }
   ],
   "source": [
    "head(samples_tcr)"
   ]
  },
  {
   "cell_type": "code",
   "execution_count": null,
   "metadata": {
    "vscode": {
     "languageId": "r"
    }
   },
   "outputs": [],
   "source": [
    "gliphin_emerson$subject <- gsub(\"_.*\", \"\", gliphin_emerson$subject.condition)"
   ]
  },
  {
   "cell_type": "code",
   "execution_count": null,
   "metadata": {
    "vscode": {
     "languageId": "r"
    }
   },
   "outputs": [
    {
     "data": {
      "text/html": [
       "<table class=\"dataframe\">\n",
       "<caption>A data.frame: 6 x 7</caption>\n",
       "<thead>\n",
       "\t<tr><th></th><th scope=col>CDR3b</th><th scope=col>TRBV</th><th scope=col>TRBJ</th><th scope=col>CDR3a</th><th scope=col>subject.condition</th><th scope=col>count</th><th scope=col>subject</th></tr>\n",
       "\t<tr><th></th><th scope=col>&lt;chr&gt;</th><th scope=col>&lt;chr&gt;</th><th scope=col>&lt;chr&gt;</th><th scope=col>&lt;lgl&gt;</th><th scope=col>&lt;chr&gt;</th><th scope=col>&lt;dbl&gt;</th><th scope=col>&lt;chr&gt;</th></tr>\n",
       "</thead>\n",
       "<tbody>\n",
       "\t<tr><th scope=row>1</th><td>CAAAGGSYEQYF </td><td>TRBV6-8 </td><td>NA</td><td>NA</td><td>MDavis:B5101                  </td><td>1</td><td>MDavis:B5101   </td></tr>\n",
       "\t<tr><th scope=row>2</th><td>CAAAGTSTDTQYF</td><td>TRBV6-8 </td><td>NA</td><td>NA</td><td>MDavis:C0602_DRB11501         </td><td>1</td><td>MDavis:C0602   </td></tr>\n",
       "\t<tr><th scope=row>3</th><td>CAAAGYDEKLFF </td><td>TRBV9-1 </td><td>NA</td><td>NA</td><td>MDavis:DQA10102               </td><td>1</td><td>MDavis:DQA10102</td></tr>\n",
       "\t<tr><th scope=row>4</th><td>CAAGGMNTEAFF </td><td>TRBV30-1</td><td>NA</td><td>NA</td><td>MDavis:A3101_DQA10301_DRB10701</td><td>1</td><td>MDavis:A3101   </td></tr>\n",
       "\t<tr><th scope=row>5</th><td>CAAGQEGTDTQYF</td><td>TRBV29-1</td><td>NA</td><td>NA</td><td>MDavis:B0702_C0702            </td><td>1</td><td>MDavis:B0702   </td></tr>\n",
       "\t<tr><th scope=row>6</th><td>CAAGRGLNTEAFF</td><td>TRBV29-1</td><td>NA</td><td>NA</td><td>MDavis:B3501_C0401_DRB11501   </td><td>1</td><td>MDavis:B3501   </td></tr>\n",
       "</tbody>\n",
       "</table>\n"
      ],
      "text/latex": [
       "A data.frame: 6 x 7\n",
       "\\begin{tabular}{r|lllllll}\n",
       "  & CDR3b & TRBV & TRBJ & CDR3a & subject.condition & count & subject\\\\\n",
       "  & <chr> & <chr> & <chr> & <lgl> & <chr> & <dbl> & <chr>\\\\\n",
       "\\hline\n",
       "\t1 & CAAAGGSYEQYF  & TRBV6-8  & NA & NA & MDavis:B5101                   & 1 & MDavis:B5101   \\\\\n",
       "\t2 & CAAAGTSTDTQYF & TRBV6-8  & NA & NA & MDavis:C0602\\_DRB11501          & 1 & MDavis:C0602   \\\\\n",
       "\t3 & CAAAGYDEKLFF  & TRBV9-1  & NA & NA & MDavis:DQA10102                & 1 & MDavis:DQA10102\\\\\n",
       "\t4 & CAAGGMNTEAFF  & TRBV30-1 & NA & NA & MDavis:A3101\\_DQA10301\\_DRB10701 & 1 & MDavis:A3101   \\\\\n",
       "\t5 & CAAGQEGTDTQYF & TRBV29-1 & NA & NA & MDavis:B0702\\_C0702             & 1 & MDavis:B0702   \\\\\n",
       "\t6 & CAAGRGLNTEAFF & TRBV29-1 & NA & NA & MDavis:B3501\\_C0401\\_DRB11501    & 1 & MDavis:B3501   \\\\\n",
       "\\end{tabular}\n"
      ],
      "text/markdown": [
       "\n",
       "A data.frame: 6 x 7\n",
       "\n",
       "| <!--/--> | CDR3b &lt;chr&gt; | TRBV &lt;chr&gt; | TRBJ &lt;chr&gt; | CDR3a &lt;lgl&gt; | subject.condition &lt;chr&gt; | count &lt;dbl&gt; | subject &lt;chr&gt; |\n",
       "|---|---|---|---|---|---|---|---|\n",
       "| 1 | CAAAGGSYEQYF  | TRBV6-8  | NA | NA | MDavis:B5101                   | 1 | MDavis:B5101    |\n",
       "| 2 | CAAAGTSTDTQYF | TRBV6-8  | NA | NA | MDavis:C0602_DRB11501          | 1 | MDavis:C0602    |\n",
       "| 3 | CAAAGYDEKLFF  | TRBV9-1  | NA | NA | MDavis:DQA10102                | 1 | MDavis:DQA10102 |\n",
       "| 4 | CAAGGMNTEAFF  | TRBV30-1 | NA | NA | MDavis:A3101_DQA10301_DRB10701 | 1 | MDavis:A3101    |\n",
       "| 5 | CAAGQEGTDTQYF | TRBV29-1 | NA | NA | MDavis:B0702_C0702             | 1 | MDavis:B0702    |\n",
       "| 6 | CAAGRGLNTEAFF | TRBV29-1 | NA | NA | MDavis:B3501_C0401_DRB11501    | 1 | MDavis:B3501    |\n",
       "\n"
      ],
      "text/plain": [
       "  CDR3b         TRBV     TRBJ CDR3a subject.condition              count\n",
       "1 CAAAGGSYEQYF  TRBV6-8  NA   NA    MDavis:B5101                   1    \n",
       "2 CAAAGTSTDTQYF TRBV6-8  NA   NA    MDavis:C0602_DRB11501          1    \n",
       "3 CAAAGYDEKLFF  TRBV9-1  NA   NA    MDavis:DQA10102                1    \n",
       "4 CAAGGMNTEAFF  TRBV30-1 NA   NA    MDavis:A3101_DQA10301_DRB10701 1    \n",
       "5 CAAGQEGTDTQYF TRBV29-1 NA   NA    MDavis:B0702_C0702             1    \n",
       "6 CAAGRGLNTEAFF TRBV29-1 NA   NA    MDavis:B3501_C0401_DRB11501    1    \n",
       "  subject        \n",
       "1 MDavis:B5101   \n",
       "2 MDavis:C0602   \n",
       "3 MDavis:DQA10102\n",
       "4 MDavis:A3101   \n",
       "5 MDavis:B0702   \n",
       "6 MDavis:B3501   "
      ]
     },
     "metadata": {},
     "output_type": "display_data"
    }
   ],
   "source": [
    "head(gliphin_emerson)"
   ]
  },
  {
   "cell_type": "code",
   "execution_count": null,
   "metadata": {
    "vscode": {
     "languageId": "r"
    }
   },
   "outputs": [],
   "source": [
    "gliphin_emerson_samples <- gliphin_emerson[ grepl(\"Emerson\", gliphin_emerson$subject),]"
   ]
  },
  {
   "cell_type": "code",
   "execution_count": null,
   "metadata": {
    "vscode": {
     "languageId": "r"
    }
   },
   "outputs": [
    {
     "data": {
      "text/html": [
       "<table class=\"dataframe\">\n",
       "<caption>A data.frame: 6 x 7</caption>\n",
       "<thead>\n",
       "\t<tr><th></th><th scope=col>CDR3b</th><th scope=col>TRBV</th><th scope=col>TRBJ</th><th scope=col>CDR3a</th><th scope=col>subject.condition</th><th scope=col>count</th><th scope=col>subject</th></tr>\n",
       "\t<tr><th></th><th scope=col>&lt;chr&gt;</th><th scope=col>&lt;chr&gt;</th><th scope=col>&lt;chr&gt;</th><th scope=col>&lt;lgl&gt;</th><th scope=col>&lt;chr&gt;</th><th scope=col>&lt;dbl&gt;</th><th scope=col>&lt;chr&gt;</th></tr>\n",
       "</thead>\n",
       "<tbody>\n",
       "\t<tr><th scope=row>21816</th><td>CASSRGQGPYEQYF    </td><td>TRBV06-05</td><td>TRBJ02-07</td><td>NA</td><td>Emerson:P00001_1</td><td>39</td><td>Emerson:P00001</td></tr>\n",
       "\t<tr><th scope=row>21817</th><td>CAISPASPRGPSTDTQYF</td><td>TRBV28-01</td><td>TRBJ02-03</td><td>NA</td><td>Emerson:P00001_2</td><td>85</td><td>Emerson:P00001</td></tr>\n",
       "\t<tr><th scope=row>21818</th><td>CASSFQDRGRNEQFF   </td><td>TRBV07-06</td><td>TRBJ02-01</td><td>NA</td><td>Emerson:P00001_3</td><td>46</td><td>Emerson:P00001</td></tr>\n",
       "\t<tr><th scope=row>21819</th><td>CASSRDRVQETQYF    </td><td>TRBV06-05</td><td>TRBJ02-05</td><td>NA</td><td>Emerson:P00001_4</td><td>53</td><td>Emerson:P00001</td></tr>\n",
       "\t<tr><th scope=row>21820</th><td>CASSPGQGYEQYF     </td><td>TRBV12   </td><td>TRBJ02-07</td><td>NA</td><td>Emerson:P00001_5</td><td>61</td><td>Emerson:P00001</td></tr>\n",
       "\t<tr><th scope=row>21821</th><td>CASSLVTGAGTEAFF   </td><td>TRBV05-04</td><td>TRBJ01-01</td><td>NA</td><td>Emerson:P00001_6</td><td>94</td><td>Emerson:P00001</td></tr>\n",
       "</tbody>\n",
       "</table>\n"
      ],
      "text/latex": [
       "A data.frame: 6 x 7\n",
       "\\begin{tabular}{r|lllllll}\n",
       "  & CDR3b & TRBV & TRBJ & CDR3a & subject.condition & count & subject\\\\\n",
       "  & <chr> & <chr> & <chr> & <lgl> & <chr> & <dbl> & <chr>\\\\\n",
       "\\hline\n",
       "\t21816 & CASSRGQGPYEQYF     & TRBV06-05 & TRBJ02-07 & NA & Emerson:P00001\\_1 & 39 & Emerson:P00001\\\\\n",
       "\t21817 & CAISPASPRGPSTDTQYF & TRBV28-01 & TRBJ02-03 & NA & Emerson:P00001\\_2 & 85 & Emerson:P00001\\\\\n",
       "\t21818 & CASSFQDRGRNEQFF    & TRBV07-06 & TRBJ02-01 & NA & Emerson:P00001\\_3 & 46 & Emerson:P00001\\\\\n",
       "\t21819 & CASSRDRVQETQYF     & TRBV06-05 & TRBJ02-05 & NA & Emerson:P00001\\_4 & 53 & Emerson:P00001\\\\\n",
       "\t21820 & CASSPGQGYEQYF      & TRBV12    & TRBJ02-07 & NA & Emerson:P00001\\_5 & 61 & Emerson:P00001\\\\\n",
       "\t21821 & CASSLVTGAGTEAFF    & TRBV05-04 & TRBJ01-01 & NA & Emerson:P00001\\_6 & 94 & Emerson:P00001\\\\\n",
       "\\end{tabular}\n"
      ],
      "text/markdown": [
       "\n",
       "A data.frame: 6 x 7\n",
       "\n",
       "| <!--/--> | CDR3b &lt;chr&gt; | TRBV &lt;chr&gt; | TRBJ &lt;chr&gt; | CDR3a &lt;lgl&gt; | subject.condition &lt;chr&gt; | count &lt;dbl&gt; | subject &lt;chr&gt; |\n",
       "|---|---|---|---|---|---|---|---|\n",
       "| 21816 | CASSRGQGPYEQYF     | TRBV06-05 | TRBJ02-07 | NA | Emerson:P00001_1 | 39 | Emerson:P00001 |\n",
       "| 21817 | CAISPASPRGPSTDTQYF | TRBV28-01 | TRBJ02-03 | NA | Emerson:P00001_2 | 85 | Emerson:P00001 |\n",
       "| 21818 | CASSFQDRGRNEQFF    | TRBV07-06 | TRBJ02-01 | NA | Emerson:P00001_3 | 46 | Emerson:P00001 |\n",
       "| 21819 | CASSRDRVQETQYF     | TRBV06-05 | TRBJ02-05 | NA | Emerson:P00001_4 | 53 | Emerson:P00001 |\n",
       "| 21820 | CASSPGQGYEQYF      | TRBV12    | TRBJ02-07 | NA | Emerson:P00001_5 | 61 | Emerson:P00001 |\n",
       "| 21821 | CASSLVTGAGTEAFF    | TRBV05-04 | TRBJ01-01 | NA | Emerson:P00001_6 | 94 | Emerson:P00001 |\n",
       "\n"
      ],
      "text/plain": [
       "      CDR3b              TRBV      TRBJ      CDR3a subject.condition count\n",
       "21816 CASSRGQGPYEQYF     TRBV06-05 TRBJ02-07 NA    Emerson:P00001_1  39   \n",
       "21817 CAISPASPRGPSTDTQYF TRBV28-01 TRBJ02-03 NA    Emerson:P00001_2  85   \n",
       "21818 CASSFQDRGRNEQFF    TRBV07-06 TRBJ02-01 NA    Emerson:P00001_3  46   \n",
       "21819 CASSRDRVQETQYF     TRBV06-05 TRBJ02-05 NA    Emerson:P00001_4  53   \n",
       "21820 CASSPGQGYEQYF      TRBV12    TRBJ02-07 NA    Emerson:P00001_5  61   \n",
       "21821 CASSLVTGAGTEAFF    TRBV05-04 TRBJ01-01 NA    Emerson:P00001_6  94   \n",
       "      subject       \n",
       "21816 Emerson:P00001\n",
       "21817 Emerson:P00001\n",
       "21818 Emerson:P00001\n",
       "21819 Emerson:P00001\n",
       "21820 Emerson:P00001\n",
       "21821 Emerson:P00001"
      ]
     },
     "metadata": {},
     "output_type": "display_data"
    }
   ],
   "source": [
    "head(gliphin_emerson_samples)"
   ]
  },
  {
   "cell_type": "code",
   "execution_count": null,
   "metadata": {
    "vscode": {
     "languageId": "r"
    }
   },
   "outputs": [],
   "source": [
    "mytab <- gliphin_emerson_samples %>% group_by(subject) %>% summarise(n = n())\n",
    "mytab1 <- gliphin_emerson_samples %>% group_by(subject) %>% summarise(SumCount = sum(count))\n"
   ]
  },
  {
   "cell_type": "code",
   "execution_count": null,
   "metadata": {
    "vscode": {
     "languageId": "r"
    }
   },
   "outputs": [
    {
     "data": {
      "text/html": [
       "<table class=\"dataframe\">\n",
       "<caption>A tibble: 6 x 2</caption>\n",
       "<thead>\n",
       "\t<tr><th scope=col>subject</th><th scope=col>SumCount</th></tr>\n",
       "\t<tr><th scope=col>&lt;chr&gt;</th><th scope=col>&lt;dbl&gt;</th></tr>\n",
       "</thead>\n",
       "<tbody>\n",
       "\t<tr><td>Emerson:P00001</td><td>30394</td></tr>\n",
       "\t<tr><td>Emerson:P00002</td><td> 1940</td></tr>\n",
       "\t<tr><td>Emerson:P00004</td><td>48734</td></tr>\n",
       "\t<tr><td>Emerson:P00005</td><td> 8595</td></tr>\n",
       "\t<tr><td>Emerson:P00006</td><td>  222</td></tr>\n",
       "\t<tr><td>Emerson:P00008</td><td> 5723</td></tr>\n",
       "</tbody>\n",
       "</table>\n"
      ],
      "text/latex": [
       "A tibble: 6 x 2\n",
       "\\begin{tabular}{ll}\n",
       " subject & SumCount\\\\\n",
       " <chr> & <dbl>\\\\\n",
       "\\hline\n",
       "\t Emerson:P00001 & 30394\\\\\n",
       "\t Emerson:P00002 &  1940\\\\\n",
       "\t Emerson:P00004 & 48734\\\\\n",
       "\t Emerson:P00005 &  8595\\\\\n",
       "\t Emerson:P00006 &   222\\\\\n",
       "\t Emerson:P00008 &  5723\\\\\n",
       "\\end{tabular}\n"
      ],
      "text/markdown": [
       "\n",
       "A tibble: 6 x 2\n",
       "\n",
       "| subject &lt;chr&gt; | SumCount &lt;dbl&gt; |\n",
       "|---|---|\n",
       "| Emerson:P00001 | 30394 |\n",
       "| Emerson:P00002 |  1940 |\n",
       "| Emerson:P00004 | 48734 |\n",
       "| Emerson:P00005 |  8595 |\n",
       "| Emerson:P00006 |   222 |\n",
       "| Emerson:P00008 |  5723 |\n",
       "\n"
      ],
      "text/plain": [
       "  subject        SumCount\n",
       "1 Emerson:P00001 30394   \n",
       "2 Emerson:P00002  1940   \n",
       "3 Emerson:P00004 48734   \n",
       "4 Emerson:P00005  8595   \n",
       "5 Emerson:P00006   222   \n",
       "6 Emerson:P00008  5723   "
      ]
     },
     "metadata": {},
     "output_type": "display_data"
    }
   ],
   "source": [
    "head(mytab1)"
   ]
  },
  {
   "cell_type": "code",
   "execution_count": null,
   "metadata": {
    "vscode": {
     "languageId": "r"
    }
   },
   "outputs": [],
   "source": [
    "samples_tcr$n_cdr3 <- mytab$n[ match(rownames(samples_tcr), mytab$subject) ]\n",
    "samples_tcr$cdr3_reads <- mytab1$SumCount[ match(rownames(samples_tcr), mytab1$subject) ]"
   ]
  },
  {
   "cell_type": "code",
   "execution_count": null,
   "metadata": {
    "vscode": {
     "languageId": "r"
    }
   },
   "outputs": [
    {
     "data": {
      "text/html": [
       "<table class=\"dataframe\">\n",
       "<caption>A data.frame: 6 x 14</caption>\n",
       "<thead>\n",
       "\t<tr><th></th><th scope=col>CMV</th><th scope=col>EBV</th><th scope=col>HCV</th><th scope=col>Influenza</th><th scope=col>HomoSapiens</th><th scope=col>MDavis</th><th scope=col>HPV</th><th scope=col>CEF</th><th scope=col>TB</th><th scope=col>MCPyV</th><th scope=col>SP</th><th scope=col>DENV</th><th scope=col>n_cdr3</th><th scope=col>cdr3_reads</th></tr>\n",
       "\t<tr><th></th><th scope=col>&lt;dbl&gt;</th><th scope=col>&lt;dbl&gt;</th><th scope=col>&lt;dbl&gt;</th><th scope=col>&lt;dbl&gt;</th><th scope=col>&lt;dbl&gt;</th><th scope=col>&lt;dbl&gt;</th><th scope=col>&lt;dbl&gt;</th><th scope=col>&lt;dbl&gt;</th><th scope=col>&lt;dbl&gt;</th><th scope=col>&lt;dbl&gt;</th><th scope=col>&lt;dbl&gt;</th><th scope=col>&lt;dbl&gt;</th><th scope=col>&lt;int&gt;</th><th scope=col>&lt;dbl&gt;</th></tr>\n",
       "</thead>\n",
       "<tbody>\n",
       "\t<tr><th scope=row>Emerson:P00001</th><td>1</td><td>1</td><td>2</td><td>0</td><td> 7</td><td>403</td><td>2</td><td>0</td><td>0</td><td>3</td><td>0</td><td>0</td><td>314</td><td>30394</td></tr>\n",
       "\t<tr><th scope=row>Emerson:P00002</th><td>2</td><td>1</td><td>1</td><td>0</td><td> 1</td><td>111</td><td>0</td><td>0</td><td>0</td><td>0</td><td>0</td><td>0</td><td> 82</td><td> 1940</td></tr>\n",
       "\t<tr><th scope=row>Emerson:P00004</th><td>6</td><td>5</td><td>4</td><td>7</td><td>19</td><td>667</td><td>1</td><td>0</td><td>0</td><td>3</td><td>0</td><td>0</td><td>504</td><td>48734</td></tr>\n",
       "\t<tr><th scope=row>Emerson:P00005</th><td>3</td><td>0</td><td>1</td><td>0</td><td> 1</td><td>337</td><td>0</td><td>0</td><td>0</td><td>3</td><td>0</td><td>0</td><td>205</td><td> 8595</td></tr>\n",
       "\t<tr><th scope=row>Emerson:P00006</th><td>0</td><td>0</td><td>0</td><td>0</td><td> 0</td><td>  0</td><td>0</td><td>0</td><td>0</td><td>0</td><td>0</td><td>0</td><td>  3</td><td>  222</td></tr>\n",
       "\t<tr><th scope=row>Emerson:P00008</th><td>3</td><td>4</td><td>6</td><td>0</td><td> 9</td><td>439</td><td>0</td><td>0</td><td>0</td><td>0</td><td>0</td><td>0</td><td>252</td><td> 5723</td></tr>\n",
       "</tbody>\n",
       "</table>\n"
      ],
      "text/latex": [
       "A data.frame: 6 x 14\n",
       "\\begin{tabular}{r|llllllllllllll}\n",
       "  & CMV & EBV & HCV & Influenza & HomoSapiens & MDavis & HPV & CEF & TB & MCPyV & SP & DENV & n\\_cdr3 & cdr3\\_reads\\\\\n",
       "  & <dbl> & <dbl> & <dbl> & <dbl> & <dbl> & <dbl> & <dbl> & <dbl> & <dbl> & <dbl> & <dbl> & <dbl> & <int> & <dbl>\\\\\n",
       "\\hline\n",
       "\tEmerson:P00001 & 1 & 1 & 2 & 0 &  7 & 403 & 2 & 0 & 0 & 3 & 0 & 0 & 314 & 30394\\\\\n",
       "\tEmerson:P00002 & 2 & 1 & 1 & 0 &  1 & 111 & 0 & 0 & 0 & 0 & 0 & 0 &  82 &  1940\\\\\n",
       "\tEmerson:P00004 & 6 & 5 & 4 & 7 & 19 & 667 & 1 & 0 & 0 & 3 & 0 & 0 & 504 & 48734\\\\\n",
       "\tEmerson:P00005 & 3 & 0 & 1 & 0 &  1 & 337 & 0 & 0 & 0 & 3 & 0 & 0 & 205 &  8595\\\\\n",
       "\tEmerson:P00006 & 0 & 0 & 0 & 0 &  0 &   0 & 0 & 0 & 0 & 0 & 0 & 0 &   3 &   222\\\\\n",
       "\tEmerson:P00008 & 3 & 4 & 6 & 0 &  9 & 439 & 0 & 0 & 0 & 0 & 0 & 0 & 252 &  5723\\\\\n",
       "\\end{tabular}\n"
      ],
      "text/markdown": [
       "\n",
       "A data.frame: 6 x 14\n",
       "\n",
       "| <!--/--> | CMV &lt;dbl&gt; | EBV &lt;dbl&gt; | HCV &lt;dbl&gt; | Influenza &lt;dbl&gt; | HomoSapiens &lt;dbl&gt; | MDavis &lt;dbl&gt; | HPV &lt;dbl&gt; | CEF &lt;dbl&gt; | TB &lt;dbl&gt; | MCPyV &lt;dbl&gt; | SP &lt;dbl&gt; | DENV &lt;dbl&gt; | n_cdr3 &lt;int&gt; | cdr3_reads &lt;dbl&gt; |\n",
       "|---|---|---|---|---|---|---|---|---|---|---|---|---|---|---|\n",
       "| Emerson:P00001 | 1 | 1 | 2 | 0 |  7 | 403 | 2 | 0 | 0 | 3 | 0 | 0 | 314 | 30394 |\n",
       "| Emerson:P00002 | 2 | 1 | 1 | 0 |  1 | 111 | 0 | 0 | 0 | 0 | 0 | 0 |  82 |  1940 |\n",
       "| Emerson:P00004 | 6 | 5 | 4 | 7 | 19 | 667 | 1 | 0 | 0 | 3 | 0 | 0 | 504 | 48734 |\n",
       "| Emerson:P00005 | 3 | 0 | 1 | 0 |  1 | 337 | 0 | 0 | 0 | 3 | 0 | 0 | 205 |  8595 |\n",
       "| Emerson:P00006 | 0 | 0 | 0 | 0 |  0 |   0 | 0 | 0 | 0 | 0 | 0 | 0 |   3 |   222 |\n",
       "| Emerson:P00008 | 3 | 4 | 6 | 0 |  9 | 439 | 0 | 0 | 0 | 0 | 0 | 0 | 252 |  5723 |\n",
       "\n"
      ],
      "text/plain": [
       "               CMV EBV HCV Influenza HomoSapiens MDavis HPV CEF TB MCPyV SP\n",
       "Emerson:P00001 1   1   2   0          7          403    2   0   0  3     0 \n",
       "Emerson:P00002 2   1   1   0          1          111    0   0   0  0     0 \n",
       "Emerson:P00004 6   5   4   7         19          667    1   0   0  3     0 \n",
       "Emerson:P00005 3   0   1   0          1          337    0   0   0  3     0 \n",
       "Emerson:P00006 0   0   0   0          0            0    0   0   0  0     0 \n",
       "Emerson:P00008 3   4   6   0          9          439    0   0   0  0     0 \n",
       "               DENV n_cdr3 cdr3_reads\n",
       "Emerson:P00001 0    314    30394     \n",
       "Emerson:P00002 0     82     1940     \n",
       "Emerson:P00004 0    504    48734     \n",
       "Emerson:P00005 0    205     8595     \n",
       "Emerson:P00006 0      3      222     \n",
       "Emerson:P00008 0    252     5723     "
      ]
     },
     "metadata": {},
     "output_type": "display_data"
    }
   ],
   "source": [
    "head(samples_tcr)"
   ]
  },
  {
   "cell_type": "code",
   "execution_count": null,
   "metadata": {
    "vscode": {
     "languageId": "r"
    }
   },
   "outputs": [],
   "source": [
    "# get the matrix of GLIPH x samples\n",
    "pat_type <- as.data.frame.matrix(table(gliphout_emerson %>% select(pattern, Sample)))"
   ]
  },
  {
   "cell_type": "code",
   "execution_count": null,
   "metadata": {
    "vscode": {
     "languageId": "r"
    }
   },
   "outputs": [],
   "source": [
    "pat_type <- pat_type[, grepl(\"Emerson\", colnames(pat_type))]"
   ]
  },
  {
   "cell_type": "code",
   "execution_count": null,
   "metadata": {
    "vscode": {
     "languageId": "r"
    }
   },
   "outputs": [
    {
     "data": {
      "text/html": [
       "<table class=\"dataframe\">\n",
       "<caption>A data.frame: 6 x 253</caption>\n",
       "<thead>\n",
       "\t<tr><th></th><th scope=col>Emerson:P00001</th><th scope=col>Emerson:P00002</th><th scope=col>Emerson:P00004</th><th scope=col>Emerson:P00005</th><th scope=col>Emerson:P00006</th><th scope=col>Emerson:P00008</th><th scope=col>Emerson:P00009</th><th scope=col>Emerson:P00011</th><th scope=col>Emerson:P00013</th><th scope=col>Emerson:P00014</th><th scope=col>...</th><th scope=col>Emerson:P00626</th><th scope=col>Emerson:P00628</th><th scope=col>Emerson:P00636</th><th scope=col>Emerson:P00639</th><th scope=col>Emerson:P00647</th><th scope=col>Emerson:P00649</th><th scope=col>Emerson:P00650</th><th scope=col>Emerson:P00654</th><th scope=col>Emerson:P00656</th><th scope=col>Emerson:P00665</th></tr>\n",
       "\t<tr><th></th><th scope=col>&lt;int&gt;</th><th scope=col>&lt;int&gt;</th><th scope=col>&lt;int&gt;</th><th scope=col>&lt;int&gt;</th><th scope=col>&lt;int&gt;</th><th scope=col>&lt;int&gt;</th><th scope=col>&lt;int&gt;</th><th scope=col>&lt;int&gt;</th><th scope=col>&lt;int&gt;</th><th scope=col>&lt;int&gt;</th><th scope=col>...</th><th scope=col>&lt;int&gt;</th><th scope=col>&lt;int&gt;</th><th scope=col>&lt;int&gt;</th><th scope=col>&lt;int&gt;</th><th scope=col>&lt;int&gt;</th><th scope=col>&lt;int&gt;</th><th scope=col>&lt;int&gt;</th><th scope=col>&lt;int&gt;</th><th scope=col>&lt;int&gt;</th><th scope=col>&lt;int&gt;</th></tr>\n",
       "</thead>\n",
       "<tbody>\n",
       "\t<tr><th scope=row>%AAGYG</th><td>0</td><td>0</td><td>0</td><td>0</td><td>0</td><td>0</td><td>0</td><td>0</td><td>0</td><td>0</td><td>...</td><td>0</td><td>0</td><td>0</td><td>0</td><td>0</td><td>0</td><td>0</td><td>0</td><td>0</td><td>0</td></tr>\n",
       "\t<tr><th scope=row>%AANEK</th><td>0</td><td>0</td><td>0</td><td>0</td><td>0</td><td>0</td><td>0</td><td>0</td><td>0</td><td>0</td><td>...</td><td>0</td><td>0</td><td>0</td><td>0</td><td>1</td><td>0</td><td>0</td><td>0</td><td>0</td><td>0</td></tr>\n",
       "\t<tr><th scope=row>%AAQET</th><td>0</td><td>0</td><td>0</td><td>0</td><td>0</td><td>0</td><td>0</td><td>0</td><td>0</td><td>0</td><td>...</td><td>0</td><td>0</td><td>0</td><td>0</td><td>0</td><td>0</td><td>0</td><td>0</td><td>0</td><td>0</td></tr>\n",
       "\t<tr><th scope=row>%ADRLNTE</th><td>0</td><td>0</td><td>0</td><td>0</td><td>0</td><td>0</td><td>0</td><td>0</td><td>0</td><td>0</td><td>...</td><td>0</td><td>0</td><td>0</td><td>0</td><td>0</td><td>0</td><td>0</td><td>0</td><td>0</td><td>0</td></tr>\n",
       "\t<tr><th scope=row>%ADSGNT</th><td>0</td><td>0</td><td>0</td><td>0</td><td>0</td><td>0</td><td>0</td><td>0</td><td>0</td><td>0</td><td>...</td><td>0</td><td>0</td><td>0</td><td>1</td><td>0</td><td>0</td><td>0</td><td>0</td><td>0</td><td>0</td></tr>\n",
       "\t<tr><th scope=row>%ADT</th><td>0</td><td>0</td><td>0</td><td>0</td><td>0</td><td>0</td><td>0</td><td>0</td><td>0</td><td>0</td><td>...</td><td>0</td><td>0</td><td>0</td><td>0</td><td>0</td><td>0</td><td>0</td><td>0</td><td>0</td><td>0</td></tr>\n",
       "</tbody>\n",
       "</table>\n"
      ],
      "text/latex": [
       "A data.frame: 6 x 253\n",
       "\\begin{tabular}{r|lllllllllllllllllllll}\n",
       "  & Emerson:P00001 & Emerson:P00002 & Emerson:P00004 & Emerson:P00005 & Emerson:P00006 & Emerson:P00008 & Emerson:P00009 & Emerson:P00011 & Emerson:P00013 & Emerson:P00014 & ... & Emerson:P00626 & Emerson:P00628 & Emerson:P00636 & Emerson:P00639 & Emerson:P00647 & Emerson:P00649 & Emerson:P00650 & Emerson:P00654 & Emerson:P00656 & Emerson:P00665\\\\\n",
       "  & <int> & <int> & <int> & <int> & <int> & <int> & <int> & <int> & <int> & <int> & ... & <int> & <int> & <int> & <int> & <int> & <int> & <int> & <int> & <int> & <int>\\\\\n",
       "\\hline\n",
       "\t\\%AAGYG & 0 & 0 & 0 & 0 & 0 & 0 & 0 & 0 & 0 & 0 & ... & 0 & 0 & 0 & 0 & 0 & 0 & 0 & 0 & 0 & 0\\\\\n",
       "\t\\%AANEK & 0 & 0 & 0 & 0 & 0 & 0 & 0 & 0 & 0 & 0 & ... & 0 & 0 & 0 & 0 & 1 & 0 & 0 & 0 & 0 & 0\\\\\n",
       "\t\\%AAQET & 0 & 0 & 0 & 0 & 0 & 0 & 0 & 0 & 0 & 0 & ... & 0 & 0 & 0 & 0 & 0 & 0 & 0 & 0 & 0 & 0\\\\\n",
       "\t\\%ADRLNTE & 0 & 0 & 0 & 0 & 0 & 0 & 0 & 0 & 0 & 0 & ... & 0 & 0 & 0 & 0 & 0 & 0 & 0 & 0 & 0 & 0\\\\\n",
       "\t\\%ADSGNT & 0 & 0 & 0 & 0 & 0 & 0 & 0 & 0 & 0 & 0 & ... & 0 & 0 & 0 & 1 & 0 & 0 & 0 & 0 & 0 & 0\\\\\n",
       "\t\\%ADT & 0 & 0 & 0 & 0 & 0 & 0 & 0 & 0 & 0 & 0 & ... & 0 & 0 & 0 & 0 & 0 & 0 & 0 & 0 & 0 & 0\\\\\n",
       "\\end{tabular}\n"
      ],
      "text/markdown": [
       "\n",
       "A data.frame: 6 x 253\n",
       "\n",
       "| <!--/--> | Emerson:P00001 &lt;int&gt; | Emerson:P00002 &lt;int&gt; | Emerson:P00004 &lt;int&gt; | Emerson:P00005 &lt;int&gt; | Emerson:P00006 &lt;int&gt; | Emerson:P00008 &lt;int&gt; | Emerson:P00009 &lt;int&gt; | Emerson:P00011 &lt;int&gt; | Emerson:P00013 &lt;int&gt; | Emerson:P00014 &lt;int&gt; | ... ... | Emerson:P00626 &lt;int&gt; | Emerson:P00628 &lt;int&gt; | Emerson:P00636 &lt;int&gt; | Emerson:P00639 &lt;int&gt; | Emerson:P00647 &lt;int&gt; | Emerson:P00649 &lt;int&gt; | Emerson:P00650 &lt;int&gt; | Emerson:P00654 &lt;int&gt; | Emerson:P00656 &lt;int&gt; | Emerson:P00665 &lt;int&gt; |\n",
       "|---|---|---|---|---|---|---|---|---|---|---|---|---|---|---|---|---|---|---|---|---|---|\n",
       "| %AAGYG | 0 | 0 | 0 | 0 | 0 | 0 | 0 | 0 | 0 | 0 | ... | 0 | 0 | 0 | 0 | 0 | 0 | 0 | 0 | 0 | 0 |\n",
       "| %AANEK | 0 | 0 | 0 | 0 | 0 | 0 | 0 | 0 | 0 | 0 | ... | 0 | 0 | 0 | 0 | 1 | 0 | 0 | 0 | 0 | 0 |\n",
       "| %AAQET | 0 | 0 | 0 | 0 | 0 | 0 | 0 | 0 | 0 | 0 | ... | 0 | 0 | 0 | 0 | 0 | 0 | 0 | 0 | 0 | 0 |\n",
       "| %ADRLNTE | 0 | 0 | 0 | 0 | 0 | 0 | 0 | 0 | 0 | 0 | ... | 0 | 0 | 0 | 0 | 0 | 0 | 0 | 0 | 0 | 0 |\n",
       "| %ADSGNT | 0 | 0 | 0 | 0 | 0 | 0 | 0 | 0 | 0 | 0 | ... | 0 | 0 | 0 | 1 | 0 | 0 | 0 | 0 | 0 | 0 |\n",
       "| %ADT | 0 | 0 | 0 | 0 | 0 | 0 | 0 | 0 | 0 | 0 | ... | 0 | 0 | 0 | 0 | 0 | 0 | 0 | 0 | 0 | 0 |\n",
       "\n"
      ],
      "text/plain": [
       "         Emerson:P00001 Emerson:P00002 Emerson:P00004 Emerson:P00005\n",
       "%AAGYG   0              0              0              0             \n",
       "%AANEK   0              0              0              0             \n",
       "%AAQET   0              0              0              0             \n",
       "%ADRLNTE 0              0              0              0             \n",
       "%ADSGNT  0              0              0              0             \n",
       "%ADT     0              0              0              0             \n",
       "         Emerson:P00006 Emerson:P00008 Emerson:P00009 Emerson:P00011\n",
       "%AAGYG   0              0              0              0             \n",
       "%AANEK   0              0              0              0             \n",
       "%AAQET   0              0              0              0             \n",
       "%ADRLNTE 0              0              0              0             \n",
       "%ADSGNT  0              0              0              0             \n",
       "%ADT     0              0              0              0             \n",
       "         Emerson:P00013 Emerson:P00014 ... Emerson:P00626 Emerson:P00628\n",
       "%AAGYG   0              0              ... 0              0             \n",
       "%AANEK   0              0              ... 0              0             \n",
       "%AAQET   0              0              ... 0              0             \n",
       "%ADRLNTE 0              0              ... 0              0             \n",
       "%ADSGNT  0              0              ... 0              0             \n",
       "%ADT     0              0              ... 0              0             \n",
       "         Emerson:P00636 Emerson:P00639 Emerson:P00647 Emerson:P00649\n",
       "%AAGYG   0              0              0              0             \n",
       "%AANEK   0              0              1              0             \n",
       "%AAQET   0              0              0              0             \n",
       "%ADRLNTE 0              0              0              0             \n",
       "%ADSGNT  0              1              0              0             \n",
       "%ADT     0              0              0              0             \n",
       "         Emerson:P00650 Emerson:P00654 Emerson:P00656 Emerson:P00665\n",
       "%AAGYG   0              0              0              0             \n",
       "%AANEK   0              0              0              0             \n",
       "%AAQET   0              0              0              0             \n",
       "%ADRLNTE 0              0              0              0             \n",
       "%ADSGNT  0              0              0              0             \n",
       "%ADT     0              0              0              0             "
      ]
     },
     "metadata": {},
     "output_type": "display_data"
    }
   ],
   "source": [
    "head(pat_type)"
   ]
  },
  {
   "cell_type": "code",
   "execution_count": null,
   "metadata": {
    "vscode": {
     "languageId": "r"
    }
   },
   "outputs": [],
   "source": [
    "pat_type[ pat_type > 0] <- 1 # sometimes for one sample there are two CDR3s grouped in one cluster, recode to 1 to count once"
   ]
  },
  {
   "cell_type": "code",
   "execution_count": null,
   "metadata": {
    "vscode": {
     "languageId": "r"
    }
   },
   "outputs": [],
   "source": [
    "# fill n_gliph for each samples\n",
    "n_gliph <- colSums(pat_type)"
   ]
  },
  {
   "cell_type": "code",
   "execution_count": null,
   "metadata": {
    "vscode": {
     "languageId": "r"
    }
   },
   "outputs": [],
   "source": [
    "samples_tcr$n_gliph <- n_gliph[ match(rownames(samples_tcr), names(n_gliph)) ]"
   ]
  },
  {
   "cell_type": "code",
   "execution_count": null,
   "metadata": {
    "vscode": {
     "languageId": "r"
    }
   },
   "outputs": [
    {
     "data": {
      "text/html": [
       "<table class=\"dataframe\">\n",
       "<caption>A data.frame: 6 x 15</caption>\n",
       "<thead>\n",
       "\t<tr><th></th><th scope=col>CMV</th><th scope=col>EBV</th><th scope=col>HCV</th><th scope=col>Influenza</th><th scope=col>HomoSapiens</th><th scope=col>MDavis</th><th scope=col>HPV</th><th scope=col>CEF</th><th scope=col>TB</th><th scope=col>MCPyV</th><th scope=col>SP</th><th scope=col>DENV</th><th scope=col>n_cdr3</th><th scope=col>cdr3_reads</th><th scope=col>n_gliph</th></tr>\n",
       "\t<tr><th></th><th scope=col>&lt;dbl&gt;</th><th scope=col>&lt;dbl&gt;</th><th scope=col>&lt;dbl&gt;</th><th scope=col>&lt;dbl&gt;</th><th scope=col>&lt;dbl&gt;</th><th scope=col>&lt;dbl&gt;</th><th scope=col>&lt;dbl&gt;</th><th scope=col>&lt;dbl&gt;</th><th scope=col>&lt;dbl&gt;</th><th scope=col>&lt;dbl&gt;</th><th scope=col>&lt;dbl&gt;</th><th scope=col>&lt;dbl&gt;</th><th scope=col>&lt;int&gt;</th><th scope=col>&lt;dbl&gt;</th><th scope=col>&lt;dbl&gt;</th></tr>\n",
       "</thead>\n",
       "<tbody>\n",
       "\t<tr><th scope=row>Emerson:P00001</th><td>1</td><td>1</td><td>2</td><td>0</td><td> 7</td><td>403</td><td>2</td><td>0</td><td>0</td><td>3</td><td>0</td><td>0</td><td>314</td><td>30394</td><td>333</td></tr>\n",
       "\t<tr><th scope=row>Emerson:P00002</th><td>2</td><td>1</td><td>1</td><td>0</td><td> 1</td><td>111</td><td>0</td><td>0</td><td>0</td><td>0</td><td>0</td><td>0</td><td> 82</td><td> 1940</td><td> 73</td></tr>\n",
       "\t<tr><th scope=row>Emerson:P00004</th><td>6</td><td>5</td><td>4</td><td>7</td><td>19</td><td>667</td><td>1</td><td>0</td><td>0</td><td>3</td><td>0</td><td>0</td><td>504</td><td>48734</td><td>521</td></tr>\n",
       "\t<tr><th scope=row>Emerson:P00005</th><td>3</td><td>0</td><td>1</td><td>0</td><td> 1</td><td>337</td><td>0</td><td>0</td><td>0</td><td>3</td><td>0</td><td>0</td><td>205</td><td> 8595</td><td>193</td></tr>\n",
       "\t<tr><th scope=row>Emerson:P00006</th><td>0</td><td>0</td><td>0</td><td>0</td><td> 0</td><td>  0</td><td>0</td><td>0</td><td>0</td><td>0</td><td>0</td><td>0</td><td>  3</td><td>  222</td><td>  1</td></tr>\n",
       "\t<tr><th scope=row>Emerson:P00008</th><td>3</td><td>4</td><td>6</td><td>0</td><td> 9</td><td>439</td><td>0</td><td>0</td><td>0</td><td>0</td><td>0</td><td>0</td><td>252</td><td> 5723</td><td>276</td></tr>\n",
       "</tbody>\n",
       "</table>\n"
      ],
      "text/latex": [
       "A data.frame: 6 x 15\n",
       "\\begin{tabular}{r|lllllllllllllll}\n",
       "  & CMV & EBV & HCV & Influenza & HomoSapiens & MDavis & HPV & CEF & TB & MCPyV & SP & DENV & n\\_cdr3 & cdr3\\_reads & n\\_gliph\\\\\n",
       "  & <dbl> & <dbl> & <dbl> & <dbl> & <dbl> & <dbl> & <dbl> & <dbl> & <dbl> & <dbl> & <dbl> & <dbl> & <int> & <dbl> & <dbl>\\\\\n",
       "\\hline\n",
       "\tEmerson:P00001 & 1 & 1 & 2 & 0 &  7 & 403 & 2 & 0 & 0 & 3 & 0 & 0 & 314 & 30394 & 333\\\\\n",
       "\tEmerson:P00002 & 2 & 1 & 1 & 0 &  1 & 111 & 0 & 0 & 0 & 0 & 0 & 0 &  82 &  1940 &  73\\\\\n",
       "\tEmerson:P00004 & 6 & 5 & 4 & 7 & 19 & 667 & 1 & 0 & 0 & 3 & 0 & 0 & 504 & 48734 & 521\\\\\n",
       "\tEmerson:P00005 & 3 & 0 & 1 & 0 &  1 & 337 & 0 & 0 & 0 & 3 & 0 & 0 & 205 &  8595 & 193\\\\\n",
       "\tEmerson:P00006 & 0 & 0 & 0 & 0 &  0 &   0 & 0 & 0 & 0 & 0 & 0 & 0 &   3 &   222 &   1\\\\\n",
       "\tEmerson:P00008 & 3 & 4 & 6 & 0 &  9 & 439 & 0 & 0 & 0 & 0 & 0 & 0 & 252 &  5723 & 276\\\\\n",
       "\\end{tabular}\n"
      ],
      "text/markdown": [
       "\n",
       "A data.frame: 6 x 15\n",
       "\n",
       "| <!--/--> | CMV &lt;dbl&gt; | EBV &lt;dbl&gt; | HCV &lt;dbl&gt; | Influenza &lt;dbl&gt; | HomoSapiens &lt;dbl&gt; | MDavis &lt;dbl&gt; | HPV &lt;dbl&gt; | CEF &lt;dbl&gt; | TB &lt;dbl&gt; | MCPyV &lt;dbl&gt; | SP &lt;dbl&gt; | DENV &lt;dbl&gt; | n_cdr3 &lt;int&gt; | cdr3_reads &lt;dbl&gt; | n_gliph &lt;dbl&gt; |\n",
       "|---|---|---|---|---|---|---|---|---|---|---|---|---|---|---|---|\n",
       "| Emerson:P00001 | 1 | 1 | 2 | 0 |  7 | 403 | 2 | 0 | 0 | 3 | 0 | 0 | 314 | 30394 | 333 |\n",
       "| Emerson:P00002 | 2 | 1 | 1 | 0 |  1 | 111 | 0 | 0 | 0 | 0 | 0 | 0 |  82 |  1940 |  73 |\n",
       "| Emerson:P00004 | 6 | 5 | 4 | 7 | 19 | 667 | 1 | 0 | 0 | 3 | 0 | 0 | 504 | 48734 | 521 |\n",
       "| Emerson:P00005 | 3 | 0 | 1 | 0 |  1 | 337 | 0 | 0 | 0 | 3 | 0 | 0 | 205 |  8595 | 193 |\n",
       "| Emerson:P00006 | 0 | 0 | 0 | 0 |  0 |   0 | 0 | 0 | 0 | 0 | 0 | 0 |   3 |   222 |   1 |\n",
       "| Emerson:P00008 | 3 | 4 | 6 | 0 |  9 | 439 | 0 | 0 | 0 | 0 | 0 | 0 | 252 |  5723 | 276 |\n",
       "\n"
      ],
      "text/plain": [
       "               CMV EBV HCV Influenza HomoSapiens MDavis HPV CEF TB MCPyV SP\n",
       "Emerson:P00001 1   1   2   0          7          403    2   0   0  3     0 \n",
       "Emerson:P00002 2   1   1   0          1          111    0   0   0  0     0 \n",
       "Emerson:P00004 6   5   4   7         19          667    1   0   0  3     0 \n",
       "Emerson:P00005 3   0   1   0          1          337    0   0   0  3     0 \n",
       "Emerson:P00006 0   0   0   0          0            0    0   0   0  0     0 \n",
       "Emerson:P00008 3   4   6   0          9          439    0   0   0  0     0 \n",
       "               DENV n_cdr3 cdr3_reads n_gliph\n",
       "Emerson:P00001 0    314    30394      333    \n",
       "Emerson:P00002 0     82     1940       73    \n",
       "Emerson:P00004 0    504    48734      521    \n",
       "Emerson:P00005 0    205     8595      193    \n",
       "Emerson:P00006 0      3      222        1    \n",
       "Emerson:P00008 0    252     5723      276    "
      ]
     },
     "metadata": {},
     "output_type": "display_data"
    }
   ],
   "source": [
    "head(samples_tcr)"
   ]
  },
  {
   "cell_type": "code",
   "execution_count": null,
   "metadata": {
    "vscode": {
     "languageId": "r"
    }
   },
   "outputs": [
    {
     "data": {
      "text/html": [
       "<style>\n",
       ".list-inline {list-style: none; margin:0; padding: 0}\n",
       ".list-inline>li {display: inline-block}\n",
       ".list-inline>li:not(:last-child)::after {content: \"\\00b7\"; padding: 0 .5ex}\n",
       "</style>\n",
       "<ol class=list-inline><li>'MDavis:DRB10401'</li><li>'MDavis:DRB10401'</li><li>'MDavis:DRB10401'</li><li>'Emerson:P00014'</li><li>'Emerson:P00486'</li><li>'MDavis:DRB10401'</li></ol>\n"
      ],
      "text/latex": [
       "\\begin{enumerate*}\n",
       "\\item 'MDavis:DRB10401'\n",
       "\\item 'MDavis:DRB10401'\n",
       "\\item 'MDavis:DRB10401'\n",
       "\\item 'Emerson:P00014'\n",
       "\\item 'Emerson:P00486'\n",
       "\\item 'MDavis:DRB10401'\n",
       "\\end{enumerate*}\n"
      ],
      "text/markdown": [
       "1. 'MDavis:DRB10401'\n",
       "2. 'MDavis:DRB10401'\n",
       "3. 'MDavis:DRB10401'\n",
       "4. 'Emerson:P00014'\n",
       "5. 'Emerson:P00486'\n",
       "6. 'MDavis:DRB10401'\n",
       "\n",
       "\n"
      ],
      "text/plain": [
       "[1] \"MDavis:DRB10401\" \"MDavis:DRB10401\" \"MDavis:DRB10401\" \"Emerson:P00014\" \n",
       "[5] \"Emerson:P00486\"  \"MDavis:DRB10401\""
      ]
     },
     "metadata": {},
     "output_type": "display_data"
    }
   ],
   "source": [
    "head(gliphout_emerson$Sample)"
   ]
  },
  {
   "cell_type": "code",
   "execution_count": null,
   "metadata": {
    "vscode": {
     "languageId": "r"
    }
   },
   "outputs": [],
   "source": [
    "# get number of unique cdr3s used in gliph for each sample\n",
    "samples_tcr$n_cdr3ingliph <- NA\n",
    "samples_tcr$cdr3reads_ingliph <- NA\n",
    "for (i in 1:nrow(samples_tcr)) {\n",
    "    mysample <- gliphout_emerson[gliphout_emerson$Sample == rownames(samples_tcr)[i], ]\n",
    "    samples_tcr$n_cdr3ingliph[i] <- length(unique(mysample$TcRb))\n",
    "    samples_tcr$cdr3reads_ingliph[i] <- sum(mysample$Freq)\n",
    "}"
   ]
  },
  {
   "cell_type": "code",
   "execution_count": null,
   "metadata": {
    "vscode": {
     "languageId": "r"
    }
   },
   "outputs": [
    {
     "data": {
      "text/html": [
       "<table class=\"dataframe\">\n",
       "<caption>A data.frame: 6 x 17</caption>\n",
       "<thead>\n",
       "\t<tr><th></th><th scope=col>CMV</th><th scope=col>EBV</th><th scope=col>HCV</th><th scope=col>Influenza</th><th scope=col>HomoSapiens</th><th scope=col>MDavis</th><th scope=col>HPV</th><th scope=col>CEF</th><th scope=col>TB</th><th scope=col>MCPyV</th><th scope=col>SP</th><th scope=col>DENV</th><th scope=col>n_cdr3</th><th scope=col>cdr3_reads</th><th scope=col>n_gliph</th><th scope=col>n_cdr3ingliph</th><th scope=col>cdr3reads_ingliph</th></tr>\n",
       "\t<tr><th></th><th scope=col>&lt;dbl&gt;</th><th scope=col>&lt;dbl&gt;</th><th scope=col>&lt;dbl&gt;</th><th scope=col>&lt;dbl&gt;</th><th scope=col>&lt;dbl&gt;</th><th scope=col>&lt;dbl&gt;</th><th scope=col>&lt;dbl&gt;</th><th scope=col>&lt;dbl&gt;</th><th scope=col>&lt;dbl&gt;</th><th scope=col>&lt;dbl&gt;</th><th scope=col>&lt;dbl&gt;</th><th scope=col>&lt;dbl&gt;</th><th scope=col>&lt;int&gt;</th><th scope=col>&lt;dbl&gt;</th><th scope=col>&lt;dbl&gt;</th><th scope=col>&lt;int&gt;</th><th scope=col>&lt;dbl&gt;</th></tr>\n",
       "</thead>\n",
       "<tbody>\n",
       "\t<tr><th scope=row>Emerson:P00001</th><td>1</td><td>1</td><td>2</td><td>0</td><td> 7</td><td>403</td><td>2</td><td>0</td><td>0</td><td>3</td><td>0</td><td>0</td><td>314</td><td>30394</td><td>333</td><td>150</td><td>33353</td></tr>\n",
       "\t<tr><th scope=row>Emerson:P00002</th><td>2</td><td>1</td><td>1</td><td>0</td><td> 1</td><td>111</td><td>0</td><td>0</td><td>0</td><td>0</td><td>0</td><td>0</td><td> 82</td><td> 1940</td><td> 73</td><td> 36</td><td> 1637</td></tr>\n",
       "\t<tr><th scope=row>Emerson:P00004</th><td>6</td><td>5</td><td>4</td><td>7</td><td>19</td><td>667</td><td>1</td><td>0</td><td>0</td><td>3</td><td>0</td><td>0</td><td>504</td><td>48734</td><td>521</td><td>215</td><td>63165</td></tr>\n",
       "\t<tr><th scope=row>Emerson:P00005</th><td>3</td><td>0</td><td>1</td><td>0</td><td> 1</td><td>337</td><td>0</td><td>0</td><td>0</td><td>3</td><td>0</td><td>0</td><td>205</td><td> 8595</td><td>193</td><td> 97</td><td> 6399</td></tr>\n",
       "\t<tr><th scope=row>Emerson:P00006</th><td>0</td><td>0</td><td>0</td><td>0</td><td> 0</td><td>  0</td><td>0</td><td>0</td><td>0</td><td>0</td><td>0</td><td>0</td><td>  3</td><td>  222</td><td>  1</td><td>  1</td><td>   68</td></tr>\n",
       "\t<tr><th scope=row>Emerson:P00008</th><td>3</td><td>4</td><td>6</td><td>0</td><td> 9</td><td>439</td><td>0</td><td>0</td><td>0</td><td>0</td><td>0</td><td>0</td><td>252</td><td> 5723</td><td>276</td><td>117</td><td> 5759</td></tr>\n",
       "</tbody>\n",
       "</table>\n"
      ],
      "text/latex": [
       "A data.frame: 6 x 17\n",
       "\\begin{tabular}{r|lllllllllllllllll}\n",
       "  & CMV & EBV & HCV & Influenza & HomoSapiens & MDavis & HPV & CEF & TB & MCPyV & SP & DENV & n\\_cdr3 & cdr3\\_reads & n\\_gliph & n\\_cdr3ingliph & cdr3reads\\_ingliph\\\\\n",
       "  & <dbl> & <dbl> & <dbl> & <dbl> & <dbl> & <dbl> & <dbl> & <dbl> & <dbl> & <dbl> & <dbl> & <dbl> & <int> & <dbl> & <dbl> & <int> & <dbl>\\\\\n",
       "\\hline\n",
       "\tEmerson:P00001 & 1 & 1 & 2 & 0 &  7 & 403 & 2 & 0 & 0 & 3 & 0 & 0 & 314 & 30394 & 333 & 150 & 33353\\\\\n",
       "\tEmerson:P00002 & 2 & 1 & 1 & 0 &  1 & 111 & 0 & 0 & 0 & 0 & 0 & 0 &  82 &  1940 &  73 &  36 &  1637\\\\\n",
       "\tEmerson:P00004 & 6 & 5 & 4 & 7 & 19 & 667 & 1 & 0 & 0 & 3 & 0 & 0 & 504 & 48734 & 521 & 215 & 63165\\\\\n",
       "\tEmerson:P00005 & 3 & 0 & 1 & 0 &  1 & 337 & 0 & 0 & 0 & 3 & 0 & 0 & 205 &  8595 & 193 &  97 &  6399\\\\\n",
       "\tEmerson:P00006 & 0 & 0 & 0 & 0 &  0 &   0 & 0 & 0 & 0 & 0 & 0 & 0 &   3 &   222 &   1 &   1 &    68\\\\\n",
       "\tEmerson:P00008 & 3 & 4 & 6 & 0 &  9 & 439 & 0 & 0 & 0 & 0 & 0 & 0 & 252 &  5723 & 276 & 117 &  5759\\\\\n",
       "\\end{tabular}\n"
      ],
      "text/markdown": [
       "\n",
       "A data.frame: 6 x 17\n",
       "\n",
       "| <!--/--> | CMV &lt;dbl&gt; | EBV &lt;dbl&gt; | HCV &lt;dbl&gt; | Influenza &lt;dbl&gt; | HomoSapiens &lt;dbl&gt; | MDavis &lt;dbl&gt; | HPV &lt;dbl&gt; | CEF &lt;dbl&gt; | TB &lt;dbl&gt; | MCPyV &lt;dbl&gt; | SP &lt;dbl&gt; | DENV &lt;dbl&gt; | n_cdr3 &lt;int&gt; | cdr3_reads &lt;dbl&gt; | n_gliph &lt;dbl&gt; | n_cdr3ingliph &lt;int&gt; | cdr3reads_ingliph &lt;dbl&gt; |\n",
       "|---|---|---|---|---|---|---|---|---|---|---|---|---|---|---|---|---|---|\n",
       "| Emerson:P00001 | 1 | 1 | 2 | 0 |  7 | 403 | 2 | 0 | 0 | 3 | 0 | 0 | 314 | 30394 | 333 | 150 | 33353 |\n",
       "| Emerson:P00002 | 2 | 1 | 1 | 0 |  1 | 111 | 0 | 0 | 0 | 0 | 0 | 0 |  82 |  1940 |  73 |  36 |  1637 |\n",
       "| Emerson:P00004 | 6 | 5 | 4 | 7 | 19 | 667 | 1 | 0 | 0 | 3 | 0 | 0 | 504 | 48734 | 521 | 215 | 63165 |\n",
       "| Emerson:P00005 | 3 | 0 | 1 | 0 |  1 | 337 | 0 | 0 | 0 | 3 | 0 | 0 | 205 |  8595 | 193 |  97 |  6399 |\n",
       "| Emerson:P00006 | 0 | 0 | 0 | 0 |  0 |   0 | 0 | 0 | 0 | 0 | 0 | 0 |   3 |   222 |   1 |   1 |    68 |\n",
       "| Emerson:P00008 | 3 | 4 | 6 | 0 |  9 | 439 | 0 | 0 | 0 | 0 | 0 | 0 | 252 |  5723 | 276 | 117 |  5759 |\n",
       "\n"
      ],
      "text/plain": [
       "               CMV EBV HCV Influenza HomoSapiens MDavis HPV CEF TB MCPyV SP\n",
       "Emerson:P00001 1   1   2   0          7          403    2   0   0  3     0 \n",
       "Emerson:P00002 2   1   1   0          1          111    0   0   0  0     0 \n",
       "Emerson:P00004 6   5   4   7         19          667    1   0   0  3     0 \n",
       "Emerson:P00005 3   0   1   0          1          337    0   0   0  3     0 \n",
       "Emerson:P00006 0   0   0   0          0            0    0   0   0  0     0 \n",
       "Emerson:P00008 3   4   6   0          9          439    0   0   0  0     0 \n",
       "               DENV n_cdr3 cdr3_reads n_gliph n_cdr3ingliph cdr3reads_ingliph\n",
       "Emerson:P00001 0    314    30394      333     150           33353            \n",
       "Emerson:P00002 0     82     1940       73      36            1637            \n",
       "Emerson:P00004 0    504    48734      521     215           63165            \n",
       "Emerson:P00005 0    205     8595      193      97            6399            \n",
       "Emerson:P00006 0      3      222        1       1              68            \n",
       "Emerson:P00008 0    252     5723      276     117            5759            "
      ]
     },
     "metadata": {},
     "output_type": "display_data"
    }
   ],
   "source": [
    "head(samples_tcr)"
   ]
  },
  {
   "cell_type": "code",
   "execution_count": null,
   "metadata": {
    "vscode": {
     "languageId": "r"
    }
   },
   "outputs": [],
   "source": [
    "samples_tcr$study <- \"Emerson_adult\""
   ]
  },
  {
   "cell_type": "code",
   "execution_count": null,
   "metadata": {
    "vscode": {
     "languageId": "r"
    }
   },
   "outputs": [
    {
     "data": {
      "text/html": [
       "<table class=\"dataframe\">\n",
       "<caption>A data.frame: 6 x 14</caption>\n",
       "<thead>\n",
       "\t<tr><th></th><th scope=col>gliph</th><th scope=col>CMV</th><th scope=col>EBV</th><th scope=col>HCV</th><th scope=col>Influenza</th><th scope=col>HomoSapiens</th><th scope=col>MDavis</th><th scope=col>HPV</th><th scope=col>CEF</th><th scope=col>TB</th><th scope=col>MCPyV</th><th scope=col>SP</th><th scope=col>DENV</th><th scope=col>n_unique_cdr3</th></tr>\n",
       "\t<tr><th></th><th scope=col>&lt;chr&gt;</th><th scope=col>&lt;dbl&gt;</th><th scope=col>&lt;dbl&gt;</th><th scope=col>&lt;dbl&gt;</th><th scope=col>&lt;dbl&gt;</th><th scope=col>&lt;dbl&gt;</th><th scope=col>&lt;dbl&gt;</th><th scope=col>&lt;dbl&gt;</th><th scope=col>&lt;dbl&gt;</th><th scope=col>&lt;dbl&gt;</th><th scope=col>&lt;dbl&gt;</th><th scope=col>&lt;dbl&gt;</th><th scope=col>&lt;dbl&gt;</th><th scope=col>&lt;int&gt;</th></tr>\n",
       "</thead>\n",
       "<tbody>\n",
       "\t<tr><th scope=row>SLG%E</th><td>SLG%E  </td><td>0</td><td>0</td><td>0</td><td>0</td><td>0</td><td>39</td><td>0</td><td>0</td><td>0</td><td>0</td><td>0</td><td>0</td><td>53</td></tr>\n",
       "\t<tr><th scope=row>S%GGNTE</th><td>S%GGNTE</td><td>0</td><td>0</td><td>0</td><td>0</td><td>1</td><td>40</td><td>0</td><td>0</td><td>0</td><td>0</td><td>0</td><td>0</td><td>42</td></tr>\n",
       "\t<tr><th scope=row>YDTG</th><td>YDTG   </td><td>0</td><td>0</td><td>0</td><td>0</td><td>0</td><td>75</td><td>0</td><td>0</td><td>0</td><td>0</td><td>0</td><td>0</td><td>78</td></tr>\n",
       "\t<tr><th scope=row>S%SGANV</th><td>S%SGANV</td><td>0</td><td>0</td><td>0</td><td>0</td><td>0</td><td>34</td><td>0</td><td>0</td><td>0</td><td>0</td><td>0</td><td>0</td><td>36</td></tr>\n",
       "\t<tr><th scope=row>S%TGNTE</th><td>S%TGNTE</td><td>0</td><td>0</td><td>0</td><td>0</td><td>0</td><td>34</td><td>0</td><td>0</td><td>0</td><td>0</td><td>0</td><td>0</td><td>35</td></tr>\n",
       "\t<tr><th scope=row>SVG%NTE</th><td>SVG%NTE</td><td>0</td><td>0</td><td>0</td><td>0</td><td>0</td><td>28</td><td>0</td><td>0</td><td>0</td><td>0</td><td>0</td><td>0</td><td>31</td></tr>\n",
       "</tbody>\n",
       "</table>\n"
      ],
      "text/latex": [
       "A data.frame: 6 x 14\n",
       "\\begin{tabular}{r|llllllllllllll}\n",
       "  & gliph & CMV & EBV & HCV & Influenza & HomoSapiens & MDavis & HPV & CEF & TB & MCPyV & SP & DENV & n\\_unique\\_cdr3\\\\\n",
       "  & <chr> & <dbl> & <dbl> & <dbl> & <dbl> & <dbl> & <dbl> & <dbl> & <dbl> & <dbl> & <dbl> & <dbl> & <dbl> & <int>\\\\\n",
       "\\hline\n",
       "\tSLG\\%E & SLG\\%E   & 0 & 0 & 0 & 0 & 0 & 39 & 0 & 0 & 0 & 0 & 0 & 0 & 53\\\\\n",
       "\tS\\%GGNTE & S\\%GGNTE & 0 & 0 & 0 & 0 & 1 & 40 & 0 & 0 & 0 & 0 & 0 & 0 & 42\\\\\n",
       "\tYDTG & YDTG    & 0 & 0 & 0 & 0 & 0 & 75 & 0 & 0 & 0 & 0 & 0 & 0 & 78\\\\\n",
       "\tS\\%SGANV & S\\%SGANV & 0 & 0 & 0 & 0 & 0 & 34 & 0 & 0 & 0 & 0 & 0 & 0 & 36\\\\\n",
       "\tS\\%TGNTE & S\\%TGNTE & 0 & 0 & 0 & 0 & 0 & 34 & 0 & 0 & 0 & 0 & 0 & 0 & 35\\\\\n",
       "\tSVG\\%NTE & SVG\\%NTE & 0 & 0 & 0 & 0 & 0 & 28 & 0 & 0 & 0 & 0 & 0 & 0 & 31\\\\\n",
       "\\end{tabular}\n"
      ],
      "text/markdown": [
       "\n",
       "A data.frame: 6 x 14\n",
       "\n",
       "| <!--/--> | gliph &lt;chr&gt; | CMV &lt;dbl&gt; | EBV &lt;dbl&gt; | HCV &lt;dbl&gt; | Influenza &lt;dbl&gt; | HomoSapiens &lt;dbl&gt; | MDavis &lt;dbl&gt; | HPV &lt;dbl&gt; | CEF &lt;dbl&gt; | TB &lt;dbl&gt; | MCPyV &lt;dbl&gt; | SP &lt;dbl&gt; | DENV &lt;dbl&gt; | n_unique_cdr3 &lt;int&gt; |\n",
       "|---|---|---|---|---|---|---|---|---|---|---|---|---|---|---|\n",
       "| SLG%E | SLG%E   | 0 | 0 | 0 | 0 | 0 | 39 | 0 | 0 | 0 | 0 | 0 | 0 | 53 |\n",
       "| S%GGNTE | S%GGNTE | 0 | 0 | 0 | 0 | 1 | 40 | 0 | 0 | 0 | 0 | 0 | 0 | 42 |\n",
       "| YDTG | YDTG    | 0 | 0 | 0 | 0 | 0 | 75 | 0 | 0 | 0 | 0 | 0 | 0 | 78 |\n",
       "| S%SGANV | S%SGANV | 0 | 0 | 0 | 0 | 0 | 34 | 0 | 0 | 0 | 0 | 0 | 0 | 36 |\n",
       "| S%TGNTE | S%TGNTE | 0 | 0 | 0 | 0 | 0 | 34 | 0 | 0 | 0 | 0 | 0 | 0 | 35 |\n",
       "| SVG%NTE | SVG%NTE | 0 | 0 | 0 | 0 | 0 | 28 | 0 | 0 | 0 | 0 | 0 | 0 | 31 |\n",
       "\n"
      ],
      "text/plain": [
       "        gliph   CMV EBV HCV Influenza HomoSapiens MDavis HPV CEF TB MCPyV SP\n",
       "SLG%E   SLG%E   0   0   0   0         0           39     0   0   0  0     0 \n",
       "S%GGNTE S%GGNTE 0   0   0   0         1           40     0   0   0  0     0 \n",
       "YDTG    YDTG    0   0   0   0         0           75     0   0   0  0     0 \n",
       "S%SGANV S%SGANV 0   0   0   0         0           34     0   0   0  0     0 \n",
       "S%TGNTE S%TGNTE 0   0   0   0         0           34     0   0   0  0     0 \n",
       "SVG%NTE SVG%NTE 0   0   0   0         0           28     0   0   0  0     0 \n",
       "        DENV n_unique_cdr3\n",
       "SLG%E   0    53           \n",
       "S%GGNTE 0    42           \n",
       "YDTG    0    78           \n",
       "S%SGANV 0    36           \n",
       "S%TGNTE 0    35           \n",
       "SVG%NTE 0    31           "
      ]
     },
     "metadata": {},
     "output_type": "display_data"
    }
   ],
   "source": [
    "head(gliphdf)"
   ]
  },
  {
   "cell_type": "code",
   "execution_count": null,
   "metadata": {
    "vscode": {
     "languageId": "r"
    }
   },
   "outputs": [],
   "source": [
    "readr::write_rds(samples_tcr, file = paste0(datapath, \"GLIPH/emerson_adult_samples_gliphannot_stat.rds\"))\n",
    "readr::write_rds(gliphdf, file = paste0(datapath, \"GLIPH/emerson_adult_gliphannot_stat.rds\"))"
   ]
  },
  {
   "cell_type": "code",
   "execution_count": null,
   "metadata": {
    "vscode": {
     "languageId": "r"
    }
   },
   "outputs": [
    {
     "data": {
      "text/html": [
       "<table class=\"dataframe\">\n",
       "<caption>A data.frame: 1 x 18</caption>\n",
       "<thead>\n",
       "\t<tr><th></th><th scope=col>CMV</th><th scope=col>EBV</th><th scope=col>HCV</th><th scope=col>Influenza</th><th scope=col>HomoSapiens</th><th scope=col>MDavis</th><th scope=col>HPV</th><th scope=col>CEF</th><th scope=col>TB</th><th scope=col>MCPyV</th><th scope=col>SP</th><th scope=col>DENV</th><th scope=col>n_cdr3</th><th scope=col>cdr3_reads</th><th scope=col>n_gliph</th><th scope=col>n_cdr3ingliph</th><th scope=col>cdr3reads_ingliph</th><th scope=col>study</th></tr>\n",
       "\t<tr><th></th><th scope=col>&lt;dbl&gt;</th><th scope=col>&lt;dbl&gt;</th><th scope=col>&lt;dbl&gt;</th><th scope=col>&lt;dbl&gt;</th><th scope=col>&lt;dbl&gt;</th><th scope=col>&lt;dbl&gt;</th><th scope=col>&lt;dbl&gt;</th><th scope=col>&lt;dbl&gt;</th><th scope=col>&lt;dbl&gt;</th><th scope=col>&lt;dbl&gt;</th><th scope=col>&lt;dbl&gt;</th><th scope=col>&lt;dbl&gt;</th><th scope=col>&lt;int&gt;</th><th scope=col>&lt;dbl&gt;</th><th scope=col>&lt;dbl&gt;</th><th scope=col>&lt;int&gt;</th><th scope=col>&lt;dbl&gt;</th><th scope=col>&lt;chr&gt;</th></tr>\n",
       "</thead>\n",
       "<tbody>\n",
       "\t<tr><th scope=row>Emerson:P00014</th><td>3</td><td>3</td><td>4</td><td>0</td><td>15</td><td>881</td><td>1</td><td>0</td><td>0</td><td>4</td><td>0</td><td>0</td><td>500</td><td>26315</td><td>512</td><td>231</td><td>26278</td><td>Emerson_adult</td></tr>\n",
       "</tbody>\n",
       "</table>\n"
      ],
      "text/latex": [
       "A data.frame: 1 x 18\n",
       "\\begin{tabular}{r|llllllllllllllllll}\n",
       "  & CMV & EBV & HCV & Influenza & HomoSapiens & MDavis & HPV & CEF & TB & MCPyV & SP & DENV & n\\_cdr3 & cdr3\\_reads & n\\_gliph & n\\_cdr3ingliph & cdr3reads\\_ingliph & study\\\\\n",
       "  & <dbl> & <dbl> & <dbl> & <dbl> & <dbl> & <dbl> & <dbl> & <dbl> & <dbl> & <dbl> & <dbl> & <dbl> & <int> & <dbl> & <dbl> & <int> & <dbl> & <chr>\\\\\n",
       "\\hline\n",
       "\tEmerson:P00014 & 3 & 3 & 4 & 0 & 15 & 881 & 1 & 0 & 0 & 4 & 0 & 0 & 500 & 26315 & 512 & 231 & 26278 & Emerson\\_adult\\\\\n",
       "\\end{tabular}\n"
      ],
      "text/markdown": [
       "\n",
       "A data.frame: 1 x 18\n",
       "\n",
       "| <!--/--> | CMV &lt;dbl&gt; | EBV &lt;dbl&gt; | HCV &lt;dbl&gt; | Influenza &lt;dbl&gt; | HomoSapiens &lt;dbl&gt; | MDavis &lt;dbl&gt; | HPV &lt;dbl&gt; | CEF &lt;dbl&gt; | TB &lt;dbl&gt; | MCPyV &lt;dbl&gt; | SP &lt;dbl&gt; | DENV &lt;dbl&gt; | n_cdr3 &lt;int&gt; | cdr3_reads &lt;dbl&gt; | n_gliph &lt;dbl&gt; | n_cdr3ingliph &lt;int&gt; | cdr3reads_ingliph &lt;dbl&gt; | study &lt;chr&gt; |\n",
       "|---|---|---|---|---|---|---|---|---|---|---|---|---|---|---|---|---|---|---|\n",
       "| Emerson:P00014 | 3 | 3 | 4 | 0 | 15 | 881 | 1 | 0 | 0 | 4 | 0 | 0 | 500 | 26315 | 512 | 231 | 26278 | Emerson_adult |\n",
       "\n"
      ],
      "text/plain": [
       "               CMV EBV HCV Influenza HomoSapiens MDavis HPV CEF TB MCPyV SP\n",
       "Emerson:P00014 3   3   4   0         15          881    1   0   0  4     0 \n",
       "               DENV n_cdr3 cdr3_reads n_gliph n_cdr3ingliph cdr3reads_ingliph\n",
       "Emerson:P00014 0    500    26315      512     231           26278            \n",
       "               study        \n",
       "Emerson:P00014 Emerson_adult"
      ]
     },
     "metadata": {},
     "output_type": "display_data"
    }
   ],
   "source": [
    "# check a sample\n",
    "samples_tcr[10,]"
   ]
  },
  {
   "cell_type": "code",
   "execution_count": null,
   "metadata": {
    "vscode": {
     "languageId": "r"
    }
   },
   "outputs": [
    {
     "data": {
      "text/html": [
       "26315"
      ],
      "text/latex": [
       "26315"
      ],
      "text/markdown": [
       "26315"
      ],
      "text/plain": [
       "[1] 26315"
      ]
     },
     "metadata": {},
     "output_type": "display_data"
    },
    {
     "data": {
      "text/html": [
       "500"
      ],
      "text/latex": [
       "500"
      ],
      "text/markdown": [
       "500"
      ],
      "text/plain": [
       "[1] 500"
      ]
     },
     "metadata": {},
     "output_type": "display_data"
    },
    {
     "data": {
      "text/html": [
       "26278"
      ],
      "text/latex": [
       "26278"
      ],
      "text/markdown": [
       "26278"
      ],
      "text/plain": [
       "[1] 26278"
      ]
     },
     "metadata": {},
     "output_type": "display_data"
    },
    {
     "data": {
      "text/html": [
       "231"
      ],
      "text/latex": [
       "231"
      ],
      "text/markdown": [
       "231"
      ],
      "text/plain": [
       "[1] 231"
      ]
     },
     "metadata": {},
     "output_type": "display_data"
    }
   ],
   "source": [
    "temp <- gliphin_emerson[ gliphin_emerson$subject == \"Emerson:P00014\",]\n",
    "sum(temp$count) # cdr3_reads\n",
    "length(unique(temp$CDR3b)) # n_cdr3\n",
    "\n",
    "temp <- gliphout_emerson[ gliphout_emerson$Sample == \"Emerson:P00014\",]\n",
    "sum(temp$Freq) # cdr3reads_ingliph\n",
    "length(unique(temp$TcRb)) # n_cdr3ingliph"
   ]
  },
  {
   "cell_type": "code",
   "execution_count": null,
   "metadata": {
    "vscode": {
     "languageId": "r"
    }
   },
   "outputs": [
    {
     "data": {
      "text/plain": [
       "\n",
       "         CMV          EBV      Emerson          HCV          HPV  HomoSapiens \n",
       "           3            3         2025            4            1           15 \n",
       "       MCPyV       MDavis S-pneumoniae \n",
       "           4          881            2 "
      ]
     },
     "metadata": {},
     "output_type": "display_data"
    }
   ],
   "source": [
    "samplegliphs <- gliphout_emerson$pattern[ gliphout_emerson$Sample == \"Emerson:P00014\"]\n",
    "table(gliphout_emerson$subject[ gliphout_emerson$pattern %in% samplegliphs])"
   ]
  },
  {
   "cell_type": "markdown",
   "metadata": {},
   "source": [
    "Create summary tables for frequencies"
   ]
  },
  {
   "cell_type": "code",
   "execution_count": null,
   "metadata": {
    "vscode": {
     "languageId": "r"
    }
   },
   "outputs": [],
   "source": [
    "gliphout <- readr::read_rds(file = paste0(datapath, \"GLIPH/emerson_adult_cleaned.rds\"))"
   ]
  },
  {
   "cell_type": "code",
   "execution_count": null,
   "metadata": {
    "vscode": {
     "languageId": "r"
    }
   },
   "outputs": [],
   "source": [
    "# use the previous data\n",
    "samples_tcr <- readr::read_rds(file = paste0(datapath, \"GLIPH/emerson_adult_samples_gliphannot_stat.rds\"))\n",
    "gliphdf <- readr::read_rds(file = paste0(datapath, \"GLIPH/emerson_adult_gliphannot_stat.rds\"))"
   ]
  },
  {
   "cell_type": "code",
   "execution_count": null,
   "metadata": {
    "vscode": {
     "languageId": "r"
    }
   },
   "outputs": [],
   "source": [
    "gliphdf_freq <- gliphdf %>% mutate_all(~NA)\n",
    "gliphdf_freq$n_unique_cdr3 <- NULL\n",
    "gliphdf_freq$gliph <- NULL"
   ]
  },
  {
   "cell_type": "code",
   "execution_count": null,
   "metadata": {
    "vscode": {
     "languageId": "r"
    }
   },
   "outputs": [
    {
     "data": {
      "text/html": [
       "<table class=\"dataframe\">\n",
       "<caption>A data.frame: 6 x 13</caption>\n",
       "<thead>\n",
       "\t<tr><th></th><th scope=col>CMV</th><th scope=col>EBV</th><th scope=col>HCV</th><th scope=col>Influenza</th><th scope=col>HomoSapiens</th><th scope=col>MDavis</th><th scope=col>HPV</th><th scope=col>CEF</th><th scope=col>TB</th><th scope=col>MCPyV</th><th scope=col>SP</th><th scope=col>DENV</th><th scope=col>n_cdr3</th></tr>\n",
       "\t<tr><th></th><th scope=col>&lt;dbl&gt;</th><th scope=col>&lt;dbl&gt;</th><th scope=col>&lt;dbl&gt;</th><th scope=col>&lt;dbl&gt;</th><th scope=col>&lt;dbl&gt;</th><th scope=col>&lt;dbl&gt;</th><th scope=col>&lt;dbl&gt;</th><th scope=col>&lt;dbl&gt;</th><th scope=col>&lt;dbl&gt;</th><th scope=col>&lt;dbl&gt;</th><th scope=col>&lt;dbl&gt;</th><th scope=col>&lt;dbl&gt;</th><th scope=col>&lt;int&gt;</th></tr>\n",
       "</thead>\n",
       "<tbody>\n",
       "\t<tr><th scope=row>Emerson:P00001</th><td>1</td><td>1</td><td>2</td><td>0</td><td> 7</td><td>403</td><td>2</td><td>0</td><td>0</td><td>3</td><td>0</td><td>0</td><td>314</td></tr>\n",
       "\t<tr><th scope=row>Emerson:P00002</th><td>2</td><td>1</td><td>1</td><td>0</td><td> 1</td><td>111</td><td>0</td><td>0</td><td>0</td><td>0</td><td>0</td><td>0</td><td> 82</td></tr>\n",
       "\t<tr><th scope=row>Emerson:P00004</th><td>6</td><td>5</td><td>4</td><td>7</td><td>19</td><td>667</td><td>1</td><td>0</td><td>0</td><td>3</td><td>0</td><td>0</td><td>504</td></tr>\n",
       "\t<tr><th scope=row>Emerson:P00005</th><td>3</td><td>0</td><td>1</td><td>0</td><td> 1</td><td>337</td><td>0</td><td>0</td><td>0</td><td>3</td><td>0</td><td>0</td><td>205</td></tr>\n",
       "\t<tr><th scope=row>Emerson:P00006</th><td>0</td><td>0</td><td>0</td><td>0</td><td> 0</td><td>  0</td><td>0</td><td>0</td><td>0</td><td>0</td><td>0</td><td>0</td><td>  3</td></tr>\n",
       "\t<tr><th scope=row>Emerson:P00008</th><td>3</td><td>4</td><td>6</td><td>0</td><td> 9</td><td>439</td><td>0</td><td>0</td><td>0</td><td>0</td><td>0</td><td>0</td><td>252</td></tr>\n",
       "</tbody>\n",
       "</table>\n"
      ],
      "text/latex": [
       "A data.frame: 6 x 13\n",
       "\\begin{tabular}{r|lllllllllllll}\n",
       "  & CMV & EBV & HCV & Influenza & HomoSapiens & MDavis & HPV & CEF & TB & MCPyV & SP & DENV & n\\_cdr3\\\\\n",
       "  & <dbl> & <dbl> & <dbl> & <dbl> & <dbl> & <dbl> & <dbl> & <dbl> & <dbl> & <dbl> & <dbl> & <dbl> & <int>\\\\\n",
       "\\hline\n",
       "\tEmerson:P00001 & 1 & 1 & 2 & 0 &  7 & 403 & 2 & 0 & 0 & 3 & 0 & 0 & 314\\\\\n",
       "\tEmerson:P00002 & 2 & 1 & 1 & 0 &  1 & 111 & 0 & 0 & 0 & 0 & 0 & 0 &  82\\\\\n",
       "\tEmerson:P00004 & 6 & 5 & 4 & 7 & 19 & 667 & 1 & 0 & 0 & 3 & 0 & 0 & 504\\\\\n",
       "\tEmerson:P00005 & 3 & 0 & 1 & 0 &  1 & 337 & 0 & 0 & 0 & 3 & 0 & 0 & 205\\\\\n",
       "\tEmerson:P00006 & 0 & 0 & 0 & 0 &  0 &   0 & 0 & 0 & 0 & 0 & 0 & 0 &   3\\\\\n",
       "\tEmerson:P00008 & 3 & 4 & 6 & 0 &  9 & 439 & 0 & 0 & 0 & 0 & 0 & 0 & 252\\\\\n",
       "\\end{tabular}\n"
      ],
      "text/markdown": [
       "\n",
       "A data.frame: 6 x 13\n",
       "\n",
       "| <!--/--> | CMV &lt;dbl&gt; | EBV &lt;dbl&gt; | HCV &lt;dbl&gt; | Influenza &lt;dbl&gt; | HomoSapiens &lt;dbl&gt; | MDavis &lt;dbl&gt; | HPV &lt;dbl&gt; | CEF &lt;dbl&gt; | TB &lt;dbl&gt; | MCPyV &lt;dbl&gt; | SP &lt;dbl&gt; | DENV &lt;dbl&gt; | n_cdr3 &lt;int&gt; |\n",
       "|---|---|---|---|---|---|---|---|---|---|---|---|---|---|\n",
       "| Emerson:P00001 | 1 | 1 | 2 | 0 |  7 | 403 | 2 | 0 | 0 | 3 | 0 | 0 | 314 |\n",
       "| Emerson:P00002 | 2 | 1 | 1 | 0 |  1 | 111 | 0 | 0 | 0 | 0 | 0 | 0 |  82 |\n",
       "| Emerson:P00004 | 6 | 5 | 4 | 7 | 19 | 667 | 1 | 0 | 0 | 3 | 0 | 0 | 504 |\n",
       "| Emerson:P00005 | 3 | 0 | 1 | 0 |  1 | 337 | 0 | 0 | 0 | 3 | 0 | 0 | 205 |\n",
       "| Emerson:P00006 | 0 | 0 | 0 | 0 |  0 |   0 | 0 | 0 | 0 | 0 | 0 | 0 |   3 |\n",
       "| Emerson:P00008 | 3 | 4 | 6 | 0 |  9 | 439 | 0 | 0 | 0 | 0 | 0 | 0 | 252 |\n",
       "\n"
      ],
      "text/plain": [
       "               CMV EBV HCV Influenza HomoSapiens MDavis HPV CEF TB MCPyV SP\n",
       "Emerson:P00001 1   1   2   0          7          403    2   0   0  3     0 \n",
       "Emerson:P00002 2   1   1   0          1          111    0   0   0  0     0 \n",
       "Emerson:P00004 6   5   4   7         19          667    1   0   0  3     0 \n",
       "Emerson:P00005 3   0   1   0          1          337    0   0   0  3     0 \n",
       "Emerson:P00006 0   0   0   0          0            0    0   0   0  0     0 \n",
       "Emerson:P00008 3   4   6   0          9          439    0   0   0  0     0 \n",
       "               DENV n_cdr3\n",
       "Emerson:P00001 0    314   \n",
       "Emerson:P00002 0     82   \n",
       "Emerson:P00004 0    504   \n",
       "Emerson:P00005 0    205   \n",
       "Emerson:P00006 0      3   \n",
       "Emerson:P00008 0    252   "
      ]
     },
     "metadata": {},
     "output_type": "display_data"
    }
   ],
   "source": [
    "head(samples_tcr[,1:13])"
   ]
  },
  {
   "cell_type": "code",
   "execution_count": null,
   "metadata": {
    "vscode": {
     "languageId": "r"
    }
   },
   "outputs": [],
   "source": [
    "columns_to_na <- colnames(samples_tcr)[1:12]\n",
    "\n",
    "samples_tcr_freq <- samples_tcr %>%\n",
    "  mutate(across(all_of(columns_to_na), ~NA))"
   ]
  },
  {
   "cell_type": "code",
   "execution_count": null,
   "metadata": {
    "vscode": {
     "languageId": "r"
    }
   },
   "outputs": [
    {
     "data": {
      "text/html": [
       "<table class=\"dataframe\">\n",
       "<caption>A data.frame: 6 x 18</caption>\n",
       "<thead>\n",
       "\t<tr><th></th><th scope=col>CMV</th><th scope=col>EBV</th><th scope=col>HCV</th><th scope=col>Influenza</th><th scope=col>HomoSapiens</th><th scope=col>MDavis</th><th scope=col>HPV</th><th scope=col>CEF</th><th scope=col>TB</th><th scope=col>MCPyV</th><th scope=col>SP</th><th scope=col>DENV</th><th scope=col>n_cdr3</th><th scope=col>cdr3_reads</th><th scope=col>n_gliph</th><th scope=col>n_cdr3ingliph</th><th scope=col>cdr3reads_ingliph</th><th scope=col>study</th></tr>\n",
       "\t<tr><th></th><th scope=col>&lt;lgl&gt;</th><th scope=col>&lt;lgl&gt;</th><th scope=col>&lt;lgl&gt;</th><th scope=col>&lt;lgl&gt;</th><th scope=col>&lt;lgl&gt;</th><th scope=col>&lt;lgl&gt;</th><th scope=col>&lt;lgl&gt;</th><th scope=col>&lt;lgl&gt;</th><th scope=col>&lt;lgl&gt;</th><th scope=col>&lt;lgl&gt;</th><th scope=col>&lt;lgl&gt;</th><th scope=col>&lt;lgl&gt;</th><th scope=col>&lt;int&gt;</th><th scope=col>&lt;dbl&gt;</th><th scope=col>&lt;dbl&gt;</th><th scope=col>&lt;int&gt;</th><th scope=col>&lt;dbl&gt;</th><th scope=col>&lt;chr&gt;</th></tr>\n",
       "</thead>\n",
       "<tbody>\n",
       "\t<tr><th scope=row>Emerson:P00001</th><td>NA</td><td>NA</td><td>NA</td><td>NA</td><td>NA</td><td>NA</td><td>NA</td><td>NA</td><td>NA</td><td>NA</td><td>NA</td><td>NA</td><td>314</td><td>30394</td><td>333</td><td>150</td><td>33353</td><td>Emerson_adult</td></tr>\n",
       "\t<tr><th scope=row>Emerson:P00002</th><td>NA</td><td>NA</td><td>NA</td><td>NA</td><td>NA</td><td>NA</td><td>NA</td><td>NA</td><td>NA</td><td>NA</td><td>NA</td><td>NA</td><td> 82</td><td> 1940</td><td> 73</td><td> 36</td><td> 1637</td><td>Emerson_adult</td></tr>\n",
       "\t<tr><th scope=row>Emerson:P00004</th><td>NA</td><td>NA</td><td>NA</td><td>NA</td><td>NA</td><td>NA</td><td>NA</td><td>NA</td><td>NA</td><td>NA</td><td>NA</td><td>NA</td><td>504</td><td>48734</td><td>521</td><td>215</td><td>63165</td><td>Emerson_adult</td></tr>\n",
       "\t<tr><th scope=row>Emerson:P00005</th><td>NA</td><td>NA</td><td>NA</td><td>NA</td><td>NA</td><td>NA</td><td>NA</td><td>NA</td><td>NA</td><td>NA</td><td>NA</td><td>NA</td><td>205</td><td> 8595</td><td>193</td><td> 97</td><td> 6399</td><td>Emerson_adult</td></tr>\n",
       "\t<tr><th scope=row>Emerson:P00006</th><td>NA</td><td>NA</td><td>NA</td><td>NA</td><td>NA</td><td>NA</td><td>NA</td><td>NA</td><td>NA</td><td>NA</td><td>NA</td><td>NA</td><td>  3</td><td>  222</td><td>  1</td><td>  1</td><td>   68</td><td>Emerson_adult</td></tr>\n",
       "\t<tr><th scope=row>Emerson:P00008</th><td>NA</td><td>NA</td><td>NA</td><td>NA</td><td>NA</td><td>NA</td><td>NA</td><td>NA</td><td>NA</td><td>NA</td><td>NA</td><td>NA</td><td>252</td><td> 5723</td><td>276</td><td>117</td><td> 5759</td><td>Emerson_adult</td></tr>\n",
       "</tbody>\n",
       "</table>\n"
      ],
      "text/latex": [
       "A data.frame: 6 x 18\n",
       "\\begin{tabular}{r|llllllllllllllllll}\n",
       "  & CMV & EBV & HCV & Influenza & HomoSapiens & MDavis & HPV & CEF & TB & MCPyV & SP & DENV & n\\_cdr3 & cdr3\\_reads & n\\_gliph & n\\_cdr3ingliph & cdr3reads\\_ingliph & study\\\\\n",
       "  & <lgl> & <lgl> & <lgl> & <lgl> & <lgl> & <lgl> & <lgl> & <lgl> & <lgl> & <lgl> & <lgl> & <lgl> & <int> & <dbl> & <dbl> & <int> & <dbl> & <chr>\\\\\n",
       "\\hline\n",
       "\tEmerson:P00001 & NA & NA & NA & NA & NA & NA & NA & NA & NA & NA & NA & NA & 314 & 30394 & 333 & 150 & 33353 & Emerson\\_adult\\\\\n",
       "\tEmerson:P00002 & NA & NA & NA & NA & NA & NA & NA & NA & NA & NA & NA & NA &  82 &  1940 &  73 &  36 &  1637 & Emerson\\_adult\\\\\n",
       "\tEmerson:P00004 & NA & NA & NA & NA & NA & NA & NA & NA & NA & NA & NA & NA & 504 & 48734 & 521 & 215 & 63165 & Emerson\\_adult\\\\\n",
       "\tEmerson:P00005 & NA & NA & NA & NA & NA & NA & NA & NA & NA & NA & NA & NA & 205 &  8595 & 193 &  97 &  6399 & Emerson\\_adult\\\\\n",
       "\tEmerson:P00006 & NA & NA & NA & NA & NA & NA & NA & NA & NA & NA & NA & NA &   3 &   222 &   1 &   1 &    68 & Emerson\\_adult\\\\\n",
       "\tEmerson:P00008 & NA & NA & NA & NA & NA & NA & NA & NA & NA & NA & NA & NA & 252 &  5723 & 276 & 117 &  5759 & Emerson\\_adult\\\\\n",
       "\\end{tabular}\n"
      ],
      "text/markdown": [
       "\n",
       "A data.frame: 6 x 18\n",
       "\n",
       "| <!--/--> | CMV &lt;lgl&gt; | EBV &lt;lgl&gt; | HCV &lt;lgl&gt; | Influenza &lt;lgl&gt; | HomoSapiens &lt;lgl&gt; | MDavis &lt;lgl&gt; | HPV &lt;lgl&gt; | CEF &lt;lgl&gt; | TB &lt;lgl&gt; | MCPyV &lt;lgl&gt; | SP &lt;lgl&gt; | DENV &lt;lgl&gt; | n_cdr3 &lt;int&gt; | cdr3_reads &lt;dbl&gt; | n_gliph &lt;dbl&gt; | n_cdr3ingliph &lt;int&gt; | cdr3reads_ingliph &lt;dbl&gt; | study &lt;chr&gt; |\n",
       "|---|---|---|---|---|---|---|---|---|---|---|---|---|---|---|---|---|---|---|\n",
       "| Emerson:P00001 | NA | NA | NA | NA | NA | NA | NA | NA | NA | NA | NA | NA | 314 | 30394 | 333 | 150 | 33353 | Emerson_adult |\n",
       "| Emerson:P00002 | NA | NA | NA | NA | NA | NA | NA | NA | NA | NA | NA | NA |  82 |  1940 |  73 |  36 |  1637 | Emerson_adult |\n",
       "| Emerson:P00004 | NA | NA | NA | NA | NA | NA | NA | NA | NA | NA | NA | NA | 504 | 48734 | 521 | 215 | 63165 | Emerson_adult |\n",
       "| Emerson:P00005 | NA | NA | NA | NA | NA | NA | NA | NA | NA | NA | NA | NA | 205 |  8595 | 193 |  97 |  6399 | Emerson_adult |\n",
       "| Emerson:P00006 | NA | NA | NA | NA | NA | NA | NA | NA | NA | NA | NA | NA |   3 |   222 |   1 |   1 |    68 | Emerson_adult |\n",
       "| Emerson:P00008 | NA | NA | NA | NA | NA | NA | NA | NA | NA | NA | NA | NA | 252 |  5723 | 276 | 117 |  5759 | Emerson_adult |\n",
       "\n"
      ],
      "text/plain": [
       "               CMV EBV HCV Influenza HomoSapiens MDavis HPV CEF TB MCPyV SP\n",
       "Emerson:P00001 NA  NA  NA  NA        NA          NA     NA  NA  NA NA    NA\n",
       "Emerson:P00002 NA  NA  NA  NA        NA          NA     NA  NA  NA NA    NA\n",
       "Emerson:P00004 NA  NA  NA  NA        NA          NA     NA  NA  NA NA    NA\n",
       "Emerson:P00005 NA  NA  NA  NA        NA          NA     NA  NA  NA NA    NA\n",
       "Emerson:P00006 NA  NA  NA  NA        NA          NA     NA  NA  NA NA    NA\n",
       "Emerson:P00008 NA  NA  NA  NA        NA          NA     NA  NA  NA NA    NA\n",
       "               DENV n_cdr3 cdr3_reads n_gliph n_cdr3ingliph cdr3reads_ingliph\n",
       "Emerson:P00001 NA   314    30394      333     150           33353            \n",
       "Emerson:P00002 NA    82     1940       73      36            1637            \n",
       "Emerson:P00004 NA   504    48734      521     215           63165            \n",
       "Emerson:P00005 NA   205     8595      193      97            6399            \n",
       "Emerson:P00006 NA     3      222        1       1              68            \n",
       "Emerson:P00008 NA   252     5723      276     117            5759            \n",
       "               study        \n",
       "Emerson:P00001 Emerson_adult\n",
       "Emerson:P00002 Emerson_adult\n",
       "Emerson:P00004 Emerson_adult\n",
       "Emerson:P00005 Emerson_adult\n",
       "Emerson:P00006 Emerson_adult\n",
       "Emerson:P00008 Emerson_adult"
      ]
     },
     "metadata": {},
     "output_type": "display_data"
    }
   ],
   "source": [
    "head(samples_tcr_freq)"
   ]
  },
  {
   "cell_type": "code",
   "execution_count": null,
   "metadata": {
    "vscode": {
     "languageId": "r"
    }
   },
   "outputs": [
    {
     "data": {
      "text/html": [
       "<style>\n",
       ".list-inline {list-style: none; margin:0; padding: 0}\n",
       ".list-inline>li {display: inline-block}\n",
       ".list-inline>li:not(:last-child)::after {content: \"\\00b7\"; padding: 0 .5ex}\n",
       "</style>\n",
       "<ol class=list-inline><li>'CEF'</li><li>'CMV'</li><li>'DENV'</li><li>'EBV'</li><li>'HCV'</li><li>'HPV'</li><li>'HomoSapiens'</li><li>'Influenza'</li><li>'M.tuberculosis'</li><li>'MCPyV'</li><li>'MDavis'</li><li>'S-pneumoniae'</li></ol>\n"
      ],
      "text/latex": [
       "\\begin{enumerate*}\n",
       "\\item 'CEF'\n",
       "\\item 'CMV'\n",
       "\\item 'DENV'\n",
       "\\item 'EBV'\n",
       "\\item 'HCV'\n",
       "\\item 'HPV'\n",
       "\\item 'HomoSapiens'\n",
       "\\item 'Influenza'\n",
       "\\item 'M.tuberculosis'\n",
       "\\item 'MCPyV'\n",
       "\\item 'MDavis'\n",
       "\\item 'S-pneumoniae'\n",
       "\\end{enumerate*}\n"
      ],
      "text/markdown": [
       "1. 'CEF'\n",
       "2. 'CMV'\n",
       "3. 'DENV'\n",
       "4. 'EBV'\n",
       "5. 'HCV'\n",
       "6. 'HPV'\n",
       "7. 'HomoSapiens'\n",
       "8. 'Influenza'\n",
       "9. 'M.tuberculosis'\n",
       "10. 'MCPyV'\n",
       "11. 'MDavis'\n",
       "12. 'S-pneumoniae'\n",
       "\n",
       "\n"
      ],
      "text/plain": [
       " [1] \"CEF\"            \"CMV\"            \"DENV\"           \"EBV\"           \n",
       " [5] \"HCV\"            \"HPV\"            \"HomoSapiens\"    \"Influenza\"     \n",
       " [9] \"M.tuberculosis\" \"MCPyV\"          \"MDavis\"         \"S-pneumoniae\"  "
      ]
     },
     "metadata": {},
     "output_type": "display_data"
    }
   ],
   "source": [
    "names(table(gliphout$subject[!grepl(\"Emerson\", gliphout$Sample)]))"
   ]
  },
  {
   "cell_type": "code",
   "execution_count": null,
   "metadata": {
    "vscode": {
     "languageId": "r"
    }
   },
   "outputs": [
    {
     "data": {
      "text/html": [
       "<table class=\"dataframe\">\n",
       "<caption>A data.frame: 6 x 12</caption>\n",
       "<thead>\n",
       "\t<tr><th></th><th scope=col>CMV</th><th scope=col>EBV</th><th scope=col>HCV</th><th scope=col>Influenza</th><th scope=col>HomoSapiens</th><th scope=col>MDavis</th><th scope=col>HPV</th><th scope=col>CEF</th><th scope=col>TB</th><th scope=col>MCPyV</th><th scope=col>SP</th><th scope=col>DENV</th></tr>\n",
       "\t<tr><th></th><th scope=col>&lt;lgl&gt;</th><th scope=col>&lt;lgl&gt;</th><th scope=col>&lt;lgl&gt;</th><th scope=col>&lt;lgl&gt;</th><th scope=col>&lt;lgl&gt;</th><th scope=col>&lt;lgl&gt;</th><th scope=col>&lt;lgl&gt;</th><th scope=col>&lt;lgl&gt;</th><th scope=col>&lt;lgl&gt;</th><th scope=col>&lt;lgl&gt;</th><th scope=col>&lt;lgl&gt;</th><th scope=col>&lt;lgl&gt;</th></tr>\n",
       "</thead>\n",
       "<tbody>\n",
       "\t<tr><th scope=row>SLG%E</th><td>NA</td><td>NA</td><td>NA</td><td>NA</td><td>NA</td><td>NA</td><td>NA</td><td>NA</td><td>NA</td><td>NA</td><td>NA</td><td>NA</td></tr>\n",
       "\t<tr><th scope=row>S%GGNTE</th><td>NA</td><td>NA</td><td>NA</td><td>NA</td><td>NA</td><td>NA</td><td>NA</td><td>NA</td><td>NA</td><td>NA</td><td>NA</td><td>NA</td></tr>\n",
       "\t<tr><th scope=row>YDTG</th><td>NA</td><td>NA</td><td>NA</td><td>NA</td><td>NA</td><td>NA</td><td>NA</td><td>NA</td><td>NA</td><td>NA</td><td>NA</td><td>NA</td></tr>\n",
       "\t<tr><th scope=row>S%SGANV</th><td>NA</td><td>NA</td><td>NA</td><td>NA</td><td>NA</td><td>NA</td><td>NA</td><td>NA</td><td>NA</td><td>NA</td><td>NA</td><td>NA</td></tr>\n",
       "\t<tr><th scope=row>S%TGNTE</th><td>NA</td><td>NA</td><td>NA</td><td>NA</td><td>NA</td><td>NA</td><td>NA</td><td>NA</td><td>NA</td><td>NA</td><td>NA</td><td>NA</td></tr>\n",
       "\t<tr><th scope=row>SVG%NTE</th><td>NA</td><td>NA</td><td>NA</td><td>NA</td><td>NA</td><td>NA</td><td>NA</td><td>NA</td><td>NA</td><td>NA</td><td>NA</td><td>NA</td></tr>\n",
       "</tbody>\n",
       "</table>\n"
      ],
      "text/latex": [
       "A data.frame: 6 x 12\n",
       "\\begin{tabular}{r|llllllllllll}\n",
       "  & CMV & EBV & HCV & Influenza & HomoSapiens & MDavis & HPV & CEF & TB & MCPyV & SP & DENV\\\\\n",
       "  & <lgl> & <lgl> & <lgl> & <lgl> & <lgl> & <lgl> & <lgl> & <lgl> & <lgl> & <lgl> & <lgl> & <lgl>\\\\\n",
       "\\hline\n",
       "\tSLG\\%E & NA & NA & NA & NA & NA & NA & NA & NA & NA & NA & NA & NA\\\\\n",
       "\tS\\%GGNTE & NA & NA & NA & NA & NA & NA & NA & NA & NA & NA & NA & NA\\\\\n",
       "\tYDTG & NA & NA & NA & NA & NA & NA & NA & NA & NA & NA & NA & NA\\\\\n",
       "\tS\\%SGANV & NA & NA & NA & NA & NA & NA & NA & NA & NA & NA & NA & NA\\\\\n",
       "\tS\\%TGNTE & NA & NA & NA & NA & NA & NA & NA & NA & NA & NA & NA & NA\\\\\n",
       "\tSVG\\%NTE & NA & NA & NA & NA & NA & NA & NA & NA & NA & NA & NA & NA\\\\\n",
       "\\end{tabular}\n"
      ],
      "text/markdown": [
       "\n",
       "A data.frame: 6 x 12\n",
       "\n",
       "| <!--/--> | CMV &lt;lgl&gt; | EBV &lt;lgl&gt; | HCV &lt;lgl&gt; | Influenza &lt;lgl&gt; | HomoSapiens &lt;lgl&gt; | MDavis &lt;lgl&gt; | HPV &lt;lgl&gt; | CEF &lt;lgl&gt; | TB &lt;lgl&gt; | MCPyV &lt;lgl&gt; | SP &lt;lgl&gt; | DENV &lt;lgl&gt; |\n",
       "|---|---|---|---|---|---|---|---|---|---|---|---|---|\n",
       "| SLG%E | NA | NA | NA | NA | NA | NA | NA | NA | NA | NA | NA | NA |\n",
       "| S%GGNTE | NA | NA | NA | NA | NA | NA | NA | NA | NA | NA | NA | NA |\n",
       "| YDTG | NA | NA | NA | NA | NA | NA | NA | NA | NA | NA | NA | NA |\n",
       "| S%SGANV | NA | NA | NA | NA | NA | NA | NA | NA | NA | NA | NA | NA |\n",
       "| S%TGNTE | NA | NA | NA | NA | NA | NA | NA | NA | NA | NA | NA | NA |\n",
       "| SVG%NTE | NA | NA | NA | NA | NA | NA | NA | NA | NA | NA | NA | NA |\n",
       "\n"
      ],
      "text/plain": [
       "        CMV EBV HCV Influenza HomoSapiens MDavis HPV CEF TB MCPyV SP DENV\n",
       "SLG%E   NA  NA  NA  NA        NA          NA     NA  NA  NA NA    NA NA  \n",
       "S%GGNTE NA  NA  NA  NA        NA          NA     NA  NA  NA NA    NA NA  \n",
       "YDTG    NA  NA  NA  NA        NA          NA     NA  NA  NA NA    NA NA  \n",
       "S%SGANV NA  NA  NA  NA        NA          NA     NA  NA  NA NA    NA NA  \n",
       "S%TGNTE NA  NA  NA  NA        NA          NA     NA  NA  NA NA    NA NA  \n",
       "SVG%NTE NA  NA  NA  NA        NA          NA     NA  NA  NA NA    NA NA  "
      ]
     },
     "metadata": {},
     "output_type": "display_data"
    }
   ],
   "source": [
    "head(gliphdf_freq)"
   ]
  },
  {
   "cell_type": "code",
   "execution_count": null,
   "metadata": {
    "vscode": {
     "languageId": "r"
    }
   },
   "outputs": [],
   "source": [
    "for(i in 1:nrow(gliphdf_freq)){\n",
    "\n",
    "mygliph <- gliphout[gliphout$pattern == rownames(gliphdf_freq)[i],]\n",
    "# sum Freq of CHP samples if  if mygliph$Sample ciontains CMV\n",
    "gliphdf_freq$CMV[i] <- ifelse(sum(grepl(\"CMV\", mygliph$subject)) > 0, sum(mygliph$Freq[grepl(\"Emerson\", mygliph$Sample)]), 0)\n",
    "gliphdf_freq$EBV[i] <- ifelse(sum(grepl(\"EBV\", mygliph$subject)) > 0, sum(mygliph$Freq[grepl(\"Emerson\", mygliph$Sample)]), 0)\n",
    "gliphdf_freq$HCV[i] <- ifelse(sum(grepl(\"HCV\", mygliph$subject)) > 0, sum(mygliph$Freq[grepl(\"Emerson\", mygliph$Sample)]), 0)\n",
    "gliphdf_freq$Influenza[i] <- ifelse(sum(grepl(\"Influenza\", mygliph$subject)) > 0, sum(mygliph$Freq[grepl(\"Emerson\", mygliph$Sample)]), 0)\n",
    "\n",
    "gliphdf_freq$HomoSapiens[i] <- ifelse(sum(grepl(\"HomoSapiens\", mygliph$subject)) > 0, sum(mygliph$Freq[grepl(\"Emerson\", mygliph$Sample)]), 0)\n",
    "gliphdf_freq$MDavis[i] <- ifelse(sum(grepl(\"MDavis\", mygliph$subject)) > 0, sum(mygliph$Freq[grepl(\"Emerson\", mygliph$Sample)]), 0)\n",
    "\n",
    "gliphdf_freq$HPV[i] <- ifelse(sum(grepl(\"HPV\", mygliph$subject)) > 0, sum(mygliph$Freq[grepl(\"Emerson\", mygliph$Sample)]), 0)\n",
    "gliphdf_freq$CEF[i] <- ifelse(sum(grepl(\"CEF\", mygliph$subject)) > 0, sum(mygliph$Freq[grepl(\"Emerson\", mygliph$Sample)]), 0)\n",
    "gliphdf_freq$TB[i] <- ifelse(sum(grepl(\"M.tuberculosis\", mygliph$subject)) > 0, sum(mygliph$Freq[grepl(\"Emerson\", mygliph$Sample)]), 0)\n",
    "gliphdf_freq$MCPyV[i] <- ifelse(sum(grepl(\"MCPyV\", mygliph$subject)) > 0, sum(mygliph$Freq[grepl(\"Emerson\", mygliph$Sample)]), 0)\n",
    "gliphdf_freq$SP[i] <- ifelse(sum(grepl(\"S-pneumoniae\", mygliph$subject)) > 0, sum(mygliph$Freq[grepl(\"Emerson\", mygliph$Sample)]), 0)\n",
    "# gliphdf_freq$HTLV1[i] <- ifelse(sum(grepl(\"HTLV-1\", mygliph$subject)) > 0, sum(mygliph$Freq[grepl(\"CHP\", mygliph$Sample)]), 0)\n",
    "gliphdf_freq$DENV[i] <- ifelse(sum(grepl(\"DENV\", mygliph$subject)) > 0, sum(mygliph$Freq[grepl(\"Emerson\", mygliph$Sample)]), 0)\n",
    "}"
   ]
  },
  {
   "cell_type": "code",
   "execution_count": null,
   "metadata": {
    "vscode": {
     "languageId": "r"
    }
   },
   "outputs": [
    {
     "data": {
      "text/html": [
       "<table class=\"dataframe\">\n",
       "<caption>A data.frame: 6 x 14</caption>\n",
       "<thead>\n",
       "\t<tr><th></th><th scope=col>gliph</th><th scope=col>CMV</th><th scope=col>EBV</th><th scope=col>HCV</th><th scope=col>Influenza</th><th scope=col>HomoSapiens</th><th scope=col>MDavis</th><th scope=col>HPV</th><th scope=col>CEF</th><th scope=col>TB</th><th scope=col>MCPyV</th><th scope=col>SP</th><th scope=col>DENV</th><th scope=col>n_unique_cdr3</th></tr>\n",
       "\t<tr><th></th><th scope=col>&lt;chr&gt;</th><th scope=col>&lt;dbl&gt;</th><th scope=col>&lt;dbl&gt;</th><th scope=col>&lt;dbl&gt;</th><th scope=col>&lt;dbl&gt;</th><th scope=col>&lt;dbl&gt;</th><th scope=col>&lt;dbl&gt;</th><th scope=col>&lt;dbl&gt;</th><th scope=col>&lt;dbl&gt;</th><th scope=col>&lt;dbl&gt;</th><th scope=col>&lt;dbl&gt;</th><th scope=col>&lt;dbl&gt;</th><th scope=col>&lt;dbl&gt;</th><th scope=col>&lt;int&gt;</th></tr>\n",
       "</thead>\n",
       "<tbody>\n",
       "\t<tr><th scope=row>SLG%E</th><td>SLG%E  </td><td>0</td><td>0</td><td>0</td><td>0</td><td>0</td><td>39</td><td>0</td><td>0</td><td>0</td><td>0</td><td>0</td><td>0</td><td>53</td></tr>\n",
       "\t<tr><th scope=row>S%GGNTE</th><td>S%GGNTE</td><td>0</td><td>0</td><td>0</td><td>0</td><td>1</td><td>40</td><td>0</td><td>0</td><td>0</td><td>0</td><td>0</td><td>0</td><td>42</td></tr>\n",
       "\t<tr><th scope=row>YDTG</th><td>YDTG   </td><td>0</td><td>0</td><td>0</td><td>0</td><td>0</td><td>75</td><td>0</td><td>0</td><td>0</td><td>0</td><td>0</td><td>0</td><td>78</td></tr>\n",
       "\t<tr><th scope=row>S%SGANV</th><td>S%SGANV</td><td>0</td><td>0</td><td>0</td><td>0</td><td>0</td><td>34</td><td>0</td><td>0</td><td>0</td><td>0</td><td>0</td><td>0</td><td>36</td></tr>\n",
       "\t<tr><th scope=row>S%TGNTE</th><td>S%TGNTE</td><td>0</td><td>0</td><td>0</td><td>0</td><td>0</td><td>34</td><td>0</td><td>0</td><td>0</td><td>0</td><td>0</td><td>0</td><td>35</td></tr>\n",
       "\t<tr><th scope=row>SVG%NTE</th><td>SVG%NTE</td><td>0</td><td>0</td><td>0</td><td>0</td><td>0</td><td>28</td><td>0</td><td>0</td><td>0</td><td>0</td><td>0</td><td>0</td><td>31</td></tr>\n",
       "</tbody>\n",
       "</table>\n"
      ],
      "text/latex": [
       "A data.frame: 6 x 14\n",
       "\\begin{tabular}{r|llllllllllllll}\n",
       "  & gliph & CMV & EBV & HCV & Influenza & HomoSapiens & MDavis & HPV & CEF & TB & MCPyV & SP & DENV & n\\_unique\\_cdr3\\\\\n",
       "  & <chr> & <dbl> & <dbl> & <dbl> & <dbl> & <dbl> & <dbl> & <dbl> & <dbl> & <dbl> & <dbl> & <dbl> & <dbl> & <int>\\\\\n",
       "\\hline\n",
       "\tSLG\\%E & SLG\\%E   & 0 & 0 & 0 & 0 & 0 & 39 & 0 & 0 & 0 & 0 & 0 & 0 & 53\\\\\n",
       "\tS\\%GGNTE & S\\%GGNTE & 0 & 0 & 0 & 0 & 1 & 40 & 0 & 0 & 0 & 0 & 0 & 0 & 42\\\\\n",
       "\tYDTG & YDTG    & 0 & 0 & 0 & 0 & 0 & 75 & 0 & 0 & 0 & 0 & 0 & 0 & 78\\\\\n",
       "\tS\\%SGANV & S\\%SGANV & 0 & 0 & 0 & 0 & 0 & 34 & 0 & 0 & 0 & 0 & 0 & 0 & 36\\\\\n",
       "\tS\\%TGNTE & S\\%TGNTE & 0 & 0 & 0 & 0 & 0 & 34 & 0 & 0 & 0 & 0 & 0 & 0 & 35\\\\\n",
       "\tSVG\\%NTE & SVG\\%NTE & 0 & 0 & 0 & 0 & 0 & 28 & 0 & 0 & 0 & 0 & 0 & 0 & 31\\\\\n",
       "\\end{tabular}\n"
      ],
      "text/markdown": [
       "\n",
       "A data.frame: 6 x 14\n",
       "\n",
       "| <!--/--> | gliph &lt;chr&gt; | CMV &lt;dbl&gt; | EBV &lt;dbl&gt; | HCV &lt;dbl&gt; | Influenza &lt;dbl&gt; | HomoSapiens &lt;dbl&gt; | MDavis &lt;dbl&gt; | HPV &lt;dbl&gt; | CEF &lt;dbl&gt; | TB &lt;dbl&gt; | MCPyV &lt;dbl&gt; | SP &lt;dbl&gt; | DENV &lt;dbl&gt; | n_unique_cdr3 &lt;int&gt; |\n",
       "|---|---|---|---|---|---|---|---|---|---|---|---|---|---|---|\n",
       "| SLG%E | SLG%E   | 0 | 0 | 0 | 0 | 0 | 39 | 0 | 0 | 0 | 0 | 0 | 0 | 53 |\n",
       "| S%GGNTE | S%GGNTE | 0 | 0 | 0 | 0 | 1 | 40 | 0 | 0 | 0 | 0 | 0 | 0 | 42 |\n",
       "| YDTG | YDTG    | 0 | 0 | 0 | 0 | 0 | 75 | 0 | 0 | 0 | 0 | 0 | 0 | 78 |\n",
       "| S%SGANV | S%SGANV | 0 | 0 | 0 | 0 | 0 | 34 | 0 | 0 | 0 | 0 | 0 | 0 | 36 |\n",
       "| S%TGNTE | S%TGNTE | 0 | 0 | 0 | 0 | 0 | 34 | 0 | 0 | 0 | 0 | 0 | 0 | 35 |\n",
       "| SVG%NTE | SVG%NTE | 0 | 0 | 0 | 0 | 0 | 28 | 0 | 0 | 0 | 0 | 0 | 0 | 31 |\n",
       "\n"
      ],
      "text/plain": [
       "        gliph   CMV EBV HCV Influenza HomoSapiens MDavis HPV CEF TB MCPyV SP\n",
       "SLG%E   SLG%E   0   0   0   0         0           39     0   0   0  0     0 \n",
       "S%GGNTE S%GGNTE 0   0   0   0         1           40     0   0   0  0     0 \n",
       "YDTG    YDTG    0   0   0   0         0           75     0   0   0  0     0 \n",
       "S%SGANV S%SGANV 0   0   0   0         0           34     0   0   0  0     0 \n",
       "S%TGNTE S%TGNTE 0   0   0   0         0           34     0   0   0  0     0 \n",
       "SVG%NTE SVG%NTE 0   0   0   0         0           28     0   0   0  0     0 \n",
       "        DENV n_unique_cdr3\n",
       "SLG%E   0    53           \n",
       "S%GGNTE 0    42           \n",
       "YDTG    0    78           \n",
       "S%SGANV 0    36           \n",
       "S%TGNTE 0    35           \n",
       "SVG%NTE 0    31           "
      ]
     },
     "metadata": {},
     "output_type": "display_data"
    }
   ],
   "source": [
    "head(gliphdf)"
   ]
  },
  {
   "cell_type": "code",
   "execution_count": null,
   "metadata": {
    "vscode": {
     "languageId": "r"
    }
   },
   "outputs": [
    {
     "data": {
      "text/html": [
       "<table class=\"dataframe\">\n",
       "<caption>A data.frame: 6 x 12</caption>\n",
       "<thead>\n",
       "\t<tr><th></th><th scope=col>CMV</th><th scope=col>EBV</th><th scope=col>HCV</th><th scope=col>Influenza</th><th scope=col>HomoSapiens</th><th scope=col>MDavis</th><th scope=col>HPV</th><th scope=col>CEF</th><th scope=col>TB</th><th scope=col>MCPyV</th><th scope=col>SP</th><th scope=col>DENV</th></tr>\n",
       "\t<tr><th></th><th scope=col>&lt;dbl&gt;</th><th scope=col>&lt;dbl&gt;</th><th scope=col>&lt;dbl&gt;</th><th scope=col>&lt;dbl&gt;</th><th scope=col>&lt;dbl&gt;</th><th scope=col>&lt;dbl&gt;</th><th scope=col>&lt;dbl&gt;</th><th scope=col>&lt;dbl&gt;</th><th scope=col>&lt;dbl&gt;</th><th scope=col>&lt;dbl&gt;</th><th scope=col>&lt;dbl&gt;</th><th scope=col>&lt;dbl&gt;</th></tr>\n",
       "</thead>\n",
       "<tbody>\n",
       "\t<tr><th scope=row>SLG%E</th><td>0</td><td>0</td><td>0</td><td>0</td><td>   0</td><td>1935</td><td>0</td><td>0</td><td>0</td><td>0</td><td>0</td><td>0</td></tr>\n",
       "\t<tr><th scope=row>S%GGNTE</th><td>0</td><td>0</td><td>0</td><td>0</td><td>1027</td><td>1027</td><td>0</td><td>0</td><td>0</td><td>0</td><td>0</td><td>0</td></tr>\n",
       "\t<tr><th scope=row>YDTG</th><td>0</td><td>0</td><td>0</td><td>0</td><td>   0</td><td> 124</td><td>0</td><td>0</td><td>0</td><td>0</td><td>0</td><td>0</td></tr>\n",
       "\t<tr><th scope=row>S%SGANV</th><td>0</td><td>0</td><td>0</td><td>0</td><td>   0</td><td>1147</td><td>0</td><td>0</td><td>0</td><td>0</td><td>0</td><td>0</td></tr>\n",
       "\t<tr><th scope=row>S%TGNTE</th><td>0</td><td>0</td><td>0</td><td>0</td><td>   0</td><td>1347</td><td>0</td><td>0</td><td>0</td><td>0</td><td>0</td><td>0</td></tr>\n",
       "\t<tr><th scope=row>SVG%NTE</th><td>0</td><td>0</td><td>0</td><td>0</td><td>   0</td><td> 705</td><td>0</td><td>0</td><td>0</td><td>0</td><td>0</td><td>0</td></tr>\n",
       "</tbody>\n",
       "</table>\n"
      ],
      "text/latex": [
       "A data.frame: 6 x 12\n",
       "\\begin{tabular}{r|llllllllllll}\n",
       "  & CMV & EBV & HCV & Influenza & HomoSapiens & MDavis & HPV & CEF & TB & MCPyV & SP & DENV\\\\\n",
       "  & <dbl> & <dbl> & <dbl> & <dbl> & <dbl> & <dbl> & <dbl> & <dbl> & <dbl> & <dbl> & <dbl> & <dbl>\\\\\n",
       "\\hline\n",
       "\tSLG\\%E & 0 & 0 & 0 & 0 &    0 & 1935 & 0 & 0 & 0 & 0 & 0 & 0\\\\\n",
       "\tS\\%GGNTE & 0 & 0 & 0 & 0 & 1027 & 1027 & 0 & 0 & 0 & 0 & 0 & 0\\\\\n",
       "\tYDTG & 0 & 0 & 0 & 0 &    0 &  124 & 0 & 0 & 0 & 0 & 0 & 0\\\\\n",
       "\tS\\%SGANV & 0 & 0 & 0 & 0 &    0 & 1147 & 0 & 0 & 0 & 0 & 0 & 0\\\\\n",
       "\tS\\%TGNTE & 0 & 0 & 0 & 0 &    0 & 1347 & 0 & 0 & 0 & 0 & 0 & 0\\\\\n",
       "\tSVG\\%NTE & 0 & 0 & 0 & 0 &    0 &  705 & 0 & 0 & 0 & 0 & 0 & 0\\\\\n",
       "\\end{tabular}\n"
      ],
      "text/markdown": [
       "\n",
       "A data.frame: 6 x 12\n",
       "\n",
       "| <!--/--> | CMV &lt;dbl&gt; | EBV &lt;dbl&gt; | HCV &lt;dbl&gt; | Influenza &lt;dbl&gt; | HomoSapiens &lt;dbl&gt; | MDavis &lt;dbl&gt; | HPV &lt;dbl&gt; | CEF &lt;dbl&gt; | TB &lt;dbl&gt; | MCPyV &lt;dbl&gt; | SP &lt;dbl&gt; | DENV &lt;dbl&gt; |\n",
       "|---|---|---|---|---|---|---|---|---|---|---|---|---|\n",
       "| SLG%E | 0 | 0 | 0 | 0 |    0 | 1935 | 0 | 0 | 0 | 0 | 0 | 0 |\n",
       "| S%GGNTE | 0 | 0 | 0 | 0 | 1027 | 1027 | 0 | 0 | 0 | 0 | 0 | 0 |\n",
       "| YDTG | 0 | 0 | 0 | 0 |    0 |  124 | 0 | 0 | 0 | 0 | 0 | 0 |\n",
       "| S%SGANV | 0 | 0 | 0 | 0 |    0 | 1147 | 0 | 0 | 0 | 0 | 0 | 0 |\n",
       "| S%TGNTE | 0 | 0 | 0 | 0 |    0 | 1347 | 0 | 0 | 0 | 0 | 0 | 0 |\n",
       "| SVG%NTE | 0 | 0 | 0 | 0 |    0 |  705 | 0 | 0 | 0 | 0 | 0 | 0 |\n",
       "\n"
      ],
      "text/plain": [
       "        CMV EBV HCV Influenza HomoSapiens MDavis HPV CEF TB MCPyV SP DENV\n",
       "SLG%E   0   0   0   0            0        1935   0   0   0  0     0  0   \n",
       "S%GGNTE 0   0   0   0         1027        1027   0   0   0  0     0  0   \n",
       "YDTG    0   0   0   0            0         124   0   0   0  0     0  0   \n",
       "S%SGANV 0   0   0   0            0        1147   0   0   0  0     0  0   \n",
       "S%TGNTE 0   0   0   0            0        1347   0   0   0  0     0  0   \n",
       "SVG%NTE 0   0   0   0            0         705   0   0   0  0     0  0   "
      ]
     },
     "metadata": {},
     "output_type": "display_data"
    }
   ],
   "source": [
    "head(gliphdf_freq)"
   ]
  },
  {
   "cell_type": "code",
   "execution_count": null,
   "metadata": {
    "vscode": {
     "languageId": "r"
    }
   },
   "outputs": [
    {
     "data": {
      "text/html": [
       "<style>\n",
       ".list-inline {list-style: none; margin:0; padding: 0}\n",
       ".list-inline>li {display: inline-block}\n",
       ".list-inline>li:not(:last-child)::after {content: \"\\00b7\"; padding: 0 .5ex}\n",
       "</style>\n",
       "<ol class=list-inline><li>'index'</li><li>'pattern'</li><li>'Fisher_score'</li><li>'number_subject'</li><li>'number_unique_cdr3'</li><li>'final_score'</li><li>'hla_score'</li><li>'vb_score'</li><li>'expansion_score'</li><li>'length_score'</li><li>'cluster_size_score'</li><li>'type'</li><li>'TcRb'</li><li>'V'</li><li>'J'</li><li>'TcRa'</li><li>'Sample'</li><li>'Freq'</li><li>'subject'</li></ol>\n"
      ],
      "text/latex": [
       "\\begin{enumerate*}\n",
       "\\item 'index'\n",
       "\\item 'pattern'\n",
       "\\item 'Fisher\\_score'\n",
       "\\item 'number\\_subject'\n",
       "\\item 'number\\_unique\\_cdr3'\n",
       "\\item 'final\\_score'\n",
       "\\item 'hla\\_score'\n",
       "\\item 'vb\\_score'\n",
       "\\item 'expansion\\_score'\n",
       "\\item 'length\\_score'\n",
       "\\item 'cluster\\_size\\_score'\n",
       "\\item 'type'\n",
       "\\item 'TcRb'\n",
       "\\item 'V'\n",
       "\\item 'J'\n",
       "\\item 'TcRa'\n",
       "\\item 'Sample'\n",
       "\\item 'Freq'\n",
       "\\item 'subject'\n",
       "\\end{enumerate*}\n"
      ],
      "text/markdown": [
       "1. 'index'\n",
       "2. 'pattern'\n",
       "3. 'Fisher_score'\n",
       "4. 'number_subject'\n",
       "5. 'number_unique_cdr3'\n",
       "6. 'final_score'\n",
       "7. 'hla_score'\n",
       "8. 'vb_score'\n",
       "9. 'expansion_score'\n",
       "10. 'length_score'\n",
       "11. 'cluster_size_score'\n",
       "12. 'type'\n",
       "13. 'TcRb'\n",
       "14. 'V'\n",
       "15. 'J'\n",
       "16. 'TcRa'\n",
       "17. 'Sample'\n",
       "18. 'Freq'\n",
       "19. 'subject'\n",
       "\n",
       "\n"
      ],
      "text/plain": [
       " [1] \"index\"              \"pattern\"            \"Fisher_score\"      \n",
       " [4] \"number_subject\"     \"number_unique_cdr3\" \"final_score\"       \n",
       " [7] \"hla_score\"          \"vb_score\"           \"expansion_score\"   \n",
       "[10] \"length_score\"       \"cluster_size_score\" \"type\"              \n",
       "[13] \"TcRb\"               \"V\"                  \"J\"                 \n",
       "[16] \"TcRa\"               \"Sample\"             \"Freq\"              \n",
       "[19] \"subject\"           "
      ]
     },
     "metadata": {},
     "output_type": "display_data"
    }
   ],
   "source": [
    "colnames(gliphout)"
   ]
  },
  {
   "cell_type": "code",
   "execution_count": null,
   "metadata": {
    "vscode": {
     "languageId": "r"
    }
   },
   "outputs": [
    {
     "data": {
      "text/html": [
       "<table class=\"dataframe\">\n",
       "<caption>A data.frame: 6 x 18</caption>\n",
       "<thead>\n",
       "\t<tr><th></th><th scope=col>CMV</th><th scope=col>EBV</th><th scope=col>HCV</th><th scope=col>Influenza</th><th scope=col>HomoSapiens</th><th scope=col>MDavis</th><th scope=col>HPV</th><th scope=col>CEF</th><th scope=col>TB</th><th scope=col>MCPyV</th><th scope=col>SP</th><th scope=col>DENV</th><th scope=col>n_cdr3</th><th scope=col>cdr3_reads</th><th scope=col>n_gliph</th><th scope=col>n_cdr3ingliph</th><th scope=col>cdr3reads_ingliph</th><th scope=col>study</th></tr>\n",
       "\t<tr><th></th><th scope=col>&lt;lgl&gt;</th><th scope=col>&lt;lgl&gt;</th><th scope=col>&lt;lgl&gt;</th><th scope=col>&lt;lgl&gt;</th><th scope=col>&lt;lgl&gt;</th><th scope=col>&lt;lgl&gt;</th><th scope=col>&lt;lgl&gt;</th><th scope=col>&lt;lgl&gt;</th><th scope=col>&lt;lgl&gt;</th><th scope=col>&lt;lgl&gt;</th><th scope=col>&lt;lgl&gt;</th><th scope=col>&lt;lgl&gt;</th><th scope=col>&lt;int&gt;</th><th scope=col>&lt;dbl&gt;</th><th scope=col>&lt;dbl&gt;</th><th scope=col>&lt;int&gt;</th><th scope=col>&lt;dbl&gt;</th><th scope=col>&lt;chr&gt;</th></tr>\n",
       "</thead>\n",
       "<tbody>\n",
       "\t<tr><th scope=row>Emerson:P00001</th><td>NA</td><td>NA</td><td>NA</td><td>NA</td><td>NA</td><td>NA</td><td>NA</td><td>NA</td><td>NA</td><td>NA</td><td>NA</td><td>NA</td><td>314</td><td>30394</td><td>333</td><td>150</td><td>33353</td><td>Emerson_adult</td></tr>\n",
       "\t<tr><th scope=row>Emerson:P00002</th><td>NA</td><td>NA</td><td>NA</td><td>NA</td><td>NA</td><td>NA</td><td>NA</td><td>NA</td><td>NA</td><td>NA</td><td>NA</td><td>NA</td><td> 82</td><td> 1940</td><td> 73</td><td> 36</td><td> 1637</td><td>Emerson_adult</td></tr>\n",
       "\t<tr><th scope=row>Emerson:P00004</th><td>NA</td><td>NA</td><td>NA</td><td>NA</td><td>NA</td><td>NA</td><td>NA</td><td>NA</td><td>NA</td><td>NA</td><td>NA</td><td>NA</td><td>504</td><td>48734</td><td>521</td><td>215</td><td>63165</td><td>Emerson_adult</td></tr>\n",
       "\t<tr><th scope=row>Emerson:P00005</th><td>NA</td><td>NA</td><td>NA</td><td>NA</td><td>NA</td><td>NA</td><td>NA</td><td>NA</td><td>NA</td><td>NA</td><td>NA</td><td>NA</td><td>205</td><td> 8595</td><td>193</td><td> 97</td><td> 6399</td><td>Emerson_adult</td></tr>\n",
       "\t<tr><th scope=row>Emerson:P00006</th><td>NA</td><td>NA</td><td>NA</td><td>NA</td><td>NA</td><td>NA</td><td>NA</td><td>NA</td><td>NA</td><td>NA</td><td>NA</td><td>NA</td><td>  3</td><td>  222</td><td>  1</td><td>  1</td><td>   68</td><td>Emerson_adult</td></tr>\n",
       "\t<tr><th scope=row>Emerson:P00008</th><td>NA</td><td>NA</td><td>NA</td><td>NA</td><td>NA</td><td>NA</td><td>NA</td><td>NA</td><td>NA</td><td>NA</td><td>NA</td><td>NA</td><td>252</td><td> 5723</td><td>276</td><td>117</td><td> 5759</td><td>Emerson_adult</td></tr>\n",
       "</tbody>\n",
       "</table>\n"
      ],
      "text/latex": [
       "A data.frame: 6 x 18\n",
       "\\begin{tabular}{r|llllllllllllllllll}\n",
       "  & CMV & EBV & HCV & Influenza & HomoSapiens & MDavis & HPV & CEF & TB & MCPyV & SP & DENV & n\\_cdr3 & cdr3\\_reads & n\\_gliph & n\\_cdr3ingliph & cdr3reads\\_ingliph & study\\\\\n",
       "  & <lgl> & <lgl> & <lgl> & <lgl> & <lgl> & <lgl> & <lgl> & <lgl> & <lgl> & <lgl> & <lgl> & <lgl> & <int> & <dbl> & <dbl> & <int> & <dbl> & <chr>\\\\\n",
       "\\hline\n",
       "\tEmerson:P00001 & NA & NA & NA & NA & NA & NA & NA & NA & NA & NA & NA & NA & 314 & 30394 & 333 & 150 & 33353 & Emerson\\_adult\\\\\n",
       "\tEmerson:P00002 & NA & NA & NA & NA & NA & NA & NA & NA & NA & NA & NA & NA &  82 &  1940 &  73 &  36 &  1637 & Emerson\\_adult\\\\\n",
       "\tEmerson:P00004 & NA & NA & NA & NA & NA & NA & NA & NA & NA & NA & NA & NA & 504 & 48734 & 521 & 215 & 63165 & Emerson\\_adult\\\\\n",
       "\tEmerson:P00005 & NA & NA & NA & NA & NA & NA & NA & NA & NA & NA & NA & NA & 205 &  8595 & 193 &  97 &  6399 & Emerson\\_adult\\\\\n",
       "\tEmerson:P00006 & NA & NA & NA & NA & NA & NA & NA & NA & NA & NA & NA & NA &   3 &   222 &   1 &   1 &    68 & Emerson\\_adult\\\\\n",
       "\tEmerson:P00008 & NA & NA & NA & NA & NA & NA & NA & NA & NA & NA & NA & NA & 252 &  5723 & 276 & 117 &  5759 & Emerson\\_adult\\\\\n",
       "\\end{tabular}\n"
      ],
      "text/markdown": [
       "\n",
       "A data.frame: 6 x 18\n",
       "\n",
       "| <!--/--> | CMV &lt;lgl&gt; | EBV &lt;lgl&gt; | HCV &lt;lgl&gt; | Influenza &lt;lgl&gt; | HomoSapiens &lt;lgl&gt; | MDavis &lt;lgl&gt; | HPV &lt;lgl&gt; | CEF &lt;lgl&gt; | TB &lt;lgl&gt; | MCPyV &lt;lgl&gt; | SP &lt;lgl&gt; | DENV &lt;lgl&gt; | n_cdr3 &lt;int&gt; | cdr3_reads &lt;dbl&gt; | n_gliph &lt;dbl&gt; | n_cdr3ingliph &lt;int&gt; | cdr3reads_ingliph &lt;dbl&gt; | study &lt;chr&gt; |\n",
       "|---|---|---|---|---|---|---|---|---|---|---|---|---|---|---|---|---|---|---|\n",
       "| Emerson:P00001 | NA | NA | NA | NA | NA | NA | NA | NA | NA | NA | NA | NA | 314 | 30394 | 333 | 150 | 33353 | Emerson_adult |\n",
       "| Emerson:P00002 | NA | NA | NA | NA | NA | NA | NA | NA | NA | NA | NA | NA |  82 |  1940 |  73 |  36 |  1637 | Emerson_adult |\n",
       "| Emerson:P00004 | NA | NA | NA | NA | NA | NA | NA | NA | NA | NA | NA | NA | 504 | 48734 | 521 | 215 | 63165 | Emerson_adult |\n",
       "| Emerson:P00005 | NA | NA | NA | NA | NA | NA | NA | NA | NA | NA | NA | NA | 205 |  8595 | 193 |  97 |  6399 | Emerson_adult |\n",
       "| Emerson:P00006 | NA | NA | NA | NA | NA | NA | NA | NA | NA | NA | NA | NA |   3 |   222 |   1 |   1 |    68 | Emerson_adult |\n",
       "| Emerson:P00008 | NA | NA | NA | NA | NA | NA | NA | NA | NA | NA | NA | NA | 252 |  5723 | 276 | 117 |  5759 | Emerson_adult |\n",
       "\n"
      ],
      "text/plain": [
       "               CMV EBV HCV Influenza HomoSapiens MDavis HPV CEF TB MCPyV SP\n",
       "Emerson:P00001 NA  NA  NA  NA        NA          NA     NA  NA  NA NA    NA\n",
       "Emerson:P00002 NA  NA  NA  NA        NA          NA     NA  NA  NA NA    NA\n",
       "Emerson:P00004 NA  NA  NA  NA        NA          NA     NA  NA  NA NA    NA\n",
       "Emerson:P00005 NA  NA  NA  NA        NA          NA     NA  NA  NA NA    NA\n",
       "Emerson:P00006 NA  NA  NA  NA        NA          NA     NA  NA  NA NA    NA\n",
       "Emerson:P00008 NA  NA  NA  NA        NA          NA     NA  NA  NA NA    NA\n",
       "               DENV n_cdr3 cdr3_reads n_gliph n_cdr3ingliph cdr3reads_ingliph\n",
       "Emerson:P00001 NA   314    30394      333     150           33353            \n",
       "Emerson:P00002 NA    82     1940       73      36            1637            \n",
       "Emerson:P00004 NA   504    48734      521     215           63165            \n",
       "Emerson:P00005 NA   205     8595      193      97            6399            \n",
       "Emerson:P00006 NA     3      222        1       1              68            \n",
       "Emerson:P00008 NA   252     5723      276     117            5759            \n",
       "               study        \n",
       "Emerson:P00001 Emerson_adult\n",
       "Emerson:P00002 Emerson_adult\n",
       "Emerson:P00004 Emerson_adult\n",
       "Emerson:P00005 Emerson_adult\n",
       "Emerson:P00006 Emerson_adult\n",
       "Emerson:P00008 Emerson_adult"
      ]
     },
     "metadata": {},
     "output_type": "display_data"
    }
   ],
   "source": [
    "head(samples_tcr_freq)"
   ]
  },
  {
   "cell_type": "code",
   "execution_count": null,
   "metadata": {
    "vscode": {
     "languageId": "r"
    }
   },
   "outputs": [
    {
     "data": {
      "text/html": [
       "<style>\n",
       ".list-inline {list-style: none; margin:0; padding: 0}\n",
       ".list-inline>li {display: inline-block}\n",
       ".list-inline>li:not(:last-child)::after {content: \"\\00b7\"; padding: 0 .5ex}\n",
       "</style>\n",
       "<ol class=list-inline><li>'CMV'</li><li>'EBV'</li><li>'HCV'</li><li>'Influenza'</li><li>'HomoSapiens'</li><li>'MDavis'</li><li>'HPV'</li><li>'CEF'</li><li>'TB'</li><li>'MCPyV'</li><li>'SP'</li><li>'DENV'</li></ol>\n"
      ],
      "text/latex": [
       "\\begin{enumerate*}\n",
       "\\item 'CMV'\n",
       "\\item 'EBV'\n",
       "\\item 'HCV'\n",
       "\\item 'Influenza'\n",
       "\\item 'HomoSapiens'\n",
       "\\item 'MDavis'\n",
       "\\item 'HPV'\n",
       "\\item 'CEF'\n",
       "\\item 'TB'\n",
       "\\item 'MCPyV'\n",
       "\\item 'SP'\n",
       "\\item 'DENV'\n",
       "\\end{enumerate*}\n"
      ],
      "text/markdown": [
       "1. 'CMV'\n",
       "2. 'EBV'\n",
       "3. 'HCV'\n",
       "4. 'Influenza'\n",
       "5. 'HomoSapiens'\n",
       "6. 'MDavis'\n",
       "7. 'HPV'\n",
       "8. 'CEF'\n",
       "9. 'TB'\n",
       "10. 'MCPyV'\n",
       "11. 'SP'\n",
       "12. 'DENV'\n",
       "\n",
       "\n"
      ],
      "text/plain": [
       " [1] \"CMV\"         \"EBV\"         \"HCV\"         \"Influenza\"   \"HomoSapiens\"\n",
       " [6] \"MDavis\"      \"HPV\"         \"CEF\"         \"TB\"          \"MCPyV\"      \n",
       "[11] \"SP\"          \"DENV\"       "
      ]
     },
     "metadata": {},
     "output_type": "display_data"
    },
    {
     "data": {
      "text/html": [
       "<style>\n",
       ".list-inline {list-style: none; margin:0; padding: 0}\n",
       ".list-inline>li {display: inline-block}\n",
       ".list-inline>li:not(:last-child)::after {content: \"\\00b7\"; padding: 0 .5ex}\n",
       "</style>\n",
       "<ol class=list-inline><li>'CMV'</li><li>'EBV'</li><li>'HCV'</li><li>'Influenza'</li><li>'HomoSapiens'</li><li>'MDavis'</li><li>'HPV'</li><li>'CEF'</li><li>'TB'</li><li>'MCPyV'</li><li>'SP'</li><li>'DENV'</li><li>'n_cdr3'</li><li>'cdr3_reads'</li><li>'n_gliph'</li><li>'n_cdr3ingliph'</li><li>'cdr3reads_ingliph'</li><li>'study'</li></ol>\n"
      ],
      "text/latex": [
       "\\begin{enumerate*}\n",
       "\\item 'CMV'\n",
       "\\item 'EBV'\n",
       "\\item 'HCV'\n",
       "\\item 'Influenza'\n",
       "\\item 'HomoSapiens'\n",
       "\\item 'MDavis'\n",
       "\\item 'HPV'\n",
       "\\item 'CEF'\n",
       "\\item 'TB'\n",
       "\\item 'MCPyV'\n",
       "\\item 'SP'\n",
       "\\item 'DENV'\n",
       "\\item 'n\\_cdr3'\n",
       "\\item 'cdr3\\_reads'\n",
       "\\item 'n\\_gliph'\n",
       "\\item 'n\\_cdr3ingliph'\n",
       "\\item 'cdr3reads\\_ingliph'\n",
       "\\item 'study'\n",
       "\\end{enumerate*}\n"
      ],
      "text/markdown": [
       "1. 'CMV'\n",
       "2. 'EBV'\n",
       "3. 'HCV'\n",
       "4. 'Influenza'\n",
       "5. 'HomoSapiens'\n",
       "6. 'MDavis'\n",
       "7. 'HPV'\n",
       "8. 'CEF'\n",
       "9. 'TB'\n",
       "10. 'MCPyV'\n",
       "11. 'SP'\n",
       "12. 'DENV'\n",
       "13. 'n_cdr3'\n",
       "14. 'cdr3_reads'\n",
       "15. 'n_gliph'\n",
       "16. 'n_cdr3ingliph'\n",
       "17. 'cdr3reads_ingliph'\n",
       "18. 'study'\n",
       "\n",
       "\n"
      ],
      "text/plain": [
       " [1] \"CMV\"               \"EBV\"               \"HCV\"              \n",
       " [4] \"Influenza\"         \"HomoSapiens\"       \"MDavis\"           \n",
       " [7] \"HPV\"               \"CEF\"               \"TB\"               \n",
       "[10] \"MCPyV\"             \"SP\"                \"DENV\"             \n",
       "[13] \"n_cdr3\"            \"cdr3_reads\"        \"n_gliph\"          \n",
       "[16] \"n_cdr3ingliph\"     \"cdr3reads_ingliph\" \"study\"            "
      ]
     },
     "metadata": {},
     "output_type": "display_data"
    }
   ],
   "source": [
    "colnames(gliphdf_freq)\n",
    "colnames(samples_tcr_freq)"
   ]
  },
  {
   "cell_type": "code",
   "execution_count": null,
   "metadata": {
    "vscode": {
     "languageId": "r"
    }
   },
   "outputs": [],
   "source": [
    "gliphout$sample_id <- gsub(\"_.*\", \"\", gliphout$Sample)"
   ]
  },
  {
   "cell_type": "code",
   "execution_count": null,
   "metadata": {
    "vscode": {
     "languageId": "r"
    }
   },
   "outputs": [],
   "source": [
    "myantigens <- c('CMV','EBV','HCV','Influenza','HomoSapiens','MDavis','HPV','CEF','TB','MCPyV','SP','DENV')\n",
    "# count number of annotated gliph groups for each sample\n",
    "for (i in 1:nrow(samples_tcr_freq)) {\n",
    "    mysample <- gliphout[gliphout$sample_id == rownames(samples_tcr_freq)[i], ]\n",
    "    for (a in myantigens) {\n",
    "        tmp <- gliphout[gliphout$pattern %in% mysample$pattern, ] # subset to include patterns in my sample\n",
    "        antigen_gliphs <- tmp$pattern[grepl(a, tmp$subject)] # get antigen gliphs\n",
    "        samples_tcr_freq[i, a] <- sum(mysample$Freq[mysample$pattern %in% antigen_gliphs])\n",
    "    }\n",
    "}\n"
   ]
  },
  {
   "cell_type": "code",
   "execution_count": null,
   "metadata": {
    "vscode": {
     "languageId": "r"
    }
   },
   "outputs": [
    {
     "data": {
      "text/html": [
       "<table class=\"dataframe\">\n",
       "<caption>A data.frame: 6 x 18</caption>\n",
       "<thead>\n",
       "\t<tr><th></th><th scope=col>CMV</th><th scope=col>EBV</th><th scope=col>HCV</th><th scope=col>Influenza</th><th scope=col>HomoSapiens</th><th scope=col>MDavis</th><th scope=col>HPV</th><th scope=col>CEF</th><th scope=col>TB</th><th scope=col>MCPyV</th><th scope=col>SP</th><th scope=col>DENV</th><th scope=col>n_cdr3</th><th scope=col>cdr3_reads</th><th scope=col>n_gliph</th><th scope=col>n_cdr3ingliph</th><th scope=col>cdr3reads_ingliph</th><th scope=col>study</th></tr>\n",
       "\t<tr><th></th><th scope=col>&lt;dbl&gt;</th><th scope=col>&lt;dbl&gt;</th><th scope=col>&lt;dbl&gt;</th><th scope=col>&lt;dbl&gt;</th><th scope=col>&lt;dbl&gt;</th><th scope=col>&lt;dbl&gt;</th><th scope=col>&lt;dbl&gt;</th><th scope=col>&lt;dbl&gt;</th><th scope=col>&lt;dbl&gt;</th><th scope=col>&lt;dbl&gt;</th><th scope=col>&lt;dbl&gt;</th><th scope=col>&lt;dbl&gt;</th><th scope=col>&lt;int&gt;</th><th scope=col>&lt;dbl&gt;</th><th scope=col>&lt;dbl&gt;</th><th scope=col>&lt;int&gt;</th><th scope=col>&lt;dbl&gt;</th><th scope=col>&lt;chr&gt;</th></tr>\n",
       "</thead>\n",
       "<tbody>\n",
       "\t<tr><th scope=row>Emerson:P00001</th><td>227</td><td>364</td><td>427</td><td>  0</td><td> 327</td><td>12546</td><td>465</td><td>0</td><td>0</td><td>100</td><td>0</td><td>0</td><td>314</td><td>30394</td><td>333</td><td>150</td><td>33353</td><td>Emerson_adult</td></tr>\n",
       "\t<tr><th scope=row>Emerson:P00002</th><td> 46</td><td> 18</td><td> 25</td><td>  0</td><td>  19</td><td>  894</td><td>  0</td><td>0</td><td>0</td><td>  0</td><td>0</td><td>0</td><td> 82</td><td> 1940</td><td> 73</td><td> 36</td><td> 1637</td><td>Emerson_adult</td></tr>\n",
       "\t<tr><th scope=row>Emerson:P00004</th><td>432</td><td>274</td><td>249</td><td>465</td><td>1146</td><td>39163</td><td> 70</td><td>0</td><td>0</td><td>226</td><td>0</td><td>0</td><td>504</td><td>48734</td><td>521</td><td>215</td><td>63165</td><td>Emerson_adult</td></tr>\n",
       "\t<tr><th scope=row>Emerson:P00005</th><td>102</td><td>  0</td><td> 23</td><td>  0</td><td>  21</td><td> 3000</td><td>  0</td><td>0</td><td>0</td><td> 67</td><td>0</td><td>0</td><td>205</td><td> 8595</td><td>193</td><td> 97</td><td> 6399</td><td>Emerson_adult</td></tr>\n",
       "\t<tr><th scope=row>Emerson:P00006</th><td>  0</td><td>  0</td><td>  0</td><td>  0</td><td>   0</td><td>    0</td><td>  0</td><td>0</td><td>0</td><td>  0</td><td>0</td><td>0</td><td>  3</td><td>  222</td><td>  1</td><td>  1</td><td>   68</td><td>Emerson_adult</td></tr>\n",
       "\t<tr><th scope=row>Emerson:P00008</th><td> 37</td><td> 82</td><td>127</td><td>  0</td><td> 277</td><td> 2974</td><td>  0</td><td>0</td><td>0</td><td>  0</td><td>0</td><td>0</td><td>252</td><td> 5723</td><td>276</td><td>117</td><td> 5759</td><td>Emerson_adult</td></tr>\n",
       "</tbody>\n",
       "</table>\n"
      ],
      "text/latex": [
       "A data.frame: 6 x 18\n",
       "\\begin{tabular}{r|llllllllllllllllll}\n",
       "  & CMV & EBV & HCV & Influenza & HomoSapiens & MDavis & HPV & CEF & TB & MCPyV & SP & DENV & n\\_cdr3 & cdr3\\_reads & n\\_gliph & n\\_cdr3ingliph & cdr3reads\\_ingliph & study\\\\\n",
       "  & <dbl> & <dbl> & <dbl> & <dbl> & <dbl> & <dbl> & <dbl> & <dbl> & <dbl> & <dbl> & <dbl> & <dbl> & <int> & <dbl> & <dbl> & <int> & <dbl> & <chr>\\\\\n",
       "\\hline\n",
       "\tEmerson:P00001 & 227 & 364 & 427 &   0 &  327 & 12546 & 465 & 0 & 0 & 100 & 0 & 0 & 314 & 30394 & 333 & 150 & 33353 & Emerson\\_adult\\\\\n",
       "\tEmerson:P00002 &  46 &  18 &  25 &   0 &   19 &   894 &   0 & 0 & 0 &   0 & 0 & 0 &  82 &  1940 &  73 &  36 &  1637 & Emerson\\_adult\\\\\n",
       "\tEmerson:P00004 & 432 & 274 & 249 & 465 & 1146 & 39163 &  70 & 0 & 0 & 226 & 0 & 0 & 504 & 48734 & 521 & 215 & 63165 & Emerson\\_adult\\\\\n",
       "\tEmerson:P00005 & 102 &   0 &  23 &   0 &   21 &  3000 &   0 & 0 & 0 &  67 & 0 & 0 & 205 &  8595 & 193 &  97 &  6399 & Emerson\\_adult\\\\\n",
       "\tEmerson:P00006 &   0 &   0 &   0 &   0 &    0 &     0 &   0 & 0 & 0 &   0 & 0 & 0 &   3 &   222 &   1 &   1 &    68 & Emerson\\_adult\\\\\n",
       "\tEmerson:P00008 &  37 &  82 & 127 &   0 &  277 &  2974 &   0 & 0 & 0 &   0 & 0 & 0 & 252 &  5723 & 276 & 117 &  5759 & Emerson\\_adult\\\\\n",
       "\\end{tabular}\n"
      ],
      "text/markdown": [
       "\n",
       "A data.frame: 6 x 18\n",
       "\n",
       "| <!--/--> | CMV &lt;dbl&gt; | EBV &lt;dbl&gt; | HCV &lt;dbl&gt; | Influenza &lt;dbl&gt; | HomoSapiens &lt;dbl&gt; | MDavis &lt;dbl&gt; | HPV &lt;dbl&gt; | CEF &lt;dbl&gt; | TB &lt;dbl&gt; | MCPyV &lt;dbl&gt; | SP &lt;dbl&gt; | DENV &lt;dbl&gt; | n_cdr3 &lt;int&gt; | cdr3_reads &lt;dbl&gt; | n_gliph &lt;dbl&gt; | n_cdr3ingliph &lt;int&gt; | cdr3reads_ingliph &lt;dbl&gt; | study &lt;chr&gt; |\n",
       "|---|---|---|---|---|---|---|---|---|---|---|---|---|---|---|---|---|---|---|\n",
       "| Emerson:P00001 | 227 | 364 | 427 |   0 |  327 | 12546 | 465 | 0 | 0 | 100 | 0 | 0 | 314 | 30394 | 333 | 150 | 33353 | Emerson_adult |\n",
       "| Emerson:P00002 |  46 |  18 |  25 |   0 |   19 |   894 |   0 | 0 | 0 |   0 | 0 | 0 |  82 |  1940 |  73 |  36 |  1637 | Emerson_adult |\n",
       "| Emerson:P00004 | 432 | 274 | 249 | 465 | 1146 | 39163 |  70 | 0 | 0 | 226 | 0 | 0 | 504 | 48734 | 521 | 215 | 63165 | Emerson_adult |\n",
       "| Emerson:P00005 | 102 |   0 |  23 |   0 |   21 |  3000 |   0 | 0 | 0 |  67 | 0 | 0 | 205 |  8595 | 193 |  97 |  6399 | Emerson_adult |\n",
       "| Emerson:P00006 |   0 |   0 |   0 |   0 |    0 |     0 |   0 | 0 | 0 |   0 | 0 | 0 |   3 |   222 |   1 |   1 |    68 | Emerson_adult |\n",
       "| Emerson:P00008 |  37 |  82 | 127 |   0 |  277 |  2974 |   0 | 0 | 0 |   0 | 0 | 0 | 252 |  5723 | 276 | 117 |  5759 | Emerson_adult |\n",
       "\n"
      ],
      "text/plain": [
       "               CMV EBV HCV Influenza HomoSapiens MDavis HPV CEF TB MCPyV SP\n",
       "Emerson:P00001 227 364 427   0        327        12546  465 0   0  100   0 \n",
       "Emerson:P00002  46  18  25   0         19          894    0 0   0    0   0 \n",
       "Emerson:P00004 432 274 249 465       1146        39163   70 0   0  226   0 \n",
       "Emerson:P00005 102   0  23   0         21         3000    0 0   0   67   0 \n",
       "Emerson:P00006   0   0   0   0          0            0    0 0   0    0   0 \n",
       "Emerson:P00008  37  82 127   0        277         2974    0 0   0    0   0 \n",
       "               DENV n_cdr3 cdr3_reads n_gliph n_cdr3ingliph cdr3reads_ingliph\n",
       "Emerson:P00001 0    314    30394      333     150           33353            \n",
       "Emerson:P00002 0     82     1940       73      36            1637            \n",
       "Emerson:P00004 0    504    48734      521     215           63165            \n",
       "Emerson:P00005 0    205     8595      193      97            6399            \n",
       "Emerson:P00006 0      3      222        1       1              68            \n",
       "Emerson:P00008 0    252     5723      276     117            5759            \n",
       "               study        \n",
       "Emerson:P00001 Emerson_adult\n",
       "Emerson:P00002 Emerson_adult\n",
       "Emerson:P00004 Emerson_adult\n",
       "Emerson:P00005 Emerson_adult\n",
       "Emerson:P00006 Emerson_adult\n",
       "Emerson:P00008 Emerson_adult"
      ]
     },
     "metadata": {},
     "output_type": "display_data"
    }
   ],
   "source": [
    "head(samples_tcr_freq)"
   ]
  },
  {
   "cell_type": "code",
   "execution_count": null,
   "metadata": {
    "vscode": {
     "languageId": "r"
    }
   },
   "outputs": [],
   "source": [
    "# Replace NA values with 0 in columns\n",
    "columns_to_fill <- colnames(samples_tcr_freq)[1:12]\n",
    "\n",
    "samples_tcr_freq[columns_to_fill] <- lapply(samples_tcr_freq[columns_to_fill], function(x) ifelse(is.na(x), 0, x))\n"
   ]
  },
  {
   "cell_type": "code",
   "execution_count": null,
   "metadata": {
    "vscode": {
     "languageId": "r"
    }
   },
   "outputs": [
    {
     "data": {
      "text/html": [
       "<table class=\"dataframe\">\n",
       "<caption>A data.frame: 6 x 13</caption>\n",
       "<thead>\n",
       "\t<tr><th></th><th scope=col>CMV</th><th scope=col>EBV</th><th scope=col>HCV</th><th scope=col>Influenza</th><th scope=col>HomoSapiens</th><th scope=col>MDavis</th><th scope=col>HPV</th><th scope=col>CEF</th><th scope=col>TB</th><th scope=col>MCPyV</th><th scope=col>SP</th><th scope=col>DENV</th><th scope=col>n_cdr3</th></tr>\n",
       "\t<tr><th></th><th scope=col>&lt;dbl&gt;</th><th scope=col>&lt;dbl&gt;</th><th scope=col>&lt;dbl&gt;</th><th scope=col>&lt;dbl&gt;</th><th scope=col>&lt;dbl&gt;</th><th scope=col>&lt;dbl&gt;</th><th scope=col>&lt;dbl&gt;</th><th scope=col>&lt;dbl&gt;</th><th scope=col>&lt;dbl&gt;</th><th scope=col>&lt;dbl&gt;</th><th scope=col>&lt;dbl&gt;</th><th scope=col>&lt;dbl&gt;</th><th scope=col>&lt;int&gt;</th></tr>\n",
       "</thead>\n",
       "<tbody>\n",
       "\t<tr><th scope=row>Emerson:P00001</th><td>227</td><td>364</td><td>427</td><td>  0</td><td> 327</td><td>12546</td><td>465</td><td>0</td><td>0</td><td>100</td><td>0</td><td>0</td><td>314</td></tr>\n",
       "\t<tr><th scope=row>Emerson:P00002</th><td> 46</td><td> 18</td><td> 25</td><td>  0</td><td>  19</td><td>  894</td><td>  0</td><td>0</td><td>0</td><td>  0</td><td>0</td><td>0</td><td> 82</td></tr>\n",
       "\t<tr><th scope=row>Emerson:P00004</th><td>432</td><td>274</td><td>249</td><td>465</td><td>1146</td><td>39163</td><td> 70</td><td>0</td><td>0</td><td>226</td><td>0</td><td>0</td><td>504</td></tr>\n",
       "\t<tr><th scope=row>Emerson:P00005</th><td>102</td><td>  0</td><td> 23</td><td>  0</td><td>  21</td><td> 3000</td><td>  0</td><td>0</td><td>0</td><td> 67</td><td>0</td><td>0</td><td>205</td></tr>\n",
       "\t<tr><th scope=row>Emerson:P00006</th><td>  0</td><td>  0</td><td>  0</td><td>  0</td><td>   0</td><td>    0</td><td>  0</td><td>0</td><td>0</td><td>  0</td><td>0</td><td>0</td><td>  3</td></tr>\n",
       "\t<tr><th scope=row>Emerson:P00008</th><td> 37</td><td> 82</td><td>127</td><td>  0</td><td> 277</td><td> 2974</td><td>  0</td><td>0</td><td>0</td><td>  0</td><td>0</td><td>0</td><td>252</td></tr>\n",
       "</tbody>\n",
       "</table>\n"
      ],
      "text/latex": [
       "A data.frame: 6 x 13\n",
       "\\begin{tabular}{r|lllllllllllll}\n",
       "  & CMV & EBV & HCV & Influenza & HomoSapiens & MDavis & HPV & CEF & TB & MCPyV & SP & DENV & n\\_cdr3\\\\\n",
       "  & <dbl> & <dbl> & <dbl> & <dbl> & <dbl> & <dbl> & <dbl> & <dbl> & <dbl> & <dbl> & <dbl> & <dbl> & <int>\\\\\n",
       "\\hline\n",
       "\tEmerson:P00001 & 227 & 364 & 427 &   0 &  327 & 12546 & 465 & 0 & 0 & 100 & 0 & 0 & 314\\\\\n",
       "\tEmerson:P00002 &  46 &  18 &  25 &   0 &   19 &   894 &   0 & 0 & 0 &   0 & 0 & 0 &  82\\\\\n",
       "\tEmerson:P00004 & 432 & 274 & 249 & 465 & 1146 & 39163 &  70 & 0 & 0 & 226 & 0 & 0 & 504\\\\\n",
       "\tEmerson:P00005 & 102 &   0 &  23 &   0 &   21 &  3000 &   0 & 0 & 0 &  67 & 0 & 0 & 205\\\\\n",
       "\tEmerson:P00006 &   0 &   0 &   0 &   0 &    0 &     0 &   0 & 0 & 0 &   0 & 0 & 0 &   3\\\\\n",
       "\tEmerson:P00008 &  37 &  82 & 127 &   0 &  277 &  2974 &   0 & 0 & 0 &   0 & 0 & 0 & 252\\\\\n",
       "\\end{tabular}\n"
      ],
      "text/markdown": [
       "\n",
       "A data.frame: 6 x 13\n",
       "\n",
       "| <!--/--> | CMV &lt;dbl&gt; | EBV &lt;dbl&gt; | HCV &lt;dbl&gt; | Influenza &lt;dbl&gt; | HomoSapiens &lt;dbl&gt; | MDavis &lt;dbl&gt; | HPV &lt;dbl&gt; | CEF &lt;dbl&gt; | TB &lt;dbl&gt; | MCPyV &lt;dbl&gt; | SP &lt;dbl&gt; | DENV &lt;dbl&gt; | n_cdr3 &lt;int&gt; |\n",
       "|---|---|---|---|---|---|---|---|---|---|---|---|---|---|\n",
       "| Emerson:P00001 | 227 | 364 | 427 |   0 |  327 | 12546 | 465 | 0 | 0 | 100 | 0 | 0 | 314 |\n",
       "| Emerson:P00002 |  46 |  18 |  25 |   0 |   19 |   894 |   0 | 0 | 0 |   0 | 0 | 0 |  82 |\n",
       "| Emerson:P00004 | 432 | 274 | 249 | 465 | 1146 | 39163 |  70 | 0 | 0 | 226 | 0 | 0 | 504 |\n",
       "| Emerson:P00005 | 102 |   0 |  23 |   0 |   21 |  3000 |   0 | 0 | 0 |  67 | 0 | 0 | 205 |\n",
       "| Emerson:P00006 |   0 |   0 |   0 |   0 |    0 |     0 |   0 | 0 | 0 |   0 | 0 | 0 |   3 |\n",
       "| Emerson:P00008 |  37 |  82 | 127 |   0 |  277 |  2974 |   0 | 0 | 0 |   0 | 0 | 0 | 252 |\n",
       "\n"
      ],
      "text/plain": [
       "               CMV EBV HCV Influenza HomoSapiens MDavis HPV CEF TB MCPyV SP\n",
       "Emerson:P00001 227 364 427   0        327        12546  465 0   0  100   0 \n",
       "Emerson:P00002  46  18  25   0         19          894    0 0   0    0   0 \n",
       "Emerson:P00004 432 274 249 465       1146        39163   70 0   0  226   0 \n",
       "Emerson:P00005 102   0  23   0         21         3000    0 0   0   67   0 \n",
       "Emerson:P00006   0   0   0   0          0            0    0 0   0    0   0 \n",
       "Emerson:P00008  37  82 127   0        277         2974    0 0   0    0   0 \n",
       "               DENV n_cdr3\n",
       "Emerson:P00001 0    314   \n",
       "Emerson:P00002 0     82   \n",
       "Emerson:P00004 0    504   \n",
       "Emerson:P00005 0    205   \n",
       "Emerson:P00006 0      3   \n",
       "Emerson:P00008 0    252   "
      ]
     },
     "metadata": {},
     "output_type": "display_data"
    }
   ],
   "source": [
    "head(samples_tcr_freq[,1:13])"
   ]
  },
  {
   "cell_type": "code",
   "execution_count": null,
   "metadata": {
    "vscode": {
     "languageId": "r"
    }
   },
   "outputs": [
    {
     "data": {
      "text/plain": [
       "\n",
       "Emerson_adult \n",
       "          253 "
      ]
     },
     "metadata": {},
     "output_type": "display_data"
    }
   ],
   "source": [
    "table(samples_tcr_freq$study)"
   ]
  },
  {
   "cell_type": "code",
   "execution_count": null,
   "metadata": {
    "vscode": {
     "languageId": "r"
    }
   },
   "outputs": [],
   "source": [
    "readr::write_rds(samples_tcr_freq, file = paste0(datapath, \"GLIPH/emerson_adult_samples_gliphannot_freq_stat.rds\"))\n",
    "readr::write_rds(gliphdf_freq, file = paste0(datapath, \"GLIPH/emerson_adult_gliphannot_freq_stat.rds\"))"
   ]
  },
  {
   "cell_type": "code",
   "execution_count": null,
   "metadata": {
    "vscode": {
     "languageId": "r"
    }
   },
   "outputs": [
    {
     "data": {
      "text/html": [
       "<table class=\"dataframe\">\n",
       "<caption>A data.frame: 1 x 12</caption>\n",
       "<thead>\n",
       "\t<tr><th></th><th scope=col>CMV</th><th scope=col>EBV</th><th scope=col>HCV</th><th scope=col>Influenza</th><th scope=col>HomoSapiens</th><th scope=col>MDavis</th><th scope=col>HPV</th><th scope=col>CEF</th><th scope=col>TB</th><th scope=col>MCPyV</th><th scope=col>SP</th><th scope=col>DENV</th></tr>\n",
       "\t<tr><th></th><th scope=col>&lt;dbl&gt;</th><th scope=col>&lt;dbl&gt;</th><th scope=col>&lt;dbl&gt;</th><th scope=col>&lt;dbl&gt;</th><th scope=col>&lt;dbl&gt;</th><th scope=col>&lt;dbl&gt;</th><th scope=col>&lt;dbl&gt;</th><th scope=col>&lt;dbl&gt;</th><th scope=col>&lt;dbl&gt;</th><th scope=col>&lt;dbl&gt;</th><th scope=col>&lt;dbl&gt;</th><th scope=col>&lt;dbl&gt;</th></tr>\n",
       "</thead>\n",
       "<tbody>\n",
       "\t<tr><th scope=row>STG%YG</th><td>115</td><td>0</td><td>0</td><td>115</td><td>0</td><td>115</td><td>0</td><td>0</td><td>0</td><td>0</td><td>0</td><td>0</td></tr>\n",
       "</tbody>\n",
       "</table>\n"
      ],
      "text/latex": [
       "A data.frame: 1 x 12\n",
       "\\begin{tabular}{r|llllllllllll}\n",
       "  & CMV & EBV & HCV & Influenza & HomoSapiens & MDavis & HPV & CEF & TB & MCPyV & SP & DENV\\\\\n",
       "  & <dbl> & <dbl> & <dbl> & <dbl> & <dbl> & <dbl> & <dbl> & <dbl> & <dbl> & <dbl> & <dbl> & <dbl>\\\\\n",
       "\\hline\n",
       "\tSTG\\%YG & 115 & 0 & 0 & 115 & 0 & 115 & 0 & 0 & 0 & 0 & 0 & 0\\\\\n",
       "\\end{tabular}\n"
      ],
      "text/markdown": [
       "\n",
       "A data.frame: 1 x 12\n",
       "\n",
       "| <!--/--> | CMV &lt;dbl&gt; | EBV &lt;dbl&gt; | HCV &lt;dbl&gt; | Influenza &lt;dbl&gt; | HomoSapiens &lt;dbl&gt; | MDavis &lt;dbl&gt; | HPV &lt;dbl&gt; | CEF &lt;dbl&gt; | TB &lt;dbl&gt; | MCPyV &lt;dbl&gt; | SP &lt;dbl&gt; | DENV &lt;dbl&gt; |\n",
       "|---|---|---|---|---|---|---|---|---|---|---|---|---|\n",
       "| STG%YG | 115 | 0 | 0 | 115 | 0 | 115 | 0 | 0 | 0 | 0 | 0 | 0 |\n",
       "\n"
      ],
      "text/plain": [
       "       CMV EBV HCV Influenza HomoSapiens MDavis HPV CEF TB MCPyV SP DENV\n",
       "STG%YG 115 0   0   115       0           115    0   0   0  0     0  0   "
      ]
     },
     "metadata": {},
     "output_type": "display_data"
    }
   ],
   "source": [
    "(gliphdf_freq[\"STG%YG\",])"
   ]
  },
  {
   "cell_type": "code",
   "execution_count": null,
   "metadata": {
    "vscode": {
     "languageId": "r"
    }
   },
   "outputs": [
    {
     "data": {
      "text/plain": [
       "\n",
       "      CMV   Emerson Influenza    MDavis \n",
       "        1         3         2         6 "
      ]
     },
     "metadata": {},
     "output_type": "display_data"
    },
    {
     "data": {
      "text/html": [
       "115"
      ],
      "text/latex": [
       "115"
      ],
      "text/markdown": [
       "115"
      ],
      "text/plain": [
       "[1] 115"
      ]
     },
     "metadata": {},
     "output_type": "display_data"
    },
    {
     "data": {
      "text/html": [
       "124"
      ],
      "text/latex": [
       "124"
      ],
      "text/markdown": [
       "124"
      ],
      "text/plain": [
       "[1] 124"
      ]
     },
     "metadata": {},
     "output_type": "display_data"
    }
   ],
   "source": [
    "# sanity check\n",
    "table(gliphout_emerson$subject[gliphout_emerson$pattern == \"STG%YG\"])\n",
    "emerson <- gliphout_emerson$Sample[grepl(\"Emerson\", gliphout_emerson$Sample)]\n",
    "sum(gliphout_emerson$Freq[gliphout_emerson$pattern == \"STG%YG\" & gliphout_emerson$Sample %in% emerson])\n",
    "sum(gliphout_emerson$Freq[gliphout_emerson$pattern == \"STG%YG\"])"
   ]
  },
  {
   "cell_type": "code",
   "execution_count": null,
   "metadata": {
    "vscode": {
     "languageId": "r"
    }
   },
   "outputs": [
    {
     "data": {
      "text/html": [
       "<table class=\"dataframe\">\n",
       "<caption>A data.frame: 6 x 18</caption>\n",
       "<thead>\n",
       "\t<tr><th></th><th scope=col>CMV</th><th scope=col>EBV</th><th scope=col>HCV</th><th scope=col>Influenza</th><th scope=col>HomoSapiens</th><th scope=col>MDavis</th><th scope=col>HPV</th><th scope=col>CEF</th><th scope=col>TB</th><th scope=col>MCPyV</th><th scope=col>SP</th><th scope=col>DENV</th><th scope=col>n_cdr3</th><th scope=col>cdr3_reads</th><th scope=col>n_gliph</th><th scope=col>n_cdr3ingliph</th><th scope=col>cdr3reads_ingliph</th><th scope=col>study</th></tr>\n",
       "\t<tr><th></th><th scope=col>&lt;dbl&gt;</th><th scope=col>&lt;dbl&gt;</th><th scope=col>&lt;dbl&gt;</th><th scope=col>&lt;dbl&gt;</th><th scope=col>&lt;dbl&gt;</th><th scope=col>&lt;dbl&gt;</th><th scope=col>&lt;dbl&gt;</th><th scope=col>&lt;dbl&gt;</th><th scope=col>&lt;dbl&gt;</th><th scope=col>&lt;dbl&gt;</th><th scope=col>&lt;dbl&gt;</th><th scope=col>&lt;dbl&gt;</th><th scope=col>&lt;int&gt;</th><th scope=col>&lt;dbl&gt;</th><th scope=col>&lt;dbl&gt;</th><th scope=col>&lt;int&gt;</th><th scope=col>&lt;dbl&gt;</th><th scope=col>&lt;chr&gt;</th></tr>\n",
       "</thead>\n",
       "<tbody>\n",
       "\t<tr><th scope=row>Emerson:P00001</th><td>227</td><td>364</td><td>427</td><td>  0</td><td> 327</td><td>12546</td><td>465</td><td>0</td><td>0</td><td>100</td><td>0</td><td>0</td><td>314</td><td>30394</td><td>333</td><td>150</td><td>33353</td><td>Emerson_adult</td></tr>\n",
       "\t<tr><th scope=row>Emerson:P00002</th><td> 46</td><td> 18</td><td> 25</td><td>  0</td><td>  19</td><td>  894</td><td>  0</td><td>0</td><td>0</td><td>  0</td><td>0</td><td>0</td><td> 82</td><td> 1940</td><td> 73</td><td> 36</td><td> 1637</td><td>Emerson_adult</td></tr>\n",
       "\t<tr><th scope=row>Emerson:P00004</th><td>432</td><td>274</td><td>249</td><td>465</td><td>1146</td><td>39163</td><td> 70</td><td>0</td><td>0</td><td>226</td><td>0</td><td>0</td><td>504</td><td>48734</td><td>521</td><td>215</td><td>63165</td><td>Emerson_adult</td></tr>\n",
       "\t<tr><th scope=row>Emerson:P00005</th><td>102</td><td>  0</td><td> 23</td><td>  0</td><td>  21</td><td> 3000</td><td>  0</td><td>0</td><td>0</td><td> 67</td><td>0</td><td>0</td><td>205</td><td> 8595</td><td>193</td><td> 97</td><td> 6399</td><td>Emerson_adult</td></tr>\n",
       "\t<tr><th scope=row>Emerson:P00006</th><td>  0</td><td>  0</td><td>  0</td><td>  0</td><td>   0</td><td>    0</td><td>  0</td><td>0</td><td>0</td><td>  0</td><td>0</td><td>0</td><td>  3</td><td>  222</td><td>  1</td><td>  1</td><td>   68</td><td>Emerson_adult</td></tr>\n",
       "\t<tr><th scope=row>Emerson:P00008</th><td> 37</td><td> 82</td><td>127</td><td>  0</td><td> 277</td><td> 2974</td><td>  0</td><td>0</td><td>0</td><td>  0</td><td>0</td><td>0</td><td>252</td><td> 5723</td><td>276</td><td>117</td><td> 5759</td><td>Emerson_adult</td></tr>\n",
       "</tbody>\n",
       "</table>\n"
      ],
      "text/latex": [
       "A data.frame: 6 x 18\n",
       "\\begin{tabular}{r|llllllllllllllllll}\n",
       "  & CMV & EBV & HCV & Influenza & HomoSapiens & MDavis & HPV & CEF & TB & MCPyV & SP & DENV & n\\_cdr3 & cdr3\\_reads & n\\_gliph & n\\_cdr3ingliph & cdr3reads\\_ingliph & study\\\\\n",
       "  & <dbl> & <dbl> & <dbl> & <dbl> & <dbl> & <dbl> & <dbl> & <dbl> & <dbl> & <dbl> & <dbl> & <dbl> & <int> & <dbl> & <dbl> & <int> & <dbl> & <chr>\\\\\n",
       "\\hline\n",
       "\tEmerson:P00001 & 227 & 364 & 427 &   0 &  327 & 12546 & 465 & 0 & 0 & 100 & 0 & 0 & 314 & 30394 & 333 & 150 & 33353 & Emerson\\_adult\\\\\n",
       "\tEmerson:P00002 &  46 &  18 &  25 &   0 &   19 &   894 &   0 & 0 & 0 &   0 & 0 & 0 &  82 &  1940 &  73 &  36 &  1637 & Emerson\\_adult\\\\\n",
       "\tEmerson:P00004 & 432 & 274 & 249 & 465 & 1146 & 39163 &  70 & 0 & 0 & 226 & 0 & 0 & 504 & 48734 & 521 & 215 & 63165 & Emerson\\_adult\\\\\n",
       "\tEmerson:P00005 & 102 &   0 &  23 &   0 &   21 &  3000 &   0 & 0 & 0 &  67 & 0 & 0 & 205 &  8595 & 193 &  97 &  6399 & Emerson\\_adult\\\\\n",
       "\tEmerson:P00006 &   0 &   0 &   0 &   0 &    0 &     0 &   0 & 0 & 0 &   0 & 0 & 0 &   3 &   222 &   1 &   1 &    68 & Emerson\\_adult\\\\\n",
       "\tEmerson:P00008 &  37 &  82 & 127 &   0 &  277 &  2974 &   0 & 0 & 0 &   0 & 0 & 0 & 252 &  5723 & 276 & 117 &  5759 & Emerson\\_adult\\\\\n",
       "\\end{tabular}\n"
      ],
      "text/markdown": [
       "\n",
       "A data.frame: 6 x 18\n",
       "\n",
       "| <!--/--> | CMV &lt;dbl&gt; | EBV &lt;dbl&gt; | HCV &lt;dbl&gt; | Influenza &lt;dbl&gt; | HomoSapiens &lt;dbl&gt; | MDavis &lt;dbl&gt; | HPV &lt;dbl&gt; | CEF &lt;dbl&gt; | TB &lt;dbl&gt; | MCPyV &lt;dbl&gt; | SP &lt;dbl&gt; | DENV &lt;dbl&gt; | n_cdr3 &lt;int&gt; | cdr3_reads &lt;dbl&gt; | n_gliph &lt;dbl&gt; | n_cdr3ingliph &lt;int&gt; | cdr3reads_ingliph &lt;dbl&gt; | study &lt;chr&gt; |\n",
       "|---|---|---|---|---|---|---|---|---|---|---|---|---|---|---|---|---|---|---|\n",
       "| Emerson:P00001 | 227 | 364 | 427 |   0 |  327 | 12546 | 465 | 0 | 0 | 100 | 0 | 0 | 314 | 30394 | 333 | 150 | 33353 | Emerson_adult |\n",
       "| Emerson:P00002 |  46 |  18 |  25 |   0 |   19 |   894 |   0 | 0 | 0 |   0 | 0 | 0 |  82 |  1940 |  73 |  36 |  1637 | Emerson_adult |\n",
       "| Emerson:P00004 | 432 | 274 | 249 | 465 | 1146 | 39163 |  70 | 0 | 0 | 226 | 0 | 0 | 504 | 48734 | 521 | 215 | 63165 | Emerson_adult |\n",
       "| Emerson:P00005 | 102 |   0 |  23 |   0 |   21 |  3000 |   0 | 0 | 0 |  67 | 0 | 0 | 205 |  8595 | 193 |  97 |  6399 | Emerson_adult |\n",
       "| Emerson:P00006 |   0 |   0 |   0 |   0 |    0 |     0 |   0 | 0 | 0 |   0 | 0 | 0 |   3 |   222 |   1 |   1 |    68 | Emerson_adult |\n",
       "| Emerson:P00008 |  37 |  82 | 127 |   0 |  277 |  2974 |   0 | 0 | 0 |   0 | 0 | 0 | 252 |  5723 | 276 | 117 |  5759 | Emerson_adult |\n",
       "\n"
      ],
      "text/plain": [
       "               CMV EBV HCV Influenza HomoSapiens MDavis HPV CEF TB MCPyV SP\n",
       "Emerson:P00001 227 364 427   0        327        12546  465 0   0  100   0 \n",
       "Emerson:P00002  46  18  25   0         19          894    0 0   0    0   0 \n",
       "Emerson:P00004 432 274 249 465       1146        39163   70 0   0  226   0 \n",
       "Emerson:P00005 102   0  23   0         21         3000    0 0   0   67   0 \n",
       "Emerson:P00006   0   0   0   0          0            0    0 0   0    0   0 \n",
       "Emerson:P00008  37  82 127   0        277         2974    0 0   0    0   0 \n",
       "               DENV n_cdr3 cdr3_reads n_gliph n_cdr3ingliph cdr3reads_ingliph\n",
       "Emerson:P00001 0    314    30394      333     150           33353            \n",
       "Emerson:P00002 0     82     1940       73      36            1637            \n",
       "Emerson:P00004 0    504    48734      521     215           63165            \n",
       "Emerson:P00005 0    205     8595      193      97            6399            \n",
       "Emerson:P00006 0      3      222        1       1              68            \n",
       "Emerson:P00008 0    252     5723      276     117            5759            \n",
       "               study        \n",
       "Emerson:P00001 Emerson_adult\n",
       "Emerson:P00002 Emerson_adult\n",
       "Emerson:P00004 Emerson_adult\n",
       "Emerson:P00005 Emerson_adult\n",
       "Emerson:P00006 Emerson_adult\n",
       "Emerson:P00008 Emerson_adult"
      ]
     },
     "metadata": {},
     "output_type": "display_data"
    }
   ],
   "source": [
    "head(samples_tcr_freq)"
   ]
  },
  {
   "cell_type": "code",
   "execution_count": null,
   "metadata": {
    "vscode": {
     "languageId": "r"
    }
   },
   "outputs": [
    {
     "data": {
      "text/html": [
       "127"
      ],
      "text/latex": [
       "127"
      ],
      "text/markdown": [
       "127"
      ],
      "text/plain": [
       "[1] 127"
      ]
     },
     "metadata": {},
     "output_type": "display_data"
    }
   ],
   "source": [
    "# sanity check\n",
    "mysample <- gliphout_emerson[gliphout_emerson$Sample == \"Emerson:P00008\", ]\n",
    "tmp <- gliphout_emerson[gliphout_emerson$pattern %in% mysample$pattern, ] \n",
    "antigen_gliphs <- tmp$pattern[grepl(\"HCV\", tmp$subject)]\n",
    "sum(mysample$Freq[mysample$pattern %in% antigen_gliphs])"
   ]
  },
  {
   "cell_type": "code",
   "execution_count": null,
   "metadata": {
    "vscode": {
     "languageId": "r"
    }
   },
   "outputs": [],
   "source": []
  },
  {
   "cell_type": "code",
   "execution_count": 13,
   "metadata": {
    "vscode": {
     "languageId": "r"
    }
   },
   "outputs": [
    {
     "data": {
      "text/html": [
       "<style>\n",
       ".list-inline {list-style: none; margin:0; padding: 0}\n",
       ".list-inline>li {display: inline-block}\n",
       ".list-inline>li:not(:last-child)::after {content: \"\\00b7\"; padding: 0 .5ex}\n",
       "</style>\n",
       "<ol class=list-inline><li>3178878</li><li>20</li></ol>\n"
      ],
      "text/latex": [
       "\\begin{enumerate*}\n",
       "\\item 3178878\n",
       "\\item 20\n",
       "\\end{enumerate*}\n"
      ],
      "text/markdown": [
       "1. 3178878\n",
       "2. 20\n",
       "\n",
       "\n"
      ],
      "text/plain": [
       "[1] 3178878      20"
      ]
     },
     "metadata": {},
     "output_type": "display_data"
    }
   ],
   "source": [
    "dim(emerson)"
   ]
  },
  {
   "cell_type": "code",
   "execution_count": 14,
   "metadata": {
    "vscode": {
     "languageId": "r"
    }
   },
   "outputs": [
    {
     "data": {
      "text/plain": [
       "\n",
       "    CEF     CMV    DENV     EBV Emerson     HCV \n",
       "      4     536       2     580 3097388     191 "
      ]
     },
     "metadata": {},
     "output_type": "display_data"
    }
   ],
   "source": [
    "head(table(emerson$subject, useNA = \"ifany\"))"
   ]
  },
  {
   "cell_type": "code",
   "execution_count": 15,
   "metadata": {
    "vscode": {
     "languageId": "r"
    }
   },
   "outputs": [],
   "source": [
    "allAdaptive <- readr::read_rds(file = paste0(datapath, \"Adaptivedatasets/allAdaptive_good.rds\"))\n",
    "emerson_meta <- allAdaptive[ allAdaptive$study == \"Emerson\",]\n",
    "\n",
    "CMVneg <- emerson_meta$sample_name[which(emerson_meta$disease == \"Cytomegalovirus -\")]\n",
    "CMVpos <- emerson_meta$sample_name[which(emerson_meta$disease == \"Cytomegalovirus +\")]"
   ]
  },
  {
   "cell_type": "code",
   "execution_count": 16,
   "metadata": {
    "vscode": {
     "languageId": "r"
    }
   },
   "outputs": [
    {
     "data": {
      "text/html": [
       "<table class=\"dataframe\">\n",
       "<caption>A tibble: 6 x 20</caption>\n",
       "<thead>\n",
       "\t<tr><th scope=col>index</th><th scope=col>pattern</th><th scope=col>Fisher_score</th><th scope=col>number_subject</th><th scope=col>number_unique_cdr3</th><th scope=col>final_score</th><th scope=col>hla_score</th><th scope=col>vb_score</th><th scope=col>expansion_score</th><th scope=col>length_score</th><th scope=col>cluster_size_score</th><th scope=col>type</th><th scope=col>TcRb</th><th scope=col>V</th><th scope=col>J</th><th scope=col>TcRa</th><th scope=col>Sample</th><th scope=col>Freq</th><th scope=col>subject</th><th scope=col>samplename</th></tr>\n",
       "\t<tr><th scope=col>&lt;dbl&gt;</th><th scope=col>&lt;chr&gt;</th><th scope=col>&lt;dbl&gt;</th><th scope=col>&lt;dbl&gt;</th><th scope=col>&lt;dbl&gt;</th><th scope=col>&lt;dbl&gt;</th><th scope=col>&lt;dbl&gt;</th><th scope=col>&lt;dbl&gt;</th><th scope=col>&lt;dbl&gt;</th><th scope=col>&lt;dbl&gt;</th><th scope=col>&lt;dbl&gt;</th><th scope=col>&lt;chr&gt;</th><th scope=col>&lt;chr&gt;</th><th scope=col>&lt;chr&gt;</th><th scope=col>&lt;chr&gt;</th><th scope=col>&lt;lgl&gt;</th><th scope=col>&lt;chr&gt;</th><th scope=col>&lt;dbl&gt;</th><th scope=col>&lt;chr&gt;</th><th scope=col>&lt;chr&gt;</th></tr>\n",
       "</thead>\n",
       "<tbody>\n",
       "\t<tr><td>1</td><td>R%NTE</td><td>6.3e-30</td><td>2</td><td>131</td><td>4.2e-11</td><td>1</td><td>0.023</td><td>0.18</td><td>0.001</td><td>1e-05</td><td>global-R%NTE</td><td>CASRWNTEAFF</td><td>TRBV12   </td><td>TRBJ01-01</td><td>NA</td><td>Emerson:P00378</td><td>31</td><td>Emerson</td><td>P00378</td></tr>\n",
       "\t<tr><td>1</td><td>R%NTE</td><td>6.3e-30</td><td>2</td><td>131</td><td>4.2e-11</td><td>1</td><td>0.023</td><td>0.18</td><td>0.001</td><td>1e-05</td><td>global-R%NTE</td><td>CASRWNTEAFF</td><td>TRBV19-01</td><td>TRBJ01-01</td><td>NA</td><td>Emerson:P00307</td><td>10</td><td>Emerson</td><td>P00307</td></tr>\n",
       "\t<tr><td>1</td><td>R%NTE</td><td>6.3e-30</td><td>2</td><td>131</td><td>4.2e-11</td><td>1</td><td>0.023</td><td>0.18</td><td>0.001</td><td>1e-05</td><td>global-R%NTE</td><td>CASRWNTEAFF</td><td>TRBV05-05</td><td>TRBJ01-01</td><td>NA</td><td>Emerson:P00332</td><td>26</td><td>Emerson</td><td>P00332</td></tr>\n",
       "\t<tr><td>1</td><td>R%NTE</td><td>6.3e-30</td><td>2</td><td>131</td><td>4.2e-11</td><td>1</td><td>0.023</td><td>0.18</td><td>0.001</td><td>1e-05</td><td>global-R%NTE</td><td>CASRWNTEAFF</td><td>TRBV19-01</td><td>TRBJ01-01</td><td>NA</td><td>Emerson:P00171</td><td>19</td><td>Emerson</td><td>P00171</td></tr>\n",
       "\t<tr><td>1</td><td>R%NTE</td><td>6.3e-30</td><td>2</td><td>131</td><td>4.2e-11</td><td>1</td><td>0.023</td><td>0.18</td><td>0.001</td><td>1e-05</td><td>global-R%NTE</td><td>CASRWNTEAFF</td><td>TRBV12   </td><td>TRBJ01-01</td><td>NA</td><td>Emerson:P00340</td><td>69</td><td>Emerson</td><td>P00340</td></tr>\n",
       "\t<tr><td>1</td><td>R%NTE</td><td>6.3e-30</td><td>2</td><td>131</td><td>4.2e-11</td><td>1</td><td>0.023</td><td>0.18</td><td>0.001</td><td>1e-05</td><td>global-R%NTE</td><td>CASRWNTEAFF</td><td>TRBV27-01</td><td>TRBJ01-01</td><td>NA</td><td>Emerson:P00564</td><td>30</td><td>Emerson</td><td>P00564</td></tr>\n",
       "</tbody>\n",
       "</table>\n"
      ],
      "text/latex": [
       "A tibble: 6 x 20\n",
       "\\begin{tabular}{llllllllllllllllllll}\n",
       " index & pattern & Fisher\\_score & number\\_subject & number\\_unique\\_cdr3 & final\\_score & hla\\_score & vb\\_score & expansion\\_score & length\\_score & cluster\\_size\\_score & type & TcRb & V & J & TcRa & Sample & Freq & subject & samplename\\\\\n",
       " <dbl> & <chr> & <dbl> & <dbl> & <dbl> & <dbl> & <dbl> & <dbl> & <dbl> & <dbl> & <dbl> & <chr> & <chr> & <chr> & <chr> & <lgl> & <chr> & <dbl> & <chr> & <chr>\\\\\n",
       "\\hline\n",
       "\t 1 & R\\%NTE & 6.3e-30 & 2 & 131 & 4.2e-11 & 1 & 0.023 & 0.18 & 0.001 & 1e-05 & global-R\\%NTE & CASRWNTEAFF & TRBV12    & TRBJ01-01 & NA & Emerson:P00378 & 31 & Emerson & P00378\\\\\n",
       "\t 1 & R\\%NTE & 6.3e-30 & 2 & 131 & 4.2e-11 & 1 & 0.023 & 0.18 & 0.001 & 1e-05 & global-R\\%NTE & CASRWNTEAFF & TRBV19-01 & TRBJ01-01 & NA & Emerson:P00307 & 10 & Emerson & P00307\\\\\n",
       "\t 1 & R\\%NTE & 6.3e-30 & 2 & 131 & 4.2e-11 & 1 & 0.023 & 0.18 & 0.001 & 1e-05 & global-R\\%NTE & CASRWNTEAFF & TRBV05-05 & TRBJ01-01 & NA & Emerson:P00332 & 26 & Emerson & P00332\\\\\n",
       "\t 1 & R\\%NTE & 6.3e-30 & 2 & 131 & 4.2e-11 & 1 & 0.023 & 0.18 & 0.001 & 1e-05 & global-R\\%NTE & CASRWNTEAFF & TRBV19-01 & TRBJ01-01 & NA & Emerson:P00171 & 19 & Emerson & P00171\\\\\n",
       "\t 1 & R\\%NTE & 6.3e-30 & 2 & 131 & 4.2e-11 & 1 & 0.023 & 0.18 & 0.001 & 1e-05 & global-R\\%NTE & CASRWNTEAFF & TRBV12    & TRBJ01-01 & NA & Emerson:P00340 & 69 & Emerson & P00340\\\\\n",
       "\t 1 & R\\%NTE & 6.3e-30 & 2 & 131 & 4.2e-11 & 1 & 0.023 & 0.18 & 0.001 & 1e-05 & global-R\\%NTE & CASRWNTEAFF & TRBV27-01 & TRBJ01-01 & NA & Emerson:P00564 & 30 & Emerson & P00564\\\\\n",
       "\\end{tabular}\n"
      ],
      "text/markdown": [
       "\n",
       "A tibble: 6 x 20\n",
       "\n",
       "| index &lt;dbl&gt; | pattern &lt;chr&gt; | Fisher_score &lt;dbl&gt; | number_subject &lt;dbl&gt; | number_unique_cdr3 &lt;dbl&gt; | final_score &lt;dbl&gt; | hla_score &lt;dbl&gt; | vb_score &lt;dbl&gt; | expansion_score &lt;dbl&gt; | length_score &lt;dbl&gt; | cluster_size_score &lt;dbl&gt; | type &lt;chr&gt; | TcRb &lt;chr&gt; | V &lt;chr&gt; | J &lt;chr&gt; | TcRa &lt;lgl&gt; | Sample &lt;chr&gt; | Freq &lt;dbl&gt; | subject &lt;chr&gt; | samplename &lt;chr&gt; |\n",
       "|---|---|---|---|---|---|---|---|---|---|---|---|---|---|---|---|---|---|---|---|\n",
       "| 1 | R%NTE | 6.3e-30 | 2 | 131 | 4.2e-11 | 1 | 0.023 | 0.18 | 0.001 | 1e-05 | global-R%NTE | CASRWNTEAFF | TRBV12    | TRBJ01-01 | NA | Emerson:P00378 | 31 | Emerson | P00378 |\n",
       "| 1 | R%NTE | 6.3e-30 | 2 | 131 | 4.2e-11 | 1 | 0.023 | 0.18 | 0.001 | 1e-05 | global-R%NTE | CASRWNTEAFF | TRBV19-01 | TRBJ01-01 | NA | Emerson:P00307 | 10 | Emerson | P00307 |\n",
       "| 1 | R%NTE | 6.3e-30 | 2 | 131 | 4.2e-11 | 1 | 0.023 | 0.18 | 0.001 | 1e-05 | global-R%NTE | CASRWNTEAFF | TRBV05-05 | TRBJ01-01 | NA | Emerson:P00332 | 26 | Emerson | P00332 |\n",
       "| 1 | R%NTE | 6.3e-30 | 2 | 131 | 4.2e-11 | 1 | 0.023 | 0.18 | 0.001 | 1e-05 | global-R%NTE | CASRWNTEAFF | TRBV19-01 | TRBJ01-01 | NA | Emerson:P00171 | 19 | Emerson | P00171 |\n",
       "| 1 | R%NTE | 6.3e-30 | 2 | 131 | 4.2e-11 | 1 | 0.023 | 0.18 | 0.001 | 1e-05 | global-R%NTE | CASRWNTEAFF | TRBV12    | TRBJ01-01 | NA | Emerson:P00340 | 69 | Emerson | P00340 |\n",
       "| 1 | R%NTE | 6.3e-30 | 2 | 131 | 4.2e-11 | 1 | 0.023 | 0.18 | 0.001 | 1e-05 | global-R%NTE | CASRWNTEAFF | TRBV27-01 | TRBJ01-01 | NA | Emerson:P00564 | 30 | Emerson | P00564 |\n",
       "\n"
      ],
      "text/plain": [
       "  index pattern Fisher_score number_subject number_unique_cdr3 final_score\n",
       "1 1     R%NTE   6.3e-30      2              131                4.2e-11    \n",
       "2 1     R%NTE   6.3e-30      2              131                4.2e-11    \n",
       "3 1     R%NTE   6.3e-30      2              131                4.2e-11    \n",
       "4 1     R%NTE   6.3e-30      2              131                4.2e-11    \n",
       "5 1     R%NTE   6.3e-30      2              131                4.2e-11    \n",
       "6 1     R%NTE   6.3e-30      2              131                4.2e-11    \n",
       "  hla_score vb_score expansion_score length_score cluster_size_score\n",
       "1 1         0.023    0.18            0.001        1e-05             \n",
       "2 1         0.023    0.18            0.001        1e-05             \n",
       "3 1         0.023    0.18            0.001        1e-05             \n",
       "4 1         0.023    0.18            0.001        1e-05             \n",
       "5 1         0.023    0.18            0.001        1e-05             \n",
       "6 1         0.023    0.18            0.001        1e-05             \n",
       "  type         TcRb        V         J         TcRa Sample         Freq subject\n",
       "1 global-R%NTE CASRWNTEAFF TRBV12    TRBJ01-01 NA   Emerson:P00378 31   Emerson\n",
       "2 global-R%NTE CASRWNTEAFF TRBV19-01 TRBJ01-01 NA   Emerson:P00307 10   Emerson\n",
       "3 global-R%NTE CASRWNTEAFF TRBV05-05 TRBJ01-01 NA   Emerson:P00332 26   Emerson\n",
       "4 global-R%NTE CASRWNTEAFF TRBV19-01 TRBJ01-01 NA   Emerson:P00171 19   Emerson\n",
       "5 global-R%NTE CASRWNTEAFF TRBV12    TRBJ01-01 NA   Emerson:P00340 69   Emerson\n",
       "6 global-R%NTE CASRWNTEAFF TRBV27-01 TRBJ01-01 NA   Emerson:P00564 30   Emerson\n",
       "  samplename\n",
       "1 P00378    \n",
       "2 P00307    \n",
       "3 P00332    \n",
       "4 P00171    \n",
       "5 P00340    \n",
       "6 P00564    "
      ]
     },
     "metadata": {},
     "output_type": "display_data"
    }
   ],
   "source": [
    "head(emerson)"
   ]
  },
  {
   "cell_type": "code",
   "execution_count": 19,
   "metadata": {
    "vscode": {
     "languageId": "r"
    }
   },
   "outputs": [],
   "source": [
    "importantgliphs <- emerson$pattern[ emerson$samplename %in% c(CMVneg, CMVpos)]\n",
    "emerson_gliphs <- emerson[ emerson$pattern %in% importantgliphs,]"
   ]
  },
  {
   "cell_type": "code",
   "execution_count": 20,
   "metadata": {
    "vscode": {
     "languageId": "r"
    }
   },
   "outputs": [],
   "source": [
    "mytab <- as.data.frame.matrix(table(emerson_gliphs$pattern, emerson_gliphs$subject))"
   ]
  },
  {
   "cell_type": "code",
   "execution_count": 21,
   "metadata": {
    "vscode": {
     "languageId": "r"
    }
   },
   "outputs": [
    {
     "data": {
      "text/html": [
       "<table class=\"dataframe\">\n",
       "<caption>A data.frame: 6 x 14</caption>\n",
       "<thead>\n",
       "\t<tr><th></th><th scope=col>CEF</th><th scope=col>CMV</th><th scope=col>DENV</th><th scope=col>EBV</th><th scope=col>Emerson</th><th scope=col>HCV</th><th scope=col>HPV</th><th scope=col>HTLV-1</th><th scope=col>HomoSapiens</th><th scope=col>Influenza</th><th scope=col>M.tuberculosis</th><th scope=col>MCPyV</th><th scope=col>MDavis</th><th scope=col>S-pneumoniae</th></tr>\n",
       "\t<tr><th></th><th scope=col>&lt;int&gt;</th><th scope=col>&lt;int&gt;</th><th scope=col>&lt;int&gt;</th><th scope=col>&lt;int&gt;</th><th scope=col>&lt;int&gt;</th><th scope=col>&lt;int&gt;</th><th scope=col>&lt;int&gt;</th><th scope=col>&lt;int&gt;</th><th scope=col>&lt;int&gt;</th><th scope=col>&lt;int&gt;</th><th scope=col>&lt;int&gt;</th><th scope=col>&lt;int&gt;</th><th scope=col>&lt;int&gt;</th><th scope=col>&lt;int&gt;</th></tr>\n",
       "</thead>\n",
       "<tbody>\n",
       "\t<tr><th scope=row>%A</th><td>0</td><td>0</td><td>0</td><td>0</td><td>23</td><td>0</td><td>0</td><td>0</td><td>1</td><td>0</td><td>0</td><td>0</td><td>0</td><td>0</td></tr>\n",
       "\t<tr><th scope=row>%AADG</th><td>0</td><td>0</td><td>0</td><td>0</td><td> 3</td><td>0</td><td>0</td><td>0</td><td>0</td><td>0</td><td>0</td><td>0</td><td>0</td><td>0</td></tr>\n",
       "\t<tr><th scope=row>%AADNQP</th><td>0</td><td>0</td><td>0</td><td>0</td><td> 3</td><td>0</td><td>0</td><td>0</td><td>0</td><td>0</td><td>0</td><td>0</td><td>0</td><td>0</td></tr>\n",
       "\t<tr><th scope=row>%AADT</th><td>0</td><td>0</td><td>0</td><td>0</td><td>19</td><td>0</td><td>0</td><td>0</td><td>0</td><td>0</td><td>0</td><td>0</td><td>0</td><td>0</td></tr>\n",
       "\t<tr><th scope=row>%AADTE</th><td>0</td><td>0</td><td>0</td><td>0</td><td> 4</td><td>0</td><td>0</td><td>0</td><td>0</td><td>0</td><td>0</td><td>0</td><td>0</td><td>0</td></tr>\n",
       "\t<tr><th scope=row>%AAE</th><td>0</td><td>0</td><td>0</td><td>0</td><td>12</td><td>0</td><td>0</td><td>0</td><td>0</td><td>0</td><td>0</td><td>0</td><td>0</td><td>0</td></tr>\n",
       "</tbody>\n",
       "</table>\n"
      ],
      "text/latex": [
       "A data.frame: 6 x 14\n",
       "\\begin{tabular}{r|llllllllllllll}\n",
       "  & CEF & CMV & DENV & EBV & Emerson & HCV & HPV & HTLV-1 & HomoSapiens & Influenza & M.tuberculosis & MCPyV & MDavis & S-pneumoniae\\\\\n",
       "  & <int> & <int> & <int> & <int> & <int> & <int> & <int> & <int> & <int> & <int> & <int> & <int> & <int> & <int>\\\\\n",
       "\\hline\n",
       "\t\\%A & 0 & 0 & 0 & 0 & 23 & 0 & 0 & 0 & 1 & 0 & 0 & 0 & 0 & 0\\\\\n",
       "\t\\%AADG & 0 & 0 & 0 & 0 &  3 & 0 & 0 & 0 & 0 & 0 & 0 & 0 & 0 & 0\\\\\n",
       "\t\\%AADNQP & 0 & 0 & 0 & 0 &  3 & 0 & 0 & 0 & 0 & 0 & 0 & 0 & 0 & 0\\\\\n",
       "\t\\%AADT & 0 & 0 & 0 & 0 & 19 & 0 & 0 & 0 & 0 & 0 & 0 & 0 & 0 & 0\\\\\n",
       "\t\\%AADTE & 0 & 0 & 0 & 0 &  4 & 0 & 0 & 0 & 0 & 0 & 0 & 0 & 0 & 0\\\\\n",
       "\t\\%AAE & 0 & 0 & 0 & 0 & 12 & 0 & 0 & 0 & 0 & 0 & 0 & 0 & 0 & 0\\\\\n",
       "\\end{tabular}\n"
      ],
      "text/markdown": [
       "\n",
       "A data.frame: 6 x 14\n",
       "\n",
       "| <!--/--> | CEF &lt;int&gt; | CMV &lt;int&gt; | DENV &lt;int&gt; | EBV &lt;int&gt; | Emerson &lt;int&gt; | HCV &lt;int&gt; | HPV &lt;int&gt; | HTLV-1 &lt;int&gt; | HomoSapiens &lt;int&gt; | Influenza &lt;int&gt; | M.tuberculosis &lt;int&gt; | MCPyV &lt;int&gt; | MDavis &lt;int&gt; | S-pneumoniae &lt;int&gt; |\n",
       "|---|---|---|---|---|---|---|---|---|---|---|---|---|---|---|\n",
       "| %A | 0 | 0 | 0 | 0 | 23 | 0 | 0 | 0 | 1 | 0 | 0 | 0 | 0 | 0 |\n",
       "| %AADG | 0 | 0 | 0 | 0 |  3 | 0 | 0 | 0 | 0 | 0 | 0 | 0 | 0 | 0 |\n",
       "| %AADNQP | 0 | 0 | 0 | 0 |  3 | 0 | 0 | 0 | 0 | 0 | 0 | 0 | 0 | 0 |\n",
       "| %AADT | 0 | 0 | 0 | 0 | 19 | 0 | 0 | 0 | 0 | 0 | 0 | 0 | 0 | 0 |\n",
       "| %AADTE | 0 | 0 | 0 | 0 |  4 | 0 | 0 | 0 | 0 | 0 | 0 | 0 | 0 | 0 |\n",
       "| %AAE | 0 | 0 | 0 | 0 | 12 | 0 | 0 | 0 | 0 | 0 | 0 | 0 | 0 | 0 |\n",
       "\n"
      ],
      "text/plain": [
       "        CEF CMV DENV EBV Emerson HCV HPV HTLV-1 HomoSapiens Influenza\n",
       "%A      0   0   0    0   23      0   0   0      1           0        \n",
       "%AADG   0   0   0    0    3      0   0   0      0           0        \n",
       "%AADNQP 0   0   0    0    3      0   0   0      0           0        \n",
       "%AADT   0   0   0    0   19      0   0   0      0           0        \n",
       "%AADTE  0   0   0    0    4      0   0   0      0           0        \n",
       "%AAE    0   0   0    0   12      0   0   0      0           0        \n",
       "        M.tuberculosis MCPyV MDavis S-pneumoniae\n",
       "%A      0              0     0      0           \n",
       "%AADG   0              0     0      0           \n",
       "%AADNQP 0              0     0      0           \n",
       "%AADT   0              0     0      0           \n",
       "%AADTE  0              0     0      0           \n",
       "%AAE    0              0     0      0           "
      ]
     },
     "metadata": {},
     "output_type": "display_data"
    }
   ],
   "source": [
    "head(mytab)"
   ]
  },
  {
   "cell_type": "code",
   "execution_count": null,
   "metadata": {
    "vscode": {
     "languageId": "r"
    }
   },
   "outputs": [],
   "source": [
    "# count each group once per gliph\n",
    "mytab_1 <- mytab\n",
    "mytab_1[mytab_1 > 1] <- 1"
   ]
  },
  {
   "cell_type": "code",
   "execution_count": null,
   "metadata": {
    "vscode": {
     "languageId": "r"
    }
   },
   "outputs": [],
   "source": [
    "n_anno <- colSums(mytab_1 > 0)"
   ]
  },
  {
   "cell_type": "code",
   "execution_count": null,
   "metadata": {
    "vscode": {
     "languageId": "r"
    }
   },
   "outputs": [],
   "source": [
    "head(n_anno)"
   ]
  },
  {
   "cell_type": "code",
   "execution_count": null,
   "metadata": {
    "vscode": {
     "languageId": "r"
    }
   },
   "outputs": [],
   "source": [
    "gliphinput <- read.table(paste0(h4hpath, \"/Emerson/gliphinput_emerson_vdj_mdv.txt\"), sep = \"\\t\" ,header = F) #  Mitchel as reference"
   ]
  },
  {
   "cell_type": "code",
   "execution_count": null,
   "metadata": {
    "vscode": {
     "languageId": "r"
    }
   },
   "outputs": [],
   "source": [
    "colnames(gliphinput) <- c(\"CDR3b\",\"TRBV\",\"TRBJ\",\"CDR3a\",\"subject:condition\",\"count\")"
   ]
  },
  {
   "cell_type": "code",
   "execution_count": null,
   "metadata": {
    "vscode": {
     "languageId": "r"
    }
   },
   "outputs": [],
   "source": [
    "gliphinput$subject <- gsub(\".*:\", \"\", gliphinput$`subject:condition`)"
   ]
  },
  {
   "cell_type": "code",
   "execution_count": null,
   "metadata": {
    "vscode": {
     "languageId": "r"
    }
   },
   "outputs": [],
   "source": [
    "head(gliphinput)"
   ]
  },
  {
   "cell_type": "code",
   "execution_count": null,
   "metadata": {
    "vscode": {
     "languageId": "r"
    }
   },
   "outputs": [],
   "source": [
    "gliphinput$disease <- emerson_meta$disease[match(gliphinput$subject, emerson_meta$sample_name)]"
   ]
  },
  {
   "cell_type": "code",
   "execution_count": null,
   "metadata": {
    "vscode": {
     "languageId": "r"
    }
   },
   "outputs": [],
   "source": [
    "head(gliphinput)"
   ]
  },
  {
   "cell_type": "code",
   "execution_count": null,
   "metadata": {
    "vscode": {
     "languageId": "r"
    }
   },
   "outputs": [],
   "source": [
    "table(gliphinput$disease)"
   ]
  },
  {
   "cell_type": "code",
   "execution_count": null,
   "metadata": {
    "vscode": {
     "languageId": "r"
    }
   },
   "outputs": [],
   "source": [
    "base_rate_CMVneg <- n_anno / length(unique(gliphinput$CDR3b[ grepl(\"Cytomegalovirus -\", gliphinput$disease)]))\n",
    "base_rate_CMVpos <- n_anno / length(unique(gliphinput$CDR3b[ grepl(\"Cytomegalovirus +\", gliphinput$disease)]))\n",
    "\n",
    "# base_rate <- n_anno / length(unique(gliphinput$CDR3b[ grepl(\"Emerson\", gliphinput$`subject:condition`)]))"
   ]
  },
  {
   "cell_type": "code",
   "execution_count": null,
   "metadata": {
    "vscode": {
     "languageId": "r"
    }
   },
   "outputs": [],
   "source": [
    "base_rate <- base_rate_CMVneg"
   ]
  },
  {
   "cell_type": "code",
   "execution_count": null,
   "metadata": {
    "vscode": {
     "languageId": "r"
    }
   },
   "outputs": [],
   "source": [
    "base_rate_CMVneg\n",
    "\n",
    "base_rate_CMVpos"
   ]
  },
  {
   "cell_type": "markdown",
   "metadata": {},
   "source": [
    "### 2.1- sample probablities of finding a viral group"
   ]
  },
  {
   "cell_type": "code",
   "execution_count": null,
   "metadata": {
    "vscode": {
     "languageId": "r"
    }
   },
   "outputs": [],
   "source": [
    "samples_tcr_probs <- samples_tcr"
   ]
  },
  {
   "cell_type": "code",
   "execution_count": null,
   "metadata": {
    "vscode": {
     "languageId": "r"
    }
   },
   "outputs": [],
   "source": [
    "head(samples_tcr_probs)"
   ]
  },
  {
   "cell_type": "code",
   "execution_count": null,
   "metadata": {
    "vscode": {
     "languageId": "r"
    }
   },
   "outputs": [],
   "source": [
    "samples_tcr_probs$Viral <- rowSums(samples_tcr_probs[, c(\"CMV\", \"EBV\", \"HCV\", \"Influenza\", \"HPV\", \"MCPyV\")], na.rm = TRUE)"
   ]
  },
  {
   "cell_type": "code",
   "execution_count": null,
   "metadata": {
    "vscode": {
     "languageId": "r"
    }
   },
   "outputs": [],
   "source": [
    "head(samples_tcr_probs)"
   ]
  },
  {
   "cell_type": "code",
   "execution_count": null,
   "metadata": {
    "vscode": {
     "languageId": "r"
    }
   },
   "outputs": [],
   "source": [
    "base_rate"
   ]
  },
  {
   "cell_type": "code",
   "execution_count": null,
   "metadata": {
    "vscode": {
     "languageId": "r"
    }
   },
   "outputs": [],
   "source": [
    "samples_tcr_probs$Myp <- NA\n",
    "for (i in 1:nrow(samples_tcr_probs)) {\n",
    "    samples_tcr_probs$Myp[i] <- binom.test(x = samples_tcr_probs$MCPyV[i], n = samples_tcr_probs$n_gliph[i], \n",
    "    p = base_rate[\"MCPyV\"], alternative = \"greater\")$p.value\n",
    "}\n",
    "\n",
    "samples_tcr_probs$HSapiens <- NA\n",
    "for (i in 1:nrow(samples_tcr_probs)) {\n",
    "    samples_tcr_probs$HSapiens[i] <- binom.test(x = samples_tcr_probs$HomoSapiens[i], n = samples_tcr_probs$n_gliph[i], \n",
    "    p = base_rate[ \"HomoSapiens\"], alternative = \"greater\")$p.value\n",
    "}"
   ]
  },
  {
   "cell_type": "code",
   "execution_count": null,
   "metadata": {
    "vscode": {
     "languageId": "r"
    }
   },
   "outputs": [],
   "source": [
    "samples_tcr_probs$Relapse <- meta_div$Relapse[match(rownames(samples_tcr_probs), meta_div$samplename)]"
   ]
  },
  {
   "cell_type": "code",
   "execution_count": null,
   "metadata": {
    "vscode": {
     "languageId": "r"
    }
   },
   "outputs": [],
   "source": [
    "samples_tcr_probs$MCPyV_ratio <- samples_tcr_probs$MCPyV / samples_tcr_probs$n_gliph\n",
    "samples_tcr_probs$HomoSapiens_ratio <- samples_tcr_probs$HomoSapiens / samples_tcr_probs$n_gliph"
   ]
  },
  {
   "cell_type": "code",
   "execution_count": null,
   "metadata": {
    "vscode": {
     "languageId": "r"
    }
   },
   "outputs": [],
   "source": [
    "pbmc <- samples_tcr_probs[ samples_tcr_probs$sampletype == \"cfDNA\",]"
   ]
  },
  {
   "cell_type": "code",
   "execution_count": null,
   "metadata": {
    "vscode": {
     "languageId": "r"
    }
   },
   "outputs": [],
   "source": [
    "ggplot(data = pbmc, aes( x = HomoSapiens_ratio, y = -log10(HSapiens))) + geom_point()"
   ]
  },
  {
   "cell_type": "code",
   "execution_count": null,
   "metadata": {
    "vscode": {
     "languageId": "r"
    }
   },
   "outputs": [],
   "source": []
  },
  {
   "cell_type": "code",
   "execution_count": null,
   "metadata": {
    "vscode": {
     "languageId": "r"
    }
   },
   "outputs": [],
   "source": [
    "tempo <- pbmc[ pbmc$cycle != \"X01\" & pbmc$cancergroup == \"Solidtumors\", ] %>% group_by(Patient) %>% reframe( sump = mean(psuccess), rel = Relapse, p = mean(Myp) )"
   ]
  },
  {
   "cell_type": "code",
   "execution_count": null,
   "metadata": {
    "vscode": {
     "languageId": "r"
    }
   },
   "outputs": [],
   "source": [
    "tempo_dedup <- tempo[ !duplicated(tempo$Patient), ]"
   ]
  },
  {
   "cell_type": "code",
   "execution_count": null,
   "metadata": {
    "vscode": {
     "languageId": "r"
    }
   },
   "outputs": [],
   "source": [
    "tempo"
   ]
  },
  {
   "cell_type": "code",
   "execution_count": null,
   "metadata": {
    "vscode": {
     "languageId": "r"
    }
   },
   "outputs": [],
   "source": [
    "f <- as.formula(paste0(\"rel~\", \"sump\"))\n",
    "\n",
    "lrmodel <- glm(f, data = tempo[ !duplicated(tempo$Patient), ], family = \"binomial\")\n",
    "\n",
    "summary(lrmodel)\n"
   ]
  },
  {
   "cell_type": "markdown",
   "metadata": {},
   "source": [
    "## 2.2 - Binomial probablities of finding at least one motif in a sample"
   ]
  },
  {
   "cell_type": "code",
   "execution_count": null,
   "metadata": {
    "vscode": {
     "languageId": "r"
    }
   },
   "outputs": [],
   "source": [
    "samples_tcr_probs$CMVp <- 1 - (1 - base_rate[\"CMV\"]) ^ samples_tcr_probs$n_cdr3\n",
    "samples_tcr_probs$EBVp <- 1 - (1 - base_rate[\"EBV\"]) ^ samples_tcr_probs$n_cdr3\n",
    "samples_tcr_probs$Flup <- 1 - (1 - base_rate[\"Influenza\"]) ^ samples_tcr_probs$n_cdr3\n",
    "samples_tcr_probs$HCVp <- 1 - (1 - base_rate[\"HCV\"]) ^ samples_tcr_probs$n_cdr3\n",
    "samples_tcr_probs$HPVp <- 1 - (1 - base_rate[\"HPV\"]) ^ samples_tcr_probs$n_cdr3\n",
    "samples_tcr_probs$CEFp <- 1 - (1 - base_rate[\"CEF\"]) ^ samples_tcr_probs$n_cdr3\n",
    "samples_tcr_probs$HSp <- 1 - (1 - base_rate[\"HomoSapiens\"]) ^ samples_tcr_probs$n_cdr3\n",
    "samples_tcr_probs$MCPyVp <- 1 - (1 - base_rate[\"MCPyV\"]) ^ samples_tcr_probs$n_cdr3\n",
    "samples_tcr_probs$MDavisp <- 1 - (1 - base_rate[\"MDavis\"]) ^ samples_tcr_probs$n_cdr3"
   ]
  },
  {
   "cell_type": "code",
   "execution_count": null,
   "metadata": {
    "vscode": {
     "languageId": "r"
    }
   },
   "outputs": [],
   "source": [
    "head(samples_tcr_probs)"
   ]
  },
  {
   "cell_type": "code",
   "execution_count": null,
   "metadata": {
    "vscode": {
     "languageId": "r"
    }
   },
   "outputs": [],
   "source": [
    "pbmc <- samples_tcr_probs[ samples_tcr_probs$sampletype == \"PBMC\",]"
   ]
  },
  {
   "cell_type": "code",
   "execution_count": null,
   "metadata": {
    "vscode": {
     "languageId": "r"
    }
   },
   "outputs": [],
   "source": [
    "pairwise.t.test(pbmc[ pbmc$cycle == \"X01\", \"Influenza\"], pbmc$cancergroup[ pbmc$cycle == \"X01\"], \"none\")"
   ]
  },
  {
   "cell_type": "code",
   "execution_count": null,
   "metadata": {
    "vscode": {
     "languageId": "r"
    }
   },
   "outputs": [],
   "source": [
    "colnames(pbmc)"
   ]
  },
  {
   "cell_type": "code",
   "execution_count": null,
   "metadata": {
    "vscode": {
     "languageId": "r"
    }
   },
   "outputs": [],
   "source": [
    "myfit <- lmerTest::lmer( EBVp ~ cyclenum + Age + (1 | Patient), data= pbmc[pbmc$cancergroup == \"Solidtumors\",])\n"
   ]
  },
  {
   "cell_type": "code",
   "execution_count": null,
   "metadata": {
    "vscode": {
     "languageId": "r"
    }
   },
   "outputs": [],
   "source": [
    "anova(myfit)"
   ]
  },
  {
   "cell_type": "code",
   "execution_count": null,
   "metadata": {
    "vscode": {
     "languageId": "r"
    }
   },
   "outputs": [],
   "source": []
  },
  {
   "cell_type": "code",
   "execution_count": null,
   "metadata": {
    "vscode": {
     "languageId": "r"
    }
   },
   "outputs": [],
   "source": []
  },
  {
   "cell_type": "code",
   "execution_count": null,
   "metadata": {
    "vscode": {
     "languageId": "r"
    }
   },
   "outputs": [],
   "source": []
  },
  {
   "cell_type": "code",
   "execution_count": null,
   "metadata": {
    "vscode": {
     "languageId": "r"
    }
   },
   "outputs": [],
   "source": []
  },
  {
   "cell_type": "code",
   "execution_count": null,
   "metadata": {
    "vscode": {
     "languageId": "r"
    }
   },
   "outputs": [],
   "source": []
  },
  {
   "cell_type": "code",
   "execution_count": null,
   "metadata": {
    "vscode": {
     "languageId": "r"
    }
   },
   "outputs": [],
   "source": []
  }
 ],
 "metadata": {
  "kernelspec": {
   "display_name": "R 4.0",
   "language": "R",
   "name": "ir40"
  },
  "language_info": {
   "codemirror_mode": "r",
   "file_extension": ".r",
   "mimetype": "text/x-r-source",
   "name": "R",
   "pygments_lexer": "r",
   "version": "4.2.2"
  },
  "toc": {
   "base_numbering": 1,
   "nav_menu": {},
   "number_sections": false,
   "sideBar": true,
   "skip_h1_title": false,
   "title_cell": "Table of Contents",
   "title_sidebar": "Contents",
   "toc_cell": true,
   "toc_position": {
    "height": "calc(100% - 180px)",
    "left": "10px",
    "top": "150px",
    "width": "186.15px"
   },
   "toc_section_display": true,
   "toc_window_display": true
  }
 },
 "nbformat": 4,
 "nbformat_minor": 2
}

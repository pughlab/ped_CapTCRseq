{
 "cells": [
  {
   "cell_type": "code",
   "execution_count": 1,
   "metadata": {
    "vscode": {
     "languageId": "r"
    }
   },
   "outputs": [
    {
     "data": {
      "text/html": [
       "'en_US.UTF-8/en_US.UTF-8/en_US.UTF-8/C/en_US.UTF-8/C'"
      ],
      "text/latex": [
       "'en\\_US.UTF-8/en\\_US.UTF-8/en\\_US.UTF-8/C/en\\_US.UTF-8/C'"
      ],
      "text/markdown": [
       "'en_US.UTF-8/en_US.UTF-8/en_US.UTF-8/C/en_US.UTF-8/C'"
      ],
      "text/plain": [
       "[1] \"en_US.UTF-8/en_US.UTF-8/en_US.UTF-8/C/en_US.UTF-8/C\""
      ]
     },
     "metadata": {},
     "output_type": "display_data"
    }
   ],
   "source": [
    "Sys.setlocale(category = \"LC_ALL\", locale = \"en_US.UTF-8\")"
   ]
  },
  {
   "attachments": {},
   "cell_type": "markdown",
   "metadata": {},
   "source": [
    "# Dependencies"
   ]
  },
  {
   "cell_type": "code",
   "execution_count": 2,
   "metadata": {
    "vscode": {
     "languageId": "r"
    }
   },
   "outputs": [],
   "source": [
    "pacman::p_load(dplyr, ggplot2, ggbeeswarm, ggpubr, rms)"
   ]
  },
  {
   "attachments": {},
   "cell_type": "markdown",
   "metadata": {},
   "source": [
    "# Functions"
   ]
  },
  {
   "cell_type": "code",
   "execution_count": 3,
   "metadata": {
    "vscode": {
     "languageId": "r"
    }
   },
   "outputs": [],
   "source": [
    "# use codes from Lagattuta et al.\n",
    "source(\"/Users/anabbi/git/TiRP/utils.R\")"
   ]
  },
  {
   "cell_type": "code",
   "execution_count": 4,
   "metadata": {
    "vscode": {
     "languageId": "r"
    }
   },
   "outputs": [],
   "source": [
    "prepare_mixcr.fx <- function(df) {\n",
    "  onefle <- df\n",
    "  # onefle <- read.table(paste0(indir, fle), sep = \"\\t\", header = TRUE, stringsAsFactors = F)\n",
    "  onefle$TRBV <- gsub(\"[*]0.*\", \"\", onefle$allVHitsWithScore)\n",
    "  onefle$TRBJ <- gsub(\"[*]0.*\", \"\", onefle$allJHitsWithScore)\n",
    "  onefle <- onefle[, c(\"basename\",\"aaSeqCDR3\", \"TRBV\", \"TRBJ\", \"cloneCount\", \"cloneFraction\")]\n",
    "  onefle$length <- sapply(onefle$aaSeqCDR3, function(x) nchar(x))\n",
    "  # only cdr3b with length between 12 and 17, for now\n",
    "  onefle <- onefle[onefle$length >= 12 & onefle$length <= 17, ]\n",
    "  onefle$Vmotif <- sapply(onefle$aaSeqCDR3, function(x) substr(x, 1, 3))\n",
    "\n",
    "  # frame_type is out if aaSeqCDR3 contains either * or _\n",
    "  onefle$frame_type <- sapply(onefle$aaSeqCDR3, function(x) ifelse(grepl(\"[*]|[_]\", x), \"out\", \"in\"))\n",
    "\n",
    "  poss <- get_positions(17)\n",
    "\n",
    "  for (i in 1:6) {\n",
    "    if (i >= 4) {\n",
    "      # leave the vmotif out (the first three), take aminoacid of position\n",
    "      onefle$new <- sapply(onefle$aaSeqCDR3, function(x) substr(x, i, i))\n",
    "      # print(int_all_1$new)\n",
    "      colnames(onefle)[ncol(onefle)] <- paste(\"p\", poss[i], sep = \"\")\n",
    "    }\n",
    "  }\n",
    "  onefle$p110 <- sapply(onefle$aaSeqCDR3, function(x) ifelse(nchar(x) > 12, substr(x, 7, 7), \"*\"))\n",
    "  onefle$p111 <- sapply(onefle$aaSeqCDR3, function(x) ifelse(nchar(x) > 14, substr(x, 8, 8), \"*\"))\n",
    "  onefle$\"p111.1\" <- sapply(onefle$aaSeqCDR3, function(x) ifelse(nchar(x) > 16, substr(x, 9, 9), \"*\"))\n",
    "  onefle$\"p112.1\" <- sapply(onefle$aaSeqCDR3, function(x) ifelse(nchar(x) > 15, substr(x, nchar(x) - 7, nchar(x) - 7), \"*\"))\n",
    "  onefle$\"p112\" <- sapply(onefle$aaSeqCDR3, function(x) ifelse(nchar(x) > 13, substr(x, nchar(x) - 6, nchar(x) - 6), \"*\"))\n",
    "\n",
    "  for (i in 5:0) { # get last 5 amino acids\n",
    "    # if (i != 5) { # not sure why this is here\n",
    "    onefle$new <- sapply(onefle$aaSeqCDR3, function(x) substr(x, nchar(x) - i, nchar(x) - i))\n",
    "    colnames(onefle)[ncol(onefle)] <- paste(\"p\", poss[length(poss) - i], sep = \"\")\n",
    "    # }\n",
    "  }\n",
    "\n",
    "  # last 4 amino acids is the Jmotif\n",
    "  onefle$Jmotif <- sapply(onefle$aaSeqCDR3, function(x) substr(x, nchar(x) - 4, nchar(x)))\n",
    "\n",
    "  # just to match the format with the function from lagattuta\n",
    "  data <- onefle\n",
    "  data$sequence <- data$aaSeqCDR3\n",
    "  data <- add_percentAA()\n",
    "  onefle <- data\n",
    "\n",
    "  onefle$sequence <- NULL\n",
    "\n",
    "  vars <- c(\"frame_type\", \"TRBV\", \"TRBJ\", \"Vmotif\", \"Jmotif\", \"length\", \"p107\", \"p108\", \"p109\", \"p110\", \"p111\", \"p111.1\", \"p112.1\", \"p112\", \"p113\", \"p114\") # add 113 and 114, just in case (they are not the midregion as per lagattuta)\n",
    "\n",
    "  ohe_seqdat <- data.frame(matrix(nrow = nrow(onefle), ncol = 0))\n",
    "  for (i in vars) {\n",
    "    \n",
    "    if( length(levels(factor(onefle[[i]]) ))> 1){\n",
    "\n",
    "    ohe_vars <- as.data.frame(model.matrix(~ factor(onefle[[i]]) - 1))\n",
    "    colnames(ohe_vars) <- gsub(\".*)\", \"\", colnames(ohe_vars))\n",
    "    colnames(ohe_vars) <- paste0(i, \"_is_\", colnames(ohe_vars))\n",
    "    ohe_seqdat <- cbind(ohe_seqdat, ohe_vars)\n",
    "  }\n",
    "  }\n",
    "\n",
    "  onefle_ohe_seqdat <- cbind(onefle, ohe_seqdat)\n",
    "\n",
    "  return(onefle_ohe_seqdat)\n",
    "}\n"
   ]
  },
  {
   "cell_type": "code",
   "execution_count": 5,
   "metadata": {
    "vscode": {
     "languageId": "r"
    }
   },
   "outputs": [],
   "source": [
    "source(\"/Users/anabbi/git/ped_CapTCRseq/R/ggplot2_theme.R\")\n",
    "source(\"/Users/anabbi/git/ped_CapTCRseq/R/color_schemes.R\")\n",
    "source(\"/Users/anabbi/git/ped_CapTCRseq/R/Misc_functions.R\")"
   ]
  },
  {
   "attachments": {},
   "cell_type": "markdown",
   "metadata": {},
   "source": [
    "# Paths"
   ]
  },
  {
   "cell_type": "code",
   "execution_count": 6,
   "metadata": {
    "vscode": {
     "languageId": "r"
    }
   },
   "outputs": [],
   "source": [
    "datapath <- \"/Users/anabbi/OneDrive - UHN/Documents/INTERCEPT/Data/\"\n",
    "plotpath <- \"/Users/anabbi/OneDrive - UHN/Documents/INTERCEPT/Plots/\"\n",
    "manifestpath <- \"/Users/anabbi/OneDrive - UHN/Documents/INTERCEPT/Manifests/\"\n",
    "gitpath <- \"/Users/anabbi/git/ped_CapTCRseq/\""
   ]
  },
  {
   "cell_type": "code",
   "execution_count": 7,
   "metadata": {
    "vscode": {
     "languageId": "r"
    }
   },
   "outputs": [],
   "source": [
    "h4hpath <- \"/Users/anabbi/Desktop/H4H/INTERCEPT/\""
   ]
  },
  {
   "attachments": {},
   "cell_type": "markdown",
   "metadata": {},
   "source": [
    "# Main"
   ]
  },
  {
   "attachments": {},
   "cell_type": "markdown",
   "metadata": {},
   "source": [
    "# Define features"
   ]
  },
  {
   "cell_type": "code",
   "execution_count": 8,
   "metadata": {
    "vscode": {
     "languageId": "r"
    }
   },
   "outputs": [],
   "source": [
    "meta_div <- readr::read_rds(paste0(datapath, \"capTCRseq/meta_div_goodsamples.rds\"))"
   ]
  },
  {
   "cell_type": "code",
   "execution_count": 9,
   "metadata": {
    "vscode": {
     "languageId": "r"
    }
   },
   "outputs": [
    {
     "data": {
      "text/html": [
       "<table class=\"dataframe\">\n",
       "<caption>A data.frame: 6 x 66</caption>\n",
       "<thead>\n",
       "\t<tr><th></th><th scope=col>sample_id</th><th scope=col>Patient</th><th scope=col>cycle</th><th scope=col>FOLD</th><th scope=col>ATC</th><th scope=col>Age</th><th scope=col>Disease_type</th><th scope=col>TE_fold</th><th scope=col>CD3</th><th scope=col>EM</th><th scope=col>...</th><th scope=col>estimated_Shannon</th><th scope=col>SE_Shannon</th><th scope=col>observed_Simpson</th><th scope=col>estimated_Simpson</th><th scope=col>SE_Simpson</th><th scope=col>basename</th><th scope=col>file</th><th scope=col>sampletype</th><th scope=col>Group</th><th scope=col>log10shann</th></tr>\n",
       "\t<tr><th></th><th scope=col>&lt;chr&gt;</th><th scope=col>&lt;chr&gt;</th><th scope=col>&lt;chr&gt;</th><th scope=col>&lt;dbl&gt;</th><th scope=col>&lt;dbl&gt;</th><th scope=col>&lt;dbl&gt;</th><th scope=col>&lt;chr&gt;</th><th scope=col>&lt;dbl&gt;</th><th scope=col>&lt;int&gt;</th><th scope=col>&lt;int&gt;</th><th scope=col>...</th><th scope=col>&lt;dbl&gt;</th><th scope=col>&lt;dbl&gt;</th><th scope=col>&lt;dbl&gt;</th><th scope=col>&lt;dbl&gt;</th><th scope=col>&lt;dbl&gt;</th><th scope=col>&lt;chr&gt;</th><th scope=col>&lt;chr&gt;</th><th scope=col>&lt;chr&gt;</th><th scope=col>&lt;chr&gt;</th><th scope=col>&lt;dbl&gt;</th></tr>\n",
       "</thead>\n",
       "<tbody>\n",
       "\t<tr><th scope=row>287</th><td>CHP_10YO_M_00  </td><td>CHP_10YO_M  </td><td>X00</td><td>NA</td><td>NA</td><td>NA</td><td>Normal</td><td>NA</td><td>NA</td><td>NA</td><td>...</td><td>10.601</td><td>0.073</td><td> 8.556</td><td> 8.561</td><td>0.094</td><td>CHP_10YO-M_PBMC_DNA  </td><td>batchNormal_16Apr2020/mixcr/clones/CLONES_TRBCHP_10YO-M_PBMC_DNA.txt  </td><td>PBMC</td><td>CHP</td><td>1.0249370</td></tr>\n",
       "\t<tr><th scope=row>288</th><td>CHP_11YO_M_00  </td><td>CHP_11YO_M  </td><td>X00</td><td>NA</td><td>NA</td><td>NA</td><td>Normal</td><td>NA</td><td>NA</td><td>NA</td><td>...</td><td>11.614</td><td>0.054</td><td>10.406</td><td>10.414</td><td>0.066</td><td>CHP_11YO-M_PBMC_DNA  </td><td>batchNormal_16Apr2020/mixcr/clones/CLONES_TRBCHP_11YO-M_PBMC_DNA.txt  </td><td>PBMC</td><td>CHP</td><td>1.0647200</td></tr>\n",
       "\t<tr><th scope=row>289</th><td>CHP_15YO_F_A_00</td><td>CHP_15YO_F_A</td><td>X00</td><td>NA</td><td>NA</td><td>NA</td><td>Normal</td><td>NA</td><td>NA</td><td>NA</td><td>...</td><td> 8.989</td><td>0.036</td><td> 8.560</td><td> 8.570</td><td>0.060</td><td>CHP_15YO-F-A_PBMC_DNA</td><td>batchNormal_16Apr2020/mixcr/clones/CLONES_TRBCHP_15YO-F-A_PBMC_DNA.txt</td><td>PBMC</td><td>CHP</td><td>0.9533731</td></tr>\n",
       "\t<tr><th scope=row>290</th><td>CHP_15YO_F_B_00</td><td>CHP_15YO_F_B</td><td>X00</td><td>NA</td><td>NA</td><td>NA</td><td>Normal</td><td>NA</td><td>NA</td><td>NA</td><td>...</td><td> 6.334</td><td>0.040</td><td> 5.870</td><td> 5.876</td><td>0.066</td><td>CHP_15YO-F-B_PBMC_DNA</td><td>batchNormal_16Apr2020/mixcr/clones/CLONES_TRBCHP_15YO-F-B_PBMC_DNA.txt</td><td>PBMC</td><td>CHP</td><td>0.8014037</td></tr>\n",
       "\t<tr><th scope=row>291</th><td>CHP_15YO_M_00  </td><td>CHP_15YO_M  </td><td>X00</td><td>NA</td><td>NA</td><td>NA</td><td>Normal</td><td>NA</td><td>NA</td><td>NA</td><td>...</td><td>21.120</td><td>0.040</td><td>20.321</td><td>20.339</td><td>0.068</td><td>CHP_15YO-M_PBMC_DNA  </td><td>batchNormal_16Apr2020/mixcr/clones/CLONES_TRBCHP_15YO-M_PBMC_DNA.txt  </td><td>PBMC</td><td>CHP</td><td>1.3244882</td></tr>\n",
       "\t<tr><th scope=row>292</th><td>CHP_16YO_M_00  </td><td>CHP_16YO_M  </td><td>X00</td><td>NA</td><td>NA</td><td>NA</td><td>Normal</td><td>NA</td><td>NA</td><td>NA</td><td>...</td><td> 3.973</td><td>0.007</td><td> 3.944</td><td> 3.946</td><td>0.013</td><td>CHP_16YO-M_PBMC_DNA  </td><td>batchNormal_16Apr2020/mixcr/clones/CLONES_TRBCHP_16YO-M_PBMC_DNA.txt  </td><td>PBMC</td><td>CHP</td><td>0.5990092</td></tr>\n",
       "</tbody>\n",
       "</table>\n"
      ],
      "text/latex": [
       "A data.frame: 6 x 66\n",
       "\\begin{tabular}{r|lllllllllllllllllllll}\n",
       "  & sample\\_id & Patient & cycle & FOLD & ATC & Age & Disease\\_type & TE\\_fold & CD3 & EM & ... & estimated\\_Shannon & SE\\_Shannon & observed\\_Simpson & estimated\\_Simpson & SE\\_Simpson & basename & file & sampletype & Group & log10shann\\\\\n",
       "  & <chr> & <chr> & <chr> & <dbl> & <dbl> & <dbl> & <chr> & <dbl> & <int> & <int> & ... & <dbl> & <dbl> & <dbl> & <dbl> & <dbl> & <chr> & <chr> & <chr> & <chr> & <dbl>\\\\\n",
       "\\hline\n",
       "\t287 & CHP\\_10YO\\_M\\_00   & CHP\\_10YO\\_M   & X00 & NA & NA & NA & Normal & NA & NA & NA & ... & 10.601 & 0.073 &  8.556 &  8.561 & 0.094 & CHP\\_10YO-M\\_PBMC\\_DNA   & batchNormal\\_16Apr2020/mixcr/clones/CLONES\\_TRBCHP\\_10YO-M\\_PBMC\\_DNA.txt   & PBMC & CHP & 1.0249370\\\\\n",
       "\t288 & CHP\\_11YO\\_M\\_00   & CHP\\_11YO\\_M   & X00 & NA & NA & NA & Normal & NA & NA & NA & ... & 11.614 & 0.054 & 10.406 & 10.414 & 0.066 & CHP\\_11YO-M\\_PBMC\\_DNA   & batchNormal\\_16Apr2020/mixcr/clones/CLONES\\_TRBCHP\\_11YO-M\\_PBMC\\_DNA.txt   & PBMC & CHP & 1.0647200\\\\\n",
       "\t289 & CHP\\_15YO\\_F\\_A\\_00 & CHP\\_15YO\\_F\\_A & X00 & NA & NA & NA & Normal & NA & NA & NA & ... &  8.989 & 0.036 &  8.560 &  8.570 & 0.060 & CHP\\_15YO-F-A\\_PBMC\\_DNA & batchNormal\\_16Apr2020/mixcr/clones/CLONES\\_TRBCHP\\_15YO-F-A\\_PBMC\\_DNA.txt & PBMC & CHP & 0.9533731\\\\\n",
       "\t290 & CHP\\_15YO\\_F\\_B\\_00 & CHP\\_15YO\\_F\\_B & X00 & NA & NA & NA & Normal & NA & NA & NA & ... &  6.334 & 0.040 &  5.870 &  5.876 & 0.066 & CHP\\_15YO-F-B\\_PBMC\\_DNA & batchNormal\\_16Apr2020/mixcr/clones/CLONES\\_TRBCHP\\_15YO-F-B\\_PBMC\\_DNA.txt & PBMC & CHP & 0.8014037\\\\\n",
       "\t291 & CHP\\_15YO\\_M\\_00   & CHP\\_15YO\\_M   & X00 & NA & NA & NA & Normal & NA & NA & NA & ... & 21.120 & 0.040 & 20.321 & 20.339 & 0.068 & CHP\\_15YO-M\\_PBMC\\_DNA   & batchNormal\\_16Apr2020/mixcr/clones/CLONES\\_TRBCHP\\_15YO-M\\_PBMC\\_DNA.txt   & PBMC & CHP & 1.3244882\\\\\n",
       "\t292 & CHP\\_16YO\\_M\\_00   & CHP\\_16YO\\_M   & X00 & NA & NA & NA & Normal & NA & NA & NA & ... &  3.973 & 0.007 &  3.944 &  3.946 & 0.013 & CHP\\_16YO-M\\_PBMC\\_DNA   & batchNormal\\_16Apr2020/mixcr/clones/CLONES\\_TRBCHP\\_16YO-M\\_PBMC\\_DNA.txt   & PBMC & CHP & 0.5990092\\\\\n",
       "\\end{tabular}\n"
      ],
      "text/markdown": [
       "\n",
       "A data.frame: 6 x 66\n",
       "\n",
       "| <!--/--> | sample_id &lt;chr&gt; | Patient &lt;chr&gt; | cycle &lt;chr&gt; | FOLD &lt;dbl&gt; | ATC &lt;dbl&gt; | Age &lt;dbl&gt; | Disease_type &lt;chr&gt; | TE_fold &lt;dbl&gt; | CD3 &lt;int&gt; | EM &lt;int&gt; | ... ... | estimated_Shannon &lt;dbl&gt; | SE_Shannon &lt;dbl&gt; | observed_Simpson &lt;dbl&gt; | estimated_Simpson &lt;dbl&gt; | SE_Simpson &lt;dbl&gt; | basename &lt;chr&gt; | file &lt;chr&gt; | sampletype &lt;chr&gt; | Group &lt;chr&gt; | log10shann &lt;dbl&gt; |\n",
       "|---|---|---|---|---|---|---|---|---|---|---|---|---|---|---|---|---|---|---|---|---|---|\n",
       "| 287 | CHP_10YO_M_00   | CHP_10YO_M   | X00 | NA | NA | NA | Normal | NA | NA | NA | ... | 10.601 | 0.073 |  8.556 |  8.561 | 0.094 | CHP_10YO-M_PBMC_DNA   | batchNormal_16Apr2020/mixcr/clones/CLONES_TRBCHP_10YO-M_PBMC_DNA.txt   | PBMC | CHP | 1.0249370 |\n",
       "| 288 | CHP_11YO_M_00   | CHP_11YO_M   | X00 | NA | NA | NA | Normal | NA | NA | NA | ... | 11.614 | 0.054 | 10.406 | 10.414 | 0.066 | CHP_11YO-M_PBMC_DNA   | batchNormal_16Apr2020/mixcr/clones/CLONES_TRBCHP_11YO-M_PBMC_DNA.txt   | PBMC | CHP | 1.0647200 |\n",
       "| 289 | CHP_15YO_F_A_00 | CHP_15YO_F_A | X00 | NA | NA | NA | Normal | NA | NA | NA | ... |  8.989 | 0.036 |  8.560 |  8.570 | 0.060 | CHP_15YO-F-A_PBMC_DNA | batchNormal_16Apr2020/mixcr/clones/CLONES_TRBCHP_15YO-F-A_PBMC_DNA.txt | PBMC | CHP | 0.9533731 |\n",
       "| 290 | CHP_15YO_F_B_00 | CHP_15YO_F_B | X00 | NA | NA | NA | Normal | NA | NA | NA | ... |  6.334 | 0.040 |  5.870 |  5.876 | 0.066 | CHP_15YO-F-B_PBMC_DNA | batchNormal_16Apr2020/mixcr/clones/CLONES_TRBCHP_15YO-F-B_PBMC_DNA.txt | PBMC | CHP | 0.8014037 |\n",
       "| 291 | CHP_15YO_M_00   | CHP_15YO_M   | X00 | NA | NA | NA | Normal | NA | NA | NA | ... | 21.120 | 0.040 | 20.321 | 20.339 | 0.068 | CHP_15YO-M_PBMC_DNA   | batchNormal_16Apr2020/mixcr/clones/CLONES_TRBCHP_15YO-M_PBMC_DNA.txt   | PBMC | CHP | 1.3244882 |\n",
       "| 292 | CHP_16YO_M_00   | CHP_16YO_M   | X00 | NA | NA | NA | Normal | NA | NA | NA | ... |  3.973 | 0.007 |  3.944 |  3.946 | 0.013 | CHP_16YO-M_PBMC_DNA   | batchNormal_16Apr2020/mixcr/clones/CLONES_TRBCHP_16YO-M_PBMC_DNA.txt   | PBMC | CHP | 0.5990092 |\n",
       "\n"
      ],
      "text/plain": [
       "    sample_id       Patient      cycle FOLD ATC Age Disease_type TE_fold CD3 EM\n",
       "287 CHP_10YO_M_00   CHP_10YO_M   X00   NA   NA  NA  Normal       NA      NA  NA\n",
       "288 CHP_11YO_M_00   CHP_11YO_M   X00   NA   NA  NA  Normal       NA      NA  NA\n",
       "289 CHP_15YO_F_A_00 CHP_15YO_F_A X00   NA   NA  NA  Normal       NA      NA  NA\n",
       "290 CHP_15YO_F_B_00 CHP_15YO_F_B X00   NA   NA  NA  Normal       NA      NA  NA\n",
       "291 CHP_15YO_M_00   CHP_15YO_M   X00   NA   NA  NA  Normal       NA      NA  NA\n",
       "292 CHP_16YO_M_00   CHP_16YO_M   X00   NA   NA  NA  Normal       NA      NA  NA\n",
       "    ... estimated_Shannon SE_Shannon observed_Simpson estimated_Simpson\n",
       "287 ... 10.601            0.073       8.556            8.561           \n",
       "288 ... 11.614            0.054      10.406           10.414           \n",
       "289 ...  8.989            0.036       8.560            8.570           \n",
       "290 ...  6.334            0.040       5.870            5.876           \n",
       "291 ... 21.120            0.040      20.321           20.339           \n",
       "292 ...  3.973            0.007       3.944            3.946           \n",
       "    SE_Simpson basename             \n",
       "287 0.094      CHP_10YO-M_PBMC_DNA  \n",
       "288 0.066      CHP_11YO-M_PBMC_DNA  \n",
       "289 0.060      CHP_15YO-F-A_PBMC_DNA\n",
       "290 0.066      CHP_15YO-F-B_PBMC_DNA\n",
       "291 0.068      CHP_15YO-M_PBMC_DNA  \n",
       "292 0.013      CHP_16YO-M_PBMC_DNA  \n",
       "    file                                                                  \n",
       "287 batchNormal_16Apr2020/mixcr/clones/CLONES_TRBCHP_10YO-M_PBMC_DNA.txt  \n",
       "288 batchNormal_16Apr2020/mixcr/clones/CLONES_TRBCHP_11YO-M_PBMC_DNA.txt  \n",
       "289 batchNormal_16Apr2020/mixcr/clones/CLONES_TRBCHP_15YO-F-A_PBMC_DNA.txt\n",
       "290 batchNormal_16Apr2020/mixcr/clones/CLONES_TRBCHP_15YO-F-B_PBMC_DNA.txt\n",
       "291 batchNormal_16Apr2020/mixcr/clones/CLONES_TRBCHP_15YO-M_PBMC_DNA.txt  \n",
       "292 batchNormal_16Apr2020/mixcr/clones/CLONES_TRBCHP_16YO-M_PBMC_DNA.txt  \n",
       "    sampletype Group log10shann\n",
       "287 PBMC       CHP   1.0249370 \n",
       "288 PBMC       CHP   1.0647200 \n",
       "289 PBMC       CHP   0.9533731 \n",
       "290 PBMC       CHP   0.8014037 \n",
       "291 PBMC       CHP   1.3244882 \n",
       "292 PBMC       CHP   0.5990092 "
      ]
     },
     "metadata": {},
     "output_type": "display_data"
    }
   ],
   "source": [
    "head(meta_div)"
   ]
  },
  {
   "cell_type": "code",
   "execution_count": 10,
   "metadata": {
    "vscode": {
     "languageId": "r"
    }
   },
   "outputs": [
    {
     "data": {
      "text/plain": [
       "\n",
       "cfDNA  PBMC Tumor \n",
       "  274   558    18 "
      ]
     },
     "metadata": {},
     "output_type": "display_data"
    }
   ],
   "source": [
    "table(meta_div$sampletype)"
   ]
  },
  {
   "cell_type": "code",
   "execution_count": 11,
   "metadata": {
    "vscode": {
     "languageId": "r"
    }
   },
   "outputs": [],
   "source": [
    "meta_div <- meta_div[ !meta_div$Disease_type %in% c(\"Normal\", \"LFS\"), ]"
   ]
  },
  {
   "cell_type": "code",
   "execution_count": 12,
   "metadata": {
    "vscode": {
     "languageId": "r"
    }
   },
   "outputs": [],
   "source": [
    "meta_div <- meta_div[ meta_div$sampletype != \"Tumor\",]"
   ]
  },
  {
   "cell_type": "code",
   "execution_count": 13,
   "metadata": {
    "vscode": {
     "languageId": "r"
    }
   },
   "outputs": [],
   "source": [
    "meta_div <- meta_div[!is.na(meta_div$basename),]"
   ]
  },
  {
   "cell_type": "code",
   "execution_count": 14,
   "metadata": {
    "vscode": {
     "languageId": "r"
    }
   },
   "outputs": [
    {
     "data": {
      "text/html": [
       "<table class=\"dataframe\">\n",
       "<caption>A data.frame: 6 x 66</caption>\n",
       "<thead>\n",
       "\t<tr><th></th><th scope=col>sample_id</th><th scope=col>Patient</th><th scope=col>cycle</th><th scope=col>FOLD</th><th scope=col>ATC</th><th scope=col>Age</th><th scope=col>Disease_type</th><th scope=col>TE_fold</th><th scope=col>CD3</th><th scope=col>EM</th><th scope=col>...</th><th scope=col>estimated_Shannon</th><th scope=col>SE_Shannon</th><th scope=col>observed_Simpson</th><th scope=col>estimated_Simpson</th><th scope=col>SE_Simpson</th><th scope=col>basename</th><th scope=col>file</th><th scope=col>sampletype</th><th scope=col>Group</th><th scope=col>log10shann</th></tr>\n",
       "\t<tr><th></th><th scope=col>&lt;chr&gt;</th><th scope=col>&lt;chr&gt;</th><th scope=col>&lt;chr&gt;</th><th scope=col>&lt;dbl&gt;</th><th scope=col>&lt;dbl&gt;</th><th scope=col>&lt;dbl&gt;</th><th scope=col>&lt;chr&gt;</th><th scope=col>&lt;dbl&gt;</th><th scope=col>&lt;int&gt;</th><th scope=col>&lt;int&gt;</th><th scope=col>...</th><th scope=col>&lt;dbl&gt;</th><th scope=col>&lt;dbl&gt;</th><th scope=col>&lt;dbl&gt;</th><th scope=col>&lt;dbl&gt;</th><th scope=col>&lt;dbl&gt;</th><th scope=col>&lt;chr&gt;</th><th scope=col>&lt;chr&gt;</th><th scope=col>&lt;chr&gt;</th><th scope=col>&lt;chr&gt;</th><th scope=col>&lt;dbl&gt;</th></tr>\n",
       "</thead>\n",
       "<tbody>\n",
       "\t<tr><th scope=row>302</th><td>CHP_319_05</td><td>CHP_319</td><td>X05</td><td>1.2</td><td>  0.00</td><td> 1</td><td>HR ALL</td><td>1.2</td><td>0</td><td>NA</td><td>...</td><td> 13.439</td><td>1.217</td><td> 10.248</td><td> 11.626</td><td>1.269</td><td>CHP_319-05-PBMC-DNA</td><td>batch2_Aug62019/mixcr/clones/CLONES_TRBCHP_319-05-PBMC-DNA.txt              </td><td>PBMC</td><td>CHP</td><td>1.074743</td></tr>\n",
       "\t<tr><th scope=row>320</th><td>CHP_323_03</td><td>CHP_323</td><td>X03</td><td>0.0</td><td>786.24</td><td> 1</td><td>HR ALL</td><td>0.0</td><td>0</td><td>NA</td><td>...</td><td> 37.986</td><td>0.367</td><td> 33.204</td><td> 33.544</td><td>0.638</td><td>CHP_323-03-PBMC-DNA</td><td>batch4_19Aug2019/mixcr/clones/CLONES_TRBCHP_323-03-PBMC-DNA.txt             </td><td>PBMC</td><td>CHP</td><td>1.576595</td></tr>\n",
       "\t<tr><th scope=row>322</th><td>CHP_323_05</td><td>CHP_323</td><td>X05</td><td>0.0</td><td>979.50</td><td> 1</td><td>HR ALL</td><td>0.0</td><td>0</td><td>NA</td><td>...</td><td> 85.174</td><td>2.255</td><td> 32.669</td><td> 33.190</td><td>2.327</td><td>CHP_323-05-PBMC-DNA</td><td>batch7_25Oct2019/mixcr/clones/CLONES_TRBCHP_323-05-PBMC-DNA.txt             </td><td>PBMC</td><td>CHP</td><td>1.912504</td></tr>\n",
       "\t<tr><th scope=row>327</th><td>CHP_324_05</td><td>CHP_324</td><td>X05</td><td>0.0</td><td>  0.00</td><td>12</td><td>T-ALL </td><td>0.0</td><td>0</td><td>NA</td><td>...</td><td>130.246</td><td>0.574</td><td> 79.994</td><td> 80.126</td><td>0.912</td><td>CHP_324-05_PBMC-DNA</td><td>remaining_batch_2_22April2021/mixcr/clones/CLONES_TRBCHP_324-05_PBMC-DNA.txt</td><td>PBMC</td><td>CHP</td><td>2.113673</td></tr>\n",
       "\t<tr><th scope=row>346</th><td>CHP_328_04</td><td>CHP_328</td><td>X04</td><td>0.0</td><td>130.82</td><td> 7</td><td>SR ALL</td><td>0.0</td><td>0</td><td>NA</td><td>...</td><td>224.003</td><td>0.477</td><td>133.121</td><td>133.198</td><td>0.669</td><td>CHP-328-04-PBMC-DNA</td><td>remaining_batch_4_28June2021/mixcr/clones/CLONES_TRBCHP-328-04-PBMC-DNA.txt </td><td>PBMC</td><td>CHP</td><td>2.349757</td></tr>\n",
       "\t<tr><th scope=row>347</th><td>CHP_328_05</td><td>CHP_328</td><td>X05</td><td>0.0</td><td> 91.16</td><td> 7</td><td>SR ALL</td><td>0.0</td><td>0</td><td>NA</td><td>...</td><td> 87.712</td><td>0.563</td><td> 62.759</td><td> 62.967</td><td>0.625</td><td>CHP-328-05-PBMC-DNA</td><td>remaining_batch_4_28June2021/mixcr/clones/CLONES_TRBCHP-328-05-PBMC-DNA.txt </td><td>PBMC</td><td>CHP</td><td>1.941119</td></tr>\n",
       "</tbody>\n",
       "</table>\n"
      ],
      "text/latex": [
       "A data.frame: 6 x 66\n",
       "\\begin{tabular}{r|lllllllllllllllllllll}\n",
       "  & sample\\_id & Patient & cycle & FOLD & ATC & Age & Disease\\_type & TE\\_fold & CD3 & EM & ... & estimated\\_Shannon & SE\\_Shannon & observed\\_Simpson & estimated\\_Simpson & SE\\_Simpson & basename & file & sampletype & Group & log10shann\\\\\n",
       "  & <chr> & <chr> & <chr> & <dbl> & <dbl> & <dbl> & <chr> & <dbl> & <int> & <int> & ... & <dbl> & <dbl> & <dbl> & <dbl> & <dbl> & <chr> & <chr> & <chr> & <chr> & <dbl>\\\\\n",
       "\\hline\n",
       "\t302 & CHP\\_319\\_05 & CHP\\_319 & X05 & 1.2 &   0.00 &  1 & HR ALL & 1.2 & 0 & NA & ... &  13.439 & 1.217 &  10.248 &  11.626 & 1.269 & CHP\\_319-05-PBMC-DNA & batch2\\_Aug62019/mixcr/clones/CLONES\\_TRBCHP\\_319-05-PBMC-DNA.txt               & PBMC & CHP & 1.074743\\\\\n",
       "\t320 & CHP\\_323\\_03 & CHP\\_323 & X03 & 0.0 & 786.24 &  1 & HR ALL & 0.0 & 0 & NA & ... &  37.986 & 0.367 &  33.204 &  33.544 & 0.638 & CHP\\_323-03-PBMC-DNA & batch4\\_19Aug2019/mixcr/clones/CLONES\\_TRBCHP\\_323-03-PBMC-DNA.txt              & PBMC & CHP & 1.576595\\\\\n",
       "\t322 & CHP\\_323\\_05 & CHP\\_323 & X05 & 0.0 & 979.50 &  1 & HR ALL & 0.0 & 0 & NA & ... &  85.174 & 2.255 &  32.669 &  33.190 & 2.327 & CHP\\_323-05-PBMC-DNA & batch7\\_25Oct2019/mixcr/clones/CLONES\\_TRBCHP\\_323-05-PBMC-DNA.txt              & PBMC & CHP & 1.912504\\\\\n",
       "\t327 & CHP\\_324\\_05 & CHP\\_324 & X05 & 0.0 &   0.00 & 12 & T-ALL  & 0.0 & 0 & NA & ... & 130.246 & 0.574 &  79.994 &  80.126 & 0.912 & CHP\\_324-05\\_PBMC-DNA & remaining\\_batch\\_2\\_22April2021/mixcr/clones/CLONES\\_TRBCHP\\_324-05\\_PBMC-DNA.txt & PBMC & CHP & 2.113673\\\\\n",
       "\t346 & CHP\\_328\\_04 & CHP\\_328 & X04 & 0.0 & 130.82 &  7 & SR ALL & 0.0 & 0 & NA & ... & 224.003 & 0.477 & 133.121 & 133.198 & 0.669 & CHP-328-04-PBMC-DNA & remaining\\_batch\\_4\\_28June2021/mixcr/clones/CLONES\\_TRBCHP-328-04-PBMC-DNA.txt  & PBMC & CHP & 2.349757\\\\\n",
       "\t347 & CHP\\_328\\_05 & CHP\\_328 & X05 & 0.0 &  91.16 &  7 & SR ALL & 0.0 & 0 & NA & ... &  87.712 & 0.563 &  62.759 &  62.967 & 0.625 & CHP-328-05-PBMC-DNA & remaining\\_batch\\_4\\_28June2021/mixcr/clones/CLONES\\_TRBCHP-328-05-PBMC-DNA.txt  & PBMC & CHP & 1.941119\\\\\n",
       "\\end{tabular}\n"
      ],
      "text/markdown": [
       "\n",
       "A data.frame: 6 x 66\n",
       "\n",
       "| <!--/--> | sample_id &lt;chr&gt; | Patient &lt;chr&gt; | cycle &lt;chr&gt; | FOLD &lt;dbl&gt; | ATC &lt;dbl&gt; | Age &lt;dbl&gt; | Disease_type &lt;chr&gt; | TE_fold &lt;dbl&gt; | CD3 &lt;int&gt; | EM &lt;int&gt; | ... ... | estimated_Shannon &lt;dbl&gt; | SE_Shannon &lt;dbl&gt; | observed_Simpson &lt;dbl&gt; | estimated_Simpson &lt;dbl&gt; | SE_Simpson &lt;dbl&gt; | basename &lt;chr&gt; | file &lt;chr&gt; | sampletype &lt;chr&gt; | Group &lt;chr&gt; | log10shann &lt;dbl&gt; |\n",
       "|---|---|---|---|---|---|---|---|---|---|---|---|---|---|---|---|---|---|---|---|---|---|\n",
       "| 302 | CHP_319_05 | CHP_319 | X05 | 1.2 |   0.00 |  1 | HR ALL | 1.2 | 0 | NA | ... |  13.439 | 1.217 |  10.248 |  11.626 | 1.269 | CHP_319-05-PBMC-DNA | batch2_Aug62019/mixcr/clones/CLONES_TRBCHP_319-05-PBMC-DNA.txt               | PBMC | CHP | 1.074743 |\n",
       "| 320 | CHP_323_03 | CHP_323 | X03 | 0.0 | 786.24 |  1 | HR ALL | 0.0 | 0 | NA | ... |  37.986 | 0.367 |  33.204 |  33.544 | 0.638 | CHP_323-03-PBMC-DNA | batch4_19Aug2019/mixcr/clones/CLONES_TRBCHP_323-03-PBMC-DNA.txt              | PBMC | CHP | 1.576595 |\n",
       "| 322 | CHP_323_05 | CHP_323 | X05 | 0.0 | 979.50 |  1 | HR ALL | 0.0 | 0 | NA | ... |  85.174 | 2.255 |  32.669 |  33.190 | 2.327 | CHP_323-05-PBMC-DNA | batch7_25Oct2019/mixcr/clones/CLONES_TRBCHP_323-05-PBMC-DNA.txt              | PBMC | CHP | 1.912504 |\n",
       "| 327 | CHP_324_05 | CHP_324 | X05 | 0.0 |   0.00 | 12 | T-ALL  | 0.0 | 0 | NA | ... | 130.246 | 0.574 |  79.994 |  80.126 | 0.912 | CHP_324-05_PBMC-DNA | remaining_batch_2_22April2021/mixcr/clones/CLONES_TRBCHP_324-05_PBMC-DNA.txt | PBMC | CHP | 2.113673 |\n",
       "| 346 | CHP_328_04 | CHP_328 | X04 | 0.0 | 130.82 |  7 | SR ALL | 0.0 | 0 | NA | ... | 224.003 | 0.477 | 133.121 | 133.198 | 0.669 | CHP-328-04-PBMC-DNA | remaining_batch_4_28June2021/mixcr/clones/CLONES_TRBCHP-328-04-PBMC-DNA.txt  | PBMC | CHP | 2.349757 |\n",
       "| 347 | CHP_328_05 | CHP_328 | X05 | 0.0 |  91.16 |  7 | SR ALL | 0.0 | 0 | NA | ... |  87.712 | 0.563 |  62.759 |  62.967 | 0.625 | CHP-328-05-PBMC-DNA | remaining_batch_4_28June2021/mixcr/clones/CLONES_TRBCHP-328-05-PBMC-DNA.txt  | PBMC | CHP | 1.941119 |\n",
       "\n"
      ],
      "text/plain": [
       "    sample_id  Patient cycle FOLD ATC    Age Disease_type TE_fold CD3 EM ...\n",
       "302 CHP_319_05 CHP_319 X05   1.2    0.00  1  HR ALL       1.2     0   NA ...\n",
       "320 CHP_323_03 CHP_323 X03   0.0  786.24  1  HR ALL       0.0     0   NA ...\n",
       "322 CHP_323_05 CHP_323 X05   0.0  979.50  1  HR ALL       0.0     0   NA ...\n",
       "327 CHP_324_05 CHP_324 X05   0.0    0.00 12  T-ALL        0.0     0   NA ...\n",
       "346 CHP_328_04 CHP_328 X04   0.0  130.82  7  SR ALL       0.0     0   NA ...\n",
       "347 CHP_328_05 CHP_328 X05   0.0   91.16  7  SR ALL       0.0     0   NA ...\n",
       "    estimated_Shannon SE_Shannon observed_Simpson estimated_Simpson SE_Simpson\n",
       "302  13.439           1.217       10.248           11.626           1.269     \n",
       "320  37.986           0.367       33.204           33.544           0.638     \n",
       "322  85.174           2.255       32.669           33.190           2.327     \n",
       "327 130.246           0.574       79.994           80.126           0.912     \n",
       "346 224.003           0.477      133.121          133.198           0.669     \n",
       "347  87.712           0.563       62.759           62.967           0.625     \n",
       "    basename           \n",
       "302 CHP_319-05-PBMC-DNA\n",
       "320 CHP_323-03-PBMC-DNA\n",
       "322 CHP_323-05-PBMC-DNA\n",
       "327 CHP_324-05_PBMC-DNA\n",
       "346 CHP-328-04-PBMC-DNA\n",
       "347 CHP-328-05-PBMC-DNA\n",
       "    file                                                                        \n",
       "302 batch2_Aug62019/mixcr/clones/CLONES_TRBCHP_319-05-PBMC-DNA.txt              \n",
       "320 batch4_19Aug2019/mixcr/clones/CLONES_TRBCHP_323-03-PBMC-DNA.txt             \n",
       "322 batch7_25Oct2019/mixcr/clones/CLONES_TRBCHP_323-05-PBMC-DNA.txt             \n",
       "327 remaining_batch_2_22April2021/mixcr/clones/CLONES_TRBCHP_324-05_PBMC-DNA.txt\n",
       "346 remaining_batch_4_28June2021/mixcr/clones/CLONES_TRBCHP-328-04-PBMC-DNA.txt \n",
       "347 remaining_batch_4_28June2021/mixcr/clones/CLONES_TRBCHP-328-05-PBMC-DNA.txt \n",
       "    sampletype Group log10shann\n",
       "302 PBMC       CHP   1.074743  \n",
       "320 PBMC       CHP   1.576595  \n",
       "322 PBMC       CHP   1.912504  \n",
       "327 PBMC       CHP   2.113673  \n",
       "346 PBMC       CHP   2.349757  \n",
       "347 PBMC       CHP   1.941119  "
      ]
     },
     "metadata": {},
     "output_type": "display_data"
    }
   ],
   "source": [
    "head(meta_div)"
   ]
  },
  {
   "cell_type": "code",
   "execution_count": 15,
   "metadata": {
    "vscode": {
     "languageId": "r"
    }
   },
   "outputs": [
    {
     "data": {
      "text/html": [
       "<style>\n",
       ".list-inline {list-style: none; margin:0; padding: 0}\n",
       ".list-inline>li {display: inline-block}\n",
       ".list-inline>li:not(:last-child)::after {content: \"\\00b7\"; padding: 0 .5ex}\n",
       "</style>\n",
       "<ol class=list-inline><li>'sample_id'</li><li>'Patient'</li><li>'cycle'</li><li>'FOLD'</li><li>'ATC'</li><li>'Age'</li><li>'Disease_type'</li><li>'TE_fold'</li><li>'CD3'</li><li>'EM'</li><li>'CM'</li><li>'Naïve'</li><li>'SCM'</li><li>'TE'</li><li>'EM%'</li><li>'CM%'</li><li>'Naïve%'</li><li>'SCM%'</li><li>'TE%'</li><li>'Naïve/TE'</li><li>'N+CM+SCM/TE+EM'</li><li>'PD-1'</li><li>'PDL1'</li><li>'LAG3'</li><li>'TIM3'</li><li>'CTLA4'</li><li>'PD1%'</li><li>'PDL1%'</li><li>'LAG3%'</li><li>'TIM3%'</li><li>'CTLA4%'</li><li>'Any NCR'</li><li>'PD1 + LAG3 + TIM3'</li><li>'cancergroup'</li><li>'agegroup'</li><li>'foldgroup'</li><li>'Remission'</li><li>'Relapse'</li><li>'Transplant'</li><li>'CART'</li><li>'vital_status'</li><li>'LOF'</li><li>'TRB'</li><li>'Reads'</li><li>'CPKR'</li><li>'Average_reads'</li><li>'VMR'</li><li>'Max_reads'</li><li>'Singletons'</li><li>'Doubletons'</li><li>'qD'</li><li>'Sample_Coverage'</li><li>'observed_Richness'</li><li>'estimated_Richness'</li><li>'SE_Richeness'</li><li>'observed_Shannon'</li><li>'estimated_Shannon'</li><li>'SE_Shannon'</li><li>'observed_Simpson'</li><li>'estimated_Simpson'</li><li>'SE_Simpson'</li><li>'basename'</li><li>'file'</li><li>'sampletype'</li><li>'Group'</li><li>'log10shann'</li></ol>\n"
      ],
      "text/latex": [
       "\\begin{enumerate*}\n",
       "\\item 'sample\\_id'\n",
       "\\item 'Patient'\n",
       "\\item 'cycle'\n",
       "\\item 'FOLD'\n",
       "\\item 'ATC'\n",
       "\\item 'Age'\n",
       "\\item 'Disease\\_type'\n",
       "\\item 'TE\\_fold'\n",
       "\\item 'CD3'\n",
       "\\item 'EM'\n",
       "\\item 'CM'\n",
       "\\item 'Naïve'\n",
       "\\item 'SCM'\n",
       "\\item 'TE'\n",
       "\\item 'EM\\%'\n",
       "\\item 'CM\\%'\n",
       "\\item 'Naïve\\%'\n",
       "\\item 'SCM\\%'\n",
       "\\item 'TE\\%'\n",
       "\\item 'Naïve/TE'\n",
       "\\item 'N+CM+SCM/TE+EM'\n",
       "\\item 'PD-1'\n",
       "\\item 'PDL1'\n",
       "\\item 'LAG3'\n",
       "\\item 'TIM3'\n",
       "\\item 'CTLA4'\n",
       "\\item 'PD1\\%'\n",
       "\\item 'PDL1\\%'\n",
       "\\item 'LAG3\\%'\n",
       "\\item 'TIM3\\%'\n",
       "\\item 'CTLA4\\%'\n",
       "\\item 'Any NCR'\n",
       "\\item 'PD1 + LAG3 + TIM3'\n",
       "\\item 'cancergroup'\n",
       "\\item 'agegroup'\n",
       "\\item 'foldgroup'\n",
       "\\item 'Remission'\n",
       "\\item 'Relapse'\n",
       "\\item 'Transplant'\n",
       "\\item 'CART'\n",
       "\\item 'vital\\_status'\n",
       "\\item 'LOF'\n",
       "\\item 'TRB'\n",
       "\\item 'Reads'\n",
       "\\item 'CPKR'\n",
       "\\item 'Average\\_reads'\n",
       "\\item 'VMR'\n",
       "\\item 'Max\\_reads'\n",
       "\\item 'Singletons'\n",
       "\\item 'Doubletons'\n",
       "\\item 'qD'\n",
       "\\item 'Sample\\_Coverage'\n",
       "\\item 'observed\\_Richness'\n",
       "\\item 'estimated\\_Richness'\n",
       "\\item 'SE\\_Richeness'\n",
       "\\item 'observed\\_Shannon'\n",
       "\\item 'estimated\\_Shannon'\n",
       "\\item 'SE\\_Shannon'\n",
       "\\item 'observed\\_Simpson'\n",
       "\\item 'estimated\\_Simpson'\n",
       "\\item 'SE\\_Simpson'\n",
       "\\item 'basename'\n",
       "\\item 'file'\n",
       "\\item 'sampletype'\n",
       "\\item 'Group'\n",
       "\\item 'log10shann'\n",
       "\\end{enumerate*}\n"
      ],
      "text/markdown": [
       "1. 'sample_id'\n",
       "2. 'Patient'\n",
       "3. 'cycle'\n",
       "4. 'FOLD'\n",
       "5. 'ATC'\n",
       "6. 'Age'\n",
       "7. 'Disease_type'\n",
       "8. 'TE_fold'\n",
       "9. 'CD3'\n",
       "10. 'EM'\n",
       "11. 'CM'\n",
       "12. 'Naïve'\n",
       "13. 'SCM'\n",
       "14. 'TE'\n",
       "15. 'EM%'\n",
       "16. 'CM%'\n",
       "17. 'Naïve%'\n",
       "18. 'SCM%'\n",
       "19. 'TE%'\n",
       "20. 'Naïve/TE'\n",
       "21. 'N+CM+SCM/TE+EM'\n",
       "22. 'PD-1'\n",
       "23. 'PDL1'\n",
       "24. 'LAG3'\n",
       "25. 'TIM3'\n",
       "26. 'CTLA4'\n",
       "27. 'PD1%'\n",
       "28. 'PDL1%'\n",
       "29. 'LAG3%'\n",
       "30. 'TIM3%'\n",
       "31. 'CTLA4%'\n",
       "32. 'Any NCR'\n",
       "33. 'PD1 + LAG3 + TIM3'\n",
       "34. 'cancergroup'\n",
       "35. 'agegroup'\n",
       "36. 'foldgroup'\n",
       "37. 'Remission'\n",
       "38. 'Relapse'\n",
       "39. 'Transplant'\n",
       "40. 'CART'\n",
       "41. 'vital_status'\n",
       "42. 'LOF'\n",
       "43. 'TRB'\n",
       "44. 'Reads'\n",
       "45. 'CPKR'\n",
       "46. 'Average_reads'\n",
       "47. 'VMR'\n",
       "48. 'Max_reads'\n",
       "49. 'Singletons'\n",
       "50. 'Doubletons'\n",
       "51. 'qD'\n",
       "52. 'Sample_Coverage'\n",
       "53. 'observed_Richness'\n",
       "54. 'estimated_Richness'\n",
       "55. 'SE_Richeness'\n",
       "56. 'observed_Shannon'\n",
       "57. 'estimated_Shannon'\n",
       "58. 'SE_Shannon'\n",
       "59. 'observed_Simpson'\n",
       "60. 'estimated_Simpson'\n",
       "61. 'SE_Simpson'\n",
       "62. 'basename'\n",
       "63. 'file'\n",
       "64. 'sampletype'\n",
       "65. 'Group'\n",
       "66. 'log10shann'\n",
       "\n",
       "\n"
      ],
      "text/plain": [
       " [1] \"sample_id\"          \"Patient\"            \"cycle\"             \n",
       " [4] \"FOLD\"               \"ATC\"                \"Age\"               \n",
       " [7] \"Disease_type\"       \"TE_fold\"            \"CD3\"               \n",
       "[10] \"EM\"                 \"CM\"                 \"Naïve\"             \n",
       "[13] \"SCM\"                \"TE\"                 \"EM%\"               \n",
       "[16] \"CM%\"                \"Naïve%\"             \"SCM%\"              \n",
       "[19] \"TE%\"                \"Naïve/TE\"           \"N+CM+SCM/TE+EM\"    \n",
       "[22] \"PD-1\"               \"PDL1\"               \"LAG3\"              \n",
       "[25] \"TIM3\"               \"CTLA4\"              \"PD1%\"              \n",
       "[28] \"PDL1%\"              \"LAG3%\"              \"TIM3%\"             \n",
       "[31] \"CTLA4%\"             \"Any NCR\"            \"PD1 + LAG3 + TIM3\" \n",
       "[34] \"cancergroup\"        \"agegroup\"           \"foldgroup\"         \n",
       "[37] \"Remission\"          \"Relapse\"            \"Transplant\"        \n",
       "[40] \"CART\"               \"vital_status\"       \"LOF\"               \n",
       "[43] \"TRB\"                \"Reads\"              \"CPKR\"              \n",
       "[46] \"Average_reads\"      \"VMR\"                \"Max_reads\"         \n",
       "[49] \"Singletons\"         \"Doubletons\"         \"qD\"                \n",
       "[52] \"Sample_Coverage\"    \"observed_Richness\"  \"estimated_Richness\"\n",
       "[55] \"SE_Richeness\"       \"observed_Shannon\"   \"estimated_Shannon\" \n",
       "[58] \"SE_Shannon\"         \"observed_Simpson\"   \"estimated_Simpson\" \n",
       "[61] \"SE_Simpson\"         \"basename\"           \"file\"              \n",
       "[64] \"sampletype\"         \"Group\"              \"log10shann\"        "
      ]
     },
     "metadata": {},
     "output_type": "display_data"
    }
   ],
   "source": [
    "colnames(meta_div)"
   ]
  },
  {
   "cell_type": "code",
   "execution_count": 17,
   "metadata": {
    "vscode": {
     "languageId": "r"
    }
   },
   "outputs": [],
   "source": [
    "phenodat <- meta_div[!is.na(meta_div$TE_fold), c(\n",
    "    \"basename\", \"sample_id\", \"Patient\", \"TE_fold\", \"ATC\", \"Age\", \"EM%\", \"CM%\", \"Naïve%\", \"SCM%\", \"TE%\", \"PD1%\", \"LAG3%\", \"TIM3%\", \"Relapse\", # all numeric\n",
    "    \"cycle\", \"Disease_type\", \"cancergroup\", \"sampletype\", \"foldgroup\"\n",
    ")] # all character vars\n"
   ]
  },
  {
   "cell_type": "code",
   "execution_count": 18,
   "metadata": {
    "vscode": {
     "languageId": "r"
    }
   },
   "outputs": [],
   "source": [
    "rownames(phenodat) <- phenodat$basename\n",
    "# phenodat$basename <- NULL"
   ]
  },
  {
   "cell_type": "code",
   "execution_count": 19,
   "metadata": {
    "vscode": {
     "languageId": "r"
    }
   },
   "outputs": [],
   "source": [
    "dat = data.frame(matrix(nrow=nrow(phenodat), ncol=0))"
   ]
  },
  {
   "cell_type": "code",
   "execution_count": 20,
   "metadata": {
    "vscode": {
     "languageId": "r"
    }
   },
   "outputs": [],
   "source": [
    "rownames(dat) <- rownames(phenodat)"
   ]
  },
  {
   "cell_type": "code",
   "execution_count": 21,
   "metadata": {
    "vscode": {
     "languageId": "r"
    }
   },
   "outputs": [],
   "source": [
    "# numeric features as they are\n",
    "dat$TE_fold <- phenodat$TE_fold\n",
    "dat$Relapse <- phenodat$Relapse\n",
    "dat$ATC <- phenodat$ATC\n",
    "dat$Age <- phenodat$Age\n",
    "dat$EM <- phenodat$`EM%`\n",
    "dat$CM <- phenodat$`CM%`\n",
    "dat$Naive <- phenodat$`Naïve%`\n",
    "dat$SCM <- phenodat$`SCM%`\n",
    "dat$TE <- phenodat$`TE%`\n",
    "dat$PD1 <- phenodat$`PD1%`\n",
    "dat$LAG3 <- phenodat$`LAG3%`\n",
    "dat$TIM3 <- phenodat$`TIM3%`\n"
   ]
  },
  {
   "cell_type": "code",
   "execution_count": 22,
   "metadata": {
    "vscode": {
     "languageId": "r"
    }
   },
   "outputs": [
    {
     "data": {
      "text/plain": [
       "\n",
       "  0   1 \n",
       "386  82 "
      ]
     },
     "metadata": {},
     "output_type": "display_data"
    }
   ],
   "source": [
    "table(dat$Relapse)"
   ]
  },
  {
   "cell_type": "code",
   "execution_count": 23,
   "metadata": {
    "vscode": {
     "languageId": "r"
    }
   },
   "outputs": [],
   "source": [
    "myvariables <- c(\"cycle\", \"Disease_type\", \"cancergroup\", \"sampletype\", \"foldgroup\")"
   ]
  },
  {
   "cell_type": "code",
   "execution_count": 24,
   "metadata": {
    "vscode": {
     "languageId": "r"
    }
   },
   "outputs": [],
   "source": [
    "# OHE\n",
    "for(i in myvariables){\n",
    "ohe_vars <- as.data.frame(model.matrix(~factor(phenodat[[i]]) - 1))\n",
    "colnames(ohe_vars) <- gsub(\".*)\", \"\", colnames(ohe_vars))\n",
    "colnames(ohe_vars) <- paste0(i, \"_is_\", colnames(ohe_vars))\n",
    "dat <- cbind(dat, ohe_vars)\n",
    "}"
   ]
  },
  {
   "cell_type": "code",
   "execution_count": 25,
   "metadata": {
    "vscode": {
     "languageId": "r"
    }
   },
   "outputs": [
    {
     "data": {
      "text/html": [
       "<table class=\"dataframe\">\n",
       "<caption>A data.frame: 6 x 46</caption>\n",
       "<thead>\n",
       "\t<tr><th></th><th scope=col>TE_fold</th><th scope=col>Relapse</th><th scope=col>ATC</th><th scope=col>Age</th><th scope=col>EM</th><th scope=col>CM</th><th scope=col>Naive</th><th scope=col>SCM</th><th scope=col>TE</th><th scope=col>PD1</th><th scope=col>...</th><th scope=col>Disease_type_is_WILMS</th><th scope=col>cancergroup_is_Leukemia</th><th scope=col>cancergroup_is_Lymphoma</th><th scope=col>cancergroup_is_Solid tumors</th><th scope=col>cancergroup_is_T-cell malignancies</th><th scope=col>sampletype_is_cfDNA</th><th scope=col>sampletype_is_PBMC</th><th scope=col>foldgroup_is_High</th><th scope=col>foldgroup_is_Indeterminate</th><th scope=col>foldgroup_is_Low</th></tr>\n",
       "\t<tr><th></th><th scope=col>&lt;dbl&gt;</th><th scope=col>&lt;int&gt;</th><th scope=col>&lt;dbl&gt;</th><th scope=col>&lt;dbl&gt;</th><th scope=col>&lt;dbl&gt;</th><th scope=col>&lt;dbl&gt;</th><th scope=col>&lt;dbl&gt;</th><th scope=col>&lt;dbl&gt;</th><th scope=col>&lt;dbl&gt;</th><th scope=col>&lt;dbl&gt;</th><th scope=col>...</th><th scope=col>&lt;dbl&gt;</th><th scope=col>&lt;dbl&gt;</th><th scope=col>&lt;dbl&gt;</th><th scope=col>&lt;dbl&gt;</th><th scope=col>&lt;dbl&gt;</th><th scope=col>&lt;dbl&gt;</th><th scope=col>&lt;dbl&gt;</th><th scope=col>&lt;dbl&gt;</th><th scope=col>&lt;dbl&gt;</th><th scope=col>&lt;dbl&gt;</th></tr>\n",
       "</thead>\n",
       "<tbody>\n",
       "\t<tr><th scope=row>CHP_319-05-PBMC-DNA</th><td>1.2</td><td>1</td><td>  0.00</td><td> 1</td><td>NA</td><td>NA</td><td>NA</td><td>NA</td><td>NA</td><td>NA</td><td>...</td><td>0</td><td>1</td><td>0</td><td>0</td><td>0</td><td>0</td><td>1</td><td>0</td><td>0</td><td>1</td></tr>\n",
       "\t<tr><th scope=row>CHP_323-03-PBMC-DNA</th><td>0.0</td><td>0</td><td>786.24</td><td> 1</td><td>NA</td><td>NA</td><td>NA</td><td>NA</td><td>NA</td><td>NA</td><td>...</td><td>0</td><td>1</td><td>0</td><td>0</td><td>0</td><td>0</td><td>1</td><td>0</td><td>0</td><td>1</td></tr>\n",
       "\t<tr><th scope=row>CHP_323-05-PBMC-DNA</th><td>0.0</td><td>0</td><td>979.50</td><td> 1</td><td>NA</td><td>NA</td><td>NA</td><td>NA</td><td>NA</td><td>NA</td><td>...</td><td>0</td><td>1</td><td>0</td><td>0</td><td>0</td><td>0</td><td>1</td><td>0</td><td>0</td><td>1</td></tr>\n",
       "\t<tr><th scope=row>CHP_324-05_PBMC-DNA</th><td>0.0</td><td>0</td><td>  0.00</td><td>12</td><td>NA</td><td>NA</td><td>NA</td><td>NA</td><td>NA</td><td>NA</td><td>...</td><td>0</td><td>0</td><td>0</td><td>0</td><td>1</td><td>0</td><td>1</td><td>0</td><td>0</td><td>1</td></tr>\n",
       "\t<tr><th scope=row>CHP-328-04-PBMC-DNA</th><td>0.0</td><td>0</td><td>130.82</td><td> 7</td><td>NA</td><td>NA</td><td>NA</td><td>NA</td><td>NA</td><td>NA</td><td>...</td><td>0</td><td>1</td><td>0</td><td>0</td><td>0</td><td>0</td><td>1</td><td>0</td><td>0</td><td>1</td></tr>\n",
       "\t<tr><th scope=row>CHP-328-05-PBMC-DNA</th><td>0.0</td><td>0</td><td> 91.16</td><td> 7</td><td>NA</td><td>NA</td><td>NA</td><td>NA</td><td>NA</td><td>NA</td><td>...</td><td>0</td><td>1</td><td>0</td><td>0</td><td>0</td><td>0</td><td>1</td><td>0</td><td>0</td><td>1</td></tr>\n",
       "</tbody>\n",
       "</table>\n"
      ],
      "text/latex": [
       "A data.frame: 6 x 46\n",
       "\\begin{tabular}{r|lllllllllllllllllllll}\n",
       "  & TE\\_fold & Relapse & ATC & Age & EM & CM & Naive & SCM & TE & PD1 & ... & Disease\\_type\\_is\\_WILMS & cancergroup\\_is\\_Leukemia & cancergroup\\_is\\_Lymphoma & cancergroup\\_is\\_Solid tumors & cancergroup\\_is\\_T-cell malignancies & sampletype\\_is\\_cfDNA & sampletype\\_is\\_PBMC & foldgroup\\_is\\_High & foldgroup\\_is\\_Indeterminate & foldgroup\\_is\\_Low\\\\\n",
       "  & <dbl> & <int> & <dbl> & <dbl> & <dbl> & <dbl> & <dbl> & <dbl> & <dbl> & <dbl> & ... & <dbl> & <dbl> & <dbl> & <dbl> & <dbl> & <dbl> & <dbl> & <dbl> & <dbl> & <dbl>\\\\\n",
       "\\hline\n",
       "\tCHP\\_319-05-PBMC-DNA & 1.2 & 1 &   0.00 &  1 & NA & NA & NA & NA & NA & NA & ... & 0 & 1 & 0 & 0 & 0 & 0 & 1 & 0 & 0 & 1\\\\\n",
       "\tCHP\\_323-03-PBMC-DNA & 0.0 & 0 & 786.24 &  1 & NA & NA & NA & NA & NA & NA & ... & 0 & 1 & 0 & 0 & 0 & 0 & 1 & 0 & 0 & 1\\\\\n",
       "\tCHP\\_323-05-PBMC-DNA & 0.0 & 0 & 979.50 &  1 & NA & NA & NA & NA & NA & NA & ... & 0 & 1 & 0 & 0 & 0 & 0 & 1 & 0 & 0 & 1\\\\\n",
       "\tCHP\\_324-05\\_PBMC-DNA & 0.0 & 0 &   0.00 & 12 & NA & NA & NA & NA & NA & NA & ... & 0 & 0 & 0 & 0 & 1 & 0 & 1 & 0 & 0 & 1\\\\\n",
       "\tCHP-328-04-PBMC-DNA & 0.0 & 0 & 130.82 &  7 & NA & NA & NA & NA & NA & NA & ... & 0 & 1 & 0 & 0 & 0 & 0 & 1 & 0 & 0 & 1\\\\\n",
       "\tCHP-328-05-PBMC-DNA & 0.0 & 0 &  91.16 &  7 & NA & NA & NA & NA & NA & NA & ... & 0 & 1 & 0 & 0 & 0 & 0 & 1 & 0 & 0 & 1\\\\\n",
       "\\end{tabular}\n"
      ],
      "text/markdown": [
       "\n",
       "A data.frame: 6 x 46\n",
       "\n",
       "| <!--/--> | TE_fold &lt;dbl&gt; | Relapse &lt;int&gt; | ATC &lt;dbl&gt; | Age &lt;dbl&gt; | EM &lt;dbl&gt; | CM &lt;dbl&gt; | Naive &lt;dbl&gt; | SCM &lt;dbl&gt; | TE &lt;dbl&gt; | PD1 &lt;dbl&gt; | ... ... | Disease_type_is_WILMS &lt;dbl&gt; | cancergroup_is_Leukemia &lt;dbl&gt; | cancergroup_is_Lymphoma &lt;dbl&gt; | cancergroup_is_Solid tumors &lt;dbl&gt; | cancergroup_is_T-cell malignancies &lt;dbl&gt; | sampletype_is_cfDNA &lt;dbl&gt; | sampletype_is_PBMC &lt;dbl&gt; | foldgroup_is_High &lt;dbl&gt; | foldgroup_is_Indeterminate &lt;dbl&gt; | foldgroup_is_Low &lt;dbl&gt; |\n",
       "|---|---|---|---|---|---|---|---|---|---|---|---|---|---|---|---|---|---|---|---|---|---|\n",
       "| CHP_319-05-PBMC-DNA | 1.2 | 1 |   0.00 |  1 | NA | NA | NA | NA | NA | NA | ... | 0 | 1 | 0 | 0 | 0 | 0 | 1 | 0 | 0 | 1 |\n",
       "| CHP_323-03-PBMC-DNA | 0.0 | 0 | 786.24 |  1 | NA | NA | NA | NA | NA | NA | ... | 0 | 1 | 0 | 0 | 0 | 0 | 1 | 0 | 0 | 1 |\n",
       "| CHP_323-05-PBMC-DNA | 0.0 | 0 | 979.50 |  1 | NA | NA | NA | NA | NA | NA | ... | 0 | 1 | 0 | 0 | 0 | 0 | 1 | 0 | 0 | 1 |\n",
       "| CHP_324-05_PBMC-DNA | 0.0 | 0 |   0.00 | 12 | NA | NA | NA | NA | NA | NA | ... | 0 | 0 | 0 | 0 | 1 | 0 | 1 | 0 | 0 | 1 |\n",
       "| CHP-328-04-PBMC-DNA | 0.0 | 0 | 130.82 |  7 | NA | NA | NA | NA | NA | NA | ... | 0 | 1 | 0 | 0 | 0 | 0 | 1 | 0 | 0 | 1 |\n",
       "| CHP-328-05-PBMC-DNA | 0.0 | 0 |  91.16 |  7 | NA | NA | NA | NA | NA | NA | ... | 0 | 1 | 0 | 0 | 0 | 0 | 1 | 0 | 0 | 1 |\n",
       "\n"
      ],
      "text/plain": [
       "                    TE_fold Relapse ATC    Age EM CM Naive SCM TE PD1 ...\n",
       "CHP_319-05-PBMC-DNA 1.2     1         0.00  1  NA NA NA    NA  NA NA  ...\n",
       "CHP_323-03-PBMC-DNA 0.0     0       786.24  1  NA NA NA    NA  NA NA  ...\n",
       "CHP_323-05-PBMC-DNA 0.0     0       979.50  1  NA NA NA    NA  NA NA  ...\n",
       "CHP_324-05_PBMC-DNA 0.0     0         0.00 12  NA NA NA    NA  NA NA  ...\n",
       "CHP-328-04-PBMC-DNA 0.0     0       130.82  7  NA NA NA    NA  NA NA  ...\n",
       "CHP-328-05-PBMC-DNA 0.0     0        91.16  7  NA NA NA    NA  NA NA  ...\n",
       "                    Disease_type_is_WILMS cancergroup_is_Leukemia\n",
       "CHP_319-05-PBMC-DNA 0                     1                      \n",
       "CHP_323-03-PBMC-DNA 0                     1                      \n",
       "CHP_323-05-PBMC-DNA 0                     1                      \n",
       "CHP_324-05_PBMC-DNA 0                     0                      \n",
       "CHP-328-04-PBMC-DNA 0                     1                      \n",
       "CHP-328-05-PBMC-DNA 0                     1                      \n",
       "                    cancergroup_is_Lymphoma cancergroup_is_Solid tumors\n",
       "CHP_319-05-PBMC-DNA 0                       0                          \n",
       "CHP_323-03-PBMC-DNA 0                       0                          \n",
       "CHP_323-05-PBMC-DNA 0                       0                          \n",
       "CHP_324-05_PBMC-DNA 0                       0                          \n",
       "CHP-328-04-PBMC-DNA 0                       0                          \n",
       "CHP-328-05-PBMC-DNA 0                       0                          \n",
       "                    cancergroup_is_T-cell malignancies sampletype_is_cfDNA\n",
       "CHP_319-05-PBMC-DNA 0                                  0                  \n",
       "CHP_323-03-PBMC-DNA 0                                  0                  \n",
       "CHP_323-05-PBMC-DNA 0                                  0                  \n",
       "CHP_324-05_PBMC-DNA 1                                  0                  \n",
       "CHP-328-04-PBMC-DNA 0                                  0                  \n",
       "CHP-328-05-PBMC-DNA 0                                  0                  \n",
       "                    sampletype_is_PBMC foldgroup_is_High\n",
       "CHP_319-05-PBMC-DNA 1                  0                \n",
       "CHP_323-03-PBMC-DNA 1                  0                \n",
       "CHP_323-05-PBMC-DNA 1                  0                \n",
       "CHP_324-05_PBMC-DNA 1                  0                \n",
       "CHP-328-04-PBMC-DNA 1                  0                \n",
       "CHP-328-05-PBMC-DNA 1                  0                \n",
       "                    foldgroup_is_Indeterminate foldgroup_is_Low\n",
       "CHP_319-05-PBMC-DNA 0                          1               \n",
       "CHP_323-03-PBMC-DNA 0                          1               \n",
       "CHP_323-05-PBMC-DNA 0                          1               \n",
       "CHP_324-05_PBMC-DNA 0                          1               \n",
       "CHP-328-04-PBMC-DNA 0                          1               \n",
       "CHP-328-05-PBMC-DNA 0                          1               "
      ]
     },
     "metadata": {},
     "output_type": "display_data"
    }
   ],
   "source": [
    "head(dat)"
   ]
  },
  {
   "cell_type": "code",
   "execution_count": 26,
   "metadata": {
    "vscode": {
     "languageId": "r"
    }
   },
   "outputs": [],
   "source": [
    "readr::write_rds(dat, paste0(datapath, \"ML/int_metadat.rds\"))"
   ]
  },
  {
   "attachments": {},
   "cell_type": "markdown",
   "metadata": {},
   "source": [
    "sequence data"
   ]
  },
  {
   "cell_type": "code",
   "execution_count": 27,
   "metadata": {
    "vscode": {
     "languageId": "r"
    }
   },
   "outputs": [],
   "source": [
    "# meta_div <- readr::read_rds(file = paste0(datapath,\"capTCRseq/meta_div_goodsamples.rds\"))"
   ]
  },
  {
   "cell_type": "code",
   "execution_count": 28,
   "metadata": {
    "vscode": {
     "languageId": "r"
    }
   },
   "outputs": [],
   "source": [
    "load(file = paste0(datapath,\"capTCRseq/TRBfiles.RData\"))"
   ]
  },
  {
   "cell_type": "code",
   "execution_count": 29,
   "metadata": {
    "vscode": {
     "languageId": "r"
    }
   },
   "outputs": [],
   "source": [
    "# get good samples\n",
    "file_df_dedup_trb <- file_df_dedup_trb[ file_df_dedup_trb$samplename %in% rownames(dat), ]"
   ]
  },
  {
   "cell_type": "code",
   "execution_count": 30,
   "metadata": {
    "vscode": {
     "languageId": "r"
    }
   },
   "outputs": [
    {
     "data": {
      "text/html": [
       "<table class=\"dataframe\">\n",
       "<caption>A data.frame: 6 x 3</caption>\n",
       "<thead>\n",
       "\t<tr><th></th><th scope=col>file_list</th><th scope=col>samplename</th><th scope=col>size</th></tr>\n",
       "\t<tr><th></th><th scope=col>&lt;chr&gt;</th><th scope=col>&lt;chr&gt;</th><th scope=col>&lt;dbl&gt;</th></tr>\n",
       "</thead>\n",
       "<tbody>\n",
       "\t<tr><th scope=row>2</th><td>batch_reseq_24Feb2020/mixcr/clones/CLONES_TRBCHP_350-01-PBMC-DNA.txt</td><td>CHP_350-01-PBMC-DNA</td><td> 85631</td></tr>\n",
       "\t<tr><th scope=row>3</th><td>batch_reseq_24Feb2020/mixcr/clones/CLONES_TRBCHP_350-02-PBMC-DNA.txt</td><td>CHP_350-02-PBMC-DNA</td><td>143632</td></tr>\n",
       "\t<tr><th scope=row>4</th><td>batch_reseq_24Feb2020/mixcr/clones/CLONES_TRBCHP_350-03-PBMC-DNA.txt</td><td>CHP_350-03-PBMC-DNA</td><td>107190</td></tr>\n",
       "\t<tr><th scope=row>5</th><td>batch_reseq_24Feb2020/mixcr/clones/CLONES_TRBCHP_350-04-PBMC-DNA.txt</td><td>CHP_350-04-PBMC-DNA</td><td> 54188</td></tr>\n",
       "\t<tr><th scope=row>7</th><td>batch_reseq_24Feb2020/mixcr/clones/CLONES_TRBCHP_354-01-PBMC-DNA.txt</td><td>CHP_354-01-PBMC-DNA</td><td>  3728</td></tr>\n",
       "\t<tr><th scope=row>8</th><td>batch_reseq_24Feb2020/mixcr/clones/CLONES_TRBCHP_356-03-PBMC-DNA.txt</td><td>CHP_356-03-PBMC-DNA</td><td>  1573</td></tr>\n",
       "</tbody>\n",
       "</table>\n"
      ],
      "text/latex": [
       "A data.frame: 6 x 3\n",
       "\\begin{tabular}{r|lll}\n",
       "  & file\\_list & samplename & size\\\\\n",
       "  & <chr> & <chr> & <dbl>\\\\\n",
       "\\hline\n",
       "\t2 & batch\\_reseq\\_24Feb2020/mixcr/clones/CLONES\\_TRBCHP\\_350-01-PBMC-DNA.txt & CHP\\_350-01-PBMC-DNA &  85631\\\\\n",
       "\t3 & batch\\_reseq\\_24Feb2020/mixcr/clones/CLONES\\_TRBCHP\\_350-02-PBMC-DNA.txt & CHP\\_350-02-PBMC-DNA & 143632\\\\\n",
       "\t4 & batch\\_reseq\\_24Feb2020/mixcr/clones/CLONES\\_TRBCHP\\_350-03-PBMC-DNA.txt & CHP\\_350-03-PBMC-DNA & 107190\\\\\n",
       "\t5 & batch\\_reseq\\_24Feb2020/mixcr/clones/CLONES\\_TRBCHP\\_350-04-PBMC-DNA.txt & CHP\\_350-04-PBMC-DNA &  54188\\\\\n",
       "\t7 & batch\\_reseq\\_24Feb2020/mixcr/clones/CLONES\\_TRBCHP\\_354-01-PBMC-DNA.txt & CHP\\_354-01-PBMC-DNA &   3728\\\\\n",
       "\t8 & batch\\_reseq\\_24Feb2020/mixcr/clones/CLONES\\_TRBCHP\\_356-03-PBMC-DNA.txt & CHP\\_356-03-PBMC-DNA &   1573\\\\\n",
       "\\end{tabular}\n"
      ],
      "text/markdown": [
       "\n",
       "A data.frame: 6 x 3\n",
       "\n",
       "| <!--/--> | file_list &lt;chr&gt; | samplename &lt;chr&gt; | size &lt;dbl&gt; |\n",
       "|---|---|---|---|\n",
       "| 2 | batch_reseq_24Feb2020/mixcr/clones/CLONES_TRBCHP_350-01-PBMC-DNA.txt | CHP_350-01-PBMC-DNA |  85631 |\n",
       "| 3 | batch_reseq_24Feb2020/mixcr/clones/CLONES_TRBCHP_350-02-PBMC-DNA.txt | CHP_350-02-PBMC-DNA | 143632 |\n",
       "| 4 | batch_reseq_24Feb2020/mixcr/clones/CLONES_TRBCHP_350-03-PBMC-DNA.txt | CHP_350-03-PBMC-DNA | 107190 |\n",
       "| 5 | batch_reseq_24Feb2020/mixcr/clones/CLONES_TRBCHP_350-04-PBMC-DNA.txt | CHP_350-04-PBMC-DNA |  54188 |\n",
       "| 7 | batch_reseq_24Feb2020/mixcr/clones/CLONES_TRBCHP_354-01-PBMC-DNA.txt | CHP_354-01-PBMC-DNA |   3728 |\n",
       "| 8 | batch_reseq_24Feb2020/mixcr/clones/CLONES_TRBCHP_356-03-PBMC-DNA.txt | CHP_356-03-PBMC-DNA |   1573 |\n",
       "\n"
      ],
      "text/plain": [
       "  file_list                                                           \n",
       "2 batch_reseq_24Feb2020/mixcr/clones/CLONES_TRBCHP_350-01-PBMC-DNA.txt\n",
       "3 batch_reseq_24Feb2020/mixcr/clones/CLONES_TRBCHP_350-02-PBMC-DNA.txt\n",
       "4 batch_reseq_24Feb2020/mixcr/clones/CLONES_TRBCHP_350-03-PBMC-DNA.txt\n",
       "5 batch_reseq_24Feb2020/mixcr/clones/CLONES_TRBCHP_350-04-PBMC-DNA.txt\n",
       "7 batch_reseq_24Feb2020/mixcr/clones/CLONES_TRBCHP_354-01-PBMC-DNA.txt\n",
       "8 batch_reseq_24Feb2020/mixcr/clones/CLONES_TRBCHP_356-03-PBMC-DNA.txt\n",
       "  samplename          size  \n",
       "2 CHP_350-01-PBMC-DNA  85631\n",
       "3 CHP_350-02-PBMC-DNA 143632\n",
       "4 CHP_350-03-PBMC-DNA 107190\n",
       "5 CHP_350-04-PBMC-DNA  54188\n",
       "7 CHP_354-01-PBMC-DNA   3728\n",
       "8 CHP_356-03-PBMC-DNA   1573"
      ]
     },
     "metadata": {},
     "output_type": "display_data"
    }
   ],
   "source": [
    "head(file_df_dedup_trb)"
   ]
  },
  {
   "cell_type": "code",
   "execution_count": 31,
   "metadata": {
    "vscode": {
     "languageId": "r"
    }
   },
   "outputs": [
    {
     "data": {
      "text/html": [
       "<style>\n",
       ".list-inline {list-style: none; margin:0; padding: 0}\n",
       ".list-inline>li {display: inline-block}\n",
       ".list-inline>li:not(:last-child)::after {content: \"\\00b7\"; padding: 0 .5ex}\n",
       "</style>\n",
       "<ol class=list-inline><li>468</li><li>3</li></ol>\n"
      ],
      "text/latex": [
       "\\begin{enumerate*}\n",
       "\\item 468\n",
       "\\item 3\n",
       "\\end{enumerate*}\n"
      ],
      "text/markdown": [
       "1. 468\n",
       "2. 3\n",
       "\n",
       "\n"
      ],
      "text/plain": [
       "[1] 468   3"
      ]
     },
     "metadata": {},
     "output_type": "display_data"
    }
   ],
   "source": [
    "dim(file_df_dedup_trb)"
   ]
  },
  {
   "cell_type": "code",
   "execution_count": 32,
   "metadata": {
    "vscode": {
     "languageId": "r"
    }
   },
   "outputs": [
    {
     "data": {
      "text/html": [
       "'/Users/anabbi/Desktop/H4H/INTERCEPT/'"
      ],
      "text/latex": [
       "'/Users/anabbi/Desktop/H4H/INTERCEPT/'"
      ],
      "text/markdown": [
       "'/Users/anabbi/Desktop/H4H/INTERCEPT/'"
      ],
      "text/plain": [
       "[1] \"/Users/anabbi/Desktop/H4H/INTERCEPT/\""
      ]
     },
     "metadata": {},
     "output_type": "display_data"
    }
   ],
   "source": [
    "h4hpath"
   ]
  },
  {
   "cell_type": "code",
   "execution_count": 33,
   "metadata": {
    "vscode": {
     "languageId": "r"
    }
   },
   "outputs": [
    {
     "data": {
      "text/html": [
       "<style>\n",
       ".list-inline {list-style: none; margin:0; padding: 0}\n",
       ".list-inline>li {display: inline-block}\n",
       ".list-inline>li:not(:last-child)::after {content: \"\\00b7\"; padding: 0 .5ex}\n",
       "</style>\n",
       "<ol class=list-inline><li>'CHP_319-05-PBMC-DNA'</li><li>'CHP_323-03-PBMC-DNA'</li><li>'CHP_323-05-PBMC-DNA'</li><li>'CHP_324-05_PBMC-DNA'</li><li>'CHP-328-04-PBMC-DNA'</li><li>'CHP-328-05-PBMC-DNA'</li></ol>\n"
      ],
      "text/latex": [
       "\\begin{enumerate*}\n",
       "\\item 'CHP\\_319-05-PBMC-DNA'\n",
       "\\item 'CHP\\_323-03-PBMC-DNA'\n",
       "\\item 'CHP\\_323-05-PBMC-DNA'\n",
       "\\item 'CHP\\_324-05\\_PBMC-DNA'\n",
       "\\item 'CHP-328-04-PBMC-DNA'\n",
       "\\item 'CHP-328-05-PBMC-DNA'\n",
       "\\end{enumerate*}\n"
      ],
      "text/markdown": [
       "1. 'CHP_319-05-PBMC-DNA'\n",
       "2. 'CHP_323-03-PBMC-DNA'\n",
       "3. 'CHP_323-05-PBMC-DNA'\n",
       "4. 'CHP_324-05_PBMC-DNA'\n",
       "5. 'CHP-328-04-PBMC-DNA'\n",
       "6. 'CHP-328-05-PBMC-DNA'\n",
       "\n",
       "\n"
      ],
      "text/plain": [
       "[1] \"CHP_319-05-PBMC-DNA\" \"CHP_323-03-PBMC-DNA\" \"CHP_323-05-PBMC-DNA\"\n",
       "[4] \"CHP_324-05_PBMC-DNA\" \"CHP-328-04-PBMC-DNA\" \"CHP-328-05-PBMC-DNA\""
      ]
     },
     "metadata": {},
     "output_type": "display_data"
    }
   ],
   "source": [
    "head(rownames(dat))"
   ]
  },
  {
   "cell_type": "code",
   "execution_count": 34,
   "metadata": {
    "vscode": {
     "languageId": "r"
    }
   },
   "outputs": [],
   "source": [
    "myfilelist <- file_df_dedup_trb$file_list[ match(rownames(dat), file_df_dedup_trb$samplename)] "
   ]
  },
  {
   "cell_type": "code",
   "execution_count": 35,
   "metadata": {
    "vscode": {
     "languageId": "r"
    }
   },
   "outputs": [],
   "source": [
    "# read in the files in list\n",
    "myfiles <- lapply(myfilelist, function(x) read.table(paste0(h4hpath, \"NextSeq/\",x), sep = \"\\t\", header = TRUE, stringsAsFactors = F)  )\n",
    "# add sample name to each file\n",
    "names(myfiles) <- basename(myfilelist)\n",
    "# add names as column to their corresponding dataframe\n",
    "myfiles <- lapply(names(myfiles), function(x) {myfiles[[x]]$basename <- x; return(myfiles[[x]])})"
   ]
  },
  {
   "cell_type": "code",
   "execution_count": 36,
   "metadata": {
    "vscode": {
     "languageId": "r"
    }
   },
   "outputs": [],
   "source": [
    "int_all <- do.call(rbind, myfiles)"
   ]
  },
  {
   "cell_type": "code",
   "execution_count": 37,
   "metadata": {
    "vscode": {
     "languageId": "r"
    }
   },
   "outputs": [
    {
     "data": {
      "text/html": [
       "<style>\n",
       ".list-inline {list-style: none; margin:0; padding: 0}\n",
       ".list-inline>li {display: inline-block}\n",
       ".list-inline>li:not(:last-child)::after {content: \"\\00b7\"; padding: 0 .5ex}\n",
       "</style>\n",
       "<ol class=list-inline><li>71412</li><li>36</li></ol>\n"
      ],
      "text/latex": [
       "\\begin{enumerate*}\n",
       "\\item 71412\n",
       "\\item 36\n",
       "\\end{enumerate*}\n"
      ],
      "text/markdown": [
       "1. 71412\n",
       "2. 36\n",
       "\n",
       "\n"
      ],
      "text/plain": [
       "[1] 71412    36"
      ]
     },
     "metadata": {},
     "output_type": "display_data"
    }
   ],
   "source": [
    "dim(int_all)"
   ]
  },
  {
   "cell_type": "code",
   "execution_count": 38,
   "metadata": {
    "vscode": {
     "languageId": "r"
    }
   },
   "outputs": [],
   "source": [
    "\n",
    "  onefle <- int_all\n",
    "  # onefle <- read.table(paste0(indir, fle), sep = \"\\t\", header = TRUE, stringsAsFactors = F)\n",
    "  onefle$TRBV <- gsub(\"[*]0.*\", \"\", onefle$allVHitsWithScore)\n",
    "  onefle$TRBJ <- gsub(\"[*]0.*\", \"\", onefle$allJHitsWithScore)\n",
    "  onefle <- onefle[, c(\"basename\",\"aaSeqCDR3\", \"TRBV\", \"TRBJ\", \"cloneCount\", \"cloneFraction\")]\n",
    "  onefle$length <- sapply(onefle$aaSeqCDR3, function(x) nchar(x))\n",
    "  # only cdr3b with length between 12 and 17, for now\n",
    "  onefle <- onefle[onefle$length >= 12 & onefle$length <= 17, ]\n",
    "  onefle$Vmotif <- sapply(onefle$aaSeqCDR3, function(x) substr(x, 1, 3))\n",
    "\n",
    "  # frame_type is out if aaSeqCDR3 contains either * or _\n",
    "  onefle$frame_type <- sapply(onefle$aaSeqCDR3, function(x) ifelse(grepl(\"[*]|[_]\", x), \"out\", \"in\"))\n",
    "\n",
    "  poss <- get_positions(17)\n",
    "\n",
    "  for (i in 1:6) {\n",
    "    if (i >= 4) {\n",
    "      # leave the vmotif out (the first three), take aminoacid of position\n",
    "      onefle$new <- sapply(onefle$aaSeqCDR3, function(x) substr(x, i, i))\n",
    "      # print(int_all_1$new)\n",
    "      colnames(onefle)[ncol(onefle)] <- paste(\"p\", poss[i], sep = \"\")\n",
    "    }\n",
    "  }\n",
    "  onefle$p110 <- sapply(onefle$aaSeqCDR3, function(x) ifelse(nchar(x) > 12, substr(x, 7, 7), \"*\"))\n",
    "  onefle$p111 <- sapply(onefle$aaSeqCDR3, function(x) ifelse(nchar(x) > 14, substr(x, 8, 8), \"*\"))\n",
    "  onefle$\"p111.1\" <- sapply(onefle$aaSeqCDR3, function(x) ifelse(nchar(x) > 16, substr(x, 9, 9), \"*\"))\n",
    "  onefle$\"p112.1\" <- sapply(onefle$aaSeqCDR3, function(x) ifelse(nchar(x) > 15, substr(x, nchar(x) - 7, nchar(x) - 7), \"*\"))\n",
    "  onefle$\"p112\" <- sapply(onefle$aaSeqCDR3, function(x) ifelse(nchar(x) > 13, substr(x, nchar(x) - 6, nchar(x) - 6), \"*\"))\n",
    "\n",
    "  for (i in 5:0) { # get last 5 amino acids\n",
    "    # if (i != 5) { # not sure why this is here\n",
    "    onefle$new <- sapply(onefle$aaSeqCDR3, function(x) substr(x, nchar(x) - i, nchar(x) - i))\n",
    "    colnames(onefle)[ncol(onefle)] <- paste(\"p\", poss[length(poss) - i], sep = \"\")\n",
    "    # }\n",
    "  }\n",
    "\n",
    "  # last 4 amino acids is the Jmotif\n",
    "  onefle$Jmotif <- sapply(onefle$aaSeqCDR3, function(x) substr(x, nchar(x) - 4, nchar(x)))\n",
    "\n",
    "  # just to match the format with the function from lagattuta\n",
    "  data <- onefle\n",
    "  data$sequence <- data$aaSeqCDR3\n",
    "  data <- add_percentAA()\n",
    "  onefle <- data\n",
    "\n",
    "  onefle$sequence <- NULL\n",
    "\n",
    "  vars <- c(\"frame_type\", \"TRBV\", \"TRBJ\", \"Vmotif\", \"Jmotif\", \"length\", \"p107\", \"p108\", \"p109\", \"p110\", \"p111\", \"p111.1\", \"p112.1\", \"p112\", \"p113\", \"p114\") # add 113 and 114, just in case (they are not the midregion as per lagattuta)\n",
    "\n",
    "  ohe_seqdat <- data.frame(matrix(nrow = nrow(onefle), ncol = 0))\n",
    "  for (i in vars) {\n",
    "    \n",
    "    if( length(levels(factor(onefle[[i]]) ))> 1){\n",
    "\n",
    "    ohe_vars <- as.data.frame(model.matrix(~ factor(onefle[[i]]) - 1))\n",
    "    colnames(ohe_vars) <- gsub(\".*)\", \"\", colnames(ohe_vars))\n",
    "    colnames(ohe_vars) <- paste0(i, \"_is_\", colnames(ohe_vars))\n",
    "    ohe_seqdat <- cbind(ohe_seqdat, ohe_vars)\n",
    "  }\n",
    "  }\n",
    "\n",
    "  onefle_ohe_seqdat <- cbind(onefle, ohe_seqdat)\n",
    "\n"
   ]
  },
  {
   "cell_type": "code",
   "execution_count": 39,
   "metadata": {
    "vscode": {
     "languageId": "r"
    }
   },
   "outputs": [],
   "source": [
    "# int_all_1 <- prepare_mixcr.fx(int_all)"
   ]
  },
  {
   "cell_type": "code",
   "execution_count": 40,
   "metadata": {
    "vscode": {
     "languageId": "r"
    }
   },
   "outputs": [
    {
     "data": {
      "text/html": [
       "<table class=\"dataframe\">\n",
       "<caption>A data.frame: 6 x 1845</caption>\n",
       "<thead>\n",
       "\t<tr><th></th><th scope=col>basename</th><th scope=col>aaSeqCDR3</th><th scope=col>TRBV</th><th scope=col>TRBJ</th><th scope=col>cloneCount</th><th scope=col>cloneFraction</th><th scope=col>length</th><th scope=col>Vmotif</th><th scope=col>frame_type</th><th scope=col>p107</th><th scope=col>...</th><th scope=col>p114_is_M</th><th scope=col>p114_is_N</th><th scope=col>p114_is_P</th><th scope=col>p114_is_Q</th><th scope=col>p114_is_R</th><th scope=col>p114_is_S</th><th scope=col>p114_is_T</th><th scope=col>p114_is_V</th><th scope=col>p114_is_W</th><th scope=col>p114_is_Y</th></tr>\n",
       "\t<tr><th></th><th scope=col>&lt;chr&gt;</th><th scope=col>&lt;chr&gt;</th><th scope=col>&lt;chr&gt;</th><th scope=col>&lt;chr&gt;</th><th scope=col>&lt;int&gt;</th><th scope=col>&lt;dbl&gt;</th><th scope=col>&lt;int&gt;</th><th scope=col>&lt;chr&gt;</th><th scope=col>&lt;chr&gt;</th><th scope=col>&lt;chr&gt;</th><th scope=col>...</th><th scope=col>&lt;dbl&gt;</th><th scope=col>&lt;dbl&gt;</th><th scope=col>&lt;dbl&gt;</th><th scope=col>&lt;dbl&gt;</th><th scope=col>&lt;dbl&gt;</th><th scope=col>&lt;dbl&gt;</th><th scope=col>&lt;dbl&gt;</th><th scope=col>&lt;dbl&gt;</th><th scope=col>&lt;dbl&gt;</th><th scope=col>&lt;dbl&gt;</th></tr>\n",
       "</thead>\n",
       "<tbody>\n",
       "\t<tr><th scope=row>1</th><td>CLONES_TRBCHP_319-05-PBMC-DNA.txt</td><td>CASRERIAPGNTIYF </td><td>TRBV6-5 </td><td>TRBJ1-3</td><td>13</td><td>0.15116279</td><td>15</td><td>CAS</td><td>in</td><td>R</td><td>...</td><td>0</td><td>1</td><td>0</td><td>0</td><td>0</td><td>0</td><td>0</td><td>0</td><td>0</td><td>0</td></tr>\n",
       "\t<tr><th scope=row>2</th><td>CLONES_TRBCHP_319-05-PBMC-DNA.txt</td><td>CSARDRTGMSTDTQYF</td><td>TRBV20-1</td><td>TRBJ2-3</td><td>11</td><td>0.12790698</td><td>16</td><td>CSA</td><td>in</td><td>R</td><td>...</td><td>0</td><td>0</td><td>0</td><td>0</td><td>0</td><td>0</td><td>0</td><td>0</td><td>0</td><td>0</td></tr>\n",
       "\t<tr><th scope=row>3</th><td>CLONES_TRBCHP_319-05-PBMC-DNA.txt</td><td>CASRLGTGHENTEAFF</td><td>TRBV19  </td><td>TRBJ1-1</td><td> 9</td><td>0.10465116</td><td>16</td><td>CAS</td><td>in</td><td>R</td><td>...</td><td>0</td><td>0</td><td>0</td><td>0</td><td>0</td><td>0</td><td>1</td><td>0</td><td>0</td><td>0</td></tr>\n",
       "\t<tr><th scope=row>4</th><td>CLONES_TRBCHP_319-05-PBMC-DNA.txt</td><td>CATSRDWTVSYEQYF </td><td>TRBV15  </td><td>TRBJ2-7</td><td> 9</td><td>0.10465116</td><td>15</td><td>CAT</td><td>in</td><td>S</td><td>...</td><td>0</td><td>0</td><td>0</td><td>0</td><td>0</td><td>0</td><td>0</td><td>0</td><td>0</td><td>1</td></tr>\n",
       "\t<tr><th scope=row>5</th><td>CLONES_TRBCHP_319-05-PBMC-DNA.txt</td><td>CASSRNRVRYGYTF  </td><td>TRBV11-2</td><td>TRBJ1-2</td><td> 6</td><td>0.06976744</td><td>14</td><td>CAS</td><td>in</td><td>S</td><td>...</td><td>0</td><td>0</td><td>0</td><td>0</td><td>0</td><td>0</td><td>0</td><td>0</td><td>0</td><td>1</td></tr>\n",
       "\t<tr><th scope=row>8</th><td>CLONES_TRBCHP_319-05-PBMC-DNA.txt</td><td>CASSLTGGEYAEQYF </td><td>TRBV7-2 </td><td>TRBJ2-7</td><td> 5</td><td>0.05813953</td><td>15</td><td>CAS</td><td>in</td><td>S</td><td>...</td><td>0</td><td>0</td><td>0</td><td>0</td><td>0</td><td>0</td><td>0</td><td>0</td><td>0</td><td>0</td></tr>\n",
       "</tbody>\n",
       "</table>\n"
      ],
      "text/latex": [
       "A data.frame: 6 x 1845\n",
       "\\begin{tabular}{r|lllllllllllllllllllll}\n",
       "  & basename & aaSeqCDR3 & TRBV & TRBJ & cloneCount & cloneFraction & length & Vmotif & frame\\_type & p107 & ... & p114\\_is\\_M & p114\\_is\\_N & p114\\_is\\_P & p114\\_is\\_Q & p114\\_is\\_R & p114\\_is\\_S & p114\\_is\\_T & p114\\_is\\_V & p114\\_is\\_W & p114\\_is\\_Y\\\\\n",
       "  & <chr> & <chr> & <chr> & <chr> & <int> & <dbl> & <int> & <chr> & <chr> & <chr> & ... & <dbl> & <dbl> & <dbl> & <dbl> & <dbl> & <dbl> & <dbl> & <dbl> & <dbl> & <dbl>\\\\\n",
       "\\hline\n",
       "\t1 & CLONES\\_TRBCHP\\_319-05-PBMC-DNA.txt & CASRERIAPGNTIYF  & TRBV6-5  & TRBJ1-3 & 13 & 0.15116279 & 15 & CAS & in & R & ... & 0 & 1 & 0 & 0 & 0 & 0 & 0 & 0 & 0 & 0\\\\\n",
       "\t2 & CLONES\\_TRBCHP\\_319-05-PBMC-DNA.txt & CSARDRTGMSTDTQYF & TRBV20-1 & TRBJ2-3 & 11 & 0.12790698 & 16 & CSA & in & R & ... & 0 & 0 & 0 & 0 & 0 & 0 & 0 & 0 & 0 & 0\\\\\n",
       "\t3 & CLONES\\_TRBCHP\\_319-05-PBMC-DNA.txt & CASRLGTGHENTEAFF & TRBV19   & TRBJ1-1 &  9 & 0.10465116 & 16 & CAS & in & R & ... & 0 & 0 & 0 & 0 & 0 & 0 & 1 & 0 & 0 & 0\\\\\n",
       "\t4 & CLONES\\_TRBCHP\\_319-05-PBMC-DNA.txt & CATSRDWTVSYEQYF  & TRBV15   & TRBJ2-7 &  9 & 0.10465116 & 15 & CAT & in & S & ... & 0 & 0 & 0 & 0 & 0 & 0 & 0 & 0 & 0 & 1\\\\\n",
       "\t5 & CLONES\\_TRBCHP\\_319-05-PBMC-DNA.txt & CASSRNRVRYGYTF   & TRBV11-2 & TRBJ1-2 &  6 & 0.06976744 & 14 & CAS & in & S & ... & 0 & 0 & 0 & 0 & 0 & 0 & 0 & 0 & 0 & 1\\\\\n",
       "\t8 & CLONES\\_TRBCHP\\_319-05-PBMC-DNA.txt & CASSLTGGEYAEQYF  & TRBV7-2  & TRBJ2-7 &  5 & 0.05813953 & 15 & CAS & in & S & ... & 0 & 0 & 0 & 0 & 0 & 0 & 0 & 0 & 0 & 0\\\\\n",
       "\\end{tabular}\n"
      ],
      "text/markdown": [
       "\n",
       "A data.frame: 6 x 1845\n",
       "\n",
       "| <!--/--> | basename &lt;chr&gt; | aaSeqCDR3 &lt;chr&gt; | TRBV &lt;chr&gt; | TRBJ &lt;chr&gt; | cloneCount &lt;int&gt; | cloneFraction &lt;dbl&gt; | length &lt;int&gt; | Vmotif &lt;chr&gt; | frame_type &lt;chr&gt; | p107 &lt;chr&gt; | ... ... | p114_is_M &lt;dbl&gt; | p114_is_N &lt;dbl&gt; | p114_is_P &lt;dbl&gt; | p114_is_Q &lt;dbl&gt; | p114_is_R &lt;dbl&gt; | p114_is_S &lt;dbl&gt; | p114_is_T &lt;dbl&gt; | p114_is_V &lt;dbl&gt; | p114_is_W &lt;dbl&gt; | p114_is_Y &lt;dbl&gt; |\n",
       "|---|---|---|---|---|---|---|---|---|---|---|---|---|---|---|---|---|---|---|---|---|---|\n",
       "| 1 | CLONES_TRBCHP_319-05-PBMC-DNA.txt | CASRERIAPGNTIYF  | TRBV6-5  | TRBJ1-3 | 13 | 0.15116279 | 15 | CAS | in | R | ... | 0 | 1 | 0 | 0 | 0 | 0 | 0 | 0 | 0 | 0 |\n",
       "| 2 | CLONES_TRBCHP_319-05-PBMC-DNA.txt | CSARDRTGMSTDTQYF | TRBV20-1 | TRBJ2-3 | 11 | 0.12790698 | 16 | CSA | in | R | ... | 0 | 0 | 0 | 0 | 0 | 0 | 0 | 0 | 0 | 0 |\n",
       "| 3 | CLONES_TRBCHP_319-05-PBMC-DNA.txt | CASRLGTGHENTEAFF | TRBV19   | TRBJ1-1 |  9 | 0.10465116 | 16 | CAS | in | R | ... | 0 | 0 | 0 | 0 | 0 | 0 | 1 | 0 | 0 | 0 |\n",
       "| 4 | CLONES_TRBCHP_319-05-PBMC-DNA.txt | CATSRDWTVSYEQYF  | TRBV15   | TRBJ2-7 |  9 | 0.10465116 | 15 | CAT | in | S | ... | 0 | 0 | 0 | 0 | 0 | 0 | 0 | 0 | 0 | 1 |\n",
       "| 5 | CLONES_TRBCHP_319-05-PBMC-DNA.txt | CASSRNRVRYGYTF   | TRBV11-2 | TRBJ1-2 |  6 | 0.06976744 | 14 | CAS | in | S | ... | 0 | 0 | 0 | 0 | 0 | 0 | 0 | 0 | 0 | 1 |\n",
       "| 8 | CLONES_TRBCHP_319-05-PBMC-DNA.txt | CASSLTGGEYAEQYF  | TRBV7-2  | TRBJ2-7 |  5 | 0.05813953 | 15 | CAS | in | S | ... | 0 | 0 | 0 | 0 | 0 | 0 | 0 | 0 | 0 | 0 |\n",
       "\n"
      ],
      "text/plain": [
       "  basename                          aaSeqCDR3        TRBV     TRBJ   \n",
       "1 CLONES_TRBCHP_319-05-PBMC-DNA.txt CASRERIAPGNTIYF  TRBV6-5  TRBJ1-3\n",
       "2 CLONES_TRBCHP_319-05-PBMC-DNA.txt CSARDRTGMSTDTQYF TRBV20-1 TRBJ2-3\n",
       "3 CLONES_TRBCHP_319-05-PBMC-DNA.txt CASRLGTGHENTEAFF TRBV19   TRBJ1-1\n",
       "4 CLONES_TRBCHP_319-05-PBMC-DNA.txt CATSRDWTVSYEQYF  TRBV15   TRBJ2-7\n",
       "5 CLONES_TRBCHP_319-05-PBMC-DNA.txt CASSRNRVRYGYTF   TRBV11-2 TRBJ1-2\n",
       "8 CLONES_TRBCHP_319-05-PBMC-DNA.txt CASSLTGGEYAEQYF  TRBV7-2  TRBJ2-7\n",
       "  cloneCount cloneFraction length Vmotif frame_type p107 ... p114_is_M\n",
       "1 13         0.15116279    15     CAS    in         R    ... 0        \n",
       "2 11         0.12790698    16     CSA    in         R    ... 0        \n",
       "3  9         0.10465116    16     CAS    in         R    ... 0        \n",
       "4  9         0.10465116    15     CAT    in         S    ... 0        \n",
       "5  6         0.06976744    14     CAS    in         S    ... 0        \n",
       "8  5         0.05813953    15     CAS    in         S    ... 0        \n",
       "  p114_is_N p114_is_P p114_is_Q p114_is_R p114_is_S p114_is_T p114_is_V\n",
       "1 1         0         0         0         0         0         0        \n",
       "2 0         0         0         0         0         0         0        \n",
       "3 0         0         0         0         0         1         0        \n",
       "4 0         0         0         0         0         0         0        \n",
       "5 0         0         0         0         0         0         0        \n",
       "8 0         0         0         0         0         0         0        \n",
       "  p114_is_W p114_is_Y\n",
       "1 0         0        \n",
       "2 0         0        \n",
       "3 0         0        \n",
       "4 0         1        \n",
       "5 0         1        \n",
       "8 0         0        "
      ]
     },
     "metadata": {},
     "output_type": "display_data"
    }
   ],
   "source": [
    "head(onefle_ohe_seqdat)"
   ]
  },
  {
   "cell_type": "code",
   "execution_count": 41,
   "metadata": {
    "vscode": {
     "languageId": "r"
    }
   },
   "outputs": [
    {
     "data": {
      "text/html": [
       "<style>\n",
       ".list-inline {list-style: none; margin:0; padding: 0}\n",
       ".list-inline>li {display: inline-block}\n",
       ".list-inline>li:not(:last-child)::after {content: \"\\00b7\"; padding: 0 .5ex}\n",
       "</style>\n",
       "<ol class=list-inline><li>'CHP_319-05-PBMC-DNA'</li><li>'CHP_323-03-PBMC-DNA'</li><li>'CHP_323-05-PBMC-DNA'</li><li>'CHP_324-05_PBMC-DNA'</li><li>'CHP-328-04-PBMC-DNA'</li><li>'CHP-328-05-PBMC-DNA'</li></ol>\n"
      ],
      "text/latex": [
       "\\begin{enumerate*}\n",
       "\\item 'CHP\\_319-05-PBMC-DNA'\n",
       "\\item 'CHP\\_323-03-PBMC-DNA'\n",
       "\\item 'CHP\\_323-05-PBMC-DNA'\n",
       "\\item 'CHP\\_324-05\\_PBMC-DNA'\n",
       "\\item 'CHP-328-04-PBMC-DNA'\n",
       "\\item 'CHP-328-05-PBMC-DNA'\n",
       "\\end{enumerate*}\n"
      ],
      "text/markdown": [
       "1. 'CHP_319-05-PBMC-DNA'\n",
       "2. 'CHP_323-03-PBMC-DNA'\n",
       "3. 'CHP_323-05-PBMC-DNA'\n",
       "4. 'CHP_324-05_PBMC-DNA'\n",
       "5. 'CHP-328-04-PBMC-DNA'\n",
       "6. 'CHP-328-05-PBMC-DNA'\n",
       "\n",
       "\n"
      ],
      "text/plain": [
       "[1] \"CHP_319-05-PBMC-DNA\" \"CHP_323-03-PBMC-DNA\" \"CHP_323-05-PBMC-DNA\"\n",
       "[4] \"CHP_324-05_PBMC-DNA\" \"CHP-328-04-PBMC-DNA\" \"CHP-328-05-PBMC-DNA\""
      ]
     },
     "metadata": {},
     "output_type": "display_data"
    }
   ],
   "source": [
    "head(rownames(dat))"
   ]
  },
  {
   "cell_type": "code",
   "execution_count": 42,
   "metadata": {
    "vscode": {
     "languageId": "r"
    }
   },
   "outputs": [],
   "source": [
    "onefle_ohe_seqdat$basename <- gsub(\".txt\", \"\", onefle_ohe_seqdat$basename)\n",
    "onefle_ohe_seqdat$basename <- gsub(\"CLONES_TRB\", \"\", onefle_ohe_seqdat$basename)"
   ]
  },
  {
   "cell_type": "code",
   "execution_count": 43,
   "metadata": {
    "vscode": {
     "languageId": "r"
    }
   },
   "outputs": [],
   "source": [
    "readr::write_rds(onefle_ohe_seqdat, paste0(datapath, \"ML/\", \"int_ohe_trbseq.rds\") )"
   ]
  },
  {
   "cell_type": "code",
   "execution_count": 44,
   "metadata": {
    "vscode": {
     "languageId": "r"
    }
   },
   "outputs": [
    {
     "data": {
      "text/html": [
       "<style>\n",
       ".list-inline {list-style: none; margin:0; padding: 0}\n",
       ".list-inline>li {display: inline-block}\n",
       ".list-inline>li:not(:last-child)::after {content: \"\\00b7\"; padding: 0 .5ex}\n",
       "</style>\n",
       "<ol class=list-inline><li>'CHP_319-05-PBMC-DNA'</li><li>'CHP_323-03-PBMC-DNA'</li><li>'CHP_323-05-PBMC-DNA'</li><li>'CHP_324-05_PBMC-DNA'</li><li>'CHP-328-04-PBMC-DNA'</li><li>'CHP-328-05-PBMC-DNA'</li></ol>\n"
      ],
      "text/latex": [
       "\\begin{enumerate*}\n",
       "\\item 'CHP\\_319-05-PBMC-DNA'\n",
       "\\item 'CHP\\_323-03-PBMC-DNA'\n",
       "\\item 'CHP\\_323-05-PBMC-DNA'\n",
       "\\item 'CHP\\_324-05\\_PBMC-DNA'\n",
       "\\item 'CHP-328-04-PBMC-DNA'\n",
       "\\item 'CHP-328-05-PBMC-DNA'\n",
       "\\end{enumerate*}\n"
      ],
      "text/markdown": [
       "1. 'CHP_319-05-PBMC-DNA'\n",
       "2. 'CHP_323-03-PBMC-DNA'\n",
       "3. 'CHP_323-05-PBMC-DNA'\n",
       "4. 'CHP_324-05_PBMC-DNA'\n",
       "5. 'CHP-328-04-PBMC-DNA'\n",
       "6. 'CHP-328-05-PBMC-DNA'\n",
       "\n",
       "\n"
      ],
      "text/plain": [
       "[1] \"CHP_319-05-PBMC-DNA\" \"CHP_323-03-PBMC-DNA\" \"CHP_323-05-PBMC-DNA\"\n",
       "[4] \"CHP_324-05_PBMC-DNA\" \"CHP-328-04-PBMC-DNA\" \"CHP-328-05-PBMC-DNA\""
      ]
     },
     "metadata": {},
     "output_type": "display_data"
    }
   ],
   "source": [
    "head(unique(onefle_ohe_seqdat$basename))"
   ]
  },
  {
   "cell_type": "code",
   "execution_count": 45,
   "metadata": {
    "vscode": {
     "languageId": "r"
    }
   },
   "outputs": [
    {
     "data": {
      "text/html": [
       "<table class=\"dataframe\">\n",
       "<caption>A data.frame: 6 x 1845</caption>\n",
       "<thead>\n",
       "\t<tr><th></th><th scope=col>basename</th><th scope=col>aaSeqCDR3</th><th scope=col>TRBV</th><th scope=col>TRBJ</th><th scope=col>cloneCount</th><th scope=col>cloneFraction</th><th scope=col>length</th><th scope=col>Vmotif</th><th scope=col>frame_type</th><th scope=col>p107</th><th scope=col>...</th><th scope=col>p114_is_M</th><th scope=col>p114_is_N</th><th scope=col>p114_is_P</th><th scope=col>p114_is_Q</th><th scope=col>p114_is_R</th><th scope=col>p114_is_S</th><th scope=col>p114_is_T</th><th scope=col>p114_is_V</th><th scope=col>p114_is_W</th><th scope=col>p114_is_Y</th></tr>\n",
       "\t<tr><th></th><th scope=col>&lt;chr&gt;</th><th scope=col>&lt;chr&gt;</th><th scope=col>&lt;chr&gt;</th><th scope=col>&lt;chr&gt;</th><th scope=col>&lt;int&gt;</th><th scope=col>&lt;dbl&gt;</th><th scope=col>&lt;int&gt;</th><th scope=col>&lt;chr&gt;</th><th scope=col>&lt;chr&gt;</th><th scope=col>&lt;chr&gt;</th><th scope=col>...</th><th scope=col>&lt;dbl&gt;</th><th scope=col>&lt;dbl&gt;</th><th scope=col>&lt;dbl&gt;</th><th scope=col>&lt;dbl&gt;</th><th scope=col>&lt;dbl&gt;</th><th scope=col>&lt;dbl&gt;</th><th scope=col>&lt;dbl&gt;</th><th scope=col>&lt;dbl&gt;</th><th scope=col>&lt;dbl&gt;</th><th scope=col>&lt;dbl&gt;</th></tr>\n",
       "</thead>\n",
       "<tbody>\n",
       "\t<tr><th scope=row>1</th><td>CHP_319-05-PBMC-DNA</td><td>CASRERIAPGNTIYF </td><td>TRBV6-5 </td><td>TRBJ1-3</td><td>13</td><td>0.15116279</td><td>15</td><td>CAS</td><td>in</td><td>R</td><td>...</td><td>0</td><td>1</td><td>0</td><td>0</td><td>0</td><td>0</td><td>0</td><td>0</td><td>0</td><td>0</td></tr>\n",
       "\t<tr><th scope=row>2</th><td>CHP_319-05-PBMC-DNA</td><td>CSARDRTGMSTDTQYF</td><td>TRBV20-1</td><td>TRBJ2-3</td><td>11</td><td>0.12790698</td><td>16</td><td>CSA</td><td>in</td><td>R</td><td>...</td><td>0</td><td>0</td><td>0</td><td>0</td><td>0</td><td>0</td><td>0</td><td>0</td><td>0</td><td>0</td></tr>\n",
       "\t<tr><th scope=row>3</th><td>CHP_319-05-PBMC-DNA</td><td>CASRLGTGHENTEAFF</td><td>TRBV19  </td><td>TRBJ1-1</td><td> 9</td><td>0.10465116</td><td>16</td><td>CAS</td><td>in</td><td>R</td><td>...</td><td>0</td><td>0</td><td>0</td><td>0</td><td>0</td><td>0</td><td>1</td><td>0</td><td>0</td><td>0</td></tr>\n",
       "\t<tr><th scope=row>4</th><td>CHP_319-05-PBMC-DNA</td><td>CATSRDWTVSYEQYF </td><td>TRBV15  </td><td>TRBJ2-7</td><td> 9</td><td>0.10465116</td><td>15</td><td>CAT</td><td>in</td><td>S</td><td>...</td><td>0</td><td>0</td><td>0</td><td>0</td><td>0</td><td>0</td><td>0</td><td>0</td><td>0</td><td>1</td></tr>\n",
       "\t<tr><th scope=row>5</th><td>CHP_319-05-PBMC-DNA</td><td>CASSRNRVRYGYTF  </td><td>TRBV11-2</td><td>TRBJ1-2</td><td> 6</td><td>0.06976744</td><td>14</td><td>CAS</td><td>in</td><td>S</td><td>...</td><td>0</td><td>0</td><td>0</td><td>0</td><td>0</td><td>0</td><td>0</td><td>0</td><td>0</td><td>1</td></tr>\n",
       "\t<tr><th scope=row>8</th><td>CHP_319-05-PBMC-DNA</td><td>CASSLTGGEYAEQYF </td><td>TRBV7-2 </td><td>TRBJ2-7</td><td> 5</td><td>0.05813953</td><td>15</td><td>CAS</td><td>in</td><td>S</td><td>...</td><td>0</td><td>0</td><td>0</td><td>0</td><td>0</td><td>0</td><td>0</td><td>0</td><td>0</td><td>0</td></tr>\n",
       "</tbody>\n",
       "</table>\n"
      ],
      "text/latex": [
       "A data.frame: 6 x 1845\n",
       "\\begin{tabular}{r|lllllllllllllllllllll}\n",
       "  & basename & aaSeqCDR3 & TRBV & TRBJ & cloneCount & cloneFraction & length & Vmotif & frame\\_type & p107 & ... & p114\\_is\\_M & p114\\_is\\_N & p114\\_is\\_P & p114\\_is\\_Q & p114\\_is\\_R & p114\\_is\\_S & p114\\_is\\_T & p114\\_is\\_V & p114\\_is\\_W & p114\\_is\\_Y\\\\\n",
       "  & <chr> & <chr> & <chr> & <chr> & <int> & <dbl> & <int> & <chr> & <chr> & <chr> & ... & <dbl> & <dbl> & <dbl> & <dbl> & <dbl> & <dbl> & <dbl> & <dbl> & <dbl> & <dbl>\\\\\n",
       "\\hline\n",
       "\t1 & CHP\\_319-05-PBMC-DNA & CASRERIAPGNTIYF  & TRBV6-5  & TRBJ1-3 & 13 & 0.15116279 & 15 & CAS & in & R & ... & 0 & 1 & 0 & 0 & 0 & 0 & 0 & 0 & 0 & 0\\\\\n",
       "\t2 & CHP\\_319-05-PBMC-DNA & CSARDRTGMSTDTQYF & TRBV20-1 & TRBJ2-3 & 11 & 0.12790698 & 16 & CSA & in & R & ... & 0 & 0 & 0 & 0 & 0 & 0 & 0 & 0 & 0 & 0\\\\\n",
       "\t3 & CHP\\_319-05-PBMC-DNA & CASRLGTGHENTEAFF & TRBV19   & TRBJ1-1 &  9 & 0.10465116 & 16 & CAS & in & R & ... & 0 & 0 & 0 & 0 & 0 & 0 & 1 & 0 & 0 & 0\\\\\n",
       "\t4 & CHP\\_319-05-PBMC-DNA & CATSRDWTVSYEQYF  & TRBV15   & TRBJ2-7 &  9 & 0.10465116 & 15 & CAT & in & S & ... & 0 & 0 & 0 & 0 & 0 & 0 & 0 & 0 & 0 & 1\\\\\n",
       "\t5 & CHP\\_319-05-PBMC-DNA & CASSRNRVRYGYTF   & TRBV11-2 & TRBJ1-2 &  6 & 0.06976744 & 14 & CAS & in & S & ... & 0 & 0 & 0 & 0 & 0 & 0 & 0 & 0 & 0 & 1\\\\\n",
       "\t8 & CHP\\_319-05-PBMC-DNA & CASSLTGGEYAEQYF  & TRBV7-2  & TRBJ2-7 &  5 & 0.05813953 & 15 & CAS & in & S & ... & 0 & 0 & 0 & 0 & 0 & 0 & 0 & 0 & 0 & 0\\\\\n",
       "\\end{tabular}\n"
      ],
      "text/markdown": [
       "\n",
       "A data.frame: 6 x 1845\n",
       "\n",
       "| <!--/--> | basename &lt;chr&gt; | aaSeqCDR3 &lt;chr&gt; | TRBV &lt;chr&gt; | TRBJ &lt;chr&gt; | cloneCount &lt;int&gt; | cloneFraction &lt;dbl&gt; | length &lt;int&gt; | Vmotif &lt;chr&gt; | frame_type &lt;chr&gt; | p107 &lt;chr&gt; | ... ... | p114_is_M &lt;dbl&gt; | p114_is_N &lt;dbl&gt; | p114_is_P &lt;dbl&gt; | p114_is_Q &lt;dbl&gt; | p114_is_R &lt;dbl&gt; | p114_is_S &lt;dbl&gt; | p114_is_T &lt;dbl&gt; | p114_is_V &lt;dbl&gt; | p114_is_W &lt;dbl&gt; | p114_is_Y &lt;dbl&gt; |\n",
       "|---|---|---|---|---|---|---|---|---|---|---|---|---|---|---|---|---|---|---|---|---|---|\n",
       "| 1 | CHP_319-05-PBMC-DNA | CASRERIAPGNTIYF  | TRBV6-5  | TRBJ1-3 | 13 | 0.15116279 | 15 | CAS | in | R | ... | 0 | 1 | 0 | 0 | 0 | 0 | 0 | 0 | 0 | 0 |\n",
       "| 2 | CHP_319-05-PBMC-DNA | CSARDRTGMSTDTQYF | TRBV20-1 | TRBJ2-3 | 11 | 0.12790698 | 16 | CSA | in | R | ... | 0 | 0 | 0 | 0 | 0 | 0 | 0 | 0 | 0 | 0 |\n",
       "| 3 | CHP_319-05-PBMC-DNA | CASRLGTGHENTEAFF | TRBV19   | TRBJ1-1 |  9 | 0.10465116 | 16 | CAS | in | R | ... | 0 | 0 | 0 | 0 | 0 | 0 | 1 | 0 | 0 | 0 |\n",
       "| 4 | CHP_319-05-PBMC-DNA | CATSRDWTVSYEQYF  | TRBV15   | TRBJ2-7 |  9 | 0.10465116 | 15 | CAT | in | S | ... | 0 | 0 | 0 | 0 | 0 | 0 | 0 | 0 | 0 | 1 |\n",
       "| 5 | CHP_319-05-PBMC-DNA | CASSRNRVRYGYTF   | TRBV11-2 | TRBJ1-2 |  6 | 0.06976744 | 14 | CAS | in | S | ... | 0 | 0 | 0 | 0 | 0 | 0 | 0 | 0 | 0 | 1 |\n",
       "| 8 | CHP_319-05-PBMC-DNA | CASSLTGGEYAEQYF  | TRBV7-2  | TRBJ2-7 |  5 | 0.05813953 | 15 | CAS | in | S | ... | 0 | 0 | 0 | 0 | 0 | 0 | 0 | 0 | 0 | 0 |\n",
       "\n"
      ],
      "text/plain": [
       "  basename            aaSeqCDR3        TRBV     TRBJ    cloneCount\n",
       "1 CHP_319-05-PBMC-DNA CASRERIAPGNTIYF  TRBV6-5  TRBJ1-3 13        \n",
       "2 CHP_319-05-PBMC-DNA CSARDRTGMSTDTQYF TRBV20-1 TRBJ2-3 11        \n",
       "3 CHP_319-05-PBMC-DNA CASRLGTGHENTEAFF TRBV19   TRBJ1-1  9        \n",
       "4 CHP_319-05-PBMC-DNA CATSRDWTVSYEQYF  TRBV15   TRBJ2-7  9        \n",
       "5 CHP_319-05-PBMC-DNA CASSRNRVRYGYTF   TRBV11-2 TRBJ1-2  6        \n",
       "8 CHP_319-05-PBMC-DNA CASSLTGGEYAEQYF  TRBV7-2  TRBJ2-7  5        \n",
       "  cloneFraction length Vmotif frame_type p107 ... p114_is_M p114_is_N p114_is_P\n",
       "1 0.15116279    15     CAS    in         R    ... 0         1         0        \n",
       "2 0.12790698    16     CSA    in         R    ... 0         0         0        \n",
       "3 0.10465116    16     CAS    in         R    ... 0         0         0        \n",
       "4 0.10465116    15     CAT    in         S    ... 0         0         0        \n",
       "5 0.06976744    14     CAS    in         S    ... 0         0         0        \n",
       "8 0.05813953    15     CAS    in         S    ... 0         0         0        \n",
       "  p114_is_Q p114_is_R p114_is_S p114_is_T p114_is_V p114_is_W p114_is_Y\n",
       "1 0         0         0         0         0         0         0        \n",
       "2 0         0         0         0         0         0         0        \n",
       "3 0         0         0         1         0         0         0        \n",
       "4 0         0         0         0         0         0         1        \n",
       "5 0         0         0         0         0         0         1        \n",
       "8 0         0         0         0         0         0         0        "
      ]
     },
     "metadata": {},
     "output_type": "display_data"
    }
   ],
   "source": [
    "head(onefle_ohe_seqdat)"
   ]
  },
  {
   "cell_type": "code",
   "execution_count": 46,
   "metadata": {
    "vscode": {
     "languageId": "r"
    }
   },
   "outputs": [],
   "source": [
    "dat$basename <- rownames(dat)"
   ]
  },
  {
   "cell_type": "code",
   "execution_count": 47,
   "metadata": {
    "vscode": {
     "languageId": "r"
    }
   },
   "outputs": [
    {
     "data": {
      "text/html": [
       "<style>\n",
       ".list-inline {list-style: none; margin:0; padding: 0}\n",
       ".list-inline>li {display: inline-block}\n",
       ".list-inline>li:not(:last-child)::after {content: \"\\00b7\"; padding: 0 .5ex}\n",
       "</style>\n",
       "<ol class=list-inline><li>'TE_fold'</li><li>'Relapse'</li><li>'ATC'</li><li>'Age'</li><li>'EM'</li><li>'CM'</li><li>'Naive'</li><li>'SCM'</li><li>'TE'</li><li>'PD1'</li><li>'LAG3'</li><li>'TIM3'</li><li>'cycle_is_X01'</li><li>'cycle_is_X02'</li><li>'cycle_is_X03'</li><li>'cycle_is_X04'</li><li>'cycle_is_X05'</li><li>'Disease_type_is_ALCL'</li><li>'Disease_type_is_ALL'</li><li>'Disease_type_is_AML'</li><li>'Disease_type_is_ARMS'</li><li>'Disease_type_is_BL'</li><li>'Disease_type_is_BLL'</li><li>'Disease_type_is_CML'</li><li>'Disease_type_is_DLBCL'</li><li>'Disease_type_is_ERMS'</li><li>'Disease_type_is_EWS'</li><li>'Disease_type_is_HB'</li><li>'Disease_type_is_HD'</li><li>'Disease_type_is_HR ALL'</li><li>'Disease_type_is_MS NB'</li><li>'Disease_type_is_NB'</li><li>'Disease_type_is_OS'</li><li>'Disease_type_is_PMBCL'</li><li>'Disease_type_is_SR ALL'</li><li>'Disease_type_is_T-ALL'</li><li>'Disease_type_is_WILMS'</li><li>'cancergroup_is_Leukemia'</li><li>'cancergroup_is_Lymphoma'</li><li>'cancergroup_is_Solid tumors'</li><li>'cancergroup_is_T-cell malignancies'</li><li>'sampletype_is_cfDNA'</li><li>'sampletype_is_PBMC'</li><li>'foldgroup_is_High'</li><li>'foldgroup_is_Indeterminate'</li><li>'foldgroup_is_Low'</li><li>'basename'</li></ol>\n"
      ],
      "text/latex": [
       "\\begin{enumerate*}\n",
       "\\item 'TE\\_fold'\n",
       "\\item 'Relapse'\n",
       "\\item 'ATC'\n",
       "\\item 'Age'\n",
       "\\item 'EM'\n",
       "\\item 'CM'\n",
       "\\item 'Naive'\n",
       "\\item 'SCM'\n",
       "\\item 'TE'\n",
       "\\item 'PD1'\n",
       "\\item 'LAG3'\n",
       "\\item 'TIM3'\n",
       "\\item 'cycle\\_is\\_X01'\n",
       "\\item 'cycle\\_is\\_X02'\n",
       "\\item 'cycle\\_is\\_X03'\n",
       "\\item 'cycle\\_is\\_X04'\n",
       "\\item 'cycle\\_is\\_X05'\n",
       "\\item 'Disease\\_type\\_is\\_ALCL'\n",
       "\\item 'Disease\\_type\\_is\\_ALL'\n",
       "\\item 'Disease\\_type\\_is\\_AML'\n",
       "\\item 'Disease\\_type\\_is\\_ARMS'\n",
       "\\item 'Disease\\_type\\_is\\_BL'\n",
       "\\item 'Disease\\_type\\_is\\_BLL'\n",
       "\\item 'Disease\\_type\\_is\\_CML'\n",
       "\\item 'Disease\\_type\\_is\\_DLBCL'\n",
       "\\item 'Disease\\_type\\_is\\_ERMS'\n",
       "\\item 'Disease\\_type\\_is\\_EWS'\n",
       "\\item 'Disease\\_type\\_is\\_HB'\n",
       "\\item 'Disease\\_type\\_is\\_HD'\n",
       "\\item 'Disease\\_type\\_is\\_HR ALL'\n",
       "\\item 'Disease\\_type\\_is\\_MS NB'\n",
       "\\item 'Disease\\_type\\_is\\_NB'\n",
       "\\item 'Disease\\_type\\_is\\_OS'\n",
       "\\item 'Disease\\_type\\_is\\_PMBCL'\n",
       "\\item 'Disease\\_type\\_is\\_SR ALL'\n",
       "\\item 'Disease\\_type\\_is\\_T-ALL'\n",
       "\\item 'Disease\\_type\\_is\\_WILMS'\n",
       "\\item 'cancergroup\\_is\\_Leukemia'\n",
       "\\item 'cancergroup\\_is\\_Lymphoma'\n",
       "\\item 'cancergroup\\_is\\_Solid tumors'\n",
       "\\item 'cancergroup\\_is\\_T-cell malignancies'\n",
       "\\item 'sampletype\\_is\\_cfDNA'\n",
       "\\item 'sampletype\\_is\\_PBMC'\n",
       "\\item 'foldgroup\\_is\\_High'\n",
       "\\item 'foldgroup\\_is\\_Indeterminate'\n",
       "\\item 'foldgroup\\_is\\_Low'\n",
       "\\item 'basename'\n",
       "\\end{enumerate*}\n"
      ],
      "text/markdown": [
       "1. 'TE_fold'\n",
       "2. 'Relapse'\n",
       "3. 'ATC'\n",
       "4. 'Age'\n",
       "5. 'EM'\n",
       "6. 'CM'\n",
       "7. 'Naive'\n",
       "8. 'SCM'\n",
       "9. 'TE'\n",
       "10. 'PD1'\n",
       "11. 'LAG3'\n",
       "12. 'TIM3'\n",
       "13. 'cycle_is_X01'\n",
       "14. 'cycle_is_X02'\n",
       "15. 'cycle_is_X03'\n",
       "16. 'cycle_is_X04'\n",
       "17. 'cycle_is_X05'\n",
       "18. 'Disease_type_is_ALCL'\n",
       "19. 'Disease_type_is_ALL'\n",
       "20. 'Disease_type_is_AML'\n",
       "21. 'Disease_type_is_ARMS'\n",
       "22. 'Disease_type_is_BL'\n",
       "23. 'Disease_type_is_BLL'\n",
       "24. 'Disease_type_is_CML'\n",
       "25. 'Disease_type_is_DLBCL'\n",
       "26. 'Disease_type_is_ERMS'\n",
       "27. 'Disease_type_is_EWS'\n",
       "28. 'Disease_type_is_HB'\n",
       "29. 'Disease_type_is_HD'\n",
       "30. 'Disease_type_is_HR ALL'\n",
       "31. 'Disease_type_is_MS NB'\n",
       "32. 'Disease_type_is_NB'\n",
       "33. 'Disease_type_is_OS'\n",
       "34. 'Disease_type_is_PMBCL'\n",
       "35. 'Disease_type_is_SR ALL'\n",
       "36. 'Disease_type_is_T-ALL'\n",
       "37. 'Disease_type_is_WILMS'\n",
       "38. 'cancergroup_is_Leukemia'\n",
       "39. 'cancergroup_is_Lymphoma'\n",
       "40. 'cancergroup_is_Solid tumors'\n",
       "41. 'cancergroup_is_T-cell malignancies'\n",
       "42. 'sampletype_is_cfDNA'\n",
       "43. 'sampletype_is_PBMC'\n",
       "44. 'foldgroup_is_High'\n",
       "45. 'foldgroup_is_Indeterminate'\n",
       "46. 'foldgroup_is_Low'\n",
       "47. 'basename'\n",
       "\n",
       "\n"
      ],
      "text/plain": [
       " [1] \"TE_fold\"                            \"Relapse\"                           \n",
       " [3] \"ATC\"                                \"Age\"                               \n",
       " [5] \"EM\"                                 \"CM\"                                \n",
       " [7] \"Naive\"                              \"SCM\"                               \n",
       " [9] \"TE\"                                 \"PD1\"                               \n",
       "[11] \"LAG3\"                               \"TIM3\"                              \n",
       "[13] \"cycle_is_X01\"                       \"cycle_is_X02\"                      \n",
       "[15] \"cycle_is_X03\"                       \"cycle_is_X04\"                      \n",
       "[17] \"cycle_is_X05\"                       \"Disease_type_is_ALCL\"              \n",
       "[19] \"Disease_type_is_ALL\"                \"Disease_type_is_AML\"               \n",
       "[21] \"Disease_type_is_ARMS\"               \"Disease_type_is_BL\"                \n",
       "[23] \"Disease_type_is_BLL\"                \"Disease_type_is_CML\"               \n",
       "[25] \"Disease_type_is_DLBCL\"              \"Disease_type_is_ERMS\"              \n",
       "[27] \"Disease_type_is_EWS\"                \"Disease_type_is_HB\"                \n",
       "[29] \"Disease_type_is_HD\"                 \"Disease_type_is_HR ALL\"            \n",
       "[31] \"Disease_type_is_MS NB\"              \"Disease_type_is_NB\"                \n",
       "[33] \"Disease_type_is_OS\"                 \"Disease_type_is_PMBCL\"             \n",
       "[35] \"Disease_type_is_SR ALL\"             \"Disease_type_is_T-ALL\"             \n",
       "[37] \"Disease_type_is_WILMS\"              \"cancergroup_is_Leukemia\"           \n",
       "[39] \"cancergroup_is_Lymphoma\"            \"cancergroup_is_Solid tumors\"       \n",
       "[41] \"cancergroup_is_T-cell malignancies\" \"sampletype_is_cfDNA\"               \n",
       "[43] \"sampletype_is_PBMC\"                 \"foldgroup_is_High\"                 \n",
       "[45] \"foldgroup_is_Indeterminate\"         \"foldgroup_is_Low\"                  \n",
       "[47] \"basename\"                          "
      ]
     },
     "metadata": {},
     "output_type": "display_data"
    }
   ],
   "source": [
    "colnames(dat)"
   ]
  },
  {
   "cell_type": "markdown",
   "metadata": {},
   "source": [
    "# merge phenodata and seq"
   ]
  },
  {
   "cell_type": "code",
   "execution_count": 9,
   "metadata": {
    "vscode": {
     "languageId": "r"
    }
   },
   "outputs": [],
   "source": [
    "dat <- readr::read_rds(paste0(datapath, \"ML/int_metadat.rds\"))"
   ]
  },
  {
   "cell_type": "code",
   "execution_count": 10,
   "metadata": {
    "vscode": {
     "languageId": "r"
    }
   },
   "outputs": [],
   "source": [
    "onefle_ohe_seqdat <- readr::read_rds( paste0(datapath, \"ML/\", \"int_ohe_trbseq.rds\") )"
   ]
  },
  {
   "cell_type": "code",
   "execution_count": 11,
   "metadata": {
    "vscode": {
     "languageId": "r"
    }
   },
   "outputs": [],
   "source": [
    "dat$basename <- rownames(dat)"
   ]
  },
  {
   "cell_type": "code",
   "execution_count": 86,
   "metadata": {
    "vscode": {
     "languageId": "r"
    }
   },
   "outputs": [],
   "source": [
    "merge_m <- merge(dat, onefle_ohe_seqdat, by = \"basename\")"
   ]
  },
  {
   "cell_type": "code",
   "execution_count": 87,
   "metadata": {
    "vscode": {
     "languageId": "r"
    }
   },
   "outputs": [
    {
     "data": {
      "text/html": [
       "<style>\n",
       ".list-inline {list-style: none; margin:0; padding: 0}\n",
       ".list-inline>li {display: inline-block}\n",
       ".list-inline>li:not(:last-child)::after {content: \"\\00b7\"; padding: 0 .5ex}\n",
       "</style>\n",
       "<ol class=list-inline><li>'Vmotif_is_**L'</li><li>'Vmotif_is_*AS'</li><li>'Vmotif_is_*GQ'</li><li>'Vmotif_is_*GT'</li><li>'Vmotif_is_*KR'</li><li>'Vmotif_is_*QL'</li><li>'Vmotif_is_*SA'</li><li>'Vmotif_is_*SE'</li><li>'Vmotif_is_*SL'</li><li>'Vmotif_is_*SS'</li><li>'Jmotif_is_**AFF'</li><li>'Jmotif_is_*DQYF'</li><li>'Jmotif_is_*EAFF'</li><li>'Jmotif_is_*ELFF'</li><li>'Jmotif_is_*EQFF'</li><li>'Jmotif_is_*EQYF'</li><li>'Jmotif_is_*EQYS'</li><li>'Jmotif_is_*GEFF'</li><li>'Jmotif_is_*GLFF'</li><li>'Jmotif_is_*GQYF'</li><li>'Jmotif_is_*GSFF'</li><li>'Jmotif_is_*GYTF'</li><li>'Jmotif_is_*GYTL'</li><li>'Jmotif_is_*KLFF'</li><li>'Jmotif_is_*KQFF'</li><li>'Jmotif_is_*KQYF'</li><li>'Jmotif_is_*KTVF'</li><li>'Jmotif_is_*PLHF'</li><li>'Jmotif_is_*PQHF'</li><li>'Jmotif_is_*QQYF'</li><li>'Jmotif_is_*RAQG'</li><li>'Jmotif_is_*SKYF'</li><li>'Jmotif_is_*SQYF'</li><li>'Jmotif_is_*SYTF'</li><li>'Jmotif_is_*TQHF'</li><li>'Jmotif_is_*TQYF'</li><li>'Jmotif_is_*VAFF'</li><li>'p107_is_*'</li><li>'p108_is_*'</li><li>'p109_is_*'</li><li>'p110_is_*'</li><li>'p111_is_*'</li><li>'p111.1_is_*'</li><li>'p112.1_is_*'</li><li>'p112_is_*'</li><li>'p113_is_*'</li><li>'p114_is_*'</li></ol>\n"
      ],
      "text/latex": [
       "\\begin{enumerate*}\n",
       "\\item 'Vmotif\\_is\\_**L'\n",
       "\\item 'Vmotif\\_is\\_*AS'\n",
       "\\item 'Vmotif\\_is\\_*GQ'\n",
       "\\item 'Vmotif\\_is\\_*GT'\n",
       "\\item 'Vmotif\\_is\\_*KR'\n",
       "\\item 'Vmotif\\_is\\_*QL'\n",
       "\\item 'Vmotif\\_is\\_*SA'\n",
       "\\item 'Vmotif\\_is\\_*SE'\n",
       "\\item 'Vmotif\\_is\\_*SL'\n",
       "\\item 'Vmotif\\_is\\_*SS'\n",
       "\\item 'Jmotif\\_is\\_**AFF'\n",
       "\\item 'Jmotif\\_is\\_*DQYF'\n",
       "\\item 'Jmotif\\_is\\_*EAFF'\n",
       "\\item 'Jmotif\\_is\\_*ELFF'\n",
       "\\item 'Jmotif\\_is\\_*EQFF'\n",
       "\\item 'Jmotif\\_is\\_*EQYF'\n",
       "\\item 'Jmotif\\_is\\_*EQYS'\n",
       "\\item 'Jmotif\\_is\\_*GEFF'\n",
       "\\item 'Jmotif\\_is\\_*GLFF'\n",
       "\\item 'Jmotif\\_is\\_*GQYF'\n",
       "\\item 'Jmotif\\_is\\_*GSFF'\n",
       "\\item 'Jmotif\\_is\\_*GYTF'\n",
       "\\item 'Jmotif\\_is\\_*GYTL'\n",
       "\\item 'Jmotif\\_is\\_*KLFF'\n",
       "\\item 'Jmotif\\_is\\_*KQFF'\n",
       "\\item 'Jmotif\\_is\\_*KQYF'\n",
       "\\item 'Jmotif\\_is\\_*KTVF'\n",
       "\\item 'Jmotif\\_is\\_*PLHF'\n",
       "\\item 'Jmotif\\_is\\_*PQHF'\n",
       "\\item 'Jmotif\\_is\\_*QQYF'\n",
       "\\item 'Jmotif\\_is\\_*RAQG'\n",
       "\\item 'Jmotif\\_is\\_*SKYF'\n",
       "\\item 'Jmotif\\_is\\_*SQYF'\n",
       "\\item 'Jmotif\\_is\\_*SYTF'\n",
       "\\item 'Jmotif\\_is\\_*TQHF'\n",
       "\\item 'Jmotif\\_is\\_*TQYF'\n",
       "\\item 'Jmotif\\_is\\_*VAFF'\n",
       "\\item 'p107\\_is\\_*'\n",
       "\\item 'p108\\_is\\_*'\n",
       "\\item 'p109\\_is\\_*'\n",
       "\\item 'p110\\_is\\_*'\n",
       "\\item 'p111\\_is\\_*'\n",
       "\\item 'p111.1\\_is\\_*'\n",
       "\\item 'p112.1\\_is\\_*'\n",
       "\\item 'p112\\_is\\_*'\n",
       "\\item 'p113\\_is\\_*'\n",
       "\\item 'p114\\_is\\_*'\n",
       "\\end{enumerate*}\n"
      ],
      "text/markdown": [
       "1. 'Vmotif_is_**L'\n",
       "2. 'Vmotif_is_*AS'\n",
       "3. 'Vmotif_is_*GQ'\n",
       "4. 'Vmotif_is_*GT'\n",
       "5. 'Vmotif_is_*KR'\n",
       "6. 'Vmotif_is_*QL'\n",
       "7. 'Vmotif_is_*SA'\n",
       "8. 'Vmotif_is_*SE'\n",
       "9. 'Vmotif_is_*SL'\n",
       "10. 'Vmotif_is_*SS'\n",
       "11. 'Jmotif_is_**AFF'\n",
       "12. 'Jmotif_is_*DQYF'\n",
       "13. 'Jmotif_is_*EAFF'\n",
       "14. 'Jmotif_is_*ELFF'\n",
       "15. 'Jmotif_is_*EQFF'\n",
       "16. 'Jmotif_is_*EQYF'\n",
       "17. 'Jmotif_is_*EQYS'\n",
       "18. 'Jmotif_is_*GEFF'\n",
       "19. 'Jmotif_is_*GLFF'\n",
       "20. 'Jmotif_is_*GQYF'\n",
       "21. 'Jmotif_is_*GSFF'\n",
       "22. 'Jmotif_is_*GYTF'\n",
       "23. 'Jmotif_is_*GYTL'\n",
       "24. 'Jmotif_is_*KLFF'\n",
       "25. 'Jmotif_is_*KQFF'\n",
       "26. 'Jmotif_is_*KQYF'\n",
       "27. 'Jmotif_is_*KTVF'\n",
       "28. 'Jmotif_is_*PLHF'\n",
       "29. 'Jmotif_is_*PQHF'\n",
       "30. 'Jmotif_is_*QQYF'\n",
       "31. 'Jmotif_is_*RAQG'\n",
       "32. 'Jmotif_is_*SKYF'\n",
       "33. 'Jmotif_is_*SQYF'\n",
       "34. 'Jmotif_is_*SYTF'\n",
       "35. 'Jmotif_is_*TQHF'\n",
       "36. 'Jmotif_is_*TQYF'\n",
       "37. 'Jmotif_is_*VAFF'\n",
       "38. 'p107_is_*'\n",
       "39. 'p108_is_*'\n",
       "40. 'p109_is_*'\n",
       "41. 'p110_is_*'\n",
       "42. 'p111_is_*'\n",
       "43. 'p111.1_is_*'\n",
       "44. 'p112.1_is_*'\n",
       "45. 'p112_is_*'\n",
       "46. 'p113_is_*'\n",
       "47. 'p114_is_*'\n",
       "\n",
       "\n"
      ],
      "text/plain": [
       " [1] \"Vmotif_is_**L\"   \"Vmotif_is_*AS\"   \"Vmotif_is_*GQ\"   \"Vmotif_is_*GT\"  \n",
       " [5] \"Vmotif_is_*KR\"   \"Vmotif_is_*QL\"   \"Vmotif_is_*SA\"   \"Vmotif_is_*SE\"  \n",
       " [9] \"Vmotif_is_*SL\"   \"Vmotif_is_*SS\"   \"Jmotif_is_**AFF\" \"Jmotif_is_*DQYF\"\n",
       "[13] \"Jmotif_is_*EAFF\" \"Jmotif_is_*ELFF\" \"Jmotif_is_*EQFF\" \"Jmotif_is_*EQYF\"\n",
       "[17] \"Jmotif_is_*EQYS\" \"Jmotif_is_*GEFF\" \"Jmotif_is_*GLFF\" \"Jmotif_is_*GQYF\"\n",
       "[21] \"Jmotif_is_*GSFF\" \"Jmotif_is_*GYTF\" \"Jmotif_is_*GYTL\" \"Jmotif_is_*KLFF\"\n",
       "[25] \"Jmotif_is_*KQFF\" \"Jmotif_is_*KQYF\" \"Jmotif_is_*KTVF\" \"Jmotif_is_*PLHF\"\n",
       "[29] \"Jmotif_is_*PQHF\" \"Jmotif_is_*QQYF\" \"Jmotif_is_*RAQG\" \"Jmotif_is_*SKYF\"\n",
       "[33] \"Jmotif_is_*SQYF\" \"Jmotif_is_*SYTF\" \"Jmotif_is_*TQHF\" \"Jmotif_is_*TQYF\"\n",
       "[37] \"Jmotif_is_*VAFF\" \"p107_is_*\"       \"p108_is_*\"       \"p109_is_*\"      \n",
       "[41] \"p110_is_*\"       \"p111_is_*\"       \"p111.1_is_*\"     \"p112.1_is_*\"    \n",
       "[45] \"p112_is_*\"       \"p113_is_*\"       \"p114_is_*\"      "
      ]
     },
     "metadata": {},
     "output_type": "display_data"
    }
   ],
   "source": [
    "colnames(merge_m[, grepl(\"_is_\\\\*\", colnames(merge_m))])"
   ]
  },
  {
   "cell_type": "code",
   "execution_count": 88,
   "metadata": {
    "vscode": {
     "languageId": "r"
    }
   },
   "outputs": [],
   "source": [
    "# remove columns with _is_*\n",
    "merge_m <- merge_m[, !grepl(\"_is__\", colnames(merge_m))]\n",
    "merge_m <- merge_m[, !grepl(\"_is_\\\\*\", colnames(merge_m))]"
   ]
  },
  {
   "cell_type": "code",
   "execution_count": 89,
   "metadata": {
    "vscode": {
     "languageId": "r"
    }
   },
   "outputs": [
    {
     "data": {
      "text/html": [
       "<table class=\"dataframe\">\n",
       "<caption>A data.frame: 6 x 1838</caption>\n",
       "<thead>\n",
       "\t<tr><th></th><th scope=col>basename</th><th scope=col>TE_fold</th><th scope=col>Relapse</th><th scope=col>ATC</th><th scope=col>Age</th><th scope=col>EM</th><th scope=col>CM</th><th scope=col>Naive</th><th scope=col>SCM</th><th scope=col>TE</th><th scope=col>...</th><th scope=col>p114_is_M</th><th scope=col>p114_is_N</th><th scope=col>p114_is_P</th><th scope=col>p114_is_Q</th><th scope=col>p114_is_R</th><th scope=col>p114_is_S</th><th scope=col>p114_is_T</th><th scope=col>p114_is_V</th><th scope=col>p114_is_W</th><th scope=col>p114_is_Y</th></tr>\n",
       "\t<tr><th></th><th scope=col>&lt;chr&gt;</th><th scope=col>&lt;dbl&gt;</th><th scope=col>&lt;int&gt;</th><th scope=col>&lt;dbl&gt;</th><th scope=col>&lt;dbl&gt;</th><th scope=col>&lt;dbl&gt;</th><th scope=col>&lt;dbl&gt;</th><th scope=col>&lt;dbl&gt;</th><th scope=col>&lt;dbl&gt;</th><th scope=col>&lt;dbl&gt;</th><th scope=col>...</th><th scope=col>&lt;dbl&gt;</th><th scope=col>&lt;dbl&gt;</th><th scope=col>&lt;dbl&gt;</th><th scope=col>&lt;dbl&gt;</th><th scope=col>&lt;dbl&gt;</th><th scope=col>&lt;dbl&gt;</th><th scope=col>&lt;dbl&gt;</th><th scope=col>&lt;dbl&gt;</th><th scope=col>&lt;dbl&gt;</th><th scope=col>&lt;dbl&gt;</th></tr>\n",
       "</thead>\n",
       "<tbody>\n",
       "\t<tr><th scope=row>1</th><td>CHP_319-05-PBMC-DNA</td><td>1.2</td><td>1</td><td>0</td><td>1</td><td>NA</td><td>NA</td><td>NA</td><td>NA</td><td>NA</td><td>...</td><td>0</td><td>1</td><td>0</td><td>0</td><td>0</td><td>0</td><td>0</td><td>0</td><td>0</td><td>0</td></tr>\n",
       "\t<tr><th scope=row>2</th><td>CHP_319-05-PBMC-DNA</td><td>1.2</td><td>1</td><td>0</td><td>1</td><td>NA</td><td>NA</td><td>NA</td><td>NA</td><td>NA</td><td>...</td><td>0</td><td>0</td><td>0</td><td>0</td><td>0</td><td>0</td><td>0</td><td>0</td><td>0</td><td>0</td></tr>\n",
       "\t<tr><th scope=row>3</th><td>CHP_319-05-PBMC-DNA</td><td>1.2</td><td>1</td><td>0</td><td>1</td><td>NA</td><td>NA</td><td>NA</td><td>NA</td><td>NA</td><td>...</td><td>0</td><td>0</td><td>0</td><td>0</td><td>0</td><td>0</td><td>1</td><td>0</td><td>0</td><td>0</td></tr>\n",
       "\t<tr><th scope=row>4</th><td>CHP_319-05-PBMC-DNA</td><td>1.2</td><td>1</td><td>0</td><td>1</td><td>NA</td><td>NA</td><td>NA</td><td>NA</td><td>NA</td><td>...</td><td>0</td><td>0</td><td>0</td><td>0</td><td>0</td><td>0</td><td>0</td><td>0</td><td>0</td><td>1</td></tr>\n",
       "\t<tr><th scope=row>5</th><td>CHP_319-05-PBMC-DNA</td><td>1.2</td><td>1</td><td>0</td><td>1</td><td>NA</td><td>NA</td><td>NA</td><td>NA</td><td>NA</td><td>...</td><td>0</td><td>0</td><td>0</td><td>0</td><td>0</td><td>0</td><td>0</td><td>0</td><td>0</td><td>1</td></tr>\n",
       "\t<tr><th scope=row>6</th><td>CHP_319-05-PBMC-DNA</td><td>1.2</td><td>1</td><td>0</td><td>1</td><td>NA</td><td>NA</td><td>NA</td><td>NA</td><td>NA</td><td>...</td><td>0</td><td>0</td><td>0</td><td>0</td><td>0</td><td>0</td><td>0</td><td>0</td><td>0</td><td>0</td></tr>\n",
       "</tbody>\n",
       "</table>\n"
      ],
      "text/latex": [
       "A data.frame: 6 x 1838\n",
       "\\begin{tabular}{r|lllllllllllllllllllll}\n",
       "  & basename & TE\\_fold & Relapse & ATC & Age & EM & CM & Naive & SCM & TE & ... & p114\\_is\\_M & p114\\_is\\_N & p114\\_is\\_P & p114\\_is\\_Q & p114\\_is\\_R & p114\\_is\\_S & p114\\_is\\_T & p114\\_is\\_V & p114\\_is\\_W & p114\\_is\\_Y\\\\\n",
       "  & <chr> & <dbl> & <int> & <dbl> & <dbl> & <dbl> & <dbl> & <dbl> & <dbl> & <dbl> & ... & <dbl> & <dbl> & <dbl> & <dbl> & <dbl> & <dbl> & <dbl> & <dbl> & <dbl> & <dbl>\\\\\n",
       "\\hline\n",
       "\t1 & CHP\\_319-05-PBMC-DNA & 1.2 & 1 & 0 & 1 & NA & NA & NA & NA & NA & ... & 0 & 1 & 0 & 0 & 0 & 0 & 0 & 0 & 0 & 0\\\\\n",
       "\t2 & CHP\\_319-05-PBMC-DNA & 1.2 & 1 & 0 & 1 & NA & NA & NA & NA & NA & ... & 0 & 0 & 0 & 0 & 0 & 0 & 0 & 0 & 0 & 0\\\\\n",
       "\t3 & CHP\\_319-05-PBMC-DNA & 1.2 & 1 & 0 & 1 & NA & NA & NA & NA & NA & ... & 0 & 0 & 0 & 0 & 0 & 0 & 1 & 0 & 0 & 0\\\\\n",
       "\t4 & CHP\\_319-05-PBMC-DNA & 1.2 & 1 & 0 & 1 & NA & NA & NA & NA & NA & ... & 0 & 0 & 0 & 0 & 0 & 0 & 0 & 0 & 0 & 1\\\\\n",
       "\t5 & CHP\\_319-05-PBMC-DNA & 1.2 & 1 & 0 & 1 & NA & NA & NA & NA & NA & ... & 0 & 0 & 0 & 0 & 0 & 0 & 0 & 0 & 0 & 1\\\\\n",
       "\t6 & CHP\\_319-05-PBMC-DNA & 1.2 & 1 & 0 & 1 & NA & NA & NA & NA & NA & ... & 0 & 0 & 0 & 0 & 0 & 0 & 0 & 0 & 0 & 0\\\\\n",
       "\\end{tabular}\n"
      ],
      "text/markdown": [
       "\n",
       "A data.frame: 6 x 1838\n",
       "\n",
       "| <!--/--> | basename &lt;chr&gt; | TE_fold &lt;dbl&gt; | Relapse &lt;int&gt; | ATC &lt;dbl&gt; | Age &lt;dbl&gt; | EM &lt;dbl&gt; | CM &lt;dbl&gt; | Naive &lt;dbl&gt; | SCM &lt;dbl&gt; | TE &lt;dbl&gt; | ... ... | p114_is_M &lt;dbl&gt; | p114_is_N &lt;dbl&gt; | p114_is_P &lt;dbl&gt; | p114_is_Q &lt;dbl&gt; | p114_is_R &lt;dbl&gt; | p114_is_S &lt;dbl&gt; | p114_is_T &lt;dbl&gt; | p114_is_V &lt;dbl&gt; | p114_is_W &lt;dbl&gt; | p114_is_Y &lt;dbl&gt; |\n",
       "|---|---|---|---|---|---|---|---|---|---|---|---|---|---|---|---|---|---|---|---|---|---|\n",
       "| 1 | CHP_319-05-PBMC-DNA | 1.2 | 1 | 0 | 1 | NA | NA | NA | NA | NA | ... | 0 | 1 | 0 | 0 | 0 | 0 | 0 | 0 | 0 | 0 |\n",
       "| 2 | CHP_319-05-PBMC-DNA | 1.2 | 1 | 0 | 1 | NA | NA | NA | NA | NA | ... | 0 | 0 | 0 | 0 | 0 | 0 | 0 | 0 | 0 | 0 |\n",
       "| 3 | CHP_319-05-PBMC-DNA | 1.2 | 1 | 0 | 1 | NA | NA | NA | NA | NA | ... | 0 | 0 | 0 | 0 | 0 | 0 | 1 | 0 | 0 | 0 |\n",
       "| 4 | CHP_319-05-PBMC-DNA | 1.2 | 1 | 0 | 1 | NA | NA | NA | NA | NA | ... | 0 | 0 | 0 | 0 | 0 | 0 | 0 | 0 | 0 | 1 |\n",
       "| 5 | CHP_319-05-PBMC-DNA | 1.2 | 1 | 0 | 1 | NA | NA | NA | NA | NA | ... | 0 | 0 | 0 | 0 | 0 | 0 | 0 | 0 | 0 | 1 |\n",
       "| 6 | CHP_319-05-PBMC-DNA | 1.2 | 1 | 0 | 1 | NA | NA | NA | NA | NA | ... | 0 | 0 | 0 | 0 | 0 | 0 | 0 | 0 | 0 | 0 |\n",
       "\n"
      ],
      "text/plain": [
       "  basename            TE_fold Relapse ATC Age EM CM Naive SCM TE ... p114_is_M\n",
       "1 CHP_319-05-PBMC-DNA 1.2     1       0   1   NA NA NA    NA  NA ... 0        \n",
       "2 CHP_319-05-PBMC-DNA 1.2     1       0   1   NA NA NA    NA  NA ... 0        \n",
       "3 CHP_319-05-PBMC-DNA 1.2     1       0   1   NA NA NA    NA  NA ... 0        \n",
       "4 CHP_319-05-PBMC-DNA 1.2     1       0   1   NA NA NA    NA  NA ... 0        \n",
       "5 CHP_319-05-PBMC-DNA 1.2     1       0   1   NA NA NA    NA  NA ... 0        \n",
       "6 CHP_319-05-PBMC-DNA 1.2     1       0   1   NA NA NA    NA  NA ... 0        \n",
       "  p114_is_N p114_is_P p114_is_Q p114_is_R p114_is_S p114_is_T p114_is_V\n",
       "1 1         0         0         0         0         0         0        \n",
       "2 0         0         0         0         0         0         0        \n",
       "3 0         0         0         0         0         1         0        \n",
       "4 0         0         0         0         0         0         0        \n",
       "5 0         0         0         0         0         0         0        \n",
       "6 0         0         0         0         0         0         0        \n",
       "  p114_is_W p114_is_Y\n",
       "1 0         0        \n",
       "2 0         0        \n",
       "3 0         0        \n",
       "4 0         1        \n",
       "5 0         1        \n",
       "6 0         0        "
      ]
     },
     "metadata": {},
     "output_type": "display_data"
    }
   ],
   "source": [
    "head(merge_m)"
   ]
  },
  {
   "cell_type": "code",
   "execution_count": null,
   "metadata": {
    "vscode": {
     "languageId": "r"
    }
   },
   "outputs": [],
   "source": []
  },
  {
   "cell_type": "markdown",
   "metadata": {},
   "source": [
    "add HLA"
   ]
  },
  {
   "cell_type": "code",
   "execution_count": 90,
   "metadata": {
    "vscode": {
     "languageId": "r"
    }
   },
   "outputs": [],
   "source": [
    "allhlas <- readr::read_rds(paste0(datapath, \"/HLA/INT_allHLA_postqc.rds\"))"
   ]
  },
  {
   "cell_type": "code",
   "execution_count": 91,
   "metadata": {
    "vscode": {
     "languageId": "r"
    }
   },
   "outputs": [],
   "source": [
    "colnames(allhlas) <- paste0(\"HLA_\", colnames(allhlas))\n",
    "# remove *\n",
    "colnames(allhlas) <- gsub(\"\\\\*\", \"\", colnames(allhlas))"
   ]
  },
  {
   "cell_type": "code",
   "execution_count": 92,
   "metadata": {
    "vscode": {
     "languageId": "r"
    }
   },
   "outputs": [
    {
     "data": {
      "text/html": [
       "<table class=\"dataframe\">\n",
       "<caption>A data.frame: 6 x 133</caption>\n",
       "<thead>\n",
       "\t<tr><th></th><th scope=col>HLA_A02:01:01</th><th scope=col>HLA_A01:01:01</th><th scope=col>HLA_A11:01:01</th><th scope=col>HLA_A26:01:01</th><th scope=col>HLA_A31:01:02</th><th scope=col>HLA_A03:01:01</th><th scope=col>HLA_A02:05:01</th><th scope=col>HLA_A23:01:01</th><th scope=col>HLA_A24:02:01</th><th scope=col>HLA_A30:01:01</th><th scope=col>...</th><th scope=col>HLA_DRB301:01:02</th><th scope=col>HLA_DRB501:01:01</th><th scope=col>HLA_DRB401:03:01</th><th scope=col>HLA_DRB303:01:01</th><th scope=col>HLA_DRB401:01:01</th><th scope=col>HLA_DRB301:62:01</th><th scope=col>HLA_DRB401:03:02</th><th scope=col>HLA_DRB502:02:01</th><th scope=col>HLA_DRB501:02:01</th><th scope=col>HLA_DRB401:03:01:02N</th></tr>\n",
       "\t<tr><th></th><th scope=col>&lt;int&gt;</th><th scope=col>&lt;int&gt;</th><th scope=col>&lt;int&gt;</th><th scope=col>&lt;int&gt;</th><th scope=col>&lt;int&gt;</th><th scope=col>&lt;int&gt;</th><th scope=col>&lt;int&gt;</th><th scope=col>&lt;int&gt;</th><th scope=col>&lt;int&gt;</th><th scope=col>&lt;int&gt;</th><th scope=col>...</th><th scope=col>&lt;int&gt;</th><th scope=col>&lt;int&gt;</th><th scope=col>&lt;int&gt;</th><th scope=col>&lt;int&gt;</th><th scope=col>&lt;int&gt;</th><th scope=col>&lt;int&gt;</th><th scope=col>&lt;int&gt;</th><th scope=col>&lt;int&gt;</th><th scope=col>&lt;int&gt;</th><th scope=col>&lt;int&gt;</th></tr>\n",
       "</thead>\n",
       "<tbody>\n",
       "\t<tr><th scope=row>315-05</th><td>1</td><td>0</td><td>0</td><td>0</td><td>0</td><td>0</td><td>1</td><td>0</td><td>0</td><td>0</td><td>...</td><td>0</td><td>0</td><td>0</td><td>1</td><td>0</td><td>0</td><td>0</td><td>0</td><td>0</td><td>0</td></tr>\n",
       "\t<tr><th scope=row>319-05</th><td>0</td><td>1</td><td>0</td><td>0</td><td>0</td><td>1</td><td>0</td><td>0</td><td>0</td><td>0</td><td>...</td><td>1</td><td>0</td><td>0</td><td>0</td><td>0</td><td>0</td><td>0</td><td>0</td><td>0</td><td>0</td></tr>\n",
       "\t<tr><th scope=row>323-03</th><td>0</td><td>0</td><td>1</td><td>0</td><td>0</td><td>0</td><td>0</td><td>1</td><td>0</td><td>0</td><td>...</td><td>0</td><td>0</td><td>1</td><td>0</td><td>0</td><td>0</td><td>0</td><td>0</td><td>0</td><td>0</td></tr>\n",
       "\t<tr><th scope=row>329-04</th><td>0</td><td>0</td><td>0</td><td>2</td><td>0</td><td>0</td><td>0</td><td>0</td><td>0</td><td>0</td><td>...</td><td>0</td><td>1</td><td>0</td><td>0</td><td>0</td><td>0</td><td>0</td><td>1</td><td>0</td><td>0</td></tr>\n",
       "\t<tr><th scope=row>330-05</th><td>1</td><td>0</td><td>0</td><td>0</td><td>0</td><td>0</td><td>0</td><td>0</td><td>0</td><td>0</td><td>...</td><td>0</td><td>0</td><td>1</td><td>0</td><td>0</td><td>0</td><td>0</td><td>0</td><td>0</td><td>0</td></tr>\n",
       "\t<tr><th scope=row>331-04</th><td>1</td><td>0</td><td>0</td><td>1</td><td>0</td><td>0</td><td>0</td><td>0</td><td>0</td><td>0</td><td>...</td><td>0</td><td>0</td><td>1</td><td>0</td><td>0</td><td>0</td><td>0</td><td>0</td><td>0</td><td>0</td></tr>\n",
       "</tbody>\n",
       "</table>\n"
      ],
      "text/latex": [
       "A data.frame: 6 x 133\n",
       "\\begin{tabular}{r|lllllllllllllllllllll}\n",
       "  & HLA\\_A02:01:01 & HLA\\_A01:01:01 & HLA\\_A11:01:01 & HLA\\_A26:01:01 & HLA\\_A31:01:02 & HLA\\_A03:01:01 & HLA\\_A02:05:01 & HLA\\_A23:01:01 & HLA\\_A24:02:01 & HLA\\_A30:01:01 & ... & HLA\\_DRB301:01:02 & HLA\\_DRB501:01:01 & HLA\\_DRB401:03:01 & HLA\\_DRB303:01:01 & HLA\\_DRB401:01:01 & HLA\\_DRB301:62:01 & HLA\\_DRB401:03:02 & HLA\\_DRB502:02:01 & HLA\\_DRB501:02:01 & HLA\\_DRB401:03:01:02N\\\\\n",
       "  & <int> & <int> & <int> & <int> & <int> & <int> & <int> & <int> & <int> & <int> & ... & <int> & <int> & <int> & <int> & <int> & <int> & <int> & <int> & <int> & <int>\\\\\n",
       "\\hline\n",
       "\t315-05 & 1 & 0 & 0 & 0 & 0 & 0 & 1 & 0 & 0 & 0 & ... & 0 & 0 & 0 & 1 & 0 & 0 & 0 & 0 & 0 & 0\\\\\n",
       "\t319-05 & 0 & 1 & 0 & 0 & 0 & 1 & 0 & 0 & 0 & 0 & ... & 1 & 0 & 0 & 0 & 0 & 0 & 0 & 0 & 0 & 0\\\\\n",
       "\t323-03 & 0 & 0 & 1 & 0 & 0 & 0 & 0 & 1 & 0 & 0 & ... & 0 & 0 & 1 & 0 & 0 & 0 & 0 & 0 & 0 & 0\\\\\n",
       "\t329-04 & 0 & 0 & 0 & 2 & 0 & 0 & 0 & 0 & 0 & 0 & ... & 0 & 1 & 0 & 0 & 0 & 0 & 0 & 1 & 0 & 0\\\\\n",
       "\t330-05 & 1 & 0 & 0 & 0 & 0 & 0 & 0 & 0 & 0 & 0 & ... & 0 & 0 & 1 & 0 & 0 & 0 & 0 & 0 & 0 & 0\\\\\n",
       "\t331-04 & 1 & 0 & 0 & 1 & 0 & 0 & 0 & 0 & 0 & 0 & ... & 0 & 0 & 1 & 0 & 0 & 0 & 0 & 0 & 0 & 0\\\\\n",
       "\\end{tabular}\n"
      ],
      "text/markdown": [
       "\n",
       "A data.frame: 6 x 133\n",
       "\n",
       "| <!--/--> | HLA_A02:01:01 &lt;int&gt; | HLA_A01:01:01 &lt;int&gt; | HLA_A11:01:01 &lt;int&gt; | HLA_A26:01:01 &lt;int&gt; | HLA_A31:01:02 &lt;int&gt; | HLA_A03:01:01 &lt;int&gt; | HLA_A02:05:01 &lt;int&gt; | HLA_A23:01:01 &lt;int&gt; | HLA_A24:02:01 &lt;int&gt; | HLA_A30:01:01 &lt;int&gt; | ... ... | HLA_DRB301:01:02 &lt;int&gt; | HLA_DRB501:01:01 &lt;int&gt; | HLA_DRB401:03:01 &lt;int&gt; | HLA_DRB303:01:01 &lt;int&gt; | HLA_DRB401:01:01 &lt;int&gt; | HLA_DRB301:62:01 &lt;int&gt; | HLA_DRB401:03:02 &lt;int&gt; | HLA_DRB502:02:01 &lt;int&gt; | HLA_DRB501:02:01 &lt;int&gt; | HLA_DRB401:03:01:02N &lt;int&gt; |\n",
       "|---|---|---|---|---|---|---|---|---|---|---|---|---|---|---|---|---|---|---|---|---|---|\n",
       "| 315-05 | 1 | 0 | 0 | 0 | 0 | 0 | 1 | 0 | 0 | 0 | ... | 0 | 0 | 0 | 1 | 0 | 0 | 0 | 0 | 0 | 0 |\n",
       "| 319-05 | 0 | 1 | 0 | 0 | 0 | 1 | 0 | 0 | 0 | 0 | ... | 1 | 0 | 0 | 0 | 0 | 0 | 0 | 0 | 0 | 0 |\n",
       "| 323-03 | 0 | 0 | 1 | 0 | 0 | 0 | 0 | 1 | 0 | 0 | ... | 0 | 0 | 1 | 0 | 0 | 0 | 0 | 0 | 0 | 0 |\n",
       "| 329-04 | 0 | 0 | 0 | 2 | 0 | 0 | 0 | 0 | 0 | 0 | ... | 0 | 1 | 0 | 0 | 0 | 0 | 0 | 1 | 0 | 0 |\n",
       "| 330-05 | 1 | 0 | 0 | 0 | 0 | 0 | 0 | 0 | 0 | 0 | ... | 0 | 0 | 1 | 0 | 0 | 0 | 0 | 0 | 0 | 0 |\n",
       "| 331-04 | 1 | 0 | 0 | 1 | 0 | 0 | 0 | 0 | 0 | 0 | ... | 0 | 0 | 1 | 0 | 0 | 0 | 0 | 0 | 0 | 0 |\n",
       "\n"
      ],
      "text/plain": [
       "       HLA_A02:01:01 HLA_A01:01:01 HLA_A11:01:01 HLA_A26:01:01 HLA_A31:01:02\n",
       "315-05 1             0             0             0             0            \n",
       "319-05 0             1             0             0             0            \n",
       "323-03 0             0             1             0             0            \n",
       "329-04 0             0             0             2             0            \n",
       "330-05 1             0             0             0             0            \n",
       "331-04 1             0             0             1             0            \n",
       "       HLA_A03:01:01 HLA_A02:05:01 HLA_A23:01:01 HLA_A24:02:01 HLA_A30:01:01\n",
       "315-05 0             1             0             0             0            \n",
       "319-05 1             0             0             0             0            \n",
       "323-03 0             0             1             0             0            \n",
       "329-04 0             0             0             0             0            \n",
       "330-05 0             0             0             0             0            \n",
       "331-04 0             0             0             0             0            \n",
       "       ... HLA_DRB301:01:02 HLA_DRB501:01:01 HLA_DRB401:03:01 HLA_DRB303:01:01\n",
       "315-05 ... 0                0                0                1               \n",
       "319-05 ... 1                0                0                0               \n",
       "323-03 ... 0                0                1                0               \n",
       "329-04 ... 0                1                0                0               \n",
       "330-05 ... 0                0                1                0               \n",
       "331-04 ... 0                0                1                0               \n",
       "       HLA_DRB401:01:01 HLA_DRB301:62:01 HLA_DRB401:03:02 HLA_DRB502:02:01\n",
       "315-05 0                0                0                0               \n",
       "319-05 0                0                0                0               \n",
       "323-03 0                0                0                0               \n",
       "329-04 0                0                0                1               \n",
       "330-05 0                0                0                0               \n",
       "331-04 0                0                0                0               \n",
       "       HLA_DRB501:02:01 HLA_DRB401:03:01:02N\n",
       "315-05 0                0                   \n",
       "319-05 0                0                   \n",
       "323-03 0                0                   \n",
       "329-04 0                0                   \n",
       "330-05 0                0                   \n",
       "331-04 0                0                   "
      ]
     },
     "metadata": {},
     "output_type": "display_data"
    }
   ],
   "source": [
    "head(allhlas)"
   ]
  },
  {
   "cell_type": "code",
   "execution_count": 93,
   "metadata": {
    "vscode": {
     "languageId": "r"
    }
   },
   "outputs": [],
   "source": [
    "rownames(allhlas) <- gsub(\"-.*\", \"\", rownames(allhlas))\n",
    "rownames(allhlas) <- paste0(\"CHP_\", rownames(allhlas))"
   ]
  },
  {
   "cell_type": "code",
   "execution_count": 94,
   "metadata": {
    "vscode": {
     "languageId": "r"
    }
   },
   "outputs": [
    {
     "data": {
      "text/html": [
       "<table class=\"dataframe\">\n",
       "<caption>A data.frame: 6 x 133</caption>\n",
       "<thead>\n",
       "\t<tr><th></th><th scope=col>HLA_A02:01:01</th><th scope=col>HLA_A01:01:01</th><th scope=col>HLA_A11:01:01</th><th scope=col>HLA_A26:01:01</th><th scope=col>HLA_A31:01:02</th><th scope=col>HLA_A03:01:01</th><th scope=col>HLA_A02:05:01</th><th scope=col>HLA_A23:01:01</th><th scope=col>HLA_A24:02:01</th><th scope=col>HLA_A30:01:01</th><th scope=col>...</th><th scope=col>HLA_DRB301:01:02</th><th scope=col>HLA_DRB501:01:01</th><th scope=col>HLA_DRB401:03:01</th><th scope=col>HLA_DRB303:01:01</th><th scope=col>HLA_DRB401:01:01</th><th scope=col>HLA_DRB301:62:01</th><th scope=col>HLA_DRB401:03:02</th><th scope=col>HLA_DRB502:02:01</th><th scope=col>HLA_DRB501:02:01</th><th scope=col>HLA_DRB401:03:01:02N</th></tr>\n",
       "\t<tr><th></th><th scope=col>&lt;int&gt;</th><th scope=col>&lt;int&gt;</th><th scope=col>&lt;int&gt;</th><th scope=col>&lt;int&gt;</th><th scope=col>&lt;int&gt;</th><th scope=col>&lt;int&gt;</th><th scope=col>&lt;int&gt;</th><th scope=col>&lt;int&gt;</th><th scope=col>&lt;int&gt;</th><th scope=col>&lt;int&gt;</th><th scope=col>...</th><th scope=col>&lt;int&gt;</th><th scope=col>&lt;int&gt;</th><th scope=col>&lt;int&gt;</th><th scope=col>&lt;int&gt;</th><th scope=col>&lt;int&gt;</th><th scope=col>&lt;int&gt;</th><th scope=col>&lt;int&gt;</th><th scope=col>&lt;int&gt;</th><th scope=col>&lt;int&gt;</th><th scope=col>&lt;int&gt;</th></tr>\n",
       "</thead>\n",
       "<tbody>\n",
       "\t<tr><th scope=row>CHP_315</th><td>1</td><td>0</td><td>0</td><td>0</td><td>0</td><td>0</td><td>1</td><td>0</td><td>0</td><td>0</td><td>...</td><td>0</td><td>0</td><td>0</td><td>1</td><td>0</td><td>0</td><td>0</td><td>0</td><td>0</td><td>0</td></tr>\n",
       "\t<tr><th scope=row>CHP_319</th><td>0</td><td>1</td><td>0</td><td>0</td><td>0</td><td>1</td><td>0</td><td>0</td><td>0</td><td>0</td><td>...</td><td>1</td><td>0</td><td>0</td><td>0</td><td>0</td><td>0</td><td>0</td><td>0</td><td>0</td><td>0</td></tr>\n",
       "\t<tr><th scope=row>CHP_323</th><td>0</td><td>0</td><td>1</td><td>0</td><td>0</td><td>0</td><td>0</td><td>1</td><td>0</td><td>0</td><td>...</td><td>0</td><td>0</td><td>1</td><td>0</td><td>0</td><td>0</td><td>0</td><td>0</td><td>0</td><td>0</td></tr>\n",
       "\t<tr><th scope=row>CHP_329</th><td>0</td><td>0</td><td>0</td><td>2</td><td>0</td><td>0</td><td>0</td><td>0</td><td>0</td><td>0</td><td>...</td><td>0</td><td>1</td><td>0</td><td>0</td><td>0</td><td>0</td><td>0</td><td>1</td><td>0</td><td>0</td></tr>\n",
       "\t<tr><th scope=row>CHP_330</th><td>1</td><td>0</td><td>0</td><td>0</td><td>0</td><td>0</td><td>0</td><td>0</td><td>0</td><td>0</td><td>...</td><td>0</td><td>0</td><td>1</td><td>0</td><td>0</td><td>0</td><td>0</td><td>0</td><td>0</td><td>0</td></tr>\n",
       "\t<tr><th scope=row>CHP_331</th><td>1</td><td>0</td><td>0</td><td>1</td><td>0</td><td>0</td><td>0</td><td>0</td><td>0</td><td>0</td><td>...</td><td>0</td><td>0</td><td>1</td><td>0</td><td>0</td><td>0</td><td>0</td><td>0</td><td>0</td><td>0</td></tr>\n",
       "</tbody>\n",
       "</table>\n"
      ],
      "text/latex": [
       "A data.frame: 6 x 133\n",
       "\\begin{tabular}{r|lllllllllllllllllllll}\n",
       "  & HLA\\_A02:01:01 & HLA\\_A01:01:01 & HLA\\_A11:01:01 & HLA\\_A26:01:01 & HLA\\_A31:01:02 & HLA\\_A03:01:01 & HLA\\_A02:05:01 & HLA\\_A23:01:01 & HLA\\_A24:02:01 & HLA\\_A30:01:01 & ... & HLA\\_DRB301:01:02 & HLA\\_DRB501:01:01 & HLA\\_DRB401:03:01 & HLA\\_DRB303:01:01 & HLA\\_DRB401:01:01 & HLA\\_DRB301:62:01 & HLA\\_DRB401:03:02 & HLA\\_DRB502:02:01 & HLA\\_DRB501:02:01 & HLA\\_DRB401:03:01:02N\\\\\n",
       "  & <int> & <int> & <int> & <int> & <int> & <int> & <int> & <int> & <int> & <int> & ... & <int> & <int> & <int> & <int> & <int> & <int> & <int> & <int> & <int> & <int>\\\\\n",
       "\\hline\n",
       "\tCHP\\_315 & 1 & 0 & 0 & 0 & 0 & 0 & 1 & 0 & 0 & 0 & ... & 0 & 0 & 0 & 1 & 0 & 0 & 0 & 0 & 0 & 0\\\\\n",
       "\tCHP\\_319 & 0 & 1 & 0 & 0 & 0 & 1 & 0 & 0 & 0 & 0 & ... & 1 & 0 & 0 & 0 & 0 & 0 & 0 & 0 & 0 & 0\\\\\n",
       "\tCHP\\_323 & 0 & 0 & 1 & 0 & 0 & 0 & 0 & 1 & 0 & 0 & ... & 0 & 0 & 1 & 0 & 0 & 0 & 0 & 0 & 0 & 0\\\\\n",
       "\tCHP\\_329 & 0 & 0 & 0 & 2 & 0 & 0 & 0 & 0 & 0 & 0 & ... & 0 & 1 & 0 & 0 & 0 & 0 & 0 & 1 & 0 & 0\\\\\n",
       "\tCHP\\_330 & 1 & 0 & 0 & 0 & 0 & 0 & 0 & 0 & 0 & 0 & ... & 0 & 0 & 1 & 0 & 0 & 0 & 0 & 0 & 0 & 0\\\\\n",
       "\tCHP\\_331 & 1 & 0 & 0 & 1 & 0 & 0 & 0 & 0 & 0 & 0 & ... & 0 & 0 & 1 & 0 & 0 & 0 & 0 & 0 & 0 & 0\\\\\n",
       "\\end{tabular}\n"
      ],
      "text/markdown": [
       "\n",
       "A data.frame: 6 x 133\n",
       "\n",
       "| <!--/--> | HLA_A02:01:01 &lt;int&gt; | HLA_A01:01:01 &lt;int&gt; | HLA_A11:01:01 &lt;int&gt; | HLA_A26:01:01 &lt;int&gt; | HLA_A31:01:02 &lt;int&gt; | HLA_A03:01:01 &lt;int&gt; | HLA_A02:05:01 &lt;int&gt; | HLA_A23:01:01 &lt;int&gt; | HLA_A24:02:01 &lt;int&gt; | HLA_A30:01:01 &lt;int&gt; | ... ... | HLA_DRB301:01:02 &lt;int&gt; | HLA_DRB501:01:01 &lt;int&gt; | HLA_DRB401:03:01 &lt;int&gt; | HLA_DRB303:01:01 &lt;int&gt; | HLA_DRB401:01:01 &lt;int&gt; | HLA_DRB301:62:01 &lt;int&gt; | HLA_DRB401:03:02 &lt;int&gt; | HLA_DRB502:02:01 &lt;int&gt; | HLA_DRB501:02:01 &lt;int&gt; | HLA_DRB401:03:01:02N &lt;int&gt; |\n",
       "|---|---|---|---|---|---|---|---|---|---|---|---|---|---|---|---|---|---|---|---|---|---|\n",
       "| CHP_315 | 1 | 0 | 0 | 0 | 0 | 0 | 1 | 0 | 0 | 0 | ... | 0 | 0 | 0 | 1 | 0 | 0 | 0 | 0 | 0 | 0 |\n",
       "| CHP_319 | 0 | 1 | 0 | 0 | 0 | 1 | 0 | 0 | 0 | 0 | ... | 1 | 0 | 0 | 0 | 0 | 0 | 0 | 0 | 0 | 0 |\n",
       "| CHP_323 | 0 | 0 | 1 | 0 | 0 | 0 | 0 | 1 | 0 | 0 | ... | 0 | 0 | 1 | 0 | 0 | 0 | 0 | 0 | 0 | 0 |\n",
       "| CHP_329 | 0 | 0 | 0 | 2 | 0 | 0 | 0 | 0 | 0 | 0 | ... | 0 | 1 | 0 | 0 | 0 | 0 | 0 | 1 | 0 | 0 |\n",
       "| CHP_330 | 1 | 0 | 0 | 0 | 0 | 0 | 0 | 0 | 0 | 0 | ... | 0 | 0 | 1 | 0 | 0 | 0 | 0 | 0 | 0 | 0 |\n",
       "| CHP_331 | 1 | 0 | 0 | 1 | 0 | 0 | 0 | 0 | 0 | 0 | ... | 0 | 0 | 1 | 0 | 0 | 0 | 0 | 0 | 0 | 0 |\n",
       "\n"
      ],
      "text/plain": [
       "        HLA_A02:01:01 HLA_A01:01:01 HLA_A11:01:01 HLA_A26:01:01 HLA_A31:01:02\n",
       "CHP_315 1             0             0             0             0            \n",
       "CHP_319 0             1             0             0             0            \n",
       "CHP_323 0             0             1             0             0            \n",
       "CHP_329 0             0             0             2             0            \n",
       "CHP_330 1             0             0             0             0            \n",
       "CHP_331 1             0             0             1             0            \n",
       "        HLA_A03:01:01 HLA_A02:05:01 HLA_A23:01:01 HLA_A24:02:01 HLA_A30:01:01\n",
       "CHP_315 0             1             0             0             0            \n",
       "CHP_319 1             0             0             0             0            \n",
       "CHP_323 0             0             1             0             0            \n",
       "CHP_329 0             0             0             0             0            \n",
       "CHP_330 0             0             0             0             0            \n",
       "CHP_331 0             0             0             0             0            \n",
       "        ... HLA_DRB301:01:02 HLA_DRB501:01:01 HLA_DRB401:03:01 HLA_DRB303:01:01\n",
       "CHP_315 ... 0                0                0                1               \n",
       "CHP_319 ... 1                0                0                0               \n",
       "CHP_323 ... 0                0                1                0               \n",
       "CHP_329 ... 0                1                0                0               \n",
       "CHP_330 ... 0                0                1                0               \n",
       "CHP_331 ... 0                0                1                0               \n",
       "        HLA_DRB401:01:01 HLA_DRB301:62:01 HLA_DRB401:03:02 HLA_DRB502:02:01\n",
       "CHP_315 0                0                0                0               \n",
       "CHP_319 0                0                0                0               \n",
       "CHP_323 0                0                0                0               \n",
       "CHP_329 0                0                0                1               \n",
       "CHP_330 0                0                0                0               \n",
       "CHP_331 0                0                0                0               \n",
       "        HLA_DRB501:02:01 HLA_DRB401:03:01:02N\n",
       "CHP_315 0                0                   \n",
       "CHP_319 0                0                   \n",
       "CHP_323 0                0                   \n",
       "CHP_329 0                0                   \n",
       "CHP_330 0                0                   \n",
       "CHP_331 0                0                   "
      ]
     },
     "metadata": {},
     "output_type": "display_data"
    }
   ],
   "source": [
    "head(allhlas)"
   ]
  },
  {
   "cell_type": "code",
   "execution_count": 95,
   "metadata": {
    "vscode": {
     "languageId": "r"
    }
   },
   "outputs": [],
   "source": [
    "merge_m$Patient <- gsub(\"-.*\", \"\", merge_m$basename)"
   ]
  },
  {
   "cell_type": "code",
   "execution_count": 96,
   "metadata": {
    "vscode": {
     "languageId": "r"
    }
   },
   "outputs": [],
   "source": [
    "# bind allhlas to merge_m by matching rownames(allhlas) to merge_m$Patient\n",
    "merge_m <- cbind(merge_m, allhlas[ match(merge_m$Patient, rownames(allhlas)), ])"
   ]
  },
  {
   "cell_type": "code",
   "execution_count": 97,
   "metadata": {
    "vscode": {
     "languageId": "r"
    }
   },
   "outputs": [],
   "source": [
    "# head(merge_m)"
   ]
  },
  {
   "cell_type": "code",
   "execution_count": 98,
   "metadata": {
    "vscode": {
     "languageId": "r"
    }
   },
   "outputs": [
    {
     "data": {
      "text/html": [
       "<style>\n",
       ".list-inline {list-style: none; margin:0; padding: 0}\n",
       ".list-inline>li {display: inline-block}\n",
       ".list-inline>li:not(:last-child)::after {content: \"\\00b7\"; padding: 0 .5ex}\n",
       "</style>\n",
       "<ol class=list-inline><li>'CHP_319-05-PBMC-DNA'</li><li>'CHP_319-05-PBMC-DNA'</li><li>'CHP_319-05-PBMC-DNA'</li><li>'CHP_319-05-PBMC-DNA'</li><li>'CHP_319-05-PBMC-DNA'</li><li>'CHP_319-05-PBMC-DNA'</li></ol>\n"
      ],
      "text/latex": [
       "\\begin{enumerate*}\n",
       "\\item 'CHP\\_319-05-PBMC-DNA'\n",
       "\\item 'CHP\\_319-05-PBMC-DNA'\n",
       "\\item 'CHP\\_319-05-PBMC-DNA'\n",
       "\\item 'CHP\\_319-05-PBMC-DNA'\n",
       "\\item 'CHP\\_319-05-PBMC-DNA'\n",
       "\\item 'CHP\\_319-05-PBMC-DNA'\n",
       "\\end{enumerate*}\n"
      ],
      "text/markdown": [
       "1. 'CHP_319-05-PBMC-DNA'\n",
       "2. 'CHP_319-05-PBMC-DNA'\n",
       "3. 'CHP_319-05-PBMC-DNA'\n",
       "4. 'CHP_319-05-PBMC-DNA'\n",
       "5. 'CHP_319-05-PBMC-DNA'\n",
       "6. 'CHP_319-05-PBMC-DNA'\n",
       "\n",
       "\n"
      ],
      "text/plain": [
       "[1] \"CHP_319-05-PBMC-DNA\" \"CHP_319-05-PBMC-DNA\" \"CHP_319-05-PBMC-DNA\"\n",
       "[4] \"CHP_319-05-PBMC-DNA\" \"CHP_319-05-PBMC-DNA\" \"CHP_319-05-PBMC-DNA\""
      ]
     },
     "metadata": {},
     "output_type": "display_data"
    }
   ],
   "source": [
    "head(merge_m$basename)"
   ]
  },
  {
   "cell_type": "code",
   "execution_count": 99,
   "metadata": {
    "vscode": {
     "languageId": "r"
    }
   },
   "outputs": [],
   "source": [
    "readr::write_rds(merge_m, paste0(datapath, \"ML/\", \"int_ohe_trbseq_pheno_hla.rds\") )"
   ]
  },
  {
   "cell_type": "code",
   "execution_count": 100,
   "metadata": {
    "vscode": {
     "languageId": "r"
    }
   },
   "outputs": [],
   "source": [
    "#remove non-numeric columns\n",
    "merged_numeric <- merge_m[, sapply(merge_m, is.numeric)]"
   ]
  },
  {
   "cell_type": "code",
   "execution_count": 101,
   "metadata": {
    "vscode": {
     "languageId": "r"
    }
   },
   "outputs": [
    {
     "data": {
      "text/html": [
       "<table class=\"dataframe\">\n",
       "<caption>A data.frame: 6 x 1949</caption>\n",
       "<thead>\n",
       "\t<tr><th></th><th scope=col>TE_fold</th><th scope=col>Relapse</th><th scope=col>ATC</th><th scope=col>Age</th><th scope=col>EM</th><th scope=col>CM</th><th scope=col>Naive</th><th scope=col>SCM</th><th scope=col>TE</th><th scope=col>PD1</th><th scope=col>...</th><th scope=col>HLA_DRB301:01:02</th><th scope=col>HLA_DRB501:01:01</th><th scope=col>HLA_DRB401:03:01</th><th scope=col>HLA_DRB303:01:01</th><th scope=col>HLA_DRB401:01:01</th><th scope=col>HLA_DRB301:62:01</th><th scope=col>HLA_DRB401:03:02</th><th scope=col>HLA_DRB502:02:01</th><th scope=col>HLA_DRB501:02:01</th><th scope=col>HLA_DRB401:03:01:02N</th></tr>\n",
       "\t<tr><th></th><th scope=col>&lt;dbl&gt;</th><th scope=col>&lt;int&gt;</th><th scope=col>&lt;dbl&gt;</th><th scope=col>&lt;dbl&gt;</th><th scope=col>&lt;dbl&gt;</th><th scope=col>&lt;dbl&gt;</th><th scope=col>&lt;dbl&gt;</th><th scope=col>&lt;dbl&gt;</th><th scope=col>&lt;dbl&gt;</th><th scope=col>&lt;dbl&gt;</th><th scope=col>...</th><th scope=col>&lt;int&gt;</th><th scope=col>&lt;int&gt;</th><th scope=col>&lt;int&gt;</th><th scope=col>&lt;int&gt;</th><th scope=col>&lt;int&gt;</th><th scope=col>&lt;int&gt;</th><th scope=col>&lt;int&gt;</th><th scope=col>&lt;int&gt;</th><th scope=col>&lt;int&gt;</th><th scope=col>&lt;int&gt;</th></tr>\n",
       "</thead>\n",
       "<tbody>\n",
       "\t<tr><th scope=row>CHP_319</th><td>1.2</td><td>1</td><td>0</td><td>1</td><td>NA</td><td>NA</td><td>NA</td><td>NA</td><td>NA</td><td>NA</td><td>...</td><td>1</td><td>0</td><td>0</td><td>0</td><td>0</td><td>0</td><td>0</td><td>0</td><td>0</td><td>0</td></tr>\n",
       "\t<tr><th scope=row>CHP_319.1</th><td>1.2</td><td>1</td><td>0</td><td>1</td><td>NA</td><td>NA</td><td>NA</td><td>NA</td><td>NA</td><td>NA</td><td>...</td><td>1</td><td>0</td><td>0</td><td>0</td><td>0</td><td>0</td><td>0</td><td>0</td><td>0</td><td>0</td></tr>\n",
       "\t<tr><th scope=row>CHP_319.2</th><td>1.2</td><td>1</td><td>0</td><td>1</td><td>NA</td><td>NA</td><td>NA</td><td>NA</td><td>NA</td><td>NA</td><td>...</td><td>1</td><td>0</td><td>0</td><td>0</td><td>0</td><td>0</td><td>0</td><td>0</td><td>0</td><td>0</td></tr>\n",
       "\t<tr><th scope=row>CHP_319.3</th><td>1.2</td><td>1</td><td>0</td><td>1</td><td>NA</td><td>NA</td><td>NA</td><td>NA</td><td>NA</td><td>NA</td><td>...</td><td>1</td><td>0</td><td>0</td><td>0</td><td>0</td><td>0</td><td>0</td><td>0</td><td>0</td><td>0</td></tr>\n",
       "\t<tr><th scope=row>CHP_319.4</th><td>1.2</td><td>1</td><td>0</td><td>1</td><td>NA</td><td>NA</td><td>NA</td><td>NA</td><td>NA</td><td>NA</td><td>...</td><td>1</td><td>0</td><td>0</td><td>0</td><td>0</td><td>0</td><td>0</td><td>0</td><td>0</td><td>0</td></tr>\n",
       "\t<tr><th scope=row>CHP_319.5</th><td>1.2</td><td>1</td><td>0</td><td>1</td><td>NA</td><td>NA</td><td>NA</td><td>NA</td><td>NA</td><td>NA</td><td>...</td><td>1</td><td>0</td><td>0</td><td>0</td><td>0</td><td>0</td><td>0</td><td>0</td><td>0</td><td>0</td></tr>\n",
       "</tbody>\n",
       "</table>\n"
      ],
      "text/latex": [
       "A data.frame: 6 x 1949\n",
       "\\begin{tabular}{r|lllllllllllllllllllll}\n",
       "  & TE\\_fold & Relapse & ATC & Age & EM & CM & Naive & SCM & TE & PD1 & ... & HLA\\_DRB301:01:02 & HLA\\_DRB501:01:01 & HLA\\_DRB401:03:01 & HLA\\_DRB303:01:01 & HLA\\_DRB401:01:01 & HLA\\_DRB301:62:01 & HLA\\_DRB401:03:02 & HLA\\_DRB502:02:01 & HLA\\_DRB501:02:01 & HLA\\_DRB401:03:01:02N\\\\\n",
       "  & <dbl> & <int> & <dbl> & <dbl> & <dbl> & <dbl> & <dbl> & <dbl> & <dbl> & <dbl> & ... & <int> & <int> & <int> & <int> & <int> & <int> & <int> & <int> & <int> & <int>\\\\\n",
       "\\hline\n",
       "\tCHP\\_319 & 1.2 & 1 & 0 & 1 & NA & NA & NA & NA & NA & NA & ... & 1 & 0 & 0 & 0 & 0 & 0 & 0 & 0 & 0 & 0\\\\\n",
       "\tCHP\\_319.1 & 1.2 & 1 & 0 & 1 & NA & NA & NA & NA & NA & NA & ... & 1 & 0 & 0 & 0 & 0 & 0 & 0 & 0 & 0 & 0\\\\\n",
       "\tCHP\\_319.2 & 1.2 & 1 & 0 & 1 & NA & NA & NA & NA & NA & NA & ... & 1 & 0 & 0 & 0 & 0 & 0 & 0 & 0 & 0 & 0\\\\\n",
       "\tCHP\\_319.3 & 1.2 & 1 & 0 & 1 & NA & NA & NA & NA & NA & NA & ... & 1 & 0 & 0 & 0 & 0 & 0 & 0 & 0 & 0 & 0\\\\\n",
       "\tCHP\\_319.4 & 1.2 & 1 & 0 & 1 & NA & NA & NA & NA & NA & NA & ... & 1 & 0 & 0 & 0 & 0 & 0 & 0 & 0 & 0 & 0\\\\\n",
       "\tCHP\\_319.5 & 1.2 & 1 & 0 & 1 & NA & NA & NA & NA & NA & NA & ... & 1 & 0 & 0 & 0 & 0 & 0 & 0 & 0 & 0 & 0\\\\\n",
       "\\end{tabular}\n"
      ],
      "text/markdown": [
       "\n",
       "A data.frame: 6 x 1949\n",
       "\n",
       "| <!--/--> | TE_fold &lt;dbl&gt; | Relapse &lt;int&gt; | ATC &lt;dbl&gt; | Age &lt;dbl&gt; | EM &lt;dbl&gt; | CM &lt;dbl&gt; | Naive &lt;dbl&gt; | SCM &lt;dbl&gt; | TE &lt;dbl&gt; | PD1 &lt;dbl&gt; | ... ... | HLA_DRB301:01:02 &lt;int&gt; | HLA_DRB501:01:01 &lt;int&gt; | HLA_DRB401:03:01 &lt;int&gt; | HLA_DRB303:01:01 &lt;int&gt; | HLA_DRB401:01:01 &lt;int&gt; | HLA_DRB301:62:01 &lt;int&gt; | HLA_DRB401:03:02 &lt;int&gt; | HLA_DRB502:02:01 &lt;int&gt; | HLA_DRB501:02:01 &lt;int&gt; | HLA_DRB401:03:01:02N &lt;int&gt; |\n",
       "|---|---|---|---|---|---|---|---|---|---|---|---|---|---|---|---|---|---|---|---|---|---|\n",
       "| CHP_319 | 1.2 | 1 | 0 | 1 | NA | NA | NA | NA | NA | NA | ... | 1 | 0 | 0 | 0 | 0 | 0 | 0 | 0 | 0 | 0 |\n",
       "| CHP_319.1 | 1.2 | 1 | 0 | 1 | NA | NA | NA | NA | NA | NA | ... | 1 | 0 | 0 | 0 | 0 | 0 | 0 | 0 | 0 | 0 |\n",
       "| CHP_319.2 | 1.2 | 1 | 0 | 1 | NA | NA | NA | NA | NA | NA | ... | 1 | 0 | 0 | 0 | 0 | 0 | 0 | 0 | 0 | 0 |\n",
       "| CHP_319.3 | 1.2 | 1 | 0 | 1 | NA | NA | NA | NA | NA | NA | ... | 1 | 0 | 0 | 0 | 0 | 0 | 0 | 0 | 0 | 0 |\n",
       "| CHP_319.4 | 1.2 | 1 | 0 | 1 | NA | NA | NA | NA | NA | NA | ... | 1 | 0 | 0 | 0 | 0 | 0 | 0 | 0 | 0 | 0 |\n",
       "| CHP_319.5 | 1.2 | 1 | 0 | 1 | NA | NA | NA | NA | NA | NA | ... | 1 | 0 | 0 | 0 | 0 | 0 | 0 | 0 | 0 | 0 |\n",
       "\n"
      ],
      "text/plain": [
       "          TE_fold Relapse ATC Age EM CM Naive SCM TE PD1 ... HLA_DRB301:01:02\n",
       "CHP_319   1.2     1       0   1   NA NA NA    NA  NA NA  ... 1               \n",
       "CHP_319.1 1.2     1       0   1   NA NA NA    NA  NA NA  ... 1               \n",
       "CHP_319.2 1.2     1       0   1   NA NA NA    NA  NA NA  ... 1               \n",
       "CHP_319.3 1.2     1       0   1   NA NA NA    NA  NA NA  ... 1               \n",
       "CHP_319.4 1.2     1       0   1   NA NA NA    NA  NA NA  ... 1               \n",
       "CHP_319.5 1.2     1       0   1   NA NA NA    NA  NA NA  ... 1               \n",
       "          HLA_DRB501:01:01 HLA_DRB401:03:01 HLA_DRB303:01:01 HLA_DRB401:01:01\n",
       "CHP_319   0                0                0                0               \n",
       "CHP_319.1 0                0                0                0               \n",
       "CHP_319.2 0                0                0                0               \n",
       "CHP_319.3 0                0                0                0               \n",
       "CHP_319.4 0                0                0                0               \n",
       "CHP_319.5 0                0                0                0               \n",
       "          HLA_DRB301:62:01 HLA_DRB401:03:02 HLA_DRB502:02:01 HLA_DRB501:02:01\n",
       "CHP_319   0                0                0                0               \n",
       "CHP_319.1 0                0                0                0               \n",
       "CHP_319.2 0                0                0                0               \n",
       "CHP_319.3 0                0                0                0               \n",
       "CHP_319.4 0                0                0                0               \n",
       "CHP_319.5 0                0                0                0               \n",
       "          HLA_DRB401:03:01:02N\n",
       "CHP_319   0                   \n",
       "CHP_319.1 0                   \n",
       "CHP_319.2 0                   \n",
       "CHP_319.3 0                   \n",
       "CHP_319.4 0                   \n",
       "CHP_319.5 0                   "
      ]
     },
     "metadata": {},
     "output_type": "display_data"
    }
   ],
   "source": [
    "head(merged_numeric)"
   ]
  },
  {
   "cell_type": "code",
   "execution_count": null,
   "metadata": {
    "vscode": {
     "languageId": "r"
    }
   },
   "outputs": [],
   "source": []
  },
  {
   "cell_type": "code",
   "execution_count": 102,
   "metadata": {
    "vscode": {
     "languageId": "r"
    }
   },
   "outputs": [],
   "source": [
    "readr::write_rds(merged_numeric, paste0(h4hpath, \"analysis/ML/\", \"int_ohe_trbseq_pheno_hla_numeric.rds\") )"
   ]
  },
  {
   "cell_type": "code",
   "execution_count": 103,
   "metadata": {
    "vscode": {
     "languageId": "r"
    }
   },
   "outputs": [
    {
     "data": {
      "text/html": [
       "<style>\n",
       ".list-inline {list-style: none; margin:0; padding: 0}\n",
       ".list-inline>li {display: inline-block}\n",
       ".list-inline>li:not(:last-child)::after {content: \"\\00b7\"; padding: 0 .5ex}\n",
       "</style>\n",
       "<ol class=list-inline><li>57905</li><li>1972</li></ol>\n"
      ],
      "text/latex": [
       "\\begin{enumerate*}\n",
       "\\item 57905\n",
       "\\item 1972\n",
       "\\end{enumerate*}\n"
      ],
      "text/markdown": [
       "1. 57905\n",
       "2. 1972\n",
       "\n",
       "\n"
      ],
      "text/plain": [
       "[1] 57905  1972"
      ]
     },
     "metadata": {},
     "output_type": "display_data"
    },
    {
     "data": {
      "text/html": [
       "<style>\n",
       ".list-inline {list-style: none; margin:0; padding: 0}\n",
       ".list-inline>li {display: inline-block}\n",
       ".list-inline>li:not(:last-child)::after {content: \"\\00b7\"; padding: 0 .5ex}\n",
       "</style>\n",
       "<ol class=list-inline><li>57905</li><li>1949</li></ol>\n"
      ],
      "text/latex": [
       "\\begin{enumerate*}\n",
       "\\item 57905\n",
       "\\item 1949\n",
       "\\end{enumerate*}\n"
      ],
      "text/markdown": [
       "1. 57905\n",
       "2. 1949\n",
       "\n",
       "\n"
      ],
      "text/plain": [
       "[1] 57905  1949"
      ]
     },
     "metadata": {},
     "output_type": "display_data"
    }
   ],
   "source": [
    "dim(merge_m)\n",
    "dim(merged_numeric)"
   ]
  },
  {
   "cell_type": "markdown",
   "metadata": {},
   "source": [
    "data and pheno"
   ]
  },
  {
   "cell_type": "code",
   "execution_count": 104,
   "metadata": {
    "vscode": {
     "languageId": "r"
    }
   },
   "outputs": [],
   "source": [
    "merge_m <- readr::read_rds( paste0(datapath, \"ML/\", \"int_ohe_trbseq_pheno_hla.rds\") )"
   ]
  },
  {
   "cell_type": "code",
   "execution_count": 105,
   "metadata": {
    "vscode": {
     "languageId": "r"
    }
   },
   "outputs": [],
   "source": [
    "# remove duplicates cdr3s\n",
    "merge_m_dedup <- merge_m[!duplicated(merge_m$aaSeqCDR3),]"
   ]
  },
  {
   "cell_type": "code",
   "execution_count": 106,
   "metadata": {
    "vscode": {
     "languageId": "r"
    }
   },
   "outputs": [],
   "source": [
    "rownames(merge_m_dedup) <- paste0(merge_m_dedup$basename, \"_\", merge_m_dedup$aaSeqCDR3)"
   ]
  },
  {
   "cell_type": "code",
   "execution_count": 107,
   "metadata": {
    "vscode": {
     "languageId": "r"
    }
   },
   "outputs": [
    {
     "data": {
      "text/html": [
       "<table class=\"dataframe\">\n",
       "<caption>A data.frame: 6 x 1972</caption>\n",
       "<thead>\n",
       "\t<tr><th></th><th scope=col>basename</th><th scope=col>TE_fold</th><th scope=col>Relapse</th><th scope=col>ATC</th><th scope=col>Age</th><th scope=col>EM</th><th scope=col>CM</th><th scope=col>Naive</th><th scope=col>SCM</th><th scope=col>TE</th><th scope=col>...</th><th scope=col>HLA_DRB301:01:02</th><th scope=col>HLA_DRB501:01:01</th><th scope=col>HLA_DRB401:03:01</th><th scope=col>HLA_DRB303:01:01</th><th scope=col>HLA_DRB401:01:01</th><th scope=col>HLA_DRB301:62:01</th><th scope=col>HLA_DRB401:03:02</th><th scope=col>HLA_DRB502:02:01</th><th scope=col>HLA_DRB501:02:01</th><th scope=col>HLA_DRB401:03:01:02N</th></tr>\n",
       "\t<tr><th></th><th scope=col>&lt;chr&gt;</th><th scope=col>&lt;dbl&gt;</th><th scope=col>&lt;int&gt;</th><th scope=col>&lt;dbl&gt;</th><th scope=col>&lt;dbl&gt;</th><th scope=col>&lt;dbl&gt;</th><th scope=col>&lt;dbl&gt;</th><th scope=col>&lt;dbl&gt;</th><th scope=col>&lt;dbl&gt;</th><th scope=col>&lt;dbl&gt;</th><th scope=col>...</th><th scope=col>&lt;int&gt;</th><th scope=col>&lt;int&gt;</th><th scope=col>&lt;int&gt;</th><th scope=col>&lt;int&gt;</th><th scope=col>&lt;int&gt;</th><th scope=col>&lt;int&gt;</th><th scope=col>&lt;int&gt;</th><th scope=col>&lt;int&gt;</th><th scope=col>&lt;int&gt;</th><th scope=col>&lt;int&gt;</th></tr>\n",
       "</thead>\n",
       "<tbody>\n",
       "\t<tr><th scope=row>CHP_319-05-PBMC-DNA_CASRERIAPGNTIYF</th><td>CHP_319-05-PBMC-DNA</td><td>1.2</td><td>1</td><td>0</td><td>1</td><td>NA</td><td>NA</td><td>NA</td><td>NA</td><td>NA</td><td>...</td><td>1</td><td>0</td><td>0</td><td>0</td><td>0</td><td>0</td><td>0</td><td>0</td><td>0</td><td>0</td></tr>\n",
       "\t<tr><th scope=row>CHP_319-05-PBMC-DNA_CSARDRTGMSTDTQYF</th><td>CHP_319-05-PBMC-DNA</td><td>1.2</td><td>1</td><td>0</td><td>1</td><td>NA</td><td>NA</td><td>NA</td><td>NA</td><td>NA</td><td>...</td><td>1</td><td>0</td><td>0</td><td>0</td><td>0</td><td>0</td><td>0</td><td>0</td><td>0</td><td>0</td></tr>\n",
       "\t<tr><th scope=row>CHP_319-05-PBMC-DNA_CASRLGTGHENTEAFF</th><td>CHP_319-05-PBMC-DNA</td><td>1.2</td><td>1</td><td>0</td><td>1</td><td>NA</td><td>NA</td><td>NA</td><td>NA</td><td>NA</td><td>...</td><td>1</td><td>0</td><td>0</td><td>0</td><td>0</td><td>0</td><td>0</td><td>0</td><td>0</td><td>0</td></tr>\n",
       "\t<tr><th scope=row>CHP_319-05-PBMC-DNA_CATSRDWTVSYEQYF</th><td>CHP_319-05-PBMC-DNA</td><td>1.2</td><td>1</td><td>0</td><td>1</td><td>NA</td><td>NA</td><td>NA</td><td>NA</td><td>NA</td><td>...</td><td>1</td><td>0</td><td>0</td><td>0</td><td>0</td><td>0</td><td>0</td><td>0</td><td>0</td><td>0</td></tr>\n",
       "\t<tr><th scope=row>CHP_319-05-PBMC-DNA_CASSRNRVRYGYTF</th><td>CHP_319-05-PBMC-DNA</td><td>1.2</td><td>1</td><td>0</td><td>1</td><td>NA</td><td>NA</td><td>NA</td><td>NA</td><td>NA</td><td>...</td><td>1</td><td>0</td><td>0</td><td>0</td><td>0</td><td>0</td><td>0</td><td>0</td><td>0</td><td>0</td></tr>\n",
       "\t<tr><th scope=row>CHP_319-05-PBMC-DNA_CASSLTGGEYAEQYF</th><td>CHP_319-05-PBMC-DNA</td><td>1.2</td><td>1</td><td>0</td><td>1</td><td>NA</td><td>NA</td><td>NA</td><td>NA</td><td>NA</td><td>...</td><td>1</td><td>0</td><td>0</td><td>0</td><td>0</td><td>0</td><td>0</td><td>0</td><td>0</td><td>0</td></tr>\n",
       "</tbody>\n",
       "</table>\n"
      ],
      "text/latex": [
       "A data.frame: 6 x 1972\n",
       "\\begin{tabular}{r|lllllllllllllllllllll}\n",
       "  & basename & TE\\_fold & Relapse & ATC & Age & EM & CM & Naive & SCM & TE & ... & HLA\\_DRB301:01:02 & HLA\\_DRB501:01:01 & HLA\\_DRB401:03:01 & HLA\\_DRB303:01:01 & HLA\\_DRB401:01:01 & HLA\\_DRB301:62:01 & HLA\\_DRB401:03:02 & HLA\\_DRB502:02:01 & HLA\\_DRB501:02:01 & HLA\\_DRB401:03:01:02N\\\\\n",
       "  & <chr> & <dbl> & <int> & <dbl> & <dbl> & <dbl> & <dbl> & <dbl> & <dbl> & <dbl> & ... & <int> & <int> & <int> & <int> & <int> & <int> & <int> & <int> & <int> & <int>\\\\\n",
       "\\hline\n",
       "\tCHP\\_319-05-PBMC-DNA\\_CASRERIAPGNTIYF & CHP\\_319-05-PBMC-DNA & 1.2 & 1 & 0 & 1 & NA & NA & NA & NA & NA & ... & 1 & 0 & 0 & 0 & 0 & 0 & 0 & 0 & 0 & 0\\\\\n",
       "\tCHP\\_319-05-PBMC-DNA\\_CSARDRTGMSTDTQYF & CHP\\_319-05-PBMC-DNA & 1.2 & 1 & 0 & 1 & NA & NA & NA & NA & NA & ... & 1 & 0 & 0 & 0 & 0 & 0 & 0 & 0 & 0 & 0\\\\\n",
       "\tCHP\\_319-05-PBMC-DNA\\_CASRLGTGHENTEAFF & CHP\\_319-05-PBMC-DNA & 1.2 & 1 & 0 & 1 & NA & NA & NA & NA & NA & ... & 1 & 0 & 0 & 0 & 0 & 0 & 0 & 0 & 0 & 0\\\\\n",
       "\tCHP\\_319-05-PBMC-DNA\\_CATSRDWTVSYEQYF & CHP\\_319-05-PBMC-DNA & 1.2 & 1 & 0 & 1 & NA & NA & NA & NA & NA & ... & 1 & 0 & 0 & 0 & 0 & 0 & 0 & 0 & 0 & 0\\\\\n",
       "\tCHP\\_319-05-PBMC-DNA\\_CASSRNRVRYGYTF & CHP\\_319-05-PBMC-DNA & 1.2 & 1 & 0 & 1 & NA & NA & NA & NA & NA & ... & 1 & 0 & 0 & 0 & 0 & 0 & 0 & 0 & 0 & 0\\\\\n",
       "\tCHP\\_319-05-PBMC-DNA\\_CASSLTGGEYAEQYF & CHP\\_319-05-PBMC-DNA & 1.2 & 1 & 0 & 1 & NA & NA & NA & NA & NA & ... & 1 & 0 & 0 & 0 & 0 & 0 & 0 & 0 & 0 & 0\\\\\n",
       "\\end{tabular}\n"
      ],
      "text/markdown": [
       "\n",
       "A data.frame: 6 x 1972\n",
       "\n",
       "| <!--/--> | basename &lt;chr&gt; | TE_fold &lt;dbl&gt; | Relapse &lt;int&gt; | ATC &lt;dbl&gt; | Age &lt;dbl&gt; | EM &lt;dbl&gt; | CM &lt;dbl&gt; | Naive &lt;dbl&gt; | SCM &lt;dbl&gt; | TE &lt;dbl&gt; | ... ... | HLA_DRB301:01:02 &lt;int&gt; | HLA_DRB501:01:01 &lt;int&gt; | HLA_DRB401:03:01 &lt;int&gt; | HLA_DRB303:01:01 &lt;int&gt; | HLA_DRB401:01:01 &lt;int&gt; | HLA_DRB301:62:01 &lt;int&gt; | HLA_DRB401:03:02 &lt;int&gt; | HLA_DRB502:02:01 &lt;int&gt; | HLA_DRB501:02:01 &lt;int&gt; | HLA_DRB401:03:01:02N &lt;int&gt; |\n",
       "|---|---|---|---|---|---|---|---|---|---|---|---|---|---|---|---|---|---|---|---|---|---|\n",
       "| CHP_319-05-PBMC-DNA_CASRERIAPGNTIYF | CHP_319-05-PBMC-DNA | 1.2 | 1 | 0 | 1 | NA | NA | NA | NA | NA | ... | 1 | 0 | 0 | 0 | 0 | 0 | 0 | 0 | 0 | 0 |\n",
       "| CHP_319-05-PBMC-DNA_CSARDRTGMSTDTQYF | CHP_319-05-PBMC-DNA | 1.2 | 1 | 0 | 1 | NA | NA | NA | NA | NA | ... | 1 | 0 | 0 | 0 | 0 | 0 | 0 | 0 | 0 | 0 |\n",
       "| CHP_319-05-PBMC-DNA_CASRLGTGHENTEAFF | CHP_319-05-PBMC-DNA | 1.2 | 1 | 0 | 1 | NA | NA | NA | NA | NA | ... | 1 | 0 | 0 | 0 | 0 | 0 | 0 | 0 | 0 | 0 |\n",
       "| CHP_319-05-PBMC-DNA_CATSRDWTVSYEQYF | CHP_319-05-PBMC-DNA | 1.2 | 1 | 0 | 1 | NA | NA | NA | NA | NA | ... | 1 | 0 | 0 | 0 | 0 | 0 | 0 | 0 | 0 | 0 |\n",
       "| CHP_319-05-PBMC-DNA_CASSRNRVRYGYTF | CHP_319-05-PBMC-DNA | 1.2 | 1 | 0 | 1 | NA | NA | NA | NA | NA | ... | 1 | 0 | 0 | 0 | 0 | 0 | 0 | 0 | 0 | 0 |\n",
       "| CHP_319-05-PBMC-DNA_CASSLTGGEYAEQYF | CHP_319-05-PBMC-DNA | 1.2 | 1 | 0 | 1 | NA | NA | NA | NA | NA | ... | 1 | 0 | 0 | 0 | 0 | 0 | 0 | 0 | 0 | 0 |\n",
       "\n"
      ],
      "text/plain": [
       "                                     basename            TE_fold Relapse ATC\n",
       "CHP_319-05-PBMC-DNA_CASRERIAPGNTIYF  CHP_319-05-PBMC-DNA 1.2     1       0  \n",
       "CHP_319-05-PBMC-DNA_CSARDRTGMSTDTQYF CHP_319-05-PBMC-DNA 1.2     1       0  \n",
       "CHP_319-05-PBMC-DNA_CASRLGTGHENTEAFF CHP_319-05-PBMC-DNA 1.2     1       0  \n",
       "CHP_319-05-PBMC-DNA_CATSRDWTVSYEQYF  CHP_319-05-PBMC-DNA 1.2     1       0  \n",
       "CHP_319-05-PBMC-DNA_CASSRNRVRYGYTF   CHP_319-05-PBMC-DNA 1.2     1       0  \n",
       "CHP_319-05-PBMC-DNA_CASSLTGGEYAEQYF  CHP_319-05-PBMC-DNA 1.2     1       0  \n",
       "                                     Age EM CM Naive SCM TE ...\n",
       "CHP_319-05-PBMC-DNA_CASRERIAPGNTIYF  1   NA NA NA    NA  NA ...\n",
       "CHP_319-05-PBMC-DNA_CSARDRTGMSTDTQYF 1   NA NA NA    NA  NA ...\n",
       "CHP_319-05-PBMC-DNA_CASRLGTGHENTEAFF 1   NA NA NA    NA  NA ...\n",
       "CHP_319-05-PBMC-DNA_CATSRDWTVSYEQYF  1   NA NA NA    NA  NA ...\n",
       "CHP_319-05-PBMC-DNA_CASSRNRVRYGYTF   1   NA NA NA    NA  NA ...\n",
       "CHP_319-05-PBMC-DNA_CASSLTGGEYAEQYF  1   NA NA NA    NA  NA ...\n",
       "                                     HLA_DRB301:01:02 HLA_DRB501:01:01\n",
       "CHP_319-05-PBMC-DNA_CASRERIAPGNTIYF  1                0               \n",
       "CHP_319-05-PBMC-DNA_CSARDRTGMSTDTQYF 1                0               \n",
       "CHP_319-05-PBMC-DNA_CASRLGTGHENTEAFF 1                0               \n",
       "CHP_319-05-PBMC-DNA_CATSRDWTVSYEQYF  1                0               \n",
       "CHP_319-05-PBMC-DNA_CASSRNRVRYGYTF   1                0               \n",
       "CHP_319-05-PBMC-DNA_CASSLTGGEYAEQYF  1                0               \n",
       "                                     HLA_DRB401:03:01 HLA_DRB303:01:01\n",
       "CHP_319-05-PBMC-DNA_CASRERIAPGNTIYF  0                0               \n",
       "CHP_319-05-PBMC-DNA_CSARDRTGMSTDTQYF 0                0               \n",
       "CHP_319-05-PBMC-DNA_CASRLGTGHENTEAFF 0                0               \n",
       "CHP_319-05-PBMC-DNA_CATSRDWTVSYEQYF  0                0               \n",
       "CHP_319-05-PBMC-DNA_CASSRNRVRYGYTF   0                0               \n",
       "CHP_319-05-PBMC-DNA_CASSLTGGEYAEQYF  0                0               \n",
       "                                     HLA_DRB401:01:01 HLA_DRB301:62:01\n",
       "CHP_319-05-PBMC-DNA_CASRERIAPGNTIYF  0                0               \n",
       "CHP_319-05-PBMC-DNA_CSARDRTGMSTDTQYF 0                0               \n",
       "CHP_319-05-PBMC-DNA_CASRLGTGHENTEAFF 0                0               \n",
       "CHP_319-05-PBMC-DNA_CATSRDWTVSYEQYF  0                0               \n",
       "CHP_319-05-PBMC-DNA_CASSRNRVRYGYTF   0                0               \n",
       "CHP_319-05-PBMC-DNA_CASSLTGGEYAEQYF  0                0               \n",
       "                                     HLA_DRB401:03:02 HLA_DRB502:02:01\n",
       "CHP_319-05-PBMC-DNA_CASRERIAPGNTIYF  0                0               \n",
       "CHP_319-05-PBMC-DNA_CSARDRTGMSTDTQYF 0                0               \n",
       "CHP_319-05-PBMC-DNA_CASRLGTGHENTEAFF 0                0               \n",
       "CHP_319-05-PBMC-DNA_CATSRDWTVSYEQYF  0                0               \n",
       "CHP_319-05-PBMC-DNA_CASSRNRVRYGYTF   0                0               \n",
       "CHP_319-05-PBMC-DNA_CASSLTGGEYAEQYF  0                0               \n",
       "                                     HLA_DRB501:02:01 HLA_DRB401:03:01:02N\n",
       "CHP_319-05-PBMC-DNA_CASRERIAPGNTIYF  0                0                   \n",
       "CHP_319-05-PBMC-DNA_CSARDRTGMSTDTQYF 0                0                   \n",
       "CHP_319-05-PBMC-DNA_CASRLGTGHENTEAFF 0                0                   \n",
       "CHP_319-05-PBMC-DNA_CATSRDWTVSYEQYF  0                0                   \n",
       "CHP_319-05-PBMC-DNA_CASSRNRVRYGYTF   0                0                   \n",
       "CHP_319-05-PBMC-DNA_CASSLTGGEYAEQYF  0                0                   "
      ]
     },
     "metadata": {},
     "output_type": "display_data"
    }
   ],
   "source": [
    "head(merge_m_dedup)"
   ]
  },
  {
   "cell_type": "code",
   "execution_count": 118,
   "metadata": {
    "vscode": {
     "languageId": "r"
    }
   },
   "outputs": [],
   "source": [
    "merge_m_dedup$Patient <- NULL"
   ]
  },
  {
   "cell_type": "code",
   "execution_count": 119,
   "metadata": {
    "vscode": {
     "languageId": "r"
    }
   },
   "outputs": [],
   "source": [
    "feat_dat <- merge_m_dedup[,c(which(colnames(merge_m_dedup) == \"ATC\"):which(colnames(merge_m_dedup) == \"TIM3\"),\n",
    "which(colnames(merge_m_dedup) == \"aaSeqCDR3\"):ncol(merge_m_dedup))]"
   ]
  },
  {
   "cell_type": "code",
   "execution_count": 120,
   "metadata": {
    "vscode": {
     "languageId": "r"
    }
   },
   "outputs": [
    {
     "data": {
      "text/html": [
       "<style>\n",
       ".list-inline {list-style: none; margin:0; padding: 0}\n",
       ".list-inline>li {display: inline-block}\n",
       ".list-inline>li:not(:last-child)::after {content: \"\\00b7\"; padding: 0 .5ex}\n",
       "</style>\n",
       "<ol class=list-inline><li>'ATC'</li><li>'Age'</li><li>'EM'</li><li>'CM'</li><li>'Naive'</li><li>'SCM'</li><li>'TE'</li><li>'PD1'</li><li>'LAG3'</li><li>'TIM3'</li><li>'aaSeqCDR3'</li><li>'TRBV'</li><li>'TRBJ'</li><li>'cloneCount'</li><li>'cloneFraction'</li><li>'length'</li><li>'Vmotif'</li><li>'frame_type'</li><li>'p107'</li><li>'p108'</li><li>'p109'</li><li>'p110'</li><li>'p111'</li><li>'p111.1'</li><li>'p112.1'</li><li>'p112'</li><li>'p113'</li><li>'p114'</li><li>'p115'</li><li>'p116'</li><li>'p117'</li><li>'p118'</li><li>'Jmotif'</li><li>'midseq'</li><li>'perc_mid_A'</li><li>'perc_mid_C'</li><li>'perc_mid_D'</li><li>'perc_mid_E'</li><li>'perc_mid_F'</li><li>'perc_mid_G'</li><li>'perc_mid_H'</li><li>'perc_mid_I'</li><li>'perc_mid_K'</li><li>'perc_mid_L'</li><li>'perc_mid_M'</li><li>'perc_mid_N'</li><li>'perc_mid_P'</li><li>'perc_mid_Q'</li><li>'perc_mid_R'</li><li>'perc_mid_S'</li><li>'perc_mid_T'</li><li>'perc_mid_V'</li><li>'perc_mid_W'</li><li>'perc_mid_Y'</li><li>'frame_type_is_in'</li><li>'frame_type_is_out'</li><li>'TRBV_is_TRBV1'</li><li>'TRBV_is_TRBV10-1'</li><li>'TRBV_is_TRBV10-2'</li><li>'TRBV_is_TRBV10-3'</li><li>'TRBV_is_TRBV11-1'</li><li>'TRBV_is_TRBV11-2'</li><li>'TRBV_is_TRBV11-3'</li><li>'TRBV_is_TRBV12-1'</li><li>'TRBV_is_TRBV12-2'</li><li>'TRBV_is_TRBV12-3'</li><li>'TRBV_is_TRBV12-4'</li><li>'TRBV_is_TRBV12-5'</li><li>'TRBV_is_TRBV13'</li><li>'TRBV_is_TRBV14'</li><li>'TRBV_is_TRBV15'</li><li>'TRBV_is_TRBV16'</li><li>'TRBV_is_TRBV17'</li><li>'TRBV_is_TRBV18'</li><li>'TRBV_is_TRBV19'</li><li>'TRBV_is_TRBV2'</li><li>'TRBV_is_TRBV20-1'</li><li>'TRBV_is_TRBV21-1'</li><li>'TRBV_is_TRBV22-1'</li><li>'TRBV_is_TRBV23-1'</li><li>'TRBV_is_TRBV24-1'</li><li>'TRBV_is_TRBV25-1'</li><li>'TRBV_is_TRBV26'</li><li>'TRBV_is_TRBV27'</li><li>'TRBV_is_TRBV28'</li><li>'TRBV_is_TRBV29-1'</li><li>'TRBV_is_TRBV3-1'</li><li>'TRBV_is_TRBV3-2'</li><li>'TRBV_is_TRBV30'</li><li>'TRBV_is_TRBV4-1'</li><li>'TRBV_is_TRBV4-2'</li><li>'TRBV_is_TRBV4-3'</li><li>'TRBV_is_TRBV5-1'</li><li>'TRBV_is_TRBV5-2'</li><li>'TRBV_is_TRBV5-3'</li><li>'TRBV_is_TRBV5-4'</li><li>'TRBV_is_TRBV5-5'</li><li>'TRBV_is_TRBV5-6'</li><li>'TRBV_is_TRBV5-7'</li><li>'TRBV_is_TRBV5-8'</li><li>'TRBV_is_TRBV6-1'</li><li>'TRBV_is_TRBV6-2'</li><li>'TRBV_is_TRBV6-3'</li><li>'TRBV_is_TRBV6-4'</li><li>'TRBV_is_TRBV6-5'</li><li>'TRBV_is_TRBV6-6'</li><li>'TRBV_is_TRBV6-7'</li><li>'TRBV_is_TRBV6-8'</li><li>'TRBV_is_TRBV6-9'</li><li>'TRBV_is_TRBV7-1'</li><li>'TRBV_is_TRBV7-2'</li><li>'TRBV_is_TRBV7-3'</li><li>'TRBV_is_TRBV7-4'</li><li>'TRBV_is_TRBV7-5'</li><li>'TRBV_is_TRBV7-6'</li><li>'TRBV_is_TRBV7-7'</li><li>'TRBV_is_TRBV7-8'</li><li>'TRBV_is_TRBV7-9'</li><li>'TRBV_is_TRBV9'</li><li>'TRBJ_is_TRBJ1-1'</li><li>'TRBJ_is_TRBJ1-2'</li><li>'TRBJ_is_TRBJ1-3'</li><li>'TRBJ_is_TRBJ1-4'</li><li>'TRBJ_is_TRBJ1-5'</li><li>'TRBJ_is_TRBJ1-6'</li><li>'TRBJ_is_TRBJ2-1'</li><li>'TRBJ_is_TRBJ2-2'</li><li>'TRBJ_is_TRBJ2-3'</li><li>'TRBJ_is_TRBJ2-4'</li><li>'TRBJ_is_TRBJ2-5'</li><li>'TRBJ_is_TRBJ2-6'</li><li>'TRBJ_is_TRBJ2-7'</li><li>'Vmotif_is_CA*'</li><li>'Vmotif_is_CAA'</li><li>'Vmotif_is_CAC'</li><li>'Vmotif_is_CAD'</li><li>'Vmotif_is_CAE'</li><li>'Vmotif_is_CAF'</li><li>'Vmotif_is_CAG'</li><li>'Vmotif_is_CAH'</li><li>'Vmotif_is_CAI'</li><li>'Vmotif_is_CAK'</li><li>'Vmotif_is_CAL'</li><li>'Vmotif_is_CAM'</li><li>'Vmotif_is_CAN'</li><li>'Vmotif_is_CAP'</li><li>'Vmotif_is_CAQ'</li><li>'Vmotif_is_CAR'</li><li>'Vmotif_is_CAS'</li><li>'Vmotif_is_CAT'</li><li>'Vmotif_is_CAV'</li><li>'Vmotif_is_CAW'</li><li>'Vmotif_is_CAY'</li><li>'Vmotif_is_CCA'</li><li>'Vmotif_is_CCT'</li><li>'Vmotif_is_CDE'</li><li>'Vmotif_is_CDG'</li><li>'Vmotif_is_CDI'</li><li>'Vmotif_is_CDK'</li><li>'Vmotif_is_CDR'</li><li>'Vmotif_is_CDS'</li><li>'Vmotif_is_CDT'</li><li>'Vmotif_is_CDW'</li><li>'Vmotif_is_CEG'</li><li>'Vmotif_is_CEH'</li><li>'Vmotif_is_CEI'</li><li>'Vmotif_is_CEV'</li><li>'Vmotif_is_CGA'</li><li>'Vmotif_is_CGF'</li><li>'Vmotif_is_CGG'</li><li>'Vmotif_is_CGM'</li><li>'Vmotif_is_CGN'</li><li>'Vmotif_is_CGS'</li><li>'Vmotif_is_CGT'</li><li>'Vmotif_is_CIK'</li><li>'Vmotif_is_CIL'</li><li>'Vmotif_is_CIR'</li><li>'Vmotif_is_CIS'</li><li>'Vmotif_is_CKN'</li><li>'Vmotif_is_CNA'</li><li>'Vmotif_is_CNV'</li><li>'Vmotif_is_CPD'</li><li>'Vmotif_is_CPE'</li><li>'Vmotif_is_CPG'</li><li>'Vmotif_is_CPI'</li><li>'Vmotif_is_CPL'</li><li>'Vmotif_is_CPQ'</li><li>'Vmotif_is_CPR'</li><li>'Vmotif_is_CPS'</li><li>'Vmotif_is_CPT'</li><li>'Vmotif_is_CPW'</li><li>'Vmotif_is_CQS'</li><li>'Vmotif_is_CQV'</li><li>'Vmotif_is_CRA'</li><li>'Vmotif_is_CRD'</li><li>'Vmotif_is_CRE'</li><li>'Vmotif_is_CRG'</li><li>'Vmotif_is_CRI'</li><li>'Vmotif_is_CRL'</li><li>'Vmotif_is_CRM'</li><li>...</li><li>'p112.1_is_Q'</li><li>'p112.1_is_R'</li><li>'p112.1_is_S'</li><li>'p112.1_is_T'</li><li>'p112.1_is_V'</li><li>'p112.1_is_W'</li><li>'p112.1_is_Y'</li><li>'p112_is_A'</li><li>'p112_is_C'</li><li>'p112_is_D'</li><li>'p112_is_E'</li><li>'p112_is_F'</li><li>'p112_is_G'</li><li>'p112_is_H'</li><li>'p112_is_I'</li><li>'p112_is_K'</li><li>'p112_is_L'</li><li>'p112_is_M'</li><li>'p112_is_N'</li><li>'p112_is_P'</li><li>'p112_is_Q'</li><li>'p112_is_R'</li><li>'p112_is_S'</li><li>'p112_is_T'</li><li>'p112_is_V'</li><li>'p112_is_W'</li><li>'p112_is_Y'</li><li>'p113_is_A'</li><li>'p113_is_C'</li><li>'p113_is_D'</li><li>'p113_is_E'</li><li>'p113_is_F'</li><li>'p113_is_G'</li><li>'p113_is_H'</li><li>'p113_is_I'</li><li>'p113_is_K'</li><li>'p113_is_L'</li><li>'p113_is_M'</li><li>'p113_is_N'</li><li>'p113_is_P'</li><li>'p113_is_Q'</li><li>'p113_is_R'</li><li>'p113_is_S'</li><li>'p113_is_T'</li><li>'p113_is_V'</li><li>'p113_is_W'</li><li>'p113_is_Y'</li><li>'p114_is_A'</li><li>'p114_is_C'</li><li>'p114_is_D'</li><li>'p114_is_E'</li><li>'p114_is_F'</li><li>'p114_is_G'</li><li>'p114_is_H'</li><li>'p114_is_I'</li><li>'p114_is_K'</li><li>'p114_is_L'</li><li>'p114_is_M'</li><li>'p114_is_N'</li><li>'p114_is_P'</li><li>'p114_is_Q'</li><li>'p114_is_R'</li><li>'p114_is_S'</li><li>'p114_is_T'</li><li>'p114_is_V'</li><li>'p114_is_W'</li><li>'p114_is_Y'</li><li>'HLA_A02:01:01'</li><li>'HLA_A01:01:01'</li><li>'HLA_A11:01:01'</li><li>'HLA_A26:01:01'</li><li>'HLA_A31:01:02'</li><li>'HLA_A03:01:01'</li><li>'HLA_A02:05:01'</li><li>'HLA_A23:01:01'</li><li>'HLA_A24:02:01'</li><li>'HLA_A30:01:01'</li><li>'HLA_A25:01:01'</li><li>'HLA_A68:01:02'</li><li>'HLA_A33:03:01'</li><li>'HLA_A68:01:01'</li><li>'HLA_A29:02:01'</li><li>'HLA_A30:02:01'</li><li>'HLA_B35:01:01'</li><li>'HLA_B07:02:01'</li><li>'HLA_B13:02:01'</li><li>'HLA_B35:03:01'</li><li>'HLA_B38:01:01'</li><li>'HLA_B18:01:01'</li><li>'HLA_B27:05:02'</li><li>'HLA_B42:01:01'</li><li>'HLA_B08:01:01'</li><li>'HLA_B15:03:01'</li><li>'HLA_B15:01:01'</li><li>'HLA_B45:01:01'</li><li>'HLA_B40:01:02'</li><li>'HLA_B51:01:01'</li><li>'HLA_B44:03:01'</li><li>'HLA_B44:02:01'</li><li>'HLA_B53:01:01'</li><li>'HLA_B49:01:01'</li><li>'HLA_B55:01:01'</li><li>'HLA_B37:01:01'</li><li>'HLA_B57:01:01'</li><li>'HLA_C04:01:01'</li><li>'HLA_C07:02:01'</li><li>'HLA_C07:01:01'</li><li>'HLA_C05:01:01'</li><li>'HLA_C07:04:01'</li><li>'HLA_C03:04:01'</li><li>'HLA_C02:02:02'</li><li>'HLA_C12:03:01'</li><li>'HLA_C03:03:01'</li><li>'HLA_C06:02:01'</li><li>'HLA_C01:02:01'</li><li>'HLA_C02:10:01'</li><li>'HLA_C16:01:01'</li><li>'HLA_C14:02:01'</li><li>'HLA_C17:01:01'</li><li>'HLA_DPA101:03:01'</li><li>'HLA_DPA102:01:01'</li><li>'HLA_DPA102:02:02'</li><li>'HLA_DPA102:07:01'</li><li>'HLA_DPB101:01:01'</li><li>'HLA_DPB103:01:01'</li><li>'HLA_DPB104:01:01'</li><li>'HLA_DPB102:01:02'</li><li>'HLA_DPB104:02:01'</li><li>'HLA_DPB101:01:02'</li><li>'HLA_DPB113:01:01'</li><li>'HLA_DPB119:01:01'</li><li>'HLA_DPB123:01:01'</li><li>'HLA_DPB1104:01:01'</li><li>'HLA_DPB1105:01:01'</li><li>'HLA_DPB110:01:01'</li><li>'HLA_DPB117:01:01'</li><li>'HLA_DPB105:01:01'</li><li>'HLA_DPB106:01:01'</li><li>'HLA_DPB120:01:01'</li><li>'HLA_DQA101:02:01'</li><li>'HLA_DQA105:01:01'</li><li>'HLA_DQA101:01:02'</li><li>'HLA_DQA102:01:01'</li><li>'HLA_DQA101:01:01'</li><li>'HLA_DQA101:03:01'</li><li>'HLA_DQA103:03:01'</li><li>'HLA_DQA103:01:01'</li><li>'HLA_DQA104:01:01'</li><li>'HLA_DQA105:05:01'</li><li>'HLA_DQA101:02:02'</li><li>'HLA_DQA101:04:01'</li><li>'HLA_DQA103:02:01'</li><li>'HLA_DQB103:19:01'</li><li>'HLA_DQB102:01:01'</li><li>'HLA_DQB103:02:01'</li><li>'HLA_DQB105:02:01'</li><li>'HLA_DQB104:02:01'</li><li>'HLA_DQB103:03:02'</li><li>'HLA_DQB102:02:01'</li><li>'HLA_DQB105:01:01'</li><li>'HLA_DQB103:01:01'</li><li>'HLA_DQB106:02:01'</li><li>'HLA_DQB105:03:01'</li><li>'HLA_DQB106:04:01'</li><li>'HLA_DQB106:03:01'</li><li>'HLA_DQB106:01:01'</li><li>'HLA_DQB106:09:01'</li><li>'HLA_DRB113:02:01'</li><li>'HLA_DRB103:01:01'</li><li>'HLA_DRB101:02:01'</li><li>'HLA_DRB115:01:01'</li><li>'HLA_DRB101:01:01'</li><li>'HLA_DRB104:07:01'</li><li>'HLA_DRB104:02:01'</li><li>'HLA_DRB108:01:01'</li><li>'HLA_DRB109:01:02'</li><li>'HLA_DRB107:01:01'</li><li>'HLA_DRB104:01:01'</li><li>'HLA_DRB104:04:01'</li><li>'HLA_DRB103:02:01'</li><li>'HLA_DRB112:01:01'</li><li>'HLA_DRB104:05:01'</li><li>'HLA_DRB111:01:01'</li><li>'HLA_DRB114:54:01'</li><li>'HLA_DRB113:01:01'</li><li>'HLA_DRB116:01:01'</li><li>'HLA_DRB115:02:01'</li><li>'HLA_DRB116:02:01'</li><li>'HLA_DRB111:01:02'</li><li>'HLA_DRB302:02:01'</li><li>'HLA_DRB301:01:02'</li><li>'HLA_DRB501:01:01'</li><li>'HLA_DRB401:03:01'</li><li>'HLA_DRB303:01:01'</li><li>'HLA_DRB401:01:01'</li><li>'HLA_DRB301:62:01'</li><li>'HLA_DRB401:03:02'</li><li>'HLA_DRB502:02:01'</li><li>'HLA_DRB501:02:01'</li><li>'HLA_DRB401:03:01:02N'</li></ol>\n"
      ],
      "text/latex": [
       "\\begin{enumerate*}\n",
       "\\item 'ATC'\n",
       "\\item 'Age'\n",
       "\\item 'EM'\n",
       "\\item 'CM'\n",
       "\\item 'Naive'\n",
       "\\item 'SCM'\n",
       "\\item 'TE'\n",
       "\\item 'PD1'\n",
       "\\item 'LAG3'\n",
       "\\item 'TIM3'\n",
       "\\item 'aaSeqCDR3'\n",
       "\\item 'TRBV'\n",
       "\\item 'TRBJ'\n",
       "\\item 'cloneCount'\n",
       "\\item 'cloneFraction'\n",
       "\\item 'length'\n",
       "\\item 'Vmotif'\n",
       "\\item 'frame\\_type'\n",
       "\\item 'p107'\n",
       "\\item 'p108'\n",
       "\\item 'p109'\n",
       "\\item 'p110'\n",
       "\\item 'p111'\n",
       "\\item 'p111.1'\n",
       "\\item 'p112.1'\n",
       "\\item 'p112'\n",
       "\\item 'p113'\n",
       "\\item 'p114'\n",
       "\\item 'p115'\n",
       "\\item 'p116'\n",
       "\\item 'p117'\n",
       "\\item 'p118'\n",
       "\\item 'Jmotif'\n",
       "\\item 'midseq'\n",
       "\\item 'perc\\_mid\\_A'\n",
       "\\item 'perc\\_mid\\_C'\n",
       "\\item 'perc\\_mid\\_D'\n",
       "\\item 'perc\\_mid\\_E'\n",
       "\\item 'perc\\_mid\\_F'\n",
       "\\item 'perc\\_mid\\_G'\n",
       "\\item 'perc\\_mid\\_H'\n",
       "\\item 'perc\\_mid\\_I'\n",
       "\\item 'perc\\_mid\\_K'\n",
       "\\item 'perc\\_mid\\_L'\n",
       "\\item 'perc\\_mid\\_M'\n",
       "\\item 'perc\\_mid\\_N'\n",
       "\\item 'perc\\_mid\\_P'\n",
       "\\item 'perc\\_mid\\_Q'\n",
       "\\item 'perc\\_mid\\_R'\n",
       "\\item 'perc\\_mid\\_S'\n",
       "\\item 'perc\\_mid\\_T'\n",
       "\\item 'perc\\_mid\\_V'\n",
       "\\item 'perc\\_mid\\_W'\n",
       "\\item 'perc\\_mid\\_Y'\n",
       "\\item 'frame\\_type\\_is\\_in'\n",
       "\\item 'frame\\_type\\_is\\_out'\n",
       "\\item 'TRBV\\_is\\_TRBV1'\n",
       "\\item 'TRBV\\_is\\_TRBV10-1'\n",
       "\\item 'TRBV\\_is\\_TRBV10-2'\n",
       "\\item 'TRBV\\_is\\_TRBV10-3'\n",
       "\\item 'TRBV\\_is\\_TRBV11-1'\n",
       "\\item 'TRBV\\_is\\_TRBV11-2'\n",
       "\\item 'TRBV\\_is\\_TRBV11-3'\n",
       "\\item 'TRBV\\_is\\_TRBV12-1'\n",
       "\\item 'TRBV\\_is\\_TRBV12-2'\n",
       "\\item 'TRBV\\_is\\_TRBV12-3'\n",
       "\\item 'TRBV\\_is\\_TRBV12-4'\n",
       "\\item 'TRBV\\_is\\_TRBV12-5'\n",
       "\\item 'TRBV\\_is\\_TRBV13'\n",
       "\\item 'TRBV\\_is\\_TRBV14'\n",
       "\\item 'TRBV\\_is\\_TRBV15'\n",
       "\\item 'TRBV\\_is\\_TRBV16'\n",
       "\\item 'TRBV\\_is\\_TRBV17'\n",
       "\\item 'TRBV\\_is\\_TRBV18'\n",
       "\\item 'TRBV\\_is\\_TRBV19'\n",
       "\\item 'TRBV\\_is\\_TRBV2'\n",
       "\\item 'TRBV\\_is\\_TRBV20-1'\n",
       "\\item 'TRBV\\_is\\_TRBV21-1'\n",
       "\\item 'TRBV\\_is\\_TRBV22-1'\n",
       "\\item 'TRBV\\_is\\_TRBV23-1'\n",
       "\\item 'TRBV\\_is\\_TRBV24-1'\n",
       "\\item 'TRBV\\_is\\_TRBV25-1'\n",
       "\\item 'TRBV\\_is\\_TRBV26'\n",
       "\\item 'TRBV\\_is\\_TRBV27'\n",
       "\\item 'TRBV\\_is\\_TRBV28'\n",
       "\\item 'TRBV\\_is\\_TRBV29-1'\n",
       "\\item 'TRBV\\_is\\_TRBV3-1'\n",
       "\\item 'TRBV\\_is\\_TRBV3-2'\n",
       "\\item 'TRBV\\_is\\_TRBV30'\n",
       "\\item 'TRBV\\_is\\_TRBV4-1'\n",
       "\\item 'TRBV\\_is\\_TRBV4-2'\n",
       "\\item 'TRBV\\_is\\_TRBV4-3'\n",
       "\\item 'TRBV\\_is\\_TRBV5-1'\n",
       "\\item 'TRBV\\_is\\_TRBV5-2'\n",
       "\\item 'TRBV\\_is\\_TRBV5-3'\n",
       "\\item 'TRBV\\_is\\_TRBV5-4'\n",
       "\\item 'TRBV\\_is\\_TRBV5-5'\n",
       "\\item 'TRBV\\_is\\_TRBV5-6'\n",
       "\\item 'TRBV\\_is\\_TRBV5-7'\n",
       "\\item 'TRBV\\_is\\_TRBV5-8'\n",
       "\\item 'TRBV\\_is\\_TRBV6-1'\n",
       "\\item 'TRBV\\_is\\_TRBV6-2'\n",
       "\\item 'TRBV\\_is\\_TRBV6-3'\n",
       "\\item 'TRBV\\_is\\_TRBV6-4'\n",
       "\\item 'TRBV\\_is\\_TRBV6-5'\n",
       "\\item 'TRBV\\_is\\_TRBV6-6'\n",
       "\\item 'TRBV\\_is\\_TRBV6-7'\n",
       "\\item 'TRBV\\_is\\_TRBV6-8'\n",
       "\\item 'TRBV\\_is\\_TRBV6-9'\n",
       "\\item 'TRBV\\_is\\_TRBV7-1'\n",
       "\\item 'TRBV\\_is\\_TRBV7-2'\n",
       "\\item 'TRBV\\_is\\_TRBV7-3'\n",
       "\\item 'TRBV\\_is\\_TRBV7-4'\n",
       "\\item 'TRBV\\_is\\_TRBV7-5'\n",
       "\\item 'TRBV\\_is\\_TRBV7-6'\n",
       "\\item 'TRBV\\_is\\_TRBV7-7'\n",
       "\\item 'TRBV\\_is\\_TRBV7-8'\n",
       "\\item 'TRBV\\_is\\_TRBV7-9'\n",
       "\\item 'TRBV\\_is\\_TRBV9'\n",
       "\\item 'TRBJ\\_is\\_TRBJ1-1'\n",
       "\\item 'TRBJ\\_is\\_TRBJ1-2'\n",
       "\\item 'TRBJ\\_is\\_TRBJ1-3'\n",
       "\\item 'TRBJ\\_is\\_TRBJ1-4'\n",
       "\\item 'TRBJ\\_is\\_TRBJ1-5'\n",
       "\\item 'TRBJ\\_is\\_TRBJ1-6'\n",
       "\\item 'TRBJ\\_is\\_TRBJ2-1'\n",
       "\\item 'TRBJ\\_is\\_TRBJ2-2'\n",
       "\\item 'TRBJ\\_is\\_TRBJ2-3'\n",
       "\\item 'TRBJ\\_is\\_TRBJ2-4'\n",
       "\\item 'TRBJ\\_is\\_TRBJ2-5'\n",
       "\\item 'TRBJ\\_is\\_TRBJ2-6'\n",
       "\\item 'TRBJ\\_is\\_TRBJ2-7'\n",
       "\\item 'Vmotif\\_is\\_CA*'\n",
       "\\item 'Vmotif\\_is\\_CAA'\n",
       "\\item 'Vmotif\\_is\\_CAC'\n",
       "\\item 'Vmotif\\_is\\_CAD'\n",
       "\\item 'Vmotif\\_is\\_CAE'\n",
       "\\item 'Vmotif\\_is\\_CAF'\n",
       "\\item 'Vmotif\\_is\\_CAG'\n",
       "\\item 'Vmotif\\_is\\_CAH'\n",
       "\\item 'Vmotif\\_is\\_CAI'\n",
       "\\item 'Vmotif\\_is\\_CAK'\n",
       "\\item 'Vmotif\\_is\\_CAL'\n",
       "\\item 'Vmotif\\_is\\_CAM'\n",
       "\\item 'Vmotif\\_is\\_CAN'\n",
       "\\item 'Vmotif\\_is\\_CAP'\n",
       "\\item 'Vmotif\\_is\\_CAQ'\n",
       "\\item 'Vmotif\\_is\\_CAR'\n",
       "\\item 'Vmotif\\_is\\_CAS'\n",
       "\\item 'Vmotif\\_is\\_CAT'\n",
       "\\item 'Vmotif\\_is\\_CAV'\n",
       "\\item 'Vmotif\\_is\\_CAW'\n",
       "\\item 'Vmotif\\_is\\_CAY'\n",
       "\\item 'Vmotif\\_is\\_CCA'\n",
       "\\item 'Vmotif\\_is\\_CCT'\n",
       "\\item 'Vmotif\\_is\\_CDE'\n",
       "\\item 'Vmotif\\_is\\_CDG'\n",
       "\\item 'Vmotif\\_is\\_CDI'\n",
       "\\item 'Vmotif\\_is\\_CDK'\n",
       "\\item 'Vmotif\\_is\\_CDR'\n",
       "\\item 'Vmotif\\_is\\_CDS'\n",
       "\\item 'Vmotif\\_is\\_CDT'\n",
       "\\item 'Vmotif\\_is\\_CDW'\n",
       "\\item 'Vmotif\\_is\\_CEG'\n",
       "\\item 'Vmotif\\_is\\_CEH'\n",
       "\\item 'Vmotif\\_is\\_CEI'\n",
       "\\item 'Vmotif\\_is\\_CEV'\n",
       "\\item 'Vmotif\\_is\\_CGA'\n",
       "\\item 'Vmotif\\_is\\_CGF'\n",
       "\\item 'Vmotif\\_is\\_CGG'\n",
       "\\item 'Vmotif\\_is\\_CGM'\n",
       "\\item 'Vmotif\\_is\\_CGN'\n",
       "\\item 'Vmotif\\_is\\_CGS'\n",
       "\\item 'Vmotif\\_is\\_CGT'\n",
       "\\item 'Vmotif\\_is\\_CIK'\n",
       "\\item 'Vmotif\\_is\\_CIL'\n",
       "\\item 'Vmotif\\_is\\_CIR'\n",
       "\\item 'Vmotif\\_is\\_CIS'\n",
       "\\item 'Vmotif\\_is\\_CKN'\n",
       "\\item 'Vmotif\\_is\\_CNA'\n",
       "\\item 'Vmotif\\_is\\_CNV'\n",
       "\\item 'Vmotif\\_is\\_CPD'\n",
       "\\item 'Vmotif\\_is\\_CPE'\n",
       "\\item 'Vmotif\\_is\\_CPG'\n",
       "\\item 'Vmotif\\_is\\_CPI'\n",
       "\\item 'Vmotif\\_is\\_CPL'\n",
       "\\item 'Vmotif\\_is\\_CPQ'\n",
       "\\item 'Vmotif\\_is\\_CPR'\n",
       "\\item 'Vmotif\\_is\\_CPS'\n",
       "\\item 'Vmotif\\_is\\_CPT'\n",
       "\\item 'Vmotif\\_is\\_CPW'\n",
       "\\item 'Vmotif\\_is\\_CQS'\n",
       "\\item 'Vmotif\\_is\\_CQV'\n",
       "\\item 'Vmotif\\_is\\_CRA'\n",
       "\\item 'Vmotif\\_is\\_CRD'\n",
       "\\item 'Vmotif\\_is\\_CRE'\n",
       "\\item 'Vmotif\\_is\\_CRG'\n",
       "\\item 'Vmotif\\_is\\_CRI'\n",
       "\\item 'Vmotif\\_is\\_CRL'\n",
       "\\item 'Vmotif\\_is\\_CRM'\n",
       "\\item ...\n",
       "\\item 'p112.1\\_is\\_Q'\n",
       "\\item 'p112.1\\_is\\_R'\n",
       "\\item 'p112.1\\_is\\_S'\n",
       "\\item 'p112.1\\_is\\_T'\n",
       "\\item 'p112.1\\_is\\_V'\n",
       "\\item 'p112.1\\_is\\_W'\n",
       "\\item 'p112.1\\_is\\_Y'\n",
       "\\item 'p112\\_is\\_A'\n",
       "\\item 'p112\\_is\\_C'\n",
       "\\item 'p112\\_is\\_D'\n",
       "\\item 'p112\\_is\\_E'\n",
       "\\item 'p112\\_is\\_F'\n",
       "\\item 'p112\\_is\\_G'\n",
       "\\item 'p112\\_is\\_H'\n",
       "\\item 'p112\\_is\\_I'\n",
       "\\item 'p112\\_is\\_K'\n",
       "\\item 'p112\\_is\\_L'\n",
       "\\item 'p112\\_is\\_M'\n",
       "\\item 'p112\\_is\\_N'\n",
       "\\item 'p112\\_is\\_P'\n",
       "\\item 'p112\\_is\\_Q'\n",
       "\\item 'p112\\_is\\_R'\n",
       "\\item 'p112\\_is\\_S'\n",
       "\\item 'p112\\_is\\_T'\n",
       "\\item 'p112\\_is\\_V'\n",
       "\\item 'p112\\_is\\_W'\n",
       "\\item 'p112\\_is\\_Y'\n",
       "\\item 'p113\\_is\\_A'\n",
       "\\item 'p113\\_is\\_C'\n",
       "\\item 'p113\\_is\\_D'\n",
       "\\item 'p113\\_is\\_E'\n",
       "\\item 'p113\\_is\\_F'\n",
       "\\item 'p113\\_is\\_G'\n",
       "\\item 'p113\\_is\\_H'\n",
       "\\item 'p113\\_is\\_I'\n",
       "\\item 'p113\\_is\\_K'\n",
       "\\item 'p113\\_is\\_L'\n",
       "\\item 'p113\\_is\\_M'\n",
       "\\item 'p113\\_is\\_N'\n",
       "\\item 'p113\\_is\\_P'\n",
       "\\item 'p113\\_is\\_Q'\n",
       "\\item 'p113\\_is\\_R'\n",
       "\\item 'p113\\_is\\_S'\n",
       "\\item 'p113\\_is\\_T'\n",
       "\\item 'p113\\_is\\_V'\n",
       "\\item 'p113\\_is\\_W'\n",
       "\\item 'p113\\_is\\_Y'\n",
       "\\item 'p114\\_is\\_A'\n",
       "\\item 'p114\\_is\\_C'\n",
       "\\item 'p114\\_is\\_D'\n",
       "\\item 'p114\\_is\\_E'\n",
       "\\item 'p114\\_is\\_F'\n",
       "\\item 'p114\\_is\\_G'\n",
       "\\item 'p114\\_is\\_H'\n",
       "\\item 'p114\\_is\\_I'\n",
       "\\item 'p114\\_is\\_K'\n",
       "\\item 'p114\\_is\\_L'\n",
       "\\item 'p114\\_is\\_M'\n",
       "\\item 'p114\\_is\\_N'\n",
       "\\item 'p114\\_is\\_P'\n",
       "\\item 'p114\\_is\\_Q'\n",
       "\\item 'p114\\_is\\_R'\n",
       "\\item 'p114\\_is\\_S'\n",
       "\\item 'p114\\_is\\_T'\n",
       "\\item 'p114\\_is\\_V'\n",
       "\\item 'p114\\_is\\_W'\n",
       "\\item 'p114\\_is\\_Y'\n",
       "\\item 'HLA\\_A02:01:01'\n",
       "\\item 'HLA\\_A01:01:01'\n",
       "\\item 'HLA\\_A11:01:01'\n",
       "\\item 'HLA\\_A26:01:01'\n",
       "\\item 'HLA\\_A31:01:02'\n",
       "\\item 'HLA\\_A03:01:01'\n",
       "\\item 'HLA\\_A02:05:01'\n",
       "\\item 'HLA\\_A23:01:01'\n",
       "\\item 'HLA\\_A24:02:01'\n",
       "\\item 'HLA\\_A30:01:01'\n",
       "\\item 'HLA\\_A25:01:01'\n",
       "\\item 'HLA\\_A68:01:02'\n",
       "\\item 'HLA\\_A33:03:01'\n",
       "\\item 'HLA\\_A68:01:01'\n",
       "\\item 'HLA\\_A29:02:01'\n",
       "\\item 'HLA\\_A30:02:01'\n",
       "\\item 'HLA\\_B35:01:01'\n",
       "\\item 'HLA\\_B07:02:01'\n",
       "\\item 'HLA\\_B13:02:01'\n",
       "\\item 'HLA\\_B35:03:01'\n",
       "\\item 'HLA\\_B38:01:01'\n",
       "\\item 'HLA\\_B18:01:01'\n",
       "\\item 'HLA\\_B27:05:02'\n",
       "\\item 'HLA\\_B42:01:01'\n",
       "\\item 'HLA\\_B08:01:01'\n",
       "\\item 'HLA\\_B15:03:01'\n",
       "\\item 'HLA\\_B15:01:01'\n",
       "\\item 'HLA\\_B45:01:01'\n",
       "\\item 'HLA\\_B40:01:02'\n",
       "\\item 'HLA\\_B51:01:01'\n",
       "\\item 'HLA\\_B44:03:01'\n",
       "\\item 'HLA\\_B44:02:01'\n",
       "\\item 'HLA\\_B53:01:01'\n",
       "\\item 'HLA\\_B49:01:01'\n",
       "\\item 'HLA\\_B55:01:01'\n",
       "\\item 'HLA\\_B37:01:01'\n",
       "\\item 'HLA\\_B57:01:01'\n",
       "\\item 'HLA\\_C04:01:01'\n",
       "\\item 'HLA\\_C07:02:01'\n",
       "\\item 'HLA\\_C07:01:01'\n",
       "\\item 'HLA\\_C05:01:01'\n",
       "\\item 'HLA\\_C07:04:01'\n",
       "\\item 'HLA\\_C03:04:01'\n",
       "\\item 'HLA\\_C02:02:02'\n",
       "\\item 'HLA\\_C12:03:01'\n",
       "\\item 'HLA\\_C03:03:01'\n",
       "\\item 'HLA\\_C06:02:01'\n",
       "\\item 'HLA\\_C01:02:01'\n",
       "\\item 'HLA\\_C02:10:01'\n",
       "\\item 'HLA\\_C16:01:01'\n",
       "\\item 'HLA\\_C14:02:01'\n",
       "\\item 'HLA\\_C17:01:01'\n",
       "\\item 'HLA\\_DPA101:03:01'\n",
       "\\item 'HLA\\_DPA102:01:01'\n",
       "\\item 'HLA\\_DPA102:02:02'\n",
       "\\item 'HLA\\_DPA102:07:01'\n",
       "\\item 'HLA\\_DPB101:01:01'\n",
       "\\item 'HLA\\_DPB103:01:01'\n",
       "\\item 'HLA\\_DPB104:01:01'\n",
       "\\item 'HLA\\_DPB102:01:02'\n",
       "\\item 'HLA\\_DPB104:02:01'\n",
       "\\item 'HLA\\_DPB101:01:02'\n",
       "\\item 'HLA\\_DPB113:01:01'\n",
       "\\item 'HLA\\_DPB119:01:01'\n",
       "\\item 'HLA\\_DPB123:01:01'\n",
       "\\item 'HLA\\_DPB1104:01:01'\n",
       "\\item 'HLA\\_DPB1105:01:01'\n",
       "\\item 'HLA\\_DPB110:01:01'\n",
       "\\item 'HLA\\_DPB117:01:01'\n",
       "\\item 'HLA\\_DPB105:01:01'\n",
       "\\item 'HLA\\_DPB106:01:01'\n",
       "\\item 'HLA\\_DPB120:01:01'\n",
       "\\item 'HLA\\_DQA101:02:01'\n",
       "\\item 'HLA\\_DQA105:01:01'\n",
       "\\item 'HLA\\_DQA101:01:02'\n",
       "\\item 'HLA\\_DQA102:01:01'\n",
       "\\item 'HLA\\_DQA101:01:01'\n",
       "\\item 'HLA\\_DQA101:03:01'\n",
       "\\item 'HLA\\_DQA103:03:01'\n",
       "\\item 'HLA\\_DQA103:01:01'\n",
       "\\item 'HLA\\_DQA104:01:01'\n",
       "\\item 'HLA\\_DQA105:05:01'\n",
       "\\item 'HLA\\_DQA101:02:02'\n",
       "\\item 'HLA\\_DQA101:04:01'\n",
       "\\item 'HLA\\_DQA103:02:01'\n",
       "\\item 'HLA\\_DQB103:19:01'\n",
       "\\item 'HLA\\_DQB102:01:01'\n",
       "\\item 'HLA\\_DQB103:02:01'\n",
       "\\item 'HLA\\_DQB105:02:01'\n",
       "\\item 'HLA\\_DQB104:02:01'\n",
       "\\item 'HLA\\_DQB103:03:02'\n",
       "\\item 'HLA\\_DQB102:02:01'\n",
       "\\item 'HLA\\_DQB105:01:01'\n",
       "\\item 'HLA\\_DQB103:01:01'\n",
       "\\item 'HLA\\_DQB106:02:01'\n",
       "\\item 'HLA\\_DQB105:03:01'\n",
       "\\item 'HLA\\_DQB106:04:01'\n",
       "\\item 'HLA\\_DQB106:03:01'\n",
       "\\item 'HLA\\_DQB106:01:01'\n",
       "\\item 'HLA\\_DQB106:09:01'\n",
       "\\item 'HLA\\_DRB113:02:01'\n",
       "\\item 'HLA\\_DRB103:01:01'\n",
       "\\item 'HLA\\_DRB101:02:01'\n",
       "\\item 'HLA\\_DRB115:01:01'\n",
       "\\item 'HLA\\_DRB101:01:01'\n",
       "\\item 'HLA\\_DRB104:07:01'\n",
       "\\item 'HLA\\_DRB104:02:01'\n",
       "\\item 'HLA\\_DRB108:01:01'\n",
       "\\item 'HLA\\_DRB109:01:02'\n",
       "\\item 'HLA\\_DRB107:01:01'\n",
       "\\item 'HLA\\_DRB104:01:01'\n",
       "\\item 'HLA\\_DRB104:04:01'\n",
       "\\item 'HLA\\_DRB103:02:01'\n",
       "\\item 'HLA\\_DRB112:01:01'\n",
       "\\item 'HLA\\_DRB104:05:01'\n",
       "\\item 'HLA\\_DRB111:01:01'\n",
       "\\item 'HLA\\_DRB114:54:01'\n",
       "\\item 'HLA\\_DRB113:01:01'\n",
       "\\item 'HLA\\_DRB116:01:01'\n",
       "\\item 'HLA\\_DRB115:02:01'\n",
       "\\item 'HLA\\_DRB116:02:01'\n",
       "\\item 'HLA\\_DRB111:01:02'\n",
       "\\item 'HLA\\_DRB302:02:01'\n",
       "\\item 'HLA\\_DRB301:01:02'\n",
       "\\item 'HLA\\_DRB501:01:01'\n",
       "\\item 'HLA\\_DRB401:03:01'\n",
       "\\item 'HLA\\_DRB303:01:01'\n",
       "\\item 'HLA\\_DRB401:01:01'\n",
       "\\item 'HLA\\_DRB301:62:01'\n",
       "\\item 'HLA\\_DRB401:03:02'\n",
       "\\item 'HLA\\_DRB502:02:01'\n",
       "\\item 'HLA\\_DRB501:02:01'\n",
       "\\item 'HLA\\_DRB401:03:01:02N'\n",
       "\\end{enumerate*}\n"
      ],
      "text/markdown": [
       "1. 'ATC'\n",
       "2. 'Age'\n",
       "3. 'EM'\n",
       "4. 'CM'\n",
       "5. 'Naive'\n",
       "6. 'SCM'\n",
       "7. 'TE'\n",
       "8. 'PD1'\n",
       "9. 'LAG3'\n",
       "10. 'TIM3'\n",
       "11. 'aaSeqCDR3'\n",
       "12. 'TRBV'\n",
       "13. 'TRBJ'\n",
       "14. 'cloneCount'\n",
       "15. 'cloneFraction'\n",
       "16. 'length'\n",
       "17. 'Vmotif'\n",
       "18. 'frame_type'\n",
       "19. 'p107'\n",
       "20. 'p108'\n",
       "21. 'p109'\n",
       "22. 'p110'\n",
       "23. 'p111'\n",
       "24. 'p111.1'\n",
       "25. 'p112.1'\n",
       "26. 'p112'\n",
       "27. 'p113'\n",
       "28. 'p114'\n",
       "29. 'p115'\n",
       "30. 'p116'\n",
       "31. 'p117'\n",
       "32. 'p118'\n",
       "33. 'Jmotif'\n",
       "34. 'midseq'\n",
       "35. 'perc_mid_A'\n",
       "36. 'perc_mid_C'\n",
       "37. 'perc_mid_D'\n",
       "38. 'perc_mid_E'\n",
       "39. 'perc_mid_F'\n",
       "40. 'perc_mid_G'\n",
       "41. 'perc_mid_H'\n",
       "42. 'perc_mid_I'\n",
       "43. 'perc_mid_K'\n",
       "44. 'perc_mid_L'\n",
       "45. 'perc_mid_M'\n",
       "46. 'perc_mid_N'\n",
       "47. 'perc_mid_P'\n",
       "48. 'perc_mid_Q'\n",
       "49. 'perc_mid_R'\n",
       "50. 'perc_mid_S'\n",
       "51. 'perc_mid_T'\n",
       "52. 'perc_mid_V'\n",
       "53. 'perc_mid_W'\n",
       "54. 'perc_mid_Y'\n",
       "55. 'frame_type_is_in'\n",
       "56. 'frame_type_is_out'\n",
       "57. 'TRBV_is_TRBV1'\n",
       "58. 'TRBV_is_TRBV10-1'\n",
       "59. 'TRBV_is_TRBV10-2'\n",
       "60. 'TRBV_is_TRBV10-3'\n",
       "61. 'TRBV_is_TRBV11-1'\n",
       "62. 'TRBV_is_TRBV11-2'\n",
       "63. 'TRBV_is_TRBV11-3'\n",
       "64. 'TRBV_is_TRBV12-1'\n",
       "65. 'TRBV_is_TRBV12-2'\n",
       "66. 'TRBV_is_TRBV12-3'\n",
       "67. 'TRBV_is_TRBV12-4'\n",
       "68. 'TRBV_is_TRBV12-5'\n",
       "69. 'TRBV_is_TRBV13'\n",
       "70. 'TRBV_is_TRBV14'\n",
       "71. 'TRBV_is_TRBV15'\n",
       "72. 'TRBV_is_TRBV16'\n",
       "73. 'TRBV_is_TRBV17'\n",
       "74. 'TRBV_is_TRBV18'\n",
       "75. 'TRBV_is_TRBV19'\n",
       "76. 'TRBV_is_TRBV2'\n",
       "77. 'TRBV_is_TRBV20-1'\n",
       "78. 'TRBV_is_TRBV21-1'\n",
       "79. 'TRBV_is_TRBV22-1'\n",
       "80. 'TRBV_is_TRBV23-1'\n",
       "81. 'TRBV_is_TRBV24-1'\n",
       "82. 'TRBV_is_TRBV25-1'\n",
       "83. 'TRBV_is_TRBV26'\n",
       "84. 'TRBV_is_TRBV27'\n",
       "85. 'TRBV_is_TRBV28'\n",
       "86. 'TRBV_is_TRBV29-1'\n",
       "87. 'TRBV_is_TRBV3-1'\n",
       "88. 'TRBV_is_TRBV3-2'\n",
       "89. 'TRBV_is_TRBV30'\n",
       "90. 'TRBV_is_TRBV4-1'\n",
       "91. 'TRBV_is_TRBV4-2'\n",
       "92. 'TRBV_is_TRBV4-3'\n",
       "93. 'TRBV_is_TRBV5-1'\n",
       "94. 'TRBV_is_TRBV5-2'\n",
       "95. 'TRBV_is_TRBV5-3'\n",
       "96. 'TRBV_is_TRBV5-4'\n",
       "97. 'TRBV_is_TRBV5-5'\n",
       "98. 'TRBV_is_TRBV5-6'\n",
       "99. 'TRBV_is_TRBV5-7'\n",
       "100. 'TRBV_is_TRBV5-8'\n",
       "101. 'TRBV_is_TRBV6-1'\n",
       "102. 'TRBV_is_TRBV6-2'\n",
       "103. 'TRBV_is_TRBV6-3'\n",
       "104. 'TRBV_is_TRBV6-4'\n",
       "105. 'TRBV_is_TRBV6-5'\n",
       "106. 'TRBV_is_TRBV6-6'\n",
       "107. 'TRBV_is_TRBV6-7'\n",
       "108. 'TRBV_is_TRBV6-8'\n",
       "109. 'TRBV_is_TRBV6-9'\n",
       "110. 'TRBV_is_TRBV7-1'\n",
       "111. 'TRBV_is_TRBV7-2'\n",
       "112. 'TRBV_is_TRBV7-3'\n",
       "113. 'TRBV_is_TRBV7-4'\n",
       "114. 'TRBV_is_TRBV7-5'\n",
       "115. 'TRBV_is_TRBV7-6'\n",
       "116. 'TRBV_is_TRBV7-7'\n",
       "117. 'TRBV_is_TRBV7-8'\n",
       "118. 'TRBV_is_TRBV7-9'\n",
       "119. 'TRBV_is_TRBV9'\n",
       "120. 'TRBJ_is_TRBJ1-1'\n",
       "121. 'TRBJ_is_TRBJ1-2'\n",
       "122. 'TRBJ_is_TRBJ1-3'\n",
       "123. 'TRBJ_is_TRBJ1-4'\n",
       "124. 'TRBJ_is_TRBJ1-5'\n",
       "125. 'TRBJ_is_TRBJ1-6'\n",
       "126. 'TRBJ_is_TRBJ2-1'\n",
       "127. 'TRBJ_is_TRBJ2-2'\n",
       "128. 'TRBJ_is_TRBJ2-3'\n",
       "129. 'TRBJ_is_TRBJ2-4'\n",
       "130. 'TRBJ_is_TRBJ2-5'\n",
       "131. 'TRBJ_is_TRBJ2-6'\n",
       "132. 'TRBJ_is_TRBJ2-7'\n",
       "133. 'Vmotif_is_CA*'\n",
       "134. 'Vmotif_is_CAA'\n",
       "135. 'Vmotif_is_CAC'\n",
       "136. 'Vmotif_is_CAD'\n",
       "137. 'Vmotif_is_CAE'\n",
       "138. 'Vmotif_is_CAF'\n",
       "139. 'Vmotif_is_CAG'\n",
       "140. 'Vmotif_is_CAH'\n",
       "141. 'Vmotif_is_CAI'\n",
       "142. 'Vmotif_is_CAK'\n",
       "143. 'Vmotif_is_CAL'\n",
       "144. 'Vmotif_is_CAM'\n",
       "145. 'Vmotif_is_CAN'\n",
       "146. 'Vmotif_is_CAP'\n",
       "147. 'Vmotif_is_CAQ'\n",
       "148. 'Vmotif_is_CAR'\n",
       "149. 'Vmotif_is_CAS'\n",
       "150. 'Vmotif_is_CAT'\n",
       "151. 'Vmotif_is_CAV'\n",
       "152. 'Vmotif_is_CAW'\n",
       "153. 'Vmotif_is_CAY'\n",
       "154. 'Vmotif_is_CCA'\n",
       "155. 'Vmotif_is_CCT'\n",
       "156. 'Vmotif_is_CDE'\n",
       "157. 'Vmotif_is_CDG'\n",
       "158. 'Vmotif_is_CDI'\n",
       "159. 'Vmotif_is_CDK'\n",
       "160. 'Vmotif_is_CDR'\n",
       "161. 'Vmotif_is_CDS'\n",
       "162. 'Vmotif_is_CDT'\n",
       "163. 'Vmotif_is_CDW'\n",
       "164. 'Vmotif_is_CEG'\n",
       "165. 'Vmotif_is_CEH'\n",
       "166. 'Vmotif_is_CEI'\n",
       "167. 'Vmotif_is_CEV'\n",
       "168. 'Vmotif_is_CGA'\n",
       "169. 'Vmotif_is_CGF'\n",
       "170. 'Vmotif_is_CGG'\n",
       "171. 'Vmotif_is_CGM'\n",
       "172. 'Vmotif_is_CGN'\n",
       "173. 'Vmotif_is_CGS'\n",
       "174. 'Vmotif_is_CGT'\n",
       "175. 'Vmotif_is_CIK'\n",
       "176. 'Vmotif_is_CIL'\n",
       "177. 'Vmotif_is_CIR'\n",
       "178. 'Vmotif_is_CIS'\n",
       "179. 'Vmotif_is_CKN'\n",
       "180. 'Vmotif_is_CNA'\n",
       "181. 'Vmotif_is_CNV'\n",
       "182. 'Vmotif_is_CPD'\n",
       "183. 'Vmotif_is_CPE'\n",
       "184. 'Vmotif_is_CPG'\n",
       "185. 'Vmotif_is_CPI'\n",
       "186. 'Vmotif_is_CPL'\n",
       "187. 'Vmotif_is_CPQ'\n",
       "188. 'Vmotif_is_CPR'\n",
       "189. 'Vmotif_is_CPS'\n",
       "190. 'Vmotif_is_CPT'\n",
       "191. 'Vmotif_is_CPW'\n",
       "192. 'Vmotif_is_CQS'\n",
       "193. 'Vmotif_is_CQV'\n",
       "194. 'Vmotif_is_CRA'\n",
       "195. 'Vmotif_is_CRD'\n",
       "196. 'Vmotif_is_CRE'\n",
       "197. 'Vmotif_is_CRG'\n",
       "198. 'Vmotif_is_CRI'\n",
       "199. 'Vmotif_is_CRL'\n",
       "200. 'Vmotif_is_CRM'\n",
       "201. ...\n",
       "202. 'p112.1_is_Q'\n",
       "203. 'p112.1_is_R'\n",
       "204. 'p112.1_is_S'\n",
       "205. 'p112.1_is_T'\n",
       "206. 'p112.1_is_V'\n",
       "207. 'p112.1_is_W'\n",
       "208. 'p112.1_is_Y'\n",
       "209. 'p112_is_A'\n",
       "210. 'p112_is_C'\n",
       "211. 'p112_is_D'\n",
       "212. 'p112_is_E'\n",
       "213. 'p112_is_F'\n",
       "214. 'p112_is_G'\n",
       "215. 'p112_is_H'\n",
       "216. 'p112_is_I'\n",
       "217. 'p112_is_K'\n",
       "218. 'p112_is_L'\n",
       "219. 'p112_is_M'\n",
       "220. 'p112_is_N'\n",
       "221. 'p112_is_P'\n",
       "222. 'p112_is_Q'\n",
       "223. 'p112_is_R'\n",
       "224. 'p112_is_S'\n",
       "225. 'p112_is_T'\n",
       "226. 'p112_is_V'\n",
       "227. 'p112_is_W'\n",
       "228. 'p112_is_Y'\n",
       "229. 'p113_is_A'\n",
       "230. 'p113_is_C'\n",
       "231. 'p113_is_D'\n",
       "232. 'p113_is_E'\n",
       "233. 'p113_is_F'\n",
       "234. 'p113_is_G'\n",
       "235. 'p113_is_H'\n",
       "236. 'p113_is_I'\n",
       "237. 'p113_is_K'\n",
       "238. 'p113_is_L'\n",
       "239. 'p113_is_M'\n",
       "240. 'p113_is_N'\n",
       "241. 'p113_is_P'\n",
       "242. 'p113_is_Q'\n",
       "243. 'p113_is_R'\n",
       "244. 'p113_is_S'\n",
       "245. 'p113_is_T'\n",
       "246. 'p113_is_V'\n",
       "247. 'p113_is_W'\n",
       "248. 'p113_is_Y'\n",
       "249. 'p114_is_A'\n",
       "250. 'p114_is_C'\n",
       "251. 'p114_is_D'\n",
       "252. 'p114_is_E'\n",
       "253. 'p114_is_F'\n",
       "254. 'p114_is_G'\n",
       "255. 'p114_is_H'\n",
       "256. 'p114_is_I'\n",
       "257. 'p114_is_K'\n",
       "258. 'p114_is_L'\n",
       "259. 'p114_is_M'\n",
       "260. 'p114_is_N'\n",
       "261. 'p114_is_P'\n",
       "262. 'p114_is_Q'\n",
       "263. 'p114_is_R'\n",
       "264. 'p114_is_S'\n",
       "265. 'p114_is_T'\n",
       "266. 'p114_is_V'\n",
       "267. 'p114_is_W'\n",
       "268. 'p114_is_Y'\n",
       "269. 'HLA_A02:01:01'\n",
       "270. 'HLA_A01:01:01'\n",
       "271. 'HLA_A11:01:01'\n",
       "272. 'HLA_A26:01:01'\n",
       "273. 'HLA_A31:01:02'\n",
       "274. 'HLA_A03:01:01'\n",
       "275. 'HLA_A02:05:01'\n",
       "276. 'HLA_A23:01:01'\n",
       "277. 'HLA_A24:02:01'\n",
       "278. 'HLA_A30:01:01'\n",
       "279. 'HLA_A25:01:01'\n",
       "280. 'HLA_A68:01:02'\n",
       "281. 'HLA_A33:03:01'\n",
       "282. 'HLA_A68:01:01'\n",
       "283. 'HLA_A29:02:01'\n",
       "284. 'HLA_A30:02:01'\n",
       "285. 'HLA_B35:01:01'\n",
       "286. 'HLA_B07:02:01'\n",
       "287. 'HLA_B13:02:01'\n",
       "288. 'HLA_B35:03:01'\n",
       "289. 'HLA_B38:01:01'\n",
       "290. 'HLA_B18:01:01'\n",
       "291. 'HLA_B27:05:02'\n",
       "292. 'HLA_B42:01:01'\n",
       "293. 'HLA_B08:01:01'\n",
       "294. 'HLA_B15:03:01'\n",
       "295. 'HLA_B15:01:01'\n",
       "296. 'HLA_B45:01:01'\n",
       "297. 'HLA_B40:01:02'\n",
       "298. 'HLA_B51:01:01'\n",
       "299. 'HLA_B44:03:01'\n",
       "300. 'HLA_B44:02:01'\n",
       "301. 'HLA_B53:01:01'\n",
       "302. 'HLA_B49:01:01'\n",
       "303. 'HLA_B55:01:01'\n",
       "304. 'HLA_B37:01:01'\n",
       "305. 'HLA_B57:01:01'\n",
       "306. 'HLA_C04:01:01'\n",
       "307. 'HLA_C07:02:01'\n",
       "308. 'HLA_C07:01:01'\n",
       "309. 'HLA_C05:01:01'\n",
       "310. 'HLA_C07:04:01'\n",
       "311. 'HLA_C03:04:01'\n",
       "312. 'HLA_C02:02:02'\n",
       "313. 'HLA_C12:03:01'\n",
       "314. 'HLA_C03:03:01'\n",
       "315. 'HLA_C06:02:01'\n",
       "316. 'HLA_C01:02:01'\n",
       "317. 'HLA_C02:10:01'\n",
       "318. 'HLA_C16:01:01'\n",
       "319. 'HLA_C14:02:01'\n",
       "320. 'HLA_C17:01:01'\n",
       "321. 'HLA_DPA101:03:01'\n",
       "322. 'HLA_DPA102:01:01'\n",
       "323. 'HLA_DPA102:02:02'\n",
       "324. 'HLA_DPA102:07:01'\n",
       "325. 'HLA_DPB101:01:01'\n",
       "326. 'HLA_DPB103:01:01'\n",
       "327. 'HLA_DPB104:01:01'\n",
       "328. 'HLA_DPB102:01:02'\n",
       "329. 'HLA_DPB104:02:01'\n",
       "330. 'HLA_DPB101:01:02'\n",
       "331. 'HLA_DPB113:01:01'\n",
       "332. 'HLA_DPB119:01:01'\n",
       "333. 'HLA_DPB123:01:01'\n",
       "334. 'HLA_DPB1104:01:01'\n",
       "335. 'HLA_DPB1105:01:01'\n",
       "336. 'HLA_DPB110:01:01'\n",
       "337. 'HLA_DPB117:01:01'\n",
       "338. 'HLA_DPB105:01:01'\n",
       "339. 'HLA_DPB106:01:01'\n",
       "340. 'HLA_DPB120:01:01'\n",
       "341. 'HLA_DQA101:02:01'\n",
       "342. 'HLA_DQA105:01:01'\n",
       "343. 'HLA_DQA101:01:02'\n",
       "344. 'HLA_DQA102:01:01'\n",
       "345. 'HLA_DQA101:01:01'\n",
       "346. 'HLA_DQA101:03:01'\n",
       "347. 'HLA_DQA103:03:01'\n",
       "348. 'HLA_DQA103:01:01'\n",
       "349. 'HLA_DQA104:01:01'\n",
       "350. 'HLA_DQA105:05:01'\n",
       "351. 'HLA_DQA101:02:02'\n",
       "352. 'HLA_DQA101:04:01'\n",
       "353. 'HLA_DQA103:02:01'\n",
       "354. 'HLA_DQB103:19:01'\n",
       "355. 'HLA_DQB102:01:01'\n",
       "356. 'HLA_DQB103:02:01'\n",
       "357. 'HLA_DQB105:02:01'\n",
       "358. 'HLA_DQB104:02:01'\n",
       "359. 'HLA_DQB103:03:02'\n",
       "360. 'HLA_DQB102:02:01'\n",
       "361. 'HLA_DQB105:01:01'\n",
       "362. 'HLA_DQB103:01:01'\n",
       "363. 'HLA_DQB106:02:01'\n",
       "364. 'HLA_DQB105:03:01'\n",
       "365. 'HLA_DQB106:04:01'\n",
       "366. 'HLA_DQB106:03:01'\n",
       "367. 'HLA_DQB106:01:01'\n",
       "368. 'HLA_DQB106:09:01'\n",
       "369. 'HLA_DRB113:02:01'\n",
       "370. 'HLA_DRB103:01:01'\n",
       "371. 'HLA_DRB101:02:01'\n",
       "372. 'HLA_DRB115:01:01'\n",
       "373. 'HLA_DRB101:01:01'\n",
       "374. 'HLA_DRB104:07:01'\n",
       "375. 'HLA_DRB104:02:01'\n",
       "376. 'HLA_DRB108:01:01'\n",
       "377. 'HLA_DRB109:01:02'\n",
       "378. 'HLA_DRB107:01:01'\n",
       "379. 'HLA_DRB104:01:01'\n",
       "380. 'HLA_DRB104:04:01'\n",
       "381. 'HLA_DRB103:02:01'\n",
       "382. 'HLA_DRB112:01:01'\n",
       "383. 'HLA_DRB104:05:01'\n",
       "384. 'HLA_DRB111:01:01'\n",
       "385. 'HLA_DRB114:54:01'\n",
       "386. 'HLA_DRB113:01:01'\n",
       "387. 'HLA_DRB116:01:01'\n",
       "388. 'HLA_DRB115:02:01'\n",
       "389. 'HLA_DRB116:02:01'\n",
       "390. 'HLA_DRB111:01:02'\n",
       "391. 'HLA_DRB302:02:01'\n",
       "392. 'HLA_DRB301:01:02'\n",
       "393. 'HLA_DRB501:01:01'\n",
       "394. 'HLA_DRB401:03:01'\n",
       "395. 'HLA_DRB303:01:01'\n",
       "396. 'HLA_DRB401:01:01'\n",
       "397. 'HLA_DRB301:62:01'\n",
       "398. 'HLA_DRB401:03:02'\n",
       "399. 'HLA_DRB502:02:01'\n",
       "400. 'HLA_DRB501:02:01'\n",
       "401. 'HLA_DRB401:03:01:02N'\n",
       "\n",
       "\n"
      ],
      "text/plain": [
       "   [1] \"ATC\"                  \"Age\"                  \"EM\"                  \n",
       "   [4] \"CM\"                   \"Naive\"                \"SCM\"                 \n",
       "   [7] \"TE\"                   \"PD1\"                  \"LAG3\"                \n",
       "  [10] \"TIM3\"                 \"aaSeqCDR3\"            \"TRBV\"                \n",
       "  [13] \"TRBJ\"                 \"cloneCount\"           \"cloneFraction\"       \n",
       "  [16] \"length\"               \"Vmotif\"               \"frame_type\"          \n",
       "  [19] \"p107\"                 \"p108\"                 \"p109\"                \n",
       "  [22] \"p110\"                 \"p111\"                 \"p111.1\"              \n",
       "  [25] \"p112.1\"               \"p112\"                 \"p113\"                \n",
       "  [28] \"p114\"                 \"p115\"                 \"p116\"                \n",
       "  [31] \"p117\"                 \"p118\"                 \"Jmotif\"              \n",
       "  [34] \"midseq\"               \"perc_mid_A\"           \"perc_mid_C\"          \n",
       "  [37] \"perc_mid_D\"           \"perc_mid_E\"           \"perc_mid_F\"          \n",
       "  [40] \"perc_mid_G\"           \"perc_mid_H\"           \"perc_mid_I\"          \n",
       "  [43] \"perc_mid_K\"           \"perc_mid_L\"           \"perc_mid_M\"          \n",
       "  [46] \"perc_mid_N\"           \"perc_mid_P\"           \"perc_mid_Q\"          \n",
       "  [49] \"perc_mid_R\"           \"perc_mid_S\"           \"perc_mid_T\"          \n",
       "  [52] \"perc_mid_V\"           \"perc_mid_W\"           \"perc_mid_Y\"          \n",
       "  [55] \"frame_type_is_in\"     \"frame_type_is_out\"    \"TRBV_is_TRBV1\"       \n",
       "  [58] \"TRBV_is_TRBV10-1\"     \"TRBV_is_TRBV10-2\"     \"TRBV_is_TRBV10-3\"    \n",
       "  [61] \"TRBV_is_TRBV11-1\"     \"TRBV_is_TRBV11-2\"     \"TRBV_is_TRBV11-3\"    \n",
       "  [64] \"TRBV_is_TRBV12-1\"     \"TRBV_is_TRBV12-2\"     \"TRBV_is_TRBV12-3\"    \n",
       "  [67] \"TRBV_is_TRBV12-4\"     \"TRBV_is_TRBV12-5\"     \"TRBV_is_TRBV13\"      \n",
       "  [70] \"TRBV_is_TRBV14\"       \"TRBV_is_TRBV15\"       \"TRBV_is_TRBV16\"      \n",
       "  [73] \"TRBV_is_TRBV17\"       \"TRBV_is_TRBV18\"       \"TRBV_is_TRBV19\"      \n",
       "  [76] \"TRBV_is_TRBV2\"        \"TRBV_is_TRBV20-1\"     \"TRBV_is_TRBV21-1\"    \n",
       "  [79] \"TRBV_is_TRBV22-1\"     \"TRBV_is_TRBV23-1\"     \"TRBV_is_TRBV24-1\"    \n",
       "  [82] \"TRBV_is_TRBV25-1\"     \"TRBV_is_TRBV26\"       \"TRBV_is_TRBV27\"      \n",
       "  [85] \"TRBV_is_TRBV28\"       \"TRBV_is_TRBV29-1\"     \"TRBV_is_TRBV3-1\"     \n",
       "  [88] \"TRBV_is_TRBV3-2\"      \"TRBV_is_TRBV30\"       \"TRBV_is_TRBV4-1\"     \n",
       "  [91] \"TRBV_is_TRBV4-2\"      \"TRBV_is_TRBV4-3\"      \"TRBV_is_TRBV5-1\"     \n",
       "  [94] \"TRBV_is_TRBV5-2\"      \"TRBV_is_TRBV5-3\"      \"TRBV_is_TRBV5-4\"     \n",
       "  [97] \"TRBV_is_TRBV5-5\"      \"TRBV_is_TRBV5-6\"      \"TRBV_is_TRBV5-7\"     \n",
       " [100] \"TRBV_is_TRBV5-8\"      \"TRBV_is_TRBV6-1\"      \"TRBV_is_TRBV6-2\"     \n",
       " [103] \"TRBV_is_TRBV6-3\"      \"TRBV_is_TRBV6-4\"      \"TRBV_is_TRBV6-5\"     \n",
       " [106] \"TRBV_is_TRBV6-6\"      \"TRBV_is_TRBV6-7\"      \"TRBV_is_TRBV6-8\"     \n",
       " [109] \"TRBV_is_TRBV6-9\"      \"TRBV_is_TRBV7-1\"      \"TRBV_is_TRBV7-2\"     \n",
       " [112] \"TRBV_is_TRBV7-3\"      \"TRBV_is_TRBV7-4\"      \"TRBV_is_TRBV7-5\"     \n",
       " [115] \"TRBV_is_TRBV7-6\"      \"TRBV_is_TRBV7-7\"      \"TRBV_is_TRBV7-8\"     \n",
       " [118] \"TRBV_is_TRBV7-9\"      \"TRBV_is_TRBV9\"        \"TRBJ_is_TRBJ1-1\"     \n",
       " [121] \"TRBJ_is_TRBJ1-2\"      \"TRBJ_is_TRBJ1-3\"      \"TRBJ_is_TRBJ1-4\"     \n",
       " [124] \"TRBJ_is_TRBJ1-5\"      \"TRBJ_is_TRBJ1-6\"      \"TRBJ_is_TRBJ2-1\"     \n",
       " [127] \"TRBJ_is_TRBJ2-2\"      \"TRBJ_is_TRBJ2-3\"      \"TRBJ_is_TRBJ2-4\"     \n",
       " [130] \"TRBJ_is_TRBJ2-5\"      \"TRBJ_is_TRBJ2-6\"      \"TRBJ_is_TRBJ2-7\"     \n",
       " [133] \"Vmotif_is_CA*\"        \"Vmotif_is_CAA\"        \"Vmotif_is_CAC\"       \n",
       " [136] \"Vmotif_is_CAD\"        \"Vmotif_is_CAE\"        \"Vmotif_is_CAF\"       \n",
       " [139] \"Vmotif_is_CAG\"        \"Vmotif_is_CAH\"        \"Vmotif_is_CAI\"       \n",
       " [142] \"Vmotif_is_CAK\"        \"Vmotif_is_CAL\"        \"Vmotif_is_CAM\"       \n",
       " [145] \"Vmotif_is_CAN\"        \"Vmotif_is_CAP\"        \"Vmotif_is_CAQ\"       \n",
       " [148] \"Vmotif_is_CAR\"        \"Vmotif_is_CAS\"        \"Vmotif_is_CAT\"       \n",
       " [151] \"Vmotif_is_CAV\"        \"Vmotif_is_CAW\"        \"Vmotif_is_CAY\"       \n",
       " [154] \"Vmotif_is_CCA\"        \"Vmotif_is_CCT\"        \"Vmotif_is_CDE\"       \n",
       " [157] \"Vmotif_is_CDG\"        \"Vmotif_is_CDI\"        \"Vmotif_is_CDK\"       \n",
       " [160] \"Vmotif_is_CDR\"        \"Vmotif_is_CDS\"        \"Vmotif_is_CDT\"       \n",
       " [163] \"Vmotif_is_CDW\"        \"Vmotif_is_CEG\"        \"Vmotif_is_CEH\"       \n",
       " [166] \"Vmotif_is_CEI\"        \"Vmotif_is_CEV\"        \"Vmotif_is_CGA\"       \n",
       " [169] \"Vmotif_is_CGF\"        \"Vmotif_is_CGG\"        \"Vmotif_is_CGM\"       \n",
       " [172] \"Vmotif_is_CGN\"        \"Vmotif_is_CGS\"        \"Vmotif_is_CGT\"       \n",
       " [175] \"Vmotif_is_CIK\"        \"Vmotif_is_CIL\"        \"Vmotif_is_CIR\"       \n",
       " [178] \"Vmotif_is_CIS\"        \"Vmotif_is_CKN\"        \"Vmotif_is_CNA\"       \n",
       " [181] \"Vmotif_is_CNV\"        \"Vmotif_is_CPD\"        \"Vmotif_is_CPE\"       \n",
       " [184] \"Vmotif_is_CPG\"        \"Vmotif_is_CPI\"        \"Vmotif_is_CPL\"       \n",
       " [187] \"Vmotif_is_CPQ\"        \"Vmotif_is_CPR\"        \"Vmotif_is_CPS\"       \n",
       " [190] \"Vmotif_is_CPT\"        \"Vmotif_is_CPW\"        \"Vmotif_is_CQS\"       \n",
       " [193] \"Vmotif_is_CQV\"        \"Vmotif_is_CRA\"        \"Vmotif_is_CRD\"       \n",
       " [196] \"Vmotif_is_CRE\"        \"Vmotif_is_CRG\"        \"Vmotif_is_CRI\"       \n",
       " [199] \"Vmotif_is_CRL\"        \"Vmotif_is_CRM\"        \"Vmotif_is_CRN\"       \n",
       " [202] \"Vmotif_is_CRP\"        \"Vmotif_is_CRR\"        \"Vmotif_is_CRS\"       \n",
       " [205] \"Vmotif_is_CRT\"        \"Vmotif_is_CRV\"        \"Vmotif_is_CRW\"       \n",
       " [208] \"Vmotif_is_CS*\"        \"Vmotif_is_CSA\"        \"Vmotif_is_CSC\"       \n",
       " [211] \"Vmotif_is_CSD\"        \"Vmotif_is_CSE\"        \"Vmotif_is_CSF\"       \n",
       " [214] \"Vmotif_is_CSG\"        \"Vmotif_is_CSH\"        \"Vmotif_is_CSI\"       \n",
       " [217] \"Vmotif_is_CSK\"        \"Vmotif_is_CSL\"        \"Vmotif_is_CSM\"       \n",
       " [220] \"Vmotif_is_CSP\"        \"Vmotif_is_CSQ\"        \"Vmotif_is_CSR\"       \n",
       " [223] \"Vmotif_is_CSS\"        \"Vmotif_is_CST\"        \"Vmotif_is_CSV\"       \n",
       " [226] \"Vmotif_is_CSY\"        \"Vmotif_is_CT*\"        \"Vmotif_is_CTA\"       \n",
       " [229] \"Vmotif_is_CTC\"        \"Vmotif_is_CTG\"        \"Vmotif_is_CTI\"       \n",
       " [232] \"Vmotif_is_CTL\"        \"Vmotif_is_CTN\"        \"Vmotif_is_CTP\"       \n",
       " [235] \"Vmotif_is_CTR\"        \"Vmotif_is_CTS\"        \"Vmotif_is_CTT\"       \n",
       " [238] \"Vmotif_is_CTV\"        \"Vmotif_is_CTW\"        \"Vmotif_is_CVA\"       \n",
       " [241] \"Vmotif_is_CVG\"        \"Vmotif_is_CVI\"        \"Vmotif_is_CVP\"       \n",
       " [244] \"Vmotif_is_CVR\"        \"Vmotif_is_CVS\"        \"Vmotif_is_CVT\"       \n",
       " [247] \"Vmotif_is_CVV\"        \"Vmotif_is_CVW\"        \"Vmotif_is_CYA\"       \n",
       " [250] \"Vmotif_is_FAS\"        \"Vmotif_is_FRQ\"        \"Vmotif_is_FSA\"       \n",
       " [253] \"Vmotif_is_GAS\"        \"Vmotif_is_GAW\"        \"Vmotif_is_HET\"       \n",
       " [256] \"Vmotif_is_IPY\"        \"Vmotif_is_KAR\"        \"Vmotif_is_LPG\"       \n",
       " [259] \"Vmotif_is_PAG\"        \"Vmotif_is_PPR\"        \"Vmotif_is_PPS\"       \n",
       " [262] \"Vmotif_is_QRC\"        \"Vmotif_is_RAA\"        \"Vmotif_is_RAG\"       \n",
       " [265] \"Vmotif_is_RAI\"        \"Vmotif_is_RAN\"        \"Vmotif_is_RAS\"       \n",
       " [268] \"Vmotif_is_RAT\"        \"Vmotif_is_RAV\"        \"Vmotif_is_RAW\"       \n",
       " [271] \"Vmotif_is_RSA\"        \"Vmotif_is_SAI\"        \"Vmotif_is_SAS\"       \n",
       " [274] \"Vmotif_is_SAT\"        \"Vmotif_is_SEG\"        \"Vmotif_is_SFG\"       \n",
       " [277] \"Vmotif_is_SPS\"        \"Vmotif_is_SRL\"        \"Vmotif_is_SRP\"       \n",
       " [280] \"Vmotif_is_SSA\"        \"Vmotif_is_SVG\"        \"Vmotif_is_TGG\"       \n",
       " [283] \"Vmotif_is_WDK\"        \"Vmotif_is_WGA\"        \"Vmotif_is_WGG\"       \n",
       " [286] \"Vmotif_is_WGI\"        \"Vmotif_is_WPR\"        \"Vmotif_is_WTT\"       \n",
       " [289] \"Vmotif_is_YAI\"        \"Vmotif_is_YAS\"        \"Vmotif_is_YAT\"       \n",
       " [292] \"Vmotif_is_YKI\"        \"Vmotif_is_YSA\"        \"Vmotif_is_YSS\"       \n",
       " [295] \"Jmotif_is_A*QYF\"      \"Jmotif_is_AAAPF\"      \"Jmotif_is_AAEYF\"     \n",
       " [298] \"Jmotif_is_AAIYF\"      \"Jmotif_is_AALTF\"      \"Jmotif_is_AAQHF\"     \n",
       " [301] \"Jmotif_is_AAQYF\"      \"Jmotif_is_ACYTF\"      \"Jmotif_is_ADAFF\"     \n",
       " [304] \"Jmotif_is_ADCLF\"      \"Jmotif_is_ADLFF\"      \"Jmotif_is_AEAFF\"     \n",
       " [307] \"Jmotif_is_AEEYF\"      \"Jmotif_is_AELFF\"      \"Jmotif_is_AEQ*F\"     \n",
       " [310] \"Jmotif_is_AEQFF\"      \"Jmotif_is_AEQYF\"      \"Jmotif_is_AEQYV\"     \n",
       " [313] \"Jmotif_is_AFGTF\"      \"Jmotif_is_AG*TF\"      \"Jmotif_is_AGAFF\"     \n",
       " [316] \"Jmotif_is_AGLHF\"      \"Jmotif_is_AGLRF\"      \"Jmotif_is_AGPYF\"     \n",
       " [319] \"Jmotif_is_AGQFF\"      \"Jmotif_is_AGQYF\"      \"Jmotif_is_AGRYF\"     \n",
       " [322] \"Jmotif_is_AGVIF\"      \"Jmotif_is_AGVYF\"      \"Jmotif_is_AGYTF\"     \n",
       " [325] \"Jmotif_is_AHGTF\"      \"Jmotif_is_AIQYF\"      \"Jmotif_is_AKAFF\"     \n",
       " [328] \"Jmotif_is_AKKYF\"      \"Jmotif_is_AKLFF\"      \"Jmotif_is_AKQFF\"     \n",
       " [331] \"Jmotif_is_AKQYF\"      \"Jmotif_is_ALAFF\"      \"Jmotif_is_ALGTF\"     \n",
       " [334] \"Jmotif_is_ALIFF\"      \"Jmotif_is_ALQVF\"      \"Jmotif_is_ANQFF\"     \n",
       " [337] \"Jmotif_is_APLHF\"      \"Jmotif_is_APQHF\"      \"Jmotif_is_APQYF\"     \n",
       " [340] \"Jmotif_is_APRFF\"      \"Jmotif_is_APRYF\"      \"Jmotif_is_AQQFF\"     \n",
       " [343] \"Jmotif_is_AQQYF\"      \"Jmotif_is_AQSHF\"      \"Jmotif_is_ARAFF\"     \n",
       " [346] \"Jmotif_is_AREYF\"      \"Jmotif_is_ARGFF\"      \"Jmotif_is_ARQFF\"     \n",
       " [349] \"Jmotif_is_ARQYF\"      \"Jmotif_is_ARSFF\"      \"Jmotif_is_ASAFF\"     \n",
       " [352] \"Jmotif_is_ASLPS\"      \"Jmotif_is_ASQHF\"      \"Jmotif_is_ASQYF\"     \n",
       " [355] \"Jmotif_is_ASRYF\"      \"Jmotif_is_ASYTF\"      \"Jmotif_is_ATAFF\"     \n",
       " [358] \"Jmotif_is_ATFLR\"      \"Jmotif_is_ATIYF\"      \"Jmotif_is_ATQFF\"     \n",
       " [361] \"Jmotif_is_ATQHF\"      \"Jmotif_is_ATQYF\"      \"Jmotif_is_AV*YF\"     \n",
       " [364] \"Jmotif_is_AVAFF\"      \"Jmotif_is_AVQYF\"      \"Jmotif_is_AWAFF\"     \n",
       " [367] \"Jmotif_is_AWQYF\"      \"Jmotif_is_AYGFF\"      \"Jmotif_is_AYYTF\"     \n",
       " [370] \"Jmotif_is_C*QYV\"      \"Jmotif_is_CEAFF\"      \"Jmotif_is_CEQFF\"     \n",
       " [373] \"Jmotif_is_CEQYF\"      \"Jmotif_is_CEQYV\"      \"Jmotif_is_CGYTF\"     \n",
       " [376] \"Jmotif_is_CTIYF\"      \"Jmotif_is_CTQYF\"      \"Jmotif_is_CVQYF\"     \n",
       " [379] \"Jmotif_is_D*AFF\"      \"Jmotif_is_D*RIV\"      \"Jmotif_is_D*RYF\"     \n",
       " [382] \"Jmotif_is_DAAFF\"      \"Jmotif_is_DADRF\"      \"Jmotif_is_DAQYF\"     \n",
       " [385] \"Jmotif_is_DE*YF\"      \"Jmotif_is_DEAFF\"      \"Jmotif_is_DEKFF\"     \n",
       " [388] \"Jmotif_is_DEPFF\"      \"Jmotif_is_DEQFF\"      \"Jmotif_is_DEQFL\"     \n",
       " [391] \"Jmotif_is_DEQIF\"      \"Jmotif_is_DEQLF\"      \"Jmotif_is_DEQYF\"     \n",
       " [394] \"Jmotif_is_DEQYL\"      \"Jmotif_is_DEQYV\"      \"Jmotif_is_DEVTF\"     \n",
       " [397] \"Jmotif_is_DG*TF\"      \"Jmotif_is_DGAFF\"      \"Jmotif_is_DGQYF\"     \n",
       " [400] \"Jmotif_is_DGRHF\"      \"Jmotif_is_DGYTF\"      \"Jmotif_is_DGYTL\"     \n",
       " [403] \"Jmotif_is_DIAFF\"      \"Jmotif_is_DIQYF\"      \"Jmotif_is_DIQYL\"     \n",
       " [406] \"Jmotif_is_DKAFF\"      \"Jmotif_is_DKEFF\"      \"Jmotif_is_DKLFF\"     \n",
       " [409] \"Jmotif_is_DKQFF\"      \"Jmotif_is_DKQYF\"      \"Jmotif_is_DLEYF\"     \n",
       " [412] \"Jmotif_is_DLLHF\"      \"Jmotif_is_DLQYF\"      \"Jmotif_is_DMQYF\"     \n",
       " [415] \"Jmotif_is_DMQYL\"      \"Jmotif_is_DNCFF\"      \"Jmotif_is_DPQHF\"     \n",
       " [418] \"Jmotif_is_DPQYF\"      \"Jmotif_is_DQAFF\"      \"Jmotif_is_DQQFF\"     \n",
       " [421] \"Jmotif_is_DRAFF\"      \"Jmotif_is_DRQFF\"      \"Jmotif_is_DRRYF\"     \n",
       " [424] \"Jmotif_is_DRYTF\"      \"Jmotif_is_DSLHF\"      \"Jmotif_is_DSLLF\"     \n",
       " [427] \"Jmotif_is_DT*YF\"      \"Jmotif_is_DTIYF\"      \"Jmotif_is_DTKYF\"     \n",
       " [430] \"Jmotif_is_DTQ*F\"      \"Jmotif_is_DTQCF\"      \"Jmotif_is_DTQHF\"     \n",
       " [433] \"Jmotif_is_DTQNF\"      \"Jmotif_is_DTQSF\"      \"Jmotif_is_DTQYF\"     \n",
       " [436] \"Jmotif_is_DTQYL\"      \"Jmotif_is_DTQYS\"      \"Jmotif_is_DTQYY\"     \n",
       " [439] \"Jmotif_is_DTRYF\"      \"Jmotif_is_DVAFF\"      \"Jmotif_is_DVASF\"     \n",
       " [442] \"Jmotif_is_DVLTF\"      \"Jmotif_is_DVQYF\"      \"Jmotif_is_DWQYF\"     \n",
       " [445] \"Jmotif_is_E*AFF\"      \"Jmotif_is_E*GFF\"      \"Jmotif_is_EAEYF\"     \n",
       " [448] \"Jmotif_is_EAIYF\"      \"Jmotif_is_EALHF\"      \"Jmotif_is_EAQHF\"     \n",
       " [451] \"Jmotif_is_EAQYF\"      \"Jmotif_is_ECYTF\"      \"Jmotif_is_EDAFF\"     \n",
       " [454] \"Jmotif_is_EDYTF\"      \"Jmotif_is_EEAFF\"      \"Jmotif_is_EEKFF\"     \n",
       " [457] \"Jmotif_is_EELFF\"      \"Jmotif_is_EEQ*F\"      \"Jmotif_is_EEQFF\"     \n",
       " [460] \"Jmotif_is_EEQYF\"      \"Jmotif_is_EG*TF\"      \"Jmotif_is_EGAFF\"     \n",
       " [463] \"Jmotif_is_EGDTF\"      \"Jmotif_is_EGEGN\"      \"Jmotif_is_EGIHF\"     \n",
       " [466] \"Jmotif_is_EGKYF\"      \"Jmotif_is_EGLFF\"      \"Jmotif_is_EGPYF\"     \n",
       " [469] \"Jmotif_is_EGQFF\"      \"Jmotif_is_EGQYF\"      \"Jmotif_is_EGYTF\"     \n",
       " [472] \"Jmotif_is_EGYTL\"      \"Jmotif_is_EIAYF\"      \"Jmotif_is_EIGFF\"     \n",
       " [475] \"Jmotif_is_EIQYF\"      \"Jmotif_is_EKAFF\"      \"Jmotif_is_EKGFF\"     \n",
       " [478] \"Jmotif_is_EKLFF\"      \"Jmotif_is_EKLFI\"      \"Jmotif_is_EKLFL\"     \n",
       " [481] \"Jmotif_is_EKLFS\"      \"Jmotif_is_EKLLF\"      \"Jmotif_is_EKLSF\"     \n",
       " [484] \"Jmotif_is_EKPFF\"      \"Jmotif_is_EKQYF\"      \"Jmotif_is_EKRFF\"     \n",
       " [487] \"Jmotif_is_EL*FF\"      \"Jmotif_is_ELAFF\"      \"Jmotif_is_ELRNF\"     \n",
       " [490] \"Jmotif_is_ENLFF\"      \"Jmotif_is_ENQYF\"      \"Jmotif_is_EPLHF\"     \n",
       " [493] \"Jmotif_is_EPQHF\"      \"Jmotif_is_EPQYF\"      \"Jmotif_is_EQPHF\"     \n",
       " [496] \"Jmotif_is_EQQFF\"      \"Jmotif_is_ERAFF\"      \"Jmotif_is_ERDTF\"     \n",
       " [499] \"Jmotif_is_EREHF\"      \"Jmotif_is_ERLFF\"      \"Jmotif_is_ERQFF\"     \n",
       " [502] \"Jmotif_is_ERQYF\"      \"Jmotif_is_ESAFF\"      \"Jmotif_is_ESQYF\"     \n",
       " [505] \"Jmotif_is_ESYTF\"      \"Jmotif_is_ETIYF\"      \"Jmotif_is_ETKYF\"     \n",
       " [508] \"Jmotif_is_ETLHF\"      \"Jmotif_is_ETLYF\"      \"Jmotif_is_ETPYF\"     \n",
       " [511] \"Jmotif_is_ETPYI\"      \"Jmotif_is_ETQ*F\"      \"Jmotif_is_ETQCF\"     \n",
       " [514] \"Jmotif_is_ETQFF\"      \"Jmotif_is_ETQHF\"      \"Jmotif_is_ETQNF\"     \n",
       " [517] \"Jmotif_is_ETQYC\"      \"Jmotif_is_ETQYF\"      \"Jmotif_is_ETQYL\"     \n",
       " [520] \"Jmotif_is_ETQYS\"      \"Jmotif_is_ETRYF\"      \"Jmotif_is_EVEFF\"     \n",
       " [523] \"Jmotif_is_EVQFF\"      \"Jmotif_is_EVQYF\"      \"Jmotif_is_EWAFF\"     \n",
       " [526] \"Jmotif_is_EWQFF\"      \"Jmotif_is_F*FDF\"      \"Jmotif_is_F*QFF\"     \n",
       " [529] \"Jmotif_is_FAAFF\"      \"Jmotif_is_FAEFF\"      \"Jmotif_is_FALHF\"     \n",
       " [532] \"Jmotif_is_FAQHF\"      \"Jmotif_is_FAQYF\"      \"Jmotif_is_FEAFF\"     \n",
       " [535] \"Jmotif_is_FELFF\"      \"Jmotif_is_FEQFF\"      \"Jmotif_is_FEQYF\"     \n",
       " [538] \"Jmotif_is_FEQYV\"      \"Jmotif_is_FFQPL\"      \"Jmotif_is_FGQYF\"     \n",
       " [541] \"Jmotif_is_FGSLF\"      \"Jmotif_is_FGVYF\"      \"Jmotif_is_FGYTF\"     \n",
       " [544] \"Jmotif_is_FHTYF\"      \"Jmotif_is_FKAFF\"      \"Jmotif_is_FKLFF\"     \n",
       " [547] \"Jmotif_is_FKQFF\"      \"Jmotif_is_FKQYF\"      \"Jmotif_is_FMAFF\"     \n",
       " [550] \"Jmotif_is_FPLHF\"      \"Jmotif_is_FPQHF\"      \"Jmotif_is_FPYGF\"     \n",
       " [553] \"Jmotif_is_FQQYF\"      \"Jmotif_is_FRLFF\"      \"Jmotif_is_FSAFF\"     \n",
       " [556] \"Jmotif_is_FSYTF\"      \"Jmotif_is_FTGFF\"      \"Jmotif_is_FTLHF\"     \n",
       " [559] \"Jmotif_is_FTQYF\"      \"Jmotif_is_FWLHL\"      \"Jmotif_is_FYQYF\"     \n",
       " [562] \"Jmotif_is_G*AFF\"      \"Jmotif_is_G*FSF\"      \"Jmotif_is_G*QYF\"     \n",
       " [565] \"Jmotif_is_G*RSF\"      \"Jmotif_is_G*SFF\"      \"Jmotif_is_GAAFF\"     \n",
       " [568] \"Jmotif_is_GAAFS\"      \"Jmotif_is_GAAHF\"      \"Jmotif_is_GAAYF\"     \n",
       " [571] \"Jmotif_is_GAEFF\"      \"Jmotif_is_GAFWL\"      \"Jmotif_is_GAIYF\"     \n",
       " [574] \"Jmotif_is_GALHF\"      \"Jmotif_is_GAQFF\"      \"Jmotif_is_GAQHF\"     \n",
       " [577] \"Jmotif_is_GAQYF\"      \"Jmotif_is_GARTF\"      \"Jmotif_is_GATFF\"     \n",
       " [580] \"Jmotif_is_GCAFF\"      \"Jmotif_is_GDAFF\"      \"Jmotif_is_GDLHF\"     \n",
       " [583] \"Jmotif_is_GDQYF\"      \"Jmotif_is_GDYTF\"      \"Jmotif_is_GE*FF\"     \n",
       " [586] \"Jmotif_is_GE*YF\"      \"Jmotif_is_GEAFF\"      \"Jmotif_is_GEAFS\"     \n",
       " [589] \"Jmotif_is_GECNF\"      \"Jmotif_is_GEKYF\"      \"Jmotif_is_GELFF\"     \n",
       " [592] \"Jmotif_is_GELFL\"      \"Jmotif_is_GELFS\"      \"Jmotif_is_GELIF\"     \n",
       " [595] \"Jmotif_is_GELSF\"      \"Jmotif_is_GEMFF\"      \"Jmotif_is_GEPFF\"     \n",
       " [598] \"Jmotif_is_GEQ*F\"      \"Jmotif_is_GEQFF\"      \"Jmotif_is_GEQLF\"     \n",
       " [601] \"Jmotif_is_GEQYF\"      \"Jmotif_is_GEQYV\"      \"Jmotif_is_GEQYY\"     \n",
       " [604] \"Jmotif_is_GERFF\"      \"Jmotif_is_GETFF\"      \"Jmotif_is_GEVFF\"     \n",
       " [607] \"Jmotif_is_GEWFF\"      \"Jmotif_is_GEYTF\"      \"Jmotif_is_GFAFF\"     \n",
       " [610] \"Jmotif_is_GFQYF\"      \"Jmotif_is_GFVTL\"      \"Jmotif_is_GFYTF\"     \n",
       " [613] \"Jmotif_is_GG*TF\"      \"Jmotif_is_GGAFF\"      \"Jmotif_is_GGEFF\"     \n",
       " [616] \"Jmotif_is_GGEHF\"      \"Jmotif_is_GGEYF\"      \"Jmotif_is_GGGVF\"     \n",
       " [619] \"Jmotif_is_GGHTY\"      \"Jmotif_is_GGIVF\"      \"Jmotif_is_GGLFF\"     \n",
       " [622] \"Jmotif_is_GGLHF\"      \"Jmotif_is_GGLYF\"      \"Jmotif_is_GGQFF\"     \n",
       " [625] \"Jmotif_is_GGQLF\"      \"Jmotif_is_GGQYF\"      \"Jmotif_is_GGQYL\"     \n",
       " [628] \"Jmotif_is_GGRYF\"      \"Jmotif_is_GGSSF\"      \"Jmotif_is_GGTFF\"     \n",
       " [631] \"Jmotif_is_GGVFF\"      \"Jmotif_is_GGVID\"      \"Jmotif_is_GGYAF\"     \n",
       " [634] \"Jmotif_is_GGYTF\"      \"Jmotif_is_GGYTL\"      \"Jmotif_is_GGYTY\"     \n",
       " [637] \"Jmotif_is_GHKFF\"      \"Jmotif_is_GHTFF\"      \"Jmotif_is_GIAFF\"     \n",
       " [640] \"Jmotif_is_GIEFF\"      \"Jmotif_is_GIKEV\"      \"Jmotif_is_GIKFF\"     \n",
       " [643] \"Jmotif_is_GILHF\"      \"Jmotif_is_GIQYF\"      \"Jmotif_is_GITYF\"     \n",
       " [646] \"Jmotif_is_GIVTF\"      \"Jmotif_is_GIYTF\"      \"Jmotif_is_GKAFF\"     \n",
       " [649] \"Jmotif_is_GKLFF\"      \"Jmotif_is_GKQFF\"      \"Jmotif_is_GKQYF\"     \n",
       " [652] \"Jmotif_is_GKRYF\"      \"Jmotif_is_GKTFF\"      \"Jmotif_is_GKVYF\"     \n",
       " [655] \"Jmotif_is_GLAFF\"      \"Jmotif_is_GLAFY\"      \"Jmotif_is_GLFTF\"     \n",
       " [658] \"Jmotif_is_GLKLS\"      \"Jmotif_is_GLLFF\"      \"Jmotif_is_GLPFF\"     \n",
       " [661] \"Jmotif_is_GLQFF\"      \"Jmotif_is_GLQHF\"      \"Jmotif_is_GLQYF\"     \n",
       " [664] \"Jmotif_is_GLRFF\"      \"Jmotif_is_GLTFF\"      \"Jmotif_is_GLTSY\"     \n",
       " [667] \"Jmotif_is_GLYTF\"      \"Jmotif_is_GMAFF\"      \"Jmotif_is_GMSYF\"     \n",
       " [670] \"Jmotif_is_GNAFF\"      \"Jmotif_is_GNLFF\"      \"Jmotif_is_GNWDF\"     \n",
       " [673] \"Jmotif_is_GPAFF\"      \"Jmotif_is_GPEFF\"      \"Jmotif_is_GPGFF\"     \n",
       " [676] \"Jmotif_is_GPIHF\"      \"Jmotif_is_GPKYF\"      \"Jmotif_is_GPLFF\"     \n",
       " [679] \"Jmotif_is_GPLFI\"      \"Jmotif_is_GPLHF\"      \"Jmotif_is_GPLYF\"     \n",
       " [682] \"Jmotif_is_GPQ*F\"      \"Jmotif_is_GPQFF\"      \"Jmotif_is_GPQHF\"     \n",
       " [685] \"Jmotif_is_GPQYF\"      \"Jmotif_is_GPRFF\"      \"Jmotif_is_GPRHF\"     \n",
       " [688] \"Jmotif_is_GPWFF\"      \"Jmotif_is_GPYDF\"      \"Jmotif_is_GQAFF\"     \n",
       " [691] \"Jmotif_is_GQAYF\"      \"Jmotif_is_GQGFF\"      \"Jmotif_is_GQGGF\"     \n",
       " [694] \"Jmotif_is_GQLHF\"      \"Jmotif_is_GQPYF\"      \"Jmotif_is_GQQFF\"     \n",
       " [697] \"Jmotif_is_GQQYF\"      \"Jmotif_is_GQRFF\"      \"Jmotif_is_GQRYF\"     \n",
       " [700] \"Jmotif_is_GRAFF\"      \"Jmotif_is_GRAPH\"      \"Jmotif_is_GREYF\"     \n",
       " [703] \"Jmotif_is_GRHFF\"      \"Jmotif_is_GRKFF\"      \"Jmotif_is_GRLFF\"     \n",
       " [706] \"Jmotif_is_GRMYF\"      \"Jmotif_is_GRPNF\"      \"Jmotif_is_GRPYF\"     \n",
       " [709] \"Jmotif_is_GRQFF\"      \"Jmotif_is_GRQYF\"      \"Jmotif_is_GRRYF\"     \n",
       " [712] \"Jmotif_is_GRSFF\"      \"Jmotif_is_GRSTF\"      \"Jmotif_is_GRVGF\"     \n",
       " [715] \"Jmotif_is_GRVLF\"      \"Jmotif_is_GRYTF\"      \"Jmotif_is_GSAFF\"     \n",
       " [718] \"Jmotif_is_GSCFF\"      \"Jmotif_is_GSEFF\"      \"Jmotif_is_GSGYF\"     \n",
       " [721] \"Jmotif_is_GSKYF\"      \"Jmotif_is_GSLFF\"      \"Jmotif_is_GSLHF\"     \n",
       " [724] \"Jmotif_is_GSQFF\"      \"Jmotif_is_GSQHF\"      \"Jmotif_is_GSQYF\"     \n",
       " [727] \"Jmotif_is_GSSTF\"      \"Jmotif_is_GSYTF\"      \"Jmotif_is_GTAFF\"     \n",
       " [730] \"Jmotif_is_GTEFF\"      \"Jmotif_is_GTFFF\"      \"Jmotif_is_GTGFH\"     \n",
       " [733] \"Jmotif_is_GTGII\"      \"Jmotif_is_GTIYF\"      \"Jmotif_is_GTKFF\"     \n",
       " [736] \"Jmotif_is_GTKYF\"      \"Jmotif_is_GTLFF\"      \"Jmotif_is_GTLHF\"     \n",
       " [739] \"Jmotif_is_GTLVF\"      \"Jmotif_is_GTQ*F\"      \"Jmotif_is_GTQFF\"     \n",
       " [742] \"Jmotif_is_GTQHF\"      \"Jmotif_is_GTQSS\"      \"Jmotif_is_GTQYF\"     \n",
       " [745] \"Jmotif_is_GTQYY\"      \"Jmotif_is_GTRGF\"      \"Jmotif_is_GTTFF\"     \n",
       " [748] \"Jmotif_is_GTWGF\"      \"Jmotif_is_GVAFF\"      \"Jmotif_is_GVEFF\"     \n",
       " [751] \"Jmotif_is_GVFTF\"      \"Jmotif_is_GVGHF\"      \"Jmotif_is_GVIPF\"     \n",
       " [754] \"Jmotif_is_GVLFF\"      \"Jmotif_is_GVLTF\"      \"Jmotif_is_GVQFF\"     \n",
       " [757] \"Jmotif_is_GVQYF\"      \"Jmotif_is_GVRYF\"      \"Jmotif_is_GVSFF\"     \n",
       " [760] \"Jmotif_is_GVYTF\"      \"Jmotif_is_GWAFF\"      \"Jmotif_is_GWEFF\"     \n",
       " [763] \"Jmotif_is_GWQFF\"      \"Jmotif_is_GWQYF\"      \"Jmotif_is_GYEYF\"     \n",
       " [766] \"Jmotif_is_GYQFF\"      \"Jmotif_is_GYQYF\"      \"Jmotif_is_GYVSL\"     \n",
       " [769] \"Jmotif_is_HEAFF\"      \"Jmotif_is_HEKYF\"      \"Jmotif_is_HEQFF\"     \n",
       " [772] \"Jmotif_is_HEQYF\"      \"Jmotif_is_HEQYL\"      \"Jmotif_is_HEQYV\"     \n",
       " [775] \"Jmotif_is_HEQYY\"      \"Jmotif_is_HGAFF\"      \"Jmotif_is_HGYTF\"     \n",
       " [778] \"Jmotif_is_HHGTF\"      \"Jmotif_is_HIQYF\"      \"Jmotif_is_HKAFF\"     \n",
       " [781] \"Jmotif_is_HKQYF\"      \"Jmotif_is_HLEFF\"      \"Jmotif_is_HLVRL\"     \n",
       " [784] \"Jmotif_is_HNLHF\"      \"Jmotif_is_HNQFF\"      \"Jmotif_is_HPLHF\"     \n",
       " [787] \"Jmotif_is_HQAFF\"      \"Jmotif_is_HQPFF\"      \"Jmotif_is_HQQYF\"     \n",
       " [790] \"Jmotif_is_HQTFF\"      \"Jmotif_is_HRAFF\"      \"Jmotif_is_HRYTF\"     \n",
       " [793] \"Jmotif_is_HSLHF\"      \"Jmotif_is_HTIYF\"      \"Jmotif_is_HTQYF\"     \n",
       " [796] \"Jmotif_is_I*LFF\"      \"Jmotif_is_IAAFF\"      \"Jmotif_is_IAIYF\"     \n",
       " [799] \"Jmotif_is_IAQYF\"      \"Jmotif_is_IEAFF\"      \"Jmotif_is_IEASF\"     \n",
       " [802] \"Jmotif_is_IEKFF\"      \"Jmotif_is_IEQCV\"      \"Jmotif_is_IEQFF\"     \n",
       " [805] \"Jmotif_is_IEQYF\"      \"Jmotif_is_IEQYV\"      \"Jmotif_is_IFLTF\"     \n",
       " [808] \"Jmotif_is_IGAFF\"      \"Jmotif_is_IGNTF\"      \"Jmotif_is_IGQFF\"     \n",
       " [811] \"Jmotif_is_IGTLF\"      \"Jmotif_is_IGYTF\"      \"Jmotif_is_IIAFF\"     \n",
       " [814] \"Jmotif_is_IIQYF\"      \"Jmotif_is_IK*YF\"      \"Jmotif_is_IKAFF\"     \n",
       " [817] \"Jmotif_is_IKLFF\"      \"Jmotif_is_ILTFF\"      \"Jmotif_is_INQYF\"     \n",
       " [820] \"Jmotif_is_IPLHF\"      \"Jmotif_is_IPQHF\"      \"Jmotif_is_IPYTF\"     \n",
       " [823] \"Jmotif_is_IQAFF\"      \"Jmotif_is_IRAFF\"      \"Jmotif_is_IRPVF\"     \n",
       " [826] \"Jmotif_is_IRQFF\"      \"Jmotif_is_IRQYF\"      \"Jmotif_is_ISQYF\"     \n",
       " [829] \"Jmotif_is_ISYTF\"      \"Jmotif_is_ITIYF\"      \"Jmotif_is_ITQYF\"     \n",
       " [832] \"Jmotif_is_IVAFF\"      \"Jmotif_is_IVGFF\"      \"Jmotif_is_IWAFF\"     \n",
       " [835] \"Jmotif_is_IWLHL\"      \"Jmotif_is_K*QFF\"      \"Jmotif_is_KAAFF\"     \n",
       " [838] \"Jmotif_is_KALHF\"      \"Jmotif_is_KAQHF\"      \"Jmotif_is_KAQYF\"     \n",
       " [841] \"Jmotif_is_KC*FF\"      \"Jmotif_is_KEAFF\"      \"Jmotif_is_KELFF\"     \n",
       " [844] \"Jmotif_is_KEQFF\"      \"Jmotif_is_KEQYF\"      \"Jmotif_is_KERYF\"     \n",
       " [847] \"Jmotif_is_KGAFF\"      \"Jmotif_is_KGQYF\"      \"Jmotif_is_KGWEF\"     \n",
       " [850] \"Jmotif_is_KGYAF\"      \"Jmotif_is_KGYTF\"      \"Jmotif_is_KHHIF\"     \n",
       " [853] \"Jmotif_is_KHIYF\"      \"Jmotif_is_KIQYF\"      \"Jmotif_is_KKGFF\"     \n",
       " [856] \"Jmotif_is_KKLFF\"      \"Jmotif_is_KKQYF\"      \"Jmotif_is_KLCWP\"     \n",
       " [859] \"Jmotif_is_KNCFF\"      \"Jmotif_is_KPLHF\"      \"Jmotif_is_KPQHF\"     \n",
       " [862] \"Jmotif_is_KPQYF\"      \"Jmotif_is_KRLFF\"      \"Jmotif_is_KRPST\"     \n",
       " [865] \"Jmotif_is_KRQYF\"      \"Jmotif_is_KSLHF\"      \"Jmotif_is_KSYTF\"     \n",
       " [868] \"Jmotif_is_KTIYF\"      \"Jmotif_is_KTQYF\"      \"Jmotif_is_KTYTF\"     \n",
       " [871] \"Jmotif_is_KVLTF\"      \"Jmotif_is_KWAFF\"      \"Jmotif_is_L*QFF\"     \n",
       " [874] \"Jmotif_is_L*QYF\"      \"Jmotif_is_LAAFF\"      \"Jmotif_is_LALHF\"     \n",
       " [877] \"Jmotif_is_LAQHF\"      \"Jmotif_is_LAQYF\"      \"Jmotif_is_LARDF\"     \n",
       " [880] \"Jmotif_is_LAVYF\"      \"Jmotif_is_LDAFF\"      \"Jmotif_is_LDCTF\"     \n",
       " [883] \"Jmotif_is_LDYTF\"      \"Jmotif_is_LEAFF\"      \"Jmotif_is_LEEYF\"     \n",
       " [886] \"Jmotif_is_LELFF\"      \"Jmotif_is_LEQFF\"      \"Jmotif_is_LEQYF\"     \n",
       " [889] \"Jmotif_is_LEQYL\"      \"Jmotif_is_LEQYV\"      \"Jmotif_is_LGAFF\"     \n",
       " [892] \"Jmotif_is_LGGYF\"      \"Jmotif_is_LGKFF\"      \"Jmotif_is_LGLFF\"     \n",
       " [895] \"Jmotif_is_LGLHF\"      \"Jmotif_is_LGNLK\"      \"Jmotif_is_LGQFF\"     \n",
       " [898] \"Jmotif_is_LGQYF\"      \"Jmotif_is_LGRTF\"      \"Jmotif_is_LGSFF\"     \n",
       " [901] \"Jmotif_is_LGTRF\"      \"Jmotif_is_LGYTF\"      \"Jmotif_is_LHPST\"     \n",
       " [904] \"Jmotif_is_LIIHF\"      \"Jmotif_is_LIQHF\"      \"Jmotif_is_LKAFF\"     \n",
       " [907] \"Jmotif_is_LKLFF\"      \"Jmotif_is_LKQFF\"      \"Jmotif_is_LKQYF\"     \n",
       " [910] \"Jmotif_is_LLEYF\"      \"Jmotif_is_LLPFF\"      \"Jmotif_is_LLQYF\"     \n",
       " [913] \"Jmotif_is_LMEFF\"      \"Jmotif_is_LNLHF\"      \"Jmotif_is_LNYTF\"     \n",
       " [916] \"Jmotif_is_LPKNF\"      \"Jmotif_is_LPLHF\"      \"Jmotif_is_LPQFF\"     \n",
       " [919] \"Jmotif_is_LPQHF\"      \"Jmotif_is_LQAFF\"      \"Jmotif_is_LQQYF\"     \n",
       " [922] \"Jmotif_is_LRAFF\"      \"Jmotif_is_LRAVL\"      \"Jmotif_is_LRQFF\"     \n",
       " [925] \"Jmotif_is_LRQYF\"      \"Jmotif_is_LRSFF\"      \"Jmotif_is_LSLHF\"     \n",
       " [928] \"Jmotif_is_LSQFF\"      \"Jmotif_is_LSQHF\"      \"Jmotif_is_LSQYF\"     \n",
       " [931] \"Jmotif_is_LSVFF\"      \"Jmotif_is_LSYTF\"      \"Jmotif_is_LTAFF\"     \n",
       " [934] \"Jmotif_is_LTQHF\"      \"Jmotif_is_LTQYF\"      \"Jmotif_is_LVAFF\"     \n",
       " [937] \"Jmotif_is_LVQFF\"      \"Jmotif_is_LVSFF\"      \"Jmotif_is_LWAFF\"     \n",
       " [940] \"Jmotif_is_LWLHL\"      \"Jmotif_is_MAPTF\"      \"Jmotif_is_MAQHF\"     \n",
       " [943] \"Jmotif_is_MEAFF\"      \"Jmotif_is_MELFF\"      \"Jmotif_is_MEQFF\"     \n",
       " [946] \"Jmotif_is_MEQYF\"      \"Jmotif_is_MGAFF\"      \"Jmotif_is_MGGFF\"     \n",
       " [949] \"Jmotif_is_MGLFF\"      \"Jmotif_is_MGQYF\"      \"Jmotif_is_MGYTF\"     \n",
       " [952] \"Jmotif_is_MKKYF\"      \"Jmotif_is_MKNYF\"      \"Jmotif_is_MNYTF\"     \n",
       " [955] \"Jmotif_is_MPQHF\"      \"Jmotif_is_MQAFF\"      \"Jmotif_is_MRAFF\"     \n",
       " [958] \"Jmotif_is_MSQHF\"      \"Jmotif_is_MTQHF\"      \"Jmotif_is_MWYTF\"     \n",
       " [961] \"Jmotif_is_N*AFF\"      \"Jmotif_is_N*SFL\"      \"Jmotif_is_NAQFF\"     \n",
       " [964] \"Jmotif_is_NAQHF\"      \"Jmotif_is_NCYTF\"      \"Jmotif_is_NDQFF\"     \n",
       " [967] \"Jmotif_is_NDYTF\"      \"Jmotif_is_NE*FF\"      \"Jmotif_is_NE*YF\"     \n",
       " [970] \"Jmotif_is_NEAFF\"      \"Jmotif_is_NEGYF\"      \"Jmotif_is_NEKFF\"     \n",
       " [973] \"Jmotif_is_NELFF\"      \"Jmotif_is_NEQFF\"      \"Jmotif_is_NEQFI\"     \n",
       " [976] \"Jmotif_is_NEQFL\"      \"Jmotif_is_NEQFS\"      \"Jmotif_is_NEQFW\"     \n",
       " [979] \"Jmotif_is_NEQIF\"      \"Jmotif_is_NEQLF\"      \"Jmotif_is_NEQSF\"     \n",
       " [982] \"Jmotif_is_NEQSS\"      \"Jmotif_is_NEQYF\"      \"Jmotif_is_NEQYV\"     \n",
       " [985] \"Jmotif_is_NERFF\"      \"Jmotif_is_NFQYF\"      \"Jmotif_is_NG*TF\"     \n",
       " [988] \"Jmotif_is_NGAFF\"      \"Jmotif_is_NGLFF\"      \"Jmotif_is_NGLTF\"     \n",
       " [991] \"Jmotif_is_NGQFF\"      \"Jmotif_is_NGQHF\"      \"Jmotif_is_NGYNF\"     \n",
       " [994] \"Jmotif_is_NGYTF\"      \"Jmotif_is_NIKYF\"      \"Jmotif_is_NILYF\"     \n",
       " [997] \"Jmotif_is_NIQ*F\"      \"Jmotif_is_NIQYF\"      \"Jmotif_is_NIQYL\"     \n",
       "[1000] \"Jmotif_is_NIQYS\"      \"Jmotif_is_NIRYF\"      \"Jmotif_is_NKQFF\"     \n",
       "[1003] \"Jmotif_is_NKQYF\"      \"Jmotif_is_NLRAF\"      \"Jmotif_is_NNIYF\"     \n",
       "[1006] \"Jmotif_is_NPLHF\"      \"Jmotif_is_NPQFF\"      \"Jmotif_is_NQAFF\"     \n",
       "[1009] \"Jmotif_is_NQQFF\"      \"Jmotif_is_NQQYF\"      \"Jmotif_is_NRDTF\"     \n",
       "[1012] \"Jmotif_is_NRQFF\"      \"Jmotif_is_NRQYF\"      \"Jmotif_is_NRSYF\"     \n",
       "[1015] \"Jmotif_is_NRYTF\"      \"Jmotif_is_NSIYF\"      \"Jmotif_is_NSRYF\"     \n",
       "[1018] \"Jmotif_is_NTIHF\"      \"Jmotif_is_NTINF\"      \"Jmotif_is_NTIYF\"     \n",
       "[1021] \"Jmotif_is_NTIYL\"      \"Jmotif_is_NTKYF\"      \"Jmotif_is_NTQYF\"     \n",
       "[1024] \"Jmotif_is_NVAFF\"      \"Jmotif_is_NVLNF\"      \"Jmotif_is_NVLTF\"     \n",
       "[1027] \"Jmotif_is_NVLTL\"      \"Jmotif_is_NVLTS\"      \"Jmotif_is_NVQTF\"     \n",
       "[1030] \"Jmotif_is_NVQYF\"      \"Jmotif_is_NVVTF\"      \"Jmotif_is_NWGFF\"     \n",
       "[1033] \"Jmotif_is_P*AFF\"      \"Jmotif_is_P*QYF\"      \"Jmotif_is_PAEYF\"     \n",
       "[1036] \"Jmotif_is_PALHF\"      \"Jmotif_is_PAQFF\"      \"Jmotif_is_PDFTF\"     \n",
       "[1039] \"Jmotif_is_PDQFF\"      \"Jmotif_is_PEAFF\"      \"Jmotif_is_PEAIF\"     \n",
       "[1042] \"Jmotif_is_PEGYF\"      \"Jmotif_is_PELFF\"      \"Jmotif_is_PEQFF\"     \n",
       "[1045] \"Jmotif_is_PEQHF\"      \"Jmotif_is_PEQYF\"      \"Jmotif_is_PFSFF\"     \n",
       "[1048] \"Jmotif_is_PGAFF\"      \"Jmotif_is_PGCTF\"      \"Jmotif_is_PGGYF\"     \n",
       "[1051] \"Jmotif_is_PGGYL\"      \"Jmotif_is_PGPFF\"      \"Jmotif_is_PGQYF\"     \n",
       "[1054] \"Jmotif_is_PGRYF\"      \"Jmotif_is_PGSYF\"      \"Jmotif_is_PGWNF\"     \n",
       "[1057] \"Jmotif_is_PGYTF\"      \"Jmotif_is_PIQHF\"      \"Jmotif_is_PKAFF\"     \n",
       "[1060] \"Jmotif_is_PKLFF\"      \"Jmotif_is_PKPFF\"      \"Jmotif_is_PKQYF\"     \n",
       "[1063] \"Jmotif_is_PLAFF\"      \"Jmotif_is_PLAYF\"      \"Jmotif_is_PLIFF\"     \n",
       "[1066] \"Jmotif_is_PLQYF\"      \"Jmotif_is_PLWYF\"      \"Jmotif_is_PNYTF\"     \n",
       "[1069] \"Jmotif_is_PPLHF\"      \"Jmotif_is_PPPHF\"      \"Jmotif_is_PPQHF\"     \n",
       "[1072] \"Jmotif_is_PPQYF\"      \"Jmotif_is_PPYTF\"      \"Jmotif_is_PQAFF\"     \n",
       "[1075] \"Jmotif_is_PQQFF\"      \"Jmotif_is_PQQYF\"      \"Jmotif_is_PRAFF\"     \n",
       "[1078] \"Jmotif_is_PREFF\"      \"Jmotif_is_PRLFF\"      \"Jmotif_is_PRYTF\"     \n",
       "[1081] \"Jmotif_is_PSQFF\"      \"Jmotif_is_PSQYF\"      \"Jmotif_is_PSYTF\"     \n",
       "[1084] \"Jmotif_is_PTGYF\"      \"Jmotif_is_PTIFF\"      \"Jmotif_is_PTLHF\"     \n",
       "[1087] \"Jmotif_is_PTQHF\"      \"Jmotif_is_PTQYF\"      \"Jmotif_is_PTQYY\"     \n",
       "[1090] \"Jmotif_is_PV*HF\"      \"Jmotif_is_PVAFF\"      \"Jmotif_is_PVYTF\"     \n",
       "[1093] \"Jmotif_is_PWPDF\"      \"Jmotif_is_Q*AVL\"      \"Jmotif_is_Q*QFF\"     \n",
       "[1096] \"Jmotif_is_QAAFF\"      \"Jmotif_is_QALHF\"      \"Jmotif_is_QAQHF\"     \n",
       "[1099] \"Jmotif_is_QAQYF\"      \"Jmotif_is_QARYF\"      \"Jmotif_is_QDKDF\"     \n",
       "[1102] \"Jmotif_is_QDLHF\"      \"Jmotif_is_QEAFF\"      \"Jmotif_is_QEQFF\"     \n",
       "[1105] \"Jmotif_is_QEQYF\"      \"Jmotif_is_QGAFF\"      \"Jmotif_is_QGGRF\"     \n",
       "[1108] \"Jmotif_is_QGHGF\"      \"Jmotif_is_QGLFF\"      \"Jmotif_is_QGNHF\"     \n",
       "[1111] \"Jmotif_is_QGPFF\"      \"Jmotif_is_QGQFF\"      \"Jmotif_is_QGQYF\"     \n",
       "[1114] \"Jmotif_is_QGSFF\"      \"Jmotif_is_QGYTF\"      \"Jmotif_is_QHQHF\"     \n",
       "[1117] \"Jmotif_is_QIQYF\"      \"Jmotif_is_QIRSI\"      \"Jmotif_is_QKAFF\"     \n",
       "[1120] \"Jmotif_is_QKLFF\"      \"Jmotif_is_QLAFF\"      \"Jmotif_is_QLKYF\"     \n",
       "[1123] \"Jmotif_is_QLQHF\"      \"Jmotif_is_QNHTF\"      \"Jmotif_is_QP*HF\"     \n",
       "[1126] \"Jmotif_is_QPKHF\"      \"Jmotif_is_QPLHF\"      \"Jmotif_is_QPQDF\"     \n",
       "[1129] \"Jmotif_is_QPQHF\"      \"Jmotif_is_QPQHI\"      \"Jmotif_is_QPQHL\"     \n",
       "[1132] \"Jmotif_is_QPQLF\"      \"Jmotif_is_QPQNF\"      \"Jmotif_is_QPQRF\"     \n",
       "[1135] \"Jmotif_is_QPQYF\"      \"Jmotif_is_QPRHF\"      \"Jmotif_is_QQAFF\"     \n",
       "[1138] \"Jmotif_is_QQEFF\"      \"Jmotif_is_QRAFF\"      \"Jmotif_is_QRPDF\"     \n",
       "[1141] \"Jmotif_is_QRQYF\"      \"Jmotif_is_QRYTF\"      \"Jmotif_is_QSAFF\"     \n",
       "[1144] \"Jmotif_is_QSQYF\"      \"Jmotif_is_QTQHF\"      \"Jmotif_is_QTQYF\"     \n",
       "[1147] \"Jmotif_is_QTYSF\"      \"Jmotif_is_QVKYF\"      \"Jmotif_is_QVPFF\"     \n",
       "[1150] \"Jmotif_is_QVQHF\"      \"Jmotif_is_QVYTF\"      \"Jmotif_is_QYLHF\"     \n",
       "[1153] \"Jmotif_is_QYYTF\"      \"Jmotif_is_R*AFF\"      \"Jmotif_is_R*QYF\"     \n",
       "[1156] \"Jmotif_is_RAAFF\"      \"Jmotif_is_RAAYF\"      \"Jmotif_is_RALHF\"     \n",
       "[1159] \"Jmotif_is_RALTF\"      \"Jmotif_is_RAQHF\"      \"Jmotif_is_RAQYF\"     \n",
       "[1162] \"Jmotif_is_RAVIF\"      \"Jmotif_is_RDQYF\"      \"Jmotif_is_RDRSF\"     \n",
       "[1165] \"Jmotif_is_RDYTF\"      \"Jmotif_is_REAFF\"      \"Jmotif_is_REKYF\"     \n",
       "[1168] \"Jmotif_is_RELFF\"      \"Jmotif_is_RELHF\"      \"Jmotif_is_RELLF\"     \n",
       "[1171] \"Jmotif_is_REQFF\"      \"Jmotif_is_REQYF\"      \"Jmotif_is_REQYL\"     \n",
       "[1174] \"Jmotif_is_REQYV\"      \"Jmotif_is_RERNF\"      \"Jmotif_is_RERYF\"     \n",
       "[1177] \"Jmotif_is_RESYF\"      \"Jmotif_is_RETYF\"      \"Jmotif_is_RGAFF\"     \n",
       "[1180] \"Jmotif_is_RGAVF\"      \"Jmotif_is_RGDTF\"      \"Jmotif_is_RGGVF\"     \n",
       "[1183] \"Jmotif_is_RGKYF\"      \"Jmotif_is_RGLFF\"      \"Jmotif_is_RGLTF\"     \n",
       "[1186] \"Jmotif_is_RGLYF\"      \"Jmotif_is_RGPYF\"      \"Jmotif_is_RGQFF\"     \n",
       "[1189] \"Jmotif_is_RGQYF\"      \"Jmotif_is_RGRFF\"      \"Jmotif_is_RGTFF\"     \n",
       "[1192] \"Jmotif_is_RGYAF\"      \"Jmotif_is_RGYTF\"      \"Jmotif_is_RHQHF\"     \n",
       "[1195] \"Jmotif_is_RHQYF\"      \"Jmotif_is_RHYTF\"      \"Jmotif_is_RIQYF\"     \n",
       "[1198] \"Jmotif_is_RKAFF\"      \"Jmotif_is_RKLFF\"      \"Jmotif_is_RKQFF\"     \n",
       "[1201] \"Jmotif_is_RKTVF\"      \"Jmotif_is_RLAFF\"      \"Jmotif_is_RLGYF\"     \n",
       "[1204] \"Jmotif_is_RLPFF\"      \"Jmotif_is_RLVFF\"      \"Jmotif_is_RMQFF\"     \n",
       "[1207] \"Jmotif_is_RNQYF\"      \"Jmotif_is_RNRYF\"      \"Jmotif_is_RPDTF\"     \n",
       "[1210] \"Jmotif_is_RPIYF\"      \"Jmotif_is_RPLHF\"      \"Jmotif_is_RPQHF\"     \n",
       "[1213] \"Jmotif_is_RPQYF\"      \"Jmotif_is_RPRYF\"      \"Jmotif_is_RPYTF\"     \n",
       "[1216] \"Jmotif_is_RQLNF\"      \"Jmotif_is_RQQYF\"      \"Jmotif_is_RQQYS\"     \n",
       "[1219] \"Jmotif_is_RRAFF\"      \"Jmotif_is_RRAHF\"      \"Jmotif_is_RRQFF\"     \n",
       "[1222] \"Jmotif_is_RRQFL\"      \"Jmotif_is_RS*TF\"      \"Jmotif_is_RSAFF\"     \n",
       "[1225] \"Jmotif_is_RSCFF\"      \"Jmotif_is_RSLHF\"      \"Jmotif_is_RSPFF\"     \n",
       "[1228] \"Jmotif_is_RSQHF\"      \"Jmotif_is_RSYTF\"      \"Jmotif_is_RTAFF\"     \n",
       "[1231] \"Jmotif_is_RTEHF\"      \"Jmotif_is_RTIYF\"      \"Jmotif_is_RTLHF\"     \n",
       "[1234] \"Jmotif_is_RTQHF\"      \"Jmotif_is_RTQYF\"      \"Jmotif_is_RTTFF\"     \n",
       "[1237] \"Jmotif_is_RVAFF\"      \"Jmotif_is_RVLGV\"      \"Jmotif_is_RVNFF\"     \n",
       "[1240] \"Jmotif_is_RVQFF\"      \"Jmotif_is_RVQYF\"      \"Jmotif_is_RVRFF\"     \n",
       "[1243] \"Jmotif_is_RVRSF\"      \"Jmotif_is_RVYTF\"      \"Jmotif_is_RWWFF\"     \n",
       "[1246] \"Jmotif_is_RYAFF\"      \"Jmotif_is_RYAVF\"      \"Jmotif_is_RYEFF\"     \n",
       "[1249] \"Jmotif_is_RYEYF\"      \"Jmotif_is_RYPYF\"      \"Jmotif_is_S*AFF\"     \n",
       "[1252] \"Jmotif_is_SALHF\"      \"Jmotif_is_SAPAF\"      \"Jmotif_is_SAPTF\"     \n",
       "[1255] \"Jmotif_is_SAQFF\"      \"Jmotif_is_SAQYF\"      \"Jmotif_is_SARIF\"     \n",
       "[1258] \"Jmotif_is_SAYTF\"      \"Jmotif_is_SDAFF\"      \"Jmotif_is_SDQFF\"     \n",
       "[1261] \"Jmotif_is_SDRYF\"      \"Jmotif_is_SDYTF\"      \"Jmotif_is_SE*YF\"     \n",
       "[1264] \"Jmotif_is_SEAFF\"      \"Jmotif_is_SELFF\"      \"Jmotif_is_SEQFF\"     \n",
       "[1267] \"Jmotif_is_SEQYF\"      \"Jmotif_is_SEQYV\"      \"Jmotif_is_SERYF\"     \n",
       "[1270] \"Jmotif_is_SFGFF\"      \"Jmotif_is_SFVHF\"      \"Jmotif_is_SFYTF\"     \n",
       "[1273] \"Jmotif_is_SGAFF\"      \"Jmotif_is_SGDDF\"      \"Jmotif_is_SGGHF\"     \n",
       "[1276] \"Jmotif_is_SGIYF\"      \"Jmotif_is_SGKYF\"      \"Jmotif_is_SGQFF\"     \n",
       "[1279] \"Jmotif_is_SGQYF\"      \"Jmotif_is_SGSFF\"      \"Jmotif_is_SGTFF\"     \n",
       "[1282] \"Jmotif_is_SGYSF\"      \"Jmotif_is_SGYTF\"      \"Jmotif_is_SGYTL\"     \n",
       "[1285] \"Jmotif_is_SHLFF\"      \"Jmotif_is_SHLHF\"      \"Jmotif_is_SIEYF\"     \n",
       "[1288] \"Jmotif_is_SIIHF\"      \"Jmotif_is_SIQFF\"      \"Jmotif_is_SIQYF\"     \n",
       "[1291] \"Jmotif_is_SIYTF\"      \"Jmotif_is_SKAFF\"      \"Jmotif_is_SKQYF\"     \n",
       "[1294] \"Jmotif_is_SLGFF\"      \"Jmotif_is_SLGSF\"      \"Jmotif_is_SLKYF\"     \n",
       "[1297] \"Jmotif_is_SLPFF\"      \"Jmotif_is_SLQFF\"      \"Jmotif_is_SLQYF\"     \n",
       "[1300] \"Jmotif_is_SLRYF\"      \"Jmotif_is_SMEYF\"      \"Jmotif_is_SMQFF\"     \n",
       "[1303] \"Jmotif_is_SMQLF\"      \"Jmotif_is_SMQYF\"      \"Jmotif_is_SPGYF\"     \n",
       "[1306] \"Jmotif_is_SPHHF\"      \"Jmotif_is_SPIHF\"      \"Jmotif_is_SPKFF\"     \n",
       "[1309] \"Jmotif_is_SPLHF\"      \"Jmotif_is_SPLHI\"      \"Jmotif_is_SPLHL\"     \n",
       "[1312] \"Jmotif_is_SPLHY\"      \"Jmotif_is_SPLNF\"      \"Jmotif_is_SPLQF\"     \n",
       "[1315] \"Jmotif_is_SPPHF\"      \"Jmotif_is_SPQHF\"      \"Jmotif_is_SPQYF\"     \n",
       "[1318] \"Jmotif_is_SPRFF\"      \"Jmotif_is_SPRYF\"      \"Jmotif_is_SPVFF\"     \n",
       "[1321] \"Jmotif_is_SPYTF\"      \"Jmotif_is_SQAFF\"      \"Jmotif_is_SQQFF\"     \n",
       "[1324] \"Jmotif_is_SQQYF\"      \"Jmotif_is_SRAFF\"      \"Jmotif_is_SREFF\"     \n",
       "[1327] \"Jmotif_is_SRGYF\"      \"Jmotif_is_SRLYF\"      \"Jmotif_is_SRRGF\"     \n",
       "[1330] \"Jmotif_is_SRWIF\"      \"Jmotif_is_SSAFF\"      \"Jmotif_is_SSARF\"     \n",
       "[1333] \"Jmotif_is_SSLHF\"      \"Jmotif_is_SSQHF\"      \"Jmotif_is_SSQYF\"     \n",
       "[1336] \"Jmotif_is_SSRES\"      \"Jmotif_is_SSRIF\"      \"Jmotif_is_SSYTF\"     \n",
       "[1339] \"Jmotif_is_STIYF\"      \"Jmotif_is_STLHF\"      \"Jmotif_is_STPSF\"     \n",
       "[1342] \"Jmotif_is_STQYF\"      \"Jmotif_is_SVAFF\"      \"Jmotif_is_SVGHF\"     \n",
       "[1345] \"Jmotif_is_SVQFF\"      \"Jmotif_is_SVQSF\"      \"Jmotif_is_SVQYF\"     \n",
       "[1348] \"Jmotif_is_SVYTF\"      \"Jmotif_is_SWLNF\"      \"Jmotif_is_SWQFF\"     \n",
       "[1351] \"Jmotif_is_SWQYF\"      \"Jmotif_is_SYVYF\"      \"Jmotif_is_TAAFF\"     \n",
       "[1354] \"Jmotif_is_TAPAF\"      \"Jmotif_is_TAQFF\"      \"Jmotif_is_TAQHF\"     \n",
       "[1357] \"Jmotif_is_TAQYF\"      \"Jmotif_is_TAYTF\"      \"Jmotif_is_TDAFF\"     \n",
       "[1360] \"Jmotif_is_TDLFF\"      \"Jmotif_is_TDQYF\"      \"Jmotif_is_TDRFF\"     \n",
       "[1363] \"Jmotif_is_TDTHF\"      \"Jmotif_is_TEACF\"      \"Jmotif_is_TEAFC\"     \n",
       "[1366] \"Jmotif_is_TEAFF\"      \"Jmotif_is_TEAFI\"      \"Jmotif_is_TEAFL\"     \n",
       "[1369] \"Jmotif_is_TEAFS\"      \"Jmotif_is_TEAFY\"      \"Jmotif_is_TEAIF\"     \n",
       "[1372] \"Jmotif_is_TEALF\"      \"Jmotif_is_TEALS\"      \"Jmotif_is_TEASF\"     \n",
       "[1375] \"Jmotif_is_TEAYF\"      \"Jmotif_is_TEDFF\"      \"Jmotif_is_TELFF\"     \n",
       "[1378] \"Jmotif_is_TEQFF\"      \"Jmotif_is_TEQYF\"      \"Jmotif_is_TETFF\"     \n",
       "[1381] \"Jmotif_is_TEVFF\"      \"Jmotif_is_TEYTF\"      \"Jmotif_is_TFWYF\"     \n",
       "[1384] \"Jmotif_is_TGAFF\"      \"Jmotif_is_TGCTF\"      \"Jmotif_is_TGEFF\"     \n",
       "[1387] \"Jmotif_is_TGEVF\"      \"Jmotif_is_TGEYF\"      \"Jmotif_is_TGNTF\"     \n",
       "[1390] \"Jmotif_is_TGPLF\"      \"Jmotif_is_TGQFF\"      \"Jmotif_is_TGQYF\"     \n",
       "[1393] \"Jmotif_is_TGSNF\"      \"Jmotif_is_TGVGF\"      \"Jmotif_is_TGYTF\"     \n",
       "[1396] \"Jmotif_is_THLYF\"      \"Jmotif_is_THYTF\"      \"Jmotif_is_TIGFF\"     \n",
       "[1399] \"Jmotif_is_TIQYF\"      \"Jmotif_is_TKAFF\"      \"Jmotif_is_TKQFF\"     \n",
       "[1402] \"Jmotif_is_TKQYF\"      \"Jmotif_is_TLAFF\"      \"Jmotif_is_TLKLS\"     \n",
       "[1405] \"Jmotif_is_TLLYF\"      \"Jmotif_is_TMDTF\"      \"Jmotif_is_TMGFF\"     \n",
       "[1408] \"Jmotif_is_TNQYF\"      \"Jmotif_is_TPAFF\"      \"Jmotif_is_TPLHF\"     \n",
       "[1411] \"Jmotif_is_TPQFF\"      \"Jmotif_is_TPQHF\"      \"Jmotif_is_TPWFF\"     \n",
       "[1414] \"Jmotif_is_TPYIL\"      \"Jmotif_is_TQAFF\"      \"Jmotif_is_TQPFF\"     \n",
       "[1417] \"Jmotif_is_TQQFF\"      \"Jmotif_is_TQQYF\"      \"Jmotif_is_TRAFF\"     \n",
       "[1420] \"Jmotif_is_TRGYF\"      \"Jmotif_is_TRIHF\"      \"Jmotif_is_TRLYF\"     \n",
       "[1423] \"Jmotif_is_TRQFF\"      \"Jmotif_is_TRQYF\"      \"Jmotif_is_TRYTF\"     \n",
       "[1426] \"Jmotif_is_TSQFF\"      \"Jmotif_is_TSQYF\"      \"Jmotif_is_TSVDF\"     \n",
       "[1429] \"Jmotif_is_TSYTF\"      \"Jmotif_is_TTAFF\"      \"Jmotif_is_TTGTF\"     \n",
       "[1432] \"Jmotif_is_TTIYF\"      \"Jmotif_is_TTQYF\"      \"Jmotif_is_TTRYF\"     \n",
       "[1435] \"Jmotif_is_TVAFF\"      \"Jmotif_is_TVDTF\"      \"Jmotif_is_TVLTF\"     \n",
       "[1438] \"Jmotif_is_TVPFF\"      \"Jmotif_is_TVQYF\"      \"Jmotif_is_TVTFF\"     \n",
       "[1441] \"Jmotif_is_TWVNF\"      \"Jmotif_is_V*AFF\"      \"Jmotif_is_VAAFF\"     \n",
       "[1444] \"Jmotif_is_VAKDF\"      \"Jmotif_is_VALFF\"      \"Jmotif_is_VALHF\"     \n",
       "[1447] \"Jmotif_is_VAQHF\"      \"Jmotif_is_VAQYF\"      \"Jmotif_is_VCLHF\"     \n",
       "[1450] \"Jmotif_is_VDYTF\"      \"Jmotif_is_VEAFF\"      \"Jmotif_is_VEASF\"     \n",
       "[1453] \"Jmotif_is_VEEFF\"      \"Jmotif_is_VELGF\"      \"Jmotif_is_VEQFF\"     \n",
       "[1456] \"Jmotif_is_VEQYF\"      \"Jmotif_is_VEQYL\"      \"Jmotif_is_VETFF\"     \n",
       "[1459] \"Jmotif_is_VFAFF\"      \"Jmotif_is_VFWYF\"      \"Jmotif_is_VG*YF\"     \n",
       "[1462] \"Jmotif_is_VGAFF\"      \"Jmotif_is_VGEFF\"      \"Jmotif_is_VGEFL\"     \n",
       "[1465] \"Jmotif_is_VGFFF\"      \"Jmotif_is_VGQFF\"      \"Jmotif_is_VGQYF\"     \n",
       "[1468] \"Jmotif_is_VGRFF\"      \"Jmotif_is_VGRYF\"      \"Jmotif_is_VGSFF\"     \n",
       "[1471] \"Jmotif_is_VGYTF\"      \"Jmotif_is_VIAFF\"      \"Jmotif_is_VIEDF\"     \n",
       "[1474] \"Jmotif_is_VIQYF\"      \"Jmotif_is_VKAFF\"      \"Jmotif_is_VKLFF\"     \n",
       "[1477] \"Jmotif_is_VKPFF\"      \"Jmotif_is_VKQFF\"      \"Jmotif_is_VKQYF\"     \n",
       "[1480] \"Jmotif_is_VLNTF\"      \"Jmotif_is_VNLHF\"      \"Jmotif_is_VPAFF\"     \n",
       "[1483] \"Jmotif_is_VPLHF\"      \"Jmotif_is_VPLYF\"      \"Jmotif_is_VPQHF\"     \n",
       "[1486] \"Jmotif_is_VPQYF\"      \"Jmotif_is_VQAFF\"      \"Jmotif_is_VQLFF\"     \n",
       "[1489] \"Jmotif_is_VQQHF\"      \"Jmotif_is_VQQYF\"      \"Jmotif_is_VRAFF\"     \n",
       "[1492] \"Jmotif_is_VRPFF\"      \"Jmotif_is_VRQFF\"      \"Jmotif_is_VRQYF\"     \n",
       "[1495] \"Jmotif_is_VRVYF\"      \"Jmotif_is_VRYTF\"      \"Jmotif_is_VSAFF\"     \n",
       "[1498] \"Jmotif_is_VSIYF\"      \"Jmotif_is_VSLYF\"      \"Jmotif_is_VSYTF\"     \n",
       "[1501] \"Jmotif_is_VTAFF\"      \"Jmotif_is_VTIYF\"      \"Jmotif_is_VTQ*F\"     \n",
       "[1504] \"Jmotif_is_VTQYF\"      \"Jmotif_is_VVAFF\"      \"Jmotif_is_VVGFF\"     \n",
       "[1507] \"Jmotif_is_VVLLF\"      \"Jmotif_is_VVQYF\"      \"Jmotif_is_W*AFF\"     \n",
       "[1510] \"Jmotif_is_WAAFF\"      \"Jmotif_is_WAIYF\"      \"Jmotif_is_WAQYF\"     \n",
       "[1513] \"Jmotif_is_WEAFF\"      \"Jmotif_is_WELFF\"      \"Jmotif_is_WEQFF\"     \n",
       "[1516] \"Jmotif_is_WEQYF\"      \"Jmotif_is_WEQYV\"      \"Jmotif_is_WGAFF\"     \n",
       "[1519] \"Jmotif_is_WGLFF\"      \"Jmotif_is_WGQFF\"      \"Jmotif_is_WGQYF\"     \n",
       "[1522] \"Jmotif_is_WGYNF\"      \"Jmotif_is_WGYTF\"      \"Jmotif_is_WIAFF\"     \n",
       "[1525] \"Jmotif_is_WKLFF\"      \"Jmotif_is_WPLHF\"      \"Jmotif_is_WPQHF\"     \n",
       "[1528] \"Jmotif_is_WSYTF\"      \"Jmotif_is_WTLHF\"      \"Jmotif_is_WTQHF\"     \n",
       "[1531] \"Jmotif_is_WTQYF\"      \"Jmotif_is_WVGYF\"      \"Jmotif_is_WWHTF\"     \n",
       "[1534] \"Jmotif_is_Y*AYF\"      \"Jmotif_is_Y*QYF\"      \"Jmotif_is_YAPSF\"     \n",
       "[1537] \"Jmotif_is_YAQYF\"      \"Jmotif_is_YCYTF\"      \"Jmotif_is_YDQYF\"     \n",
       "[1540] \"Jmotif_is_YDYTF\"      \"Jmotif_is_YDYTL\"      \"Jmotif_is_YE*YF\"     \n",
       "[1543] \"Jmotif_is_YEAFF\"      \"Jmotif_is_YEEYF\"      \"Jmotif_is_YEKYF\"     \n",
       "[1546] \"Jmotif_is_YELFF\"      \"Jmotif_is_YELYF\"      \"Jmotif_is_YEQ*F\"     \n",
       "[1549] \"Jmotif_is_YEQCF\"      \"Jmotif_is_YEQDF\"      \"Jmotif_is_YEQFF\"     \n",
       "[1552] \"Jmotif_is_YEQFL\"      \"Jmotif_is_YEQHF\"      \"Jmotif_is_YEQNF\"     \n",
       "[1555] \"Jmotif_is_YEQYF\"      \"Jmotif_is_YEQYI\"      \"Jmotif_is_YEQYL\"     \n",
       "[1558] \"Jmotif_is_YEQYS\"      \"Jmotif_is_YEQYV\"      \"Jmotif_is_YEQYY\"     \n",
       "[1561] \"Jmotif_is_YFYSF\"      \"Jmotif_is_YG*TF\"      \"Jmotif_is_YGAFF\"     \n",
       "[1564] \"Jmotif_is_YGGTF\"      \"Jmotif_is_YGHTF\"      \"Jmotif_is_YGNTF\"     \n",
       "[1567] \"Jmotif_is_YGQYF\"      \"Jmotif_is_YGSTF\"      \"Jmotif_is_YGYNF\"     \n",
       "[1570] \"Jmotif_is_YGYSF\"      \"Jmotif_is_YGYTF\"      \"Jmotif_is_YGYTI\"     \n",
       "[1573] \"Jmotif_is_YGYTL\"      \"Jmotif_is_YGYTS\"      \"Jmotif_is_YGYTV\"     \n",
       "[1576] \"Jmotif_is_YIQYF\"      \"Jmotif_is_YKQYF\"      \"Jmotif_is_YLQYF\"     \n",
       "[1579] \"Jmotif_is_YLTHF\"      \"Jmotif_is_YNEQF\"      \"Jmotif_is_YPLHF\"     \n",
       "[1582] \"Jmotif_is_YPQFF\"      \"Jmotif_is_YQQYF\"      \"Jmotif_is_YQRIF\"     \n",
       "[1585] \"Jmotif_is_YRAFF\"      \"Jmotif_is_YRYTF\"      \"Jmotif_is_YSLHF\"     \n",
       "[1588] \"Jmotif_is_YSQYF\"      \"Jmotif_is_YSYTF\"      \"Jmotif_is_YTIYF\"     \n",
       "[1591] \"Jmotif_is_YTLHF\"      \"Jmotif_is_YTQFF\"      \"Jmotif_is_YTQYF\"     \n",
       "[1594] \"Jmotif_is_YTYTF\"      \"Jmotif_is_YVYTF\"      \"length_is_12\"        \n",
       "[1597] \"length_is_13\"         \"length_is_14\"         \"length_is_15\"        \n",
       "[1600] \"length_is_16\"         \"length_is_17\"         \"p107_is_A\"           \n",
       "[1603] \"p107_is_C\"            \"p107_is_D\"            \"p107_is_E\"           \n",
       "[1606] \"p107_is_F\"            \"p107_is_G\"            \"p107_is_H\"           \n",
       "[1609] \"p107_is_I\"            \"p107_is_K\"            \"p107_is_L\"           \n",
       "[1612] \"p107_is_M\"            \"p107_is_N\"            \"p107_is_P\"           \n",
       "[1615] \"p107_is_Q\"            \"p107_is_R\"            \"p107_is_S\"           \n",
       "[1618] \"p107_is_T\"            \"p107_is_V\"            \"p107_is_W\"           \n",
       "[1621] \"p107_is_Y\"            \"p108_is_A\"            \"p108_is_C\"           \n",
       "[1624] \"p108_is_D\"            \"p108_is_E\"            \"p108_is_F\"           \n",
       "[1627] \"p108_is_G\"            \"p108_is_H\"            \"p108_is_I\"           \n",
       "[1630] \"p108_is_K\"            \"p108_is_L\"            \"p108_is_M\"           \n",
       "[1633] \"p108_is_N\"            \"p108_is_P\"            \"p108_is_Q\"           \n",
       "[1636] \"p108_is_R\"            \"p108_is_S\"            \"p108_is_T\"           \n",
       "[1639] \"p108_is_V\"            \"p108_is_W\"            \"p108_is_Y\"           \n",
       "[1642] \"p109_is_A\"            \"p109_is_C\"            \"p109_is_D\"           \n",
       "[1645] \"p109_is_E\"            \"p109_is_F\"            \"p109_is_G\"           \n",
       "[1648] \"p109_is_H\"            \"p109_is_I\"            \"p109_is_K\"           \n",
       "[1651] \"p109_is_L\"            \"p109_is_M\"            \"p109_is_N\"           \n",
       "[1654] \"p109_is_P\"            \"p109_is_Q\"            \"p109_is_R\"           \n",
       "[1657] \"p109_is_S\"            \"p109_is_T\"            \"p109_is_V\"           \n",
       "[1660] \"p109_is_W\"            \"p109_is_Y\"            \"p110_is_A\"           \n",
       "[1663] \"p110_is_C\"            \"p110_is_D\"            \"p110_is_E\"           \n",
       "[1666] \"p110_is_F\"            \"p110_is_G\"            \"p110_is_H\"           \n",
       "[1669] \"p110_is_I\"            \"p110_is_K\"            \"p110_is_L\"           \n",
       "[1672] \"p110_is_M\"            \"p110_is_N\"            \"p110_is_P\"           \n",
       "[1675] \"p110_is_Q\"            \"p110_is_R\"            \"p110_is_S\"           \n",
       "[1678] \"p110_is_T\"            \"p110_is_V\"            \"p110_is_W\"           \n",
       "[1681] \"p110_is_Y\"            \"p111_is_A\"            \"p111_is_C\"           \n",
       "[1684] \"p111_is_D\"            \"p111_is_E\"            \"p111_is_F\"           \n",
       "[1687] \"p111_is_G\"            \"p111_is_H\"            \"p111_is_I\"           \n",
       "[1690] \"p111_is_K\"            \"p111_is_L\"            \"p111_is_M\"           \n",
       "[1693] \"p111_is_N\"            \"p111_is_P\"            \"p111_is_Q\"           \n",
       "[1696] \"p111_is_R\"            \"p111_is_S\"            \"p111_is_T\"           \n",
       "[1699] \"p111_is_V\"            \"p111_is_W\"            \"p111_is_Y\"           \n",
       "[1702] \"p111.1_is_A\"          \"p111.1_is_C\"          \"p111.1_is_D\"         \n",
       "[1705] \"p111.1_is_E\"          \"p111.1_is_F\"          \"p111.1_is_G\"         \n",
       "[1708] \"p111.1_is_H\"          \"p111.1_is_I\"          \"p111.1_is_K\"         \n",
       "[1711] \"p111.1_is_L\"          \"p111.1_is_M\"          \"p111.1_is_N\"         \n",
       "[1714] \"p111.1_is_P\"          \"p111.1_is_Q\"          \"p111.1_is_R\"         \n",
       "[1717] \"p111.1_is_S\"          \"p111.1_is_T\"          \"p111.1_is_V\"         \n",
       "[1720] \"p111.1_is_W\"          \"p111.1_is_Y\"          \"p112.1_is_A\"         \n",
       "[1723] \"p112.1_is_C\"          \"p112.1_is_D\"          \"p112.1_is_E\"         \n",
       "[1726] \"p112.1_is_F\"          \"p112.1_is_G\"          \"p112.1_is_H\"         \n",
       "[1729] \"p112.1_is_I\"          \"p112.1_is_K\"          \"p112.1_is_L\"         \n",
       "[1732] \"p112.1_is_M\"          \"p112.1_is_N\"          \"p112.1_is_P\"         \n",
       "[1735] \"p112.1_is_Q\"          \"p112.1_is_R\"          \"p112.1_is_S\"         \n",
       "[1738] \"p112.1_is_T\"          \"p112.1_is_V\"          \"p112.1_is_W\"         \n",
       "[1741] \"p112.1_is_Y\"          \"p112_is_A\"            \"p112_is_C\"           \n",
       "[1744] \"p112_is_D\"            \"p112_is_E\"            \"p112_is_F\"           \n",
       "[1747] \"p112_is_G\"            \"p112_is_H\"            \"p112_is_I\"           \n",
       "[1750] \"p112_is_K\"            \"p112_is_L\"            \"p112_is_M\"           \n",
       "[1753] \"p112_is_N\"            \"p112_is_P\"            \"p112_is_Q\"           \n",
       "[1756] \"p112_is_R\"            \"p112_is_S\"            \"p112_is_T\"           \n",
       "[1759] \"p112_is_V\"            \"p112_is_W\"            \"p112_is_Y\"           \n",
       "[1762] \"p113_is_A\"            \"p113_is_C\"            \"p113_is_D\"           \n",
       "[1765] \"p113_is_E\"            \"p113_is_F\"            \"p113_is_G\"           \n",
       "[1768] \"p113_is_H\"            \"p113_is_I\"            \"p113_is_K\"           \n",
       "[1771] \"p113_is_L\"            \"p113_is_M\"            \"p113_is_N\"           \n",
       "[1774] \"p113_is_P\"            \"p113_is_Q\"            \"p113_is_R\"           \n",
       "[1777] \"p113_is_S\"            \"p113_is_T\"            \"p113_is_V\"           \n",
       "[1780] \"p113_is_W\"            \"p113_is_Y\"            \"p114_is_A\"           \n",
       "[1783] \"p114_is_C\"            \"p114_is_D\"            \"p114_is_E\"           \n",
       "[1786] \"p114_is_F\"            \"p114_is_G\"            \"p114_is_H\"           \n",
       "[1789] \"p114_is_I\"            \"p114_is_K\"            \"p114_is_L\"           \n",
       "[1792] \"p114_is_M\"            \"p114_is_N\"            \"p114_is_P\"           \n",
       "[1795] \"p114_is_Q\"            \"p114_is_R\"            \"p114_is_S\"           \n",
       "[1798] \"p114_is_T\"            \"p114_is_V\"            \"p114_is_W\"           \n",
       "[1801] \"p114_is_Y\"            \"HLA_A02:01:01\"        \"HLA_A01:01:01\"       \n",
       "[1804] \"HLA_A11:01:01\"        \"HLA_A26:01:01\"        \"HLA_A31:01:02\"       \n",
       "[1807] \"HLA_A03:01:01\"        \"HLA_A02:05:01\"        \"HLA_A23:01:01\"       \n",
       "[1810] \"HLA_A24:02:01\"        \"HLA_A30:01:01\"        \"HLA_A25:01:01\"       \n",
       "[1813] \"HLA_A68:01:02\"        \"HLA_A33:03:01\"        \"HLA_A68:01:01\"       \n",
       "[1816] \"HLA_A29:02:01\"        \"HLA_A30:02:01\"        \"HLA_B35:01:01\"       \n",
       "[1819] \"HLA_B07:02:01\"        \"HLA_B13:02:01\"        \"HLA_B35:03:01\"       \n",
       "[1822] \"HLA_B38:01:01\"        \"HLA_B18:01:01\"        \"HLA_B27:05:02\"       \n",
       "[1825] \"HLA_B42:01:01\"        \"HLA_B08:01:01\"        \"HLA_B15:03:01\"       \n",
       "[1828] \"HLA_B15:01:01\"        \"HLA_B45:01:01\"        \"HLA_B40:01:02\"       \n",
       "[1831] \"HLA_B51:01:01\"        \"HLA_B44:03:01\"        \"HLA_B44:02:01\"       \n",
       "[1834] \"HLA_B53:01:01\"        \"HLA_B49:01:01\"        \"HLA_B55:01:01\"       \n",
       "[1837] \"HLA_B37:01:01\"        \"HLA_B57:01:01\"        \"HLA_C04:01:01\"       \n",
       "[1840] \"HLA_C07:02:01\"        \"HLA_C07:01:01\"        \"HLA_C05:01:01\"       \n",
       "[1843] \"HLA_C07:04:01\"        \"HLA_C03:04:01\"        \"HLA_C02:02:02\"       \n",
       "[1846] \"HLA_C12:03:01\"        \"HLA_C03:03:01\"        \"HLA_C06:02:01\"       \n",
       "[1849] \"HLA_C01:02:01\"        \"HLA_C02:10:01\"        \"HLA_C16:01:01\"       \n",
       "[1852] \"HLA_C14:02:01\"        \"HLA_C17:01:01\"        \"HLA_DPA101:03:01\"    \n",
       "[1855] \"HLA_DPA102:01:01\"     \"HLA_DPA102:02:02\"     \"HLA_DPA102:07:01\"    \n",
       "[1858] \"HLA_DPB101:01:01\"     \"HLA_DPB103:01:01\"     \"HLA_DPB104:01:01\"    \n",
       "[1861] \"HLA_DPB102:01:02\"     \"HLA_DPB104:02:01\"     \"HLA_DPB101:01:02\"    \n",
       "[1864] \"HLA_DPB113:01:01\"     \"HLA_DPB119:01:01\"     \"HLA_DPB123:01:01\"    \n",
       "[1867] \"HLA_DPB1104:01:01\"    \"HLA_DPB1105:01:01\"    \"HLA_DPB110:01:01\"    \n",
       "[1870] \"HLA_DPB117:01:01\"     \"HLA_DPB105:01:01\"     \"HLA_DPB106:01:01\"    \n",
       "[1873] \"HLA_DPB120:01:01\"     \"HLA_DQA101:02:01\"     \"HLA_DQA105:01:01\"    \n",
       "[1876] \"HLA_DQA101:01:02\"     \"HLA_DQA102:01:01\"     \"HLA_DQA101:01:01\"    \n",
       "[1879] \"HLA_DQA101:03:01\"     \"HLA_DQA103:03:01\"     \"HLA_DQA103:01:01\"    \n",
       "[1882] \"HLA_DQA104:01:01\"     \"HLA_DQA105:05:01\"     \"HLA_DQA101:02:02\"    \n",
       "[1885] \"HLA_DQA101:04:01\"     \"HLA_DQA103:02:01\"     \"HLA_DQB103:19:01\"    \n",
       "[1888] \"HLA_DQB102:01:01\"     \"HLA_DQB103:02:01\"     \"HLA_DQB105:02:01\"    \n",
       "[1891] \"HLA_DQB104:02:01\"     \"HLA_DQB103:03:02\"     \"HLA_DQB102:02:01\"    \n",
       "[1894] \"HLA_DQB105:01:01\"     \"HLA_DQB103:01:01\"     \"HLA_DQB106:02:01\"    \n",
       "[1897] \"HLA_DQB105:03:01\"     \"HLA_DQB106:04:01\"     \"HLA_DQB106:03:01\"    \n",
       "[1900] \"HLA_DQB106:01:01\"     \"HLA_DQB106:09:01\"     \"HLA_DRB113:02:01\"    \n",
       "[1903] \"HLA_DRB103:01:01\"     \"HLA_DRB101:02:01\"     \"HLA_DRB115:01:01\"    \n",
       "[1906] \"HLA_DRB101:01:01\"     \"HLA_DRB104:07:01\"     \"HLA_DRB104:02:01\"    \n",
       "[1909] \"HLA_DRB108:01:01\"     \"HLA_DRB109:01:02\"     \"HLA_DRB107:01:01\"    \n",
       "[1912] \"HLA_DRB104:01:01\"     \"HLA_DRB104:04:01\"     \"HLA_DRB103:02:01\"    \n",
       "[1915] \"HLA_DRB112:01:01\"     \"HLA_DRB104:05:01\"     \"HLA_DRB111:01:01\"    \n",
       "[1918] \"HLA_DRB114:54:01\"     \"HLA_DRB113:01:01\"     \"HLA_DRB116:01:01\"    \n",
       "[1921] \"HLA_DRB115:02:01\"     \"HLA_DRB116:02:01\"     \"HLA_DRB111:01:02\"    \n",
       "[1924] \"HLA_DRB302:02:01\"     \"HLA_DRB301:01:02\"     \"HLA_DRB501:01:01\"    \n",
       "[1927] \"HLA_DRB401:03:01\"     \"HLA_DRB303:01:01\"     \"HLA_DRB401:01:01\"    \n",
       "[1930] \"HLA_DRB301:62:01\"     \"HLA_DRB401:03:02\"     \"HLA_DRB502:02:01\"    \n",
       "[1933] \"HLA_DRB501:02:01\"     \"HLA_DRB401:03:01:02N\""
      ]
     },
     "metadata": {},
     "output_type": "display_data"
    }
   ],
   "source": [
    "colnames(feat_dat)"
   ]
  },
  {
   "cell_type": "code",
   "execution_count": 121,
   "metadata": {
    "vscode": {
     "languageId": "r"
    }
   },
   "outputs": [],
   "source": [
    "meta_dat <- merge_m_dedup[,which(!colnames(merge_m_dedup) %in% colnames(feat_dat)) ]"
   ]
  },
  {
   "cell_type": "code",
   "execution_count": 122,
   "metadata": {
    "vscode": {
     "languageId": "r"
    }
   },
   "outputs": [
    {
     "data": {
      "text/html": [
       "<style>\n",
       ".list-inline {list-style: none; margin:0; padding: 0}\n",
       ".list-inline>li {display: inline-block}\n",
       ".list-inline>li:not(:last-child)::after {content: \"\\00b7\"; padding: 0 .5ex}\n",
       "</style>\n",
       "<ol class=list-inline><li>'basename'</li><li>'TE_fold'</li><li>'Relapse'</li><li>'cycle_is_X01'</li><li>'cycle_is_X02'</li><li>'cycle_is_X03'</li><li>'cycle_is_X04'</li><li>'cycle_is_X05'</li><li>'Disease_type_is_ALCL'</li><li>'Disease_type_is_ALL'</li><li>'Disease_type_is_AML'</li><li>'Disease_type_is_ARMS'</li><li>'Disease_type_is_BL'</li><li>'Disease_type_is_BLL'</li><li>'Disease_type_is_CML'</li><li>'Disease_type_is_DLBCL'</li><li>'Disease_type_is_ERMS'</li><li>'Disease_type_is_EWS'</li><li>'Disease_type_is_HB'</li><li>'Disease_type_is_HD'</li><li>'Disease_type_is_HR ALL'</li><li>'Disease_type_is_MS NB'</li><li>'Disease_type_is_NB'</li><li>'Disease_type_is_OS'</li><li>'Disease_type_is_PMBCL'</li><li>'Disease_type_is_SR ALL'</li><li>'Disease_type_is_T-ALL'</li><li>'Disease_type_is_WILMS'</li><li>'cancergroup_is_Leukemia'</li><li>'cancergroup_is_Lymphoma'</li><li>'cancergroup_is_Solid tumors'</li><li>'cancergroup_is_T-cell malignancies'</li><li>'sampletype_is_cfDNA'</li><li>'sampletype_is_PBMC'</li><li>'foldgroup_is_High'</li><li>'foldgroup_is_Indeterminate'</li><li>'foldgroup_is_Low'</li></ol>\n"
      ],
      "text/latex": [
       "\\begin{enumerate*}\n",
       "\\item 'basename'\n",
       "\\item 'TE\\_fold'\n",
       "\\item 'Relapse'\n",
       "\\item 'cycle\\_is\\_X01'\n",
       "\\item 'cycle\\_is\\_X02'\n",
       "\\item 'cycle\\_is\\_X03'\n",
       "\\item 'cycle\\_is\\_X04'\n",
       "\\item 'cycle\\_is\\_X05'\n",
       "\\item 'Disease\\_type\\_is\\_ALCL'\n",
       "\\item 'Disease\\_type\\_is\\_ALL'\n",
       "\\item 'Disease\\_type\\_is\\_AML'\n",
       "\\item 'Disease\\_type\\_is\\_ARMS'\n",
       "\\item 'Disease\\_type\\_is\\_BL'\n",
       "\\item 'Disease\\_type\\_is\\_BLL'\n",
       "\\item 'Disease\\_type\\_is\\_CML'\n",
       "\\item 'Disease\\_type\\_is\\_DLBCL'\n",
       "\\item 'Disease\\_type\\_is\\_ERMS'\n",
       "\\item 'Disease\\_type\\_is\\_EWS'\n",
       "\\item 'Disease\\_type\\_is\\_HB'\n",
       "\\item 'Disease\\_type\\_is\\_HD'\n",
       "\\item 'Disease\\_type\\_is\\_HR ALL'\n",
       "\\item 'Disease\\_type\\_is\\_MS NB'\n",
       "\\item 'Disease\\_type\\_is\\_NB'\n",
       "\\item 'Disease\\_type\\_is\\_OS'\n",
       "\\item 'Disease\\_type\\_is\\_PMBCL'\n",
       "\\item 'Disease\\_type\\_is\\_SR ALL'\n",
       "\\item 'Disease\\_type\\_is\\_T-ALL'\n",
       "\\item 'Disease\\_type\\_is\\_WILMS'\n",
       "\\item 'cancergroup\\_is\\_Leukemia'\n",
       "\\item 'cancergroup\\_is\\_Lymphoma'\n",
       "\\item 'cancergroup\\_is\\_Solid tumors'\n",
       "\\item 'cancergroup\\_is\\_T-cell malignancies'\n",
       "\\item 'sampletype\\_is\\_cfDNA'\n",
       "\\item 'sampletype\\_is\\_PBMC'\n",
       "\\item 'foldgroup\\_is\\_High'\n",
       "\\item 'foldgroup\\_is\\_Indeterminate'\n",
       "\\item 'foldgroup\\_is\\_Low'\n",
       "\\end{enumerate*}\n"
      ],
      "text/markdown": [
       "1. 'basename'\n",
       "2. 'TE_fold'\n",
       "3. 'Relapse'\n",
       "4. 'cycle_is_X01'\n",
       "5. 'cycle_is_X02'\n",
       "6. 'cycle_is_X03'\n",
       "7. 'cycle_is_X04'\n",
       "8. 'cycle_is_X05'\n",
       "9. 'Disease_type_is_ALCL'\n",
       "10. 'Disease_type_is_ALL'\n",
       "11. 'Disease_type_is_AML'\n",
       "12. 'Disease_type_is_ARMS'\n",
       "13. 'Disease_type_is_BL'\n",
       "14. 'Disease_type_is_BLL'\n",
       "15. 'Disease_type_is_CML'\n",
       "16. 'Disease_type_is_DLBCL'\n",
       "17. 'Disease_type_is_ERMS'\n",
       "18. 'Disease_type_is_EWS'\n",
       "19. 'Disease_type_is_HB'\n",
       "20. 'Disease_type_is_HD'\n",
       "21. 'Disease_type_is_HR ALL'\n",
       "22. 'Disease_type_is_MS NB'\n",
       "23. 'Disease_type_is_NB'\n",
       "24. 'Disease_type_is_OS'\n",
       "25. 'Disease_type_is_PMBCL'\n",
       "26. 'Disease_type_is_SR ALL'\n",
       "27. 'Disease_type_is_T-ALL'\n",
       "28. 'Disease_type_is_WILMS'\n",
       "29. 'cancergroup_is_Leukemia'\n",
       "30. 'cancergroup_is_Lymphoma'\n",
       "31. 'cancergroup_is_Solid tumors'\n",
       "32. 'cancergroup_is_T-cell malignancies'\n",
       "33. 'sampletype_is_cfDNA'\n",
       "34. 'sampletype_is_PBMC'\n",
       "35. 'foldgroup_is_High'\n",
       "36. 'foldgroup_is_Indeterminate'\n",
       "37. 'foldgroup_is_Low'\n",
       "\n",
       "\n"
      ],
      "text/plain": [
       " [1] \"basename\"                           \"TE_fold\"                           \n",
       " [3] \"Relapse\"                            \"cycle_is_X01\"                      \n",
       " [5] \"cycle_is_X02\"                       \"cycle_is_X03\"                      \n",
       " [7] \"cycle_is_X04\"                       \"cycle_is_X05\"                      \n",
       " [9] \"Disease_type_is_ALCL\"               \"Disease_type_is_ALL\"               \n",
       "[11] \"Disease_type_is_AML\"                \"Disease_type_is_ARMS\"              \n",
       "[13] \"Disease_type_is_BL\"                 \"Disease_type_is_BLL\"               \n",
       "[15] \"Disease_type_is_CML\"                \"Disease_type_is_DLBCL\"             \n",
       "[17] \"Disease_type_is_ERMS\"               \"Disease_type_is_EWS\"               \n",
       "[19] \"Disease_type_is_HB\"                 \"Disease_type_is_HD\"                \n",
       "[21] \"Disease_type_is_HR ALL\"             \"Disease_type_is_MS NB\"             \n",
       "[23] \"Disease_type_is_NB\"                 \"Disease_type_is_OS\"                \n",
       "[25] \"Disease_type_is_PMBCL\"              \"Disease_type_is_SR ALL\"            \n",
       "[27] \"Disease_type_is_T-ALL\"              \"Disease_type_is_WILMS\"             \n",
       "[29] \"cancergroup_is_Leukemia\"            \"cancergroup_is_Lymphoma\"           \n",
       "[31] \"cancergroup_is_Solid tumors\"        \"cancergroup_is_T-cell malignancies\"\n",
       "[33] \"sampletype_is_cfDNA\"                \"sampletype_is_PBMC\"                \n",
       "[35] \"foldgroup_is_High\"                  \"foldgroup_is_Indeterminate\"        \n",
       "[37] \"foldgroup_is_Low\"                  "
      ]
     },
     "metadata": {},
     "output_type": "display_data"
    }
   ],
   "source": [
    "colnames(meta_dat)"
   ]
  },
  {
   "cell_type": "code",
   "execution_count": 123,
   "metadata": {
    "vscode": {
     "languageId": "r"
    }
   },
   "outputs": [],
   "source": [
    "readr::write_rds( feat_dat, paste0(datapath, \"ML/\", \"int_ohe_trbseq_data.rds\") )\n",
    "readr::write_rds( meta_dat, paste0(datapath, \"ML/\", \"int_ohe_metadata.rds\") )"
   ]
  },
  {
   "cell_type": "code",
   "execution_count": 124,
   "metadata": {
    "vscode": {
     "languageId": "r"
    }
   },
   "outputs": [],
   "source": [
    "# remove non-numeric columns\n",
    "feat_dat_num <- feat_dat[, sapply(feat_dat, is.numeric)]"
   ]
  },
  {
   "cell_type": "code",
   "execution_count": 125,
   "metadata": {
    "vscode": {
     "languageId": "r"
    }
   },
   "outputs": [
    {
     "data": {
      "text/html": [
       "<style>\n",
       ".list-inline {list-style: none; margin:0; padding: 0}\n",
       ".list-inline>li {display: inline-block}\n",
       ".list-inline>li:not(:last-child)::after {content: \"\\00b7\"; padding: 0 .5ex}\n",
       "</style>\n",
       "<ol class=list-inline><li>'ATC'</li><li>'Age'</li><li>'EM'</li><li>'CM'</li><li>'Naive'</li><li>'SCM'</li><li>'TE'</li><li>'PD1'</li><li>'LAG3'</li><li>'TIM3'</li><li>'cloneCount'</li><li>'cloneFraction'</li><li>'length'</li><li>'perc_mid_A'</li><li>'perc_mid_C'</li><li>'perc_mid_D'</li><li>'perc_mid_E'</li><li>'perc_mid_F'</li><li>'perc_mid_G'</li><li>'perc_mid_H'</li><li>'perc_mid_I'</li><li>'perc_mid_K'</li><li>'perc_mid_L'</li><li>'perc_mid_M'</li><li>'perc_mid_N'</li><li>'perc_mid_P'</li><li>'perc_mid_Q'</li><li>'perc_mid_R'</li><li>'perc_mid_S'</li><li>'perc_mid_T'</li><li>'perc_mid_V'</li><li>'perc_mid_W'</li><li>'perc_mid_Y'</li><li>'frame_type_is_in'</li><li>'frame_type_is_out'</li><li>'TRBV_is_TRBV1'</li><li>'TRBV_is_TRBV10-1'</li><li>'TRBV_is_TRBV10-2'</li><li>'TRBV_is_TRBV10-3'</li><li>'TRBV_is_TRBV11-1'</li><li>'TRBV_is_TRBV11-2'</li><li>'TRBV_is_TRBV11-3'</li><li>'TRBV_is_TRBV12-1'</li><li>'TRBV_is_TRBV12-2'</li><li>'TRBV_is_TRBV12-3'</li><li>'TRBV_is_TRBV12-4'</li><li>'TRBV_is_TRBV12-5'</li><li>'TRBV_is_TRBV13'</li><li>'TRBV_is_TRBV14'</li><li>'TRBV_is_TRBV15'</li><li>'TRBV_is_TRBV16'</li><li>'TRBV_is_TRBV17'</li><li>'TRBV_is_TRBV18'</li><li>'TRBV_is_TRBV19'</li><li>'TRBV_is_TRBV2'</li><li>'TRBV_is_TRBV20-1'</li><li>'TRBV_is_TRBV21-1'</li><li>'TRBV_is_TRBV22-1'</li><li>'TRBV_is_TRBV23-1'</li><li>'TRBV_is_TRBV24-1'</li><li>'TRBV_is_TRBV25-1'</li><li>'TRBV_is_TRBV26'</li><li>'TRBV_is_TRBV27'</li><li>'TRBV_is_TRBV28'</li><li>'TRBV_is_TRBV29-1'</li><li>'TRBV_is_TRBV3-1'</li><li>'TRBV_is_TRBV3-2'</li><li>'TRBV_is_TRBV30'</li><li>'TRBV_is_TRBV4-1'</li><li>'TRBV_is_TRBV4-2'</li><li>'TRBV_is_TRBV4-3'</li><li>'TRBV_is_TRBV5-1'</li><li>'TRBV_is_TRBV5-2'</li><li>'TRBV_is_TRBV5-3'</li><li>'TRBV_is_TRBV5-4'</li><li>'TRBV_is_TRBV5-5'</li><li>'TRBV_is_TRBV5-6'</li><li>'TRBV_is_TRBV5-7'</li><li>'TRBV_is_TRBV5-8'</li><li>'TRBV_is_TRBV6-1'</li><li>'TRBV_is_TRBV6-2'</li><li>'TRBV_is_TRBV6-3'</li><li>'TRBV_is_TRBV6-4'</li><li>'TRBV_is_TRBV6-5'</li><li>'TRBV_is_TRBV6-6'</li><li>'TRBV_is_TRBV6-7'</li><li>'TRBV_is_TRBV6-8'</li><li>'TRBV_is_TRBV6-9'</li><li>'TRBV_is_TRBV7-1'</li><li>'TRBV_is_TRBV7-2'</li><li>'TRBV_is_TRBV7-3'</li><li>'TRBV_is_TRBV7-4'</li><li>'TRBV_is_TRBV7-5'</li><li>'TRBV_is_TRBV7-6'</li><li>'TRBV_is_TRBV7-7'</li><li>'TRBV_is_TRBV7-8'</li><li>'TRBV_is_TRBV7-9'</li><li>'TRBV_is_TRBV9'</li><li>'TRBJ_is_TRBJ1-1'</li><li>'TRBJ_is_TRBJ1-2'</li><li>'TRBJ_is_TRBJ1-3'</li><li>'TRBJ_is_TRBJ1-4'</li><li>'TRBJ_is_TRBJ1-5'</li><li>'TRBJ_is_TRBJ1-6'</li><li>'TRBJ_is_TRBJ2-1'</li><li>'TRBJ_is_TRBJ2-2'</li><li>'TRBJ_is_TRBJ2-3'</li><li>'TRBJ_is_TRBJ2-4'</li><li>'TRBJ_is_TRBJ2-5'</li><li>'TRBJ_is_TRBJ2-6'</li><li>'TRBJ_is_TRBJ2-7'</li><li>'Vmotif_is_CA*'</li><li>'Vmotif_is_CAA'</li><li>'Vmotif_is_CAC'</li><li>'Vmotif_is_CAD'</li><li>'Vmotif_is_CAE'</li><li>'Vmotif_is_CAF'</li><li>'Vmotif_is_CAG'</li><li>'Vmotif_is_CAH'</li><li>'Vmotif_is_CAI'</li><li>'Vmotif_is_CAK'</li><li>'Vmotif_is_CAL'</li><li>'Vmotif_is_CAM'</li><li>'Vmotif_is_CAN'</li><li>'Vmotif_is_CAP'</li><li>'Vmotif_is_CAQ'</li><li>'Vmotif_is_CAR'</li><li>'Vmotif_is_CAS'</li><li>'Vmotif_is_CAT'</li><li>'Vmotif_is_CAV'</li><li>'Vmotif_is_CAW'</li><li>'Vmotif_is_CAY'</li><li>'Vmotif_is_CCA'</li><li>'Vmotif_is_CCT'</li><li>'Vmotif_is_CDE'</li><li>'Vmotif_is_CDG'</li><li>'Vmotif_is_CDI'</li><li>'Vmotif_is_CDK'</li><li>'Vmotif_is_CDR'</li><li>'Vmotif_is_CDS'</li><li>'Vmotif_is_CDT'</li><li>'Vmotif_is_CDW'</li><li>'Vmotif_is_CEG'</li><li>'Vmotif_is_CEH'</li><li>'Vmotif_is_CEI'</li><li>'Vmotif_is_CEV'</li><li>'Vmotif_is_CGA'</li><li>'Vmotif_is_CGF'</li><li>'Vmotif_is_CGG'</li><li>'Vmotif_is_CGM'</li><li>'Vmotif_is_CGN'</li><li>'Vmotif_is_CGS'</li><li>'Vmotif_is_CGT'</li><li>'Vmotif_is_CIK'</li><li>'Vmotif_is_CIL'</li><li>'Vmotif_is_CIR'</li><li>'Vmotif_is_CIS'</li><li>'Vmotif_is_CKN'</li><li>'Vmotif_is_CNA'</li><li>'Vmotif_is_CNV'</li><li>'Vmotif_is_CPD'</li><li>'Vmotif_is_CPE'</li><li>'Vmotif_is_CPG'</li><li>'Vmotif_is_CPI'</li><li>'Vmotif_is_CPL'</li><li>'Vmotif_is_CPQ'</li><li>'Vmotif_is_CPR'</li><li>'Vmotif_is_CPS'</li><li>'Vmotif_is_CPT'</li><li>'Vmotif_is_CPW'</li><li>'Vmotif_is_CQS'</li><li>'Vmotif_is_CQV'</li><li>'Vmotif_is_CRA'</li><li>'Vmotif_is_CRD'</li><li>'Vmotif_is_CRE'</li><li>'Vmotif_is_CRG'</li><li>'Vmotif_is_CRI'</li><li>'Vmotif_is_CRL'</li><li>'Vmotif_is_CRM'</li><li>'Vmotif_is_CRN'</li><li>'Vmotif_is_CRP'</li><li>'Vmotif_is_CRR'</li><li>'Vmotif_is_CRS'</li><li>'Vmotif_is_CRT'</li><li>'Vmotif_is_CRV'</li><li>'Vmotif_is_CRW'</li><li>'Vmotif_is_CS*'</li><li>'Vmotif_is_CSA'</li><li>'Vmotif_is_CSC'</li><li>'Vmotif_is_CSD'</li><li>'Vmotif_is_CSE'</li><li>'Vmotif_is_CSF'</li><li>'Vmotif_is_CSG'</li><li>'Vmotif_is_CSH'</li><li>'Vmotif_is_CSI'</li><li>'Vmotif_is_CSK'</li><li>'Vmotif_is_CSL'</li><li>'Vmotif_is_CSM'</li><li>'Vmotif_is_CSP'</li><li>'Vmotif_is_CSQ'</li><li>...</li><li>'p112.1_is_Q'</li><li>'p112.1_is_R'</li><li>'p112.1_is_S'</li><li>'p112.1_is_T'</li><li>'p112.1_is_V'</li><li>'p112.1_is_W'</li><li>'p112.1_is_Y'</li><li>'p112_is_A'</li><li>'p112_is_C'</li><li>'p112_is_D'</li><li>'p112_is_E'</li><li>'p112_is_F'</li><li>'p112_is_G'</li><li>'p112_is_H'</li><li>'p112_is_I'</li><li>'p112_is_K'</li><li>'p112_is_L'</li><li>'p112_is_M'</li><li>'p112_is_N'</li><li>'p112_is_P'</li><li>'p112_is_Q'</li><li>'p112_is_R'</li><li>'p112_is_S'</li><li>'p112_is_T'</li><li>'p112_is_V'</li><li>'p112_is_W'</li><li>'p112_is_Y'</li><li>'p113_is_A'</li><li>'p113_is_C'</li><li>'p113_is_D'</li><li>'p113_is_E'</li><li>'p113_is_F'</li><li>'p113_is_G'</li><li>'p113_is_H'</li><li>'p113_is_I'</li><li>'p113_is_K'</li><li>'p113_is_L'</li><li>'p113_is_M'</li><li>'p113_is_N'</li><li>'p113_is_P'</li><li>'p113_is_Q'</li><li>'p113_is_R'</li><li>'p113_is_S'</li><li>'p113_is_T'</li><li>'p113_is_V'</li><li>'p113_is_W'</li><li>'p113_is_Y'</li><li>'p114_is_A'</li><li>'p114_is_C'</li><li>'p114_is_D'</li><li>'p114_is_E'</li><li>'p114_is_F'</li><li>'p114_is_G'</li><li>'p114_is_H'</li><li>'p114_is_I'</li><li>'p114_is_K'</li><li>'p114_is_L'</li><li>'p114_is_M'</li><li>'p114_is_N'</li><li>'p114_is_P'</li><li>'p114_is_Q'</li><li>'p114_is_R'</li><li>'p114_is_S'</li><li>'p114_is_T'</li><li>'p114_is_V'</li><li>'p114_is_W'</li><li>'p114_is_Y'</li><li>'HLA_A02:01:01'</li><li>'HLA_A01:01:01'</li><li>'HLA_A11:01:01'</li><li>'HLA_A26:01:01'</li><li>'HLA_A31:01:02'</li><li>'HLA_A03:01:01'</li><li>'HLA_A02:05:01'</li><li>'HLA_A23:01:01'</li><li>'HLA_A24:02:01'</li><li>'HLA_A30:01:01'</li><li>'HLA_A25:01:01'</li><li>'HLA_A68:01:02'</li><li>'HLA_A33:03:01'</li><li>'HLA_A68:01:01'</li><li>'HLA_A29:02:01'</li><li>'HLA_A30:02:01'</li><li>'HLA_B35:01:01'</li><li>'HLA_B07:02:01'</li><li>'HLA_B13:02:01'</li><li>'HLA_B35:03:01'</li><li>'HLA_B38:01:01'</li><li>'HLA_B18:01:01'</li><li>'HLA_B27:05:02'</li><li>'HLA_B42:01:01'</li><li>'HLA_B08:01:01'</li><li>'HLA_B15:03:01'</li><li>'HLA_B15:01:01'</li><li>'HLA_B45:01:01'</li><li>'HLA_B40:01:02'</li><li>'HLA_B51:01:01'</li><li>'HLA_B44:03:01'</li><li>'HLA_B44:02:01'</li><li>'HLA_B53:01:01'</li><li>'HLA_B49:01:01'</li><li>'HLA_B55:01:01'</li><li>'HLA_B37:01:01'</li><li>'HLA_B57:01:01'</li><li>'HLA_C04:01:01'</li><li>'HLA_C07:02:01'</li><li>'HLA_C07:01:01'</li><li>'HLA_C05:01:01'</li><li>'HLA_C07:04:01'</li><li>'HLA_C03:04:01'</li><li>'HLA_C02:02:02'</li><li>'HLA_C12:03:01'</li><li>'HLA_C03:03:01'</li><li>'HLA_C06:02:01'</li><li>'HLA_C01:02:01'</li><li>'HLA_C02:10:01'</li><li>'HLA_C16:01:01'</li><li>'HLA_C14:02:01'</li><li>'HLA_C17:01:01'</li><li>'HLA_DPA101:03:01'</li><li>'HLA_DPA102:01:01'</li><li>'HLA_DPA102:02:02'</li><li>'HLA_DPA102:07:01'</li><li>'HLA_DPB101:01:01'</li><li>'HLA_DPB103:01:01'</li><li>'HLA_DPB104:01:01'</li><li>'HLA_DPB102:01:02'</li><li>'HLA_DPB104:02:01'</li><li>'HLA_DPB101:01:02'</li><li>'HLA_DPB113:01:01'</li><li>'HLA_DPB119:01:01'</li><li>'HLA_DPB123:01:01'</li><li>'HLA_DPB1104:01:01'</li><li>'HLA_DPB1105:01:01'</li><li>'HLA_DPB110:01:01'</li><li>'HLA_DPB117:01:01'</li><li>'HLA_DPB105:01:01'</li><li>'HLA_DPB106:01:01'</li><li>'HLA_DPB120:01:01'</li><li>'HLA_DQA101:02:01'</li><li>'HLA_DQA105:01:01'</li><li>'HLA_DQA101:01:02'</li><li>'HLA_DQA102:01:01'</li><li>'HLA_DQA101:01:01'</li><li>'HLA_DQA101:03:01'</li><li>'HLA_DQA103:03:01'</li><li>'HLA_DQA103:01:01'</li><li>'HLA_DQA104:01:01'</li><li>'HLA_DQA105:05:01'</li><li>'HLA_DQA101:02:02'</li><li>'HLA_DQA101:04:01'</li><li>'HLA_DQA103:02:01'</li><li>'HLA_DQB103:19:01'</li><li>'HLA_DQB102:01:01'</li><li>'HLA_DQB103:02:01'</li><li>'HLA_DQB105:02:01'</li><li>'HLA_DQB104:02:01'</li><li>'HLA_DQB103:03:02'</li><li>'HLA_DQB102:02:01'</li><li>'HLA_DQB105:01:01'</li><li>'HLA_DQB103:01:01'</li><li>'HLA_DQB106:02:01'</li><li>'HLA_DQB105:03:01'</li><li>'HLA_DQB106:04:01'</li><li>'HLA_DQB106:03:01'</li><li>'HLA_DQB106:01:01'</li><li>'HLA_DQB106:09:01'</li><li>'HLA_DRB113:02:01'</li><li>'HLA_DRB103:01:01'</li><li>'HLA_DRB101:02:01'</li><li>'HLA_DRB115:01:01'</li><li>'HLA_DRB101:01:01'</li><li>'HLA_DRB104:07:01'</li><li>'HLA_DRB104:02:01'</li><li>'HLA_DRB108:01:01'</li><li>'HLA_DRB109:01:02'</li><li>'HLA_DRB107:01:01'</li><li>'HLA_DRB104:01:01'</li><li>'HLA_DRB104:04:01'</li><li>'HLA_DRB103:02:01'</li><li>'HLA_DRB112:01:01'</li><li>'HLA_DRB104:05:01'</li><li>'HLA_DRB111:01:01'</li><li>'HLA_DRB114:54:01'</li><li>'HLA_DRB113:01:01'</li><li>'HLA_DRB116:01:01'</li><li>'HLA_DRB115:02:01'</li><li>'HLA_DRB116:02:01'</li><li>'HLA_DRB111:01:02'</li><li>'HLA_DRB302:02:01'</li><li>'HLA_DRB301:01:02'</li><li>'HLA_DRB501:01:01'</li><li>'HLA_DRB401:03:01'</li><li>'HLA_DRB303:01:01'</li><li>'HLA_DRB401:01:01'</li><li>'HLA_DRB301:62:01'</li><li>'HLA_DRB401:03:02'</li><li>'HLA_DRB502:02:01'</li><li>'HLA_DRB501:02:01'</li><li>'HLA_DRB401:03:01:02N'</li></ol>\n"
      ],
      "text/latex": [
       "\\begin{enumerate*}\n",
       "\\item 'ATC'\n",
       "\\item 'Age'\n",
       "\\item 'EM'\n",
       "\\item 'CM'\n",
       "\\item 'Naive'\n",
       "\\item 'SCM'\n",
       "\\item 'TE'\n",
       "\\item 'PD1'\n",
       "\\item 'LAG3'\n",
       "\\item 'TIM3'\n",
       "\\item 'cloneCount'\n",
       "\\item 'cloneFraction'\n",
       "\\item 'length'\n",
       "\\item 'perc\\_mid\\_A'\n",
       "\\item 'perc\\_mid\\_C'\n",
       "\\item 'perc\\_mid\\_D'\n",
       "\\item 'perc\\_mid\\_E'\n",
       "\\item 'perc\\_mid\\_F'\n",
       "\\item 'perc\\_mid\\_G'\n",
       "\\item 'perc\\_mid\\_H'\n",
       "\\item 'perc\\_mid\\_I'\n",
       "\\item 'perc\\_mid\\_K'\n",
       "\\item 'perc\\_mid\\_L'\n",
       "\\item 'perc\\_mid\\_M'\n",
       "\\item 'perc\\_mid\\_N'\n",
       "\\item 'perc\\_mid\\_P'\n",
       "\\item 'perc\\_mid\\_Q'\n",
       "\\item 'perc\\_mid\\_R'\n",
       "\\item 'perc\\_mid\\_S'\n",
       "\\item 'perc\\_mid\\_T'\n",
       "\\item 'perc\\_mid\\_V'\n",
       "\\item 'perc\\_mid\\_W'\n",
       "\\item 'perc\\_mid\\_Y'\n",
       "\\item 'frame\\_type\\_is\\_in'\n",
       "\\item 'frame\\_type\\_is\\_out'\n",
       "\\item 'TRBV\\_is\\_TRBV1'\n",
       "\\item 'TRBV\\_is\\_TRBV10-1'\n",
       "\\item 'TRBV\\_is\\_TRBV10-2'\n",
       "\\item 'TRBV\\_is\\_TRBV10-3'\n",
       "\\item 'TRBV\\_is\\_TRBV11-1'\n",
       "\\item 'TRBV\\_is\\_TRBV11-2'\n",
       "\\item 'TRBV\\_is\\_TRBV11-3'\n",
       "\\item 'TRBV\\_is\\_TRBV12-1'\n",
       "\\item 'TRBV\\_is\\_TRBV12-2'\n",
       "\\item 'TRBV\\_is\\_TRBV12-3'\n",
       "\\item 'TRBV\\_is\\_TRBV12-4'\n",
       "\\item 'TRBV\\_is\\_TRBV12-5'\n",
       "\\item 'TRBV\\_is\\_TRBV13'\n",
       "\\item 'TRBV\\_is\\_TRBV14'\n",
       "\\item 'TRBV\\_is\\_TRBV15'\n",
       "\\item 'TRBV\\_is\\_TRBV16'\n",
       "\\item 'TRBV\\_is\\_TRBV17'\n",
       "\\item 'TRBV\\_is\\_TRBV18'\n",
       "\\item 'TRBV\\_is\\_TRBV19'\n",
       "\\item 'TRBV\\_is\\_TRBV2'\n",
       "\\item 'TRBV\\_is\\_TRBV20-1'\n",
       "\\item 'TRBV\\_is\\_TRBV21-1'\n",
       "\\item 'TRBV\\_is\\_TRBV22-1'\n",
       "\\item 'TRBV\\_is\\_TRBV23-1'\n",
       "\\item 'TRBV\\_is\\_TRBV24-1'\n",
       "\\item 'TRBV\\_is\\_TRBV25-1'\n",
       "\\item 'TRBV\\_is\\_TRBV26'\n",
       "\\item 'TRBV\\_is\\_TRBV27'\n",
       "\\item 'TRBV\\_is\\_TRBV28'\n",
       "\\item 'TRBV\\_is\\_TRBV29-1'\n",
       "\\item 'TRBV\\_is\\_TRBV3-1'\n",
       "\\item 'TRBV\\_is\\_TRBV3-2'\n",
       "\\item 'TRBV\\_is\\_TRBV30'\n",
       "\\item 'TRBV\\_is\\_TRBV4-1'\n",
       "\\item 'TRBV\\_is\\_TRBV4-2'\n",
       "\\item 'TRBV\\_is\\_TRBV4-3'\n",
       "\\item 'TRBV\\_is\\_TRBV5-1'\n",
       "\\item 'TRBV\\_is\\_TRBV5-2'\n",
       "\\item 'TRBV\\_is\\_TRBV5-3'\n",
       "\\item 'TRBV\\_is\\_TRBV5-4'\n",
       "\\item 'TRBV\\_is\\_TRBV5-5'\n",
       "\\item 'TRBV\\_is\\_TRBV5-6'\n",
       "\\item 'TRBV\\_is\\_TRBV5-7'\n",
       "\\item 'TRBV\\_is\\_TRBV5-8'\n",
       "\\item 'TRBV\\_is\\_TRBV6-1'\n",
       "\\item 'TRBV\\_is\\_TRBV6-2'\n",
       "\\item 'TRBV\\_is\\_TRBV6-3'\n",
       "\\item 'TRBV\\_is\\_TRBV6-4'\n",
       "\\item 'TRBV\\_is\\_TRBV6-5'\n",
       "\\item 'TRBV\\_is\\_TRBV6-6'\n",
       "\\item 'TRBV\\_is\\_TRBV6-7'\n",
       "\\item 'TRBV\\_is\\_TRBV6-8'\n",
       "\\item 'TRBV\\_is\\_TRBV6-9'\n",
       "\\item 'TRBV\\_is\\_TRBV7-1'\n",
       "\\item 'TRBV\\_is\\_TRBV7-2'\n",
       "\\item 'TRBV\\_is\\_TRBV7-3'\n",
       "\\item 'TRBV\\_is\\_TRBV7-4'\n",
       "\\item 'TRBV\\_is\\_TRBV7-5'\n",
       "\\item 'TRBV\\_is\\_TRBV7-6'\n",
       "\\item 'TRBV\\_is\\_TRBV7-7'\n",
       "\\item 'TRBV\\_is\\_TRBV7-8'\n",
       "\\item 'TRBV\\_is\\_TRBV7-9'\n",
       "\\item 'TRBV\\_is\\_TRBV9'\n",
       "\\item 'TRBJ\\_is\\_TRBJ1-1'\n",
       "\\item 'TRBJ\\_is\\_TRBJ1-2'\n",
       "\\item 'TRBJ\\_is\\_TRBJ1-3'\n",
       "\\item 'TRBJ\\_is\\_TRBJ1-4'\n",
       "\\item 'TRBJ\\_is\\_TRBJ1-5'\n",
       "\\item 'TRBJ\\_is\\_TRBJ1-6'\n",
       "\\item 'TRBJ\\_is\\_TRBJ2-1'\n",
       "\\item 'TRBJ\\_is\\_TRBJ2-2'\n",
       "\\item 'TRBJ\\_is\\_TRBJ2-3'\n",
       "\\item 'TRBJ\\_is\\_TRBJ2-4'\n",
       "\\item 'TRBJ\\_is\\_TRBJ2-5'\n",
       "\\item 'TRBJ\\_is\\_TRBJ2-6'\n",
       "\\item 'TRBJ\\_is\\_TRBJ2-7'\n",
       "\\item 'Vmotif\\_is\\_CA*'\n",
       "\\item 'Vmotif\\_is\\_CAA'\n",
       "\\item 'Vmotif\\_is\\_CAC'\n",
       "\\item 'Vmotif\\_is\\_CAD'\n",
       "\\item 'Vmotif\\_is\\_CAE'\n",
       "\\item 'Vmotif\\_is\\_CAF'\n",
       "\\item 'Vmotif\\_is\\_CAG'\n",
       "\\item 'Vmotif\\_is\\_CAH'\n",
       "\\item 'Vmotif\\_is\\_CAI'\n",
       "\\item 'Vmotif\\_is\\_CAK'\n",
       "\\item 'Vmotif\\_is\\_CAL'\n",
       "\\item 'Vmotif\\_is\\_CAM'\n",
       "\\item 'Vmotif\\_is\\_CAN'\n",
       "\\item 'Vmotif\\_is\\_CAP'\n",
       "\\item 'Vmotif\\_is\\_CAQ'\n",
       "\\item 'Vmotif\\_is\\_CAR'\n",
       "\\item 'Vmotif\\_is\\_CAS'\n",
       "\\item 'Vmotif\\_is\\_CAT'\n",
       "\\item 'Vmotif\\_is\\_CAV'\n",
       "\\item 'Vmotif\\_is\\_CAW'\n",
       "\\item 'Vmotif\\_is\\_CAY'\n",
       "\\item 'Vmotif\\_is\\_CCA'\n",
       "\\item 'Vmotif\\_is\\_CCT'\n",
       "\\item 'Vmotif\\_is\\_CDE'\n",
       "\\item 'Vmotif\\_is\\_CDG'\n",
       "\\item 'Vmotif\\_is\\_CDI'\n",
       "\\item 'Vmotif\\_is\\_CDK'\n",
       "\\item 'Vmotif\\_is\\_CDR'\n",
       "\\item 'Vmotif\\_is\\_CDS'\n",
       "\\item 'Vmotif\\_is\\_CDT'\n",
       "\\item 'Vmotif\\_is\\_CDW'\n",
       "\\item 'Vmotif\\_is\\_CEG'\n",
       "\\item 'Vmotif\\_is\\_CEH'\n",
       "\\item 'Vmotif\\_is\\_CEI'\n",
       "\\item 'Vmotif\\_is\\_CEV'\n",
       "\\item 'Vmotif\\_is\\_CGA'\n",
       "\\item 'Vmotif\\_is\\_CGF'\n",
       "\\item 'Vmotif\\_is\\_CGG'\n",
       "\\item 'Vmotif\\_is\\_CGM'\n",
       "\\item 'Vmotif\\_is\\_CGN'\n",
       "\\item 'Vmotif\\_is\\_CGS'\n",
       "\\item 'Vmotif\\_is\\_CGT'\n",
       "\\item 'Vmotif\\_is\\_CIK'\n",
       "\\item 'Vmotif\\_is\\_CIL'\n",
       "\\item 'Vmotif\\_is\\_CIR'\n",
       "\\item 'Vmotif\\_is\\_CIS'\n",
       "\\item 'Vmotif\\_is\\_CKN'\n",
       "\\item 'Vmotif\\_is\\_CNA'\n",
       "\\item 'Vmotif\\_is\\_CNV'\n",
       "\\item 'Vmotif\\_is\\_CPD'\n",
       "\\item 'Vmotif\\_is\\_CPE'\n",
       "\\item 'Vmotif\\_is\\_CPG'\n",
       "\\item 'Vmotif\\_is\\_CPI'\n",
       "\\item 'Vmotif\\_is\\_CPL'\n",
       "\\item 'Vmotif\\_is\\_CPQ'\n",
       "\\item 'Vmotif\\_is\\_CPR'\n",
       "\\item 'Vmotif\\_is\\_CPS'\n",
       "\\item 'Vmotif\\_is\\_CPT'\n",
       "\\item 'Vmotif\\_is\\_CPW'\n",
       "\\item 'Vmotif\\_is\\_CQS'\n",
       "\\item 'Vmotif\\_is\\_CQV'\n",
       "\\item 'Vmotif\\_is\\_CRA'\n",
       "\\item 'Vmotif\\_is\\_CRD'\n",
       "\\item 'Vmotif\\_is\\_CRE'\n",
       "\\item 'Vmotif\\_is\\_CRG'\n",
       "\\item 'Vmotif\\_is\\_CRI'\n",
       "\\item 'Vmotif\\_is\\_CRL'\n",
       "\\item 'Vmotif\\_is\\_CRM'\n",
       "\\item 'Vmotif\\_is\\_CRN'\n",
       "\\item 'Vmotif\\_is\\_CRP'\n",
       "\\item 'Vmotif\\_is\\_CRR'\n",
       "\\item 'Vmotif\\_is\\_CRS'\n",
       "\\item 'Vmotif\\_is\\_CRT'\n",
       "\\item 'Vmotif\\_is\\_CRV'\n",
       "\\item 'Vmotif\\_is\\_CRW'\n",
       "\\item 'Vmotif\\_is\\_CS*'\n",
       "\\item 'Vmotif\\_is\\_CSA'\n",
       "\\item 'Vmotif\\_is\\_CSC'\n",
       "\\item 'Vmotif\\_is\\_CSD'\n",
       "\\item 'Vmotif\\_is\\_CSE'\n",
       "\\item 'Vmotif\\_is\\_CSF'\n",
       "\\item 'Vmotif\\_is\\_CSG'\n",
       "\\item 'Vmotif\\_is\\_CSH'\n",
       "\\item 'Vmotif\\_is\\_CSI'\n",
       "\\item 'Vmotif\\_is\\_CSK'\n",
       "\\item 'Vmotif\\_is\\_CSL'\n",
       "\\item 'Vmotif\\_is\\_CSM'\n",
       "\\item 'Vmotif\\_is\\_CSP'\n",
       "\\item 'Vmotif\\_is\\_CSQ'\n",
       "\\item ...\n",
       "\\item 'p112.1\\_is\\_Q'\n",
       "\\item 'p112.1\\_is\\_R'\n",
       "\\item 'p112.1\\_is\\_S'\n",
       "\\item 'p112.1\\_is\\_T'\n",
       "\\item 'p112.1\\_is\\_V'\n",
       "\\item 'p112.1\\_is\\_W'\n",
       "\\item 'p112.1\\_is\\_Y'\n",
       "\\item 'p112\\_is\\_A'\n",
       "\\item 'p112\\_is\\_C'\n",
       "\\item 'p112\\_is\\_D'\n",
       "\\item 'p112\\_is\\_E'\n",
       "\\item 'p112\\_is\\_F'\n",
       "\\item 'p112\\_is\\_G'\n",
       "\\item 'p112\\_is\\_H'\n",
       "\\item 'p112\\_is\\_I'\n",
       "\\item 'p112\\_is\\_K'\n",
       "\\item 'p112\\_is\\_L'\n",
       "\\item 'p112\\_is\\_M'\n",
       "\\item 'p112\\_is\\_N'\n",
       "\\item 'p112\\_is\\_P'\n",
       "\\item 'p112\\_is\\_Q'\n",
       "\\item 'p112\\_is\\_R'\n",
       "\\item 'p112\\_is\\_S'\n",
       "\\item 'p112\\_is\\_T'\n",
       "\\item 'p112\\_is\\_V'\n",
       "\\item 'p112\\_is\\_W'\n",
       "\\item 'p112\\_is\\_Y'\n",
       "\\item 'p113\\_is\\_A'\n",
       "\\item 'p113\\_is\\_C'\n",
       "\\item 'p113\\_is\\_D'\n",
       "\\item 'p113\\_is\\_E'\n",
       "\\item 'p113\\_is\\_F'\n",
       "\\item 'p113\\_is\\_G'\n",
       "\\item 'p113\\_is\\_H'\n",
       "\\item 'p113\\_is\\_I'\n",
       "\\item 'p113\\_is\\_K'\n",
       "\\item 'p113\\_is\\_L'\n",
       "\\item 'p113\\_is\\_M'\n",
       "\\item 'p113\\_is\\_N'\n",
       "\\item 'p113\\_is\\_P'\n",
       "\\item 'p113\\_is\\_Q'\n",
       "\\item 'p113\\_is\\_R'\n",
       "\\item 'p113\\_is\\_S'\n",
       "\\item 'p113\\_is\\_T'\n",
       "\\item 'p113\\_is\\_V'\n",
       "\\item 'p113\\_is\\_W'\n",
       "\\item 'p113\\_is\\_Y'\n",
       "\\item 'p114\\_is\\_A'\n",
       "\\item 'p114\\_is\\_C'\n",
       "\\item 'p114\\_is\\_D'\n",
       "\\item 'p114\\_is\\_E'\n",
       "\\item 'p114\\_is\\_F'\n",
       "\\item 'p114\\_is\\_G'\n",
       "\\item 'p114\\_is\\_H'\n",
       "\\item 'p114\\_is\\_I'\n",
       "\\item 'p114\\_is\\_K'\n",
       "\\item 'p114\\_is\\_L'\n",
       "\\item 'p114\\_is\\_M'\n",
       "\\item 'p114\\_is\\_N'\n",
       "\\item 'p114\\_is\\_P'\n",
       "\\item 'p114\\_is\\_Q'\n",
       "\\item 'p114\\_is\\_R'\n",
       "\\item 'p114\\_is\\_S'\n",
       "\\item 'p114\\_is\\_T'\n",
       "\\item 'p114\\_is\\_V'\n",
       "\\item 'p114\\_is\\_W'\n",
       "\\item 'p114\\_is\\_Y'\n",
       "\\item 'HLA\\_A02:01:01'\n",
       "\\item 'HLA\\_A01:01:01'\n",
       "\\item 'HLA\\_A11:01:01'\n",
       "\\item 'HLA\\_A26:01:01'\n",
       "\\item 'HLA\\_A31:01:02'\n",
       "\\item 'HLA\\_A03:01:01'\n",
       "\\item 'HLA\\_A02:05:01'\n",
       "\\item 'HLA\\_A23:01:01'\n",
       "\\item 'HLA\\_A24:02:01'\n",
       "\\item 'HLA\\_A30:01:01'\n",
       "\\item 'HLA\\_A25:01:01'\n",
       "\\item 'HLA\\_A68:01:02'\n",
       "\\item 'HLA\\_A33:03:01'\n",
       "\\item 'HLA\\_A68:01:01'\n",
       "\\item 'HLA\\_A29:02:01'\n",
       "\\item 'HLA\\_A30:02:01'\n",
       "\\item 'HLA\\_B35:01:01'\n",
       "\\item 'HLA\\_B07:02:01'\n",
       "\\item 'HLA\\_B13:02:01'\n",
       "\\item 'HLA\\_B35:03:01'\n",
       "\\item 'HLA\\_B38:01:01'\n",
       "\\item 'HLA\\_B18:01:01'\n",
       "\\item 'HLA\\_B27:05:02'\n",
       "\\item 'HLA\\_B42:01:01'\n",
       "\\item 'HLA\\_B08:01:01'\n",
       "\\item 'HLA\\_B15:03:01'\n",
       "\\item 'HLA\\_B15:01:01'\n",
       "\\item 'HLA\\_B45:01:01'\n",
       "\\item 'HLA\\_B40:01:02'\n",
       "\\item 'HLA\\_B51:01:01'\n",
       "\\item 'HLA\\_B44:03:01'\n",
       "\\item 'HLA\\_B44:02:01'\n",
       "\\item 'HLA\\_B53:01:01'\n",
       "\\item 'HLA\\_B49:01:01'\n",
       "\\item 'HLA\\_B55:01:01'\n",
       "\\item 'HLA\\_B37:01:01'\n",
       "\\item 'HLA\\_B57:01:01'\n",
       "\\item 'HLA\\_C04:01:01'\n",
       "\\item 'HLA\\_C07:02:01'\n",
       "\\item 'HLA\\_C07:01:01'\n",
       "\\item 'HLA\\_C05:01:01'\n",
       "\\item 'HLA\\_C07:04:01'\n",
       "\\item 'HLA\\_C03:04:01'\n",
       "\\item 'HLA\\_C02:02:02'\n",
       "\\item 'HLA\\_C12:03:01'\n",
       "\\item 'HLA\\_C03:03:01'\n",
       "\\item 'HLA\\_C06:02:01'\n",
       "\\item 'HLA\\_C01:02:01'\n",
       "\\item 'HLA\\_C02:10:01'\n",
       "\\item 'HLA\\_C16:01:01'\n",
       "\\item 'HLA\\_C14:02:01'\n",
       "\\item 'HLA\\_C17:01:01'\n",
       "\\item 'HLA\\_DPA101:03:01'\n",
       "\\item 'HLA\\_DPA102:01:01'\n",
       "\\item 'HLA\\_DPA102:02:02'\n",
       "\\item 'HLA\\_DPA102:07:01'\n",
       "\\item 'HLA\\_DPB101:01:01'\n",
       "\\item 'HLA\\_DPB103:01:01'\n",
       "\\item 'HLA\\_DPB104:01:01'\n",
       "\\item 'HLA\\_DPB102:01:02'\n",
       "\\item 'HLA\\_DPB104:02:01'\n",
       "\\item 'HLA\\_DPB101:01:02'\n",
       "\\item 'HLA\\_DPB113:01:01'\n",
       "\\item 'HLA\\_DPB119:01:01'\n",
       "\\item 'HLA\\_DPB123:01:01'\n",
       "\\item 'HLA\\_DPB1104:01:01'\n",
       "\\item 'HLA\\_DPB1105:01:01'\n",
       "\\item 'HLA\\_DPB110:01:01'\n",
       "\\item 'HLA\\_DPB117:01:01'\n",
       "\\item 'HLA\\_DPB105:01:01'\n",
       "\\item 'HLA\\_DPB106:01:01'\n",
       "\\item 'HLA\\_DPB120:01:01'\n",
       "\\item 'HLA\\_DQA101:02:01'\n",
       "\\item 'HLA\\_DQA105:01:01'\n",
       "\\item 'HLA\\_DQA101:01:02'\n",
       "\\item 'HLA\\_DQA102:01:01'\n",
       "\\item 'HLA\\_DQA101:01:01'\n",
       "\\item 'HLA\\_DQA101:03:01'\n",
       "\\item 'HLA\\_DQA103:03:01'\n",
       "\\item 'HLA\\_DQA103:01:01'\n",
       "\\item 'HLA\\_DQA104:01:01'\n",
       "\\item 'HLA\\_DQA105:05:01'\n",
       "\\item 'HLA\\_DQA101:02:02'\n",
       "\\item 'HLA\\_DQA101:04:01'\n",
       "\\item 'HLA\\_DQA103:02:01'\n",
       "\\item 'HLA\\_DQB103:19:01'\n",
       "\\item 'HLA\\_DQB102:01:01'\n",
       "\\item 'HLA\\_DQB103:02:01'\n",
       "\\item 'HLA\\_DQB105:02:01'\n",
       "\\item 'HLA\\_DQB104:02:01'\n",
       "\\item 'HLA\\_DQB103:03:02'\n",
       "\\item 'HLA\\_DQB102:02:01'\n",
       "\\item 'HLA\\_DQB105:01:01'\n",
       "\\item 'HLA\\_DQB103:01:01'\n",
       "\\item 'HLA\\_DQB106:02:01'\n",
       "\\item 'HLA\\_DQB105:03:01'\n",
       "\\item 'HLA\\_DQB106:04:01'\n",
       "\\item 'HLA\\_DQB106:03:01'\n",
       "\\item 'HLA\\_DQB106:01:01'\n",
       "\\item 'HLA\\_DQB106:09:01'\n",
       "\\item 'HLA\\_DRB113:02:01'\n",
       "\\item 'HLA\\_DRB103:01:01'\n",
       "\\item 'HLA\\_DRB101:02:01'\n",
       "\\item 'HLA\\_DRB115:01:01'\n",
       "\\item 'HLA\\_DRB101:01:01'\n",
       "\\item 'HLA\\_DRB104:07:01'\n",
       "\\item 'HLA\\_DRB104:02:01'\n",
       "\\item 'HLA\\_DRB108:01:01'\n",
       "\\item 'HLA\\_DRB109:01:02'\n",
       "\\item 'HLA\\_DRB107:01:01'\n",
       "\\item 'HLA\\_DRB104:01:01'\n",
       "\\item 'HLA\\_DRB104:04:01'\n",
       "\\item 'HLA\\_DRB103:02:01'\n",
       "\\item 'HLA\\_DRB112:01:01'\n",
       "\\item 'HLA\\_DRB104:05:01'\n",
       "\\item 'HLA\\_DRB111:01:01'\n",
       "\\item 'HLA\\_DRB114:54:01'\n",
       "\\item 'HLA\\_DRB113:01:01'\n",
       "\\item 'HLA\\_DRB116:01:01'\n",
       "\\item 'HLA\\_DRB115:02:01'\n",
       "\\item 'HLA\\_DRB116:02:01'\n",
       "\\item 'HLA\\_DRB111:01:02'\n",
       "\\item 'HLA\\_DRB302:02:01'\n",
       "\\item 'HLA\\_DRB301:01:02'\n",
       "\\item 'HLA\\_DRB501:01:01'\n",
       "\\item 'HLA\\_DRB401:03:01'\n",
       "\\item 'HLA\\_DRB303:01:01'\n",
       "\\item 'HLA\\_DRB401:01:01'\n",
       "\\item 'HLA\\_DRB301:62:01'\n",
       "\\item 'HLA\\_DRB401:03:02'\n",
       "\\item 'HLA\\_DRB502:02:01'\n",
       "\\item 'HLA\\_DRB501:02:01'\n",
       "\\item 'HLA\\_DRB401:03:01:02N'\n",
       "\\end{enumerate*}\n"
      ],
      "text/markdown": [
       "1. 'ATC'\n",
       "2. 'Age'\n",
       "3. 'EM'\n",
       "4. 'CM'\n",
       "5. 'Naive'\n",
       "6. 'SCM'\n",
       "7. 'TE'\n",
       "8. 'PD1'\n",
       "9. 'LAG3'\n",
       "10. 'TIM3'\n",
       "11. 'cloneCount'\n",
       "12. 'cloneFraction'\n",
       "13. 'length'\n",
       "14. 'perc_mid_A'\n",
       "15. 'perc_mid_C'\n",
       "16. 'perc_mid_D'\n",
       "17. 'perc_mid_E'\n",
       "18. 'perc_mid_F'\n",
       "19. 'perc_mid_G'\n",
       "20. 'perc_mid_H'\n",
       "21. 'perc_mid_I'\n",
       "22. 'perc_mid_K'\n",
       "23. 'perc_mid_L'\n",
       "24. 'perc_mid_M'\n",
       "25. 'perc_mid_N'\n",
       "26. 'perc_mid_P'\n",
       "27. 'perc_mid_Q'\n",
       "28. 'perc_mid_R'\n",
       "29. 'perc_mid_S'\n",
       "30. 'perc_mid_T'\n",
       "31. 'perc_mid_V'\n",
       "32. 'perc_mid_W'\n",
       "33. 'perc_mid_Y'\n",
       "34. 'frame_type_is_in'\n",
       "35. 'frame_type_is_out'\n",
       "36. 'TRBV_is_TRBV1'\n",
       "37. 'TRBV_is_TRBV10-1'\n",
       "38. 'TRBV_is_TRBV10-2'\n",
       "39. 'TRBV_is_TRBV10-3'\n",
       "40. 'TRBV_is_TRBV11-1'\n",
       "41. 'TRBV_is_TRBV11-2'\n",
       "42. 'TRBV_is_TRBV11-3'\n",
       "43. 'TRBV_is_TRBV12-1'\n",
       "44. 'TRBV_is_TRBV12-2'\n",
       "45. 'TRBV_is_TRBV12-3'\n",
       "46. 'TRBV_is_TRBV12-4'\n",
       "47. 'TRBV_is_TRBV12-5'\n",
       "48. 'TRBV_is_TRBV13'\n",
       "49. 'TRBV_is_TRBV14'\n",
       "50. 'TRBV_is_TRBV15'\n",
       "51. 'TRBV_is_TRBV16'\n",
       "52. 'TRBV_is_TRBV17'\n",
       "53. 'TRBV_is_TRBV18'\n",
       "54. 'TRBV_is_TRBV19'\n",
       "55. 'TRBV_is_TRBV2'\n",
       "56. 'TRBV_is_TRBV20-1'\n",
       "57. 'TRBV_is_TRBV21-1'\n",
       "58. 'TRBV_is_TRBV22-1'\n",
       "59. 'TRBV_is_TRBV23-1'\n",
       "60. 'TRBV_is_TRBV24-1'\n",
       "61. 'TRBV_is_TRBV25-1'\n",
       "62. 'TRBV_is_TRBV26'\n",
       "63. 'TRBV_is_TRBV27'\n",
       "64. 'TRBV_is_TRBV28'\n",
       "65. 'TRBV_is_TRBV29-1'\n",
       "66. 'TRBV_is_TRBV3-1'\n",
       "67. 'TRBV_is_TRBV3-2'\n",
       "68. 'TRBV_is_TRBV30'\n",
       "69. 'TRBV_is_TRBV4-1'\n",
       "70. 'TRBV_is_TRBV4-2'\n",
       "71. 'TRBV_is_TRBV4-3'\n",
       "72. 'TRBV_is_TRBV5-1'\n",
       "73. 'TRBV_is_TRBV5-2'\n",
       "74. 'TRBV_is_TRBV5-3'\n",
       "75. 'TRBV_is_TRBV5-4'\n",
       "76. 'TRBV_is_TRBV5-5'\n",
       "77. 'TRBV_is_TRBV5-6'\n",
       "78. 'TRBV_is_TRBV5-7'\n",
       "79. 'TRBV_is_TRBV5-8'\n",
       "80. 'TRBV_is_TRBV6-1'\n",
       "81. 'TRBV_is_TRBV6-2'\n",
       "82. 'TRBV_is_TRBV6-3'\n",
       "83. 'TRBV_is_TRBV6-4'\n",
       "84. 'TRBV_is_TRBV6-5'\n",
       "85. 'TRBV_is_TRBV6-6'\n",
       "86. 'TRBV_is_TRBV6-7'\n",
       "87. 'TRBV_is_TRBV6-8'\n",
       "88. 'TRBV_is_TRBV6-9'\n",
       "89. 'TRBV_is_TRBV7-1'\n",
       "90. 'TRBV_is_TRBV7-2'\n",
       "91. 'TRBV_is_TRBV7-3'\n",
       "92. 'TRBV_is_TRBV7-4'\n",
       "93. 'TRBV_is_TRBV7-5'\n",
       "94. 'TRBV_is_TRBV7-6'\n",
       "95. 'TRBV_is_TRBV7-7'\n",
       "96. 'TRBV_is_TRBV7-8'\n",
       "97. 'TRBV_is_TRBV7-9'\n",
       "98. 'TRBV_is_TRBV9'\n",
       "99. 'TRBJ_is_TRBJ1-1'\n",
       "100. 'TRBJ_is_TRBJ1-2'\n",
       "101. 'TRBJ_is_TRBJ1-3'\n",
       "102. 'TRBJ_is_TRBJ1-4'\n",
       "103. 'TRBJ_is_TRBJ1-5'\n",
       "104. 'TRBJ_is_TRBJ1-6'\n",
       "105. 'TRBJ_is_TRBJ2-1'\n",
       "106. 'TRBJ_is_TRBJ2-2'\n",
       "107. 'TRBJ_is_TRBJ2-3'\n",
       "108. 'TRBJ_is_TRBJ2-4'\n",
       "109. 'TRBJ_is_TRBJ2-5'\n",
       "110. 'TRBJ_is_TRBJ2-6'\n",
       "111. 'TRBJ_is_TRBJ2-7'\n",
       "112. 'Vmotif_is_CA*'\n",
       "113. 'Vmotif_is_CAA'\n",
       "114. 'Vmotif_is_CAC'\n",
       "115. 'Vmotif_is_CAD'\n",
       "116. 'Vmotif_is_CAE'\n",
       "117. 'Vmotif_is_CAF'\n",
       "118. 'Vmotif_is_CAG'\n",
       "119. 'Vmotif_is_CAH'\n",
       "120. 'Vmotif_is_CAI'\n",
       "121. 'Vmotif_is_CAK'\n",
       "122. 'Vmotif_is_CAL'\n",
       "123. 'Vmotif_is_CAM'\n",
       "124. 'Vmotif_is_CAN'\n",
       "125. 'Vmotif_is_CAP'\n",
       "126. 'Vmotif_is_CAQ'\n",
       "127. 'Vmotif_is_CAR'\n",
       "128. 'Vmotif_is_CAS'\n",
       "129. 'Vmotif_is_CAT'\n",
       "130. 'Vmotif_is_CAV'\n",
       "131. 'Vmotif_is_CAW'\n",
       "132. 'Vmotif_is_CAY'\n",
       "133. 'Vmotif_is_CCA'\n",
       "134. 'Vmotif_is_CCT'\n",
       "135. 'Vmotif_is_CDE'\n",
       "136. 'Vmotif_is_CDG'\n",
       "137. 'Vmotif_is_CDI'\n",
       "138. 'Vmotif_is_CDK'\n",
       "139. 'Vmotif_is_CDR'\n",
       "140. 'Vmotif_is_CDS'\n",
       "141. 'Vmotif_is_CDT'\n",
       "142. 'Vmotif_is_CDW'\n",
       "143. 'Vmotif_is_CEG'\n",
       "144. 'Vmotif_is_CEH'\n",
       "145. 'Vmotif_is_CEI'\n",
       "146. 'Vmotif_is_CEV'\n",
       "147. 'Vmotif_is_CGA'\n",
       "148. 'Vmotif_is_CGF'\n",
       "149. 'Vmotif_is_CGG'\n",
       "150. 'Vmotif_is_CGM'\n",
       "151. 'Vmotif_is_CGN'\n",
       "152. 'Vmotif_is_CGS'\n",
       "153. 'Vmotif_is_CGT'\n",
       "154. 'Vmotif_is_CIK'\n",
       "155. 'Vmotif_is_CIL'\n",
       "156. 'Vmotif_is_CIR'\n",
       "157. 'Vmotif_is_CIS'\n",
       "158. 'Vmotif_is_CKN'\n",
       "159. 'Vmotif_is_CNA'\n",
       "160. 'Vmotif_is_CNV'\n",
       "161. 'Vmotif_is_CPD'\n",
       "162. 'Vmotif_is_CPE'\n",
       "163. 'Vmotif_is_CPG'\n",
       "164. 'Vmotif_is_CPI'\n",
       "165. 'Vmotif_is_CPL'\n",
       "166. 'Vmotif_is_CPQ'\n",
       "167. 'Vmotif_is_CPR'\n",
       "168. 'Vmotif_is_CPS'\n",
       "169. 'Vmotif_is_CPT'\n",
       "170. 'Vmotif_is_CPW'\n",
       "171. 'Vmotif_is_CQS'\n",
       "172. 'Vmotif_is_CQV'\n",
       "173. 'Vmotif_is_CRA'\n",
       "174. 'Vmotif_is_CRD'\n",
       "175. 'Vmotif_is_CRE'\n",
       "176. 'Vmotif_is_CRG'\n",
       "177. 'Vmotif_is_CRI'\n",
       "178. 'Vmotif_is_CRL'\n",
       "179. 'Vmotif_is_CRM'\n",
       "180. 'Vmotif_is_CRN'\n",
       "181. 'Vmotif_is_CRP'\n",
       "182. 'Vmotif_is_CRR'\n",
       "183. 'Vmotif_is_CRS'\n",
       "184. 'Vmotif_is_CRT'\n",
       "185. 'Vmotif_is_CRV'\n",
       "186. 'Vmotif_is_CRW'\n",
       "187. 'Vmotif_is_CS*'\n",
       "188. 'Vmotif_is_CSA'\n",
       "189. 'Vmotif_is_CSC'\n",
       "190. 'Vmotif_is_CSD'\n",
       "191. 'Vmotif_is_CSE'\n",
       "192. 'Vmotif_is_CSF'\n",
       "193. 'Vmotif_is_CSG'\n",
       "194. 'Vmotif_is_CSH'\n",
       "195. 'Vmotif_is_CSI'\n",
       "196. 'Vmotif_is_CSK'\n",
       "197. 'Vmotif_is_CSL'\n",
       "198. 'Vmotif_is_CSM'\n",
       "199. 'Vmotif_is_CSP'\n",
       "200. 'Vmotif_is_CSQ'\n",
       "201. ...\n",
       "202. 'p112.1_is_Q'\n",
       "203. 'p112.1_is_R'\n",
       "204. 'p112.1_is_S'\n",
       "205. 'p112.1_is_T'\n",
       "206. 'p112.1_is_V'\n",
       "207. 'p112.1_is_W'\n",
       "208. 'p112.1_is_Y'\n",
       "209. 'p112_is_A'\n",
       "210. 'p112_is_C'\n",
       "211. 'p112_is_D'\n",
       "212. 'p112_is_E'\n",
       "213. 'p112_is_F'\n",
       "214. 'p112_is_G'\n",
       "215. 'p112_is_H'\n",
       "216. 'p112_is_I'\n",
       "217. 'p112_is_K'\n",
       "218. 'p112_is_L'\n",
       "219. 'p112_is_M'\n",
       "220. 'p112_is_N'\n",
       "221. 'p112_is_P'\n",
       "222. 'p112_is_Q'\n",
       "223. 'p112_is_R'\n",
       "224. 'p112_is_S'\n",
       "225. 'p112_is_T'\n",
       "226. 'p112_is_V'\n",
       "227. 'p112_is_W'\n",
       "228. 'p112_is_Y'\n",
       "229. 'p113_is_A'\n",
       "230. 'p113_is_C'\n",
       "231. 'p113_is_D'\n",
       "232. 'p113_is_E'\n",
       "233. 'p113_is_F'\n",
       "234. 'p113_is_G'\n",
       "235. 'p113_is_H'\n",
       "236. 'p113_is_I'\n",
       "237. 'p113_is_K'\n",
       "238. 'p113_is_L'\n",
       "239. 'p113_is_M'\n",
       "240. 'p113_is_N'\n",
       "241. 'p113_is_P'\n",
       "242. 'p113_is_Q'\n",
       "243. 'p113_is_R'\n",
       "244. 'p113_is_S'\n",
       "245. 'p113_is_T'\n",
       "246. 'p113_is_V'\n",
       "247. 'p113_is_W'\n",
       "248. 'p113_is_Y'\n",
       "249. 'p114_is_A'\n",
       "250. 'p114_is_C'\n",
       "251. 'p114_is_D'\n",
       "252. 'p114_is_E'\n",
       "253. 'p114_is_F'\n",
       "254. 'p114_is_G'\n",
       "255. 'p114_is_H'\n",
       "256. 'p114_is_I'\n",
       "257. 'p114_is_K'\n",
       "258. 'p114_is_L'\n",
       "259. 'p114_is_M'\n",
       "260. 'p114_is_N'\n",
       "261. 'p114_is_P'\n",
       "262. 'p114_is_Q'\n",
       "263. 'p114_is_R'\n",
       "264. 'p114_is_S'\n",
       "265. 'p114_is_T'\n",
       "266. 'p114_is_V'\n",
       "267. 'p114_is_W'\n",
       "268. 'p114_is_Y'\n",
       "269. 'HLA_A02:01:01'\n",
       "270. 'HLA_A01:01:01'\n",
       "271. 'HLA_A11:01:01'\n",
       "272. 'HLA_A26:01:01'\n",
       "273. 'HLA_A31:01:02'\n",
       "274. 'HLA_A03:01:01'\n",
       "275. 'HLA_A02:05:01'\n",
       "276. 'HLA_A23:01:01'\n",
       "277. 'HLA_A24:02:01'\n",
       "278. 'HLA_A30:01:01'\n",
       "279. 'HLA_A25:01:01'\n",
       "280. 'HLA_A68:01:02'\n",
       "281. 'HLA_A33:03:01'\n",
       "282. 'HLA_A68:01:01'\n",
       "283. 'HLA_A29:02:01'\n",
       "284. 'HLA_A30:02:01'\n",
       "285. 'HLA_B35:01:01'\n",
       "286. 'HLA_B07:02:01'\n",
       "287. 'HLA_B13:02:01'\n",
       "288. 'HLA_B35:03:01'\n",
       "289. 'HLA_B38:01:01'\n",
       "290. 'HLA_B18:01:01'\n",
       "291. 'HLA_B27:05:02'\n",
       "292. 'HLA_B42:01:01'\n",
       "293. 'HLA_B08:01:01'\n",
       "294. 'HLA_B15:03:01'\n",
       "295. 'HLA_B15:01:01'\n",
       "296. 'HLA_B45:01:01'\n",
       "297. 'HLA_B40:01:02'\n",
       "298. 'HLA_B51:01:01'\n",
       "299. 'HLA_B44:03:01'\n",
       "300. 'HLA_B44:02:01'\n",
       "301. 'HLA_B53:01:01'\n",
       "302. 'HLA_B49:01:01'\n",
       "303. 'HLA_B55:01:01'\n",
       "304. 'HLA_B37:01:01'\n",
       "305. 'HLA_B57:01:01'\n",
       "306. 'HLA_C04:01:01'\n",
       "307. 'HLA_C07:02:01'\n",
       "308. 'HLA_C07:01:01'\n",
       "309. 'HLA_C05:01:01'\n",
       "310. 'HLA_C07:04:01'\n",
       "311. 'HLA_C03:04:01'\n",
       "312. 'HLA_C02:02:02'\n",
       "313. 'HLA_C12:03:01'\n",
       "314. 'HLA_C03:03:01'\n",
       "315. 'HLA_C06:02:01'\n",
       "316. 'HLA_C01:02:01'\n",
       "317. 'HLA_C02:10:01'\n",
       "318. 'HLA_C16:01:01'\n",
       "319. 'HLA_C14:02:01'\n",
       "320. 'HLA_C17:01:01'\n",
       "321. 'HLA_DPA101:03:01'\n",
       "322. 'HLA_DPA102:01:01'\n",
       "323. 'HLA_DPA102:02:02'\n",
       "324. 'HLA_DPA102:07:01'\n",
       "325. 'HLA_DPB101:01:01'\n",
       "326. 'HLA_DPB103:01:01'\n",
       "327. 'HLA_DPB104:01:01'\n",
       "328. 'HLA_DPB102:01:02'\n",
       "329. 'HLA_DPB104:02:01'\n",
       "330. 'HLA_DPB101:01:02'\n",
       "331. 'HLA_DPB113:01:01'\n",
       "332. 'HLA_DPB119:01:01'\n",
       "333. 'HLA_DPB123:01:01'\n",
       "334. 'HLA_DPB1104:01:01'\n",
       "335. 'HLA_DPB1105:01:01'\n",
       "336. 'HLA_DPB110:01:01'\n",
       "337. 'HLA_DPB117:01:01'\n",
       "338. 'HLA_DPB105:01:01'\n",
       "339. 'HLA_DPB106:01:01'\n",
       "340. 'HLA_DPB120:01:01'\n",
       "341. 'HLA_DQA101:02:01'\n",
       "342. 'HLA_DQA105:01:01'\n",
       "343. 'HLA_DQA101:01:02'\n",
       "344. 'HLA_DQA102:01:01'\n",
       "345. 'HLA_DQA101:01:01'\n",
       "346. 'HLA_DQA101:03:01'\n",
       "347. 'HLA_DQA103:03:01'\n",
       "348. 'HLA_DQA103:01:01'\n",
       "349. 'HLA_DQA104:01:01'\n",
       "350. 'HLA_DQA105:05:01'\n",
       "351. 'HLA_DQA101:02:02'\n",
       "352. 'HLA_DQA101:04:01'\n",
       "353. 'HLA_DQA103:02:01'\n",
       "354. 'HLA_DQB103:19:01'\n",
       "355. 'HLA_DQB102:01:01'\n",
       "356. 'HLA_DQB103:02:01'\n",
       "357. 'HLA_DQB105:02:01'\n",
       "358. 'HLA_DQB104:02:01'\n",
       "359. 'HLA_DQB103:03:02'\n",
       "360. 'HLA_DQB102:02:01'\n",
       "361. 'HLA_DQB105:01:01'\n",
       "362. 'HLA_DQB103:01:01'\n",
       "363. 'HLA_DQB106:02:01'\n",
       "364. 'HLA_DQB105:03:01'\n",
       "365. 'HLA_DQB106:04:01'\n",
       "366. 'HLA_DQB106:03:01'\n",
       "367. 'HLA_DQB106:01:01'\n",
       "368. 'HLA_DQB106:09:01'\n",
       "369. 'HLA_DRB113:02:01'\n",
       "370. 'HLA_DRB103:01:01'\n",
       "371. 'HLA_DRB101:02:01'\n",
       "372. 'HLA_DRB115:01:01'\n",
       "373. 'HLA_DRB101:01:01'\n",
       "374. 'HLA_DRB104:07:01'\n",
       "375. 'HLA_DRB104:02:01'\n",
       "376. 'HLA_DRB108:01:01'\n",
       "377. 'HLA_DRB109:01:02'\n",
       "378. 'HLA_DRB107:01:01'\n",
       "379. 'HLA_DRB104:01:01'\n",
       "380. 'HLA_DRB104:04:01'\n",
       "381. 'HLA_DRB103:02:01'\n",
       "382. 'HLA_DRB112:01:01'\n",
       "383. 'HLA_DRB104:05:01'\n",
       "384. 'HLA_DRB111:01:01'\n",
       "385. 'HLA_DRB114:54:01'\n",
       "386. 'HLA_DRB113:01:01'\n",
       "387. 'HLA_DRB116:01:01'\n",
       "388. 'HLA_DRB115:02:01'\n",
       "389. 'HLA_DRB116:02:01'\n",
       "390. 'HLA_DRB111:01:02'\n",
       "391. 'HLA_DRB302:02:01'\n",
       "392. 'HLA_DRB301:01:02'\n",
       "393. 'HLA_DRB501:01:01'\n",
       "394. 'HLA_DRB401:03:01'\n",
       "395. 'HLA_DRB303:01:01'\n",
       "396. 'HLA_DRB401:01:01'\n",
       "397. 'HLA_DRB301:62:01'\n",
       "398. 'HLA_DRB401:03:02'\n",
       "399. 'HLA_DRB502:02:01'\n",
       "400. 'HLA_DRB501:02:01'\n",
       "401. 'HLA_DRB401:03:01:02N'\n",
       "\n",
       "\n"
      ],
      "text/plain": [
       "   [1] \"ATC\"                  \"Age\"                  \"EM\"                  \n",
       "   [4] \"CM\"                   \"Naive\"                \"SCM\"                 \n",
       "   [7] \"TE\"                   \"PD1\"                  \"LAG3\"                \n",
       "  [10] \"TIM3\"                 \"cloneCount\"           \"cloneFraction\"       \n",
       "  [13] \"length\"               \"perc_mid_A\"           \"perc_mid_C\"          \n",
       "  [16] \"perc_mid_D\"           \"perc_mid_E\"           \"perc_mid_F\"          \n",
       "  [19] \"perc_mid_G\"           \"perc_mid_H\"           \"perc_mid_I\"          \n",
       "  [22] \"perc_mid_K\"           \"perc_mid_L\"           \"perc_mid_M\"          \n",
       "  [25] \"perc_mid_N\"           \"perc_mid_P\"           \"perc_mid_Q\"          \n",
       "  [28] \"perc_mid_R\"           \"perc_mid_S\"           \"perc_mid_T\"          \n",
       "  [31] \"perc_mid_V\"           \"perc_mid_W\"           \"perc_mid_Y\"          \n",
       "  [34] \"frame_type_is_in\"     \"frame_type_is_out\"    \"TRBV_is_TRBV1\"       \n",
       "  [37] \"TRBV_is_TRBV10-1\"     \"TRBV_is_TRBV10-2\"     \"TRBV_is_TRBV10-3\"    \n",
       "  [40] \"TRBV_is_TRBV11-1\"     \"TRBV_is_TRBV11-2\"     \"TRBV_is_TRBV11-3\"    \n",
       "  [43] \"TRBV_is_TRBV12-1\"     \"TRBV_is_TRBV12-2\"     \"TRBV_is_TRBV12-3\"    \n",
       "  [46] \"TRBV_is_TRBV12-4\"     \"TRBV_is_TRBV12-5\"     \"TRBV_is_TRBV13\"      \n",
       "  [49] \"TRBV_is_TRBV14\"       \"TRBV_is_TRBV15\"       \"TRBV_is_TRBV16\"      \n",
       "  [52] \"TRBV_is_TRBV17\"       \"TRBV_is_TRBV18\"       \"TRBV_is_TRBV19\"      \n",
       "  [55] \"TRBV_is_TRBV2\"        \"TRBV_is_TRBV20-1\"     \"TRBV_is_TRBV21-1\"    \n",
       "  [58] \"TRBV_is_TRBV22-1\"     \"TRBV_is_TRBV23-1\"     \"TRBV_is_TRBV24-1\"    \n",
       "  [61] \"TRBV_is_TRBV25-1\"     \"TRBV_is_TRBV26\"       \"TRBV_is_TRBV27\"      \n",
       "  [64] \"TRBV_is_TRBV28\"       \"TRBV_is_TRBV29-1\"     \"TRBV_is_TRBV3-1\"     \n",
       "  [67] \"TRBV_is_TRBV3-2\"      \"TRBV_is_TRBV30\"       \"TRBV_is_TRBV4-1\"     \n",
       "  [70] \"TRBV_is_TRBV4-2\"      \"TRBV_is_TRBV4-3\"      \"TRBV_is_TRBV5-1\"     \n",
       "  [73] \"TRBV_is_TRBV5-2\"      \"TRBV_is_TRBV5-3\"      \"TRBV_is_TRBV5-4\"     \n",
       "  [76] \"TRBV_is_TRBV5-5\"      \"TRBV_is_TRBV5-6\"      \"TRBV_is_TRBV5-7\"     \n",
       "  [79] \"TRBV_is_TRBV5-8\"      \"TRBV_is_TRBV6-1\"      \"TRBV_is_TRBV6-2\"     \n",
       "  [82] \"TRBV_is_TRBV6-3\"      \"TRBV_is_TRBV6-4\"      \"TRBV_is_TRBV6-5\"     \n",
       "  [85] \"TRBV_is_TRBV6-6\"      \"TRBV_is_TRBV6-7\"      \"TRBV_is_TRBV6-8\"     \n",
       "  [88] \"TRBV_is_TRBV6-9\"      \"TRBV_is_TRBV7-1\"      \"TRBV_is_TRBV7-2\"     \n",
       "  [91] \"TRBV_is_TRBV7-3\"      \"TRBV_is_TRBV7-4\"      \"TRBV_is_TRBV7-5\"     \n",
       "  [94] \"TRBV_is_TRBV7-6\"      \"TRBV_is_TRBV7-7\"      \"TRBV_is_TRBV7-8\"     \n",
       "  [97] \"TRBV_is_TRBV7-9\"      \"TRBV_is_TRBV9\"        \"TRBJ_is_TRBJ1-1\"     \n",
       " [100] \"TRBJ_is_TRBJ1-2\"      \"TRBJ_is_TRBJ1-3\"      \"TRBJ_is_TRBJ1-4\"     \n",
       " [103] \"TRBJ_is_TRBJ1-5\"      \"TRBJ_is_TRBJ1-6\"      \"TRBJ_is_TRBJ2-1\"     \n",
       " [106] \"TRBJ_is_TRBJ2-2\"      \"TRBJ_is_TRBJ2-3\"      \"TRBJ_is_TRBJ2-4\"     \n",
       " [109] \"TRBJ_is_TRBJ2-5\"      \"TRBJ_is_TRBJ2-6\"      \"TRBJ_is_TRBJ2-7\"     \n",
       " [112] \"Vmotif_is_CA*\"        \"Vmotif_is_CAA\"        \"Vmotif_is_CAC\"       \n",
       " [115] \"Vmotif_is_CAD\"        \"Vmotif_is_CAE\"        \"Vmotif_is_CAF\"       \n",
       " [118] \"Vmotif_is_CAG\"        \"Vmotif_is_CAH\"        \"Vmotif_is_CAI\"       \n",
       " [121] \"Vmotif_is_CAK\"        \"Vmotif_is_CAL\"        \"Vmotif_is_CAM\"       \n",
       " [124] \"Vmotif_is_CAN\"        \"Vmotif_is_CAP\"        \"Vmotif_is_CAQ\"       \n",
       " [127] \"Vmotif_is_CAR\"        \"Vmotif_is_CAS\"        \"Vmotif_is_CAT\"       \n",
       " [130] \"Vmotif_is_CAV\"        \"Vmotif_is_CAW\"        \"Vmotif_is_CAY\"       \n",
       " [133] \"Vmotif_is_CCA\"        \"Vmotif_is_CCT\"        \"Vmotif_is_CDE\"       \n",
       " [136] \"Vmotif_is_CDG\"        \"Vmotif_is_CDI\"        \"Vmotif_is_CDK\"       \n",
       " [139] \"Vmotif_is_CDR\"        \"Vmotif_is_CDS\"        \"Vmotif_is_CDT\"       \n",
       " [142] \"Vmotif_is_CDW\"        \"Vmotif_is_CEG\"        \"Vmotif_is_CEH\"       \n",
       " [145] \"Vmotif_is_CEI\"        \"Vmotif_is_CEV\"        \"Vmotif_is_CGA\"       \n",
       " [148] \"Vmotif_is_CGF\"        \"Vmotif_is_CGG\"        \"Vmotif_is_CGM\"       \n",
       " [151] \"Vmotif_is_CGN\"        \"Vmotif_is_CGS\"        \"Vmotif_is_CGT\"       \n",
       " [154] \"Vmotif_is_CIK\"        \"Vmotif_is_CIL\"        \"Vmotif_is_CIR\"       \n",
       " [157] \"Vmotif_is_CIS\"        \"Vmotif_is_CKN\"        \"Vmotif_is_CNA\"       \n",
       " [160] \"Vmotif_is_CNV\"        \"Vmotif_is_CPD\"        \"Vmotif_is_CPE\"       \n",
       " [163] \"Vmotif_is_CPG\"        \"Vmotif_is_CPI\"        \"Vmotif_is_CPL\"       \n",
       " [166] \"Vmotif_is_CPQ\"        \"Vmotif_is_CPR\"        \"Vmotif_is_CPS\"       \n",
       " [169] \"Vmotif_is_CPT\"        \"Vmotif_is_CPW\"        \"Vmotif_is_CQS\"       \n",
       " [172] \"Vmotif_is_CQV\"        \"Vmotif_is_CRA\"        \"Vmotif_is_CRD\"       \n",
       " [175] \"Vmotif_is_CRE\"        \"Vmotif_is_CRG\"        \"Vmotif_is_CRI\"       \n",
       " [178] \"Vmotif_is_CRL\"        \"Vmotif_is_CRM\"        \"Vmotif_is_CRN\"       \n",
       " [181] \"Vmotif_is_CRP\"        \"Vmotif_is_CRR\"        \"Vmotif_is_CRS\"       \n",
       " [184] \"Vmotif_is_CRT\"        \"Vmotif_is_CRV\"        \"Vmotif_is_CRW\"       \n",
       " [187] \"Vmotif_is_CS*\"        \"Vmotif_is_CSA\"        \"Vmotif_is_CSC\"       \n",
       " [190] \"Vmotif_is_CSD\"        \"Vmotif_is_CSE\"        \"Vmotif_is_CSF\"       \n",
       " [193] \"Vmotif_is_CSG\"        \"Vmotif_is_CSH\"        \"Vmotif_is_CSI\"       \n",
       " [196] \"Vmotif_is_CSK\"        \"Vmotif_is_CSL\"        \"Vmotif_is_CSM\"       \n",
       " [199] \"Vmotif_is_CSP\"        \"Vmotif_is_CSQ\"        \"Vmotif_is_CSR\"       \n",
       " [202] \"Vmotif_is_CSS\"        \"Vmotif_is_CST\"        \"Vmotif_is_CSV\"       \n",
       " [205] \"Vmotif_is_CSY\"        \"Vmotif_is_CT*\"        \"Vmotif_is_CTA\"       \n",
       " [208] \"Vmotif_is_CTC\"        \"Vmotif_is_CTG\"        \"Vmotif_is_CTI\"       \n",
       " [211] \"Vmotif_is_CTL\"        \"Vmotif_is_CTN\"        \"Vmotif_is_CTP\"       \n",
       " [214] \"Vmotif_is_CTR\"        \"Vmotif_is_CTS\"        \"Vmotif_is_CTT\"       \n",
       " [217] \"Vmotif_is_CTV\"        \"Vmotif_is_CTW\"        \"Vmotif_is_CVA\"       \n",
       " [220] \"Vmotif_is_CVG\"        \"Vmotif_is_CVI\"        \"Vmotif_is_CVP\"       \n",
       " [223] \"Vmotif_is_CVR\"        \"Vmotif_is_CVS\"        \"Vmotif_is_CVT\"       \n",
       " [226] \"Vmotif_is_CVV\"        \"Vmotif_is_CVW\"        \"Vmotif_is_CYA\"       \n",
       " [229] \"Vmotif_is_FAS\"        \"Vmotif_is_FRQ\"        \"Vmotif_is_FSA\"       \n",
       " [232] \"Vmotif_is_GAS\"        \"Vmotif_is_GAW\"        \"Vmotif_is_HET\"       \n",
       " [235] \"Vmotif_is_IPY\"        \"Vmotif_is_KAR\"        \"Vmotif_is_LPG\"       \n",
       " [238] \"Vmotif_is_PAG\"        \"Vmotif_is_PPR\"        \"Vmotif_is_PPS\"       \n",
       " [241] \"Vmotif_is_QRC\"        \"Vmotif_is_RAA\"        \"Vmotif_is_RAG\"       \n",
       " [244] \"Vmotif_is_RAI\"        \"Vmotif_is_RAN\"        \"Vmotif_is_RAS\"       \n",
       " [247] \"Vmotif_is_RAT\"        \"Vmotif_is_RAV\"        \"Vmotif_is_RAW\"       \n",
       " [250] \"Vmotif_is_RSA\"        \"Vmotif_is_SAI\"        \"Vmotif_is_SAS\"       \n",
       " [253] \"Vmotif_is_SAT\"        \"Vmotif_is_SEG\"        \"Vmotif_is_SFG\"       \n",
       " [256] \"Vmotif_is_SPS\"        \"Vmotif_is_SRL\"        \"Vmotif_is_SRP\"       \n",
       " [259] \"Vmotif_is_SSA\"        \"Vmotif_is_SVG\"        \"Vmotif_is_TGG\"       \n",
       " [262] \"Vmotif_is_WDK\"        \"Vmotif_is_WGA\"        \"Vmotif_is_WGG\"       \n",
       " [265] \"Vmotif_is_WGI\"        \"Vmotif_is_WPR\"        \"Vmotif_is_WTT\"       \n",
       " [268] \"Vmotif_is_YAI\"        \"Vmotif_is_YAS\"        \"Vmotif_is_YAT\"       \n",
       " [271] \"Vmotif_is_YKI\"        \"Vmotif_is_YSA\"        \"Vmotif_is_YSS\"       \n",
       " [274] \"Jmotif_is_A*QYF\"      \"Jmotif_is_AAAPF\"      \"Jmotif_is_AAEYF\"     \n",
       " [277] \"Jmotif_is_AAIYF\"      \"Jmotif_is_AALTF\"      \"Jmotif_is_AAQHF\"     \n",
       " [280] \"Jmotif_is_AAQYF\"      \"Jmotif_is_ACYTF\"      \"Jmotif_is_ADAFF\"     \n",
       " [283] \"Jmotif_is_ADCLF\"      \"Jmotif_is_ADLFF\"      \"Jmotif_is_AEAFF\"     \n",
       " [286] \"Jmotif_is_AEEYF\"      \"Jmotif_is_AELFF\"      \"Jmotif_is_AEQ*F\"     \n",
       " [289] \"Jmotif_is_AEQFF\"      \"Jmotif_is_AEQYF\"      \"Jmotif_is_AEQYV\"     \n",
       " [292] \"Jmotif_is_AFGTF\"      \"Jmotif_is_AG*TF\"      \"Jmotif_is_AGAFF\"     \n",
       " [295] \"Jmotif_is_AGLHF\"      \"Jmotif_is_AGLRF\"      \"Jmotif_is_AGPYF\"     \n",
       " [298] \"Jmotif_is_AGQFF\"      \"Jmotif_is_AGQYF\"      \"Jmotif_is_AGRYF\"     \n",
       " [301] \"Jmotif_is_AGVIF\"      \"Jmotif_is_AGVYF\"      \"Jmotif_is_AGYTF\"     \n",
       " [304] \"Jmotif_is_AHGTF\"      \"Jmotif_is_AIQYF\"      \"Jmotif_is_AKAFF\"     \n",
       " [307] \"Jmotif_is_AKKYF\"      \"Jmotif_is_AKLFF\"      \"Jmotif_is_AKQFF\"     \n",
       " [310] \"Jmotif_is_AKQYF\"      \"Jmotif_is_ALAFF\"      \"Jmotif_is_ALGTF\"     \n",
       " [313] \"Jmotif_is_ALIFF\"      \"Jmotif_is_ALQVF\"      \"Jmotif_is_ANQFF\"     \n",
       " [316] \"Jmotif_is_APLHF\"      \"Jmotif_is_APQHF\"      \"Jmotif_is_APQYF\"     \n",
       " [319] \"Jmotif_is_APRFF\"      \"Jmotif_is_APRYF\"      \"Jmotif_is_AQQFF\"     \n",
       " [322] \"Jmotif_is_AQQYF\"      \"Jmotif_is_AQSHF\"      \"Jmotif_is_ARAFF\"     \n",
       " [325] \"Jmotif_is_AREYF\"      \"Jmotif_is_ARGFF\"      \"Jmotif_is_ARQFF\"     \n",
       " [328] \"Jmotif_is_ARQYF\"      \"Jmotif_is_ARSFF\"      \"Jmotif_is_ASAFF\"     \n",
       " [331] \"Jmotif_is_ASLPS\"      \"Jmotif_is_ASQHF\"      \"Jmotif_is_ASQYF\"     \n",
       " [334] \"Jmotif_is_ASRYF\"      \"Jmotif_is_ASYTF\"      \"Jmotif_is_ATAFF\"     \n",
       " [337] \"Jmotif_is_ATFLR\"      \"Jmotif_is_ATIYF\"      \"Jmotif_is_ATQFF\"     \n",
       " [340] \"Jmotif_is_ATQHF\"      \"Jmotif_is_ATQYF\"      \"Jmotif_is_AV*YF\"     \n",
       " [343] \"Jmotif_is_AVAFF\"      \"Jmotif_is_AVQYF\"      \"Jmotif_is_AWAFF\"     \n",
       " [346] \"Jmotif_is_AWQYF\"      \"Jmotif_is_AYGFF\"      \"Jmotif_is_AYYTF\"     \n",
       " [349] \"Jmotif_is_C*QYV\"      \"Jmotif_is_CEAFF\"      \"Jmotif_is_CEQFF\"     \n",
       " [352] \"Jmotif_is_CEQYF\"      \"Jmotif_is_CEQYV\"      \"Jmotif_is_CGYTF\"     \n",
       " [355] \"Jmotif_is_CTIYF\"      \"Jmotif_is_CTQYF\"      \"Jmotif_is_CVQYF\"     \n",
       " [358] \"Jmotif_is_D*AFF\"      \"Jmotif_is_D*RIV\"      \"Jmotif_is_D*RYF\"     \n",
       " [361] \"Jmotif_is_DAAFF\"      \"Jmotif_is_DADRF\"      \"Jmotif_is_DAQYF\"     \n",
       " [364] \"Jmotif_is_DE*YF\"      \"Jmotif_is_DEAFF\"      \"Jmotif_is_DEKFF\"     \n",
       " [367] \"Jmotif_is_DEPFF\"      \"Jmotif_is_DEQFF\"      \"Jmotif_is_DEQFL\"     \n",
       " [370] \"Jmotif_is_DEQIF\"      \"Jmotif_is_DEQLF\"      \"Jmotif_is_DEQYF\"     \n",
       " [373] \"Jmotif_is_DEQYL\"      \"Jmotif_is_DEQYV\"      \"Jmotif_is_DEVTF\"     \n",
       " [376] \"Jmotif_is_DG*TF\"      \"Jmotif_is_DGAFF\"      \"Jmotif_is_DGQYF\"     \n",
       " [379] \"Jmotif_is_DGRHF\"      \"Jmotif_is_DGYTF\"      \"Jmotif_is_DGYTL\"     \n",
       " [382] \"Jmotif_is_DIAFF\"      \"Jmotif_is_DIQYF\"      \"Jmotif_is_DIQYL\"     \n",
       " [385] \"Jmotif_is_DKAFF\"      \"Jmotif_is_DKEFF\"      \"Jmotif_is_DKLFF\"     \n",
       " [388] \"Jmotif_is_DKQFF\"      \"Jmotif_is_DKQYF\"      \"Jmotif_is_DLEYF\"     \n",
       " [391] \"Jmotif_is_DLLHF\"      \"Jmotif_is_DLQYF\"      \"Jmotif_is_DMQYF\"     \n",
       " [394] \"Jmotif_is_DMQYL\"      \"Jmotif_is_DNCFF\"      \"Jmotif_is_DPQHF\"     \n",
       " [397] \"Jmotif_is_DPQYF\"      \"Jmotif_is_DQAFF\"      \"Jmotif_is_DQQFF\"     \n",
       " [400] \"Jmotif_is_DRAFF\"      \"Jmotif_is_DRQFF\"      \"Jmotif_is_DRRYF\"     \n",
       " [403] \"Jmotif_is_DRYTF\"      \"Jmotif_is_DSLHF\"      \"Jmotif_is_DSLLF\"     \n",
       " [406] \"Jmotif_is_DT*YF\"      \"Jmotif_is_DTIYF\"      \"Jmotif_is_DTKYF\"     \n",
       " [409] \"Jmotif_is_DTQ*F\"      \"Jmotif_is_DTQCF\"      \"Jmotif_is_DTQHF\"     \n",
       " [412] \"Jmotif_is_DTQNF\"      \"Jmotif_is_DTQSF\"      \"Jmotif_is_DTQYF\"     \n",
       " [415] \"Jmotif_is_DTQYL\"      \"Jmotif_is_DTQYS\"      \"Jmotif_is_DTQYY\"     \n",
       " [418] \"Jmotif_is_DTRYF\"      \"Jmotif_is_DVAFF\"      \"Jmotif_is_DVASF\"     \n",
       " [421] \"Jmotif_is_DVLTF\"      \"Jmotif_is_DVQYF\"      \"Jmotif_is_DWQYF\"     \n",
       " [424] \"Jmotif_is_E*AFF\"      \"Jmotif_is_E*GFF\"      \"Jmotif_is_EAEYF\"     \n",
       " [427] \"Jmotif_is_EAIYF\"      \"Jmotif_is_EALHF\"      \"Jmotif_is_EAQHF\"     \n",
       " [430] \"Jmotif_is_EAQYF\"      \"Jmotif_is_ECYTF\"      \"Jmotif_is_EDAFF\"     \n",
       " [433] \"Jmotif_is_EDYTF\"      \"Jmotif_is_EEAFF\"      \"Jmotif_is_EEKFF\"     \n",
       " [436] \"Jmotif_is_EELFF\"      \"Jmotif_is_EEQ*F\"      \"Jmotif_is_EEQFF\"     \n",
       " [439] \"Jmotif_is_EEQYF\"      \"Jmotif_is_EG*TF\"      \"Jmotif_is_EGAFF\"     \n",
       " [442] \"Jmotif_is_EGDTF\"      \"Jmotif_is_EGEGN\"      \"Jmotif_is_EGIHF\"     \n",
       " [445] \"Jmotif_is_EGKYF\"      \"Jmotif_is_EGLFF\"      \"Jmotif_is_EGPYF\"     \n",
       " [448] \"Jmotif_is_EGQFF\"      \"Jmotif_is_EGQYF\"      \"Jmotif_is_EGYTF\"     \n",
       " [451] \"Jmotif_is_EGYTL\"      \"Jmotif_is_EIAYF\"      \"Jmotif_is_EIGFF\"     \n",
       " [454] \"Jmotif_is_EIQYF\"      \"Jmotif_is_EKAFF\"      \"Jmotif_is_EKGFF\"     \n",
       " [457] \"Jmotif_is_EKLFF\"      \"Jmotif_is_EKLFI\"      \"Jmotif_is_EKLFL\"     \n",
       " [460] \"Jmotif_is_EKLFS\"      \"Jmotif_is_EKLLF\"      \"Jmotif_is_EKLSF\"     \n",
       " [463] \"Jmotif_is_EKPFF\"      \"Jmotif_is_EKQYF\"      \"Jmotif_is_EKRFF\"     \n",
       " [466] \"Jmotif_is_EL*FF\"      \"Jmotif_is_ELAFF\"      \"Jmotif_is_ELRNF\"     \n",
       " [469] \"Jmotif_is_ENLFF\"      \"Jmotif_is_ENQYF\"      \"Jmotif_is_EPLHF\"     \n",
       " [472] \"Jmotif_is_EPQHF\"      \"Jmotif_is_EPQYF\"      \"Jmotif_is_EQPHF\"     \n",
       " [475] \"Jmotif_is_EQQFF\"      \"Jmotif_is_ERAFF\"      \"Jmotif_is_ERDTF\"     \n",
       " [478] \"Jmotif_is_EREHF\"      \"Jmotif_is_ERLFF\"      \"Jmotif_is_ERQFF\"     \n",
       " [481] \"Jmotif_is_ERQYF\"      \"Jmotif_is_ESAFF\"      \"Jmotif_is_ESQYF\"     \n",
       " [484] \"Jmotif_is_ESYTF\"      \"Jmotif_is_ETIYF\"      \"Jmotif_is_ETKYF\"     \n",
       " [487] \"Jmotif_is_ETLHF\"      \"Jmotif_is_ETLYF\"      \"Jmotif_is_ETPYF\"     \n",
       " [490] \"Jmotif_is_ETPYI\"      \"Jmotif_is_ETQ*F\"      \"Jmotif_is_ETQCF\"     \n",
       " [493] \"Jmotif_is_ETQFF\"      \"Jmotif_is_ETQHF\"      \"Jmotif_is_ETQNF\"     \n",
       " [496] \"Jmotif_is_ETQYC\"      \"Jmotif_is_ETQYF\"      \"Jmotif_is_ETQYL\"     \n",
       " [499] \"Jmotif_is_ETQYS\"      \"Jmotif_is_ETRYF\"      \"Jmotif_is_EVEFF\"     \n",
       " [502] \"Jmotif_is_EVQFF\"      \"Jmotif_is_EVQYF\"      \"Jmotif_is_EWAFF\"     \n",
       " [505] \"Jmotif_is_EWQFF\"      \"Jmotif_is_F*FDF\"      \"Jmotif_is_F*QFF\"     \n",
       " [508] \"Jmotif_is_FAAFF\"      \"Jmotif_is_FAEFF\"      \"Jmotif_is_FALHF\"     \n",
       " [511] \"Jmotif_is_FAQHF\"      \"Jmotif_is_FAQYF\"      \"Jmotif_is_FEAFF\"     \n",
       " [514] \"Jmotif_is_FELFF\"      \"Jmotif_is_FEQFF\"      \"Jmotif_is_FEQYF\"     \n",
       " [517] \"Jmotif_is_FEQYV\"      \"Jmotif_is_FFQPL\"      \"Jmotif_is_FGQYF\"     \n",
       " [520] \"Jmotif_is_FGSLF\"      \"Jmotif_is_FGVYF\"      \"Jmotif_is_FGYTF\"     \n",
       " [523] \"Jmotif_is_FHTYF\"      \"Jmotif_is_FKAFF\"      \"Jmotif_is_FKLFF\"     \n",
       " [526] \"Jmotif_is_FKQFF\"      \"Jmotif_is_FKQYF\"      \"Jmotif_is_FMAFF\"     \n",
       " [529] \"Jmotif_is_FPLHF\"      \"Jmotif_is_FPQHF\"      \"Jmotif_is_FPYGF\"     \n",
       " [532] \"Jmotif_is_FQQYF\"      \"Jmotif_is_FRLFF\"      \"Jmotif_is_FSAFF\"     \n",
       " [535] \"Jmotif_is_FSYTF\"      \"Jmotif_is_FTGFF\"      \"Jmotif_is_FTLHF\"     \n",
       " [538] \"Jmotif_is_FTQYF\"      \"Jmotif_is_FWLHL\"      \"Jmotif_is_FYQYF\"     \n",
       " [541] \"Jmotif_is_G*AFF\"      \"Jmotif_is_G*FSF\"      \"Jmotif_is_G*QYF\"     \n",
       " [544] \"Jmotif_is_G*RSF\"      \"Jmotif_is_G*SFF\"      \"Jmotif_is_GAAFF\"     \n",
       " [547] \"Jmotif_is_GAAFS\"      \"Jmotif_is_GAAHF\"      \"Jmotif_is_GAAYF\"     \n",
       " [550] \"Jmotif_is_GAEFF\"      \"Jmotif_is_GAFWL\"      \"Jmotif_is_GAIYF\"     \n",
       " [553] \"Jmotif_is_GALHF\"      \"Jmotif_is_GAQFF\"      \"Jmotif_is_GAQHF\"     \n",
       " [556] \"Jmotif_is_GAQYF\"      \"Jmotif_is_GARTF\"      \"Jmotif_is_GATFF\"     \n",
       " [559] \"Jmotif_is_GCAFF\"      \"Jmotif_is_GDAFF\"      \"Jmotif_is_GDLHF\"     \n",
       " [562] \"Jmotif_is_GDQYF\"      \"Jmotif_is_GDYTF\"      \"Jmotif_is_GE*FF\"     \n",
       " [565] \"Jmotif_is_GE*YF\"      \"Jmotif_is_GEAFF\"      \"Jmotif_is_GEAFS\"     \n",
       " [568] \"Jmotif_is_GECNF\"      \"Jmotif_is_GEKYF\"      \"Jmotif_is_GELFF\"     \n",
       " [571] \"Jmotif_is_GELFL\"      \"Jmotif_is_GELFS\"      \"Jmotif_is_GELIF\"     \n",
       " [574] \"Jmotif_is_GELSF\"      \"Jmotif_is_GEMFF\"      \"Jmotif_is_GEPFF\"     \n",
       " [577] \"Jmotif_is_GEQ*F\"      \"Jmotif_is_GEQFF\"      \"Jmotif_is_GEQLF\"     \n",
       " [580] \"Jmotif_is_GEQYF\"      \"Jmotif_is_GEQYV\"      \"Jmotif_is_GEQYY\"     \n",
       " [583] \"Jmotif_is_GERFF\"      \"Jmotif_is_GETFF\"      \"Jmotif_is_GEVFF\"     \n",
       " [586] \"Jmotif_is_GEWFF\"      \"Jmotif_is_GEYTF\"      \"Jmotif_is_GFAFF\"     \n",
       " [589] \"Jmotif_is_GFQYF\"      \"Jmotif_is_GFVTL\"      \"Jmotif_is_GFYTF\"     \n",
       " [592] \"Jmotif_is_GG*TF\"      \"Jmotif_is_GGAFF\"      \"Jmotif_is_GGEFF\"     \n",
       " [595] \"Jmotif_is_GGEHF\"      \"Jmotif_is_GGEYF\"      \"Jmotif_is_GGGVF\"     \n",
       " [598] \"Jmotif_is_GGHTY\"      \"Jmotif_is_GGIVF\"      \"Jmotif_is_GGLFF\"     \n",
       " [601] \"Jmotif_is_GGLHF\"      \"Jmotif_is_GGLYF\"      \"Jmotif_is_GGQFF\"     \n",
       " [604] \"Jmotif_is_GGQLF\"      \"Jmotif_is_GGQYF\"      \"Jmotif_is_GGQYL\"     \n",
       " [607] \"Jmotif_is_GGRYF\"      \"Jmotif_is_GGSSF\"      \"Jmotif_is_GGTFF\"     \n",
       " [610] \"Jmotif_is_GGVFF\"      \"Jmotif_is_GGVID\"      \"Jmotif_is_GGYAF\"     \n",
       " [613] \"Jmotif_is_GGYTF\"      \"Jmotif_is_GGYTL\"      \"Jmotif_is_GGYTY\"     \n",
       " [616] \"Jmotif_is_GHKFF\"      \"Jmotif_is_GHTFF\"      \"Jmotif_is_GIAFF\"     \n",
       " [619] \"Jmotif_is_GIEFF\"      \"Jmotif_is_GIKEV\"      \"Jmotif_is_GIKFF\"     \n",
       " [622] \"Jmotif_is_GILHF\"      \"Jmotif_is_GIQYF\"      \"Jmotif_is_GITYF\"     \n",
       " [625] \"Jmotif_is_GIVTF\"      \"Jmotif_is_GIYTF\"      \"Jmotif_is_GKAFF\"     \n",
       " [628] \"Jmotif_is_GKLFF\"      \"Jmotif_is_GKQFF\"      \"Jmotif_is_GKQYF\"     \n",
       " [631] \"Jmotif_is_GKRYF\"      \"Jmotif_is_GKTFF\"      \"Jmotif_is_GKVYF\"     \n",
       " [634] \"Jmotif_is_GLAFF\"      \"Jmotif_is_GLAFY\"      \"Jmotif_is_GLFTF\"     \n",
       " [637] \"Jmotif_is_GLKLS\"      \"Jmotif_is_GLLFF\"      \"Jmotif_is_GLPFF\"     \n",
       " [640] \"Jmotif_is_GLQFF\"      \"Jmotif_is_GLQHF\"      \"Jmotif_is_GLQYF\"     \n",
       " [643] \"Jmotif_is_GLRFF\"      \"Jmotif_is_GLTFF\"      \"Jmotif_is_GLTSY\"     \n",
       " [646] \"Jmotif_is_GLYTF\"      \"Jmotif_is_GMAFF\"      \"Jmotif_is_GMSYF\"     \n",
       " [649] \"Jmotif_is_GNAFF\"      \"Jmotif_is_GNLFF\"      \"Jmotif_is_GNWDF\"     \n",
       " [652] \"Jmotif_is_GPAFF\"      \"Jmotif_is_GPEFF\"      \"Jmotif_is_GPGFF\"     \n",
       " [655] \"Jmotif_is_GPIHF\"      \"Jmotif_is_GPKYF\"      \"Jmotif_is_GPLFF\"     \n",
       " [658] \"Jmotif_is_GPLFI\"      \"Jmotif_is_GPLHF\"      \"Jmotif_is_GPLYF\"     \n",
       " [661] \"Jmotif_is_GPQ*F\"      \"Jmotif_is_GPQFF\"      \"Jmotif_is_GPQHF\"     \n",
       " [664] \"Jmotif_is_GPQYF\"      \"Jmotif_is_GPRFF\"      \"Jmotif_is_GPRHF\"     \n",
       " [667] \"Jmotif_is_GPWFF\"      \"Jmotif_is_GPYDF\"      \"Jmotif_is_GQAFF\"     \n",
       " [670] \"Jmotif_is_GQAYF\"      \"Jmotif_is_GQGFF\"      \"Jmotif_is_GQGGF\"     \n",
       " [673] \"Jmotif_is_GQLHF\"      \"Jmotif_is_GQPYF\"      \"Jmotif_is_GQQFF\"     \n",
       " [676] \"Jmotif_is_GQQYF\"      \"Jmotif_is_GQRFF\"      \"Jmotif_is_GQRYF\"     \n",
       " [679] \"Jmotif_is_GRAFF\"      \"Jmotif_is_GRAPH\"      \"Jmotif_is_GREYF\"     \n",
       " [682] \"Jmotif_is_GRHFF\"      \"Jmotif_is_GRKFF\"      \"Jmotif_is_GRLFF\"     \n",
       " [685] \"Jmotif_is_GRMYF\"      \"Jmotif_is_GRPNF\"      \"Jmotif_is_GRPYF\"     \n",
       " [688] \"Jmotif_is_GRQFF\"      \"Jmotif_is_GRQYF\"      \"Jmotif_is_GRRYF\"     \n",
       " [691] \"Jmotif_is_GRSFF\"      \"Jmotif_is_GRSTF\"      \"Jmotif_is_GRVGF\"     \n",
       " [694] \"Jmotif_is_GRVLF\"      \"Jmotif_is_GRYTF\"      \"Jmotif_is_GSAFF\"     \n",
       " [697] \"Jmotif_is_GSCFF\"      \"Jmotif_is_GSEFF\"      \"Jmotif_is_GSGYF\"     \n",
       " [700] \"Jmotif_is_GSKYF\"      \"Jmotif_is_GSLFF\"      \"Jmotif_is_GSLHF\"     \n",
       " [703] \"Jmotif_is_GSQFF\"      \"Jmotif_is_GSQHF\"      \"Jmotif_is_GSQYF\"     \n",
       " [706] \"Jmotif_is_GSSTF\"      \"Jmotif_is_GSYTF\"      \"Jmotif_is_GTAFF\"     \n",
       " [709] \"Jmotif_is_GTEFF\"      \"Jmotif_is_GTFFF\"      \"Jmotif_is_GTGFH\"     \n",
       " [712] \"Jmotif_is_GTGII\"      \"Jmotif_is_GTIYF\"      \"Jmotif_is_GTKFF\"     \n",
       " [715] \"Jmotif_is_GTKYF\"      \"Jmotif_is_GTLFF\"      \"Jmotif_is_GTLHF\"     \n",
       " [718] \"Jmotif_is_GTLVF\"      \"Jmotif_is_GTQ*F\"      \"Jmotif_is_GTQFF\"     \n",
       " [721] \"Jmotif_is_GTQHF\"      \"Jmotif_is_GTQSS\"      \"Jmotif_is_GTQYF\"     \n",
       " [724] \"Jmotif_is_GTQYY\"      \"Jmotif_is_GTRGF\"      \"Jmotif_is_GTTFF\"     \n",
       " [727] \"Jmotif_is_GTWGF\"      \"Jmotif_is_GVAFF\"      \"Jmotif_is_GVEFF\"     \n",
       " [730] \"Jmotif_is_GVFTF\"      \"Jmotif_is_GVGHF\"      \"Jmotif_is_GVIPF\"     \n",
       " [733] \"Jmotif_is_GVLFF\"      \"Jmotif_is_GVLTF\"      \"Jmotif_is_GVQFF\"     \n",
       " [736] \"Jmotif_is_GVQYF\"      \"Jmotif_is_GVRYF\"      \"Jmotif_is_GVSFF\"     \n",
       " [739] \"Jmotif_is_GVYTF\"      \"Jmotif_is_GWAFF\"      \"Jmotif_is_GWEFF\"     \n",
       " [742] \"Jmotif_is_GWQFF\"      \"Jmotif_is_GWQYF\"      \"Jmotif_is_GYEYF\"     \n",
       " [745] \"Jmotif_is_GYQFF\"      \"Jmotif_is_GYQYF\"      \"Jmotif_is_GYVSL\"     \n",
       " [748] \"Jmotif_is_HEAFF\"      \"Jmotif_is_HEKYF\"      \"Jmotif_is_HEQFF\"     \n",
       " [751] \"Jmotif_is_HEQYF\"      \"Jmotif_is_HEQYL\"      \"Jmotif_is_HEQYV\"     \n",
       " [754] \"Jmotif_is_HEQYY\"      \"Jmotif_is_HGAFF\"      \"Jmotif_is_HGYTF\"     \n",
       " [757] \"Jmotif_is_HHGTF\"      \"Jmotif_is_HIQYF\"      \"Jmotif_is_HKAFF\"     \n",
       " [760] \"Jmotif_is_HKQYF\"      \"Jmotif_is_HLEFF\"      \"Jmotif_is_HLVRL\"     \n",
       " [763] \"Jmotif_is_HNLHF\"      \"Jmotif_is_HNQFF\"      \"Jmotif_is_HPLHF\"     \n",
       " [766] \"Jmotif_is_HQAFF\"      \"Jmotif_is_HQPFF\"      \"Jmotif_is_HQQYF\"     \n",
       " [769] \"Jmotif_is_HQTFF\"      \"Jmotif_is_HRAFF\"      \"Jmotif_is_HRYTF\"     \n",
       " [772] \"Jmotif_is_HSLHF\"      \"Jmotif_is_HTIYF\"      \"Jmotif_is_HTQYF\"     \n",
       " [775] \"Jmotif_is_I*LFF\"      \"Jmotif_is_IAAFF\"      \"Jmotif_is_IAIYF\"     \n",
       " [778] \"Jmotif_is_IAQYF\"      \"Jmotif_is_IEAFF\"      \"Jmotif_is_IEASF\"     \n",
       " [781] \"Jmotif_is_IEKFF\"      \"Jmotif_is_IEQCV\"      \"Jmotif_is_IEQFF\"     \n",
       " [784] \"Jmotif_is_IEQYF\"      \"Jmotif_is_IEQYV\"      \"Jmotif_is_IFLTF\"     \n",
       " [787] \"Jmotif_is_IGAFF\"      \"Jmotif_is_IGNTF\"      \"Jmotif_is_IGQFF\"     \n",
       " [790] \"Jmotif_is_IGTLF\"      \"Jmotif_is_IGYTF\"      \"Jmotif_is_IIAFF\"     \n",
       " [793] \"Jmotif_is_IIQYF\"      \"Jmotif_is_IK*YF\"      \"Jmotif_is_IKAFF\"     \n",
       " [796] \"Jmotif_is_IKLFF\"      \"Jmotif_is_ILTFF\"      \"Jmotif_is_INQYF\"     \n",
       " [799] \"Jmotif_is_IPLHF\"      \"Jmotif_is_IPQHF\"      \"Jmotif_is_IPYTF\"     \n",
       " [802] \"Jmotif_is_IQAFF\"      \"Jmotif_is_IRAFF\"      \"Jmotif_is_IRPVF\"     \n",
       " [805] \"Jmotif_is_IRQFF\"      \"Jmotif_is_IRQYF\"      \"Jmotif_is_ISQYF\"     \n",
       " [808] \"Jmotif_is_ISYTF\"      \"Jmotif_is_ITIYF\"      \"Jmotif_is_ITQYF\"     \n",
       " [811] \"Jmotif_is_IVAFF\"      \"Jmotif_is_IVGFF\"      \"Jmotif_is_IWAFF\"     \n",
       " [814] \"Jmotif_is_IWLHL\"      \"Jmotif_is_K*QFF\"      \"Jmotif_is_KAAFF\"     \n",
       " [817] \"Jmotif_is_KALHF\"      \"Jmotif_is_KAQHF\"      \"Jmotif_is_KAQYF\"     \n",
       " [820] \"Jmotif_is_KC*FF\"      \"Jmotif_is_KEAFF\"      \"Jmotif_is_KELFF\"     \n",
       " [823] \"Jmotif_is_KEQFF\"      \"Jmotif_is_KEQYF\"      \"Jmotif_is_KERYF\"     \n",
       " [826] \"Jmotif_is_KGAFF\"      \"Jmotif_is_KGQYF\"      \"Jmotif_is_KGWEF\"     \n",
       " [829] \"Jmotif_is_KGYAF\"      \"Jmotif_is_KGYTF\"      \"Jmotif_is_KHHIF\"     \n",
       " [832] \"Jmotif_is_KHIYF\"      \"Jmotif_is_KIQYF\"      \"Jmotif_is_KKGFF\"     \n",
       " [835] \"Jmotif_is_KKLFF\"      \"Jmotif_is_KKQYF\"      \"Jmotif_is_KLCWP\"     \n",
       " [838] \"Jmotif_is_KNCFF\"      \"Jmotif_is_KPLHF\"      \"Jmotif_is_KPQHF\"     \n",
       " [841] \"Jmotif_is_KPQYF\"      \"Jmotif_is_KRLFF\"      \"Jmotif_is_KRPST\"     \n",
       " [844] \"Jmotif_is_KRQYF\"      \"Jmotif_is_KSLHF\"      \"Jmotif_is_KSYTF\"     \n",
       " [847] \"Jmotif_is_KTIYF\"      \"Jmotif_is_KTQYF\"      \"Jmotif_is_KTYTF\"     \n",
       " [850] \"Jmotif_is_KVLTF\"      \"Jmotif_is_KWAFF\"      \"Jmotif_is_L*QFF\"     \n",
       " [853] \"Jmotif_is_L*QYF\"      \"Jmotif_is_LAAFF\"      \"Jmotif_is_LALHF\"     \n",
       " [856] \"Jmotif_is_LAQHF\"      \"Jmotif_is_LAQYF\"      \"Jmotif_is_LARDF\"     \n",
       " [859] \"Jmotif_is_LAVYF\"      \"Jmotif_is_LDAFF\"      \"Jmotif_is_LDCTF\"     \n",
       " [862] \"Jmotif_is_LDYTF\"      \"Jmotif_is_LEAFF\"      \"Jmotif_is_LEEYF\"     \n",
       " [865] \"Jmotif_is_LELFF\"      \"Jmotif_is_LEQFF\"      \"Jmotif_is_LEQYF\"     \n",
       " [868] \"Jmotif_is_LEQYL\"      \"Jmotif_is_LEQYV\"      \"Jmotif_is_LGAFF\"     \n",
       " [871] \"Jmotif_is_LGGYF\"      \"Jmotif_is_LGKFF\"      \"Jmotif_is_LGLFF\"     \n",
       " [874] \"Jmotif_is_LGLHF\"      \"Jmotif_is_LGNLK\"      \"Jmotif_is_LGQFF\"     \n",
       " [877] \"Jmotif_is_LGQYF\"      \"Jmotif_is_LGRTF\"      \"Jmotif_is_LGSFF\"     \n",
       " [880] \"Jmotif_is_LGTRF\"      \"Jmotif_is_LGYTF\"      \"Jmotif_is_LHPST\"     \n",
       " [883] \"Jmotif_is_LIIHF\"      \"Jmotif_is_LIQHF\"      \"Jmotif_is_LKAFF\"     \n",
       " [886] \"Jmotif_is_LKLFF\"      \"Jmotif_is_LKQFF\"      \"Jmotif_is_LKQYF\"     \n",
       " [889] \"Jmotif_is_LLEYF\"      \"Jmotif_is_LLPFF\"      \"Jmotif_is_LLQYF\"     \n",
       " [892] \"Jmotif_is_LMEFF\"      \"Jmotif_is_LNLHF\"      \"Jmotif_is_LNYTF\"     \n",
       " [895] \"Jmotif_is_LPKNF\"      \"Jmotif_is_LPLHF\"      \"Jmotif_is_LPQFF\"     \n",
       " [898] \"Jmotif_is_LPQHF\"      \"Jmotif_is_LQAFF\"      \"Jmotif_is_LQQYF\"     \n",
       " [901] \"Jmotif_is_LRAFF\"      \"Jmotif_is_LRAVL\"      \"Jmotif_is_LRQFF\"     \n",
       " [904] \"Jmotif_is_LRQYF\"      \"Jmotif_is_LRSFF\"      \"Jmotif_is_LSLHF\"     \n",
       " [907] \"Jmotif_is_LSQFF\"      \"Jmotif_is_LSQHF\"      \"Jmotif_is_LSQYF\"     \n",
       " [910] \"Jmotif_is_LSVFF\"      \"Jmotif_is_LSYTF\"      \"Jmotif_is_LTAFF\"     \n",
       " [913] \"Jmotif_is_LTQHF\"      \"Jmotif_is_LTQYF\"      \"Jmotif_is_LVAFF\"     \n",
       " [916] \"Jmotif_is_LVQFF\"      \"Jmotif_is_LVSFF\"      \"Jmotif_is_LWAFF\"     \n",
       " [919] \"Jmotif_is_LWLHL\"      \"Jmotif_is_MAPTF\"      \"Jmotif_is_MAQHF\"     \n",
       " [922] \"Jmotif_is_MEAFF\"      \"Jmotif_is_MELFF\"      \"Jmotif_is_MEQFF\"     \n",
       " [925] \"Jmotif_is_MEQYF\"      \"Jmotif_is_MGAFF\"      \"Jmotif_is_MGGFF\"     \n",
       " [928] \"Jmotif_is_MGLFF\"      \"Jmotif_is_MGQYF\"      \"Jmotif_is_MGYTF\"     \n",
       " [931] \"Jmotif_is_MKKYF\"      \"Jmotif_is_MKNYF\"      \"Jmotif_is_MNYTF\"     \n",
       " [934] \"Jmotif_is_MPQHF\"      \"Jmotif_is_MQAFF\"      \"Jmotif_is_MRAFF\"     \n",
       " [937] \"Jmotif_is_MSQHF\"      \"Jmotif_is_MTQHF\"      \"Jmotif_is_MWYTF\"     \n",
       " [940] \"Jmotif_is_N*AFF\"      \"Jmotif_is_N*SFL\"      \"Jmotif_is_NAQFF\"     \n",
       " [943] \"Jmotif_is_NAQHF\"      \"Jmotif_is_NCYTF\"      \"Jmotif_is_NDQFF\"     \n",
       " [946] \"Jmotif_is_NDYTF\"      \"Jmotif_is_NE*FF\"      \"Jmotif_is_NE*YF\"     \n",
       " [949] \"Jmotif_is_NEAFF\"      \"Jmotif_is_NEGYF\"      \"Jmotif_is_NEKFF\"     \n",
       " [952] \"Jmotif_is_NELFF\"      \"Jmotif_is_NEQFF\"      \"Jmotif_is_NEQFI\"     \n",
       " [955] \"Jmotif_is_NEQFL\"      \"Jmotif_is_NEQFS\"      \"Jmotif_is_NEQFW\"     \n",
       " [958] \"Jmotif_is_NEQIF\"      \"Jmotif_is_NEQLF\"      \"Jmotif_is_NEQSF\"     \n",
       " [961] \"Jmotif_is_NEQSS\"      \"Jmotif_is_NEQYF\"      \"Jmotif_is_NEQYV\"     \n",
       " [964] \"Jmotif_is_NERFF\"      \"Jmotif_is_NFQYF\"      \"Jmotif_is_NG*TF\"     \n",
       " [967] \"Jmotif_is_NGAFF\"      \"Jmotif_is_NGLFF\"      \"Jmotif_is_NGLTF\"     \n",
       " [970] \"Jmotif_is_NGQFF\"      \"Jmotif_is_NGQHF\"      \"Jmotif_is_NGYNF\"     \n",
       " [973] \"Jmotif_is_NGYTF\"      \"Jmotif_is_NIKYF\"      \"Jmotif_is_NILYF\"     \n",
       " [976] \"Jmotif_is_NIQ*F\"      \"Jmotif_is_NIQYF\"      \"Jmotif_is_NIQYL\"     \n",
       " [979] \"Jmotif_is_NIQYS\"      \"Jmotif_is_NIRYF\"      \"Jmotif_is_NKQFF\"     \n",
       " [982] \"Jmotif_is_NKQYF\"      \"Jmotif_is_NLRAF\"      \"Jmotif_is_NNIYF\"     \n",
       " [985] \"Jmotif_is_NPLHF\"      \"Jmotif_is_NPQFF\"      \"Jmotif_is_NQAFF\"     \n",
       " [988] \"Jmotif_is_NQQFF\"      \"Jmotif_is_NQQYF\"      \"Jmotif_is_NRDTF\"     \n",
       " [991] \"Jmotif_is_NRQFF\"      \"Jmotif_is_NRQYF\"      \"Jmotif_is_NRSYF\"     \n",
       " [994] \"Jmotif_is_NRYTF\"      \"Jmotif_is_NSIYF\"      \"Jmotif_is_NSRYF\"     \n",
       " [997] \"Jmotif_is_NTIHF\"      \"Jmotif_is_NTINF\"      \"Jmotif_is_NTIYF\"     \n",
       "[1000] \"Jmotif_is_NTIYL\"      \"Jmotif_is_NTKYF\"      \"Jmotif_is_NTQYF\"     \n",
       "[1003] \"Jmotif_is_NVAFF\"      \"Jmotif_is_NVLNF\"      \"Jmotif_is_NVLTF\"     \n",
       "[1006] \"Jmotif_is_NVLTL\"      \"Jmotif_is_NVLTS\"      \"Jmotif_is_NVQTF\"     \n",
       "[1009] \"Jmotif_is_NVQYF\"      \"Jmotif_is_NVVTF\"      \"Jmotif_is_NWGFF\"     \n",
       "[1012] \"Jmotif_is_P*AFF\"      \"Jmotif_is_P*QYF\"      \"Jmotif_is_PAEYF\"     \n",
       "[1015] \"Jmotif_is_PALHF\"      \"Jmotif_is_PAQFF\"      \"Jmotif_is_PDFTF\"     \n",
       "[1018] \"Jmotif_is_PDQFF\"      \"Jmotif_is_PEAFF\"      \"Jmotif_is_PEAIF\"     \n",
       "[1021] \"Jmotif_is_PEGYF\"      \"Jmotif_is_PELFF\"      \"Jmotif_is_PEQFF\"     \n",
       "[1024] \"Jmotif_is_PEQHF\"      \"Jmotif_is_PEQYF\"      \"Jmotif_is_PFSFF\"     \n",
       "[1027] \"Jmotif_is_PGAFF\"      \"Jmotif_is_PGCTF\"      \"Jmotif_is_PGGYF\"     \n",
       "[1030] \"Jmotif_is_PGGYL\"      \"Jmotif_is_PGPFF\"      \"Jmotif_is_PGQYF\"     \n",
       "[1033] \"Jmotif_is_PGRYF\"      \"Jmotif_is_PGSYF\"      \"Jmotif_is_PGWNF\"     \n",
       "[1036] \"Jmotif_is_PGYTF\"      \"Jmotif_is_PIQHF\"      \"Jmotif_is_PKAFF\"     \n",
       "[1039] \"Jmotif_is_PKLFF\"      \"Jmotif_is_PKPFF\"      \"Jmotif_is_PKQYF\"     \n",
       "[1042] \"Jmotif_is_PLAFF\"      \"Jmotif_is_PLAYF\"      \"Jmotif_is_PLIFF\"     \n",
       "[1045] \"Jmotif_is_PLQYF\"      \"Jmotif_is_PLWYF\"      \"Jmotif_is_PNYTF\"     \n",
       "[1048] \"Jmotif_is_PPLHF\"      \"Jmotif_is_PPPHF\"      \"Jmotif_is_PPQHF\"     \n",
       "[1051] \"Jmotif_is_PPQYF\"      \"Jmotif_is_PPYTF\"      \"Jmotif_is_PQAFF\"     \n",
       "[1054] \"Jmotif_is_PQQFF\"      \"Jmotif_is_PQQYF\"      \"Jmotif_is_PRAFF\"     \n",
       "[1057] \"Jmotif_is_PREFF\"      \"Jmotif_is_PRLFF\"      \"Jmotif_is_PRYTF\"     \n",
       "[1060] \"Jmotif_is_PSQFF\"      \"Jmotif_is_PSQYF\"      \"Jmotif_is_PSYTF\"     \n",
       "[1063] \"Jmotif_is_PTGYF\"      \"Jmotif_is_PTIFF\"      \"Jmotif_is_PTLHF\"     \n",
       "[1066] \"Jmotif_is_PTQHF\"      \"Jmotif_is_PTQYF\"      \"Jmotif_is_PTQYY\"     \n",
       "[1069] \"Jmotif_is_PV*HF\"      \"Jmotif_is_PVAFF\"      \"Jmotif_is_PVYTF\"     \n",
       "[1072] \"Jmotif_is_PWPDF\"      \"Jmotif_is_Q*AVL\"      \"Jmotif_is_Q*QFF\"     \n",
       "[1075] \"Jmotif_is_QAAFF\"      \"Jmotif_is_QALHF\"      \"Jmotif_is_QAQHF\"     \n",
       "[1078] \"Jmotif_is_QAQYF\"      \"Jmotif_is_QARYF\"      \"Jmotif_is_QDKDF\"     \n",
       "[1081] \"Jmotif_is_QDLHF\"      \"Jmotif_is_QEAFF\"      \"Jmotif_is_QEQFF\"     \n",
       "[1084] \"Jmotif_is_QEQYF\"      \"Jmotif_is_QGAFF\"      \"Jmotif_is_QGGRF\"     \n",
       "[1087] \"Jmotif_is_QGHGF\"      \"Jmotif_is_QGLFF\"      \"Jmotif_is_QGNHF\"     \n",
       "[1090] \"Jmotif_is_QGPFF\"      \"Jmotif_is_QGQFF\"      \"Jmotif_is_QGQYF\"     \n",
       "[1093] \"Jmotif_is_QGSFF\"      \"Jmotif_is_QGYTF\"      \"Jmotif_is_QHQHF\"     \n",
       "[1096] \"Jmotif_is_QIQYF\"      \"Jmotif_is_QIRSI\"      \"Jmotif_is_QKAFF\"     \n",
       "[1099] \"Jmotif_is_QKLFF\"      \"Jmotif_is_QLAFF\"      \"Jmotif_is_QLKYF\"     \n",
       "[1102] \"Jmotif_is_QLQHF\"      \"Jmotif_is_QNHTF\"      \"Jmotif_is_QP*HF\"     \n",
       "[1105] \"Jmotif_is_QPKHF\"      \"Jmotif_is_QPLHF\"      \"Jmotif_is_QPQDF\"     \n",
       "[1108] \"Jmotif_is_QPQHF\"      \"Jmotif_is_QPQHI\"      \"Jmotif_is_QPQHL\"     \n",
       "[1111] \"Jmotif_is_QPQLF\"      \"Jmotif_is_QPQNF\"      \"Jmotif_is_QPQRF\"     \n",
       "[1114] \"Jmotif_is_QPQYF\"      \"Jmotif_is_QPRHF\"      \"Jmotif_is_QQAFF\"     \n",
       "[1117] \"Jmotif_is_QQEFF\"      \"Jmotif_is_QRAFF\"      \"Jmotif_is_QRPDF\"     \n",
       "[1120] \"Jmotif_is_QRQYF\"      \"Jmotif_is_QRYTF\"      \"Jmotif_is_QSAFF\"     \n",
       "[1123] \"Jmotif_is_QSQYF\"      \"Jmotif_is_QTQHF\"      \"Jmotif_is_QTQYF\"     \n",
       "[1126] \"Jmotif_is_QTYSF\"      \"Jmotif_is_QVKYF\"      \"Jmotif_is_QVPFF\"     \n",
       "[1129] \"Jmotif_is_QVQHF\"      \"Jmotif_is_QVYTF\"      \"Jmotif_is_QYLHF\"     \n",
       "[1132] \"Jmotif_is_QYYTF\"      \"Jmotif_is_R*AFF\"      \"Jmotif_is_R*QYF\"     \n",
       "[1135] \"Jmotif_is_RAAFF\"      \"Jmotif_is_RAAYF\"      \"Jmotif_is_RALHF\"     \n",
       "[1138] \"Jmotif_is_RALTF\"      \"Jmotif_is_RAQHF\"      \"Jmotif_is_RAQYF\"     \n",
       "[1141] \"Jmotif_is_RAVIF\"      \"Jmotif_is_RDQYF\"      \"Jmotif_is_RDRSF\"     \n",
       "[1144] \"Jmotif_is_RDYTF\"      \"Jmotif_is_REAFF\"      \"Jmotif_is_REKYF\"     \n",
       "[1147] \"Jmotif_is_RELFF\"      \"Jmotif_is_RELHF\"      \"Jmotif_is_RELLF\"     \n",
       "[1150] \"Jmotif_is_REQFF\"      \"Jmotif_is_REQYF\"      \"Jmotif_is_REQYL\"     \n",
       "[1153] \"Jmotif_is_REQYV\"      \"Jmotif_is_RERNF\"      \"Jmotif_is_RERYF\"     \n",
       "[1156] \"Jmotif_is_RESYF\"      \"Jmotif_is_RETYF\"      \"Jmotif_is_RGAFF\"     \n",
       "[1159] \"Jmotif_is_RGAVF\"      \"Jmotif_is_RGDTF\"      \"Jmotif_is_RGGVF\"     \n",
       "[1162] \"Jmotif_is_RGKYF\"      \"Jmotif_is_RGLFF\"      \"Jmotif_is_RGLTF\"     \n",
       "[1165] \"Jmotif_is_RGLYF\"      \"Jmotif_is_RGPYF\"      \"Jmotif_is_RGQFF\"     \n",
       "[1168] \"Jmotif_is_RGQYF\"      \"Jmotif_is_RGRFF\"      \"Jmotif_is_RGTFF\"     \n",
       "[1171] \"Jmotif_is_RGYAF\"      \"Jmotif_is_RGYTF\"      \"Jmotif_is_RHQHF\"     \n",
       "[1174] \"Jmotif_is_RHQYF\"      \"Jmotif_is_RHYTF\"      \"Jmotif_is_RIQYF\"     \n",
       "[1177] \"Jmotif_is_RKAFF\"      \"Jmotif_is_RKLFF\"      \"Jmotif_is_RKQFF\"     \n",
       "[1180] \"Jmotif_is_RKTVF\"      \"Jmotif_is_RLAFF\"      \"Jmotif_is_RLGYF\"     \n",
       "[1183] \"Jmotif_is_RLPFF\"      \"Jmotif_is_RLVFF\"      \"Jmotif_is_RMQFF\"     \n",
       "[1186] \"Jmotif_is_RNQYF\"      \"Jmotif_is_RNRYF\"      \"Jmotif_is_RPDTF\"     \n",
       "[1189] \"Jmotif_is_RPIYF\"      \"Jmotif_is_RPLHF\"      \"Jmotif_is_RPQHF\"     \n",
       "[1192] \"Jmotif_is_RPQYF\"      \"Jmotif_is_RPRYF\"      \"Jmotif_is_RPYTF\"     \n",
       "[1195] \"Jmotif_is_RQLNF\"      \"Jmotif_is_RQQYF\"      \"Jmotif_is_RQQYS\"     \n",
       "[1198] \"Jmotif_is_RRAFF\"      \"Jmotif_is_RRAHF\"      \"Jmotif_is_RRQFF\"     \n",
       "[1201] \"Jmotif_is_RRQFL\"      \"Jmotif_is_RS*TF\"      \"Jmotif_is_RSAFF\"     \n",
       "[1204] \"Jmotif_is_RSCFF\"      \"Jmotif_is_RSLHF\"      \"Jmotif_is_RSPFF\"     \n",
       "[1207] \"Jmotif_is_RSQHF\"      \"Jmotif_is_RSYTF\"      \"Jmotif_is_RTAFF\"     \n",
       "[1210] \"Jmotif_is_RTEHF\"      \"Jmotif_is_RTIYF\"      \"Jmotif_is_RTLHF\"     \n",
       "[1213] \"Jmotif_is_RTQHF\"      \"Jmotif_is_RTQYF\"      \"Jmotif_is_RTTFF\"     \n",
       "[1216] \"Jmotif_is_RVAFF\"      \"Jmotif_is_RVLGV\"      \"Jmotif_is_RVNFF\"     \n",
       "[1219] \"Jmotif_is_RVQFF\"      \"Jmotif_is_RVQYF\"      \"Jmotif_is_RVRFF\"     \n",
       "[1222] \"Jmotif_is_RVRSF\"      \"Jmotif_is_RVYTF\"      \"Jmotif_is_RWWFF\"     \n",
       "[1225] \"Jmotif_is_RYAFF\"      \"Jmotif_is_RYAVF\"      \"Jmotif_is_RYEFF\"     \n",
       "[1228] \"Jmotif_is_RYEYF\"      \"Jmotif_is_RYPYF\"      \"Jmotif_is_S*AFF\"     \n",
       "[1231] \"Jmotif_is_SALHF\"      \"Jmotif_is_SAPAF\"      \"Jmotif_is_SAPTF\"     \n",
       "[1234] \"Jmotif_is_SAQFF\"      \"Jmotif_is_SAQYF\"      \"Jmotif_is_SARIF\"     \n",
       "[1237] \"Jmotif_is_SAYTF\"      \"Jmotif_is_SDAFF\"      \"Jmotif_is_SDQFF\"     \n",
       "[1240] \"Jmotif_is_SDRYF\"      \"Jmotif_is_SDYTF\"      \"Jmotif_is_SE*YF\"     \n",
       "[1243] \"Jmotif_is_SEAFF\"      \"Jmotif_is_SELFF\"      \"Jmotif_is_SEQFF\"     \n",
       "[1246] \"Jmotif_is_SEQYF\"      \"Jmotif_is_SEQYV\"      \"Jmotif_is_SERYF\"     \n",
       "[1249] \"Jmotif_is_SFGFF\"      \"Jmotif_is_SFVHF\"      \"Jmotif_is_SFYTF\"     \n",
       "[1252] \"Jmotif_is_SGAFF\"      \"Jmotif_is_SGDDF\"      \"Jmotif_is_SGGHF\"     \n",
       "[1255] \"Jmotif_is_SGIYF\"      \"Jmotif_is_SGKYF\"      \"Jmotif_is_SGQFF\"     \n",
       "[1258] \"Jmotif_is_SGQYF\"      \"Jmotif_is_SGSFF\"      \"Jmotif_is_SGTFF\"     \n",
       "[1261] \"Jmotif_is_SGYSF\"      \"Jmotif_is_SGYTF\"      \"Jmotif_is_SGYTL\"     \n",
       "[1264] \"Jmotif_is_SHLFF\"      \"Jmotif_is_SHLHF\"      \"Jmotif_is_SIEYF\"     \n",
       "[1267] \"Jmotif_is_SIIHF\"      \"Jmotif_is_SIQFF\"      \"Jmotif_is_SIQYF\"     \n",
       "[1270] \"Jmotif_is_SIYTF\"      \"Jmotif_is_SKAFF\"      \"Jmotif_is_SKQYF\"     \n",
       "[1273] \"Jmotif_is_SLGFF\"      \"Jmotif_is_SLGSF\"      \"Jmotif_is_SLKYF\"     \n",
       "[1276] \"Jmotif_is_SLPFF\"      \"Jmotif_is_SLQFF\"      \"Jmotif_is_SLQYF\"     \n",
       "[1279] \"Jmotif_is_SLRYF\"      \"Jmotif_is_SMEYF\"      \"Jmotif_is_SMQFF\"     \n",
       "[1282] \"Jmotif_is_SMQLF\"      \"Jmotif_is_SMQYF\"      \"Jmotif_is_SPGYF\"     \n",
       "[1285] \"Jmotif_is_SPHHF\"      \"Jmotif_is_SPIHF\"      \"Jmotif_is_SPKFF\"     \n",
       "[1288] \"Jmotif_is_SPLHF\"      \"Jmotif_is_SPLHI\"      \"Jmotif_is_SPLHL\"     \n",
       "[1291] \"Jmotif_is_SPLHY\"      \"Jmotif_is_SPLNF\"      \"Jmotif_is_SPLQF\"     \n",
       "[1294] \"Jmotif_is_SPPHF\"      \"Jmotif_is_SPQHF\"      \"Jmotif_is_SPQYF\"     \n",
       "[1297] \"Jmotif_is_SPRFF\"      \"Jmotif_is_SPRYF\"      \"Jmotif_is_SPVFF\"     \n",
       "[1300] \"Jmotif_is_SPYTF\"      \"Jmotif_is_SQAFF\"      \"Jmotif_is_SQQFF\"     \n",
       "[1303] \"Jmotif_is_SQQYF\"      \"Jmotif_is_SRAFF\"      \"Jmotif_is_SREFF\"     \n",
       "[1306] \"Jmotif_is_SRGYF\"      \"Jmotif_is_SRLYF\"      \"Jmotif_is_SRRGF\"     \n",
       "[1309] \"Jmotif_is_SRWIF\"      \"Jmotif_is_SSAFF\"      \"Jmotif_is_SSARF\"     \n",
       "[1312] \"Jmotif_is_SSLHF\"      \"Jmotif_is_SSQHF\"      \"Jmotif_is_SSQYF\"     \n",
       "[1315] \"Jmotif_is_SSRES\"      \"Jmotif_is_SSRIF\"      \"Jmotif_is_SSYTF\"     \n",
       "[1318] \"Jmotif_is_STIYF\"      \"Jmotif_is_STLHF\"      \"Jmotif_is_STPSF\"     \n",
       "[1321] \"Jmotif_is_STQYF\"      \"Jmotif_is_SVAFF\"      \"Jmotif_is_SVGHF\"     \n",
       "[1324] \"Jmotif_is_SVQFF\"      \"Jmotif_is_SVQSF\"      \"Jmotif_is_SVQYF\"     \n",
       "[1327] \"Jmotif_is_SVYTF\"      \"Jmotif_is_SWLNF\"      \"Jmotif_is_SWQFF\"     \n",
       "[1330] \"Jmotif_is_SWQYF\"      \"Jmotif_is_SYVYF\"      \"Jmotif_is_TAAFF\"     \n",
       "[1333] \"Jmotif_is_TAPAF\"      \"Jmotif_is_TAQFF\"      \"Jmotif_is_TAQHF\"     \n",
       "[1336] \"Jmotif_is_TAQYF\"      \"Jmotif_is_TAYTF\"      \"Jmotif_is_TDAFF\"     \n",
       "[1339] \"Jmotif_is_TDLFF\"      \"Jmotif_is_TDQYF\"      \"Jmotif_is_TDRFF\"     \n",
       "[1342] \"Jmotif_is_TDTHF\"      \"Jmotif_is_TEACF\"      \"Jmotif_is_TEAFC\"     \n",
       "[1345] \"Jmotif_is_TEAFF\"      \"Jmotif_is_TEAFI\"      \"Jmotif_is_TEAFL\"     \n",
       "[1348] \"Jmotif_is_TEAFS\"      \"Jmotif_is_TEAFY\"      \"Jmotif_is_TEAIF\"     \n",
       "[1351] \"Jmotif_is_TEALF\"      \"Jmotif_is_TEALS\"      \"Jmotif_is_TEASF\"     \n",
       "[1354] \"Jmotif_is_TEAYF\"      \"Jmotif_is_TEDFF\"      \"Jmotif_is_TELFF\"     \n",
       "[1357] \"Jmotif_is_TEQFF\"      \"Jmotif_is_TEQYF\"      \"Jmotif_is_TETFF\"     \n",
       "[1360] \"Jmotif_is_TEVFF\"      \"Jmotif_is_TEYTF\"      \"Jmotif_is_TFWYF\"     \n",
       "[1363] \"Jmotif_is_TGAFF\"      \"Jmotif_is_TGCTF\"      \"Jmotif_is_TGEFF\"     \n",
       "[1366] \"Jmotif_is_TGEVF\"      \"Jmotif_is_TGEYF\"      \"Jmotif_is_TGNTF\"     \n",
       "[1369] \"Jmotif_is_TGPLF\"      \"Jmotif_is_TGQFF\"      \"Jmotif_is_TGQYF\"     \n",
       "[1372] \"Jmotif_is_TGSNF\"      \"Jmotif_is_TGVGF\"      \"Jmotif_is_TGYTF\"     \n",
       "[1375] \"Jmotif_is_THLYF\"      \"Jmotif_is_THYTF\"      \"Jmotif_is_TIGFF\"     \n",
       "[1378] \"Jmotif_is_TIQYF\"      \"Jmotif_is_TKAFF\"      \"Jmotif_is_TKQFF\"     \n",
       "[1381] \"Jmotif_is_TKQYF\"      \"Jmotif_is_TLAFF\"      \"Jmotif_is_TLKLS\"     \n",
       "[1384] \"Jmotif_is_TLLYF\"      \"Jmotif_is_TMDTF\"      \"Jmotif_is_TMGFF\"     \n",
       "[1387] \"Jmotif_is_TNQYF\"      \"Jmotif_is_TPAFF\"      \"Jmotif_is_TPLHF\"     \n",
       "[1390] \"Jmotif_is_TPQFF\"      \"Jmotif_is_TPQHF\"      \"Jmotif_is_TPWFF\"     \n",
       "[1393] \"Jmotif_is_TPYIL\"      \"Jmotif_is_TQAFF\"      \"Jmotif_is_TQPFF\"     \n",
       "[1396] \"Jmotif_is_TQQFF\"      \"Jmotif_is_TQQYF\"      \"Jmotif_is_TRAFF\"     \n",
       "[1399] \"Jmotif_is_TRGYF\"      \"Jmotif_is_TRIHF\"      \"Jmotif_is_TRLYF\"     \n",
       "[1402] \"Jmotif_is_TRQFF\"      \"Jmotif_is_TRQYF\"      \"Jmotif_is_TRYTF\"     \n",
       "[1405] \"Jmotif_is_TSQFF\"      \"Jmotif_is_TSQYF\"      \"Jmotif_is_TSVDF\"     \n",
       "[1408] \"Jmotif_is_TSYTF\"      \"Jmotif_is_TTAFF\"      \"Jmotif_is_TTGTF\"     \n",
       "[1411] \"Jmotif_is_TTIYF\"      \"Jmotif_is_TTQYF\"      \"Jmotif_is_TTRYF\"     \n",
       "[1414] \"Jmotif_is_TVAFF\"      \"Jmotif_is_TVDTF\"      \"Jmotif_is_TVLTF\"     \n",
       "[1417] \"Jmotif_is_TVPFF\"      \"Jmotif_is_TVQYF\"      \"Jmotif_is_TVTFF\"     \n",
       "[1420] \"Jmotif_is_TWVNF\"      \"Jmotif_is_V*AFF\"      \"Jmotif_is_VAAFF\"     \n",
       "[1423] \"Jmotif_is_VAKDF\"      \"Jmotif_is_VALFF\"      \"Jmotif_is_VALHF\"     \n",
       "[1426] \"Jmotif_is_VAQHF\"      \"Jmotif_is_VAQYF\"      \"Jmotif_is_VCLHF\"     \n",
       "[1429] \"Jmotif_is_VDYTF\"      \"Jmotif_is_VEAFF\"      \"Jmotif_is_VEASF\"     \n",
       "[1432] \"Jmotif_is_VEEFF\"      \"Jmotif_is_VELGF\"      \"Jmotif_is_VEQFF\"     \n",
       "[1435] \"Jmotif_is_VEQYF\"      \"Jmotif_is_VEQYL\"      \"Jmotif_is_VETFF\"     \n",
       "[1438] \"Jmotif_is_VFAFF\"      \"Jmotif_is_VFWYF\"      \"Jmotif_is_VG*YF\"     \n",
       "[1441] \"Jmotif_is_VGAFF\"      \"Jmotif_is_VGEFF\"      \"Jmotif_is_VGEFL\"     \n",
       "[1444] \"Jmotif_is_VGFFF\"      \"Jmotif_is_VGQFF\"      \"Jmotif_is_VGQYF\"     \n",
       "[1447] \"Jmotif_is_VGRFF\"      \"Jmotif_is_VGRYF\"      \"Jmotif_is_VGSFF\"     \n",
       "[1450] \"Jmotif_is_VGYTF\"      \"Jmotif_is_VIAFF\"      \"Jmotif_is_VIEDF\"     \n",
       "[1453] \"Jmotif_is_VIQYF\"      \"Jmotif_is_VKAFF\"      \"Jmotif_is_VKLFF\"     \n",
       "[1456] \"Jmotif_is_VKPFF\"      \"Jmotif_is_VKQFF\"      \"Jmotif_is_VKQYF\"     \n",
       "[1459] \"Jmotif_is_VLNTF\"      \"Jmotif_is_VNLHF\"      \"Jmotif_is_VPAFF\"     \n",
       "[1462] \"Jmotif_is_VPLHF\"      \"Jmotif_is_VPLYF\"      \"Jmotif_is_VPQHF\"     \n",
       "[1465] \"Jmotif_is_VPQYF\"      \"Jmotif_is_VQAFF\"      \"Jmotif_is_VQLFF\"     \n",
       "[1468] \"Jmotif_is_VQQHF\"      \"Jmotif_is_VQQYF\"      \"Jmotif_is_VRAFF\"     \n",
       "[1471] \"Jmotif_is_VRPFF\"      \"Jmotif_is_VRQFF\"      \"Jmotif_is_VRQYF\"     \n",
       "[1474] \"Jmotif_is_VRVYF\"      \"Jmotif_is_VRYTF\"      \"Jmotif_is_VSAFF\"     \n",
       "[1477] \"Jmotif_is_VSIYF\"      \"Jmotif_is_VSLYF\"      \"Jmotif_is_VSYTF\"     \n",
       "[1480] \"Jmotif_is_VTAFF\"      \"Jmotif_is_VTIYF\"      \"Jmotif_is_VTQ*F\"     \n",
       "[1483] \"Jmotif_is_VTQYF\"      \"Jmotif_is_VVAFF\"      \"Jmotif_is_VVGFF\"     \n",
       "[1486] \"Jmotif_is_VVLLF\"      \"Jmotif_is_VVQYF\"      \"Jmotif_is_W*AFF\"     \n",
       "[1489] \"Jmotif_is_WAAFF\"      \"Jmotif_is_WAIYF\"      \"Jmotif_is_WAQYF\"     \n",
       "[1492] \"Jmotif_is_WEAFF\"      \"Jmotif_is_WELFF\"      \"Jmotif_is_WEQFF\"     \n",
       "[1495] \"Jmotif_is_WEQYF\"      \"Jmotif_is_WEQYV\"      \"Jmotif_is_WGAFF\"     \n",
       "[1498] \"Jmotif_is_WGLFF\"      \"Jmotif_is_WGQFF\"      \"Jmotif_is_WGQYF\"     \n",
       "[1501] \"Jmotif_is_WGYNF\"      \"Jmotif_is_WGYTF\"      \"Jmotif_is_WIAFF\"     \n",
       "[1504] \"Jmotif_is_WKLFF\"      \"Jmotif_is_WPLHF\"      \"Jmotif_is_WPQHF\"     \n",
       "[1507] \"Jmotif_is_WSYTF\"      \"Jmotif_is_WTLHF\"      \"Jmotif_is_WTQHF\"     \n",
       "[1510] \"Jmotif_is_WTQYF\"      \"Jmotif_is_WVGYF\"      \"Jmotif_is_WWHTF\"     \n",
       "[1513] \"Jmotif_is_Y*AYF\"      \"Jmotif_is_Y*QYF\"      \"Jmotif_is_YAPSF\"     \n",
       "[1516] \"Jmotif_is_YAQYF\"      \"Jmotif_is_YCYTF\"      \"Jmotif_is_YDQYF\"     \n",
       "[1519] \"Jmotif_is_YDYTF\"      \"Jmotif_is_YDYTL\"      \"Jmotif_is_YE*YF\"     \n",
       "[1522] \"Jmotif_is_YEAFF\"      \"Jmotif_is_YEEYF\"      \"Jmotif_is_YEKYF\"     \n",
       "[1525] \"Jmotif_is_YELFF\"      \"Jmotif_is_YELYF\"      \"Jmotif_is_YEQ*F\"     \n",
       "[1528] \"Jmotif_is_YEQCF\"      \"Jmotif_is_YEQDF\"      \"Jmotif_is_YEQFF\"     \n",
       "[1531] \"Jmotif_is_YEQFL\"      \"Jmotif_is_YEQHF\"      \"Jmotif_is_YEQNF\"     \n",
       "[1534] \"Jmotif_is_YEQYF\"      \"Jmotif_is_YEQYI\"      \"Jmotif_is_YEQYL\"     \n",
       "[1537] \"Jmotif_is_YEQYS\"      \"Jmotif_is_YEQYV\"      \"Jmotif_is_YEQYY\"     \n",
       "[1540] \"Jmotif_is_YFYSF\"      \"Jmotif_is_YG*TF\"      \"Jmotif_is_YGAFF\"     \n",
       "[1543] \"Jmotif_is_YGGTF\"      \"Jmotif_is_YGHTF\"      \"Jmotif_is_YGNTF\"     \n",
       "[1546] \"Jmotif_is_YGQYF\"      \"Jmotif_is_YGSTF\"      \"Jmotif_is_YGYNF\"     \n",
       "[1549] \"Jmotif_is_YGYSF\"      \"Jmotif_is_YGYTF\"      \"Jmotif_is_YGYTI\"     \n",
       "[1552] \"Jmotif_is_YGYTL\"      \"Jmotif_is_YGYTS\"      \"Jmotif_is_YGYTV\"     \n",
       "[1555] \"Jmotif_is_YIQYF\"      \"Jmotif_is_YKQYF\"      \"Jmotif_is_YLQYF\"     \n",
       "[1558] \"Jmotif_is_YLTHF\"      \"Jmotif_is_YNEQF\"      \"Jmotif_is_YPLHF\"     \n",
       "[1561] \"Jmotif_is_YPQFF\"      \"Jmotif_is_YQQYF\"      \"Jmotif_is_YQRIF\"     \n",
       "[1564] \"Jmotif_is_YRAFF\"      \"Jmotif_is_YRYTF\"      \"Jmotif_is_YSLHF\"     \n",
       "[1567] \"Jmotif_is_YSQYF\"      \"Jmotif_is_YSYTF\"      \"Jmotif_is_YTIYF\"     \n",
       "[1570] \"Jmotif_is_YTLHF\"      \"Jmotif_is_YTQFF\"      \"Jmotif_is_YTQYF\"     \n",
       "[1573] \"Jmotif_is_YTYTF\"      \"Jmotif_is_YVYTF\"      \"length_is_12\"        \n",
       "[1576] \"length_is_13\"         \"length_is_14\"         \"length_is_15\"        \n",
       "[1579] \"length_is_16\"         \"length_is_17\"         \"p107_is_A\"           \n",
       "[1582] \"p107_is_C\"            \"p107_is_D\"            \"p107_is_E\"           \n",
       "[1585] \"p107_is_F\"            \"p107_is_G\"            \"p107_is_H\"           \n",
       "[1588] \"p107_is_I\"            \"p107_is_K\"            \"p107_is_L\"           \n",
       "[1591] \"p107_is_M\"            \"p107_is_N\"            \"p107_is_P\"           \n",
       "[1594] \"p107_is_Q\"            \"p107_is_R\"            \"p107_is_S\"           \n",
       "[1597] \"p107_is_T\"            \"p107_is_V\"            \"p107_is_W\"           \n",
       "[1600] \"p107_is_Y\"            \"p108_is_A\"            \"p108_is_C\"           \n",
       "[1603] \"p108_is_D\"            \"p108_is_E\"            \"p108_is_F\"           \n",
       "[1606] \"p108_is_G\"            \"p108_is_H\"            \"p108_is_I\"           \n",
       "[1609] \"p108_is_K\"            \"p108_is_L\"            \"p108_is_M\"           \n",
       "[1612] \"p108_is_N\"            \"p108_is_P\"            \"p108_is_Q\"           \n",
       "[1615] \"p108_is_R\"            \"p108_is_S\"            \"p108_is_T\"           \n",
       "[1618] \"p108_is_V\"            \"p108_is_W\"            \"p108_is_Y\"           \n",
       "[1621] \"p109_is_A\"            \"p109_is_C\"            \"p109_is_D\"           \n",
       "[1624] \"p109_is_E\"            \"p109_is_F\"            \"p109_is_G\"           \n",
       "[1627] \"p109_is_H\"            \"p109_is_I\"            \"p109_is_K\"           \n",
       "[1630] \"p109_is_L\"            \"p109_is_M\"            \"p109_is_N\"           \n",
       "[1633] \"p109_is_P\"            \"p109_is_Q\"            \"p109_is_R\"           \n",
       "[1636] \"p109_is_S\"            \"p109_is_T\"            \"p109_is_V\"           \n",
       "[1639] \"p109_is_W\"            \"p109_is_Y\"            \"p110_is_A\"           \n",
       "[1642] \"p110_is_C\"            \"p110_is_D\"            \"p110_is_E\"           \n",
       "[1645] \"p110_is_F\"            \"p110_is_G\"            \"p110_is_H\"           \n",
       "[1648] \"p110_is_I\"            \"p110_is_K\"            \"p110_is_L\"           \n",
       "[1651] \"p110_is_M\"            \"p110_is_N\"            \"p110_is_P\"           \n",
       "[1654] \"p110_is_Q\"            \"p110_is_R\"            \"p110_is_S\"           \n",
       "[1657] \"p110_is_T\"            \"p110_is_V\"            \"p110_is_W\"           \n",
       "[1660] \"p110_is_Y\"            \"p111_is_A\"            \"p111_is_C\"           \n",
       "[1663] \"p111_is_D\"            \"p111_is_E\"            \"p111_is_F\"           \n",
       "[1666] \"p111_is_G\"            \"p111_is_H\"            \"p111_is_I\"           \n",
       "[1669] \"p111_is_K\"            \"p111_is_L\"            \"p111_is_M\"           \n",
       "[1672] \"p111_is_N\"            \"p111_is_P\"            \"p111_is_Q\"           \n",
       "[1675] \"p111_is_R\"            \"p111_is_S\"            \"p111_is_T\"           \n",
       "[1678] \"p111_is_V\"            \"p111_is_W\"            \"p111_is_Y\"           \n",
       "[1681] \"p111.1_is_A\"          \"p111.1_is_C\"          \"p111.1_is_D\"         \n",
       "[1684] \"p111.1_is_E\"          \"p111.1_is_F\"          \"p111.1_is_G\"         \n",
       "[1687] \"p111.1_is_H\"          \"p111.1_is_I\"          \"p111.1_is_K\"         \n",
       "[1690] \"p111.1_is_L\"          \"p111.1_is_M\"          \"p111.1_is_N\"         \n",
       "[1693] \"p111.1_is_P\"          \"p111.1_is_Q\"          \"p111.1_is_R\"         \n",
       "[1696] \"p111.1_is_S\"          \"p111.1_is_T\"          \"p111.1_is_V\"         \n",
       "[1699] \"p111.1_is_W\"          \"p111.1_is_Y\"          \"p112.1_is_A\"         \n",
       "[1702] \"p112.1_is_C\"          \"p112.1_is_D\"          \"p112.1_is_E\"         \n",
       "[1705] \"p112.1_is_F\"          \"p112.1_is_G\"          \"p112.1_is_H\"         \n",
       "[1708] \"p112.1_is_I\"          \"p112.1_is_K\"          \"p112.1_is_L\"         \n",
       "[1711] \"p112.1_is_M\"          \"p112.1_is_N\"          \"p112.1_is_P\"         \n",
       "[1714] \"p112.1_is_Q\"          \"p112.1_is_R\"          \"p112.1_is_S\"         \n",
       "[1717] \"p112.1_is_T\"          \"p112.1_is_V\"          \"p112.1_is_W\"         \n",
       "[1720] \"p112.1_is_Y\"          \"p112_is_A\"            \"p112_is_C\"           \n",
       "[1723] \"p112_is_D\"            \"p112_is_E\"            \"p112_is_F\"           \n",
       "[1726] \"p112_is_G\"            \"p112_is_H\"            \"p112_is_I\"           \n",
       "[1729] \"p112_is_K\"            \"p112_is_L\"            \"p112_is_M\"           \n",
       "[1732] \"p112_is_N\"            \"p112_is_P\"            \"p112_is_Q\"           \n",
       "[1735] \"p112_is_R\"            \"p112_is_S\"            \"p112_is_T\"           \n",
       "[1738] \"p112_is_V\"            \"p112_is_W\"            \"p112_is_Y\"           \n",
       "[1741] \"p113_is_A\"            \"p113_is_C\"            \"p113_is_D\"           \n",
       "[1744] \"p113_is_E\"            \"p113_is_F\"            \"p113_is_G\"           \n",
       "[1747] \"p113_is_H\"            \"p113_is_I\"            \"p113_is_K\"           \n",
       "[1750] \"p113_is_L\"            \"p113_is_M\"            \"p113_is_N\"           \n",
       "[1753] \"p113_is_P\"            \"p113_is_Q\"            \"p113_is_R\"           \n",
       "[1756] \"p113_is_S\"            \"p113_is_T\"            \"p113_is_V\"           \n",
       "[1759] \"p113_is_W\"            \"p113_is_Y\"            \"p114_is_A\"           \n",
       "[1762] \"p114_is_C\"            \"p114_is_D\"            \"p114_is_E\"           \n",
       "[1765] \"p114_is_F\"            \"p114_is_G\"            \"p114_is_H\"           \n",
       "[1768] \"p114_is_I\"            \"p114_is_K\"            \"p114_is_L\"           \n",
       "[1771] \"p114_is_M\"            \"p114_is_N\"            \"p114_is_P\"           \n",
       "[1774] \"p114_is_Q\"            \"p114_is_R\"            \"p114_is_S\"           \n",
       "[1777] \"p114_is_T\"            \"p114_is_V\"            \"p114_is_W\"           \n",
       "[1780] \"p114_is_Y\"            \"HLA_A02:01:01\"        \"HLA_A01:01:01\"       \n",
       "[1783] \"HLA_A11:01:01\"        \"HLA_A26:01:01\"        \"HLA_A31:01:02\"       \n",
       "[1786] \"HLA_A03:01:01\"        \"HLA_A02:05:01\"        \"HLA_A23:01:01\"       \n",
       "[1789] \"HLA_A24:02:01\"        \"HLA_A30:01:01\"        \"HLA_A25:01:01\"       \n",
       "[1792] \"HLA_A68:01:02\"        \"HLA_A33:03:01\"        \"HLA_A68:01:01\"       \n",
       "[1795] \"HLA_A29:02:01\"        \"HLA_A30:02:01\"        \"HLA_B35:01:01\"       \n",
       "[1798] \"HLA_B07:02:01\"        \"HLA_B13:02:01\"        \"HLA_B35:03:01\"       \n",
       "[1801] \"HLA_B38:01:01\"        \"HLA_B18:01:01\"        \"HLA_B27:05:02\"       \n",
       "[1804] \"HLA_B42:01:01\"        \"HLA_B08:01:01\"        \"HLA_B15:03:01\"       \n",
       "[1807] \"HLA_B15:01:01\"        \"HLA_B45:01:01\"        \"HLA_B40:01:02\"       \n",
       "[1810] \"HLA_B51:01:01\"        \"HLA_B44:03:01\"        \"HLA_B44:02:01\"       \n",
       "[1813] \"HLA_B53:01:01\"        \"HLA_B49:01:01\"        \"HLA_B55:01:01\"       \n",
       "[1816] \"HLA_B37:01:01\"        \"HLA_B57:01:01\"        \"HLA_C04:01:01\"       \n",
       "[1819] \"HLA_C07:02:01\"        \"HLA_C07:01:01\"        \"HLA_C05:01:01\"       \n",
       "[1822] \"HLA_C07:04:01\"        \"HLA_C03:04:01\"        \"HLA_C02:02:02\"       \n",
       "[1825] \"HLA_C12:03:01\"        \"HLA_C03:03:01\"        \"HLA_C06:02:01\"       \n",
       "[1828] \"HLA_C01:02:01\"        \"HLA_C02:10:01\"        \"HLA_C16:01:01\"       \n",
       "[1831] \"HLA_C14:02:01\"        \"HLA_C17:01:01\"        \"HLA_DPA101:03:01\"    \n",
       "[1834] \"HLA_DPA102:01:01\"     \"HLA_DPA102:02:02\"     \"HLA_DPA102:07:01\"    \n",
       "[1837] \"HLA_DPB101:01:01\"     \"HLA_DPB103:01:01\"     \"HLA_DPB104:01:01\"    \n",
       "[1840] \"HLA_DPB102:01:02\"     \"HLA_DPB104:02:01\"     \"HLA_DPB101:01:02\"    \n",
       "[1843] \"HLA_DPB113:01:01\"     \"HLA_DPB119:01:01\"     \"HLA_DPB123:01:01\"    \n",
       "[1846] \"HLA_DPB1104:01:01\"    \"HLA_DPB1105:01:01\"    \"HLA_DPB110:01:01\"    \n",
       "[1849] \"HLA_DPB117:01:01\"     \"HLA_DPB105:01:01\"     \"HLA_DPB106:01:01\"    \n",
       "[1852] \"HLA_DPB120:01:01\"     \"HLA_DQA101:02:01\"     \"HLA_DQA105:01:01\"    \n",
       "[1855] \"HLA_DQA101:01:02\"     \"HLA_DQA102:01:01\"     \"HLA_DQA101:01:01\"    \n",
       "[1858] \"HLA_DQA101:03:01\"     \"HLA_DQA103:03:01\"     \"HLA_DQA103:01:01\"    \n",
       "[1861] \"HLA_DQA104:01:01\"     \"HLA_DQA105:05:01\"     \"HLA_DQA101:02:02\"    \n",
       "[1864] \"HLA_DQA101:04:01\"     \"HLA_DQA103:02:01\"     \"HLA_DQB103:19:01\"    \n",
       "[1867] \"HLA_DQB102:01:01\"     \"HLA_DQB103:02:01\"     \"HLA_DQB105:02:01\"    \n",
       "[1870] \"HLA_DQB104:02:01\"     \"HLA_DQB103:03:02\"     \"HLA_DQB102:02:01\"    \n",
       "[1873] \"HLA_DQB105:01:01\"     \"HLA_DQB103:01:01\"     \"HLA_DQB106:02:01\"    \n",
       "[1876] \"HLA_DQB105:03:01\"     \"HLA_DQB106:04:01\"     \"HLA_DQB106:03:01\"    \n",
       "[1879] \"HLA_DQB106:01:01\"     \"HLA_DQB106:09:01\"     \"HLA_DRB113:02:01\"    \n",
       "[1882] \"HLA_DRB103:01:01\"     \"HLA_DRB101:02:01\"     \"HLA_DRB115:01:01\"    \n",
       "[1885] \"HLA_DRB101:01:01\"     \"HLA_DRB104:07:01\"     \"HLA_DRB104:02:01\"    \n",
       "[1888] \"HLA_DRB108:01:01\"     \"HLA_DRB109:01:02\"     \"HLA_DRB107:01:01\"    \n",
       "[1891] \"HLA_DRB104:01:01\"     \"HLA_DRB104:04:01\"     \"HLA_DRB103:02:01\"    \n",
       "[1894] \"HLA_DRB112:01:01\"     \"HLA_DRB104:05:01\"     \"HLA_DRB111:01:01\"    \n",
       "[1897] \"HLA_DRB114:54:01\"     \"HLA_DRB113:01:01\"     \"HLA_DRB116:01:01\"    \n",
       "[1900] \"HLA_DRB115:02:01\"     \"HLA_DRB116:02:01\"     \"HLA_DRB111:01:02\"    \n",
       "[1903] \"HLA_DRB302:02:01\"     \"HLA_DRB301:01:02\"     \"HLA_DRB501:01:01\"    \n",
       "[1906] \"HLA_DRB401:03:01\"     \"HLA_DRB303:01:01\"     \"HLA_DRB401:01:01\"    \n",
       "[1909] \"HLA_DRB301:62:01\"     \"HLA_DRB401:03:02\"     \"HLA_DRB502:02:01\"    \n",
       "[1912] \"HLA_DRB501:02:01\"     \"HLA_DRB401:03:01:02N\""
      ]
     },
     "metadata": {},
     "output_type": "display_data"
    }
   ],
   "source": [
    "colnames(feat_dat_num)"
   ]
  },
  {
   "cell_type": "code",
   "execution_count": 70,
   "metadata": {
    "vscode": {
     "languageId": "r"
    }
   },
   "outputs": [],
   "source": [
    "readr::write_rds( feat_dat_num[grepl(\"PBMC\", rownames(feat_dat_num)),], paste0(h4hpath, \"analysis/ML/\", \"int_pbmc_flow_features.rds\") )\n",
    "readr::write_rds( meta_dat[grepl(\"PBMC\", rownames(meta_dat)),], paste0(h4hpath, \"analysis/ML/\", \"int_pbmc_metadata.rds\") )\n",
    "\n",
    "readr::write_rds( feat_dat_num[grepl(\"cfDNA\", rownames(feat_dat_num)),], paste0(h4hpath, \"analysis/ML/\", \"int_cfdna_flow_features.rds\") )\n",
    "readr::write_rds( meta_dat[grepl(\"cfDNA\", rownames(meta_dat)),], paste0(h4hpath, \"analysis/ML/\", \"int_cfdna_metadata.rds\") )"
   ]
  },
  {
   "cell_type": "code",
   "execution_count": 126,
   "metadata": {
    "vscode": {
     "languageId": "r"
    }
   },
   "outputs": [],
   "source": [
    "flowcols <- c('ATC','Age','EM','CM','Naive','SCM','TE','PD1','LAG3','TIM3')"
   ]
  },
  {
   "cell_type": "code",
   "execution_count": 72,
   "metadata": {
    "vscode": {
     "languageId": "r"
    }
   },
   "outputs": [],
   "source": [
    "# flow only\n",
    "readr::write_rds( feat_dat_num[grepl(\"PBMC\", rownames(feat_dat_num)), flowcols], paste0(h4hpath, \"analysis/ML/\", \"int_pbmc_flowonly.rds\") )\n",
    "readr::write_rds( feat_dat_num[grepl(\"cfDNA\", rownames(feat_dat_num)), flowcols], paste0(h4hpath, \"analysis/ML/\", \"int_cfdna_flowonly.rds\") )"
   ]
  },
  {
   "cell_type": "code",
   "execution_count": 127,
   "metadata": {
    "vscode": {
     "languageId": "r"
    }
   },
   "outputs": [],
   "source": [
    "# TCR + HLA\n",
    "readr::write_rds(feat_dat_num[\n",
    "    grepl(\"PBMC\", rownames(feat_dat_num)),\n",
    "    which(!colnames(feat_dat_num) %in% flowcols)\n",
    "], paste0(h4hpath, \"analysis/ML/\", \"int_pbmc_TCR_HLA.rds\"))\n",
    "readr::write_rds(feat_dat_num[\n",
    "    grepl(\"cfDNA\", rownames(feat_dat_num)),\n",
    "    which(!colnames(feat_dat_num) %in% flowcols)\n",
    "], paste0(h4hpath, \"analysis/ML/\", \"int_cfdna_TCR_HLA.rds\"))\n"
   ]
  },
  {
   "cell_type": "code",
   "execution_count": 128,
   "metadata": {
    "vscode": {
     "languageId": "r"
    }
   },
   "outputs": [
    {
     "data": {
      "text/html": [
       "<table class=\"dataframe\">\n",
       "<caption>A data.frame: 6 x 1903</caption>\n",
       "<thead>\n",
       "\t<tr><th></th><th scope=col>cloneCount</th><th scope=col>cloneFraction</th><th scope=col>length</th><th scope=col>perc_mid_A</th><th scope=col>perc_mid_C</th><th scope=col>perc_mid_D</th><th scope=col>perc_mid_E</th><th scope=col>perc_mid_F</th><th scope=col>perc_mid_G</th><th scope=col>perc_mid_H</th><th scope=col>...</th><th scope=col>HLA_DRB301:01:02</th><th scope=col>HLA_DRB501:01:01</th><th scope=col>HLA_DRB401:03:01</th><th scope=col>HLA_DRB303:01:01</th><th scope=col>HLA_DRB401:01:01</th><th scope=col>HLA_DRB301:62:01</th><th scope=col>HLA_DRB401:03:02</th><th scope=col>HLA_DRB502:02:01</th><th scope=col>HLA_DRB501:02:01</th><th scope=col>HLA_DRB401:03:01:02N</th></tr>\n",
       "\t<tr><th></th><th scope=col>&lt;int&gt;</th><th scope=col>&lt;dbl&gt;</th><th scope=col>&lt;int&gt;</th><th scope=col>&lt;dbl&gt;</th><th scope=col>&lt;dbl&gt;</th><th scope=col>&lt;dbl&gt;</th><th scope=col>&lt;dbl&gt;</th><th scope=col>&lt;dbl&gt;</th><th scope=col>&lt;dbl&gt;</th><th scope=col>&lt;dbl&gt;</th><th scope=col>...</th><th scope=col>&lt;int&gt;</th><th scope=col>&lt;int&gt;</th><th scope=col>&lt;int&gt;</th><th scope=col>&lt;int&gt;</th><th scope=col>&lt;int&gt;</th><th scope=col>&lt;int&gt;</th><th scope=col>&lt;int&gt;</th><th scope=col>&lt;int&gt;</th><th scope=col>&lt;int&gt;</th><th scope=col>&lt;int&gt;</th></tr>\n",
       "</thead>\n",
       "<tbody>\n",
       "\t<tr><th scope=row>CHP_323-03_cfDNA_CASSQGTEGGYTF</th><td>7047</td><td>0.06883248</td><td>13</td><td> 0</td><td>0</td><td> 0</td><td> 0.00000</td><td> 0.00000</td><td>33.33333</td><td>0</td><td>...</td><td>0</td><td>0</td><td>1</td><td>0</td><td>0</td><td>0</td><td>0</td><td>0</td><td>0</td><td>0</td></tr>\n",
       "\t<tr><th scope=row>CHP_323-03_cfDNA_CSARGRGKGADTQYF</th><td>5287</td><td>0.05164145</td><td>15</td><td> 0</td><td>0</td><td> 0</td><td> 0.00000</td><td> 0.00000</td><td>60.00000</td><td>0</td><td>...</td><td>0</td><td>0</td><td>1</td><td>0</td><td>0</td><td>0</td><td>0</td><td>0</td><td>0</td><td>0</td></tr>\n",
       "\t<tr><th scope=row>CHP_323-03_cfDNA_CAISDGQDTDTQYF</th><td>3884</td><td>0.03793747</td><td>14</td><td> 0</td><td>0</td><td>50</td><td> 0.00000</td><td> 0.00000</td><td>25.00000</td><td>0</td><td>...</td><td>0</td><td>0</td><td>1</td><td>0</td><td>0</td><td>0</td><td>0</td><td>0</td><td>0</td><td>0</td></tr>\n",
       "\t<tr><th scope=row>CHP_323-03_cfDNA_CASSQEGF_TYSPLHF</th><td>3542</td><td>0.03459694</td><td>16</td><td> 0</td><td>0</td><td> 0</td><td>16.66667</td><td>16.66667</td><td>16.66667</td><td>0</td><td>...</td><td>0</td><td>0</td><td>1</td><td>0</td><td>0</td><td>0</td><td>0</td><td>0</td><td>0</td><td>0</td></tr>\n",
       "\t<tr><th scope=row>CHP_323-03_cfDNA_CASSPSNTEAFF</th><td>3533</td><td>0.03450903</td><td>12</td><td> 0</td><td>0</td><td> 0</td><td> 0.00000</td><td> 0.00000</td><td> 0.00000</td><td>0</td><td>...</td><td>0</td><td>0</td><td>1</td><td>0</td><td>0</td><td>0</td><td>0</td><td>0</td><td>0</td><td>0</td></tr>\n",
       "\t<tr><th scope=row>CHP_323-03_cfDNA_CASSFAG_GDTQYF</th><td>3332</td><td>0.03254574</td><td>14</td><td>25</td><td>0</td><td> 0</td><td> 0.00000</td><td>25.00000</td><td>25.00000</td><td>0</td><td>...</td><td>0</td><td>0</td><td>1</td><td>0</td><td>0</td><td>0</td><td>0</td><td>0</td><td>0</td><td>0</td></tr>\n",
       "</tbody>\n",
       "</table>\n"
      ],
      "text/latex": [
       "A data.frame: 6 x 1903\n",
       "\\begin{tabular}{r|lllllllllllllllllllll}\n",
       "  & cloneCount & cloneFraction & length & perc\\_mid\\_A & perc\\_mid\\_C & perc\\_mid\\_D & perc\\_mid\\_E & perc\\_mid\\_F & perc\\_mid\\_G & perc\\_mid\\_H & ... & HLA\\_DRB301:01:02 & HLA\\_DRB501:01:01 & HLA\\_DRB401:03:01 & HLA\\_DRB303:01:01 & HLA\\_DRB401:01:01 & HLA\\_DRB301:62:01 & HLA\\_DRB401:03:02 & HLA\\_DRB502:02:01 & HLA\\_DRB501:02:01 & HLA\\_DRB401:03:01:02N\\\\\n",
       "  & <int> & <dbl> & <int> & <dbl> & <dbl> & <dbl> & <dbl> & <dbl> & <dbl> & <dbl> & ... & <int> & <int> & <int> & <int> & <int> & <int> & <int> & <int> & <int> & <int>\\\\\n",
       "\\hline\n",
       "\tCHP\\_323-03\\_cfDNA\\_CASSQGTEGGYTF & 7047 & 0.06883248 & 13 &  0 & 0 &  0 &  0.00000 &  0.00000 & 33.33333 & 0 & ... & 0 & 0 & 1 & 0 & 0 & 0 & 0 & 0 & 0 & 0\\\\\n",
       "\tCHP\\_323-03\\_cfDNA\\_CSARGRGKGADTQYF & 5287 & 0.05164145 & 15 &  0 & 0 &  0 &  0.00000 &  0.00000 & 60.00000 & 0 & ... & 0 & 0 & 1 & 0 & 0 & 0 & 0 & 0 & 0 & 0\\\\\n",
       "\tCHP\\_323-03\\_cfDNA\\_CAISDGQDTDTQYF & 3884 & 0.03793747 & 14 &  0 & 0 & 50 &  0.00000 &  0.00000 & 25.00000 & 0 & ... & 0 & 0 & 1 & 0 & 0 & 0 & 0 & 0 & 0 & 0\\\\\n",
       "\tCHP\\_323-03\\_cfDNA\\_CASSQEGF\\_TYSPLHF & 3542 & 0.03459694 & 16 &  0 & 0 &  0 & 16.66667 & 16.66667 & 16.66667 & 0 & ... & 0 & 0 & 1 & 0 & 0 & 0 & 0 & 0 & 0 & 0\\\\\n",
       "\tCHP\\_323-03\\_cfDNA\\_CASSPSNTEAFF & 3533 & 0.03450903 & 12 &  0 & 0 &  0 &  0.00000 &  0.00000 &  0.00000 & 0 & ... & 0 & 0 & 1 & 0 & 0 & 0 & 0 & 0 & 0 & 0\\\\\n",
       "\tCHP\\_323-03\\_cfDNA\\_CASSFAG\\_GDTQYF & 3332 & 0.03254574 & 14 & 25 & 0 &  0 &  0.00000 & 25.00000 & 25.00000 & 0 & ... & 0 & 0 & 1 & 0 & 0 & 0 & 0 & 0 & 0 & 0\\\\\n",
       "\\end{tabular}\n"
      ],
      "text/markdown": [
       "\n",
       "A data.frame: 6 x 1903\n",
       "\n",
       "| <!--/--> | cloneCount &lt;int&gt; | cloneFraction &lt;dbl&gt; | length &lt;int&gt; | perc_mid_A &lt;dbl&gt; | perc_mid_C &lt;dbl&gt; | perc_mid_D &lt;dbl&gt; | perc_mid_E &lt;dbl&gt; | perc_mid_F &lt;dbl&gt; | perc_mid_G &lt;dbl&gt; | perc_mid_H &lt;dbl&gt; | ... ... | HLA_DRB301:01:02 &lt;int&gt; | HLA_DRB501:01:01 &lt;int&gt; | HLA_DRB401:03:01 &lt;int&gt; | HLA_DRB303:01:01 &lt;int&gt; | HLA_DRB401:01:01 &lt;int&gt; | HLA_DRB301:62:01 &lt;int&gt; | HLA_DRB401:03:02 &lt;int&gt; | HLA_DRB502:02:01 &lt;int&gt; | HLA_DRB501:02:01 &lt;int&gt; | HLA_DRB401:03:01:02N &lt;int&gt; |\n",
       "|---|---|---|---|---|---|---|---|---|---|---|---|---|---|---|---|---|---|---|---|---|---|\n",
       "| CHP_323-03_cfDNA_CASSQGTEGGYTF | 7047 | 0.06883248 | 13 |  0 | 0 |  0 |  0.00000 |  0.00000 | 33.33333 | 0 | ... | 0 | 0 | 1 | 0 | 0 | 0 | 0 | 0 | 0 | 0 |\n",
       "| CHP_323-03_cfDNA_CSARGRGKGADTQYF | 5287 | 0.05164145 | 15 |  0 | 0 |  0 |  0.00000 |  0.00000 | 60.00000 | 0 | ... | 0 | 0 | 1 | 0 | 0 | 0 | 0 | 0 | 0 | 0 |\n",
       "| CHP_323-03_cfDNA_CAISDGQDTDTQYF | 3884 | 0.03793747 | 14 |  0 | 0 | 50 |  0.00000 |  0.00000 | 25.00000 | 0 | ... | 0 | 0 | 1 | 0 | 0 | 0 | 0 | 0 | 0 | 0 |\n",
       "| CHP_323-03_cfDNA_CASSQEGF_TYSPLHF | 3542 | 0.03459694 | 16 |  0 | 0 |  0 | 16.66667 | 16.66667 | 16.66667 | 0 | ... | 0 | 0 | 1 | 0 | 0 | 0 | 0 | 0 | 0 | 0 |\n",
       "| CHP_323-03_cfDNA_CASSPSNTEAFF | 3533 | 0.03450903 | 12 |  0 | 0 |  0 |  0.00000 |  0.00000 |  0.00000 | 0 | ... | 0 | 0 | 1 | 0 | 0 | 0 | 0 | 0 | 0 | 0 |\n",
       "| CHP_323-03_cfDNA_CASSFAG_GDTQYF | 3332 | 0.03254574 | 14 | 25 | 0 |  0 |  0.00000 | 25.00000 | 25.00000 | 0 | ... | 0 | 0 | 1 | 0 | 0 | 0 | 0 | 0 | 0 | 0 |\n",
       "\n"
      ],
      "text/plain": [
       "                                  cloneCount cloneFraction length perc_mid_A\n",
       "CHP_323-03_cfDNA_CASSQGTEGGYTF    7047       0.06883248    13      0        \n",
       "CHP_323-03_cfDNA_CSARGRGKGADTQYF  5287       0.05164145    15      0        \n",
       "CHP_323-03_cfDNA_CAISDGQDTDTQYF   3884       0.03793747    14      0        \n",
       "CHP_323-03_cfDNA_CASSQEGF_TYSPLHF 3542       0.03459694    16      0        \n",
       "CHP_323-03_cfDNA_CASSPSNTEAFF     3533       0.03450903    12      0        \n",
       "CHP_323-03_cfDNA_CASSFAG_GDTQYF   3332       0.03254574    14     25        \n",
       "                                  perc_mid_C perc_mid_D perc_mid_E perc_mid_F\n",
       "CHP_323-03_cfDNA_CASSQGTEGGYTF    0           0          0.00000    0.00000  \n",
       "CHP_323-03_cfDNA_CSARGRGKGADTQYF  0           0          0.00000    0.00000  \n",
       "CHP_323-03_cfDNA_CAISDGQDTDTQYF   0          50          0.00000    0.00000  \n",
       "CHP_323-03_cfDNA_CASSQEGF_TYSPLHF 0           0         16.66667   16.66667  \n",
       "CHP_323-03_cfDNA_CASSPSNTEAFF     0           0          0.00000    0.00000  \n",
       "CHP_323-03_cfDNA_CASSFAG_GDTQYF   0           0          0.00000   25.00000  \n",
       "                                  perc_mid_G perc_mid_H ... HLA_DRB301:01:02\n",
       "CHP_323-03_cfDNA_CASSQGTEGGYTF    33.33333   0          ... 0               \n",
       "CHP_323-03_cfDNA_CSARGRGKGADTQYF  60.00000   0          ... 0               \n",
       "CHP_323-03_cfDNA_CAISDGQDTDTQYF   25.00000   0          ... 0               \n",
       "CHP_323-03_cfDNA_CASSQEGF_TYSPLHF 16.66667   0          ... 0               \n",
       "CHP_323-03_cfDNA_CASSPSNTEAFF      0.00000   0          ... 0               \n",
       "CHP_323-03_cfDNA_CASSFAG_GDTQYF   25.00000   0          ... 0               \n",
       "                                  HLA_DRB501:01:01 HLA_DRB401:03:01\n",
       "CHP_323-03_cfDNA_CASSQGTEGGYTF    0                1               \n",
       "CHP_323-03_cfDNA_CSARGRGKGADTQYF  0                1               \n",
       "CHP_323-03_cfDNA_CAISDGQDTDTQYF   0                1               \n",
       "CHP_323-03_cfDNA_CASSQEGF_TYSPLHF 0                1               \n",
       "CHP_323-03_cfDNA_CASSPSNTEAFF     0                1               \n",
       "CHP_323-03_cfDNA_CASSFAG_GDTQYF   0                1               \n",
       "                                  HLA_DRB303:01:01 HLA_DRB401:01:01\n",
       "CHP_323-03_cfDNA_CASSQGTEGGYTF    0                0               \n",
       "CHP_323-03_cfDNA_CSARGRGKGADTQYF  0                0               \n",
       "CHP_323-03_cfDNA_CAISDGQDTDTQYF   0                0               \n",
       "CHP_323-03_cfDNA_CASSQEGF_TYSPLHF 0                0               \n",
       "CHP_323-03_cfDNA_CASSPSNTEAFF     0                0               \n",
       "CHP_323-03_cfDNA_CASSFAG_GDTQYF   0                0               \n",
       "                                  HLA_DRB301:62:01 HLA_DRB401:03:02\n",
       "CHP_323-03_cfDNA_CASSQGTEGGYTF    0                0               \n",
       "CHP_323-03_cfDNA_CSARGRGKGADTQYF  0                0               \n",
       "CHP_323-03_cfDNA_CAISDGQDTDTQYF   0                0               \n",
       "CHP_323-03_cfDNA_CASSQEGF_TYSPLHF 0                0               \n",
       "CHP_323-03_cfDNA_CASSPSNTEAFF     0                0               \n",
       "CHP_323-03_cfDNA_CASSFAG_GDTQYF   0                0               \n",
       "                                  HLA_DRB502:02:01 HLA_DRB501:02:01\n",
       "CHP_323-03_cfDNA_CASSQGTEGGYTF    0                0               \n",
       "CHP_323-03_cfDNA_CSARGRGKGADTQYF  0                0               \n",
       "CHP_323-03_cfDNA_CAISDGQDTDTQYF   0                0               \n",
       "CHP_323-03_cfDNA_CASSQEGF_TYSPLHF 0                0               \n",
       "CHP_323-03_cfDNA_CASSPSNTEAFF     0                0               \n",
       "CHP_323-03_cfDNA_CASSFAG_GDTQYF   0                0               \n",
       "                                  HLA_DRB401:03:01:02N\n",
       "CHP_323-03_cfDNA_CASSQGTEGGYTF    0                   \n",
       "CHP_323-03_cfDNA_CSARGRGKGADTQYF  0                   \n",
       "CHP_323-03_cfDNA_CAISDGQDTDTQYF   0                   \n",
       "CHP_323-03_cfDNA_CASSQEGF_TYSPLHF 0                   \n",
       "CHP_323-03_cfDNA_CASSPSNTEAFF     0                   \n",
       "CHP_323-03_cfDNA_CASSFAG_GDTQYF   0                   "
      ]
     },
     "metadata": {},
     "output_type": "display_data"
    }
   ],
   "source": [
    "head(feat_dat_num[\n",
    "    grepl(\"cfDNA\", rownames(feat_dat_num)),\n",
    "    which(!colnames(feat_dat_num) %in% flowcols)\n",
    "])"
   ]
  },
  {
   "cell_type": "code",
   "execution_count": null,
   "metadata": {
    "vscode": {
     "languageId": "r"
    }
   },
   "outputs": [],
   "source": []
  },
  {
   "cell_type": "markdown",
   "metadata": {},
   "source": [
    "# Output"
   ]
  },
  {
   "cell_type": "code",
   "execution_count": 8,
   "metadata": {
    "vscode": {
     "languageId": "r"
    }
   },
   "outputs": [],
   "source": [
    "feat_dat_num <- readr::read_rds(paste0(h4hpath, \"analysis/ML/\", \"int_pbmc_TCR_HLA.rds\"))"
   ]
  },
  {
   "cell_type": "code",
   "execution_count": 12,
   "metadata": {
    "vscode": {
     "languageId": "r"
    }
   },
   "outputs": [
    {
     "name": "stderr",
     "output_type": "stream",
     "text": [
      "\u001b[1mRows: \u001b[22m\u001b[34m1903\u001b[39m \u001b[1mColumns: \u001b[22m\u001b[34m10\u001b[39m\n",
      "\u001b[36m──\u001b[39m \u001b[1mColumn specification\u001b[22m \u001b[36m────────────────────────────────────────────────────────\u001b[39m\n",
      "\u001b[1mDelimiter:\u001b[22m \"\\t\"\n",
      "\u001b[32mdbl\u001b[39m (10): X1, X2, X3, X4, X5, X6, X7, X8, X9, X10\n",
      "\n",
      "\u001b[36mℹ\u001b[39m Use `spec()` to retrieve the full column specification for this data.\n",
      "\u001b[36mℹ\u001b[39m Specify the column types or set `show_col_types = FALSE` to quiet this message.\n"
     ]
    }
   ],
   "source": [
    "output <- readr::read_tsv(file = paste0(datapath,\"/ML/TCR_HLA/pbmc_relapse_tcr_hla_FI.tsv\"), col_names = F)"
   ]
  },
  {
   "cell_type": "code",
   "execution_count": 13,
   "metadata": {
    "vscode": {
     "languageId": "r"
    }
   },
   "outputs": [],
   "source": [
    "output <- as.data.frame(output)"
   ]
  },
  {
   "cell_type": "code",
   "execution_count": 14,
   "metadata": {
    "vscode": {
     "languageId": "r"
    }
   },
   "outputs": [
    {
     "data": {
      "text/html": [
       "<table class=\"dataframe\">\n",
       "<caption>A data.frame: 6 x 10</caption>\n",
       "<thead>\n",
       "\t<tr><th></th><th scope=col>X1</th><th scope=col>X2</th><th scope=col>X3</th><th scope=col>X4</th><th scope=col>X5</th><th scope=col>X6</th><th scope=col>X7</th><th scope=col>X8</th><th scope=col>X9</th><th scope=col>X10</th></tr>\n",
       "\t<tr><th></th><th scope=col>&lt;dbl&gt;</th><th scope=col>&lt;dbl&gt;</th><th scope=col>&lt;dbl&gt;</th><th scope=col>&lt;dbl&gt;</th><th scope=col>&lt;dbl&gt;</th><th scope=col>&lt;dbl&gt;</th><th scope=col>&lt;dbl&gt;</th><th scope=col>&lt;dbl&gt;</th><th scope=col>&lt;dbl&gt;</th><th scope=col>&lt;dbl&gt;</th></tr>\n",
       "</thead>\n",
       "<tbody>\n",
       "\t<tr><th scope=row>1</th><td>0.004255207</td><td>0</td><td>0</td><td>0</td><td>0.003865503</td><td>0.003677431</td><td>0.003804073</td><td>0.003573690</td><td>0.004006399</td><td>0.004013925</td></tr>\n",
       "\t<tr><th scope=row>2</th><td>0.002921235</td><td>0</td><td>0</td><td>0</td><td>0.003078128</td><td>0.003193420</td><td>0.003697794</td><td>0.002534116</td><td>0.002723008</td><td>0.003293792</td></tr>\n",
       "\t<tr><th scope=row>3</th><td>0.000000000</td><td>0</td><td>0</td><td>0</td><td>0.000000000</td><td>0.000000000</td><td>0.000000000</td><td>0.000000000</td><td>0.000000000</td><td>0.000000000</td></tr>\n",
       "\t<tr><th scope=row>4</th><td>0.000000000</td><td>0</td><td>0</td><td>0</td><td>0.000000000</td><td>0.000000000</td><td>0.000000000</td><td>0.000000000</td><td>0.000000000</td><td>0.000000000</td></tr>\n",
       "\t<tr><th scope=row>5</th><td>0.000000000</td><td>0</td><td>0</td><td>0</td><td>0.000000000</td><td>0.000000000</td><td>0.000000000</td><td>0.000000000</td><td>0.000000000</td><td>0.000000000</td></tr>\n",
       "\t<tr><th scope=row>6</th><td>0.000000000</td><td>0</td><td>0</td><td>0</td><td>0.000000000</td><td>0.000000000</td><td>0.000000000</td><td>0.000000000</td><td>0.000000000</td><td>0.000000000</td></tr>\n",
       "</tbody>\n",
       "</table>\n"
      ],
      "text/latex": [
       "A data.frame: 6 x 10\n",
       "\\begin{tabular}{r|llllllllll}\n",
       "  & X1 & X2 & X3 & X4 & X5 & X6 & X7 & X8 & X9 & X10\\\\\n",
       "  & <dbl> & <dbl> & <dbl> & <dbl> & <dbl> & <dbl> & <dbl> & <dbl> & <dbl> & <dbl>\\\\\n",
       "\\hline\n",
       "\t1 & 0.004255207 & 0 & 0 & 0 & 0.003865503 & 0.003677431 & 0.003804073 & 0.003573690 & 0.004006399 & 0.004013925\\\\\n",
       "\t2 & 0.002921235 & 0 & 0 & 0 & 0.003078128 & 0.003193420 & 0.003697794 & 0.002534116 & 0.002723008 & 0.003293792\\\\\n",
       "\t3 & 0.000000000 & 0 & 0 & 0 & 0.000000000 & 0.000000000 & 0.000000000 & 0.000000000 & 0.000000000 & 0.000000000\\\\\n",
       "\t4 & 0.000000000 & 0 & 0 & 0 & 0.000000000 & 0.000000000 & 0.000000000 & 0.000000000 & 0.000000000 & 0.000000000\\\\\n",
       "\t5 & 0.000000000 & 0 & 0 & 0 & 0.000000000 & 0.000000000 & 0.000000000 & 0.000000000 & 0.000000000 & 0.000000000\\\\\n",
       "\t6 & 0.000000000 & 0 & 0 & 0 & 0.000000000 & 0.000000000 & 0.000000000 & 0.000000000 & 0.000000000 & 0.000000000\\\\\n",
       "\\end{tabular}\n"
      ],
      "text/markdown": [
       "\n",
       "A data.frame: 6 x 10\n",
       "\n",
       "| <!--/--> | X1 &lt;dbl&gt; | X2 &lt;dbl&gt; | X3 &lt;dbl&gt; | X4 &lt;dbl&gt; | X5 &lt;dbl&gt; | X6 &lt;dbl&gt; | X7 &lt;dbl&gt; | X8 &lt;dbl&gt; | X9 &lt;dbl&gt; | X10 &lt;dbl&gt; |\n",
       "|---|---|---|---|---|---|---|---|---|---|---|\n",
       "| 1 | 0.004255207 | 0 | 0 | 0 | 0.003865503 | 0.003677431 | 0.003804073 | 0.003573690 | 0.004006399 | 0.004013925 |\n",
       "| 2 | 0.002921235 | 0 | 0 | 0 | 0.003078128 | 0.003193420 | 0.003697794 | 0.002534116 | 0.002723008 | 0.003293792 |\n",
       "| 3 | 0.000000000 | 0 | 0 | 0 | 0.000000000 | 0.000000000 | 0.000000000 | 0.000000000 | 0.000000000 | 0.000000000 |\n",
       "| 4 | 0.000000000 | 0 | 0 | 0 | 0.000000000 | 0.000000000 | 0.000000000 | 0.000000000 | 0.000000000 | 0.000000000 |\n",
       "| 5 | 0.000000000 | 0 | 0 | 0 | 0.000000000 | 0.000000000 | 0.000000000 | 0.000000000 | 0.000000000 | 0.000000000 |\n",
       "| 6 | 0.000000000 | 0 | 0 | 0 | 0.000000000 | 0.000000000 | 0.000000000 | 0.000000000 | 0.000000000 | 0.000000000 |\n",
       "\n"
      ],
      "text/plain": [
       "  X1          X2 X3 X4 X5          X6          X7          X8         \n",
       "1 0.004255207 0  0  0  0.003865503 0.003677431 0.003804073 0.003573690\n",
       "2 0.002921235 0  0  0  0.003078128 0.003193420 0.003697794 0.002534116\n",
       "3 0.000000000 0  0  0  0.000000000 0.000000000 0.000000000 0.000000000\n",
       "4 0.000000000 0  0  0  0.000000000 0.000000000 0.000000000 0.000000000\n",
       "5 0.000000000 0  0  0  0.000000000 0.000000000 0.000000000 0.000000000\n",
       "6 0.000000000 0  0  0  0.000000000 0.000000000 0.000000000 0.000000000\n",
       "  X9          X10        \n",
       "1 0.004006399 0.004013925\n",
       "2 0.002723008 0.003293792\n",
       "3 0.000000000 0.000000000\n",
       "4 0.000000000 0.000000000\n",
       "5 0.000000000 0.000000000\n",
       "6 0.000000000 0.000000000"
      ]
     },
     "metadata": {},
     "output_type": "display_data"
    }
   ],
   "source": [
    "head(output)"
   ]
  },
  {
   "cell_type": "code",
   "execution_count": 15,
   "metadata": {
    "vscode": {
     "languageId": "r"
    }
   },
   "outputs": [],
   "source": [
    "rownames(output) <- colnames(feat_dat_num)"
   ]
  },
  {
   "cell_type": "code",
   "execution_count": 16,
   "metadata": {
    "vscode": {
     "languageId": "r"
    }
   },
   "outputs": [],
   "source": [
    "# colnames(feat_dat_num[grepl(\"PBMC\", rownames(feat_dat_num)),])"
   ]
  },
  {
   "cell_type": "code",
   "execution_count": 17,
   "metadata": {
    "vscode": {
     "languageId": "r"
    }
   },
   "outputs": [],
   "source": [
    "output$ave <- rowMeans(output)"
   ]
  },
  {
   "cell_type": "code",
   "execution_count": 19,
   "metadata": {
    "vscode": {
     "languageId": "r"
    }
   },
   "outputs": [
    {
     "data": {
      "text/html": [
       "<table class=\"dataframe\">\n",
       "<caption>A data.frame: 23 x 11</caption>\n",
       "<thead>\n",
       "\t<tr><th></th><th scope=col>X1</th><th scope=col>X2</th><th scope=col>X3</th><th scope=col>X4</th><th scope=col>X5</th><th scope=col>X6</th><th scope=col>X7</th><th scope=col>X8</th><th scope=col>X9</th><th scope=col>X10</th><th scope=col>ave</th></tr>\n",
       "\t<tr><th></th><th scope=col>&lt;dbl&gt;</th><th scope=col>&lt;dbl&gt;</th><th scope=col>&lt;dbl&gt;</th><th scope=col>&lt;dbl&gt;</th><th scope=col>&lt;dbl&gt;</th><th scope=col>&lt;dbl&gt;</th><th scope=col>&lt;dbl&gt;</th><th scope=col>&lt;dbl&gt;</th><th scope=col>&lt;dbl&gt;</th><th scope=col>&lt;dbl&gt;</th><th scope=col>&lt;dbl&gt;</th></tr>\n",
       "</thead>\n",
       "<tbody>\n",
       "\t<tr><th scope=row>cloneCount</th><td>0.0042552072</td><td>0.000000000</td><td>0.000000000</td><td>0.000000000</td><td>0.0038655034</td><td>0.0036774313</td><td>0.003804073</td><td>0.003573690</td><td>0.004006399</td><td>0.0040139255</td><td>0.002719623</td></tr>\n",
       "\t<tr><th scope=row>cloneFraction</th><td>0.0029212353</td><td>0.000000000</td><td>0.000000000</td><td>0.000000000</td><td>0.0030781279</td><td>0.0031934203</td><td>0.003697794</td><td>0.002534116</td><td>0.002723008</td><td>0.0032937923</td><td>0.002144149</td></tr>\n",
       "\t<tr><th scope=row>HLA_A26:01:01</th><td>0.0000000000</td><td>0.000000000</td><td>0.000000000</td><td>0.000000000</td><td>0.0202224087</td><td>0.0000000000</td><td>0.000000000</td><td>0.018952413</td><td>0.000000000</td><td>0.0001105412</td><td>0.003928536</td></tr>\n",
       "\t<tr><th scope=row>HLA_B07:02:01</th><td>0.0005006144</td><td>0.000000000</td><td>0.000000000</td><td>0.000000000</td><td>0.0030863414</td><td>0.0113703959</td><td>0.002185907</td><td>0.004721564</td><td>0.000000000</td><td>0.0002416342</td><td>0.002210646</td></tr>\n",
       "\t<tr><th scope=row>HLA_B51:01:01</th><td>0.0034567141</td><td>0.000000000</td><td>0.000000000</td><td>0.000000000</td><td>0.0026518732</td><td>0.0016164996</td><td>0.001624649</td><td>0.002505596</td><td>0.000914597</td><td>0.0027318992</td><td>0.001550183</td></tr>\n",
       "\t<tr><th scope=row>HLA_B44:02:01</th><td>0.0030678788</td><td>0.000000000</td><td>0.000000000</td><td>0.000000000</td><td>0.0016199302</td><td>0.0032391183</td><td>0.003365908</td><td>0.001550504</td><td>0.003971901</td><td>0.0013672369</td><td>0.001818248</td></tr>\n",
       "\t<tr><th scope=row>HLA_B55:01:01</th><td>0.0165020237</td><td>0.307846692</td><td>0.320724849</td><td>0.690487001</td><td>0.0160191132</td><td>0.0178345006</td><td>0.019065832</td><td>0.017235746</td><td>0.017734003</td><td>0.0329225236</td><td>0.145637228</td></tr>\n",
       "\t<tr><th scope=row>HLA_C07:02:01</th><td>0.0100801690</td><td>0.000000000</td><td>0.000000000</td><td>0.000000000</td><td>0.0014997498</td><td>0.0001428958</td><td>0.010011980</td><td>0.000000000</td><td>0.006713367</td><td>0.0049469042</td><td>0.003339507</td></tr>\n",
       "\t<tr><th scope=row>HLA_C12:03:01</th><td>0.0200023298</td><td>0.000000000</td><td>0.000000000</td><td>0.000000000</td><td>0.0000000000</td><td>0.0184849016</td><td>0.020555818</td><td>0.000000000</td><td>0.020638877</td><td>0.0002115379</td><td>0.007989346</td></tr>\n",
       "\t<tr><th scope=row>HLA_C03:03:01</th><td>0.3271190180</td><td>0.250569195</td><td>0.242977917</td><td>0.110193344</td><td>0.3383143629</td><td>0.3314523293</td><td>0.327214472</td><td>0.335951724</td><td>0.327971557</td><td>0.3325743453</td><td>0.292433826</td></tr>\n",
       "\t<tr><th scope=row>HLA_C14:02:01</th><td>0.0493979865</td><td>0.035789164</td><td>0.036518747</td><td>0.016050745</td><td>0.0482315328</td><td>0.0481918559</td><td>0.048235598</td><td>0.048260772</td><td>0.047777192</td><td>0.0459032785</td><td>0.042435687</td></tr>\n",
       "\t<tr><th scope=row>HLA_DPA101:03:01</th><td>0.0051493202</td><td>0.006355470</td><td>0.005851589</td><td>0.002941997</td><td>0.0098110274</td><td>0.0096733962</td><td>0.010157187</td><td>0.009916187</td><td>0.010315142</td><td>0.0085106716</td><td>0.007868199</td></tr>\n",
       "\t<tr><th scope=row>HLA_DPB101:01:01</th><td>0.0064477306</td><td>0.004825257</td><td>0.005127855</td><td>0.002344006</td><td>0.0070862139</td><td>0.0071403178</td><td>0.007178091</td><td>0.006764389</td><td>0.006762324</td><td>0.0070811190</td><td>0.006075730</td></tr>\n",
       "\t<tr><th scope=row>HLA_DPB104:01:01</th><td>0.0076681519</td><td>0.003507027</td><td>0.004010786</td><td>0.001589206</td><td>0.0053734499</td><td>0.0057339184</td><td>0.005216235</td><td>0.004967494</td><td>0.005040740</td><td>0.0051068510</td><td>0.004821386</td></tr>\n",
       "\t<tr><th scope=row>HLA_DPB106:01:01</th><td>0.0000000000</td><td>0.000000000</td><td>0.008301584</td><td>0.000000000</td><td>0.0005385969</td><td>0.0000000000</td><td>0.000000000</td><td>0.000000000</td><td>0.000000000</td><td>0.0128120311</td><td>0.002165221</td></tr>\n",
       "\t<tr><th scope=row>HLA_DQA102:01:01</th><td>0.0132813160</td><td>0.010015795</td><td>0.007835151</td><td>0.004662340</td><td>0.0111178812</td><td>0.0000000000</td><td>0.000000000</td><td>0.000000000</td><td>0.013811257</td><td>0.0110048382</td><td>0.007172858</td></tr>\n",
       "\t<tr><th scope=row>HLA_DQB106:01:01</th><td>0.0072950602</td><td>0.000000000</td><td>0.000000000</td><td>0.000000000</td><td>0.0019595484</td><td>0.0003970300</td><td>0.000000000</td><td>0.001753778</td><td>0.000000000</td><td>0.0000000000</td><td>0.001140542</td></tr>\n",
       "\t<tr><th scope=row>HLA_DQB106:09:01</th><td>0.0096671785</td><td>0.000000000</td><td>0.000000000</td><td>0.000000000</td><td>0.0080405634</td><td>0.0103245998</td><td>0.010766998</td><td>0.010106935</td><td>0.010259190</td><td>0.0000000000</td><td>0.005916547</td></tr>\n",
       "\t<tr><th scope=row>HLA_DRB104:07:01</th><td>0.3294938343</td><td>0.255517649</td><td>0.246110981</td><td>0.116855129</td><td>0.3403662453</td><td>0.3374581522</td><td>0.337194981</td><td>0.340608575</td><td>0.342757359</td><td>0.3439280256</td><td>0.299029093</td></tr>\n",
       "\t<tr><th scope=row>HLA_DRB107:01:01</th><td>0.0000000000</td><td>0.000000000</td><td>0.000000000</td><td>0.000000000</td><td>0.0000000000</td><td>0.0111045743</td><td>0.011228652</td><td>0.010496399</td><td>0.000000000</td><td>0.0000000000</td><td>0.003282963</td></tr>\n",
       "\t<tr><th scope=row>HLA_DRB104:04:01</th><td>0.1561393684</td><td>0.114961147</td><td>0.112866225</td><td>0.050727528</td><td>0.1509275046</td><td>0.1538115706</td><td>0.154829451</td><td>0.152451333</td><td>0.146272052</td><td>0.1553921250</td><td>0.134837830</td></tr>\n",
       "\t<tr><th scope=row>HLA_DRB401:03:01</th><td>0.0128432171</td><td>0.010612603</td><td>0.009674315</td><td>0.004148704</td><td>0.0124713969</td><td>0.0127612493</td><td>0.012281281</td><td>0.013177328</td><td>0.013374039</td><td>0.0128800213</td><td>0.011422415</td></tr>\n",
       "\t<tr><th scope=row>HLA_DRB401:01:01</th><td>0.0003310267</td><td>0.000000000</td><td>0.000000000</td><td>0.000000000</td><td>0.0020452710</td><td>0.0011598077</td><td>0.001125116</td><td>0.002061414</td><td>0.001446690</td><td>0.0023179504</td><td>0.001048728</td></tr>\n",
       "</tbody>\n",
       "</table>\n"
      ],
      "text/latex": [
       "A data.frame: 23 x 11\n",
       "\\begin{tabular}{r|lllllllllll}\n",
       "  & X1 & X2 & X3 & X4 & X5 & X6 & X7 & X8 & X9 & X10 & ave\\\\\n",
       "  & <dbl> & <dbl> & <dbl> & <dbl> & <dbl> & <dbl> & <dbl> & <dbl> & <dbl> & <dbl> & <dbl>\\\\\n",
       "\\hline\n",
       "\tcloneCount & 0.0042552072 & 0.000000000 & 0.000000000 & 0.000000000 & 0.0038655034 & 0.0036774313 & 0.003804073 & 0.003573690 & 0.004006399 & 0.0040139255 & 0.002719623\\\\\n",
       "\tcloneFraction & 0.0029212353 & 0.000000000 & 0.000000000 & 0.000000000 & 0.0030781279 & 0.0031934203 & 0.003697794 & 0.002534116 & 0.002723008 & 0.0032937923 & 0.002144149\\\\\n",
       "\tHLA\\_A26:01:01 & 0.0000000000 & 0.000000000 & 0.000000000 & 0.000000000 & 0.0202224087 & 0.0000000000 & 0.000000000 & 0.018952413 & 0.000000000 & 0.0001105412 & 0.003928536\\\\\n",
       "\tHLA\\_B07:02:01 & 0.0005006144 & 0.000000000 & 0.000000000 & 0.000000000 & 0.0030863414 & 0.0113703959 & 0.002185907 & 0.004721564 & 0.000000000 & 0.0002416342 & 0.002210646\\\\\n",
       "\tHLA\\_B51:01:01 & 0.0034567141 & 0.000000000 & 0.000000000 & 0.000000000 & 0.0026518732 & 0.0016164996 & 0.001624649 & 0.002505596 & 0.000914597 & 0.0027318992 & 0.001550183\\\\\n",
       "\tHLA\\_B44:02:01 & 0.0030678788 & 0.000000000 & 0.000000000 & 0.000000000 & 0.0016199302 & 0.0032391183 & 0.003365908 & 0.001550504 & 0.003971901 & 0.0013672369 & 0.001818248\\\\\n",
       "\tHLA\\_B55:01:01 & 0.0165020237 & 0.307846692 & 0.320724849 & 0.690487001 & 0.0160191132 & 0.0178345006 & 0.019065832 & 0.017235746 & 0.017734003 & 0.0329225236 & 0.145637228\\\\\n",
       "\tHLA\\_C07:02:01 & 0.0100801690 & 0.000000000 & 0.000000000 & 0.000000000 & 0.0014997498 & 0.0001428958 & 0.010011980 & 0.000000000 & 0.006713367 & 0.0049469042 & 0.003339507\\\\\n",
       "\tHLA\\_C12:03:01 & 0.0200023298 & 0.000000000 & 0.000000000 & 0.000000000 & 0.0000000000 & 0.0184849016 & 0.020555818 & 0.000000000 & 0.020638877 & 0.0002115379 & 0.007989346\\\\\n",
       "\tHLA\\_C03:03:01 & 0.3271190180 & 0.250569195 & 0.242977917 & 0.110193344 & 0.3383143629 & 0.3314523293 & 0.327214472 & 0.335951724 & 0.327971557 & 0.3325743453 & 0.292433826\\\\\n",
       "\tHLA\\_C14:02:01 & 0.0493979865 & 0.035789164 & 0.036518747 & 0.016050745 & 0.0482315328 & 0.0481918559 & 0.048235598 & 0.048260772 & 0.047777192 & 0.0459032785 & 0.042435687\\\\\n",
       "\tHLA\\_DPA101:03:01 & 0.0051493202 & 0.006355470 & 0.005851589 & 0.002941997 & 0.0098110274 & 0.0096733962 & 0.010157187 & 0.009916187 & 0.010315142 & 0.0085106716 & 0.007868199\\\\\n",
       "\tHLA\\_DPB101:01:01 & 0.0064477306 & 0.004825257 & 0.005127855 & 0.002344006 & 0.0070862139 & 0.0071403178 & 0.007178091 & 0.006764389 & 0.006762324 & 0.0070811190 & 0.006075730\\\\\n",
       "\tHLA\\_DPB104:01:01 & 0.0076681519 & 0.003507027 & 0.004010786 & 0.001589206 & 0.0053734499 & 0.0057339184 & 0.005216235 & 0.004967494 & 0.005040740 & 0.0051068510 & 0.004821386\\\\\n",
       "\tHLA\\_DPB106:01:01 & 0.0000000000 & 0.000000000 & 0.008301584 & 0.000000000 & 0.0005385969 & 0.0000000000 & 0.000000000 & 0.000000000 & 0.000000000 & 0.0128120311 & 0.002165221\\\\\n",
       "\tHLA\\_DQA102:01:01 & 0.0132813160 & 0.010015795 & 0.007835151 & 0.004662340 & 0.0111178812 & 0.0000000000 & 0.000000000 & 0.000000000 & 0.013811257 & 0.0110048382 & 0.007172858\\\\\n",
       "\tHLA\\_DQB106:01:01 & 0.0072950602 & 0.000000000 & 0.000000000 & 0.000000000 & 0.0019595484 & 0.0003970300 & 0.000000000 & 0.001753778 & 0.000000000 & 0.0000000000 & 0.001140542\\\\\n",
       "\tHLA\\_DQB106:09:01 & 0.0096671785 & 0.000000000 & 0.000000000 & 0.000000000 & 0.0080405634 & 0.0103245998 & 0.010766998 & 0.010106935 & 0.010259190 & 0.0000000000 & 0.005916547\\\\\n",
       "\tHLA\\_DRB104:07:01 & 0.3294938343 & 0.255517649 & 0.246110981 & 0.116855129 & 0.3403662453 & 0.3374581522 & 0.337194981 & 0.340608575 & 0.342757359 & 0.3439280256 & 0.299029093\\\\\n",
       "\tHLA\\_DRB107:01:01 & 0.0000000000 & 0.000000000 & 0.000000000 & 0.000000000 & 0.0000000000 & 0.0111045743 & 0.011228652 & 0.010496399 & 0.000000000 & 0.0000000000 & 0.003282963\\\\\n",
       "\tHLA\\_DRB104:04:01 & 0.1561393684 & 0.114961147 & 0.112866225 & 0.050727528 & 0.1509275046 & 0.1538115706 & 0.154829451 & 0.152451333 & 0.146272052 & 0.1553921250 & 0.134837830\\\\\n",
       "\tHLA\\_DRB401:03:01 & 0.0128432171 & 0.010612603 & 0.009674315 & 0.004148704 & 0.0124713969 & 0.0127612493 & 0.012281281 & 0.013177328 & 0.013374039 & 0.0128800213 & 0.011422415\\\\\n",
       "\tHLA\\_DRB401:01:01 & 0.0003310267 & 0.000000000 & 0.000000000 & 0.000000000 & 0.0020452710 & 0.0011598077 & 0.001125116 & 0.002061414 & 0.001446690 & 0.0023179504 & 0.001048728\\\\\n",
       "\\end{tabular}\n"
      ],
      "text/markdown": [
       "\n",
       "A data.frame: 23 x 11\n",
       "\n",
       "| <!--/--> | X1 &lt;dbl&gt; | X2 &lt;dbl&gt; | X3 &lt;dbl&gt; | X4 &lt;dbl&gt; | X5 &lt;dbl&gt; | X6 &lt;dbl&gt; | X7 &lt;dbl&gt; | X8 &lt;dbl&gt; | X9 &lt;dbl&gt; | X10 &lt;dbl&gt; | ave &lt;dbl&gt; |\n",
       "|---|---|---|---|---|---|---|---|---|---|---|---|\n",
       "| cloneCount | 0.0042552072 | 0.000000000 | 0.000000000 | 0.000000000 | 0.0038655034 | 0.0036774313 | 0.003804073 | 0.003573690 | 0.004006399 | 0.0040139255 | 0.002719623 |\n",
       "| cloneFraction | 0.0029212353 | 0.000000000 | 0.000000000 | 0.000000000 | 0.0030781279 | 0.0031934203 | 0.003697794 | 0.002534116 | 0.002723008 | 0.0032937923 | 0.002144149 |\n",
       "| HLA_A26:01:01 | 0.0000000000 | 0.000000000 | 0.000000000 | 0.000000000 | 0.0202224087 | 0.0000000000 | 0.000000000 | 0.018952413 | 0.000000000 | 0.0001105412 | 0.003928536 |\n",
       "| HLA_B07:02:01 | 0.0005006144 | 0.000000000 | 0.000000000 | 0.000000000 | 0.0030863414 | 0.0113703959 | 0.002185907 | 0.004721564 | 0.000000000 | 0.0002416342 | 0.002210646 |\n",
       "| HLA_B51:01:01 | 0.0034567141 | 0.000000000 | 0.000000000 | 0.000000000 | 0.0026518732 | 0.0016164996 | 0.001624649 | 0.002505596 | 0.000914597 | 0.0027318992 | 0.001550183 |\n",
       "| HLA_B44:02:01 | 0.0030678788 | 0.000000000 | 0.000000000 | 0.000000000 | 0.0016199302 | 0.0032391183 | 0.003365908 | 0.001550504 | 0.003971901 | 0.0013672369 | 0.001818248 |\n",
       "| HLA_B55:01:01 | 0.0165020237 | 0.307846692 | 0.320724849 | 0.690487001 | 0.0160191132 | 0.0178345006 | 0.019065832 | 0.017235746 | 0.017734003 | 0.0329225236 | 0.145637228 |\n",
       "| HLA_C07:02:01 | 0.0100801690 | 0.000000000 | 0.000000000 | 0.000000000 | 0.0014997498 | 0.0001428958 | 0.010011980 | 0.000000000 | 0.006713367 | 0.0049469042 | 0.003339507 |\n",
       "| HLA_C12:03:01 | 0.0200023298 | 0.000000000 | 0.000000000 | 0.000000000 | 0.0000000000 | 0.0184849016 | 0.020555818 | 0.000000000 | 0.020638877 | 0.0002115379 | 0.007989346 |\n",
       "| HLA_C03:03:01 | 0.3271190180 | 0.250569195 | 0.242977917 | 0.110193344 | 0.3383143629 | 0.3314523293 | 0.327214472 | 0.335951724 | 0.327971557 | 0.3325743453 | 0.292433826 |\n",
       "| HLA_C14:02:01 | 0.0493979865 | 0.035789164 | 0.036518747 | 0.016050745 | 0.0482315328 | 0.0481918559 | 0.048235598 | 0.048260772 | 0.047777192 | 0.0459032785 | 0.042435687 |\n",
       "| HLA_DPA101:03:01 | 0.0051493202 | 0.006355470 | 0.005851589 | 0.002941997 | 0.0098110274 | 0.0096733962 | 0.010157187 | 0.009916187 | 0.010315142 | 0.0085106716 | 0.007868199 |\n",
       "| HLA_DPB101:01:01 | 0.0064477306 | 0.004825257 | 0.005127855 | 0.002344006 | 0.0070862139 | 0.0071403178 | 0.007178091 | 0.006764389 | 0.006762324 | 0.0070811190 | 0.006075730 |\n",
       "| HLA_DPB104:01:01 | 0.0076681519 | 0.003507027 | 0.004010786 | 0.001589206 | 0.0053734499 | 0.0057339184 | 0.005216235 | 0.004967494 | 0.005040740 | 0.0051068510 | 0.004821386 |\n",
       "| HLA_DPB106:01:01 | 0.0000000000 | 0.000000000 | 0.008301584 | 0.000000000 | 0.0005385969 | 0.0000000000 | 0.000000000 | 0.000000000 | 0.000000000 | 0.0128120311 | 0.002165221 |\n",
       "| HLA_DQA102:01:01 | 0.0132813160 | 0.010015795 | 0.007835151 | 0.004662340 | 0.0111178812 | 0.0000000000 | 0.000000000 | 0.000000000 | 0.013811257 | 0.0110048382 | 0.007172858 |\n",
       "| HLA_DQB106:01:01 | 0.0072950602 | 0.000000000 | 0.000000000 | 0.000000000 | 0.0019595484 | 0.0003970300 | 0.000000000 | 0.001753778 | 0.000000000 | 0.0000000000 | 0.001140542 |\n",
       "| HLA_DQB106:09:01 | 0.0096671785 | 0.000000000 | 0.000000000 | 0.000000000 | 0.0080405634 | 0.0103245998 | 0.010766998 | 0.010106935 | 0.010259190 | 0.0000000000 | 0.005916547 |\n",
       "| HLA_DRB104:07:01 | 0.3294938343 | 0.255517649 | 0.246110981 | 0.116855129 | 0.3403662453 | 0.3374581522 | 0.337194981 | 0.340608575 | 0.342757359 | 0.3439280256 | 0.299029093 |\n",
       "| HLA_DRB107:01:01 | 0.0000000000 | 0.000000000 | 0.000000000 | 0.000000000 | 0.0000000000 | 0.0111045743 | 0.011228652 | 0.010496399 | 0.000000000 | 0.0000000000 | 0.003282963 |\n",
       "| HLA_DRB104:04:01 | 0.1561393684 | 0.114961147 | 0.112866225 | 0.050727528 | 0.1509275046 | 0.1538115706 | 0.154829451 | 0.152451333 | 0.146272052 | 0.1553921250 | 0.134837830 |\n",
       "| HLA_DRB401:03:01 | 0.0128432171 | 0.010612603 | 0.009674315 | 0.004148704 | 0.0124713969 | 0.0127612493 | 0.012281281 | 0.013177328 | 0.013374039 | 0.0128800213 | 0.011422415 |\n",
       "| HLA_DRB401:01:01 | 0.0003310267 | 0.000000000 | 0.000000000 | 0.000000000 | 0.0020452710 | 0.0011598077 | 0.001125116 | 0.002061414 | 0.001446690 | 0.0023179504 | 0.001048728 |\n",
       "\n"
      ],
      "text/plain": [
       "                 X1           X2          X3          X4          X5          \n",
       "cloneCount       0.0042552072 0.000000000 0.000000000 0.000000000 0.0038655034\n",
       "cloneFraction    0.0029212353 0.000000000 0.000000000 0.000000000 0.0030781279\n",
       "HLA_A26:01:01    0.0000000000 0.000000000 0.000000000 0.000000000 0.0202224087\n",
       "HLA_B07:02:01    0.0005006144 0.000000000 0.000000000 0.000000000 0.0030863414\n",
       "HLA_B51:01:01    0.0034567141 0.000000000 0.000000000 0.000000000 0.0026518732\n",
       "HLA_B44:02:01    0.0030678788 0.000000000 0.000000000 0.000000000 0.0016199302\n",
       "HLA_B55:01:01    0.0165020237 0.307846692 0.320724849 0.690487001 0.0160191132\n",
       "HLA_C07:02:01    0.0100801690 0.000000000 0.000000000 0.000000000 0.0014997498\n",
       "HLA_C12:03:01    0.0200023298 0.000000000 0.000000000 0.000000000 0.0000000000\n",
       "HLA_C03:03:01    0.3271190180 0.250569195 0.242977917 0.110193344 0.3383143629\n",
       "HLA_C14:02:01    0.0493979865 0.035789164 0.036518747 0.016050745 0.0482315328\n",
       "HLA_DPA101:03:01 0.0051493202 0.006355470 0.005851589 0.002941997 0.0098110274\n",
       "HLA_DPB101:01:01 0.0064477306 0.004825257 0.005127855 0.002344006 0.0070862139\n",
       "HLA_DPB104:01:01 0.0076681519 0.003507027 0.004010786 0.001589206 0.0053734499\n",
       "HLA_DPB106:01:01 0.0000000000 0.000000000 0.008301584 0.000000000 0.0005385969\n",
       "HLA_DQA102:01:01 0.0132813160 0.010015795 0.007835151 0.004662340 0.0111178812\n",
       "HLA_DQB106:01:01 0.0072950602 0.000000000 0.000000000 0.000000000 0.0019595484\n",
       "HLA_DQB106:09:01 0.0096671785 0.000000000 0.000000000 0.000000000 0.0080405634\n",
       "HLA_DRB104:07:01 0.3294938343 0.255517649 0.246110981 0.116855129 0.3403662453\n",
       "HLA_DRB107:01:01 0.0000000000 0.000000000 0.000000000 0.000000000 0.0000000000\n",
       "HLA_DRB104:04:01 0.1561393684 0.114961147 0.112866225 0.050727528 0.1509275046\n",
       "HLA_DRB401:03:01 0.0128432171 0.010612603 0.009674315 0.004148704 0.0124713969\n",
       "HLA_DRB401:01:01 0.0003310267 0.000000000 0.000000000 0.000000000 0.0020452710\n",
       "                 X6           X7          X8          X9          X10         \n",
       "cloneCount       0.0036774313 0.003804073 0.003573690 0.004006399 0.0040139255\n",
       "cloneFraction    0.0031934203 0.003697794 0.002534116 0.002723008 0.0032937923\n",
       "HLA_A26:01:01    0.0000000000 0.000000000 0.018952413 0.000000000 0.0001105412\n",
       "HLA_B07:02:01    0.0113703959 0.002185907 0.004721564 0.000000000 0.0002416342\n",
       "HLA_B51:01:01    0.0016164996 0.001624649 0.002505596 0.000914597 0.0027318992\n",
       "HLA_B44:02:01    0.0032391183 0.003365908 0.001550504 0.003971901 0.0013672369\n",
       "HLA_B55:01:01    0.0178345006 0.019065832 0.017235746 0.017734003 0.0329225236\n",
       "HLA_C07:02:01    0.0001428958 0.010011980 0.000000000 0.006713367 0.0049469042\n",
       "HLA_C12:03:01    0.0184849016 0.020555818 0.000000000 0.020638877 0.0002115379\n",
       "HLA_C03:03:01    0.3314523293 0.327214472 0.335951724 0.327971557 0.3325743453\n",
       "HLA_C14:02:01    0.0481918559 0.048235598 0.048260772 0.047777192 0.0459032785\n",
       "HLA_DPA101:03:01 0.0096733962 0.010157187 0.009916187 0.010315142 0.0085106716\n",
       "HLA_DPB101:01:01 0.0071403178 0.007178091 0.006764389 0.006762324 0.0070811190\n",
       "HLA_DPB104:01:01 0.0057339184 0.005216235 0.004967494 0.005040740 0.0051068510\n",
       "HLA_DPB106:01:01 0.0000000000 0.000000000 0.000000000 0.000000000 0.0128120311\n",
       "HLA_DQA102:01:01 0.0000000000 0.000000000 0.000000000 0.013811257 0.0110048382\n",
       "HLA_DQB106:01:01 0.0003970300 0.000000000 0.001753778 0.000000000 0.0000000000\n",
       "HLA_DQB106:09:01 0.0103245998 0.010766998 0.010106935 0.010259190 0.0000000000\n",
       "HLA_DRB104:07:01 0.3374581522 0.337194981 0.340608575 0.342757359 0.3439280256\n",
       "HLA_DRB107:01:01 0.0111045743 0.011228652 0.010496399 0.000000000 0.0000000000\n",
       "HLA_DRB104:04:01 0.1538115706 0.154829451 0.152451333 0.146272052 0.1553921250\n",
       "HLA_DRB401:03:01 0.0127612493 0.012281281 0.013177328 0.013374039 0.0128800213\n",
       "HLA_DRB401:01:01 0.0011598077 0.001125116 0.002061414 0.001446690 0.0023179504\n",
       "                 ave        \n",
       "cloneCount       0.002719623\n",
       "cloneFraction    0.002144149\n",
       "HLA_A26:01:01    0.003928536\n",
       "HLA_B07:02:01    0.002210646\n",
       "HLA_B51:01:01    0.001550183\n",
       "HLA_B44:02:01    0.001818248\n",
       "HLA_B55:01:01    0.145637228\n",
       "HLA_C07:02:01    0.003339507\n",
       "HLA_C12:03:01    0.007989346\n",
       "HLA_C03:03:01    0.292433826\n",
       "HLA_C14:02:01    0.042435687\n",
       "HLA_DPA101:03:01 0.007868199\n",
       "HLA_DPB101:01:01 0.006075730\n",
       "HLA_DPB104:01:01 0.004821386\n",
       "HLA_DPB106:01:01 0.002165221\n",
       "HLA_DQA102:01:01 0.007172858\n",
       "HLA_DQB106:01:01 0.001140542\n",
       "HLA_DQB106:09:01 0.005916547\n",
       "HLA_DRB104:07:01 0.299029093\n",
       "HLA_DRB107:01:01 0.003282963\n",
       "HLA_DRB104:04:01 0.134837830\n",
       "HLA_DRB401:03:01 0.011422415\n",
       "HLA_DRB401:01:01 0.001048728"
      ]
     },
     "metadata": {},
     "output_type": "display_data"
    }
   ],
   "source": [
    "output[output$ave > 0.001,] #cfdna"
   ]
  },
  {
   "cell_type": "code",
   "execution_count": 189,
   "metadata": {
    "vscode": {
     "languageId": "r"
    }
   },
   "outputs": [
    {
     "data": {
      "text/html": [
       "<table class=\"dataframe\">\n",
       "<caption>A data.frame: 10 x 11</caption>\n",
       "<thead>\n",
       "\t<tr><th></th><th scope=col>X1</th><th scope=col>X2</th><th scope=col>X3</th><th scope=col>X4</th><th scope=col>X5</th><th scope=col>X6</th><th scope=col>X7</th><th scope=col>X8</th><th scope=col>X9</th><th scope=col>X10</th><th scope=col>ave</th></tr>\n",
       "\t<tr><th></th><th scope=col>&lt;dbl&gt;</th><th scope=col>&lt;dbl&gt;</th><th scope=col>&lt;dbl&gt;</th><th scope=col>&lt;dbl&gt;</th><th scope=col>&lt;dbl&gt;</th><th scope=col>&lt;dbl&gt;</th><th scope=col>&lt;dbl&gt;</th><th scope=col>&lt;dbl&gt;</th><th scope=col>&lt;dbl&gt;</th><th scope=col>&lt;dbl&gt;</th><th scope=col>&lt;dbl&gt;</th></tr>\n",
       "</thead>\n",
       "<tbody>\n",
       "\t<tr><th scope=row>ATC</th><td>0.026210562</td><td>0.030896302</td><td>0.02823760</td><td>0.0067790916</td><td>0.016675993</td><td>0.029124282</td><td>0.0132055424</td><td>0.025738691</td><td>0.0068203931</td><td>0.026614938</td><td>0.02103034</td></tr>\n",
       "\t<tr><th scope=row>Age</th><td>0.019328371</td><td>0.022339882</td><td>0.01764111</td><td>0.0117354589</td><td>0.012968948</td><td>0.019814772</td><td>0.0130133121</td><td>0.018122727</td><td>0.0124644893</td><td>0.020724915</td><td>0.01681540</td></tr>\n",
       "\t<tr><th scope=row>EM</th><td>0.030357787</td><td>0.030493486</td><td>0.02720727</td><td>0.0127024558</td><td>0.012778060</td><td>0.027721829</td><td>0.0142061102</td><td>0.027949444</td><td>0.0134367217</td><td>0.026226815</td><td>0.02230800</td></tr>\n",
       "\t<tr><th scope=row>CM</th><td>0.176145065</td><td>0.176563950</td><td>0.17508244</td><td>0.0628961379</td><td>0.068130528</td><td>0.171633479</td><td>0.0753817262</td><td>0.168908215</td><td>0.0668340960</td><td>0.171967692</td><td>0.13135433</td></tr>\n",
       "\t<tr><th scope=row>Naive</th><td>0.534516673</td><td>0.540112616</td><td>0.53819544</td><td>0.1945542986</td><td>0.212319636</td><td>0.538321701</td><td>0.2173469431</td><td>0.532264045</td><td>0.2077239675</td><td>0.529616499</td><td>0.40449718</td></tr>\n",
       "\t<tr><th scope=row>SCM</th><td>0.017054231</td><td>0.017426913</td><td>0.01832368</td><td>0.0068023705</td><td>0.007761705</td><td>0.016471783</td><td>0.0075666654</td><td>0.016382414</td><td>0.0073003523</td><td>0.016617182</td><td>0.01317073</td></tr>\n",
       "\t<tr><th scope=row>TE</th><td>0.105287072</td><td>0.105020132</td><td>0.10541054</td><td>0.6912940567</td><td>0.655329358</td><td>0.104643191</td><td>0.6485967123</td><td>0.103878493</td><td>0.6720101833</td><td>0.103410962</td><td>0.32948807</td></tr>\n",
       "\t<tr><th scope=row>PD1</th><td>0.008307323</td><td>0.036036621</td><td>0.00216276</td><td>0.0009940427</td><td>0.000432503</td><td>0.053339297</td><td>0.0007790123</td><td>0.002283665</td><td>0.0001603124</td><td>0.003498305</td><td>0.01079938</td></tr>\n",
       "\t<tr><th scope=row>LAG3</th><td>0.048087485</td><td>0.018759682</td><td>0.04588996</td><td>0.0048887360</td><td>0.004968521</td><td>0.017531723</td><td>0.0055911162</td><td>0.050125244</td><td>0.0050413542</td><td>0.046521425</td><td>0.02474053</td></tr>\n",
       "\t<tr><th scope=row>TIM3</th><td>0.020022494</td><td>0.005029192</td><td>0.02314695</td><td>0.0058206371</td><td>0.006480788</td><td>0.006224018</td><td>0.0021273601</td><td>0.039382487</td><td>0.0063656859</td><td>0.036263668</td><td>0.01508633</td></tr>\n",
       "</tbody>\n",
       "</table>\n"
      ],
      "text/latex": [
       "A data.frame: 10 x 11\n",
       "\\begin{tabular}{r|lllllllllll}\n",
       "  & X1 & X2 & X3 & X4 & X5 & X6 & X7 & X8 & X9 & X10 & ave\\\\\n",
       "  & <dbl> & <dbl> & <dbl> & <dbl> & <dbl> & <dbl> & <dbl> & <dbl> & <dbl> & <dbl> & <dbl>\\\\\n",
       "\\hline\n",
       "\tATC & 0.026210562 & 0.030896302 & 0.02823760 & 0.0067790916 & 0.016675993 & 0.029124282 & 0.0132055424 & 0.025738691 & 0.0068203931 & 0.026614938 & 0.02103034\\\\\n",
       "\tAge & 0.019328371 & 0.022339882 & 0.01764111 & 0.0117354589 & 0.012968948 & 0.019814772 & 0.0130133121 & 0.018122727 & 0.0124644893 & 0.020724915 & 0.01681540\\\\\n",
       "\tEM & 0.030357787 & 0.030493486 & 0.02720727 & 0.0127024558 & 0.012778060 & 0.027721829 & 0.0142061102 & 0.027949444 & 0.0134367217 & 0.026226815 & 0.02230800\\\\\n",
       "\tCM & 0.176145065 & 0.176563950 & 0.17508244 & 0.0628961379 & 0.068130528 & 0.171633479 & 0.0753817262 & 0.168908215 & 0.0668340960 & 0.171967692 & 0.13135433\\\\\n",
       "\tNaive & 0.534516673 & 0.540112616 & 0.53819544 & 0.1945542986 & 0.212319636 & 0.538321701 & 0.2173469431 & 0.532264045 & 0.2077239675 & 0.529616499 & 0.40449718\\\\\n",
       "\tSCM & 0.017054231 & 0.017426913 & 0.01832368 & 0.0068023705 & 0.007761705 & 0.016471783 & 0.0075666654 & 0.016382414 & 0.0073003523 & 0.016617182 & 0.01317073\\\\\n",
       "\tTE & 0.105287072 & 0.105020132 & 0.10541054 & 0.6912940567 & 0.655329358 & 0.104643191 & 0.6485967123 & 0.103878493 & 0.6720101833 & 0.103410962 & 0.32948807\\\\\n",
       "\tPD1 & 0.008307323 & 0.036036621 & 0.00216276 & 0.0009940427 & 0.000432503 & 0.053339297 & 0.0007790123 & 0.002283665 & 0.0001603124 & 0.003498305 & 0.01079938\\\\\n",
       "\tLAG3 & 0.048087485 & 0.018759682 & 0.04588996 & 0.0048887360 & 0.004968521 & 0.017531723 & 0.0055911162 & 0.050125244 & 0.0050413542 & 0.046521425 & 0.02474053\\\\\n",
       "\tTIM3 & 0.020022494 & 0.005029192 & 0.02314695 & 0.0058206371 & 0.006480788 & 0.006224018 & 0.0021273601 & 0.039382487 & 0.0063656859 & 0.036263668 & 0.01508633\\\\\n",
       "\\end{tabular}\n"
      ],
      "text/markdown": [
       "\n",
       "A data.frame: 10 x 11\n",
       "\n",
       "| <!--/--> | X1 &lt;dbl&gt; | X2 &lt;dbl&gt; | X3 &lt;dbl&gt; | X4 &lt;dbl&gt; | X5 &lt;dbl&gt; | X6 &lt;dbl&gt; | X7 &lt;dbl&gt; | X8 &lt;dbl&gt; | X9 &lt;dbl&gt; | X10 &lt;dbl&gt; | ave &lt;dbl&gt; |\n",
       "|---|---|---|---|---|---|---|---|---|---|---|---|\n",
       "| ATC | 0.026210562 | 0.030896302 | 0.02823760 | 0.0067790916 | 0.016675993 | 0.029124282 | 0.0132055424 | 0.025738691 | 0.0068203931 | 0.026614938 | 0.02103034 |\n",
       "| Age | 0.019328371 | 0.022339882 | 0.01764111 | 0.0117354589 | 0.012968948 | 0.019814772 | 0.0130133121 | 0.018122727 | 0.0124644893 | 0.020724915 | 0.01681540 |\n",
       "| EM | 0.030357787 | 0.030493486 | 0.02720727 | 0.0127024558 | 0.012778060 | 0.027721829 | 0.0142061102 | 0.027949444 | 0.0134367217 | 0.026226815 | 0.02230800 |\n",
       "| CM | 0.176145065 | 0.176563950 | 0.17508244 | 0.0628961379 | 0.068130528 | 0.171633479 | 0.0753817262 | 0.168908215 | 0.0668340960 | 0.171967692 | 0.13135433 |\n",
       "| Naive | 0.534516673 | 0.540112616 | 0.53819544 | 0.1945542986 | 0.212319636 | 0.538321701 | 0.2173469431 | 0.532264045 | 0.2077239675 | 0.529616499 | 0.40449718 |\n",
       "| SCM | 0.017054231 | 0.017426913 | 0.01832368 | 0.0068023705 | 0.007761705 | 0.016471783 | 0.0075666654 | 0.016382414 | 0.0073003523 | 0.016617182 | 0.01317073 |\n",
       "| TE | 0.105287072 | 0.105020132 | 0.10541054 | 0.6912940567 | 0.655329358 | 0.104643191 | 0.6485967123 | 0.103878493 | 0.6720101833 | 0.103410962 | 0.32948807 |\n",
       "| PD1 | 0.008307323 | 0.036036621 | 0.00216276 | 0.0009940427 | 0.000432503 | 0.053339297 | 0.0007790123 | 0.002283665 | 0.0001603124 | 0.003498305 | 0.01079938 |\n",
       "| LAG3 | 0.048087485 | 0.018759682 | 0.04588996 | 0.0048887360 | 0.004968521 | 0.017531723 | 0.0055911162 | 0.050125244 | 0.0050413542 | 0.046521425 | 0.02474053 |\n",
       "| TIM3 | 0.020022494 | 0.005029192 | 0.02314695 | 0.0058206371 | 0.006480788 | 0.006224018 | 0.0021273601 | 0.039382487 | 0.0063656859 | 0.036263668 | 0.01508633 |\n",
       "\n"
      ],
      "text/plain": [
       "      X1          X2          X3         X4           X5          X6         \n",
       "ATC   0.026210562 0.030896302 0.02823760 0.0067790916 0.016675993 0.029124282\n",
       "Age   0.019328371 0.022339882 0.01764111 0.0117354589 0.012968948 0.019814772\n",
       "EM    0.030357787 0.030493486 0.02720727 0.0127024558 0.012778060 0.027721829\n",
       "CM    0.176145065 0.176563950 0.17508244 0.0628961379 0.068130528 0.171633479\n",
       "Naive 0.534516673 0.540112616 0.53819544 0.1945542986 0.212319636 0.538321701\n",
       "SCM   0.017054231 0.017426913 0.01832368 0.0068023705 0.007761705 0.016471783\n",
       "TE    0.105287072 0.105020132 0.10541054 0.6912940567 0.655329358 0.104643191\n",
       "PD1   0.008307323 0.036036621 0.00216276 0.0009940427 0.000432503 0.053339297\n",
       "LAG3  0.048087485 0.018759682 0.04588996 0.0048887360 0.004968521 0.017531723\n",
       "TIM3  0.020022494 0.005029192 0.02314695 0.0058206371 0.006480788 0.006224018\n",
       "      X7           X8          X9           X10         ave       \n",
       "ATC   0.0132055424 0.025738691 0.0068203931 0.026614938 0.02103034\n",
       "Age   0.0130133121 0.018122727 0.0124644893 0.020724915 0.01681540\n",
       "EM    0.0142061102 0.027949444 0.0134367217 0.026226815 0.02230800\n",
       "CM    0.0753817262 0.168908215 0.0668340960 0.171967692 0.13135433\n",
       "Naive 0.2173469431 0.532264045 0.2077239675 0.529616499 0.40449718\n",
       "SCM   0.0075666654 0.016382414 0.0073003523 0.016617182 0.01317073\n",
       "TE    0.6485967123 0.103878493 0.6720101833 0.103410962 0.32948807\n",
       "PD1   0.0007790123 0.002283665 0.0001603124 0.003498305 0.01079938\n",
       "LAG3  0.0055911162 0.050125244 0.0050413542 0.046521425 0.02474053\n",
       "TIM3  0.0021273601 0.039382487 0.0063656859 0.036263668 0.01508633"
      ]
     },
     "metadata": {},
     "output_type": "display_data"
    }
   ],
   "source": [
    "output[output$ave > 0.01,] # pbmc"
   ]
  },
  {
   "attachments": {},
   "cell_type": "markdown",
   "metadata": {},
   "source": [
    "# Caret"
   ]
  },
  {
   "cell_type": "code",
   "execution_count": 1,
   "metadata": {
    "vscode": {
     "languageId": "r"
    }
   },
   "outputs": [],
   "source": [
    "library(\"mlbench\")"
   ]
  },
  {
   "cell_type": "code",
   "execution_count": 2,
   "metadata": {
    "vscode": {
     "languageId": "r"
    }
   },
   "outputs": [],
   "source": [
    "data(Sonar)"
   ]
  },
  {
   "cell_type": "code",
   "execution_count": 3,
   "metadata": {
    "vscode": {
     "languageId": "r"
    }
   },
   "outputs": [
    {
     "data": {
      "text/html": [
       "<table class=\"dataframe\">\n",
       "<caption>A data.frame: 6 x 61</caption>\n",
       "<thead>\n",
       "\t<tr><th></th><th scope=col>V1</th><th scope=col>V2</th><th scope=col>V3</th><th scope=col>V4</th><th scope=col>V5</th><th scope=col>V6</th><th scope=col>V7</th><th scope=col>V8</th><th scope=col>V9</th><th scope=col>V10</th><th scope=col>...</th><th scope=col>V52</th><th scope=col>V53</th><th scope=col>V54</th><th scope=col>V55</th><th scope=col>V56</th><th scope=col>V57</th><th scope=col>V58</th><th scope=col>V59</th><th scope=col>V60</th><th scope=col>Class</th></tr>\n",
       "\t<tr><th></th><th scope=col>&lt;dbl&gt;</th><th scope=col>&lt;dbl&gt;</th><th scope=col>&lt;dbl&gt;</th><th scope=col>&lt;dbl&gt;</th><th scope=col>&lt;dbl&gt;</th><th scope=col>&lt;dbl&gt;</th><th scope=col>&lt;dbl&gt;</th><th scope=col>&lt;dbl&gt;</th><th scope=col>&lt;dbl&gt;</th><th scope=col>&lt;dbl&gt;</th><th scope=col>...</th><th scope=col>&lt;dbl&gt;</th><th scope=col>&lt;dbl&gt;</th><th scope=col>&lt;dbl&gt;</th><th scope=col>&lt;dbl&gt;</th><th scope=col>&lt;dbl&gt;</th><th scope=col>&lt;dbl&gt;</th><th scope=col>&lt;dbl&gt;</th><th scope=col>&lt;dbl&gt;</th><th scope=col>&lt;dbl&gt;</th><th scope=col>&lt;fct&gt;</th></tr>\n",
       "</thead>\n",
       "<tbody>\n",
       "\t<tr><th scope=row>1</th><td>0.0200</td><td>0.0371</td><td>0.0428</td><td>0.0207</td><td>0.0954</td><td>0.0986</td><td>0.1539</td><td>0.1601</td><td>0.3109</td><td>0.2111</td><td>...</td><td>0.0027</td><td>0.0065</td><td>0.0159</td><td>0.0072</td><td>0.0167</td><td>0.0180</td><td>0.0084</td><td>0.0090</td><td>0.0032</td><td>R</td></tr>\n",
       "\t<tr><th scope=row>2</th><td>0.0453</td><td>0.0523</td><td>0.0843</td><td>0.0689</td><td>0.1183</td><td>0.2583</td><td>0.2156</td><td>0.3481</td><td>0.3337</td><td>0.2872</td><td>...</td><td>0.0084</td><td>0.0089</td><td>0.0048</td><td>0.0094</td><td>0.0191</td><td>0.0140</td><td>0.0049</td><td>0.0052</td><td>0.0044</td><td>R</td></tr>\n",
       "\t<tr><th scope=row>3</th><td>0.0262</td><td>0.0582</td><td>0.1099</td><td>0.1083</td><td>0.0974</td><td>0.2280</td><td>0.2431</td><td>0.3771</td><td>0.5598</td><td>0.6194</td><td>...</td><td>0.0232</td><td>0.0166</td><td>0.0095</td><td>0.0180</td><td>0.0244</td><td>0.0316</td><td>0.0164</td><td>0.0095</td><td>0.0078</td><td>R</td></tr>\n",
       "\t<tr><th scope=row>4</th><td>0.0100</td><td>0.0171</td><td>0.0623</td><td>0.0205</td><td>0.0205</td><td>0.0368</td><td>0.1098</td><td>0.1276</td><td>0.0598</td><td>0.1264</td><td>...</td><td>0.0121</td><td>0.0036</td><td>0.0150</td><td>0.0085</td><td>0.0073</td><td>0.0050</td><td>0.0044</td><td>0.0040</td><td>0.0117</td><td>R</td></tr>\n",
       "\t<tr><th scope=row>5</th><td>0.0762</td><td>0.0666</td><td>0.0481</td><td>0.0394</td><td>0.0590</td><td>0.0649</td><td>0.1209</td><td>0.2467</td><td>0.3564</td><td>0.4459</td><td>...</td><td>0.0031</td><td>0.0054</td><td>0.0105</td><td>0.0110</td><td>0.0015</td><td>0.0072</td><td>0.0048</td><td>0.0107</td><td>0.0094</td><td>R</td></tr>\n",
       "\t<tr><th scope=row>6</th><td>0.0286</td><td>0.0453</td><td>0.0277</td><td>0.0174</td><td>0.0384</td><td>0.0990</td><td>0.1201</td><td>0.1833</td><td>0.2105</td><td>0.3039</td><td>...</td><td>0.0045</td><td>0.0014</td><td>0.0038</td><td>0.0013</td><td>0.0089</td><td>0.0057</td><td>0.0027</td><td>0.0051</td><td>0.0062</td><td>R</td></tr>\n",
       "</tbody>\n",
       "</table>\n"
      ],
      "text/latex": [
       "A data.frame: 6 x 61\n",
       "\\begin{tabular}{r|lllllllllllllllllllll}\n",
       "  & V1 & V2 & V3 & V4 & V5 & V6 & V7 & V8 & V9 & V10 & ... & V52 & V53 & V54 & V55 & V56 & V57 & V58 & V59 & V60 & Class\\\\\n",
       "  & <dbl> & <dbl> & <dbl> & <dbl> & <dbl> & <dbl> & <dbl> & <dbl> & <dbl> & <dbl> & ... & <dbl> & <dbl> & <dbl> & <dbl> & <dbl> & <dbl> & <dbl> & <dbl> & <dbl> & <fct>\\\\\n",
       "\\hline\n",
       "\t1 & 0.0200 & 0.0371 & 0.0428 & 0.0207 & 0.0954 & 0.0986 & 0.1539 & 0.1601 & 0.3109 & 0.2111 & ... & 0.0027 & 0.0065 & 0.0159 & 0.0072 & 0.0167 & 0.0180 & 0.0084 & 0.0090 & 0.0032 & R\\\\\n",
       "\t2 & 0.0453 & 0.0523 & 0.0843 & 0.0689 & 0.1183 & 0.2583 & 0.2156 & 0.3481 & 0.3337 & 0.2872 & ... & 0.0084 & 0.0089 & 0.0048 & 0.0094 & 0.0191 & 0.0140 & 0.0049 & 0.0052 & 0.0044 & R\\\\\n",
       "\t3 & 0.0262 & 0.0582 & 0.1099 & 0.1083 & 0.0974 & 0.2280 & 0.2431 & 0.3771 & 0.5598 & 0.6194 & ... & 0.0232 & 0.0166 & 0.0095 & 0.0180 & 0.0244 & 0.0316 & 0.0164 & 0.0095 & 0.0078 & R\\\\\n",
       "\t4 & 0.0100 & 0.0171 & 0.0623 & 0.0205 & 0.0205 & 0.0368 & 0.1098 & 0.1276 & 0.0598 & 0.1264 & ... & 0.0121 & 0.0036 & 0.0150 & 0.0085 & 0.0073 & 0.0050 & 0.0044 & 0.0040 & 0.0117 & R\\\\\n",
       "\t5 & 0.0762 & 0.0666 & 0.0481 & 0.0394 & 0.0590 & 0.0649 & 0.1209 & 0.2467 & 0.3564 & 0.4459 & ... & 0.0031 & 0.0054 & 0.0105 & 0.0110 & 0.0015 & 0.0072 & 0.0048 & 0.0107 & 0.0094 & R\\\\\n",
       "\t6 & 0.0286 & 0.0453 & 0.0277 & 0.0174 & 0.0384 & 0.0990 & 0.1201 & 0.1833 & 0.2105 & 0.3039 & ... & 0.0045 & 0.0014 & 0.0038 & 0.0013 & 0.0089 & 0.0057 & 0.0027 & 0.0051 & 0.0062 & R\\\\\n",
       "\\end{tabular}\n"
      ],
      "text/markdown": [
       "\n",
       "A data.frame: 6 x 61\n",
       "\n",
       "| <!--/--> | V1 &lt;dbl&gt; | V2 &lt;dbl&gt; | V3 &lt;dbl&gt; | V4 &lt;dbl&gt; | V5 &lt;dbl&gt; | V6 &lt;dbl&gt; | V7 &lt;dbl&gt; | V8 &lt;dbl&gt; | V9 &lt;dbl&gt; | V10 &lt;dbl&gt; | ... ... | V52 &lt;dbl&gt; | V53 &lt;dbl&gt; | V54 &lt;dbl&gt; | V55 &lt;dbl&gt; | V56 &lt;dbl&gt; | V57 &lt;dbl&gt; | V58 &lt;dbl&gt; | V59 &lt;dbl&gt; | V60 &lt;dbl&gt; | Class &lt;fct&gt; |\n",
       "|---|---|---|---|---|---|---|---|---|---|---|---|---|---|---|---|---|---|---|---|---|---|\n",
       "| 1 | 0.0200 | 0.0371 | 0.0428 | 0.0207 | 0.0954 | 0.0986 | 0.1539 | 0.1601 | 0.3109 | 0.2111 | ... | 0.0027 | 0.0065 | 0.0159 | 0.0072 | 0.0167 | 0.0180 | 0.0084 | 0.0090 | 0.0032 | R |\n",
       "| 2 | 0.0453 | 0.0523 | 0.0843 | 0.0689 | 0.1183 | 0.2583 | 0.2156 | 0.3481 | 0.3337 | 0.2872 | ... | 0.0084 | 0.0089 | 0.0048 | 0.0094 | 0.0191 | 0.0140 | 0.0049 | 0.0052 | 0.0044 | R |\n",
       "| 3 | 0.0262 | 0.0582 | 0.1099 | 0.1083 | 0.0974 | 0.2280 | 0.2431 | 0.3771 | 0.5598 | 0.6194 | ... | 0.0232 | 0.0166 | 0.0095 | 0.0180 | 0.0244 | 0.0316 | 0.0164 | 0.0095 | 0.0078 | R |\n",
       "| 4 | 0.0100 | 0.0171 | 0.0623 | 0.0205 | 0.0205 | 0.0368 | 0.1098 | 0.1276 | 0.0598 | 0.1264 | ... | 0.0121 | 0.0036 | 0.0150 | 0.0085 | 0.0073 | 0.0050 | 0.0044 | 0.0040 | 0.0117 | R |\n",
       "| 5 | 0.0762 | 0.0666 | 0.0481 | 0.0394 | 0.0590 | 0.0649 | 0.1209 | 0.2467 | 0.3564 | 0.4459 | ... | 0.0031 | 0.0054 | 0.0105 | 0.0110 | 0.0015 | 0.0072 | 0.0048 | 0.0107 | 0.0094 | R |\n",
       "| 6 | 0.0286 | 0.0453 | 0.0277 | 0.0174 | 0.0384 | 0.0990 | 0.1201 | 0.1833 | 0.2105 | 0.3039 | ... | 0.0045 | 0.0014 | 0.0038 | 0.0013 | 0.0089 | 0.0057 | 0.0027 | 0.0051 | 0.0062 | R |\n",
       "\n"
      ],
      "text/plain": [
       "  V1     V2     V3     V4     V5     V6     V7     V8     V9     V10    ...\n",
       "1 0.0200 0.0371 0.0428 0.0207 0.0954 0.0986 0.1539 0.1601 0.3109 0.2111 ...\n",
       "2 0.0453 0.0523 0.0843 0.0689 0.1183 0.2583 0.2156 0.3481 0.3337 0.2872 ...\n",
       "3 0.0262 0.0582 0.1099 0.1083 0.0974 0.2280 0.2431 0.3771 0.5598 0.6194 ...\n",
       "4 0.0100 0.0171 0.0623 0.0205 0.0205 0.0368 0.1098 0.1276 0.0598 0.1264 ...\n",
       "5 0.0762 0.0666 0.0481 0.0394 0.0590 0.0649 0.1209 0.2467 0.3564 0.4459 ...\n",
       "6 0.0286 0.0453 0.0277 0.0174 0.0384 0.0990 0.1201 0.1833 0.2105 0.3039 ...\n",
       "  V52    V53    V54    V55    V56    V57    V58    V59    V60    Class\n",
       "1 0.0027 0.0065 0.0159 0.0072 0.0167 0.0180 0.0084 0.0090 0.0032 R    \n",
       "2 0.0084 0.0089 0.0048 0.0094 0.0191 0.0140 0.0049 0.0052 0.0044 R    \n",
       "3 0.0232 0.0166 0.0095 0.0180 0.0244 0.0316 0.0164 0.0095 0.0078 R    \n",
       "4 0.0121 0.0036 0.0150 0.0085 0.0073 0.0050 0.0044 0.0040 0.0117 R    \n",
       "5 0.0031 0.0054 0.0105 0.0110 0.0015 0.0072 0.0048 0.0107 0.0094 R    \n",
       "6 0.0045 0.0014 0.0038 0.0013 0.0089 0.0057 0.0027 0.0051 0.0062 R    "
      ]
     },
     "metadata": {},
     "output_type": "display_data"
    }
   ],
   "source": [
    "head(Sonar)"
   ]
  },
  {
   "cell_type": "code",
   "execution_count": 6,
   "metadata": {
    "vscode": {
     "languageId": "r"
    }
   },
   "outputs": [],
   "source": [
    "meta_div <- readr::read_rds(paste0(datapath, \"capTCRseq/meta_div_goodsamples.rds\"))"
   ]
  },
  {
   "cell_type": "code",
   "execution_count": 7,
   "metadata": {
    "vscode": {
     "languageId": "r"
    }
   },
   "outputs": [
    {
     "data": {
      "text/html": [
       "<style>\n",
       ".list-inline {list-style: none; margin:0; padding: 0}\n",
       ".list-inline>li {display: inline-block}\n",
       ".list-inline>li:not(:last-child)::after {content: \"\\00b7\"; padding: 0 .5ex}\n",
       "</style>\n",
       "<ol class=list-inline><li>773</li><li>64</li></ol>\n"
      ],
      "text/latex": [
       "\\begin{enumerate*}\n",
       "\\item 773\n",
       "\\item 64\n",
       "\\end{enumerate*}\n"
      ],
      "text/markdown": [
       "1. 773\n",
       "2. 64\n",
       "\n",
       "\n"
      ],
      "text/plain": [
       "[1] 773  64"
      ]
     },
     "metadata": {},
     "output_type": "display_data"
    }
   ],
   "source": [
    "dim(meta_div)"
   ]
  },
  {
   "cell_type": "code",
   "execution_count": 8,
   "metadata": {
    "vscode": {
     "languageId": "r"
    }
   },
   "outputs": [],
   "source": [
    "meta_div <- meta_div[ !is.na(meta_div$TRB), ]"
   ]
  },
  {
   "cell_type": "code",
   "execution_count": 9,
   "metadata": {
    "vscode": {
     "languageId": "r"
    }
   },
   "outputs": [
    {
     "data": {
      "text/html": [
       "<style>\n",
       ".list-inline {list-style: none; margin:0; padding: 0}\n",
       ".list-inline>li {display: inline-block}\n",
       ".list-inline>li:not(:last-child)::after {content: \"\\00b7\"; padding: 0 .5ex}\n",
       "</style>\n",
       "<ol class=list-inline><li>504</li><li>64</li></ol>\n"
      ],
      "text/latex": [
       "\\begin{enumerate*}\n",
       "\\item 504\n",
       "\\item 64\n",
       "\\end{enumerate*}\n"
      ],
      "text/markdown": [
       "1. 504\n",
       "2. 64\n",
       "\n",
       "\n"
      ],
      "text/plain": [
       "[1] 504  64"
      ]
     },
     "metadata": {},
     "output_type": "display_data"
    }
   ],
   "source": [
    "dim(meta_div)"
   ]
  },
  {
   "cell_type": "code",
   "execution_count": 10,
   "metadata": {
    "vscode": {
     "languageId": "r"
    }
   },
   "outputs": [],
   "source": [
    "meta_div <- meta_div[ meta_div$cancergroup != \"Normal\", ]"
   ]
  },
  {
   "cell_type": "code",
   "execution_count": 11,
   "metadata": {
    "vscode": {
     "languageId": "r"
    }
   },
   "outputs": [],
   "source": [
    "pbmc <- meta_div[ which(meta_div$sampletype == \"PBMC\"),]\n",
    "cfdna <- meta_div[ which(meta_div$sampletype == \"cfDNA\"),]"
   ]
  },
  {
   "cell_type": "code",
   "execution_count": 12,
   "metadata": {
    "vscode": {
     "languageId": "r"
    }
   },
   "outputs": [],
   "source": [
    "pbmc <- pbmc[ which(pbmc$cancergroup != \"LFS\"),]"
   ]
  },
  {
   "cell_type": "code",
   "execution_count": 14,
   "metadata": {
    "vscode": {
     "languageId": "r"
    }
   },
   "outputs": [
    {
     "data": {
      "text/html": [
       "<style>\n",
       ".list-inline {list-style: none; margin:0; padding: 0}\n",
       ".list-inline>li {display: inline-block}\n",
       ".list-inline>li:not(:last-child)::after {content: \"\\00b7\"; padding: 0 .5ex}\n",
       "</style>\n",
       "<ol class=list-inline><li>197</li><li>64</li></ol>\n"
      ],
      "text/latex": [
       "\\begin{enumerate*}\n",
       "\\item 197\n",
       "\\item 64\n",
       "\\end{enumerate*}\n"
      ],
      "text/markdown": [
       "1. 197\n",
       "2. 64\n",
       "\n",
       "\n"
      ],
      "text/plain": [
       "[1] 197  64"
      ]
     },
     "metadata": {},
     "output_type": "display_data"
    }
   ],
   "source": [
    "dim(pbmc)"
   ]
  },
  {
   "cell_type": "code",
   "execution_count": 13,
   "metadata": {
    "vscode": {
     "languageId": "r"
    }
   },
   "outputs": [],
   "source": [
    "hlas <- readr::read_rds(paste0(datapath, \"/HLA/INT_HLA_PCA_postqc.rds\"))"
   ]
  },
  {
   "cell_type": "code",
   "execution_count": 21,
   "metadata": {
    "vscode": {
     "languageId": "r"
    }
   },
   "outputs": [],
   "source": [
    "vgene <- readr::read_rds(paste0(datapath, \"/capTCRseq/INT_PBMC_V_PCA_postqc.rds\"))"
   ]
  },
  {
   "cell_type": "code",
   "execution_count": 15,
   "metadata": {
    "vscode": {
     "languageId": "r"
    }
   },
   "outputs": [],
   "source": [
    "hlas$Patient <- rownames(hlas)\n",
    "hlas$Patient <- paste(\"CHP_\", \"\", hlas$Patient, sep = \"\")\n",
    "hlas$Patient <- gsub(\"-.*\", \"\", hlas$Patient)"
   ]
  },
  {
   "cell_type": "code",
   "execution_count": 16,
   "metadata": {
    "vscode": {
     "languageId": "r"
    }
   },
   "outputs": [
    {
     "data": {
      "text/html": [
       "<style>\n",
       ".list-inline {list-style: none; margin:0; padding: 0}\n",
       ".list-inline>li {display: inline-block}\n",
       ".list-inline>li:not(:last-child)::after {content: \"\\00b7\"; padding: 0 .5ex}\n",
       "</style>\n",
       "<ol class=list-inline><li>67</li><li>68</li></ol>\n"
      ],
      "text/latex": [
       "\\begin{enumerate*}\n",
       "\\item 67\n",
       "\\item 68\n",
       "\\end{enumerate*}\n"
      ],
      "text/markdown": [
       "1. 67\n",
       "2. 68\n",
       "\n",
       "\n"
      ],
      "text/plain": [
       "[1] 67 68"
      ]
     },
     "metadata": {},
     "output_type": "display_data"
    }
   ],
   "source": [
    "dim(hlas)"
   ]
  },
  {
   "cell_type": "code",
   "execution_count": 17,
   "metadata": {
    "vscode": {
     "languageId": "r"
    }
   },
   "outputs": [
    {
     "data": {
      "text/html": [
       "<table class=\"dataframe\">\n",
       "<caption>A data.frame: 6 x 68</caption>\n",
       "<thead>\n",
       "\t<tr><th></th><th scope=col>PC1</th><th scope=col>PC2</th><th scope=col>PC3</th><th scope=col>PC4</th><th scope=col>PC5</th><th scope=col>PC6</th><th scope=col>PC7</th><th scope=col>PC8</th><th scope=col>PC9</th><th scope=col>PC10</th><th scope=col>...</th><th scope=col>PC59</th><th scope=col>PC60</th><th scope=col>PC61</th><th scope=col>PC62</th><th scope=col>PC63</th><th scope=col>PC64</th><th scope=col>PC65</th><th scope=col>PC66</th><th scope=col>PC67</th><th scope=col>Patient</th></tr>\n",
       "\t<tr><th></th><th scope=col>&lt;dbl&gt;</th><th scope=col>&lt;dbl&gt;</th><th scope=col>&lt;dbl&gt;</th><th scope=col>&lt;dbl&gt;</th><th scope=col>&lt;dbl&gt;</th><th scope=col>&lt;dbl&gt;</th><th scope=col>&lt;dbl&gt;</th><th scope=col>&lt;dbl&gt;</th><th scope=col>&lt;dbl&gt;</th><th scope=col>&lt;dbl&gt;</th><th scope=col>...</th><th scope=col>&lt;dbl&gt;</th><th scope=col>&lt;dbl&gt;</th><th scope=col>&lt;dbl&gt;</th><th scope=col>&lt;dbl&gt;</th><th scope=col>&lt;dbl&gt;</th><th scope=col>&lt;dbl&gt;</th><th scope=col>&lt;dbl&gt;</th><th scope=col>&lt;dbl&gt;</th><th scope=col>&lt;dbl&gt;</th><th scope=col>&lt;chr&gt;</th></tr>\n",
       "</thead>\n",
       "<tbody>\n",
       "\t<tr><th scope=row>315-05</th><td> 1.15890201</td><td>-2.898493</td><td>-3.4723486</td><td> 3.3513972</td><td>-1.2856095</td><td> 1.3652377</td><td>-0.98814450</td><td> 0.3025367</td><td>-2.4434325</td><td> 0.7885129</td><td>...</td><td> 0.04809325</td><td> 0.31848056</td><td> 0.3792461</td><td> 0.48432470</td><td>-0.31782748</td><td>-0.15632117</td><td> 0.11953686</td><td> 0.0143342286</td><td>-2.666270e-15</td><td>CHP_315</td></tr>\n",
       "\t<tr><th scope=row>319-05</th><td>-4.56374676</td><td>-1.367813</td><td> 2.0296584</td><td>-0.8423059</td><td>-0.7075454</td><td>-2.2932518</td><td> 1.85458779</td><td> 0.7702846</td><td>-0.5651254</td><td> 1.6015236</td><td>...</td><td> 0.80729791</td><td> 0.29301440</td><td> 0.1399793</td><td> 0.22943811</td><td>-0.69063112</td><td> 0.19551515</td><td>-0.08730404</td><td>-0.0411502225</td><td> 1.908196e-17</td><td>CHP_319</td></tr>\n",
       "\t<tr><th scope=row>323-03</th><td> 4.29021503</td><td>-1.655735</td><td>-1.5965245</td><td> 0.1538018</td><td> 1.9207118</td><td>-1.5288560</td><td> 3.20844423</td><td>-3.1797025</td><td> 3.5822593</td><td>-1.8978836</td><td>...</td><td>-0.04265836</td><td>-0.04030207</td><td>-0.1558266</td><td>-0.07187716</td><td>-0.08719310</td><td>-0.01660297</td><td>-0.05961457</td><td> 0.0770658974</td><td> 1.462372e-15</td><td>CHP_323</td></tr>\n",
       "\t<tr><th scope=row>329-04</th><td>-4.25557065</td><td> 0.314588</td><td>-4.4081750</td><td>-1.0062229</td><td> 4.8715689</td><td>-0.2699918</td><td>-1.20600856</td><td>-0.9781981</td><td> 1.8880483</td><td> 0.7504148</td><td>...</td><td> 0.10208720</td><td>-0.38351856</td><td> 0.1420335</td><td> 0.07055897</td><td> 0.30820487</td><td> 0.01584124</td><td> 0.03888392</td><td>-0.1613784630</td><td>-3.278627e-16</td><td>CHP_329</td></tr>\n",
       "\t<tr><th scope=row>330-05</th><td>-0.08941476</td><td>-2.768304</td><td> 2.1200714</td><td>-3.4903109</td><td>-1.0884092</td><td>-1.3053444</td><td>-0.04510793</td><td>-2.1610084</td><td>-0.1333316</td><td> 1.4136399</td><td>...</td><td>-0.07073121</td><td> 0.16185579</td><td> 0.3380909</td><td> 0.34679493</td><td> 0.13256591</td><td>-0.01518200</td><td>-0.02311564</td><td>-0.1974133531</td><td> 1.115427e-15</td><td>CHP_330</td></tr>\n",
       "\t<tr><th scope=row>331-04</th><td> 3.44426309</td><td> 4.036729</td><td> 0.8425664</td><td>-0.1457962</td><td> 1.5503795</td><td> 0.8197901</td><td> 1.79551677</td><td> 0.8606525</td><td>-2.9234943</td><td> 0.1003881</td><td>...</td><td> 0.60078922</td><td> 0.78459363</td><td>-0.1427119</td><td> 0.11234774</td><td> 0.04738167</td><td>-0.21322384</td><td>-0.04261676</td><td>-0.0001452749</td><td> 4.631712e-16</td><td>CHP_331</td></tr>\n",
       "</tbody>\n",
       "</table>\n"
      ],
      "text/latex": [
       "A data.frame: 6 x 68\n",
       "\\begin{tabular}{r|lllllllllllllllllllll}\n",
       "  & PC1 & PC2 & PC3 & PC4 & PC5 & PC6 & PC7 & PC8 & PC9 & PC10 & ... & PC59 & PC60 & PC61 & PC62 & PC63 & PC64 & PC65 & PC66 & PC67 & Patient\\\\\n",
       "  & <dbl> & <dbl> & <dbl> & <dbl> & <dbl> & <dbl> & <dbl> & <dbl> & <dbl> & <dbl> & ... & <dbl> & <dbl> & <dbl> & <dbl> & <dbl> & <dbl> & <dbl> & <dbl> & <dbl> & <chr>\\\\\n",
       "\\hline\n",
       "\t315-05 &  1.15890201 & -2.898493 & -3.4723486 &  3.3513972 & -1.2856095 &  1.3652377 & -0.98814450 &  0.3025367 & -2.4434325 &  0.7885129 & ... &  0.04809325 &  0.31848056 &  0.3792461 &  0.48432470 & -0.31782748 & -0.15632117 &  0.11953686 &  0.0143342286 & -2.666270e-15 & CHP\\_315\\\\\n",
       "\t319-05 & -4.56374676 & -1.367813 &  2.0296584 & -0.8423059 & -0.7075454 & -2.2932518 &  1.85458779 &  0.7702846 & -0.5651254 &  1.6015236 & ... &  0.80729791 &  0.29301440 &  0.1399793 &  0.22943811 & -0.69063112 &  0.19551515 & -0.08730404 & -0.0411502225 &  1.908196e-17 & CHP\\_319\\\\\n",
       "\t323-03 &  4.29021503 & -1.655735 & -1.5965245 &  0.1538018 &  1.9207118 & -1.5288560 &  3.20844423 & -3.1797025 &  3.5822593 & -1.8978836 & ... & -0.04265836 & -0.04030207 & -0.1558266 & -0.07187716 & -0.08719310 & -0.01660297 & -0.05961457 &  0.0770658974 &  1.462372e-15 & CHP\\_323\\\\\n",
       "\t329-04 & -4.25557065 &  0.314588 & -4.4081750 & -1.0062229 &  4.8715689 & -0.2699918 & -1.20600856 & -0.9781981 &  1.8880483 &  0.7504148 & ... &  0.10208720 & -0.38351856 &  0.1420335 &  0.07055897 &  0.30820487 &  0.01584124 &  0.03888392 & -0.1613784630 & -3.278627e-16 & CHP\\_329\\\\\n",
       "\t330-05 & -0.08941476 & -2.768304 &  2.1200714 & -3.4903109 & -1.0884092 & -1.3053444 & -0.04510793 & -2.1610084 & -0.1333316 &  1.4136399 & ... & -0.07073121 &  0.16185579 &  0.3380909 &  0.34679493 &  0.13256591 & -0.01518200 & -0.02311564 & -0.1974133531 &  1.115427e-15 & CHP\\_330\\\\\n",
       "\t331-04 &  3.44426309 &  4.036729 &  0.8425664 & -0.1457962 &  1.5503795 &  0.8197901 &  1.79551677 &  0.8606525 & -2.9234943 &  0.1003881 & ... &  0.60078922 &  0.78459363 & -0.1427119 &  0.11234774 &  0.04738167 & -0.21322384 & -0.04261676 & -0.0001452749 &  4.631712e-16 & CHP\\_331\\\\\n",
       "\\end{tabular}\n"
      ],
      "text/markdown": [
       "\n",
       "A data.frame: 6 x 68\n",
       "\n",
       "| <!--/--> | PC1 &lt;dbl&gt; | PC2 &lt;dbl&gt; | PC3 &lt;dbl&gt; | PC4 &lt;dbl&gt; | PC5 &lt;dbl&gt; | PC6 &lt;dbl&gt; | PC7 &lt;dbl&gt; | PC8 &lt;dbl&gt; | PC9 &lt;dbl&gt; | PC10 &lt;dbl&gt; | ... ... | PC59 &lt;dbl&gt; | PC60 &lt;dbl&gt; | PC61 &lt;dbl&gt; | PC62 &lt;dbl&gt; | PC63 &lt;dbl&gt; | PC64 &lt;dbl&gt; | PC65 &lt;dbl&gt; | PC66 &lt;dbl&gt; | PC67 &lt;dbl&gt; | Patient &lt;chr&gt; |\n",
       "|---|---|---|---|---|---|---|---|---|---|---|---|---|---|---|---|---|---|---|---|---|---|\n",
       "| 315-05 |  1.15890201 | -2.898493 | -3.4723486 |  3.3513972 | -1.2856095 |  1.3652377 | -0.98814450 |  0.3025367 | -2.4434325 |  0.7885129 | ... |  0.04809325 |  0.31848056 |  0.3792461 |  0.48432470 | -0.31782748 | -0.15632117 |  0.11953686 |  0.0143342286 | -2.666270e-15 | CHP_315 |\n",
       "| 319-05 | -4.56374676 | -1.367813 |  2.0296584 | -0.8423059 | -0.7075454 | -2.2932518 |  1.85458779 |  0.7702846 | -0.5651254 |  1.6015236 | ... |  0.80729791 |  0.29301440 |  0.1399793 |  0.22943811 | -0.69063112 |  0.19551515 | -0.08730404 | -0.0411502225 |  1.908196e-17 | CHP_319 |\n",
       "| 323-03 |  4.29021503 | -1.655735 | -1.5965245 |  0.1538018 |  1.9207118 | -1.5288560 |  3.20844423 | -3.1797025 |  3.5822593 | -1.8978836 | ... | -0.04265836 | -0.04030207 | -0.1558266 | -0.07187716 | -0.08719310 | -0.01660297 | -0.05961457 |  0.0770658974 |  1.462372e-15 | CHP_323 |\n",
       "| 329-04 | -4.25557065 |  0.314588 | -4.4081750 | -1.0062229 |  4.8715689 | -0.2699918 | -1.20600856 | -0.9781981 |  1.8880483 |  0.7504148 | ... |  0.10208720 | -0.38351856 |  0.1420335 |  0.07055897 |  0.30820487 |  0.01584124 |  0.03888392 | -0.1613784630 | -3.278627e-16 | CHP_329 |\n",
       "| 330-05 | -0.08941476 | -2.768304 |  2.1200714 | -3.4903109 | -1.0884092 | -1.3053444 | -0.04510793 | -2.1610084 | -0.1333316 |  1.4136399 | ... | -0.07073121 |  0.16185579 |  0.3380909 |  0.34679493 |  0.13256591 | -0.01518200 | -0.02311564 | -0.1974133531 |  1.115427e-15 | CHP_330 |\n",
       "| 331-04 |  3.44426309 |  4.036729 |  0.8425664 | -0.1457962 |  1.5503795 |  0.8197901 |  1.79551677 |  0.8606525 | -2.9234943 |  0.1003881 | ... |  0.60078922 |  0.78459363 | -0.1427119 |  0.11234774 |  0.04738167 | -0.21322384 | -0.04261676 | -0.0001452749 |  4.631712e-16 | CHP_331 |\n",
       "\n"
      ],
      "text/plain": [
       "       PC1         PC2       PC3        PC4        PC5        PC6       \n",
       "315-05  1.15890201 -2.898493 -3.4723486  3.3513972 -1.2856095  1.3652377\n",
       "319-05 -4.56374676 -1.367813  2.0296584 -0.8423059 -0.7075454 -2.2932518\n",
       "323-03  4.29021503 -1.655735 -1.5965245  0.1538018  1.9207118 -1.5288560\n",
       "329-04 -4.25557065  0.314588 -4.4081750 -1.0062229  4.8715689 -0.2699918\n",
       "330-05 -0.08941476 -2.768304  2.1200714 -3.4903109 -1.0884092 -1.3053444\n",
       "331-04  3.44426309  4.036729  0.8425664 -0.1457962  1.5503795  0.8197901\n",
       "       PC7         PC8        PC9        PC10       ... PC59        PC60       \n",
       "315-05 -0.98814450  0.3025367 -2.4434325  0.7885129 ...  0.04809325  0.31848056\n",
       "319-05  1.85458779  0.7702846 -0.5651254  1.6015236 ...  0.80729791  0.29301440\n",
       "323-03  3.20844423 -3.1797025  3.5822593 -1.8978836 ... -0.04265836 -0.04030207\n",
       "329-04 -1.20600856 -0.9781981  1.8880483  0.7504148 ...  0.10208720 -0.38351856\n",
       "330-05 -0.04510793 -2.1610084 -0.1333316  1.4136399 ... -0.07073121  0.16185579\n",
       "331-04  1.79551677  0.8606525 -2.9234943  0.1003881 ...  0.60078922  0.78459363\n",
       "       PC61       PC62        PC63        PC64        PC65        PC66         \n",
       "315-05  0.3792461  0.48432470 -0.31782748 -0.15632117  0.11953686  0.0143342286\n",
       "319-05  0.1399793  0.22943811 -0.69063112  0.19551515 -0.08730404 -0.0411502225\n",
       "323-03 -0.1558266 -0.07187716 -0.08719310 -0.01660297 -0.05961457  0.0770658974\n",
       "329-04  0.1420335  0.07055897  0.30820487  0.01584124  0.03888392 -0.1613784630\n",
       "330-05  0.3380909  0.34679493  0.13256591 -0.01518200 -0.02311564 -0.1974133531\n",
       "331-04 -0.1427119  0.11234774  0.04738167 -0.21322384 -0.04261676 -0.0001452749\n",
       "       PC67          Patient\n",
       "315-05 -2.666270e-15 CHP_315\n",
       "319-05  1.908196e-17 CHP_319\n",
       "323-03  1.462372e-15 CHP_323\n",
       "329-04 -3.278627e-16 CHP_329\n",
       "330-05  1.115427e-15 CHP_330\n",
       "331-04  4.631712e-16 CHP_331"
      ]
     },
     "metadata": {},
     "output_type": "display_data"
    }
   ],
   "source": [
    "head(hlas)"
   ]
  },
  {
   "cell_type": "code",
   "execution_count": 18,
   "metadata": {
    "vscode": {
     "languageId": "r"
    }
   },
   "outputs": [],
   "source": [
    "pbmc_noLFS$HLA_PC1 <- hlas[ match(pbmc_noLFS$Patient, hlas$Patient), \"PC1\"]\n",
    "pbmc_noLFS$HLA_PC2 <- hlas[ match(pbmc_noLFS$Patient, hlas$Patient), \"PC2\"]\n",
    "pbmc_noLFS$HLA_PC3 <- hlas[ match(pbmc_noLFS$Patient, hlas$Patient), \"PC3\"]"
   ]
  },
  {
   "cell_type": "code",
   "execution_count": 23,
   "metadata": {
    "vscode": {
     "languageId": "r"
    }
   },
   "outputs": [
    {
     "data": {
      "text/html": [
       "<table class=\"dataframe\">\n",
       "<caption>A data.frame: 6 x 49</caption>\n",
       "<thead>\n",
       "\t<tr><th></th><th scope=col>PC1</th><th scope=col>PC2</th><th scope=col>PC3</th><th scope=col>PC4</th><th scope=col>PC5</th><th scope=col>PC6</th><th scope=col>PC7</th><th scope=col>PC8</th><th scope=col>PC9</th><th scope=col>PC10</th><th scope=col>...</th><th scope=col>PC40</th><th scope=col>PC41</th><th scope=col>PC42</th><th scope=col>PC43</th><th scope=col>PC44</th><th scope=col>PC45</th><th scope=col>PC46</th><th scope=col>PC47</th><th scope=col>PC48</th><th scope=col>PC49</th></tr>\n",
       "\t<tr><th></th><th scope=col>&lt;dbl&gt;</th><th scope=col>&lt;dbl&gt;</th><th scope=col>&lt;dbl&gt;</th><th scope=col>&lt;dbl&gt;</th><th scope=col>&lt;dbl&gt;</th><th scope=col>&lt;dbl&gt;</th><th scope=col>&lt;dbl&gt;</th><th scope=col>&lt;dbl&gt;</th><th scope=col>&lt;dbl&gt;</th><th scope=col>&lt;dbl&gt;</th><th scope=col>...</th><th scope=col>&lt;dbl&gt;</th><th scope=col>&lt;dbl&gt;</th><th scope=col>&lt;dbl&gt;</th><th scope=col>&lt;dbl&gt;</th><th scope=col>&lt;dbl&gt;</th><th scope=col>&lt;dbl&gt;</th><th scope=col>&lt;dbl&gt;</th><th scope=col>&lt;dbl&gt;</th><th scope=col>&lt;dbl&gt;</th><th scope=col>&lt;dbl&gt;</th></tr>\n",
       "</thead>\n",
       "<tbody>\n",
       "\t<tr><th scope=row>CHP-328-04-PBMC-DNA</th><td> -4.321728</td><td>-0.03212677</td><td>-0.8674132</td><td>-0.5720319</td><td> 2.0116468</td><td> 0.2539799</td><td>-0.9105453</td><td> 0.27941627</td><td>-0.4430697</td><td>-0.7240545</td><td>...</td><td>-0.03846443</td><td> 0.006610509</td><td>-0.27729290</td><td> 0.17840026</td><td>-0.21411618</td><td>-0.43036180</td><td>-0.009790303</td><td>-0.24412197</td><td> 0.31029834</td><td> 0.03493672</td></tr>\n",
       "\t<tr><th scope=row>CHP-328-05-PBMC-DNA</th><td>  1.813318</td><td>-0.47595082</td><td>-0.6983832</td><td>-0.4500168</td><td> 0.7059845</td><td> 0.7060431</td><td>-0.4387870</td><td> 0.39149765</td><td> 0.2029042</td><td> 0.4762534</td><td>...</td><td>-0.13661626</td><td> 0.068570605</td><td> 0.22334894</td><td> 0.28242786</td><td>-0.11267415</td><td> 0.21252573</td><td> 0.136022733</td><td> 0.20535303</td><td> 0.08131802</td><td>-0.10495953</td></tr>\n",
       "\t<tr><th scope=row>CHP-351-03-PBMC-DNA</th><td>-16.703431</td><td> 3.16852193</td><td> 0.9447233</td><td> 0.6495886</td><td>-1.1581014</td><td>-1.0061298</td><td>-4.0954143</td><td> 5.25260421</td><td>-1.2200082</td><td>-2.4059916</td><td>...</td><td> 0.32221663</td><td>-0.431435864</td><td>-0.04502638</td><td>-0.37241404</td><td>-0.17000484</td><td> 0.03092922</td><td>-0.054612680</td><td>-0.08443263</td><td>-0.15691430</td><td> 0.09631231</td></tr>\n",
       "\t<tr><th scope=row>CHP-353-04-PBMC-DNA</th><td>-28.969007</td><td>-3.91092179</td><td>-8.4594291</td><td>-2.1278024</td><td>-3.3761498</td><td> 1.5486870</td><td> 0.4049921</td><td>-1.93592234</td><td> 3.8118639</td><td>-1.4423686</td><td>...</td><td>-0.19248382</td><td> 0.014672908</td><td>-0.51183721</td><td>-0.04616347</td><td>-0.19675278</td><td> 0.04284492</td><td>-0.011685493</td><td> 0.11843199</td><td> 0.05597463</td><td> 0.16759331</td></tr>\n",
       "\t<tr><th scope=row>CHP-363-04-PBMC-DNA</th><td> -9.663401</td><td> 3.15165741</td><td> 1.4763998</td><td> 1.0217333</td><td> 1.1992817</td><td> 2.2791147</td><td>-0.8674050</td><td>-0.12794262</td><td> 0.7092086</td><td>-0.9763820</td><td>...</td><td> 0.38661497</td><td> 0.164384541</td><td>-0.25098190</td><td> 0.34827781</td><td>-0.04840122</td><td> 0.22162394</td><td> 0.078737809</td><td> 0.42797468</td><td> 0.15594229</td><td>-0.04549570</td></tr>\n",
       "\t<tr><th scope=row>CHP-369-01-PBMC-DNA</th><td> -8.448113</td><td>-2.29942878</td><td> 0.2950300</td><td>-2.5663195</td><td> 0.5472186</td><td>-0.2208723</td><td> 0.4169612</td><td> 0.02371057</td><td>-1.2230712</td><td>-1.8582157</td><td>...</td><td>-0.56185823</td><td> 0.132931233</td><td> 0.36414564</td><td> 0.38310917</td><td>-0.53532623</td><td>-0.12928019</td><td>-0.135370535</td><td> 0.14120180</td><td>-0.36708205</td><td> 0.20002964</td></tr>\n",
       "</tbody>\n",
       "</table>\n"
      ],
      "text/latex": [
       "A data.frame: 6 x 49\n",
       "\\begin{tabular}{r|lllllllllllllllllllll}\n",
       "  & PC1 & PC2 & PC3 & PC4 & PC5 & PC6 & PC7 & PC8 & PC9 & PC10 & ... & PC40 & PC41 & PC42 & PC43 & PC44 & PC45 & PC46 & PC47 & PC48 & PC49\\\\\n",
       "  & <dbl> & <dbl> & <dbl> & <dbl> & <dbl> & <dbl> & <dbl> & <dbl> & <dbl> & <dbl> & ... & <dbl> & <dbl> & <dbl> & <dbl> & <dbl> & <dbl> & <dbl> & <dbl> & <dbl> & <dbl>\\\\\n",
       "\\hline\n",
       "\tCHP-328-04-PBMC-DNA &  -4.321728 & -0.03212677 & -0.8674132 & -0.5720319 &  2.0116468 &  0.2539799 & -0.9105453 &  0.27941627 & -0.4430697 & -0.7240545 & ... & -0.03846443 &  0.006610509 & -0.27729290 &  0.17840026 & -0.21411618 & -0.43036180 & -0.009790303 & -0.24412197 &  0.31029834 &  0.03493672\\\\\n",
       "\tCHP-328-05-PBMC-DNA &   1.813318 & -0.47595082 & -0.6983832 & -0.4500168 &  0.7059845 &  0.7060431 & -0.4387870 &  0.39149765 &  0.2029042 &  0.4762534 & ... & -0.13661626 &  0.068570605 &  0.22334894 &  0.28242786 & -0.11267415 &  0.21252573 &  0.136022733 &  0.20535303 &  0.08131802 & -0.10495953\\\\\n",
       "\tCHP-351-03-PBMC-DNA & -16.703431 &  3.16852193 &  0.9447233 &  0.6495886 & -1.1581014 & -1.0061298 & -4.0954143 &  5.25260421 & -1.2200082 & -2.4059916 & ... &  0.32221663 & -0.431435864 & -0.04502638 & -0.37241404 & -0.17000484 &  0.03092922 & -0.054612680 & -0.08443263 & -0.15691430 &  0.09631231\\\\\n",
       "\tCHP-353-04-PBMC-DNA & -28.969007 & -3.91092179 & -8.4594291 & -2.1278024 & -3.3761498 &  1.5486870 &  0.4049921 & -1.93592234 &  3.8118639 & -1.4423686 & ... & -0.19248382 &  0.014672908 & -0.51183721 & -0.04616347 & -0.19675278 &  0.04284492 & -0.011685493 &  0.11843199 &  0.05597463 &  0.16759331\\\\\n",
       "\tCHP-363-04-PBMC-DNA &  -9.663401 &  3.15165741 &  1.4763998 &  1.0217333 &  1.1992817 &  2.2791147 & -0.8674050 & -0.12794262 &  0.7092086 & -0.9763820 & ... &  0.38661497 &  0.164384541 & -0.25098190 &  0.34827781 & -0.04840122 &  0.22162394 &  0.078737809 &  0.42797468 &  0.15594229 & -0.04549570\\\\\n",
       "\tCHP-369-01-PBMC-DNA &  -8.448113 & -2.29942878 &  0.2950300 & -2.5663195 &  0.5472186 & -0.2208723 &  0.4169612 &  0.02371057 & -1.2230712 & -1.8582157 & ... & -0.56185823 &  0.132931233 &  0.36414564 &  0.38310917 & -0.53532623 & -0.12928019 & -0.135370535 &  0.14120180 & -0.36708205 &  0.20002964\\\\\n",
       "\\end{tabular}\n"
      ],
      "text/markdown": [
       "\n",
       "A data.frame: 6 x 49\n",
       "\n",
       "| <!--/--> | PC1 &lt;dbl&gt; | PC2 &lt;dbl&gt; | PC3 &lt;dbl&gt; | PC4 &lt;dbl&gt; | PC5 &lt;dbl&gt; | PC6 &lt;dbl&gt; | PC7 &lt;dbl&gt; | PC8 &lt;dbl&gt; | PC9 &lt;dbl&gt; | PC10 &lt;dbl&gt; | ... ... | PC40 &lt;dbl&gt; | PC41 &lt;dbl&gt; | PC42 &lt;dbl&gt; | PC43 &lt;dbl&gt; | PC44 &lt;dbl&gt; | PC45 &lt;dbl&gt; | PC46 &lt;dbl&gt; | PC47 &lt;dbl&gt; | PC48 &lt;dbl&gt; | PC49 &lt;dbl&gt; |\n",
       "|---|---|---|---|---|---|---|---|---|---|---|---|---|---|---|---|---|---|---|---|---|---|\n",
       "| CHP-328-04-PBMC-DNA |  -4.321728 | -0.03212677 | -0.8674132 | -0.5720319 |  2.0116468 |  0.2539799 | -0.9105453 |  0.27941627 | -0.4430697 | -0.7240545 | ... | -0.03846443 |  0.006610509 | -0.27729290 |  0.17840026 | -0.21411618 | -0.43036180 | -0.009790303 | -0.24412197 |  0.31029834 |  0.03493672 |\n",
       "| CHP-328-05-PBMC-DNA |   1.813318 | -0.47595082 | -0.6983832 | -0.4500168 |  0.7059845 |  0.7060431 | -0.4387870 |  0.39149765 |  0.2029042 |  0.4762534 | ... | -0.13661626 |  0.068570605 |  0.22334894 |  0.28242786 | -0.11267415 |  0.21252573 |  0.136022733 |  0.20535303 |  0.08131802 | -0.10495953 |\n",
       "| CHP-351-03-PBMC-DNA | -16.703431 |  3.16852193 |  0.9447233 |  0.6495886 | -1.1581014 | -1.0061298 | -4.0954143 |  5.25260421 | -1.2200082 | -2.4059916 | ... |  0.32221663 | -0.431435864 | -0.04502638 | -0.37241404 | -0.17000484 |  0.03092922 | -0.054612680 | -0.08443263 | -0.15691430 |  0.09631231 |\n",
       "| CHP-353-04-PBMC-DNA | -28.969007 | -3.91092179 | -8.4594291 | -2.1278024 | -3.3761498 |  1.5486870 |  0.4049921 | -1.93592234 |  3.8118639 | -1.4423686 | ... | -0.19248382 |  0.014672908 | -0.51183721 | -0.04616347 | -0.19675278 |  0.04284492 | -0.011685493 |  0.11843199 |  0.05597463 |  0.16759331 |\n",
       "| CHP-363-04-PBMC-DNA |  -9.663401 |  3.15165741 |  1.4763998 |  1.0217333 |  1.1992817 |  2.2791147 | -0.8674050 | -0.12794262 |  0.7092086 | -0.9763820 | ... |  0.38661497 |  0.164384541 | -0.25098190 |  0.34827781 | -0.04840122 |  0.22162394 |  0.078737809 |  0.42797468 |  0.15594229 | -0.04549570 |\n",
       "| CHP-369-01-PBMC-DNA |  -8.448113 | -2.29942878 |  0.2950300 | -2.5663195 |  0.5472186 | -0.2208723 |  0.4169612 |  0.02371057 | -1.2230712 | -1.8582157 | ... | -0.56185823 |  0.132931233 |  0.36414564 |  0.38310917 | -0.53532623 | -0.12928019 | -0.135370535 |  0.14120180 | -0.36708205 |  0.20002964 |\n",
       "\n"
      ],
      "text/plain": [
       "                    PC1        PC2         PC3        PC4        PC5       \n",
       "CHP-328-04-PBMC-DNA  -4.321728 -0.03212677 -0.8674132 -0.5720319  2.0116468\n",
       "CHP-328-05-PBMC-DNA   1.813318 -0.47595082 -0.6983832 -0.4500168  0.7059845\n",
       "CHP-351-03-PBMC-DNA -16.703431  3.16852193  0.9447233  0.6495886 -1.1581014\n",
       "CHP-353-04-PBMC-DNA -28.969007 -3.91092179 -8.4594291 -2.1278024 -3.3761498\n",
       "CHP-363-04-PBMC-DNA  -9.663401  3.15165741  1.4763998  1.0217333  1.1992817\n",
       "CHP-369-01-PBMC-DNA  -8.448113 -2.29942878  0.2950300 -2.5663195  0.5472186\n",
       "                    PC6        PC7        PC8         PC9        PC10       ...\n",
       "CHP-328-04-PBMC-DNA  0.2539799 -0.9105453  0.27941627 -0.4430697 -0.7240545 ...\n",
       "CHP-328-05-PBMC-DNA  0.7060431 -0.4387870  0.39149765  0.2029042  0.4762534 ...\n",
       "CHP-351-03-PBMC-DNA -1.0061298 -4.0954143  5.25260421 -1.2200082 -2.4059916 ...\n",
       "CHP-353-04-PBMC-DNA  1.5486870  0.4049921 -1.93592234  3.8118639 -1.4423686 ...\n",
       "CHP-363-04-PBMC-DNA  2.2791147 -0.8674050 -0.12794262  0.7092086 -0.9763820 ...\n",
       "CHP-369-01-PBMC-DNA -0.2208723  0.4169612  0.02371057 -1.2230712 -1.8582157 ...\n",
       "                    PC40        PC41         PC42        PC43       \n",
       "CHP-328-04-PBMC-DNA -0.03846443  0.006610509 -0.27729290  0.17840026\n",
       "CHP-328-05-PBMC-DNA -0.13661626  0.068570605  0.22334894  0.28242786\n",
       "CHP-351-03-PBMC-DNA  0.32221663 -0.431435864 -0.04502638 -0.37241404\n",
       "CHP-353-04-PBMC-DNA -0.19248382  0.014672908 -0.51183721 -0.04616347\n",
       "CHP-363-04-PBMC-DNA  0.38661497  0.164384541 -0.25098190  0.34827781\n",
       "CHP-369-01-PBMC-DNA -0.56185823  0.132931233  0.36414564  0.38310917\n",
       "                    PC44        PC45        PC46         PC47       \n",
       "CHP-328-04-PBMC-DNA -0.21411618 -0.43036180 -0.009790303 -0.24412197\n",
       "CHP-328-05-PBMC-DNA -0.11267415  0.21252573  0.136022733  0.20535303\n",
       "CHP-351-03-PBMC-DNA -0.17000484  0.03092922 -0.054612680 -0.08443263\n",
       "CHP-353-04-PBMC-DNA -0.19675278  0.04284492 -0.011685493  0.11843199\n",
       "CHP-363-04-PBMC-DNA -0.04840122  0.22162394  0.078737809  0.42797468\n",
       "CHP-369-01-PBMC-DNA -0.53532623 -0.12928019 -0.135370535  0.14120180\n",
       "                    PC48        PC49       \n",
       "CHP-328-04-PBMC-DNA  0.31029834  0.03493672\n",
       "CHP-328-05-PBMC-DNA  0.08131802 -0.10495953\n",
       "CHP-351-03-PBMC-DNA -0.15691430  0.09631231\n",
       "CHP-353-04-PBMC-DNA  0.05597463  0.16759331\n",
       "CHP-363-04-PBMC-DNA  0.15594229 -0.04549570\n",
       "CHP-369-01-PBMC-DNA -0.36708205  0.20002964"
      ]
     },
     "metadata": {},
     "output_type": "display_data"
    }
   ],
   "source": [
    "head(vgene)"
   ]
  },
  {
   "cell_type": "code",
   "execution_count": 22,
   "metadata": {
    "vscode": {
     "languageId": "r"
    }
   },
   "outputs": [],
   "source": [
    "pbmc_noLFS$V_PC1 <- vgene[ match(pbmc_noLFS$basename, rownames(vgene)), \"PC1\"]\n",
    "pbmc_noLFS$V_PC2 <- vgene[ match(pbmc_noLFS$basename, rownames(vgene)), \"PC2\"]\n",
    "pbmc_noLFS$V_PC3 <- vgene[ match(pbmc_noLFS$basename, rownames(vgene)), \"PC3\"]"
   ]
  },
  {
   "cell_type": "code",
   "execution_count": 24,
   "metadata": {
    "vscode": {
     "languageId": "r"
    }
   },
   "outputs": [],
   "source": [
    "pbmc_noLFS$is_solid <- NA\n",
    "pbmc_noLFS$is_solid[ which(pbmc_noLFS$cancergroup == \"Solid\")] <- 1\n",
    "pbmc_noLFS$is_solid[ which(pbmc_noLFS$cancergroup != \"Solid\")] <- 0"
   ]
  },
  {
   "cell_type": "code",
   "execution_count": 25,
   "metadata": {
    "vscode": {
     "languageId": "r"
    }
   },
   "outputs": [],
   "source": [
    "pbmc_noLFS$is_leu <- NA\n",
    "pbmc_noLFS$is_leu[ which(pbmc_noLFS$cancergroup == \"Leukemia\")] <- 1\n",
    "pbmc_noLFS$is_leu[ which(pbmc_noLFS$cancergroup != \"Leukemia\")] <- 0"
   ]
  },
  {
   "cell_type": "code",
   "execution_count": 26,
   "metadata": {
    "vscode": {
     "languageId": "r"
    }
   },
   "outputs": [],
   "source": [
    "pbmc_noLFS$is_lym <- NA\n",
    "pbmc_noLFS$is_lym[ which(pbmc_noLFS$cancergroup == \"Lymphoma\")] <- 1\n",
    "pbmc_noLFS$is_lym[ which(pbmc_noLFS$cancergroup != \"Lymphoma\")] <- 0"
   ]
  },
  {
   "cell_type": "code",
   "execution_count": 27,
   "metadata": {
    "vscode": {
     "languageId": "r"
    }
   },
   "outputs": [
    {
     "data": {
      "text/plain": [
       "\n",
       "Leukemia Lymphoma    Solid \n",
       "     120       42       72 "
      ]
     },
     "metadata": {},
     "output_type": "display_data"
    }
   ],
   "source": [
    "table(pbmc_noLFS$cancergroup )"
   ]
  },
  {
   "cell_type": "code",
   "execution_count": 48,
   "metadata": {
    "vscode": {
     "languageId": "r"
    }
   },
   "outputs": [],
   "source": [
    "dd <- datadist(pbmc_noLFS[ , c(\"HLA_PC1\", \"HLA_PC2\", \"HLA_PC3\", \n",
    " \"log10shann\",  \"is_solid\", \"is_leu\", \"is_lym\")])\n",
    "options(datadist=\"dd\")"
   ]
  },
  {
   "cell_type": "code",
   "execution_count": 43,
   "metadata": {
    "vscode": {
     "languageId": "r"
    }
   },
   "outputs": [],
   "source": [
    "# ggplot(pbmc_noLFS) + geom_point(aes(x = HLA_PC1, y = HLA_PC2, color = cancergroup))"
   ]
  },
  {
   "cell_type": "code",
   "execution_count": 44,
   "metadata": {
    "vscode": {
     "languageId": "r"
    }
   },
   "outputs": [],
   "source": [
    "f <- ols(log10shann ~ cycle + cancergroup + Age + HLA_PC1 + HLA_PC2 + HLA_PC3, data = pbmc_noLFS)"
   ]
  },
  {
   "cell_type": "code",
   "execution_count": 49,
   "metadata": {
    "vscode": {
     "languageId": "r"
    }
   },
   "outputs": [
    {
     "data": {
      "text/html": [
       "<table class=\"dataframe\">\n",
       "<caption>A anova.rms: 8 x 5 of type dbl</caption>\n",
       "<thead>\n",
       "\t<tr><th></th><th scope=col>d.f.</th><th scope=col>Partial SS</th><th scope=col>MS</th><th scope=col>F</th><th scope=col>P</th></tr>\n",
       "</thead>\n",
       "<tbody>\n",
       "\t<tr><th scope=row>cycle</th><td>  4</td><td> 2.72335975</td><td>0.68083994</td><td>2.60012088</td><td>0.0378954051</td></tr>\n",
       "\t<tr><th scope=row>cancergroup</th><td>  2</td><td> 2.21063963</td><td>1.10531981</td><td>4.22120526</td><td>0.0162394698</td></tr>\n",
       "\t<tr><th scope=row>Age</th><td>  1</td><td> 0.49533932</td><td>0.49533932</td><td>1.89169589</td><td>0.1708098641</td></tr>\n",
       "\t<tr><th scope=row>HLA_PC1</th><td>  1</td><td> 2.14662878</td><td>2.14662878</td><td>8.19795372</td><td>0.0047186854</td></tr>\n",
       "\t<tr><th scope=row>HLA_PC2</th><td>  1</td><td> 0.33282521</td><td>0.33282521</td><td>1.27105612</td><td>0.2611481154</td></tr>\n",
       "\t<tr><th scope=row>HLA_PC3</th><td>  1</td><td> 0.01671666</td><td>0.01671666</td><td>0.06384076</td><td>0.8008287863</td></tr>\n",
       "\t<tr><th scope=row>TOTAL</th><td> 10</td><td> 9.08803506</td><td>0.90880351</td><td>3.47071145</td><td>0.0003537523</td></tr>\n",
       "\t<tr><th scope=row>ERROR</th><td>171</td><td>44.77623726</td><td>0.26184934</td><td>        NA</td><td>          NA</td></tr>\n",
       "</tbody>\n",
       "</table>\n"
      ],
      "text/latex": [
       "A anova.rms: 8 x 5 of type dbl\n",
       "\\begin{tabular}{r|lllll}\n",
       "  & d.f. & Partial SS & MS & F & P\\\\\n",
       "\\hline\n",
       "\tcycle &   4 &  2.72335975 & 0.68083994 & 2.60012088 & 0.0378954051\\\\\n",
       "\tcancergroup &   2 &  2.21063963 & 1.10531981 & 4.22120526 & 0.0162394698\\\\\n",
       "\tAge &   1 &  0.49533932 & 0.49533932 & 1.89169589 & 0.1708098641\\\\\n",
       "\tHLA\\_PC1 &   1 &  2.14662878 & 2.14662878 & 8.19795372 & 0.0047186854\\\\\n",
       "\tHLA\\_PC2 &   1 &  0.33282521 & 0.33282521 & 1.27105612 & 0.2611481154\\\\\n",
       "\tHLA\\_PC3 &   1 &  0.01671666 & 0.01671666 & 0.06384076 & 0.8008287863\\\\\n",
       "\tTOTAL &  10 &  9.08803506 & 0.90880351 & 3.47071145 & 0.0003537523\\\\\n",
       "\tERROR & 171 & 44.77623726 & 0.26184934 &         NA &           NA\\\\\n",
       "\\end{tabular}\n"
      ],
      "text/markdown": [
       "\n",
       "A anova.rms: 8 x 5 of type dbl\n",
       "\n",
       "| <!--/--> | d.f. | Partial SS | MS | F | P |\n",
       "|---|---|---|---|---|---|\n",
       "| cycle |   4 |  2.72335975 | 0.68083994 | 2.60012088 | 0.0378954051 |\n",
       "| cancergroup |   2 |  2.21063963 | 1.10531981 | 4.22120526 | 0.0162394698 |\n",
       "| Age |   1 |  0.49533932 | 0.49533932 | 1.89169589 | 0.1708098641 |\n",
       "| HLA_PC1 |   1 |  2.14662878 | 2.14662878 | 8.19795372 | 0.0047186854 |\n",
       "| HLA_PC2 |   1 |  0.33282521 | 0.33282521 | 1.27105612 | 0.2611481154 |\n",
       "| HLA_PC3 |   1 |  0.01671666 | 0.01671666 | 0.06384076 | 0.8008287863 |\n",
       "| TOTAL |  10 |  9.08803506 | 0.90880351 | 3.47071145 | 0.0003537523 |\n",
       "| ERROR | 171 | 44.77623726 | 0.26184934 |         NA |           NA |\n",
       "\n"
      ],
      "text/plain": [
       "            d.f. Partial SS  MS         F          P           \n",
       "cycle         4   2.72335975 0.68083994 2.60012088 0.0378954051\n",
       "cancergroup   2   2.21063963 1.10531981 4.22120526 0.0162394698\n",
       "Age           1   0.49533932 0.49533932 1.89169589 0.1708098641\n",
       "HLA_PC1       1   2.14662878 2.14662878 8.19795372 0.0047186854\n",
       "HLA_PC2       1   0.33282521 0.33282521 1.27105612 0.2611481154\n",
       "HLA_PC3       1   0.01671666 0.01671666 0.06384076 0.8008287863\n",
       "TOTAL        10   9.08803506 0.90880351 3.47071145 0.0003537523\n",
       "ERROR       171  44.77623726 0.26184934         NA           NA"
      ]
     },
     "metadata": {},
     "output_type": "display_data"
    }
   ],
   "source": [
    "anova(f)"
   ]
  },
  {
   "cell_type": "code",
   "execution_count": 50,
   "metadata": {
    "vscode": {
     "languageId": "r"
    }
   },
   "outputs": [],
   "source": [
    "myfit <- lrm(is_lym ~ HLA_PC1 + HLA_PC2 + HLA_PC3, data = pbmc_noLFS)"
   ]
  },
  {
   "cell_type": "code",
   "execution_count": 51,
   "metadata": {
    "vscode": {
     "languageId": "r"
    }
   },
   "outputs": [
    {
     "data": {
      "text/plain": [
       "   Min. 1st Qu.  Median    Mean 3rd Qu.    Max.    NA's \n",
       "-6.0040 -1.8375  0.4423  0.2191  2.1576  6.4402      52 "
      ]
     },
     "metadata": {},
     "output_type": "display_data"
    }
   ],
   "source": [
    "summary(pbmc_noLFS$HLA_PC1)"
   ]
  },
  {
   "cell_type": "code",
   "execution_count": 52,
   "metadata": {
    "vscode": {
     "languageId": "r"
    }
   },
   "outputs": [
    {
     "data": {
      "text/html": [
       "<style>\n",
       ".list-inline {list-style: none; margin:0; padding: 0}\n",
       ".list-inline>li {display: inline-block}\n",
       ".list-inline>li:not(:last-child)::after {content: \"\\00b7\"; padding: 0 .5ex}\n",
       "</style>\n",
       "<ol class=list-inline><li>234</li><li>68</li></ol>\n"
      ],
      "text/latex": [
       "\\begin{enumerate*}\n",
       "\\item 234\n",
       "\\item 68\n",
       "\\end{enumerate*}\n"
      ],
      "text/markdown": [
       "1. 234\n",
       "2. 68\n",
       "\n",
       "\n"
      ],
      "text/plain": [
       "[1] 234  68"
      ]
     },
     "metadata": {},
     "output_type": "display_data"
    }
   ],
   "source": [
    "dim(pbmc_noLFS)"
   ]
  },
  {
   "cell_type": "code",
   "execution_count": 55,
   "metadata": {
    "vscode": {
     "languageId": "r"
    }
   },
   "outputs": [
    {
     "data": {
      "text/html": [
       "<table class=\"dataframe\">\n",
       "<caption>A anova.rms: 4 x 3 of type dbl</caption>\n",
       "<thead>\n",
       "\t<tr><th></th><th scope=col>Chi-Square</th><th scope=col>d.f.</th><th scope=col>P</th></tr>\n",
       "</thead>\n",
       "<tbody>\n",
       "\t<tr><th scope=row>HLA_PC1</th><td>8.3294756</td><td>1</td><td>0.003900692</td></tr>\n",
       "\t<tr><th scope=row>HLA_PC2</th><td>3.8484585</td><td>1</td><td>0.049791733</td></tr>\n",
       "\t<tr><th scope=row>HLA_PC3</th><td>0.5684973</td><td>1</td><td>0.450856676</td></tr>\n",
       "\t<tr><th scope=row>TOTAL</th><td>8.5004131</td><td>3</td><td>0.036726262</td></tr>\n",
       "</tbody>\n",
       "</table>\n"
      ],
      "text/latex": [
       "A anova.rms: 4 x 3 of type dbl\n",
       "\\begin{tabular}{r|lll}\n",
       "  & Chi-Square & d.f. & P\\\\\n",
       "\\hline\n",
       "\tHLA\\_PC1 & 8.3294756 & 1 & 0.003900692\\\\\n",
       "\tHLA\\_PC2 & 3.8484585 & 1 & 0.049791733\\\\\n",
       "\tHLA\\_PC3 & 0.5684973 & 1 & 0.450856676\\\\\n",
       "\tTOTAL & 8.5004131 & 3 & 0.036726262\\\\\n",
       "\\end{tabular}\n"
      ],
      "text/markdown": [
       "\n",
       "A anova.rms: 4 x 3 of type dbl\n",
       "\n",
       "| <!--/--> | Chi-Square | d.f. | P |\n",
       "|---|---|---|---|\n",
       "| HLA_PC1 | 8.3294756 | 1 | 0.003900692 |\n",
       "| HLA_PC2 | 3.8484585 | 1 | 0.049791733 |\n",
       "| HLA_PC3 | 0.5684973 | 1 | 0.450856676 |\n",
       "| TOTAL | 8.5004131 | 3 | 0.036726262 |\n",
       "\n"
      ],
      "text/plain": [
       "        Chi-Square d.f. P          \n",
       "HLA_PC1 8.3294756  1    0.003900692\n",
       "HLA_PC2 3.8484585  1    0.049791733\n",
       "HLA_PC3 0.5684973  1    0.450856676\n",
       "TOTAL   8.5004131  3    0.036726262"
      ]
     },
     "metadata": {},
     "output_type": "display_data"
    }
   ],
   "source": [
    "anova(myfit)"
   ]
  },
  {
   "cell_type": "code",
   "execution_count": 54,
   "metadata": {
    "vscode": {
     "languageId": "r"
    }
   },
   "outputs": [
    {
     "data": {
      "text/html": [
       "<table class=\"dataframe\">\n",
       "<caption>A summary.rms: 6 x 8 of type dbl</caption>\n",
       "<thead>\n",
       "\t<tr><th></th><th scope=col>Low</th><th scope=col>High</th><th scope=col>Diff.</th><th scope=col>Effect</th><th scope=col>S.E.</th><th scope=col>Lower 0.95</th><th scope=col>Upper 0.95</th><th scope=col>Type</th></tr>\n",
       "</thead>\n",
       "<tbody>\n",
       "\t<tr><th scope=row>HLA_PC1</th><td>-1.837542</td><td>2.157602</td><td>3.995144</td><td>-1.2269377</td><td>0.4251221</td><td>-2.0601617582</td><td>-0.3937137</td><td>1</td></tr>\n",
       "\t<tr><th scope=row> Odds Ratio</th><td>-1.837542</td><td>2.157602</td><td>3.995144</td><td> 0.2931890</td><td>       NA</td><td> 0.1274333548</td><td> 0.6745471</td><td>2</td></tr>\n",
       "\t<tr><th scope=row>HLA_PC2</th><td>-1.655735</td><td>2.049877</td><td>3.705612</td><td> 0.8906341</td><td>0.4540001</td><td> 0.0008103226</td><td> 1.7804579</td><td>1</td></tr>\n",
       "\t<tr><th scope=row> Odds Ratio</th><td>-1.655735</td><td>2.049877</td><td>3.705612</td><td> 2.4366743</td><td>       NA</td><td> 1.0008106510</td><td> 5.9325726</td><td>2</td></tr>\n",
       "\t<tr><th scope=row>HLA_PC3</th><td>-1.583885</td><td>2.160519</td><td>3.744405</td><td> 0.2841800</td><td>0.3769028</td><td>-0.4545358899</td><td> 1.0228960</td><td>1</td></tr>\n",
       "\t<tr><th scope=row> Odds Ratio</th><td>-1.583885</td><td>2.160519</td><td>3.744405</td><td> 1.3286721</td><td>       NA</td><td> 0.6347424900</td><td> 2.7812375</td><td>2</td></tr>\n",
       "</tbody>\n",
       "</table>\n"
      ],
      "text/latex": [
       "A summary.rms: 6 x 8 of type dbl\n",
       "\\begin{tabular}{r|llllllll}\n",
       "  & Low & High & Diff. & Effect & S.E. & Lower 0.95 & Upper 0.95 & Type\\\\\n",
       "\\hline\n",
       "\tHLA\\_PC1 & -1.837542 & 2.157602 & 3.995144 & -1.2269377 & 0.4251221 & -2.0601617582 & -0.3937137 & 1\\\\\n",
       "\t Odds Ratio & -1.837542 & 2.157602 & 3.995144 &  0.2931890 &        NA &  0.1274333548 &  0.6745471 & 2\\\\\n",
       "\tHLA\\_PC2 & -1.655735 & 2.049877 & 3.705612 &  0.8906341 & 0.4540001 &  0.0008103226 &  1.7804579 & 1\\\\\n",
       "\t Odds Ratio & -1.655735 & 2.049877 & 3.705612 &  2.4366743 &        NA &  1.0008106510 &  5.9325726 & 2\\\\\n",
       "\tHLA\\_PC3 & -1.583885 & 2.160519 & 3.744405 &  0.2841800 & 0.3769028 & -0.4545358899 &  1.0228960 & 1\\\\\n",
       "\t Odds Ratio & -1.583885 & 2.160519 & 3.744405 &  1.3286721 &        NA &  0.6347424900 &  2.7812375 & 2\\\\\n",
       "\\end{tabular}\n"
      ],
      "text/markdown": [
       "\n",
       "A summary.rms: 6 x 8 of type dbl\n",
       "\n",
       "| <!--/--> | Low | High | Diff. | Effect | S.E. | Lower 0.95 | Upper 0.95 | Type |\n",
       "|---|---|---|---|---|---|---|---|---|\n",
       "| HLA_PC1 | -1.837542 | 2.157602 | 3.995144 | -1.2269377 | 0.4251221 | -2.0601617582 | -0.3937137 | 1 |\n",
       "|  Odds Ratio | -1.837542 | 2.157602 | 3.995144 |  0.2931890 |        NA |  0.1274333548 |  0.6745471 | 2 |\n",
       "| HLA_PC2 | -1.655735 | 2.049877 | 3.705612 |  0.8906341 | 0.4540001 |  0.0008103226 |  1.7804579 | 1 |\n",
       "|  Odds Ratio | -1.655735 | 2.049877 | 3.705612 |  2.4366743 |        NA |  1.0008106510 |  5.9325726 | 2 |\n",
       "| HLA_PC3 | -1.583885 | 2.160519 | 3.744405 |  0.2841800 | 0.3769028 | -0.4545358899 |  1.0228960 | 1 |\n",
       "|  Odds Ratio | -1.583885 | 2.160519 | 3.744405 |  1.3286721 |        NA |  0.6347424900 |  2.7812375 | 2 |\n",
       "\n"
      ],
      "text/plain": [
       "            Low       High     Diff.    Effect     S.E.      Lower 0.95   \n",
       "HLA_PC1     -1.837542 2.157602 3.995144 -1.2269377 0.4251221 -2.0601617582\n",
       " Odds Ratio -1.837542 2.157602 3.995144  0.2931890        NA  0.1274333548\n",
       "HLA_PC2     -1.655735 2.049877 3.705612  0.8906341 0.4540001  0.0008103226\n",
       " Odds Ratio -1.655735 2.049877 3.705612  2.4366743        NA  1.0008106510\n",
       "HLA_PC3     -1.583885 2.160519 3.744405  0.2841800 0.3769028 -0.4545358899\n",
       " Odds Ratio -1.583885 2.160519 3.744405  1.3286721        NA  0.6347424900\n",
       "            Upper 0.95 Type\n",
       "HLA_PC1     -0.3937137 1   \n",
       " Odds Ratio  0.6745471 2   \n",
       "HLA_PC2      1.7804579 1   \n",
       " Odds Ratio  5.9325726 2   \n",
       "HLA_PC3      1.0228960 1   \n",
       " Odds Ratio  2.7812375 2   "
      ]
     },
     "metadata": {},
     "output_type": "display_data"
    }
   ],
   "source": [
    "summary(myfit )"
   ]
  },
  {
   "cell_type": "code",
   "execution_count": 33,
   "metadata": {
    "vscode": {
     "languageId": "r"
    }
   },
   "outputs": [],
   "source": [
    "myfit <- lrm(is_leu ~ HLA_PC1 + HLA_PC2 + HLA_PC3 + log10shann + cycle, \n",
    "data = pbmc_noLFS)"
   ]
  },
  {
   "cell_type": "code",
   "execution_count": 34,
   "metadata": {
    "vscode": {
     "languageId": "r"
    }
   },
   "outputs": [
    {
     "data": {
      "text/plain": [
       "Frequencies of Missing Values Due to Each Variable\n",
       "    is_leu    HLA_PC1    HLA_PC2    HLA_PC3 log10shann      cycle \n",
       "         0         52         52         52          0          0 \n",
       "\n",
       "Logistic Regression Model\n",
       "\n",
       "lrm(formula = is_leu ~ HLA_PC1 + HLA_PC2 + HLA_PC3 + log10shann + \n",
       "    cycle, data = pbmc_noLFS)\n",
       "\n",
       "\n",
       "                      Model Likelihood      Discrimination    Rank Discrim.    \n",
       "                            Ratio Test             Indexes          Indexes    \n",
       "Obs           182    LR chi2     14.66      R2       0.103    C       0.655    \n",
       " 0             95    d.f.            8      R2(8,182)0.036    Dxy     0.311    \n",
       " 1             87    Pr(> chi2) 0.0661    R2(8,136.2)0.048    gamma   0.311    \n",
       "max |deriv| 9e-12                           Brier    0.231    tau-a   0.156    \n",
       "\n",
       "           Coef    S.E.   Wald Z Pr(>|Z|)\n",
       "Intercept  -1.6980 0.6728 -2.52  0.0116  \n",
       "HLA_PC1     0.0072 0.0556  0.13  0.8967  \n",
       "HLA_PC2    -0.0481 0.0541 -0.89  0.3740  \n",
       "HLA_PC3    -0.0816 0.0621 -1.31  0.1885  \n",
       "log10shann  0.9765 0.3222  3.03  0.0024  \n",
       "cycle=X02  -0.5140 0.4718 -1.09  0.2759  \n",
       "cycle=X03  -0.4385 0.4859 -0.90  0.3669  \n",
       "cycle=X04  -0.1028 0.5179 -0.20  0.8427  \n",
       "cycle=X05  -0.4312 0.5115 -0.84  0.3992  \n"
      ]
     },
     "metadata": {},
     "output_type": "display_data"
    }
   ],
   "source": [
    "myfit"
   ]
  },
  {
   "cell_type": "code",
   "execution_count": 48,
   "metadata": {
    "vscode": {
     "languageId": "r"
    }
   },
   "outputs": [],
   "source": [
    "myfit <- lrm(is_solid ~ HLA_PC1 + HLA_PC2 + HLA_PC3 , \n",
    "data = pbmc_noLFS)"
   ]
  },
  {
   "cell_type": "code",
   "execution_count": 49,
   "metadata": {
    "vscode": {
     "languageId": "r"
    }
   },
   "outputs": [
    {
     "data": {
      "text/plain": [
       "Frequencies of Missing Values Due to Each Variable\n",
       "is_solid  HLA_PC1  HLA_PC2  HLA_PC3 \n",
       "       0       52       52       52 \n",
       "\n",
       "Logistic Regression Model\n",
       "\n",
       "lrm(formula = is_solid ~ HLA_PC1 + HLA_PC2 + HLA_PC3, data = pbmc_noLFS)\n",
       "\n",
       "\n",
       "                      Model Likelihood      Discrimination    Rank Discrim.    \n",
       "                            Ratio Test             Indexes          Indexes    \n",
       "Obs           182    LR chi2      7.32      R2       0.054    C       0.596    \n",
       " 0            113    d.f.            3      R2(3,182)0.023    Dxy     0.191    \n",
       " 1             69    Pr(> chi2) 0.0624    R2(3,128.5)0.033    gamma   0.191    \n",
       "max |deriv| 4e-14                           Brier    0.227    tau-a   0.091    \n",
       "\n",
       "          Coef    S.E.   Wald Z Pr(>|Z|)\n",
       "Intercept -0.5523 0.1591 -3.47  0.0005  \n",
       "HLA_PC1    0.1417 0.0575  2.47  0.0137  \n",
       "HLA_PC2    0.0214 0.0529  0.40  0.6855  \n",
       "HLA_PC3    0.0707 0.0630  1.12  0.2622  \n"
      ]
     },
     "metadata": {},
     "output_type": "display_data"
    }
   ],
   "source": [
    "myfit"
   ]
  },
  {
   "cell_type": "code",
   "execution_count": 35,
   "metadata": {
    "vscode": {
     "languageId": "r"
    }
   },
   "outputs": [
    {
     "data": {
      "text/html": [
       "<style>\n",
       ".list-inline {list-style: none; margin:0; padding: 0}\n",
       ".list-inline>li {display: inline-block}\n",
       ".list-inline>li:not(:last-child)::after {content: \"\\00b7\"; padding: 0 .5ex}\n",
       "</style>\n",
       "<ol class=list-inline><li>'sample_id'</li><li>'Patient'</li><li>'cycle'</li><li>'FOLD'</li><li>'ATC'</li><li>'Age'</li><li>'Disease_type'</li><li>'TE_fold'</li><li>'Pass'</li><li>'CD3'</li><li>'EM'</li><li>'CM'</li><li>'Naïve'</li><li>'SCM'</li><li>'TE'</li><li>'EM.'</li><li>'CM.'</li><li>'Naïve.'</li><li>'SCM.'</li><li>'TE.'</li><li>'Naïve.TE'</li><li>'N.CM.SCM.TE.EM'</li><li>'PD.1'</li><li>'PDL1'</li><li>'LAG3'</li><li>'TIM3'</li><li>'CTLA4'</li><li>'PD1.'</li><li>'PDL1.'</li><li>'LAG3.'</li><li>'TIM3.'</li><li>'CTLA4.'</li><li>'Any.NCR'</li><li>'PD1...LAG3...TIM3'</li><li>'cancergroup'</li><li>'TRB'</li><li>'Reads'</li><li>'CPKR'</li><li>'Average_reads'</li><li>'VMR'</li><li>'Max_reads'</li><li>'Singletons'</li><li>'Doubletons'</li><li>'qD'</li><li>'Sample_Coverage'</li><li>'observed_Richness'</li><li>'estimated_Richness'</li><li>'SE_Richeness'</li><li>'observed_Shannon'</li><li>'estimated_Shannon'</li><li>'SE_Shannon'</li><li>'observed_Simpson'</li><li>'estimated_Simpson'</li><li>'SE_Simpson'</li><li>'file'</li><li>'basename'</li><li>'Group'</li><li>'sampletype'</li><li>'log10shann'</li><li>'HLA_PC1'</li><li>'HLA_PC2'</li><li>'HLA_PC3'</li><li>'is_solid'</li><li>'is_leu'</li><li>'is_lym'</li></ol>\n"
      ],
      "text/latex": [
       "\\begin{enumerate*}\n",
       "\\item 'sample\\_id'\n",
       "\\item 'Patient'\n",
       "\\item 'cycle'\n",
       "\\item 'FOLD'\n",
       "\\item 'ATC'\n",
       "\\item 'Age'\n",
       "\\item 'Disease\\_type'\n",
       "\\item 'TE\\_fold'\n",
       "\\item 'Pass'\n",
       "\\item 'CD3'\n",
       "\\item 'EM'\n",
       "\\item 'CM'\n",
       "\\item 'Naïve'\n",
       "\\item 'SCM'\n",
       "\\item 'TE'\n",
       "\\item 'EM.'\n",
       "\\item 'CM.'\n",
       "\\item 'Naïve.'\n",
       "\\item 'SCM.'\n",
       "\\item 'TE.'\n",
       "\\item 'Naïve.TE'\n",
       "\\item 'N.CM.SCM.TE.EM'\n",
       "\\item 'PD.1'\n",
       "\\item 'PDL1'\n",
       "\\item 'LAG3'\n",
       "\\item 'TIM3'\n",
       "\\item 'CTLA4'\n",
       "\\item 'PD1.'\n",
       "\\item 'PDL1.'\n",
       "\\item 'LAG3.'\n",
       "\\item 'TIM3.'\n",
       "\\item 'CTLA4.'\n",
       "\\item 'Any.NCR'\n",
       "\\item 'PD1...LAG3...TIM3'\n",
       "\\item 'cancergroup'\n",
       "\\item 'TRB'\n",
       "\\item 'Reads'\n",
       "\\item 'CPKR'\n",
       "\\item 'Average\\_reads'\n",
       "\\item 'VMR'\n",
       "\\item 'Max\\_reads'\n",
       "\\item 'Singletons'\n",
       "\\item 'Doubletons'\n",
       "\\item 'qD'\n",
       "\\item 'Sample\\_Coverage'\n",
       "\\item 'observed\\_Richness'\n",
       "\\item 'estimated\\_Richness'\n",
       "\\item 'SE\\_Richeness'\n",
       "\\item 'observed\\_Shannon'\n",
       "\\item 'estimated\\_Shannon'\n",
       "\\item 'SE\\_Shannon'\n",
       "\\item 'observed\\_Simpson'\n",
       "\\item 'estimated\\_Simpson'\n",
       "\\item 'SE\\_Simpson'\n",
       "\\item 'file'\n",
       "\\item 'basename'\n",
       "\\item 'Group'\n",
       "\\item 'sampletype'\n",
       "\\item 'log10shann'\n",
       "\\item 'HLA\\_PC1'\n",
       "\\item 'HLA\\_PC2'\n",
       "\\item 'HLA\\_PC3'\n",
       "\\item 'is\\_solid'\n",
       "\\item 'is\\_leu'\n",
       "\\item 'is\\_lym'\n",
       "\\end{enumerate*}\n"
      ],
      "text/markdown": [
       "1. 'sample_id'\n",
       "2. 'Patient'\n",
       "3. 'cycle'\n",
       "4. 'FOLD'\n",
       "5. 'ATC'\n",
       "6. 'Age'\n",
       "7. 'Disease_type'\n",
       "8. 'TE_fold'\n",
       "9. 'Pass'\n",
       "10. 'CD3'\n",
       "11. 'EM'\n",
       "12. 'CM'\n",
       "13. 'Naïve'\n",
       "14. 'SCM'\n",
       "15. 'TE'\n",
       "16. 'EM.'\n",
       "17. 'CM.'\n",
       "18. 'Naïve.'\n",
       "19. 'SCM.'\n",
       "20. 'TE.'\n",
       "21. 'Naïve.TE'\n",
       "22. 'N.CM.SCM.TE.EM'\n",
       "23. 'PD.1'\n",
       "24. 'PDL1'\n",
       "25. 'LAG3'\n",
       "26. 'TIM3'\n",
       "27. 'CTLA4'\n",
       "28. 'PD1.'\n",
       "29. 'PDL1.'\n",
       "30. 'LAG3.'\n",
       "31. 'TIM3.'\n",
       "32. 'CTLA4.'\n",
       "33. 'Any.NCR'\n",
       "34. 'PD1...LAG3...TIM3'\n",
       "35. 'cancergroup'\n",
       "36. 'TRB'\n",
       "37. 'Reads'\n",
       "38. 'CPKR'\n",
       "39. 'Average_reads'\n",
       "40. 'VMR'\n",
       "41. 'Max_reads'\n",
       "42. 'Singletons'\n",
       "43. 'Doubletons'\n",
       "44. 'qD'\n",
       "45. 'Sample_Coverage'\n",
       "46. 'observed_Richness'\n",
       "47. 'estimated_Richness'\n",
       "48. 'SE_Richeness'\n",
       "49. 'observed_Shannon'\n",
       "50. 'estimated_Shannon'\n",
       "51. 'SE_Shannon'\n",
       "52. 'observed_Simpson'\n",
       "53. 'estimated_Simpson'\n",
       "54. 'SE_Simpson'\n",
       "55. 'file'\n",
       "56. 'basename'\n",
       "57. 'Group'\n",
       "58. 'sampletype'\n",
       "59. 'log10shann'\n",
       "60. 'HLA_PC1'\n",
       "61. 'HLA_PC2'\n",
       "62. 'HLA_PC3'\n",
       "63. 'is_solid'\n",
       "64. 'is_leu'\n",
       "65. 'is_lym'\n",
       "\n",
       "\n"
      ],
      "text/plain": [
       " [1] \"sample_id\"          \"Patient\"            \"cycle\"             \n",
       " [4] \"FOLD\"               \"ATC\"                \"Age\"               \n",
       " [7] \"Disease_type\"       \"TE_fold\"            \"Pass\"              \n",
       "[10] \"CD3\"                \"EM\"                 \"CM\"                \n",
       "[13] \"Naïve\"              \"SCM\"                \"TE\"                \n",
       "[16] \"EM.\"                \"CM.\"                \"Naïve.\"            \n",
       "[19] \"SCM.\"               \"TE.\"                \"Naïve.TE\"          \n",
       "[22] \"N.CM.SCM.TE.EM\"     \"PD.1\"               \"PDL1\"              \n",
       "[25] \"LAG3\"               \"TIM3\"               \"CTLA4\"             \n",
       "[28] \"PD1.\"               \"PDL1.\"              \"LAG3.\"             \n",
       "[31] \"TIM3.\"              \"CTLA4.\"             \"Any.NCR\"           \n",
       "[34] \"PD1...LAG3...TIM3\"  \"cancergroup\"        \"TRB\"               \n",
       "[37] \"Reads\"              \"CPKR\"               \"Average_reads\"     \n",
       "[40] \"VMR\"                \"Max_reads\"          \"Singletons\"        \n",
       "[43] \"Doubletons\"         \"qD\"                 \"Sample_Coverage\"   \n",
       "[46] \"observed_Richness\"  \"estimated_Richness\" \"SE_Richeness\"      \n",
       "[49] \"observed_Shannon\"   \"estimated_Shannon\"  \"SE_Shannon\"        \n",
       "[52] \"observed_Simpson\"   \"estimated_Simpson\"  \"SE_Simpson\"        \n",
       "[55] \"file\"               \"basename\"           \"Group\"             \n",
       "[58] \"sampletype\"         \"log10shann\"         \"HLA_PC1\"           \n",
       "[61] \"HLA_PC2\"            \"HLA_PC3\"            \"is_solid\"          \n",
       "[64] \"is_leu\"             \"is_lym\"            "
      ]
     },
     "metadata": {},
     "output_type": "display_data"
    }
   ],
   "source": [
    "colnames(pbmc_noLFS)"
   ]
  },
  {
   "cell_type": "code",
   "execution_count": null,
   "metadata": {
    "vscode": {
     "languageId": "r"
    }
   },
   "outputs": [],
   "source": []
  },
  {
   "cell_type": "code",
   "execution_count": null,
   "metadata": {
    "vscode": {
     "languageId": "r"
    }
   },
   "outputs": [],
   "source": []
  },
  {
   "cell_type": "code",
   "execution_count": null,
   "metadata": {
    "vscode": {
     "languageId": "r"
    }
   },
   "outputs": [],
   "source": []
  },
  {
   "cell_type": "code",
   "execution_count": null,
   "metadata": {
    "vscode": {
     "languageId": "r"
    }
   },
   "outputs": [],
   "source": []
  },
  {
   "cell_type": "code",
   "execution_count": null,
   "metadata": {
    "vscode": {
     "languageId": "r"
    }
   },
   "outputs": [],
   "source": []
  },
  {
   "cell_type": "code",
   "execution_count": null,
   "metadata": {
    "vscode": {
     "languageId": "r"
    }
   },
   "outputs": [],
   "source": []
  },
  {
   "cell_type": "code",
   "execution_count": null,
   "metadata": {
    "vscode": {
     "languageId": "r"
    }
   },
   "outputs": [],
   "source": []
  },
  {
   "cell_type": "code",
   "execution_count": null,
   "metadata": {
    "vscode": {
     "languageId": "r"
    }
   },
   "outputs": [],
   "source": []
  },
  {
   "cell_type": "code",
   "execution_count": null,
   "metadata": {
    "vscode": {
     "languageId": "r"
    }
   },
   "outputs": [],
   "source": []
  },
  {
   "cell_type": "code",
   "execution_count": 67,
   "metadata": {
    "vscode": {
     "languageId": "r"
    }
   },
   "outputs": [],
   "source": [
    "HLA=\"HLA_DRB1\"; length=\"13\"; pos=\"6\"\n",
    "\n",
    "library(data.table)\n",
    "library(MVLM)"
   ]
  },
  {
   "cell_type": "code",
   "execution_count": 68,
   "metadata": {
    "vscode": {
     "languageId": "r"
    }
   },
   "outputs": [],
   "source": [
    "pdata <- read.table(paste0(\"~/git/cdr3-QTL/data/tcr_phenotype/L\", length, \"_P\", pos, \"_rm_gl/single_aa_usage_ratio.txt.gz\"),\n",
    "    header = T, stringsAsFactors = F,\n",
    ")\n",
    "pdata <- as.data.frame(pdata)\n"
   ]
  },
  {
   "cell_type": "code",
   "execution_count": 69,
   "metadata": {
    "vscode": {
     "languageId": "r"
    }
   },
   "outputs": [],
   "source": [
    "\n",
    "\n",
    " #for( HLA in c(\"HLA_A\",\"HLA_B\",\"HLA_C\",\"HLA_DPA1\",\"HLA_DPB1\",\"HLA_DQA1\",\"HLA_DQB1\",\"HLA_DRB1\") ) {\n",
    "\n",
    " #output file and directory\n",
    " #ofile <- paste0(\"assoc/HIP/manova/v2_newgeno_length_cov_newscript_rm_gl/\", HLA, \".\", length, \".\", pos,\".manova.v2_newgeno.txt.gz\")\n",
    "\n",
    " #phenotype\n",
    "\n",
    "pass <- pnamelist <- read.table(paste0(\"~/git/cdr3-QTL/data/tcr_phenotype/L\",length,\"_P\",pos,\"_rm_gl/single_aa_usage_ratio.pass\"),\n",
    "   stringsAsFactors=F)[,1]\n",
    "pdata <- pdata[is.element(pdata$AA, pass), ]\n",
    "pdata <- subset(pdata, AA!=\"unresolved\")\n",
    "\n",
    "pnamelist <- unique(pdata$AA)"
   ]
  },
  {
   "cell_type": "code",
   "execution_count": 70,
   "metadata": {
    "vscode": {
     "languageId": "r"
    }
   },
   "outputs": [],
   "source": [
    "pall <- data.frame()\n",
    "for( ptarget in pnamelist ){\n",
    "    pdata2 <- subset(pdata, AA==ptarget)\n",
    "    pdata2 <- pdata2[,c(\"Sample\", \"rate\")]\n",
    "    x <- pdata2$rate\n",
    "    pdata2$normrate <- qnorm( (rank(x, na.last=\"keep\") - 0.5) / sum(!is.na(x)) ) #inverse normal normalization\n",
    "    #head(M)\n",
    "    #cancel V gene effect by averaging\n",
    "    df <- pdata2[,c(\"Sample\",\"normrate\")]\n",
    "    df$ptarget <- ptarget\n",
    "    pall <- rbind(pall,df)\n",
    "}"
   ]
  },
  {
   "cell_type": "code",
   "execution_count": 71,
   "metadata": {
    "vscode": {
     "languageId": "r"
    }
   },
   "outputs": [],
   "source": [
    "mat <- matrix(0, nrow=length(unique(pall$Sample)), ncol=length(unique(pall$ptarget)) )\n",
    "row.names(mat) <- unique(pall$Sample)\n",
    "colnames(mat) <- unique(pall$ptarget)\n",
    "\n",
    "for( i in unique(pall$Sample)){\n",
    "for( k in unique(pall$ptarget)){\n",
    "   out <- subset(pall, Sample==i & ptarget==k)\n",
    "   if( nrow(out) ==1 ){\n",
    "      mat[i,k] <- out$normrate\n",
    "   }else{\n",
    "       mat[i,k] <- 0\n",
    "   }\n",
    "}\n",
    "}"
   ]
  },
  {
   "cell_type": "code",
   "execution_count": 72,
   "metadata": {
    "vscode": {
     "languageId": "r"
    }
   },
   "outputs": [],
   "source": [
    "mat <- data.frame(Sample=row.names(mat),mat)\n",
    "\n",
    " #covariate (only use genotype pca)\n",
    "cdata <- read.table(\"~/git/cdr3-QTL/data/genotype/HLA_A_B_C_DQB1_DRB1_4digit.pca\", header=T, stringsAsFactors=F)\n",
    "cdata <- as.data.frame(cdata)\n",
    "row.names(cdata) <- cdata$id\n",
    "colnames(cdata)[1] <- \"Sample\"\n",
    "cdata <- cdata[,c(\"Sample\", \"PC1\", \"PC2\", \"PC3\")]"
   ]
  },
  {
   "cell_type": "code",
   "execution_count": 73,
   "metadata": {
    "vscode": {
     "languageId": "r"
    }
   },
   "outputs": [],
   "source": [
    " #main calculations\n",
    "gtargettaglist <- dir(\"~/git/cdr3-QTL/data/genotype/v2\")\n",
    "gtargettaglist <- grep( paste0(\"AA_\", unlist(strsplit(HLA,\"_\"))[2] ,\"_\"), gtargettaglist, value=T)\n",
    "gtargettaglist <- gsub(\".txt\", \"\", gtargettaglist)"
   ]
  },
  {
   "cell_type": "code",
   "execution_count": 74,
   "metadata": {
    "vscode": {
     "languageId": "r"
    }
   },
   "outputs": [
    {
     "data": {
      "text/html": [
       "<style>\n",
       ".list-inline {list-style: none; margin:0; padding: 0}\n",
       ".list-inline>li {display: inline-block}\n",
       ".list-inline>li:not(:last-child)::after {content: \"\\00b7\"; padding: 0 .5ex}\n",
       "</style>\n",
       "<ol class=list-inline><li>'AA_DRB1_.1_32557433'</li><li>'AA_DRB1_.16_32557478'</li><li>'AA_DRB1_.17_32557481'</li><li>'AA_DRB1_.24_32557502'</li><li>'AA_DRB1_.25_32557505'</li><li>'AA_DRB1_10_32552139'</li><li>'AA_DRB1_104_32549587'</li><li>'AA_DRB1_11_32552136'</li><li>'AA_DRB1_112_32549563'</li><li>'AA_DRB1_12_32552133'</li><li>'AA_DRB1_120_32549539'</li><li>'AA_DRB1_13_32552130'</li><li>'AA_DRB1_133_32549500'</li><li>'AA_DRB1_14_32552127'</li><li>'AA_DRB1_140_32549479'</li><li>'AA_DRB1_142_32549473'</li><li>'AA_DRB1_149_32549452'</li><li>'AA_DRB1_16_32552121'</li><li>'AA_DRB1_166_32549401'</li><li>'AA_DRB1_180_32549359'</li><li>'AA_DRB1_181_32549356'</li><li>'AA_DRB1_189_32548632'</li><li>'AA_DRB1_231_32548031'</li><li>'AA_DRB1_233_32548025'</li><li>'AA_DRB1_25_32552094'</li><li>'AA_DRB1_26_32552091'</li><li>'AA_DRB1_28_32552085'</li><li>'AA_DRB1_30_32552079'</li><li>'AA_DRB1_31_32552076'</li><li>'AA_DRB1_32_32552073'</li><li>'AA_DRB1_33_32552070'</li><li>'AA_DRB1_37_32552058'</li><li>'AA_DRB1_38_32552055'</li><li>'AA_DRB1_4_32557421'</li><li>'AA_DRB1_40_32552049'</li><li>'AA_DRB1_47_32552028'</li><li>'AA_DRB1_57_32551998'</li><li>'AA_DRB1_58_32551995'</li><li>'AA_DRB1_60_32551989'</li><li>'AA_DRB1_67_32551968'</li><li>'AA_DRB1_70_32551959'</li><li>'AA_DRB1_71_32551956'</li><li>'AA_DRB1_73_32551950'</li><li>'AA_DRB1_74_32551947'</li><li>'AA_DRB1_77_32551938'</li><li>'AA_DRB1_78_32551935'</li><li>'AA_DRB1_85_32551914'</li><li>'AA_DRB1_86_32551911'</li><li>'AA_DRB1_9_32552142'</li><li>'AA_DRB1_96_32549611'</li><li>'AA_DRB1_98_32549605'</li></ol>\n"
      ],
      "text/latex": [
       "\\begin{enumerate*}\n",
       "\\item 'AA\\_DRB1\\_.1\\_32557433'\n",
       "\\item 'AA\\_DRB1\\_.16\\_32557478'\n",
       "\\item 'AA\\_DRB1\\_.17\\_32557481'\n",
       "\\item 'AA\\_DRB1\\_.24\\_32557502'\n",
       "\\item 'AA\\_DRB1\\_.25\\_32557505'\n",
       "\\item 'AA\\_DRB1\\_10\\_32552139'\n",
       "\\item 'AA\\_DRB1\\_104\\_32549587'\n",
       "\\item 'AA\\_DRB1\\_11\\_32552136'\n",
       "\\item 'AA\\_DRB1\\_112\\_32549563'\n",
       "\\item 'AA\\_DRB1\\_12\\_32552133'\n",
       "\\item 'AA\\_DRB1\\_120\\_32549539'\n",
       "\\item 'AA\\_DRB1\\_13\\_32552130'\n",
       "\\item 'AA\\_DRB1\\_133\\_32549500'\n",
       "\\item 'AA\\_DRB1\\_14\\_32552127'\n",
       "\\item 'AA\\_DRB1\\_140\\_32549479'\n",
       "\\item 'AA\\_DRB1\\_142\\_32549473'\n",
       "\\item 'AA\\_DRB1\\_149\\_32549452'\n",
       "\\item 'AA\\_DRB1\\_16\\_32552121'\n",
       "\\item 'AA\\_DRB1\\_166\\_32549401'\n",
       "\\item 'AA\\_DRB1\\_180\\_32549359'\n",
       "\\item 'AA\\_DRB1\\_181\\_32549356'\n",
       "\\item 'AA\\_DRB1\\_189\\_32548632'\n",
       "\\item 'AA\\_DRB1\\_231\\_32548031'\n",
       "\\item 'AA\\_DRB1\\_233\\_32548025'\n",
       "\\item 'AA\\_DRB1\\_25\\_32552094'\n",
       "\\item 'AA\\_DRB1\\_26\\_32552091'\n",
       "\\item 'AA\\_DRB1\\_28\\_32552085'\n",
       "\\item 'AA\\_DRB1\\_30\\_32552079'\n",
       "\\item 'AA\\_DRB1\\_31\\_32552076'\n",
       "\\item 'AA\\_DRB1\\_32\\_32552073'\n",
       "\\item 'AA\\_DRB1\\_33\\_32552070'\n",
       "\\item 'AA\\_DRB1\\_37\\_32552058'\n",
       "\\item 'AA\\_DRB1\\_38\\_32552055'\n",
       "\\item 'AA\\_DRB1\\_4\\_32557421'\n",
       "\\item 'AA\\_DRB1\\_40\\_32552049'\n",
       "\\item 'AA\\_DRB1\\_47\\_32552028'\n",
       "\\item 'AA\\_DRB1\\_57\\_32551998'\n",
       "\\item 'AA\\_DRB1\\_58\\_32551995'\n",
       "\\item 'AA\\_DRB1\\_60\\_32551989'\n",
       "\\item 'AA\\_DRB1\\_67\\_32551968'\n",
       "\\item 'AA\\_DRB1\\_70\\_32551959'\n",
       "\\item 'AA\\_DRB1\\_71\\_32551956'\n",
       "\\item 'AA\\_DRB1\\_73\\_32551950'\n",
       "\\item 'AA\\_DRB1\\_74\\_32551947'\n",
       "\\item 'AA\\_DRB1\\_77\\_32551938'\n",
       "\\item 'AA\\_DRB1\\_78\\_32551935'\n",
       "\\item 'AA\\_DRB1\\_85\\_32551914'\n",
       "\\item 'AA\\_DRB1\\_86\\_32551911'\n",
       "\\item 'AA\\_DRB1\\_9\\_32552142'\n",
       "\\item 'AA\\_DRB1\\_96\\_32549611'\n",
       "\\item 'AA\\_DRB1\\_98\\_32549605'\n",
       "\\end{enumerate*}\n"
      ],
      "text/markdown": [
       "1. 'AA_DRB1_.1_32557433'\n",
       "2. 'AA_DRB1_.16_32557478'\n",
       "3. 'AA_DRB1_.17_32557481'\n",
       "4. 'AA_DRB1_.24_32557502'\n",
       "5. 'AA_DRB1_.25_32557505'\n",
       "6. 'AA_DRB1_10_32552139'\n",
       "7. 'AA_DRB1_104_32549587'\n",
       "8. 'AA_DRB1_11_32552136'\n",
       "9. 'AA_DRB1_112_32549563'\n",
       "10. 'AA_DRB1_12_32552133'\n",
       "11. 'AA_DRB1_120_32549539'\n",
       "12. 'AA_DRB1_13_32552130'\n",
       "13. 'AA_DRB1_133_32549500'\n",
       "14. 'AA_DRB1_14_32552127'\n",
       "15. 'AA_DRB1_140_32549479'\n",
       "16. 'AA_DRB1_142_32549473'\n",
       "17. 'AA_DRB1_149_32549452'\n",
       "18. 'AA_DRB1_16_32552121'\n",
       "19. 'AA_DRB1_166_32549401'\n",
       "20. 'AA_DRB1_180_32549359'\n",
       "21. 'AA_DRB1_181_32549356'\n",
       "22. 'AA_DRB1_189_32548632'\n",
       "23. 'AA_DRB1_231_32548031'\n",
       "24. 'AA_DRB1_233_32548025'\n",
       "25. 'AA_DRB1_25_32552094'\n",
       "26. 'AA_DRB1_26_32552091'\n",
       "27. 'AA_DRB1_28_32552085'\n",
       "28. 'AA_DRB1_30_32552079'\n",
       "29. 'AA_DRB1_31_32552076'\n",
       "30. 'AA_DRB1_32_32552073'\n",
       "31. 'AA_DRB1_33_32552070'\n",
       "32. 'AA_DRB1_37_32552058'\n",
       "33. 'AA_DRB1_38_32552055'\n",
       "34. 'AA_DRB1_4_32557421'\n",
       "35. 'AA_DRB1_40_32552049'\n",
       "36. 'AA_DRB1_47_32552028'\n",
       "37. 'AA_DRB1_57_32551998'\n",
       "38. 'AA_DRB1_58_32551995'\n",
       "39. 'AA_DRB1_60_32551989'\n",
       "40. 'AA_DRB1_67_32551968'\n",
       "41. 'AA_DRB1_70_32551959'\n",
       "42. 'AA_DRB1_71_32551956'\n",
       "43. 'AA_DRB1_73_32551950'\n",
       "44. 'AA_DRB1_74_32551947'\n",
       "45. 'AA_DRB1_77_32551938'\n",
       "46. 'AA_DRB1_78_32551935'\n",
       "47. 'AA_DRB1_85_32551914'\n",
       "48. 'AA_DRB1_86_32551911'\n",
       "49. 'AA_DRB1_9_32552142'\n",
       "50. 'AA_DRB1_96_32549611'\n",
       "51. 'AA_DRB1_98_32549605'\n",
       "\n",
       "\n"
      ],
      "text/plain": [
       " [1] \"AA_DRB1_.1_32557433\"  \"AA_DRB1_.16_32557478\" \"AA_DRB1_.17_32557481\"\n",
       " [4] \"AA_DRB1_.24_32557502\" \"AA_DRB1_.25_32557505\" \"AA_DRB1_10_32552139\" \n",
       " [7] \"AA_DRB1_104_32549587\" \"AA_DRB1_11_32552136\"  \"AA_DRB1_112_32549563\"\n",
       "[10] \"AA_DRB1_12_32552133\"  \"AA_DRB1_120_32549539\" \"AA_DRB1_13_32552130\" \n",
       "[13] \"AA_DRB1_133_32549500\" \"AA_DRB1_14_32552127\"  \"AA_DRB1_140_32549479\"\n",
       "[16] \"AA_DRB1_142_32549473\" \"AA_DRB1_149_32549452\" \"AA_DRB1_16_32552121\" \n",
       "[19] \"AA_DRB1_166_32549401\" \"AA_DRB1_180_32549359\" \"AA_DRB1_181_32549356\"\n",
       "[22] \"AA_DRB1_189_32548632\" \"AA_DRB1_231_32548031\" \"AA_DRB1_233_32548025\"\n",
       "[25] \"AA_DRB1_25_32552094\"  \"AA_DRB1_26_32552091\"  \"AA_DRB1_28_32552085\" \n",
       "[28] \"AA_DRB1_30_32552079\"  \"AA_DRB1_31_32552076\"  \"AA_DRB1_32_32552073\" \n",
       "[31] \"AA_DRB1_33_32552070\"  \"AA_DRB1_37_32552058\"  \"AA_DRB1_38_32552055\" \n",
       "[34] \"AA_DRB1_4_32557421\"   \"AA_DRB1_40_32552049\"  \"AA_DRB1_47_32552028\" \n",
       "[37] \"AA_DRB1_57_32551998\"  \"AA_DRB1_58_32551995\"  \"AA_DRB1_60_32551989\" \n",
       "[40] \"AA_DRB1_67_32551968\"  \"AA_DRB1_70_32551959\"  \"AA_DRB1_71_32551956\" \n",
       "[43] \"AA_DRB1_73_32551950\"  \"AA_DRB1_74_32551947\"  \"AA_DRB1_77_32551938\" \n",
       "[46] \"AA_DRB1_78_32551935\"  \"AA_DRB1_85_32551914\"  \"AA_DRB1_86_32551911\" \n",
       "[49] \"AA_DRB1_9_32552142\"   \"AA_DRB1_96_32549611\"  \"AA_DRB1_98_32549605\" "
      ]
     },
     "metadata": {},
     "output_type": "display_data"
    }
   ],
   "source": [
    "gtargettaglist"
   ]
  },
  {
   "cell_type": "code",
   "execution_count": 75,
   "metadata": {
    "vscode": {
     "languageId": "r"
    }
   },
   "outputs": [],
   "source": [
    "res <- data.frame()\n",
    "for( gtargettag in gtargettaglist ){\n",
    "    # gtargettag=\"AA_DRB1_13_32552130\"\n",
    "   \n",
    "   gdata2 <- read.table(paste0(\"~/git/cdr3-QTL/data/genotype/v2/\",gtargettag,\".txt\"), header=T, stringsAsFactors=F)\n",
    "      # ref allele has already removed (most common)\n",
    "   M <- merge(gdata2, mat, by=\"Sample\")\n",
    "   M <- merge(M, cdata, by=\"Sample\")\n",
    "   \n",
    "   #make formula\n",
    "   x <- paste(pnamelist, collapse=\",\")\n",
    "   x <- paste(\"cbind(\",x,\") ~\")\n",
    "   y <- paste(colnames(gdata2)[-1], collapse=\" + \")\n",
    "   y <- paste(y,\"+ PC1 + PC2 + PC3\")\n",
    "   formula1 <- as.formula(paste(x,y))\n",
    "   \n",
    "   x <- paste(pnamelist, collapse=\",\")\n",
    "   x <- paste(\"cbind(\",x,\") ~\")\n",
    "   y <- paste(\" PC1 + PC2 + PC3\")\n",
    "   formula0 <- as.formula(paste(x,y))\n",
    "   \n",
    "   #pvalue\n",
    "   mod1 <- lm( formula1 , data = M)\n",
    "   mod0 <- lm( formula0, data = M)\n",
    "   test <- anova(mod0, mod1)\n",
    "   pvalue_lm <- test$\"Pr(>F)\"[2]\n",
    "   \n",
    "   #STEP2: use MVLM\n",
    "   #full\n",
    "   x <- paste(pnamelist, collapse=\",\")\n",
    "   x <- paste(\"cbind(\",x,\") ~\")\n",
    "   y <- paste(colnames(gdata2)[-1], collapse=\" + \")\n",
    "   y <- paste(y,\"+ PC1 + PC2 + PC3\")\n",
    "   formula1 <- as.formula(paste(x,y))\n",
    "   mvlm.res <- mvlm( formula1 , data = M)\n",
    "   mvlm.res_full <- mvlm.res\n",
    "      # summary(mvlm.res)\n",
    "   pseudo_rsq_full <- mvlm.res$pseudo.rsq[\"Omnibus Effect\",1] \n",
    "   \n",
    "   #null\n",
    "   x <- paste(pnamelist, collapse=\",\")\n",
    "   x <- paste(\"cbind(\",x,\") ~\")\n",
    "   y <- paste(\" PC1 + PC2 + PC3\")\n",
    "   formula0 <- as.formula(paste(x,y))\n",
    "   mvlm.res1 <- mvlm( formula0 , data = M)\n",
    "   mvlm.res <- mvlm.res1\n",
    "   pseudo_rsq_null <- mvlm.res$pseudo.rsq[\"Omnibus Effect\",1] \n",
    "   \n",
    "   dump <- data.frame(HLA, length, pos, gtargettag, pvalue_lm,  \n",
    "      pseudo_rsq_full, pseudo_rsq_null)\n",
    "   \n",
    "   res <- rbind(res, dump)\n",
    "}\n",
    "\n",
    "res <- res[order(res$pvalue_lm),]"
   ]
  },
  {
   "cell_type": "code",
   "execution_count": 80,
   "metadata": {
    "vscode": {
     "languageId": "r"
    }
   },
   "outputs": [
    {
     "data": {
      "text/html": [
       "<table class=\"dataframe\">\n",
       "<caption>A data.frame: 6 x 2</caption>\n",
       "<thead>\n",
       "\t<tr><th></th><th scope=col>Sample</th><th scope=col>dose1</th></tr>\n",
       "\t<tr><th></th><th scope=col>&lt;chr&gt;</th><th scope=col>&lt;int&gt;</th></tr>\n",
       "</thead>\n",
       "<tbody>\n",
       "\t<tr><th scope=row>1</th><td>HIP00110</td><td>0</td></tr>\n",
       "\t<tr><th scope=row>2</th><td>HIP00169</td><td>0</td></tr>\n",
       "\t<tr><th scope=row>3</th><td>HIP00594</td><td>0</td></tr>\n",
       "\t<tr><th scope=row>4</th><td>HIP00602</td><td>1</td></tr>\n",
       "\t<tr><th scope=row>5</th><td>HIP00614</td><td>0</td></tr>\n",
       "\t<tr><th scope=row>6</th><td>HIP00640</td><td>2</td></tr>\n",
       "</tbody>\n",
       "</table>\n"
      ],
      "text/latex": [
       "A data.frame: 6 x 2\n",
       "\\begin{tabular}{r|ll}\n",
       "  & Sample & dose1\\\\\n",
       "  & <chr> & <int>\\\\\n",
       "\\hline\n",
       "\t1 & HIP00110 & 0\\\\\n",
       "\t2 & HIP00169 & 0\\\\\n",
       "\t3 & HIP00594 & 0\\\\\n",
       "\t4 & HIP00602 & 1\\\\\n",
       "\t5 & HIP00614 & 0\\\\\n",
       "\t6 & HIP00640 & 2\\\\\n",
       "\\end{tabular}\n"
      ],
      "text/markdown": [
       "\n",
       "A data.frame: 6 x 2\n",
       "\n",
       "| <!--/--> | Sample &lt;chr&gt; | dose1 &lt;int&gt; |\n",
       "|---|---|---|\n",
       "| 1 | HIP00110 | 0 |\n",
       "| 2 | HIP00169 | 0 |\n",
       "| 3 | HIP00594 | 0 |\n",
       "| 4 | HIP00602 | 1 |\n",
       "| 5 | HIP00614 | 0 |\n",
       "| 6 | HIP00640 | 2 |\n",
       "\n"
      ],
      "text/plain": [
       "  Sample   dose1\n",
       "1 HIP00110 0    \n",
       "2 HIP00169 0    \n",
       "3 HIP00594 0    \n",
       "4 HIP00602 1    \n",
       "5 HIP00614 0    \n",
       "6 HIP00640 2    "
      ]
     },
     "metadata": {},
     "output_type": "display_data"
    }
   ],
   "source": [
    "head(gdata2)"
   ]
  },
  {
   "cell_type": "code",
   "execution_count": 79,
   "metadata": {
    "vscode": {
     "languageId": "r"
    }
   },
   "outputs": [
    {
     "data": {
      "text/html": [
       "<table class=\"dataframe\">\n",
       "<caption>A data.frame: 1 x 25</caption>\n",
       "<thead>\n",
       "\t<tr><th></th><th scope=col>Sample</th><th scope=col>dose1</th><th scope=col>A</th><th scope=col>C</th><th scope=col>D</th><th scope=col>E</th><th scope=col>F</th><th scope=col>G</th><th scope=col>H</th><th scope=col>I</th><th scope=col>...</th><th scope=col>Q</th><th scope=col>R</th><th scope=col>S</th><th scope=col>T</th><th scope=col>V</th><th scope=col>W</th><th scope=col>Y</th><th scope=col>PC1</th><th scope=col>PC2</th><th scope=col>PC3</th></tr>\n",
       "\t<tr><th></th><th scope=col>&lt;chr&gt;</th><th scope=col>&lt;int&gt;</th><th scope=col>&lt;dbl&gt;</th><th scope=col>&lt;dbl&gt;</th><th scope=col>&lt;dbl&gt;</th><th scope=col>&lt;dbl&gt;</th><th scope=col>&lt;dbl&gt;</th><th scope=col>&lt;dbl&gt;</th><th scope=col>&lt;dbl&gt;</th><th scope=col>&lt;dbl&gt;</th><th scope=col>...</th><th scope=col>&lt;dbl&gt;</th><th scope=col>&lt;dbl&gt;</th><th scope=col>&lt;dbl&gt;</th><th scope=col>&lt;dbl&gt;</th><th scope=col>&lt;dbl&gt;</th><th scope=col>&lt;dbl&gt;</th><th scope=col>&lt;dbl&gt;</th><th scope=col>&lt;dbl&gt;</th><th scope=col>&lt;dbl&gt;</th><th scope=col>&lt;dbl&gt;</th></tr>\n",
       "</thead>\n",
       "<tbody>\n",
       "\t<tr><th scope=row>1</th><td>HIP00110</td><td>0</td><td>0.6792223</td><td>1.95159</td><td>-1.141279</td><td>-1.93858</td><td>-0.1475388</td><td>1.308539</td><td>-1.307693</td><td>-1.078567</td><td>...</td><td>-1.155837</td><td>1.51162</td><td>0.07723269</td><td>-0.02446653</td><td>1.240705</td><td>1.626895</td><td>0.2959513</td><td>-0.3715639</td><td>0.1614687</td><td>0.976543</td></tr>\n",
       "</tbody>\n",
       "</table>\n"
      ],
      "text/latex": [
       "A data.frame: 1 x 25\n",
       "\\begin{tabular}{r|lllllllllllllllllllll}\n",
       "  & Sample & dose1 & A & C & D & E & F & G & H & I & ... & Q & R & S & T & V & W & Y & PC1 & PC2 & PC3\\\\\n",
       "  & <chr> & <int> & <dbl> & <dbl> & <dbl> & <dbl> & <dbl> & <dbl> & <dbl> & <dbl> & ... & <dbl> & <dbl> & <dbl> & <dbl> & <dbl> & <dbl> & <dbl> & <dbl> & <dbl> & <dbl>\\\\\n",
       "\\hline\n",
       "\t1 & HIP00110 & 0 & 0.6792223 & 1.95159 & -1.141279 & -1.93858 & -0.1475388 & 1.308539 & -1.307693 & -1.078567 & ... & -1.155837 & 1.51162 & 0.07723269 & -0.02446653 & 1.240705 & 1.626895 & 0.2959513 & -0.3715639 & 0.1614687 & 0.976543\\\\\n",
       "\\end{tabular}\n"
      ],
      "text/markdown": [
       "\n",
       "A data.frame: 1 x 25\n",
       "\n",
       "| <!--/--> | Sample &lt;chr&gt; | dose1 &lt;int&gt; | A &lt;dbl&gt; | C &lt;dbl&gt; | D &lt;dbl&gt; | E &lt;dbl&gt; | F &lt;dbl&gt; | G &lt;dbl&gt; | H &lt;dbl&gt; | I &lt;dbl&gt; | ... ... | Q &lt;dbl&gt; | R &lt;dbl&gt; | S &lt;dbl&gt; | T &lt;dbl&gt; | V &lt;dbl&gt; | W &lt;dbl&gt; | Y &lt;dbl&gt; | PC1 &lt;dbl&gt; | PC2 &lt;dbl&gt; | PC3 &lt;dbl&gt; |\n",
       "|---|---|---|---|---|---|---|---|---|---|---|---|---|---|---|---|---|---|---|---|---|---|\n",
       "| 1 | HIP00110 | 0 | 0.6792223 | 1.95159 | -1.141279 | -1.93858 | -0.1475388 | 1.308539 | -1.307693 | -1.078567 | ... | -1.155837 | 1.51162 | 0.07723269 | -0.02446653 | 1.240705 | 1.626895 | 0.2959513 | -0.3715639 | 0.1614687 | 0.976543 |\n",
       "\n"
      ],
      "text/plain": [
       "  Sample   dose1 A         C       D         E        F          G       \n",
       "1 HIP00110 0     0.6792223 1.95159 -1.141279 -1.93858 -0.1475388 1.308539\n",
       "  H         I         ... Q         R       S          T           V       \n",
       "1 -1.307693 -1.078567 ... -1.155837 1.51162 0.07723269 -0.02446653 1.240705\n",
       "  W        Y         PC1        PC2       PC3     \n",
       "1 1.626895 0.2959513 -0.3715639 0.1614687 0.976543"
      ]
     },
     "metadata": {},
     "output_type": "display_data"
    }
   ],
   "source": [
    "M[ M$Sample==\"HIP00110\", ]"
   ]
  },
  {
   "cell_type": "code",
   "execution_count": 55,
   "metadata": {
    "vscode": {
     "languageId": "r"
    }
   },
   "outputs": [
    {
     "data": {
      "text/html": [
       "<table class=\"dataframe\">\n",
       "<caption>A matrix: 5 x 1 of type dbl</caption>\n",
       "<tbody>\n",
       "\t<tr><th scope=row>Omnibus Effect</th><td>0.056499126</td></tr>\n",
       "\t<tr><th scope=row>dose1</th><td>0.018644352</td></tr>\n",
       "\t<tr><th scope=row>PC1</th><td>0.009310307</td></tr>\n",
       "\t<tr><th scope=row>PC2</th><td>0.010323079</td></tr>\n",
       "\t<tr><th scope=row>PC3</th><td>0.009011130</td></tr>\n",
       "</tbody>\n",
       "</table>\n"
      ],
      "text/latex": [
       "A matrix: 5 x 1 of type dbl\n",
       "\\begin{tabular}{r|l}\n",
       "\tOmnibus Effect & 0.056499126\\\\\n",
       "\tdose1 & 0.018644352\\\\\n",
       "\tPC1 & 0.009310307\\\\\n",
       "\tPC2 & 0.010323079\\\\\n",
       "\tPC3 & 0.009011130\\\\\n",
       "\\end{tabular}\n"
      ],
      "text/markdown": [
       "\n",
       "A matrix: 5 x 1 of type dbl\n",
       "\n",
       "| Omnibus Effect | 0.056499126 |\n",
       "| dose1 | 0.018644352 |\n",
       "| PC1 | 0.009310307 |\n",
       "| PC2 | 0.010323079 |\n",
       "| PC3 | 0.009011130 |\n",
       "\n"
      ],
      "text/plain": [
       "               [,1]       \n",
       "Omnibus Effect 0.056499126\n",
       "dose1          0.018644352\n",
       "PC1            0.009310307\n",
       "PC2            0.010323079\n",
       "PC3            0.009011130"
      ]
     },
     "metadata": {},
     "output_type": "display_data"
    }
   ],
   "source": [
    "mvlm.res_full$pseudo.rsq"
   ]
  },
  {
   "cell_type": "code",
   "execution_count": 57,
   "metadata": {
    "vscode": {
     "languageId": "r"
    }
   },
   "outputs": [],
   "source": [
    "HLA=\"HLA_DRB1\"; length=\"13\"; pos=\"6\"\n",
    "\n",
    " #library(data.table)\n",
    " #output file and directory\n",
    " #ofile <- paste0(\"assoc/HIP/lm/length_productive_v1_cov_rm_gl/\", HLA, \".L\", length,\"_P\", pos ,\".lm.v2.txt.gz\")\n",
    "\n",
    " #phenotype\n",
    "pdata <- read.table(paste0(\"~/git/cdr3-QTL/data/tcr_phenotype/L\",length,\"_P\",pos,\"_rm_gl/single_aa_usage_ratio.txt.gz\"),\n",
    "   header=T, stringsAsFactors=F)\n",
    "pdata <- as.data.frame(pdata)\n",
    "colnames(pdata)[2] <- \"pname\"\n",
    "pdata <- pdata[ ,c(\"Sample\", \"pname\", \"rate\")]\n",
    "\n",
    " #genotype (NEW GENOTYPE): 1% maf qc\n",
    "gdata <- read.table(paste0(\"~/git/cdr3-QTL/data/genotype/\", HLA, \".imgt.aa.postqc.matrix\"), header=T, stringsAsFactors=F)\n",
    "gdata <- as.data.frame(gdata)\n",
    "row.names(gdata) <- gdata$id\n",
    "colnames(gdata)[1] <- \"Sample\"\n",
    "\n",
    " #covariate (only use genotype pca)\n",
    "cdata <- read.table(\"~/git/cdr3-QTL/data/genotype/HLA_A_B_C_DQB1_DRB1_4digit.pca\", header=T, stringsAsFactors=F)\n",
    "row.names(cdata) <- cdata$id\n",
    "colnames(cdata)[1] <- \"Sample\"\n",
    "cdata <- cdata[,c(\"Sample\", \"PC1\", \"PC2\", \"PC3\")]\n",
    "\n",
    " #main calculations\n",
    "pnamelist <- read.table(paste0(\"~/git/cdr3-QTL/data/tcr_phenotype/L\",length,\"_P\",pos,\"_rm_gl/single_aa_usage_ratio.pass\"),\n",
    "   stringsAsFactors=F)[,1]\n",
    "gnamelist <- colnames(gdata)[ -1 ]\n",
    "\n",
    "pnamelist <- head(pnamelist,n=2) #to save time in this example script\n",
    "\n",
    "res <- data.frame()\n",
    "for( ptarget in pnamelist ){\n",
    "for( gtarget in gnamelist ){\n",
    "        # ptarget = \"E\"; gtarget=\"AA_DRB1_11_32552136_VL\"\n",
    "   #prep data\n",
    "   pdata2 <- subset(pdata, pname==ptarget )\n",
    "   pdata2 <- pdata2[,c(\"Sample\", \"rate\")]\n",
    "   gdata2 <- gdata[ ,c(\"Sample\", gtarget)]\n",
    "   colnames(gdata2) <- c(\"Sample\", \"dose\")\n",
    "   M <- merge(gdata2, pdata2, by=\"Sample\")\n",
    "   M <- merge(M, cdata, by=\"Sample\")\n",
    "   x <- M$rate\n",
    "   M$normrate <- qnorm( (rank(x, na.last=\"keep\") - 0.5) / sum(!is.na(x)) ) #inverse normal normalization\n",
    "   \n",
    "   if( var(M$dose) > 0 & var(M$rate) ){\n",
    "      #non-normalized ratio\n",
    "      test1 <- lm( rate ~  dose + PC1 + PC2 + PC3, data=M)\n",
    "      beta1 <- summary(test1)$coefficients[\"dose\",\"Estimate\"]\n",
    "      pvalue1 <- summary(test1)$coefficients[\"dose\",\"Pr(>|t|)\"]\n",
    "      \n",
    "      #normalized ratio\n",
    "      test2 <- lm( normrate ~  dose + PC1 + PC2 + PC3, data=M)\n",
    "      beta2 <- summary(test2)$coefficients[\"dose\",\"Estimate\"]\n",
    "      pvalue2 <- summary(test2)$coefficients[\"dose\",\"Pr(>|t|)\"]\n",
    "      \n",
    "      dump <- data.frame( pname=ptarget, gname=gtarget, beta1, pvalue1, beta2, pvalue2)\n",
    "      res <- rbind(res, dump)\n",
    "      \n",
    "   } else {\n",
    "      dump <- data.frame( pname=ptarget, gname=gtarget, beta1=NA, pvalue1=NA, beta2=NA, pvalue2=NA)\n",
    "      res <- rbind(res, dump)\n",
    "   }\n",
    "}\n",
    "}\n",
    "\n",
    "res <- res[order(res$pvalue2), ]"
   ]
  },
  {
   "cell_type": "code",
   "execution_count": 65,
   "metadata": {
    "vscode": {
     "languageId": "r"
    }
   },
   "outputs": [
    {
     "data": {
      "text/html": [
       "<style>\n",
       ".list-inline {list-style: none; margin:0; padding: 0}\n",
       ".list-inline>li {display: inline-block}\n",
       ".list-inline>li:not(:last-child)::after {content: \"\\00b7\"; padding: 0 .5ex}\n",
       "</style>\n",
       "<ol class=list-inline><li>'A'</li><li>'C'</li></ol>\n"
      ],
      "text/latex": [
       "\\begin{enumerate*}\n",
       "\\item 'A'\n",
       "\\item 'C'\n",
       "\\end{enumerate*}\n"
      ],
      "text/markdown": [
       "1. 'A'\n",
       "2. 'C'\n",
       "\n",
       "\n"
      ],
      "text/plain": [
       "[1] \"A\" \"C\""
      ]
     },
     "metadata": {},
     "output_type": "display_data"
    }
   ],
   "source": [
    "pnamelist"
   ]
  },
  {
   "cell_type": "code",
   "execution_count": 64,
   "metadata": {
    "vscode": {
     "languageId": "r"
    }
   },
   "outputs": [
    {
     "data": {
      "text/html": [
       "<table class=\"dataframe\">\n",
       "<caption>A data.frame: 458 x 6</caption>\n",
       "<thead>\n",
       "\t<tr><th></th><th scope=col>pname</th><th scope=col>gname</th><th scope=col>beta1</th><th scope=col>pvalue1</th><th scope=col>beta2</th><th scope=col>pvalue2</th></tr>\n",
       "\t<tr><th></th><th scope=col>&lt;chr&gt;</th><th scope=col>&lt;chr&gt;</th><th scope=col>&lt;dbl&gt;</th><th scope=col>&lt;dbl&gt;</th><th scope=col>&lt;dbl&gt;</th><th scope=col>&lt;dbl&gt;</th></tr>\n",
       "</thead>\n",
       "<tbody>\n",
       "\t<tr><th scope=row>170</th><td>A</td><td>AA_DRB1_13_32552130_RF </td><td> 0.001630363</td><td>3.306416e-14</td><td> 0.5056838</td><td>3.233439e-14</td></tr>\n",
       "\t<tr><th scope=row>102</th><td>A</td><td>AA_DRB1_37_32552058_YS </td><td> 0.001407987</td><td>1.074648e-13</td><td> 0.4349094</td><td>1.339783e-13</td></tr>\n",
       "\t<tr><th scope=row>33</th><td>A</td><td>AA_DRB1_96_32549611_QE </td><td> 0.001641206</td><td>2.024633e-13</td><td> 0.5084806</td><td>2.113490e-13</td></tr>\n",
       "\t<tr><th scope=row>37</th><td>A</td><td>AA_DRB1_96_32549611_YH </td><td>-0.001641206</td><td>2.024633e-13</td><td>-0.5084806</td><td>2.113490e-13</td></tr>\n",
       "\t<tr><th scope=row>92</th><td>A</td><td>AA_DRB1_37_32552058_NF </td><td>-0.001296695</td><td>2.209537e-11</td><td>-0.4034099</td><td>1.880358e-11</td></tr>\n",
       "\t<tr><th scope=row>210</th><td>A</td><td>AA_DRB1_11_32552136_VSG</td><td>-0.001427689</td><td>1.928578e-11</td><td>-0.4412769</td><td>2.237961e-11</td></tr>\n",
       "\t<tr><th scope=row>194</th><td>A</td><td>AA_DRB1_11_32552136_SG </td><td>-0.001230059</td><td>4.370326e-11</td><td>-0.3800974</td><td>5.102212e-11</td></tr>\n",
       "\t<tr><th scope=row>159</th><td>A</td><td>AA_DRB1_13_32552130_HRF</td><td> 0.001230059</td><td>4.370326e-11</td><td> 0.3800974</td><td>5.102212e-11</td></tr>\n",
       "\t<tr><th scope=row>94</th><td>A</td><td>AA_DRB1_37_32552058_S  </td><td> 0.001435718</td><td>9.578504e-11</td><td> 0.4430845</td><td>1.175961e-10</td></tr>\n",
       "\t<tr><th scope=row>190</th><td>A</td><td>AA_DRB1_11_32552136_PL </td><td> 0.001435718</td><td>9.578504e-11</td><td> 0.4430845</td><td>1.175961e-10</td></tr>\n",
       "\t<tr><th scope=row>225</th><td>A</td><td>AA_DRB1_.17_32557481_T </td><td> 0.001435718</td><td>9.578504e-11</td><td> 0.4430845</td><td>1.175961e-10</td></tr>\n",
       "\t<tr><th scope=row>224</th><td>A</td><td>AA_DRB1_.17_32557481_A </td><td>-0.001435718</td><td>9.578504e-11</td><td>-0.4430845</td><td>1.175961e-10</td></tr>\n",
       "\t<tr><th scope=row>30</th><td>A</td><td>AA_DRB1_96_32549611_H  </td><td>-0.001224417</td><td>2.129702e-10</td><td>-0.3778389</td><td>2.604674e-10</td></tr>\n",
       "\t<tr><th scope=row>206</th><td>A</td><td>AA_DRB1_11_32552136_VPL</td><td> 0.001224417</td><td>2.129702e-10</td><td> 0.3778389</td><td>2.604674e-10</td></tr>\n",
       "\t<tr><th scope=row>32</th><td>A</td><td>AA_DRB1_96_32549611_Q  </td><td> 0.001493710</td><td>6.082776e-10</td><td> 0.4666693</td><td>4.458506e-10</td></tr>\n",
       "\t<tr><th scope=row>166</th><td>A</td><td>AA_DRB1_13_32552130_HSY</td><td>-0.001210901</td><td>1.300247e-09</td><td>-0.3782497</td><td>9.710726e-10</td></tr>\n",
       "\t<tr><th scope=row>165</th><td>A</td><td>AA_DRB1_13_32552130_HSG</td><td>-0.001402707</td><td>2.781046e-09</td><td>-0.4412937</td><td>1.601497e-09</td></tr>\n",
       "\t<tr><th scope=row>188</th><td>A</td><td>AA_DRB1_11_32552136_PD </td><td> 0.001376018</td><td>6.653828e-09</td><td> 0.4287644</td><td>5.571789e-09</td></tr>\n",
       "\t<tr><th scope=row>177</th><td>A</td><td>AA_DRB1_13_32552130_SY </td><td>-0.001082545</td><td>8.054883e-09</td><td>-0.3366931</td><td>7.217836e-09</td></tr>\n",
       "\t<tr><th scope=row>204</th><td>A</td><td>AA_DRB1_11_32552136_VPD</td><td> 0.001085861</td><td>3.223019e-08</td><td> 0.3378825</td><td>2.869815e-08</td></tr>\n",
       "\t<tr><th scope=row>104</th><td>A</td><td>AA_DRB1_32_32552073    </td><td>-0.001091809</td><td>3.388403e-08</td><td>-0.3401880</td><td>2.889955e-08</td></tr>\n",
       "\t<tr><th scope=row>15</th><td>A</td><td>AA_DRB1_142_32549473_M </td><td> 0.001365785</td><td>3.889437e-08</td><td> 0.4250882</td><td>3.441097e-08</td></tr>\n",
       "\t<tr><th scope=row>19</th><td>A</td><td>AA_DRB1_133_32549500_L </td><td> 0.001365785</td><td>3.889437e-08</td><td> 0.4250882</td><td>3.441097e-08</td></tr>\n",
       "\t<tr><th scope=row>169</th><td>A</td><td>AA_DRB1_13_32552130_R  </td><td> 0.001365785</td><td>3.889437e-08</td><td> 0.4250882</td><td>3.441097e-08</td></tr>\n",
       "\t<tr><th scope=row>187</th><td>A</td><td>AA_DRB1_11_32552136_P  </td><td> 0.001365785</td><td>3.889437e-08</td><td> 0.4250882</td><td>3.441097e-08</td></tr>\n",
       "\t<tr><th scope=row>16</th><td>A</td><td>AA_DRB1_142_32549473_V </td><td>-0.001365785</td><td>3.889437e-08</td><td>-0.4250882</td><td>3.441097e-08</td></tr>\n",
       "\t<tr><th scope=row>20</th><td>A</td><td>AA_DRB1_133_32549500_R </td><td>-0.001365785</td><td>3.889437e-08</td><td>-0.4250882</td><td>3.441097e-08</td></tr>\n",
       "\t<tr><th scope=row>1</th><td>A</td><td>AA_DRB1_233_32548025_R </td><td>-0.001082768</td><td>7.346580e-08</td><td>-0.3375817</td><td>6.193962e-08</td></tr>\n",
       "\t<tr><th scope=row>2</th><td>A</td><td>AA_DRB1_233_32548025_T </td><td> 0.001082768</td><td>7.346580e-08</td><td> 0.3375817</td><td>6.193962e-08</td></tr>\n",
       "\t<tr><th scope=row>96</th><td>A</td><td>AA_DRB1_37_32552058_SL </td><td> 0.001148994</td><td>1.083186e-07</td><td> 0.3580798</td><td>9.289101e-08</td></tr>\n",
       "\t<tr><th scope=row>...</th><td>...</td><td>...</td><td>...</td><td>...</td><td>...</td><td>...</td></tr>\n",
       "\t<tr><th scope=row>282</th><td>C</td><td>AA_DRB1_74_32551947_QL </td><td> 9.935874e-07</td><td>0.8992832</td><td>-0.0101201491</td><td>0.9112884</td></tr>\n",
       "\t<tr><th scope=row>312</th><td>C</td><td>AA_DRB1_47_32552028    </td><td>-3.078861e-06</td><td>0.5614781</td><td>-0.0068200883</td><td>0.9115017</td></tr>\n",
       "\t<tr><th scope=row>172</th><td>A</td><td>AA_DRB1_13_32552130_RS </td><td> 3.217659e-05</td><td>0.8653625</td><td> 0.0059842993</td><td>0.9189920</td></tr>\n",
       "\t<tr><th scope=row>252</th><td>C</td><td>AA_DRB1_112_32549563_H </td><td>-1.397833e-05</td><td>0.5515418</td><td>-0.0252423096</td><td>0.9259701</td></tr>\n",
       "\t<tr><th scope=row>253</th><td>C</td><td>AA_DRB1_112_32549563_Y </td><td> 1.397833e-05</td><td>0.5515418</td><td> 0.0252423096</td><td>0.9259701</td></tr>\n",
       "\t<tr><th scope=row>267</th><td>C</td><td>AA_DRB1_96_32549611_YQ </td><td>-9.214451e-07</td><td>0.8724972</td><td>-0.0058378646</td><td>0.9299769</td></tr>\n",
       "\t<tr><th scope=row>432</th><td>C</td><td>AA_DRB1_11_32552136_VP </td><td>-9.214451e-07</td><td>0.8724972</td><td>-0.0058378646</td><td>0.9299769</td></tr>\n",
       "\t<tr><th scope=row>260</th><td>C</td><td>AA_DRB1_96_32549611_HE </td><td> 9.214451e-07</td><td>0.8724972</td><td> 0.0058378646</td><td>0.9299769</td></tr>\n",
       "\t<tr><th scope=row>292</th><td>C</td><td>AA_DRB1_71_32551956_KE </td><td>-2.855606e-06</td><td>0.6111670</td><td>-0.0055818336</td><td>0.9315635</td></tr>\n",
       "\t<tr><th scope=row>301</th><td>C</td><td>AA_DRB1_60_32551989_H  </td><td> 4.825446e-06</td><td>0.7501420</td><td> 0.0146753721</td><td>0.9332965</td></tr>\n",
       "\t<tr><th scope=row>305</th><td>C</td><td>AA_DRB1_57_32551998_A  </td><td> 4.825446e-06</td><td>0.7501420</td><td> 0.0146753721</td><td>0.9332965</td></tr>\n",
       "\t<tr><th scope=row>10</th><td>A</td><td>AA_DRB1_180_32549359_V </td><td>-3.536978e-05</td><td>0.9053994</td><td>-0.0074692540</td><td>0.9354868</td></tr>\n",
       "\t<tr><th scope=row>227</th><td>A</td><td>AA_DRB1_.24_32557502_L </td><td>-3.536978e-05</td><td>0.9053994</td><td>-0.0074692540</td><td>0.9354868</td></tr>\n",
       "\t<tr><th scope=row>9</th><td>A</td><td>AA_DRB1_180_32549359_L </td><td> 3.536978e-05</td><td>0.9053994</td><td> 0.0074692540</td><td>0.9354868</td></tr>\n",
       "\t<tr><th scope=row>35</th><td>A</td><td>AA_DRB1_96_32549611_Y  </td><td> 3.536978e-05</td><td>0.9053994</td><td> 0.0074692540</td><td>0.9354868</td></tr>\n",
       "\t<tr><th scope=row>103</th><td>A</td><td>AA_DRB1_33_32552070    </td><td> 3.536978e-05</td><td>0.9053994</td><td> 0.0074692540</td><td>0.9354868</td></tr>\n",
       "\t<tr><th scope=row>153</th><td>A</td><td>AA_DRB1_13_32552130_H  </td><td> 3.536978e-05</td><td>0.9053994</td><td> 0.0074692540</td><td>0.9354868</td></tr>\n",
       "\t<tr><th scope=row>226</th><td>A</td><td>AA_DRB1_.24_32557502_F </td><td> 3.536978e-05</td><td>0.9053994</td><td> 0.0074692540</td><td>0.9354868</td></tr>\n",
       "\t<tr><th scope=row>139</th><td>A</td><td>AA_DRB1_28_32552085_D  </td><td> 5.320857e-05</td><td>0.8305918</td><td> 0.0059933145</td><td>0.9380499</td></tr>\n",
       "\t<tr><th scope=row>133</th><td>A</td><td>AA_DRB1_30_32552079_YHR</td><td> 2.552359e-05</td><td>0.9217473</td><td> 0.0043727920</td><td>0.9567124</td></tr>\n",
       "\t<tr><th scope=row>207</th><td>A</td><td>AA_DRB1_11_32552136_VPS</td><td> 2.552359e-05</td><td>0.9217473</td><td> 0.0043727920</td><td>0.9567124</td></tr>\n",
       "\t<tr><th scope=row>123</th><td>A</td><td>AA_DRB1_30_32552079_Y  </td><td> 5.057052e-05</td><td>0.8398704</td><td> 0.0041957418</td><td>0.9568803</td></tr>\n",
       "\t<tr><th scope=row>428</th><td>C</td><td>AA_DRB1_11_32552136_VGD</td><td> 1.977859e-06</td><td>0.7345073</td><td>-0.0027506820</td><td>0.9674872</td></tr>\n",
       "\t<tr><th scope=row>387</th><td>C</td><td>AA_DRB1_13_32552130_HR </td><td>-3.377795e-07</td><td>0.9545584</td><td>-0.0017823763</td><td>0.9792679</td></tr>\n",
       "\t<tr><th scope=row>255</th><td>C</td><td>AA_DRB1_104_32549587_S </td><td>-2.751814e-06</td><td>0.6463717</td><td>-0.0016369821</td><td>0.9811829</td></tr>\n",
       "\t<tr><th scope=row>257</th><td>C</td><td>AA_DRB1_98_32549605_K  </td><td>-2.751814e-06</td><td>0.6463717</td><td>-0.0016369821</td><td>0.9811829</td></tr>\n",
       "\t<tr><th scope=row>254</th><td>C</td><td>AA_DRB1_104_32549587_A </td><td> 2.751814e-06</td><td>0.6463717</td><td> 0.0016369821</td><td>0.9811829</td></tr>\n",
       "\t<tr><th scope=row>256</th><td>C</td><td>AA_DRB1_98_32549605_E  </td><td> 2.751814e-06</td><td>0.6463717</td><td> 0.0016369821</td><td>0.9811829</td></tr>\n",
       "\t<tr><th scope=row>431</th><td>C</td><td>AA_DRB1_11_32552136_VLG</td><td> 2.101227e-06</td><td>0.7069516</td><td>-0.0005976247</td><td>0.9926272</td></tr>\n",
       "\t<tr><th scope=row>117</th><td>A</td><td>AA_DRB1_30_32552079_HR </td><td>-9.829844e-05</td><td>0.8372462</td><td>-0.0005060566</td><td>0.9972786</td></tr>\n",
       "</tbody>\n",
       "</table>\n"
      ],
      "text/latex": [
       "A data.frame: 458 x 6\n",
       "\\begin{tabular}{r|llllll}\n",
       "  & pname & gname & beta1 & pvalue1 & beta2 & pvalue2\\\\\n",
       "  & <chr> & <chr> & <dbl> & <dbl> & <dbl> & <dbl>\\\\\n",
       "\\hline\n",
       "\t170 & A & AA\\_DRB1\\_13\\_32552130\\_RF  &  0.001630363 & 3.306416e-14 &  0.5056838 & 3.233439e-14\\\\\n",
       "\t102 & A & AA\\_DRB1\\_37\\_32552058\\_YS  &  0.001407987 & 1.074648e-13 &  0.4349094 & 1.339783e-13\\\\\n",
       "\t33 & A & AA\\_DRB1\\_96\\_32549611\\_QE  &  0.001641206 & 2.024633e-13 &  0.5084806 & 2.113490e-13\\\\\n",
       "\t37 & A & AA\\_DRB1\\_96\\_32549611\\_YH  & -0.001641206 & 2.024633e-13 & -0.5084806 & 2.113490e-13\\\\\n",
       "\t92 & A & AA\\_DRB1\\_37\\_32552058\\_NF  & -0.001296695 & 2.209537e-11 & -0.4034099 & 1.880358e-11\\\\\n",
       "\t210 & A & AA\\_DRB1\\_11\\_32552136\\_VSG & -0.001427689 & 1.928578e-11 & -0.4412769 & 2.237961e-11\\\\\n",
       "\t194 & A & AA\\_DRB1\\_11\\_32552136\\_SG  & -0.001230059 & 4.370326e-11 & -0.3800974 & 5.102212e-11\\\\\n",
       "\t159 & A & AA\\_DRB1\\_13\\_32552130\\_HRF &  0.001230059 & 4.370326e-11 &  0.3800974 & 5.102212e-11\\\\\n",
       "\t94 & A & AA\\_DRB1\\_37\\_32552058\\_S   &  0.001435718 & 9.578504e-11 &  0.4430845 & 1.175961e-10\\\\\n",
       "\t190 & A & AA\\_DRB1\\_11\\_32552136\\_PL  &  0.001435718 & 9.578504e-11 &  0.4430845 & 1.175961e-10\\\\\n",
       "\t225 & A & AA\\_DRB1\\_.17\\_32557481\\_T  &  0.001435718 & 9.578504e-11 &  0.4430845 & 1.175961e-10\\\\\n",
       "\t224 & A & AA\\_DRB1\\_.17\\_32557481\\_A  & -0.001435718 & 9.578504e-11 & -0.4430845 & 1.175961e-10\\\\\n",
       "\t30 & A & AA\\_DRB1\\_96\\_32549611\\_H   & -0.001224417 & 2.129702e-10 & -0.3778389 & 2.604674e-10\\\\\n",
       "\t206 & A & AA\\_DRB1\\_11\\_32552136\\_VPL &  0.001224417 & 2.129702e-10 &  0.3778389 & 2.604674e-10\\\\\n",
       "\t32 & A & AA\\_DRB1\\_96\\_32549611\\_Q   &  0.001493710 & 6.082776e-10 &  0.4666693 & 4.458506e-10\\\\\n",
       "\t166 & A & AA\\_DRB1\\_13\\_32552130\\_HSY & -0.001210901 & 1.300247e-09 & -0.3782497 & 9.710726e-10\\\\\n",
       "\t165 & A & AA\\_DRB1\\_13\\_32552130\\_HSG & -0.001402707 & 2.781046e-09 & -0.4412937 & 1.601497e-09\\\\\n",
       "\t188 & A & AA\\_DRB1\\_11\\_32552136\\_PD  &  0.001376018 & 6.653828e-09 &  0.4287644 & 5.571789e-09\\\\\n",
       "\t177 & A & AA\\_DRB1\\_13\\_32552130\\_SY  & -0.001082545 & 8.054883e-09 & -0.3366931 & 7.217836e-09\\\\\n",
       "\t204 & A & AA\\_DRB1\\_11\\_32552136\\_VPD &  0.001085861 & 3.223019e-08 &  0.3378825 & 2.869815e-08\\\\\n",
       "\t104 & A & AA\\_DRB1\\_32\\_32552073     & -0.001091809 & 3.388403e-08 & -0.3401880 & 2.889955e-08\\\\\n",
       "\t15 & A & AA\\_DRB1\\_142\\_32549473\\_M  &  0.001365785 & 3.889437e-08 &  0.4250882 & 3.441097e-08\\\\\n",
       "\t19 & A & AA\\_DRB1\\_133\\_32549500\\_L  &  0.001365785 & 3.889437e-08 &  0.4250882 & 3.441097e-08\\\\\n",
       "\t169 & A & AA\\_DRB1\\_13\\_32552130\\_R   &  0.001365785 & 3.889437e-08 &  0.4250882 & 3.441097e-08\\\\\n",
       "\t187 & A & AA\\_DRB1\\_11\\_32552136\\_P   &  0.001365785 & 3.889437e-08 &  0.4250882 & 3.441097e-08\\\\\n",
       "\t16 & A & AA\\_DRB1\\_142\\_32549473\\_V  & -0.001365785 & 3.889437e-08 & -0.4250882 & 3.441097e-08\\\\\n",
       "\t20 & A & AA\\_DRB1\\_133\\_32549500\\_R  & -0.001365785 & 3.889437e-08 & -0.4250882 & 3.441097e-08\\\\\n",
       "\t1 & A & AA\\_DRB1\\_233\\_32548025\\_R  & -0.001082768 & 7.346580e-08 & -0.3375817 & 6.193962e-08\\\\\n",
       "\t2 & A & AA\\_DRB1\\_233\\_32548025\\_T  &  0.001082768 & 7.346580e-08 &  0.3375817 & 6.193962e-08\\\\\n",
       "\t96 & A & AA\\_DRB1\\_37\\_32552058\\_SL  &  0.001148994 & 1.083186e-07 &  0.3580798 & 9.289101e-08\\\\\n",
       "\t... & ... & ... & ... & ... & ... & ...\\\\\n",
       "\t282 & C & AA\\_DRB1\\_74\\_32551947\\_QL  &  9.935874e-07 & 0.8992832 & -0.0101201491 & 0.9112884\\\\\n",
       "\t312 & C & AA\\_DRB1\\_47\\_32552028     & -3.078861e-06 & 0.5614781 & -0.0068200883 & 0.9115017\\\\\n",
       "\t172 & A & AA\\_DRB1\\_13\\_32552130\\_RS  &  3.217659e-05 & 0.8653625 &  0.0059842993 & 0.9189920\\\\\n",
       "\t252 & C & AA\\_DRB1\\_112\\_32549563\\_H  & -1.397833e-05 & 0.5515418 & -0.0252423096 & 0.9259701\\\\\n",
       "\t253 & C & AA\\_DRB1\\_112\\_32549563\\_Y  &  1.397833e-05 & 0.5515418 &  0.0252423096 & 0.9259701\\\\\n",
       "\t267 & C & AA\\_DRB1\\_96\\_32549611\\_YQ  & -9.214451e-07 & 0.8724972 & -0.0058378646 & 0.9299769\\\\\n",
       "\t432 & C & AA\\_DRB1\\_11\\_32552136\\_VP  & -9.214451e-07 & 0.8724972 & -0.0058378646 & 0.9299769\\\\\n",
       "\t260 & C & AA\\_DRB1\\_96\\_32549611\\_HE  &  9.214451e-07 & 0.8724972 &  0.0058378646 & 0.9299769\\\\\n",
       "\t292 & C & AA\\_DRB1\\_71\\_32551956\\_KE  & -2.855606e-06 & 0.6111670 & -0.0055818336 & 0.9315635\\\\\n",
       "\t301 & C & AA\\_DRB1\\_60\\_32551989\\_H   &  4.825446e-06 & 0.7501420 &  0.0146753721 & 0.9332965\\\\\n",
       "\t305 & C & AA\\_DRB1\\_57\\_32551998\\_A   &  4.825446e-06 & 0.7501420 &  0.0146753721 & 0.9332965\\\\\n",
       "\t10 & A & AA\\_DRB1\\_180\\_32549359\\_V  & -3.536978e-05 & 0.9053994 & -0.0074692540 & 0.9354868\\\\\n",
       "\t227 & A & AA\\_DRB1\\_.24\\_32557502\\_L  & -3.536978e-05 & 0.9053994 & -0.0074692540 & 0.9354868\\\\\n",
       "\t9 & A & AA\\_DRB1\\_180\\_32549359\\_L  &  3.536978e-05 & 0.9053994 &  0.0074692540 & 0.9354868\\\\\n",
       "\t35 & A & AA\\_DRB1\\_96\\_32549611\\_Y   &  3.536978e-05 & 0.9053994 &  0.0074692540 & 0.9354868\\\\\n",
       "\t103 & A & AA\\_DRB1\\_33\\_32552070     &  3.536978e-05 & 0.9053994 &  0.0074692540 & 0.9354868\\\\\n",
       "\t153 & A & AA\\_DRB1\\_13\\_32552130\\_H   &  3.536978e-05 & 0.9053994 &  0.0074692540 & 0.9354868\\\\\n",
       "\t226 & A & AA\\_DRB1\\_.24\\_32557502\\_F  &  3.536978e-05 & 0.9053994 &  0.0074692540 & 0.9354868\\\\\n",
       "\t139 & A & AA\\_DRB1\\_28\\_32552085\\_D   &  5.320857e-05 & 0.8305918 &  0.0059933145 & 0.9380499\\\\\n",
       "\t133 & A & AA\\_DRB1\\_30\\_32552079\\_YHR &  2.552359e-05 & 0.9217473 &  0.0043727920 & 0.9567124\\\\\n",
       "\t207 & A & AA\\_DRB1\\_11\\_32552136\\_VPS &  2.552359e-05 & 0.9217473 &  0.0043727920 & 0.9567124\\\\\n",
       "\t123 & A & AA\\_DRB1\\_30\\_32552079\\_Y   &  5.057052e-05 & 0.8398704 &  0.0041957418 & 0.9568803\\\\\n",
       "\t428 & C & AA\\_DRB1\\_11\\_32552136\\_VGD &  1.977859e-06 & 0.7345073 & -0.0027506820 & 0.9674872\\\\\n",
       "\t387 & C & AA\\_DRB1\\_13\\_32552130\\_HR  & -3.377795e-07 & 0.9545584 & -0.0017823763 & 0.9792679\\\\\n",
       "\t255 & C & AA\\_DRB1\\_104\\_32549587\\_S  & -2.751814e-06 & 0.6463717 & -0.0016369821 & 0.9811829\\\\\n",
       "\t257 & C & AA\\_DRB1\\_98\\_32549605\\_K   & -2.751814e-06 & 0.6463717 & -0.0016369821 & 0.9811829\\\\\n",
       "\t254 & C & AA\\_DRB1\\_104\\_32549587\\_A  &  2.751814e-06 & 0.6463717 &  0.0016369821 & 0.9811829\\\\\n",
       "\t256 & C & AA\\_DRB1\\_98\\_32549605\\_E   &  2.751814e-06 & 0.6463717 &  0.0016369821 & 0.9811829\\\\\n",
       "\t431 & C & AA\\_DRB1\\_11\\_32552136\\_VLG &  2.101227e-06 & 0.7069516 & -0.0005976247 & 0.9926272\\\\\n",
       "\t117 & A & AA\\_DRB1\\_30\\_32552079\\_HR  & -9.829844e-05 & 0.8372462 & -0.0005060566 & 0.9972786\\\\\n",
       "\\end{tabular}\n"
      ],
      "text/markdown": [
       "\n",
       "A data.frame: 458 x 6\n",
       "\n",
       "| <!--/--> | pname &lt;chr&gt; | gname &lt;chr&gt; | beta1 &lt;dbl&gt; | pvalue1 &lt;dbl&gt; | beta2 &lt;dbl&gt; | pvalue2 &lt;dbl&gt; |\n",
       "|---|---|---|---|---|---|---|\n",
       "| 170 | A | AA_DRB1_13_32552130_RF  |  0.001630363 | 3.306416e-14 |  0.5056838 | 3.233439e-14 |\n",
       "| 102 | A | AA_DRB1_37_32552058_YS  |  0.001407987 | 1.074648e-13 |  0.4349094 | 1.339783e-13 |\n",
       "| 33 | A | AA_DRB1_96_32549611_QE  |  0.001641206 | 2.024633e-13 |  0.5084806 | 2.113490e-13 |\n",
       "| 37 | A | AA_DRB1_96_32549611_YH  | -0.001641206 | 2.024633e-13 | -0.5084806 | 2.113490e-13 |\n",
       "| 92 | A | AA_DRB1_37_32552058_NF  | -0.001296695 | 2.209537e-11 | -0.4034099 | 1.880358e-11 |\n",
       "| 210 | A | AA_DRB1_11_32552136_VSG | -0.001427689 | 1.928578e-11 | -0.4412769 | 2.237961e-11 |\n",
       "| 194 | A | AA_DRB1_11_32552136_SG  | -0.001230059 | 4.370326e-11 | -0.3800974 | 5.102212e-11 |\n",
       "| 159 | A | AA_DRB1_13_32552130_HRF |  0.001230059 | 4.370326e-11 |  0.3800974 | 5.102212e-11 |\n",
       "| 94 | A | AA_DRB1_37_32552058_S   |  0.001435718 | 9.578504e-11 |  0.4430845 | 1.175961e-10 |\n",
       "| 190 | A | AA_DRB1_11_32552136_PL  |  0.001435718 | 9.578504e-11 |  0.4430845 | 1.175961e-10 |\n",
       "| 225 | A | AA_DRB1_.17_32557481_T  |  0.001435718 | 9.578504e-11 |  0.4430845 | 1.175961e-10 |\n",
       "| 224 | A | AA_DRB1_.17_32557481_A  | -0.001435718 | 9.578504e-11 | -0.4430845 | 1.175961e-10 |\n",
       "| 30 | A | AA_DRB1_96_32549611_H   | -0.001224417 | 2.129702e-10 | -0.3778389 | 2.604674e-10 |\n",
       "| 206 | A | AA_DRB1_11_32552136_VPL |  0.001224417 | 2.129702e-10 |  0.3778389 | 2.604674e-10 |\n",
       "| 32 | A | AA_DRB1_96_32549611_Q   |  0.001493710 | 6.082776e-10 |  0.4666693 | 4.458506e-10 |\n",
       "| 166 | A | AA_DRB1_13_32552130_HSY | -0.001210901 | 1.300247e-09 | -0.3782497 | 9.710726e-10 |\n",
       "| 165 | A | AA_DRB1_13_32552130_HSG | -0.001402707 | 2.781046e-09 | -0.4412937 | 1.601497e-09 |\n",
       "| 188 | A | AA_DRB1_11_32552136_PD  |  0.001376018 | 6.653828e-09 |  0.4287644 | 5.571789e-09 |\n",
       "| 177 | A | AA_DRB1_13_32552130_SY  | -0.001082545 | 8.054883e-09 | -0.3366931 | 7.217836e-09 |\n",
       "| 204 | A | AA_DRB1_11_32552136_VPD |  0.001085861 | 3.223019e-08 |  0.3378825 | 2.869815e-08 |\n",
       "| 104 | A | AA_DRB1_32_32552073     | -0.001091809 | 3.388403e-08 | -0.3401880 | 2.889955e-08 |\n",
       "| 15 | A | AA_DRB1_142_32549473_M  |  0.001365785 | 3.889437e-08 |  0.4250882 | 3.441097e-08 |\n",
       "| 19 | A | AA_DRB1_133_32549500_L  |  0.001365785 | 3.889437e-08 |  0.4250882 | 3.441097e-08 |\n",
       "| 169 | A | AA_DRB1_13_32552130_R   |  0.001365785 | 3.889437e-08 |  0.4250882 | 3.441097e-08 |\n",
       "| 187 | A | AA_DRB1_11_32552136_P   |  0.001365785 | 3.889437e-08 |  0.4250882 | 3.441097e-08 |\n",
       "| 16 | A | AA_DRB1_142_32549473_V  | -0.001365785 | 3.889437e-08 | -0.4250882 | 3.441097e-08 |\n",
       "| 20 | A | AA_DRB1_133_32549500_R  | -0.001365785 | 3.889437e-08 | -0.4250882 | 3.441097e-08 |\n",
       "| 1 | A | AA_DRB1_233_32548025_R  | -0.001082768 | 7.346580e-08 | -0.3375817 | 6.193962e-08 |\n",
       "| 2 | A | AA_DRB1_233_32548025_T  |  0.001082768 | 7.346580e-08 |  0.3375817 | 6.193962e-08 |\n",
       "| 96 | A | AA_DRB1_37_32552058_SL  |  0.001148994 | 1.083186e-07 |  0.3580798 | 9.289101e-08 |\n",
       "| ... | ... | ... | ... | ... | ... | ... |\n",
       "| 282 | C | AA_DRB1_74_32551947_QL  |  9.935874e-07 | 0.8992832 | -0.0101201491 | 0.9112884 |\n",
       "| 312 | C | AA_DRB1_47_32552028     | -3.078861e-06 | 0.5614781 | -0.0068200883 | 0.9115017 |\n",
       "| 172 | A | AA_DRB1_13_32552130_RS  |  3.217659e-05 | 0.8653625 |  0.0059842993 | 0.9189920 |\n",
       "| 252 | C | AA_DRB1_112_32549563_H  | -1.397833e-05 | 0.5515418 | -0.0252423096 | 0.9259701 |\n",
       "| 253 | C | AA_DRB1_112_32549563_Y  |  1.397833e-05 | 0.5515418 |  0.0252423096 | 0.9259701 |\n",
       "| 267 | C | AA_DRB1_96_32549611_YQ  | -9.214451e-07 | 0.8724972 | -0.0058378646 | 0.9299769 |\n",
       "| 432 | C | AA_DRB1_11_32552136_VP  | -9.214451e-07 | 0.8724972 | -0.0058378646 | 0.9299769 |\n",
       "| 260 | C | AA_DRB1_96_32549611_HE  |  9.214451e-07 | 0.8724972 |  0.0058378646 | 0.9299769 |\n",
       "| 292 | C | AA_DRB1_71_32551956_KE  | -2.855606e-06 | 0.6111670 | -0.0055818336 | 0.9315635 |\n",
       "| 301 | C | AA_DRB1_60_32551989_H   |  4.825446e-06 | 0.7501420 |  0.0146753721 | 0.9332965 |\n",
       "| 305 | C | AA_DRB1_57_32551998_A   |  4.825446e-06 | 0.7501420 |  0.0146753721 | 0.9332965 |\n",
       "| 10 | A | AA_DRB1_180_32549359_V  | -3.536978e-05 | 0.9053994 | -0.0074692540 | 0.9354868 |\n",
       "| 227 | A | AA_DRB1_.24_32557502_L  | -3.536978e-05 | 0.9053994 | -0.0074692540 | 0.9354868 |\n",
       "| 9 | A | AA_DRB1_180_32549359_L  |  3.536978e-05 | 0.9053994 |  0.0074692540 | 0.9354868 |\n",
       "| 35 | A | AA_DRB1_96_32549611_Y   |  3.536978e-05 | 0.9053994 |  0.0074692540 | 0.9354868 |\n",
       "| 103 | A | AA_DRB1_33_32552070     |  3.536978e-05 | 0.9053994 |  0.0074692540 | 0.9354868 |\n",
       "| 153 | A | AA_DRB1_13_32552130_H   |  3.536978e-05 | 0.9053994 |  0.0074692540 | 0.9354868 |\n",
       "| 226 | A | AA_DRB1_.24_32557502_F  |  3.536978e-05 | 0.9053994 |  0.0074692540 | 0.9354868 |\n",
       "| 139 | A | AA_DRB1_28_32552085_D   |  5.320857e-05 | 0.8305918 |  0.0059933145 | 0.9380499 |\n",
       "| 133 | A | AA_DRB1_30_32552079_YHR |  2.552359e-05 | 0.9217473 |  0.0043727920 | 0.9567124 |\n",
       "| 207 | A | AA_DRB1_11_32552136_VPS |  2.552359e-05 | 0.9217473 |  0.0043727920 | 0.9567124 |\n",
       "| 123 | A | AA_DRB1_30_32552079_Y   |  5.057052e-05 | 0.8398704 |  0.0041957418 | 0.9568803 |\n",
       "| 428 | C | AA_DRB1_11_32552136_VGD |  1.977859e-06 | 0.7345073 | -0.0027506820 | 0.9674872 |\n",
       "| 387 | C | AA_DRB1_13_32552130_HR  | -3.377795e-07 | 0.9545584 | -0.0017823763 | 0.9792679 |\n",
       "| 255 | C | AA_DRB1_104_32549587_S  | -2.751814e-06 | 0.6463717 | -0.0016369821 | 0.9811829 |\n",
       "| 257 | C | AA_DRB1_98_32549605_K   | -2.751814e-06 | 0.6463717 | -0.0016369821 | 0.9811829 |\n",
       "| 254 | C | AA_DRB1_104_32549587_A  |  2.751814e-06 | 0.6463717 |  0.0016369821 | 0.9811829 |\n",
       "| 256 | C | AA_DRB1_98_32549605_E   |  2.751814e-06 | 0.6463717 |  0.0016369821 | 0.9811829 |\n",
       "| 431 | C | AA_DRB1_11_32552136_VLG |  2.101227e-06 | 0.7069516 | -0.0005976247 | 0.9926272 |\n",
       "| 117 | A | AA_DRB1_30_32552079_HR  | -9.829844e-05 | 0.8372462 | -0.0005060566 | 0.9972786 |\n",
       "\n"
      ],
      "text/plain": [
       "    pname gname                   beta1         pvalue1      beta2        \n",
       "170 A     AA_DRB1_13_32552130_RF   0.001630363  3.306416e-14  0.5056838   \n",
       "102 A     AA_DRB1_37_32552058_YS   0.001407987  1.074648e-13  0.4349094   \n",
       "33  A     AA_DRB1_96_32549611_QE   0.001641206  2.024633e-13  0.5084806   \n",
       "37  A     AA_DRB1_96_32549611_YH  -0.001641206  2.024633e-13 -0.5084806   \n",
       "92  A     AA_DRB1_37_32552058_NF  -0.001296695  2.209537e-11 -0.4034099   \n",
       "210 A     AA_DRB1_11_32552136_VSG -0.001427689  1.928578e-11 -0.4412769   \n",
       "194 A     AA_DRB1_11_32552136_SG  -0.001230059  4.370326e-11 -0.3800974   \n",
       "159 A     AA_DRB1_13_32552130_HRF  0.001230059  4.370326e-11  0.3800974   \n",
       "94  A     AA_DRB1_37_32552058_S    0.001435718  9.578504e-11  0.4430845   \n",
       "190 A     AA_DRB1_11_32552136_PL   0.001435718  9.578504e-11  0.4430845   \n",
       "225 A     AA_DRB1_.17_32557481_T   0.001435718  9.578504e-11  0.4430845   \n",
       "224 A     AA_DRB1_.17_32557481_A  -0.001435718  9.578504e-11 -0.4430845   \n",
       "30  A     AA_DRB1_96_32549611_H   -0.001224417  2.129702e-10 -0.3778389   \n",
       "206 A     AA_DRB1_11_32552136_VPL  0.001224417  2.129702e-10  0.3778389   \n",
       "32  A     AA_DRB1_96_32549611_Q    0.001493710  6.082776e-10  0.4666693   \n",
       "166 A     AA_DRB1_13_32552130_HSY -0.001210901  1.300247e-09 -0.3782497   \n",
       "165 A     AA_DRB1_13_32552130_HSG -0.001402707  2.781046e-09 -0.4412937   \n",
       "188 A     AA_DRB1_11_32552136_PD   0.001376018  6.653828e-09  0.4287644   \n",
       "177 A     AA_DRB1_13_32552130_SY  -0.001082545  8.054883e-09 -0.3366931   \n",
       "204 A     AA_DRB1_11_32552136_VPD  0.001085861  3.223019e-08  0.3378825   \n",
       "104 A     AA_DRB1_32_32552073     -0.001091809  3.388403e-08 -0.3401880   \n",
       "15  A     AA_DRB1_142_32549473_M   0.001365785  3.889437e-08  0.4250882   \n",
       "19  A     AA_DRB1_133_32549500_L   0.001365785  3.889437e-08  0.4250882   \n",
       "169 A     AA_DRB1_13_32552130_R    0.001365785  3.889437e-08  0.4250882   \n",
       "187 A     AA_DRB1_11_32552136_P    0.001365785  3.889437e-08  0.4250882   \n",
       "16  A     AA_DRB1_142_32549473_V  -0.001365785  3.889437e-08 -0.4250882   \n",
       "20  A     AA_DRB1_133_32549500_R  -0.001365785  3.889437e-08 -0.4250882   \n",
       "1   A     AA_DRB1_233_32548025_R  -0.001082768  7.346580e-08 -0.3375817   \n",
       "2   A     AA_DRB1_233_32548025_T   0.001082768  7.346580e-08  0.3375817   \n",
       "96  A     AA_DRB1_37_32552058_SL   0.001148994  1.083186e-07  0.3580798   \n",
       "... ...   ...                     ...           ...          ...          \n",
       "282 C     AA_DRB1_74_32551947_QL   9.935874e-07 0.8992832    -0.0101201491\n",
       "312 C     AA_DRB1_47_32552028     -3.078861e-06 0.5614781    -0.0068200883\n",
       "172 A     AA_DRB1_13_32552130_RS   3.217659e-05 0.8653625     0.0059842993\n",
       "252 C     AA_DRB1_112_32549563_H  -1.397833e-05 0.5515418    -0.0252423096\n",
       "253 C     AA_DRB1_112_32549563_Y   1.397833e-05 0.5515418     0.0252423096\n",
       "267 C     AA_DRB1_96_32549611_YQ  -9.214451e-07 0.8724972    -0.0058378646\n",
       "432 C     AA_DRB1_11_32552136_VP  -9.214451e-07 0.8724972    -0.0058378646\n",
       "260 C     AA_DRB1_96_32549611_HE   9.214451e-07 0.8724972     0.0058378646\n",
       "292 C     AA_DRB1_71_32551956_KE  -2.855606e-06 0.6111670    -0.0055818336\n",
       "301 C     AA_DRB1_60_32551989_H    4.825446e-06 0.7501420     0.0146753721\n",
       "305 C     AA_DRB1_57_32551998_A    4.825446e-06 0.7501420     0.0146753721\n",
       "10  A     AA_DRB1_180_32549359_V  -3.536978e-05 0.9053994    -0.0074692540\n",
       "227 A     AA_DRB1_.24_32557502_L  -3.536978e-05 0.9053994    -0.0074692540\n",
       "9   A     AA_DRB1_180_32549359_L   3.536978e-05 0.9053994     0.0074692540\n",
       "35  A     AA_DRB1_96_32549611_Y    3.536978e-05 0.9053994     0.0074692540\n",
       "103 A     AA_DRB1_33_32552070      3.536978e-05 0.9053994     0.0074692540\n",
       "153 A     AA_DRB1_13_32552130_H    3.536978e-05 0.9053994     0.0074692540\n",
       "226 A     AA_DRB1_.24_32557502_F   3.536978e-05 0.9053994     0.0074692540\n",
       "139 A     AA_DRB1_28_32552085_D    5.320857e-05 0.8305918     0.0059933145\n",
       "133 A     AA_DRB1_30_32552079_YHR  2.552359e-05 0.9217473     0.0043727920\n",
       "207 A     AA_DRB1_11_32552136_VPS  2.552359e-05 0.9217473     0.0043727920\n",
       "123 A     AA_DRB1_30_32552079_Y    5.057052e-05 0.8398704     0.0041957418\n",
       "428 C     AA_DRB1_11_32552136_VGD  1.977859e-06 0.7345073    -0.0027506820\n",
       "387 C     AA_DRB1_13_32552130_HR  -3.377795e-07 0.9545584    -0.0017823763\n",
       "255 C     AA_DRB1_104_32549587_S  -2.751814e-06 0.6463717    -0.0016369821\n",
       "257 C     AA_DRB1_98_32549605_K   -2.751814e-06 0.6463717    -0.0016369821\n",
       "254 C     AA_DRB1_104_32549587_A   2.751814e-06 0.6463717     0.0016369821\n",
       "256 C     AA_DRB1_98_32549605_E    2.751814e-06 0.6463717     0.0016369821\n",
       "431 C     AA_DRB1_11_32552136_VLG  2.101227e-06 0.7069516    -0.0005976247\n",
       "117 A     AA_DRB1_30_32552079_HR  -9.829844e-05 0.8372462    -0.0005060566\n",
       "    pvalue2     \n",
       "170 3.233439e-14\n",
       "102 1.339783e-13\n",
       "33  2.113490e-13\n",
       "37  2.113490e-13\n",
       "92  1.880358e-11\n",
       "210 2.237961e-11\n",
       "194 5.102212e-11\n",
       "159 5.102212e-11\n",
       "94  1.175961e-10\n",
       "190 1.175961e-10\n",
       "225 1.175961e-10\n",
       "224 1.175961e-10\n",
       "30  2.604674e-10\n",
       "206 2.604674e-10\n",
       "32  4.458506e-10\n",
       "166 9.710726e-10\n",
       "165 1.601497e-09\n",
       "188 5.571789e-09\n",
       "177 7.217836e-09\n",
       "204 2.869815e-08\n",
       "104 2.889955e-08\n",
       "15  3.441097e-08\n",
       "19  3.441097e-08\n",
       "169 3.441097e-08\n",
       "187 3.441097e-08\n",
       "16  3.441097e-08\n",
       "20  3.441097e-08\n",
       "1   6.193962e-08\n",
       "2   6.193962e-08\n",
       "96  9.289101e-08\n",
       "... ...         \n",
       "282 0.9112884   \n",
       "312 0.9115017   \n",
       "172 0.9189920   \n",
       "252 0.9259701   \n",
       "253 0.9259701   \n",
       "267 0.9299769   \n",
       "432 0.9299769   \n",
       "260 0.9299769   \n",
       "292 0.9315635   \n",
       "301 0.9332965   \n",
       "305 0.9332965   \n",
       "10  0.9354868   \n",
       "227 0.9354868   \n",
       "9   0.9354868   \n",
       "35  0.9354868   \n",
       "103 0.9354868   \n",
       "153 0.9354868   \n",
       "226 0.9354868   \n",
       "139 0.9380499   \n",
       "133 0.9567124   \n",
       "207 0.9567124   \n",
       "123 0.9568803   \n",
       "428 0.9674872   \n",
       "387 0.9792679   \n",
       "255 0.9811829   \n",
       "257 0.9811829   \n",
       "254 0.9811829   \n",
       "256 0.9811829   \n",
       "431 0.9926272   \n",
       "117 0.9972786   "
      ]
     },
     "metadata": {},
     "output_type": "display_data"
    }
   ],
   "source": [
    "res"
   ]
  },
  {
   "cell_type": "code",
   "execution_count": null,
   "metadata": {
    "vscode": {
     "languageId": "r"
    }
   },
   "outputs": [],
   "source": []
  },
  {
   "cell_type": "code",
   "execution_count": null,
   "metadata": {
    "vscode": {
     "languageId": "r"
    }
   },
   "outputs": [],
   "source": []
  },
  {
   "cell_type": "code",
   "execution_count": null,
   "metadata": {
    "vscode": {
     "languageId": "r"
    }
   },
   "outputs": [],
   "source": []
  },
  {
   "cell_type": "code",
   "execution_count": null,
   "metadata": {
    "vscode": {
     "languageId": "r"
    }
   },
   "outputs": [],
   "source": []
  },
  {
   "cell_type": "code",
   "execution_count": null,
   "metadata": {
    "vscode": {
     "languageId": "r"
    }
   },
   "outputs": [],
   "source": []
  },
  {
   "cell_type": "code",
   "execution_count": null,
   "metadata": {
    "vscode": {
     "languageId": "r"
    }
   },
   "outputs": [],
   "source": []
  },
  {
   "cell_type": "code",
   "execution_count": null,
   "metadata": {
    "vscode": {
     "languageId": "r"
    }
   },
   "outputs": [],
   "source": []
  },
  {
   "cell_type": "code",
   "execution_count": null,
   "metadata": {
    "vscode": {
     "languageId": "r"
    }
   },
   "outputs": [],
   "source": []
  },
  {
   "cell_type": "code",
   "execution_count": null,
   "metadata": {
    "vscode": {
     "languageId": "r"
    }
   },
   "outputs": [],
   "source": []
  },
  {
   "cell_type": "code",
   "execution_count": null,
   "metadata": {
    "vscode": {
     "languageId": "r"
    }
   },
   "outputs": [],
   "source": []
  },
  {
   "cell_type": "code",
   "execution_count": null,
   "metadata": {
    "vscode": {
     "languageId": "r"
    }
   },
   "outputs": [],
   "source": []
  },
  {
   "cell_type": "code",
   "execution_count": null,
   "metadata": {
    "vscode": {
     "languageId": "r"
    }
   },
   "outputs": [],
   "source": []
  },
  {
   "cell_type": "code",
   "execution_count": null,
   "metadata": {
    "vscode": {
     "languageId": "r"
    }
   },
   "outputs": [],
   "source": []
  },
  {
   "cell_type": "code",
   "execution_count": null,
   "metadata": {
    "vscode": {
     "languageId": "r"
    }
   },
   "outputs": [],
   "source": []
  },
  {
   "cell_type": "code",
   "execution_count": null,
   "metadata": {
    "vscode": {
     "languageId": "r"
    }
   },
   "outputs": [],
   "source": []
  },
  {
   "cell_type": "code",
   "execution_count": null,
   "metadata": {
    "vscode": {
     "languageId": "r"
    }
   },
   "outputs": [],
   "source": []
  },
  {
   "cell_type": "code",
   "execution_count": null,
   "metadata": {
    "vscode": {
     "languageId": "r"
    }
   },
   "outputs": [],
   "source": []
  },
  {
   "cell_type": "code",
   "execution_count": null,
   "metadata": {
    "vscode": {
     "languageId": "r"
    }
   },
   "outputs": [],
   "source": []
  },
  {
   "cell_type": "code",
   "execution_count": null,
   "metadata": {
    "vscode": {
     "languageId": "r"
    }
   },
   "outputs": [],
   "source": []
  },
  {
   "cell_type": "code",
   "execution_count": null,
   "metadata": {
    "vscode": {
     "languageId": "r"
    }
   },
   "outputs": [],
   "source": []
  },
  {
   "cell_type": "code",
   "execution_count": null,
   "metadata": {
    "vscode": {
     "languageId": "r"
    }
   },
   "outputs": [],
   "source": []
  },
  {
   "cell_type": "code",
   "execution_count": 285,
   "metadata": {
    "vscode": {
     "languageId": "r"
    }
   },
   "outputs": [],
   "source": [
    "# make a box plot and beeswarm plot y = observed_Shannon, x = cancergroup\n",
    "p_pbmc <- ggplot(\n",
    "  pbmc_noLFS,\n",
    "  aes(x = cycle, y = log10shann)\n",
    ") +\n",
    "  geom_boxplot() + #  \n",
    "  geom_beeswarm(aes(color = cancergroup), cex = 2) +\n",
    "  scale_color_manual(values= group_col[c(\"Leukemia\", \"Lymphoma\", \"Solid\")]) +\n",
    "  myplot +\n",
    "  myaxis +\n",
    "  theme(\n",
    "    axis.text.x = element_text(angle = 45, hjust = 1),\n",
    "    axis.title.x = element_blank()\n",
    "  ) +\n",
    "  annotation_logticks(sides = \"l\") +\n",
    "  scale_y_continuous(breaks = log10(c(1,10,100,500,1000, 1500) ) , labels = c(1,10,100,500,1000, 1500)) +\n",
    "  geom_pwc(\n",
    "    mapping = aes(x = cycle, y = log10shann), data = pbmc_noLFS,\n",
    "    p.adjust.method = \"BH\", label = \"{p.adj}\",\n",
    "    p.adjust.by = \"group\", method = \"t_test\", step.increase = 0.1) + # does not allow multiple testing, shows pool.sd = F\n",
    "  labs(title = \"Observed Shannon Diversity by Cycle - PBMC (n = 234)\\nBH corrected p\", y = \"Observed Shannon Diversity\")"
   ]
  },
  {
   "cell_type": "code",
   "execution_count": 286,
   "metadata": {
    "vscode": {
     "languageId": "r"
    }
   },
   "outputs": [
    {
     "data": {
      "image/png": "[encoded data removed]",
      "text/plain": [
       "plot without title"
      ]
     },
     "metadata": {
      "image/png": {
       "height": 420,
       "width": 420
      }
     },
     "output_type": "display_data"
    }
   ],
   "source": [
    "p_pbmc"
   ]
  },
  {
   "cell_type": "code",
   "execution_count": 415,
   "metadata": {
    "vscode": {
     "languageId": "r"
    }
   },
   "outputs": [
    {
     "data": {
      "text/plain": [
       "             Df Sum Sq Mean Sq F value Pr(>F)  \n",
       "cycle         4   4.10  1.0249   3.181 0.0144 *\n",
       "Residuals   229  73.78  0.3222                 \n",
       "---\n",
       "Signif. codes:  0 ‘***’ 0.001 ‘**’ 0.01 ‘*’ 0.05 ‘.’ 0.1 ‘ ’ 1"
      ]
     },
     "metadata": {},
     "output_type": "display_data"
    }
   ],
   "source": [
    "summary(aov(log10shann ~ cycle, pbmc_noLFS))"
   ]
  },
  {
   "cell_type": "code",
   "execution_count": 420,
   "metadata": {
    "vscode": {
     "languageId": "r"
    }
   },
   "outputs": [
    {
     "data": {
      "text/html": [
       "<style>\n",
       ".list-inline {list-style: none; margin:0; padding: 0}\n",
       ".list-inline>li {display: inline-block}\n",
       ".list-inline>li:not(:last-child)::after {content: \"\\00b7\"; padding: 0 .5ex}\n",
       "</style>\n",
       "<ol class=list-inline><li>'sample_id'</li><li>'Patient'</li><li>'cycle'</li><li>'FOLD'</li><li>'ATC'</li><li>'Age'</li><li>'Disease_type'</li><li>'TE_fold'</li><li>'Pass'</li><li>'CD3'</li><li>'EM'</li><li>'CM'</li><li>'Naïve'</li><li>'SCM'</li><li>'TE'</li><li>'EM.'</li><li>'CM.'</li><li>'Naïve.'</li><li>'SCM.'</li><li>'TE.'</li><li>'Naïve.TE'</li><li>'N.CM.SCM.TE.EM'</li><li>'PD.1'</li><li>'PDL1'</li><li>'LAG3'</li><li>'TIM3'</li><li>'CTLA4'</li><li>'PD1.'</li><li>'PDL1.'</li><li>'LAG3.'</li><li>'TIM3.'</li><li>'CTLA4.'</li><li>'Any.NCR'</li><li>'PD1...LAG3...TIM3'</li><li>'cancergroup'</li><li>'TRB'</li><li>'Reads'</li><li>'CPKR'</li><li>'Average_reads'</li><li>'VMR'</li><li>'Max_reads'</li><li>'Singletons'</li><li>'Doubletons'</li><li>'qD'</li><li>'Sample_Coverage'</li><li>'observed_Richness'</li><li>'estimated_Richness'</li><li>'SE_Richeness'</li><li>'observed_Shannon'</li><li>'estimated_Shannon'</li><li>'SE_Shannon'</li><li>'observed_Simpson'</li><li>'estimated_Simpson'</li><li>'SE_Simpson'</li><li>'file'</li><li>'basename'</li><li>'Group'</li><li>'sampletype'</li><li>'log10shann'</li></ol>\n"
      ],
      "text/latex": [
       "\\begin{enumerate*}\n",
       "\\item 'sample\\_id'\n",
       "\\item 'Patient'\n",
       "\\item 'cycle'\n",
       "\\item 'FOLD'\n",
       "\\item 'ATC'\n",
       "\\item 'Age'\n",
       "\\item 'Disease\\_type'\n",
       "\\item 'TE\\_fold'\n",
       "\\item 'Pass'\n",
       "\\item 'CD3'\n",
       "\\item 'EM'\n",
       "\\item 'CM'\n",
       "\\item 'Naïve'\n",
       "\\item 'SCM'\n",
       "\\item 'TE'\n",
       "\\item 'EM.'\n",
       "\\item 'CM.'\n",
       "\\item 'Naïve.'\n",
       "\\item 'SCM.'\n",
       "\\item 'TE.'\n",
       "\\item 'Naïve.TE'\n",
       "\\item 'N.CM.SCM.TE.EM'\n",
       "\\item 'PD.1'\n",
       "\\item 'PDL1'\n",
       "\\item 'LAG3'\n",
       "\\item 'TIM3'\n",
       "\\item 'CTLA4'\n",
       "\\item 'PD1.'\n",
       "\\item 'PDL1.'\n",
       "\\item 'LAG3.'\n",
       "\\item 'TIM3.'\n",
       "\\item 'CTLA4.'\n",
       "\\item 'Any.NCR'\n",
       "\\item 'PD1...LAG3...TIM3'\n",
       "\\item 'cancergroup'\n",
       "\\item 'TRB'\n",
       "\\item 'Reads'\n",
       "\\item 'CPKR'\n",
       "\\item 'Average\\_reads'\n",
       "\\item 'VMR'\n",
       "\\item 'Max\\_reads'\n",
       "\\item 'Singletons'\n",
       "\\item 'Doubletons'\n",
       "\\item 'qD'\n",
       "\\item 'Sample\\_Coverage'\n",
       "\\item 'observed\\_Richness'\n",
       "\\item 'estimated\\_Richness'\n",
       "\\item 'SE\\_Richeness'\n",
       "\\item 'observed\\_Shannon'\n",
       "\\item 'estimated\\_Shannon'\n",
       "\\item 'SE\\_Shannon'\n",
       "\\item 'observed\\_Simpson'\n",
       "\\item 'estimated\\_Simpson'\n",
       "\\item 'SE\\_Simpson'\n",
       "\\item 'file'\n",
       "\\item 'basename'\n",
       "\\item 'Group'\n",
       "\\item 'sampletype'\n",
       "\\item 'log10shann'\n",
       "\\end{enumerate*}\n"
      ],
      "text/markdown": [
       "1. 'sample_id'\n",
       "2. 'Patient'\n",
       "3. 'cycle'\n",
       "4. 'FOLD'\n",
       "5. 'ATC'\n",
       "6. 'Age'\n",
       "7. 'Disease_type'\n",
       "8. 'TE_fold'\n",
       "9. 'Pass'\n",
       "10. 'CD3'\n",
       "11. 'EM'\n",
       "12. 'CM'\n",
       "13. 'Naïve'\n",
       "14. 'SCM'\n",
       "15. 'TE'\n",
       "16. 'EM.'\n",
       "17. 'CM.'\n",
       "18. 'Naïve.'\n",
       "19. 'SCM.'\n",
       "20. 'TE.'\n",
       "21. 'Naïve.TE'\n",
       "22. 'N.CM.SCM.TE.EM'\n",
       "23. 'PD.1'\n",
       "24. 'PDL1'\n",
       "25. 'LAG3'\n",
       "26. 'TIM3'\n",
       "27. 'CTLA4'\n",
       "28. 'PD1.'\n",
       "29. 'PDL1.'\n",
       "30. 'LAG3.'\n",
       "31. 'TIM3.'\n",
       "32. 'CTLA4.'\n",
       "33. 'Any.NCR'\n",
       "34. 'PD1...LAG3...TIM3'\n",
       "35. 'cancergroup'\n",
       "36. 'TRB'\n",
       "37. 'Reads'\n",
       "38. 'CPKR'\n",
       "39. 'Average_reads'\n",
       "40. 'VMR'\n",
       "41. 'Max_reads'\n",
       "42. 'Singletons'\n",
       "43. 'Doubletons'\n",
       "44. 'qD'\n",
       "45. 'Sample_Coverage'\n",
       "46. 'observed_Richness'\n",
       "47. 'estimated_Richness'\n",
       "48. 'SE_Richeness'\n",
       "49. 'observed_Shannon'\n",
       "50. 'estimated_Shannon'\n",
       "51. 'SE_Shannon'\n",
       "52. 'observed_Simpson'\n",
       "53. 'estimated_Simpson'\n",
       "54. 'SE_Simpson'\n",
       "55. 'file'\n",
       "56. 'basename'\n",
       "57. 'Group'\n",
       "58. 'sampletype'\n",
       "59. 'log10shann'\n",
       "\n",
       "\n"
      ],
      "text/plain": [
       " [1] \"sample_id\"          \"Patient\"            \"cycle\"             \n",
       " [4] \"FOLD\"               \"ATC\"                \"Age\"               \n",
       " [7] \"Disease_type\"       \"TE_fold\"            \"Pass\"              \n",
       "[10] \"CD3\"                \"EM\"                 \"CM\"                \n",
       "[13] \"Naïve\"              \"SCM\"                \"TE\"                \n",
       "[16] \"EM.\"                \"CM.\"                \"Naïve.\"            \n",
       "[19] \"SCM.\"               \"TE.\"                \"Naïve.TE\"          \n",
       "[22] \"N.CM.SCM.TE.EM\"     \"PD.1\"               \"PDL1\"              \n",
       "[25] \"LAG3\"               \"TIM3\"               \"CTLA4\"             \n",
       "[28] \"PD1.\"               \"PDL1.\"              \"LAG3.\"             \n",
       "[31] \"TIM3.\"              \"CTLA4.\"             \"Any.NCR\"           \n",
       "[34] \"PD1...LAG3...TIM3\"  \"cancergroup\"        \"TRB\"               \n",
       "[37] \"Reads\"              \"CPKR\"               \"Average_reads\"     \n",
       "[40] \"VMR\"                \"Max_reads\"          \"Singletons\"        \n",
       "[43] \"Doubletons\"         \"qD\"                 \"Sample_Coverage\"   \n",
       "[46] \"observed_Richness\"  \"estimated_Richness\" \"SE_Richeness\"      \n",
       "[49] \"observed_Shannon\"   \"estimated_Shannon\"  \"SE_Shannon\"        \n",
       "[52] \"observed_Simpson\"   \"estimated_Simpson\"  \"SE_Simpson\"        \n",
       "[55] \"file\"               \"basename\"           \"Group\"             \n",
       "[58] \"sampletype\"         \"log10shann\"        "
      ]
     },
     "metadata": {},
     "output_type": "display_data"
    }
   ],
   "source": [
    "colnames(pbmc_noLFS)"
   ]
  },
  {
   "cell_type": "code",
   "execution_count": 419,
   "metadata": {
    "vscode": {
     "languageId": "r"
    }
   },
   "outputs": [
    {
     "data": {
      "text/plain": [
       "\n",
       "Call:\n",
       "lm(formula = log10shann ~ cycle + Disease_type, data = pbmc_noLFS)\n",
       "\n",
       "Residuals:\n",
       "     Min       1Q   Median       3Q      Max \n",
       "-1.66559 -0.29446  0.06539  0.35112  1.31509 \n",
       "\n",
       "Coefficients:\n",
       "                    Estimate Std. Error t value Pr(>|t|)    \n",
       "(Intercept)         1.875094   0.286304   6.549 4.33e-10 ***\n",
       "cycleX02            0.379076   0.112446   3.371  0.00089 ***\n",
       "cycleX03            0.109340   0.113612   0.962  0.33695    \n",
       "cycleX04            0.253900   0.120587   2.106  0.03643 *  \n",
       "cycleX05            0.301428   0.122498   2.461  0.01467 *  \n",
       "Disease_typeALL    -0.061404   0.289128  -0.212  0.83202    \n",
       "Disease_typeAML     0.138965   0.299389   0.464  0.64301    \n",
       "Disease_typeARMS    0.323764   0.482168   0.671  0.50265    \n",
       "Disease_typeBL     -0.148576   0.329512  -0.451  0.65253    \n",
       "Disease_typeBLL    -0.149342   0.393387  -0.380  0.70460    \n",
       "Disease_typeCML    -0.145182   0.348155  -0.417  0.67710    \n",
       "Disease_typeDLBCL  -0.337612   0.374123  -0.902  0.36787    \n",
       "Disease_typeERMS   -0.251073   0.325100  -0.772  0.44080    \n",
       "Disease_typeEWS    -0.446506   0.303252  -1.472  0.14240    \n",
       "Disease_typeHB     -0.011954   0.333786  -0.036  0.97147    \n",
       "Disease_typeHD     -0.248735   0.310838  -0.800  0.42449    \n",
       "Disease_typeHR ALL -0.005701   0.296692  -0.019  0.98469    \n",
       "Disease_typeNB     -0.517856   0.373213  -1.388  0.16673    \n",
       "Disease_typeOS     -0.154213   0.301952  -0.511  0.61008    \n",
       "Disease_typePMBCL  -0.733571   0.425769  -1.723  0.08637 .  \n",
       "Disease_typeSR ALL -0.219814   0.396976  -0.554  0.58035    \n",
       "Disease_typeT-ALL  -0.166004   0.358320  -0.463  0.64364    \n",
       "Disease_typeWILMS   0.644597   0.482156   1.337  0.18269    \n",
       "---\n",
       "Signif. codes:  0 ‘***’ 0.001 ‘**’ 0.01 ‘*’ 0.05 ‘.’ 0.1 ‘ ’ 1\n",
       "\n",
       "Residual standard error: 0.5547 on 211 degrees of freedom\n",
       "Multiple R-squared:  0.1664,\tAdjusted R-squared:  0.07948 \n",
       "F-statistic: 1.914 on 22 and 211 DF,  p-value: 0.01031\n"
      ]
     },
     "metadata": {},
     "output_type": "display_data"
    }
   ],
   "source": [
    "myfit <- lm(log10shann ~ cycle + Disease_type + Age, pbmc_noLFS)\n",
    "summary(myfit)"
   ]
  },
  {
   "cell_type": "code",
   "execution_count": 418,
   "metadata": {
    "vscode": {
     "languageId": "r"
    }
   },
   "outputs": [
    {
     "data": {
      "text/plain": [
       "\n",
       "Call:\n",
       "aov(formula = log10shann ~ cycle + Disease_type, data = pbmc_noLFS)\n",
       "\n",
       "Residuals:\n",
       "     Min       1Q   Median       3Q      Max \n",
       "-1.66559 -0.29446  0.06539  0.35112  1.31509 \n",
       "\n",
       "Coefficients:\n",
       "                    Estimate Std. Error t value Pr(>|t|)    \n",
       "(Intercept)         1.875094   0.286304   6.549 4.33e-10 ***\n",
       "cycleX02            0.379076   0.112446   3.371  0.00089 ***\n",
       "cycleX03            0.109340   0.113612   0.962  0.33695    \n",
       "cycleX04            0.253900   0.120587   2.106  0.03643 *  \n",
       "cycleX05            0.301428   0.122498   2.461  0.01467 *  \n",
       "Disease_typeALL    -0.061404   0.289128  -0.212  0.83202    \n",
       "Disease_typeAML     0.138965   0.299389   0.464  0.64301    \n",
       "Disease_typeARMS    0.323764   0.482168   0.671  0.50265    \n",
       "Disease_typeBL     -0.148576   0.329512  -0.451  0.65253    \n",
       "Disease_typeBLL    -0.149342   0.393387  -0.380  0.70460    \n",
       "Disease_typeCML    -0.145182   0.348155  -0.417  0.67710    \n",
       "Disease_typeDLBCL  -0.337612   0.374123  -0.902  0.36787    \n",
       "Disease_typeERMS   -0.251073   0.325100  -0.772  0.44080    \n",
       "Disease_typeEWS    -0.446506   0.303252  -1.472  0.14240    \n",
       "Disease_typeHB     -0.011954   0.333786  -0.036  0.97147    \n",
       "Disease_typeHD     -0.248735   0.310838  -0.800  0.42449    \n",
       "Disease_typeHR ALL -0.005701   0.296692  -0.019  0.98469    \n",
       "Disease_typeNB     -0.517856   0.373213  -1.388  0.16673    \n",
       "Disease_typeOS     -0.154213   0.301952  -0.511  0.61008    \n",
       "Disease_typePMBCL  -0.733571   0.425769  -1.723  0.08637 .  \n",
       "Disease_typeSR ALL -0.219814   0.396976  -0.554  0.58035    \n",
       "Disease_typeT-ALL  -0.166004   0.358320  -0.463  0.64364    \n",
       "Disease_typeWILMS   0.644597   0.482156   1.337  0.18269    \n",
       "---\n",
       "Signif. codes:  0 ‘***’ 0.001 ‘**’ 0.01 ‘*’ 0.05 ‘.’ 0.1 ‘ ’ 1\n",
       "\n",
       "Residual standard error: 0.5547 on 211 degrees of freedom\n",
       "Multiple R-squared:  0.1664,\tAdjusted R-squared:  0.07948 \n",
       "F-statistic: 1.914 on 22 and 211 DF,  p-value: 0.01031\n"
      ]
     },
     "metadata": {},
     "output_type": "display_data"
    }
   ],
   "source": [
    "myfit <- aov(log10shann ~ cycle + Disease_type , pbmc_noLFS)\n",
    "\n",
    "summary.lm(myfit)"
   ]
  },
  {
   "cell_type": "code",
   "execution_count": 273,
   "metadata": {
    "vscode": {
     "languageId": "r"
    }
   },
   "outputs": [
    {
     "data": {
      "text/html": [
       "<style>\n",
       ".list-inline {list-style: none; margin:0; padding: 0}\n",
       ".list-inline>li {display: inline-block}\n",
       ".list-inline>li:not(:last-child)::after {content: \"\\00b7\"; padding: 0 .5ex}\n",
       "</style>\n",
       "<ol class=list-inline><li>270</li><li>59</li></ol>\n"
      ],
      "text/latex": [
       "\\begin{enumerate*}\n",
       "\\item 270\n",
       "\\item 59\n",
       "\\end{enumerate*}\n"
      ],
      "text/markdown": [
       "1. 270\n",
       "2. 59\n",
       "\n",
       "\n"
      ],
      "text/plain": [
       "[1] 270  59"
      ]
     },
     "metadata": {},
     "output_type": "display_data"
    }
   ],
   "source": [
    "dim(cfdna)"
   ]
  },
  {
   "cell_type": "code",
   "execution_count": 332,
   "metadata": {
    "vscode": {
     "languageId": "r"
    }
   },
   "outputs": [],
   "source": [
    "# make a box plot and beeswarm plot y = observed_Shannon, x = cancergroup\n",
    "p_cfnda <- ggplot(\n",
    "  cfdna,\n",
    "  aes(x = cycle, y = log10shann)\n",
    ") +\n",
    "  geom_boxplot() + #  \n",
    "  geom_beeswarm(aes(color = cancergroup), cex = 1) +\n",
    "  scale_color_manual(values= group_col[c(\"Leukemia\", \"Lymphoma\", \"Solid\")]) +\n",
    "  myplot +\n",
    "  myaxis +\n",
    "  theme(\n",
    "    axis.text.x = element_text(angle = 45, hjust = 1),\n",
    "    axis.title.x = element_blank()\n",
    "  ) +\n",
    "  annotation_logticks(sides = \"l\") +\n",
    "  #scale_y_continuous(breaks = log10(c(1,10,100,500,1000, 1500) ) , labels = c(1,10,100,500,1000, 1500)) +\n",
    "  geom_pwc(\n",
    "    mapping = aes(x = cycle, y = log10shann), data = cfdna,\n",
    "    p.adjust.method = \"BH\", label = \"{p.adj}\",\n",
    "    p.adjust.by = \"group\", method = \"t_test\", step.increase = 0.1\n",
    "  ) + # does not allow multiple testing, shows pool.sd = F\n",
    "  labs(title = \"Observed Shannon Diversity by Cycle - cfDNA (n = 270)\\nBH corrected p\", y = \"Observed Shannon Diversity\")"
   ]
  },
  {
   "cell_type": "code",
   "execution_count": 333,
   "metadata": {
    "vscode": {
     "languageId": "r"
    }
   },
   "outputs": [
    {
     "data": {
      "image/png": "[encoded data removed]",
      "text/plain": [
       "plot without title"
      ]
     },
     "metadata": {
      "image/png": {
       "height": 420,
       "width": 420
      }
     },
     "output_type": "display_data"
    }
   ],
   "source": [
    "p_cfnda"
   ]
  },
  {
   "cell_type": "code",
   "execution_count": 402,
   "metadata": {
    "vscode": {
     "languageId": "r"
    }
   },
   "outputs": [],
   "source": [
    "mytab <- table(pbmc_noLFS$Patient, pbmc_noLFS$cycle) "
   ]
  },
  {
   "cell_type": "code",
   "execution_count": 403,
   "metadata": {
    "vscode": {
     "languageId": "r"
    }
   },
   "outputs": [],
   "source": [
    "#select Patient with cycle 1 and 2\n",
    "mytab <- mytab[mytab[,1] > 0 & mytab[,2] > 0,]"
   ]
  },
  {
   "cell_type": "code",
   "execution_count": 404,
   "metadata": {
    "vscode": {
     "languageId": "r"
    }
   },
   "outputs": [],
   "source": [
    "tmp <- pbmc_noLFS[which(pbmc_noLFS$Patient %in% rownames(mytab)),]\n",
    "paired_pbmc <- tmp[ tmp$cycle %in% c(\"X01\", \"X02\"),]"
   ]
  },
  {
   "cell_type": "code",
   "execution_count": 405,
   "metadata": {
    "vscode": {
     "languageId": "r"
    }
   },
   "outputs": [
    {
     "data": {
      "text/html": [
       "<style>\n",
       ".list-inline {list-style: none; margin:0; padding: 0}\n",
       ".list-inline>li {display: inline-block}\n",
       ".list-inline>li:not(:last-child)::after {content: \"\\00b7\"; padding: 0 .5ex}\n",
       "</style>\n",
       "<ol class=list-inline><li>64</li><li>59</li></ol>\n"
      ],
      "text/latex": [
       "\\begin{enumerate*}\n",
       "\\item 64\n",
       "\\item 59\n",
       "\\end{enumerate*}\n"
      ],
      "text/markdown": [
       "1. 64\n",
       "2. 59\n",
       "\n",
       "\n"
      ],
      "text/plain": [
       "[1] 64 59"
      ]
     },
     "metadata": {},
     "output_type": "display_data"
    }
   ],
   "source": [
    "dim(paired_pbmc)"
   ]
  },
  {
   "cell_type": "code",
   "execution_count": 406,
   "metadata": {
    "vscode": {
     "languageId": "r"
    }
   },
   "outputs": [
    {
     "data": {
      "text/plain": [
       "\n",
       "\tPairwise comparisons using paired t tests \n",
       "\n",
       "data:  paired_pbmc$log10shann and paired_pbmc$cycle \n",
       "\n",
       "    X01  \n",
       "X02 0.036\n",
       "\n",
       "P value adjustment method: none "
      ]
     },
     "metadata": {},
     "output_type": "display_data"
    }
   ],
   "source": [
    "pairwise.t.test(paired_pbmc$log10shann, paired_pbmc$cycle, p.adjust.method = \"none\", pool.sd = F, paired = T)"
   ]
  },
  {
   "cell_type": "code",
   "execution_count": 407,
   "metadata": {
    "vscode": {
     "languageId": "r"
    }
   },
   "outputs": [
    {
     "data": {
      "text/plain": [
       "\n",
       "  ALCL    ALL    AML    BLL    CML   ERMS    EWS     HB     HD HR ALL     NB \n",
       "     2     12      6      2      4      2      6      4      4     10      2 \n",
       "    OS  T-ALL \n",
       "     8      2 "
      ]
     },
     "metadata": {},
     "output_type": "display_data"
    }
   ],
   "source": [
    "table(paired_pbmc$Disease_type)"
   ]
  },
  {
   "cell_type": "code",
   "execution_count": 408,
   "metadata": {
    "vscode": {
     "languageId": "r"
    }
   },
   "outputs": [],
   "source": [
    "# make a box plot and beeswarm plot y = observed_Shannon, x = cancergroup\n",
    "p_pbmc_paired <- ggplot(\n",
    "  paired_pbmc,\n",
    "  aes(x = cycle, y = log10shann)\n",
    ") +\n",
    "  geom_boxplot() + #  \n",
    "  geom_point(aes(color = cancergroup), cex = 2) +\n",
    "  geom_line(aes(group = Patient, color = cancergroup)) + \n",
    "  scale_color_manual(values= group_col[c(\"Leukemia\", \"Lymphoma\", \"Solid\")]) +\n",
    "  myplot +\n",
    "  myaxis +\n",
    "  theme(\n",
    "    axis.text.x = element_text(angle = 45, hjust = 1),\n",
    "    axis.title.x = element_blank()\n",
    "  ) +\n",
    "  annotation_logticks(sides = \"l\") +\n",
    "  scale_y_continuous(breaks = log10(c(1,10,100,500,1000, 1500) ) , labels = c(1,10,100,500,1000, 1500)) +\n",
    "  geom_pwc(\n",
    "    mapping = aes(x = cycle, y = log10shann), data = paired_pbmc,\n",
    "    p.adjust.method = \"none\", label = \"{p.adj}\",\n",
    "    p.adjust.by = \"group\", method = \"t_test\", step.increase = 0.1) + # shows pool.sd = F\n",
    "  labs(title = \"Observed Shannon Diversity by Cycle - PBMC (n = 234)\\nBH corrected p\", y = \"Observed Shannon Diversity\") +\n",
    "  # make facet\n",
    "    facet_wrap(~cancergroup, nrow = 1)"
   ]
  },
  {
   "cell_type": "code",
   "execution_count": 409,
   "metadata": {
    "vscode": {
     "languageId": "r"
    }
   },
   "outputs": [
    {
     "data": {
      "image/png": "[encoded data removed]",
      "text/plain": [
       "plot without title"
      ]
     },
     "metadata": {
      "image/png": {
       "height": 420,
       "width": 420
      }
     },
     "output_type": "display_data"
    }
   ],
   "source": [
    "p_pbmc_paired"
   ]
  },
  {
   "cell_type": "code",
   "execution_count": null,
   "metadata": {
    "vscode": {
     "languageId": "r"
    }
   },
   "outputs": [],
   "source": []
  }
 ],
 "metadata": {
  "kernelspec": {
   "display_name": "R 4.0",
   "language": "R",
   "name": "ir40"
  },
  "language_info": {
   "codemirror_mode": "r",
   "file_extension": ".r",
   "mimetype": "text/x-r-source",
   "name": "R",
   "pygments_lexer": "r",
   "version": "4.2.2"
  },
  "toc": {
   "base_numbering": 1,
   "nav_menu": {},
   "number_sections": false,
   "sideBar": true,
   "skip_h1_title": false,
   "title_cell": "Table of Contents",
   "title_sidebar": "Contents",
   "toc_cell": true,
   "toc_position": {
    "height": "calc(100% - 180px)",
    "left": "10px",
    "top": "150px",
    "width": "186.15px"
   },
   "toc_section_display": true,
   "toc_window_display": true
  }
 },
 "nbformat": 4,
 "nbformat_minor": 2
}

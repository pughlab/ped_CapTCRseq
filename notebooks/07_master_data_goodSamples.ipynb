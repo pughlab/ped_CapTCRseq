{
 "cells": [
  {
   "cell_type": "code",
   "execution_count": 2,
   "metadata": {
    "vscode": {
     "languageId": "r"
    }
   },
   "outputs": [
    {
     "data": {
      "text/html": [
       "'en_US.UTF-8/en_US.UTF-8/en_US.UTF-8/C/en_US.UTF-8/C'"
      ],
      "text/latex": [
       "'en\\_US.UTF-8/en\\_US.UTF-8/en\\_US.UTF-8/C/en\\_US.UTF-8/C'"
      ],
      "text/markdown": [
       "'en_US.UTF-8/en_US.UTF-8/en_US.UTF-8/C/en_US.UTF-8/C'"
      ],
      "text/plain": [
       "[1] \"en_US.UTF-8/en_US.UTF-8/en_US.UTF-8/C/en_US.UTF-8/C\""
      ]
     },
     "metadata": {},
     "output_type": "display_data"
    }
   ],
   "source": [
    "Sys.setlocale(category = \"LC_ALL\", locale = \"en_US.UTF-8\")"
   ]
  },
  {
   "attachments": {},
   "cell_type": "markdown",
   "metadata": {},
   "source": [
    "# Dependencies"
   ]
  },
  {
   "attachments": {},
   "cell_type": "markdown",
   "metadata": {},
   "source": [
    "# Functions"
   ]
  },
  {
   "attachments": {},
   "cell_type": "markdown",
   "metadata": {},
   "source": [
    "# Paths"
   ]
  },
  {
   "cell_type": "code",
   "execution_count": 3,
   "metadata": {
    "vscode": {
     "languageId": "r"
    }
   },
   "outputs": [],
   "source": [
    "datapath <- \"/Users/anabbi/OneDrive - UHN/Documents/INTERCEPT/Data/\"\n",
    "plotpath <- \"/Users/anabbi/OneDrive - UHN/Documents/INTERCEPT/Plots/\"\n",
    "manifestpath <- \"/Users/anabbi/OneDrive - UHN/Documents/INTERCEPT/Manifests/\"\n",
    "\n",
    "gitpath <- \"/Users/anabbi/git/ped_CapTCRseq/\""
   ]
  },
  {
   "attachments": {},
   "cell_type": "markdown",
   "metadata": {},
   "source": [
    "# Main"
   ]
  },
  {
   "attachments": {},
   "cell_type": "markdown",
   "metadata": {},
   "source": [
    "# PBMC"
   ]
  },
  {
   "cell_type": "code",
   "execution_count": 4,
   "metadata": {
    "vscode": {
     "languageId": "r"
    }
   },
   "outputs": [],
   "source": [
    "load(file = paste0(datapath, \"capTCRseq/PBMC_GoodSamples.RData\"))"
   ]
  },
  {
   "cell_type": "code",
   "execution_count": 5,
   "metadata": {
    "vscode": {
     "languageId": "r"
    }
   },
   "outputs": [
    {
     "data": {
      "text/html": [
       "<table class=\"dataframe\">\n",
       "<caption>A data.frame: 6 x 102</caption>\n",
       "<thead>\n",
       "\t<tr><th></th><th scope=col>basename</th><th scope=col>mysample_id</th><th scope=col>Shipped</th><th scope=col>DNAextracted</th><th scope=col>DNAused</th><th scope=col>libbatch</th><th scope=col>librarypassed</th><th scope=col>Library preparation</th><th scope=col>libraryyield</th><th scope=col>captureyield</th><th scope=col>...</th><th scope=col>TRA.chains</th><th scope=col>TRB.chains</th><th scope=col>TRD.chains</th><th scope=col>TRG.chains</th><th scope=col>TRA.TRD.chains</th><th scope=col>IGH.chains</th><th scope=col>IGK.chains</th><th scope=col>IGL.chains</th><th scope=col>chains</th><th scope=col>percaligned</th></tr>\n",
       "\t<tr><th></th><th scope=col>&lt;chr&gt;</th><th scope=col>&lt;chr&gt;</th><th scope=col>&lt;chr&gt;</th><th scope=col>&lt;dbl&gt;</th><th scope=col>&lt;dbl&gt;</th><th scope=col>&lt;chr&gt;</th><th scope=col>&lt;chr&gt;</th><th scope=col>&lt;chr&gt;</th><th scope=col>&lt;dbl&gt;</th><th scope=col>&lt;dbl&gt;</th><th scope=col>...</th><th scope=col>&lt;int&gt;</th><th scope=col>&lt;int&gt;</th><th scope=col>&lt;int&gt;</th><th scope=col>&lt;int&gt;</th><th scope=col>&lt;int&gt;</th><th scope=col>&lt;int&gt;</th><th scope=col>&lt;int&gt;</th><th scope=col>&lt;int&gt;</th><th scope=col>&lt;int&gt;</th><th scope=col>&lt;dbl&gt;</th></tr>\n",
       "</thead>\n",
       "<tbody>\n",
       "\t<tr><th scope=row>1</th><td>CHP_10YO-M_PBMC_DNA  </td><td>CHP_10YO_M_00  </td><td>n = 321</td><td> 4120</td><td>600</td><td>191220_M04827_0327_000000000-D7W4D</td><td>Passed</td><td>n = 282</td><td>1449.6</td><td>13.338</td><td>...</td><td>2500371</td><td>369721</td><td> 74186</td><td>428666</td><td>1713555</td><td>   0</td><td> 563</td><td>0</td><td>0</td><td>0.7415962</td></tr>\n",
       "\t<tr><th scope=row>2</th><td>CHP_11YO-M_PBMC_DNA  </td><td>CHP_11YO_M_00  </td><td>n = 321</td><td> 4880</td><td>600</td><td>191220_M04827_0327_000000000-D7W4D</td><td>Passed</td><td>n = 282</td><td>1948.8</td><td> 6.232</td><td>...</td><td>3481524</td><td>550846</td><td>116455</td><td>489440</td><td>2318341</td><td>   0</td><td>   0</td><td>0</td><td>0</td><td>0.7540386</td></tr>\n",
       "\t<tr><th scope=row>3</th><td>CHP_15YO-F-A_PBMC_DNA</td><td>CHP_15YO_F_A_00</td><td>n = 321</td><td>18200</td><td>600</td><td>191220_M04827_0327_000000000-D7W4D</td><td>Passed</td><td>n = 282</td><td>1545.6</td><td> 7.942</td><td>...</td><td>3488717</td><td>549330</td><td>157638</td><td>486162</td><td>1686316</td><td>1052</td><td>   0</td><td>0</td><td>0</td><td>0.7519197</td></tr>\n",
       "\t<tr><th scope=row>4</th><td>CHP_15YO-F-B_PBMC_DNA</td><td>CHP_15YO_F_B_00</td><td>n = 321</td><td>35400</td><td>600</td><td>191220_M04827_0327_000000000-D7W4D</td><td>Passed</td><td>n = 282</td><td>1171.2</td><td> 7.942</td><td>...</td><td>5292852</td><td>875254</td><td>241875</td><td>663487</td><td>2991528</td><td> 793</td><td> 309</td><td>0</td><td>0</td><td>0.7668919</td></tr>\n",
       "\t<tr><th scope=row>5</th><td>CHP_15YO-M_PBMC_DNA  </td><td>CHP_15YO_M_00  </td><td>n = 321</td><td> 7920</td><td>600</td><td>191220_M04827_0327_000000000-D7W4D</td><td>Passed</td><td>n = 282</td><td>1843.2</td><td> 6.232</td><td>...</td><td>4275428</td><td>660748</td><td>130568</td><td>632122</td><td>2711248</td><td>   0</td><td>1072</td><td>0</td><td>0</td><td>0.7560349</td></tr>\n",
       "\t<tr><th scope=row>6</th><td>CHP_16YO-M_PBMC_DNA  </td><td>CHP_16YO_M_00  </td><td>n = 321</td><td> 3460</td><td>600</td><td>191220_M04827_0327_000000000-D7W4D</td><td>Passed</td><td>n = 282</td><td>2227.2</td><td> 4.294</td><td>...</td><td>3382456</td><td>472114</td><td>117300</td><td>452204</td><td>2111692</td><td>   0</td><td>   0</td><td>0</td><td>0</td><td>0.7574009</td></tr>\n",
       "</tbody>\n",
       "</table>\n"
      ],
      "text/latex": [
       "A data.frame: 6 x 102\n",
       "\\begin{tabular}{r|lllllllllllllllllllll}\n",
       "  & basename & mysample\\_id & Shipped & DNAextracted & DNAused & libbatch & librarypassed & Library preparation & libraryyield & captureyield & ... & TRA.chains & TRB.chains & TRD.chains & TRG.chains & TRA.TRD.chains & IGH.chains & IGK.chains & IGL.chains & chains & percaligned\\\\\n",
       "  & <chr> & <chr> & <chr> & <dbl> & <dbl> & <chr> & <chr> & <chr> & <dbl> & <dbl> & ... & <int> & <int> & <int> & <int> & <int> & <int> & <int> & <int> & <int> & <dbl>\\\\\n",
       "\\hline\n",
       "\t1 & CHP\\_10YO-M\\_PBMC\\_DNA   & CHP\\_10YO\\_M\\_00   & n = 321 &  4120 & 600 & 191220\\_M04827\\_0327\\_000000000-D7W4D & Passed & n = 282 & 1449.6 & 13.338 & ... & 2500371 & 369721 &  74186 & 428666 & 1713555 &    0 &  563 & 0 & 0 & 0.7415962\\\\\n",
       "\t2 & CHP\\_11YO-M\\_PBMC\\_DNA   & CHP\\_11YO\\_M\\_00   & n = 321 &  4880 & 600 & 191220\\_M04827\\_0327\\_000000000-D7W4D & Passed & n = 282 & 1948.8 &  6.232 & ... & 3481524 & 550846 & 116455 & 489440 & 2318341 &    0 &    0 & 0 & 0 & 0.7540386\\\\\n",
       "\t3 & CHP\\_15YO-F-A\\_PBMC\\_DNA & CHP\\_15YO\\_F\\_A\\_00 & n = 321 & 18200 & 600 & 191220\\_M04827\\_0327\\_000000000-D7W4D & Passed & n = 282 & 1545.6 &  7.942 & ... & 3488717 & 549330 & 157638 & 486162 & 1686316 & 1052 &    0 & 0 & 0 & 0.7519197\\\\\n",
       "\t4 & CHP\\_15YO-F-B\\_PBMC\\_DNA & CHP\\_15YO\\_F\\_B\\_00 & n = 321 & 35400 & 600 & 191220\\_M04827\\_0327\\_000000000-D7W4D & Passed & n = 282 & 1171.2 &  7.942 & ... & 5292852 & 875254 & 241875 & 663487 & 2991528 &  793 &  309 & 0 & 0 & 0.7668919\\\\\n",
       "\t5 & CHP\\_15YO-M\\_PBMC\\_DNA   & CHP\\_15YO\\_M\\_00   & n = 321 &  7920 & 600 & 191220\\_M04827\\_0327\\_000000000-D7W4D & Passed & n = 282 & 1843.2 &  6.232 & ... & 4275428 & 660748 & 130568 & 632122 & 2711248 &    0 & 1072 & 0 & 0 & 0.7560349\\\\\n",
       "\t6 & CHP\\_16YO-M\\_PBMC\\_DNA   & CHP\\_16YO\\_M\\_00   & n = 321 &  3460 & 600 & 191220\\_M04827\\_0327\\_000000000-D7W4D & Passed & n = 282 & 2227.2 &  4.294 & ... & 3382456 & 472114 & 117300 & 452204 & 2111692 &    0 &    0 & 0 & 0 & 0.7574009\\\\\n",
       "\\end{tabular}\n"
      ],
      "text/markdown": [
       "\n",
       "A data.frame: 6 x 102\n",
       "\n",
       "| <!--/--> | basename &lt;chr&gt; | mysample_id &lt;chr&gt; | Shipped &lt;chr&gt; | DNAextracted &lt;dbl&gt; | DNAused &lt;dbl&gt; | libbatch &lt;chr&gt; | librarypassed &lt;chr&gt; | Library preparation &lt;chr&gt; | libraryyield &lt;dbl&gt; | captureyield &lt;dbl&gt; | ... ... | TRA.chains &lt;int&gt; | TRB.chains &lt;int&gt; | TRD.chains &lt;int&gt; | TRG.chains &lt;int&gt; | TRA.TRD.chains &lt;int&gt; | IGH.chains &lt;int&gt; | IGK.chains &lt;int&gt; | IGL.chains &lt;int&gt; | chains &lt;int&gt; | percaligned &lt;dbl&gt; |\n",
       "|---|---|---|---|---|---|---|---|---|---|---|---|---|---|---|---|---|---|---|---|---|---|\n",
       "| 1 | CHP_10YO-M_PBMC_DNA   | CHP_10YO_M_00   | n = 321 |  4120 | 600 | 191220_M04827_0327_000000000-D7W4D | Passed | n = 282 | 1449.6 | 13.338 | ... | 2500371 | 369721 |  74186 | 428666 | 1713555 |    0 |  563 | 0 | 0 | 0.7415962 |\n",
       "| 2 | CHP_11YO-M_PBMC_DNA   | CHP_11YO_M_00   | n = 321 |  4880 | 600 | 191220_M04827_0327_000000000-D7W4D | Passed | n = 282 | 1948.8 |  6.232 | ... | 3481524 | 550846 | 116455 | 489440 | 2318341 |    0 |    0 | 0 | 0 | 0.7540386 |\n",
       "| 3 | CHP_15YO-F-A_PBMC_DNA | CHP_15YO_F_A_00 | n = 321 | 18200 | 600 | 191220_M04827_0327_000000000-D7W4D | Passed | n = 282 | 1545.6 |  7.942 | ... | 3488717 | 549330 | 157638 | 486162 | 1686316 | 1052 |    0 | 0 | 0 | 0.7519197 |\n",
       "| 4 | CHP_15YO-F-B_PBMC_DNA | CHP_15YO_F_B_00 | n = 321 | 35400 | 600 | 191220_M04827_0327_000000000-D7W4D | Passed | n = 282 | 1171.2 |  7.942 | ... | 5292852 | 875254 | 241875 | 663487 | 2991528 |  793 |  309 | 0 | 0 | 0.7668919 |\n",
       "| 5 | CHP_15YO-M_PBMC_DNA   | CHP_15YO_M_00   | n = 321 |  7920 | 600 | 191220_M04827_0327_000000000-D7W4D | Passed | n = 282 | 1843.2 |  6.232 | ... | 4275428 | 660748 | 130568 | 632122 | 2711248 |    0 | 1072 | 0 | 0 | 0.7560349 |\n",
       "| 6 | CHP_16YO-M_PBMC_DNA   | CHP_16YO_M_00   | n = 321 |  3460 | 600 | 191220_M04827_0327_000000000-D7W4D | Passed | n = 282 | 2227.2 |  4.294 | ... | 3382456 | 472114 | 117300 | 452204 | 2111692 |    0 |    0 | 0 | 0 | 0.7574009 |\n",
       "\n"
      ],
      "text/plain": [
       "  basename              mysample_id     Shipped DNAextracted DNAused\n",
       "1 CHP_10YO-M_PBMC_DNA   CHP_10YO_M_00   n = 321  4120        600    \n",
       "2 CHP_11YO-M_PBMC_DNA   CHP_11YO_M_00   n = 321  4880        600    \n",
       "3 CHP_15YO-F-A_PBMC_DNA CHP_15YO_F_A_00 n = 321 18200        600    \n",
       "4 CHP_15YO-F-B_PBMC_DNA CHP_15YO_F_B_00 n = 321 35400        600    \n",
       "5 CHP_15YO-M_PBMC_DNA   CHP_15YO_M_00   n = 321  7920        600    \n",
       "6 CHP_16YO-M_PBMC_DNA   CHP_16YO_M_00   n = 321  3460        600    \n",
       "  libbatch                           librarypassed Library preparation\n",
       "1 191220_M04827_0327_000000000-D7W4D Passed        n = 282            \n",
       "2 191220_M04827_0327_000000000-D7W4D Passed        n = 282            \n",
       "3 191220_M04827_0327_000000000-D7W4D Passed        n = 282            \n",
       "4 191220_M04827_0327_000000000-D7W4D Passed        n = 282            \n",
       "5 191220_M04827_0327_000000000-D7W4D Passed        n = 282            \n",
       "6 191220_M04827_0327_000000000-D7W4D Passed        n = 282            \n",
       "  libraryyield captureyield ... TRA.chains TRB.chains TRD.chains TRG.chains\n",
       "1 1449.6       13.338       ... 2500371    369721      74186     428666    \n",
       "2 1948.8        6.232       ... 3481524    550846     116455     489440    \n",
       "3 1545.6        7.942       ... 3488717    549330     157638     486162    \n",
       "4 1171.2        7.942       ... 5292852    875254     241875     663487    \n",
       "5 1843.2        6.232       ... 4275428    660748     130568     632122    \n",
       "6 2227.2        4.294       ... 3382456    472114     117300     452204    \n",
       "  TRA.TRD.chains IGH.chains IGK.chains IGL.chains chains percaligned\n",
       "1 1713555           0        563       0          0      0.7415962  \n",
       "2 2318341           0          0       0          0      0.7540386  \n",
       "3 1686316        1052          0       0          0      0.7519197  \n",
       "4 2991528         793        309       0          0      0.7668919  \n",
       "5 2711248           0       1072       0          0      0.7560349  \n",
       "6 2111692           0          0       0          0      0.7574009  "
      ]
     },
     "metadata": {},
     "output_type": "display_data"
    }
   ],
   "source": [
    "head(subset_pbmc)"
   ]
  },
  {
   "cell_type": "code",
   "execution_count": 6,
   "metadata": {
    "vscode": {
     "languageId": "r"
    }
   },
   "outputs": [],
   "source": [
    "load(file = paste0(datapath,\"capTCRseq/meta_div_TRB.RData\"))"
   ]
  },
  {
   "cell_type": "code",
   "execution_count": 7,
   "metadata": {
    "vscode": {
     "languageId": "r"
    }
   },
   "outputs": [
    {
     "data": {
      "text/html": [
       "<table class=\"dataframe\">\n",
       "<caption>A data.frame: 10 x 65</caption>\n",
       "<thead>\n",
       "\t<tr><th></th><th scope=col>sample_id</th><th scope=col>Patient</th><th scope=col>cycle</th><th scope=col>FOLD</th><th scope=col>ATC</th><th scope=col>Age</th><th scope=col>Disease_type</th><th scope=col>TE_fold</th><th scope=col>CD3</th><th scope=col>EM</th><th scope=col>...</th><th scope=col>observed_Shannon</th><th scope=col>estimated_Shannon</th><th scope=col>SE_Shannon</th><th scope=col>observed_Simpson</th><th scope=col>estimated_Simpson</th><th scope=col>SE_Simpson</th><th scope=col>basename</th><th scope=col>file</th><th scope=col>sampletype</th><th scope=col>Group</th></tr>\n",
       "\t<tr><th></th><th scope=col>&lt;chr&gt;</th><th scope=col>&lt;chr&gt;</th><th scope=col>&lt;chr&gt;</th><th scope=col>&lt;dbl&gt;</th><th scope=col>&lt;dbl&gt;</th><th scope=col>&lt;dbl&gt;</th><th scope=col>&lt;chr&gt;</th><th scope=col>&lt;dbl&gt;</th><th scope=col>&lt;int&gt;</th><th scope=col>&lt;int&gt;</th><th scope=col>...</th><th scope=col>&lt;dbl&gt;</th><th scope=col>&lt;dbl&gt;</th><th scope=col>&lt;dbl&gt;</th><th scope=col>&lt;dbl&gt;</th><th scope=col>&lt;dbl&gt;</th><th scope=col>&lt;dbl&gt;</th><th scope=col>&lt;chr&gt;</th><th scope=col>&lt;chr&gt;</th><th scope=col>&lt;chr&gt;</th><th scope=col>&lt;chr&gt;</th></tr>\n",
       "</thead>\n",
       "<tbody>\n",
       "\t<tr><th scope=row>249</th><td>CHP_407_01</td><td>CHP_407</td><td>X01</td><td> 1.0</td><td>216.81</td><td>12</td><td>DLBCL</td><td> 1.0</td><td>2219</td><td>735</td><td>...</td><td>  4.314781</td><td>  4.316694</td><td>0.03156677</td><td>  4.006012</td><td>  4.008145</td><td>0.02787398</td><td>CHP_407-01_cfDNA   </td><td>remaining_batch_3_cfDNA_15April2021/mixcr/clones/CLONES_TRBCHP_407-01_cfDNA.txt</td><td>cfDNA</td><td>CHP</td></tr>\n",
       "\t<tr><th scope=row>250</th><td>CHP_407_02</td><td>CHP_407</td><td>X02</td><td>18.1</td><td>570.15</td><td>12</td><td>DLBCL</td><td>18.1</td><td>2373</td><td>839</td><td>...</td><td>  6.629124</td><td>  6.638905</td><td>0.09053794</td><td>  4.708198</td><td>  4.711226</td><td>0.08111305</td><td>CHP_407-02_cfDNA   </td><td>priority_pool3/mixcr/clones/CLONES_TRBCHP_407-02_cfDNA.txt                     </td><td>cfDNA</td><td>CHP</td></tr>\n",
       "\t<tr><th scope=row>251</th><td>CHP_407_03</td><td>CHP_407</td><td>X03</td><td> 3.7</td><td> 86.24</td><td>12</td><td>DLBCL</td><td> 3.7</td><td>1185</td><td> 72</td><td>...</td><td>  1.481101</td><td>  1.487815</td><td>0.05912977</td><td>  1.230549</td><td>  1.231358</td><td>0.03432500</td><td>CHP_407-03_cfDNA   </td><td>batch11_cfDNA_11Sep2020/mixcr/clones/CLONES_TRBCHP_407-03_cfDNA.txt            </td><td>cfDNA</td><td>CHP</td></tr>\n",
       "\t<tr><th scope=row>252</th><td>CHP_407_04</td><td>CHP_407</td><td>X04</td><td> 0.0</td><td>  0.00</td><td>12</td><td>DLBCL</td><td> 0.0</td><td>   0</td><td> NA</td><td>...</td><td>  1.000000</td><td>  1.000000</td><td>0.00000000</td><td>  1.000000</td><td>  1.000000</td><td>0.00000000</td><td>CHP_407-04_cfDNA   </td><td>remaining_batch_3_cfDNA_15April2021/mixcr/clones/CLONES_TRBCHP_407-04_cfDNA.txt</td><td>cfDNA</td><td>CHP</td></tr>\n",
       "\t<tr><th scope=row>741</th><td>CHP_407_01</td><td>CHP_407</td><td>X01</td><td> 1.0</td><td>216.81</td><td>12</td><td>DLBCL</td><td> 1.0</td><td>2219</td><td>735</td><td>...</td><td>296.625795</td><td>328.340127</td><td>4.82121497</td><td>247.015293</td><td>280.442163</td><td>6.77665004</td><td>CHP_407-01_PBMC_DNA</td><td>batch11_23Apr2020/mixcr/clones/CLONES_TRBCHP_407-01_PBMC_DNA.txt               </td><td>PBMC </td><td>CHP</td></tr>\n",
       "\t<tr><th scope=row>742</th><td>CHP_407_02</td><td>CHP_407</td><td>X02</td><td>18.1</td><td>570.15</td><td>12</td><td>DLBCL</td><td>18.1</td><td>2373</td><td>839</td><td>...</td><td> 40.144620</td><td> 41.509305</td><td>0.91390958</td><td> 32.776496</td><td> 33.849983</td><td>1.02611973</td><td>CHP_407-02_PBMC_DNA</td><td>batch11_23Apr2020/mixcr/clones/CLONES_TRBCHP_407-02_PBMC_DNA.txt               </td><td>PBMC </td><td>CHP</td></tr>\n",
       "\t<tr><th scope=row>743</th><td>CHP_407_03</td><td>CHP_407</td><td>X03</td><td> 3.7</td><td> 86.24</td><td>12</td><td>DLBCL</td><td> 3.7</td><td>1185</td><td> 72</td><td>...</td><td> 23.868713</td><td> 24.224584</td><td>0.59816864</td><td> 17.986145</td><td> 18.256270</td><td>0.83346694</td><td>CHP_407-03__PBMC-DN</td><td>batch12_30Apr2021/mixcr/clones/CLONES_TRBCHP_407-03__PBMC-DN.txt               </td><td>PBMC </td><td>CHP</td></tr>\n",
       "\t<tr><th scope=row>744</th><td>CHP_407_04</td><td>CHP_407</td><td>X04</td><td> 0.0</td><td>  0.00</td><td>12</td><td>DLBCL</td><td> 0.0</td><td>   0</td><td> NA</td><td>...</td><td>440.987356</td><td>442.840531</td><td>1.04361494</td><td>370.132939</td><td>372.109282</td><td>1.63606502</td><td>CHP_407-04-PBMC-DNA</td><td>batch13_26Aug2020/mixcr/clones/CLONES_TRBCHP_407-04-PBMC-DNA.txt               </td><td>PBMC </td><td>CHP</td></tr>\n",
       "\t<tr><th scope=row>745</th><td>CHP_407_05</td><td>CHP_407</td><td>X05</td><td> 0.0</td><td>  0.00</td><td>12</td><td>DLBCL</td><td> 0.0</td><td>   0</td><td> NA</td><td>...</td><td>        NA</td><td>        NA</td><td>        NA</td><td>        NA</td><td>        NA</td><td>        NA</td><td>NA                 </td><td>NA                                                                             </td><td>PBMC </td><td>CHP</td></tr>\n",
       "\t<tr><th scope=row>4411</th><td>CHP_407_01</td><td>CHP_407</td><td>X00</td><td> 1.0</td><td>216.81</td><td>12</td><td>DLBCL</td><td> 1.0</td><td>2219</td><td>735</td><td>...</td><td>  3.243773</td><td>  3.244667</td><td>0.02276269</td><td>  2.904515</td><td>  2.905275</td><td>0.02163161</td><td>CHP_407-FFPE-DNA_S7</td><td>batchFFPE_3Apr2020/mixcr/clones/CLONES_TRBCHP_407-FFPE-DNA_S7.txt              </td><td>Tumor</td><td>CHP</td></tr>\n",
       "</tbody>\n",
       "</table>\n"
      ],
      "text/latex": [
       "A data.frame: 10 x 65\n",
       "\\begin{tabular}{r|lllllllllllllllllllll}\n",
       "  & sample\\_id & Patient & cycle & FOLD & ATC & Age & Disease\\_type & TE\\_fold & CD3 & EM & ... & observed\\_Shannon & estimated\\_Shannon & SE\\_Shannon & observed\\_Simpson & estimated\\_Simpson & SE\\_Simpson & basename & file & sampletype & Group\\\\\n",
       "  & <chr> & <chr> & <chr> & <dbl> & <dbl> & <dbl> & <chr> & <dbl> & <int> & <int> & ... & <dbl> & <dbl> & <dbl> & <dbl> & <dbl> & <dbl> & <chr> & <chr> & <chr> & <chr>\\\\\n",
       "\\hline\n",
       "\t249 & CHP\\_407\\_01 & CHP\\_407 & X01 &  1.0 & 216.81 & 12 & DLBCL &  1.0 & 2219 & 735 & ... &   4.314781 &   4.316694 & 0.03156677 &   4.006012 &   4.008145 & 0.02787398 & CHP\\_407-01\\_cfDNA    & remaining\\_batch\\_3\\_cfDNA\\_15April2021/mixcr/clones/CLONES\\_TRBCHP\\_407-01\\_cfDNA.txt & cfDNA & CHP\\\\\n",
       "\t250 & CHP\\_407\\_02 & CHP\\_407 & X02 & 18.1 & 570.15 & 12 & DLBCL & 18.1 & 2373 & 839 & ... &   6.629124 &   6.638905 & 0.09053794 &   4.708198 &   4.711226 & 0.08111305 & CHP\\_407-02\\_cfDNA    & priority\\_pool3/mixcr/clones/CLONES\\_TRBCHP\\_407-02\\_cfDNA.txt                      & cfDNA & CHP\\\\\n",
       "\t251 & CHP\\_407\\_03 & CHP\\_407 & X03 &  3.7 &  86.24 & 12 & DLBCL &  3.7 & 1185 &  72 & ... &   1.481101 &   1.487815 & 0.05912977 &   1.230549 &   1.231358 & 0.03432500 & CHP\\_407-03\\_cfDNA    & batch11\\_cfDNA\\_11Sep2020/mixcr/clones/CLONES\\_TRBCHP\\_407-03\\_cfDNA.txt             & cfDNA & CHP\\\\\n",
       "\t252 & CHP\\_407\\_04 & CHP\\_407 & X04 &  0.0 &   0.00 & 12 & DLBCL &  0.0 &    0 &  NA & ... &   1.000000 &   1.000000 & 0.00000000 &   1.000000 &   1.000000 & 0.00000000 & CHP\\_407-04\\_cfDNA    & remaining\\_batch\\_3\\_cfDNA\\_15April2021/mixcr/clones/CLONES\\_TRBCHP\\_407-04\\_cfDNA.txt & cfDNA & CHP\\\\\n",
       "\t741 & CHP\\_407\\_01 & CHP\\_407 & X01 &  1.0 & 216.81 & 12 & DLBCL &  1.0 & 2219 & 735 & ... & 296.625795 & 328.340127 & 4.82121497 & 247.015293 & 280.442163 & 6.77665004 & CHP\\_407-01\\_PBMC\\_DNA & batch11\\_23Apr2020/mixcr/clones/CLONES\\_TRBCHP\\_407-01\\_PBMC\\_DNA.txt                & PBMC  & CHP\\\\\n",
       "\t742 & CHP\\_407\\_02 & CHP\\_407 & X02 & 18.1 & 570.15 & 12 & DLBCL & 18.1 & 2373 & 839 & ... &  40.144620 &  41.509305 & 0.91390958 &  32.776496 &  33.849983 & 1.02611973 & CHP\\_407-02\\_PBMC\\_DNA & batch11\\_23Apr2020/mixcr/clones/CLONES\\_TRBCHP\\_407-02\\_PBMC\\_DNA.txt                & PBMC  & CHP\\\\\n",
       "\t743 & CHP\\_407\\_03 & CHP\\_407 & X03 &  3.7 &  86.24 & 12 & DLBCL &  3.7 & 1185 &  72 & ... &  23.868713 &  24.224584 & 0.59816864 &  17.986145 &  18.256270 & 0.83346694 & CHP\\_407-03\\_\\_PBMC-DN & batch12\\_30Apr2021/mixcr/clones/CLONES\\_TRBCHP\\_407-03\\_\\_PBMC-DN.txt                & PBMC  & CHP\\\\\n",
       "\t744 & CHP\\_407\\_04 & CHP\\_407 & X04 &  0.0 &   0.00 & 12 & DLBCL &  0.0 &    0 &  NA & ... & 440.987356 & 442.840531 & 1.04361494 & 370.132939 & 372.109282 & 1.63606502 & CHP\\_407-04-PBMC-DNA & batch13\\_26Aug2020/mixcr/clones/CLONES\\_TRBCHP\\_407-04-PBMC-DNA.txt                & PBMC  & CHP\\\\\n",
       "\t745 & CHP\\_407\\_05 & CHP\\_407 & X05 &  0.0 &   0.00 & 12 & DLBCL &  0.0 &    0 &  NA & ... &         NA &         NA &         NA &         NA &         NA &         NA & NA                  & NA                                                                              & PBMC  & CHP\\\\\n",
       "\t4411 & CHP\\_407\\_01 & CHP\\_407 & X00 &  1.0 & 216.81 & 12 & DLBCL &  1.0 & 2219 & 735 & ... &   3.243773 &   3.244667 & 0.02276269 &   2.904515 &   2.905275 & 0.02163161 & CHP\\_407-FFPE-DNA\\_S7 & batchFFPE\\_3Apr2020/mixcr/clones/CLONES\\_TRBCHP\\_407-FFPE-DNA\\_S7.txt               & Tumor & CHP\\\\\n",
       "\\end{tabular}\n"
      ],
      "text/markdown": [
       "\n",
       "A data.frame: 10 x 65\n",
       "\n",
       "| <!--/--> | sample_id &lt;chr&gt; | Patient &lt;chr&gt; | cycle &lt;chr&gt; | FOLD &lt;dbl&gt; | ATC &lt;dbl&gt; | Age &lt;dbl&gt; | Disease_type &lt;chr&gt; | TE_fold &lt;dbl&gt; | CD3 &lt;int&gt; | EM &lt;int&gt; | ... ... | observed_Shannon &lt;dbl&gt; | estimated_Shannon &lt;dbl&gt; | SE_Shannon &lt;dbl&gt; | observed_Simpson &lt;dbl&gt; | estimated_Simpson &lt;dbl&gt; | SE_Simpson &lt;dbl&gt; | basename &lt;chr&gt; | file &lt;chr&gt; | sampletype &lt;chr&gt; | Group &lt;chr&gt; |\n",
       "|---|---|---|---|---|---|---|---|---|---|---|---|---|---|---|---|---|---|---|---|---|---|\n",
       "| 249 | CHP_407_01 | CHP_407 | X01 |  1.0 | 216.81 | 12 | DLBCL |  1.0 | 2219 | 735 | ... |   4.314781 |   4.316694 | 0.03156677 |   4.006012 |   4.008145 | 0.02787398 | CHP_407-01_cfDNA    | remaining_batch_3_cfDNA_15April2021/mixcr/clones/CLONES_TRBCHP_407-01_cfDNA.txt | cfDNA | CHP |\n",
       "| 250 | CHP_407_02 | CHP_407 | X02 | 18.1 | 570.15 | 12 | DLBCL | 18.1 | 2373 | 839 | ... |   6.629124 |   6.638905 | 0.09053794 |   4.708198 |   4.711226 | 0.08111305 | CHP_407-02_cfDNA    | priority_pool3/mixcr/clones/CLONES_TRBCHP_407-02_cfDNA.txt                      | cfDNA | CHP |\n",
       "| 251 | CHP_407_03 | CHP_407 | X03 |  3.7 |  86.24 | 12 | DLBCL |  3.7 | 1185 |  72 | ... |   1.481101 |   1.487815 | 0.05912977 |   1.230549 |   1.231358 | 0.03432500 | CHP_407-03_cfDNA    | batch11_cfDNA_11Sep2020/mixcr/clones/CLONES_TRBCHP_407-03_cfDNA.txt             | cfDNA | CHP |\n",
       "| 252 | CHP_407_04 | CHP_407 | X04 |  0.0 |   0.00 | 12 | DLBCL |  0.0 |    0 |  NA | ... |   1.000000 |   1.000000 | 0.00000000 |   1.000000 |   1.000000 | 0.00000000 | CHP_407-04_cfDNA    | remaining_batch_3_cfDNA_15April2021/mixcr/clones/CLONES_TRBCHP_407-04_cfDNA.txt | cfDNA | CHP |\n",
       "| 741 | CHP_407_01 | CHP_407 | X01 |  1.0 | 216.81 | 12 | DLBCL |  1.0 | 2219 | 735 | ... | 296.625795 | 328.340127 | 4.82121497 | 247.015293 | 280.442163 | 6.77665004 | CHP_407-01_PBMC_DNA | batch11_23Apr2020/mixcr/clones/CLONES_TRBCHP_407-01_PBMC_DNA.txt                | PBMC  | CHP |\n",
       "| 742 | CHP_407_02 | CHP_407 | X02 | 18.1 | 570.15 | 12 | DLBCL | 18.1 | 2373 | 839 | ... |  40.144620 |  41.509305 | 0.91390958 |  32.776496 |  33.849983 | 1.02611973 | CHP_407-02_PBMC_DNA | batch11_23Apr2020/mixcr/clones/CLONES_TRBCHP_407-02_PBMC_DNA.txt                | PBMC  | CHP |\n",
       "| 743 | CHP_407_03 | CHP_407 | X03 |  3.7 |  86.24 | 12 | DLBCL |  3.7 | 1185 |  72 | ... |  23.868713 |  24.224584 | 0.59816864 |  17.986145 |  18.256270 | 0.83346694 | CHP_407-03__PBMC-DN | batch12_30Apr2021/mixcr/clones/CLONES_TRBCHP_407-03__PBMC-DN.txt                | PBMC  | CHP |\n",
       "| 744 | CHP_407_04 | CHP_407 | X04 |  0.0 |   0.00 | 12 | DLBCL |  0.0 |    0 |  NA | ... | 440.987356 | 442.840531 | 1.04361494 | 370.132939 | 372.109282 | 1.63606502 | CHP_407-04-PBMC-DNA | batch13_26Aug2020/mixcr/clones/CLONES_TRBCHP_407-04-PBMC-DNA.txt                | PBMC  | CHP |\n",
       "| 745 | CHP_407_05 | CHP_407 | X05 |  0.0 |   0.00 | 12 | DLBCL |  0.0 |    0 |  NA | ... |         NA |         NA |         NA |         NA |         NA |         NA | NA                  | NA                                                                              | PBMC  | CHP |\n",
       "| 4411 | CHP_407_01 | CHP_407 | X00 |  1.0 | 216.81 | 12 | DLBCL |  1.0 | 2219 | 735 | ... |   3.243773 |   3.244667 | 0.02276269 |   2.904515 |   2.905275 | 0.02163161 | CHP_407-FFPE-DNA_S7 | batchFFPE_3Apr2020/mixcr/clones/CLONES_TRBCHP_407-FFPE-DNA_S7.txt               | Tumor | CHP |\n",
       "\n"
      ],
      "text/plain": [
       "     sample_id  Patient cycle FOLD ATC    Age Disease_type TE_fold CD3  EM  ...\n",
       "249  CHP_407_01 CHP_407 X01    1.0 216.81 12  DLBCL         1.0    2219 735 ...\n",
       "250  CHP_407_02 CHP_407 X02   18.1 570.15 12  DLBCL        18.1    2373 839 ...\n",
       "251  CHP_407_03 CHP_407 X03    3.7  86.24 12  DLBCL         3.7    1185  72 ...\n",
       "252  CHP_407_04 CHP_407 X04    0.0   0.00 12  DLBCL         0.0       0  NA ...\n",
       "741  CHP_407_01 CHP_407 X01    1.0 216.81 12  DLBCL         1.0    2219 735 ...\n",
       "742  CHP_407_02 CHP_407 X02   18.1 570.15 12  DLBCL        18.1    2373 839 ...\n",
       "743  CHP_407_03 CHP_407 X03    3.7  86.24 12  DLBCL         3.7    1185  72 ...\n",
       "744  CHP_407_04 CHP_407 X04    0.0   0.00 12  DLBCL         0.0       0  NA ...\n",
       "745  CHP_407_05 CHP_407 X05    0.0   0.00 12  DLBCL         0.0       0  NA ...\n",
       "4411 CHP_407_01 CHP_407 X00    1.0 216.81 12  DLBCL         1.0    2219 735 ...\n",
       "     observed_Shannon estimated_Shannon SE_Shannon observed_Simpson\n",
       "249    4.314781         4.316694        0.03156677   4.006012      \n",
       "250    6.629124         6.638905        0.09053794   4.708198      \n",
       "251    1.481101         1.487815        0.05912977   1.230549      \n",
       "252    1.000000         1.000000        0.00000000   1.000000      \n",
       "741  296.625795       328.340127        4.82121497 247.015293      \n",
       "742   40.144620        41.509305        0.91390958  32.776496      \n",
       "743   23.868713        24.224584        0.59816864  17.986145      \n",
       "744  440.987356       442.840531        1.04361494 370.132939      \n",
       "745          NA               NA                NA         NA      \n",
       "4411   3.243773         3.244667        0.02276269   2.904515      \n",
       "     estimated_Simpson SE_Simpson basename           \n",
       "249    4.008145        0.02787398 CHP_407-01_cfDNA   \n",
       "250    4.711226        0.08111305 CHP_407-02_cfDNA   \n",
       "251    1.231358        0.03432500 CHP_407-03_cfDNA   \n",
       "252    1.000000        0.00000000 CHP_407-04_cfDNA   \n",
       "741  280.442163        6.77665004 CHP_407-01_PBMC_DNA\n",
       "742   33.849983        1.02611973 CHP_407-02_PBMC_DNA\n",
       "743   18.256270        0.83346694 CHP_407-03__PBMC-DN\n",
       "744  372.109282        1.63606502 CHP_407-04-PBMC-DNA\n",
       "745          NA                NA NA                 \n",
       "4411   2.905275        0.02163161 CHP_407-FFPE-DNA_S7\n",
       "     file                                                                           \n",
       "249  remaining_batch_3_cfDNA_15April2021/mixcr/clones/CLONES_TRBCHP_407-01_cfDNA.txt\n",
       "250  priority_pool3/mixcr/clones/CLONES_TRBCHP_407-02_cfDNA.txt                     \n",
       "251  batch11_cfDNA_11Sep2020/mixcr/clones/CLONES_TRBCHP_407-03_cfDNA.txt            \n",
       "252  remaining_batch_3_cfDNA_15April2021/mixcr/clones/CLONES_TRBCHP_407-04_cfDNA.txt\n",
       "741  batch11_23Apr2020/mixcr/clones/CLONES_TRBCHP_407-01_PBMC_DNA.txt               \n",
       "742  batch11_23Apr2020/mixcr/clones/CLONES_TRBCHP_407-02_PBMC_DNA.txt               \n",
       "743  batch12_30Apr2021/mixcr/clones/CLONES_TRBCHP_407-03__PBMC-DN.txt               \n",
       "744  batch13_26Aug2020/mixcr/clones/CLONES_TRBCHP_407-04-PBMC-DNA.txt               \n",
       "745  NA                                                                             \n",
       "4411 batchFFPE_3Apr2020/mixcr/clones/CLONES_TRBCHP_407-FFPE-DNA_S7.txt              \n",
       "     sampletype Group\n",
       "249  cfDNA      CHP  \n",
       "250  cfDNA      CHP  \n",
       "251  cfDNA      CHP  \n",
       "252  cfDNA      CHP  \n",
       "741  PBMC       CHP  \n",
       "742  PBMC       CHP  \n",
       "743  PBMC       CHP  \n",
       "744  PBMC       CHP  \n",
       "745  PBMC       CHP  \n",
       "4411 Tumor      CHP  "
      ]
     },
     "metadata": {},
     "output_type": "display_data"
    }
   ],
   "source": [
    "(meta_div[ meta_div$Patient == \"CHP_407\",])"
   ]
  },
  {
   "cell_type": "code",
   "execution_count": 8,
   "metadata": {
    "vscode": {
     "languageId": "r"
    }
   },
   "outputs": [
    {
     "data": {
      "text/html": [
       "<style>\n",
       ".list-inline {list-style: none; margin:0; padding: 0}\n",
       ".list-inline>li {display: inline-block}\n",
       ".list-inline>li:not(:last-child)::after {content: \"\\00b7\"; padding: 0 .5ex}\n",
       "</style>\n",
       "<ol class=list-inline><li>213</li><li>102</li></ol>\n"
      ],
      "text/latex": [
       "\\begin{enumerate*}\n",
       "\\item 213\n",
       "\\item 102\n",
       "\\end{enumerate*}\n"
      ],
      "text/markdown": [
       "1. 213\n",
       "2. 102\n",
       "\n",
       "\n"
      ],
      "text/plain": [
       "[1] 213 102"
      ]
     },
     "metadata": {},
     "output_type": "display_data"
    }
   ],
   "source": [
    "dim(subset_pbmc)"
   ]
  },
  {
   "cell_type": "code",
   "execution_count": 9,
   "metadata": {
    "vscode": {
     "languageId": "r"
    }
   },
   "outputs": [
    {
     "data": {
      "text/html": [
       "923"
      ],
      "text/latex": [
       "923"
      ],
      "text/markdown": [
       "923"
      ],
      "text/plain": [
       "[1] 923"
      ]
     },
     "metadata": {},
     "output_type": "display_data"
    }
   ],
   "source": [
    "length(meta_div$sampletype)"
   ]
  },
  {
   "cell_type": "code",
   "execution_count": 10,
   "metadata": {
    "vscode": {
     "languageId": "r"
    }
   },
   "outputs": [],
   "source": [
    "load(file = paste0(datapath, \"capTCRseq/cfDNA_GoodSamples.RData\"))"
   ]
  },
  {
   "cell_type": "code",
   "execution_count": 11,
   "metadata": {
    "vscode": {
     "languageId": "r"
    }
   },
   "outputs": [
    {
     "data": {
      "text/html": [
       "<table class=\"dataframe\">\n",
       "<caption>A data.frame: 6 x 103</caption>\n",
       "<thead>\n",
       "\t<tr><th></th><th scope=col>basename</th><th scope=col>mysample_id</th><th scope=col>DNA samples</th><th scope=col>DNAextracted</th><th scope=col>DNAused</th><th scope=col>librarypassed</th><th scope=col>libbatch</th><th scope=col>Library preparation</th><th scope=col>libraryyield</th><th scope=col>DNAforcapture</th><th scope=col>...</th><th scope=col>TRA.chains</th><th scope=col>TRB.chains</th><th scope=col>TRD.chains</th><th scope=col>TRG.chains</th><th scope=col>TRA.TRD.chains</th><th scope=col>IGH.chains</th><th scope=col>IGK.chains</th><th scope=col>IGL.chains</th><th scope=col>chains</th><th scope=col>percaligned</th></tr>\n",
       "\t<tr><th></th><th scope=col>&lt;chr&gt;</th><th scope=col>&lt;chr&gt;</th><th scope=col>&lt;chr&gt;</th><th scope=col>&lt;dbl&gt;</th><th scope=col>&lt;dbl&gt;</th><th scope=col>&lt;chr&gt;</th><th scope=col>&lt;chr&gt;</th><th scope=col>&lt;chr&gt;</th><th scope=col>&lt;dbl&gt;</th><th scope=col>&lt;dbl&gt;</th><th scope=col>...</th><th scope=col>&lt;int&gt;</th><th scope=col>&lt;int&gt;</th><th scope=col>&lt;int&gt;</th><th scope=col>&lt;int&gt;</th><th scope=col>&lt;int&gt;</th><th scope=col>&lt;int&gt;</th><th scope=col>&lt;int&gt;</th><th scope=col>&lt;int&gt;</th><th scope=col>&lt;int&gt;</th><th scope=col>&lt;dbl&gt;</th></tr>\n",
       "</thead>\n",
       "<tbody>\n",
       "\t<tr><th scope=row>1</th><td>CHP_323-03_cfDNA</td><td>CHP_323_03</td><td>n = 316</td><td>142.96</td><td>20.000</td><td>Passed</td><td>191017_M04827_0284_000000000-D77P2</td><td>n = 316</td><td>305.28</td><td>305.28</td><td>...</td><td>3553899</td><td>549158</td><td>111175</td><td>593458</td><td>4272584</td><td>128</td><td> 0</td><td> 0</td><td>0</td><td>0.8600238</td></tr>\n",
       "\t<tr><th scope=row>2</th><td>CHP_323-05_cfDNA</td><td>CHP_323_05</td><td>n = 316</td><td> 39.56</td><td>20.000</td><td>Passed</td><td>200117_M04827_0343_000000000-D82R9</td><td>n = 316</td><td>614.40</td><td>501.44</td><td>...</td><td>2772203</td><td>255738</td><td>101783</td><td>378530</td><td>3919109</td><td>  0</td><td> 0</td><td> 0</td><td>0</td><td>0.8734095</td></tr>\n",
       "\t<tr><th scope=row>3</th><td>CHP_324-04_cfDNA</td><td>CHP_324_04</td><td>n = 316</td><td> 99.84</td><td>20.000</td><td>Passed</td><td>200108_M04827_0336_000000000-D7Y8P</td><td>n = 316</td><td>264.00</td><td>264.00</td><td>...</td><td>1918562</td><td>560107</td><td>102545</td><td>159952</td><td> 459396</td><td> 78</td><td>28</td><td>28</td><td>0</td><td>0.7406572</td></tr>\n",
       "\t<tr><th scope=row>4</th><td>CHP_324-05_cfDNA</td><td>CHP_324_05</td><td>n = 316</td><td> 17.16</td><td> 9.576</td><td>Passed</td><td>200213_M04827_0362_000000000-D8682</td><td>n = 316</td><td>330.24</td><td>330.24</td><td>...</td><td>1012748</td><td>193564</td><td> 39073</td><td> 89307</td><td>2693686</td><td> 43</td><td>62</td><td> 0</td><td>0</td><td>0.8925282</td></tr>\n",
       "\t<tr><th scope=row>5</th><td>CHP_326-05_cfDNA</td><td>CHP_326_05</td><td>n = 316</td><td> 12.68</td><td> 9.432</td><td>Passed</td><td>200213_M04827_0362_000000000-D8682</td><td>n = 316</td><td>314.88</td><td>314.88</td><td>...</td><td>1074994</td><td>218543</td><td> 36623</td><td>159705</td><td>2667817</td><td>128</td><td> 0</td><td> 0</td><td>0</td><td>0.8737865</td></tr>\n",
       "\t<tr><th scope=row>6</th><td>CHP_328-05_cfDNA</td><td>CHP_328_05</td><td>n = 316</td><td> 14.60</td><td>11.988</td><td>Passed</td><td>200213_M04827_0362_000000000-D8682</td><td>n = 316</td><td>293.76</td><td>293.76</td><td>...</td><td> 958051</td><td>174406</td><td> 38165</td><td>113414</td><td>2939570</td><td> 13</td><td> 0</td><td> 0</td><td>0</td><td>0.8914028</td></tr>\n",
       "</tbody>\n",
       "</table>\n"
      ],
      "text/latex": [
       "A data.frame: 6 x 103\n",
       "\\begin{tabular}{r|lllllllllllllllllllll}\n",
       "  & basename & mysample\\_id & DNA samples & DNAextracted & DNAused & librarypassed & libbatch & Library preparation & libraryyield & DNAforcapture & ... & TRA.chains & TRB.chains & TRD.chains & TRG.chains & TRA.TRD.chains & IGH.chains & IGK.chains & IGL.chains & chains & percaligned\\\\\n",
       "  & <chr> & <chr> & <chr> & <dbl> & <dbl> & <chr> & <chr> & <chr> & <dbl> & <dbl> & ... & <int> & <int> & <int> & <int> & <int> & <int> & <int> & <int> & <int> & <dbl>\\\\\n",
       "\\hline\n",
       "\t1 & CHP\\_323-03\\_cfDNA & CHP\\_323\\_03 & n = 316 & 142.96 & 20.000 & Passed & 191017\\_M04827\\_0284\\_000000000-D77P2 & n = 316 & 305.28 & 305.28 & ... & 3553899 & 549158 & 111175 & 593458 & 4272584 & 128 &  0 &  0 & 0 & 0.8600238\\\\\n",
       "\t2 & CHP\\_323-05\\_cfDNA & CHP\\_323\\_05 & n = 316 &  39.56 & 20.000 & Passed & 200117\\_M04827\\_0343\\_000000000-D82R9 & n = 316 & 614.40 & 501.44 & ... & 2772203 & 255738 & 101783 & 378530 & 3919109 &   0 &  0 &  0 & 0 & 0.8734095\\\\\n",
       "\t3 & CHP\\_324-04\\_cfDNA & CHP\\_324\\_04 & n = 316 &  99.84 & 20.000 & Passed & 200108\\_M04827\\_0336\\_000000000-D7Y8P & n = 316 & 264.00 & 264.00 & ... & 1918562 & 560107 & 102545 & 159952 &  459396 &  78 & 28 & 28 & 0 & 0.7406572\\\\\n",
       "\t4 & CHP\\_324-05\\_cfDNA & CHP\\_324\\_05 & n = 316 &  17.16 &  9.576 & Passed & 200213\\_M04827\\_0362\\_000000000-D8682 & n = 316 & 330.24 & 330.24 & ... & 1012748 & 193564 &  39073 &  89307 & 2693686 &  43 & 62 &  0 & 0 & 0.8925282\\\\\n",
       "\t5 & CHP\\_326-05\\_cfDNA & CHP\\_326\\_05 & n = 316 &  12.68 &  9.432 & Passed & 200213\\_M04827\\_0362\\_000000000-D8682 & n = 316 & 314.88 & 314.88 & ... & 1074994 & 218543 &  36623 & 159705 & 2667817 & 128 &  0 &  0 & 0 & 0.8737865\\\\\n",
       "\t6 & CHP\\_328-05\\_cfDNA & CHP\\_328\\_05 & n = 316 &  14.60 & 11.988 & Passed & 200213\\_M04827\\_0362\\_000000000-D8682 & n = 316 & 293.76 & 293.76 & ... &  958051 & 174406 &  38165 & 113414 & 2939570 &  13 &  0 &  0 & 0 & 0.8914028\\\\\n",
       "\\end{tabular}\n"
      ],
      "text/markdown": [
       "\n",
       "A data.frame: 6 x 103\n",
       "\n",
       "| <!--/--> | basename &lt;chr&gt; | mysample_id &lt;chr&gt; | DNA samples &lt;chr&gt; | DNAextracted &lt;dbl&gt; | DNAused &lt;dbl&gt; | librarypassed &lt;chr&gt; | libbatch &lt;chr&gt; | Library preparation &lt;chr&gt; | libraryyield &lt;dbl&gt; | DNAforcapture &lt;dbl&gt; | ... ... | TRA.chains &lt;int&gt; | TRB.chains &lt;int&gt; | TRD.chains &lt;int&gt; | TRG.chains &lt;int&gt; | TRA.TRD.chains &lt;int&gt; | IGH.chains &lt;int&gt; | IGK.chains &lt;int&gt; | IGL.chains &lt;int&gt; | chains &lt;int&gt; | percaligned &lt;dbl&gt; |\n",
       "|---|---|---|---|---|---|---|---|---|---|---|---|---|---|---|---|---|---|---|---|---|---|\n",
       "| 1 | CHP_323-03_cfDNA | CHP_323_03 | n = 316 | 142.96 | 20.000 | Passed | 191017_M04827_0284_000000000-D77P2 | n = 316 | 305.28 | 305.28 | ... | 3553899 | 549158 | 111175 | 593458 | 4272584 | 128 |  0 |  0 | 0 | 0.8600238 |\n",
       "| 2 | CHP_323-05_cfDNA | CHP_323_05 | n = 316 |  39.56 | 20.000 | Passed | 200117_M04827_0343_000000000-D82R9 | n = 316 | 614.40 | 501.44 | ... | 2772203 | 255738 | 101783 | 378530 | 3919109 |   0 |  0 |  0 | 0 | 0.8734095 |\n",
       "| 3 | CHP_324-04_cfDNA | CHP_324_04 | n = 316 |  99.84 | 20.000 | Passed | 200108_M04827_0336_000000000-D7Y8P | n = 316 | 264.00 | 264.00 | ... | 1918562 | 560107 | 102545 | 159952 |  459396 |  78 | 28 | 28 | 0 | 0.7406572 |\n",
       "| 4 | CHP_324-05_cfDNA | CHP_324_05 | n = 316 |  17.16 |  9.576 | Passed | 200213_M04827_0362_000000000-D8682 | n = 316 | 330.24 | 330.24 | ... | 1012748 | 193564 |  39073 |  89307 | 2693686 |  43 | 62 |  0 | 0 | 0.8925282 |\n",
       "| 5 | CHP_326-05_cfDNA | CHP_326_05 | n = 316 |  12.68 |  9.432 | Passed | 200213_M04827_0362_000000000-D8682 | n = 316 | 314.88 | 314.88 | ... | 1074994 | 218543 |  36623 | 159705 | 2667817 | 128 |  0 |  0 | 0 | 0.8737865 |\n",
       "| 6 | CHP_328-05_cfDNA | CHP_328_05 | n = 316 |  14.60 | 11.988 | Passed | 200213_M04827_0362_000000000-D8682 | n = 316 | 293.76 | 293.76 | ... |  958051 | 174406 |  38165 | 113414 | 2939570 |  13 |  0 |  0 | 0 | 0.8914028 |\n",
       "\n"
      ],
      "text/plain": [
       "  basename         mysample_id DNA samples DNAextracted DNAused librarypassed\n",
       "1 CHP_323-03_cfDNA CHP_323_03  n = 316     142.96       20.000  Passed       \n",
       "2 CHP_323-05_cfDNA CHP_323_05  n = 316      39.56       20.000  Passed       \n",
       "3 CHP_324-04_cfDNA CHP_324_04  n = 316      99.84       20.000  Passed       \n",
       "4 CHP_324-05_cfDNA CHP_324_05  n = 316      17.16        9.576  Passed       \n",
       "5 CHP_326-05_cfDNA CHP_326_05  n = 316      12.68        9.432  Passed       \n",
       "6 CHP_328-05_cfDNA CHP_328_05  n = 316      14.60       11.988  Passed       \n",
       "  libbatch                           Library preparation libraryyield\n",
       "1 191017_M04827_0284_000000000-D77P2 n = 316             305.28      \n",
       "2 200117_M04827_0343_000000000-D82R9 n = 316             614.40      \n",
       "3 200108_M04827_0336_000000000-D7Y8P n = 316             264.00      \n",
       "4 200213_M04827_0362_000000000-D8682 n = 316             330.24      \n",
       "5 200213_M04827_0362_000000000-D8682 n = 316             314.88      \n",
       "6 200213_M04827_0362_000000000-D8682 n = 316             293.76      \n",
       "  DNAforcapture ... TRA.chains TRB.chains TRD.chains TRG.chains TRA.TRD.chains\n",
       "1 305.28        ... 3553899    549158     111175     593458     4272584       \n",
       "2 501.44        ... 2772203    255738     101783     378530     3919109       \n",
       "3 264.00        ... 1918562    560107     102545     159952      459396       \n",
       "4 330.24        ... 1012748    193564      39073      89307     2693686       \n",
       "5 314.88        ... 1074994    218543      36623     159705     2667817       \n",
       "6 293.76        ...  958051    174406      38165     113414     2939570       \n",
       "  IGH.chains IGK.chains IGL.chains chains percaligned\n",
       "1 128         0          0         0      0.8600238  \n",
       "2   0         0          0         0      0.8734095  \n",
       "3  78        28         28         0      0.7406572  \n",
       "4  43        62          0         0      0.8925282  \n",
       "5 128         0          0         0      0.8737865  \n",
       "6  13         0          0         0      0.8914028  "
      ]
     },
     "metadata": {},
     "output_type": "display_data"
    }
   ],
   "source": [
    "head(subset_cfdna)"
   ]
  },
  {
   "cell_type": "code",
   "execution_count": 12,
   "metadata": {
    "vscode": {
     "languageId": "r"
    }
   },
   "outputs": [
    {
     "data": {
      "text/plain": [
       "\n",
       "  ALCL    ALL    AML   ARMS     BL    BLL    CML  DLBCL   ERMS    EWS     HB \n",
       "    15    180     82      9     37     17     21     22     42     48     27 \n",
       "    HD HR ALL    LFS  MS NB     NB Normal     OS  PMBCL    RMS SR ALL  T-ALL \n",
       "    67    105     10      6     29     14     93     16     15     18     31 \n",
       " WILMS \n",
       "    19 "
      ]
     },
     "metadata": {},
     "output_type": "display_data"
    }
   ],
   "source": [
    "table(meta_div$Disease_type)"
   ]
  },
  {
   "cell_type": "code",
   "execution_count": 13,
   "metadata": {
    "vscode": {
     "languageId": "r"
    }
   },
   "outputs": [],
   "source": [
    "meta_div_goodsamples <- meta_div[ which(meta_div$sampletype == \"Tumor\"),] # all tumours\n",
    "meta_div_goodsamples <- rbind(\n",
    "meta_div[ which(meta_div$basename %in% subset_pbmc$basename),], #good pbmcs\n",
    "meta_div[ which(meta_div$basename %in% subset_cfdna$basename),], # good cfDNAs\n",
    "meta_div[ is.na(meta_div$basename),], # all flow-only data\n",
    "meta_div[ which(meta_div$Disease_type == \"LFS\"),], # add LFS\n",
    "meta_div_goodsamples)\n"
   ]
  },
  {
   "cell_type": "code",
   "execution_count": 14,
   "metadata": {
    "vscode": {
     "languageId": "r"
    }
   },
   "outputs": [],
   "source": [
    "all407 <- (meta_div[ meta_div$Patient == \"CHP_407\",])\n",
    "good407 <- (meta_div_goodsamples[ meta_div_goodsamples$Patient == \"CHP_407\",])"
   ]
  },
  {
   "cell_type": "code",
   "execution_count": 15,
   "metadata": {
    "vscode": {
     "languageId": "r"
    }
   },
   "outputs": [
    {
     "data": {
      "text/html": [
       "<style>\n",
       ".list-inline {list-style: none; margin:0; padding: 0}\n",
       ".list-inline>li {display: inline-block}\n",
       ".list-inline>li:not(:last-child)::after {content: \"\\00b7\"; padding: 0 .5ex}\n",
       "</style>\n",
       "<ol class=list-inline><li>'sample_id'</li><li>'Patient'</li><li>'cycle'</li><li>'FOLD'</li><li>'ATC'</li><li>'Age'</li><li>'Disease_type'</li><li>'TE_fold'</li><li>'CD3'</li><li>'EM'</li><li>'CM'</li><li>'Naïve'</li><li>'SCM'</li><li>'TE'</li><li>'EM%'</li><li>'CM%'</li><li>'Naïve%'</li><li>'SCM%'</li><li>'TE%'</li><li>'Naïve/TE'</li><li>'N+CM+SCM/TE+EM'</li><li>'PD-1'</li><li>'PDL1'</li><li>'LAG3'</li><li>'TIM3'</li><li>'CTLA4'</li><li>'PD1%'</li><li>'PDL1%'</li><li>'LAG3%'</li><li>'TIM3%'</li><li>'CTLA4%'</li><li>'Any NCR'</li><li>'PD1 + LAG3 + TIM3'</li><li>'cancergroup'</li><li>'agegroup'</li><li>'foldgroup'</li><li>'Remission'</li><li>'Relapse'</li><li>'Transplant'</li><li>'CART'</li><li>'vital_status'</li><li>'LOF'</li><li>'TRB'</li><li>'Reads'</li><li>'CPKR'</li><li>'Average_reads'</li><li>'VMR'</li><li>'Max_reads'</li><li>'Singletons'</li><li>'Doubletons'</li><li>'qD'</li><li>'Sample_Coverage'</li><li>'observed_Richness'</li><li>'estimated_Richness'</li><li>'SE_Richeness'</li><li>'observed_Shannon'</li><li>'estimated_Shannon'</li><li>'SE_Shannon'</li><li>'observed_Simpson'</li><li>'estimated_Simpson'</li><li>'SE_Simpson'</li><li>'basename'</li><li>'file'</li><li>'sampletype'</li><li>'Group'</li></ol>\n"
      ],
      "text/latex": [
       "\\begin{enumerate*}\n",
       "\\item 'sample\\_id'\n",
       "\\item 'Patient'\n",
       "\\item 'cycle'\n",
       "\\item 'FOLD'\n",
       "\\item 'ATC'\n",
       "\\item 'Age'\n",
       "\\item 'Disease\\_type'\n",
       "\\item 'TE\\_fold'\n",
       "\\item 'CD3'\n",
       "\\item 'EM'\n",
       "\\item 'CM'\n",
       "\\item 'Naïve'\n",
       "\\item 'SCM'\n",
       "\\item 'TE'\n",
       "\\item 'EM\\%'\n",
       "\\item 'CM\\%'\n",
       "\\item 'Naïve\\%'\n",
       "\\item 'SCM\\%'\n",
       "\\item 'TE\\%'\n",
       "\\item 'Naïve/TE'\n",
       "\\item 'N+CM+SCM/TE+EM'\n",
       "\\item 'PD-1'\n",
       "\\item 'PDL1'\n",
       "\\item 'LAG3'\n",
       "\\item 'TIM3'\n",
       "\\item 'CTLA4'\n",
       "\\item 'PD1\\%'\n",
       "\\item 'PDL1\\%'\n",
       "\\item 'LAG3\\%'\n",
       "\\item 'TIM3\\%'\n",
       "\\item 'CTLA4\\%'\n",
       "\\item 'Any NCR'\n",
       "\\item 'PD1 + LAG3 + TIM3'\n",
       "\\item 'cancergroup'\n",
       "\\item 'agegroup'\n",
       "\\item 'foldgroup'\n",
       "\\item 'Remission'\n",
       "\\item 'Relapse'\n",
       "\\item 'Transplant'\n",
       "\\item 'CART'\n",
       "\\item 'vital\\_status'\n",
       "\\item 'LOF'\n",
       "\\item 'TRB'\n",
       "\\item 'Reads'\n",
       "\\item 'CPKR'\n",
       "\\item 'Average\\_reads'\n",
       "\\item 'VMR'\n",
       "\\item 'Max\\_reads'\n",
       "\\item 'Singletons'\n",
       "\\item 'Doubletons'\n",
       "\\item 'qD'\n",
       "\\item 'Sample\\_Coverage'\n",
       "\\item 'observed\\_Richness'\n",
       "\\item 'estimated\\_Richness'\n",
       "\\item 'SE\\_Richeness'\n",
       "\\item 'observed\\_Shannon'\n",
       "\\item 'estimated\\_Shannon'\n",
       "\\item 'SE\\_Shannon'\n",
       "\\item 'observed\\_Simpson'\n",
       "\\item 'estimated\\_Simpson'\n",
       "\\item 'SE\\_Simpson'\n",
       "\\item 'basename'\n",
       "\\item 'file'\n",
       "\\item 'sampletype'\n",
       "\\item 'Group'\n",
       "\\end{enumerate*}\n"
      ],
      "text/markdown": [
       "1. 'sample_id'\n",
       "2. 'Patient'\n",
       "3. 'cycle'\n",
       "4. 'FOLD'\n",
       "5. 'ATC'\n",
       "6. 'Age'\n",
       "7. 'Disease_type'\n",
       "8. 'TE_fold'\n",
       "9. 'CD3'\n",
       "10. 'EM'\n",
       "11. 'CM'\n",
       "12. 'Naïve'\n",
       "13. 'SCM'\n",
       "14. 'TE'\n",
       "15. 'EM%'\n",
       "16. 'CM%'\n",
       "17. 'Naïve%'\n",
       "18. 'SCM%'\n",
       "19. 'TE%'\n",
       "20. 'Naïve/TE'\n",
       "21. 'N+CM+SCM/TE+EM'\n",
       "22. 'PD-1'\n",
       "23. 'PDL1'\n",
       "24. 'LAG3'\n",
       "25. 'TIM3'\n",
       "26. 'CTLA4'\n",
       "27. 'PD1%'\n",
       "28. 'PDL1%'\n",
       "29. 'LAG3%'\n",
       "30. 'TIM3%'\n",
       "31. 'CTLA4%'\n",
       "32. 'Any NCR'\n",
       "33. 'PD1 + LAG3 + TIM3'\n",
       "34. 'cancergroup'\n",
       "35. 'agegroup'\n",
       "36. 'foldgroup'\n",
       "37. 'Remission'\n",
       "38. 'Relapse'\n",
       "39. 'Transplant'\n",
       "40. 'CART'\n",
       "41. 'vital_status'\n",
       "42. 'LOF'\n",
       "43. 'TRB'\n",
       "44. 'Reads'\n",
       "45. 'CPKR'\n",
       "46. 'Average_reads'\n",
       "47. 'VMR'\n",
       "48. 'Max_reads'\n",
       "49. 'Singletons'\n",
       "50. 'Doubletons'\n",
       "51. 'qD'\n",
       "52. 'Sample_Coverage'\n",
       "53. 'observed_Richness'\n",
       "54. 'estimated_Richness'\n",
       "55. 'SE_Richeness'\n",
       "56. 'observed_Shannon'\n",
       "57. 'estimated_Shannon'\n",
       "58. 'SE_Shannon'\n",
       "59. 'observed_Simpson'\n",
       "60. 'estimated_Simpson'\n",
       "61. 'SE_Simpson'\n",
       "62. 'basename'\n",
       "63. 'file'\n",
       "64. 'sampletype'\n",
       "65. 'Group'\n",
       "\n",
       "\n"
      ],
      "text/plain": [
       " [1] \"sample_id\"          \"Patient\"            \"cycle\"             \n",
       " [4] \"FOLD\"               \"ATC\"                \"Age\"               \n",
       " [7] \"Disease_type\"       \"TE_fold\"            \"CD3\"               \n",
       "[10] \"EM\"                 \"CM\"                 \"Naïve\"             \n",
       "[13] \"SCM\"                \"TE\"                 \"EM%\"               \n",
       "[16] \"CM%\"                \"Naïve%\"             \"SCM%\"              \n",
       "[19] \"TE%\"                \"Naïve/TE\"           \"N+CM+SCM/TE+EM\"    \n",
       "[22] \"PD-1\"               \"PDL1\"               \"LAG3\"              \n",
       "[25] \"TIM3\"               \"CTLA4\"              \"PD1%\"              \n",
       "[28] \"PDL1%\"              \"LAG3%\"              \"TIM3%\"             \n",
       "[31] \"CTLA4%\"             \"Any NCR\"            \"PD1 + LAG3 + TIM3\" \n",
       "[34] \"cancergroup\"        \"agegroup\"           \"foldgroup\"         \n",
       "[37] \"Remission\"          \"Relapse\"            \"Transplant\"        \n",
       "[40] \"CART\"               \"vital_status\"       \"LOF\"               \n",
       "[43] \"TRB\"                \"Reads\"              \"CPKR\"              \n",
       "[46] \"Average_reads\"      \"VMR\"                \"Max_reads\"         \n",
       "[49] \"Singletons\"         \"Doubletons\"         \"qD\"                \n",
       "[52] \"Sample_Coverage\"    \"observed_Richness\"  \"estimated_Richness\"\n",
       "[55] \"SE_Richeness\"       \"observed_Shannon\"   \"estimated_Shannon\" \n",
       "[58] \"SE_Shannon\"         \"observed_Simpson\"   \"estimated_Simpson\" \n",
       "[61] \"SE_Simpson\"         \"basename\"           \"file\"              \n",
       "[64] \"sampletype\"         \"Group\"             "
      ]
     },
     "metadata": {},
     "output_type": "display_data"
    }
   ],
   "source": [
    "colnames(all407)"
   ]
  },
  {
   "cell_type": "code",
   "execution_count": 16,
   "metadata": {
    "vscode": {
     "languageId": "r"
    }
   },
   "outputs": [
    {
     "data": {
      "text/plain": [
       "\n",
       "cfDNA  PBMC Tumor \n",
       "  261   556    18 "
      ]
     },
     "metadata": {},
     "output_type": "display_data"
    }
   ],
   "source": [
    "table(meta_div_goodsamples$sampletype, useNA = \"ifany\")"
   ]
  },
  {
   "cell_type": "code",
   "execution_count": 17,
   "metadata": {
    "vscode": {
     "languageId": "r"
    }
   },
   "outputs": [],
   "source": [
    "# a few PBMC samples failed QC for TCR, but Flow is still good. add those back in but remove TCR data\n",
    "allpbmcsamples <- meta_div$sample_id[ meta_div$sampletype == \"PBMC\" & !is.na(meta_div$basename)]\n",
    "goodpbmcsamples <- meta_div_goodsamples$sample_id[ meta_div_goodsamples$sampletype == \"PBMC\" ]"
   ]
  },
  {
   "cell_type": "code",
   "execution_count": 18,
   "metadata": {
    "vscode": {
     "languageId": "r"
    }
   },
   "outputs": [
    {
     "data": {
      "text/html": [
       "286"
      ],
      "text/latex": [
       "286"
      ],
      "text/markdown": [
       "286"
      ],
      "text/plain": [
       "[1] 286"
      ]
     },
     "metadata": {},
     "output_type": "display_data"
    },
    {
     "data": {
      "text/html": [
       "556"
      ],
      "text/latex": [
       "556"
      ],
      "text/markdown": [
       "556"
      ],
      "text/plain": [
       "[1] 556"
      ]
     },
     "metadata": {},
     "output_type": "display_data"
    },
    {
     "data": {
      "text/html": [
       "<style>\n",
       ".list-inline {list-style: none; margin:0; padding: 0}\n",
       ".list-inline>li {display: inline-block}\n",
       ".list-inline>li:not(:last-child)::after {content: \"\\00b7\"; padding: 0 .5ex}\n",
       "</style>\n",
       "<ol class=list-inline><li>'CHP_323_04'</li><li>'CHP_329_04'</li><li>'CHP_336_04'</li><li>'CHP_336_05'</li><li>'CHP_337_03'</li><li>'CHP_342_03'</li><li>'CHP_344_03'</li><li>'CHP_345_03'</li><li>'CHP_348_03'</li><li>'CHP_348_04'</li><li>'CHP_348_05'</li><li>'CHP_351_01'</li><li>'CHP_351_02'</li><li>'CHP_351_04'</li><li>'CHP_352_02'</li><li>'CHP_353_02'</li><li>'CHP_353_04'</li><li>'CHP_355_02'</li><li>'CHP_358_01'</li><li>'CHP_359_01'</li><li>'CHP_360_04'</li><li>'CHP_361_05'</li><li>'CHP_363_04'</li><li>'CHP_363_05'</li><li>'CHP_366_04'</li><li>'CHP_367_03'</li><li>'CHP_368_04'</li><li>'CHP_369_05'</li><li>'CHP_371_03'</li><li>'CHP_371_04'</li><li>'CHP_373_02'</li><li>'CHP_375_01'</li><li>'CHP_377_01'</li><li>'CHP_377_03'</li><li>'CHP_377_04'</li><li>'CHP_382_03'</li><li>'CHP_382_04'</li><li>'CHP_385_02'</li><li>'CHP_386_04'</li><li>'CHP_386_05'</li><li>'CHP_387_02'</li><li>'CHP_388_02'</li><li>'CHP_389_03'</li><li>'CHP_389_04'</li><li>'CHP_390_02'</li><li>'CHP_390_03'</li><li>'CHP_392_02'</li><li>'CHP_393_02'</li><li>'CHP_396_03'</li><li>'CHP_397_02'</li><li>'CHP_397_03'</li><li>'CHP_397_04'</li><li>'CHP_398_02'</li><li>'CHP_399_04'</li><li>'CHP_401_01'</li><li>'CHP_401_04'</li><li>'CHP_404_03'</li><li>'CHP_404_04'</li><li>'CHP_407_03'</li><li>'CHP_411_01'</li><li>'CHP_416_02'</li><li>'CHP_417_02'</li><li>'CHP_422_01'</li></ol>\n"
      ],
      "text/latex": [
       "\\begin{enumerate*}\n",
       "\\item 'CHP\\_323\\_04'\n",
       "\\item 'CHP\\_329\\_04'\n",
       "\\item 'CHP\\_336\\_04'\n",
       "\\item 'CHP\\_336\\_05'\n",
       "\\item 'CHP\\_337\\_03'\n",
       "\\item 'CHP\\_342\\_03'\n",
       "\\item 'CHP\\_344\\_03'\n",
       "\\item 'CHP\\_345\\_03'\n",
       "\\item 'CHP\\_348\\_03'\n",
       "\\item 'CHP\\_348\\_04'\n",
       "\\item 'CHP\\_348\\_05'\n",
       "\\item 'CHP\\_351\\_01'\n",
       "\\item 'CHP\\_351\\_02'\n",
       "\\item 'CHP\\_351\\_04'\n",
       "\\item 'CHP\\_352\\_02'\n",
       "\\item 'CHP\\_353\\_02'\n",
       "\\item 'CHP\\_353\\_04'\n",
       "\\item 'CHP\\_355\\_02'\n",
       "\\item 'CHP\\_358\\_01'\n",
       "\\item 'CHP\\_359\\_01'\n",
       "\\item 'CHP\\_360\\_04'\n",
       "\\item 'CHP\\_361\\_05'\n",
       "\\item 'CHP\\_363\\_04'\n",
       "\\item 'CHP\\_363\\_05'\n",
       "\\item 'CHP\\_366\\_04'\n",
       "\\item 'CHP\\_367\\_03'\n",
       "\\item 'CHP\\_368\\_04'\n",
       "\\item 'CHP\\_369\\_05'\n",
       "\\item 'CHP\\_371\\_03'\n",
       "\\item 'CHP\\_371\\_04'\n",
       "\\item 'CHP\\_373\\_02'\n",
       "\\item 'CHP\\_375\\_01'\n",
       "\\item 'CHP\\_377\\_01'\n",
       "\\item 'CHP\\_377\\_03'\n",
       "\\item 'CHP\\_377\\_04'\n",
       "\\item 'CHP\\_382\\_03'\n",
       "\\item 'CHP\\_382\\_04'\n",
       "\\item 'CHP\\_385\\_02'\n",
       "\\item 'CHP\\_386\\_04'\n",
       "\\item 'CHP\\_386\\_05'\n",
       "\\item 'CHP\\_387\\_02'\n",
       "\\item 'CHP\\_388\\_02'\n",
       "\\item 'CHP\\_389\\_03'\n",
       "\\item 'CHP\\_389\\_04'\n",
       "\\item 'CHP\\_390\\_02'\n",
       "\\item 'CHP\\_390\\_03'\n",
       "\\item 'CHP\\_392\\_02'\n",
       "\\item 'CHP\\_393\\_02'\n",
       "\\item 'CHP\\_396\\_03'\n",
       "\\item 'CHP\\_397\\_02'\n",
       "\\item 'CHP\\_397\\_03'\n",
       "\\item 'CHP\\_397\\_04'\n",
       "\\item 'CHP\\_398\\_02'\n",
       "\\item 'CHP\\_399\\_04'\n",
       "\\item 'CHP\\_401\\_01'\n",
       "\\item 'CHP\\_401\\_04'\n",
       "\\item 'CHP\\_404\\_03'\n",
       "\\item 'CHP\\_404\\_04'\n",
       "\\item 'CHP\\_407\\_03'\n",
       "\\item 'CHP\\_411\\_01'\n",
       "\\item 'CHP\\_416\\_02'\n",
       "\\item 'CHP\\_417\\_02'\n",
       "\\item 'CHP\\_422\\_01'\n",
       "\\end{enumerate*}\n"
      ],
      "text/markdown": [
       "1. 'CHP_323_04'\n",
       "2. 'CHP_329_04'\n",
       "3. 'CHP_336_04'\n",
       "4. 'CHP_336_05'\n",
       "5. 'CHP_337_03'\n",
       "6. 'CHP_342_03'\n",
       "7. 'CHP_344_03'\n",
       "8. 'CHP_345_03'\n",
       "9. 'CHP_348_03'\n",
       "10. 'CHP_348_04'\n",
       "11. 'CHP_348_05'\n",
       "12. 'CHP_351_01'\n",
       "13. 'CHP_351_02'\n",
       "14. 'CHP_351_04'\n",
       "15. 'CHP_352_02'\n",
       "16. 'CHP_353_02'\n",
       "17. 'CHP_353_04'\n",
       "18. 'CHP_355_02'\n",
       "19. 'CHP_358_01'\n",
       "20. 'CHP_359_01'\n",
       "21. 'CHP_360_04'\n",
       "22. 'CHP_361_05'\n",
       "23. 'CHP_363_04'\n",
       "24. 'CHP_363_05'\n",
       "25. 'CHP_366_04'\n",
       "26. 'CHP_367_03'\n",
       "27. 'CHP_368_04'\n",
       "28. 'CHP_369_05'\n",
       "29. 'CHP_371_03'\n",
       "30. 'CHP_371_04'\n",
       "31. 'CHP_373_02'\n",
       "32. 'CHP_375_01'\n",
       "33. 'CHP_377_01'\n",
       "34. 'CHP_377_03'\n",
       "35. 'CHP_377_04'\n",
       "36. 'CHP_382_03'\n",
       "37. 'CHP_382_04'\n",
       "38. 'CHP_385_02'\n",
       "39. 'CHP_386_04'\n",
       "40. 'CHP_386_05'\n",
       "41. 'CHP_387_02'\n",
       "42. 'CHP_388_02'\n",
       "43. 'CHP_389_03'\n",
       "44. 'CHP_389_04'\n",
       "45. 'CHP_390_02'\n",
       "46. 'CHP_390_03'\n",
       "47. 'CHP_392_02'\n",
       "48. 'CHP_393_02'\n",
       "49. 'CHP_396_03'\n",
       "50. 'CHP_397_02'\n",
       "51. 'CHP_397_03'\n",
       "52. 'CHP_397_04'\n",
       "53. 'CHP_398_02'\n",
       "54. 'CHP_399_04'\n",
       "55. 'CHP_401_01'\n",
       "56. 'CHP_401_04'\n",
       "57. 'CHP_404_03'\n",
       "58. 'CHP_404_04'\n",
       "59. 'CHP_407_03'\n",
       "60. 'CHP_411_01'\n",
       "61. 'CHP_416_02'\n",
       "62. 'CHP_417_02'\n",
       "63. 'CHP_422_01'\n",
       "\n",
       "\n"
      ],
      "text/plain": [
       " [1] \"CHP_323_04\" \"CHP_329_04\" \"CHP_336_04\" \"CHP_336_05\" \"CHP_337_03\"\n",
       " [6] \"CHP_342_03\" \"CHP_344_03\" \"CHP_345_03\" \"CHP_348_03\" \"CHP_348_04\"\n",
       "[11] \"CHP_348_05\" \"CHP_351_01\" \"CHP_351_02\" \"CHP_351_04\" \"CHP_352_02\"\n",
       "[16] \"CHP_353_02\" \"CHP_353_04\" \"CHP_355_02\" \"CHP_358_01\" \"CHP_359_01\"\n",
       "[21] \"CHP_360_04\" \"CHP_361_05\" \"CHP_363_04\" \"CHP_363_05\" \"CHP_366_04\"\n",
       "[26] \"CHP_367_03\" \"CHP_368_04\" \"CHP_369_05\" \"CHP_371_03\" \"CHP_371_04\"\n",
       "[31] \"CHP_373_02\" \"CHP_375_01\" \"CHP_377_01\" \"CHP_377_03\" \"CHP_377_04\"\n",
       "[36] \"CHP_382_03\" \"CHP_382_04\" \"CHP_385_02\" \"CHP_386_04\" \"CHP_386_05\"\n",
       "[41] \"CHP_387_02\" \"CHP_388_02\" \"CHP_389_03\" \"CHP_389_04\" \"CHP_390_02\"\n",
       "[46] \"CHP_390_03\" \"CHP_392_02\" \"CHP_393_02\" \"CHP_396_03\" \"CHP_397_02\"\n",
       "[51] \"CHP_397_03\" \"CHP_397_04\" \"CHP_398_02\" \"CHP_399_04\" \"CHP_401_01\"\n",
       "[56] \"CHP_401_04\" \"CHP_404_03\" \"CHP_404_04\" \"CHP_407_03\" \"CHP_411_01\"\n",
       "[61] \"CHP_416_02\" \"CHP_417_02\" \"CHP_422_01\""
      ]
     },
     "metadata": {},
     "output_type": "display_data"
    }
   ],
   "source": [
    "length(allpbmcsamples)\n",
    "length(goodpbmcsamples)\n",
    "\n",
    "goodflowpbmcsamples <- allpbmcsamples[! allpbmcsamples %in% goodpbmcsamples]\n",
    "goodflowpbmcsamples\n"
   ]
  },
  {
   "cell_type": "code",
   "execution_count": 19,
   "metadata": {
    "vscode": {
     "languageId": "r"
    }
   },
   "outputs": [],
   "source": [
    "goodflow <- meta_div[ meta_div$sampletype == \"PBMC\",]\n",
    "goodflow <- goodflow[ goodflow$sample_id %in% goodflowpbmcsamples,]"
   ]
  },
  {
   "cell_type": "code",
   "execution_count": 20,
   "metadata": {
    "vscode": {
     "languageId": "r"
    }
   },
   "outputs": [
    {
     "data": {
      "text/html": [
       "<style>\n",
       ".list-inline {list-style: none; margin:0; padding: 0}\n",
       ".list-inline>li {display: inline-block}\n",
       ".list-inline>li:not(:last-child)::after {content: \"\\00b7\"; padding: 0 .5ex}\n",
       "</style>\n",
       "<ol class=list-inline><li>'sample_id'</li><li>'Patient'</li><li>'cycle'</li><li>'FOLD'</li><li>'ATC'</li><li>'Age'</li><li>'Disease_type'</li><li>'TE_fold'</li><li>'CD3'</li><li>'EM'</li><li>'CM'</li><li>'Naïve'</li><li>'SCM'</li><li>'TE'</li><li>'EM%'</li><li>'CM%'</li><li>'Naïve%'</li><li>'SCM%'</li><li>'TE%'</li><li>'Naïve/TE'</li><li>'N+CM+SCM/TE+EM'</li><li>'PD-1'</li><li>'PDL1'</li><li>'LAG3'</li><li>'TIM3'</li><li>'CTLA4'</li><li>'PD1%'</li><li>'PDL1%'</li><li>'LAG3%'</li><li>'TIM3%'</li><li>'CTLA4%'</li><li>'Any NCR'</li><li>'PD1 + LAG3 + TIM3'</li><li>'cancergroup'</li><li>'agegroup'</li><li>'foldgroup'</li><li>'Remission'</li><li>'Relapse'</li><li>'Transplant'</li><li>'CART'</li><li>'vital_status'</li><li>'LOF'</li><li>'TRB'</li><li>'Reads'</li><li>'CPKR'</li><li>'Average_reads'</li><li>'VMR'</li><li>'Max_reads'</li><li>'Singletons'</li><li>'Doubletons'</li><li>'qD'</li><li>'Sample_Coverage'</li><li>'observed_Richness'</li><li>'estimated_Richness'</li><li>'SE_Richeness'</li><li>'observed_Shannon'</li><li>'estimated_Shannon'</li><li>'SE_Shannon'</li><li>'observed_Simpson'</li><li>'estimated_Simpson'</li><li>'SE_Simpson'</li><li>'basename'</li><li>'file'</li><li>'sampletype'</li><li>'Group'</li></ol>\n"
      ],
      "text/latex": [
       "\\begin{enumerate*}\n",
       "\\item 'sample\\_id'\n",
       "\\item 'Patient'\n",
       "\\item 'cycle'\n",
       "\\item 'FOLD'\n",
       "\\item 'ATC'\n",
       "\\item 'Age'\n",
       "\\item 'Disease\\_type'\n",
       "\\item 'TE\\_fold'\n",
       "\\item 'CD3'\n",
       "\\item 'EM'\n",
       "\\item 'CM'\n",
       "\\item 'Naïve'\n",
       "\\item 'SCM'\n",
       "\\item 'TE'\n",
       "\\item 'EM\\%'\n",
       "\\item 'CM\\%'\n",
       "\\item 'Naïve\\%'\n",
       "\\item 'SCM\\%'\n",
       "\\item 'TE\\%'\n",
       "\\item 'Naïve/TE'\n",
       "\\item 'N+CM+SCM/TE+EM'\n",
       "\\item 'PD-1'\n",
       "\\item 'PDL1'\n",
       "\\item 'LAG3'\n",
       "\\item 'TIM3'\n",
       "\\item 'CTLA4'\n",
       "\\item 'PD1\\%'\n",
       "\\item 'PDL1\\%'\n",
       "\\item 'LAG3\\%'\n",
       "\\item 'TIM3\\%'\n",
       "\\item 'CTLA4\\%'\n",
       "\\item 'Any NCR'\n",
       "\\item 'PD1 + LAG3 + TIM3'\n",
       "\\item 'cancergroup'\n",
       "\\item 'agegroup'\n",
       "\\item 'foldgroup'\n",
       "\\item 'Remission'\n",
       "\\item 'Relapse'\n",
       "\\item 'Transplant'\n",
       "\\item 'CART'\n",
       "\\item 'vital\\_status'\n",
       "\\item 'LOF'\n",
       "\\item 'TRB'\n",
       "\\item 'Reads'\n",
       "\\item 'CPKR'\n",
       "\\item 'Average\\_reads'\n",
       "\\item 'VMR'\n",
       "\\item 'Max\\_reads'\n",
       "\\item 'Singletons'\n",
       "\\item 'Doubletons'\n",
       "\\item 'qD'\n",
       "\\item 'Sample\\_Coverage'\n",
       "\\item 'observed\\_Richness'\n",
       "\\item 'estimated\\_Richness'\n",
       "\\item 'SE\\_Richeness'\n",
       "\\item 'observed\\_Shannon'\n",
       "\\item 'estimated\\_Shannon'\n",
       "\\item 'SE\\_Shannon'\n",
       "\\item 'observed\\_Simpson'\n",
       "\\item 'estimated\\_Simpson'\n",
       "\\item 'SE\\_Simpson'\n",
       "\\item 'basename'\n",
       "\\item 'file'\n",
       "\\item 'sampletype'\n",
       "\\item 'Group'\n",
       "\\end{enumerate*}\n"
      ],
      "text/markdown": [
       "1. 'sample_id'\n",
       "2. 'Patient'\n",
       "3. 'cycle'\n",
       "4. 'FOLD'\n",
       "5. 'ATC'\n",
       "6. 'Age'\n",
       "7. 'Disease_type'\n",
       "8. 'TE_fold'\n",
       "9. 'CD3'\n",
       "10. 'EM'\n",
       "11. 'CM'\n",
       "12. 'Naïve'\n",
       "13. 'SCM'\n",
       "14. 'TE'\n",
       "15. 'EM%'\n",
       "16. 'CM%'\n",
       "17. 'Naïve%'\n",
       "18. 'SCM%'\n",
       "19. 'TE%'\n",
       "20. 'Naïve/TE'\n",
       "21. 'N+CM+SCM/TE+EM'\n",
       "22. 'PD-1'\n",
       "23. 'PDL1'\n",
       "24. 'LAG3'\n",
       "25. 'TIM3'\n",
       "26. 'CTLA4'\n",
       "27. 'PD1%'\n",
       "28. 'PDL1%'\n",
       "29. 'LAG3%'\n",
       "30. 'TIM3%'\n",
       "31. 'CTLA4%'\n",
       "32. 'Any NCR'\n",
       "33. 'PD1 + LAG3 + TIM3'\n",
       "34. 'cancergroup'\n",
       "35. 'agegroup'\n",
       "36. 'foldgroup'\n",
       "37. 'Remission'\n",
       "38. 'Relapse'\n",
       "39. 'Transplant'\n",
       "40. 'CART'\n",
       "41. 'vital_status'\n",
       "42. 'LOF'\n",
       "43. 'TRB'\n",
       "44. 'Reads'\n",
       "45. 'CPKR'\n",
       "46. 'Average_reads'\n",
       "47. 'VMR'\n",
       "48. 'Max_reads'\n",
       "49. 'Singletons'\n",
       "50. 'Doubletons'\n",
       "51. 'qD'\n",
       "52. 'Sample_Coverage'\n",
       "53. 'observed_Richness'\n",
       "54. 'estimated_Richness'\n",
       "55. 'SE_Richeness'\n",
       "56. 'observed_Shannon'\n",
       "57. 'estimated_Shannon'\n",
       "58. 'SE_Shannon'\n",
       "59. 'observed_Simpson'\n",
       "60. 'estimated_Simpson'\n",
       "61. 'SE_Simpson'\n",
       "62. 'basename'\n",
       "63. 'file'\n",
       "64. 'sampletype'\n",
       "65. 'Group'\n",
       "\n",
       "\n"
      ],
      "text/plain": [
       " [1] \"sample_id\"          \"Patient\"            \"cycle\"             \n",
       " [4] \"FOLD\"               \"ATC\"                \"Age\"               \n",
       " [7] \"Disease_type\"       \"TE_fold\"            \"CD3\"               \n",
       "[10] \"EM\"                 \"CM\"                 \"Naïve\"             \n",
       "[13] \"SCM\"                \"TE\"                 \"EM%\"               \n",
       "[16] \"CM%\"                \"Naïve%\"             \"SCM%\"              \n",
       "[19] \"TE%\"                \"Naïve/TE\"           \"N+CM+SCM/TE+EM\"    \n",
       "[22] \"PD-1\"               \"PDL1\"               \"LAG3\"              \n",
       "[25] \"TIM3\"               \"CTLA4\"              \"PD1%\"              \n",
       "[28] \"PDL1%\"              \"LAG3%\"              \"TIM3%\"             \n",
       "[31] \"CTLA4%\"             \"Any NCR\"            \"PD1 + LAG3 + TIM3\" \n",
       "[34] \"cancergroup\"        \"agegroup\"           \"foldgroup\"         \n",
       "[37] \"Remission\"          \"Relapse\"            \"Transplant\"        \n",
       "[40] \"CART\"               \"vital_status\"       \"LOF\"               \n",
       "[43] \"TRB\"                \"Reads\"              \"CPKR\"              \n",
       "[46] \"Average_reads\"      \"VMR\"                \"Max_reads\"         \n",
       "[49] \"Singletons\"         \"Doubletons\"         \"qD\"                \n",
       "[52] \"Sample_Coverage\"    \"observed_Richness\"  \"estimated_Richness\"\n",
       "[55] \"SE_Richeness\"       \"observed_Shannon\"   \"estimated_Shannon\" \n",
       "[58] \"SE_Shannon\"         \"observed_Simpson\"   \"estimated_Simpson\" \n",
       "[61] \"SE_Simpson\"         \"basename\"           \"file\"              \n",
       "[64] \"sampletype\"         \"Group\"             "
      ]
     },
     "metadata": {},
     "output_type": "display_data"
    }
   ],
   "source": [
    "# Replace TCR-related columns with NA for flow-only PBMC samples\n",
    "tcr_columns <- c('TRB', 'Reads', 'CPKR', 'Average_reads', 'VMR', 'Max_reads', \n",
    "                 'Singletons', 'Doubletons', 'qD', 'Sample_Coverage', \n",
    "                 'observed_Richness', 'estimated_Richness', 'SE_Richeness', \n",
    "                 'observed_Shannon', 'estimated_Shannon', 'SE_Shannon', \n",
    "                 'observed_Simpson', 'estimated_Simpson', 'SE_Simpson', \n",
    "                 'basename', 'file')\n",
    "\n",
    "goodflow[, tcr_columns] <- NA\n",
    "\n",
    "colnames(goodflow)\n"
   ]
  },
  {
   "cell_type": "code",
   "execution_count": 21,
   "metadata": {
    "vscode": {
     "languageId": "r"
    }
   },
   "outputs": [],
   "source": [
    "meta_div_goodsamples <- rbind(meta_div_goodsamples, goodflow)"
   ]
  },
  {
   "cell_type": "code",
   "execution_count": 22,
   "metadata": {
    "vscode": {
     "languageId": "r"
    }
   },
   "outputs": [
    {
     "data": {
      "text/html": [
       "143"
      ],
      "text/latex": [
       "143"
      ],
      "text/markdown": [
       "143"
      ],
      "text/plain": [
       "[1] 143"
      ]
     },
     "metadata": {},
     "output_type": "display_data"
    }
   ],
   "source": [
    "length(unique(meta_div_goodsamples$Patient[ meta_div_goodsamples$sampletype == \"PBMC\"]))"
   ]
  },
  {
   "cell_type": "code",
   "execution_count": 23,
   "metadata": {
    "vscode": {
     "languageId": "r"
    }
   },
   "outputs": [
    {
     "data": {
      "text/html": [
       "<table class=\"dataframe\">\n",
       "<caption>A data.frame: 2 x 65</caption>\n",
       "<thead>\n",
       "\t<tr><th></th><th scope=col>sample_id</th><th scope=col>Patient</th><th scope=col>cycle</th><th scope=col>FOLD</th><th scope=col>ATC</th><th scope=col>Age</th><th scope=col>Disease_type</th><th scope=col>TE_fold</th><th scope=col>CD3</th><th scope=col>EM</th><th scope=col>...</th><th scope=col>observed_Shannon</th><th scope=col>estimated_Shannon</th><th scope=col>SE_Shannon</th><th scope=col>observed_Simpson</th><th scope=col>estimated_Simpson</th><th scope=col>SE_Simpson</th><th scope=col>basename</th><th scope=col>file</th><th scope=col>sampletype</th><th scope=col>Group</th></tr>\n",
       "\t<tr><th></th><th scope=col>&lt;chr&gt;</th><th scope=col>&lt;chr&gt;</th><th scope=col>&lt;chr&gt;</th><th scope=col>&lt;dbl&gt;</th><th scope=col>&lt;dbl&gt;</th><th scope=col>&lt;dbl&gt;</th><th scope=col>&lt;chr&gt;</th><th scope=col>&lt;dbl&gt;</th><th scope=col>&lt;int&gt;</th><th scope=col>&lt;int&gt;</th><th scope=col>...</th><th scope=col>&lt;dbl&gt;</th><th scope=col>&lt;dbl&gt;</th><th scope=col>&lt;dbl&gt;</th><th scope=col>&lt;dbl&gt;</th><th scope=col>&lt;dbl&gt;</th><th scope=col>&lt;dbl&gt;</th><th scope=col>&lt;chr&gt;</th><th scope=col>&lt;chr&gt;</th><th scope=col>&lt;chr&gt;</th><th scope=col>&lt;chr&gt;</th></tr>\n",
       "</thead>\n",
       "<tbody>\n",
       "\t<tr><th scope=row>251</th><td>CHP_407_03</td><td>CHP_407</td><td>X03</td><td>3.7</td><td>86.24</td><td>12</td><td>DLBCL</td><td>3.7</td><td>1185</td><td>72</td><td>...</td><td>1.481101</td><td>1.487815</td><td>0.05912977</td><td>1.230549</td><td>1.231358</td><td>0.034325</td><td>CHP_407-03_cfDNA</td><td>batch11_cfDNA_11Sep2020/mixcr/clones/CLONES_TRBCHP_407-03_cfDNA.txt</td><td>cfDNA</td><td>CHP</td></tr>\n",
       "\t<tr><th scope=row>743</th><td>CHP_407_03</td><td>CHP_407</td><td>X03</td><td>3.7</td><td>86.24</td><td>12</td><td>DLBCL</td><td>3.7</td><td>1185</td><td>72</td><td>...</td><td>      NA</td><td>      NA</td><td>        NA</td><td>      NA</td><td>      NA</td><td>      NA</td><td>NA              </td><td>NA                                                                 </td><td>PBMC </td><td>CHP</td></tr>\n",
       "</tbody>\n",
       "</table>\n"
      ],
      "text/latex": [
       "A data.frame: 2 x 65\n",
       "\\begin{tabular}{r|lllllllllllllllllllll}\n",
       "  & sample\\_id & Patient & cycle & FOLD & ATC & Age & Disease\\_type & TE\\_fold & CD3 & EM & ... & observed\\_Shannon & estimated\\_Shannon & SE\\_Shannon & observed\\_Simpson & estimated\\_Simpson & SE\\_Simpson & basename & file & sampletype & Group\\\\\n",
       "  & <chr> & <chr> & <chr> & <dbl> & <dbl> & <dbl> & <chr> & <dbl> & <int> & <int> & ... & <dbl> & <dbl> & <dbl> & <dbl> & <dbl> & <dbl> & <chr> & <chr> & <chr> & <chr>\\\\\n",
       "\\hline\n",
       "\t251 & CHP\\_407\\_03 & CHP\\_407 & X03 & 3.7 & 86.24 & 12 & DLBCL & 3.7 & 1185 & 72 & ... & 1.481101 & 1.487815 & 0.05912977 & 1.230549 & 1.231358 & 0.034325 & CHP\\_407-03\\_cfDNA & batch11\\_cfDNA\\_11Sep2020/mixcr/clones/CLONES\\_TRBCHP\\_407-03\\_cfDNA.txt & cfDNA & CHP\\\\\n",
       "\t743 & CHP\\_407\\_03 & CHP\\_407 & X03 & 3.7 & 86.24 & 12 & DLBCL & 3.7 & 1185 & 72 & ... &       NA &       NA &         NA &       NA &       NA &       NA & NA               & NA                                                                  & PBMC  & CHP\\\\\n",
       "\\end{tabular}\n"
      ],
      "text/markdown": [
       "\n",
       "A data.frame: 2 x 65\n",
       "\n",
       "| <!--/--> | sample_id &lt;chr&gt; | Patient &lt;chr&gt; | cycle &lt;chr&gt; | FOLD &lt;dbl&gt; | ATC &lt;dbl&gt; | Age &lt;dbl&gt; | Disease_type &lt;chr&gt; | TE_fold &lt;dbl&gt; | CD3 &lt;int&gt; | EM &lt;int&gt; | ... ... | observed_Shannon &lt;dbl&gt; | estimated_Shannon &lt;dbl&gt; | SE_Shannon &lt;dbl&gt; | observed_Simpson &lt;dbl&gt; | estimated_Simpson &lt;dbl&gt; | SE_Simpson &lt;dbl&gt; | basename &lt;chr&gt; | file &lt;chr&gt; | sampletype &lt;chr&gt; | Group &lt;chr&gt; |\n",
       "|---|---|---|---|---|---|---|---|---|---|---|---|---|---|---|---|---|---|---|---|---|---|\n",
       "| 251 | CHP_407_03 | CHP_407 | X03 | 3.7 | 86.24 | 12 | DLBCL | 3.7 | 1185 | 72 | ... | 1.481101 | 1.487815 | 0.05912977 | 1.230549 | 1.231358 | 0.034325 | CHP_407-03_cfDNA | batch11_cfDNA_11Sep2020/mixcr/clones/CLONES_TRBCHP_407-03_cfDNA.txt | cfDNA | CHP |\n",
       "| 743 | CHP_407_03 | CHP_407 | X03 | 3.7 | 86.24 | 12 | DLBCL | 3.7 | 1185 | 72 | ... |       NA |       NA |         NA |       NA |       NA |       NA | NA               | NA                                                                  | PBMC  | CHP |\n",
       "\n"
      ],
      "text/plain": [
       "    sample_id  Patient cycle FOLD ATC   Age Disease_type TE_fold CD3  EM ...\n",
       "251 CHP_407_03 CHP_407 X03   3.7  86.24 12  DLBCL        3.7     1185 72 ...\n",
       "743 CHP_407_03 CHP_407 X03   3.7  86.24 12  DLBCL        3.7     1185 72 ...\n",
       "    observed_Shannon estimated_Shannon SE_Shannon observed_Simpson\n",
       "251 1.481101         1.487815          0.05912977 1.230549        \n",
       "743       NA               NA                  NA       NA        \n",
       "    estimated_Simpson SE_Simpson basename        \n",
       "251 1.231358          0.034325   CHP_407-03_cfDNA\n",
       "743       NA                NA   NA              \n",
       "    file                                                               \n",
       "251 batch11_cfDNA_11Sep2020/mixcr/clones/CLONES_TRBCHP_407-03_cfDNA.txt\n",
       "743 NA                                                                 \n",
       "    sampletype Group\n",
       "251 cfDNA      CHP  \n",
       "743 PBMC       CHP  "
      ]
     },
     "metadata": {},
     "output_type": "display_data"
    }
   ],
   "source": [
    "meta_div_goodsamples[ meta_div_goodsamples$sample_id == \"CHP_407_03\",]"
   ]
  },
  {
   "cell_type": "code",
   "execution_count": 24,
   "metadata": {
    "vscode": {
     "languageId": "r"
    }
   },
   "outputs": [
    {
     "data": {
      "text/plain": [
       "\n",
       "cfDNA  PBMC Tumor \n",
       "  261   619    18 "
      ]
     },
     "metadata": {},
     "output_type": "display_data"
    }
   ],
   "source": [
    "table(meta_div_goodsamples$sampletype, useNA = \"ifany\")"
   ]
  },
  {
   "cell_type": "code",
   "execution_count": 25,
   "metadata": {
    "vscode": {
     "languageId": "r"
    }
   },
   "outputs": [],
   "source": [
    "meta_div_goodsamples$cancergroup[ which(meta_div_goodsamples$cancergroup == \"Solid\")] <- \"Solid tumors\" # rename solid tumors"
   ]
  },
  {
   "cell_type": "code",
   "execution_count": 26,
   "metadata": {
    "vscode": {
     "languageId": "r"
    }
   },
   "outputs": [],
   "source": [
    "meta_div_goodsamples$cancergroup[ meta_div_goodsamples$Disease_type == \"T-ALL\" ] <- \"T-cell malignancies\"\n",
    "meta_div_goodsamples$cancergroup[ meta_div_goodsamples$Disease_type == \"ALCL\" ] <- \"T-cell malignancies\""
   ]
  },
  {
   "cell_type": "code",
   "execution_count": 27,
   "metadata": {
    "vscode": {
     "languageId": "r"
    }
   },
   "outputs": [],
   "source": [
    "meta_div_goodsamples$log10shann <- log10(meta_div_goodsamples$observed_Shannon)"
   ]
  },
  {
   "cell_type": "code",
   "execution_count": 28,
   "metadata": {
    "vscode": {
     "languageId": "r"
    }
   },
   "outputs": [],
   "source": [
    "# recode cd3 = 0 to NA\n",
    "meta_div_goodsamples$CD3[which(meta_div_goodsamples$CD3 == 0)] <- NA"
   ]
  },
  {
   "cell_type": "code",
   "execution_count": 29,
   "metadata": {
    "vscode": {
     "languageId": "r"
    }
   },
   "outputs": [
    {
     "data": {
      "text/html": [
       "<table class=\"dataframe\">\n",
       "<caption>A data.frame: 6 x 66</caption>\n",
       "<thead>\n",
       "\t<tr><th></th><th scope=col>sample_id</th><th scope=col>Patient</th><th scope=col>cycle</th><th scope=col>FOLD</th><th scope=col>ATC</th><th scope=col>Age</th><th scope=col>Disease_type</th><th scope=col>TE_fold</th><th scope=col>CD3</th><th scope=col>EM</th><th scope=col>...</th><th scope=col>estimated_Shannon</th><th scope=col>SE_Shannon</th><th scope=col>observed_Simpson</th><th scope=col>estimated_Simpson</th><th scope=col>SE_Simpson</th><th scope=col>basename</th><th scope=col>file</th><th scope=col>sampletype</th><th scope=col>Group</th><th scope=col>log10shann</th></tr>\n",
       "\t<tr><th></th><th scope=col>&lt;chr&gt;</th><th scope=col>&lt;chr&gt;</th><th scope=col>&lt;chr&gt;</th><th scope=col>&lt;dbl&gt;</th><th scope=col>&lt;dbl&gt;</th><th scope=col>&lt;dbl&gt;</th><th scope=col>&lt;chr&gt;</th><th scope=col>&lt;dbl&gt;</th><th scope=col>&lt;int&gt;</th><th scope=col>&lt;int&gt;</th><th scope=col>...</th><th scope=col>&lt;dbl&gt;</th><th scope=col>&lt;dbl&gt;</th><th scope=col>&lt;dbl&gt;</th><th scope=col>&lt;dbl&gt;</th><th scope=col>&lt;dbl&gt;</th><th scope=col>&lt;chr&gt;</th><th scope=col>&lt;chr&gt;</th><th scope=col>&lt;chr&gt;</th><th scope=col>&lt;chr&gt;</th><th scope=col>&lt;dbl&gt;</th></tr>\n",
       "</thead>\n",
       "<tbody>\n",
       "\t<tr><th scope=row>287</th><td>CHP_10YO_M_00  </td><td>CHP_10YO_M  </td><td>X00</td><td>NA</td><td>NA</td><td>NA</td><td>Normal</td><td>NA</td><td>NA</td><td>NA</td><td>...</td><td>10.600918</td><td>0.056991401</td><td> 8.555735</td><td> 8.560820</td><td>0.08414734</td><td>CHP_10YO-M_PBMC_DNA  </td><td>batchNormal_16Apr2020/mixcr/clones/CLONES_TRBCHP_10YO-M_PBMC_DNA.txt  </td><td>PBMC</td><td>CHP</td><td>1.0249196</td></tr>\n",
       "\t<tr><th scope=row>288</th><td>CHP_11YO_M_00  </td><td>CHP_11YO_M  </td><td>X00</td><td>NA</td><td>NA</td><td>NA</td><td>Normal</td><td>NA</td><td>NA</td><td>NA</td><td>...</td><td>11.614239</td><td>0.053806067</td><td>10.406291</td><td>10.413592</td><td>0.07126156</td><td>CHP_11YO-M_PBMC_DNA  </td><td>batchNormal_16Apr2020/mixcr/clones/CLONES_TRBCHP_11YO-M_PBMC_DNA.txt  </td><td>PBMC</td><td>CHP</td><td>1.0647196</td></tr>\n",
       "\t<tr><th scope=row>289</th><td>CHP_15YO_F_A_00</td><td>CHP_15YO_F_A</td><td>X00</td><td>NA</td><td>NA</td><td>NA</td><td>Normal</td><td>NA</td><td>NA</td><td>NA</td><td>...</td><td> 8.989346</td><td>0.039547062</td><td> 8.560414</td><td> 8.570231</td><td>0.05747494</td><td>CHP_15YO-F-A_PBMC_DNA</td><td>batchNormal_16Apr2020/mixcr/clones/CLONES_TRBCHP_15YO-F-A_PBMC_DNA.txt</td><td>PBMC</td><td>CHP</td><td>0.9533972</td></tr>\n",
       "\t<tr><th scope=row>290</th><td>CHP_15YO_F_B_00</td><td>CHP_15YO_F_B</td><td>X00</td><td>NA</td><td>NA</td><td>NA</td><td>Normal</td><td>NA</td><td>NA</td><td>NA</td><td>...</td><td> 6.334282</td><td>0.039626930</td><td> 5.869952</td><td> 5.876197</td><td>0.05772369</td><td>CHP_15YO-F-B_PBMC_DNA</td><td>batchNormal_16Apr2020/mixcr/clones/CLONES_TRBCHP_15YO-F-B_PBMC_DNA.txt</td><td>PBMC</td><td>CHP</td><td>0.8014131</td></tr>\n",
       "\t<tr><th scope=row>291</th><td>CHP_15YO_M_00  </td><td>CHP_15YO_M  </td><td>X00</td><td>NA</td><td>NA</td><td>NA</td><td>Normal</td><td>NA</td><td>NA</td><td>NA</td><td>...</td><td>21.120245</td><td>0.038265030</td><td>20.321168</td><td>20.338970</td><td>0.06968668</td><td>CHP_15YO-M_PBMC_DNA  </td><td>batchNormal_16Apr2020/mixcr/clones/CLONES_TRBCHP_15YO-M_PBMC_DNA.txt  </td><td>PBMC</td><td>CHP</td><td>1.3244820</td></tr>\n",
       "\t<tr><th scope=row>292</th><td>CHP_16YO_M_00  </td><td>CHP_16YO_M  </td><td>X00</td><td>NA</td><td>NA</td><td>NA</td><td>Normal</td><td>NA</td><td>NA</td><td>NA</td><td>...</td><td> 3.972829</td><td>0.006801603</td><td> 3.943803</td><td> 3.946259</td><td>0.01331801</td><td>CHP_16YO-M_PBMC_DNA  </td><td>batchNormal_16Apr2020/mixcr/clones/CLONES_TRBCHP_16YO-M_PBMC_DNA.txt  </td><td>PBMC</td><td>CHP</td><td>0.5989621</td></tr>\n",
       "</tbody>\n",
       "</table>\n"
      ],
      "text/latex": [
       "A data.frame: 6 x 66\n",
       "\\begin{tabular}{r|lllllllllllllllllllll}\n",
       "  & sample\\_id & Patient & cycle & FOLD & ATC & Age & Disease\\_type & TE\\_fold & CD3 & EM & ... & estimated\\_Shannon & SE\\_Shannon & observed\\_Simpson & estimated\\_Simpson & SE\\_Simpson & basename & file & sampletype & Group & log10shann\\\\\n",
       "  & <chr> & <chr> & <chr> & <dbl> & <dbl> & <dbl> & <chr> & <dbl> & <int> & <int> & ... & <dbl> & <dbl> & <dbl> & <dbl> & <dbl> & <chr> & <chr> & <chr> & <chr> & <dbl>\\\\\n",
       "\\hline\n",
       "\t287 & CHP\\_10YO\\_M\\_00   & CHP\\_10YO\\_M   & X00 & NA & NA & NA & Normal & NA & NA & NA & ... & 10.600918 & 0.056991401 &  8.555735 &  8.560820 & 0.08414734 & CHP\\_10YO-M\\_PBMC\\_DNA   & batchNormal\\_16Apr2020/mixcr/clones/CLONES\\_TRBCHP\\_10YO-M\\_PBMC\\_DNA.txt   & PBMC & CHP & 1.0249196\\\\\n",
       "\t288 & CHP\\_11YO\\_M\\_00   & CHP\\_11YO\\_M   & X00 & NA & NA & NA & Normal & NA & NA & NA & ... & 11.614239 & 0.053806067 & 10.406291 & 10.413592 & 0.07126156 & CHP\\_11YO-M\\_PBMC\\_DNA   & batchNormal\\_16Apr2020/mixcr/clones/CLONES\\_TRBCHP\\_11YO-M\\_PBMC\\_DNA.txt   & PBMC & CHP & 1.0647196\\\\\n",
       "\t289 & CHP\\_15YO\\_F\\_A\\_00 & CHP\\_15YO\\_F\\_A & X00 & NA & NA & NA & Normal & NA & NA & NA & ... &  8.989346 & 0.039547062 &  8.560414 &  8.570231 & 0.05747494 & CHP\\_15YO-F-A\\_PBMC\\_DNA & batchNormal\\_16Apr2020/mixcr/clones/CLONES\\_TRBCHP\\_15YO-F-A\\_PBMC\\_DNA.txt & PBMC & CHP & 0.9533972\\\\\n",
       "\t290 & CHP\\_15YO\\_F\\_B\\_00 & CHP\\_15YO\\_F\\_B & X00 & NA & NA & NA & Normal & NA & NA & NA & ... &  6.334282 & 0.039626930 &  5.869952 &  5.876197 & 0.05772369 & CHP\\_15YO-F-B\\_PBMC\\_DNA & batchNormal\\_16Apr2020/mixcr/clones/CLONES\\_TRBCHP\\_15YO-F-B\\_PBMC\\_DNA.txt & PBMC & CHP & 0.8014131\\\\\n",
       "\t291 & CHP\\_15YO\\_M\\_00   & CHP\\_15YO\\_M   & X00 & NA & NA & NA & Normal & NA & NA & NA & ... & 21.120245 & 0.038265030 & 20.321168 & 20.338970 & 0.06968668 & CHP\\_15YO-M\\_PBMC\\_DNA   & batchNormal\\_16Apr2020/mixcr/clones/CLONES\\_TRBCHP\\_15YO-M\\_PBMC\\_DNA.txt   & PBMC & CHP & 1.3244820\\\\\n",
       "\t292 & CHP\\_16YO\\_M\\_00   & CHP\\_16YO\\_M   & X00 & NA & NA & NA & Normal & NA & NA & NA & ... &  3.972829 & 0.006801603 &  3.943803 &  3.946259 & 0.01331801 & CHP\\_16YO-M\\_PBMC\\_DNA   & batchNormal\\_16Apr2020/mixcr/clones/CLONES\\_TRBCHP\\_16YO-M\\_PBMC\\_DNA.txt   & PBMC & CHP & 0.5989621\\\\\n",
       "\\end{tabular}\n"
      ],
      "text/markdown": [
       "\n",
       "A data.frame: 6 x 66\n",
       "\n",
       "| <!--/--> | sample_id &lt;chr&gt; | Patient &lt;chr&gt; | cycle &lt;chr&gt; | FOLD &lt;dbl&gt; | ATC &lt;dbl&gt; | Age &lt;dbl&gt; | Disease_type &lt;chr&gt; | TE_fold &lt;dbl&gt; | CD3 &lt;int&gt; | EM &lt;int&gt; | ... ... | estimated_Shannon &lt;dbl&gt; | SE_Shannon &lt;dbl&gt; | observed_Simpson &lt;dbl&gt; | estimated_Simpson &lt;dbl&gt; | SE_Simpson &lt;dbl&gt; | basename &lt;chr&gt; | file &lt;chr&gt; | sampletype &lt;chr&gt; | Group &lt;chr&gt; | log10shann &lt;dbl&gt; |\n",
       "|---|---|---|---|---|---|---|---|---|---|---|---|---|---|---|---|---|---|---|---|---|---|\n",
       "| 287 | CHP_10YO_M_00   | CHP_10YO_M   | X00 | NA | NA | NA | Normal | NA | NA | NA | ... | 10.600918 | 0.056991401 |  8.555735 |  8.560820 | 0.08414734 | CHP_10YO-M_PBMC_DNA   | batchNormal_16Apr2020/mixcr/clones/CLONES_TRBCHP_10YO-M_PBMC_DNA.txt   | PBMC | CHP | 1.0249196 |\n",
       "| 288 | CHP_11YO_M_00   | CHP_11YO_M   | X00 | NA | NA | NA | Normal | NA | NA | NA | ... | 11.614239 | 0.053806067 | 10.406291 | 10.413592 | 0.07126156 | CHP_11YO-M_PBMC_DNA   | batchNormal_16Apr2020/mixcr/clones/CLONES_TRBCHP_11YO-M_PBMC_DNA.txt   | PBMC | CHP | 1.0647196 |\n",
       "| 289 | CHP_15YO_F_A_00 | CHP_15YO_F_A | X00 | NA | NA | NA | Normal | NA | NA | NA | ... |  8.989346 | 0.039547062 |  8.560414 |  8.570231 | 0.05747494 | CHP_15YO-F-A_PBMC_DNA | batchNormal_16Apr2020/mixcr/clones/CLONES_TRBCHP_15YO-F-A_PBMC_DNA.txt | PBMC | CHP | 0.9533972 |\n",
       "| 290 | CHP_15YO_F_B_00 | CHP_15YO_F_B | X00 | NA | NA | NA | Normal | NA | NA | NA | ... |  6.334282 | 0.039626930 |  5.869952 |  5.876197 | 0.05772369 | CHP_15YO-F-B_PBMC_DNA | batchNormal_16Apr2020/mixcr/clones/CLONES_TRBCHP_15YO-F-B_PBMC_DNA.txt | PBMC | CHP | 0.8014131 |\n",
       "| 291 | CHP_15YO_M_00   | CHP_15YO_M   | X00 | NA | NA | NA | Normal | NA | NA | NA | ... | 21.120245 | 0.038265030 | 20.321168 | 20.338970 | 0.06968668 | CHP_15YO-M_PBMC_DNA   | batchNormal_16Apr2020/mixcr/clones/CLONES_TRBCHP_15YO-M_PBMC_DNA.txt   | PBMC | CHP | 1.3244820 |\n",
       "| 292 | CHP_16YO_M_00   | CHP_16YO_M   | X00 | NA | NA | NA | Normal | NA | NA | NA | ... |  3.972829 | 0.006801603 |  3.943803 |  3.946259 | 0.01331801 | CHP_16YO-M_PBMC_DNA   | batchNormal_16Apr2020/mixcr/clones/CLONES_TRBCHP_16YO-M_PBMC_DNA.txt   | PBMC | CHP | 0.5989621 |\n",
       "\n"
      ],
      "text/plain": [
       "    sample_id       Patient      cycle FOLD ATC Age Disease_type TE_fold CD3 EM\n",
       "287 CHP_10YO_M_00   CHP_10YO_M   X00   NA   NA  NA  Normal       NA      NA  NA\n",
       "288 CHP_11YO_M_00   CHP_11YO_M   X00   NA   NA  NA  Normal       NA      NA  NA\n",
       "289 CHP_15YO_F_A_00 CHP_15YO_F_A X00   NA   NA  NA  Normal       NA      NA  NA\n",
       "290 CHP_15YO_F_B_00 CHP_15YO_F_B X00   NA   NA  NA  Normal       NA      NA  NA\n",
       "291 CHP_15YO_M_00   CHP_15YO_M   X00   NA   NA  NA  Normal       NA      NA  NA\n",
       "292 CHP_16YO_M_00   CHP_16YO_M   X00   NA   NA  NA  Normal       NA      NA  NA\n",
       "    ... estimated_Shannon SE_Shannon  observed_Simpson estimated_Simpson\n",
       "287 ... 10.600918         0.056991401  8.555735         8.560820        \n",
       "288 ... 11.614239         0.053806067 10.406291        10.413592        \n",
       "289 ...  8.989346         0.039547062  8.560414         8.570231        \n",
       "290 ...  6.334282         0.039626930  5.869952         5.876197        \n",
       "291 ... 21.120245         0.038265030 20.321168        20.338970        \n",
       "292 ...  3.972829         0.006801603  3.943803         3.946259        \n",
       "    SE_Simpson basename             \n",
       "287 0.08414734 CHP_10YO-M_PBMC_DNA  \n",
       "288 0.07126156 CHP_11YO-M_PBMC_DNA  \n",
       "289 0.05747494 CHP_15YO-F-A_PBMC_DNA\n",
       "290 0.05772369 CHP_15YO-F-B_PBMC_DNA\n",
       "291 0.06968668 CHP_15YO-M_PBMC_DNA  \n",
       "292 0.01331801 CHP_16YO-M_PBMC_DNA  \n",
       "    file                                                                  \n",
       "287 batchNormal_16Apr2020/mixcr/clones/CLONES_TRBCHP_10YO-M_PBMC_DNA.txt  \n",
       "288 batchNormal_16Apr2020/mixcr/clones/CLONES_TRBCHP_11YO-M_PBMC_DNA.txt  \n",
       "289 batchNormal_16Apr2020/mixcr/clones/CLONES_TRBCHP_15YO-F-A_PBMC_DNA.txt\n",
       "290 batchNormal_16Apr2020/mixcr/clones/CLONES_TRBCHP_15YO-F-B_PBMC_DNA.txt\n",
       "291 batchNormal_16Apr2020/mixcr/clones/CLONES_TRBCHP_15YO-M_PBMC_DNA.txt  \n",
       "292 batchNormal_16Apr2020/mixcr/clones/CLONES_TRBCHP_16YO-M_PBMC_DNA.txt  \n",
       "    sampletype Group log10shann\n",
       "287 PBMC       CHP   1.0249196 \n",
       "288 PBMC       CHP   1.0647196 \n",
       "289 PBMC       CHP   0.9533972 \n",
       "290 PBMC       CHP   0.8014131 \n",
       "291 PBMC       CHP   1.3244820 \n",
       "292 PBMC       CHP   0.5989621 "
      ]
     },
     "metadata": {},
     "output_type": "display_data"
    }
   ],
   "source": [
    "head(meta_div_goodsamples)"
   ]
  },
  {
   "cell_type": "code",
   "execution_count": 30,
   "metadata": {
    "vscode": {
     "languageId": "r"
    }
   },
   "outputs": [],
   "source": [
    "meta_div_goodsamples$sample_id_sampletype <- paste0(meta_div_goodsamples$sample_id, \"_\", meta_div_goodsamples$sampletype)"
   ]
  },
  {
   "cell_type": "code",
   "execution_count": 31,
   "metadata": {
    "vscode": {
     "languageId": "r"
    }
   },
   "outputs": [],
   "source": [
    "# remove samples with CD3 == 0, TRB == NA and sampletype == PBMC\n",
    "# only clinical + ex vivo data\n",
    "rmsamples <- meta_div_goodsamples$sample_id_sampletype[ is.na(meta_div_goodsamples$CD3) & is.na(meta_div_goodsamples$TRB) & meta_div_goodsamples$sampletype == \"PBMC\"]"
   ]
  },
  {
   "cell_type": "code",
   "execution_count": 32,
   "metadata": {
    "vscode": {
     "languageId": "r"
    }
   },
   "outputs": [
    {
     "data": {
      "text/plain": [
       "\n",
       "cfDNA  PBMC Tumor \n",
       "  261   619    18 "
      ]
     },
     "metadata": {},
     "output_type": "display_data"
    }
   ],
   "source": [
    "table(meta_div_goodsamples$sampletype, useNA = \"ifany\")"
   ]
  },
  {
   "cell_type": "code",
   "execution_count": 33,
   "metadata": {
    "vscode": {
     "languageId": "r"
    }
   },
   "outputs": [
    {
     "data": {
      "text/html": [
       "<style>\n",
       ".list-inline {list-style: none; margin:0; padding: 0}\n",
       ".list-inline>li {display: inline-block}\n",
       ".list-inline>li:not(:last-child)::after {content: \"\\00b7\"; padding: 0 .5ex}\n",
       "</style>\n",
       "<ol class=list-inline><li>898</li><li>67</li></ol>\n"
      ],
      "text/latex": [
       "\\begin{enumerate*}\n",
       "\\item 898\n",
       "\\item 67\n",
       "\\end{enumerate*}\n"
      ],
      "text/markdown": [
       "1. 898\n",
       "2. 67\n",
       "\n",
       "\n"
      ],
      "text/plain": [
       "[1] 898  67"
      ]
     },
     "metadata": {},
     "output_type": "display_data"
    }
   ],
   "source": [
    "dim(meta_div_goodsamples)"
   ]
  },
  {
   "cell_type": "code",
   "execution_count": 34,
   "metadata": {
    "vscode": {
     "languageId": "r"
    }
   },
   "outputs": [],
   "source": [
    "meta_div_goodsamples <- meta_div_goodsamples[ !meta_div_goodsamples$sample_id_sampletype %in% rmsamples,]"
   ]
  },
  {
   "cell_type": "code",
   "execution_count": 35,
   "metadata": {
    "vscode": {
     "languageId": "r"
    }
   },
   "outputs": [
    {
     "data": {
      "text/html": [
       "<style>\n",
       ".list-inline {list-style: none; margin:0; padding: 0}\n",
       ".list-inline>li {display: inline-block}\n",
       ".list-inline>li:not(:last-child)::after {content: \"\\00b7\"; padding: 0 .5ex}\n",
       "</style>\n",
       "<ol class=list-inline><li>629</li><li>67</li></ol>\n"
      ],
      "text/latex": [
       "\\begin{enumerate*}\n",
       "\\item 629\n",
       "\\item 67\n",
       "\\end{enumerate*}\n"
      ],
      "text/markdown": [
       "1. 629\n",
       "2. 67\n",
       "\n",
       "\n"
      ],
      "text/plain": [
       "[1] 629  67"
      ]
     },
     "metadata": {},
     "output_type": "display_data"
    }
   ],
   "source": [
    "dim(meta_div_goodsamples)"
   ]
  },
  {
   "cell_type": "code",
   "execution_count": 36,
   "metadata": {
    "vscode": {
     "languageId": "r"
    }
   },
   "outputs": [
    {
     "data": {
      "text/plain": [
       "\n",
       "cfDNA  PBMC Tumor \n",
       "  261   350    18 "
      ]
     },
     "metadata": {},
     "output_type": "display_data"
    }
   ],
   "source": [
    "table(meta_div_goodsamples$sampletype, useNA = \"ifany\") # 246 samples removed they had only clinical and ex vivo data"
   ]
  },
  {
   "cell_type": "code",
   "execution_count": 37,
   "metadata": {
    "vscode": {
     "languageId": "r"
    }
   },
   "outputs": [
    {
     "data": {
      "text/html": [
       "<table class=\"dataframe\">\n",
       "<caption>A data.frame: 1 x 67</caption>\n",
       "<thead>\n",
       "\t<tr><th></th><th scope=col>sample_id</th><th scope=col>Patient</th><th scope=col>cycle</th><th scope=col>FOLD</th><th scope=col>ATC</th><th scope=col>Age</th><th scope=col>Disease_type</th><th scope=col>TE_fold</th><th scope=col>CD3</th><th scope=col>EM</th><th scope=col>...</th><th scope=col>SE_Shannon</th><th scope=col>observed_Simpson</th><th scope=col>estimated_Simpson</th><th scope=col>SE_Simpson</th><th scope=col>basename</th><th scope=col>file</th><th scope=col>sampletype</th><th scope=col>Group</th><th scope=col>log10shann</th><th scope=col>sample_id_sampletype</th></tr>\n",
       "\t<tr><th></th><th scope=col>&lt;chr&gt;</th><th scope=col>&lt;chr&gt;</th><th scope=col>&lt;chr&gt;</th><th scope=col>&lt;dbl&gt;</th><th scope=col>&lt;dbl&gt;</th><th scope=col>&lt;dbl&gt;</th><th scope=col>&lt;chr&gt;</th><th scope=col>&lt;dbl&gt;</th><th scope=col>&lt;int&gt;</th><th scope=col>&lt;int&gt;</th><th scope=col>...</th><th scope=col>&lt;dbl&gt;</th><th scope=col>&lt;dbl&gt;</th><th scope=col>&lt;dbl&gt;</th><th scope=col>&lt;dbl&gt;</th><th scope=col>&lt;chr&gt;</th><th scope=col>&lt;chr&gt;</th><th scope=col>&lt;chr&gt;</th><th scope=col>&lt;chr&gt;</th><th scope=col>&lt;dbl&gt;</th><th scope=col>&lt;chr&gt;</th></tr>\n",
       "</thead>\n",
       "<tbody>\n",
       "\t<tr><th scope=row>353</th><td>CHP_330_01</td><td>CHP_330</td><td>X01</td><td>0.9</td><td>0</td><td>5</td><td>OS</td><td>0.9</td><td>2437</td><td>24</td><td>...</td><td>NA</td><td>NA</td><td>NA</td><td>NA</td><td>NA</td><td>NA</td><td>PBMC</td><td>CHP</td><td>NA</td><td>CHP_330_01_PBMC</td></tr>\n",
       "</tbody>\n",
       "</table>\n"
      ],
      "text/latex": [
       "A data.frame: 1 x 67\n",
       "\\begin{tabular}{r|lllllllllllllllllllll}\n",
       "  & sample\\_id & Patient & cycle & FOLD & ATC & Age & Disease\\_type & TE\\_fold & CD3 & EM & ... & SE\\_Shannon & observed\\_Simpson & estimated\\_Simpson & SE\\_Simpson & basename & file & sampletype & Group & log10shann & sample\\_id\\_sampletype\\\\\n",
       "  & <chr> & <chr> & <chr> & <dbl> & <dbl> & <dbl> & <chr> & <dbl> & <int> & <int> & ... & <dbl> & <dbl> & <dbl> & <dbl> & <chr> & <chr> & <chr> & <chr> & <dbl> & <chr>\\\\\n",
       "\\hline\n",
       "\t353 & CHP\\_330\\_01 & CHP\\_330 & X01 & 0.9 & 0 & 5 & OS & 0.9 & 2437 & 24 & ... & NA & NA & NA & NA & NA & NA & PBMC & CHP & NA & CHP\\_330\\_01\\_PBMC\\\\\n",
       "\\end{tabular}\n"
      ],
      "text/markdown": [
       "\n",
       "A data.frame: 1 x 67\n",
       "\n",
       "| <!--/--> | sample_id &lt;chr&gt; | Patient &lt;chr&gt; | cycle &lt;chr&gt; | FOLD &lt;dbl&gt; | ATC &lt;dbl&gt; | Age &lt;dbl&gt; | Disease_type &lt;chr&gt; | TE_fold &lt;dbl&gt; | CD3 &lt;int&gt; | EM &lt;int&gt; | ... ... | SE_Shannon &lt;dbl&gt; | observed_Simpson &lt;dbl&gt; | estimated_Simpson &lt;dbl&gt; | SE_Simpson &lt;dbl&gt; | basename &lt;chr&gt; | file &lt;chr&gt; | sampletype &lt;chr&gt; | Group &lt;chr&gt; | log10shann &lt;dbl&gt; | sample_id_sampletype &lt;chr&gt; |\n",
       "|---|---|---|---|---|---|---|---|---|---|---|---|---|---|---|---|---|---|---|---|---|---|\n",
       "| 353 | CHP_330_01 | CHP_330 | X01 | 0.9 | 0 | 5 | OS | 0.9 | 2437 | 24 | ... | NA | NA | NA | NA | NA | NA | PBMC | CHP | NA | CHP_330_01_PBMC |\n",
       "\n"
      ],
      "text/plain": [
       "    sample_id  Patient cycle FOLD ATC Age Disease_type TE_fold CD3  EM ...\n",
       "353 CHP_330_01 CHP_330 X01   0.9  0   5   OS           0.9     2437 24 ...\n",
       "    SE_Shannon observed_Simpson estimated_Simpson SE_Simpson basename file\n",
       "353 NA         NA               NA                NA         NA       NA  \n",
       "    sampletype Group log10shann sample_id_sampletype\n",
       "353 PBMC       CHP   NA         CHP_330_01_PBMC     "
      ]
     },
     "metadata": {},
     "output_type": "display_data"
    }
   ],
   "source": [
    "meta_div_goodsamples[ meta_div_goodsamples$sample_id == \"CHP_330_01\",]"
   ]
  },
  {
   "cell_type": "code",
   "execution_count": 38,
   "metadata": {
    "vscode": {
     "languageId": "r"
    }
   },
   "outputs": [],
   "source": [
    "meta_div_goodsamples$assay <- NA\n",
    "for (i in 1:nrow(meta_div_goodsamples)) {\n",
    "    if (is.na(meta_div_goodsamples$CD3[i]) & is.na(meta_div_goodsamples$TRB[i])) {\n",
    "        meta_div_goodsamples$assay[i] <-  NA\n",
    "    } else if (!is.na(meta_div_goodsamples$CD3[i]) & is.na(meta_div_goodsamples$TRB[i])) {\n",
    "        meta_div_goodsamples$assay[i] <- \"Flow cytometry\"\n",
    "    } else if (is.na(meta_div_goodsamples$CD3[i]) & !is.na(meta_div_goodsamples$TRB[i])) {\n",
    "        meta_div_goodsamples$assay[i] <- \"capTCR-seq\"\n",
    "    } else if (!is.na(meta_div_goodsamples$CD3[i]) & !is.na(meta_div_goodsamples$TRB[i])) {\n",
    "        meta_div_goodsamples$assay[i] <- \"Flow cytometry & capTCR-seq\"\n",
    "    }\n",
    "}\n",
    "\n",
    "meta_div_goodsamples$assay[ meta_div_goodsamples$sampletype == \"cfDNA\"] <- \"capTCR-seq\"\n"
   ]
  },
  {
   "cell_type": "code",
   "execution_count": 39,
   "metadata": {
    "vscode": {
     "languageId": "r"
    }
   },
   "outputs": [
    {
     "data": {
      "text/plain": [
       "\n",
       "cfDNA  PBMC Tumor \n",
       "  261   350    18 "
      ]
     },
     "metadata": {},
     "output_type": "display_data"
    }
   ],
   "source": [
    "table(meta_div_goodsamples$sampletype)"
   ]
  },
  {
   "cell_type": "code",
   "execution_count": 40,
   "metadata": {
    "vscode": {
     "languageId": "r"
    }
   },
   "outputs": [
    {
     "data": {
      "text/plain": [
       "\n",
       "                 capTCR-seq              Flow cytometry \n",
       "                        382                         127 \n",
       "Flow cytometry & capTCR-seq                        <NA> \n",
       "                        119                           1 "
      ]
     },
     "metadata": {},
     "output_type": "display_data"
    }
   ],
   "source": [
    "table(meta_div_goodsamples$assay, useNA = \"ifany\")"
   ]
  },
  {
   "cell_type": "code",
   "execution_count": 41,
   "metadata": {
    "vscode": {
     "languageId": "r"
    }
   },
   "outputs": [
    {
     "data": {
      "text/html": [
       "<table class=\"dataframe\">\n",
       "<caption>A data.frame: 1 x 68</caption>\n",
       "<thead>\n",
       "\t<tr><th></th><th scope=col>sample_id</th><th scope=col>Patient</th><th scope=col>cycle</th><th scope=col>FOLD</th><th scope=col>ATC</th><th scope=col>Age</th><th scope=col>Disease_type</th><th scope=col>TE_fold</th><th scope=col>CD3</th><th scope=col>EM</th><th scope=col>...</th><th scope=col>observed_Simpson</th><th scope=col>estimated_Simpson</th><th scope=col>SE_Simpson</th><th scope=col>basename</th><th scope=col>file</th><th scope=col>sampletype</th><th scope=col>Group</th><th scope=col>log10shann</th><th scope=col>sample_id_sampletype</th><th scope=col>assay</th></tr>\n",
       "\t<tr><th></th><th scope=col>&lt;chr&gt;</th><th scope=col>&lt;chr&gt;</th><th scope=col>&lt;chr&gt;</th><th scope=col>&lt;dbl&gt;</th><th scope=col>&lt;dbl&gt;</th><th scope=col>&lt;dbl&gt;</th><th scope=col>&lt;chr&gt;</th><th scope=col>&lt;dbl&gt;</th><th scope=col>&lt;int&gt;</th><th scope=col>&lt;int&gt;</th><th scope=col>...</th><th scope=col>&lt;dbl&gt;</th><th scope=col>&lt;dbl&gt;</th><th scope=col>&lt;dbl&gt;</th><th scope=col>&lt;chr&gt;</th><th scope=col>&lt;chr&gt;</th><th scope=col>&lt;chr&gt;</th><th scope=col>&lt;chr&gt;</th><th scope=col>&lt;dbl&gt;</th><th scope=col>&lt;chr&gt;</th><th scope=col>&lt;chr&gt;</th></tr>\n",
       "</thead>\n",
       "<tbody>\n",
       "\t<tr><th scope=row>5011</th><td>CHP_419_01</td><td>CHP_419</td><td>X00</td><td>0</td><td>465.51</td><td>12</td><td>OS</td><td>0</td><td>NA</td><td>NA</td><td>...</td><td>NA</td><td>NA</td><td>NA</td><td>CHP_419-FFPE-DNA_S2</td><td>NA</td><td>Tumor</td><td>CHP</td><td>NA</td><td>CHP_419_01_Tumor</td><td>NA</td></tr>\n",
       "</tbody>\n",
       "</table>\n"
      ],
      "text/latex": [
       "A data.frame: 1 x 68\n",
       "\\begin{tabular}{r|lllllllllllllllllllll}\n",
       "  & sample\\_id & Patient & cycle & FOLD & ATC & Age & Disease\\_type & TE\\_fold & CD3 & EM & ... & observed\\_Simpson & estimated\\_Simpson & SE\\_Simpson & basename & file & sampletype & Group & log10shann & sample\\_id\\_sampletype & assay\\\\\n",
       "  & <chr> & <chr> & <chr> & <dbl> & <dbl> & <dbl> & <chr> & <dbl> & <int> & <int> & ... & <dbl> & <dbl> & <dbl> & <chr> & <chr> & <chr> & <chr> & <dbl> & <chr> & <chr>\\\\\n",
       "\\hline\n",
       "\t5011 & CHP\\_419\\_01 & CHP\\_419 & X00 & 0 & 465.51 & 12 & OS & 0 & NA & NA & ... & NA & NA & NA & CHP\\_419-FFPE-DNA\\_S2 & NA & Tumor & CHP & NA & CHP\\_419\\_01\\_Tumor & NA\\\\\n",
       "\\end{tabular}\n"
      ],
      "text/markdown": [
       "\n",
       "A data.frame: 1 x 68\n",
       "\n",
       "| <!--/--> | sample_id &lt;chr&gt; | Patient &lt;chr&gt; | cycle &lt;chr&gt; | FOLD &lt;dbl&gt; | ATC &lt;dbl&gt; | Age &lt;dbl&gt; | Disease_type &lt;chr&gt; | TE_fold &lt;dbl&gt; | CD3 &lt;int&gt; | EM &lt;int&gt; | ... ... | observed_Simpson &lt;dbl&gt; | estimated_Simpson &lt;dbl&gt; | SE_Simpson &lt;dbl&gt; | basename &lt;chr&gt; | file &lt;chr&gt; | sampletype &lt;chr&gt; | Group &lt;chr&gt; | log10shann &lt;dbl&gt; | sample_id_sampletype &lt;chr&gt; | assay &lt;chr&gt; |\n",
       "|---|---|---|---|---|---|---|---|---|---|---|---|---|---|---|---|---|---|---|---|---|---|\n",
       "| 5011 | CHP_419_01 | CHP_419 | X00 | 0 | 465.51 | 12 | OS | 0 | NA | NA | ... | NA | NA | NA | CHP_419-FFPE-DNA_S2 | NA | Tumor | CHP | NA | CHP_419_01_Tumor | NA |\n",
       "\n"
      ],
      "text/plain": [
       "     sample_id  Patient cycle FOLD ATC    Age Disease_type TE_fold CD3 EM ...\n",
       "5011 CHP_419_01 CHP_419 X00   0    465.51 12  OS           0       NA  NA ...\n",
       "     observed_Simpson estimated_Simpson SE_Simpson basename            file\n",
       "5011 NA               NA                NA         CHP_419-FFPE-DNA_S2 NA  \n",
       "     sampletype Group log10shann sample_id_sampletype assay\n",
       "5011 Tumor      CHP   NA         CHP_419_01_Tumor     NA   "
      ]
     },
     "metadata": {},
     "output_type": "display_data"
    }
   ],
   "source": [
    "meta_div_goodsamples[ is.na(meta_div_goodsamples$assay),]"
   ]
  },
  {
   "cell_type": "code",
   "execution_count": 42,
   "metadata": {
    "vscode": {
     "languageId": "r"
    }
   },
   "outputs": [],
   "source": [
    "meta_div_goodsamples <- meta_div_goodsamples[ !is.na(meta_div_goodsamples$assay),] # 1 tumor sample removed"
   ]
  },
  {
   "cell_type": "code",
   "execution_count": 43,
   "metadata": {
    "vscode": {
     "languageId": "r"
    }
   },
   "outputs": [],
   "source": [
    "rmsamples <- meta_div_goodsamples$basename[ meta_div_goodsamples$assay == \"capTCR-seq\" & is.na(meta_div_goodsamples$TRB)] # if sequenced but no clones"
   ]
  },
  {
   "cell_type": "code",
   "execution_count": 44,
   "metadata": {
    "vscode": {
     "languageId": "r"
    }
   },
   "outputs": [
    {
     "data": {
      "text/html": [
       "<style>\n",
       ".list-inline {list-style: none; margin:0; padding: 0}\n",
       ".list-inline>li {display: inline-block}\n",
       ".list-inline>li:not(:last-child)::after {content: \"\\00b7\"; padding: 0 .5ex}\n",
       "</style>\n",
       "<ol class=list-inline><li>628</li><li>68</li></ol>\n"
      ],
      "text/latex": [
       "\\begin{enumerate*}\n",
       "\\item 628\n",
       "\\item 68\n",
       "\\end{enumerate*}\n"
      ],
      "text/markdown": [
       "1. 628\n",
       "2. 68\n",
       "\n",
       "\n"
      ],
      "text/plain": [
       "[1] 628  68"
      ]
     },
     "metadata": {},
     "output_type": "display_data"
    }
   ],
   "source": [
    "dim(meta_div_goodsamples)"
   ]
  },
  {
   "cell_type": "code",
   "execution_count": 45,
   "metadata": {
    "vscode": {
     "languageId": "r"
    }
   },
   "outputs": [],
   "source": [
    "meta_div_goodsamples <- meta_div_goodsamples[ !(meta_div_goodsamples$basename %in% rmsamples),]"
   ]
  },
  {
   "cell_type": "code",
   "execution_count": 46,
   "metadata": {
    "vscode": {
     "languageId": "r"
    }
   },
   "outputs": [
    {
     "data": {
      "text/html": [
       "<style>\n",
       ".list-inline {list-style: none; margin:0; padding: 0}\n",
       ".list-inline>li {display: inline-block}\n",
       ".list-inline>li:not(:last-child)::after {content: \"\\00b7\"; padding: 0 .5ex}\n",
       "</style>\n",
       "<ol class=list-inline><li>620</li><li>68</li></ol>\n"
      ],
      "text/latex": [
       "\\begin{enumerate*}\n",
       "\\item 620\n",
       "\\item 68\n",
       "\\end{enumerate*}\n"
      ],
      "text/markdown": [
       "1. 620\n",
       "2. 68\n",
       "\n",
       "\n"
      ],
      "text/plain": [
       "[1] 620  68"
      ]
     },
     "metadata": {},
     "output_type": "display_data"
    }
   ],
   "source": [
    "dim(meta_div_goodsamples)"
   ]
  },
  {
   "cell_type": "code",
   "execution_count": 47,
   "metadata": {
    "vscode": {
     "languageId": "r"
    }
   },
   "outputs": [
    {
     "data": {
      "text/html": [
       "<style>\n",
       ".list-inline {list-style: none; margin:0; padding: 0}\n",
       ".list-inline>li {display: inline-block}\n",
       ".list-inline>li:not(:last-child)::after {content: \"\\00b7\"; padding: 0 .5ex}\n",
       "</style>\n",
       "<ol class=list-inline><li>620</li><li>68</li></ol>\n"
      ],
      "text/latex": [
       "\\begin{enumerate*}\n",
       "\\item 620\n",
       "\\item 68\n",
       "\\end{enumerate*}\n"
      ],
      "text/markdown": [
       "1. 620\n",
       "2. 68\n",
       "\n",
       "\n"
      ],
      "text/plain": [
       "[1] 620  68"
      ]
     },
     "metadata": {},
     "output_type": "display_data"
    }
   ],
   "source": [
    "dim(meta_div_goodsamples)"
   ]
  },
  {
   "cell_type": "code",
   "execution_count": 48,
   "metadata": {
    "vscode": {
     "languageId": "r"
    }
   },
   "outputs": [
    {
     "data": {
      "text/plain": [
       "\n",
       "cfDNA  PBMC Tumor \n",
       "  253   350    17 "
      ]
     },
     "metadata": {},
     "output_type": "display_data"
    }
   ],
   "source": [
    "table(meta_div_goodsamples$sampletype)"
   ]
  },
  {
   "cell_type": "code",
   "execution_count": 49,
   "metadata": {
    "vscode": {
     "languageId": "r"
    }
   },
   "outputs": [
    {
     "data": {
      "text/plain": [
       "\n",
       "                 capTCR-seq              Flow cytometry \n",
       "                        374                         127 \n",
       "Flow cytometry & capTCR-seq \n",
       "                        119 "
      ]
     },
     "metadata": {},
     "output_type": "display_data"
    }
   ],
   "source": [
    "table(meta_div_goodsamples$assay)"
   ]
  },
  {
   "cell_type": "code",
   "execution_count": 50,
   "metadata": {
    "vscode": {
     "languageId": "r"
    }
   },
   "outputs": [],
   "source": [
    "# remove samples not discussed in the paper\n",
    "#remove Tumor samples\n",
    "meta_div_goodsamples <- meta_div_goodsamples[ which(meta_div_goodsamples$sampletype != \"Tumor\"),]\n",
    "#remove Normal samples\n",
    "meta_div_goodsamples <- meta_div_goodsamples[ which(meta_div_goodsamples$cancergroup != \"Normal\"),]\n",
    "# remove LFS samples\n",
    "meta_div_goodsamples <- meta_div_goodsamples[which(meta_div_goodsamples$cancergroup != \"LFS\"),]"
   ]
  },
  {
   "cell_type": "code",
   "execution_count": 51,
   "metadata": {
    "vscode": {
     "languageId": "r"
    }
   },
   "outputs": [
    {
     "data": {
      "text/plain": [
       "\n",
       "cfDNA  PBMC \n",
       "  253   326 "
      ]
     },
     "metadata": {},
     "output_type": "display_data"
    }
   ],
   "source": [
    "table(meta_div_goodsamples$sampletype)"
   ]
  },
  {
   "cell_type": "code",
   "execution_count": 52,
   "metadata": {
    "vscode": {
     "languageId": "r"
    }
   },
   "outputs": [],
   "source": [
    "readr::write_rds(meta_div_goodsamples, paste0(datapath, \"capTCRseq/meta_div_goodsamples.rds\"))\n",
    "# push to git\n",
    "readr::write_rds(meta_div_goodsamples, paste0(gitpath, \"data/metadata_goodsamples.rds\"))"
   ]
  },
  {
   "cell_type": "code",
   "execution_count": 53,
   "metadata": {
    "vscode": {
     "languageId": "r"
    }
   },
   "outputs": [
    {
     "data": {
      "text/html": [
       "111"
      ],
      "text/latex": [
       "111"
      ],
      "text/markdown": [
       "111"
      ],
      "text/plain": [
       "[1] 111"
      ]
     },
     "metadata": {},
     "output_type": "display_data"
    }
   ],
   "source": [
    "length(unique(meta_div_goodsamples$Patient))"
   ]
  },
  {
   "cell_type": "code",
   "execution_count": 54,
   "metadata": {
    "vscode": {
     "languageId": "r"
    }
   },
   "outputs": [
    {
     "data": {
      "text/html": [
       "<table class=\"dataframe\">\n",
       "<caption>A data.frame: 6 x 68</caption>\n",
       "<thead>\n",
       "\t<tr><th></th><th scope=col>sample_id</th><th scope=col>Patient</th><th scope=col>cycle</th><th scope=col>FOLD</th><th scope=col>ATC</th><th scope=col>Age</th><th scope=col>Disease_type</th><th scope=col>TE_fold</th><th scope=col>CD3</th><th scope=col>EM</th><th scope=col>...</th><th scope=col>observed_Simpson</th><th scope=col>estimated_Simpson</th><th scope=col>SE_Simpson</th><th scope=col>basename</th><th scope=col>file</th><th scope=col>sampletype</th><th scope=col>Group</th><th scope=col>log10shann</th><th scope=col>sample_id_sampletype</th><th scope=col>assay</th></tr>\n",
       "\t<tr><th></th><th scope=col>&lt;chr&gt;</th><th scope=col>&lt;chr&gt;</th><th scope=col>&lt;chr&gt;</th><th scope=col>&lt;dbl&gt;</th><th scope=col>&lt;dbl&gt;</th><th scope=col>&lt;dbl&gt;</th><th scope=col>&lt;chr&gt;</th><th scope=col>&lt;dbl&gt;</th><th scope=col>&lt;int&gt;</th><th scope=col>&lt;int&gt;</th><th scope=col>...</th><th scope=col>&lt;dbl&gt;</th><th scope=col>&lt;dbl&gt;</th><th scope=col>&lt;dbl&gt;</th><th scope=col>&lt;chr&gt;</th><th scope=col>&lt;chr&gt;</th><th scope=col>&lt;chr&gt;</th><th scope=col>&lt;chr&gt;</th><th scope=col>&lt;dbl&gt;</th><th scope=col>&lt;chr&gt;</th><th scope=col>&lt;chr&gt;</th></tr>\n",
       "</thead>\n",
       "<tbody>\n",
       "\t<tr><th scope=row>357</th><td>CHP_330_05</td><td>CHP_330</td><td>X05</td><td>6.2</td><td>0</td><td>5</td><td>OS</td><td>6.2</td><td>  NA</td><td> NA</td><td>...</td><td>67.233683</td><td>70.55007</td><td>2.30074997</td><td>CHP_330-05-PBMC-DNA</td><td>batch2_Aug62019/mixcr/clones/CLONES_TRBCHP_330-05-PBMC-DNA.txt      </td><td>PBMC </td><td>CHP</td><td>1.9592975</td><td>CHP_330_05_PBMC </td><td>capTCR-seq    </td></tr>\n",
       "\t<tr><th scope=row>8</th><td>CHP_330_04</td><td>CHP_330</td><td>X04</td><td>4.1</td><td>0</td><td>5</td><td>OS</td><td>4.1</td><td>2484</td><td>125</td><td>...</td><td> 1.469009</td><td> 1.46941</td><td>0.02850898</td><td>CHP_330-04_cfDNA   </td><td>batch3a9_cfDNA_10Jul2020/mixcr/clones/CLONES_TRBCHP_330-04_cfDNA.txt</td><td>cfDNA</td><td>CHP</td><td>0.2581257</td><td>CHP_330_04_cfDNA</td><td>capTCR-seq    </td></tr>\n",
       "\t<tr><th scope=row>353</th><td>CHP_330_01</td><td>CHP_330</td><td>X01</td><td>0.9</td><td>0</td><td>5</td><td>OS</td><td>0.9</td><td>2437</td><td> 24</td><td>...</td><td>       NA</td><td>      NA</td><td>        NA</td><td>NA                 </td><td>NA                                                                  </td><td>PBMC </td><td>CHP</td><td>       NA</td><td>CHP_330_01_PBMC </td><td>Flow cytometry</td></tr>\n",
       "\t<tr><th scope=row>354</th><td>CHP_330_02</td><td>CHP_330</td><td>X02</td><td>1.9</td><td>0</td><td>5</td><td>OS</td><td>1.9</td><td>2425</td><td> 21</td><td>...</td><td>       NA</td><td>      NA</td><td>        NA</td><td>NA                 </td><td>NA                                                                  </td><td>PBMC </td><td>CHP</td><td>       NA</td><td>CHP_330_02_PBMC </td><td>Flow cytometry</td></tr>\n",
       "\t<tr><th scope=row>355</th><td>CHP_330_03</td><td>CHP_330</td><td>X03</td><td>1.5</td><td>0</td><td>5</td><td>OS</td><td>1.5</td><td> 544</td><td> 17</td><td>...</td><td>       NA</td><td>      NA</td><td>        NA</td><td>NA                 </td><td>NA                                                                  </td><td>PBMC </td><td>CHP</td><td>       NA</td><td>CHP_330_03_PBMC </td><td>Flow cytometry</td></tr>\n",
       "\t<tr><th scope=row>356</th><td>CHP_330_04</td><td>CHP_330</td><td>X04</td><td>4.1</td><td>0</td><td>5</td><td>OS</td><td>4.1</td><td>2484</td><td>125</td><td>...</td><td>       NA</td><td>      NA</td><td>        NA</td><td>NA                 </td><td>NA                                                                  </td><td>PBMC </td><td>CHP</td><td>       NA</td><td>CHP_330_04_PBMC </td><td>Flow cytometry</td></tr>\n",
       "</tbody>\n",
       "</table>\n"
      ],
      "text/latex": [
       "A data.frame: 6 x 68\n",
       "\\begin{tabular}{r|lllllllllllllllllllll}\n",
       "  & sample\\_id & Patient & cycle & FOLD & ATC & Age & Disease\\_type & TE\\_fold & CD3 & EM & ... & observed\\_Simpson & estimated\\_Simpson & SE\\_Simpson & basename & file & sampletype & Group & log10shann & sample\\_id\\_sampletype & assay\\\\\n",
       "  & <chr> & <chr> & <chr> & <dbl> & <dbl> & <dbl> & <chr> & <dbl> & <int> & <int> & ... & <dbl> & <dbl> & <dbl> & <chr> & <chr> & <chr> & <chr> & <dbl> & <chr> & <chr>\\\\\n",
       "\\hline\n",
       "\t357 & CHP\\_330\\_05 & CHP\\_330 & X05 & 6.2 & 0 & 5 & OS & 6.2 &   NA &  NA & ... & 67.233683 & 70.55007 & 2.30074997 & CHP\\_330-05-PBMC-DNA & batch2\\_Aug62019/mixcr/clones/CLONES\\_TRBCHP\\_330-05-PBMC-DNA.txt       & PBMC  & CHP & 1.9592975 & CHP\\_330\\_05\\_PBMC  & capTCR-seq    \\\\\n",
       "\t8 & CHP\\_330\\_04 & CHP\\_330 & X04 & 4.1 & 0 & 5 & OS & 4.1 & 2484 & 125 & ... &  1.469009 &  1.46941 & 0.02850898 & CHP\\_330-04\\_cfDNA    & batch3a9\\_cfDNA\\_10Jul2020/mixcr/clones/CLONES\\_TRBCHP\\_330-04\\_cfDNA.txt & cfDNA & CHP & 0.2581257 & CHP\\_330\\_04\\_cfDNA & capTCR-seq    \\\\\n",
       "\t353 & CHP\\_330\\_01 & CHP\\_330 & X01 & 0.9 & 0 & 5 & OS & 0.9 & 2437 &  24 & ... &        NA &       NA &         NA & NA                  & NA                                                                   & PBMC  & CHP &        NA & CHP\\_330\\_01\\_PBMC  & Flow cytometry\\\\\n",
       "\t354 & CHP\\_330\\_02 & CHP\\_330 & X02 & 1.9 & 0 & 5 & OS & 1.9 & 2425 &  21 & ... &        NA &       NA &         NA & NA                  & NA                                                                   & PBMC  & CHP &        NA & CHP\\_330\\_02\\_PBMC  & Flow cytometry\\\\\n",
       "\t355 & CHP\\_330\\_03 & CHP\\_330 & X03 & 1.5 & 0 & 5 & OS & 1.5 &  544 &  17 & ... &        NA &       NA &         NA & NA                  & NA                                                                   & PBMC  & CHP &        NA & CHP\\_330\\_03\\_PBMC  & Flow cytometry\\\\\n",
       "\t356 & CHP\\_330\\_04 & CHP\\_330 & X04 & 4.1 & 0 & 5 & OS & 4.1 & 2484 & 125 & ... &        NA &       NA &         NA & NA                  & NA                                                                   & PBMC  & CHP &        NA & CHP\\_330\\_04\\_PBMC  & Flow cytometry\\\\\n",
       "\\end{tabular}\n"
      ],
      "text/markdown": [
       "\n",
       "A data.frame: 6 x 68\n",
       "\n",
       "| <!--/--> | sample_id &lt;chr&gt; | Patient &lt;chr&gt; | cycle &lt;chr&gt; | FOLD &lt;dbl&gt; | ATC &lt;dbl&gt; | Age &lt;dbl&gt; | Disease_type &lt;chr&gt; | TE_fold &lt;dbl&gt; | CD3 &lt;int&gt; | EM &lt;int&gt; | ... ... | observed_Simpson &lt;dbl&gt; | estimated_Simpson &lt;dbl&gt; | SE_Simpson &lt;dbl&gt; | basename &lt;chr&gt; | file &lt;chr&gt; | sampletype &lt;chr&gt; | Group &lt;chr&gt; | log10shann &lt;dbl&gt; | sample_id_sampletype &lt;chr&gt; | assay &lt;chr&gt; |\n",
       "|---|---|---|---|---|---|---|---|---|---|---|---|---|---|---|---|---|---|---|---|---|---|\n",
       "| 357 | CHP_330_05 | CHP_330 | X05 | 6.2 | 0 | 5 | OS | 6.2 |   NA |  NA | ... | 67.233683 | 70.55007 | 2.30074997 | CHP_330-05-PBMC-DNA | batch2_Aug62019/mixcr/clones/CLONES_TRBCHP_330-05-PBMC-DNA.txt       | PBMC  | CHP | 1.9592975 | CHP_330_05_PBMC  | capTCR-seq     |\n",
       "| 8 | CHP_330_04 | CHP_330 | X04 | 4.1 | 0 | 5 | OS | 4.1 | 2484 | 125 | ... |  1.469009 |  1.46941 | 0.02850898 | CHP_330-04_cfDNA    | batch3a9_cfDNA_10Jul2020/mixcr/clones/CLONES_TRBCHP_330-04_cfDNA.txt | cfDNA | CHP | 0.2581257 | CHP_330_04_cfDNA | capTCR-seq     |\n",
       "| 353 | CHP_330_01 | CHP_330 | X01 | 0.9 | 0 | 5 | OS | 0.9 | 2437 |  24 | ... |        NA |       NA |         NA | NA                  | NA                                                                   | PBMC  | CHP |        NA | CHP_330_01_PBMC  | Flow cytometry |\n",
       "| 354 | CHP_330_02 | CHP_330 | X02 | 1.9 | 0 | 5 | OS | 1.9 | 2425 |  21 | ... |        NA |       NA |         NA | NA                  | NA                                                                   | PBMC  | CHP |        NA | CHP_330_02_PBMC  | Flow cytometry |\n",
       "| 355 | CHP_330_03 | CHP_330 | X03 | 1.5 | 0 | 5 | OS | 1.5 |  544 |  17 | ... |        NA |       NA |         NA | NA                  | NA                                                                   | PBMC  | CHP |        NA | CHP_330_03_PBMC  | Flow cytometry |\n",
       "| 356 | CHP_330_04 | CHP_330 | X04 | 4.1 | 0 | 5 | OS | 4.1 | 2484 | 125 | ... |        NA |       NA |         NA | NA                  | NA                                                                   | PBMC  | CHP |        NA | CHP_330_04_PBMC  | Flow cytometry |\n",
       "\n"
      ],
      "text/plain": [
       "    sample_id  Patient cycle FOLD ATC Age Disease_type TE_fold CD3  EM  ...\n",
       "357 CHP_330_05 CHP_330 X05   6.2  0   5   OS           6.2       NA  NA ...\n",
       "8   CHP_330_04 CHP_330 X04   4.1  0   5   OS           4.1     2484 125 ...\n",
       "353 CHP_330_01 CHP_330 X01   0.9  0   5   OS           0.9     2437  24 ...\n",
       "354 CHP_330_02 CHP_330 X02   1.9  0   5   OS           1.9     2425  21 ...\n",
       "355 CHP_330_03 CHP_330 X03   1.5  0   5   OS           1.5      544  17 ...\n",
       "356 CHP_330_04 CHP_330 X04   4.1  0   5   OS           4.1     2484 125 ...\n",
       "    observed_Simpson estimated_Simpson SE_Simpson basename           \n",
       "357 67.233683        70.55007          2.30074997 CHP_330-05-PBMC-DNA\n",
       "8    1.469009         1.46941          0.02850898 CHP_330-04_cfDNA   \n",
       "353        NA              NA                  NA NA                 \n",
       "354        NA              NA                  NA NA                 \n",
       "355        NA              NA                  NA NA                 \n",
       "356        NA              NA                  NA NA                 \n",
       "    file                                                                \n",
       "357 batch2_Aug62019/mixcr/clones/CLONES_TRBCHP_330-05-PBMC-DNA.txt      \n",
       "8   batch3a9_cfDNA_10Jul2020/mixcr/clones/CLONES_TRBCHP_330-04_cfDNA.txt\n",
       "353 NA                                                                  \n",
       "354 NA                                                                  \n",
       "355 NA                                                                  \n",
       "356 NA                                                                  \n",
       "    sampletype Group log10shann sample_id_sampletype assay         \n",
       "357 PBMC       CHP   1.9592975  CHP_330_05_PBMC      capTCR-seq    \n",
       "8   cfDNA      CHP   0.2581257  CHP_330_04_cfDNA     capTCR-seq    \n",
       "353 PBMC       CHP          NA  CHP_330_01_PBMC      Flow cytometry\n",
       "354 PBMC       CHP          NA  CHP_330_02_PBMC      Flow cytometry\n",
       "355 PBMC       CHP          NA  CHP_330_03_PBMC      Flow cytometry\n",
       "356 PBMC       CHP          NA  CHP_330_04_PBMC      Flow cytometry"
      ]
     },
     "metadata": {},
     "output_type": "display_data"
    }
   ],
   "source": [
    "meta_div_goodsamples[ meta_div_goodsamples$Patient == \"CHP_330\",]"
   ]
  },
  {
   "cell_type": "code",
   "execution_count": 55,
   "metadata": {
    "vscode": {
     "languageId": "r"
    }
   },
   "outputs": [],
   "source": [
    "# subset_meta <- meta_div_goodsamples[, c(\"Patient\", \"sample_id\",\"cycle\", \"Disease_type\", \"cancergroup\", \"sampletype\", \"CD3\", \"TRB\", \"assay\")]"
   ]
  },
  {
   "cell_type": "code",
   "execution_count": 56,
   "metadata": {
    "vscode": {
     "languageId": "r"
    }
   },
   "outputs": [],
   "source": [
    "# table(subset_meta$sampletype)"
   ]
  },
  {
   "cell_type": "code",
   "execution_count": 57,
   "metadata": {
    "vscode": {
     "languageId": "r"
    }
   },
   "outputs": [],
   "source": [
    "# table(subset_meta$cancergroup)"
   ]
  },
  {
   "cell_type": "code",
   "execution_count": 58,
   "metadata": {
    "vscode": {
     "languageId": "r"
    }
   },
   "outputs": [],
   "source": [
    "# readr::write_csv(subset_meta, paste0(datapath, \"metadata_schematic.csv\"))"
   ]
  },
  {
   "cell_type": "markdown",
   "metadata": {
    "vscode": {
     "languageId": "r"
    }
   },
   "source": [
    "# SOC df"
   ]
  },
  {
   "cell_type": "code",
   "execution_count": 59,
   "metadata": {
    "vscode": {
     "languageId": "r"
    }
   },
   "outputs": [],
   "source": [
    "meta_div <- readr::read_rds(file = paste0(datapath,\"capTCRseq/meta_div_goodsamples.rds\"))"
   ]
  },
  {
   "cell_type": "code",
   "execution_count": 60,
   "metadata": {
    "vscode": {
     "languageId": "r"
    }
   },
   "outputs": [
    {
     "name": "stderr",
     "output_type": "stream",
     "text": [
      "\u001b[1m\u001b[22mNew names:\n",
      "\u001b[36m•\u001b[39m `` -> `...55`\n"
     ]
    }
   ],
   "source": [
    "soc <- readxl::read_xlsx(paste0(manifestpath, \"SOC_chemo_cycles_AN.xlsx\"))"
   ]
  },
  {
   "cell_type": "code",
   "execution_count": 61,
   "metadata": {
    "vscode": {
     "languageId": "r"
    }
   },
   "outputs": [],
   "source": [
    "soc$Patient <- paste0(\"CHP_\", soc$`Patient ID`)"
   ]
  },
  {
   "cell_type": "code",
   "execution_count": 62,
   "metadata": {
    "vscode": {
     "languageId": "r"
    }
   },
   "outputs": [],
   "source": [
    "soc_good <- soc[ soc$Patient %in% meta_div$Patient,]"
   ]
  },
  {
   "cell_type": "code",
   "execution_count": 63,
   "metadata": {
    "vscode": {
     "languageId": "r"
    }
   },
   "outputs": [],
   "source": [
    "soc_good <- soc_good[ , 1:which(grepl(\"Cycle 5\", colnames(soc_good)))[4]]"
   ]
  },
  {
   "cell_type": "code",
   "execution_count": 64,
   "metadata": {
    "vscode": {
     "languageId": "r"
    }
   },
   "outputs": [],
   "source": [
    "soc_good$Disease <-soc_good$Diagnosis\n",
    "soc_good$Disease[ soc_good$Disease == \"Hepatoblastoma\"] <- \"HB\"\n",
    "soc_good$Disease[soc_good$Disease == \"Ewings\"] <- \"EWS\"\n",
    "soc_good$Disease[soc_good$Disease == \"Burkitts\"] <- \"BL\"\n",
    "soc_good$Disease[soc_good$Disease == \"Burkitts \"] <- \"BL\"\n",
    "soc_good$Disease[soc_good$Disease == \"Burkitt's\"] <- \"BL\"\n",
    "soc_good$Disease[soc_good$Disease == \"Wilms\"] <- \"WILMS\"\n",
    "soc_good$Disease[soc_good$Disease == \"B cell lymphoma\"] <- \"BLL\"\n",
    "soc_good$Disease[soc_good$Disease == \"B lymphoblastic lymphoma\"] <- \"BLL\"\n",
    "soc_good$Disease[soc_good$Disease == \"NBL\"] <- \"NB\"\n",
    "soc_good$Disease[soc_good$Disease == \"aLL\"] <- \"ALL\""
   ]
  },
  {
   "cell_type": "code",
   "execution_count": 65,
   "metadata": {
    "vscode": {
     "languageId": "r"
    }
   },
   "outputs": [],
   "source": [
    "soc_good$Cancergroup <- meta_div$cancergroup[match(soc_good$Disease, meta_div$Disease_type)]"
   ]
  },
  {
   "cell_type": "code",
   "execution_count": 66,
   "metadata": {
    "vscode": {
     "languageId": "r"
    }
   },
   "outputs": [
    {
     "data": {
      "text/html": [
       "111"
      ],
      "text/latex": [
       "111"
      ],
      "text/markdown": [
       "111"
      ],
      "text/plain": [
       "[1] 111"
      ]
     },
     "metadata": {},
     "output_type": "display_data"
    }
   ],
   "source": [
    "length(unique(meta_div$Patient))"
   ]
  },
  {
   "cell_type": "code",
   "execution_count": 67,
   "metadata": {
    "vscode": {
     "languageId": "r"
    }
   },
   "outputs": [
    {
     "data": {
      "text/html": [
       "<style>\n",
       ".list-inline {list-style: none; margin:0; padding: 0}\n",
       ".list-inline>li {display: inline-block}\n",
       ".list-inline>li:not(:last-child)::after {content: \"\\00b7\"; padding: 0 .5ex}\n",
       "</style>\n",
       "<ol class=list-inline><li>111</li><li>24</li></ol>\n"
      ],
      "text/latex": [
       "\\begin{enumerate*}\n",
       "\\item 111\n",
       "\\item 24\n",
       "\\end{enumerate*}\n"
      ],
      "text/markdown": [
       "1. 111\n",
       "2. 24\n",
       "\n",
       "\n"
      ],
      "text/plain": [
       "[1] 111  24"
      ]
     },
     "metadata": {},
     "output_type": "display_data"
    }
   ],
   "source": [
    "dim(soc_good)"
   ]
  },
  {
   "cell_type": "code",
   "execution_count": 68,
   "metadata": {
    "vscode": {
     "languageId": "r"
    }
   },
   "outputs": [],
   "source": [
    "# Save the cleaned soc_good dataframe as CSV\n",
    "write.csv(soc_good, file = \"~/git/ped_CapTCRseq/chemo_cycles_cleaned.csv\", row.names = FALSE)"
   ]
  },
  {
   "cell_type": "code",
   "execution_count": 69,
   "metadata": {
    "vscode": {
     "languageId": "r"
    }
   },
   "outputs": [],
   "source": [
    "# Save the cleaned soc_good dataframe as RDS\n",
    "saveRDS(soc_good, file = file.path(datapath, \"chemo_cycles_cleaned.rds\"))\n"
   ]
  },
  {
   "cell_type": "code",
   "execution_count": null,
   "metadata": {
    "vscode": {
     "languageId": "r"
    }
   },
   "outputs": [],
   "source": []
  }
 ],
 "metadata": {
  "kernelspec": {
   "display_name": "R 4.0",
   "language": "R",
   "name": "ir40"
  },
  "language_info": {
   "codemirror_mode": "r",
   "file_extension": ".r",
   "mimetype": "text/x-r-source",
   "name": "R",
   "pygments_lexer": "r",
   "version": "4.2.2"
  },
  "toc": {
   "base_numbering": 1,
   "nav_menu": {},
   "number_sections": false,
   "sideBar": true,
   "skip_h1_title": false,
   "title_cell": "Table of Contents",
   "title_sidebar": "Contents",
   "toc_cell": true,
   "toc_position": {
    "height": "calc(100% - 180px)",
    "left": "10px",
    "top": "150px",
    "width": "206.5px"
   },
   "toc_section_display": true,
   "toc_window_display": true
  }
 },
 "nbformat": 4,
 "nbformat_minor": 2
}

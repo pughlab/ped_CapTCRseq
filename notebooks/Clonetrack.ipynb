{
 "cells": [
  {
   "cell_type": "markdown",
   "metadata": {},
   "source": [
    "# Dependencies"
   ]
  },
  {
   "cell_type": "code",
   "execution_count": 2,
   "metadata": {
    "vscode": {
     "languageId": "r"
    }
   },
   "outputs": [
    {
     "data": {
      "text/html": [
       "'en_US.UTF-8/en_US.UTF-8/en_US.UTF-8/C/en_US.UTF-8/C'"
      ],
      "text/latex": [
       "'en\\_US.UTF-8/en\\_US.UTF-8/en\\_US.UTF-8/C/en\\_US.UTF-8/C'"
      ],
      "text/markdown": [
       "'en_US.UTF-8/en_US.UTF-8/en_US.UTF-8/C/en_US.UTF-8/C'"
      ],
      "text/plain": [
       "[1] \"en_US.UTF-8/en_US.UTF-8/en_US.UTF-8/C/en_US.UTF-8/C\""
      ]
     },
     "metadata": {},
     "output_type": "display_data"
    }
   ],
   "source": [
    "Sys.setlocale(category = \"LC_ALL\", locale = \"en_US.UTF-8\")"
   ]
  },
  {
   "cell_type": "code",
   "execution_count": 3,
   "metadata": {
    "scrolled": true,
    "vscode": {
     "languageId": "r"
    }
   },
   "outputs": [
    {
     "name": "stderr",
     "output_type": "stream",
     "text": [
      "Loading required package: ggplot2\n",
      "\n"
     ]
    }
   ],
   "source": [
    "library(ggalluvial)\n",
    "library(randomcoloR)"
   ]
  },
  {
   "cell_type": "markdown",
   "metadata": {},
   "source": [
    "# Functions"
   ]
  },
  {
   "cell_type": "code",
   "execution_count": 85,
   "metadata": {
    "vscode": {
     "languageId": "r"
    }
   },
   "outputs": [],
   "source": [
    "source(\"/Users/anabbi/git/ped_CapTCRseq/R/ggplot2_theme.R\")\n",
    "source(\"/Users/anabbi/git/ped_CapTCRseq/R/color_schemes.R\")\n",
    "source(\"/Users/anabbi/git/ped_CapTCRseq/R/Misc_functions.R\")\n",
    "source(\"/Users/anabbi/git/ped_CapTCRseq/R/clonetrack.R\")"
   ]
  },
  {
   "cell_type": "code",
   "execution_count": 5,
   "metadata": {
    "vscode": {
     "languageId": "r"
    }
   },
   "outputs": [],
   "source": [
    "# trbbarplot.fx <- function(metadta, pat) {\n",
    "#       pat_sample <- metadta[metadta$Patient == pat, ] # should not contain NA\n",
    "#       # TRB bar plot\n",
    "#       barpt <- ggplot(data = pat_sample, aes(y = TRB, x = basename)) +\n",
    "#             geom_bar(fill = \"#f3b94e\", colour = \"#030303\", stat = \"identity\") +\n",
    "#             theme(\n",
    "#                   axis.title.x = element_blank(),\n",
    "#                   axis.text.x = element_blank(),\n",
    "#                   axis.line = element_line(color = \"black\"),\n",
    "#                   axis.text = element_text(size = 15),\n",
    "#                   axis.title = element_text(size = 15),\n",
    "#                   legend.position = \"none\"\n",
    "#             ) +\n",
    "#             theme(\n",
    "#                   panel.grid.major = element_blank(),\n",
    "#                   panel.grid.minor = element_blank(),\n",
    "#                   panel.background = element_rect(fill = \"transparent\", colour = NA),\n",
    "#                   panel.border = element_blank(),\n",
    "#                   plot.margin = unit(c(0, 0, 0, 0), \"cm\"),\n",
    "#                   plot.title = element_text(size = 15, hjust = 0.5)\n",
    "#             ) + ggtitle(expression(underline(pat, \":\", unique(pat_sample$Disease_type))))\n",
    "#       return(barpt)\n",
    "# }\n"
   ]
  },
  {
   "cell_type": "code",
   "execution_count": 40,
   "metadata": {
    "vscode": {
     "languageId": "r"
    }
   },
   "outputs": [],
   "source": [
    "trbpointplot.fx <- function(metadta, pat) { # need type_col in global env\n",
    "      pat_sample <- metadta[metadta$Patient == pat, ] # should not contain NA\n",
    "\n",
    "      # order sampletype Tumor, PBMC, cfDNA\n",
    "      pat_sample$sampletype <- factor(pat_sample$sampletype, levels = c(\"Tumor\", \"PBMC\", \"cfDNA\"))\n",
    "      # order samplename by cycle and sampletype\n",
    "      pat_sample$basename <- factor(pat_sample$basename, levels = unique(pat_sample$basename[order(pat_sample$cycle, pat_sample$sampletype)]))\n",
    "\n",
    "      # TRB bar plot\n",
    "      pointp <- ggplot(data = pat_sample, aes(y = TRB, x = basename, color = sampletype)) +\n",
    "            geom_point(size = 5) +\n",
    "            theme(\n",
    "                  axis.title.x = element_blank(),\n",
    "                  axis.text.x = element_blank(),\n",
    "                  axis.line = element_line(color = \"black\"),\n",
    "                  axis.text = element_text(size = 15),\n",
    "                  axis.title = element_text(size = 15),\n",
    "                  legend.position = \"none\"\n",
    "            ) +\n",
    "            theme(\n",
    "                  panel.grid.major = element_blank(),\n",
    "                  panel.grid.minor = element_blank(),\n",
    "                  panel.background = element_rect(fill = \"transparent\", colour = NA),\n",
    "                  panel.border = element_blank(),\n",
    "                  plot.margin = unit(c(1, 0, 0, 0), \"cm\"),\n",
    "                  plot.title = element_text(size = 15, hjust = 0.5)\n",
    "            ) +\n",
    "            scale_y_continuous(trans = \"log10\") +\n",
    "            annotation_logticks(sides = \"l\") + # log10 scale\n",
    "            scale_color_manual(values = type_col) +\n",
    "            ggtitle(paste0(pat, \" : \", unique(pat_sample$Disease_type)))\n",
    "\n",
    "      return(pointp)\n",
    "}\n"
   ]
  },
  {
   "cell_type": "code",
   "execution_count": 64,
   "metadata": {
    "vscode": {
     "languageId": "r"
    }
   },
   "outputs": [],
   "source": [
    "order_cdr3df.fx <- function(mycdr3df) { # output from cdr3_dataframe.fx\n",
    "\n",
    "    mycdr3df$sampletype <- NA\n",
    "    mycdr3df$sampletype[grepl(\"PBMC\", mycdr3df$samplename)] <- \"PBMC\"\n",
    "    mycdr3df$sampletype[grepl(\"cfDNA\", mycdr3df$samplename)] <- \"cfDNA\"\n",
    "    mycdr3df$sampletype[grepl(\"FFPE\", mycdr3df$samplename)] <- \"Tumor\"\n",
    "\n",
    "    # create column cycle in cdr3df and add cycle info from samplename\n",
    "    mycdr3df$cycle <- NA\n",
    "    mycdr3df$cycle[grepl(\"FFPE\", mycdr3df$samplename)] <- \"Baseline\"\n",
    "    mycdr3df$cycle[grepl(\"-01\", mycdr3df$samplename)] <- \"Pre-cycle 1\"\n",
    "    mycdr3df$cycle[grepl(\"-02\", mycdr3df$samplename)] <- \"Pre-cycle 2\"\n",
    "    mycdr3df$cycle[grepl(\"-03\", mycdr3df$samplename)] <- \"Pre-cycle 3\"\n",
    "    mycdr3df$cycle[grepl(\"-04\", mycdr3df$samplename)] <- \"Pre-cycle 4\"\n",
    "    mycdr3df$cycle[grepl(\"-05\", mycdr3df$samplename)] <- \"Pre-cycle 5\"\n",
    "\n",
    "    mycdr3df$samplelabel <- paste0(mycdr3df$cycle, \" - \", mycdr3df$sampletype) # for plotting\n",
    "\n",
    "    # order sampletype Tumor, PBMC, cfDNA\n",
    "    mycdr3df$sampletype <- factor(mycdr3df$sampletype, levels = c(\"Tumor\", \"PBMC\", \"cfDNA\"))\n",
    "    # order samplename by cycle and sampletype\n",
    "    mycdr3df$samplename <- factor(mycdr3df$samplename, levels = unique(mycdr3df$samplename[order(mycdr3df$cycle, mycdr3df$sampletype)]))\n",
    "# order samplelabel same as samplename \n",
    "    mycdr3df$samplelabel <- factor(mycdr3df$samplelabel, levels = unique(mycdr3df$samplelabel[order(mycdr3df$cycle, mycdr3df$sampletype)]))\n",
    "\n",
    "    return(mycdr3df)\n",
    "}"
   ]
  },
  {
   "cell_type": "markdown",
   "metadata": {},
   "source": [
    "# Paths"
   ]
  },
  {
   "cell_type": "code",
   "execution_count": 8,
   "metadata": {
    "vscode": {
     "languageId": "r"
    }
   },
   "outputs": [],
   "source": [
    "datapath <- \"/Users/anabbi/OneDrive - UHN/Documents/INTERCEPT/Data/\"\n",
    "plotpath <- \"/Users/anabbi/OneDrive - UHN/Documents/INTERCEPT/Plots/\"\n",
    "manifestpath <- \"/Users/anabbi/OneDrive - UHN/Documents/INTERCEPT/Manifests/\"\n",
    "gitpath <- \"/Users/anabbi/git/ped_CapTCRseq/\""
   ]
  },
  {
   "cell_type": "code",
   "execution_count": 9,
   "metadata": {
    "vscode": {
     "languageId": "r"
    }
   },
   "outputs": [],
   "source": [
    "h4hpath <- \"/Users/anabbi/Desktop/H4H/INTERCEPT/\""
   ]
  },
  {
   "cell_type": "markdown",
   "metadata": {},
   "source": [
    "# Main"
   ]
  },
  {
   "cell_type": "code",
   "execution_count": 10,
   "metadata": {
    "vscode": {
     "languageId": "r"
    }
   },
   "outputs": [],
   "source": [
    "meta_div <- readr::read_rds(paste0(datapath, \"capTCRseq/meta_div_goodsamples.rds\"))"
   ]
  },
  {
   "cell_type": "code",
   "execution_count": 11,
   "metadata": {
    "vscode": {
     "languageId": "r"
    }
   },
   "outputs": [],
   "source": [
    "meta_div <- meta_div[ !is.na(meta_div$TRB),]"
   ]
  },
  {
   "cell_type": "code",
   "execution_count": 12,
   "metadata": {
    "vscode": {
     "languageId": "r"
    }
   },
   "outputs": [
    {
     "data": {
      "text/html": [
       "<table class=\"dataframe\">\n",
       "<caption>A data.frame: 6 x 66</caption>\n",
       "<thead>\n",
       "\t<tr><th></th><th scope=col>sample_id</th><th scope=col>Patient</th><th scope=col>cycle</th><th scope=col>FOLD</th><th scope=col>ATC</th><th scope=col>Age</th><th scope=col>Disease_type</th><th scope=col>TE_fold</th><th scope=col>CD3</th><th scope=col>EM</th><th scope=col>...</th><th scope=col>estimated_Shannon</th><th scope=col>SE_Shannon</th><th scope=col>observed_Simpson</th><th scope=col>estimated_Simpson</th><th scope=col>SE_Simpson</th><th scope=col>basename</th><th scope=col>file</th><th scope=col>sampletype</th><th scope=col>Group</th><th scope=col>log10shann</th></tr>\n",
       "\t<tr><th></th><th scope=col>&lt;chr&gt;</th><th scope=col>&lt;chr&gt;</th><th scope=col>&lt;chr&gt;</th><th scope=col>&lt;dbl&gt;</th><th scope=col>&lt;dbl&gt;</th><th scope=col>&lt;dbl&gt;</th><th scope=col>&lt;chr&gt;</th><th scope=col>&lt;dbl&gt;</th><th scope=col>&lt;int&gt;</th><th scope=col>&lt;int&gt;</th><th scope=col>...</th><th scope=col>&lt;dbl&gt;</th><th scope=col>&lt;dbl&gt;</th><th scope=col>&lt;dbl&gt;</th><th scope=col>&lt;dbl&gt;</th><th scope=col>&lt;dbl&gt;</th><th scope=col>&lt;chr&gt;</th><th scope=col>&lt;chr&gt;</th><th scope=col>&lt;chr&gt;</th><th scope=col>&lt;chr&gt;</th><th scope=col>&lt;dbl&gt;</th></tr>\n",
       "</thead>\n",
       "<tbody>\n",
       "\t<tr><th scope=row>287</th><td>CHP_10YO_M_00  </td><td>CHP_10YO_M  </td><td>X00</td><td>NA</td><td>NA</td><td>NA</td><td>Normal</td><td>NA</td><td>NA</td><td>NA</td><td>...</td><td>10.601</td><td>0.073</td><td> 8.556</td><td> 8.561</td><td>0.094</td><td>CHP_10YO-M_PBMC_DNA  </td><td>batchNormal_16Apr2020/mixcr/clones/CLONES_TRBCHP_10YO-M_PBMC_DNA.txt  </td><td>PBMC</td><td>CHP</td><td>1.0249370</td></tr>\n",
       "\t<tr><th scope=row>288</th><td>CHP_11YO_M_00  </td><td>CHP_11YO_M  </td><td>X00</td><td>NA</td><td>NA</td><td>NA</td><td>Normal</td><td>NA</td><td>NA</td><td>NA</td><td>...</td><td>11.614</td><td>0.054</td><td>10.406</td><td>10.414</td><td>0.066</td><td>CHP_11YO-M_PBMC_DNA  </td><td>batchNormal_16Apr2020/mixcr/clones/CLONES_TRBCHP_11YO-M_PBMC_DNA.txt  </td><td>PBMC</td><td>CHP</td><td>1.0647200</td></tr>\n",
       "\t<tr><th scope=row>289</th><td>CHP_15YO_F_A_00</td><td>CHP_15YO_F_A</td><td>X00</td><td>NA</td><td>NA</td><td>NA</td><td>Normal</td><td>NA</td><td>NA</td><td>NA</td><td>...</td><td> 8.989</td><td>0.036</td><td> 8.560</td><td> 8.570</td><td>0.060</td><td>CHP_15YO-F-A_PBMC_DNA</td><td>batchNormal_16Apr2020/mixcr/clones/CLONES_TRBCHP_15YO-F-A_PBMC_DNA.txt</td><td>PBMC</td><td>CHP</td><td>0.9533731</td></tr>\n",
       "\t<tr><th scope=row>290</th><td>CHP_15YO_F_B_00</td><td>CHP_15YO_F_B</td><td>X00</td><td>NA</td><td>NA</td><td>NA</td><td>Normal</td><td>NA</td><td>NA</td><td>NA</td><td>...</td><td> 6.334</td><td>0.040</td><td> 5.870</td><td> 5.876</td><td>0.066</td><td>CHP_15YO-F-B_PBMC_DNA</td><td>batchNormal_16Apr2020/mixcr/clones/CLONES_TRBCHP_15YO-F-B_PBMC_DNA.txt</td><td>PBMC</td><td>CHP</td><td>0.8014037</td></tr>\n",
       "\t<tr><th scope=row>291</th><td>CHP_15YO_M_00  </td><td>CHP_15YO_M  </td><td>X00</td><td>NA</td><td>NA</td><td>NA</td><td>Normal</td><td>NA</td><td>NA</td><td>NA</td><td>...</td><td>21.120</td><td>0.040</td><td>20.321</td><td>20.339</td><td>0.068</td><td>CHP_15YO-M_PBMC_DNA  </td><td>batchNormal_16Apr2020/mixcr/clones/CLONES_TRBCHP_15YO-M_PBMC_DNA.txt  </td><td>PBMC</td><td>CHP</td><td>1.3244882</td></tr>\n",
       "\t<tr><th scope=row>292</th><td>CHP_16YO_M_00  </td><td>CHP_16YO_M  </td><td>X00</td><td>NA</td><td>NA</td><td>NA</td><td>Normal</td><td>NA</td><td>NA</td><td>NA</td><td>...</td><td> 3.973</td><td>0.007</td><td> 3.944</td><td> 3.946</td><td>0.013</td><td>CHP_16YO-M_PBMC_DNA  </td><td>batchNormal_16Apr2020/mixcr/clones/CLONES_TRBCHP_16YO-M_PBMC_DNA.txt  </td><td>PBMC</td><td>CHP</td><td>0.5990092</td></tr>\n",
       "</tbody>\n",
       "</table>\n"
      ],
      "text/latex": [
       "A data.frame: 6 x 66\n",
       "\\begin{tabular}{r|lllllllllllllllllllll}\n",
       "  & sample\\_id & Patient & cycle & FOLD & ATC & Age & Disease\\_type & TE\\_fold & CD3 & EM & ... & estimated\\_Shannon & SE\\_Shannon & observed\\_Simpson & estimated\\_Simpson & SE\\_Simpson & basename & file & sampletype & Group & log10shann\\\\\n",
       "  & <chr> & <chr> & <chr> & <dbl> & <dbl> & <dbl> & <chr> & <dbl> & <int> & <int> & ... & <dbl> & <dbl> & <dbl> & <dbl> & <dbl> & <chr> & <chr> & <chr> & <chr> & <dbl>\\\\\n",
       "\\hline\n",
       "\t287 & CHP\\_10YO\\_M\\_00   & CHP\\_10YO\\_M   & X00 & NA & NA & NA & Normal & NA & NA & NA & ... & 10.601 & 0.073 &  8.556 &  8.561 & 0.094 & CHP\\_10YO-M\\_PBMC\\_DNA   & batchNormal\\_16Apr2020/mixcr/clones/CLONES\\_TRBCHP\\_10YO-M\\_PBMC\\_DNA.txt   & PBMC & CHP & 1.0249370\\\\\n",
       "\t288 & CHP\\_11YO\\_M\\_00   & CHP\\_11YO\\_M   & X00 & NA & NA & NA & Normal & NA & NA & NA & ... & 11.614 & 0.054 & 10.406 & 10.414 & 0.066 & CHP\\_11YO-M\\_PBMC\\_DNA   & batchNormal\\_16Apr2020/mixcr/clones/CLONES\\_TRBCHP\\_11YO-M\\_PBMC\\_DNA.txt   & PBMC & CHP & 1.0647200\\\\\n",
       "\t289 & CHP\\_15YO\\_F\\_A\\_00 & CHP\\_15YO\\_F\\_A & X00 & NA & NA & NA & Normal & NA & NA & NA & ... &  8.989 & 0.036 &  8.560 &  8.570 & 0.060 & CHP\\_15YO-F-A\\_PBMC\\_DNA & batchNormal\\_16Apr2020/mixcr/clones/CLONES\\_TRBCHP\\_15YO-F-A\\_PBMC\\_DNA.txt & PBMC & CHP & 0.9533731\\\\\n",
       "\t290 & CHP\\_15YO\\_F\\_B\\_00 & CHP\\_15YO\\_F\\_B & X00 & NA & NA & NA & Normal & NA & NA & NA & ... &  6.334 & 0.040 &  5.870 &  5.876 & 0.066 & CHP\\_15YO-F-B\\_PBMC\\_DNA & batchNormal\\_16Apr2020/mixcr/clones/CLONES\\_TRBCHP\\_15YO-F-B\\_PBMC\\_DNA.txt & PBMC & CHP & 0.8014037\\\\\n",
       "\t291 & CHP\\_15YO\\_M\\_00   & CHP\\_15YO\\_M   & X00 & NA & NA & NA & Normal & NA & NA & NA & ... & 21.120 & 0.040 & 20.321 & 20.339 & 0.068 & CHP\\_15YO-M\\_PBMC\\_DNA   & batchNormal\\_16Apr2020/mixcr/clones/CLONES\\_TRBCHP\\_15YO-M\\_PBMC\\_DNA.txt   & PBMC & CHP & 1.3244882\\\\\n",
       "\t292 & CHP\\_16YO\\_M\\_00   & CHP\\_16YO\\_M   & X00 & NA & NA & NA & Normal & NA & NA & NA & ... &  3.973 & 0.007 &  3.944 &  3.946 & 0.013 & CHP\\_16YO-M\\_PBMC\\_DNA   & batchNormal\\_16Apr2020/mixcr/clones/CLONES\\_TRBCHP\\_16YO-M\\_PBMC\\_DNA.txt   & PBMC & CHP & 0.5990092\\\\\n",
       "\\end{tabular}\n"
      ],
      "text/markdown": [
       "\n",
       "A data.frame: 6 x 66\n",
       "\n",
       "| <!--/--> | sample_id &lt;chr&gt; | Patient &lt;chr&gt; | cycle &lt;chr&gt; | FOLD &lt;dbl&gt; | ATC &lt;dbl&gt; | Age &lt;dbl&gt; | Disease_type &lt;chr&gt; | TE_fold &lt;dbl&gt; | CD3 &lt;int&gt; | EM &lt;int&gt; | ... ... | estimated_Shannon &lt;dbl&gt; | SE_Shannon &lt;dbl&gt; | observed_Simpson &lt;dbl&gt; | estimated_Simpson &lt;dbl&gt; | SE_Simpson &lt;dbl&gt; | basename &lt;chr&gt; | file &lt;chr&gt; | sampletype &lt;chr&gt; | Group &lt;chr&gt; | log10shann &lt;dbl&gt; |\n",
       "|---|---|---|---|---|---|---|---|---|---|---|---|---|---|---|---|---|---|---|---|---|---|\n",
       "| 287 | CHP_10YO_M_00   | CHP_10YO_M   | X00 | NA | NA | NA | Normal | NA | NA | NA | ... | 10.601 | 0.073 |  8.556 |  8.561 | 0.094 | CHP_10YO-M_PBMC_DNA   | batchNormal_16Apr2020/mixcr/clones/CLONES_TRBCHP_10YO-M_PBMC_DNA.txt   | PBMC | CHP | 1.0249370 |\n",
       "| 288 | CHP_11YO_M_00   | CHP_11YO_M   | X00 | NA | NA | NA | Normal | NA | NA | NA | ... | 11.614 | 0.054 | 10.406 | 10.414 | 0.066 | CHP_11YO-M_PBMC_DNA   | batchNormal_16Apr2020/mixcr/clones/CLONES_TRBCHP_11YO-M_PBMC_DNA.txt   | PBMC | CHP | 1.0647200 |\n",
       "| 289 | CHP_15YO_F_A_00 | CHP_15YO_F_A | X00 | NA | NA | NA | Normal | NA | NA | NA | ... |  8.989 | 0.036 |  8.560 |  8.570 | 0.060 | CHP_15YO-F-A_PBMC_DNA | batchNormal_16Apr2020/mixcr/clones/CLONES_TRBCHP_15YO-F-A_PBMC_DNA.txt | PBMC | CHP | 0.9533731 |\n",
       "| 290 | CHP_15YO_F_B_00 | CHP_15YO_F_B | X00 | NA | NA | NA | Normal | NA | NA | NA | ... |  6.334 | 0.040 |  5.870 |  5.876 | 0.066 | CHP_15YO-F-B_PBMC_DNA | batchNormal_16Apr2020/mixcr/clones/CLONES_TRBCHP_15YO-F-B_PBMC_DNA.txt | PBMC | CHP | 0.8014037 |\n",
       "| 291 | CHP_15YO_M_00   | CHP_15YO_M   | X00 | NA | NA | NA | Normal | NA | NA | NA | ... | 21.120 | 0.040 | 20.321 | 20.339 | 0.068 | CHP_15YO-M_PBMC_DNA   | batchNormal_16Apr2020/mixcr/clones/CLONES_TRBCHP_15YO-M_PBMC_DNA.txt   | PBMC | CHP | 1.3244882 |\n",
       "| 292 | CHP_16YO_M_00   | CHP_16YO_M   | X00 | NA | NA | NA | Normal | NA | NA | NA | ... |  3.973 | 0.007 |  3.944 |  3.946 | 0.013 | CHP_16YO-M_PBMC_DNA   | batchNormal_16Apr2020/mixcr/clones/CLONES_TRBCHP_16YO-M_PBMC_DNA.txt   | PBMC | CHP | 0.5990092 |\n",
       "\n"
      ],
      "text/plain": [
       "    sample_id       Patient      cycle FOLD ATC Age Disease_type TE_fold CD3 EM\n",
       "287 CHP_10YO_M_00   CHP_10YO_M   X00   NA   NA  NA  Normal       NA      NA  NA\n",
       "288 CHP_11YO_M_00   CHP_11YO_M   X00   NA   NA  NA  Normal       NA      NA  NA\n",
       "289 CHP_15YO_F_A_00 CHP_15YO_F_A X00   NA   NA  NA  Normal       NA      NA  NA\n",
       "290 CHP_15YO_F_B_00 CHP_15YO_F_B X00   NA   NA  NA  Normal       NA      NA  NA\n",
       "291 CHP_15YO_M_00   CHP_15YO_M   X00   NA   NA  NA  Normal       NA      NA  NA\n",
       "292 CHP_16YO_M_00   CHP_16YO_M   X00   NA   NA  NA  Normal       NA      NA  NA\n",
       "    ... estimated_Shannon SE_Shannon observed_Simpson estimated_Simpson\n",
       "287 ... 10.601            0.073       8.556            8.561           \n",
       "288 ... 11.614            0.054      10.406           10.414           \n",
       "289 ...  8.989            0.036       8.560            8.570           \n",
       "290 ...  6.334            0.040       5.870            5.876           \n",
       "291 ... 21.120            0.040      20.321           20.339           \n",
       "292 ...  3.973            0.007       3.944            3.946           \n",
       "    SE_Simpson basename             \n",
       "287 0.094      CHP_10YO-M_PBMC_DNA  \n",
       "288 0.066      CHP_11YO-M_PBMC_DNA  \n",
       "289 0.060      CHP_15YO-F-A_PBMC_DNA\n",
       "290 0.066      CHP_15YO-F-B_PBMC_DNA\n",
       "291 0.068      CHP_15YO-M_PBMC_DNA  \n",
       "292 0.013      CHP_16YO-M_PBMC_DNA  \n",
       "    file                                                                  \n",
       "287 batchNormal_16Apr2020/mixcr/clones/CLONES_TRBCHP_10YO-M_PBMC_DNA.txt  \n",
       "288 batchNormal_16Apr2020/mixcr/clones/CLONES_TRBCHP_11YO-M_PBMC_DNA.txt  \n",
       "289 batchNormal_16Apr2020/mixcr/clones/CLONES_TRBCHP_15YO-F-A_PBMC_DNA.txt\n",
       "290 batchNormal_16Apr2020/mixcr/clones/CLONES_TRBCHP_15YO-F-B_PBMC_DNA.txt\n",
       "291 batchNormal_16Apr2020/mixcr/clones/CLONES_TRBCHP_15YO-M_PBMC_DNA.txt  \n",
       "292 batchNormal_16Apr2020/mixcr/clones/CLONES_TRBCHP_16YO-M_PBMC_DNA.txt  \n",
       "    sampletype Group log10shann\n",
       "287 PBMC       CHP   1.0249370 \n",
       "288 PBMC       CHP   1.0647200 \n",
       "289 PBMC       CHP   0.9533731 \n",
       "290 PBMC       CHP   0.8014037 \n",
       "291 PBMC       CHP   1.3244882 \n",
       "292 PBMC       CHP   0.5990092 "
      ]
     },
     "metadata": {},
     "output_type": "display_data"
    }
   ],
   "source": [
    "head(meta_div)"
   ]
  },
  {
   "cell_type": "code",
   "execution_count": 13,
   "metadata": {
    "vscode": {
     "languageId": "r"
    }
   },
   "outputs": [
    {
     "data": {
      "text/html": [
       "<table class=\"dataframe\">\n",
       "<caption>A data.frame: 5 x 6</caption>\n",
       "<thead>\n",
       "\t<tr><th></th><th scope=col>Patient</th><th scope=col>cycle</th><th scope=col>sampletype</th><th scope=col>TRB</th><th scope=col>Reads</th><th scope=col>file</th></tr>\n",
       "\t<tr><th></th><th scope=col>&lt;chr&gt;</th><th scope=col>&lt;chr&gt;</th><th scope=col>&lt;chr&gt;</th><th scope=col>&lt;int&gt;</th><th scope=col>&lt;int&gt;</th><th scope=col>&lt;chr&gt;</th></tr>\n",
       "</thead>\n",
       "<tbody>\n",
       "\t<tr><th scope=row>638</th><td>CHP_387</td><td>X01</td><td>PBMC </td><td>279</td><td>14179</td><td>batch8_14Jan2020/mixcr/clones/CLONES_TRBCHP_387-01-PBMC-DNA.txt                </td></tr>\n",
       "\t<tr><th scope=row>640</th><td>CHP_387</td><td>X03</td><td>PBMC </td><td> 58</td><td>  343</td><td>batch11_23Apr2020/mixcr/clones/CLONES_TRBCHP_387-03_PBMC_DNA.txt               </td></tr>\n",
       "\t<tr><th scope=row>173</th><td>CHP_387</td><td>X01</td><td>cfDNA</td><td>  5</td><td>15263</td><td>batch7_cfDNA_29Jun2020/mixcr/clones/CLONES_TRBCHP_387-01_cfDNA.txt             </td></tr>\n",
       "\t<tr><th scope=row>174</th><td>CHP_387</td><td>X02</td><td>cfDNA</td><td>  4</td><td> 1749</td><td>remaining_batch_2_cfDNA_15April2021/mixcr/clones/CLONES_TRBCHP_387-02_cfDNA.txt</td></tr>\n",
       "\t<tr><th scope=row>175</th><td>CHP_387</td><td>X03</td><td>cfDNA</td><td> 10</td><td> 8141</td><td>batch11_cfDNA_11Sep2020/mixcr/clones/CLONES_TRBCHP_387-03_cfDNA.txt            </td></tr>\n",
       "</tbody>\n",
       "</table>\n"
      ],
      "text/latex": [
       "A data.frame: 5 x 6\n",
       "\\begin{tabular}{r|llllll}\n",
       "  & Patient & cycle & sampletype & TRB & Reads & file\\\\\n",
       "  & <chr> & <chr> & <chr> & <int> & <int> & <chr>\\\\\n",
       "\\hline\n",
       "\t638 & CHP\\_387 & X01 & PBMC  & 279 & 14179 & batch8\\_14Jan2020/mixcr/clones/CLONES\\_TRBCHP\\_387-01-PBMC-DNA.txt                \\\\\n",
       "\t640 & CHP\\_387 & X03 & PBMC  &  58 &   343 & batch11\\_23Apr2020/mixcr/clones/CLONES\\_TRBCHP\\_387-03\\_PBMC\\_DNA.txt               \\\\\n",
       "\t173 & CHP\\_387 & X01 & cfDNA &   5 & 15263 & batch7\\_cfDNA\\_29Jun2020/mixcr/clones/CLONES\\_TRBCHP\\_387-01\\_cfDNA.txt             \\\\\n",
       "\t174 & CHP\\_387 & X02 & cfDNA &   4 &  1749 & remaining\\_batch\\_2\\_cfDNA\\_15April2021/mixcr/clones/CLONES\\_TRBCHP\\_387-02\\_cfDNA.txt\\\\\n",
       "\t175 & CHP\\_387 & X03 & cfDNA &  10 &  8141 & batch11\\_cfDNA\\_11Sep2020/mixcr/clones/CLONES\\_TRBCHP\\_387-03\\_cfDNA.txt            \\\\\n",
       "\\end{tabular}\n"
      ],
      "text/markdown": [
       "\n",
       "A data.frame: 5 x 6\n",
       "\n",
       "| <!--/--> | Patient &lt;chr&gt; | cycle &lt;chr&gt; | sampletype &lt;chr&gt; | TRB &lt;int&gt; | Reads &lt;int&gt; | file &lt;chr&gt; |\n",
       "|---|---|---|---|---|---|---|\n",
       "| 638 | CHP_387 | X01 | PBMC  | 279 | 14179 | batch8_14Jan2020/mixcr/clones/CLONES_TRBCHP_387-01-PBMC-DNA.txt                 |\n",
       "| 640 | CHP_387 | X03 | PBMC  |  58 |   343 | batch11_23Apr2020/mixcr/clones/CLONES_TRBCHP_387-03_PBMC_DNA.txt                |\n",
       "| 173 | CHP_387 | X01 | cfDNA |   5 | 15263 | batch7_cfDNA_29Jun2020/mixcr/clones/CLONES_TRBCHP_387-01_cfDNA.txt              |\n",
       "| 174 | CHP_387 | X02 | cfDNA |   4 |  1749 | remaining_batch_2_cfDNA_15April2021/mixcr/clones/CLONES_TRBCHP_387-02_cfDNA.txt |\n",
       "| 175 | CHP_387 | X03 | cfDNA |  10 |  8141 | batch11_cfDNA_11Sep2020/mixcr/clones/CLONES_TRBCHP_387-03_cfDNA.txt             |\n",
       "\n"
      ],
      "text/plain": [
       "    Patient cycle sampletype TRB Reads\n",
       "638 CHP_387 X01   PBMC       279 14179\n",
       "640 CHP_387 X03   PBMC        58   343\n",
       "173 CHP_387 X01   cfDNA        5 15263\n",
       "174 CHP_387 X02   cfDNA        4  1749\n",
       "175 CHP_387 X03   cfDNA       10  8141\n",
       "    file                                                                           \n",
       "638 batch8_14Jan2020/mixcr/clones/CLONES_TRBCHP_387-01-PBMC-DNA.txt                \n",
       "640 batch11_23Apr2020/mixcr/clones/CLONES_TRBCHP_387-03_PBMC_DNA.txt               \n",
       "173 batch7_cfDNA_29Jun2020/mixcr/clones/CLONES_TRBCHP_387-01_cfDNA.txt             \n",
       "174 remaining_batch_2_cfDNA_15April2021/mixcr/clones/CLONES_TRBCHP_387-02_cfDNA.txt\n",
       "175 batch11_cfDNA_11Sep2020/mixcr/clones/CLONES_TRBCHP_387-03_cfDNA.txt            "
      ]
     },
     "metadata": {},
     "output_type": "display_data"
    }
   ],
   "source": [
    "meta_div[ meta_div$Patient == \"CHP_387\",c(\"Patient\", \"cycle\", \"sampletype\", \"TRB\", \"Reads\", \"file\")]"
   ]
  },
  {
   "cell_type": "code",
   "execution_count": 14,
   "metadata": {
    "vscode": {
     "languageId": "r"
    }
   },
   "outputs": [],
   "source": [
    "mytab <- as.data.frame.matrix(table(meta_div$Patient, meta_div$sampletype) )"
   ]
  },
  {
   "cell_type": "code",
   "execution_count": 15,
   "metadata": {
    "vscode": {
     "languageId": "r"
    }
   },
   "outputs": [],
   "source": [
    "morethanone <- mytab[rowSums(mytab) > 1, ]"
   ]
  },
  {
   "cell_type": "code",
   "execution_count": 16,
   "metadata": {
    "vscode": {
     "languageId": "r"
    }
   },
   "outputs": [
    {
     "data": {
      "text/html": [
       "<table class=\"dataframe\">\n",
       "<caption>A data.frame: 86 x 3</caption>\n",
       "<thead>\n",
       "\t<tr><th></th><th scope=col>cfDNA</th><th scope=col>PBMC</th><th scope=col>Tumor</th></tr>\n",
       "\t<tr><th></th><th scope=col>&lt;int&gt;</th><th scope=col>&lt;int&gt;</th><th scope=col>&lt;int&gt;</th></tr>\n",
       "</thead>\n",
       "<tbody>\n",
       "\t<tr><th scope=row>CHP_323</th><td>2</td><td>2</td><td>0</td></tr>\n",
       "\t<tr><th scope=row>CHP_324</th><td>2</td><td>1</td><td>0</td></tr>\n",
       "\t<tr><th scope=row>CHP_328</th><td>1</td><td>2</td><td>0</td></tr>\n",
       "\t<tr><th scope=row>CHP_330</th><td>1</td><td>1</td><td>0</td></tr>\n",
       "\t<tr><th scope=row>CHP_331</th><td>1</td><td>2</td><td>0</td></tr>\n",
       "\t<tr><th scope=row>CHP_334</th><td>3</td><td>0</td><td>0</td></tr>\n",
       "\t<tr><th scope=row>CHP_335</th><td>2</td><td>1</td><td>0</td></tr>\n",
       "\t<tr><th scope=row>CHP_336</th><td>3</td><td>0</td><td>0</td></tr>\n",
       "\t<tr><th scope=row>CHP_337</th><td>3</td><td>0</td><td>0</td></tr>\n",
       "\t<tr><th scope=row>CHP_338</th><td>2</td><td>3</td><td>0</td></tr>\n",
       "\t<tr><th scope=row>CHP_339</th><td>2</td><td>2</td><td>0</td></tr>\n",
       "\t<tr><th scope=row>CHP_340</th><td>3</td><td>3</td><td>0</td></tr>\n",
       "\t<tr><th scope=row>CHP_342</th><td>1</td><td>1</td><td>0</td></tr>\n",
       "\t<tr><th scope=row>CHP_343</th><td>4</td><td>4</td><td>0</td></tr>\n",
       "\t<tr><th scope=row>CHP_344</th><td>5</td><td>3</td><td>1</td></tr>\n",
       "\t<tr><th scope=row>CHP_345</th><td>3</td><td>3</td><td>0</td></tr>\n",
       "\t<tr><th scope=row>CHP_347</th><td>4</td><td>5</td><td>0</td></tr>\n",
       "\t<tr><th scope=row>CHP_348</th><td>5</td><td>2</td><td>0</td></tr>\n",
       "\t<tr><th scope=row>CHP_349</th><td>1</td><td>2</td><td>0</td></tr>\n",
       "\t<tr><th scope=row>CHP_350</th><td>2</td><td>5</td><td>0</td></tr>\n",
       "\t<tr><th scope=row>CHP_351</th><td>3</td><td>1</td><td>0</td></tr>\n",
       "\t<tr><th scope=row>CHP_353</th><td>4</td><td>3</td><td>0</td></tr>\n",
       "\t<tr><th scope=row>CHP_355</th><td>2</td><td>1</td><td>0</td></tr>\n",
       "\t<tr><th scope=row>CHP_356</th><td>3</td><td>3</td><td>0</td></tr>\n",
       "\t<tr><th scope=row>CHP_357</th><td>5</td><td>5</td><td>0</td></tr>\n",
       "\t<tr><th scope=row>CHP_358</th><td>4</td><td>2</td><td>0</td></tr>\n",
       "\t<tr><th scope=row>CHP_359</th><td>4</td><td>3</td><td>0</td></tr>\n",
       "\t<tr><th scope=row>CHP_360</th><td>5</td><td>3</td><td>0</td></tr>\n",
       "\t<tr><th scope=row>CHP_361</th><td>5</td><td>4</td><td>1</td></tr>\n",
       "\t<tr><th scope=row>CHP_362</th><td>4</td><td>4</td><td>0</td></tr>\n",
       "\t<tr><th scope=row>...</th><td>...</td><td>...</td><td>...</td></tr>\n",
       "\t<tr><th scope=row>CHP_391</th><td>2</td><td>3</td><td>0</td></tr>\n",
       "\t<tr><th scope=row>CHP_392</th><td>3</td><td>1</td><td>0</td></tr>\n",
       "\t<tr><th scope=row>CHP_393</th><td>4</td><td>2</td><td>0</td></tr>\n",
       "\t<tr><th scope=row>CHP_394</th><td>3</td><td>2</td><td>1</td></tr>\n",
       "\t<tr><th scope=row>CHP_395</th><td>2</td><td>0</td><td>0</td></tr>\n",
       "\t<tr><th scope=row>CHP_396</th><td>4</td><td>3</td><td>0</td></tr>\n",
       "\t<tr><th scope=row>CHP_397</th><td>5</td><td>2</td><td>0</td></tr>\n",
       "\t<tr><th scope=row>CHP_398</th><td>3</td><td>2</td><td>0</td></tr>\n",
       "\t<tr><th scope=row>CHP_399</th><td>3</td><td>3</td><td>0</td></tr>\n",
       "\t<tr><th scope=row>CHP_400</th><td>4</td><td>3</td><td>1</td></tr>\n",
       "\t<tr><th scope=row>CHP_401</th><td>4</td><td>2</td><td>1</td></tr>\n",
       "\t<tr><th scope=row>CHP_402</th><td>3</td><td>2</td><td>0</td></tr>\n",
       "\t<tr><th scope=row>CHP_403</th><td>2</td><td>2</td><td>0</td></tr>\n",
       "\t<tr><th scope=row>CHP_404</th><td>5</td><td>3</td><td>2</td></tr>\n",
       "\t<tr><th scope=row>CHP_405</th><td>4</td><td>5</td><td>0</td></tr>\n",
       "\t<tr><th scope=row>CHP_407</th><td>4</td><td>3</td><td>1</td></tr>\n",
       "\t<tr><th scope=row>CHP_408</th><td>3</td><td>3</td><td>0</td></tr>\n",
       "\t<tr><th scope=row>CHP_409</th><td>3</td><td>4</td><td>0</td></tr>\n",
       "\t<tr><th scope=row>CHP_410</th><td>3</td><td>3</td><td>0</td></tr>\n",
       "\t<tr><th scope=row>CHP_411</th><td>2</td><td>1</td><td>0</td></tr>\n",
       "\t<tr><th scope=row>CHP_412</th><td>3</td><td>3</td><td>1</td></tr>\n",
       "\t<tr><th scope=row>CHP_413</th><td>2</td><td>2</td><td>0</td></tr>\n",
       "\t<tr><th scope=row>CHP_414</th><td>3</td><td>3</td><td>0</td></tr>\n",
       "\t<tr><th scope=row>CHP_415</th><td>3</td><td>3</td><td>0</td></tr>\n",
       "\t<tr><th scope=row>CHP_416</th><td>2</td><td>1</td><td>0</td></tr>\n",
       "\t<tr><th scope=row>CHP_417</th><td>1</td><td>1</td><td>0</td></tr>\n",
       "\t<tr><th scope=row>CHP_418</th><td>2</td><td>2</td><td>1</td></tr>\n",
       "\t<tr><th scope=row>CHP_419</th><td>1</td><td>1</td><td>0</td></tr>\n",
       "\t<tr><th scope=row>CHP_420</th><td>1</td><td>1</td><td>0</td></tr>\n",
       "\t<tr><th scope=row>CHP_422</th><td>1</td><td>1</td><td>0</td></tr>\n",
       "</tbody>\n",
       "</table>\n"
      ],
      "text/latex": [
       "A data.frame: 86 x 3\n",
       "\\begin{tabular}{r|lll}\n",
       "  & cfDNA & PBMC & Tumor\\\\\n",
       "  & <int> & <int> & <int>\\\\\n",
       "\\hline\n",
       "\tCHP\\_323 & 2 & 2 & 0\\\\\n",
       "\tCHP\\_324 & 2 & 1 & 0\\\\\n",
       "\tCHP\\_328 & 1 & 2 & 0\\\\\n",
       "\tCHP\\_330 & 1 & 1 & 0\\\\\n",
       "\tCHP\\_331 & 1 & 2 & 0\\\\\n",
       "\tCHP\\_334 & 3 & 0 & 0\\\\\n",
       "\tCHP\\_335 & 2 & 1 & 0\\\\\n",
       "\tCHP\\_336 & 3 & 0 & 0\\\\\n",
       "\tCHP\\_337 & 3 & 0 & 0\\\\\n",
       "\tCHP\\_338 & 2 & 3 & 0\\\\\n",
       "\tCHP\\_339 & 2 & 2 & 0\\\\\n",
       "\tCHP\\_340 & 3 & 3 & 0\\\\\n",
       "\tCHP\\_342 & 1 & 1 & 0\\\\\n",
       "\tCHP\\_343 & 4 & 4 & 0\\\\\n",
       "\tCHP\\_344 & 5 & 3 & 1\\\\\n",
       "\tCHP\\_345 & 3 & 3 & 0\\\\\n",
       "\tCHP\\_347 & 4 & 5 & 0\\\\\n",
       "\tCHP\\_348 & 5 & 2 & 0\\\\\n",
       "\tCHP\\_349 & 1 & 2 & 0\\\\\n",
       "\tCHP\\_350 & 2 & 5 & 0\\\\\n",
       "\tCHP\\_351 & 3 & 1 & 0\\\\\n",
       "\tCHP\\_353 & 4 & 3 & 0\\\\\n",
       "\tCHP\\_355 & 2 & 1 & 0\\\\\n",
       "\tCHP\\_356 & 3 & 3 & 0\\\\\n",
       "\tCHP\\_357 & 5 & 5 & 0\\\\\n",
       "\tCHP\\_358 & 4 & 2 & 0\\\\\n",
       "\tCHP\\_359 & 4 & 3 & 0\\\\\n",
       "\tCHP\\_360 & 5 & 3 & 0\\\\\n",
       "\tCHP\\_361 & 5 & 4 & 1\\\\\n",
       "\tCHP\\_362 & 4 & 4 & 0\\\\\n",
       "\t... & ... & ... & ...\\\\\n",
       "\tCHP\\_391 & 2 & 3 & 0\\\\\n",
       "\tCHP\\_392 & 3 & 1 & 0\\\\\n",
       "\tCHP\\_393 & 4 & 2 & 0\\\\\n",
       "\tCHP\\_394 & 3 & 2 & 1\\\\\n",
       "\tCHP\\_395 & 2 & 0 & 0\\\\\n",
       "\tCHP\\_396 & 4 & 3 & 0\\\\\n",
       "\tCHP\\_397 & 5 & 2 & 0\\\\\n",
       "\tCHP\\_398 & 3 & 2 & 0\\\\\n",
       "\tCHP\\_399 & 3 & 3 & 0\\\\\n",
       "\tCHP\\_400 & 4 & 3 & 1\\\\\n",
       "\tCHP\\_401 & 4 & 2 & 1\\\\\n",
       "\tCHP\\_402 & 3 & 2 & 0\\\\\n",
       "\tCHP\\_403 & 2 & 2 & 0\\\\\n",
       "\tCHP\\_404 & 5 & 3 & 2\\\\\n",
       "\tCHP\\_405 & 4 & 5 & 0\\\\\n",
       "\tCHP\\_407 & 4 & 3 & 1\\\\\n",
       "\tCHP\\_408 & 3 & 3 & 0\\\\\n",
       "\tCHP\\_409 & 3 & 4 & 0\\\\\n",
       "\tCHP\\_410 & 3 & 3 & 0\\\\\n",
       "\tCHP\\_411 & 2 & 1 & 0\\\\\n",
       "\tCHP\\_412 & 3 & 3 & 1\\\\\n",
       "\tCHP\\_413 & 2 & 2 & 0\\\\\n",
       "\tCHP\\_414 & 3 & 3 & 0\\\\\n",
       "\tCHP\\_415 & 3 & 3 & 0\\\\\n",
       "\tCHP\\_416 & 2 & 1 & 0\\\\\n",
       "\tCHP\\_417 & 1 & 1 & 0\\\\\n",
       "\tCHP\\_418 & 2 & 2 & 1\\\\\n",
       "\tCHP\\_419 & 1 & 1 & 0\\\\\n",
       "\tCHP\\_420 & 1 & 1 & 0\\\\\n",
       "\tCHP\\_422 & 1 & 1 & 0\\\\\n",
       "\\end{tabular}\n"
      ],
      "text/markdown": [
       "\n",
       "A data.frame: 86 x 3\n",
       "\n",
       "| <!--/--> | cfDNA &lt;int&gt; | PBMC &lt;int&gt; | Tumor &lt;int&gt; |\n",
       "|---|---|---|---|\n",
       "| CHP_323 | 2 | 2 | 0 |\n",
       "| CHP_324 | 2 | 1 | 0 |\n",
       "| CHP_328 | 1 | 2 | 0 |\n",
       "| CHP_330 | 1 | 1 | 0 |\n",
       "| CHP_331 | 1 | 2 | 0 |\n",
       "| CHP_334 | 3 | 0 | 0 |\n",
       "| CHP_335 | 2 | 1 | 0 |\n",
       "| CHP_336 | 3 | 0 | 0 |\n",
       "| CHP_337 | 3 | 0 | 0 |\n",
       "| CHP_338 | 2 | 3 | 0 |\n",
       "| CHP_339 | 2 | 2 | 0 |\n",
       "| CHP_340 | 3 | 3 | 0 |\n",
       "| CHP_342 | 1 | 1 | 0 |\n",
       "| CHP_343 | 4 | 4 | 0 |\n",
       "| CHP_344 | 5 | 3 | 1 |\n",
       "| CHP_345 | 3 | 3 | 0 |\n",
       "| CHP_347 | 4 | 5 | 0 |\n",
       "| CHP_348 | 5 | 2 | 0 |\n",
       "| CHP_349 | 1 | 2 | 0 |\n",
       "| CHP_350 | 2 | 5 | 0 |\n",
       "| CHP_351 | 3 | 1 | 0 |\n",
       "| CHP_353 | 4 | 3 | 0 |\n",
       "| CHP_355 | 2 | 1 | 0 |\n",
       "| CHP_356 | 3 | 3 | 0 |\n",
       "| CHP_357 | 5 | 5 | 0 |\n",
       "| CHP_358 | 4 | 2 | 0 |\n",
       "| CHP_359 | 4 | 3 | 0 |\n",
       "| CHP_360 | 5 | 3 | 0 |\n",
       "| CHP_361 | 5 | 4 | 1 |\n",
       "| CHP_362 | 4 | 4 | 0 |\n",
       "| ... | ... | ... | ... |\n",
       "| CHP_391 | 2 | 3 | 0 |\n",
       "| CHP_392 | 3 | 1 | 0 |\n",
       "| CHP_393 | 4 | 2 | 0 |\n",
       "| CHP_394 | 3 | 2 | 1 |\n",
       "| CHP_395 | 2 | 0 | 0 |\n",
       "| CHP_396 | 4 | 3 | 0 |\n",
       "| CHP_397 | 5 | 2 | 0 |\n",
       "| CHP_398 | 3 | 2 | 0 |\n",
       "| CHP_399 | 3 | 3 | 0 |\n",
       "| CHP_400 | 4 | 3 | 1 |\n",
       "| CHP_401 | 4 | 2 | 1 |\n",
       "| CHP_402 | 3 | 2 | 0 |\n",
       "| CHP_403 | 2 | 2 | 0 |\n",
       "| CHP_404 | 5 | 3 | 2 |\n",
       "| CHP_405 | 4 | 5 | 0 |\n",
       "| CHP_407 | 4 | 3 | 1 |\n",
       "| CHP_408 | 3 | 3 | 0 |\n",
       "| CHP_409 | 3 | 4 | 0 |\n",
       "| CHP_410 | 3 | 3 | 0 |\n",
       "| CHP_411 | 2 | 1 | 0 |\n",
       "| CHP_412 | 3 | 3 | 1 |\n",
       "| CHP_413 | 2 | 2 | 0 |\n",
       "| CHP_414 | 3 | 3 | 0 |\n",
       "| CHP_415 | 3 | 3 | 0 |\n",
       "| CHP_416 | 2 | 1 | 0 |\n",
       "| CHP_417 | 1 | 1 | 0 |\n",
       "| CHP_418 | 2 | 2 | 1 |\n",
       "| CHP_419 | 1 | 1 | 0 |\n",
       "| CHP_420 | 1 | 1 | 0 |\n",
       "| CHP_422 | 1 | 1 | 0 |\n",
       "\n"
      ],
      "text/plain": [
       "        cfDNA PBMC Tumor\n",
       "CHP_323 2     2    0    \n",
       "CHP_324 2     1    0    \n",
       "CHP_328 1     2    0    \n",
       "CHP_330 1     1    0    \n",
       "CHP_331 1     2    0    \n",
       "CHP_334 3     0    0    \n",
       "CHP_335 2     1    0    \n",
       "CHP_336 3     0    0    \n",
       "CHP_337 3     0    0    \n",
       "CHP_338 2     3    0    \n",
       "CHP_339 2     2    0    \n",
       "CHP_340 3     3    0    \n",
       "CHP_342 1     1    0    \n",
       "CHP_343 4     4    0    \n",
       "CHP_344 5     3    1    \n",
       "CHP_345 3     3    0    \n",
       "CHP_347 4     5    0    \n",
       "CHP_348 5     2    0    \n",
       "CHP_349 1     2    0    \n",
       "CHP_350 2     5    0    \n",
       "CHP_351 3     1    0    \n",
       "CHP_353 4     3    0    \n",
       "CHP_355 2     1    0    \n",
       "CHP_356 3     3    0    \n",
       "CHP_357 5     5    0    \n",
       "CHP_358 4     2    0    \n",
       "CHP_359 4     3    0    \n",
       "CHP_360 5     3    0    \n",
       "CHP_361 5     4    1    \n",
       "CHP_362 4     4    0    \n",
       "...     ...   ...  ...  \n",
       "CHP_391 2     3    0    \n",
       "CHP_392 3     1    0    \n",
       "CHP_393 4     2    0    \n",
       "CHP_394 3     2    1    \n",
       "CHP_395 2     0    0    \n",
       "CHP_396 4     3    0    \n",
       "CHP_397 5     2    0    \n",
       "CHP_398 3     2    0    \n",
       "CHP_399 3     3    0    \n",
       "CHP_400 4     3    1    \n",
       "CHP_401 4     2    1    \n",
       "CHP_402 3     2    0    \n",
       "CHP_403 2     2    0    \n",
       "CHP_404 5     3    2    \n",
       "CHP_405 4     5    0    \n",
       "CHP_407 4     3    1    \n",
       "CHP_408 3     3    0    \n",
       "CHP_409 3     4    0    \n",
       "CHP_410 3     3    0    \n",
       "CHP_411 2     1    0    \n",
       "CHP_412 3     3    1    \n",
       "CHP_413 2     2    0    \n",
       "CHP_414 3     3    0    \n",
       "CHP_415 3     3    0    \n",
       "CHP_416 2     1    0    \n",
       "CHP_417 1     1    0    \n",
       "CHP_418 2     2    1    \n",
       "CHP_419 1     1    0    \n",
       "CHP_420 1     1    0    \n",
       "CHP_422 1     1    0    "
      ]
     },
     "metadata": {},
     "output_type": "display_data"
    }
   ],
   "source": [
    "morethanone"
   ]
  },
  {
   "attachments": {},
   "cell_type": "markdown",
   "metadata": {},
   "source": [
    "## T-ALL"
   ]
  },
  {
   "cell_type": "markdown",
   "metadata": {},
   "source": [
    "#### 387"
   ]
  },
  {
   "cell_type": "code",
   "execution_count": 47,
   "metadata": {
    "vscode": {
     "languageId": "r"
    }
   },
   "outputs": [],
   "source": [
    "tall <- meta_div[ meta_div$Disease_type == \"T-ALL\",]"
   ]
  },
  {
   "cell_type": "code",
   "execution_count": 48,
   "metadata": {
    "vscode": {
     "languageId": "r"
    }
   },
   "outputs": [
    {
     "data": {
      "text/plain": [
       "\n",
       "CHP_324 CHP_375 CHP_387 CHP_395 \n",
       "      3       6       5       2 "
      ]
     },
     "metadata": {},
     "output_type": "display_data"
    }
   ],
   "source": [
    "table(tall$Patient)"
   ]
  },
  {
   "cell_type": "code",
   "execution_count": 49,
   "metadata": {
    "vscode": {
     "languageId": "r"
    }
   },
   "outputs": [],
   "source": [
    "CHP_387 <- tall$file[ tall$Patient == \"CHP_387\"]"
   ]
  },
  {
   "cell_type": "code",
   "execution_count": 50,
   "metadata": {
    "vscode": {
     "languageId": "r"
    }
   },
   "outputs": [
    {
     "name": "stderr",
     "output_type": "stream",
     "text": [
      "my files:\n",
      "\n"
     ]
    },
    {
     "name": "stdout",
     "output_type": "stream",
     "text": [
      "[1] \"batch8_14Jan2020/mixcr/clones/CLONES_TRBCHP_387-01-PBMC-DNA.txt\"                \n",
      "[2] \"batch11_23Apr2020/mixcr/clones/CLONES_TRBCHP_387-03_PBMC_DNA.txt\"               \n",
      "[3] \"batch7_cfDNA_29Jun2020/mixcr/clones/CLONES_TRBCHP_387-01_cfDNA.txt\"             \n",
      "[4] \"remaining_batch_2_cfDNA_15April2021/mixcr/clones/CLONES_TRBCHP_387-02_cfDNA.txt\"\n",
      "[5] \"batch11_cfDNA_11Sep2020/mixcr/clones/CLONES_TRBCHP_387-03_cfDNA.txt\"            \n"
     ]
    },
    {
     "name": "stderr",
     "output_type": "stream",
     "text": [
      "Total recovered clonotypes:\n",
      "\n"
     ]
    },
    {
     "name": "stdout",
     "output_type": "stream",
     "text": [
      "[1] 478\n"
     ]
    },
    {
     "name": "stderr",
     "output_type": "stream",
     "text": [
      "Total out-of-frame clonotypes:\n",
      "\n"
     ]
    },
    {
     "name": "stdout",
     "output_type": "stream",
     "text": [
      "[1] 116\n"
     ]
    },
    {
     "name": "stderr",
     "output_type": "stream",
     "text": [
      "Total clonotypes with stop codon:\n",
      "\n"
     ]
    },
    {
     "name": "stdout",
     "output_type": "stream",
     "text": [
      "[1] 6\n"
     ]
    },
    {
     "name": "stderr",
     "output_type": "stream",
     "text": [
      "Total productive clonotypes:\n",
      "\n"
     ]
    },
    {
     "name": "stdout",
     "output_type": "stream",
     "text": [
      "[1] 356\n"
     ]
    },
    {
     "name": "stderr",
     "output_type": "stream",
     "text": [
      "Output contains in_frame clonotypes only\n",
      "\n"
     ]
    }
   ],
   "source": [
    "cdr3df <- cdr3_dataframe.fx(paste0(h4hpath,\"NextSeq/\"), \"TRB\", CHP_387, \"inframe\")"
   ]
  },
  {
   "cell_type": "code",
   "execution_count": 65,
   "metadata": {
    "vscode": {
     "languageId": "r"
    }
   },
   "outputs": [],
   "source": [
    "cdr3df_pt <- order_cdr3df.fx(cdr3df)"
   ]
  },
  {
   "cell_type": "code",
   "execution_count": 66,
   "metadata": {
    "vscode": {
     "languageId": "r"
    }
   },
   "outputs": [
    {
     "data": {
      "text/html": [
       "<style>\n",
       ".list-inline {list-style: none; margin:0; padding: 0}\n",
       ".list-inline>li {display: inline-block}\n",
       ".list-inline>li:not(:last-child)::after {content: \"\\00b7\"; padding: 0 .5ex}\n",
       "</style>\n",
       "<ol class=list-inline><li>'cloneno'</li><li>'filename'</li><li>'cloneId'</li><li>'cloneCount'</li><li>'cloneFraction'</li><li>'clonalSequence'</li><li>'clonalSequenceQuality'</li><li>'allVHitsWithScore'</li><li>'allDHitsWithScore'</li><li>'allJHitsWithScore'</li><li>'allCHitsWithScore'</li><li>'allVAlignments'</li><li>'allDAlignments'</li><li>'allJAlignments'</li><li>'allCAlignments'</li><li>'nSeqFR1'</li><li>'minQualFR1'</li><li>'nSeqCDR1'</li><li>'minQualCDR1'</li><li>'nSeqFR2'</li><li>'minQualFR2'</li><li>'nSeqCDR2'</li><li>'minQualCDR2'</li><li>'nSeqFR3'</li><li>'minQualFR3'</li><li>'nSeqCDR3'</li><li>'minQualCDR3'</li><li>'nSeqFR4'</li><li>'minQualFR4'</li><li>'aaSeqFR1'</li><li>'aaSeqCDR1'</li><li>'aaSeqFR2'</li><li>'aaSeqCDR2'</li><li>'aaSeqFR3'</li><li>'aaSeqCDR3'</li><li>'aaSeqFR4'</li><li>'refPoints'</li><li>'samplename'</li><li>'sampletype'</li><li>'cycle'</li><li>'samplelabel'</li></ol>\n"
      ],
      "text/latex": [
       "\\begin{enumerate*}\n",
       "\\item 'cloneno'\n",
       "\\item 'filename'\n",
       "\\item 'cloneId'\n",
       "\\item 'cloneCount'\n",
       "\\item 'cloneFraction'\n",
       "\\item 'clonalSequence'\n",
       "\\item 'clonalSequenceQuality'\n",
       "\\item 'allVHitsWithScore'\n",
       "\\item 'allDHitsWithScore'\n",
       "\\item 'allJHitsWithScore'\n",
       "\\item 'allCHitsWithScore'\n",
       "\\item 'allVAlignments'\n",
       "\\item 'allDAlignments'\n",
       "\\item 'allJAlignments'\n",
       "\\item 'allCAlignments'\n",
       "\\item 'nSeqFR1'\n",
       "\\item 'minQualFR1'\n",
       "\\item 'nSeqCDR1'\n",
       "\\item 'minQualCDR1'\n",
       "\\item 'nSeqFR2'\n",
       "\\item 'minQualFR2'\n",
       "\\item 'nSeqCDR2'\n",
       "\\item 'minQualCDR2'\n",
       "\\item 'nSeqFR3'\n",
       "\\item 'minQualFR3'\n",
       "\\item 'nSeqCDR3'\n",
       "\\item 'minQualCDR3'\n",
       "\\item 'nSeqFR4'\n",
       "\\item 'minQualFR4'\n",
       "\\item 'aaSeqFR1'\n",
       "\\item 'aaSeqCDR1'\n",
       "\\item 'aaSeqFR2'\n",
       "\\item 'aaSeqCDR2'\n",
       "\\item 'aaSeqFR3'\n",
       "\\item 'aaSeqCDR3'\n",
       "\\item 'aaSeqFR4'\n",
       "\\item 'refPoints'\n",
       "\\item 'samplename'\n",
       "\\item 'sampletype'\n",
       "\\item 'cycle'\n",
       "\\item 'samplelabel'\n",
       "\\end{enumerate*}\n"
      ],
      "text/markdown": [
       "1. 'cloneno'\n",
       "2. 'filename'\n",
       "3. 'cloneId'\n",
       "4. 'cloneCount'\n",
       "5. 'cloneFraction'\n",
       "6. 'clonalSequence'\n",
       "7. 'clonalSequenceQuality'\n",
       "8. 'allVHitsWithScore'\n",
       "9. 'allDHitsWithScore'\n",
       "10. 'allJHitsWithScore'\n",
       "11. 'allCHitsWithScore'\n",
       "12. 'allVAlignments'\n",
       "13. 'allDAlignments'\n",
       "14. 'allJAlignments'\n",
       "15. 'allCAlignments'\n",
       "16. 'nSeqFR1'\n",
       "17. 'minQualFR1'\n",
       "18. 'nSeqCDR1'\n",
       "19. 'minQualCDR1'\n",
       "20. 'nSeqFR2'\n",
       "21. 'minQualFR2'\n",
       "22. 'nSeqCDR2'\n",
       "23. 'minQualCDR2'\n",
       "24. 'nSeqFR3'\n",
       "25. 'minQualFR3'\n",
       "26. 'nSeqCDR3'\n",
       "27. 'minQualCDR3'\n",
       "28. 'nSeqFR4'\n",
       "29. 'minQualFR4'\n",
       "30. 'aaSeqFR1'\n",
       "31. 'aaSeqCDR1'\n",
       "32. 'aaSeqFR2'\n",
       "33. 'aaSeqCDR2'\n",
       "34. 'aaSeqFR3'\n",
       "35. 'aaSeqCDR3'\n",
       "36. 'aaSeqFR4'\n",
       "37. 'refPoints'\n",
       "38. 'samplename'\n",
       "39. 'sampletype'\n",
       "40. 'cycle'\n",
       "41. 'samplelabel'\n",
       "\n",
       "\n"
      ],
      "text/plain": [
       " [1] \"cloneno\"               \"filename\"              \"cloneId\"              \n",
       " [4] \"cloneCount\"            \"cloneFraction\"         \"clonalSequence\"       \n",
       " [7] \"clonalSequenceQuality\" \"allVHitsWithScore\"     \"allDHitsWithScore\"    \n",
       "[10] \"allJHitsWithScore\"     \"allCHitsWithScore\"     \"allVAlignments\"       \n",
       "[13] \"allDAlignments\"        \"allJAlignments\"        \"allCAlignments\"       \n",
       "[16] \"nSeqFR1\"               \"minQualFR1\"            \"nSeqCDR1\"             \n",
       "[19] \"minQualCDR1\"           \"nSeqFR2\"               \"minQualFR2\"           \n",
       "[22] \"nSeqCDR2\"              \"minQualCDR2\"           \"nSeqFR3\"              \n",
       "[25] \"minQualFR3\"            \"nSeqCDR3\"              \"minQualCDR3\"          \n",
       "[28] \"nSeqFR4\"               \"minQualFR4\"            \"aaSeqFR1\"             \n",
       "[31] \"aaSeqCDR1\"             \"aaSeqFR2\"              \"aaSeqCDR2\"            \n",
       "[34] \"aaSeqFR3\"              \"aaSeqCDR3\"             \"aaSeqFR4\"             \n",
       "[37] \"refPoints\"             \"samplename\"            \"sampletype\"           \n",
       "[40] \"cycle\"                 \"samplelabel\"          "
      ]
     },
     "metadata": {},
     "output_type": "display_data"
    }
   ],
   "source": [
    "colnames(cdr3df_pt)"
   ]
  },
  {
   "cell_type": "code",
   "execution_count": 67,
   "metadata": {
    "vscode": {
     "languageId": "r"
    }
   },
   "outputs": [
    {
     "data": {
      "text/plain": [
       "\n",
       "Pre-cycle 1 Pre-cycle 2 Pre-cycle 3 \n",
       "        284           4          68 "
      ]
     },
     "metadata": {},
     "output_type": "display_data"
    }
   ],
   "source": [
    "table(cdr3df_pt$cycle)"
   ]
  },
  {
   "cell_type": "code",
   "execution_count": 68,
   "metadata": {
    "vscode": {
     "languageId": "r"
    }
   },
   "outputs": [
    {
     "data": {
      "text/html": [
       "<table class=\"dataframe\">\n",
       "<caption>A data.frame: 6 x 2</caption>\n",
       "<thead>\n",
       "\t<tr><th></th><th scope=col>samplename</th><th scope=col>samplelabel</th></tr>\n",
       "\t<tr><th></th><th scope=col>&lt;fct&gt;</th><th scope=col>&lt;fct&gt;</th></tr>\n",
       "</thead>\n",
       "<tbody>\n",
       "\t<tr><th scope=row>1</th><td>CHP_387-01-PBMC-DNA</td><td>Pre-cycle 1 - PBMC</td></tr>\n",
       "\t<tr><th scope=row>3</th><td>CHP_387-01-PBMC-DNA</td><td>Pre-cycle 1 - PBMC</td></tr>\n",
       "\t<tr><th scope=row>4</th><td>CHP_387-01-PBMC-DNA</td><td>Pre-cycle 1 - PBMC</td></tr>\n",
       "\t<tr><th scope=row>5</th><td>CHP_387-01-PBMC-DNA</td><td>Pre-cycle 1 - PBMC</td></tr>\n",
       "\t<tr><th scope=row>6</th><td>CHP_387-01-PBMC-DNA</td><td>Pre-cycle 1 - PBMC</td></tr>\n",
       "\t<tr><th scope=row>7</th><td>CHP_387-01-PBMC-DNA</td><td>Pre-cycle 1 - PBMC</td></tr>\n",
       "</tbody>\n",
       "</table>\n"
      ],
      "text/latex": [
       "A data.frame: 6 x 2\n",
       "\\begin{tabular}{r|ll}\n",
       "  & samplename & samplelabel\\\\\n",
       "  & <fct> & <fct>\\\\\n",
       "\\hline\n",
       "\t1 & CHP\\_387-01-PBMC-DNA & Pre-cycle 1 - PBMC\\\\\n",
       "\t3 & CHP\\_387-01-PBMC-DNA & Pre-cycle 1 - PBMC\\\\\n",
       "\t4 & CHP\\_387-01-PBMC-DNA & Pre-cycle 1 - PBMC\\\\\n",
       "\t5 & CHP\\_387-01-PBMC-DNA & Pre-cycle 1 - PBMC\\\\\n",
       "\t6 & CHP\\_387-01-PBMC-DNA & Pre-cycle 1 - PBMC\\\\\n",
       "\t7 & CHP\\_387-01-PBMC-DNA & Pre-cycle 1 - PBMC\\\\\n",
       "\\end{tabular}\n"
      ],
      "text/markdown": [
       "\n",
       "A data.frame: 6 x 2\n",
       "\n",
       "| <!--/--> | samplename &lt;fct&gt; | samplelabel &lt;fct&gt; |\n",
       "|---|---|---|\n",
       "| 1 | CHP_387-01-PBMC-DNA | Pre-cycle 1 - PBMC |\n",
       "| 3 | CHP_387-01-PBMC-DNA | Pre-cycle 1 - PBMC |\n",
       "| 4 | CHP_387-01-PBMC-DNA | Pre-cycle 1 - PBMC |\n",
       "| 5 | CHP_387-01-PBMC-DNA | Pre-cycle 1 - PBMC |\n",
       "| 6 | CHP_387-01-PBMC-DNA | Pre-cycle 1 - PBMC |\n",
       "| 7 | CHP_387-01-PBMC-DNA | Pre-cycle 1 - PBMC |\n",
       "\n"
      ],
      "text/plain": [
       "  samplename          samplelabel       \n",
       "1 CHP_387-01-PBMC-DNA Pre-cycle 1 - PBMC\n",
       "3 CHP_387-01-PBMC-DNA Pre-cycle 1 - PBMC\n",
       "4 CHP_387-01-PBMC-DNA Pre-cycle 1 - PBMC\n",
       "5 CHP_387-01-PBMC-DNA Pre-cycle 1 - PBMC\n",
       "6 CHP_387-01-PBMC-DNA Pre-cycle 1 - PBMC\n",
       "7 CHP_387-01-PBMC-DNA Pre-cycle 1 - PBMC"
      ]
     },
     "metadata": {},
     "output_type": "display_data"
    }
   ],
   "source": [
    "head(cdr3df_pt[, c(\"samplename\", \"samplelabel\")])"
   ]
  },
  {
   "cell_type": "code",
   "execution_count": 72,
   "metadata": {
    "vscode": {
     "languageId": "r"
    }
   },
   "outputs": [
    {
     "name": "stderr",
     "output_type": "stream",
     "text": [
      "list of samples to track clones: \n",
      "\n"
     ]
    },
    {
     "name": "stdout",
     "output_type": "stream",
     "text": [
      "[1] CHP_387-01-PBMC-DNA CHP_387-03_PBMC_DNA CHP_387-01_cfDNA   \n",
      "[4] CHP_387-02_cfDNA    CHP_387-03_cfDNA   \n",
      "5 Levels: CHP_387-01-PBMC-DNA CHP_387-01_cfDNA ... CHP_387-03_cfDNA\n",
      "[1] Pre-cycle 1 - PBMC  Pre-cycle 3 - PBMC  Pre-cycle 1 - cfDNA\n",
      "[4] Pre-cycle 2 - cfDNA Pre-cycle 3 - cfDNA\n",
      "5 Levels: Pre-cycle 1 - PBMC Pre-cycle 1 - cfDNA ... Pre-cycle 3 - cfDNA\n"
     ]
    },
    {
     "name": "stderr",
     "output_type": "stream",
     "text": [
      "Total number of recurring clonotypes: \n",
      "\n"
     ]
    },
    {
     "name": "stdout",
     "output_type": "stream",
     "text": [
      "[1] 8\n"
     ]
    },
    {
     "name": "stderr",
     "output_type": "stream",
     "text": [
      "these are what we color: \n",
      "\n"
     ]
    },
    {
     "name": "stdout",
     "output_type": "stream",
     "text": [
      "               TGTGCCAGCAGTTACAGCTCTGGGGCCAACGTCCTGACTTTC \n",
      "                                                \"#D87A68\" \n",
      "               TGTGCCAGCAGTGACCTGACAGGGTTTAAGGGCTACACCTTC \n",
      "                                                \"#87D9C2\" \n",
      "TGTGCCAGCAGCCGCAATACCCAGCCCCAGGTGGGACGGTCCAATGAGCAGTTCTTC \n",
      "                                                \"#D57AC2\" \n",
      "   TGTGCCAGCAGTTACTCGACAGGGGACTACTCTGGGGCCAACGTCCTGACTTTC \n",
      "                                                \"#D7D17D\" \n",
      "               TGTGCCAGCAGGTCTAGCGGTTCCTACAATGAGCAGTTCTTC \n",
      "                                                \"#A753DF\" \n",
      "            TGCGCCAGCAGCCCCGGCGACAGGGCTAAGACTGAAGCTTTCTTT \n",
      "                                                \"#D9CCD1\" \n",
      "               TGCGCCAGCAGCTATGGGGGAGGGAATTCACCCCTCCACTTT \n",
      "                                                \"#92E569\" \n",
      "            TGCGCCAGCAGCCAAGGGGGGGCGAGTAAGACTGAAGCTTTCTTT \n",
      "                                                \"#85A2D7\" \n"
     ]
    }
   ],
   "source": [
    "p387 <- plot_clonetracks.fx(cdr3df_pt, plotpath, \"TRB\", \"cloneFraction\", 0, \"T-ALL\", 222)"
   ]
  },
  {
   "cell_type": "code",
   "execution_count": 73,
   "metadata": {
    "vscode": {
     "languageId": "r"
    }
   },
   "outputs": [
    {
     "data": {
      "image/png": "[encoded data removed]",
      "text/plain": [
       "plot without title"
      ]
     },
     "metadata": {
      "image/png": {
       "height": 420,
       "width": 420
      }
     },
     "output_type": "display_data"
    }
   ],
   "source": [
    "p387"
   ]
  },
  {
   "cell_type": "code",
   "execution_count": 74,
   "metadata": {
    "vscode": {
     "languageId": "r"
    }
   },
   "outputs": [],
   "source": [
    "trb_p <- trbpointplot.fx(metadta = meta_div, pat = \"CHP_387\")"
   ]
  },
  {
   "cell_type": "code",
   "execution_count": 75,
   "metadata": {
    "vscode": {
     "languageId": "r"
    }
   },
   "outputs": [
    {
     "data": {
      "image/png": "[encoded data removed]",
      "text/plain": [
       "plot without title"
      ]
     },
     "metadata": {
      "image/png": {
       "height": 420,
       "width": 420
      }
     },
     "output_type": "display_data"
    }
   ],
   "source": [
    "trb_p"
   ]
  },
  {
   "cell_type": "code",
   "execution_count": 77,
   "metadata": {
    "vscode": {
     "languageId": "r"
    }
   },
   "outputs": [
    {
     "data": {
      "text/html": [
       "<strong>pdf:</strong> 2"
      ],
      "text/latex": [
       "\\textbf{pdf:} 2"
      ],
      "text/markdown": [
       "**pdf:** 2"
      ],
      "text/plain": [
       "pdf \n",
       "  2 "
      ]
     },
     "metadata": {},
     "output_type": "display_data"
    }
   ],
   "source": [
    "pdf(paste0(plotpath, \"Clonetrack_CHP_387_TRB.pdf\"), width = 6, height = 10)\n",
    "cowplot::plot_grid(trb_p,\n",
    "    p387 + theme(plot.title = element_blank()),\n",
    "    ncol = 1, align = \"v\", rel_heights = c(0.3, 1)\n",
    ")\n",
    "dev.off()\n"
   ]
  },
  {
   "cell_type": "markdown",
   "metadata": {},
   "source": [
    "#### others"
   ]
  },
  {
   "cell_type": "code",
   "execution_count": 78,
   "metadata": {
    "vscode": {
     "languageId": "r"
    }
   },
   "outputs": [
    {
     "data": {
      "text/plain": [
       "\n",
       "CHP_324 CHP_375 CHP_387 CHP_395 \n",
       "      3       6       5       2 "
      ]
     },
     "metadata": {},
     "output_type": "display_data"
    }
   ],
   "source": [
    "table(tall$Patient)"
   ]
  },
  {
   "cell_type": "code",
   "execution_count": 84,
   "metadata": {
    "vscode": {
     "languageId": "r"
    }
   },
   "outputs": [
    {
     "name": "stderr",
     "output_type": "stream",
     "text": [
      "my files:\n",
      "\n"
     ]
    },
    {
     "name": "stdout",
     "output_type": "stream",
     "text": [
      "[1] \"remaining_batch_2_22April2021/mixcr/clones/CLONES_TRBCHP_324-05_PBMC-DNA.txt\"\n",
      "[2] \"batch5_cfDNA_25Jun2020/mixcr/clones/CLONES_TRBCHP_324-04_cfDNA.txt\"          \n",
      "[3] \"batch10_cfDNA_13Jul2020/mixcr/clones/CLONES_TRBCHP_324-05_cfDNA.txt\"         \n"
     ]
    },
    {
     "name": "stderr",
     "output_type": "stream",
     "text": [
      "Total recovered clonotypes:\n",
      "\n"
     ]
    },
    {
     "name": "stdout",
     "output_type": "stream",
     "text": [
      "[1] 307\n"
     ]
    },
    {
     "name": "stderr",
     "output_type": "stream",
     "text": [
      "Total out-of-frame clonotypes:\n",
      "\n"
     ]
    },
    {
     "name": "stdout",
     "output_type": "stream",
     "text": [
      "[1] 72\n"
     ]
    },
    {
     "name": "stderr",
     "output_type": "stream",
     "text": [
      "Total clonotypes with stop codon:\n",
      "\n"
     ]
    },
    {
     "name": "stdout",
     "output_type": "stream",
     "text": [
      "[1] 3\n"
     ]
    },
    {
     "name": "stderr",
     "output_type": "stream",
     "text": [
      "Total productive clonotypes:\n",
      "\n"
     ]
    },
    {
     "name": "stdout",
     "output_type": "stream",
     "text": [
      "[1] 232\n"
     ]
    },
    {
     "name": "stderr",
     "output_type": "stream",
     "text": [
      "Output contains in_frame clonotypes only\n",
      "\n",
      "list of samples to track clones: \n",
      "\n"
     ]
    },
    {
     "name": "stdout",
     "output_type": "stream",
     "text": [
      "[1] CHP_324-05_PBMC-DNA CHP_324-04_cfDNA    CHP_324-05_cfDNA   \n",
      "Levels: CHP_324-04_cfDNA CHP_324-05_PBMC-DNA CHP_324-05_cfDNA\n",
      "[1] Pre-cycle 5 - PBMC  Pre-cycle 4 - cfDNA Pre-cycle 5 - cfDNA\n",
      "Levels: Pre-cycle 4 - cfDNA Pre-cycle 5 - PBMC Pre-cycle 5 - cfDNA\n"
     ]
    },
    {
     "name": "stderr",
     "output_type": "stream",
     "text": [
      "Total number of recurring clonotypes: \n",
      "\n"
     ]
    },
    {
     "name": "stdout",
     "output_type": "stream",
     "text": [
      "[1] 0\n"
     ]
    },
    {
     "name": "stderr",
     "output_type": "stream",
     "text": [
      "these are what we color: \n",
      "\n"
     ]
    },
    {
     "name": "stdout",
     "output_type": "stream",
     "text": [
      "named character(0)\n"
     ]
    },
    {
     "data": {
      "text/html": [
       "<strong>pdf:</strong> 2"
      ],
      "text/latex": [
       "\\textbf{pdf:} 2"
      ],
      "text/markdown": [
       "**pdf:** 2"
      ],
      "text/plain": [
       "pdf \n",
       "  2 "
      ]
     },
     "metadata": {},
     "output_type": "display_data"
    }
   ],
   "source": [
    "pat <- \"CHP_324\"\n",
    "\n",
    "CHP_pat <- tall$file[tall$Patient == pat]\n",
    "\n",
    "cdr3df <- cdr3_dataframe.fx(paste0(h4hpath, \"NextSeq/\"), \"TRB\", CHP_pat, \"inframe\")\n",
    "\n",
    "cdr3df_pt <- order_cdr3df.fx(cdr3df)\n",
    "\n",
    "myclonetrack <- plot_clonetracks.fx(cdr3df_pt, plotpath, \"TRB\", \"cloneFraction\", 0, \"T-ALL\", 222)\n",
    "\n",
    "trb_p <- trbpointplot.fx(metadta = meta_div, pat = pat)\n",
    "\n",
    "pdf(paste0(plotpath, \"Clonetrack_\", pat, \"_TRB.pdf\"), width = 6, height = 10)\n",
    "cowplot::plot_grid(trb_p,\n",
    "    myclonetrack + theme(plot.title = element_blank()),\n",
    "    ncol = 1, align = \"v\", rel_heights = c(0.3, 1)\n",
    ")\n",
    "dev.off()\n"
   ]
  },
  {
   "attachments": {},
   "cell_type": "markdown",
   "metadata": {},
   "source": [
    "## Solid tumors"
   ]
  },
  {
   "cell_type": "code",
   "execution_count": 115,
   "metadata": {
    "vscode": {
     "languageId": "r"
    }
   },
   "outputs": [
    {
     "data": {
      "text/html": [
       "<table class=\"dataframe\">\n",
       "<caption>A data.frame: 17 x 2</caption>\n",
       "<thead>\n",
       "\t<tr><th></th><th scope=col>Patient</th><th scope=col>Disease_type</th></tr>\n",
       "\t<tr><th></th><th scope=col>&lt;chr&gt;</th><th scope=col>&lt;chr&gt;</th></tr>\n",
       "</thead>\n",
       "<tbody>\n",
       "\t<tr><th scope=row>159</th><td>CHP_344</td><td>BL   </td></tr>\n",
       "\t<tr><th scope=row>281</th><td>CHP_361</td><td>HD   </td></tr>\n",
       "\t<tr><th scope=row>308</th><td>CHP_364</td><td>OS   </td></tr>\n",
       "\t<tr><th scope=row>324</th><td>CHP_366</td><td>HD   </td></tr>\n",
       "\t<tr><th scope=row>354</th><td>CHP_370</td><td>ALCL </td></tr>\n",
       "\t<tr><th scope=row>372</th><td>CHP_372</td><td>BL   </td></tr>\n",
       "\t<tr><th scope=row>426</th><td>CHP_380</td><td>HD   </td></tr>\n",
       "\t<tr><th scope=row>493</th><td>CHP_389</td><td>HD   </td></tr>\n",
       "\t<tr><th scope=row>501</th><td>CHP_390</td><td>OS   </td></tr>\n",
       "\t<tr><th scope=row>532</th><td>CHP_394</td><td>ERMS </td></tr>\n",
       "\t<tr><th scope=row>583</th><td>CHP_400</td><td>PMBCL</td></tr>\n",
       "\t<tr><th scope=row>592</th><td>CHP_401</td><td>ERMS </td></tr>\n",
       "\t<tr><th scope=row>626</th><td>CHP_404</td><td>ERMS </td></tr>\n",
       "\t<tr><th scope=row>627</th><td>CHP_404</td><td>ERMS </td></tr>\n",
       "\t<tr><th scope=row>642</th><td>CHP_407</td><td>DLBCL</td></tr>\n",
       "\t<tr><th scope=row>682</th><td>CHP_412</td><td>BLL  </td></tr>\n",
       "\t<tr><th scope=row>727</th><td>CHP_418</td><td>NB   </td></tr>\n",
       "</tbody>\n",
       "</table>\n"
      ],
      "text/latex": [
       "A data.frame: 17 x 2\n",
       "\\begin{tabular}{r|ll}\n",
       "  & Patient & Disease\\_type\\\\\n",
       "  & <chr> & <chr>\\\\\n",
       "\\hline\n",
       "\t159 & CHP\\_344 & BL   \\\\\n",
       "\t281 & CHP\\_361 & HD   \\\\\n",
       "\t308 & CHP\\_364 & OS   \\\\\n",
       "\t324 & CHP\\_366 & HD   \\\\\n",
       "\t354 & CHP\\_370 & ALCL \\\\\n",
       "\t372 & CHP\\_372 & BL   \\\\\n",
       "\t426 & CHP\\_380 & HD   \\\\\n",
       "\t493 & CHP\\_389 & HD   \\\\\n",
       "\t501 & CHP\\_390 & OS   \\\\\n",
       "\t532 & CHP\\_394 & ERMS \\\\\n",
       "\t583 & CHP\\_400 & PMBCL\\\\\n",
       "\t592 & CHP\\_401 & ERMS \\\\\n",
       "\t626 & CHP\\_404 & ERMS \\\\\n",
       "\t627 & CHP\\_404 & ERMS \\\\\n",
       "\t642 & CHP\\_407 & DLBCL\\\\\n",
       "\t682 & CHP\\_412 & BLL  \\\\\n",
       "\t727 & CHP\\_418 & NB   \\\\\n",
       "\\end{tabular}\n"
      ],
      "text/markdown": [
       "\n",
       "A data.frame: 17 x 2\n",
       "\n",
       "| <!--/--> | Patient &lt;chr&gt; | Disease_type &lt;chr&gt; |\n",
       "|---|---|---|\n",
       "| 159 | CHP_344 | BL    |\n",
       "| 281 | CHP_361 | HD    |\n",
       "| 308 | CHP_364 | OS    |\n",
       "| 324 | CHP_366 | HD    |\n",
       "| 354 | CHP_370 | ALCL  |\n",
       "| 372 | CHP_372 | BL    |\n",
       "| 426 | CHP_380 | HD    |\n",
       "| 493 | CHP_389 | HD    |\n",
       "| 501 | CHP_390 | OS    |\n",
       "| 532 | CHP_394 | ERMS  |\n",
       "| 583 | CHP_400 | PMBCL |\n",
       "| 592 | CHP_401 | ERMS  |\n",
       "| 626 | CHP_404 | ERMS  |\n",
       "| 627 | CHP_404 | ERMS  |\n",
       "| 642 | CHP_407 | DLBCL |\n",
       "| 682 | CHP_412 | BLL   |\n",
       "| 727 | CHP_418 | NB    |\n",
       "\n"
      ],
      "text/plain": [
       "    Patient Disease_type\n",
       "159 CHP_344 BL          \n",
       "281 CHP_361 HD          \n",
       "308 CHP_364 OS          \n",
       "324 CHP_366 HD          \n",
       "354 CHP_370 ALCL        \n",
       "372 CHP_372 BL          \n",
       "426 CHP_380 HD          \n",
       "493 CHP_389 HD          \n",
       "501 CHP_390 OS          \n",
       "532 CHP_394 ERMS        \n",
       "583 CHP_400 PMBCL       \n",
       "592 CHP_401 ERMS        \n",
       "626 CHP_404 ERMS        \n",
       "627 CHP_404 ERMS        \n",
       "642 CHP_407 DLBCL       \n",
       "682 CHP_412 BLL         \n",
       "727 CHP_418 NB          "
      ]
     },
     "metadata": {},
     "output_type": "display_data"
    }
   ],
   "source": [
    "meta_div[ grepl(\"FFPE\", meta_div$basename), c(\"Patient\", \"Disease_type\") ]"
   ]
  },
  {
   "cell_type": "code",
   "execution_count": 166,
   "metadata": {
    "vscode": {
     "languageId": "r"
    }
   },
   "outputs": [],
   "source": [
    "myCHP <- \"CHP_364\""
   ]
  },
  {
   "cell_type": "code",
   "execution_count": 171,
   "metadata": {
    "vscode": {
     "languageId": "r"
    }
   },
   "outputs": [],
   "source": [
    "mycase <- meta_div$file[ meta_div$Patient == myCHP]\n",
    "mycase <- mycase[ !grepl(\"cfDNA\", mycase) ]"
   ]
  },
  {
   "cell_type": "code",
   "execution_count": 172,
   "metadata": {
    "vscode": {
     "languageId": "r"
    }
   },
   "outputs": [
    {
     "name": "stderr",
     "output_type": "stream",
     "text": [
      "my files:\n",
      "\n"
     ]
    },
    {
     "name": "stdout",
     "output_type": "stream",
     "text": [
      "[1] \"batch4_19Aug2019/mixcr/clones/CLONES_TRBCHP_364-01-PBMC-DNA.txt\"  \n",
      "[2] \"batch4_19Aug2019/mixcr/clones/CLONES_TRBCHP_364-02-PBMC-DNA.txt\"  \n",
      "[3] \"batch4_19Aug2019/mixcr/clones/CLONES_TRBCHP_364-04-PBMC-DNA.txt\"  \n",
      "[4] \"batchFFPE_3Apr2020/mixcr/clones/CLONES_TRBCHP_364-FFPE-DNA_S1.txt\"\n"
     ]
    },
    {
     "name": "stderr",
     "output_type": "stream",
     "text": [
      "Total recovered clonotypes:\n",
      "\n"
     ]
    },
    {
     "name": "stdout",
     "output_type": "stream",
     "text": [
      "[1] 426\n"
     ]
    },
    {
     "name": "stderr",
     "output_type": "stream",
     "text": [
      "Total out-of-frame clonotypes:\n",
      "\n"
     ]
    },
    {
     "name": "stdout",
     "output_type": "stream",
     "text": [
      "[1] 87\n"
     ]
    },
    {
     "name": "stderr",
     "output_type": "stream",
     "text": [
      "Total clonotypes with stop codon:\n",
      "\n"
     ]
    },
    {
     "name": "stdout",
     "output_type": "stream",
     "text": [
      "[1] 12\n"
     ]
    },
    {
     "name": "stderr",
     "output_type": "stream",
     "text": [
      "Total productive clonotypes:\n",
      "\n"
     ]
    },
    {
     "name": "stdout",
     "output_type": "stream",
     "text": [
      "[1] 327\n"
     ]
    },
    {
     "name": "stderr",
     "output_type": "stream",
     "text": [
      "Output contains in_frame clonotypes only\n",
      "\n"
     ]
    }
   ],
   "source": [
    "cdr3df <- cdr3_dataframe.fx(paste0(h4hpath,\"NextSeq/\"), \"TRB\", mycase, \"inframe\")"
   ]
  },
  {
   "cell_type": "code",
   "execution_count": 173,
   "metadata": {
    "vscode": {
     "languageId": "r"
    }
   },
   "outputs": [
    {
     "data": {
      "text/plain": [
       "\n",
       "CHP_364-01-PBMC-DNA CHP_364-02-PBMC-DNA CHP_364-04-PBMC-DNA CHP_364-FFPE-DNA_S1 \n",
       "                125                  75                 117                  10 "
      ]
     },
     "metadata": {},
     "output_type": "display_data"
    }
   ],
   "source": [
    "table(cdr3df$samplename)"
   ]
  },
  {
   "cell_type": "code",
   "execution_count": 174,
   "metadata": {
    "vscode": {
     "languageId": "r"
    }
   },
   "outputs": [],
   "source": [
    "cdr3df$samplename <- factor(cdr3df$samplename, levels = c(\"CHP_364-FFPE-DNA_S1\", \"CHP_364-01-PBMC-DNA\", \"CHP_364-02-PBMC-DNA\", \"CHP_364-04-PBMC-DNA\"))"
   ]
  },
  {
   "cell_type": "code",
   "execution_count": 175,
   "metadata": {
    "vscode": {
     "languageId": "r"
    }
   },
   "outputs": [
    {
     "name": "stderr",
     "output_type": "stream",
     "text": [
      "list of samples to track clones: \n",
      "\n"
     ]
    },
    {
     "name": "stdout",
     "output_type": "stream",
     "text": [
      "[1] CHP_364-01-PBMC-DNA CHP_364-02-PBMC-DNA CHP_364-04-PBMC-DNA\n",
      "[4] CHP_364-FFPE-DNA_S1\n",
      "4 Levels: CHP_364-FFPE-DNA_S1 CHP_364-01-PBMC-DNA ... CHP_364-04-PBMC-DNA\n"
     ]
    },
    {
     "name": "stderr",
     "output_type": "stream",
     "text": [
      "Total number of recurring clonotypes: \n",
      "\n"
     ]
    },
    {
     "name": "stdout",
     "output_type": "stream",
     "text": [
      "[1] 4\n"
     ]
    },
    {
     "name": "stderr",
     "output_type": "stream",
     "text": [
      "these are what we color: \n",
      "\n"
     ]
    },
    {
     "name": "stdout",
     "output_type": "stream",
     "text": [
      "TGTGCCATCAGTGGACCCGGGACTAGCGGGAGGGCACAAGATACGCAGTATTTT \n",
      "                                             \"#A3CECE\" \n",
      "            TGTGCCAGCAGTGGACTAGCGGGAGCAGATACGCAGTATTTT \n",
      "                                             \"#B5E079\" \n",
      "               TGTGCCAGCAGTGCAGGGAACACCGGGGAGCTGTTTTTT \n",
      "                                             \"#BB74D2\" \n",
      "                  TGTGCCAGCAGCTTGCTAGAACAGCCCCAGCATTTT \n",
      "                                             \"#DE9788\" \n"
     ]
    },
    {
     "data": {
      "image/png": "[encoded data removed]",
      "text/plain": [
       "plot without title"
      ]
     },
     "metadata": {
      "image/png": {
       "height": 420,
       "width": 420
      }
     },
     "output_type": "display_data"
    }
   ],
   "source": [
    "p <- plot_clonetracks.fx(cdr3df, plotpath, \"TRB\", \"cloneFraction\", 0, \"Osteosarcoma\", 422)\n",
    "p"
   ]
  },
  {
   "cell_type": "code",
   "execution_count": 176,
   "metadata": {
    "vscode": {
     "languageId": "r"
    }
   },
   "outputs": [
    {
     "data": {
      "text/html": [
       "<strong>pdf:</strong> 2"
      ],
      "text/latex": [
       "\\textbf{pdf:} 2"
      ],
      "text/markdown": [
       "**pdf:** 2"
      ],
      "text/plain": [
       "pdf \n",
       "  2 "
      ]
     },
     "metadata": {},
     "output_type": "display_data"
    }
   ],
   "source": [
    "cairo_pdf(paste0(plotpath, \"CHP_364_OS_FFPE_PBMC_TRB.pdf\"), width = 10, height = 15)\n",
    "p387 + theme(axis.title.x = element_text(size = 15) ) + labs(y = \"TCR\\U03B2 clone fraction\", x = \"Sample prior to chemotherapy cycle\") + \n",
    "scale_x_discrete(labels = c(\"Tumor\", \"Pre-cycle 1\", \"Pre-cycle 2\", \"Pre-cycle 3\"))\n",
    "dev.off()"
   ]
  },
  {
   "attachments": {},
   "cell_type": "markdown",
   "metadata": {
    "vscode": {
     "languageId": "r"
    }
   },
   "source": [
    "# CSF"
   ]
  },
  {
   "cell_type": "code",
   "execution_count": 147,
   "metadata": {
    "vscode": {
     "languageId": "r"
    }
   },
   "outputs": [],
   "source": [
    "myfle <- list.files( \"~/Desktop/H4H/pughlab/pediatric/projects/TCR_HSJ/NextSeq/\", recursive = T, pattern = \"CLONES_TRA\", full.names = TRUE)"
   ]
  },
  {
   "cell_type": "code",
   "execution_count": 148,
   "metadata": {
    "vscode": {
     "languageId": "r"
    }
   },
   "outputs": [],
   "source": [
    "myfle <- myfle[! grepl(\"20000\", myfle) ]"
   ]
  },
  {
   "cell_type": "code",
   "execution_count": 149,
   "metadata": {
    "vscode": {
     "languageId": "r"
    }
   },
   "outputs": [
    {
     "data": {
      "text/html": [
       "<style>\n",
       ".list-inline {list-style: none; margin:0; padding: 0}\n",
       ".list-inline>li {display: inline-block}\n",
       ".list-inline>li:not(:last-child)::after {content: \"\\00b7\"; padding: 0 .5ex}\n",
       "</style>\n",
       "<ol class=list-inline><li>'/Users/anabbi/Desktop/H4H/pughlab/pediatric/projects/TCR_HSJ/NextSeq//batch1/mixcr/clones/CLONES_TRAIPD_HSJ023_Tumor.txt'</li><li>'/Users/anabbi/Desktop/H4H/pughlab/pediatric/projects/TCR_HSJ/NextSeq//batch1/mixcr/clones/CLONES_TRAIPD_HSJ050_Tumor.txt'</li><li>'/Users/anabbi/Desktop/H4H/pughlab/pediatric/projects/TCR_HSJ/NextSeq//batch1/mixcr/clones/CLONES_TRAIPD_HSJ051_Tumor.txt'</li><li>'/Users/anabbi/Desktop/H4H/pughlab/pediatric/projects/TCR_HSJ/NextSeq//batch2/mixcr/clones/CLONES_TRA023-CSF.txt'</li><li>'/Users/anabbi/Desktop/H4H/pughlab/pediatric/projects/TCR_HSJ/NextSeq//batch2/mixcr/clones/CLONES_TRA051-CSF.txt'</li><li>'/Users/anabbi/Desktop/H4H/pughlab/pediatric/projects/TCR_HSJ/NextSeq//batch2/mixcr/clones/CLONES_TRA051R-CSF.txt'</li><li>'/Users/anabbi/Desktop/H4H/pughlab/pediatric/projects/TCR_HSJ/NextSeq//batch2/mixcr/clones/CLONES_TRA19-CSF.txt'</li><li>'/Users/anabbi/Desktop/H4H/pughlab/pediatric/projects/TCR_HSJ/NextSeq//batch2/mixcr/clones/CLONES_TRA41-CSF.txt'</li><li>'/Users/anabbi/Desktop/H4H/pughlab/pediatric/projects/TCR_HSJ/NextSeq//batch2/mixcr/clones/CLONES_TRA67-CSF.txt'</li><li>'/Users/anabbi/Desktop/H4H/pughlab/pediatric/projects/TCR_HSJ/NextSeq//batch2/mixcr/clones/CLONES_TRA76-Tum.txt'</li><li>'/Users/anabbi/Desktop/H4H/pughlab/pediatric/projects/TCR_HSJ/NextSeq//batch2/mixcr/clones/CLONES_TRA77-Tum.txt'</li><li>'/Users/anabbi/Desktop/H4H/pughlab/pediatric/projects/TCR_HSJ/NextSeq//batch3/mixcr/clones/CLONES_TRA023-Plasma.txt'</li><li>'/Users/anabbi/Desktop/H4H/pughlab/pediatric/projects/TCR_HSJ/NextSeq//batch3/mixcr/clones/CLONES_TRA50-CSF.txt'</li><li>'/Users/anabbi/Desktop/H4H/pughlab/pediatric/projects/TCR_HSJ/NextSeq//batch3/mixcr/clones/CLONES_TRA67-Tum.txt'</li><li>'/Users/anabbi/Desktop/H4H/pughlab/pediatric/projects/TCR_HSJ/NextSeq//batch3/mixcr/clones/CLONES_TRA68-Plasma.txt'</li><li>'/Users/anabbi/Desktop/H4H/pughlab/pediatric/projects/TCR_HSJ/NextSeq//batch3/mixcr/clones/CLONES_TRA68-Tum.txt'</li><li>'/Users/anabbi/Desktop/H4H/pughlab/pediatric/projects/TCR_HSJ/NextSeq//batch3/mixcr/clones/CLONES_TRA76-CSF.txt'</li><li>'/Users/anabbi/Desktop/H4H/pughlab/pediatric/projects/TCR_HSJ/NextSeq//batch3/mixcr/clones/CLONES_TRA76-Plasma.txt'</li><li>'/Users/anabbi/Desktop/H4H/pughlab/pediatric/projects/TCR_HSJ/NextSeq//batch3/mixcr/clones/CLONES_TRA77-CSF.txt'</li><li>'/Users/anabbi/Desktop/H4H/pughlab/pediatric/projects/TCR_HSJ/NextSeq//batch3/mixcr/clones/CLONES_TRA77-Plasma.txt'</li></ol>\n"
      ],
      "text/latex": [
       "\\begin{enumerate*}\n",
       "\\item '/Users/anabbi/Desktop/H4H/pughlab/pediatric/projects/TCR\\_HSJ/NextSeq//batch1/mixcr/clones/CLONES\\_TRAIPD\\_HSJ023\\_Tumor.txt'\n",
       "\\item '/Users/anabbi/Desktop/H4H/pughlab/pediatric/projects/TCR\\_HSJ/NextSeq//batch1/mixcr/clones/CLONES\\_TRAIPD\\_HSJ050\\_Tumor.txt'\n",
       "\\item '/Users/anabbi/Desktop/H4H/pughlab/pediatric/projects/TCR\\_HSJ/NextSeq//batch1/mixcr/clones/CLONES\\_TRAIPD\\_HSJ051\\_Tumor.txt'\n",
       "\\item '/Users/anabbi/Desktop/H4H/pughlab/pediatric/projects/TCR\\_HSJ/NextSeq//batch2/mixcr/clones/CLONES\\_TRA023-CSF.txt'\n",
       "\\item '/Users/anabbi/Desktop/H4H/pughlab/pediatric/projects/TCR\\_HSJ/NextSeq//batch2/mixcr/clones/CLONES\\_TRA051-CSF.txt'\n",
       "\\item '/Users/anabbi/Desktop/H4H/pughlab/pediatric/projects/TCR\\_HSJ/NextSeq//batch2/mixcr/clones/CLONES\\_TRA051R-CSF.txt'\n",
       "\\item '/Users/anabbi/Desktop/H4H/pughlab/pediatric/projects/TCR\\_HSJ/NextSeq//batch2/mixcr/clones/CLONES\\_TRA19-CSF.txt'\n",
       "\\item '/Users/anabbi/Desktop/H4H/pughlab/pediatric/projects/TCR\\_HSJ/NextSeq//batch2/mixcr/clones/CLONES\\_TRA41-CSF.txt'\n",
       "\\item '/Users/anabbi/Desktop/H4H/pughlab/pediatric/projects/TCR\\_HSJ/NextSeq//batch2/mixcr/clones/CLONES\\_TRA67-CSF.txt'\n",
       "\\item '/Users/anabbi/Desktop/H4H/pughlab/pediatric/projects/TCR\\_HSJ/NextSeq//batch2/mixcr/clones/CLONES\\_TRA76-Tum.txt'\n",
       "\\item '/Users/anabbi/Desktop/H4H/pughlab/pediatric/projects/TCR\\_HSJ/NextSeq//batch2/mixcr/clones/CLONES\\_TRA77-Tum.txt'\n",
       "\\item '/Users/anabbi/Desktop/H4H/pughlab/pediatric/projects/TCR\\_HSJ/NextSeq//batch3/mixcr/clones/CLONES\\_TRA023-Plasma.txt'\n",
       "\\item '/Users/anabbi/Desktop/H4H/pughlab/pediatric/projects/TCR\\_HSJ/NextSeq//batch3/mixcr/clones/CLONES\\_TRA50-CSF.txt'\n",
       "\\item '/Users/anabbi/Desktop/H4H/pughlab/pediatric/projects/TCR\\_HSJ/NextSeq//batch3/mixcr/clones/CLONES\\_TRA67-Tum.txt'\n",
       "\\item '/Users/anabbi/Desktop/H4H/pughlab/pediatric/projects/TCR\\_HSJ/NextSeq//batch3/mixcr/clones/CLONES\\_TRA68-Plasma.txt'\n",
       "\\item '/Users/anabbi/Desktop/H4H/pughlab/pediatric/projects/TCR\\_HSJ/NextSeq//batch3/mixcr/clones/CLONES\\_TRA68-Tum.txt'\n",
       "\\item '/Users/anabbi/Desktop/H4H/pughlab/pediatric/projects/TCR\\_HSJ/NextSeq//batch3/mixcr/clones/CLONES\\_TRA76-CSF.txt'\n",
       "\\item '/Users/anabbi/Desktop/H4H/pughlab/pediatric/projects/TCR\\_HSJ/NextSeq//batch3/mixcr/clones/CLONES\\_TRA76-Plasma.txt'\n",
       "\\item '/Users/anabbi/Desktop/H4H/pughlab/pediatric/projects/TCR\\_HSJ/NextSeq//batch3/mixcr/clones/CLONES\\_TRA77-CSF.txt'\n",
       "\\item '/Users/anabbi/Desktop/H4H/pughlab/pediatric/projects/TCR\\_HSJ/NextSeq//batch3/mixcr/clones/CLONES\\_TRA77-Plasma.txt'\n",
       "\\end{enumerate*}\n"
      ],
      "text/markdown": [
       "1. '/Users/anabbi/Desktop/H4H/pughlab/pediatric/projects/TCR_HSJ/NextSeq//batch1/mixcr/clones/CLONES_TRAIPD_HSJ023_Tumor.txt'\n",
       "2. '/Users/anabbi/Desktop/H4H/pughlab/pediatric/projects/TCR_HSJ/NextSeq//batch1/mixcr/clones/CLONES_TRAIPD_HSJ050_Tumor.txt'\n",
       "3. '/Users/anabbi/Desktop/H4H/pughlab/pediatric/projects/TCR_HSJ/NextSeq//batch1/mixcr/clones/CLONES_TRAIPD_HSJ051_Tumor.txt'\n",
       "4. '/Users/anabbi/Desktop/H4H/pughlab/pediatric/projects/TCR_HSJ/NextSeq//batch2/mixcr/clones/CLONES_TRA023-CSF.txt'\n",
       "5. '/Users/anabbi/Desktop/H4H/pughlab/pediatric/projects/TCR_HSJ/NextSeq//batch2/mixcr/clones/CLONES_TRA051-CSF.txt'\n",
       "6. '/Users/anabbi/Desktop/H4H/pughlab/pediatric/projects/TCR_HSJ/NextSeq//batch2/mixcr/clones/CLONES_TRA051R-CSF.txt'\n",
       "7. '/Users/anabbi/Desktop/H4H/pughlab/pediatric/projects/TCR_HSJ/NextSeq//batch2/mixcr/clones/CLONES_TRA19-CSF.txt'\n",
       "8. '/Users/anabbi/Desktop/H4H/pughlab/pediatric/projects/TCR_HSJ/NextSeq//batch2/mixcr/clones/CLONES_TRA41-CSF.txt'\n",
       "9. '/Users/anabbi/Desktop/H4H/pughlab/pediatric/projects/TCR_HSJ/NextSeq//batch2/mixcr/clones/CLONES_TRA67-CSF.txt'\n",
       "10. '/Users/anabbi/Desktop/H4H/pughlab/pediatric/projects/TCR_HSJ/NextSeq//batch2/mixcr/clones/CLONES_TRA76-Tum.txt'\n",
       "11. '/Users/anabbi/Desktop/H4H/pughlab/pediatric/projects/TCR_HSJ/NextSeq//batch2/mixcr/clones/CLONES_TRA77-Tum.txt'\n",
       "12. '/Users/anabbi/Desktop/H4H/pughlab/pediatric/projects/TCR_HSJ/NextSeq//batch3/mixcr/clones/CLONES_TRA023-Plasma.txt'\n",
       "13. '/Users/anabbi/Desktop/H4H/pughlab/pediatric/projects/TCR_HSJ/NextSeq//batch3/mixcr/clones/CLONES_TRA50-CSF.txt'\n",
       "14. '/Users/anabbi/Desktop/H4H/pughlab/pediatric/projects/TCR_HSJ/NextSeq//batch3/mixcr/clones/CLONES_TRA67-Tum.txt'\n",
       "15. '/Users/anabbi/Desktop/H4H/pughlab/pediatric/projects/TCR_HSJ/NextSeq//batch3/mixcr/clones/CLONES_TRA68-Plasma.txt'\n",
       "16. '/Users/anabbi/Desktop/H4H/pughlab/pediatric/projects/TCR_HSJ/NextSeq//batch3/mixcr/clones/CLONES_TRA68-Tum.txt'\n",
       "17. '/Users/anabbi/Desktop/H4H/pughlab/pediatric/projects/TCR_HSJ/NextSeq//batch3/mixcr/clones/CLONES_TRA76-CSF.txt'\n",
       "18. '/Users/anabbi/Desktop/H4H/pughlab/pediatric/projects/TCR_HSJ/NextSeq//batch3/mixcr/clones/CLONES_TRA76-Plasma.txt'\n",
       "19. '/Users/anabbi/Desktop/H4H/pughlab/pediatric/projects/TCR_HSJ/NextSeq//batch3/mixcr/clones/CLONES_TRA77-CSF.txt'\n",
       "20. '/Users/anabbi/Desktop/H4H/pughlab/pediatric/projects/TCR_HSJ/NextSeq//batch3/mixcr/clones/CLONES_TRA77-Plasma.txt'\n",
       "\n",
       "\n"
      ],
      "text/plain": [
       " [1] \"/Users/anabbi/Desktop/H4H/pughlab/pediatric/projects/TCR_HSJ/NextSeq//batch1/mixcr/clones/CLONES_TRAIPD_HSJ023_Tumor.txt\"\n",
       " [2] \"/Users/anabbi/Desktop/H4H/pughlab/pediatric/projects/TCR_HSJ/NextSeq//batch1/mixcr/clones/CLONES_TRAIPD_HSJ050_Tumor.txt\"\n",
       " [3] \"/Users/anabbi/Desktop/H4H/pughlab/pediatric/projects/TCR_HSJ/NextSeq//batch1/mixcr/clones/CLONES_TRAIPD_HSJ051_Tumor.txt\"\n",
       " [4] \"/Users/anabbi/Desktop/H4H/pughlab/pediatric/projects/TCR_HSJ/NextSeq//batch2/mixcr/clones/CLONES_TRA023-CSF.txt\"         \n",
       " [5] \"/Users/anabbi/Desktop/H4H/pughlab/pediatric/projects/TCR_HSJ/NextSeq//batch2/mixcr/clones/CLONES_TRA051-CSF.txt\"         \n",
       " [6] \"/Users/anabbi/Desktop/H4H/pughlab/pediatric/projects/TCR_HSJ/NextSeq//batch2/mixcr/clones/CLONES_TRA051R-CSF.txt\"        \n",
       " [7] \"/Users/anabbi/Desktop/H4H/pughlab/pediatric/projects/TCR_HSJ/NextSeq//batch2/mixcr/clones/CLONES_TRA19-CSF.txt\"          \n",
       " [8] \"/Users/anabbi/Desktop/H4H/pughlab/pediatric/projects/TCR_HSJ/NextSeq//batch2/mixcr/clones/CLONES_TRA41-CSF.txt\"          \n",
       " [9] \"/Users/anabbi/Desktop/H4H/pughlab/pediatric/projects/TCR_HSJ/NextSeq//batch2/mixcr/clones/CLONES_TRA67-CSF.txt\"          \n",
       "[10] \"/Users/anabbi/Desktop/H4H/pughlab/pediatric/projects/TCR_HSJ/NextSeq//batch2/mixcr/clones/CLONES_TRA76-Tum.txt\"          \n",
       "[11] \"/Users/anabbi/Desktop/H4H/pughlab/pediatric/projects/TCR_HSJ/NextSeq//batch2/mixcr/clones/CLONES_TRA77-Tum.txt\"          \n",
       "[12] \"/Users/anabbi/Desktop/H4H/pughlab/pediatric/projects/TCR_HSJ/NextSeq//batch3/mixcr/clones/CLONES_TRA023-Plasma.txt\"      \n",
       "[13] \"/Users/anabbi/Desktop/H4H/pughlab/pediatric/projects/TCR_HSJ/NextSeq//batch3/mixcr/clones/CLONES_TRA50-CSF.txt\"          \n",
       "[14] \"/Users/anabbi/Desktop/H4H/pughlab/pediatric/projects/TCR_HSJ/NextSeq//batch3/mixcr/clones/CLONES_TRA67-Tum.txt\"          \n",
       "[15] \"/Users/anabbi/Desktop/H4H/pughlab/pediatric/projects/TCR_HSJ/NextSeq//batch3/mixcr/clones/CLONES_TRA68-Plasma.txt\"       \n",
       "[16] \"/Users/anabbi/Desktop/H4H/pughlab/pediatric/projects/TCR_HSJ/NextSeq//batch3/mixcr/clones/CLONES_TRA68-Tum.txt\"          \n",
       "[17] \"/Users/anabbi/Desktop/H4H/pughlab/pediatric/projects/TCR_HSJ/NextSeq//batch3/mixcr/clones/CLONES_TRA76-CSF.txt\"          \n",
       "[18] \"/Users/anabbi/Desktop/H4H/pughlab/pediatric/projects/TCR_HSJ/NextSeq//batch3/mixcr/clones/CLONES_TRA76-Plasma.txt\"       \n",
       "[19] \"/Users/anabbi/Desktop/H4H/pughlab/pediatric/projects/TCR_HSJ/NextSeq//batch3/mixcr/clones/CLONES_TRA77-CSF.txt\"          \n",
       "[20] \"/Users/anabbi/Desktop/H4H/pughlab/pediatric/projects/TCR_HSJ/NextSeq//batch3/mixcr/clones/CLONES_TRA77-Plasma.txt\"       "
      ]
     },
     "metadata": {},
     "output_type": "display_data"
    }
   ],
   "source": [
    "myfle"
   ]
  },
  {
   "cell_type": "code",
   "execution_count": 168,
   "metadata": {
    "vscode": {
     "languageId": "r"
    }
   },
   "outputs": [],
   "source": [
    "mycase <- \"67\" #  51 TRB no clones"
   ]
  },
  {
   "cell_type": "code",
   "execution_count": 169,
   "metadata": {
    "vscode": {
     "languageId": "r"
    }
   },
   "outputs": [],
   "source": [
    "HSJ <- myfle[ grepl(mycase, myfle) ]"
   ]
  },
  {
   "cell_type": "code",
   "execution_count": 170,
   "metadata": {
    "vscode": {
     "languageId": "r"
    }
   },
   "outputs": [
    {
     "data": {
      "text/html": [
       "<style>\n",
       ".list-inline {list-style: none; margin:0; padding: 0}\n",
       ".list-inline>li {display: inline-block}\n",
       ".list-inline>li:not(:last-child)::after {content: \"\\00b7\"; padding: 0 .5ex}\n",
       "</style>\n",
       "<ol class=list-inline><li>'/Users/anabbi/Desktop/H4H/pughlab/pediatric/projects/TCR_HSJ/NextSeq//batch2/mixcr/clones/CLONES_TRA67-CSF.txt'</li><li>'/Users/anabbi/Desktop/H4H/pughlab/pediatric/projects/TCR_HSJ/NextSeq//batch3/mixcr/clones/CLONES_TRA67-Tum.txt'</li></ol>\n"
      ],
      "text/latex": [
       "\\begin{enumerate*}\n",
       "\\item '/Users/anabbi/Desktop/H4H/pughlab/pediatric/projects/TCR\\_HSJ/NextSeq//batch2/mixcr/clones/CLONES\\_TRA67-CSF.txt'\n",
       "\\item '/Users/anabbi/Desktop/H4H/pughlab/pediatric/projects/TCR\\_HSJ/NextSeq//batch3/mixcr/clones/CLONES\\_TRA67-Tum.txt'\n",
       "\\end{enumerate*}\n"
      ],
      "text/markdown": [
       "1. '/Users/anabbi/Desktop/H4H/pughlab/pediatric/projects/TCR_HSJ/NextSeq//batch2/mixcr/clones/CLONES_TRA67-CSF.txt'\n",
       "2. '/Users/anabbi/Desktop/H4H/pughlab/pediatric/projects/TCR_HSJ/NextSeq//batch3/mixcr/clones/CLONES_TRA67-Tum.txt'\n",
       "\n",
       "\n"
      ],
      "text/plain": [
       "[1] \"/Users/anabbi/Desktop/H4H/pughlab/pediatric/projects/TCR_HSJ/NextSeq//batch2/mixcr/clones/CLONES_TRA67-CSF.txt\"\n",
       "[2] \"/Users/anabbi/Desktop/H4H/pughlab/pediatric/projects/TCR_HSJ/NextSeq//batch3/mixcr/clones/CLONES_TRA67-Tum.txt\""
      ]
     },
     "metadata": {},
     "output_type": "display_data"
    }
   ],
   "source": [
    "HSJ"
   ]
  },
  {
   "cell_type": "code",
   "execution_count": 171,
   "metadata": {
    "vscode": {
     "languageId": "r"
    }
   },
   "outputs": [
    {
     "name": "stderr",
     "output_type": "stream",
     "text": [
      "my files:\n",
      "\n"
     ]
    },
    {
     "name": "stdout",
     "output_type": "stream",
     "text": [
      "[1] \"/Users/anabbi/Desktop/H4H/pughlab/pediatric/projects/TCR_HSJ/NextSeq//batch2/mixcr/clones/CLONES_TRA67-CSF.txt\"\n",
      "[2] \"/Users/anabbi/Desktop/H4H/pughlab/pediatric/projects/TCR_HSJ/NextSeq//batch3/mixcr/clones/CLONES_TRA67-Tum.txt\"\n"
     ]
    },
    {
     "name": "stderr",
     "output_type": "stream",
     "text": [
      "Total recovered clonotypes:\n",
      "\n"
     ]
    },
    {
     "name": "stdout",
     "output_type": "stream",
     "text": [
      "[1] 130\n"
     ]
    },
    {
     "name": "stderr",
     "output_type": "stream",
     "text": [
      "Total out-of-frame clonotypes:\n",
      "\n"
     ]
    },
    {
     "name": "stdout",
     "output_type": "stream",
     "text": [
      "[1] 63\n"
     ]
    },
    {
     "name": "stderr",
     "output_type": "stream",
     "text": [
      "Total clonotypes with stop codon:\n",
      "\n"
     ]
    },
    {
     "name": "stdout",
     "output_type": "stream",
     "text": [
      "[1] 7\n"
     ]
    },
    {
     "name": "stderr",
     "output_type": "stream",
     "text": [
      "Total productive clonotypes:\n",
      "\n"
     ]
    },
    {
     "name": "stdout",
     "output_type": "stream",
     "text": [
      "[1] 60\n"
     ]
    },
    {
     "name": "stderr",
     "output_type": "stream",
     "text": [
      "Output contains in_frame clonotypes only\n",
      "\n"
     ]
    }
   ],
   "source": [
    "cdr3df <- cdr3_dataframe.fx(\"\", \"TRA\", HSJ, \"inframe\")"
   ]
  },
  {
   "cell_type": "code",
   "execution_count": 173,
   "metadata": {
    "vscode": {
     "languageId": "r"
    }
   },
   "outputs": [
    {
     "data": {
      "text/plain": [
       "\n",
       "67-CSF 67-Tum \n",
       "    32     28 "
      ]
     },
     "metadata": {},
     "output_type": "display_data"
    }
   ],
   "source": [
    "table(cdr3df$samplename)"
   ]
  },
  {
   "cell_type": "code",
   "execution_count": 174,
   "metadata": {
    "vscode": {
     "languageId": "r"
    }
   },
   "outputs": [],
   "source": [
    "cdr3df$samplename[ cdr3df$samplename == \"67-CSF\"] <- \"CSF\"\n",
    "#cdr3df$samplename[ cdr3df$samplename == \"77-Plasma\"] <- \"Plasma\"\n",
    "cdr3df$samplename[ cdr3df$samplename == \"67-Tum\"] <- \"Tumor\""
   ]
  },
  {
   "cell_type": "code",
   "execution_count": 175,
   "metadata": {
    "vscode": {
     "languageId": "r"
    }
   },
   "outputs": [],
   "source": [
    "cdr3df$samplename <- factor(cdr3df$samplename, levels = c(\"Tumor\", \"CSF\"))"
   ]
  },
  {
   "cell_type": "code",
   "execution_count": 176,
   "metadata": {
    "vscode": {
     "languageId": "r"
    }
   },
   "outputs": [
    {
     "name": "stderr",
     "output_type": "stream",
     "text": [
      "list of samples to track clones: \n",
      "\n"
     ]
    },
    {
     "name": "stdout",
     "output_type": "stream",
     "text": [
      "[1] CSF   Tumor\n",
      "Levels: Tumor CSF\n"
     ]
    },
    {
     "name": "stderr",
     "output_type": "stream",
     "text": [
      "Total number of recurring clonotypes: \n",
      "\n"
     ]
    },
    {
     "name": "stdout",
     "output_type": "stream",
     "text": [
      "[1] 3\n"
     ]
    },
    {
     "name": "stderr",
     "output_type": "stream",
     "text": [
      "these are what we color: \n",
      "\n"
     ]
    },
    {
     "name": "stdout",
     "output_type": "stream",
     "text": [
      "TGTGTGGTGAACCTATATGCTGGCAACAACCGTAAGCTGATTTGG \n",
      "                                    \"#BD6BCA\" \n",
      "TGTGCTGGGCAGCACAGTGCTGTGATTTATAGCACATTCATCTTT \n",
      "                                    \"#B4D77B\" \n",
      "TGTGCTGTGAGTGCGGGGTACAGCAGTGCTTCCAAGATAATCTTT \n",
      "                                    \"#B4C0C3\" \n"
     ]
    },
    {
     "data": {
      "image/png": "[encoded data removed]",
      "text/plain": [
       "plot without title"
      ]
     },
     "metadata": {
      "image/png": {
       "height": 420,
       "width": 420
      }
     },
     "output_type": "display_data"
    }
   ],
   "source": [
    "p <- plot_clonetracks.fx(cdr3df, plotpath, \"TRA\", \"cloneFraction\", 0, \"HSJ67\", 222)\n",
    "p"
   ]
  },
  {
   "cell_type": "code",
   "execution_count": 177,
   "metadata": {
    "vscode": {
     "languageId": "r"
    }
   },
   "outputs": [
    {
     "data": {
      "text/html": [
       "<strong>pdf:</strong> 2"
      ],
      "text/latex": [
       "\\textbf{pdf:} 2"
      ],
      "text/markdown": [
       "**pdf:** 2"
      ],
      "text/plain": [
       "pdf \n",
       "  2 "
      ]
     },
     "metadata": {},
     "output_type": "display_data"
    }
   ],
   "source": [
    "cairo_pdf(paste0(plotpath, \"HSJ_67_Tum_CSF_TRA.pdf\"), width = 10, height = 15)\n",
    "p + theme(axis.title.x = element_text(size = 15) ) + labs(y = \"TCR\\U03B1 clone fraction\", x = \"\", title = \"\")\n",
    "dev.off()"
   ]
  },
  {
   "cell_type": "code",
   "execution_count": null,
   "metadata": {
    "vscode": {
     "languageId": "r"
    }
   },
   "outputs": [],
   "source": []
  }
 ],
 "metadata": {
  "kernelspec": {
   "display_name": "R 4.0",
   "language": "R",
   "name": "ir40"
  },
  "language_info": {
   "codemirror_mode": "r",
   "file_extension": ".r",
   "mimetype": "text/x-r-source",
   "name": "R",
   "pygments_lexer": "r",
   "version": "4.2.2"
  },
  "toc": {
   "base_numbering": 1,
   "nav_menu": {},
   "number_sections": false,
   "sideBar": true,
   "skip_h1_title": false,
   "title_cell": "Table of Contents",
   "title_sidebar": "Contents",
   "toc_cell": true,
   "toc_position": {
    "height": "calc(100% - 180px)",
    "left": "10px",
    "top": "150px",
    "width": "217.3px"
   },
   "toc_section_display": true,
   "toc_window_display": true
  }
 },
 "nbformat": 4,
 "nbformat_minor": 2
}

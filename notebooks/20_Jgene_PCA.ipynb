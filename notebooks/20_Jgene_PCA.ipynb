{
 "cells": [
  {
   "attachments": {},
   "cell_type": "markdown",
   "metadata": {},
   "source": [
    "# Dependencies"
   ]
  },
  {
   "cell_type": "code",
   "execution_count": 1,
   "metadata": {
    "vscode": {
     "languageId": "r"
    }
   },
   "outputs": [],
   "source": [
    "pacman::p_load(factoextra, dplyr)"
   ]
  },
  {
   "attachments": {},
   "cell_type": "markdown",
   "metadata": {},
   "source": [
    "# Functions"
   ]
  },
  {
   "attachments": {},
   "cell_type": "markdown",
   "metadata": {},
   "source": [
    "# Paths"
   ]
  },
  {
   "cell_type": "code",
   "execution_count": 2,
   "metadata": {
    "vscode": {
     "languageId": "r"
    }
   },
   "outputs": [],
   "source": [
    "datapath <- \"/Users/anabbi/OneDrive - UHN/Documents/INTERCEPT/Data/\"\n",
    "plotpath <- \"/Users/anabbi/OneDrive - UHN/Documents/INTERCEPT/Plots/\"\n",
    "manifestpath <- \"/Users/anabbi/OneDrive - UHN/Documents/INTERCEPT/Manifests/\"\n",
    "gitpath <- \"/Users/anabbi/git/ped_CapTCRseq/\"\n",
    "h4hpath <- \"/Users/anabbi/Desktop/H4H/INTERCEPT/\""
   ]
  },
  {
   "attachments": {},
   "cell_type": "markdown",
   "metadata": {},
   "source": [
    "# Main"
   ]
  },
  {
   "cell_type": "code",
   "execution_count": 3,
   "metadata": {
    "vscode": {
     "languageId": "r"
    }
   },
   "outputs": [],
   "source": [
    "meta_div <- readr::read_rds(paste0(datapath, \"capTCRseq/meta_div_goodsamples.rds\"))"
   ]
  },
  {
   "cell_type": "code",
   "execution_count": 4,
   "metadata": {
    "vscode": {
     "languageId": "r"
    }
   },
   "outputs": [],
   "source": [
    "meta_div <- meta_div[ !is.na(meta_div$TRB), ]"
   ]
  },
  {
   "cell_type": "code",
   "execution_count": 5,
   "metadata": {
    "vscode": {
     "languageId": "r"
    }
   },
   "outputs": [
    {
     "data": {
      "text/plain": [
       "\n",
       " PBMC Tumor cfDNA \n",
       "  221    17   266 "
      ]
     },
     "metadata": {},
     "output_type": "display_data"
    }
   ],
   "source": [
    "table(meta_div$sampletype)"
   ]
  },
  {
   "cell_type": "code",
   "execution_count": 6,
   "metadata": {
    "vscode": {
     "languageId": "r"
    }
   },
   "outputs": [],
   "source": [
    "meta_div <- meta_div[ meta_div$sampletype == \"PBMC\",]"
   ]
  },
  {
   "cell_type": "code",
   "execution_count": 7,
   "metadata": {
    "vscode": {
     "languageId": "r"
    }
   },
   "outputs": [
    {
     "data": {
      "text/html": [
       "<table class=\"dataframe\">\n",
       "<caption>A data.frame: 6 x 66</caption>\n",
       "<thead>\n",
       "\t<tr><th></th><th scope=col>sample_id</th><th scope=col>Patient</th><th scope=col>cycle</th><th scope=col>FOLD</th><th scope=col>ATC</th><th scope=col>Age</th><th scope=col>Disease_type</th><th scope=col>TE_fold</th><th scope=col>CD3</th><th scope=col>EM</th><th scope=col>...</th><th scope=col>estimated_Shannon</th><th scope=col>SE_Shannon</th><th scope=col>observed_Simpson</th><th scope=col>estimated_Simpson</th><th scope=col>SE_Simpson</th><th scope=col>basename</th><th scope=col>file</th><th scope=col>sampletype</th><th scope=col>Group</th><th scope=col>log10shann</th></tr>\n",
       "\t<tr><th></th><th scope=col>&lt;chr&gt;</th><th scope=col>&lt;chr&gt;</th><th scope=col>&lt;chr&gt;</th><th scope=col>&lt;dbl&gt;</th><th scope=col>&lt;dbl&gt;</th><th scope=col>&lt;dbl&gt;</th><th scope=col>&lt;chr&gt;</th><th scope=col>&lt;dbl&gt;</th><th scope=col>&lt;int&gt;</th><th scope=col>&lt;int&gt;</th><th scope=col>...</th><th scope=col>&lt;dbl&gt;</th><th scope=col>&lt;dbl&gt;</th><th scope=col>&lt;dbl&gt;</th><th scope=col>&lt;dbl&gt;</th><th scope=col>&lt;dbl&gt;</th><th scope=col>&lt;chr&gt;</th><th scope=col>&lt;chr&gt;</th><th scope=col>&lt;chr&gt;</th><th scope=col>&lt;chr&gt;</th><th scope=col>&lt;dbl&gt;</th></tr>\n",
       "</thead>\n",
       "<tbody>\n",
       "\t<tr><th scope=row>287</th><td>CHP_10YO_M_00  </td><td>CHP_10YO_M  </td><td>X00</td><td>NA</td><td>NA</td><td>NA</td><td>Normal</td><td>NA</td><td>NA</td><td>NA</td><td>...</td><td>10.601</td><td>0.073</td><td> 8.556</td><td> 8.561</td><td>0.094</td><td>CHP_10YO-M_PBMC_DNA  </td><td>batchNormal_16Apr2020/mixcr/clones/CLONES_TRBCHP_10YO-M_PBMC_DNA.txt  </td><td>PBMC</td><td>CHP</td><td>1.0249370</td></tr>\n",
       "\t<tr><th scope=row>288</th><td>CHP_11YO_M_00  </td><td>CHP_11YO_M  </td><td>X00</td><td>NA</td><td>NA</td><td>NA</td><td>Normal</td><td>NA</td><td>NA</td><td>NA</td><td>...</td><td>11.614</td><td>0.054</td><td>10.406</td><td>10.414</td><td>0.066</td><td>CHP_11YO-M_PBMC_DNA  </td><td>batchNormal_16Apr2020/mixcr/clones/CLONES_TRBCHP_11YO-M_PBMC_DNA.txt  </td><td>PBMC</td><td>CHP</td><td>1.0647200</td></tr>\n",
       "\t<tr><th scope=row>289</th><td>CHP_15YO_F_A_00</td><td>CHP_15YO_F_A</td><td>X00</td><td>NA</td><td>NA</td><td>NA</td><td>Normal</td><td>NA</td><td>NA</td><td>NA</td><td>...</td><td> 8.989</td><td>0.036</td><td> 8.560</td><td> 8.570</td><td>0.060</td><td>CHP_15YO-F-A_PBMC_DNA</td><td>batchNormal_16Apr2020/mixcr/clones/CLONES_TRBCHP_15YO-F-A_PBMC_DNA.txt</td><td>PBMC</td><td>CHP</td><td>0.9533731</td></tr>\n",
       "\t<tr><th scope=row>290</th><td>CHP_15YO_F_B_00</td><td>CHP_15YO_F_B</td><td>X00</td><td>NA</td><td>NA</td><td>NA</td><td>Normal</td><td>NA</td><td>NA</td><td>NA</td><td>...</td><td> 6.334</td><td>0.040</td><td> 5.870</td><td> 5.876</td><td>0.066</td><td>CHP_15YO-F-B_PBMC_DNA</td><td>batchNormal_16Apr2020/mixcr/clones/CLONES_TRBCHP_15YO-F-B_PBMC_DNA.txt</td><td>PBMC</td><td>CHP</td><td>0.8014037</td></tr>\n",
       "\t<tr><th scope=row>291</th><td>CHP_15YO_M_00  </td><td>CHP_15YO_M  </td><td>X00</td><td>NA</td><td>NA</td><td>NA</td><td>Normal</td><td>NA</td><td>NA</td><td>NA</td><td>...</td><td>21.120</td><td>0.040</td><td>20.321</td><td>20.339</td><td>0.068</td><td>CHP_15YO-M_PBMC_DNA  </td><td>batchNormal_16Apr2020/mixcr/clones/CLONES_TRBCHP_15YO-M_PBMC_DNA.txt  </td><td>PBMC</td><td>CHP</td><td>1.3244882</td></tr>\n",
       "\t<tr><th scope=row>292</th><td>CHP_16YO_M_00  </td><td>CHP_16YO_M  </td><td>X00</td><td>NA</td><td>NA</td><td>NA</td><td>Normal</td><td>NA</td><td>NA</td><td>NA</td><td>...</td><td> 3.973</td><td>0.007</td><td> 3.944</td><td> 3.946</td><td>0.013</td><td>CHP_16YO-M_PBMC_DNA  </td><td>batchNormal_16Apr2020/mixcr/clones/CLONES_TRBCHP_16YO-M_PBMC_DNA.txt  </td><td>PBMC</td><td>CHP</td><td>0.5990092</td></tr>\n",
       "</tbody>\n",
       "</table>\n"
      ],
      "text/latex": [
       "A data.frame: 6 x 66\n",
       "\\begin{tabular}{r|lllllllllllllllllllll}\n",
       "  & sample\\_id & Patient & cycle & FOLD & ATC & Age & Disease\\_type & TE\\_fold & CD3 & EM & ... & estimated\\_Shannon & SE\\_Shannon & observed\\_Simpson & estimated\\_Simpson & SE\\_Simpson & basename & file & sampletype & Group & log10shann\\\\\n",
       "  & <chr> & <chr> & <chr> & <dbl> & <dbl> & <dbl> & <chr> & <dbl> & <int> & <int> & ... & <dbl> & <dbl> & <dbl> & <dbl> & <dbl> & <chr> & <chr> & <chr> & <chr> & <dbl>\\\\\n",
       "\\hline\n",
       "\t287 & CHP\\_10YO\\_M\\_00   & CHP\\_10YO\\_M   & X00 & NA & NA & NA & Normal & NA & NA & NA & ... & 10.601 & 0.073 &  8.556 &  8.561 & 0.094 & CHP\\_10YO-M\\_PBMC\\_DNA   & batchNormal\\_16Apr2020/mixcr/clones/CLONES\\_TRBCHP\\_10YO-M\\_PBMC\\_DNA.txt   & PBMC & CHP & 1.0249370\\\\\n",
       "\t288 & CHP\\_11YO\\_M\\_00   & CHP\\_11YO\\_M   & X00 & NA & NA & NA & Normal & NA & NA & NA & ... & 11.614 & 0.054 & 10.406 & 10.414 & 0.066 & CHP\\_11YO-M\\_PBMC\\_DNA   & batchNormal\\_16Apr2020/mixcr/clones/CLONES\\_TRBCHP\\_11YO-M\\_PBMC\\_DNA.txt   & PBMC & CHP & 1.0647200\\\\\n",
       "\t289 & CHP\\_15YO\\_F\\_A\\_00 & CHP\\_15YO\\_F\\_A & X00 & NA & NA & NA & Normal & NA & NA & NA & ... &  8.989 & 0.036 &  8.560 &  8.570 & 0.060 & CHP\\_15YO-F-A\\_PBMC\\_DNA & batchNormal\\_16Apr2020/mixcr/clones/CLONES\\_TRBCHP\\_15YO-F-A\\_PBMC\\_DNA.txt & PBMC & CHP & 0.9533731\\\\\n",
       "\t290 & CHP\\_15YO\\_F\\_B\\_00 & CHP\\_15YO\\_F\\_B & X00 & NA & NA & NA & Normal & NA & NA & NA & ... &  6.334 & 0.040 &  5.870 &  5.876 & 0.066 & CHP\\_15YO-F-B\\_PBMC\\_DNA & batchNormal\\_16Apr2020/mixcr/clones/CLONES\\_TRBCHP\\_15YO-F-B\\_PBMC\\_DNA.txt & PBMC & CHP & 0.8014037\\\\\n",
       "\t291 & CHP\\_15YO\\_M\\_00   & CHP\\_15YO\\_M   & X00 & NA & NA & NA & Normal & NA & NA & NA & ... & 21.120 & 0.040 & 20.321 & 20.339 & 0.068 & CHP\\_15YO-M\\_PBMC\\_DNA   & batchNormal\\_16Apr2020/mixcr/clones/CLONES\\_TRBCHP\\_15YO-M\\_PBMC\\_DNA.txt   & PBMC & CHP & 1.3244882\\\\\n",
       "\t292 & CHP\\_16YO\\_M\\_00   & CHP\\_16YO\\_M   & X00 & NA & NA & NA & Normal & NA & NA & NA & ... &  3.973 & 0.007 &  3.944 &  3.946 & 0.013 & CHP\\_16YO-M\\_PBMC\\_DNA   & batchNormal\\_16Apr2020/mixcr/clones/CLONES\\_TRBCHP\\_16YO-M\\_PBMC\\_DNA.txt   & PBMC & CHP & 0.5990092\\\\\n",
       "\\end{tabular}\n"
      ],
      "text/markdown": [
       "\n",
       "A data.frame: 6 x 66\n",
       "\n",
       "| <!--/--> | sample_id &lt;chr&gt; | Patient &lt;chr&gt; | cycle &lt;chr&gt; | FOLD &lt;dbl&gt; | ATC &lt;dbl&gt; | Age &lt;dbl&gt; | Disease_type &lt;chr&gt; | TE_fold &lt;dbl&gt; | CD3 &lt;int&gt; | EM &lt;int&gt; | ... ... | estimated_Shannon &lt;dbl&gt; | SE_Shannon &lt;dbl&gt; | observed_Simpson &lt;dbl&gt; | estimated_Simpson &lt;dbl&gt; | SE_Simpson &lt;dbl&gt; | basename &lt;chr&gt; | file &lt;chr&gt; | sampletype &lt;chr&gt; | Group &lt;chr&gt; | log10shann &lt;dbl&gt; |\n",
       "|---|---|---|---|---|---|---|---|---|---|---|---|---|---|---|---|---|---|---|---|---|---|\n",
       "| 287 | CHP_10YO_M_00   | CHP_10YO_M   | X00 | NA | NA | NA | Normal | NA | NA | NA | ... | 10.601 | 0.073 |  8.556 |  8.561 | 0.094 | CHP_10YO-M_PBMC_DNA   | batchNormal_16Apr2020/mixcr/clones/CLONES_TRBCHP_10YO-M_PBMC_DNA.txt   | PBMC | CHP | 1.0249370 |\n",
       "| 288 | CHP_11YO_M_00   | CHP_11YO_M   | X00 | NA | NA | NA | Normal | NA | NA | NA | ... | 11.614 | 0.054 | 10.406 | 10.414 | 0.066 | CHP_11YO-M_PBMC_DNA   | batchNormal_16Apr2020/mixcr/clones/CLONES_TRBCHP_11YO-M_PBMC_DNA.txt   | PBMC | CHP | 1.0647200 |\n",
       "| 289 | CHP_15YO_F_A_00 | CHP_15YO_F_A | X00 | NA | NA | NA | Normal | NA | NA | NA | ... |  8.989 | 0.036 |  8.560 |  8.570 | 0.060 | CHP_15YO-F-A_PBMC_DNA | batchNormal_16Apr2020/mixcr/clones/CLONES_TRBCHP_15YO-F-A_PBMC_DNA.txt | PBMC | CHP | 0.9533731 |\n",
       "| 290 | CHP_15YO_F_B_00 | CHP_15YO_F_B | X00 | NA | NA | NA | Normal | NA | NA | NA | ... |  6.334 | 0.040 |  5.870 |  5.876 | 0.066 | CHP_15YO-F-B_PBMC_DNA | batchNormal_16Apr2020/mixcr/clones/CLONES_TRBCHP_15YO-F-B_PBMC_DNA.txt | PBMC | CHP | 0.8014037 |\n",
       "| 291 | CHP_15YO_M_00   | CHP_15YO_M   | X00 | NA | NA | NA | Normal | NA | NA | NA | ... | 21.120 | 0.040 | 20.321 | 20.339 | 0.068 | CHP_15YO-M_PBMC_DNA   | batchNormal_16Apr2020/mixcr/clones/CLONES_TRBCHP_15YO-M_PBMC_DNA.txt   | PBMC | CHP | 1.3244882 |\n",
       "| 292 | CHP_16YO_M_00   | CHP_16YO_M   | X00 | NA | NA | NA | Normal | NA | NA | NA | ... |  3.973 | 0.007 |  3.944 |  3.946 | 0.013 | CHP_16YO-M_PBMC_DNA   | batchNormal_16Apr2020/mixcr/clones/CLONES_TRBCHP_16YO-M_PBMC_DNA.txt   | PBMC | CHP | 0.5990092 |\n",
       "\n"
      ],
      "text/plain": [
       "    sample_id       Patient      cycle FOLD ATC Age Disease_type TE_fold CD3 EM\n",
       "287 CHP_10YO_M_00   CHP_10YO_M   X00   NA   NA  NA  Normal       NA      NA  NA\n",
       "288 CHP_11YO_M_00   CHP_11YO_M   X00   NA   NA  NA  Normal       NA      NA  NA\n",
       "289 CHP_15YO_F_A_00 CHP_15YO_F_A X00   NA   NA  NA  Normal       NA      NA  NA\n",
       "290 CHP_15YO_F_B_00 CHP_15YO_F_B X00   NA   NA  NA  Normal       NA      NA  NA\n",
       "291 CHP_15YO_M_00   CHP_15YO_M   X00   NA   NA  NA  Normal       NA      NA  NA\n",
       "292 CHP_16YO_M_00   CHP_16YO_M   X00   NA   NA  NA  Normal       NA      NA  NA\n",
       "    ... estimated_Shannon SE_Shannon observed_Simpson estimated_Simpson\n",
       "287 ... 10.601            0.073       8.556            8.561           \n",
       "288 ... 11.614            0.054      10.406           10.414           \n",
       "289 ...  8.989            0.036       8.560            8.570           \n",
       "290 ...  6.334            0.040       5.870            5.876           \n",
       "291 ... 21.120            0.040      20.321           20.339           \n",
       "292 ...  3.973            0.007       3.944            3.946           \n",
       "    SE_Simpson basename             \n",
       "287 0.094      CHP_10YO-M_PBMC_DNA  \n",
       "288 0.066      CHP_11YO-M_PBMC_DNA  \n",
       "289 0.060      CHP_15YO-F-A_PBMC_DNA\n",
       "290 0.066      CHP_15YO-F-B_PBMC_DNA\n",
       "291 0.068      CHP_15YO-M_PBMC_DNA  \n",
       "292 0.013      CHP_16YO-M_PBMC_DNA  \n",
       "    file                                                                  \n",
       "287 batchNormal_16Apr2020/mixcr/clones/CLONES_TRBCHP_10YO-M_PBMC_DNA.txt  \n",
       "288 batchNormal_16Apr2020/mixcr/clones/CLONES_TRBCHP_11YO-M_PBMC_DNA.txt  \n",
       "289 batchNormal_16Apr2020/mixcr/clones/CLONES_TRBCHP_15YO-F-A_PBMC_DNA.txt\n",
       "290 batchNormal_16Apr2020/mixcr/clones/CLONES_TRBCHP_15YO-F-B_PBMC_DNA.txt\n",
       "291 batchNormal_16Apr2020/mixcr/clones/CLONES_TRBCHP_15YO-M_PBMC_DNA.txt  \n",
       "292 batchNormal_16Apr2020/mixcr/clones/CLONES_TRBCHP_16YO-M_PBMC_DNA.txt  \n",
       "    sampletype Group log10shann\n",
       "287 PBMC       CHP   1.0249370 \n",
       "288 PBMC       CHP   1.0647200 \n",
       "289 PBMC       CHP   0.9533731 \n",
       "290 PBMC       CHP   0.8014037 \n",
       "291 PBMC       CHP   1.3244882 \n",
       "292 PBMC       CHP   0.5990092 "
      ]
     },
     "metadata": {},
     "output_type": "display_data"
    }
   ],
   "source": [
    "head(meta_div)"
   ]
  },
  {
   "cell_type": "code",
   "execution_count": 8,
   "metadata": {
    "vscode": {
     "languageId": "r"
    }
   },
   "outputs": [],
   "source": [
    "int_v_j_cdr3_l <- readr::read_rds(paste0(datapath, \"capTCRseq/int_pbmc_v_j_cdr3_l.rds\"))"
   ]
  },
  {
   "cell_type": "code",
   "execution_count": 10,
   "metadata": {
    "vscode": {
     "languageId": "r"
    }
   },
   "outputs": [
    {
     "data": {
      "text/html": [
       "<table class=\"dataframe\">\n",
       "<caption>A data.frame: 6 x 7</caption>\n",
       "<thead>\n",
       "\t<tr><th></th><th scope=col>basename</th><th scope=col>aaSeqCDR3</th><th scope=col>cdr3_length</th><th scope=col>TRBV</th><th scope=col>TRBJ</th><th scope=col>cloneCount</th><th scope=col>cloneFraction</th></tr>\n",
       "\t<tr><th></th><th scope=col>&lt;chr&gt;</th><th scope=col>&lt;chr&gt;</th><th scope=col>&lt;int&gt;</th><th scope=col>&lt;chr&gt;</th><th scope=col>&lt;chr&gt;</th><th scope=col>&lt;int&gt;</th><th scope=col>&lt;dbl&gt;</th></tr>\n",
       "</thead>\n",
       "<tbody>\n",
       "\t<tr><th scope=row>1</th><td>CHP_10YO-M_PBMC_DNA</td><td>CASSQYTADTQYF     </td><td>13</td><td>TRBV13  </td><td>TRBJ2-3</td><td>3012</td><td>0.20644277</td></tr>\n",
       "\t<tr><th scope=row>2</th><td>CHP_10YO-M_PBMC_DNA</td><td>CASSDGRYGRDSNTEAFF</td><td>18</td><td>TRBV2   </td><td>TRBJ1-1</td><td>1590</td><td>0.10897875</td></tr>\n",
       "\t<tr><th scope=row>3</th><td>CHP_10YO-M_PBMC_DNA</td><td>CASSLNSGGTYGYTF   </td><td>15</td><td>TRBV12-4</td><td>TRBJ1-2</td><td>1301</td><td>0.08917066</td></tr>\n",
       "\t<tr><th scope=row>4</th><td>CHP_10YO-M_PBMC_DNA</td><td>CASYEGEWNTEAFF    </td><td>14</td><td>TRBV2   </td><td>TRBJ1-1</td><td>1214</td><td>0.08320768</td></tr>\n",
       "\t<tr><th scope=row>6</th><td>CHP_10YO-M_PBMC_DNA</td><td>CASSLGPNTEAFF     </td><td>13</td><td>TRBV12-4</td><td>TRBJ1-1</td><td>1088</td><td>0.07457162</td></tr>\n",
       "\t<tr><th scope=row>7</th><td>CHP_10YO-M_PBMC_DNA</td><td>CASSNGSGRPEAFF    </td><td>14</td><td>TRBV19  </td><td>TRBJ1-1</td><td> 860</td><td>0.05894448</td></tr>\n",
       "</tbody>\n",
       "</table>\n"
      ],
      "text/latex": [
       "A data.frame: 6 x 7\n",
       "\\begin{tabular}{r|lllllll}\n",
       "  & basename & aaSeqCDR3 & cdr3\\_length & TRBV & TRBJ & cloneCount & cloneFraction\\\\\n",
       "  & <chr> & <chr> & <int> & <chr> & <chr> & <int> & <dbl>\\\\\n",
       "\\hline\n",
       "\t1 & CHP\\_10YO-M\\_PBMC\\_DNA & CASSQYTADTQYF      & 13 & TRBV13   & TRBJ2-3 & 3012 & 0.20644277\\\\\n",
       "\t2 & CHP\\_10YO-M\\_PBMC\\_DNA & CASSDGRYGRDSNTEAFF & 18 & TRBV2    & TRBJ1-1 & 1590 & 0.10897875\\\\\n",
       "\t3 & CHP\\_10YO-M\\_PBMC\\_DNA & CASSLNSGGTYGYTF    & 15 & TRBV12-4 & TRBJ1-2 & 1301 & 0.08917066\\\\\n",
       "\t4 & CHP\\_10YO-M\\_PBMC\\_DNA & CASYEGEWNTEAFF     & 14 & TRBV2    & TRBJ1-1 & 1214 & 0.08320768\\\\\n",
       "\t6 & CHP\\_10YO-M\\_PBMC\\_DNA & CASSLGPNTEAFF      & 13 & TRBV12-4 & TRBJ1-1 & 1088 & 0.07457162\\\\\n",
       "\t7 & CHP\\_10YO-M\\_PBMC\\_DNA & CASSNGSGRPEAFF     & 14 & TRBV19   & TRBJ1-1 &  860 & 0.05894448\\\\\n",
       "\\end{tabular}\n"
      ],
      "text/markdown": [
       "\n",
       "A data.frame: 6 x 7\n",
       "\n",
       "| <!--/--> | basename &lt;chr&gt; | aaSeqCDR3 &lt;chr&gt; | cdr3_length &lt;int&gt; | TRBV &lt;chr&gt; | TRBJ &lt;chr&gt; | cloneCount &lt;int&gt; | cloneFraction &lt;dbl&gt; |\n",
       "|---|---|---|---|---|---|---|---|\n",
       "| 1 | CHP_10YO-M_PBMC_DNA | CASSQYTADTQYF      | 13 | TRBV13   | TRBJ2-3 | 3012 | 0.20644277 |\n",
       "| 2 | CHP_10YO-M_PBMC_DNA | CASSDGRYGRDSNTEAFF | 18 | TRBV2    | TRBJ1-1 | 1590 | 0.10897875 |\n",
       "| 3 | CHP_10YO-M_PBMC_DNA | CASSLNSGGTYGYTF    | 15 | TRBV12-4 | TRBJ1-2 | 1301 | 0.08917066 |\n",
       "| 4 | CHP_10YO-M_PBMC_DNA | CASYEGEWNTEAFF     | 14 | TRBV2    | TRBJ1-1 | 1214 | 0.08320768 |\n",
       "| 6 | CHP_10YO-M_PBMC_DNA | CASSLGPNTEAFF      | 13 | TRBV12-4 | TRBJ1-1 | 1088 | 0.07457162 |\n",
       "| 7 | CHP_10YO-M_PBMC_DNA | CASSNGSGRPEAFF     | 14 | TRBV19   | TRBJ1-1 |  860 | 0.05894448 |\n",
       "\n"
      ],
      "text/plain": [
       "  basename            aaSeqCDR3          cdr3_length TRBV     TRBJ   \n",
       "1 CHP_10YO-M_PBMC_DNA CASSQYTADTQYF      13          TRBV13   TRBJ2-3\n",
       "2 CHP_10YO-M_PBMC_DNA CASSDGRYGRDSNTEAFF 18          TRBV2    TRBJ1-1\n",
       "3 CHP_10YO-M_PBMC_DNA CASSLNSGGTYGYTF    15          TRBV12-4 TRBJ1-2\n",
       "4 CHP_10YO-M_PBMC_DNA CASYEGEWNTEAFF     14          TRBV2    TRBJ1-1\n",
       "6 CHP_10YO-M_PBMC_DNA CASSLGPNTEAFF      13          TRBV12-4 TRBJ1-1\n",
       "7 CHP_10YO-M_PBMC_DNA CASSNGSGRPEAFF     14          TRBV19   TRBJ1-1\n",
       "  cloneCount cloneFraction\n",
       "1 3012       0.20644277   \n",
       "2 1590       0.10897875   \n",
       "3 1301       0.08917066   \n",
       "4 1214       0.08320768   \n",
       "6 1088       0.07457162   \n",
       "7  860       0.05894448   "
      ]
     },
     "metadata": {},
     "output_type": "display_data"
    }
   ],
   "source": [
    "head(int_v_j_cdr3_l)"
   ]
  },
  {
   "cell_type": "code",
   "execution_count": 12,
   "metadata": {
    "vscode": {
     "languageId": "r"
    }
   },
   "outputs": [
    {
     "name": "stderr",
     "output_type": "stream",
     "text": [
      "\u001b[1m\u001b[22m`summarise()` has grouped output by 'basename'. You can override using the\n",
      "`.groups` argument.\n"
     ]
    }
   ],
   "source": [
    "int_j <- int_v_j_cdr3_l %>% group_by(basename, TRBJ) %>% summarize(Jcount = sum(cloneCount)) %>% ungroup()"
   ]
  },
  {
   "cell_type": "code",
   "execution_count": 13,
   "metadata": {
    "vscode": {
     "languageId": "r"
    }
   },
   "outputs": [
    {
     "data": {
      "text/html": [
       "<table class=\"dataframe\">\n",
       "<caption>A tibble: 6 x 3</caption>\n",
       "<thead>\n",
       "\t<tr><th scope=col>basename</th><th scope=col>TRBJ</th><th scope=col>Jcount</th></tr>\n",
       "\t<tr><th scope=col>&lt;chr&gt;</th><th scope=col>&lt;chr&gt;</th><th scope=col>&lt;int&gt;</th></tr>\n",
       "</thead>\n",
       "<tbody>\n",
       "\t<tr><td>CHP-328-04-PBMC-DNA</td><td>TRBJ1-1</td><td>51696</td></tr>\n",
       "\t<tr><td>CHP-328-04-PBMC-DNA</td><td>TRBJ1-2</td><td>21942</td></tr>\n",
       "\t<tr><td>CHP-328-04-PBMC-DNA</td><td>TRBJ1-3</td><td>18231</td></tr>\n",
       "\t<tr><td>CHP-328-04-PBMC-DNA</td><td>TRBJ1-4</td><td>16697</td></tr>\n",
       "\t<tr><td>CHP-328-04-PBMC-DNA</td><td>TRBJ1-5</td><td>18385</td></tr>\n",
       "\t<tr><td>CHP-328-04-PBMC-DNA</td><td>TRBJ1-6</td><td> 8820</td></tr>\n",
       "</tbody>\n",
       "</table>\n"
      ],
      "text/latex": [
       "A tibble: 6 x 3\n",
       "\\begin{tabular}{lll}\n",
       " basename & TRBJ & Jcount\\\\\n",
       " <chr> & <chr> & <int>\\\\\n",
       "\\hline\n",
       "\t CHP-328-04-PBMC-DNA & TRBJ1-1 & 51696\\\\\n",
       "\t CHP-328-04-PBMC-DNA & TRBJ1-2 & 21942\\\\\n",
       "\t CHP-328-04-PBMC-DNA & TRBJ1-3 & 18231\\\\\n",
       "\t CHP-328-04-PBMC-DNA & TRBJ1-4 & 16697\\\\\n",
       "\t CHP-328-04-PBMC-DNA & TRBJ1-5 & 18385\\\\\n",
       "\t CHP-328-04-PBMC-DNA & TRBJ1-6 &  8820\\\\\n",
       "\\end{tabular}\n"
      ],
      "text/markdown": [
       "\n",
       "A tibble: 6 x 3\n",
       "\n",
       "| basename &lt;chr&gt; | TRBJ &lt;chr&gt; | Jcount &lt;int&gt; |\n",
       "|---|---|---|\n",
       "| CHP-328-04-PBMC-DNA | TRBJ1-1 | 51696 |\n",
       "| CHP-328-04-PBMC-DNA | TRBJ1-2 | 21942 |\n",
       "| CHP-328-04-PBMC-DNA | TRBJ1-3 | 18231 |\n",
       "| CHP-328-04-PBMC-DNA | TRBJ1-4 | 16697 |\n",
       "| CHP-328-04-PBMC-DNA | TRBJ1-5 | 18385 |\n",
       "| CHP-328-04-PBMC-DNA | TRBJ1-6 |  8820 |\n",
       "\n"
      ],
      "text/plain": [
       "  basename            TRBJ    Jcount\n",
       "1 CHP-328-04-PBMC-DNA TRBJ1-1 51696 \n",
       "2 CHP-328-04-PBMC-DNA TRBJ1-2 21942 \n",
       "3 CHP-328-04-PBMC-DNA TRBJ1-3 18231 \n",
       "4 CHP-328-04-PBMC-DNA TRBJ1-4 16697 \n",
       "5 CHP-328-04-PBMC-DNA TRBJ1-5 18385 \n",
       "6 CHP-328-04-PBMC-DNA TRBJ1-6  8820 "
      ]
     },
     "metadata": {},
     "output_type": "display_data"
    }
   ],
   "source": [
    "head(int_j)"
   ]
  },
  {
   "cell_type": "code",
   "execution_count": 14,
   "metadata": {
    "vscode": {
     "languageId": "r"
    }
   },
   "outputs": [],
   "source": [
    "int_j_count <- tidyr::pivot_wider(int_j, names_from = \"TRBJ\", values_from = \"Jcount\", values_fill = 0)"
   ]
  },
  {
   "cell_type": "code",
   "execution_count": 15,
   "metadata": {
    "vscode": {
     "languageId": "r"
    }
   },
   "outputs": [
    {
     "data": {
      "text/html": [
       "<table class=\"dataframe\">\n",
       "<caption>A tibble: 6 x 14</caption>\n",
       "<thead>\n",
       "\t<tr><th scope=col>basename</th><th scope=col>TRBJ1-1</th><th scope=col>TRBJ1-2</th><th scope=col>TRBJ1-3</th><th scope=col>TRBJ1-4</th><th scope=col>TRBJ1-5</th><th scope=col>TRBJ1-6</th><th scope=col>TRBJ2-1</th><th scope=col>TRBJ2-2</th><th scope=col>TRBJ2-3</th><th scope=col>TRBJ2-4</th><th scope=col>TRBJ2-5</th><th scope=col>TRBJ2-6</th><th scope=col>TRBJ2-7</th></tr>\n",
       "\t<tr><th scope=col>&lt;chr&gt;</th><th scope=col>&lt;int&gt;</th><th scope=col>&lt;int&gt;</th><th scope=col>&lt;int&gt;</th><th scope=col>&lt;int&gt;</th><th scope=col>&lt;int&gt;</th><th scope=col>&lt;int&gt;</th><th scope=col>&lt;int&gt;</th><th scope=col>&lt;int&gt;</th><th scope=col>&lt;int&gt;</th><th scope=col>&lt;int&gt;</th><th scope=col>&lt;int&gt;</th><th scope=col>&lt;int&gt;</th><th scope=col>&lt;int&gt;</th></tr>\n",
       "</thead>\n",
       "<tbody>\n",
       "\t<tr><td>CHP-328-04-PBMC-DNA</td><td>51696</td><td>21942</td><td>18231</td><td>16697</td><td>18385</td><td>8820</td><td>24641</td><td> 8675</td><td>19544</td><td> 850</td><td> 9100</td><td>2201</td><td>27361</td></tr>\n",
       "\t<tr><td>CHP-328-05-PBMC-DNA</td><td> 4606</td><td> 1094</td><td>  838</td><td> 1336</td><td>  852</td><td> 638</td><td> 2754</td><td> 1535</td><td> 2166</td><td> 585</td><td>  132</td><td> 138</td><td> 1919</td></tr>\n",
       "\t<tr><td>CHP-351-03-PBMC-DNA</td><td>30512</td><td>12356</td><td> 8180</td><td> 8507</td><td> 8976</td><td>4380</td><td>18392</td><td> 9733</td><td>13952</td><td>1091</td><td> 8438</td><td>1955</td><td>22631</td></tr>\n",
       "\t<tr><td>CHP-369-01-PBMC-DNA</td><td>66453</td><td>28968</td><td>23124</td><td>16400</td><td>25664</td><td>9843</td><td>45651</td><td>21847</td><td>33586</td><td>3456</td><td>15146</td><td>2029</td><td>57427</td></tr>\n",
       "\t<tr><td>CHP-377-02-PBMC-DNA</td><td>13645</td><td> 6481</td><td> 2281</td><td> 3801</td><td> 4178</td><td>1958</td><td> 4330</td><td> 2455</td><td> 4455</td><td> 210</td><td> 1519</td><td>1027</td><td> 2443</td></tr>\n",
       "\t<tr><td>CHP-411-02-PBMC-DNA</td><td>27493</td><td>16097</td><td> 6760</td><td> 4388</td><td> 7968</td><td>3435</td><td>14488</td><td> 5664</td><td>12965</td><td>1675</td><td> 7366</td><td>2102</td><td>17663</td></tr>\n",
       "</tbody>\n",
       "</table>\n"
      ],
      "text/latex": [
       "A tibble: 6 x 14\n",
       "\\begin{tabular}{llllllllllllll}\n",
       " basename & TRBJ1-1 & TRBJ1-2 & TRBJ1-3 & TRBJ1-4 & TRBJ1-5 & TRBJ1-6 & TRBJ2-1 & TRBJ2-2 & TRBJ2-3 & TRBJ2-4 & TRBJ2-5 & TRBJ2-6 & TRBJ2-7\\\\\n",
       " <chr> & <int> & <int> & <int> & <int> & <int> & <int> & <int> & <int> & <int> & <int> & <int> & <int> & <int>\\\\\n",
       "\\hline\n",
       "\t CHP-328-04-PBMC-DNA & 51696 & 21942 & 18231 & 16697 & 18385 & 8820 & 24641 &  8675 & 19544 &  850 &  9100 & 2201 & 27361\\\\\n",
       "\t CHP-328-05-PBMC-DNA &  4606 &  1094 &   838 &  1336 &   852 &  638 &  2754 &  1535 &  2166 &  585 &   132 &  138 &  1919\\\\\n",
       "\t CHP-351-03-PBMC-DNA & 30512 & 12356 &  8180 &  8507 &  8976 & 4380 & 18392 &  9733 & 13952 & 1091 &  8438 & 1955 & 22631\\\\\n",
       "\t CHP-369-01-PBMC-DNA & 66453 & 28968 & 23124 & 16400 & 25664 & 9843 & 45651 & 21847 & 33586 & 3456 & 15146 & 2029 & 57427\\\\\n",
       "\t CHP-377-02-PBMC-DNA & 13645 &  6481 &  2281 &  3801 &  4178 & 1958 &  4330 &  2455 &  4455 &  210 &  1519 & 1027 &  2443\\\\\n",
       "\t CHP-411-02-PBMC-DNA & 27493 & 16097 &  6760 &  4388 &  7968 & 3435 & 14488 &  5664 & 12965 & 1675 &  7366 & 2102 & 17663\\\\\n",
       "\\end{tabular}\n"
      ],
      "text/markdown": [
       "\n",
       "A tibble: 6 x 14\n",
       "\n",
       "| basename &lt;chr&gt; | TRBJ1-1 &lt;int&gt; | TRBJ1-2 &lt;int&gt; | TRBJ1-3 &lt;int&gt; | TRBJ1-4 &lt;int&gt; | TRBJ1-5 &lt;int&gt; | TRBJ1-6 &lt;int&gt; | TRBJ2-1 &lt;int&gt; | TRBJ2-2 &lt;int&gt; | TRBJ2-3 &lt;int&gt; | TRBJ2-4 &lt;int&gt; | TRBJ2-5 &lt;int&gt; | TRBJ2-6 &lt;int&gt; | TRBJ2-7 &lt;int&gt; |\n",
       "|---|---|---|---|---|---|---|---|---|---|---|---|---|---|\n",
       "| CHP-328-04-PBMC-DNA | 51696 | 21942 | 18231 | 16697 | 18385 | 8820 | 24641 |  8675 | 19544 |  850 |  9100 | 2201 | 27361 |\n",
       "| CHP-328-05-PBMC-DNA |  4606 |  1094 |   838 |  1336 |   852 |  638 |  2754 |  1535 |  2166 |  585 |   132 |  138 |  1919 |\n",
       "| CHP-351-03-PBMC-DNA | 30512 | 12356 |  8180 |  8507 |  8976 | 4380 | 18392 |  9733 | 13952 | 1091 |  8438 | 1955 | 22631 |\n",
       "| CHP-369-01-PBMC-DNA | 66453 | 28968 | 23124 | 16400 | 25664 | 9843 | 45651 | 21847 | 33586 | 3456 | 15146 | 2029 | 57427 |\n",
       "| CHP-377-02-PBMC-DNA | 13645 |  6481 |  2281 |  3801 |  4178 | 1958 |  4330 |  2455 |  4455 |  210 |  1519 | 1027 |  2443 |\n",
       "| CHP-411-02-PBMC-DNA | 27493 | 16097 |  6760 |  4388 |  7968 | 3435 | 14488 |  5664 | 12965 | 1675 |  7366 | 2102 | 17663 |\n",
       "\n"
      ],
      "text/plain": [
       "  basename            TRBJ1-1 TRBJ1-2 TRBJ1-3 TRBJ1-4 TRBJ1-5 TRBJ1-6 TRBJ2-1\n",
       "1 CHP-328-04-PBMC-DNA 51696   21942   18231   16697   18385   8820    24641  \n",
       "2 CHP-328-05-PBMC-DNA  4606    1094     838    1336     852    638     2754  \n",
       "3 CHP-351-03-PBMC-DNA 30512   12356    8180    8507    8976   4380    18392  \n",
       "4 CHP-369-01-PBMC-DNA 66453   28968   23124   16400   25664   9843    45651  \n",
       "5 CHP-377-02-PBMC-DNA 13645    6481    2281    3801    4178   1958     4330  \n",
       "6 CHP-411-02-PBMC-DNA 27493   16097    6760    4388    7968   3435    14488  \n",
       "  TRBJ2-2 TRBJ2-3 TRBJ2-4 TRBJ2-5 TRBJ2-6 TRBJ2-7\n",
       "1  8675   19544    850     9100   2201    27361  \n",
       "2  1535    2166    585      132    138     1919  \n",
       "3  9733   13952   1091     8438   1955    22631  \n",
       "4 21847   33586   3456    15146   2029    57427  \n",
       "5  2455    4455    210     1519   1027     2443  \n",
       "6  5664   12965   1675     7366   2102    17663  "
      ]
     },
     "metadata": {},
     "output_type": "display_data"
    }
   ],
   "source": [
    "head(int_j_count)"
   ]
  },
  {
   "cell_type": "code",
   "execution_count": 16,
   "metadata": {
    "vscode": {
     "languageId": "r"
    }
   },
   "outputs": [],
   "source": [
    "int_j_count <- as.data.frame(int_j_count)\n",
    "rownames(int_j_count) <- int_j_count$basename\n",
    "int_j_count$basename <- NULL"
   ]
  },
  {
   "cell_type": "code",
   "execution_count": 17,
   "metadata": {
    "vscode": {
     "languageId": "r"
    }
   },
   "outputs": [
    {
     "data": {
      "text/html": [
       "<table class=\"dataframe\">\n",
       "<caption>A data.frame: 6 x 13</caption>\n",
       "<thead>\n",
       "\t<tr><th></th><th scope=col>TRBJ1-1</th><th scope=col>TRBJ1-2</th><th scope=col>TRBJ1-3</th><th scope=col>TRBJ1-4</th><th scope=col>TRBJ1-5</th><th scope=col>TRBJ1-6</th><th scope=col>TRBJ2-1</th><th scope=col>TRBJ2-2</th><th scope=col>TRBJ2-3</th><th scope=col>TRBJ2-4</th><th scope=col>TRBJ2-5</th><th scope=col>TRBJ2-6</th><th scope=col>TRBJ2-7</th></tr>\n",
       "\t<tr><th></th><th scope=col>&lt;int&gt;</th><th scope=col>&lt;int&gt;</th><th scope=col>&lt;int&gt;</th><th scope=col>&lt;int&gt;</th><th scope=col>&lt;int&gt;</th><th scope=col>&lt;int&gt;</th><th scope=col>&lt;int&gt;</th><th scope=col>&lt;int&gt;</th><th scope=col>&lt;int&gt;</th><th scope=col>&lt;int&gt;</th><th scope=col>&lt;int&gt;</th><th scope=col>&lt;int&gt;</th><th scope=col>&lt;int&gt;</th></tr>\n",
       "</thead>\n",
       "<tbody>\n",
       "\t<tr><th scope=row>CHP-328-04-PBMC-DNA</th><td>51696</td><td>21942</td><td>18231</td><td>16697</td><td>18385</td><td>8820</td><td>24641</td><td> 8675</td><td>19544</td><td> 850</td><td> 9100</td><td>2201</td><td>27361</td></tr>\n",
       "\t<tr><th scope=row>CHP-328-05-PBMC-DNA</th><td> 4606</td><td> 1094</td><td>  838</td><td> 1336</td><td>  852</td><td> 638</td><td> 2754</td><td> 1535</td><td> 2166</td><td> 585</td><td>  132</td><td> 138</td><td> 1919</td></tr>\n",
       "\t<tr><th scope=row>CHP-351-03-PBMC-DNA</th><td>30512</td><td>12356</td><td> 8180</td><td> 8507</td><td> 8976</td><td>4380</td><td>18392</td><td> 9733</td><td>13952</td><td>1091</td><td> 8438</td><td>1955</td><td>22631</td></tr>\n",
       "\t<tr><th scope=row>CHP-369-01-PBMC-DNA</th><td>66453</td><td>28968</td><td>23124</td><td>16400</td><td>25664</td><td>9843</td><td>45651</td><td>21847</td><td>33586</td><td>3456</td><td>15146</td><td>2029</td><td>57427</td></tr>\n",
       "\t<tr><th scope=row>CHP-377-02-PBMC-DNA</th><td>13645</td><td> 6481</td><td> 2281</td><td> 3801</td><td> 4178</td><td>1958</td><td> 4330</td><td> 2455</td><td> 4455</td><td> 210</td><td> 1519</td><td>1027</td><td> 2443</td></tr>\n",
       "\t<tr><th scope=row>CHP-411-02-PBMC-DNA</th><td>27493</td><td>16097</td><td> 6760</td><td> 4388</td><td> 7968</td><td>3435</td><td>14488</td><td> 5664</td><td>12965</td><td>1675</td><td> 7366</td><td>2102</td><td>17663</td></tr>\n",
       "</tbody>\n",
       "</table>\n"
      ],
      "text/latex": [
       "A data.frame: 6 x 13\n",
       "\\begin{tabular}{r|lllllllllllll}\n",
       "  & TRBJ1-1 & TRBJ1-2 & TRBJ1-3 & TRBJ1-4 & TRBJ1-5 & TRBJ1-6 & TRBJ2-1 & TRBJ2-2 & TRBJ2-3 & TRBJ2-4 & TRBJ2-5 & TRBJ2-6 & TRBJ2-7\\\\\n",
       "  & <int> & <int> & <int> & <int> & <int> & <int> & <int> & <int> & <int> & <int> & <int> & <int> & <int>\\\\\n",
       "\\hline\n",
       "\tCHP-328-04-PBMC-DNA & 51696 & 21942 & 18231 & 16697 & 18385 & 8820 & 24641 &  8675 & 19544 &  850 &  9100 & 2201 & 27361\\\\\n",
       "\tCHP-328-05-PBMC-DNA &  4606 &  1094 &   838 &  1336 &   852 &  638 &  2754 &  1535 &  2166 &  585 &   132 &  138 &  1919\\\\\n",
       "\tCHP-351-03-PBMC-DNA & 30512 & 12356 &  8180 &  8507 &  8976 & 4380 & 18392 &  9733 & 13952 & 1091 &  8438 & 1955 & 22631\\\\\n",
       "\tCHP-369-01-PBMC-DNA & 66453 & 28968 & 23124 & 16400 & 25664 & 9843 & 45651 & 21847 & 33586 & 3456 & 15146 & 2029 & 57427\\\\\n",
       "\tCHP-377-02-PBMC-DNA & 13645 &  6481 &  2281 &  3801 &  4178 & 1958 &  4330 &  2455 &  4455 &  210 &  1519 & 1027 &  2443\\\\\n",
       "\tCHP-411-02-PBMC-DNA & 27493 & 16097 &  6760 &  4388 &  7968 & 3435 & 14488 &  5664 & 12965 & 1675 &  7366 & 2102 & 17663\\\\\n",
       "\\end{tabular}\n"
      ],
      "text/markdown": [
       "\n",
       "A data.frame: 6 x 13\n",
       "\n",
       "| <!--/--> | TRBJ1-1 &lt;int&gt; | TRBJ1-2 &lt;int&gt; | TRBJ1-3 &lt;int&gt; | TRBJ1-4 &lt;int&gt; | TRBJ1-5 &lt;int&gt; | TRBJ1-6 &lt;int&gt; | TRBJ2-1 &lt;int&gt; | TRBJ2-2 &lt;int&gt; | TRBJ2-3 &lt;int&gt; | TRBJ2-4 &lt;int&gt; | TRBJ2-5 &lt;int&gt; | TRBJ2-6 &lt;int&gt; | TRBJ2-7 &lt;int&gt; |\n",
       "|---|---|---|---|---|---|---|---|---|---|---|---|---|---|\n",
       "| CHP-328-04-PBMC-DNA | 51696 | 21942 | 18231 | 16697 | 18385 | 8820 | 24641 |  8675 | 19544 |  850 |  9100 | 2201 | 27361 |\n",
       "| CHP-328-05-PBMC-DNA |  4606 |  1094 |   838 |  1336 |   852 |  638 |  2754 |  1535 |  2166 |  585 |   132 |  138 |  1919 |\n",
       "| CHP-351-03-PBMC-DNA | 30512 | 12356 |  8180 |  8507 |  8976 | 4380 | 18392 |  9733 | 13952 | 1091 |  8438 | 1955 | 22631 |\n",
       "| CHP-369-01-PBMC-DNA | 66453 | 28968 | 23124 | 16400 | 25664 | 9843 | 45651 | 21847 | 33586 | 3456 | 15146 | 2029 | 57427 |\n",
       "| CHP-377-02-PBMC-DNA | 13645 |  6481 |  2281 |  3801 |  4178 | 1958 |  4330 |  2455 |  4455 |  210 |  1519 | 1027 |  2443 |\n",
       "| CHP-411-02-PBMC-DNA | 27493 | 16097 |  6760 |  4388 |  7968 | 3435 | 14488 |  5664 | 12965 | 1675 |  7366 | 2102 | 17663 |\n",
       "\n"
      ],
      "text/plain": [
       "                    TRBJ1-1 TRBJ1-2 TRBJ1-3 TRBJ1-4 TRBJ1-5 TRBJ1-6 TRBJ2-1\n",
       "CHP-328-04-PBMC-DNA 51696   21942   18231   16697   18385   8820    24641  \n",
       "CHP-328-05-PBMC-DNA  4606    1094     838    1336     852    638     2754  \n",
       "CHP-351-03-PBMC-DNA 30512   12356    8180    8507    8976   4380    18392  \n",
       "CHP-369-01-PBMC-DNA 66453   28968   23124   16400   25664   9843    45651  \n",
       "CHP-377-02-PBMC-DNA 13645    6481    2281    3801    4178   1958     4330  \n",
       "CHP-411-02-PBMC-DNA 27493   16097    6760    4388    7968   3435    14488  \n",
       "                    TRBJ2-2 TRBJ2-3 TRBJ2-4 TRBJ2-5 TRBJ2-6 TRBJ2-7\n",
       "CHP-328-04-PBMC-DNA  8675   19544    850     9100   2201    27361  \n",
       "CHP-328-05-PBMC-DNA  1535    2166    585      132    138     1919  \n",
       "CHP-351-03-PBMC-DNA  9733   13952   1091     8438   1955    22631  \n",
       "CHP-369-01-PBMC-DNA 21847   33586   3456    15146   2029    57427  \n",
       "CHP-377-02-PBMC-DNA  2455    4455    210     1519   1027     2443  \n",
       "CHP-411-02-PBMC-DNA  5664   12965   1675     7366   2102    17663  "
      ]
     },
     "metadata": {},
     "output_type": "display_data"
    }
   ],
   "source": [
    "head(int_j_count)"
   ]
  },
  {
   "cell_type": "code",
   "execution_count": 18,
   "metadata": {
    "vscode": {
     "languageId": "r"
    }
   },
   "outputs": [],
   "source": [
    "readr::write_rds(int_j_count, paste0(datapath, \"capTCRseq/int_pbmc_j_count.rds\"))"
   ]
  },
  {
   "cell_type": "code",
   "execution_count": 19,
   "metadata": {
    "vscode": {
     "languageId": "r"
    }
   },
   "outputs": [
    {
     "name": "stderr",
     "output_type": "stream",
     "text": [
      "\u001b[1m\u001b[22m`summarise()` has grouped output by 'basename'. You can override using the\n",
      "`.groups` argument.\n"
     ]
    }
   ],
   "source": [
    "int_j <- int_v_j_cdr3_l %>% group_by(basename, TRBJ) %>% summarize(Jfrac = sum(cloneFraction)) %>% ungroup()"
   ]
  },
  {
   "cell_type": "code",
   "execution_count": 20,
   "metadata": {
    "vscode": {
     "languageId": "r"
    }
   },
   "outputs": [
    {
     "data": {
      "text/html": [
       "<table class=\"dataframe\">\n",
       "<caption>A tibble: 6 x 3</caption>\n",
       "<thead>\n",
       "\t<tr><th scope=col>basename</th><th scope=col>TRBJ</th><th scope=col>Jfrac</th></tr>\n",
       "\t<tr><th scope=col>&lt;chr&gt;</th><th scope=col>&lt;chr&gt;</th><th scope=col>&lt;dbl&gt;</th></tr>\n",
       "</thead>\n",
       "<tbody>\n",
       "\t<tr><td>CHP-328-04-PBMC-DNA</td><td>TRBJ1-1</td><td>0.18617650</td></tr>\n",
       "\t<tr><td>CHP-328-04-PBMC-DNA</td><td>TRBJ1-2</td><td>0.07902129</td></tr>\n",
       "\t<tr><td>CHP-328-04-PBMC-DNA</td><td>TRBJ1-3</td><td>0.06565660</td></tr>\n",
       "\t<tr><td>CHP-328-04-PBMC-DNA</td><td>TRBJ1-4</td><td>0.06013210</td></tr>\n",
       "\t<tr><td>CHP-328-04-PBMC-DNA</td><td>TRBJ1-5</td><td>0.06621121</td></tr>\n",
       "\t<tr><td>CHP-328-04-PBMC-DNA</td><td>TRBJ1-6</td><td>0.03176410</td></tr>\n",
       "</tbody>\n",
       "</table>\n"
      ],
      "text/latex": [
       "A tibble: 6 x 3\n",
       "\\begin{tabular}{lll}\n",
       " basename & TRBJ & Jfrac\\\\\n",
       " <chr> & <chr> & <dbl>\\\\\n",
       "\\hline\n",
       "\t CHP-328-04-PBMC-DNA & TRBJ1-1 & 0.18617650\\\\\n",
       "\t CHP-328-04-PBMC-DNA & TRBJ1-2 & 0.07902129\\\\\n",
       "\t CHP-328-04-PBMC-DNA & TRBJ1-3 & 0.06565660\\\\\n",
       "\t CHP-328-04-PBMC-DNA & TRBJ1-4 & 0.06013210\\\\\n",
       "\t CHP-328-04-PBMC-DNA & TRBJ1-5 & 0.06621121\\\\\n",
       "\t CHP-328-04-PBMC-DNA & TRBJ1-6 & 0.03176410\\\\\n",
       "\\end{tabular}\n"
      ],
      "text/markdown": [
       "\n",
       "A tibble: 6 x 3\n",
       "\n",
       "| basename &lt;chr&gt; | TRBJ &lt;chr&gt; | Jfrac &lt;dbl&gt; |\n",
       "|---|---|---|\n",
       "| CHP-328-04-PBMC-DNA | TRBJ1-1 | 0.18617650 |\n",
       "| CHP-328-04-PBMC-DNA | TRBJ1-2 | 0.07902129 |\n",
       "| CHP-328-04-PBMC-DNA | TRBJ1-3 | 0.06565660 |\n",
       "| CHP-328-04-PBMC-DNA | TRBJ1-4 | 0.06013210 |\n",
       "| CHP-328-04-PBMC-DNA | TRBJ1-5 | 0.06621121 |\n",
       "| CHP-328-04-PBMC-DNA | TRBJ1-6 | 0.03176410 |\n",
       "\n"
      ],
      "text/plain": [
       "  basename            TRBJ    Jfrac     \n",
       "1 CHP-328-04-PBMC-DNA TRBJ1-1 0.18617650\n",
       "2 CHP-328-04-PBMC-DNA TRBJ1-2 0.07902129\n",
       "3 CHP-328-04-PBMC-DNA TRBJ1-3 0.06565660\n",
       "4 CHP-328-04-PBMC-DNA TRBJ1-4 0.06013210\n",
       "5 CHP-328-04-PBMC-DNA TRBJ1-5 0.06621121\n",
       "6 CHP-328-04-PBMC-DNA TRBJ1-6 0.03176410"
      ]
     },
     "metadata": {},
     "output_type": "display_data"
    }
   ],
   "source": [
    "head(int_j)"
   ]
  },
  {
   "cell_type": "code",
   "execution_count": 22,
   "metadata": {
    "vscode": {
     "languageId": "r"
    }
   },
   "outputs": [],
   "source": [
    "int_j_fraction <- tidyr::pivot_wider(int_j, names_from = \"TRBJ\", values_from = \"Jfrac\", values_fill = 0)"
   ]
  },
  {
   "cell_type": "code",
   "execution_count": 23,
   "metadata": {
    "vscode": {
     "languageId": "r"
    }
   },
   "outputs": [],
   "source": [
    "int_j_fraction <- as.data.frame(int_j_fraction)\n",
    "rownames(int_j_fraction) <- int_j_fraction$basename\n",
    "int_j_fraction$basename <- NULL"
   ]
  },
  {
   "cell_type": "code",
   "execution_count": 24,
   "metadata": {
    "vscode": {
     "languageId": "r"
    }
   },
   "outputs": [],
   "source": [
    "readr::write_rds(int_j_fraction, paste0(datapath, \"capTCRseq/int_pbmc_j_fraction.rds\"))"
   ]
  },
  {
   "cell_type": "code",
   "execution_count": null,
   "metadata": {
    "vscode": {
     "languageId": "r"
    }
   },
   "outputs": [],
   "source": []
  },
  {
   "cell_type": "code",
   "execution_count": null,
   "metadata": {
    "vscode": {
     "languageId": "r"
    }
   },
   "outputs": [],
   "source": []
  },
  {
   "cell_type": "code",
   "execution_count": 11,
   "metadata": {
    "vscode": {
     "languageId": "r"
    }
   },
   "outputs": [],
   "source": [
    "# should be done for all files\n",
    "jfreq <- int_v_j_cdr3_l %>% group_by(TRBJ) %>% tally() %>% arrange(desc(n)) %>% mutate(freq = n/sum(n))"
   ]
  },
  {
   "cell_type": "code",
   "execution_count": 48,
   "metadata": {
    "vscode": {
     "languageId": "r"
    }
   },
   "outputs": [
    {
     "data": {
      "text/html": [
       "<table class=\"dataframe\">\n",
       "<caption>A tibble: 13 x 3</caption>\n",
       "<thead>\n",
       "\t<tr><th scope=col>TRBJ</th><th scope=col>n</th><th scope=col>freq</th></tr>\n",
       "\t<tr><th scope=col>&lt;chr&gt;</th><th scope=col>&lt;int&gt;</th><th scope=col>&lt;dbl&gt;</th></tr>\n",
       "</thead>\n",
       "<tbody>\n",
       "\t<tr><td>TRBJ2-7</td><td>11105</td><td>0.17207717</td></tr>\n",
       "\t<tr><td>TRBJ1-1</td><td> 9419</td><td>0.14595181</td></tr>\n",
       "\t<tr><td>TRBJ2-1</td><td> 8526</td><td>0.13211436</td></tr>\n",
       "\t<tr><td>TRBJ1-2</td><td> 7361</td><td>0.11406214</td></tr>\n",
       "\t<tr><td>TRBJ2-3</td><td> 6091</td><td>0.09438289</td></tr>\n",
       "\t<tr><td>TRBJ1-5</td><td> 4676</td><td>0.07245681</td></tr>\n",
       "\t<tr><td>TRBJ2-5</td><td> 3857</td><td>0.05976602</td></tr>\n",
       "\t<tr><td>TRBJ2-2</td><td> 3833</td><td>0.05939413</td></tr>\n",
       "\t<tr><td>TRBJ1-6</td><td> 2850</td><td>0.04416208</td></tr>\n",
       "\t<tr><td>TRBJ1-4</td><td> 2708</td><td>0.04196173</td></tr>\n",
       "\t<tr><td>TRBJ1-3</td><td> 2350</td><td>0.03641435</td></tr>\n",
       "\t<tr><td>TRBJ2-6</td><td> 1070</td><td>0.01658015</td></tr>\n",
       "\t<tr><td>TRBJ2-4</td><td>  689</td><td>0.01067638</td></tr>\n",
       "</tbody>\n",
       "</table>\n"
      ],
      "text/latex": [
       "A tibble: 13 x 3\n",
       "\\begin{tabular}{lll}\n",
       " TRBJ & n & freq\\\\\n",
       " <chr> & <int> & <dbl>\\\\\n",
       "\\hline\n",
       "\t TRBJ2-7 & 11105 & 0.17207717\\\\\n",
       "\t TRBJ1-1 &  9419 & 0.14595181\\\\\n",
       "\t TRBJ2-1 &  8526 & 0.13211436\\\\\n",
       "\t TRBJ1-2 &  7361 & 0.11406214\\\\\n",
       "\t TRBJ2-3 &  6091 & 0.09438289\\\\\n",
       "\t TRBJ1-5 &  4676 & 0.07245681\\\\\n",
       "\t TRBJ2-5 &  3857 & 0.05976602\\\\\n",
       "\t TRBJ2-2 &  3833 & 0.05939413\\\\\n",
       "\t TRBJ1-6 &  2850 & 0.04416208\\\\\n",
       "\t TRBJ1-4 &  2708 & 0.04196173\\\\\n",
       "\t TRBJ1-3 &  2350 & 0.03641435\\\\\n",
       "\t TRBJ2-6 &  1070 & 0.01658015\\\\\n",
       "\t TRBJ2-4 &   689 & 0.01067638\\\\\n",
       "\\end{tabular}\n"
      ],
      "text/markdown": [
       "\n",
       "A tibble: 13 x 3\n",
       "\n",
       "| TRBJ &lt;chr&gt; | n &lt;int&gt; | freq &lt;dbl&gt; |\n",
       "|---|---|---|\n",
       "| TRBJ2-7 | 11105 | 0.17207717 |\n",
       "| TRBJ1-1 |  9419 | 0.14595181 |\n",
       "| TRBJ2-1 |  8526 | 0.13211436 |\n",
       "| TRBJ1-2 |  7361 | 0.11406214 |\n",
       "| TRBJ2-3 |  6091 | 0.09438289 |\n",
       "| TRBJ1-5 |  4676 | 0.07245681 |\n",
       "| TRBJ2-5 |  3857 | 0.05976602 |\n",
       "| TRBJ2-2 |  3833 | 0.05939413 |\n",
       "| TRBJ1-6 |  2850 | 0.04416208 |\n",
       "| TRBJ1-4 |  2708 | 0.04196173 |\n",
       "| TRBJ1-3 |  2350 | 0.03641435 |\n",
       "| TRBJ2-6 |  1070 | 0.01658015 |\n",
       "| TRBJ2-4 |   689 | 0.01067638 |\n",
       "\n"
      ],
      "text/plain": [
       "   TRBJ    n     freq      \n",
       "1  TRBJ2-7 11105 0.17207717\n",
       "2  TRBJ1-1  9419 0.14595181\n",
       "3  TRBJ2-1  8526 0.13211436\n",
       "4  TRBJ1-2  7361 0.11406214\n",
       "5  TRBJ2-3  6091 0.09438289\n",
       "6  TRBJ1-5  4676 0.07245681\n",
       "7  TRBJ2-5  3857 0.05976602\n",
       "8  TRBJ2-2  3833 0.05939413\n",
       "9  TRBJ1-6  2850 0.04416208\n",
       "10 TRBJ1-4  2708 0.04196173\n",
       "11 TRBJ1-3  2350 0.03641435\n",
       "12 TRBJ2-6  1070 0.01658015\n",
       "13 TRBJ2-4   689 0.01067638"
      ]
     },
     "metadata": {},
     "output_type": "display_data"
    }
   ],
   "source": [
    "jfreq"
   ]
  },
  {
   "cell_type": "code",
   "execution_count": 49,
   "metadata": {
    "vscode": {
     "languageId": "r"
    }
   },
   "outputs": [],
   "source": [
    "readr::write_rds(jfreq, paste0(datapath, \"capTCRseq/jfreq_int_pbmc.rds\"))"
   ]
  },
  {
   "cell_type": "code",
   "execution_count": 50,
   "metadata": {
    "vscode": {
     "languageId": "r"
    }
   },
   "outputs": [
    {
     "data": {
      "text/plain": [
       "   Min. 1st Qu.  Median    Mean 3rd Qu.    Max. \n",
       "0.01068 0.04196 0.05977 0.07692 0.11406 0.17208 "
      ]
     },
     "metadata": {},
     "output_type": "display_data"
    }
   ],
   "source": [
    "summary(jfreq$freq)"
   ]
  },
  {
   "cell_type": "code",
   "execution_count": 51,
   "metadata": {
    "vscode": {
     "languageId": "r"
    }
   },
   "outputs": [
    {
     "data": {
      "image/png": "[encoded data removed]",
      "text/plain": [
       "Plot with title \"Histogram of jfreq$freq\""
      ]
     },
     "metadata": {
      "image/png": {
       "height": 420,
       "width": 420
      }
     },
     "output_type": "display_data"
    }
   ],
   "source": [
    "hist(jfreq$freq, breaks = 100)"
   ]
  },
  {
   "cell_type": "code",
   "execution_count": 52,
   "metadata": {
    "vscode": {
     "languageId": "r"
    }
   },
   "outputs": [],
   "source": [
    "jgene_mat <- as.data.frame.matrix(table(int_v_j_cdr3_l %>% select(basename, TRBJ  )))"
   ]
  },
  {
   "cell_type": "code",
   "execution_count": 53,
   "metadata": {
    "vscode": {
     "languageId": "r"
    }
   },
   "outputs": [
    {
     "data": {
      "text/html": [
       "<table class=\"dataframe\">\n",
       "<caption>A data.frame: 6 x 13</caption>\n",
       "<thead>\n",
       "\t<tr><th></th><th scope=col>TRBJ1-1</th><th scope=col>TRBJ1-2</th><th scope=col>TRBJ1-3</th><th scope=col>TRBJ1-4</th><th scope=col>TRBJ1-5</th><th scope=col>TRBJ1-6</th><th scope=col>TRBJ2-1</th><th scope=col>TRBJ2-2</th><th scope=col>TRBJ2-3</th><th scope=col>TRBJ2-4</th><th scope=col>TRBJ2-5</th><th scope=col>TRBJ2-6</th><th scope=col>TRBJ2-7</th></tr>\n",
       "\t<tr><th></th><th scope=col>&lt;int&gt;</th><th scope=col>&lt;int&gt;</th><th scope=col>&lt;int&gt;</th><th scope=col>&lt;int&gt;</th><th scope=col>&lt;int&gt;</th><th scope=col>&lt;int&gt;</th><th scope=col>&lt;int&gt;</th><th scope=col>&lt;int&gt;</th><th scope=col>&lt;int&gt;</th><th scope=col>&lt;int&gt;</th><th scope=col>&lt;int&gt;</th><th scope=col>&lt;int&gt;</th><th scope=col>&lt;int&gt;</th></tr>\n",
       "</thead>\n",
       "<tbody>\n",
       "\t<tr><th scope=row>CHP-328-04-PBMC-DNA</th><td> 52</td><td> 46</td><td>16</td><td>21</td><td> 37</td><td>12</td><td> 60</td><td>21</td><td> 51</td><td> 4</td><td>31</td><td> 7</td><td> 94</td></tr>\n",
       "\t<tr><th scope=row>CHP-328-05-PBMC-DNA</th><td> 22</td><td> 13</td><td> 4</td><td> 5</td><td>  8</td><td> 3</td><td> 25</td><td> 9</td><td> 19</td><td> 4</td><td> 5</td><td> 1</td><td> 33</td></tr>\n",
       "\t<tr><th scope=row>CHP-351-03-PBMC-DNA</th><td>114</td><td>100</td><td>40</td><td>38</td><td> 72</td><td>42</td><td>151</td><td>70</td><td>107</td><td>10</td><td>89</td><td>20</td><td>238</td></tr>\n",
       "\t<tr><th scope=row>CHP-353-04-PBMC-DNA</th><td>359</td><td>269</td><td>73</td><td>83</td><td>138</td><td>82</td><td>159</td><td>78</td><td> 96</td><td> 5</td><td>87</td><td>26</td><td>239</td></tr>\n",
       "\t<tr><th scope=row>CHP-363-04-PBMC-DNA</th><td>105</td><td> 79</td><td>24</td><td>34</td><td> 65</td><td>40</td><td> 84</td><td>43</td><td> 69</td><td> 3</td><td>41</td><td>20</td><td>144</td></tr>\n",
       "\t<tr><th scope=row>CHP-369-01-PBMC-DNA</th><td> 76</td><td> 62</td><td>26</td><td>25</td><td> 46</td><td>16</td><td> 95</td><td>51</td><td> 82</td><td>10</td><td>53</td><td>12</td><td>173</td></tr>\n",
       "</tbody>\n",
       "</table>\n"
      ],
      "text/latex": [
       "A data.frame: 6 x 13\n",
       "\\begin{tabular}{r|lllllllllllll}\n",
       "  & TRBJ1-1 & TRBJ1-2 & TRBJ1-3 & TRBJ1-4 & TRBJ1-5 & TRBJ1-6 & TRBJ2-1 & TRBJ2-2 & TRBJ2-3 & TRBJ2-4 & TRBJ2-5 & TRBJ2-6 & TRBJ2-7\\\\\n",
       "  & <int> & <int> & <int> & <int> & <int> & <int> & <int> & <int> & <int> & <int> & <int> & <int> & <int>\\\\\n",
       "\\hline\n",
       "\tCHP-328-04-PBMC-DNA &  52 &  46 & 16 & 21 &  37 & 12 &  60 & 21 &  51 &  4 & 31 &  7 &  94\\\\\n",
       "\tCHP-328-05-PBMC-DNA &  22 &  13 &  4 &  5 &   8 &  3 &  25 &  9 &  19 &  4 &  5 &  1 &  33\\\\\n",
       "\tCHP-351-03-PBMC-DNA & 114 & 100 & 40 & 38 &  72 & 42 & 151 & 70 & 107 & 10 & 89 & 20 & 238\\\\\n",
       "\tCHP-353-04-PBMC-DNA & 359 & 269 & 73 & 83 & 138 & 82 & 159 & 78 &  96 &  5 & 87 & 26 & 239\\\\\n",
       "\tCHP-363-04-PBMC-DNA & 105 &  79 & 24 & 34 &  65 & 40 &  84 & 43 &  69 &  3 & 41 & 20 & 144\\\\\n",
       "\tCHP-369-01-PBMC-DNA &  76 &  62 & 26 & 25 &  46 & 16 &  95 & 51 &  82 & 10 & 53 & 12 & 173\\\\\n",
       "\\end{tabular}\n"
      ],
      "text/markdown": [
       "\n",
       "A data.frame: 6 x 13\n",
       "\n",
       "| <!--/--> | TRBJ1-1 &lt;int&gt; | TRBJ1-2 &lt;int&gt; | TRBJ1-3 &lt;int&gt; | TRBJ1-4 &lt;int&gt; | TRBJ1-5 &lt;int&gt; | TRBJ1-6 &lt;int&gt; | TRBJ2-1 &lt;int&gt; | TRBJ2-2 &lt;int&gt; | TRBJ2-3 &lt;int&gt; | TRBJ2-4 &lt;int&gt; | TRBJ2-5 &lt;int&gt; | TRBJ2-6 &lt;int&gt; | TRBJ2-7 &lt;int&gt; |\n",
       "|---|---|---|---|---|---|---|---|---|---|---|---|---|---|\n",
       "| CHP-328-04-PBMC-DNA |  52 |  46 | 16 | 21 |  37 | 12 |  60 | 21 |  51 |  4 | 31 |  7 |  94 |\n",
       "| CHP-328-05-PBMC-DNA |  22 |  13 |  4 |  5 |   8 |  3 |  25 |  9 |  19 |  4 |  5 |  1 |  33 |\n",
       "| CHP-351-03-PBMC-DNA | 114 | 100 | 40 | 38 |  72 | 42 | 151 | 70 | 107 | 10 | 89 | 20 | 238 |\n",
       "| CHP-353-04-PBMC-DNA | 359 | 269 | 73 | 83 | 138 | 82 | 159 | 78 |  96 |  5 | 87 | 26 | 239 |\n",
       "| CHP-363-04-PBMC-DNA | 105 |  79 | 24 | 34 |  65 | 40 |  84 | 43 |  69 |  3 | 41 | 20 | 144 |\n",
       "| CHP-369-01-PBMC-DNA |  76 |  62 | 26 | 25 |  46 | 16 |  95 | 51 |  82 | 10 | 53 | 12 | 173 |\n",
       "\n"
      ],
      "text/plain": [
       "                    TRBJ1-1 TRBJ1-2 TRBJ1-3 TRBJ1-4 TRBJ1-5 TRBJ1-6 TRBJ2-1\n",
       "CHP-328-04-PBMC-DNA  52      46     16      21       37     12       60    \n",
       "CHP-328-05-PBMC-DNA  22      13      4       5        8      3       25    \n",
       "CHP-351-03-PBMC-DNA 114     100     40      38       72     42      151    \n",
       "CHP-353-04-PBMC-DNA 359     269     73      83      138     82      159    \n",
       "CHP-363-04-PBMC-DNA 105      79     24      34       65     40       84    \n",
       "CHP-369-01-PBMC-DNA  76      62     26      25       46     16       95    \n",
       "                    TRBJ2-2 TRBJ2-3 TRBJ2-4 TRBJ2-5 TRBJ2-6 TRBJ2-7\n",
       "CHP-328-04-PBMC-DNA 21       51      4      31       7       94    \n",
       "CHP-328-05-PBMC-DNA  9       19      4       5       1       33    \n",
       "CHP-351-03-PBMC-DNA 70      107     10      89      20      238    \n",
       "CHP-353-04-PBMC-DNA 78       96      5      87      26      239    \n",
       "CHP-363-04-PBMC-DNA 43       69      3      41      20      144    \n",
       "CHP-369-01-PBMC-DNA 51       82     10      53      12      173    "
      ]
     },
     "metadata": {},
     "output_type": "display_data"
    }
   ],
   "source": [
    "head(jgene_mat)"
   ]
  },
  {
   "cell_type": "code",
   "execution_count": 54,
   "metadata": {
    "vscode": {
     "languageId": "r"
    }
   },
   "outputs": [],
   "source": [
    "readr::write_rds(jgene_mat, paste0(datapath, \"capTCRseq/int__pbmc_jgene_matrix.rds\"))"
   ]
  },
  {
   "cell_type": "code",
   "execution_count": 55,
   "metadata": {
    "vscode": {
     "languageId": "r"
    }
   },
   "outputs": [
    {
     "data": {
      "text/html": [
       "<style>\n",
       ".list-inline {list-style: none; margin:0; padding: 0}\n",
       ".list-inline>li {display: inline-block}\n",
       ".list-inline>li:not(:last-child)::after {content: \"\\00b7\"; padding: 0 .5ex}\n",
       "</style>\n",
       "<ol class=list-inline><li>258</li><li>13</li></ol>\n"
      ],
      "text/latex": [
       "\\begin{enumerate*}\n",
       "\\item 258\n",
       "\\item 13\n",
       "\\end{enumerate*}\n"
      ],
      "text/markdown": [
       "1. 258\n",
       "2. 13\n",
       "\n",
       "\n"
      ],
      "text/plain": [
       "[1] 258  13"
      ]
     },
     "metadata": {},
     "output_type": "display_data"
    }
   ],
   "source": [
    "dim(jgene_mat)"
   ]
  },
  {
   "cell_type": "code",
   "execution_count": 56,
   "metadata": {
    "vscode": {
     "languageId": "r"
    }
   },
   "outputs": [],
   "source": [
    "cormat <- cor(jgene_mat)"
   ]
  },
  {
   "cell_type": "code",
   "execution_count": 57,
   "metadata": {
    "vscode": {
     "languageId": "r"
    }
   },
   "outputs": [],
   "source": [
    "#vgene_mat_hf[,c(\"TRBV10-3\", \"TRBV7-9\", \"TRBV13\")]"
   ]
  },
  {
   "cell_type": "code",
   "execution_count": 58,
   "metadata": {
    "vscode": {
     "languageId": "r"
    }
   },
   "outputs": [
    {
     "data": {
      "text/plain": [
       "   Min. 1st Qu.  Median    Mean 3rd Qu.    Max. \n",
       " 0.6524  0.8824  0.9129  0.8909  0.9390  1.0000 "
      ]
     },
     "metadata": {},
     "output_type": "display_data"
    }
   ],
   "source": [
    "summary(as.vector(cormat) )\n",
    "\n",
    "# generally high correlation"
   ]
  },
  {
   "attachments": {},
   "cell_type": "markdown",
   "metadata": {},
   "source": [
    "PCA"
   ]
  },
  {
   "cell_type": "code",
   "execution_count": 59,
   "metadata": {
    "vscode": {
     "languageId": "r"
    }
   },
   "outputs": [
    {
     "data": {
      "text/html": [
       "<table class=\"dataframe\">\n",
       "<caption>A data.frame: 258 x 13</caption>\n",
       "<thead>\n",
       "\t<tr><th></th><th scope=col>TRBJ1-1</th><th scope=col>TRBJ1-2</th><th scope=col>TRBJ1-3</th><th scope=col>TRBJ1-4</th><th scope=col>TRBJ1-5</th><th scope=col>TRBJ1-6</th><th scope=col>TRBJ2-1</th><th scope=col>TRBJ2-2</th><th scope=col>TRBJ2-3</th><th scope=col>TRBJ2-4</th><th scope=col>TRBJ2-5</th><th scope=col>TRBJ2-6</th><th scope=col>TRBJ2-7</th></tr>\n",
       "\t<tr><th></th><th scope=col>&lt;int&gt;</th><th scope=col>&lt;int&gt;</th><th scope=col>&lt;int&gt;</th><th scope=col>&lt;int&gt;</th><th scope=col>&lt;int&gt;</th><th scope=col>&lt;int&gt;</th><th scope=col>&lt;int&gt;</th><th scope=col>&lt;int&gt;</th><th scope=col>&lt;int&gt;</th><th scope=col>&lt;int&gt;</th><th scope=col>&lt;int&gt;</th><th scope=col>&lt;int&gt;</th><th scope=col>&lt;int&gt;</th></tr>\n",
       "</thead>\n",
       "<tbody>\n",
       "\t<tr><th scope=row>CHP-328-04-PBMC-DNA</th><td> 52</td><td> 46</td><td>16</td><td>21</td><td> 37</td><td>12</td><td> 60</td><td>21</td><td> 51</td><td> 4</td><td>31</td><td> 7</td><td> 94</td></tr>\n",
       "\t<tr><th scope=row>CHP-328-05-PBMC-DNA</th><td> 22</td><td> 13</td><td> 4</td><td> 5</td><td>  8</td><td> 3</td><td> 25</td><td> 9</td><td> 19</td><td> 4</td><td> 5</td><td> 1</td><td> 33</td></tr>\n",
       "\t<tr><th scope=row>CHP-351-03-PBMC-DNA</th><td>114</td><td>100</td><td>40</td><td>38</td><td> 72</td><td>42</td><td>151</td><td>70</td><td>107</td><td>10</td><td>89</td><td>20</td><td>238</td></tr>\n",
       "\t<tr><th scope=row>CHP-353-04-PBMC-DNA</th><td>359</td><td>269</td><td>73</td><td>83</td><td>138</td><td>82</td><td>159</td><td>78</td><td> 96</td><td> 5</td><td>87</td><td>26</td><td>239</td></tr>\n",
       "\t<tr><th scope=row>CHP-363-04-PBMC-DNA</th><td>105</td><td> 79</td><td>24</td><td>34</td><td> 65</td><td>40</td><td> 84</td><td>43</td><td> 69</td><td> 3</td><td>41</td><td>20</td><td>144</td></tr>\n",
       "\t<tr><th scope=row>CHP-369-01-PBMC-DNA</th><td> 76</td><td> 62</td><td>26</td><td>25</td><td> 46</td><td>16</td><td> 95</td><td>51</td><td> 82</td><td>10</td><td>53</td><td>12</td><td>173</td></tr>\n",
       "\t<tr><th scope=row>CHP-371-03-PBMC-DNA</th><td>113</td><td> 57</td><td>12</td><td>20</td><td> 42</td><td>23</td><td>110</td><td>41</td><td> 53</td><td> 2</td><td>23</td><td>12</td><td>103</td></tr>\n",
       "\t<tr><th scope=row>CHP-377-02-PBMC-DNA</th><td> 83</td><td> 73</td><td>18</td><td>31</td><td> 49</td><td>26</td><td> 61</td><td>39</td><td> 42</td><td> 3</td><td>24</td><td>11</td><td> 53</td></tr>\n",
       "\t<tr><th scope=row>CHP-386-04-PBMC-DNA</th><td> 99</td><td> 70</td><td>28</td><td>26</td><td> 46</td><td>23</td><td> 64</td><td>51</td><td> 72</td><td> 2</td><td>17</td><td>23</td><td>143</td></tr>\n",
       "\t<tr><th scope=row>CHP-386-05-PBMC-DNA</th><td> 34</td><td> 28</td><td>11</td><td>10</td><td> 20</td><td>25</td><td> 46</td><td>25</td><td> 38</td><td> 0</td><td> 8</td><td> 7</td><td> 86</td></tr>\n",
       "\t<tr><th scope=row>CHP-398-02-PBMC-DNA</th><td> 81</td><td> 69</td><td>20</td><td>18</td><td> 45</td><td>33</td><td> 64</td><td>28</td><td> 23</td><td> 3</td><td>32</td><td> 8</td><td> 81</td></tr>\n",
       "\t<tr><th scope=row>CHP-404-03-PBMC-DNA</th><td> 30</td><td> 18</td><td> 6</td><td> 6</td><td> 16</td><td>11</td><td> 21</td><td> 8</td><td> 21</td><td> 1</td><td> 7</td><td> 4</td><td> 27</td></tr>\n",
       "\t<tr><th scope=row>CHP-411-02-PBMC-DNA</th><td>220</td><td>165</td><td>54</td><td>50</td><td> 78</td><td>50</td><td>130</td><td>69</td><td>111</td><td>11</td><td>76</td><td>22</td><td>205</td></tr>\n",
       "\t<tr><th scope=row>CHP-416-02-PBMC-DNA</th><td> 13</td><td> 11</td><td> 6</td><td> 8</td><td>  8</td><td> 6</td><td> 12</td><td> 6</td><td>  7</td><td> 4</td><td> 3</td><td> 1</td><td> 15</td></tr>\n",
       "\t<tr><th scope=row>CHP_10YO-M_PBMC_DNA</th><td>  6</td><td>  7</td><td> 0</td><td> 0</td><td>  0</td><td> 1</td><td>  0</td><td> 1</td><td>  1</td><td> 0</td><td> 1</td><td> 0</td><td>  2</td></tr>\n",
       "\t<tr><th scope=row>CHP_11YO-M_PBMC_DNA</th><td>  2</td><td>  3</td><td> 2</td><td> 0</td><td>  1</td><td> 2</td><td>  2</td><td> 1</td><td>  1</td><td> 0</td><td> 0</td><td> 1</td><td>  1</td></tr>\n",
       "\t<tr><th scope=row>CHP_15YO-F-A_PBMC_DNA</th><td>  1</td><td>  0</td><td> 0</td><td> 0</td><td>  3</td><td> 2</td><td>  1</td><td> 1</td><td>  2</td><td> 0</td><td> 1</td><td> 0</td><td>  0</td></tr>\n",
       "\t<tr><th scope=row>CHP_15YO-F-B_PBMC_DNA</th><td>  0</td><td>  0</td><td> 2</td><td> 1</td><td>  0</td><td> 1</td><td>  1</td><td> 1</td><td>  1</td><td> 0</td><td> 0</td><td> 0</td><td>  0</td></tr>\n",
       "\t<tr><th scope=row>CHP_15YO-M_PBMC_DNA</th><td>  6</td><td>  4</td><td> 2</td><td> 1</td><td>  0</td><td> 1</td><td>  0</td><td> 0</td><td>  3</td><td> 0</td><td> 1</td><td> 1</td><td>  4</td></tr>\n",
       "\t<tr><th scope=row>CHP_16YO-M_PBMC_DNA</th><td>  0</td><td>  0</td><td> 1</td><td> 0</td><td>  1</td><td> 0</td><td>  0</td><td> 1</td><td>  0</td><td> 1</td><td> 0</td><td> 0</td><td>  0</td></tr>\n",
       "\t<tr><th scope=row>CHP_1YO-M-A_PBMC_DNA</th><td>  8</td><td>  8</td><td> 2</td><td> 0</td><td>  3</td><td> 2</td><td>  2</td><td> 6</td><td>  7</td><td> 1</td><td> 1</td><td> 1</td><td>  9</td></tr>\n",
       "\t<tr><th scope=row>CHP_1YO-M-B_PBMC_DNA</th><td>  0</td><td>  1</td><td> 0</td><td> 0</td><td>  1</td><td> 0</td><td>  0</td><td> 0</td><td>  1</td><td> 0</td><td> 0</td><td> 0</td><td>  0</td></tr>\n",
       "\t<tr><th scope=row>CHP_2YO-M_PBMC_DNA</th><td>  1</td><td>  2</td><td> 0</td><td> 0</td><td>  0</td><td> 0</td><td>  2</td><td> 1</td><td>  2</td><td> 0</td><td> 0</td><td> 0</td><td>  2</td></tr>\n",
       "\t<tr><th scope=row>CHP_323-03-PBMC-DNA</th><td>  7</td><td>  4</td><td> 3</td><td> 1</td><td>  3</td><td> 1</td><td>  6</td><td> 2</td><td>  5</td><td> 0</td><td> 2</td><td> 0</td><td> 10</td></tr>\n",
       "\t<tr><th scope=row>CHP_323-05-PBMC-DNA</th><td> 19</td><td> 17</td><td> 2</td><td>10</td><td> 10</td><td>10</td><td> 16</td><td> 9</td><td> 18</td><td> 2</td><td>10</td><td> 1</td><td> 29</td></tr>\n",
       "\t<tr><th scope=row>CHP_324-05_PBMC-DNA</th><td> 30</td><td> 32</td><td> 8</td><td> 8</td><td> 18</td><td>10</td><td> 30</td><td>16</td><td> 19</td><td> 4</td><td>12</td><td> 7</td><td> 33</td></tr>\n",
       "\t<tr><th scope=row>CHP_330-05-PBMC-DNA</th><td> 21</td><td> 18</td><td> 5</td><td> 7</td><td> 15</td><td> 7</td><td> 14</td><td> 3</td><td> 16</td><td> 2</td><td> 2</td><td> 1</td><td> 21</td></tr>\n",
       "\t<tr><th scope=row>CHP_331-04-PBMC-DNA</th><td>  3</td><td>  4</td><td> 1</td><td> 0</td><td>  4</td><td> 2</td><td>  6</td><td> 4</td><td>  1</td><td> 2</td><td> 1</td><td> 0</td><td>  8</td></tr>\n",
       "\t<tr><th scope=row>CHP_331-05-PBMC-DNA</th><td> 27</td><td> 16</td><td> 6</td><td> 5</td><td> 11</td><td> 2</td><td> 27</td><td> 9</td><td> 15</td><td> 2</td><td> 7</td><td> 1</td><td> 28</td></tr>\n",
       "\t<tr><th scope=row>CHP_335-03-PBMC-DNA</th><td> 26</td><td> 18</td><td> 5</td><td> 5</td><td> 17</td><td> 8</td><td> 26</td><td> 5</td><td> 14</td><td> 3</td><td>12</td><td> 2</td><td> 37</td></tr>\n",
       "\t<tr><th scope=row>...</th><td>...</td><td>...</td><td>...</td><td>...</td><td>...</td><td>...</td><td>...</td><td>...</td><td>...</td><td>...</td><td>...</td><td>...</td><td>...</td></tr>\n",
       "\t<tr><th scope=row>CHP_412-01_PBMC-DNA</th><td>  9</td><td> 6</td><td> 1</td><td> 3</td><td> 3</td><td> 2</td><td> 7</td><td> 1</td><td> 5</td><td>0</td><td> 5</td><td> 0</td><td>  9</td></tr>\n",
       "\t<tr><th scope=row>CHP_412-02-PBMC-DNA</th><td> 52</td><td>52</td><td>16</td><td>17</td><td>32</td><td>22</td><td>44</td><td>29</td><td>28</td><td>2</td><td>18</td><td> 8</td><td> 80</td></tr>\n",
       "\t<tr><th scope=row>CHP_412-03-PBMC-DNA</th><td>  4</td><td> 5</td><td> 1</td><td> 3</td><td> 3</td><td> 0</td><td> 3</td><td> 3</td><td> 4</td><td>0</td><td> 0</td><td> 0</td><td>  6</td></tr>\n",
       "\t<tr><th scope=row>CHP_413-01_PBMC-DNA</th><td>  1</td><td> 3</td><td> 1</td><td> 2</td><td> 1</td><td> 3</td><td> 3</td><td> 1</td><td> 4</td><td>1</td><td> 4</td><td> 0</td><td>  6</td></tr>\n",
       "\t<tr><th scope=row>CHP_413-02_PBMC-DNA</th><td> 33</td><td>30</td><td> 7</td><td>11</td><td>22</td><td> 9</td><td>32</td><td>19</td><td>21</td><td>1</td><td>23</td><td> 5</td><td> 47</td></tr>\n",
       "\t<tr><th scope=row>CHP_414-01_PBMC-DNA</th><td>  3</td><td> 3</td><td> 1</td><td> 1</td><td> 0</td><td> 0</td><td> 3</td><td> 0</td><td> 1</td><td>0</td><td> 0</td><td> 0</td><td>  1</td></tr>\n",
       "\t<tr><th scope=row>CHP_414-02-PBMC-DNA</th><td>138</td><td>98</td><td>26</td><td>27</td><td>45</td><td>39</td><td>82</td><td>43</td><td>74</td><td>8</td><td>41</td><td>16</td><td>113</td></tr>\n",
       "\t<tr><th scope=row>CHP_414-03_PBMC-DNA</th><td> 94</td><td>68</td><td>25</td><td>26</td><td>30</td><td>30</td><td>41</td><td>17</td><td>29</td><td>6</td><td>32</td><td> 6</td><td> 83</td></tr>\n",
       "\t<tr><th scope=row>CHP_415-01-PBMC-DNA</th><td> 15</td><td>28</td><td> 7</td><td> 6</td><td>12</td><td> 2</td><td> 9</td><td> 8</td><td>10</td><td>1</td><td> 9</td><td> 2</td><td> 19</td></tr>\n",
       "\t<tr><th scope=row>CHP_415-02_PBMC-DNA</th><td> 16</td><td> 6</td><td> 6</td><td> 3</td><td> 2</td><td> 1</td><td> 9</td><td> 7</td><td> 9</td><td>1</td><td> 3</td><td> 0</td><td> 18</td></tr>\n",
       "\t<tr><th scope=row>CHP_415-03_PBMC-DNA</th><td>  1</td><td> 4</td><td> 2</td><td> 0</td><td> 1</td><td> 1</td><td> 1</td><td> 2</td><td> 0</td><td>0</td><td> 0</td><td> 0</td><td>  1</td></tr>\n",
       "\t<tr><th scope=row>CHP_416-01-PBMC-DNA</th><td> 62</td><td>61</td><td>28</td><td>21</td><td>26</td><td>14</td><td>59</td><td>30</td><td>48</td><td>1</td><td>32</td><td> 4</td><td> 91</td></tr>\n",
       "\t<tr><th scope=row>CHP_417-01_PBMC-DNA</th><td> 11</td><td> 4</td><td> 3</td><td> 3</td><td> 6</td><td> 1</td><td> 9</td><td> 7</td><td> 7</td><td>0</td><td> 7</td><td> 2</td><td> 19</td></tr>\n",
       "\t<tr><th scope=row>CHP_418-01-PBMC-DNA</th><td> 20</td><td>22</td><td> 4</td><td> 9</td><td>16</td><td> 8</td><td>14</td><td> 6</td><td>11</td><td>2</td><td> 3</td><td> 1</td><td> 21</td></tr>\n",
       "\t<tr><th scope=row>CHP_418-02_PBMC-DNA</th><td> 10</td><td>17</td><td> 3</td><td> 2</td><td> 4</td><td> 6</td><td> 5</td><td> 6</td><td>12</td><td>0</td><td> 5</td><td> 0</td><td> 12</td></tr>\n",
       "\t<tr><th scope=row>CHP_419-02_PBMC-DNA</th><td> 26</td><td>15</td><td> 3</td><td> 3</td><td> 9</td><td> 9</td><td>29</td><td> 6</td><td>23</td><td>1</td><td>10</td><td> 1</td><td> 26</td></tr>\n",
       "\t<tr><th scope=row>CHP_420-01_PBMC-DNA</th><td> 66</td><td>61</td><td>19</td><td>22</td><td>43</td><td>15</td><td>80</td><td>31</td><td>81</td><td>9</td><td>62</td><td> 8</td><td> 93</td></tr>\n",
       "\t<tr><th scope=row>CHP_422-01_-PBMC-DN</th><td>  9</td><td> 4</td><td> 0</td><td> 1</td><td> 1</td><td> 0</td><td> 7</td><td> 5</td><td> 6</td><td>2</td><td> 3</td><td> 0</td><td>111</td></tr>\n",
       "\t<tr><th scope=row>CHP_5YO-M_PBMC_DNA</th><td>  0</td><td> 0</td><td> 0</td><td> 0</td><td> 2</td><td> 0</td><td> 1</td><td> 1</td><td> 0</td><td>0</td><td> 0</td><td> 0</td><td>  0</td></tr>\n",
       "\t<tr><th scope=row>CHP_8MO-F_PBMC_DNA</th><td>  2</td><td> 4</td><td> 0</td><td> 0</td><td> 1</td><td> 1</td><td> 3</td><td> 2</td><td> 0</td><td>0</td><td> 0</td><td> 0</td><td>  5</td></tr>\n",
       "\t<tr><th scope=row>LFS_TCR-4535-PBMC-DNA</th><td> 16</td><td>14</td><td> 7</td><td> 6</td><td>17</td><td> 7</td><td>17</td><td> 7</td><td>14</td><td>1</td><td>13</td><td> 1</td><td> 25</td></tr>\n",
       "\t<tr><th scope=row>LFS_TCR-4570-PBMC-DNA</th><td> 21</td><td>20</td><td> 6</td><td> 8</td><td>16</td><td> 5</td><td>18</td><td>10</td><td>20</td><td>5</td><td>18</td><td> 1</td><td> 28</td></tr>\n",
       "\t<tr><th scope=row>LFS_TCR-4602-PBMC-DNA</th><td> 46</td><td>18</td><td> 6</td><td> 9</td><td>12</td><td> 4</td><td>26</td><td>10</td><td>11</td><td>2</td><td>10</td><td> 0</td><td> 12</td></tr>\n",
       "\t<tr><th scope=row>LFS_TCR-4758-PBMC-DNA</th><td> 33</td><td>24</td><td>18</td><td> 7</td><td>12</td><td> 4</td><td>29</td><td>19</td><td>19</td><td>2</td><td>22</td><td> 9</td><td> 42</td></tr>\n",
       "\t<tr><th scope=row>LFS_TCR-4759-PBMC-DNA</th><td> 26</td><td>19</td><td> 8</td><td> 8</td><td>15</td><td> 6</td><td>28</td><td>17</td><td>19</td><td>1</td><td> 5</td><td> 1</td><td> 16</td></tr>\n",
       "\t<tr><th scope=row>LFS_TCR-4783-PBMC-DNA</th><td> 13</td><td> 4</td><td> 4</td><td> 3</td><td> 4</td><td> 5</td><td> 6</td><td> 2</td><td> 4</td><td>1</td><td> 1</td><td> 2</td><td>  5</td></tr>\n",
       "\t<tr><th scope=row>LFS_TCR-4837-PBMC-DNA</th><td> 39</td><td>24</td><td>12</td><td>11</td><td>23</td><td> 5</td><td>33</td><td>11</td><td>14</td><td>2</td><td> 4</td><td> 4</td><td> 23</td></tr>\n",
       "\t<tr><th scope=row>LFS_TCR-4838-PBMC-DNA</th><td> 28</td><td>17</td><td> 3</td><td>10</td><td>11</td><td> 9</td><td>22</td><td> 9</td><td>11</td><td>0</td><td> 6</td><td> 1</td><td> 17</td></tr>\n",
       "\t<tr><th scope=row>LFS_TCR-5014-PBMC-DNA</th><td> 21</td><td>13</td><td> 5</td><td> 8</td><td>12</td><td> 6</td><td>11</td><td> 8</td><td>14</td><td>1</td><td> 8</td><td> 5</td><td> 30</td></tr>\n",
       "\t<tr><th scope=row>LFS_TCR-5067-PBMC-DNA</th><td> 29</td><td>21</td><td>11</td><td> 5</td><td>17</td><td> 8</td><td>17</td><td>19</td><td>17</td><td>3</td><td>17</td><td> 1</td><td> 38</td></tr>\n",
       "</tbody>\n",
       "</table>\n"
      ],
      "text/latex": [
       "A data.frame: 258 x 13\n",
       "\\begin{tabular}{r|lllllllllllll}\n",
       "  & TRBJ1-1 & TRBJ1-2 & TRBJ1-3 & TRBJ1-4 & TRBJ1-5 & TRBJ1-6 & TRBJ2-1 & TRBJ2-2 & TRBJ2-3 & TRBJ2-4 & TRBJ2-5 & TRBJ2-6 & TRBJ2-7\\\\\n",
       "  & <int> & <int> & <int> & <int> & <int> & <int> & <int> & <int> & <int> & <int> & <int> & <int> & <int>\\\\\n",
       "\\hline\n",
       "\tCHP-328-04-PBMC-DNA &  52 &  46 & 16 & 21 &  37 & 12 &  60 & 21 &  51 &  4 & 31 &  7 &  94\\\\\n",
       "\tCHP-328-05-PBMC-DNA &  22 &  13 &  4 &  5 &   8 &  3 &  25 &  9 &  19 &  4 &  5 &  1 &  33\\\\\n",
       "\tCHP-351-03-PBMC-DNA & 114 & 100 & 40 & 38 &  72 & 42 & 151 & 70 & 107 & 10 & 89 & 20 & 238\\\\\n",
       "\tCHP-353-04-PBMC-DNA & 359 & 269 & 73 & 83 & 138 & 82 & 159 & 78 &  96 &  5 & 87 & 26 & 239\\\\\n",
       "\tCHP-363-04-PBMC-DNA & 105 &  79 & 24 & 34 &  65 & 40 &  84 & 43 &  69 &  3 & 41 & 20 & 144\\\\\n",
       "\tCHP-369-01-PBMC-DNA &  76 &  62 & 26 & 25 &  46 & 16 &  95 & 51 &  82 & 10 & 53 & 12 & 173\\\\\n",
       "\tCHP-371-03-PBMC-DNA & 113 &  57 & 12 & 20 &  42 & 23 & 110 & 41 &  53 &  2 & 23 & 12 & 103\\\\\n",
       "\tCHP-377-02-PBMC-DNA &  83 &  73 & 18 & 31 &  49 & 26 &  61 & 39 &  42 &  3 & 24 & 11 &  53\\\\\n",
       "\tCHP-386-04-PBMC-DNA &  99 &  70 & 28 & 26 &  46 & 23 &  64 & 51 &  72 &  2 & 17 & 23 & 143\\\\\n",
       "\tCHP-386-05-PBMC-DNA &  34 &  28 & 11 & 10 &  20 & 25 &  46 & 25 &  38 &  0 &  8 &  7 &  86\\\\\n",
       "\tCHP-398-02-PBMC-DNA &  81 &  69 & 20 & 18 &  45 & 33 &  64 & 28 &  23 &  3 & 32 &  8 &  81\\\\\n",
       "\tCHP-404-03-PBMC-DNA &  30 &  18 &  6 &  6 &  16 & 11 &  21 &  8 &  21 &  1 &  7 &  4 &  27\\\\\n",
       "\tCHP-411-02-PBMC-DNA & 220 & 165 & 54 & 50 &  78 & 50 & 130 & 69 & 111 & 11 & 76 & 22 & 205\\\\\n",
       "\tCHP-416-02-PBMC-DNA &  13 &  11 &  6 &  8 &   8 &  6 &  12 &  6 &   7 &  4 &  3 &  1 &  15\\\\\n",
       "\tCHP\\_10YO-M\\_PBMC\\_DNA &   6 &   7 &  0 &  0 &   0 &  1 &   0 &  1 &   1 &  0 &  1 &  0 &   2\\\\\n",
       "\tCHP\\_11YO-M\\_PBMC\\_DNA &   2 &   3 &  2 &  0 &   1 &  2 &   2 &  1 &   1 &  0 &  0 &  1 &   1\\\\\n",
       "\tCHP\\_15YO-F-A\\_PBMC\\_DNA &   1 &   0 &  0 &  0 &   3 &  2 &   1 &  1 &   2 &  0 &  1 &  0 &   0\\\\\n",
       "\tCHP\\_15YO-F-B\\_PBMC\\_DNA &   0 &   0 &  2 &  1 &   0 &  1 &   1 &  1 &   1 &  0 &  0 &  0 &   0\\\\\n",
       "\tCHP\\_15YO-M\\_PBMC\\_DNA &   6 &   4 &  2 &  1 &   0 &  1 &   0 &  0 &   3 &  0 &  1 &  1 &   4\\\\\n",
       "\tCHP\\_16YO-M\\_PBMC\\_DNA &   0 &   0 &  1 &  0 &   1 &  0 &   0 &  1 &   0 &  1 &  0 &  0 &   0\\\\\n",
       "\tCHP\\_1YO-M-A\\_PBMC\\_DNA &   8 &   8 &  2 &  0 &   3 &  2 &   2 &  6 &   7 &  1 &  1 &  1 &   9\\\\\n",
       "\tCHP\\_1YO-M-B\\_PBMC\\_DNA &   0 &   1 &  0 &  0 &   1 &  0 &   0 &  0 &   1 &  0 &  0 &  0 &   0\\\\\n",
       "\tCHP\\_2YO-M\\_PBMC\\_DNA &   1 &   2 &  0 &  0 &   0 &  0 &   2 &  1 &   2 &  0 &  0 &  0 &   2\\\\\n",
       "\tCHP\\_323-03-PBMC-DNA &   7 &   4 &  3 &  1 &   3 &  1 &   6 &  2 &   5 &  0 &  2 &  0 &  10\\\\\n",
       "\tCHP\\_323-05-PBMC-DNA &  19 &  17 &  2 & 10 &  10 & 10 &  16 &  9 &  18 &  2 & 10 &  1 &  29\\\\\n",
       "\tCHP\\_324-05\\_PBMC-DNA &  30 &  32 &  8 &  8 &  18 & 10 &  30 & 16 &  19 &  4 & 12 &  7 &  33\\\\\n",
       "\tCHP\\_330-05-PBMC-DNA &  21 &  18 &  5 &  7 &  15 &  7 &  14 &  3 &  16 &  2 &  2 &  1 &  21\\\\\n",
       "\tCHP\\_331-04-PBMC-DNA &   3 &   4 &  1 &  0 &   4 &  2 &   6 &  4 &   1 &  2 &  1 &  0 &   8\\\\\n",
       "\tCHP\\_331-05-PBMC-DNA &  27 &  16 &  6 &  5 &  11 &  2 &  27 &  9 &  15 &  2 &  7 &  1 &  28\\\\\n",
       "\tCHP\\_335-03-PBMC-DNA &  26 &  18 &  5 &  5 &  17 &  8 &  26 &  5 &  14 &  3 & 12 &  2 &  37\\\\\n",
       "\t... & ... & ... & ... & ... & ... & ... & ... & ... & ... & ... & ... & ... & ...\\\\\n",
       "\tCHP\\_412-01\\_PBMC-DNA &   9 &  6 &  1 &  3 &  3 &  2 &  7 &  1 &  5 & 0 &  5 &  0 &   9\\\\\n",
       "\tCHP\\_412-02-PBMC-DNA &  52 & 52 & 16 & 17 & 32 & 22 & 44 & 29 & 28 & 2 & 18 &  8 &  80\\\\\n",
       "\tCHP\\_412-03-PBMC-DNA &   4 &  5 &  1 &  3 &  3 &  0 &  3 &  3 &  4 & 0 &  0 &  0 &   6\\\\\n",
       "\tCHP\\_413-01\\_PBMC-DNA &   1 &  3 &  1 &  2 &  1 &  3 &  3 &  1 &  4 & 1 &  4 &  0 &   6\\\\\n",
       "\tCHP\\_413-02\\_PBMC-DNA &  33 & 30 &  7 & 11 & 22 &  9 & 32 & 19 & 21 & 1 & 23 &  5 &  47\\\\\n",
       "\tCHP\\_414-01\\_PBMC-DNA &   3 &  3 &  1 &  1 &  0 &  0 &  3 &  0 &  1 & 0 &  0 &  0 &   1\\\\\n",
       "\tCHP\\_414-02-PBMC-DNA & 138 & 98 & 26 & 27 & 45 & 39 & 82 & 43 & 74 & 8 & 41 & 16 & 113\\\\\n",
       "\tCHP\\_414-03\\_PBMC-DNA &  94 & 68 & 25 & 26 & 30 & 30 & 41 & 17 & 29 & 6 & 32 &  6 &  83\\\\\n",
       "\tCHP\\_415-01-PBMC-DNA &  15 & 28 &  7 &  6 & 12 &  2 &  9 &  8 & 10 & 1 &  9 &  2 &  19\\\\\n",
       "\tCHP\\_415-02\\_PBMC-DNA &  16 &  6 &  6 &  3 &  2 &  1 &  9 &  7 &  9 & 1 &  3 &  0 &  18\\\\\n",
       "\tCHP\\_415-03\\_PBMC-DNA &   1 &  4 &  2 &  0 &  1 &  1 &  1 &  2 &  0 & 0 &  0 &  0 &   1\\\\\n",
       "\tCHP\\_416-01-PBMC-DNA &  62 & 61 & 28 & 21 & 26 & 14 & 59 & 30 & 48 & 1 & 32 &  4 &  91\\\\\n",
       "\tCHP\\_417-01\\_PBMC-DNA &  11 &  4 &  3 &  3 &  6 &  1 &  9 &  7 &  7 & 0 &  7 &  2 &  19\\\\\n",
       "\tCHP\\_418-01-PBMC-DNA &  20 & 22 &  4 &  9 & 16 &  8 & 14 &  6 & 11 & 2 &  3 &  1 &  21\\\\\n",
       "\tCHP\\_418-02\\_PBMC-DNA &  10 & 17 &  3 &  2 &  4 &  6 &  5 &  6 & 12 & 0 &  5 &  0 &  12\\\\\n",
       "\tCHP\\_419-02\\_PBMC-DNA &  26 & 15 &  3 &  3 &  9 &  9 & 29 &  6 & 23 & 1 & 10 &  1 &  26\\\\\n",
       "\tCHP\\_420-01\\_PBMC-DNA &  66 & 61 & 19 & 22 & 43 & 15 & 80 & 31 & 81 & 9 & 62 &  8 &  93\\\\\n",
       "\tCHP\\_422-01\\_-PBMC-DN &   9 &  4 &  0 &  1 &  1 &  0 &  7 &  5 &  6 & 2 &  3 &  0 & 111\\\\\n",
       "\tCHP\\_5YO-M\\_PBMC\\_DNA &   0 &  0 &  0 &  0 &  2 &  0 &  1 &  1 &  0 & 0 &  0 &  0 &   0\\\\\n",
       "\tCHP\\_8MO-F\\_PBMC\\_DNA &   2 &  4 &  0 &  0 &  1 &  1 &  3 &  2 &  0 & 0 &  0 &  0 &   5\\\\\n",
       "\tLFS\\_TCR-4535-PBMC-DNA &  16 & 14 &  7 &  6 & 17 &  7 & 17 &  7 & 14 & 1 & 13 &  1 &  25\\\\\n",
       "\tLFS\\_TCR-4570-PBMC-DNA &  21 & 20 &  6 &  8 & 16 &  5 & 18 & 10 & 20 & 5 & 18 &  1 &  28\\\\\n",
       "\tLFS\\_TCR-4602-PBMC-DNA &  46 & 18 &  6 &  9 & 12 &  4 & 26 & 10 & 11 & 2 & 10 &  0 &  12\\\\\n",
       "\tLFS\\_TCR-4758-PBMC-DNA &  33 & 24 & 18 &  7 & 12 &  4 & 29 & 19 & 19 & 2 & 22 &  9 &  42\\\\\n",
       "\tLFS\\_TCR-4759-PBMC-DNA &  26 & 19 &  8 &  8 & 15 &  6 & 28 & 17 & 19 & 1 &  5 &  1 &  16\\\\\n",
       "\tLFS\\_TCR-4783-PBMC-DNA &  13 &  4 &  4 &  3 &  4 &  5 &  6 &  2 &  4 & 1 &  1 &  2 &   5\\\\\n",
       "\tLFS\\_TCR-4837-PBMC-DNA &  39 & 24 & 12 & 11 & 23 &  5 & 33 & 11 & 14 & 2 &  4 &  4 &  23\\\\\n",
       "\tLFS\\_TCR-4838-PBMC-DNA &  28 & 17 &  3 & 10 & 11 &  9 & 22 &  9 & 11 & 0 &  6 &  1 &  17\\\\\n",
       "\tLFS\\_TCR-5014-PBMC-DNA &  21 & 13 &  5 &  8 & 12 &  6 & 11 &  8 & 14 & 1 &  8 &  5 &  30\\\\\n",
       "\tLFS\\_TCR-5067-PBMC-DNA &  29 & 21 & 11 &  5 & 17 &  8 & 17 & 19 & 17 & 3 & 17 &  1 &  38\\\\\n",
       "\\end{tabular}\n"
      ],
      "text/markdown": [
       "\n",
       "A data.frame: 258 x 13\n",
       "\n",
       "| <!--/--> | TRBJ1-1 &lt;int&gt; | TRBJ1-2 &lt;int&gt; | TRBJ1-3 &lt;int&gt; | TRBJ1-4 &lt;int&gt; | TRBJ1-5 &lt;int&gt; | TRBJ1-6 &lt;int&gt; | TRBJ2-1 &lt;int&gt; | TRBJ2-2 &lt;int&gt; | TRBJ2-3 &lt;int&gt; | TRBJ2-4 &lt;int&gt; | TRBJ2-5 &lt;int&gt; | TRBJ2-6 &lt;int&gt; | TRBJ2-7 &lt;int&gt; |\n",
       "|---|---|---|---|---|---|---|---|---|---|---|---|---|---|\n",
       "| CHP-328-04-PBMC-DNA |  52 |  46 | 16 | 21 |  37 | 12 |  60 | 21 |  51 |  4 | 31 |  7 |  94 |\n",
       "| CHP-328-05-PBMC-DNA |  22 |  13 |  4 |  5 |   8 |  3 |  25 |  9 |  19 |  4 |  5 |  1 |  33 |\n",
       "| CHP-351-03-PBMC-DNA | 114 | 100 | 40 | 38 |  72 | 42 | 151 | 70 | 107 | 10 | 89 | 20 | 238 |\n",
       "| CHP-353-04-PBMC-DNA | 359 | 269 | 73 | 83 | 138 | 82 | 159 | 78 |  96 |  5 | 87 | 26 | 239 |\n",
       "| CHP-363-04-PBMC-DNA | 105 |  79 | 24 | 34 |  65 | 40 |  84 | 43 |  69 |  3 | 41 | 20 | 144 |\n",
       "| CHP-369-01-PBMC-DNA |  76 |  62 | 26 | 25 |  46 | 16 |  95 | 51 |  82 | 10 | 53 | 12 | 173 |\n",
       "| CHP-371-03-PBMC-DNA | 113 |  57 | 12 | 20 |  42 | 23 | 110 | 41 |  53 |  2 | 23 | 12 | 103 |\n",
       "| CHP-377-02-PBMC-DNA |  83 |  73 | 18 | 31 |  49 | 26 |  61 | 39 |  42 |  3 | 24 | 11 |  53 |\n",
       "| CHP-386-04-PBMC-DNA |  99 |  70 | 28 | 26 |  46 | 23 |  64 | 51 |  72 |  2 | 17 | 23 | 143 |\n",
       "| CHP-386-05-PBMC-DNA |  34 |  28 | 11 | 10 |  20 | 25 |  46 | 25 |  38 |  0 |  8 |  7 |  86 |\n",
       "| CHP-398-02-PBMC-DNA |  81 |  69 | 20 | 18 |  45 | 33 |  64 | 28 |  23 |  3 | 32 |  8 |  81 |\n",
       "| CHP-404-03-PBMC-DNA |  30 |  18 |  6 |  6 |  16 | 11 |  21 |  8 |  21 |  1 |  7 |  4 |  27 |\n",
       "| CHP-411-02-PBMC-DNA | 220 | 165 | 54 | 50 |  78 | 50 | 130 | 69 | 111 | 11 | 76 | 22 | 205 |\n",
       "| CHP-416-02-PBMC-DNA |  13 |  11 |  6 |  8 |   8 |  6 |  12 |  6 |   7 |  4 |  3 |  1 |  15 |\n",
       "| CHP_10YO-M_PBMC_DNA |   6 |   7 |  0 |  0 |   0 |  1 |   0 |  1 |   1 |  0 |  1 |  0 |   2 |\n",
       "| CHP_11YO-M_PBMC_DNA |   2 |   3 |  2 |  0 |   1 |  2 |   2 |  1 |   1 |  0 |  0 |  1 |   1 |\n",
       "| CHP_15YO-F-A_PBMC_DNA |   1 |   0 |  0 |  0 |   3 |  2 |   1 |  1 |   2 |  0 |  1 |  0 |   0 |\n",
       "| CHP_15YO-F-B_PBMC_DNA |   0 |   0 |  2 |  1 |   0 |  1 |   1 |  1 |   1 |  0 |  0 |  0 |   0 |\n",
       "| CHP_15YO-M_PBMC_DNA |   6 |   4 |  2 |  1 |   0 |  1 |   0 |  0 |   3 |  0 |  1 |  1 |   4 |\n",
       "| CHP_16YO-M_PBMC_DNA |   0 |   0 |  1 |  0 |   1 |  0 |   0 |  1 |   0 |  1 |  0 |  0 |   0 |\n",
       "| CHP_1YO-M-A_PBMC_DNA |   8 |   8 |  2 |  0 |   3 |  2 |   2 |  6 |   7 |  1 |  1 |  1 |   9 |\n",
       "| CHP_1YO-M-B_PBMC_DNA |   0 |   1 |  0 |  0 |   1 |  0 |   0 |  0 |   1 |  0 |  0 |  0 |   0 |\n",
       "| CHP_2YO-M_PBMC_DNA |   1 |   2 |  0 |  0 |   0 |  0 |   2 |  1 |   2 |  0 |  0 |  0 |   2 |\n",
       "| CHP_323-03-PBMC-DNA |   7 |   4 |  3 |  1 |   3 |  1 |   6 |  2 |   5 |  0 |  2 |  0 |  10 |\n",
       "| CHP_323-05-PBMC-DNA |  19 |  17 |  2 | 10 |  10 | 10 |  16 |  9 |  18 |  2 | 10 |  1 |  29 |\n",
       "| CHP_324-05_PBMC-DNA |  30 |  32 |  8 |  8 |  18 | 10 |  30 | 16 |  19 |  4 | 12 |  7 |  33 |\n",
       "| CHP_330-05-PBMC-DNA |  21 |  18 |  5 |  7 |  15 |  7 |  14 |  3 |  16 |  2 |  2 |  1 |  21 |\n",
       "| CHP_331-04-PBMC-DNA |   3 |   4 |  1 |  0 |   4 |  2 |   6 |  4 |   1 |  2 |  1 |  0 |   8 |\n",
       "| CHP_331-05-PBMC-DNA |  27 |  16 |  6 |  5 |  11 |  2 |  27 |  9 |  15 |  2 |  7 |  1 |  28 |\n",
       "| CHP_335-03-PBMC-DNA |  26 |  18 |  5 |  5 |  17 |  8 |  26 |  5 |  14 |  3 | 12 |  2 |  37 |\n",
       "| ... | ... | ... | ... | ... | ... | ... | ... | ... | ... | ... | ... | ... | ... |\n",
       "| CHP_412-01_PBMC-DNA |   9 |  6 |  1 |  3 |  3 |  2 |  7 |  1 |  5 | 0 |  5 |  0 |   9 |\n",
       "| CHP_412-02-PBMC-DNA |  52 | 52 | 16 | 17 | 32 | 22 | 44 | 29 | 28 | 2 | 18 |  8 |  80 |\n",
       "| CHP_412-03-PBMC-DNA |   4 |  5 |  1 |  3 |  3 |  0 |  3 |  3 |  4 | 0 |  0 |  0 |   6 |\n",
       "| CHP_413-01_PBMC-DNA |   1 |  3 |  1 |  2 |  1 |  3 |  3 |  1 |  4 | 1 |  4 |  0 |   6 |\n",
       "| CHP_413-02_PBMC-DNA |  33 | 30 |  7 | 11 | 22 |  9 | 32 | 19 | 21 | 1 | 23 |  5 |  47 |\n",
       "| CHP_414-01_PBMC-DNA |   3 |  3 |  1 |  1 |  0 |  0 |  3 |  0 |  1 | 0 |  0 |  0 |   1 |\n",
       "| CHP_414-02-PBMC-DNA | 138 | 98 | 26 | 27 | 45 | 39 | 82 | 43 | 74 | 8 | 41 | 16 | 113 |\n",
       "| CHP_414-03_PBMC-DNA |  94 | 68 | 25 | 26 | 30 | 30 | 41 | 17 | 29 | 6 | 32 |  6 |  83 |\n",
       "| CHP_415-01-PBMC-DNA |  15 | 28 |  7 |  6 | 12 |  2 |  9 |  8 | 10 | 1 |  9 |  2 |  19 |\n",
       "| CHP_415-02_PBMC-DNA |  16 |  6 |  6 |  3 |  2 |  1 |  9 |  7 |  9 | 1 |  3 |  0 |  18 |\n",
       "| CHP_415-03_PBMC-DNA |   1 |  4 |  2 |  0 |  1 |  1 |  1 |  2 |  0 | 0 |  0 |  0 |   1 |\n",
       "| CHP_416-01-PBMC-DNA |  62 | 61 | 28 | 21 | 26 | 14 | 59 | 30 | 48 | 1 | 32 |  4 |  91 |\n",
       "| CHP_417-01_PBMC-DNA |  11 |  4 |  3 |  3 |  6 |  1 |  9 |  7 |  7 | 0 |  7 |  2 |  19 |\n",
       "| CHP_418-01-PBMC-DNA |  20 | 22 |  4 |  9 | 16 |  8 | 14 |  6 | 11 | 2 |  3 |  1 |  21 |\n",
       "| CHP_418-02_PBMC-DNA |  10 | 17 |  3 |  2 |  4 |  6 |  5 |  6 | 12 | 0 |  5 |  0 |  12 |\n",
       "| CHP_419-02_PBMC-DNA |  26 | 15 |  3 |  3 |  9 |  9 | 29 |  6 | 23 | 1 | 10 |  1 |  26 |\n",
       "| CHP_420-01_PBMC-DNA |  66 | 61 | 19 | 22 | 43 | 15 | 80 | 31 | 81 | 9 | 62 |  8 |  93 |\n",
       "| CHP_422-01_-PBMC-DN |   9 |  4 |  0 |  1 |  1 |  0 |  7 |  5 |  6 | 2 |  3 |  0 | 111 |\n",
       "| CHP_5YO-M_PBMC_DNA |   0 |  0 |  0 |  0 |  2 |  0 |  1 |  1 |  0 | 0 |  0 |  0 |   0 |\n",
       "| CHP_8MO-F_PBMC_DNA |   2 |  4 |  0 |  0 |  1 |  1 |  3 |  2 |  0 | 0 |  0 |  0 |   5 |\n",
       "| LFS_TCR-4535-PBMC-DNA |  16 | 14 |  7 |  6 | 17 |  7 | 17 |  7 | 14 | 1 | 13 |  1 |  25 |\n",
       "| LFS_TCR-4570-PBMC-DNA |  21 | 20 |  6 |  8 | 16 |  5 | 18 | 10 | 20 | 5 | 18 |  1 |  28 |\n",
       "| LFS_TCR-4602-PBMC-DNA |  46 | 18 |  6 |  9 | 12 |  4 | 26 | 10 | 11 | 2 | 10 |  0 |  12 |\n",
       "| LFS_TCR-4758-PBMC-DNA |  33 | 24 | 18 |  7 | 12 |  4 | 29 | 19 | 19 | 2 | 22 |  9 |  42 |\n",
       "| LFS_TCR-4759-PBMC-DNA |  26 | 19 |  8 |  8 | 15 |  6 | 28 | 17 | 19 | 1 |  5 |  1 |  16 |\n",
       "| LFS_TCR-4783-PBMC-DNA |  13 |  4 |  4 |  3 |  4 |  5 |  6 |  2 |  4 | 1 |  1 |  2 |   5 |\n",
       "| LFS_TCR-4837-PBMC-DNA |  39 | 24 | 12 | 11 | 23 |  5 | 33 | 11 | 14 | 2 |  4 |  4 |  23 |\n",
       "| LFS_TCR-4838-PBMC-DNA |  28 | 17 |  3 | 10 | 11 |  9 | 22 |  9 | 11 | 0 |  6 |  1 |  17 |\n",
       "| LFS_TCR-5014-PBMC-DNA |  21 | 13 |  5 |  8 | 12 |  6 | 11 |  8 | 14 | 1 |  8 |  5 |  30 |\n",
       "| LFS_TCR-5067-PBMC-DNA |  29 | 21 | 11 |  5 | 17 |  8 | 17 | 19 | 17 | 3 | 17 |  1 |  38 |\n",
       "\n"
      ],
      "text/plain": [
       "                      TRBJ1-1 TRBJ1-2 TRBJ1-3 TRBJ1-4 TRBJ1-5 TRBJ1-6 TRBJ2-1\n",
       "CHP-328-04-PBMC-DNA    52      46     16      21       37     12       60    \n",
       "CHP-328-05-PBMC-DNA    22      13      4       5        8      3       25    \n",
       "CHP-351-03-PBMC-DNA   114     100     40      38       72     42      151    \n",
       "CHP-353-04-PBMC-DNA   359     269     73      83      138     82      159    \n",
       "CHP-363-04-PBMC-DNA   105      79     24      34       65     40       84    \n",
       "CHP-369-01-PBMC-DNA    76      62     26      25       46     16       95    \n",
       "CHP-371-03-PBMC-DNA   113      57     12      20       42     23      110    \n",
       "CHP-377-02-PBMC-DNA    83      73     18      31       49     26       61    \n",
       "CHP-386-04-PBMC-DNA    99      70     28      26       46     23       64    \n",
       "CHP-386-05-PBMC-DNA    34      28     11      10       20     25       46    \n",
       "CHP-398-02-PBMC-DNA    81      69     20      18       45     33       64    \n",
       "CHP-404-03-PBMC-DNA    30      18      6       6       16     11       21    \n",
       "CHP-411-02-PBMC-DNA   220     165     54      50       78     50      130    \n",
       "CHP-416-02-PBMC-DNA    13      11      6       8        8      6       12    \n",
       "CHP_10YO-M_PBMC_DNA     6       7      0       0        0      1        0    \n",
       "CHP_11YO-M_PBMC_DNA     2       3      2       0        1      2        2    \n",
       "CHP_15YO-F-A_PBMC_DNA   1       0      0       0        3      2        1    \n",
       "CHP_15YO-F-B_PBMC_DNA   0       0      2       1        0      1        1    \n",
       "CHP_15YO-M_PBMC_DNA     6       4      2       1        0      1        0    \n",
       "CHP_16YO-M_PBMC_DNA     0       0      1       0        1      0        0    \n",
       "CHP_1YO-M-A_PBMC_DNA    8       8      2       0        3      2        2    \n",
       "CHP_1YO-M-B_PBMC_DNA    0       1      0       0        1      0        0    \n",
       "CHP_2YO-M_PBMC_DNA      1       2      0       0        0      0        2    \n",
       "CHP_323-03-PBMC-DNA     7       4      3       1        3      1        6    \n",
       "CHP_323-05-PBMC-DNA    19      17      2      10       10     10       16    \n",
       "CHP_324-05_PBMC-DNA    30      32      8       8       18     10       30    \n",
       "CHP_330-05-PBMC-DNA    21      18      5       7       15      7       14    \n",
       "CHP_331-04-PBMC-DNA     3       4      1       0        4      2        6    \n",
       "CHP_331-05-PBMC-DNA    27      16      6       5       11      2       27    \n",
       "CHP_335-03-PBMC-DNA    26      18      5       5       17      8       26    \n",
       "...                   ...     ...     ...     ...     ...     ...     ...    \n",
       "CHP_412-01_PBMC-DNA     9      6       1       3       3       2       7     \n",
       "CHP_412-02-PBMC-DNA    52     52      16      17      32      22      44     \n",
       "CHP_412-03-PBMC-DNA     4      5       1       3       3       0       3     \n",
       "CHP_413-01_PBMC-DNA     1      3       1       2       1       3       3     \n",
       "CHP_413-02_PBMC-DNA    33     30       7      11      22       9      32     \n",
       "CHP_414-01_PBMC-DNA     3      3       1       1       0       0       3     \n",
       "CHP_414-02-PBMC-DNA   138     98      26      27      45      39      82     \n",
       "CHP_414-03_PBMC-DNA    94     68      25      26      30      30      41     \n",
       "CHP_415-01-PBMC-DNA    15     28       7       6      12       2       9     \n",
       "CHP_415-02_PBMC-DNA    16      6       6       3       2       1       9     \n",
       "CHP_415-03_PBMC-DNA     1      4       2       0       1       1       1     \n",
       "CHP_416-01-PBMC-DNA    62     61      28      21      26      14      59     \n",
       "CHP_417-01_PBMC-DNA    11      4       3       3       6       1       9     \n",
       "CHP_418-01-PBMC-DNA    20     22       4       9      16       8      14     \n",
       "CHP_418-02_PBMC-DNA    10     17       3       2       4       6       5     \n",
       "CHP_419-02_PBMC-DNA    26     15       3       3       9       9      29     \n",
       "CHP_420-01_PBMC-DNA    66     61      19      22      43      15      80     \n",
       "CHP_422-01_-PBMC-DN     9      4       0       1       1       0       7     \n",
       "CHP_5YO-M_PBMC_DNA      0      0       0       0       2       0       1     \n",
       "CHP_8MO-F_PBMC_DNA      2      4       0       0       1       1       3     \n",
       "LFS_TCR-4535-PBMC-DNA  16     14       7       6      17       7      17     \n",
       "LFS_TCR-4570-PBMC-DNA  21     20       6       8      16       5      18     \n",
       "LFS_TCR-4602-PBMC-DNA  46     18       6       9      12       4      26     \n",
       "LFS_TCR-4758-PBMC-DNA  33     24      18       7      12       4      29     \n",
       "LFS_TCR-4759-PBMC-DNA  26     19       8       8      15       6      28     \n",
       "LFS_TCR-4783-PBMC-DNA  13      4       4       3       4       5       6     \n",
       "LFS_TCR-4837-PBMC-DNA  39     24      12      11      23       5      33     \n",
       "LFS_TCR-4838-PBMC-DNA  28     17       3      10      11       9      22     \n",
       "LFS_TCR-5014-PBMC-DNA  21     13       5       8      12       6      11     \n",
       "LFS_TCR-5067-PBMC-DNA  29     21      11       5      17       8      17     \n",
       "                      TRBJ2-2 TRBJ2-3 TRBJ2-4 TRBJ2-5 TRBJ2-6 TRBJ2-7\n",
       "CHP-328-04-PBMC-DNA   21       51      4      31       7       94    \n",
       "CHP-328-05-PBMC-DNA    9       19      4       5       1       33    \n",
       "CHP-351-03-PBMC-DNA   70      107     10      89      20      238    \n",
       "CHP-353-04-PBMC-DNA   78       96      5      87      26      239    \n",
       "CHP-363-04-PBMC-DNA   43       69      3      41      20      144    \n",
       "CHP-369-01-PBMC-DNA   51       82     10      53      12      173    \n",
       "CHP-371-03-PBMC-DNA   41       53      2      23      12      103    \n",
       "CHP-377-02-PBMC-DNA   39       42      3      24      11       53    \n",
       "CHP-386-04-PBMC-DNA   51       72      2      17      23      143    \n",
       "CHP-386-05-PBMC-DNA   25       38      0       8       7       86    \n",
       "CHP-398-02-PBMC-DNA   28       23      3      32       8       81    \n",
       "CHP-404-03-PBMC-DNA    8       21      1       7       4       27    \n",
       "CHP-411-02-PBMC-DNA   69      111     11      76      22      205    \n",
       "CHP-416-02-PBMC-DNA    6        7      4       3       1       15    \n",
       "CHP_10YO-M_PBMC_DNA    1        1      0       1       0        2    \n",
       "CHP_11YO-M_PBMC_DNA    1        1      0       0       1        1    \n",
       "CHP_15YO-F-A_PBMC_DNA  1        2      0       1       0        0    \n",
       "CHP_15YO-F-B_PBMC_DNA  1        1      0       0       0        0    \n",
       "CHP_15YO-M_PBMC_DNA    0        3      0       1       1        4    \n",
       "CHP_16YO-M_PBMC_DNA    1        0      1       0       0        0    \n",
       "CHP_1YO-M-A_PBMC_DNA   6        7      1       1       1        9    \n",
       "CHP_1YO-M-B_PBMC_DNA   0        1      0       0       0        0    \n",
       "CHP_2YO-M_PBMC_DNA     1        2      0       0       0        2    \n",
       "CHP_323-03-PBMC-DNA    2        5      0       2       0       10    \n",
       "CHP_323-05-PBMC-DNA    9       18      2      10       1       29    \n",
       "CHP_324-05_PBMC-DNA   16       19      4      12       7       33    \n",
       "CHP_330-05-PBMC-DNA    3       16      2       2       1       21    \n",
       "CHP_331-04-PBMC-DNA    4        1      2       1       0        8    \n",
       "CHP_331-05-PBMC-DNA    9       15      2       7       1       28    \n",
       "CHP_335-03-PBMC-DNA    5       14      3      12       2       37    \n",
       "...                   ...     ...     ...     ...     ...     ...    \n",
       "CHP_412-01_PBMC-DNA    1       5      0        5       0        9    \n",
       "CHP_412-02-PBMC-DNA   29      28      2       18       8       80    \n",
       "CHP_412-03-PBMC-DNA    3       4      0        0       0        6    \n",
       "CHP_413-01_PBMC-DNA    1       4      1        4       0        6    \n",
       "CHP_413-02_PBMC-DNA   19      21      1       23       5       47    \n",
       "CHP_414-01_PBMC-DNA    0       1      0        0       0        1    \n",
       "CHP_414-02-PBMC-DNA   43      74      8       41      16      113    \n",
       "CHP_414-03_PBMC-DNA   17      29      6       32       6       83    \n",
       "CHP_415-01-PBMC-DNA    8      10      1        9       2       19    \n",
       "CHP_415-02_PBMC-DNA    7       9      1        3       0       18    \n",
       "CHP_415-03_PBMC-DNA    2       0      0        0       0        1    \n",
       "CHP_416-01-PBMC-DNA   30      48      1       32       4       91    \n",
       "CHP_417-01_PBMC-DNA    7       7      0        7       2       19    \n",
       "CHP_418-01-PBMC-DNA    6      11      2        3       1       21    \n",
       "CHP_418-02_PBMC-DNA    6      12      0        5       0       12    \n",
       "CHP_419-02_PBMC-DNA    6      23      1       10       1       26    \n",
       "CHP_420-01_PBMC-DNA   31      81      9       62       8       93    \n",
       "CHP_422-01_-PBMC-DN    5       6      2        3       0      111    \n",
       "CHP_5YO-M_PBMC_DNA     1       0      0        0       0        0    \n",
       "CHP_8MO-F_PBMC_DNA     2       0      0        0       0        5    \n",
       "LFS_TCR-4535-PBMC-DNA  7      14      1       13       1       25    \n",
       "LFS_TCR-4570-PBMC-DNA 10      20      5       18       1       28    \n",
       "LFS_TCR-4602-PBMC-DNA 10      11      2       10       0       12    \n",
       "LFS_TCR-4758-PBMC-DNA 19      19      2       22       9       42    \n",
       "LFS_TCR-4759-PBMC-DNA 17      19      1        5       1       16    \n",
       "LFS_TCR-4783-PBMC-DNA  2       4      1        1       2        5    \n",
       "LFS_TCR-4837-PBMC-DNA 11      14      2        4       4       23    \n",
       "LFS_TCR-4838-PBMC-DNA  9      11      0        6       1       17    \n",
       "LFS_TCR-5014-PBMC-DNA  8      14      1        8       5       30    \n",
       "LFS_TCR-5067-PBMC-DNA 19      17      3       17       1       38    "
      ]
     },
     "metadata": {},
     "output_type": "display_data"
    }
   ],
   "source": [
    "jgene_mat"
   ]
  },
  {
   "cell_type": "code",
   "execution_count": 60,
   "metadata": {
    "vscode": {
     "languageId": "r"
    }
   },
   "outputs": [],
   "source": [
    "mypca <- prcomp(jgene_mat, scale = TRUE)"
   ]
  },
  {
   "cell_type": "code",
   "execution_count": 61,
   "metadata": {
    "vscode": {
     "languageId": "r"
    }
   },
   "outputs": [],
   "source": [
    "out <- mypca$x\n",
    "mydf <- data.frame(out)"
   ]
  },
  {
   "cell_type": "code",
   "execution_count": 62,
   "metadata": {
    "vscode": {
     "languageId": "r"
    }
   },
   "outputs": [
    {
     "data": {
      "text/html": [
       "<table class=\"dataframe\">\n",
       "<caption>A matrix: 6 x 13 of type dbl</caption>\n",
       "<thead>\n",
       "\t<tr><th></th><th scope=col>PC1</th><th scope=col>PC2</th><th scope=col>PC3</th><th scope=col>PC4</th><th scope=col>PC5</th><th scope=col>PC6</th><th scope=col>PC7</th><th scope=col>PC8</th><th scope=col>PC9</th><th scope=col>PC10</th><th scope=col>PC11</th><th scope=col>PC12</th><th scope=col>PC13</th></tr>\n",
       "</thead>\n",
       "<tbody>\n",
       "\t<tr><th scope=row>CHP-328-04-PBMC-DNA</th><td> -2.177149</td><td>-0.1661816</td><td> 0.3687299</td><td>-0.2752007</td><td>-0.2077164</td><td>-0.60414725</td><td>-0.16201849</td><td>-0.01511295</td><td> 0.43047095</td><td> 0.03822050</td><td> 0.01436271</td><td>-0.12182549</td><td>-0.10655211</td></tr>\n",
       "\t<tr><th scope=row>CHP-328-05-PBMC-DNA</th><td>  1.190934</td><td>-0.6575784</td><td>-0.2299612</td><td>-0.2202804</td><td> 0.2093163</td><td>-0.09342315</td><td>-0.13692283</td><td>-0.27253515</td><td>-0.09391664</td><td> 0.14894586</td><td> 0.01185951</td><td>-0.04047046</td><td> 0.05524235</td></tr>\n",
       "\t<tr><th scope=row>CHP-351-03-PBMC-DNA</th><td> -9.601222</td><td>-1.0593635</td><td> 1.6247639</td><td>-0.1968443</td><td>-1.0710003</td><td>-0.18135382</td><td>-0.80772967</td><td> 0.82671338</td><td> 0.19270228</td><td> 0.04732945</td><td>-0.03199291</td><td> 0.17698111</td><td>-0.07509704</td></tr>\n",
       "\t<tr><th scope=row>CHP-353-04-PBMC-DNA</th><td>-15.586967</td><td> 4.2694615</td><td>-1.8066360</td><td> 1.6357500</td><td>-0.8766210</td><td>-0.14746343</td><td> 0.46986389</td><td>-0.46606503</td><td> 0.35418411</td><td> 0.63144634</td><td>-0.48800149</td><td> 0.11867217</td><td>-0.03119597</td></tr>\n",
       "\t<tr><th scope=row>CHP-363-04-PBMC-DNA</th><td> -5.791357</td><td> 1.0336797</td><td> 1.2500966</td><td> 0.8037380</td><td> 0.6086951</td><td> 0.14274773</td><td>-0.04513192</td><td> 0.49346464</td><td> 0.63107768</td><td>-0.24398997</td><td>-0.10398872</td><td>-0.05122336</td><td>-0.01076443</td></tr>\n",
       "\t<tr><th scope=row>CHP-369-01-PBMC-DNA</th><td> -5.409429</td><td>-1.7081537</td><td> 0.8792851</td><td>-0.2725720</td><td>-0.4129596</td><td>-0.69994928</td><td>-0.79020279</td><td> 0.15719192</td><td>-0.07271708</td><td> 0.19836678</td><td>-0.43235948</td><td>-0.08481869</td><td> 0.07813747</td></tr>\n",
       "</tbody>\n",
       "</table>\n"
      ],
      "text/latex": [
       "A matrix: 6 x 13 of type dbl\n",
       "\\begin{tabular}{r|lllllllllllll}\n",
       "  & PC1 & PC2 & PC3 & PC4 & PC5 & PC6 & PC7 & PC8 & PC9 & PC10 & PC11 & PC12 & PC13\\\\\n",
       "\\hline\n",
       "\tCHP-328-04-PBMC-DNA &  -2.177149 & -0.1661816 &  0.3687299 & -0.2752007 & -0.2077164 & -0.60414725 & -0.16201849 & -0.01511295 &  0.43047095 &  0.03822050 &  0.01436271 & -0.12182549 & -0.10655211\\\\\n",
       "\tCHP-328-05-PBMC-DNA &   1.190934 & -0.6575784 & -0.2299612 & -0.2202804 &  0.2093163 & -0.09342315 & -0.13692283 & -0.27253515 & -0.09391664 &  0.14894586 &  0.01185951 & -0.04047046 &  0.05524235\\\\\n",
       "\tCHP-351-03-PBMC-DNA &  -9.601222 & -1.0593635 &  1.6247639 & -0.1968443 & -1.0710003 & -0.18135382 & -0.80772967 &  0.82671338 &  0.19270228 &  0.04732945 & -0.03199291 &  0.17698111 & -0.07509704\\\\\n",
       "\tCHP-353-04-PBMC-DNA & -15.586967 &  4.2694615 & -1.8066360 &  1.6357500 & -0.8766210 & -0.14746343 &  0.46986389 & -0.46606503 &  0.35418411 &  0.63144634 & -0.48800149 &  0.11867217 & -0.03119597\\\\\n",
       "\tCHP-363-04-PBMC-DNA &  -5.791357 &  1.0336797 &  1.2500966 &  0.8037380 &  0.6086951 &  0.14274773 & -0.04513192 &  0.49346464 &  0.63107768 & -0.24398997 & -0.10398872 & -0.05122336 & -0.01076443\\\\\n",
       "\tCHP-369-01-PBMC-DNA &  -5.409429 & -1.7081537 &  0.8792851 & -0.2725720 & -0.4129596 & -0.69994928 & -0.79020279 &  0.15719192 & -0.07271708 &  0.19836678 & -0.43235948 & -0.08481869 &  0.07813747\\\\\n",
       "\\end{tabular}\n"
      ],
      "text/markdown": [
       "\n",
       "A matrix: 6 x 13 of type dbl\n",
       "\n",
       "| <!--/--> | PC1 | PC2 | PC3 | PC4 | PC5 | PC6 | PC7 | PC8 | PC9 | PC10 | PC11 | PC12 | PC13 |\n",
       "|---|---|---|---|---|---|---|---|---|---|---|---|---|---|\n",
       "| CHP-328-04-PBMC-DNA |  -2.177149 | -0.1661816 |  0.3687299 | -0.2752007 | -0.2077164 | -0.60414725 | -0.16201849 | -0.01511295 |  0.43047095 |  0.03822050 |  0.01436271 | -0.12182549 | -0.10655211 |\n",
       "| CHP-328-05-PBMC-DNA |   1.190934 | -0.6575784 | -0.2299612 | -0.2202804 |  0.2093163 | -0.09342315 | -0.13692283 | -0.27253515 | -0.09391664 |  0.14894586 |  0.01185951 | -0.04047046 |  0.05524235 |\n",
       "| CHP-351-03-PBMC-DNA |  -9.601222 | -1.0593635 |  1.6247639 | -0.1968443 | -1.0710003 | -0.18135382 | -0.80772967 |  0.82671338 |  0.19270228 |  0.04732945 | -0.03199291 |  0.17698111 | -0.07509704 |\n",
       "| CHP-353-04-PBMC-DNA | -15.586967 |  4.2694615 | -1.8066360 |  1.6357500 | -0.8766210 | -0.14746343 |  0.46986389 | -0.46606503 |  0.35418411 |  0.63144634 | -0.48800149 |  0.11867217 | -0.03119597 |\n",
       "| CHP-363-04-PBMC-DNA |  -5.791357 |  1.0336797 |  1.2500966 |  0.8037380 |  0.6086951 |  0.14274773 | -0.04513192 |  0.49346464 |  0.63107768 | -0.24398997 | -0.10398872 | -0.05122336 | -0.01076443 |\n",
       "| CHP-369-01-PBMC-DNA |  -5.409429 | -1.7081537 |  0.8792851 | -0.2725720 | -0.4129596 | -0.69994928 | -0.79020279 |  0.15719192 | -0.07271708 |  0.19836678 | -0.43235948 | -0.08481869 |  0.07813747 |\n",
       "\n"
      ],
      "text/plain": [
       "                    PC1        PC2        PC3        PC4        PC5       \n",
       "CHP-328-04-PBMC-DNA  -2.177149 -0.1661816  0.3687299 -0.2752007 -0.2077164\n",
       "CHP-328-05-PBMC-DNA   1.190934 -0.6575784 -0.2299612 -0.2202804  0.2093163\n",
       "CHP-351-03-PBMC-DNA  -9.601222 -1.0593635  1.6247639 -0.1968443 -1.0710003\n",
       "CHP-353-04-PBMC-DNA -15.586967  4.2694615 -1.8066360  1.6357500 -0.8766210\n",
       "CHP-363-04-PBMC-DNA  -5.791357  1.0336797  1.2500966  0.8037380  0.6086951\n",
       "CHP-369-01-PBMC-DNA  -5.409429 -1.7081537  0.8792851 -0.2725720 -0.4129596\n",
       "                    PC6         PC7         PC8         PC9         PC10       \n",
       "CHP-328-04-PBMC-DNA -0.60414725 -0.16201849 -0.01511295  0.43047095  0.03822050\n",
       "CHP-328-05-PBMC-DNA -0.09342315 -0.13692283 -0.27253515 -0.09391664  0.14894586\n",
       "CHP-351-03-PBMC-DNA -0.18135382 -0.80772967  0.82671338  0.19270228  0.04732945\n",
       "CHP-353-04-PBMC-DNA -0.14746343  0.46986389 -0.46606503  0.35418411  0.63144634\n",
       "CHP-363-04-PBMC-DNA  0.14274773 -0.04513192  0.49346464  0.63107768 -0.24398997\n",
       "CHP-369-01-PBMC-DNA -0.69994928 -0.79020279  0.15719192 -0.07271708  0.19836678\n",
       "                    PC11        PC12        PC13       \n",
       "CHP-328-04-PBMC-DNA  0.01436271 -0.12182549 -0.10655211\n",
       "CHP-328-05-PBMC-DNA  0.01185951 -0.04047046  0.05524235\n",
       "CHP-351-03-PBMC-DNA -0.03199291  0.17698111 -0.07509704\n",
       "CHP-353-04-PBMC-DNA -0.48800149  0.11867217 -0.03119597\n",
       "CHP-363-04-PBMC-DNA -0.10398872 -0.05122336 -0.01076443\n",
       "CHP-369-01-PBMC-DNA -0.43235948 -0.08481869  0.07813747"
      ]
     },
     "metadata": {},
     "output_type": "display_data"
    }
   ],
   "source": [
    "head(out)"
   ]
  },
  {
   "cell_type": "code",
   "execution_count": 63,
   "metadata": {
    "vscode": {
     "languageId": "r"
    }
   },
   "outputs": [],
   "source": [
    "p0 <- fviz_pca_ind(mypca,geom = \"point\", pointshape = 16, pointsize = 2, alpha = 1,\n",
    "                    ellipse.alpha = 0, invisible=\"quali\", repel = TRUE,\n",
    "                       title = \"PCA of frequent J genes (n = 13)\")"
   ]
  },
  {
   "cell_type": "code",
   "execution_count": 64,
   "metadata": {
    "vscode": {
     "languageId": "r"
    }
   },
   "outputs": [
    {
     "data": {
      "image/png": "[encoded data removed]",
      "text/plain": [
       "plot without title"
      ]
     },
     "metadata": {
      "image/png": {
       "height": 420,
       "width": 420
      }
     },
     "output_type": "display_data"
    }
   ],
   "source": [
    "p0"
   ]
  },
  {
   "cell_type": "code",
   "execution_count": 65,
   "metadata": {
    "vscode": {
     "languageId": "r"
    }
   },
   "outputs": [],
   "source": [
    "readr::write_rds(mydf, paste0(datapath, \"/capTCRseq/INT_PBMC_J_PCA_postqc.rds\"))"
   ]
  },
  {
   "cell_type": "markdown",
   "metadata": {
    "vscode": {
     "languageId": "r"
    }
   },
   "source": [
    "# cfDNA"
   ]
  },
  {
   "cell_type": "code",
   "execution_count": null,
   "metadata": {
    "vscode": {
     "languageId": "r"
    }
   },
   "outputs": [],
   "source": []
  },
  {
   "cell_type": "code",
   "execution_count": null,
   "metadata": {
    "vscode": {
     "languageId": "r"
    }
   },
   "outputs": [],
   "source": []
  },
  {
   "cell_type": "code",
   "execution_count": 5,
   "metadata": {
    "vscode": {
     "languageId": "r"
    }
   },
   "outputs": [],
   "source": [
    "meta_div <- readr::read_rds(paste0(datapath, \"capTCRseq/meta_div_goodsamples.rds\"))"
   ]
  },
  {
   "cell_type": "code",
   "execution_count": 6,
   "metadata": {
    "vscode": {
     "languageId": "r"
    }
   },
   "outputs": [],
   "source": [
    "meta_div <- meta_div[ !is.na(meta_div$TRB), ]"
   ]
  },
  {
   "cell_type": "code",
   "execution_count": 7,
   "metadata": {
    "vscode": {
     "languageId": "r"
    }
   },
   "outputs": [
    {
     "data": {
      "text/plain": [
       "\n",
       " PBMC Tumor cfDNA \n",
       "  221    17   266 "
      ]
     },
     "metadata": {},
     "output_type": "display_data"
    }
   ],
   "source": [
    "table(meta_div$sampletype)"
   ]
  },
  {
   "cell_type": "code",
   "execution_count": null,
   "metadata": {
    "vscode": {
     "languageId": "r"
    }
   },
   "outputs": [],
   "source": []
  },
  {
   "cell_type": "code",
   "execution_count": 8,
   "metadata": {
    "vscode": {
     "languageId": "r"
    }
   },
   "outputs": [],
   "source": [
    "meta_div <- meta_div[ meta_div$sampletype == \"cfDNA\",]"
   ]
  },
  {
   "cell_type": "code",
   "execution_count": 9,
   "metadata": {
    "vscode": {
     "languageId": "r"
    }
   },
   "outputs": [
    {
     "data": {
      "text/html": [
       "<table class=\"dataframe\">\n",
       "<caption>A data.frame: 6 x 66</caption>\n",
       "<thead>\n",
       "\t<tr><th></th><th scope=col>sample_id</th><th scope=col>Patient</th><th scope=col>cycle</th><th scope=col>FOLD</th><th scope=col>ATC</th><th scope=col>Age</th><th scope=col>Disease_type</th><th scope=col>TE_fold</th><th scope=col>CD3</th><th scope=col>EM</th><th scope=col>...</th><th scope=col>estimated_Shannon</th><th scope=col>SE_Shannon</th><th scope=col>observed_Simpson</th><th scope=col>estimated_Simpson</th><th scope=col>SE_Simpson</th><th scope=col>basename</th><th scope=col>file</th><th scope=col>sampletype</th><th scope=col>Group</th><th scope=col>log10shann</th></tr>\n",
       "\t<tr><th></th><th scope=col>&lt;chr&gt;</th><th scope=col>&lt;chr&gt;</th><th scope=col>&lt;chr&gt;</th><th scope=col>&lt;dbl&gt;</th><th scope=col>&lt;dbl&gt;</th><th scope=col>&lt;dbl&gt;</th><th scope=col>&lt;chr&gt;</th><th scope=col>&lt;dbl&gt;</th><th scope=col>&lt;int&gt;</th><th scope=col>&lt;int&gt;</th><th scope=col>...</th><th scope=col>&lt;dbl&gt;</th><th scope=col>&lt;dbl&gt;</th><th scope=col>&lt;dbl&gt;</th><th scope=col>&lt;dbl&gt;</th><th scope=col>&lt;dbl&gt;</th><th scope=col>&lt;chr&gt;</th><th scope=col>&lt;chr&gt;</th><th scope=col>&lt;chr&gt;</th><th scope=col>&lt;chr&gt;</th><th scope=col>&lt;dbl&gt;</th></tr>\n",
       "</thead>\n",
       "<tbody>\n",
       "\t<tr><th scope=row>1</th><td>CHP_323_03</td><td>CHP_323</td><td>X03</td><td>0</td><td>786.24</td><td> 1</td><td>HR ALL</td><td>0</td><td>0</td><td>NA</td><td>...</td><td>43.456</td><td>0.145</td><td>31.052</td><td>31.063</td><td>0.159</td><td>CHP_323-03_cfDNA</td><td>batch3a9_cfDNA_10Jul2020/mixcr/clones/CLONES_TRBCHP_323-03_cfDNA.txt          </td><td>cfDNA</td><td>CHP</td><td>1.6377198</td></tr>\n",
       "\t<tr><th scope=row>2</th><td>CHP_323_05</td><td>CHP_323</td><td>X05</td><td>0</td><td>979.50</td><td> 1</td><td>HR ALL</td><td>0</td><td>0</td><td>NA</td><td>...</td><td> 8.686</td><td>0.093</td><td> 6.804</td><td> 6.812</td><td>0.134</td><td>CHP_323-05_cfDNA</td><td>remaining_batch_1_cfDNA_8April2021/mixcr/clones/CLONES_TRBCHP_323-05_cfDNA.txt</td><td>cfDNA</td><td>CHP</td><td>0.9380692</td></tr>\n",
       "\t<tr><th scope=row>3</th><td>CHP_324_04</td><td>CHP_324</td><td>X04</td><td>0</td><td>  0.00</td><td>12</td><td>T-ALL </td><td>0</td><td>0</td><td>NA</td><td>...</td><td> 1.000</td><td>0.000</td><td> 1.000</td><td> 1.000</td><td>0.000</td><td>CHP_324-04_cfDNA</td><td>batch5_cfDNA_25Jun2020/mixcr/clones/CLONES_TRBCHP_324-04_cfDNA.txt            </td><td>cfDNA</td><td>CHP</td><td>0.0000000</td></tr>\n",
       "\t<tr><th scope=row>4</th><td>CHP_324_05</td><td>CHP_324</td><td>X05</td><td>0</td><td>  0.00</td><td>12</td><td>T-ALL </td><td>0</td><td>0</td><td>NA</td><td>...</td><td> 1.775</td><td>0.019</td><td> 1.627</td><td> 1.627</td><td>0.028</td><td>CHP_324-05_cfDNA</td><td>batch10_cfDNA_13Jul2020/mixcr/clones/CLONES_TRBCHP_324-05_cfDNA.txt           </td><td>cfDNA</td><td>CHP</td><td>0.2491984</td></tr>\n",
       "\t<tr><th scope=row>5</th><td>CHP_326_05</td><td>CHP_326</td><td>X05</td><td>0</td><td>972.90</td><td> 4</td><td>SR ALL</td><td>0</td><td>0</td><td>NA</td><td>...</td><td>16.475</td><td>0.087</td><td>14.065</td><td>14.075</td><td>0.099</td><td>CHP_326-05_cfDNA</td><td>batch10_cfDNA_13Jul2020/mixcr/clones/CLONES_TRBCHP_326-05_cfDNA.txt           </td><td>cfDNA</td><td>CHP</td><td>1.2165354</td></tr>\n",
       "\t<tr><th scope=row>6</th><td>CHP_328_05</td><td>CHP_328</td><td>X05</td><td>0</td><td> 91.16</td><td> 7</td><td>SR ALL</td><td>0</td><td>0</td><td>NA</td><td>...</td><td> 3.066</td><td>0.028</td><td> 2.691</td><td> 2.692</td><td>0.024</td><td>CHP_328-05_cfDNA</td><td>batch10_cfDNA_13Jul2020/mixcr/clones/CLONES_TRBCHP_328-05_cfDNA.txt           </td><td>cfDNA</td><td>CHP</td><td>0.4864305</td></tr>\n",
       "</tbody>\n",
       "</table>\n"
      ],
      "text/latex": [
       "A data.frame: 6 x 66\n",
       "\\begin{tabular}{r|lllllllllllllllllllll}\n",
       "  & sample\\_id & Patient & cycle & FOLD & ATC & Age & Disease\\_type & TE\\_fold & CD3 & EM & ... & estimated\\_Shannon & SE\\_Shannon & observed\\_Simpson & estimated\\_Simpson & SE\\_Simpson & basename & file & sampletype & Group & log10shann\\\\\n",
       "  & <chr> & <chr> & <chr> & <dbl> & <dbl> & <dbl> & <chr> & <dbl> & <int> & <int> & ... & <dbl> & <dbl> & <dbl> & <dbl> & <dbl> & <chr> & <chr> & <chr> & <chr> & <dbl>\\\\\n",
       "\\hline\n",
       "\t1 & CHP\\_323\\_03 & CHP\\_323 & X03 & 0 & 786.24 &  1 & HR ALL & 0 & 0 & NA & ... & 43.456 & 0.145 & 31.052 & 31.063 & 0.159 & CHP\\_323-03\\_cfDNA & batch3a9\\_cfDNA\\_10Jul2020/mixcr/clones/CLONES\\_TRBCHP\\_323-03\\_cfDNA.txt           & cfDNA & CHP & 1.6377198\\\\\n",
       "\t2 & CHP\\_323\\_05 & CHP\\_323 & X05 & 0 & 979.50 &  1 & HR ALL & 0 & 0 & NA & ... &  8.686 & 0.093 &  6.804 &  6.812 & 0.134 & CHP\\_323-05\\_cfDNA & remaining\\_batch\\_1\\_cfDNA\\_8April2021/mixcr/clones/CLONES\\_TRBCHP\\_323-05\\_cfDNA.txt & cfDNA & CHP & 0.9380692\\\\\n",
       "\t3 & CHP\\_324\\_04 & CHP\\_324 & X04 & 0 &   0.00 & 12 & T-ALL  & 0 & 0 & NA & ... &  1.000 & 0.000 &  1.000 &  1.000 & 0.000 & CHP\\_324-04\\_cfDNA & batch5\\_cfDNA\\_25Jun2020/mixcr/clones/CLONES\\_TRBCHP\\_324-04\\_cfDNA.txt             & cfDNA & CHP & 0.0000000\\\\\n",
       "\t4 & CHP\\_324\\_05 & CHP\\_324 & X05 & 0 &   0.00 & 12 & T-ALL  & 0 & 0 & NA & ... &  1.775 & 0.019 &  1.627 &  1.627 & 0.028 & CHP\\_324-05\\_cfDNA & batch10\\_cfDNA\\_13Jul2020/mixcr/clones/CLONES\\_TRBCHP\\_324-05\\_cfDNA.txt            & cfDNA & CHP & 0.2491984\\\\\n",
       "\t5 & CHP\\_326\\_05 & CHP\\_326 & X05 & 0 & 972.90 &  4 & SR ALL & 0 & 0 & NA & ... & 16.475 & 0.087 & 14.065 & 14.075 & 0.099 & CHP\\_326-05\\_cfDNA & batch10\\_cfDNA\\_13Jul2020/mixcr/clones/CLONES\\_TRBCHP\\_326-05\\_cfDNA.txt            & cfDNA & CHP & 1.2165354\\\\\n",
       "\t6 & CHP\\_328\\_05 & CHP\\_328 & X05 & 0 &  91.16 &  7 & SR ALL & 0 & 0 & NA & ... &  3.066 & 0.028 &  2.691 &  2.692 & 0.024 & CHP\\_328-05\\_cfDNA & batch10\\_cfDNA\\_13Jul2020/mixcr/clones/CLONES\\_TRBCHP\\_328-05\\_cfDNA.txt            & cfDNA & CHP & 0.4864305\\\\\n",
       "\\end{tabular}\n"
      ],
      "text/markdown": [
       "\n",
       "A data.frame: 6 x 66\n",
       "\n",
       "| <!--/--> | sample_id &lt;chr&gt; | Patient &lt;chr&gt; | cycle &lt;chr&gt; | FOLD &lt;dbl&gt; | ATC &lt;dbl&gt; | Age &lt;dbl&gt; | Disease_type &lt;chr&gt; | TE_fold &lt;dbl&gt; | CD3 &lt;int&gt; | EM &lt;int&gt; | ... ... | estimated_Shannon &lt;dbl&gt; | SE_Shannon &lt;dbl&gt; | observed_Simpson &lt;dbl&gt; | estimated_Simpson &lt;dbl&gt; | SE_Simpson &lt;dbl&gt; | basename &lt;chr&gt; | file &lt;chr&gt; | sampletype &lt;chr&gt; | Group &lt;chr&gt; | log10shann &lt;dbl&gt; |\n",
       "|---|---|---|---|---|---|---|---|---|---|---|---|---|---|---|---|---|---|---|---|---|---|\n",
       "| 1 | CHP_323_03 | CHP_323 | X03 | 0 | 786.24 |  1 | HR ALL | 0 | 0 | NA | ... | 43.456 | 0.145 | 31.052 | 31.063 | 0.159 | CHP_323-03_cfDNA | batch3a9_cfDNA_10Jul2020/mixcr/clones/CLONES_TRBCHP_323-03_cfDNA.txt           | cfDNA | CHP | 1.6377198 |\n",
       "| 2 | CHP_323_05 | CHP_323 | X05 | 0 | 979.50 |  1 | HR ALL | 0 | 0 | NA | ... |  8.686 | 0.093 |  6.804 |  6.812 | 0.134 | CHP_323-05_cfDNA | remaining_batch_1_cfDNA_8April2021/mixcr/clones/CLONES_TRBCHP_323-05_cfDNA.txt | cfDNA | CHP | 0.9380692 |\n",
       "| 3 | CHP_324_04 | CHP_324 | X04 | 0 |   0.00 | 12 | T-ALL  | 0 | 0 | NA | ... |  1.000 | 0.000 |  1.000 |  1.000 | 0.000 | CHP_324-04_cfDNA | batch5_cfDNA_25Jun2020/mixcr/clones/CLONES_TRBCHP_324-04_cfDNA.txt             | cfDNA | CHP | 0.0000000 |\n",
       "| 4 | CHP_324_05 | CHP_324 | X05 | 0 |   0.00 | 12 | T-ALL  | 0 | 0 | NA | ... |  1.775 | 0.019 |  1.627 |  1.627 | 0.028 | CHP_324-05_cfDNA | batch10_cfDNA_13Jul2020/mixcr/clones/CLONES_TRBCHP_324-05_cfDNA.txt            | cfDNA | CHP | 0.2491984 |\n",
       "| 5 | CHP_326_05 | CHP_326 | X05 | 0 | 972.90 |  4 | SR ALL | 0 | 0 | NA | ... | 16.475 | 0.087 | 14.065 | 14.075 | 0.099 | CHP_326-05_cfDNA | batch10_cfDNA_13Jul2020/mixcr/clones/CLONES_TRBCHP_326-05_cfDNA.txt            | cfDNA | CHP | 1.2165354 |\n",
       "| 6 | CHP_328_05 | CHP_328 | X05 | 0 |  91.16 |  7 | SR ALL | 0 | 0 | NA | ... |  3.066 | 0.028 |  2.691 |  2.692 | 0.024 | CHP_328-05_cfDNA | batch10_cfDNA_13Jul2020/mixcr/clones/CLONES_TRBCHP_328-05_cfDNA.txt            | cfDNA | CHP | 0.4864305 |\n",
       "\n"
      ],
      "text/plain": [
       "  sample_id  Patient cycle FOLD ATC    Age Disease_type TE_fold CD3 EM ...\n",
       "1 CHP_323_03 CHP_323 X03   0    786.24  1  HR ALL       0       0   NA ...\n",
       "2 CHP_323_05 CHP_323 X05   0    979.50  1  HR ALL       0       0   NA ...\n",
       "3 CHP_324_04 CHP_324 X04   0      0.00 12  T-ALL        0       0   NA ...\n",
       "4 CHP_324_05 CHP_324 X05   0      0.00 12  T-ALL        0       0   NA ...\n",
       "5 CHP_326_05 CHP_326 X05   0    972.90  4  SR ALL       0       0   NA ...\n",
       "6 CHP_328_05 CHP_328 X05   0     91.16  7  SR ALL       0       0   NA ...\n",
       "  estimated_Shannon SE_Shannon observed_Simpson estimated_Simpson SE_Simpson\n",
       "1 43.456            0.145      31.052           31.063            0.159     \n",
       "2  8.686            0.093       6.804            6.812            0.134     \n",
       "3  1.000            0.000       1.000            1.000            0.000     \n",
       "4  1.775            0.019       1.627            1.627            0.028     \n",
       "5 16.475            0.087      14.065           14.075            0.099     \n",
       "6  3.066            0.028       2.691            2.692            0.024     \n",
       "  basename        \n",
       "1 CHP_323-03_cfDNA\n",
       "2 CHP_323-05_cfDNA\n",
       "3 CHP_324-04_cfDNA\n",
       "4 CHP_324-05_cfDNA\n",
       "5 CHP_326-05_cfDNA\n",
       "6 CHP_328-05_cfDNA\n",
       "  file                                                                          \n",
       "1 batch3a9_cfDNA_10Jul2020/mixcr/clones/CLONES_TRBCHP_323-03_cfDNA.txt          \n",
       "2 remaining_batch_1_cfDNA_8April2021/mixcr/clones/CLONES_TRBCHP_323-05_cfDNA.txt\n",
       "3 batch5_cfDNA_25Jun2020/mixcr/clones/CLONES_TRBCHP_324-04_cfDNA.txt            \n",
       "4 batch10_cfDNA_13Jul2020/mixcr/clones/CLONES_TRBCHP_324-05_cfDNA.txt           \n",
       "5 batch10_cfDNA_13Jul2020/mixcr/clones/CLONES_TRBCHP_326-05_cfDNA.txt           \n",
       "6 batch10_cfDNA_13Jul2020/mixcr/clones/CLONES_TRBCHP_328-05_cfDNA.txt           \n",
       "  sampletype Group log10shann\n",
       "1 cfDNA      CHP   1.6377198 \n",
       "2 cfDNA      CHP   0.9380692 \n",
       "3 cfDNA      CHP   0.0000000 \n",
       "4 cfDNA      CHP   0.2491984 \n",
       "5 cfDNA      CHP   1.2165354 \n",
       "6 cfDNA      CHP   0.4864305 "
      ]
     },
     "metadata": {},
     "output_type": "display_data"
    }
   ],
   "source": [
    "head(meta_div)"
   ]
  },
  {
   "cell_type": "code",
   "execution_count": 10,
   "metadata": {
    "vscode": {
     "languageId": "r"
    }
   },
   "outputs": [],
   "source": [
    "int_v_j_cdr3_l <- readr::read_rds(paste0(datapath, \"capTCRseq/int_cfdna_v_j_cdr3_l.rds\"))"
   ]
  },
  {
   "cell_type": "code",
   "execution_count": 11,
   "metadata": {
    "vscode": {
     "languageId": "r"
    }
   },
   "outputs": [
    {
     "data": {
      "text/html": [
       "<table class=\"dataframe\">\n",
       "<caption>A data.frame: 6 x 7</caption>\n",
       "<thead>\n",
       "\t<tr><th></th><th scope=col>basename</th><th scope=col>aaSeqCDR3</th><th scope=col>cdr3_length</th><th scope=col>TRBV</th><th scope=col>TRBJ</th><th scope=col>cloneCount</th><th scope=col>cloneFraction</th></tr>\n",
       "\t<tr><th></th><th scope=col>&lt;chr&gt;</th><th scope=col>&lt;chr&gt;</th><th scope=col>&lt;int&gt;</th><th scope=col>&lt;chr&gt;</th><th scope=col>&lt;chr&gt;</th><th scope=col>&lt;int&gt;</th><th scope=col>&lt;dbl&gt;</th></tr>\n",
       "</thead>\n",
       "<tbody>\n",
       "\t<tr><th scope=row>1</th><td>CHP_323-03_cfDNA</td><td>CASSQGTEGGYTF  </td><td>13</td><td>TRBV4-3 </td><td>TRBJ1-2</td><td>7047</td><td>0.06883248</td></tr>\n",
       "\t<tr><th scope=row>2</th><td>CHP_323-03_cfDNA</td><td>CSARGRGKGADTQYF</td><td>15</td><td>TRBV20-1</td><td>TRBJ2-3</td><td>5287</td><td>0.05164145</td></tr>\n",
       "\t<tr><th scope=row>3</th><td>CHP_323-03_cfDNA</td><td>CASRSDEKLFF    </td><td>11</td><td>TRBV28  </td><td>TRBJ1-4</td><td>4084</td><td>0.03989099</td></tr>\n",
       "\t<tr><th scope=row>4</th><td>CHP_323-03_cfDNA</td><td>CAISDGQDTDTQYF </td><td>14</td><td>TRBV10-3</td><td>TRBJ2-3</td><td>3884</td><td>0.03793747</td></tr>\n",
       "\t<tr><th scope=row>6</th><td>CHP_323-03_cfDNA</td><td>CASSPSNTEAFF   </td><td>12</td><td>TRBV19  </td><td>TRBJ1-1</td><td>3533</td><td>0.03450903</td></tr>\n",
       "\t<tr><th scope=row>8</th><td>CHP_323-03_cfDNA</td><td>CASPGTGLYNQPQHF</td><td>15</td><td>TRBV30  </td><td>TRBJ1-5</td><td>3079</td><td>0.03007453</td></tr>\n",
       "</tbody>\n",
       "</table>\n"
      ],
      "text/latex": [
       "A data.frame: 6 x 7\n",
       "\\begin{tabular}{r|lllllll}\n",
       "  & basename & aaSeqCDR3 & cdr3\\_length & TRBV & TRBJ & cloneCount & cloneFraction\\\\\n",
       "  & <chr> & <chr> & <int> & <chr> & <chr> & <int> & <dbl>\\\\\n",
       "\\hline\n",
       "\t1 & CHP\\_323-03\\_cfDNA & CASSQGTEGGYTF   & 13 & TRBV4-3  & TRBJ1-2 & 7047 & 0.06883248\\\\\n",
       "\t2 & CHP\\_323-03\\_cfDNA & CSARGRGKGADTQYF & 15 & TRBV20-1 & TRBJ2-3 & 5287 & 0.05164145\\\\\n",
       "\t3 & CHP\\_323-03\\_cfDNA & CASRSDEKLFF     & 11 & TRBV28   & TRBJ1-4 & 4084 & 0.03989099\\\\\n",
       "\t4 & CHP\\_323-03\\_cfDNA & CAISDGQDTDTQYF  & 14 & TRBV10-3 & TRBJ2-3 & 3884 & 0.03793747\\\\\n",
       "\t6 & CHP\\_323-03\\_cfDNA & CASSPSNTEAFF    & 12 & TRBV19   & TRBJ1-1 & 3533 & 0.03450903\\\\\n",
       "\t8 & CHP\\_323-03\\_cfDNA & CASPGTGLYNQPQHF & 15 & TRBV30   & TRBJ1-5 & 3079 & 0.03007453\\\\\n",
       "\\end{tabular}\n"
      ],
      "text/markdown": [
       "\n",
       "A data.frame: 6 x 7\n",
       "\n",
       "| <!--/--> | basename &lt;chr&gt; | aaSeqCDR3 &lt;chr&gt; | cdr3_length &lt;int&gt; | TRBV &lt;chr&gt; | TRBJ &lt;chr&gt; | cloneCount &lt;int&gt; | cloneFraction &lt;dbl&gt; |\n",
       "|---|---|---|---|---|---|---|---|\n",
       "| 1 | CHP_323-03_cfDNA | CASSQGTEGGYTF   | 13 | TRBV4-3  | TRBJ1-2 | 7047 | 0.06883248 |\n",
       "| 2 | CHP_323-03_cfDNA | CSARGRGKGADTQYF | 15 | TRBV20-1 | TRBJ2-3 | 5287 | 0.05164145 |\n",
       "| 3 | CHP_323-03_cfDNA | CASRSDEKLFF     | 11 | TRBV28   | TRBJ1-4 | 4084 | 0.03989099 |\n",
       "| 4 | CHP_323-03_cfDNA | CAISDGQDTDTQYF  | 14 | TRBV10-3 | TRBJ2-3 | 3884 | 0.03793747 |\n",
       "| 6 | CHP_323-03_cfDNA | CASSPSNTEAFF    | 12 | TRBV19   | TRBJ1-1 | 3533 | 0.03450903 |\n",
       "| 8 | CHP_323-03_cfDNA | CASPGTGLYNQPQHF | 15 | TRBV30   | TRBJ1-5 | 3079 | 0.03007453 |\n",
       "\n"
      ],
      "text/plain": [
       "  basename         aaSeqCDR3       cdr3_length TRBV     TRBJ    cloneCount\n",
       "1 CHP_323-03_cfDNA CASSQGTEGGYTF   13          TRBV4-3  TRBJ1-2 7047      \n",
       "2 CHP_323-03_cfDNA CSARGRGKGADTQYF 15          TRBV20-1 TRBJ2-3 5287      \n",
       "3 CHP_323-03_cfDNA CASRSDEKLFF     11          TRBV28   TRBJ1-4 4084      \n",
       "4 CHP_323-03_cfDNA CAISDGQDTDTQYF  14          TRBV10-3 TRBJ2-3 3884      \n",
       "6 CHP_323-03_cfDNA CASSPSNTEAFF    12          TRBV19   TRBJ1-1 3533      \n",
       "8 CHP_323-03_cfDNA CASPGTGLYNQPQHF 15          TRBV30   TRBJ1-5 3079      \n",
       "  cloneFraction\n",
       "1 0.06883248   \n",
       "2 0.05164145   \n",
       "3 0.03989099   \n",
       "4 0.03793747   \n",
       "6 0.03450903   \n",
       "8 0.03007453   "
      ]
     },
     "metadata": {},
     "output_type": "display_data"
    }
   ],
   "source": [
    "head(int_v_j_cdr3_l)"
   ]
  },
  {
   "cell_type": "code",
   "execution_count": 12,
   "metadata": {
    "vscode": {
     "languageId": "r"
    }
   },
   "outputs": [
    {
     "name": "stderr",
     "output_type": "stream",
     "text": [
      "\u001b[1m\u001b[22m`summarise()` has grouped output by 'basename'. You can override using the\n",
      "`.groups` argument.\n"
     ]
    }
   ],
   "source": [
    "int_j <- int_v_j_cdr3_l %>% group_by(basename, TRBJ) %>% summarize(Jcount = sum(cloneCount)) %>% ungroup()"
   ]
  },
  {
   "cell_type": "code",
   "execution_count": 13,
   "metadata": {
    "vscode": {
     "languageId": "r"
    }
   },
   "outputs": [
    {
     "data": {
      "text/html": [
       "<table class=\"dataframe\">\n",
       "<caption>A tibble: 6 x 3</caption>\n",
       "<thead>\n",
       "\t<tr><th scope=col>basename</th><th scope=col>TRBJ</th><th scope=col>Jcount</th></tr>\n",
       "\t<tr><th scope=col>&lt;chr&gt;</th><th scope=col>&lt;chr&gt;</th><th scope=col>&lt;int&gt;</th></tr>\n",
       "</thead>\n",
       "<tbody>\n",
       "\t<tr><td>CHP_323-03_cfDNA</td><td>TRBJ1-1</td><td> 6391</td></tr>\n",
       "\t<tr><td>CHP_323-03_cfDNA</td><td>TRBJ1-2</td><td>12236</td></tr>\n",
       "\t<tr><td>CHP_323-03_cfDNA</td><td>TRBJ1-3</td><td> 6275</td></tr>\n",
       "\t<tr><td>CHP_323-03_cfDNA</td><td>TRBJ1-4</td><td> 7173</td></tr>\n",
       "\t<tr><td>CHP_323-03_cfDNA</td><td>TRBJ1-5</td><td> 9807</td></tr>\n",
       "\t<tr><td>CHP_323-03_cfDNA</td><td>TRBJ1-6</td><td> 2164</td></tr>\n",
       "</tbody>\n",
       "</table>\n"
      ],
      "text/latex": [
       "A tibble: 6 x 3\n",
       "\\begin{tabular}{lll}\n",
       " basename & TRBJ & Jcount\\\\\n",
       " <chr> & <chr> & <int>\\\\\n",
       "\\hline\n",
       "\t CHP\\_323-03\\_cfDNA & TRBJ1-1 &  6391\\\\\n",
       "\t CHP\\_323-03\\_cfDNA & TRBJ1-2 & 12236\\\\\n",
       "\t CHP\\_323-03\\_cfDNA & TRBJ1-3 &  6275\\\\\n",
       "\t CHP\\_323-03\\_cfDNA & TRBJ1-4 &  7173\\\\\n",
       "\t CHP\\_323-03\\_cfDNA & TRBJ1-5 &  9807\\\\\n",
       "\t CHP\\_323-03\\_cfDNA & TRBJ1-6 &  2164\\\\\n",
       "\\end{tabular}\n"
      ],
      "text/markdown": [
       "\n",
       "A tibble: 6 x 3\n",
       "\n",
       "| basename &lt;chr&gt; | TRBJ &lt;chr&gt; | Jcount &lt;int&gt; |\n",
       "|---|---|---|\n",
       "| CHP_323-03_cfDNA | TRBJ1-1 |  6391 |\n",
       "| CHP_323-03_cfDNA | TRBJ1-2 | 12236 |\n",
       "| CHP_323-03_cfDNA | TRBJ1-3 |  6275 |\n",
       "| CHP_323-03_cfDNA | TRBJ1-4 |  7173 |\n",
       "| CHP_323-03_cfDNA | TRBJ1-5 |  9807 |\n",
       "| CHP_323-03_cfDNA | TRBJ1-6 |  2164 |\n",
       "\n"
      ],
      "text/plain": [
       "  basename         TRBJ    Jcount\n",
       "1 CHP_323-03_cfDNA TRBJ1-1  6391 \n",
       "2 CHP_323-03_cfDNA TRBJ1-2 12236 \n",
       "3 CHP_323-03_cfDNA TRBJ1-3  6275 \n",
       "4 CHP_323-03_cfDNA TRBJ1-4  7173 \n",
       "5 CHP_323-03_cfDNA TRBJ1-5  9807 \n",
       "6 CHP_323-03_cfDNA TRBJ1-6  2164 "
      ]
     },
     "metadata": {},
     "output_type": "display_data"
    }
   ],
   "source": [
    "head(int_j)"
   ]
  },
  {
   "cell_type": "code",
   "execution_count": 14,
   "metadata": {
    "vscode": {
     "languageId": "r"
    }
   },
   "outputs": [],
   "source": [
    "int_j_count <- tidyr::pivot_wider(int_j, names_from = \"TRBJ\", values_from = \"Jcount\", values_fill = 0)"
   ]
  },
  {
   "cell_type": "code",
   "execution_count": 15,
   "metadata": {
    "vscode": {
     "languageId": "r"
    }
   },
   "outputs": [
    {
     "data": {
      "text/html": [
       "<table class=\"dataframe\">\n",
       "<caption>A tibble: 6 x 14</caption>\n",
       "<thead>\n",
       "\t<tr><th scope=col>basename</th><th scope=col>TRBJ1-1</th><th scope=col>TRBJ1-2</th><th scope=col>TRBJ1-3</th><th scope=col>TRBJ1-4</th><th scope=col>TRBJ1-5</th><th scope=col>TRBJ1-6</th><th scope=col>TRBJ2-1</th><th scope=col>TRBJ2-2</th><th scope=col>TRBJ2-3</th><th scope=col>TRBJ2-4</th><th scope=col>TRBJ2-5</th><th scope=col>TRBJ2-7</th><th scope=col>TRBJ2-6</th></tr>\n",
       "\t<tr><th scope=col>&lt;chr&gt;</th><th scope=col>&lt;int&gt;</th><th scope=col>&lt;int&gt;</th><th scope=col>&lt;int&gt;</th><th scope=col>&lt;int&gt;</th><th scope=col>&lt;int&gt;</th><th scope=col>&lt;int&gt;</th><th scope=col>&lt;int&gt;</th><th scope=col>&lt;int&gt;</th><th scope=col>&lt;int&gt;</th><th scope=col>&lt;int&gt;</th><th scope=col>&lt;int&gt;</th><th scope=col>&lt;int&gt;</th><th scope=col>&lt;int&gt;</th></tr>\n",
       "</thead>\n",
       "<tbody>\n",
       "\t<tr><td>CHP_323-03_cfDNA</td><td>6391</td><td>12236</td><td>6275</td><td>7173</td><td>9807</td><td>2164</td><td>3113</td><td>3244</td><td>17608</td><td>1452</td><td>2811</td><td>9259</td><td>0</td></tr>\n",
       "\t<tr><td>CHP_323-05_cfDNA</td><td>1509</td><td>    0</td><td> 534</td><td>1183</td><td> 558</td><td>   0</td><td> 393</td><td>   0</td><td>  151</td><td>   1</td><td>   0</td><td> 609</td><td>0</td></tr>\n",
       "\t<tr><td>CHP_324-04_cfDNA</td><td>   0</td><td>    0</td><td>   0</td><td>   7</td><td>   0</td><td>   0</td><td>   0</td><td>   0</td><td>    0</td><td>   0</td><td>   0</td><td>   0</td><td>0</td></tr>\n",
       "\t<tr><td>CHP_324-05_cfDNA</td><td>   0</td><td>    0</td><td>   0</td><td> 446</td><td>1266</td><td>   0</td><td>   0</td><td>   0</td><td>    0</td><td>   0</td><td>   0</td><td>   0</td><td>0</td></tr>\n",
       "\t<tr><td>CHP_326-05_cfDNA</td><td>3580</td><td> 4438</td><td>   0</td><td>  32</td><td> 112</td><td>   0</td><td>4270</td><td> 453</td><td> 1369</td><td>   0</td><td> 834</td><td>3495</td><td>0</td></tr>\n",
       "\t<tr><td>CHP_328-05_cfDNA</td><td> 668</td><td> 2052</td><td>2223</td><td>   0</td><td>   0</td><td> 129</td><td>   0</td><td>   0</td><td>    0</td><td>   0</td><td>   0</td><td>   0</td><td>0</td></tr>\n",
       "</tbody>\n",
       "</table>\n"
      ],
      "text/latex": [
       "A tibble: 6 x 14\n",
       "\\begin{tabular}{llllllllllllll}\n",
       " basename & TRBJ1-1 & TRBJ1-2 & TRBJ1-3 & TRBJ1-4 & TRBJ1-5 & TRBJ1-6 & TRBJ2-1 & TRBJ2-2 & TRBJ2-3 & TRBJ2-4 & TRBJ2-5 & TRBJ2-7 & TRBJ2-6\\\\\n",
       " <chr> & <int> & <int> & <int> & <int> & <int> & <int> & <int> & <int> & <int> & <int> & <int> & <int> & <int>\\\\\n",
       "\\hline\n",
       "\t CHP\\_323-03\\_cfDNA & 6391 & 12236 & 6275 & 7173 & 9807 & 2164 & 3113 & 3244 & 17608 & 1452 & 2811 & 9259 & 0\\\\\n",
       "\t CHP\\_323-05\\_cfDNA & 1509 &     0 &  534 & 1183 &  558 &    0 &  393 &    0 &   151 &    1 &    0 &  609 & 0\\\\\n",
       "\t CHP\\_324-04\\_cfDNA &    0 &     0 &    0 &    7 &    0 &    0 &    0 &    0 &     0 &    0 &    0 &    0 & 0\\\\\n",
       "\t CHP\\_324-05\\_cfDNA &    0 &     0 &    0 &  446 & 1266 &    0 &    0 &    0 &     0 &    0 &    0 &    0 & 0\\\\\n",
       "\t CHP\\_326-05\\_cfDNA & 3580 &  4438 &    0 &   32 &  112 &    0 & 4270 &  453 &  1369 &    0 &  834 & 3495 & 0\\\\\n",
       "\t CHP\\_328-05\\_cfDNA &  668 &  2052 & 2223 &    0 &    0 &  129 &    0 &    0 &     0 &    0 &    0 &    0 & 0\\\\\n",
       "\\end{tabular}\n"
      ],
      "text/markdown": [
       "\n",
       "A tibble: 6 x 14\n",
       "\n",
       "| basename &lt;chr&gt; | TRBJ1-1 &lt;int&gt; | TRBJ1-2 &lt;int&gt; | TRBJ1-3 &lt;int&gt; | TRBJ1-4 &lt;int&gt; | TRBJ1-5 &lt;int&gt; | TRBJ1-6 &lt;int&gt; | TRBJ2-1 &lt;int&gt; | TRBJ2-2 &lt;int&gt; | TRBJ2-3 &lt;int&gt; | TRBJ2-4 &lt;int&gt; | TRBJ2-5 &lt;int&gt; | TRBJ2-7 &lt;int&gt; | TRBJ2-6 &lt;int&gt; |\n",
       "|---|---|---|---|---|---|---|---|---|---|---|---|---|---|\n",
       "| CHP_323-03_cfDNA | 6391 | 12236 | 6275 | 7173 | 9807 | 2164 | 3113 | 3244 | 17608 | 1452 | 2811 | 9259 | 0 |\n",
       "| CHP_323-05_cfDNA | 1509 |     0 |  534 | 1183 |  558 |    0 |  393 |    0 |   151 |    1 |    0 |  609 | 0 |\n",
       "| CHP_324-04_cfDNA |    0 |     0 |    0 |    7 |    0 |    0 |    0 |    0 |     0 |    0 |    0 |    0 | 0 |\n",
       "| CHP_324-05_cfDNA |    0 |     0 |    0 |  446 | 1266 |    0 |    0 |    0 |     0 |    0 |    0 |    0 | 0 |\n",
       "| CHP_326-05_cfDNA | 3580 |  4438 |    0 |   32 |  112 |    0 | 4270 |  453 |  1369 |    0 |  834 | 3495 | 0 |\n",
       "| CHP_328-05_cfDNA |  668 |  2052 | 2223 |    0 |    0 |  129 |    0 |    0 |     0 |    0 |    0 |    0 | 0 |\n",
       "\n"
      ],
      "text/plain": [
       "  basename         TRBJ1-1 TRBJ1-2 TRBJ1-3 TRBJ1-4 TRBJ1-5 TRBJ1-6 TRBJ2-1\n",
       "1 CHP_323-03_cfDNA 6391    12236   6275    7173    9807    2164    3113   \n",
       "2 CHP_323-05_cfDNA 1509        0    534    1183     558       0     393   \n",
       "3 CHP_324-04_cfDNA    0        0      0       7       0       0       0   \n",
       "4 CHP_324-05_cfDNA    0        0      0     446    1266       0       0   \n",
       "5 CHP_326-05_cfDNA 3580     4438      0      32     112       0    4270   \n",
       "6 CHP_328-05_cfDNA  668     2052   2223       0       0     129       0   \n",
       "  TRBJ2-2 TRBJ2-3 TRBJ2-4 TRBJ2-5 TRBJ2-7 TRBJ2-6\n",
       "1 3244    17608   1452    2811    9259    0      \n",
       "2    0      151      1       0     609    0      \n",
       "3    0        0      0       0       0    0      \n",
       "4    0        0      0       0       0    0      \n",
       "5  453     1369      0     834    3495    0      \n",
       "6    0        0      0       0       0    0      "
      ]
     },
     "metadata": {},
     "output_type": "display_data"
    }
   ],
   "source": [
    "head(int_j_count)"
   ]
  },
  {
   "cell_type": "code",
   "execution_count": 16,
   "metadata": {
    "vscode": {
     "languageId": "r"
    }
   },
   "outputs": [],
   "source": [
    "int_j_count <- as.data.frame(int_j_count)\n",
    "rownames(int_j_count) <- int_j_count$basename\n",
    "int_j_count$basename <- NULL"
   ]
  },
  {
   "cell_type": "code",
   "execution_count": 17,
   "metadata": {
    "vscode": {
     "languageId": "r"
    }
   },
   "outputs": [
    {
     "data": {
      "text/html": [
       "<table class=\"dataframe\">\n",
       "<caption>A data.frame: 6 x 13</caption>\n",
       "<thead>\n",
       "\t<tr><th></th><th scope=col>TRBJ1-1</th><th scope=col>TRBJ1-2</th><th scope=col>TRBJ1-3</th><th scope=col>TRBJ1-4</th><th scope=col>TRBJ1-5</th><th scope=col>TRBJ1-6</th><th scope=col>TRBJ2-1</th><th scope=col>TRBJ2-2</th><th scope=col>TRBJ2-3</th><th scope=col>TRBJ2-4</th><th scope=col>TRBJ2-5</th><th scope=col>TRBJ2-7</th><th scope=col>TRBJ2-6</th></tr>\n",
       "\t<tr><th></th><th scope=col>&lt;int&gt;</th><th scope=col>&lt;int&gt;</th><th scope=col>&lt;int&gt;</th><th scope=col>&lt;int&gt;</th><th scope=col>&lt;int&gt;</th><th scope=col>&lt;int&gt;</th><th scope=col>&lt;int&gt;</th><th scope=col>&lt;int&gt;</th><th scope=col>&lt;int&gt;</th><th scope=col>&lt;int&gt;</th><th scope=col>&lt;int&gt;</th><th scope=col>&lt;int&gt;</th><th scope=col>&lt;int&gt;</th></tr>\n",
       "</thead>\n",
       "<tbody>\n",
       "\t<tr><th scope=row>CHP_323-03_cfDNA</th><td>6391</td><td>12236</td><td>6275</td><td>7173</td><td>9807</td><td>2164</td><td>3113</td><td>3244</td><td>17608</td><td>1452</td><td>2811</td><td>9259</td><td>0</td></tr>\n",
       "\t<tr><th scope=row>CHP_323-05_cfDNA</th><td>1509</td><td>    0</td><td> 534</td><td>1183</td><td> 558</td><td>   0</td><td> 393</td><td>   0</td><td>  151</td><td>   1</td><td>   0</td><td> 609</td><td>0</td></tr>\n",
       "\t<tr><th scope=row>CHP_324-04_cfDNA</th><td>   0</td><td>    0</td><td>   0</td><td>   7</td><td>   0</td><td>   0</td><td>   0</td><td>   0</td><td>    0</td><td>   0</td><td>   0</td><td>   0</td><td>0</td></tr>\n",
       "\t<tr><th scope=row>CHP_324-05_cfDNA</th><td>   0</td><td>    0</td><td>   0</td><td> 446</td><td>1266</td><td>   0</td><td>   0</td><td>   0</td><td>    0</td><td>   0</td><td>   0</td><td>   0</td><td>0</td></tr>\n",
       "\t<tr><th scope=row>CHP_326-05_cfDNA</th><td>3580</td><td> 4438</td><td>   0</td><td>  32</td><td> 112</td><td>   0</td><td>4270</td><td> 453</td><td> 1369</td><td>   0</td><td> 834</td><td>3495</td><td>0</td></tr>\n",
       "\t<tr><th scope=row>CHP_328-05_cfDNA</th><td> 668</td><td> 2052</td><td>2223</td><td>   0</td><td>   0</td><td> 129</td><td>   0</td><td>   0</td><td>    0</td><td>   0</td><td>   0</td><td>   0</td><td>0</td></tr>\n",
       "</tbody>\n",
       "</table>\n"
      ],
      "text/latex": [
       "A data.frame: 6 x 13\n",
       "\\begin{tabular}{r|lllllllllllll}\n",
       "  & TRBJ1-1 & TRBJ1-2 & TRBJ1-3 & TRBJ1-4 & TRBJ1-5 & TRBJ1-6 & TRBJ2-1 & TRBJ2-2 & TRBJ2-3 & TRBJ2-4 & TRBJ2-5 & TRBJ2-7 & TRBJ2-6\\\\\n",
       "  & <int> & <int> & <int> & <int> & <int> & <int> & <int> & <int> & <int> & <int> & <int> & <int> & <int>\\\\\n",
       "\\hline\n",
       "\tCHP\\_323-03\\_cfDNA & 6391 & 12236 & 6275 & 7173 & 9807 & 2164 & 3113 & 3244 & 17608 & 1452 & 2811 & 9259 & 0\\\\\n",
       "\tCHP\\_323-05\\_cfDNA & 1509 &     0 &  534 & 1183 &  558 &    0 &  393 &    0 &   151 &    1 &    0 &  609 & 0\\\\\n",
       "\tCHP\\_324-04\\_cfDNA &    0 &     0 &    0 &    7 &    0 &    0 &    0 &    0 &     0 &    0 &    0 &    0 & 0\\\\\n",
       "\tCHP\\_324-05\\_cfDNA &    0 &     0 &    0 &  446 & 1266 &    0 &    0 &    0 &     0 &    0 &    0 &    0 & 0\\\\\n",
       "\tCHP\\_326-05\\_cfDNA & 3580 &  4438 &    0 &   32 &  112 &    0 & 4270 &  453 &  1369 &    0 &  834 & 3495 & 0\\\\\n",
       "\tCHP\\_328-05\\_cfDNA &  668 &  2052 & 2223 &    0 &    0 &  129 &    0 &    0 &     0 &    0 &    0 &    0 & 0\\\\\n",
       "\\end{tabular}\n"
      ],
      "text/markdown": [
       "\n",
       "A data.frame: 6 x 13\n",
       "\n",
       "| <!--/--> | TRBJ1-1 &lt;int&gt; | TRBJ1-2 &lt;int&gt; | TRBJ1-3 &lt;int&gt; | TRBJ1-4 &lt;int&gt; | TRBJ1-5 &lt;int&gt; | TRBJ1-6 &lt;int&gt; | TRBJ2-1 &lt;int&gt; | TRBJ2-2 &lt;int&gt; | TRBJ2-3 &lt;int&gt; | TRBJ2-4 &lt;int&gt; | TRBJ2-5 &lt;int&gt; | TRBJ2-7 &lt;int&gt; | TRBJ2-6 &lt;int&gt; |\n",
       "|---|---|---|---|---|---|---|---|---|---|---|---|---|---|\n",
       "| CHP_323-03_cfDNA | 6391 | 12236 | 6275 | 7173 | 9807 | 2164 | 3113 | 3244 | 17608 | 1452 | 2811 | 9259 | 0 |\n",
       "| CHP_323-05_cfDNA | 1509 |     0 |  534 | 1183 |  558 |    0 |  393 |    0 |   151 |    1 |    0 |  609 | 0 |\n",
       "| CHP_324-04_cfDNA |    0 |     0 |    0 |    7 |    0 |    0 |    0 |    0 |     0 |    0 |    0 |    0 | 0 |\n",
       "| CHP_324-05_cfDNA |    0 |     0 |    0 |  446 | 1266 |    0 |    0 |    0 |     0 |    0 |    0 |    0 | 0 |\n",
       "| CHP_326-05_cfDNA | 3580 |  4438 |    0 |   32 |  112 |    0 | 4270 |  453 |  1369 |    0 |  834 | 3495 | 0 |\n",
       "| CHP_328-05_cfDNA |  668 |  2052 | 2223 |    0 |    0 |  129 |    0 |    0 |     0 |    0 |    0 |    0 | 0 |\n",
       "\n"
      ],
      "text/plain": [
       "                 TRBJ1-1 TRBJ1-2 TRBJ1-3 TRBJ1-4 TRBJ1-5 TRBJ1-6 TRBJ2-1\n",
       "CHP_323-03_cfDNA 6391    12236   6275    7173    9807    2164    3113   \n",
       "CHP_323-05_cfDNA 1509        0    534    1183     558       0     393   \n",
       "CHP_324-04_cfDNA    0        0      0       7       0       0       0   \n",
       "CHP_324-05_cfDNA    0        0      0     446    1266       0       0   \n",
       "CHP_326-05_cfDNA 3580     4438      0      32     112       0    4270   \n",
       "CHP_328-05_cfDNA  668     2052   2223       0       0     129       0   \n",
       "                 TRBJ2-2 TRBJ2-3 TRBJ2-4 TRBJ2-5 TRBJ2-7 TRBJ2-6\n",
       "CHP_323-03_cfDNA 3244    17608   1452    2811    9259    0      \n",
       "CHP_323-05_cfDNA    0      151      1       0     609    0      \n",
       "CHP_324-04_cfDNA    0        0      0       0       0    0      \n",
       "CHP_324-05_cfDNA    0        0      0       0       0    0      \n",
       "CHP_326-05_cfDNA  453     1369      0     834    3495    0      \n",
       "CHP_328-05_cfDNA    0        0      0       0       0    0      "
      ]
     },
     "metadata": {},
     "output_type": "display_data"
    }
   ],
   "source": [
    "head(int_j_count)"
   ]
  },
  {
   "cell_type": "code",
   "execution_count": 18,
   "metadata": {
    "vscode": {
     "languageId": "r"
    }
   },
   "outputs": [],
   "source": [
    "readr::write_rds(int_j_count, paste0(datapath, \"capTCRseq/int_cfdna_j_count.rds\"))"
   ]
  },
  {
   "cell_type": "code",
   "execution_count": 19,
   "metadata": {
    "vscode": {
     "languageId": "r"
    }
   },
   "outputs": [
    {
     "name": "stderr",
     "output_type": "stream",
     "text": [
      "\u001b[1m\u001b[22m`summarise()` has grouped output by 'basename'. You can override using the\n",
      "`.groups` argument.\n"
     ]
    }
   ],
   "source": [
    "int_j <- int_v_j_cdr3_l %>% group_by(basename, TRBJ) %>% summarize(Jfrac = sum(cloneFraction)) %>% ungroup()"
   ]
  },
  {
   "cell_type": "code",
   "execution_count": 20,
   "metadata": {
    "vscode": {
     "languageId": "r"
    }
   },
   "outputs": [
    {
     "data": {
      "text/html": [
       "<table class=\"dataframe\">\n",
       "<caption>A tibble: 6 x 3</caption>\n",
       "<thead>\n",
       "\t<tr><th scope=col>basename</th><th scope=col>TRBJ</th><th scope=col>Jfrac</th></tr>\n",
       "\t<tr><th scope=col>&lt;chr&gt;</th><th scope=col>&lt;chr&gt;</th><th scope=col>&lt;dbl&gt;</th></tr>\n",
       "</thead>\n",
       "<tbody>\n",
       "\t<tr><td>CHP_323-03_cfDNA</td><td>TRBJ1-1</td><td>0.06242491</td></tr>\n",
       "\t<tr><td>CHP_323-03_cfDNA</td><td>TRBJ1-2</td><td>0.11951670</td></tr>\n",
       "\t<tr><td>CHP_323-03_cfDNA</td><td>TRBJ1-3</td><td>0.06129187</td></tr>\n",
       "\t<tr><td>CHP_323-03_cfDNA</td><td>TRBJ1-4</td><td>0.07006320</td></tr>\n",
       "\t<tr><td>CHP_323-03_cfDNA</td><td>TRBJ1-5</td><td>0.09579113</td></tr>\n",
       "\t<tr><td>CHP_323-03_cfDNA</td><td>TRBJ1-6</td><td>0.02113715</td></tr>\n",
       "</tbody>\n",
       "</table>\n"
      ],
      "text/latex": [
       "A tibble: 6 x 3\n",
       "\\begin{tabular}{lll}\n",
       " basename & TRBJ & Jfrac\\\\\n",
       " <chr> & <chr> & <dbl>\\\\\n",
       "\\hline\n",
       "\t CHP\\_323-03\\_cfDNA & TRBJ1-1 & 0.06242491\\\\\n",
       "\t CHP\\_323-03\\_cfDNA & TRBJ1-2 & 0.11951670\\\\\n",
       "\t CHP\\_323-03\\_cfDNA & TRBJ1-3 & 0.06129187\\\\\n",
       "\t CHP\\_323-03\\_cfDNA & TRBJ1-4 & 0.07006320\\\\\n",
       "\t CHP\\_323-03\\_cfDNA & TRBJ1-5 & 0.09579113\\\\\n",
       "\t CHP\\_323-03\\_cfDNA & TRBJ1-6 & 0.02113715\\\\\n",
       "\\end{tabular}\n"
      ],
      "text/markdown": [
       "\n",
       "A tibble: 6 x 3\n",
       "\n",
       "| basename &lt;chr&gt; | TRBJ &lt;chr&gt; | Jfrac &lt;dbl&gt; |\n",
       "|---|---|---|\n",
       "| CHP_323-03_cfDNA | TRBJ1-1 | 0.06242491 |\n",
       "| CHP_323-03_cfDNA | TRBJ1-2 | 0.11951670 |\n",
       "| CHP_323-03_cfDNA | TRBJ1-3 | 0.06129187 |\n",
       "| CHP_323-03_cfDNA | TRBJ1-4 | 0.07006320 |\n",
       "| CHP_323-03_cfDNA | TRBJ1-5 | 0.09579113 |\n",
       "| CHP_323-03_cfDNA | TRBJ1-6 | 0.02113715 |\n",
       "\n"
      ],
      "text/plain": [
       "  basename         TRBJ    Jfrac     \n",
       "1 CHP_323-03_cfDNA TRBJ1-1 0.06242491\n",
       "2 CHP_323-03_cfDNA TRBJ1-2 0.11951670\n",
       "3 CHP_323-03_cfDNA TRBJ1-3 0.06129187\n",
       "4 CHP_323-03_cfDNA TRBJ1-4 0.07006320\n",
       "5 CHP_323-03_cfDNA TRBJ1-5 0.09579113\n",
       "6 CHP_323-03_cfDNA TRBJ1-6 0.02113715"
      ]
     },
     "metadata": {},
     "output_type": "display_data"
    }
   ],
   "source": [
    "head(int_j)"
   ]
  },
  {
   "cell_type": "code",
   "execution_count": 21,
   "metadata": {
    "vscode": {
     "languageId": "r"
    }
   },
   "outputs": [],
   "source": [
    "int_j_fraction <- tidyr::pivot_wider(int_j, names_from = \"TRBJ\", values_from = \"Jfrac\", values_fill = 0)"
   ]
  },
  {
   "cell_type": "code",
   "execution_count": 22,
   "metadata": {
    "vscode": {
     "languageId": "r"
    }
   },
   "outputs": [],
   "source": [
    "int_j_fraction <- as.data.frame(int_j_fraction)\n",
    "rownames(int_j_fraction) <- int_j_fraction$basename\n",
    "int_j_fraction$basename <- NULL"
   ]
  },
  {
   "cell_type": "code",
   "execution_count": 23,
   "metadata": {
    "vscode": {
     "languageId": "r"
    }
   },
   "outputs": [],
   "source": [
    "readr::write_rds(int_j_fraction, paste0(datapath, \"capTCRseq/int_cfdna_j_fraction.rds\"))"
   ]
  },
  {
   "cell_type": "code",
   "execution_count": null,
   "metadata": {
    "vscode": {
     "languageId": "r"
    }
   },
   "outputs": [],
   "source": []
  },
  {
   "cell_type": "code",
   "execution_count": 11,
   "metadata": {
    "vscode": {
     "languageId": "r"
    }
   },
   "outputs": [],
   "source": [
    "# should be done for all files\n",
    "jfreq <- int_v_j_cdr3_l %>% group_by(TRBJ) %>% tally() %>% arrange(desc(n)) %>% mutate(freq = n/sum(n))"
   ]
  },
  {
   "cell_type": "code",
   "execution_count": 12,
   "metadata": {
    "vscode": {
     "languageId": "r"
    }
   },
   "outputs": [
    {
     "data": {
      "text/html": [
       "<table class=\"dataframe\">\n",
       "<caption>A tibble: 13 x 3</caption>\n",
       "<thead>\n",
       "\t<tr><th scope=col>TRBJ</th><th scope=col>n</th><th scope=col>freq</th></tr>\n",
       "\t<tr><th scope=col>&lt;chr&gt;</th><th scope=col>&lt;int&gt;</th><th scope=col>&lt;dbl&gt;</th></tr>\n",
       "</thead>\n",
       "<tbody>\n",
       "\t<tr><td>TRBJ1-1</td><td>634</td><td>0.17006438</td></tr>\n",
       "\t<tr><td>TRBJ2-7</td><td>519</td><td>0.13921674</td></tr>\n",
       "\t<tr><td>TRBJ1-2</td><td>458</td><td>0.12285408</td></tr>\n",
       "\t<tr><td>TRBJ2-1</td><td>436</td><td>0.11695279</td></tr>\n",
       "\t<tr><td>TRBJ2-3</td><td>356</td><td>0.09549356</td></tr>\n",
       "\t<tr><td>TRBJ1-5</td><td>278</td><td>0.07457082</td></tr>\n",
       "\t<tr><td>TRBJ1-4</td><td>212</td><td>0.05686695</td></tr>\n",
       "\t<tr><td>TRBJ2-2</td><td>203</td><td>0.05445279</td></tr>\n",
       "\t<tr><td>TRBJ2-5</td><td>180</td><td>0.04828326</td></tr>\n",
       "\t<tr><td>TRBJ1-6</td><td>172</td><td>0.04613734</td></tr>\n",
       "\t<tr><td>TRBJ1-3</td><td>171</td><td>0.04586910</td></tr>\n",
       "\t<tr><td>TRBJ2-4</td><td> 64</td><td>0.01716738</td></tr>\n",
       "\t<tr><td>TRBJ2-6</td><td> 45</td><td>0.01207082</td></tr>\n",
       "</tbody>\n",
       "</table>\n"
      ],
      "text/latex": [
       "A tibble: 13 x 3\n",
       "\\begin{tabular}{lll}\n",
       " TRBJ & n & freq\\\\\n",
       " <chr> & <int> & <dbl>\\\\\n",
       "\\hline\n",
       "\t TRBJ1-1 & 634 & 0.17006438\\\\\n",
       "\t TRBJ2-7 & 519 & 0.13921674\\\\\n",
       "\t TRBJ1-2 & 458 & 0.12285408\\\\\n",
       "\t TRBJ2-1 & 436 & 0.11695279\\\\\n",
       "\t TRBJ2-3 & 356 & 0.09549356\\\\\n",
       "\t TRBJ1-5 & 278 & 0.07457082\\\\\n",
       "\t TRBJ1-4 & 212 & 0.05686695\\\\\n",
       "\t TRBJ2-2 & 203 & 0.05445279\\\\\n",
       "\t TRBJ2-5 & 180 & 0.04828326\\\\\n",
       "\t TRBJ1-6 & 172 & 0.04613734\\\\\n",
       "\t TRBJ1-3 & 171 & 0.04586910\\\\\n",
       "\t TRBJ2-4 &  64 & 0.01716738\\\\\n",
       "\t TRBJ2-6 &  45 & 0.01207082\\\\\n",
       "\\end{tabular}\n"
      ],
      "text/markdown": [
       "\n",
       "A tibble: 13 x 3\n",
       "\n",
       "| TRBJ &lt;chr&gt; | n &lt;int&gt; | freq &lt;dbl&gt; |\n",
       "|---|---|---|\n",
       "| TRBJ1-1 | 634 | 0.17006438 |\n",
       "| TRBJ2-7 | 519 | 0.13921674 |\n",
       "| TRBJ1-2 | 458 | 0.12285408 |\n",
       "| TRBJ2-1 | 436 | 0.11695279 |\n",
       "| TRBJ2-3 | 356 | 0.09549356 |\n",
       "| TRBJ1-5 | 278 | 0.07457082 |\n",
       "| TRBJ1-4 | 212 | 0.05686695 |\n",
       "| TRBJ2-2 | 203 | 0.05445279 |\n",
       "| TRBJ2-5 | 180 | 0.04828326 |\n",
       "| TRBJ1-6 | 172 | 0.04613734 |\n",
       "| TRBJ1-3 | 171 | 0.04586910 |\n",
       "| TRBJ2-4 |  64 | 0.01716738 |\n",
       "| TRBJ2-6 |  45 | 0.01207082 |\n",
       "\n"
      ],
      "text/plain": [
       "   TRBJ    n   freq      \n",
       "1  TRBJ1-1 634 0.17006438\n",
       "2  TRBJ2-7 519 0.13921674\n",
       "3  TRBJ1-2 458 0.12285408\n",
       "4  TRBJ2-1 436 0.11695279\n",
       "5  TRBJ2-3 356 0.09549356\n",
       "6  TRBJ1-5 278 0.07457082\n",
       "7  TRBJ1-4 212 0.05686695\n",
       "8  TRBJ2-2 203 0.05445279\n",
       "9  TRBJ2-5 180 0.04828326\n",
       "10 TRBJ1-6 172 0.04613734\n",
       "11 TRBJ1-3 171 0.04586910\n",
       "12 TRBJ2-4  64 0.01716738\n",
       "13 TRBJ2-6  45 0.01207082"
      ]
     },
     "metadata": {},
     "output_type": "display_data"
    }
   ],
   "source": [
    "jfreq"
   ]
  },
  {
   "cell_type": "code",
   "execution_count": 13,
   "metadata": {
    "vscode": {
     "languageId": "r"
    }
   },
   "outputs": [],
   "source": [
    "readr::write_rds(jfreq, paste0(datapath, \"capTCRseq/jfreq_int_cfdna.rds\"))"
   ]
  },
  {
   "cell_type": "code",
   "execution_count": 14,
   "metadata": {
    "vscode": {
     "languageId": "r"
    }
   },
   "outputs": [
    {
     "data": {
      "text/plain": [
       "   Min. 1st Qu.  Median    Mean 3rd Qu.    Max. \n",
       "0.01207 0.04614 0.05687 0.07692 0.11695 0.17006 "
      ]
     },
     "metadata": {},
     "output_type": "display_data"
    }
   ],
   "source": [
    "summary(jfreq$freq)"
   ]
  },
  {
   "cell_type": "code",
   "execution_count": 15,
   "metadata": {
    "vscode": {
     "languageId": "r"
    }
   },
   "outputs": [
    {
     "data": {
      "image/png": "[encoded data removed]",
      "text/plain": [
       "Plot with title \"Histogram of jfreq$freq\""
      ]
     },
     "metadata": {
      "image/png": {
       "height": 420,
       "width": 420
      }
     },
     "output_type": "display_data"
    }
   ],
   "source": [
    "hist(jfreq$freq, breaks = 100)"
   ]
  },
  {
   "cell_type": "code",
   "execution_count": 16,
   "metadata": {
    "vscode": {
     "languageId": "r"
    }
   },
   "outputs": [],
   "source": [
    "jgene_mat <- as.data.frame.matrix(table(int_v_j_cdr3_l %>% select(basename, TRBJ  )))"
   ]
  },
  {
   "cell_type": "code",
   "execution_count": 17,
   "metadata": {
    "vscode": {
     "languageId": "r"
    }
   },
   "outputs": [
    {
     "data": {
      "text/html": [
       "<table class=\"dataframe\">\n",
       "<caption>A data.frame: 6 x 13</caption>\n",
       "<thead>\n",
       "\t<tr><th></th><th scope=col>TRBJ1-1</th><th scope=col>TRBJ1-2</th><th scope=col>TRBJ1-3</th><th scope=col>TRBJ1-4</th><th scope=col>TRBJ1-5</th><th scope=col>TRBJ1-6</th><th scope=col>TRBJ2-1</th><th scope=col>TRBJ2-2</th><th scope=col>TRBJ2-3</th><th scope=col>TRBJ2-4</th><th scope=col>TRBJ2-5</th><th scope=col>TRBJ2-6</th><th scope=col>TRBJ2-7</th></tr>\n",
       "\t<tr><th></th><th scope=col>&lt;int&gt;</th><th scope=col>&lt;int&gt;</th><th scope=col>&lt;int&gt;</th><th scope=col>&lt;int&gt;</th><th scope=col>&lt;int&gt;</th><th scope=col>&lt;int&gt;</th><th scope=col>&lt;int&gt;</th><th scope=col>&lt;int&gt;</th><th scope=col>&lt;int&gt;</th><th scope=col>&lt;int&gt;</th><th scope=col>&lt;int&gt;</th><th scope=col>&lt;int&gt;</th><th scope=col>&lt;int&gt;</th></tr>\n",
       "</thead>\n",
       "<tbody>\n",
       "\t<tr><th scope=row>CHP_323-03_cfDNA</th><td>9</td><td>10</td><td>5</td><td>8</td><td>10</td><td>7</td><td>8</td><td>5</td><td>13</td><td>1</td><td>7</td><td>0</td><td>15</td></tr>\n",
       "\t<tr><th scope=row>CHP_323-05_cfDNA</th><td>2</td><td> 0</td><td>2</td><td>3</td><td> 1</td><td>0</td><td>1</td><td>0</td><td> 1</td><td>1</td><td>0</td><td>0</td><td> 4</td></tr>\n",
       "\t<tr><th scope=row>CHP_324-04_cfDNA</th><td>0</td><td> 0</td><td>0</td><td>1</td><td> 0</td><td>0</td><td>0</td><td>0</td><td> 0</td><td>0</td><td>0</td><td>0</td><td> 0</td></tr>\n",
       "\t<tr><th scope=row>CHP_324-05_cfDNA</th><td>0</td><td> 0</td><td>0</td><td>1</td><td> 1</td><td>0</td><td>0</td><td>0</td><td> 0</td><td>0</td><td>0</td><td>0</td><td> 0</td></tr>\n",
       "\t<tr><th scope=row>CHP_326-05_cfDNA</th><td>4</td><td> 5</td><td>0</td><td>1</td><td> 1</td><td>0</td><td>6</td><td>1</td><td> 2</td><td>0</td><td>1</td><td>0</td><td> 3</td></tr>\n",
       "\t<tr><th scope=row>CHP_328-05_cfDNA</th><td>2</td><td> 1</td><td>1</td><td>0</td><td> 0</td><td>1</td><td>0</td><td>0</td><td> 0</td><td>0</td><td>0</td><td>0</td><td> 0</td></tr>\n",
       "</tbody>\n",
       "</table>\n"
      ],
      "text/latex": [
       "A data.frame: 6 x 13\n",
       "\\begin{tabular}{r|lllllllllllll}\n",
       "  & TRBJ1-1 & TRBJ1-2 & TRBJ1-3 & TRBJ1-4 & TRBJ1-5 & TRBJ1-6 & TRBJ2-1 & TRBJ2-2 & TRBJ2-3 & TRBJ2-4 & TRBJ2-5 & TRBJ2-6 & TRBJ2-7\\\\\n",
       "  & <int> & <int> & <int> & <int> & <int> & <int> & <int> & <int> & <int> & <int> & <int> & <int> & <int>\\\\\n",
       "\\hline\n",
       "\tCHP\\_323-03\\_cfDNA & 9 & 10 & 5 & 8 & 10 & 7 & 8 & 5 & 13 & 1 & 7 & 0 & 15\\\\\n",
       "\tCHP\\_323-05\\_cfDNA & 2 &  0 & 2 & 3 &  1 & 0 & 1 & 0 &  1 & 1 & 0 & 0 &  4\\\\\n",
       "\tCHP\\_324-04\\_cfDNA & 0 &  0 & 0 & 1 &  0 & 0 & 0 & 0 &  0 & 0 & 0 & 0 &  0\\\\\n",
       "\tCHP\\_324-05\\_cfDNA & 0 &  0 & 0 & 1 &  1 & 0 & 0 & 0 &  0 & 0 & 0 & 0 &  0\\\\\n",
       "\tCHP\\_326-05\\_cfDNA & 4 &  5 & 0 & 1 &  1 & 0 & 6 & 1 &  2 & 0 & 1 & 0 &  3\\\\\n",
       "\tCHP\\_328-05\\_cfDNA & 2 &  1 & 1 & 0 &  0 & 1 & 0 & 0 &  0 & 0 & 0 & 0 &  0\\\\\n",
       "\\end{tabular}\n"
      ],
      "text/markdown": [
       "\n",
       "A data.frame: 6 x 13\n",
       "\n",
       "| <!--/--> | TRBJ1-1 &lt;int&gt; | TRBJ1-2 &lt;int&gt; | TRBJ1-3 &lt;int&gt; | TRBJ1-4 &lt;int&gt; | TRBJ1-5 &lt;int&gt; | TRBJ1-6 &lt;int&gt; | TRBJ2-1 &lt;int&gt; | TRBJ2-2 &lt;int&gt; | TRBJ2-3 &lt;int&gt; | TRBJ2-4 &lt;int&gt; | TRBJ2-5 &lt;int&gt; | TRBJ2-6 &lt;int&gt; | TRBJ2-7 &lt;int&gt; |\n",
       "|---|---|---|---|---|---|---|---|---|---|---|---|---|---|\n",
       "| CHP_323-03_cfDNA | 9 | 10 | 5 | 8 | 10 | 7 | 8 | 5 | 13 | 1 | 7 | 0 | 15 |\n",
       "| CHP_323-05_cfDNA | 2 |  0 | 2 | 3 |  1 | 0 | 1 | 0 |  1 | 1 | 0 | 0 |  4 |\n",
       "| CHP_324-04_cfDNA | 0 |  0 | 0 | 1 |  0 | 0 | 0 | 0 |  0 | 0 | 0 | 0 |  0 |\n",
       "| CHP_324-05_cfDNA | 0 |  0 | 0 | 1 |  1 | 0 | 0 | 0 |  0 | 0 | 0 | 0 |  0 |\n",
       "| CHP_326-05_cfDNA | 4 |  5 | 0 | 1 |  1 | 0 | 6 | 1 |  2 | 0 | 1 | 0 |  3 |\n",
       "| CHP_328-05_cfDNA | 2 |  1 | 1 | 0 |  0 | 1 | 0 | 0 |  0 | 0 | 0 | 0 |  0 |\n",
       "\n"
      ],
      "text/plain": [
       "                 TRBJ1-1 TRBJ1-2 TRBJ1-3 TRBJ1-4 TRBJ1-5 TRBJ1-6 TRBJ2-1\n",
       "CHP_323-03_cfDNA 9       10      5       8       10      7       8      \n",
       "CHP_323-05_cfDNA 2        0      2       3        1      0       1      \n",
       "CHP_324-04_cfDNA 0        0      0       1        0      0       0      \n",
       "CHP_324-05_cfDNA 0        0      0       1        1      0       0      \n",
       "CHP_326-05_cfDNA 4        5      0       1        1      0       6      \n",
       "CHP_328-05_cfDNA 2        1      1       0        0      1       0      \n",
       "                 TRBJ2-2 TRBJ2-3 TRBJ2-4 TRBJ2-5 TRBJ2-6 TRBJ2-7\n",
       "CHP_323-03_cfDNA 5       13      1       7       0       15     \n",
       "CHP_323-05_cfDNA 0        1      1       0       0        4     \n",
       "CHP_324-04_cfDNA 0        0      0       0       0        0     \n",
       "CHP_324-05_cfDNA 0        0      0       0       0        0     \n",
       "CHP_326-05_cfDNA 1        2      0       1       0        3     \n",
       "CHP_328-05_cfDNA 0        0      0       0       0        0     "
      ]
     },
     "metadata": {},
     "output_type": "display_data"
    }
   ],
   "source": [
    "head(jgene_mat)"
   ]
  },
  {
   "cell_type": "code",
   "execution_count": 18,
   "metadata": {
    "vscode": {
     "languageId": "r"
    }
   },
   "outputs": [],
   "source": [
    "readr::write_rds(jgene_mat, paste0(datapath, \"capTCRseq/int_cfdna_jgene_matrix.rds\"))"
   ]
  },
  {
   "cell_type": "code",
   "execution_count": 19,
   "metadata": {
    "vscode": {
     "languageId": "r"
    }
   },
   "outputs": [
    {
     "data": {
      "text/html": [
       "<style>\n",
       ".list-inline {list-style: none; margin:0; padding: 0}\n",
       ".list-inline>li {display: inline-block}\n",
       ".list-inline>li:not(:last-child)::after {content: \"\\00b7\"; padding: 0 .5ex}\n",
       "</style>\n",
       "<ol class=list-inline><li>266</li><li>13</li></ol>\n"
      ],
      "text/latex": [
       "\\begin{enumerate*}\n",
       "\\item 266\n",
       "\\item 13\n",
       "\\end{enumerate*}\n"
      ],
      "text/markdown": [
       "1. 266\n",
       "2. 13\n",
       "\n",
       "\n"
      ],
      "text/plain": [
       "[1] 266  13"
      ]
     },
     "metadata": {},
     "output_type": "display_data"
    }
   ],
   "source": [
    "dim(jgene_mat)"
   ]
  },
  {
   "cell_type": "code",
   "execution_count": 20,
   "metadata": {
    "vscode": {
     "languageId": "r"
    }
   },
   "outputs": [],
   "source": [
    "cormat <- cor(jgene_mat)"
   ]
  },
  {
   "cell_type": "code",
   "execution_count": 21,
   "metadata": {
    "vscode": {
     "languageId": "r"
    }
   },
   "outputs": [],
   "source": [
    "#vgene_mat_hf[,c(\"TRBV10-3\", \"TRBV7-9\", \"TRBV13\")]"
   ]
  },
  {
   "cell_type": "code",
   "execution_count": 22,
   "metadata": {
    "vscode": {
     "languageId": "r"
    }
   },
   "outputs": [
    {
     "data": {
      "text/plain": [
       "   Min. 1st Qu.  Median    Mean 3rd Qu.    Max. \n",
       " 0.0784  0.4988  0.6197  0.6006  0.7284  1.0000 "
      ]
     },
     "metadata": {},
     "output_type": "display_data"
    }
   ],
   "source": [
    "summary(as.vector(cormat) )\n",
    "\n",
    "# generally high correlation"
   ]
  },
  {
   "cell_type": "markdown",
   "metadata": {},
   "source": [
    "PCA"
   ]
  },
  {
   "cell_type": "code",
   "execution_count": 23,
   "metadata": {
    "vscode": {
     "languageId": "r"
    }
   },
   "outputs": [
    {
     "data": {
      "text/html": [
       "<table class=\"dataframe\">\n",
       "<caption>A data.frame: 266 x 13</caption>\n",
       "<thead>\n",
       "\t<tr><th></th><th scope=col>TRBJ1-1</th><th scope=col>TRBJ1-2</th><th scope=col>TRBJ1-3</th><th scope=col>TRBJ1-4</th><th scope=col>TRBJ1-5</th><th scope=col>TRBJ1-6</th><th scope=col>TRBJ2-1</th><th scope=col>TRBJ2-2</th><th scope=col>TRBJ2-3</th><th scope=col>TRBJ2-4</th><th scope=col>TRBJ2-5</th><th scope=col>TRBJ2-6</th><th scope=col>TRBJ2-7</th></tr>\n",
       "\t<tr><th></th><th scope=col>&lt;int&gt;</th><th scope=col>&lt;int&gt;</th><th scope=col>&lt;int&gt;</th><th scope=col>&lt;int&gt;</th><th scope=col>&lt;int&gt;</th><th scope=col>&lt;int&gt;</th><th scope=col>&lt;int&gt;</th><th scope=col>&lt;int&gt;</th><th scope=col>&lt;int&gt;</th><th scope=col>&lt;int&gt;</th><th scope=col>&lt;int&gt;</th><th scope=col>&lt;int&gt;</th><th scope=col>&lt;int&gt;</th></tr>\n",
       "</thead>\n",
       "<tbody>\n",
       "\t<tr><th scope=row>CHP_323-03_cfDNA</th><td> 9</td><td>10</td><td>5</td><td>8</td><td>10</td><td>7</td><td> 8</td><td>5</td><td>13</td><td>1</td><td>7</td><td>0</td><td>15</td></tr>\n",
       "\t<tr><th scope=row>CHP_323-05_cfDNA</th><td> 2</td><td> 0</td><td>2</td><td>3</td><td> 1</td><td>0</td><td> 1</td><td>0</td><td> 1</td><td>1</td><td>0</td><td>0</td><td> 4</td></tr>\n",
       "\t<tr><th scope=row>CHP_324-04_cfDNA</th><td> 0</td><td> 0</td><td>0</td><td>1</td><td> 0</td><td>0</td><td> 0</td><td>0</td><td> 0</td><td>0</td><td>0</td><td>0</td><td> 0</td></tr>\n",
       "\t<tr><th scope=row>CHP_324-05_cfDNA</th><td> 0</td><td> 0</td><td>0</td><td>1</td><td> 1</td><td>0</td><td> 0</td><td>0</td><td> 0</td><td>0</td><td>0</td><td>0</td><td> 0</td></tr>\n",
       "\t<tr><th scope=row>CHP_326-05_cfDNA</th><td> 4</td><td> 5</td><td>0</td><td>1</td><td> 1</td><td>0</td><td> 6</td><td>1</td><td> 2</td><td>0</td><td>1</td><td>0</td><td> 3</td></tr>\n",
       "\t<tr><th scope=row>CHP_328-05_cfDNA</th><td> 2</td><td> 1</td><td>1</td><td>0</td><td> 0</td><td>1</td><td> 0</td><td>0</td><td> 0</td><td>0</td><td>0</td><td>0</td><td> 0</td></tr>\n",
       "\t<tr><th scope=row>CHP_329-04_cfDNA</th><td> 1</td><td> 1</td><td>0</td><td>0</td><td> 0</td><td>0</td><td> 0</td><td>0</td><td> 0</td><td>0</td><td>0</td><td>0</td><td> 0</td></tr>\n",
       "\t<tr><th scope=row>CHP_330-04_cfDNA</th><td> 2</td><td> 0</td><td>0</td><td>1</td><td> 0</td><td>0</td><td> 0</td><td>0</td><td> 0</td><td>0</td><td>0</td><td>0</td><td> 1</td></tr>\n",
       "\t<tr><th scope=row>CHP_331-05_cfDNA</th><td> 8</td><td> 3</td><td>1</td><td>4</td><td> 7</td><td>0</td><td> 4</td><td>1</td><td> 3</td><td>0</td><td>2</td><td>1</td><td> 2</td></tr>\n",
       "\t<tr><th scope=row>CHP_333-05_cfDNA</th><td> 0</td><td> 1</td><td>0</td><td>0</td><td> 0</td><td>0</td><td> 1</td><td>0</td><td> 0</td><td>0</td><td>0</td><td>0</td><td> 0</td></tr>\n",
       "\t<tr><th scope=row>CHP_334-02_cfDNA</th><td> 0</td><td> 0</td><td>0</td><td>0</td><td> 0</td><td>1</td><td> 1</td><td>0</td><td> 0</td><td>0</td><td>0</td><td>0</td><td> 1</td></tr>\n",
       "\t<tr><th scope=row>CHP_334-03_cfDNA</th><td> 5</td><td> 2</td><td>1</td><td>2</td><td> 3</td><td>0</td><td> 2</td><td>0</td><td> 1</td><td>2</td><td>3</td><td>0</td><td> 6</td></tr>\n",
       "\t<tr><th scope=row>CHP_334-04_cfDNA</th><td> 2</td><td> 4</td><td>0</td><td>0</td><td> 0</td><td>0</td><td> 1</td><td>0</td><td> 4</td><td>0</td><td>1</td><td>0</td><td> 4</td></tr>\n",
       "\t<tr><th scope=row>CHP_335-04_cfDNA</th><td> 2</td><td>11</td><td>1</td><td>2</td><td> 3</td><td>1</td><td> 8</td><td>6</td><td> 6</td><td>0</td><td>2</td><td>0</td><td>12</td></tr>\n",
       "\t<tr><th scope=row>CHP_335-05_cfDNA</th><td> 3</td><td> 0</td><td>2</td><td>3</td><td> 4</td><td>3</td><td> 4</td><td>2</td><td> 0</td><td>1</td><td>3</td><td>1</td><td> 3</td></tr>\n",
       "\t<tr><th scope=row>CHP_336-03_cfDNA</th><td> 1</td><td> 0</td><td>0</td><td>0</td><td> 1</td><td>0</td><td> 0</td><td>1</td><td> 1</td><td>1</td><td>0</td><td>0</td><td> 0</td></tr>\n",
       "\t<tr><th scope=row>CHP_336-04_cfDNA</th><td> 0</td><td> 2</td><td>0</td><td>0</td><td> 0</td><td>0</td><td> 1</td><td>0</td><td> 1</td><td>0</td><td>0</td><td>0</td><td> 2</td></tr>\n",
       "\t<tr><th scope=row>CHP_336-05_cfDNA</th><td> 5</td><td> 3</td><td>0</td><td>0</td><td> 0</td><td>1</td><td> 2</td><td>1</td><td> 0</td><td>0</td><td>0</td><td>0</td><td> 0</td></tr>\n",
       "\t<tr><th scope=row>CHP_337-03_cfDNA</th><td> 3</td><td> 1</td><td>0</td><td>0</td><td> 1</td><td>0</td><td> 1</td><td>0</td><td> 0</td><td>0</td><td>0</td><td>0</td><td> 1</td></tr>\n",
       "\t<tr><th scope=row>CHP_337-04_cfDNA</th><td> 2</td><td> 1</td><td>0</td><td>0</td><td> 1</td><td>1</td><td> 2</td><td>0</td><td> 0</td><td>0</td><td>0</td><td>1</td><td> 3</td></tr>\n",
       "\t<tr><th scope=row>CHP_337-05_cfDNA</th><td> 3</td><td> 2</td><td>0</td><td>0</td><td> 2</td><td>0</td><td> 1</td><td>1</td><td> 0</td><td>0</td><td>1</td><td>0</td><td> 0</td></tr>\n",
       "\t<tr><th scope=row>CHP_338-03_cfDNA</th><td> 0</td><td> 0</td><td>0</td><td>2</td><td> 0</td><td>0</td><td> 0</td><td>0</td><td> 1</td><td>0</td><td>0</td><td>0</td><td> 0</td></tr>\n",
       "\t<tr><th scope=row>CHP_338-05-cfDNA</th><td> 1</td><td> 0</td><td>0</td><td>1</td><td> 1</td><td>0</td><td> 3</td><td>0</td><td> 1</td><td>0</td><td>0</td><td>0</td><td> 0</td></tr>\n",
       "\t<tr><th scope=row>CHP_339-03_cfDNA</th><td> 1</td><td> 0</td><td>0</td><td>0</td><td> 1</td><td>0</td><td> 1</td><td>0</td><td> 0</td><td>0</td><td>2</td><td>0</td><td> 1</td></tr>\n",
       "\t<tr><th scope=row>CHP_339-04_cfDNA</th><td>15</td><td>14</td><td>1</td><td>6</td><td> 6</td><td>9</td><td>14</td><td>2</td><td> 8</td><td>0</td><td>2</td><td>0</td><td>10</td></tr>\n",
       "\t<tr><th scope=row>CHP_340-02-cfDNA</th><td> 0</td><td> 4</td><td>0</td><td>3</td><td> 2</td><td>0</td><td> 0</td><td>0</td><td> 2</td><td>0</td><td>0</td><td>0</td><td> 1</td></tr>\n",
       "\t<tr><th scope=row>CHP_340-03_cfDNA</th><td> 1</td><td> 0</td><td>0</td><td>0</td><td> 0</td><td>0</td><td> 1</td><td>0</td><td> 0</td><td>0</td><td>0</td><td>0</td><td> 3</td></tr>\n",
       "\t<tr><th scope=row>CHP_340-04_cfDNA</th><td> 1</td><td> 5</td><td>0</td><td>0</td><td> 2</td><td>1</td><td> 0</td><td>4</td><td> 5</td><td>0</td><td>0</td><td>0</td><td> 6</td></tr>\n",
       "\t<tr><th scope=row>CHP_341-02_cfDNA</th><td> 7</td><td> 1</td><td>1</td><td>1</td><td> 2</td><td>1</td><td> 9</td><td>0</td><td> 2</td><td>1</td><td>2</td><td>0</td><td> 7</td></tr>\n",
       "\t<tr><th scope=row>CHP_342-02-cfDNA</th><td> 2</td><td> 2</td><td>0</td><td>1</td><td> 0</td><td>0</td><td> 4</td><td>2</td><td> 0</td><td>1</td><td>0</td><td>0</td><td> 5</td></tr>\n",
       "\t<tr><th scope=row>...</th><td>...</td><td>...</td><td>...</td><td>...</td><td>...</td><td>...</td><td>...</td><td>...</td><td>...</td><td>...</td><td>...</td><td>...</td><td>...</td></tr>\n",
       "\t<tr><th scope=row>CHP_408-03_cfDNA</th><td> 0</td><td>2</td><td>3</td><td>0</td><td>2</td><td>4</td><td>2</td><td>0</td><td> 1</td><td>0</td><td>2</td><td>1</td><td>5</td></tr>\n",
       "\t<tr><th scope=row>CHP_409-02_cfDNA</th><td> 0</td><td>0</td><td>0</td><td>0</td><td>0</td><td>0</td><td>2</td><td>1</td><td> 0</td><td>0</td><td>0</td><td>0</td><td>0</td></tr>\n",
       "\t<tr><th scope=row>CHP_409-03_cfDNA</th><td> 1</td><td>2</td><td>1</td><td>0</td><td>0</td><td>1</td><td>0</td><td>0</td><td> 0</td><td>0</td><td>0</td><td>0</td><td>0</td></tr>\n",
       "\t<tr><th scope=row>CHP_409-05_cfDNA</th><td> 0</td><td>0</td><td>0</td><td>0</td><td>1</td><td>0</td><td>0</td><td>0</td><td> 0</td><td>0</td><td>0</td><td>0</td><td>0</td></tr>\n",
       "\t<tr><th scope=row>CHP_410-01_cfDNA</th><td> 2</td><td>0</td><td>0</td><td>1</td><td>0</td><td>2</td><td>1</td><td>0</td><td> 4</td><td>9</td><td>7</td><td>0</td><td>5</td></tr>\n",
       "\t<tr><th scope=row>CHP_410-02_cfDNA</th><td> 0</td><td>3</td><td>0</td><td>1</td><td>1</td><td>1</td><td>2</td><td>0</td><td> 2</td><td>0</td><td>0</td><td>0</td><td>1</td></tr>\n",
       "\t<tr><th scope=row>CHP_410-03_cfDNA</th><td> 1</td><td>1</td><td>0</td><td>1</td><td>1</td><td>2</td><td>1</td><td>0</td><td> 2</td><td>0</td><td>0</td><td>0</td><td>0</td></tr>\n",
       "\t<tr><th scope=row>CHP_411-01_cfDNA</th><td>20</td><td>2</td><td>0</td><td>1</td><td>3</td><td>2</td><td>9</td><td>3</td><td> 3</td><td>0</td><td>3</td><td>0</td><td>6</td></tr>\n",
       "\t<tr><th scope=row>CHP_411-02_cfDNA</th><td> 5</td><td>7</td><td>2</td><td>3</td><td>6</td><td>2</td><td>8</td><td>4</td><td>10</td><td>2</td><td>1</td><td>1</td><td>9</td></tr>\n",
       "\t<tr><th scope=row>CHP_412-01_cfDNA</th><td> 2</td><td>0</td><td>1</td><td>0</td><td>1</td><td>1</td><td>2</td><td>0</td><td> 0</td><td>0</td><td>0</td><td>0</td><td>0</td></tr>\n",
       "\t<tr><th scope=row>CHP_412-02_cfDNA</th><td> 1</td><td>0</td><td>0</td><td>0</td><td>1</td><td>0</td><td>0</td><td>0</td><td> 0</td><td>0</td><td>0</td><td>0</td><td>0</td></tr>\n",
       "\t<tr><th scope=row>CHP_412-03_cfDNA</th><td> 0</td><td>1</td><td>0</td><td>0</td><td>0</td><td>0</td><td>1</td><td>0</td><td> 0</td><td>0</td><td>0</td><td>0</td><td>0</td></tr>\n",
       "\t<tr><th scope=row>CHP_413-01_cfDNA</th><td> 0</td><td>1</td><td>0</td><td>0</td><td>1</td><td>0</td><td>0</td><td>0</td><td> 1</td><td>0</td><td>0</td><td>0</td><td>2</td></tr>\n",
       "\t<tr><th scope=row>CHP_413-02_cfDNA</th><td> 0</td><td>0</td><td>0</td><td>0</td><td>0</td><td>2</td><td>1</td><td>1</td><td> 0</td><td>1</td><td>0</td><td>0</td><td>1</td></tr>\n",
       "\t<tr><th scope=row>CHP_414-01_cfDNA</th><td> 1</td><td>3</td><td>2</td><td>0</td><td>1</td><td>1</td><td>1</td><td>1</td><td> 1</td><td>0</td><td>0</td><td>0</td><td>2</td></tr>\n",
       "\t<tr><th scope=row>CHP_414-02_cfDNA</th><td> 0</td><td>3</td><td>0</td><td>0</td><td>0</td><td>1</td><td>0</td><td>0</td><td> 0</td><td>0</td><td>0</td><td>0</td><td>1</td></tr>\n",
       "\t<tr><th scope=row>CHP_414-03_cfDNA</th><td> 1</td><td>2</td><td>1</td><td>0</td><td>1</td><td>0</td><td>0</td><td>2</td><td> 2</td><td>0</td><td>0</td><td>0</td><td>0</td></tr>\n",
       "\t<tr><th scope=row>CHP_415-01_cfDNA</th><td> 0</td><td>0</td><td>1</td><td>0</td><td>0</td><td>0</td><td>1</td><td>1</td><td> 0</td><td>0</td><td>0</td><td>0</td><td>3</td></tr>\n",
       "\t<tr><th scope=row>CHP_415-02_cfDNA</th><td> 1</td><td>0</td><td>0</td><td>0</td><td>1</td><td>0</td><td>0</td><td>0</td><td> 0</td><td>1</td><td>0</td><td>0</td><td>0</td></tr>\n",
       "\t<tr><th scope=row>CHP_415-03_cfDNA</th><td> 2</td><td>1</td><td>1</td><td>0</td><td>1</td><td>0</td><td>0</td><td>0</td><td> 0</td><td>0</td><td>0</td><td>0</td><td>0</td></tr>\n",
       "\t<tr><th scope=row>CHP_416-01_cfDNA</th><td> 2</td><td>0</td><td>0</td><td>0</td><td>0</td><td>0</td><td>0</td><td>2</td><td> 0</td><td>0</td><td>0</td><td>0</td><td>1</td></tr>\n",
       "\t<tr><th scope=row>CHP_416-02_cfDNA</th><td> 4</td><td>2</td><td>0</td><td>1</td><td>2</td><td>1</td><td>2</td><td>0</td><td> 2</td><td>1</td><td>1</td><td>0</td><td>4</td></tr>\n",
       "\t<tr><th scope=row>CHP_417-02_cfDNA</th><td> 1</td><td>0</td><td>0</td><td>0</td><td>0</td><td>0</td><td>0</td><td>0</td><td> 0</td><td>0</td><td>0</td><td>0</td><td>2</td></tr>\n",
       "\t<tr><th scope=row>CHP_418-01_cfDNA</th><td> 0</td><td>0</td><td>0</td><td>0</td><td>0</td><td>0</td><td>0</td><td>0</td><td> 0</td><td>0</td><td>0</td><td>0</td><td>1</td></tr>\n",
       "\t<tr><th scope=row>CHP_418-02_cfDNA</th><td> 2</td><td>1</td><td>0</td><td>0</td><td>1</td><td>0</td><td>0</td><td>0</td><td> 0</td><td>0</td><td>0</td><td>0</td><td>0</td></tr>\n",
       "\t<tr><th scope=row>CHP_419-02_cfDNA</th><td> 0</td><td>0</td><td>1</td><td>0</td><td>0</td><td>0</td><td>0</td><td>1</td><td> 1</td><td>0</td><td>0</td><td>0</td><td>1</td></tr>\n",
       "\t<tr><th scope=row>CHP_420-01_cfDNA</th><td> 5</td><td>4</td><td>0</td><td>3</td><td>0</td><td>0</td><td>3</td><td>1</td><td> 4</td><td>0</td><td>1</td><td>0</td><td>9</td></tr>\n",
       "\t<tr><th scope=row>CHP_421-01_cfDNA</th><td> 0</td><td>3</td><td>1</td><td>0</td><td>0</td><td>0</td><td>0</td><td>0</td><td> 0</td><td>1</td><td>5</td><td>0</td><td>0</td></tr>\n",
       "\t<tr><th scope=row>CHP_422-01_cfDNA</th><td> 0</td><td>0</td><td>1</td><td>0</td><td>0</td><td>0</td><td>1</td><td>1</td><td> 0</td><td>0</td><td>0</td><td>0</td><td>6</td></tr>\n",
       "\t<tr><th scope=row>CHP_423-01_cfDNA</th><td> 1</td><td>0</td><td>0</td><td>0</td><td>0</td><td>0</td><td>0</td><td>0</td><td> 0</td><td>0</td><td>0</td><td>0</td><td>0</td></tr>\n",
       "</tbody>\n",
       "</table>\n"
      ],
      "text/latex": [
       "A data.frame: 266 x 13\n",
       "\\begin{tabular}{r|lllllllllllll}\n",
       "  & TRBJ1-1 & TRBJ1-2 & TRBJ1-3 & TRBJ1-4 & TRBJ1-5 & TRBJ1-6 & TRBJ2-1 & TRBJ2-2 & TRBJ2-3 & TRBJ2-4 & TRBJ2-5 & TRBJ2-6 & TRBJ2-7\\\\\n",
       "  & <int> & <int> & <int> & <int> & <int> & <int> & <int> & <int> & <int> & <int> & <int> & <int> & <int>\\\\\n",
       "\\hline\n",
       "\tCHP\\_323-03\\_cfDNA &  9 & 10 & 5 & 8 & 10 & 7 &  8 & 5 & 13 & 1 & 7 & 0 & 15\\\\\n",
       "\tCHP\\_323-05\\_cfDNA &  2 &  0 & 2 & 3 &  1 & 0 &  1 & 0 &  1 & 1 & 0 & 0 &  4\\\\\n",
       "\tCHP\\_324-04\\_cfDNA &  0 &  0 & 0 & 1 &  0 & 0 &  0 & 0 &  0 & 0 & 0 & 0 &  0\\\\\n",
       "\tCHP\\_324-05\\_cfDNA &  0 &  0 & 0 & 1 &  1 & 0 &  0 & 0 &  0 & 0 & 0 & 0 &  0\\\\\n",
       "\tCHP\\_326-05\\_cfDNA &  4 &  5 & 0 & 1 &  1 & 0 &  6 & 1 &  2 & 0 & 1 & 0 &  3\\\\\n",
       "\tCHP\\_328-05\\_cfDNA &  2 &  1 & 1 & 0 &  0 & 1 &  0 & 0 &  0 & 0 & 0 & 0 &  0\\\\\n",
       "\tCHP\\_329-04\\_cfDNA &  1 &  1 & 0 & 0 &  0 & 0 &  0 & 0 &  0 & 0 & 0 & 0 &  0\\\\\n",
       "\tCHP\\_330-04\\_cfDNA &  2 &  0 & 0 & 1 &  0 & 0 &  0 & 0 &  0 & 0 & 0 & 0 &  1\\\\\n",
       "\tCHP\\_331-05\\_cfDNA &  8 &  3 & 1 & 4 &  7 & 0 &  4 & 1 &  3 & 0 & 2 & 1 &  2\\\\\n",
       "\tCHP\\_333-05\\_cfDNA &  0 &  1 & 0 & 0 &  0 & 0 &  1 & 0 &  0 & 0 & 0 & 0 &  0\\\\\n",
       "\tCHP\\_334-02\\_cfDNA &  0 &  0 & 0 & 0 &  0 & 1 &  1 & 0 &  0 & 0 & 0 & 0 &  1\\\\\n",
       "\tCHP\\_334-03\\_cfDNA &  5 &  2 & 1 & 2 &  3 & 0 &  2 & 0 &  1 & 2 & 3 & 0 &  6\\\\\n",
       "\tCHP\\_334-04\\_cfDNA &  2 &  4 & 0 & 0 &  0 & 0 &  1 & 0 &  4 & 0 & 1 & 0 &  4\\\\\n",
       "\tCHP\\_335-04\\_cfDNA &  2 & 11 & 1 & 2 &  3 & 1 &  8 & 6 &  6 & 0 & 2 & 0 & 12\\\\\n",
       "\tCHP\\_335-05\\_cfDNA &  3 &  0 & 2 & 3 &  4 & 3 &  4 & 2 &  0 & 1 & 3 & 1 &  3\\\\\n",
       "\tCHP\\_336-03\\_cfDNA &  1 &  0 & 0 & 0 &  1 & 0 &  0 & 1 &  1 & 1 & 0 & 0 &  0\\\\\n",
       "\tCHP\\_336-04\\_cfDNA &  0 &  2 & 0 & 0 &  0 & 0 &  1 & 0 &  1 & 0 & 0 & 0 &  2\\\\\n",
       "\tCHP\\_336-05\\_cfDNA &  5 &  3 & 0 & 0 &  0 & 1 &  2 & 1 &  0 & 0 & 0 & 0 &  0\\\\\n",
       "\tCHP\\_337-03\\_cfDNA &  3 &  1 & 0 & 0 &  1 & 0 &  1 & 0 &  0 & 0 & 0 & 0 &  1\\\\\n",
       "\tCHP\\_337-04\\_cfDNA &  2 &  1 & 0 & 0 &  1 & 1 &  2 & 0 &  0 & 0 & 0 & 1 &  3\\\\\n",
       "\tCHP\\_337-05\\_cfDNA &  3 &  2 & 0 & 0 &  2 & 0 &  1 & 1 &  0 & 0 & 1 & 0 &  0\\\\\n",
       "\tCHP\\_338-03\\_cfDNA &  0 &  0 & 0 & 2 &  0 & 0 &  0 & 0 &  1 & 0 & 0 & 0 &  0\\\\\n",
       "\tCHP\\_338-05-cfDNA &  1 &  0 & 0 & 1 &  1 & 0 &  3 & 0 &  1 & 0 & 0 & 0 &  0\\\\\n",
       "\tCHP\\_339-03\\_cfDNA &  1 &  0 & 0 & 0 &  1 & 0 &  1 & 0 &  0 & 0 & 2 & 0 &  1\\\\\n",
       "\tCHP\\_339-04\\_cfDNA & 15 & 14 & 1 & 6 &  6 & 9 & 14 & 2 &  8 & 0 & 2 & 0 & 10\\\\\n",
       "\tCHP\\_340-02-cfDNA &  0 &  4 & 0 & 3 &  2 & 0 &  0 & 0 &  2 & 0 & 0 & 0 &  1\\\\\n",
       "\tCHP\\_340-03\\_cfDNA &  1 &  0 & 0 & 0 &  0 & 0 &  1 & 0 &  0 & 0 & 0 & 0 &  3\\\\\n",
       "\tCHP\\_340-04\\_cfDNA &  1 &  5 & 0 & 0 &  2 & 1 &  0 & 4 &  5 & 0 & 0 & 0 &  6\\\\\n",
       "\tCHP\\_341-02\\_cfDNA &  7 &  1 & 1 & 1 &  2 & 1 &  9 & 0 &  2 & 1 & 2 & 0 &  7\\\\\n",
       "\tCHP\\_342-02-cfDNA &  2 &  2 & 0 & 1 &  0 & 0 &  4 & 2 &  0 & 1 & 0 & 0 &  5\\\\\n",
       "\t... & ... & ... & ... & ... & ... & ... & ... & ... & ... & ... & ... & ... & ...\\\\\n",
       "\tCHP\\_408-03\\_cfDNA &  0 & 2 & 3 & 0 & 2 & 4 & 2 & 0 &  1 & 0 & 2 & 1 & 5\\\\\n",
       "\tCHP\\_409-02\\_cfDNA &  0 & 0 & 0 & 0 & 0 & 0 & 2 & 1 &  0 & 0 & 0 & 0 & 0\\\\\n",
       "\tCHP\\_409-03\\_cfDNA &  1 & 2 & 1 & 0 & 0 & 1 & 0 & 0 &  0 & 0 & 0 & 0 & 0\\\\\n",
       "\tCHP\\_409-05\\_cfDNA &  0 & 0 & 0 & 0 & 1 & 0 & 0 & 0 &  0 & 0 & 0 & 0 & 0\\\\\n",
       "\tCHP\\_410-01\\_cfDNA &  2 & 0 & 0 & 1 & 0 & 2 & 1 & 0 &  4 & 9 & 7 & 0 & 5\\\\\n",
       "\tCHP\\_410-02\\_cfDNA &  0 & 3 & 0 & 1 & 1 & 1 & 2 & 0 &  2 & 0 & 0 & 0 & 1\\\\\n",
       "\tCHP\\_410-03\\_cfDNA &  1 & 1 & 0 & 1 & 1 & 2 & 1 & 0 &  2 & 0 & 0 & 0 & 0\\\\\n",
       "\tCHP\\_411-01\\_cfDNA & 20 & 2 & 0 & 1 & 3 & 2 & 9 & 3 &  3 & 0 & 3 & 0 & 6\\\\\n",
       "\tCHP\\_411-02\\_cfDNA &  5 & 7 & 2 & 3 & 6 & 2 & 8 & 4 & 10 & 2 & 1 & 1 & 9\\\\\n",
       "\tCHP\\_412-01\\_cfDNA &  2 & 0 & 1 & 0 & 1 & 1 & 2 & 0 &  0 & 0 & 0 & 0 & 0\\\\\n",
       "\tCHP\\_412-02\\_cfDNA &  1 & 0 & 0 & 0 & 1 & 0 & 0 & 0 &  0 & 0 & 0 & 0 & 0\\\\\n",
       "\tCHP\\_412-03\\_cfDNA &  0 & 1 & 0 & 0 & 0 & 0 & 1 & 0 &  0 & 0 & 0 & 0 & 0\\\\\n",
       "\tCHP\\_413-01\\_cfDNA &  0 & 1 & 0 & 0 & 1 & 0 & 0 & 0 &  1 & 0 & 0 & 0 & 2\\\\\n",
       "\tCHP\\_413-02\\_cfDNA &  0 & 0 & 0 & 0 & 0 & 2 & 1 & 1 &  0 & 1 & 0 & 0 & 1\\\\\n",
       "\tCHP\\_414-01\\_cfDNA &  1 & 3 & 2 & 0 & 1 & 1 & 1 & 1 &  1 & 0 & 0 & 0 & 2\\\\\n",
       "\tCHP\\_414-02\\_cfDNA &  0 & 3 & 0 & 0 & 0 & 1 & 0 & 0 &  0 & 0 & 0 & 0 & 1\\\\\n",
       "\tCHP\\_414-03\\_cfDNA &  1 & 2 & 1 & 0 & 1 & 0 & 0 & 2 &  2 & 0 & 0 & 0 & 0\\\\\n",
       "\tCHP\\_415-01\\_cfDNA &  0 & 0 & 1 & 0 & 0 & 0 & 1 & 1 &  0 & 0 & 0 & 0 & 3\\\\\n",
       "\tCHP\\_415-02\\_cfDNA &  1 & 0 & 0 & 0 & 1 & 0 & 0 & 0 &  0 & 1 & 0 & 0 & 0\\\\\n",
       "\tCHP\\_415-03\\_cfDNA &  2 & 1 & 1 & 0 & 1 & 0 & 0 & 0 &  0 & 0 & 0 & 0 & 0\\\\\n",
       "\tCHP\\_416-01\\_cfDNA &  2 & 0 & 0 & 0 & 0 & 0 & 0 & 2 &  0 & 0 & 0 & 0 & 1\\\\\n",
       "\tCHP\\_416-02\\_cfDNA &  4 & 2 & 0 & 1 & 2 & 1 & 2 & 0 &  2 & 1 & 1 & 0 & 4\\\\\n",
       "\tCHP\\_417-02\\_cfDNA &  1 & 0 & 0 & 0 & 0 & 0 & 0 & 0 &  0 & 0 & 0 & 0 & 2\\\\\n",
       "\tCHP\\_418-01\\_cfDNA &  0 & 0 & 0 & 0 & 0 & 0 & 0 & 0 &  0 & 0 & 0 & 0 & 1\\\\\n",
       "\tCHP\\_418-02\\_cfDNA &  2 & 1 & 0 & 0 & 1 & 0 & 0 & 0 &  0 & 0 & 0 & 0 & 0\\\\\n",
       "\tCHP\\_419-02\\_cfDNA &  0 & 0 & 1 & 0 & 0 & 0 & 0 & 1 &  1 & 0 & 0 & 0 & 1\\\\\n",
       "\tCHP\\_420-01\\_cfDNA &  5 & 4 & 0 & 3 & 0 & 0 & 3 & 1 &  4 & 0 & 1 & 0 & 9\\\\\n",
       "\tCHP\\_421-01\\_cfDNA &  0 & 3 & 1 & 0 & 0 & 0 & 0 & 0 &  0 & 1 & 5 & 0 & 0\\\\\n",
       "\tCHP\\_422-01\\_cfDNA &  0 & 0 & 1 & 0 & 0 & 0 & 1 & 1 &  0 & 0 & 0 & 0 & 6\\\\\n",
       "\tCHP\\_423-01\\_cfDNA &  1 & 0 & 0 & 0 & 0 & 0 & 0 & 0 &  0 & 0 & 0 & 0 & 0\\\\\n",
       "\\end{tabular}\n"
      ],
      "text/markdown": [
       "\n",
       "A data.frame: 266 x 13\n",
       "\n",
       "| <!--/--> | TRBJ1-1 &lt;int&gt; | TRBJ1-2 &lt;int&gt; | TRBJ1-3 &lt;int&gt; | TRBJ1-4 &lt;int&gt; | TRBJ1-5 &lt;int&gt; | TRBJ1-6 &lt;int&gt; | TRBJ2-1 &lt;int&gt; | TRBJ2-2 &lt;int&gt; | TRBJ2-3 &lt;int&gt; | TRBJ2-4 &lt;int&gt; | TRBJ2-5 &lt;int&gt; | TRBJ2-6 &lt;int&gt; | TRBJ2-7 &lt;int&gt; |\n",
       "|---|---|---|---|---|---|---|---|---|---|---|---|---|---|\n",
       "| CHP_323-03_cfDNA |  9 | 10 | 5 | 8 | 10 | 7 |  8 | 5 | 13 | 1 | 7 | 0 | 15 |\n",
       "| CHP_323-05_cfDNA |  2 |  0 | 2 | 3 |  1 | 0 |  1 | 0 |  1 | 1 | 0 | 0 |  4 |\n",
       "| CHP_324-04_cfDNA |  0 |  0 | 0 | 1 |  0 | 0 |  0 | 0 |  0 | 0 | 0 | 0 |  0 |\n",
       "| CHP_324-05_cfDNA |  0 |  0 | 0 | 1 |  1 | 0 |  0 | 0 |  0 | 0 | 0 | 0 |  0 |\n",
       "| CHP_326-05_cfDNA |  4 |  5 | 0 | 1 |  1 | 0 |  6 | 1 |  2 | 0 | 1 | 0 |  3 |\n",
       "| CHP_328-05_cfDNA |  2 |  1 | 1 | 0 |  0 | 1 |  0 | 0 |  0 | 0 | 0 | 0 |  0 |\n",
       "| CHP_329-04_cfDNA |  1 |  1 | 0 | 0 |  0 | 0 |  0 | 0 |  0 | 0 | 0 | 0 |  0 |\n",
       "| CHP_330-04_cfDNA |  2 |  0 | 0 | 1 |  0 | 0 |  0 | 0 |  0 | 0 | 0 | 0 |  1 |\n",
       "| CHP_331-05_cfDNA |  8 |  3 | 1 | 4 |  7 | 0 |  4 | 1 |  3 | 0 | 2 | 1 |  2 |\n",
       "| CHP_333-05_cfDNA |  0 |  1 | 0 | 0 |  0 | 0 |  1 | 0 |  0 | 0 | 0 | 0 |  0 |\n",
       "| CHP_334-02_cfDNA |  0 |  0 | 0 | 0 |  0 | 1 |  1 | 0 |  0 | 0 | 0 | 0 |  1 |\n",
       "| CHP_334-03_cfDNA |  5 |  2 | 1 | 2 |  3 | 0 |  2 | 0 |  1 | 2 | 3 | 0 |  6 |\n",
       "| CHP_334-04_cfDNA |  2 |  4 | 0 | 0 |  0 | 0 |  1 | 0 |  4 | 0 | 1 | 0 |  4 |\n",
       "| CHP_335-04_cfDNA |  2 | 11 | 1 | 2 |  3 | 1 |  8 | 6 |  6 | 0 | 2 | 0 | 12 |\n",
       "| CHP_335-05_cfDNA |  3 |  0 | 2 | 3 |  4 | 3 |  4 | 2 |  0 | 1 | 3 | 1 |  3 |\n",
       "| CHP_336-03_cfDNA |  1 |  0 | 0 | 0 |  1 | 0 |  0 | 1 |  1 | 1 | 0 | 0 |  0 |\n",
       "| CHP_336-04_cfDNA |  0 |  2 | 0 | 0 |  0 | 0 |  1 | 0 |  1 | 0 | 0 | 0 |  2 |\n",
       "| CHP_336-05_cfDNA |  5 |  3 | 0 | 0 |  0 | 1 |  2 | 1 |  0 | 0 | 0 | 0 |  0 |\n",
       "| CHP_337-03_cfDNA |  3 |  1 | 0 | 0 |  1 | 0 |  1 | 0 |  0 | 0 | 0 | 0 |  1 |\n",
       "| CHP_337-04_cfDNA |  2 |  1 | 0 | 0 |  1 | 1 |  2 | 0 |  0 | 0 | 0 | 1 |  3 |\n",
       "| CHP_337-05_cfDNA |  3 |  2 | 0 | 0 |  2 | 0 |  1 | 1 |  0 | 0 | 1 | 0 |  0 |\n",
       "| CHP_338-03_cfDNA |  0 |  0 | 0 | 2 |  0 | 0 |  0 | 0 |  1 | 0 | 0 | 0 |  0 |\n",
       "| CHP_338-05-cfDNA |  1 |  0 | 0 | 1 |  1 | 0 |  3 | 0 |  1 | 0 | 0 | 0 |  0 |\n",
       "| CHP_339-03_cfDNA |  1 |  0 | 0 | 0 |  1 | 0 |  1 | 0 |  0 | 0 | 2 | 0 |  1 |\n",
       "| CHP_339-04_cfDNA | 15 | 14 | 1 | 6 |  6 | 9 | 14 | 2 |  8 | 0 | 2 | 0 | 10 |\n",
       "| CHP_340-02-cfDNA |  0 |  4 | 0 | 3 |  2 | 0 |  0 | 0 |  2 | 0 | 0 | 0 |  1 |\n",
       "| CHP_340-03_cfDNA |  1 |  0 | 0 | 0 |  0 | 0 |  1 | 0 |  0 | 0 | 0 | 0 |  3 |\n",
       "| CHP_340-04_cfDNA |  1 |  5 | 0 | 0 |  2 | 1 |  0 | 4 |  5 | 0 | 0 | 0 |  6 |\n",
       "| CHP_341-02_cfDNA |  7 |  1 | 1 | 1 |  2 | 1 |  9 | 0 |  2 | 1 | 2 | 0 |  7 |\n",
       "| CHP_342-02-cfDNA |  2 |  2 | 0 | 1 |  0 | 0 |  4 | 2 |  0 | 1 | 0 | 0 |  5 |\n",
       "| ... | ... | ... | ... | ... | ... | ... | ... | ... | ... | ... | ... | ... | ... |\n",
       "| CHP_408-03_cfDNA |  0 | 2 | 3 | 0 | 2 | 4 | 2 | 0 |  1 | 0 | 2 | 1 | 5 |\n",
       "| CHP_409-02_cfDNA |  0 | 0 | 0 | 0 | 0 | 0 | 2 | 1 |  0 | 0 | 0 | 0 | 0 |\n",
       "| CHP_409-03_cfDNA |  1 | 2 | 1 | 0 | 0 | 1 | 0 | 0 |  0 | 0 | 0 | 0 | 0 |\n",
       "| CHP_409-05_cfDNA |  0 | 0 | 0 | 0 | 1 | 0 | 0 | 0 |  0 | 0 | 0 | 0 | 0 |\n",
       "| CHP_410-01_cfDNA |  2 | 0 | 0 | 1 | 0 | 2 | 1 | 0 |  4 | 9 | 7 | 0 | 5 |\n",
       "| CHP_410-02_cfDNA |  0 | 3 | 0 | 1 | 1 | 1 | 2 | 0 |  2 | 0 | 0 | 0 | 1 |\n",
       "| CHP_410-03_cfDNA |  1 | 1 | 0 | 1 | 1 | 2 | 1 | 0 |  2 | 0 | 0 | 0 | 0 |\n",
       "| CHP_411-01_cfDNA | 20 | 2 | 0 | 1 | 3 | 2 | 9 | 3 |  3 | 0 | 3 | 0 | 6 |\n",
       "| CHP_411-02_cfDNA |  5 | 7 | 2 | 3 | 6 | 2 | 8 | 4 | 10 | 2 | 1 | 1 | 9 |\n",
       "| CHP_412-01_cfDNA |  2 | 0 | 1 | 0 | 1 | 1 | 2 | 0 |  0 | 0 | 0 | 0 | 0 |\n",
       "| CHP_412-02_cfDNA |  1 | 0 | 0 | 0 | 1 | 0 | 0 | 0 |  0 | 0 | 0 | 0 | 0 |\n",
       "| CHP_412-03_cfDNA |  0 | 1 | 0 | 0 | 0 | 0 | 1 | 0 |  0 | 0 | 0 | 0 | 0 |\n",
       "| CHP_413-01_cfDNA |  0 | 1 | 0 | 0 | 1 | 0 | 0 | 0 |  1 | 0 | 0 | 0 | 2 |\n",
       "| CHP_413-02_cfDNA |  0 | 0 | 0 | 0 | 0 | 2 | 1 | 1 |  0 | 1 | 0 | 0 | 1 |\n",
       "| CHP_414-01_cfDNA |  1 | 3 | 2 | 0 | 1 | 1 | 1 | 1 |  1 | 0 | 0 | 0 | 2 |\n",
       "| CHP_414-02_cfDNA |  0 | 3 | 0 | 0 | 0 | 1 | 0 | 0 |  0 | 0 | 0 | 0 | 1 |\n",
       "| CHP_414-03_cfDNA |  1 | 2 | 1 | 0 | 1 | 0 | 0 | 2 |  2 | 0 | 0 | 0 | 0 |\n",
       "| CHP_415-01_cfDNA |  0 | 0 | 1 | 0 | 0 | 0 | 1 | 1 |  0 | 0 | 0 | 0 | 3 |\n",
       "| CHP_415-02_cfDNA |  1 | 0 | 0 | 0 | 1 | 0 | 0 | 0 |  0 | 1 | 0 | 0 | 0 |\n",
       "| CHP_415-03_cfDNA |  2 | 1 | 1 | 0 | 1 | 0 | 0 | 0 |  0 | 0 | 0 | 0 | 0 |\n",
       "| CHP_416-01_cfDNA |  2 | 0 | 0 | 0 | 0 | 0 | 0 | 2 |  0 | 0 | 0 | 0 | 1 |\n",
       "| CHP_416-02_cfDNA |  4 | 2 | 0 | 1 | 2 | 1 | 2 | 0 |  2 | 1 | 1 | 0 | 4 |\n",
       "| CHP_417-02_cfDNA |  1 | 0 | 0 | 0 | 0 | 0 | 0 | 0 |  0 | 0 | 0 | 0 | 2 |\n",
       "| CHP_418-01_cfDNA |  0 | 0 | 0 | 0 | 0 | 0 | 0 | 0 |  0 | 0 | 0 | 0 | 1 |\n",
       "| CHP_418-02_cfDNA |  2 | 1 | 0 | 0 | 1 | 0 | 0 | 0 |  0 | 0 | 0 | 0 | 0 |\n",
       "| CHP_419-02_cfDNA |  0 | 0 | 1 | 0 | 0 | 0 | 0 | 1 |  1 | 0 | 0 | 0 | 1 |\n",
       "| CHP_420-01_cfDNA |  5 | 4 | 0 | 3 | 0 | 0 | 3 | 1 |  4 | 0 | 1 | 0 | 9 |\n",
       "| CHP_421-01_cfDNA |  0 | 3 | 1 | 0 | 0 | 0 | 0 | 0 |  0 | 1 | 5 | 0 | 0 |\n",
       "| CHP_422-01_cfDNA |  0 | 0 | 1 | 0 | 0 | 0 | 1 | 1 |  0 | 0 | 0 | 0 | 6 |\n",
       "| CHP_423-01_cfDNA |  1 | 0 | 0 | 0 | 0 | 0 | 0 | 0 |  0 | 0 | 0 | 0 | 0 |\n",
       "\n"
      ],
      "text/plain": [
       "                 TRBJ1-1 TRBJ1-2 TRBJ1-3 TRBJ1-4 TRBJ1-5 TRBJ1-6 TRBJ2-1\n",
       "CHP_323-03_cfDNA  9      10      5       8       10      7        8     \n",
       "CHP_323-05_cfDNA  2       0      2       3        1      0        1     \n",
       "CHP_324-04_cfDNA  0       0      0       1        0      0        0     \n",
       "CHP_324-05_cfDNA  0       0      0       1        1      0        0     \n",
       "CHP_326-05_cfDNA  4       5      0       1        1      0        6     \n",
       "CHP_328-05_cfDNA  2       1      1       0        0      1        0     \n",
       "CHP_329-04_cfDNA  1       1      0       0        0      0        0     \n",
       "CHP_330-04_cfDNA  2       0      0       1        0      0        0     \n",
       "CHP_331-05_cfDNA  8       3      1       4        7      0        4     \n",
       "CHP_333-05_cfDNA  0       1      0       0        0      0        1     \n",
       "CHP_334-02_cfDNA  0       0      0       0        0      1        1     \n",
       "CHP_334-03_cfDNA  5       2      1       2        3      0        2     \n",
       "CHP_334-04_cfDNA  2       4      0       0        0      0        1     \n",
       "CHP_335-04_cfDNA  2      11      1       2        3      1        8     \n",
       "CHP_335-05_cfDNA  3       0      2       3        4      3        4     \n",
       "CHP_336-03_cfDNA  1       0      0       0        1      0        0     \n",
       "CHP_336-04_cfDNA  0       2      0       0        0      0        1     \n",
       "CHP_336-05_cfDNA  5       3      0       0        0      1        2     \n",
       "CHP_337-03_cfDNA  3       1      0       0        1      0        1     \n",
       "CHP_337-04_cfDNA  2       1      0       0        1      1        2     \n",
       "CHP_337-05_cfDNA  3       2      0       0        2      0        1     \n",
       "CHP_338-03_cfDNA  0       0      0       2        0      0        0     \n",
       "CHP_338-05-cfDNA  1       0      0       1        1      0        3     \n",
       "CHP_339-03_cfDNA  1       0      0       0        1      0        1     \n",
       "CHP_339-04_cfDNA 15      14      1       6        6      9       14     \n",
       "CHP_340-02-cfDNA  0       4      0       3        2      0        0     \n",
       "CHP_340-03_cfDNA  1       0      0       0        0      0        1     \n",
       "CHP_340-04_cfDNA  1       5      0       0        2      1        0     \n",
       "CHP_341-02_cfDNA  7       1      1       1        2      1        9     \n",
       "CHP_342-02-cfDNA  2       2      0       1        0      0        4     \n",
       "...              ...     ...     ...     ...     ...     ...     ...    \n",
       "CHP_408-03_cfDNA  0      2       3       0       2       4       2      \n",
       "CHP_409-02_cfDNA  0      0       0       0       0       0       2      \n",
       "CHP_409-03_cfDNA  1      2       1       0       0       1       0      \n",
       "CHP_409-05_cfDNA  0      0       0       0       1       0       0      \n",
       "CHP_410-01_cfDNA  2      0       0       1       0       2       1      \n",
       "CHP_410-02_cfDNA  0      3       0       1       1       1       2      \n",
       "CHP_410-03_cfDNA  1      1       0       1       1       2       1      \n",
       "CHP_411-01_cfDNA 20      2       0       1       3       2       9      \n",
       "CHP_411-02_cfDNA  5      7       2       3       6       2       8      \n",
       "CHP_412-01_cfDNA  2      0       1       0       1       1       2      \n",
       "CHP_412-02_cfDNA  1      0       0       0       1       0       0      \n",
       "CHP_412-03_cfDNA  0      1       0       0       0       0       1      \n",
       "CHP_413-01_cfDNA  0      1       0       0       1       0       0      \n",
       "CHP_413-02_cfDNA  0      0       0       0       0       2       1      \n",
       "CHP_414-01_cfDNA  1      3       2       0       1       1       1      \n",
       "CHP_414-02_cfDNA  0      3       0       0       0       1       0      \n",
       "CHP_414-03_cfDNA  1      2       1       0       1       0       0      \n",
       "CHP_415-01_cfDNA  0      0       1       0       0       0       1      \n",
       "CHP_415-02_cfDNA  1      0       0       0       1       0       0      \n",
       "CHP_415-03_cfDNA  2      1       1       0       1       0       0      \n",
       "CHP_416-01_cfDNA  2      0       0       0       0       0       0      \n",
       "CHP_416-02_cfDNA  4      2       0       1       2       1       2      \n",
       "CHP_417-02_cfDNA  1      0       0       0       0       0       0      \n",
       "CHP_418-01_cfDNA  0      0       0       0       0       0       0      \n",
       "CHP_418-02_cfDNA  2      1       0       0       1       0       0      \n",
       "CHP_419-02_cfDNA  0      0       1       0       0       0       0      \n",
       "CHP_420-01_cfDNA  5      4       0       3       0       0       3      \n",
       "CHP_421-01_cfDNA  0      3       1       0       0       0       0      \n",
       "CHP_422-01_cfDNA  0      0       1       0       0       0       1      \n",
       "CHP_423-01_cfDNA  1      0       0       0       0       0       0      \n",
       "                 TRBJ2-2 TRBJ2-3 TRBJ2-4 TRBJ2-5 TRBJ2-6 TRBJ2-7\n",
       "CHP_323-03_cfDNA 5       13      1       7       0       15     \n",
       "CHP_323-05_cfDNA 0        1      1       0       0        4     \n",
       "CHP_324-04_cfDNA 0        0      0       0       0        0     \n",
       "CHP_324-05_cfDNA 0        0      0       0       0        0     \n",
       "CHP_326-05_cfDNA 1        2      0       1       0        3     \n",
       "CHP_328-05_cfDNA 0        0      0       0       0        0     \n",
       "CHP_329-04_cfDNA 0        0      0       0       0        0     \n",
       "CHP_330-04_cfDNA 0        0      0       0       0        1     \n",
       "CHP_331-05_cfDNA 1        3      0       2       1        2     \n",
       "CHP_333-05_cfDNA 0        0      0       0       0        0     \n",
       "CHP_334-02_cfDNA 0        0      0       0       0        1     \n",
       "CHP_334-03_cfDNA 0        1      2       3       0        6     \n",
       "CHP_334-04_cfDNA 0        4      0       1       0        4     \n",
       "CHP_335-04_cfDNA 6        6      0       2       0       12     \n",
       "CHP_335-05_cfDNA 2        0      1       3       1        3     \n",
       "CHP_336-03_cfDNA 1        1      1       0       0        0     \n",
       "CHP_336-04_cfDNA 0        1      0       0       0        2     \n",
       "CHP_336-05_cfDNA 1        0      0       0       0        0     \n",
       "CHP_337-03_cfDNA 0        0      0       0       0        1     \n",
       "CHP_337-04_cfDNA 0        0      0       0       1        3     \n",
       "CHP_337-05_cfDNA 1        0      0       1       0        0     \n",
       "CHP_338-03_cfDNA 0        1      0       0       0        0     \n",
       "CHP_338-05-cfDNA 0        1      0       0       0        0     \n",
       "CHP_339-03_cfDNA 0        0      0       2       0        1     \n",
       "CHP_339-04_cfDNA 2        8      0       2       0       10     \n",
       "CHP_340-02-cfDNA 0        2      0       0       0        1     \n",
       "CHP_340-03_cfDNA 0        0      0       0       0        3     \n",
       "CHP_340-04_cfDNA 4        5      0       0       0        6     \n",
       "CHP_341-02_cfDNA 0        2      1       2       0        7     \n",
       "CHP_342-02-cfDNA 2        0      1       0       0        5     \n",
       "...              ...     ...     ...     ...     ...     ...    \n",
       "CHP_408-03_cfDNA 0        1      0       2       1       5      \n",
       "CHP_409-02_cfDNA 1        0      0       0       0       0      \n",
       "CHP_409-03_cfDNA 0        0      0       0       0       0      \n",
       "CHP_409-05_cfDNA 0        0      0       0       0       0      \n",
       "CHP_410-01_cfDNA 0        4      9       7       0       5      \n",
       "CHP_410-02_cfDNA 0        2      0       0       0       1      \n",
       "CHP_410-03_cfDNA 0        2      0       0       0       0      \n",
       "CHP_411-01_cfDNA 3        3      0       3       0       6      \n",
       "CHP_411-02_cfDNA 4       10      2       1       1       9      \n",
       "CHP_412-01_cfDNA 0        0      0       0       0       0      \n",
       "CHP_412-02_cfDNA 0        0      0       0       0       0      \n",
       "CHP_412-03_cfDNA 0        0      0       0       0       0      \n",
       "CHP_413-01_cfDNA 0        1      0       0       0       2      \n",
       "CHP_413-02_cfDNA 1        0      1       0       0       1      \n",
       "CHP_414-01_cfDNA 1        1      0       0       0       2      \n",
       "CHP_414-02_cfDNA 0        0      0       0       0       1      \n",
       "CHP_414-03_cfDNA 2        2      0       0       0       0      \n",
       "CHP_415-01_cfDNA 1        0      0       0       0       3      \n",
       "CHP_415-02_cfDNA 0        0      1       0       0       0      \n",
       "CHP_415-03_cfDNA 0        0      0       0       0       0      \n",
       "CHP_416-01_cfDNA 2        0      0       0       0       1      \n",
       "CHP_416-02_cfDNA 0        2      1       1       0       4      \n",
       "CHP_417-02_cfDNA 0        0      0       0       0       2      \n",
       "CHP_418-01_cfDNA 0        0      0       0       0       1      \n",
       "CHP_418-02_cfDNA 0        0      0       0       0       0      \n",
       "CHP_419-02_cfDNA 1        1      0       0       0       1      \n",
       "CHP_420-01_cfDNA 1        4      0       1       0       9      \n",
       "CHP_421-01_cfDNA 0        0      1       5       0       0      \n",
       "CHP_422-01_cfDNA 1        0      0       0       0       6      \n",
       "CHP_423-01_cfDNA 0        0      0       0       0       0      "
      ]
     },
     "metadata": {},
     "output_type": "display_data"
    }
   ],
   "source": [
    "jgene_mat"
   ]
  },
  {
   "cell_type": "code",
   "execution_count": 24,
   "metadata": {
    "vscode": {
     "languageId": "r"
    }
   },
   "outputs": [],
   "source": [
    "mypca <- prcomp(jgene_mat, scale = TRUE)"
   ]
  },
  {
   "cell_type": "code",
   "execution_count": 25,
   "metadata": {
    "vscode": {
     "languageId": "r"
    }
   },
   "outputs": [],
   "source": [
    "out <- mypca$x\n",
    "mydf <- data.frame(out)"
   ]
  },
  {
   "cell_type": "code",
   "execution_count": 26,
   "metadata": {
    "vscode": {
     "languageId": "r"
    }
   },
   "outputs": [
    {
     "data": {
      "text/html": [
       "<table class=\"dataframe\">\n",
       "<caption>A matrix: 6 x 13 of type dbl</caption>\n",
       "<thead>\n",
       "\t<tr><th></th><th scope=col>PC1</th><th scope=col>PC2</th><th scope=col>PC3</th><th scope=col>PC4</th><th scope=col>PC5</th><th scope=col>PC6</th><th scope=col>PC7</th><th scope=col>PC8</th><th scope=col>PC9</th><th scope=col>PC10</th><th scope=col>PC11</th><th scope=col>PC12</th><th scope=col>PC13</th></tr>\n",
       "</thead>\n",
       "<tbody>\n",
       "\t<tr><th scope=row>CHP_323-03_cfDNA</th><td>-12.2473929</td><td>-1.42025844</td><td>-1.04697016</td><td> 3.1583523</td><td> 1.91914930</td><td> 0.8869808</td><td> 1.0809660</td><td>-1.8005925</td><td>-1.50986109</td><td> 0.26102737</td><td>-1.3018701</td><td>-0.4439798428</td><td> 0.03704843</td></tr>\n",
       "\t<tr><th scope=row>CHP_323-05_cfDNA</th><td> -0.2918142</td><td>-1.03382807</td><td> 0.68828218</td><td> 0.6123784</td><td>-0.09284711</td><td> 0.3084909</td><td>-1.6981223</td><td>-0.8380078</td><td>-0.36609315</td><td> 0.70883303</td><td>-0.6825703</td><td> 0.1816493829</td><td>-0.06508933</td></tr>\n",
       "\t<tr><th scope=row>CHP_324-04_cfDNA</th><td>  1.7122042</td><td> 0.09042876</td><td>-0.07326199</td><td>-0.2046221</td><td> 0.29371847</td><td> 0.1924127</td><td>-0.1858385</td><td>-0.2642570</td><td>-0.18545217</td><td> 0.39428757</td><td>-0.1183820</td><td> 0.1349846217</td><td>-0.20298198</td></tr>\n",
       "\t<tr><th scope=row>CHP_324-05_cfDNA</th><td>  1.5349325</td><td> 0.14012792</td><td>-0.08421036</td><td>-0.1093266</td><td> 0.42138154</td><td> 0.4949083</td><td>-0.2068940</td><td>-0.3302963</td><td>-0.27659018</td><td>-0.02188041</td><td>-0.1707117</td><td> 0.0941779720</td><td>-0.10720903</td></tr>\n",
       "\t<tr><th scope=row>CHP_326-05_cfDNA</th><td> -0.9056822</td><td> 0.51843452</td><td>-0.90888221</td><td>-0.3433747</td><td>-0.69230060</td><td> 0.6991146</td><td> 0.3068189</td><td> 0.6303601</td><td> 0.88435273</td><td> 0.37676333</td><td>-0.1045811</td><td> 0.7938390648</td><td> 0.10374633</td></tr>\n",
       "\t<tr><th scope=row>CHP_328-05_cfDNA</th><td>  1.2267221</td><td> 0.09263065</td><td> 0.06769804</td><td> 0.6608868</td><td> 0.15485154</td><td>-0.7117561</td><td>-0.2064226</td><td> 0.1944209</td><td>-0.03176118</td><td>-0.01432308</td><td> 0.2282086</td><td>-0.0008477003</td><td>-0.09297560</td></tr>\n",
       "</tbody>\n",
       "</table>\n"
      ],
      "text/latex": [
       "A matrix: 6 x 13 of type dbl\n",
       "\\begin{tabular}{r|lllllllllllll}\n",
       "  & PC1 & PC2 & PC3 & PC4 & PC5 & PC6 & PC7 & PC8 & PC9 & PC10 & PC11 & PC12 & PC13\\\\\n",
       "\\hline\n",
       "\tCHP\\_323-03\\_cfDNA & -12.2473929 & -1.42025844 & -1.04697016 &  3.1583523 &  1.91914930 &  0.8869808 &  1.0809660 & -1.8005925 & -1.50986109 &  0.26102737 & -1.3018701 & -0.4439798428 &  0.03704843\\\\\n",
       "\tCHP\\_323-05\\_cfDNA &  -0.2918142 & -1.03382807 &  0.68828218 &  0.6123784 & -0.09284711 &  0.3084909 & -1.6981223 & -0.8380078 & -0.36609315 &  0.70883303 & -0.6825703 &  0.1816493829 & -0.06508933\\\\\n",
       "\tCHP\\_324-04\\_cfDNA &   1.7122042 &  0.09042876 & -0.07326199 & -0.2046221 &  0.29371847 &  0.1924127 & -0.1858385 & -0.2642570 & -0.18545217 &  0.39428757 & -0.1183820 &  0.1349846217 & -0.20298198\\\\\n",
       "\tCHP\\_324-05\\_cfDNA &   1.5349325 &  0.14012792 & -0.08421036 & -0.1093266 &  0.42138154 &  0.4949083 & -0.2068940 & -0.3302963 & -0.27659018 & -0.02188041 & -0.1707117 &  0.0941779720 & -0.10720903\\\\\n",
       "\tCHP\\_326-05\\_cfDNA &  -0.9056822 &  0.51843452 & -0.90888221 & -0.3433747 & -0.69230060 &  0.6991146 &  0.3068189 &  0.6303601 &  0.88435273 &  0.37676333 & -0.1045811 &  0.7938390648 &  0.10374633\\\\\n",
       "\tCHP\\_328-05\\_cfDNA &   1.2267221 &  0.09263065 &  0.06769804 &  0.6608868 &  0.15485154 & -0.7117561 & -0.2064226 &  0.1944209 & -0.03176118 & -0.01432308 &  0.2282086 & -0.0008477003 & -0.09297560\\\\\n",
       "\\end{tabular}\n"
      ],
      "text/markdown": [
       "\n",
       "A matrix: 6 x 13 of type dbl\n",
       "\n",
       "| <!--/--> | PC1 | PC2 | PC3 | PC4 | PC5 | PC6 | PC7 | PC8 | PC9 | PC10 | PC11 | PC12 | PC13 |\n",
       "|---|---|---|---|---|---|---|---|---|---|---|---|---|---|\n",
       "| CHP_323-03_cfDNA | -12.2473929 | -1.42025844 | -1.04697016 |  3.1583523 |  1.91914930 |  0.8869808 |  1.0809660 | -1.8005925 | -1.50986109 |  0.26102737 | -1.3018701 | -0.4439798428 |  0.03704843 |\n",
       "| CHP_323-05_cfDNA |  -0.2918142 | -1.03382807 |  0.68828218 |  0.6123784 | -0.09284711 |  0.3084909 | -1.6981223 | -0.8380078 | -0.36609315 |  0.70883303 | -0.6825703 |  0.1816493829 | -0.06508933 |\n",
       "| CHP_324-04_cfDNA |   1.7122042 |  0.09042876 | -0.07326199 | -0.2046221 |  0.29371847 |  0.1924127 | -0.1858385 | -0.2642570 | -0.18545217 |  0.39428757 | -0.1183820 |  0.1349846217 | -0.20298198 |\n",
       "| CHP_324-05_cfDNA |   1.5349325 |  0.14012792 | -0.08421036 | -0.1093266 |  0.42138154 |  0.4949083 | -0.2068940 | -0.3302963 | -0.27659018 | -0.02188041 | -0.1707117 |  0.0941779720 | -0.10720903 |\n",
       "| CHP_326-05_cfDNA |  -0.9056822 |  0.51843452 | -0.90888221 | -0.3433747 | -0.69230060 |  0.6991146 |  0.3068189 |  0.6303601 |  0.88435273 |  0.37676333 | -0.1045811 |  0.7938390648 |  0.10374633 |\n",
       "| CHP_328-05_cfDNA |   1.2267221 |  0.09263065 |  0.06769804 |  0.6608868 |  0.15485154 | -0.7117561 | -0.2064226 |  0.1944209 | -0.03176118 | -0.01432308 |  0.2282086 | -0.0008477003 | -0.09297560 |\n",
       "\n"
      ],
      "text/plain": [
       "                 PC1         PC2         PC3         PC4        PC5        \n",
       "CHP_323-03_cfDNA -12.2473929 -1.42025844 -1.04697016  3.1583523  1.91914930\n",
       "CHP_323-05_cfDNA  -0.2918142 -1.03382807  0.68828218  0.6123784 -0.09284711\n",
       "CHP_324-04_cfDNA   1.7122042  0.09042876 -0.07326199 -0.2046221  0.29371847\n",
       "CHP_324-05_cfDNA   1.5349325  0.14012792 -0.08421036 -0.1093266  0.42138154\n",
       "CHP_326-05_cfDNA  -0.9056822  0.51843452 -0.90888221 -0.3433747 -0.69230060\n",
       "CHP_328-05_cfDNA   1.2267221  0.09263065  0.06769804  0.6608868  0.15485154\n",
       "                 PC6        PC7        PC8        PC9         PC10       \n",
       "CHP_323-03_cfDNA  0.8869808  1.0809660 -1.8005925 -1.50986109  0.26102737\n",
       "CHP_323-05_cfDNA  0.3084909 -1.6981223 -0.8380078 -0.36609315  0.70883303\n",
       "CHP_324-04_cfDNA  0.1924127 -0.1858385 -0.2642570 -0.18545217  0.39428757\n",
       "CHP_324-05_cfDNA  0.4949083 -0.2068940 -0.3302963 -0.27659018 -0.02188041\n",
       "CHP_326-05_cfDNA  0.6991146  0.3068189  0.6303601  0.88435273  0.37676333\n",
       "CHP_328-05_cfDNA -0.7117561 -0.2064226  0.1944209 -0.03176118 -0.01432308\n",
       "                 PC11       PC12          PC13       \n",
       "CHP_323-03_cfDNA -1.3018701 -0.4439798428  0.03704843\n",
       "CHP_323-05_cfDNA -0.6825703  0.1816493829 -0.06508933\n",
       "CHP_324-04_cfDNA -0.1183820  0.1349846217 -0.20298198\n",
       "CHP_324-05_cfDNA -0.1707117  0.0941779720 -0.10720903\n",
       "CHP_326-05_cfDNA -0.1045811  0.7938390648  0.10374633\n",
       "CHP_328-05_cfDNA  0.2282086 -0.0008477003 -0.09297560"
      ]
     },
     "metadata": {},
     "output_type": "display_data"
    }
   ],
   "source": [
    "head(out)"
   ]
  },
  {
   "cell_type": "code",
   "execution_count": 28,
   "metadata": {
    "vscode": {
     "languageId": "r"
    }
   },
   "outputs": [],
   "source": [
    "p0 <- fviz_pca_ind(mypca,geom = \"point\", pointshape = 16, pointsize = 2, alpha = 1,\n",
    "                    ellipse.alpha = 0, invisible=\"quali\", repel = TRUE,\n",
    "                       title = \"PCA of frequent J genes (n = 13)\")"
   ]
  },
  {
   "cell_type": "code",
   "execution_count": 29,
   "metadata": {
    "vscode": {
     "languageId": "r"
    }
   },
   "outputs": [
    {
     "data": {
      "image/png": "[encoded data removed]",
      "text/plain": [
       "plot without title"
      ]
     },
     "metadata": {
      "image/png": {
       "height": 420,
       "width": 420
      }
     },
     "output_type": "display_data"
    }
   ],
   "source": [
    "p0"
   ]
  },
  {
   "cell_type": "code",
   "execution_count": 30,
   "metadata": {
    "vscode": {
     "languageId": "r"
    }
   },
   "outputs": [],
   "source": [
    "readr::write_rds(mydf, paste0(datapath, \"/capTCRseq/INT_cfDNA_J_PCA_postqc.rds\"))"
   ]
  },
  {
   "cell_type": "markdown",
   "metadata": {},
   "source": []
  }
 ],
 "metadata": {
  "kernelspec": {
   "display_name": "R 4.0",
   "language": "R",
   "name": "ir40"
  },
  "language_info": {
   "codemirror_mode": "r",
   "file_extension": ".r",
   "mimetype": "text/x-r-source",
   "name": "R",
   "pygments_lexer": "r",
   "version": "4.2.2"
  },
  "orig_nbformat": 4,
  "vscode": {
   "interpreter": {
    "hash": "aee8b7b246df8f9039afb4144a1f6fd8d2ca17a180786b69acc140d282b71a49"
   }
  }
 },
 "nbformat": 4,
 "nbformat_minor": 2
}

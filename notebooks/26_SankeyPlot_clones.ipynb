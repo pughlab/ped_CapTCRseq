{
 "cells": [
  {
   "cell_type": "markdown",
   "metadata": {},
   "source": [
    "# Dependencies"
   ]
  },
  {
   "cell_type": "code",
   "execution_count": 1,
   "metadata": {
    "vscode": {
     "languageId": "r"
    }
   },
   "outputs": [
    {
     "data": {
      "text/html": [
       "'en_US.UTF-8/en_US.UTF-8/en_US.UTF-8/C/en_US.UTF-8/C'"
      ],
      "text/latex": [
       "'en\\_US.UTF-8/en\\_US.UTF-8/en\\_US.UTF-8/C/en\\_US.UTF-8/C'"
      ],
      "text/markdown": [
       "'en_US.UTF-8/en_US.UTF-8/en_US.UTF-8/C/en_US.UTF-8/C'"
      ],
      "text/plain": [
       "[1] \"en_US.UTF-8/en_US.UTF-8/en_US.UTF-8/C/en_US.UTF-8/C\""
      ]
     },
     "metadata": {},
     "output_type": "display_data"
    }
   ],
   "source": [
    "Sys.setlocale(category = \"LC_ALL\", locale = \"en_US.UTF-8\")"
   ]
  },
  {
   "cell_type": "code",
   "execution_count": 2,
   "metadata": {
    "scrolled": true,
    "vscode": {
     "languageId": "r"
    }
   },
   "outputs": [
    {
     "name": "stderr",
     "output_type": "stream",
     "text": [
      "\n",
      "Attaching package: ‘dplyr’\n",
      "\n",
      "\n",
      "The following objects are masked from ‘package:stats’:\n",
      "\n",
      "    filter, lag\n",
      "\n",
      "\n",
      "The following objects are masked from ‘package:base’:\n",
      "\n",
      "    intersect, setdiff, setequal, union\n",
      "\n",
      "\n"
     ]
    }
   ],
   "source": [
    "library(randomcoloR)\n",
    "library(ggsankey)\n",
    "library(dplyr)"
   ]
  },
  {
   "cell_type": "markdown",
   "metadata": {},
   "source": [
    "# Functions"
   ]
  },
  {
   "cell_type": "code",
   "execution_count": 3,
   "metadata": {
    "vscode": {
     "languageId": "r"
    }
   },
   "outputs": [
    {
     "name": "stderr",
     "output_type": "stream",
     "text": [
      "Loading required package: ggalluvial\n",
      "\n"
     ]
    }
   ],
   "source": [
    "source(\"/Users/anabbi/git/ped_CapTCRseq/R/ggplot2_theme.R\")\n",
    "source(\"/Users/anabbi/git/ped_CapTCRseq/R/color_schemes.R\")\n",
    "source(\"/Users/anabbi/git/ped_CapTCRseq/R/Misc_functions.R\")\n",
    "source(\"/Users/anabbi/git/ped_CapTCRseq/R/clonetrack.R\")"
   ]
  },
  {
   "cell_type": "markdown",
   "metadata": {},
   "source": [
    "# Paths"
   ]
  },
  {
   "cell_type": "code",
   "execution_count": 4,
   "metadata": {
    "vscode": {
     "languageId": "r"
    }
   },
   "outputs": [],
   "source": [
    "datapath <- \"/Users/anabbi/OneDrive - UHN/Documents/INTERCEPT/Data/\"\n",
    "plotpath <- \"/Users/anabbi/OneDrive - UHN/Documents/INTERCEPT/Plots/\"\n",
    "manifestpath <- \"/Users/anabbi/OneDrive - UHN/Documents/INTERCEPT/Manifests/\"\n",
    "gitpath <- \"/Users/anabbi/git/ped_CapTCRseq/\""
   ]
  },
  {
   "cell_type": "code",
   "execution_count": 5,
   "metadata": {
    "vscode": {
     "languageId": "r"
    }
   },
   "outputs": [],
   "source": [
    "h4hpath <- \"/Users/anabbi/Desktop/H4H/INTERCEPT/\""
   ]
  },
  {
   "cell_type": "markdown",
   "metadata": {},
   "source": [
    "# Main"
   ]
  },
  {
   "cell_type": "code",
   "execution_count": 6,
   "metadata": {
    "vscode": {
     "languageId": "r"
    }
   },
   "outputs": [],
   "source": [
    "meta_div <- readr::read_rds(paste0(datapath, \"capTCRseq/meta_div_goodsamples.rds\"))"
   ]
  },
  {
   "cell_type": "code",
   "execution_count": 7,
   "metadata": {
    "vscode": {
     "languageId": "r"
    }
   },
   "outputs": [],
   "source": [
    "meta_div <- meta_div[ !is.na(meta_div$TRB),]"
   ]
  },
  {
   "cell_type": "code",
   "execution_count": 8,
   "metadata": {
    "vscode": {
     "languageId": "r"
    }
   },
   "outputs": [
    {
     "data": {
      "text/html": [
       "<style>\n",
       ".list-inline {list-style: none; margin:0; padding: 0}\n",
       ".list-inline>li {display: inline-block}\n",
       ".list-inline>li:not(:last-child)::after {content: \"\\00b7\"; padding: 0 .5ex}\n",
       "</style>\n",
       "<ol class=list-inline><li>504</li><li>66</li></ol>\n"
      ],
      "text/latex": [
       "\\begin{enumerate*}\n",
       "\\item 504\n",
       "\\item 66\n",
       "\\end{enumerate*}\n"
      ],
      "text/markdown": [
       "1. 504\n",
       "2. 66\n",
       "\n",
       "\n"
      ],
      "text/plain": [
       "[1] 504  66"
      ]
     },
     "metadata": {},
     "output_type": "display_data"
    }
   ],
   "source": [
    "dim(meta_div)"
   ]
  },
  {
   "cell_type": "code",
   "execution_count": 9,
   "metadata": {
    "vscode": {
     "languageId": "r"
    }
   },
   "outputs": [
    {
     "data": {
      "text/plain": [
       "\n",
       "  ALCL    ALL    AML   ARMS     BL    BLL    CML  DLBCL   ERMS    EWS     HB \n",
       "     9     99     45      6     23     10     13     12     23     34     16 \n",
       "    HD HR ALL    LFS  MS NB     NB Normal     OS  PMBCL SR ALL  T-ALL  WILMS \n",
       "    38     53     10      1     13     14     48      8      7     16      6 "
      ]
     },
     "metadata": {},
     "output_type": "display_data"
    }
   ],
   "source": [
    "table(meta_div$Disease_type)"
   ]
  },
  {
   "cell_type": "code",
   "execution_count": 10,
   "metadata": {
    "vscode": {
     "languageId": "r"
    }
   },
   "outputs": [],
   "source": [
    "# remove LFS and Normal\n",
    "meta_div <- meta_div[meta_div$Disease_type != \"LFS\",]\n",
    "meta_div <- meta_div[meta_div$Disease_type != \"Normal\",]"
   ]
  },
  {
   "cell_type": "code",
   "execution_count": 11,
   "metadata": {
    "vscode": {
     "languageId": "r"
    }
   },
   "outputs": [
    {
     "data": {
      "text/html": [
       "<table class=\"dataframe\">\n",
       "<caption>A data.frame: 6 x 20</caption>\n",
       "<thead>\n",
       "\t<tr><th></th><th scope=col>sample_id</th><th scope=col>Patient</th><th scope=col>cycle</th><th scope=col>FOLD</th><th scope=col>ATC</th><th scope=col>Age</th><th scope=col>Disease_type</th><th scope=col>TE_fold</th><th scope=col>CD3</th><th scope=col>EM</th><th scope=col>CM</th><th scope=col>Naïve</th><th scope=col>SCM</th><th scope=col>TE</th><th scope=col>EM%</th><th scope=col>CM%</th><th scope=col>Naïve%</th><th scope=col>SCM%</th><th scope=col>TE%</th><th scope=col>Naïve/TE</th></tr>\n",
       "\t<tr><th></th><th scope=col>&lt;chr&gt;</th><th scope=col>&lt;chr&gt;</th><th scope=col>&lt;chr&gt;</th><th scope=col>&lt;dbl&gt;</th><th scope=col>&lt;dbl&gt;</th><th scope=col>&lt;dbl&gt;</th><th scope=col>&lt;chr&gt;</th><th scope=col>&lt;dbl&gt;</th><th scope=col>&lt;int&gt;</th><th scope=col>&lt;int&gt;</th><th scope=col>&lt;int&gt;</th><th scope=col>&lt;int&gt;</th><th scope=col>&lt;int&gt;</th><th scope=col>&lt;int&gt;</th><th scope=col>&lt;dbl&gt;</th><th scope=col>&lt;dbl&gt;</th><th scope=col>&lt;dbl&gt;</th><th scope=col>&lt;dbl&gt;</th><th scope=col>&lt;dbl&gt;</th><th scope=col>&lt;dbl&gt;</th></tr>\n",
       "</thead>\n",
       "<tbody>\n",
       "\t<tr><th scope=row>673</th><td>CHP_394_01</td><td>CHP_394</td><td>X01</td><td>6.2</td><td>101.20</td><td>17</td><td>ERMS</td><td>6.2</td><td> 835</td><td>  0</td><td>115</td><td>433</td><td>27</td><td> 260</td><td> 0.00000</td><td>13.772455</td><td>51.856287</td><td>3.2335329</td><td>31.13772</td><td>1.66538462</td></tr>\n",
       "\t<tr><th scope=row>676</th><td>CHP_394_04</td><td>CHP_394</td><td>X04</td><td>0.7</td><td>140.70</td><td>17</td><td>ERMS</td><td>0.7</td><td>2194</td><td>280</td><td>809</td><td> 58</td><td> 2</td><td>1045</td><td>12.76208</td><td>36.873291</td><td> 2.643573</td><td>0.0911577</td><td>47.62990</td><td>0.05550239</td></tr>\n",
       "\t<tr><th scope=row>202</th><td>CHP_394_02</td><td>CHP_394</td><td>X02</td><td>0.7</td><td>235.04</td><td>17</td><td>ERMS</td><td>0.7</td><td> 712</td><td>  0</td><td> 20</td><td> 97</td><td>70</td><td> 525</td><td> 0.00000</td><td> 2.808989</td><td>13.623596</td><td>9.8314607</td><td>73.73596</td><td>0.18476190</td></tr>\n",
       "\t<tr><th scope=row>203</th><td>CHP_394_04</td><td>CHP_394</td><td>X04</td><td>0.7</td><td>140.70</td><td>17</td><td>ERMS</td><td>0.7</td><td>2194</td><td>280</td><td>809</td><td> 58</td><td> 2</td><td>1045</td><td>12.76208</td><td>36.873291</td><td> 2.643573</td><td>0.0911577</td><td>47.62990</td><td>0.05550239</td></tr>\n",
       "\t<tr><th scope=row>204</th><td>CHP_394_05</td><td>CHP_394</td><td>X05</td><td>0.7</td><td>394.40</td><td>17</td><td>ERMS</td><td>0.7</td><td> 295</td><td> 35</td><td>180</td><td>  0</td><td> 0</td><td>  80</td><td>11.86441</td><td>61.016949</td><td> 0.000000</td><td>0.0000000</td><td>27.11864</td><td>0.00000000</td></tr>\n",
       "\t<tr><th scope=row>3761</th><td>CHP_394_01</td><td>CHP_394</td><td>X00</td><td>6.2</td><td>101.20</td><td>17</td><td>ERMS</td><td>6.2</td><td> 835</td><td>  0</td><td>115</td><td>433</td><td>27</td><td> 260</td><td> 0.00000</td><td>13.772455</td><td>51.856287</td><td>3.2335329</td><td>31.13772</td><td>1.66538462</td></tr>\n",
       "</tbody>\n",
       "</table>\n"
      ],
      "text/latex": [
       "A data.frame: 6 x 20\n",
       "\\begin{tabular}{r|llllllllllllllllllll}\n",
       "  & sample\\_id & Patient & cycle & FOLD & ATC & Age & Disease\\_type & TE\\_fold & CD3 & EM & CM & Naïve & SCM & TE & EM\\% & CM\\% & Naïve\\% & SCM\\% & TE\\% & Naïve/TE\\\\\n",
       "  & <chr> & <chr> & <chr> & <dbl> & <dbl> & <dbl> & <chr> & <dbl> & <int> & <int> & <int> & <int> & <int> & <int> & <dbl> & <dbl> & <dbl> & <dbl> & <dbl> & <dbl>\\\\\n",
       "\\hline\n",
       "\t673 & CHP\\_394\\_01 & CHP\\_394 & X01 & 6.2 & 101.20 & 17 & ERMS & 6.2 &  835 &   0 & 115 & 433 & 27 &  260 &  0.00000 & 13.772455 & 51.856287 & 3.2335329 & 31.13772 & 1.66538462\\\\\n",
       "\t676 & CHP\\_394\\_04 & CHP\\_394 & X04 & 0.7 & 140.70 & 17 & ERMS & 0.7 & 2194 & 280 & 809 &  58 &  2 & 1045 & 12.76208 & 36.873291 &  2.643573 & 0.0911577 & 47.62990 & 0.05550239\\\\\n",
       "\t202 & CHP\\_394\\_02 & CHP\\_394 & X02 & 0.7 & 235.04 & 17 & ERMS & 0.7 &  712 &   0 &  20 &  97 & 70 &  525 &  0.00000 &  2.808989 & 13.623596 & 9.8314607 & 73.73596 & 0.18476190\\\\\n",
       "\t203 & CHP\\_394\\_04 & CHP\\_394 & X04 & 0.7 & 140.70 & 17 & ERMS & 0.7 & 2194 & 280 & 809 &  58 &  2 & 1045 & 12.76208 & 36.873291 &  2.643573 & 0.0911577 & 47.62990 & 0.05550239\\\\\n",
       "\t204 & CHP\\_394\\_05 & CHP\\_394 & X05 & 0.7 & 394.40 & 17 & ERMS & 0.7 &  295 &  35 & 180 &   0 &  0 &   80 & 11.86441 & 61.016949 &  0.000000 & 0.0000000 & 27.11864 & 0.00000000\\\\\n",
       "\t3761 & CHP\\_394\\_01 & CHP\\_394 & X00 & 6.2 & 101.20 & 17 & ERMS & 6.2 &  835 &   0 & 115 & 433 & 27 &  260 &  0.00000 & 13.772455 & 51.856287 & 3.2335329 & 31.13772 & 1.66538462\\\\\n",
       "\\end{tabular}\n"
      ],
      "text/markdown": [
       "\n",
       "A data.frame: 6 x 20\n",
       "\n",
       "| <!--/--> | sample_id &lt;chr&gt; | Patient &lt;chr&gt; | cycle &lt;chr&gt; | FOLD &lt;dbl&gt; | ATC &lt;dbl&gt; | Age &lt;dbl&gt; | Disease_type &lt;chr&gt; | TE_fold &lt;dbl&gt; | CD3 &lt;int&gt; | EM &lt;int&gt; | CM &lt;int&gt; | Naïve &lt;int&gt; | SCM &lt;int&gt; | TE &lt;int&gt; | EM% &lt;dbl&gt; | CM% &lt;dbl&gt; | Naïve% &lt;dbl&gt; | SCM% &lt;dbl&gt; | TE% &lt;dbl&gt; | Naïve/TE &lt;dbl&gt; |\n",
       "|---|---|---|---|---|---|---|---|---|---|---|---|---|---|---|---|---|---|---|---|---|\n",
       "| 673 | CHP_394_01 | CHP_394 | X01 | 6.2 | 101.20 | 17 | ERMS | 6.2 |  835 |   0 | 115 | 433 | 27 |  260 |  0.00000 | 13.772455 | 51.856287 | 3.2335329 | 31.13772 | 1.66538462 |\n",
       "| 676 | CHP_394_04 | CHP_394 | X04 | 0.7 | 140.70 | 17 | ERMS | 0.7 | 2194 | 280 | 809 |  58 |  2 | 1045 | 12.76208 | 36.873291 |  2.643573 | 0.0911577 | 47.62990 | 0.05550239 |\n",
       "| 202 | CHP_394_02 | CHP_394 | X02 | 0.7 | 235.04 | 17 | ERMS | 0.7 |  712 |   0 |  20 |  97 | 70 |  525 |  0.00000 |  2.808989 | 13.623596 | 9.8314607 | 73.73596 | 0.18476190 |\n",
       "| 203 | CHP_394_04 | CHP_394 | X04 | 0.7 | 140.70 | 17 | ERMS | 0.7 | 2194 | 280 | 809 |  58 |  2 | 1045 | 12.76208 | 36.873291 |  2.643573 | 0.0911577 | 47.62990 | 0.05550239 |\n",
       "| 204 | CHP_394_05 | CHP_394 | X05 | 0.7 | 394.40 | 17 | ERMS | 0.7 |  295 |  35 | 180 |   0 |  0 |   80 | 11.86441 | 61.016949 |  0.000000 | 0.0000000 | 27.11864 | 0.00000000 |\n",
       "| 3761 | CHP_394_01 | CHP_394 | X00 | 6.2 | 101.20 | 17 | ERMS | 6.2 |  835 |   0 | 115 | 433 | 27 |  260 |  0.00000 | 13.772455 | 51.856287 | 3.2335329 | 31.13772 | 1.66538462 |\n",
       "\n"
      ],
      "text/plain": [
       "     sample_id  Patient cycle FOLD ATC    Age Disease_type TE_fold CD3  EM  CM \n",
       "673  CHP_394_01 CHP_394 X01   6.2  101.20 17  ERMS         6.2      835   0 115\n",
       "676  CHP_394_04 CHP_394 X04   0.7  140.70 17  ERMS         0.7     2194 280 809\n",
       "202  CHP_394_02 CHP_394 X02   0.7  235.04 17  ERMS         0.7      712   0  20\n",
       "203  CHP_394_04 CHP_394 X04   0.7  140.70 17  ERMS         0.7     2194 280 809\n",
       "204  CHP_394_05 CHP_394 X05   0.7  394.40 17  ERMS         0.7      295  35 180\n",
       "3761 CHP_394_01 CHP_394 X00   6.2  101.20 17  ERMS         6.2      835   0 115\n",
       "     Naïve SCM TE   EM%      CM%       Naïve%    SCM%      TE%      Naïve/TE  \n",
       "673  433   27   260  0.00000 13.772455 51.856287 3.2335329 31.13772 1.66538462\n",
       "676   58    2  1045 12.76208 36.873291  2.643573 0.0911577 47.62990 0.05550239\n",
       "202   97   70   525  0.00000  2.808989 13.623596 9.8314607 73.73596 0.18476190\n",
       "203   58    2  1045 12.76208 36.873291  2.643573 0.0911577 47.62990 0.05550239\n",
       "204    0    0    80 11.86441 61.016949  0.000000 0.0000000 27.11864 0.00000000\n",
       "3761 433   27   260  0.00000 13.772455 51.856287 3.2335329 31.13772 1.66538462"
      ]
     },
     "metadata": {},
     "output_type": "display_data"
    }
   ],
   "source": [
    "meta_div[ meta_div$Patient == \"CHP_394\",1:20]"
   ]
  },
  {
   "cell_type": "code",
   "execution_count": 12,
   "metadata": {
    "vscode": {
     "languageId": "r"
    }
   },
   "outputs": [
    {
     "data": {
      "text/html": [
       "<table class=\"dataframe\">\n",
       "<caption>A data.frame: 5 x 6</caption>\n",
       "<thead>\n",
       "\t<tr><th></th><th scope=col>Patient</th><th scope=col>cycle</th><th scope=col>sampletype</th><th scope=col>TRB</th><th scope=col>Reads</th><th scope=col>file</th></tr>\n",
       "\t<tr><th></th><th scope=col>&lt;chr&gt;</th><th scope=col>&lt;chr&gt;</th><th scope=col>&lt;chr&gt;</th><th scope=col>&lt;int&gt;</th><th scope=col>&lt;int&gt;</th><th scope=col>&lt;chr&gt;</th></tr>\n",
       "</thead>\n",
       "<tbody>\n",
       "\t<tr><th scope=row>638</th><td>CHP_387</td><td>X01</td><td>PBMC </td><td>279</td><td>14179</td><td>batch8_14Jan2020/mixcr/clones/CLONES_TRBCHP_387-01-PBMC-DNA.txt                </td></tr>\n",
       "\t<tr><th scope=row>640</th><td>CHP_387</td><td>X03</td><td>PBMC </td><td> 58</td><td>  343</td><td>batch11_23Apr2020/mixcr/clones/CLONES_TRBCHP_387-03_PBMC_DNA.txt               </td></tr>\n",
       "\t<tr><th scope=row>173</th><td>CHP_387</td><td>X01</td><td>cfDNA</td><td>  5</td><td>15263</td><td>batch7_cfDNA_29Jun2020/mixcr/clones/CLONES_TRBCHP_387-01_cfDNA.txt             </td></tr>\n",
       "\t<tr><th scope=row>174</th><td>CHP_387</td><td>X02</td><td>cfDNA</td><td>  4</td><td> 1749</td><td>remaining_batch_2_cfDNA_15April2021/mixcr/clones/CLONES_TRBCHP_387-02_cfDNA.txt</td></tr>\n",
       "\t<tr><th scope=row>175</th><td>CHP_387</td><td>X03</td><td>cfDNA</td><td> 10</td><td> 8141</td><td>batch11_cfDNA_11Sep2020/mixcr/clones/CLONES_TRBCHP_387-03_cfDNA.txt            </td></tr>\n",
       "</tbody>\n",
       "</table>\n"
      ],
      "text/latex": [
       "A data.frame: 5 x 6\n",
       "\\begin{tabular}{r|llllll}\n",
       "  & Patient & cycle & sampletype & TRB & Reads & file\\\\\n",
       "  & <chr> & <chr> & <chr> & <int> & <int> & <chr>\\\\\n",
       "\\hline\n",
       "\t638 & CHP\\_387 & X01 & PBMC  & 279 & 14179 & batch8\\_14Jan2020/mixcr/clones/CLONES\\_TRBCHP\\_387-01-PBMC-DNA.txt                \\\\\n",
       "\t640 & CHP\\_387 & X03 & PBMC  &  58 &   343 & batch11\\_23Apr2020/mixcr/clones/CLONES\\_TRBCHP\\_387-03\\_PBMC\\_DNA.txt               \\\\\n",
       "\t173 & CHP\\_387 & X01 & cfDNA &   5 & 15263 & batch7\\_cfDNA\\_29Jun2020/mixcr/clones/CLONES\\_TRBCHP\\_387-01\\_cfDNA.txt             \\\\\n",
       "\t174 & CHP\\_387 & X02 & cfDNA &   4 &  1749 & remaining\\_batch\\_2\\_cfDNA\\_15April2021/mixcr/clones/CLONES\\_TRBCHP\\_387-02\\_cfDNA.txt\\\\\n",
       "\t175 & CHP\\_387 & X03 & cfDNA &  10 &  8141 & batch11\\_cfDNA\\_11Sep2020/mixcr/clones/CLONES\\_TRBCHP\\_387-03\\_cfDNA.txt            \\\\\n",
       "\\end{tabular}\n"
      ],
      "text/markdown": [
       "\n",
       "A data.frame: 5 x 6\n",
       "\n",
       "| <!--/--> | Patient &lt;chr&gt; | cycle &lt;chr&gt; | sampletype &lt;chr&gt; | TRB &lt;int&gt; | Reads &lt;int&gt; | file &lt;chr&gt; |\n",
       "|---|---|---|---|---|---|---|\n",
       "| 638 | CHP_387 | X01 | PBMC  | 279 | 14179 | batch8_14Jan2020/mixcr/clones/CLONES_TRBCHP_387-01-PBMC-DNA.txt                 |\n",
       "| 640 | CHP_387 | X03 | PBMC  |  58 |   343 | batch11_23Apr2020/mixcr/clones/CLONES_TRBCHP_387-03_PBMC_DNA.txt                |\n",
       "| 173 | CHP_387 | X01 | cfDNA |   5 | 15263 | batch7_cfDNA_29Jun2020/mixcr/clones/CLONES_TRBCHP_387-01_cfDNA.txt              |\n",
       "| 174 | CHP_387 | X02 | cfDNA |   4 |  1749 | remaining_batch_2_cfDNA_15April2021/mixcr/clones/CLONES_TRBCHP_387-02_cfDNA.txt |\n",
       "| 175 | CHP_387 | X03 | cfDNA |  10 |  8141 | batch11_cfDNA_11Sep2020/mixcr/clones/CLONES_TRBCHP_387-03_cfDNA.txt             |\n",
       "\n"
      ],
      "text/plain": [
       "    Patient cycle sampletype TRB Reads\n",
       "638 CHP_387 X01   PBMC       279 14179\n",
       "640 CHP_387 X03   PBMC        58   343\n",
       "173 CHP_387 X01   cfDNA        5 15263\n",
       "174 CHP_387 X02   cfDNA        4  1749\n",
       "175 CHP_387 X03   cfDNA       10  8141\n",
       "    file                                                                           \n",
       "638 batch8_14Jan2020/mixcr/clones/CLONES_TRBCHP_387-01-PBMC-DNA.txt                \n",
       "640 batch11_23Apr2020/mixcr/clones/CLONES_TRBCHP_387-03_PBMC_DNA.txt               \n",
       "173 batch7_cfDNA_29Jun2020/mixcr/clones/CLONES_TRBCHP_387-01_cfDNA.txt             \n",
       "174 remaining_batch_2_cfDNA_15April2021/mixcr/clones/CLONES_TRBCHP_387-02_cfDNA.txt\n",
       "175 batch11_cfDNA_11Sep2020/mixcr/clones/CLONES_TRBCHP_387-03_cfDNA.txt            "
      ]
     },
     "metadata": {},
     "output_type": "display_data"
    }
   ],
   "source": [
    "meta_div[ meta_div$Patient == \"CHP_387\",c(\"Patient\", \"cycle\", \"sampletype\", \"TRB\", \"Reads\", \"file\")]"
   ]
  },
  {
   "cell_type": "code",
   "execution_count": 13,
   "metadata": {
    "vscode": {
     "languageId": "r"
    }
   },
   "outputs": [],
   "source": [
    "mytab <- as.data.frame.matrix(table(meta_div$Patient, meta_div$sampletype) )"
   ]
  },
  {
   "cell_type": "code",
   "execution_count": 14,
   "metadata": {
    "vscode": {
     "languageId": "r"
    }
   },
   "outputs": [],
   "source": [
    "morethanone <- mytab[rowSums(mytab) > 1, ]"
   ]
  },
  {
   "cell_type": "code",
   "execution_count": 15,
   "metadata": {
    "vscode": {
     "languageId": "r"
    }
   },
   "outputs": [
    {
     "data": {
      "text/html": [
       "<table class=\"dataframe\">\n",
       "<caption>A data.frame: 6 x 3</caption>\n",
       "<thead>\n",
       "\t<tr><th></th><th scope=col>cfDNA</th><th scope=col>PBMC</th><th scope=col>Tumor</th></tr>\n",
       "\t<tr><th></th><th scope=col>&lt;int&gt;</th><th scope=col>&lt;int&gt;</th><th scope=col>&lt;int&gt;</th></tr>\n",
       "</thead>\n",
       "<tbody>\n",
       "\t<tr><th scope=row>CHP_323</th><td>2</td><td>2</td><td>0</td></tr>\n",
       "\t<tr><th scope=row>CHP_324</th><td>2</td><td>1</td><td>0</td></tr>\n",
       "\t<tr><th scope=row>CHP_328</th><td>1</td><td>2</td><td>0</td></tr>\n",
       "\t<tr><th scope=row>CHP_330</th><td>1</td><td>1</td><td>0</td></tr>\n",
       "\t<tr><th scope=row>CHP_331</th><td>1</td><td>2</td><td>0</td></tr>\n",
       "\t<tr><th scope=row>CHP_334</th><td>3</td><td>0</td><td>0</td></tr>\n",
       "</tbody>\n",
       "</table>\n"
      ],
      "text/latex": [
       "A data.frame: 6 x 3\n",
       "\\begin{tabular}{r|lll}\n",
       "  & cfDNA & PBMC & Tumor\\\\\n",
       "  & <int> & <int> & <int>\\\\\n",
       "\\hline\n",
       "\tCHP\\_323 & 2 & 2 & 0\\\\\n",
       "\tCHP\\_324 & 2 & 1 & 0\\\\\n",
       "\tCHP\\_328 & 1 & 2 & 0\\\\\n",
       "\tCHP\\_330 & 1 & 1 & 0\\\\\n",
       "\tCHP\\_331 & 1 & 2 & 0\\\\\n",
       "\tCHP\\_334 & 3 & 0 & 0\\\\\n",
       "\\end{tabular}\n"
      ],
      "text/markdown": [
       "\n",
       "A data.frame: 6 x 3\n",
       "\n",
       "| <!--/--> | cfDNA &lt;int&gt; | PBMC &lt;int&gt; | Tumor &lt;int&gt; |\n",
       "|---|---|---|---|\n",
       "| CHP_323 | 2 | 2 | 0 |\n",
       "| CHP_324 | 2 | 1 | 0 |\n",
       "| CHP_328 | 1 | 2 | 0 |\n",
       "| CHP_330 | 1 | 1 | 0 |\n",
       "| CHP_331 | 1 | 2 | 0 |\n",
       "| CHP_334 | 3 | 0 | 0 |\n",
       "\n"
      ],
      "text/plain": [
       "        cfDNA PBMC Tumor\n",
       "CHP_323 2     2    0    \n",
       "CHP_324 2     1    0    \n",
       "CHP_328 1     2    0    \n",
       "CHP_330 1     1    0    \n",
       "CHP_331 1     2    0    \n",
       "CHP_334 3     0    0    "
      ]
     },
     "metadata": {},
     "output_type": "display_data"
    },
    {
     "data": {
      "text/html": [
       "<style>\n",
       ".list-inline {list-style: none; margin:0; padding: 0}\n",
       ".list-inline>li {display: inline-block}\n",
       ".list-inline>li:not(:last-child)::after {content: \"\\00b7\"; padding: 0 .5ex}\n",
       "</style>\n",
       "<ol class=list-inline><li>86</li><li>3</li></ol>\n"
      ],
      "text/latex": [
       "\\begin{enumerate*}\n",
       "\\item 86\n",
       "\\item 3\n",
       "\\end{enumerate*}\n"
      ],
      "text/markdown": [
       "1. 86\n",
       "2. 3\n",
       "\n",
       "\n"
      ],
      "text/plain": [
       "[1] 86  3"
      ]
     },
     "metadata": {},
     "output_type": "display_data"
    }
   ],
   "source": [
    "head(morethanone)\n",
    "dim(morethanone)"
   ]
  },
  {
   "cell_type": "markdown",
   "metadata": {},
   "source": [
    "# some metrics"
   ]
  },
  {
   "cell_type": "code",
   "execution_count": 16,
   "metadata": {
    "vscode": {
     "languageId": "r"
    }
   },
   "outputs": [
    {
     "data": {
      "text/html": [
       "<table class=\"dataframe\">\n",
       "<caption>A data.frame: 5 x 6</caption>\n",
       "<thead>\n",
       "\t<tr><th></th><th scope=col>Patient</th><th scope=col>cycle</th><th scope=col>sampletype</th><th scope=col>TRB</th><th scope=col>Reads</th><th scope=col>file</th></tr>\n",
       "\t<tr><th></th><th scope=col>&lt;chr&gt;</th><th scope=col>&lt;chr&gt;</th><th scope=col>&lt;chr&gt;</th><th scope=col>&lt;int&gt;</th><th scope=col>&lt;int&gt;</th><th scope=col>&lt;chr&gt;</th></tr>\n",
       "</thead>\n",
       "<tbody>\n",
       "\t<tr><th scope=row>638</th><td>CHP_387</td><td>X01</td><td>PBMC </td><td>279</td><td>14179</td><td>batch8_14Jan2020/mixcr/clones/CLONES_TRBCHP_387-01-PBMC-DNA.txt                </td></tr>\n",
       "\t<tr><th scope=row>640</th><td>CHP_387</td><td>X03</td><td>PBMC </td><td> 58</td><td>  343</td><td>batch11_23Apr2020/mixcr/clones/CLONES_TRBCHP_387-03_PBMC_DNA.txt               </td></tr>\n",
       "\t<tr><th scope=row>173</th><td>CHP_387</td><td>X01</td><td>cfDNA</td><td>  5</td><td>15263</td><td>batch7_cfDNA_29Jun2020/mixcr/clones/CLONES_TRBCHP_387-01_cfDNA.txt             </td></tr>\n",
       "\t<tr><th scope=row>174</th><td>CHP_387</td><td>X02</td><td>cfDNA</td><td>  4</td><td> 1749</td><td>remaining_batch_2_cfDNA_15April2021/mixcr/clones/CLONES_TRBCHP_387-02_cfDNA.txt</td></tr>\n",
       "\t<tr><th scope=row>175</th><td>CHP_387</td><td>X03</td><td>cfDNA</td><td> 10</td><td> 8141</td><td>batch11_cfDNA_11Sep2020/mixcr/clones/CLONES_TRBCHP_387-03_cfDNA.txt            </td></tr>\n",
       "</tbody>\n",
       "</table>\n"
      ],
      "text/latex": [
       "A data.frame: 5 x 6\n",
       "\\begin{tabular}{r|llllll}\n",
       "  & Patient & cycle & sampletype & TRB & Reads & file\\\\\n",
       "  & <chr> & <chr> & <chr> & <int> & <int> & <chr>\\\\\n",
       "\\hline\n",
       "\t638 & CHP\\_387 & X01 & PBMC  & 279 & 14179 & batch8\\_14Jan2020/mixcr/clones/CLONES\\_TRBCHP\\_387-01-PBMC-DNA.txt                \\\\\n",
       "\t640 & CHP\\_387 & X03 & PBMC  &  58 &   343 & batch11\\_23Apr2020/mixcr/clones/CLONES\\_TRBCHP\\_387-03\\_PBMC\\_DNA.txt               \\\\\n",
       "\t173 & CHP\\_387 & X01 & cfDNA &   5 & 15263 & batch7\\_cfDNA\\_29Jun2020/mixcr/clones/CLONES\\_TRBCHP\\_387-01\\_cfDNA.txt             \\\\\n",
       "\t174 & CHP\\_387 & X02 & cfDNA &   4 &  1749 & remaining\\_batch\\_2\\_cfDNA\\_15April2021/mixcr/clones/CLONES\\_TRBCHP\\_387-02\\_cfDNA.txt\\\\\n",
       "\t175 & CHP\\_387 & X03 & cfDNA &  10 &  8141 & batch11\\_cfDNA\\_11Sep2020/mixcr/clones/CLONES\\_TRBCHP\\_387-03\\_cfDNA.txt            \\\\\n",
       "\\end{tabular}\n"
      ],
      "text/markdown": [
       "\n",
       "A data.frame: 5 x 6\n",
       "\n",
       "| <!--/--> | Patient &lt;chr&gt; | cycle &lt;chr&gt; | sampletype &lt;chr&gt; | TRB &lt;int&gt; | Reads &lt;int&gt; | file &lt;chr&gt; |\n",
       "|---|---|---|---|---|---|---|\n",
       "| 638 | CHP_387 | X01 | PBMC  | 279 | 14179 | batch8_14Jan2020/mixcr/clones/CLONES_TRBCHP_387-01-PBMC-DNA.txt                 |\n",
       "| 640 | CHP_387 | X03 | PBMC  |  58 |   343 | batch11_23Apr2020/mixcr/clones/CLONES_TRBCHP_387-03_PBMC_DNA.txt                |\n",
       "| 173 | CHP_387 | X01 | cfDNA |   5 | 15263 | batch7_cfDNA_29Jun2020/mixcr/clones/CLONES_TRBCHP_387-01_cfDNA.txt              |\n",
       "| 174 | CHP_387 | X02 | cfDNA |   4 |  1749 | remaining_batch_2_cfDNA_15April2021/mixcr/clones/CLONES_TRBCHP_387-02_cfDNA.txt |\n",
       "| 175 | CHP_387 | X03 | cfDNA |  10 |  8141 | batch11_cfDNA_11Sep2020/mixcr/clones/CLONES_TRBCHP_387-03_cfDNA.txt             |\n",
       "\n"
      ],
      "text/plain": [
       "    Patient cycle sampletype TRB Reads\n",
       "638 CHP_387 X01   PBMC       279 14179\n",
       "640 CHP_387 X03   PBMC        58   343\n",
       "173 CHP_387 X01   cfDNA        5 15263\n",
       "174 CHP_387 X02   cfDNA        4  1749\n",
       "175 CHP_387 X03   cfDNA       10  8141\n",
       "    file                                                                           \n",
       "638 batch8_14Jan2020/mixcr/clones/CLONES_TRBCHP_387-01-PBMC-DNA.txt                \n",
       "640 batch11_23Apr2020/mixcr/clones/CLONES_TRBCHP_387-03_PBMC_DNA.txt               \n",
       "173 batch7_cfDNA_29Jun2020/mixcr/clones/CLONES_TRBCHP_387-01_cfDNA.txt             \n",
       "174 remaining_batch_2_cfDNA_15April2021/mixcr/clones/CLONES_TRBCHP_387-02_cfDNA.txt\n",
       "175 batch11_cfDNA_11Sep2020/mixcr/clones/CLONES_TRBCHP_387-03_cfDNA.txt            "
      ]
     },
     "metadata": {},
     "output_type": "display_data"
    }
   ],
   "source": [
    "meta_div[ meta_div$Patient == \"CHP_387\",c(\"Patient\", \"cycle\", \"sampletype\", \"TRB\", \"Reads\", \"file\")]"
   ]
  },
  {
   "cell_type": "code",
   "execution_count": 17,
   "metadata": {
    "vscode": {
     "languageId": "r"
    }
   },
   "outputs": [
    {
     "data": {
      "text/html": [
       "<style>\n",
       ".list-inline {list-style: none; margin:0; padding: 0}\n",
       ".list-inline>li {display: inline-block}\n",
       ".list-inline>li:not(:last-child)::after {content: \"\\00b7\"; padding: 0 .5ex}\n",
       "</style>\n",
       "<ol class=list-inline><li>480</li><li>66</li></ol>\n"
      ],
      "text/latex": [
       "\\begin{enumerate*}\n",
       "\\item 480\n",
       "\\item 66\n",
       "\\end{enumerate*}\n"
      ],
      "text/markdown": [
       "1. 480\n",
       "2. 66\n",
       "\n",
       "\n"
      ],
      "text/plain": [
       "[1] 480  66"
      ]
     },
     "metadata": {},
     "output_type": "display_data"
    }
   ],
   "source": [
    "dim(meta_div)"
   ]
  },
  {
   "cell_type": "code",
   "execution_count": 18,
   "metadata": {
    "vscode": {
     "languageId": "r"
    }
   },
   "outputs": [
    {
     "data": {
      "text/plain": [
       "\n",
       "CHP \n",
       "480 "
      ]
     },
     "metadata": {},
     "output_type": "display_data"
    }
   ],
   "source": [
    "table(meta_div$Group)"
   ]
  },
  {
   "cell_type": "code",
   "execution_count": 19,
   "metadata": {
    "vscode": {
     "languageId": "r"
    }
   },
   "outputs": [],
   "source": [
    "allTCRs <- sum(meta_div$TRB )"
   ]
  },
  {
   "cell_type": "code",
   "execution_count": 20,
   "metadata": {
    "vscode": {
     "languageId": "r"
    }
   },
   "outputs": [],
   "source": [
    "h4hpath <- \"/Users/anabbi/Desktop/H4H/INTERCEPT/NextSeq/\""
   ]
  },
  {
   "cell_type": "code",
   "execution_count": 21,
   "metadata": {
    "vscode": {
     "languageId": "r"
    }
   },
   "outputs": [
    {
     "data": {
      "text/html": [
       "<style>\n",
       ".list-inline {list-style: none; margin:0; padding: 0}\n",
       ".list-inline>li {display: inline-block}\n",
       ".list-inline>li:not(:last-child)::after {content: \"\\00b7\"; padding: 0 .5ex}\n",
       "</style>\n",
       "<ol class=list-inline><li>'sample_id'</li><li>'Patient'</li><li>'cycle'</li><li>'FOLD'</li><li>'ATC'</li><li>'Age'</li><li>'Disease_type'</li><li>'TE_fold'</li><li>'CD3'</li><li>'EM'</li><li>'CM'</li><li>'Naïve'</li><li>'SCM'</li><li>'TE'</li><li>'EM%'</li><li>'CM%'</li><li>'Naïve%'</li><li>'SCM%'</li><li>'TE%'</li><li>'Naïve/TE'</li><li>'N+CM+SCM/TE+EM'</li><li>'PD-1'</li><li>'PDL1'</li><li>'LAG3'</li><li>'TIM3'</li><li>'CTLA4'</li><li>'PD1%'</li><li>'PDL1%'</li><li>'LAG3%'</li><li>'TIM3%'</li><li>'CTLA4%'</li><li>'Any NCR'</li><li>'PD1 + LAG3 + TIM3'</li><li>'cancergroup'</li><li>'agegroup'</li><li>'foldgroup'</li><li>'Remission'</li><li>'Relapse'</li><li>'Transplant'</li><li>'CART'</li><li>'vital_status'</li><li>'LOF'</li><li>'TRB'</li><li>'Reads'</li><li>'CPKR'</li><li>'Average_reads'</li><li>'VMR'</li><li>'Max_reads'</li><li>'Singletons'</li><li>'Doubletons'</li><li>'qD'</li><li>'Sample_Coverage'</li><li>'observed_Richness'</li><li>'estimated_Richness'</li><li>'SE_Richeness'</li><li>'observed_Shannon'</li><li>'estimated_Shannon'</li><li>'SE_Shannon'</li><li>'observed_Simpson'</li><li>'estimated_Simpson'</li><li>'SE_Simpson'</li><li>'basename'</li><li>'file'</li><li>'sampletype'</li><li>'Group'</li><li>'log10shann'</li></ol>\n"
      ],
      "text/latex": [
       "\\begin{enumerate*}\n",
       "\\item 'sample\\_id'\n",
       "\\item 'Patient'\n",
       "\\item 'cycle'\n",
       "\\item 'FOLD'\n",
       "\\item 'ATC'\n",
       "\\item 'Age'\n",
       "\\item 'Disease\\_type'\n",
       "\\item 'TE\\_fold'\n",
       "\\item 'CD3'\n",
       "\\item 'EM'\n",
       "\\item 'CM'\n",
       "\\item 'Naïve'\n",
       "\\item 'SCM'\n",
       "\\item 'TE'\n",
       "\\item 'EM\\%'\n",
       "\\item 'CM\\%'\n",
       "\\item 'Naïve\\%'\n",
       "\\item 'SCM\\%'\n",
       "\\item 'TE\\%'\n",
       "\\item 'Naïve/TE'\n",
       "\\item 'N+CM+SCM/TE+EM'\n",
       "\\item 'PD-1'\n",
       "\\item 'PDL1'\n",
       "\\item 'LAG3'\n",
       "\\item 'TIM3'\n",
       "\\item 'CTLA4'\n",
       "\\item 'PD1\\%'\n",
       "\\item 'PDL1\\%'\n",
       "\\item 'LAG3\\%'\n",
       "\\item 'TIM3\\%'\n",
       "\\item 'CTLA4\\%'\n",
       "\\item 'Any NCR'\n",
       "\\item 'PD1 + LAG3 + TIM3'\n",
       "\\item 'cancergroup'\n",
       "\\item 'agegroup'\n",
       "\\item 'foldgroup'\n",
       "\\item 'Remission'\n",
       "\\item 'Relapse'\n",
       "\\item 'Transplant'\n",
       "\\item 'CART'\n",
       "\\item 'vital\\_status'\n",
       "\\item 'LOF'\n",
       "\\item 'TRB'\n",
       "\\item 'Reads'\n",
       "\\item 'CPKR'\n",
       "\\item 'Average\\_reads'\n",
       "\\item 'VMR'\n",
       "\\item 'Max\\_reads'\n",
       "\\item 'Singletons'\n",
       "\\item 'Doubletons'\n",
       "\\item 'qD'\n",
       "\\item 'Sample\\_Coverage'\n",
       "\\item 'observed\\_Richness'\n",
       "\\item 'estimated\\_Richness'\n",
       "\\item 'SE\\_Richeness'\n",
       "\\item 'observed\\_Shannon'\n",
       "\\item 'estimated\\_Shannon'\n",
       "\\item 'SE\\_Shannon'\n",
       "\\item 'observed\\_Simpson'\n",
       "\\item 'estimated\\_Simpson'\n",
       "\\item 'SE\\_Simpson'\n",
       "\\item 'basename'\n",
       "\\item 'file'\n",
       "\\item 'sampletype'\n",
       "\\item 'Group'\n",
       "\\item 'log10shann'\n",
       "\\end{enumerate*}\n"
      ],
      "text/markdown": [
       "1. 'sample_id'\n",
       "2. 'Patient'\n",
       "3. 'cycle'\n",
       "4. 'FOLD'\n",
       "5. 'ATC'\n",
       "6. 'Age'\n",
       "7. 'Disease_type'\n",
       "8. 'TE_fold'\n",
       "9. 'CD3'\n",
       "10. 'EM'\n",
       "11. 'CM'\n",
       "12. 'Naïve'\n",
       "13. 'SCM'\n",
       "14. 'TE'\n",
       "15. 'EM%'\n",
       "16. 'CM%'\n",
       "17. 'Naïve%'\n",
       "18. 'SCM%'\n",
       "19. 'TE%'\n",
       "20. 'Naïve/TE'\n",
       "21. 'N+CM+SCM/TE+EM'\n",
       "22. 'PD-1'\n",
       "23. 'PDL1'\n",
       "24. 'LAG3'\n",
       "25. 'TIM3'\n",
       "26. 'CTLA4'\n",
       "27. 'PD1%'\n",
       "28. 'PDL1%'\n",
       "29. 'LAG3%'\n",
       "30. 'TIM3%'\n",
       "31. 'CTLA4%'\n",
       "32. 'Any NCR'\n",
       "33. 'PD1 + LAG3 + TIM3'\n",
       "34. 'cancergroup'\n",
       "35. 'agegroup'\n",
       "36. 'foldgroup'\n",
       "37. 'Remission'\n",
       "38. 'Relapse'\n",
       "39. 'Transplant'\n",
       "40. 'CART'\n",
       "41. 'vital_status'\n",
       "42. 'LOF'\n",
       "43. 'TRB'\n",
       "44. 'Reads'\n",
       "45. 'CPKR'\n",
       "46. 'Average_reads'\n",
       "47. 'VMR'\n",
       "48. 'Max_reads'\n",
       "49. 'Singletons'\n",
       "50. 'Doubletons'\n",
       "51. 'qD'\n",
       "52. 'Sample_Coverage'\n",
       "53. 'observed_Richness'\n",
       "54. 'estimated_Richness'\n",
       "55. 'SE_Richeness'\n",
       "56. 'observed_Shannon'\n",
       "57. 'estimated_Shannon'\n",
       "58. 'SE_Shannon'\n",
       "59. 'observed_Simpson'\n",
       "60. 'estimated_Simpson'\n",
       "61. 'SE_Simpson'\n",
       "62. 'basename'\n",
       "63. 'file'\n",
       "64. 'sampletype'\n",
       "65. 'Group'\n",
       "66. 'log10shann'\n",
       "\n",
       "\n"
      ],
      "text/plain": [
       " [1] \"sample_id\"          \"Patient\"            \"cycle\"             \n",
       " [4] \"FOLD\"               \"ATC\"                \"Age\"               \n",
       " [7] \"Disease_type\"       \"TE_fold\"            \"CD3\"               \n",
       "[10] \"EM\"                 \"CM\"                 \"Naïve\"             \n",
       "[13] \"SCM\"                \"TE\"                 \"EM%\"               \n",
       "[16] \"CM%\"                \"Naïve%\"             \"SCM%\"              \n",
       "[19] \"TE%\"                \"Naïve/TE\"           \"N+CM+SCM/TE+EM\"    \n",
       "[22] \"PD-1\"               \"PDL1\"               \"LAG3\"              \n",
       "[25] \"TIM3\"               \"CTLA4\"              \"PD1%\"              \n",
       "[28] \"PDL1%\"              \"LAG3%\"              \"TIM3%\"             \n",
       "[31] \"CTLA4%\"             \"Any NCR\"            \"PD1 + LAG3 + TIM3\" \n",
       "[34] \"cancergroup\"        \"agegroup\"           \"foldgroup\"         \n",
       "[37] \"Remission\"          \"Relapse\"            \"Transplant\"        \n",
       "[40] \"CART\"               \"vital_status\"       \"LOF\"               \n",
       "[43] \"TRB\"                \"Reads\"              \"CPKR\"              \n",
       "[46] \"Average_reads\"      \"VMR\"                \"Max_reads\"         \n",
       "[49] \"Singletons\"         \"Doubletons\"         \"qD\"                \n",
       "[52] \"Sample_Coverage\"    \"observed_Richness\"  \"estimated_Richness\"\n",
       "[55] \"SE_Richeness\"       \"observed_Shannon\"   \"estimated_Shannon\" \n",
       "[58] \"SE_Shannon\"         \"observed_Simpson\"   \"estimated_Simpson\" \n",
       "[61] \"SE_Simpson\"         \"basename\"           \"file\"              \n",
       "[64] \"sampletype\"         \"Group\"              \"log10shann\"        "
      ]
     },
     "metadata": {},
     "output_type": "display_data"
    }
   ],
   "source": [
    "colnames(meta_div)"
   ]
  },
  {
   "cell_type": "code",
   "execution_count": 22,
   "metadata": {
    "vscode": {
     "languageId": "r"
    }
   },
   "outputs": [],
   "source": [
    "int_all_list <- list()\n",
    "\n",
    "for (i in 1:nrow(meta_div)) {\n",
    "    fle <- meta_div[i, \"file\"]\n",
    "    sample <- meta_div[i, \"basename\"]\n",
    "    pat <- meta_div[i, \"Patient\"]\n",
    "    sampletype <- meta_div[i, \"sampletype\"]\n",
    "\n",
    "    onefle <- read.table(paste0(h4hpath, fle), sep = \"\\t\", header = TRUE, stringsAsFactors = F)\n",
    "    # Remove non-productive\n",
    "    onefle <- onefle[!grepl(\"_\", onefle$aaSeqCDR3), ]\n",
    "    onefle <- onefle[!grepl(\"[*]\", onefle$aaSeqCDR3), ]\n",
    "    # next if the file has no productive cdr3\n",
    "    if (nrow(onefle) == 0) {\n",
    "        next\n",
    "    }\n",
    "    onefle$file <- fle\n",
    "    onefle$basename <- sample\n",
    "    onefle$Patient <- pat\n",
    "    onefle$sampletype <- sampletype\n",
    "\n",
    "    int_all_list[length(int_all_list) + 1] <- list(onefle)\n",
    "}\n",
    "int_all <- do.call(\"rbind\", int_all_list)\n"
   ]
  },
  {
   "cell_type": "code",
   "execution_count": 23,
   "metadata": {
    "vscode": {
     "languageId": "r"
    }
   },
   "outputs": [
    {
     "data": {
      "text/html": [
       "<style>\n",
       ".list-inline {list-style: none; margin:0; padding: 0}\n",
       ".list-inline>li {display: inline-block}\n",
       ".list-inline>li:not(:last-child)::after {content: \"\\00b7\"; padding: 0 .5ex}\n",
       "</style>\n",
       "<ol class=list-inline><li>53686</li><li>39</li></ol>\n"
      ],
      "text/latex": [
       "\\begin{enumerate*}\n",
       "\\item 53686\n",
       "\\item 39\n",
       "\\end{enumerate*}\n"
      ],
      "text/markdown": [
       "1. 53686\n",
       "2. 39\n",
       "\n",
       "\n"
      ],
      "text/plain": [
       "[1] 53686    39"
      ]
     },
     "metadata": {},
     "output_type": "display_data"
    }
   ],
   "source": [
    "dim(int_all)"
   ]
  },
  {
   "cell_type": "code",
   "execution_count": 24,
   "metadata": {
    "vscode": {
     "languageId": "r"
    }
   },
   "outputs": [
    {
     "data": {
      "text/html": [
       "<table class=\"dataframe\">\n",
       "<caption>A data.frame: 6 x 39</caption>\n",
       "<thead>\n",
       "\t<tr><th></th><th scope=col>cloneId</th><th scope=col>cloneCount</th><th scope=col>cloneFraction</th><th scope=col>clonalSequence</th><th scope=col>clonalSequenceQuality</th><th scope=col>allVHitsWithScore</th><th scope=col>allDHitsWithScore</th><th scope=col>allJHitsWithScore</th><th scope=col>allCHitsWithScore</th><th scope=col>allVAlignments</th><th scope=col>...</th><th scope=col>aaSeqFR2</th><th scope=col>aaSeqCDR2</th><th scope=col>aaSeqFR3</th><th scope=col>aaSeqCDR3</th><th scope=col>aaSeqFR4</th><th scope=col>refPoints</th><th scope=col>file</th><th scope=col>basename</th><th scope=col>Patient</th><th scope=col>sampletype</th></tr>\n",
       "\t<tr><th></th><th scope=col>&lt;int&gt;</th><th scope=col>&lt;int&gt;</th><th scope=col>&lt;dbl&gt;</th><th scope=col>&lt;chr&gt;</th><th scope=col>&lt;chr&gt;</th><th scope=col>&lt;chr&gt;</th><th scope=col>&lt;chr&gt;</th><th scope=col>&lt;chr&gt;</th><th scope=col>&lt;chr&gt;</th><th scope=col>&lt;chr&gt;</th><th scope=col>...</th><th scope=col>&lt;lgl&gt;</th><th scope=col>&lt;lgl&gt;</th><th scope=col>&lt;lgl&gt;</th><th scope=col>&lt;chr&gt;</th><th scope=col>&lt;lgl&gt;</th><th scope=col>&lt;chr&gt;</th><th scope=col>&lt;chr&gt;</th><th scope=col>&lt;chr&gt;</th><th scope=col>&lt;chr&gt;</th><th scope=col>&lt;chr&gt;</th></tr>\n",
       "</thead>\n",
       "<tbody>\n",
       "\t<tr><th scope=row>1</th><td>37</td><td>13</td><td>0.15116279</td><td>TGTGCCAGCAGGGAAAGGATAGCCCCTGGAAACACCATATATTTT            </td><td>EEEEEEEEEEEEEEEEEEEEEEEEEEEEEEEEEEEEEEEEEEEEE            </td><td>TRBV6-5*00(726.3) </td><td>                         </td><td>TRBJ1-3*00(130)</td><td>NA</td><td>519|530|556|0|11||55.0</td><td>...</td><td>NA</td><td>NA</td><td>NA</td><td>CASRERIAPGNTIYF    </td><td>NA</td><td>:::::::::0:-6:11:::::25:-2:45:::        </td><td>batch2_Aug62019/mixcr/clones/CLONES_TRBCHP_319-05-PBMC-DNA.txt</td><td>CHP_319-05-PBMC-DNA</td><td>CHP_319</td><td>PBMC</td></tr>\n",
       "\t<tr><th scope=row>2</th><td>42</td><td>11</td><td>0.12790698</td><td>TGCAGTGCTAGAGATCGTACGGGAATGTCCACAGATACGCAGTATTTT         </td><td>EEEEEEEEEEEEEEEEEEEEEEEEEEEEEEEEEEEEEEEEEEEEEEEE         </td><td>TRBV20-1*00(703.5)</td><td>TRBD1*00(25),TRBD2*00(25)</td><td>TRBJ2-3*00(110)</td><td>NA</td><td>759|775|793|0|16||80.0</td><td>...</td><td>NA</td><td>NA</td><td>NA</td><td>CSARDRTGMSTDTQYF   </td><td>NA</td><td>:::::::::0:2:16:19:1:-8:24:29:-2:48:::  </td><td>batch2_Aug62019/mixcr/clones/CLONES_TRBCHP_319-05-PBMC-DNA.txt</td><td>CHP_319-05-PBMC-DNA</td><td>CHP_319</td><td>PBMC</td></tr>\n",
       "\t<tr><th scope=row>3</th><td>48</td><td> 9</td><td>0.10465116</td><td>TGTGCCAGTAGGCTCGGGACAGGGCATGAGAACACTGAAGCTTTCTTT         </td><td>EEEEEEEEEEEEEEEEEEEEEEEEEEEEEEEEEEEEEEEEEEEEEEEE         </td><td>TRBV19*00(373.2)  </td><td>TRBD1*00(50)             </td><td>TRBJ1-1*00(235)</td><td>NA</td><td>559|570|596|0|11||55.0</td><td>...</td><td>NA</td><td>NA</td><td>NA</td><td>CASRLGTGHENTEAFF   </td><td>NA</td><td>:::::::::0:-6:11:14:1:-3:24:29:-1:48::: </td><td>batch2_Aug62019/mixcr/clones/CLONES_TRBCHP_319-05-PBMC-DNA.txt</td><td>CHP_319-05-PBMC-DNA</td><td>CHP_319</td><td>PBMC</td></tr>\n",
       "\t<tr><th scope=row>4</th><td>50</td><td> 9</td><td>0.10465116</td><td>TGTGCCACCAGCAGAGATTGGACAGTCTCCTACGAGCAGTACTTC            </td><td>EEEEEEEEEEEEEEEEEEEEEEEEEEEEEEEEEEEEEEEEEEEEE            </td><td>TRBV15*00(439)    </td><td>TRBD1*00(30)             </td><td>TRBJ2-7*00(235)</td><td>NA</td><td>552|570|589|0|18||90.0</td><td>...</td><td>NA</td><td>NA</td><td>NA</td><td>CATSRDWTVSYEQYF    </td><td>NA</td><td>:::::::::0:1:18:19:-1:-5:25:26:0:45:::  </td><td>batch2_Aug62019/mixcr/clones/CLONES_TRBCHP_319-05-PBMC-DNA.txt</td><td>CHP_319-05-PBMC-DNA</td><td>CHP_319</td><td>PBMC</td></tr>\n",
       "\t<tr><th scope=row>5</th><td>63</td><td> 6</td><td>0.06976744</td><td>TGTGCCAGCAGCCGAAACAGGGTTAGGTATGGCTACACCTTC               </td><td>EEEEEEEEEEEEEEEEEEEEEEEEEEEEEEEEEEEEEEEEEE               </td><td>TRBV11-2*00(299)  </td><td>TRBD1*00(30)             </td><td>TRBJ1-2*00(215)</td><td>NA</td><td>522|534|559|0|12||60.0</td><td>...</td><td>NA</td><td>NA</td><td>NA</td><td>CASSRNRVRYGYTF     </td><td>NA</td><td>:::::::::0:-5:12:16:-3:-3:22:27:-5:42:::</td><td>batch2_Aug62019/mixcr/clones/CLONES_TRBCHP_319-05-PBMC-DNA.txt</td><td>CHP_319-05-PBMC-DNA</td><td>CHP_319</td><td>PBMC</td></tr>\n",
       "\t<tr><th scope=row>7</th><td>71</td><td> 5</td><td>0.05813953</td><td>TGTGCCAGCAGCAAAGATGTCCTAGGGGATAGCTCCTATAATTCACCCCTCCACTTT</td><td>EEEEEEEEEEEEEEEEEEEEEEEEEEEEEEEEEEEEEEEEEEEEEEEEEEEEEEEEE</td><td>TRBV21-1*00(1009) </td><td>TRBD1*00(25)             </td><td>TRBJ1-6*00(275)</td><td>NA</td><td>544|560|581|0|16||80.0</td><td>...</td><td>NA</td><td>NA</td><td>NA</td><td>CASSKDVLGDSSYNSPLHF</td><td>NA</td><td>:::::::::0:-1:16:17:6:-13:22:30:2:57::: </td><td>batch2_Aug62019/mixcr/clones/CLONES_TRBCHP_319-05-PBMC-DNA.txt</td><td>CHP_319-05-PBMC-DNA</td><td>CHP_319</td><td>PBMC</td></tr>\n",
       "</tbody>\n",
       "</table>\n"
      ],
      "text/latex": [
       "A data.frame: 6 x 39\n",
       "\\begin{tabular}{r|lllllllllllllllllllll}\n",
       "  & cloneId & cloneCount & cloneFraction & clonalSequence & clonalSequenceQuality & allVHitsWithScore & allDHitsWithScore & allJHitsWithScore & allCHitsWithScore & allVAlignments & ... & aaSeqFR2 & aaSeqCDR2 & aaSeqFR3 & aaSeqCDR3 & aaSeqFR4 & refPoints & file & basename & Patient & sampletype\\\\\n",
       "  & <int> & <int> & <dbl> & <chr> & <chr> & <chr> & <chr> & <chr> & <chr> & <chr> & ... & <lgl> & <lgl> & <lgl> & <chr> & <lgl> & <chr> & <chr> & <chr> & <chr> & <chr>\\\\\n",
       "\\hline\n",
       "\t1 & 37 & 13 & 0.15116279 & TGTGCCAGCAGGGAAAGGATAGCCCCTGGAAACACCATATATTTT             & EEEEEEEEEEEEEEEEEEEEEEEEEEEEEEEEEEEEEEEEEEEEE             & TRBV6-5*00(726.3)  &                           & TRBJ1-3*00(130) & NA & 519\\textbar{}530\\textbar{}556\\textbar{}0\\textbar{}11\\textbar{}\\textbar{}55.0 & ... & NA & NA & NA & CASRERIAPGNTIYF     & NA & :::::::::0:-6:11:::::25:-2:45:::         & batch2\\_Aug62019/mixcr/clones/CLONES\\_TRBCHP\\_319-05-PBMC-DNA.txt & CHP\\_319-05-PBMC-DNA & CHP\\_319 & PBMC\\\\\n",
       "\t2 & 42 & 11 & 0.12790698 & TGCAGTGCTAGAGATCGTACGGGAATGTCCACAGATACGCAGTATTTT          & EEEEEEEEEEEEEEEEEEEEEEEEEEEEEEEEEEEEEEEEEEEEEEEE          & TRBV20-1*00(703.5) & TRBD1*00(25),TRBD2*00(25) & TRBJ2-3*00(110) & NA & 759\\textbar{}775\\textbar{}793\\textbar{}0\\textbar{}16\\textbar{}\\textbar{}80.0 & ... & NA & NA & NA & CSARDRTGMSTDTQYF    & NA & :::::::::0:2:16:19:1:-8:24:29:-2:48:::   & batch2\\_Aug62019/mixcr/clones/CLONES\\_TRBCHP\\_319-05-PBMC-DNA.txt & CHP\\_319-05-PBMC-DNA & CHP\\_319 & PBMC\\\\\n",
       "\t3 & 48 &  9 & 0.10465116 & TGTGCCAGTAGGCTCGGGACAGGGCATGAGAACACTGAAGCTTTCTTT          & EEEEEEEEEEEEEEEEEEEEEEEEEEEEEEEEEEEEEEEEEEEEEEEE          & TRBV19*00(373.2)   & TRBD1*00(50)              & TRBJ1-1*00(235) & NA & 559\\textbar{}570\\textbar{}596\\textbar{}0\\textbar{}11\\textbar{}\\textbar{}55.0 & ... & NA & NA & NA & CASRLGTGHENTEAFF    & NA & :::::::::0:-6:11:14:1:-3:24:29:-1:48:::  & batch2\\_Aug62019/mixcr/clones/CLONES\\_TRBCHP\\_319-05-PBMC-DNA.txt & CHP\\_319-05-PBMC-DNA & CHP\\_319 & PBMC\\\\\n",
       "\t4 & 50 &  9 & 0.10465116 & TGTGCCACCAGCAGAGATTGGACAGTCTCCTACGAGCAGTACTTC             & EEEEEEEEEEEEEEEEEEEEEEEEEEEEEEEEEEEEEEEEEEEEE             & TRBV15*00(439)     & TRBD1*00(30)              & TRBJ2-7*00(235) & NA & 552\\textbar{}570\\textbar{}589\\textbar{}0\\textbar{}18\\textbar{}\\textbar{}90.0 & ... & NA & NA & NA & CATSRDWTVSYEQYF     & NA & :::::::::0:1:18:19:-1:-5:25:26:0:45:::   & batch2\\_Aug62019/mixcr/clones/CLONES\\_TRBCHP\\_319-05-PBMC-DNA.txt & CHP\\_319-05-PBMC-DNA & CHP\\_319 & PBMC\\\\\n",
       "\t5 & 63 &  6 & 0.06976744 & TGTGCCAGCAGCCGAAACAGGGTTAGGTATGGCTACACCTTC                & EEEEEEEEEEEEEEEEEEEEEEEEEEEEEEEEEEEEEEEEEE                & TRBV11-2*00(299)   & TRBD1*00(30)              & TRBJ1-2*00(215) & NA & 522\\textbar{}534\\textbar{}559\\textbar{}0\\textbar{}12\\textbar{}\\textbar{}60.0 & ... & NA & NA & NA & CASSRNRVRYGYTF      & NA & :::::::::0:-5:12:16:-3:-3:22:27:-5:42::: & batch2\\_Aug62019/mixcr/clones/CLONES\\_TRBCHP\\_319-05-PBMC-DNA.txt & CHP\\_319-05-PBMC-DNA & CHP\\_319 & PBMC\\\\\n",
       "\t7 & 71 &  5 & 0.05813953 & TGTGCCAGCAGCAAAGATGTCCTAGGGGATAGCTCCTATAATTCACCCCTCCACTTT & EEEEEEEEEEEEEEEEEEEEEEEEEEEEEEEEEEEEEEEEEEEEEEEEEEEEEEEEE & TRBV21-1*00(1009)  & TRBD1*00(25)              & TRBJ1-6*00(275) & NA & 544\\textbar{}560\\textbar{}581\\textbar{}0\\textbar{}16\\textbar{}\\textbar{}80.0 & ... & NA & NA & NA & CASSKDVLGDSSYNSPLHF & NA & :::::::::0:-1:16:17:6:-13:22:30:2:57:::  & batch2\\_Aug62019/mixcr/clones/CLONES\\_TRBCHP\\_319-05-PBMC-DNA.txt & CHP\\_319-05-PBMC-DNA & CHP\\_319 & PBMC\\\\\n",
       "\\end{tabular}\n"
      ],
      "text/markdown": [
       "\n",
       "A data.frame: 6 x 39\n",
       "\n",
       "| <!--/--> | cloneId &lt;int&gt; | cloneCount &lt;int&gt; | cloneFraction &lt;dbl&gt; | clonalSequence &lt;chr&gt; | clonalSequenceQuality &lt;chr&gt; | allVHitsWithScore &lt;chr&gt; | allDHitsWithScore &lt;chr&gt; | allJHitsWithScore &lt;chr&gt; | allCHitsWithScore &lt;chr&gt; | allVAlignments &lt;chr&gt; | ... ... | aaSeqFR2 &lt;lgl&gt; | aaSeqCDR2 &lt;lgl&gt; | aaSeqFR3 &lt;lgl&gt; | aaSeqCDR3 &lt;chr&gt; | aaSeqFR4 &lt;lgl&gt; | refPoints &lt;chr&gt; | file &lt;chr&gt; | basename &lt;chr&gt; | Patient &lt;chr&gt; | sampletype &lt;chr&gt; |\n",
       "|---|---|---|---|---|---|---|---|---|---|---|---|---|---|---|---|---|---|---|---|---|---|\n",
       "| 1 | 37 | 13 | 0.15116279 | TGTGCCAGCAGGGAAAGGATAGCCCCTGGAAACACCATATATTTT             | EEEEEEEEEEEEEEEEEEEEEEEEEEEEEEEEEEEEEEEEEEEEE             | TRBV6-5*00(726.3)  | <!----> | TRBJ1-3*00(130) | NA | 519|530|556|0|11||55.0 | ... | NA | NA | NA | CASRERIAPGNTIYF     | NA | :::::::::0:-6:11:::::25:-2:45:::         | batch2_Aug62019/mixcr/clones/CLONES_TRBCHP_319-05-PBMC-DNA.txt | CHP_319-05-PBMC-DNA | CHP_319 | PBMC |\n",
       "| 2 | 42 | 11 | 0.12790698 | TGCAGTGCTAGAGATCGTACGGGAATGTCCACAGATACGCAGTATTTT          | EEEEEEEEEEEEEEEEEEEEEEEEEEEEEEEEEEEEEEEEEEEEEEEE          | TRBV20-1*00(703.5) | TRBD1*00(25),TRBD2*00(25) | TRBJ2-3*00(110) | NA | 759|775|793|0|16||80.0 | ... | NA | NA | NA | CSARDRTGMSTDTQYF    | NA | :::::::::0:2:16:19:1:-8:24:29:-2:48:::   | batch2_Aug62019/mixcr/clones/CLONES_TRBCHP_319-05-PBMC-DNA.txt | CHP_319-05-PBMC-DNA | CHP_319 | PBMC |\n",
       "| 3 | 48 |  9 | 0.10465116 | TGTGCCAGTAGGCTCGGGACAGGGCATGAGAACACTGAAGCTTTCTTT          | EEEEEEEEEEEEEEEEEEEEEEEEEEEEEEEEEEEEEEEEEEEEEEEE          | TRBV19*00(373.2)   | TRBD1*00(50)              | TRBJ1-1*00(235) | NA | 559|570|596|0|11||55.0 | ... | NA | NA | NA | CASRLGTGHENTEAFF    | NA | :::::::::0:-6:11:14:1:-3:24:29:-1:48:::  | batch2_Aug62019/mixcr/clones/CLONES_TRBCHP_319-05-PBMC-DNA.txt | CHP_319-05-PBMC-DNA | CHP_319 | PBMC |\n",
       "| 4 | 50 |  9 | 0.10465116 | TGTGCCACCAGCAGAGATTGGACAGTCTCCTACGAGCAGTACTTC             | EEEEEEEEEEEEEEEEEEEEEEEEEEEEEEEEEEEEEEEEEEEEE             | TRBV15*00(439)     | TRBD1*00(30)              | TRBJ2-7*00(235) | NA | 552|570|589|0|18||90.0 | ... | NA | NA | NA | CATSRDWTVSYEQYF     | NA | :::::::::0:1:18:19:-1:-5:25:26:0:45:::   | batch2_Aug62019/mixcr/clones/CLONES_TRBCHP_319-05-PBMC-DNA.txt | CHP_319-05-PBMC-DNA | CHP_319 | PBMC |\n",
       "| 5 | 63 |  6 | 0.06976744 | TGTGCCAGCAGCCGAAACAGGGTTAGGTATGGCTACACCTTC                | EEEEEEEEEEEEEEEEEEEEEEEEEEEEEEEEEEEEEEEEEE                | TRBV11-2*00(299)   | TRBD1*00(30)              | TRBJ1-2*00(215) | NA | 522|534|559|0|12||60.0 | ... | NA | NA | NA | CASSRNRVRYGYTF      | NA | :::::::::0:-5:12:16:-3:-3:22:27:-5:42::: | batch2_Aug62019/mixcr/clones/CLONES_TRBCHP_319-05-PBMC-DNA.txt | CHP_319-05-PBMC-DNA | CHP_319 | PBMC |\n",
       "| 7 | 71 |  5 | 0.05813953 | TGTGCCAGCAGCAAAGATGTCCTAGGGGATAGCTCCTATAATTCACCCCTCCACTTT | EEEEEEEEEEEEEEEEEEEEEEEEEEEEEEEEEEEEEEEEEEEEEEEEEEEEEEEEE | TRBV21-1*00(1009)  | TRBD1*00(25)              | TRBJ1-6*00(275) | NA | 544|560|581|0|16||80.0 | ... | NA | NA | NA | CASSKDVLGDSSYNSPLHF | NA | :::::::::0:-1:16:17:6:-13:22:30:2:57:::  | batch2_Aug62019/mixcr/clones/CLONES_TRBCHP_319-05-PBMC-DNA.txt | CHP_319-05-PBMC-DNA | CHP_319 | PBMC |\n",
       "\n"
      ],
      "text/plain": [
       "  cloneId cloneCount cloneFraction\n",
       "1 37      13         0.15116279   \n",
       "2 42      11         0.12790698   \n",
       "3 48       9         0.10465116   \n",
       "4 50       9         0.10465116   \n",
       "5 63       6         0.06976744   \n",
       "7 71       5         0.05813953   \n",
       "  clonalSequence                                           \n",
       "1 TGTGCCAGCAGGGAAAGGATAGCCCCTGGAAACACCATATATTTT            \n",
       "2 TGCAGTGCTAGAGATCGTACGGGAATGTCCACAGATACGCAGTATTTT         \n",
       "3 TGTGCCAGTAGGCTCGGGACAGGGCATGAGAACACTGAAGCTTTCTTT         \n",
       "4 TGTGCCACCAGCAGAGATTGGACAGTCTCCTACGAGCAGTACTTC            \n",
       "5 TGTGCCAGCAGCCGAAACAGGGTTAGGTATGGCTACACCTTC               \n",
       "7 TGTGCCAGCAGCAAAGATGTCCTAGGGGATAGCTCCTATAATTCACCCCTCCACTTT\n",
       "  clonalSequenceQuality                                     allVHitsWithScore \n",
       "1 EEEEEEEEEEEEEEEEEEEEEEEEEEEEEEEEEEEEEEEEEEEEE             TRBV6-5*00(726.3) \n",
       "2 EEEEEEEEEEEEEEEEEEEEEEEEEEEEEEEEEEEEEEEEEEEEEEEE          TRBV20-1*00(703.5)\n",
       "3 EEEEEEEEEEEEEEEEEEEEEEEEEEEEEEEEEEEEEEEEEEEEEEEE          TRBV19*00(373.2)  \n",
       "4 EEEEEEEEEEEEEEEEEEEEEEEEEEEEEEEEEEEEEEEEEEEEE             TRBV15*00(439)    \n",
       "5 EEEEEEEEEEEEEEEEEEEEEEEEEEEEEEEEEEEEEEEEEE                TRBV11-2*00(299)  \n",
       "7 EEEEEEEEEEEEEEEEEEEEEEEEEEEEEEEEEEEEEEEEEEEEEEEEEEEEEEEEE TRBV21-1*00(1009) \n",
       "  allDHitsWithScore         allJHitsWithScore allCHitsWithScore\n",
       "1                           TRBJ1-3*00(130)   NA               \n",
       "2 TRBD1*00(25),TRBD2*00(25) TRBJ2-3*00(110)   NA               \n",
       "3 TRBD1*00(50)              TRBJ1-1*00(235)   NA               \n",
       "4 TRBD1*00(30)              TRBJ2-7*00(235)   NA               \n",
       "5 TRBD1*00(30)              TRBJ1-2*00(215)   NA               \n",
       "7 TRBD1*00(25)              TRBJ1-6*00(275)   NA               \n",
       "  allVAlignments         ... aaSeqFR2 aaSeqCDR2 aaSeqFR3 aaSeqCDR3          \n",
       "1 519|530|556|0|11||55.0 ... NA       NA        NA       CASRERIAPGNTIYF    \n",
       "2 759|775|793|0|16||80.0 ... NA       NA        NA       CSARDRTGMSTDTQYF   \n",
       "3 559|570|596|0|11||55.0 ... NA       NA        NA       CASRLGTGHENTEAFF   \n",
       "4 552|570|589|0|18||90.0 ... NA       NA        NA       CATSRDWTVSYEQYF    \n",
       "5 522|534|559|0|12||60.0 ... NA       NA        NA       CASSRNRVRYGYTF     \n",
       "7 544|560|581|0|16||80.0 ... NA       NA        NA       CASSKDVLGDSSYNSPLHF\n",
       "  aaSeqFR4 refPoints                               \n",
       "1 NA       :::::::::0:-6:11:::::25:-2:45:::        \n",
       "2 NA       :::::::::0:2:16:19:1:-8:24:29:-2:48:::  \n",
       "3 NA       :::::::::0:-6:11:14:1:-3:24:29:-1:48::: \n",
       "4 NA       :::::::::0:1:18:19:-1:-5:25:26:0:45:::  \n",
       "5 NA       :::::::::0:-5:12:16:-3:-3:22:27:-5:42:::\n",
       "7 NA       :::::::::0:-1:16:17:6:-13:22:30:2:57::: \n",
       "  file                                                          \n",
       "1 batch2_Aug62019/mixcr/clones/CLONES_TRBCHP_319-05-PBMC-DNA.txt\n",
       "2 batch2_Aug62019/mixcr/clones/CLONES_TRBCHP_319-05-PBMC-DNA.txt\n",
       "3 batch2_Aug62019/mixcr/clones/CLONES_TRBCHP_319-05-PBMC-DNA.txt\n",
       "4 batch2_Aug62019/mixcr/clones/CLONES_TRBCHP_319-05-PBMC-DNA.txt\n",
       "5 batch2_Aug62019/mixcr/clones/CLONES_TRBCHP_319-05-PBMC-DNA.txt\n",
       "7 batch2_Aug62019/mixcr/clones/CLONES_TRBCHP_319-05-PBMC-DNA.txt\n",
       "  basename            Patient sampletype\n",
       "1 CHP_319-05-PBMC-DNA CHP_319 PBMC      \n",
       "2 CHP_319-05-PBMC-DNA CHP_319 PBMC      \n",
       "3 CHP_319-05-PBMC-DNA CHP_319 PBMC      \n",
       "4 CHP_319-05-PBMC-DNA CHP_319 PBMC      \n",
       "5 CHP_319-05-PBMC-DNA CHP_319 PBMC      \n",
       "7 CHP_319-05-PBMC-DNA CHP_319 PBMC      "
      ]
     },
     "metadata": {},
     "output_type": "display_data"
    }
   ],
   "source": [
    "head(int_all)"
   ]
  },
  {
   "cell_type": "code",
   "execution_count": 25,
   "metadata": {
    "vscode": {
     "languageId": "r"
    }
   },
   "outputs": [],
   "source": [
    "allTCRs <- nrow(int_all)\n",
    "# uniqueTCRs <- length(unique(int_all$aaSeqCDR3))"
   ]
  },
  {
   "cell_type": "code",
   "execution_count": 26,
   "metadata": {
    "vscode": {
     "languageId": "r"
    }
   },
   "outputs": [],
   "source": [
    "dups <- int_all[duplicated(int_all$aaSeqCDR3),]"
   ]
  },
  {
   "cell_type": "code",
   "execution_count": 27,
   "metadata": {
    "vscode": {
     "languageId": "r"
    }
   },
   "outputs": [
    {
     "data": {
      "text/html": [
       "53686"
      ],
      "text/latex": [
       "53686"
      ],
      "text/markdown": [
       "53686"
      ],
      "text/plain": [
       "[1] 53686"
      ]
     },
     "metadata": {},
     "output_type": "display_data"
    }
   ],
   "source": [
    "allTCRs # total TCRs"
   ]
  },
  {
   "cell_type": "code",
   "execution_count": 28,
   "metadata": {
    "vscode": {
     "languageId": "r"
    }
   },
   "outputs": [
    {
     "data": {
      "text/html": [
       "<style>\n",
       ".list-inline {list-style: none; margin:0; padding: 0}\n",
       ".list-inline>li {display: inline-block}\n",
       ".list-inline>li:not(:last-child)::after {content: \"\\00b7\"; padding: 0 .5ex}\n",
       "</style>\n",
       "<ol class=list-inline><li>50514</li><li>39</li></ol>\n"
      ],
      "text/latex": [
       "\\begin{enumerate*}\n",
       "\\item 50514\n",
       "\\item 39\n",
       "\\end{enumerate*}\n"
      ],
      "text/markdown": [
       "1. 50514\n",
       "2. 39\n",
       "\n",
       "\n"
      ],
      "text/plain": [
       "[1] 50514    39"
      ]
     },
     "metadata": {},
     "output_type": "display_data"
    }
   ],
   "source": [
    "dim(int_all[!duplicated(int_all$aaSeqCDR3),]) # total unique TCRs"
   ]
  },
  {
   "cell_type": "code",
   "execution_count": 29,
   "metadata": {
    "vscode": {
     "languageId": "r"
    }
   },
   "outputs": [
    {
     "data": {
      "text/html": [
       "<style>\n",
       ".list-inline {list-style: none; margin:0; padding: 0}\n",
       ".list-inline>li {display: inline-block}\n",
       ".list-inline>li:not(:last-child)::after {content: \"\\00b7\"; padding: 0 .5ex}\n",
       "</style>\n",
       "<ol class=list-inline><li>3172</li><li>39</li></ol>\n"
      ],
      "text/latex": [
       "\\begin{enumerate*}\n",
       "\\item 3172\n",
       "\\item 39\n",
       "\\end{enumerate*}\n"
      ],
      "text/markdown": [
       "1. 3172\n",
       "2. 39\n",
       "\n",
       "\n"
      ],
      "text/plain": [
       "[1] 3172   39"
      ]
     },
     "metadata": {},
     "output_type": "display_data"
    }
   ],
   "source": [
    "dim(dups)"
   ]
  },
  {
   "cell_type": "code",
   "execution_count": 30,
   "metadata": {
    "vscode": {
     "languageId": "r"
    }
   },
   "outputs": [
    {
     "data": {
      "text/html": [
       "50514"
      ],
      "text/latex": [
       "50514"
      ],
      "text/markdown": [
       "50514"
      ],
      "text/plain": [
       "[1] 50514"
      ]
     },
     "metadata": {},
     "output_type": "display_data"
    }
   ],
   "source": [
    "53686 - 3172"
   ]
  },
  {
   "cell_type": "code",
   "execution_count": 31,
   "metadata": {
    "vscode": {
     "languageId": "r"
    }
   },
   "outputs": [
    {
     "data": {
      "text/html": [
       "<table class=\"dataframe\">\n",
       "<caption>A data.frame: 2 x 39</caption>\n",
       "<thead>\n",
       "\t<tr><th></th><th scope=col>cloneId</th><th scope=col>cloneCount</th><th scope=col>cloneFraction</th><th scope=col>clonalSequence</th><th scope=col>clonalSequenceQuality</th><th scope=col>allVHitsWithScore</th><th scope=col>allDHitsWithScore</th><th scope=col>allJHitsWithScore</th><th scope=col>allCHitsWithScore</th><th scope=col>allVAlignments</th><th scope=col>...</th><th scope=col>aaSeqFR2</th><th scope=col>aaSeqCDR2</th><th scope=col>aaSeqFR3</th><th scope=col>aaSeqCDR3</th><th scope=col>aaSeqFR4</th><th scope=col>refPoints</th><th scope=col>file</th><th scope=col>basename</th><th scope=col>Patient</th><th scope=col>sampletype</th></tr>\n",
       "\t<tr><th></th><th scope=col>&lt;int&gt;</th><th scope=col>&lt;int&gt;</th><th scope=col>&lt;dbl&gt;</th><th scope=col>&lt;chr&gt;</th><th scope=col>&lt;chr&gt;</th><th scope=col>&lt;chr&gt;</th><th scope=col>&lt;chr&gt;</th><th scope=col>&lt;chr&gt;</th><th scope=col>&lt;chr&gt;</th><th scope=col>&lt;chr&gt;</th><th scope=col>...</th><th scope=col>&lt;lgl&gt;</th><th scope=col>&lt;lgl&gt;</th><th scope=col>&lt;lgl&gt;</th><th scope=col>&lt;chr&gt;</th><th scope=col>&lt;lgl&gt;</th><th scope=col>&lt;chr&gt;</th><th scope=col>&lt;chr&gt;</th><th scope=col>&lt;chr&gt;</th><th scope=col>&lt;chr&gt;</th><th scope=col>&lt;chr&gt;</th></tr>\n",
       "</thead>\n",
       "<tbody>\n",
       "\t<tr><th scope=row>9100</th><td> 34</td><td>111</td><td>0.0280020182</td><td>TGTGCCAGCAGCCCCCAAGGGGGGCCTCACAATGAGCAGTTCTTC</td><td>EEEEEEEEEEEEEEEEEEEEEEEEEEEEEEEEEEEEEEEEEEEEE</td><td>TRBV7-6*00(985) </td><td>TRBD1*00(30)</td><td>TRBJ2-1*00(195.5)</td><td>NA</td><td>576|588|613|0|12||60.0</td><td>...</td><td>NA</td><td>NA</td><td>NA</td><td>CASSPQGGPHNEQFF</td><td>NA</td><td>:::::::::0:-5:12:17:-5:-1:23:28:-5:45:::</td><td>batch4_19Aug2019/mixcr/clones/CLONES_TRBCHP_323-03-PBMC-DNA.txt     </td><td>CHP_323-03-PBMC-DNA</td><td>CHP_323</td><td>PBMC </td></tr>\n",
       "\t<tr><th scope=row>93150</th><td>482</td><td> 52</td><td>0.0005079167</td><td>TGTGCCAGCAGCCCCCAAGGGGGGCCTCACAATGAGCAGTTCTTC</td><td>EEEEEEEEEEEEEEEEEEEEEEEEEEEEEEEEEEEEEEEEEEEEE</td><td>TRBV7-7*00(93.9)</td><td>TRBD1*00(30)</td><td>TRBJ2-1*00(228.3)</td><td>NA</td><td>585|597|622|0|12||60.0</td><td>...</td><td>NA</td><td>NA</td><td>NA</td><td>CASSPQGGPHNEQFF</td><td>NA</td><td>:::::::::0:-5:12:17:-5:-1:23:28:-5:45:::</td><td>batch3a9_cfDNA_10Jul2020/mixcr/clones/CLONES_TRBCHP_323-03_cfDNA.txt</td><td>CHP_323-03_cfDNA   </td><td>CHP_323</td><td>cfDNA</td></tr>\n",
       "</tbody>\n",
       "</table>\n"
      ],
      "text/latex": [
       "A data.frame: 2 x 39\n",
       "\\begin{tabular}{r|lllllllllllllllllllll}\n",
       "  & cloneId & cloneCount & cloneFraction & clonalSequence & clonalSequenceQuality & allVHitsWithScore & allDHitsWithScore & allJHitsWithScore & allCHitsWithScore & allVAlignments & ... & aaSeqFR2 & aaSeqCDR2 & aaSeqFR3 & aaSeqCDR3 & aaSeqFR4 & refPoints & file & basename & Patient & sampletype\\\\\n",
       "  & <int> & <int> & <dbl> & <chr> & <chr> & <chr> & <chr> & <chr> & <chr> & <chr> & ... & <lgl> & <lgl> & <lgl> & <chr> & <lgl> & <chr> & <chr> & <chr> & <chr> & <chr>\\\\\n",
       "\\hline\n",
       "\t9100 &  34 & 111 & 0.0280020182 & TGTGCCAGCAGCCCCCAAGGGGGGCCTCACAATGAGCAGTTCTTC & EEEEEEEEEEEEEEEEEEEEEEEEEEEEEEEEEEEEEEEEEEEEE & TRBV7-6*00(985)  & TRBD1*00(30) & TRBJ2-1*00(195.5) & NA & 576\\textbar{}588\\textbar{}613\\textbar{}0\\textbar{}12\\textbar{}\\textbar{}60.0 & ... & NA & NA & NA & CASSPQGGPHNEQFF & NA & :::::::::0:-5:12:17:-5:-1:23:28:-5:45::: & batch4\\_19Aug2019/mixcr/clones/CLONES\\_TRBCHP\\_323-03-PBMC-DNA.txt      & CHP\\_323-03-PBMC-DNA & CHP\\_323 & PBMC \\\\\n",
       "\t93150 & 482 &  52 & 0.0005079167 & TGTGCCAGCAGCCCCCAAGGGGGGCCTCACAATGAGCAGTTCTTC & EEEEEEEEEEEEEEEEEEEEEEEEEEEEEEEEEEEEEEEEEEEEE & TRBV7-7*00(93.9) & TRBD1*00(30) & TRBJ2-1*00(228.3) & NA & 585\\textbar{}597\\textbar{}622\\textbar{}0\\textbar{}12\\textbar{}\\textbar{}60.0 & ... & NA & NA & NA & CASSPQGGPHNEQFF & NA & :::::::::0:-5:12:17:-5:-1:23:28:-5:45::: & batch3a9\\_cfDNA\\_10Jul2020/mixcr/clones/CLONES\\_TRBCHP\\_323-03\\_cfDNA.txt & CHP\\_323-03\\_cfDNA    & CHP\\_323 & cfDNA\\\\\n",
       "\\end{tabular}\n"
      ],
      "text/markdown": [
       "\n",
       "A data.frame: 2 x 39\n",
       "\n",
       "| <!--/--> | cloneId &lt;int&gt; | cloneCount &lt;int&gt; | cloneFraction &lt;dbl&gt; | clonalSequence &lt;chr&gt; | clonalSequenceQuality &lt;chr&gt; | allVHitsWithScore &lt;chr&gt; | allDHitsWithScore &lt;chr&gt; | allJHitsWithScore &lt;chr&gt; | allCHitsWithScore &lt;chr&gt; | allVAlignments &lt;chr&gt; | ... ... | aaSeqFR2 &lt;lgl&gt; | aaSeqCDR2 &lt;lgl&gt; | aaSeqFR3 &lt;lgl&gt; | aaSeqCDR3 &lt;chr&gt; | aaSeqFR4 &lt;lgl&gt; | refPoints &lt;chr&gt; | file &lt;chr&gt; | basename &lt;chr&gt; | Patient &lt;chr&gt; | sampletype &lt;chr&gt; |\n",
       "|---|---|---|---|---|---|---|---|---|---|---|---|---|---|---|---|---|---|---|---|---|---|\n",
       "| 9100 |  34 | 111 | 0.0280020182 | TGTGCCAGCAGCCCCCAAGGGGGGCCTCACAATGAGCAGTTCTTC | EEEEEEEEEEEEEEEEEEEEEEEEEEEEEEEEEEEEEEEEEEEEE | TRBV7-6*00(985)  | TRBD1*00(30) | TRBJ2-1*00(195.5) | NA | 576|588|613|0|12||60.0 | ... | NA | NA | NA | CASSPQGGPHNEQFF | NA | :::::::::0:-5:12:17:-5:-1:23:28:-5:45::: | batch4_19Aug2019/mixcr/clones/CLONES_TRBCHP_323-03-PBMC-DNA.txt      | CHP_323-03-PBMC-DNA | CHP_323 | PBMC  |\n",
       "| 93150 | 482 |  52 | 0.0005079167 | TGTGCCAGCAGCCCCCAAGGGGGGCCTCACAATGAGCAGTTCTTC | EEEEEEEEEEEEEEEEEEEEEEEEEEEEEEEEEEEEEEEEEEEEE | TRBV7-7*00(93.9) | TRBD1*00(30) | TRBJ2-1*00(228.3) | NA | 585|597|622|0|12||60.0 | ... | NA | NA | NA | CASSPQGGPHNEQFF | NA | :::::::::0:-5:12:17:-5:-1:23:28:-5:45::: | batch3a9_cfDNA_10Jul2020/mixcr/clones/CLONES_TRBCHP_323-03_cfDNA.txt | CHP_323-03_cfDNA    | CHP_323 | cfDNA |\n",
       "\n"
      ],
      "text/plain": [
       "      cloneId cloneCount cloneFraction\n",
       "9100   34     111        0.0280020182 \n",
       "93150 482      52        0.0005079167 \n",
       "      clonalSequence                               \n",
       "9100  TGTGCCAGCAGCCCCCAAGGGGGGCCTCACAATGAGCAGTTCTTC\n",
       "93150 TGTGCCAGCAGCCCCCAAGGGGGGCCTCACAATGAGCAGTTCTTC\n",
       "      clonalSequenceQuality                         allVHitsWithScore\n",
       "9100  EEEEEEEEEEEEEEEEEEEEEEEEEEEEEEEEEEEEEEEEEEEEE TRBV7-6*00(985)  \n",
       "93150 EEEEEEEEEEEEEEEEEEEEEEEEEEEEEEEEEEEEEEEEEEEEE TRBV7-7*00(93.9) \n",
       "      allDHitsWithScore allJHitsWithScore allCHitsWithScore\n",
       "9100  TRBD1*00(30)      TRBJ2-1*00(195.5) NA               \n",
       "93150 TRBD1*00(30)      TRBJ2-1*00(228.3) NA               \n",
       "      allVAlignments         ... aaSeqFR2 aaSeqCDR2 aaSeqFR3 aaSeqCDR3      \n",
       "9100  576|588|613|0|12||60.0 ... NA       NA        NA       CASSPQGGPHNEQFF\n",
       "93150 585|597|622|0|12||60.0 ... NA       NA        NA       CASSPQGGPHNEQFF\n",
       "      aaSeqFR4 refPoints                               \n",
       "9100  NA       :::::::::0:-5:12:17:-5:-1:23:28:-5:45:::\n",
       "93150 NA       :::::::::0:-5:12:17:-5:-1:23:28:-5:45:::\n",
       "      file                                                                \n",
       "9100  batch4_19Aug2019/mixcr/clones/CLONES_TRBCHP_323-03-PBMC-DNA.txt     \n",
       "93150 batch3a9_cfDNA_10Jul2020/mixcr/clones/CLONES_TRBCHP_323-03_cfDNA.txt\n",
       "      basename            Patient sampletype\n",
       "9100  CHP_323-03-PBMC-DNA CHP_323 PBMC      \n",
       "93150 CHP_323-03_cfDNA    CHP_323 cfDNA     "
      ]
     },
     "metadata": {},
     "output_type": "display_data"
    }
   ],
   "source": [
    "head(int_all[int_all$aaSeqCDR3 %in% \"CASSPQGGPHNEQFF\", ])"
   ]
  },
  {
   "cell_type": "markdown",
   "metadata": {},
   "source": [
    "Public TCRs"
   ]
  },
  {
   "cell_type": "markdown",
   "metadata": {},
   "source": [
    "Patient-specific recurring"
   ]
  },
  {
   "cell_type": "code",
   "execution_count": 42,
   "metadata": {
    "vscode": {
     "languageId": "r"
    }
   },
   "outputs": [],
   "source": [
    "tcr_pat_tab <- as.data.frame.matrix(table(int_all$aaSeqCDR3, int_all$Patient))"
   ]
  },
  {
   "cell_type": "code",
   "execution_count": 43,
   "metadata": {
    "vscode": {
     "languageId": "r"
    }
   },
   "outputs": [
    {
     "data": {
      "text/html": [
       "<style>\n",
       ".list-inline {list-style: none; margin:0; padding: 0}\n",
       ".list-inline>li {display: inline-block}\n",
       ".list-inline>li:not(:last-child)::after {content: \"\\00b7\"; padding: 0 .5ex}\n",
       "</style>\n",
       "<ol class=list-inline><li>50514</li><li>99</li></ol>\n"
      ],
      "text/latex": [
       "\\begin{enumerate*}\n",
       "\\item 50514\n",
       "\\item 99\n",
       "\\end{enumerate*}\n"
      ],
      "text/markdown": [
       "1. 50514\n",
       "2. 99\n",
       "\n",
       "\n"
      ],
      "text/plain": [
       "[1] 50514    99"
      ]
     },
     "metadata": {},
     "output_type": "display_data"
    }
   ],
   "source": [
    "dim(tcr_pat_tab)"
   ]
  },
  {
   "cell_type": "code",
   "execution_count": 44,
   "metadata": {
    "vscode": {
     "languageId": "r"
    }
   },
   "outputs": [
    {
     "data": {
      "text/html": [
       "<table class=\"dataframe\">\n",
       "<caption>A data.frame: 6 x 99</caption>\n",
       "<thead>\n",
       "\t<tr><th></th><th scope=col>CHP_319</th><th scope=col>CHP_323</th><th scope=col>CHP_324</th><th scope=col>CHP_326</th><th scope=col>CHP_328</th><th scope=col>CHP_329</th><th scope=col>CHP_330</th><th scope=col>CHP_331</th><th scope=col>CHP_333</th><th scope=col>CHP_334</th><th scope=col>...</th><th scope=col>CHP_414</th><th scope=col>CHP_415</th><th scope=col>CHP_416</th><th scope=col>CHP_417</th><th scope=col>CHP_418</th><th scope=col>CHP_419</th><th scope=col>CHP_420</th><th scope=col>CHP_421</th><th scope=col>CHP_422</th><th scope=col>CHP_423</th></tr>\n",
       "\t<tr><th></th><th scope=col>&lt;int&gt;</th><th scope=col>&lt;int&gt;</th><th scope=col>&lt;int&gt;</th><th scope=col>&lt;int&gt;</th><th scope=col>&lt;int&gt;</th><th scope=col>&lt;int&gt;</th><th scope=col>&lt;int&gt;</th><th scope=col>&lt;int&gt;</th><th scope=col>&lt;int&gt;</th><th scope=col>&lt;int&gt;</th><th scope=col>...</th><th scope=col>&lt;int&gt;</th><th scope=col>&lt;int&gt;</th><th scope=col>&lt;int&gt;</th><th scope=col>&lt;int&gt;</th><th scope=col>&lt;int&gt;</th><th scope=col>&lt;int&gt;</th><th scope=col>&lt;int&gt;</th><th scope=col>&lt;int&gt;</th><th scope=col>&lt;int&gt;</th><th scope=col>&lt;int&gt;</th></tr>\n",
       "</thead>\n",
       "<tbody>\n",
       "\t<tr><th scope=row>CAAAGGGEAFF</th><td>0</td><td>0</td><td>0</td><td>0</td><td>0</td><td>0</td><td>0</td><td>0</td><td>0</td><td>0</td><td>...</td><td>0</td><td>0</td><td>0</td><td>0</td><td>0</td><td>0</td><td>0</td><td>0</td><td>0</td><td>0</td></tr>\n",
       "\t<tr><th scope=row>CAAAGGSGVGYEQYF</th><td>0</td><td>0</td><td>0</td><td>0</td><td>0</td><td>0</td><td>0</td><td>0</td><td>0</td><td>0</td><td>...</td><td>0</td><td>0</td><td>0</td><td>0</td><td>0</td><td>0</td><td>0</td><td>0</td><td>0</td><td>0</td></tr>\n",
       "\t<tr><th scope=row>CAAARGFDEQYF</th><td>0</td><td>0</td><td>0</td><td>0</td><td>0</td><td>0</td><td>0</td><td>0</td><td>0</td><td>0</td><td>...</td><td>0</td><td>0</td><td>0</td><td>0</td><td>0</td><td>0</td><td>0</td><td>0</td><td>0</td><td>0</td></tr>\n",
       "\t<tr><th scope=row>CAACEPEVRDTDTQYF</th><td>0</td><td>0</td><td>0</td><td>0</td><td>0</td><td>0</td><td>0</td><td>0</td><td>0</td><td>0</td><td>...</td><td>0</td><td>0</td><td>0</td><td>0</td><td>0</td><td>0</td><td>0</td><td>0</td><td>0</td><td>0</td></tr>\n",
       "\t<tr><th scope=row>CAAEPRLAGGTDTQYF</th><td>0</td><td>0</td><td>0</td><td>0</td><td>0</td><td>0</td><td>0</td><td>0</td><td>0</td><td>0</td><td>...</td><td>0</td><td>0</td><td>0</td><td>0</td><td>0</td><td>0</td><td>0</td><td>0</td><td>0</td><td>0</td></tr>\n",
       "\t<tr><th scope=row>CAAGDRGPIVYEQYF</th><td>0</td><td>0</td><td>0</td><td>0</td><td>0</td><td>0</td><td>0</td><td>0</td><td>0</td><td>0</td><td>...</td><td>0</td><td>0</td><td>0</td><td>0</td><td>0</td><td>0</td><td>0</td><td>0</td><td>0</td><td>0</td></tr>\n",
       "</tbody>\n",
       "</table>\n"
      ],
      "text/latex": [
       "A data.frame: 6 x 99\n",
       "\\begin{tabular}{r|lllllllllllllllllllll}\n",
       "  & CHP\\_319 & CHP\\_323 & CHP\\_324 & CHP\\_326 & CHP\\_328 & CHP\\_329 & CHP\\_330 & CHP\\_331 & CHP\\_333 & CHP\\_334 & ... & CHP\\_414 & CHP\\_415 & CHP\\_416 & CHP\\_417 & CHP\\_418 & CHP\\_419 & CHP\\_420 & CHP\\_421 & CHP\\_422 & CHP\\_423\\\\\n",
       "  & <int> & <int> & <int> & <int> & <int> & <int> & <int> & <int> & <int> & <int> & ... & <int> & <int> & <int> & <int> & <int> & <int> & <int> & <int> & <int> & <int>\\\\\n",
       "\\hline\n",
       "\tCAAAGGGEAFF & 0 & 0 & 0 & 0 & 0 & 0 & 0 & 0 & 0 & 0 & ... & 0 & 0 & 0 & 0 & 0 & 0 & 0 & 0 & 0 & 0\\\\\n",
       "\tCAAAGGSGVGYEQYF & 0 & 0 & 0 & 0 & 0 & 0 & 0 & 0 & 0 & 0 & ... & 0 & 0 & 0 & 0 & 0 & 0 & 0 & 0 & 0 & 0\\\\\n",
       "\tCAAARGFDEQYF & 0 & 0 & 0 & 0 & 0 & 0 & 0 & 0 & 0 & 0 & ... & 0 & 0 & 0 & 0 & 0 & 0 & 0 & 0 & 0 & 0\\\\\n",
       "\tCAACEPEVRDTDTQYF & 0 & 0 & 0 & 0 & 0 & 0 & 0 & 0 & 0 & 0 & ... & 0 & 0 & 0 & 0 & 0 & 0 & 0 & 0 & 0 & 0\\\\\n",
       "\tCAAEPRLAGGTDTQYF & 0 & 0 & 0 & 0 & 0 & 0 & 0 & 0 & 0 & 0 & ... & 0 & 0 & 0 & 0 & 0 & 0 & 0 & 0 & 0 & 0\\\\\n",
       "\tCAAGDRGPIVYEQYF & 0 & 0 & 0 & 0 & 0 & 0 & 0 & 0 & 0 & 0 & ... & 0 & 0 & 0 & 0 & 0 & 0 & 0 & 0 & 0 & 0\\\\\n",
       "\\end{tabular}\n"
      ],
      "text/markdown": [
       "\n",
       "A data.frame: 6 x 99\n",
       "\n",
       "| <!--/--> | CHP_319 &lt;int&gt; | CHP_323 &lt;int&gt; | CHP_324 &lt;int&gt; | CHP_326 &lt;int&gt; | CHP_328 &lt;int&gt; | CHP_329 &lt;int&gt; | CHP_330 &lt;int&gt; | CHP_331 &lt;int&gt; | CHP_333 &lt;int&gt; | CHP_334 &lt;int&gt; | ... ... | CHP_414 &lt;int&gt; | CHP_415 &lt;int&gt; | CHP_416 &lt;int&gt; | CHP_417 &lt;int&gt; | CHP_418 &lt;int&gt; | CHP_419 &lt;int&gt; | CHP_420 &lt;int&gt; | CHP_421 &lt;int&gt; | CHP_422 &lt;int&gt; | CHP_423 &lt;int&gt; |\n",
       "|---|---|---|---|---|---|---|---|---|---|---|---|---|---|---|---|---|---|---|---|---|---|\n",
       "| CAAAGGGEAFF | 0 | 0 | 0 | 0 | 0 | 0 | 0 | 0 | 0 | 0 | ... | 0 | 0 | 0 | 0 | 0 | 0 | 0 | 0 | 0 | 0 |\n",
       "| CAAAGGSGVGYEQYF | 0 | 0 | 0 | 0 | 0 | 0 | 0 | 0 | 0 | 0 | ... | 0 | 0 | 0 | 0 | 0 | 0 | 0 | 0 | 0 | 0 |\n",
       "| CAAARGFDEQYF | 0 | 0 | 0 | 0 | 0 | 0 | 0 | 0 | 0 | 0 | ... | 0 | 0 | 0 | 0 | 0 | 0 | 0 | 0 | 0 | 0 |\n",
       "| CAACEPEVRDTDTQYF | 0 | 0 | 0 | 0 | 0 | 0 | 0 | 0 | 0 | 0 | ... | 0 | 0 | 0 | 0 | 0 | 0 | 0 | 0 | 0 | 0 |\n",
       "| CAAEPRLAGGTDTQYF | 0 | 0 | 0 | 0 | 0 | 0 | 0 | 0 | 0 | 0 | ... | 0 | 0 | 0 | 0 | 0 | 0 | 0 | 0 | 0 | 0 |\n",
       "| CAAGDRGPIVYEQYF | 0 | 0 | 0 | 0 | 0 | 0 | 0 | 0 | 0 | 0 | ... | 0 | 0 | 0 | 0 | 0 | 0 | 0 | 0 | 0 | 0 |\n",
       "\n"
      ],
      "text/plain": [
       "                 CHP_319 CHP_323 CHP_324 CHP_326 CHP_328 CHP_329 CHP_330\n",
       "CAAAGGGEAFF      0       0       0       0       0       0       0      \n",
       "CAAAGGSGVGYEQYF  0       0       0       0       0       0       0      \n",
       "CAAARGFDEQYF     0       0       0       0       0       0       0      \n",
       "CAACEPEVRDTDTQYF 0       0       0       0       0       0       0      \n",
       "CAAEPRLAGGTDTQYF 0       0       0       0       0       0       0      \n",
       "CAAGDRGPIVYEQYF  0       0       0       0       0       0       0      \n",
       "                 CHP_331 CHP_333 CHP_334 ... CHP_414 CHP_415 CHP_416 CHP_417\n",
       "CAAAGGGEAFF      0       0       0       ... 0       0       0       0      \n",
       "CAAAGGSGVGYEQYF  0       0       0       ... 0       0       0       0      \n",
       "CAAARGFDEQYF     0       0       0       ... 0       0       0       0      \n",
       "CAACEPEVRDTDTQYF 0       0       0       ... 0       0       0       0      \n",
       "CAAEPRLAGGTDTQYF 0       0       0       ... 0       0       0       0      \n",
       "CAAGDRGPIVYEQYF  0       0       0       ... 0       0       0       0      \n",
       "                 CHP_418 CHP_419 CHP_420 CHP_421 CHP_422 CHP_423\n",
       "CAAAGGGEAFF      0       0       0       0       0       0      \n",
       "CAAAGGSGVGYEQYF  0       0       0       0       0       0      \n",
       "CAAARGFDEQYF     0       0       0       0       0       0      \n",
       "CAACEPEVRDTDTQYF 0       0       0       0       0       0      \n",
       "CAAEPRLAGGTDTQYF 0       0       0       0       0       0      \n",
       "CAAGDRGPIVYEQYF  0       0       0       0       0       0      "
      ]
     },
     "metadata": {},
     "output_type": "display_data"
    }
   ],
   "source": [
    "head(tcr_pat_tab)"
   ]
  },
  {
   "cell_type": "code",
   "execution_count": 45,
   "metadata": {
    "vscode": {
     "languageId": "r"
    }
   },
   "outputs": [],
   "source": [
    "tcr_pat_tab$no_patients_morethanone <- rowSums(tcr_pat_tab[,1:99] > 1) # count number of TCRs happening in more than one sample per patient\n",
    "tcr_pat_tab$no_patients_one <- rowSums(tcr_pat_tab[,1:99] == 1)\n",
    "tcr_pat_tab$no_patients_none <- rowSums(tcr_pat_tab[,1:99] == 0)"
   ]
  },
  {
   "cell_type": "code",
   "execution_count": 46,
   "metadata": {
    "vscode": {
     "languageId": "r"
    }
   },
   "outputs": [],
   "source": [
    "tcr_pat_tab$no_patients <- tcr_pat_tab$no_patients_one + tcr_pat_tab$no_patients_morethanone"
   ]
  },
  {
   "cell_type": "code",
   "execution_count": 102,
   "metadata": {
    "vscode": {
     "languageId": "r"
    }
   },
   "outputs": [
    {
     "data": {
      "text/html": [
       "<style>\n",
       ".list-inline {list-style: none; margin:0; padding: 0}\n",
       ".list-inline>li {display: inline-block}\n",
       ".list-inline>li:not(:last-child)::after {content: \"\\00b7\"; padding: 0 .5ex}\n",
       "</style>\n",
       "<ol class=list-inline><li>50514</li><li>103</li></ol>\n"
      ],
      "text/latex": [
       "\\begin{enumerate*}\n",
       "\\item 50514\n",
       "\\item 103\n",
       "\\end{enumerate*}\n"
      ],
      "text/markdown": [
       "1. 50514\n",
       "2. 103\n",
       "\n",
       "\n"
      ],
      "text/plain": [
       "[1] 50514   103"
      ]
     },
     "metadata": {},
     "output_type": "display_data"
    }
   ],
   "source": [
    "dim(tcr_pat_tab)"
   ]
  },
  {
   "cell_type": "code",
   "execution_count": 47,
   "metadata": {
    "vscode": {
     "languageId": "r"
    }
   },
   "outputs": [
    {
     "data": {
      "text/html": [
       "<table class=\"dataframe\">\n",
       "<caption>A data.frame: 6 x 103</caption>\n",
       "<thead>\n",
       "\t<tr><th></th><th scope=col>CHP_319</th><th scope=col>CHP_323</th><th scope=col>CHP_324</th><th scope=col>CHP_326</th><th scope=col>CHP_328</th><th scope=col>CHP_329</th><th scope=col>CHP_330</th><th scope=col>CHP_331</th><th scope=col>CHP_333</th><th scope=col>CHP_334</th><th scope=col>...</th><th scope=col>CHP_418</th><th scope=col>CHP_419</th><th scope=col>CHP_420</th><th scope=col>CHP_421</th><th scope=col>CHP_422</th><th scope=col>CHP_423</th><th scope=col>no_patients_morethanone</th><th scope=col>no_patients_one</th><th scope=col>no_patients_none</th><th scope=col>no_patients</th></tr>\n",
       "\t<tr><th></th><th scope=col>&lt;int&gt;</th><th scope=col>&lt;int&gt;</th><th scope=col>&lt;int&gt;</th><th scope=col>&lt;int&gt;</th><th scope=col>&lt;int&gt;</th><th scope=col>&lt;int&gt;</th><th scope=col>&lt;int&gt;</th><th scope=col>&lt;int&gt;</th><th scope=col>&lt;int&gt;</th><th scope=col>&lt;int&gt;</th><th scope=col>...</th><th scope=col>&lt;int&gt;</th><th scope=col>&lt;int&gt;</th><th scope=col>&lt;int&gt;</th><th scope=col>&lt;int&gt;</th><th scope=col>&lt;int&gt;</th><th scope=col>&lt;int&gt;</th><th scope=col>&lt;dbl&gt;</th><th scope=col>&lt;dbl&gt;</th><th scope=col>&lt;dbl&gt;</th><th scope=col>&lt;dbl&gt;</th></tr>\n",
       "</thead>\n",
       "<tbody>\n",
       "\t<tr><th scope=row>CAACEPEVRDTDTQYF</th><td>0</td><td>0</td><td>0</td><td>0</td><td>0</td><td>0</td><td>0</td><td>0</td><td>0</td><td>0</td><td>...</td><td>0</td><td>0</td><td>0</td><td>0</td><td>0</td><td>0</td><td>1</td><td> 0</td><td>98</td><td> 1</td></tr>\n",
       "\t<tr><th scope=row>CACNQVMNTEAFF</th><td>0</td><td>0</td><td>0</td><td>0</td><td>0</td><td>0</td><td>0</td><td>0</td><td>0</td><td>0</td><td>...</td><td>0</td><td>0</td><td>0</td><td>0</td><td>0</td><td>0</td><td>1</td><td> 1</td><td>97</td><td> 2</td></tr>\n",
       "\t<tr><th scope=row>CAERPGQGLNCYTF</th><td>0</td><td>0</td><td>0</td><td>0</td><td>0</td><td>0</td><td>0</td><td>0</td><td>0</td><td>0</td><td>...</td><td>0</td><td>0</td><td>0</td><td>0</td><td>0</td><td>0</td><td>1</td><td> 0</td><td>98</td><td> 1</td></tr>\n",
       "\t<tr><th scope=row>CAGGGGRVGEKLFF</th><td>0</td><td>0</td><td>0</td><td>0</td><td>0</td><td>0</td><td>0</td><td>0</td><td>0</td><td>0</td><td>...</td><td>0</td><td>0</td><td>0</td><td>0</td><td>0</td><td>0</td><td>1</td><td> 0</td><td>98</td><td> 1</td></tr>\n",
       "\t<tr><th scope=row>CAGGTGQDATNEKLFF</th><td>0</td><td>0</td><td>0</td><td>0</td><td>0</td><td>0</td><td>0</td><td>0</td><td>0</td><td>0</td><td>...</td><td>0</td><td>0</td><td>0</td><td>0</td><td>0</td><td>0</td><td>1</td><td> 0</td><td>98</td><td> 1</td></tr>\n",
       "\t<tr><th scope=row>CAGRSGKGAAYNEQFF</th><td>0</td><td>0</td><td>0</td><td>0</td><td>0</td><td>0</td><td>0</td><td>0</td><td>0</td><td>1</td><td>...</td><td>0</td><td>0</td><td>0</td><td>0</td><td>0</td><td>0</td><td>1</td><td>12</td><td>86</td><td>13</td></tr>\n",
       "</tbody>\n",
       "</table>\n"
      ],
      "text/latex": [
       "A data.frame: 6 x 103\n",
       "\\begin{tabular}{r|lllllllllllllllllllll}\n",
       "  & CHP\\_319 & CHP\\_323 & CHP\\_324 & CHP\\_326 & CHP\\_328 & CHP\\_329 & CHP\\_330 & CHP\\_331 & CHP\\_333 & CHP\\_334 & ... & CHP\\_418 & CHP\\_419 & CHP\\_420 & CHP\\_421 & CHP\\_422 & CHP\\_423 & no\\_patients\\_morethanone & no\\_patients\\_one & no\\_patients\\_none & no\\_patients\\\\\n",
       "  & <int> & <int> & <int> & <int> & <int> & <int> & <int> & <int> & <int> & <int> & ... & <int> & <int> & <int> & <int> & <int> & <int> & <dbl> & <dbl> & <dbl> & <dbl>\\\\\n",
       "\\hline\n",
       "\tCAACEPEVRDTDTQYF & 0 & 0 & 0 & 0 & 0 & 0 & 0 & 0 & 0 & 0 & ... & 0 & 0 & 0 & 0 & 0 & 0 & 1 &  0 & 98 &  1\\\\\n",
       "\tCACNQVMNTEAFF & 0 & 0 & 0 & 0 & 0 & 0 & 0 & 0 & 0 & 0 & ... & 0 & 0 & 0 & 0 & 0 & 0 & 1 &  1 & 97 &  2\\\\\n",
       "\tCAERPGQGLNCYTF & 0 & 0 & 0 & 0 & 0 & 0 & 0 & 0 & 0 & 0 & ... & 0 & 0 & 0 & 0 & 0 & 0 & 1 &  0 & 98 &  1\\\\\n",
       "\tCAGGGGRVGEKLFF & 0 & 0 & 0 & 0 & 0 & 0 & 0 & 0 & 0 & 0 & ... & 0 & 0 & 0 & 0 & 0 & 0 & 1 &  0 & 98 &  1\\\\\n",
       "\tCAGGTGQDATNEKLFF & 0 & 0 & 0 & 0 & 0 & 0 & 0 & 0 & 0 & 0 & ... & 0 & 0 & 0 & 0 & 0 & 0 & 1 &  0 & 98 &  1\\\\\n",
       "\tCAGRSGKGAAYNEQFF & 0 & 0 & 0 & 0 & 0 & 0 & 0 & 0 & 0 & 1 & ... & 0 & 0 & 0 & 0 & 0 & 0 & 1 & 12 & 86 & 13\\\\\n",
       "\\end{tabular}\n"
      ],
      "text/markdown": [
       "\n",
       "A data.frame: 6 x 103\n",
       "\n",
       "| <!--/--> | CHP_319 &lt;int&gt; | CHP_323 &lt;int&gt; | CHP_324 &lt;int&gt; | CHP_326 &lt;int&gt; | CHP_328 &lt;int&gt; | CHP_329 &lt;int&gt; | CHP_330 &lt;int&gt; | CHP_331 &lt;int&gt; | CHP_333 &lt;int&gt; | CHP_334 &lt;int&gt; | ... ... | CHP_418 &lt;int&gt; | CHP_419 &lt;int&gt; | CHP_420 &lt;int&gt; | CHP_421 &lt;int&gt; | CHP_422 &lt;int&gt; | CHP_423 &lt;int&gt; | no_patients_morethanone &lt;dbl&gt; | no_patients_one &lt;dbl&gt; | no_patients_none &lt;dbl&gt; | no_patients &lt;dbl&gt; |\n",
       "|---|---|---|---|---|---|---|---|---|---|---|---|---|---|---|---|---|---|---|---|---|---|\n",
       "| CAACEPEVRDTDTQYF | 0 | 0 | 0 | 0 | 0 | 0 | 0 | 0 | 0 | 0 | ... | 0 | 0 | 0 | 0 | 0 | 0 | 1 |  0 | 98 |  1 |\n",
       "| CACNQVMNTEAFF | 0 | 0 | 0 | 0 | 0 | 0 | 0 | 0 | 0 | 0 | ... | 0 | 0 | 0 | 0 | 0 | 0 | 1 |  1 | 97 |  2 |\n",
       "| CAERPGQGLNCYTF | 0 | 0 | 0 | 0 | 0 | 0 | 0 | 0 | 0 | 0 | ... | 0 | 0 | 0 | 0 | 0 | 0 | 1 |  0 | 98 |  1 |\n",
       "| CAGGGGRVGEKLFF | 0 | 0 | 0 | 0 | 0 | 0 | 0 | 0 | 0 | 0 | ... | 0 | 0 | 0 | 0 | 0 | 0 | 1 |  0 | 98 |  1 |\n",
       "| CAGGTGQDATNEKLFF | 0 | 0 | 0 | 0 | 0 | 0 | 0 | 0 | 0 | 0 | ... | 0 | 0 | 0 | 0 | 0 | 0 | 1 |  0 | 98 |  1 |\n",
       "| CAGRSGKGAAYNEQFF | 0 | 0 | 0 | 0 | 0 | 0 | 0 | 0 | 0 | 1 | ... | 0 | 0 | 0 | 0 | 0 | 0 | 1 | 12 | 86 | 13 |\n",
       "\n"
      ],
      "text/plain": [
       "                 CHP_319 CHP_323 CHP_324 CHP_326 CHP_328 CHP_329 CHP_330\n",
       "CAACEPEVRDTDTQYF 0       0       0       0       0       0       0      \n",
       "CACNQVMNTEAFF    0       0       0       0       0       0       0      \n",
       "CAERPGQGLNCYTF   0       0       0       0       0       0       0      \n",
       "CAGGGGRVGEKLFF   0       0       0       0       0       0       0      \n",
       "CAGGTGQDATNEKLFF 0       0       0       0       0       0       0      \n",
       "CAGRSGKGAAYNEQFF 0       0       0       0       0       0       0      \n",
       "                 CHP_331 CHP_333 CHP_334 ... CHP_418 CHP_419 CHP_420 CHP_421\n",
       "CAACEPEVRDTDTQYF 0       0       0       ... 0       0       0       0      \n",
       "CACNQVMNTEAFF    0       0       0       ... 0       0       0       0      \n",
       "CAERPGQGLNCYTF   0       0       0       ... 0       0       0       0      \n",
       "CAGGGGRVGEKLFF   0       0       0       ... 0       0       0       0      \n",
       "CAGGTGQDATNEKLFF 0       0       0       ... 0       0       0       0      \n",
       "CAGRSGKGAAYNEQFF 0       0       1       ... 0       0       0       0      \n",
       "                 CHP_422 CHP_423 no_patients_morethanone no_patients_one\n",
       "CAACEPEVRDTDTQYF 0       0       1                        0             \n",
       "CACNQVMNTEAFF    0       0       1                        1             \n",
       "CAERPGQGLNCYTF   0       0       1                        0             \n",
       "CAGGGGRVGEKLFF   0       0       1                        0             \n",
       "CAGGTGQDATNEKLFF 0       0       1                        0             \n",
       "CAGRSGKGAAYNEQFF 0       0       1                       12             \n",
       "                 no_patients_none no_patients\n",
       "CAACEPEVRDTDTQYF 98                1         \n",
       "CACNQVMNTEAFF    97                2         \n",
       "CAERPGQGLNCYTF   98                1         \n",
       "CAGGGGRVGEKLFF   98                1         \n",
       "CAGGTGQDATNEKLFF 98                1         \n",
       "CAGRSGKGAAYNEQFF 86               13         "
      ]
     },
     "metadata": {},
     "output_type": "display_data"
    }
   ],
   "source": [
    "head(tcr_pat_tab[ tcr_pat_tab$no_patients_morethanone > 0,])"
   ]
  },
  {
   "cell_type": "code",
   "execution_count": 98,
   "metadata": {
    "vscode": {
     "languageId": "r"
    }
   },
   "outputs": [
    {
     "data": {
      "text/html": [
       "<style>\n",
       ".list-inline {list-style: none; margin:0; padding: 0}\n",
       ".list-inline>li {display: inline-block}\n",
       ".list-inline>li:not(:last-child)::after {content: \"\\00b7\"; padding: 0 .5ex}\n",
       "</style>\n",
       "<ol class=list-inline><li>780</li><li>103</li></ol>\n"
      ],
      "text/latex": [
       "\\begin{enumerate*}\n",
       "\\item 780\n",
       "\\item 103\n",
       "\\end{enumerate*}\n"
      ],
      "text/markdown": [
       "1. 780\n",
       "2. 103\n",
       "\n",
       "\n"
      ],
      "text/plain": [
       "[1] 780 103"
      ]
     },
     "metadata": {},
     "output_type": "display_data"
    }
   ],
   "source": [
    "dim(tcr_pat_tab[tcr_pat_tab$no_patients_morethanone == 1 & tcr_pat_tab$no_patients_none == 98, ]) #  patient-specific TCRs in more than one sample in one patient\n",
    "patient_specific <- rownames(tcr_pat_tab)[tcr_pat_tab$no_patients_morethanone == 1 & tcr_pat_tab$no_patients_none == 98 ]"
   ]
  },
  {
   "cell_type": "code",
   "execution_count": 108,
   "metadata": {
    "vscode": {
     "languageId": "r"
    }
   },
   "outputs": [
    {
     "data": {
      "text/html": [
       "<table class=\"dataframe\">\n",
       "<caption>A data.frame: 9 x 103</caption>\n",
       "<thead>\n",
       "\t<tr><th></th><th scope=col>CHP_319</th><th scope=col>CHP_323</th><th scope=col>CHP_324</th><th scope=col>CHP_326</th><th scope=col>CHP_328</th><th scope=col>CHP_329</th><th scope=col>CHP_330</th><th scope=col>CHP_331</th><th scope=col>CHP_333</th><th scope=col>CHP_334</th><th scope=col>...</th><th scope=col>CHP_418</th><th scope=col>CHP_419</th><th scope=col>CHP_420</th><th scope=col>CHP_421</th><th scope=col>CHP_422</th><th scope=col>CHP_423</th><th scope=col>no_patients_morethanone</th><th scope=col>no_patients_one</th><th scope=col>no_patients_none</th><th scope=col>no_patients</th></tr>\n",
       "\t<tr><th></th><th scope=col>&lt;int&gt;</th><th scope=col>&lt;int&gt;</th><th scope=col>&lt;int&gt;</th><th scope=col>&lt;int&gt;</th><th scope=col>&lt;int&gt;</th><th scope=col>&lt;int&gt;</th><th scope=col>&lt;int&gt;</th><th scope=col>&lt;int&gt;</th><th scope=col>&lt;int&gt;</th><th scope=col>&lt;int&gt;</th><th scope=col>...</th><th scope=col>&lt;int&gt;</th><th scope=col>&lt;int&gt;</th><th scope=col>&lt;int&gt;</th><th scope=col>&lt;int&gt;</th><th scope=col>&lt;int&gt;</th><th scope=col>&lt;int&gt;</th><th scope=col>&lt;dbl&gt;</th><th scope=col>&lt;dbl&gt;</th><th scope=col>&lt;dbl&gt;</th><th scope=col>&lt;dbl&gt;</th></tr>\n",
       "</thead>\n",
       "<tbody>\n",
       "\t<tr><th scope=row>CAGRSGKGAAYNEQFF</th><td>0</td><td>0</td><td>0</td><td>0</td><td>0</td><td>0</td><td>0</td><td>0</td><td>0</td><td>1</td><td>...</td><td>0</td><td>0</td><td>0</td><td>0</td><td>0</td><td>0</td><td>1</td><td>12</td><td>86</td><td>13</td></tr>\n",
       "\t<tr><th scope=row>CASRARELNTEAFF</th><td>0</td><td>0</td><td>0</td><td>0</td><td>0</td><td>0</td><td>0</td><td>0</td><td>0</td><td>1</td><td>...</td><td>0</td><td>0</td><td>0</td><td>0</td><td>0</td><td>0</td><td>0</td><td>10</td><td>89</td><td>10</td></tr>\n",
       "\t<tr><th scope=row>CASSHDREQETQYF</th><td>0</td><td>0</td><td>0</td><td>0</td><td>0</td><td>0</td><td>0</td><td>0</td><td>0</td><td>1</td><td>...</td><td>0</td><td>0</td><td>0</td><td>0</td><td>0</td><td>0</td><td>0</td><td>12</td><td>87</td><td>12</td></tr>\n",
       "\t<tr><th scope=row>CASSLGRNQPQHF</th><td>0</td><td>0</td><td>0</td><td>0</td><td>0</td><td>0</td><td>0</td><td>0</td><td>0</td><td>0</td><td>...</td><td>0</td><td>0</td><td>0</td><td>0</td><td>0</td><td>0</td><td>1</td><td> 9</td><td>89</td><td>10</td></tr>\n",
       "\t<tr><th scope=row>CASSLRPPDIQYF</th><td>0</td><td>0</td><td>0</td><td>0</td><td>0</td><td>0</td><td>0</td><td>0</td><td>0</td><td>1</td><td>...</td><td>0</td><td>0</td><td>0</td><td>0</td><td>0</td><td>0</td><td>1</td><td>17</td><td>81</td><td>18</td></tr>\n",
       "\t<tr><th scope=row>CASSPDRGRYQETQYF</th><td>0</td><td>0</td><td>0</td><td>0</td><td>0</td><td>0</td><td>0</td><td>0</td><td>0</td><td>1</td><td>...</td><td>0</td><td>0</td><td>0</td><td>0</td><td>0</td><td>0</td><td>6</td><td>21</td><td>72</td><td>27</td></tr>\n",
       "\t<tr><th scope=row>CASSRFAGGSGNTIYF</th><td>0</td><td>0</td><td>0</td><td>0</td><td>0</td><td>0</td><td>0</td><td>0</td><td>0</td><td>0</td><td>...</td><td>0</td><td>0</td><td>0</td><td>0</td><td>0</td><td>0</td><td>1</td><td> 9</td><td>89</td><td>10</td></tr>\n",
       "\t<tr><th scope=row>CATSDSGGLSNQPQHF</th><td>0</td><td>0</td><td>0</td><td>0</td><td>0</td><td>0</td><td>0</td><td>0</td><td>0</td><td>1</td><td>...</td><td>0</td><td>0</td><td>0</td><td>0</td><td>0</td><td>0</td><td>0</td><td>12</td><td>87</td><td>12</td></tr>\n",
       "\t<tr><th scope=row>CSVFTGGAPGEQYF</th><td>0</td><td>0</td><td>0</td><td>0</td><td>0</td><td>0</td><td>0</td><td>0</td><td>0</td><td>1</td><td>...</td><td>0</td><td>0</td><td>0</td><td>0</td><td>0</td><td>0</td><td>0</td><td>10</td><td>89</td><td>10</td></tr>\n",
       "</tbody>\n",
       "</table>\n"
      ],
      "text/latex": [
       "A data.frame: 9 x 103\n",
       "\\begin{tabular}{r|lllllllllllllllllllll}\n",
       "  & CHP\\_319 & CHP\\_323 & CHP\\_324 & CHP\\_326 & CHP\\_328 & CHP\\_329 & CHP\\_330 & CHP\\_331 & CHP\\_333 & CHP\\_334 & ... & CHP\\_418 & CHP\\_419 & CHP\\_420 & CHP\\_421 & CHP\\_422 & CHP\\_423 & no\\_patients\\_morethanone & no\\_patients\\_one & no\\_patients\\_none & no\\_patients\\\\\n",
       "  & <int> & <int> & <int> & <int> & <int> & <int> & <int> & <int> & <int> & <int> & ... & <int> & <int> & <int> & <int> & <int> & <int> & <dbl> & <dbl> & <dbl> & <dbl>\\\\\n",
       "\\hline\n",
       "\tCAGRSGKGAAYNEQFF & 0 & 0 & 0 & 0 & 0 & 0 & 0 & 0 & 0 & 1 & ... & 0 & 0 & 0 & 0 & 0 & 0 & 1 & 12 & 86 & 13\\\\\n",
       "\tCASRARELNTEAFF & 0 & 0 & 0 & 0 & 0 & 0 & 0 & 0 & 0 & 1 & ... & 0 & 0 & 0 & 0 & 0 & 0 & 0 & 10 & 89 & 10\\\\\n",
       "\tCASSHDREQETQYF & 0 & 0 & 0 & 0 & 0 & 0 & 0 & 0 & 0 & 1 & ... & 0 & 0 & 0 & 0 & 0 & 0 & 0 & 12 & 87 & 12\\\\\n",
       "\tCASSLGRNQPQHF & 0 & 0 & 0 & 0 & 0 & 0 & 0 & 0 & 0 & 0 & ... & 0 & 0 & 0 & 0 & 0 & 0 & 1 &  9 & 89 & 10\\\\\n",
       "\tCASSLRPPDIQYF & 0 & 0 & 0 & 0 & 0 & 0 & 0 & 0 & 0 & 1 & ... & 0 & 0 & 0 & 0 & 0 & 0 & 1 & 17 & 81 & 18\\\\\n",
       "\tCASSPDRGRYQETQYF & 0 & 0 & 0 & 0 & 0 & 0 & 0 & 0 & 0 & 1 & ... & 0 & 0 & 0 & 0 & 0 & 0 & 6 & 21 & 72 & 27\\\\\n",
       "\tCASSRFAGGSGNTIYF & 0 & 0 & 0 & 0 & 0 & 0 & 0 & 0 & 0 & 0 & ... & 0 & 0 & 0 & 0 & 0 & 0 & 1 &  9 & 89 & 10\\\\\n",
       "\tCATSDSGGLSNQPQHF & 0 & 0 & 0 & 0 & 0 & 0 & 0 & 0 & 0 & 1 & ... & 0 & 0 & 0 & 0 & 0 & 0 & 0 & 12 & 87 & 12\\\\\n",
       "\tCSVFTGGAPGEQYF & 0 & 0 & 0 & 0 & 0 & 0 & 0 & 0 & 0 & 1 & ... & 0 & 0 & 0 & 0 & 0 & 0 & 0 & 10 & 89 & 10\\\\\n",
       "\\end{tabular}\n"
      ],
      "text/markdown": [
       "\n",
       "A data.frame: 9 x 103\n",
       "\n",
       "| <!--/--> | CHP_319 &lt;int&gt; | CHP_323 &lt;int&gt; | CHP_324 &lt;int&gt; | CHP_326 &lt;int&gt; | CHP_328 &lt;int&gt; | CHP_329 &lt;int&gt; | CHP_330 &lt;int&gt; | CHP_331 &lt;int&gt; | CHP_333 &lt;int&gt; | CHP_334 &lt;int&gt; | ... ... | CHP_418 &lt;int&gt; | CHP_419 &lt;int&gt; | CHP_420 &lt;int&gt; | CHP_421 &lt;int&gt; | CHP_422 &lt;int&gt; | CHP_423 &lt;int&gt; | no_patients_morethanone &lt;dbl&gt; | no_patients_one &lt;dbl&gt; | no_patients_none &lt;dbl&gt; | no_patients &lt;dbl&gt; |\n",
       "|---|---|---|---|---|---|---|---|---|---|---|---|---|---|---|---|---|---|---|---|---|---|\n",
       "| CAGRSGKGAAYNEQFF | 0 | 0 | 0 | 0 | 0 | 0 | 0 | 0 | 0 | 1 | ... | 0 | 0 | 0 | 0 | 0 | 0 | 1 | 12 | 86 | 13 |\n",
       "| CASRARELNTEAFF | 0 | 0 | 0 | 0 | 0 | 0 | 0 | 0 | 0 | 1 | ... | 0 | 0 | 0 | 0 | 0 | 0 | 0 | 10 | 89 | 10 |\n",
       "| CASSHDREQETQYF | 0 | 0 | 0 | 0 | 0 | 0 | 0 | 0 | 0 | 1 | ... | 0 | 0 | 0 | 0 | 0 | 0 | 0 | 12 | 87 | 12 |\n",
       "| CASSLGRNQPQHF | 0 | 0 | 0 | 0 | 0 | 0 | 0 | 0 | 0 | 0 | ... | 0 | 0 | 0 | 0 | 0 | 0 | 1 |  9 | 89 | 10 |\n",
       "| CASSLRPPDIQYF | 0 | 0 | 0 | 0 | 0 | 0 | 0 | 0 | 0 | 1 | ... | 0 | 0 | 0 | 0 | 0 | 0 | 1 | 17 | 81 | 18 |\n",
       "| CASSPDRGRYQETQYF | 0 | 0 | 0 | 0 | 0 | 0 | 0 | 0 | 0 | 1 | ... | 0 | 0 | 0 | 0 | 0 | 0 | 6 | 21 | 72 | 27 |\n",
       "| CASSRFAGGSGNTIYF | 0 | 0 | 0 | 0 | 0 | 0 | 0 | 0 | 0 | 0 | ... | 0 | 0 | 0 | 0 | 0 | 0 | 1 |  9 | 89 | 10 |\n",
       "| CATSDSGGLSNQPQHF | 0 | 0 | 0 | 0 | 0 | 0 | 0 | 0 | 0 | 1 | ... | 0 | 0 | 0 | 0 | 0 | 0 | 0 | 12 | 87 | 12 |\n",
       "| CSVFTGGAPGEQYF | 0 | 0 | 0 | 0 | 0 | 0 | 0 | 0 | 0 | 1 | ... | 0 | 0 | 0 | 0 | 0 | 0 | 0 | 10 | 89 | 10 |\n",
       "\n"
      ],
      "text/plain": [
       "                 CHP_319 CHP_323 CHP_324 CHP_326 CHP_328 CHP_329 CHP_330\n",
       "CAGRSGKGAAYNEQFF 0       0       0       0       0       0       0      \n",
       "CASRARELNTEAFF   0       0       0       0       0       0       0      \n",
       "CASSHDREQETQYF   0       0       0       0       0       0       0      \n",
       "CASSLGRNQPQHF    0       0       0       0       0       0       0      \n",
       "CASSLRPPDIQYF    0       0       0       0       0       0       0      \n",
       "CASSPDRGRYQETQYF 0       0       0       0       0       0       0      \n",
       "CASSRFAGGSGNTIYF 0       0       0       0       0       0       0      \n",
       "CATSDSGGLSNQPQHF 0       0       0       0       0       0       0      \n",
       "CSVFTGGAPGEQYF   0       0       0       0       0       0       0      \n",
       "                 CHP_331 CHP_333 CHP_334 ... CHP_418 CHP_419 CHP_420 CHP_421\n",
       "CAGRSGKGAAYNEQFF 0       0       1       ... 0       0       0       0      \n",
       "CASRARELNTEAFF   0       0       1       ... 0       0       0       0      \n",
       "CASSHDREQETQYF   0       0       1       ... 0       0       0       0      \n",
       "CASSLGRNQPQHF    0       0       0       ... 0       0       0       0      \n",
       "CASSLRPPDIQYF    0       0       1       ... 0       0       0       0      \n",
       "CASSPDRGRYQETQYF 0       0       1       ... 0       0       0       0      \n",
       "CASSRFAGGSGNTIYF 0       0       0       ... 0       0       0       0      \n",
       "CATSDSGGLSNQPQHF 0       0       1       ... 0       0       0       0      \n",
       "CSVFTGGAPGEQYF   0       0       1       ... 0       0       0       0      \n",
       "                 CHP_422 CHP_423 no_patients_morethanone no_patients_one\n",
       "CAGRSGKGAAYNEQFF 0       0       1                       12             \n",
       "CASRARELNTEAFF   0       0       0                       10             \n",
       "CASSHDREQETQYF   0       0       0                       12             \n",
       "CASSLGRNQPQHF    0       0       1                        9             \n",
       "CASSLRPPDIQYF    0       0       1                       17             \n",
       "CASSPDRGRYQETQYF 0       0       6                       21             \n",
       "CASSRFAGGSGNTIYF 0       0       1                        9             \n",
       "CATSDSGGLSNQPQHF 0       0       0                       12             \n",
       "CSVFTGGAPGEQYF   0       0       0                       10             \n",
       "                 no_patients_none no_patients\n",
       "CAGRSGKGAAYNEQFF 86               13         \n",
       "CASRARELNTEAFF   89               10         \n",
       "CASSHDREQETQYF   87               12         \n",
       "CASSLGRNQPQHF    89               10         \n",
       "CASSLRPPDIQYF    81               18         \n",
       "CASSPDRGRYQETQYF 72               27         \n",
       "CASSRFAGGSGNTIYF 89               10         \n",
       "CATSDSGGLSNQPQHF 87               12         \n",
       "CSVFTGGAPGEQYF   89               10         "
      ]
     },
     "metadata": {},
     "output_type": "display_data"
    }
   ],
   "source": [
    "tcr_pat_tab[tcr_pat_tab$no_patients > 9, ]"
   ]
  },
  {
   "cell_type": "code",
   "execution_count": 100,
   "metadata": {
    "vscode": {
     "languageId": "r"
    }
   },
   "outputs": [
    {
     "data": {
      "text/html": [
       "<style>\n",
       ".list-inline {list-style: none; margin:0; padding: 0}\n",
       ".list-inline>li {display: inline-block}\n",
       ".list-inline>li:not(:last-child)::after {content: \"\\00b7\"; padding: 0 .5ex}\n",
       "</style>\n",
       "<ol class=list-inline><li>1482</li><li>103</li></ol>\n"
      ],
      "text/latex": [
       "\\begin{enumerate*}\n",
       "\\item 1482\n",
       "\\item 103\n",
       "\\end{enumerate*}\n"
      ],
      "text/markdown": [
       "1. 1482\n",
       "2. 103\n",
       "\n",
       "\n"
      ],
      "text/plain": [
       "[1] 1482  103"
      ]
     },
     "metadata": {},
     "output_type": "display_data"
    }
   ],
   "source": [
    "dim(tcr_pat_tab[tcr_pat_tab$no_patients > 1 & tcr_pat_tab$no_patients_none < 98, ]) # public tcrs occuring in more than one patient (in at least one of their samples)\n",
    "public <- rownames(tcr_pat_tab)[tcr_pat_tab$no_patients > 0 & tcr_pat_tab$no_patients_none < 98 ]"
   ]
  },
  {
   "cell_type": "code",
   "execution_count": 105,
   "metadata": {
    "vscode": {
     "languageId": "r"
    }
   },
   "outputs": [
    {
     "data": {
      "text/html": [
       "2.93384012353011"
      ],
      "text/latex": [
       "2.93384012353011"
      ],
      "text/markdown": [
       "2.93384012353011"
      ],
      "text/plain": [
       "[1] 2.93384"
      ]
     },
     "metadata": {},
     "output_type": "display_data"
    },
    {
     "data": {
      "text/html": [
       "1.54412638080532"
      ],
      "text/latex": [
       "1.54412638080532"
      ],
      "text/markdown": [
       "1.54412638080532"
      ],
      "text/plain": [
       "[1] 1.544126"
      ]
     },
     "metadata": {},
     "output_type": "display_data"
    }
   ],
   "source": [
    "1482 / 50514 * 100\n",
    "\n",
    "780 / 50514 * 100"
   ]
  },
  {
   "cell_type": "code",
   "execution_count": 101,
   "metadata": {
    "vscode": {
     "languageId": "r"
    }
   },
   "outputs": [
    {
     "data": {
      "text/plain": [
       "   Min. 1st Qu.  Median    Mean 3rd Qu.    Max. \n",
       "  2.000   2.000   2.000   2.474   2.000  27.000 "
      ]
     },
     "metadata": {},
     "output_type": "display_data"
    }
   ],
   "source": [
    "summary(tcr_pat_tab$no_patients[tcr_pat_tab$no_patients > 1 & tcr_pat_tab$no_patients_none < 98 ])"
   ]
  },
  {
   "cell_type": "code",
   "execution_count": 50,
   "metadata": {
    "vscode": {
     "languageId": "r"
    }
   },
   "outputs": [],
   "source": [
    "# # create a df with 4 rows, total, unique, public, patient-specific and 2 cols, name and count\n",
    "# tcr_pat_tab_df <- data.frame(name = c(\"Total\", \"Unique\", \"Public\", \"Patient-specific\"), \n",
    "# count = c(allTCRs, uniqueTCRs, tcr_in_morethanonepat, patient_specific))"
   ]
  },
  {
   "cell_type": "code",
   "execution_count": 51,
   "metadata": {
    "vscode": {
     "languageId": "r"
    }
   },
   "outputs": [],
   "source": [
    "# tcr_pat_tab_df$Percentage <- round(tcr_pat_tab_df$count / allTCRs * 100, 2)"
   ]
  },
  {
   "cell_type": "markdown",
   "metadata": {},
   "source": [
    "Add TIGERDB search"
   ]
  },
  {
   "cell_type": "code",
   "execution_count": 109,
   "metadata": {
    "vscode": {
     "languageId": "r"
    }
   },
   "outputs": [],
   "source": [
    "# tigerdb_output <- read.table(x)"
   ]
  },
  {
   "cell_type": "code",
   "execution_count": 110,
   "metadata": {
    "vscode": {
     "languageId": "r"
    }
   },
   "outputs": [
    {
     "data": {
      "text/html": [
       "<table class=\"dataframe\">\n",
       "<caption>A data.frame: 6 x 103</caption>\n",
       "<thead>\n",
       "\t<tr><th></th><th scope=col>CHP_319</th><th scope=col>CHP_323</th><th scope=col>CHP_324</th><th scope=col>CHP_326</th><th scope=col>CHP_328</th><th scope=col>CHP_329</th><th scope=col>CHP_330</th><th scope=col>CHP_331</th><th scope=col>CHP_333</th><th scope=col>CHP_334</th><th scope=col>...</th><th scope=col>CHP_418</th><th scope=col>CHP_419</th><th scope=col>CHP_420</th><th scope=col>CHP_421</th><th scope=col>CHP_422</th><th scope=col>CHP_423</th><th scope=col>no_patients_morethanone</th><th scope=col>no_patients_one</th><th scope=col>no_patients_none</th><th scope=col>no_patients</th></tr>\n",
       "\t<tr><th></th><th scope=col>&lt;int&gt;</th><th scope=col>&lt;int&gt;</th><th scope=col>&lt;int&gt;</th><th scope=col>&lt;int&gt;</th><th scope=col>&lt;int&gt;</th><th scope=col>&lt;int&gt;</th><th scope=col>&lt;int&gt;</th><th scope=col>&lt;int&gt;</th><th scope=col>&lt;int&gt;</th><th scope=col>&lt;int&gt;</th><th scope=col>...</th><th scope=col>&lt;int&gt;</th><th scope=col>&lt;int&gt;</th><th scope=col>&lt;int&gt;</th><th scope=col>&lt;int&gt;</th><th scope=col>&lt;int&gt;</th><th scope=col>&lt;int&gt;</th><th scope=col>&lt;dbl&gt;</th><th scope=col>&lt;dbl&gt;</th><th scope=col>&lt;dbl&gt;</th><th scope=col>&lt;dbl&gt;</th></tr>\n",
       "</thead>\n",
       "<tbody>\n",
       "\t<tr><th scope=row>CAAAGGGEAFF</th><td>0</td><td>0</td><td>0</td><td>0</td><td>0</td><td>0</td><td>0</td><td>0</td><td>0</td><td>0</td><td>...</td><td>0</td><td>0</td><td>0</td><td>0</td><td>0</td><td>0</td><td>0</td><td>1</td><td>98</td><td>1</td></tr>\n",
       "\t<tr><th scope=row>CAAAGGSGVGYEQYF</th><td>0</td><td>0</td><td>0</td><td>0</td><td>0</td><td>0</td><td>0</td><td>0</td><td>0</td><td>0</td><td>...</td><td>0</td><td>0</td><td>0</td><td>0</td><td>0</td><td>0</td><td>0</td><td>1</td><td>98</td><td>1</td></tr>\n",
       "\t<tr><th scope=row>CAAARGFDEQYF</th><td>0</td><td>0</td><td>0</td><td>0</td><td>0</td><td>0</td><td>0</td><td>0</td><td>0</td><td>0</td><td>...</td><td>0</td><td>0</td><td>0</td><td>0</td><td>0</td><td>0</td><td>0</td><td>1</td><td>98</td><td>1</td></tr>\n",
       "\t<tr><th scope=row>CAACEPEVRDTDTQYF</th><td>0</td><td>0</td><td>0</td><td>0</td><td>0</td><td>0</td><td>0</td><td>0</td><td>0</td><td>0</td><td>...</td><td>0</td><td>0</td><td>0</td><td>0</td><td>0</td><td>0</td><td>1</td><td>0</td><td>98</td><td>1</td></tr>\n",
       "\t<tr><th scope=row>CAAEPRLAGGTDTQYF</th><td>0</td><td>0</td><td>0</td><td>0</td><td>0</td><td>0</td><td>0</td><td>0</td><td>0</td><td>0</td><td>...</td><td>0</td><td>0</td><td>0</td><td>0</td><td>0</td><td>0</td><td>0</td><td>1</td><td>98</td><td>1</td></tr>\n",
       "\t<tr><th scope=row>CAAGDRGPIVYEQYF</th><td>0</td><td>0</td><td>0</td><td>0</td><td>0</td><td>0</td><td>0</td><td>0</td><td>0</td><td>0</td><td>...</td><td>0</td><td>0</td><td>0</td><td>0</td><td>0</td><td>0</td><td>0</td><td>1</td><td>98</td><td>1</td></tr>\n",
       "</tbody>\n",
       "</table>\n"
      ],
      "text/latex": [
       "A data.frame: 6 x 103\n",
       "\\begin{tabular}{r|lllllllllllllllllllll}\n",
       "  & CHP\\_319 & CHP\\_323 & CHP\\_324 & CHP\\_326 & CHP\\_328 & CHP\\_329 & CHP\\_330 & CHP\\_331 & CHP\\_333 & CHP\\_334 & ... & CHP\\_418 & CHP\\_419 & CHP\\_420 & CHP\\_421 & CHP\\_422 & CHP\\_423 & no\\_patients\\_morethanone & no\\_patients\\_one & no\\_patients\\_none & no\\_patients\\\\\n",
       "  & <int> & <int> & <int> & <int> & <int> & <int> & <int> & <int> & <int> & <int> & ... & <int> & <int> & <int> & <int> & <int> & <int> & <dbl> & <dbl> & <dbl> & <dbl>\\\\\n",
       "\\hline\n",
       "\tCAAAGGGEAFF & 0 & 0 & 0 & 0 & 0 & 0 & 0 & 0 & 0 & 0 & ... & 0 & 0 & 0 & 0 & 0 & 0 & 0 & 1 & 98 & 1\\\\\n",
       "\tCAAAGGSGVGYEQYF & 0 & 0 & 0 & 0 & 0 & 0 & 0 & 0 & 0 & 0 & ... & 0 & 0 & 0 & 0 & 0 & 0 & 0 & 1 & 98 & 1\\\\\n",
       "\tCAAARGFDEQYF & 0 & 0 & 0 & 0 & 0 & 0 & 0 & 0 & 0 & 0 & ... & 0 & 0 & 0 & 0 & 0 & 0 & 0 & 1 & 98 & 1\\\\\n",
       "\tCAACEPEVRDTDTQYF & 0 & 0 & 0 & 0 & 0 & 0 & 0 & 0 & 0 & 0 & ... & 0 & 0 & 0 & 0 & 0 & 0 & 1 & 0 & 98 & 1\\\\\n",
       "\tCAAEPRLAGGTDTQYF & 0 & 0 & 0 & 0 & 0 & 0 & 0 & 0 & 0 & 0 & ... & 0 & 0 & 0 & 0 & 0 & 0 & 0 & 1 & 98 & 1\\\\\n",
       "\tCAAGDRGPIVYEQYF & 0 & 0 & 0 & 0 & 0 & 0 & 0 & 0 & 0 & 0 & ... & 0 & 0 & 0 & 0 & 0 & 0 & 0 & 1 & 98 & 1\\\\\n",
       "\\end{tabular}\n"
      ],
      "text/markdown": [
       "\n",
       "A data.frame: 6 x 103\n",
       "\n",
       "| <!--/--> | CHP_319 &lt;int&gt; | CHP_323 &lt;int&gt; | CHP_324 &lt;int&gt; | CHP_326 &lt;int&gt; | CHP_328 &lt;int&gt; | CHP_329 &lt;int&gt; | CHP_330 &lt;int&gt; | CHP_331 &lt;int&gt; | CHP_333 &lt;int&gt; | CHP_334 &lt;int&gt; | ... ... | CHP_418 &lt;int&gt; | CHP_419 &lt;int&gt; | CHP_420 &lt;int&gt; | CHP_421 &lt;int&gt; | CHP_422 &lt;int&gt; | CHP_423 &lt;int&gt; | no_patients_morethanone &lt;dbl&gt; | no_patients_one &lt;dbl&gt; | no_patients_none &lt;dbl&gt; | no_patients &lt;dbl&gt; |\n",
       "|---|---|---|---|---|---|---|---|---|---|---|---|---|---|---|---|---|---|---|---|---|---|\n",
       "| CAAAGGGEAFF | 0 | 0 | 0 | 0 | 0 | 0 | 0 | 0 | 0 | 0 | ... | 0 | 0 | 0 | 0 | 0 | 0 | 0 | 1 | 98 | 1 |\n",
       "| CAAAGGSGVGYEQYF | 0 | 0 | 0 | 0 | 0 | 0 | 0 | 0 | 0 | 0 | ... | 0 | 0 | 0 | 0 | 0 | 0 | 0 | 1 | 98 | 1 |\n",
       "| CAAARGFDEQYF | 0 | 0 | 0 | 0 | 0 | 0 | 0 | 0 | 0 | 0 | ... | 0 | 0 | 0 | 0 | 0 | 0 | 0 | 1 | 98 | 1 |\n",
       "| CAACEPEVRDTDTQYF | 0 | 0 | 0 | 0 | 0 | 0 | 0 | 0 | 0 | 0 | ... | 0 | 0 | 0 | 0 | 0 | 0 | 1 | 0 | 98 | 1 |\n",
       "| CAAEPRLAGGTDTQYF | 0 | 0 | 0 | 0 | 0 | 0 | 0 | 0 | 0 | 0 | ... | 0 | 0 | 0 | 0 | 0 | 0 | 0 | 1 | 98 | 1 |\n",
       "| CAAGDRGPIVYEQYF | 0 | 0 | 0 | 0 | 0 | 0 | 0 | 0 | 0 | 0 | ... | 0 | 0 | 0 | 0 | 0 | 0 | 0 | 1 | 98 | 1 |\n",
       "\n"
      ],
      "text/plain": [
       "                 CHP_319 CHP_323 CHP_324 CHP_326 CHP_328 CHP_329 CHP_330\n",
       "CAAAGGGEAFF      0       0       0       0       0       0       0      \n",
       "CAAAGGSGVGYEQYF  0       0       0       0       0       0       0      \n",
       "CAAARGFDEQYF     0       0       0       0       0       0       0      \n",
       "CAACEPEVRDTDTQYF 0       0       0       0       0       0       0      \n",
       "CAAEPRLAGGTDTQYF 0       0       0       0       0       0       0      \n",
       "CAAGDRGPIVYEQYF  0       0       0       0       0       0       0      \n",
       "                 CHP_331 CHP_333 CHP_334 ... CHP_418 CHP_419 CHP_420 CHP_421\n",
       "CAAAGGGEAFF      0       0       0       ... 0       0       0       0      \n",
       "CAAAGGSGVGYEQYF  0       0       0       ... 0       0       0       0      \n",
       "CAAARGFDEQYF     0       0       0       ... 0       0       0       0      \n",
       "CAACEPEVRDTDTQYF 0       0       0       ... 0       0       0       0      \n",
       "CAAEPRLAGGTDTQYF 0       0       0       ... 0       0       0       0      \n",
       "CAAGDRGPIVYEQYF  0       0       0       ... 0       0       0       0      \n",
       "                 CHP_422 CHP_423 no_patients_morethanone no_patients_one\n",
       "CAAAGGGEAFF      0       0       0                       1              \n",
       "CAAAGGSGVGYEQYF  0       0       0                       1              \n",
       "CAAARGFDEQYF     0       0       0                       1              \n",
       "CAACEPEVRDTDTQYF 0       0       1                       0              \n",
       "CAAEPRLAGGTDTQYF 0       0       0                       1              \n",
       "CAAGDRGPIVYEQYF  0       0       0                       1              \n",
       "                 no_patients_none no_patients\n",
       "CAAAGGGEAFF      98               1          \n",
       "CAAAGGSGVGYEQYF  98               1          \n",
       "CAAARGFDEQYF     98               1          \n",
       "CAACEPEVRDTDTQYF 98               1          \n",
       "CAAEPRLAGGTDTQYF 98               1          \n",
       "CAAGDRGPIVYEQYF  98               1          "
      ]
     },
     "metadata": {},
     "output_type": "display_data"
    }
   ],
   "source": [
    "head(tcr_pat_tab)"
   ]
  },
  {
   "cell_type": "code",
   "execution_count": 112,
   "metadata": {
    "vscode": {
     "languageId": "r"
    }
   },
   "outputs": [],
   "source": [
    "tcr_pat_tab$db_annot <- NA\n"
   ]
  },
  {
   "cell_type": "markdown",
   "metadata": {},
   "source": [
    "# Sankey plot"
   ]
  },
  {
   "cell_type": "code",
   "execution_count": 113,
   "metadata": {
    "vscode": {
     "languageId": "r"
    }
   },
   "outputs": [
    {
     "data": {
      "text/html": [
       "<style>\n",
       ".list-inline {list-style: none; margin:0; padding: 0}\n",
       ".list-inline>li {display: inline-block}\n",
       ".list-inline>li:not(:last-child)::after {content: \"\\00b7\"; padding: 0 .5ex}\n",
       "</style>\n",
       "<ol class=list-inline><li>53686</li><li>40</li></ol>\n"
      ],
      "text/latex": [
       "\\begin{enumerate*}\n",
       "\\item 53686\n",
       "\\item 40\n",
       "\\end{enumerate*}\n"
      ],
      "text/markdown": [
       "1. 53686\n",
       "2. 40\n",
       "\n",
       "\n"
      ],
      "text/plain": [
       "[1] 53686    40"
      ]
     },
     "metadata": {},
     "output_type": "display_data"
    }
   ],
   "source": [
    "dim(int_all)"
   ]
  },
  {
   "cell_type": "code",
   "execution_count": 114,
   "metadata": {
    "vscode": {
     "languageId": "r"
    }
   },
   "outputs": [],
   "source": [
    "int_all$basename_tcr <- paste0(int_all$basename, \"_\", int_all$aaSeqCDR3)"
   ]
  },
  {
   "cell_type": "code",
   "execution_count": 115,
   "metadata": {
    "vscode": {
     "languageId": "r"
    }
   },
   "outputs": [],
   "source": [
    "sankey_rows <- data.frame(int_all[, c(\"basename_tcr\", \"basename\", \"aaSeqCDR3\", \"Patient\", \"sampletype\")])"
   ]
  },
  {
   "cell_type": "code",
   "execution_count": 116,
   "metadata": {
    "vscode": {
     "languageId": "r"
    }
   },
   "outputs": [],
   "source": [
    "sankey_rows$all <- \"All\""
   ]
  },
  {
   "cell_type": "code",
   "execution_count": 117,
   "metadata": {
    "vscode": {
     "languageId": "r"
    }
   },
   "outputs": [
    {
     "data": {
      "text/html": [
       "<table class=\"dataframe\">\n",
       "<caption>A data.frame: 6 x 6</caption>\n",
       "<thead>\n",
       "\t<tr><th></th><th scope=col>basename_tcr</th><th scope=col>basename</th><th scope=col>aaSeqCDR3</th><th scope=col>Patient</th><th scope=col>sampletype</th><th scope=col>all</th></tr>\n",
       "\t<tr><th></th><th scope=col>&lt;chr&gt;</th><th scope=col>&lt;chr&gt;</th><th scope=col>&lt;chr&gt;</th><th scope=col>&lt;chr&gt;</th><th scope=col>&lt;chr&gt;</th><th scope=col>&lt;chr&gt;</th></tr>\n",
       "</thead>\n",
       "<tbody>\n",
       "\t<tr><th scope=row>1</th><td>CHP_319-05-PBMC-DNA_CASRERIAPGNTIYF    </td><td>CHP_319-05-PBMC-DNA</td><td>CASRERIAPGNTIYF    </td><td>CHP_319</td><td>PBMC</td><td>All</td></tr>\n",
       "\t<tr><th scope=row>2</th><td>CHP_319-05-PBMC-DNA_CSARDRTGMSTDTQYF   </td><td>CHP_319-05-PBMC-DNA</td><td>CSARDRTGMSTDTQYF   </td><td>CHP_319</td><td>PBMC</td><td>All</td></tr>\n",
       "\t<tr><th scope=row>3</th><td>CHP_319-05-PBMC-DNA_CASRLGTGHENTEAFF   </td><td>CHP_319-05-PBMC-DNA</td><td>CASRLGTGHENTEAFF   </td><td>CHP_319</td><td>PBMC</td><td>All</td></tr>\n",
       "\t<tr><th scope=row>4</th><td>CHP_319-05-PBMC-DNA_CATSRDWTVSYEQYF    </td><td>CHP_319-05-PBMC-DNA</td><td>CATSRDWTVSYEQYF    </td><td>CHP_319</td><td>PBMC</td><td>All</td></tr>\n",
       "\t<tr><th scope=row>5</th><td>CHP_319-05-PBMC-DNA_CASSRNRVRYGYTF     </td><td>CHP_319-05-PBMC-DNA</td><td>CASSRNRVRYGYTF     </td><td>CHP_319</td><td>PBMC</td><td>All</td></tr>\n",
       "\t<tr><th scope=row>7</th><td>CHP_319-05-PBMC-DNA_CASSKDVLGDSSYNSPLHF</td><td>CHP_319-05-PBMC-DNA</td><td>CASSKDVLGDSSYNSPLHF</td><td>CHP_319</td><td>PBMC</td><td>All</td></tr>\n",
       "</tbody>\n",
       "</table>\n"
      ],
      "text/latex": [
       "A data.frame: 6 x 6\n",
       "\\begin{tabular}{r|llllll}\n",
       "  & basename\\_tcr & basename & aaSeqCDR3 & Patient & sampletype & all\\\\\n",
       "  & <chr> & <chr> & <chr> & <chr> & <chr> & <chr>\\\\\n",
       "\\hline\n",
       "\t1 & CHP\\_319-05-PBMC-DNA\\_CASRERIAPGNTIYF     & CHP\\_319-05-PBMC-DNA & CASRERIAPGNTIYF     & CHP\\_319 & PBMC & All\\\\\n",
       "\t2 & CHP\\_319-05-PBMC-DNA\\_CSARDRTGMSTDTQYF    & CHP\\_319-05-PBMC-DNA & CSARDRTGMSTDTQYF    & CHP\\_319 & PBMC & All\\\\\n",
       "\t3 & CHP\\_319-05-PBMC-DNA\\_CASRLGTGHENTEAFF    & CHP\\_319-05-PBMC-DNA & CASRLGTGHENTEAFF    & CHP\\_319 & PBMC & All\\\\\n",
       "\t4 & CHP\\_319-05-PBMC-DNA\\_CATSRDWTVSYEQYF     & CHP\\_319-05-PBMC-DNA & CATSRDWTVSYEQYF     & CHP\\_319 & PBMC & All\\\\\n",
       "\t5 & CHP\\_319-05-PBMC-DNA\\_CASSRNRVRYGYTF      & CHP\\_319-05-PBMC-DNA & CASSRNRVRYGYTF      & CHP\\_319 & PBMC & All\\\\\n",
       "\t7 & CHP\\_319-05-PBMC-DNA\\_CASSKDVLGDSSYNSPLHF & CHP\\_319-05-PBMC-DNA & CASSKDVLGDSSYNSPLHF & CHP\\_319 & PBMC & All\\\\\n",
       "\\end{tabular}\n"
      ],
      "text/markdown": [
       "\n",
       "A data.frame: 6 x 6\n",
       "\n",
       "| <!--/--> | basename_tcr &lt;chr&gt; | basename &lt;chr&gt; | aaSeqCDR3 &lt;chr&gt; | Patient &lt;chr&gt; | sampletype &lt;chr&gt; | all &lt;chr&gt; |\n",
       "|---|---|---|---|---|---|---|\n",
       "| 1 | CHP_319-05-PBMC-DNA_CASRERIAPGNTIYF     | CHP_319-05-PBMC-DNA | CASRERIAPGNTIYF     | CHP_319 | PBMC | All |\n",
       "| 2 | CHP_319-05-PBMC-DNA_CSARDRTGMSTDTQYF    | CHP_319-05-PBMC-DNA | CSARDRTGMSTDTQYF    | CHP_319 | PBMC | All |\n",
       "| 3 | CHP_319-05-PBMC-DNA_CASRLGTGHENTEAFF    | CHP_319-05-PBMC-DNA | CASRLGTGHENTEAFF    | CHP_319 | PBMC | All |\n",
       "| 4 | CHP_319-05-PBMC-DNA_CATSRDWTVSYEQYF     | CHP_319-05-PBMC-DNA | CATSRDWTVSYEQYF     | CHP_319 | PBMC | All |\n",
       "| 5 | CHP_319-05-PBMC-DNA_CASSRNRVRYGYTF      | CHP_319-05-PBMC-DNA | CASSRNRVRYGYTF      | CHP_319 | PBMC | All |\n",
       "| 7 | CHP_319-05-PBMC-DNA_CASSKDVLGDSSYNSPLHF | CHP_319-05-PBMC-DNA | CASSKDVLGDSSYNSPLHF | CHP_319 | PBMC | All |\n",
       "\n"
      ],
      "text/plain": [
       "  basename_tcr                            basename           \n",
       "1 CHP_319-05-PBMC-DNA_CASRERIAPGNTIYF     CHP_319-05-PBMC-DNA\n",
       "2 CHP_319-05-PBMC-DNA_CSARDRTGMSTDTQYF    CHP_319-05-PBMC-DNA\n",
       "3 CHP_319-05-PBMC-DNA_CASRLGTGHENTEAFF    CHP_319-05-PBMC-DNA\n",
       "4 CHP_319-05-PBMC-DNA_CATSRDWTVSYEQYF     CHP_319-05-PBMC-DNA\n",
       "5 CHP_319-05-PBMC-DNA_CASSRNRVRYGYTF      CHP_319-05-PBMC-DNA\n",
       "7 CHP_319-05-PBMC-DNA_CASSKDVLGDSSYNSPLHF CHP_319-05-PBMC-DNA\n",
       "  aaSeqCDR3           Patient sampletype all\n",
       "1 CASRERIAPGNTIYF     CHP_319 PBMC       All\n",
       "2 CSARDRTGMSTDTQYF    CHP_319 PBMC       All\n",
       "3 CASRLGTGHENTEAFF    CHP_319 PBMC       All\n",
       "4 CATSRDWTVSYEQYF     CHP_319 PBMC       All\n",
       "5 CASSRNRVRYGYTF      CHP_319 PBMC       All\n",
       "7 CASSKDVLGDSSYNSPLHF CHP_319 PBMC       All"
      ]
     },
     "metadata": {},
     "output_type": "display_data"
    }
   ],
   "source": [
    "head(sankey_rows)"
   ]
  },
  {
   "cell_type": "code",
   "execution_count": 118,
   "metadata": {
    "vscode": {
     "languageId": "r"
    }
   },
   "outputs": [],
   "source": [
    "mytb <- as.data.frame(table(sankey_rows$aaSeqCDR3))"
   ]
  },
  {
   "cell_type": "code",
   "execution_count": 119,
   "metadata": {
    "vscode": {
     "languageId": "r"
    }
   },
   "outputs": [
    {
     "data": {
      "text/html": [
       "50514"
      ],
      "text/latex": [
       "50514"
      ],
      "text/markdown": [
       "50514"
      ],
      "text/plain": [
       "[1] 50514"
      ]
     },
     "metadata": {},
     "output_type": "display_data"
    },
    {
     "data": {
      "text/html": [
       "2262"
      ],
      "text/latex": [
       "2262"
      ],
      "text/markdown": [
       "2262"
      ],
      "text/plain": [
       "[1] 2262"
      ]
     },
     "metadata": {},
     "output_type": "display_data"
    }
   ],
   "source": [
    "nrow(mytb) # total unique sequences\n",
    "\n",
    "nrow(mytb[mytb$Freq > 1,]) # total sequences that occur more than once"
   ]
  },
  {
   "cell_type": "code",
   "execution_count": 120,
   "metadata": {
    "vscode": {
     "languageId": "r"
    }
   },
   "outputs": [
    {
     "data": {
      "text/html": [
       "4.47796650433543"
      ],
      "text/latex": [
       "4.47796650433543"
      ],
      "text/markdown": [
       "4.47796650433543"
      ],
      "text/plain": [
       "[1] 4.477967"
      ]
     },
     "metadata": {},
     "output_type": "display_data"
    }
   ],
   "source": [
    "2262 / 50514 * 100"
   ]
  },
  {
   "cell_type": "code",
   "execution_count": 121,
   "metadata": {
    "vscode": {
     "languageId": "r"
    }
   },
   "outputs": [
    {
     "data": {
      "text/plain": [
       "   Min. 1st Qu.  Median    Mean 3rd Qu.    Max. \n",
       "  2.000   2.000   2.000   2.402   2.000  33.000 "
      ]
     },
     "metadata": {},
     "output_type": "display_data"
    }
   ],
   "source": [
    "summary(mytb$Freq[mytb$Freq > 1])"
   ]
  },
  {
   "cell_type": "code",
   "execution_count": 122,
   "metadata": {
    "vscode": {
     "languageId": "r"
    }
   },
   "outputs": [
    {
     "data": {
      "text/html": [
       "<table class=\"dataframe\">\n",
       "<caption>A data.frame: 6 x 6</caption>\n",
       "<thead>\n",
       "\t<tr><th></th><th scope=col>basename_tcr</th><th scope=col>basename</th><th scope=col>aaSeqCDR3</th><th scope=col>Patient</th><th scope=col>sampletype</th><th scope=col>all</th></tr>\n",
       "\t<tr><th></th><th scope=col>&lt;chr&gt;</th><th scope=col>&lt;chr&gt;</th><th scope=col>&lt;chr&gt;</th><th scope=col>&lt;chr&gt;</th><th scope=col>&lt;chr&gt;</th><th scope=col>&lt;chr&gt;</th></tr>\n",
       "</thead>\n",
       "<tbody>\n",
       "\t<tr><th scope=row>1</th><td>CHP_319-05-PBMC-DNA_CASRERIAPGNTIYF    </td><td>CHP_319-05-PBMC-DNA</td><td>CASRERIAPGNTIYF    </td><td>CHP_319</td><td>PBMC</td><td>All</td></tr>\n",
       "\t<tr><th scope=row>2</th><td>CHP_319-05-PBMC-DNA_CSARDRTGMSTDTQYF   </td><td>CHP_319-05-PBMC-DNA</td><td>CSARDRTGMSTDTQYF   </td><td>CHP_319</td><td>PBMC</td><td>All</td></tr>\n",
       "\t<tr><th scope=row>3</th><td>CHP_319-05-PBMC-DNA_CASRLGTGHENTEAFF   </td><td>CHP_319-05-PBMC-DNA</td><td>CASRLGTGHENTEAFF   </td><td>CHP_319</td><td>PBMC</td><td>All</td></tr>\n",
       "\t<tr><th scope=row>4</th><td>CHP_319-05-PBMC-DNA_CATSRDWTVSYEQYF    </td><td>CHP_319-05-PBMC-DNA</td><td>CATSRDWTVSYEQYF    </td><td>CHP_319</td><td>PBMC</td><td>All</td></tr>\n",
       "\t<tr><th scope=row>5</th><td>CHP_319-05-PBMC-DNA_CASSRNRVRYGYTF     </td><td>CHP_319-05-PBMC-DNA</td><td>CASSRNRVRYGYTF     </td><td>CHP_319</td><td>PBMC</td><td>All</td></tr>\n",
       "\t<tr><th scope=row>7</th><td>CHP_319-05-PBMC-DNA_CASSKDVLGDSSYNSPLHF</td><td>CHP_319-05-PBMC-DNA</td><td>CASSKDVLGDSSYNSPLHF</td><td>CHP_319</td><td>PBMC</td><td>All</td></tr>\n",
       "</tbody>\n",
       "</table>\n"
      ],
      "text/latex": [
       "A data.frame: 6 x 6\n",
       "\\begin{tabular}{r|llllll}\n",
       "  & basename\\_tcr & basename & aaSeqCDR3 & Patient & sampletype & all\\\\\n",
       "  & <chr> & <chr> & <chr> & <chr> & <chr> & <chr>\\\\\n",
       "\\hline\n",
       "\t1 & CHP\\_319-05-PBMC-DNA\\_CASRERIAPGNTIYF     & CHP\\_319-05-PBMC-DNA & CASRERIAPGNTIYF     & CHP\\_319 & PBMC & All\\\\\n",
       "\t2 & CHP\\_319-05-PBMC-DNA\\_CSARDRTGMSTDTQYF    & CHP\\_319-05-PBMC-DNA & CSARDRTGMSTDTQYF    & CHP\\_319 & PBMC & All\\\\\n",
       "\t3 & CHP\\_319-05-PBMC-DNA\\_CASRLGTGHENTEAFF    & CHP\\_319-05-PBMC-DNA & CASRLGTGHENTEAFF    & CHP\\_319 & PBMC & All\\\\\n",
       "\t4 & CHP\\_319-05-PBMC-DNA\\_CATSRDWTVSYEQYF     & CHP\\_319-05-PBMC-DNA & CATSRDWTVSYEQYF     & CHP\\_319 & PBMC & All\\\\\n",
       "\t5 & CHP\\_319-05-PBMC-DNA\\_CASSRNRVRYGYTF      & CHP\\_319-05-PBMC-DNA & CASSRNRVRYGYTF      & CHP\\_319 & PBMC & All\\\\\n",
       "\t7 & CHP\\_319-05-PBMC-DNA\\_CASSKDVLGDSSYNSPLHF & CHP\\_319-05-PBMC-DNA & CASSKDVLGDSSYNSPLHF & CHP\\_319 & PBMC & All\\\\\n",
       "\\end{tabular}\n"
      ],
      "text/markdown": [
       "\n",
       "A data.frame: 6 x 6\n",
       "\n",
       "| <!--/--> | basename_tcr &lt;chr&gt; | basename &lt;chr&gt; | aaSeqCDR3 &lt;chr&gt; | Patient &lt;chr&gt; | sampletype &lt;chr&gt; | all &lt;chr&gt; |\n",
       "|---|---|---|---|---|---|---|\n",
       "| 1 | CHP_319-05-PBMC-DNA_CASRERIAPGNTIYF     | CHP_319-05-PBMC-DNA | CASRERIAPGNTIYF     | CHP_319 | PBMC | All |\n",
       "| 2 | CHP_319-05-PBMC-DNA_CSARDRTGMSTDTQYF    | CHP_319-05-PBMC-DNA | CSARDRTGMSTDTQYF    | CHP_319 | PBMC | All |\n",
       "| 3 | CHP_319-05-PBMC-DNA_CASRLGTGHENTEAFF    | CHP_319-05-PBMC-DNA | CASRLGTGHENTEAFF    | CHP_319 | PBMC | All |\n",
       "| 4 | CHP_319-05-PBMC-DNA_CATSRDWTVSYEQYF     | CHP_319-05-PBMC-DNA | CATSRDWTVSYEQYF     | CHP_319 | PBMC | All |\n",
       "| 5 | CHP_319-05-PBMC-DNA_CASSRNRVRYGYTF      | CHP_319-05-PBMC-DNA | CASSRNRVRYGYTF      | CHP_319 | PBMC | All |\n",
       "| 7 | CHP_319-05-PBMC-DNA_CASSKDVLGDSSYNSPLHF | CHP_319-05-PBMC-DNA | CASSKDVLGDSSYNSPLHF | CHP_319 | PBMC | All |\n",
       "\n"
      ],
      "text/plain": [
       "  basename_tcr                            basename           \n",
       "1 CHP_319-05-PBMC-DNA_CASRERIAPGNTIYF     CHP_319-05-PBMC-DNA\n",
       "2 CHP_319-05-PBMC-DNA_CSARDRTGMSTDTQYF    CHP_319-05-PBMC-DNA\n",
       "3 CHP_319-05-PBMC-DNA_CASRLGTGHENTEAFF    CHP_319-05-PBMC-DNA\n",
       "4 CHP_319-05-PBMC-DNA_CATSRDWTVSYEQYF     CHP_319-05-PBMC-DNA\n",
       "5 CHP_319-05-PBMC-DNA_CASSRNRVRYGYTF      CHP_319-05-PBMC-DNA\n",
       "7 CHP_319-05-PBMC-DNA_CASSKDVLGDSSYNSPLHF CHP_319-05-PBMC-DNA\n",
       "  aaSeqCDR3           Patient sampletype all\n",
       "1 CASRERIAPGNTIYF     CHP_319 PBMC       All\n",
       "2 CSARDRTGMSTDTQYF    CHP_319 PBMC       All\n",
       "3 CASRLGTGHENTEAFF    CHP_319 PBMC       All\n",
       "4 CATSRDWTVSYEQYF     CHP_319 PBMC       All\n",
       "5 CASSRNRVRYGYTF      CHP_319 PBMC       All\n",
       "7 CASSKDVLGDSSYNSPLHF CHP_319 PBMC       All"
      ]
     },
     "metadata": {},
     "output_type": "display_data"
    }
   ],
   "source": [
    "head(sankey_rows)"
   ]
  },
  {
   "cell_type": "code",
   "execution_count": 123,
   "metadata": {
    "vscode": {
     "languageId": "r"
    }
   },
   "outputs": [],
   "source": [
    "uniquetcrs <- unique(int_all$aaSeqCDR3)"
   ]
  },
  {
   "cell_type": "code",
   "execution_count": 124,
   "metadata": {
    "vscode": {
     "languageId": "r"
    }
   },
   "outputs": [
    {
     "data": {
      "text/html": [
       "50514"
      ],
      "text/latex": [
       "50514"
      ],
      "text/markdown": [
       "50514"
      ],
      "text/plain": [
       "[1] 50514"
      ]
     },
     "metadata": {},
     "output_type": "display_data"
    }
   ],
   "source": [
    "length(uniquetcrs)"
   ]
  },
  {
   "cell_type": "code",
   "execution_count": 125,
   "metadata": {
    "vscode": {
     "languageId": "r"
    }
   },
   "outputs": [
    {
     "data": {
      "text/html": [
       "<style>\n",
       ".list-inline {list-style: none; margin:0; padding: 0}\n",
       ".list-inline>li {display: inline-block}\n",
       ".list-inline>li:not(:last-child)::after {content: \"\\00b7\"; padding: 0 .5ex}\n",
       "</style>\n",
       "<ol class=list-inline><li>53686</li><li>40</li></ol>\n"
      ],
      "text/latex": [
       "\\begin{enumerate*}\n",
       "\\item 53686\n",
       "\\item 40\n",
       "\\end{enumerate*}\n"
      ],
      "text/markdown": [
       "1. 53686\n",
       "2. 40\n",
       "\n",
       "\n"
      ],
      "text/plain": [
       "[1] 53686    40"
      ]
     },
     "metadata": {},
     "output_type": "display_data"
    }
   ],
   "source": [
    "dim(int_all)"
   ]
  },
  {
   "cell_type": "code",
   "execution_count": 126,
   "metadata": {
    "vscode": {
     "languageId": "r"
    }
   },
   "outputs": [],
   "source": [
    "sankey_rows$unique_tcr <- NA\n",
    "sankey_rows$unique_tcr[!sankey_rows$aaSeqCDR3 %in% dups$aaSeqCDR3] <- \"Found once\"\n",
    "sankey_rows$unique_tcr[sankey_rows$aaSeqCDR3 %in% dups$aaSeqCDR3] <- \"Found more than once\""
   ]
  },
  {
   "cell_type": "code",
   "execution_count": 127,
   "metadata": {
    "vscode": {
     "languageId": "r"
    }
   },
   "outputs": [
    {
     "data": {
      "text/plain": [
       "\n",
       "Found more than once           Found once \n",
       "                5434                48252 "
      ]
     },
     "metadata": {},
     "output_type": "display_data"
    }
   ],
   "source": [
    "table(sankey_rows$unique_tcr)"
   ]
  },
  {
   "cell_type": "code",
   "execution_count": 128,
   "metadata": {
    "vscode": {
     "languageId": "r"
    }
   },
   "outputs": [
    {
     "data": {
      "text/html": [
       "<style>\n",
       ".list-inline {list-style: none; margin:0; padding: 0}\n",
       ".list-inline>li {display: inline-block}\n",
       ".list-inline>li:not(:last-child)::after {content: \"\\00b7\"; padding: 0 .5ex}\n",
       "</style>\n",
       "<ol class=list-inline><li>'CACGGTGNYNEQFF'</li><li>'CACNQVMNTEAFF'</li><li>'CAGRSGKGAAYNEQFF'</li><li>'CAIKDQGSGNTIYF'</li><li>'CAIPTGNTGELFF'</li><li>'CAIRGRIGTEAFF'</li></ol>\n"
      ],
      "text/latex": [
       "\\begin{enumerate*}\n",
       "\\item 'CACGGTGNYNEQFF'\n",
       "\\item 'CACNQVMNTEAFF'\n",
       "\\item 'CAGRSGKGAAYNEQFF'\n",
       "\\item 'CAIKDQGSGNTIYF'\n",
       "\\item 'CAIPTGNTGELFF'\n",
       "\\item 'CAIRGRIGTEAFF'\n",
       "\\end{enumerate*}\n"
      ],
      "text/markdown": [
       "1. 'CACGGTGNYNEQFF'\n",
       "2. 'CACNQVMNTEAFF'\n",
       "3. 'CAGRSGKGAAYNEQFF'\n",
       "4. 'CAIKDQGSGNTIYF'\n",
       "5. 'CAIPTGNTGELFF'\n",
       "6. 'CAIRGRIGTEAFF'\n",
       "\n",
       "\n"
      ],
      "text/plain": [
       "[1] \"CACGGTGNYNEQFF\"   \"CACNQVMNTEAFF\"    \"CAGRSGKGAAYNEQFF\" \"CAIKDQGSGNTIYF\"  \n",
       "[5] \"CAIPTGNTGELFF\"    \"CAIRGRIGTEAFF\"   "
      ]
     },
     "metadata": {},
     "output_type": "display_data"
    }
   ],
   "source": [
    "head(public)"
   ]
  },
  {
   "cell_type": "code",
   "execution_count": 129,
   "metadata": {
    "vscode": {
     "languageId": "r"
    }
   },
   "outputs": [],
   "source": [
    "sankey_rows$public_tcr <- NA\n",
    "sankey_rows$public_tcr[sankey_rows$aaSeqCDR3 %in% public] <- \"Public\"\n",
    "sankey_rows$public_tcr[!sankey_rows$aaSeqCDR3 %in% public] <- NA"
   ]
  },
  {
   "cell_type": "code",
   "execution_count": 130,
   "metadata": {
    "vscode": {
     "languageId": "r"
    }
   },
   "outputs": [
    {
     "data": {
      "text/html": [
       "<style>\n",
       ".list-inline {list-style: none; margin:0; padding: 0}\n",
       ".list-inline>li {display: inline-block}\n",
       ".list-inline>li:not(:last-child)::after {content: \"\\00b7\"; padding: 0 .5ex}\n",
       "</style>\n",
       "<ol class=list-inline><li>50514</li><li>104</li></ol>\n"
      ],
      "text/latex": [
       "\\begin{enumerate*}\n",
       "\\item 50514\n",
       "\\item 104\n",
       "\\end{enumerate*}\n"
      ],
      "text/markdown": [
       "1. 50514\n",
       "2. 104\n",
       "\n",
       "\n"
      ],
      "text/plain": [
       "[1] 50514   104"
      ]
     },
     "metadata": {},
     "output_type": "display_data"
    }
   ],
   "source": [
    "dim(tcr_pat_tab)"
   ]
  },
  {
   "cell_type": "code",
   "execution_count": 131,
   "metadata": {
    "vscode": {
     "languageId": "r"
    }
   },
   "outputs": [],
   "source": [
    "sankey_rows$public_tcr[sankey_rows$aaSeqCDR3 %in% patient_specific] <- \"patient_specific\""
   ]
  },
  {
   "cell_type": "code",
   "execution_count": 132,
   "metadata": {
    "vscode": {
     "languageId": "r"
    }
   },
   "outputs": [],
   "source": [
    "# #factor tcr_pat_tab_df$name\n",
    "# tcr_pat_tab_df$name <- factor(tcr_pat_tab_df$name, levels = c(\"Total\", \"Unique\", \"Public\", \"Patient-specific\"))"
   ]
  },
  {
   "cell_type": "code",
   "execution_count": 133,
   "metadata": {
    "vscode": {
     "languageId": "r"
    }
   },
   "outputs": [
    {
     "data": {
      "text/plain": [
       "\n",
       "patient_specific           Public \n",
       "            1616             3818 "
      ]
     },
     "metadata": {},
     "output_type": "display_data"
    }
   ],
   "source": [
    "table(sankey_rows$public_tcr)"
   ]
  },
  {
   "cell_type": "code",
   "execution_count": 134,
   "metadata": {
    "vscode": {
     "languageId": "r"
    }
   },
   "outputs": [
    {
     "data": {
      "text/html": [
       "<table class=\"dataframe\">\n",
       "<caption>A data.frame: 6 x 8</caption>\n",
       "<thead>\n",
       "\t<tr><th></th><th scope=col>basename_tcr</th><th scope=col>basename</th><th scope=col>aaSeqCDR3</th><th scope=col>Patient</th><th scope=col>sampletype</th><th scope=col>all</th><th scope=col>unique_tcr</th><th scope=col>public_tcr</th></tr>\n",
       "\t<tr><th></th><th scope=col>&lt;chr&gt;</th><th scope=col>&lt;chr&gt;</th><th scope=col>&lt;chr&gt;</th><th scope=col>&lt;chr&gt;</th><th scope=col>&lt;chr&gt;</th><th scope=col>&lt;chr&gt;</th><th scope=col>&lt;chr&gt;</th><th scope=col>&lt;chr&gt;</th></tr>\n",
       "</thead>\n",
       "<tbody>\n",
       "\t<tr><th scope=row>1</th><td>CHP_319-05-PBMC-DNA_CASRERIAPGNTIYF    </td><td>CHP_319-05-PBMC-DNA</td><td>CASRERIAPGNTIYF    </td><td>CHP_319</td><td>PBMC</td><td>All</td><td>Found once</td><td>NA</td></tr>\n",
       "\t<tr><th scope=row>2</th><td>CHP_319-05-PBMC-DNA_CSARDRTGMSTDTQYF   </td><td>CHP_319-05-PBMC-DNA</td><td>CSARDRTGMSTDTQYF   </td><td>CHP_319</td><td>PBMC</td><td>All</td><td>Found once</td><td>NA</td></tr>\n",
       "\t<tr><th scope=row>3</th><td>CHP_319-05-PBMC-DNA_CASRLGTGHENTEAFF   </td><td>CHP_319-05-PBMC-DNA</td><td>CASRLGTGHENTEAFF   </td><td>CHP_319</td><td>PBMC</td><td>All</td><td>Found once</td><td>NA</td></tr>\n",
       "\t<tr><th scope=row>4</th><td>CHP_319-05-PBMC-DNA_CATSRDWTVSYEQYF    </td><td>CHP_319-05-PBMC-DNA</td><td>CATSRDWTVSYEQYF    </td><td>CHP_319</td><td>PBMC</td><td>All</td><td>Found once</td><td>NA</td></tr>\n",
       "\t<tr><th scope=row>5</th><td>CHP_319-05-PBMC-DNA_CASSRNRVRYGYTF     </td><td>CHP_319-05-PBMC-DNA</td><td>CASSRNRVRYGYTF     </td><td>CHP_319</td><td>PBMC</td><td>All</td><td>Found once</td><td>NA</td></tr>\n",
       "\t<tr><th scope=row>7</th><td>CHP_319-05-PBMC-DNA_CASSKDVLGDSSYNSPLHF</td><td>CHP_319-05-PBMC-DNA</td><td>CASSKDVLGDSSYNSPLHF</td><td>CHP_319</td><td>PBMC</td><td>All</td><td>Found once</td><td>NA</td></tr>\n",
       "</tbody>\n",
       "</table>\n"
      ],
      "text/latex": [
       "A data.frame: 6 x 8\n",
       "\\begin{tabular}{r|llllllll}\n",
       "  & basename\\_tcr & basename & aaSeqCDR3 & Patient & sampletype & all & unique\\_tcr & public\\_tcr\\\\\n",
       "  & <chr> & <chr> & <chr> & <chr> & <chr> & <chr> & <chr> & <chr>\\\\\n",
       "\\hline\n",
       "\t1 & CHP\\_319-05-PBMC-DNA\\_CASRERIAPGNTIYF     & CHP\\_319-05-PBMC-DNA & CASRERIAPGNTIYF     & CHP\\_319 & PBMC & All & Found once & NA\\\\\n",
       "\t2 & CHP\\_319-05-PBMC-DNA\\_CSARDRTGMSTDTQYF    & CHP\\_319-05-PBMC-DNA & CSARDRTGMSTDTQYF    & CHP\\_319 & PBMC & All & Found once & NA\\\\\n",
       "\t3 & CHP\\_319-05-PBMC-DNA\\_CASRLGTGHENTEAFF    & CHP\\_319-05-PBMC-DNA & CASRLGTGHENTEAFF    & CHP\\_319 & PBMC & All & Found once & NA\\\\\n",
       "\t4 & CHP\\_319-05-PBMC-DNA\\_CATSRDWTVSYEQYF     & CHP\\_319-05-PBMC-DNA & CATSRDWTVSYEQYF     & CHP\\_319 & PBMC & All & Found once & NA\\\\\n",
       "\t5 & CHP\\_319-05-PBMC-DNA\\_CASSRNRVRYGYTF      & CHP\\_319-05-PBMC-DNA & CASSRNRVRYGYTF      & CHP\\_319 & PBMC & All & Found once & NA\\\\\n",
       "\t7 & CHP\\_319-05-PBMC-DNA\\_CASSKDVLGDSSYNSPLHF & CHP\\_319-05-PBMC-DNA & CASSKDVLGDSSYNSPLHF & CHP\\_319 & PBMC & All & Found once & NA\\\\\n",
       "\\end{tabular}\n"
      ],
      "text/markdown": [
       "\n",
       "A data.frame: 6 x 8\n",
       "\n",
       "| <!--/--> | basename_tcr &lt;chr&gt; | basename &lt;chr&gt; | aaSeqCDR3 &lt;chr&gt; | Patient &lt;chr&gt; | sampletype &lt;chr&gt; | all &lt;chr&gt; | unique_tcr &lt;chr&gt; | public_tcr &lt;chr&gt; |\n",
       "|---|---|---|---|---|---|---|---|---|\n",
       "| 1 | CHP_319-05-PBMC-DNA_CASRERIAPGNTIYF     | CHP_319-05-PBMC-DNA | CASRERIAPGNTIYF     | CHP_319 | PBMC | All | Found once | NA |\n",
       "| 2 | CHP_319-05-PBMC-DNA_CSARDRTGMSTDTQYF    | CHP_319-05-PBMC-DNA | CSARDRTGMSTDTQYF    | CHP_319 | PBMC | All | Found once | NA |\n",
       "| 3 | CHP_319-05-PBMC-DNA_CASRLGTGHENTEAFF    | CHP_319-05-PBMC-DNA | CASRLGTGHENTEAFF    | CHP_319 | PBMC | All | Found once | NA |\n",
       "| 4 | CHP_319-05-PBMC-DNA_CATSRDWTVSYEQYF     | CHP_319-05-PBMC-DNA | CATSRDWTVSYEQYF     | CHP_319 | PBMC | All | Found once | NA |\n",
       "| 5 | CHP_319-05-PBMC-DNA_CASSRNRVRYGYTF      | CHP_319-05-PBMC-DNA | CASSRNRVRYGYTF      | CHP_319 | PBMC | All | Found once | NA |\n",
       "| 7 | CHP_319-05-PBMC-DNA_CASSKDVLGDSSYNSPLHF | CHP_319-05-PBMC-DNA | CASSKDVLGDSSYNSPLHF | CHP_319 | PBMC | All | Found once | NA |\n",
       "\n"
      ],
      "text/plain": [
       "  basename_tcr                            basename           \n",
       "1 CHP_319-05-PBMC-DNA_CASRERIAPGNTIYF     CHP_319-05-PBMC-DNA\n",
       "2 CHP_319-05-PBMC-DNA_CSARDRTGMSTDTQYF    CHP_319-05-PBMC-DNA\n",
       "3 CHP_319-05-PBMC-DNA_CASRLGTGHENTEAFF    CHP_319-05-PBMC-DNA\n",
       "4 CHP_319-05-PBMC-DNA_CATSRDWTVSYEQYF     CHP_319-05-PBMC-DNA\n",
       "5 CHP_319-05-PBMC-DNA_CASSRNRVRYGYTF      CHP_319-05-PBMC-DNA\n",
       "7 CHP_319-05-PBMC-DNA_CASSKDVLGDSSYNSPLHF CHP_319-05-PBMC-DNA\n",
       "  aaSeqCDR3           Patient sampletype all unique_tcr public_tcr\n",
       "1 CASRERIAPGNTIYF     CHP_319 PBMC       All Found once NA        \n",
       "2 CSARDRTGMSTDTQYF    CHP_319 PBMC       All Found once NA        \n",
       "3 CASRLGTGHENTEAFF    CHP_319 PBMC       All Found once NA        \n",
       "4 CATSRDWTVSYEQYF     CHP_319 PBMC       All Found once NA        \n",
       "5 CASSRNRVRYGYTF      CHP_319 PBMC       All Found once NA        \n",
       "7 CASSKDVLGDSSYNSPLHF CHP_319 PBMC       All Found once NA        "
      ]
     },
     "metadata": {},
     "output_type": "display_data"
    }
   ],
   "source": [
    "head(sankey_rows)"
   ]
  },
  {
   "cell_type": "code",
   "execution_count": 135,
   "metadata": {
    "vscode": {
     "languageId": "r"
    }
   },
   "outputs": [],
   "source": [
    "sankey_rows$db_annot <- tcr_pat_tab$db_annot[ match(sankey_rows$aaSeqCDR3, rownames(tcr_pat_tab))]"
   ]
  },
  {
   "cell_type": "code",
   "execution_count": 149,
   "metadata": {
    "vscode": {
     "languageId": "r"
    }
   },
   "outputs": [],
   "source": [
    "# dummy input\n",
    "sankey_rows$db_annot <- NA\n",
    "sankey_rows$db_annot[which(sankey_rows$public_tcr == \"Public\")][1:10] <- \"HomoSap\"\n",
    "sankey_rows$db_annot[which(sankey_rows$public_tcr == \"Public\")][11:25] <- \"Viral\""
   ]
  },
  {
   "cell_type": "code",
   "execution_count": 95,
   "metadata": {
    "vscode": {
     "languageId": "r"
    }
   },
   "outputs": [],
   "source": [
    "# write.csv(unique(sankey_rows$aaSeqCDR3[ which(sankey_rows$public_tcr == \"patient_specific\")]), paste0(\"~/Downloads/sankey_rows_patient_specific.csv\"), row.names = F)\n",
    "\n",
    "# write.csv(unique(sankey_rows$aaSeqCDR3[ which(sankey_rows$public_tcr == \"Public\")]), paste0(\"~/Downloads/sankey_rows_public.csv\"), row.names = F)"
   ]
  },
  {
   "cell_type": "code",
   "execution_count": 150,
   "metadata": {
    "vscode": {
     "languageId": "r"
    }
   },
   "outputs": [],
   "source": [
    "df <- make_long(sankey_rows, all, unique_tcr, public_tcr, db_annot)"
   ]
  },
  {
   "cell_type": "code",
   "execution_count": 138,
   "metadata": {
    "vscode": {
     "languageId": "r"
    }
   },
   "outputs": [],
   "source": [
    "# df$next_node <- factor(df$next_node, levels = c('ALCL','BL','BLL','DLBCL','ERMS','HD',\n",
    "#                                       'Lymphoma','n = 4','n = 17','n = 2','n = 23',\n",
    "#                                       'n = 21','n = 25','NB','OS','PMBCL','Solid'))\n",
    "\n",
    "# df$node <- factor(df$node, levels = c('ALCL','BL','BLL','DLBCL','ERMS','HD',\n",
    "#                                       'Lymphoma','n = 4','n = 17','n = 2','n = 23',\n",
    "#                                       'n = 21','n = 25','NB','OS','PMBCL','Solid'))"
   ]
  },
  {
   "cell_type": "code",
   "execution_count": 139,
   "metadata": {
    "vscode": {
     "languageId": "r"
    }
   },
   "outputs": [],
   "source": [
    "# library(randomcoloR)\n",
    "# set.seed(5250)\n",
    "# myColors <- distinctColorPalette(17)\n",
    "# names(myColors) <- levels(factor(df$node))"
   ]
  },
  {
   "cell_type": "code",
   "execution_count": 140,
   "metadata": {
    "vscode": {
     "languageId": "r"
    }
   },
   "outputs": [],
   "source": [
    "# #failed samples color grey\n",
    "# myColors[\"n = 2\"] <- \"grey\"\n",
    "# myColors[\"n = 4\"] <- \"grey\""
   ]
  },
  {
   "cell_type": "code",
   "execution_count": 141,
   "metadata": {
    "vscode": {
     "languageId": "r"
    }
   },
   "outputs": [],
   "source": [
    "# # Tumor types white\n",
    "# myColors[names(myColors) %in% c(\"ALCL\", \"BL\", \"BLL\", \"DLBCL\", \"ERMS\", \"HD\", \"PMBCL\", \"NB\", \"OS\")] <- \"white\""
   ]
  },
  {
   "cell_type": "code",
   "execution_count": 142,
   "metadata": {
    "vscode": {
     "languageId": "r"
    }
   },
   "outputs": [
    {
     "data": {
      "text/html": [
       "<table class=\"dataframe\">\n",
       "<caption>A tibble: 6 x 4</caption>\n",
       "<thead>\n",
       "\t<tr><th scope=col>x</th><th scope=col>node</th><th scope=col>next_x</th><th scope=col>next_node</th></tr>\n",
       "\t<tr><th scope=col>&lt;fct&gt;</th><th scope=col>&lt;chr&gt;</th><th scope=col>&lt;fct&gt;</th><th scope=col>&lt;chr&gt;</th></tr>\n",
       "</thead>\n",
       "<tbody>\n",
       "\t<tr><td>all       </td><td>All       </td><td>unique_tcr</td><td>Found once</td></tr>\n",
       "\t<tr><td>unique_tcr</td><td>Found once</td><td>public_tcr</td><td>NA        </td></tr>\n",
       "\t<tr><td>public_tcr</td><td>NA        </td><td>db_annot  </td><td>HomoSap   </td></tr>\n",
       "\t<tr><td>db_annot  </td><td>HomoSap   </td><td>NA        </td><td>NA        </td></tr>\n",
       "\t<tr><td>all       </td><td>All       </td><td>unique_tcr</td><td>Found once</td></tr>\n",
       "\t<tr><td>unique_tcr</td><td>Found once</td><td>public_tcr</td><td>NA        </td></tr>\n",
       "</tbody>\n",
       "</table>\n"
      ],
      "text/latex": [
       "A tibble: 6 x 4\n",
       "\\begin{tabular}{llll}\n",
       " x & node & next\\_x & next\\_node\\\\\n",
       " <fct> & <chr> & <fct> & <chr>\\\\\n",
       "\\hline\n",
       "\t all        & All        & unique\\_tcr & Found once\\\\\n",
       "\t unique\\_tcr & Found once & public\\_tcr & NA        \\\\\n",
       "\t public\\_tcr & NA         & db\\_annot   & HomoSap   \\\\\n",
       "\t db\\_annot   & HomoSap    & NA         & NA        \\\\\n",
       "\t all        & All        & unique\\_tcr & Found once\\\\\n",
       "\t unique\\_tcr & Found once & public\\_tcr & NA        \\\\\n",
       "\\end{tabular}\n"
      ],
      "text/markdown": [
       "\n",
       "A tibble: 6 x 4\n",
       "\n",
       "| x &lt;fct&gt; | node &lt;chr&gt; | next_x &lt;fct&gt; | next_node &lt;chr&gt; |\n",
       "|---|---|---|---|\n",
       "| all        | All        | unique_tcr | Found once |\n",
       "| unique_tcr | Found once | public_tcr | NA         |\n",
       "| public_tcr | NA         | db_annot   | HomoSap    |\n",
       "| db_annot   | HomoSap    | NA         | NA         |\n",
       "| all        | All        | unique_tcr | Found once |\n",
       "| unique_tcr | Found once | public_tcr | NA         |\n",
       "\n"
      ],
      "text/plain": [
       "  x          node       next_x     next_node \n",
       "1 all        All        unique_tcr Found once\n",
       "2 unique_tcr Found once public_tcr NA        \n",
       "3 public_tcr NA         db_annot   HomoSap   \n",
       "4 db_annot   HomoSap    NA         NA        \n",
       "5 all        All        unique_tcr Found once\n",
       "6 unique_tcr Found once public_tcr NA        "
      ]
     },
     "metadata": {},
     "output_type": "display_data"
    }
   ],
   "source": [
    "head(df)"
   ]
  },
  {
   "cell_type": "code",
   "execution_count": 158,
   "metadata": {
    "vscode": {
     "languageId": "r"
    }
   },
   "outputs": [],
   "source": [
    "sankey <- ggplot(df, aes(x = x, \n",
    "               next_x = next_x, \n",
    "               node = node, \n",
    "               next_node = next_node,\n",
    "               fill = node, #color = node,\n",
    "               label = node#, fill.node = node\n",
    "               )) +\n",
    "  geom_sankey(flow.alpha = 0.5, na.rm = TRUE, node.color = \"black\") +\n",
    "  theme_sankey(base_size = 16) +\n",
    "  geom_sankey_label(size = 5, hjust = 0.5,# vjust = 0.2,\n",
    "                    color = 1, label.size = 0,\n",
    "                    fill = alpha(\"white\",0), na.rm = TRUE) +\n",
    "theme(legend.position = \"none\", \n",
    "      axis.title.x = element_blank(),\n",
    "      axis.text.x = element_text(size = 20, color = \"black\"),\n",
    "     plot.title = element_text(hjust = 0.5, size = 30)) \n",
    "#scale_fill_manual(values = myColors, na.value=\"white\")+\n",
    "#scale_color_manual(values = myColors, na.value=\"white\") +\n",
    "# labs(title = \"Tumor sample processing\")"
   ]
  },
  {
   "cell_type": "code",
   "execution_count": 159,
   "metadata": {
    "vscode": {
     "languageId": "r"
    }
   },
   "outputs": [
    {
     "data": {
      "image/png": "[encoded data removed]",
      "text/plain": [
       "plot without title"
      ]
     },
     "metadata": {
      "image/png": {
       "height": 420,
       "width": 420
      }
     },
     "output_type": "display_data"
    }
   ],
   "source": [
    "sankey"
   ]
  },
  {
   "cell_type": "code",
   "execution_count": 160,
   "metadata": {
    "vscode": {
     "languageId": "r"
    }
   },
   "outputs": [
    {
     "data": {
      "text/html": [
       "<strong>pdf:</strong> 2"
      ],
      "text/latex": [
       "\\textbf{pdf:} 2"
      ],
      "text/markdown": [
       "**pdf:** 2"
      ],
      "text/plain": [
       "pdf \n",
       "  2 "
      ]
     },
     "metadata": {},
     "output_type": "display_data"
    }
   ],
   "source": [
    "pdf(paste0(plotpath, \"tcr_sankey.pdf\"),\n",
    "   width = 12, height = 6)\n",
    "sankey\n",
    "dev.off()"
   ]
  },
  {
   "cell_type": "code",
   "execution_count": null,
   "metadata": {
    "vscode": {
     "languageId": "r"
    }
   },
   "outputs": [],
   "source": []
  },
  {
   "cell_type": "code",
   "execution_count": null,
   "metadata": {
    "vscode": {
     "languageId": "r"
    }
   },
   "outputs": [],
   "source": []
  },
  {
   "cell_type": "code",
   "execution_count": null,
   "metadata": {
    "vscode": {
     "languageId": "r"
    }
   },
   "outputs": [],
   "source": []
  }
 ],
 "metadata": {
  "kernelspec": {
   "display_name": "R 4.0",
   "language": "R",
   "name": "ir40"
  },
  "language_info": {
   "codemirror_mode": "r",
   "file_extension": ".r",
   "mimetype": "text/x-r-source",
   "name": "R",
   "pygments_lexer": "r",
   "version": "4.2.2"
  },
  "toc": {
   "base_numbering": 1,
   "nav_menu": {},
   "number_sections": false,
   "sideBar": true,
   "skip_h1_title": false,
   "title_cell": "Table of Contents",
   "title_sidebar": "Contents",
   "toc_cell": true,
   "toc_position": {
    "height": "calc(100% - 180px)",
    "left": "10px",
    "top": "150px",
    "width": "217.3px"
   },
   "toc_section_display": true,
   "toc_window_display": true
  }
 },
 "nbformat": 4,
 "nbformat_minor": 2
}

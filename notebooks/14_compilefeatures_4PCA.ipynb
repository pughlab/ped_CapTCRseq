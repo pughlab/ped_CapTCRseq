{
 "cells": [
  {
   "cell_type": "code",
   "execution_count": 1,
   "metadata": {
    "vscode": {
     "languageId": "r"
    }
   },
   "outputs": [
    {
     "data": {
      "text/html": [
       "'en_US.UTF-8/en_US.UTF-8/en_US.UTF-8/C/en_US.UTF-8/C'"
      ],
      "text/latex": [
       "'en\\_US.UTF-8/en\\_US.UTF-8/en\\_US.UTF-8/C/en\\_US.UTF-8/C'"
      ],
      "text/markdown": [
       "'en_US.UTF-8/en_US.UTF-8/en_US.UTF-8/C/en_US.UTF-8/C'"
      ],
      "text/plain": [
       "[1] \"en_US.UTF-8/en_US.UTF-8/en_US.UTF-8/C/en_US.UTF-8/C\""
      ]
     },
     "metadata": {},
     "output_type": "display_data"
    }
   ],
   "source": [
    "Sys.setlocale(category = \"LC_ALL\", locale = \"en_US.UTF-8\")"
   ]
  },
  {
   "attachments": {},
   "cell_type": "markdown",
   "metadata": {},
   "source": [
    "# Dependencies"
   ]
  },
  {
   "cell_type": "code",
   "execution_count": 2,
   "metadata": {
    "vscode": {
     "languageId": "r"
    }
   },
   "outputs": [],
   "source": [
    "pacman::p_load(dplyr, ggplot2, ggbeeswarm, ggpubr, ggsignif, cowplot)"
   ]
  },
  {
   "attachments": {},
   "cell_type": "markdown",
   "metadata": {},
   "source": [
    "# Functions"
   ]
  },
  {
   "cell_type": "code",
   "execution_count": 3,
   "metadata": {
    "vscode": {
     "languageId": "r"
    }
   },
   "outputs": [],
   "source": [
    "source(\"/Users/anabbi/git/ped_CapTCRseq/R/ggplot2_theme.R\")\n",
    "source(\"/Users/anabbi/git/ped_CapTCRseq/R/color_schemes.R\")\n",
    "source(\"/Users/anabbi/git/ped_CapTCRseq/R/Misc_functions.R\")"
   ]
  },
  {
   "attachments": {},
   "cell_type": "markdown",
   "metadata": {},
   "source": [
    "# Paths"
   ]
  },
  {
   "cell_type": "code",
   "execution_count": 4,
   "metadata": {
    "vscode": {
     "languageId": "r"
    }
   },
   "outputs": [],
   "source": [
    "datapath <- \"/Users/anabbi/OneDrive - UHN/Documents/INTERCEPT/Data/\"\n",
    "plotpath <- \"/Users/anabbi/OneDrive - UHN/Documents/INTERCEPT/Plots/\"\n",
    "manifestpath <- \"/Users/anabbi/OneDrive - UHN/Documents/INTERCEPT/Manifests/\"\n",
    "gitpath <- \"/Users/anabbi/git/ped_CapTCRseq/\""
   ]
  },
  {
   "cell_type": "code",
   "execution_count": 5,
   "metadata": {
    "vscode": {
     "languageId": "r"
    }
   },
   "outputs": [],
   "source": [
    "h4hpath <- \"/Users/anabbi/Desktop/H4H/INTERCEPT/\""
   ]
  },
  {
   "attachments": {},
   "cell_type": "markdown",
   "metadata": {},
   "source": [
    "# Main"
   ]
  },
  {
   "cell_type": "markdown",
   "metadata": {},
   "source": [
    "# Meta_div with Tirp scores"
   ]
  },
  {
   "cell_type": "code",
   "execution_count": 6,
   "metadata": {
    "vscode": {
     "languageId": "r"
    }
   },
   "outputs": [],
   "source": [
    "# meta_div <- readr::read_rds(paste0(datapath, \"capTCRseq/meta_div_goodsamples.rds\"))"
   ]
  },
  {
   "cell_type": "code",
   "execution_count": 7,
   "metadata": {
    "vscode": {
     "languageId": "r"
    }
   },
   "outputs": [],
   "source": [
    "meta_div <- readr::read_rds(paste0(datapath, \"meta_div_goodsamples_TiRP.rds\"))"
   ]
  },
  {
   "cell_type": "code",
   "execution_count": 10,
   "metadata": {
    "vscode": {
     "languageId": "r"
    }
   },
   "outputs": [
    {
     "data": {
      "text/html": [
       "<table class=\"dataframe\">\n",
       "<caption>A data.frame: 5 x 68</caption>\n",
       "<thead>\n",
       "\t<tr><th></th><th scope=col>sample_id</th><th scope=col>Patient</th><th scope=col>cycle</th><th scope=col>FOLD</th><th scope=col>ATC</th><th scope=col>Age</th><th scope=col>Disease_type</th><th scope=col>TE_fold</th><th scope=col>CD3</th><th scope=col>EM</th><th scope=col>...</th><th scope=col>observed_Simpson</th><th scope=col>estimated_Simpson</th><th scope=col>SE_Simpson</th><th scope=col>basename</th><th scope=col>file</th><th scope=col>sampletype</th><th scope=col>Group</th><th scope=col>log10shann</th><th scope=col>aveTiRP</th><th scope=col>medTiRP</th></tr>\n",
       "\t<tr><th></th><th scope=col>&lt;chr&gt;</th><th scope=col>&lt;chr&gt;</th><th scope=col>&lt;chr&gt;</th><th scope=col>&lt;dbl&gt;</th><th scope=col>&lt;dbl&gt;</th><th scope=col>&lt;dbl&gt;</th><th scope=col>&lt;chr&gt;</th><th scope=col>&lt;dbl&gt;</th><th scope=col>&lt;int&gt;</th><th scope=col>&lt;int&gt;</th><th scope=col>...</th><th scope=col>&lt;dbl&gt;</th><th scope=col>&lt;dbl&gt;</th><th scope=col>&lt;dbl&gt;</th><th scope=col>&lt;chr&gt;</th><th scope=col>&lt;chr&gt;</th><th scope=col>&lt;chr&gt;</th><th scope=col>&lt;chr&gt;</th><th scope=col>&lt;dbl&gt;</th><th scope=col>&lt;dbl&gt;</th><th scope=col>&lt;dbl&gt;</th></tr>\n",
       "</thead>\n",
       "<tbody>\n",
       "\t<tr><th scope=row>891</th><td>CHP_437_01</td><td>CHP_437</td><td>X01</td><td>0</td><td>0</td><td>9</td><td>OS</td><td>0</td><td>0</td><td>NA</td><td>...</td><td>NA</td><td>NA</td><td>NA</td><td>NA</td><td>NA</td><td>PBMC</td><td>CHP</td><td>NA</td><td>NA</td><td>NA</td></tr>\n",
       "\t<tr><th scope=row>892</th><td>CHP_437_02</td><td>CHP_437</td><td>X02</td><td>0</td><td>0</td><td>9</td><td>OS</td><td>0</td><td>0</td><td>NA</td><td>...</td><td>NA</td><td>NA</td><td>NA</td><td>NA</td><td>NA</td><td>PBMC</td><td>CHP</td><td>NA</td><td>NA</td><td>NA</td></tr>\n",
       "\t<tr><th scope=row>893</th><td>CHP_437_03</td><td>CHP_437</td><td>X03</td><td>0</td><td>0</td><td>9</td><td>OS</td><td>0</td><td>0</td><td>NA</td><td>...</td><td>NA</td><td>NA</td><td>NA</td><td>NA</td><td>NA</td><td>PBMC</td><td>CHP</td><td>NA</td><td>NA</td><td>NA</td></tr>\n",
       "\t<tr><th scope=row>894</th><td>CHP_437_04</td><td>CHP_437</td><td>X04</td><td>0</td><td>0</td><td>9</td><td>OS</td><td>0</td><td>0</td><td>NA</td><td>...</td><td>NA</td><td>NA</td><td>NA</td><td>NA</td><td>NA</td><td>PBMC</td><td>CHP</td><td>NA</td><td>NA</td><td>NA</td></tr>\n",
       "\t<tr><th scope=row>895</th><td>CHP_437_05</td><td>CHP_437</td><td>X05</td><td>0</td><td>0</td><td>9</td><td>OS</td><td>0</td><td>0</td><td>NA</td><td>...</td><td>NA</td><td>NA</td><td>NA</td><td>NA</td><td>NA</td><td>PBMC</td><td>CHP</td><td>NA</td><td>NA</td><td>NA</td></tr>\n",
       "</tbody>\n",
       "</table>\n"
      ],
      "text/latex": [
       "A data.frame: 5 x 68\n",
       "\\begin{tabular}{r|lllllllllllllllllllll}\n",
       "  & sample\\_id & Patient & cycle & FOLD & ATC & Age & Disease\\_type & TE\\_fold & CD3 & EM & ... & observed\\_Simpson & estimated\\_Simpson & SE\\_Simpson & basename & file & sampletype & Group & log10shann & aveTiRP & medTiRP\\\\\n",
       "  & <chr> & <chr> & <chr> & <dbl> & <dbl> & <dbl> & <chr> & <dbl> & <int> & <int> & ... & <dbl> & <dbl> & <dbl> & <chr> & <chr> & <chr> & <chr> & <dbl> & <dbl> & <dbl>\\\\\n",
       "\\hline\n",
       "\t891 & CHP\\_437\\_01 & CHP\\_437 & X01 & 0 & 0 & 9 & OS & 0 & 0 & NA & ... & NA & NA & NA & NA & NA & PBMC & CHP & NA & NA & NA\\\\\n",
       "\t892 & CHP\\_437\\_02 & CHP\\_437 & X02 & 0 & 0 & 9 & OS & 0 & 0 & NA & ... & NA & NA & NA & NA & NA & PBMC & CHP & NA & NA & NA\\\\\n",
       "\t893 & CHP\\_437\\_03 & CHP\\_437 & X03 & 0 & 0 & 9 & OS & 0 & 0 & NA & ... & NA & NA & NA & NA & NA & PBMC & CHP & NA & NA & NA\\\\\n",
       "\t894 & CHP\\_437\\_04 & CHP\\_437 & X04 & 0 & 0 & 9 & OS & 0 & 0 & NA & ... & NA & NA & NA & NA & NA & PBMC & CHP & NA & NA & NA\\\\\n",
       "\t895 & CHP\\_437\\_05 & CHP\\_437 & X05 & 0 & 0 & 9 & OS & 0 & 0 & NA & ... & NA & NA & NA & NA & NA & PBMC & CHP & NA & NA & NA\\\\\n",
       "\\end{tabular}\n"
      ],
      "text/markdown": [
       "\n",
       "A data.frame: 5 x 68\n",
       "\n",
       "| <!--/--> | sample_id &lt;chr&gt; | Patient &lt;chr&gt; | cycle &lt;chr&gt; | FOLD &lt;dbl&gt; | ATC &lt;dbl&gt; | Age &lt;dbl&gt; | Disease_type &lt;chr&gt; | TE_fold &lt;dbl&gt; | CD3 &lt;int&gt; | EM &lt;int&gt; | ... ... | observed_Simpson &lt;dbl&gt; | estimated_Simpson &lt;dbl&gt; | SE_Simpson &lt;dbl&gt; | basename &lt;chr&gt; | file &lt;chr&gt; | sampletype &lt;chr&gt; | Group &lt;chr&gt; | log10shann &lt;dbl&gt; | aveTiRP &lt;dbl&gt; | medTiRP &lt;dbl&gt; |\n",
       "|---|---|---|---|---|---|---|---|---|---|---|---|---|---|---|---|---|---|---|---|---|---|\n",
       "| 891 | CHP_437_01 | CHP_437 | X01 | 0 | 0 | 9 | OS | 0 | 0 | NA | ... | NA | NA | NA | NA | NA | PBMC | CHP | NA | NA | NA |\n",
       "| 892 | CHP_437_02 | CHP_437 | X02 | 0 | 0 | 9 | OS | 0 | 0 | NA | ... | NA | NA | NA | NA | NA | PBMC | CHP | NA | NA | NA |\n",
       "| 893 | CHP_437_03 | CHP_437 | X03 | 0 | 0 | 9 | OS | 0 | 0 | NA | ... | NA | NA | NA | NA | NA | PBMC | CHP | NA | NA | NA |\n",
       "| 894 | CHP_437_04 | CHP_437 | X04 | 0 | 0 | 9 | OS | 0 | 0 | NA | ... | NA | NA | NA | NA | NA | PBMC | CHP | NA | NA | NA |\n",
       "| 895 | CHP_437_05 | CHP_437 | X05 | 0 | 0 | 9 | OS | 0 | 0 | NA | ... | NA | NA | NA | NA | NA | PBMC | CHP | NA | NA | NA |\n",
       "\n"
      ],
      "text/plain": [
       "    sample_id  Patient cycle FOLD ATC Age Disease_type TE_fold CD3 EM ...\n",
       "891 CHP_437_01 CHP_437 X01   0    0   9   OS           0       0   NA ...\n",
       "892 CHP_437_02 CHP_437 X02   0    0   9   OS           0       0   NA ...\n",
       "893 CHP_437_03 CHP_437 X03   0    0   9   OS           0       0   NA ...\n",
       "894 CHP_437_04 CHP_437 X04   0    0   9   OS           0       0   NA ...\n",
       "895 CHP_437_05 CHP_437 X05   0    0   9   OS           0       0   NA ...\n",
       "    observed_Simpson estimated_Simpson SE_Simpson basename file sampletype\n",
       "891 NA               NA                NA         NA       NA   PBMC      \n",
       "892 NA               NA                NA         NA       NA   PBMC      \n",
       "893 NA               NA                NA         NA       NA   PBMC      \n",
       "894 NA               NA                NA         NA       NA   PBMC      \n",
       "895 NA               NA                NA         NA       NA   PBMC      \n",
       "    Group log10shann aveTiRP medTiRP\n",
       "891 CHP   NA         NA      NA     \n",
       "892 CHP   NA         NA      NA     \n",
       "893 CHP   NA         NA      NA     \n",
       "894 CHP   NA         NA      NA     \n",
       "895 CHP   NA         NA      NA     "
      ]
     },
     "metadata": {},
     "output_type": "display_data"
    }
   ],
   "source": [
    "meta_div[ meta_div$Patient == \"CHP_437\",]"
   ]
  },
  {
   "cell_type": "code",
   "execution_count": 11,
   "metadata": {
    "vscode": {
     "languageId": "r"
    }
   },
   "outputs": [],
   "source": [
    "pbmc <- meta_div[ meta_div$sampletype == \"PBMC\",]\n",
    "cfdna <- meta_div[ meta_div$sampletype == \"cfDNA\",]"
   ]
  },
  {
   "cell_type": "markdown",
   "metadata": {},
   "source": [
    "# PBMC metrics"
   ]
  },
  {
   "cell_type": "markdown",
   "metadata": {},
   "source": [
    "Add HLA"
   ]
  },
  {
   "cell_type": "code",
   "execution_count": 12,
   "metadata": {
    "vscode": {
     "languageId": "r"
    }
   },
   "outputs": [],
   "source": [
    "pca <- readr::read_rds(paste0(datapath, \"/HLA/INT_HLA_PCA_postqc.rds\"))"
   ]
  },
  {
   "cell_type": "code",
   "execution_count": 13,
   "metadata": {
    "vscode": {
     "languageId": "r"
    }
   },
   "outputs": [],
   "source": [
    "rownames(pca) <- paste0(\"CHP_\", rownames(pca))"
   ]
  },
  {
   "cell_type": "code",
   "execution_count": 14,
   "metadata": {
    "vscode": {
     "languageId": "r"
    }
   },
   "outputs": [],
   "source": [
    "rownames(pca) <- gsub(\"-.*\", \"\", rownames(pca))"
   ]
  },
  {
   "cell_type": "code",
   "execution_count": 15,
   "metadata": {
    "vscode": {
     "languageId": "r"
    }
   },
   "outputs": [],
   "source": [
    "pbmc$HLA_PC1 <- pca[ match(pbmc$Patient,  rownames(pca)) , \"PC1\"]\n",
    "pbmc$HLA_PC2 <- pca[ match(pbmc$Patient,  rownames(pca)) , \"PC2\"]\n",
    "pbmc$HLA_PC3 <- pca[ match(pbmc$Patient,  rownames(pca)) , \"PC3\"]"
   ]
  },
  {
   "cell_type": "code",
   "execution_count": 16,
   "metadata": {
    "vscode": {
     "languageId": "r"
    }
   },
   "outputs": [
    {
     "data": {
      "text/html": [
       "<table class=\"dataframe\">\n",
       "<caption>A data.frame: 6 x 71</caption>\n",
       "<thead>\n",
       "\t<tr><th></th><th scope=col>sample_id</th><th scope=col>Patient</th><th scope=col>cycle</th><th scope=col>FOLD</th><th scope=col>ATC</th><th scope=col>Age</th><th scope=col>Disease_type</th><th scope=col>TE_fold</th><th scope=col>CD3</th><th scope=col>EM</th><th scope=col>...</th><th scope=col>basename</th><th scope=col>file</th><th scope=col>sampletype</th><th scope=col>Group</th><th scope=col>log10shann</th><th scope=col>aveTiRP</th><th scope=col>medTiRP</th><th scope=col>HLA_PC1</th><th scope=col>HLA_PC2</th><th scope=col>HLA_PC3</th></tr>\n",
       "\t<tr><th></th><th scope=col>&lt;chr&gt;</th><th scope=col>&lt;chr&gt;</th><th scope=col>&lt;chr&gt;</th><th scope=col>&lt;dbl&gt;</th><th scope=col>&lt;dbl&gt;</th><th scope=col>&lt;dbl&gt;</th><th scope=col>&lt;chr&gt;</th><th scope=col>&lt;dbl&gt;</th><th scope=col>&lt;int&gt;</th><th scope=col>&lt;int&gt;</th><th scope=col>...</th><th scope=col>&lt;chr&gt;</th><th scope=col>&lt;chr&gt;</th><th scope=col>&lt;chr&gt;</th><th scope=col>&lt;chr&gt;</th><th scope=col>&lt;dbl&gt;</th><th scope=col>&lt;dbl&gt;</th><th scope=col>&lt;dbl&gt;</th><th scope=col>&lt;dbl&gt;</th><th scope=col>&lt;dbl&gt;</th><th scope=col>&lt;dbl&gt;</th></tr>\n",
       "</thead>\n",
       "<tbody>\n",
       "\t<tr><th scope=row>287</th><td>CHP_10YO_M_00  </td><td>CHP_10YO_M  </td><td>X00</td><td>NA</td><td>NA</td><td>NA</td><td>Normal</td><td>NA</td><td>NA</td><td>NA</td><td>...</td><td>CHP_10YO-M_PBMC_DNA  </td><td>batchNormal_16Apr2020/mixcr/clones/CLONES_TRBCHP_10YO-M_PBMC_DNA.txt  </td><td>PBMC</td><td>CHP</td><td>1.0249370</td><td> 0.3150243</td><td>0.2722006</td><td>NA</td><td>NA</td><td>NA</td></tr>\n",
       "\t<tr><th scope=row>288</th><td>CHP_11YO_M_00  </td><td>CHP_11YO_M  </td><td>X00</td><td>NA</td><td>NA</td><td>NA</td><td>Normal</td><td>NA</td><td>NA</td><td>NA</td><td>...</td><td>CHP_11YO-M_PBMC_DNA  </td><td>batchNormal_16Apr2020/mixcr/clones/CLONES_TRBCHP_11YO-M_PBMC_DNA.txt  </td><td>PBMC</td><td>CHP</td><td>1.0647200</td><td> 0.2588929</td><td>0.3772438</td><td>NA</td><td>NA</td><td>NA</td></tr>\n",
       "\t<tr><th scope=row>289</th><td>CHP_15YO_F_A_00</td><td>CHP_15YO_F_A</td><td>X00</td><td>NA</td><td>NA</td><td>NA</td><td>Normal</td><td>NA</td><td>NA</td><td>NA</td><td>...</td><td>CHP_15YO-F-A_PBMC_DNA</td><td>batchNormal_16Apr2020/mixcr/clones/CLONES_TRBCHP_15YO-F-A_PBMC_DNA.txt</td><td>PBMC</td><td>CHP</td><td>0.9533731</td><td> 0.4688676</td><td>0.5159322</td><td>NA</td><td>NA</td><td>NA</td></tr>\n",
       "\t<tr><th scope=row>290</th><td>CHP_15YO_F_B_00</td><td>CHP_15YO_F_B</td><td>X00</td><td>NA</td><td>NA</td><td>NA</td><td>Normal</td><td>NA</td><td>NA</td><td>NA</td><td>...</td><td>CHP_15YO-F-B_PBMC_DNA</td><td>batchNormal_16Apr2020/mixcr/clones/CLONES_TRBCHP_15YO-F-B_PBMC_DNA.txt</td><td>PBMC</td><td>CHP</td><td>0.8014037</td><td>-0.1303953</td><td>0.2653686</td><td>NA</td><td>NA</td><td>NA</td></tr>\n",
       "\t<tr><th scope=row>291</th><td>CHP_15YO_M_00  </td><td>CHP_15YO_M  </td><td>X00</td><td>NA</td><td>NA</td><td>NA</td><td>Normal</td><td>NA</td><td>NA</td><td>NA</td><td>...</td><td>CHP_15YO-M_PBMC_DNA  </td><td>batchNormal_16Apr2020/mixcr/clones/CLONES_TRBCHP_15YO-M_PBMC_DNA.txt  </td><td>PBMC</td><td>CHP</td><td>1.3244882</td><td> 0.5822285</td><td>0.9216413</td><td>NA</td><td>NA</td><td>NA</td></tr>\n",
       "\t<tr><th scope=row>292</th><td>CHP_16YO_M_00  </td><td>CHP_16YO_M  </td><td>X00</td><td>NA</td><td>NA</td><td>NA</td><td>Normal</td><td>NA</td><td>NA</td><td>NA</td><td>...</td><td>CHP_16YO-M_PBMC_DNA  </td><td>batchNormal_16Apr2020/mixcr/clones/CLONES_TRBCHP_16YO-M_PBMC_DNA.txt  </td><td>PBMC</td><td>CHP</td><td>0.5990092</td><td> 0.2910802</td><td>0.6214764</td><td>NA</td><td>NA</td><td>NA</td></tr>\n",
       "</tbody>\n",
       "</table>\n"
      ],
      "text/latex": [
       "A data.frame: 6 x 71\n",
       "\\begin{tabular}{r|lllllllllllllllllllll}\n",
       "  & sample\\_id & Patient & cycle & FOLD & ATC & Age & Disease\\_type & TE\\_fold & CD3 & EM & ... & basename & file & sampletype & Group & log10shann & aveTiRP & medTiRP & HLA\\_PC1 & HLA\\_PC2 & HLA\\_PC3\\\\\n",
       "  & <chr> & <chr> & <chr> & <dbl> & <dbl> & <dbl> & <chr> & <dbl> & <int> & <int> & ... & <chr> & <chr> & <chr> & <chr> & <dbl> & <dbl> & <dbl> & <dbl> & <dbl> & <dbl>\\\\\n",
       "\\hline\n",
       "\t287 & CHP\\_10YO\\_M\\_00   & CHP\\_10YO\\_M   & X00 & NA & NA & NA & Normal & NA & NA & NA & ... & CHP\\_10YO-M\\_PBMC\\_DNA   & batchNormal\\_16Apr2020/mixcr/clones/CLONES\\_TRBCHP\\_10YO-M\\_PBMC\\_DNA.txt   & PBMC & CHP & 1.0249370 &  0.3150243 & 0.2722006 & NA & NA & NA\\\\\n",
       "\t288 & CHP\\_11YO\\_M\\_00   & CHP\\_11YO\\_M   & X00 & NA & NA & NA & Normal & NA & NA & NA & ... & CHP\\_11YO-M\\_PBMC\\_DNA   & batchNormal\\_16Apr2020/mixcr/clones/CLONES\\_TRBCHP\\_11YO-M\\_PBMC\\_DNA.txt   & PBMC & CHP & 1.0647200 &  0.2588929 & 0.3772438 & NA & NA & NA\\\\\n",
       "\t289 & CHP\\_15YO\\_F\\_A\\_00 & CHP\\_15YO\\_F\\_A & X00 & NA & NA & NA & Normal & NA & NA & NA & ... & CHP\\_15YO-F-A\\_PBMC\\_DNA & batchNormal\\_16Apr2020/mixcr/clones/CLONES\\_TRBCHP\\_15YO-F-A\\_PBMC\\_DNA.txt & PBMC & CHP & 0.9533731 &  0.4688676 & 0.5159322 & NA & NA & NA\\\\\n",
       "\t290 & CHP\\_15YO\\_F\\_B\\_00 & CHP\\_15YO\\_F\\_B & X00 & NA & NA & NA & Normal & NA & NA & NA & ... & CHP\\_15YO-F-B\\_PBMC\\_DNA & batchNormal\\_16Apr2020/mixcr/clones/CLONES\\_TRBCHP\\_15YO-F-B\\_PBMC\\_DNA.txt & PBMC & CHP & 0.8014037 & -0.1303953 & 0.2653686 & NA & NA & NA\\\\\n",
       "\t291 & CHP\\_15YO\\_M\\_00   & CHP\\_15YO\\_M   & X00 & NA & NA & NA & Normal & NA & NA & NA & ... & CHP\\_15YO-M\\_PBMC\\_DNA   & batchNormal\\_16Apr2020/mixcr/clones/CLONES\\_TRBCHP\\_15YO-M\\_PBMC\\_DNA.txt   & PBMC & CHP & 1.3244882 &  0.5822285 & 0.9216413 & NA & NA & NA\\\\\n",
       "\t292 & CHP\\_16YO\\_M\\_00   & CHP\\_16YO\\_M   & X00 & NA & NA & NA & Normal & NA & NA & NA & ... & CHP\\_16YO-M\\_PBMC\\_DNA   & batchNormal\\_16Apr2020/mixcr/clones/CLONES\\_TRBCHP\\_16YO-M\\_PBMC\\_DNA.txt   & PBMC & CHP & 0.5990092 &  0.2910802 & 0.6214764 & NA & NA & NA\\\\\n",
       "\\end{tabular}\n"
      ],
      "text/markdown": [
       "\n",
       "A data.frame: 6 x 71\n",
       "\n",
       "| <!--/--> | sample_id &lt;chr&gt; | Patient &lt;chr&gt; | cycle &lt;chr&gt; | FOLD &lt;dbl&gt; | ATC &lt;dbl&gt; | Age &lt;dbl&gt; | Disease_type &lt;chr&gt; | TE_fold &lt;dbl&gt; | CD3 &lt;int&gt; | EM &lt;int&gt; | ... ... | basename &lt;chr&gt; | file &lt;chr&gt; | sampletype &lt;chr&gt; | Group &lt;chr&gt; | log10shann &lt;dbl&gt; | aveTiRP &lt;dbl&gt; | medTiRP &lt;dbl&gt; | HLA_PC1 &lt;dbl&gt; | HLA_PC2 &lt;dbl&gt; | HLA_PC3 &lt;dbl&gt; |\n",
       "|---|---|---|---|---|---|---|---|---|---|---|---|---|---|---|---|---|---|---|---|---|---|\n",
       "| 287 | CHP_10YO_M_00   | CHP_10YO_M   | X00 | NA | NA | NA | Normal | NA | NA | NA | ... | CHP_10YO-M_PBMC_DNA   | batchNormal_16Apr2020/mixcr/clones/CLONES_TRBCHP_10YO-M_PBMC_DNA.txt   | PBMC | CHP | 1.0249370 |  0.3150243 | 0.2722006 | NA | NA | NA |\n",
       "| 288 | CHP_11YO_M_00   | CHP_11YO_M   | X00 | NA | NA | NA | Normal | NA | NA | NA | ... | CHP_11YO-M_PBMC_DNA   | batchNormal_16Apr2020/mixcr/clones/CLONES_TRBCHP_11YO-M_PBMC_DNA.txt   | PBMC | CHP | 1.0647200 |  0.2588929 | 0.3772438 | NA | NA | NA |\n",
       "| 289 | CHP_15YO_F_A_00 | CHP_15YO_F_A | X00 | NA | NA | NA | Normal | NA | NA | NA | ... | CHP_15YO-F-A_PBMC_DNA | batchNormal_16Apr2020/mixcr/clones/CLONES_TRBCHP_15YO-F-A_PBMC_DNA.txt | PBMC | CHP | 0.9533731 |  0.4688676 | 0.5159322 | NA | NA | NA |\n",
       "| 290 | CHP_15YO_F_B_00 | CHP_15YO_F_B | X00 | NA | NA | NA | Normal | NA | NA | NA | ... | CHP_15YO-F-B_PBMC_DNA | batchNormal_16Apr2020/mixcr/clones/CLONES_TRBCHP_15YO-F-B_PBMC_DNA.txt | PBMC | CHP | 0.8014037 | -0.1303953 | 0.2653686 | NA | NA | NA |\n",
       "| 291 | CHP_15YO_M_00   | CHP_15YO_M   | X00 | NA | NA | NA | Normal | NA | NA | NA | ... | CHP_15YO-M_PBMC_DNA   | batchNormal_16Apr2020/mixcr/clones/CLONES_TRBCHP_15YO-M_PBMC_DNA.txt   | PBMC | CHP | 1.3244882 |  0.5822285 | 0.9216413 | NA | NA | NA |\n",
       "| 292 | CHP_16YO_M_00   | CHP_16YO_M   | X00 | NA | NA | NA | Normal | NA | NA | NA | ... | CHP_16YO-M_PBMC_DNA   | batchNormal_16Apr2020/mixcr/clones/CLONES_TRBCHP_16YO-M_PBMC_DNA.txt   | PBMC | CHP | 0.5990092 |  0.2910802 | 0.6214764 | NA | NA | NA |\n",
       "\n"
      ],
      "text/plain": [
       "    sample_id       Patient      cycle FOLD ATC Age Disease_type TE_fold CD3 EM\n",
       "287 CHP_10YO_M_00   CHP_10YO_M   X00   NA   NA  NA  Normal       NA      NA  NA\n",
       "288 CHP_11YO_M_00   CHP_11YO_M   X00   NA   NA  NA  Normal       NA      NA  NA\n",
       "289 CHP_15YO_F_A_00 CHP_15YO_F_A X00   NA   NA  NA  Normal       NA      NA  NA\n",
       "290 CHP_15YO_F_B_00 CHP_15YO_F_B X00   NA   NA  NA  Normal       NA      NA  NA\n",
       "291 CHP_15YO_M_00   CHP_15YO_M   X00   NA   NA  NA  Normal       NA      NA  NA\n",
       "292 CHP_16YO_M_00   CHP_16YO_M   X00   NA   NA  NA  Normal       NA      NA  NA\n",
       "    ... basename             \n",
       "287 ... CHP_10YO-M_PBMC_DNA  \n",
       "288 ... CHP_11YO-M_PBMC_DNA  \n",
       "289 ... CHP_15YO-F-A_PBMC_DNA\n",
       "290 ... CHP_15YO-F-B_PBMC_DNA\n",
       "291 ... CHP_15YO-M_PBMC_DNA  \n",
       "292 ... CHP_16YO-M_PBMC_DNA  \n",
       "    file                                                                  \n",
       "287 batchNormal_16Apr2020/mixcr/clones/CLONES_TRBCHP_10YO-M_PBMC_DNA.txt  \n",
       "288 batchNormal_16Apr2020/mixcr/clones/CLONES_TRBCHP_11YO-M_PBMC_DNA.txt  \n",
       "289 batchNormal_16Apr2020/mixcr/clones/CLONES_TRBCHP_15YO-F-A_PBMC_DNA.txt\n",
       "290 batchNormal_16Apr2020/mixcr/clones/CLONES_TRBCHP_15YO-F-B_PBMC_DNA.txt\n",
       "291 batchNormal_16Apr2020/mixcr/clones/CLONES_TRBCHP_15YO-M_PBMC_DNA.txt  \n",
       "292 batchNormal_16Apr2020/mixcr/clones/CLONES_TRBCHP_16YO-M_PBMC_DNA.txt  \n",
       "    sampletype Group log10shann aveTiRP    medTiRP   HLA_PC1 HLA_PC2 HLA_PC3\n",
       "287 PBMC       CHP   1.0249370   0.3150243 0.2722006 NA      NA      NA     \n",
       "288 PBMC       CHP   1.0647200   0.2588929 0.3772438 NA      NA      NA     \n",
       "289 PBMC       CHP   0.9533731   0.4688676 0.5159322 NA      NA      NA     \n",
       "290 PBMC       CHP   0.8014037  -0.1303953 0.2653686 NA      NA      NA     \n",
       "291 PBMC       CHP   1.3244882   0.5822285 0.9216413 NA      NA      NA     \n",
       "292 PBMC       CHP   0.5990092   0.2910802 0.6214764 NA      NA      NA     "
      ]
     },
     "metadata": {},
     "output_type": "display_data"
    }
   ],
   "source": [
    "head(pbmc)"
   ]
  },
  {
   "cell_type": "markdown",
   "metadata": {},
   "source": [
    "Add V PCA"
   ]
  },
  {
   "cell_type": "code",
   "execution_count": 17,
   "metadata": {
    "vscode": {
     "languageId": "r"
    }
   },
   "outputs": [],
   "source": [
    "v_pca <- readr::read_rds( paste0(datapath, \"/capTCRseq/INT_PBMC_V_PCA_postqc.rds\"))"
   ]
  },
  {
   "cell_type": "code",
   "execution_count": 18,
   "metadata": {
    "vscode": {
     "languageId": "r"
    }
   },
   "outputs": [],
   "source": [
    "pbmc$V_PC1 <- v_pca[ match(pbmc$basename,  rownames(v_pca)) , \"PC1\"]\n",
    "pbmc$V_PC2 <- v_pca[ match(pbmc$basename,  rownames(v_pca)) , \"PC2\"]\n",
    "pbmc$V_PC3 <- v_pca[ match(pbmc$basename,  rownames(v_pca)) , \"PC3\"]"
   ]
  },
  {
   "cell_type": "code",
   "execution_count": 19,
   "metadata": {
    "vscode": {
     "languageId": "r"
    }
   },
   "outputs": [
    {
     "data": {
      "text/html": [
       "<table class=\"dataframe\">\n",
       "<caption>A data.frame: 6 x 74</caption>\n",
       "<thead>\n",
       "\t<tr><th></th><th scope=col>sample_id</th><th scope=col>Patient</th><th scope=col>cycle</th><th scope=col>FOLD</th><th scope=col>ATC</th><th scope=col>Age</th><th scope=col>Disease_type</th><th scope=col>TE_fold</th><th scope=col>CD3</th><th scope=col>EM</th><th scope=col>...</th><th scope=col>Group</th><th scope=col>log10shann</th><th scope=col>aveTiRP</th><th scope=col>medTiRP</th><th scope=col>HLA_PC1</th><th scope=col>HLA_PC2</th><th scope=col>HLA_PC3</th><th scope=col>V_PC1</th><th scope=col>V_PC2</th><th scope=col>V_PC3</th></tr>\n",
       "\t<tr><th></th><th scope=col>&lt;chr&gt;</th><th scope=col>&lt;chr&gt;</th><th scope=col>&lt;chr&gt;</th><th scope=col>&lt;dbl&gt;</th><th scope=col>&lt;dbl&gt;</th><th scope=col>&lt;dbl&gt;</th><th scope=col>&lt;chr&gt;</th><th scope=col>&lt;dbl&gt;</th><th scope=col>&lt;int&gt;</th><th scope=col>&lt;int&gt;</th><th scope=col>...</th><th scope=col>&lt;chr&gt;</th><th scope=col>&lt;dbl&gt;</th><th scope=col>&lt;dbl&gt;</th><th scope=col>&lt;dbl&gt;</th><th scope=col>&lt;dbl&gt;</th><th scope=col>&lt;dbl&gt;</th><th scope=col>&lt;dbl&gt;</th><th scope=col>&lt;dbl&gt;</th><th scope=col>&lt;dbl&gt;</th><th scope=col>&lt;dbl&gt;</th></tr>\n",
       "</thead>\n",
       "<tbody>\n",
       "\t<tr><th scope=row>287</th><td>CHP_10YO_M_00  </td><td>CHP_10YO_M  </td><td>X00</td><td>NA</td><td>NA</td><td>NA</td><td>Normal</td><td>NA</td><td>NA</td><td>NA</td><td>...</td><td>CHP</td><td>1.0249370</td><td> 0.3150243</td><td>0.2722006</td><td>NA</td><td>NA</td><td>NA</td><td>4.487279</td><td>0.3424950</td><td>-0.3658488</td></tr>\n",
       "\t<tr><th scope=row>288</th><td>CHP_11YO_M_00  </td><td>CHP_11YO_M  </td><td>X00</td><td>NA</td><td>NA</td><td>NA</td><td>Normal</td><td>NA</td><td>NA</td><td>NA</td><td>...</td><td>CHP</td><td>1.0647200</td><td> 0.2588929</td><td>0.3772438</td><td>NA</td><td>NA</td><td>NA</td><td>4.608904</td><td>0.2220972</td><td>-0.2893333</td></tr>\n",
       "\t<tr><th scope=row>289</th><td>CHP_15YO_F_A_00</td><td>CHP_15YO_F_A</td><td>X00</td><td>NA</td><td>NA</td><td>NA</td><td>Normal</td><td>NA</td><td>NA</td><td>NA</td><td>...</td><td>CHP</td><td>0.9533731</td><td> 0.4688676</td><td>0.5159322</td><td>NA</td><td>NA</td><td>NA</td><td>4.672933</td><td>0.2820477</td><td>-0.2893257</td></tr>\n",
       "\t<tr><th scope=row>290</th><td>CHP_15YO_F_B_00</td><td>CHP_15YO_F_B</td><td>X00</td><td>NA</td><td>NA</td><td>NA</td><td>Normal</td><td>NA</td><td>NA</td><td>NA</td><td>...</td><td>CHP</td><td>0.8014037</td><td>-0.1303953</td><td>0.2653686</td><td>NA</td><td>NA</td><td>NA</td><td>4.695359</td><td>0.1389736</td><td>-0.1555102</td></tr>\n",
       "\t<tr><th scope=row>291</th><td>CHP_15YO_M_00  </td><td>CHP_15YO_M  </td><td>X00</td><td>NA</td><td>NA</td><td>NA</td><td>Normal</td><td>NA</td><td>NA</td><td>NA</td><td>...</td><td>CHP</td><td>1.3244882</td><td> 0.5822285</td><td>0.9216413</td><td>NA</td><td>NA</td><td>NA</td><td>4.374467</td><td>0.1322533</td><td>-0.3353389</td></tr>\n",
       "\t<tr><th scope=row>292</th><td>CHP_16YO_M_00  </td><td>CHP_16YO_M  </td><td>X00</td><td>NA</td><td>NA</td><td>NA</td><td>Normal</td><td>NA</td><td>NA</td><td>NA</td><td>...</td><td>CHP</td><td>0.5990092</td><td> 0.2910802</td><td>0.6214764</td><td>NA</td><td>NA</td><td>NA</td><td>4.792346</td><td>0.2664800</td><td>-0.1734509</td></tr>\n",
       "</tbody>\n",
       "</table>\n"
      ],
      "text/latex": [
       "A data.frame: 6 x 74\n",
       "\\begin{tabular}{r|lllllllllllllllllllll}\n",
       "  & sample\\_id & Patient & cycle & FOLD & ATC & Age & Disease\\_type & TE\\_fold & CD3 & EM & ... & Group & log10shann & aveTiRP & medTiRP & HLA\\_PC1 & HLA\\_PC2 & HLA\\_PC3 & V\\_PC1 & V\\_PC2 & V\\_PC3\\\\\n",
       "  & <chr> & <chr> & <chr> & <dbl> & <dbl> & <dbl> & <chr> & <dbl> & <int> & <int> & ... & <chr> & <dbl> & <dbl> & <dbl> & <dbl> & <dbl> & <dbl> & <dbl> & <dbl> & <dbl>\\\\\n",
       "\\hline\n",
       "\t287 & CHP\\_10YO\\_M\\_00   & CHP\\_10YO\\_M   & X00 & NA & NA & NA & Normal & NA & NA & NA & ... & CHP & 1.0249370 &  0.3150243 & 0.2722006 & NA & NA & NA & 4.487279 & 0.3424950 & -0.3658488\\\\\n",
       "\t288 & CHP\\_11YO\\_M\\_00   & CHP\\_11YO\\_M   & X00 & NA & NA & NA & Normal & NA & NA & NA & ... & CHP & 1.0647200 &  0.2588929 & 0.3772438 & NA & NA & NA & 4.608904 & 0.2220972 & -0.2893333\\\\\n",
       "\t289 & CHP\\_15YO\\_F\\_A\\_00 & CHP\\_15YO\\_F\\_A & X00 & NA & NA & NA & Normal & NA & NA & NA & ... & CHP & 0.9533731 &  0.4688676 & 0.5159322 & NA & NA & NA & 4.672933 & 0.2820477 & -0.2893257\\\\\n",
       "\t290 & CHP\\_15YO\\_F\\_B\\_00 & CHP\\_15YO\\_F\\_B & X00 & NA & NA & NA & Normal & NA & NA & NA & ... & CHP & 0.8014037 & -0.1303953 & 0.2653686 & NA & NA & NA & 4.695359 & 0.1389736 & -0.1555102\\\\\n",
       "\t291 & CHP\\_15YO\\_M\\_00   & CHP\\_15YO\\_M   & X00 & NA & NA & NA & Normal & NA & NA & NA & ... & CHP & 1.3244882 &  0.5822285 & 0.9216413 & NA & NA & NA & 4.374467 & 0.1322533 & -0.3353389\\\\\n",
       "\t292 & CHP\\_16YO\\_M\\_00   & CHP\\_16YO\\_M   & X00 & NA & NA & NA & Normal & NA & NA & NA & ... & CHP & 0.5990092 &  0.2910802 & 0.6214764 & NA & NA & NA & 4.792346 & 0.2664800 & -0.1734509\\\\\n",
       "\\end{tabular}\n"
      ],
      "text/markdown": [
       "\n",
       "A data.frame: 6 x 74\n",
       "\n",
       "| <!--/--> | sample_id &lt;chr&gt; | Patient &lt;chr&gt; | cycle &lt;chr&gt; | FOLD &lt;dbl&gt; | ATC &lt;dbl&gt; | Age &lt;dbl&gt; | Disease_type &lt;chr&gt; | TE_fold &lt;dbl&gt; | CD3 &lt;int&gt; | EM &lt;int&gt; | ... ... | Group &lt;chr&gt; | log10shann &lt;dbl&gt; | aveTiRP &lt;dbl&gt; | medTiRP &lt;dbl&gt; | HLA_PC1 &lt;dbl&gt; | HLA_PC2 &lt;dbl&gt; | HLA_PC3 &lt;dbl&gt; | V_PC1 &lt;dbl&gt; | V_PC2 &lt;dbl&gt; | V_PC3 &lt;dbl&gt; |\n",
       "|---|---|---|---|---|---|---|---|---|---|---|---|---|---|---|---|---|---|---|---|---|---|\n",
       "| 287 | CHP_10YO_M_00   | CHP_10YO_M   | X00 | NA | NA | NA | Normal | NA | NA | NA | ... | CHP | 1.0249370 |  0.3150243 | 0.2722006 | NA | NA | NA | 4.487279 | 0.3424950 | -0.3658488 |\n",
       "| 288 | CHP_11YO_M_00   | CHP_11YO_M   | X00 | NA | NA | NA | Normal | NA | NA | NA | ... | CHP | 1.0647200 |  0.2588929 | 0.3772438 | NA | NA | NA | 4.608904 | 0.2220972 | -0.2893333 |\n",
       "| 289 | CHP_15YO_F_A_00 | CHP_15YO_F_A | X00 | NA | NA | NA | Normal | NA | NA | NA | ... | CHP | 0.9533731 |  0.4688676 | 0.5159322 | NA | NA | NA | 4.672933 | 0.2820477 | -0.2893257 |\n",
       "| 290 | CHP_15YO_F_B_00 | CHP_15YO_F_B | X00 | NA | NA | NA | Normal | NA | NA | NA | ... | CHP | 0.8014037 | -0.1303953 | 0.2653686 | NA | NA | NA | 4.695359 | 0.1389736 | -0.1555102 |\n",
       "| 291 | CHP_15YO_M_00   | CHP_15YO_M   | X00 | NA | NA | NA | Normal | NA | NA | NA | ... | CHP | 1.3244882 |  0.5822285 | 0.9216413 | NA | NA | NA | 4.374467 | 0.1322533 | -0.3353389 |\n",
       "| 292 | CHP_16YO_M_00   | CHP_16YO_M   | X00 | NA | NA | NA | Normal | NA | NA | NA | ... | CHP | 0.5990092 |  0.2910802 | 0.6214764 | NA | NA | NA | 4.792346 | 0.2664800 | -0.1734509 |\n",
       "\n"
      ],
      "text/plain": [
       "    sample_id       Patient      cycle FOLD ATC Age Disease_type TE_fold CD3 EM\n",
       "287 CHP_10YO_M_00   CHP_10YO_M   X00   NA   NA  NA  Normal       NA      NA  NA\n",
       "288 CHP_11YO_M_00   CHP_11YO_M   X00   NA   NA  NA  Normal       NA      NA  NA\n",
       "289 CHP_15YO_F_A_00 CHP_15YO_F_A X00   NA   NA  NA  Normal       NA      NA  NA\n",
       "290 CHP_15YO_F_B_00 CHP_15YO_F_B X00   NA   NA  NA  Normal       NA      NA  NA\n",
       "291 CHP_15YO_M_00   CHP_15YO_M   X00   NA   NA  NA  Normal       NA      NA  NA\n",
       "292 CHP_16YO_M_00   CHP_16YO_M   X00   NA   NA  NA  Normal       NA      NA  NA\n",
       "    ... Group log10shann aveTiRP    medTiRP   HLA_PC1 HLA_PC2 HLA_PC3 V_PC1   \n",
       "287 ... CHP   1.0249370   0.3150243 0.2722006 NA      NA      NA      4.487279\n",
       "288 ... CHP   1.0647200   0.2588929 0.3772438 NA      NA      NA      4.608904\n",
       "289 ... CHP   0.9533731   0.4688676 0.5159322 NA      NA      NA      4.672933\n",
       "290 ... CHP   0.8014037  -0.1303953 0.2653686 NA      NA      NA      4.695359\n",
       "291 ... CHP   1.3244882   0.5822285 0.9216413 NA      NA      NA      4.374467\n",
       "292 ... CHP   0.5990092   0.2910802 0.6214764 NA      NA      NA      4.792346\n",
       "    V_PC2     V_PC3     \n",
       "287 0.3424950 -0.3658488\n",
       "288 0.2220972 -0.2893333\n",
       "289 0.2820477 -0.2893257\n",
       "290 0.1389736 -0.1555102\n",
       "291 0.1322533 -0.3353389\n",
       "292 0.2664800 -0.1734509"
      ]
     },
     "metadata": {},
     "output_type": "display_data"
    }
   ],
   "source": [
    "head(pbmc[!is.na(pbmc$V_PC1),])"
   ]
  },
  {
   "cell_type": "markdown",
   "metadata": {},
   "source": [
    "Add J PCA"
   ]
  },
  {
   "cell_type": "code",
   "execution_count": 20,
   "metadata": {
    "vscode": {
     "languageId": "r"
    }
   },
   "outputs": [],
   "source": [
    "j_pca <- readr::read_rds(paste0(datapath, \"/capTCRseq/INT_PBMC_J_PCA_postqc.rds\"))"
   ]
  },
  {
   "cell_type": "code",
   "execution_count": 21,
   "metadata": {
    "vscode": {
     "languageId": "r"
    }
   },
   "outputs": [],
   "source": [
    "pbmc$J_PC1 <- j_pca[ match(pbmc$basename,  rownames(j_pca)) , \"PC1\"]\n",
    "pbmc$J_PC2 <- j_pca[ match(pbmc$basename,  rownames(j_pca)) , \"PC2\"]\n",
    "pbmc$J_PC3 <- j_pca[ match(pbmc$basename,  rownames(j_pca)) , \"PC3\"]"
   ]
  },
  {
   "cell_type": "markdown",
   "metadata": {},
   "source": [
    "Add GLIPH metrics"
   ]
  },
  {
   "cell_type": "code",
   "execution_count": 22,
   "metadata": {
    "vscode": {
     "languageId": "r"
    }
   },
   "outputs": [
    {
     "data": {
      "text/html": [
       "'/Users/anabbi/Desktop/H4H/INTERCEPT/'"
      ],
      "text/latex": [
       "'/Users/anabbi/Desktop/H4H/INTERCEPT/'"
      ],
      "text/markdown": [
       "'/Users/anabbi/Desktop/H4H/INTERCEPT/'"
      ],
      "text/plain": [
       "[1] \"/Users/anabbi/Desktop/H4H/INTERCEPT/\""
      ]
     },
     "metadata": {},
     "output_type": "display_data"
    }
   ],
   "source": [
    "h4hpath"
   ]
  },
  {
   "cell_type": "code",
   "execution_count": 25,
   "metadata": {
    "vscode": {
     "languageId": "r"
    }
   },
   "outputs": [
    {
     "name": "stderr",
     "output_type": "stream",
     "text": [
      "\u001b[1mRows: \u001b[22m\u001b[34m98847\u001b[39m \u001b[1mColumns: \u001b[22m\u001b[34m29\u001b[39m\n",
      "\u001b[36m──\u001b[39m \u001b[1mColumn specification\u001b[22m \u001b[36m────────────────────────────────────────────────────────\u001b[39m\n",
      "\u001b[1mDelimiter:\u001b[22m \",\"\n",
      "\u001b[31mchr\u001b[39m (17): pattern, type, TcRb, V, J, Sample, HLA-A, HLA-B, HLA-C, HLA-DPA1, ...\n",
      "\u001b[32mdbl\u001b[39m (11): index, Fisher_score, number_subject, number_unique_cdr3, final_sco...\n",
      "\u001b[33mlgl\u001b[39m  (1): TcRa\n",
      "\n",
      "\u001b[36mℹ\u001b[39m Use `spec()` to retrieve the full column specification for this data.\n",
      "\u001b[36mℹ\u001b[39m Specify the column types or set `show_col_types = FALSE` to quiet this message.\n"
     ]
    }
   ],
   "source": [
    "gliph_out <- readr::read_csv(paste0(h4hpath, \"analysis/GLIPH/run_gliph/v5/gliph_output/int_vdj_v5_cluster.csv\"), col_names = T) #  gliph reference dataset  is MItechel"
   ]
  },
  {
   "cell_type": "code",
   "execution_count": 26,
   "metadata": {
    "vscode": {
     "languageId": "r"
    }
   },
   "outputs": [],
   "source": [
    "# remove columns starting with HLA\n",
    "gliph_out <- gliph_out[,!grepl(\"HLA\", colnames(gliph_out))]"
   ]
  },
  {
   "cell_type": "code",
   "execution_count": 27,
   "metadata": {
    "vscode": {
     "languageId": "r"
    }
   },
   "outputs": [
    {
     "data": {
      "text/html": [
       "<table class=\"dataframe\">\n",
       "<caption>A tibble: 6 x 18</caption>\n",
       "<thead>\n",
       "\t<tr><th scope=col>index</th><th scope=col>pattern</th><th scope=col>Fisher_score</th><th scope=col>number_subject</th><th scope=col>number_unique_cdr3</th><th scope=col>final_score</th><th scope=col>hla_score</th><th scope=col>vb_score</th><th scope=col>expansion_score</th><th scope=col>length_score</th><th scope=col>cluster_size_score</th><th scope=col>type</th><th scope=col>TcRb</th><th scope=col>V</th><th scope=col>J</th><th scope=col>TcRa</th><th scope=col>Sample</th><th scope=col>Freq</th></tr>\n",
       "\t<tr><th scope=col>&lt;dbl&gt;</th><th scope=col>&lt;chr&gt;</th><th scope=col>&lt;dbl&gt;</th><th scope=col>&lt;dbl&gt;</th><th scope=col>&lt;dbl&gt;</th><th scope=col>&lt;dbl&gt;</th><th scope=col>&lt;dbl&gt;</th><th scope=col>&lt;dbl&gt;</th><th scope=col>&lt;dbl&gt;</th><th scope=col>&lt;dbl&gt;</th><th scope=col>&lt;dbl&gt;</th><th scope=col>&lt;chr&gt;</th><th scope=col>&lt;chr&gt;</th><th scope=col>&lt;chr&gt;</th><th scope=col>&lt;chr&gt;</th><th scope=col>&lt;lgl&gt;</th><th scope=col>&lt;chr&gt;</th><th scope=col>&lt;dbl&gt;</th></tr>\n",
       "</thead>\n",
       "<tbody>\n",
       "\t<tr><td>59927</td><td>single</td><td>1</td><td>1</td><td>1</td><td>2.8e-07</td><td>1</td><td>0.001</td><td>0.29</td><td>0.001</td><td>0.95</td><td>global-SPRGTSGGAGDNE</td><td>CASSPRGTSGGAGDNEQFF</td><td>TRBV7-2</td><td>TRBJ2-1</td><td>NA</td><td>Leukemia:CHP_392_X04-PBMC   </td><td>123</td></tr>\n",
       "\t<tr><td>59927</td><td>single</td><td>1</td><td>1</td><td>1</td><td>2.8e-07</td><td>1</td><td>0.001</td><td>0.29</td><td>0.001</td><td>0.95</td><td>global-SPRGTSGGAGDNE</td><td>CASSPRGTSGGAGDNEQFF</td><td>TRBV7-2</td><td>TRBJ2-1</td><td>NA</td><td>Leukemia:CHP_392_X04-PBMC   </td><td>  8</td></tr>\n",
       "\t<tr><td>59972</td><td>single</td><td>1</td><td>1</td><td>1</td><td>7.8e-07</td><td>1</td><td>0.001</td><td>0.82</td><td>0.001</td><td>0.95</td><td>global-SIPPTGVG     </td><td>CASSIPPTGVGYTF     </td><td>TRBV28 </td><td>TRBJ1-2</td><td>NA</td><td>Solidtumors:CHP_364_X01-PBMC</td><td>  7</td></tr>\n",
       "\t<tr><td>59972</td><td>single</td><td>1</td><td>1</td><td>1</td><td>7.8e-07</td><td>1</td><td>0.001</td><td>0.82</td><td>0.001</td><td>0.95</td><td>global-SIPPTGVG     </td><td>CASSIPPTGVGYTF     </td><td>TRBV28 </td><td>TRBJ1-2</td><td>NA</td><td>Solidtumors:CHP_364_X01-PBMC</td><td>  1</td></tr>\n",
       "\t<tr><td>60011</td><td>single</td><td>1</td><td>1</td><td>1</td><td>1.6e-07</td><td>1</td><td>0.001</td><td>0.17</td><td>0.001</td><td>0.95</td><td>global-SQDQISGNT    </td><td>CASSQDQISGNTIYF    </td><td>TRBV3-1</td><td>TRBJ1-3</td><td>NA</td><td>Leukemia:CHP_396_X04-PBMC   </td><td>222</td></tr>\n",
       "\t<tr><td>60011</td><td>single</td><td>1</td><td>1</td><td>1</td><td>1.6e-07</td><td>1</td><td>0.001</td><td>0.17</td><td>0.001</td><td>0.95</td><td>global-SQDQISGNT    </td><td>CASSQDQISGNTIYF    </td><td>TRBV3-1</td><td>TRBJ1-3</td><td>NA</td><td>Leukemia:CHP_396_X04-PBMC   </td><td> 30</td></tr>\n",
       "</tbody>\n",
       "</table>\n"
      ],
      "text/latex": [
       "A tibble: 6 x 18\n",
       "\\begin{tabular}{llllllllllllllllll}\n",
       " index & pattern & Fisher\\_score & number\\_subject & number\\_unique\\_cdr3 & final\\_score & hla\\_score & vb\\_score & expansion\\_score & length\\_score & cluster\\_size\\_score & type & TcRb & V & J & TcRa & Sample & Freq\\\\\n",
       " <dbl> & <chr> & <dbl> & <dbl> & <dbl> & <dbl> & <dbl> & <dbl> & <dbl> & <dbl> & <dbl> & <chr> & <chr> & <chr> & <chr> & <lgl> & <chr> & <dbl>\\\\\n",
       "\\hline\n",
       "\t 59927 & single & 1 & 1 & 1 & 2.8e-07 & 1 & 0.001 & 0.29 & 0.001 & 0.95 & global-SPRGTSGGAGDNE & CASSPRGTSGGAGDNEQFF & TRBV7-2 & TRBJ2-1 & NA & Leukemia:CHP\\_392\\_X04-PBMC    & 123\\\\\n",
       "\t 59927 & single & 1 & 1 & 1 & 2.8e-07 & 1 & 0.001 & 0.29 & 0.001 & 0.95 & global-SPRGTSGGAGDNE & CASSPRGTSGGAGDNEQFF & TRBV7-2 & TRBJ2-1 & NA & Leukemia:CHP\\_392\\_X04-PBMC    &   8\\\\\n",
       "\t 59972 & single & 1 & 1 & 1 & 7.8e-07 & 1 & 0.001 & 0.82 & 0.001 & 0.95 & global-SIPPTGVG      & CASSIPPTGVGYTF      & TRBV28  & TRBJ1-2 & NA & Solidtumors:CHP\\_364\\_X01-PBMC &   7\\\\\n",
       "\t 59972 & single & 1 & 1 & 1 & 7.8e-07 & 1 & 0.001 & 0.82 & 0.001 & 0.95 & global-SIPPTGVG      & CASSIPPTGVGYTF      & TRBV28  & TRBJ1-2 & NA & Solidtumors:CHP\\_364\\_X01-PBMC &   1\\\\\n",
       "\t 60011 & single & 1 & 1 & 1 & 1.6e-07 & 1 & 0.001 & 0.17 & 0.001 & 0.95 & global-SQDQISGNT     & CASSQDQISGNTIYF     & TRBV3-1 & TRBJ1-3 & NA & Leukemia:CHP\\_396\\_X04-PBMC    & 222\\\\\n",
       "\t 60011 & single & 1 & 1 & 1 & 1.6e-07 & 1 & 0.001 & 0.17 & 0.001 & 0.95 & global-SQDQISGNT     & CASSQDQISGNTIYF     & TRBV3-1 & TRBJ1-3 & NA & Leukemia:CHP\\_396\\_X04-PBMC    &  30\\\\\n",
       "\\end{tabular}\n"
      ],
      "text/markdown": [
       "\n",
       "A tibble: 6 x 18\n",
       "\n",
       "| index &lt;dbl&gt; | pattern &lt;chr&gt; | Fisher_score &lt;dbl&gt; | number_subject &lt;dbl&gt; | number_unique_cdr3 &lt;dbl&gt; | final_score &lt;dbl&gt; | hla_score &lt;dbl&gt; | vb_score &lt;dbl&gt; | expansion_score &lt;dbl&gt; | length_score &lt;dbl&gt; | cluster_size_score &lt;dbl&gt; | type &lt;chr&gt; | TcRb &lt;chr&gt; | V &lt;chr&gt; | J &lt;chr&gt; | TcRa &lt;lgl&gt; | Sample &lt;chr&gt; | Freq &lt;dbl&gt; |\n",
       "|---|---|---|---|---|---|---|---|---|---|---|---|---|---|---|---|---|---|\n",
       "| 59927 | single | 1 | 1 | 1 | 2.8e-07 | 1 | 0.001 | 0.29 | 0.001 | 0.95 | global-SPRGTSGGAGDNE | CASSPRGTSGGAGDNEQFF | TRBV7-2 | TRBJ2-1 | NA | Leukemia:CHP_392_X04-PBMC    | 123 |\n",
       "| 59927 | single | 1 | 1 | 1 | 2.8e-07 | 1 | 0.001 | 0.29 | 0.001 | 0.95 | global-SPRGTSGGAGDNE | CASSPRGTSGGAGDNEQFF | TRBV7-2 | TRBJ2-1 | NA | Leukemia:CHP_392_X04-PBMC    |   8 |\n",
       "| 59972 | single | 1 | 1 | 1 | 7.8e-07 | 1 | 0.001 | 0.82 | 0.001 | 0.95 | global-SIPPTGVG      | CASSIPPTGVGYTF      | TRBV28  | TRBJ1-2 | NA | Solidtumors:CHP_364_X01-PBMC |   7 |\n",
       "| 59972 | single | 1 | 1 | 1 | 7.8e-07 | 1 | 0.001 | 0.82 | 0.001 | 0.95 | global-SIPPTGVG      | CASSIPPTGVGYTF      | TRBV28  | TRBJ1-2 | NA | Solidtumors:CHP_364_X01-PBMC |   1 |\n",
       "| 60011 | single | 1 | 1 | 1 | 1.6e-07 | 1 | 0.001 | 0.17 | 0.001 | 0.95 | global-SQDQISGNT     | CASSQDQISGNTIYF     | TRBV3-1 | TRBJ1-3 | NA | Leukemia:CHP_396_X04-PBMC    | 222 |\n",
       "| 60011 | single | 1 | 1 | 1 | 1.6e-07 | 1 | 0.001 | 0.17 | 0.001 | 0.95 | global-SQDQISGNT     | CASSQDQISGNTIYF     | TRBV3-1 | TRBJ1-3 | NA | Leukemia:CHP_396_X04-PBMC    |  30 |\n",
       "\n"
      ],
      "text/plain": [
       "  index pattern Fisher_score number_subject number_unique_cdr3 final_score\n",
       "1 59927 single  1            1              1                  2.8e-07    \n",
       "2 59927 single  1            1              1                  2.8e-07    \n",
       "3 59972 single  1            1              1                  7.8e-07    \n",
       "4 59972 single  1            1              1                  7.8e-07    \n",
       "5 60011 single  1            1              1                  1.6e-07    \n",
       "6 60011 single  1            1              1                  1.6e-07    \n",
       "  hla_score vb_score expansion_score length_score cluster_size_score\n",
       "1 1         0.001    0.29            0.001        0.95              \n",
       "2 1         0.001    0.29            0.001        0.95              \n",
       "3 1         0.001    0.82            0.001        0.95              \n",
       "4 1         0.001    0.82            0.001        0.95              \n",
       "5 1         0.001    0.17            0.001        0.95              \n",
       "6 1         0.001    0.17            0.001        0.95              \n",
       "  type                 TcRb                V       J       TcRa\n",
       "1 global-SPRGTSGGAGDNE CASSPRGTSGGAGDNEQFF TRBV7-2 TRBJ2-1 NA  \n",
       "2 global-SPRGTSGGAGDNE CASSPRGTSGGAGDNEQFF TRBV7-2 TRBJ2-1 NA  \n",
       "3 global-SIPPTGVG      CASSIPPTGVGYTF      TRBV28  TRBJ1-2 NA  \n",
       "4 global-SIPPTGVG      CASSIPPTGVGYTF      TRBV28  TRBJ1-2 NA  \n",
       "5 global-SQDQISGNT     CASSQDQISGNTIYF     TRBV3-1 TRBJ1-3 NA  \n",
       "6 global-SQDQISGNT     CASSQDQISGNTIYF     TRBV3-1 TRBJ1-3 NA  \n",
       "  Sample                       Freq\n",
       "1 Leukemia:CHP_392_X04-PBMC    123 \n",
       "2 Leukemia:CHP_392_X04-PBMC      8 \n",
       "3 Solidtumors:CHP_364_X01-PBMC   7 \n",
       "4 Solidtumors:CHP_364_X01-PBMC   1 \n",
       "5 Leukemia:CHP_396_X04-PBMC    222 \n",
       "6 Leukemia:CHP_396_X04-PBMC     30 "
      ]
     },
     "metadata": {},
     "output_type": "display_data"
    }
   ],
   "source": [
    "tail(gliph_out)"
   ]
  },
  {
   "cell_type": "code",
   "execution_count": 28,
   "metadata": {
    "vscode": {
     "languageId": "r"
    }
   },
   "outputs": [
    {
     "data": {
      "text/html": [
       "<style>\n",
       ".list-inline {list-style: none; margin:0; padding: 0}\n",
       ".list-inline>li {display: inline-block}\n",
       ".list-inline>li:not(:last-child)::after {content: \"\\00b7\"; padding: 0 .5ex}\n",
       "</style>\n",
       "<ol class=list-inline><li>98847</li><li>18</li></ol>\n"
      ],
      "text/latex": [
       "\\begin{enumerate*}\n",
       "\\item 98847\n",
       "\\item 18\n",
       "\\end{enumerate*}\n"
      ],
      "text/markdown": [
       "1. 98847\n",
       "2. 18\n",
       "\n",
       "\n"
      ],
      "text/plain": [
       "[1] 98847    18"
      ]
     },
     "metadata": {},
     "output_type": "display_data"
    }
   ],
   "source": [
    "dim(gliph_out)"
   ]
  },
  {
   "cell_type": "code",
   "execution_count": 29,
   "metadata": {
    "vscode": {
     "languageId": "r"
    }
   },
   "outputs": [],
   "source": [
    "gliph_out <- gliph_out[gliph_out$pattern != \"single\",]\n",
    "gliph_out <- gliph_out[gliph_out$number_unique_cdr3 >= 3,]"
   ]
  },
  {
   "cell_type": "code",
   "execution_count": 30,
   "metadata": {
    "vscode": {
     "languageId": "r"
    }
   },
   "outputs": [
    {
     "data": {
      "text/html": [
       "<style>\n",
       ".list-inline {list-style: none; margin:0; padding: 0}\n",
       ".list-inline>li {display: inline-block}\n",
       ".list-inline>li:not(:last-child)::after {content: \"\\00b7\"; padding: 0 .5ex}\n",
       "</style>\n",
       "<ol class=list-inline><li>65202</li><li>18</li></ol>\n"
      ],
      "text/latex": [
       "\\begin{enumerate*}\n",
       "\\item 65202\n",
       "\\item 18\n",
       "\\end{enumerate*}\n"
      ],
      "text/markdown": [
       "1. 65202\n",
       "2. 18\n",
       "\n",
       "\n"
      ],
      "text/plain": [
       "[1] 65202    18"
      ]
     },
     "metadata": {},
     "output_type": "display_data"
    }
   ],
   "source": [
    "dim(gliph_out)"
   ]
  },
  {
   "cell_type": "code",
   "execution_count": 31,
   "metadata": {
    "vscode": {
     "languageId": "r"
    }
   },
   "outputs": [],
   "source": [
    "mytab <- as.data.frame.matrix(table(gliph_out$Sample, gliph_out$pattern) )"
   ]
  },
  {
   "cell_type": "code",
   "execution_count": 32,
   "metadata": {
    "vscode": {
     "languageId": "r"
    }
   },
   "outputs": [],
   "source": [
    "mytab <- mytab[ rowSums(mytab) > 0,]"
   ]
  },
  {
   "cell_type": "code",
   "execution_count": 33,
   "metadata": {
    "vscode": {
     "languageId": "r"
    }
   },
   "outputs": [],
   "source": [
    "tmp1 <- rowSums(mytab != 0) # count non zeros = number of groups"
   ]
  },
  {
   "cell_type": "code",
   "execution_count": 34,
   "metadata": {
    "vscode": {
     "languageId": "r"
    }
   },
   "outputs": [
    {
     "data": {
      "text/html": [
       "<style>\n",
       ".dl-inline {width: auto; margin:0; padding: 0}\n",
       ".dl-inline>dt, .dl-inline>dd {float: none; width: auto; display: inline-block}\n",
       ".dl-inline>dt::after {content: \":\\0020\"; padding-right: .5ex}\n",
       ".dl-inline>dt:not(:first-of-type) {padding-left: .5ex}\n",
       "</style><dl class=dl-inline><dt>T-cellmalignancies:CHP_387_X01-PBMC</dt><dd>146</dd><dt>T-cellmalignancies:CHP_387_X02-cfDNA</dt><dd>5</dd><dt>T-cellmalignancies:CHP_387_X03-cfDNA</dt><dd>9</dd><dt>T-cellmalignancies:CHP_387_X03-PBMC</dt><dd>17</dd><dt>T-cellmalignancies:CHP_395_X01-cfDNA</dt><dd>2</dd><dt>T-cellmalignancies:CHP_395_X02-cfDNA</dt><dd>9</dd></dl>\n"
      ],
      "text/latex": [
       "\\begin{description*}\n",
       "\\item[T-cellmalignancies:CHP\\textbackslash{}\\_387\\textbackslash{}\\_X01-PBMC] 146\n",
       "\\item[T-cellmalignancies:CHP\\textbackslash{}\\_387\\textbackslash{}\\_X02-cfDNA] 5\n",
       "\\item[T-cellmalignancies:CHP\\textbackslash{}\\_387\\textbackslash{}\\_X03-cfDNA] 9\n",
       "\\item[T-cellmalignancies:CHP\\textbackslash{}\\_387\\textbackslash{}\\_X03-PBMC] 17\n",
       "\\item[T-cellmalignancies:CHP\\textbackslash{}\\_395\\textbackslash{}\\_X01-cfDNA] 2\n",
       "\\item[T-cellmalignancies:CHP\\textbackslash{}\\_395\\textbackslash{}\\_X02-cfDNA] 9\n",
       "\\end{description*}\n"
      ],
      "text/markdown": [
       "T-cellmalignancies:CHP_387_X01-PBMC\n",
       ":   146T-cellmalignancies:CHP_387_X02-cfDNA\n",
       ":   5T-cellmalignancies:CHP_387_X03-cfDNA\n",
       ":   9T-cellmalignancies:CHP_387_X03-PBMC\n",
       ":   17T-cellmalignancies:CHP_395_X01-cfDNA\n",
       ":   2T-cellmalignancies:CHP_395_X02-cfDNA\n",
       ":   9\n",
       "\n"
      ],
      "text/plain": [
       " T-cellmalignancies:CHP_387_X01-PBMC T-cellmalignancies:CHP_387_X02-cfDNA \n",
       "                                 146                                    5 \n",
       "T-cellmalignancies:CHP_387_X03-cfDNA  T-cellmalignancies:CHP_387_X03-PBMC \n",
       "                                   9                                   17 \n",
       "T-cellmalignancies:CHP_395_X01-cfDNA T-cellmalignancies:CHP_395_X02-cfDNA \n",
       "                                   2                                    9 "
      ]
     },
     "metadata": {},
     "output_type": "display_data"
    }
   ],
   "source": [
    "tail(tmp1)"
   ]
  },
  {
   "cell_type": "code",
   "execution_count": 35,
   "metadata": {
    "vscode": {
     "languageId": "r"
    }
   },
   "outputs": [],
   "source": [
    "pbmc$samplename <- paste0(pbmc$cancergroup, \":\", pbmc$Patient, \"_\", pbmc$cycle, \"-\", pbmc$sampletype)"
   ]
  },
  {
   "cell_type": "code",
   "execution_count": 36,
   "metadata": {
    "vscode": {
     "languageId": "r"
    }
   },
   "outputs": [],
   "source": [
    "pbmc$samplename <- gsub(\" \", \"\", pbmc$samplename)"
   ]
  },
  {
   "cell_type": "code",
   "execution_count": 37,
   "metadata": {
    "vscode": {
     "languageId": "r"
    }
   },
   "outputs": [],
   "source": [
    "# add column gliph_n to meta_div, match meta_div$samplename to names(tmp1)\n",
    "pbmc$gliph_n <- tmp1[match(pbmc$samplename, names(tmp1))]"
   ]
  },
  {
   "cell_type": "code",
   "execution_count": 38,
   "metadata": {
    "vscode": {
     "languageId": "r"
    }
   },
   "outputs": [
    {
     "data": {
      "text/html": [
       "<table class=\"dataframe\">\n",
       "<caption>A data.frame: 6 x 79</caption>\n",
       "<thead>\n",
       "\t<tr><th></th><th scope=col>sample_id</th><th scope=col>Patient</th><th scope=col>cycle</th><th scope=col>FOLD</th><th scope=col>ATC</th><th scope=col>Age</th><th scope=col>Disease_type</th><th scope=col>TE_fold</th><th scope=col>CD3</th><th scope=col>EM</th><th scope=col>...</th><th scope=col>HLA_PC2</th><th scope=col>HLA_PC3</th><th scope=col>V_PC1</th><th scope=col>V_PC2</th><th scope=col>V_PC3</th><th scope=col>J_PC1</th><th scope=col>J_PC2</th><th scope=col>J_PC3</th><th scope=col>samplename</th><th scope=col>gliph_n</th></tr>\n",
       "\t<tr><th></th><th scope=col>&lt;chr&gt;</th><th scope=col>&lt;chr&gt;</th><th scope=col>&lt;chr&gt;</th><th scope=col>&lt;dbl&gt;</th><th scope=col>&lt;dbl&gt;</th><th scope=col>&lt;dbl&gt;</th><th scope=col>&lt;chr&gt;</th><th scope=col>&lt;dbl&gt;</th><th scope=col>&lt;int&gt;</th><th scope=col>&lt;int&gt;</th><th scope=col>...</th><th scope=col>&lt;dbl&gt;</th><th scope=col>&lt;dbl&gt;</th><th scope=col>&lt;dbl&gt;</th><th scope=col>&lt;dbl&gt;</th><th scope=col>&lt;dbl&gt;</th><th scope=col>&lt;dbl&gt;</th><th scope=col>&lt;dbl&gt;</th><th scope=col>&lt;dbl&gt;</th><th scope=col>&lt;chr&gt;</th><th scope=col>&lt;dbl&gt;</th></tr>\n",
       "</thead>\n",
       "<tbody>\n",
       "\t<tr><th scope=row>287</th><td>CHP_10YO_M_00  </td><td>CHP_10YO_M  </td><td>X00</td><td>NA</td><td>NA</td><td>NA</td><td>Normal</td><td>NA</td><td>NA</td><td>NA</td><td>...</td><td>NA</td><td>NA</td><td>4.487279</td><td>0.3424950</td><td>-0.3658488</td><td>2.697180</td><td> 0.2614244</td><td>-0.083404572</td><td>Normal:CHP_10YO_M_X00-PBMC  </td><td> 9</td></tr>\n",
       "\t<tr><th scope=row>288</th><td>CHP_11YO_M_00  </td><td>CHP_11YO_M  </td><td>X00</td><td>NA</td><td>NA</td><td>NA</td><td>Normal</td><td>NA</td><td>NA</td><td>NA</td><td>...</td><td>NA</td><td>NA</td><td>4.608904</td><td>0.2220972</td><td>-0.2893333</td><td>2.623844</td><td> 0.2712649</td><td>-0.009213308</td><td>Normal:CHP_11YO_M_X00-PBMC  </td><td> 3</td></tr>\n",
       "\t<tr><th scope=row>289</th><td>CHP_15YO_F_A_00</td><td>CHP_15YO_F_A</td><td>X00</td><td>NA</td><td>NA</td><td>NA</td><td>Normal</td><td>NA</td><td>NA</td><td>NA</td><td>...</td><td>NA</td><td>NA</td><td>4.672933</td><td>0.2820477</td><td>-0.2893257</td><td>2.715678</td><td> 0.2214375</td><td>-0.022667262</td><td>Normal:CHP_15YO_F_A_X00-PBMC</td><td> 7</td></tr>\n",
       "\t<tr><th scope=row>290</th><td>CHP_15YO_F_B_00</td><td>CHP_15YO_F_B</td><td>X00</td><td>NA</td><td>NA</td><td>NA</td><td>Normal</td><td>NA</td><td>NA</td><td>NA</td><td>...</td><td>NA</td><td>NA</td><td>4.695359</td><td>0.1389736</td><td>-0.1555102</td><td>2.735124</td><td> 0.2395413</td><td>-0.085880490</td><td>Normal:CHP_15YO_F_B_X00-PBMC</td><td> 1</td></tr>\n",
       "\t<tr><th scope=row>291</th><td>CHP_15YO_M_00  </td><td>CHP_15YO_M  </td><td>X00</td><td>NA</td><td>NA</td><td>NA</td><td>Normal</td><td>NA</td><td>NA</td><td>NA</td><td>...</td><td>NA</td><td>NA</td><td>4.374467</td><td>0.1322533</td><td>-0.3353389</td><td>2.583896</td><td> 0.2814897</td><td>-0.023352703</td><td>Normal:CHP_15YO_M_X00-PBMC  </td><td>12</td></tr>\n",
       "\t<tr><th scope=row>292</th><td>CHP_16YO_M_00  </td><td>CHP_16YO_M  </td><td>X00</td><td>NA</td><td>NA</td><td>NA</td><td>Normal</td><td>NA</td><td>NA</td><td>NA</td><td>...</td><td>NA</td><td>NA</td><td>4.792346</td><td>0.2664800</td><td>-0.1734509</td><td>2.735426</td><td>-0.0465748</td><td>-0.167060816</td><td>Normal:CHP_16YO_M_X00-PBMC  </td><td> 5</td></tr>\n",
       "</tbody>\n",
       "</table>\n"
      ],
      "text/latex": [
       "A data.frame: 6 x 79\n",
       "\\begin{tabular}{r|lllllllllllllllllllll}\n",
       "  & sample\\_id & Patient & cycle & FOLD & ATC & Age & Disease\\_type & TE\\_fold & CD3 & EM & ... & HLA\\_PC2 & HLA\\_PC3 & V\\_PC1 & V\\_PC2 & V\\_PC3 & J\\_PC1 & J\\_PC2 & J\\_PC3 & samplename & gliph\\_n\\\\\n",
       "  & <chr> & <chr> & <chr> & <dbl> & <dbl> & <dbl> & <chr> & <dbl> & <int> & <int> & ... & <dbl> & <dbl> & <dbl> & <dbl> & <dbl> & <dbl> & <dbl> & <dbl> & <chr> & <dbl>\\\\\n",
       "\\hline\n",
       "\t287 & CHP\\_10YO\\_M\\_00   & CHP\\_10YO\\_M   & X00 & NA & NA & NA & Normal & NA & NA & NA & ... & NA & NA & 4.487279 & 0.3424950 & -0.3658488 & 2.697180 &  0.2614244 & -0.083404572 & Normal:CHP\\_10YO\\_M\\_X00-PBMC   &  9\\\\\n",
       "\t288 & CHP\\_11YO\\_M\\_00   & CHP\\_11YO\\_M   & X00 & NA & NA & NA & Normal & NA & NA & NA & ... & NA & NA & 4.608904 & 0.2220972 & -0.2893333 & 2.623844 &  0.2712649 & -0.009213308 & Normal:CHP\\_11YO\\_M\\_X00-PBMC   &  3\\\\\n",
       "\t289 & CHP\\_15YO\\_F\\_A\\_00 & CHP\\_15YO\\_F\\_A & X00 & NA & NA & NA & Normal & NA & NA & NA & ... & NA & NA & 4.672933 & 0.2820477 & -0.2893257 & 2.715678 &  0.2214375 & -0.022667262 & Normal:CHP\\_15YO\\_F\\_A\\_X00-PBMC &  7\\\\\n",
       "\t290 & CHP\\_15YO\\_F\\_B\\_00 & CHP\\_15YO\\_F\\_B & X00 & NA & NA & NA & Normal & NA & NA & NA & ... & NA & NA & 4.695359 & 0.1389736 & -0.1555102 & 2.735124 &  0.2395413 & -0.085880490 & Normal:CHP\\_15YO\\_F\\_B\\_X00-PBMC &  1\\\\\n",
       "\t291 & CHP\\_15YO\\_M\\_00   & CHP\\_15YO\\_M   & X00 & NA & NA & NA & Normal & NA & NA & NA & ... & NA & NA & 4.374467 & 0.1322533 & -0.3353389 & 2.583896 &  0.2814897 & -0.023352703 & Normal:CHP\\_15YO\\_M\\_X00-PBMC   & 12\\\\\n",
       "\t292 & CHP\\_16YO\\_M\\_00   & CHP\\_16YO\\_M   & X00 & NA & NA & NA & Normal & NA & NA & NA & ... & NA & NA & 4.792346 & 0.2664800 & -0.1734509 & 2.735426 & -0.0465748 & -0.167060816 & Normal:CHP\\_16YO\\_M\\_X00-PBMC   &  5\\\\\n",
       "\\end{tabular}\n"
      ],
      "text/markdown": [
       "\n",
       "A data.frame: 6 x 79\n",
       "\n",
       "| <!--/--> | sample_id &lt;chr&gt; | Patient &lt;chr&gt; | cycle &lt;chr&gt; | FOLD &lt;dbl&gt; | ATC &lt;dbl&gt; | Age &lt;dbl&gt; | Disease_type &lt;chr&gt; | TE_fold &lt;dbl&gt; | CD3 &lt;int&gt; | EM &lt;int&gt; | ... ... | HLA_PC2 &lt;dbl&gt; | HLA_PC3 &lt;dbl&gt; | V_PC1 &lt;dbl&gt; | V_PC2 &lt;dbl&gt; | V_PC3 &lt;dbl&gt; | J_PC1 &lt;dbl&gt; | J_PC2 &lt;dbl&gt; | J_PC3 &lt;dbl&gt; | samplename &lt;chr&gt; | gliph_n &lt;dbl&gt; |\n",
       "|---|---|---|---|---|---|---|---|---|---|---|---|---|---|---|---|---|---|---|---|---|---|\n",
       "| 287 | CHP_10YO_M_00   | CHP_10YO_M   | X00 | NA | NA | NA | Normal | NA | NA | NA | ... | NA | NA | 4.487279 | 0.3424950 | -0.3658488 | 2.697180 |  0.2614244 | -0.083404572 | Normal:CHP_10YO_M_X00-PBMC   |  9 |\n",
       "| 288 | CHP_11YO_M_00   | CHP_11YO_M   | X00 | NA | NA | NA | Normal | NA | NA | NA | ... | NA | NA | 4.608904 | 0.2220972 | -0.2893333 | 2.623844 |  0.2712649 | -0.009213308 | Normal:CHP_11YO_M_X00-PBMC   |  3 |\n",
       "| 289 | CHP_15YO_F_A_00 | CHP_15YO_F_A | X00 | NA | NA | NA | Normal | NA | NA | NA | ... | NA | NA | 4.672933 | 0.2820477 | -0.2893257 | 2.715678 |  0.2214375 | -0.022667262 | Normal:CHP_15YO_F_A_X00-PBMC |  7 |\n",
       "| 290 | CHP_15YO_F_B_00 | CHP_15YO_F_B | X00 | NA | NA | NA | Normal | NA | NA | NA | ... | NA | NA | 4.695359 | 0.1389736 | -0.1555102 | 2.735124 |  0.2395413 | -0.085880490 | Normal:CHP_15YO_F_B_X00-PBMC |  1 |\n",
       "| 291 | CHP_15YO_M_00   | CHP_15YO_M   | X00 | NA | NA | NA | Normal | NA | NA | NA | ... | NA | NA | 4.374467 | 0.1322533 | -0.3353389 | 2.583896 |  0.2814897 | -0.023352703 | Normal:CHP_15YO_M_X00-PBMC   | 12 |\n",
       "| 292 | CHP_16YO_M_00   | CHP_16YO_M   | X00 | NA | NA | NA | Normal | NA | NA | NA | ... | NA | NA | 4.792346 | 0.2664800 | -0.1734509 | 2.735426 | -0.0465748 | -0.167060816 | Normal:CHP_16YO_M_X00-PBMC   |  5 |\n",
       "\n"
      ],
      "text/plain": [
       "    sample_id       Patient      cycle FOLD ATC Age Disease_type TE_fold CD3 EM\n",
       "287 CHP_10YO_M_00   CHP_10YO_M   X00   NA   NA  NA  Normal       NA      NA  NA\n",
       "288 CHP_11YO_M_00   CHP_11YO_M   X00   NA   NA  NA  Normal       NA      NA  NA\n",
       "289 CHP_15YO_F_A_00 CHP_15YO_F_A X00   NA   NA  NA  Normal       NA      NA  NA\n",
       "290 CHP_15YO_F_B_00 CHP_15YO_F_B X00   NA   NA  NA  Normal       NA      NA  NA\n",
       "291 CHP_15YO_M_00   CHP_15YO_M   X00   NA   NA  NA  Normal       NA      NA  NA\n",
       "292 CHP_16YO_M_00   CHP_16YO_M   X00   NA   NA  NA  Normal       NA      NA  NA\n",
       "    ... HLA_PC2 HLA_PC3 V_PC1    V_PC2     V_PC3      J_PC1    J_PC2     \n",
       "287 ... NA      NA      4.487279 0.3424950 -0.3658488 2.697180  0.2614244\n",
       "288 ... NA      NA      4.608904 0.2220972 -0.2893333 2.623844  0.2712649\n",
       "289 ... NA      NA      4.672933 0.2820477 -0.2893257 2.715678  0.2214375\n",
       "290 ... NA      NA      4.695359 0.1389736 -0.1555102 2.735124  0.2395413\n",
       "291 ... NA      NA      4.374467 0.1322533 -0.3353389 2.583896  0.2814897\n",
       "292 ... NA      NA      4.792346 0.2664800 -0.1734509 2.735426 -0.0465748\n",
       "    J_PC3        samplename                   gliph_n\n",
       "287 -0.083404572 Normal:CHP_10YO_M_X00-PBMC    9     \n",
       "288 -0.009213308 Normal:CHP_11YO_M_X00-PBMC    3     \n",
       "289 -0.022667262 Normal:CHP_15YO_F_A_X00-PBMC  7     \n",
       "290 -0.085880490 Normal:CHP_15YO_F_B_X00-PBMC  1     \n",
       "291 -0.023352703 Normal:CHP_15YO_M_X00-PBMC   12     \n",
       "292 -0.167060816 Normal:CHP_16YO_M_X00-PBMC    5     "
      ]
     },
     "metadata": {},
     "output_type": "display_data"
    }
   ],
   "source": [
    "head(pbmc)"
   ]
  },
  {
   "cell_type": "code",
   "execution_count": 39,
   "metadata": {
    "vscode": {
     "languageId": "r"
    }
   },
   "outputs": [],
   "source": [
    "pbmc$gliph_n[is.na(pbmc$gliph_n)] <- 0"
   ]
  },
  {
   "cell_type": "code",
   "execution_count": 40,
   "metadata": {
    "vscode": {
     "languageId": "r"
    }
   },
   "outputs": [],
   "source": [
    "gliphdf <- data.frame(gliph = unique(gliph_out$pattern))\n",
    "rownames(gliphdf) <- gliphdf$gliph\n",
    "# gliphdf$Class <- onetest$hklust[match(rownames(gliphdf), onetest$Xpattern)]"
   ]
  },
  {
   "cell_type": "code",
   "execution_count": 41,
   "metadata": {
    "vscode": {
     "languageId": "r"
    }
   },
   "outputs": [
    {
     "data": {
      "text/html": [
       "<table class=\"dataframe\">\n",
       "<caption>A data.frame: 6 x 1</caption>\n",
       "<thead>\n",
       "\t<tr><th></th><th scope=col>gliph</th></tr>\n",
       "\t<tr><th></th><th scope=col>&lt;chr&gt;</th></tr>\n",
       "</thead>\n",
       "<tbody>\n",
       "\t<tr><th scope=row>SLG%E</th><td>SLG%E  </td></tr>\n",
       "\t<tr><th scope=row>S%GGNTE</th><td>S%GGNTE</td></tr>\n",
       "\t<tr><th scope=row>GIWV</th><td>GIWV   </td></tr>\n",
       "\t<tr><th scope=row>IWV</th><td>IWV    </td></tr>\n",
       "\t<tr><th scope=row>WVYE</th><td>WVYE   </td></tr>\n",
       "\t<tr><th scope=row>IWVY</th><td>IWVY   </td></tr>\n",
       "</tbody>\n",
       "</table>\n"
      ],
      "text/latex": [
       "A data.frame: 6 x 1\n",
       "\\begin{tabular}{r|l}\n",
       "  & gliph\\\\\n",
       "  & <chr>\\\\\n",
       "\\hline\n",
       "\tSLG\\%E & SLG\\%E  \\\\\n",
       "\tS\\%GGNTE & S\\%GGNTE\\\\\n",
       "\tGIWV & GIWV   \\\\\n",
       "\tIWV & IWV    \\\\\n",
       "\tWVYE & WVYE   \\\\\n",
       "\tIWVY & IWVY   \\\\\n",
       "\\end{tabular}\n"
      ],
      "text/markdown": [
       "\n",
       "A data.frame: 6 x 1\n",
       "\n",
       "| <!--/--> | gliph &lt;chr&gt; |\n",
       "|---|---|\n",
       "| SLG%E | SLG%E   |\n",
       "| S%GGNTE | S%GGNTE |\n",
       "| GIWV | GIWV    |\n",
       "| IWV | IWV     |\n",
       "| WVYE | WVYE    |\n",
       "| IWVY | IWVY    |\n",
       "\n"
      ],
      "text/plain": [
       "        gliph  \n",
       "SLG%E   SLG%E  \n",
       "S%GGNTE S%GGNTE\n",
       "GIWV    GIWV   \n",
       "IWV     IWV    \n",
       "WVYE    WVYE   \n",
       "IWVY    IWVY   "
      ]
     },
     "metadata": {},
     "output_type": "display_data"
    }
   ],
   "source": [
    "head(gliphdf)"
   ]
  },
  {
   "cell_type": "code",
   "execution_count": 42,
   "metadata": {
    "vscode": {
     "languageId": "r"
    }
   },
   "outputs": [],
   "source": [
    "gliph_out$subject <- gsub(\":.*\", \"\", gliph_out$Sample)"
   ]
  },
  {
   "cell_type": "code",
   "execution_count": 118,
   "metadata": {
    "vscode": {
     "languageId": "r"
    }
   },
   "outputs": [],
   "source": [
    "for(i in 1:nrow(gliphdf)){\n",
    "mygliph <- gliph_out[gliph_out$pattern == gliphdf$gliph[i],]\n",
    "# add 1 in gliphdf$CMV, if mygliph$subject ciontains CMV\n",
    "gliphdf$CMV[i] <- ifelse(sum(grepl(\"CMV\", mygliph$subject)) > 0, 1, 0)\n",
    "gliphdf$EBV[i] <- ifelse(sum(grepl(\"EBV\", mygliph$subject)) > 0, 1, 0)\n",
    "gliphdf$HCV[i] <- ifelse(sum(grepl(\"HCV\", mygliph$subject)) > 0, 1, 0)\n",
    "gliphdf$Flu[i] <- ifelse(sum(grepl(\"Influenza\", mygliph$subject)) > 0, 1, 0)\n",
    "gliphdf$hs[i] <- ifelse(sum(grepl(\"HomoSapiens\", mygliph$subject)) > 0, 1, 0)\n",
    "}"
   ]
  },
  {
   "cell_type": "code",
   "execution_count": 119,
   "metadata": {
    "vscode": {
     "languageId": "r"
    }
   },
   "outputs": [
    {
     "data": {
      "text/html": [
       "<table class=\"dataframe\">\n",
       "<caption>A data.frame: 6 x 6</caption>\n",
       "<thead>\n",
       "\t<tr><th></th><th scope=col>gliph</th><th scope=col>CMV</th><th scope=col>EBV</th><th scope=col>HCV</th><th scope=col>Flu</th><th scope=col>hs</th></tr>\n",
       "\t<tr><th></th><th scope=col>&lt;chr&gt;</th><th scope=col>&lt;dbl&gt;</th><th scope=col>&lt;dbl&gt;</th><th scope=col>&lt;dbl&gt;</th><th scope=col>&lt;dbl&gt;</th><th scope=col>&lt;dbl&gt;</th></tr>\n",
       "</thead>\n",
       "<tbody>\n",
       "\t<tr><th scope=row>SP%</th><td>SP%  </td><td>0</td><td>0</td><td>0</td><td>0</td><td>0</td></tr>\n",
       "\t<tr><th scope=row>S%E</th><td>S%E  </td><td>0</td><td>0</td><td>0</td><td>0</td><td>0</td></tr>\n",
       "\t<tr><th scope=row>S%GTG</th><td>S%GTG</td><td>0</td><td>0</td><td>0</td><td>0</td><td>0</td></tr>\n",
       "\t<tr><th scope=row>G%</th><td>G%   </td><td>0</td><td>0</td><td>0</td><td>0</td><td>1</td></tr>\n",
       "\t<tr><th scope=row>%G</th><td>%G   </td><td>0</td><td>0</td><td>0</td><td>0</td><td>0</td></tr>\n",
       "\t<tr><th scope=row>%E</th><td>%E   </td><td>0</td><td>0</td><td>0</td><td>0</td><td>0</td></tr>\n",
       "</tbody>\n",
       "</table>\n"
      ],
      "text/latex": [
       "A data.frame: 6 x 6\n",
       "\\begin{tabular}{r|llllll}\n",
       "  & gliph & CMV & EBV & HCV & Flu & hs\\\\\n",
       "  & <chr> & <dbl> & <dbl> & <dbl> & <dbl> & <dbl>\\\\\n",
       "\\hline\n",
       "\tSP\\% & SP\\%   & 0 & 0 & 0 & 0 & 0\\\\\n",
       "\tS\\%E & S\\%E   & 0 & 0 & 0 & 0 & 0\\\\\n",
       "\tS\\%GTG & S\\%GTG & 0 & 0 & 0 & 0 & 0\\\\\n",
       "\tG\\% & G\\%    & 0 & 0 & 0 & 0 & 1\\\\\n",
       "\t\\%G & \\%G    & 0 & 0 & 0 & 0 & 0\\\\\n",
       "\t\\%E & \\%E    & 0 & 0 & 0 & 0 & 0\\\\\n",
       "\\end{tabular}\n"
      ],
      "text/markdown": [
       "\n",
       "A data.frame: 6 x 6\n",
       "\n",
       "| <!--/--> | gliph &lt;chr&gt; | CMV &lt;dbl&gt; | EBV &lt;dbl&gt; | HCV &lt;dbl&gt; | Flu &lt;dbl&gt; | hs &lt;dbl&gt; |\n",
       "|---|---|---|---|---|---|---|\n",
       "| SP% | SP%   | 0 | 0 | 0 | 0 | 0 |\n",
       "| S%E | S%E   | 0 | 0 | 0 | 0 | 0 |\n",
       "| S%GTG | S%GTG | 0 | 0 | 0 | 0 | 0 |\n",
       "| G% | G%    | 0 | 0 | 0 | 0 | 1 |\n",
       "| %G | %G    | 0 | 0 | 0 | 0 | 0 |\n",
       "| %E | %E    | 0 | 0 | 0 | 0 | 0 |\n",
       "\n"
      ],
      "text/plain": [
       "      gliph CMV EBV HCV Flu hs\n",
       "SP%   SP%   0   0   0   0   0 \n",
       "S%E   S%E   0   0   0   0   0 \n",
       "S%GTG S%GTG 0   0   0   0   0 \n",
       "G%    G%    0   0   0   0   1 \n",
       "%G    %G    0   0   0   0   0 \n",
       "%E    %E    0   0   0   0   0 "
      ]
     },
     "metadata": {},
     "output_type": "display_data"
    }
   ],
   "source": [
    "tail(gliphdf)"
   ]
  },
  {
   "cell_type": "code",
   "execution_count": 120,
   "metadata": {
    "vscode": {
     "languageId": "r"
    }
   },
   "outputs": [
    {
     "data": {
      "text/html": [
       "<table class=\"dataframe\">\n",
       "<caption>A data.frame: 6 x 79</caption>\n",
       "<thead>\n",
       "\t<tr><th></th><th scope=col>sample_id</th><th scope=col>Patient</th><th scope=col>cycle</th><th scope=col>FOLD</th><th scope=col>ATC</th><th scope=col>Age</th><th scope=col>Disease_type</th><th scope=col>TE_fold</th><th scope=col>CD3</th><th scope=col>EM</th><th scope=col>...</th><th scope=col>HLA_PC2</th><th scope=col>HLA_PC3</th><th scope=col>V_PC1</th><th scope=col>V_PC2</th><th scope=col>V_PC3</th><th scope=col>J_PC1</th><th scope=col>J_PC2</th><th scope=col>J_PC3</th><th scope=col>samplename</th><th scope=col>gliph_n</th></tr>\n",
       "\t<tr><th></th><th scope=col>&lt;chr&gt;</th><th scope=col>&lt;chr&gt;</th><th scope=col>&lt;chr&gt;</th><th scope=col>&lt;dbl&gt;</th><th scope=col>&lt;dbl&gt;</th><th scope=col>&lt;dbl&gt;</th><th scope=col>&lt;chr&gt;</th><th scope=col>&lt;dbl&gt;</th><th scope=col>&lt;int&gt;</th><th scope=col>&lt;int&gt;</th><th scope=col>...</th><th scope=col>&lt;dbl&gt;</th><th scope=col>&lt;dbl&gt;</th><th scope=col>&lt;dbl&gt;</th><th scope=col>&lt;dbl&gt;</th><th scope=col>&lt;dbl&gt;</th><th scope=col>&lt;dbl&gt;</th><th scope=col>&lt;dbl&gt;</th><th scope=col>&lt;dbl&gt;</th><th scope=col>&lt;chr&gt;</th><th scope=col>&lt;dbl&gt;</th></tr>\n",
       "</thead>\n",
       "<tbody>\n",
       "\t<tr><th scope=row>287</th><td>CHP_10YO_M_00  </td><td>CHP_10YO_M  </td><td>X00</td><td>NA</td><td>NA</td><td>NA</td><td>Normal</td><td>NA</td><td>NA</td><td>NA</td><td>...</td><td>NA</td><td>NA</td><td>4.487279</td><td>0.3424950</td><td>-0.3658488</td><td>2.697180</td><td> 0.2614244</td><td>-0.083404572</td><td>Normal:CHP_10YO_M_X00-PBMC  </td><td>15</td></tr>\n",
       "\t<tr><th scope=row>288</th><td>CHP_11YO_M_00  </td><td>CHP_11YO_M  </td><td>X00</td><td>NA</td><td>NA</td><td>NA</td><td>Normal</td><td>NA</td><td>NA</td><td>NA</td><td>...</td><td>NA</td><td>NA</td><td>4.608904</td><td>0.2220972</td><td>-0.2893333</td><td>2.623844</td><td> 0.2712649</td><td>-0.009213308</td><td>Normal:CHP_11YO_M_X00-PBMC  </td><td> 1</td></tr>\n",
       "\t<tr><th scope=row>289</th><td>CHP_15YO_F_A_00</td><td>CHP_15YO_F_A</td><td>X00</td><td>NA</td><td>NA</td><td>NA</td><td>Normal</td><td>NA</td><td>NA</td><td>NA</td><td>...</td><td>NA</td><td>NA</td><td>4.672933</td><td>0.2820477</td><td>-0.2893257</td><td>2.715678</td><td> 0.2214375</td><td>-0.022667262</td><td>Normal:CHP_15YO_F_A_X00-PBMC</td><td> 7</td></tr>\n",
       "\t<tr><th scope=row>290</th><td>CHP_15YO_F_B_00</td><td>CHP_15YO_F_B</td><td>X00</td><td>NA</td><td>NA</td><td>NA</td><td>Normal</td><td>NA</td><td>NA</td><td>NA</td><td>...</td><td>NA</td><td>NA</td><td>4.695359</td><td>0.1389736</td><td>-0.1555102</td><td>2.735124</td><td> 0.2395413</td><td>-0.085880490</td><td>Normal:CHP_15YO_F_B_X00-PBMC</td><td> 3</td></tr>\n",
       "\t<tr><th scope=row>291</th><td>CHP_15YO_M_00  </td><td>CHP_15YO_M  </td><td>X00</td><td>NA</td><td>NA</td><td>NA</td><td>Normal</td><td>NA</td><td>NA</td><td>NA</td><td>...</td><td>NA</td><td>NA</td><td>4.374467</td><td>0.1322533</td><td>-0.3353389</td><td>2.583896</td><td> 0.2814897</td><td>-0.023352703</td><td>Normal:CHP_15YO_M_X00-PBMC  </td><td>14</td></tr>\n",
       "\t<tr><th scope=row>292</th><td>CHP_16YO_M_00  </td><td>CHP_16YO_M  </td><td>X00</td><td>NA</td><td>NA</td><td>NA</td><td>Normal</td><td>NA</td><td>NA</td><td>NA</td><td>...</td><td>NA</td><td>NA</td><td>4.792346</td><td>0.2664800</td><td>-0.1734509</td><td>2.735426</td><td>-0.0465748</td><td>-0.167060816</td><td>Normal:CHP_16YO_M_X00-PBMC  </td><td> 4</td></tr>\n",
       "</tbody>\n",
       "</table>\n"
      ],
      "text/latex": [
       "A data.frame: 6 x 79\n",
       "\\begin{tabular}{r|lllllllllllllllllllll}\n",
       "  & sample\\_id & Patient & cycle & FOLD & ATC & Age & Disease\\_type & TE\\_fold & CD3 & EM & ... & HLA\\_PC2 & HLA\\_PC3 & V\\_PC1 & V\\_PC2 & V\\_PC3 & J\\_PC1 & J\\_PC2 & J\\_PC3 & samplename & gliph\\_n\\\\\n",
       "  & <chr> & <chr> & <chr> & <dbl> & <dbl> & <dbl> & <chr> & <dbl> & <int> & <int> & ... & <dbl> & <dbl> & <dbl> & <dbl> & <dbl> & <dbl> & <dbl> & <dbl> & <chr> & <dbl>\\\\\n",
       "\\hline\n",
       "\t287 & CHP\\_10YO\\_M\\_00   & CHP\\_10YO\\_M   & X00 & NA & NA & NA & Normal & NA & NA & NA & ... & NA & NA & 4.487279 & 0.3424950 & -0.3658488 & 2.697180 &  0.2614244 & -0.083404572 & Normal:CHP\\_10YO\\_M\\_X00-PBMC   & 15\\\\\n",
       "\t288 & CHP\\_11YO\\_M\\_00   & CHP\\_11YO\\_M   & X00 & NA & NA & NA & Normal & NA & NA & NA & ... & NA & NA & 4.608904 & 0.2220972 & -0.2893333 & 2.623844 &  0.2712649 & -0.009213308 & Normal:CHP\\_11YO\\_M\\_X00-PBMC   &  1\\\\\n",
       "\t289 & CHP\\_15YO\\_F\\_A\\_00 & CHP\\_15YO\\_F\\_A & X00 & NA & NA & NA & Normal & NA & NA & NA & ... & NA & NA & 4.672933 & 0.2820477 & -0.2893257 & 2.715678 &  0.2214375 & -0.022667262 & Normal:CHP\\_15YO\\_F\\_A\\_X00-PBMC &  7\\\\\n",
       "\t290 & CHP\\_15YO\\_F\\_B\\_00 & CHP\\_15YO\\_F\\_B & X00 & NA & NA & NA & Normal & NA & NA & NA & ... & NA & NA & 4.695359 & 0.1389736 & -0.1555102 & 2.735124 &  0.2395413 & -0.085880490 & Normal:CHP\\_15YO\\_F\\_B\\_X00-PBMC &  3\\\\\n",
       "\t291 & CHP\\_15YO\\_M\\_00   & CHP\\_15YO\\_M   & X00 & NA & NA & NA & Normal & NA & NA & NA & ... & NA & NA & 4.374467 & 0.1322533 & -0.3353389 & 2.583896 &  0.2814897 & -0.023352703 & Normal:CHP\\_15YO\\_M\\_X00-PBMC   & 14\\\\\n",
       "\t292 & CHP\\_16YO\\_M\\_00   & CHP\\_16YO\\_M   & X00 & NA & NA & NA & Normal & NA & NA & NA & ... & NA & NA & 4.792346 & 0.2664800 & -0.1734509 & 2.735426 & -0.0465748 & -0.167060816 & Normal:CHP\\_16YO\\_M\\_X00-PBMC   &  4\\\\\n",
       "\\end{tabular}\n"
      ],
      "text/markdown": [
       "\n",
       "A data.frame: 6 x 79\n",
       "\n",
       "| <!--/--> | sample_id &lt;chr&gt; | Patient &lt;chr&gt; | cycle &lt;chr&gt; | FOLD &lt;dbl&gt; | ATC &lt;dbl&gt; | Age &lt;dbl&gt; | Disease_type &lt;chr&gt; | TE_fold &lt;dbl&gt; | CD3 &lt;int&gt; | EM &lt;int&gt; | ... ... | HLA_PC2 &lt;dbl&gt; | HLA_PC3 &lt;dbl&gt; | V_PC1 &lt;dbl&gt; | V_PC2 &lt;dbl&gt; | V_PC3 &lt;dbl&gt; | J_PC1 &lt;dbl&gt; | J_PC2 &lt;dbl&gt; | J_PC3 &lt;dbl&gt; | samplename &lt;chr&gt; | gliph_n &lt;dbl&gt; |\n",
       "|---|---|---|---|---|---|---|---|---|---|---|---|---|---|---|---|---|---|---|---|---|---|\n",
       "| 287 | CHP_10YO_M_00   | CHP_10YO_M   | X00 | NA | NA | NA | Normal | NA | NA | NA | ... | NA | NA | 4.487279 | 0.3424950 | -0.3658488 | 2.697180 |  0.2614244 | -0.083404572 | Normal:CHP_10YO_M_X00-PBMC   | 15 |\n",
       "| 288 | CHP_11YO_M_00   | CHP_11YO_M   | X00 | NA | NA | NA | Normal | NA | NA | NA | ... | NA | NA | 4.608904 | 0.2220972 | -0.2893333 | 2.623844 |  0.2712649 | -0.009213308 | Normal:CHP_11YO_M_X00-PBMC   |  1 |\n",
       "| 289 | CHP_15YO_F_A_00 | CHP_15YO_F_A | X00 | NA | NA | NA | Normal | NA | NA | NA | ... | NA | NA | 4.672933 | 0.2820477 | -0.2893257 | 2.715678 |  0.2214375 | -0.022667262 | Normal:CHP_15YO_F_A_X00-PBMC |  7 |\n",
       "| 290 | CHP_15YO_F_B_00 | CHP_15YO_F_B | X00 | NA | NA | NA | Normal | NA | NA | NA | ... | NA | NA | 4.695359 | 0.1389736 | -0.1555102 | 2.735124 |  0.2395413 | -0.085880490 | Normal:CHP_15YO_F_B_X00-PBMC |  3 |\n",
       "| 291 | CHP_15YO_M_00   | CHP_15YO_M   | X00 | NA | NA | NA | Normal | NA | NA | NA | ... | NA | NA | 4.374467 | 0.1322533 | -0.3353389 | 2.583896 |  0.2814897 | -0.023352703 | Normal:CHP_15YO_M_X00-PBMC   | 14 |\n",
       "| 292 | CHP_16YO_M_00   | CHP_16YO_M   | X00 | NA | NA | NA | Normal | NA | NA | NA | ... | NA | NA | 4.792346 | 0.2664800 | -0.1734509 | 2.735426 | -0.0465748 | -0.167060816 | Normal:CHP_16YO_M_X00-PBMC   |  4 |\n",
       "\n"
      ],
      "text/plain": [
       "    sample_id       Patient      cycle FOLD ATC Age Disease_type TE_fold CD3 EM\n",
       "287 CHP_10YO_M_00   CHP_10YO_M   X00   NA   NA  NA  Normal       NA      NA  NA\n",
       "288 CHP_11YO_M_00   CHP_11YO_M   X00   NA   NA  NA  Normal       NA      NA  NA\n",
       "289 CHP_15YO_F_A_00 CHP_15YO_F_A X00   NA   NA  NA  Normal       NA      NA  NA\n",
       "290 CHP_15YO_F_B_00 CHP_15YO_F_B X00   NA   NA  NA  Normal       NA      NA  NA\n",
       "291 CHP_15YO_M_00   CHP_15YO_M   X00   NA   NA  NA  Normal       NA      NA  NA\n",
       "292 CHP_16YO_M_00   CHP_16YO_M   X00   NA   NA  NA  Normal       NA      NA  NA\n",
       "    ... HLA_PC2 HLA_PC3 V_PC1    V_PC2     V_PC3      J_PC1    J_PC2     \n",
       "287 ... NA      NA      4.487279 0.3424950 -0.3658488 2.697180  0.2614244\n",
       "288 ... NA      NA      4.608904 0.2220972 -0.2893333 2.623844  0.2712649\n",
       "289 ... NA      NA      4.672933 0.2820477 -0.2893257 2.715678  0.2214375\n",
       "290 ... NA      NA      4.695359 0.1389736 -0.1555102 2.735124  0.2395413\n",
       "291 ... NA      NA      4.374467 0.1322533 -0.3353389 2.583896  0.2814897\n",
       "292 ... NA      NA      4.792346 0.2664800 -0.1734509 2.735426 -0.0465748\n",
       "    J_PC3        samplename                   gliph_n\n",
       "287 -0.083404572 Normal:CHP_10YO_M_X00-PBMC   15     \n",
       "288 -0.009213308 Normal:CHP_11YO_M_X00-PBMC    1     \n",
       "289 -0.022667262 Normal:CHP_15YO_F_A_X00-PBMC  7     \n",
       "290 -0.085880490 Normal:CHP_15YO_F_B_X00-PBMC  3     \n",
       "291 -0.023352703 Normal:CHP_15YO_M_X00-PBMC   14     \n",
       "292 -0.167060816 Normal:CHP_16YO_M_X00-PBMC    4     "
      ]
     },
     "metadata": {},
     "output_type": "display_data"
    }
   ],
   "source": [
    "head(pbmc)"
   ]
  },
  {
   "cell_type": "code",
   "execution_count": 121,
   "metadata": {
    "vscode": {
     "languageId": "r"
    }
   },
   "outputs": [],
   "source": [
    "pbmc$CMV <- NA\n",
    "pbmc$EBV <- NA\n",
    "pbmc$HCV <- NA\n",
    "pbmc$Flu <- NA\n",
    "pbmc$hs <- NA"
   ]
  },
  {
   "cell_type": "code",
   "execution_count": 122,
   "metadata": {
    "vscode": {
     "languageId": "r"
    }
   },
   "outputs": [],
   "source": [
    "for(i in 1:nrow(pbmc) ){\n",
    "    mygliph <- gliph_out[ gliph_out$Sample == pbmc$samplename[i], ]\n",
    "    tmp <- gliphdf[ match(mygliph$pattern, gliphdf$gliph),]\n",
    "    vsums <- colSums(tmp[,2:6])\n",
    "    pbmc[i, c(\"CMV\", \"EBV\", \"HCV\", \"Flu\", \"hs\")] <- vsums\n",
    "}"
   ]
  },
  {
   "cell_type": "code",
   "execution_count": 123,
   "metadata": {
    "vscode": {
     "languageId": "r"
    }
   },
   "outputs": [
    {
     "data": {
      "text/html": [
       "<table class=\"dataframe\">\n",
       "<caption>A data.frame: 6 x 84</caption>\n",
       "<thead>\n",
       "\t<tr><th></th><th scope=col>sample_id</th><th scope=col>Patient</th><th scope=col>cycle</th><th scope=col>FOLD</th><th scope=col>ATC</th><th scope=col>Age</th><th scope=col>Disease_type</th><th scope=col>TE_fold</th><th scope=col>CD3</th><th scope=col>EM</th><th scope=col>...</th><th scope=col>J_PC1</th><th scope=col>J_PC2</th><th scope=col>J_PC3</th><th scope=col>samplename</th><th scope=col>gliph_n</th><th scope=col>CMV</th><th scope=col>EBV</th><th scope=col>HCV</th><th scope=col>Flu</th><th scope=col>hs</th></tr>\n",
       "\t<tr><th></th><th scope=col>&lt;chr&gt;</th><th scope=col>&lt;chr&gt;</th><th scope=col>&lt;chr&gt;</th><th scope=col>&lt;dbl&gt;</th><th scope=col>&lt;dbl&gt;</th><th scope=col>&lt;dbl&gt;</th><th scope=col>&lt;chr&gt;</th><th scope=col>&lt;dbl&gt;</th><th scope=col>&lt;int&gt;</th><th scope=col>&lt;int&gt;</th><th scope=col>...</th><th scope=col>&lt;dbl&gt;</th><th scope=col>&lt;dbl&gt;</th><th scope=col>&lt;dbl&gt;</th><th scope=col>&lt;chr&gt;</th><th scope=col>&lt;dbl&gt;</th><th scope=col>&lt;dbl&gt;</th><th scope=col>&lt;dbl&gt;</th><th scope=col>&lt;dbl&gt;</th><th scope=col>&lt;dbl&gt;</th><th scope=col>&lt;dbl&gt;</th></tr>\n",
       "</thead>\n",
       "<tbody>\n",
       "\t<tr><th scope=row>287</th><td>CHP_10YO_M_00  </td><td>CHP_10YO_M  </td><td>X00</td><td>NA</td><td>NA</td><td>NA</td><td>Normal</td><td>NA</td><td>NA</td><td>NA</td><td>...</td><td>2.697180</td><td> 0.2614244</td><td>-0.083404572</td><td>Normal:CHP_10YO_M_X00-PBMC  </td><td>15</td><td>4</td><td>1</td><td>0</td><td>0</td><td>1</td></tr>\n",
       "\t<tr><th scope=row>288</th><td>CHP_11YO_M_00  </td><td>CHP_11YO_M  </td><td>X00</td><td>NA</td><td>NA</td><td>NA</td><td>Normal</td><td>NA</td><td>NA</td><td>NA</td><td>...</td><td>2.623844</td><td> 0.2712649</td><td>-0.009213308</td><td>Normal:CHP_11YO_M_X00-PBMC  </td><td> 1</td><td>0</td><td>0</td><td>0</td><td>0</td><td>0</td></tr>\n",
       "\t<tr><th scope=row>289</th><td>CHP_15YO_F_A_00</td><td>CHP_15YO_F_A</td><td>X00</td><td>NA</td><td>NA</td><td>NA</td><td>Normal</td><td>NA</td><td>NA</td><td>NA</td><td>...</td><td>2.715678</td><td> 0.2214375</td><td>-0.022667262</td><td>Normal:CHP_15YO_F_A_X00-PBMC</td><td> 7</td><td>0</td><td>0</td><td>0</td><td>0</td><td>0</td></tr>\n",
       "\t<tr><th scope=row>290</th><td>CHP_15YO_F_B_00</td><td>CHP_15YO_F_B</td><td>X00</td><td>NA</td><td>NA</td><td>NA</td><td>Normal</td><td>NA</td><td>NA</td><td>NA</td><td>...</td><td>2.735124</td><td> 0.2395413</td><td>-0.085880490</td><td>Normal:CHP_15YO_F_B_X00-PBMC</td><td> 3</td><td>1</td><td>0</td><td>0</td><td>0</td><td>0</td></tr>\n",
       "\t<tr><th scope=row>291</th><td>CHP_15YO_M_00  </td><td>CHP_15YO_M  </td><td>X00</td><td>NA</td><td>NA</td><td>NA</td><td>Normal</td><td>NA</td><td>NA</td><td>NA</td><td>...</td><td>2.583896</td><td> 0.2814897</td><td>-0.023352703</td><td>Normal:CHP_15YO_M_X00-PBMC  </td><td>14</td><td>0</td><td>1</td><td>0</td><td>0</td><td>0</td></tr>\n",
       "\t<tr><th scope=row>292</th><td>CHP_16YO_M_00  </td><td>CHP_16YO_M  </td><td>X00</td><td>NA</td><td>NA</td><td>NA</td><td>Normal</td><td>NA</td><td>NA</td><td>NA</td><td>...</td><td>2.735426</td><td>-0.0465748</td><td>-0.167060816</td><td>Normal:CHP_16YO_M_X00-PBMC  </td><td> 4</td><td>0</td><td>1</td><td>0</td><td>0</td><td>0</td></tr>\n",
       "</tbody>\n",
       "</table>\n"
      ],
      "text/latex": [
       "A data.frame: 6 x 84\n",
       "\\begin{tabular}{r|lllllllllllllllllllll}\n",
       "  & sample\\_id & Patient & cycle & FOLD & ATC & Age & Disease\\_type & TE\\_fold & CD3 & EM & ... & J\\_PC1 & J\\_PC2 & J\\_PC3 & samplename & gliph\\_n & CMV & EBV & HCV & Flu & hs\\\\\n",
       "  & <chr> & <chr> & <chr> & <dbl> & <dbl> & <dbl> & <chr> & <dbl> & <int> & <int> & ... & <dbl> & <dbl> & <dbl> & <chr> & <dbl> & <dbl> & <dbl> & <dbl> & <dbl> & <dbl>\\\\\n",
       "\\hline\n",
       "\t287 & CHP\\_10YO\\_M\\_00   & CHP\\_10YO\\_M   & X00 & NA & NA & NA & Normal & NA & NA & NA & ... & 2.697180 &  0.2614244 & -0.083404572 & Normal:CHP\\_10YO\\_M\\_X00-PBMC   & 15 & 4 & 1 & 0 & 0 & 1\\\\\n",
       "\t288 & CHP\\_11YO\\_M\\_00   & CHP\\_11YO\\_M   & X00 & NA & NA & NA & Normal & NA & NA & NA & ... & 2.623844 &  0.2712649 & -0.009213308 & Normal:CHP\\_11YO\\_M\\_X00-PBMC   &  1 & 0 & 0 & 0 & 0 & 0\\\\\n",
       "\t289 & CHP\\_15YO\\_F\\_A\\_00 & CHP\\_15YO\\_F\\_A & X00 & NA & NA & NA & Normal & NA & NA & NA & ... & 2.715678 &  0.2214375 & -0.022667262 & Normal:CHP\\_15YO\\_F\\_A\\_X00-PBMC &  7 & 0 & 0 & 0 & 0 & 0\\\\\n",
       "\t290 & CHP\\_15YO\\_F\\_B\\_00 & CHP\\_15YO\\_F\\_B & X00 & NA & NA & NA & Normal & NA & NA & NA & ... & 2.735124 &  0.2395413 & -0.085880490 & Normal:CHP\\_15YO\\_F\\_B\\_X00-PBMC &  3 & 1 & 0 & 0 & 0 & 0\\\\\n",
       "\t291 & CHP\\_15YO\\_M\\_00   & CHP\\_15YO\\_M   & X00 & NA & NA & NA & Normal & NA & NA & NA & ... & 2.583896 &  0.2814897 & -0.023352703 & Normal:CHP\\_15YO\\_M\\_X00-PBMC   & 14 & 0 & 1 & 0 & 0 & 0\\\\\n",
       "\t292 & CHP\\_16YO\\_M\\_00   & CHP\\_16YO\\_M   & X00 & NA & NA & NA & Normal & NA & NA & NA & ... & 2.735426 & -0.0465748 & -0.167060816 & Normal:CHP\\_16YO\\_M\\_X00-PBMC   &  4 & 0 & 1 & 0 & 0 & 0\\\\\n",
       "\\end{tabular}\n"
      ],
      "text/markdown": [
       "\n",
       "A data.frame: 6 x 84\n",
       "\n",
       "| <!--/--> | sample_id &lt;chr&gt; | Patient &lt;chr&gt; | cycle &lt;chr&gt; | FOLD &lt;dbl&gt; | ATC &lt;dbl&gt; | Age &lt;dbl&gt; | Disease_type &lt;chr&gt; | TE_fold &lt;dbl&gt; | CD3 &lt;int&gt; | EM &lt;int&gt; | ... ... | J_PC1 &lt;dbl&gt; | J_PC2 &lt;dbl&gt; | J_PC3 &lt;dbl&gt; | samplename &lt;chr&gt; | gliph_n &lt;dbl&gt; | CMV &lt;dbl&gt; | EBV &lt;dbl&gt; | HCV &lt;dbl&gt; | Flu &lt;dbl&gt; | hs &lt;dbl&gt; |\n",
       "|---|---|---|---|---|---|---|---|---|---|---|---|---|---|---|---|---|---|---|---|---|---|\n",
       "| 287 | CHP_10YO_M_00   | CHP_10YO_M   | X00 | NA | NA | NA | Normal | NA | NA | NA | ... | 2.697180 |  0.2614244 | -0.083404572 | Normal:CHP_10YO_M_X00-PBMC   | 15 | 4 | 1 | 0 | 0 | 1 |\n",
       "| 288 | CHP_11YO_M_00   | CHP_11YO_M   | X00 | NA | NA | NA | Normal | NA | NA | NA | ... | 2.623844 |  0.2712649 | -0.009213308 | Normal:CHP_11YO_M_X00-PBMC   |  1 | 0 | 0 | 0 | 0 | 0 |\n",
       "| 289 | CHP_15YO_F_A_00 | CHP_15YO_F_A | X00 | NA | NA | NA | Normal | NA | NA | NA | ... | 2.715678 |  0.2214375 | -0.022667262 | Normal:CHP_15YO_F_A_X00-PBMC |  7 | 0 | 0 | 0 | 0 | 0 |\n",
       "| 290 | CHP_15YO_F_B_00 | CHP_15YO_F_B | X00 | NA | NA | NA | Normal | NA | NA | NA | ... | 2.735124 |  0.2395413 | -0.085880490 | Normal:CHP_15YO_F_B_X00-PBMC |  3 | 1 | 0 | 0 | 0 | 0 |\n",
       "| 291 | CHP_15YO_M_00   | CHP_15YO_M   | X00 | NA | NA | NA | Normal | NA | NA | NA | ... | 2.583896 |  0.2814897 | -0.023352703 | Normal:CHP_15YO_M_X00-PBMC   | 14 | 0 | 1 | 0 | 0 | 0 |\n",
       "| 292 | CHP_16YO_M_00   | CHP_16YO_M   | X00 | NA | NA | NA | Normal | NA | NA | NA | ... | 2.735426 | -0.0465748 | -0.167060816 | Normal:CHP_16YO_M_X00-PBMC   |  4 | 0 | 1 | 0 | 0 | 0 |\n",
       "\n"
      ],
      "text/plain": [
       "    sample_id       Patient      cycle FOLD ATC Age Disease_type TE_fold CD3 EM\n",
       "287 CHP_10YO_M_00   CHP_10YO_M   X00   NA   NA  NA  Normal       NA      NA  NA\n",
       "288 CHP_11YO_M_00   CHP_11YO_M   X00   NA   NA  NA  Normal       NA      NA  NA\n",
       "289 CHP_15YO_F_A_00 CHP_15YO_F_A X00   NA   NA  NA  Normal       NA      NA  NA\n",
       "290 CHP_15YO_F_B_00 CHP_15YO_F_B X00   NA   NA  NA  Normal       NA      NA  NA\n",
       "291 CHP_15YO_M_00   CHP_15YO_M   X00   NA   NA  NA  Normal       NA      NA  NA\n",
       "292 CHP_16YO_M_00   CHP_16YO_M   X00   NA   NA  NA  Normal       NA      NA  NA\n",
       "    ... J_PC1    J_PC2      J_PC3        samplename                   gliph_n\n",
       "287 ... 2.697180  0.2614244 -0.083404572 Normal:CHP_10YO_M_X00-PBMC   15     \n",
       "288 ... 2.623844  0.2712649 -0.009213308 Normal:CHP_11YO_M_X00-PBMC    1     \n",
       "289 ... 2.715678  0.2214375 -0.022667262 Normal:CHP_15YO_F_A_X00-PBMC  7     \n",
       "290 ... 2.735124  0.2395413 -0.085880490 Normal:CHP_15YO_F_B_X00-PBMC  3     \n",
       "291 ... 2.583896  0.2814897 -0.023352703 Normal:CHP_15YO_M_X00-PBMC   14     \n",
       "292 ... 2.735426 -0.0465748 -0.167060816 Normal:CHP_16YO_M_X00-PBMC    4     \n",
       "    CMV EBV HCV Flu hs\n",
       "287 4   1   0   0   1 \n",
       "288 0   0   0   0   0 \n",
       "289 0   0   0   0   0 \n",
       "290 1   0   0   0   0 \n",
       "291 0   1   0   0   0 \n",
       "292 0   1   0   0   0 "
      ]
     },
     "metadata": {},
     "output_type": "display_data"
    }
   ],
   "source": [
    "head(pbmc)"
   ]
  },
  {
   "cell_type": "markdown",
   "metadata": {
    "vscode": {
     "languageId": "r"
    }
   },
   "source": [
    "# cfDNA"
   ]
  },
  {
   "cell_type": "markdown",
   "metadata": {},
   "source": [
    "V gene"
   ]
  },
  {
   "cell_type": "code",
   "execution_count": 124,
   "metadata": {
    "vscode": {
     "languageId": "r"
    }
   },
   "outputs": [],
   "source": [
    "v_cfdna_pca <- readr::read_rds(paste0(datapath, \"/capTCRseq/INT_cfDNA_V_PCA_postqc.rds\"))"
   ]
  },
  {
   "cell_type": "code",
   "execution_count": 125,
   "metadata": {
    "vscode": {
     "languageId": "r"
    }
   },
   "outputs": [],
   "source": [
    "cfdna$V_PC1 <- v_cfdna_pca[ match(cfdna$basename,  rownames(v_cfdna_pca)) , \"PC1\"]\n",
    "cfdna$V_PC2 <- v_cfdna_pca[ match(cfdna$basename,  rownames(v_cfdna_pca)) , \"PC2\"]\n",
    "cfdna$V_PC3 <- v_cfdna_pca[ match(cfdna$basename,  rownames(v_cfdna_pca)) , \"PC3\"]"
   ]
  },
  {
   "cell_type": "code",
   "execution_count": 126,
   "metadata": {
    "vscode": {
     "languageId": "r"
    }
   },
   "outputs": [
    {
     "data": {
      "text/html": [
       "<table class=\"dataframe\">\n",
       "<caption>A data.frame: 6 x 71</caption>\n",
       "<thead>\n",
       "\t<tr><th></th><th scope=col>sample_id</th><th scope=col>Patient</th><th scope=col>cycle</th><th scope=col>FOLD</th><th scope=col>ATC</th><th scope=col>Age</th><th scope=col>Disease_type</th><th scope=col>TE_fold</th><th scope=col>CD3</th><th scope=col>EM</th><th scope=col>...</th><th scope=col>basename</th><th scope=col>file</th><th scope=col>sampletype</th><th scope=col>Group</th><th scope=col>log10shann</th><th scope=col>aveTiRP</th><th scope=col>medTiRP</th><th scope=col>V_PC1</th><th scope=col>V_PC2</th><th scope=col>V_PC3</th></tr>\n",
       "\t<tr><th></th><th scope=col>&lt;chr&gt;</th><th scope=col>&lt;chr&gt;</th><th scope=col>&lt;chr&gt;</th><th scope=col>&lt;dbl&gt;</th><th scope=col>&lt;dbl&gt;</th><th scope=col>&lt;dbl&gt;</th><th scope=col>&lt;chr&gt;</th><th scope=col>&lt;dbl&gt;</th><th scope=col>&lt;int&gt;</th><th scope=col>&lt;int&gt;</th><th scope=col>...</th><th scope=col>&lt;chr&gt;</th><th scope=col>&lt;chr&gt;</th><th scope=col>&lt;chr&gt;</th><th scope=col>&lt;chr&gt;</th><th scope=col>&lt;dbl&gt;</th><th scope=col>&lt;dbl&gt;</th><th scope=col>&lt;dbl&gt;</th><th scope=col>&lt;dbl&gt;</th><th scope=col>&lt;dbl&gt;</th><th scope=col>&lt;dbl&gt;</th></tr>\n",
       "</thead>\n",
       "<tbody>\n",
       "\t<tr><th scope=row>1</th><td>CHP_323_03</td><td>CHP_323</td><td>X03</td><td>0</td><td>786.24</td><td> 1</td><td>HR ALL</td><td>0</td><td>0</td><td>NA</td><td>...</td><td>CHP_323-03_cfDNA</td><td>batch3a9_cfDNA_10Jul2020/mixcr/clones/CLONES_TRBCHP_323-03_cfDNA.txt          </td><td>cfDNA</td><td>CHP</td><td>1.6377198</td><td> 0.04826843</td><td> 0.1393051</td><td>15.83866850</td><td> 7.9531074</td><td> 9.4381691</td></tr>\n",
       "\t<tr><th scope=row>2</th><td>CHP_323_05</td><td>CHP_323</td><td>X05</td><td>0</td><td>979.50</td><td> 1</td><td>HR ALL</td><td>0</td><td>0</td><td>NA</td><td>...</td><td>CHP_323-05_cfDNA</td><td>remaining_batch_1_cfDNA_8April2021/mixcr/clones/CLONES_TRBCHP_323-05_cfDNA.txt</td><td>cfDNA</td><td>CHP</td><td>0.9380692</td><td> 0.25983842</td><td> 0.5856662</td><td> 0.03694791</td><td> 0.2037428</td><td> 0.9895571</td></tr>\n",
       "\t<tr><th scope=row>3</th><td>CHP_324_04</td><td>CHP_324</td><td>X04</td><td>0</td><td>  0.00</td><td>12</td><td>T-ALL </td><td>0</td><td>0</td><td>NA</td><td>...</td><td>CHP_324-04_cfDNA</td><td>batch5_cfDNA_25Jun2020/mixcr/clones/CLONES_TRBCHP_324-04_cfDNA.txt            </td><td>cfDNA</td><td>CHP</td><td>0.0000000</td><td>-0.85235289</td><td>-0.8523529</td><td>-2.42588499</td><td>-0.2790740</td><td> 0.1117550</td></tr>\n",
       "\t<tr><th scope=row>4</th><td>CHP_324_05</td><td>CHP_324</td><td>X05</td><td>0</td><td>  0.00</td><td>12</td><td>T-ALL </td><td>0</td><td>0</td><td>NA</td><td>...</td><td>CHP_324-05_cfDNA</td><td>batch10_cfDNA_13Jul2020/mixcr/clones/CLONES_TRBCHP_324-05_cfDNA.txt           </td><td>cfDNA</td><td>CHP</td><td>0.2491984</td><td>-1.17906074</td><td>-1.1790607</td><td>-2.20171492</td><td>-0.2392266</td><td> 0.1373460</td></tr>\n",
       "\t<tr><th scope=row>5</th><td>CHP_326_05</td><td>CHP_326</td><td>X05</td><td>0</td><td>972.90</td><td> 4</td><td>SR ALL</td><td>0</td><td>0</td><td>NA</td><td>...</td><td>CHP_326-05_cfDNA</td><td>batch10_cfDNA_13Jul2020/mixcr/clones/CLONES_TRBCHP_326-05_cfDNA.txt           </td><td>cfDNA</td><td>CHP</td><td>1.2165354</td><td> 0.08628995</td><td> 0.2607004</td><td> 1.53369308</td><td> 0.6800554</td><td>-0.7668898</td></tr>\n",
       "\t<tr><th scope=row>6</th><td>CHP_328_05</td><td>CHP_328</td><td>X05</td><td>0</td><td> 91.16</td><td> 7</td><td>SR ALL</td><td>0</td><td>0</td><td>NA</td><td>...</td><td>CHP_328-05_cfDNA</td><td>batch10_cfDNA_13Jul2020/mixcr/clones/CLONES_TRBCHP_328-05_cfDNA.txt           </td><td>cfDNA</td><td>CHP</td><td>0.4864305</td><td>         NA</td><td>        NA</td><td>-1.73881538</td><td>-0.8087552</td><td>-0.8391630</td></tr>\n",
       "</tbody>\n",
       "</table>\n"
      ],
      "text/latex": [
       "A data.frame: 6 x 71\n",
       "\\begin{tabular}{r|lllllllllllllllllllll}\n",
       "  & sample\\_id & Patient & cycle & FOLD & ATC & Age & Disease\\_type & TE\\_fold & CD3 & EM & ... & basename & file & sampletype & Group & log10shann & aveTiRP & medTiRP & V\\_PC1 & V\\_PC2 & V\\_PC3\\\\\n",
       "  & <chr> & <chr> & <chr> & <dbl> & <dbl> & <dbl> & <chr> & <dbl> & <int> & <int> & ... & <chr> & <chr> & <chr> & <chr> & <dbl> & <dbl> & <dbl> & <dbl> & <dbl> & <dbl>\\\\\n",
       "\\hline\n",
       "\t1 & CHP\\_323\\_03 & CHP\\_323 & X03 & 0 & 786.24 &  1 & HR ALL & 0 & 0 & NA & ... & CHP\\_323-03\\_cfDNA & batch3a9\\_cfDNA\\_10Jul2020/mixcr/clones/CLONES\\_TRBCHP\\_323-03\\_cfDNA.txt           & cfDNA & CHP & 1.6377198 &  0.04826843 &  0.1393051 & 15.83866850 &  7.9531074 &  9.4381691\\\\\n",
       "\t2 & CHP\\_323\\_05 & CHP\\_323 & X05 & 0 & 979.50 &  1 & HR ALL & 0 & 0 & NA & ... & CHP\\_323-05\\_cfDNA & remaining\\_batch\\_1\\_cfDNA\\_8April2021/mixcr/clones/CLONES\\_TRBCHP\\_323-05\\_cfDNA.txt & cfDNA & CHP & 0.9380692 &  0.25983842 &  0.5856662 &  0.03694791 &  0.2037428 &  0.9895571\\\\\n",
       "\t3 & CHP\\_324\\_04 & CHP\\_324 & X04 & 0 &   0.00 & 12 & T-ALL  & 0 & 0 & NA & ... & CHP\\_324-04\\_cfDNA & batch5\\_cfDNA\\_25Jun2020/mixcr/clones/CLONES\\_TRBCHP\\_324-04\\_cfDNA.txt             & cfDNA & CHP & 0.0000000 & -0.85235289 & -0.8523529 & -2.42588499 & -0.2790740 &  0.1117550\\\\\n",
       "\t4 & CHP\\_324\\_05 & CHP\\_324 & X05 & 0 &   0.00 & 12 & T-ALL  & 0 & 0 & NA & ... & CHP\\_324-05\\_cfDNA & batch10\\_cfDNA\\_13Jul2020/mixcr/clones/CLONES\\_TRBCHP\\_324-05\\_cfDNA.txt            & cfDNA & CHP & 0.2491984 & -1.17906074 & -1.1790607 & -2.20171492 & -0.2392266 &  0.1373460\\\\\n",
       "\t5 & CHP\\_326\\_05 & CHP\\_326 & X05 & 0 & 972.90 &  4 & SR ALL & 0 & 0 & NA & ... & CHP\\_326-05\\_cfDNA & batch10\\_cfDNA\\_13Jul2020/mixcr/clones/CLONES\\_TRBCHP\\_326-05\\_cfDNA.txt            & cfDNA & CHP & 1.2165354 &  0.08628995 &  0.2607004 &  1.53369308 &  0.6800554 & -0.7668898\\\\\n",
       "\t6 & CHP\\_328\\_05 & CHP\\_328 & X05 & 0 &  91.16 &  7 & SR ALL & 0 & 0 & NA & ... & CHP\\_328-05\\_cfDNA & batch10\\_cfDNA\\_13Jul2020/mixcr/clones/CLONES\\_TRBCHP\\_328-05\\_cfDNA.txt            & cfDNA & CHP & 0.4864305 &          NA &         NA & -1.73881538 & -0.8087552 & -0.8391630\\\\\n",
       "\\end{tabular}\n"
      ],
      "text/markdown": [
       "\n",
       "A data.frame: 6 x 71\n",
       "\n",
       "| <!--/--> | sample_id &lt;chr&gt; | Patient &lt;chr&gt; | cycle &lt;chr&gt; | FOLD &lt;dbl&gt; | ATC &lt;dbl&gt; | Age &lt;dbl&gt; | Disease_type &lt;chr&gt; | TE_fold &lt;dbl&gt; | CD3 &lt;int&gt; | EM &lt;int&gt; | ... ... | basename &lt;chr&gt; | file &lt;chr&gt; | sampletype &lt;chr&gt; | Group &lt;chr&gt; | log10shann &lt;dbl&gt; | aveTiRP &lt;dbl&gt; | medTiRP &lt;dbl&gt; | V_PC1 &lt;dbl&gt; | V_PC2 &lt;dbl&gt; | V_PC3 &lt;dbl&gt; |\n",
       "|---|---|---|---|---|---|---|---|---|---|---|---|---|---|---|---|---|---|---|---|---|---|\n",
       "| 1 | CHP_323_03 | CHP_323 | X03 | 0 | 786.24 |  1 | HR ALL | 0 | 0 | NA | ... | CHP_323-03_cfDNA | batch3a9_cfDNA_10Jul2020/mixcr/clones/CLONES_TRBCHP_323-03_cfDNA.txt           | cfDNA | CHP | 1.6377198 |  0.04826843 |  0.1393051 | 15.83866850 |  7.9531074 |  9.4381691 |\n",
       "| 2 | CHP_323_05 | CHP_323 | X05 | 0 | 979.50 |  1 | HR ALL | 0 | 0 | NA | ... | CHP_323-05_cfDNA | remaining_batch_1_cfDNA_8April2021/mixcr/clones/CLONES_TRBCHP_323-05_cfDNA.txt | cfDNA | CHP | 0.9380692 |  0.25983842 |  0.5856662 |  0.03694791 |  0.2037428 |  0.9895571 |\n",
       "| 3 | CHP_324_04 | CHP_324 | X04 | 0 |   0.00 | 12 | T-ALL  | 0 | 0 | NA | ... | CHP_324-04_cfDNA | batch5_cfDNA_25Jun2020/mixcr/clones/CLONES_TRBCHP_324-04_cfDNA.txt             | cfDNA | CHP | 0.0000000 | -0.85235289 | -0.8523529 | -2.42588499 | -0.2790740 |  0.1117550 |\n",
       "| 4 | CHP_324_05 | CHP_324 | X05 | 0 |   0.00 | 12 | T-ALL  | 0 | 0 | NA | ... | CHP_324-05_cfDNA | batch10_cfDNA_13Jul2020/mixcr/clones/CLONES_TRBCHP_324-05_cfDNA.txt            | cfDNA | CHP | 0.2491984 | -1.17906074 | -1.1790607 | -2.20171492 | -0.2392266 |  0.1373460 |\n",
       "| 5 | CHP_326_05 | CHP_326 | X05 | 0 | 972.90 |  4 | SR ALL | 0 | 0 | NA | ... | CHP_326-05_cfDNA | batch10_cfDNA_13Jul2020/mixcr/clones/CLONES_TRBCHP_326-05_cfDNA.txt            | cfDNA | CHP | 1.2165354 |  0.08628995 |  0.2607004 |  1.53369308 |  0.6800554 | -0.7668898 |\n",
       "| 6 | CHP_328_05 | CHP_328 | X05 | 0 |  91.16 |  7 | SR ALL | 0 | 0 | NA | ... | CHP_328-05_cfDNA | batch10_cfDNA_13Jul2020/mixcr/clones/CLONES_TRBCHP_328-05_cfDNA.txt            | cfDNA | CHP | 0.4864305 |          NA |         NA | -1.73881538 | -0.8087552 | -0.8391630 |\n",
       "\n"
      ],
      "text/plain": [
       "  sample_id  Patient cycle FOLD ATC    Age Disease_type TE_fold CD3 EM ...\n",
       "1 CHP_323_03 CHP_323 X03   0    786.24  1  HR ALL       0       0   NA ...\n",
       "2 CHP_323_05 CHP_323 X05   0    979.50  1  HR ALL       0       0   NA ...\n",
       "3 CHP_324_04 CHP_324 X04   0      0.00 12  T-ALL        0       0   NA ...\n",
       "4 CHP_324_05 CHP_324 X05   0      0.00 12  T-ALL        0       0   NA ...\n",
       "5 CHP_326_05 CHP_326 X05   0    972.90  4  SR ALL       0       0   NA ...\n",
       "6 CHP_328_05 CHP_328 X05   0     91.16  7  SR ALL       0       0   NA ...\n",
       "  basename        \n",
       "1 CHP_323-03_cfDNA\n",
       "2 CHP_323-05_cfDNA\n",
       "3 CHP_324-04_cfDNA\n",
       "4 CHP_324-05_cfDNA\n",
       "5 CHP_326-05_cfDNA\n",
       "6 CHP_328-05_cfDNA\n",
       "  file                                                                          \n",
       "1 batch3a9_cfDNA_10Jul2020/mixcr/clones/CLONES_TRBCHP_323-03_cfDNA.txt          \n",
       "2 remaining_batch_1_cfDNA_8April2021/mixcr/clones/CLONES_TRBCHP_323-05_cfDNA.txt\n",
       "3 batch5_cfDNA_25Jun2020/mixcr/clones/CLONES_TRBCHP_324-04_cfDNA.txt            \n",
       "4 batch10_cfDNA_13Jul2020/mixcr/clones/CLONES_TRBCHP_324-05_cfDNA.txt           \n",
       "5 batch10_cfDNA_13Jul2020/mixcr/clones/CLONES_TRBCHP_326-05_cfDNA.txt           \n",
       "6 batch10_cfDNA_13Jul2020/mixcr/clones/CLONES_TRBCHP_328-05_cfDNA.txt           \n",
       "  sampletype Group log10shann aveTiRP     medTiRP    V_PC1       V_PC2     \n",
       "1 cfDNA      CHP   1.6377198   0.04826843  0.1393051 15.83866850  7.9531074\n",
       "2 cfDNA      CHP   0.9380692   0.25983842  0.5856662  0.03694791  0.2037428\n",
       "3 cfDNA      CHP   0.0000000  -0.85235289 -0.8523529 -2.42588499 -0.2790740\n",
       "4 cfDNA      CHP   0.2491984  -1.17906074 -1.1790607 -2.20171492 -0.2392266\n",
       "5 cfDNA      CHP   1.2165354   0.08628995  0.2607004  1.53369308  0.6800554\n",
       "6 cfDNA      CHP   0.4864305           NA         NA -1.73881538 -0.8087552\n",
       "  V_PC3     \n",
       "1  9.4381691\n",
       "2  0.9895571\n",
       "3  0.1117550\n",
       "4  0.1373460\n",
       "5 -0.7668898\n",
       "6 -0.8391630"
      ]
     },
     "metadata": {},
     "output_type": "display_data"
    }
   ],
   "source": [
    "head(cfdna)"
   ]
  },
  {
   "cell_type": "markdown",
   "metadata": {},
   "source": [
    "J gene"
   ]
  },
  {
   "cell_type": "code",
   "execution_count": 127,
   "metadata": {
    "vscode": {
     "languageId": "r"
    }
   },
   "outputs": [],
   "source": [
    "j_pca <- readr::read_rds(paste0(datapath, \"/capTCRseq/INT_cfDNA_J_PCA_postqc.rds\"))"
   ]
  },
  {
   "cell_type": "code",
   "execution_count": 128,
   "metadata": {
    "vscode": {
     "languageId": "r"
    }
   },
   "outputs": [],
   "source": [
    "cfdna$J_PC1 <- j_pca[ match(cfdna$basename,  rownames(j_pca)) , \"PC1\"]\n",
    "cfdna$J_PC2 <- j_pca[ match(cfdna$basename,  rownames(j_pca)) , \"PC2\"]\n",
    "cfdna$J_PC3 <- j_pca[ match(cfdna$basename,  rownames(j_pca)) , \"PC3\"]"
   ]
  },
  {
   "cell_type": "markdown",
   "metadata": {},
   "source": [
    "GLIPH"
   ]
  },
  {
   "cell_type": "code",
   "execution_count": 129,
   "metadata": {
    "vscode": {
     "languageId": "r"
    }
   },
   "outputs": [
    {
     "name": "stderr",
     "output_type": "stream",
     "text": [
      "\u001b[1mRows: \u001b[22m\u001b[34m42815\u001b[39m \u001b[1mColumns: \u001b[22m\u001b[34m29\u001b[39m\n",
      "\u001b[36m──\u001b[39m \u001b[1mColumn specification\u001b[22m \u001b[36m────────────────────────────────────────────────────────\u001b[39m\n",
      "\u001b[1mDelimiter:\u001b[22m \",\"\n",
      "\u001b[31mchr\u001b[39m (17): pattern, type, TcRb, V, J, Sample, HLA-A, HLA-B, HLA-C, HLA-DPA1, ...\n",
      "\u001b[32mdbl\u001b[39m (11): index, Fisher_score, number_subject, number_unique_cdr3, final_sco...\n",
      "\u001b[33mlgl\u001b[39m  (1): TcRa\n",
      "\n",
      "\u001b[36mℹ\u001b[39m Use `spec()` to retrieve the full column specification for this data.\n",
      "\u001b[36mℹ\u001b[39m Specify the column types or set `show_col_types = FALSE` to quiet this message.\n"
     ]
    }
   ],
   "source": [
    "gliph_out <- readr::read_csv(paste0(h4hpath, \"analysis/GLIPH/run_gliph/v3_refMitchel/int_vdj_v2_ref_Mitchel_cluster.csv\"), col_names = T)"
   ]
  },
  {
   "cell_type": "code",
   "execution_count": 130,
   "metadata": {
    "vscode": {
     "languageId": "r"
    }
   },
   "outputs": [],
   "source": [
    "# remove columns starting with HLA\n",
    "gliph_out <- gliph_out[,!grepl(\"HLA\", colnames(gliph_out))]"
   ]
  },
  {
   "cell_type": "code",
   "execution_count": 131,
   "metadata": {
    "vscode": {
     "languageId": "r"
    }
   },
   "outputs": [
    {
     "data": {
      "text/html": [
       "<table class=\"dataframe\">\n",
       "<caption>A tibble: 6 x 18</caption>\n",
       "<thead>\n",
       "\t<tr><th scope=col>index</th><th scope=col>pattern</th><th scope=col>Fisher_score</th><th scope=col>number_subject</th><th scope=col>number_unique_cdr3</th><th scope=col>final_score</th><th scope=col>hla_score</th><th scope=col>vb_score</th><th scope=col>expansion_score</th><th scope=col>length_score</th><th scope=col>cluster_size_score</th><th scope=col>type</th><th scope=col>TcRb</th><th scope=col>V</th><th scope=col>J</th><th scope=col>TcRa</th><th scope=col>Sample</th><th scope=col>Freq</th></tr>\n",
       "\t<tr><th scope=col>&lt;dbl&gt;</th><th scope=col>&lt;chr&gt;</th><th scope=col>&lt;dbl&gt;</th><th scope=col>&lt;dbl&gt;</th><th scope=col>&lt;dbl&gt;</th><th scope=col>&lt;dbl&gt;</th><th scope=col>&lt;dbl&gt;</th><th scope=col>&lt;dbl&gt;</th><th scope=col>&lt;dbl&gt;</th><th scope=col>&lt;dbl&gt;</th><th scope=col>&lt;dbl&gt;</th><th scope=col>&lt;chr&gt;</th><th scope=col>&lt;chr&gt;</th><th scope=col>&lt;chr&gt;</th><th scope=col>&lt;chr&gt;</th><th scope=col>&lt;lgl&gt;</th><th scope=col>&lt;chr&gt;</th><th scope=col>&lt;dbl&gt;</th></tr>\n",
       "</thead>\n",
       "<tbody>\n",
       "\t<tr><td>47424</td><td>single</td><td>1</td><td>1</td><td>1</td><td>4.1e-07</td><td>1</td><td>0.001</td><td>0.43</td><td>0.001</td><td>0.95</td><td>global-SPRGTSGGAGDNE</td><td>CASSPRGTSGGAGDNEQFF</td><td>TRBV7-2</td><td>TRBJ2-1</td><td>NA</td><td>Leukemia:CHP_392_X04-PBMC   </td><td>123</td></tr>\n",
       "\t<tr><td>47424</td><td>single</td><td>1</td><td>1</td><td>1</td><td>4.1e-07</td><td>1</td><td>0.001</td><td>0.43</td><td>0.001</td><td>0.95</td><td>global-SPRGTSGGAGDNE</td><td>CASSPRGTSGGAGDNEQFF</td><td>TRBV7-2</td><td>TRBJ2-1</td><td>NA</td><td>Leukemia:CHP_392_X04-PBMC   </td><td>  8</td></tr>\n",
       "\t<tr><td>47472</td><td>single</td><td>1</td><td>1</td><td>1</td><td>9.1e-07</td><td>1</td><td>0.001</td><td>0.95</td><td>0.001</td><td>0.95</td><td>global-SIPPTGVG     </td><td>CASSIPPTGVGYTF     </td><td>TRBV28 </td><td>TRBJ1-2</td><td>NA</td><td>Solidtumors:CHP_364_X01-PBMC</td><td>  7</td></tr>\n",
       "\t<tr><td>47472</td><td>single</td><td>1</td><td>1</td><td>1</td><td>9.1e-07</td><td>1</td><td>0.001</td><td>0.95</td><td>0.001</td><td>0.95</td><td>global-SIPPTGVG     </td><td>CASSIPPTGVGYTF     </td><td>TRBV28 </td><td>TRBJ1-2</td><td>NA</td><td>Solidtumors:CHP_364_X01-PBMC</td><td>  1</td></tr>\n",
       "\t<tr><td>47512</td><td>single</td><td>1</td><td>1</td><td>1</td><td>2.4e-07</td><td>1</td><td>0.001</td><td>0.25</td><td>0.001</td><td>0.95</td><td>global-SQDQISGNT    </td><td>CASSQDQISGNTIYF    </td><td>TRBV3-1</td><td>TRBJ1-3</td><td>NA</td><td>Leukemia:CHP_396_X04-PBMC   </td><td>222</td></tr>\n",
       "\t<tr><td>47512</td><td>single</td><td>1</td><td>1</td><td>1</td><td>2.4e-07</td><td>1</td><td>0.001</td><td>0.25</td><td>0.001</td><td>0.95</td><td>global-SQDQISGNT    </td><td>CASSQDQISGNTIYF    </td><td>TRBV3-1</td><td>TRBJ1-3</td><td>NA</td><td>Leukemia:CHP_396_X04-PBMC   </td><td> 30</td></tr>\n",
       "</tbody>\n",
       "</table>\n"
      ],
      "text/latex": [
       "A tibble: 6 x 18\n",
       "\\begin{tabular}{llllllllllllllllll}\n",
       " index & pattern & Fisher\\_score & number\\_subject & number\\_unique\\_cdr3 & final\\_score & hla\\_score & vb\\_score & expansion\\_score & length\\_score & cluster\\_size\\_score & type & TcRb & V & J & TcRa & Sample & Freq\\\\\n",
       " <dbl> & <chr> & <dbl> & <dbl> & <dbl> & <dbl> & <dbl> & <dbl> & <dbl> & <dbl> & <dbl> & <chr> & <chr> & <chr> & <chr> & <lgl> & <chr> & <dbl>\\\\\n",
       "\\hline\n",
       "\t 47424 & single & 1 & 1 & 1 & 4.1e-07 & 1 & 0.001 & 0.43 & 0.001 & 0.95 & global-SPRGTSGGAGDNE & CASSPRGTSGGAGDNEQFF & TRBV7-2 & TRBJ2-1 & NA & Leukemia:CHP\\_392\\_X04-PBMC    & 123\\\\\n",
       "\t 47424 & single & 1 & 1 & 1 & 4.1e-07 & 1 & 0.001 & 0.43 & 0.001 & 0.95 & global-SPRGTSGGAGDNE & CASSPRGTSGGAGDNEQFF & TRBV7-2 & TRBJ2-1 & NA & Leukemia:CHP\\_392\\_X04-PBMC    &   8\\\\\n",
       "\t 47472 & single & 1 & 1 & 1 & 9.1e-07 & 1 & 0.001 & 0.95 & 0.001 & 0.95 & global-SIPPTGVG      & CASSIPPTGVGYTF      & TRBV28  & TRBJ1-2 & NA & Solidtumors:CHP\\_364\\_X01-PBMC &   7\\\\\n",
       "\t 47472 & single & 1 & 1 & 1 & 9.1e-07 & 1 & 0.001 & 0.95 & 0.001 & 0.95 & global-SIPPTGVG      & CASSIPPTGVGYTF      & TRBV28  & TRBJ1-2 & NA & Solidtumors:CHP\\_364\\_X01-PBMC &   1\\\\\n",
       "\t 47512 & single & 1 & 1 & 1 & 2.4e-07 & 1 & 0.001 & 0.25 & 0.001 & 0.95 & global-SQDQISGNT     & CASSQDQISGNTIYF     & TRBV3-1 & TRBJ1-3 & NA & Leukemia:CHP\\_396\\_X04-PBMC    & 222\\\\\n",
       "\t 47512 & single & 1 & 1 & 1 & 2.4e-07 & 1 & 0.001 & 0.25 & 0.001 & 0.95 & global-SQDQISGNT     & CASSQDQISGNTIYF     & TRBV3-1 & TRBJ1-3 & NA & Leukemia:CHP\\_396\\_X04-PBMC    &  30\\\\\n",
       "\\end{tabular}\n"
      ],
      "text/markdown": [
       "\n",
       "A tibble: 6 x 18\n",
       "\n",
       "| index &lt;dbl&gt; | pattern &lt;chr&gt; | Fisher_score &lt;dbl&gt; | number_subject &lt;dbl&gt; | number_unique_cdr3 &lt;dbl&gt; | final_score &lt;dbl&gt; | hla_score &lt;dbl&gt; | vb_score &lt;dbl&gt; | expansion_score &lt;dbl&gt; | length_score &lt;dbl&gt; | cluster_size_score &lt;dbl&gt; | type &lt;chr&gt; | TcRb &lt;chr&gt; | V &lt;chr&gt; | J &lt;chr&gt; | TcRa &lt;lgl&gt; | Sample &lt;chr&gt; | Freq &lt;dbl&gt; |\n",
       "|---|---|---|---|---|---|---|---|---|---|---|---|---|---|---|---|---|---|\n",
       "| 47424 | single | 1 | 1 | 1 | 4.1e-07 | 1 | 0.001 | 0.43 | 0.001 | 0.95 | global-SPRGTSGGAGDNE | CASSPRGTSGGAGDNEQFF | TRBV7-2 | TRBJ2-1 | NA | Leukemia:CHP_392_X04-PBMC    | 123 |\n",
       "| 47424 | single | 1 | 1 | 1 | 4.1e-07 | 1 | 0.001 | 0.43 | 0.001 | 0.95 | global-SPRGTSGGAGDNE | CASSPRGTSGGAGDNEQFF | TRBV7-2 | TRBJ2-1 | NA | Leukemia:CHP_392_X04-PBMC    |   8 |\n",
       "| 47472 | single | 1 | 1 | 1 | 9.1e-07 | 1 | 0.001 | 0.95 | 0.001 | 0.95 | global-SIPPTGVG      | CASSIPPTGVGYTF      | TRBV28  | TRBJ1-2 | NA | Solidtumors:CHP_364_X01-PBMC |   7 |\n",
       "| 47472 | single | 1 | 1 | 1 | 9.1e-07 | 1 | 0.001 | 0.95 | 0.001 | 0.95 | global-SIPPTGVG      | CASSIPPTGVGYTF      | TRBV28  | TRBJ1-2 | NA | Solidtumors:CHP_364_X01-PBMC |   1 |\n",
       "| 47512 | single | 1 | 1 | 1 | 2.4e-07 | 1 | 0.001 | 0.25 | 0.001 | 0.95 | global-SQDQISGNT     | CASSQDQISGNTIYF     | TRBV3-1 | TRBJ1-3 | NA | Leukemia:CHP_396_X04-PBMC    | 222 |\n",
       "| 47512 | single | 1 | 1 | 1 | 2.4e-07 | 1 | 0.001 | 0.25 | 0.001 | 0.95 | global-SQDQISGNT     | CASSQDQISGNTIYF     | TRBV3-1 | TRBJ1-3 | NA | Leukemia:CHP_396_X04-PBMC    |  30 |\n",
       "\n"
      ],
      "text/plain": [
       "  index pattern Fisher_score number_subject number_unique_cdr3 final_score\n",
       "1 47424 single  1            1              1                  4.1e-07    \n",
       "2 47424 single  1            1              1                  4.1e-07    \n",
       "3 47472 single  1            1              1                  9.1e-07    \n",
       "4 47472 single  1            1              1                  9.1e-07    \n",
       "5 47512 single  1            1              1                  2.4e-07    \n",
       "6 47512 single  1            1              1                  2.4e-07    \n",
       "  hla_score vb_score expansion_score length_score cluster_size_score\n",
       "1 1         0.001    0.43            0.001        0.95              \n",
       "2 1         0.001    0.43            0.001        0.95              \n",
       "3 1         0.001    0.95            0.001        0.95              \n",
       "4 1         0.001    0.95            0.001        0.95              \n",
       "5 1         0.001    0.25            0.001        0.95              \n",
       "6 1         0.001    0.25            0.001        0.95              \n",
       "  type                 TcRb                V       J       TcRa\n",
       "1 global-SPRGTSGGAGDNE CASSPRGTSGGAGDNEQFF TRBV7-2 TRBJ2-1 NA  \n",
       "2 global-SPRGTSGGAGDNE CASSPRGTSGGAGDNEQFF TRBV7-2 TRBJ2-1 NA  \n",
       "3 global-SIPPTGVG      CASSIPPTGVGYTF      TRBV28  TRBJ1-2 NA  \n",
       "4 global-SIPPTGVG      CASSIPPTGVGYTF      TRBV28  TRBJ1-2 NA  \n",
       "5 global-SQDQISGNT     CASSQDQISGNTIYF     TRBV3-1 TRBJ1-3 NA  \n",
       "6 global-SQDQISGNT     CASSQDQISGNTIYF     TRBV3-1 TRBJ1-3 NA  \n",
       "  Sample                       Freq\n",
       "1 Leukemia:CHP_392_X04-PBMC    123 \n",
       "2 Leukemia:CHP_392_X04-PBMC      8 \n",
       "3 Solidtumors:CHP_364_X01-PBMC   7 \n",
       "4 Solidtumors:CHP_364_X01-PBMC   1 \n",
       "5 Leukemia:CHP_396_X04-PBMC    222 \n",
       "6 Leukemia:CHP_396_X04-PBMC     30 "
      ]
     },
     "metadata": {},
     "output_type": "display_data"
    }
   ],
   "source": [
    "tail(gliph_out)"
   ]
  },
  {
   "cell_type": "code",
   "execution_count": 132,
   "metadata": {
    "vscode": {
     "languageId": "r"
    }
   },
   "outputs": [
    {
     "data": {
      "text/html": [
       "<style>\n",
       ".list-inline {list-style: none; margin:0; padding: 0}\n",
       ".list-inline>li {display: inline-block}\n",
       ".list-inline>li:not(:last-child)::after {content: \"\\00b7\"; padding: 0 .5ex}\n",
       "</style>\n",
       "<ol class=list-inline><li>42815</li><li>18</li></ol>\n"
      ],
      "text/latex": [
       "\\begin{enumerate*}\n",
       "\\item 42815\n",
       "\\item 18\n",
       "\\end{enumerate*}\n"
      ],
      "text/markdown": [
       "1. 42815\n",
       "2. 18\n",
       "\n",
       "\n"
      ],
      "text/plain": [
       "[1] 42815    18"
      ]
     },
     "metadata": {},
     "output_type": "display_data"
    }
   ],
   "source": [
    "dim(gliph_out)"
   ]
  },
  {
   "cell_type": "code",
   "execution_count": 133,
   "metadata": {
    "vscode": {
     "languageId": "r"
    }
   },
   "outputs": [],
   "source": [
    "gliph_out <- gliph_out[gliph_out$pattern != \"single\",]"
   ]
  },
  {
   "cell_type": "code",
   "execution_count": 134,
   "metadata": {
    "vscode": {
     "languageId": "r"
    }
   },
   "outputs": [
    {
     "data": {
      "text/html": [
       "<style>\n",
       ".list-inline {list-style: none; margin:0; padding: 0}\n",
       ".list-inline>li {display: inline-block}\n",
       ".list-inline>li:not(:last-child)::after {content: \"\\00b7\"; padding: 0 .5ex}\n",
       "</style>\n",
       "<ol class=list-inline><li>40384</li><li>18</li></ol>\n"
      ],
      "text/latex": [
       "\\begin{enumerate*}\n",
       "\\item 40384\n",
       "\\item 18\n",
       "\\end{enumerate*}\n"
      ],
      "text/markdown": [
       "1. 40384\n",
       "2. 18\n",
       "\n",
       "\n"
      ],
      "text/plain": [
       "[1] 40384    18"
      ]
     },
     "metadata": {},
     "output_type": "display_data"
    }
   ],
   "source": [
    "dim(gliph_out)"
   ]
  },
  {
   "cell_type": "code",
   "execution_count": 135,
   "metadata": {
    "vscode": {
     "languageId": "r"
    }
   },
   "outputs": [],
   "source": [
    "mytab <- as.data.frame.matrix(table(gliph_out$Sample, gliph_out$pattern) )"
   ]
  },
  {
   "cell_type": "code",
   "execution_count": 136,
   "metadata": {
    "vscode": {
     "languageId": "r"
    }
   },
   "outputs": [],
   "source": [
    "mytab <- mytab[ rowSums(mytab) > 0,]"
   ]
  },
  {
   "cell_type": "code",
   "execution_count": 137,
   "metadata": {
    "vscode": {
     "languageId": "r"
    }
   },
   "outputs": [],
   "source": [
    "tmp1 <- rowSums(mytab != 0) # count non zeros = number of groups"
   ]
  },
  {
   "cell_type": "code",
   "execution_count": 138,
   "metadata": {
    "vscode": {
     "languageId": "r"
    }
   },
   "outputs": [
    {
     "data": {
      "text/html": [
       "<style>\n",
       ".dl-inline {width: auto; margin:0; padding: 0}\n",
       ".dl-inline>dt, .dl-inline>dd {float: none; width: auto; display: inline-block}\n",
       ".dl-inline>dt::after {content: \":\\0020\"; padding-right: .5ex}\n",
       ".dl-inline>dt:not(:first-of-type) {padding-left: .5ex}\n",
       "</style><dl class=dl-inline><dt>T-cellmalignancies:CHP_387_X01-PBMC</dt><dd>204</dd><dt>T-cellmalignancies:CHP_387_X02-cfDNA</dt><dd>8</dd><dt>T-cellmalignancies:CHP_387_X03-cfDNA</dt><dd>13</dd><dt>T-cellmalignancies:CHP_387_X03-PBMC</dt><dd>32</dd><dt>T-cellmalignancies:CHP_395_X01-cfDNA</dt><dd>4</dd><dt>T-cellmalignancies:CHP_395_X02-cfDNA</dt><dd>14</dd></dl>\n"
      ],
      "text/latex": [
       "\\begin{description*}\n",
       "\\item[T-cellmalignancies:CHP\\textbackslash{}\\_387\\textbackslash{}\\_X01-PBMC] 204\n",
       "\\item[T-cellmalignancies:CHP\\textbackslash{}\\_387\\textbackslash{}\\_X02-cfDNA] 8\n",
       "\\item[T-cellmalignancies:CHP\\textbackslash{}\\_387\\textbackslash{}\\_X03-cfDNA] 13\n",
       "\\item[T-cellmalignancies:CHP\\textbackslash{}\\_387\\textbackslash{}\\_X03-PBMC] 32\n",
       "\\item[T-cellmalignancies:CHP\\textbackslash{}\\_395\\textbackslash{}\\_X01-cfDNA] 4\n",
       "\\item[T-cellmalignancies:CHP\\textbackslash{}\\_395\\textbackslash{}\\_X02-cfDNA] 14\n",
       "\\end{description*}\n"
      ],
      "text/markdown": [
       "T-cellmalignancies:CHP_387_X01-PBMC\n",
       ":   204T-cellmalignancies:CHP_387_X02-cfDNA\n",
       ":   8T-cellmalignancies:CHP_387_X03-cfDNA\n",
       ":   13T-cellmalignancies:CHP_387_X03-PBMC\n",
       ":   32T-cellmalignancies:CHP_395_X01-cfDNA\n",
       ":   4T-cellmalignancies:CHP_395_X02-cfDNA\n",
       ":   14\n",
       "\n"
      ],
      "text/plain": [
       " T-cellmalignancies:CHP_387_X01-PBMC T-cellmalignancies:CHP_387_X02-cfDNA \n",
       "                                 204                                    8 \n",
       "T-cellmalignancies:CHP_387_X03-cfDNA  T-cellmalignancies:CHP_387_X03-PBMC \n",
       "                                  13                                   32 \n",
       "T-cellmalignancies:CHP_395_X01-cfDNA T-cellmalignancies:CHP_395_X02-cfDNA \n",
       "                                   4                                   14 "
      ]
     },
     "metadata": {},
     "output_type": "display_data"
    }
   ],
   "source": [
    "tail(tmp1)"
   ]
  },
  {
   "cell_type": "code",
   "execution_count": 139,
   "metadata": {
    "vscode": {
     "languageId": "r"
    }
   },
   "outputs": [],
   "source": [
    "cfdna$samplename <- paste0(cfdna$cancergroup, \":\", cfdna$Patient, \"_\", cfdna$cycle, \"-\", cfdna$sampletype)"
   ]
  },
  {
   "cell_type": "code",
   "execution_count": 140,
   "metadata": {
    "vscode": {
     "languageId": "r"
    }
   },
   "outputs": [],
   "source": [
    "cfdna$samplename <- gsub(\" \", \"\", cfdna$samplename)"
   ]
  },
  {
   "cell_type": "code",
   "execution_count": 141,
   "metadata": {
    "vscode": {
     "languageId": "r"
    }
   },
   "outputs": [],
   "source": [
    "# add column gliph_n to meta_div, match meta_div$samplename to names(tmp1)\n",
    "cfdna$gliph_n <- tmp1[match(cfdna$samplename, names(tmp1))]"
   ]
  },
  {
   "cell_type": "code",
   "execution_count": 142,
   "metadata": {
    "vscode": {
     "languageId": "r"
    }
   },
   "outputs": [
    {
     "data": {
      "text/html": [
       "<table class=\"dataframe\">\n",
       "<caption>A data.frame: 6 x 76</caption>\n",
       "<thead>\n",
       "\t<tr><th></th><th scope=col>sample_id</th><th scope=col>Patient</th><th scope=col>cycle</th><th scope=col>FOLD</th><th scope=col>ATC</th><th scope=col>Age</th><th scope=col>Disease_type</th><th scope=col>TE_fold</th><th scope=col>CD3</th><th scope=col>EM</th><th scope=col>...</th><th scope=col>aveTiRP</th><th scope=col>medTiRP</th><th scope=col>V_PC1</th><th scope=col>V_PC2</th><th scope=col>V_PC3</th><th scope=col>J_PC1</th><th scope=col>J_PC2</th><th scope=col>J_PC3</th><th scope=col>samplename</th><th scope=col>gliph_n</th></tr>\n",
       "\t<tr><th></th><th scope=col>&lt;chr&gt;</th><th scope=col>&lt;chr&gt;</th><th scope=col>&lt;chr&gt;</th><th scope=col>&lt;dbl&gt;</th><th scope=col>&lt;dbl&gt;</th><th scope=col>&lt;dbl&gt;</th><th scope=col>&lt;chr&gt;</th><th scope=col>&lt;dbl&gt;</th><th scope=col>&lt;int&gt;</th><th scope=col>&lt;int&gt;</th><th scope=col>...</th><th scope=col>&lt;dbl&gt;</th><th scope=col>&lt;dbl&gt;</th><th scope=col>&lt;dbl&gt;</th><th scope=col>&lt;dbl&gt;</th><th scope=col>&lt;dbl&gt;</th><th scope=col>&lt;dbl&gt;</th><th scope=col>&lt;dbl&gt;</th><th scope=col>&lt;dbl&gt;</th><th scope=col>&lt;chr&gt;</th><th scope=col>&lt;dbl&gt;</th></tr>\n",
       "</thead>\n",
       "<tbody>\n",
       "\t<tr><th scope=row>1</th><td>CHP_323_03</td><td>CHP_323</td><td>X03</td><td>0</td><td>786.24</td><td> 1</td><td>HR ALL</td><td>0</td><td>0</td><td>NA</td><td>...</td><td> 0.04826843</td><td> 0.1393051</td><td>15.83866850</td><td> 7.9531074</td><td> 9.4381691</td><td>-12.2473929</td><td>-1.42025844</td><td>-1.04697016</td><td>Leukemia:CHP_323_X03-cfDNA          </td><td>71</td></tr>\n",
       "\t<tr><th scope=row>2</th><td>CHP_323_05</td><td>CHP_323</td><td>X05</td><td>0</td><td>979.50</td><td> 1</td><td>HR ALL</td><td>0</td><td>0</td><td>NA</td><td>...</td><td> 0.25983842</td><td> 0.5856662</td><td> 0.03694791</td><td> 0.2037428</td><td> 0.9895571</td><td> -0.2918142</td><td>-1.03382807</td><td> 0.68828218</td><td>Leukemia:CHP_323_X05-cfDNA          </td><td> 9</td></tr>\n",
       "\t<tr><th scope=row>3</th><td>CHP_324_04</td><td>CHP_324</td><td>X04</td><td>0</td><td>  0.00</td><td>12</td><td>T-ALL </td><td>0</td><td>0</td><td>NA</td><td>...</td><td>-0.85235289</td><td>-0.8523529</td><td>-2.42588499</td><td>-0.2790740</td><td> 0.1117550</td><td>  1.7122042</td><td> 0.09042876</td><td>-0.07326199</td><td>T-cellmalignancies:CHP_324_X04-cfDNA</td><td> 1</td></tr>\n",
       "\t<tr><th scope=row>4</th><td>CHP_324_05</td><td>CHP_324</td><td>X05</td><td>0</td><td>  0.00</td><td>12</td><td>T-ALL </td><td>0</td><td>0</td><td>NA</td><td>...</td><td>-1.17906074</td><td>-1.1790607</td><td>-2.20171492</td><td>-0.2392266</td><td> 0.1373460</td><td>  1.5349325</td><td> 0.14012792</td><td>-0.08421036</td><td>T-cellmalignancies:CHP_324_X05-cfDNA</td><td> 2</td></tr>\n",
       "\t<tr><th scope=row>5</th><td>CHP_326_05</td><td>CHP_326</td><td>X05</td><td>0</td><td>972.90</td><td> 4</td><td>SR ALL</td><td>0</td><td>0</td><td>NA</td><td>...</td><td> 0.08628995</td><td> 0.2607004</td><td> 1.53369308</td><td> 0.6800554</td><td>-0.7668898</td><td> -0.9056822</td><td> 0.51843452</td><td>-0.90888221</td><td>Leukemia:CHP_326_X05-cfDNA          </td><td>13</td></tr>\n",
       "\t<tr><th scope=row>6</th><td>CHP_328_05</td><td>CHP_328</td><td>X05</td><td>0</td><td> 91.16</td><td> 7</td><td>SR ALL</td><td>0</td><td>0</td><td>NA</td><td>...</td><td>         NA</td><td>        NA</td><td>-1.73881538</td><td>-0.8087552</td><td>-0.8391630</td><td>  1.2267221</td><td> 0.09263065</td><td> 0.06769804</td><td>Leukemia:CHP_328_X05-cfDNA          </td><td>NA</td></tr>\n",
       "</tbody>\n",
       "</table>\n"
      ],
      "text/latex": [
       "A data.frame: 6 x 76\n",
       "\\begin{tabular}{r|lllllllllllllllllllll}\n",
       "  & sample\\_id & Patient & cycle & FOLD & ATC & Age & Disease\\_type & TE\\_fold & CD3 & EM & ... & aveTiRP & medTiRP & V\\_PC1 & V\\_PC2 & V\\_PC3 & J\\_PC1 & J\\_PC2 & J\\_PC3 & samplename & gliph\\_n\\\\\n",
       "  & <chr> & <chr> & <chr> & <dbl> & <dbl> & <dbl> & <chr> & <dbl> & <int> & <int> & ... & <dbl> & <dbl> & <dbl> & <dbl> & <dbl> & <dbl> & <dbl> & <dbl> & <chr> & <dbl>\\\\\n",
       "\\hline\n",
       "\t1 & CHP\\_323\\_03 & CHP\\_323 & X03 & 0 & 786.24 &  1 & HR ALL & 0 & 0 & NA & ... &  0.04826843 &  0.1393051 & 15.83866850 &  7.9531074 &  9.4381691 & -12.2473929 & -1.42025844 & -1.04697016 & Leukemia:CHP\\_323\\_X03-cfDNA           & 71\\\\\n",
       "\t2 & CHP\\_323\\_05 & CHP\\_323 & X05 & 0 & 979.50 &  1 & HR ALL & 0 & 0 & NA & ... &  0.25983842 &  0.5856662 &  0.03694791 &  0.2037428 &  0.9895571 &  -0.2918142 & -1.03382807 &  0.68828218 & Leukemia:CHP\\_323\\_X05-cfDNA           &  9\\\\\n",
       "\t3 & CHP\\_324\\_04 & CHP\\_324 & X04 & 0 &   0.00 & 12 & T-ALL  & 0 & 0 & NA & ... & -0.85235289 & -0.8523529 & -2.42588499 & -0.2790740 &  0.1117550 &   1.7122042 &  0.09042876 & -0.07326199 & T-cellmalignancies:CHP\\_324\\_X04-cfDNA &  1\\\\\n",
       "\t4 & CHP\\_324\\_05 & CHP\\_324 & X05 & 0 &   0.00 & 12 & T-ALL  & 0 & 0 & NA & ... & -1.17906074 & -1.1790607 & -2.20171492 & -0.2392266 &  0.1373460 &   1.5349325 &  0.14012792 & -0.08421036 & T-cellmalignancies:CHP\\_324\\_X05-cfDNA &  2\\\\\n",
       "\t5 & CHP\\_326\\_05 & CHP\\_326 & X05 & 0 & 972.90 &  4 & SR ALL & 0 & 0 & NA & ... &  0.08628995 &  0.2607004 &  1.53369308 &  0.6800554 & -0.7668898 &  -0.9056822 &  0.51843452 & -0.90888221 & Leukemia:CHP\\_326\\_X05-cfDNA           & 13\\\\\n",
       "\t6 & CHP\\_328\\_05 & CHP\\_328 & X05 & 0 &  91.16 &  7 & SR ALL & 0 & 0 & NA & ... &          NA &         NA & -1.73881538 & -0.8087552 & -0.8391630 &   1.2267221 &  0.09263065 &  0.06769804 & Leukemia:CHP\\_328\\_X05-cfDNA           & NA\\\\\n",
       "\\end{tabular}\n"
      ],
      "text/markdown": [
       "\n",
       "A data.frame: 6 x 76\n",
       "\n",
       "| <!--/--> | sample_id &lt;chr&gt; | Patient &lt;chr&gt; | cycle &lt;chr&gt; | FOLD &lt;dbl&gt; | ATC &lt;dbl&gt; | Age &lt;dbl&gt; | Disease_type &lt;chr&gt; | TE_fold &lt;dbl&gt; | CD3 &lt;int&gt; | EM &lt;int&gt; | ... ... | aveTiRP &lt;dbl&gt; | medTiRP &lt;dbl&gt; | V_PC1 &lt;dbl&gt; | V_PC2 &lt;dbl&gt; | V_PC3 &lt;dbl&gt; | J_PC1 &lt;dbl&gt; | J_PC2 &lt;dbl&gt; | J_PC3 &lt;dbl&gt; | samplename &lt;chr&gt; | gliph_n &lt;dbl&gt; |\n",
       "|---|---|---|---|---|---|---|---|---|---|---|---|---|---|---|---|---|---|---|---|---|---|\n",
       "| 1 | CHP_323_03 | CHP_323 | X03 | 0 | 786.24 |  1 | HR ALL | 0 | 0 | NA | ... |  0.04826843 |  0.1393051 | 15.83866850 |  7.9531074 |  9.4381691 | -12.2473929 | -1.42025844 | -1.04697016 | Leukemia:CHP_323_X03-cfDNA           | 71 |\n",
       "| 2 | CHP_323_05 | CHP_323 | X05 | 0 | 979.50 |  1 | HR ALL | 0 | 0 | NA | ... |  0.25983842 |  0.5856662 |  0.03694791 |  0.2037428 |  0.9895571 |  -0.2918142 | -1.03382807 |  0.68828218 | Leukemia:CHP_323_X05-cfDNA           |  9 |\n",
       "| 3 | CHP_324_04 | CHP_324 | X04 | 0 |   0.00 | 12 | T-ALL  | 0 | 0 | NA | ... | -0.85235289 | -0.8523529 | -2.42588499 | -0.2790740 |  0.1117550 |   1.7122042 |  0.09042876 | -0.07326199 | T-cellmalignancies:CHP_324_X04-cfDNA |  1 |\n",
       "| 4 | CHP_324_05 | CHP_324 | X05 | 0 |   0.00 | 12 | T-ALL  | 0 | 0 | NA | ... | -1.17906074 | -1.1790607 | -2.20171492 | -0.2392266 |  0.1373460 |   1.5349325 |  0.14012792 | -0.08421036 | T-cellmalignancies:CHP_324_X05-cfDNA |  2 |\n",
       "| 5 | CHP_326_05 | CHP_326 | X05 | 0 | 972.90 |  4 | SR ALL | 0 | 0 | NA | ... |  0.08628995 |  0.2607004 |  1.53369308 |  0.6800554 | -0.7668898 |  -0.9056822 |  0.51843452 | -0.90888221 | Leukemia:CHP_326_X05-cfDNA           | 13 |\n",
       "| 6 | CHP_328_05 | CHP_328 | X05 | 0 |  91.16 |  7 | SR ALL | 0 | 0 | NA | ... |          NA |         NA | -1.73881538 | -0.8087552 | -0.8391630 |   1.2267221 |  0.09263065 |  0.06769804 | Leukemia:CHP_328_X05-cfDNA           | NA |\n",
       "\n"
      ],
      "text/plain": [
       "  sample_id  Patient cycle FOLD ATC    Age Disease_type TE_fold CD3 EM ...\n",
       "1 CHP_323_03 CHP_323 X03   0    786.24  1  HR ALL       0       0   NA ...\n",
       "2 CHP_323_05 CHP_323 X05   0    979.50  1  HR ALL       0       0   NA ...\n",
       "3 CHP_324_04 CHP_324 X04   0      0.00 12  T-ALL        0       0   NA ...\n",
       "4 CHP_324_05 CHP_324 X05   0      0.00 12  T-ALL        0       0   NA ...\n",
       "5 CHP_326_05 CHP_326 X05   0    972.90  4  SR ALL       0       0   NA ...\n",
       "6 CHP_328_05 CHP_328 X05   0     91.16  7  SR ALL       0       0   NA ...\n",
       "  aveTiRP     medTiRP    V_PC1       V_PC2      V_PC3      J_PC1      \n",
       "1  0.04826843  0.1393051 15.83866850  7.9531074  9.4381691 -12.2473929\n",
       "2  0.25983842  0.5856662  0.03694791  0.2037428  0.9895571  -0.2918142\n",
       "3 -0.85235289 -0.8523529 -2.42588499 -0.2790740  0.1117550   1.7122042\n",
       "4 -1.17906074 -1.1790607 -2.20171492 -0.2392266  0.1373460   1.5349325\n",
       "5  0.08628995  0.2607004  1.53369308  0.6800554 -0.7668898  -0.9056822\n",
       "6          NA         NA -1.73881538 -0.8087552 -0.8391630   1.2267221\n",
       "  J_PC2       J_PC3       samplename                           gliph_n\n",
       "1 -1.42025844 -1.04697016 Leukemia:CHP_323_X03-cfDNA           71     \n",
       "2 -1.03382807  0.68828218 Leukemia:CHP_323_X05-cfDNA            9     \n",
       "3  0.09042876 -0.07326199 T-cellmalignancies:CHP_324_X04-cfDNA  1     \n",
       "4  0.14012792 -0.08421036 T-cellmalignancies:CHP_324_X05-cfDNA  2     \n",
       "5  0.51843452 -0.90888221 Leukemia:CHP_326_X05-cfDNA           13     \n",
       "6  0.09263065  0.06769804 Leukemia:CHP_328_X05-cfDNA           NA     "
      ]
     },
     "metadata": {},
     "output_type": "display_data"
    }
   ],
   "source": [
    "head(cfdna)"
   ]
  },
  {
   "cell_type": "code",
   "execution_count": 143,
   "metadata": {
    "vscode": {
     "languageId": "r"
    }
   },
   "outputs": [],
   "source": [
    "cfdna$gliph_n[is.na(cfdna$gliph_n)] <- 0"
   ]
  },
  {
   "cell_type": "code",
   "execution_count": 144,
   "metadata": {
    "vscode": {
     "languageId": "r"
    }
   },
   "outputs": [],
   "source": [
    "gliphdf <- data.frame(gliph = unique(gliph_out$pattern))\n",
    "rownames(gliphdf) <- gliphdf$gliph"
   ]
  },
  {
   "cell_type": "code",
   "execution_count": 145,
   "metadata": {
    "vscode": {
     "languageId": "r"
    }
   },
   "outputs": [
    {
     "data": {
      "text/html": [
       "<table class=\"dataframe\">\n",
       "<caption>A data.frame: 6 x 1</caption>\n",
       "<thead>\n",
       "\t<tr><th></th><th scope=col>gliph</th></tr>\n",
       "\t<tr><th></th><th scope=col>&lt;chr&gt;</th></tr>\n",
       "</thead>\n",
       "<tbody>\n",
       "\t<tr><th scope=row>GIWV</th><td>GIWV</td></tr>\n",
       "\t<tr><th scope=row>IWV</th><td>IWV </td></tr>\n",
       "\t<tr><th scope=row>WVYE</th><td>WVYE</td></tr>\n",
       "\t<tr><th scope=row>IWVY</th><td>IWVY</td></tr>\n",
       "\t<tr><th scope=row>WVY</th><td>WVY </td></tr>\n",
       "\t<tr><th scope=row>TGIW</th><td>TGIW</td></tr>\n",
       "</tbody>\n",
       "</table>\n"
      ],
      "text/latex": [
       "A data.frame: 6 x 1\n",
       "\\begin{tabular}{r|l}\n",
       "  & gliph\\\\\n",
       "  & <chr>\\\\\n",
       "\\hline\n",
       "\tGIWV & GIWV\\\\\n",
       "\tIWV & IWV \\\\\n",
       "\tWVYE & WVYE\\\\\n",
       "\tIWVY & IWVY\\\\\n",
       "\tWVY & WVY \\\\\n",
       "\tTGIW & TGIW\\\\\n",
       "\\end{tabular}\n"
      ],
      "text/markdown": [
       "\n",
       "A data.frame: 6 x 1\n",
       "\n",
       "| <!--/--> | gliph &lt;chr&gt; |\n",
       "|---|---|\n",
       "| GIWV | GIWV |\n",
       "| IWV | IWV  |\n",
       "| WVYE | WVYE |\n",
       "| IWVY | IWVY |\n",
       "| WVY | WVY  |\n",
       "| TGIW | TGIW |\n",
       "\n"
      ],
      "text/plain": [
       "     gliph\n",
       "GIWV GIWV \n",
       "IWV  IWV  \n",
       "WVYE WVYE \n",
       "IWVY IWVY \n",
       "WVY  WVY  \n",
       "TGIW TGIW "
      ]
     },
     "metadata": {},
     "output_type": "display_data"
    }
   ],
   "source": [
    "head(gliphdf)"
   ]
  },
  {
   "cell_type": "code",
   "execution_count": 146,
   "metadata": {
    "vscode": {
     "languageId": "r"
    }
   },
   "outputs": [],
   "source": [
    "gliph_out$subject <- gsub(\":.*\", \"\", gliph_out$Sample)"
   ]
  },
  {
   "cell_type": "code",
   "execution_count": 147,
   "metadata": {
    "vscode": {
     "languageId": "r"
    }
   },
   "outputs": [],
   "source": [
    "for(i in 1:nrow(gliphdf)){\n",
    "mygliph <- gliph_out[gliph_out$pattern == gliphdf$gliph[i],]\n",
    "# add 1 in gliphdf$CMV, if mygliph$subject ciontains CMV\n",
    "gliphdf$CMV[i] <- ifelse(sum(grepl(\"CMV\", mygliph$subject)) > 0, 1, 0)\n",
    "gliphdf$EBV[i] <- ifelse(sum(grepl(\"EBV\", mygliph$subject)) > 0, 1, 0)\n",
    "gliphdf$HCV[i] <- ifelse(sum(grepl(\"HCV\", mygliph$subject)) > 0, 1, 0)\n",
    "gliphdf$Flu[i] <- ifelse(sum(grepl(\"Influenza\", mygliph$subject)) > 0, 1, 0)\n",
    "gliphdf$hs[i] <- ifelse(sum(grepl(\"HomoSapiens\", mygliph$subject)) > 0, 1, 0)\n",
    "}"
   ]
  },
  {
   "cell_type": "code",
   "execution_count": 148,
   "metadata": {
    "vscode": {
     "languageId": "r"
    }
   },
   "outputs": [
    {
     "data": {
      "text/html": [
       "<table class=\"dataframe\">\n",
       "<caption>A data.frame: 6 x 6</caption>\n",
       "<thead>\n",
       "\t<tr><th></th><th scope=col>gliph</th><th scope=col>CMV</th><th scope=col>EBV</th><th scope=col>HCV</th><th scope=col>Flu</th><th scope=col>hs</th></tr>\n",
       "\t<tr><th></th><th scope=col>&lt;chr&gt;</th><th scope=col>&lt;dbl&gt;</th><th scope=col>&lt;dbl&gt;</th><th scope=col>&lt;dbl&gt;</th><th scope=col>&lt;dbl&gt;</th><th scope=col>&lt;dbl&gt;</th></tr>\n",
       "</thead>\n",
       "<tbody>\n",
       "\t<tr><th scope=row>SP%</th><td>SP%  </td><td>0</td><td>0</td><td>0</td><td>0</td><td>0</td></tr>\n",
       "\t<tr><th scope=row>S%E</th><td>S%E  </td><td>0</td><td>0</td><td>0</td><td>0</td><td>0</td></tr>\n",
       "\t<tr><th scope=row>S%GTG</th><td>S%GTG</td><td>0</td><td>0</td><td>0</td><td>0</td><td>0</td></tr>\n",
       "\t<tr><th scope=row>G%</th><td>G%   </td><td>0</td><td>0</td><td>0</td><td>0</td><td>1</td></tr>\n",
       "\t<tr><th scope=row>%G</th><td>%G   </td><td>0</td><td>0</td><td>0</td><td>0</td><td>0</td></tr>\n",
       "\t<tr><th scope=row>%E</th><td>%E   </td><td>0</td><td>0</td><td>0</td><td>0</td><td>0</td></tr>\n",
       "</tbody>\n",
       "</table>\n"
      ],
      "text/latex": [
       "A data.frame: 6 x 6\n",
       "\\begin{tabular}{r|llllll}\n",
       "  & gliph & CMV & EBV & HCV & Flu & hs\\\\\n",
       "  & <chr> & <dbl> & <dbl> & <dbl> & <dbl> & <dbl>\\\\\n",
       "\\hline\n",
       "\tSP\\% & SP\\%   & 0 & 0 & 0 & 0 & 0\\\\\n",
       "\tS\\%E & S\\%E   & 0 & 0 & 0 & 0 & 0\\\\\n",
       "\tS\\%GTG & S\\%GTG & 0 & 0 & 0 & 0 & 0\\\\\n",
       "\tG\\% & G\\%    & 0 & 0 & 0 & 0 & 1\\\\\n",
       "\t\\%G & \\%G    & 0 & 0 & 0 & 0 & 0\\\\\n",
       "\t\\%E & \\%E    & 0 & 0 & 0 & 0 & 0\\\\\n",
       "\\end{tabular}\n"
      ],
      "text/markdown": [
       "\n",
       "A data.frame: 6 x 6\n",
       "\n",
       "| <!--/--> | gliph &lt;chr&gt; | CMV &lt;dbl&gt; | EBV &lt;dbl&gt; | HCV &lt;dbl&gt; | Flu &lt;dbl&gt; | hs &lt;dbl&gt; |\n",
       "|---|---|---|---|---|---|---|\n",
       "| SP% | SP%   | 0 | 0 | 0 | 0 | 0 |\n",
       "| S%E | S%E   | 0 | 0 | 0 | 0 | 0 |\n",
       "| S%GTG | S%GTG | 0 | 0 | 0 | 0 | 0 |\n",
       "| G% | G%    | 0 | 0 | 0 | 0 | 1 |\n",
       "| %G | %G    | 0 | 0 | 0 | 0 | 0 |\n",
       "| %E | %E    | 0 | 0 | 0 | 0 | 0 |\n",
       "\n"
      ],
      "text/plain": [
       "      gliph CMV EBV HCV Flu hs\n",
       "SP%   SP%   0   0   0   0   0 \n",
       "S%E   S%E   0   0   0   0   0 \n",
       "S%GTG S%GTG 0   0   0   0   0 \n",
       "G%    G%    0   0   0   0   1 \n",
       "%G    %G    0   0   0   0   0 \n",
       "%E    %E    0   0   0   0   0 "
      ]
     },
     "metadata": {},
     "output_type": "display_data"
    }
   ],
   "source": [
    "tail(gliphdf)"
   ]
  },
  {
   "cell_type": "code",
   "execution_count": 149,
   "metadata": {
    "vscode": {
     "languageId": "r"
    }
   },
   "outputs": [
    {
     "data": {
      "text/html": [
       "<table class=\"dataframe\">\n",
       "<caption>A data.frame: 6 x 76</caption>\n",
       "<thead>\n",
       "\t<tr><th></th><th scope=col>sample_id</th><th scope=col>Patient</th><th scope=col>cycle</th><th scope=col>FOLD</th><th scope=col>ATC</th><th scope=col>Age</th><th scope=col>Disease_type</th><th scope=col>TE_fold</th><th scope=col>CD3</th><th scope=col>EM</th><th scope=col>...</th><th scope=col>aveTiRP</th><th scope=col>medTiRP</th><th scope=col>V_PC1</th><th scope=col>V_PC2</th><th scope=col>V_PC3</th><th scope=col>J_PC1</th><th scope=col>J_PC2</th><th scope=col>J_PC3</th><th scope=col>samplename</th><th scope=col>gliph_n</th></tr>\n",
       "\t<tr><th></th><th scope=col>&lt;chr&gt;</th><th scope=col>&lt;chr&gt;</th><th scope=col>&lt;chr&gt;</th><th scope=col>&lt;dbl&gt;</th><th scope=col>&lt;dbl&gt;</th><th scope=col>&lt;dbl&gt;</th><th scope=col>&lt;chr&gt;</th><th scope=col>&lt;dbl&gt;</th><th scope=col>&lt;int&gt;</th><th scope=col>&lt;int&gt;</th><th scope=col>...</th><th scope=col>&lt;dbl&gt;</th><th scope=col>&lt;dbl&gt;</th><th scope=col>&lt;dbl&gt;</th><th scope=col>&lt;dbl&gt;</th><th scope=col>&lt;dbl&gt;</th><th scope=col>&lt;dbl&gt;</th><th scope=col>&lt;dbl&gt;</th><th scope=col>&lt;dbl&gt;</th><th scope=col>&lt;chr&gt;</th><th scope=col>&lt;dbl&gt;</th></tr>\n",
       "</thead>\n",
       "<tbody>\n",
       "\t<tr><th scope=row>1</th><td>CHP_323_03</td><td>CHP_323</td><td>X03</td><td>0</td><td>786.24</td><td> 1</td><td>HR ALL</td><td>0</td><td>0</td><td>NA</td><td>...</td><td> 0.04826843</td><td> 0.1393051</td><td>15.83866850</td><td> 7.9531074</td><td> 9.4381691</td><td>-12.2473929</td><td>-1.42025844</td><td>-1.04697016</td><td>Leukemia:CHP_323_X03-cfDNA          </td><td>71</td></tr>\n",
       "\t<tr><th scope=row>2</th><td>CHP_323_05</td><td>CHP_323</td><td>X05</td><td>0</td><td>979.50</td><td> 1</td><td>HR ALL</td><td>0</td><td>0</td><td>NA</td><td>...</td><td> 0.25983842</td><td> 0.5856662</td><td> 0.03694791</td><td> 0.2037428</td><td> 0.9895571</td><td> -0.2918142</td><td>-1.03382807</td><td> 0.68828218</td><td>Leukemia:CHP_323_X05-cfDNA          </td><td> 9</td></tr>\n",
       "\t<tr><th scope=row>3</th><td>CHP_324_04</td><td>CHP_324</td><td>X04</td><td>0</td><td>  0.00</td><td>12</td><td>T-ALL </td><td>0</td><td>0</td><td>NA</td><td>...</td><td>-0.85235289</td><td>-0.8523529</td><td>-2.42588499</td><td>-0.2790740</td><td> 0.1117550</td><td>  1.7122042</td><td> 0.09042876</td><td>-0.07326199</td><td>T-cellmalignancies:CHP_324_X04-cfDNA</td><td> 1</td></tr>\n",
       "\t<tr><th scope=row>4</th><td>CHP_324_05</td><td>CHP_324</td><td>X05</td><td>0</td><td>  0.00</td><td>12</td><td>T-ALL </td><td>0</td><td>0</td><td>NA</td><td>...</td><td>-1.17906074</td><td>-1.1790607</td><td>-2.20171492</td><td>-0.2392266</td><td> 0.1373460</td><td>  1.5349325</td><td> 0.14012792</td><td>-0.08421036</td><td>T-cellmalignancies:CHP_324_X05-cfDNA</td><td> 2</td></tr>\n",
       "\t<tr><th scope=row>5</th><td>CHP_326_05</td><td>CHP_326</td><td>X05</td><td>0</td><td>972.90</td><td> 4</td><td>SR ALL</td><td>0</td><td>0</td><td>NA</td><td>...</td><td> 0.08628995</td><td> 0.2607004</td><td> 1.53369308</td><td> 0.6800554</td><td>-0.7668898</td><td> -0.9056822</td><td> 0.51843452</td><td>-0.90888221</td><td>Leukemia:CHP_326_X05-cfDNA          </td><td>13</td></tr>\n",
       "\t<tr><th scope=row>6</th><td>CHP_328_05</td><td>CHP_328</td><td>X05</td><td>0</td><td> 91.16</td><td> 7</td><td>SR ALL</td><td>0</td><td>0</td><td>NA</td><td>...</td><td>         NA</td><td>        NA</td><td>-1.73881538</td><td>-0.8087552</td><td>-0.8391630</td><td>  1.2267221</td><td> 0.09263065</td><td> 0.06769804</td><td>Leukemia:CHP_328_X05-cfDNA          </td><td> 0</td></tr>\n",
       "</tbody>\n",
       "</table>\n"
      ],
      "text/latex": [
       "A data.frame: 6 x 76\n",
       "\\begin{tabular}{r|lllllllllllllllllllll}\n",
       "  & sample\\_id & Patient & cycle & FOLD & ATC & Age & Disease\\_type & TE\\_fold & CD3 & EM & ... & aveTiRP & medTiRP & V\\_PC1 & V\\_PC2 & V\\_PC3 & J\\_PC1 & J\\_PC2 & J\\_PC3 & samplename & gliph\\_n\\\\\n",
       "  & <chr> & <chr> & <chr> & <dbl> & <dbl> & <dbl> & <chr> & <dbl> & <int> & <int> & ... & <dbl> & <dbl> & <dbl> & <dbl> & <dbl> & <dbl> & <dbl> & <dbl> & <chr> & <dbl>\\\\\n",
       "\\hline\n",
       "\t1 & CHP\\_323\\_03 & CHP\\_323 & X03 & 0 & 786.24 &  1 & HR ALL & 0 & 0 & NA & ... &  0.04826843 &  0.1393051 & 15.83866850 &  7.9531074 &  9.4381691 & -12.2473929 & -1.42025844 & -1.04697016 & Leukemia:CHP\\_323\\_X03-cfDNA           & 71\\\\\n",
       "\t2 & CHP\\_323\\_05 & CHP\\_323 & X05 & 0 & 979.50 &  1 & HR ALL & 0 & 0 & NA & ... &  0.25983842 &  0.5856662 &  0.03694791 &  0.2037428 &  0.9895571 &  -0.2918142 & -1.03382807 &  0.68828218 & Leukemia:CHP\\_323\\_X05-cfDNA           &  9\\\\\n",
       "\t3 & CHP\\_324\\_04 & CHP\\_324 & X04 & 0 &   0.00 & 12 & T-ALL  & 0 & 0 & NA & ... & -0.85235289 & -0.8523529 & -2.42588499 & -0.2790740 &  0.1117550 &   1.7122042 &  0.09042876 & -0.07326199 & T-cellmalignancies:CHP\\_324\\_X04-cfDNA &  1\\\\\n",
       "\t4 & CHP\\_324\\_05 & CHP\\_324 & X05 & 0 &   0.00 & 12 & T-ALL  & 0 & 0 & NA & ... & -1.17906074 & -1.1790607 & -2.20171492 & -0.2392266 &  0.1373460 &   1.5349325 &  0.14012792 & -0.08421036 & T-cellmalignancies:CHP\\_324\\_X05-cfDNA &  2\\\\\n",
       "\t5 & CHP\\_326\\_05 & CHP\\_326 & X05 & 0 & 972.90 &  4 & SR ALL & 0 & 0 & NA & ... &  0.08628995 &  0.2607004 &  1.53369308 &  0.6800554 & -0.7668898 &  -0.9056822 &  0.51843452 & -0.90888221 & Leukemia:CHP\\_326\\_X05-cfDNA           & 13\\\\\n",
       "\t6 & CHP\\_328\\_05 & CHP\\_328 & X05 & 0 &  91.16 &  7 & SR ALL & 0 & 0 & NA & ... &          NA &         NA & -1.73881538 & -0.8087552 & -0.8391630 &   1.2267221 &  0.09263065 &  0.06769804 & Leukemia:CHP\\_328\\_X05-cfDNA           &  0\\\\\n",
       "\\end{tabular}\n"
      ],
      "text/markdown": [
       "\n",
       "A data.frame: 6 x 76\n",
       "\n",
       "| <!--/--> | sample_id &lt;chr&gt; | Patient &lt;chr&gt; | cycle &lt;chr&gt; | FOLD &lt;dbl&gt; | ATC &lt;dbl&gt; | Age &lt;dbl&gt; | Disease_type &lt;chr&gt; | TE_fold &lt;dbl&gt; | CD3 &lt;int&gt; | EM &lt;int&gt; | ... ... | aveTiRP &lt;dbl&gt; | medTiRP &lt;dbl&gt; | V_PC1 &lt;dbl&gt; | V_PC2 &lt;dbl&gt; | V_PC3 &lt;dbl&gt; | J_PC1 &lt;dbl&gt; | J_PC2 &lt;dbl&gt; | J_PC3 &lt;dbl&gt; | samplename &lt;chr&gt; | gliph_n &lt;dbl&gt; |\n",
       "|---|---|---|---|---|---|---|---|---|---|---|---|---|---|---|---|---|---|---|---|---|---|\n",
       "| 1 | CHP_323_03 | CHP_323 | X03 | 0 | 786.24 |  1 | HR ALL | 0 | 0 | NA | ... |  0.04826843 |  0.1393051 | 15.83866850 |  7.9531074 |  9.4381691 | -12.2473929 | -1.42025844 | -1.04697016 | Leukemia:CHP_323_X03-cfDNA           | 71 |\n",
       "| 2 | CHP_323_05 | CHP_323 | X05 | 0 | 979.50 |  1 | HR ALL | 0 | 0 | NA | ... |  0.25983842 |  0.5856662 |  0.03694791 |  0.2037428 |  0.9895571 |  -0.2918142 | -1.03382807 |  0.68828218 | Leukemia:CHP_323_X05-cfDNA           |  9 |\n",
       "| 3 | CHP_324_04 | CHP_324 | X04 | 0 |   0.00 | 12 | T-ALL  | 0 | 0 | NA | ... | -0.85235289 | -0.8523529 | -2.42588499 | -0.2790740 |  0.1117550 |   1.7122042 |  0.09042876 | -0.07326199 | T-cellmalignancies:CHP_324_X04-cfDNA |  1 |\n",
       "| 4 | CHP_324_05 | CHP_324 | X05 | 0 |   0.00 | 12 | T-ALL  | 0 | 0 | NA | ... | -1.17906074 | -1.1790607 | -2.20171492 | -0.2392266 |  0.1373460 |   1.5349325 |  0.14012792 | -0.08421036 | T-cellmalignancies:CHP_324_X05-cfDNA |  2 |\n",
       "| 5 | CHP_326_05 | CHP_326 | X05 | 0 | 972.90 |  4 | SR ALL | 0 | 0 | NA | ... |  0.08628995 |  0.2607004 |  1.53369308 |  0.6800554 | -0.7668898 |  -0.9056822 |  0.51843452 | -0.90888221 | Leukemia:CHP_326_X05-cfDNA           | 13 |\n",
       "| 6 | CHP_328_05 | CHP_328 | X05 | 0 |  91.16 |  7 | SR ALL | 0 | 0 | NA | ... |          NA |         NA | -1.73881538 | -0.8087552 | -0.8391630 |   1.2267221 |  0.09263065 |  0.06769804 | Leukemia:CHP_328_X05-cfDNA           |  0 |\n",
       "\n"
      ],
      "text/plain": [
       "  sample_id  Patient cycle FOLD ATC    Age Disease_type TE_fold CD3 EM ...\n",
       "1 CHP_323_03 CHP_323 X03   0    786.24  1  HR ALL       0       0   NA ...\n",
       "2 CHP_323_05 CHP_323 X05   0    979.50  1  HR ALL       0       0   NA ...\n",
       "3 CHP_324_04 CHP_324 X04   0      0.00 12  T-ALL        0       0   NA ...\n",
       "4 CHP_324_05 CHP_324 X05   0      0.00 12  T-ALL        0       0   NA ...\n",
       "5 CHP_326_05 CHP_326 X05   0    972.90  4  SR ALL       0       0   NA ...\n",
       "6 CHP_328_05 CHP_328 X05   0     91.16  7  SR ALL       0       0   NA ...\n",
       "  aveTiRP     medTiRP    V_PC1       V_PC2      V_PC3      J_PC1      \n",
       "1  0.04826843  0.1393051 15.83866850  7.9531074  9.4381691 -12.2473929\n",
       "2  0.25983842  0.5856662  0.03694791  0.2037428  0.9895571  -0.2918142\n",
       "3 -0.85235289 -0.8523529 -2.42588499 -0.2790740  0.1117550   1.7122042\n",
       "4 -1.17906074 -1.1790607 -2.20171492 -0.2392266  0.1373460   1.5349325\n",
       "5  0.08628995  0.2607004  1.53369308  0.6800554 -0.7668898  -0.9056822\n",
       "6          NA         NA -1.73881538 -0.8087552 -0.8391630   1.2267221\n",
       "  J_PC2       J_PC3       samplename                           gliph_n\n",
       "1 -1.42025844 -1.04697016 Leukemia:CHP_323_X03-cfDNA           71     \n",
       "2 -1.03382807  0.68828218 Leukemia:CHP_323_X05-cfDNA            9     \n",
       "3  0.09042876 -0.07326199 T-cellmalignancies:CHP_324_X04-cfDNA  1     \n",
       "4  0.14012792 -0.08421036 T-cellmalignancies:CHP_324_X05-cfDNA  2     \n",
       "5  0.51843452 -0.90888221 Leukemia:CHP_326_X05-cfDNA           13     \n",
       "6  0.09263065  0.06769804 Leukemia:CHP_328_X05-cfDNA            0     "
      ]
     },
     "metadata": {},
     "output_type": "display_data"
    }
   ],
   "source": [
    "head(cfdna)"
   ]
  },
  {
   "cell_type": "code",
   "execution_count": 150,
   "metadata": {
    "vscode": {
     "languageId": "r"
    }
   },
   "outputs": [],
   "source": [
    "cfdna$CMV <- NA\n",
    "cfdna$EBV <- NA\n",
    "cfdna$HCV <- NA\n",
    "cfdna$Flu <- NA\n",
    "cfdna$hs <- NA"
   ]
  },
  {
   "cell_type": "code",
   "execution_count": 151,
   "metadata": {
    "vscode": {
     "languageId": "r"
    }
   },
   "outputs": [],
   "source": [
    "for(i in 1:nrow(cfdna) ){\n",
    "    mygliph <- gliph_out[ gliph_out$Sample == cfdna$samplename[i], ]\n",
    "    tmp <- gliphdf[ match(mygliph$pattern, gliphdf$gliph),]\n",
    "    vsums <- colSums(tmp[,2:6])\n",
    "    cfdna[i, c(\"CMV\", \"EBV\", \"HCV\", \"Flu\", \"hs\")] <- vsums\n",
    "}"
   ]
  },
  {
   "cell_type": "code",
   "execution_count": 152,
   "metadata": {
    "vscode": {
     "languageId": "r"
    }
   },
   "outputs": [
    {
     "data": {
      "text/html": [
       "<style>\n",
       ".list-inline {list-style: none; margin:0; padding: 0}\n",
       ".list-inline>li {display: inline-block}\n",
       ".list-inline>li:not(:last-child)::after {content: \"\\00b7\"; padding: 0 .5ex}\n",
       "</style>\n",
       "<ol class=list-inline><li>'sample_id'</li><li>'Patient'</li><li>'cycle'</li><li>'FOLD'</li><li>'ATC'</li><li>'Age'</li><li>'Disease_type'</li><li>'TE_fold'</li><li>'CD3'</li><li>'EM'</li><li>'CM'</li><li>'Naïve'</li><li>'SCM'</li><li>'TE'</li><li>'EM%'</li><li>'CM%'</li><li>'Naïve%'</li><li>'SCM%'</li><li>'TE%'</li><li>'Naïve/TE'</li><li>'N+CM+SCM/TE+EM'</li><li>'PD-1'</li><li>'PDL1'</li><li>'LAG3'</li><li>'TIM3'</li><li>'CTLA4'</li><li>'PD1%'</li><li>'PDL1%'</li><li>'LAG3%'</li><li>'TIM3%'</li><li>'CTLA4%'</li><li>'Any NCR'</li><li>'PD1 + LAG3 + TIM3'</li><li>'cancergroup'</li><li>'agegroup'</li><li>'foldgroup'</li><li>'Remission'</li><li>'Relapse'</li><li>'Transplant'</li><li>'CART'</li><li>'vital_status'</li><li>'LOF'</li><li>'TRB'</li><li>'Reads'</li><li>'CPKR'</li><li>'Average_reads'</li><li>'VMR'</li><li>'Max_reads'</li><li>'Singletons'</li><li>'Doubletons'</li><li>'qD'</li><li>'Sample_Coverage'</li><li>'observed_Richness'</li><li>'estimated_Richness'</li><li>'SE_Richeness'</li><li>'observed_Shannon'</li><li>'estimated_Shannon'</li><li>'SE_Shannon'</li><li>'observed_Simpson'</li><li>'estimated_Simpson'</li><li>'SE_Simpson'</li><li>'basename'</li><li>'file'</li><li>'sampletype'</li><li>'Group'</li><li>'log10shann'</li><li>'aveTiRP'</li><li>'medTiRP'</li><li>'V_PC1'</li><li>'V_PC2'</li><li>'V_PC3'</li><li>'J_PC1'</li><li>'J_PC2'</li><li>'J_PC3'</li><li>'samplename'</li><li>'gliph_n'</li><li>'CMV'</li><li>'EBV'</li><li>'HCV'</li><li>'Flu'</li><li>'hs'</li></ol>\n"
      ],
      "text/latex": [
       "\\begin{enumerate*}\n",
       "\\item 'sample\\_id'\n",
       "\\item 'Patient'\n",
       "\\item 'cycle'\n",
       "\\item 'FOLD'\n",
       "\\item 'ATC'\n",
       "\\item 'Age'\n",
       "\\item 'Disease\\_type'\n",
       "\\item 'TE\\_fold'\n",
       "\\item 'CD3'\n",
       "\\item 'EM'\n",
       "\\item 'CM'\n",
       "\\item 'Naïve'\n",
       "\\item 'SCM'\n",
       "\\item 'TE'\n",
       "\\item 'EM\\%'\n",
       "\\item 'CM\\%'\n",
       "\\item 'Naïve\\%'\n",
       "\\item 'SCM\\%'\n",
       "\\item 'TE\\%'\n",
       "\\item 'Naïve/TE'\n",
       "\\item 'N+CM+SCM/TE+EM'\n",
       "\\item 'PD-1'\n",
       "\\item 'PDL1'\n",
       "\\item 'LAG3'\n",
       "\\item 'TIM3'\n",
       "\\item 'CTLA4'\n",
       "\\item 'PD1\\%'\n",
       "\\item 'PDL1\\%'\n",
       "\\item 'LAG3\\%'\n",
       "\\item 'TIM3\\%'\n",
       "\\item 'CTLA4\\%'\n",
       "\\item 'Any NCR'\n",
       "\\item 'PD1 + LAG3 + TIM3'\n",
       "\\item 'cancergroup'\n",
       "\\item 'agegroup'\n",
       "\\item 'foldgroup'\n",
       "\\item 'Remission'\n",
       "\\item 'Relapse'\n",
       "\\item 'Transplant'\n",
       "\\item 'CART'\n",
       "\\item 'vital\\_status'\n",
       "\\item 'LOF'\n",
       "\\item 'TRB'\n",
       "\\item 'Reads'\n",
       "\\item 'CPKR'\n",
       "\\item 'Average\\_reads'\n",
       "\\item 'VMR'\n",
       "\\item 'Max\\_reads'\n",
       "\\item 'Singletons'\n",
       "\\item 'Doubletons'\n",
       "\\item 'qD'\n",
       "\\item 'Sample\\_Coverage'\n",
       "\\item 'observed\\_Richness'\n",
       "\\item 'estimated\\_Richness'\n",
       "\\item 'SE\\_Richeness'\n",
       "\\item 'observed\\_Shannon'\n",
       "\\item 'estimated\\_Shannon'\n",
       "\\item 'SE\\_Shannon'\n",
       "\\item 'observed\\_Simpson'\n",
       "\\item 'estimated\\_Simpson'\n",
       "\\item 'SE\\_Simpson'\n",
       "\\item 'basename'\n",
       "\\item 'file'\n",
       "\\item 'sampletype'\n",
       "\\item 'Group'\n",
       "\\item 'log10shann'\n",
       "\\item 'aveTiRP'\n",
       "\\item 'medTiRP'\n",
       "\\item 'V\\_PC1'\n",
       "\\item 'V\\_PC2'\n",
       "\\item 'V\\_PC3'\n",
       "\\item 'J\\_PC1'\n",
       "\\item 'J\\_PC2'\n",
       "\\item 'J\\_PC3'\n",
       "\\item 'samplename'\n",
       "\\item 'gliph\\_n'\n",
       "\\item 'CMV'\n",
       "\\item 'EBV'\n",
       "\\item 'HCV'\n",
       "\\item 'Flu'\n",
       "\\item 'hs'\n",
       "\\end{enumerate*}\n"
      ],
      "text/markdown": [
       "1. 'sample_id'\n",
       "2. 'Patient'\n",
       "3. 'cycle'\n",
       "4. 'FOLD'\n",
       "5. 'ATC'\n",
       "6. 'Age'\n",
       "7. 'Disease_type'\n",
       "8. 'TE_fold'\n",
       "9. 'CD3'\n",
       "10. 'EM'\n",
       "11. 'CM'\n",
       "12. 'Naïve'\n",
       "13. 'SCM'\n",
       "14. 'TE'\n",
       "15. 'EM%'\n",
       "16. 'CM%'\n",
       "17. 'Naïve%'\n",
       "18. 'SCM%'\n",
       "19. 'TE%'\n",
       "20. 'Naïve/TE'\n",
       "21. 'N+CM+SCM/TE+EM'\n",
       "22. 'PD-1'\n",
       "23. 'PDL1'\n",
       "24. 'LAG3'\n",
       "25. 'TIM3'\n",
       "26. 'CTLA4'\n",
       "27. 'PD1%'\n",
       "28. 'PDL1%'\n",
       "29. 'LAG3%'\n",
       "30. 'TIM3%'\n",
       "31. 'CTLA4%'\n",
       "32. 'Any NCR'\n",
       "33. 'PD1 + LAG3 + TIM3'\n",
       "34. 'cancergroup'\n",
       "35. 'agegroup'\n",
       "36. 'foldgroup'\n",
       "37. 'Remission'\n",
       "38. 'Relapse'\n",
       "39. 'Transplant'\n",
       "40. 'CART'\n",
       "41. 'vital_status'\n",
       "42. 'LOF'\n",
       "43. 'TRB'\n",
       "44. 'Reads'\n",
       "45. 'CPKR'\n",
       "46. 'Average_reads'\n",
       "47. 'VMR'\n",
       "48. 'Max_reads'\n",
       "49. 'Singletons'\n",
       "50. 'Doubletons'\n",
       "51. 'qD'\n",
       "52. 'Sample_Coverage'\n",
       "53. 'observed_Richness'\n",
       "54. 'estimated_Richness'\n",
       "55. 'SE_Richeness'\n",
       "56. 'observed_Shannon'\n",
       "57. 'estimated_Shannon'\n",
       "58. 'SE_Shannon'\n",
       "59. 'observed_Simpson'\n",
       "60. 'estimated_Simpson'\n",
       "61. 'SE_Simpson'\n",
       "62. 'basename'\n",
       "63. 'file'\n",
       "64. 'sampletype'\n",
       "65. 'Group'\n",
       "66. 'log10shann'\n",
       "67. 'aveTiRP'\n",
       "68. 'medTiRP'\n",
       "69. 'V_PC1'\n",
       "70. 'V_PC2'\n",
       "71. 'V_PC3'\n",
       "72. 'J_PC1'\n",
       "73. 'J_PC2'\n",
       "74. 'J_PC3'\n",
       "75. 'samplename'\n",
       "76. 'gliph_n'\n",
       "77. 'CMV'\n",
       "78. 'EBV'\n",
       "79. 'HCV'\n",
       "80. 'Flu'\n",
       "81. 'hs'\n",
       "\n",
       "\n"
      ],
      "text/plain": [
       " [1] \"sample_id\"          \"Patient\"            \"cycle\"             \n",
       " [4] \"FOLD\"               \"ATC\"                \"Age\"               \n",
       " [7] \"Disease_type\"       \"TE_fold\"            \"CD3\"               \n",
       "[10] \"EM\"                 \"CM\"                 \"Naïve\"             \n",
       "[13] \"SCM\"                \"TE\"                 \"EM%\"               \n",
       "[16] \"CM%\"                \"Naïve%\"             \"SCM%\"              \n",
       "[19] \"TE%\"                \"Naïve/TE\"           \"N+CM+SCM/TE+EM\"    \n",
       "[22] \"PD-1\"               \"PDL1\"               \"LAG3\"              \n",
       "[25] \"TIM3\"               \"CTLA4\"              \"PD1%\"              \n",
       "[28] \"PDL1%\"              \"LAG3%\"              \"TIM3%\"             \n",
       "[31] \"CTLA4%\"             \"Any NCR\"            \"PD1 + LAG3 + TIM3\" \n",
       "[34] \"cancergroup\"        \"agegroup\"           \"foldgroup\"         \n",
       "[37] \"Remission\"          \"Relapse\"            \"Transplant\"        \n",
       "[40] \"CART\"               \"vital_status\"       \"LOF\"               \n",
       "[43] \"TRB\"                \"Reads\"              \"CPKR\"              \n",
       "[46] \"Average_reads\"      \"VMR\"                \"Max_reads\"         \n",
       "[49] \"Singletons\"         \"Doubletons\"         \"qD\"                \n",
       "[52] \"Sample_Coverage\"    \"observed_Richness\"  \"estimated_Richness\"\n",
       "[55] \"SE_Richeness\"       \"observed_Shannon\"   \"estimated_Shannon\" \n",
       "[58] \"SE_Shannon\"         \"observed_Simpson\"   \"estimated_Simpson\" \n",
       "[61] \"SE_Simpson\"         \"basename\"           \"file\"              \n",
       "[64] \"sampletype\"         \"Group\"              \"log10shann\"        \n",
       "[67] \"aveTiRP\"            \"medTiRP\"            \"V_PC1\"             \n",
       "[70] \"V_PC2\"              \"V_PC3\"              \"J_PC1\"             \n",
       "[73] \"J_PC2\"              \"J_PC3\"              \"samplename\"        \n",
       "[76] \"gliph_n\"            \"CMV\"                \"EBV\"               \n",
       "[79] \"HCV\"                \"Flu\"                \"hs\"                "
      ]
     },
     "metadata": {},
     "output_type": "display_data"
    }
   ],
   "source": [
    "colnames(cfdna)"
   ]
  },
  {
   "cell_type": "code",
   "execution_count": 153,
   "metadata": {
    "vscode": {
     "languageId": "r"
    }
   },
   "outputs": [],
   "source": [
    "colnames(cfdna)[43:ncol(cfdna)] <- paste0(\"cfDNA_\", colnames(cfdna)[43:ncol(cfdna)] )"
   ]
  },
  {
   "cell_type": "code",
   "execution_count": 154,
   "metadata": {
    "vscode": {
     "languageId": "r"
    }
   },
   "outputs": [
    {
     "data": {
      "text/html": [
       "<style>\n",
       ".list-inline {list-style: none; margin:0; padding: 0}\n",
       ".list-inline>li {display: inline-block}\n",
       ".list-inline>li:not(:last-child)::after {content: \"\\00b7\"; padding: 0 .5ex}\n",
       "</style>\n",
       "<ol class=list-inline><li>'sample_id'</li><li>'Patient'</li><li>'cycle'</li><li>'FOLD'</li><li>'ATC'</li><li>'Age'</li><li>'Disease_type'</li><li>'TE_fold'</li><li>'CD3'</li><li>'EM'</li><li>'CM'</li><li>'Naïve'</li><li>'SCM'</li><li>'TE'</li><li>'EM%'</li><li>'CM%'</li><li>'Naïve%'</li><li>'SCM%'</li><li>'TE%'</li><li>'Naïve/TE'</li><li>'N+CM+SCM/TE+EM'</li><li>'PD-1'</li><li>'PDL1'</li><li>'LAG3'</li><li>'TIM3'</li><li>'CTLA4'</li><li>'PD1%'</li><li>'PDL1%'</li><li>'LAG3%'</li><li>'TIM3%'</li><li>'CTLA4%'</li><li>'Any NCR'</li><li>'PD1 + LAG3 + TIM3'</li><li>'cancergroup'</li><li>'agegroup'</li><li>'foldgroup'</li><li>'Remission'</li><li>'Relapse'</li><li>'Transplant'</li><li>'CART'</li><li>'vital_status'</li><li>'LOF'</li><li>'cfDNA_TRB'</li><li>'cfDNA_Reads'</li><li>'cfDNA_CPKR'</li><li>'cfDNA_Average_reads'</li><li>'cfDNA_VMR'</li><li>'cfDNA_Max_reads'</li><li>'cfDNA_Singletons'</li><li>'cfDNA_Doubletons'</li><li>'cfDNA_qD'</li><li>'cfDNA_Sample_Coverage'</li><li>'cfDNA_observed_Richness'</li><li>'cfDNA_estimated_Richness'</li><li>'cfDNA_SE_Richeness'</li><li>'cfDNA_observed_Shannon'</li><li>'cfDNA_estimated_Shannon'</li><li>'cfDNA_SE_Shannon'</li><li>'cfDNA_observed_Simpson'</li><li>'cfDNA_estimated_Simpson'</li><li>'cfDNA_SE_Simpson'</li><li>'cfDNA_basename'</li><li>'cfDNA_file'</li><li>'cfDNA_sampletype'</li><li>'cfDNA_Group'</li><li>'cfDNA_log10shann'</li><li>'cfDNA_aveTiRP'</li><li>'cfDNA_medTiRP'</li><li>'cfDNA_V_PC1'</li><li>'cfDNA_V_PC2'</li><li>'cfDNA_V_PC3'</li><li>'cfDNA_J_PC1'</li><li>'cfDNA_J_PC2'</li><li>'cfDNA_J_PC3'</li><li>'cfDNA_samplename'</li><li>'cfDNA_gliph_n'</li><li>'cfDNA_CMV'</li><li>'cfDNA_EBV'</li><li>'cfDNA_HCV'</li><li>'cfDNA_Flu'</li><li>'cfDNA_hs'</li></ol>\n"
      ],
      "text/latex": [
       "\\begin{enumerate*}\n",
       "\\item 'sample\\_id'\n",
       "\\item 'Patient'\n",
       "\\item 'cycle'\n",
       "\\item 'FOLD'\n",
       "\\item 'ATC'\n",
       "\\item 'Age'\n",
       "\\item 'Disease\\_type'\n",
       "\\item 'TE\\_fold'\n",
       "\\item 'CD3'\n",
       "\\item 'EM'\n",
       "\\item 'CM'\n",
       "\\item 'Naïve'\n",
       "\\item 'SCM'\n",
       "\\item 'TE'\n",
       "\\item 'EM\\%'\n",
       "\\item 'CM\\%'\n",
       "\\item 'Naïve\\%'\n",
       "\\item 'SCM\\%'\n",
       "\\item 'TE\\%'\n",
       "\\item 'Naïve/TE'\n",
       "\\item 'N+CM+SCM/TE+EM'\n",
       "\\item 'PD-1'\n",
       "\\item 'PDL1'\n",
       "\\item 'LAG3'\n",
       "\\item 'TIM3'\n",
       "\\item 'CTLA4'\n",
       "\\item 'PD1\\%'\n",
       "\\item 'PDL1\\%'\n",
       "\\item 'LAG3\\%'\n",
       "\\item 'TIM3\\%'\n",
       "\\item 'CTLA4\\%'\n",
       "\\item 'Any NCR'\n",
       "\\item 'PD1 + LAG3 + TIM3'\n",
       "\\item 'cancergroup'\n",
       "\\item 'agegroup'\n",
       "\\item 'foldgroup'\n",
       "\\item 'Remission'\n",
       "\\item 'Relapse'\n",
       "\\item 'Transplant'\n",
       "\\item 'CART'\n",
       "\\item 'vital\\_status'\n",
       "\\item 'LOF'\n",
       "\\item 'cfDNA\\_TRB'\n",
       "\\item 'cfDNA\\_Reads'\n",
       "\\item 'cfDNA\\_CPKR'\n",
       "\\item 'cfDNA\\_Average\\_reads'\n",
       "\\item 'cfDNA\\_VMR'\n",
       "\\item 'cfDNA\\_Max\\_reads'\n",
       "\\item 'cfDNA\\_Singletons'\n",
       "\\item 'cfDNA\\_Doubletons'\n",
       "\\item 'cfDNA\\_qD'\n",
       "\\item 'cfDNA\\_Sample\\_Coverage'\n",
       "\\item 'cfDNA\\_observed\\_Richness'\n",
       "\\item 'cfDNA\\_estimated\\_Richness'\n",
       "\\item 'cfDNA\\_SE\\_Richeness'\n",
       "\\item 'cfDNA\\_observed\\_Shannon'\n",
       "\\item 'cfDNA\\_estimated\\_Shannon'\n",
       "\\item 'cfDNA\\_SE\\_Shannon'\n",
       "\\item 'cfDNA\\_observed\\_Simpson'\n",
       "\\item 'cfDNA\\_estimated\\_Simpson'\n",
       "\\item 'cfDNA\\_SE\\_Simpson'\n",
       "\\item 'cfDNA\\_basename'\n",
       "\\item 'cfDNA\\_file'\n",
       "\\item 'cfDNA\\_sampletype'\n",
       "\\item 'cfDNA\\_Group'\n",
       "\\item 'cfDNA\\_log10shann'\n",
       "\\item 'cfDNA\\_aveTiRP'\n",
       "\\item 'cfDNA\\_medTiRP'\n",
       "\\item 'cfDNA\\_V\\_PC1'\n",
       "\\item 'cfDNA\\_V\\_PC2'\n",
       "\\item 'cfDNA\\_V\\_PC3'\n",
       "\\item 'cfDNA\\_J\\_PC1'\n",
       "\\item 'cfDNA\\_J\\_PC2'\n",
       "\\item 'cfDNA\\_J\\_PC3'\n",
       "\\item 'cfDNA\\_samplename'\n",
       "\\item 'cfDNA\\_gliph\\_n'\n",
       "\\item 'cfDNA\\_CMV'\n",
       "\\item 'cfDNA\\_EBV'\n",
       "\\item 'cfDNA\\_HCV'\n",
       "\\item 'cfDNA\\_Flu'\n",
       "\\item 'cfDNA\\_hs'\n",
       "\\end{enumerate*}\n"
      ],
      "text/markdown": [
       "1. 'sample_id'\n",
       "2. 'Patient'\n",
       "3. 'cycle'\n",
       "4. 'FOLD'\n",
       "5. 'ATC'\n",
       "6. 'Age'\n",
       "7. 'Disease_type'\n",
       "8. 'TE_fold'\n",
       "9. 'CD3'\n",
       "10. 'EM'\n",
       "11. 'CM'\n",
       "12. 'Naïve'\n",
       "13. 'SCM'\n",
       "14. 'TE'\n",
       "15. 'EM%'\n",
       "16. 'CM%'\n",
       "17. 'Naïve%'\n",
       "18. 'SCM%'\n",
       "19. 'TE%'\n",
       "20. 'Naïve/TE'\n",
       "21. 'N+CM+SCM/TE+EM'\n",
       "22. 'PD-1'\n",
       "23. 'PDL1'\n",
       "24. 'LAG3'\n",
       "25. 'TIM3'\n",
       "26. 'CTLA4'\n",
       "27. 'PD1%'\n",
       "28. 'PDL1%'\n",
       "29. 'LAG3%'\n",
       "30. 'TIM3%'\n",
       "31. 'CTLA4%'\n",
       "32. 'Any NCR'\n",
       "33. 'PD1 + LAG3 + TIM3'\n",
       "34. 'cancergroup'\n",
       "35. 'agegroup'\n",
       "36. 'foldgroup'\n",
       "37. 'Remission'\n",
       "38. 'Relapse'\n",
       "39. 'Transplant'\n",
       "40. 'CART'\n",
       "41. 'vital_status'\n",
       "42. 'LOF'\n",
       "43. 'cfDNA_TRB'\n",
       "44. 'cfDNA_Reads'\n",
       "45. 'cfDNA_CPKR'\n",
       "46. 'cfDNA_Average_reads'\n",
       "47. 'cfDNA_VMR'\n",
       "48. 'cfDNA_Max_reads'\n",
       "49. 'cfDNA_Singletons'\n",
       "50. 'cfDNA_Doubletons'\n",
       "51. 'cfDNA_qD'\n",
       "52. 'cfDNA_Sample_Coverage'\n",
       "53. 'cfDNA_observed_Richness'\n",
       "54. 'cfDNA_estimated_Richness'\n",
       "55. 'cfDNA_SE_Richeness'\n",
       "56. 'cfDNA_observed_Shannon'\n",
       "57. 'cfDNA_estimated_Shannon'\n",
       "58. 'cfDNA_SE_Shannon'\n",
       "59. 'cfDNA_observed_Simpson'\n",
       "60. 'cfDNA_estimated_Simpson'\n",
       "61. 'cfDNA_SE_Simpson'\n",
       "62. 'cfDNA_basename'\n",
       "63. 'cfDNA_file'\n",
       "64. 'cfDNA_sampletype'\n",
       "65. 'cfDNA_Group'\n",
       "66. 'cfDNA_log10shann'\n",
       "67. 'cfDNA_aveTiRP'\n",
       "68. 'cfDNA_medTiRP'\n",
       "69. 'cfDNA_V_PC1'\n",
       "70. 'cfDNA_V_PC2'\n",
       "71. 'cfDNA_V_PC3'\n",
       "72. 'cfDNA_J_PC1'\n",
       "73. 'cfDNA_J_PC2'\n",
       "74. 'cfDNA_J_PC3'\n",
       "75. 'cfDNA_samplename'\n",
       "76. 'cfDNA_gliph_n'\n",
       "77. 'cfDNA_CMV'\n",
       "78. 'cfDNA_EBV'\n",
       "79. 'cfDNA_HCV'\n",
       "80. 'cfDNA_Flu'\n",
       "81. 'cfDNA_hs'\n",
       "\n",
       "\n"
      ],
      "text/plain": [
       " [1] \"sample_id\"                \"Patient\"                 \n",
       " [3] \"cycle\"                    \"FOLD\"                    \n",
       " [5] \"ATC\"                      \"Age\"                     \n",
       " [7] \"Disease_type\"             \"TE_fold\"                 \n",
       " [9] \"CD3\"                      \"EM\"                      \n",
       "[11] \"CM\"                       \"Naïve\"                   \n",
       "[13] \"SCM\"                      \"TE\"                      \n",
       "[15] \"EM%\"                      \"CM%\"                     \n",
       "[17] \"Naïve%\"                   \"SCM%\"                    \n",
       "[19] \"TE%\"                      \"Naïve/TE\"                \n",
       "[21] \"N+CM+SCM/TE+EM\"           \"PD-1\"                    \n",
       "[23] \"PDL1\"                     \"LAG3\"                    \n",
       "[25] \"TIM3\"                     \"CTLA4\"                   \n",
       "[27] \"PD1%\"                     \"PDL1%\"                   \n",
       "[29] \"LAG3%\"                    \"TIM3%\"                   \n",
       "[31] \"CTLA4%\"                   \"Any NCR\"                 \n",
       "[33] \"PD1 + LAG3 + TIM3\"        \"cancergroup\"             \n",
       "[35] \"agegroup\"                 \"foldgroup\"               \n",
       "[37] \"Remission\"                \"Relapse\"                 \n",
       "[39] \"Transplant\"               \"CART\"                    \n",
       "[41] \"vital_status\"             \"LOF\"                     \n",
       "[43] \"cfDNA_TRB\"                \"cfDNA_Reads\"             \n",
       "[45] \"cfDNA_CPKR\"               \"cfDNA_Average_reads\"     \n",
       "[47] \"cfDNA_VMR\"                \"cfDNA_Max_reads\"         \n",
       "[49] \"cfDNA_Singletons\"         \"cfDNA_Doubletons\"        \n",
       "[51] \"cfDNA_qD\"                 \"cfDNA_Sample_Coverage\"   \n",
       "[53] \"cfDNA_observed_Richness\"  \"cfDNA_estimated_Richness\"\n",
       "[55] \"cfDNA_SE_Richeness\"       \"cfDNA_observed_Shannon\"  \n",
       "[57] \"cfDNA_estimated_Shannon\"  \"cfDNA_SE_Shannon\"        \n",
       "[59] \"cfDNA_observed_Simpson\"   \"cfDNA_estimated_Simpson\" \n",
       "[61] \"cfDNA_SE_Simpson\"         \"cfDNA_basename\"          \n",
       "[63] \"cfDNA_file\"               \"cfDNA_sampletype\"        \n",
       "[65] \"cfDNA_Group\"              \"cfDNA_log10shann\"        \n",
       "[67] \"cfDNA_aveTiRP\"            \"cfDNA_medTiRP\"           \n",
       "[69] \"cfDNA_V_PC1\"              \"cfDNA_V_PC2\"             \n",
       "[71] \"cfDNA_V_PC3\"              \"cfDNA_J_PC1\"             \n",
       "[73] \"cfDNA_J_PC2\"              \"cfDNA_J_PC3\"             \n",
       "[75] \"cfDNA_samplename\"         \"cfDNA_gliph_n\"           \n",
       "[77] \"cfDNA_CMV\"                \"cfDNA_EBV\"               \n",
       "[79] \"cfDNA_HCV\"                \"cfDNA_Flu\"               \n",
       "[81] \"cfDNA_hs\"                "
      ]
     },
     "metadata": {},
     "output_type": "display_data"
    }
   ],
   "source": [
    "colnames(cfdna)"
   ]
  },
  {
   "cell_type": "markdown",
   "metadata": {},
   "source": [
    "# COmbine PBMC and cfDNA"
   ]
  },
  {
   "cell_type": "code",
   "execution_count": 155,
   "metadata": {
    "vscode": {
     "languageId": "r"
    }
   },
   "outputs": [],
   "source": [
    "sample_df <- pbmc"
   ]
  },
  {
   "cell_type": "code",
   "execution_count": 156,
   "metadata": {
    "vscode": {
     "languageId": "r"
    }
   },
   "outputs": [],
   "source": [
    "sample_df <- cbind(sample_df, cfdna[ match(sample_df$sample_id, cfdna$sample_id), 43:ncol(cfdna)])"
   ]
  },
  {
   "cell_type": "code",
   "execution_count": 157,
   "metadata": {
    "vscode": {
     "languageId": "r"
    }
   },
   "outputs": [
    {
     "data": {
      "text/html": [
       "<style>\n",
       ".list-inline {list-style: none; margin:0; padding: 0}\n",
       ".list-inline>li {display: inline-block}\n",
       ".list-inline>li:not(:last-child)::after {content: \"\\00b7\"; padding: 0 .5ex}\n",
       "</style>\n",
       "<ol class=list-inline><li>'sample_id'</li><li>'Patient'</li><li>'cycle'</li><li>'FOLD'</li><li>'ATC'</li><li>'Age'</li><li>'Disease_type'</li><li>'TE_fold'</li><li>'CD3'</li><li>'EM'</li><li>'CM'</li><li>'Naïve'</li><li>'SCM'</li><li>'TE'</li><li>'EM%'</li><li>'CM%'</li><li>'Naïve%'</li><li>'SCM%'</li><li>'TE%'</li><li>'Naïve/TE'</li><li>'N+CM+SCM/TE+EM'</li><li>'PD-1'</li><li>'PDL1'</li><li>'LAG3'</li><li>'TIM3'</li><li>'CTLA4'</li><li>'PD1%'</li><li>'PDL1%'</li><li>'LAG3%'</li><li>'TIM3%'</li><li>'CTLA4%'</li><li>'Any NCR'</li><li>'PD1 + LAG3 + TIM3'</li><li>'cancergroup'</li><li>'agegroup'</li><li>'foldgroup'</li><li>'Remission'</li><li>'Relapse'</li><li>'Transplant'</li><li>'CART'</li><li>'vital_status'</li><li>'LOF'</li><li>'TRB'</li><li>'Reads'</li><li>'CPKR'</li><li>'Average_reads'</li><li>'VMR'</li><li>'Max_reads'</li><li>'Singletons'</li><li>'Doubletons'</li><li>'qD'</li><li>'Sample_Coverage'</li><li>'observed_Richness'</li><li>'estimated_Richness'</li><li>'SE_Richeness'</li><li>'observed_Shannon'</li><li>'estimated_Shannon'</li><li>'SE_Shannon'</li><li>'observed_Simpson'</li><li>'estimated_Simpson'</li><li>'SE_Simpson'</li><li>'basename'</li><li>'file'</li><li>'sampletype'</li><li>'Group'</li><li>'log10shann'</li><li>'aveTiRP'</li><li>'medTiRP'</li><li>'HLA_PC1'</li><li>'HLA_PC2'</li><li>'HLA_PC3'</li><li>'V_PC1'</li><li>'V_PC2'</li><li>'V_PC3'</li><li>'J_PC1'</li><li>'J_PC2'</li><li>'J_PC3'</li><li>'samplename'</li><li>'gliph_n'</li><li>'CMV'</li><li>'EBV'</li><li>'HCV'</li><li>'Flu'</li><li>'hs'</li><li>'cfDNA_TRB'</li><li>'cfDNA_Reads'</li><li>'cfDNA_CPKR'</li><li>'cfDNA_Average_reads'</li><li>'cfDNA_VMR'</li><li>'cfDNA_Max_reads'</li><li>'cfDNA_Singletons'</li><li>'cfDNA_Doubletons'</li><li>'cfDNA_qD'</li><li>'cfDNA_Sample_Coverage'</li><li>'cfDNA_observed_Richness'</li><li>'cfDNA_estimated_Richness'</li><li>'cfDNA_SE_Richeness'</li><li>'cfDNA_observed_Shannon'</li><li>'cfDNA_estimated_Shannon'</li><li>'cfDNA_SE_Shannon'</li><li>'cfDNA_observed_Simpson'</li><li>'cfDNA_estimated_Simpson'</li><li>'cfDNA_SE_Simpson'</li><li>'cfDNA_basename'</li><li>'cfDNA_file'</li><li>'cfDNA_sampletype'</li><li>'cfDNA_Group'</li><li>'cfDNA_log10shann'</li><li>'cfDNA_aveTiRP'</li><li>'cfDNA_medTiRP'</li><li>'cfDNA_V_PC1'</li><li>'cfDNA_V_PC2'</li><li>'cfDNA_V_PC3'</li><li>'cfDNA_J_PC1'</li><li>'cfDNA_J_PC2'</li><li>'cfDNA_J_PC3'</li><li>'cfDNA_samplename'</li><li>'cfDNA_gliph_n'</li><li>'cfDNA_CMV'</li><li>'cfDNA_EBV'</li><li>'cfDNA_HCV'</li><li>'cfDNA_Flu'</li><li>'cfDNA_hs'</li></ol>\n"
      ],
      "text/latex": [
       "\\begin{enumerate*}\n",
       "\\item 'sample\\_id'\n",
       "\\item 'Patient'\n",
       "\\item 'cycle'\n",
       "\\item 'FOLD'\n",
       "\\item 'ATC'\n",
       "\\item 'Age'\n",
       "\\item 'Disease\\_type'\n",
       "\\item 'TE\\_fold'\n",
       "\\item 'CD3'\n",
       "\\item 'EM'\n",
       "\\item 'CM'\n",
       "\\item 'Naïve'\n",
       "\\item 'SCM'\n",
       "\\item 'TE'\n",
       "\\item 'EM\\%'\n",
       "\\item 'CM\\%'\n",
       "\\item 'Naïve\\%'\n",
       "\\item 'SCM\\%'\n",
       "\\item 'TE\\%'\n",
       "\\item 'Naïve/TE'\n",
       "\\item 'N+CM+SCM/TE+EM'\n",
       "\\item 'PD-1'\n",
       "\\item 'PDL1'\n",
       "\\item 'LAG3'\n",
       "\\item 'TIM3'\n",
       "\\item 'CTLA4'\n",
       "\\item 'PD1\\%'\n",
       "\\item 'PDL1\\%'\n",
       "\\item 'LAG3\\%'\n",
       "\\item 'TIM3\\%'\n",
       "\\item 'CTLA4\\%'\n",
       "\\item 'Any NCR'\n",
       "\\item 'PD1 + LAG3 + TIM3'\n",
       "\\item 'cancergroup'\n",
       "\\item 'agegroup'\n",
       "\\item 'foldgroup'\n",
       "\\item 'Remission'\n",
       "\\item 'Relapse'\n",
       "\\item 'Transplant'\n",
       "\\item 'CART'\n",
       "\\item 'vital\\_status'\n",
       "\\item 'LOF'\n",
       "\\item 'TRB'\n",
       "\\item 'Reads'\n",
       "\\item 'CPKR'\n",
       "\\item 'Average\\_reads'\n",
       "\\item 'VMR'\n",
       "\\item 'Max\\_reads'\n",
       "\\item 'Singletons'\n",
       "\\item 'Doubletons'\n",
       "\\item 'qD'\n",
       "\\item 'Sample\\_Coverage'\n",
       "\\item 'observed\\_Richness'\n",
       "\\item 'estimated\\_Richness'\n",
       "\\item 'SE\\_Richeness'\n",
       "\\item 'observed\\_Shannon'\n",
       "\\item 'estimated\\_Shannon'\n",
       "\\item 'SE\\_Shannon'\n",
       "\\item 'observed\\_Simpson'\n",
       "\\item 'estimated\\_Simpson'\n",
       "\\item 'SE\\_Simpson'\n",
       "\\item 'basename'\n",
       "\\item 'file'\n",
       "\\item 'sampletype'\n",
       "\\item 'Group'\n",
       "\\item 'log10shann'\n",
       "\\item 'aveTiRP'\n",
       "\\item 'medTiRP'\n",
       "\\item 'HLA\\_PC1'\n",
       "\\item 'HLA\\_PC2'\n",
       "\\item 'HLA\\_PC3'\n",
       "\\item 'V\\_PC1'\n",
       "\\item 'V\\_PC2'\n",
       "\\item 'V\\_PC3'\n",
       "\\item 'J\\_PC1'\n",
       "\\item 'J\\_PC2'\n",
       "\\item 'J\\_PC3'\n",
       "\\item 'samplename'\n",
       "\\item 'gliph\\_n'\n",
       "\\item 'CMV'\n",
       "\\item 'EBV'\n",
       "\\item 'HCV'\n",
       "\\item 'Flu'\n",
       "\\item 'hs'\n",
       "\\item 'cfDNA\\_TRB'\n",
       "\\item 'cfDNA\\_Reads'\n",
       "\\item 'cfDNA\\_CPKR'\n",
       "\\item 'cfDNA\\_Average\\_reads'\n",
       "\\item 'cfDNA\\_VMR'\n",
       "\\item 'cfDNA\\_Max\\_reads'\n",
       "\\item 'cfDNA\\_Singletons'\n",
       "\\item 'cfDNA\\_Doubletons'\n",
       "\\item 'cfDNA\\_qD'\n",
       "\\item 'cfDNA\\_Sample\\_Coverage'\n",
       "\\item 'cfDNA\\_observed\\_Richness'\n",
       "\\item 'cfDNA\\_estimated\\_Richness'\n",
       "\\item 'cfDNA\\_SE\\_Richeness'\n",
       "\\item 'cfDNA\\_observed\\_Shannon'\n",
       "\\item 'cfDNA\\_estimated\\_Shannon'\n",
       "\\item 'cfDNA\\_SE\\_Shannon'\n",
       "\\item 'cfDNA\\_observed\\_Simpson'\n",
       "\\item 'cfDNA\\_estimated\\_Simpson'\n",
       "\\item 'cfDNA\\_SE\\_Simpson'\n",
       "\\item 'cfDNA\\_basename'\n",
       "\\item 'cfDNA\\_file'\n",
       "\\item 'cfDNA\\_sampletype'\n",
       "\\item 'cfDNA\\_Group'\n",
       "\\item 'cfDNA\\_log10shann'\n",
       "\\item 'cfDNA\\_aveTiRP'\n",
       "\\item 'cfDNA\\_medTiRP'\n",
       "\\item 'cfDNA\\_V\\_PC1'\n",
       "\\item 'cfDNA\\_V\\_PC2'\n",
       "\\item 'cfDNA\\_V\\_PC3'\n",
       "\\item 'cfDNA\\_J\\_PC1'\n",
       "\\item 'cfDNA\\_J\\_PC2'\n",
       "\\item 'cfDNA\\_J\\_PC3'\n",
       "\\item 'cfDNA\\_samplename'\n",
       "\\item 'cfDNA\\_gliph\\_n'\n",
       "\\item 'cfDNA\\_CMV'\n",
       "\\item 'cfDNA\\_EBV'\n",
       "\\item 'cfDNA\\_HCV'\n",
       "\\item 'cfDNA\\_Flu'\n",
       "\\item 'cfDNA\\_hs'\n",
       "\\end{enumerate*}\n"
      ],
      "text/markdown": [
       "1. 'sample_id'\n",
       "2. 'Patient'\n",
       "3. 'cycle'\n",
       "4. 'FOLD'\n",
       "5. 'ATC'\n",
       "6. 'Age'\n",
       "7. 'Disease_type'\n",
       "8. 'TE_fold'\n",
       "9. 'CD3'\n",
       "10. 'EM'\n",
       "11. 'CM'\n",
       "12. 'Naïve'\n",
       "13. 'SCM'\n",
       "14. 'TE'\n",
       "15. 'EM%'\n",
       "16. 'CM%'\n",
       "17. 'Naïve%'\n",
       "18. 'SCM%'\n",
       "19. 'TE%'\n",
       "20. 'Naïve/TE'\n",
       "21. 'N+CM+SCM/TE+EM'\n",
       "22. 'PD-1'\n",
       "23. 'PDL1'\n",
       "24. 'LAG3'\n",
       "25. 'TIM3'\n",
       "26. 'CTLA4'\n",
       "27. 'PD1%'\n",
       "28. 'PDL1%'\n",
       "29. 'LAG3%'\n",
       "30. 'TIM3%'\n",
       "31. 'CTLA4%'\n",
       "32. 'Any NCR'\n",
       "33. 'PD1 + LAG3 + TIM3'\n",
       "34. 'cancergroup'\n",
       "35. 'agegroup'\n",
       "36. 'foldgroup'\n",
       "37. 'Remission'\n",
       "38. 'Relapse'\n",
       "39. 'Transplant'\n",
       "40. 'CART'\n",
       "41. 'vital_status'\n",
       "42. 'LOF'\n",
       "43. 'TRB'\n",
       "44. 'Reads'\n",
       "45. 'CPKR'\n",
       "46. 'Average_reads'\n",
       "47. 'VMR'\n",
       "48. 'Max_reads'\n",
       "49. 'Singletons'\n",
       "50. 'Doubletons'\n",
       "51. 'qD'\n",
       "52. 'Sample_Coverage'\n",
       "53. 'observed_Richness'\n",
       "54. 'estimated_Richness'\n",
       "55. 'SE_Richeness'\n",
       "56. 'observed_Shannon'\n",
       "57. 'estimated_Shannon'\n",
       "58. 'SE_Shannon'\n",
       "59. 'observed_Simpson'\n",
       "60. 'estimated_Simpson'\n",
       "61. 'SE_Simpson'\n",
       "62. 'basename'\n",
       "63. 'file'\n",
       "64. 'sampletype'\n",
       "65. 'Group'\n",
       "66. 'log10shann'\n",
       "67. 'aveTiRP'\n",
       "68. 'medTiRP'\n",
       "69. 'HLA_PC1'\n",
       "70. 'HLA_PC2'\n",
       "71. 'HLA_PC3'\n",
       "72. 'V_PC1'\n",
       "73. 'V_PC2'\n",
       "74. 'V_PC3'\n",
       "75. 'J_PC1'\n",
       "76. 'J_PC2'\n",
       "77. 'J_PC3'\n",
       "78. 'samplename'\n",
       "79. 'gliph_n'\n",
       "80. 'CMV'\n",
       "81. 'EBV'\n",
       "82. 'HCV'\n",
       "83. 'Flu'\n",
       "84. 'hs'\n",
       "85. 'cfDNA_TRB'\n",
       "86. 'cfDNA_Reads'\n",
       "87. 'cfDNA_CPKR'\n",
       "88. 'cfDNA_Average_reads'\n",
       "89. 'cfDNA_VMR'\n",
       "90. 'cfDNA_Max_reads'\n",
       "91. 'cfDNA_Singletons'\n",
       "92. 'cfDNA_Doubletons'\n",
       "93. 'cfDNA_qD'\n",
       "94. 'cfDNA_Sample_Coverage'\n",
       "95. 'cfDNA_observed_Richness'\n",
       "96. 'cfDNA_estimated_Richness'\n",
       "97. 'cfDNA_SE_Richeness'\n",
       "98. 'cfDNA_observed_Shannon'\n",
       "99. 'cfDNA_estimated_Shannon'\n",
       "100. 'cfDNA_SE_Shannon'\n",
       "101. 'cfDNA_observed_Simpson'\n",
       "102. 'cfDNA_estimated_Simpson'\n",
       "103. 'cfDNA_SE_Simpson'\n",
       "104. 'cfDNA_basename'\n",
       "105. 'cfDNA_file'\n",
       "106. 'cfDNA_sampletype'\n",
       "107. 'cfDNA_Group'\n",
       "108. 'cfDNA_log10shann'\n",
       "109. 'cfDNA_aveTiRP'\n",
       "110. 'cfDNA_medTiRP'\n",
       "111. 'cfDNA_V_PC1'\n",
       "112. 'cfDNA_V_PC2'\n",
       "113. 'cfDNA_V_PC3'\n",
       "114. 'cfDNA_J_PC1'\n",
       "115. 'cfDNA_J_PC2'\n",
       "116. 'cfDNA_J_PC3'\n",
       "117. 'cfDNA_samplename'\n",
       "118. 'cfDNA_gliph_n'\n",
       "119. 'cfDNA_CMV'\n",
       "120. 'cfDNA_EBV'\n",
       "121. 'cfDNA_HCV'\n",
       "122. 'cfDNA_Flu'\n",
       "123. 'cfDNA_hs'\n",
       "\n",
       "\n"
      ],
      "text/plain": [
       "  [1] \"sample_id\"                \"Patient\"                 \n",
       "  [3] \"cycle\"                    \"FOLD\"                    \n",
       "  [5] \"ATC\"                      \"Age\"                     \n",
       "  [7] \"Disease_type\"             \"TE_fold\"                 \n",
       "  [9] \"CD3\"                      \"EM\"                      \n",
       " [11] \"CM\"                       \"Naïve\"                   \n",
       " [13] \"SCM\"                      \"TE\"                      \n",
       " [15] \"EM%\"                      \"CM%\"                     \n",
       " [17] \"Naïve%\"                   \"SCM%\"                    \n",
       " [19] \"TE%\"                      \"Naïve/TE\"                \n",
       " [21] \"N+CM+SCM/TE+EM\"           \"PD-1\"                    \n",
       " [23] \"PDL1\"                     \"LAG3\"                    \n",
       " [25] \"TIM3\"                     \"CTLA4\"                   \n",
       " [27] \"PD1%\"                     \"PDL1%\"                   \n",
       " [29] \"LAG3%\"                    \"TIM3%\"                   \n",
       " [31] \"CTLA4%\"                   \"Any NCR\"                 \n",
       " [33] \"PD1 + LAG3 + TIM3\"        \"cancergroup\"             \n",
       " [35] \"agegroup\"                 \"foldgroup\"               \n",
       " [37] \"Remission\"                \"Relapse\"                 \n",
       " [39] \"Transplant\"               \"CART\"                    \n",
       " [41] \"vital_status\"             \"LOF\"                     \n",
       " [43] \"TRB\"                      \"Reads\"                   \n",
       " [45] \"CPKR\"                     \"Average_reads\"           \n",
       " [47] \"VMR\"                      \"Max_reads\"               \n",
       " [49] \"Singletons\"               \"Doubletons\"              \n",
       " [51] \"qD\"                       \"Sample_Coverage\"         \n",
       " [53] \"observed_Richness\"        \"estimated_Richness\"      \n",
       " [55] \"SE_Richeness\"             \"observed_Shannon\"        \n",
       " [57] \"estimated_Shannon\"        \"SE_Shannon\"              \n",
       " [59] \"observed_Simpson\"         \"estimated_Simpson\"       \n",
       " [61] \"SE_Simpson\"               \"basename\"                \n",
       " [63] \"file\"                     \"sampletype\"              \n",
       " [65] \"Group\"                    \"log10shann\"              \n",
       " [67] \"aveTiRP\"                  \"medTiRP\"                 \n",
       " [69] \"HLA_PC1\"                  \"HLA_PC2\"                 \n",
       " [71] \"HLA_PC3\"                  \"V_PC1\"                   \n",
       " [73] \"V_PC2\"                    \"V_PC3\"                   \n",
       " [75] \"J_PC1\"                    \"J_PC2\"                   \n",
       " [77] \"J_PC3\"                    \"samplename\"              \n",
       " [79] \"gliph_n\"                  \"CMV\"                     \n",
       " [81] \"EBV\"                      \"HCV\"                     \n",
       " [83] \"Flu\"                      \"hs\"                      \n",
       " [85] \"cfDNA_TRB\"                \"cfDNA_Reads\"             \n",
       " [87] \"cfDNA_CPKR\"               \"cfDNA_Average_reads\"     \n",
       " [89] \"cfDNA_VMR\"                \"cfDNA_Max_reads\"         \n",
       " [91] \"cfDNA_Singletons\"         \"cfDNA_Doubletons\"        \n",
       " [93] \"cfDNA_qD\"                 \"cfDNA_Sample_Coverage\"   \n",
       " [95] \"cfDNA_observed_Richness\"  \"cfDNA_estimated_Richness\"\n",
       " [97] \"cfDNA_SE_Richeness\"       \"cfDNA_observed_Shannon\"  \n",
       " [99] \"cfDNA_estimated_Shannon\"  \"cfDNA_SE_Shannon\"        \n",
       "[101] \"cfDNA_observed_Simpson\"   \"cfDNA_estimated_Simpson\" \n",
       "[103] \"cfDNA_SE_Simpson\"         \"cfDNA_basename\"          \n",
       "[105] \"cfDNA_file\"               \"cfDNA_sampletype\"        \n",
       "[107] \"cfDNA_Group\"              \"cfDNA_log10shann\"        \n",
       "[109] \"cfDNA_aveTiRP\"            \"cfDNA_medTiRP\"           \n",
       "[111] \"cfDNA_V_PC1\"              \"cfDNA_V_PC2\"             \n",
       "[113] \"cfDNA_V_PC3\"              \"cfDNA_J_PC1\"             \n",
       "[115] \"cfDNA_J_PC2\"              \"cfDNA_J_PC3\"             \n",
       "[117] \"cfDNA_samplename\"         \"cfDNA_gliph_n\"           \n",
       "[119] \"cfDNA_CMV\"                \"cfDNA_EBV\"               \n",
       "[121] \"cfDNA_HCV\"                \"cfDNA_Flu\"               \n",
       "[123] \"cfDNA_hs\"                "
      ]
     },
     "metadata": {},
     "output_type": "display_data"
    }
   ],
   "source": [
    "colnames(sample_df)"
   ]
  },
  {
   "cell_type": "code",
   "execution_count": 158,
   "metadata": {
    "vscode": {
     "languageId": "r"
    }
   },
   "outputs": [],
   "source": [
    "readr::write_rds(sample_df, paste0(datapath, \"int_sample_df.rds\"))"
   ]
  },
  {
   "cell_type": "code",
   "execution_count": null,
   "metadata": {
    "vscode": {
     "languageId": "r"
    }
   },
   "outputs": [],
   "source": []
  },
  {
   "cell_type": "code",
   "execution_count": null,
   "metadata": {
    "vscode": {
     "languageId": "r"
    }
   },
   "outputs": [],
   "source": []
  },
  {
   "cell_type": "code",
   "execution_count": null,
   "metadata": {
    "vscode": {
     "languageId": "r"
    }
   },
   "outputs": [],
   "source": []
  },
  {
   "cell_type": "code",
   "execution_count": null,
   "metadata": {
    "vscode": {
     "languageId": "r"
    }
   },
   "outputs": [],
   "source": []
  },
  {
   "cell_type": "code",
   "execution_count": null,
   "metadata": {
    "vscode": {
     "languageId": "r"
    }
   },
   "outputs": [],
   "source": []
  },
  {
   "cell_type": "code",
   "execution_count": null,
   "metadata": {
    "vscode": {
     "languageId": "r"
    }
   },
   "outputs": [],
   "source": []
  },
  {
   "cell_type": "code",
   "execution_count": null,
   "metadata": {
    "vscode": {
     "languageId": "r"
    }
   },
   "outputs": [],
   "source": []
  },
  {
   "cell_type": "code",
   "execution_count": null,
   "metadata": {
    "vscode": {
     "languageId": "r"
    }
   },
   "outputs": [],
   "source": []
  }
 ],
 "metadata": {
  "kernelspec": {
   "display_name": "R 4.0",
   "language": "R",
   "name": "ir40"
  },
  "language_info": {
   "codemirror_mode": "r",
   "file_extension": ".r",
   "mimetype": "text/x-r-source",
   "name": "R",
   "pygments_lexer": "r",
   "version": "4.2.2"
  },
  "toc": {
   "base_numbering": 1,
   "nav_menu": {},
   "number_sections": false,
   "sideBar": true,
   "skip_h1_title": false,
   "title_cell": "Table of Contents",
   "title_sidebar": "Contents",
   "toc_cell": true,
   "toc_position": {
    "height": "calc(100% - 180px)",
    "left": "10px",
    "top": "150px",
    "width": "186.15px"
   },
   "toc_section_display": true,
   "toc_window_display": true
  }
 },
 "nbformat": 4,
 "nbformat_minor": 2
}

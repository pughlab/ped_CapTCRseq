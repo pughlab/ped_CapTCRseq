{
 "cells": [
  {
   "cell_type": "code",
   "execution_count": 1,
   "metadata": {
    "vscode": {
     "languageId": "r"
    }
   },
   "outputs": [
    {
     "data": {
      "text/html": [
       "'en_US.UTF-8/en_US.UTF-8/en_US.UTF-8/C/en_US.UTF-8/C'"
      ],
      "text/latex": [
       "'en\\_US.UTF-8/en\\_US.UTF-8/en\\_US.UTF-8/C/en\\_US.UTF-8/C'"
      ],
      "text/markdown": [
       "'en_US.UTF-8/en_US.UTF-8/en_US.UTF-8/C/en_US.UTF-8/C'"
      ],
      "text/plain": [
       "[1] \"en_US.UTF-8/en_US.UTF-8/en_US.UTF-8/C/en_US.UTF-8/C\""
      ]
     },
     "metadata": {},
     "output_type": "display_data"
    }
   ],
   "source": [
    "Sys.setlocale(category = \"LC_ALL\", locale = \"en_US.UTF-8\")"
   ]
  },
  {
   "attachments": {},
   "cell_type": "markdown",
   "metadata": {},
   "source": [
    "# Dependencies"
   ]
  },
  {
   "cell_type": "code",
   "execution_count": 2,
   "metadata": {
    "vscode": {
     "languageId": "r"
    }
   },
   "outputs": [],
   "source": [
    "pacman::p_load(dplyr, ggplot2, ggbeeswarm, ggpubr, ggsignif, cowplot, lsmeans)"
   ]
  },
  {
   "attachments": {},
   "cell_type": "markdown",
   "metadata": {},
   "source": [
    "# Functions"
   ]
  },
  {
   "cell_type": "code",
   "execution_count": 1,
   "metadata": {
    "vscode": {
     "languageId": "r"
    }
   },
   "outputs": [],
   "source": [
    "source(\"/Users/anabbi/git/ped_CapTCRseq/R/ggplot2_theme.R\")\n",
    "source(\"/Users/anabbi/git/ped_CapTCRseq/R/color_schemes.R\")\n",
    "source(\"/Users/anabbi/git/ped_CapTCRseq/R/Misc_functions.R\")"
   ]
  },
  {
   "cell_type": "code",
   "execution_count": 5,
   "metadata": {
    "vscode": {
     "languageId": "r"
    }
   },
   "outputs": [],
   "source": [
    "lsmeans_df.fx <- function(df, mycols, cancergrp) {\n",
    "    grp_df <- df[df$cancergroup == cancergrp, ]\n",
    "    myformula <- as.formula(paste0(mycols[1], \" ~ cycle + Age + (1 | Patient)\"))\n",
    "    myfit <- lme4::lmer(myformula, data = grp_df) # keep cycle as categorical\n",
    "    lsm <- lsmeans(myfit, \"cycle\")\n",
    "    mylsm_grp <- summary(lsm)\n",
    "    mylsm_grp$cancergroup <- cancergrp # has to be same as original df\n",
    "    mylsm_grp$marker <- gsub(\"`\", \"\", mycols[1])\n",
    "\n",
    "    myctrt_grp <- as.data.frame(lsmeans::contrast(lsm, \"trt.vs.ctrl\", ref = \"X01\"))\n",
    "    myctrt_grp$cancergroup <- cancergrp\n",
    "    myctrt_grp$marker <- gsub(\"`\", \"\", mycols[1])\n",
    "\n",
    "    for (i in mycols[2:length(mycols)]) {\n",
    "        print(i)\n",
    "        myformula <- as.formula(paste0(i, \" ~ cycle + Age + (1 | Patient)\"))\n",
    "        myfit <- lme4::lmer(myformula, data = grp_df)\n",
    "        lsm <- lsmeans(myfit, \"cycle\")\n",
    "        myctrt <- as.data.frame(lsmeans::contrast(lsm, \"trt.vs.ctrl\", ref = \"X01\"))\n",
    "        myctrt$cancergroup <- cancergrp\n",
    "        myctrt$marker <- gsub(\"`\", \"\", i)\n",
    "        myctrt_grp <- rbind(myctrt_grp, myctrt)\n",
    "\n",
    "        mylsm <- summary(lsm)\n",
    "        mylsm$cancergroup <- cancergrp\n",
    "        mylsm$marker <- gsub(\"`\", \"\", i)\n",
    "        mylsm_grp <- rbind(mylsm_grp, mylsm)\n",
    "    }\n",
    "\n",
    "    mylsm_grp$Cycle <- as.character(mylsm_grp$cycle)\n",
    "    mylsm_grp$Cycle <- as.numeric(gsub(\"X0\", \"\", mylsm_grp$Cycle))\n",
    "\n",
    "    myctrt_grp$Cycle <- as.character(gsub(\" - X01\", \"\", myctrt_grp$contrast))\n",
    "    myctrt_grp$Cycle <- gsub(\"X0\", \"\", myctrt_grp$Cycle)\n",
    "\n",
    "    mylsm_grp$marker <- factor(mylsm_grp$marker, levels = gsub(\"`\", \"\", mycols))\n",
    "    myctrt_grp$marker <- factor(myctrt_grp$marker, levels = gsub(\"`\", \"\", mycols))\n",
    "\n",
    "    return(list(mylsm_grp, myctrt_grp))\n",
    "}\n"
   ]
  },
  {
   "cell_type": "code",
   "execution_count": 6,
   "metadata": {
    "vscode": {
     "languageId": "r"
    }
   },
   "outputs": [],
   "source": [
    "set.seed(111)\n",
    "baseplot.fx <- function(mydf, x, y, fill, clr, colpal) {\n",
    "    p1 <- ggplot(mydf, aes(x = factor(eval(parse(text = x))), y = eval(parse(text = y)), color = eval(parse(text = clr)), fill = eval(parse(text = fill)))) +\n",
    "        geom_jitter(width = 0.1, height = 0.1, alpha = 0.2) +\n",
    "        geom_boxplot(outlier.shape = NA, alpha = 0.1) +\n",
    "        # geom_smooth(method = \"loess\", se = TRUE, aes(group = 1), color = \"black\", fill = \"grey\") +\n",
    "        myplot +\n",
    "        myaxis +\n",
    "        scale_color_manual(values = colpal) +\n",
    "        scale_fill_manual(values = colpal) +\n",
    "        theme(legend.position = \"none\") +\n",
    "        labs(x = x, y = gsub(\"`\", \"\", y))\n",
    "    return(p1)\n",
    "}\n"
   ]
  },
  {
   "cell_type": "code",
   "execution_count": 7,
   "metadata": {
    "vscode": {
     "languageId": "r"
    }
   },
   "outputs": [],
   "source": [
    "baseplot_lsm_sig <- function(df, mylist, sig_df, ypos, marker) {\n",
    "    p <- baseplot.fx(mydf = df, x = \"Cycle\", y = \"value\", fill = \"cancergroup\", clr = \"cancergroup\", colpal = group_col) +\n",
    "        geom_errorbar(data = mylist[[1]], aes(x = Cycle, y = lsmean, ymin = lower.CL, ymax = upper.CL), color = \"black\", width = 0.2) +\n",
    "        geom_point(data = mylist[[1]], aes(x = Cycle, y = lsmean), color = \"black\", shape = 18, size = 3) +\n",
    "        geom_signif(\n",
    "            data = sig_df,\n",
    "            aes(xmin = \"1\", xmax = Cycle, annotations = p.val, y_position = ypos),\n",
    "            textsize = 3, vjust = -0.2, color = \"black\",\n",
    "            manual = TRUE\n",
    "        ) +\n",
    "        facet_wrap(~marker, nrow = 1, scales = \"free_x\", strip.position = \"top\") +\n",
    "        theme(\n",
    "            axis.title.x = element_blank(),\n",
    "            legend.position = \"none\",\n",
    "            strip.background.x = element_blank(),\n",
    "            strip.placement = \"outside\"\n",
    "        )\n",
    "\n",
    "    if (marker == \"tcr\") {\n",
    "        mybreaks <- c(1, 10, 100, 500, 1000, 1500)\n",
    "        return(p + annotation_logticks(sides = \"l\") + scale_y_continuous(breaks = log10(mybreaks), labels = mybreaks))\n",
    "    } else {\n",
    "        return(p + scale_y_continuous(breaks = c(0, 25, 50, 75, 100)) + coord_cartesian(ylim = c(0, 100)))\n",
    "    } \n",
    "}\n"
   ]
  },
  {
   "cell_type": "code",
   "execution_count": 8,
   "metadata": {
    "vscode": {
     "languageId": "r"
    }
   },
   "outputs": [],
   "source": [
    "# baseplot_smooth.fx <- function(mydf, x, y, fill, clr, colpal) {\n",
    "#     p1 <- ggplot(mydf, aes(x = factor(eval(parse(text = x))), y = eval(parse(text = y)), color = eval(parse(text = clr)), fill = eval(parse(text = fill)))) +\n",
    "#         geom_point() +\n",
    "#         geom_boxplot(outlier.shape = NA, alpha = 0.1) +\n",
    "#         # geom_smooth(method = \"loess\", se = TRUE, aes(group = 1), color = \"black\", fill = \"grey\") +\n",
    "#         myplot +\n",
    "#         myaxis +\n",
    "#         facet_wrap(~cancergroup) +\n",
    "#         scale_color_manual(values = colpal) +\n",
    "#         scale_fill_manual(values = colpal) +\n",
    "#         theme(legend.position = \"none\") +\n",
    "#         labs(x = x, y = gsub(\"`\", \"\", y) )\n",
    "#     return(p1)\n",
    "# }\n"
   ]
  },
  {
   "cell_type": "code",
   "execution_count": 9,
   "metadata": {
    "vscode": {
     "languageId": "r"
    }
   },
   "outputs": [],
   "source": [
    "# basespiderplot.fx <- function(mydf, varx,vary, clrby, colpal) {\n",
    "\n",
    "#     p0 <- ggplot(\n",
    "#         mydf,\n",
    "#         aes(x = eval(parse(text = varx)), y = eval(parse(text = vary)))\n",
    "#     ) +\n",
    "#         geom_point(aes(color = eval(parse(text = clrby))), cex = 2) +\n",
    "#         geom_line(aes(group = Patient, color = eval(parse(text = clrby)))) +\n",
    "#         scale_color_manual(values = colpal) +\n",
    "#         myplot +\n",
    "#         myaxis +\n",
    "#         theme(\n",
    "#             axis.text.x = element_text(angle = 45, hjust = 1),\n",
    "#             axis.title.x = element_blank()\n",
    "#         )\n",
    "#     return(p0)\n",
    "# }\n"
   ]
  },
  {
   "attachments": {},
   "cell_type": "markdown",
   "metadata": {},
   "source": [
    "# Paths"
   ]
  },
  {
   "cell_type": "code",
   "execution_count": 10,
   "metadata": {
    "vscode": {
     "languageId": "r"
    }
   },
   "outputs": [],
   "source": [
    "datapath <- \"/Users/anabbi/OneDrive - UHN/Documents/INTERCEPT/Data/\"\n",
    "plotpath <- \"/Users/anabbi/OneDrive - UHN/Documents/INTERCEPT/Plots/\"\n",
    "manifestpath <- \"/Users/anabbi/OneDrive - UHN/Documents/INTERCEPT/Manifests/\"\n",
    "gitpath <- \"/Users/anabbi/git/ped_CapTCRseq/\""
   ]
  },
  {
   "cell_type": "code",
   "execution_count": 11,
   "metadata": {
    "vscode": {
     "languageId": "r"
    }
   },
   "outputs": [],
   "source": [
    "h4hpath <- \"/Users/anabbi/Desktop/H4H/INTERCEPT/\""
   ]
  },
  {
   "attachments": {},
   "cell_type": "markdown",
   "metadata": {},
   "source": [
    "# Main"
   ]
  },
  {
   "cell_type": "code",
   "execution_count": 12,
   "metadata": {
    "vscode": {
     "languageId": "r"
    }
   },
   "outputs": [],
   "source": [
    "meta_div <- readr::read_rds(paste0(datapath, \"capTCRseq/meta_div_goodsamples.rds\"))"
   ]
  },
  {
   "cell_type": "code",
   "execution_count": 13,
   "metadata": {
    "vscode": {
     "languageId": "r"
    }
   },
   "outputs": [],
   "source": [
    "meta_div <- meta_div[ meta_div$cancergroup != \"Normal\", ]\n",
    "meta_div <- meta_div[ meta_div$cancergroup != \"LFS\", ]"
   ]
  },
  {
   "cell_type": "code",
   "execution_count": 14,
   "metadata": {
    "vscode": {
     "languageId": "r"
    }
   },
   "outputs": [
    {
     "data": {
      "text/plain": [
       "\n",
       "           Leukemia            Lymphoma        Solid tumors T-cell malignancies \n",
       "                370                 138                 274                  44 "
      ]
     },
     "metadata": {},
     "output_type": "display_data"
    }
   ],
   "source": [
    "table(meta_div$cancergroup)"
   ]
  },
  {
   "cell_type": "code",
   "execution_count": 15,
   "metadata": {
    "vscode": {
     "languageId": "r"
    }
   },
   "outputs": [],
   "source": [
    "meta_div$Cycle <- gsub(\"X0\", \"\", meta_div$cycle)\n",
    "meta_div$Cycle <- as.numeric(meta_div$Cycle)"
   ]
  },
  {
   "cell_type": "code",
   "execution_count": 16,
   "metadata": {
    "vscode": {
     "languageId": "r"
    }
   },
   "outputs": [],
   "source": [
    "cfdna <- meta_div[ which(meta_div$sampletype == \"cfDNA\"),]"
   ]
  },
  {
   "cell_type": "code",
   "execution_count": 17,
   "metadata": {
    "vscode": {
     "languageId": "r"
    }
   },
   "outputs": [],
   "source": [
    "pbmc_tcr <- meta_div[ meta_div$sampletype == \"PBMC\" & !is.na(meta_div$TRB),]"
   ]
  },
  {
   "cell_type": "code",
   "execution_count": 18,
   "metadata": {
    "vscode": {
     "languageId": "r"
    }
   },
   "outputs": [],
   "source": [
    "pbmc_flow <- meta_div[ meta_div$sampletype == \"PBMC\" & !is.na(meta_div$CD3),]\n",
    "pbmc_flow <- pbmc_flow[ pbmc_flow$CD3 > 0,]"
   ]
  },
  {
   "cell_type": "markdown",
   "metadata": {},
   "source": [
    "# lsmeans"
   ]
  },
  {
   "cell_type": "code",
   "execution_count": 19,
   "metadata": {
    "vscode": {
     "languageId": "r"
    }
   },
   "outputs": [],
   "source": [
    "pbmc_flow_m <- tidyr::pivot_longer(pbmc_flow, all_of(c(\"Naïve%\", \"SCM%\", \"CM%\", \"EM%\", \"TE%\")), names_to = \"marker\", values_to = \"value\")\n",
    "pbmc_ncr_m <- tidyr::pivot_longer(pbmc_flow, all_of(c(\"LAG3%\", \"TIM3%\", \"PD1%\")), names_to = \"marker\", values_to = \"value\")"
   ]
  },
  {
   "cell_type": "code",
   "execution_count": 20,
   "metadata": {
    "vscode": {
     "languageId": "r"
    }
   },
   "outputs": [],
   "source": [
    "pbmc_tcr$marker <- \"log10shann\"\n",
    "pbmc_tcr$value <- pbmc_tcr$log10shann"
   ]
  },
  {
   "cell_type": "markdown",
   "metadata": {},
   "source": [
    "Plot"
   ]
  },
  {
   "cell_type": "code",
   "execution_count": 21,
   "metadata": {
    "vscode": {
     "languageId": "r"
    }
   },
   "outputs": [],
   "source": [
    "myfloworder <- c(\"Naïve%\", \"SCM%\", \"CM%\", \"EM%\", \"TE%\")\n",
    "myncrorder <- c(\"PD1%\", \"LAG3%\", \"TIM3%\")"
   ]
  },
  {
   "cell_type": "code",
   "execution_count": 22,
   "metadata": {
    "vscode": {
     "languageId": "r"
    }
   },
   "outputs": [],
   "source": [
    "pbmc_flow_m$marker <- factor(pbmc_flow_m$marker, levels = myfloworder)\n",
    "pbmc_ncr_m$marker <- factor(pbmc_ncr_m$marker, levels = myncrorder)"
   ]
  },
  {
   "cell_type": "markdown",
   "metadata": {},
   "source": [
    "Leu"
   ]
  },
  {
   "cell_type": "code",
   "execution_count": 23,
   "metadata": {
    "vscode": {
     "languageId": "r"
    }
   },
   "outputs": [],
   "source": [
    "cancergrp <- \"Leukemia\"\n",
    "\n",
    "grp_df <- pbmc_tcr[ pbmc_tcr$cancergroup == cancergrp,]\n",
    "myformula <- as.formula(paste0( \"log10shann\", \" ~ cycle + Age + (1 | Patient)\"))\n",
    "myfit <- lme4::lmer( myformula, data= grp_df) # keep cycle as categorical\n",
    "lsm <- lsmeans(myfit, \"cycle\")\n",
    "mylsm_grp <- summary(lsm)\n",
    "mylsm_grp$cancergroup <- cancergrp # has to be same as original df\n",
    "mylsm_grp$marker <- \"log10shann\"\n",
    "\n",
    "myctrt_grp <- as.data.frame(lsmeans::contrast(lsm, \"trt.vs.ctrl\", ref = \"X01\"))\n",
    "myctrt_grp$cancergroup <- cancergrp\n",
    "myctrt_grp$marker <- \"log10shann\"\n",
    "\n",
    "mylsm_grp$Cycle <- as.character(mylsm_grp$cycle)\n",
    "mylsm_grp$Cycle <- as.numeric(gsub(\"X0\", \"\", mylsm_grp$Cycle))\n",
    "\n",
    "myctrt_grp$Cycle <- as.character(gsub(\" - X01\", \"\", myctrt_grp$contrast))\n",
    "myctrt_grp$Cycle <- gsub(\"X0\", \"\", myctrt_grp$Cycle)\n",
    "\n",
    "leu_tcr <- list(mylsm_grp, myctrt_grp)"
   ]
  },
  {
   "cell_type": "code",
   "execution_count": 24,
   "metadata": {
    "vscode": {
     "languageId": "r"
    }
   },
   "outputs": [
    {
     "name": "stderr",
     "output_type": "stream",
     "text": [
      "boundary (singular) fit: see help('isSingular')\n",
      "\n"
     ]
    },
    {
     "name": "stdout",
     "output_type": "stream",
     "text": [
      "[1] \"`SCM%`\"\n"
     ]
    },
    {
     "name": "stderr",
     "output_type": "stream",
     "text": [
      "boundary (singular) fit: see help('isSingular')\n",
      "\n"
     ]
    },
    {
     "name": "stdout",
     "output_type": "stream",
     "text": [
      "[1] \"`CM%`\"\n",
      "[1] \"`EM%`\"\n"
     ]
    },
    {
     "name": "stderr",
     "output_type": "stream",
     "text": [
      "boundary (singular) fit: see help('isSingular')\n",
      "\n"
     ]
    },
    {
     "name": "stdout",
     "output_type": "stream",
     "text": [
      "[1] \"`TE%`\"\n",
      "[1] \"`TIM3%`\"\n",
      "[1] \"`PD1%`\"\n"
     ]
    }
   ],
   "source": [
    "leu_flow <- lsmeans_df.fx(pbmc_flow, c(\"`Naïve%`\", \"`SCM%`\", \"`CM%`\", \"`EM%`\", \"`TE%`\") ,\"Leukemia\")\n",
    "leu_ncr <- lsmeans_df.fx(pbmc_flow, c(\"`LAG3%`\", \"`TIM3%`\", \"`PD1%`\") ,\"Leukemia\")"
   ]
  },
  {
   "cell_type": "code",
   "execution_count": 25,
   "metadata": {
    "vscode": {
     "languageId": "r"
    }
   },
   "outputs": [],
   "source": [
    "mysig_flow <- leu_flow[[2]]\n",
    "mysig_flow <- mysig_flow[ mysig_flow$p.value < 0.05,]\n",
    "mysig_flow$p.val <- sapply(mysig_flow$p.value, function(x) round_and_format(x) )"
   ]
  },
  {
   "cell_type": "code",
   "execution_count": 26,
   "metadata": {
    "vscode": {
     "languageId": "r"
    }
   },
   "outputs": [],
   "source": [
    "mysig_ncr <- leu_ncr[[2]]\n",
    "mysig_ncr <- mysig_ncr[ mysig_ncr$p.value < 0.05,]\n",
    "mysig_ncr$p.val <- sapply(mysig_ncr$p.value, function(x) round_and_format(x) )"
   ]
  },
  {
   "cell_type": "code",
   "execution_count": 27,
   "metadata": {
    "vscode": {
     "languageId": "r"
    }
   },
   "outputs": [],
   "source": [
    "mysig_tcr <- leu_tcr[[2]]\n",
    "mysig_tcr <- mysig_tcr[ mysig_tcr$p.value < 0.05,]\n",
    "mysig_tcr$p.val <- sapply(mysig_tcr$p.value, function(x) round_and_format(x) )"
   ]
  },
  {
   "cell_type": "code",
   "execution_count": 28,
   "metadata": {
    "vscode": {
     "languageId": "r"
    }
   },
   "outputs": [
    {
     "name": "stderr",
     "output_type": "stream",
     "text": [
      "Warning message in geom_signif(data = sig_df, aes(xmin = \"1\", xmax = Cycle, annotations = p.val, :\n",
      "“\u001b[1m\u001b[22mIgnoring unknown aesthetics: \u001b[32mxmin\u001b[39m, \u001b[32mxmax\u001b[39m, \u001b[32mannotations\u001b[39m, and \u001b[32my_position\u001b[39m”\n"
     ]
    }
   ],
   "source": [
    "leu_tcr_p <- baseplot_lsm_sig( pbmc_tcr[ pbmc_tcr$cancergroup == \"Leukemia\", ], leu_tcr, mysig_tcr, 3.2, \"tcr\")"
   ]
  },
  {
   "cell_type": "code",
   "execution_count": 29,
   "metadata": {
    "vscode": {
     "languageId": "r"
    }
   },
   "outputs": [
    {
     "data": {
      "image/png": "[encoded data removed]",
      "text/plain": [
       "plot without title"
      ]
     },
     "metadata": {
      "image/png": {
       "height": 420,
       "width": 420
      }
     },
     "output_type": "display_data"
    }
   ],
   "source": [
    "leu_tcr_p"
   ]
  },
  {
   "cell_type": "code",
   "execution_count": 30,
   "metadata": {
    "vscode": {
     "languageId": "r"
    }
   },
   "outputs": [
    {
     "name": "stderr",
     "output_type": "stream",
     "text": [
      "Warning message in geom_signif(data = sig_df, aes(xmin = \"1\", xmax = Cycle, annotations = p.val, :\n",
      "“\u001b[1m\u001b[22mIgnoring unknown aesthetics: \u001b[32mxmin\u001b[39m, \u001b[32mxmax\u001b[39m, \u001b[32mannotations\u001b[39m, and \u001b[32my_position\u001b[39m”\n",
      "Warning message in geom_signif(data = sig_df, aes(xmin = \"1\", xmax = Cycle, annotations = p.val, :\n",
      "“\u001b[1m\u001b[22mIgnoring unknown aesthetics: \u001b[32mxmin\u001b[39m, \u001b[32mxmax\u001b[39m, \u001b[32mannotations\u001b[39m, and \u001b[32my_position\u001b[39m”\n"
     ]
    }
   ],
   "source": [
    "leu_flow_p <- baseplot_lsm_sig( pbmc_flow_m[ pbmc_flow_m$cancergroup == \"Leukemia\", ], leu_flow, mysig_flow, c(80,90), \"flow\")\n",
    "leu_ncr_p <- baseplot_lsm_sig( pbmc_ncr_m[ pbmc_ncr_m$cancergroup == \"Leukemia\", ], leu_ncr, mysig_ncr, c(80,90), \"ncr\")"
   ]
  },
  {
   "cell_type": "code",
   "execution_count": 31,
   "metadata": {
    "vscode": {
     "languageId": "r"
    }
   },
   "outputs": [
    {
     "name": "stderr",
     "output_type": "stream",
     "text": [
      "Warning message:\n",
      "“\u001b[1m\u001b[22mRemoved 11 rows containing non-finite values (`stat_boxplot()`).”\n",
      "Warning message:\n",
      "“\u001b[1m\u001b[22mRemoved 11 rows containing missing values (`geom_point()`).”\n"
     ]
    },
    {
     "data": {
      "image/png": "[encoded data removed]",
      "text/plain": [
       "plot without title"
      ]
     },
     "metadata": {
      "image/png": {
       "height": 420,
       "width": 420
      }
     },
     "output_type": "display_data"
    }
   ],
   "source": [
    "leu_ncr_p"
   ]
  },
  {
   "cell_type": "code",
   "execution_count": 32,
   "metadata": {
    "vscode": {
     "languageId": "r"
    }
   },
   "outputs": [
    {
     "name": "stderr",
     "output_type": "stream",
     "text": [
      "Warning message:\n",
      "“\u001b[1m\u001b[22mRemoved 11 rows containing non-finite values (`stat_boxplot()`).”\n",
      "Warning message:\n",
      "“\u001b[1m\u001b[22mRemoved 11 rows containing missing values (`geom_point()`).”\n"
     ]
    },
    {
     "data": {
      "text/html": [
       "<strong>pdf:</strong> 2"
      ],
      "text/latex": [
       "\\textbf{pdf:} 2"
      ],
      "text/markdown": [
       "**pdf:** 2"
      ],
      "text/plain": [
       "pdf \n",
       "  2 "
      ]
     },
     "metadata": {},
     "output_type": "display_data"
    }
   ],
   "source": [
    "pdf(paste0(plotpath, \"p_leu_lsmeans.pdf\"), width = 12, height = 3)\n",
    "cowplot::plot_grid(leu_flow_p + ylab(\"% T-cell subset\"),\n",
    "    leu_ncr_p + ylab(\"% Negative Checkpoint Marker\"),\n",
    "    leu_tcr_p + ylab(\"TCR diversity (log10)\"),\n",
    "    rel_widths = c(0.5, 0.3, 0.2), nrow = 1, ncol = 3\n",
    ")\n",
    "dev.off()\n"
   ]
  },
  {
   "cell_type": "code",
   "execution_count": 33,
   "metadata": {
    "vscode": {
     "languageId": "r"
    }
   },
   "outputs": [
    {
     "data": {
      "text/html": [
       "<style>\n",
       ".dl-inline {width: auto; margin:0; padding: 0}\n",
       ".dl-inline>dt, .dl-inline>dd {float: none; width: auto; display: inline-block}\n",
       ".dl-inline>dt::after {content: \":\\0020\"; padding-right: .5ex}\n",
       ".dl-inline>dt:not(:first-of-type) {padding-left: .5ex}\n",
       "</style><dl class=dl-inline><dt>X01</dt><dd>4.27787934186472</dd><dt>X02</dt><dd>6.8953051569401</dd><dt>X03</dt><dd>5.28973956180239</dd><dt>X04</dt><dd>12.7541589648799</dd><dt>X05</dt><dd>19.620253164557</dd></dl>\n"
      ],
      "text/latex": [
       "\\begin{description*}\n",
       "\\item[X01] 4.27787934186472\n",
       "\\item[X02] 6.8953051569401\n",
       "\\item[X03] 5.28973956180239\n",
       "\\item[X04] 12.7541589648799\n",
       "\\item[X05] 19.620253164557\n",
       "\\end{description*}\n"
      ],
      "text/markdown": [
       "X01\n",
       ":   4.27787934186472X02\n",
       ":   6.8953051569401X03\n",
       ":   5.28973956180239X04\n",
       ":   12.7541589648799X05\n",
       ":   19.620253164557\n",
       "\n"
      ],
      "text/plain": [
       "      X01       X02       X03       X04       X05 \n",
       " 4.277879  6.895305  5.289740 12.754159 19.620253 "
      ]
     },
     "metadata": {},
     "output_type": "display_data"
    }
   ],
   "source": [
    "tapply(pbmc_flow$`PD1%`[ pbmc_flow$cancergroup == \"Leukemia\"], pbmc_flow$cycle[ pbmc_flow$cancergroup == \"Leukemia\"], median, na.rm = TRUE)"
   ]
  },
  {
   "cell_type": "markdown",
   "metadata": {},
   "source": [
    "Solid"
   ]
  },
  {
   "cell_type": "code",
   "execution_count": 58,
   "metadata": {
    "vscode": {
     "languageId": "r"
    }
   },
   "outputs": [],
   "source": [
    "cancergrp <- \"Solid tumors\"\n",
    "\n",
    "grp_df <- pbmc_tcr[ pbmc_tcr$cancergroup == cancergrp,]\n",
    "myformula <- as.formula(paste0( \"log10shann\", \" ~ cycle + Age + (1 | Patient)\"))\n",
    "myfit <- lme4::lmer( myformula, data= grp_df) # keep cycle as categorical\n",
    "lsm <- lsmeans(myfit, \"cycle\")\n",
    "mylsm_grp <- summary(lsm)\n",
    "mylsm_grp$cancergroup <- cancergrp # has to be same as original df\n",
    "mylsm_grp$marker <- \"log10shann\"\n",
    "\n",
    "myctrt_grp <- as.data.frame(lsmeans::contrast(lsm, \"trt.vs.ctrl\", ref = \"X01\"))\n",
    "myctrt_grp$cancergroup <- cancergrp\n",
    "myctrt_grp$marker <- \"log10shann\"\n",
    "\n",
    "mylsm_grp$Cycle <- as.character(mylsm_grp$cycle)\n",
    "mylsm_grp$Cycle <- as.numeric(gsub(\"X0\", \"\", mylsm_grp$Cycle))\n",
    "\n",
    "myctrt_grp$Cycle <- as.character(gsub(\" - X01\", \"\", myctrt_grp$contrast))\n",
    "myctrt_grp$Cycle <- gsub(\"X0\", \"\", myctrt_grp$Cycle)\n",
    "\n",
    "solid_tcr <- list(mylsm_grp, myctrt_grp)"
   ]
  },
  {
   "cell_type": "code",
   "execution_count": 59,
   "metadata": {
    "vscode": {
     "languageId": "r"
    }
   },
   "outputs": [
    {
     "data": {
      "text/html": [
       "<ol>\n",
       "\t<li><table class=\"dataframe\">\n",
       "<caption>A summary_emm: 5 x 9</caption>\n",
       "<thead>\n",
       "\t<tr><th></th><th scope=col>cycle</th><th scope=col>lsmean</th><th scope=col>SE</th><th scope=col>df</th><th scope=col>lower.CL</th><th scope=col>upper.CL</th><th scope=col>cancergroup</th><th scope=col>marker</th><th scope=col>Cycle</th></tr>\n",
       "\t<tr><th></th><th scope=col>&lt;fct&gt;</th><th scope=col>&lt;dbl&gt;</th><th scope=col>&lt;dbl&gt;</th><th scope=col>&lt;dbl&gt;</th><th scope=col>&lt;dbl&gt;</th><th scope=col>&lt;dbl&gt;</th><th scope=col>&lt;chr&gt;</th><th scope=col>&lt;chr&gt;</th><th scope=col>&lt;dbl&gt;</th></tr>\n",
       "</thead>\n",
       "<tbody>\n",
       "\t<tr><th scope=row>1</th><td>X01</td><td>1.795871</td><td>0.1828554</td><td>54.85417</td><td>1.429398</td><td>2.162343</td><td>Solid tumors</td><td>log10shann</td><td>1</td></tr>\n",
       "\t<tr><th scope=row>2</th><td>X02</td><td>2.020671</td><td>0.1839020</td><td>54.95499</td><td>1.652116</td><td>2.389225</td><td>Solid tumors</td><td>log10shann</td><td>2</td></tr>\n",
       "\t<tr><th scope=row>3</th><td>X03</td><td>1.749325</td><td>0.1841970</td><td>54.89941</td><td>1.380171</td><td>2.118479</td><td>Solid tumors</td><td>log10shann</td><td>3</td></tr>\n",
       "\t<tr><th scope=row>4</th><td>X04</td><td>1.744306</td><td>0.2446734</td><td>54.45412</td><td>1.253859</td><td>2.234753</td><td>Solid tumors</td><td>log10shann</td><td>4</td></tr>\n",
       "\t<tr><th scope=row>5</th><td>X05</td><td>1.911602</td><td>0.2094201</td><td>54.97609</td><td>1.491911</td><td>2.331293</td><td>Solid tumors</td><td>log10shann</td><td>5</td></tr>\n",
       "</tbody>\n",
       "</table>\n",
       "</li>\n",
       "\t<li><table class=\"dataframe\">\n",
       "<caption>A summary_emm: 4 x 9</caption>\n",
       "<thead>\n",
       "\t<tr><th></th><th scope=col>contrast</th><th scope=col>estimate</th><th scope=col>SE</th><th scope=col>df</th><th scope=col>t.ratio</th><th scope=col>p.value</th><th scope=col>cancergroup</th><th scope=col>marker</th><th scope=col>Cycle</th></tr>\n",
       "\t<tr><th></th><th scope=col>&lt;chr&gt;</th><th scope=col>&lt;dbl&gt;</th><th scope=col>&lt;dbl&gt;</th><th scope=col>&lt;dbl&gt;</th><th scope=col>&lt;dbl&gt;</th><th scope=col>&lt;dbl&gt;</th><th scope=col>&lt;chr&gt;</th><th scope=col>&lt;chr&gt;</th><th scope=col>&lt;chr&gt;</th></tr>\n",
       "</thead>\n",
       "<tbody>\n",
       "\t<tr><th scope=row>1</th><td>X02 - X01</td><td> 0.22480024</td><td>0.2442802</td><td>39.12230</td><td> 0.9202556</td><td>0.7354568</td><td>Solid tumors</td><td>log10shann</td><td>2</td></tr>\n",
       "\t<tr><th scope=row>2</th><td>X03 - X01</td><td>-0.04654546</td><td>0.2544637</td><td>48.12044</td><td>-0.1829159</td><td>0.9936344</td><td>Solid tumors</td><td>log10shann</td><td>3</td></tr>\n",
       "\t<tr><th scope=row>3</th><td>X04 - X01</td><td>-0.05156489</td><td>0.2954657</td><td>45.94531</td><td>-0.1745207</td><td>0.9943062</td><td>Solid tumors</td><td>log10shann</td><td>4</td></tr>\n",
       "\t<tr><th scope=row>4</th><td>X05 - X01</td><td> 0.11573145</td><td>0.2768409</td><td>50.70061</td><td> 0.4180432</td><td>0.9548541</td><td>Solid tumors</td><td>log10shann</td><td>5</td></tr>\n",
       "</tbody>\n",
       "</table>\n",
       "</li>\n",
       "</ol>\n"
      ],
      "text/latex": [
       "\\begin{enumerate}\n",
       "\\item A summary\\_emm: 5 x 9\n",
       "\\begin{tabular}{r|lllllllll}\n",
       "  & cycle & lsmean & SE & df & lower.CL & upper.CL & cancergroup & marker & Cycle\\\\\n",
       "  & <fct> & <dbl> & <dbl> & <dbl> & <dbl> & <dbl> & <chr> & <chr> & <dbl>\\\\\n",
       "\\hline\n",
       "\t1 & X01 & 1.795871 & 0.1828554 & 54.85417 & 1.429398 & 2.162343 & Solid tumors & log10shann & 1\\\\\n",
       "\t2 & X02 & 2.020671 & 0.1839020 & 54.95499 & 1.652116 & 2.389225 & Solid tumors & log10shann & 2\\\\\n",
       "\t3 & X03 & 1.749325 & 0.1841970 & 54.89941 & 1.380171 & 2.118479 & Solid tumors & log10shann & 3\\\\\n",
       "\t4 & X04 & 1.744306 & 0.2446734 & 54.45412 & 1.253859 & 2.234753 & Solid tumors & log10shann & 4\\\\\n",
       "\t5 & X05 & 1.911602 & 0.2094201 & 54.97609 & 1.491911 & 2.331293 & Solid tumors & log10shann & 5\\\\\n",
       "\\end{tabular}\n",
       "\n",
       "\\item A summary\\_emm: 4 x 9\n",
       "\\begin{tabular}{r|lllllllll}\n",
       "  & contrast & estimate & SE & df & t.ratio & p.value & cancergroup & marker & Cycle\\\\\n",
       "  & <chr> & <dbl> & <dbl> & <dbl> & <dbl> & <dbl> & <chr> & <chr> & <chr>\\\\\n",
       "\\hline\n",
       "\t1 & X02 - X01 &  0.22480024 & 0.2442802 & 39.12230 &  0.9202556 & 0.7354568 & Solid tumors & log10shann & 2\\\\\n",
       "\t2 & X03 - X01 & -0.04654546 & 0.2544637 & 48.12044 & -0.1829159 & 0.9936344 & Solid tumors & log10shann & 3\\\\\n",
       "\t3 & X04 - X01 & -0.05156489 & 0.2954657 & 45.94531 & -0.1745207 & 0.9943062 & Solid tumors & log10shann & 4\\\\\n",
       "\t4 & X05 - X01 &  0.11573145 & 0.2768409 & 50.70061 &  0.4180432 & 0.9548541 & Solid tumors & log10shann & 5\\\\\n",
       "\\end{tabular}\n",
       "\n",
       "\\end{enumerate}\n"
      ],
      "text/markdown": [
       "1. \n",
       "A summary_emm: 5 x 9\n",
       "\n",
       "| <!--/--> | cycle &lt;fct&gt; | lsmean &lt;dbl&gt; | SE &lt;dbl&gt; | df &lt;dbl&gt; | lower.CL &lt;dbl&gt; | upper.CL &lt;dbl&gt; | cancergroup &lt;chr&gt; | marker &lt;chr&gt; | Cycle &lt;dbl&gt; |\n",
       "|---|---|---|---|---|---|---|---|---|---|\n",
       "| 1 | X01 | 1.795871 | 0.1828554 | 54.85417 | 1.429398 | 2.162343 | Solid tumors | log10shann | 1 |\n",
       "| 2 | X02 | 2.020671 | 0.1839020 | 54.95499 | 1.652116 | 2.389225 | Solid tumors | log10shann | 2 |\n",
       "| 3 | X03 | 1.749325 | 0.1841970 | 54.89941 | 1.380171 | 2.118479 | Solid tumors | log10shann | 3 |\n",
       "| 4 | X04 | 1.744306 | 0.2446734 | 54.45412 | 1.253859 | 2.234753 | Solid tumors | log10shann | 4 |\n",
       "| 5 | X05 | 1.911602 | 0.2094201 | 54.97609 | 1.491911 | 2.331293 | Solid tumors | log10shann | 5 |\n",
       "\n",
       "\n",
       "2. \n",
       "A summary_emm: 4 x 9\n",
       "\n",
       "| <!--/--> | contrast &lt;chr&gt; | estimate &lt;dbl&gt; | SE &lt;dbl&gt; | df &lt;dbl&gt; | t.ratio &lt;dbl&gt; | p.value &lt;dbl&gt; | cancergroup &lt;chr&gt; | marker &lt;chr&gt; | Cycle &lt;chr&gt; |\n",
       "|---|---|---|---|---|---|---|---|---|---|\n",
       "| 1 | X02 - X01 |  0.22480024 | 0.2442802 | 39.12230 |  0.9202556 | 0.7354568 | Solid tumors | log10shann | 2 |\n",
       "| 2 | X03 - X01 | -0.04654546 | 0.2544637 | 48.12044 | -0.1829159 | 0.9936344 | Solid tumors | log10shann | 3 |\n",
       "| 3 | X04 - X01 | -0.05156489 | 0.2954657 | 45.94531 | -0.1745207 | 0.9943062 | Solid tumors | log10shann | 4 |\n",
       "| 4 | X05 - X01 |  0.11573145 | 0.2768409 | 50.70061 |  0.4180432 | 0.9548541 | Solid tumors | log10shann | 5 |\n",
       "\n",
       "\n",
       "\n",
       "\n"
      ],
      "text/plain": [
       "[[1]]\n",
       " cycle lsmean    SE   df lower.CL upper.CL cancergroup  marker     Cycle\n",
       " X01     1.80 0.183 54.9     1.43     2.16 Solid tumors log10shann     1\n",
       " X02     2.02 0.184 55.0     1.65     2.39 Solid tumors log10shann     2\n",
       " X03     1.75 0.184 54.9     1.38     2.12 Solid tumors log10shann     3\n",
       " X04     1.74 0.245 54.5     1.25     2.23 Solid tumors log10shann     4\n",
       " X05     1.91 0.209 55.0     1.49     2.33 Solid tumors log10shann     5\n",
       "\n",
       "Degrees-of-freedom method: kenward-roger \n",
       "Confidence level used: 0.95 \n",
       "\n",
       "[[2]]\n",
       " contrast     estimate        SE    df t.ratio p.value cancergroup  marker    \n",
       " X02 - X01  0.22480024 0.2442802 39.12   0.920  0.7355 Solid tumors log10shann\n",
       " X03 - X01 -0.04654546 0.2544637 48.12  -0.183  0.9936 Solid tumors log10shann\n",
       " X04 - X01 -0.05156489 0.2954657 45.95  -0.175  0.9943 Solid tumors log10shann\n",
       " X05 - X01  0.11573145 0.2768409 50.70   0.418  0.9549 Solid tumors log10shann\n",
       " Cycle\n",
       " 2    \n",
       " 3    \n",
       " 4    \n",
       " 5    \n",
       "\n",
       "Degrees-of-freedom method: kenward-roger \n",
       "P value adjustment: dunnettx method for 4 tests \n"
      ]
     },
     "metadata": {},
     "output_type": "display_data"
    }
   ],
   "source": [
    "solid_tcr"
   ]
  },
  {
   "cell_type": "code",
   "execution_count": 35,
   "metadata": {
    "vscode": {
     "languageId": "r"
    }
   },
   "outputs": [
    {
     "name": "stdout",
     "output_type": "stream",
     "text": [
      "[1] \"`SCM%`\"\n",
      "[1] \"`CM%`\"\n",
      "[1] \"`EM%`\"\n"
     ]
    },
    {
     "name": "stderr",
     "output_type": "stream",
     "text": [
      "boundary (singular) fit: see help('isSingular')\n",
      "\n"
     ]
    },
    {
     "name": "stdout",
     "output_type": "stream",
     "text": [
      "[1] \"`TE%`\"\n",
      "[1] \"`TIM3%`\"\n"
     ]
    },
    {
     "name": "stderr",
     "output_type": "stream",
     "text": [
      "boundary (singular) fit: see help('isSingular')\n",
      "\n"
     ]
    },
    {
     "name": "stdout",
     "output_type": "stream",
     "text": [
      "[1] \"`PD1%`\"\n"
     ]
    },
    {
     "name": "stderr",
     "output_type": "stream",
     "text": [
      "boundary (singular) fit: see help('isSingular')\n",
      "\n"
     ]
    }
   ],
   "source": [
    "solid_flow <- lsmeans_df.fx(pbmc_flow, c(\"`Naïve%`\", \"`SCM%`\", \"`CM%`\", \"`EM%`\", \"`TE%`\") ,\"Solid tumors\")\n",
    "solid_ncr <- lsmeans_df.fx(pbmc_flow, c(\"`LAG3%`\", \"`TIM3%`\", \"`PD1%`\") ,\"Solid tumors\")"
   ]
  },
  {
   "cell_type": "code",
   "execution_count": 36,
   "metadata": {
    "vscode": {
     "languageId": "r"
    }
   },
   "outputs": [],
   "source": [
    "mysig_flow <- solid_flow[[2]]\n",
    "mysig_flow <- mysig_flow[ mysig_flow$p.value < 0.05,]\n",
    "mysig_flow$p.val <- sapply(mysig_flow$p.value, function(x) round_and_format(x) )"
   ]
  },
  {
   "cell_type": "code",
   "execution_count": 37,
   "metadata": {
    "vscode": {
     "languageId": "r"
    }
   },
   "outputs": [],
   "source": [
    "mysig_ncr <- solid_ncr[[2]]\n",
    "mysig_ncr <- mysig_ncr[ mysig_ncr$p.value < 0.05,]\n",
    "mysig_ncr$p.val <- sapply(mysig_ncr$p.value, function(x) round_and_format(x) )"
   ]
  },
  {
   "cell_type": "code",
   "execution_count": 38,
   "metadata": {
    "vscode": {
     "languageId": "r"
    }
   },
   "outputs": [],
   "source": [
    "mysig_tcr <- solid_tcr[[2]]\n",
    "mysig_tcr <- mysig_tcr[ mysig_tcr$p.value < 0.05,]\n",
    "mysig_tcr$p.val <- sapply(mysig_tcr$p.value, function(x) round_and_format(x) )"
   ]
  },
  {
   "cell_type": "code",
   "execution_count": 39,
   "metadata": {
    "vscode": {
     "languageId": "r"
    }
   },
   "outputs": [
    {
     "data": {
      "text/html": [
       "<table class=\"dataframe\">\n",
       "<caption>A summary_emm: 4 x 10</caption>\n",
       "<thead>\n",
       "\t<tr><th></th><th scope=col>contrast</th><th scope=col>estimate</th><th scope=col>SE</th><th scope=col>df</th><th scope=col>t.ratio</th><th scope=col>p.value</th><th scope=col>cancergroup</th><th scope=col>marker</th><th scope=col>Cycle</th><th scope=col>p.val</th></tr>\n",
       "\t<tr><th></th><th scope=col>&lt;chr&gt;</th><th scope=col>&lt;dbl&gt;</th><th scope=col>&lt;dbl&gt;</th><th scope=col>&lt;dbl&gt;</th><th scope=col>&lt;dbl&gt;</th><th scope=col>&lt;dbl&gt;</th><th scope=col>&lt;chr&gt;</th><th scope=col>&lt;fct&gt;</th><th scope=col>&lt;chr&gt;</th><th scope=col>&lt;chr&gt;</th></tr>\n",
       "</thead>\n",
       "<tbody>\n",
       "\t<tr><th scope=row>1</th><td>X02 - X01</td><td>-14.21873</td><td>5.237650</td><td>58.82606</td><td>-2.714715</td><td>0.030972456</td><td>Solid tumors</td><td>Naïve%</td><td>2</td><td>0.03   </td></tr>\n",
       "\t<tr><th scope=row>10</th><td>X03 - X01</td><td> 17.63475</td><td>4.469504</td><td>70.34037</td><td> 3.945571</td><td>0.000720463</td><td>Solid tumors</td><td>CM%   </td><td>3</td><td>7.2e-04</td></tr>\n",
       "\t<tr><th scope=row>11</th><td>X04 - X01</td><td> 11.47241</td><td>4.479098</td><td>69.26191</td><td> 2.561320</td><td>0.044271865</td><td>Solid tumors</td><td>CM%   </td><td>4</td><td>0.04   </td></tr>\n",
       "\t<tr><th scope=row>12</th><td>X05 - X01</td><td> 14.60150</td><td>4.842155</td><td>70.11552</td><td> 3.015496</td><td>0.013147621</td><td>Solid tumors</td><td>CM%   </td><td>5</td><td>0.01   </td></tr>\n",
       "</tbody>\n",
       "</table>\n"
      ],
      "text/latex": [
       "A summary\\_emm: 4 x 10\n",
       "\\begin{tabular}{r|llllllllll}\n",
       "  & contrast & estimate & SE & df & t.ratio & p.value & cancergroup & marker & Cycle & p.val\\\\\n",
       "  & <chr> & <dbl> & <dbl> & <dbl> & <dbl> & <dbl> & <chr> & <fct> & <chr> & <chr>\\\\\n",
       "\\hline\n",
       "\t1 & X02 - X01 & -14.21873 & 5.237650 & 58.82606 & -2.714715 & 0.030972456 & Solid tumors & Naïve\\% & 2 & 0.03   \\\\\n",
       "\t10 & X03 - X01 &  17.63475 & 4.469504 & 70.34037 &  3.945571 & 0.000720463 & Solid tumors & CM\\%    & 3 & 7.2e-04\\\\\n",
       "\t11 & X04 - X01 &  11.47241 & 4.479098 & 69.26191 &  2.561320 & 0.044271865 & Solid tumors & CM\\%    & 4 & 0.04   \\\\\n",
       "\t12 & X05 - X01 &  14.60150 & 4.842155 & 70.11552 &  3.015496 & 0.013147621 & Solid tumors & CM\\%    & 5 & 0.01   \\\\\n",
       "\\end{tabular}\n"
      ],
      "text/markdown": [
       "\n",
       "A summary_emm: 4 x 10\n",
       "\n",
       "| <!--/--> | contrast &lt;chr&gt; | estimate &lt;dbl&gt; | SE &lt;dbl&gt; | df &lt;dbl&gt; | t.ratio &lt;dbl&gt; | p.value &lt;dbl&gt; | cancergroup &lt;chr&gt; | marker &lt;fct&gt; | Cycle &lt;chr&gt; | p.val &lt;chr&gt; |\n",
       "|---|---|---|---|---|---|---|---|---|---|---|\n",
       "| 1 | X02 - X01 | -14.21873 | 5.237650 | 58.82606 | -2.714715 | 0.030972456 | Solid tumors | Naïve% | 2 | 0.03    |\n",
       "| 10 | X03 - X01 |  17.63475 | 4.469504 | 70.34037 |  3.945571 | 0.000720463 | Solid tumors | CM%    | 3 | 7.2e-04 |\n",
       "| 11 | X04 - X01 |  11.47241 | 4.479098 | 69.26191 |  2.561320 | 0.044271865 | Solid tumors | CM%    | 4 | 0.04    |\n",
       "| 12 | X05 - X01 |  14.60150 | 4.842155 | 70.11552 |  3.015496 | 0.013147621 | Solid tumors | CM%    | 5 | 0.01    |\n",
       "\n"
      ],
      "text/plain": [
       "   contrast  estimate  SE       df       t.ratio   p.value     cancergroup \n",
       "1  X02 - X01 -14.21873 5.237650 58.82606 -2.714715 0.030972456 Solid tumors\n",
       "10 X03 - X01  17.63475 4.469504 70.34037  3.945571 0.000720463 Solid tumors\n",
       "11 X04 - X01  11.47241 4.479098 69.26191  2.561320 0.044271865 Solid tumors\n",
       "12 X05 - X01  14.60150 4.842155 70.11552  3.015496 0.013147621 Solid tumors\n",
       "   marker Cycle p.val  \n",
       "1  Naïve% 2     0.03   \n",
       "10 CM%    3     7.2e-04\n",
       "11 CM%    4     0.04   \n",
       "12 CM%    5     0.01   "
      ]
     },
     "metadata": {},
     "output_type": "display_data"
    }
   ],
   "source": [
    "mysig_flow"
   ]
  },
  {
   "cell_type": "code",
   "execution_count": 40,
   "metadata": {
    "vscode": {
     "languageId": "r"
    }
   },
   "outputs": [
    {
     "name": "stderr",
     "output_type": "stream",
     "text": [
      "Warning message in geom_signif(data = sig_df, aes(xmin = \"1\", xmax = Cycle, annotations = p.val, :\n",
      "“\u001b[1m\u001b[22mIgnoring unknown aesthetics: \u001b[32mxmin\u001b[39m, \u001b[32mxmax\u001b[39m, \u001b[32mannotations\u001b[39m, and \u001b[32my_position\u001b[39m”\n"
     ]
    }
   ],
   "source": [
    "solid_tcr_p <- baseplot_lsm_sig( pbmc_tcr[ pbmc_tcr$cancergroup == \"Solid tumors\", ], solid_tcr, mysig_tcr, 3.2, \"tcr\")"
   ]
  },
  {
   "cell_type": "code",
   "execution_count": 41,
   "metadata": {
    "vscode": {
     "languageId": "r"
    }
   },
   "outputs": [
    {
     "name": "stderr",
     "output_type": "stream",
     "text": [
      "Warning message in geom_signif(data = sig_df, aes(xmin = \"1\", xmax = Cycle, annotations = p.val, :\n",
      "“\u001b[1m\u001b[22mIgnoring unknown aesthetics: \u001b[32mxmin\u001b[39m, \u001b[32mxmax\u001b[39m, \u001b[32mannotations\u001b[39m, and \u001b[32my_position\u001b[39m”\n",
      "Warning message in geom_signif(data = sig_df, aes(xmin = \"1\", xmax = Cycle, annotations = p.val, :\n",
      "“\u001b[1m\u001b[22mIgnoring unknown aesthetics: \u001b[32mxmin\u001b[39m, \u001b[32mxmax\u001b[39m, \u001b[32mannotations\u001b[39m, and \u001b[32my_position\u001b[39m”\n"
     ]
    }
   ],
   "source": [
    "solid_flow_p <- baseplot_lsm_sig( pbmc_flow_m[ pbmc_flow_m$cancergroup == \"Solid tumors\", ], solid_flow, mysig_flow, c(100,90, 80, 100), \"flow\")\n",
    "solid_ncr_p <- baseplot_lsm_sig( pbmc_ncr_m[ pbmc_ncr_m$cancergroup == \"Solid tumors\", ], solid_ncr, mysig_ncr, c(70,80,90,100, 60,70,80), \"ncr\")"
   ]
  },
  {
   "cell_type": "code",
   "execution_count": 42,
   "metadata": {
    "vscode": {
     "languageId": "r"
    }
   },
   "outputs": [
    {
     "data": {
      "image/png": "[encoded data removed]",
      "text/plain": [
       "plot without title"
      ]
     },
     "metadata": {
      "image/png": {
       "height": 420,
       "width": 420
      }
     },
     "output_type": "display_data"
    }
   ],
   "source": [
    "solid_flow_p"
   ]
  },
  {
   "cell_type": "code",
   "execution_count": 43,
   "metadata": {
    "vscode": {
     "languageId": "r"
    }
   },
   "outputs": [
    {
     "name": "stderr",
     "output_type": "stream",
     "text": [
      "Warning message:\n",
      "“\u001b[1m\u001b[22mRemoved 8 rows containing non-finite values (`stat_boxplot()`).”\n",
      "Warning message:\n",
      "“\u001b[1m\u001b[22mRemoved 8 rows containing missing values (`geom_point()`).”\n"
     ]
    },
    {
     "data": {
      "text/html": [
       "<strong>pdf:</strong> 2"
      ],
      "text/latex": [
       "\\textbf{pdf:} 2"
      ],
      "text/markdown": [
       "**pdf:** 2"
      ],
      "text/plain": [
       "pdf \n",
       "  2 "
      ]
     },
     "metadata": {},
     "output_type": "display_data"
    }
   ],
   "source": [
    "pdf(paste0(plotpath, \"p_solid_lsmeans.pdf\"), width = 12, height = 3)\n",
    "cowplot::plot_grid(solid_flow_p + ylab(\"% T-cell subset\"),\n",
    "    solid_ncr_p + ylab(\"% Negative Checkpoint Marker\"),\n",
    "    solid_tcr_p + ylab(\"TCR diversity (log10)\"),\n",
    "    rel_widths = c(0.5, 0.3, 0.2), nrow = 1, ncol = 3\n",
    ")\n",
    "dev.off()\n"
   ]
  },
  {
   "cell_type": "code",
   "execution_count": 44,
   "metadata": {
    "vscode": {
     "languageId": "r"
    }
   },
   "outputs": [
    {
     "data": {
      "text/html": [
       "<style>\n",
       ".dl-inline {width: auto; margin:0; padding: 0}\n",
       ".dl-inline>dt, .dl-inline>dd {float: none; width: auto; display: inline-block}\n",
       ".dl-inline>dt::after {content: \":\\0020\"; padding-right: .5ex}\n",
       ".dl-inline>dt:not(:first-of-type) {padding-left: .5ex}\n",
       "</style><dl class=dl-inline><dt>X01</dt><dd>4.27787934186472</dd><dt>X02</dt><dd>6.8953051569401</dd><dt>X03</dt><dd>5.28973956180239</dd><dt>X04</dt><dd>12.7541589648799</dd><dt>X05</dt><dd>19.620253164557</dd></dl>\n"
      ],
      "text/latex": [
       "\\begin{description*}\n",
       "\\item[X01] 4.27787934186472\n",
       "\\item[X02] 6.8953051569401\n",
       "\\item[X03] 5.28973956180239\n",
       "\\item[X04] 12.7541589648799\n",
       "\\item[X05] 19.620253164557\n",
       "\\end{description*}\n"
      ],
      "text/markdown": [
       "X01\n",
       ":   4.27787934186472X02\n",
       ":   6.8953051569401X03\n",
       ":   5.28973956180239X04\n",
       ":   12.7541589648799X05\n",
       ":   19.620253164557\n",
       "\n"
      ],
      "text/plain": [
       "      X01       X02       X03       X04       X05 \n",
       " 4.277879  6.895305  5.289740 12.754159 19.620253 "
      ]
     },
     "metadata": {},
     "output_type": "display_data"
    }
   ],
   "source": [
    "tapply(pbmc_flow$`PD1%`[ pbmc_flow$cancergroup == \"Leukemia\"], pbmc_flow$cycle[ pbmc_flow$cancergroup == \"Leukemia\"], median, na.rm = TRUE)"
   ]
  },
  {
   "cell_type": "markdown",
   "metadata": {},
   "source": [
    "Lym"
   ]
  },
  {
   "cell_type": "code",
   "execution_count": 45,
   "metadata": {
    "vscode": {
     "languageId": "r"
    }
   },
   "outputs": [
    {
     "name": "stderr",
     "output_type": "stream",
     "text": [
      "boundary (singular) fit: see help('isSingular')\n",
      "\n"
     ]
    }
   ],
   "source": [
    "cancergrp <- \"Lymphoma\"\n",
    "\n",
    "grp_df <- pbmc_tcr[ pbmc_tcr$cancergroup == cancergrp,]\n",
    "myformula <- as.formula(paste0( \"log10shann\", \" ~ cycle + Age + (1 | Patient)\"))\n",
    "myfit <- lme4::lmer( myformula, data= grp_df) # keep cycle as categorical\n",
    "lsm <- lsmeans(myfit, \"cycle\")\n",
    "mylsm_grp <- summary(lsm)\n",
    "mylsm_grp$cancergroup <- cancergrp # has to be same as original df\n",
    "mylsm_grp$marker <- \"log10shann\"\n",
    "\n",
    "myctrt_grp <- as.data.frame(lsmeans::contrast(lsm, \"trt.vs.ctrl\", ref = \"X01\"))\n",
    "myctrt_grp$cancergroup <- cancergrp\n",
    "myctrt_grp$marker <- \"log10shann\"\n",
    "\n",
    "mylsm_grp$Cycle <- as.character(mylsm_grp$cycle)\n",
    "mylsm_grp$Cycle <- as.numeric(gsub(\"X0\", \"\", mylsm_grp$Cycle))\n",
    "\n",
    "myctrt_grp$Cycle <- as.character(gsub(\" - X01\", \"\", myctrt_grp$contrast))\n",
    "myctrt_grp$Cycle <- gsub(\"X0\", \"\", myctrt_grp$Cycle)\n",
    "\n",
    "lym_tcr <- list(mylsm_grp, myctrt_grp)"
   ]
  },
  {
   "cell_type": "code",
   "execution_count": 46,
   "metadata": {
    "vscode": {
     "languageId": "r"
    }
   },
   "outputs": [
    {
     "name": "stdout",
     "output_type": "stream",
     "text": [
      "[1] \"`SCM%`\"\n",
      "[1] \"`CM%`\"\n",
      "[1] \"`EM%`\"\n",
      "[1] \"`TE%`\"\n",
      "[1] \"`TIM3%`\"\n",
      "[1] \"`PD1%`\"\n"
     ]
    }
   ],
   "source": [
    "lym_flow <- lsmeans_df.fx(pbmc_flow, c(\"`Naïve%`\", \"`SCM%`\", \"`CM%`\", \"`EM%`\", \"`TE%`\") ,\"Lymphoma\")\n",
    "lym_ncr <- lsmeans_df.fx(pbmc_flow, c(\"`LAG3%`\", \"`TIM3%`\", \"`PD1%`\") ,\"Lymphoma\")"
   ]
  },
  {
   "cell_type": "code",
   "execution_count": 47,
   "metadata": {
    "vscode": {
     "languageId": "r"
    }
   },
   "outputs": [],
   "source": [
    "mysig_flow <- lym_flow[[2]]\n",
    "mysig_flow <- mysig_flow[ mysig_flow$p.value < 0.05,]\n",
    "mysig_flow$p.val <- sapply(mysig_flow$p.value, function(x) round_and_format(x) )"
   ]
  },
  {
   "cell_type": "code",
   "execution_count": 48,
   "metadata": {
    "vscode": {
     "languageId": "r"
    }
   },
   "outputs": [],
   "source": [
    "mysig_ncr <- lym_ncr[[2]]\n",
    "mysig_ncr <- mysig_ncr[ mysig_ncr$p.value < 0.05,]\n",
    "mysig_ncr$p.val <- sapply(mysig_ncr$p.value, function(x) round_and_format(x) )"
   ]
  },
  {
   "cell_type": "code",
   "execution_count": 49,
   "metadata": {
    "vscode": {
     "languageId": "r"
    }
   },
   "outputs": [],
   "source": [
    "mysig_tcr <- lym_tcr[[2]]\n",
    "mysig_tcr <- mysig_tcr[ mysig_tcr$p.value < 0.05,]\n",
    "mysig_tcr$p.val <- sapply(mysig_tcr$p.value, function(x) round_and_format(x) )"
   ]
  },
  {
   "cell_type": "code",
   "execution_count": 57,
   "metadata": {
    "vscode": {
     "languageId": "r"
    }
   },
   "outputs": [
    {
     "data": {
      "text/html": [
       "<table class=\"dataframe\">\n",
       "<caption>A summary_emm: 0 x 10</caption>\n",
       "<thead>\n",
       "\t<tr><th scope=col>contrast</th><th scope=col>estimate</th><th scope=col>SE</th><th scope=col>df</th><th scope=col>t.ratio</th><th scope=col>p.value</th><th scope=col>cancergroup</th><th scope=col>marker</th><th scope=col>Cycle</th><th scope=col>p.val</th></tr>\n",
       "\t<tr><th scope=col>&lt;chr&gt;</th><th scope=col>&lt;dbl&gt;</th><th scope=col>&lt;dbl&gt;</th><th scope=col>&lt;dbl&gt;</th><th scope=col>&lt;dbl&gt;</th><th scope=col>&lt;dbl&gt;</th><th scope=col>&lt;chr&gt;</th><th scope=col>&lt;chr&gt;</th><th scope=col>&lt;chr&gt;</th><th scope=col>&lt;list&gt;</th></tr>\n",
       "</thead>\n",
       "<tbody>\n",
       "</tbody>\n",
       "</table>\n"
      ],
      "text/latex": [
       "A summary\\_emm: 0 x 10\n",
       "\\begin{tabular}{llllllllll}\n",
       " contrast & estimate & SE & df & t.ratio & p.value & cancergroup & marker & Cycle & p.val\\\\\n",
       " <chr> & <dbl> & <dbl> & <dbl> & <dbl> & <dbl> & <chr> & <chr> & <chr> & <list>\\\\\n",
       "\\hline\n",
       "\\end{tabular}\n"
      ],
      "text/markdown": [
       "\n",
       "A summary_emm: 0 x 10\n",
       "\n",
       "| contrast &lt;chr&gt; | estimate &lt;dbl&gt; | SE &lt;dbl&gt; | df &lt;dbl&gt; | t.ratio &lt;dbl&gt; | p.value &lt;dbl&gt; | cancergroup &lt;chr&gt; | marker &lt;chr&gt; | Cycle &lt;chr&gt; | p.val &lt;list&gt; |\n",
       "|---|---|---|---|---|---|---|---|---|---|\n",
       "\n"
      ],
      "text/plain": [
       "     contrast estimate SE df t.ratio p.value cancergroup marker Cycle p.val"
      ]
     },
     "metadata": {},
     "output_type": "display_data"
    }
   ],
   "source": [
    "mysig_tcr"
   ]
  },
  {
   "cell_type": "code",
   "execution_count": 51,
   "metadata": {
    "vscode": {
     "languageId": "r"
    }
   },
   "outputs": [
    {
     "name": "stderr",
     "output_type": "stream",
     "text": [
      "Warning message in geom_signif(data = sig_df, aes(xmin = \"1\", xmax = Cycle, annotations = p.val, :\n",
      "“\u001b[1m\u001b[22mIgnoring unknown aesthetics: \u001b[32mxmin\u001b[39m, \u001b[32mxmax\u001b[39m, \u001b[32mannotations\u001b[39m, and \u001b[32my_position\u001b[39m”\n"
     ]
    }
   ],
   "source": [
    "lym_tcr_p <- baseplot_lsm_sig( pbmc_tcr[ pbmc_tcr$cancergroup == \"Lymphoma\", ], lym_tcr, mysig_tcr, 3.2, \"tcr\")"
   ]
  },
  {
   "cell_type": "code",
   "execution_count": 52,
   "metadata": {
    "vscode": {
     "languageId": "r"
    }
   },
   "outputs": [
    {
     "name": "stderr",
     "output_type": "stream",
     "text": [
      "Warning message in geom_signif(data = sig_df, aes(xmin = \"1\", xmax = Cycle, annotations = p.val, :\n",
      "“\u001b[1m\u001b[22mIgnoring unknown aesthetics: \u001b[32mxmin\u001b[39m, \u001b[32mxmax\u001b[39m, \u001b[32mannotations\u001b[39m, and \u001b[32my_position\u001b[39m”\n",
      "Warning message in geom_signif(data = sig_df, aes(xmin = \"1\", xmax = Cycle, annotations = p.val, :\n",
      "“\u001b[1m\u001b[22mIgnoring unknown aesthetics: \u001b[32mxmin\u001b[39m, \u001b[32mxmax\u001b[39m, \u001b[32mannotations\u001b[39m, and \u001b[32my_position\u001b[39m”\n"
     ]
    }
   ],
   "source": [
    "lym_flow_p <- baseplot_lsm_sig( pbmc_flow_m[ pbmc_flow_m$cancergroup == \"Lymphoma\", ], lym_flow, mysig_flow, c(70,80, 90, 100, 100), \"flow\")\n",
    "lym_ncr_p <- baseplot_lsm_sig( pbmc_ncr_m[ pbmc_ncr_m$cancergroup == \"Lymphoma\", ], lym_ncr, mysig_ncr, c(70), \"ncr\")"
   ]
  },
  {
   "cell_type": "code",
   "execution_count": 53,
   "metadata": {
    "vscode": {
     "languageId": "r"
    }
   },
   "outputs": [
    {
     "data": {
      "image/png": "[encoded data removed]",
      "text/plain": [
       "plot without title"
      ]
     },
     "metadata": {
      "image/png": {
       "height": 420,
       "width": 420
      }
     },
     "output_type": "display_data"
    }
   ],
   "source": [
    "lym_flow_p"
   ]
  },
  {
   "cell_type": "code",
   "execution_count": 54,
   "metadata": {
    "vscode": {
     "languageId": "r"
    }
   },
   "outputs": [
    {
     "name": "stderr",
     "output_type": "stream",
     "text": [
      "Warning message:\n",
      "“\u001b[1m\u001b[22mRemoved 3 rows containing non-finite values (`stat_boxplot()`).”\n",
      "Warning message:\n",
      "“\u001b[1m\u001b[22mRemoved 3 rows containing missing values (`geom_point()`).”\n"
     ]
    },
    {
     "data": {
      "text/html": [
       "<strong>pdf:</strong> 2"
      ],
      "text/latex": [
       "\\textbf{pdf:} 2"
      ],
      "text/markdown": [
       "**pdf:** 2"
      ],
      "text/plain": [
       "pdf \n",
       "  2 "
      ]
     },
     "metadata": {},
     "output_type": "display_data"
    }
   ],
   "source": [
    "pdf(paste0(plotpath, \"p_lym_lsmeans.pdf\"), width = 12, height = 3)\n",
    "cowplot::plot_grid(lym_flow_p + ylab(\"% T-cell subset\"),\n",
    "    lym_ncr_p + ylab(\"% Negative Checkpoint Marker\"),\n",
    "    lym_tcr_p + ylab(\"TCR diversity (log10)\"),\n",
    "    rel_widths = c(0.5, 0.3, 0.2), nrow = 1, ncol = 3\n",
    ")\n",
    "dev.off()\n"
   ]
  },
  {
   "cell_type": "code",
   "execution_count": 55,
   "metadata": {
    "vscode": {
     "languageId": "r"
    }
   },
   "outputs": [
    {
     "data": {
      "text/html": [
       "<style>\n",
       ".dl-inline {width: auto; margin:0; padding: 0}\n",
       ".dl-inline>dt, .dl-inline>dd {float: none; width: auto; display: inline-block}\n",
       ".dl-inline>dt::after {content: \":\\0020\"; padding-right: .5ex}\n",
       ".dl-inline>dt:not(:first-of-type) {padding-left: .5ex}\n",
       "</style><dl class=dl-inline><dt>X01</dt><dd>4.27787934186472</dd><dt>X02</dt><dd>6.8953051569401</dd><dt>X03</dt><dd>5.28973956180239</dd><dt>X04</dt><dd>12.7541589648799</dd><dt>X05</dt><dd>19.620253164557</dd></dl>\n"
      ],
      "text/latex": [
       "\\begin{description*}\n",
       "\\item[X01] 4.27787934186472\n",
       "\\item[X02] 6.8953051569401\n",
       "\\item[X03] 5.28973956180239\n",
       "\\item[X04] 12.7541589648799\n",
       "\\item[X05] 19.620253164557\n",
       "\\end{description*}\n"
      ],
      "text/markdown": [
       "X01\n",
       ":   4.27787934186472X02\n",
       ":   6.8953051569401X03\n",
       ":   5.28973956180239X04\n",
       ":   12.7541589648799X05\n",
       ":   19.620253164557\n",
       "\n"
      ],
      "text/plain": [
       "      X01       X02       X03       X04       X05 \n",
       " 4.277879  6.895305  5.289740 12.754159 19.620253 "
      ]
     },
     "metadata": {},
     "output_type": "display_data"
    }
   ],
   "source": [
    "tapply(pbmc_flow$`PD1%`[ pbmc_flow$cancergroup == \"Leukemia\"], pbmc_flow$cycle[ pbmc_flow$cancergroup == \"Leukemia\"], median, na.rm = TRUE)"
   ]
  },
  {
   "cell_type": "code",
   "execution_count": null,
   "metadata": {
    "vscode": {
     "languageId": "r"
    }
   },
   "outputs": [],
   "source": []
  },
  {
   "cell_type": "code",
   "execution_count": null,
   "metadata": {
    "vscode": {
     "languageId": "r"
    }
   },
   "outputs": [],
   "source": []
  },
  {
   "cell_type": "code",
   "execution_count": null,
   "metadata": {
    "vscode": {
     "languageId": "r"
    }
   },
   "outputs": [],
   "source": []
  },
  {
   "cell_type": "markdown",
   "metadata": {
    "vscode": {
     "languageId": "r"
    }
   },
   "source": [
    "# Backup"
   ]
  },
  {
   "cell_type": "code",
   "execution_count": null,
   "metadata": {
    "vscode": {
     "languageId": "r"
    }
   },
   "outputs": [],
   "source": []
  },
  {
   "cell_type": "markdown",
   "metadata": {},
   "source": [
    "## over time comparisons"
   ]
  },
  {
   "cell_type": "code",
   "execution_count": 56,
   "metadata": {
    "vscode": {
     "languageId": "r"
    }
   },
   "outputs": [
    {
     "ename": "ERROR",
     "evalue": "Error in baseplot_smooth.fx(mydf = pbmc_flow, x = \"Cycle\", y = \"`Naïve%`\", : could not find function \"baseplot_smooth.fx\"\n",
     "output_type": "error",
     "traceback": [
      "Error in baseplot_smooth.fx(mydf = pbmc_flow, x = \"Cycle\", y = \"`Naïve%`\", : could not find function \"baseplot_smooth.fx\"\nTraceback:\n"
     ]
    }
   ],
   "source": [
    "p1 <- baseplot_smooth.fx(mydf = pbmc_flow, x = \"Cycle\", y = \"`Naïve%`\", fill = \"cancergroup\", clr = \"cancergroup\", colpal = group_col)"
   ]
  },
  {
   "cell_type": "code",
   "execution_count": null,
   "metadata": {
    "vscode": {
     "languageId": "r"
    }
   },
   "outputs": [],
   "source": [
    "p1"
   ]
  },
  {
   "cell_type": "code",
   "execution_count": null,
   "metadata": {
    "vscode": {
     "languageId": "r"
    }
   },
   "outputs": [],
   "source": [
    "p2 <- baseplot_smooth.fx(mydf = pbmc_flow, x = \"Cycle\", y = \"`SCM%`\", fill = \"cancergroup\", clr = \"cancergroup\", colpal = group_col)\n",
    "p3 <- baseplot_smooth.fx(mydf = pbmc_flow, x = \"Cycle\", y = \"`CM%`\", fill = \"cancergroup\", clr = \"cancergroup\", colpal = group_col)\n",
    "p4 <- baseplot_smooth.fx(mydf = pbmc_flow, x = \"Cycle\", y = \"`EM%`\", fill = \"cancergroup\", clr = \"cancergroup\", colpal = group_col)\n",
    "p5 <- baseplot_smooth.fx(mydf = pbmc_flow, x = \"Cycle\", y = \"`TE%`\", fill = \"cancergroup\", clr = \"cancergroup\", colpal = group_col)\n",
    "p6 <- baseplot_smooth.fx(mydf = pbmc_flow, x = \"Cycle\", y = \"`PD1%`\", fill = \"cancergroup\", clr = \"cancergroup\", colpal = group_col)\n",
    "p7 <- baseplot_smooth.fx(mydf = pbmc_flow, x = \"Cycle\", y = \"`LAG3%`\", fill = \"cancergroup\", clr = \"cancergroup\", colpal = group_col)"
   ]
  },
  {
   "cell_type": "code",
   "execution_count": null,
   "metadata": {
    "vscode": {
     "languageId": "r"
    }
   },
   "outputs": [],
   "source": [
    "p8 <- baseplot_smooth.fx(mydf = pbmc_tcr, x = \"Cycle\", y = \"log10shann\", fill = \"cancergroup\", clr = \"cancergroup\", colpal = group_col)"
   ]
  },
  {
   "cell_type": "code",
   "execution_count": null,
   "metadata": {
    "vscode": {
     "languageId": "r"
    }
   },
   "outputs": [],
   "source": [
    "# pdf(paste0(plotpath, \"overtime_pbmc.pdf\"), width = 8, height = 12)\n",
    "# cowplot::plot_grid(p1, p2, p3, p4, p5, p6, p7,p8, nrow = 5)\n",
    "# dev.off()"
   ]
  },
  {
   "cell_type": "code",
   "execution_count": null,
   "metadata": {
    "vscode": {
     "languageId": "r"
    }
   },
   "outputs": [],
   "source": []
  },
  {
   "cell_type": "code",
   "execution_count": null,
   "metadata": {
    "vscode": {
     "languageId": "r"
    }
   },
   "outputs": [],
   "source": []
  },
  {
   "cell_type": "code",
   "execution_count": null,
   "metadata": {
    "vscode": {
     "languageId": "r"
    }
   },
   "outputs": [],
   "source": [
    "p1 <- baseraincloud_plot.fx(pbmc_solid, \"`Naïve%`\", \"cycle\", \"cancergroup\", group_col, 0.5, 2)  "
   ]
  },
  {
   "cell_type": "code",
   "execution_count": null,
   "metadata": {
    "vscode": {
     "languageId": "r"
    }
   },
   "outputs": [],
   "source": [
    "mytest <- \"Naïve%\"\n",
    "mypval1 <- ks.test(pbmc_solid[[mytest]][ which(pbmc_solid$cycle == \"X01\")], pbmc_solid[[mytest]][ which(pbmc_solid$cycle == \"X02\")])$p.value"
   ]
  },
  {
   "cell_type": "code",
   "execution_count": null,
   "metadata": {
    "vscode": {
     "languageId": "r"
    }
   },
   "outputs": [],
   "source": [
    "mypval1 <- formatC(mypval1, format = \"e\", digits = 2)"
   ]
  },
  {
   "cell_type": "code",
   "execution_count": null,
   "metadata": {
    "vscode": {
     "languageId": "r"
    }
   },
   "outputs": [],
   "source": [
    "p1_stat <- p1 + geom_signif(\n",
    "    y_position = 100, xmin = 1, xmax = 2,\n",
    "    annotation = paste0(\"p = \",mypval1), tip_length = 0.01, textsize = 5\n",
    "  ) + theme(axis.text.x = element_blank()) + ggtitle(expression(underline(\"Solid tumors\") ))"
   ]
  },
  {
   "cell_type": "code",
   "execution_count": null,
   "metadata": {
    "vscode": {
     "languageId": "r"
    }
   },
   "outputs": [],
   "source": [
    "p2 <- baseraincloud_plot.fx(pbmc_solid, \"`TE%`\", \"cycle\", \"cancergroup\", group_col, 0.5, 2)  "
   ]
  },
  {
   "cell_type": "code",
   "execution_count": null,
   "metadata": {
    "vscode": {
     "languageId": "r"
    }
   },
   "outputs": [],
   "source": [
    "p2"
   ]
  },
  {
   "cell_type": "code",
   "execution_count": null,
   "metadata": {
    "vscode": {
     "languageId": "r"
    }
   },
   "outputs": [],
   "source": [
    "mytest <- \"TE%\"\n",
    "mypval2 <- ks.test(pbmc_solid[[mytest]][ which(pbmc_solid$cycle == \"X01\")], pbmc_solid[[mytest]][ which(pbmc_solid$cycle == \"X02\")])$p.value\n",
    "mypval2 <- formatC(mypval2, format = \"e\", digits = 2)"
   ]
  },
  {
   "cell_type": "code",
   "execution_count": null,
   "metadata": {
    "vscode": {
     "languageId": "r"
    }
   },
   "outputs": [],
   "source": [
    "p2_stat <- p2 + geom_signif(\n",
    "    y_position = 100, xmin = 1, xmax = 2,\n",
    "    annotation = paste0(\"p = \",mypval2), tip_length = 0.01, textsize = 5\n",
    "  ) "
   ]
  },
  {
   "cell_type": "code",
   "execution_count": null,
   "metadata": {
    "vscode": {
     "languageId": "r"
    }
   },
   "outputs": [],
   "source": [
    "p2_stat"
   ]
  },
  {
   "cell_type": "code",
   "execution_count": null,
   "metadata": {
    "vscode": {
     "languageId": "r"
    }
   },
   "outputs": [],
   "source": [
    "p3 <- baseraincloud_plot.fx(pbmc_solid, \"`PD1%`\", \"cycle\", \"cancergroup\", group_col, 0.5, 2)  "
   ]
  },
  {
   "cell_type": "code",
   "execution_count": null,
   "metadata": {
    "vscode": {
     "languageId": "r"
    }
   },
   "outputs": [],
   "source": [
    "mytest <- \"PD1%\"\n",
    "mypval3 <- ks.test(pbmc_solid[[mytest]][ which(pbmc_solid$cycle == \"X01\")], pbmc_solid[[mytest]][ which(pbmc_solid$cycle == \"X03\")])$p.value\n",
    "mypval4 <- ks.test(pbmc_solid[[mytest]][ which(pbmc_solid$cycle == \"X01\")], pbmc_solid[[mytest]][ which(pbmc_solid$cycle == \"X04\")])$p.value\n",
    "mypval5 <- ks.test(pbmc_solid[[mytest]][ which(pbmc_solid$cycle == \"X01\")], pbmc_solid[[mytest]][ which(pbmc_solid$cycle == \"X05\")])$p.value"
   ]
  },
  {
   "cell_type": "code",
   "execution_count": null,
   "metadata": {
    "vscode": {
     "languageId": "r"
    }
   },
   "outputs": [],
   "source": [
    "mypval3 <- formatC(mypval3, format = \"e\", digits = 2)\n",
    "mypval4 <- formatC(mypval4, format = \"e\", digits = 2)\n",
    "mypval5 <- formatC(mypval5, format = \"e\", digits = 2)"
   ]
  },
  {
   "cell_type": "code",
   "execution_count": null,
   "metadata": {
    "vscode": {
     "languageId": "r"
    }
   },
   "outputs": [],
   "source": [
    "p3_stat <- p3 + geom_signif(\n",
    "    y_position = c(50,60,70), xmin = c(1,1,1), xmax = c(3,4,5),\n",
    "    annotation = c(paste0(\"p = \",mypval3), paste0(\"p = \",mypval4), paste0(\"p = \",mypval5) ) , tip_length = 0.01, textsize = 5\n",
    "  ) "
   ]
  },
  {
   "cell_type": "code",
   "execution_count": null,
   "metadata": {
    "vscode": {
     "languageId": "r"
    }
   },
   "outputs": [],
   "source": [
    "p4 <- baseraincloud_plot.fx(pbmc_solid, \"`LAG3%`\", \"cycle\", \"cancergroup\", group_col, 0.5, 2)  "
   ]
  },
  {
   "cell_type": "code",
   "execution_count": null,
   "metadata": {
    "vscode": {
     "languageId": "r"
    }
   },
   "outputs": [],
   "source": [
    "mytest <- \"LAG3%\"\n",
    "mypval6 <- ks.test(pbmc_solid[[mytest]][ which(pbmc_solid$cycle == \"X01\")], pbmc_solid[[mytest]][ which(pbmc_solid$cycle == \"X04\")])$p.value"
   ]
  },
  {
   "cell_type": "code",
   "execution_count": null,
   "metadata": {
    "vscode": {
     "languageId": "r"
    }
   },
   "outputs": [],
   "source": [
    "mypval6 <- formatC(mypval6, format = \"e\", digits = 2)"
   ]
  },
  {
   "cell_type": "code",
   "execution_count": null,
   "metadata": {
    "vscode": {
     "languageId": "r"
    }
   },
   "outputs": [],
   "source": [
    "p4_stat <- p4 + geom_signif(\n",
    "    y_position = 80, xmin = 1, xmax = 4,\n",
    "    annotation = paste0(\"p = \",mypval3) , tip_length = 0.01, textsize = 5\n",
    "  ) "
   ]
  },
  {
   "cell_type": "code",
   "execution_count": null,
   "metadata": {
    "vscode": {
     "languageId": "r"
    }
   },
   "outputs": [],
   "source": [
    "p4_stat"
   ]
  },
  {
   "cell_type": "code",
   "execution_count": null,
   "metadata": {
    "vscode": {
     "languageId": "r"
    }
   },
   "outputs": [],
   "source": [
    "pdf(paste0(plotpath, \"rainclouds_naive_te_pd1_lag3_solid.pdf\"), width = 4, height = 10)\n",
    "plot_grid(p1_stat, p2_stat, p3_stat, p4_stat, nrow = 4, align = \"v\", axis = \"lr\")\n",
    "dev.off()"
   ]
  },
  {
   "cell_type": "code",
   "execution_count": null,
   "metadata": {
    "vscode": {
     "languageId": "r"
    }
   },
   "outputs": [],
   "source": [
    "# remove p1 p2 p3 p4 p1_stat p2_stat p3_stat p4_stat\n",
    "rm(p1, p2, p3, p4, p1_stat, p2_stat, p3_stat, p4_stat)"
   ]
  },
  {
   "cell_type": "markdown",
   "metadata": {},
   "source": [
    "Leukemias"
   ]
  },
  {
   "cell_type": "code",
   "execution_count": null,
   "metadata": {
    "vscode": {
     "languageId": "r"
    }
   },
   "outputs": [],
   "source": [
    "pbmc_leu <- pbmc[ which(pbmc$cancergroup == \"Leukemia\"),]"
   ]
  },
  {
   "cell_type": "code",
   "execution_count": null,
   "metadata": {
    "vscode": {
     "languageId": "r"
    }
   },
   "outputs": [],
   "source": [
    "p1 <- baseraincloud_plot.fx(pbmc_leu, \"`CM%`\", \"cycle\", \"cancergroup\", group_col, 0.5, 2)  "
   ]
  },
  {
   "cell_type": "code",
   "execution_count": null,
   "metadata": {
    "vscode": {
     "languageId": "r"
    }
   },
   "outputs": [],
   "source": [
    "p1"
   ]
  },
  {
   "cell_type": "code",
   "execution_count": null,
   "metadata": {
    "vscode": {
     "languageId": "r"
    }
   },
   "outputs": [],
   "source": [
    "mytest <- \"CM%\"\n",
    "mypval1 <- ks.test(pbmc_leu[[mytest]][ which(pbmc_leu$cycle == \"X01\")], pbmc_leu[[mytest]][ which(pbmc_leu$cycle == \"X03\")])$p.value"
   ]
  },
  {
   "cell_type": "code",
   "execution_count": null,
   "metadata": {
    "vscode": {
     "languageId": "r"
    }
   },
   "outputs": [],
   "source": [
    "mypval1 <- formatC(mypval1, format = \"e\", digits = 2)"
   ]
  },
  {
   "cell_type": "code",
   "execution_count": null,
   "metadata": {
    "vscode": {
     "languageId": "r"
    }
   },
   "outputs": [],
   "source": [
    "p1_stat <- p1 + geom_signif(\n",
    "    y_position = 100, xmin = 1, xmax = 3,\n",
    "    annotation = paste0(\"p = \",mypval1), tip_length = 0.01, textsize = 5\n",
    "  ) + theme(axis.text.x = element_blank()) + ggtitle(expression(underline(\"Leukemia\") ))"
   ]
  },
  {
   "cell_type": "code",
   "execution_count": null,
   "metadata": {
    "vscode": {
     "languageId": "r"
    }
   },
   "outputs": [],
   "source": [
    "p1_stat"
   ]
  },
  {
   "cell_type": "code",
   "execution_count": null,
   "metadata": {
    "vscode": {
     "languageId": "r"
    }
   },
   "outputs": [],
   "source": [
    "p2 <- baseraincloud_plot.fx(pbmc_leu, \"`TE%`\", \"cycle\", \"cancergroup\", group_col, 0.5, 2)  "
   ]
  },
  {
   "cell_type": "code",
   "execution_count": null,
   "metadata": {
    "vscode": {
     "languageId": "r"
    }
   },
   "outputs": [],
   "source": [
    "p2"
   ]
  },
  {
   "cell_type": "code",
   "execution_count": null,
   "metadata": {
    "vscode": {
     "languageId": "r"
    }
   },
   "outputs": [],
   "source": [
    "mytest <- \"TE%\"\n",
    "mypval2 <- ks.test(pbmc_leu[[mytest]][ which(pbmc_leu$cycle == \"X01\")], pbmc_leu[[mytest]][ which(pbmc_leu$cycle == \"X04\")])$p.value\n",
    "mypval2 <- formatC(mypval2, format = \"e\", digits = 2)"
   ]
  },
  {
   "cell_type": "code",
   "execution_count": null,
   "metadata": {
    "vscode": {
     "languageId": "r"
    }
   },
   "outputs": [],
   "source": [
    "p2_stat <- p2 + geom_signif(\n",
    "    y_position = 100, xmin = 1, xmax = 4,\n",
    "    annotation = paste0(\"p = \",mypval2), tip_length = 0.01, textsize = 5\n",
    "  ) "
   ]
  },
  {
   "cell_type": "code",
   "execution_count": null,
   "metadata": {
    "vscode": {
     "languageId": "r"
    }
   },
   "outputs": [],
   "source": [
    "p2_stat"
   ]
  },
  {
   "cell_type": "code",
   "execution_count": null,
   "metadata": {
    "vscode": {
     "languageId": "r"
    }
   },
   "outputs": [],
   "source": [
    "p3 <- baseraincloud_plot.fx(pbmc_leu, \"`PD1%`\", \"cycle\", \"cancergroup\", group_col, 0.5, 2)  "
   ]
  },
  {
   "cell_type": "code",
   "execution_count": null,
   "metadata": {
    "vscode": {
     "languageId": "r"
    }
   },
   "outputs": [],
   "source": [
    "mytest <- \"PD1%\"\n",
    "mypval3 <- ks.test(pbmc_leu[[mytest]][ which(pbmc_leu$cycle == \"X01\")], pbmc_leu[[mytest]][ which(pbmc_leu$cycle == \"X04\")])$p.value\n",
    "mypval3 <- formatC(mypval3, format = \"e\", digits = 2)"
   ]
  },
  {
   "cell_type": "code",
   "execution_count": null,
   "metadata": {
    "vscode": {
     "languageId": "r"
    }
   },
   "outputs": [],
   "source": [
    "mypval3"
   ]
  },
  {
   "cell_type": "code",
   "execution_count": null,
   "metadata": {
    "vscode": {
     "languageId": "r"
    }
   },
   "outputs": [],
   "source": [
    "p3_stat <- p3 + geom_signif(\n",
    "    y_position = 100, xmin = 1, xmax = 4,\n",
    "    annotation = paste0(\"p = \",mypval3), tip_length = 0.01, textsize = 5\n",
    "  ) "
   ]
  },
  {
   "cell_type": "code",
   "execution_count": null,
   "metadata": {
    "vscode": {
     "languageId": "r"
    }
   },
   "outputs": [],
   "source": [
    "p4 <- baseraincloud_plot.fx(pbmc_leu, \"`LAG3%`\", \"cycle\", \"cancergroup\", group_col, 0.5, 2)  "
   ]
  },
  {
   "cell_type": "code",
   "execution_count": null,
   "metadata": {
    "vscode": {
     "languageId": "r"
    }
   },
   "outputs": [],
   "source": [
    "p4"
   ]
  },
  {
   "cell_type": "code",
   "execution_count": null,
   "metadata": {
    "vscode": {
     "languageId": "r"
    }
   },
   "outputs": [],
   "source": [
    "mytest <- \"LAG3%\"\n",
    "mypval4 <- ks.test(pbmc_leu[[mytest]][ which(pbmc_leu$cycle == \"X01\")], pbmc_leu[[mytest]][ which(pbmc_leu$cycle == \"X05\")])$p.value\n",
    "mypval4 <- formatC(mypval4, format = \"e\", digits = 2)"
   ]
  },
  {
   "cell_type": "code",
   "execution_count": null,
   "metadata": {
    "vscode": {
     "languageId": "r"
    }
   },
   "outputs": [],
   "source": [
    "p4_stat <- p4 + geom_signif(\n",
    "    y_position = 100, xmin = 1, xmax = 4,\n",
    "    annotation = paste0(\"p = \",mypval4), tip_length = 0.01, textsize = 5\n",
    "  ) "
   ]
  },
  {
   "cell_type": "code",
   "execution_count": null,
   "metadata": {
    "vscode": {
     "languageId": "r"
    }
   },
   "outputs": [],
   "source": [
    "pdf(paste0(plotpath, \"rainclouds_naive_te_pd1_lag3_leukemia.pdf\"), width = 4, height = 10)\n",
    "plot_grid(p1_stat, p2_stat,p3_stat, p4_stat, nrow = 4, align = \"v\", axis = \"lr\")\n",
    "dev.off()"
   ]
  },
  {
   "cell_type": "code",
   "execution_count": null,
   "metadata": {
    "vscode": {
     "languageId": "r"
    }
   },
   "outputs": [],
   "source": []
  },
  {
   "cell_type": "code",
   "execution_count": null,
   "metadata": {
    "vscode": {
     "languageId": "r"
    }
   },
   "outputs": [],
   "source": []
  },
  {
   "cell_type": "code",
   "execution_count": null,
   "metadata": {
    "vscode": {
     "languageId": "r"
    }
   },
   "outputs": [],
   "source": []
  },
  {
   "cell_type": "code",
   "execution_count": null,
   "metadata": {
    "vscode": {
     "languageId": "r"
    }
   },
   "outputs": [],
   "source": []
  },
  {
   "cell_type": "code",
   "execution_count": null,
   "metadata": {
    "vscode": {
     "languageId": "r"
    }
   },
   "outputs": [],
   "source": []
  },
  {
   "cell_type": "code",
   "execution_count": null,
   "metadata": {
    "vscode": {
     "languageId": "r"
    }
   },
   "outputs": [],
   "source": []
  }
 ],
 "metadata": {
  "kernelspec": {
   "display_name": "R 4.0",
   "language": "R",
   "name": "ir40"
  },
  "language_info": {
   "codemirror_mode": "r",
   "file_extension": ".r",
   "mimetype": "text/x-r-source",
   "name": "R",
   "pygments_lexer": "r",
   "version": "4.2.2"
  },
  "toc": {
   "base_numbering": 1,
   "nav_menu": {},
   "number_sections": false,
   "sideBar": true,
   "skip_h1_title": false,
   "title_cell": "Table of Contents",
   "title_sidebar": "Contents",
   "toc_cell": true,
   "toc_position": {
    "height": "calc(100% - 180px)",
    "left": "10px",
    "top": "150px",
    "width": "186.15px"
   },
   "toc_section_display": true,
   "toc_window_display": true
  }
 },
 "nbformat": 4,
 "nbformat_minor": 2
}

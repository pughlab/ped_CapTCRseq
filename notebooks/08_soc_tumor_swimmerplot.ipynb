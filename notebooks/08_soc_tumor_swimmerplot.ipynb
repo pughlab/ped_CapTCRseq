{
 "cells": [
  {
   "attachments": {},
   "cell_type": "markdown",
   "metadata": {},
   "source": [
    "# Dependencies"
   ]
  },
  {
   "cell_type": "code",
   "execution_count": 1,
   "metadata": {
    "vscode": {
     "languageId": "r"
    }
   },
   "outputs": [],
   "source": [
    "pacman::p_load(dplyr, ggplot2, pBrackets, ggpubr, cowplot,readxl)"
   ]
  },
  {
   "attachments": {},
   "cell_type": "markdown",
   "metadata": {},
   "source": [
    "# Functions"
   ]
  },
  {
   "cell_type": "code",
   "execution_count": 3,
   "metadata": {
    "vscode": {
     "languageId": "r"
    }
   },
   "outputs": [],
   "source": [
    "source(\"/Users/anabbi/git/ped_CapTCRseq/R/functions/ggplot2_theme.R\")\n",
    "source(\"/Users/anabbi/git/ped_CapTCRseq/R/functions/color_schemes.R\")"
   ]
  },
  {
   "attachments": {},
   "cell_type": "markdown",
   "metadata": {},
   "source": [
    "# Paths"
   ]
  },
  {
   "cell_type": "code",
   "execution_count": 4,
   "metadata": {
    "vscode": {
     "languageId": "r"
    }
   },
   "outputs": [],
   "source": [
    "datapath <- \"/Users/anabbi/OneDrive - UHN/Documents/INTERCEPT/Data/\"\n",
    "plotpath <- \"/Users/anabbi/OneDrive - UHN/Documents/INTERCEPT/Plots/\"\n",
    "manifestpath <- \"/Users/anabbi/OneDrive - UHN/Documents/INTERCEPT/Manifests/\"\n",
    "gitpath <- \"/Users/anabbi/git/ped_CapTCRseq/\""
   ]
  },
  {
   "cell_type": "code",
   "execution_count": 5,
   "metadata": {
    "vscode": {
     "languageId": "r"
    }
   },
   "outputs": [],
   "source": [
    "h4hpath <- \"/Users/anabbi/Desktop/H4H/INTERCEPT/\""
   ]
  },
  {
   "attachments": {},
   "cell_type": "markdown",
   "metadata": {},
   "source": [
    "# Files"
   ]
  },
  {
   "cell_type": "code",
   "execution_count": 73,
   "metadata": {
    "vscode": {
     "languageId": "r"
    }
   },
   "outputs": [],
   "source": [
    "meta_div <- readr::read_rds(file = paste0(datapath,\"capTCRseq/meta_div_goodsamples.rds\"))"
   ]
  },
  {
   "cell_type": "code",
   "execution_count": 74,
   "metadata": {
    "vscode": {
     "languageId": "r"
    }
   },
   "outputs": [],
   "source": [
    "# Save the cleaned soc_good dataframe as RDS\n",
    "soc_good <- readRDS(file = file.path(datapath, \"chemo_cycles_cleaned.rds\"))"
   ]
  },
  {
   "cell_type": "code",
   "execution_count": 75,
   "metadata": {
    "vscode": {
     "languageId": "r"
    }
   },
   "outputs": [
    {
     "data": {
      "text/html": [
       "<table class=\"dataframe\">\n",
       "<caption>A tibble: 6 x 24</caption>\n",
       "<thead>\n",
       "\t<tr><th scope=col>Patient ID</th><th scope=col>Diagnosis</th><th scope=col>Cycle 1 Type</th><th scope=col>Cycle 1 Drugs</th><th scope=col>Cycle 1 Duration (days)</th><th scope=col>Cycle 1 Steroids</th><th scope=col>Cycle 2 Type</th><th scope=col>Cycle 2 Drugs</th><th scope=col>Cycle 2 Duration (days)</th><th scope=col>Cycle 2 Steroids</th><th scope=col>...</th><th scope=col>Cycle 4 Type</th><th scope=col>Cycle 4 Drugs</th><th scope=col>Cycle 4 Duration (days)</th><th scope=col>Cycle 4 Steroids</th><th scope=col>Cycle 5 Type</th><th scope=col>Cycle 5 Drugs</th><th scope=col>Cycle 5 Duration (days)</th><th scope=col>Cycle 5 Steroids</th><th scope=col>Disease</th><th scope=col>Cancergroup</th></tr>\n",
       "\t<tr><th scope=col>&lt;dbl&gt;</th><th scope=col>&lt;chr&gt;</th><th scope=col>&lt;chr&gt;</th><th scope=col>&lt;chr&gt;</th><th scope=col>&lt;chr&gt;</th><th scope=col>&lt;chr&gt;</th><th scope=col>&lt;chr&gt;</th><th scope=col>&lt;chr&gt;</th><th scope=col>&lt;chr&gt;</th><th scope=col>&lt;chr&gt;</th><th scope=col>...</th><th scope=col>&lt;chr&gt;</th><th scope=col>&lt;chr&gt;</th><th scope=col>&lt;chr&gt;</th><th scope=col>&lt;chr&gt;</th><th scope=col>&lt;chr&gt;</th><th scope=col>&lt;chr&gt;</th><th scope=col>&lt;chr&gt;</th><th scope=col>&lt;chr&gt;</th><th scope=col>&lt;chr&gt;</th><th scope=col>&lt;chr&gt;</th></tr>\n",
       "</thead>\n",
       "<tbody>\n",
       "\t<tr><td>319</td><td>HR ALL</td><td>Induction</td><td>Vincristine, Daunorubicin, Asparaginase, Dexamethasone</td><td>35</td><td>Yes</td><td>Consolidation</td><td>Vincristine, Mercaptopurine, Cyclophosphamide, Cytarabine, Asparaginase </td><td>56</td><td>No</td><td>...</td><td>Delayed Intensification</td><td>Vincristine, Doxorubicin, Dexamethasone, Asparaginase, Cyclophosphamide, Thioguanine, Cytarabine</td><td>63</td><td>Yes</td><td>Interim Maintenance II</td><td>Vincristine, Prednisone, Mercaptopurine, Methotrexate *repeats until end of therapy    </td><td>84 </td><td>Yes</td><td>HR ALL</td><td>Leukemia           </td></tr>\n",
       "\t<tr><td>323</td><td>HR ALL</td><td>Induction</td><td>Vincristine, Daunorubicin, Asparaginase, Dexamethasone</td><td>35</td><td>Yes</td><td>Consolidation</td><td>Vincristine, Mercaptopurine, Cyclophosphamide, Cytarabine, Asparaginase </td><td>56</td><td>No</td><td>...</td><td>Delayed Intensification</td><td>Vincristine, Doxorubicin, Dexamethasone, Asparaginase, Cyclophosphamide, Thioguanine, Cytarabine</td><td>63</td><td>Yes</td><td>Interim Maintenance II</td><td>Vincristine, Prednisone, Mercaptopurine, Methotrexate *repeats until end of therapy    </td><td>84 </td><td>Yes</td><td>HR ALL</td><td>Leukemia           </td></tr>\n",
       "\t<tr><td>324</td><td>T-ALL </td><td>Induction</td><td>Vincristine, Daunorubicin, Asparaginase, Dexamethasone</td><td>35</td><td>yes</td><td>Consolidation</td><td>Vincristine, Asparaginase, Mercaptopurine, Cyclophosphamide, Cyatarabine</td><td>56</td><td>no</td><td>...</td><td>Delayed Intensification</td><td>Vincristine, Asparaginase, Doxorubicin, Dexamethasone, Cyclophosphamide, Cytarabine, Thioguanine</td><td>63</td><td>yes</td><td>N/A                   </td><td>N/A                                                                                    </td><td>N/A</td><td>N/A</td><td>T-ALL </td><td>T-cell malignancies</td></tr>\n",
       "\t<tr><td>326</td><td>SR ALL</td><td>Induction</td><td>Vincristine, Asparaginase, Dexamethasone              </td><td>35</td><td>yes</td><td>Consolidation</td><td>Vincristine, Mercaptopurine                                             </td><td>28</td><td>no</td><td>...</td><td>Delayed Intensification</td><td>Vincristine, Doxorubicin, Dexamethasone, Asparaginase, Cyclophosphamide, Thioguanine, Cytarabine</td><td>56</td><td>yes</td><td>Interim Maintenance II</td><td>Vincristine, Dexamethasone, Mercaptopurine, Methotrexate  *repeats until end of therapy</td><td>56 </td><td>yes</td><td>SR ALL</td><td>Leukemia           </td></tr>\n",
       "\t<tr><td>328</td><td>SR ALL</td><td>Induction</td><td>Vincristine, Asparaginase, Dexamethasone              </td><td>35</td><td>yes</td><td>Consolidation</td><td>Vincristine, Mercaptopurine                                             </td><td>28</td><td>no</td><td>...</td><td>Delayed Intensification</td><td>Vincristine, Doxorubicin, Dexamethasone, Asparaginase, Cyclophosphamide, Thioguanine, Cytarabine</td><td>56</td><td>yes</td><td>Interim Maintenance II</td><td>Vincristine, Dexamethasone, Mercaptopurine, Methotrexate  *repeats until end of therapy</td><td>56 </td><td>yes</td><td>SR ALL</td><td>Leukemia           </td></tr>\n",
       "\t<tr><td>329</td><td>HR ALL</td><td>Induction</td><td>Vincristine, Daunorubicin, Asparaginase, Dexamethasone</td><td>35</td><td>Yes</td><td>Consolidation</td><td>Vincristine, Mercaptopurine, Cyclophosphamide, Cytarabine, Asparaginase </td><td>56</td><td>No</td><td>...</td><td>Delayed Intensification</td><td>Vincristine, Doxorubicin, Dexamethasone, Asparaginase, Cyclophosphamide, Thioguanine, Cytarabine</td><td>63</td><td>Yes</td><td>Interim Maintenance II</td><td>Vincristine, Prednisone, Mercaptopurine, Methotrexate *repeats until end of therapy    </td><td>84 </td><td>Yes</td><td>HR ALL</td><td>Leukemia           </td></tr>\n",
       "</tbody>\n",
       "</table>\n"
      ],
      "text/latex": [
       "A tibble: 6 x 24\n",
       "\\begin{tabular}{lllllllllllllllllllll}\n",
       " Patient ID & Diagnosis & Cycle 1 Type & Cycle 1 Drugs & Cycle 1 Duration (days) & Cycle 1 Steroids & Cycle 2 Type & Cycle 2 Drugs & Cycle 2 Duration (days) & Cycle 2 Steroids & ... & Cycle 4 Type & Cycle 4 Drugs & Cycle 4 Duration (days) & Cycle 4 Steroids & Cycle 5 Type & Cycle 5 Drugs & Cycle 5 Duration (days) & Cycle 5 Steroids & Disease & Cancergroup\\\\\n",
       " <dbl> & <chr> & <chr> & <chr> & <chr> & <chr> & <chr> & <chr> & <chr> & <chr> & ... & <chr> & <chr> & <chr> & <chr> & <chr> & <chr> & <chr> & <chr> & <chr> & <chr>\\\\\n",
       "\\hline\n",
       "\t 319 & HR ALL & Induction & Vincristine, Daunorubicin, Asparaginase, Dexamethasone & 35 & Yes & Consolidation & Vincristine, Mercaptopurine, Cyclophosphamide, Cytarabine, Asparaginase  & 56 & No & ... & Delayed Intensification & Vincristine, Doxorubicin, Dexamethasone, Asparaginase, Cyclophosphamide, Thioguanine, Cytarabine & 63 & Yes & Interim Maintenance II & Vincristine, Prednisone, Mercaptopurine, Methotrexate *repeats until end of therapy     & 84  & Yes & HR ALL & Leukemia           \\\\\n",
       "\t 323 & HR ALL & Induction & Vincristine, Daunorubicin, Asparaginase, Dexamethasone & 35 & Yes & Consolidation & Vincristine, Mercaptopurine, Cyclophosphamide, Cytarabine, Asparaginase  & 56 & No & ... & Delayed Intensification & Vincristine, Doxorubicin, Dexamethasone, Asparaginase, Cyclophosphamide, Thioguanine, Cytarabine & 63 & Yes & Interim Maintenance II & Vincristine, Prednisone, Mercaptopurine, Methotrexate *repeats until end of therapy     & 84  & Yes & HR ALL & Leukemia           \\\\\n",
       "\t 324 & T-ALL  & Induction & Vincristine, Daunorubicin, Asparaginase, Dexamethasone & 35 & yes & Consolidation & Vincristine, Asparaginase, Mercaptopurine, Cyclophosphamide, Cyatarabine & 56 & no & ... & Delayed Intensification & Vincristine, Asparaginase, Doxorubicin, Dexamethasone, Cyclophosphamide, Cytarabine, Thioguanine & 63 & yes & N/A                    & N/A                                                                                     & N/A & N/A & T-ALL  & T-cell malignancies\\\\\n",
       "\t 326 & SR ALL & Induction & Vincristine, Asparaginase, Dexamethasone               & 35 & yes & Consolidation & Vincristine, Mercaptopurine                                              & 28 & no & ... & Delayed Intensification & Vincristine, Doxorubicin, Dexamethasone, Asparaginase, Cyclophosphamide, Thioguanine, Cytarabine & 56 & yes & Interim Maintenance II & Vincristine, Dexamethasone, Mercaptopurine, Methotrexate  *repeats until end of therapy & 56  & yes & SR ALL & Leukemia           \\\\\n",
       "\t 328 & SR ALL & Induction & Vincristine, Asparaginase, Dexamethasone               & 35 & yes & Consolidation & Vincristine, Mercaptopurine                                              & 28 & no & ... & Delayed Intensification & Vincristine, Doxorubicin, Dexamethasone, Asparaginase, Cyclophosphamide, Thioguanine, Cytarabine & 56 & yes & Interim Maintenance II & Vincristine, Dexamethasone, Mercaptopurine, Methotrexate  *repeats until end of therapy & 56  & yes & SR ALL & Leukemia           \\\\\n",
       "\t 329 & HR ALL & Induction & Vincristine, Daunorubicin, Asparaginase, Dexamethasone & 35 & Yes & Consolidation & Vincristine, Mercaptopurine, Cyclophosphamide, Cytarabine, Asparaginase  & 56 & No & ... & Delayed Intensification & Vincristine, Doxorubicin, Dexamethasone, Asparaginase, Cyclophosphamide, Thioguanine, Cytarabine & 63 & Yes & Interim Maintenance II & Vincristine, Prednisone, Mercaptopurine, Methotrexate *repeats until end of therapy     & 84  & Yes & HR ALL & Leukemia           \\\\\n",
       "\\end{tabular}\n"
      ],
      "text/markdown": [
       "\n",
       "A tibble: 6 x 24\n",
       "\n",
       "| Patient ID &lt;dbl&gt; | Diagnosis &lt;chr&gt; | Cycle 1 Type &lt;chr&gt; | Cycle 1 Drugs &lt;chr&gt; | Cycle 1 Duration (days) &lt;chr&gt; | Cycle 1 Steroids &lt;chr&gt; | Cycle 2 Type &lt;chr&gt; | Cycle 2 Drugs &lt;chr&gt; | Cycle 2 Duration (days) &lt;chr&gt; | Cycle 2 Steroids &lt;chr&gt; | ... ... | Cycle 4 Type &lt;chr&gt; | Cycle 4 Drugs &lt;chr&gt; | Cycle 4 Duration (days) &lt;chr&gt; | Cycle 4 Steroids &lt;chr&gt; | Cycle 5 Type &lt;chr&gt; | Cycle 5 Drugs &lt;chr&gt; | Cycle 5 Duration (days) &lt;chr&gt; | Cycle 5 Steroids &lt;chr&gt; | Disease &lt;chr&gt; | Cancergroup &lt;chr&gt; |\n",
       "|---|---|---|---|---|---|---|---|---|---|---|---|---|---|---|---|---|---|---|---|---|\n",
       "| 319 | HR ALL | Induction | Vincristine, Daunorubicin, Asparaginase, Dexamethasone | 35 | Yes | Consolidation | Vincristine, Mercaptopurine, Cyclophosphamide, Cytarabine, Asparaginase  | 56 | No | ... | Delayed Intensification | Vincristine, Doxorubicin, Dexamethasone, Asparaginase, Cyclophosphamide, Thioguanine, Cytarabine | 63 | Yes | Interim Maintenance II | Vincristine, Prednisone, Mercaptopurine, Methotrexate *repeats until end of therapy     | 84  | Yes | HR ALL | Leukemia            |\n",
       "| 323 | HR ALL | Induction | Vincristine, Daunorubicin, Asparaginase, Dexamethasone | 35 | Yes | Consolidation | Vincristine, Mercaptopurine, Cyclophosphamide, Cytarabine, Asparaginase  | 56 | No | ... | Delayed Intensification | Vincristine, Doxorubicin, Dexamethasone, Asparaginase, Cyclophosphamide, Thioguanine, Cytarabine | 63 | Yes | Interim Maintenance II | Vincristine, Prednisone, Mercaptopurine, Methotrexate *repeats until end of therapy     | 84  | Yes | HR ALL | Leukemia            |\n",
       "| 324 | T-ALL  | Induction | Vincristine, Daunorubicin, Asparaginase, Dexamethasone | 35 | yes | Consolidation | Vincristine, Asparaginase, Mercaptopurine, Cyclophosphamide, Cyatarabine | 56 | no | ... | Delayed Intensification | Vincristine, Asparaginase, Doxorubicin, Dexamethasone, Cyclophosphamide, Cytarabine, Thioguanine | 63 | yes | N/A                    | N/A                                                                                     | N/A | N/A | T-ALL  | T-cell malignancies |\n",
       "| 326 | SR ALL | Induction | Vincristine, Asparaginase, Dexamethasone               | 35 | yes | Consolidation | Vincristine, Mercaptopurine                                              | 28 | no | ... | Delayed Intensification | Vincristine, Doxorubicin, Dexamethasone, Asparaginase, Cyclophosphamide, Thioguanine, Cytarabine | 56 | yes | Interim Maintenance II | Vincristine, Dexamethasone, Mercaptopurine, Methotrexate  *repeats until end of therapy | 56  | yes | SR ALL | Leukemia            |\n",
       "| 328 | SR ALL | Induction | Vincristine, Asparaginase, Dexamethasone               | 35 | yes | Consolidation | Vincristine, Mercaptopurine                                              | 28 | no | ... | Delayed Intensification | Vincristine, Doxorubicin, Dexamethasone, Asparaginase, Cyclophosphamide, Thioguanine, Cytarabine | 56 | yes | Interim Maintenance II | Vincristine, Dexamethasone, Mercaptopurine, Methotrexate  *repeats until end of therapy | 56  | yes | SR ALL | Leukemia            |\n",
       "| 329 | HR ALL | Induction | Vincristine, Daunorubicin, Asparaginase, Dexamethasone | 35 | Yes | Consolidation | Vincristine, Mercaptopurine, Cyclophosphamide, Cytarabine, Asparaginase  | 56 | No | ... | Delayed Intensification | Vincristine, Doxorubicin, Dexamethasone, Asparaginase, Cyclophosphamide, Thioguanine, Cytarabine | 63 | Yes | Interim Maintenance II | Vincristine, Prednisone, Mercaptopurine, Methotrexate *repeats until end of therapy     | 84  | Yes | HR ALL | Leukemia            |\n",
       "\n"
      ],
      "text/plain": [
       "  Patient ID Diagnosis Cycle 1 Type\n",
       "1 319        HR ALL    Induction   \n",
       "2 323        HR ALL    Induction   \n",
       "3 324        T-ALL     Induction   \n",
       "4 326        SR ALL    Induction   \n",
       "5 328        SR ALL    Induction   \n",
       "6 329        HR ALL    Induction   \n",
       "  Cycle 1 Drugs                                         \n",
       "1 Vincristine, Daunorubicin, Asparaginase, Dexamethasone\n",
       "2 Vincristine, Daunorubicin, Asparaginase, Dexamethasone\n",
       "3 Vincristine, Daunorubicin, Asparaginase, Dexamethasone\n",
       "4 Vincristine, Asparaginase, Dexamethasone              \n",
       "5 Vincristine, Asparaginase, Dexamethasone              \n",
       "6 Vincristine, Daunorubicin, Asparaginase, Dexamethasone\n",
       "  Cycle 1 Duration (days) Cycle 1 Steroids Cycle 2 Type \n",
       "1 35                      Yes              Consolidation\n",
       "2 35                      Yes              Consolidation\n",
       "3 35                      yes              Consolidation\n",
       "4 35                      yes              Consolidation\n",
       "5 35                      yes              Consolidation\n",
       "6 35                      Yes              Consolidation\n",
       "  Cycle 2 Drugs                                                           \n",
       "1 Vincristine, Mercaptopurine, Cyclophosphamide, Cytarabine, Asparaginase \n",
       "2 Vincristine, Mercaptopurine, Cyclophosphamide, Cytarabine, Asparaginase \n",
       "3 Vincristine, Asparaginase, Mercaptopurine, Cyclophosphamide, Cyatarabine\n",
       "4 Vincristine, Mercaptopurine                                             \n",
       "5 Vincristine, Mercaptopurine                                             \n",
       "6 Vincristine, Mercaptopurine, Cyclophosphamide, Cytarabine, Asparaginase \n",
       "  Cycle 2 Duration (days) Cycle 2 Steroids ... Cycle 4 Type           \n",
       "1 56                      No               ... Delayed Intensification\n",
       "2 56                      No               ... Delayed Intensification\n",
       "3 56                      no               ... Delayed Intensification\n",
       "4 28                      no               ... Delayed Intensification\n",
       "5 28                      no               ... Delayed Intensification\n",
       "6 56                      No               ... Delayed Intensification\n",
       "  Cycle 4 Drugs                                                                                   \n",
       "1 Vincristine, Doxorubicin, Dexamethasone, Asparaginase, Cyclophosphamide, Thioguanine, Cytarabine\n",
       "2 Vincristine, Doxorubicin, Dexamethasone, Asparaginase, Cyclophosphamide, Thioguanine, Cytarabine\n",
       "3 Vincristine, Asparaginase, Doxorubicin, Dexamethasone, Cyclophosphamide, Cytarabine, Thioguanine\n",
       "4 Vincristine, Doxorubicin, Dexamethasone, Asparaginase, Cyclophosphamide, Thioguanine, Cytarabine\n",
       "5 Vincristine, Doxorubicin, Dexamethasone, Asparaginase, Cyclophosphamide, Thioguanine, Cytarabine\n",
       "6 Vincristine, Doxorubicin, Dexamethasone, Asparaginase, Cyclophosphamide, Thioguanine, Cytarabine\n",
       "  Cycle 4 Duration (days) Cycle 4 Steroids Cycle 5 Type          \n",
       "1 63                      Yes              Interim Maintenance II\n",
       "2 63                      Yes              Interim Maintenance II\n",
       "3 63                      yes              N/A                   \n",
       "4 56                      yes              Interim Maintenance II\n",
       "5 56                      yes              Interim Maintenance II\n",
       "6 63                      Yes              Interim Maintenance II\n",
       "  Cycle 5 Drugs                                                                          \n",
       "1 Vincristine, Prednisone, Mercaptopurine, Methotrexate *repeats until end of therapy    \n",
       "2 Vincristine, Prednisone, Mercaptopurine, Methotrexate *repeats until end of therapy    \n",
       "3 N/A                                                                                    \n",
       "4 Vincristine, Dexamethasone, Mercaptopurine, Methotrexate  *repeats until end of therapy\n",
       "5 Vincristine, Dexamethasone, Mercaptopurine, Methotrexate  *repeats until end of therapy\n",
       "6 Vincristine, Prednisone, Mercaptopurine, Methotrexate *repeats until end of therapy    \n",
       "  Cycle 5 Duration (days) Cycle 5 Steroids Disease Cancergroup        \n",
       "1 84                      Yes              HR ALL  Leukemia           \n",
       "2 84                      Yes              HR ALL  Leukemia           \n",
       "3 N/A                     N/A              T-ALL   T-cell malignancies\n",
       "4 56                      yes              SR ALL  Leukemia           \n",
       "5 56                      yes              SR ALL  Leukemia           \n",
       "6 84                      Yes              HR ALL  Leukemia           "
      ]
     },
     "metadata": {},
     "output_type": "display_data"
    }
   ],
   "source": [
    "head(soc_good)"
   ]
  },
  {
   "cell_type": "markdown",
   "metadata": {},
   "source": [
    "# Main"
   ]
  },
  {
   "cell_type": "markdown",
   "metadata": {},
   "source": [
    "## Bubble plot"
   ]
  },
  {
   "cell_type": "code",
   "execution_count": 76,
   "metadata": {
    "vscode": {
     "languageId": "r"
    }
   },
   "outputs": [],
   "source": [
    "# Reshape soc_good to long format for all drug columns\n",
    "soc_good_long <- soc_good %>%\n",
    "  tidyr::pivot_longer(\n",
    "    cols = matches(\"Cycle \\\\d+ Drugs\"),\n",
    "    names_to = \"cycle\",\n",
    "    values_to = \"drugs\",\n",
    "    names_pattern = \"Cycle (\\\\d+) Drugs\"\n",
    "  ) %>%\n",
    "  # Keep all other columns\n",
    "  select(everything()) %>%\n",
    "  # Clean up cycle numbers\n",
    "  mutate(cycle = as.numeric(cycle))\n"
   ]
  },
  {
   "cell_type": "code",
   "execution_count": 77,
   "metadata": {
    "vscode": {
     "languageId": "r"
    }
   },
   "outputs": [],
   "source": [
    "soc_good_long_sep <- soc_good_long %>%\n",
    "  tidyr::separate_rows(drugs, sep = \",\\\\s*\") "
   ]
  },
  {
   "cell_type": "code",
   "execution_count": 78,
   "metadata": {
    "vscode": {
     "languageId": "r"
    }
   },
   "outputs": [],
   "source": [
    "# Remove anything after asterisk in drugs column\n",
    "soc_good_long_sep$drugs <- sub(\"\\\\*.*$\", \"\", soc_good_long_sep$drugs)\n",
    "# Remove \"held during radiation\" from drugs column\n",
    "soc_good_long_sep$drugs <- sub(\"held during radiation\", \"\", soc_good_long_sep$drugs)\n",
    "soc_good_long_sep$drugs <- trimws(soc_good_long_sep$drugs) # Remove any trailing whitespace\n"
   ]
  },
  {
   "cell_type": "code",
   "execution_count": 79,
   "metadata": {
    "vscode": {
     "languageId": "r"
    }
   },
   "outputs": [],
   "source": [
    "# Fix inconsistent drug spellings\n",
    "soc_good_long_sep$drugs <- gsub(\"dactinomycin\", \"Dactinomycin\", soc_good_long_sep$drugs, ignore.case=TRUE)\n",
    "soc_good_long_sep$drugs <- gsub(\"Cisplatinum\", \"Cisplatin\", soc_good_long_sep$drugs, ignore.case=TRUE) \n",
    "soc_good_long_sep$drugs <- gsub(\"Cyatarabine\", \"Cytarabine\", soc_good_long_sep$drugs, ignore.case=TRUE)\n"
   ]
  },
  {
   "cell_type": "code",
   "execution_count": 80,
   "metadata": {
    "vscode": {
     "languageId": "r"
    }
   },
   "outputs": [],
   "source": [
    "soc_good_long_sep$drug_type <- NA\n",
    "soc_good_long_sep$drug_type[grepl(\"Vincristine|Daunorubicin|Asparaginase|Mercaptopurine|Cyclophosphamide|Cytarabine|Methotrexate|Doxorubicin|Thioguanine|Cisplatin|Bleomyocin|Etoposide|5-Fluorouracil|Mitoxantrone|Ifosphamide|Topotecan|Dactinomycin\", soc_good_long_sep$drugs, ignore.case=TRUE)] <- \"Chemotherapy\"\n",
    "soc_good_long_sep$drug_type[grepl(\"Dexamethasone|Prednisone\", soc_good_long_sep$drugs, ignore.case=TRUE)] <- \"Steroid\"\n",
    "soc_good_long_sep$drug_type[grepl(\"Imatinib\", soc_good_long_sep$drugs, ignore.case=TRUE)] <- \"Small molecule\""
   ]
  },
  {
   "cell_type": "code",
   "execution_count": 81,
   "metadata": {
    "vscode": {
     "languageId": "r"
    }
   },
   "outputs": [
    {
     "data": {
      "text/html": [
       "<table class=\"dataframe\">\n",
       "<caption>A tibble: 6 x 22</caption>\n",
       "<thead>\n",
       "\t<tr><th scope=col>Patient ID</th><th scope=col>Diagnosis</th><th scope=col>Cycle 1 Type</th><th scope=col>Cycle 1 Duration (days)</th><th scope=col>Cycle 1 Steroids</th><th scope=col>Cycle 2 Type</th><th scope=col>Cycle 2 Duration (days)</th><th scope=col>Cycle 2 Steroids</th><th scope=col>Cycle 3 Type</th><th scope=col>Cycle 3 Duration (days)</th><th scope=col>...</th><th scope=col>Cycle 4 Duration (days)</th><th scope=col>Cycle 4 Steroids</th><th scope=col>Cycle 5 Type</th><th scope=col>Cycle 5 Duration (days)</th><th scope=col>Cycle 5 Steroids</th><th scope=col>Disease</th><th scope=col>Cancergroup</th><th scope=col>cycle</th><th scope=col>drugs</th><th scope=col>drug_type</th></tr>\n",
       "\t<tr><th scope=col>&lt;dbl&gt;</th><th scope=col>&lt;chr&gt;</th><th scope=col>&lt;chr&gt;</th><th scope=col>&lt;chr&gt;</th><th scope=col>&lt;chr&gt;</th><th scope=col>&lt;chr&gt;</th><th scope=col>&lt;chr&gt;</th><th scope=col>&lt;chr&gt;</th><th scope=col>&lt;chr&gt;</th><th scope=col>&lt;chr&gt;</th><th scope=col>...</th><th scope=col>&lt;chr&gt;</th><th scope=col>&lt;chr&gt;</th><th scope=col>&lt;chr&gt;</th><th scope=col>&lt;chr&gt;</th><th scope=col>&lt;chr&gt;</th><th scope=col>&lt;chr&gt;</th><th scope=col>&lt;chr&gt;</th><th scope=col>&lt;dbl&gt;</th><th scope=col>&lt;chr&gt;</th><th scope=col>&lt;chr&gt;</th></tr>\n",
       "</thead>\n",
       "<tbody>\n",
       "\t<tr><td>319</td><td>HR ALL</td><td>Induction</td><td>35</td><td>Yes</td><td>Consolidation</td><td>56</td><td>No</td><td>Interim Maintenance I</td><td>63</td><td>...</td><td>63</td><td>Yes</td><td>Interim Maintenance II</td><td>84</td><td>Yes</td><td>HR ALL</td><td>Leukemia</td><td>1</td><td>Vincristine   </td><td>Chemotherapy</td></tr>\n",
       "\t<tr><td>319</td><td>HR ALL</td><td>Induction</td><td>35</td><td>Yes</td><td>Consolidation</td><td>56</td><td>No</td><td>Interim Maintenance I</td><td>63</td><td>...</td><td>63</td><td>Yes</td><td>Interim Maintenance II</td><td>84</td><td>Yes</td><td>HR ALL</td><td>Leukemia</td><td>1</td><td>Daunorubicin  </td><td>Chemotherapy</td></tr>\n",
       "\t<tr><td>319</td><td>HR ALL</td><td>Induction</td><td>35</td><td>Yes</td><td>Consolidation</td><td>56</td><td>No</td><td>Interim Maintenance I</td><td>63</td><td>...</td><td>63</td><td>Yes</td><td>Interim Maintenance II</td><td>84</td><td>Yes</td><td>HR ALL</td><td>Leukemia</td><td>1</td><td>Asparaginase  </td><td>Chemotherapy</td></tr>\n",
       "\t<tr><td>319</td><td>HR ALL</td><td>Induction</td><td>35</td><td>Yes</td><td>Consolidation</td><td>56</td><td>No</td><td>Interim Maintenance I</td><td>63</td><td>...</td><td>63</td><td>Yes</td><td>Interim Maintenance II</td><td>84</td><td>Yes</td><td>HR ALL</td><td>Leukemia</td><td>1</td><td>Dexamethasone </td><td>Steroid     </td></tr>\n",
       "\t<tr><td>319</td><td>HR ALL</td><td>Induction</td><td>35</td><td>Yes</td><td>Consolidation</td><td>56</td><td>No</td><td>Interim Maintenance I</td><td>63</td><td>...</td><td>63</td><td>Yes</td><td>Interim Maintenance II</td><td>84</td><td>Yes</td><td>HR ALL</td><td>Leukemia</td><td>2</td><td>Vincristine   </td><td>Chemotherapy</td></tr>\n",
       "\t<tr><td>319</td><td>HR ALL</td><td>Induction</td><td>35</td><td>Yes</td><td>Consolidation</td><td>56</td><td>No</td><td>Interim Maintenance I</td><td>63</td><td>...</td><td>63</td><td>Yes</td><td>Interim Maintenance II</td><td>84</td><td>Yes</td><td>HR ALL</td><td>Leukemia</td><td>2</td><td>Mercaptopurine</td><td>Chemotherapy</td></tr>\n",
       "</tbody>\n",
       "</table>\n"
      ],
      "text/latex": [
       "A tibble: 6 x 22\n",
       "\\begin{tabular}{lllllllllllllllllllll}\n",
       " Patient ID & Diagnosis & Cycle 1 Type & Cycle 1 Duration (days) & Cycle 1 Steroids & Cycle 2 Type & Cycle 2 Duration (days) & Cycle 2 Steroids & Cycle 3 Type & Cycle 3 Duration (days) & ... & Cycle 4 Duration (days) & Cycle 4 Steroids & Cycle 5 Type & Cycle 5 Duration (days) & Cycle 5 Steroids & Disease & Cancergroup & cycle & drugs & drug\\_type\\\\\n",
       " <dbl> & <chr> & <chr> & <chr> & <chr> & <chr> & <chr> & <chr> & <chr> & <chr> & ... & <chr> & <chr> & <chr> & <chr> & <chr> & <chr> & <chr> & <dbl> & <chr> & <chr>\\\\\n",
       "\\hline\n",
       "\t 319 & HR ALL & Induction & 35 & Yes & Consolidation & 56 & No & Interim Maintenance I & 63 & ... & 63 & Yes & Interim Maintenance II & 84 & Yes & HR ALL & Leukemia & 1 & Vincristine    & Chemotherapy\\\\\n",
       "\t 319 & HR ALL & Induction & 35 & Yes & Consolidation & 56 & No & Interim Maintenance I & 63 & ... & 63 & Yes & Interim Maintenance II & 84 & Yes & HR ALL & Leukemia & 1 & Daunorubicin   & Chemotherapy\\\\\n",
       "\t 319 & HR ALL & Induction & 35 & Yes & Consolidation & 56 & No & Interim Maintenance I & 63 & ... & 63 & Yes & Interim Maintenance II & 84 & Yes & HR ALL & Leukemia & 1 & Asparaginase   & Chemotherapy\\\\\n",
       "\t 319 & HR ALL & Induction & 35 & Yes & Consolidation & 56 & No & Interim Maintenance I & 63 & ... & 63 & Yes & Interim Maintenance II & 84 & Yes & HR ALL & Leukemia & 1 & Dexamethasone  & Steroid     \\\\\n",
       "\t 319 & HR ALL & Induction & 35 & Yes & Consolidation & 56 & No & Interim Maintenance I & 63 & ... & 63 & Yes & Interim Maintenance II & 84 & Yes & HR ALL & Leukemia & 2 & Vincristine    & Chemotherapy\\\\\n",
       "\t 319 & HR ALL & Induction & 35 & Yes & Consolidation & 56 & No & Interim Maintenance I & 63 & ... & 63 & Yes & Interim Maintenance II & 84 & Yes & HR ALL & Leukemia & 2 & Mercaptopurine & Chemotherapy\\\\\n",
       "\\end{tabular}\n"
      ],
      "text/markdown": [
       "\n",
       "A tibble: 6 x 22\n",
       "\n",
       "| Patient ID &lt;dbl&gt; | Diagnosis &lt;chr&gt; | Cycle 1 Type &lt;chr&gt; | Cycle 1 Duration (days) &lt;chr&gt; | Cycle 1 Steroids &lt;chr&gt; | Cycle 2 Type &lt;chr&gt; | Cycle 2 Duration (days) &lt;chr&gt; | Cycle 2 Steroids &lt;chr&gt; | Cycle 3 Type &lt;chr&gt; | Cycle 3 Duration (days) &lt;chr&gt; | ... ... | Cycle 4 Duration (days) &lt;chr&gt; | Cycle 4 Steroids &lt;chr&gt; | Cycle 5 Type &lt;chr&gt; | Cycle 5 Duration (days) &lt;chr&gt; | Cycle 5 Steroids &lt;chr&gt; | Disease &lt;chr&gt; | Cancergroup &lt;chr&gt; | cycle &lt;dbl&gt; | drugs &lt;chr&gt; | drug_type &lt;chr&gt; |\n",
       "|---|---|---|---|---|---|---|---|---|---|---|---|---|---|---|---|---|---|---|---|---|\n",
       "| 319 | HR ALL | Induction | 35 | Yes | Consolidation | 56 | No | Interim Maintenance I | 63 | ... | 63 | Yes | Interim Maintenance II | 84 | Yes | HR ALL | Leukemia | 1 | Vincristine    | Chemotherapy |\n",
       "| 319 | HR ALL | Induction | 35 | Yes | Consolidation | 56 | No | Interim Maintenance I | 63 | ... | 63 | Yes | Interim Maintenance II | 84 | Yes | HR ALL | Leukemia | 1 | Daunorubicin   | Chemotherapy |\n",
       "| 319 | HR ALL | Induction | 35 | Yes | Consolidation | 56 | No | Interim Maintenance I | 63 | ... | 63 | Yes | Interim Maintenance II | 84 | Yes | HR ALL | Leukemia | 1 | Asparaginase   | Chemotherapy |\n",
       "| 319 | HR ALL | Induction | 35 | Yes | Consolidation | 56 | No | Interim Maintenance I | 63 | ... | 63 | Yes | Interim Maintenance II | 84 | Yes | HR ALL | Leukemia | 1 | Dexamethasone  | Steroid      |\n",
       "| 319 | HR ALL | Induction | 35 | Yes | Consolidation | 56 | No | Interim Maintenance I | 63 | ... | 63 | Yes | Interim Maintenance II | 84 | Yes | HR ALL | Leukemia | 2 | Vincristine    | Chemotherapy |\n",
       "| 319 | HR ALL | Induction | 35 | Yes | Consolidation | 56 | No | Interim Maintenance I | 63 | ... | 63 | Yes | Interim Maintenance II | 84 | Yes | HR ALL | Leukemia | 2 | Mercaptopurine | Chemotherapy |\n",
       "\n"
      ],
      "text/plain": [
       "  Patient ID Diagnosis Cycle 1 Type Cycle 1 Duration (days) Cycle 1 Steroids\n",
       "1 319        HR ALL    Induction    35                      Yes             \n",
       "2 319        HR ALL    Induction    35                      Yes             \n",
       "3 319        HR ALL    Induction    35                      Yes             \n",
       "4 319        HR ALL    Induction    35                      Yes             \n",
       "5 319        HR ALL    Induction    35                      Yes             \n",
       "6 319        HR ALL    Induction    35                      Yes             \n",
       "  Cycle 2 Type  Cycle 2 Duration (days) Cycle 2 Steroids Cycle 3 Type         \n",
       "1 Consolidation 56                      No               Interim Maintenance I\n",
       "2 Consolidation 56                      No               Interim Maintenance I\n",
       "3 Consolidation 56                      No               Interim Maintenance I\n",
       "4 Consolidation 56                      No               Interim Maintenance I\n",
       "5 Consolidation 56                      No               Interim Maintenance I\n",
       "6 Consolidation 56                      No               Interim Maintenance I\n",
       "  Cycle 3 Duration (days) ... Cycle 4 Duration (days) Cycle 4 Steroids\n",
       "1 63                      ... 63                      Yes             \n",
       "2 63                      ... 63                      Yes             \n",
       "3 63                      ... 63                      Yes             \n",
       "4 63                      ... 63                      Yes             \n",
       "5 63                      ... 63                      Yes             \n",
       "6 63                      ... 63                      Yes             \n",
       "  Cycle 5 Type           Cycle 5 Duration (days) Cycle 5 Steroids Disease\n",
       "1 Interim Maintenance II 84                      Yes              HR ALL \n",
       "2 Interim Maintenance II 84                      Yes              HR ALL \n",
       "3 Interim Maintenance II 84                      Yes              HR ALL \n",
       "4 Interim Maintenance II 84                      Yes              HR ALL \n",
       "5 Interim Maintenance II 84                      Yes              HR ALL \n",
       "6 Interim Maintenance II 84                      Yes              HR ALL \n",
       "  Cancergroup cycle drugs          drug_type   \n",
       "1 Leukemia    1     Vincristine    Chemotherapy\n",
       "2 Leukemia    1     Daunorubicin   Chemotherapy\n",
       "3 Leukemia    1     Asparaginase   Chemotherapy\n",
       "4 Leukemia    1     Dexamethasone  Steroid     \n",
       "5 Leukemia    2     Vincristine    Chemotherapy\n",
       "6 Leukemia    2     Mercaptopurine Chemotherapy"
      ]
     },
     "metadata": {},
     "output_type": "display_data"
    }
   ],
   "source": [
    "head(soc_good_long_sep)"
   ]
  },
  {
   "cell_type": "code",
   "execution_count": 15,
   "metadata": {
    "vscode": {
     "languageId": "r"
    }
   },
   "outputs": [],
   "source": [
    "# # Clean up drug names and recreate tab\n",
    "# tab <- soc_good %>%\n",
    "# tidyr::separate_rows(`Cycle 1 Drugs`, sep = \",\\\\s*\") %>%\n",
    "# mutate(`Cycle 1 Drugs` = trimws(`Cycle 1 Drugs`)) %>%\n",
    "# filter(!is.na(`Cycle 1 Drugs`), `Cycle 1 Drugs` != \"\") %>%\n",
    "# mutate(`Cycle 1 Drugs` = case_when(\n",
    "#   grepl(\"dactinomycin held during radiation\", `Cycle 1 Drugs`, ignore.case = TRUE) ~ \"Dactinomycin\",\n",
    "#   grepl(\"Cyclophosphamide.*Repeated every three weeks\", `Cycle 1 Drugs`, ignore.case = TRUE) ~ \"Cyclophosphamide\",\n",
    "#   TRUE ~ `Cycle 1 Drugs`\n",
    "# )) %>%\n",
    "# group_by(Disease, Cancergroup, `Cycle 1 Drugs`) %>% \n",
    "# summarise(Count = n(), .groups = \"drop\")\n"
   ]
  },
  {
   "cell_type": "code",
   "execution_count": 16,
   "metadata": {
    "vscode": {
     "languageId": "r"
    }
   },
   "outputs": [],
   "source": [
    "# # Function to create drug analysis and visualization for any cycle\n",
    "# create_drug_analysis <- function(alldata, cycle_name = \"1\") {\n",
    "#   data <- alldata[alldata$cycle == cycle_name, ]\n",
    "#   data <- data[ which(data$drugs != \"N/A\"), ]\n",
    "#   data <- data[ !is.na(data$drugs), ]\n",
    "#   # Clean up drug names and create tab\n",
    "#   tab <- data %>%\n",
    "#     group_by(Disease, Cancergroup, drugs) %>% \n",
    "#     summarise(Count = n(), .groups = \"drop\")\n",
    "  \n",
    "#   # Add drug_type column by matching drugs from data\n",
    "#   drug_type_mapping <- data %>%\n",
    "#     select(drugs, drug_type) %>%\n",
    "#     distinct()\n",
    "  \n",
    "#   tab <- tab %>%\n",
    "#     left_join(drug_type_mapping, by = c(\"drugs\" = \"drugs\"))\n",
    "# #   # Add drug_type column\n",
    "# #   tab <- tab %>%\n",
    "# #     left_join(data %>% select(drugs, drug_type), by = \"drugs\")\n",
    "  \n",
    "#   # Arrange and factorize\n",
    "#   tab <- tab %>%\n",
    "#     arrange(Cancergroup, Disease, Count) %>%\n",
    "#     mutate(Disease = factor(Disease, levels = unique(Disease)))\n",
    "\n",
    "#   # Create drug_type_summary for faceting order\n",
    "#   drug_type_summary <- tab %>%\n",
    "#     group_by(drug_type) %>%\n",
    "#     summarise(total_count = sum(Count)) %>%\n",
    "#     arrange(desc(total_count))\n",
    "  \n",
    "#   # Factorize drugs based on total count within each drug type\n",
    "#   tab <- tab %>%\n",
    "#     group_by(drugs, drug_type) %>%\n",
    "#     mutate(total_count = sum(Count)) %>%\n",
    "#     arrange(total_count) %>%\n",
    "#     #mutate(drugs = factor(drugs, levels = unique(drugs))) %>%\n",
    "#     ungroup()\n",
    "#     tab$drugs <- factor(tab$drugs, levels = unique(tab$drugs))\n",
    "  \n",
    "#   # Create the plot\n",
    "#   p <- ggplot(tab, aes(x = Disease, y = drugs, size = Count, color = Cancergroup)) + \n",
    "#     geom_point(alpha = 0.6) + \n",
    "#     scale_size(range = c(3,12)) +\n",
    "#     scale_color_manual(values = group_col) +\n",
    "#     theme_minimal() + \n",
    "#     theme(axis.text.x = element_text(angle = 30, hjust = 1),\n",
    "#           axis.title = element_blank()) +\n",
    "#     labs(title = paste(\"Drug Usage by Disease at cycle\", cycle_name))\n",
    "  \n",
    "#   # Add facets\n",
    "#   p <- p + facet_grid(vars(drug_type), scales = \"free_y\", space = \"free\", switch = \"y\") +\n",
    "#     theme(strip.text.y.left = element_text(angle = 0), strip.placement = \"outside\")\n",
    "  \n",
    "#   return(list(tab = tab, plot = p, summary = drug_type_summary))\n",
    "# }\n"
   ]
  },
  {
   "cell_type": "code",
   "execution_count": 17,
   "metadata": {
    "vscode": {
     "languageId": "r"
    }
   },
   "outputs": [],
   "source": [
    "# cycle1_results <- create_drug_analysis(soc_good_long_sep, \"1\")\n",
    "# cycle2_results <- create_drug_analysis(soc_good_long_sep, \"2\")\n",
    "# cycle3_results <- create_drug_analysis(soc_good_long_sep, \"3\")\n"
   ]
  },
  {
   "cell_type": "code",
   "execution_count": 18,
   "metadata": {
    "vscode": {
     "languageId": "r"
    }
   },
   "outputs": [],
   "source": [
    "  dt <- soc_good_long_sep[ which(soc_good_long_sep$drugs != \"N/A\"), ]\n",
    "  dt <- dt[ !is.na(dt$drugs), ]"
   ]
  },
  {
   "cell_type": "code",
   "execution_count": 19,
   "metadata": {
    "vscode": {
     "languageId": "r"
    }
   },
   "outputs": [
    {
     "data": {
      "text/html": [
       "<style>\n",
       ".list-inline {list-style: none; margin:0; padding: 0}\n",
       ".list-inline>li {display: inline-block}\n",
       ".list-inline>li:not(:last-child)::after {content: \"\\00b7\"; padding: 0 .5ex}\n",
       "</style>\n",
       "<ol class=list-inline><li>'Vincristine'</li><li>'Daunorubicin'</li><li>'Asparaginase'</li><li>'Dexamethasone'</li><li>'Mercaptopurine'</li><li>'Cyclophosphamide'</li><li>'Cytarabine'</li><li>'Methotrexate'</li><li>'Doxorubicin'</li><li>'Thioguanine'</li><li>'Prednisone'</li><li>'Cisplatin'</li><li>'Dactinomycin'</li><li>'Bleomyocin'</li><li>'Etoposide'</li><li>'5-Fluorouracil'</li><li>'Mitoxantrone'</li><li>'Imatinib'</li><li>'Ifosphamide'</li><li>'Topotecan'</li></ol>\n"
      ],
      "text/latex": [
       "\\begin{enumerate*}\n",
       "\\item 'Vincristine'\n",
       "\\item 'Daunorubicin'\n",
       "\\item 'Asparaginase'\n",
       "\\item 'Dexamethasone'\n",
       "\\item 'Mercaptopurine'\n",
       "\\item 'Cyclophosphamide'\n",
       "\\item 'Cytarabine'\n",
       "\\item 'Methotrexate'\n",
       "\\item 'Doxorubicin'\n",
       "\\item 'Thioguanine'\n",
       "\\item 'Prednisone'\n",
       "\\item 'Cisplatin'\n",
       "\\item 'Dactinomycin'\n",
       "\\item 'Bleomyocin'\n",
       "\\item 'Etoposide'\n",
       "\\item '5-Fluorouracil'\n",
       "\\item 'Mitoxantrone'\n",
       "\\item 'Imatinib'\n",
       "\\item 'Ifosphamide'\n",
       "\\item 'Topotecan'\n",
       "\\end{enumerate*}\n"
      ],
      "text/markdown": [
       "1. 'Vincristine'\n",
       "2. 'Daunorubicin'\n",
       "3. 'Asparaginase'\n",
       "4. 'Dexamethasone'\n",
       "5. 'Mercaptopurine'\n",
       "6. 'Cyclophosphamide'\n",
       "7. 'Cytarabine'\n",
       "8. 'Methotrexate'\n",
       "9. 'Doxorubicin'\n",
       "10. 'Thioguanine'\n",
       "11. 'Prednisone'\n",
       "12. 'Cisplatin'\n",
       "13. 'Dactinomycin'\n",
       "14. 'Bleomyocin'\n",
       "15. 'Etoposide'\n",
       "16. '5-Fluorouracil'\n",
       "17. 'Mitoxantrone'\n",
       "18. 'Imatinib'\n",
       "19. 'Ifosphamide'\n",
       "20. 'Topotecan'\n",
       "\n",
       "\n"
      ],
      "text/plain": [
       " [1] \"Vincristine\"      \"Daunorubicin\"     \"Asparaginase\"     \"Dexamethasone\"   \n",
       " [5] \"Mercaptopurine\"   \"Cyclophosphamide\" \"Cytarabine\"       \"Methotrexate\"    \n",
       " [9] \"Doxorubicin\"      \"Thioguanine\"      \"Prednisone\"       \"Cisplatin\"       \n",
       "[13] \"Dactinomycin\"     \"Bleomyocin\"       \"Etoposide\"        \"5-Fluorouracil\"  \n",
       "[17] \"Mitoxantrone\"     \"Imatinib\"         \"Ifosphamide\"      \"Topotecan\"       "
      ]
     },
     "metadata": {},
     "output_type": "display_data"
    }
   ],
   "source": [
    "(unique(dt$drugs))"
   ]
  },
  {
   "cell_type": "code",
   "execution_count": 20,
   "metadata": {
    "vscode": {
     "languageId": "r"
    }
   },
   "outputs": [
    {
     "data": {
      "text/html": [
       "<style>\n",
       ".list-inline {list-style: none; margin:0; padding: 0}\n",
       ".list-inline>li {display: inline-block}\n",
       ".list-inline>li:not(:last-child)::after {content: \"\\00b7\"; padding: 0 .5ex}\n",
       "</style>\n",
       "<ol class=list-inline><li>1667</li><li>22</li></ol>\n"
      ],
      "text/latex": [
       "\\begin{enumerate*}\n",
       "\\item 1667\n",
       "\\item 22\n",
       "\\end{enumerate*}\n"
      ],
      "text/markdown": [
       "1. 1667\n",
       "2. 22\n",
       "\n",
       "\n"
      ],
      "text/plain": [
       "[1] 1667   22"
      ]
     },
     "metadata": {},
     "output_type": "display_data"
    }
   ],
   "source": [
    "dim(dt)"
   ]
  },
  {
   "cell_type": "code",
   "execution_count": 21,
   "metadata": {
    "vscode": {
     "languageId": "r"
    }
   },
   "outputs": [],
   "source": [
    "  tab <- dt %>%\n",
    "    group_by(Disease, Cancergroup, cycle, drugs) %>% \n",
    "    summarise(Count = n(), .groups = \"drop\")\n",
    "  \n",
    "  # Add drug_type column by matching drugs from data\n",
    "  drug_type_mapping <- dt %>%\n",
    "    select(drugs, drug_type) %>%\n",
    "    distinct()\n",
    "  \n",
    "  tab <- tab %>%\n",
    "    left_join(drug_type_mapping, by = c(\"drugs\" = \"drugs\"))"
   ]
  },
  {
   "cell_type": "code",
   "execution_count": 22,
   "metadata": {
    "vscode": {
     "languageId": "r"
    }
   },
   "outputs": [],
   "source": [
    "  tab <- tab %>%\n",
    "    arrange(Cancergroup, Disease, Count) %>%\n",
    "    mutate(Disease = factor(Disease, levels = unique(Disease)))\n",
    "\n",
    "  # Create drug_type_summary for faceting order\n",
    "  drug_type_summary <- tab %>%\n",
    "    group_by(drug_type) %>%\n",
    "    summarise(total_count = sum(Count)) %>%\n",
    "    arrange(desc(total_count))\n",
    "  \n",
    "  # Factorize drugs based on total count within each drug type\n",
    "  tab <- tab %>%\n",
    "    group_by(drugs, drug_type) %>%\n",
    "    mutate(total_count = sum(Count)) %>%\n",
    "    arrange(total_count) %>%\n",
    "    #mutate(drugs = factor(drugs, levels = unique(drugs))) %>%\n",
    "    ungroup()\n",
    "    tab$drugs <- factor(tab$drugs, levels = unique(tab$drugs))"
   ]
  },
  {
   "cell_type": "code",
   "execution_count": 23,
   "metadata": {
    "vscode": {
     "languageId": "r"
    }
   },
   "outputs": [],
   "source": [
    "tab$cycle <- paste0(\"Cycle \", tab$cycle)"
   ]
  },
  {
   "cell_type": "code",
   "execution_count": 24,
   "metadata": {
    "vscode": {
     "languageId": "r"
    }
   },
   "outputs": [],
   "source": [
    "tab$cycle <- factor(tab$cycle, levels = c(\"Cycle 1\", \"Cycle 2\", \"Cycle 3\", \"Cycle 4\", \"Cycle 5\"))"
   ]
  },
  {
   "cell_type": "code",
   "execution_count": 25,
   "metadata": {
    "vscode": {
     "languageId": "r"
    }
   },
   "outputs": [
    {
     "data": {
      "text/html": [
       "1667"
      ],
      "text/latex": [
       "1667"
      ],
      "text/markdown": [
       "1667"
      ],
      "text/plain": [
       "[1] 1667"
      ]
     },
     "metadata": {},
     "output_type": "display_data"
    }
   ],
   "source": [
    "sum(tab$Count)"
   ]
  },
  {
   "cell_type": "code",
   "execution_count": 26,
   "metadata": {
    "vscode": {
     "languageId": "r"
    }
   },
   "outputs": [],
   "source": [
    "tab$perc <- tab$total_count/sum(tab$Count)"
   ]
  },
  {
   "cell_type": "code",
   "execution_count": 27,
   "metadata": {
    "vscode": {
     "languageId": "r"
    }
   },
   "outputs": [
    {
     "data": {
      "text/html": [
       "<table class=\"dataframe\">\n",
       "<caption>A tibble: 280 x 8</caption>\n",
       "<thead>\n",
       "\t<tr><th scope=col>Disease</th><th scope=col>Cancergroup</th><th scope=col>cycle</th><th scope=col>drugs</th><th scope=col>Count</th><th scope=col>drug_type</th><th scope=col>total_count</th><th scope=col>perc</th></tr>\n",
       "\t<tr><th scope=col>&lt;fct&gt;</th><th scope=col>&lt;chr&gt;</th><th scope=col>&lt;fct&gt;</th><th scope=col>&lt;fct&gt;</th><th scope=col>&lt;int&gt;</th><th scope=col>&lt;chr&gt;</th><th scope=col>&lt;int&gt;</th><th scope=col>&lt;dbl&gt;</th></tr>\n",
       "</thead>\n",
       "<tbody>\n",
       "\t<tr><td>ALL   </td><td>Leukemia    </td><td>Cycle 1</td><td>Vincristine</td><td>23</td><td>Chemotherapy</td><td>317</td><td>0.190162</td></tr>\n",
       "\t<tr><td>ALL   </td><td>Leukemia    </td><td>Cycle 2</td><td>Vincristine</td><td>23</td><td>Chemotherapy</td><td>317</td><td>0.190162</td></tr>\n",
       "\t<tr><td>ALL   </td><td>Leukemia    </td><td>Cycle 3</td><td>Vincristine</td><td>23</td><td>Chemotherapy</td><td>317</td><td>0.190162</td></tr>\n",
       "\t<tr><td>ALL   </td><td>Leukemia    </td><td>Cycle 4</td><td>Vincristine</td><td>23</td><td>Chemotherapy</td><td>317</td><td>0.190162</td></tr>\n",
       "\t<tr><td>ALL   </td><td>Leukemia    </td><td>Cycle 5</td><td>Vincristine</td><td>23</td><td>Chemotherapy</td><td>317</td><td>0.190162</td></tr>\n",
       "\t<tr><td>HR ALL</td><td>Leukemia    </td><td>Cycle 1</td><td>Vincristine</td><td>14</td><td>Chemotherapy</td><td>317</td><td>0.190162</td></tr>\n",
       "\t<tr><td>HR ALL</td><td>Leukemia    </td><td>Cycle 2</td><td>Vincristine</td><td>14</td><td>Chemotherapy</td><td>317</td><td>0.190162</td></tr>\n",
       "\t<tr><td>HR ALL</td><td>Leukemia    </td><td>Cycle 3</td><td>Vincristine</td><td>14</td><td>Chemotherapy</td><td>317</td><td>0.190162</td></tr>\n",
       "\t<tr><td>HR ALL</td><td>Leukemia    </td><td>Cycle 4</td><td>Vincristine</td><td>14</td><td>Chemotherapy</td><td>317</td><td>0.190162</td></tr>\n",
       "\t<tr><td>HR ALL</td><td>Leukemia    </td><td>Cycle 5</td><td>Vincristine</td><td>14</td><td>Chemotherapy</td><td>317</td><td>0.190162</td></tr>\n",
       "\t<tr><td>SR ALL</td><td>Leukemia    </td><td>Cycle 1</td><td>Vincristine</td><td> 3</td><td>Chemotherapy</td><td>317</td><td>0.190162</td></tr>\n",
       "\t<tr><td>SR ALL</td><td>Leukemia    </td><td>Cycle 2</td><td>Vincristine</td><td> 3</td><td>Chemotherapy</td><td>317</td><td>0.190162</td></tr>\n",
       "\t<tr><td>SR ALL</td><td>Leukemia    </td><td>Cycle 3</td><td>Vincristine</td><td> 3</td><td>Chemotherapy</td><td>317</td><td>0.190162</td></tr>\n",
       "\t<tr><td>SR ALL</td><td>Leukemia    </td><td>Cycle 4</td><td>Vincristine</td><td> 3</td><td>Chemotherapy</td><td>317</td><td>0.190162</td></tr>\n",
       "\t<tr><td>SR ALL</td><td>Leukemia    </td><td>Cycle 5</td><td>Vincristine</td><td> 3</td><td>Chemotherapy</td><td>317</td><td>0.190162</td></tr>\n",
       "\t<tr><td>BL    </td><td>Lymphoma    </td><td>Cycle 1</td><td>Vincristine</td><td> 4</td><td>Chemotherapy</td><td>317</td><td>0.190162</td></tr>\n",
       "\t<tr><td>BL    </td><td>Lymphoma    </td><td>Cycle 2</td><td>Vincristine</td><td> 4</td><td>Chemotherapy</td><td>317</td><td>0.190162</td></tr>\n",
       "\t<tr><td>BLL   </td><td>Lymphoma    </td><td>Cycle 1</td><td>Vincristine</td><td> 2</td><td>Chemotherapy</td><td>317</td><td>0.190162</td></tr>\n",
       "\t<tr><td>BLL   </td><td>Lymphoma    </td><td>Cycle 2</td><td>Vincristine</td><td> 2</td><td>Chemotherapy</td><td>317</td><td>0.190162</td></tr>\n",
       "\t<tr><td>DLBCL </td><td>Lymphoma    </td><td>Cycle 1</td><td>Vincristine</td><td> 2</td><td>Chemotherapy</td><td>317</td><td>0.190162</td></tr>\n",
       "\t<tr><td>DLBCL </td><td>Lymphoma    </td><td>Cycle 2</td><td>Vincristine</td><td> 2</td><td>Chemotherapy</td><td>317</td><td>0.190162</td></tr>\n",
       "\t<tr><td>HD    </td><td>Lymphoma    </td><td>Cycle 1</td><td>Vincristine</td><td> 7</td><td>Chemotherapy</td><td>317</td><td>0.190162</td></tr>\n",
       "\t<tr><td>HD    </td><td>Lymphoma    </td><td>Cycle 2</td><td>Vincristine</td><td> 7</td><td>Chemotherapy</td><td>317</td><td>0.190162</td></tr>\n",
       "\t<tr><td>PMBCL </td><td>Lymphoma    </td><td>Cycle 1</td><td>Vincristine</td><td> 2</td><td>Chemotherapy</td><td>317</td><td>0.190162</td></tr>\n",
       "\t<tr><td>PMBCL </td><td>Lymphoma    </td><td>Cycle 2</td><td>Vincristine</td><td> 2</td><td>Chemotherapy</td><td>317</td><td>0.190162</td></tr>\n",
       "\t<tr><td>ARMS  </td><td>Solid tumors</td><td>Cycle 1</td><td>Vincristine</td><td> 1</td><td>Chemotherapy</td><td>317</td><td>0.190162</td></tr>\n",
       "\t<tr><td>ARMS  </td><td>Solid tumors</td><td>Cycle 2</td><td>Vincristine</td><td> 1</td><td>Chemotherapy</td><td>317</td><td>0.190162</td></tr>\n",
       "\t<tr><td>ARMS  </td><td>Solid tumors</td><td>Cycle 3</td><td>Vincristine</td><td> 1</td><td>Chemotherapy</td><td>317</td><td>0.190162</td></tr>\n",
       "\t<tr><td>ARMS  </td><td>Solid tumors</td><td>Cycle 4</td><td>Vincristine</td><td> 1</td><td>Chemotherapy</td><td>317</td><td>0.190162</td></tr>\n",
       "\t<tr><td>ARMS  </td><td>Solid tumors</td><td>Cycle 5</td><td>Vincristine</td><td> 1</td><td>Chemotherapy</td><td>317</td><td>0.190162</td></tr>\n",
       "\t<tr><td>...</td><td>...</td><td>...</td><td>...</td><td>...</td><td>...</td><td>...</td><td>...</td></tr>\n",
       "\t<tr><td>RMS   </td><td>Solid tumors       </td><td>Cycle 3</td><td>Dactinomycin  </td><td> 3</td><td>Chemotherapy  </td><td>54</td><td>0.03239352</td></tr>\n",
       "\t<tr><td>RMS   </td><td>Solid tumors       </td><td>Cycle 4</td><td>Dactinomycin  </td><td> 3</td><td>Chemotherapy  </td><td>54</td><td>0.03239352</td></tr>\n",
       "\t<tr><td>RMS   </td><td>Solid tumors       </td><td>Cycle 5</td><td>Dactinomycin  </td><td> 3</td><td>Chemotherapy  </td><td>54</td><td>0.03239352</td></tr>\n",
       "\t<tr><td>RMS   </td><td>Solid tumors       </td><td>Cycle 1</td><td>Dactinomycin  </td><td> 6</td><td>Chemotherapy  </td><td>54</td><td>0.03239352</td></tr>\n",
       "\t<tr><td>WILMS </td><td>Solid tumors       </td><td>Cycle 1</td><td>Dactinomycin  </td><td> 3</td><td>Chemotherapy  </td><td>54</td><td>0.03239352</td></tr>\n",
       "\t<tr><td>WILMS </td><td>Solid tumors       </td><td>Cycle 2</td><td>Dactinomycin  </td><td> 3</td><td>Chemotherapy  </td><td>54</td><td>0.03239352</td></tr>\n",
       "\t<tr><td>ALL   </td><td>Leukemia           </td><td>Cycle 1</td><td>Daunorubicin  </td><td> 7</td><td>Chemotherapy  </td><td>45</td><td>0.02699460</td></tr>\n",
       "\t<tr><td>AML   </td><td>Leukemia           </td><td>Cycle 1</td><td>Daunorubicin  </td><td>10</td><td>Chemotherapy  </td><td>45</td><td>0.02699460</td></tr>\n",
       "\t<tr><td>AML   </td><td>Leukemia           </td><td>Cycle 2</td><td>Daunorubicin  </td><td>10</td><td>Chemotherapy  </td><td>45</td><td>0.02699460</td></tr>\n",
       "\t<tr><td>HR ALL</td><td>Leukemia           </td><td>Cycle 1</td><td>Daunorubicin  </td><td>14</td><td>Chemotherapy  </td><td>45</td><td>0.02699460</td></tr>\n",
       "\t<tr><td>T-ALL </td><td>T-cell malignancies</td><td>Cycle 1</td><td>Daunorubicin  </td><td> 4</td><td>Chemotherapy  </td><td>45</td><td>0.02699460</td></tr>\n",
       "\t<tr><td>ALL   </td><td>Leukemia           </td><td>Cycle 4</td><td>Thioguanine   </td><td>23</td><td>Chemotherapy  </td><td>44</td><td>0.02639472</td></tr>\n",
       "\t<tr><td>HR ALL</td><td>Leukemia           </td><td>Cycle 4</td><td>Thioguanine   </td><td>14</td><td>Chemotherapy  </td><td>44</td><td>0.02639472</td></tr>\n",
       "\t<tr><td>SR ALL</td><td>Leukemia           </td><td>Cycle 4</td><td>Thioguanine   </td><td> 3</td><td>Chemotherapy  </td><td>44</td><td>0.02639472</td></tr>\n",
       "\t<tr><td>T-ALL </td><td>T-cell malignancies</td><td>Cycle 4</td><td>Thioguanine   </td><td> 4</td><td>Chemotherapy  </td><td>44</td><td>0.02639472</td></tr>\n",
       "\t<tr><td>CML   </td><td>Leukemia           </td><td>Cycle 1</td><td>Imatinib      </td><td> 3</td><td>Small molecule</td><td>15</td><td>0.00899820</td></tr>\n",
       "\t<tr><td>CML   </td><td>Leukemia           </td><td>Cycle 2</td><td>Imatinib      </td><td> 3</td><td>Small molecule</td><td>15</td><td>0.00899820</td></tr>\n",
       "\t<tr><td>CML   </td><td>Leukemia           </td><td>Cycle 3</td><td>Imatinib      </td><td> 3</td><td>Small molecule</td><td>15</td><td>0.00899820</td></tr>\n",
       "\t<tr><td>CML   </td><td>Leukemia           </td><td>Cycle 4</td><td>Imatinib      </td><td> 3</td><td>Small molecule</td><td>15</td><td>0.00899820</td></tr>\n",
       "\t<tr><td>CML   </td><td>Leukemia           </td><td>Cycle 5</td><td>Imatinib      </td><td> 3</td><td>Small molecule</td><td>15</td><td>0.00899820</td></tr>\n",
       "\t<tr><td>HD    </td><td>Lymphoma           </td><td>Cycle 1</td><td>Bleomyocin    </td><td> 7</td><td>Chemotherapy  </td><td>14</td><td>0.00839832</td></tr>\n",
       "\t<tr><td>HD    </td><td>Lymphoma           </td><td>Cycle 2</td><td>Bleomyocin    </td><td> 7</td><td>Chemotherapy  </td><td>14</td><td>0.00839832</td></tr>\n",
       "\t<tr><td>AML   </td><td>Leukemia           </td><td>Cycle 4</td><td>Mitoxantrone  </td><td>10</td><td>Chemotherapy  </td><td>10</td><td>0.00599880</td></tr>\n",
       "\t<tr><td>MS NB </td><td>Solid tumors       </td><td>Cycle 1</td><td>Topotecan     </td><td> 1</td><td>Chemotherapy  </td><td>10</td><td>0.00599880</td></tr>\n",
       "\t<tr><td>MS NB </td><td>Solid tumors       </td><td>Cycle 2</td><td>Topotecan     </td><td> 1</td><td>Chemotherapy  </td><td>10</td><td>0.00599880</td></tr>\n",
       "\t<tr><td>NB    </td><td>Solid tumors       </td><td>Cycle 1</td><td>Topotecan     </td><td> 4</td><td>Chemotherapy  </td><td>10</td><td>0.00599880</td></tr>\n",
       "\t<tr><td>NB    </td><td>Solid tumors       </td><td>Cycle 2</td><td>Topotecan     </td><td> 4</td><td>Chemotherapy  </td><td>10</td><td>0.00599880</td></tr>\n",
       "\t<tr><td>EWS   </td><td>Solid tumors       </td><td>Cycle 2</td><td>Ifosphamide   </td><td> 6</td><td>Chemotherapy  </td><td> 6</td><td>0.00359928</td></tr>\n",
       "\t<tr><td>HB    </td><td>Solid tumors       </td><td>Cycle 1</td><td>5-Fluorouracil</td><td> 3</td><td>Chemotherapy  </td><td> 6</td><td>0.00359928</td></tr>\n",
       "\t<tr><td>HB    </td><td>Solid tumors       </td><td>Cycle 2</td><td>5-Fluorouracil</td><td> 3</td><td>Chemotherapy  </td><td> 6</td><td>0.00359928</td></tr>\n",
       "</tbody>\n",
       "</table>\n"
      ],
      "text/latex": [
       "A tibble: 280 x 8\n",
       "\\begin{tabular}{llllllll}\n",
       " Disease & Cancergroup & cycle & drugs & Count & drug\\_type & total\\_count & perc\\\\\n",
       " <fct> & <chr> & <fct> & <fct> & <int> & <chr> & <int> & <dbl>\\\\\n",
       "\\hline\n",
       "\t ALL    & Leukemia     & Cycle 1 & Vincristine & 23 & Chemotherapy & 317 & 0.190162\\\\\n",
       "\t ALL    & Leukemia     & Cycle 2 & Vincristine & 23 & Chemotherapy & 317 & 0.190162\\\\\n",
       "\t ALL    & Leukemia     & Cycle 3 & Vincristine & 23 & Chemotherapy & 317 & 0.190162\\\\\n",
       "\t ALL    & Leukemia     & Cycle 4 & Vincristine & 23 & Chemotherapy & 317 & 0.190162\\\\\n",
       "\t ALL    & Leukemia     & Cycle 5 & Vincristine & 23 & Chemotherapy & 317 & 0.190162\\\\\n",
       "\t HR ALL & Leukemia     & Cycle 1 & Vincristine & 14 & Chemotherapy & 317 & 0.190162\\\\\n",
       "\t HR ALL & Leukemia     & Cycle 2 & Vincristine & 14 & Chemotherapy & 317 & 0.190162\\\\\n",
       "\t HR ALL & Leukemia     & Cycle 3 & Vincristine & 14 & Chemotherapy & 317 & 0.190162\\\\\n",
       "\t HR ALL & Leukemia     & Cycle 4 & Vincristine & 14 & Chemotherapy & 317 & 0.190162\\\\\n",
       "\t HR ALL & Leukemia     & Cycle 5 & Vincristine & 14 & Chemotherapy & 317 & 0.190162\\\\\n",
       "\t SR ALL & Leukemia     & Cycle 1 & Vincristine &  3 & Chemotherapy & 317 & 0.190162\\\\\n",
       "\t SR ALL & Leukemia     & Cycle 2 & Vincristine &  3 & Chemotherapy & 317 & 0.190162\\\\\n",
       "\t SR ALL & Leukemia     & Cycle 3 & Vincristine &  3 & Chemotherapy & 317 & 0.190162\\\\\n",
       "\t SR ALL & Leukemia     & Cycle 4 & Vincristine &  3 & Chemotherapy & 317 & 0.190162\\\\\n",
       "\t SR ALL & Leukemia     & Cycle 5 & Vincristine &  3 & Chemotherapy & 317 & 0.190162\\\\\n",
       "\t BL     & Lymphoma     & Cycle 1 & Vincristine &  4 & Chemotherapy & 317 & 0.190162\\\\\n",
       "\t BL     & Lymphoma     & Cycle 2 & Vincristine &  4 & Chemotherapy & 317 & 0.190162\\\\\n",
       "\t BLL    & Lymphoma     & Cycle 1 & Vincristine &  2 & Chemotherapy & 317 & 0.190162\\\\\n",
       "\t BLL    & Lymphoma     & Cycle 2 & Vincristine &  2 & Chemotherapy & 317 & 0.190162\\\\\n",
       "\t DLBCL  & Lymphoma     & Cycle 1 & Vincristine &  2 & Chemotherapy & 317 & 0.190162\\\\\n",
       "\t DLBCL  & Lymphoma     & Cycle 2 & Vincristine &  2 & Chemotherapy & 317 & 0.190162\\\\\n",
       "\t HD     & Lymphoma     & Cycle 1 & Vincristine &  7 & Chemotherapy & 317 & 0.190162\\\\\n",
       "\t HD     & Lymphoma     & Cycle 2 & Vincristine &  7 & Chemotherapy & 317 & 0.190162\\\\\n",
       "\t PMBCL  & Lymphoma     & Cycle 1 & Vincristine &  2 & Chemotherapy & 317 & 0.190162\\\\\n",
       "\t PMBCL  & Lymphoma     & Cycle 2 & Vincristine &  2 & Chemotherapy & 317 & 0.190162\\\\\n",
       "\t ARMS   & Solid tumors & Cycle 1 & Vincristine &  1 & Chemotherapy & 317 & 0.190162\\\\\n",
       "\t ARMS   & Solid tumors & Cycle 2 & Vincristine &  1 & Chemotherapy & 317 & 0.190162\\\\\n",
       "\t ARMS   & Solid tumors & Cycle 3 & Vincristine &  1 & Chemotherapy & 317 & 0.190162\\\\\n",
       "\t ARMS   & Solid tumors & Cycle 4 & Vincristine &  1 & Chemotherapy & 317 & 0.190162\\\\\n",
       "\t ARMS   & Solid tumors & Cycle 5 & Vincristine &  1 & Chemotherapy & 317 & 0.190162\\\\\n",
       "\t ... & ... & ... & ... & ... & ... & ... & ...\\\\\n",
       "\t RMS    & Solid tumors        & Cycle 3 & Dactinomycin   &  3 & Chemotherapy   & 54 & 0.03239352\\\\\n",
       "\t RMS    & Solid tumors        & Cycle 4 & Dactinomycin   &  3 & Chemotherapy   & 54 & 0.03239352\\\\\n",
       "\t RMS    & Solid tumors        & Cycle 5 & Dactinomycin   &  3 & Chemotherapy   & 54 & 0.03239352\\\\\n",
       "\t RMS    & Solid tumors        & Cycle 1 & Dactinomycin   &  6 & Chemotherapy   & 54 & 0.03239352\\\\\n",
       "\t WILMS  & Solid tumors        & Cycle 1 & Dactinomycin   &  3 & Chemotherapy   & 54 & 0.03239352\\\\\n",
       "\t WILMS  & Solid tumors        & Cycle 2 & Dactinomycin   &  3 & Chemotherapy   & 54 & 0.03239352\\\\\n",
       "\t ALL    & Leukemia            & Cycle 1 & Daunorubicin   &  7 & Chemotherapy   & 45 & 0.02699460\\\\\n",
       "\t AML    & Leukemia            & Cycle 1 & Daunorubicin   & 10 & Chemotherapy   & 45 & 0.02699460\\\\\n",
       "\t AML    & Leukemia            & Cycle 2 & Daunorubicin   & 10 & Chemotherapy   & 45 & 0.02699460\\\\\n",
       "\t HR ALL & Leukemia            & Cycle 1 & Daunorubicin   & 14 & Chemotherapy   & 45 & 0.02699460\\\\\n",
       "\t T-ALL  & T-cell malignancies & Cycle 1 & Daunorubicin   &  4 & Chemotherapy   & 45 & 0.02699460\\\\\n",
       "\t ALL    & Leukemia            & Cycle 4 & Thioguanine    & 23 & Chemotherapy   & 44 & 0.02639472\\\\\n",
       "\t HR ALL & Leukemia            & Cycle 4 & Thioguanine    & 14 & Chemotherapy   & 44 & 0.02639472\\\\\n",
       "\t SR ALL & Leukemia            & Cycle 4 & Thioguanine    &  3 & Chemotherapy   & 44 & 0.02639472\\\\\n",
       "\t T-ALL  & T-cell malignancies & Cycle 4 & Thioguanine    &  4 & Chemotherapy   & 44 & 0.02639472\\\\\n",
       "\t CML    & Leukemia            & Cycle 1 & Imatinib       &  3 & Small molecule & 15 & 0.00899820\\\\\n",
       "\t CML    & Leukemia            & Cycle 2 & Imatinib       &  3 & Small molecule & 15 & 0.00899820\\\\\n",
       "\t CML    & Leukemia            & Cycle 3 & Imatinib       &  3 & Small molecule & 15 & 0.00899820\\\\\n",
       "\t CML    & Leukemia            & Cycle 4 & Imatinib       &  3 & Small molecule & 15 & 0.00899820\\\\\n",
       "\t CML    & Leukemia            & Cycle 5 & Imatinib       &  3 & Small molecule & 15 & 0.00899820\\\\\n",
       "\t HD     & Lymphoma            & Cycle 1 & Bleomyocin     &  7 & Chemotherapy   & 14 & 0.00839832\\\\\n",
       "\t HD     & Lymphoma            & Cycle 2 & Bleomyocin     &  7 & Chemotherapy   & 14 & 0.00839832\\\\\n",
       "\t AML    & Leukemia            & Cycle 4 & Mitoxantrone   & 10 & Chemotherapy   & 10 & 0.00599880\\\\\n",
       "\t MS NB  & Solid tumors        & Cycle 1 & Topotecan      &  1 & Chemotherapy   & 10 & 0.00599880\\\\\n",
       "\t MS NB  & Solid tumors        & Cycle 2 & Topotecan      &  1 & Chemotherapy   & 10 & 0.00599880\\\\\n",
       "\t NB     & Solid tumors        & Cycle 1 & Topotecan      &  4 & Chemotherapy   & 10 & 0.00599880\\\\\n",
       "\t NB     & Solid tumors        & Cycle 2 & Topotecan      &  4 & Chemotherapy   & 10 & 0.00599880\\\\\n",
       "\t EWS    & Solid tumors        & Cycle 2 & Ifosphamide    &  6 & Chemotherapy   &  6 & 0.00359928\\\\\n",
       "\t HB     & Solid tumors        & Cycle 1 & 5-Fluorouracil &  3 & Chemotherapy   &  6 & 0.00359928\\\\\n",
       "\t HB     & Solid tumors        & Cycle 2 & 5-Fluorouracil &  3 & Chemotherapy   &  6 & 0.00359928\\\\\n",
       "\\end{tabular}\n"
      ],
      "text/markdown": [
       "\n",
       "A tibble: 280 x 8\n",
       "\n",
       "| Disease &lt;fct&gt; | Cancergroup &lt;chr&gt; | cycle &lt;fct&gt; | drugs &lt;fct&gt; | Count &lt;int&gt; | drug_type &lt;chr&gt; | total_count &lt;int&gt; | perc &lt;dbl&gt; |\n",
       "|---|---|---|---|---|---|---|---|\n",
       "| ALL    | Leukemia     | Cycle 1 | Vincristine | 23 | Chemotherapy | 317 | 0.190162 |\n",
       "| ALL    | Leukemia     | Cycle 2 | Vincristine | 23 | Chemotherapy | 317 | 0.190162 |\n",
       "| ALL    | Leukemia     | Cycle 3 | Vincristine | 23 | Chemotherapy | 317 | 0.190162 |\n",
       "| ALL    | Leukemia     | Cycle 4 | Vincristine | 23 | Chemotherapy | 317 | 0.190162 |\n",
       "| ALL    | Leukemia     | Cycle 5 | Vincristine | 23 | Chemotherapy | 317 | 0.190162 |\n",
       "| HR ALL | Leukemia     | Cycle 1 | Vincristine | 14 | Chemotherapy | 317 | 0.190162 |\n",
       "| HR ALL | Leukemia     | Cycle 2 | Vincristine | 14 | Chemotherapy | 317 | 0.190162 |\n",
       "| HR ALL | Leukemia     | Cycle 3 | Vincristine | 14 | Chemotherapy | 317 | 0.190162 |\n",
       "| HR ALL | Leukemia     | Cycle 4 | Vincristine | 14 | Chemotherapy | 317 | 0.190162 |\n",
       "| HR ALL | Leukemia     | Cycle 5 | Vincristine | 14 | Chemotherapy | 317 | 0.190162 |\n",
       "| SR ALL | Leukemia     | Cycle 1 | Vincristine |  3 | Chemotherapy | 317 | 0.190162 |\n",
       "| SR ALL | Leukemia     | Cycle 2 | Vincristine |  3 | Chemotherapy | 317 | 0.190162 |\n",
       "| SR ALL | Leukemia     | Cycle 3 | Vincristine |  3 | Chemotherapy | 317 | 0.190162 |\n",
       "| SR ALL | Leukemia     | Cycle 4 | Vincristine |  3 | Chemotherapy | 317 | 0.190162 |\n",
       "| SR ALL | Leukemia     | Cycle 5 | Vincristine |  3 | Chemotherapy | 317 | 0.190162 |\n",
       "| BL     | Lymphoma     | Cycle 1 | Vincristine |  4 | Chemotherapy | 317 | 0.190162 |\n",
       "| BL     | Lymphoma     | Cycle 2 | Vincristine |  4 | Chemotherapy | 317 | 0.190162 |\n",
       "| BLL    | Lymphoma     | Cycle 1 | Vincristine |  2 | Chemotherapy | 317 | 0.190162 |\n",
       "| BLL    | Lymphoma     | Cycle 2 | Vincristine |  2 | Chemotherapy | 317 | 0.190162 |\n",
       "| DLBCL  | Lymphoma     | Cycle 1 | Vincristine |  2 | Chemotherapy | 317 | 0.190162 |\n",
       "| DLBCL  | Lymphoma     | Cycle 2 | Vincristine |  2 | Chemotherapy | 317 | 0.190162 |\n",
       "| HD     | Lymphoma     | Cycle 1 | Vincristine |  7 | Chemotherapy | 317 | 0.190162 |\n",
       "| HD     | Lymphoma     | Cycle 2 | Vincristine |  7 | Chemotherapy | 317 | 0.190162 |\n",
       "| PMBCL  | Lymphoma     | Cycle 1 | Vincristine |  2 | Chemotherapy | 317 | 0.190162 |\n",
       "| PMBCL  | Lymphoma     | Cycle 2 | Vincristine |  2 | Chemotherapy | 317 | 0.190162 |\n",
       "| ARMS   | Solid tumors | Cycle 1 | Vincristine |  1 | Chemotherapy | 317 | 0.190162 |\n",
       "| ARMS   | Solid tumors | Cycle 2 | Vincristine |  1 | Chemotherapy | 317 | 0.190162 |\n",
       "| ARMS   | Solid tumors | Cycle 3 | Vincristine |  1 | Chemotherapy | 317 | 0.190162 |\n",
       "| ARMS   | Solid tumors | Cycle 4 | Vincristine |  1 | Chemotherapy | 317 | 0.190162 |\n",
       "| ARMS   | Solid tumors | Cycle 5 | Vincristine |  1 | Chemotherapy | 317 | 0.190162 |\n",
       "| ... | ... | ... | ... | ... | ... | ... | ... |\n",
       "| RMS    | Solid tumors        | Cycle 3 | Dactinomycin   |  3 | Chemotherapy   | 54 | 0.03239352 |\n",
       "| RMS    | Solid tumors        | Cycle 4 | Dactinomycin   |  3 | Chemotherapy   | 54 | 0.03239352 |\n",
       "| RMS    | Solid tumors        | Cycle 5 | Dactinomycin   |  3 | Chemotherapy   | 54 | 0.03239352 |\n",
       "| RMS    | Solid tumors        | Cycle 1 | Dactinomycin   |  6 | Chemotherapy   | 54 | 0.03239352 |\n",
       "| WILMS  | Solid tumors        | Cycle 1 | Dactinomycin   |  3 | Chemotherapy   | 54 | 0.03239352 |\n",
       "| WILMS  | Solid tumors        | Cycle 2 | Dactinomycin   |  3 | Chemotherapy   | 54 | 0.03239352 |\n",
       "| ALL    | Leukemia            | Cycle 1 | Daunorubicin   |  7 | Chemotherapy   | 45 | 0.02699460 |\n",
       "| AML    | Leukemia            | Cycle 1 | Daunorubicin   | 10 | Chemotherapy   | 45 | 0.02699460 |\n",
       "| AML    | Leukemia            | Cycle 2 | Daunorubicin   | 10 | Chemotherapy   | 45 | 0.02699460 |\n",
       "| HR ALL | Leukemia            | Cycle 1 | Daunorubicin   | 14 | Chemotherapy   | 45 | 0.02699460 |\n",
       "| T-ALL  | T-cell malignancies | Cycle 1 | Daunorubicin   |  4 | Chemotherapy   | 45 | 0.02699460 |\n",
       "| ALL    | Leukemia            | Cycle 4 | Thioguanine    | 23 | Chemotherapy   | 44 | 0.02639472 |\n",
       "| HR ALL | Leukemia            | Cycle 4 | Thioguanine    | 14 | Chemotherapy   | 44 | 0.02639472 |\n",
       "| SR ALL | Leukemia            | Cycle 4 | Thioguanine    |  3 | Chemotherapy   | 44 | 0.02639472 |\n",
       "| T-ALL  | T-cell malignancies | Cycle 4 | Thioguanine    |  4 | Chemotherapy   | 44 | 0.02639472 |\n",
       "| CML    | Leukemia            | Cycle 1 | Imatinib       |  3 | Small molecule | 15 | 0.00899820 |\n",
       "| CML    | Leukemia            | Cycle 2 | Imatinib       |  3 | Small molecule | 15 | 0.00899820 |\n",
       "| CML    | Leukemia            | Cycle 3 | Imatinib       |  3 | Small molecule | 15 | 0.00899820 |\n",
       "| CML    | Leukemia            | Cycle 4 | Imatinib       |  3 | Small molecule | 15 | 0.00899820 |\n",
       "| CML    | Leukemia            | Cycle 5 | Imatinib       |  3 | Small molecule | 15 | 0.00899820 |\n",
       "| HD     | Lymphoma            | Cycle 1 | Bleomyocin     |  7 | Chemotherapy   | 14 | 0.00839832 |\n",
       "| HD     | Lymphoma            | Cycle 2 | Bleomyocin     |  7 | Chemotherapy   | 14 | 0.00839832 |\n",
       "| AML    | Leukemia            | Cycle 4 | Mitoxantrone   | 10 | Chemotherapy   | 10 | 0.00599880 |\n",
       "| MS NB  | Solid tumors        | Cycle 1 | Topotecan      |  1 | Chemotherapy   | 10 | 0.00599880 |\n",
       "| MS NB  | Solid tumors        | Cycle 2 | Topotecan      |  1 | Chemotherapy   | 10 | 0.00599880 |\n",
       "| NB     | Solid tumors        | Cycle 1 | Topotecan      |  4 | Chemotherapy   | 10 | 0.00599880 |\n",
       "| NB     | Solid tumors        | Cycle 2 | Topotecan      |  4 | Chemotherapy   | 10 | 0.00599880 |\n",
       "| EWS    | Solid tumors        | Cycle 2 | Ifosphamide    |  6 | Chemotherapy   |  6 | 0.00359928 |\n",
       "| HB     | Solid tumors        | Cycle 1 | 5-Fluorouracil |  3 | Chemotherapy   |  6 | 0.00359928 |\n",
       "| HB     | Solid tumors        | Cycle 2 | 5-Fluorouracil |  3 | Chemotherapy   |  6 | 0.00359928 |\n",
       "\n"
      ],
      "text/plain": [
       "    Disease Cancergroup         cycle   drugs          Count drug_type     \n",
       "1   ALL     Leukemia            Cycle 1 Vincristine    23    Chemotherapy  \n",
       "2   ALL     Leukemia            Cycle 2 Vincristine    23    Chemotherapy  \n",
       "3   ALL     Leukemia            Cycle 3 Vincristine    23    Chemotherapy  \n",
       "4   ALL     Leukemia            Cycle 4 Vincristine    23    Chemotherapy  \n",
       "5   ALL     Leukemia            Cycle 5 Vincristine    23    Chemotherapy  \n",
       "6   HR ALL  Leukemia            Cycle 1 Vincristine    14    Chemotherapy  \n",
       "7   HR ALL  Leukemia            Cycle 2 Vincristine    14    Chemotherapy  \n",
       "8   HR ALL  Leukemia            Cycle 3 Vincristine    14    Chemotherapy  \n",
       "9   HR ALL  Leukemia            Cycle 4 Vincristine    14    Chemotherapy  \n",
       "10  HR ALL  Leukemia            Cycle 5 Vincristine    14    Chemotherapy  \n",
       "11  SR ALL  Leukemia            Cycle 1 Vincristine     3    Chemotherapy  \n",
       "12  SR ALL  Leukemia            Cycle 2 Vincristine     3    Chemotherapy  \n",
       "13  SR ALL  Leukemia            Cycle 3 Vincristine     3    Chemotherapy  \n",
       "14  SR ALL  Leukemia            Cycle 4 Vincristine     3    Chemotherapy  \n",
       "15  SR ALL  Leukemia            Cycle 5 Vincristine     3    Chemotherapy  \n",
       "16  BL      Lymphoma            Cycle 1 Vincristine     4    Chemotherapy  \n",
       "17  BL      Lymphoma            Cycle 2 Vincristine     4    Chemotherapy  \n",
       "18  BLL     Lymphoma            Cycle 1 Vincristine     2    Chemotherapy  \n",
       "19  BLL     Lymphoma            Cycle 2 Vincristine     2    Chemotherapy  \n",
       "20  DLBCL   Lymphoma            Cycle 1 Vincristine     2    Chemotherapy  \n",
       "21  DLBCL   Lymphoma            Cycle 2 Vincristine     2    Chemotherapy  \n",
       "22  HD      Lymphoma            Cycle 1 Vincristine     7    Chemotherapy  \n",
       "23  HD      Lymphoma            Cycle 2 Vincristine     7    Chemotherapy  \n",
       "24  PMBCL   Lymphoma            Cycle 1 Vincristine     2    Chemotherapy  \n",
       "25  PMBCL   Lymphoma            Cycle 2 Vincristine     2    Chemotherapy  \n",
       "26  ARMS    Solid tumors        Cycle 1 Vincristine     1    Chemotherapy  \n",
       "27  ARMS    Solid tumors        Cycle 2 Vincristine     1    Chemotherapy  \n",
       "28  ARMS    Solid tumors        Cycle 3 Vincristine     1    Chemotherapy  \n",
       "29  ARMS    Solid tumors        Cycle 4 Vincristine     1    Chemotherapy  \n",
       "30  ARMS    Solid tumors        Cycle 5 Vincristine     1    Chemotherapy  \n",
       "... ...     ...                 ...     ...            ...   ...           \n",
       "251 RMS     Solid tumors        Cycle 3 Dactinomycin    3    Chemotherapy  \n",
       "252 RMS     Solid tumors        Cycle 4 Dactinomycin    3    Chemotherapy  \n",
       "253 RMS     Solid tumors        Cycle 5 Dactinomycin    3    Chemotherapy  \n",
       "254 RMS     Solid tumors        Cycle 1 Dactinomycin    6    Chemotherapy  \n",
       "255 WILMS   Solid tumors        Cycle 1 Dactinomycin    3    Chemotherapy  \n",
       "256 WILMS   Solid tumors        Cycle 2 Dactinomycin    3    Chemotherapy  \n",
       "257 ALL     Leukemia            Cycle 1 Daunorubicin    7    Chemotherapy  \n",
       "258 AML     Leukemia            Cycle 1 Daunorubicin   10    Chemotherapy  \n",
       "259 AML     Leukemia            Cycle 2 Daunorubicin   10    Chemotherapy  \n",
       "260 HR ALL  Leukemia            Cycle 1 Daunorubicin   14    Chemotherapy  \n",
       "261 T-ALL   T-cell malignancies Cycle 1 Daunorubicin    4    Chemotherapy  \n",
       "262 ALL     Leukemia            Cycle 4 Thioguanine    23    Chemotherapy  \n",
       "263 HR ALL  Leukemia            Cycle 4 Thioguanine    14    Chemotherapy  \n",
       "264 SR ALL  Leukemia            Cycle 4 Thioguanine     3    Chemotherapy  \n",
       "265 T-ALL   T-cell malignancies Cycle 4 Thioguanine     4    Chemotherapy  \n",
       "266 CML     Leukemia            Cycle 1 Imatinib        3    Small molecule\n",
       "267 CML     Leukemia            Cycle 2 Imatinib        3    Small molecule\n",
       "268 CML     Leukemia            Cycle 3 Imatinib        3    Small molecule\n",
       "269 CML     Leukemia            Cycle 4 Imatinib        3    Small molecule\n",
       "270 CML     Leukemia            Cycle 5 Imatinib        3    Small molecule\n",
       "271 HD      Lymphoma            Cycle 1 Bleomyocin      7    Chemotherapy  \n",
       "272 HD      Lymphoma            Cycle 2 Bleomyocin      7    Chemotherapy  \n",
       "273 AML     Leukemia            Cycle 4 Mitoxantrone   10    Chemotherapy  \n",
       "274 MS NB   Solid tumors        Cycle 1 Topotecan       1    Chemotherapy  \n",
       "275 MS NB   Solid tumors        Cycle 2 Topotecan       1    Chemotherapy  \n",
       "276 NB      Solid tumors        Cycle 1 Topotecan       4    Chemotherapy  \n",
       "277 NB      Solid tumors        Cycle 2 Topotecan       4    Chemotherapy  \n",
       "278 EWS     Solid tumors        Cycle 2 Ifosphamide     6    Chemotherapy  \n",
       "279 HB      Solid tumors        Cycle 1 5-Fluorouracil  3    Chemotherapy  \n",
       "280 HB      Solid tumors        Cycle 2 5-Fluorouracil  3    Chemotherapy  \n",
       "    total_count perc      \n",
       "1   317         0.190162  \n",
       "2   317         0.190162  \n",
       "3   317         0.190162  \n",
       "4   317         0.190162  \n",
       "5   317         0.190162  \n",
       "6   317         0.190162  \n",
       "7   317         0.190162  \n",
       "8   317         0.190162  \n",
       "9   317         0.190162  \n",
       "10  317         0.190162  \n",
       "11  317         0.190162  \n",
       "12  317         0.190162  \n",
       "13  317         0.190162  \n",
       "14  317         0.190162  \n",
       "15  317         0.190162  \n",
       "16  317         0.190162  \n",
       "17  317         0.190162  \n",
       "18  317         0.190162  \n",
       "19  317         0.190162  \n",
       "20  317         0.190162  \n",
       "21  317         0.190162  \n",
       "22  317         0.190162  \n",
       "23  317         0.190162  \n",
       "24  317         0.190162  \n",
       "25  317         0.190162  \n",
       "26  317         0.190162  \n",
       "27  317         0.190162  \n",
       "28  317         0.190162  \n",
       "29  317         0.190162  \n",
       "30  317         0.190162  \n",
       "... ...         ...       \n",
       "251 54          0.03239352\n",
       "252 54          0.03239352\n",
       "253 54          0.03239352\n",
       "254 54          0.03239352\n",
       "255 54          0.03239352\n",
       "256 54          0.03239352\n",
       "257 45          0.02699460\n",
       "258 45          0.02699460\n",
       "259 45          0.02699460\n",
       "260 45          0.02699460\n",
       "261 45          0.02699460\n",
       "262 44          0.02639472\n",
       "263 44          0.02639472\n",
       "264 44          0.02639472\n",
       "265 44          0.02639472\n",
       "266 15          0.00899820\n",
       "267 15          0.00899820\n",
       "268 15          0.00899820\n",
       "269 15          0.00899820\n",
       "270 15          0.00899820\n",
       "271 14          0.00839832\n",
       "272 14          0.00839832\n",
       "273 10          0.00599880\n",
       "274 10          0.00599880\n",
       "275 10          0.00599880\n",
       "276 10          0.00599880\n",
       "277 10          0.00599880\n",
       "278  6          0.00359928\n",
       "279  6          0.00359928\n",
       "280  6          0.00359928"
      ]
     },
     "metadata": {},
     "output_type": "display_data"
    }
   ],
   "source": [
    "tab[order(tab$total_count, decreasing = TRUE), ] # convert to gtsummary "
   ]
  },
  {
   "cell_type": "code",
   "execution_count": 21,
   "metadata": {
    "vscode": {
     "languageId": "r"
    }
   },
   "outputs": [],
   "source": [
    "p <- ggplot(tab, aes(x = Disease, y = drugs, size = Count, color = Cancergroup)) + \n",
    "    geom_point(alpha = 0.6, shape = 16) + \n",
    "    scale_size(range = c(1,6)) +\n",
    "    scale_color_manual(values = group_col) +\n",
    "    theme_minimal() + \n",
    "    theme(axis.text.x = element_text(angle = 45, hjust = 1, size = 6),\n",
    "          axis.title = element_blank(),\n",
    "          plot.margin = margin(t = 20, r = 20, b = 20, l = 20, unit = \"pt\")) +\n",
    "    coord_cartesian(clip = \"off\") +\n",
    "    labs(title = paste(\"Drug Usage by Disease\"))\n",
    "  \n",
    "  # Add facets\n",
    "  p <- p + facet_grid(vars(drug_type), vars(cycle), scales = \"free_y\", space = \"free\", switch = \"y\") +\n",
    "    theme(strip.text.y.left = element_text(angle = 0), strip.placement = \"outside\")"
   ]
  },
  {
   "cell_type": "code",
   "execution_count": 22,
   "metadata": {
    "vscode": {
     "languageId": "r"
    }
   },
   "outputs": [
    {
     "data": {
      "image/png": "[encoded data removed]",
      "text/plain": [
       "plot without title"
      ]
     },
     "metadata": {
      "image/png": {
       "height": 420,
       "width": 420
      }
     },
     "output_type": "display_data"
    }
   ],
   "source": [
    "p"
   ]
  },
  {
   "cell_type": "code",
   "execution_count": 23,
   "metadata": {
    "vscode": {
     "languageId": "r"
    }
   },
   "outputs": [],
   "source": [
    "ggsave(paste0(plotpath, \"drug_usage_by_disease.pdf\"), p, width = 15, height = 6)\n",
    "ggsave(paste0(plotpath, \"drug_usage_by_disease.png\"), p, width = 15, height = 6)"
   ]
  },
  {
   "cell_type": "code",
   "execution_count": null,
   "metadata": {
    "vscode": {
     "languageId": "r"
    }
   },
   "outputs": [],
   "source": []
  },
  {
   "cell_type": "code",
   "execution_count": 24,
   "metadata": {
    "vscode": {
     "languageId": "r"
    }
   },
   "outputs": [],
   "source": [
    "# # Function to create drug analysis and visualization for any cycle\n",
    "# create_drug_analysis <- function(alldata, cycle_name = \"1\") {\n",
    "#   data <- alldata[alldata$cycle == cycle_name, ]\n",
    "#   data <- data[ which(data$drugs != \"N/A\"), ]\n",
    "#   data <- data[ !is.na(data$drugs), ]\n",
    "#   # Clean up drug names and create tab\n",
    "#   tab <- data %>%\n",
    "#     group_by(Disease, Cancergroup, drugs) %>% \n",
    "#     summarise(Count = n(), .groups = \"drop\")\n",
    "  \n",
    "#   # Add drug_type column by matching drugs from data\n",
    "#   drug_type_mapping <- data %>%\n",
    "#     select(drugs, drug_type) %>%\n",
    "#     distinct()\n",
    "  \n",
    "#   tab <- tab %>%\n",
    "#     left_join(drug_type_mapping, by = c(\"drugs\" = \"drugs\"))\n",
    "# #   # Add drug_type column\n",
    "# #   tab <- tab %>%\n",
    "# #     left_join(data %>% select(drugs, drug_type), by = \"drugs\")\n",
    "  \n",
    "#   # Arrange and factorize\n",
    "#   tab <- tab %>%\n",
    "#     arrange(Cancergroup, Disease, Count) %>%\n",
    "#     mutate(Disease = factor(Disease, levels = unique(Disease)))\n",
    "\n",
    "#   # Create drug_type_summary for faceting order\n",
    "#   drug_type_summary <- tab %>%\n",
    "#     group_by(drug_type) %>%\n",
    "#     summarise(total_count = sum(Count)) %>%\n",
    "#     arrange(desc(total_count))\n",
    "  \n",
    "#   # Factorize drugs based on total count within each drug type\n",
    "#   tab <- tab %>%\n",
    "#     group_by(drugs, drug_type) %>%\n",
    "#     mutate(total_count = sum(Count)) %>%\n",
    "#     arrange(total_count) %>%\n",
    "#     #mutate(drugs = factor(drugs, levels = unique(drugs))) %>%\n",
    "#     ungroup()\n",
    "#     tab$drugs <- factor(tab$drugs, levels = unique(tab$drugs))\n",
    "  \n",
    "#   # Create the plot\n",
    "#   p <- ggplot(tab, aes(x = Disease, y = drugs, size = Count, color = Cancergroup)) + \n",
    "#     geom_point(alpha = 0.6) + \n",
    "#     scale_size(range = c(3,12)) +\n",
    "#     scale_color_manual(values = group_col) +\n",
    "#     theme_minimal() + \n",
    "#     theme(axis.text.x = element_text(angle = 30, hjust = 1),\n",
    "#           axis.title = element_blank()) +\n",
    "#     labs(title = paste(\"Drug Usage by Disease at cycle\", cycle_name))\n",
    "  \n",
    "#   # Add facets\n",
    "#   p <- p + facet_grid(vars(drug_type), scales = \"free_y\", space = \"free\", switch = \"y\") +\n",
    "#     theme(strip.text.y.left = element_text(angle = 0), strip.placement = \"outside\")\n",
    "  \n",
    "#   return(list(tab = tab, plot = p, summary = drug_type_summary))\n",
    "# }\n"
   ]
  },
  {
   "cell_type": "code",
   "execution_count": 25,
   "metadata": {
    "vscode": {
     "languageId": "r"
    }
   },
   "outputs": [],
   "source": [
    "# p <- ggplot(tab, aes(x = Disease, y = `Cycle 1 Drugs`, size = Count, color = Cancergroup)) + \n",
    "# geom_point(alpha = 0.6) + scale_size(range = c(3,12)) +\n",
    "# scale_color_manual(values = group_col) +\n",
    "# theme_minimal() + \n",
    "# theme(axis.text.x = element_text(angle = 30, hjust = 1),\n",
    "# axis.title = element_blank()) \n",
    "# p <- p + facet_grid(vars(drug_type), scales = \"free_y\", space = \"free\", switch = \"y\") +\n",
    "#   theme(strip.text.y.left = element_text(angle = 0), strip.placement = \"outside\") \n",
    "\n"
   ]
  },
  {
   "cell_type": "code",
   "execution_count": 26,
   "metadata": {
    "vscode": {
     "languageId": "r"
    }
   },
   "outputs": [],
   "source": [
    "# pdf(paste0(plotpath, \"bubbleplot_cycle1cancer_drugs.pdf\"), width = 15, height = 8)\n",
    "# p\n",
    "# dev.off()"
   ]
  },
  {
   "cell_type": "markdown",
   "metadata": {},
   "source": []
  },
  {
   "cell_type": "markdown",
   "metadata": {},
   "source": [
    "# Swimmerplot"
   ]
  },
  {
   "cell_type": "code",
   "execution_count": 28,
   "metadata": {
    "vscode": {
     "languageId": "r"
    }
   },
   "outputs": [
    {
     "data": {
      "text/html": [
       "<table class=\"dataframe\">\n",
       "<caption>A tibble: 6 x 24</caption>\n",
       "<thead>\n",
       "\t<tr><th scope=col>Patient ID</th><th scope=col>Diagnosis</th><th scope=col>Cycle 1 Type</th><th scope=col>Cycle 1 Drugs</th><th scope=col>Cycle 1 Duration (days)</th><th scope=col>Cycle 1 Steroids</th><th scope=col>Cycle 2 Type</th><th scope=col>Cycle 2 Drugs</th><th scope=col>Cycle 2 Duration (days)</th><th scope=col>Cycle 2 Steroids</th><th scope=col>...</th><th scope=col>Cycle 4 Type</th><th scope=col>Cycle 4 Drugs</th><th scope=col>Cycle 4 Duration (days)</th><th scope=col>Cycle 4 Steroids</th><th scope=col>Cycle 5 Type</th><th scope=col>Cycle 5 Drugs</th><th scope=col>Cycle 5 Duration (days)</th><th scope=col>Cycle 5 Steroids</th><th scope=col>Disease</th><th scope=col>Cancergroup</th></tr>\n",
       "\t<tr><th scope=col>&lt;dbl&gt;</th><th scope=col>&lt;chr&gt;</th><th scope=col>&lt;chr&gt;</th><th scope=col>&lt;chr&gt;</th><th scope=col>&lt;chr&gt;</th><th scope=col>&lt;chr&gt;</th><th scope=col>&lt;chr&gt;</th><th scope=col>&lt;chr&gt;</th><th scope=col>&lt;chr&gt;</th><th scope=col>&lt;chr&gt;</th><th scope=col>...</th><th scope=col>&lt;chr&gt;</th><th scope=col>&lt;chr&gt;</th><th scope=col>&lt;chr&gt;</th><th scope=col>&lt;chr&gt;</th><th scope=col>&lt;chr&gt;</th><th scope=col>&lt;chr&gt;</th><th scope=col>&lt;chr&gt;</th><th scope=col>&lt;chr&gt;</th><th scope=col>&lt;chr&gt;</th><th scope=col>&lt;chr&gt;</th></tr>\n",
       "</thead>\n",
       "<tbody>\n",
       "\t<tr><td>319</td><td>HR ALL</td><td>Induction</td><td>Vincristine, Daunorubicin, Asparaginase, Dexamethasone</td><td>35</td><td>Yes</td><td>Consolidation</td><td>Vincristine, Mercaptopurine, Cyclophosphamide, Cytarabine, Asparaginase </td><td>56</td><td>No</td><td>...</td><td>Delayed Intensification</td><td>Vincristine, Doxorubicin, Dexamethasone, Asparaginase, Cyclophosphamide, Thioguanine, Cytarabine</td><td>63</td><td>Yes</td><td>Interim Maintenance II</td><td>Vincristine, Prednisone, Mercaptopurine, Methotrexate *repeats until end of therapy    </td><td>84 </td><td>Yes</td><td>HR ALL</td><td>Leukemia           </td></tr>\n",
       "\t<tr><td>323</td><td>HR ALL</td><td>Induction</td><td>Vincristine, Daunorubicin, Asparaginase, Dexamethasone</td><td>35</td><td>Yes</td><td>Consolidation</td><td>Vincristine, Mercaptopurine, Cyclophosphamide, Cytarabine, Asparaginase </td><td>56</td><td>No</td><td>...</td><td>Delayed Intensification</td><td>Vincristine, Doxorubicin, Dexamethasone, Asparaginase, Cyclophosphamide, Thioguanine, Cytarabine</td><td>63</td><td>Yes</td><td>Interim Maintenance II</td><td>Vincristine, Prednisone, Mercaptopurine, Methotrexate *repeats until end of therapy    </td><td>84 </td><td>Yes</td><td>HR ALL</td><td>Leukemia           </td></tr>\n",
       "\t<tr><td>324</td><td>T-ALL </td><td>Induction</td><td>Vincristine, Daunorubicin, Asparaginase, Dexamethasone</td><td>35</td><td>yes</td><td>Consolidation</td><td>Vincristine, Asparaginase, Mercaptopurine, Cyclophosphamide, Cyatarabine</td><td>56</td><td>no</td><td>...</td><td>Delayed Intensification</td><td>Vincristine, Asparaginase, Doxorubicin, Dexamethasone, Cyclophosphamide, Cytarabine, Thioguanine</td><td>63</td><td>yes</td><td>N/A                   </td><td>N/A                                                                                    </td><td>N/A</td><td>N/A</td><td>T-ALL </td><td>T-cell malignancies</td></tr>\n",
       "\t<tr><td>326</td><td>SR ALL</td><td>Induction</td><td>Vincristine, Asparaginase, Dexamethasone              </td><td>35</td><td>yes</td><td>Consolidation</td><td>Vincristine, Mercaptopurine                                             </td><td>28</td><td>no</td><td>...</td><td>Delayed Intensification</td><td>Vincristine, Doxorubicin, Dexamethasone, Asparaginase, Cyclophosphamide, Thioguanine, Cytarabine</td><td>56</td><td>yes</td><td>Interim Maintenance II</td><td>Vincristine, Dexamethasone, Mercaptopurine, Methotrexate  *repeats until end of therapy</td><td>56 </td><td>yes</td><td>SR ALL</td><td>Leukemia           </td></tr>\n",
       "\t<tr><td>328</td><td>SR ALL</td><td>Induction</td><td>Vincristine, Asparaginase, Dexamethasone              </td><td>35</td><td>yes</td><td>Consolidation</td><td>Vincristine, Mercaptopurine                                             </td><td>28</td><td>no</td><td>...</td><td>Delayed Intensification</td><td>Vincristine, Doxorubicin, Dexamethasone, Asparaginase, Cyclophosphamide, Thioguanine, Cytarabine</td><td>56</td><td>yes</td><td>Interim Maintenance II</td><td>Vincristine, Dexamethasone, Mercaptopurine, Methotrexate  *repeats until end of therapy</td><td>56 </td><td>yes</td><td>SR ALL</td><td>Leukemia           </td></tr>\n",
       "\t<tr><td>329</td><td>HR ALL</td><td>Induction</td><td>Vincristine, Daunorubicin, Asparaginase, Dexamethasone</td><td>35</td><td>Yes</td><td>Consolidation</td><td>Vincristine, Mercaptopurine, Cyclophosphamide, Cytarabine, Asparaginase </td><td>56</td><td>No</td><td>...</td><td>Delayed Intensification</td><td>Vincristine, Doxorubicin, Dexamethasone, Asparaginase, Cyclophosphamide, Thioguanine, Cytarabine</td><td>63</td><td>Yes</td><td>Interim Maintenance II</td><td>Vincristine, Prednisone, Mercaptopurine, Methotrexate *repeats until end of therapy    </td><td>84 </td><td>Yes</td><td>HR ALL</td><td>Leukemia           </td></tr>\n",
       "</tbody>\n",
       "</table>\n"
      ],
      "text/latex": [
       "A tibble: 6 x 24\n",
       "\\begin{tabular}{lllllllllllllllllllll}\n",
       " Patient ID & Diagnosis & Cycle 1 Type & Cycle 1 Drugs & Cycle 1 Duration (days) & Cycle 1 Steroids & Cycle 2 Type & Cycle 2 Drugs & Cycle 2 Duration (days) & Cycle 2 Steroids & ... & Cycle 4 Type & Cycle 4 Drugs & Cycle 4 Duration (days) & Cycle 4 Steroids & Cycle 5 Type & Cycle 5 Drugs & Cycle 5 Duration (days) & Cycle 5 Steroids & Disease & Cancergroup\\\\\n",
       " <dbl> & <chr> & <chr> & <chr> & <chr> & <chr> & <chr> & <chr> & <chr> & <chr> & ... & <chr> & <chr> & <chr> & <chr> & <chr> & <chr> & <chr> & <chr> & <chr> & <chr>\\\\\n",
       "\\hline\n",
       "\t 319 & HR ALL & Induction & Vincristine, Daunorubicin, Asparaginase, Dexamethasone & 35 & Yes & Consolidation & Vincristine, Mercaptopurine, Cyclophosphamide, Cytarabine, Asparaginase  & 56 & No & ... & Delayed Intensification & Vincristine, Doxorubicin, Dexamethasone, Asparaginase, Cyclophosphamide, Thioguanine, Cytarabine & 63 & Yes & Interim Maintenance II & Vincristine, Prednisone, Mercaptopurine, Methotrexate *repeats until end of therapy     & 84  & Yes & HR ALL & Leukemia           \\\\\n",
       "\t 323 & HR ALL & Induction & Vincristine, Daunorubicin, Asparaginase, Dexamethasone & 35 & Yes & Consolidation & Vincristine, Mercaptopurine, Cyclophosphamide, Cytarabine, Asparaginase  & 56 & No & ... & Delayed Intensification & Vincristine, Doxorubicin, Dexamethasone, Asparaginase, Cyclophosphamide, Thioguanine, Cytarabine & 63 & Yes & Interim Maintenance II & Vincristine, Prednisone, Mercaptopurine, Methotrexate *repeats until end of therapy     & 84  & Yes & HR ALL & Leukemia           \\\\\n",
       "\t 324 & T-ALL  & Induction & Vincristine, Daunorubicin, Asparaginase, Dexamethasone & 35 & yes & Consolidation & Vincristine, Asparaginase, Mercaptopurine, Cyclophosphamide, Cyatarabine & 56 & no & ... & Delayed Intensification & Vincristine, Asparaginase, Doxorubicin, Dexamethasone, Cyclophosphamide, Cytarabine, Thioguanine & 63 & yes & N/A                    & N/A                                                                                     & N/A & N/A & T-ALL  & T-cell malignancies\\\\\n",
       "\t 326 & SR ALL & Induction & Vincristine, Asparaginase, Dexamethasone               & 35 & yes & Consolidation & Vincristine, Mercaptopurine                                              & 28 & no & ... & Delayed Intensification & Vincristine, Doxorubicin, Dexamethasone, Asparaginase, Cyclophosphamide, Thioguanine, Cytarabine & 56 & yes & Interim Maintenance II & Vincristine, Dexamethasone, Mercaptopurine, Methotrexate  *repeats until end of therapy & 56  & yes & SR ALL & Leukemia           \\\\\n",
       "\t 328 & SR ALL & Induction & Vincristine, Asparaginase, Dexamethasone               & 35 & yes & Consolidation & Vincristine, Mercaptopurine                                              & 28 & no & ... & Delayed Intensification & Vincristine, Doxorubicin, Dexamethasone, Asparaginase, Cyclophosphamide, Thioguanine, Cytarabine & 56 & yes & Interim Maintenance II & Vincristine, Dexamethasone, Mercaptopurine, Methotrexate  *repeats until end of therapy & 56  & yes & SR ALL & Leukemia           \\\\\n",
       "\t 329 & HR ALL & Induction & Vincristine, Daunorubicin, Asparaginase, Dexamethasone & 35 & Yes & Consolidation & Vincristine, Mercaptopurine, Cyclophosphamide, Cytarabine, Asparaginase  & 56 & No & ... & Delayed Intensification & Vincristine, Doxorubicin, Dexamethasone, Asparaginase, Cyclophosphamide, Thioguanine, Cytarabine & 63 & Yes & Interim Maintenance II & Vincristine, Prednisone, Mercaptopurine, Methotrexate *repeats until end of therapy     & 84  & Yes & HR ALL & Leukemia           \\\\\n",
       "\\end{tabular}\n"
      ],
      "text/markdown": [
       "\n",
       "A tibble: 6 x 24\n",
       "\n",
       "| Patient ID &lt;dbl&gt; | Diagnosis &lt;chr&gt; | Cycle 1 Type &lt;chr&gt; | Cycle 1 Drugs &lt;chr&gt; | Cycle 1 Duration (days) &lt;chr&gt; | Cycle 1 Steroids &lt;chr&gt; | Cycle 2 Type &lt;chr&gt; | Cycle 2 Drugs &lt;chr&gt; | Cycle 2 Duration (days) &lt;chr&gt; | Cycle 2 Steroids &lt;chr&gt; | ... ... | Cycle 4 Type &lt;chr&gt; | Cycle 4 Drugs &lt;chr&gt; | Cycle 4 Duration (days) &lt;chr&gt; | Cycle 4 Steroids &lt;chr&gt; | Cycle 5 Type &lt;chr&gt; | Cycle 5 Drugs &lt;chr&gt; | Cycle 5 Duration (days) &lt;chr&gt; | Cycle 5 Steroids &lt;chr&gt; | Disease &lt;chr&gt; | Cancergroup &lt;chr&gt; |\n",
       "|---|---|---|---|---|---|---|---|---|---|---|---|---|---|---|---|---|---|---|---|---|\n",
       "| 319 | HR ALL | Induction | Vincristine, Daunorubicin, Asparaginase, Dexamethasone | 35 | Yes | Consolidation | Vincristine, Mercaptopurine, Cyclophosphamide, Cytarabine, Asparaginase  | 56 | No | ... | Delayed Intensification | Vincristine, Doxorubicin, Dexamethasone, Asparaginase, Cyclophosphamide, Thioguanine, Cytarabine | 63 | Yes | Interim Maintenance II | Vincristine, Prednisone, Mercaptopurine, Methotrexate *repeats until end of therapy     | 84  | Yes | HR ALL | Leukemia            |\n",
       "| 323 | HR ALL | Induction | Vincristine, Daunorubicin, Asparaginase, Dexamethasone | 35 | Yes | Consolidation | Vincristine, Mercaptopurine, Cyclophosphamide, Cytarabine, Asparaginase  | 56 | No | ... | Delayed Intensification | Vincristine, Doxorubicin, Dexamethasone, Asparaginase, Cyclophosphamide, Thioguanine, Cytarabine | 63 | Yes | Interim Maintenance II | Vincristine, Prednisone, Mercaptopurine, Methotrexate *repeats until end of therapy     | 84  | Yes | HR ALL | Leukemia            |\n",
       "| 324 | T-ALL  | Induction | Vincristine, Daunorubicin, Asparaginase, Dexamethasone | 35 | yes | Consolidation | Vincristine, Asparaginase, Mercaptopurine, Cyclophosphamide, Cyatarabine | 56 | no | ... | Delayed Intensification | Vincristine, Asparaginase, Doxorubicin, Dexamethasone, Cyclophosphamide, Cytarabine, Thioguanine | 63 | yes | N/A                    | N/A                                                                                     | N/A | N/A | T-ALL  | T-cell malignancies |\n",
       "| 326 | SR ALL | Induction | Vincristine, Asparaginase, Dexamethasone               | 35 | yes | Consolidation | Vincristine, Mercaptopurine                                              | 28 | no | ... | Delayed Intensification | Vincristine, Doxorubicin, Dexamethasone, Asparaginase, Cyclophosphamide, Thioguanine, Cytarabine | 56 | yes | Interim Maintenance II | Vincristine, Dexamethasone, Mercaptopurine, Methotrexate  *repeats until end of therapy | 56  | yes | SR ALL | Leukemia            |\n",
       "| 328 | SR ALL | Induction | Vincristine, Asparaginase, Dexamethasone               | 35 | yes | Consolidation | Vincristine, Mercaptopurine                                              | 28 | no | ... | Delayed Intensification | Vincristine, Doxorubicin, Dexamethasone, Asparaginase, Cyclophosphamide, Thioguanine, Cytarabine | 56 | yes | Interim Maintenance II | Vincristine, Dexamethasone, Mercaptopurine, Methotrexate  *repeats until end of therapy | 56  | yes | SR ALL | Leukemia            |\n",
       "| 329 | HR ALL | Induction | Vincristine, Daunorubicin, Asparaginase, Dexamethasone | 35 | Yes | Consolidation | Vincristine, Mercaptopurine, Cyclophosphamide, Cytarabine, Asparaginase  | 56 | No | ... | Delayed Intensification | Vincristine, Doxorubicin, Dexamethasone, Asparaginase, Cyclophosphamide, Thioguanine, Cytarabine | 63 | Yes | Interim Maintenance II | Vincristine, Prednisone, Mercaptopurine, Methotrexate *repeats until end of therapy     | 84  | Yes | HR ALL | Leukemia            |\n",
       "\n"
      ],
      "text/plain": [
       "  Patient ID Diagnosis Cycle 1 Type\n",
       "1 319        HR ALL    Induction   \n",
       "2 323        HR ALL    Induction   \n",
       "3 324        T-ALL     Induction   \n",
       "4 326        SR ALL    Induction   \n",
       "5 328        SR ALL    Induction   \n",
       "6 329        HR ALL    Induction   \n",
       "  Cycle 1 Drugs                                         \n",
       "1 Vincristine, Daunorubicin, Asparaginase, Dexamethasone\n",
       "2 Vincristine, Daunorubicin, Asparaginase, Dexamethasone\n",
       "3 Vincristine, Daunorubicin, Asparaginase, Dexamethasone\n",
       "4 Vincristine, Asparaginase, Dexamethasone              \n",
       "5 Vincristine, Asparaginase, Dexamethasone              \n",
       "6 Vincristine, Daunorubicin, Asparaginase, Dexamethasone\n",
       "  Cycle 1 Duration (days) Cycle 1 Steroids Cycle 2 Type \n",
       "1 35                      Yes              Consolidation\n",
       "2 35                      Yes              Consolidation\n",
       "3 35                      yes              Consolidation\n",
       "4 35                      yes              Consolidation\n",
       "5 35                      yes              Consolidation\n",
       "6 35                      Yes              Consolidation\n",
       "  Cycle 2 Drugs                                                           \n",
       "1 Vincristine, Mercaptopurine, Cyclophosphamide, Cytarabine, Asparaginase \n",
       "2 Vincristine, Mercaptopurine, Cyclophosphamide, Cytarabine, Asparaginase \n",
       "3 Vincristine, Asparaginase, Mercaptopurine, Cyclophosphamide, Cyatarabine\n",
       "4 Vincristine, Mercaptopurine                                             \n",
       "5 Vincristine, Mercaptopurine                                             \n",
       "6 Vincristine, Mercaptopurine, Cyclophosphamide, Cytarabine, Asparaginase \n",
       "  Cycle 2 Duration (days) Cycle 2 Steroids ... Cycle 4 Type           \n",
       "1 56                      No               ... Delayed Intensification\n",
       "2 56                      No               ... Delayed Intensification\n",
       "3 56                      no               ... Delayed Intensification\n",
       "4 28                      no               ... Delayed Intensification\n",
       "5 28                      no               ... Delayed Intensification\n",
       "6 56                      No               ... Delayed Intensification\n",
       "  Cycle 4 Drugs                                                                                   \n",
       "1 Vincristine, Doxorubicin, Dexamethasone, Asparaginase, Cyclophosphamide, Thioguanine, Cytarabine\n",
       "2 Vincristine, Doxorubicin, Dexamethasone, Asparaginase, Cyclophosphamide, Thioguanine, Cytarabine\n",
       "3 Vincristine, Asparaginase, Doxorubicin, Dexamethasone, Cyclophosphamide, Cytarabine, Thioguanine\n",
       "4 Vincristine, Doxorubicin, Dexamethasone, Asparaginase, Cyclophosphamide, Thioguanine, Cytarabine\n",
       "5 Vincristine, Doxorubicin, Dexamethasone, Asparaginase, Cyclophosphamide, Thioguanine, Cytarabine\n",
       "6 Vincristine, Doxorubicin, Dexamethasone, Asparaginase, Cyclophosphamide, Thioguanine, Cytarabine\n",
       "  Cycle 4 Duration (days) Cycle 4 Steroids Cycle 5 Type          \n",
       "1 63                      Yes              Interim Maintenance II\n",
       "2 63                      Yes              Interim Maintenance II\n",
       "3 63                      yes              N/A                   \n",
       "4 56                      yes              Interim Maintenance II\n",
       "5 56                      yes              Interim Maintenance II\n",
       "6 63                      Yes              Interim Maintenance II\n",
       "  Cycle 5 Drugs                                                                          \n",
       "1 Vincristine, Prednisone, Mercaptopurine, Methotrexate *repeats until end of therapy    \n",
       "2 Vincristine, Prednisone, Mercaptopurine, Methotrexate *repeats until end of therapy    \n",
       "3 N/A                                                                                    \n",
       "4 Vincristine, Dexamethasone, Mercaptopurine, Methotrexate  *repeats until end of therapy\n",
       "5 Vincristine, Dexamethasone, Mercaptopurine, Methotrexate  *repeats until end of therapy\n",
       "6 Vincristine, Prednisone, Mercaptopurine, Methotrexate *repeats until end of therapy    \n",
       "  Cycle 5 Duration (days) Cycle 5 Steroids Disease Cancergroup        \n",
       "1 84                      Yes              HR ALL  Leukemia           \n",
       "2 84                      Yes              HR ALL  Leukemia           \n",
       "3 N/A                     N/A              T-ALL   T-cell malignancies\n",
       "4 56                      yes              SR ALL  Leukemia           \n",
       "5 56                      yes              SR ALL  Leukemia           \n",
       "6 84                      Yes              HR ALL  Leukemia           "
      ]
     },
     "metadata": {},
     "output_type": "display_data"
    }
   ],
   "source": [
    "head(soc_good)"
   ]
  },
  {
   "cell_type": "code",
   "execution_count": 31,
   "metadata": {
    "vscode": {
     "languageId": "r"
    }
   },
   "outputs": [
    {
     "data": {
      "text/html": [
       "<table class=\"dataframe\">\n",
       "<caption>A tibble: 9 x 22</caption>\n",
       "<thead>\n",
       "\t<tr><th scope=col>Patient ID</th><th scope=col>Diagnosis</th><th scope=col>Cycle 1 Type</th><th scope=col>Cycle 1 Duration (days)</th><th scope=col>Cycle 1 Steroids</th><th scope=col>Cycle 2 Type</th><th scope=col>Cycle 2 Duration (days)</th><th scope=col>Cycle 2 Steroids</th><th scope=col>Cycle 3 Type</th><th scope=col>Cycle 3 Duration (days)</th><th scope=col>...</th><th scope=col>Cycle 4 Duration (days)</th><th scope=col>Cycle 4 Steroids</th><th scope=col>Cycle 5 Type</th><th scope=col>Cycle 5 Duration (days)</th><th scope=col>Cycle 5 Steroids</th><th scope=col>Disease</th><th scope=col>Cancergroup</th><th scope=col>cycle</th><th scope=col>drugs</th><th scope=col>drug_type</th></tr>\n",
       "\t<tr><th scope=col>&lt;dbl&gt;</th><th scope=col>&lt;chr&gt;</th><th scope=col>&lt;chr&gt;</th><th scope=col>&lt;chr&gt;</th><th scope=col>&lt;chr&gt;</th><th scope=col>&lt;chr&gt;</th><th scope=col>&lt;chr&gt;</th><th scope=col>&lt;chr&gt;</th><th scope=col>&lt;chr&gt;</th><th scope=col>&lt;chr&gt;</th><th scope=col>...</th><th scope=col>&lt;chr&gt;</th><th scope=col>&lt;chr&gt;</th><th scope=col>&lt;chr&gt;</th><th scope=col>&lt;chr&gt;</th><th scope=col>&lt;chr&gt;</th><th scope=col>&lt;chr&gt;</th><th scope=col>&lt;chr&gt;</th><th scope=col>&lt;dbl&gt;</th><th scope=col>&lt;chr&gt;</th><th scope=col>&lt;chr&gt;</th></tr>\n",
       "</thead>\n",
       "<tbody>\n",
       "\t<tr><td>350</td><td>Hepatoblastoma</td><td>Cycle 1</td><td>21</td><td>No</td><td>Cycle 2</td><td>21</td><td>No</td><td>N/A</td><td>N/A</td><td>...</td><td>N/A</td><td>N/A</td><td>N/A</td><td>N/A</td><td>N/A</td><td>HB</td><td>Solid tumors</td><td>1</td><td>Cisplatin     </td><td>Chemotherapy</td></tr>\n",
       "\t<tr><td>350</td><td>Hepatoblastoma</td><td>Cycle 1</td><td>21</td><td>No</td><td>Cycle 2</td><td>21</td><td>No</td><td>N/A</td><td>N/A</td><td>...</td><td>N/A</td><td>N/A</td><td>N/A</td><td>N/A</td><td>N/A</td><td>HB</td><td>Solid tumors</td><td>1</td><td>5-Fluorouracil</td><td>Chemotherapy</td></tr>\n",
       "\t<tr><td>350</td><td>Hepatoblastoma</td><td>Cycle 1</td><td>21</td><td>No</td><td>Cycle 2</td><td>21</td><td>No</td><td>N/A</td><td>N/A</td><td>...</td><td>N/A</td><td>N/A</td><td>N/A</td><td>N/A</td><td>N/A</td><td>HB</td><td>Solid tumors</td><td>1</td><td>Vincristine   </td><td>Chemotherapy</td></tr>\n",
       "\t<tr><td>350</td><td>Hepatoblastoma</td><td>Cycle 1</td><td>21</td><td>No</td><td>Cycle 2</td><td>21</td><td>No</td><td>N/A</td><td>N/A</td><td>...</td><td>N/A</td><td>N/A</td><td>N/A</td><td>N/A</td><td>N/A</td><td>HB</td><td>Solid tumors</td><td>2</td><td>Cisplatin     </td><td>Chemotherapy</td></tr>\n",
       "\t<tr><td>350</td><td>Hepatoblastoma</td><td>Cycle 1</td><td>21</td><td>No</td><td>Cycle 2</td><td>21</td><td>No</td><td>N/A</td><td>N/A</td><td>...</td><td>N/A</td><td>N/A</td><td>N/A</td><td>N/A</td><td>N/A</td><td>HB</td><td>Solid tumors</td><td>2</td><td>5-Fluorouracil</td><td>Chemotherapy</td></tr>\n",
       "\t<tr><td>350</td><td>Hepatoblastoma</td><td>Cycle 1</td><td>21</td><td>No</td><td>Cycle 2</td><td>21</td><td>No</td><td>N/A</td><td>N/A</td><td>...</td><td>N/A</td><td>N/A</td><td>N/A</td><td>N/A</td><td>N/A</td><td>HB</td><td>Solid tumors</td><td>2</td><td>Vincristine   </td><td>Chemotherapy</td></tr>\n",
       "\t<tr><td>350</td><td>Hepatoblastoma</td><td>Cycle 1</td><td>21</td><td>No</td><td>Cycle 2</td><td>21</td><td>No</td><td>N/A</td><td>N/A</td><td>...</td><td>N/A</td><td>N/A</td><td>N/A</td><td>N/A</td><td>N/A</td><td>HB</td><td>Solid tumors</td><td>3</td><td>N/A           </td><td>NA          </td></tr>\n",
       "\t<tr><td>350</td><td>Hepatoblastoma</td><td>Cycle 1</td><td>21</td><td>No</td><td>Cycle 2</td><td>21</td><td>No</td><td>N/A</td><td>N/A</td><td>...</td><td>N/A</td><td>N/A</td><td>N/A</td><td>N/A</td><td>N/A</td><td>HB</td><td>Solid tumors</td><td>4</td><td>N/A           </td><td>NA          </td></tr>\n",
       "\t<tr><td>350</td><td>Hepatoblastoma</td><td>Cycle 1</td><td>21</td><td>No</td><td>Cycle 2</td><td>21</td><td>No</td><td>N/A</td><td>N/A</td><td>...</td><td>N/A</td><td>N/A</td><td>N/A</td><td>N/A</td><td>N/A</td><td>HB</td><td>Solid tumors</td><td>5</td><td>N/A           </td><td>NA          </td></tr>\n",
       "</tbody>\n",
       "</table>\n"
      ],
      "text/latex": [
       "A tibble: 9 x 22\n",
       "\\begin{tabular}{lllllllllllllllllllll}\n",
       " Patient ID & Diagnosis & Cycle 1 Type & Cycle 1 Duration (days) & Cycle 1 Steroids & Cycle 2 Type & Cycle 2 Duration (days) & Cycle 2 Steroids & Cycle 3 Type & Cycle 3 Duration (days) & ... & Cycle 4 Duration (days) & Cycle 4 Steroids & Cycle 5 Type & Cycle 5 Duration (days) & Cycle 5 Steroids & Disease & Cancergroup & cycle & drugs & drug\\_type\\\\\n",
       " <dbl> & <chr> & <chr> & <chr> & <chr> & <chr> & <chr> & <chr> & <chr> & <chr> & ... & <chr> & <chr> & <chr> & <chr> & <chr> & <chr> & <chr> & <dbl> & <chr> & <chr>\\\\\n",
       "\\hline\n",
       "\t 350 & Hepatoblastoma & Cycle 1 & 21 & No & Cycle 2 & 21 & No & N/A & N/A & ... & N/A & N/A & N/A & N/A & N/A & HB & Solid tumors & 1 & Cisplatin      & Chemotherapy\\\\\n",
       "\t 350 & Hepatoblastoma & Cycle 1 & 21 & No & Cycle 2 & 21 & No & N/A & N/A & ... & N/A & N/A & N/A & N/A & N/A & HB & Solid tumors & 1 & 5-Fluorouracil & Chemotherapy\\\\\n",
       "\t 350 & Hepatoblastoma & Cycle 1 & 21 & No & Cycle 2 & 21 & No & N/A & N/A & ... & N/A & N/A & N/A & N/A & N/A & HB & Solid tumors & 1 & Vincristine    & Chemotherapy\\\\\n",
       "\t 350 & Hepatoblastoma & Cycle 1 & 21 & No & Cycle 2 & 21 & No & N/A & N/A & ... & N/A & N/A & N/A & N/A & N/A & HB & Solid tumors & 2 & Cisplatin      & Chemotherapy\\\\\n",
       "\t 350 & Hepatoblastoma & Cycle 1 & 21 & No & Cycle 2 & 21 & No & N/A & N/A & ... & N/A & N/A & N/A & N/A & N/A & HB & Solid tumors & 2 & 5-Fluorouracil & Chemotherapy\\\\\n",
       "\t 350 & Hepatoblastoma & Cycle 1 & 21 & No & Cycle 2 & 21 & No & N/A & N/A & ... & N/A & N/A & N/A & N/A & N/A & HB & Solid tumors & 2 & Vincristine    & Chemotherapy\\\\\n",
       "\t 350 & Hepatoblastoma & Cycle 1 & 21 & No & Cycle 2 & 21 & No & N/A & N/A & ... & N/A & N/A & N/A & N/A & N/A & HB & Solid tumors & 3 & N/A            & NA          \\\\\n",
       "\t 350 & Hepatoblastoma & Cycle 1 & 21 & No & Cycle 2 & 21 & No & N/A & N/A & ... & N/A & N/A & N/A & N/A & N/A & HB & Solid tumors & 4 & N/A            & NA          \\\\\n",
       "\t 350 & Hepatoblastoma & Cycle 1 & 21 & No & Cycle 2 & 21 & No & N/A & N/A & ... & N/A & N/A & N/A & N/A & N/A & HB & Solid tumors & 5 & N/A            & NA          \\\\\n",
       "\\end{tabular}\n"
      ],
      "text/markdown": [
       "\n",
       "A tibble: 9 x 22\n",
       "\n",
       "| Patient ID &lt;dbl&gt; | Diagnosis &lt;chr&gt; | Cycle 1 Type &lt;chr&gt; | Cycle 1 Duration (days) &lt;chr&gt; | Cycle 1 Steroids &lt;chr&gt; | Cycle 2 Type &lt;chr&gt; | Cycle 2 Duration (days) &lt;chr&gt; | Cycle 2 Steroids &lt;chr&gt; | Cycle 3 Type &lt;chr&gt; | Cycle 3 Duration (days) &lt;chr&gt; | ... ... | Cycle 4 Duration (days) &lt;chr&gt; | Cycle 4 Steroids &lt;chr&gt; | Cycle 5 Type &lt;chr&gt; | Cycle 5 Duration (days) &lt;chr&gt; | Cycle 5 Steroids &lt;chr&gt; | Disease &lt;chr&gt; | Cancergroup &lt;chr&gt; | cycle &lt;dbl&gt; | drugs &lt;chr&gt; | drug_type &lt;chr&gt; |\n",
       "|---|---|---|---|---|---|---|---|---|---|---|---|---|---|---|---|---|---|---|---|---|\n",
       "| 350 | Hepatoblastoma | Cycle 1 | 21 | No | Cycle 2 | 21 | No | N/A | N/A | ... | N/A | N/A | N/A | N/A | N/A | HB | Solid tumors | 1 | Cisplatin      | Chemotherapy |\n",
       "| 350 | Hepatoblastoma | Cycle 1 | 21 | No | Cycle 2 | 21 | No | N/A | N/A | ... | N/A | N/A | N/A | N/A | N/A | HB | Solid tumors | 1 | 5-Fluorouracil | Chemotherapy |\n",
       "| 350 | Hepatoblastoma | Cycle 1 | 21 | No | Cycle 2 | 21 | No | N/A | N/A | ... | N/A | N/A | N/A | N/A | N/A | HB | Solid tumors | 1 | Vincristine    | Chemotherapy |\n",
       "| 350 | Hepatoblastoma | Cycle 1 | 21 | No | Cycle 2 | 21 | No | N/A | N/A | ... | N/A | N/A | N/A | N/A | N/A | HB | Solid tumors | 2 | Cisplatin      | Chemotherapy |\n",
       "| 350 | Hepatoblastoma | Cycle 1 | 21 | No | Cycle 2 | 21 | No | N/A | N/A | ... | N/A | N/A | N/A | N/A | N/A | HB | Solid tumors | 2 | 5-Fluorouracil | Chemotherapy |\n",
       "| 350 | Hepatoblastoma | Cycle 1 | 21 | No | Cycle 2 | 21 | No | N/A | N/A | ... | N/A | N/A | N/A | N/A | N/A | HB | Solid tumors | 2 | Vincristine    | Chemotherapy |\n",
       "| 350 | Hepatoblastoma | Cycle 1 | 21 | No | Cycle 2 | 21 | No | N/A | N/A | ... | N/A | N/A | N/A | N/A | N/A | HB | Solid tumors | 3 | N/A            | NA           |\n",
       "| 350 | Hepatoblastoma | Cycle 1 | 21 | No | Cycle 2 | 21 | No | N/A | N/A | ... | N/A | N/A | N/A | N/A | N/A | HB | Solid tumors | 4 | N/A            | NA           |\n",
       "| 350 | Hepatoblastoma | Cycle 1 | 21 | No | Cycle 2 | 21 | No | N/A | N/A | ... | N/A | N/A | N/A | N/A | N/A | HB | Solid tumors | 5 | N/A            | NA           |\n",
       "\n"
      ],
      "text/plain": [
       "  Patient ID Diagnosis      Cycle 1 Type Cycle 1 Duration (days)\n",
       "1 350        Hepatoblastoma Cycle 1      21                     \n",
       "2 350        Hepatoblastoma Cycle 1      21                     \n",
       "3 350        Hepatoblastoma Cycle 1      21                     \n",
       "4 350        Hepatoblastoma Cycle 1      21                     \n",
       "5 350        Hepatoblastoma Cycle 1      21                     \n",
       "6 350        Hepatoblastoma Cycle 1      21                     \n",
       "7 350        Hepatoblastoma Cycle 1      21                     \n",
       "8 350        Hepatoblastoma Cycle 1      21                     \n",
       "9 350        Hepatoblastoma Cycle 1      21                     \n",
       "  Cycle 1 Steroids Cycle 2 Type Cycle 2 Duration (days) Cycle 2 Steroids\n",
       "1 No               Cycle 2      21                      No              \n",
       "2 No               Cycle 2      21                      No              \n",
       "3 No               Cycle 2      21                      No              \n",
       "4 No               Cycle 2      21                      No              \n",
       "5 No               Cycle 2      21                      No              \n",
       "6 No               Cycle 2      21                      No              \n",
       "7 No               Cycle 2      21                      No              \n",
       "8 No               Cycle 2      21                      No              \n",
       "9 No               Cycle 2      21                      No              \n",
       "  Cycle 3 Type Cycle 3 Duration (days) ... Cycle 4 Duration (days)\n",
       "1 N/A          N/A                     ... N/A                    \n",
       "2 N/A          N/A                     ... N/A                    \n",
       "3 N/A          N/A                     ... N/A                    \n",
       "4 N/A          N/A                     ... N/A                    \n",
       "5 N/A          N/A                     ... N/A                    \n",
       "6 N/A          N/A                     ... N/A                    \n",
       "7 N/A          N/A                     ... N/A                    \n",
       "8 N/A          N/A                     ... N/A                    \n",
       "9 N/A          N/A                     ... N/A                    \n",
       "  Cycle 4 Steroids Cycle 5 Type Cycle 5 Duration (days) Cycle 5 Steroids\n",
       "1 N/A              N/A          N/A                     N/A             \n",
       "2 N/A              N/A          N/A                     N/A             \n",
       "3 N/A              N/A          N/A                     N/A             \n",
       "4 N/A              N/A          N/A                     N/A             \n",
       "5 N/A              N/A          N/A                     N/A             \n",
       "6 N/A              N/A          N/A                     N/A             \n",
       "7 N/A              N/A          N/A                     N/A             \n",
       "8 N/A              N/A          N/A                     N/A             \n",
       "9 N/A              N/A          N/A                     N/A             \n",
       "  Disease Cancergroup  cycle drugs          drug_type   \n",
       "1 HB      Solid tumors 1     Cisplatin      Chemotherapy\n",
       "2 HB      Solid tumors 1     5-Fluorouracil Chemotherapy\n",
       "3 HB      Solid tumors 1     Vincristine    Chemotherapy\n",
       "4 HB      Solid tumors 2     Cisplatin      Chemotherapy\n",
       "5 HB      Solid tumors 2     5-Fluorouracil Chemotherapy\n",
       "6 HB      Solid tumors 2     Vincristine    Chemotherapy\n",
       "7 HB      Solid tumors 3     N/A            NA          \n",
       "8 HB      Solid tumors 4     N/A            NA          \n",
       "9 HB      Solid tumors 5     N/A            NA          "
      ]
     },
     "metadata": {},
     "output_type": "display_data"
    }
   ],
   "source": [
    "soc_good_long_sep[ soc_good_long_sep$`Patient ID` == \"350\",]"
   ]
  },
  {
   "cell_type": "code",
   "execution_count": 32,
   "metadata": {
    "vscode": {
     "languageId": "r"
    }
   },
   "outputs": [],
   "source": [
    "# Create base_regimen columns for each cycle\n",
    "soc_good$base_regimen_cycle1 <- NA\n",
    "soc_good$base_regimen_cycle2 <- NA \n",
    "soc_good$base_regimen_cycle3 <- NA\n",
    "soc_good$base_regimen_cycle4 <- NA\n",
    "soc_good$base_regimen_cycle5 <- NA\n",
    "\n",
    "# Process each cycle separately\n",
    "for(cycle in 1:5) {\n",
    "  # Filter for current cycle\n",
    "  cycle_data <- soc_good_long_sep[soc_good_long_sep$cycle == cycle,]\n",
    "  \n",
    "  # Get unique patients with specific drugs in this cycle\n",
    "  vin_patients <- unique(cycle_data$`Patient ID`[cycle_data$drugs == \"Vincristine\"])\n",
    "  mtx_patients <- unique(cycle_data$`Patient ID`[cycle_data$drugs == \"Methotrexate\"])\n",
    "  cyclo_patients <- unique(cycle_data$`Patient ID`[cycle_data$drugs == \"Cyclophosphamide\"])\n",
    "  norx_patients <- unique(cycle_data$`Patient ID`[cycle_data$drugs == \"N/A\"])\n",
    "  # Assign regimens for this cycle\n",
    "  col_name <- paste0(\"base_regimen_cycle\", cycle)\n",
    "  soc_good[[col_name]] <- sapply(soc_good$`Patient ID`, function(pat) {\n",
    "    regimens <- c()\n",
    "    if(pat %in% vin_patients) regimens <- c(regimens, \"Vincristine\")\n",
    "    if(pat %in% mtx_patients) regimens <- c(regimens, \"Methotrexate\") \n",
    "    if(pat %in% cyclo_patients) regimens <- c(regimens, \"Cyclophosphamide\")\n",
    "    if(pat %in% norx_patients) regimens <- c(regimens, \"No therapy\")\n",
    "    if(length(regimens) == 0) return(NA)\n",
    "    paste(regimens, collapse = \"/\")\n",
    "  })\n",
    "  \n",
    "  # Fill NAs with \"Others\"\n",
    "  soc_good[[col_name]][is.na(soc_good[[col_name]])] <- \"Others\"\n",
    "}"
   ]
  },
  {
   "cell_type": "code",
   "execution_count": 34,
   "metadata": {
    "vscode": {
     "languageId": "r"
    }
   },
   "outputs": [],
   "source": [
    "# Reorder base regimen factors to put \"Others\" at the end\n",
    "regimen_levels <- c(\"Vincristine\", \"Methotrexate\", \"Cyclophosphamide\", \n",
    "                   \"Vincristine/Methotrexate\", \"Vincristine/Cyclophosphamide\",\n",
    "                   \"Vincristine/Methotrexate/Cyclophosphamide\",\n",
    "                   \"Others\", \"No therapy\")\n",
    "\n",
    "soc_good$base_regimen_cycle1 <- factor(soc_good$base_regimen_cycle1, levels=regimen_levels)\n",
    "soc_good$base_regimen_cycle2 <- factor(soc_good$base_regimen_cycle2, levels=regimen_levels) \n",
    "soc_good$base_regimen_cycle3 <- factor(soc_good$base_regimen_cycle3, levels=regimen_levels)\n",
    "soc_good$base_regimen_cycle4 <- factor(soc_good$base_regimen_cycle4, levels=regimen_levels)\n",
    "soc_good$base_regimen_cycle5 <- factor(soc_good$base_regimen_cycle5, levels=regimen_levels)\n"
   ]
  },
  {
   "cell_type": "code",
   "execution_count": 35,
   "metadata": {
    "vscode": {
     "languageId": "r"
    }
   },
   "outputs": [
    {
     "data": {
      "text/html": [
       "<table class=\"dataframe\">\n",
       "<caption>A data.frame: 8 x 4</caption>\n",
       "<thead>\n",
       "\t<tr><th scope=col>Regimen</th><th scope=col>Count</th><th scope=col>Percentage</th><th scope=col>Total</th></tr>\n",
       "\t<tr><th scope=col>&lt;chr&gt;</th><th scope=col>&lt;dbl&gt;</th><th scope=col>&lt;dbl&gt;</th><th scope=col>&lt;int&gt;</th></tr>\n",
       "</thead>\n",
       "<tbody>\n",
       "\t<tr><td>Cyclophosphamide                         </td><td> 10</td><td> 1.80</td><td>555</td></tr>\n",
       "\t<tr><td>Methotrexate                             </td><td> 74</td><td>13.33</td><td>555</td></tr>\n",
       "\t<tr><td>No therapy                               </td><td> 53</td><td> 9.55</td><td>555</td></tr>\n",
       "\t<tr><td>Others                                   </td><td>101</td><td>18.20</td><td>555</td></tr>\n",
       "\t<tr><td>Vincristine                              </td><td> 75</td><td>13.51</td><td>555</td></tr>\n",
       "\t<tr><td>Vincristine/Cyclophosphamide             </td><td>146</td><td>26.31</td><td>555</td></tr>\n",
       "\t<tr><td>Vincristine/Methotrexate                 </td><td> 84</td><td>15.14</td><td>555</td></tr>\n",
       "\t<tr><td>Vincristine/Methotrexate/Cyclophosphamide</td><td> 12</td><td> 2.16</td><td>555</td></tr>\n",
       "</tbody>\n",
       "</table>\n"
      ],
      "text/latex": [
       "A data.frame: 8 x 4\n",
       "\\begin{tabular}{llll}\n",
       " Regimen & Count & Percentage & Total\\\\\n",
       " <chr> & <dbl> & <dbl> & <int>\\\\\n",
       "\\hline\n",
       "\t Cyclophosphamide                          &  10 &  1.80 & 555\\\\\n",
       "\t Methotrexate                              &  74 & 13.33 & 555\\\\\n",
       "\t No therapy                                &  53 &  9.55 & 555\\\\\n",
       "\t Others                                    & 101 & 18.20 & 555\\\\\n",
       "\t Vincristine                               &  75 & 13.51 & 555\\\\\n",
       "\t Vincristine/Cyclophosphamide              & 146 & 26.31 & 555\\\\\n",
       "\t Vincristine/Methotrexate                  &  84 & 15.14 & 555\\\\\n",
       "\t Vincristine/Methotrexate/Cyclophosphamide &  12 &  2.16 & 555\\\\\n",
       "\\end{tabular}\n"
      ],
      "text/markdown": [
       "\n",
       "A data.frame: 8 x 4\n",
       "\n",
       "| Regimen &lt;chr&gt; | Count &lt;dbl&gt; | Percentage &lt;dbl&gt; | Total &lt;int&gt; |\n",
       "|---|---|---|---|\n",
       "| Cyclophosphamide                          |  10 |  1.80 | 555 |\n",
       "| Methotrexate                              |  74 | 13.33 | 555 |\n",
       "| No therapy                                |  53 |  9.55 | 555 |\n",
       "| Others                                    | 101 | 18.20 | 555 |\n",
       "| Vincristine                               |  75 | 13.51 | 555 |\n",
       "| Vincristine/Cyclophosphamide              | 146 | 26.31 | 555 |\n",
       "| Vincristine/Methotrexate                  |  84 | 15.14 | 555 |\n",
       "| Vincristine/Methotrexate/Cyclophosphamide |  12 |  2.16 | 555 |\n",
       "\n"
      ],
      "text/plain": [
       "  Regimen                                   Count Percentage Total\n",
       "1 Cyclophosphamide                           10    1.80      555  \n",
       "2 Methotrexate                               74   13.33      555  \n",
       "3 No therapy                                 53    9.55      555  \n",
       "4 Others                                    101   18.20      555  \n",
       "5 Vincristine                                75   13.51      555  \n",
       "6 Vincristine/Cyclophosphamide              146   26.31      555  \n",
       "7 Vincristine/Methotrexate                   84   15.14      555  \n",
       "8 Vincristine/Methotrexate/Cyclophosphamide  12    2.16      555  "
      ]
     },
     "metadata": {},
     "output_type": "display_data"
    }
   ],
   "source": [
    "# Combine all base_regimen_cycle columns into a single vector\n",
    "all_regimens <- c(\n",
    "  as.character(soc_good$base_regimen_cycle1),\n",
    "  as.character(soc_good$base_regimen_cycle2),\n",
    "  as.character(soc_good$base_regimen_cycle3),\n",
    "  as.character(soc_good$base_regimen_cycle4),\n",
    "  as.character(soc_good$base_regimen_cycle5)\n",
    ")\n",
    "\n",
    "# Create a table of counts\n",
    "regimen_counts <- table(all_regimens, useNA = \"ifany\")\n",
    "\n",
    "# Calculate total count (excluding NA)\n",
    "total_count <- sum(regimen_counts[!is.na(names(regimen_counts))])\n",
    "\n",
    "# Calculate percentages\n",
    "percent <- (as.numeric(regimen_counts) / total_count) * 100\n",
    "\n",
    "# Make dataframe\n",
    "regimen_summary <- data.frame(\n",
    "  Regimen = names(regimen_counts),\n",
    "  Count = as.numeric(regimen_counts),\n",
    "  Percentage = round(percent, 2)\n",
    ")\n",
    "\n",
    "# Add the total as a new column (same value for all rows)\n",
    "regimen_summary$Total = total_count\n",
    "\n",
    "regimen_summary # convert to gtsummary "
   ]
  },
  {
   "cell_type": "code",
   "execution_count": null,
   "metadata": {
    "vscode": {
     "languageId": "r"
    }
   },
   "outputs": [],
   "source": []
  },
  {
   "cell_type": "code",
   "execution_count": 36,
   "metadata": {
    "vscode": {
     "languageId": "r"
    }
   },
   "outputs": [],
   "source": [
    "# Create cycle existence columns\n",
    "soc_good$cycle1exist <- ifelse(soc_good$`Cycle 1 Duration (days)` %in% c(\"N/A\", NA), NA, \"Yes\")\n",
    "soc_good$cycle2exist <- ifelse(soc_good$`Cycle 2 Duration (days)` %in% c(\"N/A\", NA), NA, \"Yes\") \n",
    "soc_good$cycle3exist <- ifelse(soc_good$`Cycle 3 Duration (days)` %in% c(\"N/A\", NA), NA, \"Yes\")\n",
    "soc_good$cycle4exist <- ifelse(soc_good$`Cycle 4 Duration (days)` %in% c(\"N/A\", NA), NA, \"Yes\")\n",
    "soc_good$cycle5exist <- ifelse(soc_good$`Cycle 5 Duration (days)` %in% c(\"N/A\", NA), NA, \"Yes\")\n"
   ]
  },
  {
   "cell_type": "code",
   "execution_count": 37,
   "metadata": {
    "vscode": {
     "languageId": "r"
    }
   },
   "outputs": [
    {
     "data": {
      "text/html": [
       "<table class=\"dataframe\">\n",
       "<caption>A tibble: 6 x 34</caption>\n",
       "<thead>\n",
       "\t<tr><th scope=col>Patient ID</th><th scope=col>Diagnosis</th><th scope=col>Cycle 1 Type</th><th scope=col>Cycle 1 Drugs</th><th scope=col>Cycle 1 Duration (days)</th><th scope=col>Cycle 1 Steroids</th><th scope=col>Cycle 2 Type</th><th scope=col>Cycle 2 Drugs</th><th scope=col>Cycle 2 Duration (days)</th><th scope=col>Cycle 2 Steroids</th><th scope=col>...</th><th scope=col>base_regimen_cycle1</th><th scope=col>base_regimen_cycle2</th><th scope=col>base_regimen_cycle3</th><th scope=col>base_regimen_cycle4</th><th scope=col>base_regimen_cycle5</th><th scope=col>cycle1exist</th><th scope=col>cycle2exist</th><th scope=col>cycle3exist</th><th scope=col>cycle4exist</th><th scope=col>cycle5exist</th></tr>\n",
       "\t<tr><th scope=col>&lt;dbl&gt;</th><th scope=col>&lt;chr&gt;</th><th scope=col>&lt;chr&gt;</th><th scope=col>&lt;chr&gt;</th><th scope=col>&lt;chr&gt;</th><th scope=col>&lt;chr&gt;</th><th scope=col>&lt;chr&gt;</th><th scope=col>&lt;chr&gt;</th><th scope=col>&lt;chr&gt;</th><th scope=col>&lt;chr&gt;</th><th scope=col>...</th><th scope=col>&lt;fct&gt;</th><th scope=col>&lt;fct&gt;</th><th scope=col>&lt;fct&gt;</th><th scope=col>&lt;fct&gt;</th><th scope=col>&lt;fct&gt;</th><th scope=col>&lt;chr&gt;</th><th scope=col>&lt;chr&gt;</th><th scope=col>&lt;chr&gt;</th><th scope=col>&lt;chr&gt;</th><th scope=col>&lt;chr&gt;</th></tr>\n",
       "</thead>\n",
       "<tbody>\n",
       "\t<tr><td>319</td><td>HR ALL</td><td>Induction</td><td>Vincristine, Daunorubicin, Asparaginase, Dexamethasone</td><td>35</td><td>Yes</td><td>Consolidation</td><td>Vincristine, Mercaptopurine, Cyclophosphamide, Cytarabine, Asparaginase </td><td>56</td><td>No</td><td>...</td><td>Vincristine</td><td>Vincristine/Cyclophosphamide</td><td>Vincristine/Methotrexate</td><td>Vincristine/Cyclophosphamide</td><td>Vincristine/Methotrexate</td><td>Yes</td><td>Yes</td><td>Yes</td><td>Yes</td><td>Yes</td></tr>\n",
       "\t<tr><td>323</td><td>HR ALL</td><td>Induction</td><td>Vincristine, Daunorubicin, Asparaginase, Dexamethasone</td><td>35</td><td>Yes</td><td>Consolidation</td><td>Vincristine, Mercaptopurine, Cyclophosphamide, Cytarabine, Asparaginase </td><td>56</td><td>No</td><td>...</td><td>Vincristine</td><td>Vincristine/Cyclophosphamide</td><td>Vincristine/Methotrexate</td><td>Vincristine/Cyclophosphamide</td><td>Vincristine/Methotrexate</td><td>Yes</td><td>Yes</td><td>Yes</td><td>Yes</td><td>Yes</td></tr>\n",
       "\t<tr><td>324</td><td>T-ALL </td><td>Induction</td><td>Vincristine, Daunorubicin, Asparaginase, Dexamethasone</td><td>35</td><td>yes</td><td>Consolidation</td><td>Vincristine, Asparaginase, Mercaptopurine, Cyclophosphamide, Cyatarabine</td><td>56</td><td>no</td><td>...</td><td>Vincristine</td><td>Vincristine/Cyclophosphamide</td><td>Vincristine/Methotrexate</td><td>Vincristine/Cyclophosphamide</td><td>No therapy              </td><td>Yes</td><td>Yes</td><td>Yes</td><td>Yes</td><td>NA </td></tr>\n",
       "\t<tr><td>326</td><td>SR ALL</td><td>Induction</td><td>Vincristine, Asparaginase, Dexamethasone              </td><td>35</td><td>yes</td><td>Consolidation</td><td>Vincristine, Mercaptopurine                                             </td><td>28</td><td>no</td><td>...</td><td>Vincristine</td><td>Vincristine                 </td><td>Vincristine/Methotrexate</td><td>Vincristine/Cyclophosphamide</td><td>Vincristine/Methotrexate</td><td>Yes</td><td>Yes</td><td>Yes</td><td>Yes</td><td>Yes</td></tr>\n",
       "\t<tr><td>328</td><td>SR ALL</td><td>Induction</td><td>Vincristine, Asparaginase, Dexamethasone              </td><td>35</td><td>yes</td><td>Consolidation</td><td>Vincristine, Mercaptopurine                                             </td><td>28</td><td>no</td><td>...</td><td>Vincristine</td><td>Vincristine                 </td><td>Vincristine/Methotrexate</td><td>Vincristine/Cyclophosphamide</td><td>Vincristine/Methotrexate</td><td>Yes</td><td>Yes</td><td>Yes</td><td>Yes</td><td>Yes</td></tr>\n",
       "\t<tr><td>329</td><td>HR ALL</td><td>Induction</td><td>Vincristine, Daunorubicin, Asparaginase, Dexamethasone</td><td>35</td><td>Yes</td><td>Consolidation</td><td>Vincristine, Mercaptopurine, Cyclophosphamide, Cytarabine, Asparaginase </td><td>56</td><td>No</td><td>...</td><td>Vincristine</td><td>Vincristine/Cyclophosphamide</td><td>Vincristine/Methotrexate</td><td>Vincristine/Cyclophosphamide</td><td>Vincristine/Methotrexate</td><td>Yes</td><td>Yes</td><td>Yes</td><td>Yes</td><td>Yes</td></tr>\n",
       "</tbody>\n",
       "</table>\n"
      ],
      "text/latex": [
       "A tibble: 6 x 34\n",
       "\\begin{tabular}{lllllllllllllllllllll}\n",
       " Patient ID & Diagnosis & Cycle 1 Type & Cycle 1 Drugs & Cycle 1 Duration (days) & Cycle 1 Steroids & Cycle 2 Type & Cycle 2 Drugs & Cycle 2 Duration (days) & Cycle 2 Steroids & ... & base\\_regimen\\_cycle1 & base\\_regimen\\_cycle2 & base\\_regimen\\_cycle3 & base\\_regimen\\_cycle4 & base\\_regimen\\_cycle5 & cycle1exist & cycle2exist & cycle3exist & cycle4exist & cycle5exist\\\\\n",
       " <dbl> & <chr> & <chr> & <chr> & <chr> & <chr> & <chr> & <chr> & <chr> & <chr> & ... & <fct> & <fct> & <fct> & <fct> & <fct> & <chr> & <chr> & <chr> & <chr> & <chr>\\\\\n",
       "\\hline\n",
       "\t 319 & HR ALL & Induction & Vincristine, Daunorubicin, Asparaginase, Dexamethasone & 35 & Yes & Consolidation & Vincristine, Mercaptopurine, Cyclophosphamide, Cytarabine, Asparaginase  & 56 & No & ... & Vincristine & Vincristine/Cyclophosphamide & Vincristine/Methotrexate & Vincristine/Cyclophosphamide & Vincristine/Methotrexate & Yes & Yes & Yes & Yes & Yes\\\\\n",
       "\t 323 & HR ALL & Induction & Vincristine, Daunorubicin, Asparaginase, Dexamethasone & 35 & Yes & Consolidation & Vincristine, Mercaptopurine, Cyclophosphamide, Cytarabine, Asparaginase  & 56 & No & ... & Vincristine & Vincristine/Cyclophosphamide & Vincristine/Methotrexate & Vincristine/Cyclophosphamide & Vincristine/Methotrexate & Yes & Yes & Yes & Yes & Yes\\\\\n",
       "\t 324 & T-ALL  & Induction & Vincristine, Daunorubicin, Asparaginase, Dexamethasone & 35 & yes & Consolidation & Vincristine, Asparaginase, Mercaptopurine, Cyclophosphamide, Cyatarabine & 56 & no & ... & Vincristine & Vincristine/Cyclophosphamide & Vincristine/Methotrexate & Vincristine/Cyclophosphamide & No therapy               & Yes & Yes & Yes & Yes & NA \\\\\n",
       "\t 326 & SR ALL & Induction & Vincristine, Asparaginase, Dexamethasone               & 35 & yes & Consolidation & Vincristine, Mercaptopurine                                              & 28 & no & ... & Vincristine & Vincristine                  & Vincristine/Methotrexate & Vincristine/Cyclophosphamide & Vincristine/Methotrexate & Yes & Yes & Yes & Yes & Yes\\\\\n",
       "\t 328 & SR ALL & Induction & Vincristine, Asparaginase, Dexamethasone               & 35 & yes & Consolidation & Vincristine, Mercaptopurine                                              & 28 & no & ... & Vincristine & Vincristine                  & Vincristine/Methotrexate & Vincristine/Cyclophosphamide & Vincristine/Methotrexate & Yes & Yes & Yes & Yes & Yes\\\\\n",
       "\t 329 & HR ALL & Induction & Vincristine, Daunorubicin, Asparaginase, Dexamethasone & 35 & Yes & Consolidation & Vincristine, Mercaptopurine, Cyclophosphamide, Cytarabine, Asparaginase  & 56 & No & ... & Vincristine & Vincristine/Cyclophosphamide & Vincristine/Methotrexate & Vincristine/Cyclophosphamide & Vincristine/Methotrexate & Yes & Yes & Yes & Yes & Yes\\\\\n",
       "\\end{tabular}\n"
      ],
      "text/markdown": [
       "\n",
       "A tibble: 6 x 34\n",
       "\n",
       "| Patient ID &lt;dbl&gt; | Diagnosis &lt;chr&gt; | Cycle 1 Type &lt;chr&gt; | Cycle 1 Drugs &lt;chr&gt; | Cycle 1 Duration (days) &lt;chr&gt; | Cycle 1 Steroids &lt;chr&gt; | Cycle 2 Type &lt;chr&gt; | Cycle 2 Drugs &lt;chr&gt; | Cycle 2 Duration (days) &lt;chr&gt; | Cycle 2 Steroids &lt;chr&gt; | ... ... | base_regimen_cycle1 &lt;fct&gt; | base_regimen_cycle2 &lt;fct&gt; | base_regimen_cycle3 &lt;fct&gt; | base_regimen_cycle4 &lt;fct&gt; | base_regimen_cycle5 &lt;fct&gt; | cycle1exist &lt;chr&gt; | cycle2exist &lt;chr&gt; | cycle3exist &lt;chr&gt; | cycle4exist &lt;chr&gt; | cycle5exist &lt;chr&gt; |\n",
       "|---|---|---|---|---|---|---|---|---|---|---|---|---|---|---|---|---|---|---|---|---|\n",
       "| 319 | HR ALL | Induction | Vincristine, Daunorubicin, Asparaginase, Dexamethasone | 35 | Yes | Consolidation | Vincristine, Mercaptopurine, Cyclophosphamide, Cytarabine, Asparaginase  | 56 | No | ... | Vincristine | Vincristine/Cyclophosphamide | Vincristine/Methotrexate | Vincristine/Cyclophosphamide | Vincristine/Methotrexate | Yes | Yes | Yes | Yes | Yes |\n",
       "| 323 | HR ALL | Induction | Vincristine, Daunorubicin, Asparaginase, Dexamethasone | 35 | Yes | Consolidation | Vincristine, Mercaptopurine, Cyclophosphamide, Cytarabine, Asparaginase  | 56 | No | ... | Vincristine | Vincristine/Cyclophosphamide | Vincristine/Methotrexate | Vincristine/Cyclophosphamide | Vincristine/Methotrexate | Yes | Yes | Yes | Yes | Yes |\n",
       "| 324 | T-ALL  | Induction | Vincristine, Daunorubicin, Asparaginase, Dexamethasone | 35 | yes | Consolidation | Vincristine, Asparaginase, Mercaptopurine, Cyclophosphamide, Cyatarabine | 56 | no | ... | Vincristine | Vincristine/Cyclophosphamide | Vincristine/Methotrexate | Vincristine/Cyclophosphamide | No therapy               | Yes | Yes | Yes | Yes | NA  |\n",
       "| 326 | SR ALL | Induction | Vincristine, Asparaginase, Dexamethasone               | 35 | yes | Consolidation | Vincristine, Mercaptopurine                                              | 28 | no | ... | Vincristine | Vincristine                  | Vincristine/Methotrexate | Vincristine/Cyclophosphamide | Vincristine/Methotrexate | Yes | Yes | Yes | Yes | Yes |\n",
       "| 328 | SR ALL | Induction | Vincristine, Asparaginase, Dexamethasone               | 35 | yes | Consolidation | Vincristine, Mercaptopurine                                              | 28 | no | ... | Vincristine | Vincristine                  | Vincristine/Methotrexate | Vincristine/Cyclophosphamide | Vincristine/Methotrexate | Yes | Yes | Yes | Yes | Yes |\n",
       "| 329 | HR ALL | Induction | Vincristine, Daunorubicin, Asparaginase, Dexamethasone | 35 | Yes | Consolidation | Vincristine, Mercaptopurine, Cyclophosphamide, Cytarabine, Asparaginase  | 56 | No | ... | Vincristine | Vincristine/Cyclophosphamide | Vincristine/Methotrexate | Vincristine/Cyclophosphamide | Vincristine/Methotrexate | Yes | Yes | Yes | Yes | Yes |\n",
       "\n"
      ],
      "text/plain": [
       "  Patient ID Diagnosis Cycle 1 Type\n",
       "1 319        HR ALL    Induction   \n",
       "2 323        HR ALL    Induction   \n",
       "3 324        T-ALL     Induction   \n",
       "4 326        SR ALL    Induction   \n",
       "5 328        SR ALL    Induction   \n",
       "6 329        HR ALL    Induction   \n",
       "  Cycle 1 Drugs                                         \n",
       "1 Vincristine, Daunorubicin, Asparaginase, Dexamethasone\n",
       "2 Vincristine, Daunorubicin, Asparaginase, Dexamethasone\n",
       "3 Vincristine, Daunorubicin, Asparaginase, Dexamethasone\n",
       "4 Vincristine, Asparaginase, Dexamethasone              \n",
       "5 Vincristine, Asparaginase, Dexamethasone              \n",
       "6 Vincristine, Daunorubicin, Asparaginase, Dexamethasone\n",
       "  Cycle 1 Duration (days) Cycle 1 Steroids Cycle 2 Type \n",
       "1 35                      Yes              Consolidation\n",
       "2 35                      Yes              Consolidation\n",
       "3 35                      yes              Consolidation\n",
       "4 35                      yes              Consolidation\n",
       "5 35                      yes              Consolidation\n",
       "6 35                      Yes              Consolidation\n",
       "  Cycle 2 Drugs                                                           \n",
       "1 Vincristine, Mercaptopurine, Cyclophosphamide, Cytarabine, Asparaginase \n",
       "2 Vincristine, Mercaptopurine, Cyclophosphamide, Cytarabine, Asparaginase \n",
       "3 Vincristine, Asparaginase, Mercaptopurine, Cyclophosphamide, Cyatarabine\n",
       "4 Vincristine, Mercaptopurine                                             \n",
       "5 Vincristine, Mercaptopurine                                             \n",
       "6 Vincristine, Mercaptopurine, Cyclophosphamide, Cytarabine, Asparaginase \n",
       "  Cycle 2 Duration (days) Cycle 2 Steroids ... base_regimen_cycle1\n",
       "1 56                      No               ... Vincristine        \n",
       "2 56                      No               ... Vincristine        \n",
       "3 56                      no               ... Vincristine        \n",
       "4 28                      no               ... Vincristine        \n",
       "5 28                      no               ... Vincristine        \n",
       "6 56                      No               ... Vincristine        \n",
       "  base_regimen_cycle2          base_regimen_cycle3     \n",
       "1 Vincristine/Cyclophosphamide Vincristine/Methotrexate\n",
       "2 Vincristine/Cyclophosphamide Vincristine/Methotrexate\n",
       "3 Vincristine/Cyclophosphamide Vincristine/Methotrexate\n",
       "4 Vincristine                  Vincristine/Methotrexate\n",
       "5 Vincristine                  Vincristine/Methotrexate\n",
       "6 Vincristine/Cyclophosphamide Vincristine/Methotrexate\n",
       "  base_regimen_cycle4          base_regimen_cycle5      cycle1exist cycle2exist\n",
       "1 Vincristine/Cyclophosphamide Vincristine/Methotrexate Yes         Yes        \n",
       "2 Vincristine/Cyclophosphamide Vincristine/Methotrexate Yes         Yes        \n",
       "3 Vincristine/Cyclophosphamide No therapy               Yes         Yes        \n",
       "4 Vincristine/Cyclophosphamide Vincristine/Methotrexate Yes         Yes        \n",
       "5 Vincristine/Cyclophosphamide Vincristine/Methotrexate Yes         Yes        \n",
       "6 Vincristine/Cyclophosphamide Vincristine/Methotrexate Yes         Yes        \n",
       "  cycle3exist cycle4exist cycle5exist\n",
       "1 Yes         Yes         Yes        \n",
       "2 Yes         Yes         Yes        \n",
       "3 Yes         Yes         NA         \n",
       "4 Yes         Yes         Yes        \n",
       "5 Yes         Yes         Yes        \n",
       "6 Yes         Yes         Yes        "
      ]
     },
     "metadata": {},
     "output_type": "display_data"
    }
   ],
   "source": [
    "head(soc_good)"
   ]
  },
  {
   "cell_type": "code",
   "execution_count": 38,
   "metadata": {
    "vscode": {
     "languageId": "r"
    }
   },
   "outputs": [],
   "source": [
    "soc_good$Patient <- paste0(\"CHP_\",soc_good$`Patient ID`)"
   ]
  },
  {
   "cell_type": "code",
   "execution_count": null,
   "metadata": {
    "vscode": {
     "languageId": "r"
    }
   },
   "outputs": [],
   "source": [
    "# readr::write_rds(soc_good, paste0(datapath,\"soc_good_with_baseregimen.rds\"))"
   ]
  },
  {
   "cell_type": "code",
   "execution_count": 40,
   "metadata": {
    "vscode": {
     "languageId": "r"
    }
   },
   "outputs": [],
   "source": [
    "drugs <- soc_good "
   ]
  },
  {
   "cell_type": "code",
   "execution_count": 41,
   "metadata": {
    "vscode": {
     "languageId": "r"
    }
   },
   "outputs": [
    {
     "data": {
      "text/html": [
       "<style>\n",
       ".list-inline {list-style: none; margin:0; padding: 0}\n",
       ".list-inline>li {display: inline-block}\n",
       ".list-inline>li:not(:last-child)::after {content: \"\\00b7\"; padding: 0 .5ex}\n",
       "</style>\n",
       "<ol class=list-inline><li>111</li><li>35</li></ol>\n"
      ],
      "text/latex": [
       "\\begin{enumerate*}\n",
       "\\item 111\n",
       "\\item 35\n",
       "\\end{enumerate*}\n"
      ],
      "text/markdown": [
       "1. 111\n",
       "2. 35\n",
       "\n",
       "\n"
      ],
      "text/plain": [
       "[1] 111  35"
      ]
     },
     "metadata": {},
     "output_type": "display_data"
    }
   ],
   "source": [
    "dim(drugs)"
   ]
  },
  {
   "cell_type": "code",
   "execution_count": 42,
   "metadata": {
    "vscode": {
     "languageId": "r"
    }
   },
   "outputs": [
    {
     "name": "stderr",
     "output_type": "stream",
     "text": [
      "Warning message in lapply(X = X, FUN = FUN, ...):\n",
      "\"NAs introduced by coercion\"\n",
      "Warning message in lapply(X = X, FUN = FUN, ...):\n",
      "\"NAs introduced by coercion\"\n",
      "Warning message in lapply(X = X, FUN = FUN, ...):\n",
      "\"NAs introduced by coercion\"\n"
     ]
    }
   ],
   "source": [
    "cols.num <- colnames(drugs)[grepl(\"Duration\", colnames(drugs))]\n",
    "drugs[cols.num] <- sapply(drugs[cols.num],as.numeric)"
   ]
  },
  {
   "cell_type": "code",
   "execution_count": 43,
   "metadata": {
    "vscode": {
     "languageId": "r"
    }
   },
   "outputs": [],
   "source": [
    "drugs$trtend <- rowSums(drugs[,c(\"Cycle 1 Duration (days)\", \"Cycle 2 Duration (days)\",\n",
    "\"Cycle 3 Duration (days)\", \"Cycle 4 Duration (days)\", \"Cycle 5 Duration (days)\")], na.rm = T)\n",
    "\n",
    "drugs$trtend <- drugs$trtend + 50 # offset for the swimmerplo"
   ]
  },
  {
   "cell_type": "code",
   "execution_count": 44,
   "metadata": {
    "vscode": {
     "languageId": "r"
    }
   },
   "outputs": [
    {
     "name": "stdout",
     "output_type": "stream",
     "text": [
      "\n",
      "Summary for Cycle 1 Duration (days):\n",
      "   Min. 1st Qu.  Median    Mean 3rd Qu.    Max. \n",
      "   7.00   21.00   35.00   35.38   35.00   84.00 \n",
      "\n",
      "Summary for Cycle 2 Duration (days):\n",
      "   Min. 1st Qu.  Median    Mean 3rd Qu.    Max. \n",
      "  21.00   21.00   28.00   41.81   56.00  154.00 \n",
      "\n",
      "Summary for Cycle 3 Duration (days):\n",
      "   Min. 1st Qu.  Median    Mean 3rd Qu.    Max.    NA's \n",
      "  21.00   21.00   35.00   41.85   56.00   63.00      19 \n",
      "\n",
      "Summary for Cycle 4 Duration (days):\n",
      "   Min. 1st Qu.  Median    Mean 3rd Qu.    Max.    NA's \n",
      "  21.00   21.00   35.00   42.15   63.00   63.00      19 \n",
      "\n",
      "Summary for Cycle 5 Duration (days):\n",
      "   Min. 1st Qu.  Median    Mean 3rd Qu.    Max.    NA's \n",
      "  21.00   21.00   56.00   48.55   84.00   84.00      33 \n",
      "\n",
      "Summary for all Cycle Duration columns combined:\n",
      "   Min. 1st Qu.  Median    Mean 3rd Qu.    Max.    NA's \n",
      "   7.00   21.00   35.00   41.49   56.00  154.00      71 \n"
     ]
    }
   ],
   "source": [
    "# Create a vector of the \"Cycle X Duration (days)\" column names\n",
    "cycle_duration_cols <- grep(\"Cycle [1-5] Duration \\\\(days\\\\)\", colnames(drugs), value = TRUE)\n",
    "\n",
    "# Summarize each Cycle X Duration column\n",
    "cycle_summaries <- lapply(cycle_duration_cols, function(col) {\n",
    "  cat(paste0(\"\\nSummary for \", col, \":\\n\"))\n",
    "  print(summary(drugs[[col]]))\n",
    "})\n",
    "\n",
    "# Summarize all Cycle X Duration columns together (stacked)\n",
    "all_durations <- unlist(drugs[cycle_duration_cols])\n",
    "cat(\"\\nSummary for all Cycle Duration columns combined:\\n\")\n",
    "print(summary(all_durations))"
   ]
  },
  {
   "cell_type": "code",
   "execution_count": 45,
   "metadata": {
    "vscode": {
     "languageId": "r"
    }
   },
   "outputs": [],
   "source": [
    "# Factor Patient to respect arrange(Cancergroup, base_regimen_cycle1) with longest cycle 1 duration last\n",
    "drugs <- drugs %>%\n",
    "  arrange(Cancergroup, trtend, base_regimen_cycle1) %>%\n",
    "  mutate(Patient = factor(Patient, levels = unique(Patient)))"
   ]
  },
  {
   "cell_type": "code",
   "execution_count": 46,
   "metadata": {
    "vscode": {
     "languageId": "r"
    }
   },
   "outputs": [
    {
     "data": {
      "text/plain": [
       "   Min. 1st Qu.  Median    Mean 3rd Qu.    Max. \n",
       "   92.0   155.0   260.0   230.9   281.0   351.0 "
      ]
     },
     "metadata": {},
     "output_type": "display_data"
    }
   ],
   "source": [
    "summary(drugs$trtend)"
   ]
  },
  {
   "cell_type": "code",
   "execution_count": 47,
   "metadata": {
    "vscode": {
     "languageId": "r"
    }
   },
   "outputs": [],
   "source": [
    "pacman::p_load(swimplot)"
   ]
  },
  {
   "cell_type": "code",
   "execution_count": 48,
   "metadata": {
    "vscode": {
     "languageId": "r"
    }
   },
   "outputs": [],
   "source": [
    "# drugs$Patient <- paste0(\"CHP_\",drugs$`Patient ID`)"
   ]
  },
  {
   "cell_type": "code",
   "execution_count": 49,
   "metadata": {
    "vscode": {
     "languageId": "r"
    }
   },
   "outputs": [],
   "source": [
    "drugs <- as.data.frame(drugs)"
   ]
  },
  {
   "cell_type": "code",
   "execution_count": 50,
   "metadata": {
    "vscode": {
     "languageId": "r"
    }
   },
   "outputs": [
    {
     "data": {
      "text/html": [
       "<table class=\"dataframe\">\n",
       "<caption>A data.frame: 1 x 10</caption>\n",
       "<thead>\n",
       "\t<tr><th></th><th scope=col>Cycle 5 Duration (days)</th><th scope=col>Cycle 5 Steroids</th><th scope=col>Disease</th><th scope=col>Cancergroup</th><th scope=col>base_regimen_cycle1</th><th scope=col>base_regimen_cycle2</th><th scope=col>base_regimen_cycle3</th><th scope=col>base_regimen_cycle4</th><th scope=col>base_regimen_cycle5</th><th scope=col>cycle1exist</th></tr>\n",
       "\t<tr><th></th><th scope=col>&lt;dbl&gt;</th><th scope=col>&lt;chr&gt;</th><th scope=col>&lt;chr&gt;</th><th scope=col>&lt;chr&gt;</th><th scope=col>&lt;fct&gt;</th><th scope=col>&lt;fct&gt;</th><th scope=col>&lt;fct&gt;</th><th scope=col>&lt;fct&gt;</th><th scope=col>&lt;fct&gt;</th><th scope=col>&lt;chr&gt;</th></tr>\n",
       "</thead>\n",
       "<tbody>\n",
       "\t<tr><th scope=row>58</th><td>NA</td><td>N/A</td><td>HD</td><td>Lymphoma</td><td>Vincristine/Cyclophosphamide</td><td>Vincristine/Cyclophosphamide</td><td>No therapy</td><td>No therapy</td><td>No therapy</td><td>Yes</td></tr>\n",
       "</tbody>\n",
       "</table>\n"
      ],
      "text/latex": [
       "A data.frame: 1 x 10\n",
       "\\begin{tabular}{r|llllllllll}\n",
       "  & Cycle 5 Duration (days) & Cycle 5 Steroids & Disease & Cancergroup & base\\_regimen\\_cycle1 & base\\_regimen\\_cycle2 & base\\_regimen\\_cycle3 & base\\_regimen\\_cycle4 & base\\_regimen\\_cycle5 & cycle1exist\\\\\n",
       "  & <dbl> & <chr> & <chr> & <chr> & <fct> & <fct> & <fct> & <fct> & <fct> & <chr>\\\\\n",
       "\\hline\n",
       "\t58 & NA & N/A & HD & Lymphoma & Vincristine/Cyclophosphamide & Vincristine/Cyclophosphamide & No therapy & No therapy & No therapy & Yes\\\\\n",
       "\\end{tabular}\n"
      ],
      "text/markdown": [
       "\n",
       "A data.frame: 1 x 10\n",
       "\n",
       "| <!--/--> | Cycle 5 Duration (days) &lt;dbl&gt; | Cycle 5 Steroids &lt;chr&gt; | Disease &lt;chr&gt; | Cancergroup &lt;chr&gt; | base_regimen_cycle1 &lt;fct&gt; | base_regimen_cycle2 &lt;fct&gt; | base_regimen_cycle3 &lt;fct&gt; | base_regimen_cycle4 &lt;fct&gt; | base_regimen_cycle5 &lt;fct&gt; | cycle1exist &lt;chr&gt; |\n",
       "|---|---|---|---|---|---|---|---|---|---|---|\n",
       "| 58 | NA | N/A | HD | Lymphoma | Vincristine/Cyclophosphamide | Vincristine/Cyclophosphamide | No therapy | No therapy | No therapy | Yes |\n",
       "\n"
      ],
      "text/plain": [
       "   Cycle 5 Duration (days) Cycle 5 Steroids Disease Cancergroup\n",
       "58 NA                      N/A              HD      Lymphoma   \n",
       "   base_regimen_cycle1          base_regimen_cycle2         \n",
       "58 Vincristine/Cyclophosphamide Vincristine/Cyclophosphamide\n",
       "   base_regimen_cycle3 base_regimen_cycle4 base_regimen_cycle5 cycle1exist\n",
       "58 No therapy          No therapy          No therapy          Yes        "
      ]
     },
     "metadata": {},
     "output_type": "display_data"
    }
   ],
   "source": [
    "drugs[ drugs$Patient == \"CHP_389\",21:30 ]"
   ]
  },
  {
   "cell_type": "code",
   "execution_count": 51,
   "metadata": {
    "vscode": {
     "languageId": "r"
    }
   },
   "outputs": [],
   "source": [
    "# swim <- swimmer_plot(df = drugs, id=\"Patient\", end=\"trtend\", id_order=drugs$Patient,col = \"#cdcaca\", name_fill = \"Cancergroup\", alpha = 0.5, width = 0.8)"
   ]
  },
  {
   "cell_type": "code",
   "execution_count": 52,
   "metadata": {
    "vscode": {
     "languageId": "r"
    }
   },
   "outputs": [],
   "source": [
    "# swim"
   ]
  },
  {
   "cell_type": "code",
   "execution_count": 62,
   "metadata": {
    "vscode": {
     "languageId": "r"
    }
   },
   "outputs": [],
   "source": [
    "swim <- swimmer_plot(df = drugs, id=\"Patient\", end=\"trtend\", id_order=drugs$Patient,col = \"#cdcaca\", fill = \"#cdcaca\", alpha = 0.5, width = 0.6)"
   ]
  },
  {
   "cell_type": "code",
   "execution_count": 54,
   "metadata": {
    "vscode": {
     "languageId": "r"
    }
   },
   "outputs": [],
   "source": [
    "drugs$cycle2start <- drugs$`Cycle 1 Duration (days)`\n",
    "drugs$cycle2start <-drugs$cycle2start + 10\n",
    "drugs$cycle2end <- rowSums(drugs[,c(\"cycle2start\",\"Cycle 2 Duration (days)\")], na.rm = T)\n",
    "\n",
    "drugs$cycle3start <- rowSums(drugs[,c(\"cycle2start\",\"Cycle 2 Duration (days)\")], na.rm = T)\n",
    "drugs$cycle3start <- drugs$cycle3start + 10\n",
    "drugs$cycle3end <- rowSums(drugs[,c(\"cycle3start\",\"Cycle 3 Duration (days)\")], na.rm = T)\n",
    "\n",
    "drugs$cycle4start <- rowSums(drugs[,c(\"cycle3start\",\"Cycle 3 Duration (days)\")], na.rm = T)\n",
    "drugs$cycle4start <- drugs$cycle4start + 10\n",
    "drugs$cycle4end <- rowSums(drugs[,c(\"cycle4start\",\"Cycle 4 Duration (days)\")], na.rm = T)\n",
    "\n",
    "drugs$cycle5start <- rowSums(drugs[,c(\"cycle4start\",\"Cycle 4 Duration (days)\")], na.rm = T)\n",
    "drugs$cycle5start <- drugs$cycle5start + 10\n",
    "drugs$cycle5end <- rowSums(drugs[,c(\"cycle5start\",\"Cycle 5 Duration (days)\")], na.rm = T)\n"
   ]
  },
  {
   "cell_type": "code",
   "execution_count": 55,
   "metadata": {
    "vscode": {
     "languageId": "r"
    }
   },
   "outputs": [],
   "source": [
    "# Convert cycle starts/ends to NA if Duration is NA or \"N/A\"\n",
    "drugs$cycle2start[drugs$`Cycle 2 Duration (days)` %in% c(NA, \"N/A\")] <- NA\n",
    "drugs$cycle2end[drugs$`Cycle 2 Duration (days)` %in% c(NA, \"N/A\")] <- NA\n",
    "\n",
    "drugs$cycle3start[drugs$`Cycle 3 Duration (days)` %in% c(NA, \"N/A\")] <- NA \n",
    "drugs$cycle3end[drugs$`Cycle 3 Duration (days)` %in% c(NA, \"N/A\")] <- NA\n",
    "\n",
    "drugs$cycle4start[drugs$`Cycle 4 Duration (days)` %in% c(NA, \"N/A\")] <- NA\n",
    "drugs$cycle4end[drugs$`Cycle 4 Duration (days)` %in% c(NA, \"N/A\")] <- NA\n",
    "\n",
    "drugs$cycle5start[drugs$`Cycle 5 Duration (days)` %in% c(NA, \"N/A\")] <- NA\n",
    "drugs$cycle5end[drugs$`Cycle 5 Duration (days)` %in% c(NA, \"N/A\")] <- NA\n",
    "\n",
    "# Add flags for cycle existence\n",
    "drugs$cycle2exist <- ifelse(!is.na(drugs$`Cycle 2 Duration (days)`), \"Yes\", NA)\n",
    "drugs$cycle3exist <- ifelse(!is.na(drugs$`Cycle 3 Duration (days)`), \"Yes\", NA) \n",
    "drugs$cycle4exist <- ifelse(!is.na(drugs$`Cycle 4 Duration (days)`), \"Yes\", NA)\n",
    "drugs$cycle5exist <- ifelse(!is.na(drugs$`Cycle 5 Duration (days)`), \"Yes\", NA)\n"
   ]
  },
  {
   "cell_type": "code",
   "execution_count": 56,
   "metadata": {
    "vscode": {
     "languageId": "r"
    }
   },
   "outputs": [
    {
     "data": {
      "text/plain": [
       "\n",
       " Yes <NA> \n",
       "  92   19 "
      ]
     },
     "metadata": {},
     "output_type": "display_data"
    }
   ],
   "source": [
    "table(drugs$cycle4exist, useNA = \"always\")"
   ]
  },
  {
   "cell_type": "code",
   "execution_count": 63,
   "metadata": {
    "vscode": {
     "languageId": "r"
    }
   },
   "outputs": [],
   "source": [
    "myswim <- swim +\n",
    "swimmer_points(df_points = drugs, id = \"Patient\", time = 0, name_col = \"cycle1exist\", size = 1) +\n",
    "swimmer_lines(df_lines = drugs, id = \"Patient\", start = \"0\", end = \"`Cycle 1 Duration (days)`\", name_col = \"base_regimen_cycle1\", size = 0.5) +\n",
    "swimmer_points(df_points = drugs, id = \"Patient\", time = \"cycle2start\", name_col = \"cycle2exist\", size = 1) +\n",
    "swimmer_lines(df_lines = drugs, id = \"Patient\", start = \"cycle2start\", end = \"cycle2end\", name_col = \"base_regimen_cycle2\", size = 0.5) +\n",
    "swimmer_points(df_points = drugs, id = \"Patient\", time = \"cycle3start\", name_col = \"cycle3exist\", size = 1) +\n",
    "swimmer_lines(df_lines = drugs, id = \"Patient\", start = \"cycle3start\", end = \"cycle3end\", name_col = \"base_regimen_cycle3\", size = 0.5) +\n",
    "swimmer_points(df_points = drugs, id = \"Patient\", time = \"cycle4start\", name_col = \"cycle4exist\", size = 1) +\n",
    "swimmer_lines(df_lines = drugs, id = \"Patient\", start = \"cycle4start\", end = \"cycle4end\", name_col = \"base_regimen_cycle4\", size = 0.5) +\n",
    "swimmer_points(df_points = drugs, id = \"Patient\", time = \"cycle5start\", name_col = \"cycle5exist\", size = 1) +\n",
    "swimmer_lines(df_lines = drugs, id = \"Patient\", start = \"cycle5start\", end = \"cycle5end\", name_col = \"base_regimen_cycle5\", size = 0.5) "
   ]
  },
  {
   "cell_type": "code",
   "execution_count": 64,
   "metadata": {
    "vscode": {
     "languageId": "r"
    }
   },
   "outputs": [],
   "source": [
    "pacman::p_load(RColorBrewer)"
   ]
  },
  {
   "cell_type": "code",
   "execution_count": 68,
   "metadata": {
    "vscode": {
     "languageId": "r"
    }
   },
   "outputs": [],
   "source": [
    "myp <- myswim + \n",
    "scale_color_manual(name = \"Regimen\", \n",
    "values = c(\"Vincristine\" = \"#E41A1C\", \n",
    "           \"Methotrexate\" = \"#377EB8\",\n",
    "           \"Cyclophosphamide\" = \"#4DAF4A\",\n",
    "           \"Vincristine/Methotrexate\" = \"#984EA3\",\n",
    "           \"Vincristine/Cyclophosphamide\" = \"#fa9734\",\n",
    "           \"Vincristine/Methotrexate/Cyclophosphamide\" = \"#f781bf\",\n",
    "           \"No therapy\" = \"grey\",\n",
    "           \"Others\" = \"black\",\n",
    "           \"Yes\" = \"black\",\n",
    "           na.value=NA),\n",
    "breaks = c(\"Vincristine\", \"Methotrexate\", \"Cyclophosphamide\", \n",
    "           \"Vincristine/Methotrexate\", \"Vincristine/Cyclophosphamide\",\n",
    "           \"Vincristine/Methotrexate/Cyclophosphamide\",\n",
    "           \"Others\")) +\n",
    "guides(color = guide_legend(override.aes = list(shape = NA))) +\n",
    "labs(y = \"Days after Cycle 1 therapy start\", x = \"\") \n"
   ]
  },
  {
   "cell_type": "code",
   "execution_count": 69,
   "metadata": {
    "vscode": {
     "languageId": "r"
    }
   },
   "outputs": [],
   "source": [
    "# myp_ann <- myp \n",
    "# geom_bracket(xmin = c(1, 52, 68, 97), xmax = c(51, 67, 96, 102), y.position = c(-22, -22,-22,-22),\n",
    "#   label.size = 7, label = c(\"\", \"\", \"\", \"\"), coord.flip = T) + # changes the orientaitons of labels, set without label, then add with annotate\n",
    "#   scale_y_continuous(expand = c(0,0), limits = c(-25,35), breaks = c(5,10,15,20)) +\n",
    "#   annotate(\"text\", x = c(29.5, 69.5, 99.5, 101.5), y = c(-22.5, -22.5,-22.3,-22.3), label = c(\"Leukemia\", \"Lymphoma\", \"Solid tumors\", \"T-cell malignancies\"), size = 7, hjust = 0) "
   ]
  },
  {
   "cell_type": "code",
   "execution_count": 70,
   "metadata": {
    "vscode": {
     "languageId": "r"
    }
   },
   "outputs": [
    {
     "name": "stderr",
     "output_type": "stream",
     "text": [
      "Warning message:\n",
      "\"\u001b[1m\u001b[22mRemoved 19 rows containing missing values or values outside the scale range\n",
      "(`geom_point()`).\"\n",
      "Warning message:\n",
      "\"\u001b[1m\u001b[22mRemoved 19 rows containing missing values or values outside the scale range\n",
      "(`geom_segment()`).\"\n",
      "Warning message:\n",
      "\"\u001b[1m\u001b[22mRemoved 19 rows containing missing values or values outside the scale range\n",
      "(`geom_point()`).\"\n",
      "Warning message:\n",
      "\"\u001b[1m\u001b[22mRemoved 19 rows containing missing values or values outside the scale range\n",
      "(`geom_segment()`).\"\n",
      "Warning message:\n",
      "\"\u001b[1m\u001b[22mRemoved 33 rows containing missing values or values outside the scale range\n",
      "(`geom_point()`).\"\n",
      "Warning message:\n",
      "\"\u001b[1m\u001b[22mRemoved 33 rows containing missing values or values outside the scale range\n",
      "(`geom_segment()`).\"\n"
     ]
    },
    {
     "data": {
      "image/png": "[encoded data removed]",
      "text/plain": [
       "plot without title"
      ]
     },
     "metadata": {
      "image/png": {
       "height": 420,
       "width": 420
      }
     },
     "output_type": "display_data"
    }
   ],
   "source": [
    "myp #+ scale_x_discrete(labels = drugs$Disease[match(drugs$Patient, drugs$Patient)]) "
   ]
  },
  {
   "cell_type": "code",
   "execution_count": 71,
   "metadata": {
    "vscode": {
     "languageId": "r"
    }
   },
   "outputs": [
    {
     "name": "stderr",
     "output_type": "stream",
     "text": [
      "Warning message:\n",
      "\"\u001b[1m\u001b[22mRemoved 19 rows containing missing values or values outside the scale range\n",
      "(`geom_point()`).\"\n",
      "Warning message:\n",
      "\"\u001b[1m\u001b[22mRemoved 19 rows containing missing values or values outside the scale range\n",
      "(`geom_segment()`).\"\n",
      "Warning message:\n",
      "\"\u001b[1m\u001b[22mRemoved 19 rows containing missing values or values outside the scale range\n",
      "(`geom_point()`).\"\n",
      "Warning message:\n",
      "\"\u001b[1m\u001b[22mRemoved 19 rows containing missing values or values outside the scale range\n",
      "(`geom_segment()`).\"\n",
      "Warning message:\n",
      "\"\u001b[1m\u001b[22mRemoved 33 rows containing missing values or values outside the scale range\n",
      "(`geom_point()`).\"\n",
      "Warning message:\n",
      "\"\u001b[1m\u001b[22mRemoved 33 rows containing missing values or values outside the scale range\n",
      "(`geom_segment()`).\"\n"
     ]
    },
    {
     "data": {
      "text/html": [
       "<strong>pdf:</strong> 2"
      ],
      "text/latex": [
       "\\textbf{pdf:} 2"
      ],
      "text/markdown": [
       "**pdf:** 2"
      ],
      "text/plain": [
       "pdf \n",
       "  2 "
      ]
     },
     "metadata": {},
     "output_type": "display_data"
    }
   ],
   "source": [
    "pdf(paste0(plotpath, \"swim_cancer_drugs.pdf\"), width = 12, height = 12)\n",
    "myp + scale_x_discrete(labels = drugs$Disease[match(drugs$Patient, drugs$Patient)]) \n",
    "dev.off()"
   ]
  },
  {
   "cell_type": "code",
   "execution_count": null,
   "metadata": {
    "vscode": {
     "languageId": "r"
    }
   },
   "outputs": [],
   "source": []
  },
  {
   "cell_type": "code",
   "execution_count": null,
   "metadata": {
    "vscode": {
     "languageId": "r"
    }
   },
   "outputs": [],
   "source": []
  },
  {
   "cell_type": "code",
   "execution_count": null,
   "metadata": {
    "vscode": {
     "languageId": "r"
    }
   },
   "outputs": [],
   "source": []
  },
  {
   "cell_type": "code",
   "execution_count": null,
   "metadata": {
    "vscode": {
     "languageId": "r"
    }
   },
   "outputs": [],
   "source": []
  }
 ],
 "metadata": {
  "kernelspec": {
   "display_name": "R 4.0",
   "language": "R",
   "name": "ir40"
  },
  "language_info": {
   "codemirror_mode": "r",
   "file_extension": ".r",
   "mimetype": "text/x-r-source",
   "name": "R",
   "pygments_lexer": "r",
   "version": "4.2.2"
  },
  "toc": {
   "base_numbering": 1,
   "nav_menu": {},
   "number_sections": false,
   "sideBar": true,
   "skip_h1_title": false,
   "title_cell": "Table of Contents",
   "title_sidebar": "Contents",
   "toc_cell": true,
   "toc_position": {
    "height": "calc(100% - 180px)",
    "left": "10px",
    "top": "150px",
    "width": "186.15px"
   },
   "toc_section_display": true,
   "toc_window_display": true
  }
 },
 "nbformat": 4,
 "nbformat_minor": 2
}

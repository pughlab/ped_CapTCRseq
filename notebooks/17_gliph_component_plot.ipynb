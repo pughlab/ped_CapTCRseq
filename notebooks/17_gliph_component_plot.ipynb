{
 "cells": [
  {
   "attachments": {},
   "cell_type": "markdown",
   "metadata": {},
   "source": [
    "# Dependencies"
   ]
  },
  {
   "cell_type": "code",
   "execution_count": 1,
   "metadata": {
    "vscode": {
     "languageId": "r"
    }
   },
   "outputs": [],
   "source": [
    "pacman::p_load(\n",
    "    patchwork,\n",
    "    igraph, graphlayouts, ggraph, ggforce, dplyr, ggplot2, GUniFrac, ggsignif,\n",
    "    dendextend, ComplexHeatmap, ANCOMBC, TreeSummarizedExperiment, lsmeans, factoextra\n",
    ")\n"
   ]
  },
  {
   "attachments": {},
   "cell_type": "markdown",
   "metadata": {},
   "source": [
    "# Functions"
   ]
  },
  {
   "cell_type": "code",
   "execution_count": 2,
   "metadata": {
    "vscode": {
     "languageId": "r"
    }
   },
   "outputs": [],
   "source": [
    "source(\"/Users/anabbi/git/ped_CapTCRseq/R/ggplot2_theme.R\")\n",
    "source(\"/Users/anabbi/git/ped_CapTCRseq/R/color_schemes.R\")\n",
    "source(\"/Users/anabbi/git/ped_CapTCRseq/R/Misc_functions.R\")"
   ]
  },
  {
   "attachments": {},
   "cell_type": "markdown",
   "metadata": {},
   "source": [
    "# Paths"
   ]
  },
  {
   "cell_type": "code",
   "execution_count": 3,
   "metadata": {
    "vscode": {
     "languageId": "r"
    }
   },
   "outputs": [],
   "source": [
    "datapath <- \"/Users/anabbi/OneDrive - UHN/Documents/INTERCEPT/Data/\"\n",
    "plotpath <- \"/Users/anabbi/OneDrive - UHN/Documents/INTERCEPT/Plots/\"\n",
    "manifestpath <- \"/Users/anabbi/OneDrive - UHN/Documents/INTERCEPT/Manifests/\"\n",
    "gitpath <- \"/Users/anabbi/git/ped_CapTCRseq/\""
   ]
  },
  {
   "cell_type": "code",
   "execution_count": 4,
   "metadata": {
    "vscode": {
     "languageId": "r"
    }
   },
   "outputs": [],
   "source": [
    "h4hpath <- \"/Users/anabbi/Desktop/H4H/INTERCEPT/analysis/GLIPH/run_gliph/\""
   ]
  },
  {
   "attachments": {},
   "cell_type": "markdown",
   "metadata": {},
   "source": [
    "# Main"
   ]
  },
  {
   "cell_type": "code",
   "execution_count": 5,
   "metadata": {
    "vscode": {
     "languageId": "r"
    }
   },
   "outputs": [],
   "source": [
    "meta_div <- readr::read_rds(paste0(datapath, \"capTCRseq/meta_div_goodsamples.rds\"))"
   ]
  },
  {
   "cell_type": "code",
   "execution_count": 6,
   "metadata": {
    "vscode": {
     "languageId": "r"
    }
   },
   "outputs": [],
   "source": [
    "#remove those samples that we did not have the TCRseq data for\n",
    "meta_div <- meta_div[!is.na(meta_div$TRB),]"
   ]
  },
  {
   "cell_type": "code",
   "execution_count": 11,
   "metadata": {
    "vscode": {
     "languageId": "r"
    }
   },
   "outputs": [
    {
     "name": "stderr",
     "output_type": "stream",
     "text": [
      "\u001b[1mRows: \u001b[22m\u001b[34m98847\u001b[39m \u001b[1mColumns: \u001b[22m\u001b[34m29\u001b[39m\n",
      "\u001b[36m--\u001b[39m \u001b[1mColumn specification\u001b[22m \u001b[36m--------------------------------------------------------\u001b[39m\n",
      "\u001b[1mDelimiter:\u001b[22m \",\"\n",
      "\u001b[31mchr\u001b[39m (17): pattern, type, TcRb, V, J, Sample, HLA-A, HLA-B, HLA-C, HLA-DPA1, ...\n",
      "\u001b[32mdbl\u001b[39m (11): index, Fisher_score, number_subject, number_unique_cdr3, final_sco...\n",
      "\u001b[33mlgl\u001b[39m  (1): TcRa\n",
      "\n",
      "\u001b[36mi\u001b[39m Use `spec()` to retrieve the full column specification for this data.\n",
      "\u001b[36mi\u001b[39m Specify the column types or set `show_col_types = FALSE` to quiet this message.\n"
     ]
    }
   ],
   "source": [
    "gliph_out <- readr::read_csv(paste0(h4hpath, \"/v5/gliph_output/int_vdj_v5_cluster.csv\"), col_names = T) #  gliph reference dataset  is MItechel"
   ]
  },
  {
   "cell_type": "code",
   "execution_count": 12,
   "metadata": {
    "vscode": {
     "languageId": "r"
    }
   },
   "outputs": [],
   "source": [
    "# remove columns starting with HLA\n",
    "gliph_out <- gliph_out[,!grepl(\"HLA\", colnames(gliph_out))]"
   ]
  },
  {
   "cell_type": "code",
   "execution_count": 13,
   "metadata": {
    "vscode": {
     "languageId": "r"
    }
   },
   "outputs": [
    {
     "data": {
      "text/html": [
       "<table class=\"dataframe\">\n",
       "<caption>A tibble: 6 x 18</caption>\n",
       "<thead>\n",
       "\t<tr><th scope=col>index</th><th scope=col>pattern</th><th scope=col>Fisher_score</th><th scope=col>number_subject</th><th scope=col>number_unique_cdr3</th><th scope=col>final_score</th><th scope=col>hla_score</th><th scope=col>vb_score</th><th scope=col>expansion_score</th><th scope=col>length_score</th><th scope=col>cluster_size_score</th><th scope=col>type</th><th scope=col>TcRb</th><th scope=col>V</th><th scope=col>J</th><th scope=col>TcRa</th><th scope=col>Sample</th><th scope=col>Freq</th></tr>\n",
       "\t<tr><th scope=col>&lt;dbl&gt;</th><th scope=col>&lt;chr&gt;</th><th scope=col>&lt;dbl&gt;</th><th scope=col>&lt;dbl&gt;</th><th scope=col>&lt;dbl&gt;</th><th scope=col>&lt;dbl&gt;</th><th scope=col>&lt;dbl&gt;</th><th scope=col>&lt;dbl&gt;</th><th scope=col>&lt;dbl&gt;</th><th scope=col>&lt;dbl&gt;</th><th scope=col>&lt;dbl&gt;</th><th scope=col>&lt;chr&gt;</th><th scope=col>&lt;chr&gt;</th><th scope=col>&lt;chr&gt;</th><th scope=col>&lt;chr&gt;</th><th scope=col>&lt;lgl&gt;</th><th scope=col>&lt;chr&gt;</th><th scope=col>&lt;dbl&gt;</th></tr>\n",
       "</thead>\n",
       "<tbody>\n",
       "\t<tr><td>1</td><td>SLG%E</td><td>0</td><td>5</td><td>50</td><td>5e-12</td><td>1</td><td>0.001</td><td>0.35</td><td>0.001</td><td>1.4e-05</td><td>global-SLG%E</td><td>CASSLGTEQFF</td><td>TRBV27        </td><td>TRBJ2-1</td><td>NA</td><td>Leukemia:CHP_405_X05-cfDNA    </td><td>729</td></tr>\n",
       "\t<tr><td>1</td><td>SLG%E</td><td>0</td><td>5</td><td>50</td><td>5e-12</td><td>1</td><td>0.001</td><td>0.35</td><td>0.001</td><td>1.4e-05</td><td>global-SLG%E</td><td>CASSLGAEAFF</td><td>TRBV6_7       </td><td>NA     </td><td>NA</td><td>MDavis:DRB10401               </td><td>  1</td></tr>\n",
       "\t<tr><td>1</td><td>SLG%E</td><td>0</td><td>5</td><td>50</td><td>5e-12</td><td>1</td><td>0.001</td><td>0.35</td><td>0.001</td><td>1.4e-05</td><td>global-SLG%E</td><td>YASSLGGEQFF</td><td>TRBV6_7       </td><td>NA     </td><td>NA</td><td>MDavis:DRB10401               </td><td>  1</td></tr>\n",
       "\t<tr><td>1</td><td>SLG%E</td><td>0</td><td>5</td><td>50</td><td>5e-12</td><td>1</td><td>0.001</td><td>0.35</td><td>0.001</td><td>1.4e-05</td><td>global-SLG%E</td><td>CASSLGVEQYF</td><td>TRBV27        </td><td>TRBJ2-7</td><td>NA</td><td>Leukemia:CHP_359_X03-PBMC     </td><td> 24</td></tr>\n",
       "\t<tr><td>1</td><td>SLG%E</td><td>0</td><td>5</td><td>50</td><td>5e-12</td><td>1</td><td>0.001</td><td>0.35</td><td>0.001</td><td>1.4e-05</td><td>global-SLG%E</td><td>CASSLGAEQYF</td><td>TRBV6_7       </td><td>NA     </td><td>NA</td><td>MDavis:DRB10401               </td><td>  1</td></tr>\n",
       "\t<tr><td>1</td><td>SLG%E</td><td>0</td><td>5</td><td>50</td><td>5e-12</td><td>1</td><td>0.001</td><td>0.35</td><td>0.001</td><td>1.4e-05</td><td>global-SLG%E</td><td>CAWSLGDEQYF</td><td>TRBV6_7-or30_1</td><td>NA     </td><td>NA</td><td>MDavis:C0304_DQA10303_DRB10401</td><td>  1</td></tr>\n",
       "</tbody>\n",
       "</table>\n"
      ],
      "text/latex": [
       "A tibble: 6 x 18\n",
       "\\begin{tabular}{llllllllllllllllll}\n",
       " index & pattern & Fisher\\_score & number\\_subject & number\\_unique\\_cdr3 & final\\_score & hla\\_score & vb\\_score & expansion\\_score & length\\_score & cluster\\_size\\_score & type & TcRb & V & J & TcRa & Sample & Freq\\\\\n",
       " <dbl> & <chr> & <dbl> & <dbl> & <dbl> & <dbl> & <dbl> & <dbl> & <dbl> & <dbl> & <dbl> & <chr> & <chr> & <chr> & <chr> & <lgl> & <chr> & <dbl>\\\\\n",
       "\\hline\n",
       "\t 1 & SLG\\%E & 0 & 5 & 50 & 5e-12 & 1 & 0.001 & 0.35 & 0.001 & 1.4e-05 & global-SLG\\%E & CASSLGTEQFF & TRBV27         & TRBJ2-1 & NA & Leukemia:CHP\\_405\\_X05-cfDNA     & 729\\\\\n",
       "\t 1 & SLG\\%E & 0 & 5 & 50 & 5e-12 & 1 & 0.001 & 0.35 & 0.001 & 1.4e-05 & global-SLG\\%E & CASSLGAEAFF & TRBV6\\_7        & NA      & NA & MDavis:DRB10401                &   1\\\\\n",
       "\t 1 & SLG\\%E & 0 & 5 & 50 & 5e-12 & 1 & 0.001 & 0.35 & 0.001 & 1.4e-05 & global-SLG\\%E & YASSLGGEQFF & TRBV6\\_7        & NA      & NA & MDavis:DRB10401                &   1\\\\\n",
       "\t 1 & SLG\\%E & 0 & 5 & 50 & 5e-12 & 1 & 0.001 & 0.35 & 0.001 & 1.4e-05 & global-SLG\\%E & CASSLGVEQYF & TRBV27         & TRBJ2-7 & NA & Leukemia:CHP\\_359\\_X03-PBMC      &  24\\\\\n",
       "\t 1 & SLG\\%E & 0 & 5 & 50 & 5e-12 & 1 & 0.001 & 0.35 & 0.001 & 1.4e-05 & global-SLG\\%E & CASSLGAEQYF & TRBV6\\_7        & NA      & NA & MDavis:DRB10401                &   1\\\\\n",
       "\t 1 & SLG\\%E & 0 & 5 & 50 & 5e-12 & 1 & 0.001 & 0.35 & 0.001 & 1.4e-05 & global-SLG\\%E & CAWSLGDEQYF & TRBV6\\_7-or30\\_1 & NA      & NA & MDavis:C0304\\_DQA10303\\_DRB10401 &   1\\\\\n",
       "\\end{tabular}\n"
      ],
      "text/markdown": [
       "\n",
       "A tibble: 6 x 18\n",
       "\n",
       "| index &lt;dbl&gt; | pattern &lt;chr&gt; | Fisher_score &lt;dbl&gt; | number_subject &lt;dbl&gt; | number_unique_cdr3 &lt;dbl&gt; | final_score &lt;dbl&gt; | hla_score &lt;dbl&gt; | vb_score &lt;dbl&gt; | expansion_score &lt;dbl&gt; | length_score &lt;dbl&gt; | cluster_size_score &lt;dbl&gt; | type &lt;chr&gt; | TcRb &lt;chr&gt; | V &lt;chr&gt; | J &lt;chr&gt; | TcRa &lt;lgl&gt; | Sample &lt;chr&gt; | Freq &lt;dbl&gt; |\n",
       "|---|---|---|---|---|---|---|---|---|---|---|---|---|---|---|---|---|---|\n",
       "| 1 | SLG%E | 0 | 5 | 50 | 5e-12 | 1 | 0.001 | 0.35 | 0.001 | 1.4e-05 | global-SLG%E | CASSLGTEQFF | TRBV27         | TRBJ2-1 | NA | Leukemia:CHP_405_X05-cfDNA     | 729 |\n",
       "| 1 | SLG%E | 0 | 5 | 50 | 5e-12 | 1 | 0.001 | 0.35 | 0.001 | 1.4e-05 | global-SLG%E | CASSLGAEAFF | TRBV6_7        | NA      | NA | MDavis:DRB10401                |   1 |\n",
       "| 1 | SLG%E | 0 | 5 | 50 | 5e-12 | 1 | 0.001 | 0.35 | 0.001 | 1.4e-05 | global-SLG%E | YASSLGGEQFF | TRBV6_7        | NA      | NA | MDavis:DRB10401                |   1 |\n",
       "| 1 | SLG%E | 0 | 5 | 50 | 5e-12 | 1 | 0.001 | 0.35 | 0.001 | 1.4e-05 | global-SLG%E | CASSLGVEQYF | TRBV27         | TRBJ2-7 | NA | Leukemia:CHP_359_X03-PBMC      |  24 |\n",
       "| 1 | SLG%E | 0 | 5 | 50 | 5e-12 | 1 | 0.001 | 0.35 | 0.001 | 1.4e-05 | global-SLG%E | CASSLGAEQYF | TRBV6_7        | NA      | NA | MDavis:DRB10401                |   1 |\n",
       "| 1 | SLG%E | 0 | 5 | 50 | 5e-12 | 1 | 0.001 | 0.35 | 0.001 | 1.4e-05 | global-SLG%E | CAWSLGDEQYF | TRBV6_7-or30_1 | NA      | NA | MDavis:C0304_DQA10303_DRB10401 |   1 |\n",
       "\n"
      ],
      "text/plain": [
       "  index pattern Fisher_score number_subject number_unique_cdr3 final_score\n",
       "1 1     SLG%E   0            5              50                 5e-12      \n",
       "2 1     SLG%E   0            5              50                 5e-12      \n",
       "3 1     SLG%E   0            5              50                 5e-12      \n",
       "4 1     SLG%E   0            5              50                 5e-12      \n",
       "5 1     SLG%E   0            5              50                 5e-12      \n",
       "6 1     SLG%E   0            5              50                 5e-12      \n",
       "  hla_score vb_score expansion_score length_score cluster_size_score\n",
       "1 1         0.001    0.35            0.001        1.4e-05           \n",
       "2 1         0.001    0.35            0.001        1.4e-05           \n",
       "3 1         0.001    0.35            0.001        1.4e-05           \n",
       "4 1         0.001    0.35            0.001        1.4e-05           \n",
       "5 1         0.001    0.35            0.001        1.4e-05           \n",
       "6 1         0.001    0.35            0.001        1.4e-05           \n",
       "  type         TcRb        V              J       TcRa\n",
       "1 global-SLG%E CASSLGTEQFF TRBV27         TRBJ2-1 NA  \n",
       "2 global-SLG%E CASSLGAEAFF TRBV6_7        NA      NA  \n",
       "3 global-SLG%E YASSLGGEQFF TRBV6_7        NA      NA  \n",
       "4 global-SLG%E CASSLGVEQYF TRBV27         TRBJ2-7 NA  \n",
       "5 global-SLG%E CASSLGAEQYF TRBV6_7        NA      NA  \n",
       "6 global-SLG%E CAWSLGDEQYF TRBV6_7-or30_1 NA      NA  \n",
       "  Sample                         Freq\n",
       "1 Leukemia:CHP_405_X05-cfDNA     729 \n",
       "2 MDavis:DRB10401                  1 \n",
       "3 MDavis:DRB10401                  1 \n",
       "4 Leukemia:CHP_359_X03-PBMC       24 \n",
       "5 MDavis:DRB10401                  1 \n",
       "6 MDavis:C0304_DQA10303_DRB10401   1 "
      ]
     },
     "metadata": {},
     "output_type": "display_data"
    }
   ],
   "source": [
    "head(gliph_out)"
   ]
  },
  {
   "cell_type": "code",
   "execution_count": 14,
   "metadata": {
    "vscode": {
     "languageId": "r"
    }
   },
   "outputs": [],
   "source": [
    "tmp <- gliph_out[ gliph_out$pattern != \"single\",]\n",
    "tmp <- tmp[tmp$number_unique_cdr3 >= 3,]\n",
    "# only those patterns with CHP samples\n",
    "importantgliphs <- tmp$pattern[ grepl(\"CHP\", tmp$Sample)]\n",
    "tmp <- tmp[ tmp$pattern %in% importantgliphs,]"
   ]
  },
  {
   "cell_type": "code",
   "execution_count": 15,
   "metadata": {
    "vscode": {
     "languageId": "r"
    }
   },
   "outputs": [
    {
     "data": {
      "text/html": [
       "<table class=\"dataframe\">\n",
       "<caption>A tibble: 6 x 18</caption>\n",
       "<thead>\n",
       "\t<tr><th scope=col>index</th><th scope=col>pattern</th><th scope=col>Fisher_score</th><th scope=col>number_subject</th><th scope=col>number_unique_cdr3</th><th scope=col>final_score</th><th scope=col>hla_score</th><th scope=col>vb_score</th><th scope=col>expansion_score</th><th scope=col>length_score</th><th scope=col>cluster_size_score</th><th scope=col>type</th><th scope=col>TcRb</th><th scope=col>V</th><th scope=col>J</th><th scope=col>TcRa</th><th scope=col>Sample</th><th scope=col>Freq</th></tr>\n",
       "\t<tr><th scope=col>&lt;dbl&gt;</th><th scope=col>&lt;chr&gt;</th><th scope=col>&lt;dbl&gt;</th><th scope=col>&lt;dbl&gt;</th><th scope=col>&lt;dbl&gt;</th><th scope=col>&lt;dbl&gt;</th><th scope=col>&lt;dbl&gt;</th><th scope=col>&lt;dbl&gt;</th><th scope=col>&lt;dbl&gt;</th><th scope=col>&lt;dbl&gt;</th><th scope=col>&lt;dbl&gt;</th><th scope=col>&lt;chr&gt;</th><th scope=col>&lt;chr&gt;</th><th scope=col>&lt;chr&gt;</th><th scope=col>&lt;chr&gt;</th><th scope=col>&lt;lgl&gt;</th><th scope=col>&lt;chr&gt;</th><th scope=col>&lt;dbl&gt;</th></tr>\n",
       "</thead>\n",
       "<tbody>\n",
       "\t<tr><td>1</td><td>SLG%E</td><td>0</td><td>5</td><td>50</td><td>5e-12</td><td>1</td><td>0.001</td><td>0.35</td><td>0.001</td><td>1.4e-05</td><td>global-SLG%E</td><td>CASSLGTEQFF</td><td>TRBV27        </td><td>TRBJ2-1</td><td>NA</td><td>Leukemia:CHP_405_X05-cfDNA    </td><td>729</td></tr>\n",
       "\t<tr><td>1</td><td>SLG%E</td><td>0</td><td>5</td><td>50</td><td>5e-12</td><td>1</td><td>0.001</td><td>0.35</td><td>0.001</td><td>1.4e-05</td><td>global-SLG%E</td><td>CASSLGAEAFF</td><td>TRBV6_7       </td><td>NA     </td><td>NA</td><td>MDavis:DRB10401               </td><td>  1</td></tr>\n",
       "\t<tr><td>1</td><td>SLG%E</td><td>0</td><td>5</td><td>50</td><td>5e-12</td><td>1</td><td>0.001</td><td>0.35</td><td>0.001</td><td>1.4e-05</td><td>global-SLG%E</td><td>YASSLGGEQFF</td><td>TRBV6_7       </td><td>NA     </td><td>NA</td><td>MDavis:DRB10401               </td><td>  1</td></tr>\n",
       "\t<tr><td>1</td><td>SLG%E</td><td>0</td><td>5</td><td>50</td><td>5e-12</td><td>1</td><td>0.001</td><td>0.35</td><td>0.001</td><td>1.4e-05</td><td>global-SLG%E</td><td>CASSLGVEQYF</td><td>TRBV27        </td><td>TRBJ2-7</td><td>NA</td><td>Leukemia:CHP_359_X03-PBMC     </td><td> 24</td></tr>\n",
       "\t<tr><td>1</td><td>SLG%E</td><td>0</td><td>5</td><td>50</td><td>5e-12</td><td>1</td><td>0.001</td><td>0.35</td><td>0.001</td><td>1.4e-05</td><td>global-SLG%E</td><td>CASSLGAEQYF</td><td>TRBV6_7       </td><td>NA     </td><td>NA</td><td>MDavis:DRB10401               </td><td>  1</td></tr>\n",
       "\t<tr><td>1</td><td>SLG%E</td><td>0</td><td>5</td><td>50</td><td>5e-12</td><td>1</td><td>0.001</td><td>0.35</td><td>0.001</td><td>1.4e-05</td><td>global-SLG%E</td><td>CAWSLGDEQYF</td><td>TRBV6_7-or30_1</td><td>NA     </td><td>NA</td><td>MDavis:C0304_DQA10303_DRB10401</td><td>  1</td></tr>\n",
       "</tbody>\n",
       "</table>\n"
      ],
      "text/latex": [
       "A tibble: 6 x 18\n",
       "\\begin{tabular}{llllllllllllllllll}\n",
       " index & pattern & Fisher\\_score & number\\_subject & number\\_unique\\_cdr3 & final\\_score & hla\\_score & vb\\_score & expansion\\_score & length\\_score & cluster\\_size\\_score & type & TcRb & V & J & TcRa & Sample & Freq\\\\\n",
       " <dbl> & <chr> & <dbl> & <dbl> & <dbl> & <dbl> & <dbl> & <dbl> & <dbl> & <dbl> & <dbl> & <chr> & <chr> & <chr> & <chr> & <lgl> & <chr> & <dbl>\\\\\n",
       "\\hline\n",
       "\t 1 & SLG\\%E & 0 & 5 & 50 & 5e-12 & 1 & 0.001 & 0.35 & 0.001 & 1.4e-05 & global-SLG\\%E & CASSLGTEQFF & TRBV27         & TRBJ2-1 & NA & Leukemia:CHP\\_405\\_X05-cfDNA     & 729\\\\\n",
       "\t 1 & SLG\\%E & 0 & 5 & 50 & 5e-12 & 1 & 0.001 & 0.35 & 0.001 & 1.4e-05 & global-SLG\\%E & CASSLGAEAFF & TRBV6\\_7        & NA      & NA & MDavis:DRB10401                &   1\\\\\n",
       "\t 1 & SLG\\%E & 0 & 5 & 50 & 5e-12 & 1 & 0.001 & 0.35 & 0.001 & 1.4e-05 & global-SLG\\%E & YASSLGGEQFF & TRBV6\\_7        & NA      & NA & MDavis:DRB10401                &   1\\\\\n",
       "\t 1 & SLG\\%E & 0 & 5 & 50 & 5e-12 & 1 & 0.001 & 0.35 & 0.001 & 1.4e-05 & global-SLG\\%E & CASSLGVEQYF & TRBV27         & TRBJ2-7 & NA & Leukemia:CHP\\_359\\_X03-PBMC      &  24\\\\\n",
       "\t 1 & SLG\\%E & 0 & 5 & 50 & 5e-12 & 1 & 0.001 & 0.35 & 0.001 & 1.4e-05 & global-SLG\\%E & CASSLGAEQYF & TRBV6\\_7        & NA      & NA & MDavis:DRB10401                &   1\\\\\n",
       "\t 1 & SLG\\%E & 0 & 5 & 50 & 5e-12 & 1 & 0.001 & 0.35 & 0.001 & 1.4e-05 & global-SLG\\%E & CAWSLGDEQYF & TRBV6\\_7-or30\\_1 & NA      & NA & MDavis:C0304\\_DQA10303\\_DRB10401 &   1\\\\\n",
       "\\end{tabular}\n"
      ],
      "text/markdown": [
       "\n",
       "A tibble: 6 x 18\n",
       "\n",
       "| index &lt;dbl&gt; | pattern &lt;chr&gt; | Fisher_score &lt;dbl&gt; | number_subject &lt;dbl&gt; | number_unique_cdr3 &lt;dbl&gt; | final_score &lt;dbl&gt; | hla_score &lt;dbl&gt; | vb_score &lt;dbl&gt; | expansion_score &lt;dbl&gt; | length_score &lt;dbl&gt; | cluster_size_score &lt;dbl&gt; | type &lt;chr&gt; | TcRb &lt;chr&gt; | V &lt;chr&gt; | J &lt;chr&gt; | TcRa &lt;lgl&gt; | Sample &lt;chr&gt; | Freq &lt;dbl&gt; |\n",
       "|---|---|---|---|---|---|---|---|---|---|---|---|---|---|---|---|---|---|\n",
       "| 1 | SLG%E | 0 | 5 | 50 | 5e-12 | 1 | 0.001 | 0.35 | 0.001 | 1.4e-05 | global-SLG%E | CASSLGTEQFF | TRBV27         | TRBJ2-1 | NA | Leukemia:CHP_405_X05-cfDNA     | 729 |\n",
       "| 1 | SLG%E | 0 | 5 | 50 | 5e-12 | 1 | 0.001 | 0.35 | 0.001 | 1.4e-05 | global-SLG%E | CASSLGAEAFF | TRBV6_7        | NA      | NA | MDavis:DRB10401                |   1 |\n",
       "| 1 | SLG%E | 0 | 5 | 50 | 5e-12 | 1 | 0.001 | 0.35 | 0.001 | 1.4e-05 | global-SLG%E | YASSLGGEQFF | TRBV6_7        | NA      | NA | MDavis:DRB10401                |   1 |\n",
       "| 1 | SLG%E | 0 | 5 | 50 | 5e-12 | 1 | 0.001 | 0.35 | 0.001 | 1.4e-05 | global-SLG%E | CASSLGVEQYF | TRBV27         | TRBJ2-7 | NA | Leukemia:CHP_359_X03-PBMC      |  24 |\n",
       "| 1 | SLG%E | 0 | 5 | 50 | 5e-12 | 1 | 0.001 | 0.35 | 0.001 | 1.4e-05 | global-SLG%E | CASSLGAEQYF | TRBV6_7        | NA      | NA | MDavis:DRB10401                |   1 |\n",
       "| 1 | SLG%E | 0 | 5 | 50 | 5e-12 | 1 | 0.001 | 0.35 | 0.001 | 1.4e-05 | global-SLG%E | CAWSLGDEQYF | TRBV6_7-or30_1 | NA      | NA | MDavis:C0304_DQA10303_DRB10401 |   1 |\n",
       "\n"
      ],
      "text/plain": [
       "  index pattern Fisher_score number_subject number_unique_cdr3 final_score\n",
       "1 1     SLG%E   0            5              50                 5e-12      \n",
       "2 1     SLG%E   0            5              50                 5e-12      \n",
       "3 1     SLG%E   0            5              50                 5e-12      \n",
       "4 1     SLG%E   0            5              50                 5e-12      \n",
       "5 1     SLG%E   0            5              50                 5e-12      \n",
       "6 1     SLG%E   0            5              50                 5e-12      \n",
       "  hla_score vb_score expansion_score length_score cluster_size_score\n",
       "1 1         0.001    0.35            0.001        1.4e-05           \n",
       "2 1         0.001    0.35            0.001        1.4e-05           \n",
       "3 1         0.001    0.35            0.001        1.4e-05           \n",
       "4 1         0.001    0.35            0.001        1.4e-05           \n",
       "5 1         0.001    0.35            0.001        1.4e-05           \n",
       "6 1         0.001    0.35            0.001        1.4e-05           \n",
       "  type         TcRb        V              J       TcRa\n",
       "1 global-SLG%E CASSLGTEQFF TRBV27         TRBJ2-1 NA  \n",
       "2 global-SLG%E CASSLGAEAFF TRBV6_7        NA      NA  \n",
       "3 global-SLG%E YASSLGGEQFF TRBV6_7        NA      NA  \n",
       "4 global-SLG%E CASSLGVEQYF TRBV27         TRBJ2-7 NA  \n",
       "5 global-SLG%E CASSLGAEQYF TRBV6_7        NA      NA  \n",
       "6 global-SLG%E CAWSLGDEQYF TRBV6_7-or30_1 NA      NA  \n",
       "  Sample                         Freq\n",
       "1 Leukemia:CHP_405_X05-cfDNA     729 \n",
       "2 MDavis:DRB10401                  1 \n",
       "3 MDavis:DRB10401                  1 \n",
       "4 Leukemia:CHP_359_X03-PBMC       24 \n",
       "5 MDavis:DRB10401                  1 \n",
       "6 MDavis:C0304_DQA10303_DRB10401   1 "
      ]
     },
     "metadata": {},
     "output_type": "display_data"
    }
   ],
   "source": [
    "head(tmp)"
   ]
  },
  {
   "cell_type": "code",
   "execution_count": 16,
   "metadata": {
    "vscode": {
     "languageId": "r"
    }
   },
   "outputs": [],
   "source": [
    "tmp$cdr3_sample <- paste(tmp$TcRb, tmp$Sample, sep = \"_\")"
   ]
  },
  {
   "cell_type": "code",
   "execution_count": 17,
   "metadata": {
    "vscode": {
     "languageId": "r"
    }
   },
   "outputs": [],
   "source": [
    "components <- read.table(paste0(datapath, \"GLIPH/component_stats_intercept_cdr3_gliph2.csv\"), sep = \",\", header = T)"
   ]
  },
  {
   "cell_type": "code",
   "execution_count": 18,
   "metadata": {
    "vscode": {
     "languageId": "r"
    }
   },
   "outputs": [],
   "source": [
    "int_all <- readr::read_rds(file = paste0(datapath, \"capTCRseq/INT_all_gliph_input_v2.rds\"))"
   ]
  },
  {
   "cell_type": "code",
   "execution_count": 19,
   "metadata": {
    "vscode": {
     "languageId": "r"
    }
   },
   "outputs": [],
   "source": [
    "# remove space\n",
    "int_all$`subject:condition` <- gsub(\" \", \"\", int_all$`subject:condition`)"
   ]
  },
  {
   "cell_type": "code",
   "execution_count": 20,
   "metadata": {
    "vscode": {
     "languageId": "r"
    }
   },
   "outputs": [],
   "source": [
    "int_all$basename <- gsub(\".*:\", \"\", int_all$`subject:condition`)"
   ]
  },
  {
   "cell_type": "code",
   "execution_count": 21,
   "metadata": {
    "vscode": {
     "languageId": "r"
    }
   },
   "outputs": [],
   "source": [
    "int_all$cdr3_cancer_basename <- paste0(int_all$CDR3b, \"_\", int_all$`subject:condition`)"
   ]
  },
  {
   "cell_type": "code",
   "execution_count": 22,
   "metadata": {
    "vscode": {
     "languageId": "r"
    }
   },
   "outputs": [
    {
     "data": {
      "text/html": [
       "<style>\n",
       ".list-inline {list-style: none; margin:0; padding: 0}\n",
       ".list-inline>li {display: inline-block}\n",
       ".list-inline>li:not(:last-child)::after {content: \"\\00b7\"; padding: 0 .5ex}\n",
       "</style>\n",
       "<ol class=list-inline><li>'CASSHPDAVNTEAFF_Solidtumors:CHP_350_X01-PBMC'</li><li>'CASSFSLAAYGEQYF_Solidtumors:CHP_350_X01-PBMC'</li><li>'CASTRLLGNTEAFF_Solidtumors:CHP_350_X01-PBMC'</li><li>'CASSSFGQGINTIYF_Solidtumors:CHP_350_X01-PBMC'</li><li>'CASSPRIGQGAPLHF_Solidtumors:CHP_350_X01-PBMC'</li><li>'CATSRTGGGNTEAFF_Solidtumors:CHP_350_X01-PBMC'</li></ol>\n"
      ],
      "text/latex": [
       "\\begin{enumerate*}\n",
       "\\item 'CASSHPDAVNTEAFF\\_Solidtumors:CHP\\_350\\_X01-PBMC'\n",
       "\\item 'CASSFSLAAYGEQYF\\_Solidtumors:CHP\\_350\\_X01-PBMC'\n",
       "\\item 'CASTRLLGNTEAFF\\_Solidtumors:CHP\\_350\\_X01-PBMC'\n",
       "\\item 'CASSSFGQGINTIYF\\_Solidtumors:CHP\\_350\\_X01-PBMC'\n",
       "\\item 'CASSPRIGQGAPLHF\\_Solidtumors:CHP\\_350\\_X01-PBMC'\n",
       "\\item 'CATSRTGGGNTEAFF\\_Solidtumors:CHP\\_350\\_X01-PBMC'\n",
       "\\end{enumerate*}\n"
      ],
      "text/markdown": [
       "1. 'CASSHPDAVNTEAFF_Solidtumors:CHP_350_X01-PBMC'\n",
       "2. 'CASSFSLAAYGEQYF_Solidtumors:CHP_350_X01-PBMC'\n",
       "3. 'CASTRLLGNTEAFF_Solidtumors:CHP_350_X01-PBMC'\n",
       "4. 'CASSSFGQGINTIYF_Solidtumors:CHP_350_X01-PBMC'\n",
       "5. 'CASSPRIGQGAPLHF_Solidtumors:CHP_350_X01-PBMC'\n",
       "6. 'CATSRTGGGNTEAFF_Solidtumors:CHP_350_X01-PBMC'\n",
       "\n",
       "\n"
      ],
      "text/plain": [
       "[1] \"CASSHPDAVNTEAFF_Solidtumors:CHP_350_X01-PBMC\"\n",
       "[2] \"CASSFSLAAYGEQYF_Solidtumors:CHP_350_X01-PBMC\"\n",
       "[3] \"CASTRLLGNTEAFF_Solidtumors:CHP_350_X01-PBMC\" \n",
       "[4] \"CASSSFGQGINTIYF_Solidtumors:CHP_350_X01-PBMC\"\n",
       "[5] \"CASSPRIGQGAPLHF_Solidtumors:CHP_350_X01-PBMC\"\n",
       "[6] \"CATSRTGGGNTEAFF_Solidtumors:CHP_350_X01-PBMC\""
      ]
     },
     "metadata": {},
     "output_type": "display_data"
    }
   ],
   "source": [
    "head(int_all$cdr3_cancer_basename)"
   ]
  },
  {
   "cell_type": "code",
   "execution_count": 23,
   "metadata": {
    "vscode": {
     "languageId": "r"
    }
   },
   "outputs": [
    {
     "data": {
      "text/html": [
       "<style>\n",
       ".list-inline {list-style: none; margin:0; padding: 0}\n",
       ".list-inline>li {display: inline-block}\n",
       ".list-inline>li:not(:last-child)::after {content: \"\\00b7\"; padding: 0 .5ex}\n",
       "</style>\n",
       "<ol class=list-inline><li>'Component_id'</li><li>'Component_size'</li><li>'PatientDerived_Nodes'</li><li>'NumberOf_PatientDerived_Nodes'</li><li>'Number_of_Patients'</li><li>'Sample_Type_Range'</li><li>'Timepoint_Range'</li><li>'Number_of_Timepoints'</li><li>'Component_specificity'</li><li>'KnownExternalTCRs'</li></ol>\n"
      ],
      "text/latex": [
       "\\begin{enumerate*}\n",
       "\\item 'Component\\_id'\n",
       "\\item 'Component\\_size'\n",
       "\\item 'PatientDerived\\_Nodes'\n",
       "\\item 'NumberOf\\_PatientDerived\\_Nodes'\n",
       "\\item 'Number\\_of\\_Patients'\n",
       "\\item 'Sample\\_Type\\_Range'\n",
       "\\item 'Timepoint\\_Range'\n",
       "\\item 'Number\\_of\\_Timepoints'\n",
       "\\item 'Component\\_specificity'\n",
       "\\item 'KnownExternalTCRs'\n",
       "\\end{enumerate*}\n"
      ],
      "text/markdown": [
       "1. 'Component_id'\n",
       "2. 'Component_size'\n",
       "3. 'PatientDerived_Nodes'\n",
       "4. 'NumberOf_PatientDerived_Nodes'\n",
       "5. 'Number_of_Patients'\n",
       "6. 'Sample_Type_Range'\n",
       "7. 'Timepoint_Range'\n",
       "8. 'Number_of_Timepoints'\n",
       "9. 'Component_specificity'\n",
       "10. 'KnownExternalTCRs'\n",
       "\n",
       "\n"
      ],
      "text/plain": [
       " [1] \"Component_id\"                  \"Component_size\"               \n",
       " [3] \"PatientDerived_Nodes\"          \"NumberOf_PatientDerived_Nodes\"\n",
       " [5] \"Number_of_Patients\"            \"Sample_Type_Range\"            \n",
       " [7] \"Timepoint_Range\"               \"Number_of_Timepoints\"         \n",
       " [9] \"Component_specificity\"         \"KnownExternalTCRs\"            "
      ]
     },
     "metadata": {},
     "output_type": "display_data"
    }
   ],
   "source": [
    "colnames(components)"
   ]
  },
  {
   "cell_type": "code",
   "execution_count": 24,
   "metadata": {
    "vscode": {
     "languageId": "r"
    }
   },
   "outputs": [],
   "source": [
    "# separate rows\n",
    "components_sep <- tidyr::separate_rows(components, PatientDerived_Nodes, sep = \",\")"
   ]
  },
  {
   "cell_type": "code",
   "execution_count": 25,
   "metadata": {
    "vscode": {
     "languageId": "r"
    }
   },
   "outputs": [
    {
     "data": {
      "text/html": [
       "'CAAAGGGEAFF_Leukemia:CHP_396_X04-PBMC'"
      ],
      "text/latex": [
       "'CAAAGGGEAFF\\_Leukemia:CHP\\_396\\_X04-PBMC'"
      ],
      "text/markdown": [
       "'CAAAGGGEAFF_Leukemia:CHP_396_X04-PBMC'"
      ],
      "text/plain": [
       "[1] \"CAAAGGGEAFF_Leukemia:CHP_396_X04-PBMC\""
      ]
     },
     "metadata": {},
     "output_type": "display_data"
    }
   ],
   "source": [
    "components_sep$PatientDerived_Nodes[1]"
   ]
  },
  {
   "cell_type": "code",
   "execution_count": 26,
   "metadata": {
    "vscode": {
     "languageId": "r"
    }
   },
   "outputs": [],
   "source": [
    "sampletype <- \"PBMC\""
   ]
  },
  {
   "cell_type": "code",
   "execution_count": 27,
   "metadata": {
    "vscode": {
     "languageId": "r"
    }
   },
   "outputs": [],
   "source": [
    "components_sep_sampletype <- components_sep[grepl(sampletype, components_sep$PatientDerived_Nodes),]"
   ]
  },
  {
   "cell_type": "code",
   "execution_count": 28,
   "metadata": {
    "vscode": {
     "languageId": "r"
    }
   },
   "outputs": [],
   "source": [
    "# generate new columns TCR, cancergroup, sample, patient, cycle\n",
    "components_sep_sampletype$basename <- gsub(\".*:\", \"\", components_sep_sampletype$PatientDerived_Nodes)\n",
    "components_sep_sampletype$Patient <- gsub(\"_X.*\", \"\", components_sep_sampletype$basename)\n",
    "components_sep_sampletype$cycle <- gsub(\".*X\", \"X\", components_sep_sampletype$basename)\n",
    "components_sep_sampletype$cycle <- substring(components_sep_sampletype$cycle, 1, 3)\n",
    "\n",
    "components_sep_sampletype$cancergroup_cdr3 <- gsub(\":.*\", \"\", components_sep_sampletype$PatientDerived_Nodes)\n",
    "components_sep_sampletype$cdr3 <- gsub(\"_.*\", \"\", components_sep_sampletype$cancergroup_cdr3)\n",
    "components_sep_sampletype$cancergroup <- gsub(\".*_\", \"\", components_sep_sampletype$cancergroup_cdr3)"
   ]
  },
  {
   "cell_type": "code",
   "execution_count": 29,
   "metadata": {
    "vscode": {
     "languageId": "r"
    }
   },
   "outputs": [],
   "source": [
    "# add cloneCount\n",
    "rowmatch <- match(components_sep_sampletype$PatientDerived_Nodes, int_all$cdr3_cancer_basename)\n",
    "components_sep_sampletype$cloneCount <- int_all$count[rowmatch]"
   ]
  },
  {
   "cell_type": "code",
   "execution_count": 30,
   "metadata": {
    "vscode": {
     "languageId": "r"
    }
   },
   "outputs": [],
   "source": [
    "# add Fisher score\n",
    "rowmatch <- match(components_sep_sampletype$PatientDerived_Nodes, tmp$cdr3_sample)\n",
    "components_sep_sampletype$Fisher_score <- tmp$Fisher_score[rowmatch]"
   ]
  },
  {
   "cell_type": "code",
   "execution_count": 31,
   "metadata": {
    "vscode": {
     "languageId": "r"
    }
   },
   "outputs": [
    {
     "data": {
      "text/plain": [
       "\n",
       "               LFS           Leukemia           Lymphoma             Normal \n",
       "               319               5546                710                 31 \n",
       "       Solidtumors T-cellmalignancies \n",
       "              2470                474 "
      ]
     },
     "metadata": {},
     "output_type": "display_data"
    }
   ],
   "source": [
    "table(components_sep_sampletype$cancergroup)"
   ]
  },
  {
   "cell_type": "code",
   "execution_count": 32,
   "metadata": {
    "vscode": {
     "languageId": "r"
    }
   },
   "outputs": [],
   "source": [
    "# remove X00\n",
    "components_sep_sampletype <- components_sep_sampletype[!grepl(\"X00\", components_sep_sampletype$cycle),]"
   ]
  },
  {
   "cell_type": "code",
   "execution_count": 33,
   "metadata": {
    "vscode": {
     "languageId": "r"
    }
   },
   "outputs": [],
   "source": [
    "# get patients with more than one timepoiint and baseline\n",
    "mytab <- table(components_sep_sampletype$Patient, components_sep_sampletype$cycle)\n",
    "mytab <- mytab[rowSums(mytab != 0) > 1, ] # patients with more than one timepoint\n",
    "baseline_patients <- rownames(mytab)[mytab[, 1] > 0] # patients with baseline"
   ]
  },
  {
   "cell_type": "code",
   "execution_count": 34,
   "metadata": {
    "vscode": {
     "languageId": "r"
    }
   },
   "outputs": [
    {
     "data": {
      "text/plain": [
       "         \n",
       "          X01 X02 X03 X04 X05\n",
       "  CHP_323   0   0   9   0  29\n",
       "  CHP_328   0   0   0 101  22\n",
       "  CHP_331   0   0   0   6  30\n",
       "  CHP_338   0   0  82  27  67\n",
       "  CHP_339   0   0   5   0  35\n",
       "  CHP_340   0   0  25  27  97"
      ]
     },
     "metadata": {},
     "output_type": "display_data"
    }
   ],
   "source": [
    "head(mytab)"
   ]
  },
  {
   "cell_type": "code",
   "execution_count": 35,
   "metadata": {
    "vscode": {
     "languageId": "r"
    }
   },
   "outputs": [],
   "source": [
    "df1 <- components_sep_sampletype[components_sep_sampletype$Patient %in% baseline_patients, ]"
   ]
  },
  {
   "cell_type": "code",
   "execution_count": 36,
   "metadata": {
    "vscode": {
     "languageId": "r"
    }
   },
   "outputs": [],
   "source": [
    "# separate pre and post\n",
    "df1_pre <- df1[ df1$cycle == \"X01\",]\n",
    "df1_post <- df1[ df1$cycle != \"X01\",]"
   ]
  },
  {
   "cell_type": "code",
   "execution_count": 37,
   "metadata": {
    "vscode": {
     "languageId": "r"
    }
   },
   "outputs": [],
   "source": [
    "# group by patient and pattern, average frequencyes across samples postchemo\n",
    "df1_post_sum <- df1_post %>%\n",
    "  group_by(Patient, Component_id) %>%\n",
    "  summarise(SumCount = sum(cloneCount), .groups = 'drop') %>%\n",
    "  ungroup()"
   ]
  },
  {
   "cell_type": "code",
   "execution_count": 38,
   "metadata": {
    "vscode": {
     "languageId": "r"
    }
   },
   "outputs": [],
   "source": [
    "# group by samples and patterns, avergae the frequencies, if there is > 1 CDR3s in a pattern\n",
    "df1_pre_sum <- df1_pre %>%\n",
    "  group_by(basename, Component_id) %>%\n",
    "  summarise(SumCount = mean(cloneCount), .groups = 'drop') %>%\n",
    "  ungroup()"
   ]
  },
  {
   "cell_type": "code",
   "execution_count": 39,
   "metadata": {
    "vscode": {
     "languageId": "r"
    }
   },
   "outputs": [
    {
     "data": {
      "text/html": [
       "<table class=\"dataframe\">\n",
       "<caption>A tibble: 6 x 3</caption>\n",
       "<thead>\n",
       "\t<tr><th scope=col>Patient</th><th scope=col>Component_id</th><th scope=col>SumCount</th></tr>\n",
       "\t<tr><th scope=col>&lt;chr&gt;</th><th scope=col>&lt;int&gt;</th><th scope=col>&lt;int&gt;</th></tr>\n",
       "</thead>\n",
       "<tbody>\n",
       "\t<tr><td>CHP_347</td><td>1</td><td>1248</td></tr>\n",
       "\t<tr><td>CHP_347</td><td>4</td><td>  32</td></tr>\n",
       "\t<tr><td>CHP_347</td><td>5</td><td>  34</td></tr>\n",
       "\t<tr><td>CHP_347</td><td>6</td><td> 180</td></tr>\n",
       "\t<tr><td>CHP_347</td><td>7</td><td>  39</td></tr>\n",
       "\t<tr><td>CHP_347</td><td>8</td><td>  43</td></tr>\n",
       "</tbody>\n",
       "</table>\n"
      ],
      "text/latex": [
       "A tibble: 6 x 3\n",
       "\\begin{tabular}{lll}\n",
       " Patient & Component\\_id & SumCount\\\\\n",
       " <chr> & <int> & <int>\\\\\n",
       "\\hline\n",
       "\t CHP\\_347 & 1 & 1248\\\\\n",
       "\t CHP\\_347 & 4 &   32\\\\\n",
       "\t CHP\\_347 & 5 &   34\\\\\n",
       "\t CHP\\_347 & 6 &  180\\\\\n",
       "\t CHP\\_347 & 7 &   39\\\\\n",
       "\t CHP\\_347 & 8 &   43\\\\\n",
       "\\end{tabular}\n"
      ],
      "text/markdown": [
       "\n",
       "A tibble: 6 x 3\n",
       "\n",
       "| Patient &lt;chr&gt; | Component_id &lt;int&gt; | SumCount &lt;int&gt; |\n",
       "|---|---|---|\n",
       "| CHP_347 | 1 | 1248 |\n",
       "| CHP_347 | 4 |   32 |\n",
       "| CHP_347 | 5 |   34 |\n",
       "| CHP_347 | 6 |  180 |\n",
       "| CHP_347 | 7 |   39 |\n",
       "| CHP_347 | 8 |   43 |\n",
       "\n"
      ],
      "text/plain": [
       "  Patient Component_id SumCount\n",
       "1 CHP_347 1            1248    \n",
       "2 CHP_347 4              32    \n",
       "3 CHP_347 5              34    \n",
       "4 CHP_347 6             180    \n",
       "5 CHP_347 7              39    \n",
       "6 CHP_347 8              43    "
      ]
     },
     "metadata": {},
     "output_type": "display_data"
    }
   ],
   "source": [
    "head(df1_post_sum)"
   ]
  },
  {
   "cell_type": "code",
   "execution_count": 40,
   "metadata": {
    "vscode": {
     "languageId": "r"
    }
   },
   "outputs": [
    {
     "data": {
      "text/html": [
       "<table class=\"dataframe\">\n",
       "<caption>A tibble: 6 x 3</caption>\n",
       "<thead>\n",
       "\t<tr><th scope=col>basename</th><th scope=col>Component_id</th><th scope=col>SumCount</th></tr>\n",
       "\t<tr><th scope=col>&lt;chr&gt;</th><th scope=col>&lt;int&gt;</th><th scope=col>&lt;dbl&gt;</th></tr>\n",
       "</thead>\n",
       "<tbody>\n",
       "\t<tr><td>CHP_347_X01-PBMC</td><td> 1</td><td> 47.50000</td></tr>\n",
       "\t<tr><td>CHP_347_X01-PBMC</td><td> 4</td><td>101.00000</td></tr>\n",
       "\t<tr><td>CHP_347_X01-PBMC</td><td> 6</td><td> 45.00000</td></tr>\n",
       "\t<tr><td>CHP_347_X01-PBMC</td><td>13</td><td> 19.00000</td></tr>\n",
       "\t<tr><td>CHP_348_X01-PBMC</td><td> 1</td><td> 12.22222</td></tr>\n",
       "\t<tr><td>CHP_348_X01-PBMC</td><td> 4</td><td> 10.00000</td></tr>\n",
       "</tbody>\n",
       "</table>\n"
      ],
      "text/latex": [
       "A tibble: 6 x 3\n",
       "\\begin{tabular}{lll}\n",
       " basename & Component\\_id & SumCount\\\\\n",
       " <chr> & <int> & <dbl>\\\\\n",
       "\\hline\n",
       "\t CHP\\_347\\_X01-PBMC &  1 &  47.50000\\\\\n",
       "\t CHP\\_347\\_X01-PBMC &  4 & 101.00000\\\\\n",
       "\t CHP\\_347\\_X01-PBMC &  6 &  45.00000\\\\\n",
       "\t CHP\\_347\\_X01-PBMC & 13 &  19.00000\\\\\n",
       "\t CHP\\_348\\_X01-PBMC &  1 &  12.22222\\\\\n",
       "\t CHP\\_348\\_X01-PBMC &  4 &  10.00000\\\\\n",
       "\\end{tabular}\n"
      ],
      "text/markdown": [
       "\n",
       "A tibble: 6 x 3\n",
       "\n",
       "| basename &lt;chr&gt; | Component_id &lt;int&gt; | SumCount &lt;dbl&gt; |\n",
       "|---|---|---|\n",
       "| CHP_347_X01-PBMC |  1 |  47.50000 |\n",
       "| CHP_347_X01-PBMC |  4 | 101.00000 |\n",
       "| CHP_347_X01-PBMC |  6 |  45.00000 |\n",
       "| CHP_347_X01-PBMC | 13 |  19.00000 |\n",
       "| CHP_348_X01-PBMC |  1 |  12.22222 |\n",
       "| CHP_348_X01-PBMC |  4 |  10.00000 |\n",
       "\n"
      ],
      "text/plain": [
       "  basename         Component_id SumCount \n",
       "1 CHP_347_X01-PBMC  1            47.50000\n",
       "2 CHP_347_X01-PBMC  4           101.00000\n",
       "3 CHP_347_X01-PBMC  6            45.00000\n",
       "4 CHP_347_X01-PBMC 13            19.00000\n",
       "5 CHP_348_X01-PBMC  1            12.22222\n",
       "6 CHP_348_X01-PBMC  4            10.00000"
      ]
     },
     "metadata": {},
     "output_type": "display_data"
    }
   ],
   "source": [
    "head(df1_pre_sum)"
   ]
  },
  {
   "cell_type": "code",
   "execution_count": 41,
   "metadata": {
    "vscode": {
     "languageId": "r"
    }
   },
   "outputs": [],
   "source": [
    "df1_pre_sum$Patient <- gsub(\".*CHP\", \"CHP\", df1_pre_sum$basename)\n",
    "df1_pre_sum$Patient <- gsub(\"_X.*\", \"\", df1_pre_sum$Patient)\n",
    "\n",
    "df1_pre_sum$cycle <- gsub(\".*X\", \"X\", df1_pre_sum$basename)\n",
    "df1_pre_sum$cycle <- gsub(\"-.*\", \"\", df1_pre_sum$cycle)"
   ]
  },
  {
   "cell_type": "code",
   "execution_count": 42,
   "metadata": {
    "vscode": {
     "languageId": "r"
    }
   },
   "outputs": [
    {
     "data": {
      "text/html": [
       "<table class=\"dataframe\">\n",
       "<caption>A tibble: 6 x 5</caption>\n",
       "<thead>\n",
       "\t<tr><th scope=col>basename</th><th scope=col>Component_id</th><th scope=col>SumCount</th><th scope=col>Patient</th><th scope=col>cycle</th></tr>\n",
       "\t<tr><th scope=col>&lt;chr&gt;</th><th scope=col>&lt;int&gt;</th><th scope=col>&lt;dbl&gt;</th><th scope=col>&lt;chr&gt;</th><th scope=col>&lt;chr&gt;</th></tr>\n",
       "</thead>\n",
       "<tbody>\n",
       "\t<tr><td>CHP_347_X01-PBMC</td><td> 1</td><td> 47.50000</td><td>CHP_347</td><td>X01</td></tr>\n",
       "\t<tr><td>CHP_347_X01-PBMC</td><td> 4</td><td>101.00000</td><td>CHP_347</td><td>X01</td></tr>\n",
       "\t<tr><td>CHP_347_X01-PBMC</td><td> 6</td><td> 45.00000</td><td>CHP_347</td><td>X01</td></tr>\n",
       "\t<tr><td>CHP_347_X01-PBMC</td><td>13</td><td> 19.00000</td><td>CHP_347</td><td>X01</td></tr>\n",
       "\t<tr><td>CHP_348_X01-PBMC</td><td> 1</td><td> 12.22222</td><td>CHP_348</td><td>X01</td></tr>\n",
       "\t<tr><td>CHP_348_X01-PBMC</td><td> 4</td><td> 10.00000</td><td>CHP_348</td><td>X01</td></tr>\n",
       "</tbody>\n",
       "</table>\n"
      ],
      "text/latex": [
       "A tibble: 6 x 5\n",
       "\\begin{tabular}{lllll}\n",
       " basename & Component\\_id & SumCount & Patient & cycle\\\\\n",
       " <chr> & <int> & <dbl> & <chr> & <chr>\\\\\n",
       "\\hline\n",
       "\t CHP\\_347\\_X01-PBMC &  1 &  47.50000 & CHP\\_347 & X01\\\\\n",
       "\t CHP\\_347\\_X01-PBMC &  4 & 101.00000 & CHP\\_347 & X01\\\\\n",
       "\t CHP\\_347\\_X01-PBMC &  6 &  45.00000 & CHP\\_347 & X01\\\\\n",
       "\t CHP\\_347\\_X01-PBMC & 13 &  19.00000 & CHP\\_347 & X01\\\\\n",
       "\t CHP\\_348\\_X01-PBMC &  1 &  12.22222 & CHP\\_348 & X01\\\\\n",
       "\t CHP\\_348\\_X01-PBMC &  4 &  10.00000 & CHP\\_348 & X01\\\\\n",
       "\\end{tabular}\n"
      ],
      "text/markdown": [
       "\n",
       "A tibble: 6 x 5\n",
       "\n",
       "| basename &lt;chr&gt; | Component_id &lt;int&gt; | SumCount &lt;dbl&gt; | Patient &lt;chr&gt; | cycle &lt;chr&gt; |\n",
       "|---|---|---|---|---|\n",
       "| CHP_347_X01-PBMC |  1 |  47.50000 | CHP_347 | X01 |\n",
       "| CHP_347_X01-PBMC |  4 | 101.00000 | CHP_347 | X01 |\n",
       "| CHP_347_X01-PBMC |  6 |  45.00000 | CHP_347 | X01 |\n",
       "| CHP_347_X01-PBMC | 13 |  19.00000 | CHP_347 | X01 |\n",
       "| CHP_348_X01-PBMC |  1 |  12.22222 | CHP_348 | X01 |\n",
       "| CHP_348_X01-PBMC |  4 |  10.00000 | CHP_348 | X01 |\n",
       "\n"
      ],
      "text/plain": [
       "  basename         Component_id SumCount  Patient cycle\n",
       "1 CHP_347_X01-PBMC  1            47.50000 CHP_347 X01  \n",
       "2 CHP_347_X01-PBMC  4           101.00000 CHP_347 X01  \n",
       "3 CHP_347_X01-PBMC  6            45.00000 CHP_347 X01  \n",
       "4 CHP_347_X01-PBMC 13            19.00000 CHP_347 X01  \n",
       "5 CHP_348_X01-PBMC  1            12.22222 CHP_348 X01  \n",
       "6 CHP_348_X01-PBMC  4            10.00000 CHP_348 X01  "
      ]
     },
     "metadata": {},
     "output_type": "display_data"
    }
   ],
   "source": [
    "head(df1_pre_sum)"
   ]
  },
  {
   "cell_type": "code",
   "execution_count": 43,
   "metadata": {
    "vscode": {
     "languageId": "r"
    }
   },
   "outputs": [],
   "source": [
    "# matrix gliph x patient\n",
    "comppat_mat <- matrix(NA,\n",
    "    nrow = length(unique(df1$Component_id)), ncol = length(unique(df1$Patient)),\n",
    "    dimnames = list(unique(df1$Component_id), unique(df1$Patient))\n",
    ")"
   ]
  },
  {
   "cell_type": "code",
   "execution_count": 44,
   "metadata": {
    "vscode": {
     "languageId": "r"
    }
   },
   "outputs": [],
   "source": [
    "for (i in 1:nrow(comppat_mat)) { # pattern loop\n",
    "    for (j in 1:ncol(comppat_mat)) { # patient loop\n",
    "        myc <- rownames(comppat_mat)[i]\n",
    "        mypt <- colnames(comppat_mat)[j]\n",
    "        pt_pre <- df1_pre_sum[df1_pre_sum$Patient == mypt, ]\n",
    "        pt_post <- df1_post_sum[df1_post_sum$Patient == mypt, ]\n",
    "        if (length(pt_pre$SumCount[pt_pre$Component_id == myc]) != 0 && length(pt_post$SumCount[pt_post$Component_id == myc]) != 0) { # if pattern is present in both pre and post\n",
    "            comppat_mat[i, j] <- pt_post$SumCount[pt_post$Component_id == myc] - pt_pre$SumCount[pt_pre$Component_id == myc] # post - pre\n",
    "        } # end of if\n",
    "    } # end of patient loop\n",
    "} # end of pattern loop"
   ]
  },
  {
   "cell_type": "code",
   "execution_count": 45,
   "metadata": {
    "vscode": {
     "languageId": "r"
    }
   },
   "outputs": [],
   "source": [
    "comppat_mat <- as.data.frame(comppat_mat)"
   ]
  },
  {
   "cell_type": "code",
   "execution_count": 46,
   "metadata": {
    "vscode": {
     "languageId": "r"
    }
   },
   "outputs": [],
   "source": [
    "# group by component_id, avergae the fisher score\n",
    "df1 <- df1 %>%\n",
    "  group_by(Component_id) %>%\n",
    "  mutate(MeanFisher = mean(Fisher_score, na.rm = T)) %>%\n",
    "  ungroup()"
   ]
  },
  {
   "cell_type": "code",
   "execution_count": 47,
   "metadata": {
    "vscode": {
     "languageId": "r"
    }
   },
   "outputs": [],
   "source": [
    "# Add Fisher score to comppat_mat\n",
    "comppat_mat$MeanFisher <- df1$MeanFisher[match(rownames(comppat_mat), df1$Component_id)]"
   ]
  },
  {
   "cell_type": "code",
   "execution_count": 48,
   "metadata": {
    "vscode": {
     "languageId": "r"
    }
   },
   "outputs": [
    {
     "data": {
      "text/html": [
       "<table class=\"dataframe\">\n",
       "<caption>A data.frame: 6 x 34</caption>\n",
       "<thead>\n",
       "\t<tr><th></th><th scope=col>CHP_396</th><th scope=col>CHP_357</th><th scope=col>CHP_404</th><th scope=col>CHP_408</th><th scope=col>CHP_381</th><th scope=col>CHP_409</th><th scope=col>CHP_373</th><th scope=col>CHP_405</th><th scope=col>CHP_353</th><th scope=col>CHP_415</th><th scope=col>...</th><th scope=col>CHP_366</th><th scope=col>CHP_348</th><th scope=col>CHP_397</th><th scope=col>CHP_370</th><th scope=col>CHP_410</th><th scope=col>CHP_349</th><th scope=col>CHP_413</th><th scope=col>CHP_387</th><th scope=col>CHP_367</th><th scope=col>MeanFisher</th></tr>\n",
       "\t<tr><th></th><th scope=col>&lt;dbl&gt;</th><th scope=col>&lt;dbl&gt;</th><th scope=col>&lt;dbl&gt;</th><th scope=col>&lt;dbl&gt;</th><th scope=col>&lt;dbl&gt;</th><th scope=col>&lt;dbl&gt;</th><th scope=col>&lt;dbl&gt;</th><th scope=col>&lt;dbl&gt;</th><th scope=col>&lt;dbl&gt;</th><th scope=col>&lt;dbl&gt;</th><th scope=col>...</th><th scope=col>&lt;dbl&gt;</th><th scope=col>&lt;dbl&gt;</th><th scope=col>&lt;dbl&gt;</th><th scope=col>&lt;dbl&gt;</th><th scope=col>&lt;dbl&gt;</th><th scope=col>&lt;dbl&gt;</th><th scope=col>&lt;dbl&gt;</th><th scope=col>&lt;dbl&gt;</th><th scope=col>&lt;dbl&gt;</th><th scope=col>&lt;dbl&gt;</th></tr>\n",
       "</thead>\n",
       "<tbody>\n",
       "\t<tr><th scope=row>1</th><td>31185.25</td><td>2325.94872</td><td>19306.57</td><td>12379.5</td><td>1199.403226</td><td>1530.263</td><td>39.53191</td><td>24139.6</td><td>1912.48485</td><td>5373.8</td><td>...</td><td>25798.62</td><td>22.77778</td><td>13042.12</td><td>1392.5</td><td>5774.417</td><td>1444.25</td><td>26603</td><td>62.723404</td><td>273.6</td><td>1.317950e-03</td></tr>\n",
       "\t<tr><th scope=row>2</th><td>      NA</td><td>        NA</td><td>      NA</td><td>     NA</td><td>         NA</td><td>      NA</td><td>      NA</td><td>     NA</td><td>        NA</td><td>    NA</td><td>...</td><td>      NA</td><td>      NA</td><td>      NA</td><td>    NA</td><td>      NA</td><td>     NA</td><td>   NA</td><td>       NA</td><td>   NA</td><td>0.000000e+00</td></tr>\n",
       "\t<tr><th scope=row>3</th><td>      NA</td><td>        NA</td><td>      NA</td><td>     NA</td><td>         NA</td><td>      NA</td><td>      NA</td><td>     NA</td><td>        NA</td><td>    NA</td><td>...</td><td>      NA</td><td>      NA</td><td>      NA</td><td>    NA</td><td>      NA</td><td>     NA</td><td>   NA</td><td>       NA</td><td>   NA</td><td>7.400000e-38</td></tr>\n",
       "\t<tr><th scope=row>4</th><td>  129.00</td><td> 204.00000</td><td> 1134.50</td><td>     NA</td><td>-124.500000</td><td>      NA</td><td>      NA</td><td>     NA</td><td>        NA</td><td>    NA</td><td>...</td><td>      NA</td><td>      NA</td><td>  239.00</td><td>    NA</td><td> 115.000</td><td>     NA</td><td>   NA</td><td>       NA</td><td>   NA</td><td>8.913701e-04</td></tr>\n",
       "\t<tr><th scope=row>5</th><td>      NA</td><td>        NA</td><td>  431.00</td><td>     NA</td><td>         NA</td><td>      NA</td><td>      NA</td><td>     NA</td><td>        NA</td><td>    NA</td><td>...</td><td>      NA</td><td>      NA</td><td>      NA</td><td>    NA</td><td>      NA</td><td>     NA</td><td>   NA</td><td>       NA</td><td>   NA</td><td>1.587323e-04</td></tr>\n",
       "\t<tr><th scope=row>6</th><td>  999.50</td><td>  64.33333</td><td> 1222.00</td><td>  724.0</td><td>   9.416667</td><td>      NA</td><td> 0.50000</td><td>     NA</td><td>  55.33333</td><td>    NA</td><td>...</td><td>  668.00</td><td>      NA</td><td>      NA</td><td>    NA</td><td> 138.000</td><td>     NA</td><td>   NA</td><td> 4.333333</td><td>   NA</td><td>1.693262e-04</td></tr>\n",
       "</tbody>\n",
       "</table>\n"
      ],
      "text/latex": [
       "A data.frame: 6 x 34\n",
       "\\begin{tabular}{r|lllllllllllllllllllll}\n",
       "  & CHP\\_396 & CHP\\_357 & CHP\\_404 & CHP\\_408 & CHP\\_381 & CHP\\_409 & CHP\\_373 & CHP\\_405 & CHP\\_353 & CHP\\_415 & ... & CHP\\_366 & CHP\\_348 & CHP\\_397 & CHP\\_370 & CHP\\_410 & CHP\\_349 & CHP\\_413 & CHP\\_387 & CHP\\_367 & MeanFisher\\\\\n",
       "  & <dbl> & <dbl> & <dbl> & <dbl> & <dbl> & <dbl> & <dbl> & <dbl> & <dbl> & <dbl> & ... & <dbl> & <dbl> & <dbl> & <dbl> & <dbl> & <dbl> & <dbl> & <dbl> & <dbl> & <dbl>\\\\\n",
       "\\hline\n",
       "\t1 & 31185.25 & 2325.94872 & 19306.57 & 12379.5 & 1199.403226 & 1530.263 & 39.53191 & 24139.6 & 1912.48485 & 5373.8 & ... & 25798.62 & 22.77778 & 13042.12 & 1392.5 & 5774.417 & 1444.25 & 26603 & 62.723404 & 273.6 & 1.317950e-03\\\\\n",
       "\t2 &       NA &         NA &       NA &      NA &          NA &       NA &       NA &      NA &         NA &     NA & ... &       NA &       NA &       NA &     NA &       NA &      NA &    NA &        NA &    NA & 0.000000e+00\\\\\n",
       "\t3 &       NA &         NA &       NA &      NA &          NA &       NA &       NA &      NA &         NA &     NA & ... &       NA &       NA &       NA &     NA &       NA &      NA &    NA &        NA &    NA & 7.400000e-38\\\\\n",
       "\t4 &   129.00 &  204.00000 &  1134.50 &      NA & -124.500000 &       NA &       NA &      NA &         NA &     NA & ... &       NA &       NA &   239.00 &     NA &  115.000 &      NA &    NA &        NA &    NA & 8.913701e-04\\\\\n",
       "\t5 &       NA &         NA &   431.00 &      NA &          NA &       NA &       NA &      NA &         NA &     NA & ... &       NA &       NA &       NA &     NA &       NA &      NA &    NA &        NA &    NA & 1.587323e-04\\\\\n",
       "\t6 &   999.50 &   64.33333 &  1222.00 &   724.0 &    9.416667 &       NA &  0.50000 &      NA &   55.33333 &     NA & ... &   668.00 &       NA &       NA &     NA &  138.000 &      NA &    NA &  4.333333 &    NA & 1.693262e-04\\\\\n",
       "\\end{tabular}\n"
      ],
      "text/markdown": [
       "\n",
       "A data.frame: 6 x 34\n",
       "\n",
       "| <!--/--> | CHP_396 &lt;dbl&gt; | CHP_357 &lt;dbl&gt; | CHP_404 &lt;dbl&gt; | CHP_408 &lt;dbl&gt; | CHP_381 &lt;dbl&gt; | CHP_409 &lt;dbl&gt; | CHP_373 &lt;dbl&gt; | CHP_405 &lt;dbl&gt; | CHP_353 &lt;dbl&gt; | CHP_415 &lt;dbl&gt; | ... ... | CHP_366 &lt;dbl&gt; | CHP_348 &lt;dbl&gt; | CHP_397 &lt;dbl&gt; | CHP_370 &lt;dbl&gt; | CHP_410 &lt;dbl&gt; | CHP_349 &lt;dbl&gt; | CHP_413 &lt;dbl&gt; | CHP_387 &lt;dbl&gt; | CHP_367 &lt;dbl&gt; | MeanFisher &lt;dbl&gt; |\n",
       "|---|---|---|---|---|---|---|---|---|---|---|---|---|---|---|---|---|---|---|---|---|---|\n",
       "| 1 | 31185.25 | 2325.94872 | 19306.57 | 12379.5 | 1199.403226 | 1530.263 | 39.53191 | 24139.6 | 1912.48485 | 5373.8 | ... | 25798.62 | 22.77778 | 13042.12 | 1392.5 | 5774.417 | 1444.25 | 26603 | 62.723404 | 273.6 | 1.317950e-03 |\n",
       "| 2 |       NA |         NA |       NA |      NA |          NA |       NA |       NA |      NA |         NA |     NA | ... |       NA |       NA |       NA |     NA |       NA |      NA |    NA |        NA |    NA | 0.000000e+00 |\n",
       "| 3 |       NA |         NA |       NA |      NA |          NA |       NA |       NA |      NA |         NA |     NA | ... |       NA |       NA |       NA |     NA |       NA |      NA |    NA |        NA |    NA | 7.400000e-38 |\n",
       "| 4 |   129.00 |  204.00000 |  1134.50 |      NA | -124.500000 |       NA |       NA |      NA |         NA |     NA | ... |       NA |       NA |   239.00 |     NA |  115.000 |      NA |    NA |        NA |    NA | 8.913701e-04 |\n",
       "| 5 |       NA |         NA |   431.00 |      NA |          NA |       NA |       NA |      NA |         NA |     NA | ... |       NA |       NA |       NA |     NA |       NA |      NA |    NA |        NA |    NA | 1.587323e-04 |\n",
       "| 6 |   999.50 |   64.33333 |  1222.00 |   724.0 |    9.416667 |       NA |  0.50000 |      NA |   55.33333 |     NA | ... |   668.00 |       NA |       NA |     NA |  138.000 |      NA |    NA |  4.333333 |    NA | 1.693262e-04 |\n",
       "\n"
      ],
      "text/plain": [
       "  CHP_396  CHP_357    CHP_404  CHP_408 CHP_381     CHP_409  CHP_373  CHP_405\n",
       "1 31185.25 2325.94872 19306.57 12379.5 1199.403226 1530.263 39.53191 24139.6\n",
       "2       NA         NA       NA      NA          NA       NA       NA      NA\n",
       "3       NA         NA       NA      NA          NA       NA       NA      NA\n",
       "4   129.00  204.00000  1134.50      NA -124.500000       NA       NA      NA\n",
       "5       NA         NA   431.00      NA          NA       NA       NA      NA\n",
       "6   999.50   64.33333  1222.00   724.0    9.416667       NA  0.50000      NA\n",
       "  CHP_353    CHP_415 ... CHP_366  CHP_348  CHP_397  CHP_370 CHP_410  CHP_349\n",
       "1 1912.48485 5373.8  ... 25798.62 22.77778 13042.12 1392.5  5774.417 1444.25\n",
       "2         NA     NA  ...       NA       NA       NA     NA        NA      NA\n",
       "3         NA     NA  ...       NA       NA       NA     NA        NA      NA\n",
       "4         NA     NA  ...       NA       NA   239.00     NA   115.000      NA\n",
       "5         NA     NA  ...       NA       NA       NA     NA        NA      NA\n",
       "6   55.33333     NA  ...   668.00       NA       NA     NA   138.000      NA\n",
       "  CHP_413 CHP_387   CHP_367 MeanFisher  \n",
       "1 26603   62.723404 273.6   1.317950e-03\n",
       "2    NA          NA    NA   0.000000e+00\n",
       "3    NA          NA    NA   7.400000e-38\n",
       "4    NA          NA    NA   8.913701e-04\n",
       "5    NA          NA    NA   1.587323e-04\n",
       "6    NA    4.333333    NA   1.693262e-04"
      ]
     },
     "metadata": {},
     "output_type": "display_data"
    }
   ],
   "source": [
    "head(comppat_mat)"
   ]
  },
  {
   "cell_type": "code",
   "execution_count": 49,
   "metadata": {
    "vscode": {
     "languageId": "r"
    }
   },
   "outputs": [],
   "source": [
    "comppat_mat$Component_id <- rownames(comppat_mat)"
   ]
  },
  {
   "cell_type": "code",
   "execution_count": 50,
   "metadata": {
    "vscode": {
     "languageId": "r"
    }
   },
   "outputs": [
    {
     "data": {
      "text/html": [
       "<style>\n",
       ".list-inline {list-style: none; margin:0; padding: 0}\n",
       ".list-inline>li {display: inline-block}\n",
       ".list-inline>li:not(:last-child)::after {content: \"\\00b7\"; padding: 0 .5ex}\n",
       "</style>\n",
       "<ol class=list-inline><li>'Component_id'</li><li>'Component_size'</li><li>'PatientDerived_Nodes'</li><li>'NumberOf_PatientDerived_Nodes'</li><li>'Number_of_Patients'</li><li>'Sample_Type_Range'</li><li>'Timepoint_Range'</li><li>'Number_of_Timepoints'</li><li>'Component_specificity'</li><li>'KnownExternalTCRs'</li></ol>\n"
      ],
      "text/latex": [
       "\\begin{enumerate*}\n",
       "\\item 'Component\\_id'\n",
       "\\item 'Component\\_size'\n",
       "\\item 'PatientDerived\\_Nodes'\n",
       "\\item 'NumberOf\\_PatientDerived\\_Nodes'\n",
       "\\item 'Number\\_of\\_Patients'\n",
       "\\item 'Sample\\_Type\\_Range'\n",
       "\\item 'Timepoint\\_Range'\n",
       "\\item 'Number\\_of\\_Timepoints'\n",
       "\\item 'Component\\_specificity'\n",
       "\\item 'KnownExternalTCRs'\n",
       "\\end{enumerate*}\n"
      ],
      "text/markdown": [
       "1. 'Component_id'\n",
       "2. 'Component_size'\n",
       "3. 'PatientDerived_Nodes'\n",
       "4. 'NumberOf_PatientDerived_Nodes'\n",
       "5. 'Number_of_Patients'\n",
       "6. 'Sample_Type_Range'\n",
       "7. 'Timepoint_Range'\n",
       "8. 'Number_of_Timepoints'\n",
       "9. 'Component_specificity'\n",
       "10. 'KnownExternalTCRs'\n",
       "\n",
       "\n"
      ],
      "text/plain": [
       " [1] \"Component_id\"                  \"Component_size\"               \n",
       " [3] \"PatientDerived_Nodes\"          \"NumberOf_PatientDerived_Nodes\"\n",
       " [5] \"Number_of_Patients\"            \"Sample_Type_Range\"            \n",
       " [7] \"Timepoint_Range\"               \"Number_of_Timepoints\"         \n",
       " [9] \"Component_specificity\"         \"KnownExternalTCRs\"            "
      ]
     },
     "metadata": {},
     "output_type": "display_data"
    }
   ],
   "source": [
    "colnames(components)"
   ]
  },
  {
   "cell_type": "code",
   "execution_count": 51,
   "metadata": {
    "vscode": {
     "languageId": "r"
    }
   },
   "outputs": [],
   "source": [
    "# match component_ids and add Component_specificity from components to comppat_mat\n",
    "comppat_mat$Component_specificity <- components$Component_specificity[match(comppat_mat$Component_id, components$Component_id)]"
   ]
  },
  {
   "cell_type": "code",
   "execution_count": 52,
   "metadata": {
    "vscode": {
     "languageId": "r"
    }
   },
   "outputs": [],
   "source": [
    "# remove cancergroups from Component_specificity\n",
    "comppat_mat$Component_specificity <- gsub(\"Lymphoma\", \"\", comppat_mat$Component_specificity)\n",
    "comppat_mat$Component_specificity <- gsub(\"Leukemia\", \"\", comppat_mat$Component_specificity)\n",
    "comppat_mat$Component_specificity <- gsub(\"LFS\", \"\", comppat_mat$Component_specificity)\n",
    "comppat_mat$Component_specificity <- gsub(\"Solidtumors\", \"\", comppat_mat$Component_specificity)\n",
    "comppat_mat$Component_specificity <- gsub(\"T-cellmalignancies\", \"\", comppat_mat$Component_specificity)\n",
    "comppat_mat$Component_specificity <- gsub(\"Normal\", \"\", comppat_mat$Component_specificity)\n",
    "comppat_mat$Component_specificity <- gsub(\"MDavis\", \"\", comppat_mat$Component_specificity)"
   ]
  },
  {
   "cell_type": "code",
   "execution_count": 53,
   "metadata": {
    "vscode": {
     "languageId": "r"
    }
   },
   "outputs": [],
   "source": [
    "comppat_mat$Component_specificity <- gsub(\",,\", \"\", comppat_mat$Component_specificity)\n",
    "# trailing ,\n",
    "comppat_mat$Component_specificity <- gsub(\",$\", \"\", comppat_mat$Component_specificity)\n",
    "# leading ,\n",
    "comppat_mat$Component_specificity <- gsub(\"^,\", \"\", comppat_mat$Component_specificity)"
   ]
  },
  {
   "cell_type": "code",
   "execution_count": 54,
   "metadata": {
    "vscode": {
     "languageId": "r"
    }
   },
   "outputs": [
    {
     "data": {
      "text/html": [
       "<table class=\"dataframe\">\n",
       "<caption>A data.frame: 6 x 36</caption>\n",
       "<thead>\n",
       "\t<tr><th></th><th scope=col>CHP_396</th><th scope=col>CHP_357</th><th scope=col>CHP_404</th><th scope=col>CHP_408</th><th scope=col>CHP_381</th><th scope=col>CHP_409</th><th scope=col>CHP_373</th><th scope=col>CHP_405</th><th scope=col>CHP_353</th><th scope=col>CHP_415</th><th scope=col>...</th><th scope=col>CHP_397</th><th scope=col>CHP_370</th><th scope=col>CHP_410</th><th scope=col>CHP_349</th><th scope=col>CHP_413</th><th scope=col>CHP_387</th><th scope=col>CHP_367</th><th scope=col>MeanFisher</th><th scope=col>Component_id</th><th scope=col>Component_specificity</th></tr>\n",
       "\t<tr><th></th><th scope=col>&lt;dbl&gt;</th><th scope=col>&lt;dbl&gt;</th><th scope=col>&lt;dbl&gt;</th><th scope=col>&lt;dbl&gt;</th><th scope=col>&lt;dbl&gt;</th><th scope=col>&lt;dbl&gt;</th><th scope=col>&lt;dbl&gt;</th><th scope=col>&lt;dbl&gt;</th><th scope=col>&lt;dbl&gt;</th><th scope=col>&lt;dbl&gt;</th><th scope=col>...</th><th scope=col>&lt;dbl&gt;</th><th scope=col>&lt;dbl&gt;</th><th scope=col>&lt;dbl&gt;</th><th scope=col>&lt;dbl&gt;</th><th scope=col>&lt;dbl&gt;</th><th scope=col>&lt;dbl&gt;</th><th scope=col>&lt;dbl&gt;</th><th scope=col>&lt;dbl&gt;</th><th scope=col>&lt;chr&gt;</th><th scope=col>&lt;chr&gt;</th></tr>\n",
       "</thead>\n",
       "<tbody>\n",
       "\t<tr><th scope=row>244</th><td> NA</td><td>NA</td><td>NA</td><td>NA</td><td>NA</td><td>NA</td><td>NA</td><td>NA</td><td>NA</td><td>NA</td><td>...</td><td>NA</td><td>NA</td><td>NA</td><td>NA</td><td>NA</td><td>NA</td><td>NA</td><td>0.035</td><td>244</td><td>S-pneumoniae</td></tr>\n",
       "\t<tr><th scope=row>245</th><td> NA</td><td>NA</td><td>NA</td><td>NA</td><td>NA</td><td>NA</td><td>NA</td><td>NA</td><td>NA</td><td>NA</td><td>...</td><td>NA</td><td>NA</td><td>NA</td><td>NA</td><td>NA</td><td>NA</td><td>NA</td><td>  NaN</td><td>245</td><td>            </td></tr>\n",
       "\t<tr><th scope=row>246</th><td> NA</td><td>NA</td><td>NA</td><td>NA</td><td>NA</td><td>NA</td><td>NA</td><td>NA</td><td>NA</td><td>NA</td><td>...</td><td>NA</td><td>NA</td><td>NA</td><td>NA</td><td>NA</td><td>NA</td><td>NA</td><td>  NaN</td><td>246</td><td>            </td></tr>\n",
       "\t<tr><th scope=row>247</th><td> NA</td><td>NA</td><td>NA</td><td>NA</td><td>NA</td><td>NA</td><td>NA</td><td>NA</td><td>NA</td><td>NA</td><td>...</td><td>NA</td><td>NA</td><td>NA</td><td>NA</td><td>NA</td><td>NA</td><td>NA</td><td>0.056</td><td>247</td><td>            </td></tr>\n",
       "\t<tr><th scope=row>248</th><td>-80</td><td>NA</td><td>NA</td><td>NA</td><td>NA</td><td>NA</td><td>NA</td><td>NA</td><td>NA</td><td>NA</td><td>...</td><td>NA</td><td>NA</td><td>NA</td><td>NA</td><td>NA</td><td>NA</td><td>NA</td><td>0.095</td><td>248</td><td>            </td></tr>\n",
       "\t<tr><th scope=row>249</th><td> NA</td><td>NA</td><td>NA</td><td>NA</td><td>NA</td><td>NA</td><td>NA</td><td>NA</td><td>NA</td><td>NA</td><td>...</td><td>NA</td><td>NA</td><td>NA</td><td>NA</td><td>NA</td><td>NA</td><td>NA</td><td>0.100</td><td>249</td><td>            </td></tr>\n",
       "</tbody>\n",
       "</table>\n"
      ],
      "text/latex": [
       "A data.frame: 6 x 36\n",
       "\\begin{tabular}{r|lllllllllllllllllllll}\n",
       "  & CHP\\_396 & CHP\\_357 & CHP\\_404 & CHP\\_408 & CHP\\_381 & CHP\\_409 & CHP\\_373 & CHP\\_405 & CHP\\_353 & CHP\\_415 & ... & CHP\\_397 & CHP\\_370 & CHP\\_410 & CHP\\_349 & CHP\\_413 & CHP\\_387 & CHP\\_367 & MeanFisher & Component\\_id & Component\\_specificity\\\\\n",
       "  & <dbl> & <dbl> & <dbl> & <dbl> & <dbl> & <dbl> & <dbl> & <dbl> & <dbl> & <dbl> & ... & <dbl> & <dbl> & <dbl> & <dbl> & <dbl> & <dbl> & <dbl> & <dbl> & <chr> & <chr>\\\\\n",
       "\\hline\n",
       "\t244 &  NA & NA & NA & NA & NA & NA & NA & NA & NA & NA & ... & NA & NA & NA & NA & NA & NA & NA & 0.035 & 244 & S-pneumoniae\\\\\n",
       "\t245 &  NA & NA & NA & NA & NA & NA & NA & NA & NA & NA & ... & NA & NA & NA & NA & NA & NA & NA &   NaN & 245 &             \\\\\n",
       "\t246 &  NA & NA & NA & NA & NA & NA & NA & NA & NA & NA & ... & NA & NA & NA & NA & NA & NA & NA &   NaN & 246 &             \\\\\n",
       "\t247 &  NA & NA & NA & NA & NA & NA & NA & NA & NA & NA & ... & NA & NA & NA & NA & NA & NA & NA & 0.056 & 247 &             \\\\\n",
       "\t248 & -80 & NA & NA & NA & NA & NA & NA & NA & NA & NA & ... & NA & NA & NA & NA & NA & NA & NA & 0.095 & 248 &             \\\\\n",
       "\t249 &  NA & NA & NA & NA & NA & NA & NA & NA & NA & NA & ... & NA & NA & NA & NA & NA & NA & NA & 0.100 & 249 &             \\\\\n",
       "\\end{tabular}\n"
      ],
      "text/markdown": [
       "\n",
       "A data.frame: 6 x 36\n",
       "\n",
       "| <!--/--> | CHP_396 &lt;dbl&gt; | CHP_357 &lt;dbl&gt; | CHP_404 &lt;dbl&gt; | CHP_408 &lt;dbl&gt; | CHP_381 &lt;dbl&gt; | CHP_409 &lt;dbl&gt; | CHP_373 &lt;dbl&gt; | CHP_405 &lt;dbl&gt; | CHP_353 &lt;dbl&gt; | CHP_415 &lt;dbl&gt; | ... ... | CHP_397 &lt;dbl&gt; | CHP_370 &lt;dbl&gt; | CHP_410 &lt;dbl&gt; | CHP_349 &lt;dbl&gt; | CHP_413 &lt;dbl&gt; | CHP_387 &lt;dbl&gt; | CHP_367 &lt;dbl&gt; | MeanFisher &lt;dbl&gt; | Component_id &lt;chr&gt; | Component_specificity &lt;chr&gt; |\n",
       "|---|---|---|---|---|---|---|---|---|---|---|---|---|---|---|---|---|---|---|---|---|---|\n",
       "| 244 |  NA | NA | NA | NA | NA | NA | NA | NA | NA | NA | ... | NA | NA | NA | NA | NA | NA | NA | 0.035 | 244 | S-pneumoniae |\n",
       "| 245 |  NA | NA | NA | NA | NA | NA | NA | NA | NA | NA | ... | NA | NA | NA | NA | NA | NA | NA |   NaN | 245 | <!----> |\n",
       "| 246 |  NA | NA | NA | NA | NA | NA | NA | NA | NA | NA | ... | NA | NA | NA | NA | NA | NA | NA |   NaN | 246 | <!----> |\n",
       "| 247 |  NA | NA | NA | NA | NA | NA | NA | NA | NA | NA | ... | NA | NA | NA | NA | NA | NA | NA | 0.056 | 247 | <!----> |\n",
       "| 248 | -80 | NA | NA | NA | NA | NA | NA | NA | NA | NA | ... | NA | NA | NA | NA | NA | NA | NA | 0.095 | 248 | <!----> |\n",
       "| 249 |  NA | NA | NA | NA | NA | NA | NA | NA | NA | NA | ... | NA | NA | NA | NA | NA | NA | NA | 0.100 | 249 | <!----> |\n",
       "\n"
      ],
      "text/plain": [
       "    CHP_396 CHP_357 CHP_404 CHP_408 CHP_381 CHP_409 CHP_373 CHP_405 CHP_353\n",
       "244  NA     NA      NA      NA      NA      NA      NA      NA      NA     \n",
       "245  NA     NA      NA      NA      NA      NA      NA      NA      NA     \n",
       "246  NA     NA      NA      NA      NA      NA      NA      NA      NA     \n",
       "247  NA     NA      NA      NA      NA      NA      NA      NA      NA     \n",
       "248 -80     NA      NA      NA      NA      NA      NA      NA      NA     \n",
       "249  NA     NA      NA      NA      NA      NA      NA      NA      NA     \n",
       "    CHP_415 ... CHP_397 CHP_370 CHP_410 CHP_349 CHP_413 CHP_387 CHP_367\n",
       "244 NA      ... NA      NA      NA      NA      NA      NA      NA     \n",
       "245 NA      ... NA      NA      NA      NA      NA      NA      NA     \n",
       "246 NA      ... NA      NA      NA      NA      NA      NA      NA     \n",
       "247 NA      ... NA      NA      NA      NA      NA      NA      NA     \n",
       "248 NA      ... NA      NA      NA      NA      NA      NA      NA     \n",
       "249 NA      ... NA      NA      NA      NA      NA      NA      NA     \n",
       "    MeanFisher Component_id Component_specificity\n",
       "244 0.035      244          S-pneumoniae         \n",
       "245   NaN      245                               \n",
       "246   NaN      246                               \n",
       "247 0.056      247                               \n",
       "248 0.095      248                               \n",
       "249 0.100      249                               "
      ]
     },
     "metadata": {},
     "output_type": "display_data"
    }
   ],
   "source": [
    "tail(comppat_mat)"
   ]
  },
  {
   "cell_type": "code",
   "execution_count": 55,
   "metadata": {
    "vscode": {
     "languageId": "r"
    }
   },
   "outputs": [],
   "source": [
    "# long format keep fisher and gliph as columns\n",
    "comppat_mat_long <- tidyr::pivot_longer(comppat_mat, -c(\"MeanFisher\", \"Component_id\", \"Component_specificity\"), names_to = \"Patient\", values_to = \"Delta\")"
   ]
  },
  {
   "cell_type": "code",
   "execution_count": 56,
   "metadata": {
    "vscode": {
     "languageId": "r"
    }
   },
   "outputs": [],
   "source": [
    "# remove rows with NA\n",
    "comppat_mat_long <- comppat_mat_long[ !is.na(comppat_mat_long$Delta), ]"
   ]
  },
  {
   "cell_type": "code",
   "execution_count": 57,
   "metadata": {
    "vscode": {
     "languageId": "r"
    }
   },
   "outputs": [
    {
     "data": {
      "text/html": [
       "<table class=\"dataframe\">\n",
       "<caption>A tibble: 6 x 5</caption>\n",
       "<thead>\n",
       "\t<tr><th scope=col>MeanFisher</th><th scope=col>Component_id</th><th scope=col>Component_specificity</th><th scope=col>Patient</th><th scope=col>Delta</th></tr>\n",
       "\t<tr><th scope=col>&lt;dbl&gt;</th><th scope=col>&lt;chr&gt;</th><th scope=col>&lt;chr&gt;</th><th scope=col>&lt;chr&gt;</th><th scope=col>&lt;dbl&gt;</th></tr>\n",
       "</thead>\n",
       "<tbody>\n",
       "\t<tr><td>0.00131795</td><td>1</td><td>CEF,CMV,EBV,HCV,HomoSapiens,HPV,InfluenzaM.tuberculosis,MCPyV,S-pneumoniae</td><td>CHP_396</td><td>31185.250</td></tr>\n",
       "\t<tr><td>0.00131795</td><td>1</td><td>CEF,CMV,EBV,HCV,HomoSapiens,HPV,InfluenzaM.tuberculosis,MCPyV,S-pneumoniae</td><td>CHP_357</td><td> 2325.949</td></tr>\n",
       "\t<tr><td>0.00131795</td><td>1</td><td>CEF,CMV,EBV,HCV,HomoSapiens,HPV,InfluenzaM.tuberculosis,MCPyV,S-pneumoniae</td><td>CHP_404</td><td>19306.571</td></tr>\n",
       "\t<tr><td>0.00131795</td><td>1</td><td>CEF,CMV,EBV,HCV,HomoSapiens,HPV,InfluenzaM.tuberculosis,MCPyV,S-pneumoniae</td><td>CHP_408</td><td>12379.500</td></tr>\n",
       "\t<tr><td>0.00131795</td><td>1</td><td>CEF,CMV,EBV,HCV,HomoSapiens,HPV,InfluenzaM.tuberculosis,MCPyV,S-pneumoniae</td><td>CHP_381</td><td> 1199.403</td></tr>\n",
       "\t<tr><td>0.00131795</td><td>1</td><td>CEF,CMV,EBV,HCV,HomoSapiens,HPV,InfluenzaM.tuberculosis,MCPyV,S-pneumoniae</td><td>CHP_409</td><td> 1530.263</td></tr>\n",
       "</tbody>\n",
       "</table>\n"
      ],
      "text/latex": [
       "A tibble: 6 x 5\n",
       "\\begin{tabular}{lllll}\n",
       " MeanFisher & Component\\_id & Component\\_specificity & Patient & Delta\\\\\n",
       " <dbl> & <chr> & <chr> & <chr> & <dbl>\\\\\n",
       "\\hline\n",
       "\t 0.00131795 & 1 & CEF,CMV,EBV,HCV,HomoSapiens,HPV,InfluenzaM.tuberculosis,MCPyV,S-pneumoniae & CHP\\_396 & 31185.250\\\\\n",
       "\t 0.00131795 & 1 & CEF,CMV,EBV,HCV,HomoSapiens,HPV,InfluenzaM.tuberculosis,MCPyV,S-pneumoniae & CHP\\_357 &  2325.949\\\\\n",
       "\t 0.00131795 & 1 & CEF,CMV,EBV,HCV,HomoSapiens,HPV,InfluenzaM.tuberculosis,MCPyV,S-pneumoniae & CHP\\_404 & 19306.571\\\\\n",
       "\t 0.00131795 & 1 & CEF,CMV,EBV,HCV,HomoSapiens,HPV,InfluenzaM.tuberculosis,MCPyV,S-pneumoniae & CHP\\_408 & 12379.500\\\\\n",
       "\t 0.00131795 & 1 & CEF,CMV,EBV,HCV,HomoSapiens,HPV,InfluenzaM.tuberculosis,MCPyV,S-pneumoniae & CHP\\_381 &  1199.403\\\\\n",
       "\t 0.00131795 & 1 & CEF,CMV,EBV,HCV,HomoSapiens,HPV,InfluenzaM.tuberculosis,MCPyV,S-pneumoniae & CHP\\_409 &  1530.263\\\\\n",
       "\\end{tabular}\n"
      ],
      "text/markdown": [
       "\n",
       "A tibble: 6 x 5\n",
       "\n",
       "| MeanFisher &lt;dbl&gt; | Component_id &lt;chr&gt; | Component_specificity &lt;chr&gt; | Patient &lt;chr&gt; | Delta &lt;dbl&gt; |\n",
       "|---|---|---|---|---|\n",
       "| 0.00131795 | 1 | CEF,CMV,EBV,HCV,HomoSapiens,HPV,InfluenzaM.tuberculosis,MCPyV,S-pneumoniae | CHP_396 | 31185.250 |\n",
       "| 0.00131795 | 1 | CEF,CMV,EBV,HCV,HomoSapiens,HPV,InfluenzaM.tuberculosis,MCPyV,S-pneumoniae | CHP_357 |  2325.949 |\n",
       "| 0.00131795 | 1 | CEF,CMV,EBV,HCV,HomoSapiens,HPV,InfluenzaM.tuberculosis,MCPyV,S-pneumoniae | CHP_404 | 19306.571 |\n",
       "| 0.00131795 | 1 | CEF,CMV,EBV,HCV,HomoSapiens,HPV,InfluenzaM.tuberculosis,MCPyV,S-pneumoniae | CHP_408 | 12379.500 |\n",
       "| 0.00131795 | 1 | CEF,CMV,EBV,HCV,HomoSapiens,HPV,InfluenzaM.tuberculosis,MCPyV,S-pneumoniae | CHP_381 |  1199.403 |\n",
       "| 0.00131795 | 1 | CEF,CMV,EBV,HCV,HomoSapiens,HPV,InfluenzaM.tuberculosis,MCPyV,S-pneumoniae | CHP_409 |  1530.263 |\n",
       "\n"
      ],
      "text/plain": [
       "  MeanFisher Component_id\n",
       "1 0.00131795 1           \n",
       "2 0.00131795 1           \n",
       "3 0.00131795 1           \n",
       "4 0.00131795 1           \n",
       "5 0.00131795 1           \n",
       "6 0.00131795 1           \n",
       "  Component_specificity                                                     \n",
       "1 CEF,CMV,EBV,HCV,HomoSapiens,HPV,InfluenzaM.tuberculosis,MCPyV,S-pneumoniae\n",
       "2 CEF,CMV,EBV,HCV,HomoSapiens,HPV,InfluenzaM.tuberculosis,MCPyV,S-pneumoniae\n",
       "3 CEF,CMV,EBV,HCV,HomoSapiens,HPV,InfluenzaM.tuberculosis,MCPyV,S-pneumoniae\n",
       "4 CEF,CMV,EBV,HCV,HomoSapiens,HPV,InfluenzaM.tuberculosis,MCPyV,S-pneumoniae\n",
       "5 CEF,CMV,EBV,HCV,HomoSapiens,HPV,InfluenzaM.tuberculosis,MCPyV,S-pneumoniae\n",
       "6 CEF,CMV,EBV,HCV,HomoSapiens,HPV,InfluenzaM.tuberculosis,MCPyV,S-pneumoniae\n",
       "  Patient Delta    \n",
       "1 CHP_396 31185.250\n",
       "2 CHP_357  2325.949\n",
       "3 CHP_404 19306.571\n",
       "4 CHP_408 12379.500\n",
       "5 CHP_381  1199.403\n",
       "6 CHP_409  1530.263"
      ]
     },
     "metadata": {},
     "output_type": "display_data"
    }
   ],
   "source": [
    "head(comppat_mat_long)"
   ]
  },
  {
   "cell_type": "code",
   "execution_count": 58,
   "metadata": {
    "vscode": {
     "languageId": "r"
    }
   },
   "outputs": [],
   "source": [
    "comppat_mat_long$cancergroup <- meta_div$cancergroup[match(comppat_mat_long$Patient, meta_div$Patient)]\n",
    "comppat_mat_long$Disease <- meta_div$Disease_type[match(comppat_mat_long$Patient, meta_div$Patient)]\n",
    "comppat_mat_long$Relapse <- meta_div$Relapse[match(comppat_mat_long$Patient, meta_div$Patient)]"
   ]
  },
  {
   "cell_type": "code",
   "execution_count": 59,
   "metadata": {
    "vscode": {
     "languageId": "r"
    }
   },
   "outputs": [
    {
     "data": {
      "text/html": [
       "<table class=\"dataframe\">\n",
       "<caption>A tibble: 6 x 8</caption>\n",
       "<thead>\n",
       "\t<tr><th scope=col>MeanFisher</th><th scope=col>Component_id</th><th scope=col>Component_specificity</th><th scope=col>Patient</th><th scope=col>Delta</th><th scope=col>cancergroup</th><th scope=col>Disease</th><th scope=col>Relapse</th></tr>\n",
       "\t<tr><th scope=col>&lt;dbl&gt;</th><th scope=col>&lt;chr&gt;</th><th scope=col>&lt;chr&gt;</th><th scope=col>&lt;chr&gt;</th><th scope=col>&lt;dbl&gt;</th><th scope=col>&lt;chr&gt;</th><th scope=col>&lt;chr&gt;</th><th scope=col>&lt;int&gt;</th></tr>\n",
       "</thead>\n",
       "<tbody>\n",
       "\t<tr><td>0.00131795</td><td>1</td><td>CEF,CMV,EBV,HCV,HomoSapiens,HPV,InfluenzaM.tuberculosis,MCPyV,S-pneumoniae</td><td>CHP_396</td><td>31185.250</td><td>Leukemia    </td><td>HR ALL</td><td>0</td></tr>\n",
       "\t<tr><td>0.00131795</td><td>1</td><td>CEF,CMV,EBV,HCV,HomoSapiens,HPV,InfluenzaM.tuberculosis,MCPyV,S-pneumoniae</td><td>CHP_357</td><td> 2325.949</td><td>Leukemia    </td><td>AML   </td><td>0</td></tr>\n",
       "\t<tr><td>0.00131795</td><td>1</td><td>CEF,CMV,EBV,HCV,HomoSapiens,HPV,InfluenzaM.tuberculosis,MCPyV,S-pneumoniae</td><td>CHP_404</td><td>19306.571</td><td>Solid tumors</td><td>ERMS  </td><td>0</td></tr>\n",
       "\t<tr><td>0.00131795</td><td>1</td><td>CEF,CMV,EBV,HCV,HomoSapiens,HPV,InfluenzaM.tuberculosis,MCPyV,S-pneumoniae</td><td>CHP_408</td><td>12379.500</td><td>Solid tumors</td><td>OS    </td><td>0</td></tr>\n",
       "\t<tr><td>0.00131795</td><td>1</td><td>CEF,CMV,EBV,HCV,HomoSapiens,HPV,InfluenzaM.tuberculosis,MCPyV,S-pneumoniae</td><td>CHP_381</td><td> 1199.403</td><td>Solid tumors</td><td>EWS   </td><td>0</td></tr>\n",
       "\t<tr><td>0.00131795</td><td>1</td><td>CEF,CMV,EBV,HCV,HomoSapiens,HPV,InfluenzaM.tuberculosis,MCPyV,S-pneumoniae</td><td>CHP_409</td><td> 1530.263</td><td>Solid tumors</td><td>EWS   </td><td>0</td></tr>\n",
       "</tbody>\n",
       "</table>\n"
      ],
      "text/latex": [
       "A tibble: 6 x 8\n",
       "\\begin{tabular}{llllllll}\n",
       " MeanFisher & Component\\_id & Component\\_specificity & Patient & Delta & cancergroup & Disease & Relapse\\\\\n",
       " <dbl> & <chr> & <chr> & <chr> & <dbl> & <chr> & <chr> & <int>\\\\\n",
       "\\hline\n",
       "\t 0.00131795 & 1 & CEF,CMV,EBV,HCV,HomoSapiens,HPV,InfluenzaM.tuberculosis,MCPyV,S-pneumoniae & CHP\\_396 & 31185.250 & Leukemia     & HR ALL & 0\\\\\n",
       "\t 0.00131795 & 1 & CEF,CMV,EBV,HCV,HomoSapiens,HPV,InfluenzaM.tuberculosis,MCPyV,S-pneumoniae & CHP\\_357 &  2325.949 & Leukemia     & AML    & 0\\\\\n",
       "\t 0.00131795 & 1 & CEF,CMV,EBV,HCV,HomoSapiens,HPV,InfluenzaM.tuberculosis,MCPyV,S-pneumoniae & CHP\\_404 & 19306.571 & Solid tumors & ERMS   & 0\\\\\n",
       "\t 0.00131795 & 1 & CEF,CMV,EBV,HCV,HomoSapiens,HPV,InfluenzaM.tuberculosis,MCPyV,S-pneumoniae & CHP\\_408 & 12379.500 & Solid tumors & OS     & 0\\\\\n",
       "\t 0.00131795 & 1 & CEF,CMV,EBV,HCV,HomoSapiens,HPV,InfluenzaM.tuberculosis,MCPyV,S-pneumoniae & CHP\\_381 &  1199.403 & Solid tumors & EWS    & 0\\\\\n",
       "\t 0.00131795 & 1 & CEF,CMV,EBV,HCV,HomoSapiens,HPV,InfluenzaM.tuberculosis,MCPyV,S-pneumoniae & CHP\\_409 &  1530.263 & Solid tumors & EWS    & 0\\\\\n",
       "\\end{tabular}\n"
      ],
      "text/markdown": [
       "\n",
       "A tibble: 6 x 8\n",
       "\n",
       "| MeanFisher &lt;dbl&gt; | Component_id &lt;chr&gt; | Component_specificity &lt;chr&gt; | Patient &lt;chr&gt; | Delta &lt;dbl&gt; | cancergroup &lt;chr&gt; | Disease &lt;chr&gt; | Relapse &lt;int&gt; |\n",
       "|---|---|---|---|---|---|---|---|\n",
       "| 0.00131795 | 1 | CEF,CMV,EBV,HCV,HomoSapiens,HPV,InfluenzaM.tuberculosis,MCPyV,S-pneumoniae | CHP_396 | 31185.250 | Leukemia     | HR ALL | 0 |\n",
       "| 0.00131795 | 1 | CEF,CMV,EBV,HCV,HomoSapiens,HPV,InfluenzaM.tuberculosis,MCPyV,S-pneumoniae | CHP_357 |  2325.949 | Leukemia     | AML    | 0 |\n",
       "| 0.00131795 | 1 | CEF,CMV,EBV,HCV,HomoSapiens,HPV,InfluenzaM.tuberculosis,MCPyV,S-pneumoniae | CHP_404 | 19306.571 | Solid tumors | ERMS   | 0 |\n",
       "| 0.00131795 | 1 | CEF,CMV,EBV,HCV,HomoSapiens,HPV,InfluenzaM.tuberculosis,MCPyV,S-pneumoniae | CHP_408 | 12379.500 | Solid tumors | OS     | 0 |\n",
       "| 0.00131795 | 1 | CEF,CMV,EBV,HCV,HomoSapiens,HPV,InfluenzaM.tuberculosis,MCPyV,S-pneumoniae | CHP_381 |  1199.403 | Solid tumors | EWS    | 0 |\n",
       "| 0.00131795 | 1 | CEF,CMV,EBV,HCV,HomoSapiens,HPV,InfluenzaM.tuberculosis,MCPyV,S-pneumoniae | CHP_409 |  1530.263 | Solid tumors | EWS    | 0 |\n",
       "\n"
      ],
      "text/plain": [
       "  MeanFisher Component_id\n",
       "1 0.00131795 1           \n",
       "2 0.00131795 1           \n",
       "3 0.00131795 1           \n",
       "4 0.00131795 1           \n",
       "5 0.00131795 1           \n",
       "6 0.00131795 1           \n",
       "  Component_specificity                                                     \n",
       "1 CEF,CMV,EBV,HCV,HomoSapiens,HPV,InfluenzaM.tuberculosis,MCPyV,S-pneumoniae\n",
       "2 CEF,CMV,EBV,HCV,HomoSapiens,HPV,InfluenzaM.tuberculosis,MCPyV,S-pneumoniae\n",
       "3 CEF,CMV,EBV,HCV,HomoSapiens,HPV,InfluenzaM.tuberculosis,MCPyV,S-pneumoniae\n",
       "4 CEF,CMV,EBV,HCV,HomoSapiens,HPV,InfluenzaM.tuberculosis,MCPyV,S-pneumoniae\n",
       "5 CEF,CMV,EBV,HCV,HomoSapiens,HPV,InfluenzaM.tuberculosis,MCPyV,S-pneumoniae\n",
       "6 CEF,CMV,EBV,HCV,HomoSapiens,HPV,InfluenzaM.tuberculosis,MCPyV,S-pneumoniae\n",
       "  Patient Delta     cancergroup  Disease Relapse\n",
       "1 CHP_396 31185.250 Leukemia     HR ALL  0      \n",
       "2 CHP_357  2325.949 Leukemia     AML     0      \n",
       "3 CHP_404 19306.571 Solid tumors ERMS    0      \n",
       "4 CHP_408 12379.500 Solid tumors OS      0      \n",
       "5 CHP_381  1199.403 Solid tumors EWS     0      \n",
       "6 CHP_409  1530.263 Solid tumors EWS     0      "
      ]
     },
     "metadata": {},
     "output_type": "display_data"
    }
   ],
   "source": [
    "head(comppat_mat_long)"
   ]
  },
  {
   "cell_type": "code",
   "execution_count": 60,
   "metadata": {
    "vscode": {
     "languageId": "r"
    }
   },
   "outputs": [
    {
     "data": {
      "text/html": [
       "<style>\n",
       ".dl-inline {width: auto; margin:0; padding: 0}\n",
       ".dl-inline>dt, .dl-inline>dd {float: none; width: auto; display: inline-block}\n",
       ".dl-inline>dt::after {content: \":\\0020\"; padding-right: .5ex}\n",
       ".dl-inline>dt:not(:first-of-type) {padding-left: .5ex}\n",
       "</style><dl class=dl-inline><dt>10%</dt><dd>-46.5</dd><dt>90%</dt><dd>8613.16813186814</dd></dl>\n"
      ],
      "text/latex": [
       "\\begin{description*}\n",
       "\\item[10\\textbackslash{}\\%] -46.5\n",
       "\\item[90\\textbackslash{}\\%] 8613.16813186814\n",
       "\\end{description*}\n"
      ],
      "text/markdown": [
       "10%\n",
       ":   -46.590%\n",
       ":   8613.16813186814\n",
       "\n"
      ],
      "text/plain": [
       "     10%      90% \n",
       " -46.500 8613.168 "
      ]
     },
     "metadata": {},
     "output_type": "display_data"
    }
   ],
   "source": [
    "quantile(comppat_mat_long$Delta, c(0.1, 0.9))"
   ]
  },
  {
   "cell_type": "code",
   "execution_count": 61,
   "metadata": {
    "vscode": {
     "languageId": "r"
    }
   },
   "outputs": [],
   "source": [
    "# comppat_mat_long$antigen[ is.na(comppat_mat_long$antigen)] <- \"Unknown\""
   ]
  },
  {
   "cell_type": "code",
   "execution_count": 62,
   "metadata": {
    "vscode": {
     "languageId": "r"
    }
   },
   "outputs": [],
   "source": [
    "comppat_mat_long$log10MeanFisher <- -log10(comppat_mat_long$MeanFisher)"
   ]
  },
  {
   "cell_type": "code",
   "execution_count": 63,
   "metadata": {
    "vscode": {
     "languageId": "r"
    }
   },
   "outputs": [
    {
     "data": {
      "text/html": [
       "<table class=\"dataframe\">\n",
       "<caption>A tibble: 6 x 9</caption>\n",
       "<thead>\n",
       "\t<tr><th scope=col>MeanFisher</th><th scope=col>Component_id</th><th scope=col>Component_specificity</th><th scope=col>Patient</th><th scope=col>Delta</th><th scope=col>cancergroup</th><th scope=col>Disease</th><th scope=col>Relapse</th><th scope=col>log10MeanFisher</th></tr>\n",
       "\t<tr><th scope=col>&lt;dbl&gt;</th><th scope=col>&lt;chr&gt;</th><th scope=col>&lt;chr&gt;</th><th scope=col>&lt;chr&gt;</th><th scope=col>&lt;dbl&gt;</th><th scope=col>&lt;chr&gt;</th><th scope=col>&lt;chr&gt;</th><th scope=col>&lt;int&gt;</th><th scope=col>&lt;dbl&gt;</th></tr>\n",
       "</thead>\n",
       "<tbody>\n",
       "\t<tr><td>0.00131795</td><td>1</td><td>CEF,CMV,EBV,HCV,HomoSapiens,HPV,InfluenzaM.tuberculosis,MCPyV,S-pneumoniae</td><td>CHP_396</td><td>31185.250</td><td>Leukemia    </td><td>HR ALL</td><td>0</td><td>2.880101</td></tr>\n",
       "\t<tr><td>0.00131795</td><td>1</td><td>CEF,CMV,EBV,HCV,HomoSapiens,HPV,InfluenzaM.tuberculosis,MCPyV,S-pneumoniae</td><td>CHP_357</td><td> 2325.949</td><td>Leukemia    </td><td>AML   </td><td>0</td><td>2.880101</td></tr>\n",
       "\t<tr><td>0.00131795</td><td>1</td><td>CEF,CMV,EBV,HCV,HomoSapiens,HPV,InfluenzaM.tuberculosis,MCPyV,S-pneumoniae</td><td>CHP_404</td><td>19306.571</td><td>Solid tumors</td><td>ERMS  </td><td>0</td><td>2.880101</td></tr>\n",
       "\t<tr><td>0.00131795</td><td>1</td><td>CEF,CMV,EBV,HCV,HomoSapiens,HPV,InfluenzaM.tuberculosis,MCPyV,S-pneumoniae</td><td>CHP_408</td><td>12379.500</td><td>Solid tumors</td><td>OS    </td><td>0</td><td>2.880101</td></tr>\n",
       "\t<tr><td>0.00131795</td><td>1</td><td>CEF,CMV,EBV,HCV,HomoSapiens,HPV,InfluenzaM.tuberculosis,MCPyV,S-pneumoniae</td><td>CHP_381</td><td> 1199.403</td><td>Solid tumors</td><td>EWS   </td><td>0</td><td>2.880101</td></tr>\n",
       "\t<tr><td>0.00131795</td><td>1</td><td>CEF,CMV,EBV,HCV,HomoSapiens,HPV,InfluenzaM.tuberculosis,MCPyV,S-pneumoniae</td><td>CHP_409</td><td> 1530.263</td><td>Solid tumors</td><td>EWS   </td><td>0</td><td>2.880101</td></tr>\n",
       "</tbody>\n",
       "</table>\n"
      ],
      "text/latex": [
       "A tibble: 6 x 9\n",
       "\\begin{tabular}{lllllllll}\n",
       " MeanFisher & Component\\_id & Component\\_specificity & Patient & Delta & cancergroup & Disease & Relapse & log10MeanFisher\\\\\n",
       " <dbl> & <chr> & <chr> & <chr> & <dbl> & <chr> & <chr> & <int> & <dbl>\\\\\n",
       "\\hline\n",
       "\t 0.00131795 & 1 & CEF,CMV,EBV,HCV,HomoSapiens,HPV,InfluenzaM.tuberculosis,MCPyV,S-pneumoniae & CHP\\_396 & 31185.250 & Leukemia     & HR ALL & 0 & 2.880101\\\\\n",
       "\t 0.00131795 & 1 & CEF,CMV,EBV,HCV,HomoSapiens,HPV,InfluenzaM.tuberculosis,MCPyV,S-pneumoniae & CHP\\_357 &  2325.949 & Leukemia     & AML    & 0 & 2.880101\\\\\n",
       "\t 0.00131795 & 1 & CEF,CMV,EBV,HCV,HomoSapiens,HPV,InfluenzaM.tuberculosis,MCPyV,S-pneumoniae & CHP\\_404 & 19306.571 & Solid tumors & ERMS   & 0 & 2.880101\\\\\n",
       "\t 0.00131795 & 1 & CEF,CMV,EBV,HCV,HomoSapiens,HPV,InfluenzaM.tuberculosis,MCPyV,S-pneumoniae & CHP\\_408 & 12379.500 & Solid tumors & OS     & 0 & 2.880101\\\\\n",
       "\t 0.00131795 & 1 & CEF,CMV,EBV,HCV,HomoSapiens,HPV,InfluenzaM.tuberculosis,MCPyV,S-pneumoniae & CHP\\_381 &  1199.403 & Solid tumors & EWS    & 0 & 2.880101\\\\\n",
       "\t 0.00131795 & 1 & CEF,CMV,EBV,HCV,HomoSapiens,HPV,InfluenzaM.tuberculosis,MCPyV,S-pneumoniae & CHP\\_409 &  1530.263 & Solid tumors & EWS    & 0 & 2.880101\\\\\n",
       "\\end{tabular}\n"
      ],
      "text/markdown": [
       "\n",
       "A tibble: 6 x 9\n",
       "\n",
       "| MeanFisher &lt;dbl&gt; | Component_id &lt;chr&gt; | Component_specificity &lt;chr&gt; | Patient &lt;chr&gt; | Delta &lt;dbl&gt; | cancergroup &lt;chr&gt; | Disease &lt;chr&gt; | Relapse &lt;int&gt; | log10MeanFisher &lt;dbl&gt; |\n",
       "|---|---|---|---|---|---|---|---|---|\n",
       "| 0.00131795 | 1 | CEF,CMV,EBV,HCV,HomoSapiens,HPV,InfluenzaM.tuberculosis,MCPyV,S-pneumoniae | CHP_396 | 31185.250 | Leukemia     | HR ALL | 0 | 2.880101 |\n",
       "| 0.00131795 | 1 | CEF,CMV,EBV,HCV,HomoSapiens,HPV,InfluenzaM.tuberculosis,MCPyV,S-pneumoniae | CHP_357 |  2325.949 | Leukemia     | AML    | 0 | 2.880101 |\n",
       "| 0.00131795 | 1 | CEF,CMV,EBV,HCV,HomoSapiens,HPV,InfluenzaM.tuberculosis,MCPyV,S-pneumoniae | CHP_404 | 19306.571 | Solid tumors | ERMS   | 0 | 2.880101 |\n",
       "| 0.00131795 | 1 | CEF,CMV,EBV,HCV,HomoSapiens,HPV,InfluenzaM.tuberculosis,MCPyV,S-pneumoniae | CHP_408 | 12379.500 | Solid tumors | OS     | 0 | 2.880101 |\n",
       "| 0.00131795 | 1 | CEF,CMV,EBV,HCV,HomoSapiens,HPV,InfluenzaM.tuberculosis,MCPyV,S-pneumoniae | CHP_381 |  1199.403 | Solid tumors | EWS    | 0 | 2.880101 |\n",
       "| 0.00131795 | 1 | CEF,CMV,EBV,HCV,HomoSapiens,HPV,InfluenzaM.tuberculosis,MCPyV,S-pneumoniae | CHP_409 |  1530.263 | Solid tumors | EWS    | 0 | 2.880101 |\n",
       "\n"
      ],
      "text/plain": [
       "  MeanFisher Component_id\n",
       "1 0.00131795 1           \n",
       "2 0.00131795 1           \n",
       "3 0.00131795 1           \n",
       "4 0.00131795 1           \n",
       "5 0.00131795 1           \n",
       "6 0.00131795 1           \n",
       "  Component_specificity                                                     \n",
       "1 CEF,CMV,EBV,HCV,HomoSapiens,HPV,InfluenzaM.tuberculosis,MCPyV,S-pneumoniae\n",
       "2 CEF,CMV,EBV,HCV,HomoSapiens,HPV,InfluenzaM.tuberculosis,MCPyV,S-pneumoniae\n",
       "3 CEF,CMV,EBV,HCV,HomoSapiens,HPV,InfluenzaM.tuberculosis,MCPyV,S-pneumoniae\n",
       "4 CEF,CMV,EBV,HCV,HomoSapiens,HPV,InfluenzaM.tuberculosis,MCPyV,S-pneumoniae\n",
       "5 CEF,CMV,EBV,HCV,HomoSapiens,HPV,InfluenzaM.tuberculosis,MCPyV,S-pneumoniae\n",
       "6 CEF,CMV,EBV,HCV,HomoSapiens,HPV,InfluenzaM.tuberculosis,MCPyV,S-pneumoniae\n",
       "  Patient Delta     cancergroup  Disease Relapse log10MeanFisher\n",
       "1 CHP_396 31185.250 Leukemia     HR ALL  0       2.880101       \n",
       "2 CHP_357  2325.949 Leukemia     AML     0       2.880101       \n",
       "3 CHP_404 19306.571 Solid tumors ERMS    0       2.880101       \n",
       "4 CHP_408 12379.500 Solid tumors OS      0       2.880101       \n",
       "5 CHP_381  1199.403 Solid tumors EWS     0       2.880101       \n",
       "6 CHP_409  1530.263 Solid tumors EWS     0       2.880101       "
      ]
     },
     "metadata": {},
     "output_type": "display_data"
    }
   ],
   "source": [
    "head(comppat_mat_long)"
   ]
  },
  {
   "cell_type": "code",
   "execution_count": 64,
   "metadata": {
    "vscode": {
     "languageId": "r"
    }
   },
   "outputs": [
    {
     "data": {
      "text/plain": [
       "    Min.  1st Qu.   Median     Mean  3rd Qu.     Max.     NA's \n",
       "0.000014 0.000169 0.000891 0.003331 0.001318 0.095000        4 "
      ]
     },
     "metadata": {},
     "output_type": "display_data"
    }
   ],
   "source": [
    "summary(comppat_mat_long$MeanFisher)"
   ]
  },
  {
   "cell_type": "code",
   "execution_count": 65,
   "metadata": {
    "vscode": {
     "languageId": "r"
    }
   },
   "outputs": [],
   "source": [
    "# remove NA\n",
    "comppat_mat_long <- comppat_mat_long[!is.na(comppat_mat_long$MeanFisher),]"
   ]
  },
  {
   "cell_type": "code",
   "execution_count": 66,
   "metadata": {
    "vscode": {
     "languageId": "r"
    }
   },
   "outputs": [],
   "source": [
    "comppat_mat_long_summary <- comppat_mat_long %>%\n",
    "  group_by(Component_id) %>%\n",
    "  mutate(MeanDelta = mean(Delta)) %>%\n",
    "  ungroup()"
   ]
  },
  {
   "cell_type": "code",
   "execution_count": 67,
   "metadata": {
    "vscode": {
     "languageId": "r"
    }
   },
   "outputs": [],
   "source": [
    "comppat_mat_long_summary <- comppat_mat_long_summary %>%\n",
    "  group_by(Component_id) %>%\n",
    "  mutate(UniquePatients = n_distinct(Patient)) %>%\n",
    "  ungroup()"
   ]
  },
  {
   "cell_type": "code",
   "execution_count": 68,
   "metadata": {
    "vscode": {
     "languageId": "r"
    }
   },
   "outputs": [],
   "source": [
    "comppat_mat_long_summary <- comppat_mat_long_summary[ !duplicated(comppat_mat_long_summary$Component_id),]"
   ]
  },
  {
   "cell_type": "code",
   "execution_count": 69,
   "metadata": {
    "vscode": {
     "languageId": "r"
    }
   },
   "outputs": [
    {
     "data": {
      "text/html": [
       "<table class=\"dataframe\">\n",
       "<caption>A tibble: 18 x 11</caption>\n",
       "<thead>\n",
       "\t<tr><th scope=col>MeanFisher</th><th scope=col>Component_id</th><th scope=col>Component_specificity</th><th scope=col>Patient</th><th scope=col>Delta</th><th scope=col>cancergroup</th><th scope=col>Disease</th><th scope=col>Relapse</th><th scope=col>log10MeanFisher</th><th scope=col>MeanDelta</th><th scope=col>UniquePatients</th></tr>\n",
       "\t<tr><th scope=col>&lt;dbl&gt;</th><th scope=col>&lt;chr&gt;</th><th scope=col>&lt;chr&gt;</th><th scope=col>&lt;chr&gt;</th><th scope=col>&lt;dbl&gt;</th><th scope=col>&lt;chr&gt;</th><th scope=col>&lt;chr&gt;</th><th scope=col>&lt;int&gt;</th><th scope=col>&lt;dbl&gt;</th><th scope=col>&lt;dbl&gt;</th><th scope=col>&lt;int&gt;</th></tr>\n",
       "</thead>\n",
       "<tbody>\n",
       "\t<tr><td>0.0000140625</td><td>17 </td><td>CMV                                                                       </td><td>CHP_357</td><td>  -12.00</td><td>Leukemia    </td><td>AML   </td><td>0</td><td>4.851937</td><td> -12.0000</td><td> 1</td></tr>\n",
       "\t<tr><td>0.0000824899</td><td>7  </td><td>CMV,HomoSapiens                                                           </td><td>CHP_396</td><td> 1910.00</td><td>Leukemia    </td><td>HR ALL</td><td>0</td><td>4.083599</td><td> 246.5000</td><td> 8</td></tr>\n",
       "\t<tr><td>0.0001473105</td><td>8  </td><td>                                                                          </td><td>CHP_404</td><td>  354.00</td><td>Solid tumors</td><td>ERMS  </td><td>0</td><td>3.831766</td><td> 354.0000</td><td> 1</td></tr>\n",
       "\t<tr><td>0.0001587323</td><td>5  </td><td>EBV,HomoSapiens,HPV                                                       </td><td>CHP_404</td><td>  431.00</td><td>Solid tumors</td><td>ERMS  </td><td>0</td><td>3.799335</td><td> 431.0000</td><td> 1</td></tr>\n",
       "\t<tr><td>0.0001693262</td><td>6  </td><td>CMV,EBV,HomoSapiens,HPV                                                   </td><td>CHP_396</td><td>  999.50</td><td>Leukemia    </td><td>HR ALL</td><td>0</td><td>3.771276</td><td> 252.7685</td><td>19</td></tr>\n",
       "\t<tr><td>0.0001700000</td><td>171</td><td>                                                                          </td><td>CHP_396</td><td> 1386.50</td><td>Leukemia    </td><td>HR ALL</td><td>0</td><td>3.769551</td><td>1386.5000</td><td> 1</td></tr>\n",
       "\t<tr><td>0.0002757693</td><td>12 </td><td>                                                                          </td><td>CHP_378</td><td>  -11.00</td><td>Leukemia    </td><td>ALL   </td><td>0</td><td>3.559454</td><td> -11.0000</td><td> 1</td></tr>\n",
       "\t<tr><td>0.0003946483</td><td>10 </td><td>EBV,HomoSapiens                                                           </td><td>CHP_404</td><td>  711.00</td><td>Solid tumors</td><td>ERMS  </td><td>0</td><td>3.403790</td><td> 299.0000</td><td> 3</td></tr>\n",
       "\t<tr><td>0.0005486333</td><td>13 </td><td>CMV,EBV,HPV                                                               </td><td>CHP_357</td><td>  -26.50</td><td>Leukemia    </td><td>AML   </td><td>0</td><td>3.260718</td><td>-108.4259</td><td> 9</td></tr>\n",
       "\t<tr><td>0.0008913701</td><td>4  </td><td>CMV,HCV,HomoSapiens,HPV                                                   </td><td>CHP_396</td><td>  129.00</td><td>Leukemia    </td><td>HR ALL</td><td>0</td><td>3.049942</td><td> 386.3205</td><td>13</td></tr>\n",
       "\t<tr><td>0.0010000000</td><td>214</td><td>                                                                          </td><td>CHP_396</td><td> 3355.50</td><td>Leukemia    </td><td>HR ALL</td><td>0</td><td>3.000000</td><td>3355.5000</td><td> 1</td></tr>\n",
       "\t<tr><td>0.0013179501</td><td>1  </td><td>CEF,CMV,EBV,HCV,HomoSapiens,HPV,InfluenzaM.tuberculosis,MCPyV,S-pneumoniae</td><td>CHP_396</td><td>31185.25</td><td>Leukemia    </td><td>HR ALL</td><td>0</td><td>2.880101</td><td>7900.9158</td><td>33</td></tr>\n",
       "\t<tr><td>0.0013333337</td><td>11 </td><td>                                                                          </td><td>CHP_396</td><td>  241.00</td><td>Leukemia    </td><td>HR ALL</td><td>0</td><td>2.875061</td><td> 241.0000</td><td> 1</td></tr>\n",
       "\t<tr><td>0.0014436033</td><td>69 </td><td>                                                                          </td><td>CHP_368</td><td>   26.00</td><td>Solid tumors</td><td>ARMS  </td><td>1</td><td>2.840552</td><td>  26.0000</td><td> 1</td></tr>\n",
       "\t<tr><td>0.0023197500</td><td>56 </td><td>                                                                          </td><td>CHP_363</td><td>  -66.00</td><td>Solid tumors</td><td>EWS   </td><td>0</td><td>2.634559</td><td> -66.0000</td><td> 1</td></tr>\n",
       "\t<tr><td>0.0028600000</td><td>222</td><td>                                                                          </td><td>CHP_405</td><td>  478.00</td><td>Leukemia    </td><td>CML   </td><td>0</td><td>2.543634</td><td> 478.0000</td><td> 1</td></tr>\n",
       "\t<tr><td>0.0178964286</td><td>111</td><td>CMV,HCV,HomoSapiens                                                       </td><td>CHP_381</td><td>  -16.00</td><td>Solid tumors</td><td>EWS   </td><td>0</td><td>1.747234</td><td> 122.0000</td><td> 4</td></tr>\n",
       "\t<tr><td>0.0950000000</td><td>248</td><td>                                                                          </td><td>CHP_396</td><td>  -80.00</td><td>Leukemia    </td><td>HR ALL</td><td>0</td><td>1.022276</td><td>  22.5000</td><td> 2</td></tr>\n",
       "</tbody>\n",
       "</table>\n"
      ],
      "text/latex": [
       "A tibble: 18 x 11\n",
       "\\begin{tabular}{lllllllllll}\n",
       " MeanFisher & Component\\_id & Component\\_specificity & Patient & Delta & cancergroup & Disease & Relapse & log10MeanFisher & MeanDelta & UniquePatients\\\\\n",
       " <dbl> & <chr> & <chr> & <chr> & <dbl> & <chr> & <chr> & <int> & <dbl> & <dbl> & <int>\\\\\n",
       "\\hline\n",
       "\t 0.0000140625 & 17  & CMV                                                                        & CHP\\_357 &   -12.00 & Leukemia     & AML    & 0 & 4.851937 &  -12.0000 &  1\\\\\n",
       "\t 0.0000824899 & 7   & CMV,HomoSapiens                                                            & CHP\\_396 &  1910.00 & Leukemia     & HR ALL & 0 & 4.083599 &  246.5000 &  8\\\\\n",
       "\t 0.0001473105 & 8   &                                                                            & CHP\\_404 &   354.00 & Solid tumors & ERMS   & 0 & 3.831766 &  354.0000 &  1\\\\\n",
       "\t 0.0001587323 & 5   & EBV,HomoSapiens,HPV                                                        & CHP\\_404 &   431.00 & Solid tumors & ERMS   & 0 & 3.799335 &  431.0000 &  1\\\\\n",
       "\t 0.0001693262 & 6   & CMV,EBV,HomoSapiens,HPV                                                    & CHP\\_396 &   999.50 & Leukemia     & HR ALL & 0 & 3.771276 &  252.7685 & 19\\\\\n",
       "\t 0.0001700000 & 171 &                                                                            & CHP\\_396 &  1386.50 & Leukemia     & HR ALL & 0 & 3.769551 & 1386.5000 &  1\\\\\n",
       "\t 0.0002757693 & 12  &                                                                            & CHP\\_378 &   -11.00 & Leukemia     & ALL    & 0 & 3.559454 &  -11.0000 &  1\\\\\n",
       "\t 0.0003946483 & 10  & EBV,HomoSapiens                                                            & CHP\\_404 &   711.00 & Solid tumors & ERMS   & 0 & 3.403790 &  299.0000 &  3\\\\\n",
       "\t 0.0005486333 & 13  & CMV,EBV,HPV                                                                & CHP\\_357 &   -26.50 & Leukemia     & AML    & 0 & 3.260718 & -108.4259 &  9\\\\\n",
       "\t 0.0008913701 & 4   & CMV,HCV,HomoSapiens,HPV                                                    & CHP\\_396 &   129.00 & Leukemia     & HR ALL & 0 & 3.049942 &  386.3205 & 13\\\\\n",
       "\t 0.0010000000 & 214 &                                                                            & CHP\\_396 &  3355.50 & Leukemia     & HR ALL & 0 & 3.000000 & 3355.5000 &  1\\\\\n",
       "\t 0.0013179501 & 1   & CEF,CMV,EBV,HCV,HomoSapiens,HPV,InfluenzaM.tuberculosis,MCPyV,S-pneumoniae & CHP\\_396 & 31185.25 & Leukemia     & HR ALL & 0 & 2.880101 & 7900.9158 & 33\\\\\n",
       "\t 0.0013333337 & 11  &                                                                            & CHP\\_396 &   241.00 & Leukemia     & HR ALL & 0 & 2.875061 &  241.0000 &  1\\\\\n",
       "\t 0.0014436033 & 69  &                                                                            & CHP\\_368 &    26.00 & Solid tumors & ARMS   & 1 & 2.840552 &   26.0000 &  1\\\\\n",
       "\t 0.0023197500 & 56  &                                                                            & CHP\\_363 &   -66.00 & Solid tumors & EWS    & 0 & 2.634559 &  -66.0000 &  1\\\\\n",
       "\t 0.0028600000 & 222 &                                                                            & CHP\\_405 &   478.00 & Leukemia     & CML    & 0 & 2.543634 &  478.0000 &  1\\\\\n",
       "\t 0.0178964286 & 111 & CMV,HCV,HomoSapiens                                                        & CHP\\_381 &   -16.00 & Solid tumors & EWS    & 0 & 1.747234 &  122.0000 &  4\\\\\n",
       "\t 0.0950000000 & 248 &                                                                            & CHP\\_396 &   -80.00 & Leukemia     & HR ALL & 0 & 1.022276 &   22.5000 &  2\\\\\n",
       "\\end{tabular}\n"
      ],
      "text/markdown": [
       "\n",
       "A tibble: 18 x 11\n",
       "\n",
       "| MeanFisher &lt;dbl&gt; | Component_id &lt;chr&gt; | Component_specificity &lt;chr&gt; | Patient &lt;chr&gt; | Delta &lt;dbl&gt; | cancergroup &lt;chr&gt; | Disease &lt;chr&gt; | Relapse &lt;int&gt; | log10MeanFisher &lt;dbl&gt; | MeanDelta &lt;dbl&gt; | UniquePatients &lt;int&gt; |\n",
       "|---|---|---|---|---|---|---|---|---|---|---|\n",
       "| 0.0000140625 | 17  | CMV                                                                        | CHP_357 |   -12.00 | Leukemia     | AML    | 0 | 4.851937 |  -12.0000 |  1 |\n",
       "| 0.0000824899 | 7   | CMV,HomoSapiens                                                            | CHP_396 |  1910.00 | Leukemia     | HR ALL | 0 | 4.083599 |  246.5000 |  8 |\n",
       "| 0.0001473105 | 8   | <!----> | CHP_404 |   354.00 | Solid tumors | ERMS   | 0 | 3.831766 |  354.0000 |  1 |\n",
       "| 0.0001587323 | 5   | EBV,HomoSapiens,HPV                                                        | CHP_404 |   431.00 | Solid tumors | ERMS   | 0 | 3.799335 |  431.0000 |  1 |\n",
       "| 0.0001693262 | 6   | CMV,EBV,HomoSapiens,HPV                                                    | CHP_396 |   999.50 | Leukemia     | HR ALL | 0 | 3.771276 |  252.7685 | 19 |\n",
       "| 0.0001700000 | 171 | <!----> | CHP_396 |  1386.50 | Leukemia     | HR ALL | 0 | 3.769551 | 1386.5000 |  1 |\n",
       "| 0.0002757693 | 12  | <!----> | CHP_378 |   -11.00 | Leukemia     | ALL    | 0 | 3.559454 |  -11.0000 |  1 |\n",
       "| 0.0003946483 | 10  | EBV,HomoSapiens                                                            | CHP_404 |   711.00 | Solid tumors | ERMS   | 0 | 3.403790 |  299.0000 |  3 |\n",
       "| 0.0005486333 | 13  | CMV,EBV,HPV                                                                | CHP_357 |   -26.50 | Leukemia     | AML    | 0 | 3.260718 | -108.4259 |  9 |\n",
       "| 0.0008913701 | 4   | CMV,HCV,HomoSapiens,HPV                                                    | CHP_396 |   129.00 | Leukemia     | HR ALL | 0 | 3.049942 |  386.3205 | 13 |\n",
       "| 0.0010000000 | 214 | <!----> | CHP_396 |  3355.50 | Leukemia     | HR ALL | 0 | 3.000000 | 3355.5000 |  1 |\n",
       "| 0.0013179501 | 1   | CEF,CMV,EBV,HCV,HomoSapiens,HPV,InfluenzaM.tuberculosis,MCPyV,S-pneumoniae | CHP_396 | 31185.25 | Leukemia     | HR ALL | 0 | 2.880101 | 7900.9158 | 33 |\n",
       "| 0.0013333337 | 11  | <!----> | CHP_396 |   241.00 | Leukemia     | HR ALL | 0 | 2.875061 |  241.0000 |  1 |\n",
       "| 0.0014436033 | 69  | <!----> | CHP_368 |    26.00 | Solid tumors | ARMS   | 1 | 2.840552 |   26.0000 |  1 |\n",
       "| 0.0023197500 | 56  | <!----> | CHP_363 |   -66.00 | Solid tumors | EWS    | 0 | 2.634559 |  -66.0000 |  1 |\n",
       "| 0.0028600000 | 222 | <!----> | CHP_405 |   478.00 | Leukemia     | CML    | 0 | 2.543634 |  478.0000 |  1 |\n",
       "| 0.0178964286 | 111 | CMV,HCV,HomoSapiens                                                        | CHP_381 |   -16.00 | Solid tumors | EWS    | 0 | 1.747234 |  122.0000 |  4 |\n",
       "| 0.0950000000 | 248 | <!----> | CHP_396 |   -80.00 | Leukemia     | HR ALL | 0 | 1.022276 |   22.5000 |  2 |\n",
       "\n"
      ],
      "text/plain": [
       "   MeanFisher   Component_id\n",
       "1  0.0000140625 17          \n",
       "2  0.0000824899 7           \n",
       "3  0.0001473105 8           \n",
       "4  0.0001587323 5           \n",
       "5  0.0001693262 6           \n",
       "6  0.0001700000 171         \n",
       "7  0.0002757693 12          \n",
       "8  0.0003946483 10          \n",
       "9  0.0005486333 13          \n",
       "10 0.0008913701 4           \n",
       "11 0.0010000000 214         \n",
       "12 0.0013179501 1           \n",
       "13 0.0013333337 11          \n",
       "14 0.0014436033 69          \n",
       "15 0.0023197500 56          \n",
       "16 0.0028600000 222         \n",
       "17 0.0178964286 111         \n",
       "18 0.0950000000 248         \n",
       "   Component_specificity                                                     \n",
       "1  CMV                                                                       \n",
       "2  CMV,HomoSapiens                                                           \n",
       "3                                                                            \n",
       "4  EBV,HomoSapiens,HPV                                                       \n",
       "5  CMV,EBV,HomoSapiens,HPV                                                   \n",
       "6                                                                            \n",
       "7                                                                            \n",
       "8  EBV,HomoSapiens                                                           \n",
       "9  CMV,EBV,HPV                                                               \n",
       "10 CMV,HCV,HomoSapiens,HPV                                                   \n",
       "11                                                                           \n",
       "12 CEF,CMV,EBV,HCV,HomoSapiens,HPV,InfluenzaM.tuberculosis,MCPyV,S-pneumoniae\n",
       "13                                                                           \n",
       "14                                                                           \n",
       "15                                                                           \n",
       "16                                                                           \n",
       "17 CMV,HCV,HomoSapiens                                                       \n",
       "18                                                                           \n",
       "   Patient Delta    cancergroup  Disease Relapse log10MeanFisher MeanDelta\n",
       "1  CHP_357   -12.00 Leukemia     AML     0       4.851937         -12.0000\n",
       "2  CHP_396  1910.00 Leukemia     HR ALL  0       4.083599         246.5000\n",
       "3  CHP_404   354.00 Solid tumors ERMS    0       3.831766         354.0000\n",
       "4  CHP_404   431.00 Solid tumors ERMS    0       3.799335         431.0000\n",
       "5  CHP_396   999.50 Leukemia     HR ALL  0       3.771276         252.7685\n",
       "6  CHP_396  1386.50 Leukemia     HR ALL  0       3.769551        1386.5000\n",
       "7  CHP_378   -11.00 Leukemia     ALL     0       3.559454         -11.0000\n",
       "8  CHP_404   711.00 Solid tumors ERMS    0       3.403790         299.0000\n",
       "9  CHP_357   -26.50 Leukemia     AML     0       3.260718        -108.4259\n",
       "10 CHP_396   129.00 Leukemia     HR ALL  0       3.049942         386.3205\n",
       "11 CHP_396  3355.50 Leukemia     HR ALL  0       3.000000        3355.5000\n",
       "12 CHP_396 31185.25 Leukemia     HR ALL  0       2.880101        7900.9158\n",
       "13 CHP_396   241.00 Leukemia     HR ALL  0       2.875061         241.0000\n",
       "14 CHP_368    26.00 Solid tumors ARMS    1       2.840552          26.0000\n",
       "15 CHP_363   -66.00 Solid tumors EWS     0       2.634559         -66.0000\n",
       "16 CHP_405   478.00 Leukemia     CML     0       2.543634         478.0000\n",
       "17 CHP_381   -16.00 Solid tumors EWS     0       1.747234         122.0000\n",
       "18 CHP_396   -80.00 Leukemia     HR ALL  0       1.022276          22.5000\n",
       "   UniquePatients\n",
       "1   1            \n",
       "2   8            \n",
       "3   1            \n",
       "4   1            \n",
       "5  19            \n",
       "6   1            \n",
       "7   1            \n",
       "8   3            \n",
       "9   9            \n",
       "10 13            \n",
       "11  1            \n",
       "12 33            \n",
       "13  1            \n",
       "14  1            \n",
       "15  1            \n",
       "16  1            \n",
       "17  4            \n",
       "18  2            "
      ]
     },
     "metadata": {},
     "output_type": "display_data"
    }
   ],
   "source": [
    "comppat_mat_long_summary[ order(comppat_mat_long_summary$MeanFisher),]"
   ]
  },
  {
   "cell_type": "code",
   "execution_count": null,
   "metadata": {
    "vscode": {
     "languageId": "r"
    }
   },
   "outputs": [],
   "source": []
  },
  {
   "cell_type": "code",
   "execution_count": 70,
   "metadata": {
    "vscode": {
     "languageId": "r"
    }
   },
   "outputs": [
    {
     "data": {
      "text/html": [
       "<table class=\"dataframe\">\n",
       "<caption>A tibble: 8 x 9</caption>\n",
       "<thead>\n",
       "\t<tr><th scope=col>MeanFisher</th><th scope=col>Component_id</th><th scope=col>Component_specificity</th><th scope=col>Patient</th><th scope=col>Delta</th><th scope=col>cancergroup</th><th scope=col>Disease</th><th scope=col>Relapse</th><th scope=col>log10MeanFisher</th></tr>\n",
       "\t<tr><th scope=col>&lt;dbl&gt;</th><th scope=col>&lt;chr&gt;</th><th scope=col>&lt;chr&gt;</th><th scope=col>&lt;chr&gt;</th><th scope=col>&lt;dbl&gt;</th><th scope=col>&lt;chr&gt;</th><th scope=col>&lt;chr&gt;</th><th scope=col>&lt;int&gt;</th><th scope=col>&lt;dbl&gt;</th></tr>\n",
       "</thead>\n",
       "<tbody>\n",
       "\t<tr><td>8.24899e-05</td><td>7</td><td>CMV,HomoSapiens</td><td>CHP_396</td><td>1910.0</td><td>Leukemia    </td><td>HR ALL</td><td>0</td><td>4.083599</td></tr>\n",
       "\t<tr><td>8.24899e-05</td><td>7</td><td>CMV,HomoSapiens</td><td>CHP_357</td><td>   5.0</td><td>Leukemia    </td><td>AML   </td><td>0</td><td>4.083599</td></tr>\n",
       "\t<tr><td>8.24899e-05</td><td>7</td><td>CMV,HomoSapiens</td><td>CHP_404</td><td>  61.0</td><td>Solid tumors</td><td>ERMS  </td><td>0</td><td>4.083599</td></tr>\n",
       "\t<tr><td>8.24899e-05</td><td>7</td><td>CMV,HomoSapiens</td><td>CHP_381</td><td>-152.5</td><td>Solid tumors</td><td>EWS   </td><td>0</td><td>4.083599</td></tr>\n",
       "\t<tr><td>8.24899e-05</td><td>7</td><td>CMV,HomoSapiens</td><td>CHP_353</td><td>  39.0</td><td>Leukemia    </td><td>AML   </td><td>1</td><td>4.083599</td></tr>\n",
       "\t<tr><td>8.24899e-05</td><td>7</td><td>CMV,HomoSapiens</td><td>CHP_363</td><td> -51.5</td><td>Solid tumors</td><td>EWS   </td><td>0</td><td>4.083599</td></tr>\n",
       "\t<tr><td>8.24899e-05</td><td>7</td><td>CMV,HomoSapiens</td><td>CHP_365</td><td> 161.0</td><td>Leukemia    </td><td>ALL   </td><td>0</td><td>4.083599</td></tr>\n",
       "\t<tr><td>8.24899e-05</td><td>7</td><td>CMV,HomoSapiens</td><td>CHP_368</td><td>   0.0</td><td>Solid tumors</td><td>ARMS  </td><td>1</td><td>4.083599</td></tr>\n",
       "</tbody>\n",
       "</table>\n"
      ],
      "text/latex": [
       "A tibble: 8 x 9\n",
       "\\begin{tabular}{lllllllll}\n",
       " MeanFisher & Component\\_id & Component\\_specificity & Patient & Delta & cancergroup & Disease & Relapse & log10MeanFisher\\\\\n",
       " <dbl> & <chr> & <chr> & <chr> & <dbl> & <chr> & <chr> & <int> & <dbl>\\\\\n",
       "\\hline\n",
       "\t 8.24899e-05 & 7 & CMV,HomoSapiens & CHP\\_396 & 1910.0 & Leukemia     & HR ALL & 0 & 4.083599\\\\\n",
       "\t 8.24899e-05 & 7 & CMV,HomoSapiens & CHP\\_357 &    5.0 & Leukemia     & AML    & 0 & 4.083599\\\\\n",
       "\t 8.24899e-05 & 7 & CMV,HomoSapiens & CHP\\_404 &   61.0 & Solid tumors & ERMS   & 0 & 4.083599\\\\\n",
       "\t 8.24899e-05 & 7 & CMV,HomoSapiens & CHP\\_381 & -152.5 & Solid tumors & EWS    & 0 & 4.083599\\\\\n",
       "\t 8.24899e-05 & 7 & CMV,HomoSapiens & CHP\\_353 &   39.0 & Leukemia     & AML    & 1 & 4.083599\\\\\n",
       "\t 8.24899e-05 & 7 & CMV,HomoSapiens & CHP\\_363 &  -51.5 & Solid tumors & EWS    & 0 & 4.083599\\\\\n",
       "\t 8.24899e-05 & 7 & CMV,HomoSapiens & CHP\\_365 &  161.0 & Leukemia     & ALL    & 0 & 4.083599\\\\\n",
       "\t 8.24899e-05 & 7 & CMV,HomoSapiens & CHP\\_368 &    0.0 & Solid tumors & ARMS   & 1 & 4.083599\\\\\n",
       "\\end{tabular}\n"
      ],
      "text/markdown": [
       "\n",
       "A tibble: 8 x 9\n",
       "\n",
       "| MeanFisher &lt;dbl&gt; | Component_id &lt;chr&gt; | Component_specificity &lt;chr&gt; | Patient &lt;chr&gt; | Delta &lt;dbl&gt; | cancergroup &lt;chr&gt; | Disease &lt;chr&gt; | Relapse &lt;int&gt; | log10MeanFisher &lt;dbl&gt; |\n",
       "|---|---|---|---|---|---|---|---|---|\n",
       "| 8.24899e-05 | 7 | CMV,HomoSapiens | CHP_396 | 1910.0 | Leukemia     | HR ALL | 0 | 4.083599 |\n",
       "| 8.24899e-05 | 7 | CMV,HomoSapiens | CHP_357 |    5.0 | Leukemia     | AML    | 0 | 4.083599 |\n",
       "| 8.24899e-05 | 7 | CMV,HomoSapiens | CHP_404 |   61.0 | Solid tumors | ERMS   | 0 | 4.083599 |\n",
       "| 8.24899e-05 | 7 | CMV,HomoSapiens | CHP_381 | -152.5 | Solid tumors | EWS    | 0 | 4.083599 |\n",
       "| 8.24899e-05 | 7 | CMV,HomoSapiens | CHP_353 |   39.0 | Leukemia     | AML    | 1 | 4.083599 |\n",
       "| 8.24899e-05 | 7 | CMV,HomoSapiens | CHP_363 |  -51.5 | Solid tumors | EWS    | 0 | 4.083599 |\n",
       "| 8.24899e-05 | 7 | CMV,HomoSapiens | CHP_365 |  161.0 | Leukemia     | ALL    | 0 | 4.083599 |\n",
       "| 8.24899e-05 | 7 | CMV,HomoSapiens | CHP_368 |    0.0 | Solid tumors | ARMS   | 1 | 4.083599 |\n",
       "\n"
      ],
      "text/plain": [
       "  MeanFisher  Component_id Component_specificity Patient Delta  cancergroup \n",
       "1 8.24899e-05 7            CMV,HomoSapiens       CHP_396 1910.0 Leukemia    \n",
       "2 8.24899e-05 7            CMV,HomoSapiens       CHP_357    5.0 Leukemia    \n",
       "3 8.24899e-05 7            CMV,HomoSapiens       CHP_404   61.0 Solid tumors\n",
       "4 8.24899e-05 7            CMV,HomoSapiens       CHP_381 -152.5 Solid tumors\n",
       "5 8.24899e-05 7            CMV,HomoSapiens       CHP_353   39.0 Leukemia    \n",
       "6 8.24899e-05 7            CMV,HomoSapiens       CHP_363  -51.5 Solid tumors\n",
       "7 8.24899e-05 7            CMV,HomoSapiens       CHP_365  161.0 Leukemia    \n",
       "8 8.24899e-05 7            CMV,HomoSapiens       CHP_368    0.0 Solid tumors\n",
       "  Disease Relapse log10MeanFisher\n",
       "1 HR ALL  0       4.083599       \n",
       "2 AML     0       4.083599       \n",
       "3 ERMS    0       4.083599       \n",
       "4 EWS     0       4.083599       \n",
       "5 AML     1       4.083599       \n",
       "6 EWS     0       4.083599       \n",
       "7 ALL     0       4.083599       \n",
       "8 ARMS    1       4.083599       "
      ]
     },
     "metadata": {},
     "output_type": "display_data"
    }
   ],
   "source": [
    "(comppat_mat_long[ comppat_mat_long$Component_id == 7,])\n",
    "\n",
    "mypts <- comppat_mat_long$Patient[ comppat_mat_long$Component_id == 7]"
   ]
  },
  {
   "cell_type": "code",
   "execution_count": 71,
   "metadata": {
    "vscode": {
     "languageId": "r"
    }
   },
   "outputs": [
    {
     "data": {
      "text/html": [
       "<style>\n",
       ".list-inline {list-style: none; margin:0; padding: 0}\n",
       ".list-inline>li {display: inline-block}\n",
       ".list-inline>li:not(:last-child)::after {content: \"\\00b7\"; padding: 0 .5ex}\n",
       "</style>\n",
       "<ol class=list-inline><li>171</li><li>36</li></ol>\n"
      ],
      "text/latex": [
       "\\begin{enumerate*}\n",
       "\\item 171\n",
       "\\item 36\n",
       "\\end{enumerate*}\n"
      ],
      "text/markdown": [
       "1. 171\n",
       "2. 36\n",
       "\n",
       "\n"
      ],
      "text/plain": [
       "[1] 171  36"
      ]
     },
     "metadata": {},
     "output_type": "display_data"
    }
   ],
   "source": [
    "dim(comppat_mat)"
   ]
  },
  {
   "cell_type": "code",
   "execution_count": 72,
   "metadata": {
    "vscode": {
     "languageId": "r"
    }
   },
   "outputs": [
    {
     "data": {
      "text/html": [
       "<table class=\"dataframe\">\n",
       "<caption>A data.frame: 10 x 8</caption>\n",
       "<thead>\n",
       "\t<tr><th></th><th scope=col>CHP_396</th><th scope=col>CHP_357</th><th scope=col>CHP_404</th><th scope=col>CHP_381</th><th scope=col>CHP_353</th><th scope=col>CHP_363</th><th scope=col>CHP_365</th><th scope=col>CHP_368</th></tr>\n",
       "\t<tr><th></th><th scope=col>&lt;dbl&gt;</th><th scope=col>&lt;dbl&gt;</th><th scope=col>&lt;dbl&gt;</th><th scope=col>&lt;dbl&gt;</th><th scope=col>&lt;dbl&gt;</th><th scope=col>&lt;dbl&gt;</th><th scope=col>&lt;dbl&gt;</th><th scope=col>&lt;dbl&gt;</th></tr>\n",
       "</thead>\n",
       "<tbody>\n",
       "\t<tr><th scope=row>1</th><td>31185.25</td><td>2325.94872</td><td>19306.57</td><td>1199.403226</td><td>1912.48485</td><td>1244.90984</td><td>7946.135</td><td>1447.41026</td></tr>\n",
       "\t<tr><th scope=row>2</th><td>      NA</td><td>        NA</td><td>      NA</td><td>         NA</td><td>        NA</td><td>        NA</td><td>      NA</td><td>        NA</td></tr>\n",
       "\t<tr><th scope=row>3</th><td>      NA</td><td>        NA</td><td>      NA</td><td>         NA</td><td>        NA</td><td>        NA</td><td>      NA</td><td>        NA</td></tr>\n",
       "\t<tr><th scope=row>4</th><td>  129.00</td><td> 204.00000</td><td> 1134.50</td><td>-124.500000</td><td>        NA</td><td>        NA</td><td> 590.000</td><td>  88.66667</td></tr>\n",
       "\t<tr><th scope=row>5</th><td>      NA</td><td>        NA</td><td>  431.00</td><td>         NA</td><td>        NA</td><td>        NA</td><td>      NA</td><td>        NA</td></tr>\n",
       "\t<tr><th scope=row>6</th><td>  999.50</td><td>  64.33333</td><td> 1222.00</td><td>   9.416667</td><td>  55.33333</td><td> -27.33333</td><td> 480.000</td><td>   1.00000</td></tr>\n",
       "\t<tr><th scope=row>7</th><td> 1910.00</td><td>   5.00000</td><td>   61.00</td><td>-152.500000</td><td>  39.00000</td><td> -51.50000</td><td> 161.000</td><td>   0.00000</td></tr>\n",
       "\t<tr><th scope=row>8</th><td>      NA</td><td>        NA</td><td>  354.00</td><td>         NA</td><td>        NA</td><td>        NA</td><td>      NA</td><td>        NA</td></tr>\n",
       "\t<tr><th scope=row>9</th><td>      NA</td><td>        NA</td><td>      NA</td><td>         NA</td><td>        NA</td><td>        NA</td><td>      NA</td><td>        NA</td></tr>\n",
       "\t<tr><th scope=row>10</th><td>      NA</td><td>        NA</td><td>  711.00</td><td> -16.000000</td><td>        NA</td><td>        NA</td><td> 202.000</td><td>        NA</td></tr>\n",
       "</tbody>\n",
       "</table>\n"
      ],
      "text/latex": [
       "A data.frame: 10 x 8\n",
       "\\begin{tabular}{r|llllllll}\n",
       "  & CHP\\_396 & CHP\\_357 & CHP\\_404 & CHP\\_381 & CHP\\_353 & CHP\\_363 & CHP\\_365 & CHP\\_368\\\\\n",
       "  & <dbl> & <dbl> & <dbl> & <dbl> & <dbl> & <dbl> & <dbl> & <dbl>\\\\\n",
       "\\hline\n",
       "\t1 & 31185.25 & 2325.94872 & 19306.57 & 1199.403226 & 1912.48485 & 1244.90984 & 7946.135 & 1447.41026\\\\\n",
       "\t2 &       NA &         NA &       NA &          NA &         NA &         NA &       NA &         NA\\\\\n",
       "\t3 &       NA &         NA &       NA &          NA &         NA &         NA &       NA &         NA\\\\\n",
       "\t4 &   129.00 &  204.00000 &  1134.50 & -124.500000 &         NA &         NA &  590.000 &   88.66667\\\\\n",
       "\t5 &       NA &         NA &   431.00 &          NA &         NA &         NA &       NA &         NA\\\\\n",
       "\t6 &   999.50 &   64.33333 &  1222.00 &    9.416667 &   55.33333 &  -27.33333 &  480.000 &    1.00000\\\\\n",
       "\t7 &  1910.00 &    5.00000 &    61.00 & -152.500000 &   39.00000 &  -51.50000 &  161.000 &    0.00000\\\\\n",
       "\t8 &       NA &         NA &   354.00 &          NA &         NA &         NA &       NA &         NA\\\\\n",
       "\t9 &       NA &         NA &       NA &          NA &         NA &         NA &       NA &         NA\\\\\n",
       "\t10 &       NA &         NA &   711.00 &  -16.000000 &         NA &         NA &  202.000 &         NA\\\\\n",
       "\\end{tabular}\n"
      ],
      "text/markdown": [
       "\n",
       "A data.frame: 10 x 8\n",
       "\n",
       "| <!--/--> | CHP_396 &lt;dbl&gt; | CHP_357 &lt;dbl&gt; | CHP_404 &lt;dbl&gt; | CHP_381 &lt;dbl&gt; | CHP_353 &lt;dbl&gt; | CHP_363 &lt;dbl&gt; | CHP_365 &lt;dbl&gt; | CHP_368 &lt;dbl&gt; |\n",
       "|---|---|---|---|---|---|---|---|---|\n",
       "| 1 | 31185.25 | 2325.94872 | 19306.57 | 1199.403226 | 1912.48485 | 1244.90984 | 7946.135 | 1447.41026 |\n",
       "| 2 |       NA |         NA |       NA |          NA |         NA |         NA |       NA |         NA |\n",
       "| 3 |       NA |         NA |       NA |          NA |         NA |         NA |       NA |         NA |\n",
       "| 4 |   129.00 |  204.00000 |  1134.50 | -124.500000 |         NA |         NA |  590.000 |   88.66667 |\n",
       "| 5 |       NA |         NA |   431.00 |          NA |         NA |         NA |       NA |         NA |\n",
       "| 6 |   999.50 |   64.33333 |  1222.00 |    9.416667 |   55.33333 |  -27.33333 |  480.000 |    1.00000 |\n",
       "| 7 |  1910.00 |    5.00000 |    61.00 | -152.500000 |   39.00000 |  -51.50000 |  161.000 |    0.00000 |\n",
       "| 8 |       NA |         NA |   354.00 |          NA |         NA |         NA |       NA |         NA |\n",
       "| 9 |       NA |         NA |       NA |          NA |         NA |         NA |       NA |         NA |\n",
       "| 10 |       NA |         NA |   711.00 |  -16.000000 |         NA |         NA |  202.000 |         NA |\n",
       "\n"
      ],
      "text/plain": [
       "   CHP_396  CHP_357    CHP_404  CHP_381     CHP_353    CHP_363    CHP_365 \n",
       "1  31185.25 2325.94872 19306.57 1199.403226 1912.48485 1244.90984 7946.135\n",
       "2        NA         NA       NA          NA         NA         NA       NA\n",
       "3        NA         NA       NA          NA         NA         NA       NA\n",
       "4    129.00  204.00000  1134.50 -124.500000         NA         NA  590.000\n",
       "5        NA         NA   431.00          NA         NA         NA       NA\n",
       "6    999.50   64.33333  1222.00    9.416667   55.33333  -27.33333  480.000\n",
       "7   1910.00    5.00000    61.00 -152.500000   39.00000  -51.50000  161.000\n",
       "8        NA         NA   354.00          NA         NA         NA       NA\n",
       "9        NA         NA       NA          NA         NA         NA       NA\n",
       "10       NA         NA   711.00  -16.000000         NA         NA  202.000\n",
       "   CHP_368   \n",
       "1  1447.41026\n",
       "2          NA\n",
       "3          NA\n",
       "4    88.66667\n",
       "5          NA\n",
       "6     1.00000\n",
       "7     0.00000\n",
       "8          NA\n",
       "9          NA\n",
       "10         NA"
      ]
     },
     "metadata": {},
     "output_type": "display_data"
    }
   ],
   "source": [
    "head(comppat_mat[, colnames(comppat_mat)[colnames(comppat_mat) %in% mypts]], 10)"
   ]
  },
  {
   "cell_type": "code",
   "execution_count": 73,
   "metadata": {
    "vscode": {
     "languageId": "r"
    }
   },
   "outputs": [
    {
     "data": {
      "text/html": [
       "<table class=\"dataframe\">\n",
       "<caption>A tibble: 6 x 9</caption>\n",
       "<thead>\n",
       "\t<tr><th scope=col>MeanFisher</th><th scope=col>Component_id</th><th scope=col>Component_specificity</th><th scope=col>Patient</th><th scope=col>Delta</th><th scope=col>cancergroup</th><th scope=col>Disease</th><th scope=col>Relapse</th><th scope=col>log10MeanFisher</th></tr>\n",
       "\t<tr><th scope=col>&lt;dbl&gt;</th><th scope=col>&lt;chr&gt;</th><th scope=col>&lt;chr&gt;</th><th scope=col>&lt;chr&gt;</th><th scope=col>&lt;dbl&gt;</th><th scope=col>&lt;chr&gt;</th><th scope=col>&lt;chr&gt;</th><th scope=col>&lt;int&gt;</th><th scope=col>&lt;dbl&gt;</th></tr>\n",
       "</thead>\n",
       "<tbody>\n",
       "\t<tr><td>0.00131795</td><td>1</td><td>CEF,CMV,EBV,HCV,HomoSapiens,HPV,InfluenzaM.tuberculosis,MCPyV,S-pneumoniae</td><td>CHP_396</td><td>31185.250</td><td>Leukemia    </td><td>HR ALL</td><td>0</td><td>2.880101</td></tr>\n",
       "\t<tr><td>0.00131795</td><td>1</td><td>CEF,CMV,EBV,HCV,HomoSapiens,HPV,InfluenzaM.tuberculosis,MCPyV,S-pneumoniae</td><td>CHP_357</td><td> 2325.949</td><td>Leukemia    </td><td>AML   </td><td>0</td><td>2.880101</td></tr>\n",
       "\t<tr><td>0.00131795</td><td>1</td><td>CEF,CMV,EBV,HCV,HomoSapiens,HPV,InfluenzaM.tuberculosis,MCPyV,S-pneumoniae</td><td>CHP_404</td><td>19306.571</td><td>Solid tumors</td><td>ERMS  </td><td>0</td><td>2.880101</td></tr>\n",
       "\t<tr><td>0.00131795</td><td>1</td><td>CEF,CMV,EBV,HCV,HomoSapiens,HPV,InfluenzaM.tuberculosis,MCPyV,S-pneumoniae</td><td>CHP_408</td><td>12379.500</td><td>Solid tumors</td><td>OS    </td><td>0</td><td>2.880101</td></tr>\n",
       "\t<tr><td>0.00131795</td><td>1</td><td>CEF,CMV,EBV,HCV,HomoSapiens,HPV,InfluenzaM.tuberculosis,MCPyV,S-pneumoniae</td><td>CHP_381</td><td> 1199.403</td><td>Solid tumors</td><td>EWS   </td><td>0</td><td>2.880101</td></tr>\n",
       "\t<tr><td>0.00131795</td><td>1</td><td>CEF,CMV,EBV,HCV,HomoSapiens,HPV,InfluenzaM.tuberculosis,MCPyV,S-pneumoniae</td><td>CHP_409</td><td> 1530.263</td><td>Solid tumors</td><td>EWS   </td><td>0</td><td>2.880101</td></tr>\n",
       "</tbody>\n",
       "</table>\n"
      ],
      "text/latex": [
       "A tibble: 6 x 9\n",
       "\\begin{tabular}{lllllllll}\n",
       " MeanFisher & Component\\_id & Component\\_specificity & Patient & Delta & cancergroup & Disease & Relapse & log10MeanFisher\\\\\n",
       " <dbl> & <chr> & <chr> & <chr> & <dbl> & <chr> & <chr> & <int> & <dbl>\\\\\n",
       "\\hline\n",
       "\t 0.00131795 & 1 & CEF,CMV,EBV,HCV,HomoSapiens,HPV,InfluenzaM.tuberculosis,MCPyV,S-pneumoniae & CHP\\_396 & 31185.250 & Leukemia     & HR ALL & 0 & 2.880101\\\\\n",
       "\t 0.00131795 & 1 & CEF,CMV,EBV,HCV,HomoSapiens,HPV,InfluenzaM.tuberculosis,MCPyV,S-pneumoniae & CHP\\_357 &  2325.949 & Leukemia     & AML    & 0 & 2.880101\\\\\n",
       "\t 0.00131795 & 1 & CEF,CMV,EBV,HCV,HomoSapiens,HPV,InfluenzaM.tuberculosis,MCPyV,S-pneumoniae & CHP\\_404 & 19306.571 & Solid tumors & ERMS   & 0 & 2.880101\\\\\n",
       "\t 0.00131795 & 1 & CEF,CMV,EBV,HCV,HomoSapiens,HPV,InfluenzaM.tuberculosis,MCPyV,S-pneumoniae & CHP\\_408 & 12379.500 & Solid tumors & OS     & 0 & 2.880101\\\\\n",
       "\t 0.00131795 & 1 & CEF,CMV,EBV,HCV,HomoSapiens,HPV,InfluenzaM.tuberculosis,MCPyV,S-pneumoniae & CHP\\_381 &  1199.403 & Solid tumors & EWS    & 0 & 2.880101\\\\\n",
       "\t 0.00131795 & 1 & CEF,CMV,EBV,HCV,HomoSapiens,HPV,InfluenzaM.tuberculosis,MCPyV,S-pneumoniae & CHP\\_409 &  1530.263 & Solid tumors & EWS    & 0 & 2.880101\\\\\n",
       "\\end{tabular}\n"
      ],
      "text/markdown": [
       "\n",
       "A tibble: 6 x 9\n",
       "\n",
       "| MeanFisher &lt;dbl&gt; | Component_id &lt;chr&gt; | Component_specificity &lt;chr&gt; | Patient &lt;chr&gt; | Delta &lt;dbl&gt; | cancergroup &lt;chr&gt; | Disease &lt;chr&gt; | Relapse &lt;int&gt; | log10MeanFisher &lt;dbl&gt; |\n",
       "|---|---|---|---|---|---|---|---|---|\n",
       "| 0.00131795 | 1 | CEF,CMV,EBV,HCV,HomoSapiens,HPV,InfluenzaM.tuberculosis,MCPyV,S-pneumoniae | CHP_396 | 31185.250 | Leukemia     | HR ALL | 0 | 2.880101 |\n",
       "| 0.00131795 | 1 | CEF,CMV,EBV,HCV,HomoSapiens,HPV,InfluenzaM.tuberculosis,MCPyV,S-pneumoniae | CHP_357 |  2325.949 | Leukemia     | AML    | 0 | 2.880101 |\n",
       "| 0.00131795 | 1 | CEF,CMV,EBV,HCV,HomoSapiens,HPV,InfluenzaM.tuberculosis,MCPyV,S-pneumoniae | CHP_404 | 19306.571 | Solid tumors | ERMS   | 0 | 2.880101 |\n",
       "| 0.00131795 | 1 | CEF,CMV,EBV,HCV,HomoSapiens,HPV,InfluenzaM.tuberculosis,MCPyV,S-pneumoniae | CHP_408 | 12379.500 | Solid tumors | OS     | 0 | 2.880101 |\n",
       "| 0.00131795 | 1 | CEF,CMV,EBV,HCV,HomoSapiens,HPV,InfluenzaM.tuberculosis,MCPyV,S-pneumoniae | CHP_381 |  1199.403 | Solid tumors | EWS    | 0 | 2.880101 |\n",
       "| 0.00131795 | 1 | CEF,CMV,EBV,HCV,HomoSapiens,HPV,InfluenzaM.tuberculosis,MCPyV,S-pneumoniae | CHP_409 |  1530.263 | Solid tumors | EWS    | 0 | 2.880101 |\n",
       "\n"
      ],
      "text/plain": [
       "  MeanFisher Component_id\n",
       "1 0.00131795 1           \n",
       "2 0.00131795 1           \n",
       "3 0.00131795 1           \n",
       "4 0.00131795 1           \n",
       "5 0.00131795 1           \n",
       "6 0.00131795 1           \n",
       "  Component_specificity                                                     \n",
       "1 CEF,CMV,EBV,HCV,HomoSapiens,HPV,InfluenzaM.tuberculosis,MCPyV,S-pneumoniae\n",
       "2 CEF,CMV,EBV,HCV,HomoSapiens,HPV,InfluenzaM.tuberculosis,MCPyV,S-pneumoniae\n",
       "3 CEF,CMV,EBV,HCV,HomoSapiens,HPV,InfluenzaM.tuberculosis,MCPyV,S-pneumoniae\n",
       "4 CEF,CMV,EBV,HCV,HomoSapiens,HPV,InfluenzaM.tuberculosis,MCPyV,S-pneumoniae\n",
       "5 CEF,CMV,EBV,HCV,HomoSapiens,HPV,InfluenzaM.tuberculosis,MCPyV,S-pneumoniae\n",
       "6 CEF,CMV,EBV,HCV,HomoSapiens,HPV,InfluenzaM.tuberculosis,MCPyV,S-pneumoniae\n",
       "  Patient Delta     cancergroup  Disease Relapse log10MeanFisher\n",
       "1 CHP_396 31185.250 Leukemia     HR ALL  0       2.880101       \n",
       "2 CHP_357  2325.949 Leukemia     AML     0       2.880101       \n",
       "3 CHP_404 19306.571 Solid tumors ERMS    0       2.880101       \n",
       "4 CHP_408 12379.500 Solid tumors OS      0       2.880101       \n",
       "5 CHP_381  1199.403 Solid tumors EWS     0       2.880101       \n",
       "6 CHP_409  1530.263 Solid tumors EWS     0       2.880101       "
      ]
     },
     "metadata": {},
     "output_type": "display_data"
    }
   ],
   "source": [
    "head(comppat_mat_long)"
   ]
  },
  {
   "cell_type": "code",
   "execution_count": 74,
   "metadata": {
    "vscode": {
     "languageId": "r"
    }
   },
   "outputs": [],
   "source": [
    "myorder <- unique(comppat_mat_long$Component_id[ order(comppat_mat_long$MeanFisher)] )\n",
    "\n",
    "comppat_mat_long$Component_id <- factor(comppat_mat_long$Component_id, levels = myorder)"
   ]
  },
  {
   "cell_type": "code",
   "execution_count": 75,
   "metadata": {
    "vscode": {
     "languageId": "r"
    }
   },
   "outputs": [
    {
     "data": {
      "text/html": [
       "<style>\n",
       ".list-inline {list-style: none; margin:0; padding: 0}\n",
       ".list-inline>li {display: inline-block}\n",
       ".list-inline>li:not(:last-child)::after {content: \"\\00b7\"; padding: 0 .5ex}\n",
       "</style>\n",
       "<ol class=list-inline><li>'17'</li><li>'7'</li><li>'8'</li><li>'5'</li><li>'6'</li><li>'171'</li><li>'12'</li><li>'10'</li><li>'13'</li><li>'4'</li><li>'214'</li><li>'1'</li><li>'11'</li><li>'69'</li><li>'56'</li><li>'222'</li><li>'111'</li><li>'248'</li></ol>\n"
      ],
      "text/latex": [
       "\\begin{enumerate*}\n",
       "\\item '17'\n",
       "\\item '7'\n",
       "\\item '8'\n",
       "\\item '5'\n",
       "\\item '6'\n",
       "\\item '171'\n",
       "\\item '12'\n",
       "\\item '10'\n",
       "\\item '13'\n",
       "\\item '4'\n",
       "\\item '214'\n",
       "\\item '1'\n",
       "\\item '11'\n",
       "\\item '69'\n",
       "\\item '56'\n",
       "\\item '222'\n",
       "\\item '111'\n",
       "\\item '248'\n",
       "\\end{enumerate*}\n"
      ],
      "text/markdown": [
       "1. '17'\n",
       "2. '7'\n",
       "3. '8'\n",
       "4. '5'\n",
       "5. '6'\n",
       "6. '171'\n",
       "7. '12'\n",
       "8. '10'\n",
       "9. '13'\n",
       "10. '4'\n",
       "11. '214'\n",
       "12. '1'\n",
       "13. '11'\n",
       "14. '69'\n",
       "15. '56'\n",
       "16. '222'\n",
       "17. '111'\n",
       "18. '248'\n",
       "\n",
       "\n"
      ],
      "text/plain": [
       " [1] \"17\"  \"7\"   \"8\"   \"5\"   \"6\"   \"171\" \"12\"  \"10\"  \"13\"  \"4\"   \"214\" \"1\"  \n",
       "[13] \"11\"  \"69\"  \"56\"  \"222\" \"111\" \"248\""
      ]
     },
     "metadata": {},
     "output_type": "display_data"
    }
   ],
   "source": [
    "myorder"
   ]
  },
  {
   "cell_type": "code",
   "execution_count": 76,
   "metadata": {
    "vscode": {
     "languageId": "r"
    }
   },
   "outputs": [
    {
     "data": {
      "text/html": [
       "<table class=\"dataframe\">\n",
       "<caption>A tibble: 6 x 9</caption>\n",
       "<thead>\n",
       "\t<tr><th scope=col>MeanFisher</th><th scope=col>Component_id</th><th scope=col>Component_specificity</th><th scope=col>Patient</th><th scope=col>Delta</th><th scope=col>cancergroup</th><th scope=col>Disease</th><th scope=col>Relapse</th><th scope=col>log10MeanFisher</th></tr>\n",
       "\t<tr><th scope=col>&lt;dbl&gt;</th><th scope=col>&lt;fct&gt;</th><th scope=col>&lt;chr&gt;</th><th scope=col>&lt;chr&gt;</th><th scope=col>&lt;dbl&gt;</th><th scope=col>&lt;chr&gt;</th><th scope=col>&lt;chr&gt;</th><th scope=col>&lt;int&gt;</th><th scope=col>&lt;dbl&gt;</th></tr>\n",
       "</thead>\n",
       "<tbody>\n",
       "\t<tr><td>0.00131795</td><td>1</td><td>CEF,CMV,EBV,HCV,HomoSapiens,HPV,InfluenzaM.tuberculosis,MCPyV,S-pneumoniae</td><td>CHP_396</td><td>31185.250</td><td>Leukemia    </td><td>HR ALL</td><td>0</td><td>2.880101</td></tr>\n",
       "\t<tr><td>0.00131795</td><td>1</td><td>CEF,CMV,EBV,HCV,HomoSapiens,HPV,InfluenzaM.tuberculosis,MCPyV,S-pneumoniae</td><td>CHP_357</td><td> 2325.949</td><td>Leukemia    </td><td>AML   </td><td>0</td><td>2.880101</td></tr>\n",
       "\t<tr><td>0.00131795</td><td>1</td><td>CEF,CMV,EBV,HCV,HomoSapiens,HPV,InfluenzaM.tuberculosis,MCPyV,S-pneumoniae</td><td>CHP_404</td><td>19306.571</td><td>Solid tumors</td><td>ERMS  </td><td>0</td><td>2.880101</td></tr>\n",
       "\t<tr><td>0.00131795</td><td>1</td><td>CEF,CMV,EBV,HCV,HomoSapiens,HPV,InfluenzaM.tuberculosis,MCPyV,S-pneumoniae</td><td>CHP_408</td><td>12379.500</td><td>Solid tumors</td><td>OS    </td><td>0</td><td>2.880101</td></tr>\n",
       "\t<tr><td>0.00131795</td><td>1</td><td>CEF,CMV,EBV,HCV,HomoSapiens,HPV,InfluenzaM.tuberculosis,MCPyV,S-pneumoniae</td><td>CHP_381</td><td> 1199.403</td><td>Solid tumors</td><td>EWS   </td><td>0</td><td>2.880101</td></tr>\n",
       "\t<tr><td>0.00131795</td><td>1</td><td>CEF,CMV,EBV,HCV,HomoSapiens,HPV,InfluenzaM.tuberculosis,MCPyV,S-pneumoniae</td><td>CHP_409</td><td> 1530.263</td><td>Solid tumors</td><td>EWS   </td><td>0</td><td>2.880101</td></tr>\n",
       "</tbody>\n",
       "</table>\n"
      ],
      "text/latex": [
       "A tibble: 6 x 9\n",
       "\\begin{tabular}{lllllllll}\n",
       " MeanFisher & Component\\_id & Component\\_specificity & Patient & Delta & cancergroup & Disease & Relapse & log10MeanFisher\\\\\n",
       " <dbl> & <fct> & <chr> & <chr> & <dbl> & <chr> & <chr> & <int> & <dbl>\\\\\n",
       "\\hline\n",
       "\t 0.00131795 & 1 & CEF,CMV,EBV,HCV,HomoSapiens,HPV,InfluenzaM.tuberculosis,MCPyV,S-pneumoniae & CHP\\_396 & 31185.250 & Leukemia     & HR ALL & 0 & 2.880101\\\\\n",
       "\t 0.00131795 & 1 & CEF,CMV,EBV,HCV,HomoSapiens,HPV,InfluenzaM.tuberculosis,MCPyV,S-pneumoniae & CHP\\_357 &  2325.949 & Leukemia     & AML    & 0 & 2.880101\\\\\n",
       "\t 0.00131795 & 1 & CEF,CMV,EBV,HCV,HomoSapiens,HPV,InfluenzaM.tuberculosis,MCPyV,S-pneumoniae & CHP\\_404 & 19306.571 & Solid tumors & ERMS   & 0 & 2.880101\\\\\n",
       "\t 0.00131795 & 1 & CEF,CMV,EBV,HCV,HomoSapiens,HPV,InfluenzaM.tuberculosis,MCPyV,S-pneumoniae & CHP\\_408 & 12379.500 & Solid tumors & OS     & 0 & 2.880101\\\\\n",
       "\t 0.00131795 & 1 & CEF,CMV,EBV,HCV,HomoSapiens,HPV,InfluenzaM.tuberculosis,MCPyV,S-pneumoniae & CHP\\_381 &  1199.403 & Solid tumors & EWS    & 0 & 2.880101\\\\\n",
       "\t 0.00131795 & 1 & CEF,CMV,EBV,HCV,HomoSapiens,HPV,InfluenzaM.tuberculosis,MCPyV,S-pneumoniae & CHP\\_409 &  1530.263 & Solid tumors & EWS    & 0 & 2.880101\\\\\n",
       "\\end{tabular}\n"
      ],
      "text/markdown": [
       "\n",
       "A tibble: 6 x 9\n",
       "\n",
       "| MeanFisher &lt;dbl&gt; | Component_id &lt;fct&gt; | Component_specificity &lt;chr&gt; | Patient &lt;chr&gt; | Delta &lt;dbl&gt; | cancergroup &lt;chr&gt; | Disease &lt;chr&gt; | Relapse &lt;int&gt; | log10MeanFisher &lt;dbl&gt; |\n",
       "|---|---|---|---|---|---|---|---|---|\n",
       "| 0.00131795 | 1 | CEF,CMV,EBV,HCV,HomoSapiens,HPV,InfluenzaM.tuberculosis,MCPyV,S-pneumoniae | CHP_396 | 31185.250 | Leukemia     | HR ALL | 0 | 2.880101 |\n",
       "| 0.00131795 | 1 | CEF,CMV,EBV,HCV,HomoSapiens,HPV,InfluenzaM.tuberculosis,MCPyV,S-pneumoniae | CHP_357 |  2325.949 | Leukemia     | AML    | 0 | 2.880101 |\n",
       "| 0.00131795 | 1 | CEF,CMV,EBV,HCV,HomoSapiens,HPV,InfluenzaM.tuberculosis,MCPyV,S-pneumoniae | CHP_404 | 19306.571 | Solid tumors | ERMS   | 0 | 2.880101 |\n",
       "| 0.00131795 | 1 | CEF,CMV,EBV,HCV,HomoSapiens,HPV,InfluenzaM.tuberculosis,MCPyV,S-pneumoniae | CHP_408 | 12379.500 | Solid tumors | OS     | 0 | 2.880101 |\n",
       "| 0.00131795 | 1 | CEF,CMV,EBV,HCV,HomoSapiens,HPV,InfluenzaM.tuberculosis,MCPyV,S-pneumoniae | CHP_381 |  1199.403 | Solid tumors | EWS    | 0 | 2.880101 |\n",
       "| 0.00131795 | 1 | CEF,CMV,EBV,HCV,HomoSapiens,HPV,InfluenzaM.tuberculosis,MCPyV,S-pneumoniae | CHP_409 |  1530.263 | Solid tumors | EWS    | 0 | 2.880101 |\n",
       "\n"
      ],
      "text/plain": [
       "  MeanFisher Component_id\n",
       "1 0.00131795 1           \n",
       "2 0.00131795 1           \n",
       "3 0.00131795 1           \n",
       "4 0.00131795 1           \n",
       "5 0.00131795 1           \n",
       "6 0.00131795 1           \n",
       "  Component_specificity                                                     \n",
       "1 CEF,CMV,EBV,HCV,HomoSapiens,HPV,InfluenzaM.tuberculosis,MCPyV,S-pneumoniae\n",
       "2 CEF,CMV,EBV,HCV,HomoSapiens,HPV,InfluenzaM.tuberculosis,MCPyV,S-pneumoniae\n",
       "3 CEF,CMV,EBV,HCV,HomoSapiens,HPV,InfluenzaM.tuberculosis,MCPyV,S-pneumoniae\n",
       "4 CEF,CMV,EBV,HCV,HomoSapiens,HPV,InfluenzaM.tuberculosis,MCPyV,S-pneumoniae\n",
       "5 CEF,CMV,EBV,HCV,HomoSapiens,HPV,InfluenzaM.tuberculosis,MCPyV,S-pneumoniae\n",
       "6 CEF,CMV,EBV,HCV,HomoSapiens,HPV,InfluenzaM.tuberculosis,MCPyV,S-pneumoniae\n",
       "  Patient Delta     cancergroup  Disease Relapse log10MeanFisher\n",
       "1 CHP_396 31185.250 Leukemia     HR ALL  0       2.880101       \n",
       "2 CHP_357  2325.949 Leukemia     AML     0       2.880101       \n",
       "3 CHP_404 19306.571 Solid tumors ERMS    0       2.880101       \n",
       "4 CHP_408 12379.500 Solid tumors OS      0       2.880101       \n",
       "5 CHP_381  1199.403 Solid tumors EWS     0       2.880101       \n",
       "6 CHP_409  1530.263 Solid tumors EWS     0       2.880101       "
      ]
     },
     "metadata": {},
     "output_type": "display_data"
    }
   ],
   "source": [
    "head(comppat_mat_long)"
   ]
  },
  {
   "cell_type": "code",
   "execution_count": 86,
   "metadata": {
    "vscode": {
     "languageId": "r"
    }
   },
   "outputs": [
    {
     "data": {
      "text/html": [
       "<table class=\"dataframe\">\n",
       "<caption>A tibble: 57 x 9</caption>\n",
       "<thead>\n",
       "\t<tr><th scope=col>MeanFisher</th><th scope=col>Component_id</th><th scope=col>Component_specificity</th><th scope=col>Patient</th><th scope=col>Delta</th><th scope=col>cancergroup</th><th scope=col>Disease</th><th scope=col>Relapse</th><th scope=col>log10MeanFisher</th></tr>\n",
       "\t<tr><th scope=col>&lt;dbl&gt;</th><th scope=col>&lt;fct&gt;</th><th scope=col>&lt;chr&gt;</th><th scope=col>&lt;chr&gt;</th><th scope=col>&lt;dbl&gt;</th><th scope=col>&lt;chr&gt;</th><th scope=col>&lt;chr&gt;</th><th scope=col>&lt;int&gt;</th><th scope=col>&lt;dbl&gt;</th></tr>\n",
       "</thead>\n",
       "<tbody>\n",
       "\t<tr><td>0.0008913701</td><td>4  </td><td>CMV,HCV,HomoSapiens,HPV</td><td>CHP_396</td><td> 129.000000</td><td>Leukemia           </td><td>HR ALL</td><td>0</td><td>3.049942</td></tr>\n",
       "\t<tr><td>0.0008913701</td><td>4  </td><td>CMV,HCV,HomoSapiens,HPV</td><td>CHP_357</td><td> 204.000000</td><td>Leukemia           </td><td>AML   </td><td>0</td><td>3.049942</td></tr>\n",
       "\t<tr><td>0.0008913701</td><td>4  </td><td>CMV,HCV,HomoSapiens,HPV</td><td>CHP_404</td><td>1134.500000</td><td>Solid tumors       </td><td>ERMS  </td><td>0</td><td>3.049942</td></tr>\n",
       "\t<tr><td>0.0008913701</td><td>4  </td><td>CMV,HCV,HomoSapiens,HPV</td><td>CHP_381</td><td>-124.500000</td><td>Solid tumors       </td><td>EWS   </td><td>0</td><td>3.049942</td></tr>\n",
       "\t<tr><td>0.0008913701</td><td>4  </td><td>CMV,HCV,HomoSapiens,HPV</td><td>CHP_347</td><td> -69.000000</td><td>Leukemia           </td><td>ALL   </td><td>0</td><td>3.049942</td></tr>\n",
       "\t<tr><td>0.0008913701</td><td>4  </td><td>CMV,HCV,HomoSapiens,HPV</td><td>CHP_350</td><td>   7.000000</td><td>Solid tumors       </td><td>HB    </td><td>0</td><td>3.049942</td></tr>\n",
       "\t<tr><td>0.0008913701</td><td>4  </td><td>CMV,HCV,HomoSapiens,HPV</td><td>CHP_378</td><td>   4.500000</td><td>Leukemia           </td><td>ALL   </td><td>0</td><td>3.049942</td></tr>\n",
       "\t<tr><td>0.0008913701</td><td>4  </td><td>CMV,HCV,HomoSapiens,HPV</td><td>CHP_365</td><td> 590.000000</td><td>Leukemia           </td><td>ALL   </td><td>0</td><td>3.049942</td></tr>\n",
       "\t<tr><td>0.0008913701</td><td>4  </td><td>CMV,HCV,HomoSapiens,HPV</td><td>CHP_368</td><td>  88.666667</td><td>Solid tumors       </td><td>ARMS  </td><td>1</td><td>3.049942</td></tr>\n",
       "\t<tr><td>0.0008913701</td><td>4  </td><td>CMV,HCV,HomoSapiens,HPV</td><td>CHP_364</td><td>  36.000000</td><td>Solid tumors       </td><td>OS    </td><td>1</td><td>3.049942</td></tr>\n",
       "\t<tr><td>0.0008913701</td><td>4  </td><td>CMV,HCV,HomoSapiens,HPV</td><td>CHP_412</td><td>2668.000000</td><td>Lymphoma           </td><td>BLL   </td><td>0</td><td>3.049942</td></tr>\n",
       "\t<tr><td>0.0008913701</td><td>4  </td><td>CMV,HCV,HomoSapiens,HPV</td><td>CHP_397</td><td> 239.000000</td><td>Leukemia           </td><td>ALL   </td><td>0</td><td>3.049942</td></tr>\n",
       "\t<tr><td>0.0008913701</td><td>4  </td><td>CMV,HCV,HomoSapiens,HPV</td><td>CHP_410</td><td> 115.000000</td><td>Leukemia           </td><td>ALL   </td><td>0</td><td>3.049942</td></tr>\n",
       "\t<tr><td>0.0001587323</td><td>5  </td><td>EBV,HomoSapiens,HPV    </td><td>CHP_404</td><td> 431.000000</td><td>Solid tumors       </td><td>ERMS  </td><td>0</td><td>3.799335</td></tr>\n",
       "\t<tr><td>0.0001693262</td><td>6  </td><td>CMV,EBV,HomoSapiens,HPV</td><td>CHP_396</td><td> 999.500000</td><td>Leukemia           </td><td>HR ALL</td><td>0</td><td>3.771276</td></tr>\n",
       "\t<tr><td>0.0001693262</td><td>6  </td><td>CMV,EBV,HomoSapiens,HPV</td><td>CHP_357</td><td>  64.333333</td><td>Leukemia           </td><td>AML   </td><td>0</td><td>3.771276</td></tr>\n",
       "\t<tr><td>0.0001693262</td><td>6  </td><td>CMV,EBV,HomoSapiens,HPV</td><td>CHP_404</td><td>1222.000000</td><td>Solid tumors       </td><td>ERMS  </td><td>0</td><td>3.771276</td></tr>\n",
       "\t<tr><td>0.0001693262</td><td>6  </td><td>CMV,EBV,HomoSapiens,HPV</td><td>CHP_408</td><td> 724.000000</td><td>Solid tumors       </td><td>OS    </td><td>0</td><td>3.771276</td></tr>\n",
       "\t<tr><td>0.0001693262</td><td>6  </td><td>CMV,EBV,HomoSapiens,HPV</td><td>CHP_381</td><td>   9.416667</td><td>Solid tumors       </td><td>EWS   </td><td>0</td><td>3.771276</td></tr>\n",
       "\t<tr><td>0.0001693262</td><td>6  </td><td>CMV,EBV,HomoSapiens,HPV</td><td>CHP_373</td><td>   0.500000</td><td>Leukemia           </td><td>ALL   </td><td>0</td><td>3.771276</td></tr>\n",
       "\t<tr><td>0.0001693262</td><td>6  </td><td>CMV,EBV,HomoSapiens,HPV</td><td>CHP_353</td><td>  55.333333</td><td>Leukemia           </td><td>AML   </td><td>1</td><td>3.771276</td></tr>\n",
       "\t<tr><td>0.0001693262</td><td>6  </td><td>CMV,EBV,HomoSapiens,HPV</td><td>CHP_347</td><td> 135.000000</td><td>Leukemia           </td><td>ALL   </td><td>0</td><td>3.771276</td></tr>\n",
       "\t<tr><td>0.0001693262</td><td>6  </td><td>CMV,EBV,HomoSapiens,HPV</td><td>CHP_350</td><td>  25.000000</td><td>Solid tumors       </td><td>HB    </td><td>0</td><td>3.771276</td></tr>\n",
       "\t<tr><td>0.0001693262</td><td>6  </td><td>CMV,EBV,HomoSapiens,HPV</td><td>CHP_361</td><td> -21.000000</td><td>Lymphoma           </td><td>HD    </td><td>0</td><td>3.771276</td></tr>\n",
       "\t<tr><td>0.0001693262</td><td>6  </td><td>CMV,EBV,HomoSapiens,HPV</td><td>CHP_378</td><td>   8.142857</td><td>Leukemia           </td><td>ALL   </td><td>0</td><td>3.771276</td></tr>\n",
       "\t<tr><td>0.0001693262</td><td>6  </td><td>CMV,EBV,HomoSapiens,HPV</td><td>CHP_363</td><td> -27.333333</td><td>Solid tumors       </td><td>EWS   </td><td>0</td><td>3.771276</td></tr>\n",
       "\t<tr><td>0.0001693262</td><td>6  </td><td>CMV,EBV,HomoSapiens,HPV</td><td>CHP_369</td><td>-574.625000</td><td>Leukemia           </td><td>AML   </td><td>0</td><td>3.771276</td></tr>\n",
       "\t<tr><td>0.0001693262</td><td>6  </td><td>CMV,EBV,HomoSapiens,HPV</td><td>CHP_365</td><td> 480.000000</td><td>Leukemia           </td><td>ALL   </td><td>0</td><td>3.771276</td></tr>\n",
       "\t<tr><td>0.0001693262</td><td>6  </td><td>CMV,EBV,HomoSapiens,HPV</td><td>CHP_368</td><td>   1.000000</td><td>Solid tumors       </td><td>ARMS  </td><td>1</td><td>3.771276</td></tr>\n",
       "\t<tr><td>0.0001693262</td><td>6  </td><td>CMV,EBV,HomoSapiens,HPV</td><td>CHP_362</td><td> 891.000000</td><td>Solid tumors       </td><td>OS    </td><td>0</td><td>3.771276</td></tr>\n",
       "\t<tr><td>0.0001693262</td><td>6  </td><td>CMV,EBV,HomoSapiens,HPV</td><td>CHP_366</td><td> 668.000000</td><td>Lymphoma           </td><td>HD    </td><td>0</td><td>3.771276</td></tr>\n",
       "\t<tr><td>0.0001693262</td><td>6  </td><td>CMV,EBV,HomoSapiens,HPV</td><td>CHP_410</td><td> 138.000000</td><td>Leukemia           </td><td>ALL   </td><td>0</td><td>3.771276</td></tr>\n",
       "\t<tr><td>0.0001693262</td><td>6  </td><td>CMV,EBV,HomoSapiens,HPV</td><td>CHP_387</td><td>   4.333333</td><td>T-cell malignancies</td><td>T-ALL </td><td>0</td><td>3.771276</td></tr>\n",
       "\t<tr><td>0.0000824899</td><td>7  </td><td>CMV,HomoSapiens        </td><td>CHP_396</td><td>1910.000000</td><td>Leukemia           </td><td>HR ALL</td><td>0</td><td>4.083599</td></tr>\n",
       "\t<tr><td>0.0000824899</td><td>7  </td><td>CMV,HomoSapiens        </td><td>CHP_357</td><td>   5.000000</td><td>Leukemia           </td><td>AML   </td><td>0</td><td>4.083599</td></tr>\n",
       "\t<tr><td>0.0000824899</td><td>7  </td><td>CMV,HomoSapiens        </td><td>CHP_404</td><td>  61.000000</td><td>Solid tumors       </td><td>ERMS  </td><td>0</td><td>4.083599</td></tr>\n",
       "\t<tr><td>0.0000824899</td><td>7  </td><td>CMV,HomoSapiens        </td><td>CHP_381</td><td>-152.500000</td><td>Solid tumors       </td><td>EWS   </td><td>0</td><td>4.083599</td></tr>\n",
       "\t<tr><td>0.0000824899</td><td>7  </td><td>CMV,HomoSapiens        </td><td>CHP_353</td><td>  39.000000</td><td>Leukemia           </td><td>AML   </td><td>1</td><td>4.083599</td></tr>\n",
       "\t<tr><td>0.0000824899</td><td>7  </td><td>CMV,HomoSapiens        </td><td>CHP_363</td><td> -51.500000</td><td>Solid tumors       </td><td>EWS   </td><td>0</td><td>4.083599</td></tr>\n",
       "\t<tr><td>0.0000824899</td><td>7  </td><td>CMV,HomoSapiens        </td><td>CHP_365</td><td> 161.000000</td><td>Leukemia           </td><td>ALL   </td><td>0</td><td>4.083599</td></tr>\n",
       "\t<tr><td>0.0000824899</td><td>7  </td><td>CMV,HomoSapiens        </td><td>CHP_368</td><td>   0.000000</td><td>Solid tumors       </td><td>ARMS  </td><td>1</td><td>4.083599</td></tr>\n",
       "\t<tr><td>0.0001473105</td><td>8  </td><td>                       </td><td>CHP_404</td><td> 354.000000</td><td>Solid tumors       </td><td>ERMS  </td><td>0</td><td>3.831766</td></tr>\n",
       "\t<tr><td>0.0003946483</td><td>10 </td><td>EBV,HomoSapiens        </td><td>CHP_404</td><td> 711.000000</td><td>Solid tumors       </td><td>ERMS  </td><td>0</td><td>3.403790</td></tr>\n",
       "\t<tr><td>0.0003946483</td><td>10 </td><td>EBV,HomoSapiens        </td><td>CHP_381</td><td> -16.000000</td><td>Solid tumors       </td><td>EWS   </td><td>0</td><td>3.403790</td></tr>\n",
       "\t<tr><td>0.0003946483</td><td>10 </td><td>EBV,HomoSapiens        </td><td>CHP_365</td><td> 202.000000</td><td>Leukemia           </td><td>ALL   </td><td>0</td><td>3.403790</td></tr>\n",
       "\t<tr><td>0.0002757693</td><td>12 </td><td>                       </td><td>CHP_378</td><td> -11.000000</td><td>Leukemia           </td><td>ALL   </td><td>0</td><td>3.559454</td></tr>\n",
       "\t<tr><td>0.0005486333</td><td>13 </td><td>CMV,EBV,HPV            </td><td>CHP_357</td><td> -26.500000</td><td>Leukemia           </td><td>AML   </td><td>0</td><td>3.260718</td></tr>\n",
       "\t<tr><td>0.0005486333</td><td>13 </td><td>CMV,EBV,HPV            </td><td>CHP_381</td><td> -39.000000</td><td>Solid tumors       </td><td>EWS   </td><td>0</td><td>3.260718</td></tr>\n",
       "\t<tr><td>0.0005486333</td><td>13 </td><td>CMV,EBV,HPV            </td><td>CHP_361</td><td>  65.333333</td><td>Lymphoma           </td><td>HD    </td><td>0</td><td>3.260718</td></tr>\n",
       "\t<tr><td>0.0005486333</td><td>13 </td><td>CMV,EBV,HPV            </td><td>CHP_378</td><td> -37.500000</td><td>Leukemia           </td><td>ALL   </td><td>0</td><td>3.260718</td></tr>\n",
       "\t<tr><td>0.0005486333</td><td>13 </td><td>CMV,EBV,HPV            </td><td>CHP_363</td><td>  24.000000</td><td>Solid tumors       </td><td>EWS   </td><td>0</td><td>3.260718</td></tr>\n",
       "\t<tr><td>0.0005486333</td><td>13 </td><td>CMV,EBV,HPV            </td><td>CHP_369</td><td>-213.166667</td><td>Leukemia           </td><td>AML   </td><td>0</td><td>3.260718</td></tr>\n",
       "\t<tr><td>0.0005486333</td><td>13 </td><td>CMV,EBV,HPV            </td><td>CHP_414</td><td>-848.000000</td><td>Solid tumors       </td><td>HB    </td><td>0</td><td>3.260718</td></tr>\n",
       "\t<tr><td>0.0005486333</td><td>13 </td><td>CMV,EBV,HPV            </td><td>CHP_368</td><td>  52.000000</td><td>Solid tumors       </td><td>ARMS  </td><td>1</td><td>3.260718</td></tr>\n",
       "\t<tr><td>0.0005486333</td><td>13 </td><td>CMV,EBV,HPV            </td><td>CHP_364</td><td>  47.000000</td><td>Solid tumors       </td><td>OS    </td><td>1</td><td>3.260718</td></tr>\n",
       "\t<tr><td>0.0000140625</td><td>17 </td><td>CMV                    </td><td>CHP_357</td><td> -12.000000</td><td>Leukemia           </td><td>AML   </td><td>0</td><td>4.851937</td></tr>\n",
       "\t<tr><td>0.0001700000</td><td>171</td><td>                       </td><td>CHP_396</td><td>1386.500000</td><td>Leukemia           </td><td>HR ALL</td><td>0</td><td>3.769551</td></tr>\n",
       "</tbody>\n",
       "</table>\n"
      ],
      "text/latex": [
       "A tibble: 57 x 9\n",
       "\\begin{tabular}{lllllllll}\n",
       " MeanFisher & Component\\_id & Component\\_specificity & Patient & Delta & cancergroup & Disease & Relapse & log10MeanFisher\\\\\n",
       " <dbl> & <fct> & <chr> & <chr> & <dbl> & <chr> & <chr> & <int> & <dbl>\\\\\n",
       "\\hline\n",
       "\t 0.0008913701 & 4   & CMV,HCV,HomoSapiens,HPV & CHP\\_396 &  129.000000 & Leukemia            & HR ALL & 0 & 3.049942\\\\\n",
       "\t 0.0008913701 & 4   & CMV,HCV,HomoSapiens,HPV & CHP\\_357 &  204.000000 & Leukemia            & AML    & 0 & 3.049942\\\\\n",
       "\t 0.0008913701 & 4   & CMV,HCV,HomoSapiens,HPV & CHP\\_404 & 1134.500000 & Solid tumors        & ERMS   & 0 & 3.049942\\\\\n",
       "\t 0.0008913701 & 4   & CMV,HCV,HomoSapiens,HPV & CHP\\_381 & -124.500000 & Solid tumors        & EWS    & 0 & 3.049942\\\\\n",
       "\t 0.0008913701 & 4   & CMV,HCV,HomoSapiens,HPV & CHP\\_347 &  -69.000000 & Leukemia            & ALL    & 0 & 3.049942\\\\\n",
       "\t 0.0008913701 & 4   & CMV,HCV,HomoSapiens,HPV & CHP\\_350 &    7.000000 & Solid tumors        & HB     & 0 & 3.049942\\\\\n",
       "\t 0.0008913701 & 4   & CMV,HCV,HomoSapiens,HPV & CHP\\_378 &    4.500000 & Leukemia            & ALL    & 0 & 3.049942\\\\\n",
       "\t 0.0008913701 & 4   & CMV,HCV,HomoSapiens,HPV & CHP\\_365 &  590.000000 & Leukemia            & ALL    & 0 & 3.049942\\\\\n",
       "\t 0.0008913701 & 4   & CMV,HCV,HomoSapiens,HPV & CHP\\_368 &   88.666667 & Solid tumors        & ARMS   & 1 & 3.049942\\\\\n",
       "\t 0.0008913701 & 4   & CMV,HCV,HomoSapiens,HPV & CHP\\_364 &   36.000000 & Solid tumors        & OS     & 1 & 3.049942\\\\\n",
       "\t 0.0008913701 & 4   & CMV,HCV,HomoSapiens,HPV & CHP\\_412 & 2668.000000 & Lymphoma            & BLL    & 0 & 3.049942\\\\\n",
       "\t 0.0008913701 & 4   & CMV,HCV,HomoSapiens,HPV & CHP\\_397 &  239.000000 & Leukemia            & ALL    & 0 & 3.049942\\\\\n",
       "\t 0.0008913701 & 4   & CMV,HCV,HomoSapiens,HPV & CHP\\_410 &  115.000000 & Leukemia            & ALL    & 0 & 3.049942\\\\\n",
       "\t 0.0001587323 & 5   & EBV,HomoSapiens,HPV     & CHP\\_404 &  431.000000 & Solid tumors        & ERMS   & 0 & 3.799335\\\\\n",
       "\t 0.0001693262 & 6   & CMV,EBV,HomoSapiens,HPV & CHP\\_396 &  999.500000 & Leukemia            & HR ALL & 0 & 3.771276\\\\\n",
       "\t 0.0001693262 & 6   & CMV,EBV,HomoSapiens,HPV & CHP\\_357 &   64.333333 & Leukemia            & AML    & 0 & 3.771276\\\\\n",
       "\t 0.0001693262 & 6   & CMV,EBV,HomoSapiens,HPV & CHP\\_404 & 1222.000000 & Solid tumors        & ERMS   & 0 & 3.771276\\\\\n",
       "\t 0.0001693262 & 6   & CMV,EBV,HomoSapiens,HPV & CHP\\_408 &  724.000000 & Solid tumors        & OS     & 0 & 3.771276\\\\\n",
       "\t 0.0001693262 & 6   & CMV,EBV,HomoSapiens,HPV & CHP\\_381 &    9.416667 & Solid tumors        & EWS    & 0 & 3.771276\\\\\n",
       "\t 0.0001693262 & 6   & CMV,EBV,HomoSapiens,HPV & CHP\\_373 &    0.500000 & Leukemia            & ALL    & 0 & 3.771276\\\\\n",
       "\t 0.0001693262 & 6   & CMV,EBV,HomoSapiens,HPV & CHP\\_353 &   55.333333 & Leukemia            & AML    & 1 & 3.771276\\\\\n",
       "\t 0.0001693262 & 6   & CMV,EBV,HomoSapiens,HPV & CHP\\_347 &  135.000000 & Leukemia            & ALL    & 0 & 3.771276\\\\\n",
       "\t 0.0001693262 & 6   & CMV,EBV,HomoSapiens,HPV & CHP\\_350 &   25.000000 & Solid tumors        & HB     & 0 & 3.771276\\\\\n",
       "\t 0.0001693262 & 6   & CMV,EBV,HomoSapiens,HPV & CHP\\_361 &  -21.000000 & Lymphoma            & HD     & 0 & 3.771276\\\\\n",
       "\t 0.0001693262 & 6   & CMV,EBV,HomoSapiens,HPV & CHP\\_378 &    8.142857 & Leukemia            & ALL    & 0 & 3.771276\\\\\n",
       "\t 0.0001693262 & 6   & CMV,EBV,HomoSapiens,HPV & CHP\\_363 &  -27.333333 & Solid tumors        & EWS    & 0 & 3.771276\\\\\n",
       "\t 0.0001693262 & 6   & CMV,EBV,HomoSapiens,HPV & CHP\\_369 & -574.625000 & Leukemia            & AML    & 0 & 3.771276\\\\\n",
       "\t 0.0001693262 & 6   & CMV,EBV,HomoSapiens,HPV & CHP\\_365 &  480.000000 & Leukemia            & ALL    & 0 & 3.771276\\\\\n",
       "\t 0.0001693262 & 6   & CMV,EBV,HomoSapiens,HPV & CHP\\_368 &    1.000000 & Solid tumors        & ARMS   & 1 & 3.771276\\\\\n",
       "\t 0.0001693262 & 6   & CMV,EBV,HomoSapiens,HPV & CHP\\_362 &  891.000000 & Solid tumors        & OS     & 0 & 3.771276\\\\\n",
       "\t 0.0001693262 & 6   & CMV,EBV,HomoSapiens,HPV & CHP\\_366 &  668.000000 & Lymphoma            & HD     & 0 & 3.771276\\\\\n",
       "\t 0.0001693262 & 6   & CMV,EBV,HomoSapiens,HPV & CHP\\_410 &  138.000000 & Leukemia            & ALL    & 0 & 3.771276\\\\\n",
       "\t 0.0001693262 & 6   & CMV,EBV,HomoSapiens,HPV & CHP\\_387 &    4.333333 & T-cell malignancies & T-ALL  & 0 & 3.771276\\\\\n",
       "\t 0.0000824899 & 7   & CMV,HomoSapiens         & CHP\\_396 & 1910.000000 & Leukemia            & HR ALL & 0 & 4.083599\\\\\n",
       "\t 0.0000824899 & 7   & CMV,HomoSapiens         & CHP\\_357 &    5.000000 & Leukemia            & AML    & 0 & 4.083599\\\\\n",
       "\t 0.0000824899 & 7   & CMV,HomoSapiens         & CHP\\_404 &   61.000000 & Solid tumors        & ERMS   & 0 & 4.083599\\\\\n",
       "\t 0.0000824899 & 7   & CMV,HomoSapiens         & CHP\\_381 & -152.500000 & Solid tumors        & EWS    & 0 & 4.083599\\\\\n",
       "\t 0.0000824899 & 7   & CMV,HomoSapiens         & CHP\\_353 &   39.000000 & Leukemia            & AML    & 1 & 4.083599\\\\\n",
       "\t 0.0000824899 & 7   & CMV,HomoSapiens         & CHP\\_363 &  -51.500000 & Solid tumors        & EWS    & 0 & 4.083599\\\\\n",
       "\t 0.0000824899 & 7   & CMV,HomoSapiens         & CHP\\_365 &  161.000000 & Leukemia            & ALL    & 0 & 4.083599\\\\\n",
       "\t 0.0000824899 & 7   & CMV,HomoSapiens         & CHP\\_368 &    0.000000 & Solid tumors        & ARMS   & 1 & 4.083599\\\\\n",
       "\t 0.0001473105 & 8   &                         & CHP\\_404 &  354.000000 & Solid tumors        & ERMS   & 0 & 3.831766\\\\\n",
       "\t 0.0003946483 & 10  & EBV,HomoSapiens         & CHP\\_404 &  711.000000 & Solid tumors        & ERMS   & 0 & 3.403790\\\\\n",
       "\t 0.0003946483 & 10  & EBV,HomoSapiens         & CHP\\_381 &  -16.000000 & Solid tumors        & EWS    & 0 & 3.403790\\\\\n",
       "\t 0.0003946483 & 10  & EBV,HomoSapiens         & CHP\\_365 &  202.000000 & Leukemia            & ALL    & 0 & 3.403790\\\\\n",
       "\t 0.0002757693 & 12  &                         & CHP\\_378 &  -11.000000 & Leukemia            & ALL    & 0 & 3.559454\\\\\n",
       "\t 0.0005486333 & 13  & CMV,EBV,HPV             & CHP\\_357 &  -26.500000 & Leukemia            & AML    & 0 & 3.260718\\\\\n",
       "\t 0.0005486333 & 13  & CMV,EBV,HPV             & CHP\\_381 &  -39.000000 & Solid tumors        & EWS    & 0 & 3.260718\\\\\n",
       "\t 0.0005486333 & 13  & CMV,EBV,HPV             & CHP\\_361 &   65.333333 & Lymphoma            & HD     & 0 & 3.260718\\\\\n",
       "\t 0.0005486333 & 13  & CMV,EBV,HPV             & CHP\\_378 &  -37.500000 & Leukemia            & ALL    & 0 & 3.260718\\\\\n",
       "\t 0.0005486333 & 13  & CMV,EBV,HPV             & CHP\\_363 &   24.000000 & Solid tumors        & EWS    & 0 & 3.260718\\\\\n",
       "\t 0.0005486333 & 13  & CMV,EBV,HPV             & CHP\\_369 & -213.166667 & Leukemia            & AML    & 0 & 3.260718\\\\\n",
       "\t 0.0005486333 & 13  & CMV,EBV,HPV             & CHP\\_414 & -848.000000 & Solid tumors        & HB     & 0 & 3.260718\\\\\n",
       "\t 0.0005486333 & 13  & CMV,EBV,HPV             & CHP\\_368 &   52.000000 & Solid tumors        & ARMS   & 1 & 3.260718\\\\\n",
       "\t 0.0005486333 & 13  & CMV,EBV,HPV             & CHP\\_364 &   47.000000 & Solid tumors        & OS     & 1 & 3.260718\\\\\n",
       "\t 0.0000140625 & 17  & CMV                     & CHP\\_357 &  -12.000000 & Leukemia            & AML    & 0 & 4.851937\\\\\n",
       "\t 0.0001700000 & 171 &                         & CHP\\_396 & 1386.500000 & Leukemia            & HR ALL & 0 & 3.769551\\\\\n",
       "\\end{tabular}\n"
      ],
      "text/markdown": [
       "\n",
       "A tibble: 57 x 9\n",
       "\n",
       "| MeanFisher &lt;dbl&gt; | Component_id &lt;fct&gt; | Component_specificity &lt;chr&gt; | Patient &lt;chr&gt; | Delta &lt;dbl&gt; | cancergroup &lt;chr&gt; | Disease &lt;chr&gt; | Relapse &lt;int&gt; | log10MeanFisher &lt;dbl&gt; |\n",
       "|---|---|---|---|---|---|---|---|---|\n",
       "| 0.0008913701 | 4   | CMV,HCV,HomoSapiens,HPV | CHP_396 |  129.000000 | Leukemia            | HR ALL | 0 | 3.049942 |\n",
       "| 0.0008913701 | 4   | CMV,HCV,HomoSapiens,HPV | CHP_357 |  204.000000 | Leukemia            | AML    | 0 | 3.049942 |\n",
       "| 0.0008913701 | 4   | CMV,HCV,HomoSapiens,HPV | CHP_404 | 1134.500000 | Solid tumors        | ERMS   | 0 | 3.049942 |\n",
       "| 0.0008913701 | 4   | CMV,HCV,HomoSapiens,HPV | CHP_381 | -124.500000 | Solid tumors        | EWS    | 0 | 3.049942 |\n",
       "| 0.0008913701 | 4   | CMV,HCV,HomoSapiens,HPV | CHP_347 |  -69.000000 | Leukemia            | ALL    | 0 | 3.049942 |\n",
       "| 0.0008913701 | 4   | CMV,HCV,HomoSapiens,HPV | CHP_350 |    7.000000 | Solid tumors        | HB     | 0 | 3.049942 |\n",
       "| 0.0008913701 | 4   | CMV,HCV,HomoSapiens,HPV | CHP_378 |    4.500000 | Leukemia            | ALL    | 0 | 3.049942 |\n",
       "| 0.0008913701 | 4   | CMV,HCV,HomoSapiens,HPV | CHP_365 |  590.000000 | Leukemia            | ALL    | 0 | 3.049942 |\n",
       "| 0.0008913701 | 4   | CMV,HCV,HomoSapiens,HPV | CHP_368 |   88.666667 | Solid tumors        | ARMS   | 1 | 3.049942 |\n",
       "| 0.0008913701 | 4   | CMV,HCV,HomoSapiens,HPV | CHP_364 |   36.000000 | Solid tumors        | OS     | 1 | 3.049942 |\n",
       "| 0.0008913701 | 4   | CMV,HCV,HomoSapiens,HPV | CHP_412 | 2668.000000 | Lymphoma            | BLL    | 0 | 3.049942 |\n",
       "| 0.0008913701 | 4   | CMV,HCV,HomoSapiens,HPV | CHP_397 |  239.000000 | Leukemia            | ALL    | 0 | 3.049942 |\n",
       "| 0.0008913701 | 4   | CMV,HCV,HomoSapiens,HPV | CHP_410 |  115.000000 | Leukemia            | ALL    | 0 | 3.049942 |\n",
       "| 0.0001587323 | 5   | EBV,HomoSapiens,HPV     | CHP_404 |  431.000000 | Solid tumors        | ERMS   | 0 | 3.799335 |\n",
       "| 0.0001693262 | 6   | CMV,EBV,HomoSapiens,HPV | CHP_396 |  999.500000 | Leukemia            | HR ALL | 0 | 3.771276 |\n",
       "| 0.0001693262 | 6   | CMV,EBV,HomoSapiens,HPV | CHP_357 |   64.333333 | Leukemia            | AML    | 0 | 3.771276 |\n",
       "| 0.0001693262 | 6   | CMV,EBV,HomoSapiens,HPV | CHP_404 | 1222.000000 | Solid tumors        | ERMS   | 0 | 3.771276 |\n",
       "| 0.0001693262 | 6   | CMV,EBV,HomoSapiens,HPV | CHP_408 |  724.000000 | Solid tumors        | OS     | 0 | 3.771276 |\n",
       "| 0.0001693262 | 6   | CMV,EBV,HomoSapiens,HPV | CHP_381 |    9.416667 | Solid tumors        | EWS    | 0 | 3.771276 |\n",
       "| 0.0001693262 | 6   | CMV,EBV,HomoSapiens,HPV | CHP_373 |    0.500000 | Leukemia            | ALL    | 0 | 3.771276 |\n",
       "| 0.0001693262 | 6   | CMV,EBV,HomoSapiens,HPV | CHP_353 |   55.333333 | Leukemia            | AML    | 1 | 3.771276 |\n",
       "| 0.0001693262 | 6   | CMV,EBV,HomoSapiens,HPV | CHP_347 |  135.000000 | Leukemia            | ALL    | 0 | 3.771276 |\n",
       "| 0.0001693262 | 6   | CMV,EBV,HomoSapiens,HPV | CHP_350 |   25.000000 | Solid tumors        | HB     | 0 | 3.771276 |\n",
       "| 0.0001693262 | 6   | CMV,EBV,HomoSapiens,HPV | CHP_361 |  -21.000000 | Lymphoma            | HD     | 0 | 3.771276 |\n",
       "| 0.0001693262 | 6   | CMV,EBV,HomoSapiens,HPV | CHP_378 |    8.142857 | Leukemia            | ALL    | 0 | 3.771276 |\n",
       "| 0.0001693262 | 6   | CMV,EBV,HomoSapiens,HPV | CHP_363 |  -27.333333 | Solid tumors        | EWS    | 0 | 3.771276 |\n",
       "| 0.0001693262 | 6   | CMV,EBV,HomoSapiens,HPV | CHP_369 | -574.625000 | Leukemia            | AML    | 0 | 3.771276 |\n",
       "| 0.0001693262 | 6   | CMV,EBV,HomoSapiens,HPV | CHP_365 |  480.000000 | Leukemia            | ALL    | 0 | 3.771276 |\n",
       "| 0.0001693262 | 6   | CMV,EBV,HomoSapiens,HPV | CHP_368 |    1.000000 | Solid tumors        | ARMS   | 1 | 3.771276 |\n",
       "| 0.0001693262 | 6   | CMV,EBV,HomoSapiens,HPV | CHP_362 |  891.000000 | Solid tumors        | OS     | 0 | 3.771276 |\n",
       "| 0.0001693262 | 6   | CMV,EBV,HomoSapiens,HPV | CHP_366 |  668.000000 | Lymphoma            | HD     | 0 | 3.771276 |\n",
       "| 0.0001693262 | 6   | CMV,EBV,HomoSapiens,HPV | CHP_410 |  138.000000 | Leukemia            | ALL    | 0 | 3.771276 |\n",
       "| 0.0001693262 | 6   | CMV,EBV,HomoSapiens,HPV | CHP_387 |    4.333333 | T-cell malignancies | T-ALL  | 0 | 3.771276 |\n",
       "| 0.0000824899 | 7   | CMV,HomoSapiens         | CHP_396 | 1910.000000 | Leukemia            | HR ALL | 0 | 4.083599 |\n",
       "| 0.0000824899 | 7   | CMV,HomoSapiens         | CHP_357 |    5.000000 | Leukemia            | AML    | 0 | 4.083599 |\n",
       "| 0.0000824899 | 7   | CMV,HomoSapiens         | CHP_404 |   61.000000 | Solid tumors        | ERMS   | 0 | 4.083599 |\n",
       "| 0.0000824899 | 7   | CMV,HomoSapiens         | CHP_381 | -152.500000 | Solid tumors        | EWS    | 0 | 4.083599 |\n",
       "| 0.0000824899 | 7   | CMV,HomoSapiens         | CHP_353 |   39.000000 | Leukemia            | AML    | 1 | 4.083599 |\n",
       "| 0.0000824899 | 7   | CMV,HomoSapiens         | CHP_363 |  -51.500000 | Solid tumors        | EWS    | 0 | 4.083599 |\n",
       "| 0.0000824899 | 7   | CMV,HomoSapiens         | CHP_365 |  161.000000 | Leukemia            | ALL    | 0 | 4.083599 |\n",
       "| 0.0000824899 | 7   | CMV,HomoSapiens         | CHP_368 |    0.000000 | Solid tumors        | ARMS   | 1 | 4.083599 |\n",
       "| 0.0001473105 | 8   | <!----> | CHP_404 |  354.000000 | Solid tumors        | ERMS   | 0 | 3.831766 |\n",
       "| 0.0003946483 | 10  | EBV,HomoSapiens         | CHP_404 |  711.000000 | Solid tumors        | ERMS   | 0 | 3.403790 |\n",
       "| 0.0003946483 | 10  | EBV,HomoSapiens         | CHP_381 |  -16.000000 | Solid tumors        | EWS    | 0 | 3.403790 |\n",
       "| 0.0003946483 | 10  | EBV,HomoSapiens         | CHP_365 |  202.000000 | Leukemia            | ALL    | 0 | 3.403790 |\n",
       "| 0.0002757693 | 12  | <!----> | CHP_378 |  -11.000000 | Leukemia            | ALL    | 0 | 3.559454 |\n",
       "| 0.0005486333 | 13  | CMV,EBV,HPV             | CHP_357 |  -26.500000 | Leukemia            | AML    | 0 | 3.260718 |\n",
       "| 0.0005486333 | 13  | CMV,EBV,HPV             | CHP_381 |  -39.000000 | Solid tumors        | EWS    | 0 | 3.260718 |\n",
       "| 0.0005486333 | 13  | CMV,EBV,HPV             | CHP_361 |   65.333333 | Lymphoma            | HD     | 0 | 3.260718 |\n",
       "| 0.0005486333 | 13  | CMV,EBV,HPV             | CHP_378 |  -37.500000 | Leukemia            | ALL    | 0 | 3.260718 |\n",
       "| 0.0005486333 | 13  | CMV,EBV,HPV             | CHP_363 |   24.000000 | Solid tumors        | EWS    | 0 | 3.260718 |\n",
       "| 0.0005486333 | 13  | CMV,EBV,HPV             | CHP_369 | -213.166667 | Leukemia            | AML    | 0 | 3.260718 |\n",
       "| 0.0005486333 | 13  | CMV,EBV,HPV             | CHP_414 | -848.000000 | Solid tumors        | HB     | 0 | 3.260718 |\n",
       "| 0.0005486333 | 13  | CMV,EBV,HPV             | CHP_368 |   52.000000 | Solid tumors        | ARMS   | 1 | 3.260718 |\n",
       "| 0.0005486333 | 13  | CMV,EBV,HPV             | CHP_364 |   47.000000 | Solid tumors        | OS     | 1 | 3.260718 |\n",
       "| 0.0000140625 | 17  | CMV                     | CHP_357 |  -12.000000 | Leukemia            | AML    | 0 | 4.851937 |\n",
       "| 0.0001700000 | 171 | <!----> | CHP_396 | 1386.500000 | Leukemia            | HR ALL | 0 | 3.769551 |\n",
       "\n"
      ],
      "text/plain": [
       "   MeanFisher   Component_id Component_specificity   Patient Delta      \n",
       "1  0.0008913701 4            CMV,HCV,HomoSapiens,HPV CHP_396  129.000000\n",
       "2  0.0008913701 4            CMV,HCV,HomoSapiens,HPV CHP_357  204.000000\n",
       "3  0.0008913701 4            CMV,HCV,HomoSapiens,HPV CHP_404 1134.500000\n",
       "4  0.0008913701 4            CMV,HCV,HomoSapiens,HPV CHP_381 -124.500000\n",
       "5  0.0008913701 4            CMV,HCV,HomoSapiens,HPV CHP_347  -69.000000\n",
       "6  0.0008913701 4            CMV,HCV,HomoSapiens,HPV CHP_350    7.000000\n",
       "7  0.0008913701 4            CMV,HCV,HomoSapiens,HPV CHP_378    4.500000\n",
       "8  0.0008913701 4            CMV,HCV,HomoSapiens,HPV CHP_365  590.000000\n",
       "9  0.0008913701 4            CMV,HCV,HomoSapiens,HPV CHP_368   88.666667\n",
       "10 0.0008913701 4            CMV,HCV,HomoSapiens,HPV CHP_364   36.000000\n",
       "11 0.0008913701 4            CMV,HCV,HomoSapiens,HPV CHP_412 2668.000000\n",
       "12 0.0008913701 4            CMV,HCV,HomoSapiens,HPV CHP_397  239.000000\n",
       "13 0.0008913701 4            CMV,HCV,HomoSapiens,HPV CHP_410  115.000000\n",
       "14 0.0001587323 5            EBV,HomoSapiens,HPV     CHP_404  431.000000\n",
       "15 0.0001693262 6            CMV,EBV,HomoSapiens,HPV CHP_396  999.500000\n",
       "16 0.0001693262 6            CMV,EBV,HomoSapiens,HPV CHP_357   64.333333\n",
       "17 0.0001693262 6            CMV,EBV,HomoSapiens,HPV CHP_404 1222.000000\n",
       "18 0.0001693262 6            CMV,EBV,HomoSapiens,HPV CHP_408  724.000000\n",
       "19 0.0001693262 6            CMV,EBV,HomoSapiens,HPV CHP_381    9.416667\n",
       "20 0.0001693262 6            CMV,EBV,HomoSapiens,HPV CHP_373    0.500000\n",
       "21 0.0001693262 6            CMV,EBV,HomoSapiens,HPV CHP_353   55.333333\n",
       "22 0.0001693262 6            CMV,EBV,HomoSapiens,HPV CHP_347  135.000000\n",
       "23 0.0001693262 6            CMV,EBV,HomoSapiens,HPV CHP_350   25.000000\n",
       "24 0.0001693262 6            CMV,EBV,HomoSapiens,HPV CHP_361  -21.000000\n",
       "25 0.0001693262 6            CMV,EBV,HomoSapiens,HPV CHP_378    8.142857\n",
       "26 0.0001693262 6            CMV,EBV,HomoSapiens,HPV CHP_363  -27.333333\n",
       "27 0.0001693262 6            CMV,EBV,HomoSapiens,HPV CHP_369 -574.625000\n",
       "28 0.0001693262 6            CMV,EBV,HomoSapiens,HPV CHP_365  480.000000\n",
       "29 0.0001693262 6            CMV,EBV,HomoSapiens,HPV CHP_368    1.000000\n",
       "30 0.0001693262 6            CMV,EBV,HomoSapiens,HPV CHP_362  891.000000\n",
       "31 0.0001693262 6            CMV,EBV,HomoSapiens,HPV CHP_366  668.000000\n",
       "32 0.0001693262 6            CMV,EBV,HomoSapiens,HPV CHP_410  138.000000\n",
       "33 0.0001693262 6            CMV,EBV,HomoSapiens,HPV CHP_387    4.333333\n",
       "34 0.0000824899 7            CMV,HomoSapiens         CHP_396 1910.000000\n",
       "35 0.0000824899 7            CMV,HomoSapiens         CHP_357    5.000000\n",
       "36 0.0000824899 7            CMV,HomoSapiens         CHP_404   61.000000\n",
       "37 0.0000824899 7            CMV,HomoSapiens         CHP_381 -152.500000\n",
       "38 0.0000824899 7            CMV,HomoSapiens         CHP_353   39.000000\n",
       "39 0.0000824899 7            CMV,HomoSapiens         CHP_363  -51.500000\n",
       "40 0.0000824899 7            CMV,HomoSapiens         CHP_365  161.000000\n",
       "41 0.0000824899 7            CMV,HomoSapiens         CHP_368    0.000000\n",
       "42 0.0001473105 8                                    CHP_404  354.000000\n",
       "43 0.0003946483 10           EBV,HomoSapiens         CHP_404  711.000000\n",
       "44 0.0003946483 10           EBV,HomoSapiens         CHP_381  -16.000000\n",
       "45 0.0003946483 10           EBV,HomoSapiens         CHP_365  202.000000\n",
       "46 0.0002757693 12                                   CHP_378  -11.000000\n",
       "47 0.0005486333 13           CMV,EBV,HPV             CHP_357  -26.500000\n",
       "48 0.0005486333 13           CMV,EBV,HPV             CHP_381  -39.000000\n",
       "49 0.0005486333 13           CMV,EBV,HPV             CHP_361   65.333333\n",
       "50 0.0005486333 13           CMV,EBV,HPV             CHP_378  -37.500000\n",
       "51 0.0005486333 13           CMV,EBV,HPV             CHP_363   24.000000\n",
       "52 0.0005486333 13           CMV,EBV,HPV             CHP_369 -213.166667\n",
       "53 0.0005486333 13           CMV,EBV,HPV             CHP_414 -848.000000\n",
       "54 0.0005486333 13           CMV,EBV,HPV             CHP_368   52.000000\n",
       "55 0.0005486333 13           CMV,EBV,HPV             CHP_364   47.000000\n",
       "56 0.0000140625 17           CMV                     CHP_357  -12.000000\n",
       "57 0.0001700000 171                                  CHP_396 1386.500000\n",
       "   cancergroup         Disease Relapse log10MeanFisher\n",
       "1  Leukemia            HR ALL  0       3.049942       \n",
       "2  Leukemia            AML     0       3.049942       \n",
       "3  Solid tumors        ERMS    0       3.049942       \n",
       "4  Solid tumors        EWS     0       3.049942       \n",
       "5  Leukemia            ALL     0       3.049942       \n",
       "6  Solid tumors        HB      0       3.049942       \n",
       "7  Leukemia            ALL     0       3.049942       \n",
       "8  Leukemia            ALL     0       3.049942       \n",
       "9  Solid tumors        ARMS    1       3.049942       \n",
       "10 Solid tumors        OS      1       3.049942       \n",
       "11 Lymphoma            BLL     0       3.049942       \n",
       "12 Leukemia            ALL     0       3.049942       \n",
       "13 Leukemia            ALL     0       3.049942       \n",
       "14 Solid tumors        ERMS    0       3.799335       \n",
       "15 Leukemia            HR ALL  0       3.771276       \n",
       "16 Leukemia            AML     0       3.771276       \n",
       "17 Solid tumors        ERMS    0       3.771276       \n",
       "18 Solid tumors        OS      0       3.771276       \n",
       "19 Solid tumors        EWS     0       3.771276       \n",
       "20 Leukemia            ALL     0       3.771276       \n",
       "21 Leukemia            AML     1       3.771276       \n",
       "22 Leukemia            ALL     0       3.771276       \n",
       "23 Solid tumors        HB      0       3.771276       \n",
       "24 Lymphoma            HD      0       3.771276       \n",
       "25 Leukemia            ALL     0       3.771276       \n",
       "26 Solid tumors        EWS     0       3.771276       \n",
       "27 Leukemia            AML     0       3.771276       \n",
       "28 Leukemia            ALL     0       3.771276       \n",
       "29 Solid tumors        ARMS    1       3.771276       \n",
       "30 Solid tumors        OS      0       3.771276       \n",
       "31 Lymphoma            HD      0       3.771276       \n",
       "32 Leukemia            ALL     0       3.771276       \n",
       "33 T-cell malignancies T-ALL   0       3.771276       \n",
       "34 Leukemia            HR ALL  0       4.083599       \n",
       "35 Leukemia            AML     0       4.083599       \n",
       "36 Solid tumors        ERMS    0       4.083599       \n",
       "37 Solid tumors        EWS     0       4.083599       \n",
       "38 Leukemia            AML     1       4.083599       \n",
       "39 Solid tumors        EWS     0       4.083599       \n",
       "40 Leukemia            ALL     0       4.083599       \n",
       "41 Solid tumors        ARMS    1       4.083599       \n",
       "42 Solid tumors        ERMS    0       3.831766       \n",
       "43 Solid tumors        ERMS    0       3.403790       \n",
       "44 Solid tumors        EWS     0       3.403790       \n",
       "45 Leukemia            ALL     0       3.403790       \n",
       "46 Leukemia            ALL     0       3.559454       \n",
       "47 Leukemia            AML     0       3.260718       \n",
       "48 Solid tumors        EWS     0       3.260718       \n",
       "49 Lymphoma            HD      0       3.260718       \n",
       "50 Leukemia            ALL     0       3.260718       \n",
       "51 Solid tumors        EWS     0       3.260718       \n",
       "52 Leukemia            AML     0       3.260718       \n",
       "53 Solid tumors        HB      0       3.260718       \n",
       "54 Solid tumors        ARMS    1       3.260718       \n",
       "55 Solid tumors        OS      1       3.260718       \n",
       "56 Leukemia            AML     0       4.851937       \n",
       "57 Leukemia            HR ALL  0       3.769551       "
      ]
     },
     "metadata": {},
     "output_type": "display_data"
    }
   ],
   "source": [
    "comppat_mat_long[which(comppat_mat_long$MeanFisher < 0.001), ]"
   ]
  },
  {
   "cell_type": "code",
   "execution_count": 87,
   "metadata": {
    "vscode": {
     "languageId": "r"
    }
   },
   "outputs": [
    {
     "data": {
      "text/plain": [
       "   Min. 1st Qu.  Median    Mean 3rd Qu.    Max. \n",
       " -848.0   -11.0    47.0   243.3   239.0  2668.0 "
      ]
     },
     "metadata": {},
     "output_type": "display_data"
    }
   ],
   "source": [
    "summary(comppat_mat_long$Delta[which(comppat_mat_long$MeanFisher < 0.001) ])"
   ]
  },
  {
   "cell_type": "code",
   "execution_count": 125,
   "metadata": {
    "vscode": {
     "languageId": "r"
    }
   },
   "outputs": [],
   "source": [
    "p4 <- ggplot(\n",
    "    comppat_mat_long[which(comppat_mat_long$MeanFisher < 0.001), ],\n",
    "    aes(x = Delta, y = Component_id, color = cancergroup, shape = as.factor(Relapse) )\n",
    ") +\n",
    "    geom_jitter(size = 5, width = 0, height = 0.3) +\n",
    "    myplot +\n",
    "    myaxis +\n",
    "    theme(\n",
    "        plot.title = element_text(size = 20),\n",
    "        legend.position = \"none\", axis.title.y = element_blank(),\n",
    "        axis.title.x = element_blank(), axis.text.x = element_text(size = 20, angle = 0, hjust = 0.5)\n",
    "    ) +\n",
    "    ggtitle(expression(underline(\"Clonal Change in TCR specificity graph components\"))) +\n",
    "    scale_color_manual(values = group_col) +\n",
    "     geom_hline(yintercept = c(1.5, 2.5, 3.5, 4.5, 5.5,\n",
    "     6.5, 7.5, 8.5, 9.5, 10.5 ), color = \"grey\", linetype = \"dotted\") \n"
   ]
  },
  {
   "cell_type": "code",
   "execution_count": 126,
   "metadata": {
    "vscode": {
     "languageId": "r"
    }
   },
   "outputs": [
    {
     "data": {
      "image/png": "[encoded data removed]",
      "text/plain": [
       "plot without title"
      ]
     },
     "metadata": {
      "image/png": {
       "height": 420,
       "width": 420
      }
     },
     "output_type": "display_data"
    }
   ],
   "source": [
    "p4"
   ]
  },
  {
   "cell_type": "code",
   "execution_count": 127,
   "metadata": {
    "vscode": {
     "languageId": "r"
    }
   },
   "outputs": [],
   "source": [
    "comppat_mat_unique <- comppat_mat_long[ !duplicated(comppat_mat_long$Component_id),]"
   ]
  },
  {
   "cell_type": "code",
   "execution_count": 128,
   "metadata": {
    "vscode": {
     "languageId": "r"
    }
   },
   "outputs": [],
   "source": [
    "p1 <- ggplot(comppat_mat_unique[which(comppat_mat_unique$MeanFisher < 0.001), ], \n",
    "aes(x = Component_id, y = MeanFisher)) +\n",
    "  geom_bar(stat = \"identity\", width = 0.8, alpha = 1) +\n",
    "  coord_flip() +\n",
    "  scale_y_reverse() +\n",
    "  myplot +\n",
    " theme( legend.position = \"none\",  plot.title = element_text(size = 20),\n",
    "   axis.text.y = element_blank(), axis.title.y = element_blank(), \n",
    "   axis.ticks.y = element_blank(), axis.line.y = element_blank(),\n",
    "   axis.title.x = element_blank(), axis.text.x = element_text(angle = 30, size = 20, hjust = 1)\n",
    " ) + ggtitle(expression(underline(\"Average specificity Fisher score\"))) \n"
   ]
  },
  {
   "cell_type": "code",
   "execution_count": 129,
   "metadata": {
    "vscode": {
     "languageId": "r"
    }
   },
   "outputs": [
    {
     "data": {
      "text/plain": [
       "     Min.   1st Qu.    Median      Mean   3rd Qu.      Max. \n",
       "1.406e-05 1.695e-04 7.200e-04 7.001e-03 1.416e-03 9.500e-02 "
      ]
     },
     "metadata": {},
     "output_type": "display_data"
    }
   ],
   "source": [
    "summary(comppat_mat_unique$MeanFisher)"
   ]
  },
  {
   "cell_type": "code",
   "execution_count": 130,
   "metadata": {
    "vscode": {
     "languageId": "r"
    }
   },
   "outputs": [
    {
     "data": {
      "image/png": "[encoded data removed]",
      "text/plain": [
       "plot without title"
      ]
     },
     "metadata": {
      "image/png": {
       "height": 420,
       "width": 420
      }
     },
     "output_type": "display_data"
    }
   ],
   "source": [
    "p1"
   ]
  },
  {
   "cell_type": "code",
   "execution_count": 131,
   "metadata": {
    "vscode": {
     "languageId": "r"
    }
   },
   "outputs": [],
   "source": [
    "mycomps <- comppat_mat_unique[which(comppat_mat_unique$MeanFisher < 0.001), ]"
   ]
  },
  {
   "cell_type": "code",
   "execution_count": 132,
   "metadata": {
    "vscode": {
     "languageId": "r"
    }
   },
   "outputs": [],
   "source": [
    "mycomps$x <- 1"
   ]
  },
  {
   "cell_type": "code",
   "execution_count": 137,
   "metadata": {
    "vscode": {
     "languageId": "r"
    }
   },
   "outputs": [],
   "source": [
    "mycomps$Component_specificity[ mycomps$Component_specificity == \"\"] <- \"Unknown\""
   ]
  },
  {
   "cell_type": "code",
   "execution_count": 138,
   "metadata": {
    "vscode": {
     "languageId": "r"
    }
   },
   "outputs": [],
   "source": [
    "text_plot <- ggplot(mycomps, aes(x = x, y = Component_id, label = Component_specificity)) +\n",
    "  geom_text(size = 7) +\n",
    "  myplot +\n",
    " theme(legend.position = \"none\", plot.title = element_text(size = 20),\n",
    "   axis.text = element_blank(), axis.title = element_blank(), \n",
    "   axis.ticks = element_blank(), axis.line = element_blank()\n",
    " ) +\n",
    "  ggtitle(expression(underline(\"Graph component annotations\")))\n"
   ]
  },
  {
   "cell_type": "code",
   "execution_count": 139,
   "metadata": {
    "vscode": {
     "languageId": "r"
    }
   },
   "outputs": [
    {
     "data": {
      "image/png": "[encoded data removed]",
      "text/plain": [
       "plot without title"
      ]
     },
     "metadata": {
      "image/png": {
       "height": 420,
       "width": 420
      }
     },
     "output_type": "display_data"
    }
   ],
   "source": [
    "text_plot"
   ]
  },
  {
   "cell_type": "code",
   "execution_count": 140,
   "metadata": {
    "vscode": {
     "languageId": "r"
    }
   },
   "outputs": [
    {
     "data": {
      "text/html": [
       "<strong>pdf:</strong> 2"
      ],
      "text/latex": [
       "\\textbf{pdf:} 2"
      ],
      "text/markdown": [
       "**pdf:** 2"
      ],
      "text/plain": [
       "pdf \n",
       "  2 "
      ]
     },
     "metadata": {},
     "output_type": "display_data"
    }
   ],
   "source": [
    "pdf(paste0(plotpath, \"gliph_component_plot.pdf\"), width = 18, height = 7)\n",
    "p1 + p4 + text_plot +\n",
    "    plot_layout(widths = c(0.4, 1, 0.4))\n",
    "dev.off()\n"
   ]
  },
  {
   "cell_type": "code",
   "execution_count": null,
   "metadata": {
    "vscode": {
     "languageId": "r"
    }
   },
   "outputs": [],
   "source": []
  },
  {
   "cell_type": "code",
   "execution_count": null,
   "metadata": {
    "vscode": {
     "languageId": "r"
    }
   },
   "outputs": [],
   "source": []
  },
  {
   "cell_type": "code",
   "execution_count": null,
   "metadata": {
    "vscode": {
     "languageId": "r"
    }
   },
   "outputs": [],
   "source": []
  }
 ],
 "metadata": {
  "kernelspec": {
   "display_name": "R 4.0",
   "language": "R",
   "name": "ir40"
  },
  "language_info": {
   "codemirror_mode": "r",
   "file_extension": ".r",
   "mimetype": "text/x-r-source",
   "name": "R",
   "pygments_lexer": "r",
   "version": "4.2.2"
  },
  "toc": {
   "base_numbering": 1,
   "nav_menu": {},
   "number_sections": false,
   "sideBar": true,
   "skip_h1_title": false,
   "title_cell": "Table of Contents",
   "title_sidebar": "Contents",
   "toc_cell": true,
   "toc_position": {
    "height": "calc(100% - 180px)",
    "left": "10px",
    "top": "150px",
    "width": "186.15px"
   },
   "toc_section_display": true,
   "toc_window_display": true
  }
 },
 "nbformat": 4,
 "nbformat_minor": 2
}

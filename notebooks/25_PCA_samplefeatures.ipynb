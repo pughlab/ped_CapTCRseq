{
 "cells": [
  {
   "cell_type": "code",
   "execution_count": 81,
   "metadata": {
    "vscode": {
     "languageId": "r"
    }
   },
   "outputs": [
    {
     "data": {
      "text/html": [
       "'en_US.UTF-8/en_US.UTF-8/en_US.UTF-8/C/en_US.UTF-8/C'"
      ],
      "text/latex": [
       "'en\\_US.UTF-8/en\\_US.UTF-8/en\\_US.UTF-8/C/en\\_US.UTF-8/C'"
      ],
      "text/markdown": [
       "'en_US.UTF-8/en_US.UTF-8/en_US.UTF-8/C/en_US.UTF-8/C'"
      ],
      "text/plain": [
       "[1] \"en_US.UTF-8/en_US.UTF-8/en_US.UTF-8/C/en_US.UTF-8/C\""
      ]
     },
     "metadata": {},
     "output_type": "display_data"
    }
   ],
   "source": [
    "Sys.setlocale(category = \"LC_ALL\", locale = \"en_US.UTF-8\")"
   ]
  },
  {
   "attachments": {},
   "cell_type": "markdown",
   "metadata": {},
   "source": [
    "# Dependencies"
   ]
  },
  {
   "cell_type": "code",
   "execution_count": 82,
   "metadata": {
    "vscode": {
     "languageId": "r"
    }
   },
   "outputs": [],
   "source": [
    "pacman::p_load(dplyr, ggplot2, ggbeeswarm, ggpubr, ggsignif, cowplot, ComplexHeatmap, factoextra, FactoMineR, VIM, missMDA) "
   ]
  },
  {
   "attachments": {},
   "cell_type": "markdown",
   "metadata": {},
   "source": [
    "# Functions"
   ]
  },
  {
   "cell_type": "code",
   "execution_count": 83,
   "metadata": {
    "vscode": {
     "languageId": "r"
    }
   },
   "outputs": [],
   "source": [
    "source(\"/Users/anabbi/git/ped_CapTCRseq/R/ggplot2_theme.R\")\n",
    "source(\"/Users/anabbi/git/ped_CapTCRseq/R/color_schemes.R\")\n",
    "source(\"/Users/anabbi/git/ped_CapTCRseq/R/Misc_functions.R\")"
   ]
  },
  {
   "attachments": {},
   "cell_type": "markdown",
   "metadata": {},
   "source": [
    "# Paths"
   ]
  },
  {
   "cell_type": "code",
   "execution_count": 84,
   "metadata": {
    "vscode": {
     "languageId": "r"
    }
   },
   "outputs": [],
   "source": [
    "datapath <- \"/Users/anabbi/OneDrive - UHN/Documents/INTERCEPT/Data/\"\n",
    "plotpath <- \"/Users/anabbi/OneDrive - UHN/Documents/INTERCEPT/Plots/\"\n",
    "manifestpath <- \"/Users/anabbi/OneDrive - UHN/Documents/INTERCEPT/Manifests/\"\n",
    "gitpath <- \"/Users/anabbi/git/ped_CapTCRseq/\""
   ]
  },
  {
   "cell_type": "code",
   "execution_count": 85,
   "metadata": {
    "vscode": {
     "languageId": "r"
    }
   },
   "outputs": [],
   "source": [
    "h4hpath <- \"/Users/anabbi/Desktop/H4H/INTERCEPT/\""
   ]
  },
  {
   "attachments": {},
   "cell_type": "markdown",
   "metadata": {},
   "source": [
    "# Main"
   ]
  },
  {
   "cell_type": "code",
   "execution_count": 6,
   "metadata": {
    "vscode": {
     "languageId": "r"
    }
   },
   "outputs": [],
   "source": [
    "pca.fx <- function(df, cols, np) {\n",
    "    mymat <- df[, cols]\n",
    "    rownames(mymat) <- df[[\"sample_id\"]]\n",
    "    # remove rows with all NAs\n",
    "    mymat <- mymat[rowSums(is.na(mymat)) != ncol(mymat), ]\n",
    "    # rmeove those with only 0s and NAs\n",
    "    mymat <- mymat[rowSums(mymat, na.rm = TRUE) != 0, ]\n",
    "    # order df by sample_id\n",
    "    df <- df[rownames(mymat), ]\n",
    "\n",
    "    # remove all NA values\n",
    "    mymat_narm <- mymat[rowSums(is.na(mymat)) == 0, ]\n",
    "    df_narm <- df[rownames(mymat_narm), ]\n",
    "    # get vars and include only those with variance > 0\n",
    "    myvars <- sort(Rfast::colVars(mymat_narm), decreasing = TRUE)\n",
    "    mymat_narm <- mymat_narm[, names(myvars)[myvars > 0]]\n",
    "    # PCA\n",
    "    pca <- prcomp(mymat_narm, center = TRUE, scale. = TRUE)\n",
    "    # plot PCA with factoextra\n",
    "    p1 <- fviz_pca_ind(pca,\n",
    "        col.ind = as.vector(df_narm$cancergroup),\n",
    "        # gradient.cols = c(\"#00AFBB\", \"#E7B800\", \"#FC4E07\"),\n",
    "        # remove labels\n",
    "        label = \"none\",\n",
    "        repel = TRUE, addEllipses = FALSE\n",
    "    )\n",
    "    # scree plot\n",
    "    p2 <- fviz_eig(pca)\n",
    "    myx <- pca$x\n",
    "    mydist <- as.matrix(dist(myx[, 1:np]))\n",
    "    # print(head(mydist) )\n",
    "    sample_df_narm <- df_narm %>%\n",
    "        group_by(Patient) %>%\n",
    "        # order cyclenum\n",
    "        arrange(cyclenum) %>%\n",
    "        ungroup()\n",
    "    pts <- names(which(table(sample_df_narm$Patient) > 1))\n",
    "    # print(head(sample_df_narm[,1:10]) )\n",
    "    sample_df_narm$dist <- NA\n",
    "    for (i in pts) {\n",
    "        tmp <- sample_df_narm[sample_df_narm$Patient == i, ]\n",
    "        distances_df <- mydist[tmp$sample_id, tmp$sample_id]\n",
    "        if (nrow(tmp) == 2) {\n",
    "            mydiff <- diff(tmp$cyclenum)\n",
    "            if (mydiff == 1) {\n",
    "                tmp$dist[2] <- distances_df[tmp$sample_id[1], tmp$sample_id[2]]\n",
    "            }\n",
    "        }\n",
    "        if (nrow(tmp) == 3) {\n",
    "            mydiff <- diff(tmp$cyclenum)\n",
    "            if (mydiff[1] == 1) {\n",
    "                tmp$dist[2] <- distances_df[tmp$sample_id[1], tmp$sample_id[2]]\n",
    "            }\n",
    "            if (mydiff[2] == 1) {\n",
    "                tmp$dist[3] <- distances_df[tmp$sample_id[2], tmp$sample_id[3]]\n",
    "            }\n",
    "        }\n",
    "        if (nrow(tmp) == 4) {\n",
    "            mydiff <- diff(tmp$cyclenum)\n",
    "            if (mydiff[1] == 1) {\n",
    "                tmp$dist[2] <- distances_df[tmp$sample_id[1], tmp$sample_id[2]]\n",
    "            }\n",
    "            if (mydiff[2] == 1) {\n",
    "                tmp$dist[3] <- distances_df[tmp$sample_id[2], tmp$sample_id[3]]\n",
    "            }\n",
    "            if (mydiff[3] == 1) {\n",
    "                tmp$dist[4] <- distances_df[tmp$sample_id[3], tmp$sample_id[4]]\n",
    "            }\n",
    "        }\n",
    "        if (nrow(tmp) == 5) {\n",
    "            mydiff <- diff(tmp$cyclenum)\n",
    "            if (mydiff[1] == 1) {\n",
    "                tmp$dist[2] <- distances_df[tmp$sample_id[1], tmp$sample_id[2]]\n",
    "            }\n",
    "            if (mydiff[2] == 1) {\n",
    "                tmp$dist[3] <- distances_df[tmp$sample_id[2], tmp$sample_id[3]]\n",
    "            }\n",
    "            if (mydiff[3] == 1) {\n",
    "                tmp$dist[4] <- distances_df[tmp$sample_id[3], tmp$sample_id[4]]\n",
    "            }\n",
    "            if (mydiff[4] == 1) {\n",
    "                tmp$dist[5] <- distances_df[tmp$sample_id[4], tmp$sample_id[5]]\n",
    "            }\n",
    "        }\n",
    "        sample_df_narm$dist[sample_df_narm$Patient == i] <- tmp$dist\n",
    "    }\n",
    "    # message(\"sample_df_narm\")\n",
    "    # print(head(sample_df_narm))\n",
    "    allpts <- as.data.frame(table(sample_df_narm$Patient), stringsAsFactors = F)\n",
    "    sample_df_narm$dist[sample_df_narm$dist == 0] <- NA\n",
    "    allpts$sumdist <- NA\n",
    "    allpts$meddist <- NA\n",
    "    for (i in 1:nrow(allpts)) {\n",
    "        tmp <- as.data.frame(sample_df_narm[sample_df_narm$Patient == allpts$Var1[i], ])\n",
    "        allpts$sumdist[i] <- sum(tmp[tmp$dist != 0, \"dist\"], na.rm = T)\n",
    "        allpts$meddist[i] <- median(tmp[tmp$dist != 0, \"dist\"], na.rm = T)\n",
    "    }\n",
    "    allpts$sumdist_n <- allpts$sumdist / allpts$Freq\n",
    "    allpts$meddist_n <- allpts$meddist / allpts$Freq\n",
    "    # message(\"allpts\")\n",
    "    # print(head(allpts))\n",
    "    allpts_no0 <- allpts[allpts$sumdist_n > 0, ]\n",
    "    allpts_no0 <- allpts_no0[allpts_no0$Freq > 1, ]\n",
    "    # message(\"allpts_no0\")\n",
    "    # print(dim(allpts_no0))\n",
    "\n",
    "    mysample_df <- sample_df_narm[sample_df_narm$Patient %in% allpts_no0$Var1, ]\n",
    "    # message(\"mysample_df\")\n",
    "    # print(head(mysample_df))\n",
    "    # dim(mysample_df)\n",
    "    mypatients <- mysample_df[!duplicated(mysample_df$Patient), ]\n",
    "    # message(\"mypatients\")\n",
    "    # print(head(mypatients))\n",
    "    # dim(mypatients)\n",
    "    # head(mypatients)\n",
    "    # head(allpts_no0)\n",
    "    mypatients$sumdist_n <- allpts_no0$sumdist_n[match(mypatients$Patient, allpts_no0$Var1)]\n",
    "    mypatients$sumdist <- allpts_no0$sumdist[match(mypatients$Patient, allpts_no0$Var1)]\n",
    "    mypatients$meddist_n <- allpts_no0$meddist_n[match(mypatients$Patient, allpts_no0$Var1)]\n",
    "    mypatients$meddist <- allpts_no0$meddist[match(mypatients$Patient, allpts_no0$Var1)]\n",
    "    # print(head(mypatients) )\n",
    "    myfit_sum <- rms::lrm(Relapse ~ sumdist_n, data = mypatients)\n",
    "    myfit_med <- rms::lrm(Relapse ~ meddist_n, data = mypatients)\n",
    "    return(list(pca, p1, p2, mypatients, myfit_sum, myfit_med))\n",
    "}\n"
   ]
  },
  {
   "cell_type": "code",
   "execution_count": 7,
   "metadata": {
    "vscode": {
     "languageId": "r"
    }
   },
   "outputs": [],
   "source": [
    "pbmc_hla_v_j_gliph <- readr::read_rds(paste0(datapath, \"/int_pbmc_hla_v_j_gliph.rds\"))"
   ]
  },
  {
   "cell_type": "code",
   "execution_count": 8,
   "metadata": {
    "vscode": {
     "languageId": "r"
    }
   },
   "outputs": [],
   "source": [
    "rownames(pbmc_hla_v_j_gliph) <- pbmc_hla_v_j_gliph$sample_id"
   ]
  },
  {
   "cell_type": "code",
   "execution_count": 9,
   "metadata": {
    "vscode": {
     "languageId": "r"
    }
   },
   "outputs": [
    {
     "data": {
      "text/html": [
       "<style>\n",
       ".list-inline {list-style: none; margin:0; padding: 0}\n",
       ".list-inline>li {display: inline-block}\n",
       ".list-inline>li:not(:last-child)::after {content: \"\\00b7\"; padding: 0 .5ex}\n",
       "</style>\n",
       "<ol class=list-inline><li>534</li><li>8829</li></ol>\n"
      ],
      "text/latex": [
       "\\begin{enumerate*}\n",
       "\\item 534\n",
       "\\item 8829\n",
       "\\end{enumerate*}\n"
      ],
      "text/markdown": [
       "1. 534\n",
       "2. 8829\n",
       "\n",
       "\n"
      ],
      "text/plain": [
       "[1]  534 8829"
      ]
     },
     "metadata": {},
     "output_type": "display_data"
    }
   ],
   "source": [
    "dim(pbmc_hla_v_j_gliph)"
   ]
  },
  {
   "cell_type": "code",
   "execution_count": 10,
   "metadata": {
    "vscode": {
     "languageId": "r"
    }
   },
   "outputs": [
    {
     "data": {
      "text/plain": [
       "\n",
       "  0   1 \n",
       "431 103 "
      ]
     },
     "metadata": {},
     "output_type": "display_data"
    }
   ],
   "source": [
    "table(pbmc_hla_v_j_gliph$Relapse)"
   ]
  },
  {
   "cell_type": "code",
   "execution_count": 11,
   "metadata": {
    "vscode": {
     "languageId": "r"
    }
   },
   "outputs": [],
   "source": [
    "cols_tbv <- colnames(pbmc_hla_v_j_gliph)[which(grepl(\"TRBV\", colnames(pbmc_hla_v_j_gliph)) ) ]\n",
    "cols_tbj <- colnames(pbmc_hla_v_j_gliph)[which(grepl(\"TRBJ\", colnames(pbmc_hla_v_j_gliph)) ) ]\n",
    "cols_flow <- c('ATC', 'Naïve%','SCM%','CM%','EM%','TE%','PD1%','LAG3%','TIM3%')\n",
    "cols_others <- c(\"log10shann\")\n",
    "cols_hla <- colnames(pbmc_hla_v_j_gliph)[which(grepl(\":0\", colnames(pbmc_hla_v_j_gliph)) ) ]"
   ]
  },
  {
   "cell_type": "code",
   "execution_count": 12,
   "metadata": {
    "vscode": {
     "languageId": "r"
    }
   },
   "outputs": [
    {
     "data": {
      "text/html": [
       "<style>\n",
       ".list-inline {list-style: none; margin:0; padding: 0}\n",
       ".list-inline>li {display: inline-block}\n",
       ".list-inline>li:not(:last-child)::after {content: \"\\00b7\"; padding: 0 .5ex}\n",
       "</style>\n",
       "<ol class=list-inline><li>261</li><li>262</li><li>263</li><li>264</li><li>265</li><li>266</li><li>267</li><li>268</li><li>269</li><li>270</li><li>271</li><li>272</li><li>273</li></ol>\n"
      ],
      "text/latex": [
       "\\begin{enumerate*}\n",
       "\\item 261\n",
       "\\item 262\n",
       "\\item 263\n",
       "\\item 264\n",
       "\\item 265\n",
       "\\item 266\n",
       "\\item 267\n",
       "\\item 268\n",
       "\\item 269\n",
       "\\item 270\n",
       "\\item 271\n",
       "\\item 272\n",
       "\\item 273\n",
       "\\end{enumerate*}\n"
      ],
      "text/markdown": [
       "1. 261\n",
       "2. 262\n",
       "3. 263\n",
       "4. 264\n",
       "5. 265\n",
       "6. 266\n",
       "7. 267\n",
       "8. 268\n",
       "9. 269\n",
       "10. 270\n",
       "11. 271\n",
       "12. 272\n",
       "13. 273\n",
       "\n",
       "\n"
      ],
      "text/plain": [
       " [1] 261 262 263 264 265 266 267 268 269 270 271 272 273"
      ]
     },
     "metadata": {},
     "output_type": "display_data"
    }
   ],
   "source": [
    "which(grepl(\"TRBJ\", colnames(pbmc_hla_v_j_gliph) ) )"
   ]
  },
  {
   "cell_type": "code",
   "execution_count": 13,
   "metadata": {
    "vscode": {
     "languageId": "r"
    }
   },
   "outputs": [
    {
     "data": {
      "text/html": [
       "<style>\n",
       ".list-inline {list-style: none; margin:0; padding: 0}\n",
       ".list-inline>li {display: inline-block}\n",
       ".list-inline>li:not(:last-child)::after {content: \"\\00b7\"; padding: 0 .5ex}\n",
       "</style>\n",
       "<ol class=list-inline><li>'SLG%E'</li><li>'S%GGNTE'</li><li>'GIWV'</li><li>'IWV'</li><li>'WVYE'</li><li>'IWVY'</li><li>'YDTG'</li><li>'S%TGNTE'</li><li>'S%SGANV'</li><li>'SV%GNTE'</li><li>'EEEG'</li><li>'S%GQGNTE'</li><li>'SLQG%E'</li><li>'S%VNTE'</li><li>'SVG%NTE'</li><li>'SV%GGTE'</li><li>'S%GLAGGE'</li><li>'S%GNYG'</li><li>'S%GSGE'</li><li>'%QGNTE'</li><li>'S%GTYE'</li><li>'S%GLE'</li><li>'SP%GTE'</li><li>'S%TLNTE'</li><li>'S%RTGE'</li><li>'RG%GNTE'</li><li>'TGIW'</li><li>'S%QGTGE'</li><li>'R%STDT'</li><li>'S%GQMNTE'</li><li>'S%GSYG'</li><li>'SVGG%TE'</li><li>'SP%MNTE'</li><li>'%GTGNTE'</li><li>'SV%GNE'</li><li>'SIDK'</li><li>'MTNT'</li><li>'SV%GDE'</li><li>'SRT%NTE'</li><li>'S%GNTE'</li><li>'SIGG%E'</li><li>'SV%VNTE'</li><li>'SP%GNT'</li><li>'%GGSYE'</li><li>'S%ENTE'</li><li>'SPGQG%TE'</li><li>'SPG%TGE'</li><li>'S%TVNTE'</li><li>'SA%NTE'</li><li>'SV%GTGE'</li><li>'SG%SNQP'</li><li>'SLG%NTE'</li><li>'S%GGSYNE'</li><li>'SPG%NE'</li><li>'%TGMNTE'</li><li>'SLGQG%YE'</li><li>'S%GMNTE'</li><li>'S%GQGTYE'</li><li>'S%QGRTE'</li><li>'SGG%TDT'</li><li>'S%DRSYE'</li><li>'ST%GNTE'</li><li>'SLGTG%NE'</li><li>'S%GDSNQP'</li><li>'SV%GSGANV'</li><li>'S%RSNQP'</li><li>'SL%PNTGE'</li><li>'S%GSYE'</li><li>'SPGQ%NTE'</li><li>'R%QGNTE'</li><li>'SE%NTE'</li><li>'S%GTSTDT'</li><li>'T%GNTE'</li><li>'S%GGTNTE'</li><li>'S%TSGAYNE'</li><li>'SR%ENTE'</li><li>'S%LGTE'</li><li>'SLS%E'</li><li>'SL%SSGNT'</li><li>'STGD%NQP'</li><li>'SVLG%E'</li><li>'RG%GGTE'</li><li>'SQDR%YE'</li><li>'SL%TNTGE'</li><li>'%TGGNQP'</li><li>'RGQG%TE'</li><li>'S%DRGSYE'</li><li>'%DRGNTE'</li><li>'S%RGGTE'</li><li>'S%TMNTE'</li><li>'S%DRAYE'</li><li>'SS%SGNT'</li><li>'S%DRLNTE'</li><li>'SL%DE'</li><li>'SPT%NTE'</li><li>'SPGR%NTE'</li><li>'S%TENTE'</li><li>'S%GGSTE'</li><li>'SPSR%E'</li><li>'S%RSTGE'</li><li>'SRTSG%YNE'</li><li>'S%GTNTE'</li><li>'S%GRTDT'</li><li>'S%GTSGRNE'</li><li>'SL%KNTE'</li><li>'S%QGRGTE'</li><li>'SLS%SGNT'</li><li>'SRG%GYE'</li><li>'RDR%NTE'</li><li>'RG%MNTE'</li><li>'SP%GTDT'</li><li>'S%RGYG'</li><li>'SDR%YG'</li><li>'S%RSSYE'</li><li>'SDR%NTE'</li><li>'%RGMNTE'</li><li>'SYR%GE'</li><li>'%RSSYNE'</li><li>'SDR%TGE'</li><li>'S%SGSE'</li><li>'S%GTGDE'</li><li>'S%DSGNT'</li><li>'SPG%NEK'</li><li>'S%NSGNT'</li><li>'SPG%MNTE'</li><li>'SP%RGNTE'</li><li>'SRGQG%YE'</li><li>'SPRQG%NTE'</li><li>'TG%SYE'</li><li>'SD%GYE'</li><li>'SVVG%E'</li><li>'%GMNTE'</li><li>'SP%RNTE'</li><li>'ST%GTE'</li><li>'S%AGLNTE'</li><li>'STGT%YNE'</li><li>'S%GVNE'</li><li>'R%GGNTE'</li><li>'SYSRG%E'</li><li>'S%GTGSGNT'</li><li>'SY%GTE'</li><li>'%VSGANV'</li><li>'%DGNYG'</li><li>'SP%GYG'</li><li>'S%RGGYNE'</li><li>'SPG%GTE'</li><li>'S%PNTGE'</li><li>'SL%GE'</li><li>'SLG%GMNTE'</li><li>'S%SSYNE'</li><li>'SYG%YE'</li><li>'SPGG%ET'</li><li>'SL%GQGNE'</li><li>'SSGTG%TGE'</li><li>'SS%MNTE'</li><li>'SPG%GET'</li><li>'S%TSNE'</li><li>'S%QGATE'</li><li>'SR%GGNTE'</li><li>'SLDG%NTE'</li><li>'SLGTG%NTE'</li><li>'%QTNTE'</li><li>'SVQ%NQP'</li><li>'SE%GMNTE'</li><li>'S%GTGQET'</li><li>'T%SSYNE'</li><li>'SV%PNQP'</li><li>'SQD%AYE'</li><li>'G%GGTNEK'</li><li>'SS%GMNTE'</li><li>'SAGQ%NTE'</li><li>'S%TSGPYNE'</li><li>'R%GGNT'</li><li>'SSG%LNTE'</li><li>'SYDD'</li><li>'S%SGE'</li><li>'SF%GNTE'</li><li>'S%QGYSNQP'</li><li>'SPDR%NEK'</li><li>'SPGQ%SGNT'</li><li>'SP%GGET'</li><li>'SR%RGNTE'</li><li>'SYS%YE'</li><li>'%PGGTE'</li><li>'S%PNTE'</li><li>'S%ARGET'</li><li>'SPLG%NTE'</li><li>'%RTGNTE'</li><li>'S%SYE'</li><li>'S%GLTYE'</li><li>'SYS%ET'</li><li>'S%AGANTGE'</li><li>'DR%NTGE'</li><li>'%DSLNTE'</li><li>'G%GSYNE'</li><li>'SQDR%T'</li><li>'S%RGNTE'</li><li>'%DRPNTE'</li><li>'SST%NTE'</li><li>'S%MNTE'</li><li>...</li><li>'SRD%SYE'</li><li>'TTG%E'</li><li>'SSSG%'</li><li>'%GLAGE'</li><li>'SL%GRG'</li><li>'SV%TGE'</li><li>'G%GSNQP'</li><li>'TSG%SYE'</li><li>'SGQ%NTE'</li><li>'%GGE'</li><li>'%VNTE'</li><li>'%PYNE'</li><li>'SQ%TE'</li><li>'RR%NE'</li><li>'R%GTYE'</li><li>'R%GYNE'</li><li>'S%RVGE'</li><li>'T%SGNT'</li><li>'RRG%GE'</li><li>'%GGLNTE'</li><li>'R%YE'</li><li>'K%NTE'</li><li>'RQ%YE'</li><li>'%GSNQP'</li><li>'RG%GYE'</li><li>'RGG%NE'</li><li>'S%GTSYE'</li><li>'R%SGSYE'</li><li>'%YQET'</li><li>'SGG%T'</li><li>'SSGL%'</li><li>'GGG%YE'</li><li>'%EGYE'</li><li>'%LYNE'</li><li>'T%GGE'</li><li>'%GGAYE'</li><li>'TSG%YE'</li><li>'%TGGNE'</li><li>'RLAG%TDT'</li><li>'SF%'</li><li>'%LAGE'</li><li>'SQG%NE'</li><li>'SF%GGE'</li><li>'SL%GDE'</li><li>'GQG%ET'</li><li>'%LAGGYE'</li><li>'RDRG%YE'</li><li>'G%YNE'</li><li>'RT%GE'</li><li>'R%GGYE'</li><li>'SRG%NE'</li><li>'S%TGGGE'</li><li>'%GYE'</li><li>'SD%GE'</li><li>'%RMNTE'</li><li>'STG%GE'</li><li>'R%SSGNT'</li><li>'SRG%G'</li><li>'SRDR%E'</li><li>'GT%NTGE'</li><li>'RDR%SYE'</li><li>'%NQP'</li><li>'%GGYE'</li><li>'SGG%E'</li><li>'SQGG%'</li><li>'RG%NTE'</li><li>'LG%E'</li><li>'SY%E'</li><li>'RG%G'</li><li>'S%GGV'</li><li>'SPGT%'</li><li>'S%TGDE'</li><li>'GG%YE'</li><li>'SGG%G'</li><li>'SDS%E'</li><li>'RG%SSYE'</li><li>'%SNTE'</li><li>'SP%NE'</li><li>'R%GAE'</li><li>'ST%GE'</li><li>'SSY%E'</li><li>'SR%SYE'</li><li>'S%GRG'</li><li>'SE%NE'</li><li>'ST%YE'</li><li>'SLAG%G'</li><li>'SG%NTGE'</li><li>'%NEK'</li><li>'SV%E'</li><li>'%ANTE'</li><li>'R%GYG'</li><li>'%GRNTE'</li><li>'S%GGP'</li><li>'%QET'</li><li>'R%DT'</li><li>'S%RTE'</li><li>'GG%NTGE'</li><li>'%DYE'</li><li>'GA%E'</li><li>'T%GNE'</li><li>'SR%DE'</li><li>'%TNYG'</li><li>'SSTG%'</li><li>'SG%GGE'</li><li>'SEGG%E'</li><li>'%GQLNTE'</li><li>'%SGSYE'</li><li>'R%AYE'</li><li>'GTG%G'</li><li>'GG%NQP'</li><li>'%GTGE'</li><li>'RQG%E'</li><li>'%RGTDT'</li><li>'SWG%E'</li><li>'SSG%T'</li><li>'S%YG'</li><li>'R%SYNE'</li><li>'SL%RG'</li><li>'%GGNT'</li><li>'SRTG%E'</li><li>'SG%T'</li><li>'%TNTE'</li><li>'SG%QET'</li><li>'%SSYNSP'</li><li>'%ANYG'</li><li>'%GGGTE'</li><li>'GT%NTE'</li><li>'SG%GYE'</li><li>'GTG%TE'</li><li>'S%'</li><li>'%GSGE'</li><li>'G%GG'</li><li>'G%TYE'</li><li>'SES%E'</li><li>'R%SSYNE'</li><li>'%ET'</li><li>'G%P'</li><li>'%GGGE'</li><li>'%TGYE'</li><li>'GT%YG'</li><li>'SQG%G'</li><li>'SP%GGE'</li><li>'RQG%GE'</li><li>'SLAGG%'</li><li>'%GGET'</li><li>'R%GET'</li><li>'S%GQG'</li><li>'SL%GG'</li><li>'TG%YG'</li><li>'S%TGGE'</li><li>'RG%TGE'</li><li>'%YG'</li><li>'%AGE'</li><li>'S%DT'</li><li>'%QGYE'</li><li>'QG%TE'</li><li>'SS%GG'</li><li>'S%TGG'</li><li>'G%NTGE'</li><li>'GQGA%E'</li><li>'%GTE'</li><li>'S%GE'</li><li>'S%TE'</li><li>'%QGNE'</li><li>'S%RGG'</li><li>'GG%NE'</li><li>'SLG%S'</li><li>'%SGNT'</li><li>'R%AGE'</li><li>'%GSSYE'</li><li>'S%GGA'</li><li>'SG%NE'</li><li>'SSGG%'</li><li>'%GNYG'</li><li>'SLEG%'</li><li>'G%SSYE'</li><li>'G%SNQP'</li><li>'SLGQG%'</li><li>'R%GTE'</li><li>'G%GNE'</li><li>'SL%GT'</li><li>'G%E'</li><li>'%NTGE'</li><li>'R%SYE'</li><li>'GG%E'</li><li>'S%GGT'</li><li>'G%YE'</li><li>'G%GYE'</li><li>'%RGTE'</li><li>'GQG%E'</li><li>'G%TDT'</li><li>'SG%GE'</li><li>'G%TE'</li><li>'G%SYE'</li><li>'S%P'</li><li>'G%GE'</li><li>'S%G'</li><li>'%YE'</li><li>'%G'</li><li>'%E'</li></ol>\n"
      ],
      "text/latex": [
       "\\begin{enumerate*}\n",
       "\\item 'SLG\\%E'\n",
       "\\item 'S\\%GGNTE'\n",
       "\\item 'GIWV'\n",
       "\\item 'IWV'\n",
       "\\item 'WVYE'\n",
       "\\item 'IWVY'\n",
       "\\item 'YDTG'\n",
       "\\item 'S\\%TGNTE'\n",
       "\\item 'S\\%SGANV'\n",
       "\\item 'SV\\%GNTE'\n",
       "\\item 'EEEG'\n",
       "\\item 'S\\%GQGNTE'\n",
       "\\item 'SLQG\\%E'\n",
       "\\item 'S\\%VNTE'\n",
       "\\item 'SVG\\%NTE'\n",
       "\\item 'SV\\%GGTE'\n",
       "\\item 'S\\%GLAGGE'\n",
       "\\item 'S\\%GNYG'\n",
       "\\item 'S\\%GSGE'\n",
       "\\item '\\%QGNTE'\n",
       "\\item 'S\\%GTYE'\n",
       "\\item 'S\\%GLE'\n",
       "\\item 'SP\\%GTE'\n",
       "\\item 'S\\%TLNTE'\n",
       "\\item 'S\\%RTGE'\n",
       "\\item 'RG\\%GNTE'\n",
       "\\item 'TGIW'\n",
       "\\item 'S\\%QGTGE'\n",
       "\\item 'R\\%STDT'\n",
       "\\item 'S\\%GQMNTE'\n",
       "\\item 'S\\%GSYG'\n",
       "\\item 'SVGG\\%TE'\n",
       "\\item 'SP\\%MNTE'\n",
       "\\item '\\%GTGNTE'\n",
       "\\item 'SV\\%GNE'\n",
       "\\item 'SIDK'\n",
       "\\item 'MTNT'\n",
       "\\item 'SV\\%GDE'\n",
       "\\item 'SRT\\%NTE'\n",
       "\\item 'S\\%GNTE'\n",
       "\\item 'SIGG\\%E'\n",
       "\\item 'SV\\%VNTE'\n",
       "\\item 'SP\\%GNT'\n",
       "\\item '\\%GGSYE'\n",
       "\\item 'S\\%ENTE'\n",
       "\\item 'SPGQG\\%TE'\n",
       "\\item 'SPG\\%TGE'\n",
       "\\item 'S\\%TVNTE'\n",
       "\\item 'SA\\%NTE'\n",
       "\\item 'SV\\%GTGE'\n",
       "\\item 'SG\\%SNQP'\n",
       "\\item 'SLG\\%NTE'\n",
       "\\item 'S\\%GGSYNE'\n",
       "\\item 'SPG\\%NE'\n",
       "\\item '\\%TGMNTE'\n",
       "\\item 'SLGQG\\%YE'\n",
       "\\item 'S\\%GMNTE'\n",
       "\\item 'S\\%GQGTYE'\n",
       "\\item 'S\\%QGRTE'\n",
       "\\item 'SGG\\%TDT'\n",
       "\\item 'S\\%DRSYE'\n",
       "\\item 'ST\\%GNTE'\n",
       "\\item 'SLGTG\\%NE'\n",
       "\\item 'S\\%GDSNQP'\n",
       "\\item 'SV\\%GSGANV'\n",
       "\\item 'S\\%RSNQP'\n",
       "\\item 'SL\\%PNTGE'\n",
       "\\item 'S\\%GSYE'\n",
       "\\item 'SPGQ\\%NTE'\n",
       "\\item 'R\\%QGNTE'\n",
       "\\item 'SE\\%NTE'\n",
       "\\item 'S\\%GTSTDT'\n",
       "\\item 'T\\%GNTE'\n",
       "\\item 'S\\%GGTNTE'\n",
       "\\item 'S\\%TSGAYNE'\n",
       "\\item 'SR\\%ENTE'\n",
       "\\item 'S\\%LGTE'\n",
       "\\item 'SLS\\%E'\n",
       "\\item 'SL\\%SSGNT'\n",
       "\\item 'STGD\\%NQP'\n",
       "\\item 'SVLG\\%E'\n",
       "\\item 'RG\\%GGTE'\n",
       "\\item 'SQDR\\%YE'\n",
       "\\item 'SL\\%TNTGE'\n",
       "\\item '\\%TGGNQP'\n",
       "\\item 'RGQG\\%TE'\n",
       "\\item 'S\\%DRGSYE'\n",
       "\\item '\\%DRGNTE'\n",
       "\\item 'S\\%RGGTE'\n",
       "\\item 'S\\%TMNTE'\n",
       "\\item 'S\\%DRAYE'\n",
       "\\item 'SS\\%SGNT'\n",
       "\\item 'S\\%DRLNTE'\n",
       "\\item 'SL\\%DE'\n",
       "\\item 'SPT\\%NTE'\n",
       "\\item 'SPGR\\%NTE'\n",
       "\\item 'S\\%TENTE'\n",
       "\\item 'S\\%GGSTE'\n",
       "\\item 'SPSR\\%E'\n",
       "\\item 'S\\%RSTGE'\n",
       "\\item 'SRTSG\\%YNE'\n",
       "\\item 'S\\%GTNTE'\n",
       "\\item 'S\\%GRTDT'\n",
       "\\item 'S\\%GTSGRNE'\n",
       "\\item 'SL\\%KNTE'\n",
       "\\item 'S\\%QGRGTE'\n",
       "\\item 'SLS\\%SGNT'\n",
       "\\item 'SRG\\%GYE'\n",
       "\\item 'RDR\\%NTE'\n",
       "\\item 'RG\\%MNTE'\n",
       "\\item 'SP\\%GTDT'\n",
       "\\item 'S\\%RGYG'\n",
       "\\item 'SDR\\%YG'\n",
       "\\item 'S\\%RSSYE'\n",
       "\\item 'SDR\\%NTE'\n",
       "\\item '\\%RGMNTE'\n",
       "\\item 'SYR\\%GE'\n",
       "\\item '\\%RSSYNE'\n",
       "\\item 'SDR\\%TGE'\n",
       "\\item 'S\\%SGSE'\n",
       "\\item 'S\\%GTGDE'\n",
       "\\item 'S\\%DSGNT'\n",
       "\\item 'SPG\\%NEK'\n",
       "\\item 'S\\%NSGNT'\n",
       "\\item 'SPG\\%MNTE'\n",
       "\\item 'SP\\%RGNTE'\n",
       "\\item 'SRGQG\\%YE'\n",
       "\\item 'SPRQG\\%NTE'\n",
       "\\item 'TG\\%SYE'\n",
       "\\item 'SD\\%GYE'\n",
       "\\item 'SVVG\\%E'\n",
       "\\item '\\%GMNTE'\n",
       "\\item 'SP\\%RNTE'\n",
       "\\item 'ST\\%GTE'\n",
       "\\item 'S\\%AGLNTE'\n",
       "\\item 'STGT\\%YNE'\n",
       "\\item 'S\\%GVNE'\n",
       "\\item 'R\\%GGNTE'\n",
       "\\item 'SYSRG\\%E'\n",
       "\\item 'S\\%GTGSGNT'\n",
       "\\item 'SY\\%GTE'\n",
       "\\item '\\%VSGANV'\n",
       "\\item '\\%DGNYG'\n",
       "\\item 'SP\\%GYG'\n",
       "\\item 'S\\%RGGYNE'\n",
       "\\item 'SPG\\%GTE'\n",
       "\\item 'S\\%PNTGE'\n",
       "\\item 'SL\\%GE'\n",
       "\\item 'SLG\\%GMNTE'\n",
       "\\item 'S\\%SSYNE'\n",
       "\\item 'SYG\\%YE'\n",
       "\\item 'SPGG\\%ET'\n",
       "\\item 'SL\\%GQGNE'\n",
       "\\item 'SSGTG\\%TGE'\n",
       "\\item 'SS\\%MNTE'\n",
       "\\item 'SPG\\%GET'\n",
       "\\item 'S\\%TSNE'\n",
       "\\item 'S\\%QGATE'\n",
       "\\item 'SR\\%GGNTE'\n",
       "\\item 'SLDG\\%NTE'\n",
       "\\item 'SLGTG\\%NTE'\n",
       "\\item '\\%QTNTE'\n",
       "\\item 'SVQ\\%NQP'\n",
       "\\item 'SE\\%GMNTE'\n",
       "\\item 'S\\%GTGQET'\n",
       "\\item 'T\\%SSYNE'\n",
       "\\item 'SV\\%PNQP'\n",
       "\\item 'SQD\\%AYE'\n",
       "\\item 'G\\%GGTNEK'\n",
       "\\item 'SS\\%GMNTE'\n",
       "\\item 'SAGQ\\%NTE'\n",
       "\\item 'S\\%TSGPYNE'\n",
       "\\item 'R\\%GGNT'\n",
       "\\item 'SSG\\%LNTE'\n",
       "\\item 'SYDD'\n",
       "\\item 'S\\%SGE'\n",
       "\\item 'SF\\%GNTE'\n",
       "\\item 'S\\%QGYSNQP'\n",
       "\\item 'SPDR\\%NEK'\n",
       "\\item 'SPGQ\\%SGNT'\n",
       "\\item 'SP\\%GGET'\n",
       "\\item 'SR\\%RGNTE'\n",
       "\\item 'SYS\\%YE'\n",
       "\\item '\\%PGGTE'\n",
       "\\item 'S\\%PNTE'\n",
       "\\item 'S\\%ARGET'\n",
       "\\item 'SPLG\\%NTE'\n",
       "\\item '\\%RTGNTE'\n",
       "\\item 'S\\%SYE'\n",
       "\\item 'S\\%GLTYE'\n",
       "\\item 'SYS\\%ET'\n",
       "\\item 'S\\%AGANTGE'\n",
       "\\item 'DR\\%NTGE'\n",
       "\\item '\\%DSLNTE'\n",
       "\\item 'G\\%GSYNE'\n",
       "\\item 'SQDR\\%T'\n",
       "\\item 'S\\%RGNTE'\n",
       "\\item '\\%DRPNTE'\n",
       "\\item 'SST\\%NTE'\n",
       "\\item 'S\\%MNTE'\n",
       "\\item ...\n",
       "\\item 'SRD\\%SYE'\n",
       "\\item 'TTG\\%E'\n",
       "\\item 'SSSG\\%'\n",
       "\\item '\\%GLAGE'\n",
       "\\item 'SL\\%GRG'\n",
       "\\item 'SV\\%TGE'\n",
       "\\item 'G\\%GSNQP'\n",
       "\\item 'TSG\\%SYE'\n",
       "\\item 'SGQ\\%NTE'\n",
       "\\item '\\%GGE'\n",
       "\\item '\\%VNTE'\n",
       "\\item '\\%PYNE'\n",
       "\\item 'SQ\\%TE'\n",
       "\\item 'RR\\%NE'\n",
       "\\item 'R\\%GTYE'\n",
       "\\item 'R\\%GYNE'\n",
       "\\item 'S\\%RVGE'\n",
       "\\item 'T\\%SGNT'\n",
       "\\item 'RRG\\%GE'\n",
       "\\item '\\%GGLNTE'\n",
       "\\item 'R\\%YE'\n",
       "\\item 'K\\%NTE'\n",
       "\\item 'RQ\\%YE'\n",
       "\\item '\\%GSNQP'\n",
       "\\item 'RG\\%GYE'\n",
       "\\item 'RGG\\%NE'\n",
       "\\item 'S\\%GTSYE'\n",
       "\\item 'R\\%SGSYE'\n",
       "\\item '\\%YQET'\n",
       "\\item 'SGG\\%T'\n",
       "\\item 'SSGL\\%'\n",
       "\\item 'GGG\\%YE'\n",
       "\\item '\\%EGYE'\n",
       "\\item '\\%LYNE'\n",
       "\\item 'T\\%GGE'\n",
       "\\item '\\%GGAYE'\n",
       "\\item 'TSG\\%YE'\n",
       "\\item '\\%TGGNE'\n",
       "\\item 'RLAG\\%TDT'\n",
       "\\item 'SF\\%'\n",
       "\\item '\\%LAGE'\n",
       "\\item 'SQG\\%NE'\n",
       "\\item 'SF\\%GGE'\n",
       "\\item 'SL\\%GDE'\n",
       "\\item 'GQG\\%ET'\n",
       "\\item '\\%LAGGYE'\n",
       "\\item 'RDRG\\%YE'\n",
       "\\item 'G\\%YNE'\n",
       "\\item 'RT\\%GE'\n",
       "\\item 'R\\%GGYE'\n",
       "\\item 'SRG\\%NE'\n",
       "\\item 'S\\%TGGGE'\n",
       "\\item '\\%GYE'\n",
       "\\item 'SD\\%GE'\n",
       "\\item '\\%RMNTE'\n",
       "\\item 'STG\\%GE'\n",
       "\\item 'R\\%SSGNT'\n",
       "\\item 'SRG\\%G'\n",
       "\\item 'SRDR\\%E'\n",
       "\\item 'GT\\%NTGE'\n",
       "\\item 'RDR\\%SYE'\n",
       "\\item '\\%NQP'\n",
       "\\item '\\%GGYE'\n",
       "\\item 'SGG\\%E'\n",
       "\\item 'SQGG\\%'\n",
       "\\item 'RG\\%NTE'\n",
       "\\item 'LG\\%E'\n",
       "\\item 'SY\\%E'\n",
       "\\item 'RG\\%G'\n",
       "\\item 'S\\%GGV'\n",
       "\\item 'SPGT\\%'\n",
       "\\item 'S\\%TGDE'\n",
       "\\item 'GG\\%YE'\n",
       "\\item 'SGG\\%G'\n",
       "\\item 'SDS\\%E'\n",
       "\\item 'RG\\%SSYE'\n",
       "\\item '\\%SNTE'\n",
       "\\item 'SP\\%NE'\n",
       "\\item 'R\\%GAE'\n",
       "\\item 'ST\\%GE'\n",
       "\\item 'SSY\\%E'\n",
       "\\item 'SR\\%SYE'\n",
       "\\item 'S\\%GRG'\n",
       "\\item 'SE\\%NE'\n",
       "\\item 'ST\\%YE'\n",
       "\\item 'SLAG\\%G'\n",
       "\\item 'SG\\%NTGE'\n",
       "\\item '\\%NEK'\n",
       "\\item 'SV\\%E'\n",
       "\\item '\\%ANTE'\n",
       "\\item 'R\\%GYG'\n",
       "\\item '\\%GRNTE'\n",
       "\\item 'S\\%GGP'\n",
       "\\item '\\%QET'\n",
       "\\item 'R\\%DT'\n",
       "\\item 'S\\%RTE'\n",
       "\\item 'GG\\%NTGE'\n",
       "\\item '\\%DYE'\n",
       "\\item 'GA\\%E'\n",
       "\\item 'T\\%GNE'\n",
       "\\item 'SR\\%DE'\n",
       "\\item '\\%TNYG'\n",
       "\\item 'SSTG\\%'\n",
       "\\item 'SG\\%GGE'\n",
       "\\item 'SEGG\\%E'\n",
       "\\item '\\%GQLNTE'\n",
       "\\item '\\%SGSYE'\n",
       "\\item 'R\\%AYE'\n",
       "\\item 'GTG\\%G'\n",
       "\\item 'GG\\%NQP'\n",
       "\\item '\\%GTGE'\n",
       "\\item 'RQG\\%E'\n",
       "\\item '\\%RGTDT'\n",
       "\\item 'SWG\\%E'\n",
       "\\item 'SSG\\%T'\n",
       "\\item 'S\\%YG'\n",
       "\\item 'R\\%SYNE'\n",
       "\\item 'SL\\%RG'\n",
       "\\item '\\%GGNT'\n",
       "\\item 'SRTG\\%E'\n",
       "\\item 'SG\\%T'\n",
       "\\item '\\%TNTE'\n",
       "\\item 'SG\\%QET'\n",
       "\\item '\\%SSYNSP'\n",
       "\\item '\\%ANYG'\n",
       "\\item '\\%GGGTE'\n",
       "\\item 'GT\\%NTE'\n",
       "\\item 'SG\\%GYE'\n",
       "\\item 'GTG\\%TE'\n",
       "\\item 'S\\%'\n",
       "\\item '\\%GSGE'\n",
       "\\item 'G\\%GG'\n",
       "\\item 'G\\%TYE'\n",
       "\\item 'SES\\%E'\n",
       "\\item 'R\\%SSYNE'\n",
       "\\item '\\%ET'\n",
       "\\item 'G\\%P'\n",
       "\\item '\\%GGGE'\n",
       "\\item '\\%TGYE'\n",
       "\\item 'GT\\%YG'\n",
       "\\item 'SQG\\%G'\n",
       "\\item 'SP\\%GGE'\n",
       "\\item 'RQG\\%GE'\n",
       "\\item 'SLAGG\\%'\n",
       "\\item '\\%GGET'\n",
       "\\item 'R\\%GET'\n",
       "\\item 'S\\%GQG'\n",
       "\\item 'SL\\%GG'\n",
       "\\item 'TG\\%YG'\n",
       "\\item 'S\\%TGGE'\n",
       "\\item 'RG\\%TGE'\n",
       "\\item '\\%YG'\n",
       "\\item '\\%AGE'\n",
       "\\item 'S\\%DT'\n",
       "\\item '\\%QGYE'\n",
       "\\item 'QG\\%TE'\n",
       "\\item 'SS\\%GG'\n",
       "\\item 'S\\%TGG'\n",
       "\\item 'G\\%NTGE'\n",
       "\\item 'GQGA\\%E'\n",
       "\\item '\\%GTE'\n",
       "\\item 'S\\%GE'\n",
       "\\item 'S\\%TE'\n",
       "\\item '\\%QGNE'\n",
       "\\item 'S\\%RGG'\n",
       "\\item 'GG\\%NE'\n",
       "\\item 'SLG\\%S'\n",
       "\\item '\\%SGNT'\n",
       "\\item 'R\\%AGE'\n",
       "\\item '\\%GSSYE'\n",
       "\\item 'S\\%GGA'\n",
       "\\item 'SG\\%NE'\n",
       "\\item 'SSGG\\%'\n",
       "\\item '\\%GNYG'\n",
       "\\item 'SLEG\\%'\n",
       "\\item 'G\\%SSYE'\n",
       "\\item 'G\\%SNQP'\n",
       "\\item 'SLGQG\\%'\n",
       "\\item 'R\\%GTE'\n",
       "\\item 'G\\%GNE'\n",
       "\\item 'SL\\%GT'\n",
       "\\item 'G\\%E'\n",
       "\\item '\\%NTGE'\n",
       "\\item 'R\\%SYE'\n",
       "\\item 'GG\\%E'\n",
       "\\item 'S\\%GGT'\n",
       "\\item 'G\\%YE'\n",
       "\\item 'G\\%GYE'\n",
       "\\item '\\%RGTE'\n",
       "\\item 'GQG\\%E'\n",
       "\\item 'G\\%TDT'\n",
       "\\item 'SG\\%GE'\n",
       "\\item 'G\\%TE'\n",
       "\\item 'G\\%SYE'\n",
       "\\item 'S\\%P'\n",
       "\\item 'G\\%GE'\n",
       "\\item 'S\\%G'\n",
       "\\item '\\%YE'\n",
       "\\item '\\%G'\n",
       "\\item '\\%E'\n",
       "\\end{enumerate*}\n"
      ],
      "text/markdown": [
       "1. 'SLG%E'\n",
       "2. 'S%GGNTE'\n",
       "3. 'GIWV'\n",
       "4. 'IWV'\n",
       "5. 'WVYE'\n",
       "6. 'IWVY'\n",
       "7. 'YDTG'\n",
       "8. 'S%TGNTE'\n",
       "9. 'S%SGANV'\n",
       "10. 'SV%GNTE'\n",
       "11. 'EEEG'\n",
       "12. 'S%GQGNTE'\n",
       "13. 'SLQG%E'\n",
       "14. 'S%VNTE'\n",
       "15. 'SVG%NTE'\n",
       "16. 'SV%GGTE'\n",
       "17. 'S%GLAGGE'\n",
       "18. 'S%GNYG'\n",
       "19. 'S%GSGE'\n",
       "20. '%QGNTE'\n",
       "21. 'S%GTYE'\n",
       "22. 'S%GLE'\n",
       "23. 'SP%GTE'\n",
       "24. 'S%TLNTE'\n",
       "25. 'S%RTGE'\n",
       "26. 'RG%GNTE'\n",
       "27. 'TGIW'\n",
       "28. 'S%QGTGE'\n",
       "29. 'R%STDT'\n",
       "30. 'S%GQMNTE'\n",
       "31. 'S%GSYG'\n",
       "32. 'SVGG%TE'\n",
       "33. 'SP%MNTE'\n",
       "34. '%GTGNTE'\n",
       "35. 'SV%GNE'\n",
       "36. 'SIDK'\n",
       "37. 'MTNT'\n",
       "38. 'SV%GDE'\n",
       "39. 'SRT%NTE'\n",
       "40. 'S%GNTE'\n",
       "41. 'SIGG%E'\n",
       "42. 'SV%VNTE'\n",
       "43. 'SP%GNT'\n",
       "44. '%GGSYE'\n",
       "45. 'S%ENTE'\n",
       "46. 'SPGQG%TE'\n",
       "47. 'SPG%TGE'\n",
       "48. 'S%TVNTE'\n",
       "49. 'SA%NTE'\n",
       "50. 'SV%GTGE'\n",
       "51. 'SG%SNQP'\n",
       "52. 'SLG%NTE'\n",
       "53. 'S%GGSYNE'\n",
       "54. 'SPG%NE'\n",
       "55. '%TGMNTE'\n",
       "56. 'SLGQG%YE'\n",
       "57. 'S%GMNTE'\n",
       "58. 'S%GQGTYE'\n",
       "59. 'S%QGRTE'\n",
       "60. 'SGG%TDT'\n",
       "61. 'S%DRSYE'\n",
       "62. 'ST%GNTE'\n",
       "63. 'SLGTG%NE'\n",
       "64. 'S%GDSNQP'\n",
       "65. 'SV%GSGANV'\n",
       "66. 'S%RSNQP'\n",
       "67. 'SL%PNTGE'\n",
       "68. 'S%GSYE'\n",
       "69. 'SPGQ%NTE'\n",
       "70. 'R%QGNTE'\n",
       "71. 'SE%NTE'\n",
       "72. 'S%GTSTDT'\n",
       "73. 'T%GNTE'\n",
       "74. 'S%GGTNTE'\n",
       "75. 'S%TSGAYNE'\n",
       "76. 'SR%ENTE'\n",
       "77. 'S%LGTE'\n",
       "78. 'SLS%E'\n",
       "79. 'SL%SSGNT'\n",
       "80. 'STGD%NQP'\n",
       "81. 'SVLG%E'\n",
       "82. 'RG%GGTE'\n",
       "83. 'SQDR%YE'\n",
       "84. 'SL%TNTGE'\n",
       "85. '%TGGNQP'\n",
       "86. 'RGQG%TE'\n",
       "87. 'S%DRGSYE'\n",
       "88. '%DRGNTE'\n",
       "89. 'S%RGGTE'\n",
       "90. 'S%TMNTE'\n",
       "91. 'S%DRAYE'\n",
       "92. 'SS%SGNT'\n",
       "93. 'S%DRLNTE'\n",
       "94. 'SL%DE'\n",
       "95. 'SPT%NTE'\n",
       "96. 'SPGR%NTE'\n",
       "97. 'S%TENTE'\n",
       "98. 'S%GGSTE'\n",
       "99. 'SPSR%E'\n",
       "100. 'S%RSTGE'\n",
       "101. 'SRTSG%YNE'\n",
       "102. 'S%GTNTE'\n",
       "103. 'S%GRTDT'\n",
       "104. 'S%GTSGRNE'\n",
       "105. 'SL%KNTE'\n",
       "106. 'S%QGRGTE'\n",
       "107. 'SLS%SGNT'\n",
       "108. 'SRG%GYE'\n",
       "109. 'RDR%NTE'\n",
       "110. 'RG%MNTE'\n",
       "111. 'SP%GTDT'\n",
       "112. 'S%RGYG'\n",
       "113. 'SDR%YG'\n",
       "114. 'S%RSSYE'\n",
       "115. 'SDR%NTE'\n",
       "116. '%RGMNTE'\n",
       "117. 'SYR%GE'\n",
       "118. '%RSSYNE'\n",
       "119. 'SDR%TGE'\n",
       "120. 'S%SGSE'\n",
       "121. 'S%GTGDE'\n",
       "122. 'S%DSGNT'\n",
       "123. 'SPG%NEK'\n",
       "124. 'S%NSGNT'\n",
       "125. 'SPG%MNTE'\n",
       "126. 'SP%RGNTE'\n",
       "127. 'SRGQG%YE'\n",
       "128. 'SPRQG%NTE'\n",
       "129. 'TG%SYE'\n",
       "130. 'SD%GYE'\n",
       "131. 'SVVG%E'\n",
       "132. '%GMNTE'\n",
       "133. 'SP%RNTE'\n",
       "134. 'ST%GTE'\n",
       "135. 'S%AGLNTE'\n",
       "136. 'STGT%YNE'\n",
       "137. 'S%GVNE'\n",
       "138. 'R%GGNTE'\n",
       "139. 'SYSRG%E'\n",
       "140. 'S%GTGSGNT'\n",
       "141. 'SY%GTE'\n",
       "142. '%VSGANV'\n",
       "143. '%DGNYG'\n",
       "144. 'SP%GYG'\n",
       "145. 'S%RGGYNE'\n",
       "146. 'SPG%GTE'\n",
       "147. 'S%PNTGE'\n",
       "148. 'SL%GE'\n",
       "149. 'SLG%GMNTE'\n",
       "150. 'S%SSYNE'\n",
       "151. 'SYG%YE'\n",
       "152. 'SPGG%ET'\n",
       "153. 'SL%GQGNE'\n",
       "154. 'SSGTG%TGE'\n",
       "155. 'SS%MNTE'\n",
       "156. 'SPG%GET'\n",
       "157. 'S%TSNE'\n",
       "158. 'S%QGATE'\n",
       "159. 'SR%GGNTE'\n",
       "160. 'SLDG%NTE'\n",
       "161. 'SLGTG%NTE'\n",
       "162. '%QTNTE'\n",
       "163. 'SVQ%NQP'\n",
       "164. 'SE%GMNTE'\n",
       "165. 'S%GTGQET'\n",
       "166. 'T%SSYNE'\n",
       "167. 'SV%PNQP'\n",
       "168. 'SQD%AYE'\n",
       "169. 'G%GGTNEK'\n",
       "170. 'SS%GMNTE'\n",
       "171. 'SAGQ%NTE'\n",
       "172. 'S%TSGPYNE'\n",
       "173. 'R%GGNT'\n",
       "174. 'SSG%LNTE'\n",
       "175. 'SYDD'\n",
       "176. 'S%SGE'\n",
       "177. 'SF%GNTE'\n",
       "178. 'S%QGYSNQP'\n",
       "179. 'SPDR%NEK'\n",
       "180. 'SPGQ%SGNT'\n",
       "181. 'SP%GGET'\n",
       "182. 'SR%RGNTE'\n",
       "183. 'SYS%YE'\n",
       "184. '%PGGTE'\n",
       "185. 'S%PNTE'\n",
       "186. 'S%ARGET'\n",
       "187. 'SPLG%NTE'\n",
       "188. '%RTGNTE'\n",
       "189. 'S%SYE'\n",
       "190. 'S%GLTYE'\n",
       "191. 'SYS%ET'\n",
       "192. 'S%AGANTGE'\n",
       "193. 'DR%NTGE'\n",
       "194. '%DSLNTE'\n",
       "195. 'G%GSYNE'\n",
       "196. 'SQDR%T'\n",
       "197. 'S%RGNTE'\n",
       "198. '%DRPNTE'\n",
       "199. 'SST%NTE'\n",
       "200. 'S%MNTE'\n",
       "201. ...\n",
       "202. 'SRD%SYE'\n",
       "203. 'TTG%E'\n",
       "204. 'SSSG%'\n",
       "205. '%GLAGE'\n",
       "206. 'SL%GRG'\n",
       "207. 'SV%TGE'\n",
       "208. 'G%GSNQP'\n",
       "209. 'TSG%SYE'\n",
       "210. 'SGQ%NTE'\n",
       "211. '%GGE'\n",
       "212. '%VNTE'\n",
       "213. '%PYNE'\n",
       "214. 'SQ%TE'\n",
       "215. 'RR%NE'\n",
       "216. 'R%GTYE'\n",
       "217. 'R%GYNE'\n",
       "218. 'S%RVGE'\n",
       "219. 'T%SGNT'\n",
       "220. 'RRG%GE'\n",
       "221. '%GGLNTE'\n",
       "222. 'R%YE'\n",
       "223. 'K%NTE'\n",
       "224. 'RQ%YE'\n",
       "225. '%GSNQP'\n",
       "226. 'RG%GYE'\n",
       "227. 'RGG%NE'\n",
       "228. 'S%GTSYE'\n",
       "229. 'R%SGSYE'\n",
       "230. '%YQET'\n",
       "231. 'SGG%T'\n",
       "232. 'SSGL%'\n",
       "233. 'GGG%YE'\n",
       "234. '%EGYE'\n",
       "235. '%LYNE'\n",
       "236. 'T%GGE'\n",
       "237. '%GGAYE'\n",
       "238. 'TSG%YE'\n",
       "239. '%TGGNE'\n",
       "240. 'RLAG%TDT'\n",
       "241. 'SF%'\n",
       "242. '%LAGE'\n",
       "243. 'SQG%NE'\n",
       "244. 'SF%GGE'\n",
       "245. 'SL%GDE'\n",
       "246. 'GQG%ET'\n",
       "247. '%LAGGYE'\n",
       "248. 'RDRG%YE'\n",
       "249. 'G%YNE'\n",
       "250. 'RT%GE'\n",
       "251. 'R%GGYE'\n",
       "252. 'SRG%NE'\n",
       "253. 'S%TGGGE'\n",
       "254. '%GYE'\n",
       "255. 'SD%GE'\n",
       "256. '%RMNTE'\n",
       "257. 'STG%GE'\n",
       "258. 'R%SSGNT'\n",
       "259. 'SRG%G'\n",
       "260. 'SRDR%E'\n",
       "261. 'GT%NTGE'\n",
       "262. 'RDR%SYE'\n",
       "263. '%NQP'\n",
       "264. '%GGYE'\n",
       "265. 'SGG%E'\n",
       "266. 'SQGG%'\n",
       "267. 'RG%NTE'\n",
       "268. 'LG%E'\n",
       "269. 'SY%E'\n",
       "270. 'RG%G'\n",
       "271. 'S%GGV'\n",
       "272. 'SPGT%'\n",
       "273. 'S%TGDE'\n",
       "274. 'GG%YE'\n",
       "275. 'SGG%G'\n",
       "276. 'SDS%E'\n",
       "277. 'RG%SSYE'\n",
       "278. '%SNTE'\n",
       "279. 'SP%NE'\n",
       "280. 'R%GAE'\n",
       "281. 'ST%GE'\n",
       "282. 'SSY%E'\n",
       "283. 'SR%SYE'\n",
       "284. 'S%GRG'\n",
       "285. 'SE%NE'\n",
       "286. 'ST%YE'\n",
       "287. 'SLAG%G'\n",
       "288. 'SG%NTGE'\n",
       "289. '%NEK'\n",
       "290. 'SV%E'\n",
       "291. '%ANTE'\n",
       "292. 'R%GYG'\n",
       "293. '%GRNTE'\n",
       "294. 'S%GGP'\n",
       "295. '%QET'\n",
       "296. 'R%DT'\n",
       "297. 'S%RTE'\n",
       "298. 'GG%NTGE'\n",
       "299. '%DYE'\n",
       "300. 'GA%E'\n",
       "301. 'T%GNE'\n",
       "302. 'SR%DE'\n",
       "303. '%TNYG'\n",
       "304. 'SSTG%'\n",
       "305. 'SG%GGE'\n",
       "306. 'SEGG%E'\n",
       "307. '%GQLNTE'\n",
       "308. '%SGSYE'\n",
       "309. 'R%AYE'\n",
       "310. 'GTG%G'\n",
       "311. 'GG%NQP'\n",
       "312. '%GTGE'\n",
       "313. 'RQG%E'\n",
       "314. '%RGTDT'\n",
       "315. 'SWG%E'\n",
       "316. 'SSG%T'\n",
       "317. 'S%YG'\n",
       "318. 'R%SYNE'\n",
       "319. 'SL%RG'\n",
       "320. '%GGNT'\n",
       "321. 'SRTG%E'\n",
       "322. 'SG%T'\n",
       "323. '%TNTE'\n",
       "324. 'SG%QET'\n",
       "325. '%SSYNSP'\n",
       "326. '%ANYG'\n",
       "327. '%GGGTE'\n",
       "328. 'GT%NTE'\n",
       "329. 'SG%GYE'\n",
       "330. 'GTG%TE'\n",
       "331. 'S%'\n",
       "332. '%GSGE'\n",
       "333. 'G%GG'\n",
       "334. 'G%TYE'\n",
       "335. 'SES%E'\n",
       "336. 'R%SSYNE'\n",
       "337. '%ET'\n",
       "338. 'G%P'\n",
       "339. '%GGGE'\n",
       "340. '%TGYE'\n",
       "341. 'GT%YG'\n",
       "342. 'SQG%G'\n",
       "343. 'SP%GGE'\n",
       "344. 'RQG%GE'\n",
       "345. 'SLAGG%'\n",
       "346. '%GGET'\n",
       "347. 'R%GET'\n",
       "348. 'S%GQG'\n",
       "349. 'SL%GG'\n",
       "350. 'TG%YG'\n",
       "351. 'S%TGGE'\n",
       "352. 'RG%TGE'\n",
       "353. '%YG'\n",
       "354. '%AGE'\n",
       "355. 'S%DT'\n",
       "356. '%QGYE'\n",
       "357. 'QG%TE'\n",
       "358. 'SS%GG'\n",
       "359. 'S%TGG'\n",
       "360. 'G%NTGE'\n",
       "361. 'GQGA%E'\n",
       "362. '%GTE'\n",
       "363. 'S%GE'\n",
       "364. 'S%TE'\n",
       "365. '%QGNE'\n",
       "366. 'S%RGG'\n",
       "367. 'GG%NE'\n",
       "368. 'SLG%S'\n",
       "369. '%SGNT'\n",
       "370. 'R%AGE'\n",
       "371. '%GSSYE'\n",
       "372. 'S%GGA'\n",
       "373. 'SG%NE'\n",
       "374. 'SSGG%'\n",
       "375. '%GNYG'\n",
       "376. 'SLEG%'\n",
       "377. 'G%SSYE'\n",
       "378. 'G%SNQP'\n",
       "379. 'SLGQG%'\n",
       "380. 'R%GTE'\n",
       "381. 'G%GNE'\n",
       "382. 'SL%GT'\n",
       "383. 'G%E'\n",
       "384. '%NTGE'\n",
       "385. 'R%SYE'\n",
       "386. 'GG%E'\n",
       "387. 'S%GGT'\n",
       "388. 'G%YE'\n",
       "389. 'G%GYE'\n",
       "390. '%RGTE'\n",
       "391. 'GQG%E'\n",
       "392. 'G%TDT'\n",
       "393. 'SG%GE'\n",
       "394. 'G%TE'\n",
       "395. 'G%SYE'\n",
       "396. 'S%P'\n",
       "397. 'G%GE'\n",
       "398. 'S%G'\n",
       "399. '%YE'\n",
       "400. '%G'\n",
       "401. '%E'\n",
       "\n",
       "\n"
      ],
      "text/plain": [
       "   [1] \"SLG%E\"        \"S%GGNTE\"      \"GIWV\"         \"IWV\"         \n",
       "   [5] \"WVYE\"         \"IWVY\"         \"YDTG\"         \"S%TGNTE\"     \n",
       "   [9] \"S%SGANV\"      \"SV%GNTE\"      \"EEEG\"         \"S%GQGNTE\"    \n",
       "  [13] \"SLQG%E\"       \"S%VNTE\"       \"SVG%NTE\"      \"SV%GGTE\"     \n",
       "  [17] \"S%GLAGGE\"     \"S%GNYG\"       \"S%GSGE\"       \"%QGNTE\"      \n",
       "  [21] \"S%GTYE\"       \"S%GLE\"        \"SP%GTE\"       \"S%TLNTE\"     \n",
       "  [25] \"S%RTGE\"       \"RG%GNTE\"      \"TGIW\"         \"S%QGTGE\"     \n",
       "  [29] \"R%STDT\"       \"S%GQMNTE\"     \"S%GSYG\"       \"SVGG%TE\"     \n",
       "  [33] \"SP%MNTE\"      \"%GTGNTE\"      \"SV%GNE\"       \"SIDK\"        \n",
       "  [37] \"MTNT\"         \"SV%GDE\"       \"SRT%NTE\"      \"S%GNTE\"      \n",
       "  [41] \"SIGG%E\"       \"SV%VNTE\"      \"SP%GNT\"       \"%GGSYE\"      \n",
       "  [45] \"S%ENTE\"       \"SPGQG%TE\"     \"SPG%TGE\"      \"S%TVNTE\"     \n",
       "  [49] \"SA%NTE\"       \"SV%GTGE\"      \"SG%SNQP\"      \"SLG%NTE\"     \n",
       "  [53] \"S%GGSYNE\"     \"SPG%NE\"       \"%TGMNTE\"      \"SLGQG%YE\"    \n",
       "  [57] \"S%GMNTE\"      \"S%GQGTYE\"     \"S%QGRTE\"      \"SGG%TDT\"     \n",
       "  [61] \"S%DRSYE\"      \"ST%GNTE\"      \"SLGTG%NE\"     \"S%GDSNQP\"    \n",
       "  [65] \"SV%GSGANV\"    \"S%RSNQP\"      \"SL%PNTGE\"     \"S%GSYE\"      \n",
       "  [69] \"SPGQ%NTE\"     \"R%QGNTE\"      \"SE%NTE\"       \"S%GTSTDT\"    \n",
       "  [73] \"T%GNTE\"       \"S%GGTNTE\"     \"S%TSGAYNE\"    \"SR%ENTE\"     \n",
       "  [77] \"S%LGTE\"       \"SLS%E\"        \"SL%SSGNT\"     \"STGD%NQP\"    \n",
       "  [81] \"SVLG%E\"       \"RG%GGTE\"      \"SQDR%YE\"      \"SL%TNTGE\"    \n",
       "  [85] \"%TGGNQP\"      \"RGQG%TE\"      \"S%DRGSYE\"     \"%DRGNTE\"     \n",
       "  [89] \"S%RGGTE\"      \"S%TMNTE\"      \"S%DRAYE\"      \"SS%SGNT\"     \n",
       "  [93] \"S%DRLNTE\"     \"SL%DE\"        \"SPT%NTE\"      \"SPGR%NTE\"    \n",
       "  [97] \"S%TENTE\"      \"S%GGSTE\"      \"SPSR%E\"       \"S%RSTGE\"     \n",
       " [101] \"SRTSG%YNE\"    \"S%GTNTE\"      \"S%GRTDT\"      \"S%GTSGRNE\"   \n",
       " [105] \"SL%KNTE\"      \"S%QGRGTE\"     \"SLS%SGNT\"     \"SRG%GYE\"     \n",
       " [109] \"RDR%NTE\"      \"RG%MNTE\"      \"SP%GTDT\"      \"S%RGYG\"      \n",
       " [113] \"SDR%YG\"       \"S%RSSYE\"      \"SDR%NTE\"      \"%RGMNTE\"     \n",
       " [117] \"SYR%GE\"       \"%RSSYNE\"      \"SDR%TGE\"      \"S%SGSE\"      \n",
       " [121] \"S%GTGDE\"      \"S%DSGNT\"      \"SPG%NEK\"      \"S%NSGNT\"     \n",
       " [125] \"SPG%MNTE\"     \"SP%RGNTE\"     \"SRGQG%YE\"     \"SPRQG%NTE\"   \n",
       " [129] \"TG%SYE\"       \"SD%GYE\"       \"SVVG%E\"       \"%GMNTE\"      \n",
       " [133] \"SP%RNTE\"      \"ST%GTE\"       \"S%AGLNTE\"     \"STGT%YNE\"    \n",
       " [137] \"S%GVNE\"       \"R%GGNTE\"      \"SYSRG%E\"      \"S%GTGSGNT\"   \n",
       " [141] \"SY%GTE\"       \"%VSGANV\"      \"%DGNYG\"       \"SP%GYG\"      \n",
       " [145] \"S%RGGYNE\"     \"SPG%GTE\"      \"S%PNTGE\"      \"SL%GE\"       \n",
       " [149] \"SLG%GMNTE\"    \"S%SSYNE\"      \"SYG%YE\"       \"SPGG%ET\"     \n",
       " [153] \"SL%GQGNE\"     \"SSGTG%TGE\"    \"SS%MNTE\"      \"SPG%GET\"     \n",
       " [157] \"S%TSNE\"       \"S%QGATE\"      \"SR%GGNTE\"     \"SLDG%NTE\"    \n",
       " [161] \"SLGTG%NTE\"    \"%QTNTE\"       \"SVQ%NQP\"      \"SE%GMNTE\"    \n",
       " [165] \"S%GTGQET\"     \"T%SSYNE\"      \"SV%PNQP\"      \"SQD%AYE\"     \n",
       " [169] \"G%GGTNEK\"     \"SS%GMNTE\"     \"SAGQ%NTE\"     \"S%TSGPYNE\"   \n",
       " [173] \"R%GGNT\"       \"SSG%LNTE\"     \"SYDD\"         \"S%SGE\"       \n",
       " [177] \"SF%GNTE\"      \"S%QGYSNQP\"    \"SPDR%NEK\"     \"SPGQ%SGNT\"   \n",
       " [181] \"SP%GGET\"      \"SR%RGNTE\"     \"SYS%YE\"       \"%PGGTE\"      \n",
       " [185] \"S%PNTE\"       \"S%ARGET\"      \"SPLG%NTE\"     \"%RTGNTE\"     \n",
       " [189] \"S%SYE\"        \"S%GLTYE\"      \"SYS%ET\"       \"S%AGANTGE\"   \n",
       " [193] \"DR%NTGE\"      \"%DSLNTE\"      \"G%GSYNE\"      \"SQDR%T\"      \n",
       " [197] \"S%RGNTE\"      \"%DRPNTE\"      \"SST%NTE\"      \"S%MNTE\"      \n",
       " [201] \"S%GGDG\"       \"R%GNTE\"       \"%TGGSYE\"      \"S%RDSNQP\"    \n",
       " [205] \"S%AGYE\"       \"SRDG%NTE\"     \"S%GGGYE\"      \"%PGQGNTE\"    \n",
       " [209] \"SL%RLNTE\"     \"SP%GPNTE\"     \"SE%ASTDT\"     \"S%SNQP\"      \n",
       " [213] \"SPGV%E\"       \"S%PGTDT\"      \"SVGQG%TE\"     \"S%QGTTE\"     \n",
       " [217] \"SYSG%DT\"      \"S%GYTGE\"      \"R%GSYE\"       \"SRG%MNTE\"    \n",
       " [221] \"S%GQGSSYE\"    \"SGT%NTE\"      \"S%RQGNSP\"     \"SD%NYG\"      \n",
       " [225] \"S%GTGRYE\"     \"SPGG%E\"       \"SR%NTE\"       \"S%YRGNTE\"    \n",
       " [229] \"SL%GANTGE\"    \"S%NTE\"        \"%GIWVYE\"      \"S%GIWVYE\"    \n",
       " [233] \"R%GPYE\"       \"SYLG%E\"       \"SP%NTE\"       \"SG%GQET\"     \n",
       " [237] \"%RGNTGE\"      \"SIS%GE\"       \"SPGL%YE\"      \"RQ%NEK\"      \n",
       " [241] \"SRGT%YE\"      \"S%QGYTGE\"     \"SQDRG%YE\"     \"SYR%NTE\"     \n",
       " [245] \"SL%RGGYE\"     \"SQGTG%YE\"     \"SA%NTGE\"      \"SPR%YG\"      \n",
       " [249] \"S%GPLNTE\"     \"S%LGGQET\"     \"SL%GATNEK\"    \"SLVA%SYE\"    \n",
       " [253] \"S%GGDTE\"      \"SLT%NTE\"      \"SGT%TDT\"      \"S%DGTYE\"     \n",
       " [257] \"%GQSYE\"       \"%GRLNTE\"      \"SLD%GSYNE\"    \"SVG%GSSYE\"   \n",
       " [261] \"SDG%YG\"       \"S%GRENTE\"     \"R%GMNTE\"      \"STG%NTE\"     \n",
       " [265] \"S%GTE\"        \"SPG%GQP\"      \"SPD%SYE\"      \"SVG%GNSP\"    \n",
       " [269] \"SYG%TE\"       \"S%GQGGSP\"     \"%AGNTE\"       \"S%GGTE\"      \n",
       " [273] \"S%GGNE\"       \"R%TGGTE\"      \"S%RGPGE\"      \"S%DSNQP\"     \n",
       " [277] \"%QGSYG\"       \"S%GGVNTE\"     \"S%GQDTGE\"     \"SF%GNE\"      \n",
       " [281] \"SFG%YE\"       \"SGQ%QET\"      \"S%GGMNTE\"     \"SPRS%NTE\"    \n",
       " [285] \"%QGGNT\"       \"SY%NTE\"       \"R%QGATE\"      \"SFRG%TE\"     \n",
       " [289] \"S%GQGVTE\"     \"SGQG%SNQP\"    \"S%GGE\"        \"S%QGYE\"      \n",
       " [293] \"SYST%E\"       \"L%SGANV\"      \"SG%GNTE\"      \"SP%GGSYNE\"   \n",
       " [297] \"TGG%YE\"       \"RRT%NTE\"      \"GTG%SNQP\"     \"GQ%NTE\"      \n",
       " [301] \"SPP%TDT\"      \"SPGQ%MNTE\"    \"SLGLAG%ET\"    \"SV%SYNE\"     \n",
       " [305] \"S%QET\"        \"S%TGGAE\"      \"R%QGGTE\"      \"SPTG%TDT\"    \n",
       " [309] \"S%VGNE\"       \"SV%GSE\"       \"RGT%NTE\"      \"S%SGGDNE\"    \n",
       " [313] \"S%RTENTE\"     \"SPPG%TGE\"     \"SY%RE\"        \"R%GQLNTE\"    \n",
       " [317] \"SPG%YE\"       \"S%GGTGE\"      \"S%LAGYNE\"     \"S%TGIWVYE\"   \n",
       " [321] \"S%RPNTE\"      \"S%GQGDYE\"     \"SPG%GE\"       \"RQ%GNQP\"     \n",
       " [325] \"SQ%NTE\"       \"SIQGG%\"       \"SI%GYTE\"      \"SPR%ENTE\"    \n",
       " [329] \"S%LNTE\"       \"S%GGTDT\"      \"S%RGVNTE\"     \"SFG%MNTE\"    \n",
       " [333] \"S%TSGRGE\"     \"RG%VNTE\"      \"STT%NTE\"      \"RGQGN%E\"     \n",
       " [337] \"SVGQG%YE\"     \"SL%TGMNTE\"    \"SPGG%GSYE\"    \"S%GTGE\"      \n",
       " [341] \"SG%NTE\"       \"SRG%YE\"       \"S%TGSSYE\"     \"S%GQGATNEK\"  \n",
       " [345] \"S%GQGSTE\"     \"SR%GMNTE\"     \"GGG%YG\"       \"S%QGGTE\"     \n",
       " [349] \"SL%QGSYNE\"    \"S%GTGYNE\"     \"GS%NTE\"       \"SIGG%TE\"     \n",
       " [353] \"SSS%E\"        \"SVQG%TE\"      \"SR%GSYNE\"     \"SE%SGE\"      \n",
       " [357] \"%RDPNTE\"      \"S%RMNTE\"      \"SVLAG%YNE\"    \"%GTAYG\"      \n",
       " [361] \"RQ%NTE\"       \"SLGL%YE\"      \"S%GQGAYE\"     \"S%TGGTE\"     \n",
       " [365] \"SF%NTE\"       \"SIG%TE\"       \"%RDRGYE\"      \"S%GEGNT\"     \n",
       " [369] \"SP%GGGYG\"     \"SFGQ%NTE\"     \"SL%QGMNTE\"    \"%KNTE\"       \n",
       " [373] \"%DRNYG\"       \"S%TENTGE\"     \"S%GTGGTGE\"    \"SLDR%YE\"     \n",
       " [377] \"SM%NTE\"       \"SY%PNTE\"      \"SIDR%TE\"      \"STG%TGNT\"    \n",
       " [381] \"SLT%MNTE\"     \"SLGV%NTE\"     \"SLRR%E\"       \"DRG%TGE\"     \n",
       " [385] \"SL%GYE\"       \"SPRT%NTE\"     \"S%TSGVYNE\"    \"SPRG%G\"      \n",
       " [389] \"S%GQAYE\"      \"RDR%NTGE\"     \"%TGVYG\"       \"%QSTDT\"      \n",
       " [393] \"SYS%GE\"       \"SAG%STDT\"     \"SLGSGG%YE\"    \"SL%GNTE\"     \n",
       " [397] \"%PSGANV\"      \"S%GSNQP\"      \"S%RNTE\"       \"SPL%SYE\"     \n",
       " [401] \"S%PGGTGE\"     \"SD%NTE\"       \"RG%AGE\"       \"S%RTEET\"     \n",
       " [405] \"SIG%GSYE\"     \"SSG%GG\"       \"%GQGGTE\"      \"S%SGTE\"      \n",
       " [409] \"G%GLNTE\"      \"SRD%GDYG\"     \"%RGNTE\"       \"SRG%NTE\"     \n",
       " [413] \"%PGGAE\"       \"SR%GLNTE\"     \"SLG%GGNE\"     \"SRDRG%YNE\"   \n",
       " [417] \"S%GDE\"        \"RGQ%NTE\"      \"SLG%TE\"       \"S%SNTE\"      \n",
       " [421] \"SS%YE\"        \"SPG%E\"        \"SVG%GDE\"      \"S%GGDNSP\"    \n",
       " [425] \"S%DGLNTE\"     \"SLN%NTGE\"     \"SPSR%NTE\"     \"S%GQGETDT\"   \n",
       " [429] \"SLGT%MNTE\"    \"%GGRTE\"       \"RG%GDE\"       \"SYSG%E\"      \n",
       " [433] \"RDRG%EK\"      \"SLG%MNTE\"     \"SY%QGYE\"      \"SS%TGGTE\"    \n",
       " [437] \"SLG%GSNE\"     \"R%QGSGANV\"    \"S%NTGE\"       \"SL%SGE\"      \n",
       " [441] \"SLGG%E\"       \"SPG%LNTE\"     \"SLVGQG%E\"     \"SLG%NYG\"     \n",
       " [445] \"SPR%PNTE\"     \"SV%GYG\"       \"SLGG%TE\"      \"SLVG%GNE\"    \n",
       " [449] \"S%GQGISYE\"    \"SSGQG%TDT\"    \"SP%GNE\"       \"SL%GNE\"      \n",
       " [453] \"S%GGNQP\"      \"T%GSYE\"       \"S%GQGR\"       \"SL%GSE\"      \n",
       " [457] \"SR%ANTE\"      \"SPQG%TE\"      \"S%TGMNTE\"     \"SL%TE\"       \n",
       " [461] \"SL%NE\"        \"SI%SYE\"       \"SL%DMNTE\"     \"RR%GNTGE\"    \n",
       " [465] \"SL%GGHYE\"     \"SPGP%NTE\"     \"SQGG%NTE\"     \"SEGQG%SP\"    \n",
       " [469] \"SL%QGGNTE\"    \"S%GDTE\"       \"S%GQGDTE\"     \"SL%NTE\"      \n",
       " [473] \"SY%GYE\"       \"SL%SGGE\"      \"S%TGGAYNE\"    \"%RTENTE\"     \n",
       " [477] \"S%RASYE\"      \"SL%PGMNTE\"    \"SL%GIWVYE\"    \"G%GNTE\"      \n",
       " [481] \"R%TGNTE\"      \"S%RGNE\"       \"S%TVTDT\"      \"RKGS%E\"      \n",
       " [485] \"SI%GTE\"       \"RPG%TE\"       \"SQGG%TE\"      \"SPWG%TE\"     \n",
       " [489] \"S%EGGGTE\"     \"SLD%MNTE\"     \"SL%GAGGNT\"    \"SL%GVSSYNE\"  \n",
       " [493] \"SPGTG%SNQP\"   \"SS%NTE\"       \"T%GENTE\"      \"RR%GNTE\"     \n",
       " [497] \"GLG%NTE\"      \"S%GRLNTE\"     \"S%RGMNTE\"     \"S%GLSSGNT\"   \n",
       " [501] \"S%PGNE\"       \"SL%GYG\"       \"RSG%NTE\"      \"SQG%E\"       \n",
       " [505] \"SP%RVNTE\"     \"G%GNYG\"       \"SPN%NE\"       \"SYG%NTE\"     \n",
       " [509] \"S%GQVNTE\"     \"SEGQ%NTE\"     \"SSGLAGV%E\"    \"SL%YE\"       \n",
       " [513] \"S%GKNTE\"      \"SLG%GSYE\"     \"SLG%GAYE\"     \"SL%GADTE\"    \n",
       " [517] \"SYG%GGTE\"     \"SYGQG%TE\"     \"SLEASG%YE\"    \"SVD%YNE\"     \n",
       " [521] \"G%TNTE\"       \"%TGGNTE\"      \"S%GGLNTE\"     \"S%RGYE\"      \n",
       " [525] \"SVE%GSSYE\"    \"SSTS%E\"       \"%RQGSYNE\"     \"K%MNTE\"      \n",
       " [529] \"SPDRG%\"       \"SLD%NTE\"      \"S%GGAGTE\"     \"SLTSG%YNE\"   \n",
       " [533] \"S%RVNE\"       \"SL%GTE\"       \"SY%GDG\"       \"SGGSY%\"      \n",
       " [537] \"S%DRGNTE\"     \"SLGTA%YE\"     \"S%RGTE\"       \"SPGQG%YE\"    \n",
       " [541] \"RQGN%E\"       \"%GGSNEK\"      \"SLGQ%NTE\"     \"S%RDGNTE\"    \n",
       " [545] \"SP%RLNTE\"     \"SIG%GNTE\"     \"SPGG%GYG\"     \"SE%GANTGE\"   \n",
       " [549] \"SSTSGG%NE\"    \"SL%ENTE\"      \"SP%SPNTE\"     \"SV%SSYE\"     \n",
       " [553] \"SLDGQG%DE\"    \"SY%SNE\"       \"STG%YG\"       \"SPQ%GTE\"     \n",
       " [557] \"SVGG%YNE\"     \"SSGTG%ET\"     \"S%RVNTE\"      \"SPS%TE\"      \n",
       " [561] \"SE%GAYE\"      \"SFG%NTE\"      \"SAGQG%TE\"     \"SLR%NE\"      \n",
       " [565] \"RQG%DT\"       \"SP%PPE\"       \"SYSGS%\"       \"SL%GSGYE\"    \n",
       " [569] \"SLE%GGYE\"     \"SYGG%PYE\"     \"SVAG%NTE\"     \"S%PGQGNSP\"   \n",
       " [573] \"SLGQGA%NTE\"   \"SYG%E\"        \"SLGG%NTE\"     \"SFQG%TE\"     \n",
       " [577] \"S%TGTAYE\"     \"SPP%GSYE\"     \"SLGQ%NEK\"     \"S%QGNE\"      \n",
       " [581] \"S%GRMNTE\"     \"SLGGQ%TE\"     \"SLTSG%SYNE\"   \"S%GGYE\"      \n",
       " [585] \"SL%GGTE\"      \"S%RTGDTE\"     \"SVAG%QET\"     \"RT%YNE\"      \n",
       " [589] \"RQG%YNE\"      \"SLTG%TE\"      \"RGS%NTE\"      \"SLGQG%TE\"    \n",
       " [593] \"SL%GGDEK\"     \"SLEG%TNEK\"    \"SLGDR%NEK\"    \"SLEGQ%NTE\"   \n",
       " [597] \"KQGA%TE\"      \"SLRGG%NE\"     \"SPL%TE\"       \"SL%GGET\"     \n",
       " [601] \"SP%GANV\"      \"RRTG%TE\"      \"RG%NEK\"       \"RDG%YE\"      \n",
       " [605] \"S%GYE\"        \"SLV%GET\"      \"SP%LAGGE\"     \"STGG%GNT\"    \n",
       " [609] \"SLGQG%TGE\"    \"SI%ET\"        \"SQ%GNTE\"      \"SLG%YE\"      \n",
       " [613] \"SI%VSYE\"      \"S%DSFTDT\"     \"S%SPGGYE\"     \"SL%GFNQP\"    \n",
       " [617] \"SA%QGNTE\"     \"SLDS%GNT\"     \"SPGQG%DG\"     \"SIG%GE\"      \n",
       " [621] \"RQ%GNT\"       \"SY%SGNT\"      \"SYGG%NE\"      \"S%AGSGANV\"   \n",
       " [625] \"SSGA%E\"       \"S%SGYE\"       \"SLG%NE\"       \"S%GNTGE\"     \n",
       " [629] \"SV%GDTE\"      \"SSG%SGNT\"     \"SIG%DT\"       \"RL%GGTE\"     \n",
       " [633] \"S%DRDNEK\"     \"S%TSDTGE\"     \"SF%GAGTE\"     \"SS%DSNQP\"    \n",
       " [637] \"SWG%SNQP\"     \"SLRG%YNE\"     \"SQPQG%NE\"     \"SLV%GMNTE\"   \n",
       " [641] \"SRDS%TNEK\"    \"SISG%STDT\"    \"SLLAGG%TGE\"   \"S%DRNTE\"     \n",
       " [645] \"SPG%NTE\"      \"SAG%NTE\"      \"SPN%E\"        \"SVV%NE\"      \n",
       " [649] \"SLG%SYE\"      \"S%QGAGTE\"     \"S%ANTGE\"      \"SPPT%RDE\"    \n",
       " [653] \"SQG%TE\"       \"SQDRV%\"       \"%LGLNTE\"      \"S%SGGAE\"     \n",
       " [657] \"RVGG%TE\"      \"S%GQLNTE\"     \"SPGGTD%\"      \"SQGP%PYE\"    \n",
       " [661] \"SPG%YG\"       \"SY%ANTE\"      \"SPSG%ADT\"     \"SLRGS%YE\"    \n",
       " [665] \"S%GTSGLTDT\"   \"TYDG\"         \"SI%TDT\"       \"SD%PNTE\"     \n",
       " [669] \"SLA%NTE\"      \"SS%VE\"        \"R%GNEK\"       \"S%TGYE\"      \n",
       " [673] \"SPG%DE\"       \"S%GSTDT\"      \"SF%SNQP\"      \"S%GTSGRGE\"   \n",
       " [677] \"SL%RE\"        \"S%GGYG\"       \"SI%SYG\"       \"KGG%TE\"      \n",
       " [681] \"S%RGGDE\"      \"S%DGNTE\"      \"SYG%QET\"      \"S%GTENYG\"    \n",
       " [685] \"SLG%GGNTE\"    \"S%GGNT\"       \"S%SGNT\"       \"SP%SYE\"      \n",
       " [689] \"S%GVSYE\"      \"SLD%GRNTE\"    \"SPPTG%NEK\"    \"S%RGDTE\"     \n",
       " [693] \"S%SMNTE\"      \"SYS%E\"        \"K%GNTE\"       \"S%IGYE\"      \n",
       " [697] \"A%GAYE\"       \"SI%YNE\"       \"%VGGNTE\"      \"S%QGAYE\"     \n",
       " [701] \"S%GGSGNT\"     \"S%GSGANV\"     \"SFT%NTE\"      \"SLG%GIYE\"    \n",
       " [705] \"S%SGGMNTE\"    \"SLGR%SGNT\"    \"SLGGG%TGE\"    \"S%GGTTE\"     \n",
       " [709] \"SL%ANTE\"      \"SP%AGNT\"      \"SL%GGNTE\"     \"SPGTG%YG\"    \n",
       " [713] \"SL%TDT\"       \"R%IWVYE\"      \"R%GIWVYE\"     \"%PTGIWVYE\"   \n",
       " [717] \"SL%TGIWVYE\"   \"SL%GNQP\"      \"SSRG%GE\"      \"%YDTGE\"      \n",
       " [721] \"G%AYNE\"       \"SV%GTE\"       \"S%GGTYE\"      \"SYG%PYE\"     \n",
       " [725] \"SQ%GGNTE\"     \"SLRG%GYE\"     \"R%PGGTE\"      \"S%SSSGNT\"    \n",
       " [729] \"SSG%MNTE\"     \"D%GNTE\"       \"T%SNQP\"       \"%GAYNE\"      \n",
       " [733] \"SQG%NTE\"      \"SFPG%E\"       \"SL%STDT\"      \"SDP%TE\"      \n",
       " [737] \"R%LAGGGE\"     \"S%RTGSYE\"     \"%LGNE\"        \"SL%GGYE\"     \n",
       " [741] \"SYSD%E\"       \"S%DGGNTE\"     \"S%YNE\"        \"SV%NTE\"      \n",
       " [745] \"SLGTG%YE\"     \"SYG%YQP\"      \"SE%GSGEK\"     \"SLL%GATE\"    \n",
       " [749] \"SLGG%LAKNI\"   \"QG%YNSP\"      \"SIGTG%E\"      \"RPGQ%NTE\"    \n",
       " [753] \"RSG%E\"        \"S%GSE\"        \"SP%GGTE\"      \"GLA%DE\"      \n",
       " [757] \"S%GTGMNTE\"    \"SL%ET\"        \"SLG%GQP\"      \"SLVSG%E\"     \n",
       " [761] \"SL%QGAYE\"     \"SLG%LNTE\"     \"SIRSA%E\"      \"S%QGMNTE\"    \n",
       " [765] \"SYL%TE\"       \"KGGN%E\"       \"SQG%VNTE\"     \"SLE%GSYE\"    \n",
       " [769] \"SEQG%TNEK\"    \"%GSSYNE\"      \"SV%SNQP\"      \"SL%SNQP\"     \n",
       " [773] \"S%SGSSYNE\"    \"R%GVTE\"       \"STRG%E\"       \"S%GGGTE\"     \n",
       " [777] \"S%GWNTE\"      \"S%QGNTE\"      \"SL%GTGE\"      \"SLGQ%TE\"     \n",
       " [781] \"SVTG%TE\"      \"SL%GGNQP\"     \"S%RDE\"        \"S%DRGYE\"     \n",
       " [785] \"S%RDNTE\"      \"SQD%NQP\"      \"S%GGGLET\"     \"SL%DSNQP\"    \n",
       " [789] \"SL%RGNTE\"     \"SP%TGYNE\"     \"SP%TENTE\"     \"SL%GAGTE\"    \n",
       " [793] \"S%GQGDTGE\"    \"SL%GGSNQP\"    \"S%QSE\"        \"RV%GNTE\"     \n",
       " [797] \"S%GGANTE\"     \"SLD%TGNT\"     \"SLG%NTGE\"     \"SYSR%SNQP\"   \n",
       " [801] \"%GNTE\"        \"S%QGTE\"       \"S%SSYE\"       \"S%GVNTE\"     \n",
       " [805] \"%QGNYG\"       \"SPLP%E\"       \"S%TANTE\"      \"STGV%TE\"     \n",
       " [809] \"SIGAG%E\"      \"SL%GGIYE\"     \"SDRG%SYE\"     \"SLSG%GYE\"    \n",
       " [813] \"SLDG%SYE\"     \"SLGT%PYE\"     \"SEDR%NTE\"     \"%TMNTE\"      \n",
       " [817] \"SL%NQP\"       \"GSG%TE\"       \"%QGNTGE\"      \"%GGRTDT\"     \n",
       " [821] \"SR%RGYE\"      \"S%GGGNTE\"     \"D%GNTGE\"      \"SY%YTGE\"     \n",
       " [825] \"SF%GGDT\"      \"SV%AYNE\"      \"SP%TGNYG\"     \"SLS%ATGE\"    \n",
       " [829] \"SRGG%NSP\"     \"SPDRV%TE\"     \"SR%SGSYNE\"    \"SL%GGNTGE\"   \n",
       " [833] \"SYR%E\"        \"S%LSSYE\"      \"SSR%SYE\"      \"SSG%E\"       \n",
       " [837] \"RG%SYE\"       \"SY%PYE\"       \"SYS%NTE\"      \"S%GVMNTE\"    \n",
       " [841] \"SL%GPYNE\"     \"S%GAGE\"       \"S%STGE\"       \"SLVG%E\"      \n",
       " [845] \"S%GSSYE\"      \"SEG%NTE\"      \"SPGQG%G\"      \"SAS%SGNT\"    \n",
       " [849] \"SPDS%TDT\"     \"SLGVG%QP\"     \"SLLTG%TE\"     \"SFGGG%DT\"    \n",
       " [853] \"SSG%AYE\"      \"SRD%NTE\"      \"S%WNTE\"       \"S%TGEK\"      \n",
       " [857] \"SD%VYE\"       \"QGT%NTE\"      \"%DRSSYNE\"     \"SY%TGE\"      \n",
       " [861] \"SGG%YG\"       \"S%GPNTE\"      \"%TGGTE\"       \"S%GQGVYE\"    \n",
       " [865] \"S%GRGRG\"      \"SY%SYNE\"      \"S%AGGQDT\"     \"SP%QVNTE\"    \n",
       " [869] \"SAG%GNTE\"     \"SL%GGSYNE\"    \"SPGL%SYNE\"    \"SIGLAGG%E\"   \n",
       " [873] \"SLR%GE\"       \"SQDR%GE\"      \"R%RGNTGE\"     \"S%RAE\"       \n",
       " [877] \"S%GQET\"       \"S%GQTYG\"      \"SL%QNTE\"      \"RGA%NQP\"     \n",
       " [881] \"RSG%GTDT\"     \"SD%GDT\"       \"SL%RSE\"       \"SPR%NTE\"     \n",
       " [885] \"SYSH%\"        \"GGGFY%\"       \"G%GQGNTE\"     \"SLEGG%ET\"    \n",
       " [889] \"SPG%DSNQP\"    \"SA%YE\"        \"SS%TGE\"       \"S%GITE\"      \n",
       " [893] \"SLG%ET\"       \"SLG%NT\"       \"SL%RNQP\"      \"SIG%NTE\"     \n",
       " [897] \"SPGA%TE\"      \"SLGV%NE\"      \"S%GQGYTE\"     \"S%GYNE\"      \n",
       " [901] \"S%GANYG\"      \"S%GLNTE\"      \"SL%GSYE\"      \"RGR%NTE\"     \n",
       " [905] \"SGR%QET\"      \"S%GSSYNE\"     \"S%RGSYE\"      \"SPGGT%E\"     \n",
       " [909] \"SPGLV%E\"      \"SRTSGS%NE\"    \"%VRGNE\"       \"RQGGN%\"      \n",
       " [913] \"SA%DTGE\"      \"SLRGL%TE\"     \"SL%QGLNTE\"    \"SLGQG%NTE\"   \n",
       " [917] \"SV%NTGE\"      \"SVTGG%E\"      \"S%QGNQP\"      \"SYTG%G\"      \n",
       " [921] \"%DRDSYE\"      \"SY%GGTE\"      \"SLE%NTE\"      \"SVGG%SE\"     \n",
       " [925] \"ST%NTE\"       \"SL%TGE\"       \"S%GAGNT\"      \"TTGGN%P\"     \n",
       " [929] \"SQDRDY%\"      \"SLE%GLTE\"     \"SSGLAT%E\"     \"ST%MNTE\"     \n",
       " [933] \"SVGGG%E\"      \"R%GGTE\"       \"S%LTGGTE\"     \"SLG%TNYG\"    \n",
       " [937] \"SWG%GNTE\"     \"S%LAGGGDE\"    \"S%SGLSTDT\"    \"SLGTSGT%E\"   \n",
       " [941] \"IVTA\"         \"S%GQGSYE\"     \"S%PNQP\"       \"SPGG%TE\"     \n",
       " [945] \"SLQG%TE\"      \"S%RGGTDT\"     \"S%SDTE\"       \"S%WGNTE\"     \n",
       " [949] \"SY%GNTE\"      \"SSQG%QP\"      \"RAGG%YG\"      \"S%EGTE\"      \n",
       " [953] \"S%VNTGE\"      \"S%GAE\"        \"SDG%YE\"       \"SAT%NTE\"     \n",
       " [957] \"SIT%NTE\"      \"SQT%NTE\"      \"SMGG%TE\"      \"SVGGN%E\"     \n",
       " [961] \"%RGGMNTE\"     \"SP%TLNTE\"     \"SPQG%GTE\"     \"SIGQ%NTE\"    \n",
       " [965] \"SLGG%QET\"     \"%GQGNTE\"      \"SV%GNQP\"      \"SVSQ%TE\"     \n",
       " [969] \"SGG%RGTE\"     \"SVAGEG%E\"     \"SPPT%NTGE\"    \"SLEGL%TGE\"   \n",
       " [973] \"S%DYE\"        \"S%TGTE\"       \"S%TGE\"        \"S%GTLYE\"     \n",
       " [977] \"SL%AGNT\"      \"S%DRVNQP\"     \"SP%GSGNT\"     \"S%DRGSYNE\"   \n",
       " [981] \"SGQG%TE\"      \"SP%TE\"        \"SLG%TDT\"      \"SI%VNTE\"     \n",
       " [985] \"S%SVSNQP\"     \"S%TYE\"        \"SF%DT\"        \"SYS%G\"       \n",
       " [989] \"S%GRYE\"       \"SVQG%E\"       \"SPAG%E\"       \"%DSNTGE\"     \n",
       " [993] \"R%GVGTE\"      \"SD%NTGE\"      \"SL%VNTE\"      \"SI%GNTE\"     \n",
       " [997] \"SGTG%TE\"      \"S%GGSYE\"      \"SY%GE\"        \"RQG%EK\"      \n",
       "[1001] \"S%LAGYE\"      \"S%RNTGE\"      \"SY%QNTE\"      \"SS%SAYE\"     \n",
       "[1005] \"RRD%DYE\"      \"SLG%GYG\"      \"SVGM%TE\"      \"RGTG%TE\"     \n",
       "[1009] \"SPRD%SP\"      \"SVSGN%E\"      \"S%RQGGNT\"     \"SL%GQYNE\"    \n",
       "[1013] \"SLG%STDT\"     \"SLG%RNTE\"     \"SVQG%GEK\"     \"SLGAGA%E\"    \n",
       "[1017] \"S%GQLSGNT\"    \"SL%GSSYNE\"    \"SLD%GGGNT\"    \"S%GPYE\"      \n",
       "[1021] \"SED%TSGNT\"    \"SP%TGE\"       \"SLE%TE\"       \"S%GVGTE\"     \n",
       "[1025] \"S%AGVYE\"      \"SDS%YNE\"      \"SL%SE\"        \"SY%DTE\"      \n",
       "[1029] \"STR%TE\"       \"SMG%GTE\"      \"SIGG%NTE\"     \"SP%GQGSYE\"   \n",
       "[1033] \"SRD%ATNEK\"    \"SLAG%SNQP\"    \"S%VGNTE\"      \"SR%MNTE\"     \n",
       "[1037] \"SP%RGTE\"      \"S%GQGGTE\"     \"S%TSGGYNE\"    \"S%GLAYE\"     \n",
       "[1041] \"SNP%TGE\"      \"SQ%YE\"        \"SPP%RG\"       \"%PQGGTE\"     \n",
       "[1045] \"S%GQNTE\"      \"SPG%AYE\"      \"SLRV%NE\"      \"SVDS%YE\"     \n",
       "[1049] \"S%SGGAYE\"     \"SY%GSSYE\"     \"SPG%TNTE\"     \"SLRG%GTE\"    \n",
       "[1053] \"SLSGQG%E\"     \"SPS%SSYNE\"    \"SLS%SSYNE\"    \"S%SGEK\"      \n",
       "[1057] \"SLAG%E\"       \"SQ%SGNT\"      \"SLGG%QP\"      \"SPG%GNTE\"    \n",
       "[1061] \"S%VGYE\"       \"RG%LNTE\"      \"S%IYNE\"       \"SPG%TE\"      \n",
       "[1065] \"SQGS%G\"       \"SL%GDTE\"      \"RTG%NTE\"      \"SASG%YE\"     \n",
       "[1069] \"S%GDSSYE\"     \"S%GTGSSYE\"    \"SL%GDT\"       \"GTS%NE\"      \n",
       "[1073] \"S%DSNSP\"      \"SFTG%TE\"      \"SL%QGGTE\"     \"SLR%NTGE\"    \n",
       "[1077] \"SPG%SNTE\"     \"SPDR%NTE\"     \"RDRGG%TE\"     \"SDR%YE\"      \n",
       "[1081] \"S%QNTE\"       \"SAG%TE\"       \"S%RLNTE\"      \"SPG%QET\"     \n",
       "[1085] \"SPPGR%T\"      \"LR%GSYNE\"     \"SLG%GHQP\"     \"SLEGQ%TE\"    \n",
       "[1089] \"S%DSGGYNE\"    \"%GAGTGE\"      \"SERGGTD%\"     \"SGG%GATGE\"   \n",
       "[1093] \"SQGPAG%TDT\"   \"%SGNTE\"       \"R%GNYG\"       \"SLD%YE\"      \n",
       "[1097] \"DRG%TE\"       \"SLG%YG\"       \"SL%WNTE\"      \"SL%GTDT\"     \n",
       "[1101] \"SVE%NQP\"      \"SLGLAG%E\"     \"SVG%GSGNT\"    \"%DTNTGE\"     \n",
       "[1105] \"SVR%NTE\"      \"SRGG%NTE\"     \"SPGT%NTE\"     \"SY%NE\"       \n",
       "[1109] \"S%TGNYG\"      \"R%RGNTE\"      \"SGR%NTE\"      \"S%GIYG\"      \n",
       "[1113] \"S%DRDT\"       \"S%QGGET\"      \"S%TTNTE\"      \"SQ%MNTE\"     \n",
       "[1117] \"SY%GGDE\"      \"SAR%TGE\"      \"SLL%NTE\"      \"S%GQGFYG\"    \n",
       "[1121] \"SI%GSYNE\"     \"SPG%RNTE\"     \"SLGQ%NYG\"     \"SLRG%NQP\"    \n",
       "[1125] \"S%GGGSNQP\"    \"SASY%\"        \"SIGN%E\"       \"K%GDSYE\"     \n",
       "[1129] \"SD%DNSP\"      \"SIG%YTE\"      \"SPG%NQP\"      \"SPQ%VNTE\"    \n",
       "[1133] \"SPLD%NTE\"     \"SPSGA%YG\"     \"SLGPG%EK\"     \"S%DSTSGNT\"   \n",
       "[1137] \"SPS%GAYNE\"    \"SLD%ASTDT\"    \"SPR%GPNTE\"    \"SLTG%ATNEK\"  \n",
       "[1141] \"SLLAGA%TDT\"   \"RGS%DT\"       \"S%TPNTE\"      \"R%RGGTE\"     \n",
       "[1145] \"SLR%NTE\"      \"SRGQ%NTE\"     \"S%STDT\"       \"S%GTDT\"      \n",
       "[1149] \"SEE%TE\"       \"SLGV%E\"       \"S%GQGTE\"      \"S%SDTGE\"     \n",
       "[1153] \"SFR%NTE\"      \"SLG%GTE\"      \"SLA%NTGE\"     \"SLG%GADE\"    \n",
       "[1157] \"SGR%SGNT\"     \"SVG%SNTE\"     \"SPRD%QET\"     \"SLQG%NTE\"    \n",
       "[1161] \"SV%MNTE\"      \"S%GQGADT\"     \"SL%GGTDT\"     \"RQG%TE\"      \n",
       "[1165] \"S%TQYE\"       \"S%DEGE\"       \"SLT%GE\"       \"SL%QKET\"     \n",
       "[1169] \"RGLAGN%\"      \"SFRD%NTE\"     \"SYSP%NTE\"     \"R%GTGSGNT\"   \n",
       "[1173] \"SLRAG%NTE\"    \"STTGG%YNE\"    \"SP%GGSNTGE\"   \"SL%AGSGANV\"  \n",
       "[1177] \"TQG%E\"        \"%RVNTE\"       \"S%GGGE\"       \"SL%GQP\"      \n",
       "[1181] \"SSRL%E\"       \"S%AAQET\"      \"S%AGPTDT\"     \"S%GGGNSP\"    \n",
       "[1185] \"S%GQRNTE\"     \"SL%GMNTE\"     \"S%GGSGANV\"    \"S%GET\"       \n",
       "[1189] \"S%GAYE\"       \"SVP%GGTE\"     \"SLGTAN%E\"     \"S%VGRVTDT\"   \n",
       "[1193] \"SSG%GETDT\"    \"SLRPP%I\"      \"%SGIWVYE\"     \"%TGIWVYE\"    \n",
       "[1197] \"SSRG%EDTE\"    \"STPGT%GDE\"    \"SK%GGIWVYE\"   \"SKA%GIWVYE\"  \n",
       "[1201] \"SSPPGPR%SYE\"  \"SFKRGFSG%NV\"  \"PDFRAQHGHS%\"  \"%PPRGGTFSNQP\"\n",
       "[1205] \"SLV%GE\"       \"DS%NTE\"       \"SLG%SE\"       \"S%GANTE\"     \n",
       "[1209] \"S%TGGNTE\"     \"SLGQGA%E\"     \"S%NRNTE\"      \"SP%PTGE\"     \n",
       "[1213] \"SP%GAGG\"      \"SFG%NQP\"      \"SPG%VNTE\"     \"SPGTSG%GE\"   \n",
       "[1217] \"SAS%E\"        \"S%GGSTDT\"     \"S%GRGSTE\"     \"S%GGSNQP\"    \n",
       "[1221] \"S%GTWNTE\"     \"SP%TGLYG\"     \"SPA%LNTE\"     \"SIG%PNTE\"    \n",
       "[1225] \"SL%DSSNQP\"    \"SS%SGGYNE\"    \"SPG%GRNTE\"    \"SP%SNE\"      \n",
       "[1229] \"S%SGGDE\"      \"SFG%SYE\"      \"SDS%TGE\"      \"SPGQ%YG\"     \n",
       "[1233] \"S%GQGLYE\"     \"S%TSGSYNE\"    \"G%MNTE\"       \"S%WGGTE\"     \n",
       "[1237] \"GV%GTDT\"      \"SL%GTYNE\"     \"SR%GANTE\"     \"GGQG%NQP\"    \n",
       "[1241] \"SLGT%NQP\"     \"SP%DRG\"       \"SLR%TE\"       \"%LGGNTE\"     \n",
       "[1245] \"SD%GNTE\"      \"SRA%NTE\"      \"S%DRGPYE\"     \"RGG%NTE\"     \n",
       "[1249] \"SRGG%YE\"      \"S%VGANTE\"     \"S%GEGGYE\"     \"SY%AGSYE\"    \n",
       "[1253] \"SI%GRGTE\"     \"SPPG%NSP\"     \"SPQGV%TE\"     \"SLSGV%YE\"    \n",
       "[1257] \"%DMNTE\"       \"SR%GNTE\"      \"SDS%NTE\"      \"SPG%GSYE\"    \n",
       "[1261] \"SI%SE\"        \"S%TQNTE\"      \"SL%PNTE\"      \"SL%RGTDT\"    \n",
       "[1265] \"SPG%GTYE\"     \"SIRS%GE\"      \"S%LGQVYG\"     \"SV%GTGEK\"    \n",
       "[1269] \"SEAGGPY%\"     \"%AGTGSGNT\"    \"SD%GALNTE\"    \"SDGT%GYNE\"   \n",
       "[1273] \"S%GQTLAKNI\"   \"SGGS%E\"       \"SQ%NYG\"       \"SYS%GYE\"     \n",
       "[1277] \"SL%GGSYE\"     \"SLAGG%DT\"     \"SL%LE\"        \"SLGS%E\"      \n",
       "[1281] \"%SDSNQP\"      \"S%TPSYE\"      \"G%LSYNE\"      \"SQD%SGE\"     \n",
       "[1285] \"SVEG%TE\"      \"SPGG%YE\"      \"SL%GLNTE\"     \"SLSG%YNE\"    \n",
       "[1289] \"SLEGG%YE\"     \"S%GGSE\"       \"SL%GGE\"       \"SL%NTGE\"     \n",
       "[1293] \"S%EVTE\"       \"%VGGGTE\"      \"SL%TGNG\"      \"RGTV%TE\"     \n",
       "[1297] \"SL%VMNTE\"     \"SL%GQGNT\"     \"SQ%GANTE\"     \"SLD%GSYG\"    \n",
       "[1301] \"SIQG%GTE\"     \"S%QGRNTGE\"    \"SL%RGMNTE\"    \"SPR%GGNTE\"   \n",
       "[1305] \"SPGG%LNTE\"    \"SLEGG%YNE\"    \"SFGGG%YNE\"    \"SLGQGG%TE\"   \n",
       "[1309] \"S%GQE\"        \"SE%SYE\"       \"SPG%SYE\"      \"SLGQG%E\"     \n",
       "[1313] \"S%GGSSYE\"     \"R%QET\"        \"S%LNYG\"       \"SL%PDT\"      \n",
       "[1317] \"S%AGNTE\"      \"SD%LNTE\"      \"RG%ENTE\"      \"SLS%GTE\"     \n",
       "[1321] \"RGGG%TE\"      \"SLGGN%E\"      \"S%GGAYNE\"     \"SL%PGGYE\"    \n",
       "[1325] \"SVG%YG\"       \"SLD%SYE\"      \"S%GRE\"        \"SEG%E\"       \n",
       "[1329] \"SL%SPE\"       \"SENT%E\"       \"SVSGN%\"       \"STGSY%\"      \n",
       "[1333] \"S%RGTGE\"      \"S%LGPGE\"      \"SL%SNYG\"      \"SI%GRTE\"     \n",
       "[1337] \"SPD%NQP\"      \"SYV%TGE\"      \"SLG%NSP\"      \"SLAG%YE\"     \n",
       "[1341] \"S%AGMNTE\"     \"SL%GLGTE\"     \"SLE%GNTE\"     \"SLG%GNTE\"    \n",
       "[1345] \"SPSG%DNE\"     \"RLTG%NQP\"     \"S%TGTANYG\"    \"S%PGTSSYE\"   \n",
       "[1349] \"SL%LAGVET\"    \"SLSG%NTGE\"    \"SV%AGGSTDT\"   \"RIWV\"        \n",
       "[1353] \"SFG%E\"        \"S%DSYG\"       \"S%QGDTE\"      \"SGR%NQP\"     \n",
       "[1357] \"SPV%VNTE\"     \"SSDRGN%P\"     \"SPG%GEGYE\"    \"SVGGA%NYG\"   \n",
       "[1361] \"SRGQGAS%E\"    \"SRVG%GSYNE\"   \"%TTGE\"        \"SY%GG\"       \n",
       "[1365] \"SH%NTE\"       \"SL%RGRG\"      \"SI%SGNT\"      \"RQGV%TE\"     \n",
       "[1369] \"SPTG%TE\"      \"S%GQGNSP\"     \"S%GANTGE\"     \"SDSG%TDT\"    \n",
       "[1373] \"SPGT%NSP\"     \"SEGG%NTE\"     \"S%GLAGGNE\"    \"SG%YNE\"      \n",
       "[1377] \"RD%GTE\"       \"SSG%YG\"       \"S%RENTE\"      \"SIA%YNE\"     \n",
       "[1381] \"SSG%NTE\"      \"SP%GDNSP\"     \"SL%AGNTE\"     \"SL%EGGYE\"    \n",
       "[1385] \"SLRG%DTE\"     \"SVQGA%GE\"     \"SYGTS%NE\"     \"SVGQGV%E\"    \n",
       "[1389] \"SY%GSGANV\"    \"SL%GDSNQP\"    \"SL%AGASTDT\"   \"SL%GGSSYNE\"  \n",
       "[1393] \"S%NYG\"        \"SV%STE\"       \"SST%NE\"       \"SIG%SE\"      \n",
       "[1397] \"SLS%NTE\"      \"SLRG%TE\"      \"SP%GGNTE\"     \"SRGR%NTE\"    \n",
       "[1401] \"SLQG%SYE\"     \"S%RGSGANV\"    \"S%SGGAYNE\"    \"S%QGSGANV\"   \n",
       "[1405] \"%GGNTE\"       \"%TGNTE\"       \"%RANTGE\"      \"SG%SGNT\"     \n",
       "[1409] \"S%RYE\"        \"SY%ET\"        \"%DSGTE\"       \"%PLGTE\"      \n",
       "[1413] \"SVRG%E\"       \"S%TRNTE\"      \"SQ%RYNE\"      \"SI%AGYE\"     \n",
       "[1417] \"SPD%GET\"      \"SYGQ%YG\"      \"SRDRG%E\"      \"S%GDLNTE\"    \n",
       "[1421] \"SL%GGGTE\"     \"SP%QGTYE\"     \"SL%GVGQP\"     \"SE%GLNTE\"    \n",
       "[1425] \"SI%QGNTE\"     \"SI%DSNQP\"     \"SLEG%NQP\"     \"SPDG%NTE\"    \n",
       "[1429] \"SSLGG%TE\"     \"S%GQGSYNE\"    \"S%RGGSYNE\"    \"S%RGASYNE\"   \n",
       "[1433] \"SF%GGSNQP\"    \"SV%GRGTDT\"    \"SLGG%GNTE\"    \"SLAGG%NQP\"   \n",
       "[1437] \"SY%DE\"        \"SRG%TE\"       \"SPR%TE\"       \"%YPGNTE\"     \n",
       "[1441] \"S%DRNYG\"      \"S%TGAYE\"      \"SP%NTGE\"      \"SP%GNTE\"     \n",
       "[1445] \"SVTGAD%\"      \"SQE%GRYG\"     \"SSGTL%EK\"     \"SLLAGGD%\"    \n",
       "[1449] \"S%LAGGYNE\"    \"SLWAG%QET\"    \"SSDRV%GNT\"    \"SE%ASGSTDT\"  \n",
       "[1453] \"SIESY%\"       \"%KTGLYE\"      \"S%QANTE\"      \"ST%GTGE\"     \n",
       "[1457] \"SSR%NTE\"      \"SPQ%NTE\"      \"RQG%NTE\"      \"SLQGA%G\"     \n",
       "[1461] \"SEMGAG%\"      \"%SGARNYG\"     \"%PRTRNTE\"     \"S%QGSYNE\"    \n",
       "[1465] \"SE%GGNTE\"     \"SRGD%DNE\"     \"SFGTG%YE\"     \"SREEGV%E\"    \n",
       "[1469] \"SLQGAKN%\"     \"RAD%TSGNT\"    \"SQN%RDTGE\"    \"SQLAVN%GE\"   \n",
       "[1473] \"S%SGTGERYG\"   \"SAPG%SGNNE\"   \"SE%NYG\"       \"S%SGTDT\"     \n",
       "[1477] \"SRQ%NTE\"      \"S%GQGGYE\"     \"SQ%NE\"        \"SLR%E\"       \n",
       "[1481] \"SEP%QP\"       \"SLRGN%\"       \"K%GPNYG\"      \"SL%SSNE\"     \n",
       "[1485] \"SG%STDT\"      \"SYS%GQP\"      \"SLGG%YE\"      \"SVTG%DE\"     \n",
       "[1489] \"%GTGGDYG\"     \"S%GDRNYG\"     \"S%STSYNE\"     \"SWG%MNTE\"    \n",
       "[1493] \"SPGTG%YE\"     \"SYGQGG%E\"     \"SP%TGLNTE\"    \"SPGG%MNTE\"   \n",
       "[1497] \"SLTG%NTGE\"    \"SLGR%SNQP\"    \"SLVGG%TDT\"    \"%LGLE\"       \n",
       "[1501] \"S%VGTE\"       \"SDRG%E\"       \"S%QGSTE\"      \"SLA%QET\"     \n",
       "[1505] \"S%GRGNTE\"     \"SLG%GPYE\"     \"SLGQG%YG\"     \"S%LAGGTDT\"   \n",
       "[1509] \"SPLAG%YNE\"    \"SIG%E\"        \"STG%TE\"       \"SRQG%TE\"     \n",
       "[1513] \"SRTG%TE\"      \"SYP%E\"        \"SL%GAE\"       \"SI%NTE\"      \n",
       "[1517] \"SET%NTE\"      \"SPGG%DE\"      \"SQDPG%E\"      \"S%GTGGYE\"    \n",
       "[1521] \"SA%GSSYE\"     \"SGGG%NTE\"     \"SLGLA%GE\"     \"SLGGQG%E\"    \n",
       "[1525] \"%VSGNT\"       \"%LQGGE\"       \"S%LGDE\"       \"KG%NTE\"      \n",
       "[1529] \"SP%YNE\"       \"RQG%NT\"       \"SPDR%T\"       \"%RGGTGE\"     \n",
       "[1533] \"S%GTYNE\"      \"SLGQG%G\"      \"SYSGGD%\"      \"%LVGSGNT\"    \n",
       "[1537] \"S%DGKNTE\"     \"S%GRSNTE\"     \"SLL%GNTE\"     \"SRQ%SYNE\"    \n",
       "[1541] \"SPT%GGTE\"     \"SPR%VNTE\"     \"SEA%GPYE\"     \"SFGT%YNE\"    \n",
       "[1545] \"SLGT%NYG\"     \"SLQGG%TE\"     \"S%TASSYNE\"    \"SPG%GMNTE\"   \n",
       "[1549] \"SLD%GRDTE\"    \"SDS%GGTDT\"    \"SLEG%SNQP\"    \"S%GLAGGLET\"  \n",
       "[1553] \"SG%MNTE\"      \"S%GGAE\"       \"SL%SYE\"       \"SQ%GTE\"      \n",
       "[1557] \"SIGG%G\"       \"%DGLNTE\"      \"%GGGNTE\"      \"S%TGDTE\"     \n",
       "[1561] \"S%GSYNE\"      \"SI%GGTE\"      \"SVS%NTE\"      \"SEG%AYE\"     \n",
       "[1565] \"SPPG%TE\"      \"S%DRSNQP\"     \"S%GLMNTE\"     \"S%GTENTE\"    \n",
       "[1569] \"%STSYE\"       \"S%RDGE\"       \"SE%GNT\"       \"SF%GYE\"      \n",
       "[1573] \"SYP%TE\"       \"SLA%YE\"       \"%DRLNTE\"      \"%DRGSYE\"     \n",
       "[1577] \"SPV%NTE\"      \"SMGL%YE\"      \"S%AGGTDT\"     \"SQ%GVNTE\"    \n",
       "[1581] \"SP%GPNYG\"     \"SLA%GNTE\"     \"SLQGA%TE\"     \"S%DRGMNTE\"   \n",
       "[1585] \"S%SGTGNTE\"    \"S%GQGANSP\"    \"SQ%GSSYNE\"    \"SLQG%SNQP\"   \n",
       "[1589] \"SLSG%STDT\"    \"SLTSGG%YNE\"   \"SRE%TE\"       \"R%AMNTE\"     \n",
       "[1593] \"SQD%GYE\"      \"SPQGG%E\"      \"SE%GGTGE\"     \"SE%GSTDT\"    \n",
       "[1597] \"SEG%STDT\"     \"S%DSSYE\"      \"S%TNTE\"       \"S%GTTE\"      \n",
       "[1601] \"S%AGTE\"       \"SL%GVE\"       \"SDLG%E\"       \"S%GTGGTE\"    \n",
       "[1605] \"S%GQGNQP\"     \"SS%GE\"        \"R%AGGTE\"      \"Q%AGTGE\"     \n",
       "[1609] \"SG%GANV\"      \"SWG%SYE\"      \"SNR%AYE\"      \"RGRG%TE\"     \n",
       "[1613] \"SLGV%YE\"      \"SFGG%YE\"      \"SAQGT%E\"      \"S%DSSGNT\"    \n",
       "[1617] \"S%TDSNQP\"     \"S%GDSGNT\"     \"SL%GQGYE\"     \"GT%GTNEK\"    \n",
       "[1621] \"SL%SSYNE\"     \"SPGPL%TE\"     \"SLS%GRTGE\"    \"SLDS%GYNE\"   \n",
       "[1625] \"SYSSG%NSP\"    \"SEQGA%NEK\"    \"SPRTSG%SSYNE\" \"SYGE%\"       \n",
       "[1629] \"S%QGYG\"       \"SSG%YE\"       \"SF%GNYG\"      \"SYGG%TE\"     \n",
       "[1633] \"SYGQ%YE\"      \"S%TAMNTE\"     \"S%GNMNTE\"     \"SL%TVNTE\"    \n",
       "[1637] \"SL%LNTGE\"     \"SFGG%NTE\"     \"SL%GGPYNE\"    \"SPGTG%NTE\"   \n",
       "[1641] \"S%RET\"        \"%TSGYE\"       \"%RTANTE\"      \"S%GQGYG\"     \n",
       "[1645] \"SR%LNTE\"      \"SAG%TGE\"      \"S%SGGTDT\"     \"SG%GMNTE\"    \n",
       "[1649] \"SGTG%SYE\"     \"S%LAGSYNE\"    \"SP%GE\"        \"S%GTNYG\"     \n",
       "[1653] \"SQD%GHE\"      \"SLS%GQP\"      \"SL%SSNQP\"     \"SQ%GMNTE\"    \n",
       "[1657] \"SYG%SGNT\"     \"SLGL%NTE\"     \"SPRQ%NTE\"     \"S%LGSGANV\"   \n",
       "[1661] \"S%GRTSTDT\"    \"SL%GGSGNT\"    \"SY%SYE\"       \"S%VGGTE\"     \n",
       "[1665] \"SF%GGTE\"      \"GLA%YNE\"      \"%TGNSNQP\"     \"SE%GGTDT\"    \n",
       "[1669] \"SSGQG%TE\"     \"S%AGGSYNE\"    \"S%GATE\"       \"L%GNTE\"      \n",
       "[1673] \"S%TSTDT\"      \"PQ%PE\"        \"SP%RGE\"       \"SGG%GE\"      \n",
       "[1677] \"TGGST%\"       \"%QQGALG\"      \"SI%SEYE\"      \"SLFSV%T\"     \n",
       "[1681] \"STGT%RQP\"     \"SRLSP%GE\"     \"SYDSG%GE\"     \"S%NPRDTGE\"   \n",
       "[1685] \"SVGGVS%NE\"    \"RPRTGMNT%\"    \"SPNR%T\"       \"S%LQNSP\"     \n",
       "[1689] \"SGTGAY%\"      \"%LGQTNTE\"     \"S%GGRSGE\"     \"SY%QRNTE\"    \n",
       "[1693] \"SV%QGGNT\"     \"SLSE%NTE\"     \"SQSG%GNT\"     \"SPSG%DQP\"    \n",
       "[1697] \"SATGG%DE\"     \"SPSGRV%E\"     \"SLGTGGN%\"     \"SLV%GDSYE\"   \n",
       "[1701] \"SDS%GAYNE\"    \"SLT%GGAGE\"    \"SES%SGSTDT\"   \"SI%TGE\"      \n",
       "[1705] \"%GQGRTE\"      \"S%FSGNT\"      \"SPG%GNQP\"     \"SLGG%TDT\"    \n",
       "[1709] \"SLGLAG%NE\"    \"S%SRE\"        \"RGG%YE\"       \"SYRT%E\"      \n",
       "[1713] \"SPGGN%\"       \"SY%VNTE\"      \"SY%STGE\"      \"SFGS%YE\"     \n",
       "[1717] \"SSQGR%E\"      \"%RQGSNQP\"     \"S%GQKNTE\"     \"S%QGGGTE\"    \n",
       "[1721] \"SF%GSTDT\"     \"SLR%SNQP\"     \"SLVG%PYE\"     \"SSGR%NTE\"    \n",
       "[1725] \"SLGDR%YE\"     \"SL%GASTDT\"    \"SLGG%SSYE\"    \"SSTSG%YNE\"   \n",
       "[1729] \"SL%GET\"       \"SLSG%E\"       \"SPDRG%E\"      \"S%GDT\"       \n",
       "[1733] \"SGG%YE\"       \"SRGQG%TE\"     \"S%GTGGTDT\"    \"S%AYE\"       \n",
       "[1737] \"SL%RGE\"       \"R%TGE\"        \"LL%TE\"        \"%LVNTE\"      \n",
       "[1741] \"SAGN%E\"       \"SPP%GNT\"      \"SEG%RYE\"      \"SQEG%TE\"     \n",
       "[1745] \"S%QGRNTE\"     \"S%RGANEK\"     \"SL%QGATE\"     \"SF%GSGNT\"    \n",
       "[1749] \"SL%RGGTE\"     \"SLG%ANTE\"     \"SLGGG%DT\"     \"SPGQGA%E\"    \n",
       "[1753] \"SEAGGP%E\"     \"SPRTG%NTE\"    \"SPGLAG%SYE\"   \"RTA%E\"       \n",
       "[1757] \"SLGN%\"        \"S%SYNE\"       \"SP%RGG\"       \"GRD%YE\"      \n",
       "[1761] \"S%QGQET\"      \"SYS%GNE\"      \"SLGG%YG\"      \"SLGTSG%YE\"   \n",
       "[1765] \"%VTENTE\"      \"S%GTAYE\"      \"SYWGG%E\"      \"SP%QGFTE\"    \n",
       "[1769] \"SI%GQSNQP\"    \"SLG%VDTGE\"    \"SRDRE%YNE\"    \"SPTSGGS%E\"   \n",
       "[1773] \"S%RVYE\"       \"S%PGNTE\"      \"R%RENTE\"      \"SL%LNTE\"     \n",
       "[1777] \"SAGG%TE\"      \"SLG%SSYE\"     \"SVGG%NTE\"     \"S%GLAGGTDT\"  \n",
       "[1781] \"S%GRTE\"       \"SF%TGE\"       \"SDS%YE\"       \"SVG%NE\"      \n",
       "[1785] \"G%SSYNE\"      \"SG%NYG\"       \"SY%LNTE\"      \"SP%LQET\"     \n",
       "[1789] \"SYSG%DE\"      \"SFRGP%E\"      \"S%TGSNSP\"     \"SL%GGRET\"    \n",
       "[1793] \"SL%GPNTE\"     \"SL%TGGTE\"     \"TRG%MNTE\"     \"SLDR%NTE\"    \n",
       "[1797] \"SLAG%GTE\"     \"STGQ%NTE\"     \"SLTGG%YG\"     \"SL%GYSNQP\"   \n",
       "[1801] \"SLSG%SYNE\"    \"SLAGG%GNE\"    \"STG%E\"        \"S%GQGYE\"     \n",
       "[1805] \"SL%HE\"        \"S%PGTE\"       \"SPLG%E\"       \"S%GRNTE\"     \n",
       "[1809] \"S%PGE\"        \"S%QNYG\"       \"R%TANTE\"      \"SLG%YNE\"     \n",
       "[1813] \"SPGL%NE\"      \"%PGQGTYE\"     \"SL%GSGNT\"     \"SLG%SGNT\"    \n",
       "[1817] \"SRQG%NTE\"     \"S%TDT\"        \"SD%YE\"        \"S%GSTE\"      \n",
       "[1821] \"S%TGYG\"       \"SP%SGE\"       \"SYS%VE\"       \"S%GSRYE\"     \n",
       "[1825] \"SL%GSYG\"      \"SIR%NTE\"      \"SPG%GYE\"      \"S%SGSSYE\"    \n",
       "[1829] \"SL%GVNTE\"     \"SLRG%SYE\"     \"SLAG%NTE\"     \"SSGLA%GE\"    \n",
       "[1833] \"S%SGGNTGE\"    \"SLG%SGANV\"    \"SLGQG%YNE\"    \"%VLGTE\"      \n",
       "[1837] \"SP%GEK\"       \"SWG%YE\"       \"SDRVY%\"       \"S%GTVYE\"     \n",
       "[1841] \"S%RSSTE\"      \"SPGGT%T\"      \"%VLAGGGE\"     \"T%GGTNYG\"    \n",
       "[1845] \"SM%GSGNT\"     \"SS%DGNYG\"     \"SQG%VGTE\"     \"SIGGG%DT\"    \n",
       "[1849] \"SMGQG%SP\"     \"SLGQGT%G\"     \"S%WGANTGE\"    \"SL%DRRNTE\"   \n",
       "[1853] \"RRDS%SNQP\"    \"SLDPG%YNE\"    \"SLGGS%NTE\"    \"SLLQG%NTE\"   \n",
       "[1857] \"SI%GGE\"       \"SVGG%GE\"      \"SLG%GE\"       \"%RTNTE\"      \n",
       "[1861] \"SVGT%YE\"      \"S%GTGDYE\"     \"S%RGSGNT\"     \"SL%LAGGE\"    \n",
       "[1865] \"SD%GTE\"       \"SF%GET\"       \"SDPG%E\"       \"SY%GTYE\"     \n",
       "[1869] \"SLS%NQP\"      \"SAGT%TE\"      \"SVGGT%E\"      \"S%TGGRYE\"    \n",
       "[1873] \"SP%DSNQP\"     \"SLG%VNTE\"     \"SPGGG%TE\"     \"%PSDEK\"      \n",
       "[1877] \"T%TLGEK\"      \"SLVGR%K\"      \"ST%TGRQP\"     \"STG%GRQP\"    \n",
       "[1881] \"RGQGGD%P\"     \"SLVALG%E\"     \"SLTGVR%T\"     \"SF%TGQGNEK\"  \n",
       "[1885] \"SRD%E\"        \"RLAG%NE\"      \"%DGSYE\"       \"%GSTDT\"      \n",
       "[1889] \"%QGTAE\"       \"%QANEK\"       \"ST%SYG\"       \"SLL%DT\"      \n",
       "[1893] \"SQE%TE\"       \"SYPG%E\"       \"SDGPY%\"       \"SVRGN%\"      \n",
       "[1897] \"S%APNTE\"      \"RRG%NTE\"      \"SDS%NSP\"      \"SMG%NQP\"     \n",
       "[1901] \"SRGS%YE\"      \"SPNR%TE\"      \"SQES%YG\"      \"SRDSN%P\"     \n",
       "[1905] \"SYGRA%E\"      \"S%PGLNTE\"     \"S%RDRNQP\"     \"S%DGANTE\"    \n",
       "[1909] \"T%GQGNTE\"     \"S%FGGNTE\"     \"SA%GAGTE\"     \"SY%DSGNT\"    \n",
       "[1913] \"SP%QGDYE\"     \"SPG%GFYG\"     \"GQG%TNEK\"     \"STG%SGNT\"    \n",
       "[1917] \"SQA%LNTE\"     \"SSGS%NTE\"     \"SLEG%RET\"     \"SSDG%NTE\"    \n",
       "[1921] \"SPGQ%TYE\"     \"SLEG%SYE\"     \"SLGV%GNE\"     \"SETGE%TE\"    \n",
       "[1925] \"S%GGGATGE\"    \"S%GTSGTDT\"    \"SS%GRSTDT\"    \"SRDR%ANYG\"   \n",
       "[1929] \"SLVSG%NTE\"    \"SSPDRG%YG\"    \"SLRLAG%NE\"    \"SPGTGG%NQP\"  \n",
       "[1933] \"S%YE\"         \"RV%GE\"        \"SP%YE\"        \"SY%GGE\"      \n",
       "[1937] \"SLG%DT\"       \"RD%NTGE\"      \"SPGL%GE\"      \"SGTSG%YNE\"   \n",
       "[1941] \"SV%YG\"        \"%RGRYE\"       \"SF%NQP\"       \"SL%QET\"      \n",
       "[1945] \"SLD%DT\"       \"SST%YE\"       \"SVGG%E\"       \"%AGNTGE\"     \n",
       "[1949] \"S%SLTGE\"      \"S%DVNTE\"      \"S%SGNTE\"      \"SL%SYNE\"     \n",
       "[1953] \"SI%GTDT\"      \"SY%MNTE\"      \"SQ%GTGE\"      \"SA%GNTE\"     \n",
       "[1957] \"SS%GNTE\"      \"SRE%NTE\"      \"SLR%NQP\"      \"SYSS%YE\"     \n",
       "[1961] \"SGQGT%E\"      \"S%GQGATE\"     \"SL%GRSYE\"     \"SP%TNTGE\"    \n",
       "[1965] \"SPGT%NYG\"     \"SLG%GGSYE\"    \"%LNTE\"        \"R%GAGE\"      \n",
       "[1969] \"S%QGGE\"       \"LT%GTE\"       \"ATGA%E\"       \"SIGGN%\"      \n",
       "[1973] \"%GRMNTE\"      \"S%LNTGE\"      \"S%RGPYE\"      \"SL%GTYE\"     \n",
       "[1977] \"GDR%NTE\"      \"SESV%NE\"      \"SYGGN%E\"      \"S%GGNPYE\"    \n",
       "[1981] \"G%PSGANV\"     \"S%GTSGNT\"     \"S%VGQGNE\"     \"SP%GQVYG\"    \n",
       "[1985] \"SP%GGDNE\"     \"SRT%RNTE\"     \"SYPG%TDT\"     \"SPSG%SYE\"    \n",
       "[1989] \"SSGG%YNE\"     \"SAGP%NSP\"     \"KTGG%NTE\"     \"SWGP%NTE\"    \n",
       "[1993] \"S%DSGSYNE\"    \"SL%QGPGNT\"    \"SL%SSGTDT\"    \"SLT%SNTGE\"   \n",
       "[1997] \"SYGTG%NEK\"    \"SLEG%SSYNE\"   \"G%GGNT\"       \"SF%QET\"      \n",
       "[2001] \"SL%EET\"       \"SQG%GE\"       \"S%GGVTE\"      \"S%AGNQP\"     \n",
       "[2005] \"S%GGRTE\"      \"SL%SGNT\"      \"SY%SNQP\"      \"SLG%NQP\"     \n",
       "[2009] \"SKTG%YE\"      \"SQDR%YG\"      \"SVGR%TE\"      \"S%GGANEK\"    \n",
       "[2013] \"S%DRMNTE\"     \"SP%GVNTE\"     \"SSG%GNTE\"     \"SPAG%SYE\"    \n",
       "[2017] \"SSGG%NTE\"     \"SLGR%NTE\"     \"SLGRG%YE\"     \"SPGQGT%E\"    \n",
       "[2021] \"S%GQGGTGE\"    \"S%QGANTGE\"    \"S%TSGDYNE\"    \"SQ%GE\"       \n",
       "[2025] \"RT%SYE\"       \"AE%DE\"        \"%VGSYE\"       \"S%GVYG\"      \n",
       "[2029] \"S%GVGE\"       \"N%AYNE\"       \"SY%TTE\"       \"SE%TGE\"      \n",
       "[2033] \"GQ%NYG\"       \"GQGPE%\"       \"SAGSY%\"       \"GGGNY%\"      \n",
       "[2037] \"SRGNY%\"       \"%DRENTE\"      \"S%GTGYE\"      \"S%SLNTE\"     \n",
       "[2041] \"R%GVNTE\"      \"E%GMNTE\"      \"S%TGYNE\"      \"S%DTNTE\"     \n",
       "[2045] \"S%TGPYE\"      \"SP%ANEK\"      \"SV%SGYE\"      \"AT%GTGE\"     \n",
       "[2049] \"SA%ANYG\"      \"SLG%DYG\"      \"SLS%YNE\"      \"SSR%NYE\"     \n",
       "[2053] \"SLRG%YE\"      \"SYSQ%TE\"      \"SQQG%TE\"      \"RTGGS%E\"     \n",
       "[2057] \"SAGGN%E\"      \"SVRGP%E\"      \"SFARG%E\"      \"SPWGN%P\"     \n",
       "[2061] \"REAGAG%\"      \"SQDRRY%\"      \"%TGGSGNT\"     \"%PDTSNQP\"    \n",
       "[2065] \"S%DSTGNT\"     \"S%DRGGET\"     \"S%GTMNTE\"     \"S%AFSNQP\"    \n",
       "[2069] \"S%GQGTDT\"     \"SL%GSSYE\"     \"SI%GGQDE\"     \"SA%GNQET\"    \n",
       "[2073] \"SPG%PNTE\"     \"SLG%GTYG\"     \"SVG%GGYE\"     \"SRE%MNTE\"    \n",
       "[2077] \"SDR%GNSP\"     \"SRE%GSTE\"     \"SLG%SYNE\"     \"SPS%ASDT\"    \n",
       "[2081] \"SIRG%NEK\"     \"RWTG%TGE\"     \"SVGQGN%E\"     \"SLGVSG%E\"    \n",
       "[2085] \"SSTGGR%E\"     \"S%PGQGNTE\"    \"S%GLAGVNE\"    \"SS%GGGNTE\"   \n",
       "[2089] \"SL%GGGTDT\"    \"SP%RTGNTE\"    \"SLG%DSTDT\"    \"RTGG%SGNT\"   \n",
       "[2093] \"SPAT%LNTE\"    \"SSSTG%NTE\"    \"SRPGT%NTE\"    \"SLVRG%NTE\"   \n",
       "[2097] \"SSTGG%NTE\"    \"STDRV%YNE\"    \"SEVGG%NQP\"    \"SLDSG%YNE\"   \n",
       "[2101] \"SLGGGG%TE\"    \"SLGSGG%YG\"    \"SLGSGGAY%\"    \"S%GQGALNTE\"  \n",
       "[2105] \"S%DSYE\"       \"S%WGTE\"       \"SV%GDT\"       \"SVGS%E\"      \n",
       "[2109] \"S%GSGNT\"      \"S%QVNTE\"      \"SE%GNTE\"      \"SR%GGYE\"     \n",
       "[2113] \"SVG%YNE\"      \"SLSGG%E\"      \"SQG%SGNT\"     \"SLGLAG%YE\"   \n",
       "[2117] \"SF%GE\"        \"S%TSYE\"       \"SP%GDG\"       \"%LTGNTE\"     \n",
       "[2121] \"S%SGTGE\"      \"S%PMNTE\"      \"SYG%AGE\"      \"GGA%TGE\"     \n",
       "[2125] \"SVL%NTE\"      \"SVLG%GE\"      \"SPGQ%TE\"      \"SFLAG%E\"     \n",
       "[2129] \"SPGTG%E\"      \"SRD%GNTE\"     \"SPGT%NQP\"     \"SAGT%NTE\"    \n",
       "[2133] \"SLGQG%SP\"     \"SV%GYE\"       \"SLGG%GE\"      \"SGGG%DT\"     \n",
       "[2137] \"S%GGPYNE\"     \"%IQGYE\"       \"SG%AYG\"       \"GS%NSP\"      \n",
       "[2141] \"SPT%NE\"       \"SLTA%E\"       \"SLDSP%\"       \"%PDGTYE\"     \n",
       "[2145] \"%SGMNTE\"      \"S%GNSYE\"      \"S%TSNTE\"      \"G%EGNTE\"     \n",
       "[2149] \"S%RDTGE\"      \"S%LFQET\"      \"RR%MNTE\"      \"SP%PNTE\"     \n",
       "[2153] \"SFQ%NYG\"      \"SSQ%NTE\"      \"SIG%GRE\"      \"SPSR%TE\"     \n",
       "[2157] \"SRGM%TE\"      \"SQVRG%E\"      \"S%GQTNTE\"     \"S%SGVGYE\"    \n",
       "[2161] \"S%GDGNYG\"     \"SL%EGNTE\"     \"SL%RGSYE\"     \"SL%GNTGE\"    \n",
       "[2165] \"SL%ANTGE\"     \"SFG%VNTE\"     \"SLS%GDYG\"     \"SLG%AGGE\"    \n",
       "[2169] \"SYSP%SYE\"     \"SPGT%TDT\"     \"SFGT%NYG\"     \"SPGD%NTE\"    \n",
       "[2173] \"SWGT%NTE\"     \"SLAGG%TE\"     \"SPRTG%TE\"     \"SLRGV%TE\"    \n",
       "[2177] \"SLGTGG%T\"     \"SRGQGN%E\"     \"S%DLSGANV\"    \"S%TSGTYNE\"   \n",
       "[2181] \"S%GSSYNSP\"    \"SP%RDSNQP\"    \"SYS%GMNTE\"    \"SLRG%GANV\"   \n",
       "[2185] \"SLEG%STDT\"    \"SLDG%SGNT\"    \"SLGGG%NTE\"    \"S%TGGATNEK\"  \n",
       "[2189] \"SLS%GSSYNE\"   \"SLA%E\"        \"%GTSTDT\"      \"S%RNYG\"      \n",
       "[2193] \"SP%NYG\"       \"SAGT%E\"       \"SP%SSYE\"      \"SLG%TYE\"     \n",
       "[2197] \"SRD%GYE\"      \"SPR%GGE\"      \"SRGG%TE\"      \"S%TGGSYE\"    \n",
       "[2201] \"S%DRGNQP\"     \"SLGG%SYE\"     \"SF%AYE\"       \"SYGS%E\"      \n",
       "[2205] \"RTGGN%\"       \"R%SGANV\"      \"S%GGEGE\"      \"SL%DSYE\"     \n",
       "[2209] \"SVD%NQP\"      \"SWT%NTE\"      \"SEQG%QP\"      \"SVAG%TE\"     \n",
       "[2213] \"SLAR%NE\"      \"SRRG%TE\"      \"SPQGA%G\"      \"S%GGTGNT\"    \n",
       "[2217] \"S%GSMNTE\"     \"SF%GGSYE\"     \"SL%GAGNT\"     \"SL%GGSTDT\"   \n",
       "[2221] \"SLD%E\"        \"S%SGDT\"       \"SL%GFE\"       \"SPQG%E\"      \n",
       "[2225] \"S%GENTE\"      \"T%TGNTE\"      \"RG%YNSP\"      \"S%GNSNQP\"    \n",
       "[2229] \"S%STE\"        \"SLN%E\"        \"ST%VNE\"       \"SYQ%TE\"      \n",
       "[2233] \"SIQ%GE\"       \"SERGN%\"       \"SDRDY%\"       \"%GQGSYE\"     \n",
       "[2237] \"%PGQGAG\"      \"ST%GSQP\"      \"RL%GVNE\"      \"SL%TVYG\"     \n",
       "[2241] \"SHT%NTE\"      \"SAV%TGE\"      \"SDSL%TE\"      \"SSDG%TE\"     \n",
       "[2245] \"S%TGIYNE\"     \"SF%TGAYE\"     \"SP%PGNTE\"     \"SS%RMNTE\"    \n",
       "[2249] \"SL%DGNTE\"     \"SLTT%NTE\"     \"SNRG%NTE\"     \"SLQGR%TE\"    \n",
       "[2253] \"SLYRG%YE\"     \"SLGTV%YG\"     \"SPGTT%YE\"     \"SLGQGG%P\"    \n",
       "[2257] \"SPTGGR%E\"     \"SP%TGVNTE\"    \"SP%TGMNTE\"    \"SP%GTGNTE\"   \n",
       "[2261] \"SP%QGRNTE\"    \"SP%QGSGNT\"    \"SLKG%SNQP\"    \"SLRG%GSYE\"   \n",
       "[2265] \"SQTGG%YNE\"    \"SGRGG%NTE\"    \"S%GGPSGANV\"   \"S%TSGGPYNE\"  \n",
       "[2269] \"SPGTG%NTGE\"   \"S%KET\"        \"%YRSNE\"       \"%RRTGE\"      \n",
       "[2273] \"K%QGEK\"       \"SEG%TE\"       \"%QGVNTE\"      \"%LEANTE\"     \n",
       "[2277] \"S%SGGTE\"      \"S%GGANV\"      \"S%TGYTE\"      \"SS%VNTE\"     \n",
       "[2281] \"SE%GLGE\"      \"SDP%SYE\"      \"SYS%GDE\"      \"SLGQ%YG\"     \n",
       "[2285] \"SITL%TE\"      \"SKQG%TE\"      \"RGLR%GE\"      \"SYQD%YE\"     \n",
       "[2289] \"SLTGL%E\"      \"SVIGT%E\"      \"SGTENS%\"      \"S%AGGNTE\"    \n",
       "[2293] \"S%GTVIYG\"     \"SI%QMNTE\"     \"SL%LLNQP\"     \"SV%GSYNE\"    \n",
       "[2297] \"SLTG%NTE\"     \"SLGG%YNE\"     \"SLLQ%AYE\"     \"SPRT%YTE\"    \n",
       "[2301] \"SEGQG%TE\"     \"SFLGS%NE\"     \"SVGGSP%E\"     \"SGQGRG%E\"    \n",
       "[2305] \"SPRQGRE%\"     \"SRGQGTY%\"     \"%NGLAGTDT\"    \"R%DRTSGNT\"   \n",
       "[2309] \"S%SGGGTDT\"    \"S%DPGGGNT\"    \"STPG%GNEK\"    \"SPLAG%TDT\"   \n",
       "[2313] \"SLGTSG%NE\"    \"QHGH\"         \"%LGTE\"        \"SL%YG\"       \n",
       "[2317] \"SLT%E\"        \"SLV%E\"        \"%RGNYG\"       \"SGG%NE\"      \n",
       "[2321] \"%GTLNTE\"      \"S%DRGYG\"      \"S%GTGTE\"      \"SQG%TGE\"     \n",
       "[2325] \"S%RSTE\"       \"S%PRGG\"       \"SLV%DT\"       \"SGA%TE\"      \n",
       "[2329] \"E%GLNTE\"      \"SV%GTYE\"      \"SVA%NTE\"      \"SAQG%TE\"     \n",
       "[2333] \"SPTGV%E\"      \"S%TGGGQP\"     \"SR%GGYNE\"     \"SV%GLNTE\"    \n",
       "[2337] \"SLGG%NQP\"     \"S%GGGSYNE\"    \"SLAG%NTGE\"    \"SLQGY%\"      \n",
       "[2341] \"S%SDNSP\"      \"S%MGTDT\"      \"RD%GREK\"      \"SQG%EDT\"     \n",
       "[2345] \"SYL%TGE\"      \"SIS%TDT\"      \"SVD%TYE\"      \"SLGI%YG\"     \n",
       "[2349] \"SYSG%QP\"      \"SWDRD%E\"      \"SPGQGT%\"      \"S%GTEYNE\"    \n",
       "[2353] \"SP%GGDQP\"     \"SP%PMNTE\"     \"SL%LGNTE\"     \"SIG%SSYE\"    \n",
       "[2357] \"SLDG%YNE\"     \"SLGD%NYG\"     \"SEGQ%YNE\"     \"SLGTG%LE\"    \n",
       "[2361] \"SP%RANTGE\"    \"ST%GATNEK\"    \"SL%RDSNQP\"    \"SLG%GVNTE\"   \n",
       "[2365] \"SDG%GGTDT\"    \"SYSGQG%GE\"    \"SLGG%SSYNE\"   \"G%DTGE\"      \n",
       "[2369] \"SVG%GE\"       \"SAG%YG\"       \"S%TNTGE\"      \"S%GQTYE\"     \n",
       "[2373] \"SLAGV%E\"      \"S%GGSSYNE\"    \"S%LGEK\"       \"SL%NSP\"      \n",
       "[2377] \"SF%TDT\"       \"S%GGAYE\"      \"S%RGYTE\"      \"S%NSYNE\"     \n",
       "[2381] \"SY%GGYE\"      \"SL%GSYNE\"     \"SVAG%SYE\"     \"N%GGE\"       \n",
       "[2385] \"RT%GNT\"       \"SVG%TE\"       \"S%SNTGE\"      \"SS%SNQP\"     \n",
       "[2389] \"S%TGGNQP\"     \"S%GGGTDT\"     \"SRDRG%NE\"     \"SRDR%YE\"     \n",
       "[2393] \"S%ITDT\"       \"S%DNYG\"       \"S%NYNE\"       \"RDR%TE\"      \n",
       "[2397] \"SYS%TE\"       \"SYR%QP\"       \"SLAGY%\"       \"%VGGDTE\"     \n",
       "[2401] \"%LGENTE\"      \"S%EVNTE\"      \"SL%GDYG\"      \"SY%DTGE\"     \n",
       "[2405] \"SR%PDTE\"      \"SP%GDTE\"      \"SL%VDNE\"      \"SLD%GYE\"     \n",
       "[2409] \"SQG%AYE\"      \"SWG%NQP\"      \"SLVG%TE\"      \"SPLG%YE\"     \n",
       "[2413] \"SLEG%TE\"      \"STTGS%E\"      \"S%LGGNTE\"     \"SL%GSNQP\"    \n",
       "[2417] \"SF%DSNQP\"     \"SF%GQNTE\"     \"SLR%GGNE\"     \"SYS%GNTE\"    \n",
       "[2421] \"SSGV%SYE\"     \"SKGG%QET\"     \"SLRT%NTE\"     \"SLTG%DTE\"    \n",
       "[2425] \"SDSGG%DT\"     \"SLDRG%YE\"     \"SLGQGG%E\"     \"S%SGGSTDT\"   \n",
       "[2429] \"S%VGGSNQP\"    \"SL%AGGNTE\"    \"SL%TGSYNE\"    \"SPSGS%YNE\"   \n",
       "[2433] \"SSQG%E\"       \"R%TNTE\"       \"T%GMNTE\"      \"SYD%E\"       \n",
       "[2437] \"%VLGSE\"       \"SPTG%E\"       \"SLRG%E\"       \"SPNGN%\"      \n",
       "[2441] \"%SSGANV\"      \"%GVDSYE\"      \"SL%TGDE\"      \"SL%GDQP\"     \n",
       "[2445] \"NEG%TGE\"      \"SPLG%GE\"      \"SVQGA%E\"      \"SSRGW%E\"     \n",
       "[2449] \"SYSRGY%\"      \"S%QSSYNE\"     \"S%SGTSYE\"     \"SY%GPDNE\"    \n",
       "[2453] \"STGD%NTE\"     \"SRQG%NQP\"     \"SPGG%TDT\"     \"SLPPG%TE\"    \n",
       "[2457] \"SREGGS%E\"     \"SLGQGGT%\"     \"%SGLAGAGE\"    \"S%GQGAYNE\"   \n",
       "[2461] \"SE%RTSGNE\"    \"SLG%AGINE\"    \"SLEGSG%TE\"    \"SSGLAG%NE\"   \n",
       "[2465] \"SLDLGT%NE\"    \"SLEQGA%NE\"    \"SYSGTGN%E\"    \"SDS%SGGADT\"  \n",
       "[2469] \"SLE%GVSGNT\"   \"SPSGT%SGANV\"  \"RD%MNTE\"      \"S%SSYNSP\"    \n",
       "[2473] \"%LADYE\"       \"SS%GYE\"       \"EQGA%G\"       \"SVD%AYE\"     \n",
       "[2477] \"SFG%KET\"      \"VRDRG%E\"      \"S%WTGGTE\"     \"SL%DGNYG\"    \n",
       "[2481] \"SE%QGNSP\"     \"SY%QGGTE\"     \"SL%TANTE\"     \"SS%LAGGE\"    \n",
       "[2485] \"SF%ATNEK\"     \"SE%RLNTE\"     \"SY%TGSYE\"     \"SEG%GNSP\"    \n",
       "[2489] \"SPR%GNYG\"     \"SIG%GTDT\"     \"SSQ%SYNE\"     \"SLG%SGNE\"    \n",
       "[2493] \"SPRD%NQP\"     \"SYSG%NTE\"     \"SYSG%GTE\"     \"SFGT%NTE\"    \n",
       "[2497] \"SL%ESSYNE\"    \"SL%GSSSYE\"    \"SLD%SSGNT\"    \"SLV%SGANV\"   \n",
       "[2501] \"SLV%GSYNE\"    \"SLG%GSYNE\"    \"SLDR%SNQP\"    \"SLGG%MNTE\"   \n",
       "[2505] \"SPGTG%GYE\"    \"SL%GGSGANV\"   \"%LGSE\"        \"%DPNTE\"      \n",
       "[2509] \"SYSS%E\"       \"S%GRDNE\"      \"SGT%AYE\"      \"SPT%TGE\"     \n",
       "[2513] \"SLR%SYE\"      \"SPG%LYE\"      \"S%GISGNT\"     \"S%GGGGTE\"    \n",
       "[2517] \"SL%SGANV\"     \"SP%GSYNE\"     \"SP%GGTDT\"     \"S%LAGGQET\"   \n",
       "[2521] \"S%GQGNTGE\"    \"S%GGEK\"       \"SYGG%E\"       \"G%GGNTE\"     \n",
       "[2525] \"SRD%NQP\"      \"SPGQG%E\"      \"SRG%SNQP\"     \"SL%GNT\"      \n",
       "[2529] \"SP%GSYE\"      \"%LAAYNE\"      \"S%GGAYG\"      \"S%RRNTE\"     \n",
       "[2533] \"S%QSNQP\"      \"SV%GYNE\"      \"SVQ%NTE\"      \"SSQG%TE\"     \n",
       "[2537] \"SLTG%YG\"      \"SVSG%TE\"      \"S%QGSGNT\"     \"S%RGLNTE\"    \n",
       "[2541] \"S%GPMNTE\"     \"SLGG%GYE\"     \"SLGS%\"        \"SG%SYE\"      \n",
       "[2545] \"SAG%GE\"       \"SR%TAYE\"      \"SY%GSTE\"      \"SH%GTDT\"     \n",
       "[2549] \"SLS%DNE\"      \"SIS%NTE\"      \"SRDRN%E\"      \"S%RQVNTE\"    \n",
       "[2553] \"S%GLFTDT\"     \"SL%GTNYG\"     \"SL%PGNTE\"     \"SFG%GTDT\"    \n",
       "[2557] \"SYG%GSYE\"     \"SLV%GNTE\"     \"SLG%SNYG\"     \"SST%MNTE\"    \n",
       "[2561] \"SLGT%GNT\"     \"SPWTG%YE\"     \"SRDRE%YE\"     \"S%GRGSGNT\"   \n",
       "[2565] \"SL%QGNTGE\"    \"SL%TSGTYE\"    \"SL%GGMNTE\"    \"SPG%GSGNT\"   \n",
       "[2569] \"SPPG%STDT\"    \"SLGG%TNEK\"    \"SPGT%SGNT\"    \"SESG%NTGE\"   \n",
       "[2573] \"SLGTG%QET\"    \"RS%NE\"        \"SLY%E\"        \"SR%NYG\"      \n",
       "[2577] \"S%SSNQP\"      \"SLG%GYE\"      \"SP%GYE\"       \"R%GLNTE\"     \n",
       "[2581] \"SLGY%\"        \"%TDNYG\"       \"SP%GVG\"       \"SWG%NE\"      \n",
       "[2585] \"S%AANTE\"      \"S%EGNQP\"      \"SL%GQET\"      \"SP%GYNE\"     \n",
       "[2589] \"SQD%SYE\"      \"SLT%SYE\"      \"SRQ%QET\"      \"SLV%GYE\"     \n",
       "[2593] \"SLR%TGE\"      \"S%TGVNTE\"     \"S%RQGNTE\"     \"S%AGSYNE\"    \n",
       "[2597] \"R%QGNTGE\"     \"SVG%SSYNE\"    \"RA%NTE\"       \"SDSG%E\"      \n",
       "[2601] \"SR%SNQP\"      \"%VTGEK\"       \"GSG%GG\"       \"SWGSY%\"      \n",
       "[2605] \"S%DLVNE\"      \"SM%LNQP\"      \"SF%SKET\"      \"SYT%GDG\"     \n",
       "[2609] \"SPDSN%P\"      \"SESAA%E\"      \"SPGSN%P\"      \"SVDGT%E\"     \n",
       "[2613] \"SDGPN%E\"      \"SIGAGN%\"      \"SVDSGN%\"      \"VRDRGY%\"     \n",
       "[2617] \"%LGGQGYE\"     \"S%GVGSNE\"     \"SL%RKNYG\"     \"SY%GAYTE\"    \n",
       "[2621] \"STTG%RTE\"     \"SHRE%NTE\"     \"SQGGD%YG\"     \"%VQGSGANV\"   \n",
       "[2625] \"S%DGTANYG\"    \"SSL%GGADT\"    \"SRE%NSNQP\"    \"SIT%GGYNE\"   \n",
       "[2629] \"SVAE%SYNE\"    \"SLSRD%TGE\"    \"SPVTG%TGE\"    \"SLTPG%TYE\"   \n",
       "[2633] \"SLGGEG%TE\"    \"SS%YG\"        \"SY%AE\"        \"SPGQ%\"       \n",
       "[2637] \"S%LGSE\"       \"SLP%YE\"       \"SLP%QP\"       \"SDGT%E\"      \n",
       "[2641] \"SPGGY%\"       \"%RVNTGE\"      \"%GQSNQP\"      \"%VTGGTE\"     \n",
       "[2645] \"S%REGET\"      \"S%EGNTE\"      \"S%PSGNT\"      \"S%GGQET\"     \n",
       "[2649] \"S%ELNQP\"      \"S%RVTGE\"      \"S%GGNNE\"      \"SL%GGYG\"     \n",
       "[2653] \"SG%ENSP\"      \"SL%SGYG\"      \"SL%QGTE\"      \"SDG%TDT\"     \n",
       "[2657] \"SRV%NTE\"      \"SLAG%ET\"      \"SYAG%YE\"      \"SPQG%YE\"     \n",
       "[2661] \"%LGQLNTE\"     \"S%GLAKNI\"     \"S%GFMNTE\"     \"S%GRSTDT\"    \n",
       "[2665] \"S%ETGSYE\"     \"S%TGQNTE\"     \"S%GTANTE\"     \"SP%SGANV\"    \n",
       "[2669] \"SL%GANEK\"     \"SF%RGTDT\"     \"SY%TGGTE\"     \"SLG%TNTE\"    \n",
       "[2673] \"SLG%SGYE\"     \"SPG%GTDT\"     \"SLG%GLNE\"     \"SLG%GGYE\"    \n",
       "[2677] \"SLEG%NTE\"     \"SLVGQ%NE\"     \"SYSGG%TE\"     \"SPGQGD%E\"    \n",
       "[2681] \"S%TGQGNTE\"    \"SL%GSNTGE\"    \"SL%GSSGNT\"    \"SL%AGSYNE\"   \n",
       "[2685] \"SLGTG%GNT\"    \"SDSGG%TDT\"    \"SAGQG%TGE\"    \"SELAGG%DT\"   \n",
       "[2689] \"SLGLAGG%ET\"   \"D%NTE\"        \"S%ADT\"        \"S%YTGE\"      \n",
       "[2693] \"GT%NQP\"       \"SPGR%E\"       \"S%GAYNE\"      \"S%EGYG\"      \n",
       "[2697] \"S%RRTE\"       \"SPGD%E\"       \"SYGT%E\"       \"RT%GNTE\"     \n",
       "[2701] \"TG%TNEK\"      \"SWG%NTE\"      \"SPR%GTE\"      \"SPGTSG%NE\"   \n",
       "[2705] \"DATQ\"         \"SSG%SYE\"      \"SQS%E\"        \"SS%GNT\"      \n",
       "[2709] \"SSG%TE\"       \"SR%SGNT\"      \"%ASNTE\"       \"S%RTTE\"      \n",
       "[2713] \"GQG%YG\"       \"SGGS%G\"       \"S%ENTDT\"      \"SI%MNTE\"     \n",
       "[2717] \"RI%GGTE\"      \"SQ%GATE\"      \"SL%PNEK\"      \"SVD%NSP\"     \n",
       "[2721] \"SYSS%TE\"      \"RGRGG%E\"      \"SQGGD%E\"      \"S%WTGSYE\"    \n",
       "[2725] \"S%GTTNYG\"     \"SS%GRGNE\"     \"SP%GGGNT\"     \"SP%GENTE\"    \n",
       "[2729] \"SFG%STDT\"     \"SLD%NTGE\"     \"SLG%GSTE\"     \"SPT%MNTE\"    \n",
       "[2733] \"SRQ%LNTE\"     \"SPP%GNTE\"     \"SLTG%YNE\"     \"SLSG%NTE\"    \n",
       "[2737] \"SVGGGT%E\"     \"S%AGGGNQP\"    \"S%RQGVNTE\"    \"S%SGRGYNE\"   \n",
       "[2741] \"SL%GTNTGE\"    \"SL%SGGYNE\"    \"SLGG%SGNT\"    \"SVGG%GANV\"   \n",
       "[2745] \"SLGLAG%DT\"    \"%FGGE\"        \"SF%QG\"        \"SL%GSTE\"     \n",
       "[2749] \"SV%ENTE\"      \"SVR%TGE\"      \"SEGQ%YE\"      \"S%GGTYNE\"    \n",
       "[2753] \"SPGQ%NQP\"     \"SLGLAGV%E\"    \"SY%YE\"        \"%EGNTE\"      \n",
       "[2757] \"GQ%TDT\"       \"SR%QET\"       \"SPDR%E\"       \"%DRVNTE\"     \n",
       "[2761] \"S%GTSGSYE\"    \"%GVNTE\"       \"S%EET\"        \"SFGG%E\"      \n",
       "[2765] \"RHV%E\"        \"SD%ITE\"       \"SW%NTE\"       \"SYP%EK\"      \n",
       "[2769] \"TQGSY%\"       \"S%EMNTE\"      \"S%LMNTE\"      \"SF%LYTE\"     \n",
       "[2773] \"SLGVH%E\"      \"SVDSN%P\"      \"SSGQTY%\"      \"SLGQNT%\"     \n",
       "[2777] \"SLGTVY%\"      \"SVGTDY%\"      \"RGLSGN%\"      \"SLGSNQ%\"     \n",
       "[2781] \"%ESSSGNT\"     \"%QGGANTE\"     \"S%ADRGHE\"     \"S%RGSHNE\"    \n",
       "[2785] \"SR%GGNQP\"     \"SLSG%SYE\"     \"SGQS%YNE\"     \"SLQI%NTE\"    \n",
       "[2789] \"SLGET%YE\"     \"SEGQGN%P\"     \"SLEGGN%E\"     \"RSGQGT%E\"    \n",
       "[2793] \"SVGQGN%P\"     \"SVGLAG%E\"     \"SLGGQGY%\"     \"SLVGSGN%\"    \n",
       "[2797] \"SRGQGGY%\"     \"SLGGGLE%\"     \"S%RDRGIHE\"    \"S%LGGADTE\"   \n",
       "[2801] \"SG%RGPGNT\"    \"SS%GSTYNE\"    \"SP%SVSTDT\"    \"SLG%RSNEK\"   \n",
       "[2805] \"SQT%GAYNE\"    \"SSD%TSGNT\"    \"SLD%GYTDT\"    \"SPGQ%RNTE\"   \n",
       "[2809] \"SELA%GTDT\"    \"SPRQGV%TE\"    \"SY%DNE\"       \"SY%GSP\"      \n",
       "[2813] \"%LGQNTE\"      \"SF%VGYE\"      \"SI%PNTE\"      \"SLV%YNE\"     \n",
       "[2817] \"SQVG%TE\"      \"RGVG%TE\"      \"SLDS%TE\"      \"SLGQE%E\"     \n",
       "[2821] \"SI%GLNTE\"     \"SL%GTNTE\"     \"SL%GKNTE\"     \"SP%TGQET\"    \n",
       "[2825] \"SF%GGGTE\"     \"SLG%QGYE\"     \"SER%GSYE\"     \"SLS%NTGE\"    \n",
       "[2829] \"SPG%GDYE\"     \"SSG%FTDT\"     \"SLQ%SNQP\"     \"SGDR%NEK\"    \n",
       "[2833] \"SPTG%GTE\"     \"SRGL%NQP\"     \"SLQGS%YE\"     \"S%RTGGSYE\"   \n",
       "[2837] \"SL%AGGTGE\"    \"SL%GSGANV\"    \"SRD%GSYNE\"    \"SLG%SSGNT\"   \n",
       "[2841] \"SLGQ%NTGE\"    \"SLRG%SSYE\"    \"SP%TSGSSYE\"   \"S%GQGE\"      \n",
       "[2845] \"T%GTGE\"       \"SRG%QET\"      \"SPGLAG%E\"     \"RP%GTE\"      \n",
       "[2849] \"SL%DNE\"       \"SFGT%E\"       \"%PGGNTE\"      \"S%ALNTE\"     \n",
       "[2853] \"SRR%NTE\"      \"RGA%NTE\"      \"SGGG%TE\"      \"S%TGSGNT\"    \n",
       "[2857] \"S%AGGQET\"     \"SRDRG%ET\"     \"%GGNYG\"       \"RTG%YE\"      \n",
       "[2861] \"%ADQET\"       \"SLI%DT\"       \"SGL%YG\"       \"SGTA%G\"      \n",
       "[2865] \"SHRG%G\"       \"S%ALQET\"      \"S%DINQP\"      \"S%YRDTE\"     \n",
       "[2869] \"SL%LQET\"      \"SY%GDTE\"      \"SY%RAGE\"      \"SE%GNEK\"     \n",
       "[2873] \"SFG%YNE\"      \"SLS%NYG\"      \"SLG%HNE\"      \"SLEG%QP\"     \n",
       "[2877] \"S%GGAPYE\"     \"S%GTVYNE\"     \"S%SGLNTE\"     \"S%RGRGNT\"    \n",
       "[2881] \"S%GTGPNE\"     \"S%GQQNTE\"     \"RG%GTYNE\"     \"SI%GGTDT\"    \n",
       "[2885] \"SS%GVNTE\"     \"SQ%TGSYE\"     \"SLR%LNTE\"     \"SRRG%NTE\"    \n",
       "[2889] \"SSGQ%QET\"     \"SQGLG%YE\"     \"SLGGP%NE\"     \"SPRQG%YG\"    \n",
       "[2893] \"SLGTGN%E\"     \"SPGQGN%E\"     \"S%GQATNEK\"    \"SV%AGGYNE\"   \n",
       "[2897] \"SL%AGGYNE\"    \"SDS%GSTDT\"    \"SPLAGG%TDT\"   \"SLGLAG%TGE\"  \n",
       "[2901] \"S%TGNE\"       \"SH%TGE\"       \"SGT%NE\"       \"%TSGANV\"     \n",
       "[2905] \"%GSGANV\"      \"%GDSGNT\"      \"S%QGAGE\"      \"K%SGANV\"     \n",
       "[2909] \"SL%GYNE\"      \"SS%LNTE\"      \"SL%MNTE\"      \"RG%GGNT\"     \n",
       "[2913] \"RTGG%YE\"      \"SLLGG%E\"      \"SLTGG%E\"      \"S%GTGAYE\"    \n",
       "[2917] \"S%GTGTDT\"     \"SD%SGANV\"     \"SRGG%YNE\"     \"SRDRG%TE\"    \n",
       "[2921] \"SPGQGG%E\"     \"GR%NTE\"       \"S%GNE\"        \"%VRGQP\"      \n",
       "[2925] \"S%RDYG\"       \"SR%DYG\"       \"SQ%GNT\"       \"SPPG%E\"      \n",
       "[2929] \"SPND%E\"       \"SYTGN%\"       \"SSVGD%\"       \"STRGY%\"      \n",
       "[2933] \"%QRDSYE\"      \"%IAGGDE\"      \"R%GSGNT\"      \"SL%RNTE\"     \n",
       "[2937] \"SV%LNTE\"      \"SP%GNQP\"      \"SS%PGGT\"      \"SLQ%RTE\"     \n",
       "[2941] \"RGEGN%P\"      \"SLDRG%G\"      \"SEAGSY%\"      \"SLGVSY%\"     \n",
       "[2945] \"RAGGGY%\"      \"SVTGGA%\"      \"%REGMNTE\"     \"S%GTSYNE\"    \n",
       "[2949] \"S%DGTTGE\"     \"S%TGGTGE\"     \"S%WGRGTE\"     \"SF%RVYNE\"    \n",
       "[2953] \"SQ%RYNSP\"     \"SE%LDTGE\"     \"SE%SLYNE\"     \"SLA%AGDT\"    \n",
       "[2957] \"SLG%GNQP\"     \"SQAGS%DT\"     \"SQGVGS%E\"     \"GPGQGN%E\"    \n",
       "[2961] \"SLNGQG%E\"     \"SLGTSGN%\"     \"%PTSGGSYE\"    \"S%TDRANYG\"   \n",
       "[2965] \"SL%AGARTE\"    \"SY%AGGAYE\"    \"SY%SGGADT\"    \"SLG%AGGNT\"   \n",
       "[2969] \"SQE%TSYNE\"    \"SLP%GMNTE\"    \"SSL%GGNTE\"    \"SSGLA%AGE\"   \n",
       "[2973] \"SLAGD%NQP\"    \"SQRTGG%YG\"    \"SLTPGG%YE\"    \"SLGAGGT%E\"   \n",
       "[2977] \"SLGLAGGY%E\"   \"S%SSE\"        \"S%QGAE\"       \"S%GDYE\"      \n",
       "[2981] \"S%GGQP\"       \"S%QGSE\"       \"SL%RYE\"       \"SF%SYE\"      \n",
       "[2985] \"SY%SGE\"       \"SP%RNT\"       \"SG%TGE\"       \"SIR%GE\"      \n",
       "[2989] \"GTA%NE\"       \"SYP%NE\"       \"SYG%YG\"       \"SPV%TE\"      \n",
       "[2993] \"SVGGD%\"       \"S%TSYNE\"      \"S%QNTGE\"      \"S%GANEK\"     \n",
       "[2997] \"S%VSGNT\"      \"S%GLGQP\"      \"S%GVEET\"      \"S%GRETE\"     \n",
       "[3001] \"SF%GDTE\"      \"SL%SGYE\"      \"SY%DSYE\"      \"SI%STDT\"     \n",
       "[3005] \"SD%STGE\"      \"SLE%TDT\"      \"SYG%TYE\"      \"SPR%SYE\"     \n",
       "[3009] \"SSG%EET\"      \"SVG%GTE\"      \"RTGG%TE\"      \"TPGG%NE\"     \n",
       "[3013] \"SLGS%DT\"      \"SIRG%TE\"      \"SLQGT%E\"      \"S%AGLQET\"    \n",
       "[3017] \"S%TGGRTE\"     \"S%GEGSYE\"     \"S%GTAPYE\"     \"SL%GGGQP\"    \n",
       "[3021] \"SL%ASSYE\"     \"SL%GGGYG\"     \"SKG%MNTE\"     \"SQD%SGNT\"    \n",
       "[3025] \"SLGG%NYG\"     \"SRDR%NTE\"     \"SSRG%NTE\"     \"SPGTS%DT\"    \n",
       "[3029] \"SLRQGG%E\"     \"S%PGQGSYE\"    \"SRG%ATNEK\"    \"SLGLAG%QET\"  \n",
       "[3033] \"%IQET\"        \"SLSY%\"        \"S%TGET\"       \"S%GANE\"      \n",
       "[3037] \"S%LGYE\"       \"SL%GQE\"       \"SQD%YE\"       \"SNR%YE\"      \n",
       "[3041] \"SSV%TE\"       \"SYS%QP\"       \"SPRT%E\"       \"SLGGT%\"      \n",
       "[3045] \"%AGGNTE\"      \"S%GVNQP\"      \"S%GSTGE\"      \"S%PYTGE\"     \n",
       "[3049] \"S%VGDTE\"      \"SL%QAYE\"      \"SQT%NYG\"      \"SQV%NTE\"     \n",
       "[3053] \"SVT%GTE\"      \"RGG%GNT\"      \"SLDR%QP\"      \"SVEG%GE\"     \n",
       "[3057] \"SHRG%TE\"      \"STGG%TE\"      \"SRGGN%E\"      \"S%TGGTDT\"    \n",
       "[3061] \"S%GQANSP\"     \"S%GGPTDT\"     \"S%GTGSYE\"     \"S%DGSGNT\"    \n",
       "[3065] \"SA%GLNTE\"     \"SL%ENTGE\"     \"SL%GANTE\"     \"SRG%GNTE\"    \n",
       "[3069] \"SRTA%NTE\"     \"SLGG%DTE\"     \"SLGL%TDT\"     \"SPGQG%QP\"    \n",
       "[3073] \"SLGGG%QP\"     \"SLGGGS%E\"     \"S%DRGPYNE\"    \"SQG%SSYNE\"   \n",
       "[3077] \"%AMNTE\"       \"S%SGYG\"       \"GR%YNE\"       \"SVG%DT\"      \n",
       "[3081] \"S%DRGGE\"      \"S%DRDYE\"      \"SA%MNTE\"      \"RT%GSYE\"     \n",
       "[3085] \"SL%GPYE\"      \"SP%GGDE\"      \"SGG%NTE\"      \"SVG%TYE\"     \n",
       "[3089] \"SSG%GNT\"      \"S%GTVNTE\"     \"SLG%GAGE\"     \"SLLAG%NE\"    \n",
       "[3093] \"S%SGG\"        \"SLYS%\"        \"%FGAYE\"       \"S%SVGE\"      \n",
       "[3097] \"S%LGDT\"       \"S%AEGE\"       \"SL%DTE\"       \"SYS%SP\"      \n",
       "[3101] \"SIT%DT\"       \"SVSG%T\"       \"SLDS%E\"       \"STRT%E\"      \n",
       "[3105] \"GTGF%E\"       \"SVGTY%\"       \"SLIGY%\"       \"SVDGN%\"      \n",
       "[3109] \"SAGNY%\"       \"%ATMNTE\"      \"Q%AYNSP\"      \"S%QMNTE\"     \n",
       "[3113] \"S%LSGNT\"      \"S%GEGET\"      \"S%AGTYE\"      \"SY%NTGE\"     \n",
       "[3117] \"SY%GTDT\"      \"RD%LNTE\"      \"SS%QNTE\"      \"SL%QGQP\"     \n",
       "[3121] \"SLT%GNT\"      \"SYR%DTE\"      \"SPL%NTE\"      \"SPG%GNT\"     \n",
       "[3125] \"SGQ%TDT\"      \"SSGG%TE\"      \"SVVG%TE\"      \"SPQA%TE\"     \n",
       "[3129] \"RGPG%TE\"      \"SLRA%DG\"      \"SQDG%YE\"      \"SEAR%SE\"     \n",
       "[3133] \"SRTGN%E\"      \"SIGGY%E\"      \"IRDRG%E\"      \"SYGTGA%\"     \n",
       "[3137] \"SAGGAY%\"      \"SLAGVY%\"      \"SLVQGY%\"      \"SQDSGS%\"     \n",
       "[3141] \"%AGGPNTE\"     \"S%PGGGTE\"     \"S%RQGAYE\"     \"S%PRGNTE\"    \n",
       "[3145] \"S%RGSNQP\"     \"S%GQENTE\"     \"S%RGQNTE\"     \"SE%GVNTE\"    \n",
       "[3149] \"SP%TDNQP\"     \"SG%GVNTE\"     \"SG%DRPYE\"     \"TP%QGNTE\"    \n",
       "[3153] \"SP%QGNTE\"     \"SP%TGAGE\"     \"SP%QGNYG\"     \"SS%GLNTE\"    \n",
       "[3157] \"SPG%GADT\"     \"RRT%NTGE\"     \"RAGT%GYE\"     \"SLAD%GYE\"    \n",
       "[3161] \"SSSG%GNE\"     \"SLDR%NYG\"     \"SPRTE%TE\"     \"SLGTGR%G\"    \n",
       "[3165] \"SLVGDS%E\"     \"SPGQGN%P\"     \"SYRDRG%E\"     \"SLGGQGN%\"    \n",
       "[3169] \"%PGQTSTDT\"    \"%RGGGSNQP\"    \"S%GAGSSYE\"    \"S%STSGGNE\"   \n",
       "[3173] \"S%TGANTGE\"    \"RG%AGDTGE\"    \"SM%GGGTDT\"    \"SDL%GTYNE\"   \n",
       "[3177] \"RLQG%GANV\"    \"SPRG%SYNE\"    \"SLPG%AYNE\"    \"SLNR%MNTE\"   \n",
       "[3181] \"SLSGT%GNE\"    \"SLFRG%NQP\"    \"SDSTSG%NE\"    \"SLSGTG%NE\"   \n",
       "[3185] \"%DGTYE\"       \"S%GNEK\"       \"S%GGDT\"       \"R%VNTE\"      \n",
       "[3189] \"SYT%YE\"       \"SLG%TG\"       \"%GRSNTE\"      \"%LGNTGE\"     \n",
       "[3193] \"S%GFNTE\"      \"S%DRDYG\"      \"S%RAAYE\"      \"SL%WGTE\"     \n",
       "[3197] \"SP%RGET\"      \"SF%MNTE\"      \"SPG%STE\"      \"RGL%NTE\"     \n",
       "[3201] \"SFG%NYG\"      \"SLGT%YE\"      \"SPGV%ET\"      \"SVLG%TE\"     \n",
       "[3205] \"S%TSSGNT\"     \"S%SSGANV\"     \"S%GTGNTE\"     \"S%DRSGNT\"    \n",
       "[3209] \"S%RGANTE\"     \"S%AGRNTE\"     \"S%TGGDEK\"     \"S%GVSSYE\"    \n",
       "[3213] \"S%TGDNSP\"     \"S%TGPNTE\"     \"SL%RGGDE\"     \"SP%QGTGE\"    \n",
       "[3217] \"SPG%ANTE\"     \"SLA%GTDT\"     \"SLGT%GYE\"     \"SRTG%GQP\"    \n",
       "[3221] \"SPRG%YNE\"     \"SYSG%SYE\"     \"SVAGG%ET\"     \"SLGTG%QP\"    \n",
       "[3225] \"SLAGL%NE\"     \"S%SGANTGE\"    \"S%PGQGNEK\"    \"S%SPSSYNE\"   \n",
       "[3229] \"S%GTGANYG\"    \"SL%SGSYNE\"    \"SL%GAGANV\"    \"SEG%GGNQP\"   \n",
       "[3233] \"SPG%GSYNE\"    \"SDSG%STDT\"    \"SLGG%GANV\"    \"SLGTG%TDT\"   \n",
       "[3237] \"SSGLAG%TDT\"   \"S%ET\"         \"%SGAYE\"       \"SL%TYE\"      \n",
       "[3241] \"SG%SYG\"       \"SSR%GE\"       \"SVS%GE\"       \"SLDR%E\"      \n",
       "[3245] \"RTGG%E\"       \"SLGT%E\"       \"SLG%QET\"      \"STG%TGE\"     \n",
       "[3249] \"KQG%NTE\"      \"SPG%SYNE\"     \"SLGQG%NE\"     \"S%GLAGYNE\"   \n",
       "[3253] \"SYNY%\"        \"%TPGNE\"       \"%PENTE\"       \"W%GSYE\"      \n",
       "[3257] \"T%SSYE\"       \"SVE%QP\"       \"SGAY%E\"       \"SPER%T\"      \n",
       "[3261] \"SF%VNTE\"      \"SV%GATE\"      \"RW%GAYE\"      \"STQ%TGE\"     \n",
       "[3265] \"SLG%RAE\"      \"SPE%TGE\"      \"RDRG%GE\"      \"SLAG%QP\"     \n",
       "[3269] \"RDRA%TE\"      \"SSGQA%E\"      \"SLGVN%E\"      \"SRTGP%T\"     \n",
       "[3273] \"SYGGG%T\"      \"SVGRGD%\"      \"SSQGRG%\"      \"%TSGSGET\"    \n",
       "[3277] \"S%RTGYNE\"     \"S%EVGSYE\"     \"S%RGENTE\"     \"S%SGLSYE\"    \n",
       "[3281] \"SR%QGAYE\"     \"SE%GRNTE\"     \"SW%TGNTE\"     \"SP%RGNQP\"    \n",
       "[3285] \"SLG%TNEK\"     \"SFP%RNTE\"     \"STG%ANSP\"     \"SVRG%GNT\"    \n",
       "[3289] \"SLRG%NTE\"     \"SPQR%NTE\"     \"SPQG%NTE\"     \"RDRG%YTE\"    \n",
       "[3293] \"SLRG%HNE\"     \"SLRQG%DG\"     \"SVQGR%TE\"     \"SAYRG%TE\"    \n",
       "[3297] \"SVEGS%GE\"     \"SPRQG%TE\"     \"SSGGA%EK\"     \"SYSGSS%E\"    \n",
       "[3301] \"S%AGTGAYE\"    \"S%DGSSYNE\"    \"S%DRTSNQP\"    \"SP%GATNEK\"   \n",
       "[3305] \"SP%GELNTE\"    \"SL%GEGSYE\"    \"SSG%GSTGE\"    \"SLG%GVTGE\"   \n",
       "[3309] \"SLNR%NTGE\"    \"SLET%SYNE\"    \"SIGT%SGNT\"    \"SYGTG%DTE\"   \n",
       "[3313] \"SLEAS%SYE\"    \"SLGGE%NTE\"    \"SVLAGG%NE\"    \"SDSSGG%NE\"   \n",
       "[3317] \"SLGTSGR%E\"    \"SSWTSGS%E\"    \"S%RQGVNTGE\"   \"QTAM\"        \n",
       "[3321] \"SF%YE\"        \"S%QGVE\"       \"S%GPNE\"       \"RGG%DE\"      \n",
       "[3325] \"%TGGGTE\"      \"%QGSYNE\"      \"S%GRAGE\"      \"S%DLNTE\"     \n",
       "[3329] \"S%TGLGE\"      \"SQD%GGE\"      \"SGDR%YE\"      \"SYSGG%E\"     \n",
       "[3333] \"SLGGR%E\"      \"S%AGSTDT\"     \"SSG%SNQP\"     \"SSGQGA%E\"    \n",
       "[3337] \"S%GPE\"        \"SLSR%\"        \"RQ%PYE\"       \"SY%TDT\"      \n",
       "[3341] \"SR%TYE\"       \"SLQ%GE\"       \"SRL%TE\"       \"G%GNTGE\"     \n",
       "[3345] \"S%GRGTE\"      \"S%GTNEK\"      \"SP%QNTE\"      \"SV%QGTE\"     \n",
       "[3349] \"SQ%TNTE\"      \"SFL%TGE\"      \"SIQ%NTE\"      \"SET%YNE\"     \n",
       "[3353] \"SVG%RTE\"      \"SVGS%TE\"      \"SPPG%ET\"      \"SEGG%EK\"     \n",
       "[3357] \"STDR%YE\"      \"%GTENTGE\"     \"S%GQFNQP\"     \"S%VGSGNT\"    \n",
       "[3361] \"SL%AGTGE\"     \"SL%GANYG\"     \"SQ%SSGNT\"     \"SPR%GTDT\"    \n",
       "[3365] \"SLD%SNQP\"     \"SLGQ%NSP\"     \"SSTG%NTE\"     \"SLDR%NQP\"    \n",
       "[3369] \"SLSG%TDT\"     \"SLGTG%YG\"     \"SLAGV%DT\"     \"SPGTA%YE\"    \n",
       "[3373] \"SLGTGS%E\"     \"S%TGAGANV\"    \"SLGG%STDT\"    \"SPGG%SNQP\"   \n",
       "[3377] \"SEGG%GNQP\"    \"SPGTS%YNE\"    \"SSGLA%YNE\"    \"S%QGDE\"      \n",
       "[3381] \"S%DGYE\"       \"S%GPYG\"       \"RG%TDT\"       \"SP%TYE\"      \n",
       "[3385] \"TTG%TE\"       \"%LAGVNE\"      \"%GQMNTE\"      \"%GGSNQP\"     \n",
       "[3389] \"S%GGNEK\"      \"S%DRTYE\"      \"SP%SNQP\"      \"SP%STDT\"     \n",
       "[3393] \"SGQG%NE\"      \"S%PGQGYE\"     \"SSG%SSYE\"     \"SLGTGG%E\"    \n",
       "[3397] \"%SDEK\"        \"%GHSYE\"       \"%PVNTE\"       \"%PGVGE\"      \n",
       "[3401] \"S%RVYG\"       \"S%GPWG\"       \"S%GVYE\"       \"SY%AYE\"      \n",
       "[3405] \"RD%GSP\"       \"SL%LET\"       \"SLV%ET\"       \"TGV%TE\"      \n",
       "[3409] \"SEM%TE\"       \"SPA%NT\"       \"SYSA%E\"       \"SLGLY%\"      \n",
       "[3413] \"SYSGY%\"       \"%LTGGTE\"      \"S%QGGAG\"      \"S%TGADE\"     \n",
       "[3417] \"S%DLYNE\"      \"SL%TNEK\"      \"SL%PNYG\"      \"SG%LNTE\"     \n",
       "[3421] \"SQ%AGNT\"      \"SQ%QGYE\"      \"SL%ANYG\"      \"SL%VNYG\"     \n",
       "[3425] \"SS%GGYG\"      \"SA%GAYE\"      \"GQG%SYE\"      \"RDT%TGE\"     \n",
       "[3429] \"SQD%NTE\"      \"SYT%AGE\"      \"SWTG%YG\"      \"RGGA%TE\"     \n",
       "[3433] \"RSQG%TE\"      \"SVGVN%E\"      \"SRAGP%E\"      \"SMGGG%E\"     \n",
       "[3437] \"SFEGA%G\"      \"SLDLV%E\"      \"SLGRH%E\"      \"SVGPG%E\"     \n",
       "[3441] \"SVGRN%E\"      \"SVGTGD%\"      \"GGQGGY%\"      \"%IGQGNTE\"    \n",
       "[3445] \"%RTGQNTE\"     \"S%GGDYNE\"     \"S%QGQGTE\"     \"S%GGVQET\"    \n",
       "[3449] \"S%AGGGTE\"     \"S%DSSSYE\"     \"S%TAGDTE\"     \"S%GGSGYE\"    \n",
       "[3453] \"S%DGTNTE\"     \"S%ASANYG\"     \"S%GGSNTE\"     \"SF%GEGTE\"    \n",
       "[3457] \"SP%PVNTE\"     \"SL%STGNT\"     \"SL%GVRDT\"     \"SPP%GNSP\"    \n",
       "[3461] \"SQG%GNTE\"     \"SLD%NTDT\"     \"STG%LYNE\"     \"SPR%GNTE\"    \n",
       "[3465] \"SLS%APYE\"     \"SPRG%NYG\"     \"SLNS%TGE\"     \"SADR%GNT\"    \n",
       "[3469] \"SYRD%GYE\"     \"SLTG%GTE\"     \"SSTG%NQP\"     \"SPGF%NTE\"    \n",
       "[3473] \"SPGTGN%G\"     \"SPGTGN%P\"     \"S%EGGGYNE\"    \"S%GRGANQP\"   \n",
       "[3477] \"S%GLAGVET\"    \"S%DVGSGNT\"    \"S%GRRSGNT\"    \"S%STGGADT\"   \n",
       "[3481] \"S%QGATNEK\"    \"SR%GEMNTE\"    \"SQ%GRGSYE\"    \"SD%TSGSNE\"   \n",
       "[3485] \"SW%GSGANV\"    \"SP%TPNTGE\"    \"SI%GFSNQP\"    \"SP%DSMNTE\"   \n",
       "[3489] \"SS%LAGAGE\"    \"SL%LGRNTE\"    \"SI%DSSGNT\"    \"SQG%SGANV\"   \n",
       "[3493] \"SLT%GMNTE\"    \"SLSG%GAYE\"    \"SLGG%SNQP\"    \"SSGTG%TDT\"   \n",
       "[3497] \"SRDRG%NTE\"    \"SPATG%NTE\"    \"SDPGT%NTE\"    \"SLGQG%NQP\"   \n",
       "[3501] \"SLGGTG%YE\"    \"SLGAGG%YE\"    \"SLGGTGD%E\"    \"S%TSGGSYNE\"  \n",
       "[3505] \"SLG%ALAKNI\"   \"T%NTE\"        \"S%AET\"        \"SL%EE\"       \n",
       "[3509] \"%SLNTE\"       \"S%NTDT\"       \"S%GVTE\"       \"S%GADT\"      \n",
       "[3513] \"S%AGSYE\"      \"SS%GGTE\"      \"RG%SNQP\"      \"SLA%GYE\"     \n",
       "[3517] \"S%GQGADE\"     \"S%DNE\"        \"RD%NTE\"       \"TRG%TE\"      \n",
       "[3521] \"SLAG%T\"       \"S%TGTDT\"      \"S%GQNYG\"      \"SVG%TDT\"     \n",
       "[3525] \"RGG%NEK\"      \"S%AGGSYE\"     \"SL%QGAGE\"     \"S%DTGE\"      \n",
       "[3529] \"SY%NQP\"       \"EQG%YG\"       \"S%GRNYE\"      \"S%YMNTE\"     \n",
       "[3533] \"S%PDSYE\"      \"S%IMNTE\"      \"SP%TNTE\"      \"SL%GEET\"     \n",
       "[3537] \"SL%GANV\"      \"SP%GATE\"      \"SL%YQET\"      \"SE%GANV\"     \n",
       "[3541] \"RG%GYTE\"      \"SVR%NQP\"      \"SSDR%NE\"      \"SVGQ%TE\"     \n",
       "[3545] \"RGAG%TE\"      \"SQDRR%E\"      \"%TGSSNQP\"     \"S%GGGADT\"    \n",
       "[3549] \"S%QGGNTE\"     \"SP%GLNTE\"     \"SP%GGQET\"     \"SQG%MNTE\"    \n",
       "[3553] \"SLGT%NTE\"     \"SLQG%NQP\"     \"S%GGRGTDT\"    \"SPSG%SYNE\"   \n",
       "[3557] \"SLLAG%YNE\"    \"R%NTE\"        \"S%NNE\"        \"S%GGRET\"     \n",
       "[3561] \"SL%QGYE\"      \"SLG%AYE\"      \"S%GTGTYE\"     \"RTAG%\"       \n",
       "[3565] \"SLND%\"        \"%ERGNT\"       \"S%RSYG\"       \"S%INTE\"      \n",
       "[3569] \"SSG%DG\"       \"SFT%YE\"       \"SPT%YG\"       \"SYQ%YG\"      \n",
       "[3573] \"SRSN%P\"       \"SLGQY%\"       \"SADRG%\"       \"%AQGGTE\"     \n",
       "[3577] \"%PGNNQP\"      \"%RTTNTE\"      \"S%GQDTE\"      \"S%GENQP\"     \n",
       "[3581] \"SF%RGTE\"      \"SY%KGYE\"      \"SS%NSYE\"      \"SQ%GGIE\"     \n",
       "[3585] \"SY%GRQP\"      \"GL%QNTE\"      \"SP%GVTE\"      \"SYS%GAE\"     \n",
       "[3589] \"SPR%PYG\"      \"SFS%TGE\"      \"GGL%YNE\"      \"RSGG%TE\"     \n",
       "[3593] \"RRGI%YE\"      \"SIGV%YE\"      \"RDRM%TE\"      \"SEDR%YE\"     \n",
       "[3597] \"SIGG%YE\"      \"TRQGN%E\"      \"SPGLY%E\"      \"SPGGV%T\"     \n",
       "[3601] \"SLGGN%P\"      \"SQDRGG%\"      \"%PDRVNTE\"     \"%RDRGRTE\"    \n",
       "[3605] \"S%SGRADT\"     \"S%DGPNTE\"     \"G%QGGNQP\"     \"S%GQGRYE\"    \n",
       "[3609] \"S%TRGGTE\"     \"SL%LAGNE\"     \"SL%VPNTE\"     \"SR%QGNTE\"    \n",
       "[3613] \"SP%TGNTE\"     \"SLR%RNQP\"     \"SLA%GAYG\"     \"SPL%QNTE\"    \n",
       "[3617] \"SGT%GRYE\"     \"SERG%TDT\"     \"SLAV%NTE\"     \"SLGR%PDT\"    \n",
       "[3621] \"SVGT%NTE\"     \"SVGR%NTE\"     \"SPPG%NTE\"     \"SLVG%GGE\"    \n",
       "[3625] \"SERGQ%YE\"     \"SITGV%TE\"     \"SLSKG%YE\"     \"SRGQGG%E\"    \n",
       "[3629] \"%RGTSGTDT\"    \"S%GTGAAYE\"    \"S%TGTGGYE\"    \"S%PGVSGNT\"   \n",
       "[3633] \"S%SGTSTDT\"    \"S%AASGANV\"    \"RP%GSSGNT\"    \"SP%TGDNQP\"   \n",
       "[3637] \"SP%GLGNQP\"    \"SD%TGGNEK\"    \"SLD%GRYNE\"    \"SPG%YSNQP\"   \n",
       "[3641] \"SLD%GGYNE\"    \"SLG%SGGYE\"    \"SES%ANTGE\"    \"SPPR%NTGE\"   \n",
       "[3645] \"SIGR%SNQP\"    \"SQQG%GANV\"    \"SYSG%NTGE\"    \"SPGT%NTGE\"   \n",
       "[3649] \"SSQGG%NTE\"    \"SLEQG%NTE\"    \"SLGTA%NTE\"    \"SQEAG%TGE\"   \n",
       "[3653] \"SLGQGT%NE\"    \"%RENTE\"       \"S%RGNT\"       \"S%DTDT\"      \n",
       "[3657] \"S%GQGK\"       \"SQ%GYE\"       \"SY%AGE\"       \"RTG%NE\"      \n",
       "[3661] \"SLGA%G\"       \"%LSSYNE\"      \"R%SLNTE\"      \"SSG%TGE\"     \n",
       "[3665] \"TRG%NTE\"      \"SPG%TDT\"      \"S%TSGSTDT\"    \"S%LDT\"       \n",
       "[3669] \"G%YTE\"        \"SP%ET\"        \"SQ%DE\"        \"S%GAYG\"      \n",
       "[3673] \"EG%SYE\"       \"SD%TYE\"       \"SSRTG%\"       \"S%GTGYG\"     \n",
       "[3677] \"SG%VNTE\"      \"SLGQ%YE\"      \"%LDYE\"        \"S%VPDT\"      \n",
       "[3681] \"SE%GSG\"       \"%GGTGNT\"      \"S%RDNSP\"      \"S%TDTGE\"     \n",
       "[3685] \"T%GGNSP\"      \"S%DRGEK\"      \"SL%VSYE\"      \"SV%GSTE\"     \n",
       "[3689] \"SR%GRTE\"      \"SRGP%TE\"      \"S%GGYNSP\"     \"S%SGSGNT\"    \n",
       "[3693] \"SV%GMNTE\"     \"SLG%GGTE\"     \"SPGT%TYE\"     \"SSGQ%NQP\"    \n",
       "[3697] \"SDSG%SYE\"     \"SPQG%NYG\"     \"SLGQ%SYE\"     \"SSDRG%YE\"    \n",
       "[3701] \"SPGLA%ET\"     \"S%TSGGADT\"    \"S%QGAGANV\"    \"SGGG%SNQP\"   \n",
       "[3705] \"SS%ET\"        \"SMG%E\"        \"SLGL%\"        \"%GSNTE\"      \n",
       "[3709] \"SD%GYG\"       \"RQG%QP\"       \"S%GGGQP\"      \"SLAG%TDT\"    \n",
       "[3713] \"%PGSET\"       \"STW%TE\"       \"TEG%QP\"       \"SPGG%G\"      \n",
       "[3717] \"%LQGSTE\"      \"%LGQAYE\"      \"%EQGRTE\"      \"%ENSGNT\"     \n",
       "[3721] \"%VGRTDT\"      \"R%GGSYE\"      \"R%RKNTE\"      \"R%GNTGE\"     \n",
       "[3725] \"S%STVYG\"      \"SD%DNTE\"      \"SS%EGET\"      \"SV%SSTE\"     \n",
       "[3729] \"SP%LVNE\"      \"SY%EDTE\"      \"SGW%SYE\"      \"SPRR%AE\"     \n",
       "[3733] \"SLRL%YG\"      \"SIDL%NE\"      \"SIGA%NE\"      \"RFRG%TE\"     \n",
       "[3737] \"SLDG%SP\"      \"SFPS%YE\"      \"SRGQGY%\"      \"%LLSSYNE\"    \n",
       "[3741] \"%RDRGLDT\"     \"S%DGRGTE\"     \"S%VGQGAE\"     \"S%GPGDYE\"    \n",
       "[3745] \"SP%QANTE\"     \"SS%GGVTE\"     \"SY%GRTDT\"     \"SL%TTNYG\"    \n",
       "[3749] \"SL%GFNTE\"     \"SPG%GITE\"     \"SSG%VQET\"     \"SLD%VNTE\"    \n",
       "[3753] \"SQV%GVGE\"     \"SYG%GNYG\"     \"SVPG%YNE\"     \"SLQGP%YG\"    \n",
       "[3757] \"SVGGAG%E\"     \"SLGGAG%T\"     \"SLGVGA%E\"     \"SLGGGI%E\"    \n",
       "[3761] \"SPGQGAS%\"     \"S%DRGWNTE\"    \"S%VGGGYNE\"    \"T%QGSSYNE\"   \n",
       "[3765] \"S%GGPTNEK\"    \"SL%GGAGQP\"    \"SQ%DSSYNE\"    \"SP%GISGNT\"   \n",
       "[3769] \"SLD%ATNEK\"    \"SLL%GGNTE\"    \"SLT%GAYNE\"    \"SLE%GMNTE\"   \n",
       "[3773] \"SSQG%GNTE\"    \"SDSG%AYNE\"    \"SPPG%RNTE\"    \"SQDG%SYNE\"   \n",
       "[3777] \"SLVGTGA%E\"    \"LMFA\"         \"SY%HE\"        \"%VGNTE\"      \n",
       "[3781] \"%DRPYE\"       \"%IGGTE\"       \"SPR%GE\"       \"RTG%YG\"      \n",
       "[3785] \"SPQ%YG\"       \"SLLG%T\"       \"%QGSGNT\"      \"S%GSGQP\"     \n",
       "[3789] \"S%RGNYE\"      \"S%GATDT\"      \"S%DSTDT\"      \"SK%SNQP\"     \n",
       "[3793] \"RQ%SGNT\"      \"SL%RTDT\"      \"SS%GADT\"      \"SL%GNSP\"     \n",
       "[3797] \"SVV%NTE\"      \"SVA%NQP\"      \"RDRE%TE\"      \"SLAG%GE\"     \n",
       "[3801] \"SLGTV%E\"      \"SQGGS%E\"      \"S%TGANTE\"     \"S%TGENTE\"    \n",
       "[3805] \"S%PGMNTE\"     \"SL%AGGNE\"     \"SPR%GNQP\"     \"SLGTGL%E\"    \n",
       "[3809] \"SPGTG%TGE\"    \"S%LGE\"        \"S%GEE\"        \"S%GSNE\"      \n",
       "[3813] \"S%SGET\"       \"SQG%YE\"       \"SWTG%E\"       \"TG%GNTE\"     \n",
       "[3817] \"SVG%GGE\"      \"RDS%NTE\"      \"SVAGG%E\"      \"S%SGSTDT\"    \n",
       "[3821] \"SLAG%YNE\"     \"S%LDTE\"       \"S%DLYG\"       \"SA%SYG\"      \n",
       "[3825] \"R%RANTE\"      \"S%GTANE\"      \"G%RLNTE\"      \"S%SGGYG\"     \n",
       "[3829] \"SQ%RAGE\"      \"SLR%NYG\"      \"GTG%SYE\"      \"SVQG%QP\"     \n",
       "[3833] \"SYGG%YE\"      \"SVGGV%E\"      \"%PGLAGGE\"     \"S%DRNTGE\"    \n",
       "[3837] \"S%GQGSDT\"     \"S%SGGNTE\"     \"SS%GSNQP\"     \"SG%GGYNE\"    \n",
       "[3841] \"SLAG%TYE\"     \"SLGQGS%E\"     \"S%GGATNEK\"    \"SRQG%SNQP\"   \n",
       "[3845] \"S%NE\"         \"SVK%T\"        \"SMGL%\"        \"%QGQET\"      \n",
       "[3849] \"%QLNEK\"       \"T%TAYG\"       \"S%GYTE\"       \"SP%GSE\"      \n",
       "[3853] \"RD%NQP\"       \"SPG%ET\"       \"RAG%TE\"       \"SPE%NT\"      \n",
       "[3857] \"REGG%P\"       \"TGGS%G\"       \"SVQGY%\"       \"%RQGGTE\"     \n",
       "[3861] \"%GGVNTE\"      \"%RGLNTE\"      \"%QTGNQP\"      \"S%ASTDT\"     \n",
       "[3865] \"S%QQNQP\"      \"S%GIEET\"      \"S%PGAGG\"      \"SH%GDTE\"     \n",
       "[3869] \"SL%GAYE\"      \"SP%QDYG\"      \"SF%VNYG\"      \"RG%GWTE\"     \n",
       "[3873] \"SR%LADE\"      \"SQH%NTE\"      \"RFR%NTE\"      \"SLE%RDT\"     \n",
       "[3877] \"SYP%NTE\"      \"SPL%TYE\"      \"SLSW%TE\"      \"SGQA%ET\"     \n",
       "[3881] \"RGQG%YE\"      \"SSQG%GE\"      \"SPNS%NE\"      \"SVWGG%E\"     \n",
       "[3885] \"SPQGD%E\"      \"%EGDSNQP\"     \"%TGQLNTE\"     \"S%ERGNTE\"    \n",
       "[3889] \"S%TRVNTE\"     \"G%GTTNEK\"     \"R%TGGNYE\"     \"SR%GLGTE\"    \n",
       "[3893] \"SL%TGATE\"     \"SQ%PLNTE\"     \"SL%QPNTE\"     \"SQ%GTGNT\"    \n",
       "[3897] \"SPS%LNTE\"     \"SWG%TNTE\"     \"SQG%GDNE\"     \"SLG%ENYG\"    \n",
       "[3901] \"SED%LNTE\"     \"SWT%GNTE\"     \"SED%GNTE\"     \"SLQ%GNTE\"    \n",
       "[3905] \"SLRD%NQP\"     \"SPDG%TDT\"     \"RTGN%NQP\"     \"SERT%SYE\"    \n",
       "[3909] \"SMGG%NTE\"     \"SQETG%YG\"     \"SSQGR%TE\"     \"SVGDS%YE\"    \n",
       "[3913] \"SYGGGG%E\"     \"STGQGT%E\"     \"SVGQGD%E\"     \"%LGLAGTDT\"   \n",
       "[3917] \"%GQGYSNQP\"    \"S%TGGSNSP\"    \"S%DRGGQET\"    \"SQ%VSSYNE\"   \n",
       "[3921] \"SL%PGRNTE\"    \"SVG%ASSYE\"    \"SEL%GGTDT\"    \"SLE%GGYNE\"   \n",
       "[3925] \"SPR%GANTE\"    \"SLG%GANTE\"    \"SPG%AGSYE\"    \"SLPG%NTGE\"   \n",
       "[3929] \"SPSG%AYNE\"    \"SLSGL%TDT\"    \"SEASG%SYE\"    \"SLAQG%NTE\"   \n",
       "[3933] \"SDSAG%TDT\"    \"SLGGL%NQP\"    \"SLVAG%NTE\"    \"SLE%GSSYNE\"  \n",
       "[3937] \"SYF%E\"        \"S%RGEG\"       \"S%GPPE\"       \"SPP%TE\"      \n",
       "[3941] \"SYR%TE\"       \"SVS%TE\"       \"SP%GLGE\"      \"SY%SSYE\"     \n",
       "[3945] \"SLT%NYG\"      \"RGT%TGE\"      \"SVG%DTE\"      \"SPD%NYG\"     \n",
       "[3949] \"SYR%SYE\"      \"SLD%TYE\"      \"SVVGG%E\"      \"S%GTGDNE\"    \n",
       "[3953] \"SR%RGSYE\"     \"SL%QGSYE\"     \"SQG%SYNE\"     \"SGG%MNTE\"    \n",
       "[3957] \"S%PYE\"        \"SI%YE\"        \"%TGSYG\"       \"%QGDTE\"      \n",
       "[3961] \"SG%SGE\"       \"%GTGGTE\"      \"S%SSTDT\"      \"SRG%SYE\"     \n",
       "[3965] \"SRDR%SYE\"     \"%STDT\"        \"%AGTGE\"       \"%RNTGE\"      \n",
       "[3969] \"S%AGNT\"       \"R%GNQP\"       \"%RQGNTE\"      \"S%GTGNE\"     \n",
       "[3973] \"R%GTDT\"       \"R%QSYE\"       \"SP%STE\"       \"SY%GVE\"      \n",
       "[3977] \"%PGLAYE\"      \"%PGPNTE\"      \"S%RAGNT\"      \"S%GLPYE\"     \n",
       "[3981] \"S%QGYTE\"      \"S%TENYG\"      \"SP%ANTE\"      \"SP%ASYE\"     \n",
       "[3985] \"SQ%LNTE\"      \"SS%GANV\"      \"SGS%NQP\"      \"QQG%NTE\"     \n",
       "[3989] \"SRGT%NE\"      \"SPDR%TE\"      \"SLAG%PE\"      \"SSRG%YG\"     \n",
       "[3993] \"SLRGS%E\"      \"SQVGG%E\"      \"%LAGNTGE\"     \"S%TGDTGE\"    \n",
       "[3997] \"S%GQGNYE\"     \"S%RDRSYE\"     \"S%PGSYNE\"     \"SQG%SSYE\"    \n",
       "[4001] \"SLTG%NQP\"     \"SSSGR%NE\"     \"SVGGS%YE\"     \"SLAGG%SYE\"   \n",
       "[4005] \"SPGLA%YNE\"    \"%ETNTE\"       \"%LGNEK\"       \"SYP%ET\"      \n",
       "[4009] \"SGGP%G\"       \"RDIG%E\"       \"SDGSY%\"       \"SDQGY%\"      \n",
       "[4013] \"%LRENTE\"      \"%DRANTE\"      \"S%NSNQP\"      \"S%GGRGE\"     \n",
       "[4017] \"S%DSYNE\"      \"S%YSNQP\"      \"SW%PSYE\"      \"SF%GPYG\"     \n",
       "[4021] \"SYW%NTE\"      \"SWG%NNE\"      \"SPT%DQP\"      \"SPGM%TE\"     \n",
       "[4025] \"SVWG%TE\"      \"SLRG%GE\"      \"SFDR%QP\"      \"SVDS%NE\"     \n",
       "[4029] \"SYQGA%G\"      \"%RDRGLDE\"     \"%PGQGYEK\"     \"S%ARLNTE\"    \n",
       "[4033] \"S%GGENYG\"     \"T%GALNTE\"     \"SY%RVNTE\"     \"SP%GLDTE\"    \n",
       "[4037] \"SL%GLDTE\"     \"SF%GVGET\"     \"SY%AGGTE\"     \"SP%DLNTE\"    \n",
       "[4041] \"SS%SMNTE\"     \"SS%DLNTE\"     \"SS%GLNQP\"     \"SL%GVVYE\"    \n",
       "[4045] \"SDS%DTGE\"     \"SLP%GNTE\"     \"SPD%GNTE\"     \"SPL%GNYG\"    \n",
       "[4049] \"SWT%MNTE\"     \"SLG%TPYE\"     \"SQS%SGNT\"     \"RTGS%YNE\"    \n",
       "[4053] \"SSQG%TYE\"     \"SSGT%GET\"     \"SLGH%SYE\"     \"SPWT%NTE\"    \n",
       "[4057] \"SFGR%TDT\"     \"SQDR%AYE\"     \"SLGD%NTE\"     \"SFRG%NEK\"    \n",
       "[4061] \"SRVG%YNE\"     \"SIDR%SYE\"     \"SRQGS%NE\"     \"SLGQG%SG\"    \n",
       "[4065] \"SLGDG%YG\"     \"SRVGG%QP\"     \"SIGQGS%E\"     \"SPRTGY%E\"    \n",
       "[4069] \"SLGRQG%E\"     \"%RGDSGANV\"    \"S%SQGAYNE\"    \"S%QTGSGNT\"   \n",
       "[4073] \"S%VGATNEK\"    \"S%SGSLYNE\"    \"SL%GPSGNT\"    \"SL%RASNQP\"   \n",
       "[4077] \"SV%ASSGNT\"    \"SL%GGAGGE\"    \"SI%SSYNSP\"    \"SP%GAGSYE\"   \n",
       "[4081] \"SL%RNSNQP\"    \"SD%TGGYNE\"    \"SPR%SNTGE\"    \"SQS%SSYNE\"   \n",
       "[4085] \"SLE%GSTDT\"    \"SLG%SGNTE\"    \"SLG%GRNTE\"    \"SLGG%VNTE\"   \n",
       "[4089] \"SLGS%STDT\"    \"SPGGA%NTE\"    \"SLGQG%GTE\"    \"SPSTG%NTE\"   \n",
       "[4093] \"SLRLA%YNE\"    \"SPTTG%NTE\"    \"SLVGQG%ET\"    \"SETSGG%DT\"   \n",
       "[4097] \"SPPSGR%YE\"    \"S%PAGGPYNE\"   \"SPRLAGG%TDT\"  \"%RDNE\"       \n",
       "[4101] \"TE%YE\"        \"SFR%T\"        \"SFP%E\"        \"%RQGYG\"      \n",
       "[4105] \"%SMNTE\"       \"S%SGSG\"       \"SL%AGE\"       \"SR%YNE\"      \n",
       "[4109] \"SP%RDT\"       \"SD%DYG\"       \"SFGS%E\"       \"SPPGG%\"      \n",
       "[4113] \"S%DREYE\"      \"S%GRVYE\"      \"S%DRPYE\"      \"S%TGTYE\"     \n",
       "[4117] \"SV%GAGE\"      \"SL%PSYE\"      \"SLV%GSE\"      \"SSSGG%E\"     \n",
       "[4121] \"S%DRGRNE\"     \"S%DSSYNE\"     \"SL%GAYNE\"     \"SS%GSYNE\"    \n",
       "[4125] \"SVG%GNTE\"     \"RG%NYG\"       \"S%SYG\"        \"S%GGVE\"      \n",
       "[4129] \"SVAG%E\"       \"S%GGPYE\"      \"S%GGNYG\"      \"SDRG%GE\"     \n",
       "[4133] \"SPRG%GE\"      \"R%YNE\"        \"SAG%E\"        \"%DGPYE\"      \n",
       "[4137] \"S%VTYE\"       \"SDR%DT\"       \"SYS%NE\"       \"%PGMNTE\"     \n",
       "[4141] \"%DRGGEK\"      \"S%RGNEK\"      \"R%EMNTE\"      \"SV%SNTE\"     \n",
       "[4145] \"SL%SGNE\"      \"SV%GGDE\"      \"SL%RDTE\"      \"SQGL%YE\"     \n",
       "[4149] \"SAGT%NE\"      \"SRGQ%YG\"      \"SFGG%TE\"      \"S%DRVNTE\"    \n",
       "[4153] \"RPG%NTGE\"     \"AGT%NTGE\"     \"SVG%SSYE\"     \"SPSG%TDT\"    \n",
       "[4157] \"SGGQG%TE\"     \"SLVAGG%E\"     \"SGTSGR%E\"     \"SPGQG%TGE\"   \n",
       "[4161] \"SPGTSGS%E\"    \"DIWN\"         \"SGTG%YE\"      \"SL%PE\"       \n",
       "[4165] \"SSAY%\"        \"SQVD%\"        \"QGGE%\"        \"S%AGNE\"      \n",
       "[4169] \"S%ANYG\"       \"SQ%TTE\"       \"SYE%TE\"       \"SRG%YG\"      \n",
       "[4173] \"SIG%EK\"       \"SDLN%E\"       \"SHRT%E\"       \"SPQGN%\"      \n",
       "[4177] \"SERGY%\"       \"%QGGNTE\"      \"%FRGNTE\"      \"S%YKNTE\"     \n",
       "[4181] \"S%SGVAE\"      \"S%VGANV\"      \"SP%VEET\"      \"SY%DYNE\"     \n",
       "[4185] \"SQ%LGQP\"      \"SP%GTDE\"      \"SSG%VTE\"      \"SYV%GYE\"     \n",
       "[4189] \"TGP%NEK\"      \"SYG%EET\"      \"RGEG%QP\"      \"SIDR%YG\"     \n",
       "[4193] \"SPRD%TE\"      \"SSDS%QP\"      \"SLES%YG\"      \"SLAP%YG\"     \n",
       "[4197] \"SPTP%TE\"      \"SRRE%TE\"      \"SYRGD%E\"      \"SYSSA%E\"     \n",
       "[4201] \"SWGGS%E\"      \"SRTGY%E\"      \"SLTGGY%\"      \"%SGGDYNE\"    \n",
       "[4205] \"S%QLSNQP\"     \"S%TTGYNE\"     \"S%RSGNTE\"     \"S%AGPGNT\"    \n",
       "[4209] \"S%GSAKNI\"     \"SL%DRNQP\"     \"SL%GTSNE\"     \"SP%GFTDT\"    \n",
       "[4213] \"RL%GGNQP\"     \"SL%GDGYE\"     \"SL%RGGEK\"     \"SLR%GDQP\"    \n",
       "[4217] \"SRG%NNQP\"     \"SLR%VNTE\"     \"SHG%MNTE\"     \"SLQ%MNTE\"    \n",
       "[4221] \"SAG%DTDT\"     \"SPLQ%NTE\"     \"SPAR%NTE\"     \"SGGG%GTE\"    \n",
       "[4225] \"SLAR%NTE\"     \"SIGR%NTE\"     \"SSTG%RTE\"     \"SYDR%SYE\"    \n",
       "[4229] \"SFPG%NTE\"     \"SQVG%NTE\"     \"SLGG%PYG\"     \"SIDRG%YE\"    \n",
       "[4233] \"SYGAG%YE\"     \"SLGGN%YE\"     \"STSGGP%E\"     \"SLQGGG%E\"    \n",
       "[4237] \"%PGLASYNE\"    \"S%RGPGANV\"    \"S%RDRRNTE\"    \"S%GGPMNTE\"   \n",
       "[4241] \"S%TSGGINE\"    \"S%EGNSNQP\"    \"SS%TGMNTE\"    \"SV%TGSGNT\"   \n",
       "[4245] \"SL%SGYTDT\"    \"SI%SGSYNE\"    \"SP%GAGNTE\"    \"SQ%DRGNTE\"   \n",
       "[4249] \"SY%GATNEK\"    \"SL%GQSTDT\"    \"SL%AGMNTE\"    \"SPG%GGTGE\"   \n",
       "[4253] \"SLE%GSYNE\"    \"SQD%RGNQP\"    \"SLR%GGNTE\"    \"SLG%GGQET\"   \n",
       "[4257] \"SPR%ASTDT\"    \"SLG%ASGNT\"    \"SLG%PTNEK\"    \"SVG%DSNQP\"   \n",
       "[4261] \"SLGA%SSYE\"    \"SLSG%GYNE\"    \"SPTG%TNEK\"    \"SLGGR%NEK\"   \n",
       "[4265] \"SLVQG%YNE\"    \"SSRLA%YNE\"    \"SESGR%TDT\"    \"SLVAG%TGE\"   \n",
       "[4269] \"SLGGGA%DT\"    \"SRPGQG%EK\"    \"SFRTSG%NE\"    \"SL%GGLSTDT\"  \n",
       "[4273] \"SLLG%SSYNE\"   \"SSTG%SGANV\"   \"S%DEK\"        \"SYA%E\"       \n",
       "[4277] \"KT%NTE\"       \"SL%VDE\"       \"SVSG%G\"       \"%GGGGTE\"     \n",
       "[4281] \"%QGPSYE\"      \"R%ASNQP\"      \"SEQ%NTE\"      \"SVS%YNE\"     \n",
       "[4285] \"RLG%NTE\"      \"SEGQG%G\"      \"SAG%SSYE\"     \"SEG%GTDT\"    \n",
       "[4289] \"SDRG%NTE\"     \"%DSYG\"        \"%TGNYG\"       \"RQG%YE\"      \n",
       "[4293] \"RT%MNTE\"      \"S%GTGGNE\"     \"%QGGTE\"       \"SS%YNE\"      \n",
       "[4297] \"SRDS%E\"       \"S%RGTDT\"      \"SQG%SYE\"      \"ST%DT\"       \n",
       "[4301] \"R%EGTE\"       \"S%TTYE\"       \"S%ADYE\"       \"SP%NNE\"      \n",
       "[4305] \"SL%RET\"       \"SLG%DG\"       \"SGV%NE\"       \"SQGN%E\"      \n",
       "[4309] \"SPSG%T\"       \"SP%DSYE\"      \"SE%ANTE\"      \"REQG%TE\"     \n",
       "[4313] \"S%GHSNQP\"     \"S%RQGNQP\"     \"S%GRGSYE\"     \"SL%GGGNE\"    \n",
       "[4317] \"SRGQ%NQP\"     \"SFGTG%NE\"     \"S%GTGNTGE\"    \"%PGQE\"       \n",
       "[4321] \"S%GIDT\"       \"S%GGDE\"       \"RPS%DT\"       \"SFG%QG\"      \n",
       "[4325] \"SVN%DT\"       \"STRR%E\"       \"SGDN%E\"       \"%EGRGTE\"     \n",
       "[4329] \"%VAGNTE\"      \"%PGAGET\"      \"%DRGGGE\"      \"S%DGGET\"     \n",
       "[4333] \"P%GMNTE\"      \"SL%QSYG\"      \"SH%TGYE\"      \"RS%ANYG\"     \n",
       "[4337] \"SK%ENTE\"      \"SYS%GDG\"      \"SIV%GTE\"      \"SLD%DYG\"     \n",
       "[4341] \"SFS%PYE\"      \"SKS%NTE\"      \"SLAL%GG\"      \"SQVG%YG\"     \n",
       "[4345] \"SLLG%ET\"      \"SPWG%YE\"      \"SPPS%ET\"      \"SPSV%YE\"     \n",
       "[4349] \"RLGT%YE\"      \"RNTG%TE\"      \"SLEGD%E\"      \"%EGQGAYE\"    \n",
       "[4353] \"S%NSNTGE\"     \"S%VQGNTE\"     \"S%GQGKTE\"     \"S%RLAAGE\"    \n",
       "[4357] \"SP%STNEK\"     \"SP%TGRYE\"     \"SP%RRNTE\"     \"SQ%TSGNT\"    \n",
       "[4361] \"SQG%GDYE\"     \"SFG%ANTE\"     \"SGL%GYNE\"     \"SLS%GNYG\"    \n",
       "[4365] \"SLA%ANTE\"     \"SPL%RNTE\"     \"SLG%ITDT\"     \"SSG%LNQP\"    \n",
       "[4369] \"SLE%GNQP\"     \"SSG%GSTE\"     \"SFR%GNTE\"     \"SLL%GQET\"    \n",
       "[4373] \"SVG%AKNI\"     \"SQR%GNTE\"     \"SQT%NTGE\"     \"SLG%AEET\"    \n",
       "[4377] \"RTGP%TDT\"     \"SLKG%NSP\"     \"SIGG%GTE\"     \"SLRT%YNE\"    \n",
       "[4381] \"SQEG%NTE\"     \"SSDR%NEK\"     \"SPTTG%TE\"     \"SVGLA%ET\"    \n",
       "[4385] \"SYSGG%ET\"     \"SLTGD%YE\"     \"SLRGS%NE\"     \"RPTGG%YE\"    \n",
       "[4389] \"SLRTS%YE\"     \"SYSGTS%E\"     \"S%GQGAQET\"    \"S%TSGGRNE\"   \n",
       "[4393] \"S%ASGGADT\"    \"SL%GTGNTE\"    \"SL%GGYNSP\"    \"SV%GTGAYE\"   \n",
       "[4397] \"SL%GALNTE\"    \"SP%TSGGGE\"    \"SL%GGGGNT\"    \"SL%GTSSYE\"   \n",
       "[4401] \"SVA%GSYNE\"    \"SLE%SGSYE\"    \"SVG%GGTGE\"    \"SSL%SSYNE\"   \n",
       "[4405] \"SLV%GNTGE\"    \"SLGG%DTGE\"    \"SLGG%LNTE\"    \"SYSG%LNTE\"   \n",
       "[4409] \"SLDG%SYNE\"    \"SSPG%GNTE\"    \"SLDR%MNTE\"    \"STTG%SNQP\"   \n",
       "[4413] \"SASGS%YNE\"    \"SYGQG%YNE\"    \"SLGGL%TGE\"    \"SLQGA%TDT\"   \n",
       "[4417] \"SLVGQG%EK\"    \"SLAGGT%NE\"    \"SLSGTG%TE\"    \"SLGLAGY%E\"   \n",
       "[4421] \"S%TSGGLYNE\"   \"SPRLAG%QET\"   \"S%SRGE\"       \"S%RGET\"      \n",
       "[4425] \"RR%TGE\"       \"SQGS%E\"       \"%QGANTE\"      \"S%TGSYE\"     \n",
       "[4429] \"S%RDT\"        \"%PGGYG\"       \"R%GSDT\"       \"S%GEYE\"      \n",
       "[4433] \"RS%GTE\"       \"SPG%GR\"       \"%GQYNSP\"      \"S%RANTE\"     \n",
       "[4437] \"S%LGNTE\"      \"S%GGKET\"      \"GR%LNTE\"      \"SLG%DTE\"     \n",
       "[4441] \"SLA%TDT\"      \"SSRG%TE\"      \"S%GAGNTE\"     \"S%GGATDT\"    \n",
       "[4445] \"S%AGGPNE\"     \"SD%GGTDT\"     \"SP%SSGNT\"     \"SGLA%TDT\"    \n",
       "[4449] \"SLGQGV%E\"     \"S%TGGSYNE\"    \"SLAGG%YNE\"    \"SPLAGG%NE\"   \n",
       "[4453] \"G%TGE\"        \"SG%GYG\"       \"SRG%YNE\"      \"SLGTG%E\"     \n",
       "[4457] \"SQDRG%E\"      \"S%RAGE\"       \"SSG%GE\"       \"%VGGE\"       \n",
       "[4461] \"SF%TE\"        \"LQG%E\"        \"%GGTYE\"       \"%GENTE\"      \n",
       "[4465] \"S%RTDT\"       \"S%ANTE\"       \"ST%SYE\"       \"SVG%YE\"      \n",
       "[4469] \"SVR%GE\"       \"SRGT%E\"       \"S%GASYE\"      \"S%GGYNE\"     \n",
       "[4473] \"GT%SYNE\"      \"%EGDE\"        \"SSST%\"        \"SY%PDT\"      \n",
       "[4477] \"SY%PGE\"       \"SEV%YE\"       \"KGG%YE\"       \"SYPD%E\"      \n",
       "[4481] \"SSTGN%\"       \"SPRGY%\"       \"SIGGR%\"       \"SFGGQ%\"      \n",
       "[4485] \"%PGVGTE\"      \"%LDGNTE\"      \"S%IGYNE\"      \"S%GGYTE\"     \n",
       "[4489] \"E%DRGYE\"      \"S%NVNTE\"      \"S%GQRTE\"      \"S%GDYNE\"     \n",
       "[4493] \"S%GGLTE\"      \"S%ARGGE\"      \"S%GPPYG\"      \"SV%ANTE\"     \n",
       "[4497] \"SV%GWTE\"      \"QT%MNTE\"      \"RS%MNTE\"      \"SP%VPYE\"     \n",
       "[4501] \"SL%GPET\"      \"SF%GYTE\"      \"SKD%NQP\"      \"SKG%NTE\"     \n",
       "[4505] \"PDR%SYE\"      \"RGE%NSP\"      \"SWA%NTE\"      \"SLGP%RG\"     \n",
       "[4509] \"SVGR%DT\"      \"SFQG%ET\"      \"SQER%TE\"      \"STTGT%E\"     \n",
       "[4513] \"SIGGT%E\"      \"SLALD%E\"      \"SLGTGN%\"      \"%RGPMNTE\"    \n",
       "[4517] \"S%RTGHTE\"     \"S%SGATGE\"     \"R%AGGYNE\"     \"S%TGGQET\"    \n",
       "[4521] \"S%GTGGYG\"     \"S%GGQPYE\"     \"S%SGRLYE\"     \"S%GGDSYE\"    \n",
       "[4525] \"S%DRGGYE\"     \"S%TGGETE\"     \"S%LQGQET\"     \"S%LTGDTE\"    \n",
       "[4529] \"SF%GRSYE\"     \"SS%GQNYG\"     \"SP%GANEK\"     \"SF%GVNTE\"    \n",
       "[4533] \"SY%GGQET\"     \"SP%QMNTE\"     \"SP%GGNQP\"     \"SE%PSSYE\"    \n",
       "[4537] \"SL%AAGNT\"     \"SS%GFSYE\"     \"SLV%NTGE\"     \"SFS%GTDT\"    \n",
       "[4541] \"SQG%STDT\"     \"SLV%QGNE\"     \"SRD%GGNE\"     \"SLA%LNTE\"    \n",
       "[4545] \"SLE%NTGE\"     \"SPA%GNTE\"     \"SLG%QNTE\"     \"SQT%SGNT\"    \n",
       "[4549] \"SQG%TGNT\"     \"SLVA%TDT\"     \"SWGQ%NTE\"     \"SYSG%NQP\"    \n",
       "[4553] \"SLGQ%GTE\"     \"SPRV%NTE\"     \"SLRD%QET\"     \"SPLGG%TE\"    \n",
       "[4557] \"SLGDR%YG\"     \"SSGTS%DT\"     \"SKGTG%YE\"     \"SLEAG%TE\"    \n",
       "[4561] \"SQGLAG%E\"     \"SLGTSG%E\"     \"SYGQGV%E\"     \"S%AGSSYNE\"   \n",
       "[4565] \"S%TGTGFYE\"    \"S%RDRVNTE\"    \"S%TGGRNTE\"    \"S%RTGGDYG\"   \n",
       "[4569] \"S%SAGAYNE\"    \"SL%DSGANV\"    \"SL%SGRTDT\"    \"SL%TSGNNE\"   \n",
       "[4573] \"SD%AGGQET\"    \"SP%TGGGTE\"    \"SY%GGNTGE\"    \"SL%GDSTDT\"   \n",
       "[4577] \"SL%GYSYNE\"    \"SS%GANTGE\"    \"SP%TGGNTE\"    \"SLG%GPYNE\"   \n",
       "[4581] \"SQE%SSYNE\"    \"SPTG%GNTE\"    \"SLGT%SGNT\"    \"SPGD%SNQP\"   \n",
       "[4585] \"SQGTG%TDT\"    \"SQDRG%TGE\"    \"SSRDR%TDT\"    \"SLSGR%TDT\"   \n",
       "[4589] \"SLEGG%TDT\"    \"SLTSG%AGE\"    \"SLGLAGT%E\"    \"SL%SGSSYNE\"  \n",
       "[4593] \"SLRG%SSYNE\"   \"RG%YNE\"       \"%PNTE\"        \"%AGTE\"       \n",
       "[4597] \"S%GNT\"        \"SA%TE\"        \"S%DRGE\"       \"S%VGGG\"      \n",
       "[4601] \"S%SRDT\"       \"S%GYYG\"       \"S%DGNT\"       \"VG%SYE\"      \n",
       "[4605] \"LTG%TE\"       \"%TGDSYE\"      \"S%AVNTE\"      \"S%AGANV\"     \n",
       "[4609] \"LA%NTGE\"      \"SQ%SSYE\"      \"SYGG%GE\"      \"GQGA%YG\"     \n",
       "[4613] \"SLGL%NE\"      \"SGTGA%E\"      \"SSGQG%G\"      \"S%DRGNSP\"    \n",
       "[4617] \"SPGQG%DT\"     \"SVGQG%GE\"     \"S%GRSSYNE\"    \"SPTSG%YNE\"   \n",
       "[4621] \"%LGGE\"        \"S%SDT\"        \"S%SAGE\"       \"SRGR%E\"      \n",
       "[4625] \"SLGR%E\"       \"SR%TE\"        \"SP%DE\"        \"SDG%E\"       \n",
       "[4629] \"SLRD%\"        \"%TLGTE\"       \"S%GSHG\"       \"S%GLYE\"      \n",
       "[4633] \"SY%STE\"       \"STL%TE\"       \"DGGG%E\"       \"SPTGY%\"      \n",
       "[4637] \"R%GGETE\"      \"S%EDTGE\"      \"E%TGNTE\"      \"KD%LNTE\"     \n",
       "[4641] \"SF%SPYE\"      \"SS%PTYE\"      \"SY%ASYE\"      \"SL%FYNE\"     \n",
       "[4645] \"SIE%NTE\"      \"SLS%RET\"      \"SSG%FYG\"      \"SIA%NTE\"     \n",
       "[4649] \"TGT%NTE\"      \"SFGV%YE\"      \"SGLG%ET\"      \"STGP%NE\"     \n",
       "[4653] \"SYRQ%YE\"      \"SPRR%TE\"      \"RWTG%YE\"      \"SPNRV%E\"     \n",
       "[4657] \"SQDRT%E\"      \"SLRGN%E\"      \"SGLAG%E\"      \"SLDRGY%\"     \n",
       "[4661] \"SSGQGD%\"      \"%PGGLNTE\"     \"%LGSSGNT\"     \"S%DGVNTE\"    \n",
       "[4665] \"S%YSSGNT\"     \"S%AGRGTE\"     \"S%SSGGTE\"     \"S%QGQNTE\"    \n",
       "[4669] \"SP%SGNQP\"     \"SY%TGNTE\"     \"SI%YSNQP\"     \"SL%TLNTE\"    \n",
       "[4673] \"SP%GEGTE\"     \"SL%AGNQP\"     \"SA%TENTE\"     \"SF%SGTDT\"    \n",
       "[4677] \"SL%PLNTE\"     \"SYS%LNTE\"     \"SLG%ANQP\"     \"SLS%GNQP\"    \n",
       "[4681] \"STG%GYNE\"     \"SLT%PNTE\"     \"SLR%GDTE\"     \"SDS%GANV\"    \n",
       "[4685] \"SFTG%NSP\"     \"SEWG%NTE\"     \"SFSG%PYE\"     \"SSQG%GTE\"    \n",
       "[4689] \"SLGQ%IYE\"     \"SVSG%AYE\"     \"SFGG%NSP\"     \"SYLAG%YE\"    \n",
       "[4693] \"SSTGG%SP\"     \"SRQGL%TE\"     \"SPRQG%ET\"     \"SLGRG%ET\"    \n",
       "[4697] \"SSTGG%EK\"     \"SQETG%YE\"     \"SAGQGV%E\"     \"S%SGDSGNT\"   \n",
       "[4701] \"S%AGTGNEK\"    \"S%DSNSNQP\"    \"SL%TGGNTE\"    \"SD%GGAYNE\"   \n",
       "[4705] \"SY%SSGANV\"    \"SL%GGYTDT\"    \"SLA%GGTGE\"    \"SQG%GSGNT\"   \n",
       "[4709] \"SVL%SGANV\"    \"SLG%PSYNE\"    \"SIQG%SNQP\"    \"SRAG%SNQP\"   \n",
       "[4713] \"SLDS%SGNT\"    \"SLQG%STDT\"    \"SPGGR%NTE\"    \"SFSGS%YNE\"   \n",
       "[4717] \"SQGTG%NYG\"    \"SEGGG%NQP\"    \"SL%SGGSYNE\"   \"SL%GLAGTDT\"  \n",
       "[4721] \"S%PSE\"        \"S%VGDT\"       \"G%GGEK\"       \"P%STDT\"      \n",
       "[4725] \"SQGSG%\"       \"%ASGSYE\"      \"%RGRDTE\"      \"S%VGTDT\"     \n",
       "[4729] \"S%TGGQP\"      \"R%QGDTE\"      \"S%TVSYE\"      \"R%QLNTE\"     \n",
       "[4733] \"SL%GRDE\"      \"SLV%TGE\"      \"SGQ%TGE\"      \"SETG%TE\"     \n",
       "[4737] \"SVVG%GE\"      \"SLGP%YE\"      \"SETG%YE\"      \"SPGG%DT\"     \n",
       "[4741] \"SEQG%TE\"      \"SGRG%TE\"      \"RGQGS%E\"      \"S%RGGSYE\"    \n",
       "[4745] \"S%GQGVGE\"     \"SR%ATNEK\"     \"SPG%GGYE\"     \"SAGG%TDT\"    \n",
       "[4749] \"S%GPSSYNE\"    \"S%VGE\"        \"SLTG%E\"       \"S%NEK\"       \n",
       "[4753] \"%DSNQP\"       \"S%RSYE\"       \"SAG%YE\"       \"SWG%GE\"      \n",
       "[4757] \"TGQ%NTE\"      \"SSG%YNE\"      \"SQSG%\"        \"E%GSYE\"      \n",
       "[4761] \"SA%TYE\"       \"RR%NEK\"       \"SP%RYE\"       \"SRV%TE\"      \n",
       "[4765] \"S%DRATE\"      \"S%GLADE\"      \"GL%SYNE\"      \"SK%GNTE\"     \n",
       "[4769] \"DRG%NQP\"      \"RGA%TDT\"      \"SVG%GNT\"      \"SPRG%TE\"     \n",
       "[4773] \"SSTG%TE\"      \"SSRG%YE\"      \"STGG%QP\"      \"SLGG%AE\"     \n",
       "[4777] \"SEGGG%E\"      \"S%GRGTDT\"     \"S%DRSSYE\"     \"SPGQ%SYE\"    \n",
       "[4781] \"SGTGG%QP\"     \"S%PGYE\"       \"SEGG%G\"       \"S%DRGTE\"     \n",
       "[4785] \"SRTG%YE\"      \"RRN%\"         \"LLN%E\"        \"%LAGSE\"      \n",
       "[4789] \"S%DDYE\"       \"SS%YYG\"       \"SF%RET\"       \"SA%VNE\"      \n",
       "[4793] \"TR%TYE\"       \"SRPN%E\"       \"S%RTVNE\"      \"S%SWGTE\"     \n",
       "[4797] \"S%DLGQP\"      \"R%GARTE\"      \"SM%GGTE\"      \"SF%VSYE\"     \n",
       "[4801] \"SS%GYYG\"      \"SQ%YTGE\"      \"SL%PGQP\"      \"SI%TNTE\"     \n",
       "[4805] \"SFA%TDT\"      \"SLG%HTE\"      \"SSG%TYG\"      \"SPT%DYG\"     \n",
       "[4809] \"SRG%EYE\"      \"SGDS%QP\"      \"SFGG%RE\"      \"SRTGF%E\"     \n",
       "[4813] \"SPTGN%E\"      \"EGQGG%E\"      \"%SGQGTYE\"     \"S%GQTGNT\"    \n",
       "[4817] \"S%AGRQET\"     \"S%GLGTYE\"     \"S%GTNYNE\"     \"S%DSRTDT\"    \n",
       "[4821] \"S%GGAPDT\"     \"S%GPTNTE\"     \"S%SGITDT\"     \"S%DSPNTE\"    \n",
       "[4825] \"SP%SSSYE\"     \"SL%PMNTE\"     \"SP%GENYG\"     \"SL%QGSTE\"    \n",
       "[4829] \"SL%VGAGE\"     \"SV%LSTDT\"     \"SE%RANTE\"     \"SLN%LNTE\"    \n",
       "[4833] \"SLD%LNTE\"     \"SLG%GGQP\"     \"SIG%MNTE\"     \"SLS%GNTE\"    \n",
       "[4837] \"SPR%GRET\"     \"SLQ%NTGE\"     \"SQV%SSYE\"     \"SLV%GTDT\"    \n",
       "[4841] \"SQDR%NEK\"     \"SLER%SYE\"     \"SSRG%DTE\"     \"SLVG%QET\"    \n",
       "[4845] \"SFSG%GNT\"     \"SPRTG%QP\"     \"SLAEG%YE\"     \"SLGGV%TE\"    \n",
       "[4849] \"SFGTA%YE\"     \"SLEGG%TE\"     \"SPQGG%TE\"     \"SLGGD%YE\"    \n",
       "[4853] \"SLGQG%DG\"     \"SQDRGA%E\"     \"SFGGGA%E\"     \"SGTGGR%E\"    \n",
       "[4857] \"S%GTGYNQP\"    \"SL%GPNTGE\"    \"SL%GLNTGE\"    \"SP%ESSYNE\"   \n",
       "[4861] \"SLG%GGTYE\"    \"SRG%GMNTE\"    \"SLVG%STDT\"    \"SPQG%SYNE\"   \n",
       "[4865] \"SVGG%SSYE\"    \"SPPG%GSYE\"    \"SQDR%SNQP\"    \"SLVG%SGNT\"   \n",
       "[4869] \"SELAG%QET\"    \"SRTGG%NTE\"    \"SLLSG%YNE\"    \"SLGQGA%TE\"   \n",
       "[4873] \"R%GDTE\"       \"SL%VYE\"       \"SL%LYE\"       \"SLA%DT\"      \n",
       "[4877] \"SPPG%T\"       \"SLRT%E\"       \"%GTMNTE\"      \"S%SGGET\"     \n",
       "[4881] \"S%LGTDT\"      \"SG%SYNE\"      \"SP%GPGE\"      \"SI%GTGE\"     \n",
       "[4885] \"SRTG%ET\"      \"SRQG%ET\"      \"RLAGG%E\"      \"SPDRA%E\"     \n",
       "[4889] \"RG%GGTDT\"     \"SVGG%SYE\"     \"SLAG%TGE\"     \"RD%YE\"       \n",
       "[4893] \"SP%GRE\"       \"SGG%NQP\"      \"%AGNYG\"       \"S%ISYE\"      \n",
       "[4897] \"SQ%TDT\"       \"SR%RYE\"       \"SGR%YG\"       \"TQG%YG\"      \n",
       "[4901] \"%RGLGTE\"      \"%QGRNTE\"      \"S%SSGYE\"      \"SP%QGGE\"     \n",
       "[4905] \"SR%RNTE\"      \"RDS%TGE\"      \"SPDR%YE\"      \"SPDR%GE\"     \n",
       "[4909] \"SLGGL%E\"      \"S%AGGNQP\"     \"SE%GSSYE\"     \"SRD%SSYE\"    \n",
       "[4913] \"SPGQGS%E\"     \"%RET\"         \"SLE%E\"        \"%DGNTE\"      \n",
       "[4917] \"%GAGNT\"       \"S%GNYE\"       \"G%EGYE\"       \"SF%VNE\"      \n",
       "[4921] \"SLL%GE\"       \"SIGG%T\"       \"AGGR%E\"       \"SRLS%E\"      \n",
       "[4925] \"SQDRG%\"       \"SPQGY%\"       \"SIGGT%\"       \"%SGQTYE\"     \n",
       "[4929] \"%RGGNTE\"      \"%ASNTGE\"      \"%LDRNTE\"      \"%ASTNEK\"     \n",
       "[4933] \"%QVSGNT\"      \"S%DHSYE\"      \"S%LRDQP\"      \"S%SSGNT\"     \n",
       "[4937] \"RG%GNQP\"      \"SP%SNSP\"      \"SL%ENQP\"      \"SL%TVYE\"     \n",
       "[4941] \"SQ%GNSP\"      \"SQV%YNE\"      \"SPR%EGE\"      \"SLV%GYG\"     \n",
       "[4945] \"SYS%NSP\"      \"SPP%RET\"      \"SSGG%YE\"      \"SLVG%EK\"     \n",
       "[4949] \"SLGW%TE\"      \"SYPG%NE\"      \"SIAG%TE\"      \"SYPG%TE\"     \n",
       "[4953] \"SVTG%AE\"      \"SLVQ%YE\"      \"SQDL%QP\"      \"SYQG%YE\"     \n",
       "[4957] \"SYSS%GG\"      \"SEYRG%E\"      \"SEAGS%E\"      \"SPDRGL%\"     \n",
       "[4961] \"T%GRMNTE\"     \"S%STNTGE\"     \"S%RQGAET\"     \"S%ARGNTE\"    \n",
       "[4965] \"S%RQGRET\"     \"S%KGMNTE\"     \"S%SFSGNT\"     \"S%ADSNQP\"    \n",
       "[4969] \"S%TEMNTE\"     \"S%GGTTYE\"     \"SL%AGYNE\"     \"SE%RMNTE\"    \n",
       "[4973] \"SR%RLNTE\"     \"SF%GTNYG\"     \"SL%TGGNT\"     \"SP%GRNYG\"    \n",
       "[4977] \"SL%GNNQP\"     \"SQ%QGNTE\"     \"SV%GYTGE\"     \"SG%RSGNT\"    \n",
       "[4981] \"SY%GLNTE\"     \"SR%LSNQP\"     \"SL%ADSYE\"     \"SP%AMNTE\"    \n",
       "[4985] \"SL%TGNSP\"     \"SLV%GNYG\"     \"SLG%RAYE\"     \"SRG%ENTE\"    \n",
       "[4989] \"SLD%YNSP\"     \"SEG%DTGE\"     \"SVG%DSYE\"     \"SSR%MNTE\"    \n",
       "[4993] \"SQV%GSYE\"     \"SPLG%TGE\"     \"SQDS%NTE\"     \"SFGG%GTE\"    \n",
       "[4997] \"SLGS%NYG\"     \"SQGG%GNT\"     \"SLGRG%DT\"     \"SGTGG%SP\"    \n",
       "[5001] \"SPTGG%EK\"     \"SPGQG%VE\"     \"SRGTG%ET\"     \"SLAGT%TE\"    \n",
       "[5005] \"SSRGG%TE\"     \"SLGGS%QP\"     \"SLGRGS%E\"     \"S%GGTANTE\"   \n",
       "[5009] \"S%GTGRNSP\"    \"S%GAGGYNE\"    \"S%DRGTGNT\"    \"S%QGNSNQP\"   \n",
       "[5013] \"SP%TSGYNE\"    \"SL%LAGYNE\"    \"SL%RGGNQP\"    \"SV%GTSTDT\"   \n",
       "[5017] \"SL%GASGNT\"    \"SL%GFSNQP\"    \"SL%TGAGNT\"    \"SP%QGMNTE\"   \n",
       "[5021] \"SLG%PSTDT\"    \"SLDG%SNQP\"    \"SLGLA%TGE\"    \"SLGQG%GNT\"   \n",
       "[5025] \"SLDRG%YNE\"    \"SLTGG%TGE\"    \"SKGLAG%YE\"    \"SSTGTG%YE\"   \n",
       "[5029] \"SP%LAGGPNE\"   \"SS%LAGGTDT\"   \"%LGDE\"        \"S%QRE\"       \n",
       "[5033] \"S%GYG\"        \"SNG%E\"        \"SLGG%\"        \"%TGDTE\"      \n",
       "[5037] \"%VGSTE\"       \"E%AGNT\"       \"S%QGET\"       \"S%SGGE\"      \n",
       "[5041] \"S%VQET\"       \"NG%SYE\"       \"RD%SYE\"       \"RS%PYE\"      \n",
       "[5045] \"SE%EYE\"       \"SY%GSE\"       \"SQ%LDE\"       \"SLD%EK\"      \n",
       "[5049] \"RTG%TE\"       \"SLQ%QP\"       \"SYS%DT\"       \"SFGG%G\"      \n",
       "[5053] \"GREG%E\"       \"SIRG%G\"       \"SYQG%E\"       \"SWQG%E\"      \n",
       "[5057] \"SLTGT%\"       \"SQGAG%\"       \"%NRNTGE\"      \"%AGTNTE\"     \n",
       "[5061] \"%LGANTE\"      \"%GTENSP\"      \"S%GPSYE\"      \"S%DTAYE\"     \n",
       "[5065] \"S%DRGET\"      \"S%SITGE\"      \"S%GGDYE\"      \"S%GQGRG\"     \n",
       "[5069] \"S%PGANV\"      \"S%TGTGE\"      \"SL%RRYE\"      \"SF%ENTE\"     \n",
       "[5073] \"SE%GNYG\"      \"SP%NQET\"      \"SL%EGET\"      \"MG%GNTE\"     \n",
       "[5077] \"ST%YTGE\"      \"SP%GPET\"      \"SP%VTDT\"      \"SD%LTGE\"     \n",
       "[5081] \"SQ%WNTE\"      \"SQE%NTE\"      \"SPL%GDT\"      \"SLW%GTE\"     \n",
       "[5085] \"SRD%NSP\"      \"SPR%GYE\"      \"SLD%DTE\"      \"RGP%GTE\"     \n",
       "[5089] \"SQD%GQP\"      \"VTG%NQP\"      \"SYG%GNT\"      \"SYGR%YE\"     \n",
       "[5093] \"GTGG%TE\"      \"SRDS%SP\"      \"SLGR%TE\"      \"SFTG%YG\"     \n",
       "[5097] \"SSTS%YE\"      \"SYRE%TE\"      \"SYGP%YE\"      \"SLGR%NE\"     \n",
       "[5101] \"SDRD%TE\"      \"SQDRG%G\"      \"SYVGG%E\"      \"SPGAG%T\"     \n",
       "[5105] \"S%SGGYNE\"     \"S%PGPYNE\"     \"S%SRVNTE\"     \"S%GTNSYE\"    \n",
       "[5109] \"S%GGGQET\"     \"SL%AGEET\"     \"SL%QMNTE\"     \"SL%GEGYE\"    \n",
       "[5113] \"SY%DSSYE\"     \"SW%SSYNE\"     \"SL%VNTGE\"     \"SL%GTPYE\"    \n",
       "[5117] \"SL%TGVNE\"     \"SV%GSNYG\"     \"SL%GNNSP\"     \"SRD%NTGE\"    \n",
       "[5121] \"SLS%GTDT\"     \"SRL%GNTE\"     \"SQD%GAYE\"     \"SQE%GSYE\"    \n",
       "[5125] \"SLG%YQET\"     \"SLL%GPYE\"     \"SLG%LNQP\"     \"SLG%DSYE\"    \n",
       "[5129] \"SLA%SNQP\"     \"SLG%AGET\"     \"SLG%NSYE\"     \"SLSG%NQP\"    \n",
       "[5133] \"TRGG%NTE\"     \"SGGG%NSP\"     \"SLGT%NNE\"     \"SVDR%NQP\"    \n",
       "[5137] \"SLGT%TYE\"     \"RGQG%SYE\"     \"SLEG%GTE\"     \"SPAG%NTE\"    \n",
       "[5141] \"SLGG%GEK\"     \"SEGQG%YE\"     \"SVGTG%ET\"     \"SVGLA%YE\"    \n",
       "[5145] \"SLQGA%EK\"     \"SRGQGL%E\"     \"S%GQASGNT\"    \"S%GTANTGE\"   \n",
       "[5149] \"S%TLSSYNE\"    \"SL%GGTYNE\"    \"SL%SGGTGE\"    \"SL%SGAYNE\"   \n",
       "[5153] \"SR%GTSTDT\"    \"SPR%SYNSP\"    \"SEGG%GANV\"    \"SLQG%NTGE\"   \n",
       "[5157] \"SLAG%SGNT\"    \"RPGTG%NQP\"    \"SLSGS%YNE\"    \"SSRQG%NTE\"   \n",
       "[5161] \"SLTSG%QET\"    \"SSGQG%NSP\"    \"SLEGQG%NE\"    \"SYGLAGG%E\"   \n",
       "[5165] \"S%TSGGGTDT\"   \"SPGLAG%SYNE\"  \"SW%YE\"        \"SLV%T\"       \n",
       "[5169] \"S%PTGE\"       \"S%VGET\"       \"R%LSYE\"       \"SY%GDE\"      \n",
       "[5173] \"SL%GGT\"       \"SL%NYG\"       \"RT%GNE\"       \"RA%GTE\"      \n",
       "[5177] \"RV%TDT\"       \"SP%NQP\"       \"SLSS%E\"       \"STGS%E\"      \n",
       "[5181] \"R%DRNTE\"      \"SE%LNTE\"      \"SQG%GQP\"      \"SVG%NQP\"     \n",
       "[5185] \"RVG%NTE\"      \"SLAG%NE\"      \"S%SGGPYE\"     \"SQG%GNQP\"    \n",
       "[5189] \"S%GLAGSYE\"    \"%RGYE\"        \"%QGGEK\"       \"%GAAGE\"      \n",
       "[5193] \"S%SRYE\"       \"T%GGTE\"       \"S%RTYE\"       \"SL%LYG\"      \n",
       "[5197] \"SL%LGE\"       \"SY%GYG\"       \"SI%EGE\"       \"SDL%HE\"      \n",
       "[5201] \"SYW%GE\"       \"SLS%GE\"       \"SLG%PE\"       \"SVR%NE\"      \n",
       "[5205] \"SERG%T\"       \"RPGG%E\"       \"SYTG%E\"       \"SQVN%E\"      \n",
       "[5209] \"STGG%E\"       \"SYGL%E\"       \"RPLG%E\"       \"SFRS%E\"      \n",
       "[5213] \"RQGSY%\"       \"SYPGT%\"       \"SSSGN%\"       \"SYSGE%\"      \n",
       "[5217] \"%DGSSYE\"      \"%GTSDYE\"      \"%VQGNTE\"      \"%GTNTDT\"     \n",
       "[5221] \"S%GTDYE\"      \"S%TPTDT\"      \"S%PGVTE\"      \"S%DRYNE\"     \n",
       "[5225] \"S%TRNQP\"      \"S%RGVTE\"      \"S%TENSP\"      \"SL%RGEK\"     \n",
       "[5229] \"SL%GHTE\"      \"SQ%PNTE\"      \"SA%GTDT\"      \"SR%PNTE\"     \n",
       "[5233] \"SQ%GSTE\"      \"SI%GGYG\"      \"SP%GVET\"      \"SI%GDTE\"     \n",
       "[5237] \"SR%INTE\"      \"SY%QGNE\"      \"SY%SNTE\"      \"SWT%YNE\"     \n",
       "[5241] \"SFR%GTE\"      \"SQD%RYE\"      \"SPS%SGE\"      \"SYL%NTE\"     \n",
       "[5245] \"SLS%GYG\"      \"SYL%GYE\"      \"SGQ%GGE\"      \"SLP%QET\"     \n",
       "[5249] \"SEG%GRE\"      \"SLQ%TYE\"      \"SYRV%TE\"      \"SSSG%YG\"     \n",
       "[5253] \"SPGS%ET\"      \"SLSG%YE\"      \"SLET%YE\"      \"SVGL%DE\"     \n",
       "[5257] \"SDSR%TE\"      \"SLGGT%E\"      \"SRDRG%P\"      \"%PGTGNQP\"    \n",
       "[5261] \"S%TGNTGE\"     \"S%AGSSYE\"     \"S%TSGGYE\"     \"S%TGAKNI\"    \n",
       "[5265] \"S%DGSYNE\"     \"S%VAGSYE\"     \"S%EGMNTE\"     \"S%GGGRYE\"    \n",
       "[5269] \"S%AGTNYG\"     \"S%GPGNSP\"     \"S%LGGGET\"     \"S%GQGHYG\"    \n",
       "[5273] \"S%VAGTDT\"     \"SL%GVQET\"     \"SE%GENTE\"     \"SL%STNEK\"    \n",
       "[5277] \"SQ%TGNTE\"     \"SL%GGRTE\"     \"SL%GAGDT\"     \"SS%TGGYG\"    \n",
       "[5281] \"SV%GSTGE\"     \"SV%GDSYE\"     \"SQ%GGGTE\"     \"SD%GLSYE\"    \n",
       "[5285] \"SE%QGNQP\"     \"SL%QGNYG\"     \"SR%SGTYE\"     \"SF%GNTGE\"    \n",
       "[5289] \"SY%GGNTE\"     \"SQG%RNTE\"     \"SLG%ANEK\"     \"SPL%GNTE\"    \n",
       "[5293] \"SPG%LTDT\"     \"SQD%GGYE\"     \"SLG%ATDT\"     \"SLL%SNQP\"    \n",
       "[5297] \"SQGT%SYE\"     \"SLDR%GNT\"     \"SLEG%TDT\"     \"SLVG%NTE\"    \n",
       "[5301] \"SLAA%YNE\"     \"SQAG%TDT\"     \"SVAG%GYE\"     \"SQDR%NTE\"    \n",
       "[5305] \"SLGQ%PYE\"     \"SLGGA%ET\"     \"RGAGG%DT\"     \"SSPGQ%YG\"    \n",
       "[5309] \"%DRGSGANV\"    \"S%SVSGANV\"    \"S%GTGFSYE\"    \"S%TGTGGTE\"   \n",
       "[5313] \"S%LAVNTGE\"    \"S%DSATNEK\"    \"SD%GGSSYE\"    \"SP%TGNTGE\"   \n",
       "[5317] \"SL%RGSTDT\"    \"SL%GGGNTE\"    \"SL%SSGANV\"    \"SP%GSSTDT\"   \n",
       "[5321] \"SP%TGSGNT\"    \"SL%GTGGTE\"    \"SF%GGSYNE\"    \"SLG%GSGNT\"   \n",
       "[5325] \"SLG%GGAYE\"    \"SLGT%SYNE\"    \"SSDRG%YNE\"    \"SDSGG%YNE\"   \n",
       "[5329] \"SPTGG%TDT\"    \"SGLAG%YNE\"    \"SPRTGG%YE\"    \"SSLAGG%DT\"   \n",
       "[5333] \"S%GLAGITDT\"   \"SPRTSG%YNE\"   \"Q%SYG\"        \"S%LET\"       \n",
       "[5337] \"S%RGE\"        \"SP%LE\"        \"STG%T\"        \"SSGV%\"       \n",
       "[5341] \"%LGDYG\"       \"R%GGQP\"       \"S%GGIE\"       \"K%GDQP\"      \n",
       "[5345] \"SP%EGE\"       \"SY%GRE\"       \"SS%GDT\"       \"SL%SNE\"      \n",
       "[5349] \"SGT%ET\"       \"SSQ%DE\"       \"SPD%GE\"       \"SVG%DE\"      \n",
       "[5353] \"RTA%NE\"       \"SSA%YG\"       \"TEG%TE\"       \"SNRV%E\"      \n",
       "[5357] \"SSTG%E\"       \"SLYS%E\"       \"SPGL%T\"       \"SLQGS%\"      \n",
       "[5361] \"SYTGT%\"       \"SVSGT%\"       \"%GDSYNE\"      \"%TRSSYE\"     \n",
       "[5365] \"%ANSGNT\"      \"%RDRGTE\"      \"%SRGSYE\"      \"S%EENTE\"     \n",
       "[5369] \"R%TENTE\"      \"S%GGVGE\"      \"S%GTTDT\"      \"S%EVNQP\"     \n",
       "[5373] \"S%RGAYE\"      \"S%RANYG\"      \"S%QLNTE\"      \"S%TDNTE\"     \n",
       "[5377] \"R%LMNTE\"      \"S%FGTDT\"      \"S%DRDTE\"      \"S%SSPYE\"     \n",
       "[5381] \"S%GREDT\"      \"S%TRGET\"      \"S%LYQET\"      \"SH%STDT\"     \n",
       "[5385] \"SL%QGDG\"      \"SL%QNYG\"      \"AG%ANTE\"      \"SL%DNSP\"     \n",
       "[5389] \"SP%DGYE\"      \"SP%QGYE\"      \"SW%GTGE\"      \"SVQ%YNE\"     \n",
       "[5393] \"SLA%YNE\"      \"SLE%NQP\"      \"SLD%NSP\"      \"SIG%PYE\"     \n",
       "[5397] \"SQA%NTE\"      \"SGR%GDE\"      \"SHGG%TE\"      \"SPGQ%YE\"     \n",
       "[5401] \"SLVG%ET\"      \"SQDL%YE\"      \"SSGL%YE\"      \"SLQG%YE\"     \n",
       "[5405] \"RVTG%TE\"      \"SYSR%YE\"      \"SEGG%TE\"      \"RGLA%NE\"     \n",
       "[5409] \"SEQG%GE\"      \"RLTGG%E\"      \"%LGSGANV\"     \"S%RSSNQP\"    \n",
       "[5413] \"S%QGSNQP\"     \"S%GQGASG\"     \"S%GQGGNE\"     \"S%GTGLYG\"    \n",
       "[5417] \"S%SGGDQP\"     \"S%SGGGNT\"     \"S%SGFSYE\"     \"S%GGRTDT\"    \n",
       "[5421] \"S%EGGSYE\"     \"SL%RGDTE\"     \"SF%SSGNT\"     \"SP%GGSYE\"    \n",
       "[5425] \"SL%GGATE\"     \"SL%GSTYE\"     \"SF%GSYNE\"     \"SY%GGPYE\"    \n",
       "[5429] \"SL%RGQET\"     \"SF%SSYNE\"     \"SV%GGDTE\"     \"SG%ENTGE\"    \n",
       "[5433] \"SQG%GTYE\"     \"SLS%STDT\"     \"SYG%GGYE\"     \"SLT%GNTE\"    \n",
       "[5437] \"SYR%SSYE\"     \"SLG%RSYE\"     \"SLL%SYNE\"     \"SFG%SYNE\"    \n",
       "[5441] \"SLL%GGTE\"     \"SLV%SGNT\"     \"SLR%GNQP\"     \"SLA%GQET\"    \n",
       "[5445] \"SGG%GAYE\"     \"SLD%GGYE\"     \"SFTG%SYE\"     \"SLPG%YNE\"    \n",
       "[5449] \"SLGS%YNE\"     \"SLRG%GNE\"     \"SLSG%GTE\"     \"SLSG%GNT\"    \n",
       "[5453] \"SLGLG%NE\"     \"SLQGG%YE\"     \"SLGTG%SP\"     \"SLRTG%TE\"    \n",
       "[5457] \"SWGQG%TE\"     \"SLGGA%YG\"     \"SLGGA%TE\"     \"SPGLAG%T\"    \n",
       "[5461] \"SRGQGA%E\"     \"S%RGSNTGE\"    \"S%TGTVNTE\"    \"S%GTSGTYE\"   \n",
       "[5465] \"S%SGGGTGE\"    \"S%QGGGNQP\"    \"S%SGTGNEK\"    \"S%GGQGSYE\"   \n",
       "[5469] \"S%GRDSNQP\"    \"SE%GSSGNT\"    \"SP%AGGTDT\"    \"SL%GGGNQP\"   \n",
       "[5473] \"SP%GTGAYE\"    \"SL%RGSYNE\"    \"SVRG%SYNE\"    \"SGRQG%NTE\"   \n",
       "[5477] \"SLGGG%TDT\"    \"SLGRGG%YE\"    \"S%GTSGNTGE\"   \"SLSG%SSYNE\"  \n",
       "[5481] \"SL%AE\"        \"SG%YE\"        \"S%QAGE\"       \"S%GLYG\"      \n",
       "[5485] \"S%AGSE\"       \"SG%GTE\"       \"SL%PYE\"       \"SPRG%E\"      \n",
       "[5489] \"S%GATGE\"      \"RD%SNQP\"      \"S%TGLNTE\"     \"S%GTSGNE\"    \n",
       "[5493] \"RDRG%TGE\"     \"SPGQG%YG\"     \"SLLAGG%E\"     \"R%NE\"        \n",
       "[5497] \"%SSYE\"        \"SAL%E\"        \"%FGNTE\"       \"%FGTGE\"      \n",
       "[5501] \"%GQGET\"       \"S%RYYG\"       \"SQ%LYE\"       \"SL%LNT\"      \n",
       "[5505] \"SR%AGE\"       \"SE%PDT\"       \"SV%ATE\"       \"RQ%GEK\"      \n",
       "[5509] \"RDR%YE\"       \"SFR%RE\"       \"SQG%ET\"       \"SYSG%G\"      \n",
       "[5513] \"SLGF%G\"       \"SPSN%E\"       \"RSGG%E\"       \"%LAGGNE\"     \n",
       "[5517] \"S%EGRQP\"      \"S%GQATE\"      \"S%QGGYE\"      \"S%LLTGE\"     \n",
       "[5521] \"S%VWNTE\"      \"S%GGEDE\"      \"S%GSTYE\"      \"G%QGGTE\"     \n",
       "[5525] \"S%DRVQP\"      \"R%GGGYE\"      \"K%GAGNT\"      \"T%GVNTE\"     \n",
       "[5529] \"S%TWNTE\"      \"S%DQNTE\"      \"S%EGYTE\"      \"SP%GTNE\"     \n",
       "[5533] \"SG%GAYE\"      \"SD%GTDT\"      \"SQ%PGTE\"      \"SS%GSYE\"     \n",
       "[5537] \"SD%VSYE\"      \"SK%SYNE\"      \"SS%GIYE\"      \"SL%QTYE\"     \n",
       "[5541] \"SP%AGET\"      \"SR%EQET\"      \"SS%NTGE\"      \"SE%SGYE\"     \n",
       "[5545] \"SI%GYNE\"      \"SL%QRGE\"      \"SL%IQET\"      \"SPG%GYG\"     \n",
       "[5549] \"SAG%TDT\"      \"SPT%GSE\"      \"SLT%VGE\"      \"SFS%NTE\"     \n",
       "[5553] \"SVG%ATE\"      \"SPD%GYG\"      \"SPG%GSG\"      \"SPS%AYE\"     \n",
       "[5557] \"SYS%NQP\"      \"IDR%NTE\"      \"SSRG%DT\"      \"SIGG%YG\"     \n",
       "[5561] \"SLGP%ET\"      \"SIGG%AE\"      \"SSGT%ET\"      \"SIGS%YE\"     \n",
       "[5565] \"SVDG%YE\"      \"SPPGL%G\"      \"SLASS%E\"      \"%PGQGLYE\"    \n",
       "[5569] \"%PGTGTYE\"     \"S%RDSSYE\"     \"S%DPSTDT\"     \"S%GTSAYE\"    \n",
       "[5573] \"S%GRDSYE\"     \"S%STGGTE\"     \"S%GTSGET\"     \"SP%GPTDT\"    \n",
       "[5577] \"SG%GGGTE\"     \"SA%DSNQP\"     \"SP%GGDTE\"     \"RTG%SNQP\"    \n",
       "[5581] \"SPG%DNQP\"     \"SLG%GGNT\"     \"SLG%GRYE\"     \"SLS%GGTE\"    \n",
       "[5585] \"SQDR%AGE\"     \"SPQG%GNT\"     \"SESG%PYE\"     \"SFGG%GNT\"    \n",
       "[5589] \"SGTG%TDT\"     \"SADR%NTE\"     \"SLGT%TGE\"     \"SLVG%GNT\"    \n",
       "[5593] \"SFGG%YNE\"     \"SLGG%ADT\"     \"SIGG%SYE\"     \"SLGR%TDT\"    \n",
       "[5597] \"SLPGG%GE\"     \"SVGGS%NE\"     \"SLGRG%TE\"     \"SLGTG%ET\"    \n",
       "[5601] \"SLVGA%GE\"     \"SLVGGP%E\"     \"SRDRGL%E\"     \"S%VGGSYNE\"   \n",
       "[5605] \"S%GGEGNQP\"    \"S%AGAGANV\"    \"S%SGTSYNE\"    \"S%EGSGANV\"   \n",
       "[5609] \"S%GQGANTE\"    \"SG%SGSTDT\"    \"SP%GGAYNE\"    \"SL%AGAYNE\"   \n",
       "[5613] \"SL%GASNQP\"    \"SL%GTGAYE\"    \"SGT%YSNQP\"    \"SLGT%NTGE\"   \n",
       "[5617] \"SLGQ%SSYE\"    \"SLGTG%NQP\"    \"SPGTG%NYG\"    \"SPGQG%GNT\"   \n",
       "[5621] \"SLGGG%YNE\"    \"SLLAG%TGE\"    \"SDGTSG%NE\"    \"S%LAGASTDT\"  \n",
       "[5625] \"SPGLAG%TGE\"   \"SQV%E\"        \"SAI%E\"        \"%TSTDT\"      \n",
       "[5629] \"%FMNTE\"       \"%LAGYE\"       \"%DRGYE\"       \"%SSGNT\"      \n",
       "[5633] \"%TRTGE\"       \"R%TGNT\"       \"S%GDGG\"       \"S%DRGG\"      \n",
       "[5637] \"S%FGNT\"       \"SL%GEK\"       \"EA%NTE\"       \"SV%NYG\"      \n",
       "[5641] \"SR%VTE\"       \"SF%DQP\"       \"RAS%DT\"       \"SRGD%E\"      \n",
       "[5645] \"SLGGS%\"       \"SLGRT%\"       \"%GDRSYE\"      \"S%GLSYE\"     \n",
       "[5649] \"S%TGGYG\"      \"S%QGTYE\"      \"S%GLNQP\"      \"R%QGSYE\"     \n",
       "[5653] \"S%GSGYE\"      \"A%GGNQP\"      \"R%RVNTE\"      \"S%FGGTE\"     \n",
       "[5657] \"S%HGNTE\"      \"S%GDSYG\"      \"S%GFGQP\"      \"S%STTGE\"     \n",
       "[5661] \"SW%VNTE\"      \"SF%RNTE\"      \"SP%DTDT\"      \"SV%VNQP\"     \n",
       "[5665] \"SE%NTGE\"      \"SD%DTDT\"      \"SY%GGYG\"      \"SA%SYNE\"     \n",
       "[5669] \"SP%ISYE\"      \"SPP%QET\"      \"SFS%GNE\"      \"SYR%GYE\"     \n",
       "[5673] \"SLF%GNE\"      \"SSGQ%YE\"      \"SLPG%ET\"      \"SSRA%YE\"     \n",
       "[5677] \"SRAG%YG\"      \"SLGTL%E\"      \"SQDRS%E\"      \"%GRSSGNT\"    \n",
       "[5681] \"%ASGSSYE\"     \"%PGANTGE\"     \"%LGQGNTE\"     \"%PGHLNTE\"    \n",
       "[5685] \"S%QGPGNT\"     \"S%GHPNTE\"     \"S%GQGNYG\"     \"S%QGVGTE\"    \n",
       "[5689] \"SL%PSTDT\"     \"SQ%GSGNT\"     \"SL%GRNTE\"     \"SL%RGNYG\"    \n",
       "[5693] \"SL%GATGE\"     \"RSG%GNTE\"     \"SQD%GSYE\"     \"SVG%ANTE\"    \n",
       "[5697] \"SPG%STDT\"     \"SLT%NTGE\"     \"SAG%GGTE\"     \"SLAG%NYG\"    \n",
       "[5701] \"SLGQ%YNE\"     \"SLQG%NYG\"     \"SATG%TGE\"     \"SSDR%NQP\"    \n",
       "[5705] \"SLGL%GNE\"     \"SLAG%IYE\"     \"SYSSG%YE\"     \"SMGQG%YE\"    \n",
       "[5709] \"SFGQG%TE\"     \"SRDRS%YE\"     \"S%PGQGPYE\"    \"S%GQGGNSP\"   \n",
       "[5713] \"S%GQGANQP\"    \"SP%TGGSYE\"    \"SD%AGGTDT\"    \"SLG%ATNEK\"   \n",
       "[5717] \"SDS%SSYNE\"    \"SLG%SSTDT\"    \"SPT%SSYNE\"    \"SRD%GSGNT\"   \n",
       "[5721] \"SAGTG%TGE\"    \"SLGTS%SYE\"    \"SRGTG%NYG\"    \"SSGQGA%NE\"   \n",
       "[5725] \"SLLAGG%ET\"    \"SQGLAGV%E\"    \"S%GLAGGSYNE\"  \"%SGYE\"       \n",
       "[5729] \"%QGPE\"        \"%YYNE\"        \"SS%TE\"        \"SA%YG\"       \n",
       "[5733] \"SY%DT\"        \"SLSG%\"        \"STG%YE\"       \"SPP%GE\"      \n",
       "[5737] \"SRD%TE\"       \"SPR%NE\"       \"SLGG%G\"       \"SWGG%E\"      \n",
       "[5741] \"%LAGTYE\"      \"SSGT%YE\"      \"SPRTG%E\"      \"S%GGGSYE\"    \n",
       "[5745] \"R%AGGTDT\"     \"SPGLAGG%\"     \"S%VDT\"        \"SD%NE\"       \n",
       "[5749] \"STQ%E\"        \"%AGQET\"       \"%DPGTE\"       \"%QVNYG\"      \n",
       "[5753] \"%LGNYG\"       \"%QGAGG\"       \"S%TTDT\"       \"S%QGPG\"      \n",
       "[5757] \"S%GQYE\"       \"L%GGTE\"       \"S%QGPE\"       \"S%KGDT\"      \n",
       "[5761] \"SL%RTE\"       \"SP%GET\"       \"SP%VYG\"       \"SA%NYG\"      \n",
       "[5765] \"SPG%NT\"       \"SGG%TE\"       \"SRTS%E\"       \"SQGG%E\"      \n",
       "[5769] \"SLVN%E\"       \"SPNS%E\"       \"SPEG%T\"       \"SSGAN%\"      \n",
       "[5773] \"SLEEG%\"       \"%GTGYYE\"      \"%TGLNTE\"      \"%PRGGTE\"     \n",
       "[5777] \"%LGVNTE\"      \"S%KMNTE\"      \"S%GSDYG\"      \"S%PGSDT\"     \n",
       "[5781] \"S%GDNTE\"      \"S%GGGGG\"      \"S%GGTDE\"      \"S%QGAQP\"     \n",
       "[5785] \"S%QLQET\"      \"S%TPGTE\"      \"SR%LGTE\"      \"SL%REET\"     \n",
       "[5789] \"SF%PNTE\"      \"SY%ENTE\"      \"SE%RAYE\"      \"SP%SYNE\"     \n",
       "[5793] \"SGG%NEK\"      \"LDR%GNT\"      \"SQD%YNE\"      \"SIG%YNE\"     \n",
       "[5797] \"SAG%EET\"      \"SVT%TDT\"      \"SLV%TDT\"      \"SQD%TYE\"     \n",
       "[5801] \"SVG%GGG\"      \"SLL%TDT\"      \"SFP%SYE\"      \"SIRG%YE\"     \n",
       "[5805] \"SPGV%YG\"      \"SPDR%QP\"      \"SYSG%TE\"      \"SGQG%DT\"     \n",
       "[5809] \"SLGQ%ET\"      \"SLSG%QP\"      \"SLTGN%E\"      \"SLGGY%E\"     \n",
       "[5813] \"SPRGG%E\"      \"SVGQG%E\"      \"%GQSNTGE\"     \"S%DRVGTE\"    \n",
       "[5817] \"S%GQGYYG\"     \"S%GQYQET\"     \"S%AGGLDE\"     \"S%GTPGNT\"    \n",
       "[5821] \"S%TGKNTE\"     \"S%GGWNTE\"     \"S%GLATYE\"     \"S%QGPNYG\"    \n",
       "[5825] \"SL%GRNQP\"     \"SS%ASTDT\"     \"SF%SGANV\"     \"SL%GPGNT\"    \n",
       "[5829] \"SF%GSNQP\"     \"RG%GPYNE\"     \"SLG%GNYE\"     \"SPS%SNQP\"    \n",
       "[5833] \"SDS%GSYE\"     \"SYS%SSYE\"     \"SLR%GAYE\"     \"SQTG%NTE\"    \n",
       "[5837] \"SATG%NTE\"     \"RVAG%SYE\"     \"RTSG%GET\"     \"SYGG%TDT\"    \n",
       "[5841] \"SSGQG%YE\"     \"SLRQG%TE\"     \"SLGQGN%E\"     \"S%GTSGYNE\"   \n",
       "[5845] \"S%RGATNEK\"    \"S%RLAGSYE\"    \"S%SSGSYNE\"    \"S%GGTTNEK\"   \n",
       "[5849] \"SL%GSSTDT\"    \"SL%LAGVNE\"    \"SL%TSGGYE\"    \"SLG%GSNQP\"   \n",
       "[5853] \"SLG%GNTGE\"    \"SRG%GSSYE\"    \"SLGG%GNQP\"    \"SSRLAG%YE\"   \n",
       "[5857] \"S%AGE\"        \"G%LNTE\"       \"S%SGNE\"       \"SD%TGE\"      \n",
       "[5861] \"SS%SYE\"       \"S%LAE\"        \"SFG%G\"        \"%LTGTE\"      \n",
       "[5865] \"%GLADT\"       \"S%WEGE\"       \"S%PPDT\"       \"S%AYNE\"      \n",
       "[5869] \"S%LYTE\"       \"S%EYTE\"       \"SG%GNE\"       \"RP%NTE\"      \n",
       "[5873] \"RE%TDT\"       \"SLQ%YG\"       \"SPG%GK\"       \"RKG%YE\"      \n",
       "[5877] \"SFG%DT\"       \"SDRA%G\"       \"SPAG%T\"       \"SLGG%T\"      \n",
       "[5881] \"SDGTG%\"       \"SDRGD%\"       \"SLTGY%\"       \"%RSGANV\"     \n",
       "[5885] \"S%RTGRE\"      \"S%RDSYE\"      \"S%VPNTE\"      \"S%GSNTE\"     \n",
       "[5889] \"T%TENTE\"      \"R%GGDYG\"      \"S%RSTDT\"      \"R%TGVTE\"     \n",
       "[5893] \"S%RQGYE\"      \"S%VVNTE\"      \"SF%GANV\"      \"SQ%RNTE\"     \n",
       "[5897] \"SV%TNYG\"      \"SS%STDT\"      \"SL%TGNT\"      \"SL%GYTE\"     \n",
       "[5901] \"SL%RDQP\"      \"SLD%QET\"      \"SLP%GYE\"      \"STR%SYE\"     \n",
       "[5905] \"SVL%YNE\"      \"SSQ%NQP\"      \"RQT%NTE\"      \"SRG%AYE\"     \n",
       "[5909] \"SPA%TDT\"      \"SGR%TGE\"      \"SLS%NSP\"      \"SPR%PGE\"     \n",
       "[5913] \"SRR%GTE\"      \"SQR%SYE\"      \"SLGS%YG\"      \"SFDR%YE\"     \n",
       "[5917] \"SLEG%YG\"      \"RNRG%TE\"      \"SQDQG%E\"      \"%GTASGNT\"    \n",
       "[5921] \"%PGQGSYE\"     \"R%GGNTGE\"     \"S%GGLGTE\"     \"S%RGSSYE\"    \n",
       "[5925] \"S%GTDYNE\"     \"S%STGSYE\"     \"S%DSMNTE\"     \"S%GTGNQP\"    \n",
       "[5929] \"S%SGMNTE\"     \"S%RGRNQP\"     \"SS%RSSYE\"     \"SL%QGTYE\"    \n",
       "[5933] \"SF%GGTDT\"     \"SL%SNTGE\"     \"SP%TVNTE\"     \"SA%SSGNT\"    \n",
       "[5937] \"SP%GSNYG\"     \"SS%RGQET\"     \"SV%TGGTE\"     \"SL%GYNSP\"    \n",
       "[5941] \"SRG%RTDT\"     \"SPG%GDTE\"     \"SSG%SYNE\"     \"SPD%SGNT\"    \n",
       "[5945] \"SPPG%QET\"     \"SPGR%NQP\"     \"SSGRG%YE\"     \"SLAPG%YE\"    \n",
       "[5949] \"RPGQG%EK\"     \"SLTGG%DT\"     \"SSRTG%TE\"     \"SLDRG%QP\"    \n",
       "[5953] \"SLGGV%YE\"     \"S%GAGGTDT\"    \"S%GTASGNT\"    \"S%GQGATGE\"   \n",
       "[5957] \"S%RQGGNTE\"    \"SELAG%TDT\"    \"SPGTG%NSP\"    \"SPGQG%NYG\"   \n",
       "[5961] \"SPSGG%YNE\"    \"SLGQG%TDT\"    \"S%GLAGGGET\"   \"SLGLAG%YNE\"  \n",
       "[5965] \"S%AHE\"        \"SLGV%\"        \"%EGTDT\"       \"S%TNYG\"      \n",
       "[5969] \"S%VYNE\"       \"RR%NTE\"       \"TGT%YG\"       \"%RGSYNE\"     \n",
       "[5973] \"S%GAGYE\"      \"S%GSQET\"      \"S%LAGDE\"      \"SS%SYNE\"     \n",
       "[5977] \"SPG%GNE\"      \"SLA%SYE\"      \"RRD%NTE\"      \"SLG%SNQP\"    \n",
       "[5981] \"S%LYG\"        \"S%GVE\"        \"%GDTGE\"       \"%WGAGE\"      \n",
       "[5985] \"%GGNEK\"       \"%RQGET\"       \"%LGGNT\"       \"S%DRVE\"      \n",
       "[5989] \"S%SGVE\"       \"S%VGVE\"       \"S%ESYG\"       \"S%QGLE\"      \n",
       "[5993] \"SV%GNT\"       \"SS%YTE\"       \"SQ%GNE\"       \"TDG%YE\"      \n",
       "[5997] \"SLY%NE\"       \"SLT%YE\"       \"SIDR%E\"       \"SDRV%E\"      \n",
       "[6001] \"SYPS%E\"       \"SIGS%E\"       \"SLAS%E\"       \"SSGSY%\"      \n",
       "[6005] \"%KQGNTE\"      \"%LGMNTE\"      \"%QGDSYE\"      \"%LSGANV\"     \n",
       "[6009] \"S%GPTYE\"      \"T%GDSYE\"      \"S%EANTE\"      \"S%GTEYE\"     \n",
       "[6013] \"S%TSAYE\"      \"S%VQGGE\"      \"SL%RGET\"      \"SL%GPGE\"     \n",
       "[6017] \"SL%GVAE\"      \"SL%GGAE\"      \"SG%SPYE\"      \"SQ%GDTE\"     \n",
       "[6021] \"RV%GGTE\"      \"SPG%EET\"      \"SQG%GNT\"      \"SVG%TGE\"     \n",
       "[6025] \"SSR%GET\"      \"SLR%GET\"      \"SLN%NTE\"      \"SAD%YNE\"     \n",
       "[6029] \"SAG%NYG\"      \"SSP%NTE\"      \"SLGP%YG\"      \"SITG%TE\"     \n",
       "[6033] \"SPGV%TE\"      \"SEGL%TE\"      \"SPTG%RE\"      \"SVGG%NE\"     \n",
       "[6037] \"SQQG%YG\"      \"S%PGQNTE\"     \"S%GLAGNE\"     \"S%LGSTDT\"    \n",
       "[6041] \"S%RRGTDT\"     \"R%GGDTGE\"     \"S%GLATGE\"     \"S%GGRQET\"    \n",
       "[6045] \"S%SGGGTE\"     \"S%QGANEK\"     \"S%RTGDYG\"     \"SY%GGTGE\"    \n",
       "[6049] \"SL%GPSYE\"     \"SP%GPSYE\"     \"SE%GAYNE\"     \"SL%RSNQP\"    \n",
       "[6053] \"SE%RGNTE\"     \"STG%LNTE\"     \"SSG%STDT\"     \"SAG%GNSP\"    \n",
       "[6057] \"SPR%LNTE\"     \"SQG%GGYE\"     \"SLG%GNYG\"     \"SLG%RGNE\"    \n",
       "[6061] \"SLG%GDQP\"     \"SLRG%TDT\"     \"SSDR%SYE\"     \"SQVGG%GE\"    \n",
       "[6065] \"SLSGT%YE\"     \"SLGTGP%E\"     \"S%GTGVTDT\"    \"S%SSGGTDT\"   \n",
       "[6069] \"S%RQGAYNE\"    \"S%GTGGQET\"    \"S%TSGGQET\"    \"S%TGTGNTE\"   \n",
       "[6073] \"S%GGASNQP\"    \"SE%AGGTDT\"    \"SS%GSGANV\"    \"SP%GANTGE\"   \n",
       "[6077] \"SPG%SSGNT\"    \"SVAG%SYNE\"    \"SLAG%SSYE\"    \"SLGAG%SYE\"   \n",
       "[6081] \"SVGGG%YNE\"    \"SAGTG%TDT\"    \"SETSG%TDT\"    \"SLTSGGA%E\"   \n",
       "[6085] \"%SYE\"         \"S%DTE\"        \"S%LYE\"        \"SY%SE\"       \n",
       "[6089] \"GS%GE\"        \"SLG%T\"        \"S%GASE\"       \"SLS%YE\"      \n",
       "[6093] \"%SGSTDT\"      \"SL%SSYE\"      \"%GGSSYNE\"     \"%HNE\"        \n",
       "[6097] \"%LSNE\"        \"%TGDT\"        \"SYSR%\"        \"SRDY%\"       \n",
       "[6101] \"%RSNQP\"       \"%AAQET\"       \"R%GSTE\"       \"T%PSYE\"      \n",
       "[6105] \"S%QVYE\"       \"SL%QYE\"       \"SFP%GE\"       \"RTG%QP\"      \n",
       "[6109] \"SET%TE\"       \"SPP%YG\"       \"STGT%E\"       \"SLVGD%\"      \n",
       "[6113] \"%RDRNTE\"      \"%TSGADT\"      \"R%EGNQP\"      \"R%SNTGE\"     \n",
       "[6117] \"S%TGLDE\"      \"S%LTNTE\"      \"S%GSRTE\"      \"S%DLAGE\"     \n",
       "[6121] \"S%LVNTE\"      \"S%RQTYE\"      \"S%GSADT\"      \"S%HMNTE\"     \n",
       "[6125] \"S%TPTGE\"      \"R%QGYTE\"      \"SD%DTGE\"      \"SW%GNTE\"     \n",
       "[6129] \"SL%GVGG\"      \"SF%STGE\"      \"SL%PTDT\"      \"RGE%NQP\"     \n",
       "[6133] \"SIG%TDT\"      \"SPS%TDT\"      \"SVS%GTE\"      \"SLGS%QP\"     \n",
       "[6137] \"SPGT%GE\"      \"SLVS%NE\"      \"SPDG%YG\"      \"SLAQ%YE\"     \n",
       "[6141] \"RVQG%TE\"      \"SPPG%GG\"      \"SFQGG%E\"      \"SFGGV%E\"     \n",
       "[6145] \"SPPAG%E\"      \"R%GTASYE\"     \"S%RLAGNE\"     \"S%SPSTDT\"    \n",
       "[6149] \"S%QGAGEK\"     \"S%RGRNTE\"     \"S%RTVNTE\"     \"S%AGPNTE\"    \n",
       "[6153] \"S%RGLGTE\"     \"S%GGRNSP\"     \"S%RGPSYE\"     \"SP%TGGTE\"    \n",
       "[6157] \"SLS%GGYE\"     \"SRG%SYNE\"     \"SEGQ%NSP\"     \"SPGQ%TGE\"    \n",
       "[6161] \"SLQG%NSP\"     \"SVQG%TGE\"     \"SPGH%NTE\"     \"SLTG%GYE\"    \n",
       "[6165] \"RPGT%NTE\"     \"SVSGG%NE\"     \"SSTGG%TE\"     \"SIGQG%YE\"    \n",
       "[6169] \"SEAGG%NE\"     \"SVGTG%YE\"     \"SPRTG%YG\"     \"RPGTG%TE\"    \n",
       "[6173] \"SLGTGG%G\"     \"SWGLAG%E\"     \"SRTSGT%E\"     \"S%TGDSNQP\"   \n",
       "[6177] \"S%GQGRTGE\"    \"S%TGGMNTE\"    \"S%GSYSNQP\"    \"SL%GQGSYE\"   \n",
       "[6181] \"SLG%GGTDT\"    \"SLGG%NTGE\"    \"SLGG%GSYE\"    \"SPGQG%NTE\"   \n",
       "[6185] \"SPGQG%NSP\"    \"S%SGGSSYNE\"   \"%TGRYG\"       \"%RDSYE\"      \n",
       "[6189] \"%SQNTE\"       \"%KGSYE\"       \"T%GSTE\"       \"S%APDT\"      \n",
       "[6193] \"S%VDNE\"       \"SL%LDT\"       \"SD%GDG\"       \"SL%AYG\"      \n",
       "[6197] \"SF%ADT\"       \"STS%DT\"       \"SFG%QP\"       \"SLA%YG\"      \n",
       "[6201] \"SQD%ET\"       \"SLS%VE\"       \"RDG%QP\"       \"SLR%YE\"      \n",
       "[6205] \"SQR%TE\"       \"SVR%YG\"       \"SSGP%G\"       \"SSGQ%G\"      \n",
       "[6209] \"RTGGY%\"       \"SPPSG%\"       \"%QGENTE\"      \"%GTYNSP\"     \n",
       "[6213] \"S%GGPTE\"      \"S%GASTE\"      \"S%RVNEK\"      \"S%QGPTE\"     \n",
       "[6217] \"S%TGGSE\"      \"SP%RGAE\"      \"SL%FSYE\"      \"SW%STDT\"     \n",
       "[6221] \"SP%TNEK\"      \"RR%GADT\"      \"SL%PYNE\"      \"SPT%SYE\"     \n",
       "[6225] \"SLG%SYG\"      \"SLL%SYE\"      \"SRT%NSP\"      \"SRDS%QP\"     \n",
       "[6229] \"SYTG%TE\"      \"SWGG%TE\"      \"RPRG%TE\"      \"SRGQA%E\"     \n",
       "[6233] \"SLGSR%E\"      \"SLGVS%E\"      \"SSTRG%E\"      \"SQDRD%E\"     \n",
       "[6237] \"S%GSGNQP\"     \"S%AATNEK\"     \"S%GQGVQP\"     \"S%GGITDT\"    \n",
       "[6241] \"S%TGAYNE\"     \"S%DRGDYG\"     \"S%LGSYNE\"     \"S%VGGNQP\"    \n",
       "[6245] \"S%GTGVET\"     \"S%AGGPDT\"     \"SS%GGNTE\"     \"SR%QGGTE\"    \n",
       "[6249] \"SQ%GSSYE\"     \"SL%DRGYE\"     \"SL%GGLDE\"     \"SP%TSTDT\"    \n",
       "[6253] \"RS%GNTGE\"     \"SP%GGGTE\"     \"SL%GATDT\"     \"SL%RGNQP\"    \n",
       "[6257] \"SL%ATNEK\"     \"SL%QGGYE\"     \"SV%DSNQP\"     \"SPR%GQET\"    \n",
       "[6261] \"SAG%YNSP\"     \"SLT%GTDT\"     \"STGG%NTE\"     \"SVGQ%SYE\"    \n",
       "[6265] \"SPRG%QET\"     \"SLSG%GGE\"     \"SLGG%PYE\"     \"SYGQG%YE\"    \n",
       "[6269] \"SLGSG%YE\"     \"SLVGG%YE\"     \"SIGTG%YE\"     \"SVAGG%DT\"    \n",
       "[6273] \"SLRTGG%E\"     \"SLGQGA%G\"     \"S%LAGTYNE\"    \"S%SGRSTDT\"   \n",
       "[6277] \"SV%GGSTDT\"    \"SE%GGSNQP\"    \"SETSG%YNE\"    \"S%GTSGSSYE\"  \n",
       "[6281] \"SPGLAGG%DT\"   \"%GGDT\"        \"SQT%E\"        \"SQ%SGE\"      \n",
       "[6285] \"SA%GTE\"       \"SLVR%E\"       \"SLDG%E\"       \"S%QGSYE\"     \n",
       "[6289] \"SP%TGGE\"      \"SLG%GNE\"      \"S%LAGGNE\"     \"S%GGGTGE\"    \n",
       "[6293] \"K%TE\"         \"GGN%\"         \"SRE%T\"        \"GGGE%\"       \n",
       "[6297] \"SWGD%\"        \"%SGGTE\"       \"S%NGNE\"       \"R%EGNE\"      \n",
       "[6301] \"S%STDE\"       \"T%GATE\"       \"S%NGNT\"       \"RA%GDT\"      \n",
       "[6305] \"KG%SYE\"       \"SL%AYE\"       \"SS%QGG\"       \"SRG%QP\"      \n",
       "[6309] \"REG%SP\"       \"SEN%YE\"       \"SLI%YE\"       \"GDR%YG\"      \n",
       "[6313] \"SGL%DT\"       \"STR%YE\"       \"SLYR%E\"       \"SLGGN%\"      \n",
       "[6317] \"%PRGTDT\"      \"%TGYTGE\"      \"%EQGNTE\"      \"%PDRNTE\"     \n",
       "[6321] \"S%ARNTE\"      \"R%WGNTE\"      \"S%SQNTE\"      \"S%SANTE\"     \n",
       "[6325] \"S%GGSET\"      \"S%SGNSP\"      \"S%DISYE\"      \"S%ASNTE\"     \n",
       "[6329] \"S%GPGQP\"      \"S%GRSTE\"      \"S%DVSYE\"      \"S%PSTDT\"     \n",
       "[6333] \"S%QGYYG\"      \"S%TDNSP\"      \"SS%RGET\"      \"SF%GTDT\"     \n",
       "[6337] \"SF%LNTE\"      \"SS%STGE\"      \"SG%GGTE\"      \"SS%SNTE\"     \n",
       "[6341] \"SR%SYNE\"      \"SG%GVYE\"      \"SL%RNYG\"      \"SP%PGNT\"     \n",
       "[6345] \"RQ%LNTE\"      \"SL%RGYG\"      \"NR%STDT\"      \"SL%TYNE\"     \n",
       "[6349] \"SP%RGSE\"      \"SL%GPTE\"      \"SDT%NTE\"      \"RPR%NTE\"     \n",
       "[6353] \"SLR%YNE\"      \"EDR%SYE\"      \"SLG%STE\"      \"KTG%NQP\"     \n",
       "[6357] \"SSD%NQP\"      \"SAG%SYG\"      \"SDL%NTE\"      \"SPL%TDT\"     \n",
       "[6361] \"SLG%NNE\"      \"SVG%GAE\"      \"EGQG%TE\"      \"SYSGT%E\"     \n",
       "[6365] \"SLAPG%G\"      \"SPRGP%E\"      \"S%GSLNTE\"     \"S%GTDNQP\"    \n",
       "[6369] \"S%GGQGYE\"     \"S%LSSGNT\"     \"S%DRGRDE\"     \"S%TGGGNT\"    \n",
       "[6373] \"S%TGRGTE\"     \"S%SGQGYE\"     \"SP%TGTYE\"     \"SE%GGGTE\"    \n",
       "[6377] \"SP%GRNTE\"     \"SP%QGSYE\"     \"SSR%SGNT\"     \"SRG%YNSP\"    \n",
       "[6381] \"SLG%VSYE\"     \"SIG%SNQP\"     \"SVG%TNEK\"     \"SQGG%NQP\"    \n",
       "[6385] \"SVGG%GNE\"     \"SSGG%NQP\"     \"SPDR%NYG\"     \"SLAG%GDT\"    \n",
       "[6389] \"SPDR%NQP\"     \"SLGR%SYE\"     \"SVTG%NTE\"     \"SLGG%GTE\"    \n",
       "[6393] \"SPDR%SYE\"     \"SLQG%TGE\"     \"SLGTS%YE\"     \"SPSGG%DT\"    \n",
       "[6397] \"SPRGG%YE\"     \"SLSGR%YE\"     \"%PSGSSYNE\"    \"S%TSGGSYE\"   \n",
       "[6401] \"S%LAGGADT\"    \"R%GLAGTDT\"    \"S%GQSSGNT\"    \"S%RQGGNQP\"   \n",
       "[6405] \"S%GTGGNYG\"    \"SPTGTG%YE\"    \"STGTSG%NE\"    \"S%NYE\"       \n",
       "[6409] \"SV%NE\"        \"SLAGG%E\"      \"%ASYE\"        \"SP%PYE\"      \n",
       "[6413] \"S%RQGGE\"      \"S%GTGPYE\"     \"S%GATNEK\"     \"G%NE\"        \n",
       "[6417] \"%YNYG\"        \"%NTDT\"        \"S%IYE\"        \"S%SVE\"       \n",
       "[6421] \"SSV%E\"        \"%SQGYE\"       \"S%LGGE\"       \"S%PSYE\"      \n",
       "[6425] \"G%STDT\"       \"S%AADT\"       \"S%HQET\"       \"SF%AGE\"      \n",
       "[6429] \"TP%GTE\"       \"SQ%RDT\"       \"SW%TDT\"       \"SE%SNE\"      \n",
       "[6433] \"SE%GYG\"       \"RDP%TE\"       \"SLE%YG\"       \"SLS%QP\"      \n",
       "[6437] \"SDP%NE\"       \"SLGG%P\"       \"SERS%E\"       \"RTGG%G\"      \n",
       "[6441] \"SETS%E\"       \"RQGD%E\"       \"SYSG%T\"       \"%GQNTGE\"     \n",
       "[6445] \"%DRGRYE\"      \"%VGSYNE\"      \"S%GQGHG\"      \"S%EGDQP\"     \n",
       "[6449] \"S%DRGNE\"      \"S%GGWTE\"      \"S%SYQET\"      \"S%GGGET\"     \n",
       "[6453] \"S%QQNTE\"      \"R%DPNTE\"      \"S%AAYNE\"      \"S%WDSYE\"     \n",
       "[6457] \"S%DGPYE\"      \"RD%RGTE\"      \"SP%RDYG\"      \"SV%GPYE\"     \n",
       "[6461] \"SF%SGNT\"      \"RGE%NTE\"      \"RRD%AYE\"      \"SEA%SYE\"     \n",
       "[6465] \"SPT%TDT\"      \"SPL%GNE\"      \"SLRT%YE\"      \"SLAG%YG\"     \n",
       "[6469] \"SQGR%NE\"      \"SLGR%QP\"      \"SVGP%GE\"      \"SPGGG%E\"     \n",
       "[6473] \"SPGVG%E\"      \"S%GLGYNE\"     \"S%LGGNQP\"     \"S%VGSSYE\"    \n",
       "[6477] \"S%TGLSYE\"     \"S%QGAGQP\"     \"SD%GSSYE\"     \"SS%TGNTE\"    \n",
       "[6481] \"SL%GVSYE\"     \"SPG%GNYG\"     \"SPR%NTGE\"     \"SLG%GTDT\"    \n",
       "[6485] \"SLDR%NSP\"     \"SPTG%QET\"     \"SPGT%GNT\"     \"SRSG%TDT\"    \n",
       "[6489] \"SLGPG%YE\"     \"SAGTG%YE\"     \"SLTSGR%E\"     \"S%TGGGNQP\"   \n",
       "[6493] \"S%GQGYNSP\"    \"S%RLAGVNE\"    \"S%GGRSYNE\"    \"S%AGASTDT\"   \n",
       "[6497] \"S%GLADTDT\"    \"S%GQGSGNT\"    \"SP%GSSYNE\"    \"SS%GSSYNE\"   \n",
       "[6501] \"SDSG%SYNE\"    \"SVGG%STDT\"    \"SRGTG%SYE\"    \"SDPGQG%YG\"   \n",
       "[6505] \"SRA%E\"        \"%DSSYE\"       \"%EGEK\"        \"%LGHE\"       \n",
       "[6509] \"SLQ%E\"        \"GSR%E\"        \"SMGG%\"        \"SIGS%\"       \n",
       "[6513] \"%TGSYE\"       \"G%SPYE\"       \"E%GGYG\"       \"SV%GTG\"      \n",
       "[6517] \"SR%RTE\"       \"SL%GHE\"       \"SE%DTE\"       \"SQV%TE\"      \n",
       "[6521] \"SLT%DT\"       \"SQDT%E\"       \"SPGGD%\"       \"%PGGYNE\"     \n",
       "[6525] \"S%DGNSP\"      \"T%SLNTE\"      \"S%ESYNE\"      \"S%LAGDT\"     \n",
       "[6529] \"S%LQGYE\"      \"S%SENTE\"      \"SF%STDT\"      \"RL%MNTE\"     \n",
       "[6533] \"SP%ENTE\"      \"GL%GNTE\"      \"SL%RYNE\"      \"SD%DSYE\"     \n",
       "[6537] \"SL%GTTE\"      \"KTG%SYE\"      \"RVT%NTE\"      \"SLA%DYE\"     \n",
       "[6541] \"SPP%NTE\"      \"SGD%TDT\"      \"SLT%YNE\"      \"SLSG%ET\"     \n",
       "[6545] \"SDRD%YG\"      \"SQGR%TE\"      \"SWTG%TE\"      \"SPGR%YG\"     \n",
       "[6549] \"S%TGGRET\"     \"S%ASSGNT\"     \"S%QYSNQP\"     \"S%GTYNSP\"    \n",
       "[6553] \"S%QGTNEK\"     \"S%GQGSSP\"     \"S%GDSTDT\"     \"S%GGYQET\"    \n",
       "[6557] \"S%RDRNTE\"     \"S%EYSNQP\"     \"S%RGPGNT\"     \"S%GGRAYE\"    \n",
       "[6561] \"SL%GTSYE\"     \"SL%GRGNE\"     \"SQ%SGANV\"     \"SP%GGYNE\"    \n",
       "[6565] \"SL%GGQET\"     \"SLA%GGYE\"     \"SGG%NTGE\"     \"SGG%GNTE\"    \n",
       "[6569] \"SVGG%NSP\"     \"SLVAG%GE\"     \"SGTGG%NE\"     \"SWGQG%YE\"    \n",
       "[6573] \"SLVGG%NE\"     \"SEGLAG%E\"     \"SLTGQG%E\"     \"S%GQGMNTE\"   \n",
       "[6577] \"SE%GGSYNE\"    \"S%TGSSYNSP\"   \"S%SNE\"        \"G%SGANV\"     \n",
       "[6581] \"%PGTE\"        \"%SGTGE\"       \"S%GGRE\"       \"S%DRYE\"      \n",
       "[6585] \"ST%GYE\"       \"RG%GTE\"       \"SFR%GE\"       \"SQDR%E\"      \n",
       "[6589] \"GGG%YNE\"      \"SLGG%NE\"      \"SRDR%TE\"      \"SGY%\"        \n",
       "[6593] \"%LYTE\"        \"%TGDG\"        \"S%SHE\"        \"SE%YE\"       \n",
       "[6597] \"S%ADYG\"       \"S%NSYE\"       \"S%GQYG\"       \"SE%GTE\"      \n",
       "[6601] \"SL%DQP\"       \"SR%TGE\"       \"SV%TYE\"       \"SL%NNE\"      \n",
       "[6605] \"SVS%DT\"       \"SLL%ET\"       \"AGT%YG\"       \"AQG%YG\"      \n",
       "[6609] \"SDT%YE\"       \"SLR%YG\"       \"SFS%DT\"       \"SYGA%E\"      \n",
       "[6613] \"SSGT%E\"       \"SPQG%T\"       \"SPRTG%\"       \"SGGGY%\"      \n",
       "[6617] \"%SGDYNE\"      \"%RGGADT\"      \"%AGANYG\"      \"S%RRTGE\"     \n",
       "[6621] \"S%LGTGE\"      \"S%SRDTE\"      \"R%TNTGE\"      \"S%SVSYE\"     \n",
       "[6625] \"S%TGLTE\"      \"SE%GRTE\"      \"SQ%RGNE\"      \"SL%NSYE\"     \n",
       "[6629] \"SY%GPGE\"      \"SER%NQP\"      \"SPG%SYG\"      \"SPA%NTE\"     \n",
       "[6633] \"SFG%GYE\"      \"SRA%NYG\"      \"SLG%DNE\"      \"SVQG%ET\"     \n",
       "[6637] \"SVRG%YE\"      \"SLTG%ET\"      \"SLGV%TE\"      \"SLAS%YE\"     \n",
       "[6641] \"RPTG%YG\"      \"SLTG%QP\"      \"SPSGA%E\"      \"%GQSSYNE\"    \n",
       "[6645] \"S%GTANQP\"     \"S%VGGTGE\"     \"S%AGGPYE\"     \"S%QGAGNT\"    \n",
       "[6649] \"SL%TGSYE\"     \"SL%GQGSE\"     \"SE%DSNQP\"     \"SEG%NTGE\"    \n",
       "[6653] \"SLG%GTYE\"     \"SPTG%TGE\"     \"SEGG%TDT\"     \"SLGG%AYE\"    \n",
       "[6657] \"SGTGG%TE\"     \"SLGGG%DE\"     \"STSGG%NE\"     \"SLGQGL%E\"    \n",
       "[6661] \"S%LASSYNE\"    \"S%GTSAYNE\"    \"S%GGTSTDT\"    \"S%GLADYNE\"   \n",
       "[6665] \"SEG%SGANV\"    \"SPGT%SNQP\"    \"SLGG%SYNE\"    \"SGTG%SNQP\"   \n",
       "[6669] \"SGGG%SYNE\"    \"SPGQG%YNE\"    \"SLAGGP%YE\"    \"%TGTGE\"      \n",
       "[6673] \"S%RDTE\"       \"S%TYNE\"       \"T%GNYG\"       \"STG%NE\"      \n",
       "[6677] \"%GGSSYE\"      \"SE%GTGE\"      \"SLG%TGE\"      \"RGLAG%E\"     \n",
       "[6681] \"T%GYE\"        \"SP%EK\"        \"%DTNTE\"       \"%DRTGE\"      \n",
       "[6685] \"%VGNYG\"       \"SS%ANE\"       \"SQ%DYG\"       \"WG%NTE\"      \n",
       "[6689] \"SEE%YE\"       \"SMGG%E\"       \"SLGI%E\"       \"%PQGNTE\"     \n",
       "[6693] \"%LGSYNE\"      \"%LANTGE\"      \"S%GDGNT\"      \"S%GGVET\"     \n",
       "[6697] \"S%GGHYE\"      \"S%GLVNE\"      \"S%RENQP\"      \"SL%GATE\"     \n",
       "[6701] \"SA%GPGE\"      \"SD%YTGE\"      \"SP%GRTE\"      \"SL%RDYE\"     \n",
       "[6705] \"SL%VTGE\"      \"SL%SNTE\"      \"SL%GGQP\"      \"RPG%GTE\"     \n",
       "[6709] \"SVG%DYG\"      \"SPG%GLE\"      \"SRL%NTE\"      \"SQG%DTE\"     \n",
       "[6713] \"SSR%TDT\"      \"SPT%GYE\"      \"SLQ%NQP\"      \"SPDS%YE\"     \n",
       "[6717] \"SPTGR%E\"      \"SAGGR%E\"      \"S%VSGANV\"     \"S%RGTYNE\"    \n",
       "[6721] \"S%GTGGET\"     \"R%RGLNTE\"     \"S%DRGNEK\"     \"S%TDSGNT\"    \n",
       "[6725] \"S%TGRNQP\"     \"S%TGGGYG\"     \"S%QGVNTE\"     \"R%PSSYNE\"    \n",
       "[6729] \"SP%NSNQP\"     \"SDRG%YNE\"     \"SVGQ%NQP\"     \"SDRG%GNT\"    \n",
       "[6733] \"SLSGS%YE\"     \"SAGQG%YG\"     \"SPGTG%DT\"     \"S%PGQGTGE\"   \n",
       "[6737] \"S%GVSSYNE\"    \"S%LAGDTDT\"    \"S%GLAGVDE\"    \"SG%GGSYNE\"   \n",
       "[6741] \"SV%GGSYNE\"    \"SGG%SGANV\"    \"SLGQG%SYE\"    \"R%GDE\"       \n",
       "[6745] \"S%RAYE\"       \"S%RGDT\"       \"SL%GPE\"       \"SA%SYE\"      \n",
       "[6749] \"SQD%GE\"       \"SFRG%E\"       \"SR%SSYE\"      \"SP%GGYE\"     \n",
       "[6753] \"SPG%GGE\"      \"SEG%NYG\"      \"S%GYSNQP\"     \"%SYNE\"       \n",
       "[6757] \"SR%NE\"        \"SN%YE\"        \"SPG%G\"        \"SWS%E\"       \n",
       "[6761] \"GTGN%\"        \"SFGS%\"        \"SFGA%\"        \"%GTGDG\"      \n",
       "[6765] \"%AGSYE\"       \"S%RWGE\"       \"S%SPGE\"       \"S%GDGE\"      \n",
       "[6769] \"R%GFYE\"       \"S%SSNE\"       \"SS%GNE\"       \"SL%RLE\"      \n",
       "[6773] \"SR%NQP\"       \"SP%RDE\"       \"TPG%TE\"       \"SLD%YG\"      \n",
       "[6777] \"SQG%YG\"       \"SST%TE\"       \"SLS%YG\"       \"SRGY%E\"      \n",
       "[6781] \"SSGS%E\"       \"SPGE%E\"       \"SLGGY%\"       \"%GGRTGE\"     \n",
       "[6785] \"%PGQNTE\"      \"%GGSTDT\"      \"%QGPNYG\"      \"%GTSNQP\"     \n",
       "[6789] \"S%TGATE\"      \"S%RGNQP\"      \"S%GGYQP\"      \"S%DKNTE\"     \n",
       "[6793] \"S%TGNNE\"      \"SQ%PGGE\"      \"SL%GDNE\"      \"SR%TGDE\"     \n",
       "[6797] \"SL%LSYE\"      \"SV%QNTE\"      \"SS%GDTE\"      \"TQG%NQP\"     \n",
       "[6801] \"SLG%ANE\"      \"SPR%TDT\"      \"SRGQ%TE\"      \"SLGA%TE\"     \n",
       "[6805] \"SLDR%YG\"      \"SSLG%GE\"      \"SPDRV%E\"      \"%RQGNTGE\"    \n",
       "[6809] \"S%GDGNQP\"     \"S%GPYNSP\"     \"SL%GLSYE\"     \"SSR%SNQP\"    \n",
       "[6813] \"SVG%LNTE\"     \"SPG%GANV\"     \"SRGG%GTE\"     \"SGGT%YNE\"    \n",
       "[6817] \"SSSG%SYE\"     \"SSGT%NQP\"     \"SPGTG%SP\"     \"S%GQGGSYE\"   \n",
       "[6821] \"S%GLAGADT\"    \"S%GLAVYNE\"    \"S%GDYSNQP\"    \"S%GGGSSYE\"   \n",
       "[6825] \"SL%AGGPYE\"    \"SLTSG%TDT\"    \"SPGLA%TDT\"    \"I%NTE\"       \n",
       "[6829] \"GR%TGE\"       \"SGGG%E\"       \"GG%LNTE\"      \"SVG%SYE\"     \n",
       "[6833] \"S%GSSGNT\"     \"SGLAG%NE\"     \"%RGTGE\"       \"SN%DT\"       \n",
       "[6837] \"%GLNEK\"       \"S%GGSG\"       \"S%GLNE\"       \"S%GLDT\"      \n",
       "[6841] \"S%GINE\"       \"S%LGRE\"       \"S%VRGE\"       \"SS%NEK\"      \n",
       "[6845] \"SD%GNE\"       \"SP%RSE\"       \"SQ%EGE\"       \"SY%QGE\"      \n",
       "[6849] \"SL%VTE\"       \"ST%TGE\"       \"SN%GYE\"       \"SLT%YG\"      \n",
       "[6853] \"SGS%TE\"       \"SDRG%T\"       \"%TASGNT\"      \"%GDSTDT\"     \n",
       "[6857] \"%GFSYNE\"      \"%QGGNQP\"      \"S%GRAYE\"      \"S%GGPGE\"     \n",
       "[6861] \"S%ESNQP\"      \"S%GTVYG\"      \"SP%STGE\"      \"SR%STGE\"     \n",
       "[6865] \"RV%MNTE\"      \"TG%MNTE\"      \"RP%SNQP\"      \"SVV%TGE\"     \n",
       "[6869] \"SLL%TGE\"      \"SLD%NQP\"      \"SWG%TGE\"      \"SRQG%DT\"     \n",
       "[6873] \"SLVG%SE\"      \"SLGT%YG\"      \"SRGRG%E\"      \"SLGQA%E\"     \n",
       "[6877] \"SYGTG%E\"      \"%PGTGNTE\"     \"S%GTGGQP\"     \"T%GANTGE\"    \n",
       "[6881] \"S%GGGNQP\"     \"S%TGGYNE\"     \"S%GQGNNE\"     \"S%TVMNTE\"    \n",
       "[6885] \"SL%GQGGE\"     \"SL%GGAYE\"     \"SG%GGQET\"     \"SLA%SYNE\"    \n",
       "[6889] \"SPGT%AYE\"     \"SLDRG%TE\"     \"SLTGG%TE\"     \"SRGQG%YG\"    \n",
       "[6893] \"SPDRG%YE\"     \"SPTGG%YE\"     \"SLGQG%SE\"     \"S%GTGSYNE\"   \n",
       "[6897] \"S%SGGATDT\"    \"SL%SGGAGE\"    \"SLAG%SYNE\"    \"RD%E\"        \n",
       "[6901] \"S%AGGE\"       \"S%YTE\"        \"SV%DT\"        \"SSA%E\"       \n",
       "[6905] \"SLGD%\"        \"%GTNYG\"       \"R%GGYG\"       \"SEG%NE\"      \n",
       "[6909] \"%RGSNQP\"      \"%ESGNT\"       \"%YSGNT\"       \"S%QSYG\"      \n",
       "[6913] \"SLS%DT\"       \"DRGR%E\"       \"SLAGE%\"       \"%TSGTGE\"     \n",
       "[6917] \"%TGQNTE\"      \"S%GGLYG\"      \"S%GTGET\"      \"S%RGQGE\"     \n",
       "[6921] \"S%SSTGE\"      \"S%DSTYE\"      \"S%REGTE\"      \"S%GPAYE\"     \n",
       "[6925] \"S%GQGSG\"      \"S%VSYNE\"      \"TR%GNTE\"      \"SF%GSYE\"     \n",
       "[6929] \"SI%GSYE\"      \"SP%GGQP\"      \"SR%SQET\"      \"SI%SNQP\"     \n",
       "[6933] \"ST%VNTE\"      \"SG%VQET\"      \"RG%GNEK\"      \"SQ%GNQP\"     \n",
       "[6937] \"SFG%GTE\"      \"TRQ%NTE\"      \"SLQ%NTE\"      \"SQD%GNE\"     \n",
       "[6941] \"SLL%AGE\"      \"SYG%SYE\"      \"SPS%TGE\"      \"SEAG%YG\"     \n",
       "[6945] \"SYRG%TE\"      \"SLGS%NE\"      \"SFGGR%E\"      \"%GQGATGE\"    \n",
       "[6949] \"S%RTGNTE\"     \"S%GTGIYE\"     \"S%LAGDYE\"     \"R%GGPNTE\"    \n",
       "[6953] \"S%SGGNQP\"     \"S%DRANTE\"     \"SL%GGTYE\"     \"SL%QGGNE\"    \n",
       "[6957] \"SA%GSTDT\"     \"SLGG%GNT\"     \"SLGQG%QP\"     \"SRQGA%TE\"    \n",
       "[6961] \"SLGTGA%E\"     \"SRDRGR%E\"     \"S%GGGSGNT\"    \"S%GQGGTDT\"   \n",
       "[6965] \"SL%SSYNSP\"    \"SPGTG%YNE\"    \"SRLAGG%GE\"    \"S%LAGGSTDT\"  \n",
       "[6969] \"%MNTE\"        \"S%DSE\"        \"SV%SE\"        \"SLLG%\"       \n",
       "[6973] \"SV%GGGE\"      \"RG%GSYE\"      \"SPTG%GE\"      \"RGS%\"        \n",
       "[6977] \"SYY%E\"        \"S%YYNE\"       \"R%RQET\"       \"S%KGTE\"      \n",
       "[6981] \"SP%DYE\"       \"KR%NTE\"       \"SL%SDT\"       \"SQV%NE\"      \n",
       "[6985] \"TTG%GE\"       \"SPLG%G\"       \"SGGN%E\"       \"SYSG%P\"      \n",
       "[6989] \"%SGGADT\"      \"R%GGSTE\"      \"S%SRNTE\"      \"S%DTYNE\"     \n",
       "[6993] \"S%TASYE\"      \"SL%GDYE\"      \"SR%ASYE\"      \"SP%GRET\"     \n",
       "[6997] \"RG%GDQP\"      \"SVV%GGE\"      \"SPP%GNE\"      \"SLA%TYE\"     \n",
       "[7001] \"SSAG%YE\"      \"%RDRGNYG\"     \"S%GGANYG\"     \"S%GRSGNT\"    \n",
       "[7005] \"R%GRGTDT\"     \"S%LAGEET\"     \"S%GTGDQP\"     \"S%TSGTGE\"    \n",
       "[7009] \"S%GTLNTE\"     \"SS%GSTDT\"     \"SS%GSGNT\"     \"SS%GSSYE\"    \n",
       "[7013] \"SV%GSGNT\"     \"SV%GSTDT\"     \"SRT%NTGE\"     \"SGGR%TDT\"    \n",
       "[7017] \"SLTG%SYE\"     \"SPGT%GYE\"     \"SLTGG%YE\"     \"SLGGS%YE\"    \n",
       "[7021] \"S%LAGGPDT\"    \"SLAG%STDT\"    \"SVGG%SNQP\"    \"SPGTG%SYE\"   \n",
       "[7025] \"%LSYE\"        \"S%VDE\"        \"S%FYE\"        \"RL%NE\"       \n",
       "[7029] \"SPTG%G\"       \"%TGNTGE\"      \"SRQG%GE\"      \"SGG%SYNE\"    \n",
       "[7033] \"%QGGE\"        \"S%IYG\"        \"SQGL%\"        \"%LGGYG\"      \n",
       "[7037] \"%SGNYG\"       \"%SGANV\"       \"S%DSPE\"       \"S%SGSP\"      \n",
       "[7041] \"SL%TTE\"       \"SP%DYG\"       \"SP%RET\"       \"RD%TDT\"      \n",
       "[7045] \"KG%GET\"       \"SP%VYE\"       \"SAR%YE\"       \"SYS%DE\"      \n",
       "[7049] \"TGG%QP\"       \"RRG%DT\"       \"RRG%TE\"       \"SERG%G\"      \n",
       "[7053] \"SPRS%E\"       \"SLNS%E\"       \"SIGT%E\"       \"%GPTNEK\"     \n",
       "[7057] \"%GGAGTE\"      \"S%SGGYE\"      \"R%GPNTE\"      \"S%DPNTE\"     \n",
       "[7061] \"S%AGNYG\"      \"S%RDYNE\"      \"SA%GNYG\"      \"RR%PNTE\"     \n",
       "[7065] \"SY%GSYE\"      \"SAG%GQP\"      \"SYS%SGE\"      \"SLA%GGE\"     \n",
       "[7069] \"SDP%TGE\"      \"SLQG%QP\"      \"SWGG%GE\"      \"SATGG%E\"     \n",
       "[7073] \"S%GQGGEK\"     \"S%DRGAYE\"     \"S%GTANYG\"     \"S%AGGADT\"    \n",
       "[7077] \"S%GSTNEK\"     \"SR%ANTGE\"     \"SRD%SYNE\"     \"SPGG%QET\"    \n",
       "[7081] \"SGDRG%YE\"     \"S%GLAGDNE\"    \"S%GGYSNQP\"    \"SP%SSYNSP\"   \n",
       "[7085] \"SVG%SGANV\"    \"SVGTSG%NE\"    \"%QGTE\"        \"SRG%E\"       \n",
       "[7089] \"SGTG%E\"       \"GL%NE\"        \"%TGTYE\"       \"%GGGNE\"      \n",
       "[7093] \"SR%TDT\"       \"SLGQ%E\"       \"%GQGTDT\"      \"S%DRE\"       \n",
       "[7097] \"S%QGE\"        \"%LLGE\"        \"ST%SE\"        \"SDI%E\"       \n",
       "[7101] \"%RDTYE\"       \"%VGAGE\"       \"%SVNTE\"       \"S%NNYG\"      \n",
       "[7105] \"S%GDQP\"       \"S%LGPE\"       \"SQ%TYE\"       \"SL%SYG\"      \n",
       "[7109] \"SQ%RTE\"       \"SP%TDT\"       \"ST%GYG\"       \"RWG%TE\"      \n",
       "[7113] \"SVGD%E\"       \"%RTGAYE\"      \"%RQMNTE\"      \"%ESSYNE\"     \n",
       "[7117] \"S%TSTGE\"      \"S%TGADT\"      \"S%GINYG\"      \"S%VGGYE\"     \n",
       "[7121] \"S%GWGTE\"      \"S%RGADT\"      \"S%DRAGE\"      \"GG%GSYE\"     \n",
       "[7125] \"SD%VNTE\"      \"RD%RNTE\"      \"ST%GSYE\"      \"SE%GYNE\"     \n",
       "[7129] \"SE%RGTE\"      \"SG%DSYE\"      \"SLS%SYE\"      \"SPR%GDE\"     \n",
       "[7133] \"SDS%TDT\"      \"RAG%GTE\"      \"SGQ%NQP\"      \"SQDP%GE\"     \n",
       "[7137] \"SLTG%GE\"      \"SDRGG%E\"      \"%SGRGTDT\"     \"%SGSSTDT\"    \n",
       "[7141] \"S%GFSNQP\"     \"R%TGGNTE\"     \"S%GAGTGE\"     \"S%SGRTDT\"    \n",
       "[7145] \"S%RQGPYE\"     \"S%GGRNTE\"     \"SV%SGANV\"     \"SL%GGGYE\"    \n",
       "[7149] \"SPGQ%TDT\"     \"SSTG%SYE\"     \"SLTSG%NE\"     \"SQGQG%YE\"    \n",
       "[7153] \"SPAGG%YE\"     \"SFSGG%YE\"     \"SSGTG%YE\"     \"S%DRGSNQP\"   \n",
       "[7157] \"S%RSSYNSP\"    \"SPRLAG%YE\"    \"SSGLAG%GE\"    \"%RTGE\"       \n",
       "[7161] \"S%RGGE\"       \"T%TGE\"        \"R%GTGE\"       \"S%YYE\"       \n",
       "[7165] \"RS%YE\"        \"%GGGYG\"       \"SDRG%G\"       \"SLLG%E\"      \n",
       "[7169] \"SLDRG%E\"      \"SRDRG%YE\"     \"%LTYE\"        \"SY%YG\"       \n",
       "[7173] \"SD%SYG\"       \"SQ%YNE\"       \"RQG%AE\"       \"SEG%DT\"      \n",
       "[7177] \"SISG%E\"       \"SLETG%\"       \"%DGNTGE\"      \"%PGSNQP\"     \n",
       "[7181] \"S%GRDYG\"      \"S%GQYNE\"      \"S%GDNSP\"      \"S%TRGGE\"     \n",
       "[7185] \"SQ%NTGE\"      \"SG%DTDT\"      \"SV%PNTE\"      \"EG%LNTE\"     \n",
       "[7189] \"SQ%GSYE\"      \"SSG%GET\"      \"SPP%GTE\"      \"SVS%TGE\"     \n",
       "[7193] \"SPRG%DE\"      \"SPSG%NE\"      \"SPGGS%E\"      \"SVQGG%E\"     \n",
       "[7197] \"SYGQG%E\"      \"%DRGLNTE\"     \"S%RSSGNT\"     \"RTG%GNQP\"    \n",
       "[7201] \"SETG%NTE\"     \"SAGTG%NE\"     \"SPSGG%NE\"     \"SPGQGA%G\"    \n",
       "[7205] \"S%GGASTDT\"    \"SV%GSSYNE\"    \"SLGTSGS%E\"    \"S%VNE\"       \n",
       "[7209] \"SEA%E\"        \"SLGE%\"        \"TGG%NTE\"      \"RDR%NSP\"     \n",
       "[7213] \"%GQET\"        \"SLGT%\"        \"%GSGG\"        \"%NRGE\"       \n",
       "[7217] \"S%ANE\"        \"SL%VE\"        \"SF%EK\"        \"SS%DE\"       \n",
       "[7221] \"SK%TE\"        \"S%LNSP\"       \"S%SNEK\"       \"S%GASG\"      \n",
       "[7225] \"R%LNYG\"       \"SP%NSP\"       \"SS%SYG\"       \"SW%GNE\"      \n",
       "[7229] \"SK%GYE\"       \"SDR%NE\"       \"SLS%SE\"       \"SER%NE\"      \n",
       "[7233] \"SQTG%G\"       \"SLGN%E\"       \"SLVGQ%\"       \"SLVSG%\"      \n",
       "[7237] \"SLGGD%\"       \"%EGMNTE\"      \"%EGLNTE\"      \"%SGLNTE\"     \n",
       "[7241] \"S%QPNTE\"      \"S%AGDYE\"      \"S%LGGDE\"      \"S%RGRTE\"     \n",
       "[7245] \"SL%RAYE\"      \"SL%STGE\"      \"SE%VNTE\"      \"RKG%NTE\"     \n",
       "[7249] \"TGG%GNT\"      \"SLS%TGE\"      \"GQG%TDT\"      \"SLG%GET\"     \n",
       "[7253] \"SSGQ%YG\"      \"RQGL%TE\"      \"SPGA%YE\"      \"SLGP%NE\"     \n",
       "[7257] \"SLAGR%E\"      \"SGQGA%E\"      \"SLVQG%E\"      \"S%QGANTE\"    \n",
       "[7261] \"S%TGGAGE\"     \"S%GTVSYE\"     \"S%GLAGET\"     \"S%DRANYG\"    \n",
       "[7265] \"SR%YSNQP\"     \"RD%SSYNE\"     \"S%GLAGTGE\"    \"S%GGAGANV\"   \n",
       "[7269] \"%TGNT\"        \"GS%NE\"        \"SS%SE\"        \"SFS%E\"       \n",
       "[7273] \"SDGG%\"        \"S%TSGE\"       \"S%RGSE\"       \"G%ANTGE\"     \n",
       "[7277] \"SW%DE\"        \"S%TGSG\"       \"S%GWTE\"       \"S%LADT\"      \n",
       "[7281] \"SV%ADT\"       \"SG%YTE\"       \"SVD%YE\"       \"RDR%SP\"      \n",
       "[7285] \"SPL%YE\"       \"SWGT%E\"       \"SDRT%E\"       \"SLRS%E\"      \n",
       "[7289] \"SALG%E\"       \"SPDG%E\"       \"%RTNTGE\"      \"%DRGNEK\"     \n",
       "[7293] \"S%TGVTE\"      \"S%LGGYE\"      \"S%TGDNE\"      \"S%DRDNE\"     \n",
       "[7297] \"S%GTGLE\"      \"S%GGAET\"      \"S%DGTGE\"      \"S%GTGSE\"     \n",
       "[7301] \"R%TGNQP\"      \"S%AGADT\"      \"GR%GNTE\"      \"SF%GGYE\"     \n",
       "[7305] \"SA%LNTE\"      \"SL%TGNE\"      \"SEA%GYE\"      \"SGL%QET\"     \n",
       "[7309] \"SSG%NYE\"      \"SLDR%NE\"      \"SAGG%YG\"      \"SVGL%YE\"     \n",
       "[7313] \"SATG%TE\"      \"SSGA%YE\"      \"SLASG%E\"      \"SQGGG%E\"     \n",
       "[7317] \"S%REGTDT\"     \"S%SGRSYE\"     \"SG%SNTGE\"     \"SE%SSGNT\"    \n",
       "[7321] \"RSG%STDT\"     \"SLAG%QET\"     \"SLGAGG%E\"     \"%GGEK\"       \n",
       "[7325] \"SPL%E\"        \"%GSGNT\"       \"%RGGTE\"       \"S%AGGYE\"     \n",
       "[7329] \"RD%SSYE\"      \"RG%SGNT\"      \"%KET\"         \"S%GAG\"       \n",
       "[7333] \"STP%E\"        \"%SSTDT\"       \"%DSTDT\"       \"S%GHYE\"      \n",
       "[7337] \"S%RDQP\"       \"S%PTYE\"       \"S%GDEK\"       \"R%PNEK\"      \n",
       "[7341] \"S%LGVE\"       \"GG%SYE\"       \"SP%ADT\"       \"SP%DTE\"      \n",
       "[7345] \"SF%GNT\"       \"SL%VGG\"       \"SLR%AE\"       \"SGR%GE\"      \n",
       "[7349] \"GDRA%E\"       \"SLEG%E\"       \"SDGG%G\"       \"SSGQG%\"      \n",
       "[7353] \"SPGRG%\"       \"%PTGNTE\"      \"%RDGNTE\"      \"S%GQDYG\"     \n",
       "[7357] \"S%LSYNE\"      \"T%SGANV\"      \"S%GLTDT\"      \"R%RGNYG\"     \n",
       "[7361] \"R%TGGYG\"      \"S%GGGAE\"      \"SA%GGTE\"      \"SL%GADT\"     \n",
       "[7365] \"SP%RGYE\"      \"SL%GNNE\"      \"SLG%LYE\"      \"SVG%GET\"     \n",
       "[7369] \"SSDR%YG\"      \"SLDR%TE\"      \"SRDL%GE\"      \"SLQG%YG\"     \n",
       "[7373] \"SPGS%YE\"      \"SPTGA%E\"      \"SLSGS%E\"      \"SV%SSYNE\"    \n",
       "[7377] \"SPTG%SYE\"     \"SSGTSG%YE\"    \"%RNTE\"        \"S%PGG\"       \n",
       "[7381] \"SR%YE\"        \"%QGSYE\"       \"S%TGAE\"       \"SL%PGE\"      \n",
       "[7385] \"A%SSYNE\"      \"SG%SSYNE\"     \"%PTGE\"        \"%TGDNE\"      \n",
       "[7389] \"S%DRET\"       \"R%GDSP\"       \"SV%GQP\"       \"SA%GDT\"      \n",
       "[7393] \"SLG%VE\"       \"SLRD%E\"       \"SAGS%E\"       \"SLAGA%\"      \n",
       "[7397] \"SLVAG%\"       \"S%DRVTE\"      \"R%AGNTE\"      \"S%ASYNE\"     \n",
       "[7401] \"G%GANYG\"      \"S%GQNYE\"      \"S%TGRTE\"      \"S%SGRET\"     \n",
       "[7405] \"R%LSGNT\"      \"S%LSTDT\"      \"S%GLVYE\"      \"S%RGVGE\"     \n",
       "[7409] \"R%GGNEK\"      \"G%GRNTE\"      \"S%PGGDE\"      \"S%VSTDT\"     \n",
       "[7413] \"ST%SSYE\"      \"RV%NTGE\"      \"SEG%NSP\"      \"SPG%NYE\"     \n",
       "[7417] \"SAGQ%YE\"      \"SQDR%TE\"      \"S%SGGQET\"     \"SG%SSGNT\"    \n",
       "[7421] \"SG%GGSYE\"     \"SPGG%SYE\"     \"SPGL%TDT\"     \"TPGQG%YE\"    \n",
       "[7425] \"SEGTG%YE\"     \"R%LAGGTDT\"    \"S%GQGSNQP\"    \"S%GLAGTDT\"   \n",
       "[7429] \"S%GQP\"        \"%DRGYG\"       \"SGQG%GE\"      \"SR%GE\"       \n",
       "[7433] \"S%SDE\"        \"SL%DT\"        \"RLG%E\"        \"SLL%E\"       \n",
       "[7437] \"SLAG%\"        \"SL%VGE\"       \"SPPG%G\"       \"R%GSYNE\"     \n",
       "[7441] \"%EAYE\"        \"SFG%P\"        \"SYT%E\"        \"SLRE%\"       \n",
       "[7445] \"%QGGQP\"       \"%EMNTE\"       \"%KGNTE\"       \"S%SRDE\"      \n",
       "[7449] \"K%GSYE\"       \"S%VGRE\"       \"S%EGDE\"       \"S%EGQP\"      \n",
       "[7453] \"SL%ADT\"       \"SL%LNE\"       \"SLK%GE\"       \"SGG%EK\"      \n",
       "[7457] \"SFG%NE\"       \"SPWG%E\"       \"%QGAYNE\"      \"S%GFTDT\"     \n",
       "[7461] \"G%GVNTE\"      \"S%ELNTE\"      \"S%DRDQP\"      \"S%GLNYE\"     \n",
       "[7465] \"S%QGSYG\"      \"S%ASSYE\"      \"S%TSNQP\"      \"SR%GNYG\"     \n",
       "[7469] \"SG%DTGE\"      \"RDG%NTE\"      \"SRD%GNT\"      \"SIAGG%E\"     \n",
       "[7473] \"SWTGG%E\"      \"S%QGGTGE\"     \"SV%GSSYE\"     \"RG%GNTGE\"    \n",
       "[7477] \"SGQ%NTGE\"     \"STGQG%YE\"     \"SSGLAG%YE\"    \"%PGE\"        \n",
       "[7481] \"SG%ET\"        \"%QGAGE\"       \"S%SGSYE\"      \"RGQG%GE\"     \n",
       "[7485] \"S%RYG\"        \"SVRD%\"        \"%GWNTE\"       \"%PGGGE\"      \n",
       "[7489] \"R%GPYG\"       \"S%GQTE\"       \"LTG%YG\"       \"SLV%TE\"      \n",
       "[7493] \"%VGGTDT\"      \"T%QGNTE\"      \"S%LGGTE\"      \"S%GQGAG\"     \n",
       "[7497] \"S%ENTGE\"      \"ST%GNQP\"      \"SP%GGSE\"      \"SGD%NTE\"     \n",
       "[7501] \"TGR%NTE\"      \"SPS%GGE\"      \"SLG%VYE\"      \"SLG%EGE\"     \n",
       "[7505] \"RGT%NSP\"      \"RLA%SYE\"      \"RRDR%YE\"      \"SVSG%GE\"     \n",
       "[7509] \"SPAGG%E\"      \"S%GGGAGE\"     \"SR%GSNQP\"     \"SL%GGSGE\"    \n",
       "[7513] \"SLA%STDT\"     \"SVG%GSYE\"     \"S%SGGSYNE\"    \"S%GEK\"       \n",
       "[7517] \"%GGAGE\"       \"%GANTE\"       \"S%GDYG\"       \"SG%GET\"      \n",
       "[7521] \"SVTG%E\"       \"GQ%NTGE\"      \"%QGAE\"        \"R%ADT\"       \n",
       "[7525] \"S%GRNE\"       \"SLAGG%NE\"     \"SL%SP\"        \"S%GLET\"      \n",
       "[7529] \"S%GRYG\"       \"RT%GTE\"       \"RT%NQP\"       \"SSR%DE\"      \n",
       "[7533] \"SWG%TE\"       \"SFGA%E\"       \"SLDT%E\"       \"SFAG%E\"      \n",
       "[7537] \"%GDMNTE\"      \"S%DRGLG\"      \"S%TGDYE\"      \"S%RDNQP\"     \n",
       "[7541] \"S%ASGNT\"      \"R%GGGNT\"      \"DR%SYNE\"      \"SR%GGET\"     \n",
       "[7545] \"ST%SGNT\"      \"GT%MNTE\"      \"SS%RGGE\"      \"SAG%GGE\"     \n",
       "[7549] \"SLG%GNT\"      \"SRGA%YE\"      \"SLAG%TE\"      \"SVGTG%E\"     \n",
       "[7553] \"SPLGG%E\"      \"%QGANTGE\"     \"%GTGSSYE\"     \"S%GSYNSP\"    \n",
       "[7557] \"S%QGSTDT\"     \"S%TSGTYE\"     \"SL%GSTDT\"     \"SAGQG%YE\"    \n",
       "[7561] \"S%TSGGTDT\"    \"S%GLAGGDE\"    \"S%GTSSYNE\"    \"R%NTGE\"      \n",
       "[7565] \"RD%YG\"        \"R%SNQP\"       \"SG%TYE\"       \"%GLGTE\"      \n",
       "[7569] \"S%AGYG\"       \"SL%GWE\"       \"GG%NTE\"       \"SG%VYE\"      \n",
       "[7573] \"SLS%TE\"       \"SLS%NE\"       \"SRS%YE\"       \"SPPS%E\"      \n",
       "[7577] \"SVGV%E\"       \"SVGGG%\"       \"SLGGE%\"       \"%GQGYTE\"     \n",
       "[7581] \"S%AGGET\"      \"S%PGGTE\"      \"S%GSGTE\"      \"S%DNSYE\"     \n",
       "[7585] \"ST%LNTE\"      \"SR%SNTE\"      \"SPS%SYE\"      \"TGQG%TE\"     \n",
       "[7589] \"SLRGA%E\"      \"SPQGA%E\"      \"S%GTASYE\"     \"AG%SSYNE\"    \n",
       "[7593] \"SRDR%NQP\"     \"SLGGG%YE\"     \"SPGTSG%E\"     \"SAGTGG%E\"    \n",
       "[7597] \"RVG%E\"        \"%GATNEK\"      \"%SGSYNE\"      \"SLG%G\"       \n",
       "[7601] \"%RSYE\"        \"%LGYG\"        \"SL%DG\"        \"SDL%E\"       \n",
       "[7605] \"SDS%G\"        \"SS%RNE\"       \"SSG%NE\"       \"SLY%GE\"      \n",
       "[7609] \"SKG%GE\"       \"%QGLNTE\"      \"%GQGATE\"      \"%QGTGNT\"     \n",
       "[7613] \"%PGSSYE\"      \"D%SSYNE\"      \"S%TGGET\"      \"S%GDTDT\"     \n",
       "[7617] \"S%DSNYG\"      \"R%RGDTE\"      \"R%TANYG\"      \"SE%GSYE\"     \n",
       "[7621] \"SP%GNYG\"      \"SP%GPYE\"      \"SR%GDTE\"      \"SRD%AYE\"     \n",
       "[7625] \"SPR%TGE\"      \"GLAG%NE\"      \"S%GRSSYE\"     \"S%GAGTDT\"    \n",
       "[7629] \"S%GQSNQP\"     \"SSGT%SYE\"     \"SRDR%NYG\"     \"SRTGG%YE\"    \n",
       "[7633] \"HGHS\"         \"%SGSE\"        \"%QNTE\"        \"%AGDE\"       \n",
       "[7637] \"R%DRE\"        \"S%VYE\"        \"S%WDE\"        \"GG%EK\"       \n",
       "[7641] \"RL%ET\"        \"SF%ET\"        \"RT%YE\"        \"SL%NT\"       \n",
       "[7645] \"SLR%G\"        \"%GGGQP\"       \"%DLNTE\"       \"%GGSET\"      \n",
       "[7649] \"S%AGET\"       \"S%RGQP\"       \"S%GLGE\"       \"G%GGQP\"      \n",
       "[7653] \"R%GGNE\"       \"S%GVSE\"       \"S%GGET\"       \"RA%GNT\"      \n",
       "[7657] \"RD%GET\"       \"SE%NQP\"       \"SL%GDG\"       \"SP%RNE\"      \n",
       "[7661] \"SR%GEK\"       \"ST%QET\"       \"RGT%YG\"       \"SLL%TE\"      \n",
       "[7665] \"SYP%GE\"       \"SRT%TE\"       \"SVG%SE\"       \"RSG%TE\"      \n",
       "[7669] \"SES%TE\"       \"SLIG%E\"       \"SSSG%T\"       \"SLSRG%\"      \n",
       "[7673] \"%GPGANV\"      \"S%SGAYE\"      \"S%GGEET\"      \"S%QGGQP\"     \n",
       "[7677] \"S%RGYNE\"      \"S%TGGYE\"      \"S%TGQET\"      \"S%GPNEK\"     \n",
       "[7681] \"R%TGAYE\"      \"S%GGRDE\"      \"S%GVGQP\"      \"S%ASGYE\"     \n",
       "[7685] \"S%QGADT\"      \"S%GHSYE\"      \"S%GINQP\"      \"SL%TGYE\"     \n",
       "[7689] \"RG%NTGE\"      \"SQ%SNQP\"      \"SL%AGYE\"      \"RG%SNTE\"     \n",
       "[7693] \"SD%SYNE\"      \"SL%GAGE\"      \"SL%RGRE\"      \"SR%GYNE\"     \n",
       "[7697] \"SE%GTDT\"      \"SGS%TGE\"      \"SAG%AYE\"      \"SPG%PYE\"     \n",
       "[7701] \"SRD%TGE\"      \"SLT%TGE\"      \"SGT%NSP\"      \"TPG%SYE\"     \n",
       "[7705] \"SRTG%DE\"      \"SPGR%YE\"      \"PGQG%TE\"      \"SLGQ%GE\"     \n",
       "[7709] \"RGTS%YE\"      \"SLGTG%G\"      \"SFTGG%E\"      \"SPDRG%G\"     \n",
       "[7713] \"%LAGGTDT\"     \"S%TSSYNE\"     \"S%GQGNEK\"     \"S%LSSYNE\"    \n",
       "[7717] \"SGQG%TGE\"     \"SAGG%YNE\"     \"SGGQG%YE\"     \"SRDRG%YG\"    \n",
       "[7721] \"SVGQGA%E\"     \"S%EGG\"        \"S%LNE\"        \"S%GHE\"       \n",
       "[7725] \"GG%TE\"        \"SL%EK\"        \"SRT%E\"        \"SPS%G\"       \n",
       "[7729] \"SPS%E\"        \"%TLNTE\"       \"S%GQNE\"       \"G%GNQP\"      \n",
       "[7733] \"A%GGTE\"       \"S%TAGE\"       \"S%TGDG\"       \"G%GSYG\"      \n",
       "[7737] \"S%GVDE\"       \"S%GRSE\"       \"S%VSYE\"       \"S%RGLG\"      \n",
       "[7741] \"S%GGGG\"       \"S%TPYE\"       \"SP%GGP\"       \"SS%NYG\"      \n",
       "[7745] \"SP%GLG\"       \"SE%QET\"       \"SL%ARE\"       \"SSR%YE\"      \n",
       "[7749] \"RGA%YE\"       \"SLG%SP\"       \"SLT%TE\"       \"SLD%SE\"      \n",
       "[7753] \"SQVG%E\"       \"SLRA%E\"       \"SEGT%E\"       \"%GNSGNT\"     \n",
       "[7757] \"%GQGDTE\"      \"%GRVNTE\"      \"%SGNTGE\"      \"%QGTNTE\"     \n",
       "[7761] \"S%DSNTE\"      \"S%AGQET\"      \"S%GTQET\"      \"S%QGDYG\"     \n",
       "[7765] \"SV%SGNT\"      \"SQV%GGE\"      \"SPL%GGE\"      \"SGG%GNT\"     \n",
       "[7769] \"SVGG%YE\"      \"TSGG%YE\"      \"%GTGGSYE\"     \"S%LAGSYE\"    \n",
       "[7773] \"S%GLAGVE\"     \"SL%GGPGE\"     \"SDR%SNQP\"     \"SPG%SNQP\"    \n",
       "[7777] \"SRG%GNQP\"     \"SGLA%YNE\"     \"SSGG%TDT\"     \"SGGG%YNE\"    \n",
       "[7781] \"SLTSG%YE\"     \"%GET\"         \"%GGTE\"        \"%QGVE\"       \n",
       "[7785] \"%DGTE\"        \"%SGAE\"        \"S%INE\"        \"S%DSP\"       \n",
       "[7789] \"SE%ET\"        \"RG%DT\"        \"SA%NE\"        \"SQ%DT\"       \n",
       "[7793] \"SYL%E\"        \"SYPG%\"        \"SYRD%\"        \"%QGATE\"      \n",
       "[7797] \"%GTGDE\"       \"%VMNTE\"       \"%GGQET\"       \"%TGDQP\"      \n",
       "[7801] \"R%RDTE\"       \"S%ITGE\"       \"E%GNTE\"       \"S%GTYG\"      \n",
       "[7805] \"S%DRVG\"       \"SR%PYE\"       \"SL%QGR\"       \"SA%QET\"      \n",
       "[7809] \"RR%GNE\"       \"GD%NQP\"       \"RG%GNT\"       \"SV%YNE\"      \n",
       "[7813] \"RGS%NE\"       \"SRG%GE\"       \"SLW%GE\"       \"SPG%SE\"      \n",
       "[7817] \"SVG%GG\"       \"RGQG%E\"       \"SLSR%E\"       \"%DRAGNT\"     \n",
       "[7821] \"%GVSGNT\"      \"T%GSGNT\"      \"S%TGDYG\"      \"S%RGTYE\"     \n",
       "[7825] \"S%GRYNE\"      \"R%LNTGE\"      \"SV%STDT\"      \"SS%GAYE\"     \n",
       "[7829] \"SP%LNTE\"      \"GD%NTGE\"      \"SD%STDT\"      \"SL%GLGE\"     \n",
       "[7833] \"SD%MNTE\"      \"SR%GTYE\"      \"SGD%SYE\"      \"SVG%NYG\"     \n",
       "[7837] \"GTG%QET\"      \"SSG%NYG\"      \"STG%GYE\"      \"SDG%NTE\"     \n",
       "[7841] \"SEG%QET\"      \"SLGG%DE\"      \"SLGGP%E\"      \"S%GPNTGE\"    \n",
       "[7845] \"S%GTSSYE\"     \"S%GPSTDT\"     \"SV%GGTGE\"     \"SL%GGTGE\"    \n",
       "[7849] \"SSG%GNQP\"     \"SRGG%TDT\"     \"R%ET\"         \"SSY%\"        \n",
       "[7853] \"SLF%E\"        \"SVG%E\"        \"SYGG%\"        \"%GSYNE\"      \n",
       "[7857] \"%LAKNI\"       \"G%SGNT\"       \"S%GSSE\"       \"S%PQET\"      \n",
       "[7861] \"S%RGRG\"       \"S%GNQP\"       \"SR%NSP\"       \"SR%GYE\"      \n",
       "[7865] \"GG%NYG\"       \"SD%SYE\"       \"SD%GET\"       \"RQ%NQP\"      \n",
       "[7869] \"SRT%NE\"       \"SPS%NE\"       \"SQD%RG\"       \"%QGSTDT\"     \n",
       "[7873] \"S%GLGTE\"      \"S%GANQP\"      \"R%TGTGE\"      \"S%TSGYE\"     \n",
       "[7877] \"RG%GDTE\"      \"SV%GTDT\"      \"SL%GNYG\"      \"STG%TDT\"     \n",
       "[7881] \"SFGG%GE\"      \"SLLG%GE\"      \"SLGS%YE\"      \"SPRQG%E\"     \n",
       "[7885] \"S%GLSTDT\"     \"SP%GSSYE\"     \"SPG%SGNT\"     \"RQG%SNQP\"    \n",
       "[7889] \"SPG%SSYE\"     \"S%LAGAYNE\"    \"SGTSG%TDT\"    \"RG%E\"        \n",
       "[7893] \"R%GNE\"        \"S%VGT\"        \"SH%YE\"        \"RG%ET\"       \n",
       "[7897] \"SGT%E\"        \"SSR%E\"        \"SFG%A\"        \"%AGGTE\"      \n",
       "[7901] \"%PGGYE\"       \"%DGNQP\"       \"R%TNEK\"       \"S%GGSP\"      \n",
       "[7905] \"S%SPYE\"       \"S%RQET\"       \"ST%TDT\"       \"SL%YNE\"      \n",
       "[7909] \"SE%GYE\"       \"SL%GSP\"       \"SF%GDE\"       \"SF%GTE\"      \n",
       "[7913] \"SDG%GE\"       \"SQGL%E\"       \"SSGV%E\"       \"SVGG%G\"      \n",
       "[7917] \"SLRTG%\"       \"%SGGAYE\"      \"%AANTGE\"      \"%AGGQET\"     \n",
       "[7921] \"%GGPTDT\"      \"%GRGNTE\"      \"D%SGANV\"      \"S%SGTYE\"     \n",
       "[7925] \"S%GTGNT\"      \"S%DMNTE\"      \"SL%GGDE\"      \"SR%GTDT\"     \n",
       "[7929] \"SD%SSYE\"      \"SP%GGNE\"      \"RR%SGNT\"      \"SDG%SYE\"     \n",
       "[7933] \"RDG%SYE\"      \"GQG%NTE\"      \"SPTG%YG\"      \"AGQG%YE\"     \n",
       "[7937] \"SPRG%YE\"      \"SPGG%NE\"      \"SRTG%NE\"      \"S%RSSYNE\"    \n",
       "[7941] \"S%QGGNQP\"     \"RGG%SYNE\"     \"%RTYE\"        \"S%EDE\"       \n",
       "[7945] \"RG%YE\"        \"SLR%T\"        \"SPP%E\"        \"%GGNQP\"      \n",
       "[7949] \"%RGSTE\"       \"%WGNTE\"       \"%RGRTE\"       \"G%TSYE\"      \n",
       "[7953] \"S%TAYE\"       \"S%AQET\"       \"S%VGDE\"       \"SF%GAE\"      \n",
       "[7957] \"RR%QET\"       \"AGG%ET\"       \"RGG%GE\"       \"GLA%NE\"      \n",
       "[7961] \"SPG%DT\"       \"RGGR%E\"       \"SDQG%E\"       \"%GQGGYE\"     \n",
       "[7965] \"%ASGANV\"      \"R%YSNQP\"      \"S%GLYNE\"      \"S%GPNQP\"     \n",
       "[7969] \"S%GTGGE\"      \"S%AGAYE\"      \"RD%GNTE\"      \"SV%GGYE\"     \n",
       "[7973] \"SP%LAGE\"      \"SP%RGGE\"      \"SD%GTGE\"      \"RD%GSYE\"     \n",
       "[7977] \"SPG%NYG\"      \"SSG%QET\"      \"RPG%NTE\"      \"SRGR%YE\"     \n",
       "[7981] \"SSGGA%E\"      \"SLVGG%E\"      \"SR%SSYNE\"     \"SQG%SNQP\"    \n",
       "[7985] \"RGQG%TGE\"     \"S%GLAGVYE\"    \"G%G\"          \"%RNE\"        \n",
       "[7989] \"R%GYE\"        \"SF%SE\"        \"SGN%E\"        \"%AGANV\"      \n",
       "[7993] \"S%DTYE\"       \"S%RYNE\"       \"S%RDYE\"       \"S%EGNE\"      \n",
       "[7997] \"SG%NYE\"       \"RA%TDT\"       \"QG%NEK\"       \"SR%DTE\"      \n",
       "[8001] \"GTG%YE\"       \"SGAG%E\"       \"%RDRGNE\"      \"S%SSSYE\"     \n",
       "[8005] \"S%GYQET\"      \"S%GFSYE\"      \"R%GQNTE\"      \"S%GSNYG\"     \n",
       "[8009] \"S%QGDQP\"      \"S%GRNQP\"      \"SL%RGYE\"      \"SS%GAGE\"     \n",
       "[8013] \"SLG%RGE\"      \"SEGG%YE\"      \"SGQG%QP\"      \"SGTG%YNE\"    \n",
       "[8017] \"%ANE\"         \"S%FNE\"        \"T%GAE\"        \"SY%TE\"       \n",
       "[8021] \"SR%LE\"        \"SD%DT\"        \"SV%GE\"        \"GQ%YG\"       \n",
       "[8025] \"SFL%E\"        \"%GTGYG\"       \"S%AGDT\"       \"S%WTGE\"      \n",
       "[8029] \"S%LQET\"       \"S%GSDT\"       \"RD%AYE\"       \"SS%NSP\"      \n",
       "[8033] \"RAG%YE\"       \"SLA%NE\"       \"SSGT%G\"       \"SLGR%G\"      \n",
       "[8037] \"SLGD%E\"       \"SQDS%E\"       \"SEGA%E\"       \"%GGTYNE\"     \n",
       "[8041] \"S%TSSYE\"      \"R%GAYNE\"      \"S%GDTGE\"      \"SL%GGSE\"     \n",
       "[8045] \"SR%GTGE\"      \"RQG%GTE\"      \"SEG%TGE\"      \"SLR%GGE\"     \n",
       "[8049] \"RLAG%YE\"      \"SRGQ%YE\"      \"SLQGA%E\"      \"%AGGSTDT\"    \n",
       "[8053] \"S%GLAGAGE\"    \"%PSYE\"        \"SE%GE\"        \"SEY%E\"       \n",
       "[8057] \"%DRDTE\"       \"S%RGDE\"       \"G%GGTE\"       \"SE%YNE\"      \n",
       "[8061] \"GLA%YE\"       \"SPR%YE\"       \"SLD%GG\"       \"SFSG%E\"      \n",
       "[8065] \"%QGGTDT\"      \"S%GGGNT\"      \"S%SYNSP\"      \"S%GGRNE\"     \n",
       "[8069] \"S%QGGNE\"      \"RQ%NTGE\"      \"RAG%YNE\"      \"%GTANTGE\"    \n",
       "[8073] \"SRLAG%YE\"     \"SRTSG%YE\"     \"SPGQG%NE\"     \"SY%\"         \n",
       "[8077] \"GQ%\"          \"%RDTE\"        \"S%GGG\"        \"R%GSE\"       \n",
       "[8081] \"%TSYNE\"       \"S%PYNE\"       \"R%RGYE\"       \"SD%YNE\"      \n",
       "[8085] \"SLA%GE\"       \"SFTG%E\"       \"%GQGPYE\"      \"R%GSSYE\"     \n",
       "[8089] \"S%TGNQP\"      \"RR%SYNE\"      \"SR%STDT\"      \"SGR%SYE\"     \n",
       "[8093] \"SPTG%YE\"      \"SGTSG%NE\"     \"GY%\"          \"RGD%\"        \n",
       "[8097] \"%RANE\"        \"%GNEK\"        \"%NYNE\"        \"R%VNE\"       \n",
       "[8101] \"I%GTE\"        \"SD%RE\"        \"SV%ET\"        \"SP%AE\"       \n",
       "[8105] \"SDR%E\"        \"%EGNQP\"       \"%RSYNE\"       \"S%GNSP\"      \n",
       "[8109] \"SV%GAE\"       \"GA%NTE\"       \"GT%SYE\"       \"SPS%YE\"      \n",
       "[8113] \"SGD%YE\"       \"SGTS%E\"       \"SLGGQ%\"       \"%RGPNTE\"     \n",
       "[8117] \"%QGANYG\"      \"S%GISYE\"      \"S%GGLGE\"      \"RG%GTGE\"     \n",
       "[8121] \"SR%NTGE\"      \"SL%GRGE\"      \"SGQ%NSP\"      \"GQG%GNT\"     \n",
       "[8125] \"SEG%GYE\"      \"SQG%NYG\"      \"SLTG%YE\"      \"SPSG%YE\"     \n",
       "[8129] \"S%GTSGYE\"     \"G%NTE\"        \"RTG%G\"        \"SFGQ%\"       \n",
       "[8133] \"S%SSGE\"       \"S%GFYE\"       \"S%GNNE\"       \"S%PGGE\"      \n",
       "[8137] \"SD%TDT\"       \"SL%RDE\"       \"SRT%YE\"       \"SLGGG%\"      \n",
       "[8141] \"RG%STDT\"      \"RT%SGNT\"      \"STG%NYG\"      \"SDR%NQP\"     \n",
       "[8145] \"SRDS%YE\"      \"SAGG%YE\"      \"STGG%YE\"      \"SPTGG%E\"     \n",
       "[8149] \"%AGGSYNE\"     \"S%RNT\"        \"RG%TE\"        \"SR%ET\"       \n",
       "[8153] \"S%QGGG\"       \"S%RDNE\"       \"S%PSGE\"       \"S%TGNT\"      \n",
       "[8157] \"SS%AYE\"       \"SL%GLE\"       \"TG%NEK\"       \"RGL%GE\"      \n",
       "[8161] \"SSP%GE\"       \"DRG%YG\"       \"SPD%YE\"       \"SRSG%E\"      \n",
       "[8165] \"GRG%NTE\"      \"SDR%SYE\"      \"%GNE\"         \"S%ASE\"       \n",
       "[8169] \"SQ%SE\"        \"SVV%E\"        \"RGG%T\"        \"%TDSYE\"      \n",
       "[8173] \"%RANYG\"       \"R%SSYE\"       \"R%ENTE\"       \"T%GNQP\"      \n",
       "[8177] \"TS%SYE\"       \"SR%GYG\"       \"SDP%GE\"       \"SSGG%G\"      \n",
       "[8181] \"S%AGTDT\"      \"S%RGGGE\"      \"%NTE\"         \"V%TE\"        \n",
       "[8185] \"SG%E\"         \"%LTGE\"        \"R%DYE\"        \"SPT%E\"       \n",
       "[8189] \"%GQNYG\"       \"%LNTGE\"       \"%GTSYE\"       \"%GLSYE\"      \n",
       "[8193] \"S%RTGG\"       \"GT%GNT\"       \"SR%GET\"       \"SQ%SYE\"      \n",
       "[8197] \"SLPG%G\"       \"SQTG%E\"       \"%PSSYNE\"      \"%GTNTGE\"     \n",
       "[8201] \"R%GANTE\"      \"GR%NTGE\"      \"SLAGA%E\"      \"S%GLAGDE\"    \n",
       "[8205] \"%EYNE\"        \"S%RNE\"        \"S%GSG\"        \"%PGNTE\"      \n",
       "[8209] \"%GLNTE\"       \"SLG%GG\"       \"GGG%ET\"       \"SYRG%E\"      \n",
       "[8213] \"RG%TNEK\"      \"SEG%SNQP\"     \"%LQET\"        \"G%QET\"       \n",
       "[8217] \"RS%TE\"        \"S%DRAE\"       \"SG%NEK\"       \"SRG%ET\"      \n",
       "[8221] \"S%GDSYE\"      \"SRG%TDT\"      \"S%GLAGYE\"     \"R%GDG\"       \n",
       "[8225] \"SFG%T\"        \"SQGR%\"        \"RGG%YG\"       \"SLGP%E\"      \n",
       "[8229] \"%QGSNQP\"      \"S%GQSYE\"      \"SG%GTGE\"      \"STG%SYE\"     \n",
       "[8233] \"S%GLAGGYE\"    \"%YNE\"         \"%LTDT\"        \"R%GEK\"       \n",
       "[8237] \"SD%TE\"        \"SPA%E\"        \"SFGG%\"        \"%GQGYG\"      \n",
       "[8241] \"S%LSGE\"       \"S%ASYE\"       \"RD%GYE\"       \"RT%TGE\"      \n",
       "[8245] \"LG%NTE\"       \"%TSSYNE\"      \"S%GPYNE\"      \"SGG%SNQP\"    \n",
       "[8249] \"T%G\"          \"%GVYE\"        \"%RGET\"        \"%TGAE\"       \n",
       "[8253] \"%RGPYE\"       \"R%SGNT\"       \"SPGGG%\"       \"SL%GVGE\"     \n",
       "[8257] \"SLAGG%YE\"     \"S%GLG\"        \"SG%TE\"        \"R%DTGE\"      \n",
       "[8261] \"S%DRGR\"       \"SL%GTG\"       \"SV%AGE\"       \"SLGL%G\"      \n",
       "[8265] \"T%GSSYE\"      \"Q%NTE\"        \"G%NYG\"        \"S%RVE\"       \n",
       "[8269] \"GGA%E\"        \"SGQ%E\"        \"SQD%E\"        \"SQA%E\"       \n",
       "[8273] \"%DRNTE\"       \"%PSTDT\"       \"%ASTDT\"       \"RD%TYE\"      \n",
       "[8277] \"RGTG%E\"       \"SRGG%E\"       \"R%TSTDT\"      \"RTG%NQP\"     \n",
       "[8281] \"SGLAG%YE\"     \"VG%E\"         \"RE%TE\"        \"SSP%E\"       \n",
       "[8285] \"SPG%T\"        \"SQG%T\"        \"GT%NYG\"       \"SFG%GE\"      \n",
       "[8289] \"SGN%\"         \"RDG%E\"        \"SPGG%\"        \"%QGNQP\"      \n",
       "[8293] \"R%GQET\"       \"S%TGRE\"       \"SRGA%E\"       \"%TGVNTE\"     \n",
       "[8297] \"SG%GNQP\"      \"SEG%SYE\"      \"SGG%TGE\"      \"SGG%STDT\"    \n",
       "[8301] \"S%DG\"         \"S%LRE\"        \"S%ARE\"        \"TG%ET\"       \n",
       "[8305] \"%GGMNTE\"      \"S%RGAGE\"      \"RDR%TDT\"      \"SGS%YNE\"     \n",
       "[8309] \"RDRG%TE\"      \"SRTGG%E\"      \"SS%E\"         \"%RQET\"       \n",
       "[8313] \"SSL%E\"        \"SFGT%\"        \"%TGNQP\"       \"SS%GTE\"      \n",
       "[8317] \"SLGL%E\"       \"SLVG%G\"       \"R%DSNQP\"      \"R%SSYNSP\"    \n",
       "[8321] \"SL%E\"         \"R%TDT\"        \"SS%NE\"        \"SW%GE\"       \n",
       "[8325] \"LGG%E\"        \"SSQG%\"        \"STGT%\"        \"%YSNQP\"      \n",
       "[8329] \"SG%GNT\"       \"GG%TDT\"       \"SPS%GE\"       \"%TGSSYE\"     \n",
       "[8333] \"%GGSGNT\"      \"%SDT\"         \"SST%E\"        \"RG%NQP\"      \n",
       "[8337] \"SGQ%YE\"       \"SLGA%E\"       \"%RDSNQP\"      \"R%GNT\"       \n",
       "[8341] \"SVG%T\"        \"%GPSYE\"       \"%RGDTE\"       \"SL%TGG\"      \n",
       "[8345] \"SL%RGG\"       \"SQGA%E\"       \"N%GE\"         \"S%LDE\"       \n",
       "[8349] \"SVR%E\"        \"R%ATNEK\"      \"SL%GGGE\"      \"%QGSE\"       \n",
       "[8353] \"S%RSE\"        \"SS%DT\"        \"S%GRDE\"       \"GTG%NQP\"     \n",
       "[8357] \"SRD%SYE\"      \"TTG%E\"        \"SSSG%\"        \"%GLAGE\"      \n",
       "[8361] \"SL%GRG\"       \"SV%TGE\"       \"G%GSNQP\"      \"TSG%SYE\"     \n",
       "[8365] \"SGQ%NTE\"      \"%GGE\"         \"%VNTE\"        \"%PYNE\"       \n",
       "[8369] \"SQ%TE\"        \"RR%NE\"        \"R%GTYE\"       \"R%GYNE\"      \n",
       "[8373] \"S%RVGE\"       \"T%SGNT\"       \"RRG%GE\"       \"%GGLNTE\"     \n",
       "[8377] \"R%YE\"         \"K%NTE\"        \"RQ%YE\"        \"%GSNQP\"      \n",
       "[8381] \"RG%GYE\"       \"RGG%NE\"       \"S%GTSYE\"      \"R%SGSYE\"     \n",
       "[8385] \"%YQET\"        \"SGG%T\"        \"SSGL%\"        \"GGG%YE\"      \n",
       "[8389] \"%EGYE\"        \"%LYNE\"        \"T%GGE\"        \"%GGAYE\"      \n",
       "[8393] \"TSG%YE\"       \"%TGGNE\"       \"RLAG%TDT\"     \"SF%\"         \n",
       "[8397] \"%LAGE\"        \"SQG%NE\"       \"SF%GGE\"       \"SL%GDE\"      \n",
       "[8401] \"GQG%ET\"       \"%LAGGYE\"      \"RDRG%YE\"      \"G%YNE\"       \n",
       "[8405] \"RT%GE\"        \"R%GGYE\"       \"SRG%NE\"       \"S%TGGGE\"     \n",
       "[8409] \"%GYE\"         \"SD%GE\"        \"%RMNTE\"       \"STG%GE\"      \n",
       "[8413] \"R%SSGNT\"      \"SRG%G\"        \"SRDR%E\"       \"GT%NTGE\"     \n",
       "[8417] \"RDR%SYE\"      \"%NQP\"         \"%GGYE\"        \"SGG%E\"       \n",
       "[8421] \"SQGG%\"        \"RG%NTE\"       \"LG%E\"         \"SY%E\"        \n",
       "[8425] \"RG%G\"         \"S%GGV\"        \"SPGT%\"        \"S%TGDE\"      \n",
       "[8429] \"GG%YE\"        \"SGG%G\"        \"SDS%E\"        \"RG%SSYE\"     \n",
       "[8433] \"%SNTE\"        \"SP%NE\"        \"R%GAE\"        \"ST%GE\"       \n",
       "[8437] \"SSY%E\"        \"SR%SYE\"       \"S%GRG\"        \"SE%NE\"       \n",
       "[8441] \"ST%YE\"        \"SLAG%G\"       \"SG%NTGE\"      \"%NEK\"        \n",
       "[8445] \"SV%E\"         \"%ANTE\"        \"R%GYG\"        \"%GRNTE\"      \n",
       "[8449] \"S%GGP\"        \"%QET\"         \"R%DT\"         \"S%RTE\"       \n",
       "[8453] \"GG%NTGE\"      \"%DYE\"         \"GA%E\"         \"T%GNE\"       \n",
       "[8457] \"SR%DE\"        \"%TNYG\"        \"SSTG%\"        \"SG%GGE\"      \n",
       "[8461] \"SEGG%E\"       \"%GQLNTE\"      \"%SGSYE\"       \"R%AYE\"       \n",
       "[8465] \"GTG%G\"        \"GG%NQP\"       \"%GTGE\"        \"RQG%E\"       \n",
       "[8469] \"%RGTDT\"       \"SWG%E\"        \"SSG%T\"        \"S%YG\"        \n",
       "[8473] \"R%SYNE\"       \"SL%RG\"        \"%GGNT\"        \"SRTG%E\"      \n",
       "[8477] \"SG%T\"         \"%TNTE\"        \"SG%QET\"       \"%SSYNSP\"     \n",
       "[8481] \"%ANYG\"        \"%GGGTE\"       \"GT%NTE\"       \"SG%GYE\"      \n",
       "[8485] \"GTG%TE\"       \"S%\"           \"%GSGE\"        \"G%GG\"        \n",
       "[8489] \"G%TYE\"        \"SES%E\"        \"R%SSYNE\"      \"%ET\"         \n",
       "[8493] \"G%P\"          \"%GGGE\"        \"%TGYE\"        \"GT%YG\"       \n",
       "[8497] \"SQG%G\"        \"SP%GGE\"       \"RQG%GE\"       \"SLAGG%\"      \n",
       "[8501] \"%GGET\"        \"R%GET\"        \"S%GQG\"        \"SL%GG\"       \n",
       "[8505] \"TG%YG\"        \"S%TGGE\"       \"RG%TGE\"       \"%YG\"         \n",
       "[8509] \"%AGE\"         \"S%DT\"         \"%QGYE\"        \"QG%TE\"       \n",
       "[8513] \"SS%GG\"        \"S%TGG\"        \"G%NTGE\"       \"GQGA%E\"      \n",
       "[8517] \"%GTE\"         \"S%GE\"         \"S%TE\"         \"%QGNE\"       \n",
       "[8521] \"S%RGG\"        \"GG%NE\"        \"SLG%S\"        \"%SGNT\"       \n",
       "[8525] \"R%AGE\"        \"%GSSYE\"       \"S%GGA\"        \"SG%NE\"       \n",
       "[8529] \"SSGG%\"        \"%GNYG\"        \"SLEG%\"        \"G%SSYE\"      \n",
       "[8533] \"G%SNQP\"       \"SLGQG%\"       \"R%GTE\"        \"G%GNE\"       \n",
       "[8537] \"SL%GT\"        \"G%E\"          \"%NTGE\"        \"R%SYE\"       \n",
       "[8541] \"GG%E\"         \"S%GGT\"        \"G%YE\"         \"G%GYE\"       \n",
       "[8545] \"%RGTE\"        \"GQG%E\"        \"G%TDT\"        \"SG%GE\"       \n",
       "[8549] \"G%TE\"         \"G%SYE\"        \"S%P\"          \"G%GE\"        \n",
       "[8553] \"S%G\"          \"%YE\"          \"%G\"           \"%E\"          "
      ]
     },
     "metadata": {},
     "output_type": "display_data"
    }
   ],
   "source": [
    "colnames(pbmc_hla_v_j_gliph)[274:ncol(pbmc_hla_v_j_gliph)]"
   ]
  },
  {
   "cell_type": "code",
   "execution_count": 14,
   "metadata": {
    "vscode": {
     "languageId": "r"
    }
   },
   "outputs": [],
   "source": [
    "cols_gliph <- colnames(pbmc_hla_v_j_gliph)[274:ncol(pbmc_hla_v_j_gliph)]"
   ]
  },
  {
   "cell_type": "code",
   "execution_count": 15,
   "metadata": {
    "vscode": {
     "languageId": "r"
    }
   },
   "outputs": [],
   "source": [
    "pbmc_hla_v_j_gliph$cyclenum <- as.numeric(gsub(\"X0\", \"\", pbmc_hla_v_j_gliph$cycle))"
   ]
  },
  {
   "cell_type": "code",
   "execution_count": 16,
   "metadata": {
    "vscode": {
     "languageId": "r"
    }
   },
   "outputs": [],
   "source": [
    "pbmc_flowonly <- pca.fx(pbmc_hla_v_j_gliph, c(cols_flow), 2)\n",
    "pbmc_tcronly <- pca.fx(pbmc_hla_v_j_gliph, c(cols_others, cols_tbv, cols_tbj), 5)\n",
    "pbmc_tcrhla <- pca.fx(pbmc_hla_v_j_gliph, c(cols_others, cols_tbv, cols_tbj, cols_hla), 5)\n",
    "pbmc_all <- pca.fx(pbmc_hla_v_j_gliph, c(cols_flow, cols_others, cols_tbv, cols_tbj, cols_hla), 5)"
   ]
  },
  {
   "cell_type": "code",
   "execution_count": 17,
   "metadata": {
    "vscode": {
     "languageId": "r"
    }
   },
   "outputs": [],
   "source": [
    "pbmc_gliph <- pca.fx(pbmc_hla_v_j_gliph, c(cols_gliph, cols_tbv, cols_tbj, cols_hla, cols_others, cols_flow), 5)"
   ]
  },
  {
   "cell_type": "code",
   "execution_count": 24,
   "metadata": {
    "vscode": {
     "languageId": "r"
    }
   },
   "outputs": [],
   "source": [
    "cfdna_hla_v_j_gliph <- readr::read_rds(paste0(datapath, \"/int_cfdna_hla_v_j_gliph.rds\"))"
   ]
  },
  {
   "cell_type": "code",
   "execution_count": 25,
   "metadata": {
    "vscode": {
     "languageId": "r"
    }
   },
   "outputs": [],
   "source": [
    "rownames(cfdna_hla_v_j_gliph) <- cfdna_hla_v_j_gliph$sample_id"
   ]
  },
  {
   "cell_type": "code",
   "execution_count": 26,
   "metadata": {
    "vscode": {
     "languageId": "r"
    }
   },
   "outputs": [
    {
     "data": {
      "text/html": [
       "<style>\n",
       ".list-inline {list-style: none; margin:0; padding: 0}\n",
       ".list-inline>li {display: inline-block}\n",
       ".list-inline>li:not(:last-child)::after {content: \"\\00b7\"; padding: 0 .5ex}\n",
       "</style>\n",
       "<ol class=list-inline><li>274</li><li>1495</li></ol>\n"
      ],
      "text/latex": [
       "\\begin{enumerate*}\n",
       "\\item 274\n",
       "\\item 1495\n",
       "\\end{enumerate*}\n"
      ],
      "text/markdown": [
       "1. 274\n",
       "2. 1495\n",
       "\n",
       "\n"
      ],
      "text/plain": [
       "[1]  274 1495"
      ]
     },
     "metadata": {},
     "output_type": "display_data"
    }
   ],
   "source": [
    "dim(cfdna_hla_v_j_gliph)"
   ]
  },
  {
   "cell_type": "code",
   "execution_count": 27,
   "metadata": {
    "vscode": {
     "languageId": "r"
    }
   },
   "outputs": [
    {
     "data": {
      "text/plain": [
       "\n",
       "  0   1 \n",
       "226  48 "
      ]
     },
     "metadata": {},
     "output_type": "display_data"
    }
   ],
   "source": [
    "table(cfdna_hla_v_j_gliph$Relapse)"
   ]
  },
  {
   "cell_type": "code",
   "execution_count": 28,
   "metadata": {
    "vscode": {
     "languageId": "r"
    }
   },
   "outputs": [],
   "source": [
    "cols_tbv <- colnames(cfdna_hla_v_j_gliph)[which(grepl(\"TRBV\", colnames(cfdna_hla_v_j_gliph)) ) ]\n",
    "cols_tbj <- colnames(cfdna_hla_v_j_gliph)[which(grepl(\"TRBJ\", colnames(cfdna_hla_v_j_gliph)) ) ]\n",
    "cols_flow <- c('ATC', 'Naïve%','SCM%','CM%','EM%','TE%','PD1%','LAG3%','TIM3%')\n",
    "cols_others <- c(\"log10shann\")\n",
    "cols_hla <- colnames(cfdna_hla_v_j_gliph)[which(grepl(\":0\", colnames(cfdna_hla_v_j_gliph)) ) ]"
   ]
  },
  {
   "cell_type": "code",
   "execution_count": 29,
   "metadata": {
    "vscode": {
     "languageId": "r"
    }
   },
   "outputs": [
    {
     "data": {
      "text/html": [
       "<style>\n",
       ".list-inline {list-style: none; margin:0; padding: 0}\n",
       ".list-inline>li {display: inline-block}\n",
       ".list-inline>li:not(:last-child)::after {content: \"\\00b7\"; padding: 0 .5ex}\n",
       "</style>\n",
       "<ol class=list-inline><li>258</li><li>259</li><li>260</li><li>261</li><li>262</li><li>263</li><li>264</li><li>265</li><li>266</li><li>267</li><li>268</li><li>269</li><li>270</li></ol>\n"
      ],
      "text/latex": [
       "\\begin{enumerate*}\n",
       "\\item 258\n",
       "\\item 259\n",
       "\\item 260\n",
       "\\item 261\n",
       "\\item 262\n",
       "\\item 263\n",
       "\\item 264\n",
       "\\item 265\n",
       "\\item 266\n",
       "\\item 267\n",
       "\\item 268\n",
       "\\item 269\n",
       "\\item 270\n",
       "\\end{enumerate*}\n"
      ],
      "text/markdown": [
       "1. 258\n",
       "2. 259\n",
       "3. 260\n",
       "4. 261\n",
       "5. 262\n",
       "6. 263\n",
       "7. 264\n",
       "8. 265\n",
       "9. 266\n",
       "10. 267\n",
       "11. 268\n",
       "12. 269\n",
       "13. 270\n",
       "\n",
       "\n"
      ],
      "text/plain": [
       " [1] 258 259 260 261 262 263 264 265 266 267 268 269 270"
      ]
     },
     "metadata": {},
     "output_type": "display_data"
    }
   ],
   "source": [
    "which(grepl(\"TRBJ\", colnames(cfdna_hla_v_j_gliph) ) )"
   ]
  },
  {
   "cell_type": "code",
   "execution_count": 31,
   "metadata": {
    "vscode": {
     "languageId": "r"
    }
   },
   "outputs": [],
   "source": [
    "cols_gliph <- colnames(cfdna_hla_v_j_gliph)[271:ncol(cfdna_hla_v_j_gliph)]"
   ]
  },
  {
   "cell_type": "code",
   "execution_count": 32,
   "metadata": {
    "vscode": {
     "languageId": "r"
    }
   },
   "outputs": [],
   "source": [
    "cfdna_hla_v_j_gliph$cyclenum <- as.numeric(gsub(\"X0\", \"\", cfdna_hla_v_j_gliph$cycle))"
   ]
  },
  {
   "cell_type": "code",
   "execution_count": 33,
   "metadata": {
    "vscode": {
     "languageId": "r"
    }
   },
   "outputs": [],
   "source": [
    "cfdna_flowonly <- pca.fx(cfdna_hla_v_j_gliph, c(cols_flow), 2)\n",
    "cfdna_tcronly <- pca.fx(cfdna_hla_v_j_gliph, c(cols_others, cols_tbv, cols_tbj), 2)\n",
    "cfdna_tcrhla <- pca.fx(cfdna_hla_v_j_gliph, c(cols_others, cols_tbv, cols_tbj, cols_hla), 2)\n",
    "cfdna_all <- pca.fx(cfdna_hla_v_j_gliph, c(cols_flow, cols_others, cols_tbv, cols_tbj, cols_hla), 2)"
   ]
  },
  {
   "cell_type": "code",
   "execution_count": 39,
   "metadata": {
    "vscode": {
     "languageId": "r"
    }
   },
   "outputs": [],
   "source": [
    "cfdna_gliph <- pca.fx(cfdna_hla_v_j_gliph, c(cols_gliph, cols_tbv, cols_tbj, cols_hla, cols_others, cols_flow), 5)\n",
    "cfdna_gliphonly <- pca.fx(cfdna_hla_v_j_gliph, c(cols_gliph), 5)\n",
    "cfdna_gliphhla <- pca.fx(cfdna_hla_v_j_gliph, c(cols_gliph, cols_hla), 5)"
   ]
  },
  {
   "cell_type": "code",
   "execution_count": 42,
   "metadata": {
    "vscode": {
     "languageId": "r"
    }
   },
   "outputs": [
    {
     "data": {
      "text/plain": [
       "[[1]]\n",
       "Logistic Regression Model\n",
       "\n",
       "rms::lrm(formula = Relapse ~ sumdist_n, data = mypatients)\n",
       "\n",
       "                      Model Likelihood     Discrimination    Rank Discrim.    \n",
       "                            Ratio Test            Indexes          Indexes    \n",
       "Obs            42    LR chi2      2.21     R2       0.077    C       0.491    \n",
       " 0             32    d.f.            1     R2(1,42) 0.028    Dxy    -0.019    \n",
       " 1             10    Pr(> chi2) 0.1370    R2(1,22.9)0.052    gamma  -0.019    \n",
       "max |deriv| 0.001                          Brier    0.176    tau-a  -0.007    \n",
       "\n",
       "          Coef    S.E.   Wald Z Pr(>|Z|)\n",
       "Intercept -0.9566 0.3984 -2.40  0.0164  \n",
       "sumdist_n -0.2349 0.4321 -0.54  0.5866  \n",
       "\n",
       "\n",
       "[[2]]\n",
       "Logistic Regression Model\n",
       "\n",
       "rms::lrm(formula = Relapse ~ meddist_n, data = mypatients)\n",
       "\n",
       "                      Model Likelihood     Discrimination    Rank Discrim.    \n",
       "                            Ratio Test            Indexes          Indexes    \n",
       "Obs            42    LR chi2      2.57     R2       0.089    C       0.453    \n",
       " 0             32    d.f.            1     R2(1,42) 0.037    Dxy    -0.094    \n",
       " 1             10    Pr(> chi2) 0.1092    R2(1,22.9)0.066    gamma  -0.094    \n",
       "max |deriv| 7e-05                          Brier    0.175    tau-a  -0.035    \n",
       "\n",
       "          Coef    S.E.   Wald Z Pr(>|Z|)\n",
       "Intercept -0.9165 0.4056 -2.26  0.0238  \n",
       "meddist_n -0.6434 1.0446 -0.62  0.5380  \n",
       "\n"
      ]
     },
     "metadata": {},
     "output_type": "display_data"
    }
   ],
   "source": [
    "cfdna_gliphhla[5:6]"
   ]
  },
  {
   "cell_type": "code",
   "execution_count": null,
   "metadata": {
    "vscode": {
     "languageId": "r"
    }
   },
   "outputs": [],
   "source": []
  },
  {
   "cell_type": "markdown",
   "metadata": {
    "vscode": {
     "languageId": "r"
    }
   },
   "source": [
    "# Impute with imputePCA"
   ]
  },
  {
   "cell_type": "code",
   "execution_count": 86,
   "metadata": {
    "vscode": {
     "languageId": "r"
    }
   },
   "outputs": [],
   "source": [
    "imputepca.fx <- function(df, cols) {\n",
    "    mymat <- df[, cols]\n",
    "    rownames(mymat) <- df[[\"sample_id\"]]\n",
    "    # remove rows with all NAs\n",
    "    mymat <- mymat[rowSums(is.na(mymat)) != ncol(mymat), ]\n",
    "    # rmeove those with only 0s and NAs\n",
    "    mymat <- mymat[rowSums(mymat, na.rm = TRUE) != 0, ]\n",
    "    # order df by sample_id\n",
    "    df <- df[rownames(mymat), ]\n",
    "\n",
    "    # myvars <- sort(Rfast::colVars(mymat), decreasing = TRUE)\n",
    "    # message(\"low variance vars\")\n",
    "    # print(names(myvars)[myvars < 0.000001] )\n",
    "    # estimatenp <- estim_ncpPCA(mymat, ncp.min = 2, ncp.max = 5, scale = TRUE, method.cv = \"Kfold\", nbsim = 10, pNA = 0.01, threshold = 1e-4)\n",
    "    # p0 <- plot(0:5, estimatenp$criterion, xlab = \"estimatenp dim\", ylab = \"MSEP\")\n",
    "    \n",
    "    res.comp <- imputePCA(mymat, ncp = 5, maxiter = 1000)\n",
    "\n",
    "    res.pca <- PCA(res.comp$completeObs, quali.sup = NULL, ncp = 5, graph = FALSE) # use default 5 ncp\n",
    "\n",
    "    # plot PCA with factoextra\n",
    "    p1 <- fviz_pca_ind(res.pca,\n",
    "        col.ind = as.vector(df$cancergroup),\n",
    "        # remove labels\n",
    "        label = \"none\",\n",
    "        repel = TRUE, addEllipses = FALSE\n",
    "    )\n",
    "    # scree plot\n",
    "    p2 <- fviz_eig(res.pca)\n",
    "    myx <- res.pca$ind$coord\n",
    "    mydist <- as.matrix(dist(myx)) # use all 5 ncp\n",
    "\n",
    "    sample_df <- df %>%\n",
    "        group_by(Patient) %>%\n",
    "        # order cyclenum\n",
    "        arrange(cyclenum) %>%\n",
    "        ungroup()\n",
    "    pts <- names(which(table(sample_df$Patient) > 1))\n",
    "    # print(head(sample_df_narm[,1:10]) )\n",
    "    sample_df$dist <- NA\n",
    "    for (i in pts) {\n",
    "        tmp <- sample_df[sample_df$Patient == i, ]\n",
    "        distances_df <- mydist[tmp$sample_id, tmp$sample_id]\n",
    "        if (nrow(tmp) == 2) {\n",
    "            mydiff <- diff(tmp$cyclenum)\n",
    "            if (mydiff == 1) {\n",
    "                tmp$dist[2] <- distances_df[tmp$sample_id[1], tmp$sample_id[2]]\n",
    "            }\n",
    "        }\n",
    "        if (nrow(tmp) == 3) {\n",
    "            mydiff <- diff(tmp$cyclenum)\n",
    "            if (mydiff[1] == 1) {\n",
    "                tmp$dist[2] <- distances_df[tmp$sample_id[1], tmp$sample_id[2]]\n",
    "            }\n",
    "            if (mydiff[2] == 1) {\n",
    "                tmp$dist[3] <- distances_df[tmp$sample_id[2], tmp$sample_id[3]]\n",
    "            }\n",
    "        }\n",
    "        if (nrow(tmp) == 4) {\n",
    "            mydiff <- diff(tmp$cyclenum)\n",
    "            if (mydiff[1] == 1) {\n",
    "                tmp$dist[2] <- distances_df[tmp$sample_id[1], tmp$sample_id[2]]\n",
    "            }\n",
    "            if (mydiff[2] == 1) {\n",
    "                tmp$dist[3] <- distances_df[tmp$sample_id[2], tmp$sample_id[3]]\n",
    "            }\n",
    "            if (mydiff[3] == 1) {\n",
    "                tmp$dist[4] <- distances_df[tmp$sample_id[3], tmp$sample_id[4]]\n",
    "            }\n",
    "        }\n",
    "        if (nrow(tmp) == 5) {\n",
    "            mydiff <- diff(tmp$cyclenum)\n",
    "            if (mydiff[1] == 1) {\n",
    "                tmp$dist[2] <- distances_df[tmp$sample_id[1], tmp$sample_id[2]]\n",
    "            }\n",
    "            if (mydiff[2] == 1) {\n",
    "                tmp$dist[3] <- distances_df[tmp$sample_id[2], tmp$sample_id[3]]\n",
    "            }\n",
    "            if (mydiff[3] == 1) {\n",
    "                tmp$dist[4] <- distances_df[tmp$sample_id[3], tmp$sample_id[4]]\n",
    "            }\n",
    "            if (mydiff[4] == 1) {\n",
    "                tmp$dist[5] <- distances_df[tmp$sample_id[4], tmp$sample_id[5]]\n",
    "            }\n",
    "        }\n",
    "        sample_df$dist[sample_df$Patient == i] <- tmp$dist\n",
    "    }\n",
    "    # message(\"sample_df\")\n",
    "    # print(head(sample_df))\n",
    "    allpts <- as.data.frame(table(sample_df$Patient), stringsAsFactors = F)\n",
    "    sample_df$dist[sample_df$dist == 0] <- NA\n",
    "    allpts$sumdist <- NA\n",
    "    allpts$meddist <- NA\n",
    "    for (i in 1:nrow(allpts)) {\n",
    "        tmp <- as.data.frame(sample_df[sample_df$Patient == allpts$Var1[i], ])\n",
    "        allpts$sumdist[i] <- sum(tmp[tmp$dist != 0, \"dist\"], na.rm = T)\n",
    "        allpts$meddist[i] <- median(tmp[tmp$dist != 0, \"dist\"], na.rm = T)\n",
    "    }\n",
    "    allpts$sumdist_n <- allpts$sumdist / allpts$Freq\n",
    "    allpts$meddist_n <- allpts$meddist / allpts$Freq\n",
    "    # message(\"allpts\")\n",
    "    # print(head(allpts))\n",
    "    allpts_no0 <- allpts[allpts$sumdist_n > 0, ]\n",
    "    allpts_no0 <- allpts_no0[allpts_no0$Freq > 1, ]\n",
    "    # message(\"allpts_no0\")\n",
    "    # print(dim(allpts_no0))\n",
    "\n",
    "    mysample_df <- sample_df[sample_df$Patient %in% allpts_no0$Var1, ]\n",
    "    # message(\"mysample_df\")\n",
    "    # print(head(mysample_df))\n",
    "    # dim(mysample_df)\n",
    "    mypatients <- mysample_df[!duplicated(mysample_df$Patient), ]\n",
    "    # message(\"mypatients\")\n",
    "    # print(head(mypatients))\n",
    "\n",
    "    mypatients$sumdist_n <- allpts_no0$sumdist_n[match(mypatients$Patient, allpts_no0$Var1)]\n",
    "    mypatients$sumdist <- allpts_no0$sumdist[match(mypatients$Patient, allpts_no0$Var1)]\n",
    "    mypatients$meddist_n <- allpts_no0$meddist_n[match(mypatients$Patient, allpts_no0$Var1)]\n",
    "    mypatients$meddist <- allpts_no0$meddist[match(mypatients$Patient, allpts_no0$Var1)]\n",
    "    # print(head(mypatients) )\n",
    "    myfit_sum <- rms::lrm(Relapse ~ sumdist_n , data = mypatients)\n",
    "    myfit_med <- rms::lrm(Relapse ~ meddist_n , data = mypatients)\n",
    "    return(list(res.pca, p1, p2, mypatients, myfit_sum, myfit_med))\n",
    "}\n"
   ]
  },
  {
   "cell_type": "code",
   "execution_count": 101,
   "metadata": {
    "vscode": {
     "languageId": "r"
    }
   },
   "outputs": [],
   "source": [
    "pbmc_hla_v_j_gliph <- readr::read_rds(paste0(datapath, \"/int_pbmc_hla_v_j_gliph.rds\"))"
   ]
  },
  {
   "cell_type": "code",
   "execution_count": 102,
   "metadata": {
    "vscode": {
     "languageId": "r"
    }
   },
   "outputs": [],
   "source": [
    "rownames(pbmc_hla_v_j_gliph) <- pbmc_hla_v_j_gliph$sample_id"
   ]
  },
  {
   "cell_type": "code",
   "execution_count": 103,
   "metadata": {
    "vscode": {
     "languageId": "r"
    }
   },
   "outputs": [
    {
     "data": {
      "text/html": [
       "<style>\n",
       ".list-inline {list-style: none; margin:0; padding: 0}\n",
       ".list-inline>li {display: inline-block}\n",
       ".list-inline>li:not(:last-child)::after {content: \"\\00b7\"; padding: 0 .5ex}\n",
       "</style>\n",
       "<ol class=list-inline><li>534</li><li>8829</li></ol>\n"
      ],
      "text/latex": [
       "\\begin{enumerate*}\n",
       "\\item 534\n",
       "\\item 8829\n",
       "\\end{enumerate*}\n"
      ],
      "text/markdown": [
       "1. 534\n",
       "2. 8829\n",
       "\n",
       "\n"
      ],
      "text/plain": [
       "[1]  534 8829"
      ]
     },
     "metadata": {},
     "output_type": "display_data"
    }
   ],
   "source": [
    "dim(pbmc_hla_v_j_gliph)"
   ]
  },
  {
   "cell_type": "code",
   "execution_count": 104,
   "metadata": {
    "vscode": {
     "languageId": "r"
    }
   },
   "outputs": [
    {
     "data": {
      "text/plain": [
       "\n",
       "  0   1 \n",
       "431 103 "
      ]
     },
     "metadata": {},
     "output_type": "display_data"
    }
   ],
   "source": [
    "table(pbmc_hla_v_j_gliph$Relapse)"
   ]
  },
  {
   "cell_type": "code",
   "execution_count": 105,
   "metadata": {
    "vscode": {
     "languageId": "r"
    }
   },
   "outputs": [],
   "source": [
    "cols_tbv <- colnames(pbmc_hla_v_j_gliph)[which(grepl(\"TRBV\", colnames(pbmc_hla_v_j_gliph)) ) ]\n",
    "cols_tbj <- colnames(pbmc_hla_v_j_gliph)[which(grepl(\"TRBJ\", colnames(pbmc_hla_v_j_gliph)) ) ]\n",
    "cols_flow <- c('Naïve%','SCM%','CM%','EM%','TE%','PD1%','LAG3%','TIM3%')\n",
    "cols_others <- c(\"log10shann\")\n",
    "cols_hla <- colnames(pbmc_hla_v_j_gliph)[which(grepl(\":0\", colnames(pbmc_hla_v_j_gliph)) ) ]"
   ]
  },
  {
   "cell_type": "code",
   "execution_count": 106,
   "metadata": {
    "vscode": {
     "languageId": "r"
    }
   },
   "outputs": [],
   "source": [
    "cols_gliph <- colnames(pbmc_hla_v_j_gliph)[274:ncol(pbmc_hla_v_j_gliph)]"
   ]
  },
  {
   "cell_type": "code",
   "execution_count": 107,
   "metadata": {
    "vscode": {
     "languageId": "r"
    }
   },
   "outputs": [],
   "source": [
    "pbmc_hla_v_j_gliph$cyclenum <- as.numeric(gsub(\"X0\", \"\", pbmc_hla_v_j_gliph$cycle))"
   ]
  },
  {
   "cell_type": "code",
   "execution_count": null,
   "metadata": {
    "vscode": {
     "languageId": "r"
    }
   },
   "outputs": [],
   "source": []
  },
  {
   "cell_type": "markdown",
   "metadata": {},
   "source": [
    "Main"
   ]
  },
  {
   "cell_type": "code",
   "execution_count": null,
   "metadata": {
    "vscode": {
     "languageId": "r"
    }
   },
   "outputs": [],
   "source": [
    "myvars <- sort(Rfast::colVars(pbmc_hla_v_j_gliph[,c(cols_gliph, cols_hla, cols_flow, cols_others, cols_tbj, cols_tbv)], na.rm = T), decreasing = TRUE)"
   ]
  },
  {
   "cell_type": "code",
   "execution_count": null,
   "metadata": {
    "vscode": {
     "languageId": "r"
    }
   },
   "outputs": [],
   "source": [
    "rmcols <- names(myvars)[myvars < 0.25] # 1th percentile"
   ]
  },
  {
   "cell_type": "code",
   "execution_count": null,
   "metadata": {
    "vscode": {
     "languageId": "r"
    }
   },
   "outputs": [],
   "source": [
    "hist(log10(myvars), breaks = 100)"
   ]
  },
  {
   "cell_type": "code",
   "execution_count": null,
   "metadata": {
    "vscode": {
     "languageId": "r"
    }
   },
   "outputs": [],
   "source": [
    "summary(myvars)"
   ]
  },
  {
   "cell_type": "code",
   "execution_count": null,
   "metadata": {
    "vscode": {
     "languageId": "r"
    }
   },
   "outputs": [],
   "source": [
    "# cols_gliph <- cols_gliph[which(!cols_gliph %in% rmcols)] "
   ]
  },
  {
   "cell_type": "code",
   "execution_count": 108,
   "metadata": {
    "vscode": {
     "languageId": "r"
    }
   },
   "outputs": [],
   "source": [
    "pbmc_flowonly <- imputepca.fx(pbmc_hla_v_j_gliph, c(cols_flow))"
   ]
  },
  {
   "cell_type": "code",
   "execution_count": 115,
   "metadata": {
    "vscode": {
     "languageId": "r"
    }
   },
   "outputs": [],
   "source": [
    "set.seed(777)\n",
    "pbmc_all <- imputepca.fx(pbmc_hla_v_j_gliph, c(cols_flow, cols_tbv, cols_tbj))"
   ]
  },
  {
   "cell_type": "code",
   "execution_count": 116,
   "metadata": {
    "vscode": {
     "languageId": "r"
    }
   },
   "outputs": [
    {
     "data": {
      "text/plain": [
       "[[1]]\n",
       "Logistic Regression Model\n",
       "\n",
       "rms::lrm(formula = Relapse ~ sumdist_n, data = mypatients)\n",
       "\n",
       "                      Model Likelihood     Discrimination    Rank Discrim.    \n",
       "                            Ratio Test            Indexes          Indexes    \n",
       "Obs            71    LR chi2      0.71     R2       0.017    C       0.604    \n",
       " 0             59    d.f.            1     R2(1,71) 0.000    Dxy     0.208    \n",
       " 1             12    Pr(> chi2) 0.3992    R2(1,29.9)0.000    gamma   0.209    \n",
       "max |deriv| 3e-11                          Brier    0.139    tau-a   0.059    \n",
       "\n",
       "          Coef    S.E.   Wald Z Pr(>|Z|)\n",
       "Intercept -1.7955 0.4067 -4.42  <0.0001 \n",
       "sumdist_n  0.0452 0.0515  0.88  0.3804  \n",
       "\n",
       "\n",
       "[[2]]\n",
       "Logistic Regression Model\n",
       "\n",
       "rms::lrm(formula = Relapse ~ meddist_n, data = mypatients)\n",
       "\n",
       "                      Model Likelihood     Discrimination    Rank Discrim.    \n",
       "                            Ratio Test            Indexes          Indexes    \n",
       "Obs            71    LR chi2      0.34     R2       0.008    C       0.605    \n",
       " 0             59    d.f.            1     R2(1,71) 0.000    Dxy     0.210    \n",
       " 1             12    Pr(> chi2) 0.5585    R2(1,29.9)0.000    gamma   0.213    \n",
       "max |deriv| 4e-05                          Brier    0.140    tau-a   0.060    \n",
       "\n",
       "          Coef    S.E.   Wald Z Pr(>|Z|)\n",
       "Intercept -1.6942 0.3655 -4.64  <0.0001 \n",
       "meddist_n  0.0353 0.0577  0.61  0.5409  \n",
       "\n"
      ]
     },
     "metadata": {},
     "output_type": "display_data"
    }
   ],
   "source": [
    "pbmc_all[5:6]"
   ]
  },
  {
   "cell_type": "code",
   "execution_count": 66,
   "metadata": {
    "vscode": {
     "languageId": "r"
    }
   },
   "outputs": [],
   "source": [
    "cfdna_hla_v_j_gliph <- readr::read_rds(paste0(datapath, \"/int_cfdna_hla_v_j_gliph.rds\"))"
   ]
  },
  {
   "cell_type": "code",
   "execution_count": 67,
   "metadata": {
    "vscode": {
     "languageId": "r"
    }
   },
   "outputs": [],
   "source": [
    "rownames(cfdna_hla_v_j_gliph) <- cfdna_hla_v_j_gliph$sample_id"
   ]
  },
  {
   "cell_type": "code",
   "execution_count": 68,
   "metadata": {
    "vscode": {
     "languageId": "r"
    }
   },
   "outputs": [
    {
     "data": {
      "text/html": [
       "<style>\n",
       ".list-inline {list-style: none; margin:0; padding: 0}\n",
       ".list-inline>li {display: inline-block}\n",
       ".list-inline>li:not(:last-child)::after {content: \"\\00b7\"; padding: 0 .5ex}\n",
       "</style>\n",
       "<ol class=list-inline><li>274</li><li>1495</li></ol>\n"
      ],
      "text/latex": [
       "\\begin{enumerate*}\n",
       "\\item 274\n",
       "\\item 1495\n",
       "\\end{enumerate*}\n"
      ],
      "text/markdown": [
       "1. 274\n",
       "2. 1495\n",
       "\n",
       "\n"
      ],
      "text/plain": [
       "[1]  274 1495"
      ]
     },
     "metadata": {},
     "output_type": "display_data"
    }
   ],
   "source": [
    "dim(cfdna_hla_v_j_gliph)\n"
   ]
  },
  {
   "cell_type": "code",
   "execution_count": 69,
   "metadata": {
    "vscode": {
     "languageId": "r"
    }
   },
   "outputs": [
    {
     "data": {
      "text/plain": [
       "\n",
       "  0   1 \n",
       "226  48 "
      ]
     },
     "metadata": {},
     "output_type": "display_data"
    }
   ],
   "source": [
    "table(cfdna_hla_v_j_gliph$Relapse)"
   ]
  },
  {
   "cell_type": "code",
   "execution_count": 70,
   "metadata": {
    "vscode": {
     "languageId": "r"
    }
   },
   "outputs": [],
   "source": [
    "cols_tbv <- colnames(cfdna_hla_v_j_gliph)[which(grepl(\"TRBV\", colnames(cfdna_hla_v_j_gliph)) ) ]\n",
    "cols_tbj <- colnames(cfdna_hla_v_j_gliph)[which(grepl(\"TRBJ\", colnames(cfdna_hla_v_j_gliph)) ) ]\n",
    "cols_flow <- c('ATC', 'Naïve%','SCM%','CM%','EM%','TE%','PD1%','LAG3%','TIM3%')\n",
    "cols_others <- c(\"log10shann\")\n",
    "cols_hla <- colnames(cfdna_hla_v_j_gliph)[which(grepl(\":0\", colnames(cfdna_hla_v_j_gliph)) ) ]"
   ]
  },
  {
   "cell_type": "code",
   "execution_count": 71,
   "metadata": {
    "vscode": {
     "languageId": "r"
    }
   },
   "outputs": [
    {
     "data": {
      "text/html": [
       "<style>\n",
       ".list-inline {list-style: none; margin:0; padding: 0}\n",
       ".list-inline>li {display: inline-block}\n",
       ".list-inline>li:not(:last-child)::after {content: \"\\00b7\"; padding: 0 .5ex}\n",
       "</style>\n",
       "<ol class=list-inline><li>258</li><li>259</li><li>260</li><li>261</li><li>262</li><li>263</li><li>264</li><li>265</li><li>266</li><li>267</li><li>268</li><li>269</li><li>270</li></ol>\n"
      ],
      "text/latex": [
       "\\begin{enumerate*}\n",
       "\\item 258\n",
       "\\item 259\n",
       "\\item 260\n",
       "\\item 261\n",
       "\\item 262\n",
       "\\item 263\n",
       "\\item 264\n",
       "\\item 265\n",
       "\\item 266\n",
       "\\item 267\n",
       "\\item 268\n",
       "\\item 269\n",
       "\\item 270\n",
       "\\end{enumerate*}\n"
      ],
      "text/markdown": [
       "1. 258\n",
       "2. 259\n",
       "3. 260\n",
       "4. 261\n",
       "5. 262\n",
       "6. 263\n",
       "7. 264\n",
       "8. 265\n",
       "9. 266\n",
       "10. 267\n",
       "11. 268\n",
       "12. 269\n",
       "13. 270\n",
       "\n",
       "\n"
      ],
      "text/plain": [
       " [1] 258 259 260 261 262 263 264 265 266 267 268 269 270"
      ]
     },
     "metadata": {},
     "output_type": "display_data"
    }
   ],
   "source": [
    "which(grepl(\"TRBJ\", colnames(cfdna_hla_v_j_gliph) ) )"
   ]
  },
  {
   "cell_type": "code",
   "execution_count": 72,
   "metadata": {
    "vscode": {
     "languageId": "r"
    }
   },
   "outputs": [
    {
     "data": {
      "text/html": [
       "<style>\n",
       ".list-inline {list-style: none; margin:0; padding: 0}\n",
       ".list-inline>li {display: inline-block}\n",
       ".list-inline>li:not(:last-child)::after {content: \"\\00b7\"; padding: 0 .5ex}\n",
       "</style>\n",
       "<ol class=list-inline><li>'SLG%E'</li><li>'GIWV'</li><li>'IWV'</li><li>'WVYE'</li><li>'IWVY'</li><li>'S%TGNTE'</li><li>'SV%GNTE'</li><li>'S%GNYG'</li><li>'S%RTGE'</li><li>'TGIW'</li><li>'R%STDT'</li><li>'S%GQMNTE'</li><li>'SP%MNTE'</li><li>'%GTGNTE'</li><li>'SPG%TGE'</li><li>'SA%NTE'</li><li>'SLG%NTE'</li><li>'S%GSYE'</li><li>'RG%GGTE'</li><li>'SL%DE'</li><li>'S%TENTE'</li><li>'S%GRTDT'</li><li>'S%RGYG'</li><li>'SDR%TGE'</li><li>'SP%RGNTE'</li><li>'SPRQG%NTE'</li><li>'TG%SYE'</li><li>'SP%RNTE'</li><li>'S%GVNE'</li><li>'SPGP%E'</li><li>'SY%GTE'</li><li>'SP%GYG'</li><li>'SPG%GTE'</li><li>'SL%GE'</li><li>'S%SSYNE'</li><li>'S%QGATE'</li><li>'SAGQ%NTE'</li><li>'S%SGE'</li><li>'S%PNTE'</li><li>'S%SYE'</li><li>'S%AGANTGE'</li><li>'SQDR%T'</li><li>'S%MNTE'</li><li>'S%GGDG'</li><li>'S%SNQP'</li><li>'S%GYTGE'</li><li>'S%GQGSSYE'</li><li>'SL%GANTGE'</li><li>'S%NTE'</li><li>'SP%NTE'</li><li>'SRGT%YE'</li><li>'SL%GATNEK'</li><li>'SLT%NTE'</li><li>'R%GMNTE'</li><li>'S%GTE'</li><li>'%AGNTE'</li><li>'S%GGTE'</li><li>'S%GGNE'</li><li>'R%TGGTE'</li><li>'S%RGPGE'</li><li>'S%QET'</li><li>'S%QNSNQP'</li><li>'SPG%YE'</li><li>'S%GGTGE'</li><li>'SPG%GE'</li><li>'RQ%GNQP'</li><li>'SFG%MNTE'</li><li>'S%GTGE'</li><li>'SR%GMNTE'</li><li>'S%QGGTE'</li><li>'%GLNYG'</li><li>'GS%NTE'</li><li>'SSS%E'</li><li>'SLGL%YE'</li><li>'S%TGGTE'</li><li>'SFGQ%NTE'</li><li>'S%GTGGTGE'</li><li>'SLT%MNTE'</li><li>'SL%GYE'</li><li>'SYS%GE'</li><li>'SL%GNTE'</li><li>'S%GSNQP'</li><li>'SIG%GSYE'</li><li>'S%GDE'</li><li>'SLG%TE'</li><li>'S%SNTE'</li><li>'SS%YE'</li><li>'S%NTGE'</li><li>'SL%SGE'</li><li>'SLGG%E'</li><li>'SPG%LNTE'</li><li>'SY%GTTE'</li><li>'SLG%NYG'</li><li>'SL%GNE'</li><li>'S%GGNQP'</li><li>'S%TGMNTE'</li><li>'SL%TE'</li><li>'SL%NE'</li><li>'SY%GYE'</li><li>'SL%SGGE'</li><li>'S%RGNE'</li><li>'SL%GAGGNT'</li><li>'S%RGMNTE'</li><li>'S%GQVNTE'</li><li>'SL%YE'</li><li>'%TGGNTE'</li><li>'SLD%NTE'</li><li>'SLTSG%YNE'</li><li>'SL%GTE'</li><li>'S%RGTE'</li><li>'SLGQ%NTE'</li><li>'SL%ENTE'</li><li>'SPS%TE'</li><li>'S%GDNE'</li><li>'SLR%NE'</li><li>'SLGQGA%NTE'</li><li>'STGTG%E'</li><li>'SLGQ%NEK'</li><li>'S%QGNE'</li><li>'%VLGDE'</li><li>'SLTG%TE'</li><li>'GQGN%E'</li><li>'S%SPGGYE'</li><li>'SL%GFNQP'</li><li>'SPGQG%DG'</li><li>'S%SGYE'</li><li>'SLG%NE'</li><li>'SQDR%G'</li><li>'SSG%SGNT'</li><li>'SLV%GMNTE'</li><li>'SPN%E'</li><li>'SLG%SYE'</li><li>'%LGLNTE'</li><li>'SPG%YG'</li><li>'S%TGYE'</li><li>'S%GSTDT'</li><li>'SV%GGQET'</li><li>'S%GGYG'</li><li>'S%GGNT'</li><li>'S%SGNT'</li><li>'S%SMNTE'</li><li>'SYS%E'</li><li>'S%QGAYE'</li><li>'SV%GADE'</li><li>'S%GGTTE'</li><li>'SL%GGNTE'</li><li>'SPGTG%YG'</li><li>'SL%TDT'</li><li>'SL%TGIWVYE'</li><li>'SP%EVNTE'</li><li>'S%RTGSYE'</li><li>'%LGNE'</li><li>'S%YNE'</li><li>'SF%SSYE'</li><li>'S%GSE'</li><li>'SLG%GQP'</li><li>'SLVSG%E'</li><li>'SL%QGAYE'</li><li>'S%QGMNTE'</li><li>'SRQG%GTE'</li><li>'SL%SNQP'</li><li>'SL%GTGE'</li><li>'SVTG%TE'</li><li>'SQD%NQP'</li><li>'SLGTGL%G'</li><li>'%GNTE'</li><li>'SSG%TYE'</li><li>'SP%TGNYG'</li><li>'SL%GGNTGE'</li><li>'SYR%E'</li><li>'SSR%SYE'</li><li>'SSG%E'</li><li>'S%GAGE'</li><li>'SLVG%E'</li><li>'S%WNTE'</li><li>'SGG%YG'</li><li>'S%GQGVYE'</li><li>'SLR%GE'</li><li>'S%GQET'</li><li>'SL%RSE'</li><li>'SPR%NTE'</li><li>'SPRT%STDT'</li><li>'SLG%ET'</li><li>'SL%RNQP'</li><li>'S%GLNTE'</li><li>'SL%GSYE'</li><li>'S%RGSYE'</li><li>'SLGQG%NTE'</li><li>'SL%TGE'</li><li>'S%GAGNT'</li><li>'SSGLAT%E'</li><li>'SLG%TNYG'</li><li>'%ISGANV'</li><li>'SV%GNQP'</li><li>'SS%RGKET'</li><li>'SPSP%NTE'</li><li>'SLEGL%TGE'</li><li>'S%TGE'</li><li>'SL%AGNT'</li><li>'SP%TE'</li><li>...</li><li>'SE%RGTE'</li><li>'SPGG%QP'</li><li>'R%TGGNTE'</li><li>'SSGTG%YE'</li><li>'S%RSSYNSP'</li><li>'%RTGE'</li><li>'S%YYE'</li><li>'%GGGYG'</li><li>'SLDRG%E'</li><li>'%LTYE'</li><li>'%DRGLNTE'</li><li>'RDR%NSP'</li><li>'SLGT%'</li><li>'R%LNYG'</li><li>'SP%NSP'</li><li>'SLVGQ%'</li><li>'SLGGD%'</li><li>'SLG%GET'</li><li>'SGQGA%E'</li><li>'SLG%GTGE'</li><li>'SW%DE'</li><li>'S%REGTDT'</li><li>'SPL%E'</li><li>'%DSTDT'</li><li>'S%GHYE'</li><li>'S%LGVE'</li><li>'R%TGGYG'</li><li>'S%GLGET'</li><li>'SVG%GET'</li><li>'SLQG%YG'</li><li>'SV%SSYNE'</li><li>'S%PGG'</li><li>'SL%PGE'</li><li>'S%DRET'</li><li>'SAGS%E'</li><li>'S%TGRTE'</li><li>'S%SGRET'</li><li>'S%LSTDT'</li><li>'S%HSNQP'</li><li>'R%GGNEK'</li><li>'SEG%NSP'</li><li>'SPGL%TDT'</li><li>'S%GQP'</li><li>'SR%GE'</li><li>'SL%VGE'</li><li>'SPPG%G'</li><li>'SYT%E'</li><li>'S%ELNTE'</li><li>'S%DRDQP'</li><li>'%QGAGE'</li><li>'S%SGSYE'</li><li>'SQGG%T'</li><li>'RGT%NSP'</li><li>'S%GEK'</li><li>'R%ADT'</li><li>'SLAGG%NE'</li><li>'S%RDNQP'</li><li>'SLG%GNT'</li><li>'SVGTG%E'</li><li>'SAGQG%YE'</li><li>'SLS%NE'</li><li>'SPS%SYE'</li><li>'SPQGA%E'</li><li>'%GATNEK'</li><li>'SLG%G'</li><li>'SL%DG'</li><li>'SS%RNE'</li><li>'S%TGGET'</li><li>'R%DRE'</li><li>'S%WDE'</li><li>'RL%ET'</li><li>'SF%ET'</li><li>'RT%YE'</li><li>'%GGSET'</li><li>'SL%GDG'</li><li>'SLL%TE'</li><li>'SSSG%T'</li><li>'STQG%E'</li><li>'S%TGQET'</li><li>'S%GVGQP'</li><li>'SL%TGYE'</li><li>'SL%RGRE'</li><li>'SR%GYNE'</li><li>'SFTGG%E'</li><li>'S%GQGNEK'</li><li>'GG%TE'</li><li>'SL%EK'</li><li>'SRT%E'</li><li>'%PMNTE'</li><li>'G%GNQP'</li><li>'S%DSNTE'</li><li>'S%QGDYG'</li><li>'SQV%GGE'</li><li>'SFRG%GE'</li><li>'SPG%SNQP'</li><li>'SLTSG%YE'</li><li>'SRG%GE'</li><li>'%GQGAYE'</li><li>'S%GRYNE'</li><li>'SP%LNTE'</li><li>'S%RGSYNE'</li><li>'SSY%'</li><li>'G%SGNT'</li><li>'SP%GRG'</li><li>'SG%DNE'</li><li>'RQ%NQP'</li><li>'SQD%RG'</li><li>'%QGSTDT'</li><li>'S%TSGYE'</li><li>'SFGG%GE'</li><li>'RG%E'</li><li>'SSR%E'</li><li>'S%GPGG'</li><li>'ST%TDT'</li><li>'SLRTG%'</li><li>'D%SGANV'</li><li>'S%GLGNE'</li><li>'S%PSSYE'</li><li>'SPRG%YE'</li><li>'S%RSSYNE'</li><li>'%GQGGYE'</li><li>'G%G'</li><li>'R%GYE'</li><li>'S%GQGG'</li><li>'SR%DTE'</li><li>'S%GFSYE'</li><li>'S%GRNQP'</li><li>'SD%DT'</li><li>'S%GLAGAGE'</li><li>'SE%GE'</li><li>'SEY%E'</li><li>'SY%'</li><li>'%RDTE'</li><li>'R%RGYE'</li><li>'%EGNQP'</li><li>'%GGGNT'</li><li>'SGTS%E'</li><li>'S%GTSGYE'</li><li>'RGLAGG%E'</li><li>'G%NTE'</li><li>'S%SSGE'</li><li>'RG%STDT'</li><li>'S%RNT'</li><li>'RG%TE'</li><li>'SS%AE'</li><li>'%GNE'</li><li>'R%ENTE'</li><li>'SR%GYG'</li><li>'%NTE'</li><li>'%PSSYNE'</li><li>'%EYNE'</li><li>'SLG%GG'</li><li>'SRG%ET'</li><li>'SQGR%'</li><li>'SLGP%E'</li><li>'S%GLAGGYE'</li><li>'R%GEK'</li><li>'SGLAG%YE'</li><li>'VG%E'</li><li>'%QGNQP'</li><li>'SRGA%E'</li><li>'SS%E'</li><li>'SSL%E'</li><li>'SLVG%G'</li><li>'R%TDT'</li><li>'SS%NE'</li><li>'SG%GNT'</li><li>'SPS%GE'</li><li>'%RGDTE'</li><li>'SQGA%E'</li><li>'SS%DT'</li><li>'%GGE'</li><li>'%VNTE'</li><li>'T%SGNT'</li><li>'R%YE'</li><li>'%GSNQP'</li><li>'%EGYE'</li><li>'S%GAGG'</li><li>'G%YNE'</li><li>'SPGT%'</li><li>'S%GDG'</li><li>'SSY%E'</li><li>'S%GRG'</li><li>'SE%NE'</li><li>'GG%NQP'</li><li>'SWG%E'</li><li>'S%'</li><li>'%GSGE'</li><li>'G%P'</li><li>'GT%YG'</li><li>'SQG%G'</li><li>'RQG%GE'</li><li>'%YG'</li><li>'GG%E'</li><li>'G%GYE'</li><li>'G%TDT'</li><li>'SG%GE'</li><li>'G%TE'</li><li>'S%G'</li><li>'%YE'</li></ol>\n"
      ],
      "text/latex": [
       "\\begin{enumerate*}\n",
       "\\item 'SLG\\%E'\n",
       "\\item 'GIWV'\n",
       "\\item 'IWV'\n",
       "\\item 'WVYE'\n",
       "\\item 'IWVY'\n",
       "\\item 'S\\%TGNTE'\n",
       "\\item 'SV\\%GNTE'\n",
       "\\item 'S\\%GNYG'\n",
       "\\item 'S\\%RTGE'\n",
       "\\item 'TGIW'\n",
       "\\item 'R\\%STDT'\n",
       "\\item 'S\\%GQMNTE'\n",
       "\\item 'SP\\%MNTE'\n",
       "\\item '\\%GTGNTE'\n",
       "\\item 'SPG\\%TGE'\n",
       "\\item 'SA\\%NTE'\n",
       "\\item 'SLG\\%NTE'\n",
       "\\item 'S\\%GSYE'\n",
       "\\item 'RG\\%GGTE'\n",
       "\\item 'SL\\%DE'\n",
       "\\item 'S\\%TENTE'\n",
       "\\item 'S\\%GRTDT'\n",
       "\\item 'S\\%RGYG'\n",
       "\\item 'SDR\\%TGE'\n",
       "\\item 'SP\\%RGNTE'\n",
       "\\item 'SPRQG\\%NTE'\n",
       "\\item 'TG\\%SYE'\n",
       "\\item 'SP\\%RNTE'\n",
       "\\item 'S\\%GVNE'\n",
       "\\item 'SPGP\\%E'\n",
       "\\item 'SY\\%GTE'\n",
       "\\item 'SP\\%GYG'\n",
       "\\item 'SPG\\%GTE'\n",
       "\\item 'SL\\%GE'\n",
       "\\item 'S\\%SSYNE'\n",
       "\\item 'S\\%QGATE'\n",
       "\\item 'SAGQ\\%NTE'\n",
       "\\item 'S\\%SGE'\n",
       "\\item 'S\\%PNTE'\n",
       "\\item 'S\\%SYE'\n",
       "\\item 'S\\%AGANTGE'\n",
       "\\item 'SQDR\\%T'\n",
       "\\item 'S\\%MNTE'\n",
       "\\item 'S\\%GGDG'\n",
       "\\item 'S\\%SNQP'\n",
       "\\item 'S\\%GYTGE'\n",
       "\\item 'S\\%GQGSSYE'\n",
       "\\item 'SL\\%GANTGE'\n",
       "\\item 'S\\%NTE'\n",
       "\\item 'SP\\%NTE'\n",
       "\\item 'SRGT\\%YE'\n",
       "\\item 'SL\\%GATNEK'\n",
       "\\item 'SLT\\%NTE'\n",
       "\\item 'R\\%GMNTE'\n",
       "\\item 'S\\%GTE'\n",
       "\\item '\\%AGNTE'\n",
       "\\item 'S\\%GGTE'\n",
       "\\item 'S\\%GGNE'\n",
       "\\item 'R\\%TGGTE'\n",
       "\\item 'S\\%RGPGE'\n",
       "\\item 'S\\%QET'\n",
       "\\item 'S\\%QNSNQP'\n",
       "\\item 'SPG\\%YE'\n",
       "\\item 'S\\%GGTGE'\n",
       "\\item 'SPG\\%GE'\n",
       "\\item 'RQ\\%GNQP'\n",
       "\\item 'SFG\\%MNTE'\n",
       "\\item 'S\\%GTGE'\n",
       "\\item 'SR\\%GMNTE'\n",
       "\\item 'S\\%QGGTE'\n",
       "\\item '\\%GLNYG'\n",
       "\\item 'GS\\%NTE'\n",
       "\\item 'SSS\\%E'\n",
       "\\item 'SLGL\\%YE'\n",
       "\\item 'S\\%TGGTE'\n",
       "\\item 'SFGQ\\%NTE'\n",
       "\\item 'S\\%GTGGTGE'\n",
       "\\item 'SLT\\%MNTE'\n",
       "\\item 'SL\\%GYE'\n",
       "\\item 'SYS\\%GE'\n",
       "\\item 'SL\\%GNTE'\n",
       "\\item 'S\\%GSNQP'\n",
       "\\item 'SIG\\%GSYE'\n",
       "\\item 'S\\%GDE'\n",
       "\\item 'SLG\\%TE'\n",
       "\\item 'S\\%SNTE'\n",
       "\\item 'SS\\%YE'\n",
       "\\item 'S\\%NTGE'\n",
       "\\item 'SL\\%SGE'\n",
       "\\item 'SLGG\\%E'\n",
       "\\item 'SPG\\%LNTE'\n",
       "\\item 'SY\\%GTTE'\n",
       "\\item 'SLG\\%NYG'\n",
       "\\item 'SL\\%GNE'\n",
       "\\item 'S\\%GGNQP'\n",
       "\\item 'S\\%TGMNTE'\n",
       "\\item 'SL\\%TE'\n",
       "\\item 'SL\\%NE'\n",
       "\\item 'SY\\%GYE'\n",
       "\\item 'SL\\%SGGE'\n",
       "\\item 'S\\%RGNE'\n",
       "\\item 'SL\\%GAGGNT'\n",
       "\\item 'S\\%RGMNTE'\n",
       "\\item 'S\\%GQVNTE'\n",
       "\\item 'SL\\%YE'\n",
       "\\item '\\%TGGNTE'\n",
       "\\item 'SLD\\%NTE'\n",
       "\\item 'SLTSG\\%YNE'\n",
       "\\item 'SL\\%GTE'\n",
       "\\item 'S\\%RGTE'\n",
       "\\item 'SLGQ\\%NTE'\n",
       "\\item 'SL\\%ENTE'\n",
       "\\item 'SPS\\%TE'\n",
       "\\item 'S\\%GDNE'\n",
       "\\item 'SLR\\%NE'\n",
       "\\item 'SLGQGA\\%NTE'\n",
       "\\item 'STGTG\\%E'\n",
       "\\item 'SLGQ\\%NEK'\n",
       "\\item 'S\\%QGNE'\n",
       "\\item '\\%VLGDE'\n",
       "\\item 'SLTG\\%TE'\n",
       "\\item 'GQGN\\%E'\n",
       "\\item 'S\\%SPGGYE'\n",
       "\\item 'SL\\%GFNQP'\n",
       "\\item 'SPGQG\\%DG'\n",
       "\\item 'S\\%SGYE'\n",
       "\\item 'SLG\\%NE'\n",
       "\\item 'SQDR\\%G'\n",
       "\\item 'SSG\\%SGNT'\n",
       "\\item 'SLV\\%GMNTE'\n",
       "\\item 'SPN\\%E'\n",
       "\\item 'SLG\\%SYE'\n",
       "\\item '\\%LGLNTE'\n",
       "\\item 'SPG\\%YG'\n",
       "\\item 'S\\%TGYE'\n",
       "\\item 'S\\%GSTDT'\n",
       "\\item 'SV\\%GGQET'\n",
       "\\item 'S\\%GGYG'\n",
       "\\item 'S\\%GGNT'\n",
       "\\item 'S\\%SGNT'\n",
       "\\item 'S\\%SMNTE'\n",
       "\\item 'SYS\\%E'\n",
       "\\item 'S\\%QGAYE'\n",
       "\\item 'SV\\%GADE'\n",
       "\\item 'S\\%GGTTE'\n",
       "\\item 'SL\\%GGNTE'\n",
       "\\item 'SPGTG\\%YG'\n",
       "\\item 'SL\\%TDT'\n",
       "\\item 'SL\\%TGIWVYE'\n",
       "\\item 'SP\\%EVNTE'\n",
       "\\item 'S\\%RTGSYE'\n",
       "\\item '\\%LGNE'\n",
       "\\item 'S\\%YNE'\n",
       "\\item 'SF\\%SSYE'\n",
       "\\item 'S\\%GSE'\n",
       "\\item 'SLG\\%GQP'\n",
       "\\item 'SLVSG\\%E'\n",
       "\\item 'SL\\%QGAYE'\n",
       "\\item 'S\\%QGMNTE'\n",
       "\\item 'SRQG\\%GTE'\n",
       "\\item 'SL\\%SNQP'\n",
       "\\item 'SL\\%GTGE'\n",
       "\\item 'SVTG\\%TE'\n",
       "\\item 'SQD\\%NQP'\n",
       "\\item 'SLGTGL\\%G'\n",
       "\\item '\\%GNTE'\n",
       "\\item 'SSG\\%TYE'\n",
       "\\item 'SP\\%TGNYG'\n",
       "\\item 'SL\\%GGNTGE'\n",
       "\\item 'SYR\\%E'\n",
       "\\item 'SSR\\%SYE'\n",
       "\\item 'SSG\\%E'\n",
       "\\item 'S\\%GAGE'\n",
       "\\item 'SLVG\\%E'\n",
       "\\item 'S\\%WNTE'\n",
       "\\item 'SGG\\%YG'\n",
       "\\item 'S\\%GQGVYE'\n",
       "\\item 'SLR\\%GE'\n",
       "\\item 'S\\%GQET'\n",
       "\\item 'SL\\%RSE'\n",
       "\\item 'SPR\\%NTE'\n",
       "\\item 'SPRT\\%STDT'\n",
       "\\item 'SLG\\%ET'\n",
       "\\item 'SL\\%RNQP'\n",
       "\\item 'S\\%GLNTE'\n",
       "\\item 'SL\\%GSYE'\n",
       "\\item 'S\\%RGSYE'\n",
       "\\item 'SLGQG\\%NTE'\n",
       "\\item 'SL\\%TGE'\n",
       "\\item 'S\\%GAGNT'\n",
       "\\item 'SSGLAT\\%E'\n",
       "\\item 'SLG\\%TNYG'\n",
       "\\item '\\%ISGANV'\n",
       "\\item 'SV\\%GNQP'\n",
       "\\item 'SS\\%RGKET'\n",
       "\\item 'SPSP\\%NTE'\n",
       "\\item 'SLEGL\\%TGE'\n",
       "\\item 'S\\%TGE'\n",
       "\\item 'SL\\%AGNT'\n",
       "\\item 'SP\\%TE'\n",
       "\\item ...\n",
       "\\item 'SE\\%RGTE'\n",
       "\\item 'SPGG\\%QP'\n",
       "\\item 'R\\%TGGNTE'\n",
       "\\item 'SSGTG\\%YE'\n",
       "\\item 'S\\%RSSYNSP'\n",
       "\\item '\\%RTGE'\n",
       "\\item 'S\\%YYE'\n",
       "\\item '\\%GGGYG'\n",
       "\\item 'SLDRG\\%E'\n",
       "\\item '\\%LTYE'\n",
       "\\item '\\%DRGLNTE'\n",
       "\\item 'RDR\\%NSP'\n",
       "\\item 'SLGT\\%'\n",
       "\\item 'R\\%LNYG'\n",
       "\\item 'SP\\%NSP'\n",
       "\\item 'SLVGQ\\%'\n",
       "\\item 'SLGGD\\%'\n",
       "\\item 'SLG\\%GET'\n",
       "\\item 'SGQGA\\%E'\n",
       "\\item 'SLG\\%GTGE'\n",
       "\\item 'SW\\%DE'\n",
       "\\item 'S\\%REGTDT'\n",
       "\\item 'SPL\\%E'\n",
       "\\item '\\%DSTDT'\n",
       "\\item 'S\\%GHYE'\n",
       "\\item 'S\\%LGVE'\n",
       "\\item 'R\\%TGGYG'\n",
       "\\item 'S\\%GLGET'\n",
       "\\item 'SVG\\%GET'\n",
       "\\item 'SLQG\\%YG'\n",
       "\\item 'SV\\%SSYNE'\n",
       "\\item 'S\\%PGG'\n",
       "\\item 'SL\\%PGE'\n",
       "\\item 'S\\%DRET'\n",
       "\\item 'SAGS\\%E'\n",
       "\\item 'S\\%TGRTE'\n",
       "\\item 'S\\%SGRET'\n",
       "\\item 'S\\%LSTDT'\n",
       "\\item 'S\\%HSNQP'\n",
       "\\item 'R\\%GGNEK'\n",
       "\\item 'SEG\\%NSP'\n",
       "\\item 'SPGL\\%TDT'\n",
       "\\item 'S\\%GQP'\n",
       "\\item 'SR\\%GE'\n",
       "\\item 'SL\\%VGE'\n",
       "\\item 'SPPG\\%G'\n",
       "\\item 'SYT\\%E'\n",
       "\\item 'S\\%ELNTE'\n",
       "\\item 'S\\%DRDQP'\n",
       "\\item '\\%QGAGE'\n",
       "\\item 'S\\%SGSYE'\n",
       "\\item 'SQGG\\%T'\n",
       "\\item 'RGT\\%NSP'\n",
       "\\item 'S\\%GEK'\n",
       "\\item 'R\\%ADT'\n",
       "\\item 'SLAGG\\%NE'\n",
       "\\item 'S\\%RDNQP'\n",
       "\\item 'SLG\\%GNT'\n",
       "\\item 'SVGTG\\%E'\n",
       "\\item 'SAGQG\\%YE'\n",
       "\\item 'SLS\\%NE'\n",
       "\\item 'SPS\\%SYE'\n",
       "\\item 'SPQGA\\%E'\n",
       "\\item '\\%GATNEK'\n",
       "\\item 'SLG\\%G'\n",
       "\\item 'SL\\%DG'\n",
       "\\item 'SS\\%RNE'\n",
       "\\item 'S\\%TGGET'\n",
       "\\item 'R\\%DRE'\n",
       "\\item 'S\\%WDE'\n",
       "\\item 'RL\\%ET'\n",
       "\\item 'SF\\%ET'\n",
       "\\item 'RT\\%YE'\n",
       "\\item '\\%GGSET'\n",
       "\\item 'SL\\%GDG'\n",
       "\\item 'SLL\\%TE'\n",
       "\\item 'SSSG\\%T'\n",
       "\\item 'STQG\\%E'\n",
       "\\item 'S\\%TGQET'\n",
       "\\item 'S\\%GVGQP'\n",
       "\\item 'SL\\%TGYE'\n",
       "\\item 'SL\\%RGRE'\n",
       "\\item 'SR\\%GYNE'\n",
       "\\item 'SFTGG\\%E'\n",
       "\\item 'S\\%GQGNEK'\n",
       "\\item 'GG\\%TE'\n",
       "\\item 'SL\\%EK'\n",
       "\\item 'SRT\\%E'\n",
       "\\item '\\%PMNTE'\n",
       "\\item 'G\\%GNQP'\n",
       "\\item 'S\\%DSNTE'\n",
       "\\item 'S\\%QGDYG'\n",
       "\\item 'SQV\\%GGE'\n",
       "\\item 'SFRG\\%GE'\n",
       "\\item 'SPG\\%SNQP'\n",
       "\\item 'SLTSG\\%YE'\n",
       "\\item 'SRG\\%GE'\n",
       "\\item '\\%GQGAYE'\n",
       "\\item 'S\\%GRYNE'\n",
       "\\item 'SP\\%LNTE'\n",
       "\\item 'S\\%RGSYNE'\n",
       "\\item 'SSY\\%'\n",
       "\\item 'G\\%SGNT'\n",
       "\\item 'SP\\%GRG'\n",
       "\\item 'SG\\%DNE'\n",
       "\\item 'RQ\\%NQP'\n",
       "\\item 'SQD\\%RG'\n",
       "\\item '\\%QGSTDT'\n",
       "\\item 'S\\%TSGYE'\n",
       "\\item 'SFGG\\%GE'\n",
       "\\item 'RG\\%E'\n",
       "\\item 'SSR\\%E'\n",
       "\\item 'S\\%GPGG'\n",
       "\\item 'ST\\%TDT'\n",
       "\\item 'SLRTG\\%'\n",
       "\\item 'D\\%SGANV'\n",
       "\\item 'S\\%GLGNE'\n",
       "\\item 'S\\%PSSYE'\n",
       "\\item 'SPRG\\%YE'\n",
       "\\item 'S\\%RSSYNE'\n",
       "\\item '\\%GQGGYE'\n",
       "\\item 'G\\%G'\n",
       "\\item 'R\\%GYE'\n",
       "\\item 'S\\%GQGG'\n",
       "\\item 'SR\\%DTE'\n",
       "\\item 'S\\%GFSYE'\n",
       "\\item 'S\\%GRNQP'\n",
       "\\item 'SD\\%DT'\n",
       "\\item 'S\\%GLAGAGE'\n",
       "\\item 'SE\\%GE'\n",
       "\\item 'SEY\\%E'\n",
       "\\item 'SY\\%'\n",
       "\\item '\\%RDTE'\n",
       "\\item 'R\\%RGYE'\n",
       "\\item '\\%EGNQP'\n",
       "\\item '\\%GGGNT'\n",
       "\\item 'SGTS\\%E'\n",
       "\\item 'S\\%GTSGYE'\n",
       "\\item 'RGLAGG\\%E'\n",
       "\\item 'G\\%NTE'\n",
       "\\item 'S\\%SSGE'\n",
       "\\item 'RG\\%STDT'\n",
       "\\item 'S\\%RNT'\n",
       "\\item 'RG\\%TE'\n",
       "\\item 'SS\\%AE'\n",
       "\\item '\\%GNE'\n",
       "\\item 'R\\%ENTE'\n",
       "\\item 'SR\\%GYG'\n",
       "\\item '\\%NTE'\n",
       "\\item '\\%PSSYNE'\n",
       "\\item '\\%EYNE'\n",
       "\\item 'SLG\\%GG'\n",
       "\\item 'SRG\\%ET'\n",
       "\\item 'SQGR\\%'\n",
       "\\item 'SLGP\\%E'\n",
       "\\item 'S\\%GLAGGYE'\n",
       "\\item 'R\\%GEK'\n",
       "\\item 'SGLAG\\%YE'\n",
       "\\item 'VG\\%E'\n",
       "\\item '\\%QGNQP'\n",
       "\\item 'SRGA\\%E'\n",
       "\\item 'SS\\%E'\n",
       "\\item 'SSL\\%E'\n",
       "\\item 'SLVG\\%G'\n",
       "\\item 'R\\%TDT'\n",
       "\\item 'SS\\%NE'\n",
       "\\item 'SG\\%GNT'\n",
       "\\item 'SPS\\%GE'\n",
       "\\item '\\%RGDTE'\n",
       "\\item 'SQGA\\%E'\n",
       "\\item 'SS\\%DT'\n",
       "\\item '\\%GGE'\n",
       "\\item '\\%VNTE'\n",
       "\\item 'T\\%SGNT'\n",
       "\\item 'R\\%YE'\n",
       "\\item '\\%GSNQP'\n",
       "\\item '\\%EGYE'\n",
       "\\item 'S\\%GAGG'\n",
       "\\item 'G\\%YNE'\n",
       "\\item 'SPGT\\%'\n",
       "\\item 'S\\%GDG'\n",
       "\\item 'SSY\\%E'\n",
       "\\item 'S\\%GRG'\n",
       "\\item 'SE\\%NE'\n",
       "\\item 'GG\\%NQP'\n",
       "\\item 'SWG\\%E'\n",
       "\\item 'S\\%'\n",
       "\\item '\\%GSGE'\n",
       "\\item 'G\\%P'\n",
       "\\item 'GT\\%YG'\n",
       "\\item 'SQG\\%G'\n",
       "\\item 'RQG\\%GE'\n",
       "\\item '\\%YG'\n",
       "\\item 'GG\\%E'\n",
       "\\item 'G\\%GYE'\n",
       "\\item 'G\\%TDT'\n",
       "\\item 'SG\\%GE'\n",
       "\\item 'G\\%TE'\n",
       "\\item 'S\\%G'\n",
       "\\item '\\%YE'\n",
       "\\end{enumerate*}\n"
      ],
      "text/markdown": [
       "1. 'SLG%E'\n",
       "2. 'GIWV'\n",
       "3. 'IWV'\n",
       "4. 'WVYE'\n",
       "5. 'IWVY'\n",
       "6. 'S%TGNTE'\n",
       "7. 'SV%GNTE'\n",
       "8. 'S%GNYG'\n",
       "9. 'S%RTGE'\n",
       "10. 'TGIW'\n",
       "11. 'R%STDT'\n",
       "12. 'S%GQMNTE'\n",
       "13. 'SP%MNTE'\n",
       "14. '%GTGNTE'\n",
       "15. 'SPG%TGE'\n",
       "16. 'SA%NTE'\n",
       "17. 'SLG%NTE'\n",
       "18. 'S%GSYE'\n",
       "19. 'RG%GGTE'\n",
       "20. 'SL%DE'\n",
       "21. 'S%TENTE'\n",
       "22. 'S%GRTDT'\n",
       "23. 'S%RGYG'\n",
       "24. 'SDR%TGE'\n",
       "25. 'SP%RGNTE'\n",
       "26. 'SPRQG%NTE'\n",
       "27. 'TG%SYE'\n",
       "28. 'SP%RNTE'\n",
       "29. 'S%GVNE'\n",
       "30. 'SPGP%E'\n",
       "31. 'SY%GTE'\n",
       "32. 'SP%GYG'\n",
       "33. 'SPG%GTE'\n",
       "34. 'SL%GE'\n",
       "35. 'S%SSYNE'\n",
       "36. 'S%QGATE'\n",
       "37. 'SAGQ%NTE'\n",
       "38. 'S%SGE'\n",
       "39. 'S%PNTE'\n",
       "40. 'S%SYE'\n",
       "41. 'S%AGANTGE'\n",
       "42. 'SQDR%T'\n",
       "43. 'S%MNTE'\n",
       "44. 'S%GGDG'\n",
       "45. 'S%SNQP'\n",
       "46. 'S%GYTGE'\n",
       "47. 'S%GQGSSYE'\n",
       "48. 'SL%GANTGE'\n",
       "49. 'S%NTE'\n",
       "50. 'SP%NTE'\n",
       "51. 'SRGT%YE'\n",
       "52. 'SL%GATNEK'\n",
       "53. 'SLT%NTE'\n",
       "54. 'R%GMNTE'\n",
       "55. 'S%GTE'\n",
       "56. '%AGNTE'\n",
       "57. 'S%GGTE'\n",
       "58. 'S%GGNE'\n",
       "59. 'R%TGGTE'\n",
       "60. 'S%RGPGE'\n",
       "61. 'S%QET'\n",
       "62. 'S%QNSNQP'\n",
       "63. 'SPG%YE'\n",
       "64. 'S%GGTGE'\n",
       "65. 'SPG%GE'\n",
       "66. 'RQ%GNQP'\n",
       "67. 'SFG%MNTE'\n",
       "68. 'S%GTGE'\n",
       "69. 'SR%GMNTE'\n",
       "70. 'S%QGGTE'\n",
       "71. '%GLNYG'\n",
       "72. 'GS%NTE'\n",
       "73. 'SSS%E'\n",
       "74. 'SLGL%YE'\n",
       "75. 'S%TGGTE'\n",
       "76. 'SFGQ%NTE'\n",
       "77. 'S%GTGGTGE'\n",
       "78. 'SLT%MNTE'\n",
       "79. 'SL%GYE'\n",
       "80. 'SYS%GE'\n",
       "81. 'SL%GNTE'\n",
       "82. 'S%GSNQP'\n",
       "83. 'SIG%GSYE'\n",
       "84. 'S%GDE'\n",
       "85. 'SLG%TE'\n",
       "86. 'S%SNTE'\n",
       "87. 'SS%YE'\n",
       "88. 'S%NTGE'\n",
       "89. 'SL%SGE'\n",
       "90. 'SLGG%E'\n",
       "91. 'SPG%LNTE'\n",
       "92. 'SY%GTTE'\n",
       "93. 'SLG%NYG'\n",
       "94. 'SL%GNE'\n",
       "95. 'S%GGNQP'\n",
       "96. 'S%TGMNTE'\n",
       "97. 'SL%TE'\n",
       "98. 'SL%NE'\n",
       "99. 'SY%GYE'\n",
       "100. 'SL%SGGE'\n",
       "101. 'S%RGNE'\n",
       "102. 'SL%GAGGNT'\n",
       "103. 'S%RGMNTE'\n",
       "104. 'S%GQVNTE'\n",
       "105. 'SL%YE'\n",
       "106. '%TGGNTE'\n",
       "107. 'SLD%NTE'\n",
       "108. 'SLTSG%YNE'\n",
       "109. 'SL%GTE'\n",
       "110. 'S%RGTE'\n",
       "111. 'SLGQ%NTE'\n",
       "112. 'SL%ENTE'\n",
       "113. 'SPS%TE'\n",
       "114. 'S%GDNE'\n",
       "115. 'SLR%NE'\n",
       "116. 'SLGQGA%NTE'\n",
       "117. 'STGTG%E'\n",
       "118. 'SLGQ%NEK'\n",
       "119. 'S%QGNE'\n",
       "120. '%VLGDE'\n",
       "121. 'SLTG%TE'\n",
       "122. 'GQGN%E'\n",
       "123. 'S%SPGGYE'\n",
       "124. 'SL%GFNQP'\n",
       "125. 'SPGQG%DG'\n",
       "126. 'S%SGYE'\n",
       "127. 'SLG%NE'\n",
       "128. 'SQDR%G'\n",
       "129. 'SSG%SGNT'\n",
       "130. 'SLV%GMNTE'\n",
       "131. 'SPN%E'\n",
       "132. 'SLG%SYE'\n",
       "133. '%LGLNTE'\n",
       "134. 'SPG%YG'\n",
       "135. 'S%TGYE'\n",
       "136. 'S%GSTDT'\n",
       "137. 'SV%GGQET'\n",
       "138. 'S%GGYG'\n",
       "139. 'S%GGNT'\n",
       "140. 'S%SGNT'\n",
       "141. 'S%SMNTE'\n",
       "142. 'SYS%E'\n",
       "143. 'S%QGAYE'\n",
       "144. 'SV%GADE'\n",
       "145. 'S%GGTTE'\n",
       "146. 'SL%GGNTE'\n",
       "147. 'SPGTG%YG'\n",
       "148. 'SL%TDT'\n",
       "149. 'SL%TGIWVYE'\n",
       "150. 'SP%EVNTE'\n",
       "151. 'S%RTGSYE'\n",
       "152. '%LGNE'\n",
       "153. 'S%YNE'\n",
       "154. 'SF%SSYE'\n",
       "155. 'S%GSE'\n",
       "156. 'SLG%GQP'\n",
       "157. 'SLVSG%E'\n",
       "158. 'SL%QGAYE'\n",
       "159. 'S%QGMNTE'\n",
       "160. 'SRQG%GTE'\n",
       "161. 'SL%SNQP'\n",
       "162. 'SL%GTGE'\n",
       "163. 'SVTG%TE'\n",
       "164. 'SQD%NQP'\n",
       "165. 'SLGTGL%G'\n",
       "166. '%GNTE'\n",
       "167. 'SSG%TYE'\n",
       "168. 'SP%TGNYG'\n",
       "169. 'SL%GGNTGE'\n",
       "170. 'SYR%E'\n",
       "171. 'SSR%SYE'\n",
       "172. 'SSG%E'\n",
       "173. 'S%GAGE'\n",
       "174. 'SLVG%E'\n",
       "175. 'S%WNTE'\n",
       "176. 'SGG%YG'\n",
       "177. 'S%GQGVYE'\n",
       "178. 'SLR%GE'\n",
       "179. 'S%GQET'\n",
       "180. 'SL%RSE'\n",
       "181. 'SPR%NTE'\n",
       "182. 'SPRT%STDT'\n",
       "183. 'SLG%ET'\n",
       "184. 'SL%RNQP'\n",
       "185. 'S%GLNTE'\n",
       "186. 'SL%GSYE'\n",
       "187. 'S%RGSYE'\n",
       "188. 'SLGQG%NTE'\n",
       "189. 'SL%TGE'\n",
       "190. 'S%GAGNT'\n",
       "191. 'SSGLAT%E'\n",
       "192. 'SLG%TNYG'\n",
       "193. '%ISGANV'\n",
       "194. 'SV%GNQP'\n",
       "195. 'SS%RGKET'\n",
       "196. 'SPSP%NTE'\n",
       "197. 'SLEGL%TGE'\n",
       "198. 'S%TGE'\n",
       "199. 'SL%AGNT'\n",
       "200. 'SP%TE'\n",
       "201. ...\n",
       "202. 'SE%RGTE'\n",
       "203. 'SPGG%QP'\n",
       "204. 'R%TGGNTE'\n",
       "205. 'SSGTG%YE'\n",
       "206. 'S%RSSYNSP'\n",
       "207. '%RTGE'\n",
       "208. 'S%YYE'\n",
       "209. '%GGGYG'\n",
       "210. 'SLDRG%E'\n",
       "211. '%LTYE'\n",
       "212. '%DRGLNTE'\n",
       "213. 'RDR%NSP'\n",
       "214. 'SLGT%'\n",
       "215. 'R%LNYG'\n",
       "216. 'SP%NSP'\n",
       "217. 'SLVGQ%'\n",
       "218. 'SLGGD%'\n",
       "219. 'SLG%GET'\n",
       "220. 'SGQGA%E'\n",
       "221. 'SLG%GTGE'\n",
       "222. 'SW%DE'\n",
       "223. 'S%REGTDT'\n",
       "224. 'SPL%E'\n",
       "225. '%DSTDT'\n",
       "226. 'S%GHYE'\n",
       "227. 'S%LGVE'\n",
       "228. 'R%TGGYG'\n",
       "229. 'S%GLGET'\n",
       "230. 'SVG%GET'\n",
       "231. 'SLQG%YG'\n",
       "232. 'SV%SSYNE'\n",
       "233. 'S%PGG'\n",
       "234. 'SL%PGE'\n",
       "235. 'S%DRET'\n",
       "236. 'SAGS%E'\n",
       "237. 'S%TGRTE'\n",
       "238. 'S%SGRET'\n",
       "239. 'S%LSTDT'\n",
       "240. 'S%HSNQP'\n",
       "241. 'R%GGNEK'\n",
       "242. 'SEG%NSP'\n",
       "243. 'SPGL%TDT'\n",
       "244. 'S%GQP'\n",
       "245. 'SR%GE'\n",
       "246. 'SL%VGE'\n",
       "247. 'SPPG%G'\n",
       "248. 'SYT%E'\n",
       "249. 'S%ELNTE'\n",
       "250. 'S%DRDQP'\n",
       "251. '%QGAGE'\n",
       "252. 'S%SGSYE'\n",
       "253. 'SQGG%T'\n",
       "254. 'RGT%NSP'\n",
       "255. 'S%GEK'\n",
       "256. 'R%ADT'\n",
       "257. 'SLAGG%NE'\n",
       "258. 'S%RDNQP'\n",
       "259. 'SLG%GNT'\n",
       "260. 'SVGTG%E'\n",
       "261. 'SAGQG%YE'\n",
       "262. 'SLS%NE'\n",
       "263. 'SPS%SYE'\n",
       "264. 'SPQGA%E'\n",
       "265. '%GATNEK'\n",
       "266. 'SLG%G'\n",
       "267. 'SL%DG'\n",
       "268. 'SS%RNE'\n",
       "269. 'S%TGGET'\n",
       "270. 'R%DRE'\n",
       "271. 'S%WDE'\n",
       "272. 'RL%ET'\n",
       "273. 'SF%ET'\n",
       "274. 'RT%YE'\n",
       "275. '%GGSET'\n",
       "276. 'SL%GDG'\n",
       "277. 'SLL%TE'\n",
       "278. 'SSSG%T'\n",
       "279. 'STQG%E'\n",
       "280. 'S%TGQET'\n",
       "281. 'S%GVGQP'\n",
       "282. 'SL%TGYE'\n",
       "283. 'SL%RGRE'\n",
       "284. 'SR%GYNE'\n",
       "285. 'SFTGG%E'\n",
       "286. 'S%GQGNEK'\n",
       "287. 'GG%TE'\n",
       "288. 'SL%EK'\n",
       "289. 'SRT%E'\n",
       "290. '%PMNTE'\n",
       "291. 'G%GNQP'\n",
       "292. 'S%DSNTE'\n",
       "293. 'S%QGDYG'\n",
       "294. 'SQV%GGE'\n",
       "295. 'SFRG%GE'\n",
       "296. 'SPG%SNQP'\n",
       "297. 'SLTSG%YE'\n",
       "298. 'SRG%GE'\n",
       "299. '%GQGAYE'\n",
       "300. 'S%GRYNE'\n",
       "301. 'SP%LNTE'\n",
       "302. 'S%RGSYNE'\n",
       "303. 'SSY%'\n",
       "304. 'G%SGNT'\n",
       "305. 'SP%GRG'\n",
       "306. 'SG%DNE'\n",
       "307. 'RQ%NQP'\n",
       "308. 'SQD%RG'\n",
       "309. '%QGSTDT'\n",
       "310. 'S%TSGYE'\n",
       "311. 'SFGG%GE'\n",
       "312. 'RG%E'\n",
       "313. 'SSR%E'\n",
       "314. 'S%GPGG'\n",
       "315. 'ST%TDT'\n",
       "316. 'SLRTG%'\n",
       "317. 'D%SGANV'\n",
       "318. 'S%GLGNE'\n",
       "319. 'S%PSSYE'\n",
       "320. 'SPRG%YE'\n",
       "321. 'S%RSSYNE'\n",
       "322. '%GQGGYE'\n",
       "323. 'G%G'\n",
       "324. 'R%GYE'\n",
       "325. 'S%GQGG'\n",
       "326. 'SR%DTE'\n",
       "327. 'S%GFSYE'\n",
       "328. 'S%GRNQP'\n",
       "329. 'SD%DT'\n",
       "330. 'S%GLAGAGE'\n",
       "331. 'SE%GE'\n",
       "332. 'SEY%E'\n",
       "333. 'SY%'\n",
       "334. '%RDTE'\n",
       "335. 'R%RGYE'\n",
       "336. '%EGNQP'\n",
       "337. '%GGGNT'\n",
       "338. 'SGTS%E'\n",
       "339. 'S%GTSGYE'\n",
       "340. 'RGLAGG%E'\n",
       "341. 'G%NTE'\n",
       "342. 'S%SSGE'\n",
       "343. 'RG%STDT'\n",
       "344. 'S%RNT'\n",
       "345. 'RG%TE'\n",
       "346. 'SS%AE'\n",
       "347. '%GNE'\n",
       "348. 'R%ENTE'\n",
       "349. 'SR%GYG'\n",
       "350. '%NTE'\n",
       "351. '%PSSYNE'\n",
       "352. '%EYNE'\n",
       "353. 'SLG%GG'\n",
       "354. 'SRG%ET'\n",
       "355. 'SQGR%'\n",
       "356. 'SLGP%E'\n",
       "357. 'S%GLAGGYE'\n",
       "358. 'R%GEK'\n",
       "359. 'SGLAG%YE'\n",
       "360. 'VG%E'\n",
       "361. '%QGNQP'\n",
       "362. 'SRGA%E'\n",
       "363. 'SS%E'\n",
       "364. 'SSL%E'\n",
       "365. 'SLVG%G'\n",
       "366. 'R%TDT'\n",
       "367. 'SS%NE'\n",
       "368. 'SG%GNT'\n",
       "369. 'SPS%GE'\n",
       "370. '%RGDTE'\n",
       "371. 'SQGA%E'\n",
       "372. 'SS%DT'\n",
       "373. '%GGE'\n",
       "374. '%VNTE'\n",
       "375. 'T%SGNT'\n",
       "376. 'R%YE'\n",
       "377. '%GSNQP'\n",
       "378. '%EGYE'\n",
       "379. 'S%GAGG'\n",
       "380. 'G%YNE'\n",
       "381. 'SPGT%'\n",
       "382. 'S%GDG'\n",
       "383. 'SSY%E'\n",
       "384. 'S%GRG'\n",
       "385. 'SE%NE'\n",
       "386. 'GG%NQP'\n",
       "387. 'SWG%E'\n",
       "388. 'S%'\n",
       "389. '%GSGE'\n",
       "390. 'G%P'\n",
       "391. 'GT%YG'\n",
       "392. 'SQG%G'\n",
       "393. 'RQG%GE'\n",
       "394. '%YG'\n",
       "395. 'GG%E'\n",
       "396. 'G%GYE'\n",
       "397. 'G%TDT'\n",
       "398. 'SG%GE'\n",
       "399. 'G%TE'\n",
       "400. 'S%G'\n",
       "401. '%YE'\n",
       "\n",
       "\n"
      ],
      "text/plain": [
       "   [1] \"SLG%E\"       \"GIWV\"        \"IWV\"         \"WVYE\"        \"IWVY\"       \n",
       "   [6] \"S%TGNTE\"     \"SV%GNTE\"     \"S%GNYG\"      \"S%RTGE\"      \"TGIW\"       \n",
       "  [11] \"R%STDT\"      \"S%GQMNTE\"    \"SP%MNTE\"     \"%GTGNTE\"     \"SPG%TGE\"    \n",
       "  [16] \"SA%NTE\"      \"SLG%NTE\"     \"S%GSYE\"      \"RG%GGTE\"     \"SL%DE\"      \n",
       "  [21] \"S%TENTE\"     \"S%GRTDT\"     \"S%RGYG\"      \"SDR%TGE\"     \"SP%RGNTE\"   \n",
       "  [26] \"SPRQG%NTE\"   \"TG%SYE\"      \"SP%RNTE\"     \"S%GVNE\"      \"SPGP%E\"     \n",
       "  [31] \"SY%GTE\"      \"SP%GYG\"      \"SPG%GTE\"     \"SL%GE\"       \"S%SSYNE\"    \n",
       "  [36] \"S%QGATE\"     \"SAGQ%NTE\"    \"S%SGE\"       \"S%PNTE\"      \"S%SYE\"      \n",
       "  [41] \"S%AGANTGE\"   \"SQDR%T\"      \"S%MNTE\"      \"S%GGDG\"      \"S%SNQP\"     \n",
       "  [46] \"S%GYTGE\"     \"S%GQGSSYE\"   \"SL%GANTGE\"   \"S%NTE\"       \"SP%NTE\"     \n",
       "  [51] \"SRGT%YE\"     \"SL%GATNEK\"   \"SLT%NTE\"     \"R%GMNTE\"     \"S%GTE\"      \n",
       "  [56] \"%AGNTE\"      \"S%GGTE\"      \"S%GGNE\"      \"R%TGGTE\"     \"S%RGPGE\"    \n",
       "  [61] \"S%QET\"       \"S%QNSNQP\"    \"SPG%YE\"      \"S%GGTGE\"     \"SPG%GE\"     \n",
       "  [66] \"RQ%GNQP\"     \"SFG%MNTE\"    \"S%GTGE\"      \"SR%GMNTE\"    \"S%QGGTE\"    \n",
       "  [71] \"%GLNYG\"      \"GS%NTE\"      \"SSS%E\"       \"SLGL%YE\"     \"S%TGGTE\"    \n",
       "  [76] \"SFGQ%NTE\"    \"S%GTGGTGE\"   \"SLT%MNTE\"    \"SL%GYE\"      \"SYS%GE\"     \n",
       "  [81] \"SL%GNTE\"     \"S%GSNQP\"     \"SIG%GSYE\"    \"S%GDE\"       \"SLG%TE\"     \n",
       "  [86] \"S%SNTE\"      \"SS%YE\"       \"S%NTGE\"      \"SL%SGE\"      \"SLGG%E\"     \n",
       "  [91] \"SPG%LNTE\"    \"SY%GTTE\"     \"SLG%NYG\"     \"SL%GNE\"      \"S%GGNQP\"    \n",
       "  [96] \"S%TGMNTE\"    \"SL%TE\"       \"SL%NE\"       \"SY%GYE\"      \"SL%SGGE\"    \n",
       " [101] \"S%RGNE\"      \"SL%GAGGNT\"   \"S%RGMNTE\"    \"S%GQVNTE\"    \"SL%YE\"      \n",
       " [106] \"%TGGNTE\"     \"SLD%NTE\"     \"SLTSG%YNE\"   \"SL%GTE\"      \"S%RGTE\"     \n",
       " [111] \"SLGQ%NTE\"    \"SL%ENTE\"     \"SPS%TE\"      \"S%GDNE\"      \"SLR%NE\"     \n",
       " [116] \"SLGQGA%NTE\"  \"STGTG%E\"     \"SLGQ%NEK\"    \"S%QGNE\"      \"%VLGDE\"     \n",
       " [121] \"SLTG%TE\"     \"GQGN%E\"      \"S%SPGGYE\"    \"SL%GFNQP\"    \"SPGQG%DG\"   \n",
       " [126] \"S%SGYE\"      \"SLG%NE\"      \"SQDR%G\"      \"SSG%SGNT\"    \"SLV%GMNTE\"  \n",
       " [131] \"SPN%E\"       \"SLG%SYE\"     \"%LGLNTE\"     \"SPG%YG\"      \"S%TGYE\"     \n",
       " [136] \"S%GSTDT\"     \"SV%GGQET\"    \"S%GGYG\"      \"S%GGNT\"      \"S%SGNT\"     \n",
       " [141] \"S%SMNTE\"     \"SYS%E\"       \"S%QGAYE\"     \"SV%GADE\"     \"S%GGTTE\"    \n",
       " [146] \"SL%GGNTE\"    \"SPGTG%YG\"    \"SL%TDT\"      \"SL%TGIWVYE\"  \"SP%EVNTE\"   \n",
       " [151] \"S%RTGSYE\"    \"%LGNE\"       \"S%YNE\"       \"SF%SSYE\"     \"S%GSE\"      \n",
       " [156] \"SLG%GQP\"     \"SLVSG%E\"     \"SL%QGAYE\"    \"S%QGMNTE\"    \"SRQG%GTE\"   \n",
       " [161] \"SL%SNQP\"     \"SL%GTGE\"     \"SVTG%TE\"     \"SQD%NQP\"     \"SLGTGL%G\"   \n",
       " [166] \"%GNTE\"       \"SSG%TYE\"     \"SP%TGNYG\"    \"SL%GGNTGE\"   \"SYR%E\"      \n",
       " [171] \"SSR%SYE\"     \"SSG%E\"       \"S%GAGE\"      \"SLVG%E\"      \"S%WNTE\"     \n",
       " [176] \"SGG%YG\"      \"S%GQGVYE\"    \"SLR%GE\"      \"S%GQET\"      \"SL%RSE\"     \n",
       " [181] \"SPR%NTE\"     \"SPRT%STDT\"   \"SLG%ET\"      \"SL%RNQP\"     \"S%GLNTE\"    \n",
       " [186] \"SL%GSYE\"     \"S%RGSYE\"     \"SLGQG%NTE\"   \"SL%TGE\"      \"S%GAGNT\"    \n",
       " [191] \"SSGLAT%E\"    \"SLG%TNYG\"    \"%ISGANV\"     \"SV%GNQP\"     \"SS%RGKET\"   \n",
       " [196] \"SPSP%NTE\"    \"SLEGL%TGE\"   \"S%TGE\"       \"SL%AGNT\"     \"SP%TE\"      \n",
       " [201] \"SLG%TDT\"     \"S%TYE\"       \"SF%DT\"       \"S%GGSYE\"     \"SY%GE\"      \n",
       " [206] \"STGD%\"       \"RGTG%TE\"     \"S%GPYE\"      \"SP%TGE\"      \"SLE%TE\"     \n",
       " [211] \"SL%SE\"       \"STR%TE\"      \"S%SGKNTE\"    \"GQGNY%\"      \"SQ%SGNT\"    \n",
       " [216] \"SLGG%QP\"     \"RG%LNTE\"     \"RTG%NTE\"     \"S%GDSSYE\"    \"S%DSNSP\"    \n",
       " [221] \"SFTG%TE\"     \"SL%QGGTE\"    \"S%RLNTE\"     \"S%DSGGYNE\"   \"SYSG%\"      \n",
       " [226] \"SQDRR%\"      \"SPGT%NTE\"    \"SQ%MNTE\"     \"SLGQ%NYG\"    \"SPG%NQP\"    \n",
       " [231] \"S%STDT\"      \"SLGV%E\"      \"S%GQGTE\"     \"SLA%NTGE\"    \"SV%MNTE\"    \n",
       " [236] \"SLAGG%VYE\"   \"S%GGGNSP\"    \"S%GQRNTE\"    \"SL%GMNTE\"    \"SSP%AGNTE\"  \n",
       " [241] \"SLRPP%I\"     \"SVG%QAGDT\"   \"SFKRGFSG%NV\" \"SLV%GE\"      \"S%TGGNTE\"   \n",
       " [246] \"S%NRNTE\"     \"SFG%NQP\"     \"SPG%VNTE\"    \"SAGTGG%YE\"   \"S%TSGETDT\"  \n",
       " [251] \"SDS%TGE\"     \"G%MNTE\"      \"SL%GTYNE\"    \"SLR%TE\"      \"SRGG%YE\"    \n",
       " [256] \"S%SGENTGE\"   \"SVEG%TE\"     \"SLSG%YNE\"    \"SS%ISGNT\"    \"S%GGSSYE\"   \n",
       " [261] \"R%QET\"       \"S%AGNTE\"     \"SLS%GTE\"     \"SLG%NSP\"     \"SLSG%NTGE\"  \n",
       " [266] \"RIWV\"        \"S%QGDTE\"     \"SH%NTE\"      \"S%GANTGE\"    \"S%RRYE\"     \n",
       " [271] \"SP%GGNTE\"    \"S%RYE\"       \"SY%ET\"       \"SRDRG%E\"     \"SL%GGGTE\"   \n",
       " [276] \"SLEG%NQP\"    \"SLAGG%NQP\"   \"SSDRV%GNT\"   \"SLGQINTD%\"   \"S%SGTDT\"    \n",
       " [281] \"SLRGN%\"      \"G%QGDQP\"     \"SLGG%YE\"     \"SLVGG%TDT\"   \"S%LAGGTDT\"  \n",
       " [286] \"SRTG%TE\"     \"SDS%GGTDT\"   \"SVS%NTE\"     \"SYP%TE\"      \"S%AGGTDT\"   \n",
       " [291] \"SRE%TE\"      \"S%GTGGTE\"    \"SLDS%GYNE\"   \"SSG%YE\"      \"SF%GNYG\"    \n",
       " [296] \"SYGG%TE\"     \"SR%LNTE\"     \"S%LAGSYNE\"   \"S%GTNYG\"     \"SP%LGET\"    \n",
       " [301] \"SL%SSNQP\"    \"SQ%GMNTE\"    \"SIGQG%\"      \"SF%GGTE\"     \"SLL%GLYE\"   \n",
       " [306] \"SLGTGGN%\"    \"SPG%GNQP\"    \"SLR%SNQP\"    \"SLGG%SSYE\"   \"SLSG%E\"     \n",
       " [311] \"R%TGE\"       \"SQEG%TE\"     \"SF%GSGNT\"    \"SEAGGP%E\"    \"SLGN%\"      \n",
       " [316] \"SLGTSG%YE\"   \"SL%LNTE\"     \"SLG%SSYE\"    \"S%GRTE\"      \"K%TGNTE\"    \n",
       " [321] \"SP%LQET\"     \"STG%E\"       \"S%PGTE\"      \"S%PGE\"       \"R%TANTE\"    \n",
       " [326] \"SLG%YNE\"     \"SRQG%NTE\"    \"S%TDT\"       \"S%SGGNTGE\"   \"SLGQG%YNE\"  \n",
       " [331] \"SP%GEK\"      \"SLNP%TGE\"    \"SLG%GE\"      \"SVGT%YE\"     \"SLS%NQP\"    \n",
       " [336] \"SLG%VNTE\"    \"SRD%E\"       \"%IRGYE\"      \"SYPG%E\"      \"RRG%NTE\"    \n",
       " [341] \"SPNR%TE\"     \"S%GTSGTDT\"   \"SPPGA%NTE\"   \"S%YE\"        \"SP%YE\"      \n",
       " [346] \"SI%GTDT\"     \"SRE%NTE\"     \"SGQGT%E\"     \"S%GDRAYE\"    \"R%GAGE\"     \n",
       " [351] \"S%QGGE\"      \"SQG%GE\"      \"S%AGNQP\"     \"SLG%NQP\"     \"S%GGANEK\"   \n",
       " [356] \"S%TSGDYNE\"   \"S%GVYG\"      \"S%GVGE\"      \"SAGSY%\"      \"S%GTGYE\"    \n",
       " [361] \"SPWGN%P\"     \"SL%GGGTDT\"   \"SLDSG%YNE\"   \"SV%GDT\"      \"SQG%SGNT\"   \n",
       " [366] \"S%FGTE\"      \"%LTGNTE\"     \"SPGQ%TE\"     \"SLGG%GE\"     \"S%RDTGE\"    \n",
       " [371] \"SQVRG%E\"     \"SL%EGNTE\"    \"SL%GNTGE\"    \"SLG%AGGE\"    \"SLGTGG%T\"   \n",
       " [376] \"SLEG%STDT\"   \"SP%NYG\"      \"R%SGANV\"     \"SEQG%QP\"     \"SVAG%TE\"    \n",
       " [381] \"SPQGA%G\"     \"S%GGTGNT\"    \"SL%GGSTDT\"   \"S%SGDT\"      \"S%GENTE\"    \n",
       " [386] \"%ASMNTE\"     \"SL%DGNTE\"    \"SNRG%NTE\"    \"SV%GSYNE\"    \"SLTG%NTE\"   \n",
       " [391] \"SLGDRAY%\"    \"STPG%GNEK\"   \"%LGTE\"       \"SLT%E\"       \"SGG%NE\"     \n",
       " [396] \"S%GTGTE\"     \"SQG%TGE\"     \"SLV%DT\"      \"SVA%NTE\"     \"S%TGGGQP\"   \n",
       " [401] \"SLAG%NTGE\"   \"S%MGTDT\"     \"SLGI%YG\"     \"SPGQGT%\"     \"SLG%GVNTE\"  \n",
       " [406] \"S%GQTYE\"     \"S%GGSSYNE\"   \"SL%NSP\"      \"%LGENTE\"     \"S%YSTGE\"    \n",
       " [411] \"SL%GDYG\"     \"SWG%NQP\"     \"KQGD%P\"      \"SLRG%E\"      \"%SSGANV\"    \n",
       " [416] \"SN%GPGE\"     \"SPDR%FTE\"    \"SPGG%TDT\"    \"SLEQGA%NE\"   \"S%SSYNSP\"   \n",
       " [421] \"SF%ATNEK\"    \"SPRD%NQP\"    \"%LGSE\"       \"SYSS%E\"      \"SGT%AYE\"    \n",
       " [426] \"S%GISGNT\"    \"SP%GSYNE\"    \"S%LAGGQET\"   \"SRD%NQP\"     \"SPGQG%E\"    \n",
       " [431] \"SP%GSYE\"     \"SSQG%TE\"     \"S%QGSGNT\"    \"SLGS%\"       \"SL%QNSP\"    \n",
       " [436] \"SH%GTDT\"     \"SRDRN%E\"     \"SL%GTNYG\"    \"SLG%SNYG\"    \"SLGT%GNT\"   \n",
       " [441] \"SL%GGMNTE\"   \"SPPG%STDT\"   \"SESG%NTGE\"   \"SLY%E\"       \"SLG%GYE\"    \n",
       " [446] \"S%TGVNTE\"    \"SM%LNQP\"     \"SHRE%NTE\"    \"SS%TSGINE\"   \"SVT%GPYNE\"  \n",
       " [451] \"SPGQ%\"       \"S%ELNQP\"     \"SL%GGYG\"     \"SDG%TDT\"     \"%GQNSNQP\"   \n",
       " [456] \"S%YTGE\"      \"SPGR%E\"      \"S%EGYG\"      \"TG%TNEK\"     \"SSG%SYE\"    \n",
       " [461] \"SS%GNT\"      \"%ASNTE\"      \"S%RTTE\"      \"SP%GGGNT\"    \"SPP%GNTE\"   \n",
       " [466] \"S%AGGGNQP\"   \"SL%SGGYNE\"   \"SLGLAG%DT\"   \"SR%QET\"      \"SW%NTE\"     \n",
       " [471] \"SRT%PET\"     \"SSGQTY%\"     \"RGLSGN%\"     \"SLGSNQ%\"     \"SR%GGNQP\"   \n",
       " [476] \"SQVG%TE\"     \"SLDS%TE\"     \"SF%GGGTE\"    \"SVGP%NTE\"    \"S%RTGGSYE\"  \n",
       " [481] \"S%GQGE\"      \"SRDRG%ET\"    \"SFG%YNE\"     \"SS%QGNTE\"    \"S%GQATNEK\"  \n",
       " [486] \"SL%AGGYNE\"   \"SH%TGE\"      \"S%QGAGE\"     \"S%GNE\"       \"SR%DYG\"     \n",
       " [491] \"SQ%GNT\"      \"SP%GNQP\"     \"SS%PGGT\"     \"SQAGS%DT\"    \"GPGQGN%E\"   \n",
       " [496] \"SQE%TSYNE\"   \"SQRTGG%YG\"   \"SF%SYE\"      \"SY%SGE\"      \"SVS%SE\"     \n",
       " [501] \"SYG%YG\"      \"%RGENTE\"     \"SPR%SYE\"     \"SVG%GTE\"     \"SLGG%NYG\"   \n",
       " [506] \"S%PGQGSYE\"   \"SRG%ATNEK\"   \"S%LGDG\"      \"SL%GQE\"      \"SSV%TE\"     \n",
       " [511] \"SLGGT%\"      \"S%VGDTE\"     \"SQV%NTE\"     \"SLGGG%QP\"    \"%AMNTE\"     \n",
       " [516] \"S%DRGGE\"     \"SA%MNTE\"     \"S%GTVNTE\"    \"S%SVGE\"      \"SYS%SP\"     \n",
       " [521] \"SVSG%T\"      \"SLDS%E\"      \"STRT%E\"      \"%ATMNTE\"     \"SLAGVY%\"    \n",
       " [526] \"S%RGQNTE\"    \"SG%GVNTE\"    \"SS%GLNTE\"    \"%PGQTSTDT\"   \"SYT%YE\"     \n",
       " [531] \"SDG%TE\"      \"SL%WGTE\"     \"RGR%GTE\"     \"SLGT%YE\"     \"SL%RGGDE\"   \n",
       " [536] \"S%PGQGNEK\"   \"SL%GAGANV\"   \"SLGTG%TDT\"   \"SSR%GE\"      \"SVS%GE\"     \n",
       " [541] \"SLGT%E\"      \"SPG%SYNE\"    \"%PENTE\"      \"SQVGN%\"      \"R%HLNTE\"    \n",
       " [546] \"SPE%TGE\"     \"SP%RGNQP\"    \"SSGGA%EK\"    \"S%RQGVNTGE\"  \"S%GRAGE\"    \n",
       " [551] \"S%DLNTE\"     \"SSGQGA%E\"    \"S%GPE\"       \"SY%TDT\"      \"SLVAG%NE\"   \n",
       " [556] \"SLAGV%DT\"    \"SPGG%SNQP\"   \"SGQG%NE\"     \"%SDEK\"       \"SL%PNYG\"    \n",
       " [561] \"SL%VNYG\"     \"SS%GGYG\"     \"SYF%GNT\"     \"STQG%TE\"     \"SVGRN%E\"    \n",
       " [566] \"SPGGTY%\"     \"S%AGGGTE\"    \"S%ASANYG\"    \"SP%PVNTE\"    \"SF%QMNTE\"   \n",
       " [571] \"SL%GVRDT\"    \"SSTG%NQP\"    \"SPDRG%TE\"    \"S%QGATNEK\"   \"SI%DSSGNT\"  \n",
       " [576] \"SDPGT%NTE\"   \"SLGQG%NQP\"   \"S%NTDT\"      \"SPG%AE\"      \"SIG%GG\"     \n",
       " [581] \"S%GRNYE\"     \"S%GGRGTDT\"   \"R%NTE\"       \"S%GTGTYE\"    \"SQ%GGIE\"    \n",
       " [586] \"G%QGGNQP\"    \"SQSG%NTE\"    \"SVGR%NTE\"    \"SPPG%NTE\"    \"SLD%GGYNE\"  \n",
       " [591] \"SIGR%SNQP\"   \"SPGT%NTGE\"   \"SLGA%G\"      \"S%LDT\"       \"G%YTE\"      \n",
       " [596] \"%LDYE\"       \"S%VPDT\"      \"SR%GRTE\"     \"SRGP%TE\"     \"SSGQ%NQP\"   \n",
       " [601] \"RQG%QP\"      \"S%GGGQP\"     \"SFPS%YE\"     \"SLR%GGEK\"    \"SLQGP%YG\"   \n",
       " [606] \"S%RGALNTE\"   \"S%GATDT\"     \"SK%SNQP\"     \"SL%GNSP\"     \"SVA%NQP\"    \n",
       " [611] \"SLAG%GE\"     \"S%LGE\"       \"SLR%NYG\"     \"S%DRNTGE\"    \"SLSW%TE\"    \n",
       " [616] \"SLWG%DTE\"    \"SERT%SYE\"    \"SVGDS%YE\"    \"SYGGGG%E\"    \"%LGLAGTDT\"  \n",
       " [621] \"SPR%GANTE\"   \"SDSAG%TDT\"   \"SLE%GSSYNE\"  \"G%RMNTE\"     \"SLT%NYG\"    \n",
       " [626] \"SSGTSG%NE\"   \"%TGSYG\"      \"%GTGGTE\"     \"%STDT\"       \"R%GNQP\"     \n",
       " [631] \"S%GTGNE\"     \"SS%GANV\"     \"ST%GGTE\"     \"SQVGG%E\"     \"%LAGNTGE\"   \n",
       " [636] \"%ETNTE\"      \"%VSMNTE\"     \"S%GGRGE\"     \"SL%GLDTE\"    \"SS%GLNQP\"   \n",
       " [641] \"SLGQG%SG\"    \"SRVGG%QP\"    \"%RGDSGANV\"   \"S%QTGSGNT\"   \"SI%SSYNSP\"  \n",
       " [646] \"SPRLAGG%TDT\" \"TE%YE\"       \"SFR%T\"       \"%SMNTE\"      \"SR%YNE\"     \n",
       " [651] \"SEG%YG\"      \"RG%NYG\"      \"S%RGNEK\"     \"SV%SNTE\"     \"SAGT%NE\"    \n",
       " [656] \"SI%GDG\"      \"SIDR%YG\"     \"SLES%YG\"     \"S%QGWGTE\"    \"S%AGPGNT\"   \n",
       " [661] \"SP%GFTDT\"    \"SFPG%NTE\"    \"SV%TGSGNT\"   \"SL%SGYTDT\"   \"SQD%RGNQP\"  \n",
       " [666] \"SLA%ANTGE\"   \"SSTG%SGANV\"  \"S%DEK\"       \"S%GSGET\"     \"S%RGTDT\"    \n",
       " [671] \"S%ADYE\"      \"SL%RET\"      \"SLG%DG\"      \"SGV%NE\"      \"SL%GGGNE\"   \n",
       " [676] \"S%GIDT\"      \"%VAGNTE\"     \"SV%GFTE\"     \"SLAL%GG\"     \"SLS%GNYG\"   \n",
       " [681] \"SSG%LNQP\"    \"SQD%MNTE\"    \"SVG%AKNI\"    \"SL%GGYNSP\"   \"SL%GALNTE\"  \n",
       " [686] \"SL%GTSSYE\"   \"SSL%SSYNE\"   \"SLRTG%NTE\"   \"SLQGA%TDT\"   \"S%RDT\"      \n",
       " [691] \"S%AGGPNE\"    \"SG%GYG\"      \"SLGTG%E\"     \"S%GDYNE\"     \"SKD%NQP\"    \n",
       " [696] \"PDR%SYE\"     \"SWA%NTE\"     \"SPG%VTE\"     \"SVSS%NE\"     \"S%TGGQET\"   \n",
       " [701] \"SVG%SPYE\"    \"SLDG%GTE\"    \"SLGDR%YG\"    \"SP%TGGGTE\"   \"SLGT%GAYE\"  \n",
       " [706] \"SQDRG%TGE\"   \"SLEGG%TDT\"   \"%PNTE\"       \"S%GYYG\"      \"S%AGANV\"    \n",
       " [711] \"SR%TE\"       \"SP%DE\"       \"S%GSDG\"      \"S%EDTGE\"     \"SLS%RET\"    \n",
       " [716] \"SYS%RNTE\"    \"SFGG%NSP\"    \"SAGQGV%E\"    \"S%SGDSGNT\"   \"SRDR%TNEK\"  \n",
       " [721] \"SLSGG%TGE\"   \"S%NEK\"       \"SAG%YE\"      \"SWG%GE\"      \"TGQ%NTE\"    \n",
       " [726] \"RR%NEK\"      \"SGTGG%QP\"    \"RRN%\"        \"K%GSYG\"      \"SA%VNE\"     \n",
       " [731] \"S%SWGTE\"     \"S%GQLET\"     \"HR%MNTE\"     \"SQ%YTGE\"     \"SRG%EYE\"    \n",
       " [736] \"EGQGG%E\"     \"S%GGAPDT\"    \"S%GPTNTE\"    \"S%DSPNTE\"    \"SLVG%STDT\"  \n",
       " [741] \"SLRT%E\"      \"SRTG%ET\"     \"SLAG%TGE\"    \"RD%YE\"       \"S%ISYE\"     \n",
       " [746] \"TQG%YG\"      \"SR%RNTE\"     \"SRDR%TGE\"    \"%RET\"        \"S%GPGE\"     \n",
       " [751] \"SLE%E\"       \"%SGQTYE\"     \"%LDRNTE\"     \"SPG%TYG\"     \"SLV%GYG\"    \n",
       " [756] \"S%GGTTYE\"    \"SL%TGGNT\"    \"SL%TGNSP\"    \"SLD%YNSP\"    \"SQDS%NTE\"   \n",
       " [761] \"S%GAGGYNE\"   \"%LGDE\"       \"S%GYG\"       \"SP%RAE\"      \"SYS%DT\"     \n",
       " [766] \"SIGQ%G\"      \"SQGAG%\"      \"S%QRGTE\"     \"SP%VTDT\"     \"SQ%WNTE\"    \n",
       " [771] \"SRD%NSP\"     \"SYRE%TE\"     \"S%GQDTDT\"    \"S%GTNSYE\"    \"SL%GEGYE\"   \n",
       " [776] \"SRD%NTGE\"    \"S%GQASGNT\"   \"S%GTANTGE\"   \"RPGTG%NQP\"   \"SLGTG%TGE\"  \n",
       " [781] \"SYGLAGG%E\"   \"RV%TDT\"      \"SLSS%E\"      \"SF%GTGE\"     \"SQG%GNQP\"   \n",
       " [786] \"S%GLAGSYE\"   \"%RGYE\"       \"SLS%GE\"      \"SYTG%E\"      \"SYPGT%\"     \n",
       " [791] \"SSSGN%\"      \"%GTSDYE\"     \"%GTNTDT\"     \"S%GTDYE\"     \"SYRV%TE\"    \n",
       " [796] \"SLGGT%E\"     \"S%TGAKNI\"    \"S%RGGDEK\"    \"S%VAGTDT\"    \"SLLQG%YE\"   \n",
       " [801] \"SLGT%SYNE\"   \"SPTGG%TDT\"   \"SGLAG%YNE\"   \"SPRTGG%YE\"   \"S%RGE\"      \n",
       " [806] \"K%GDQP\"      \"SP%EGE\"      \"S%RANYG\"     \"SS%GTDT\"     \"SLD%NSP\"    \n",
       " [811] \"S%RSSNQP\"    \"S%SGGGNT\"    \"SY%GGPYE\"    \"SF%SSYNE\"    \"SYG%GGYE\"   \n",
       " [816] \"SLT%GNTE\"    \"SLL%GGTE\"    \"SSDRG%ET\"    \"SL%GGGNQP\"   \"SVRG%SYNE\"  \n",
       " [821] \"RD%SNQP\"     \"R%NE\"        \"%SSYE\"       \"S%VGNT\"      \"SR%AGE\"     \n",
       " [826] \"SE%PDT\"      \"SPSN%E\"      \"S%VWNTE\"     \"SG%GAYE\"     \"SS%GIYE\"    \n",
       " [831] \"SL%IQET\"     \"SFS%NTE\"     \"SSRG%DT\"     \"SLG%GGNT\"    \"SLS%GGTE\"   \n",
       " [836] \"SPQG%GNT\"    \"SGTG%TDT\"    \"SLQG%YNE\"    \"SLVGA%GE\"    \"S%EGSGANV\"  \n",
       " [841] \"SI%GE\"       \"%TSTDT\"      \"%SSGNT\"      \"S%GLSYE\"     \"S%FGGTE\"    \n",
       " [846] \"S%GDSYG\"     \"S%STTGE\"     \"SE%NTGE\"     \"SP%ISYE\"     \"SSGQ%YE\"    \n",
       " [851] \"%PGHLNTE\"    \"S%GTGSYG\"    \"S%GRRNTE\"    \"S%PGQGPYE\"   \"SP%TGGSYE\"  \n",
       " [856] \"SD%AGGTDT\"   \"SP%AGGYNE\"   \"%YYNE\"       \"SY%DT\"       \"SPR%NE\"     \n",
       " [861] \"SPGT%E\"      \"R%AGGTDT\"    \"S%QGPE\"      \"SLVN%E\"      \"S%QGAQP\"    \n",
       " [866] \"S%TPGTE\"     \"SP%SYNE\"     \"SFP%SYE\"     \"SPDR%QP\"     \"SVGG%GG\"    \n",
       " [871] \"SLTGN%E\"     \"S%AGGLDE\"    \"S%LQGNTE\"    \"SQTG%NTE\"    \"SL%GSSTDT\"  \n",
       " [876] \"SRG%GSSYE\"   \"S%PPDT\"      \"SG%GNE\"      \"RP%NTE\"      \"SF%DYE\"     \n",
       " [881] \"SFG%DT\"      \"S%RTGRE\"     \"S%RSTDT\"     \"SF%GANV\"     \"SS%STDT\"    \n",
       " [886] \"SLD%QET\"     \"SPA%TDT\"     \"S%GLRTDT\"    \"S%DSMNTE\"    \"SS%RSSYE\"   \n",
       " [891] \"SP%TVNTE\"    \"SV%TGGTE\"    \"SRG%RTDT\"    \"SVR%SYNE\"    \"SPGR%NQP\"   \n",
       " [896] \"SLDRG%QP\"    \"S%VYNE\"      \"S%VSTE\"      \"%QSMNTE\"     \"S%GTEYE\"    \n",
       " [901] \"S%TSAYE\"     \"SP%TTGE\"     \"SQ%GDTE\"     \"SAGTG%E\"     \"SL%PGGTE\"   \n",
       " [906] \"SLG%GDQP\"    \"%SYE\"        \"S%DTE\"       \"S%LYE\"       \"SLS%YE\"     \n",
       " [911] \"%SGSTDT\"     \"%AAQET\"      \"SPP%YG\"      \"SLVGD%\"      \"SD%DTGE\"    \n",
       " [916] \"SW%GNTE\"     \"SF%STGE\"     \"SLGS%QP\"     \"SPGT%GE\"     \"SL%RGTGE\"   \n",
       " [921] \"SPGH%NTE\"    \"SEAGG%NE\"    \"SVTGG%ET\"    \"G%GDEK\"      \"S%VDNE\"     \n",
       " [926] \"STS%DT\"      \"S%RAGTE\"     \"SW%STDT\"     \"S%AATNEK\"    \"S%LGSYNE\"   \n",
       " [931] \"S%VGGNQP\"    \"S%PGGNTE\"    \"SL%DRGYE\"    \"SPG%GNSP\"    \"SLGG%PYE\"   \n",
       " [936] \"SVAGG%DT\"    \"SLGQGA%G\"    \"SQGLAG%GE\"   \"%GGDT\"       \"GGN%\"       \n",
       " [941] \"SWGD%\"       \"GDR%YG\"      \"SLGGN%\"      \"%PRGTDT\"     \"S%ARNTE\"    \n",
       " [946] \"S%SANTE\"     \"S%GRSTE\"     \"SAG%SYG\"     \"SQGG%NQP\"    \"S%RQGGNQP\"  \n",
       " [951] \"SP%PYE\"      \"G%NE\"        \"%YNYG\"       \"GL%GTGE\"     \"SLRT%YE\"    \n",
       " [956] \"SLAG%YG\"     \"SLGR%QP\"     \"SLDR%NSP\"    \"SPPGQG%YE\"   \"%DSSYE\"     \n",
       " [961] \"%EGEK\"       \"S%DGNSP\"     \"SLSG%ET\"     \"SGG%NTGE\"    \"SL%NNE\"     \n",
       " [966] \"SVS%DT\"      \"SYRG%G\"      \"SGGGY%\"      \"SPA%NTE\"     \"S%GTANQP\"   \n",
       " [971] \"SLR%GAGE\"    \"SLG%TGE\"     \"T%GYE\"       \"%DTNTE\"      \"S%LNEK\"     \n",
       " [976] \"SD%YYG\"      \"S%GGHYE\"     \"SL%SNTE\"     \"SL%GGQP\"     \"SSR%TDT\"    \n",
       " [981] \"R%RGLNTE\"    \"SP%NSNQP\"    \"SA%SYE\"      \"SEG%NYG\"     \"%SYNE\"      \n",
       " [986] \"SPG%G\"       \"%AGSYE\"      \"S%RWGE\"      \"S%SPGE\"      \"SL%LSYE\"    \n",
       " [991] \"SS%RAYE\"     \"SS%GDTE\"     \"SSGT%NQP\"    \"I%NTE\"       \"SN%DT\"      \n",
       " [996] \"SS%NEK\"      \"S%GGGNQP\"    \"SLTGG%TE\"    \"SPTGG%YE\"    \"SL%LAGVGE\"  \n",
       "[1001] \"SLGD%\"       \"SLS%DT\"      \"S%RGQGE\"     \"SQ%GNQP\"     \"SFGGR%E\"    \n",
       "[1006] \"S%LAGDYE\"    \"S%DRANTE\"    \"SL%GGTYE\"    \"SQG%GSYE\"    \"SPPGLAG%E\"  \n",
       "[1011] \"S%TASYE\"     \"SL%GDYE\"     \"SR%ASYE\"     \"S%GTGDQP\"    \"SLTGG%YE\"   \n",
       "[1016] \"SPTG%G\"      \"%TGNTGE\"     \"SRQG%GE\"     \"SYS%DE\"      \"SLNS%E\"     \n",
       "[1021] \"SV%RNTE\"     \"SL%PGNE\"     \"S%AGGADT\"    \"S%GHLNTE\"    \"S%GINYG\"    \n",
       "[1026] \"SE%RGTE\"     \"SPGG%QP\"     \"R%TGGNTE\"    \"SSGTG%YE\"    \"S%RSSYNSP\"  \n",
       "[1031] \"%RTGE\"       \"S%YYE\"       \"%GGGYG\"      \"SLDRG%E\"     \"%LTYE\"      \n",
       "[1036] \"%DRGLNTE\"    \"RDR%NSP\"     \"SLGT%\"       \"R%LNYG\"      \"SP%NSP\"     \n",
       "[1041] \"SLVGQ%\"      \"SLGGD%\"      \"SLG%GET\"     \"SGQGA%E\"     \"SLG%GTGE\"   \n",
       "[1046] \"SW%DE\"       \"S%REGTDT\"    \"SPL%E\"       \"%DSTDT\"      \"S%GHYE\"     \n",
       "[1051] \"S%LGVE\"      \"R%TGGYG\"     \"S%GLGET\"     \"SVG%GET\"     \"SLQG%YG\"    \n",
       "[1056] \"SV%SSYNE\"    \"S%PGG\"       \"SL%PGE\"      \"S%DRET\"      \"SAGS%E\"     \n",
       "[1061] \"S%TGRTE\"     \"S%SGRET\"     \"S%LSTDT\"     \"S%HSNQP\"     \"R%GGNEK\"    \n",
       "[1066] \"SEG%NSP\"     \"SPGL%TDT\"    \"S%GQP\"       \"SR%GE\"       \"SL%VGE\"     \n",
       "[1071] \"SPPG%G\"      \"SYT%E\"       \"S%ELNTE\"     \"S%DRDQP\"     \"%QGAGE\"     \n",
       "[1076] \"S%SGSYE\"     \"SQGG%T\"      \"RGT%NSP\"     \"S%GEK\"       \"R%ADT\"      \n",
       "[1081] \"SLAGG%NE\"    \"S%RDNQP\"     \"SLG%GNT\"     \"SVGTG%E\"     \"SAGQG%YE\"   \n",
       "[1086] \"SLS%NE\"      \"SPS%SYE\"     \"SPQGA%E\"     \"%GATNEK\"     \"SLG%G\"      \n",
       "[1091] \"SL%DG\"       \"SS%RNE\"      \"S%TGGET\"     \"R%DRE\"       \"S%WDE\"      \n",
       "[1096] \"RL%ET\"       \"SF%ET\"       \"RT%YE\"       \"%GGSET\"      \"SL%GDG\"     \n",
       "[1101] \"SLL%TE\"      \"SSSG%T\"      \"STQG%E\"      \"S%TGQET\"     \"S%GVGQP\"    \n",
       "[1106] \"SL%TGYE\"     \"SL%RGRE\"     \"SR%GYNE\"     \"SFTGG%E\"     \"S%GQGNEK\"   \n",
       "[1111] \"GG%TE\"       \"SL%EK\"       \"SRT%E\"       \"%PMNTE\"      \"G%GNQP\"     \n",
       "[1116] \"S%DSNTE\"     \"S%QGDYG\"     \"SQV%GGE\"     \"SFRG%GE\"     \"SPG%SNQP\"   \n",
       "[1121] \"SLTSG%YE\"    \"SRG%GE\"      \"%GQGAYE\"     \"S%GRYNE\"     \"SP%LNTE\"    \n",
       "[1126] \"S%RGSYNE\"    \"SSY%\"        \"G%SGNT\"      \"SP%GRG\"      \"SG%DNE\"     \n",
       "[1131] \"RQ%NQP\"      \"SQD%RG\"      \"%QGSTDT\"     \"S%TSGYE\"     \"SFGG%GE\"    \n",
       "[1136] \"RG%E\"        \"SSR%E\"       \"S%GPGG\"      \"ST%TDT\"      \"SLRTG%\"     \n",
       "[1141] \"D%SGANV\"     \"S%GLGNE\"     \"S%PSSYE\"     \"SPRG%YE\"     \"S%RSSYNE\"   \n",
       "[1146] \"%GQGGYE\"     \"G%G\"         \"R%GYE\"       \"S%GQGG\"      \"SR%DTE\"     \n",
       "[1151] \"S%GFSYE\"     \"S%GRNQP\"     \"SD%DT\"       \"S%GLAGAGE\"   \"SE%GE\"      \n",
       "[1156] \"SEY%E\"       \"SY%\"         \"%RDTE\"       \"R%RGYE\"      \"%EGNQP\"     \n",
       "[1161] \"%GGGNT\"      \"SGTS%E\"      \"S%GTSGYE\"    \"RGLAGG%E\"    \"G%NTE\"      \n",
       "[1166] \"S%SSGE\"      \"RG%STDT\"     \"S%RNT\"       \"RG%TE\"       \"SS%AE\"      \n",
       "[1171] \"%GNE\"        \"R%ENTE\"      \"SR%GYG\"      \"%NTE\"        \"%PSSYNE\"    \n",
       "[1176] \"%EYNE\"       \"SLG%GG\"      \"SRG%ET\"      \"SQGR%\"       \"SLGP%E\"     \n",
       "[1181] \"S%GLAGGYE\"   \"R%GEK\"       \"SGLAG%YE\"    \"VG%E\"        \"%QGNQP\"     \n",
       "[1186] \"SRGA%E\"      \"SS%E\"        \"SSL%E\"       \"SLVG%G\"      \"R%TDT\"      \n",
       "[1191] \"SS%NE\"       \"SG%GNT\"      \"SPS%GE\"      \"%RGDTE\"      \"SQGA%E\"     \n",
       "[1196] \"SS%DT\"       \"%GGE\"        \"%VNTE\"       \"T%SGNT\"      \"R%YE\"       \n",
       "[1201] \"%GSNQP\"      \"%EGYE\"       \"S%GAGG\"      \"G%YNE\"       \"SPGT%\"      \n",
       "[1206] \"S%GDG\"       \"SSY%E\"       \"S%GRG\"       \"SE%NE\"       \"GG%NQP\"     \n",
       "[1211] \"SWG%E\"       \"S%\"          \"%GSGE\"       \"G%P\"         \"GT%YG\"      \n",
       "[1216] \"SQG%G\"       \"RQG%GE\"      \"%YG\"         \"GG%E\"        \"G%GYE\"      \n",
       "[1221] \"G%TDT\"       \"SG%GE\"       \"G%TE\"        \"S%G\"         \"%YE\"        "
      ]
     },
     "metadata": {},
     "output_type": "display_data"
    }
   ],
   "source": [
    "colnames(cfdna_hla_v_j_gliph)[271:ncol(cfdna_hla_v_j_gliph)]"
   ]
  },
  {
   "cell_type": "code",
   "execution_count": 73,
   "metadata": {
    "vscode": {
     "languageId": "r"
    }
   },
   "outputs": [],
   "source": [
    "cols_gliph <- colnames(cfdna_hla_v_j_gliph)[271:ncol(cfdna_hla_v_j_gliph)]"
   ]
  },
  {
   "cell_type": "code",
   "execution_count": 74,
   "metadata": {
    "vscode": {
     "languageId": "r"
    }
   },
   "outputs": [],
   "source": [
    "cfdna_hla_v_j_gliph$cyclenum <- as.numeric(gsub(\"X0\", \"\", cfdna_hla_v_j_gliph$cycle))"
   ]
  },
  {
   "cell_type": "code",
   "execution_count": null,
   "metadata": {
    "vscode": {
     "languageId": "r"
    }
   },
   "outputs": [],
   "source": [
    "# cfdna_flowonly <- imputepca.fx(cfdna_hla_v_j_gliph, c(cols_flow))"
   ]
  },
  {
   "cell_type": "code",
   "execution_count": null,
   "metadata": {
    "vscode": {
     "languageId": "r"
    }
   },
   "outputs": [],
   "source": [
    "# cfdna_tcrhla <- imputepca.fx(cfdna_hla_v_j_gliph, c(cols_others, cols_tbv, cols_tbj))"
   ]
  },
  {
   "cell_type": "code",
   "execution_count": 78,
   "metadata": {
    "vscode": {
     "languageId": "r"
    }
   },
   "outputs": [],
   "source": [
    "cfdna_all <- imputepca.fx(cfdna_hla_v_j_gliph, c(cols_flow, cols_others, cols_tbv))"
   ]
  },
  {
   "cell_type": "code",
   "execution_count": 80,
   "metadata": {
    "vscode": {
     "languageId": "r"
    }
   },
   "outputs": [
    {
     "data": {
      "text/plain": [
       "[[1]]\n",
       "Logistic Regression Model\n",
       "\n",
       "rms::lrm(formula = Relapse ~ sumdist_n, data = mypatients)\n",
       "\n",
       "                      Model Likelihood     Discrimination    Rank Discrim.    \n",
       "                            Ratio Test            Indexes          Indexes    \n",
       "Obs            71    LR chi2      0.61     R2       0.014    C       0.600    \n",
       " 0             57    d.f.            1     R2(1,71) 0.000    Dxy     0.199    \n",
       " 1             14    Pr(> chi2) 0.4346    R2(1,33.7)0.000    gamma   0.199    \n",
       "max |deriv| 5e-05                          Brier    0.157    tau-a   0.064    \n",
       "\n",
       "          Coef    S.E.   Wald Z Pr(>|Z|)\n",
       "Intercept -1.1315 0.4580 -2.47  0.0135  \n",
       "sumdist_n -0.1340 0.1829 -0.73  0.4638  \n",
       "\n",
       "\n",
       "[[2]]\n",
       "Logistic Regression Model\n",
       "\n",
       "rms::lrm(formula = Relapse ~ meddist_n, data = mypatients)\n",
       "\n",
       "                      Model Likelihood     Discrimination    Rank Discrim.    \n",
       "                            Ratio Test            Indexes          Indexes    \n",
       "Obs            71    LR chi2      0.24     R2       0.005    C       0.469    \n",
       " 0             57    d.f.            1     R2(1,71) 0.000    Dxy    -0.061    \n",
       " 1             14    Pr(> chi2) 0.6223    R2(1,33.7)0.000    gamma  -0.062    \n",
       "max |deriv| 2e-07                          Brier    0.158    tau-a  -0.020    \n",
       "\n",
       "          Coef    S.E.   Wald Z Pr(>|Z|)\n",
       "Intercept -1.5496 0.4234 -3.66  0.0003  \n",
       "meddist_n  0.1392 0.2759  0.50  0.6139  \n",
       "\n"
      ]
     },
     "metadata": {},
     "output_type": "display_data"
    }
   ],
   "source": [
    "cfdna_all[5:6]"
   ]
  },
  {
   "cell_type": "code",
   "execution_count": null,
   "metadata": {
    "vscode": {
     "languageId": "r"
    }
   },
   "outputs": [],
   "source": []
  },
  {
   "cell_type": "markdown",
   "metadata": {},
   "source": [
    "# Impute with rms"
   ]
  },
  {
   "cell_type": "code",
   "execution_count": null,
   "metadata": {
    "vscode": {
     "languageId": "r"
    }
   },
   "outputs": [],
   "source": [
    "pacman::p_load(rms)"
   ]
  },
  {
   "cell_type": "code",
   "execution_count": null,
   "metadata": {
    "vscode": {
     "languageId": "r"
    }
   },
   "outputs": [],
   "source": [
    "dim(sample_df)"
   ]
  },
  {
   "cell_type": "code",
   "execution_count": null,
   "metadata": {
    "vscode": {
     "languageId": "r"
    }
   },
   "outputs": [],
   "source": [
    "mycols <- gsub(\"%\", \"_p\", mycols)"
   ]
  },
  {
   "cell_type": "code",
   "execution_count": null,
   "metadata": {
    "vscode": {
     "languageId": "r"
    }
   },
   "outputs": [],
   "source": [
    "colnames(sample_df) <- gsub(\"%\", \"_p\", colnames(sample_df))"
   ]
  },
  {
   "cell_type": "code",
   "execution_count": null,
   "metadata": {
    "vscode": {
     "languageId": "r"
    }
   },
   "outputs": [],
   "source": [
    "colnames(sample_df)"
   ]
  },
  {
   "cell_type": "code",
   "execution_count": null,
   "metadata": {
    "vscode": {
     "languageId": "r"
    }
   },
   "outputs": [],
   "source": [
    "ipc_r <- prcomp( formula( paste(\"~\", paste(mycols[!grepl(\"TIM3\", mycols)]) ) ),\n",
    "data = sample_df)"
   ]
  },
  {
   "cell_type": "code",
   "execution_count": null,
   "metadata": {
    "vscode": {
     "languageId": "r"
    }
   },
   "outputs": [],
   "source": [
    "ptrans <- transcan(  as.formula( paste(\"~\", paste(mycols[!grepl(\"TIM3\", mycols)], collapse = \"+\") ) ) ,\n",
    "imputed=TRUE , transformed =TRUE , data= sample_df , pl= FALSE , pr= FALSE, iter.max = 100)"
   ]
  },
  {
   "cell_type": "code",
   "execution_count": null,
   "metadata": {
    "vscode": {
     "languageId": "r"
    }
   },
   "outputs": [],
   "source": [
    "trans <- ptrans$transformed"
   ]
  },
  {
   "cell_type": "code",
   "execution_count": null,
   "metadata": {
    "vscode": {
     "languageId": "r"
    }
   },
   "outputs": [],
   "source": [
    "imp <- impute(ptrans , data= sample_df , list.out= TRUE)"
   ]
  },
  {
   "cell_type": "code",
   "execution_count": null,
   "metadata": {
    "vscode": {
     "languageId": "r"
    }
   },
   "outputs": [],
   "source": [
    "names(imp)"
   ]
  },
  {
   "cell_type": "code",
   "execution_count": null,
   "metadata": {
    "vscode": {
     "languageId": "r"
    }
   },
   "outputs": [],
   "source": [
    "NAvars <- all.vars( as.formula( paste(\"~\", paste(names(imp), collapse = \"+\") ) ))"
   ]
  },
  {
   "cell_type": "code",
   "execution_count": null,
   "metadata": {
    "vscode": {
     "languageId": "r"
    }
   },
   "outputs": [],
   "source": [
    "NAvars"
   ]
  },
  {
   "cell_type": "code",
   "execution_count": null,
   "metadata": {
    "vscode": {
     "languageId": "r"
    }
   },
   "outputs": [],
   "source": [
    "for(x in NAvars ) sample_df[[x]] <- imp[[x]]"
   ]
  },
  {
   "cell_type": "code",
   "execution_count": null,
   "metadata": {
    "vscode": {
     "languageId": "r"
    }
   },
   "outputs": [],
   "source": [
    "table(sample_df$Relapse)"
   ]
  },
  {
   "cell_type": "code",
   "execution_count": null,
   "metadata": {
    "vscode": {
     "languageId": "r"
    }
   },
   "outputs": [],
   "source": [
    "trans_fit <- lrm(Relapse ~ trans, data = sample_df)"
   ]
  },
  {
   "cell_type": "code",
   "execution_count": null,
   "metadata": {
    "vscode": {
     "languageId": "r"
    }
   },
   "outputs": [],
   "source": [
    "myf <- as.formula( paste(\"Relapse ~\", paste(mycols[!grepl(\"TIM3\", mycols)], collapse = \"+\") ) )"
   ]
  },
  {
   "cell_type": "code",
   "execution_count": null,
   "metadata": {
    "vscode": {
     "languageId": "r"
    }
   },
   "outputs": [],
   "source": [
    "raw_fit <- lrm( myf, data = sample_df ) "
   ]
  },
  {
   "cell_type": "code",
   "execution_count": null,
   "metadata": {
    "vscode": {
     "languageId": "r"
    }
   },
   "outputs": [],
   "source": [
    "AIC(trans_fit)\n",
    "AIC(raw_fit)"
   ]
  },
  {
   "cell_type": "code",
   "execution_count": null,
   "metadata": {
    "vscode": {
     "languageId": "r"
    }
   },
   "outputs": [],
   "source": [
    "pca_raw <- prcomp( sample_df[,mycols[!grepl(\"TIM3\", mycols)] ])$x[,1:5]"
   ]
  },
  {
   "cell_type": "code",
   "execution_count": null,
   "metadata": {
    "vscode": {
     "languageId": "r"
    }
   },
   "outputs": [],
   "source": [
    "pca_trans <- prcomp( trans[,mycols[!grepl(\"TIM3\", mycols)] ])$x[,1:5]"
   ]
  },
  {
   "cell_type": "code",
   "execution_count": null,
   "metadata": {
    "vscode": {
     "languageId": "r"
    }
   },
   "outputs": [],
   "source": [
    "pcaraw_fit <- lrm( Relapse ~ pca_raw, data = sample_df ) \n",
    "pcatrans_fit <- lrm(Relapse ~ pca_trans, data = sample_df )"
   ]
  },
  {
   "cell_type": "code",
   "execution_count": null,
   "metadata": {
    "vscode": {
     "languageId": "r"
    }
   },
   "outputs": [],
   "source": [
    "AIC(pcaraw_fit)\n",
    "AIC(pcatrans_fit)"
   ]
  },
  {
   "cell_type": "markdown",
   "metadata": {
    "vscode": {
     "languageId": "r"
    }
   },
   "source": [
    "# Backup"
   ]
  },
  {
   "cell_type": "code",
   "execution_count": null,
   "metadata": {
    "vscode": {
     "languageId": "r"
    }
   },
   "outputs": [],
   "source": []
  },
  {
   "cell_type": "code",
   "execution_count": null,
   "metadata": {
    "vscode": {
     "languageId": "r"
    }
   },
   "outputs": [],
   "source": [
    "mymat <- pbmc_hla_v_j_gliph[, c(66,200:270)]\n",
    "mymat <- cbind(mymat, pbmc_hla_v_j_gliph[,c('ATC', 'Naïve%','SCM%','CM%','EM%','TE%','PD1%','LAG3%','TIM3%')])\n",
    "# mymat <- pbmc_hla_v_j_gliph[,c('ATC', 'Naïve%','SCM%','CM%','EM%','TE%','PD1%','LAG3%','TIM3%')]\n",
    "rownames(mymat) <- pbmc_hla_v_j_gliph$sample_id"
   ]
  },
  {
   "cell_type": "code",
   "execution_count": null,
   "metadata": {
    "vscode": {
     "languageId": "r"
    }
   },
   "outputs": [],
   "source": [
    "head(mymat, 10)"
   ]
  },
  {
   "cell_type": "code",
   "execution_count": null,
   "metadata": {
    "vscode": {
     "languageId": "r"
    }
   },
   "outputs": [],
   "source": [
    "# remove rows with all NAs\n",
    "mymat <- mymat[ rowSums(is.na(mymat)) != ncol(mymat), ]\n",
    "# rmeove those with only 0s and NAs\n",
    "mymat <- mymat[ rowSums(mymat, na.rm = TRUE) != 0, ]"
   ]
  },
  {
   "cell_type": "code",
   "execution_count": null,
   "metadata": {
    "vscode": {
     "languageId": "r"
    }
   },
   "outputs": [],
   "source": [
    "# sample_df <- as.data.frame(sample_df)\n",
    "rownames(pbmc_hla_v_j_gliph) <- pbmc_hla_v_j_gliph$sample_id"
   ]
  },
  {
   "cell_type": "code",
   "execution_count": null,
   "metadata": {
    "vscode": {
     "languageId": "r"
    }
   },
   "outputs": [],
   "source": [
    "pbmc_hla_v_j_gliph <- pbmc_hla_v_j_gliph[ rownames(mymat), ]"
   ]
  },
  {
   "cell_type": "code",
   "execution_count": null,
   "metadata": {
    "vscode": {
     "languageId": "r"
    }
   },
   "outputs": [],
   "source": [
    "dim(pbmc_hla_v_j_gliph)"
   ]
  },
  {
   "cell_type": "code",
   "execution_count": null,
   "metadata": {
    "vscode": {
     "languageId": "r"
    }
   },
   "outputs": [],
   "source": [
    "dim(mymat)"
   ]
  },
  {
   "cell_type": "code",
   "execution_count": null,
   "metadata": {
    "vscode": {
     "languageId": "r"
    }
   },
   "outputs": [],
   "source": [
    "pbmc_hla_v_j_gliph <- pbmc_hla_v_j_gliph[ rownames(mymat), ]"
   ]
  },
  {
   "cell_type": "code",
   "execution_count": null,
   "metadata": {
    "vscode": {
     "languageId": "r"
    }
   },
   "outputs": [],
   "source": [
    "pbmc_hla_v_j_gliph$cyclenum <- as.numeric(gsub(\"X0\", \"\", pbmc_hla_v_j_gliph$cycle))"
   ]
  },
  {
   "cell_type": "markdown",
   "metadata": {},
   "source": [
    "# PCA"
   ]
  },
  {
   "cell_type": "code",
   "execution_count": null,
   "metadata": {
    "vscode": {
     "languageId": "r"
    }
   },
   "outputs": [],
   "source": [
    "mymat_narm <- mymat[ rowSums(is.na(mymat)) == 0, ]\n",
    "pbmc_hla_v_j_gliph_narm <- pbmc_hla_v_j_gliph[ rownames(mymat_narm), ]"
   ]
  },
  {
   "cell_type": "code",
   "execution_count": null,
   "metadata": {
    "vscode": {
     "languageId": "r"
    }
   },
   "outputs": [],
   "source": [
    "head(pbmc_hla_v_j_gliph_narm)"
   ]
  },
  {
   "cell_type": "code",
   "execution_count": null,
   "metadata": {
    "vscode": {
     "languageId": "r"
    }
   },
   "outputs": [],
   "source": [
    "myvars <- sort( Rfast::colVars(mymat_narm) , decreasing = TRUE)"
   ]
  },
  {
   "cell_type": "code",
   "execution_count": null,
   "metadata": {
    "vscode": {
     "languageId": "r"
    }
   },
   "outputs": [],
   "source": [
    "mymat_narm <- mymat_narm[ , names(myvars)[ myvars > 0]]"
   ]
  },
  {
   "cell_type": "code",
   "execution_count": null,
   "metadata": {
    "vscode": {
     "languageId": "r"
    }
   },
   "outputs": [],
   "source": [
    "dim(mymat_narm)\n",
    "dim(mymat)\n"
   ]
  },
  {
   "cell_type": "code",
   "execution_count": null,
   "metadata": {
    "vscode": {
     "languageId": "r"
    }
   },
   "outputs": [],
   "source": [
    "#PCA\n",
    "pca <- prcomp(mymat_narm, center = TRUE, scale. = TRUE)"
   ]
  },
  {
   "cell_type": "code",
   "execution_count": null,
   "metadata": {
    "vscode": {
     "languageId": "r"
    }
   },
   "outputs": [],
   "source": [
    "# plot PCA with factoextra\n",
    "viz_pca <- fviz_pca_ind(pca,\n",
    "    col.ind = as.vector(pbmc_hla_v_j_gliph_narm$cancergroup),\n",
    "    # gradient.cols = c(\"#00AFBB\", \"#E7B800\", \"#FC4E07\"),\n",
    "    # remove labels\n",
    "    label = \"none\",\n",
    "    repel = TRUE, addEllipses = FALSE\n",
    ")"
   ]
  },
  {
   "cell_type": "code",
   "execution_count": null,
   "metadata": {
    "vscode": {
     "languageId": "r"
    }
   },
   "outputs": [],
   "source": [
    "viz_pca# + coord_cartesian(xlim = c(-5, 5), ylim = c(-5, 5) )"
   ]
  },
  {
   "cell_type": "code",
   "execution_count": null,
   "metadata": {
    "vscode": {
     "languageId": "r"
    }
   },
   "outputs": [],
   "source": [
    "dim(mymat_narm)"
   ]
  },
  {
   "cell_type": "code",
   "execution_count": null,
   "metadata": {
    "vscode": {
     "languageId": "r"
    }
   },
   "outputs": [],
   "source": [
    "sum( summary(pca)$importance[2,1:5] )"
   ]
  },
  {
   "cell_type": "code",
   "execution_count": null,
   "metadata": {
    "vscode": {
     "languageId": "r"
    }
   },
   "outputs": [],
   "source": [
    "# scree plot\n",
    "fviz_eig(pca)"
   ]
  },
  {
   "cell_type": "code",
   "execution_count": null,
   "metadata": {
    "vscode": {
     "languageId": "r"
    }
   },
   "outputs": [],
   "source": [
    "myx <- pca$x"
   ]
  },
  {
   "cell_type": "code",
   "execution_count": null,
   "metadata": {
    "vscode": {
     "languageId": "r"
    }
   },
   "outputs": [],
   "source": [
    "mydist <- as.matrix(dist(myx[,1:5]))"
   ]
  },
  {
   "cell_type": "code",
   "execution_count": null,
   "metadata": {
    "vscode": {
     "languageId": "r"
    }
   },
   "outputs": [],
   "source": [
    "head(mydist)"
   ]
  },
  {
   "cell_type": "code",
   "execution_count": null,
   "metadata": {
    "vscode": {
     "languageId": "r"
    }
   },
   "outputs": [],
   "source": [
    "# pbmc_hla_v_j_gliph_narm$cyclenum <- as.numeric(gsub(\"X0\", \"\", pbmc_hla_v_j_gliph_narm$cycle))"
   ]
  },
  {
   "cell_type": "code",
   "execution_count": null,
   "metadata": {
    "vscode": {
     "languageId": "r"
    }
   },
   "outputs": [],
   "source": [
    "sample_df_narm <- pbmc_hla_v_j_gliph_narm %>% group_by(Patient) %>% \n",
    "# order cyclenum\n",
    "arrange(cyclenum) %>%\n",
    "ungroup()"
   ]
  },
  {
   "cell_type": "code",
   "execution_count": null,
   "metadata": {
    "vscode": {
     "languageId": "r"
    }
   },
   "outputs": [],
   "source": [
    "pts <- names(which(table(sample_df_narm$Patient) > 1 ))"
   ]
  },
  {
   "cell_type": "code",
   "execution_count": null,
   "metadata": {
    "vscode": {
     "languageId": "r"
    }
   },
   "outputs": [],
   "source": [
    "sample_df_narm$dist <- NA"
   ]
  },
  {
   "cell_type": "code",
   "execution_count": null,
   "metadata": {
    "vscode": {
     "languageId": "r"
    }
   },
   "outputs": [],
   "source": [
    "sample_df_narm <- pbmc_hla_v_j_gliph_narm"
   ]
  },
  {
   "cell_type": "code",
   "execution_count": null,
   "metadata": {
    "vscode": {
     "languageId": "r"
    }
   },
   "outputs": [],
   "source": [
    "for (i in pts) {\n",
    "    tmp <- sample_df_narm[sample_df_narm$Patient == i, ]\n",
    "    # tmp <- tmp[ order(tmp$cyclenum, decreasing = F), ]\n",
    "    distances_df <- mydist[tmp$sample_id, tmp$sample_id]\n",
    "    if (nrow(tmp) == 2) {\n",
    "        mydiff <- diff(tmp$cyclenum)\n",
    "        if (mydiff == 1) {\n",
    "            tmp$dist[2] <- distances_df[tmp$sample_id[1], tmp$sample_id[2]]\n",
    "        }\n",
    "    }\n",
    "    if (nrow(tmp) == 3) {\n",
    "        mydiff <- diff(tmp$cyclenum)\n",
    "        if (mydiff[1] == 1) {\n",
    "            tmp$dist[2] <- distances_df[tmp$sample_id[1], tmp$sample_id[2]]\n",
    "        }\n",
    "        if (mydiff[2] == 1) {\n",
    "            tmp$dist[3] <- distances_df[tmp$sample_id[2], tmp$sample_id[3]]\n",
    "        }\n",
    "    }\n",
    "    if (nrow(tmp) == 4) {\n",
    "        mydiff <- diff(tmp$cyclenum)\n",
    "        if (mydiff[1] == 1) {\n",
    "            tmp$dist[2] <- distances_df[tmp$sample_id[1], tmp$sample_id[2]]\n",
    "        }\n",
    "        if (mydiff[2] == 1) {\n",
    "            tmp$dist[3] <- distances_df[tmp$sample_id[2], tmp$sample_id[3]]\n",
    "        }\n",
    "        if (mydiff[3] == 1) {\n",
    "            tmp$dist[4] <- distances_df[tmp$sample_id[3], tmp$sample_id[4]]\n",
    "        }\n",
    "    }\n",
    "    if (nrow(tmp) == 5) {\n",
    "        mydiff <- diff(tmp$cyclenum)\n",
    "        if (mydiff[1] == 1) {\n",
    "            tmp$dist[2] <- distances_df[tmp$sample_id[1], tmp$sample_id[2]]\n",
    "        }\n",
    "        if (mydiff[2] == 1) {\n",
    "            tmp$dist[3] <- distances_df[tmp$sample_id[2], tmp$sample_id[3]]\n",
    "        }\n",
    "        if (mydiff[3] == 1) {\n",
    "            tmp$dist[4] <- distances_df[tmp$sample_id[3], tmp$sample_id[4]]\n",
    "        }\n",
    "        if (mydiff[4] == 1) {\n",
    "            tmp$dist[5] <- distances_df[tmp$sample_id[4], tmp$sample_id[5]]\n",
    "        }\n",
    "    }\n",
    "    sample_df_narm$dist[sample_df_narm$Patient == i] <- tmp$dist\n",
    "}\n"
   ]
  },
  {
   "cell_type": "code",
   "execution_count": null,
   "metadata": {
    "vscode": {
     "languageId": "r"
    }
   },
   "outputs": [],
   "source": [
    "# sample_df_narm$dist[is.na(sample_df_narm$dist)] <- 0"
   ]
  },
  {
   "cell_type": "code",
   "execution_count": null,
   "metadata": {
    "vscode": {
     "languageId": "r"
    }
   },
   "outputs": [],
   "source": [
    "head(sample_df_narm)"
   ]
  },
  {
   "cell_type": "code",
   "execution_count": null,
   "metadata": {
    "vscode": {
     "languageId": "r"
    }
   },
   "outputs": [],
   "source": [
    "allpts <- as.data.frame(table(sample_df_narm$Patient), stringsAsFactors = F)"
   ]
  },
  {
   "cell_type": "code",
   "execution_count": null,
   "metadata": {
    "vscode": {
     "languageId": "r"
    }
   },
   "outputs": [],
   "source": [
    "# sample_df_narm$Relapse[is.na(sample_df_narm$Relapse)] <- 0"
   ]
  },
  {
   "cell_type": "code",
   "execution_count": null,
   "metadata": {
    "vscode": {
     "languageId": "r"
    }
   },
   "outputs": [],
   "source": [
    "# t.test(sample_df_narm$dist[sample_df_narm$dist != 0] ~ sample_df_narm$Relapse[sample_df_narm$dist != 0])"
   ]
  },
  {
   "cell_type": "code",
   "execution_count": null,
   "metadata": {
    "vscode": {
     "languageId": "r"
    }
   },
   "outputs": [],
   "source": [
    "sample_df_narm[ sample_df_narm$Patient == \"CHP_351\",]"
   ]
  },
  {
   "cell_type": "code",
   "execution_count": null,
   "metadata": {
    "vscode": {
     "languageId": "r"
    }
   },
   "outputs": [],
   "source": [
    "sample_df_narm$dist[ sample_df_narm$dist == 0] <- NA"
   ]
  },
  {
   "cell_type": "code",
   "execution_count": null,
   "metadata": {
    "vscode": {
     "languageId": "r"
    }
   },
   "outputs": [],
   "source": [
    "allpts$sumdist <- NA\n",
    "for(i in 1:nrow(allpts)){\n",
    "    tmp <- as.data.frame(sample_df_narm[ sample_df_narm$Patient == allpts$Var1[i],] )\n",
    "    allpts$sumdist[i] <- sum(tmp[ tmp$dist != 0, \"dist\"], na.rm = T)\n",
    "}"
   ]
  },
  {
   "cell_type": "code",
   "execution_count": null,
   "metadata": {
    "vscode": {
     "languageId": "r"
    }
   },
   "outputs": [],
   "source": [
    "allpts$sumdist_n <- allpts$sumdist / allpts$Freq"
   ]
  },
  {
   "cell_type": "code",
   "execution_count": null,
   "metadata": {
    "vscode": {
     "languageId": "r"
    }
   },
   "outputs": [],
   "source": [
    "head(allpts, 10)"
   ]
  },
  {
   "cell_type": "code",
   "execution_count": null,
   "metadata": {
    "vscode": {
     "languageId": "r"
    }
   },
   "outputs": [],
   "source": [
    "allpts_no0 <- allpts[ allpts$sumdist_n > 0,]"
   ]
  },
  {
   "cell_type": "code",
   "execution_count": null,
   "metadata": {
    "vscode": {
     "languageId": "r"
    }
   },
   "outputs": [],
   "source": [
    "dim(allpts_no0)"
   ]
  },
  {
   "cell_type": "code",
   "execution_count": null,
   "metadata": {
    "vscode": {
     "languageId": "r"
    }
   },
   "outputs": [],
   "source": [
    "mysample_df <- sample_df_narm[ sample_df_narm$Patient %in% allpts_no0$Var1,]"
   ]
  },
  {
   "cell_type": "code",
   "execution_count": null,
   "metadata": {
    "vscode": {
     "languageId": "r"
    }
   },
   "outputs": [],
   "source": [
    "dim(mysample_df)"
   ]
  },
  {
   "cell_type": "code",
   "execution_count": null,
   "metadata": {
    "vscode": {
     "languageId": "r"
    }
   },
   "outputs": [],
   "source": [
    "mypatients <- mysample_df[!duplicated(mysample_df$Patient),]"
   ]
  },
  {
   "cell_type": "code",
   "execution_count": null,
   "metadata": {
    "vscode": {
     "languageId": "r"
    }
   },
   "outputs": [],
   "source": [
    "dim(mypatients)"
   ]
  },
  {
   "cell_type": "code",
   "execution_count": null,
   "metadata": {
    "vscode": {
     "languageId": "r"
    }
   },
   "outputs": [],
   "source": [
    "head(mypatients)"
   ]
  },
  {
   "cell_type": "code",
   "execution_count": null,
   "metadata": {
    "vscode": {
     "languageId": "r"
    }
   },
   "outputs": [],
   "source": [
    "head(allpts_no0)"
   ]
  },
  {
   "cell_type": "code",
   "execution_count": null,
   "metadata": {
    "vscode": {
     "languageId": "r"
    }
   },
   "outputs": [],
   "source": [
    "mypatients$sumdist_n <- allpts_no0$sumdist_n[ match(mypatients$Patient, allpts_no0$Var1)]\n",
    "mypatients$sumdist <- allpts_no0$sumdist[ match(mypatients$Patient, allpts_no0$Var1)]"
   ]
  },
  {
   "cell_type": "code",
   "execution_count": null,
   "metadata": {
    "vscode": {
     "languageId": "r"
    }
   },
   "outputs": [],
   "source": [
    "# tmp$Relapse[ is.na(tmp$Relapse) ] <- 0"
   ]
  },
  {
   "cell_type": "code",
   "execution_count": null,
   "metadata": {
    "vscode": {
     "languageId": "r"
    }
   },
   "outputs": [],
   "source": [
    "dim(mypatients)"
   ]
  },
  {
   "cell_type": "code",
   "execution_count": null,
   "metadata": {
    "vscode": {
     "languageId": "r"
    }
   },
   "outputs": [],
   "source": [
    "head(mypatients, 10)"
   ]
  },
  {
   "cell_type": "code",
   "execution_count": null,
   "metadata": {
    "vscode": {
     "languageId": "r"
    }
   },
   "outputs": [],
   "source": [
    "myfit <- rms::lrm(Relapse ~ sumdist_n, data = mypatients)"
   ]
  },
  {
   "cell_type": "code",
   "execution_count": null,
   "metadata": {
    "vscode": {
     "languageId": "r"
    }
   },
   "outputs": [],
   "source": [
    "print(myfit)"
   ]
  },
  {
   "cell_type": "code",
   "execution_count": null,
   "metadata": {
    "vscode": {
     "languageId": "r"
    }
   },
   "outputs": [],
   "source": [
    "anova(myfit)"
   ]
  },
  {
   "cell_type": "code",
   "execution_count": null,
   "metadata": {
    "vscode": {
     "languageId": "r"
    }
   },
   "outputs": [],
   "source": [
    "mypatients <- mypatients[order(mypatients$sumdist_n),]"
   ]
  },
  {
   "cell_type": "code",
   "execution_count": null,
   "metadata": {
    "vscode": {
     "languageId": "r"
    }
   },
   "outputs": [],
   "source": [
    "makematrix_4hm <- function(df, var, name) {\n",
    "    mymat <- df[[var]]\n",
    "    names(mymat) <- df[[\"Patient\"]]\n",
    "    mymat <- t(as.matrix(mymat))\n",
    "    rownames(mymat) <- name\n",
    "    return(mymat)\n",
    "}"
   ]
  },
  {
   "cell_type": "code",
   "execution_count": null,
   "metadata": {
    "vscode": {
     "languageId": "r"
    }
   },
   "outputs": [],
   "source": [
    "mycohort <- makematrix_4hm(mypatients, \"Disease_type\", \"disease\")\n",
    "mysample <- makematrix_4hm(mypatients, \"cancergroup\", \"cancergroup\")\n",
    "mygroup <- makematrix_4hm(mypatients, \"Relapse\", \"Relapse\")\n",
    "# myatc <- makematrix_4hm(tmp, \"ATC\", \"ATC\")\n",
    "myage <- makematrix_4hm(mypatients, \"Age\", \"Age\")"
   ]
  },
  {
   "cell_type": "code",
   "execution_count": null,
   "metadata": {
    "vscode": {
     "languageId": "r"
    }
   },
   "outputs": [],
   "source": [
    "age_col <- c(\"blue\", \"red\")\n",
    "# atc_col <- c(\"blue\", \"red\")"
   ]
  },
  {
   "cell_type": "code",
   "execution_count": null,
   "metadata": {
    "vscode": {
     "languageId": "r"
    }
   },
   "outputs": [],
   "source": [
    "group_col <- c(\"blue\", \"red\", \"green\")\n",
    "names(group_col) <- names(table(mypatients$Relapse))"
   ]
  },
  {
   "cell_type": "code",
   "execution_count": null,
   "metadata": {
    "vscode": {
     "languageId": "r"
    }
   },
   "outputs": [],
   "source": [
    "# cohort_col <- c(\"blue\", \"red\", \"green\", \"orange\", \"purple\", \"yellow\", \"black\", \"grey\", \"pink\", \n",
    "# \"brown\", \"cyan\", \"magenta\", \"navy\", \"maroon\", \"gray\",\"gold\", \"darkgreen\") \n",
    "# names(cohort_col) <- names(table(allpbmcs$Disease_type))"
   ]
  },
  {
   "cell_type": "code",
   "execution_count": null,
   "metadata": {
    "vscode": {
     "languageId": "r"
    }
   },
   "outputs": [],
   "source": [
    "type_col <- c(\"blue\", \"red\", \"green\", \"orange\", \"purple\")\n",
    "names(type_col) <- names(table(mypatients$cancergroup))"
   ]
  },
  {
   "cell_type": "code",
   "execution_count": null,
   "metadata": {
    "vscode": {
     "languageId": "r"
    }
   },
   "outputs": [],
   "source": [
    "age_hm <- Heatmap(myage, col = age_col,  height = unit(1,\"cm\"))\n",
    "# atc_hm <- Heatmap(myatc, col = atc_col,  height = unit(1,\"cm\"))"
   ]
  },
  {
   "cell_type": "code",
   "execution_count": null,
   "metadata": {
    "vscode": {
     "languageId": "r"
    }
   },
   "outputs": [],
   "source": [
    "cohort_hm <- Heatmap(mycohort, col = cohort_col, height = unit(1,\"cm\"))\n",
    "sample_hm <- Heatmap(mysample, col = type_col, height = unit(1,\"cm\"))\n",
    "group_hm <- Heatmap(mygroup, col = group_col,  height = unit(1,\"cm\"))"
   ]
  },
  {
   "cell_type": "code",
   "execution_count": null,
   "metadata": {
    "vscode": {
     "languageId": "r"
    }
   },
   "outputs": [],
   "source": [
    "# length(unique(sample_df_narm$Patient))"
   ]
  },
  {
   "cell_type": "code",
   "execution_count": null,
   "metadata": {
    "vscode": {
     "languageId": "r"
    }
   },
   "outputs": [],
   "source": [
    "# tail(sample_df_narm[, c(\"sample_id\", \"cycle\", \"dist\")])"
   ]
  },
  {
   "cell_type": "code",
   "execution_count": null,
   "metadata": {
    "vscode": {
     "languageId": "r"
    }
   },
   "outputs": [],
   "source": [
    "# pivot_wider\n",
    " \n",
    "wider_df <- tidyr::pivot_wider(mysample_df, names_from = cycle, values_from = dist, id_cols = Patient) \n",
    "\n",
    "wider_df[ wider_df$Patient == \"CHP_350\",]"
   ]
  },
  {
   "cell_type": "code",
   "execution_count": null,
   "metadata": {
    "vscode": {
     "languageId": "r"
    }
   },
   "outputs": [],
   "source": [
    "wider_df <- as.data.frame(wider_df)\n",
    "rownames(wider_df) <- wider_df$Patient\n",
    "wider_df$Patient <- NULL\n",
    "wider_df$X01 <- NULL"
   ]
  },
  {
   "cell_type": "code",
   "execution_count": null,
   "metadata": {
    "vscode": {
     "languageId": "r"
    }
   },
   "outputs": [],
   "source": [
    "head(wider_df)"
   ]
  },
  {
   "cell_type": "code",
   "execution_count": null,
   "metadata": {
    "vscode": {
     "languageId": "r"
    }
   },
   "outputs": [],
   "source": [
    "hm1 <- Heatmap(t(scale(wider_df)), cluster_columns = F, name = \"dists\")"
   ]
  },
  {
   "cell_type": "code",
   "execution_count": null,
   "metadata": {
    "vscode": {
     "languageId": "r"
    }
   },
   "outputs": [],
   "source": [
    "dim(wider_df)"
   ]
  },
  {
   "cell_type": "code",
   "execution_count": null,
   "metadata": {
    "vscode": {
     "languageId": "r"
    }
   },
   "outputs": [],
   "source": [
    "hm <- Heatmap(t(scale(mypatients$sumdist_n)), cluster_columns = F)"
   ]
  },
  {
   "cell_type": "code",
   "execution_count": null,
   "metadata": {
    "vscode": {
     "languageId": "r"
    }
   },
   "outputs": [],
   "source": [
    "dim(mypatients)"
   ]
  },
  {
   "cell_type": "code",
   "execution_count": null,
   "metadata": {
    "vscode": {
     "languageId": "r"
    }
   },
   "outputs": [],
   "source": [
    "hm %v% hm1 %v% sample_hm %v% group_hm %v% age_hm "
   ]
  },
  {
   "cell_type": "code",
   "execution_count": null,
   "metadata": {
    "vscode": {
     "languageId": "r"
    }
   },
   "outputs": [],
   "source": [
    "ls()"
   ]
  },
  {
   "cell_type": "code",
   "execution_count": null,
   "metadata": {
    "vscode": {
     "languageId": "r"
    }
   },
   "outputs": [],
   "source": [
    "rm(tmp, wider_df, pts, myx, mysample, mysample_df, allpts, allpts_no0, distances_df, hm, hm1, i, mydiff, mydist, myfit, mymat_narm, pca, sample_df_narm)"
   ]
  }
 ],
 "metadata": {
  "kernelspec": {
   "display_name": "R 4.0",
   "language": "R",
   "name": "ir40"
  },
  "language_info": {
   "codemirror_mode": "r",
   "file_extension": ".r",
   "mimetype": "text/x-r-source",
   "name": "R",
   "pygments_lexer": "r",
   "version": "4.2.2"
  },
  "toc": {
   "base_numbering": 1,
   "nav_menu": {},
   "number_sections": false,
   "sideBar": true,
   "skip_h1_title": false,
   "title_cell": "Table of Contents",
   "title_sidebar": "Contents",
   "toc_cell": true,
   "toc_position": {
    "height": "calc(100% - 180px)",
    "left": "10px",
    "top": "150px",
    "width": "186.15px"
   },
   "toc_section_display": true,
   "toc_window_display": true
  }
 },
 "nbformat": 4,
 "nbformat_minor": 2
}

{
 "cells": [
  {
   "cell_type": "code",
   "execution_count": 18,
   "metadata": {
    "vscode": {
     "languageId": "r"
    }
   },
   "outputs": [
    {
     "data": {
      "text/html": [
       "'en_US.UTF-8/en_US.UTF-8/en_US.UTF-8/C/en_US.UTF-8/C'"
      ],
      "text/latex": [
       "'en\\_US.UTF-8/en\\_US.UTF-8/en\\_US.UTF-8/C/en\\_US.UTF-8/C'"
      ],
      "text/markdown": [
       "'en_US.UTF-8/en_US.UTF-8/en_US.UTF-8/C/en_US.UTF-8/C'"
      ],
      "text/plain": [
       "[1] \"en_US.UTF-8/en_US.UTF-8/en_US.UTF-8/C/en_US.UTF-8/C\""
      ]
     },
     "metadata": {},
     "output_type": "display_data"
    }
   ],
   "source": [
    "Sys.setlocale(category = \"LC_ALL\", locale = \"en_US.UTF-8\")"
   ]
  },
  {
   "attachments": {},
   "cell_type": "markdown",
   "metadata": {},
   "source": [
    "# Dependencies"
   ]
  },
  {
   "cell_type": "code",
   "execution_count": 19,
   "metadata": {
    "vscode": {
     "languageId": "r"
    }
   },
   "outputs": [],
   "source": [
    "pacman::p_load(dplyr, ggplot2, ggbeeswarm, ggpubr, ggsignif, cowplot, ComplexHeatmap, factoextra, FactoMineR, VIM, missMDA) "
   ]
  },
  {
   "attachments": {},
   "cell_type": "markdown",
   "metadata": {},
   "source": [
    "# Functions"
   ]
  },
  {
   "cell_type": "code",
   "execution_count": 20,
   "metadata": {
    "vscode": {
     "languageId": "r"
    }
   },
   "outputs": [],
   "source": [
    "source(\"/Users/anabbi/git/ped_CapTCRseq/R/ggplot2_theme.R\")\n",
    "source(\"/Users/anabbi/git/ped_CapTCRseq/R/color_schemes.R\")\n",
    "source(\"/Users/anabbi/git/ped_CapTCRseq/R/Misc_functions.R\")"
   ]
  },
  {
   "attachments": {},
   "cell_type": "markdown",
   "metadata": {},
   "source": [
    "# Paths"
   ]
  },
  {
   "cell_type": "code",
   "execution_count": 21,
   "metadata": {
    "vscode": {
     "languageId": "r"
    }
   },
   "outputs": [],
   "source": [
    "datapath <- \"/Users/anabbi/OneDrive - UHN/Documents/INTERCEPT/Data/\"\n",
    "plotpath <- \"/Users/anabbi/OneDrive - UHN/Documents/INTERCEPT/Plots/\"\n",
    "manifestpath <- \"/Users/anabbi/OneDrive - UHN/Documents/INTERCEPT/Manifests/\"\n",
    "gitpath <- \"/Users/anabbi/git/ped_CapTCRseq/\""
   ]
  },
  {
   "cell_type": "code",
   "execution_count": 22,
   "metadata": {
    "vscode": {
     "languageId": "r"
    }
   },
   "outputs": [],
   "source": [
    "h4hpath <- \"/Users/anabbi/Desktop/H4H/INTERCEPT/\""
   ]
  },
  {
   "attachments": {},
   "cell_type": "markdown",
   "metadata": {},
   "source": [
    "# Main"
   ]
  },
  {
   "cell_type": "code",
   "execution_count": 23,
   "metadata": {
    "vscode": {
     "languageId": "r"
    }
   },
   "outputs": [],
   "source": [
    "pbmc_hla_v_j_gliph <- readr::read_rds(paste0(datapath, \"/int_pbmc_hla_v_j_gliph.rds\"))"
   ]
  },
  {
   "cell_type": "code",
   "execution_count": 24,
   "metadata": {
    "vscode": {
     "languageId": "r"
    }
   },
   "outputs": [],
   "source": [
    "rownames(pbmc_hla_v_j_gliph) <- pbmc_hla_v_j_gliph$sample_id"
   ]
  },
  {
   "cell_type": "code",
   "execution_count": 25,
   "metadata": {
    "vscode": {
     "languageId": "r"
    }
   },
   "outputs": [
    {
     "data": {
      "text/html": [
       "<style>\n",
       ".list-inline {list-style: none; margin:0; padding: 0}\n",
       ".list-inline>li {display: inline-block}\n",
       ".list-inline>li:not(:last-child)::after {content: \"\\00b7\"; padding: 0 .5ex}\n",
       "</style>\n",
       "<ol class=list-inline><li>534</li><li>8829</li></ol>\n"
      ],
      "text/latex": [
       "\\begin{enumerate*}\n",
       "\\item 534\n",
       "\\item 8829\n",
       "\\end{enumerate*}\n"
      ],
      "text/markdown": [
       "1. 534\n",
       "2. 8829\n",
       "\n",
       "\n"
      ],
      "text/plain": [
       "[1]  534 8829"
      ]
     },
     "metadata": {},
     "output_type": "display_data"
    }
   ],
   "source": [
    "dim(pbmc_hla_v_j_gliph)"
   ]
  },
  {
   "cell_type": "code",
   "execution_count": 26,
   "metadata": {
    "vscode": {
     "languageId": "r"
    }
   },
   "outputs": [
    {
     "data": {
      "text/plain": [
       "\n",
       "  0   1 \n",
       "431 103 "
      ]
     },
     "metadata": {},
     "output_type": "display_data"
    }
   ],
   "source": [
    "table(pbmc_hla_v_j_gliph$Relapse)"
   ]
  },
  {
   "cell_type": "code",
   "execution_count": 67,
   "metadata": {
    "vscode": {
     "languageId": "r"
    }
   },
   "outputs": [],
   "source": [
    "cols_tbv <- colnames(pbmc_hla_v_j_gliph)[which(grepl(\"TRBV\", colnames(pbmc_hla_v_j_gliph)) ) ]\n",
    "cols_tbj <- colnames(pbmc_hla_v_j_gliph)[which(grepl(\"TRBJ\", colnames(pbmc_hla_v_j_gliph)) ) ]\n",
    "cols_flow <- c('ATC', 'Naïve%','SCM%','CM%','EM%','PD1%','LAG3%')\n",
    "cols_others <- \"observed_Shannon\"\n",
    "# cols_hla <- colnames(pbmc_hla_v_j_gliph)[which(grepl(\":0\", colnames(pbmc_hla_v_j_gliph)) ) ]"
   ]
  },
  {
   "cell_type": "code",
   "execution_count": 68,
   "metadata": {
    "vscode": {
     "languageId": "r"
    }
   },
   "outputs": [],
   "source": [
    "# cols_gliph <- colnames(pbmc_hla_v_j_gliph)[274:ncol(pbmc_hla_v_j_gliph)]"
   ]
  },
  {
   "cell_type": "code",
   "execution_count": 69,
   "metadata": {
    "vscode": {
     "languageId": "r"
    }
   },
   "outputs": [],
   "source": [
    "pbmc_hla_v_j_gliph$cyclenum <- as.numeric(gsub(\"X0\", \"\", pbmc_hla_v_j_gliph$cycle))"
   ]
  },
  {
   "cell_type": "code",
   "execution_count": 70,
   "metadata": {
    "vscode": {
     "languageId": "r"
    }
   },
   "outputs": [],
   "source": [
    "mymat <- pbmc_hla_v_j_gliph[, c(cols_flow, cols_others)]"
   ]
  },
  {
   "cell_type": "code",
   "execution_count": 71,
   "metadata": {
    "vscode": {
     "languageId": "r"
    }
   },
   "outputs": [],
   "source": [
    "rownames(mymat) <- pbmc_hla_v_j_gliph[[\"sample_id\"]]\n",
    "# remove rows with all NAs\n",
    "mymat <- mymat[rowSums(is.na(mymat)) != ncol(mymat), ]\n",
    "# rmeove those with only 0s and NAs\n",
    "mymat <- mymat[rowSums(mymat, na.rm = TRUE) != 0, ]\n"
   ]
  },
  {
   "cell_type": "code",
   "execution_count": 72,
   "metadata": {
    "vscode": {
     "languageId": "r"
    }
   },
   "outputs": [],
   "source": [
    "pbmc_hla_v_j_gliph <- pbmc_hla_v_j_gliph[rownames(mymat), ]"
   ]
  },
  {
   "cell_type": "code",
   "execution_count": 73,
   "metadata": {
    "vscode": {
     "languageId": "r"
    }
   },
   "outputs": [],
   "source": [
    "mymat_narm <- mymat[rowSums(is.na(mymat)) == 0, ]"
   ]
  },
  {
   "cell_type": "code",
   "execution_count": 74,
   "metadata": {
    "vscode": {
     "languageId": "r"
    }
   },
   "outputs": [],
   "source": [
    "# myvars <- sort(Rfast::colVars(mymat_narm), decreasing = TRUE)\n",
    "# mymat_narm <- mymat_narm[, names(myvars)[myvars > 0]]"
   ]
  },
  {
   "cell_type": "code",
   "execution_count": 42,
   "metadata": {
    "vscode": {
     "languageId": "r"
    }
   },
   "outputs": [],
   "source": [
    "df_narm <- pbmc_hla_v_j_gliph[rownames(mymat_narm), ]"
   ]
  },
  {
   "cell_type": "code",
   "execution_count": 43,
   "metadata": {
    "vscode": {
     "languageId": "r"
    }
   },
   "outputs": [
    {
     "data": {
      "text/html": [
       "<style>\n",
       ".list-inline {list-style: none; margin:0; padding: 0}\n",
       ".list-inline>li {display: inline-block}\n",
       ".list-inline>li:not(:last-child)::after {content: \"\\00b7\"; padding: 0 .5ex}\n",
       "</style>\n",
       "<ol class=list-inline><li>103</li><li>8830</li></ol>\n"
      ],
      "text/latex": [
       "\\begin{enumerate*}\n",
       "\\item 103\n",
       "\\item 8830\n",
       "\\end{enumerate*}\n"
      ],
      "text/markdown": [
       "1. 103\n",
       "2. 8830\n",
       "\n",
       "\n"
      ],
      "text/plain": [
       "[1]  103 8830"
      ]
     },
     "metadata": {},
     "output_type": "display_data"
    }
   ],
   "source": [
    "dim(df_narm)"
   ]
  },
  {
   "cell_type": "code",
   "execution_count": 44,
   "metadata": {
    "vscode": {
     "languageId": "r"
    }
   },
   "outputs": [],
   "source": [
    "mymat_narm_pre <- mymat_narm[grepl(\"_01\", rownames(mymat_narm)), ]\n",
    "mymat_narm_post <- mymat_narm[!grepl(\"_01\", rownames(mymat_narm)), ]"
   ]
  },
  {
   "cell_type": "code",
   "execution_count": 45,
   "metadata": {
    "vscode": {
     "languageId": "r"
    }
   },
   "outputs": [],
   "source": [
    "df_narm_pre <- df_narm[ rownames(mymat_narm_pre), ]\n",
    "df_narm_post <- df_narm[ rownames(mymat_narm_post), ]"
   ]
  },
  {
   "cell_type": "code",
   "execution_count": 46,
   "metadata": {
    "vscode": {
     "languageId": "r"
    }
   },
   "outputs": [],
   "source": [
    "pca_pre <- prcomp(mymat_narm_pre, center = TRUE, scale. = TRUE)\n",
    "pca_post <- prcomp(mymat_narm_post, center = TRUE, scale. = TRUE)"
   ]
  },
  {
   "cell_type": "code",
   "execution_count": 47,
   "metadata": {
    "vscode": {
     "languageId": "r"
    }
   },
   "outputs": [],
   "source": [
    "# fviz_eig(pca, ncp = 10)"
   ]
  },
  {
   "cell_type": "code",
   "execution_count": 48,
   "metadata": {
    "vscode": {
     "languageId": "r"
    }
   },
   "outputs": [],
   "source": [
    "pre_p <- fviz_pca_ind(pca_pre,\n",
    "     col.ind = as.vector(df_narm_pre$Relapse),\n",
    "    # gradient.cols = c(\"#00AFBB\", \"#E7B800\", \"#FC4E07\"),\n",
    "    # remove labels\n",
    "    label = \"none\",\n",
    "    repel = TRUE, addEllipses = FALSE, mean.point = FALSE\n",
    ")\n",
    "\n",
    "post_p <- fviz_pca_ind(pca_post,\n",
    "     col.ind = as.vector(df_narm_post$Relapse),\n",
    "    # gradient.cols = c(\"#00AFBB\", \"#E7B800\", \"#FC4E07\"),\n",
    "    # remove labels\n",
    "    label = \"none\",\n",
    "    repel = TRUE, addEllipses = FALSE, mean.point = FALSE\n",
    ")"
   ]
  },
  {
   "cell_type": "code",
   "execution_count": 49,
   "metadata": {
    "vscode": {
     "languageId": "r"
    }
   },
   "outputs": [
    {
     "data": {
      "text/html": [
       "<style>\n",
       ".list-inline {list-style: none; margin:0; padding: 0}\n",
       ".list-inline>li {display: inline-block}\n",
       ".list-inline>li:not(:last-child)::after {content: \"\\00b7\"; padding: 0 .5ex}\n",
       "</style>\n",
       "<ol class=list-inline><li>1</li><li>2</li><li>3</li><li>4</li><li>5</li><li>6</li><li>7</li><li>8</li><li>9</li><li>10</li><li>11</li><li>12</li><li>13</li><li>14</li><li>15</li><li>16</li><li>17</li><li>18</li><li>19</li><li>20</li><li>21</li><li>22</li><li>23</li><li>24</li><li>25</li><li>26</li><li>27</li><li>28</li><li>29</li><li>30</li><li>31</li><li>32</li><li>33</li><li>34</li></ol>\n"
      ],
      "text/latex": [
       "\\begin{enumerate*}\n",
       "\\item 1\n",
       "\\item 2\n",
       "\\item 3\n",
       "\\item 4\n",
       "\\item 5\n",
       "\\item 6\n",
       "\\item 7\n",
       "\\item 8\n",
       "\\item 9\n",
       "\\item 10\n",
       "\\item 11\n",
       "\\item 12\n",
       "\\item 13\n",
       "\\item 14\n",
       "\\item 15\n",
       "\\item 16\n",
       "\\item 17\n",
       "\\item 18\n",
       "\\item 19\n",
       "\\item 20\n",
       "\\item 21\n",
       "\\item 22\n",
       "\\item 23\n",
       "\\item 24\n",
       "\\item 25\n",
       "\\item 26\n",
       "\\item 27\n",
       "\\item 28\n",
       "\\item 29\n",
       "\\item 30\n",
       "\\item 31\n",
       "\\item 32\n",
       "\\item 33\n",
       "\\item 34\n",
       "\\end{enumerate*}\n"
      ],
      "text/markdown": [
       "1. 1\n",
       "2. 2\n",
       "3. 3\n",
       "4. 4\n",
       "5. 5\n",
       "6. 6\n",
       "7. 7\n",
       "8. 8\n",
       "9. 9\n",
       "10. 10\n",
       "11. 11\n",
       "12. 12\n",
       "13. 13\n",
       "14. 14\n",
       "15. 15\n",
       "16. 16\n",
       "17. 17\n",
       "18. 18\n",
       "19. 19\n",
       "20. 20\n",
       "21. 21\n",
       "22. 22\n",
       "23. 23\n",
       "24. 24\n",
       "25. 25\n",
       "26. 26\n",
       "27. 27\n",
       "28. 28\n",
       "29. 29\n",
       "30. 30\n",
       "31. 31\n",
       "32. 32\n",
       "33. 33\n",
       "34. 34\n",
       "\n",
       "\n"
      ],
      "text/plain": [
       " [1]  1  2  3  4  5  6  7  8  9 10 11 12 13 14 15 16 17 18 19 20 21 22 23 24 25\n",
       "[26] 26 27 28 29 30 31 32 33 34"
      ]
     },
     "metadata": {},
     "output_type": "display_data"
    }
   ],
   "source": [
    "match(df_narm_pre$sample_id, rownames(pca_pre$x) )"
   ]
  },
  {
   "cell_type": "code",
   "execution_count": 50,
   "metadata": {
    "vscode": {
     "languageId": "r"
    }
   },
   "outputs": [],
   "source": [
    "df_narm_pre$Dim1 <- pca_pre$x[, 1]\n",
    "df_narm_pre$Dim2 <- pca_pre$x[, 2]"
   ]
  },
  {
   "cell_type": "code",
   "execution_count": null,
   "metadata": {
    "vscode": {
     "languageId": "r"
    }
   },
   "outputs": [],
   "source": []
  },
  {
   "cell_type": "code",
   "execution_count": null,
   "metadata": {
    "vscode": {
     "languageId": "r"
    }
   },
   "outputs": [],
   "source": []
  },
  {
   "cell_type": "code",
   "execution_count": 51,
   "metadata": {
    "vscode": {
     "languageId": "r"
    }
   },
   "outputs": [
    {
     "data": {
      "image/png": "[encoded data removed]",
      "text/plain": [
       "plot without title"
      ]
     },
     "metadata": {
      "image/png": {
       "height": 420,
       "width": 420
      }
     },
     "output_type": "display_data"
    },
    {
     "data": {
      "image/png": "[encoded data removed]",
      "text/plain": [
       "plot without title"
      ]
     },
     "metadata": {
      "image/png": {
       "height": 420,
       "width": 420
      }
     },
     "output_type": "display_data"
    }
   ],
   "source": [
    "pre_p\n",
    "post_p"
   ]
  },
  {
   "cell_type": "code",
   "execution_count": 52,
   "metadata": {
    "vscode": {
     "languageId": "r"
    }
   },
   "outputs": [],
   "source": [
    "\n",
    "    myx <- pca_post$x\n",
    "    mydist <- as.matrix(dist(myx[, 1:2]))\n",
    "    # print(head(mydist) )\n",
    "    sample_df_narm <- df_narm_post %>%\n",
    "        group_by(Patient) %>%\n",
    "        # order cyclenum\n",
    "        arrange(cyclenum) %>%\n",
    "        ungroup()\n",
    "    pts <- names(which(table(sample_df_narm$Patient) > 1))\n",
    "    sample_df_narm$dist <- NA\n",
    "    for (i in pts) {\n",
    "        tmp <- sample_df_narm[sample_df_narm$Patient == i, ]\n",
    "        distances_df <- mydist[tmp$sample_id, tmp$sample_id]\n",
    "        if (nrow(tmp) == 2) {\n",
    "            mydiff <- diff(tmp$cyclenum)\n",
    "            if (mydiff == 1) {\n",
    "                tmp$dist[2] <- distances_df[tmp$sample_id[1], tmp$sample_id[2]]\n",
    "            }\n",
    "        }\n",
    "        if (nrow(tmp) == 3) {\n",
    "            mydiff <- diff(tmp$cyclenum)\n",
    "            if (mydiff[1] == 1) {\n",
    "                tmp$dist[2] <- distances_df[tmp$sample_id[1], tmp$sample_id[2]]\n",
    "            }\n",
    "            if (mydiff[2] == 1) {\n",
    "                tmp$dist[3] <- distances_df[tmp$sample_id[2], tmp$sample_id[3]]\n",
    "            }\n",
    "        }\n",
    "        if (nrow(tmp) == 4) {\n",
    "            mydiff <- diff(tmp$cyclenum)\n",
    "            if (mydiff[1] == 1) {\n",
    "                tmp$dist[2] <- distances_df[tmp$sample_id[1], tmp$sample_id[2]]\n",
    "            }\n",
    "            if (mydiff[2] == 1) {\n",
    "                tmp$dist[3] <- distances_df[tmp$sample_id[2], tmp$sample_id[3]]\n",
    "            }\n",
    "            if (mydiff[3] == 1) {\n",
    "                tmp$dist[4] <- distances_df[tmp$sample_id[3], tmp$sample_id[4]]\n",
    "            }\n",
    "        }\n",
    "        if (nrow(tmp) == 5) {\n",
    "            mydiff <- diff(tmp$cyclenum)\n",
    "            if (mydiff[1] == 1) {\n",
    "                tmp$dist[2] <- distances_df[tmp$sample_id[1], tmp$sample_id[2]]\n",
    "            }\n",
    "            if (mydiff[2] == 1) {\n",
    "                tmp$dist[3] <- distances_df[tmp$sample_id[2], tmp$sample_id[3]]\n",
    "            }\n",
    "            if (mydiff[3] == 1) {\n",
    "                tmp$dist[4] <- distances_df[tmp$sample_id[3], tmp$sample_id[4]]\n",
    "            }\n",
    "            if (mydiff[4] == 1) {\n",
    "                tmp$dist[5] <- distances_df[tmp$sample_id[4], tmp$sample_id[5]]\n",
    "            }\n",
    "        }\n",
    "        sample_df_narm$dist[sample_df_narm$Patient == i] <- tmp$dist\n",
    "    }\n",
    "    # message(\"sample_df_narm\")\n",
    "    # print(head(sample_df_narm))\n",
    "    allpts <- as.data.frame(table(sample_df_narm$Patient), stringsAsFactors = F)\n",
    "    sample_df_narm$dist[sample_df_narm$dist == 0] <- NA\n",
    "    allpts$sumdist <- NA\n",
    "    allpts$meddist <- NA\n",
    "    allpts$samplecount <- NA\n",
    "    for (i in 1:nrow(allpts)) {\n",
    "        tmp <- as.data.frame(sample_df_narm[sample_df_narm$Patient == allpts$Var1[i], ])\n",
    "        allpts$sumdist[i] <- sum(tmp[tmp$dist != 0, \"dist\"], na.rm = T)\n",
    "        allpts$meddist[i] <- median(tmp[tmp$dist != 0, \"dist\"], na.rm = T)\n",
    "        allpts$samplecount[i] <- nrow(tmp[!is.na(tmp$dist), ]) + 1\n",
    "    }\n",
    "    allpts$sumdist_n <- allpts$sumdist / allpts$samplecount\n",
    "    allpts$meddist_n <- allpts$meddist / allpts$samplecount\n",
    "\n",
    "    allpts_no0 <- allpts[allpts$sumdist_n > 0, ]\n",
    "    allpts_no0 <- allpts_no0[allpts_no0$Freq > 1, ]\n",
    "\n",
    "    mysample_df <- sample_df_narm[sample_df_narm$Patient %in% allpts_no0$Var1, ]\n",
    "    mypatients <- mysample_df[!duplicated(mysample_df$Patient), ]\n",
    "    mypatients$sumdist_n <- allpts_no0$sumdist_n[match(mypatients$Patient, allpts_no0$Var1)]\n",
    "    mypatients$sumdist <- allpts_no0$sumdist[match(mypatients$Patient, allpts_no0$Var1)]\n",
    "    mypatients$meddist_n <- allpts_no0$meddist_n[match(mypatients$Patient, allpts_no0$Var1)]\n",
    "    mypatients$meddist <- allpts_no0$meddist[match(mypatients$Patient, allpts_no0$Var1)]\n"
   ]
  },
  {
   "cell_type": "code",
   "execution_count": 53,
   "metadata": {
    "vscode": {
     "languageId": "r"
    }
   },
   "outputs": [
    {
     "data": {
      "text/html": [
       "<table class=\"dataframe\">\n",
       "<caption>A data.frame: 14 x 7</caption>\n",
       "<thead>\n",
       "\t<tr><th></th><th scope=col>Var1</th><th scope=col>Freq</th><th scope=col>sumdist</th><th scope=col>meddist</th><th scope=col>samplecount</th><th scope=col>sumdist_n</th><th scope=col>meddist_n</th></tr>\n",
       "\t<tr><th></th><th scope=col>&lt;chr&gt;</th><th scope=col>&lt;int&gt;</th><th scope=col>&lt;dbl&gt;</th><th scope=col>&lt;dbl&gt;</th><th scope=col>&lt;dbl&gt;</th><th scope=col>&lt;dbl&gt;</th><th scope=col>&lt;dbl&gt;</th></tr>\n",
       "</thead>\n",
       "<tbody>\n",
       "\t<tr><th scope=row>1</th><td>CHP_343</td><td>4</td><td> 4.7144442</td><td>1.2684180</td><td>4</td><td>1.1786111</td><td>0.3171045</td></tr>\n",
       "\t<tr><th scope=row>2</th><td>CHP_347</td><td>4</td><td>12.8131351</td><td>3.4025272</td><td>4</td><td>3.2032838</td><td>0.8506318</td></tr>\n",
       "\t<tr><th scope=row>5</th><td>CHP_350</td><td>4</td><td> 6.8358327</td><td>2.0758367</td><td>4</td><td>1.7089582</td><td>0.5189592</td></tr>\n",
       "\t<tr><th scope=row>8</th><td>CHP_356</td><td>3</td><td> 1.6826338</td><td>1.6826338</td><td>2</td><td>0.8413169</td><td>0.8413169</td></tr>\n",
       "\t<tr><th scope=row>9</th><td>CHP_357</td><td>4</td><td>10.4190634</td><td>3.3252504</td><td>4</td><td>2.6047658</td><td>0.8313126</td></tr>\n",
       "\t<tr><th scope=row>11</th><td>CHP_361</td><td>2</td><td> 0.5139874</td><td>0.5139874</td><td>2</td><td>0.2569937</td><td>0.2569937</td></tr>\n",
       "\t<tr><th scope=row>21</th><td>CHP_391</td><td>2</td><td> 0.4080109</td><td>0.4080109</td><td>2</td><td>0.2040055</td><td>0.2040055</td></tr>\n",
       "\t<tr><th scope=row>26</th><td>CHP_398</td><td>2</td><td> 0.8054343</td><td>0.8054343</td><td>2</td><td>0.4027172</td><td>0.4027172</td></tr>\n",
       "\t<tr><th scope=row>27</th><td>CHP_399</td><td>2</td><td> 3.9904131</td><td>3.9904131</td><td>2</td><td>1.9952066</td><td>1.9952066</td></tr>\n",
       "\t<tr><th scope=row>28</th><td>CHP_400</td><td>2</td><td> 0.7403874</td><td>0.7403874</td><td>2</td><td>0.3701937</td><td>0.3701937</td></tr>\n",
       "\t<tr><th scope=row>31</th><td>CHP_403</td><td>2</td><td> 1.4409848</td><td>1.4409848</td><td>2</td><td>0.7204924</td><td>0.7204924</td></tr>\n",
       "\t<tr><th scope=row>33</th><td>CHP_405</td><td>2</td><td> 1.8420893</td><td>1.8420893</td><td>2</td><td>0.9210446</td><td>0.9210446</td></tr>\n",
       "\t<tr><th scope=row>34</th><td>CHP_407</td><td>2</td><td> 3.0974718</td><td>3.0974718</td><td>2</td><td>1.5487359</td><td>1.5487359</td></tr>\n",
       "\t<tr><th scope=row>35</th><td>CHP_408</td><td>2</td><td> 2.7782572</td><td>2.7782572</td><td>2</td><td>1.3891286</td><td>1.3891286</td></tr>\n",
       "</tbody>\n",
       "</table>\n"
      ],
      "text/latex": [
       "A data.frame: 14 x 7\n",
       "\\begin{tabular}{r|lllllll}\n",
       "  & Var1 & Freq & sumdist & meddist & samplecount & sumdist\\_n & meddist\\_n\\\\\n",
       "  & <chr> & <int> & <dbl> & <dbl> & <dbl> & <dbl> & <dbl>\\\\\n",
       "\\hline\n",
       "\t1 & CHP\\_343 & 4 &  4.7144442 & 1.2684180 & 4 & 1.1786111 & 0.3171045\\\\\n",
       "\t2 & CHP\\_347 & 4 & 12.8131351 & 3.4025272 & 4 & 3.2032838 & 0.8506318\\\\\n",
       "\t5 & CHP\\_350 & 4 &  6.8358327 & 2.0758367 & 4 & 1.7089582 & 0.5189592\\\\\n",
       "\t8 & CHP\\_356 & 3 &  1.6826338 & 1.6826338 & 2 & 0.8413169 & 0.8413169\\\\\n",
       "\t9 & CHP\\_357 & 4 & 10.4190634 & 3.3252504 & 4 & 2.6047658 & 0.8313126\\\\\n",
       "\t11 & CHP\\_361 & 2 &  0.5139874 & 0.5139874 & 2 & 0.2569937 & 0.2569937\\\\\n",
       "\t21 & CHP\\_391 & 2 &  0.4080109 & 0.4080109 & 2 & 0.2040055 & 0.2040055\\\\\n",
       "\t26 & CHP\\_398 & 2 &  0.8054343 & 0.8054343 & 2 & 0.4027172 & 0.4027172\\\\\n",
       "\t27 & CHP\\_399 & 2 &  3.9904131 & 3.9904131 & 2 & 1.9952066 & 1.9952066\\\\\n",
       "\t28 & CHP\\_400 & 2 &  0.7403874 & 0.7403874 & 2 & 0.3701937 & 0.3701937\\\\\n",
       "\t31 & CHP\\_403 & 2 &  1.4409848 & 1.4409848 & 2 & 0.7204924 & 0.7204924\\\\\n",
       "\t33 & CHP\\_405 & 2 &  1.8420893 & 1.8420893 & 2 & 0.9210446 & 0.9210446\\\\\n",
       "\t34 & CHP\\_407 & 2 &  3.0974718 & 3.0974718 & 2 & 1.5487359 & 1.5487359\\\\\n",
       "\t35 & CHP\\_408 & 2 &  2.7782572 & 2.7782572 & 2 & 1.3891286 & 1.3891286\\\\\n",
       "\\end{tabular}\n"
      ],
      "text/markdown": [
       "\n",
       "A data.frame: 14 x 7\n",
       "\n",
       "| <!--/--> | Var1 &lt;chr&gt; | Freq &lt;int&gt; | sumdist &lt;dbl&gt; | meddist &lt;dbl&gt; | samplecount &lt;dbl&gt; | sumdist_n &lt;dbl&gt; | meddist_n &lt;dbl&gt; |\n",
       "|---|---|---|---|---|---|---|---|\n",
       "| 1 | CHP_343 | 4 |  4.7144442 | 1.2684180 | 4 | 1.1786111 | 0.3171045 |\n",
       "| 2 | CHP_347 | 4 | 12.8131351 | 3.4025272 | 4 | 3.2032838 | 0.8506318 |\n",
       "| 5 | CHP_350 | 4 |  6.8358327 | 2.0758367 | 4 | 1.7089582 | 0.5189592 |\n",
       "| 8 | CHP_356 | 3 |  1.6826338 | 1.6826338 | 2 | 0.8413169 | 0.8413169 |\n",
       "| 9 | CHP_357 | 4 | 10.4190634 | 3.3252504 | 4 | 2.6047658 | 0.8313126 |\n",
       "| 11 | CHP_361 | 2 |  0.5139874 | 0.5139874 | 2 | 0.2569937 | 0.2569937 |\n",
       "| 21 | CHP_391 | 2 |  0.4080109 | 0.4080109 | 2 | 0.2040055 | 0.2040055 |\n",
       "| 26 | CHP_398 | 2 |  0.8054343 | 0.8054343 | 2 | 0.4027172 | 0.4027172 |\n",
       "| 27 | CHP_399 | 2 |  3.9904131 | 3.9904131 | 2 | 1.9952066 | 1.9952066 |\n",
       "| 28 | CHP_400 | 2 |  0.7403874 | 0.7403874 | 2 | 0.3701937 | 0.3701937 |\n",
       "| 31 | CHP_403 | 2 |  1.4409848 | 1.4409848 | 2 | 0.7204924 | 0.7204924 |\n",
       "| 33 | CHP_405 | 2 |  1.8420893 | 1.8420893 | 2 | 0.9210446 | 0.9210446 |\n",
       "| 34 | CHP_407 | 2 |  3.0974718 | 3.0974718 | 2 | 1.5487359 | 1.5487359 |\n",
       "| 35 | CHP_408 | 2 |  2.7782572 | 2.7782572 | 2 | 1.3891286 | 1.3891286 |\n",
       "\n"
      ],
      "text/plain": [
       "   Var1    Freq sumdist    meddist   samplecount sumdist_n meddist_n\n",
       "1  CHP_343 4     4.7144442 1.2684180 4           1.1786111 0.3171045\n",
       "2  CHP_347 4    12.8131351 3.4025272 4           3.2032838 0.8506318\n",
       "5  CHP_350 4     6.8358327 2.0758367 4           1.7089582 0.5189592\n",
       "8  CHP_356 3     1.6826338 1.6826338 2           0.8413169 0.8413169\n",
       "9  CHP_357 4    10.4190634 3.3252504 4           2.6047658 0.8313126\n",
       "11 CHP_361 2     0.5139874 0.5139874 2           0.2569937 0.2569937\n",
       "21 CHP_391 2     0.4080109 0.4080109 2           0.2040055 0.2040055\n",
       "26 CHP_398 2     0.8054343 0.8054343 2           0.4027172 0.4027172\n",
       "27 CHP_399 2     3.9904131 3.9904131 2           1.9952066 1.9952066\n",
       "28 CHP_400 2     0.7403874 0.7403874 2           0.3701937 0.3701937\n",
       "31 CHP_403 2     1.4409848 1.4409848 2           0.7204924 0.7204924\n",
       "33 CHP_405 2     1.8420893 1.8420893 2           0.9210446 0.9210446\n",
       "34 CHP_407 2     3.0974718 3.0974718 2           1.5487359 1.5487359\n",
       "35 CHP_408 2     2.7782572 2.7782572 2           1.3891286 1.3891286"
      ]
     },
     "metadata": {},
     "output_type": "display_data"
    }
   ],
   "source": [
    "(allpts_no0)"
   ]
  },
  {
   "cell_type": "code",
   "execution_count": 54,
   "metadata": {
    "vscode": {
     "languageId": "r"
    }
   },
   "outputs": [],
   "source": [
    "df_narm_pre$meddist_n <- allpts_no0$meddist_n[ match(df_narm_pre$Patient, allpts_no0$Var1)]"
   ]
  },
  {
   "cell_type": "code",
   "execution_count": 55,
   "metadata": {
    "vscode": {
     "languageId": "r"
    }
   },
   "outputs": [
    {
     "data": {
      "text/html": [
       "<table class=\"dataframe\">\n",
       "<caption>A data.frame: 34 x 8833</caption>\n",
       "<thead>\n",
       "\t<tr><th></th><th scope=col>sample_id</th><th scope=col>Patient</th><th scope=col>cycle</th><th scope=col>FOLD</th><th scope=col>ATC</th><th scope=col>Age</th><th scope=col>Disease_type</th><th scope=col>TE_fold</th><th scope=col>CD3</th><th scope=col>EM</th><th scope=col>...</th><th scope=col>S%P</th><th scope=col>G%GE</th><th scope=col>S%G</th><th scope=col>%YE</th><th scope=col>%G</th><th scope=col>%E</th><th scope=col>cyclenum</th><th scope=col>Dim1</th><th scope=col>Dim2</th><th scope=col>meddist_n</th></tr>\n",
       "\t<tr><th></th><th scope=col>&lt;chr&gt;</th><th scope=col>&lt;chr&gt;</th><th scope=col>&lt;chr&gt;</th><th scope=col>&lt;dbl&gt;</th><th scope=col>&lt;dbl&gt;</th><th scope=col>&lt;dbl&gt;</th><th scope=col>&lt;chr&gt;</th><th scope=col>&lt;dbl&gt;</th><th scope=col>&lt;int&gt;</th><th scope=col>&lt;int&gt;</th><th scope=col>...</th><th scope=col>&lt;dbl&gt;</th><th scope=col>&lt;dbl&gt;</th><th scope=col>&lt;dbl&gt;</th><th scope=col>&lt;dbl&gt;</th><th scope=col>&lt;dbl&gt;</th><th scope=col>&lt;dbl&gt;</th><th scope=col>&lt;dbl&gt;</th><th scope=col>&lt;dbl&gt;</th><th scope=col>&lt;dbl&gt;</th><th scope=col>&lt;dbl&gt;</th></tr>\n",
       "</thead>\n",
       "<tbody>\n",
       "\t<tr><th scope=row>CHP_346_01</th><td>CHP_346_01</td><td>CHP_346</td><td>X01</td><td> 0.8</td><td> 331.70</td><td> 1.0</td><td>NB    </td><td> 0.8</td><td> 637</td><td>  0</td><td>...</td><td> 0</td><td> 0</td><td> 0</td><td> 0</td><td> 0</td><td>  0</td><td>1</td><td>-0.54241952</td><td> 3.1521536</td><td>       NA</td></tr>\n",
       "\t<tr><th scope=row>CHP_347_01</th><td>CHP_347_01</td><td>CHP_347</td><td>X01</td><td> 0.8</td><td> 126.72</td><td>13.0</td><td>ALL   </td><td> 0.8</td><td>1701</td><td>  1</td><td>...</td><td> 0</td><td> 0</td><td> 0</td><td> 0</td><td> 0</td><td>  0</td><td>1</td><td> 1.20198306</td><td> 0.1580219</td><td>0.8506318</td></tr>\n",
       "\t<tr><th scope=row>CHP_348_01</th><td>CHP_348_01</td><td>CHP_348</td><td>X01</td><td>11.5</td><td>  50.96</td><td>18.0</td><td>OS    </td><td>11.5</td><td>1125</td><td> 28</td><td>...</td><td> 0</td><td> 0</td><td> 0</td><td> 0</td><td> 0</td><td>  0</td><td>1</td><td>-0.26875354</td><td> 0.4223610</td><td>       NA</td></tr>\n",
       "\t<tr><th scope=row>CHP_349_01</th><td>CHP_349_01</td><td>CHP_349</td><td>X01</td><td> 2.0</td><td>3152.22</td><td>17.0</td><td>CML   </td><td> 2.0</td><td>2735</td><td> 53</td><td>...</td><td> 0</td><td> 0</td><td> 0</td><td> 0</td><td> 0</td><td>  0</td><td>1</td><td> 2.04029336</td><td>-0.9861285</td><td>       NA</td></tr>\n",
       "\t<tr><th scope=row>CHP_350_01</th><td>CHP_350_01</td><td>CHP_350</td><td>X01</td><td> 2.7</td><td>1615.44</td><td> 1.0</td><td>HB    </td><td> 2.7</td><td>1338</td><td> 18</td><td>...</td><td> 0</td><td> 0</td><td> 0</td><td> 0</td><td> 0</td><td>  0</td><td>1</td><td> 0.56076953</td><td> 1.2831236</td><td>0.5189592</td></tr>\n",
       "\t<tr><th scope=row>CHP_352_01</th><td>CHP_352_01</td><td>CHP_352</td><td>X01</td><td> 1.2</td><td> 763.14</td><td>17.0</td><td>HR ALL</td><td> 1.2</td><td>2337</td><td>  2</td><td>...</td><td> 0</td><td> 0</td><td> 0</td><td> 0</td><td> 0</td><td>  0</td><td>1</td><td> 2.10192042</td><td>-0.1456999</td><td>       NA</td></tr>\n",
       "\t<tr><th scope=row>CHP_353_01</th><td>CHP_353_01</td><td>CHP_353</td><td>X01</td><td> 0.9</td><td> 344.00</td><td> 6.0</td><td>AML   </td><td> 0.9</td><td>2376</td><td> 19</td><td>...</td><td> 0</td><td> 0</td><td> 0</td><td> 0</td><td> 0</td><td>  0</td><td>1</td><td> 1.40131525</td><td>-0.1647018</td><td>       NA</td></tr>\n",
       "\t<tr><th scope=row>CHP_354_01</th><td>CHP_354_01</td><td>CHP_354</td><td>X01</td><td> 2.4</td><td>5252.80</td><td> 9.0</td><td>AML   </td><td> 2.4</td><td>2454</td><td>  2</td><td>...</td><td> 0</td><td> 0</td><td> 0</td><td> 0</td><td> 0</td><td>  0</td><td>1</td><td> 1.56683028</td><td>-2.5828230</td><td>       NA</td></tr>\n",
       "\t<tr><th scope=row>CHP_357_01</th><td>CHP_357_01</td><td>CHP_357</td><td>X01</td><td> 1.7</td><td> 251.00</td><td> 1.0</td><td>AML   </td><td> 1.7</td><td>1382</td><td>  2</td><td>...</td><td> 0</td><td> 0</td><td> 0</td><td> 0</td><td> 0</td><td>  0</td><td>1</td><td>-0.07895048</td><td> 0.3017202</td><td>0.8313126</td></tr>\n",
       "\t<tr><th scope=row>CHP_361_01</th><td>CHP_361_01</td><td>CHP_361</td><td>X01</td><td> 2.4</td><td> 516.04</td><td>13.0</td><td>HD    </td><td> 2.4</td><td>2317</td><td> 94</td><td>...</td><td> 0</td><td> 0</td><td> 0</td><td> 0</td><td> 0</td><td>  0</td><td>1</td><td>-2.60630179</td><td>-2.6321585</td><td>0.2569937</td></tr>\n",
       "\t<tr><th scope=row>CHP_362_01</th><td>CHP_362_01</td><td>CHP_362</td><td>X01</td><td>10.2</td><td>1072.50</td><td>16.0</td><td>OS    </td><td>10.2</td><td>2489</td><td>115</td><td>...</td><td> 0</td><td> 0</td><td> 0</td><td> 0</td><td> 0</td><td>  0</td><td>1</td><td>-1.47293136</td><td>-0.8845700</td><td>       NA</td></tr>\n",
       "\t<tr><th scope=row>CHP_363_01</th><td>CHP_363_01</td><td>CHP_363</td><td>X01</td><td> 1.8</td><td> 198.00</td><td>20.0</td><td>EWS   </td><td> 1.8</td><td>2083</td><td>211</td><td>...</td><td> 0</td><td> 0</td><td> 0</td><td> 0</td><td> 0</td><td>291</td><td>1</td><td>-0.75936431</td><td> 1.1046131</td><td>       NA</td></tr>\n",
       "\t<tr><th scope=row>CHP_364_01</th><td>CHP_364_01</td><td>CHP_364</td><td>X01</td><td> 2.3</td><td> 877.68</td><td>16.0</td><td>OS    </td><td> 2.3</td><td>2411</td><td> 33</td><td>...</td><td> 0</td><td> 0</td><td> 0</td><td> 0</td><td> 0</td><td>  0</td><td>1</td><td> 0.06286730</td><td> 0.9112415</td><td>       NA</td></tr>\n",
       "\t<tr><th scope=row>CHP_365_01</th><td>CHP_365_01</td><td>CHP_365</td><td>X01</td><td> 1.6</td><td>1343.86</td><td> 7.0</td><td>ALL   </td><td> 1.6</td><td>1721</td><td> 15</td><td>...</td><td> 0</td><td> 0</td><td> 0</td><td> 0</td><td> 0</td><td>  0</td><td>1</td><td> 1.91675289</td><td> 0.1529782</td><td>       NA</td></tr>\n",
       "\t<tr><th scope=row>CHP_367_01</th><td>CHP_367_01</td><td>CHP_367</td><td>X01</td><td> 1.8</td><td>3004.65</td><td>14.0</td><td>HR ALL</td><td> 1.8</td><td> 671</td><td> 15</td><td>...</td><td> 0</td><td> 0</td><td> 0</td><td> 0</td><td> 0</td><td>  0</td><td>1</td><td> 1.37505191</td><td>-0.8653350</td><td>       NA</td></tr>\n",
       "\t<tr><th scope=row>CHP_368_01</th><td>CHP_368_01</td><td>CHP_368</td><td>X01</td><td>10.6</td><td> 439.41</td><td> 1.0</td><td>ARMS  </td><td>10.6</td><td>2218</td><td>227</td><td>...</td><td> 0</td><td> 0</td><td> 0</td><td> 0</td><td> 0</td><td>  0</td><td>1</td><td>-0.89362710</td><td> 0.8465899</td><td>       NA</td></tr>\n",
       "\t<tr><th scope=row>CHP_369_01</th><td>CHP_369_01</td><td>CHP_369</td><td>X01</td><td> 5.1</td><td> 544.44</td><td> 0.1</td><td>AML   </td><td> 5.1</td><td>1591</td><td>  4</td><td>...</td><td> 0</td><td> 8</td><td> 0</td><td> 0</td><td> 0</td><td>  0</td><td>1</td><td>-1.11687384</td><td> 2.8170683</td><td>       NA</td></tr>\n",
       "\t<tr><th scope=row>CHP_370_01</th><td>CHP_370_01</td><td>CHP_370</td><td>X01</td><td> 4.2</td><td>   0.00</td><td>17.0</td><td>ALCL  </td><td> 4.2</td><td> 592</td><td> 19</td><td>...</td><td> 0</td><td> 0</td><td> 0</td><td> 0</td><td> 0</td><td>  0</td><td>1</td><td>-1.58679733</td><td> 1.3897993</td><td>       NA</td></tr>\n",
       "\t<tr><th scope=row>CHP_371_01</th><td>CHP_371_01</td><td>CHP_371</td><td>X01</td><td> 2.1</td><td> 333.20</td><td>15.0</td><td>BL    </td><td> 2.1</td><td>1014</td><td> 37</td><td>...</td><td> 0</td><td> 0</td><td> 0</td><td> 0</td><td> 0</td><td>  0</td><td>1</td><td>-3.75960165</td><td>-1.1005913</td><td>       NA</td></tr>\n",
       "\t<tr><th scope=row>CHP_372_01</th><td>CHP_372_01</td><td>CHP_372</td><td>X01</td><td> 1.0</td><td>   0.00</td><td>21.0</td><td>BL    </td><td> 1.0</td><td> 328</td><td> 16</td><td>...</td><td>NA</td><td>NA</td><td>NA</td><td>NA</td><td>NA</td><td> NA</td><td>1</td><td>-1.34704949</td><td>-2.9569869</td><td>       NA</td></tr>\n",
       "\t<tr><th scope=row>CHP_373_01</th><td>CHP_373_01</td><td>CHP_373</td><td>X01</td><td> 0.9</td><td>1912.77</td><td> 2.0</td><td>ALL   </td><td> 0.9</td><td> 403</td><td>  0</td><td>...</td><td> 0</td><td> 0</td><td> 0</td><td> 0</td><td> 0</td><td>  0</td><td>1</td><td> 1.50375951</td><td> 0.7697329</td><td>       NA</td></tr>\n",
       "\t<tr><th scope=row>CHP_378_01</th><td>CHP_378_01</td><td>CHP_378</td><td>X01</td><td>28.9</td><td>   0.00</td><td> 1.0</td><td>ALL   </td><td>28.9</td><td>2239</td><td>374</td><td>...</td><td> 0</td><td> 0</td><td> 0</td><td> 0</td><td> 0</td><td>  0</td><td>1</td><td>-1.35645624</td><td> 1.6445122</td><td>       NA</td></tr>\n",
       "\t<tr><th scope=row>CHP_381_01</th><td>CHP_381_01</td><td>CHP_381</td><td>X01</td><td> 1.4</td><td>   4.92</td><td> 6.0</td><td>EWS   </td><td> 1.4</td><td>1383</td><td>172</td><td>...</td><td> 0</td><td> 0</td><td> 0</td><td> 0</td><td> 0</td><td>  0</td><td>1</td><td>-1.30301432</td><td> 0.7608267</td><td>       NA</td></tr>\n",
       "\t<tr><th scope=row>CHP_387_01</th><td>CHP_387_01</td><td>CHP_387</td><td>X01</td><td> 0.8</td><td> 288.99</td><td>13.0</td><td>T-ALL </td><td> 0.8</td><td>2414</td><td>209</td><td>...</td><td> 0</td><td> 0</td><td> 0</td><td> 0</td><td> 0</td><td>  0</td><td>1</td><td> 1.34023125</td><td>-0.6670957</td><td>       NA</td></tr>\n",
       "\t<tr><th scope=row>CHP_394_01</th><td>CHP_394_01</td><td>CHP_394</td><td>X01</td><td> 6.2</td><td> 101.20</td><td>17.0</td><td>ERMS  </td><td> 6.2</td><td> 835</td><td>  0</td><td>...</td><td>NA</td><td>NA</td><td>NA</td><td>NA</td><td>NA</td><td> NA</td><td>1</td><td>-0.55240776</td><td> 0.8104068</td><td>       NA</td></tr>\n",
       "\t<tr><th scope=row>CHP_396_01</th><td>CHP_396_01</td><td>CHP_396</td><td>X01</td><td> 1.1</td><td>6767.11</td><td> 1.0</td><td>HR ALL</td><td> 1.1</td><td>2481</td><td>  0</td><td>...</td><td> 4</td><td> 0</td><td> 0</td><td> 0</td><td> 0</td><td>  0</td><td>1</td><td> 2.32572166</td><td>-1.7460783</td><td>       NA</td></tr>\n",
       "\t<tr><th scope=row>CHP_397_01</th><td>CHP_397_01</td><td>CHP_397</td><td>X01</td><td> 1.6</td><td> 124.80</td><td> 2.0</td><td>ALL   </td><td> 1.6</td><td>2400</td><td>  0</td><td>...</td><td> 0</td><td> 0</td><td> 0</td><td> 0</td><td> 0</td><td>  0</td><td>1</td><td> 1.15497337</td><td>-0.5394899</td><td>       NA</td></tr>\n",
       "\t<tr><th scope=row>CHP_399_01</th><td>CHP_399_01</td><td>CHP_399</td><td>X01</td><td> 7.1</td><td> 622.20</td><td> 2.0</td><td>HR ALL</td><td> 7.1</td><td>2389</td><td>  0</td><td>...</td><td> 0</td><td> 0</td><td> 0</td><td> 0</td><td> 0</td><td>  0</td><td>1</td><td> 2.10163242</td><td> 0.6882774</td><td>1.9952066</td></tr>\n",
       "\t<tr><th scope=row>CHP_404_01</th><td>CHP_404_01</td><td>CHP_404</td><td>X01</td><td> 0.7</td><td>2100.84</td><td>10.0</td><td>ERMS  </td><td> 0.7</td><td>  95</td><td>  6</td><td>...</td><td> 0</td><td> 0</td><td> 0</td><td> 0</td><td> 0</td><td>  0</td><td>1</td><td> 0.74222384</td><td> 0.1129641</td><td>       NA</td></tr>\n",
       "\t<tr><th scope=row>CHP_405_01</th><td>CHP_405_01</td><td>CHP_405</td><td>X01</td><td> 0.7</td><td>4936.56</td><td> 1.0</td><td>CML   </td><td> 0.7</td><td> 463</td><td>100</td><td>...</td><td> 0</td><td> 0</td><td> 0</td><td> 0</td><td> 0</td><td>  0</td><td>1</td><td>-1.96593782</td><td>-2.0885932</td><td>0.9210446</td></tr>\n",
       "\t<tr><th scope=row>CHP_408_01</th><td>CHP_408_01</td><td>CHP_408</td><td>X01</td><td> 5.1</td><td> 338.80</td><td> 5.0</td><td>OS    </td><td> 5.1</td><td>2140</td><td>338</td><td>...</td><td> 0</td><td> 0</td><td> 0</td><td> 0</td><td> 0</td><td>  0</td><td>1</td><td>-1.60450216</td><td> 0.1242385</td><td>1.3891286</td></tr>\n",
       "\t<tr><th scope=row>CHP_409_01</th><td>CHP_409_01</td><td>CHP_409</td><td>X01</td><td> 2.9</td><td> 156.78</td><td>11.0</td><td>EWS   </td><td> 2.9</td><td>2291</td><td>670</td><td>...</td><td> 0</td><td> 0</td><td> 0</td><td> 0</td><td> 0</td><td>  0</td><td>1</td><td>-2.57743632</td><td>-0.4597126</td><td>       NA</td></tr>\n",
       "\t<tr><th scope=row>CHP_410_01</th><td>CHP_410_01</td><td>CHP_410</td><td>X01</td><td> 1.6</td><td>   0.00</td><td> 1.0</td><td>ALL   </td><td> 1.6</td><td> 250</td><td>  1</td><td>...</td><td> 0</td><td> 0</td><td> 0</td><td> 0</td><td> 0</td><td>  0</td><td>1</td><td> 1.23114362</td><td> 1.1164491</td><td>       NA</td></tr>\n",
       "\t<tr><th scope=row>CHP_413_01</th><td>CHP_413_01</td><td>CHP_413</td><td>X01</td><td> 4.0</td><td>   0.00</td><td>19.0</td><td>AML   </td><td> 4.0</td><td>1985</td><td> 43</td><td>...</td><td> 0</td><td> 0</td><td> 0</td><td> 0</td><td> 0</td><td>  0</td><td>1</td><td> 1.16495532</td><td>-0.7471138</td><td>       NA</td></tr>\n",
       "</tbody>\n",
       "</table>\n"
      ],
      "text/latex": [
       "A data.frame: 34 x 8833\n",
       "\\begin{tabular}{r|lllllllllllllllllllll}\n",
       "  & sample\\_id & Patient & cycle & FOLD & ATC & Age & Disease\\_type & TE\\_fold & CD3 & EM & ... & S\\%P & G\\%GE & S\\%G & \\%YE & \\%G & \\%E & cyclenum & Dim1 & Dim2 & meddist\\_n\\\\\n",
       "  & <chr> & <chr> & <chr> & <dbl> & <dbl> & <dbl> & <chr> & <dbl> & <int> & <int> & ... & <dbl> & <dbl> & <dbl> & <dbl> & <dbl> & <dbl> & <dbl> & <dbl> & <dbl> & <dbl>\\\\\n",
       "\\hline\n",
       "\tCHP\\_346\\_01 & CHP\\_346\\_01 & CHP\\_346 & X01 &  0.8 &  331.70 &  1.0 & NB     &  0.8 &  637 &   0 & ... &  0 &  0 &  0 &  0 &  0 &   0 & 1 & -0.54241952 &  3.1521536 &        NA\\\\\n",
       "\tCHP\\_347\\_01 & CHP\\_347\\_01 & CHP\\_347 & X01 &  0.8 &  126.72 & 13.0 & ALL    &  0.8 & 1701 &   1 & ... &  0 &  0 &  0 &  0 &  0 &   0 & 1 &  1.20198306 &  0.1580219 & 0.8506318\\\\\n",
       "\tCHP\\_348\\_01 & CHP\\_348\\_01 & CHP\\_348 & X01 & 11.5 &   50.96 & 18.0 & OS     & 11.5 & 1125 &  28 & ... &  0 &  0 &  0 &  0 &  0 &   0 & 1 & -0.26875354 &  0.4223610 &        NA\\\\\n",
       "\tCHP\\_349\\_01 & CHP\\_349\\_01 & CHP\\_349 & X01 &  2.0 & 3152.22 & 17.0 & CML    &  2.0 & 2735 &  53 & ... &  0 &  0 &  0 &  0 &  0 &   0 & 1 &  2.04029336 & -0.9861285 &        NA\\\\\n",
       "\tCHP\\_350\\_01 & CHP\\_350\\_01 & CHP\\_350 & X01 &  2.7 & 1615.44 &  1.0 & HB     &  2.7 & 1338 &  18 & ... &  0 &  0 &  0 &  0 &  0 &   0 & 1 &  0.56076953 &  1.2831236 & 0.5189592\\\\\n",
       "\tCHP\\_352\\_01 & CHP\\_352\\_01 & CHP\\_352 & X01 &  1.2 &  763.14 & 17.0 & HR ALL &  1.2 & 2337 &   2 & ... &  0 &  0 &  0 &  0 &  0 &   0 & 1 &  2.10192042 & -0.1456999 &        NA\\\\\n",
       "\tCHP\\_353\\_01 & CHP\\_353\\_01 & CHP\\_353 & X01 &  0.9 &  344.00 &  6.0 & AML    &  0.9 & 2376 &  19 & ... &  0 &  0 &  0 &  0 &  0 &   0 & 1 &  1.40131525 & -0.1647018 &        NA\\\\\n",
       "\tCHP\\_354\\_01 & CHP\\_354\\_01 & CHP\\_354 & X01 &  2.4 & 5252.80 &  9.0 & AML    &  2.4 & 2454 &   2 & ... &  0 &  0 &  0 &  0 &  0 &   0 & 1 &  1.56683028 & -2.5828230 &        NA\\\\\n",
       "\tCHP\\_357\\_01 & CHP\\_357\\_01 & CHP\\_357 & X01 &  1.7 &  251.00 &  1.0 & AML    &  1.7 & 1382 &   2 & ... &  0 &  0 &  0 &  0 &  0 &   0 & 1 & -0.07895048 &  0.3017202 & 0.8313126\\\\\n",
       "\tCHP\\_361\\_01 & CHP\\_361\\_01 & CHP\\_361 & X01 &  2.4 &  516.04 & 13.0 & HD     &  2.4 & 2317 &  94 & ... &  0 &  0 &  0 &  0 &  0 &   0 & 1 & -2.60630179 & -2.6321585 & 0.2569937\\\\\n",
       "\tCHP\\_362\\_01 & CHP\\_362\\_01 & CHP\\_362 & X01 & 10.2 & 1072.50 & 16.0 & OS     & 10.2 & 2489 & 115 & ... &  0 &  0 &  0 &  0 &  0 &   0 & 1 & -1.47293136 & -0.8845700 &        NA\\\\\n",
       "\tCHP\\_363\\_01 & CHP\\_363\\_01 & CHP\\_363 & X01 &  1.8 &  198.00 & 20.0 & EWS    &  1.8 & 2083 & 211 & ... &  0 &  0 &  0 &  0 &  0 & 291 & 1 & -0.75936431 &  1.1046131 &        NA\\\\\n",
       "\tCHP\\_364\\_01 & CHP\\_364\\_01 & CHP\\_364 & X01 &  2.3 &  877.68 & 16.0 & OS     &  2.3 & 2411 &  33 & ... &  0 &  0 &  0 &  0 &  0 &   0 & 1 &  0.06286730 &  0.9112415 &        NA\\\\\n",
       "\tCHP\\_365\\_01 & CHP\\_365\\_01 & CHP\\_365 & X01 &  1.6 & 1343.86 &  7.0 & ALL    &  1.6 & 1721 &  15 & ... &  0 &  0 &  0 &  0 &  0 &   0 & 1 &  1.91675289 &  0.1529782 &        NA\\\\\n",
       "\tCHP\\_367\\_01 & CHP\\_367\\_01 & CHP\\_367 & X01 &  1.8 & 3004.65 & 14.0 & HR ALL &  1.8 &  671 &  15 & ... &  0 &  0 &  0 &  0 &  0 &   0 & 1 &  1.37505191 & -0.8653350 &        NA\\\\\n",
       "\tCHP\\_368\\_01 & CHP\\_368\\_01 & CHP\\_368 & X01 & 10.6 &  439.41 &  1.0 & ARMS   & 10.6 & 2218 & 227 & ... &  0 &  0 &  0 &  0 &  0 &   0 & 1 & -0.89362710 &  0.8465899 &        NA\\\\\n",
       "\tCHP\\_369\\_01 & CHP\\_369\\_01 & CHP\\_369 & X01 &  5.1 &  544.44 &  0.1 & AML    &  5.1 & 1591 &   4 & ... &  0 &  8 &  0 &  0 &  0 &   0 & 1 & -1.11687384 &  2.8170683 &        NA\\\\\n",
       "\tCHP\\_370\\_01 & CHP\\_370\\_01 & CHP\\_370 & X01 &  4.2 &    0.00 & 17.0 & ALCL   &  4.2 &  592 &  19 & ... &  0 &  0 &  0 &  0 &  0 &   0 & 1 & -1.58679733 &  1.3897993 &        NA\\\\\n",
       "\tCHP\\_371\\_01 & CHP\\_371\\_01 & CHP\\_371 & X01 &  2.1 &  333.20 & 15.0 & BL     &  2.1 & 1014 &  37 & ... &  0 &  0 &  0 &  0 &  0 &   0 & 1 & -3.75960165 & -1.1005913 &        NA\\\\\n",
       "\tCHP\\_372\\_01 & CHP\\_372\\_01 & CHP\\_372 & X01 &  1.0 &    0.00 & 21.0 & BL     &  1.0 &  328 &  16 & ... & NA & NA & NA & NA & NA &  NA & 1 & -1.34704949 & -2.9569869 &        NA\\\\\n",
       "\tCHP\\_373\\_01 & CHP\\_373\\_01 & CHP\\_373 & X01 &  0.9 & 1912.77 &  2.0 & ALL    &  0.9 &  403 &   0 & ... &  0 &  0 &  0 &  0 &  0 &   0 & 1 &  1.50375951 &  0.7697329 &        NA\\\\\n",
       "\tCHP\\_378\\_01 & CHP\\_378\\_01 & CHP\\_378 & X01 & 28.9 &    0.00 &  1.0 & ALL    & 28.9 & 2239 & 374 & ... &  0 &  0 &  0 &  0 &  0 &   0 & 1 & -1.35645624 &  1.6445122 &        NA\\\\\n",
       "\tCHP\\_381\\_01 & CHP\\_381\\_01 & CHP\\_381 & X01 &  1.4 &    4.92 &  6.0 & EWS    &  1.4 & 1383 & 172 & ... &  0 &  0 &  0 &  0 &  0 &   0 & 1 & -1.30301432 &  0.7608267 &        NA\\\\\n",
       "\tCHP\\_387\\_01 & CHP\\_387\\_01 & CHP\\_387 & X01 &  0.8 &  288.99 & 13.0 & T-ALL  &  0.8 & 2414 & 209 & ... &  0 &  0 &  0 &  0 &  0 &   0 & 1 &  1.34023125 & -0.6670957 &        NA\\\\\n",
       "\tCHP\\_394\\_01 & CHP\\_394\\_01 & CHP\\_394 & X01 &  6.2 &  101.20 & 17.0 & ERMS   &  6.2 &  835 &   0 & ... & NA & NA & NA & NA & NA &  NA & 1 & -0.55240776 &  0.8104068 &        NA\\\\\n",
       "\tCHP\\_396\\_01 & CHP\\_396\\_01 & CHP\\_396 & X01 &  1.1 & 6767.11 &  1.0 & HR ALL &  1.1 & 2481 &   0 & ... &  4 &  0 &  0 &  0 &  0 &   0 & 1 &  2.32572166 & -1.7460783 &        NA\\\\\n",
       "\tCHP\\_397\\_01 & CHP\\_397\\_01 & CHP\\_397 & X01 &  1.6 &  124.80 &  2.0 & ALL    &  1.6 & 2400 &   0 & ... &  0 &  0 &  0 &  0 &  0 &   0 & 1 &  1.15497337 & -0.5394899 &        NA\\\\\n",
       "\tCHP\\_399\\_01 & CHP\\_399\\_01 & CHP\\_399 & X01 &  7.1 &  622.20 &  2.0 & HR ALL &  7.1 & 2389 &   0 & ... &  0 &  0 &  0 &  0 &  0 &   0 & 1 &  2.10163242 &  0.6882774 & 1.9952066\\\\\n",
       "\tCHP\\_404\\_01 & CHP\\_404\\_01 & CHP\\_404 & X01 &  0.7 & 2100.84 & 10.0 & ERMS   &  0.7 &   95 &   6 & ... &  0 &  0 &  0 &  0 &  0 &   0 & 1 &  0.74222384 &  0.1129641 &        NA\\\\\n",
       "\tCHP\\_405\\_01 & CHP\\_405\\_01 & CHP\\_405 & X01 &  0.7 & 4936.56 &  1.0 & CML    &  0.7 &  463 & 100 & ... &  0 &  0 &  0 &  0 &  0 &   0 & 1 & -1.96593782 & -2.0885932 & 0.9210446\\\\\n",
       "\tCHP\\_408\\_01 & CHP\\_408\\_01 & CHP\\_408 & X01 &  5.1 &  338.80 &  5.0 & OS     &  5.1 & 2140 & 338 & ... &  0 &  0 &  0 &  0 &  0 &   0 & 1 & -1.60450216 &  0.1242385 & 1.3891286\\\\\n",
       "\tCHP\\_409\\_01 & CHP\\_409\\_01 & CHP\\_409 & X01 &  2.9 &  156.78 & 11.0 & EWS    &  2.9 & 2291 & 670 & ... &  0 &  0 &  0 &  0 &  0 &   0 & 1 & -2.57743632 & -0.4597126 &        NA\\\\\n",
       "\tCHP\\_410\\_01 & CHP\\_410\\_01 & CHP\\_410 & X01 &  1.6 &    0.00 &  1.0 & ALL    &  1.6 &  250 &   1 & ... &  0 &  0 &  0 &  0 &  0 &   0 & 1 &  1.23114362 &  1.1164491 &        NA\\\\\n",
       "\tCHP\\_413\\_01 & CHP\\_413\\_01 & CHP\\_413 & X01 &  4.0 &    0.00 & 19.0 & AML    &  4.0 & 1985 &  43 & ... &  0 &  0 &  0 &  0 &  0 &   0 & 1 &  1.16495532 & -0.7471138 &        NA\\\\\n",
       "\\end{tabular}\n"
      ],
      "text/markdown": [
       "\n",
       "A data.frame: 34 x 8833\n",
       "\n",
       "| <!--/--> | sample_id &lt;chr&gt; | Patient &lt;chr&gt; | cycle &lt;chr&gt; | FOLD &lt;dbl&gt; | ATC &lt;dbl&gt; | Age &lt;dbl&gt; | Disease_type &lt;chr&gt; | TE_fold &lt;dbl&gt; | CD3 &lt;int&gt; | EM &lt;int&gt; | ... ... | S%P &lt;dbl&gt; | G%GE &lt;dbl&gt; | S%G &lt;dbl&gt; | %YE &lt;dbl&gt; | %G &lt;dbl&gt; | %E &lt;dbl&gt; | cyclenum &lt;dbl&gt; | Dim1 &lt;dbl&gt; | Dim2 &lt;dbl&gt; | meddist_n &lt;dbl&gt; |\n",
       "|---|---|---|---|---|---|---|---|---|---|---|---|---|---|---|---|---|---|---|---|---|---|\n",
       "| CHP_346_01 | CHP_346_01 | CHP_346 | X01 |  0.8 |  331.70 |  1.0 | NB     |  0.8 |  637 |   0 | ... |  0 |  0 |  0 |  0 |  0 |   0 | 1 | -0.54241952 |  3.1521536 |        NA |\n",
       "| CHP_347_01 | CHP_347_01 | CHP_347 | X01 |  0.8 |  126.72 | 13.0 | ALL    |  0.8 | 1701 |   1 | ... |  0 |  0 |  0 |  0 |  0 |   0 | 1 |  1.20198306 |  0.1580219 | 0.8506318 |\n",
       "| CHP_348_01 | CHP_348_01 | CHP_348 | X01 | 11.5 |   50.96 | 18.0 | OS     | 11.5 | 1125 |  28 | ... |  0 |  0 |  0 |  0 |  0 |   0 | 1 | -0.26875354 |  0.4223610 |        NA |\n",
       "| CHP_349_01 | CHP_349_01 | CHP_349 | X01 |  2.0 | 3152.22 | 17.0 | CML    |  2.0 | 2735 |  53 | ... |  0 |  0 |  0 |  0 |  0 |   0 | 1 |  2.04029336 | -0.9861285 |        NA |\n",
       "| CHP_350_01 | CHP_350_01 | CHP_350 | X01 |  2.7 | 1615.44 |  1.0 | HB     |  2.7 | 1338 |  18 | ... |  0 |  0 |  0 |  0 |  0 |   0 | 1 |  0.56076953 |  1.2831236 | 0.5189592 |\n",
       "| CHP_352_01 | CHP_352_01 | CHP_352 | X01 |  1.2 |  763.14 | 17.0 | HR ALL |  1.2 | 2337 |   2 | ... |  0 |  0 |  0 |  0 |  0 |   0 | 1 |  2.10192042 | -0.1456999 |        NA |\n",
       "| CHP_353_01 | CHP_353_01 | CHP_353 | X01 |  0.9 |  344.00 |  6.0 | AML    |  0.9 | 2376 |  19 | ... |  0 |  0 |  0 |  0 |  0 |   0 | 1 |  1.40131525 | -0.1647018 |        NA |\n",
       "| CHP_354_01 | CHP_354_01 | CHP_354 | X01 |  2.4 | 5252.80 |  9.0 | AML    |  2.4 | 2454 |   2 | ... |  0 |  0 |  0 |  0 |  0 |   0 | 1 |  1.56683028 | -2.5828230 |        NA |\n",
       "| CHP_357_01 | CHP_357_01 | CHP_357 | X01 |  1.7 |  251.00 |  1.0 | AML    |  1.7 | 1382 |   2 | ... |  0 |  0 |  0 |  0 |  0 |   0 | 1 | -0.07895048 |  0.3017202 | 0.8313126 |\n",
       "| CHP_361_01 | CHP_361_01 | CHP_361 | X01 |  2.4 |  516.04 | 13.0 | HD     |  2.4 | 2317 |  94 | ... |  0 |  0 |  0 |  0 |  0 |   0 | 1 | -2.60630179 | -2.6321585 | 0.2569937 |\n",
       "| CHP_362_01 | CHP_362_01 | CHP_362 | X01 | 10.2 | 1072.50 | 16.0 | OS     | 10.2 | 2489 | 115 | ... |  0 |  0 |  0 |  0 |  0 |   0 | 1 | -1.47293136 | -0.8845700 |        NA |\n",
       "| CHP_363_01 | CHP_363_01 | CHP_363 | X01 |  1.8 |  198.00 | 20.0 | EWS    |  1.8 | 2083 | 211 | ... |  0 |  0 |  0 |  0 |  0 | 291 | 1 | -0.75936431 |  1.1046131 |        NA |\n",
       "| CHP_364_01 | CHP_364_01 | CHP_364 | X01 |  2.3 |  877.68 | 16.0 | OS     |  2.3 | 2411 |  33 | ... |  0 |  0 |  0 |  0 |  0 |   0 | 1 |  0.06286730 |  0.9112415 |        NA |\n",
       "| CHP_365_01 | CHP_365_01 | CHP_365 | X01 |  1.6 | 1343.86 |  7.0 | ALL    |  1.6 | 1721 |  15 | ... |  0 |  0 |  0 |  0 |  0 |   0 | 1 |  1.91675289 |  0.1529782 |        NA |\n",
       "| CHP_367_01 | CHP_367_01 | CHP_367 | X01 |  1.8 | 3004.65 | 14.0 | HR ALL |  1.8 |  671 |  15 | ... |  0 |  0 |  0 |  0 |  0 |   0 | 1 |  1.37505191 | -0.8653350 |        NA |\n",
       "| CHP_368_01 | CHP_368_01 | CHP_368 | X01 | 10.6 |  439.41 |  1.0 | ARMS   | 10.6 | 2218 | 227 | ... |  0 |  0 |  0 |  0 |  0 |   0 | 1 | -0.89362710 |  0.8465899 |        NA |\n",
       "| CHP_369_01 | CHP_369_01 | CHP_369 | X01 |  5.1 |  544.44 |  0.1 | AML    |  5.1 | 1591 |   4 | ... |  0 |  8 |  0 |  0 |  0 |   0 | 1 | -1.11687384 |  2.8170683 |        NA |\n",
       "| CHP_370_01 | CHP_370_01 | CHP_370 | X01 |  4.2 |    0.00 | 17.0 | ALCL   |  4.2 |  592 |  19 | ... |  0 |  0 |  0 |  0 |  0 |   0 | 1 | -1.58679733 |  1.3897993 |        NA |\n",
       "| CHP_371_01 | CHP_371_01 | CHP_371 | X01 |  2.1 |  333.20 | 15.0 | BL     |  2.1 | 1014 |  37 | ... |  0 |  0 |  0 |  0 |  0 |   0 | 1 | -3.75960165 | -1.1005913 |        NA |\n",
       "| CHP_372_01 | CHP_372_01 | CHP_372 | X01 |  1.0 |    0.00 | 21.0 | BL     |  1.0 |  328 |  16 | ... | NA | NA | NA | NA | NA |  NA | 1 | -1.34704949 | -2.9569869 |        NA |\n",
       "| CHP_373_01 | CHP_373_01 | CHP_373 | X01 |  0.9 | 1912.77 |  2.0 | ALL    |  0.9 |  403 |   0 | ... |  0 |  0 |  0 |  0 |  0 |   0 | 1 |  1.50375951 |  0.7697329 |        NA |\n",
       "| CHP_378_01 | CHP_378_01 | CHP_378 | X01 | 28.9 |    0.00 |  1.0 | ALL    | 28.9 | 2239 | 374 | ... |  0 |  0 |  0 |  0 |  0 |   0 | 1 | -1.35645624 |  1.6445122 |        NA |\n",
       "| CHP_381_01 | CHP_381_01 | CHP_381 | X01 |  1.4 |    4.92 |  6.0 | EWS    |  1.4 | 1383 | 172 | ... |  0 |  0 |  0 |  0 |  0 |   0 | 1 | -1.30301432 |  0.7608267 |        NA |\n",
       "| CHP_387_01 | CHP_387_01 | CHP_387 | X01 |  0.8 |  288.99 | 13.0 | T-ALL  |  0.8 | 2414 | 209 | ... |  0 |  0 |  0 |  0 |  0 |   0 | 1 |  1.34023125 | -0.6670957 |        NA |\n",
       "| CHP_394_01 | CHP_394_01 | CHP_394 | X01 |  6.2 |  101.20 | 17.0 | ERMS   |  6.2 |  835 |   0 | ... | NA | NA | NA | NA | NA |  NA | 1 | -0.55240776 |  0.8104068 |        NA |\n",
       "| CHP_396_01 | CHP_396_01 | CHP_396 | X01 |  1.1 | 6767.11 |  1.0 | HR ALL |  1.1 | 2481 |   0 | ... |  4 |  0 |  0 |  0 |  0 |   0 | 1 |  2.32572166 | -1.7460783 |        NA |\n",
       "| CHP_397_01 | CHP_397_01 | CHP_397 | X01 |  1.6 |  124.80 |  2.0 | ALL    |  1.6 | 2400 |   0 | ... |  0 |  0 |  0 |  0 |  0 |   0 | 1 |  1.15497337 | -0.5394899 |        NA |\n",
       "| CHP_399_01 | CHP_399_01 | CHP_399 | X01 |  7.1 |  622.20 |  2.0 | HR ALL |  7.1 | 2389 |   0 | ... |  0 |  0 |  0 |  0 |  0 |   0 | 1 |  2.10163242 |  0.6882774 | 1.9952066 |\n",
       "| CHP_404_01 | CHP_404_01 | CHP_404 | X01 |  0.7 | 2100.84 | 10.0 | ERMS   |  0.7 |   95 |   6 | ... |  0 |  0 |  0 |  0 |  0 |   0 | 1 |  0.74222384 |  0.1129641 |        NA |\n",
       "| CHP_405_01 | CHP_405_01 | CHP_405 | X01 |  0.7 | 4936.56 |  1.0 | CML    |  0.7 |  463 | 100 | ... |  0 |  0 |  0 |  0 |  0 |   0 | 1 | -1.96593782 | -2.0885932 | 0.9210446 |\n",
       "| CHP_408_01 | CHP_408_01 | CHP_408 | X01 |  5.1 |  338.80 |  5.0 | OS     |  5.1 | 2140 | 338 | ... |  0 |  0 |  0 |  0 |  0 |   0 | 1 | -1.60450216 |  0.1242385 | 1.3891286 |\n",
       "| CHP_409_01 | CHP_409_01 | CHP_409 | X01 |  2.9 |  156.78 | 11.0 | EWS    |  2.9 | 2291 | 670 | ... |  0 |  0 |  0 |  0 |  0 |   0 | 1 | -2.57743632 | -0.4597126 |        NA |\n",
       "| CHP_410_01 | CHP_410_01 | CHP_410 | X01 |  1.6 |    0.00 |  1.0 | ALL    |  1.6 |  250 |   1 | ... |  0 |  0 |  0 |  0 |  0 |   0 | 1 |  1.23114362 |  1.1164491 |        NA |\n",
       "| CHP_413_01 | CHP_413_01 | CHP_413 | X01 |  4.0 |    0.00 | 19.0 | AML    |  4.0 | 1985 |  43 | ... |  0 |  0 |  0 |  0 |  0 |   0 | 1 |  1.16495532 | -0.7471138 |        NA |\n",
       "\n"
      ],
      "text/plain": [
       "           sample_id  Patient cycle FOLD ATC     Age  Disease_type TE_fold CD3 \n",
       "CHP_346_01 CHP_346_01 CHP_346 X01    0.8  331.70  1.0 NB            0.8     637\n",
       "CHP_347_01 CHP_347_01 CHP_347 X01    0.8  126.72 13.0 ALL           0.8    1701\n",
       "CHP_348_01 CHP_348_01 CHP_348 X01   11.5   50.96 18.0 OS           11.5    1125\n",
       "CHP_349_01 CHP_349_01 CHP_349 X01    2.0 3152.22 17.0 CML           2.0    2735\n",
       "CHP_350_01 CHP_350_01 CHP_350 X01    2.7 1615.44  1.0 HB            2.7    1338\n",
       "CHP_352_01 CHP_352_01 CHP_352 X01    1.2  763.14 17.0 HR ALL        1.2    2337\n",
       "CHP_353_01 CHP_353_01 CHP_353 X01    0.9  344.00  6.0 AML           0.9    2376\n",
       "CHP_354_01 CHP_354_01 CHP_354 X01    2.4 5252.80  9.0 AML           2.4    2454\n",
       "CHP_357_01 CHP_357_01 CHP_357 X01    1.7  251.00  1.0 AML           1.7    1382\n",
       "CHP_361_01 CHP_361_01 CHP_361 X01    2.4  516.04 13.0 HD            2.4    2317\n",
       "CHP_362_01 CHP_362_01 CHP_362 X01   10.2 1072.50 16.0 OS           10.2    2489\n",
       "CHP_363_01 CHP_363_01 CHP_363 X01    1.8  198.00 20.0 EWS           1.8    2083\n",
       "CHP_364_01 CHP_364_01 CHP_364 X01    2.3  877.68 16.0 OS            2.3    2411\n",
       "CHP_365_01 CHP_365_01 CHP_365 X01    1.6 1343.86  7.0 ALL           1.6    1721\n",
       "CHP_367_01 CHP_367_01 CHP_367 X01    1.8 3004.65 14.0 HR ALL        1.8     671\n",
       "CHP_368_01 CHP_368_01 CHP_368 X01   10.6  439.41  1.0 ARMS         10.6    2218\n",
       "CHP_369_01 CHP_369_01 CHP_369 X01    5.1  544.44  0.1 AML           5.1    1591\n",
       "CHP_370_01 CHP_370_01 CHP_370 X01    4.2    0.00 17.0 ALCL          4.2     592\n",
       "CHP_371_01 CHP_371_01 CHP_371 X01    2.1  333.20 15.0 BL            2.1    1014\n",
       "CHP_372_01 CHP_372_01 CHP_372 X01    1.0    0.00 21.0 BL            1.0     328\n",
       "CHP_373_01 CHP_373_01 CHP_373 X01    0.9 1912.77  2.0 ALL           0.9     403\n",
       "CHP_378_01 CHP_378_01 CHP_378 X01   28.9    0.00  1.0 ALL          28.9    2239\n",
       "CHP_381_01 CHP_381_01 CHP_381 X01    1.4    4.92  6.0 EWS           1.4    1383\n",
       "CHP_387_01 CHP_387_01 CHP_387 X01    0.8  288.99 13.0 T-ALL         0.8    2414\n",
       "CHP_394_01 CHP_394_01 CHP_394 X01    6.2  101.20 17.0 ERMS          6.2     835\n",
       "CHP_396_01 CHP_396_01 CHP_396 X01    1.1 6767.11  1.0 HR ALL        1.1    2481\n",
       "CHP_397_01 CHP_397_01 CHP_397 X01    1.6  124.80  2.0 ALL           1.6    2400\n",
       "CHP_399_01 CHP_399_01 CHP_399 X01    7.1  622.20  2.0 HR ALL        7.1    2389\n",
       "CHP_404_01 CHP_404_01 CHP_404 X01    0.7 2100.84 10.0 ERMS          0.7      95\n",
       "CHP_405_01 CHP_405_01 CHP_405 X01    0.7 4936.56  1.0 CML           0.7     463\n",
       "CHP_408_01 CHP_408_01 CHP_408 X01    5.1  338.80  5.0 OS            5.1    2140\n",
       "CHP_409_01 CHP_409_01 CHP_409 X01    2.9  156.78 11.0 EWS           2.9    2291\n",
       "CHP_410_01 CHP_410_01 CHP_410 X01    1.6    0.00  1.0 ALL           1.6     250\n",
       "CHP_413_01 CHP_413_01 CHP_413 X01    4.0    0.00 19.0 AML           4.0    1985\n",
       "           EM  ... S%P G%GE S%G %YE %G %E  cyclenum Dim1        Dim2      \n",
       "CHP_346_01   0 ...  0   0    0   0   0   0 1        -0.54241952  3.1521536\n",
       "CHP_347_01   1 ...  0   0    0   0   0   0 1         1.20198306  0.1580219\n",
       "CHP_348_01  28 ...  0   0    0   0   0   0 1        -0.26875354  0.4223610\n",
       "CHP_349_01  53 ...  0   0    0   0   0   0 1         2.04029336 -0.9861285\n",
       "CHP_350_01  18 ...  0   0    0   0   0   0 1         0.56076953  1.2831236\n",
       "CHP_352_01   2 ...  0   0    0   0   0   0 1         2.10192042 -0.1456999\n",
       "CHP_353_01  19 ...  0   0    0   0   0   0 1         1.40131525 -0.1647018\n",
       "CHP_354_01   2 ...  0   0    0   0   0   0 1         1.56683028 -2.5828230\n",
       "CHP_357_01   2 ...  0   0    0   0   0   0 1        -0.07895048  0.3017202\n",
       "CHP_361_01  94 ...  0   0    0   0   0   0 1        -2.60630179 -2.6321585\n",
       "CHP_362_01 115 ...  0   0    0   0   0   0 1        -1.47293136 -0.8845700\n",
       "CHP_363_01 211 ...  0   0    0   0   0 291 1        -0.75936431  1.1046131\n",
       "CHP_364_01  33 ...  0   0    0   0   0   0 1         0.06286730  0.9112415\n",
       "CHP_365_01  15 ...  0   0    0   0   0   0 1         1.91675289  0.1529782\n",
       "CHP_367_01  15 ...  0   0    0   0   0   0 1         1.37505191 -0.8653350\n",
       "CHP_368_01 227 ...  0   0    0   0   0   0 1        -0.89362710  0.8465899\n",
       "CHP_369_01   4 ...  0   8    0   0   0   0 1        -1.11687384  2.8170683\n",
       "CHP_370_01  19 ...  0   0    0   0   0   0 1        -1.58679733  1.3897993\n",
       "CHP_371_01  37 ...  0   0    0   0   0   0 1        -3.75960165 -1.1005913\n",
       "CHP_372_01  16 ... NA  NA   NA  NA  NA  NA 1        -1.34704949 -2.9569869\n",
       "CHP_373_01   0 ...  0   0    0   0   0   0 1         1.50375951  0.7697329\n",
       "CHP_378_01 374 ...  0   0    0   0   0   0 1        -1.35645624  1.6445122\n",
       "CHP_381_01 172 ...  0   0    0   0   0   0 1        -1.30301432  0.7608267\n",
       "CHP_387_01 209 ...  0   0    0   0   0   0 1         1.34023125 -0.6670957\n",
       "CHP_394_01   0 ... NA  NA   NA  NA  NA  NA 1        -0.55240776  0.8104068\n",
       "CHP_396_01   0 ...  4   0    0   0   0   0 1         2.32572166 -1.7460783\n",
       "CHP_397_01   0 ...  0   0    0   0   0   0 1         1.15497337 -0.5394899\n",
       "CHP_399_01   0 ...  0   0    0   0   0   0 1         2.10163242  0.6882774\n",
       "CHP_404_01   6 ...  0   0    0   0   0   0 1         0.74222384  0.1129641\n",
       "CHP_405_01 100 ...  0   0    0   0   0   0 1        -1.96593782 -2.0885932\n",
       "CHP_408_01 338 ...  0   0    0   0   0   0 1        -1.60450216  0.1242385\n",
       "CHP_409_01 670 ...  0   0    0   0   0   0 1        -2.57743632 -0.4597126\n",
       "CHP_410_01   1 ...  0   0    0   0   0   0 1         1.23114362  1.1164491\n",
       "CHP_413_01  43 ...  0   0    0   0   0   0 1         1.16495532 -0.7471138\n",
       "           meddist_n\n",
       "CHP_346_01        NA\n",
       "CHP_347_01 0.8506318\n",
       "CHP_348_01        NA\n",
       "CHP_349_01        NA\n",
       "CHP_350_01 0.5189592\n",
       "CHP_352_01        NA\n",
       "CHP_353_01        NA\n",
       "CHP_354_01        NA\n",
       "CHP_357_01 0.8313126\n",
       "CHP_361_01 0.2569937\n",
       "CHP_362_01        NA\n",
       "CHP_363_01        NA\n",
       "CHP_364_01        NA\n",
       "CHP_365_01        NA\n",
       "CHP_367_01        NA\n",
       "CHP_368_01        NA\n",
       "CHP_369_01        NA\n",
       "CHP_370_01        NA\n",
       "CHP_371_01        NA\n",
       "CHP_372_01        NA\n",
       "CHP_373_01        NA\n",
       "CHP_378_01        NA\n",
       "CHP_381_01        NA\n",
       "CHP_387_01        NA\n",
       "CHP_394_01        NA\n",
       "CHP_396_01        NA\n",
       "CHP_397_01        NA\n",
       "CHP_399_01 1.9952066\n",
       "CHP_404_01        NA\n",
       "CHP_405_01 0.9210446\n",
       "CHP_408_01 1.3891286\n",
       "CHP_409_01        NA\n",
       "CHP_410_01        NA\n",
       "CHP_413_01        NA"
      ]
     },
     "metadata": {},
     "output_type": "display_data"
    }
   ],
   "source": [
    "df_narm_pre"
   ]
  },
  {
   "cell_type": "code",
   "execution_count": null,
   "metadata": {
    "vscode": {
     "languageId": "r"
    }
   },
   "outputs": [],
   "source": [
    "# umaplayout <- as.data.frame(umap::umap(mymat_narm_X01)$layout )"
   ]
  },
  {
   "cell_type": "code",
   "execution_count": null,
   "metadata": {
    "vscode": {
     "languageId": "r"
    }
   },
   "outputs": [],
   "source": [
    "# umaplayout$cancergroup <- df_narm_X01$cancergroup # orders are the same\n",
    "# umaplayout$Patient <- df_narm_X01$Patient\n",
    "# umaplayout$cycle <- df_narm_X01$cycle"
   ]
  },
  {
   "cell_type": "code",
   "execution_count": null,
   "metadata": {
    "vscode": {
     "languageId": "r"
    }
   },
   "outputs": [
    {
     "data": {
      "text/html": [
       "<table class=\"dataframe\">\n",
       "<caption>A data.frame: 6 x 5</caption>\n",
       "<thead>\n",
       "\t<tr><th></th><th scope=col>V1</th><th scope=col>V2</th><th scope=col>cancergroup</th><th scope=col>Patient</th><th scope=col>cycle</th></tr>\n",
       "\t<tr><th></th><th scope=col>&lt;dbl&gt;</th><th scope=col>&lt;dbl&gt;</th><th scope=col>&lt;chr&gt;</th><th scope=col>&lt;chr&gt;</th><th scope=col>&lt;chr&gt;</th></tr>\n",
       "</thead>\n",
       "<tbody>\n",
       "\t<tr><th scope=row>CHP_346_01</th><td>-0.8483028</td><td> 0.9259161</td><td>Solid tumors</td><td>CHP_346</td><td>X01</td></tr>\n",
       "\t<tr><th scope=row>CHP_347_01</th><td>-2.0197571</td><td> 0.6349436</td><td>Leukemia    </td><td>CHP_347</td><td>X01</td></tr>\n",
       "\t<tr><th scope=row>CHP_348_01</th><td>-2.6215086</td><td> 0.3878308</td><td>Solid tumors</td><td>CHP_348</td><td>X01</td></tr>\n",
       "\t<tr><th scope=row>CHP_349_01</th><td> 2.5741145</td><td>-0.6255879</td><td>Leukemia    </td><td>CHP_349</td><td>X01</td></tr>\n",
       "\t<tr><th scope=row>CHP_350_01</th><td> 2.4738871</td><td>-0.1368852</td><td>Solid tumors</td><td>CHP_350</td><td>X01</td></tr>\n",
       "\t<tr><th scope=row>CHP_352_01</th><td> 1.4077899</td><td> 0.2404501</td><td>Leukemia    </td><td>CHP_352</td><td>X01</td></tr>\n",
       "</tbody>\n",
       "</table>\n"
      ],
      "text/latex": [
       "A data.frame: 6 x 5\n",
       "\\begin{tabular}{r|lllll}\n",
       "  & V1 & V2 & cancergroup & Patient & cycle\\\\\n",
       "  & <dbl> & <dbl> & <chr> & <chr> & <chr>\\\\\n",
       "\\hline\n",
       "\tCHP\\_346\\_01 & -0.8483028 &  0.9259161 & Solid tumors & CHP\\_346 & X01\\\\\n",
       "\tCHP\\_347\\_01 & -2.0197571 &  0.6349436 & Leukemia     & CHP\\_347 & X01\\\\\n",
       "\tCHP\\_348\\_01 & -2.6215086 &  0.3878308 & Solid tumors & CHP\\_348 & X01\\\\\n",
       "\tCHP\\_349\\_01 &  2.5741145 & -0.6255879 & Leukemia     & CHP\\_349 & X01\\\\\n",
       "\tCHP\\_350\\_01 &  2.4738871 & -0.1368852 & Solid tumors & CHP\\_350 & X01\\\\\n",
       "\tCHP\\_352\\_01 &  1.4077899 &  0.2404501 & Leukemia     & CHP\\_352 & X01\\\\\n",
       "\\end{tabular}\n"
      ],
      "text/markdown": [
       "\n",
       "A data.frame: 6 x 5\n",
       "\n",
       "| <!--/--> | V1 &lt;dbl&gt; | V2 &lt;dbl&gt; | cancergroup &lt;chr&gt; | Patient &lt;chr&gt; | cycle &lt;chr&gt; |\n",
       "|---|---|---|---|---|---|\n",
       "| CHP_346_01 | -0.8483028 |  0.9259161 | Solid tumors | CHP_346 | X01 |\n",
       "| CHP_347_01 | -2.0197571 |  0.6349436 | Leukemia     | CHP_347 | X01 |\n",
       "| CHP_348_01 | -2.6215086 |  0.3878308 | Solid tumors | CHP_348 | X01 |\n",
       "| CHP_349_01 |  2.5741145 | -0.6255879 | Leukemia     | CHP_349 | X01 |\n",
       "| CHP_350_01 |  2.4738871 | -0.1368852 | Solid tumors | CHP_350 | X01 |\n",
       "| CHP_352_01 |  1.4077899 |  0.2404501 | Leukemia     | CHP_352 | X01 |\n",
       "\n"
      ],
      "text/plain": [
       "           V1         V2         cancergroup  Patient cycle\n",
       "CHP_346_01 -0.8483028  0.9259161 Solid tumors CHP_346 X01  \n",
       "CHP_347_01 -2.0197571  0.6349436 Leukemia     CHP_347 X01  \n",
       "CHP_348_01 -2.6215086  0.3878308 Solid tumors CHP_348 X01  \n",
       "CHP_349_01  2.5741145 -0.6255879 Leukemia     CHP_349 X01  \n",
       "CHP_350_01  2.4738871 -0.1368852 Solid tumors CHP_350 X01  \n",
       "CHP_352_01  1.4077899  0.2404501 Leukemia     CHP_352 X01  "
      ]
     },
     "metadata": {},
     "output_type": "display_data"
    }
   ],
   "source": [
    "# head(umaplayout)"
   ]
  },
  {
   "cell_type": "code",
   "execution_count": null,
   "metadata": {
    "vscode": {
     "languageId": "r"
    }
   },
   "outputs": [
    {
     "data": {
      "image/png": "[encoded data removed]",
      "text/plain": [
       "plot without title"
      ]
     },
     "metadata": {
      "image/png": {
       "height": 420,
       "width": 420
      }
     },
     "output_type": "display_data"
    }
   ],
   "source": [
    "# ggplot(umaplayout, aes(x = V1, y = V2, color = cancergroup)) + geom_point(size = 1) + theme_bw()"
   ]
  },
  {
   "cell_type": "code",
   "execution_count": null,
   "metadata": {
    "vscode": {
     "languageId": "r"
    }
   },
   "outputs": [],
   "source": []
  },
  {
   "cell_type": "code",
   "execution_count": null,
   "metadata": {
    "vscode": {
     "languageId": "r"
    }
   },
   "outputs": [],
   "source": []
  },
  {
   "cell_type": "code",
   "execution_count": null,
   "metadata": {
    "vscode": {
     "languageId": "r"
    }
   },
   "outputs": [],
   "source": []
  },
  {
   "cell_type": "markdown",
   "metadata": {
    "vscode": {
     "languageId": "r"
    }
   },
   "source": [
    "Impute"
   ]
  },
  {
   "cell_type": "code",
   "execution_count": null,
   "metadata": {
    "vscode": {
     "languageId": "r"
    }
   },
   "outputs": [],
   "source": []
  },
  {
   "cell_type": "code",
   "execution_count": 75,
   "metadata": {
    "vscode": {
     "languageId": "r"
    }
   },
   "outputs": [],
   "source": [
    "mymat_pre <- mymat[grepl(\"_01\", rownames(mymat)), ]\n",
    "mymat_post <- mymat[!grepl(\"_01\", rownames(mymat)), ]"
   ]
  },
  {
   "cell_type": "code",
   "execution_count": 76,
   "metadata": {
    "vscode": {
     "languageId": "r"
    }
   },
   "outputs": [],
   "source": [
    "df_pre <- pbmc_hla_v_j_gliph[ rownames(mymat_pre), ]\n",
    "df_post <- pbmc_hla_v_j_gliph[ rownames(mymat_post), ]"
   ]
  },
  {
   "cell_type": "code",
   "execution_count": 77,
   "metadata": {
    "vscode": {
     "languageId": "r"
    }
   },
   "outputs": [
    {
     "name": "stdout",
     "output_type": "stream",
     "text": [
      "  |======================================================================| 100%\n",
      "  |======================================================================| 100%\n"
     ]
    }
   ],
   "source": [
    "set.seed(123)\n",
    "estimatenp_pre <- estim_ncpPCA(mymat_pre,\n",
    "    ncp.min = 2, ncp.max = 5, scale = TRUE,\n",
    "    method.cv = \"Kfold\", nbsim = 100, pNA = 0.01, threshold = 1e-4\n",
    ")\n",
    "\n",
    "estimatenp_post <- estim_ncpPCA(mymat_post,\n",
    "    ncp.min = 2, ncp.max = 5, scale = TRUE,\n",
    "    method.cv = \"Kfold\", nbsim = 100, pNA = 0.01, threshold = 1e-4\n",
    ")"
   ]
  },
  {
   "cell_type": "code",
   "execution_count": 78,
   "metadata": {
    "vscode": {
     "languageId": "r"
    }
   },
   "outputs": [
    {
     "data": {
      "text/html": [
       "<dl>\n",
       "\t<dt>$ncp</dt>\n",
       "\t\t<dd>2</dd>\n",
       "\t<dt>$criterion</dt>\n",
       "\t\t<dd><style>\n",
       ".dl-inline {width: auto; margin:0; padding: 0}\n",
       ".dl-inline>dt, .dl-inline>dd {float: none; width: auto; display: inline-block}\n",
       ".dl-inline>dt::after {content: \":\\0020\"; padding-right: .5ex}\n",
       ".dl-inline>dt:not(:first-of-type) {padding-left: .5ex}\n",
       "</style><dl class=dl-inline><dt>2</dt><dd>1063275.81634004</dd><dt>3</dt><dd>1712246.31977581</dd><dt>4</dt><dd>1884304.60033584</dd><dt>5</dt><dd>1796105.75058689</dd></dl>\n",
       "</dd>\n",
       "</dl>\n"
      ],
      "text/latex": [
       "\\begin{description}\n",
       "\\item[\\$ncp] 2\n",
       "\\item[\\$criterion] \\begin{description*}\n",
       "\\item[2] 1063275.81634004\n",
       "\\item[3] 1712246.31977581\n",
       "\\item[4] 1884304.60033584\n",
       "\\item[5] 1796105.75058689\n",
       "\\end{description*}\n",
       "\n",
       "\\end{description}\n"
      ],
      "text/markdown": [
       "$ncp\n",
       ":   2\n",
       "$criterion\n",
       ":   2\n",
       ":   1063275.816340043\n",
       ":   1712246.319775814\n",
       ":   1884304.600335845\n",
       ":   1796105.75058689\n",
       "\n",
       "\n",
       "\n",
       "\n"
      ],
      "text/plain": [
       "$ncp\n",
       "[1] 2\n",
       "\n",
       "$criterion\n",
       "      2       3       4       5 \n",
       "1063276 1712246 1884305 1796106 \n"
      ]
     },
     "metadata": {},
     "output_type": "display_data"
    },
    {
     "data": {
      "text/html": [
       "<dl>\n",
       "\t<dt>$ncp</dt>\n",
       "\t\t<dd>2</dd>\n",
       "\t<dt>$criterion</dt>\n",
       "\t\t<dd><style>\n",
       ".dl-inline {width: auto; margin:0; padding: 0}\n",
       ".dl-inline>dt, .dl-inline>dd {float: none; width: auto; display: inline-block}\n",
       ".dl-inline>dt::after {content: \":\\0020\"; padding-right: .5ex}\n",
       ".dl-inline>dt:not(:first-of-type) {padding-left: .5ex}\n",
       "</style><dl class=dl-inline><dt>2</dt><dd>415672.882095128</dd><dt>3</dt><dd>501632.452370451</dd><dt>4</dt><dd>557403.254560964</dd><dt>5</dt><dd>462182.715885115</dd></dl>\n",
       "</dd>\n",
       "</dl>\n"
      ],
      "text/latex": [
       "\\begin{description}\n",
       "\\item[\\$ncp] 2\n",
       "\\item[\\$criterion] \\begin{description*}\n",
       "\\item[2] 415672.882095128\n",
       "\\item[3] 501632.452370451\n",
       "\\item[4] 557403.254560964\n",
       "\\item[5] 462182.715885115\n",
       "\\end{description*}\n",
       "\n",
       "\\end{description}\n"
      ],
      "text/markdown": [
       "$ncp\n",
       ":   2\n",
       "$criterion\n",
       ":   2\n",
       ":   415672.8820951283\n",
       ":   501632.4523704514\n",
       ":   557403.2545609645\n",
       ":   462182.715885115\n",
       "\n",
       "\n",
       "\n",
       "\n"
      ],
      "text/plain": [
       "$ncp\n",
       "[1] 2\n",
       "\n",
       "$criterion\n",
       "       2        3        4        5 \n",
       "415672.9 501632.5 557403.3 462182.7 \n"
      ]
     },
     "metadata": {},
     "output_type": "display_data"
    }
   ],
   "source": [
    "estimatenp_pre\n",
    "estimatenp_post"
   ]
  },
  {
   "cell_type": "code",
   "execution_count": 97,
   "metadata": {
    "vscode": {
     "languageId": "r"
    }
   },
   "outputs": [],
   "source": [
    "set.seed(123)\n",
    "res.comp_pre <- imputePCA(mymat_pre, ncp = 7, maxiter = 1000)\n",
    "res.comp_post <- imputePCA(mymat_post, ncp = 7, maxiter = 1000)"
   ]
  },
  {
   "cell_type": "code",
   "execution_count": 98,
   "metadata": {
    "vscode": {
     "languageId": "r"
    }
   },
   "outputs": [],
   "source": [
    "res.pca_pre <- PCA(res.comp_pre$completeObs, quali.sup = NULL, ncp = 5, graph = FALSE) \n",
    "res.pca_post <- PCA(res.comp_post$completeObs, quali.sup = NULL, ncp = 5, graph = FALSE)"
   ]
  },
  {
   "cell_type": "code",
   "execution_count": 99,
   "metadata": {
    "vscode": {
     "languageId": "r"
    }
   },
   "outputs": [
    {
     "data": {
      "text/html": [
       "<style>\n",
       ".list-inline {list-style: none; margin:0; padding: 0}\n",
       ".list-inline>li {display: inline-block}\n",
       ".list-inline>li:not(:last-child)::after {content: \"\\00b7\"; padding: 0 .5ex}\n",
       "</style>\n",
       "<ol class=list-inline><li>1</li><li>2</li><li>3</li><li>4</li><li>5</li><li>6</li><li>7</li><li>8</li><li>9</li><li>10</li><li>11</li><li>12</li><li>13</li><li>14</li><li>15</li><li>16</li><li>17</li><li>18</li><li>19</li><li>20</li><li>21</li><li>22</li><li>23</li><li>24</li><li>25</li><li>26</li><li>27</li><li>28</li><li>29</li><li>30</li><li>31</li><li>32</li><li>33</li><li>34</li><li>35</li><li>36</li><li>37</li><li>38</li><li>39</li><li>40</li><li>41</li><li>42</li><li>43</li><li>44</li><li>45</li><li>46</li><li>47</li><li>48</li><li>49</li><li>50</li><li>51</li><li>52</li><li>53</li><li>54</li><li>55</li><li>56</li><li>57</li><li>58</li><li>59</li><li>60</li><li>61</li><li>62</li><li>63</li><li>64</li><li>65</li><li>66</li><li>67</li><li>68</li><li>69</li><li>70</li><li>71</li><li>72</li><li>73</li><li>74</li><li>75</li><li>76</li><li>77</li><li>78</li><li>79</li><li>80</li><li>81</li><li>82</li><li>83</li><li>84</li><li>85</li><li>86</li><li>87</li><li>88</li><li>89</li><li>90</li><li>91</li><li>92</li><li>93</li></ol>\n"
      ],
      "text/latex": [
       "\\begin{enumerate*}\n",
       "\\item 1\n",
       "\\item 2\n",
       "\\item 3\n",
       "\\item 4\n",
       "\\item 5\n",
       "\\item 6\n",
       "\\item 7\n",
       "\\item 8\n",
       "\\item 9\n",
       "\\item 10\n",
       "\\item 11\n",
       "\\item 12\n",
       "\\item 13\n",
       "\\item 14\n",
       "\\item 15\n",
       "\\item 16\n",
       "\\item 17\n",
       "\\item 18\n",
       "\\item 19\n",
       "\\item 20\n",
       "\\item 21\n",
       "\\item 22\n",
       "\\item 23\n",
       "\\item 24\n",
       "\\item 25\n",
       "\\item 26\n",
       "\\item 27\n",
       "\\item 28\n",
       "\\item 29\n",
       "\\item 30\n",
       "\\item 31\n",
       "\\item 32\n",
       "\\item 33\n",
       "\\item 34\n",
       "\\item 35\n",
       "\\item 36\n",
       "\\item 37\n",
       "\\item 38\n",
       "\\item 39\n",
       "\\item 40\n",
       "\\item 41\n",
       "\\item 42\n",
       "\\item 43\n",
       "\\item 44\n",
       "\\item 45\n",
       "\\item 46\n",
       "\\item 47\n",
       "\\item 48\n",
       "\\item 49\n",
       "\\item 50\n",
       "\\item 51\n",
       "\\item 52\n",
       "\\item 53\n",
       "\\item 54\n",
       "\\item 55\n",
       "\\item 56\n",
       "\\item 57\n",
       "\\item 58\n",
       "\\item 59\n",
       "\\item 60\n",
       "\\item 61\n",
       "\\item 62\n",
       "\\item 63\n",
       "\\item 64\n",
       "\\item 65\n",
       "\\item 66\n",
       "\\item 67\n",
       "\\item 68\n",
       "\\item 69\n",
       "\\item 70\n",
       "\\item 71\n",
       "\\item 72\n",
       "\\item 73\n",
       "\\item 74\n",
       "\\item 75\n",
       "\\item 76\n",
       "\\item 77\n",
       "\\item 78\n",
       "\\item 79\n",
       "\\item 80\n",
       "\\item 81\n",
       "\\item 82\n",
       "\\item 83\n",
       "\\item 84\n",
       "\\item 85\n",
       "\\item 86\n",
       "\\item 87\n",
       "\\item 88\n",
       "\\item 89\n",
       "\\item 90\n",
       "\\item 91\n",
       "\\item 92\n",
       "\\item 93\n",
       "\\end{enumerate*}\n"
      ],
      "text/markdown": [
       "1. 1\n",
       "2. 2\n",
       "3. 3\n",
       "4. 4\n",
       "5. 5\n",
       "6. 6\n",
       "7. 7\n",
       "8. 8\n",
       "9. 9\n",
       "10. 10\n",
       "11. 11\n",
       "12. 12\n",
       "13. 13\n",
       "14. 14\n",
       "15. 15\n",
       "16. 16\n",
       "17. 17\n",
       "18. 18\n",
       "19. 19\n",
       "20. 20\n",
       "21. 21\n",
       "22. 22\n",
       "23. 23\n",
       "24. 24\n",
       "25. 25\n",
       "26. 26\n",
       "27. 27\n",
       "28. 28\n",
       "29. 29\n",
       "30. 30\n",
       "31. 31\n",
       "32. 32\n",
       "33. 33\n",
       "34. 34\n",
       "35. 35\n",
       "36. 36\n",
       "37. 37\n",
       "38. 38\n",
       "39. 39\n",
       "40. 40\n",
       "41. 41\n",
       "42. 42\n",
       "43. 43\n",
       "44. 44\n",
       "45. 45\n",
       "46. 46\n",
       "47. 47\n",
       "48. 48\n",
       "49. 49\n",
       "50. 50\n",
       "51. 51\n",
       "52. 52\n",
       "53. 53\n",
       "54. 54\n",
       "55. 55\n",
       "56. 56\n",
       "57. 57\n",
       "58. 58\n",
       "59. 59\n",
       "60. 60\n",
       "61. 61\n",
       "62. 62\n",
       "63. 63\n",
       "64. 64\n",
       "65. 65\n",
       "66. 66\n",
       "67. 67\n",
       "68. 68\n",
       "69. 69\n",
       "70. 70\n",
       "71. 71\n",
       "72. 72\n",
       "73. 73\n",
       "74. 74\n",
       "75. 75\n",
       "76. 76\n",
       "77. 77\n",
       "78. 78\n",
       "79. 79\n",
       "80. 80\n",
       "81. 81\n",
       "82. 82\n",
       "83. 83\n",
       "84. 84\n",
       "85. 85\n",
       "86. 86\n",
       "87. 87\n",
       "88. 88\n",
       "89. 89\n",
       "90. 90\n",
       "91. 91\n",
       "92. 92\n",
       "93. 93\n",
       "\n",
       "\n"
      ],
      "text/plain": [
       " [1]  1  2  3  4  5  6  7  8  9 10 11 12 13 14 15 16 17 18 19 20 21 22 23 24 25\n",
       "[26] 26 27 28 29 30 31 32 33 34 35 36 37 38 39 40 41 42 43 44 45 46 47 48 49 50\n",
       "[51] 51 52 53 54 55 56 57 58 59 60 61 62 63 64 65 66 67 68 69 70 71 72 73 74 75\n",
       "[76] 76 77 78 79 80 81 82 83 84 85 86 87 88 89 90 91 92 93"
      ]
     },
     "metadata": {},
     "output_type": "display_data"
    }
   ],
   "source": [
    "match(df_pre$sample_id, rownames(res.pca_pre$ind$coord) )"
   ]
  },
  {
   "cell_type": "code",
   "execution_count": 100,
   "metadata": {
    "vscode": {
     "languageId": "r"
    }
   },
   "outputs": [],
   "source": [
    "df_pre$Dim1 <- res.pca_pre$ind$coord[, 1]\n",
    "df_pre$Dim2 <- res.pca_pre$ind$coord[, 2]"
   ]
  },
  {
   "cell_type": "code",
   "execution_count": 107,
   "metadata": {
    "vscode": {
     "languageId": "r"
    }
   },
   "outputs": [],
   "source": [
    "p1_pre <- fviz_pca_ind(res.pca_pre,\n",
    "     habillage = as.factor(df_pre$cancergroup),\n",
    "    label = \"none\",\n",
    "    repel = F, addEllipses = FALSE, mean.point = FALSE\n",
    ")\n",
    "\n",
    "p1_post <- fviz_pca_ind(res.pca_post, axes = c(5,4),\n",
    "     habillage = as.factor(df_post$cancergroup),\n",
    "    label = \"none\",\n",
    "    repel = F, addEllipses = FALSE, mean.point = FALSE\n",
    ")\n"
   ]
  },
  {
   "cell_type": "code",
   "execution_count": 108,
   "metadata": {
    "vscode": {
     "languageId": "r"
    }
   },
   "outputs": [
    {
     "data": {
      "image/png": "[encoded data removed]",
      "text/plain": [
       "plot without title"
      ]
     },
     "metadata": {
      "image/png": {
       "height": 420,
       "width": 420
      }
     },
     "output_type": "display_data"
    }
   ],
   "source": [
    "p1_post"
   ]
  },
  {
   "cell_type": "code",
   "execution_count": null,
   "metadata": {
    "vscode": {
     "languageId": "r"
    }
   },
   "outputs": [],
   "source": [
    "myx <- res.pca_post$ind$coord\n",
    "mydist <- as.matrix(dist(myx[,1:2])) "
   ]
  },
  {
   "cell_type": "code",
   "execution_count": null,
   "metadata": {
    "vscode": {
     "languageId": "r"
    }
   },
   "outputs": [
    {
     "data": {
      "text/html": [
       "<table class=\"dataframe\">\n",
       "<caption>A matrix: 6 x 2 of type dbl</caption>\n",
       "<thead>\n",
       "\t<tr><th></th><th scope=col>Dim.1</th><th scope=col>Dim.2</th></tr>\n",
       "</thead>\n",
       "<tbody>\n",
       "\t<tr><th scope=row>CHP_319_05</th><td> 0.8345717</td><td>-1.00428103</td></tr>\n",
       "\t<tr><th scope=row>CHP_323_03</th><td> 1.3702292</td><td> 0.37820169</td></tr>\n",
       "\t<tr><th scope=row>CHP_323_05</th><td> 1.2743987</td><td> 0.85480132</td></tr>\n",
       "\t<tr><th scope=row>CHP_324_05</th><td> 0.1218592</td><td>-0.57576511</td></tr>\n",
       "\t<tr><th scope=row>CHP_328_04</th><td>-0.3295694</td><td>-0.02073135</td></tr>\n",
       "\t<tr><th scope=row>CHP_328_05</th><td> 0.4592576</td><td>-0.58099257</td></tr>\n",
       "</tbody>\n",
       "</table>\n"
      ],
      "text/latex": [
       "A matrix: 6 x 2 of type dbl\n",
       "\\begin{tabular}{r|ll}\n",
       "  & Dim.1 & Dim.2\\\\\n",
       "\\hline\n",
       "\tCHP\\_319\\_05 &  0.8345717 & -1.00428103\\\\\n",
       "\tCHP\\_323\\_03 &  1.3702292 &  0.37820169\\\\\n",
       "\tCHP\\_323\\_05 &  1.2743987 &  0.85480132\\\\\n",
       "\tCHP\\_324\\_05 &  0.1218592 & -0.57576511\\\\\n",
       "\tCHP\\_328\\_04 & -0.3295694 & -0.02073135\\\\\n",
       "\tCHP\\_328\\_05 &  0.4592576 & -0.58099257\\\\\n",
       "\\end{tabular}\n"
      ],
      "text/markdown": [
       "\n",
       "A matrix: 6 x 2 of type dbl\n",
       "\n",
       "| <!--/--> | Dim.1 | Dim.2 |\n",
       "|---|---|---|\n",
       "| CHP_319_05 |  0.8345717 | -1.00428103 |\n",
       "| CHP_323_03 |  1.3702292 |  0.37820169 |\n",
       "| CHP_323_05 |  1.2743987 |  0.85480132 |\n",
       "| CHP_324_05 |  0.1218592 | -0.57576511 |\n",
       "| CHP_328_04 | -0.3295694 | -0.02073135 |\n",
       "| CHP_328_05 |  0.4592576 | -0.58099257 |\n",
       "\n"
      ],
      "text/plain": [
       "           Dim.1      Dim.2      \n",
       "CHP_319_05  0.8345717 -1.00428103\n",
       "CHP_323_03  1.3702292  0.37820169\n",
       "CHP_323_05  1.2743987  0.85480132\n",
       "CHP_324_05  0.1218592 -0.57576511\n",
       "CHP_328_04 -0.3295694 -0.02073135\n",
       "CHP_328_05  0.4592576 -0.58099257"
      ]
     },
     "metadata": {},
     "output_type": "display_data"
    }
   ],
   "source": [
    "head(myx)"
   ]
  },
  {
   "cell_type": "code",
   "execution_count": null,
   "metadata": {
    "vscode": {
     "languageId": "r"
    }
   },
   "outputs": [],
   "source": [
    "sample_df <- df_post %>%\n",
    "    group_by(Patient) %>%\n",
    "    # order cyclenum\n",
    "    arrange(cyclenum) %>%\n",
    "    ungroup()\n",
    "pts <- names(which(table(sample_df$Patient) > 1))\n",
    "sample_df$dist <- NA\n"
   ]
  },
  {
   "cell_type": "code",
   "execution_count": null,
   "metadata": {
    "vscode": {
     "languageId": "r"
    }
   },
   "outputs": [],
   "source": [
    "for (i in pts) {\n",
    "    tmp <- sample_df[sample_df$Patient == i, ]\n",
    "    distances_df <- mydist[tmp$sample_id, tmp$sample_id]\n",
    "    if (nrow(tmp) == 2) {\n",
    "        mydiff <- diff(tmp$cyclenum)\n",
    "        if (mydiff == 1) {\n",
    "            tmp$dist[2] <- distances_df[tmp$sample_id[1], tmp$sample_id[2]]\n",
    "        }\n",
    "    }\n",
    "    if (nrow(tmp) == 3) {\n",
    "        mydiff <- diff(tmp$cyclenum)\n",
    "        if (mydiff[1] == 1) {\n",
    "            tmp$dist[2] <- distances_df[tmp$sample_id[1], tmp$sample_id[2]]\n",
    "        }\n",
    "        if (mydiff[2] == 1) {\n",
    "            tmp$dist[3] <- distances_df[tmp$sample_id[2], tmp$sample_id[3]]\n",
    "        }\n",
    "    }\n",
    "    if (nrow(tmp) == 4) {\n",
    "        mydiff <- diff(tmp$cyclenum)\n",
    "        if (mydiff[1] == 1) {\n",
    "            tmp$dist[2] <- distances_df[tmp$sample_id[1], tmp$sample_id[2]]\n",
    "        }\n",
    "        if (mydiff[2] == 1) {\n",
    "            tmp$dist[3] <- distances_df[tmp$sample_id[2], tmp$sample_id[3]]\n",
    "        }\n",
    "        if (mydiff[3] == 1) {\n",
    "            tmp$dist[4] <- distances_df[tmp$sample_id[3], tmp$sample_id[4]]\n",
    "        }\n",
    "    }\n",
    "    if (nrow(tmp) == 5) {\n",
    "        mydiff <- diff(tmp$cyclenum)\n",
    "        if (mydiff[1] == 1) {\n",
    "            tmp$dist[2] <- distances_df[tmp$sample_id[1], tmp$sample_id[2]]\n",
    "        }\n",
    "        if (mydiff[2] == 1) {\n",
    "            tmp$dist[3] <- distances_df[tmp$sample_id[2], tmp$sample_id[3]]\n",
    "        }\n",
    "        if (mydiff[3] == 1) {\n",
    "            tmp$dist[4] <- distances_df[tmp$sample_id[3], tmp$sample_id[4]]\n",
    "        }\n",
    "        if (mydiff[4] == 1) {\n",
    "            tmp$dist[5] <- distances_df[tmp$sample_id[4], tmp$sample_id[5]]\n",
    "        }\n",
    "    }\n",
    "    sample_df$dist[sample_df$Patient == i] <- tmp$dist\n",
    "}\n"
   ]
  },
  {
   "cell_type": "code",
   "execution_count": null,
   "metadata": {
    "vscode": {
     "languageId": "r"
    }
   },
   "outputs": [],
   "source": [
    "allpts <- as.data.frame(table(sample_df$Patient), stringsAsFactors = F)\n",
    "sample_df$dist[sample_df$dist == 0] <- NA\n",
    "allpts$sumdist <- NA\n",
    "allpts$meddist <- NA\n",
    "allpts$samplecount <- NA\n",
    "for (i in 1:nrow(allpts)) {\n",
    "    tmp <- as.data.frame(sample_df[sample_df$Patient == allpts$Var1[i], ])\n",
    "    allpts$sumdist[i] <- sum(tmp[tmp$dist != 0, \"dist\"], na.rm = T)\n",
    "    allpts$meddist[i] <- median(tmp[tmp$dist != 0, \"dist\"], na.rm = T)\n",
    "    # count number of samples for meddist\n",
    "    allpts$samplecount[i] <- nrow(tmp[!is.na(tmp$dist), ]) + 1 # add 1 for the first sample, this is the number of samples with a distance\n",
    "}\n",
    "allpts$sumdist_n <- allpts$sumdist / allpts$samplecount\n",
    "allpts$meddist_n <- allpts$meddist / allpts$samplecount\n",
    "allpts_no0 <- allpts[allpts$sumdist_n > 0, ]\n",
    "allpts_no0 <- allpts_no0[allpts_no0$Freq > 1, ]\n",
    "\n",
    "mysample_df <- sample_df[sample_df$Patient %in% allpts_no0$Var1, ]\n",
    "mypatients <- mysample_df[!duplicated(mysample_df$Patient), ]\n",
    "\n",
    "mypatients$sumdist_n <- allpts_no0$sumdist_n[match(mypatients$Patient, allpts_no0$Var1)]\n",
    "mypatients$sumdist <- allpts_no0$sumdist[match(mypatients$Patient, allpts_no0$Var1)]\n",
    "mypatients$meddist_n <- allpts_no0$meddist_n[match(mypatients$Patient, allpts_no0$Var1)]\n",
    "mypatients$meddist <- allpts_no0$meddist[match(mypatients$Patient, allpts_no0$Var1)]\n"
   ]
  },
  {
   "cell_type": "code",
   "execution_count": null,
   "metadata": {
    "vscode": {
     "languageId": "r"
    }
   },
   "outputs": [
    {
     "data": {
      "text/plain": [
       "Logistic Regression Model\n",
       "\n",
       "rms::lrm(formula = Relapse ~ meddist_n, data = mypatients)\n",
       "\n",
       "                      Model Likelihood     Discrimination    Rank Discrim.    \n",
       "                            Ratio Test            Indexes          Indexes    \n",
       "Obs            67    LR chi2      5.74     R2       0.139    C       0.630    \n",
       " 0             56    d.f.            1     R2(1,67) 0.068    Dxy     0.260    \n",
       " 1             11    Pr(> chi2) 0.0166    R2(1,27.6)0.158    gamma   0.260    \n",
       "max |deriv| 4e-09                          Brier    0.119    tau-a   0.072    \n",
       "\n",
       "          Coef    S.E.   Wald Z Pr(>|Z|)\n",
       "Intercept -2.5840 0.5729 -4.51  <0.0001 \n",
       "meddist_n  0.9630 0.4038  2.39  0.0171  \n"
      ]
     },
     "metadata": {},
     "output_type": "display_data"
    }
   ],
   "source": [
    "rms::lrm(Relapse ~ meddist_n, data = mypatients)"
   ]
  },
  {
   "cell_type": "code",
   "execution_count": null,
   "metadata": {
    "vscode": {
     "languageId": "r"
    }
   },
   "outputs": [
    {
     "data": {
      "text/html": [
       "<table class=\"dataframe\">\n",
       "<caption>A matrix: 6 x 2 of type dbl</caption>\n",
       "<thead>\n",
       "\t<tr><th></th><th scope=col>Dim.1</th><th scope=col>Dim.2</th></tr>\n",
       "</thead>\n",
       "<tbody>\n",
       "\t<tr><th scope=row>CHP_319_05</th><td> 0.8345717</td><td>-1.00428103</td></tr>\n",
       "\t<tr><th scope=row>CHP_323_03</th><td> 1.3702292</td><td> 0.37820169</td></tr>\n",
       "\t<tr><th scope=row>CHP_323_05</th><td> 1.2743987</td><td> 0.85480132</td></tr>\n",
       "\t<tr><th scope=row>CHP_324_05</th><td> 0.1218592</td><td>-0.57576511</td></tr>\n",
       "\t<tr><th scope=row>CHP_328_04</th><td>-0.3295694</td><td>-0.02073135</td></tr>\n",
       "\t<tr><th scope=row>CHP_328_05</th><td> 0.4592576</td><td>-0.58099257</td></tr>\n",
       "</tbody>\n",
       "</table>\n"
      ],
      "text/latex": [
       "A matrix: 6 x 2 of type dbl\n",
       "\\begin{tabular}{r|ll}\n",
       "  & Dim.1 & Dim.2\\\\\n",
       "\\hline\n",
       "\tCHP\\_319\\_05 &  0.8345717 & -1.00428103\\\\\n",
       "\tCHP\\_323\\_03 &  1.3702292 &  0.37820169\\\\\n",
       "\tCHP\\_323\\_05 &  1.2743987 &  0.85480132\\\\\n",
       "\tCHP\\_324\\_05 &  0.1218592 & -0.57576511\\\\\n",
       "\tCHP\\_328\\_04 & -0.3295694 & -0.02073135\\\\\n",
       "\tCHP\\_328\\_05 &  0.4592576 & -0.58099257\\\\\n",
       "\\end{tabular}\n"
      ],
      "text/markdown": [
       "\n",
       "A matrix: 6 x 2 of type dbl\n",
       "\n",
       "| <!--/--> | Dim.1 | Dim.2 |\n",
       "|---|---|---|\n",
       "| CHP_319_05 |  0.8345717 | -1.00428103 |\n",
       "| CHP_323_03 |  1.3702292 |  0.37820169 |\n",
       "| CHP_323_05 |  1.2743987 |  0.85480132 |\n",
       "| CHP_324_05 |  0.1218592 | -0.57576511 |\n",
       "| CHP_328_04 | -0.3295694 | -0.02073135 |\n",
       "| CHP_328_05 |  0.4592576 | -0.58099257 |\n",
       "\n"
      ],
      "text/plain": [
       "           Dim.1      Dim.2      \n",
       "CHP_319_05  0.8345717 -1.00428103\n",
       "CHP_323_03  1.3702292  0.37820169\n",
       "CHP_323_05  1.2743987  0.85480132\n",
       "CHP_324_05  0.1218592 -0.57576511\n",
       "CHP_328_04 -0.3295694 -0.02073135\n",
       "CHP_328_05  0.4592576 -0.58099257"
      ]
     },
     "metadata": {},
     "output_type": "display_data"
    }
   ],
   "source": [
    "head(myx)"
   ]
  },
  {
   "cell_type": "code",
   "execution_count": null,
   "metadata": {
    "vscode": {
     "languageId": "r"
    }
   },
   "outputs": [],
   "source": [
    "sample_df$Dim1 <- myx[ match(sample_df$sample_id, rownames(myx)), 1]\n",
    "sample_df$Dim2 <- myx[ match(sample_df$sample_id, rownames(myx)), 2]"
   ]
  },
  {
   "cell_type": "code",
   "execution_count": null,
   "metadata": {
    "vscode": {
     "languageId": "r"
    }
   },
   "outputs": [
    {
     "data": {
      "text/html": [
       "<table class=\"dataframe\">\n",
       "<caption>A tibble: 40 x 8833</caption>\n",
       "<thead>\n",
       "\t<tr><th scope=col>sample_id</th><th scope=col>Patient</th><th scope=col>cycle</th><th scope=col>FOLD</th><th scope=col>ATC</th><th scope=col>Age</th><th scope=col>Disease_type</th><th scope=col>TE_fold</th><th scope=col>CD3</th><th scope=col>EM</th><th scope=col>...</th><th scope=col>S%P</th><th scope=col>G%GE</th><th scope=col>S%G</th><th scope=col>%YE</th><th scope=col>%G</th><th scope=col>%E</th><th scope=col>cyclenum</th><th scope=col>dist</th><th scope=col>Dim1</th><th scope=col>Dim2</th></tr>\n",
       "\t<tr><th scope=col>&lt;chr&gt;</th><th scope=col>&lt;chr&gt;</th><th scope=col>&lt;chr&gt;</th><th scope=col>&lt;dbl&gt;</th><th scope=col>&lt;dbl&gt;</th><th scope=col>&lt;dbl&gt;</th><th scope=col>&lt;chr&gt;</th><th scope=col>&lt;dbl&gt;</th><th scope=col>&lt;int&gt;</th><th scope=col>&lt;int&gt;</th><th scope=col>...</th><th scope=col>&lt;dbl&gt;</th><th scope=col>&lt;dbl&gt;</th><th scope=col>&lt;dbl&gt;</th><th scope=col>&lt;dbl&gt;</th><th scope=col>&lt;dbl&gt;</th><th scope=col>&lt;dbl&gt;</th><th scope=col>&lt;dbl&gt;</th><th scope=col>&lt;dbl&gt;</th><th scope=col>&lt;dbl&gt;</th><th scope=col>&lt;dbl&gt;</th></tr>\n",
       "</thead>\n",
       "<tbody>\n",
       "\t<tr><td>CHP_349_02</td><td>CHP_349</td><td>X02</td><td>13.0</td><td> 353.06</td><td>17</td><td>CML   </td><td>13.0</td><td>2767</td><td>717</td><td>...</td><td> 0</td><td> 0</td><td> 0</td><td> 0</td><td> 0</td><td> 0</td><td>2</td><td>        NA</td><td> 1.2598135</td><td>-0.10878714</td></tr>\n",
       "\t<tr><td>CHP_356_02</td><td>CHP_356</td><td>X02</td><td> 1.1</td><td>   0.00</td><td> 9</td><td>EWS   </td><td> 1.1</td><td>1028</td><td> 66</td><td>...</td><td> 0</td><td> 0</td><td> 0</td><td> 0</td><td> 0</td><td> 0</td><td>2</td><td>        NA</td><td>-1.5496775</td><td>-1.62201684</td></tr>\n",
       "\t<tr><td>CHP_359_02</td><td>CHP_359</td><td>X02</td><td> 0.0</td><td>   0.00</td><td>15</td><td>AML   </td><td> 0.0</td><td>   0</td><td> NA</td><td>...</td><td> 0</td><td> 0</td><td> 0</td><td> 0</td><td> 0</td><td> 0</td><td>2</td><td>        NA</td><td>-1.3972670</td><td> 0.33760425</td></tr>\n",
       "\t<tr><td>CHP_364_02</td><td>CHP_364</td><td>X02</td><td> 1.9</td><td>   0.00</td><td>16</td><td>OS    </td><td> 1.9</td><td>2487</td><td> 18</td><td>...</td><td> 0</td><td> 0</td><td> 0</td><td> 0</td><td> 0</td><td> 0</td><td>2</td><td>        NA</td><td>-1.7711105</td><td>-2.01189426</td></tr>\n",
       "\t<tr><td>CHP_376_02</td><td>CHP_376</td><td>X02</td><td> 0.0</td><td>   0.00</td><td> 1</td><td>AML   </td><td> 0.0</td><td>   0</td><td> NA</td><td>...</td><td> 0</td><td> 0</td><td> 0</td><td> 0</td><td> 0</td><td> 0</td><td>2</td><td>        NA</td><td>-5.2038223</td><td> 2.62628243</td></tr>\n",
       "\t<tr><td>CHP_377_02</td><td>CHP_377</td><td>X02</td><td> 0.0</td><td>   0.00</td><td>18</td><td>HR ALL</td><td> 0.0</td><td>   0</td><td> NA</td><td>...</td><td> 0</td><td> 0</td><td> 4</td><td> 0</td><td> 0</td><td> 0</td><td>2</td><td>        NA</td><td>-0.9982564</td><td> 0.09770054</td></tr>\n",
       "\t<tr><td>CHP_380_02</td><td>CHP_380</td><td>X02</td><td> 0.0</td><td>   0.00</td><td>14</td><td>HD    </td><td> 0.0</td><td>   0</td><td> NA</td><td>...</td><td> 0</td><td> 0</td><td> 0</td><td> 0</td><td> 0</td><td> 0</td><td>2</td><td>        NA</td><td> 0.5297514</td><td>-0.82100889</td></tr>\n",
       "\t<tr><td>CHP_402_02</td><td>CHP_402</td><td>X02</td><td> 0.8</td><td> 419.95</td><td> 9</td><td>HR ALL</td><td> 0.8</td><td>2487</td><td>  0</td><td>...</td><td> 0</td><td> 0</td><td> 0</td><td> 0</td><td> 0</td><td> 0</td><td>2</td><td>        NA</td><td>-2.0013859</td><td>-2.24301601</td></tr>\n",
       "\t<tr><td>CHP_411_02</td><td>CHP_411</td><td>X02</td><td> 3.2</td><td>   0.00</td><td>16</td><td>HR ALL</td><td> 3.2</td><td>  50</td><td>  1</td><td>...</td><td> 0</td><td> 0</td><td> 0</td><td> 0</td><td> 0</td><td> 0</td><td>2</td><td>        NA</td><td>-1.1457490</td><td> 3.58210516</td></tr>\n",
       "\t<tr><td>CHP_413_02</td><td>CHP_413</td><td>X02</td><td> 3.2</td><td>  93.42</td><td>19</td><td>AML   </td><td> 3.2</td><td>2525</td><td>312</td><td>...</td><td> 0</td><td> 0</td><td> 0</td><td> 0</td><td> 0</td><td> 0</td><td>2</td><td>        NA</td><td>-1.4974582</td><td>-1.25225860</td></tr>\n",
       "\t<tr><td>CHP_418_02</td><td>CHP_418</td><td>X02</td><td> 1.4</td><td>   0.00</td><td> 2</td><td>NB    </td><td> 1.4</td><td> 581</td><td> 45</td><td>...</td><td> 0</td><td> 0</td><td> 0</td><td> 0</td><td> 0</td><td> 0</td><td>2</td><td>        NA</td><td>-0.8320231</td><td>-2.01016301</td></tr>\n",
       "\t<tr><td>CHP_338_02</td><td>CHP_338</td><td>X02</td><td> 5.1</td><td> 644.68</td><td>13</td><td>AML   </td><td> 5.1</td><td>   0</td><td> NA</td><td>...</td><td>NA</td><td>NA</td><td>NA</td><td>NA</td><td>NA</td><td>NA</td><td>2</td><td>        NA</td><td> 0.1817024</td><td> 0.78589829</td></tr>\n",
       "\t<tr><td>CHP_395_02</td><td>CHP_395</td><td>X02</td><td> 1.0</td><td>     NA</td><td>11</td><td>T-ALL </td><td> 1.0</td><td>2481</td><td> 14</td><td>...</td><td>NA</td><td>NA</td><td>NA</td><td>NA</td><td>NA</td><td>NA</td><td>2</td><td>        NA</td><td>-0.1280389</td><td>-2.70213600</td></tr>\n",
       "\t<tr><td>CHP_338_03</td><td>CHP_338</td><td>X03</td><td>16.8</td><td> 329.29</td><td>13</td><td>AML   </td><td>16.8</td><td>   0</td><td> NA</td><td>...</td><td> 0</td><td> 0</td><td> 0</td><td> 0</td><td> 0</td><td> 0</td><td>3</td><td>1.22933250</td><td>-1.0464149</td><td> 0.84054655</td></tr>\n",
       "\t<tr><td>CHP_353_03</td><td>CHP_353</td><td>X03</td><td>46.3</td><td>1213.70</td><td> 6</td><td>AML   </td><td>46.3</td><td>2419</td><td>153</td><td>...</td><td> 0</td><td> 0</td><td> 0</td><td> 0</td><td> 0</td><td> 0</td><td>3</td><td>        NA</td><td>-1.2907741</td><td> 2.93362428</td></tr>\n",
       "\t<tr><td>CHP_356_03</td><td>CHP_356</td><td>X03</td><td> 0.7</td><td>   0.00</td><td> 9</td><td>EWS   </td><td> 0.7</td><td>1233</td><td> 22</td><td>...</td><td> 0</td><td> 0</td><td> 0</td><td> 0</td><td> 0</td><td> 0</td><td>3</td><td>2.42874491</td><td> 0.8787800</td><td>-1.65938107</td></tr>\n",
       "\t<tr><td>CHP_359_03</td><td>CHP_359</td><td>X03</td><td> 0.0</td><td>   0.00</td><td>15</td><td>AML   </td><td> 0.0</td><td>   0</td><td> NA</td><td>...</td><td> 0</td><td> 0</td><td> 0</td><td> 0</td><td>98</td><td> 0</td><td>3</td><td>8.06909276</td><td>-8.3126510</td><td> 4.49545492</td></tr>\n",
       "\t<tr><td>CHP_376_03</td><td>CHP_376</td><td>X03</td><td> 0.0</td><td>   0.00</td><td> 1</td><td>AML   </td><td> 0.0</td><td>   0</td><td> NA</td><td>...</td><td> 0</td><td> 0</td><td> 0</td><td> 0</td><td> 0</td><td> 0</td><td>3</td><td>4.42047587</td><td>-1.4153805</td><td> 0.34849494</td></tr>\n",
       "\t<tr><td>CHP_380_03</td><td>CHP_380</td><td>X03</td><td> 0.0</td><td>   0.00</td><td>14</td><td>HD    </td><td> 0.0</td><td>   0</td><td> NA</td><td>...</td><td> 0</td><td> 0</td><td> 0</td><td> 0</td><td> 0</td><td>16</td><td>3</td><td>0.08559146</td><td> 0.6031051</td><td>-0.86511255</td></tr>\n",
       "\t<tr><td>CHP_402_03</td><td>CHP_402</td><td>X03</td><td> 6.1</td><td>   0.00</td><td> 9</td><td>HR ALL</td><td> 6.1</td><td>  44</td><td>  1</td><td>...</td><td> 0</td><td> 0</td><td> 0</td><td> 0</td><td> 0</td><td> 0</td><td>3</td><td>6.33918948</td><td> 3.8026398</td><td> 0.30622095</td></tr>\n",
       "\t<tr><td>CHP_411_03</td><td>CHP_411</td><td>X03</td><td>17.9</td><td>  35.88</td><td>16</td><td>HR ALL</td><td>17.9</td><td>2348</td><td> 39</td><td>...</td><td>NA</td><td>NA</td><td>NA</td><td>NA</td><td>NA</td><td>NA</td><td>3</td><td>5.94144657</td><td> 2.6718254</td><td>-0.97057676</td></tr>\n",
       "\t<tr><td>CHP_413_03</td><td>CHP_413</td><td>X03</td><td> 1.5</td><td> 685.36</td><td>19</td><td>AML   </td><td> 1.5</td><td>2419</td><td>130</td><td>...</td><td>NA</td><td>NA</td><td>NA</td><td>NA</td><td>NA</td><td>NA</td><td>3</td><td>0.90715653</td><td>-0.7116611</td><td>-0.79898626</td></tr>\n",
       "\t<tr><td>CHP_418_03</td><td>CHP_418</td><td>X03</td><td> 0.5</td><td>   0.00</td><td> 2</td><td>NB    </td><td> 0.5</td><td>4018</td><td> 34</td><td>...</td><td>NA</td><td>NA</td><td>NA</td><td>NA</td><td>NA</td><td>NA</td><td>3</td><td>3.70979351</td><td> 2.7167423</td><td>-0.92903765</td></tr>\n",
       "\t<tr><td>CHP_338_04</td><td>CHP_338</td><td>X04</td><td> 1.9</td><td>   0.00</td><td>13</td><td>AML   </td><td> 1.9</td><td>   0</td><td> NA</td><td>...</td><td> 0</td><td> 0</td><td> 0</td><td> 0</td><td> 0</td><td> 0</td><td>4</td><td>1.97495607</td><td> 0.2476395</td><td>-0.65139005</td></tr>\n",
       "\t<tr><td>CHP_342_04</td><td>CHP_342</td><td>X04</td><td> 0.0</td><td>   0.00</td><td> 1</td><td>AML   </td><td> 0.0</td><td>   0</td><td> NA</td><td>...</td><td> 0</td><td> 0</td><td> 0</td><td> 0</td><td> 0</td><td> 0</td><td>4</td><td>        NA</td><td> 0.7239042</td><td>-0.93774255</td></tr>\n",
       "\t<tr><td>CHP_359_04</td><td>CHP_359</td><td>X04</td><td> 0.0</td><td>   0.00</td><td>15</td><td>AML   </td><td> 0.0</td><td>   0</td><td> NA</td><td>...</td><td> 0</td><td> 0</td><td> 0</td><td> 0</td><td> 0</td><td> 0</td><td>4</td><td>8.70306417</td><td>-0.8539400</td><td> 0.01093079</td></tr>\n",
       "\t<tr><td>CHP_364_04</td><td>CHP_364</td><td>X04</td><td> 4.0</td><td>   0.00</td><td>16</td><td>OS    </td><td> 4.0</td><td>2454</td><td>  9</td><td>...</td><td> 0</td><td> 0</td><td> 0</td><td> 0</td><td> 0</td><td> 0</td><td>4</td><td>        NA</td><td> 0.8619321</td><td>-0.85779285</td></tr>\n",
       "\t<tr><td>CHP_356_04</td><td>CHP_356</td><td>X04</td><td> 0.9</td><td>   0.00</td><td> 9</td><td>EWS   </td><td> 0.9</td><td>3531</td><td> 79</td><td>...</td><td>NA</td><td>NA</td><td>NA</td><td>NA</td><td>NA</td><td>NA</td><td>4</td><td>0.54641711</td><td> 1.3983300</td><td>-1.49014928</td></tr>\n",
       "\t<tr><td>CHP_390_04</td><td>CHP_390</td><td>X04</td><td>  NA</td><td>1096.68</td><td> 5</td><td>OS    </td><td>  NA</td><td>   0</td><td> NA</td><td>...</td><td>NA</td><td>NA</td><td>NA</td><td>NA</td><td>NA</td><td>NA</td><td>4</td><td>        NA</td><td> 0.3806052</td><td> 1.64622778</td></tr>\n",
       "\t<tr><td>CHP_413_04</td><td>CHP_413</td><td>X04</td><td> 2.6</td><td>   0.00</td><td>19</td><td>AML   </td><td> 2.6</td><td>1070</td><td> 86</td><td>...</td><td>NA</td><td>NA</td><td>NA</td><td>NA</td><td>NA</td><td>NA</td><td>4</td><td>2.40514858</td><td> 1.1939512</td><td> 0.66845428</td></tr>\n",
       "\t<tr><td>CHP_418_04</td><td>CHP_418</td><td>X04</td><td> 0.6</td><td>   0.00</td><td> 2</td><td>NB    </td><td> 0.6</td><td>2295</td><td>  4</td><td>...</td><td>NA</td><td>NA</td><td>NA</td><td>NA</td><td>NA</td><td>NA</td><td>4</td><td>3.60419711</td><td>-0.8266887</td><td>-1.58807790</td></tr>\n",
       "\t<tr><td>CHP_319_05</td><td>CHP_319</td><td>X05</td><td> 1.2</td><td>   0.00</td><td> 1</td><td>HR ALL</td><td> 1.2</td><td>   0</td><td> NA</td><td>...</td><td> 0</td><td> 0</td><td> 0</td><td> 0</td><td> 0</td><td> 0</td><td>5</td><td>        NA</td><td> 0.8345717</td><td>-1.00428103</td></tr>\n",
       "\t<tr><td>CHP_338_05</td><td>CHP_338</td><td>X05</td><td> 0.0</td><td>   0.00</td><td>13</td><td>AML   </td><td> 0.0</td><td>   0</td><td> NA</td><td>...</td><td> 0</td><td> 0</td><td> 0</td><td> 0</td><td> 0</td><td> 0</td><td>5</td><td>1.01707227</td><td>-0.6240131</td><td>-0.12731197</td></tr>\n",
       "\t<tr><td>CHP_353_05</td><td>CHP_353</td><td>X05</td><td>14.6</td><td>1180.35</td><td> 6</td><td>AML   </td><td>14.6</td><td>2092</td><td>513</td><td>...</td><td> 0</td><td> 0</td><td> 0</td><td> 0</td><td> 0</td><td> 0</td><td>5</td><td>        NA</td><td>-1.0508957</td><td> 1.86717843</td></tr>\n",
       "\t<tr><td>CHP_356_05</td><td>CHP_356</td><td>X05</td><td> 0.6</td><td>   0.00</td><td> 9</td><td>EWS   </td><td> 0.6</td><td>2465</td><td> 91</td><td>...</td><td>NA</td><td>NA</td><td>NA</td><td>NA</td><td>NA</td><td>NA</td><td>5</td><td>2.62107272</td><td>-1.0891565</td><td>-2.31624427</td></tr>\n",
       "\t<tr><td>CHP_368_05</td><td>CHP_368</td><td>X05</td><td> 0.0</td><td>   0.00</td><td> 1</td><td>ARMS  </td><td> 0.0</td><td>   0</td><td> NA</td><td>...</td><td> 0</td><td> 4</td><td> 0</td><td> 0</td><td>13</td><td> 0</td><td>5</td><td>        NA</td><td>-0.7844083</td><td>-0.03087493</td></tr>\n",
       "\t<tr><td>CHP_380_05</td><td>CHP_380</td><td>X05</td><td> 0.0</td><td>   0.00</td><td>14</td><td>HD    </td><td> 0.0</td><td>   0</td><td> NA</td><td>...</td><td> 0</td><td> 0</td><td> 0</td><td> 0</td><td> 0</td><td> 0</td><td>5</td><td>        NA</td><td> 0.6280233</td><td>-0.88009451</td></tr>\n",
       "\t<tr><td>CHP_390_05</td><td>CHP_390</td><td>X05</td><td> 0.0</td><td> 791.48</td><td> 5</td><td>OS    </td><td> 0.0</td><td>2506</td><td>307</td><td>...</td><td> 0</td><td> 0</td><td> 0</td><td> 0</td><td> 0</td><td> 0</td><td>5</td><td>1.01399015</td><td>-0.5792563</td><td> 1.31936090</td></tr>\n",
       "\t<tr><td>CHP_364_05</td><td>CHP_364</td><td>X05</td><td> 5.0</td><td>   0.00</td><td>16</td><td>OS    </td><td> 5.0</td><td>2119</td><td>103</td><td>...</td><td>NA</td><td>NA</td><td>NA</td><td>NA</td><td>NA</td><td>NA</td><td>5</td><td>1.62970655</td><td> 0.8064618</td><td> 0.77096940</td></tr>\n",
       "\t<tr><td>CHP_418_05</td><td>CHP_418</td><td>X05</td><td> 1.2</td><td>     NA</td><td> 2</td><td>NB    </td><td> 1.2</td><td>2397</td><td>  9</td><td>...</td><td>NA</td><td>NA</td><td>NA</td><td>NA</td><td>NA</td><td>NA</td><td>5</td><td>1.41705635</td><td>-0.7256992</td><td>-0.17462475</td></tr>\n",
       "</tbody>\n",
       "</table>\n"
      ],
      "text/latex": [
       "A tibble: 40 x 8833\n",
       "\\begin{tabular}{lllllllllllllllllllll}\n",
       " sample\\_id & Patient & cycle & FOLD & ATC & Age & Disease\\_type & TE\\_fold & CD3 & EM & ... & S\\%P & G\\%GE & S\\%G & \\%YE & \\%G & \\%E & cyclenum & dist & Dim1 & Dim2\\\\\n",
       " <chr> & <chr> & <chr> & <dbl> & <dbl> & <dbl> & <chr> & <dbl> & <int> & <int> & ... & <dbl> & <dbl> & <dbl> & <dbl> & <dbl> & <dbl> & <dbl> & <dbl> & <dbl> & <dbl>\\\\\n",
       "\\hline\n",
       "\t CHP\\_349\\_02 & CHP\\_349 & X02 & 13.0 &  353.06 & 17 & CML    & 13.0 & 2767 & 717 & ... &  0 &  0 &  0 &  0 &  0 &  0 & 2 &         NA &  1.2598135 & -0.10878714\\\\\n",
       "\t CHP\\_356\\_02 & CHP\\_356 & X02 &  1.1 &    0.00 &  9 & EWS    &  1.1 & 1028 &  66 & ... &  0 &  0 &  0 &  0 &  0 &  0 & 2 &         NA & -1.5496775 & -1.62201684\\\\\n",
       "\t CHP\\_359\\_02 & CHP\\_359 & X02 &  0.0 &    0.00 & 15 & AML    &  0.0 &    0 &  NA & ... &  0 &  0 &  0 &  0 &  0 &  0 & 2 &         NA & -1.3972670 &  0.33760425\\\\\n",
       "\t CHP\\_364\\_02 & CHP\\_364 & X02 &  1.9 &    0.00 & 16 & OS     &  1.9 & 2487 &  18 & ... &  0 &  0 &  0 &  0 &  0 &  0 & 2 &         NA & -1.7711105 & -2.01189426\\\\\n",
       "\t CHP\\_376\\_02 & CHP\\_376 & X02 &  0.0 &    0.00 &  1 & AML    &  0.0 &    0 &  NA & ... &  0 &  0 &  0 &  0 &  0 &  0 & 2 &         NA & -5.2038223 &  2.62628243\\\\\n",
       "\t CHP\\_377\\_02 & CHP\\_377 & X02 &  0.0 &    0.00 & 18 & HR ALL &  0.0 &    0 &  NA & ... &  0 &  0 &  4 &  0 &  0 &  0 & 2 &         NA & -0.9982564 &  0.09770054\\\\\n",
       "\t CHP\\_380\\_02 & CHP\\_380 & X02 &  0.0 &    0.00 & 14 & HD     &  0.0 &    0 &  NA & ... &  0 &  0 &  0 &  0 &  0 &  0 & 2 &         NA &  0.5297514 & -0.82100889\\\\\n",
       "\t CHP\\_402\\_02 & CHP\\_402 & X02 &  0.8 &  419.95 &  9 & HR ALL &  0.8 & 2487 &   0 & ... &  0 &  0 &  0 &  0 &  0 &  0 & 2 &         NA & -2.0013859 & -2.24301601\\\\\n",
       "\t CHP\\_411\\_02 & CHP\\_411 & X02 &  3.2 &    0.00 & 16 & HR ALL &  3.2 &   50 &   1 & ... &  0 &  0 &  0 &  0 &  0 &  0 & 2 &         NA & -1.1457490 &  3.58210516\\\\\n",
       "\t CHP\\_413\\_02 & CHP\\_413 & X02 &  3.2 &   93.42 & 19 & AML    &  3.2 & 2525 & 312 & ... &  0 &  0 &  0 &  0 &  0 &  0 & 2 &         NA & -1.4974582 & -1.25225860\\\\\n",
       "\t CHP\\_418\\_02 & CHP\\_418 & X02 &  1.4 &    0.00 &  2 & NB     &  1.4 &  581 &  45 & ... &  0 &  0 &  0 &  0 &  0 &  0 & 2 &         NA & -0.8320231 & -2.01016301\\\\\n",
       "\t CHP\\_338\\_02 & CHP\\_338 & X02 &  5.1 &  644.68 & 13 & AML    &  5.1 &    0 &  NA & ... & NA & NA & NA & NA & NA & NA & 2 &         NA &  0.1817024 &  0.78589829\\\\\n",
       "\t CHP\\_395\\_02 & CHP\\_395 & X02 &  1.0 &      NA & 11 & T-ALL  &  1.0 & 2481 &  14 & ... & NA & NA & NA & NA & NA & NA & 2 &         NA & -0.1280389 & -2.70213600\\\\\n",
       "\t CHP\\_338\\_03 & CHP\\_338 & X03 & 16.8 &  329.29 & 13 & AML    & 16.8 &    0 &  NA & ... &  0 &  0 &  0 &  0 &  0 &  0 & 3 & 1.22933250 & -1.0464149 &  0.84054655\\\\\n",
       "\t CHP\\_353\\_03 & CHP\\_353 & X03 & 46.3 & 1213.70 &  6 & AML    & 46.3 & 2419 & 153 & ... &  0 &  0 &  0 &  0 &  0 &  0 & 3 &         NA & -1.2907741 &  2.93362428\\\\\n",
       "\t CHP\\_356\\_03 & CHP\\_356 & X03 &  0.7 &    0.00 &  9 & EWS    &  0.7 & 1233 &  22 & ... &  0 &  0 &  0 &  0 &  0 &  0 & 3 & 2.42874491 &  0.8787800 & -1.65938107\\\\\n",
       "\t CHP\\_359\\_03 & CHP\\_359 & X03 &  0.0 &    0.00 & 15 & AML    &  0.0 &    0 &  NA & ... &  0 &  0 &  0 &  0 & 98 &  0 & 3 & 8.06909276 & -8.3126510 &  4.49545492\\\\\n",
       "\t CHP\\_376\\_03 & CHP\\_376 & X03 &  0.0 &    0.00 &  1 & AML    &  0.0 &    0 &  NA & ... &  0 &  0 &  0 &  0 &  0 &  0 & 3 & 4.42047587 & -1.4153805 &  0.34849494\\\\\n",
       "\t CHP\\_380\\_03 & CHP\\_380 & X03 &  0.0 &    0.00 & 14 & HD     &  0.0 &    0 &  NA & ... &  0 &  0 &  0 &  0 &  0 & 16 & 3 & 0.08559146 &  0.6031051 & -0.86511255\\\\\n",
       "\t CHP\\_402\\_03 & CHP\\_402 & X03 &  6.1 &    0.00 &  9 & HR ALL &  6.1 &   44 &   1 & ... &  0 &  0 &  0 &  0 &  0 &  0 & 3 & 6.33918948 &  3.8026398 &  0.30622095\\\\\n",
       "\t CHP\\_411\\_03 & CHP\\_411 & X03 & 17.9 &   35.88 & 16 & HR ALL & 17.9 & 2348 &  39 & ... & NA & NA & NA & NA & NA & NA & 3 & 5.94144657 &  2.6718254 & -0.97057676\\\\\n",
       "\t CHP\\_413\\_03 & CHP\\_413 & X03 &  1.5 &  685.36 & 19 & AML    &  1.5 & 2419 & 130 & ... & NA & NA & NA & NA & NA & NA & 3 & 0.90715653 & -0.7116611 & -0.79898626\\\\\n",
       "\t CHP\\_418\\_03 & CHP\\_418 & X03 &  0.5 &    0.00 &  2 & NB     &  0.5 & 4018 &  34 & ... & NA & NA & NA & NA & NA & NA & 3 & 3.70979351 &  2.7167423 & -0.92903765\\\\\n",
       "\t CHP\\_338\\_04 & CHP\\_338 & X04 &  1.9 &    0.00 & 13 & AML    &  1.9 &    0 &  NA & ... &  0 &  0 &  0 &  0 &  0 &  0 & 4 & 1.97495607 &  0.2476395 & -0.65139005\\\\\n",
       "\t CHP\\_342\\_04 & CHP\\_342 & X04 &  0.0 &    0.00 &  1 & AML    &  0.0 &    0 &  NA & ... &  0 &  0 &  0 &  0 &  0 &  0 & 4 &         NA &  0.7239042 & -0.93774255\\\\\n",
       "\t CHP\\_359\\_04 & CHP\\_359 & X04 &  0.0 &    0.00 & 15 & AML    &  0.0 &    0 &  NA & ... &  0 &  0 &  0 &  0 &  0 &  0 & 4 & 8.70306417 & -0.8539400 &  0.01093079\\\\\n",
       "\t CHP\\_364\\_04 & CHP\\_364 & X04 &  4.0 &    0.00 & 16 & OS     &  4.0 & 2454 &   9 & ... &  0 &  0 &  0 &  0 &  0 &  0 & 4 &         NA &  0.8619321 & -0.85779285\\\\\n",
       "\t CHP\\_356\\_04 & CHP\\_356 & X04 &  0.9 &    0.00 &  9 & EWS    &  0.9 & 3531 &  79 & ... & NA & NA & NA & NA & NA & NA & 4 & 0.54641711 &  1.3983300 & -1.49014928\\\\\n",
       "\t CHP\\_390\\_04 & CHP\\_390 & X04 &   NA & 1096.68 &  5 & OS     &   NA &    0 &  NA & ... & NA & NA & NA & NA & NA & NA & 4 &         NA &  0.3806052 &  1.64622778\\\\\n",
       "\t CHP\\_413\\_04 & CHP\\_413 & X04 &  2.6 &    0.00 & 19 & AML    &  2.6 & 1070 &  86 & ... & NA & NA & NA & NA & NA & NA & 4 & 2.40514858 &  1.1939512 &  0.66845428\\\\\n",
       "\t CHP\\_418\\_04 & CHP\\_418 & X04 &  0.6 &    0.00 &  2 & NB     &  0.6 & 2295 &   4 & ... & NA & NA & NA & NA & NA & NA & 4 & 3.60419711 & -0.8266887 & -1.58807790\\\\\n",
       "\t CHP\\_319\\_05 & CHP\\_319 & X05 &  1.2 &    0.00 &  1 & HR ALL &  1.2 &    0 &  NA & ... &  0 &  0 &  0 &  0 &  0 &  0 & 5 &         NA &  0.8345717 & -1.00428103\\\\\n",
       "\t CHP\\_338\\_05 & CHP\\_338 & X05 &  0.0 &    0.00 & 13 & AML    &  0.0 &    0 &  NA & ... &  0 &  0 &  0 &  0 &  0 &  0 & 5 & 1.01707227 & -0.6240131 & -0.12731197\\\\\n",
       "\t CHP\\_353\\_05 & CHP\\_353 & X05 & 14.6 & 1180.35 &  6 & AML    & 14.6 & 2092 & 513 & ... &  0 &  0 &  0 &  0 &  0 &  0 & 5 &         NA & -1.0508957 &  1.86717843\\\\\n",
       "\t CHP\\_356\\_05 & CHP\\_356 & X05 &  0.6 &    0.00 &  9 & EWS    &  0.6 & 2465 &  91 & ... & NA & NA & NA & NA & NA & NA & 5 & 2.62107272 & -1.0891565 & -2.31624427\\\\\n",
       "\t CHP\\_368\\_05 & CHP\\_368 & X05 &  0.0 &    0.00 &  1 & ARMS   &  0.0 &    0 &  NA & ... &  0 &  4 &  0 &  0 & 13 &  0 & 5 &         NA & -0.7844083 & -0.03087493\\\\\n",
       "\t CHP\\_380\\_05 & CHP\\_380 & X05 &  0.0 &    0.00 & 14 & HD     &  0.0 &    0 &  NA & ... &  0 &  0 &  0 &  0 &  0 &  0 & 5 &         NA &  0.6280233 & -0.88009451\\\\\n",
       "\t CHP\\_390\\_05 & CHP\\_390 & X05 &  0.0 &  791.48 &  5 & OS     &  0.0 & 2506 & 307 & ... &  0 &  0 &  0 &  0 &  0 &  0 & 5 & 1.01399015 & -0.5792563 &  1.31936090\\\\\n",
       "\t CHP\\_364\\_05 & CHP\\_364 & X05 &  5.0 &    0.00 & 16 & OS     &  5.0 & 2119 & 103 & ... & NA & NA & NA & NA & NA & NA & 5 & 1.62970655 &  0.8064618 &  0.77096940\\\\\n",
       "\t CHP\\_418\\_05 & CHP\\_418 & X05 &  1.2 &      NA &  2 & NB     &  1.2 & 2397 &   9 & ... & NA & NA & NA & NA & NA & NA & 5 & 1.41705635 & -0.7256992 & -0.17462475\\\\\n",
       "\\end{tabular}\n"
      ],
      "text/markdown": [
       "\n",
       "A tibble: 40 x 8833\n",
       "\n",
       "| sample_id &lt;chr&gt; | Patient &lt;chr&gt; | cycle &lt;chr&gt; | FOLD &lt;dbl&gt; | ATC &lt;dbl&gt; | Age &lt;dbl&gt; | Disease_type &lt;chr&gt; | TE_fold &lt;dbl&gt; | CD3 &lt;int&gt; | EM &lt;int&gt; | ... ... | S%P &lt;dbl&gt; | G%GE &lt;dbl&gt; | S%G &lt;dbl&gt; | %YE &lt;dbl&gt; | %G &lt;dbl&gt; | %E &lt;dbl&gt; | cyclenum &lt;dbl&gt; | dist &lt;dbl&gt; | Dim1 &lt;dbl&gt; | Dim2 &lt;dbl&gt; |\n",
       "|---|---|---|---|---|---|---|---|---|---|---|---|---|---|---|---|---|---|---|---|---|\n",
       "| CHP_349_02 | CHP_349 | X02 | 13.0 |  353.06 | 17 | CML    | 13.0 | 2767 | 717 | ... |  0 |  0 |  0 |  0 |  0 |  0 | 2 |         NA |  1.2598135 | -0.10878714 |\n",
       "| CHP_356_02 | CHP_356 | X02 |  1.1 |    0.00 |  9 | EWS    |  1.1 | 1028 |  66 | ... |  0 |  0 |  0 |  0 |  0 |  0 | 2 |         NA | -1.5496775 | -1.62201684 |\n",
       "| CHP_359_02 | CHP_359 | X02 |  0.0 |    0.00 | 15 | AML    |  0.0 |    0 |  NA | ... |  0 |  0 |  0 |  0 |  0 |  0 | 2 |         NA | -1.3972670 |  0.33760425 |\n",
       "| CHP_364_02 | CHP_364 | X02 |  1.9 |    0.00 | 16 | OS     |  1.9 | 2487 |  18 | ... |  0 |  0 |  0 |  0 |  0 |  0 | 2 |         NA | -1.7711105 | -2.01189426 |\n",
       "| CHP_376_02 | CHP_376 | X02 |  0.0 |    0.00 |  1 | AML    |  0.0 |    0 |  NA | ... |  0 |  0 |  0 |  0 |  0 |  0 | 2 |         NA | -5.2038223 |  2.62628243 |\n",
       "| CHP_377_02 | CHP_377 | X02 |  0.0 |    0.00 | 18 | HR ALL |  0.0 |    0 |  NA | ... |  0 |  0 |  4 |  0 |  0 |  0 | 2 |         NA | -0.9982564 |  0.09770054 |\n",
       "| CHP_380_02 | CHP_380 | X02 |  0.0 |    0.00 | 14 | HD     |  0.0 |    0 |  NA | ... |  0 |  0 |  0 |  0 |  0 |  0 | 2 |         NA |  0.5297514 | -0.82100889 |\n",
       "| CHP_402_02 | CHP_402 | X02 |  0.8 |  419.95 |  9 | HR ALL |  0.8 | 2487 |   0 | ... |  0 |  0 |  0 |  0 |  0 |  0 | 2 |         NA | -2.0013859 | -2.24301601 |\n",
       "| CHP_411_02 | CHP_411 | X02 |  3.2 |    0.00 | 16 | HR ALL |  3.2 |   50 |   1 | ... |  0 |  0 |  0 |  0 |  0 |  0 | 2 |         NA | -1.1457490 |  3.58210516 |\n",
       "| CHP_413_02 | CHP_413 | X02 |  3.2 |   93.42 | 19 | AML    |  3.2 | 2525 | 312 | ... |  0 |  0 |  0 |  0 |  0 |  0 | 2 |         NA | -1.4974582 | -1.25225860 |\n",
       "| CHP_418_02 | CHP_418 | X02 |  1.4 |    0.00 |  2 | NB     |  1.4 |  581 |  45 | ... |  0 |  0 |  0 |  0 |  0 |  0 | 2 |         NA | -0.8320231 | -2.01016301 |\n",
       "| CHP_338_02 | CHP_338 | X02 |  5.1 |  644.68 | 13 | AML    |  5.1 |    0 |  NA | ... | NA | NA | NA | NA | NA | NA | 2 |         NA |  0.1817024 |  0.78589829 |\n",
       "| CHP_395_02 | CHP_395 | X02 |  1.0 |      NA | 11 | T-ALL  |  1.0 | 2481 |  14 | ... | NA | NA | NA | NA | NA | NA | 2 |         NA | -0.1280389 | -2.70213600 |\n",
       "| CHP_338_03 | CHP_338 | X03 | 16.8 |  329.29 | 13 | AML    | 16.8 |    0 |  NA | ... |  0 |  0 |  0 |  0 |  0 |  0 | 3 | 1.22933250 | -1.0464149 |  0.84054655 |\n",
       "| CHP_353_03 | CHP_353 | X03 | 46.3 | 1213.70 |  6 | AML    | 46.3 | 2419 | 153 | ... |  0 |  0 |  0 |  0 |  0 |  0 | 3 |         NA | -1.2907741 |  2.93362428 |\n",
       "| CHP_356_03 | CHP_356 | X03 |  0.7 |    0.00 |  9 | EWS    |  0.7 | 1233 |  22 | ... |  0 |  0 |  0 |  0 |  0 |  0 | 3 | 2.42874491 |  0.8787800 | -1.65938107 |\n",
       "| CHP_359_03 | CHP_359 | X03 |  0.0 |    0.00 | 15 | AML    |  0.0 |    0 |  NA | ... |  0 |  0 |  0 |  0 | 98 |  0 | 3 | 8.06909276 | -8.3126510 |  4.49545492 |\n",
       "| CHP_376_03 | CHP_376 | X03 |  0.0 |    0.00 |  1 | AML    |  0.0 |    0 |  NA | ... |  0 |  0 |  0 |  0 |  0 |  0 | 3 | 4.42047587 | -1.4153805 |  0.34849494 |\n",
       "| CHP_380_03 | CHP_380 | X03 |  0.0 |    0.00 | 14 | HD     |  0.0 |    0 |  NA | ... |  0 |  0 |  0 |  0 |  0 | 16 | 3 | 0.08559146 |  0.6031051 | -0.86511255 |\n",
       "| CHP_402_03 | CHP_402 | X03 |  6.1 |    0.00 |  9 | HR ALL |  6.1 |   44 |   1 | ... |  0 |  0 |  0 |  0 |  0 |  0 | 3 | 6.33918948 |  3.8026398 |  0.30622095 |\n",
       "| CHP_411_03 | CHP_411 | X03 | 17.9 |   35.88 | 16 | HR ALL | 17.9 | 2348 |  39 | ... | NA | NA | NA | NA | NA | NA | 3 | 5.94144657 |  2.6718254 | -0.97057676 |\n",
       "| CHP_413_03 | CHP_413 | X03 |  1.5 |  685.36 | 19 | AML    |  1.5 | 2419 | 130 | ... | NA | NA | NA | NA | NA | NA | 3 | 0.90715653 | -0.7116611 | -0.79898626 |\n",
       "| CHP_418_03 | CHP_418 | X03 |  0.5 |    0.00 |  2 | NB     |  0.5 | 4018 |  34 | ... | NA | NA | NA | NA | NA | NA | 3 | 3.70979351 |  2.7167423 | -0.92903765 |\n",
       "| CHP_338_04 | CHP_338 | X04 |  1.9 |    0.00 | 13 | AML    |  1.9 |    0 |  NA | ... |  0 |  0 |  0 |  0 |  0 |  0 | 4 | 1.97495607 |  0.2476395 | -0.65139005 |\n",
       "| CHP_342_04 | CHP_342 | X04 |  0.0 |    0.00 |  1 | AML    |  0.0 |    0 |  NA | ... |  0 |  0 |  0 |  0 |  0 |  0 | 4 |         NA |  0.7239042 | -0.93774255 |\n",
       "| CHP_359_04 | CHP_359 | X04 |  0.0 |    0.00 | 15 | AML    |  0.0 |    0 |  NA | ... |  0 |  0 |  0 |  0 |  0 |  0 | 4 | 8.70306417 | -0.8539400 |  0.01093079 |\n",
       "| CHP_364_04 | CHP_364 | X04 |  4.0 |    0.00 | 16 | OS     |  4.0 | 2454 |   9 | ... |  0 |  0 |  0 |  0 |  0 |  0 | 4 |         NA |  0.8619321 | -0.85779285 |\n",
       "| CHP_356_04 | CHP_356 | X04 |  0.9 |    0.00 |  9 | EWS    |  0.9 | 3531 |  79 | ... | NA | NA | NA | NA | NA | NA | 4 | 0.54641711 |  1.3983300 | -1.49014928 |\n",
       "| CHP_390_04 | CHP_390 | X04 |   NA | 1096.68 |  5 | OS     |   NA |    0 |  NA | ... | NA | NA | NA | NA | NA | NA | 4 |         NA |  0.3806052 |  1.64622778 |\n",
       "| CHP_413_04 | CHP_413 | X04 |  2.6 |    0.00 | 19 | AML    |  2.6 | 1070 |  86 | ... | NA | NA | NA | NA | NA | NA | 4 | 2.40514858 |  1.1939512 |  0.66845428 |\n",
       "| CHP_418_04 | CHP_418 | X04 |  0.6 |    0.00 |  2 | NB     |  0.6 | 2295 |   4 | ... | NA | NA | NA | NA | NA | NA | 4 | 3.60419711 | -0.8266887 | -1.58807790 |\n",
       "| CHP_319_05 | CHP_319 | X05 |  1.2 |    0.00 |  1 | HR ALL |  1.2 |    0 |  NA | ... |  0 |  0 |  0 |  0 |  0 |  0 | 5 |         NA |  0.8345717 | -1.00428103 |\n",
       "| CHP_338_05 | CHP_338 | X05 |  0.0 |    0.00 | 13 | AML    |  0.0 |    0 |  NA | ... |  0 |  0 |  0 |  0 |  0 |  0 | 5 | 1.01707227 | -0.6240131 | -0.12731197 |\n",
       "| CHP_353_05 | CHP_353 | X05 | 14.6 | 1180.35 |  6 | AML    | 14.6 | 2092 | 513 | ... |  0 |  0 |  0 |  0 |  0 |  0 | 5 |         NA | -1.0508957 |  1.86717843 |\n",
       "| CHP_356_05 | CHP_356 | X05 |  0.6 |    0.00 |  9 | EWS    |  0.6 | 2465 |  91 | ... | NA | NA | NA | NA | NA | NA | 5 | 2.62107272 | -1.0891565 | -2.31624427 |\n",
       "| CHP_368_05 | CHP_368 | X05 |  0.0 |    0.00 |  1 | ARMS   |  0.0 |    0 |  NA | ... |  0 |  4 |  0 |  0 | 13 |  0 | 5 |         NA | -0.7844083 | -0.03087493 |\n",
       "| CHP_380_05 | CHP_380 | X05 |  0.0 |    0.00 | 14 | HD     |  0.0 |    0 |  NA | ... |  0 |  0 |  0 |  0 |  0 |  0 | 5 |         NA |  0.6280233 | -0.88009451 |\n",
       "| CHP_390_05 | CHP_390 | X05 |  0.0 |  791.48 |  5 | OS     |  0.0 | 2506 | 307 | ... |  0 |  0 |  0 |  0 |  0 |  0 | 5 | 1.01399015 | -0.5792563 |  1.31936090 |\n",
       "| CHP_364_05 | CHP_364 | X05 |  5.0 |    0.00 | 16 | OS     |  5.0 | 2119 | 103 | ... | NA | NA | NA | NA | NA | NA | 5 | 1.62970655 |  0.8064618 |  0.77096940 |\n",
       "| CHP_418_05 | CHP_418 | X05 |  1.2 |      NA |  2 | NB     |  1.2 | 2397 |   9 | ... | NA | NA | NA | NA | NA | NA | 5 | 1.41705635 | -0.7256992 | -0.17462475 |\n",
       "\n"
      ],
      "text/plain": [
       "   sample_id  Patient cycle FOLD ATC     Age Disease_type TE_fold CD3  EM  ...\n",
       "1  CHP_349_02 CHP_349 X02   13.0  353.06 17  CML          13.0    2767 717 ...\n",
       "2  CHP_356_02 CHP_356 X02    1.1    0.00  9  EWS           1.1    1028  66 ...\n",
       "3  CHP_359_02 CHP_359 X02    0.0    0.00 15  AML           0.0       0  NA ...\n",
       "4  CHP_364_02 CHP_364 X02    1.9    0.00 16  OS            1.9    2487  18 ...\n",
       "5  CHP_376_02 CHP_376 X02    0.0    0.00  1  AML           0.0       0  NA ...\n",
       "6  CHP_377_02 CHP_377 X02    0.0    0.00 18  HR ALL        0.0       0  NA ...\n",
       "7  CHP_380_02 CHP_380 X02    0.0    0.00 14  HD            0.0       0  NA ...\n",
       "8  CHP_402_02 CHP_402 X02    0.8  419.95  9  HR ALL        0.8    2487   0 ...\n",
       "9  CHP_411_02 CHP_411 X02    3.2    0.00 16  HR ALL        3.2      50   1 ...\n",
       "10 CHP_413_02 CHP_413 X02    3.2   93.42 19  AML           3.2    2525 312 ...\n",
       "11 CHP_418_02 CHP_418 X02    1.4    0.00  2  NB            1.4     581  45 ...\n",
       "12 CHP_338_02 CHP_338 X02    5.1  644.68 13  AML           5.1       0  NA ...\n",
       "13 CHP_395_02 CHP_395 X02    1.0      NA 11  T-ALL         1.0    2481  14 ...\n",
       "14 CHP_338_03 CHP_338 X03   16.8  329.29 13  AML          16.8       0  NA ...\n",
       "15 CHP_353_03 CHP_353 X03   46.3 1213.70  6  AML          46.3    2419 153 ...\n",
       "16 CHP_356_03 CHP_356 X03    0.7    0.00  9  EWS           0.7    1233  22 ...\n",
       "17 CHP_359_03 CHP_359 X03    0.0    0.00 15  AML           0.0       0  NA ...\n",
       "18 CHP_376_03 CHP_376 X03    0.0    0.00  1  AML           0.0       0  NA ...\n",
       "19 CHP_380_03 CHP_380 X03    0.0    0.00 14  HD            0.0       0  NA ...\n",
       "20 CHP_402_03 CHP_402 X03    6.1    0.00  9  HR ALL        6.1      44   1 ...\n",
       "21 CHP_411_03 CHP_411 X03   17.9   35.88 16  HR ALL       17.9    2348  39 ...\n",
       "22 CHP_413_03 CHP_413 X03    1.5  685.36 19  AML           1.5    2419 130 ...\n",
       "23 CHP_418_03 CHP_418 X03    0.5    0.00  2  NB            0.5    4018  34 ...\n",
       "24 CHP_338_04 CHP_338 X04    1.9    0.00 13  AML           1.9       0  NA ...\n",
       "25 CHP_342_04 CHP_342 X04    0.0    0.00  1  AML           0.0       0  NA ...\n",
       "26 CHP_359_04 CHP_359 X04    0.0    0.00 15  AML           0.0       0  NA ...\n",
       "27 CHP_364_04 CHP_364 X04    4.0    0.00 16  OS            4.0    2454   9 ...\n",
       "28 CHP_356_04 CHP_356 X04    0.9    0.00  9  EWS           0.9    3531  79 ...\n",
       "29 CHP_390_04 CHP_390 X04     NA 1096.68  5  OS             NA       0  NA ...\n",
       "30 CHP_413_04 CHP_413 X04    2.6    0.00 19  AML           2.6    1070  86 ...\n",
       "31 CHP_418_04 CHP_418 X04    0.6    0.00  2  NB            0.6    2295   4 ...\n",
       "32 CHP_319_05 CHP_319 X05    1.2    0.00  1  HR ALL        1.2       0  NA ...\n",
       "33 CHP_338_05 CHP_338 X05    0.0    0.00 13  AML           0.0       0  NA ...\n",
       "34 CHP_353_05 CHP_353 X05   14.6 1180.35  6  AML          14.6    2092 513 ...\n",
       "35 CHP_356_05 CHP_356 X05    0.6    0.00  9  EWS           0.6    2465  91 ...\n",
       "36 CHP_368_05 CHP_368 X05    0.0    0.00  1  ARMS          0.0       0  NA ...\n",
       "37 CHP_380_05 CHP_380 X05    0.0    0.00 14  HD            0.0       0  NA ...\n",
       "38 CHP_390_05 CHP_390 X05    0.0  791.48  5  OS            0.0    2506 307 ...\n",
       "39 CHP_364_05 CHP_364 X05    5.0    0.00 16  OS            5.0    2119 103 ...\n",
       "40 CHP_418_05 CHP_418 X05    1.2      NA  2  NB            1.2    2397   9 ...\n",
       "   S%P G%GE S%G %YE %G %E cyclenum dist       Dim1       Dim2       \n",
       "1   0   0    0   0   0  0 2                NA  1.2598135 -0.10878714\n",
       "2   0   0    0   0   0  0 2                NA -1.5496775 -1.62201684\n",
       "3   0   0    0   0   0  0 2                NA -1.3972670  0.33760425\n",
       "4   0   0    0   0   0  0 2                NA -1.7711105 -2.01189426\n",
       "5   0   0    0   0   0  0 2                NA -5.2038223  2.62628243\n",
       "6   0   0    4   0   0  0 2                NA -0.9982564  0.09770054\n",
       "7   0   0    0   0   0  0 2                NA  0.5297514 -0.82100889\n",
       "8   0   0    0   0   0  0 2                NA -2.0013859 -2.24301601\n",
       "9   0   0    0   0   0  0 2                NA -1.1457490  3.58210516\n",
       "10  0   0    0   0   0  0 2                NA -1.4974582 -1.25225860\n",
       "11  0   0    0   0   0  0 2                NA -0.8320231 -2.01016301\n",
       "12 NA  NA   NA  NA  NA NA 2                NA  0.1817024  0.78589829\n",
       "13 NA  NA   NA  NA  NA NA 2                NA -0.1280389 -2.70213600\n",
       "14  0   0    0   0   0  0 3        1.22933250 -1.0464149  0.84054655\n",
       "15  0   0    0   0   0  0 3                NA -1.2907741  2.93362428\n",
       "16  0   0    0   0   0  0 3        2.42874491  0.8787800 -1.65938107\n",
       "17  0   0    0   0  98  0 3        8.06909276 -8.3126510  4.49545492\n",
       "18  0   0    0   0   0  0 3        4.42047587 -1.4153805  0.34849494\n",
       "19  0   0    0   0   0 16 3        0.08559146  0.6031051 -0.86511255\n",
       "20  0   0    0   0   0  0 3        6.33918948  3.8026398  0.30622095\n",
       "21 NA  NA   NA  NA  NA NA 3        5.94144657  2.6718254 -0.97057676\n",
       "22 NA  NA   NA  NA  NA NA 3        0.90715653 -0.7116611 -0.79898626\n",
       "23 NA  NA   NA  NA  NA NA 3        3.70979351  2.7167423 -0.92903765\n",
       "24  0   0    0   0   0  0 4        1.97495607  0.2476395 -0.65139005\n",
       "25  0   0    0   0   0  0 4                NA  0.7239042 -0.93774255\n",
       "26  0   0    0   0   0  0 4        8.70306417 -0.8539400  0.01093079\n",
       "27  0   0    0   0   0  0 4                NA  0.8619321 -0.85779285\n",
       "28 NA  NA   NA  NA  NA NA 4        0.54641711  1.3983300 -1.49014928\n",
       "29 NA  NA   NA  NA  NA NA 4                NA  0.3806052  1.64622778\n",
       "30 NA  NA   NA  NA  NA NA 4        2.40514858  1.1939512  0.66845428\n",
       "31 NA  NA   NA  NA  NA NA 4        3.60419711 -0.8266887 -1.58807790\n",
       "32  0   0    0   0   0  0 5                NA  0.8345717 -1.00428103\n",
       "33  0   0    0   0   0  0 5        1.01707227 -0.6240131 -0.12731197\n",
       "34  0   0    0   0   0  0 5                NA -1.0508957  1.86717843\n",
       "35 NA  NA   NA  NA  NA NA 5        2.62107272 -1.0891565 -2.31624427\n",
       "36  0   4    0   0  13  0 5                NA -0.7844083 -0.03087493\n",
       "37  0   0    0   0   0  0 5                NA  0.6280233 -0.88009451\n",
       "38  0   0    0   0   0  0 5        1.01399015 -0.5792563  1.31936090\n",
       "39 NA  NA   NA  NA  NA NA 5        1.62970655  0.8064618  0.77096940\n",
       "40 NA  NA   NA  NA  NA NA 5        1.41705635 -0.7256992 -0.17462475"
      ]
     },
     "metadata": {},
     "output_type": "display_data"
    }
   ],
   "source": [
    "sample_df[ sample_df$Relapse == 1,]"
   ]
  },
  {
   "cell_type": "code",
   "execution_count": null,
   "metadata": {
    "vscode": {
     "languageId": "r"
    }
   },
   "outputs": [
    {
     "data": {
      "image/png": "[encoded data removed]",
      "text/plain": [
       "plot without title"
      ]
     },
     "metadata": {
      "image/png": {
       "height": 420,
       "width": 420
      }
     },
     "output_type": "display_data"
    }
   ],
   "source": [
    "ggplot(data = sample_df, aes(x = Dim1, y = Dim2)) + geom_point(alpha = 0.2, color = \"grey\") +\n",
    "geom_path(data = sample_df[sample_df$Patient %in% c(\"CHP_418\"),], aes(group = Patient, color = cycle), \n",
    "arrow = arrow(length=unit(0.30,\"cm\"), ends=\"last\", type = \"closed\")) +\n",
    "myplot + myaxis + scale_color_manual(values = c(\"red\", \"blue\", \"green\", \n",
    "\"orange\", \"purple\", \"black\", \"brown\", \"pink\", \"grey\", \"yellow\") )"
   ]
  },
  {
   "cell_type": "code",
   "execution_count": null,
   "metadata": {
    "vscode": {
     "languageId": "r"
    }
   },
   "outputs": [
    {
     "data": {
      "text/html": [
       "<table class=\"dataframe\">\n",
       "<caption>A tibble: 6 x 8835</caption>\n",
       "<thead>\n",
       "\t<tr><th scope=col>sample_id</th><th scope=col>Patient</th><th scope=col>cycle</th><th scope=col>FOLD</th><th scope=col>ATC</th><th scope=col>Age</th><th scope=col>Disease_type</th><th scope=col>TE_fold</th><th scope=col>CD3</th><th scope=col>EM</th><th scope=col>...</th><th scope=col>S%G</th><th scope=col>%YE</th><th scope=col>%G</th><th scope=col>%E</th><th scope=col>cyclenum</th><th scope=col>dist</th><th scope=col>sumdist_n</th><th scope=col>sumdist</th><th scope=col>meddist_n</th><th scope=col>meddist</th></tr>\n",
       "\t<tr><th scope=col>&lt;chr&gt;</th><th scope=col>&lt;chr&gt;</th><th scope=col>&lt;chr&gt;</th><th scope=col>&lt;dbl&gt;</th><th scope=col>&lt;dbl&gt;</th><th scope=col>&lt;dbl&gt;</th><th scope=col>&lt;chr&gt;</th><th scope=col>&lt;dbl&gt;</th><th scope=col>&lt;int&gt;</th><th scope=col>&lt;int&gt;</th><th scope=col>...</th><th scope=col>&lt;dbl&gt;</th><th scope=col>&lt;dbl&gt;</th><th scope=col>&lt;dbl&gt;</th><th scope=col>&lt;dbl&gt;</th><th scope=col>&lt;dbl&gt;</th><th scope=col>&lt;dbl&gt;</th><th scope=col>&lt;dbl&gt;</th><th scope=col>&lt;dbl&gt;</th><th scope=col>&lt;dbl&gt;</th><th scope=col>&lt;dbl&gt;</th></tr>\n",
       "</thead>\n",
       "<tbody>\n",
       "\t<tr><td>CHP_392_03</td><td>CHP_392</td><td>X03</td><td>4.0</td><td>  75.24</td><td> 8.0</td><td>ALL   </td><td>4.0</td><td>2415</td><td> 16</td><td>...</td><td>NA</td><td>NA</td><td>NA</td><td>NA</td><td>3</td><td>NA</td><td>1.3709877</td><td>2.7419753</td><td>1.3709877</td><td>2.7419753</td></tr>\n",
       "\t<tr><td>CHP_393_03</td><td>CHP_393</td><td>X03</td><td>0.7</td><td>  44.80</td><td>10.0</td><td>OS    </td><td>0.7</td><td> 165</td><td>  3</td><td>...</td><td>NA</td><td>NA</td><td>NA</td><td>NA</td><td>3</td><td>NA</td><td>0.9878258</td><td>2.9634774</td><td>0.4939129</td><td>1.4817387</td></tr>\n",
       "\t<tr><td>CHP_398_03</td><td>CHP_398</td><td>X03</td><td>0.9</td><td> 158.40</td><td> 6.0</td><td>ALL   </td><td>0.9</td><td>2507</td><td> 88</td><td>...</td><td>NA</td><td>NA</td><td>NA</td><td>NA</td><td>3</td><td>NA</td><td>1.7847679</td><td>5.3543036</td><td>0.8923839</td><td>2.6771518</td></tr>\n",
       "\t<tr><td>CHP_425_03</td><td>CHP_425</td><td>X03</td><td>2.6</td><td>   0.00</td><td> 0.5</td><td>WILMS </td><td>2.6</td><td>2374</td><td>280</td><td>...</td><td>NA</td><td>NA</td><td>NA</td><td>NA</td><td>3</td><td>NA</td><td>0.6913064</td><td>1.3826128</td><td>0.6913064</td><td>1.3826128</td></tr>\n",
       "\t<tr><td>CHP_331_04</td><td>CHP_331</td><td>X04</td><td>0.0</td><td>   0.00</td><td> 5.0</td><td>SR ALL</td><td>0.0</td><td>   0</td><td> NA</td><td>...</td><td> 0</td><td> 0</td><td> 0</td><td> 0</td><td>4</td><td>NA</td><td>0.2692971</td><td>0.5385942</td><td>0.2692971</td><td>0.5385942</td></tr>\n",
       "\t<tr><td>CHP_390_04</td><td>CHP_390</td><td>X04</td><td> NA</td><td>1096.68</td><td> 5.0</td><td>OS    </td><td> NA</td><td>   0</td><td> NA</td><td>...</td><td>NA</td><td>NA</td><td>NA</td><td>NA</td><td>4</td><td>NA</td><td>0.5069951</td><td>1.0139902</td><td>0.5069951</td><td>1.0139902</td></tr>\n",
       "</tbody>\n",
       "</table>\n"
      ],
      "text/latex": [
       "A tibble: 6 x 8835\n",
       "\\begin{tabular}{lllllllllllllllllllll}\n",
       " sample\\_id & Patient & cycle & FOLD & ATC & Age & Disease\\_type & TE\\_fold & CD3 & EM & ... & S\\%G & \\%YE & \\%G & \\%E & cyclenum & dist & sumdist\\_n & sumdist & meddist\\_n & meddist\\\\\n",
       " <chr> & <chr> & <chr> & <dbl> & <dbl> & <dbl> & <chr> & <dbl> & <int> & <int> & ... & <dbl> & <dbl> & <dbl> & <dbl> & <dbl> & <dbl> & <dbl> & <dbl> & <dbl> & <dbl>\\\\\n",
       "\\hline\n",
       "\t CHP\\_392\\_03 & CHP\\_392 & X03 & 4.0 &   75.24 &  8.0 & ALL    & 4.0 & 2415 &  16 & ... & NA & NA & NA & NA & 3 & NA & 1.3709877 & 2.7419753 & 1.3709877 & 2.7419753\\\\\n",
       "\t CHP\\_393\\_03 & CHP\\_393 & X03 & 0.7 &   44.80 & 10.0 & OS     & 0.7 &  165 &   3 & ... & NA & NA & NA & NA & 3 & NA & 0.9878258 & 2.9634774 & 0.4939129 & 1.4817387\\\\\n",
       "\t CHP\\_398\\_03 & CHP\\_398 & X03 & 0.9 &  158.40 &  6.0 & ALL    & 0.9 & 2507 &  88 & ... & NA & NA & NA & NA & 3 & NA & 1.7847679 & 5.3543036 & 0.8923839 & 2.6771518\\\\\n",
       "\t CHP\\_425\\_03 & CHP\\_425 & X03 & 2.6 &    0.00 &  0.5 & WILMS  & 2.6 & 2374 & 280 & ... & NA & NA & NA & NA & 3 & NA & 0.6913064 & 1.3826128 & 0.6913064 & 1.3826128\\\\\n",
       "\t CHP\\_331\\_04 & CHP\\_331 & X04 & 0.0 &    0.00 &  5.0 & SR ALL & 0.0 &    0 &  NA & ... &  0 &  0 &  0 &  0 & 4 & NA & 0.2692971 & 0.5385942 & 0.2692971 & 0.5385942\\\\\n",
       "\t CHP\\_390\\_04 & CHP\\_390 & X04 &  NA & 1096.68 &  5.0 & OS     &  NA &    0 &  NA & ... & NA & NA & NA & NA & 4 & NA & 0.5069951 & 1.0139902 & 0.5069951 & 1.0139902\\\\\n",
       "\\end{tabular}\n"
      ],
      "text/markdown": [
       "\n",
       "A tibble: 6 x 8835\n",
       "\n",
       "| sample_id &lt;chr&gt; | Patient &lt;chr&gt; | cycle &lt;chr&gt; | FOLD &lt;dbl&gt; | ATC &lt;dbl&gt; | Age &lt;dbl&gt; | Disease_type &lt;chr&gt; | TE_fold &lt;dbl&gt; | CD3 &lt;int&gt; | EM &lt;int&gt; | ... ... | S%G &lt;dbl&gt; | %YE &lt;dbl&gt; | %G &lt;dbl&gt; | %E &lt;dbl&gt; | cyclenum &lt;dbl&gt; | dist &lt;dbl&gt; | sumdist_n &lt;dbl&gt; | sumdist &lt;dbl&gt; | meddist_n &lt;dbl&gt; | meddist &lt;dbl&gt; |\n",
       "|---|---|---|---|---|---|---|---|---|---|---|---|---|---|---|---|---|---|---|---|---|\n",
       "| CHP_392_03 | CHP_392 | X03 | 4.0 |   75.24 |  8.0 | ALL    | 4.0 | 2415 |  16 | ... | NA | NA | NA | NA | 3 | NA | 1.3709877 | 2.7419753 | 1.3709877 | 2.7419753 |\n",
       "| CHP_393_03 | CHP_393 | X03 | 0.7 |   44.80 | 10.0 | OS     | 0.7 |  165 |   3 | ... | NA | NA | NA | NA | 3 | NA | 0.9878258 | 2.9634774 | 0.4939129 | 1.4817387 |\n",
       "| CHP_398_03 | CHP_398 | X03 | 0.9 |  158.40 |  6.0 | ALL    | 0.9 | 2507 |  88 | ... | NA | NA | NA | NA | 3 | NA | 1.7847679 | 5.3543036 | 0.8923839 | 2.6771518 |\n",
       "| CHP_425_03 | CHP_425 | X03 | 2.6 |    0.00 |  0.5 | WILMS  | 2.6 | 2374 | 280 | ... | NA | NA | NA | NA | 3 | NA | 0.6913064 | 1.3826128 | 0.6913064 | 1.3826128 |\n",
       "| CHP_331_04 | CHP_331 | X04 | 0.0 |    0.00 |  5.0 | SR ALL | 0.0 |    0 |  NA | ... |  0 |  0 |  0 |  0 | 4 | NA | 0.2692971 | 0.5385942 | 0.2692971 | 0.5385942 |\n",
       "| CHP_390_04 | CHP_390 | X04 |  NA | 1096.68 |  5.0 | OS     |  NA |    0 |  NA | ... | NA | NA | NA | NA | 4 | NA | 0.5069951 | 1.0139902 | 0.5069951 | 1.0139902 |\n",
       "\n"
      ],
      "text/plain": [
       "  sample_id  Patient cycle FOLD ATC     Age  Disease_type TE_fold CD3  EM  ...\n",
       "1 CHP_392_03 CHP_392 X03   4.0    75.24  8.0 ALL          4.0     2415  16 ...\n",
       "2 CHP_393_03 CHP_393 X03   0.7    44.80 10.0 OS           0.7      165   3 ...\n",
       "3 CHP_398_03 CHP_398 X03   0.9   158.40  6.0 ALL          0.9     2507  88 ...\n",
       "4 CHP_425_03 CHP_425 X03   2.6     0.00  0.5 WILMS        2.6     2374 280 ...\n",
       "5 CHP_331_04 CHP_331 X04   0.0     0.00  5.0 SR ALL       0.0        0  NA ...\n",
       "6 CHP_390_04 CHP_390 X04    NA  1096.68  5.0 OS            NA        0  NA ...\n",
       "  S%G %YE %G %E cyclenum dist sumdist_n sumdist   meddist_n meddist  \n",
       "1 NA  NA  NA NA 3        NA   1.3709877 2.7419753 1.3709877 2.7419753\n",
       "2 NA  NA  NA NA 3        NA   0.9878258 2.9634774 0.4939129 1.4817387\n",
       "3 NA  NA  NA NA 3        NA   1.7847679 5.3543036 0.8923839 2.6771518\n",
       "4 NA  NA  NA NA 3        NA   0.6913064 1.3826128 0.6913064 1.3826128\n",
       "5  0   0   0  0 4        NA   0.2692971 0.5385942 0.2692971 0.5385942\n",
       "6 NA  NA  NA NA 4        NA   0.5069951 1.0139902 0.5069951 1.0139902"
      ]
     },
     "metadata": {},
     "output_type": "display_data"
    }
   ],
   "source": [
    "tail(mypatients)"
   ]
  },
  {
   "cell_type": "code",
   "execution_count": null,
   "metadata": {
    "vscode": {
     "languageId": "r"
    }
   },
   "outputs": [],
   "source": [
    "df_pre$meddist_n <- mypatients$meddist_n[ match(df_pre$Patient, mypatients$Patient)]"
   ]
  },
  {
   "cell_type": "code",
   "execution_count": null,
   "metadata": {
    "vscode": {
     "languageId": "r"
    }
   },
   "outputs": [],
   "source": [
    "df_pre_narm <- df_pre[!is.na(df_pre$meddist_n), ]\n",
    "df_pre_narm$DimDiff <- df_pre_narm$Dim1 - df_pre_narm$Dim2"
   ]
  },
  {
   "cell_type": "code",
   "execution_count": null,
   "metadata": {
    "vscode": {
     "languageId": "r"
    }
   },
   "outputs": [
    {
     "data": {
      "text/plain": [
       "\n",
       " 0  1 \n",
       "56  2 "
      ]
     },
     "metadata": {},
     "output_type": "display_data"
    }
   ],
   "source": [
    "table(df_pre_narm$vital_status)"
   ]
  },
  {
   "cell_type": "code",
   "execution_count": null,
   "metadata": {
    "vscode": {
     "languageId": "r"
    }
   },
   "outputs": [
    {
     "data": {
      "image/png": "[encoded data removed]",
      "text/plain": [
       "plot without title"
      ]
     },
     "metadata": {
      "image/png": {
       "height": 420,
       "width": 420
      }
     },
     "output_type": "display_data"
    }
   ],
   "source": [
    "ggplot(df_pre_narm, aes(x = DimDiff, y = meddist_n, color = as.factor(Relapse)) )+ geom_point() + theme_bw()"
   ]
  },
  {
   "cell_type": "code",
   "execution_count": null,
   "metadata": {
    "vscode": {
     "languageId": "r"
    }
   },
   "outputs": [
    {
     "data": {
      "text/plain": [
       "Logistic Regression Model\n",
       "\n",
       "rms::lrm(formula = Relapse ~ Dim1 * Dim2, data = df_pre_narm)\n",
       "\n",
       "                      Model Likelihood     Discrimination    Rank Discrim.    \n",
       "                            Ratio Test            Indexes          Indexes    \n",
       "Obs            58    LR chi2      0.96     R2       0.030    C       0.603    \n",
       " 0             50    d.f.            3     R2(3,58) 0.000    Dxy     0.205    \n",
       " 1              8    Pr(> chi2) 0.8113    R2(3,20.7)0.000    gamma   0.205    \n",
       "max |deriv| 3e-09                          Brier    0.117    tau-a   0.050    \n",
       "\n",
       "            Coef    S.E.   Wald Z Pr(>|Z|)\n",
       "Intercept   -1.8217 0.3921 -4.65  <0.0001 \n",
       "Dim1        -0.0122 0.2571 -0.05  0.9621  \n",
       "Dim2         0.3120 0.4330  0.72  0.4711  \n",
       "Dim1 * Dim2  0.0049 0.1200  0.04  0.9677  \n"
      ]
     },
     "metadata": {},
     "output_type": "display_data"
    }
   ],
   "source": [
    "rms::lrm(Relapse ~ Dim1 * Dim2, data = df_pre_narm)"
   ]
  },
  {
   "cell_type": "code",
   "execution_count": null,
   "metadata": {
    "vscode": {
     "languageId": "r"
    }
   },
   "outputs": [],
   "source": []
  },
  {
   "cell_type": "code",
   "execution_count": null,
   "metadata": {
    "vscode": {
     "languageId": "r"
    }
   },
   "outputs": [
    {
     "name": "stderr",
     "output_type": "stream",
     "text": [
      "Loading required package: Hmisc\n",
      "\n",
      "\n",
      "Attaching package: ‘Hmisc’\n",
      "\n",
      "\n",
      "The following objects are masked from ‘package:dplyr’:\n",
      "\n",
      "    src, summarize\n",
      "\n",
      "\n",
      "The following objects are masked from ‘package:base’:\n",
      "\n",
      "    format.pval, units\n",
      "\n",
      "\n"
     ]
    }
   ],
   "source": [
    "library(rms)"
   ]
  },
  {
   "cell_type": "code",
   "execution_count": null,
   "metadata": {
    "vscode": {
     "languageId": "r"
    }
   },
   "outputs": [],
   "source": [
    "options(datadist = mypatients)"
   ]
  },
  {
   "cell_type": "code",
   "execution_count": null,
   "metadata": {
    "vscode": {
     "languageId": "r"
    }
   },
   "outputs": [
    {
     "ename": "ERROR",
     "evalue": "Error in exists(XDATADIST): invalid first argument\n",
     "output_type": "error",
     "traceback": [
      "Error in exists(XDATADIST): invalid first argument\nTraceback:\n",
      "1. lrm(Relapse ~ meddist_n, data = mypatients)",
      "2. Design(data, formula = formula, specials = \"strat\")",
      "3. exists(XDATADIST)"
     ]
    }
   ],
   "source": [
    "lrm(Relapse ~ meddist_n, data = mypatients)"
   ]
  },
  {
   "cell_type": "code",
   "execution_count": null,
   "metadata": {
    "vscode": {
     "languageId": "r"
    }
   },
   "outputs": [],
   "source": [
    "sample_df$meddist_n <- allpts_no0$meddist_n[ match(sample_df$Patient, allpts_no0$Var1)]"
   ]
  },
  {
   "cell_type": "code",
   "execution_count": null,
   "metadata": {
    "vscode": {
     "languageId": "r"
    }
   },
   "outputs": [],
   "source": [
    "sample_df$ave <- rowMeans(sample_df[, c(\"Dim1\", \"Dim2\")])"
   ]
  },
  {
   "cell_type": "code",
   "execution_count": null,
   "metadata": {
    "vscode": {
     "languageId": "r"
    }
   },
   "outputs": [
    {
     "name": "stderr",
     "output_type": "stream",
     "text": [
      "Warning message:\n",
      "“\u001b[1m\u001b[22mRemoved 22 rows containing missing values (`geom_point()`).”\n"
     ]
    },
    {
     "data": {
      "image/png": "[encoded data removed]",
      "text/plain": [
       "plot without title"
      ]
     },
     "metadata": {
      "image/png": {
       "height": 420,
       "width": 420
      }
     },
     "output_type": "display_data"
    }
   ],
   "source": [
    "ggplot(sample_df[ sample_df$cycle == \"X01\",], aes(x = ave, y = meddist_n, color = as.factor(Relapse))) + geom_point(size = 1) + theme_bw() + theme(legend.position = \"none\")"
   ]
  },
  {
   "cell_type": "code",
   "execution_count": null,
   "metadata": {
    "vscode": {
     "languageId": "r"
    }
   },
   "outputs": [
    {
     "name": "stderr",
     "output_type": "stream",
     "text": [
      "\u001b[1m\u001b[22m`geom_path()`: Each group consists of only one observation.\n",
      "\u001b[36mℹ\u001b[39m Do you need to adjust the \u001b[32mgroup\u001b[39m aesthetic?\n"
     ]
    },
    {
     "data": {
      "image/png": "[encoded data removed]",
      "text/plain": [
       "plot without title"
      ]
     },
     "metadata": {
      "image/png": {
       "height": 420,
       "width": 420
      }
     },
     "output_type": "display_data"
    }
   ],
   "source": [
    "ggplot(data = sample_df, aes(x = Dim1, y = Dim2)) + geom_point(alpha = 0.2, color = \"grey\") +\n",
    "geom_path(data = sample_df[sample_df$Patient %in% c(\"CHP_385\"),], aes(group = Patient, color = cycle), \n",
    "arrow = arrow(length=unit(0.30,\"cm\"), ends=\"last\", type = \"closed\")) +\n",
    "myplot + myaxis + scale_color_manual(values = c(\"red\", \"blue\", \"green\", \n",
    "\"orange\", \"purple\", \"black\", \"brown\", \"pink\", \"grey\", \"yellow\") )"
   ]
  },
  {
   "cell_type": "markdown",
   "metadata": {},
   "source": [
    "Main"
   ]
  },
  {
   "cell_type": "code",
   "execution_count": null,
   "metadata": {
    "vscode": {
     "languageId": "r"
    }
   },
   "outputs": [],
   "source": [
    "myvars <- sort(Rfast::colVars(pbmc_hla_v_j_gliph[,c(cols_gliph, cols_hla, cols_flow, cols_others, cols_tbj, cols_tbv)], na.rm = T), decreasing = TRUE)"
   ]
  },
  {
   "cell_type": "code",
   "execution_count": null,
   "metadata": {
    "vscode": {
     "languageId": "r"
    }
   },
   "outputs": [],
   "source": [
    "rmcols <- names(myvars)[myvars < 0.25] # 1th percentile"
   ]
  },
  {
   "cell_type": "code",
   "execution_count": null,
   "metadata": {
    "vscode": {
     "languageId": "r"
    }
   },
   "outputs": [],
   "source": [
    "hist(log10(myvars), breaks = 100)"
   ]
  },
  {
   "cell_type": "code",
   "execution_count": null,
   "metadata": {
    "vscode": {
     "languageId": "r"
    }
   },
   "outputs": [],
   "source": [
    "summary(myvars)"
   ]
  },
  {
   "cell_type": "code",
   "execution_count": null,
   "metadata": {
    "vscode": {
     "languageId": "r"
    }
   },
   "outputs": [],
   "source": [
    "# cols_gliph <- cols_gliph[which(!cols_gliph %in% rmcols)] "
   ]
  },
  {
   "cell_type": "code",
   "execution_count": null,
   "metadata": {
    "vscode": {
     "languageId": "r"
    }
   },
   "outputs": [],
   "source": [
    "pbmc_flowonly <- imputepca.fx(pbmc_hla_v_j_gliph, c(cols_flow))"
   ]
  },
  {
   "cell_type": "code",
   "execution_count": null,
   "metadata": {
    "vscode": {
     "languageId": "r"
    }
   },
   "outputs": [],
   "source": [
    "# pbmc_tcronly <- imputepca.fx(pbmc_hla_v_j_gliph, c(cols_others, cols_tbv, cols_tbj)) # no need to impute, there are no NAs\n",
    "set.seed(123)\n",
    "# pbmc_tcrhla <- imputepca.fx(pbmc_hla_v_j_gliph, c(cols_others, cols_tbv, cols_tbj, cols_hla))"
   ]
  },
  {
   "cell_type": "code",
   "execution_count": null,
   "metadata": {
    "vscode": {
     "languageId": "r"
    }
   },
   "outputs": [],
   "source": [
    "pbmc_all <- imputepca.fx(pbmc_hla_v_j_gliph, c(cols_flow, cols_others, cols_tbv, cols_tbj))"
   ]
  },
  {
   "cell_type": "code",
   "execution_count": null,
   "metadata": {
    "vscode": {
     "languageId": "r"
    }
   },
   "outputs": [
    {
     "data": {
      "text/plain": [
       "[[1]]\n",
       "Logistic Regression Model\n",
       "\n",
       "rms::lrm(formula = Relapse ~ sumdist_n, data = mypatients)\n",
       "\n",
       "                      Model Likelihood     Discrimination    Rank Discrim.    \n",
       "                            Ratio Test            Indexes          Indexes    \n",
       "Obs            53    LR chi2      0.02     R2       0.001    C       0.512    \n",
       " 0             45    d.f.            1     R2(1,53) 0.000    Dxy     0.025    \n",
       " 1              8    Pr(> chi2) 0.8764    R2(1,20.4)0.000    gamma   0.025    \n",
       "max |deriv| 4e-05                          Brier    0.128    tau-a   0.007    \n",
       "\n",
       "          Coef    S.E.   Wald Z Pr(>|Z|)\n",
       "Intercept -1.8062 0.6392 -2.83  0.0047  \n",
       "sumdist_n  0.0431 0.2744  0.16  0.8753  \n",
       "\n",
       "\n",
       "[[2]]\n",
       "Logistic Regression Model\n",
       "\n",
       "rms::lrm(formula = Relapse ~ meddist_n, data = mypatients)\n",
       "\n",
       "                      Model Likelihood     Discrimination    Rank Discrim.    \n",
       "                            Ratio Test            Indexes          Indexes    \n",
       "Obs            53    LR chi2      3.80     R2       0.121    C       0.597    \n",
       " 0             45    d.f.            1     R2(1,53) 0.051    Dxy     0.194    \n",
       " 1              8    Pr(> chi2) 0.0512    R2(1,20.4)0.128    gamma   0.194    \n",
       "max |deriv| 1e-08                          Brier    0.115    tau-a   0.051    \n",
       "\n",
       "          Coef    S.E.   Wald Z Pr(>|Z|)\n",
       "Intercept -2.7910 0.7414 -3.76  0.0002  \n",
       "meddist_n  0.9775 0.5223  1.87  0.0612  \n",
       "\n"
      ]
     },
     "metadata": {},
     "output_type": "display_data"
    }
   ],
   "source": [
    "pbmc_flowonly[5:6]"
   ]
  },
  {
   "cell_type": "code",
   "execution_count": null,
   "metadata": {
    "vscode": {
     "languageId": "r"
    }
   },
   "outputs": [],
   "source": [
    "cfdna_hla_v_j_gliph <- readr::read_rds(paste0(datapath, \"/int_cfdna_hla_v_j_gliph.rds\"))"
   ]
  },
  {
   "cell_type": "code",
   "execution_count": null,
   "metadata": {
    "vscode": {
     "languageId": "r"
    }
   },
   "outputs": [],
   "source": [
    "rownames(cfdna_hla_v_j_gliph) <- cfdna_hla_v_j_gliph$sample_id"
   ]
  },
  {
   "cell_type": "code",
   "execution_count": null,
   "metadata": {
    "vscode": {
     "languageId": "r"
    }
   },
   "outputs": [
    {
     "data": {
      "text/html": [
       "<style>\n",
       ".list-inline {list-style: none; margin:0; padding: 0}\n",
       ".list-inline>li {display: inline-block}\n",
       ".list-inline>li:not(:last-child)::after {content: \"\\00b7\"; padding: 0 .5ex}\n",
       "</style>\n",
       "<ol class=list-inline><li>274</li><li>1495</li></ol>\n"
      ],
      "text/latex": [
       "\\begin{enumerate*}\n",
       "\\item 274\n",
       "\\item 1495\n",
       "\\end{enumerate*}\n"
      ],
      "text/markdown": [
       "1. 274\n",
       "2. 1495\n",
       "\n",
       "\n"
      ],
      "text/plain": [
       "[1]  274 1495"
      ]
     },
     "metadata": {},
     "output_type": "display_data"
    }
   ],
   "source": [
    "dim(cfdna_hla_v_j_gliph)\n"
   ]
  },
  {
   "cell_type": "code",
   "execution_count": null,
   "metadata": {
    "vscode": {
     "languageId": "r"
    }
   },
   "outputs": [
    {
     "data": {
      "text/plain": [
       "\n",
       "  0   1 \n",
       "226  48 "
      ]
     },
     "metadata": {},
     "output_type": "display_data"
    }
   ],
   "source": [
    "table(cfdna_hla_v_j_gliph$Relapse)"
   ]
  },
  {
   "cell_type": "code",
   "execution_count": null,
   "metadata": {
    "vscode": {
     "languageId": "r"
    }
   },
   "outputs": [],
   "source": [
    "cols_tbv <- colnames(cfdna_hla_v_j_gliph)[which(grepl(\"TRBV\", colnames(cfdna_hla_v_j_gliph)) ) ]\n",
    "cols_tbj <- colnames(cfdna_hla_v_j_gliph)[which(grepl(\"TRBJ\", colnames(cfdna_hla_v_j_gliph)) ) ]\n",
    "cols_flow <- c('ATC', 'Naïve%','SCM%','CM%','EM%','TE%','PD1%','LAG3%','TIM3%')\n",
    "cols_others <- c(\"log10shann\")\n",
    "cols_hla <- colnames(cfdna_hla_v_j_gliph)[which(grepl(\":0\", colnames(cfdna_hla_v_j_gliph)) ) ]"
   ]
  },
  {
   "cell_type": "code",
   "execution_count": null,
   "metadata": {
    "vscode": {
     "languageId": "r"
    }
   },
   "outputs": [
    {
     "data": {
      "text/html": [
       "<style>\n",
       ".list-inline {list-style: none; margin:0; padding: 0}\n",
       ".list-inline>li {display: inline-block}\n",
       ".list-inline>li:not(:last-child)::after {content: \"\\00b7\"; padding: 0 .5ex}\n",
       "</style>\n",
       "<ol class=list-inline><li>258</li><li>259</li><li>260</li><li>261</li><li>262</li><li>263</li><li>264</li><li>265</li><li>266</li><li>267</li><li>268</li><li>269</li><li>270</li></ol>\n"
      ],
      "text/latex": [
       "\\begin{enumerate*}\n",
       "\\item 258\n",
       "\\item 259\n",
       "\\item 260\n",
       "\\item 261\n",
       "\\item 262\n",
       "\\item 263\n",
       "\\item 264\n",
       "\\item 265\n",
       "\\item 266\n",
       "\\item 267\n",
       "\\item 268\n",
       "\\item 269\n",
       "\\item 270\n",
       "\\end{enumerate*}\n"
      ],
      "text/markdown": [
       "1. 258\n",
       "2. 259\n",
       "3. 260\n",
       "4. 261\n",
       "5. 262\n",
       "6. 263\n",
       "7. 264\n",
       "8. 265\n",
       "9. 266\n",
       "10. 267\n",
       "11. 268\n",
       "12. 269\n",
       "13. 270\n",
       "\n",
       "\n"
      ],
      "text/plain": [
       " [1] 258 259 260 261 262 263 264 265 266 267 268 269 270"
      ]
     },
     "metadata": {},
     "output_type": "display_data"
    }
   ],
   "source": [
    "which(grepl(\"TRBJ\", colnames(cfdna_hla_v_j_gliph) ) )"
   ]
  },
  {
   "cell_type": "code",
   "execution_count": null,
   "metadata": {
    "vscode": {
     "languageId": "r"
    }
   },
   "outputs": [
    {
     "data": {
      "text/html": [
       "<style>\n",
       ".list-inline {list-style: none; margin:0; padding: 0}\n",
       ".list-inline>li {display: inline-block}\n",
       ".list-inline>li:not(:last-child)::after {content: \"\\00b7\"; padding: 0 .5ex}\n",
       "</style>\n",
       "<ol class=list-inline><li>'SLG%E'</li><li>'GIWV'</li><li>'IWV'</li><li>'WVYE'</li><li>'IWVY'</li><li>'S%TGNTE'</li><li>'SV%GNTE'</li><li>'S%GNYG'</li><li>'S%RTGE'</li><li>'TGIW'</li><li>'R%STDT'</li><li>'S%GQMNTE'</li><li>'SP%MNTE'</li><li>'%GTGNTE'</li><li>'SPG%TGE'</li><li>'SA%NTE'</li><li>'SLG%NTE'</li><li>'S%GSYE'</li><li>'RG%GGTE'</li><li>'SL%DE'</li><li>'S%TENTE'</li><li>'S%GRTDT'</li><li>'S%RGYG'</li><li>'SDR%TGE'</li><li>'SP%RGNTE'</li><li>'SPRQG%NTE'</li><li>'TG%SYE'</li><li>'SP%RNTE'</li><li>'S%GVNE'</li><li>'SPGP%E'</li><li>'SY%GTE'</li><li>'SP%GYG'</li><li>'SPG%GTE'</li><li>'SL%GE'</li><li>'S%SSYNE'</li><li>'S%QGATE'</li><li>'SAGQ%NTE'</li><li>'S%SGE'</li><li>'S%PNTE'</li><li>'S%SYE'</li><li>'S%AGANTGE'</li><li>'SQDR%T'</li><li>'S%MNTE'</li><li>'S%GGDG'</li><li>'S%SNQP'</li><li>'S%GYTGE'</li><li>'S%GQGSSYE'</li><li>'SL%GANTGE'</li><li>'S%NTE'</li><li>'SP%NTE'</li><li>'SRGT%YE'</li><li>'SL%GATNEK'</li><li>'SLT%NTE'</li><li>'R%GMNTE'</li><li>'S%GTE'</li><li>'%AGNTE'</li><li>'S%GGTE'</li><li>'S%GGNE'</li><li>'R%TGGTE'</li><li>'S%RGPGE'</li><li>'S%QET'</li><li>'S%QNSNQP'</li><li>'SPG%YE'</li><li>'S%GGTGE'</li><li>'SPG%GE'</li><li>'RQ%GNQP'</li><li>'SFG%MNTE'</li><li>'S%GTGE'</li><li>'SR%GMNTE'</li><li>'S%QGGTE'</li><li>'%GLNYG'</li><li>'GS%NTE'</li><li>'SSS%E'</li><li>'SLGL%YE'</li><li>'S%TGGTE'</li><li>'SFGQ%NTE'</li><li>'S%GTGGTGE'</li><li>'SLT%MNTE'</li><li>'SL%GYE'</li><li>'SYS%GE'</li><li>'SL%GNTE'</li><li>'S%GSNQP'</li><li>'SIG%GSYE'</li><li>'S%GDE'</li><li>'SLG%TE'</li><li>'S%SNTE'</li><li>'SS%YE'</li><li>'S%NTGE'</li><li>'SL%SGE'</li><li>'SLGG%E'</li><li>'SPG%LNTE'</li><li>'SY%GTTE'</li><li>'SLG%NYG'</li><li>'SL%GNE'</li><li>'S%GGNQP'</li><li>'S%TGMNTE'</li><li>'SL%TE'</li><li>'SL%NE'</li><li>'SY%GYE'</li><li>'SL%SGGE'</li><li>'S%RGNE'</li><li>'SL%GAGGNT'</li><li>'S%RGMNTE'</li><li>'S%GQVNTE'</li><li>'SL%YE'</li><li>'%TGGNTE'</li><li>'SLD%NTE'</li><li>'SLTSG%YNE'</li><li>'SL%GTE'</li><li>'S%RGTE'</li><li>'SLGQ%NTE'</li><li>'SL%ENTE'</li><li>'SPS%TE'</li><li>'S%GDNE'</li><li>'SLR%NE'</li><li>'SLGQGA%NTE'</li><li>'STGTG%E'</li><li>'SLGQ%NEK'</li><li>'S%QGNE'</li><li>'%VLGDE'</li><li>'SLTG%TE'</li><li>'GQGN%E'</li><li>'S%SPGGYE'</li><li>'SL%GFNQP'</li><li>'SPGQG%DG'</li><li>'S%SGYE'</li><li>'SLG%NE'</li><li>'SQDR%G'</li><li>'SSG%SGNT'</li><li>'SLV%GMNTE'</li><li>'SPN%E'</li><li>'SLG%SYE'</li><li>'%LGLNTE'</li><li>'SPG%YG'</li><li>'S%TGYE'</li><li>'S%GSTDT'</li><li>'SV%GGQET'</li><li>'S%GGYG'</li><li>'S%GGNT'</li><li>'S%SGNT'</li><li>'S%SMNTE'</li><li>'SYS%E'</li><li>'S%QGAYE'</li><li>'SV%GADE'</li><li>'S%GGTTE'</li><li>'SL%GGNTE'</li><li>'SPGTG%YG'</li><li>'SL%TDT'</li><li>'SL%TGIWVYE'</li><li>'SP%EVNTE'</li><li>'S%RTGSYE'</li><li>'%LGNE'</li><li>'S%YNE'</li><li>'SF%SSYE'</li><li>'S%GSE'</li><li>'SLG%GQP'</li><li>'SLVSG%E'</li><li>'SL%QGAYE'</li><li>'S%QGMNTE'</li><li>'SRQG%GTE'</li><li>'SL%SNQP'</li><li>'SL%GTGE'</li><li>'SVTG%TE'</li><li>'SQD%NQP'</li><li>'SLGTGL%G'</li><li>'%GNTE'</li><li>'SSG%TYE'</li><li>'SP%TGNYG'</li><li>'SL%GGNTGE'</li><li>'SYR%E'</li><li>'SSR%SYE'</li><li>'SSG%E'</li><li>'S%GAGE'</li><li>'SLVG%E'</li><li>'S%WNTE'</li><li>'SGG%YG'</li><li>'S%GQGVYE'</li><li>'SLR%GE'</li><li>'S%GQET'</li><li>'SL%RSE'</li><li>'SPR%NTE'</li><li>'SPRT%STDT'</li><li>'SLG%ET'</li><li>'SL%RNQP'</li><li>'S%GLNTE'</li><li>'SL%GSYE'</li><li>'S%RGSYE'</li><li>'SLGQG%NTE'</li><li>'SL%TGE'</li><li>'S%GAGNT'</li><li>'SSGLAT%E'</li><li>'SLG%TNYG'</li><li>'%ISGANV'</li><li>'SV%GNQP'</li><li>'SS%RGKET'</li><li>'SPSP%NTE'</li><li>'SLEGL%TGE'</li><li>'S%TGE'</li><li>'SL%AGNT'</li><li>'SP%TE'</li><li>...</li><li>'SE%RGTE'</li><li>'SPGG%QP'</li><li>'R%TGGNTE'</li><li>'SSGTG%YE'</li><li>'S%RSSYNSP'</li><li>'%RTGE'</li><li>'S%YYE'</li><li>'%GGGYG'</li><li>'SLDRG%E'</li><li>'%LTYE'</li><li>'%DRGLNTE'</li><li>'RDR%NSP'</li><li>'SLGT%'</li><li>'R%LNYG'</li><li>'SP%NSP'</li><li>'SLVGQ%'</li><li>'SLGGD%'</li><li>'SLG%GET'</li><li>'SGQGA%E'</li><li>'SLG%GTGE'</li><li>'SW%DE'</li><li>'S%REGTDT'</li><li>'SPL%E'</li><li>'%DSTDT'</li><li>'S%GHYE'</li><li>'S%LGVE'</li><li>'R%TGGYG'</li><li>'S%GLGET'</li><li>'SVG%GET'</li><li>'SLQG%YG'</li><li>'SV%SSYNE'</li><li>'S%PGG'</li><li>'SL%PGE'</li><li>'S%DRET'</li><li>'SAGS%E'</li><li>'S%TGRTE'</li><li>'S%SGRET'</li><li>'S%LSTDT'</li><li>'S%HSNQP'</li><li>'R%GGNEK'</li><li>'SEG%NSP'</li><li>'SPGL%TDT'</li><li>'S%GQP'</li><li>'SR%GE'</li><li>'SL%VGE'</li><li>'SPPG%G'</li><li>'SYT%E'</li><li>'S%ELNTE'</li><li>'S%DRDQP'</li><li>'%QGAGE'</li><li>'S%SGSYE'</li><li>'SQGG%T'</li><li>'RGT%NSP'</li><li>'S%GEK'</li><li>'R%ADT'</li><li>'SLAGG%NE'</li><li>'S%RDNQP'</li><li>'SLG%GNT'</li><li>'SVGTG%E'</li><li>'SAGQG%YE'</li><li>'SLS%NE'</li><li>'SPS%SYE'</li><li>'SPQGA%E'</li><li>'%GATNEK'</li><li>'SLG%G'</li><li>'SL%DG'</li><li>'SS%RNE'</li><li>'S%TGGET'</li><li>'R%DRE'</li><li>'S%WDE'</li><li>'RL%ET'</li><li>'SF%ET'</li><li>'RT%YE'</li><li>'%GGSET'</li><li>'SL%GDG'</li><li>'SLL%TE'</li><li>'SSSG%T'</li><li>'STQG%E'</li><li>'S%TGQET'</li><li>'S%GVGQP'</li><li>'SL%TGYE'</li><li>'SL%RGRE'</li><li>'SR%GYNE'</li><li>'SFTGG%E'</li><li>'S%GQGNEK'</li><li>'GG%TE'</li><li>'SL%EK'</li><li>'SRT%E'</li><li>'%PMNTE'</li><li>'G%GNQP'</li><li>'S%DSNTE'</li><li>'S%QGDYG'</li><li>'SQV%GGE'</li><li>'SFRG%GE'</li><li>'SPG%SNQP'</li><li>'SLTSG%YE'</li><li>'SRG%GE'</li><li>'%GQGAYE'</li><li>'S%GRYNE'</li><li>'SP%LNTE'</li><li>'S%RGSYNE'</li><li>'SSY%'</li><li>'G%SGNT'</li><li>'SP%GRG'</li><li>'SG%DNE'</li><li>'RQ%NQP'</li><li>'SQD%RG'</li><li>'%QGSTDT'</li><li>'S%TSGYE'</li><li>'SFGG%GE'</li><li>'RG%E'</li><li>'SSR%E'</li><li>'S%GPGG'</li><li>'ST%TDT'</li><li>'SLRTG%'</li><li>'D%SGANV'</li><li>'S%GLGNE'</li><li>'S%PSSYE'</li><li>'SPRG%YE'</li><li>'S%RSSYNE'</li><li>'%GQGGYE'</li><li>'G%G'</li><li>'R%GYE'</li><li>'S%GQGG'</li><li>'SR%DTE'</li><li>'S%GFSYE'</li><li>'S%GRNQP'</li><li>'SD%DT'</li><li>'S%GLAGAGE'</li><li>'SE%GE'</li><li>'SEY%E'</li><li>'SY%'</li><li>'%RDTE'</li><li>'R%RGYE'</li><li>'%EGNQP'</li><li>'%GGGNT'</li><li>'SGTS%E'</li><li>'S%GTSGYE'</li><li>'RGLAGG%E'</li><li>'G%NTE'</li><li>'S%SSGE'</li><li>'RG%STDT'</li><li>'S%RNT'</li><li>'RG%TE'</li><li>'SS%AE'</li><li>'%GNE'</li><li>'R%ENTE'</li><li>'SR%GYG'</li><li>'%NTE'</li><li>'%PSSYNE'</li><li>'%EYNE'</li><li>'SLG%GG'</li><li>'SRG%ET'</li><li>'SQGR%'</li><li>'SLGP%E'</li><li>'S%GLAGGYE'</li><li>'R%GEK'</li><li>'SGLAG%YE'</li><li>'VG%E'</li><li>'%QGNQP'</li><li>'SRGA%E'</li><li>'SS%E'</li><li>'SSL%E'</li><li>'SLVG%G'</li><li>'R%TDT'</li><li>'SS%NE'</li><li>'SG%GNT'</li><li>'SPS%GE'</li><li>'%RGDTE'</li><li>'SQGA%E'</li><li>'SS%DT'</li><li>'%GGE'</li><li>'%VNTE'</li><li>'T%SGNT'</li><li>'R%YE'</li><li>'%GSNQP'</li><li>'%EGYE'</li><li>'S%GAGG'</li><li>'G%YNE'</li><li>'SPGT%'</li><li>'S%GDG'</li><li>'SSY%E'</li><li>'S%GRG'</li><li>'SE%NE'</li><li>'GG%NQP'</li><li>'SWG%E'</li><li>'S%'</li><li>'%GSGE'</li><li>'G%P'</li><li>'GT%YG'</li><li>'SQG%G'</li><li>'RQG%GE'</li><li>'%YG'</li><li>'GG%E'</li><li>'G%GYE'</li><li>'G%TDT'</li><li>'SG%GE'</li><li>'G%TE'</li><li>'S%G'</li><li>'%YE'</li></ol>\n"
      ],
      "text/latex": [
       "\\begin{enumerate*}\n",
       "\\item 'SLG\\%E'\n",
       "\\item 'GIWV'\n",
       "\\item 'IWV'\n",
       "\\item 'WVYE'\n",
       "\\item 'IWVY'\n",
       "\\item 'S\\%TGNTE'\n",
       "\\item 'SV\\%GNTE'\n",
       "\\item 'S\\%GNYG'\n",
       "\\item 'S\\%RTGE'\n",
       "\\item 'TGIW'\n",
       "\\item 'R\\%STDT'\n",
       "\\item 'S\\%GQMNTE'\n",
       "\\item 'SP\\%MNTE'\n",
       "\\item '\\%GTGNTE'\n",
       "\\item 'SPG\\%TGE'\n",
       "\\item 'SA\\%NTE'\n",
       "\\item 'SLG\\%NTE'\n",
       "\\item 'S\\%GSYE'\n",
       "\\item 'RG\\%GGTE'\n",
       "\\item 'SL\\%DE'\n",
       "\\item 'S\\%TENTE'\n",
       "\\item 'S\\%GRTDT'\n",
       "\\item 'S\\%RGYG'\n",
       "\\item 'SDR\\%TGE'\n",
       "\\item 'SP\\%RGNTE'\n",
       "\\item 'SPRQG\\%NTE'\n",
       "\\item 'TG\\%SYE'\n",
       "\\item 'SP\\%RNTE'\n",
       "\\item 'S\\%GVNE'\n",
       "\\item 'SPGP\\%E'\n",
       "\\item 'SY\\%GTE'\n",
       "\\item 'SP\\%GYG'\n",
       "\\item 'SPG\\%GTE'\n",
       "\\item 'SL\\%GE'\n",
       "\\item 'S\\%SSYNE'\n",
       "\\item 'S\\%QGATE'\n",
       "\\item 'SAGQ\\%NTE'\n",
       "\\item 'S\\%SGE'\n",
       "\\item 'S\\%PNTE'\n",
       "\\item 'S\\%SYE'\n",
       "\\item 'S\\%AGANTGE'\n",
       "\\item 'SQDR\\%T'\n",
       "\\item 'S\\%MNTE'\n",
       "\\item 'S\\%GGDG'\n",
       "\\item 'S\\%SNQP'\n",
       "\\item 'S\\%GYTGE'\n",
       "\\item 'S\\%GQGSSYE'\n",
       "\\item 'SL\\%GANTGE'\n",
       "\\item 'S\\%NTE'\n",
       "\\item 'SP\\%NTE'\n",
       "\\item 'SRGT\\%YE'\n",
       "\\item 'SL\\%GATNEK'\n",
       "\\item 'SLT\\%NTE'\n",
       "\\item 'R\\%GMNTE'\n",
       "\\item 'S\\%GTE'\n",
       "\\item '\\%AGNTE'\n",
       "\\item 'S\\%GGTE'\n",
       "\\item 'S\\%GGNE'\n",
       "\\item 'R\\%TGGTE'\n",
       "\\item 'S\\%RGPGE'\n",
       "\\item 'S\\%QET'\n",
       "\\item 'S\\%QNSNQP'\n",
       "\\item 'SPG\\%YE'\n",
       "\\item 'S\\%GGTGE'\n",
       "\\item 'SPG\\%GE'\n",
       "\\item 'RQ\\%GNQP'\n",
       "\\item 'SFG\\%MNTE'\n",
       "\\item 'S\\%GTGE'\n",
       "\\item 'SR\\%GMNTE'\n",
       "\\item 'S\\%QGGTE'\n",
       "\\item '\\%GLNYG'\n",
       "\\item 'GS\\%NTE'\n",
       "\\item 'SSS\\%E'\n",
       "\\item 'SLGL\\%YE'\n",
       "\\item 'S\\%TGGTE'\n",
       "\\item 'SFGQ\\%NTE'\n",
       "\\item 'S\\%GTGGTGE'\n",
       "\\item 'SLT\\%MNTE'\n",
       "\\item 'SL\\%GYE'\n",
       "\\item 'SYS\\%GE'\n",
       "\\item 'SL\\%GNTE'\n",
       "\\item 'S\\%GSNQP'\n",
       "\\item 'SIG\\%GSYE'\n",
       "\\item 'S\\%GDE'\n",
       "\\item 'SLG\\%TE'\n",
       "\\item 'S\\%SNTE'\n",
       "\\item 'SS\\%YE'\n",
       "\\item 'S\\%NTGE'\n",
       "\\item 'SL\\%SGE'\n",
       "\\item 'SLGG\\%E'\n",
       "\\item 'SPG\\%LNTE'\n",
       "\\item 'SY\\%GTTE'\n",
       "\\item 'SLG\\%NYG'\n",
       "\\item 'SL\\%GNE'\n",
       "\\item 'S\\%GGNQP'\n",
       "\\item 'S\\%TGMNTE'\n",
       "\\item 'SL\\%TE'\n",
       "\\item 'SL\\%NE'\n",
       "\\item 'SY\\%GYE'\n",
       "\\item 'SL\\%SGGE'\n",
       "\\item 'S\\%RGNE'\n",
       "\\item 'SL\\%GAGGNT'\n",
       "\\item 'S\\%RGMNTE'\n",
       "\\item 'S\\%GQVNTE'\n",
       "\\item 'SL\\%YE'\n",
       "\\item '\\%TGGNTE'\n",
       "\\item 'SLD\\%NTE'\n",
       "\\item 'SLTSG\\%YNE'\n",
       "\\item 'SL\\%GTE'\n",
       "\\item 'S\\%RGTE'\n",
       "\\item 'SLGQ\\%NTE'\n",
       "\\item 'SL\\%ENTE'\n",
       "\\item 'SPS\\%TE'\n",
       "\\item 'S\\%GDNE'\n",
       "\\item 'SLR\\%NE'\n",
       "\\item 'SLGQGA\\%NTE'\n",
       "\\item 'STGTG\\%E'\n",
       "\\item 'SLGQ\\%NEK'\n",
       "\\item 'S\\%QGNE'\n",
       "\\item '\\%VLGDE'\n",
       "\\item 'SLTG\\%TE'\n",
       "\\item 'GQGN\\%E'\n",
       "\\item 'S\\%SPGGYE'\n",
       "\\item 'SL\\%GFNQP'\n",
       "\\item 'SPGQG\\%DG'\n",
       "\\item 'S\\%SGYE'\n",
       "\\item 'SLG\\%NE'\n",
       "\\item 'SQDR\\%G'\n",
       "\\item 'SSG\\%SGNT'\n",
       "\\item 'SLV\\%GMNTE'\n",
       "\\item 'SPN\\%E'\n",
       "\\item 'SLG\\%SYE'\n",
       "\\item '\\%LGLNTE'\n",
       "\\item 'SPG\\%YG'\n",
       "\\item 'S\\%TGYE'\n",
       "\\item 'S\\%GSTDT'\n",
       "\\item 'SV\\%GGQET'\n",
       "\\item 'S\\%GGYG'\n",
       "\\item 'S\\%GGNT'\n",
       "\\item 'S\\%SGNT'\n",
       "\\item 'S\\%SMNTE'\n",
       "\\item 'SYS\\%E'\n",
       "\\item 'S\\%QGAYE'\n",
       "\\item 'SV\\%GADE'\n",
       "\\item 'S\\%GGTTE'\n",
       "\\item 'SL\\%GGNTE'\n",
       "\\item 'SPGTG\\%YG'\n",
       "\\item 'SL\\%TDT'\n",
       "\\item 'SL\\%TGIWVYE'\n",
       "\\item 'SP\\%EVNTE'\n",
       "\\item 'S\\%RTGSYE'\n",
       "\\item '\\%LGNE'\n",
       "\\item 'S\\%YNE'\n",
       "\\item 'SF\\%SSYE'\n",
       "\\item 'S\\%GSE'\n",
       "\\item 'SLG\\%GQP'\n",
       "\\item 'SLVSG\\%E'\n",
       "\\item 'SL\\%QGAYE'\n",
       "\\item 'S\\%QGMNTE'\n",
       "\\item 'SRQG\\%GTE'\n",
       "\\item 'SL\\%SNQP'\n",
       "\\item 'SL\\%GTGE'\n",
       "\\item 'SVTG\\%TE'\n",
       "\\item 'SQD\\%NQP'\n",
       "\\item 'SLGTGL\\%G'\n",
       "\\item '\\%GNTE'\n",
       "\\item 'SSG\\%TYE'\n",
       "\\item 'SP\\%TGNYG'\n",
       "\\item 'SL\\%GGNTGE'\n",
       "\\item 'SYR\\%E'\n",
       "\\item 'SSR\\%SYE'\n",
       "\\item 'SSG\\%E'\n",
       "\\item 'S\\%GAGE'\n",
       "\\item 'SLVG\\%E'\n",
       "\\item 'S\\%WNTE'\n",
       "\\item 'SGG\\%YG'\n",
       "\\item 'S\\%GQGVYE'\n",
       "\\item 'SLR\\%GE'\n",
       "\\item 'S\\%GQET'\n",
       "\\item 'SL\\%RSE'\n",
       "\\item 'SPR\\%NTE'\n",
       "\\item 'SPRT\\%STDT'\n",
       "\\item 'SLG\\%ET'\n",
       "\\item 'SL\\%RNQP'\n",
       "\\item 'S\\%GLNTE'\n",
       "\\item 'SL\\%GSYE'\n",
       "\\item 'S\\%RGSYE'\n",
       "\\item 'SLGQG\\%NTE'\n",
       "\\item 'SL\\%TGE'\n",
       "\\item 'S\\%GAGNT'\n",
       "\\item 'SSGLAT\\%E'\n",
       "\\item 'SLG\\%TNYG'\n",
       "\\item '\\%ISGANV'\n",
       "\\item 'SV\\%GNQP'\n",
       "\\item 'SS\\%RGKET'\n",
       "\\item 'SPSP\\%NTE'\n",
       "\\item 'SLEGL\\%TGE'\n",
       "\\item 'S\\%TGE'\n",
       "\\item 'SL\\%AGNT'\n",
       "\\item 'SP\\%TE'\n",
       "\\item ...\n",
       "\\item 'SE\\%RGTE'\n",
       "\\item 'SPGG\\%QP'\n",
       "\\item 'R\\%TGGNTE'\n",
       "\\item 'SSGTG\\%YE'\n",
       "\\item 'S\\%RSSYNSP'\n",
       "\\item '\\%RTGE'\n",
       "\\item 'S\\%YYE'\n",
       "\\item '\\%GGGYG'\n",
       "\\item 'SLDRG\\%E'\n",
       "\\item '\\%LTYE'\n",
       "\\item '\\%DRGLNTE'\n",
       "\\item 'RDR\\%NSP'\n",
       "\\item 'SLGT\\%'\n",
       "\\item 'R\\%LNYG'\n",
       "\\item 'SP\\%NSP'\n",
       "\\item 'SLVGQ\\%'\n",
       "\\item 'SLGGD\\%'\n",
       "\\item 'SLG\\%GET'\n",
       "\\item 'SGQGA\\%E'\n",
       "\\item 'SLG\\%GTGE'\n",
       "\\item 'SW\\%DE'\n",
       "\\item 'S\\%REGTDT'\n",
       "\\item 'SPL\\%E'\n",
       "\\item '\\%DSTDT'\n",
       "\\item 'S\\%GHYE'\n",
       "\\item 'S\\%LGVE'\n",
       "\\item 'R\\%TGGYG'\n",
       "\\item 'S\\%GLGET'\n",
       "\\item 'SVG\\%GET'\n",
       "\\item 'SLQG\\%YG'\n",
       "\\item 'SV\\%SSYNE'\n",
       "\\item 'S\\%PGG'\n",
       "\\item 'SL\\%PGE'\n",
       "\\item 'S\\%DRET'\n",
       "\\item 'SAGS\\%E'\n",
       "\\item 'S\\%TGRTE'\n",
       "\\item 'S\\%SGRET'\n",
       "\\item 'S\\%LSTDT'\n",
       "\\item 'S\\%HSNQP'\n",
       "\\item 'R\\%GGNEK'\n",
       "\\item 'SEG\\%NSP'\n",
       "\\item 'SPGL\\%TDT'\n",
       "\\item 'S\\%GQP'\n",
       "\\item 'SR\\%GE'\n",
       "\\item 'SL\\%VGE'\n",
       "\\item 'SPPG\\%G'\n",
       "\\item 'SYT\\%E'\n",
       "\\item 'S\\%ELNTE'\n",
       "\\item 'S\\%DRDQP'\n",
       "\\item '\\%QGAGE'\n",
       "\\item 'S\\%SGSYE'\n",
       "\\item 'SQGG\\%T'\n",
       "\\item 'RGT\\%NSP'\n",
       "\\item 'S\\%GEK'\n",
       "\\item 'R\\%ADT'\n",
       "\\item 'SLAGG\\%NE'\n",
       "\\item 'S\\%RDNQP'\n",
       "\\item 'SLG\\%GNT'\n",
       "\\item 'SVGTG\\%E'\n",
       "\\item 'SAGQG\\%YE'\n",
       "\\item 'SLS\\%NE'\n",
       "\\item 'SPS\\%SYE'\n",
       "\\item 'SPQGA\\%E'\n",
       "\\item '\\%GATNEK'\n",
       "\\item 'SLG\\%G'\n",
       "\\item 'SL\\%DG'\n",
       "\\item 'SS\\%RNE'\n",
       "\\item 'S\\%TGGET'\n",
       "\\item 'R\\%DRE'\n",
       "\\item 'S\\%WDE'\n",
       "\\item 'RL\\%ET'\n",
       "\\item 'SF\\%ET'\n",
       "\\item 'RT\\%YE'\n",
       "\\item '\\%GGSET'\n",
       "\\item 'SL\\%GDG'\n",
       "\\item 'SLL\\%TE'\n",
       "\\item 'SSSG\\%T'\n",
       "\\item 'STQG\\%E'\n",
       "\\item 'S\\%TGQET'\n",
       "\\item 'S\\%GVGQP'\n",
       "\\item 'SL\\%TGYE'\n",
       "\\item 'SL\\%RGRE'\n",
       "\\item 'SR\\%GYNE'\n",
       "\\item 'SFTGG\\%E'\n",
       "\\item 'S\\%GQGNEK'\n",
       "\\item 'GG\\%TE'\n",
       "\\item 'SL\\%EK'\n",
       "\\item 'SRT\\%E'\n",
       "\\item '\\%PMNTE'\n",
       "\\item 'G\\%GNQP'\n",
       "\\item 'S\\%DSNTE'\n",
       "\\item 'S\\%QGDYG'\n",
       "\\item 'SQV\\%GGE'\n",
       "\\item 'SFRG\\%GE'\n",
       "\\item 'SPG\\%SNQP'\n",
       "\\item 'SLTSG\\%YE'\n",
       "\\item 'SRG\\%GE'\n",
       "\\item '\\%GQGAYE'\n",
       "\\item 'S\\%GRYNE'\n",
       "\\item 'SP\\%LNTE'\n",
       "\\item 'S\\%RGSYNE'\n",
       "\\item 'SSY\\%'\n",
       "\\item 'G\\%SGNT'\n",
       "\\item 'SP\\%GRG'\n",
       "\\item 'SG\\%DNE'\n",
       "\\item 'RQ\\%NQP'\n",
       "\\item 'SQD\\%RG'\n",
       "\\item '\\%QGSTDT'\n",
       "\\item 'S\\%TSGYE'\n",
       "\\item 'SFGG\\%GE'\n",
       "\\item 'RG\\%E'\n",
       "\\item 'SSR\\%E'\n",
       "\\item 'S\\%GPGG'\n",
       "\\item 'ST\\%TDT'\n",
       "\\item 'SLRTG\\%'\n",
       "\\item 'D\\%SGANV'\n",
       "\\item 'S\\%GLGNE'\n",
       "\\item 'S\\%PSSYE'\n",
       "\\item 'SPRG\\%YE'\n",
       "\\item 'S\\%RSSYNE'\n",
       "\\item '\\%GQGGYE'\n",
       "\\item 'G\\%G'\n",
       "\\item 'R\\%GYE'\n",
       "\\item 'S\\%GQGG'\n",
       "\\item 'SR\\%DTE'\n",
       "\\item 'S\\%GFSYE'\n",
       "\\item 'S\\%GRNQP'\n",
       "\\item 'SD\\%DT'\n",
       "\\item 'S\\%GLAGAGE'\n",
       "\\item 'SE\\%GE'\n",
       "\\item 'SEY\\%E'\n",
       "\\item 'SY\\%'\n",
       "\\item '\\%RDTE'\n",
       "\\item 'R\\%RGYE'\n",
       "\\item '\\%EGNQP'\n",
       "\\item '\\%GGGNT'\n",
       "\\item 'SGTS\\%E'\n",
       "\\item 'S\\%GTSGYE'\n",
       "\\item 'RGLAGG\\%E'\n",
       "\\item 'G\\%NTE'\n",
       "\\item 'S\\%SSGE'\n",
       "\\item 'RG\\%STDT'\n",
       "\\item 'S\\%RNT'\n",
       "\\item 'RG\\%TE'\n",
       "\\item 'SS\\%AE'\n",
       "\\item '\\%GNE'\n",
       "\\item 'R\\%ENTE'\n",
       "\\item 'SR\\%GYG'\n",
       "\\item '\\%NTE'\n",
       "\\item '\\%PSSYNE'\n",
       "\\item '\\%EYNE'\n",
       "\\item 'SLG\\%GG'\n",
       "\\item 'SRG\\%ET'\n",
       "\\item 'SQGR\\%'\n",
       "\\item 'SLGP\\%E'\n",
       "\\item 'S\\%GLAGGYE'\n",
       "\\item 'R\\%GEK'\n",
       "\\item 'SGLAG\\%YE'\n",
       "\\item 'VG\\%E'\n",
       "\\item '\\%QGNQP'\n",
       "\\item 'SRGA\\%E'\n",
       "\\item 'SS\\%E'\n",
       "\\item 'SSL\\%E'\n",
       "\\item 'SLVG\\%G'\n",
       "\\item 'R\\%TDT'\n",
       "\\item 'SS\\%NE'\n",
       "\\item 'SG\\%GNT'\n",
       "\\item 'SPS\\%GE'\n",
       "\\item '\\%RGDTE'\n",
       "\\item 'SQGA\\%E'\n",
       "\\item 'SS\\%DT'\n",
       "\\item '\\%GGE'\n",
       "\\item '\\%VNTE'\n",
       "\\item 'T\\%SGNT'\n",
       "\\item 'R\\%YE'\n",
       "\\item '\\%GSNQP'\n",
       "\\item '\\%EGYE'\n",
       "\\item 'S\\%GAGG'\n",
       "\\item 'G\\%YNE'\n",
       "\\item 'SPGT\\%'\n",
       "\\item 'S\\%GDG'\n",
       "\\item 'SSY\\%E'\n",
       "\\item 'S\\%GRG'\n",
       "\\item 'SE\\%NE'\n",
       "\\item 'GG\\%NQP'\n",
       "\\item 'SWG\\%E'\n",
       "\\item 'S\\%'\n",
       "\\item '\\%GSGE'\n",
       "\\item 'G\\%P'\n",
       "\\item 'GT\\%YG'\n",
       "\\item 'SQG\\%G'\n",
       "\\item 'RQG\\%GE'\n",
       "\\item '\\%YG'\n",
       "\\item 'GG\\%E'\n",
       "\\item 'G\\%GYE'\n",
       "\\item 'G\\%TDT'\n",
       "\\item 'SG\\%GE'\n",
       "\\item 'G\\%TE'\n",
       "\\item 'S\\%G'\n",
       "\\item '\\%YE'\n",
       "\\end{enumerate*}\n"
      ],
      "text/markdown": [
       "1. 'SLG%E'\n",
       "2. 'GIWV'\n",
       "3. 'IWV'\n",
       "4. 'WVYE'\n",
       "5. 'IWVY'\n",
       "6. 'S%TGNTE'\n",
       "7. 'SV%GNTE'\n",
       "8. 'S%GNYG'\n",
       "9. 'S%RTGE'\n",
       "10. 'TGIW'\n",
       "11. 'R%STDT'\n",
       "12. 'S%GQMNTE'\n",
       "13. 'SP%MNTE'\n",
       "14. '%GTGNTE'\n",
       "15. 'SPG%TGE'\n",
       "16. 'SA%NTE'\n",
       "17. 'SLG%NTE'\n",
       "18. 'S%GSYE'\n",
       "19. 'RG%GGTE'\n",
       "20. 'SL%DE'\n",
       "21. 'S%TENTE'\n",
       "22. 'S%GRTDT'\n",
       "23. 'S%RGYG'\n",
       "24. 'SDR%TGE'\n",
       "25. 'SP%RGNTE'\n",
       "26. 'SPRQG%NTE'\n",
       "27. 'TG%SYE'\n",
       "28. 'SP%RNTE'\n",
       "29. 'S%GVNE'\n",
       "30. 'SPGP%E'\n",
       "31. 'SY%GTE'\n",
       "32. 'SP%GYG'\n",
       "33. 'SPG%GTE'\n",
       "34. 'SL%GE'\n",
       "35. 'S%SSYNE'\n",
       "36. 'S%QGATE'\n",
       "37. 'SAGQ%NTE'\n",
       "38. 'S%SGE'\n",
       "39. 'S%PNTE'\n",
       "40. 'S%SYE'\n",
       "41. 'S%AGANTGE'\n",
       "42. 'SQDR%T'\n",
       "43. 'S%MNTE'\n",
       "44. 'S%GGDG'\n",
       "45. 'S%SNQP'\n",
       "46. 'S%GYTGE'\n",
       "47. 'S%GQGSSYE'\n",
       "48. 'SL%GANTGE'\n",
       "49. 'S%NTE'\n",
       "50. 'SP%NTE'\n",
       "51. 'SRGT%YE'\n",
       "52. 'SL%GATNEK'\n",
       "53. 'SLT%NTE'\n",
       "54. 'R%GMNTE'\n",
       "55. 'S%GTE'\n",
       "56. '%AGNTE'\n",
       "57. 'S%GGTE'\n",
       "58. 'S%GGNE'\n",
       "59. 'R%TGGTE'\n",
       "60. 'S%RGPGE'\n",
       "61. 'S%QET'\n",
       "62. 'S%QNSNQP'\n",
       "63. 'SPG%YE'\n",
       "64. 'S%GGTGE'\n",
       "65. 'SPG%GE'\n",
       "66. 'RQ%GNQP'\n",
       "67. 'SFG%MNTE'\n",
       "68. 'S%GTGE'\n",
       "69. 'SR%GMNTE'\n",
       "70. 'S%QGGTE'\n",
       "71. '%GLNYG'\n",
       "72. 'GS%NTE'\n",
       "73. 'SSS%E'\n",
       "74. 'SLGL%YE'\n",
       "75. 'S%TGGTE'\n",
       "76. 'SFGQ%NTE'\n",
       "77. 'S%GTGGTGE'\n",
       "78. 'SLT%MNTE'\n",
       "79. 'SL%GYE'\n",
       "80. 'SYS%GE'\n",
       "81. 'SL%GNTE'\n",
       "82. 'S%GSNQP'\n",
       "83. 'SIG%GSYE'\n",
       "84. 'S%GDE'\n",
       "85. 'SLG%TE'\n",
       "86. 'S%SNTE'\n",
       "87. 'SS%YE'\n",
       "88. 'S%NTGE'\n",
       "89. 'SL%SGE'\n",
       "90. 'SLGG%E'\n",
       "91. 'SPG%LNTE'\n",
       "92. 'SY%GTTE'\n",
       "93. 'SLG%NYG'\n",
       "94. 'SL%GNE'\n",
       "95. 'S%GGNQP'\n",
       "96. 'S%TGMNTE'\n",
       "97. 'SL%TE'\n",
       "98. 'SL%NE'\n",
       "99. 'SY%GYE'\n",
       "100. 'SL%SGGE'\n",
       "101. 'S%RGNE'\n",
       "102. 'SL%GAGGNT'\n",
       "103. 'S%RGMNTE'\n",
       "104. 'S%GQVNTE'\n",
       "105. 'SL%YE'\n",
       "106. '%TGGNTE'\n",
       "107. 'SLD%NTE'\n",
       "108. 'SLTSG%YNE'\n",
       "109. 'SL%GTE'\n",
       "110. 'S%RGTE'\n",
       "111. 'SLGQ%NTE'\n",
       "112. 'SL%ENTE'\n",
       "113. 'SPS%TE'\n",
       "114. 'S%GDNE'\n",
       "115. 'SLR%NE'\n",
       "116. 'SLGQGA%NTE'\n",
       "117. 'STGTG%E'\n",
       "118. 'SLGQ%NEK'\n",
       "119. 'S%QGNE'\n",
       "120. '%VLGDE'\n",
       "121. 'SLTG%TE'\n",
       "122. 'GQGN%E'\n",
       "123. 'S%SPGGYE'\n",
       "124. 'SL%GFNQP'\n",
       "125. 'SPGQG%DG'\n",
       "126. 'S%SGYE'\n",
       "127. 'SLG%NE'\n",
       "128. 'SQDR%G'\n",
       "129. 'SSG%SGNT'\n",
       "130. 'SLV%GMNTE'\n",
       "131. 'SPN%E'\n",
       "132. 'SLG%SYE'\n",
       "133. '%LGLNTE'\n",
       "134. 'SPG%YG'\n",
       "135. 'S%TGYE'\n",
       "136. 'S%GSTDT'\n",
       "137. 'SV%GGQET'\n",
       "138. 'S%GGYG'\n",
       "139. 'S%GGNT'\n",
       "140. 'S%SGNT'\n",
       "141. 'S%SMNTE'\n",
       "142. 'SYS%E'\n",
       "143. 'S%QGAYE'\n",
       "144. 'SV%GADE'\n",
       "145. 'S%GGTTE'\n",
       "146. 'SL%GGNTE'\n",
       "147. 'SPGTG%YG'\n",
       "148. 'SL%TDT'\n",
       "149. 'SL%TGIWVYE'\n",
       "150. 'SP%EVNTE'\n",
       "151. 'S%RTGSYE'\n",
       "152. '%LGNE'\n",
       "153. 'S%YNE'\n",
       "154. 'SF%SSYE'\n",
       "155. 'S%GSE'\n",
       "156. 'SLG%GQP'\n",
       "157. 'SLVSG%E'\n",
       "158. 'SL%QGAYE'\n",
       "159. 'S%QGMNTE'\n",
       "160. 'SRQG%GTE'\n",
       "161. 'SL%SNQP'\n",
       "162. 'SL%GTGE'\n",
       "163. 'SVTG%TE'\n",
       "164. 'SQD%NQP'\n",
       "165. 'SLGTGL%G'\n",
       "166. '%GNTE'\n",
       "167. 'SSG%TYE'\n",
       "168. 'SP%TGNYG'\n",
       "169. 'SL%GGNTGE'\n",
       "170. 'SYR%E'\n",
       "171. 'SSR%SYE'\n",
       "172. 'SSG%E'\n",
       "173. 'S%GAGE'\n",
       "174. 'SLVG%E'\n",
       "175. 'S%WNTE'\n",
       "176. 'SGG%YG'\n",
       "177. 'S%GQGVYE'\n",
       "178. 'SLR%GE'\n",
       "179. 'S%GQET'\n",
       "180. 'SL%RSE'\n",
       "181. 'SPR%NTE'\n",
       "182. 'SPRT%STDT'\n",
       "183. 'SLG%ET'\n",
       "184. 'SL%RNQP'\n",
       "185. 'S%GLNTE'\n",
       "186. 'SL%GSYE'\n",
       "187. 'S%RGSYE'\n",
       "188. 'SLGQG%NTE'\n",
       "189. 'SL%TGE'\n",
       "190. 'S%GAGNT'\n",
       "191. 'SSGLAT%E'\n",
       "192. 'SLG%TNYG'\n",
       "193. '%ISGANV'\n",
       "194. 'SV%GNQP'\n",
       "195. 'SS%RGKET'\n",
       "196. 'SPSP%NTE'\n",
       "197. 'SLEGL%TGE'\n",
       "198. 'S%TGE'\n",
       "199. 'SL%AGNT'\n",
       "200. 'SP%TE'\n",
       "201. ...\n",
       "202. 'SE%RGTE'\n",
       "203. 'SPGG%QP'\n",
       "204. 'R%TGGNTE'\n",
       "205. 'SSGTG%YE'\n",
       "206. 'S%RSSYNSP'\n",
       "207. '%RTGE'\n",
       "208. 'S%YYE'\n",
       "209. '%GGGYG'\n",
       "210. 'SLDRG%E'\n",
       "211. '%LTYE'\n",
       "212. '%DRGLNTE'\n",
       "213. 'RDR%NSP'\n",
       "214. 'SLGT%'\n",
       "215. 'R%LNYG'\n",
       "216. 'SP%NSP'\n",
       "217. 'SLVGQ%'\n",
       "218. 'SLGGD%'\n",
       "219. 'SLG%GET'\n",
       "220. 'SGQGA%E'\n",
       "221. 'SLG%GTGE'\n",
       "222. 'SW%DE'\n",
       "223. 'S%REGTDT'\n",
       "224. 'SPL%E'\n",
       "225. '%DSTDT'\n",
       "226. 'S%GHYE'\n",
       "227. 'S%LGVE'\n",
       "228. 'R%TGGYG'\n",
       "229. 'S%GLGET'\n",
       "230. 'SVG%GET'\n",
       "231. 'SLQG%YG'\n",
       "232. 'SV%SSYNE'\n",
       "233. 'S%PGG'\n",
       "234. 'SL%PGE'\n",
       "235. 'S%DRET'\n",
       "236. 'SAGS%E'\n",
       "237. 'S%TGRTE'\n",
       "238. 'S%SGRET'\n",
       "239. 'S%LSTDT'\n",
       "240. 'S%HSNQP'\n",
       "241. 'R%GGNEK'\n",
       "242. 'SEG%NSP'\n",
       "243. 'SPGL%TDT'\n",
       "244. 'S%GQP'\n",
       "245. 'SR%GE'\n",
       "246. 'SL%VGE'\n",
       "247. 'SPPG%G'\n",
       "248. 'SYT%E'\n",
       "249. 'S%ELNTE'\n",
       "250. 'S%DRDQP'\n",
       "251. '%QGAGE'\n",
       "252. 'S%SGSYE'\n",
       "253. 'SQGG%T'\n",
       "254. 'RGT%NSP'\n",
       "255. 'S%GEK'\n",
       "256. 'R%ADT'\n",
       "257. 'SLAGG%NE'\n",
       "258. 'S%RDNQP'\n",
       "259. 'SLG%GNT'\n",
       "260. 'SVGTG%E'\n",
       "261. 'SAGQG%YE'\n",
       "262. 'SLS%NE'\n",
       "263. 'SPS%SYE'\n",
       "264. 'SPQGA%E'\n",
       "265. '%GATNEK'\n",
       "266. 'SLG%G'\n",
       "267. 'SL%DG'\n",
       "268. 'SS%RNE'\n",
       "269. 'S%TGGET'\n",
       "270. 'R%DRE'\n",
       "271. 'S%WDE'\n",
       "272. 'RL%ET'\n",
       "273. 'SF%ET'\n",
       "274. 'RT%YE'\n",
       "275. '%GGSET'\n",
       "276. 'SL%GDG'\n",
       "277. 'SLL%TE'\n",
       "278. 'SSSG%T'\n",
       "279. 'STQG%E'\n",
       "280. 'S%TGQET'\n",
       "281. 'S%GVGQP'\n",
       "282. 'SL%TGYE'\n",
       "283. 'SL%RGRE'\n",
       "284. 'SR%GYNE'\n",
       "285. 'SFTGG%E'\n",
       "286. 'S%GQGNEK'\n",
       "287. 'GG%TE'\n",
       "288. 'SL%EK'\n",
       "289. 'SRT%E'\n",
       "290. '%PMNTE'\n",
       "291. 'G%GNQP'\n",
       "292. 'S%DSNTE'\n",
       "293. 'S%QGDYG'\n",
       "294. 'SQV%GGE'\n",
       "295. 'SFRG%GE'\n",
       "296. 'SPG%SNQP'\n",
       "297. 'SLTSG%YE'\n",
       "298. 'SRG%GE'\n",
       "299. '%GQGAYE'\n",
       "300. 'S%GRYNE'\n",
       "301. 'SP%LNTE'\n",
       "302. 'S%RGSYNE'\n",
       "303. 'SSY%'\n",
       "304. 'G%SGNT'\n",
       "305. 'SP%GRG'\n",
       "306. 'SG%DNE'\n",
       "307. 'RQ%NQP'\n",
       "308. 'SQD%RG'\n",
       "309. '%QGSTDT'\n",
       "310. 'S%TSGYE'\n",
       "311. 'SFGG%GE'\n",
       "312. 'RG%E'\n",
       "313. 'SSR%E'\n",
       "314. 'S%GPGG'\n",
       "315. 'ST%TDT'\n",
       "316. 'SLRTG%'\n",
       "317. 'D%SGANV'\n",
       "318. 'S%GLGNE'\n",
       "319. 'S%PSSYE'\n",
       "320. 'SPRG%YE'\n",
       "321. 'S%RSSYNE'\n",
       "322. '%GQGGYE'\n",
       "323. 'G%G'\n",
       "324. 'R%GYE'\n",
       "325. 'S%GQGG'\n",
       "326. 'SR%DTE'\n",
       "327. 'S%GFSYE'\n",
       "328. 'S%GRNQP'\n",
       "329. 'SD%DT'\n",
       "330. 'S%GLAGAGE'\n",
       "331. 'SE%GE'\n",
       "332. 'SEY%E'\n",
       "333. 'SY%'\n",
       "334. '%RDTE'\n",
       "335. 'R%RGYE'\n",
       "336. '%EGNQP'\n",
       "337. '%GGGNT'\n",
       "338. 'SGTS%E'\n",
       "339. 'S%GTSGYE'\n",
       "340. 'RGLAGG%E'\n",
       "341. 'G%NTE'\n",
       "342. 'S%SSGE'\n",
       "343. 'RG%STDT'\n",
       "344. 'S%RNT'\n",
       "345. 'RG%TE'\n",
       "346. 'SS%AE'\n",
       "347. '%GNE'\n",
       "348. 'R%ENTE'\n",
       "349. 'SR%GYG'\n",
       "350. '%NTE'\n",
       "351. '%PSSYNE'\n",
       "352. '%EYNE'\n",
       "353. 'SLG%GG'\n",
       "354. 'SRG%ET'\n",
       "355. 'SQGR%'\n",
       "356. 'SLGP%E'\n",
       "357. 'S%GLAGGYE'\n",
       "358. 'R%GEK'\n",
       "359. 'SGLAG%YE'\n",
       "360. 'VG%E'\n",
       "361. '%QGNQP'\n",
       "362. 'SRGA%E'\n",
       "363. 'SS%E'\n",
       "364. 'SSL%E'\n",
       "365. 'SLVG%G'\n",
       "366. 'R%TDT'\n",
       "367. 'SS%NE'\n",
       "368. 'SG%GNT'\n",
       "369. 'SPS%GE'\n",
       "370. '%RGDTE'\n",
       "371. 'SQGA%E'\n",
       "372. 'SS%DT'\n",
       "373. '%GGE'\n",
       "374. '%VNTE'\n",
       "375. 'T%SGNT'\n",
       "376. 'R%YE'\n",
       "377. '%GSNQP'\n",
       "378. '%EGYE'\n",
       "379. 'S%GAGG'\n",
       "380. 'G%YNE'\n",
       "381. 'SPGT%'\n",
       "382. 'S%GDG'\n",
       "383. 'SSY%E'\n",
       "384. 'S%GRG'\n",
       "385. 'SE%NE'\n",
       "386. 'GG%NQP'\n",
       "387. 'SWG%E'\n",
       "388. 'S%'\n",
       "389. '%GSGE'\n",
       "390. 'G%P'\n",
       "391. 'GT%YG'\n",
       "392. 'SQG%G'\n",
       "393. 'RQG%GE'\n",
       "394. '%YG'\n",
       "395. 'GG%E'\n",
       "396. 'G%GYE'\n",
       "397. 'G%TDT'\n",
       "398. 'SG%GE'\n",
       "399. 'G%TE'\n",
       "400. 'S%G'\n",
       "401. '%YE'\n",
       "\n",
       "\n"
      ],
      "text/plain": [
       "   [1] \"SLG%E\"       \"GIWV\"        \"IWV\"         \"WVYE\"        \"IWVY\"       \n",
       "   [6] \"S%TGNTE\"     \"SV%GNTE\"     \"S%GNYG\"      \"S%RTGE\"      \"TGIW\"       \n",
       "  [11] \"R%STDT\"      \"S%GQMNTE\"    \"SP%MNTE\"     \"%GTGNTE\"     \"SPG%TGE\"    \n",
       "  [16] \"SA%NTE\"      \"SLG%NTE\"     \"S%GSYE\"      \"RG%GGTE\"     \"SL%DE\"      \n",
       "  [21] \"S%TENTE\"     \"S%GRTDT\"     \"S%RGYG\"      \"SDR%TGE\"     \"SP%RGNTE\"   \n",
       "  [26] \"SPRQG%NTE\"   \"TG%SYE\"      \"SP%RNTE\"     \"S%GVNE\"      \"SPGP%E\"     \n",
       "  [31] \"SY%GTE\"      \"SP%GYG\"      \"SPG%GTE\"     \"SL%GE\"       \"S%SSYNE\"    \n",
       "  [36] \"S%QGATE\"     \"SAGQ%NTE\"    \"S%SGE\"       \"S%PNTE\"      \"S%SYE\"      \n",
       "  [41] \"S%AGANTGE\"   \"SQDR%T\"      \"S%MNTE\"      \"S%GGDG\"      \"S%SNQP\"     \n",
       "  [46] \"S%GYTGE\"     \"S%GQGSSYE\"   \"SL%GANTGE\"   \"S%NTE\"       \"SP%NTE\"     \n",
       "  [51] \"SRGT%YE\"     \"SL%GATNEK\"   \"SLT%NTE\"     \"R%GMNTE\"     \"S%GTE\"      \n",
       "  [56] \"%AGNTE\"      \"S%GGTE\"      \"S%GGNE\"      \"R%TGGTE\"     \"S%RGPGE\"    \n",
       "  [61] \"S%QET\"       \"S%QNSNQP\"    \"SPG%YE\"      \"S%GGTGE\"     \"SPG%GE\"     \n",
       "  [66] \"RQ%GNQP\"     \"SFG%MNTE\"    \"S%GTGE\"      \"SR%GMNTE\"    \"S%QGGTE\"    \n",
       "  [71] \"%GLNYG\"      \"GS%NTE\"      \"SSS%E\"       \"SLGL%YE\"     \"S%TGGTE\"    \n",
       "  [76] \"SFGQ%NTE\"    \"S%GTGGTGE\"   \"SLT%MNTE\"    \"SL%GYE\"      \"SYS%GE\"     \n",
       "  [81] \"SL%GNTE\"     \"S%GSNQP\"     \"SIG%GSYE\"    \"S%GDE\"       \"SLG%TE\"     \n",
       "  [86] \"S%SNTE\"      \"SS%YE\"       \"S%NTGE\"      \"SL%SGE\"      \"SLGG%E\"     \n",
       "  [91] \"SPG%LNTE\"    \"SY%GTTE\"     \"SLG%NYG\"     \"SL%GNE\"      \"S%GGNQP\"    \n",
       "  [96] \"S%TGMNTE\"    \"SL%TE\"       \"SL%NE\"       \"SY%GYE\"      \"SL%SGGE\"    \n",
       " [101] \"S%RGNE\"      \"SL%GAGGNT\"   \"S%RGMNTE\"    \"S%GQVNTE\"    \"SL%YE\"      \n",
       " [106] \"%TGGNTE\"     \"SLD%NTE\"     \"SLTSG%YNE\"   \"SL%GTE\"      \"S%RGTE\"     \n",
       " [111] \"SLGQ%NTE\"    \"SL%ENTE\"     \"SPS%TE\"      \"S%GDNE\"      \"SLR%NE\"     \n",
       " [116] \"SLGQGA%NTE\"  \"STGTG%E\"     \"SLGQ%NEK\"    \"S%QGNE\"      \"%VLGDE\"     \n",
       " [121] \"SLTG%TE\"     \"GQGN%E\"      \"S%SPGGYE\"    \"SL%GFNQP\"    \"SPGQG%DG\"   \n",
       " [126] \"S%SGYE\"      \"SLG%NE\"      \"SQDR%G\"      \"SSG%SGNT\"    \"SLV%GMNTE\"  \n",
       " [131] \"SPN%E\"       \"SLG%SYE\"     \"%LGLNTE\"     \"SPG%YG\"      \"S%TGYE\"     \n",
       " [136] \"S%GSTDT\"     \"SV%GGQET\"    \"S%GGYG\"      \"S%GGNT\"      \"S%SGNT\"     \n",
       " [141] \"S%SMNTE\"     \"SYS%E\"       \"S%QGAYE\"     \"SV%GADE\"     \"S%GGTTE\"    \n",
       " [146] \"SL%GGNTE\"    \"SPGTG%YG\"    \"SL%TDT\"      \"SL%TGIWVYE\"  \"SP%EVNTE\"   \n",
       " [151] \"S%RTGSYE\"    \"%LGNE\"       \"S%YNE\"       \"SF%SSYE\"     \"S%GSE\"      \n",
       " [156] \"SLG%GQP\"     \"SLVSG%E\"     \"SL%QGAYE\"    \"S%QGMNTE\"    \"SRQG%GTE\"   \n",
       " [161] \"SL%SNQP\"     \"SL%GTGE\"     \"SVTG%TE\"     \"SQD%NQP\"     \"SLGTGL%G\"   \n",
       " [166] \"%GNTE\"       \"SSG%TYE\"     \"SP%TGNYG\"    \"SL%GGNTGE\"   \"SYR%E\"      \n",
       " [171] \"SSR%SYE\"     \"SSG%E\"       \"S%GAGE\"      \"SLVG%E\"      \"S%WNTE\"     \n",
       " [176] \"SGG%YG\"      \"S%GQGVYE\"    \"SLR%GE\"      \"S%GQET\"      \"SL%RSE\"     \n",
       " [181] \"SPR%NTE\"     \"SPRT%STDT\"   \"SLG%ET\"      \"SL%RNQP\"     \"S%GLNTE\"    \n",
       " [186] \"SL%GSYE\"     \"S%RGSYE\"     \"SLGQG%NTE\"   \"SL%TGE\"      \"S%GAGNT\"    \n",
       " [191] \"SSGLAT%E\"    \"SLG%TNYG\"    \"%ISGANV\"     \"SV%GNQP\"     \"SS%RGKET\"   \n",
       " [196] \"SPSP%NTE\"    \"SLEGL%TGE\"   \"S%TGE\"       \"SL%AGNT\"     \"SP%TE\"      \n",
       " [201] \"SLG%TDT\"     \"S%TYE\"       \"SF%DT\"       \"S%GGSYE\"     \"SY%GE\"      \n",
       " [206] \"STGD%\"       \"RGTG%TE\"     \"S%GPYE\"      \"SP%TGE\"      \"SLE%TE\"     \n",
       " [211] \"SL%SE\"       \"STR%TE\"      \"S%SGKNTE\"    \"GQGNY%\"      \"SQ%SGNT\"    \n",
       " [216] \"SLGG%QP\"     \"RG%LNTE\"     \"RTG%NTE\"     \"S%GDSSYE\"    \"S%DSNSP\"    \n",
       " [221] \"SFTG%TE\"     \"SL%QGGTE\"    \"S%RLNTE\"     \"S%DSGGYNE\"   \"SYSG%\"      \n",
       " [226] \"SQDRR%\"      \"SPGT%NTE\"    \"SQ%MNTE\"     \"SLGQ%NYG\"    \"SPG%NQP\"    \n",
       " [231] \"S%STDT\"      \"SLGV%E\"      \"S%GQGTE\"     \"SLA%NTGE\"    \"SV%MNTE\"    \n",
       " [236] \"SLAGG%VYE\"   \"S%GGGNSP\"    \"S%GQRNTE\"    \"SL%GMNTE\"    \"SSP%AGNTE\"  \n",
       " [241] \"SLRPP%I\"     \"SVG%QAGDT\"   \"SFKRGFSG%NV\" \"SLV%GE\"      \"S%TGGNTE\"   \n",
       " [246] \"S%NRNTE\"     \"SFG%NQP\"     \"SPG%VNTE\"    \"SAGTGG%YE\"   \"S%TSGETDT\"  \n",
       " [251] \"SDS%TGE\"     \"G%MNTE\"      \"SL%GTYNE\"    \"SLR%TE\"      \"SRGG%YE\"    \n",
       " [256] \"S%SGENTGE\"   \"SVEG%TE\"     \"SLSG%YNE\"    \"SS%ISGNT\"    \"S%GGSSYE\"   \n",
       " [261] \"R%QET\"       \"S%AGNTE\"     \"SLS%GTE\"     \"SLG%NSP\"     \"SLSG%NTGE\"  \n",
       " [266] \"RIWV\"        \"S%QGDTE\"     \"SH%NTE\"      \"S%GANTGE\"    \"S%RRYE\"     \n",
       " [271] \"SP%GGNTE\"    \"S%RYE\"       \"SY%ET\"       \"SRDRG%E\"     \"SL%GGGTE\"   \n",
       " [276] \"SLEG%NQP\"    \"SLAGG%NQP\"   \"SSDRV%GNT\"   \"SLGQINTD%\"   \"S%SGTDT\"    \n",
       " [281] \"SLRGN%\"      \"G%QGDQP\"     \"SLGG%YE\"     \"SLVGG%TDT\"   \"S%LAGGTDT\"  \n",
       " [286] \"SRTG%TE\"     \"SDS%GGTDT\"   \"SVS%NTE\"     \"SYP%TE\"      \"S%AGGTDT\"   \n",
       " [291] \"SRE%TE\"      \"S%GTGGTE\"    \"SLDS%GYNE\"   \"SSG%YE\"      \"SF%GNYG\"    \n",
       " [296] \"SYGG%TE\"     \"SR%LNTE\"     \"S%LAGSYNE\"   \"S%GTNYG\"     \"SP%LGET\"    \n",
       " [301] \"SL%SSNQP\"    \"SQ%GMNTE\"    \"SIGQG%\"      \"SF%GGTE\"     \"SLL%GLYE\"   \n",
       " [306] \"SLGTGGN%\"    \"SPG%GNQP\"    \"SLR%SNQP\"    \"SLGG%SSYE\"   \"SLSG%E\"     \n",
       " [311] \"R%TGE\"       \"SQEG%TE\"     \"SF%GSGNT\"    \"SEAGGP%E\"    \"SLGN%\"      \n",
       " [316] \"SLGTSG%YE\"   \"SL%LNTE\"     \"SLG%SSYE\"    \"S%GRTE\"      \"K%TGNTE\"    \n",
       " [321] \"SP%LQET\"     \"STG%E\"       \"S%PGTE\"      \"S%PGE\"       \"R%TANTE\"    \n",
       " [326] \"SLG%YNE\"     \"SRQG%NTE\"    \"S%TDT\"       \"S%SGGNTGE\"   \"SLGQG%YNE\"  \n",
       " [331] \"SP%GEK\"      \"SLNP%TGE\"    \"SLG%GE\"      \"SVGT%YE\"     \"SLS%NQP\"    \n",
       " [336] \"SLG%VNTE\"    \"SRD%E\"       \"%IRGYE\"      \"SYPG%E\"      \"RRG%NTE\"    \n",
       " [341] \"SPNR%TE\"     \"S%GTSGTDT\"   \"SPPGA%NTE\"   \"S%YE\"        \"SP%YE\"      \n",
       " [346] \"SI%GTDT\"     \"SRE%NTE\"     \"SGQGT%E\"     \"S%GDRAYE\"    \"R%GAGE\"     \n",
       " [351] \"S%QGGE\"      \"SQG%GE\"      \"S%AGNQP\"     \"SLG%NQP\"     \"S%GGANEK\"   \n",
       " [356] \"S%TSGDYNE\"   \"S%GVYG\"      \"S%GVGE\"      \"SAGSY%\"      \"S%GTGYE\"    \n",
       " [361] \"SPWGN%P\"     \"SL%GGGTDT\"   \"SLDSG%YNE\"   \"SV%GDT\"      \"SQG%SGNT\"   \n",
       " [366] \"S%FGTE\"      \"%LTGNTE\"     \"SPGQ%TE\"     \"SLGG%GE\"     \"S%RDTGE\"    \n",
       " [371] \"SQVRG%E\"     \"SL%EGNTE\"    \"SL%GNTGE\"    \"SLG%AGGE\"    \"SLGTGG%T\"   \n",
       " [376] \"SLEG%STDT\"   \"SP%NYG\"      \"R%SGANV\"     \"SEQG%QP\"     \"SVAG%TE\"    \n",
       " [381] \"SPQGA%G\"     \"S%GGTGNT\"    \"SL%GGSTDT\"   \"S%SGDT\"      \"S%GENTE\"    \n",
       " [386] \"%ASMNTE\"     \"SL%DGNTE\"    \"SNRG%NTE\"    \"SV%GSYNE\"    \"SLTG%NTE\"   \n",
       " [391] \"SLGDRAY%\"    \"STPG%GNEK\"   \"%LGTE\"       \"SLT%E\"       \"SGG%NE\"     \n",
       " [396] \"S%GTGTE\"     \"SQG%TGE\"     \"SLV%DT\"      \"SVA%NTE\"     \"S%TGGGQP\"   \n",
       " [401] \"SLAG%NTGE\"   \"S%MGTDT\"     \"SLGI%YG\"     \"SPGQGT%\"     \"SLG%GVNTE\"  \n",
       " [406] \"S%GQTYE\"     \"S%GGSSYNE\"   \"SL%NSP\"      \"%LGENTE\"     \"S%YSTGE\"    \n",
       " [411] \"SL%GDYG\"     \"SWG%NQP\"     \"KQGD%P\"      \"SLRG%E\"      \"%SSGANV\"    \n",
       " [416] \"SN%GPGE\"     \"SPDR%FTE\"    \"SPGG%TDT\"    \"SLEQGA%NE\"   \"S%SSYNSP\"   \n",
       " [421] \"SF%ATNEK\"    \"SPRD%NQP\"    \"%LGSE\"       \"SYSS%E\"      \"SGT%AYE\"    \n",
       " [426] \"S%GISGNT\"    \"SP%GSYNE\"    \"S%LAGGQET\"   \"SRD%NQP\"     \"SPGQG%E\"    \n",
       " [431] \"SP%GSYE\"     \"SSQG%TE\"     \"S%QGSGNT\"    \"SLGS%\"       \"SL%QNSP\"    \n",
       " [436] \"SH%GTDT\"     \"SRDRN%E\"     \"SL%GTNYG\"    \"SLG%SNYG\"    \"SLGT%GNT\"   \n",
       " [441] \"SL%GGMNTE\"   \"SPPG%STDT\"   \"SESG%NTGE\"   \"SLY%E\"       \"SLG%GYE\"    \n",
       " [446] \"S%TGVNTE\"    \"SM%LNQP\"     \"SHRE%NTE\"    \"SS%TSGINE\"   \"SVT%GPYNE\"  \n",
       " [451] \"SPGQ%\"       \"S%ELNQP\"     \"SL%GGYG\"     \"SDG%TDT\"     \"%GQNSNQP\"   \n",
       " [456] \"S%YTGE\"      \"SPGR%E\"      \"S%EGYG\"      \"TG%TNEK\"     \"SSG%SYE\"    \n",
       " [461] \"SS%GNT\"      \"%ASNTE\"      \"S%RTTE\"      \"SP%GGGNT\"    \"SPP%GNTE\"   \n",
       " [466] \"S%AGGGNQP\"   \"SL%SGGYNE\"   \"SLGLAG%DT\"   \"SR%QET\"      \"SW%NTE\"     \n",
       " [471] \"SRT%PET\"     \"SSGQTY%\"     \"RGLSGN%\"     \"SLGSNQ%\"     \"SR%GGNQP\"   \n",
       " [476] \"SQVG%TE\"     \"SLDS%TE\"     \"SF%GGGTE\"    \"SVGP%NTE\"    \"S%RTGGSYE\"  \n",
       " [481] \"S%GQGE\"      \"SRDRG%ET\"    \"SFG%YNE\"     \"SS%QGNTE\"    \"S%GQATNEK\"  \n",
       " [486] \"SL%AGGYNE\"   \"SH%TGE\"      \"S%QGAGE\"     \"S%GNE\"       \"SR%DYG\"     \n",
       " [491] \"SQ%GNT\"      \"SP%GNQP\"     \"SS%PGGT\"     \"SQAGS%DT\"    \"GPGQGN%E\"   \n",
       " [496] \"SQE%TSYNE\"   \"SQRTGG%YG\"   \"SF%SYE\"      \"SY%SGE\"      \"SVS%SE\"     \n",
       " [501] \"SYG%YG\"      \"%RGENTE\"     \"SPR%SYE\"     \"SVG%GTE\"     \"SLGG%NYG\"   \n",
       " [506] \"S%PGQGSYE\"   \"SRG%ATNEK\"   \"S%LGDG\"      \"SL%GQE\"      \"SSV%TE\"     \n",
       " [511] \"SLGGT%\"      \"S%VGDTE\"     \"SQV%NTE\"     \"SLGGG%QP\"    \"%AMNTE\"     \n",
       " [516] \"S%DRGGE\"     \"SA%MNTE\"     \"S%GTVNTE\"    \"S%SVGE\"      \"SYS%SP\"     \n",
       " [521] \"SVSG%T\"      \"SLDS%E\"      \"STRT%E\"      \"%ATMNTE\"     \"SLAGVY%\"    \n",
       " [526] \"S%RGQNTE\"    \"SG%GVNTE\"    \"SS%GLNTE\"    \"%PGQTSTDT\"   \"SYT%YE\"     \n",
       " [531] \"SDG%TE\"      \"SL%WGTE\"     \"RGR%GTE\"     \"SLGT%YE\"     \"SL%RGGDE\"   \n",
       " [536] \"S%PGQGNEK\"   \"SL%GAGANV\"   \"SLGTG%TDT\"   \"SSR%GE\"      \"SVS%GE\"     \n",
       " [541] \"SLGT%E\"      \"SPG%SYNE\"    \"%PENTE\"      \"SQVGN%\"      \"R%HLNTE\"    \n",
       " [546] \"SPE%TGE\"     \"SP%RGNQP\"    \"SSGGA%EK\"    \"S%RQGVNTGE\"  \"S%GRAGE\"    \n",
       " [551] \"S%DLNTE\"     \"SSGQGA%E\"    \"S%GPE\"       \"SY%TDT\"      \"SLVAG%NE\"   \n",
       " [556] \"SLAGV%DT\"    \"SPGG%SNQP\"   \"SGQG%NE\"     \"%SDEK\"       \"SL%PNYG\"    \n",
       " [561] \"SL%VNYG\"     \"SS%GGYG\"     \"SYF%GNT\"     \"STQG%TE\"     \"SVGRN%E\"    \n",
       " [566] \"SPGGTY%\"     \"S%AGGGTE\"    \"S%ASANYG\"    \"SP%PVNTE\"    \"SF%QMNTE\"   \n",
       " [571] \"SL%GVRDT\"    \"SSTG%NQP\"    \"SPDRG%TE\"    \"S%QGATNEK\"   \"SI%DSSGNT\"  \n",
       " [576] \"SDPGT%NTE\"   \"SLGQG%NQP\"   \"S%NTDT\"      \"SPG%AE\"      \"SIG%GG\"     \n",
       " [581] \"S%GRNYE\"     \"S%GGRGTDT\"   \"R%NTE\"       \"S%GTGTYE\"    \"SQ%GGIE\"    \n",
       " [586] \"G%QGGNQP\"    \"SQSG%NTE\"    \"SVGR%NTE\"    \"SPPG%NTE\"    \"SLD%GGYNE\"  \n",
       " [591] \"SIGR%SNQP\"   \"SPGT%NTGE\"   \"SLGA%G\"      \"S%LDT\"       \"G%YTE\"      \n",
       " [596] \"%LDYE\"       \"S%VPDT\"      \"SR%GRTE\"     \"SRGP%TE\"     \"SSGQ%NQP\"   \n",
       " [601] \"RQG%QP\"      \"S%GGGQP\"     \"SFPS%YE\"     \"SLR%GGEK\"    \"SLQGP%YG\"   \n",
       " [606] \"S%RGALNTE\"   \"S%GATDT\"     \"SK%SNQP\"     \"SL%GNSP\"     \"SVA%NQP\"    \n",
       " [611] \"SLAG%GE\"     \"S%LGE\"       \"SLR%NYG\"     \"S%DRNTGE\"    \"SLSW%TE\"    \n",
       " [616] \"SLWG%DTE\"    \"SERT%SYE\"    \"SVGDS%YE\"    \"SYGGGG%E\"    \"%LGLAGTDT\"  \n",
       " [621] \"SPR%GANTE\"   \"SDSAG%TDT\"   \"SLE%GSSYNE\"  \"G%RMNTE\"     \"SLT%NYG\"    \n",
       " [626] \"SSGTSG%NE\"   \"%TGSYG\"      \"%GTGGTE\"     \"%STDT\"       \"R%GNQP\"     \n",
       " [631] \"S%GTGNE\"     \"SS%GANV\"     \"ST%GGTE\"     \"SQVGG%E\"     \"%LAGNTGE\"   \n",
       " [636] \"%ETNTE\"      \"%VSMNTE\"     \"S%GGRGE\"     \"SL%GLDTE\"    \"SS%GLNQP\"   \n",
       " [641] \"SLGQG%SG\"    \"SRVGG%QP\"    \"%RGDSGANV\"   \"S%QTGSGNT\"   \"SI%SSYNSP\"  \n",
       " [646] \"SPRLAGG%TDT\" \"TE%YE\"       \"SFR%T\"       \"%SMNTE\"      \"SR%YNE\"     \n",
       " [651] \"SEG%YG\"      \"RG%NYG\"      \"S%RGNEK\"     \"SV%SNTE\"     \"SAGT%NE\"    \n",
       " [656] \"SI%GDG\"      \"SIDR%YG\"     \"SLES%YG\"     \"S%QGWGTE\"    \"S%AGPGNT\"   \n",
       " [661] \"SP%GFTDT\"    \"SFPG%NTE\"    \"SV%TGSGNT\"   \"SL%SGYTDT\"   \"SQD%RGNQP\"  \n",
       " [666] \"SLA%ANTGE\"   \"SSTG%SGANV\"  \"S%DEK\"       \"S%GSGET\"     \"S%RGTDT\"    \n",
       " [671] \"S%ADYE\"      \"SL%RET\"      \"SLG%DG\"      \"SGV%NE\"      \"SL%GGGNE\"   \n",
       " [676] \"S%GIDT\"      \"%VAGNTE\"     \"SV%GFTE\"     \"SLAL%GG\"     \"SLS%GNYG\"   \n",
       " [681] \"SSG%LNQP\"    \"SQD%MNTE\"    \"SVG%AKNI\"    \"SL%GGYNSP\"   \"SL%GALNTE\"  \n",
       " [686] \"SL%GTSSYE\"   \"SSL%SSYNE\"   \"SLRTG%NTE\"   \"SLQGA%TDT\"   \"S%RDT\"      \n",
       " [691] \"S%AGGPNE\"    \"SG%GYG\"      \"SLGTG%E\"     \"S%GDYNE\"     \"SKD%NQP\"    \n",
       " [696] \"PDR%SYE\"     \"SWA%NTE\"     \"SPG%VTE\"     \"SVSS%NE\"     \"S%TGGQET\"   \n",
       " [701] \"SVG%SPYE\"    \"SLDG%GTE\"    \"SLGDR%YG\"    \"SP%TGGGTE\"   \"SLGT%GAYE\"  \n",
       " [706] \"SQDRG%TGE\"   \"SLEGG%TDT\"   \"%PNTE\"       \"S%GYYG\"      \"S%AGANV\"    \n",
       " [711] \"SR%TE\"       \"SP%DE\"       \"S%GSDG\"      \"S%EDTGE\"     \"SLS%RET\"    \n",
       " [716] \"SYS%RNTE\"    \"SFGG%NSP\"    \"SAGQGV%E\"    \"S%SGDSGNT\"   \"SRDR%TNEK\"  \n",
       " [721] \"SLSGG%TGE\"   \"S%NEK\"       \"SAG%YE\"      \"SWG%GE\"      \"TGQ%NTE\"    \n",
       " [726] \"RR%NEK\"      \"SGTGG%QP\"    \"RRN%\"        \"K%GSYG\"      \"SA%VNE\"     \n",
       " [731] \"S%SWGTE\"     \"S%GQLET\"     \"HR%MNTE\"     \"SQ%YTGE\"     \"SRG%EYE\"    \n",
       " [736] \"EGQGG%E\"     \"S%GGAPDT\"    \"S%GPTNTE\"    \"S%DSPNTE\"    \"SLVG%STDT\"  \n",
       " [741] \"SLRT%E\"      \"SRTG%ET\"     \"SLAG%TGE\"    \"RD%YE\"       \"S%ISYE\"     \n",
       " [746] \"TQG%YG\"      \"SR%RNTE\"     \"SRDR%TGE\"    \"%RET\"        \"S%GPGE\"     \n",
       " [751] \"SLE%E\"       \"%SGQTYE\"     \"%LDRNTE\"     \"SPG%TYG\"     \"SLV%GYG\"    \n",
       " [756] \"S%GGTTYE\"    \"SL%TGGNT\"    \"SL%TGNSP\"    \"SLD%YNSP\"    \"SQDS%NTE\"   \n",
       " [761] \"S%GAGGYNE\"   \"%LGDE\"       \"S%GYG\"       \"SP%RAE\"      \"SYS%DT\"     \n",
       " [766] \"SIGQ%G\"      \"SQGAG%\"      \"S%QRGTE\"     \"SP%VTDT\"     \"SQ%WNTE\"    \n",
       " [771] \"SRD%NSP\"     \"SYRE%TE\"     \"S%GQDTDT\"    \"S%GTNSYE\"    \"SL%GEGYE\"   \n",
       " [776] \"SRD%NTGE\"    \"S%GQASGNT\"   \"S%GTANTGE\"   \"RPGTG%NQP\"   \"SLGTG%TGE\"  \n",
       " [781] \"SYGLAGG%E\"   \"RV%TDT\"      \"SLSS%E\"      \"SF%GTGE\"     \"SQG%GNQP\"   \n",
       " [786] \"S%GLAGSYE\"   \"%RGYE\"       \"SLS%GE\"      \"SYTG%E\"      \"SYPGT%\"     \n",
       " [791] \"SSSGN%\"      \"%GTSDYE\"     \"%GTNTDT\"     \"S%GTDYE\"     \"SYRV%TE\"    \n",
       " [796] \"SLGGT%E\"     \"S%TGAKNI\"    \"S%RGGDEK\"    \"S%VAGTDT\"    \"SLLQG%YE\"   \n",
       " [801] \"SLGT%SYNE\"   \"SPTGG%TDT\"   \"SGLAG%YNE\"   \"SPRTGG%YE\"   \"S%RGE\"      \n",
       " [806] \"K%GDQP\"      \"SP%EGE\"      \"S%RANYG\"     \"SS%GTDT\"     \"SLD%NSP\"    \n",
       " [811] \"S%RSSNQP\"    \"S%SGGGNT\"    \"SY%GGPYE\"    \"SF%SSYNE\"    \"SYG%GGYE\"   \n",
       " [816] \"SLT%GNTE\"    \"SLL%GGTE\"    \"SSDRG%ET\"    \"SL%GGGNQP\"   \"SVRG%SYNE\"  \n",
       " [821] \"RD%SNQP\"     \"R%NE\"        \"%SSYE\"       \"S%VGNT\"      \"SR%AGE\"     \n",
       " [826] \"SE%PDT\"      \"SPSN%E\"      \"S%VWNTE\"     \"SG%GAYE\"     \"SS%GIYE\"    \n",
       " [831] \"SL%IQET\"     \"SFS%NTE\"     \"SSRG%DT\"     \"SLG%GGNT\"    \"SLS%GGTE\"   \n",
       " [836] \"SPQG%GNT\"    \"SGTG%TDT\"    \"SLQG%YNE\"    \"SLVGA%GE\"    \"S%EGSGANV\"  \n",
       " [841] \"SI%GE\"       \"%TSTDT\"      \"%SSGNT\"      \"S%GLSYE\"     \"S%FGGTE\"    \n",
       " [846] \"S%GDSYG\"     \"S%STTGE\"     \"SE%NTGE\"     \"SP%ISYE\"     \"SSGQ%YE\"    \n",
       " [851] \"%PGHLNTE\"    \"S%GTGSYG\"    \"S%GRRNTE\"    \"S%PGQGPYE\"   \"SP%TGGSYE\"  \n",
       " [856] \"SD%AGGTDT\"   \"SP%AGGYNE\"   \"%YYNE\"       \"SY%DT\"       \"SPR%NE\"     \n",
       " [861] \"SPGT%E\"      \"R%AGGTDT\"    \"S%QGPE\"      \"SLVN%E\"      \"S%QGAQP\"    \n",
       " [866] \"S%TPGTE\"     \"SP%SYNE\"     \"SFP%SYE\"     \"SPDR%QP\"     \"SVGG%GG\"    \n",
       " [871] \"SLTGN%E\"     \"S%AGGLDE\"    \"S%LQGNTE\"    \"SQTG%NTE\"    \"SL%GSSTDT\"  \n",
       " [876] \"SRG%GSSYE\"   \"S%PPDT\"      \"SG%GNE\"      \"RP%NTE\"      \"SF%DYE\"     \n",
       " [881] \"SFG%DT\"      \"S%RTGRE\"     \"S%RSTDT\"     \"SF%GANV\"     \"SS%STDT\"    \n",
       " [886] \"SLD%QET\"     \"SPA%TDT\"     \"S%GLRTDT\"    \"S%DSMNTE\"    \"SS%RSSYE\"   \n",
       " [891] \"SP%TVNTE\"    \"SV%TGGTE\"    \"SRG%RTDT\"    \"SVR%SYNE\"    \"SPGR%NQP\"   \n",
       " [896] \"SLDRG%QP\"    \"S%VYNE\"      \"S%VSTE\"      \"%QSMNTE\"     \"S%GTEYE\"    \n",
       " [901] \"S%TSAYE\"     \"SP%TTGE\"     \"SQ%GDTE\"     \"SAGTG%E\"     \"SL%PGGTE\"   \n",
       " [906] \"SLG%GDQP\"    \"%SYE\"        \"S%DTE\"       \"S%LYE\"       \"SLS%YE\"     \n",
       " [911] \"%SGSTDT\"     \"%AAQET\"      \"SPP%YG\"      \"SLVGD%\"      \"SD%DTGE\"    \n",
       " [916] \"SW%GNTE\"     \"SF%STGE\"     \"SLGS%QP\"     \"SPGT%GE\"     \"SL%RGTGE\"   \n",
       " [921] \"SPGH%NTE\"    \"SEAGG%NE\"    \"SVTGG%ET\"    \"G%GDEK\"      \"S%VDNE\"     \n",
       " [926] \"STS%DT\"      \"S%RAGTE\"     \"SW%STDT\"     \"S%AATNEK\"    \"S%LGSYNE\"   \n",
       " [931] \"S%VGGNQP\"    \"S%PGGNTE\"    \"SL%DRGYE\"    \"SPG%GNSP\"    \"SLGG%PYE\"   \n",
       " [936] \"SVAGG%DT\"    \"SLGQGA%G\"    \"SQGLAG%GE\"   \"%GGDT\"       \"GGN%\"       \n",
       " [941] \"SWGD%\"       \"GDR%YG\"      \"SLGGN%\"      \"%PRGTDT\"     \"S%ARNTE\"    \n",
       " [946] \"S%SANTE\"     \"S%GRSTE\"     \"SAG%SYG\"     \"SQGG%NQP\"    \"S%RQGGNQP\"  \n",
       " [951] \"SP%PYE\"      \"G%NE\"        \"%YNYG\"       \"GL%GTGE\"     \"SLRT%YE\"    \n",
       " [956] \"SLAG%YG\"     \"SLGR%QP\"     \"SLDR%NSP\"    \"SPPGQG%YE\"   \"%DSSYE\"     \n",
       " [961] \"%EGEK\"       \"S%DGNSP\"     \"SLSG%ET\"     \"SGG%NTGE\"    \"SL%NNE\"     \n",
       " [966] \"SVS%DT\"      \"SYRG%G\"      \"SGGGY%\"      \"SPA%NTE\"     \"S%GTANQP\"   \n",
       " [971] \"SLR%GAGE\"    \"SLG%TGE\"     \"T%GYE\"       \"%DTNTE\"      \"S%LNEK\"     \n",
       " [976] \"SD%YYG\"      \"S%GGHYE\"     \"SL%SNTE\"     \"SL%GGQP\"     \"SSR%TDT\"    \n",
       " [981] \"R%RGLNTE\"    \"SP%NSNQP\"    \"SA%SYE\"      \"SEG%NYG\"     \"%SYNE\"      \n",
       " [986] \"SPG%G\"       \"%AGSYE\"      \"S%RWGE\"      \"S%SPGE\"      \"SL%LSYE\"    \n",
       " [991] \"SS%RAYE\"     \"SS%GDTE\"     \"SSGT%NQP\"    \"I%NTE\"       \"SN%DT\"      \n",
       " [996] \"SS%NEK\"      \"S%GGGNQP\"    \"SLTGG%TE\"    \"SPTGG%YE\"    \"SL%LAGVGE\"  \n",
       "[1001] \"SLGD%\"       \"SLS%DT\"      \"S%RGQGE\"     \"SQ%GNQP\"     \"SFGGR%E\"    \n",
       "[1006] \"S%LAGDYE\"    \"S%DRANTE\"    \"SL%GGTYE\"    \"SQG%GSYE\"    \"SPPGLAG%E\"  \n",
       "[1011] \"S%TASYE\"     \"SL%GDYE\"     \"SR%ASYE\"     \"S%GTGDQP\"    \"SLTGG%YE\"   \n",
       "[1016] \"SPTG%G\"      \"%TGNTGE\"     \"SRQG%GE\"     \"SYS%DE\"      \"SLNS%E\"     \n",
       "[1021] \"SV%RNTE\"     \"SL%PGNE\"     \"S%AGGADT\"    \"S%GHLNTE\"    \"S%GINYG\"    \n",
       "[1026] \"SE%RGTE\"     \"SPGG%QP\"     \"R%TGGNTE\"    \"SSGTG%YE\"    \"S%RSSYNSP\"  \n",
       "[1031] \"%RTGE\"       \"S%YYE\"       \"%GGGYG\"      \"SLDRG%E\"     \"%LTYE\"      \n",
       "[1036] \"%DRGLNTE\"    \"RDR%NSP\"     \"SLGT%\"       \"R%LNYG\"      \"SP%NSP\"     \n",
       "[1041] \"SLVGQ%\"      \"SLGGD%\"      \"SLG%GET\"     \"SGQGA%E\"     \"SLG%GTGE\"   \n",
       "[1046] \"SW%DE\"       \"S%REGTDT\"    \"SPL%E\"       \"%DSTDT\"      \"S%GHYE\"     \n",
       "[1051] \"S%LGVE\"      \"R%TGGYG\"     \"S%GLGET\"     \"SVG%GET\"     \"SLQG%YG\"    \n",
       "[1056] \"SV%SSYNE\"    \"S%PGG\"       \"SL%PGE\"      \"S%DRET\"      \"SAGS%E\"     \n",
       "[1061] \"S%TGRTE\"     \"S%SGRET\"     \"S%LSTDT\"     \"S%HSNQP\"     \"R%GGNEK\"    \n",
       "[1066] \"SEG%NSP\"     \"SPGL%TDT\"    \"S%GQP\"       \"SR%GE\"       \"SL%VGE\"     \n",
       "[1071] \"SPPG%G\"      \"SYT%E\"       \"S%ELNTE\"     \"S%DRDQP\"     \"%QGAGE\"     \n",
       "[1076] \"S%SGSYE\"     \"SQGG%T\"      \"RGT%NSP\"     \"S%GEK\"       \"R%ADT\"      \n",
       "[1081] \"SLAGG%NE\"    \"S%RDNQP\"     \"SLG%GNT\"     \"SVGTG%E\"     \"SAGQG%YE\"   \n",
       "[1086] \"SLS%NE\"      \"SPS%SYE\"     \"SPQGA%E\"     \"%GATNEK\"     \"SLG%G\"      \n",
       "[1091] \"SL%DG\"       \"SS%RNE\"      \"S%TGGET\"     \"R%DRE\"       \"S%WDE\"      \n",
       "[1096] \"RL%ET\"       \"SF%ET\"       \"RT%YE\"       \"%GGSET\"      \"SL%GDG\"     \n",
       "[1101] \"SLL%TE\"      \"SSSG%T\"      \"STQG%E\"      \"S%TGQET\"     \"S%GVGQP\"    \n",
       "[1106] \"SL%TGYE\"     \"SL%RGRE\"     \"SR%GYNE\"     \"SFTGG%E\"     \"S%GQGNEK\"   \n",
       "[1111] \"GG%TE\"       \"SL%EK\"       \"SRT%E\"       \"%PMNTE\"      \"G%GNQP\"     \n",
       "[1116] \"S%DSNTE\"     \"S%QGDYG\"     \"SQV%GGE\"     \"SFRG%GE\"     \"SPG%SNQP\"   \n",
       "[1121] \"SLTSG%YE\"    \"SRG%GE\"      \"%GQGAYE\"     \"S%GRYNE\"     \"SP%LNTE\"    \n",
       "[1126] \"S%RGSYNE\"    \"SSY%\"        \"G%SGNT\"      \"SP%GRG\"      \"SG%DNE\"     \n",
       "[1131] \"RQ%NQP\"      \"SQD%RG\"      \"%QGSTDT\"     \"S%TSGYE\"     \"SFGG%GE\"    \n",
       "[1136] \"RG%E\"        \"SSR%E\"       \"S%GPGG\"      \"ST%TDT\"      \"SLRTG%\"     \n",
       "[1141] \"D%SGANV\"     \"S%GLGNE\"     \"S%PSSYE\"     \"SPRG%YE\"     \"S%RSSYNE\"   \n",
       "[1146] \"%GQGGYE\"     \"G%G\"         \"R%GYE\"       \"S%GQGG\"      \"SR%DTE\"     \n",
       "[1151] \"S%GFSYE\"     \"S%GRNQP\"     \"SD%DT\"       \"S%GLAGAGE\"   \"SE%GE\"      \n",
       "[1156] \"SEY%E\"       \"SY%\"         \"%RDTE\"       \"R%RGYE\"      \"%EGNQP\"     \n",
       "[1161] \"%GGGNT\"      \"SGTS%E\"      \"S%GTSGYE\"    \"RGLAGG%E\"    \"G%NTE\"      \n",
       "[1166] \"S%SSGE\"      \"RG%STDT\"     \"S%RNT\"       \"RG%TE\"       \"SS%AE\"      \n",
       "[1171] \"%GNE\"        \"R%ENTE\"      \"SR%GYG\"      \"%NTE\"        \"%PSSYNE\"    \n",
       "[1176] \"%EYNE\"       \"SLG%GG\"      \"SRG%ET\"      \"SQGR%\"       \"SLGP%E\"     \n",
       "[1181] \"S%GLAGGYE\"   \"R%GEK\"       \"SGLAG%YE\"    \"VG%E\"        \"%QGNQP\"     \n",
       "[1186] \"SRGA%E\"      \"SS%E\"        \"SSL%E\"       \"SLVG%G\"      \"R%TDT\"      \n",
       "[1191] \"SS%NE\"       \"SG%GNT\"      \"SPS%GE\"      \"%RGDTE\"      \"SQGA%E\"     \n",
       "[1196] \"SS%DT\"       \"%GGE\"        \"%VNTE\"       \"T%SGNT\"      \"R%YE\"       \n",
       "[1201] \"%GSNQP\"      \"%EGYE\"       \"S%GAGG\"      \"G%YNE\"       \"SPGT%\"      \n",
       "[1206] \"S%GDG\"       \"SSY%E\"       \"S%GRG\"       \"SE%NE\"       \"GG%NQP\"     \n",
       "[1211] \"SWG%E\"       \"S%\"          \"%GSGE\"       \"G%P\"         \"GT%YG\"      \n",
       "[1216] \"SQG%G\"       \"RQG%GE\"      \"%YG\"         \"GG%E\"        \"G%GYE\"      \n",
       "[1221] \"G%TDT\"       \"SG%GE\"       \"G%TE\"        \"S%G\"         \"%YE\"        "
      ]
     },
     "metadata": {},
     "output_type": "display_data"
    }
   ],
   "source": [
    "colnames(cfdna_hla_v_j_gliph)[271:ncol(cfdna_hla_v_j_gliph)]"
   ]
  },
  {
   "cell_type": "code",
   "execution_count": null,
   "metadata": {
    "vscode": {
     "languageId": "r"
    }
   },
   "outputs": [],
   "source": [
    "cols_gliph <- colnames(cfdna_hla_v_j_gliph)[271:ncol(cfdna_hla_v_j_gliph)]"
   ]
  },
  {
   "cell_type": "code",
   "execution_count": null,
   "metadata": {
    "vscode": {
     "languageId": "r"
    }
   },
   "outputs": [],
   "source": [
    "cfdna_hla_v_j_gliph$cyclenum <- as.numeric(gsub(\"X0\", \"\", cfdna_hla_v_j_gliph$cycle))"
   ]
  },
  {
   "cell_type": "code",
   "execution_count": null,
   "metadata": {
    "vscode": {
     "languageId": "r"
    }
   },
   "outputs": [],
   "source": [
    "# cfdna_flowonly <- imputepca.fx(cfdna_hla_v_j_gliph, c(cols_flow))"
   ]
  },
  {
   "cell_type": "code",
   "execution_count": null,
   "metadata": {
    "vscode": {
     "languageId": "r"
    }
   },
   "outputs": [],
   "source": [
    "# cfdna_tcrhla <- imputepca.fx(cfdna_hla_v_j_gliph, c(cols_others, cols_tbv, cols_tbj))"
   ]
  },
  {
   "cell_type": "code",
   "execution_count": null,
   "metadata": {
    "vscode": {
     "languageId": "r"
    }
   },
   "outputs": [],
   "source": [
    "cfdna_all <- imputepca.fx(cfdna_hla_v_j_gliph, c(cols_flow, cols_others, cols_tbv))"
   ]
  },
  {
   "cell_type": "code",
   "execution_count": null,
   "metadata": {
    "vscode": {
     "languageId": "r"
    }
   },
   "outputs": [
    {
     "data": {
      "text/plain": [
       "[[1]]\n",
       "Logistic Regression Model\n",
       "\n",
       "rms::lrm(formula = Relapse ~ sumdist_n, data = mypatients)\n",
       "\n",
       "                      Model Likelihood     Discrimination    Rank Discrim.    \n",
       "                            Ratio Test            Indexes          Indexes    \n",
       "Obs            71    LR chi2      0.61     R2       0.014    C       0.600    \n",
       " 0             57    d.f.            1     R2(1,71) 0.000    Dxy     0.199    \n",
       " 1             14    Pr(> chi2) 0.4346    R2(1,33.7)0.000    gamma   0.199    \n",
       "max |deriv| 5e-05                          Brier    0.157    tau-a   0.064    \n",
       "\n",
       "          Coef    S.E.   Wald Z Pr(>|Z|)\n",
       "Intercept -1.1315 0.4580 -2.47  0.0135  \n",
       "sumdist_n -0.1340 0.1829 -0.73  0.4638  \n",
       "\n",
       "\n",
       "[[2]]\n",
       "Logistic Regression Model\n",
       "\n",
       "rms::lrm(formula = Relapse ~ meddist_n, data = mypatients)\n",
       "\n",
       "                      Model Likelihood     Discrimination    Rank Discrim.    \n",
       "                            Ratio Test            Indexes          Indexes    \n",
       "Obs            71    LR chi2      0.24     R2       0.005    C       0.469    \n",
       " 0             57    d.f.            1     R2(1,71) 0.000    Dxy    -0.061    \n",
       " 1             14    Pr(> chi2) 0.6223    R2(1,33.7)0.000    gamma  -0.062    \n",
       "max |deriv| 2e-07                          Brier    0.158    tau-a  -0.020    \n",
       "\n",
       "          Coef    S.E.   Wald Z Pr(>|Z|)\n",
       "Intercept -1.5496 0.4234 -3.66  0.0003  \n",
       "meddist_n  0.1392 0.2759  0.50  0.6139  \n",
       "\n"
      ]
     },
     "metadata": {},
     "output_type": "display_data"
    }
   ],
   "source": [
    "cfdna_all[5:6]"
   ]
  },
  {
   "cell_type": "code",
   "execution_count": null,
   "metadata": {
    "vscode": {
     "languageId": "r"
    }
   },
   "outputs": [],
   "source": []
  },
  {
   "cell_type": "markdown",
   "metadata": {},
   "source": [
    "# Impute with rms"
   ]
  },
  {
   "cell_type": "code",
   "execution_count": null,
   "metadata": {
    "vscode": {
     "languageId": "r"
    }
   },
   "outputs": [],
   "source": [
    "pacman::p_load(rms)"
   ]
  },
  {
   "cell_type": "code",
   "execution_count": null,
   "metadata": {
    "vscode": {
     "languageId": "r"
    }
   },
   "outputs": [
    {
     "data": {
      "text/html": [
       "<style>\n",
       ".list-inline {list-style: none; margin:0; padding: 0}\n",
       ".list-inline>li {display: inline-block}\n",
       ".list-inline>li:not(:last-child)::after {content: \"\\00b7\"; padding: 0 .5ex}\n",
       "</style>\n",
       "<ol class=list-inline><li>241</li><li>10</li></ol>\n"
      ],
      "text/latex": [
       "\\begin{enumerate*}\n",
       "\\item 241\n",
       "\\item 10\n",
       "\\end{enumerate*}\n"
      ],
      "text/markdown": [
       "1. 241\n",
       "2. 10\n",
       "\n",
       "\n"
      ],
      "text/plain": [
       "[1] 241  10"
      ]
     },
     "metadata": {},
     "output_type": "display_data"
    },
    {
     "data": {
      "text/html": [
       "<style>\n",
       ".list-inline {list-style: none; margin:0; padding: 0}\n",
       ".list-inline>li {display: inline-block}\n",
       ".list-inline>li:not(:last-child)::after {content: \"\\00b7\"; padding: 0 .5ex}\n",
       "</style>\n",
       "<ol class=list-inline><li>241</li><li>8830</li></ol>\n"
      ],
      "text/latex": [
       "\\begin{enumerate*}\n",
       "\\item 241\n",
       "\\item 8830\n",
       "\\end{enumerate*}\n"
      ],
      "text/markdown": [
       "1. 241\n",
       "2. 8830\n",
       "\n",
       "\n"
      ],
      "text/plain": [
       "[1]  241 8830"
      ]
     },
     "metadata": {},
     "output_type": "display_data"
    }
   ],
   "source": [
    "dim(mymat_post)\n",
    "dim(df_post)"
   ]
  },
  {
   "cell_type": "code",
   "execution_count": null,
   "metadata": {
    "vscode": {
     "languageId": "r"
    }
   },
   "outputs": [],
   "source": [
    "colnames(mymat_post) <- gsub(\"%\", \"_p\", colnames(mymat_post))\n",
    "colnames(df_post) <- gsub(\"%\", \"_p\", colnames(df_post))"
   ]
  },
  {
   "cell_type": "code",
   "execution_count": null,
   "metadata": {
    "vscode": {
     "languageId": "r"
    }
   },
   "outputs": [],
   "source": [
    "mycols <- c(cols_flow, cols_others)\n",
    "mycols <- gsub(\"%\", \"_p\", mycols)"
   ]
  },
  {
   "cell_type": "code",
   "execution_count": null,
   "metadata": {
    "vscode": {
     "languageId": "r"
    }
   },
   "outputs": [
    {
     "data": {
      "text/html": [
       "<style>\n",
       ".list-inline {list-style: none; margin:0; padding: 0}\n",
       ".list-inline>li {display: inline-block}\n",
       ".list-inline>li:not(:last-child)::after {content: \"\\00b7\"; padding: 0 .5ex}\n",
       "</style>\n",
       "<ol class=list-inline><li>'ATC'</li><li>'Naïve_p'</li><li>'SCM_p'</li><li>'CM_p'</li><li>'EM_p'</li><li>'TE_p'</li><li>'PD1_p'</li><li>'LAG3_p'</li><li>'TIM3_p'</li><li>'observed_Shannon'</li></ol>\n"
      ],
      "text/latex": [
       "\\begin{enumerate*}\n",
       "\\item 'ATC'\n",
       "\\item 'Naïve\\_p'\n",
       "\\item 'SCM\\_p'\n",
       "\\item 'CM\\_p'\n",
       "\\item 'EM\\_p'\n",
       "\\item 'TE\\_p'\n",
       "\\item 'PD1\\_p'\n",
       "\\item 'LAG3\\_p'\n",
       "\\item 'TIM3\\_p'\n",
       "\\item 'observed\\_Shannon'\n",
       "\\end{enumerate*}\n"
      ],
      "text/markdown": [
       "1. 'ATC'\n",
       "2. 'Naïve_p'\n",
       "3. 'SCM_p'\n",
       "4. 'CM_p'\n",
       "5. 'EM_p'\n",
       "6. 'TE_p'\n",
       "7. 'PD1_p'\n",
       "8. 'LAG3_p'\n",
       "9. 'TIM3_p'\n",
       "10. 'observed_Shannon'\n",
       "\n",
       "\n"
      ],
      "text/plain": [
       " [1] \"ATC\"              \"Naïve_p\"          \"SCM_p\"            \"CM_p\"            \n",
       " [5] \"EM_p\"             \"TE_p\"             \"PD1_p\"            \"LAG3_p\"          \n",
       " [9] \"TIM3_p\"           \"observed_Shannon\""
      ]
     },
     "metadata": {},
     "output_type": "display_data"
    }
   ],
   "source": [
    "mycols"
   ]
  },
  {
   "cell_type": "code",
   "execution_count": null,
   "metadata": {
    "vscode": {
     "languageId": "r"
    }
   },
   "outputs": [],
   "source": [
    "ipc_r <- prcomp( formula( paste(\"~\", paste(mycols), collapse = \"+\" ) ), data = mymat_post)"
   ]
  },
  {
   "cell_type": "code",
   "execution_count": null,
   "metadata": {
    "vscode": {
     "languageId": "r"
    }
   },
   "outputs": [
    {
     "data": {
      "text/plain": [
       "~ATC + Naïve_p + SCM_p + CM_p + EM_p + TE_p + PD1_p + LAG3_p + \n",
       "    TIM3_p + observed_Shannon"
      ]
     },
     "metadata": {},
     "output_type": "display_data"
    }
   ],
   "source": [
    "as.formula( paste(\"~\", paste(mycols, collapse = \"+\") ) )"
   ]
  },
  {
   "cell_type": "code",
   "execution_count": null,
   "metadata": {
    "vscode": {
     "languageId": "r"
    }
   },
   "outputs": [],
   "source": [
    "ptrans <- transcan(  as.formula( paste(\"~ \", paste(c(\"observed_Shannon\",\"Naïve_p\",\"SCM_p\", \"CM_p\",\"EM_p\",\"LAG3_p\",\"PD1_p\", \"ATC\"), collapse = \"+\") ) ) ,\n",
    "imputed=TRUE , transformed =TRUE , data= mymat_post , pl= FALSE , pr= FALSE, iter.max = 1000)"
   ]
  },
  {
   "cell_type": "code",
   "execution_count": null,
   "metadata": {
    "vscode": {
     "languageId": "r"
    }
   },
   "outputs": [],
   "source": [
    "trans <- ptrans$transformed"
   ]
  },
  {
   "cell_type": "code",
   "execution_count": null,
   "metadata": {
    "vscode": {
     "languageId": "r"
    }
   },
   "outputs": [
    {
     "name": "stdout",
     "output_type": "stream",
     "text": [
      "\n",
      "\n",
      "Imputed missing values with the following frequencies\n",
      " and stored them in variables with their original names:\n",
      "\n",
      "observed_Shannon          Naïve_p            SCM_p             CM_p \n",
      "              88              109              109              109 \n",
      "            EM_p           LAG3_p            PD1_p              ATC \n",
      "             109              112              112                2 \n"
     ]
    }
   ],
   "source": [
    "imp <- impute(ptrans , data= mymat_post , list.out= TRUE)"
   ]
  },
  {
   "cell_type": "code",
   "execution_count": null,
   "metadata": {
    "vscode": {
     "languageId": "r"
    }
   },
   "outputs": [
    {
     "data": {
      "text/html": [
       "<style>\n",
       ".list-inline {list-style: none; margin:0; padding: 0}\n",
       ".list-inline>li {display: inline-block}\n",
       ".list-inline>li:not(:last-child)::after {content: \"\\00b7\"; padding: 0 .5ex}\n",
       "</style>\n",
       "<ol class=list-inline><li>'observed_Shannon'</li><li>'Naïve_p'</li><li>'SCM_p'</li><li>'CM_p'</li><li>'EM_p'</li><li>'LAG3_p'</li><li>'PD1_p'</li><li>'ATC'</li></ol>\n"
      ],
      "text/latex": [
       "\\begin{enumerate*}\n",
       "\\item 'observed\\_Shannon'\n",
       "\\item 'Naïve\\_p'\n",
       "\\item 'SCM\\_p'\n",
       "\\item 'CM\\_p'\n",
       "\\item 'EM\\_p'\n",
       "\\item 'LAG3\\_p'\n",
       "\\item 'PD1\\_p'\n",
       "\\item 'ATC'\n",
       "\\end{enumerate*}\n"
      ],
      "text/markdown": [
       "1. 'observed_Shannon'\n",
       "2. 'Naïve_p'\n",
       "3. 'SCM_p'\n",
       "4. 'CM_p'\n",
       "5. 'EM_p'\n",
       "6. 'LAG3_p'\n",
       "7. 'PD1_p'\n",
       "8. 'ATC'\n",
       "\n",
       "\n"
      ],
      "text/plain": [
       "[1] \"observed_Shannon\" \"Naïve_p\"          \"SCM_p\"            \"CM_p\"            \n",
       "[5] \"EM_p\"             \"LAG3_p\"           \"PD1_p\"            \"ATC\"             "
      ]
     },
     "metadata": {},
     "output_type": "display_data"
    }
   ],
   "source": [
    "names(imp)"
   ]
  },
  {
   "cell_type": "code",
   "execution_count": null,
   "metadata": {
    "vscode": {
     "languageId": "r"
    }
   },
   "outputs": [],
   "source": [
    "NAvars <- all.vars( as.formula( paste(\"~\", paste(names(imp), collapse = \"+\") ) ))"
   ]
  },
  {
   "cell_type": "code",
   "execution_count": null,
   "metadata": {
    "vscode": {
     "languageId": "r"
    }
   },
   "outputs": [
    {
     "data": {
      "text/html": [
       "<style>\n",
       ".list-inline {list-style: none; margin:0; padding: 0}\n",
       ".list-inline>li {display: inline-block}\n",
       ".list-inline>li:not(:last-child)::after {content: \"\\00b7\"; padding: 0 .5ex}\n",
       "</style>\n",
       "<ol class=list-inline><li>'observed_Shannon'</li><li>'Naïve_p'</li><li>'SCM_p'</li><li>'CM_p'</li><li>'EM_p'</li><li>'LAG3_p'</li><li>'PD1_p'</li><li>'ATC'</li></ol>\n"
      ],
      "text/latex": [
       "\\begin{enumerate*}\n",
       "\\item 'observed\\_Shannon'\n",
       "\\item 'Naïve\\_p'\n",
       "\\item 'SCM\\_p'\n",
       "\\item 'CM\\_p'\n",
       "\\item 'EM\\_p'\n",
       "\\item 'LAG3\\_p'\n",
       "\\item 'PD1\\_p'\n",
       "\\item 'ATC'\n",
       "\\end{enumerate*}\n"
      ],
      "text/markdown": [
       "1. 'observed_Shannon'\n",
       "2. 'Naïve_p'\n",
       "3. 'SCM_p'\n",
       "4. 'CM_p'\n",
       "5. 'EM_p'\n",
       "6. 'LAG3_p'\n",
       "7. 'PD1_p'\n",
       "8. 'ATC'\n",
       "\n",
       "\n"
      ],
      "text/plain": [
       "[1] \"observed_Shannon\" \"Naïve_p\"          \"SCM_p\"            \"CM_p\"            \n",
       "[5] \"EM_p\"             \"LAG3_p\"           \"PD1_p\"            \"ATC\"             "
      ]
     },
     "metadata": {},
     "output_type": "display_data"
    }
   ],
   "source": [
    "NAvars"
   ]
  },
  {
   "cell_type": "code",
   "execution_count": null,
   "metadata": {
    "vscode": {
     "languageId": "r"
    }
   },
   "outputs": [],
   "source": [
    "for(x in NAvars ) mymat_post[[x]] <- imp[[x]]"
   ]
  },
  {
   "cell_type": "code",
   "execution_count": null,
   "metadata": {
    "vscode": {
     "languageId": "r"
    }
   },
   "outputs": [
    {
     "ename": "ERROR",
     "evalue": "Error in svd(x, nu = 0, nv = k): infinite or missing values in 'x'\n",
     "output_type": "error",
     "traceback": [
      "Error in svd(x, nu = 0, nv = k): infinite or missing values in 'x'\nTraceback:\n",
      "1. prcomp(mymat_post)",
      "2. prcomp.default(mymat_post)",
      "3. svd(x, nu = 0, nv = k)",
      "4. stop(\"infinite or missing values in 'x'\")"
     ]
    }
   ],
   "source": [
    "pca <- prcomp(mymat_post)"
   ]
  },
  {
   "cell_type": "code",
   "execution_count": null,
   "metadata": {
    "vscode": {
     "languageId": "r"
    }
   },
   "outputs": [
    {
     "data": {
      "text/html": [
       "<table class=\"dataframe\">\n",
       "<caption>A data.frame: 6 x 10</caption>\n",
       "<thead>\n",
       "\t<tr><th></th><th scope=col>ATC</th><th scope=col>Naïve_p</th><th scope=col>SCM_p</th><th scope=col>CM_p</th><th scope=col>EM_p</th><th scope=col>TE_p</th><th scope=col>PD1_p</th><th scope=col>LAG3_p</th><th scope=col>TIM3_p</th><th scope=col>observed_Shannon</th></tr>\n",
       "\t<tr><th></th><th scope=col>&lt;dbl&gt;</th><th scope=col>&lt;impute&gt;</th><th scope=col>&lt;impute&gt;</th><th scope=col>&lt;impute&gt;</th><th scope=col>&lt;impute&gt;</th><th scope=col>&lt;dbl&gt;</th><th scope=col>&lt;impute&gt;</th><th scope=col>&lt;impute&gt;</th><th scope=col>&lt;dbl&gt;</th><th scope=col>&lt;dbl&gt;</th></tr>\n",
       "</thead>\n",
       "<tbody>\n",
       "\t<tr><th scope=row>CHP_319_05</th><td>  0.00</td><td> 0.5683605</td><td> 1.810487</td><td>49.004371</td><td> 4.824971</td><td>NA</td><td>45.0229709</td><td>36.768343</td><td>NA</td><td> 11.878</td></tr>\n",
       "\t<tr><th scope=row>CHP_323_03</th><td>786.24</td><td> 0.0000000</td><td> 1.948590</td><td>49.004371</td><td> 3.478536</td><td>NA</td><td>45.0229709</td><td>36.768343</td><td>NA</td><td> 37.722</td></tr>\n",
       "\t<tr><th scope=row>CHP_323_05</th><td>979.50</td><td>39.0626652</td><td>76.591154</td><td> 1.921128</td><td>13.963253</td><td>NA</td><td>17.2593332</td><td> 2.192318</td><td>NA</td><td> 81.753</td></tr>\n",
       "\t<tr><th scope=row>CHP_324_05</th><td>  0.00</td><td>50.8891349</td><td> 3.199104</td><td> 0.000000</td><td> 4.242280</td><td>NA</td><td> 0.8523070</td><td> 0.462963</td><td>NA</td><td>129.919</td></tr>\n",
       "\t<tr><th scope=row>CHP_328_04</th><td>130.82</td><td>46.8415262</td><td> 2.638178</td><td> 0.000000</td><td> 3.422228</td><td>NA</td><td> 0.4744359</td><td> 0.462963</td><td>NA</td><td>223.747</td></tr>\n",
       "\t<tr><th scope=row>CHP_328_05</th><td> 91.16</td><td>38.4261274</td><td> 7.635638</td><td> 0.000000</td><td> 8.952722</td><td>NA</td><td> 6.9267577</td><td> 1.144348</td><td>NA</td><td> 87.321</td></tr>\n",
       "</tbody>\n",
       "</table>\n"
      ],
      "text/latex": [
       "A data.frame: 6 x 10\n",
       "\\begin{tabular}{r|llllllllll}\n",
       "  & ATC & Naïve\\_p & SCM\\_p & CM\\_p & EM\\_p & TE\\_p & PD1\\_p & LAG3\\_p & TIM3\\_p & observed\\_Shannon\\\\\n",
       "  & <dbl> & <impute> & <impute> & <impute> & <impute> & <dbl> & <impute> & <impute> & <dbl> & <dbl>\\\\\n",
       "\\hline\n",
       "\tCHP\\_319\\_05 &   0.00 &  0.5683605 &  1.810487 & 49.004371 &  4.824971 & NA & 45.0229709 & 36.768343 & NA &  11.878\\\\\n",
       "\tCHP\\_323\\_03 & 786.24 &  0.0000000 &  1.948590 & 49.004371 &  3.478536 & NA & 45.0229709 & 36.768343 & NA &  37.722\\\\\n",
       "\tCHP\\_323\\_05 & 979.50 & 39.0626652 & 76.591154 &  1.921128 & 13.963253 & NA & 17.2593332 &  2.192318 & NA &  81.753\\\\\n",
       "\tCHP\\_324\\_05 &   0.00 & 50.8891349 &  3.199104 &  0.000000 &  4.242280 & NA &  0.8523070 &  0.462963 & NA & 129.919\\\\\n",
       "\tCHP\\_328\\_04 & 130.82 & 46.8415262 &  2.638178 &  0.000000 &  3.422228 & NA &  0.4744359 &  0.462963 & NA & 223.747\\\\\n",
       "\tCHP\\_328\\_05 &  91.16 & 38.4261274 &  7.635638 &  0.000000 &  8.952722 & NA &  6.9267577 &  1.144348 & NA &  87.321\\\\\n",
       "\\end{tabular}\n"
      ],
      "text/markdown": [
       "\n",
       "A data.frame: 6 x 10\n",
       "\n",
       "| <!--/--> | ATC &lt;dbl&gt; | Naïve_p &lt;impute&gt; | SCM_p &lt;impute&gt; | CM_p &lt;impute&gt; | EM_p &lt;impute&gt; | TE_p &lt;dbl&gt; | PD1_p &lt;impute&gt; | LAG3_p &lt;impute&gt; | TIM3_p &lt;dbl&gt; | observed_Shannon &lt;dbl&gt; |\n",
       "|---|---|---|---|---|---|---|---|---|---|---|\n",
       "| CHP_319_05 |   0.00 |  0.5683605 |  1.810487 | 49.004371 |  4.824971 | NA | 45.0229709 | 36.768343 | NA |  11.878 |\n",
       "| CHP_323_03 | 786.24 |  0.0000000 |  1.948590 | 49.004371 |  3.478536 | NA | 45.0229709 | 36.768343 | NA |  37.722 |\n",
       "| CHP_323_05 | 979.50 | 39.0626652 | 76.591154 |  1.921128 | 13.963253 | NA | 17.2593332 |  2.192318 | NA |  81.753 |\n",
       "| CHP_324_05 |   0.00 | 50.8891349 |  3.199104 |  0.000000 |  4.242280 | NA |  0.8523070 |  0.462963 | NA | 129.919 |\n",
       "| CHP_328_04 | 130.82 | 46.8415262 |  2.638178 |  0.000000 |  3.422228 | NA |  0.4744359 |  0.462963 | NA | 223.747 |\n",
       "| CHP_328_05 |  91.16 | 38.4261274 |  7.635638 |  0.000000 |  8.952722 | NA |  6.9267577 |  1.144348 | NA |  87.321 |\n",
       "\n"
      ],
      "text/plain": [
       "           ATC    Naïve_p    SCM_p     CM_p      EM_p      TE_p PD1_p     \n",
       "CHP_319_05   0.00  0.5683605  1.810487 49.004371  4.824971 NA   45.0229709\n",
       "CHP_323_03 786.24  0.0000000  1.948590 49.004371  3.478536 NA   45.0229709\n",
       "CHP_323_05 979.50 39.0626652 76.591154  1.921128 13.963253 NA   17.2593332\n",
       "CHP_324_05   0.00 50.8891349  3.199104  0.000000  4.242280 NA    0.8523070\n",
       "CHP_328_04 130.82 46.8415262  2.638178  0.000000  3.422228 NA    0.4744359\n",
       "CHP_328_05  91.16 38.4261274  7.635638  0.000000  8.952722 NA    6.9267577\n",
       "           LAG3_p    TIM3_p observed_Shannon\n",
       "CHP_319_05 36.768343 NA      11.878         \n",
       "CHP_323_03 36.768343 NA      37.722         \n",
       "CHP_323_05  2.192318 NA      81.753         \n",
       "CHP_324_05  0.462963 NA     129.919         \n",
       "CHP_328_04  0.462963 NA     223.747         \n",
       "CHP_328_05  1.144348 NA      87.321         "
      ]
     },
     "metadata": {},
     "output_type": "display_data"
    }
   ],
   "source": [
    "head(mymat_post)"
   ]
  },
  {
   "cell_type": "code",
   "execution_count": null,
   "metadata": {
    "vscode": {
     "languageId": "r"
    }
   },
   "outputs": [
    {
     "data": {
      "text/plain": [
       "\n",
       "  0   1 \n",
       "201  40 "
      ]
     },
     "metadata": {},
     "output_type": "display_data"
    }
   ],
   "source": [
    "table(sample_df$Relapse)"
   ]
  },
  {
   "cell_type": "code",
   "execution_count": null,
   "metadata": {
    "vscode": {
     "languageId": "r"
    }
   },
   "outputs": [],
   "source": [
    "trans_fit <- lrm(Relapse ~ trans, data = df_post)"
   ]
  },
  {
   "cell_type": "code",
   "execution_count": null,
   "metadata": {
    "vscode": {
     "languageId": "r"
    }
   },
   "outputs": [
    {
     "data": {
      "text/plain": [
       "Logistic Regression Model\n",
       "\n",
       "lrm(formula = Relapse ~ trans, data = df_post)\n",
       "\n",
       "                      Model Likelihood      Discrimination    Rank Discrim.    \n",
       "                            Ratio Test             Indexes          Indexes    \n",
       "Obs           241    LR chi2      2.51      R2       0.017    C       0.575    \n",
       " 0            201    d.f.            8      R2(8,241)0.000    Dxy     0.151    \n",
       " 1             40    Pr(> chi2) 0.9612    R2(8,100.1)0.000    gamma   0.152    \n",
       "max |deriv| 1e-13                           Brier    0.137    tau-a   0.042    \n",
       "\n",
       "                 Coef    S.E.   Wald Z Pr(>|Z|)\n",
       "Intercept        -1.6268 0.1906 -8.54  <0.0001 \n",
       "observed_Shannon -0.0427 0.3249 -0.13  0.8954  \n",
       "Naïve_p           0.1252 0.2280  0.55  0.5829  \n",
       "SCM_p            -0.0520 0.1998 -0.26  0.7949  \n",
       "CM_p              0.1778 0.2846  0.62  0.5322  \n",
       "EM_p              0.0485 0.2128  0.23  0.8197  \n",
       "LAG3_p            0.0174 0.1979  0.09  0.9301  \n",
       "PD1_p            -0.1998 0.2887 -0.69  0.4890  \n",
       "ATC              -0.2102 0.2022 -1.04  0.2985  \n"
      ]
     },
     "metadata": {},
     "output_type": "display_data"
    }
   ],
   "source": [
    "trans_fit"
   ]
  },
  {
   "cell_type": "code",
   "execution_count": null,
   "metadata": {
    "vscode": {
     "languageId": "r"
    }
   },
   "outputs": [],
   "source": [
    "myf <- as.formula( paste(\"Relapse ~\", paste(mycols[!grepl(\"TE\", mycols)], collapse = \"+\") ) )"
   ]
  },
  {
   "cell_type": "code",
   "execution_count": null,
   "metadata": {
    "vscode": {
     "languageId": "r"
    }
   },
   "outputs": [],
   "source": [
    "raw_fit <- lrm( myf, data = df_post ) "
   ]
  },
  {
   "cell_type": "code",
   "execution_count": null,
   "metadata": {
    "vscode": {
     "languageId": "r"
    }
   },
   "outputs": [
    {
     "data": {
      "text/html": [
       "232.121755498276"
      ],
      "text/latex": [
       "232.121755498276"
      ],
      "text/markdown": [
       "232.121755498276"
      ],
      "text/plain": [
       "[1] 232.1218"
      ]
     },
     "metadata": {},
     "output_type": "display_data"
    },
    {
     "data": {
      "text/html": [
       "121.531113373253"
      ],
      "text/latex": [
       "121.531113373253"
      ],
      "text/markdown": [
       "121.531113373253"
      ],
      "text/plain": [
       "[1] 121.5311"
      ]
     },
     "metadata": {},
     "output_type": "display_data"
    }
   ],
   "source": [
    "AIC(trans_fit)\n",
    "AIC(raw_fit)"
   ]
  },
  {
   "cell_type": "code",
   "execution_count": null,
   "metadata": {
    "vscode": {
     "languageId": "r"
    }
   },
   "outputs": [
    {
     "ename": "ERROR",
     "evalue": "Error in array(x, c(length(x), 1L), if (!is.null(names(x))) list(names(x), : 'data' must be of a vector type, was 'NULL'\n",
     "output_type": "error",
     "traceback": [
      "Error in array(x, c(length(x), 1L), if (!is.null(names(x))) list(names(x), : 'data' must be of a vector type, was 'NULL'\nTraceback:\n",
      "1. prcomp(df_post[, mycols]$x[, 1:5])",
      "2. prcomp.default(df_post[, mycols]$x[, 1:5])",
      "3. as.matrix(x)",
      "4. as.matrix.default(x)",
      "5. array(x, c(length(x), 1L), if (!is.null(names(x))) list(names(x), \n .     NULL) else NULL)"
     ]
    }
   ],
   "source": [
    "pca_raw <- prcomp( sample_df[,mycols[!grepl(\"TIM3\", mycols)] ])$x[,1:5]"
   ]
  },
  {
   "cell_type": "code",
   "execution_count": null,
   "metadata": {
    "vscode": {
     "languageId": "r"
    }
   },
   "outputs": [],
   "source": [
    "pca_trans <- prcomp( trans[,mycols[!grepl(\"TIM3\", mycols)] ])$x[,1:5]"
   ]
  },
  {
   "cell_type": "code",
   "execution_count": null,
   "metadata": {
    "vscode": {
     "languageId": "r"
    }
   },
   "outputs": [],
   "source": [
    "pcaraw_fit <- lrm( Relapse ~ pca_raw, data = sample_df ) \n",
    "pcatrans_fit <- lrm(Relapse ~ pca_trans, data = sample_df )"
   ]
  },
  {
   "cell_type": "code",
   "execution_count": null,
   "metadata": {
    "vscode": {
     "languageId": "r"
    }
   },
   "outputs": [],
   "source": [
    "AIC(pcaraw_fit)\n",
    "AIC(pcatrans_fit)"
   ]
  },
  {
   "cell_type": "markdown",
   "metadata": {
    "vscode": {
     "languageId": "r"
    }
   },
   "source": [
    "# Backup"
   ]
  },
  {
   "cell_type": "code",
   "execution_count": null,
   "metadata": {
    "vscode": {
     "languageId": "r"
    }
   },
   "outputs": [],
   "source": []
  },
  {
   "cell_type": "code",
   "execution_count": null,
   "metadata": {
    "vscode": {
     "languageId": "r"
    }
   },
   "outputs": [],
   "source": [
    "mymat <- pbmc_hla_v_j_gliph[, c(66,200:270)]\n",
    "mymat <- cbind(mymat, pbmc_hla_v_j_gliph[,c('ATC', 'Naïve%','SCM%','CM%','EM%','TE%','PD1%','LAG3%','TIM3%')])\n",
    "# mymat <- pbmc_hla_v_j_gliph[,c('ATC', 'Naïve%','SCM%','CM%','EM%','TE%','PD1%','LAG3%','TIM3%')]\n",
    "rownames(mymat) <- pbmc_hla_v_j_gliph$sample_id"
   ]
  },
  {
   "cell_type": "code",
   "execution_count": null,
   "metadata": {
    "vscode": {
     "languageId": "r"
    }
   },
   "outputs": [],
   "source": [
    "head(mymat, 10)"
   ]
  },
  {
   "cell_type": "code",
   "execution_count": null,
   "metadata": {
    "vscode": {
     "languageId": "r"
    }
   },
   "outputs": [],
   "source": [
    "# remove rows with all NAs\n",
    "mymat <- mymat[ rowSums(is.na(mymat)) != ncol(mymat), ]\n",
    "# rmeove those with only 0s and NAs\n",
    "mymat <- mymat[ rowSums(mymat, na.rm = TRUE) != 0, ]"
   ]
  },
  {
   "cell_type": "code",
   "execution_count": null,
   "metadata": {
    "vscode": {
     "languageId": "r"
    }
   },
   "outputs": [],
   "source": [
    "# sample_df <- as.data.frame(sample_df)\n",
    "rownames(pbmc_hla_v_j_gliph) <- pbmc_hla_v_j_gliph$sample_id"
   ]
  },
  {
   "cell_type": "code",
   "execution_count": null,
   "metadata": {
    "vscode": {
     "languageId": "r"
    }
   },
   "outputs": [],
   "source": [
    "pbmc_hla_v_j_gliph <- pbmc_hla_v_j_gliph[ rownames(mymat), ]"
   ]
  },
  {
   "cell_type": "code",
   "execution_count": null,
   "metadata": {
    "vscode": {
     "languageId": "r"
    }
   },
   "outputs": [],
   "source": [
    "dim(pbmc_hla_v_j_gliph)"
   ]
  },
  {
   "cell_type": "code",
   "execution_count": null,
   "metadata": {
    "vscode": {
     "languageId": "r"
    }
   },
   "outputs": [],
   "source": [
    "dim(mymat)"
   ]
  },
  {
   "cell_type": "code",
   "execution_count": null,
   "metadata": {
    "vscode": {
     "languageId": "r"
    }
   },
   "outputs": [],
   "source": [
    "pbmc_hla_v_j_gliph <- pbmc_hla_v_j_gliph[ rownames(mymat), ]"
   ]
  },
  {
   "cell_type": "code",
   "execution_count": null,
   "metadata": {
    "vscode": {
     "languageId": "r"
    }
   },
   "outputs": [],
   "source": [
    "pbmc_hla_v_j_gliph$cyclenum <- as.numeric(gsub(\"X0\", \"\", pbmc_hla_v_j_gliph$cycle))"
   ]
  },
  {
   "cell_type": "markdown",
   "metadata": {},
   "source": [
    "# PCA"
   ]
  },
  {
   "cell_type": "code",
   "execution_count": null,
   "metadata": {
    "vscode": {
     "languageId": "r"
    }
   },
   "outputs": [],
   "source": [
    "mymat_narm <- mymat[ rowSums(is.na(mymat)) == 0, ]\n",
    "pbmc_hla_v_j_gliph_narm <- pbmc_hla_v_j_gliph[ rownames(mymat_narm), ]"
   ]
  },
  {
   "cell_type": "code",
   "execution_count": null,
   "metadata": {
    "vscode": {
     "languageId": "r"
    }
   },
   "outputs": [],
   "source": [
    "head(pbmc_hla_v_j_gliph_narm)"
   ]
  },
  {
   "cell_type": "code",
   "execution_count": null,
   "metadata": {
    "vscode": {
     "languageId": "r"
    }
   },
   "outputs": [],
   "source": [
    "myvars <- sort( Rfast::colVars(mymat_narm) , decreasing = TRUE)"
   ]
  },
  {
   "cell_type": "code",
   "execution_count": null,
   "metadata": {
    "vscode": {
     "languageId": "r"
    }
   },
   "outputs": [],
   "source": [
    "mymat_narm <- mymat_narm[ , names(myvars)[ myvars > 0]]"
   ]
  },
  {
   "cell_type": "code",
   "execution_count": null,
   "metadata": {
    "vscode": {
     "languageId": "r"
    }
   },
   "outputs": [],
   "source": [
    "dim(mymat_narm)\n",
    "dim(mymat)\n"
   ]
  },
  {
   "cell_type": "code",
   "execution_count": null,
   "metadata": {
    "vscode": {
     "languageId": "r"
    }
   },
   "outputs": [],
   "source": [
    "#PCA\n",
    "pca <- prcomp(mymat_narm, center = TRUE, scale. = TRUE)"
   ]
  },
  {
   "cell_type": "code",
   "execution_count": null,
   "metadata": {
    "vscode": {
     "languageId": "r"
    }
   },
   "outputs": [],
   "source": [
    "# plot PCA with factoextra\n",
    "viz_pca <- fviz_pca_ind(pca,\n",
    "    col.ind = as.vector(pbmc_hla_v_j_gliph_narm$cancergroup),\n",
    "    # gradient.cols = c(\"#00AFBB\", \"#E7B800\", \"#FC4E07\"),\n",
    "    # remove labels\n",
    "    label = \"none\",\n",
    "    repel = TRUE, addEllipses = FALSE\n",
    ")"
   ]
  },
  {
   "cell_type": "code",
   "execution_count": null,
   "metadata": {
    "vscode": {
     "languageId": "r"
    }
   },
   "outputs": [],
   "source": [
    "viz_pca# + coord_cartesian(xlim = c(-5, 5), ylim = c(-5, 5) )"
   ]
  },
  {
   "cell_type": "code",
   "execution_count": null,
   "metadata": {
    "vscode": {
     "languageId": "r"
    }
   },
   "outputs": [],
   "source": [
    "dim(mymat_narm)"
   ]
  },
  {
   "cell_type": "code",
   "execution_count": null,
   "metadata": {
    "vscode": {
     "languageId": "r"
    }
   },
   "outputs": [],
   "source": [
    "sum( summary(pca)$importance[2,1:5] )"
   ]
  },
  {
   "cell_type": "code",
   "execution_count": null,
   "metadata": {
    "vscode": {
     "languageId": "r"
    }
   },
   "outputs": [],
   "source": [
    "# scree plot\n",
    "fviz_eig(pca)"
   ]
  },
  {
   "cell_type": "code",
   "execution_count": null,
   "metadata": {
    "vscode": {
     "languageId": "r"
    }
   },
   "outputs": [],
   "source": [
    "myx <- pca$x"
   ]
  },
  {
   "cell_type": "code",
   "execution_count": null,
   "metadata": {
    "vscode": {
     "languageId": "r"
    }
   },
   "outputs": [],
   "source": [
    "mydist <- as.matrix(dist(myx[,1:5]))"
   ]
  },
  {
   "cell_type": "code",
   "execution_count": null,
   "metadata": {
    "vscode": {
     "languageId": "r"
    }
   },
   "outputs": [],
   "source": [
    "head(mydist)"
   ]
  },
  {
   "cell_type": "code",
   "execution_count": null,
   "metadata": {
    "vscode": {
     "languageId": "r"
    }
   },
   "outputs": [],
   "source": [
    "# pbmc_hla_v_j_gliph_narm$cyclenum <- as.numeric(gsub(\"X0\", \"\", pbmc_hla_v_j_gliph_narm$cycle))"
   ]
  },
  {
   "cell_type": "code",
   "execution_count": null,
   "metadata": {
    "vscode": {
     "languageId": "r"
    }
   },
   "outputs": [],
   "source": [
    "sample_df_narm <- pbmc_hla_v_j_gliph_narm %>% group_by(Patient) %>% \n",
    "# order cyclenum\n",
    "arrange(cyclenum) %>%\n",
    "ungroup()"
   ]
  },
  {
   "cell_type": "code",
   "execution_count": null,
   "metadata": {
    "vscode": {
     "languageId": "r"
    }
   },
   "outputs": [],
   "source": [
    "pts <- names(which(table(sample_df_narm$Patient) > 1 ))"
   ]
  },
  {
   "cell_type": "code",
   "execution_count": null,
   "metadata": {
    "vscode": {
     "languageId": "r"
    }
   },
   "outputs": [],
   "source": [
    "sample_df_narm$dist <- NA"
   ]
  },
  {
   "cell_type": "code",
   "execution_count": null,
   "metadata": {
    "vscode": {
     "languageId": "r"
    }
   },
   "outputs": [],
   "source": [
    "sample_df_narm <- pbmc_hla_v_j_gliph_narm"
   ]
  },
  {
   "cell_type": "code",
   "execution_count": null,
   "metadata": {
    "vscode": {
     "languageId": "r"
    }
   },
   "outputs": [],
   "source": [
    "for (i in pts) {\n",
    "    tmp <- sample_df_narm[sample_df_narm$Patient == i, ]\n",
    "    # tmp <- tmp[ order(tmp$cyclenum, decreasing = F), ]\n",
    "    distances_df <- mydist[tmp$sample_id, tmp$sample_id]\n",
    "    if (nrow(tmp) == 2) {\n",
    "        mydiff <- diff(tmp$cyclenum)\n",
    "        if (mydiff == 1) {\n",
    "            tmp$dist[2] <- distances_df[tmp$sample_id[1], tmp$sample_id[2]]\n",
    "        }\n",
    "    }\n",
    "    if (nrow(tmp) == 3) {\n",
    "        mydiff <- diff(tmp$cyclenum)\n",
    "        if (mydiff[1] == 1) {\n",
    "            tmp$dist[2] <- distances_df[tmp$sample_id[1], tmp$sample_id[2]]\n",
    "        }\n",
    "        if (mydiff[2] == 1) {\n",
    "            tmp$dist[3] <- distances_df[tmp$sample_id[2], tmp$sample_id[3]]\n",
    "        }\n",
    "    }\n",
    "    if (nrow(tmp) == 4) {\n",
    "        mydiff <- diff(tmp$cyclenum)\n",
    "        if (mydiff[1] == 1) {\n",
    "            tmp$dist[2] <- distances_df[tmp$sample_id[1], tmp$sample_id[2]]\n",
    "        }\n",
    "        if (mydiff[2] == 1) {\n",
    "            tmp$dist[3] <- distances_df[tmp$sample_id[2], tmp$sample_id[3]]\n",
    "        }\n",
    "        if (mydiff[3] == 1) {\n",
    "            tmp$dist[4] <- distances_df[tmp$sample_id[3], tmp$sample_id[4]]\n",
    "        }\n",
    "    }\n",
    "    if (nrow(tmp) == 5) {\n",
    "        mydiff <- diff(tmp$cyclenum)\n",
    "        if (mydiff[1] == 1) {\n",
    "            tmp$dist[2] <- distances_df[tmp$sample_id[1], tmp$sample_id[2]]\n",
    "        }\n",
    "        if (mydiff[2] == 1) {\n",
    "            tmp$dist[3] <- distances_df[tmp$sample_id[2], tmp$sample_id[3]]\n",
    "        }\n",
    "        if (mydiff[3] == 1) {\n",
    "            tmp$dist[4] <- distances_df[tmp$sample_id[3], tmp$sample_id[4]]\n",
    "        }\n",
    "        if (mydiff[4] == 1) {\n",
    "            tmp$dist[5] <- distances_df[tmp$sample_id[4], tmp$sample_id[5]]\n",
    "        }\n",
    "    }\n",
    "    sample_df_narm$dist[sample_df_narm$Patient == i] <- tmp$dist\n",
    "}\n"
   ]
  },
  {
   "cell_type": "code",
   "execution_count": null,
   "metadata": {
    "vscode": {
     "languageId": "r"
    }
   },
   "outputs": [],
   "source": [
    "# sample_df_narm$dist[is.na(sample_df_narm$dist)] <- 0"
   ]
  },
  {
   "cell_type": "code",
   "execution_count": null,
   "metadata": {
    "vscode": {
     "languageId": "r"
    }
   },
   "outputs": [],
   "source": [
    "head(sample_df_narm)"
   ]
  },
  {
   "cell_type": "code",
   "execution_count": null,
   "metadata": {
    "vscode": {
     "languageId": "r"
    }
   },
   "outputs": [],
   "source": [
    "allpts <- as.data.frame(table(sample_df_narm$Patient), stringsAsFactors = F)"
   ]
  },
  {
   "cell_type": "code",
   "execution_count": null,
   "metadata": {
    "vscode": {
     "languageId": "r"
    }
   },
   "outputs": [],
   "source": [
    "# sample_df_narm$Relapse[is.na(sample_df_narm$Relapse)] <- 0"
   ]
  },
  {
   "cell_type": "code",
   "execution_count": null,
   "metadata": {
    "vscode": {
     "languageId": "r"
    }
   },
   "outputs": [],
   "source": [
    "# t.test(sample_df_narm$dist[sample_df_narm$dist != 0] ~ sample_df_narm$Relapse[sample_df_narm$dist != 0])"
   ]
  },
  {
   "cell_type": "code",
   "execution_count": null,
   "metadata": {
    "vscode": {
     "languageId": "r"
    }
   },
   "outputs": [],
   "source": [
    "sample_df_narm[ sample_df_narm$Patient == \"CHP_351\",]"
   ]
  },
  {
   "cell_type": "code",
   "execution_count": null,
   "metadata": {
    "vscode": {
     "languageId": "r"
    }
   },
   "outputs": [],
   "source": [
    "sample_df_narm$dist[ sample_df_narm$dist == 0] <- NA"
   ]
  },
  {
   "cell_type": "code",
   "execution_count": null,
   "metadata": {
    "vscode": {
     "languageId": "r"
    }
   },
   "outputs": [],
   "source": [
    "allpts$sumdist <- NA\n",
    "for(i in 1:nrow(allpts)){\n",
    "    tmp <- as.data.frame(sample_df_narm[ sample_df_narm$Patient == allpts$Var1[i],] )\n",
    "    allpts$sumdist[i] <- sum(tmp[ tmp$dist != 0, \"dist\"], na.rm = T)\n",
    "}"
   ]
  },
  {
   "cell_type": "code",
   "execution_count": null,
   "metadata": {
    "vscode": {
     "languageId": "r"
    }
   },
   "outputs": [],
   "source": [
    "allpts$sumdist_n <- allpts$sumdist / allpts$Freq"
   ]
  },
  {
   "cell_type": "code",
   "execution_count": null,
   "metadata": {
    "vscode": {
     "languageId": "r"
    }
   },
   "outputs": [],
   "source": [
    "head(allpts, 10)"
   ]
  },
  {
   "cell_type": "code",
   "execution_count": null,
   "metadata": {
    "vscode": {
     "languageId": "r"
    }
   },
   "outputs": [],
   "source": [
    "allpts_no0 <- allpts[ allpts$sumdist_n > 0,]"
   ]
  },
  {
   "cell_type": "code",
   "execution_count": null,
   "metadata": {
    "vscode": {
     "languageId": "r"
    }
   },
   "outputs": [],
   "source": [
    "dim(allpts_no0)"
   ]
  },
  {
   "cell_type": "code",
   "execution_count": null,
   "metadata": {
    "vscode": {
     "languageId": "r"
    }
   },
   "outputs": [],
   "source": [
    "mysample_df <- sample_df_narm[ sample_df_narm$Patient %in% allpts_no0$Var1,]"
   ]
  },
  {
   "cell_type": "code",
   "execution_count": null,
   "metadata": {
    "vscode": {
     "languageId": "r"
    }
   },
   "outputs": [],
   "source": [
    "dim(mysample_df)"
   ]
  },
  {
   "cell_type": "code",
   "execution_count": null,
   "metadata": {
    "vscode": {
     "languageId": "r"
    }
   },
   "outputs": [],
   "source": [
    "mypatients <- mysample_df[!duplicated(mysample_df$Patient),]"
   ]
  },
  {
   "cell_type": "code",
   "execution_count": null,
   "metadata": {
    "vscode": {
     "languageId": "r"
    }
   },
   "outputs": [],
   "source": [
    "dim(mypatients)"
   ]
  },
  {
   "cell_type": "code",
   "execution_count": null,
   "metadata": {
    "vscode": {
     "languageId": "r"
    }
   },
   "outputs": [],
   "source": [
    "head(mypatients)"
   ]
  },
  {
   "cell_type": "code",
   "execution_count": null,
   "metadata": {
    "vscode": {
     "languageId": "r"
    }
   },
   "outputs": [],
   "source": [
    "head(allpts_no0)"
   ]
  },
  {
   "cell_type": "code",
   "execution_count": null,
   "metadata": {
    "vscode": {
     "languageId": "r"
    }
   },
   "outputs": [],
   "source": [
    "mypatients$sumdist_n <- allpts_no0$sumdist_n[ match(mypatients$Patient, allpts_no0$Var1)]\n",
    "mypatients$sumdist <- allpts_no0$sumdist[ match(mypatients$Patient, allpts_no0$Var1)]"
   ]
  },
  {
   "cell_type": "code",
   "execution_count": null,
   "metadata": {
    "vscode": {
     "languageId": "r"
    }
   },
   "outputs": [],
   "source": [
    "# tmp$Relapse[ is.na(tmp$Relapse) ] <- 0"
   ]
  },
  {
   "cell_type": "code",
   "execution_count": null,
   "metadata": {
    "vscode": {
     "languageId": "r"
    }
   },
   "outputs": [],
   "source": [
    "dim(mypatients)"
   ]
  },
  {
   "cell_type": "code",
   "execution_count": null,
   "metadata": {
    "vscode": {
     "languageId": "r"
    }
   },
   "outputs": [],
   "source": [
    "head(mypatients, 10)"
   ]
  },
  {
   "cell_type": "code",
   "execution_count": null,
   "metadata": {
    "vscode": {
     "languageId": "r"
    }
   },
   "outputs": [],
   "source": [
    "myfit <- rms::lrm(Relapse ~ sumdist_n, data = mypatients)"
   ]
  },
  {
   "cell_type": "code",
   "execution_count": null,
   "metadata": {
    "vscode": {
     "languageId": "r"
    }
   },
   "outputs": [],
   "source": [
    "print(myfit)"
   ]
  },
  {
   "cell_type": "code",
   "execution_count": null,
   "metadata": {
    "vscode": {
     "languageId": "r"
    }
   },
   "outputs": [],
   "source": [
    "anova(myfit)"
   ]
  },
  {
   "cell_type": "code",
   "execution_count": null,
   "metadata": {
    "vscode": {
     "languageId": "r"
    }
   },
   "outputs": [],
   "source": [
    "mypatients <- mypatients[order(mypatients$sumdist_n),]"
   ]
  },
  {
   "cell_type": "code",
   "execution_count": null,
   "metadata": {
    "vscode": {
     "languageId": "r"
    }
   },
   "outputs": [],
   "source": [
    "makematrix_4hm <- function(df, var, name) {\n",
    "    mymat <- df[[var]]\n",
    "    names(mymat) <- df[[\"Patient\"]]\n",
    "    mymat <- t(as.matrix(mymat))\n",
    "    rownames(mymat) <- name\n",
    "    return(mymat)\n",
    "}"
   ]
  },
  {
   "cell_type": "code",
   "execution_count": null,
   "metadata": {
    "vscode": {
     "languageId": "r"
    }
   },
   "outputs": [],
   "source": [
    "mycohort <- makematrix_4hm(mypatients, \"Disease_type\", \"disease\")\n",
    "mysample <- makematrix_4hm(mypatients, \"cancergroup\", \"cancergroup\")\n",
    "mygroup <- makematrix_4hm(mypatients, \"Relapse\", \"Relapse\")\n",
    "# myatc <- makematrix_4hm(tmp, \"ATC\", \"ATC\")\n",
    "myage <- makematrix_4hm(mypatients, \"Age\", \"Age\")"
   ]
  },
  {
   "cell_type": "code",
   "execution_count": null,
   "metadata": {
    "vscode": {
     "languageId": "r"
    }
   },
   "outputs": [],
   "source": [
    "age_col <- c(\"blue\", \"red\")\n",
    "# atc_col <- c(\"blue\", \"red\")"
   ]
  },
  {
   "cell_type": "code",
   "execution_count": null,
   "metadata": {
    "vscode": {
     "languageId": "r"
    }
   },
   "outputs": [],
   "source": [
    "group_col <- c(\"blue\", \"red\", \"green\")\n",
    "names(group_col) <- names(table(mypatients$Relapse))"
   ]
  },
  {
   "cell_type": "code",
   "execution_count": null,
   "metadata": {
    "vscode": {
     "languageId": "r"
    }
   },
   "outputs": [],
   "source": [
    "# cohort_col <- c(\"blue\", \"red\", \"green\", \"orange\", \"purple\", \"yellow\", \"black\", \"grey\", \"pink\", \n",
    "# \"brown\", \"cyan\", \"magenta\", \"navy\", \"maroon\", \"gray\",\"gold\", \"darkgreen\") \n",
    "# names(cohort_col) <- names(table(allpbmcs$Disease_type))"
   ]
  },
  {
   "cell_type": "code",
   "execution_count": null,
   "metadata": {
    "vscode": {
     "languageId": "r"
    }
   },
   "outputs": [],
   "source": [
    "type_col <- c(\"blue\", \"red\", \"green\", \"orange\", \"purple\")\n",
    "names(type_col) <- names(table(mypatients$cancergroup))"
   ]
  },
  {
   "cell_type": "code",
   "execution_count": null,
   "metadata": {
    "vscode": {
     "languageId": "r"
    }
   },
   "outputs": [],
   "source": [
    "age_hm <- Heatmap(myage, col = age_col,  height = unit(1,\"cm\"))\n",
    "# atc_hm <- Heatmap(myatc, col = atc_col,  height = unit(1,\"cm\"))"
   ]
  },
  {
   "cell_type": "code",
   "execution_count": null,
   "metadata": {
    "vscode": {
     "languageId": "r"
    }
   },
   "outputs": [],
   "source": [
    "cohort_hm <- Heatmap(mycohort, col = cohort_col, height = unit(1,\"cm\"))\n",
    "sample_hm <- Heatmap(mysample, col = type_col, height = unit(1,\"cm\"))\n",
    "group_hm <- Heatmap(mygroup, col = group_col,  height = unit(1,\"cm\"))"
   ]
  },
  {
   "cell_type": "code",
   "execution_count": null,
   "metadata": {
    "vscode": {
     "languageId": "r"
    }
   },
   "outputs": [],
   "source": [
    "# length(unique(sample_df_narm$Patient))"
   ]
  },
  {
   "cell_type": "code",
   "execution_count": null,
   "metadata": {
    "vscode": {
     "languageId": "r"
    }
   },
   "outputs": [],
   "source": [
    "# tail(sample_df_narm[, c(\"sample_id\", \"cycle\", \"dist\")])"
   ]
  },
  {
   "cell_type": "code",
   "execution_count": null,
   "metadata": {
    "vscode": {
     "languageId": "r"
    }
   },
   "outputs": [],
   "source": [
    "# pivot_wider\n",
    " \n",
    "wider_df <- tidyr::pivot_wider(mysample_df, names_from = cycle, values_from = dist, id_cols = Patient) \n",
    "\n",
    "wider_df[ wider_df$Patient == \"CHP_350\",]"
   ]
  },
  {
   "cell_type": "code",
   "execution_count": null,
   "metadata": {
    "vscode": {
     "languageId": "r"
    }
   },
   "outputs": [],
   "source": [
    "wider_df <- as.data.frame(wider_df)\n",
    "rownames(wider_df) <- wider_df$Patient\n",
    "wider_df$Patient <- NULL\n",
    "wider_df$X01 <- NULL"
   ]
  },
  {
   "cell_type": "code",
   "execution_count": null,
   "metadata": {
    "vscode": {
     "languageId": "r"
    }
   },
   "outputs": [],
   "source": [
    "head(wider_df)"
   ]
  },
  {
   "cell_type": "code",
   "execution_count": null,
   "metadata": {
    "vscode": {
     "languageId": "r"
    }
   },
   "outputs": [],
   "source": [
    "hm1 <- Heatmap(t(scale(wider_df)), cluster_columns = F, name = \"dists\")"
   ]
  },
  {
   "cell_type": "code",
   "execution_count": null,
   "metadata": {
    "vscode": {
     "languageId": "r"
    }
   },
   "outputs": [],
   "source": [
    "dim(wider_df)"
   ]
  },
  {
   "cell_type": "code",
   "execution_count": null,
   "metadata": {
    "vscode": {
     "languageId": "r"
    }
   },
   "outputs": [],
   "source": [
    "hm <- Heatmap(t(scale(mypatients$sumdist_n)), cluster_columns = F)"
   ]
  },
  {
   "cell_type": "code",
   "execution_count": null,
   "metadata": {
    "vscode": {
     "languageId": "r"
    }
   },
   "outputs": [],
   "source": [
    "dim(mypatients)"
   ]
  },
  {
   "cell_type": "code",
   "execution_count": null,
   "metadata": {
    "vscode": {
     "languageId": "r"
    }
   },
   "outputs": [],
   "source": [
    "hm %v% hm1 %v% sample_hm %v% group_hm %v% age_hm "
   ]
  },
  {
   "cell_type": "code",
   "execution_count": null,
   "metadata": {
    "vscode": {
     "languageId": "r"
    }
   },
   "outputs": [],
   "source": [
    "ls()"
   ]
  },
  {
   "cell_type": "code",
   "execution_count": null,
   "metadata": {
    "vscode": {
     "languageId": "r"
    }
   },
   "outputs": [],
   "source": [
    "rm(tmp, wider_df, pts, myx, mysample, mysample_df, allpts, allpts_no0, distances_df, hm, hm1, i, mydiff, mydist, myfit, mymat_narm, pca, sample_df_narm)"
   ]
  }
 ],
 "metadata": {
  "kernelspec": {
   "display_name": "R 4.0",
   "language": "R",
   "name": "ir40"
  },
  "language_info": {
   "codemirror_mode": "r",
   "file_extension": ".r",
   "mimetype": "text/x-r-source",
   "name": "R",
   "pygments_lexer": "r",
   "version": "4.2.2"
  },
  "toc": {
   "base_numbering": 1,
   "nav_menu": {},
   "number_sections": false,
   "sideBar": true,
   "skip_h1_title": false,
   "title_cell": "Table of Contents",
   "title_sidebar": "Contents",
   "toc_cell": true,
   "toc_position": {
    "height": "calc(100% - 180px)",
    "left": "10px",
    "top": "150px",
    "width": "186.15px"
   },
   "toc_section_display": true,
   "toc_window_display": true
  }
 },
 "nbformat": 4,
 "nbformat_minor": 2
}

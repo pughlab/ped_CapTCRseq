{
 "cells": [
  {
   "attachments": {},
   "cell_type": "markdown",
   "metadata": {},
   "source": [
    "# Dependencies"
   ]
  },
  {
   "cell_type": "code",
   "execution_count": 1,
   "metadata": {
    "scrolled": true,
    "vscode": {
     "languageId": "r"
    }
   },
   "outputs": [],
   "source": [
    "pacman::p_load(dplyr, openxlsx)"
   ]
  },
  {
   "cell_type": "code",
   "execution_count": 2,
   "metadata": {
    "vscode": {
     "languageId": "r"
    }
   },
   "outputs": [],
   "source": [
    "source(\"/Users/anabbi/git/ped_CapTCRseq/R/ggplot2_theme.R\")\n",
    "source(\"/Users/anabbi/git/ped_CapTCRseq/R/color_schemes.R\")"
   ]
  },
  {
   "attachments": {},
   "cell_type": "markdown",
   "metadata": {},
   "source": [
    "# Paths"
   ]
  },
  {
   "cell_type": "code",
   "execution_count": 3,
   "metadata": {
    "vscode": {
     "languageId": "r"
    }
   },
   "outputs": [],
   "source": [
    "datapath <- \"/Users/anabbi/OneDrive - UHN/Documents/INTERCEPT/Data/\"\n",
    "plotpath <- \"/Users/anabbi/OneDrive - UHN/Documents/INTERCEPT/Plots/\"\n",
    "manifestpath <- \"/Users/anabbi/OneDrive - UHN/Documents/INTERCEPT/Manifests/\"\n",
    "\n",
    "gitpath <- \"/Users/anabbi/git/ped_CapTCRseq/\""
   ]
  },
  {
   "attachments": {},
   "cell_type": "markdown",
   "metadata": {},
   "source": [
    "# Main"
   ]
  },
  {
   "cell_type": "code",
   "execution_count": 4,
   "metadata": {
    "vscode": {
     "languageId": "r"
    }
   },
   "outputs": [],
   "source": [
    "ffpe <- read.xlsx(paste0(datapath, \"CHOP Lab Processing Log.xlsx\"), sheet = 3)"
   ]
  },
  {
   "cell_type": "code",
   "execution_count": 5,
   "metadata": {
    "vscode": {
     "languageId": "r"
    }
   },
   "outputs": [],
   "source": [
    "metadata <- read.csv(file = paste0(datapath, \"INT_metadata_flow.csv\"),header = T, stringsAsFactors = F)"
   ]
  },
  {
   "attachments": {},
   "cell_type": "markdown",
   "metadata": {},
   "source": [
    "# PBMC"
   ]
  },
  {
   "cell_type": "code",
   "execution_count": 6,
   "metadata": {
    "vscode": {
     "languageId": "r"
    }
   },
   "outputs": [],
   "source": [
    "pbmc <- read.xlsx(paste0(datapath, \"CHOP Lab Processing Log.xlsx\"), sheet = 2)"
   ]
  },
  {
   "cell_type": "code",
   "execution_count": 7,
   "metadata": {
    "vscode": {
     "languageId": "r"
    }
   },
   "outputs": [],
   "source": [
    "pbmc$Specimen.ID <- trimws(pbmc$Specimen.ID)"
   ]
  },
  {
   "cell_type": "code",
   "execution_count": 8,
   "metadata": {
    "vscode": {
     "languageId": "r"
    }
   },
   "outputs": [],
   "source": [
    "pbmc$Colour.Legend <- NULL"
   ]
  },
  {
   "cell_type": "code",
   "execution_count": 9,
   "metadata": {
    "vscode": {
     "languageId": "r"
    }
   },
   "outputs": [],
   "source": [
    "missingsamples <- pbmc[ which(pbmc$Missing.Samples == \"***Potentially missing! Not found in specified location\"),]"
   ]
  },
  {
   "cell_type": "code",
   "execution_count": 10,
   "metadata": {
    "vscode": {
     "languageId": "r"
    }
   },
   "outputs": [],
   "source": [
    "missingsamples <- rbind(missingsamples, \n",
    "                       pbmc[ which(pbmc$Notes == \"Sample 423-02 is missing, this location is sample 413-02\"),])"
   ]
  },
  {
   "cell_type": "code",
   "execution_count": 11,
   "metadata": {
    "vscode": {
     "languageId": "r"
    }
   },
   "outputs": [
    {
     "data": {
      "text/html": [
       "<table class=\"dataframe\">\n",
       "<caption>A data.frame: 3 x 60</caption>\n",
       "<thead>\n",
       "\t<tr><th></th><th scope=col>Shipment.#</th><th scope=col>Batch</th><th scope=col>Original.Box#</th><th scope=col>Original.Box.Location</th><th scope=col>Specimen.ID</th><th scope=col>Date.Frozen</th><th scope=col>Study.Cohort</th><th scope=col>Sample.Type</th><th scope=col>Date.transferred.to.Pugh.Lab</th><th scope=col>Total.Cell.Number</th><th scope=col>...</th><th scope=col>Final.Capture.Vol.(uL)</th><th scope=col>Total.Capture.Library.Yield.(ng)</th><th scope=col>Miseq.for.Capture</th><th scope=col>Miseq.Flow.Cell.ID</th><th scope=col>Sent.for.Nextseq?</th><th scope=col>Date.Submitted.for.Seq</th><th scope=col>Pugh.Lab.Seq.ID</th><th scope=col>Vol.used.for.sequencing.(uL)</th><th scope=col>Vol.Remaining.(uL)</th><th scope=col>Capture.Notes</th></tr>\n",
       "\t<tr><th></th><th scope=col>&lt;dbl&gt;</th><th scope=col>&lt;chr&gt;</th><th scope=col>&lt;chr&gt;</th><th scope=col>&lt;chr&gt;</th><th scope=col>&lt;chr&gt;</th><th scope=col>&lt;chr&gt;</th><th scope=col>&lt;dbl&gt;</th><th scope=col>&lt;chr&gt;</th><th scope=col>&lt;dbl&gt;</th><th scope=col>&lt;chr&gt;</th><th scope=col>...</th><th scope=col>&lt;dbl&gt;</th><th scope=col>&lt;dbl&gt;</th><th scope=col>&lt;chr&gt;</th><th scope=col>&lt;chr&gt;</th><th scope=col>&lt;chr&gt;</th><th scope=col>&lt;chr&gt;</th><th scope=col>&lt;chr&gt;</th><th scope=col>&lt;dbl&gt;</th><th scope=col>&lt;dbl&gt;</th><th scope=col>&lt;chr&gt;</th></tr>\n",
       "</thead>\n",
       "<tbody>\n",
       "\t<tr><th scope=row>456</th><td>1</td><td>NA</td><td>NOT SENT   </td><td>NA</td><td>331-03</td><td>NA</td><td>NA</td><td>NA  </td><td>NA</td><td>3300000</td><td>...</td><td>NA</td><td>NA</td><td>NA</td><td>NA</td><td>NA</td><td>NA</td><td>NA</td><td>NA</td><td>NA</td><td>NA</td></tr>\n",
       "\t<tr><th scope=row>457</th><td>1</td><td>NA</td><td>NOT SENT   </td><td>NA</td><td>338-01</td><td>NA</td><td>NA</td><td>NA  </td><td>NA</td><td>600000 </td><td>...</td><td>NA</td><td>NA</td><td>NA</td><td>NA</td><td>NA</td><td>NA</td><td>NA</td><td>NA</td><td>NA</td><td>NA</td></tr>\n",
       "\t<tr><th scope=row>458</th><td>2</td><td>NA</td><td>Cell Box 2 </td><td>I5</td><td>423-02</td><td>NA</td><td>NA</td><td>Cell</td><td>NA</td><td>1530000</td><td>...</td><td>NA</td><td>NA</td><td>NA</td><td>NA</td><td>NA</td><td>NA</td><td>NA</td><td>NA</td><td>NA</td><td>NA</td></tr>\n",
       "</tbody>\n",
       "</table>\n"
      ],
      "text/latex": [
       "A data.frame: 3 x 60\n",
       "\\begin{tabular}{r|lllllllllllllllllllll}\n",
       "  & Shipment.\\# & Batch & Original.Box\\# & Original.Box.Location & Specimen.ID & Date.Frozen & Study.Cohort & Sample.Type & Date.transferred.to.Pugh.Lab & Total.Cell.Number & ... & Final.Capture.Vol.(uL) & Total.Capture.Library.Yield.(ng) & Miseq.for.Capture & Miseq.Flow.Cell.ID & Sent.for.Nextseq? & Date.Submitted.for.Seq & Pugh.Lab.Seq.ID & Vol.used.for.sequencing.(uL) & Vol.Remaining.(uL) & Capture.Notes\\\\\n",
       "  & <dbl> & <chr> & <chr> & <chr> & <chr> & <chr> & <dbl> & <chr> & <dbl> & <chr> & ... & <dbl> & <dbl> & <chr> & <chr> & <chr> & <chr> & <chr> & <dbl> & <dbl> & <chr>\\\\\n",
       "\\hline\n",
       "\t456 & 1 & NA & NOT SENT    & NA & 331-03 & NA & NA & NA   & NA & 3300000 & ... & NA & NA & NA & NA & NA & NA & NA & NA & NA & NA\\\\\n",
       "\t457 & 1 & NA & NOT SENT    & NA & 338-01 & NA & NA & NA   & NA & 600000  & ... & NA & NA & NA & NA & NA & NA & NA & NA & NA & NA\\\\\n",
       "\t458 & 2 & NA & Cell Box 2  & I5 & 423-02 & NA & NA & Cell & NA & 1530000 & ... & NA & NA & NA & NA & NA & NA & NA & NA & NA & NA\\\\\n",
       "\\end{tabular}\n"
      ],
      "text/markdown": [
       "\n",
       "A data.frame: 3 x 60\n",
       "\n",
       "| <!--/--> | Shipment.# &lt;dbl&gt; | Batch &lt;chr&gt; | Original.Box# &lt;chr&gt; | Original.Box.Location &lt;chr&gt; | Specimen.ID &lt;chr&gt; | Date.Frozen &lt;chr&gt; | Study.Cohort &lt;dbl&gt; | Sample.Type &lt;chr&gt; | Date.transferred.to.Pugh.Lab &lt;dbl&gt; | Total.Cell.Number &lt;chr&gt; | ... ... | Final.Capture.Vol.(uL) &lt;dbl&gt; | Total.Capture.Library.Yield.(ng) &lt;dbl&gt; | Miseq.for.Capture &lt;chr&gt; | Miseq.Flow.Cell.ID &lt;chr&gt; | Sent.for.Nextseq? &lt;chr&gt; | Date.Submitted.for.Seq &lt;chr&gt; | Pugh.Lab.Seq.ID &lt;chr&gt; | Vol.used.for.sequencing.(uL) &lt;dbl&gt; | Vol.Remaining.(uL) &lt;dbl&gt; | Capture.Notes &lt;chr&gt; |\n",
       "|---|---|---|---|---|---|---|---|---|---|---|---|---|---|---|---|---|---|---|---|---|---|\n",
       "| 456 | 1 | NA | NOT SENT    | NA | 331-03 | NA | NA | NA   | NA | 3300000 | ... | NA | NA | NA | NA | NA | NA | NA | NA | NA | NA |\n",
       "| 457 | 1 | NA | NOT SENT    | NA | 338-01 | NA | NA | NA   | NA | 600000  | ... | NA | NA | NA | NA | NA | NA | NA | NA | NA | NA |\n",
       "| 458 | 2 | NA | Cell Box 2  | I5 | 423-02 | NA | NA | Cell | NA | 1530000 | ... | NA | NA | NA | NA | NA | NA | NA | NA | NA | NA |\n",
       "\n"
      ],
      "text/plain": [
       "    Shipment.# Batch Original.Box# Original.Box.Location Specimen.ID\n",
       "456 1          NA    NOT SENT      NA                    331-03     \n",
       "457 1          NA    NOT SENT      NA                    338-01     \n",
       "458 2          NA    Cell Box 2    I5                    423-02     \n",
       "    Date.Frozen Study.Cohort Sample.Type Date.transferred.to.Pugh.Lab\n",
       "456 NA          NA           NA          NA                          \n",
       "457 NA          NA           NA          NA                          \n",
       "458 NA          NA           Cell        NA                          \n",
       "    Total.Cell.Number ... Final.Capture.Vol.(uL)\n",
       "456 3300000           ... NA                    \n",
       "457 600000            ... NA                    \n",
       "458 1530000           ... NA                    \n",
       "    Total.Capture.Library.Yield.(ng) Miseq.for.Capture Miseq.Flow.Cell.ID\n",
       "456 NA                               NA                NA                \n",
       "457 NA                               NA                NA                \n",
       "458 NA                               NA                NA                \n",
       "    Sent.for.Nextseq? Date.Submitted.for.Seq Pugh.Lab.Seq.ID\n",
       "456 NA                NA                     NA             \n",
       "457 NA                NA                     NA             \n",
       "458 NA                NA                     NA             \n",
       "    Vol.used.for.sequencing.(uL) Vol.Remaining.(uL) Capture.Notes\n",
       "456 NA                           NA                 NA           \n",
       "457 NA                           NA                 NA           \n",
       "458 NA                           NA                 NA           "
      ]
     },
     "metadata": {},
     "output_type": "display_data"
    }
   ],
   "source": [
    "missingsamples"
   ]
  },
  {
   "cell_type": "code",
   "execution_count": 12,
   "metadata": {
    "vscode": {
     "languageId": "r"
    }
   },
   "outputs": [],
   "source": [
    "#remove missing samples\n",
    "pbmc <- pbmc[ is.na(pbmc$Missing.Samples),]\n",
    "pbmc <- pbmc[! pbmc$Notes %in% \"Sample 423-02 is missing, this location is sample 413-02\",]"
   ]
  },
  {
   "cell_type": "code",
   "execution_count": 13,
   "metadata": {
    "vscode": {
     "languageId": "r"
    }
   },
   "outputs": [
    {
     "data": {
      "text/html": [
       "<style>\n",
       ".list-inline {list-style: none; margin:0; padding: 0}\n",
       ".list-inline>li {display: inline-block}\n",
       ".list-inline>li:not(:last-child)::after {content: \"\\00b7\"; padding: 0 .5ex}\n",
       "</style>\n",
       "<ol class=list-inline><li>455</li><li>60</li></ol>\n"
      ],
      "text/latex": [
       "\\begin{enumerate*}\n",
       "\\item 455\n",
       "\\item 60\n",
       "\\end{enumerate*}\n"
      ],
      "text/markdown": [
       "1. 455\n",
       "2. 60\n",
       "\n",
       "\n"
      ],
      "text/plain": [
       "[1] 455  60"
      ]
     },
     "metadata": {},
     "output_type": "display_data"
    }
   ],
   "source": [
    "dim(pbmc)"
   ]
  },
  {
   "cell_type": "code",
   "execution_count": 14,
   "metadata": {
    "vscode": {
     "languageId": "r"
    }
   },
   "outputs": [],
   "source": [
    "#remove empty entry\n",
    "pbmc <- pbmc[!is.na(pbmc$Specimen.ID), ]"
   ]
  },
  {
   "cell_type": "code",
   "execution_count": 15,
   "metadata": {
    "vscode": {
     "languageId": "r"
    }
   },
   "outputs": [
    {
     "data": {
      "text/html": [
       "454"
      ],
      "text/latex": [
       "454"
      ],
      "text/markdown": [
       "454"
      ],
      "text/plain": [
       "[1] 454"
      ]
     },
     "metadata": {},
     "output_type": "display_data"
    }
   ],
   "source": [
    " length(pbmc$Specimen.ID)"
   ]
  },
  {
   "cell_type": "code",
   "execution_count": 16,
   "metadata": {
    "vscode": {
     "languageId": "r"
    }
   },
   "outputs": [
    {
     "name": "stderr",
     "output_type": "stream",
     "text": [
      "Warning message in summary(as.numeric(pbmc$Total.Cell.Number)):\n",
      "\"NAs introduced by coercion\"\n"
     ]
    },
    {
     "data": {
      "text/plain": [
       "     Min.   1st Qu.    Median      Mean   3rd Qu.      Max.      NA's \n",
       "     9000   1030000   2000000   4457362   3825000 117000000        70 "
      ]
     },
     "metadata": {},
     "output_type": "display_data"
    }
   ],
   "source": [
    "summary(as.numeric(pbmc$Total.Cell.Number))"
   ]
  },
  {
   "cell_type": "code",
   "execution_count": 17,
   "metadata": {
    "vscode": {
     "languageId": "r"
    }
   },
   "outputs": [
    {
     "name": "stderr",
     "output_type": "stream",
     "text": [
      "Warning message in eval(expr, envir, enclos):\n",
      "\"NAs introduced by coercion\"\n"
     ]
    }
   ],
   "source": [
    "pbmc$Total.Cell.Number1 <- as.numeric(pbmc$Total.Cell.Number)"
   ]
  },
  {
   "cell_type": "code",
   "execution_count": 18,
   "metadata": {
    "vscode": {
     "languageId": "r"
    }
   },
   "outputs": [
    {
     "data": {
      "text/html": [
       "<style>\n",
       ".list-inline {list-style: none; margin:0; padding: 0}\n",
       ".list-inline>li {display: inline-block}\n",
       ".list-inline>li:not(:last-child)::after {content: \"\\00b7\"; padding: 0 .5ex}\n",
       "</style>\n",
       "<ol class=list-inline><li>600</li><li>600</li><li>600</li><li>600</li><li>600</li><li>600</li></ol>\n"
      ],
      "text/latex": [
       "\\begin{enumerate*}\n",
       "\\item 600\n",
       "\\item 600\n",
       "\\item 600\n",
       "\\item 600\n",
       "\\item 600\n",
       "\\item 600\n",
       "\\end{enumerate*}\n"
      ],
      "text/markdown": [
       "1. 600\n",
       "2. 600\n",
       "3. 600\n",
       "4. 600\n",
       "5. 600\n",
       "6. 600\n",
       "\n",
       "\n"
      ],
      "text/plain": [
       "[1] 600 600 600 600 600 600"
      ]
     },
     "metadata": {},
     "output_type": "display_data"
    }
   ],
   "source": [
    "head(pbmc$`Amount.of.DNA.used.for.Library.Prep.(ng)`)"
   ]
  },
  {
   "cell_type": "markdown",
   "metadata": {},
   "source": [
    "Find correlation between cell number and ng DNA"
   ]
  },
  {
   "cell_type": "code",
   "execution_count": 19,
   "metadata": {
    "vscode": {
     "languageId": "r"
    }
   },
   "outputs": [],
   "source": [
    "tmp <- pbmc[ which(pbmc$`Amount.of.DNA.used.for.Library.Prep.(ng)` == 600),]"
   ]
  },
  {
   "cell_type": "code",
   "execution_count": 20,
   "metadata": {
    "vscode": {
     "languageId": "r"
    }
   },
   "outputs": [
    {
     "data": {
      "text/plain": [
       "     Min.   1st Qu.    Median      Mean   3rd Qu.      Max.      NA's \n",
       "   170000   1562500   2700000   6343817   5675000 117000000         2 "
      ]
     },
     "metadata": {},
     "output_type": "display_data"
    }
   ],
   "source": [
    "summary(tmp$Total.Cell.Number1)"
   ]
  },
  {
   "cell_type": "code",
   "execution_count": 21,
   "metadata": {
    "vscode": {
     "languageId": "r"
    }
   },
   "outputs": [
    {
     "data": {
      "text/plain": [
       "   Min. 1st Qu.  Median    Mean 3rd Qu.    Max. \n",
       "    665    2480    4760    8889    9425   81200 "
      ]
     },
     "metadata": {},
     "output_type": "display_data"
    }
   ],
   "source": [
    "summary(tmp$`DNA.total.(ng)`)"
   ]
  },
  {
   "cell_type": "code",
   "execution_count": 22,
   "metadata": {
    "vscode": {
     "languageId": "r"
    }
   },
   "outputs": [
    {
     "name": "stderr",
     "output_type": "stream",
     "text": [
      "\u001b[1m\u001b[22m`geom_smooth()` using formula = 'y ~ x'\n"
     ]
    },
    {
     "data": {
      "image/png": "[encoded data removed]",
      "text/plain": [
       "plot without title"
      ]
     },
     "metadata": {
      "image/png": {
       "height": 420,
       "width": 420
      }
     },
     "output_type": "display_data"
    }
   ],
   "source": [
    "ggplot(data = tmp[ which(tmp$Total.Cell.Number1 < 30000000),], aes( y= `DNA.total.(ng)`, x = Total.Cell.Number1)) + geom_point() + geom_smooth( method = \"lm\")"
   ]
  },
  {
   "cell_type": "code",
   "execution_count": 23,
   "metadata": {
    "vscode": {
     "languageId": "r"
    }
   },
   "outputs": [
    {
     "data": {
      "text/plain": [
       "\n",
       "Call:\n",
       "lm(formula = `DNA.total.(ng)` ~ Total.Cell.Number1, data = tmp[which(tmp$Total.Cell.Number1 < \n",
       "    3e+07), ])\n",
       "\n",
       "Coefficients:\n",
       "       (Intercept)  Total.Cell.Number1  \n",
       "         1.577e+03           1.447e-03  \n"
      ]
     },
     "metadata": {},
     "output_type": "display_data"
    }
   ],
   "source": [
    "lm(`DNA.total.(ng)` ~ Total.Cell.Number1, data = tmp[ which(tmp$Total.Cell.Number1 < 30000000),])"
   ]
  },
  {
   "cell_type": "code",
   "execution_count": 71,
   "metadata": {
    "vscode": {
     "languageId": "r"
    }
   },
   "outputs": [
    {
     "data": {
      "text/html": [
       "<table class=\"dataframe\">\n",
       "<caption>A data.frame: 6 x 61</caption>\n",
       "<thead>\n",
       "\t<tr><th></th><th scope=col>Shipment.#</th><th scope=col>Batch</th><th scope=col>Original.Box#</th><th scope=col>Original.Box.Location</th><th scope=col>Specimen.ID</th><th scope=col>Date.Frozen</th><th scope=col>Study.Cohort</th><th scope=col>Sample.Type</th><th scope=col>Date.transferred.to.Pugh.Lab</th><th scope=col>Total.Cell.Number</th><th scope=col>...</th><th scope=col>Total.Capture.Library.Yield.(ng)</th><th scope=col>Miseq.for.Capture</th><th scope=col>Miseq.Flow.Cell.ID</th><th scope=col>Sent.for.Nextseq?</th><th scope=col>Date.Submitted.for.Seq</th><th scope=col>Pugh.Lab.Seq.ID</th><th scope=col>Vol.used.for.sequencing.(uL)</th><th scope=col>Vol.Remaining.(uL)</th><th scope=col>Capture.Notes</th><th scope=col>Total.Cell.Number1</th></tr>\n",
       "\t<tr><th></th><th scope=col>&lt;dbl&gt;</th><th scope=col>&lt;chr&gt;</th><th scope=col>&lt;chr&gt;</th><th scope=col>&lt;chr&gt;</th><th scope=col>&lt;chr&gt;</th><th scope=col>&lt;chr&gt;</th><th scope=col>&lt;dbl&gt;</th><th scope=col>&lt;chr&gt;</th><th scope=col>&lt;dbl&gt;</th><th scope=col>&lt;chr&gt;</th><th scope=col>...</th><th scope=col>&lt;dbl&gt;</th><th scope=col>&lt;chr&gt;</th><th scope=col>&lt;chr&gt;</th><th scope=col>&lt;chr&gt;</th><th scope=col>&lt;chr&gt;</th><th scope=col>&lt;chr&gt;</th><th scope=col>&lt;dbl&gt;</th><th scope=col>&lt;dbl&gt;</th><th scope=col>&lt;chr&gt;</th><th scope=col>&lt;dbl&gt;</th></tr>\n",
       "</thead>\n",
       "<tbody>\n",
       "\t<tr><th scope=row>383</th><td>2</td><td>14</td><td>Cell Box 2 </td><td>G6</td><td>406-03</td><td>43620</td><td>NA</td><td>Cell</td><td>NA</td><td>9000  </td><td>...</td><td> 19.95</td><td>Passed </td><td>200612_M04827_0392_000000000-D879T</td><td>Yes </td><td>44314</td><td>BCX_tumour_CHP_PBMC_Remaining_Batches_PostCap_capTCRseq_NextSeq_Pool3</td><td>17.26</td><td> 1.74</td><td>NA</td><td>  9000</td></tr>\n",
       "\t<tr><th scope=row>385</th><td>2</td><td>NA</td><td>Cell Box 2 </td><td>E2</td><td>403-03</td><td>43585</td><td>NA</td><td>NA  </td><td>NA</td><td>87000 </td><td>...</td><td>  0.00</td><td>NA     </td><td>NA                                </td><td>NA  </td><td>NA   </td><td>NA                                                                   </td><td>   NA</td><td>   NA</td><td>NA</td><td> 87000</td></tr>\n",
       "\t<tr><th scope=row>181</th><td>1</td><td>7 </td><td>2          </td><td>E6</td><td>375-02</td><td>43319</td><td>NA</td><td>Cell</td><td>NA</td><td>170000</td><td>...</td><td>235.60</td><td>Passed </td><td>191002_M04827_0273_000000000-D5FJK</td><td>Yes </td><td>43746</td><td>CHP Post-Cap TCR Libraries (24 samples) Nextseq Library Pool Batch 7 </td><td> 2.11</td><td>16.89</td><td>NA</td><td>170000</td></tr>\n",
       "\t<tr><th scope=row>382</th><td>2</td><td>14</td><td>Cell Box 2 </td><td>F7</td><td>414-01</td><td>43595</td><td>NA</td><td>Cell</td><td>NA</td><td>190000</td><td>...</td><td> 19.95</td><td>Passed </td><td>200612_M04827_0392_000000000-D879T</td><td>Yes </td><td>44314</td><td>BCX_tumour_CHP_PBMC_Remaining_Batches_PostCap_capTCRseq_NextSeq_Pool3</td><td>17.26</td><td> 1.74</td><td>NA</td><td>190000</td></tr>\n",
       "\t<tr><th scope=row>283</th><td>2</td><td>10</td><td>Cell Box 2 </td><td>D4</td><td>406-02</td><td>43573</td><td>NA</td><td>Cell</td><td>NA</td><td>200000</td><td>...</td><td>  0.00</td><td>NA     </td><td>NA                                </td><td>NA  </td><td>NA   </td><td>NA                                                                   </td><td>   NA</td><td>   NA</td><td>NA</td><td>200000</td></tr>\n",
       "\t<tr><th scope=row>413</th><td>2</td><td>NA</td><td>NA         </td><td>NA</td><td>402-01</td><td>43507</td><td>NA</td><td>Cell</td><td>NA</td><td>200000</td><td>...</td><td>  0.00</td><td>NA     </td><td>NA                                </td><td>NA  </td><td>NA   </td><td>NA                                                                   </td><td>   NA</td><td>   NA</td><td>NA</td><td>200000</td></tr>\n",
       "</tbody>\n",
       "</table>\n"
      ],
      "text/latex": [
       "A data.frame: 6 x 61\n",
       "\\begin{tabular}{r|lllllllllllllllllllll}\n",
       "  & Shipment.\\# & Batch & Original.Box\\# & Original.Box.Location & Specimen.ID & Date.Frozen & Study.Cohort & Sample.Type & Date.transferred.to.Pugh.Lab & Total.Cell.Number & ... & Total.Capture.Library.Yield.(ng) & Miseq.for.Capture & Miseq.Flow.Cell.ID & Sent.for.Nextseq? & Date.Submitted.for.Seq & Pugh.Lab.Seq.ID & Vol.used.for.sequencing.(uL) & Vol.Remaining.(uL) & Capture.Notes & Total.Cell.Number1\\\\\n",
       "  & <dbl> & <chr> & <chr> & <chr> & <chr> & <chr> & <dbl> & <chr> & <dbl> & <chr> & ... & <dbl> & <chr> & <chr> & <chr> & <chr> & <chr> & <dbl> & <dbl> & <chr> & <dbl>\\\\\n",
       "\\hline\n",
       "\t383 & 2 & 14 & Cell Box 2  & G6 & 406-03 & 43620 & NA & Cell & NA & 9000   & ... &  19.95 & Passed  & 200612\\_M04827\\_0392\\_000000000-D879T & Yes  & 44314 & BCX\\_tumour\\_CHP\\_PBMC\\_Remaining\\_Batches\\_PostCap\\_capTCRseq\\_NextSeq\\_Pool3 & 17.26 &  1.74 & NA &   9000\\\\\n",
       "\t385 & 2 & NA & Cell Box 2  & E2 & 403-03 & 43585 & NA & NA   & NA & 87000  & ... &   0.00 & NA      & NA                                 & NA   & NA    & NA                                                                    &    NA &    NA & NA &  87000\\\\\n",
       "\t181 & 1 & 7  & 2           & E6 & 375-02 & 43319 & NA & Cell & NA & 170000 & ... & 235.60 & Passed  & 191002\\_M04827\\_0273\\_000000000-D5FJK & Yes  & 43746 & CHP Post-Cap TCR Libraries (24 samples) Nextseq Library Pool Batch 7  &  2.11 & 16.89 & NA & 170000\\\\\n",
       "\t382 & 2 & 14 & Cell Box 2  & F7 & 414-01 & 43595 & NA & Cell & NA & 190000 & ... &  19.95 & Passed  & 200612\\_M04827\\_0392\\_000000000-D879T & Yes  & 44314 & BCX\\_tumour\\_CHP\\_PBMC\\_Remaining\\_Batches\\_PostCap\\_capTCRseq\\_NextSeq\\_Pool3 & 17.26 &  1.74 & NA & 190000\\\\\n",
       "\t283 & 2 & 10 & Cell Box 2  & D4 & 406-02 & 43573 & NA & Cell & NA & 200000 & ... &   0.00 & NA      & NA                                 & NA   & NA    & NA                                                                    &    NA &    NA & NA & 200000\\\\\n",
       "\t413 & 2 & NA & NA          & NA & 402-01 & 43507 & NA & Cell & NA & 200000 & ... &   0.00 & NA      & NA                                 & NA   & NA    & NA                                                                    &    NA &    NA & NA & 200000\\\\\n",
       "\\end{tabular}\n"
      ],
      "text/markdown": [
       "\n",
       "A data.frame: 6 x 61\n",
       "\n",
       "| <!--/--> | Shipment.# &lt;dbl&gt; | Batch &lt;chr&gt; | Original.Box# &lt;chr&gt; | Original.Box.Location &lt;chr&gt; | Specimen.ID &lt;chr&gt; | Date.Frozen &lt;chr&gt; | Study.Cohort &lt;dbl&gt; | Sample.Type &lt;chr&gt; | Date.transferred.to.Pugh.Lab &lt;dbl&gt; | Total.Cell.Number &lt;chr&gt; | ... ... | Total.Capture.Library.Yield.(ng) &lt;dbl&gt; | Miseq.for.Capture &lt;chr&gt; | Miseq.Flow.Cell.ID &lt;chr&gt; | Sent.for.Nextseq? &lt;chr&gt; | Date.Submitted.for.Seq &lt;chr&gt; | Pugh.Lab.Seq.ID &lt;chr&gt; | Vol.used.for.sequencing.(uL) &lt;dbl&gt; | Vol.Remaining.(uL) &lt;dbl&gt; | Capture.Notes &lt;chr&gt; | Total.Cell.Number1 &lt;dbl&gt; |\n",
       "|---|---|---|---|---|---|---|---|---|---|---|---|---|---|---|---|---|---|---|---|---|---|\n",
       "| 383 | 2 | 14 | Cell Box 2  | G6 | 406-03 | 43620 | NA | Cell | NA | 9000   | ... |  19.95 | Passed  | 200612_M04827_0392_000000000-D879T | Yes  | 44314 | BCX_tumour_CHP_PBMC_Remaining_Batches_PostCap_capTCRseq_NextSeq_Pool3 | 17.26 |  1.74 | NA |   9000 |\n",
       "| 385 | 2 | NA | Cell Box 2  | E2 | 403-03 | 43585 | NA | NA   | NA | 87000  | ... |   0.00 | NA      | NA                                 | NA   | NA    | NA                                                                    |    NA |    NA | NA |  87000 |\n",
       "| 181 | 1 | 7  | 2           | E6 | 375-02 | 43319 | NA | Cell | NA | 170000 | ... | 235.60 | Passed  | 191002_M04827_0273_000000000-D5FJK | Yes  | 43746 | CHP Post-Cap TCR Libraries (24 samples) Nextseq Library Pool Batch 7  |  2.11 | 16.89 | NA | 170000 |\n",
       "| 382 | 2 | 14 | Cell Box 2  | F7 | 414-01 | 43595 | NA | Cell | NA | 190000 | ... |  19.95 | Passed  | 200612_M04827_0392_000000000-D879T | Yes  | 44314 | BCX_tumour_CHP_PBMC_Remaining_Batches_PostCap_capTCRseq_NextSeq_Pool3 | 17.26 |  1.74 | NA | 190000 |\n",
       "| 283 | 2 | 10 | Cell Box 2  | D4 | 406-02 | 43573 | NA | Cell | NA | 200000 | ... |   0.00 | NA      | NA                                 | NA   | NA    | NA                                                                    |    NA |    NA | NA | 200000 |\n",
       "| 413 | 2 | NA | NA          | NA | 402-01 | 43507 | NA | Cell | NA | 200000 | ... |   0.00 | NA      | NA                                 | NA   | NA    | NA                                                                    |    NA |    NA | NA | 200000 |\n",
       "\n"
      ],
      "text/plain": [
       "    Shipment.# Batch Original.Box# Original.Box.Location Specimen.ID\n",
       "383 2          14    Cell Box 2    G6                    406-03     \n",
       "385 2          NA    Cell Box 2    E2                    403-03     \n",
       "181 1          7     2             E6                    375-02     \n",
       "382 2          14    Cell Box 2    F7                    414-01     \n",
       "283 2          10    Cell Box 2    D4                    406-02     \n",
       "413 2          NA    NA            NA                    402-01     \n",
       "    Date.Frozen Study.Cohort Sample.Type Date.transferred.to.Pugh.Lab\n",
       "383 43620       NA           Cell        NA                          \n",
       "385 43585       NA           NA          NA                          \n",
       "181 43319       NA           Cell        NA                          \n",
       "382 43595       NA           Cell        NA                          \n",
       "283 43573       NA           Cell        NA                          \n",
       "413 43507       NA           Cell        NA                          \n",
       "    Total.Cell.Number ... Total.Capture.Library.Yield.(ng) Miseq.for.Capture\n",
       "383 9000              ...  19.95                           Passed           \n",
       "385 87000             ...   0.00                           NA               \n",
       "181 170000            ... 235.60                           Passed           \n",
       "382 190000            ...  19.95                           Passed           \n",
       "283 200000            ...   0.00                           NA               \n",
       "413 200000            ...   0.00                           NA               \n",
       "    Miseq.Flow.Cell.ID                 Sent.for.Nextseq? Date.Submitted.for.Seq\n",
       "383 200612_M04827_0392_000000000-D879T Yes               44314                 \n",
       "385 NA                                 NA                NA                    \n",
       "181 191002_M04827_0273_000000000-D5FJK Yes               43746                 \n",
       "382 200612_M04827_0392_000000000-D879T Yes               44314                 \n",
       "283 NA                                 NA                NA                    \n",
       "413 NA                                 NA                NA                    \n",
       "    Pugh.Lab.Seq.ID                                                      \n",
       "383 BCX_tumour_CHP_PBMC_Remaining_Batches_PostCap_capTCRseq_NextSeq_Pool3\n",
       "385 NA                                                                   \n",
       "181 CHP Post-Cap TCR Libraries (24 samples) Nextseq Library Pool Batch 7 \n",
       "382 BCX_tumour_CHP_PBMC_Remaining_Batches_PostCap_capTCRseq_NextSeq_Pool3\n",
       "283 NA                                                                   \n",
       "413 NA                                                                   \n",
       "    Vol.used.for.sequencing.(uL) Vol.Remaining.(uL) Capture.Notes\n",
       "383 17.26                         1.74              NA           \n",
       "385    NA                           NA              NA           \n",
       "181  2.11                        16.89              NA           \n",
       "382 17.26                         1.74              NA           \n",
       "283    NA                           NA              NA           \n",
       "413    NA                           NA              NA           \n",
       "    Total.Cell.Number1\n",
       "383   9000            \n",
       "385  87000            \n",
       "181 170000            \n",
       "382 190000            \n",
       "283 200000            \n",
       "413 200000            "
      ]
     },
     "metadata": {},
     "output_type": "display_data"
    }
   ],
   "source": [
    "head(pbmc[ order(pbmc$Total.Cell.Number1, decreasing = F), ])"
   ]
  },
  {
   "attachments": {},
   "cell_type": "markdown",
   "metadata": {},
   "source": [
    "# cfDNA"
   ]
  },
  {
   "cell_type": "code",
   "execution_count": 24,
   "metadata": {
    "vscode": {
     "languageId": "r"
    }
   },
   "outputs": [],
   "source": [
    "cfdna <- read.xlsx(paste0(datapath, \"CHOP Lab Processing Log_AN.xlsx\"), sheet = 1)"
   ]
  },
  {
   "cell_type": "code",
   "execution_count": 25,
   "metadata": {
    "vscode": {
     "languageId": "r"
    }
   },
   "outputs": [],
   "source": [
    "cfdna$Sample.ID <- trimws(cfdna$Sample.ID)"
   ]
  },
  {
   "cell_type": "code",
   "execution_count": 26,
   "metadata": {
    "vscode": {
     "languageId": "r"
    }
   },
   "outputs": [
    {
     "data": {
      "text/html": [
       "355"
      ],
      "text/latex": [
       "355"
      ],
      "text/markdown": [
       "355"
      ],
      "text/plain": [
       "[1] 355"
      ]
     },
     "metadata": {},
     "output_type": "display_data"
    }
   ],
   "source": [
    "length(cfdna$Sample.ID)"
   ]
  },
  {
   "cell_type": "code",
   "execution_count": 27,
   "metadata": {
    "vscode": {
     "languageId": "r"
    }
   },
   "outputs": [],
   "source": [
    "cfdna$Colour.Legend <- NULL"
   ]
  },
  {
   "cell_type": "code",
   "execution_count": 28,
   "metadata": {
    "vscode": {
     "languageId": "r"
    }
   },
   "outputs": [],
   "source": [
    "cfdna <- cfdna[ which(cfdna$`Batch.#` != \"rm\"),]"
   ]
  },
  {
   "cell_type": "code",
   "execution_count": 29,
   "metadata": {
    "vscode": {
     "languageId": "r"
    }
   },
   "outputs": [
    {
     "data": {
      "text/html": [
       "<style>\n",
       ".list-inline {list-style: none; margin:0; padding: 0}\n",
       ".list-inline>li {display: inline-block}\n",
       ".list-inline>li:not(:last-child)::after {content: \"\\00b7\"; padding: 0 .5ex}\n",
       "</style>\n",
       "<ol class=list-inline><li>316</li><li>55</li></ol>\n"
      ],
      "text/latex": [
       "\\begin{enumerate*}\n",
       "\\item 316\n",
       "\\item 55\n",
       "\\end{enumerate*}\n"
      ],
      "text/markdown": [
       "1. 316\n",
       "2. 55\n",
       "\n",
       "\n"
      ],
      "text/plain": [
       "[1] 316  55"
      ]
     },
     "metadata": {},
     "output_type": "display_data"
    }
   ],
   "source": [
    "dim(cfdna)"
   ]
  },
  {
   "cell_type": "code",
   "execution_count": 32,
   "metadata": {
    "vscode": {
     "languageId": "r"
    }
   },
   "outputs": [],
   "source": [
    "# get total number of samples shipped\n",
    "cfdna_samples <- data.frame(cfdna$Sample.ID, stringsAsFactors = F)"
   ]
  },
  {
   "cell_type": "code",
   "execution_count": 33,
   "metadata": {
    "vscode": {
     "languageId": "r"
    }
   },
   "outputs": [],
   "source": [
    "cfdna$samplevol <- as.numeric(cfdna$`Original.Plasma.Volume.(ml)`)\n",
    "cfdna$yield <- as.numeric(cfdna$`Total.yield.Elution.1`)"
   ]
  },
  {
   "cell_type": "code",
   "execution_count": 34,
   "metadata": {
    "vscode": {
     "languageId": "r"
    }
   },
   "outputs": [
    {
     "data": {
      "text/html": [
       "<table class=\"dataframe\">\n",
       "<caption>A data.frame: 6 x 57</caption>\n",
       "<thead>\n",
       "\t<tr><th></th><th scope=col>Shipment.#</th><th scope=col>Batch.#</th><th scope=col>Sample.ID</th><th scope=col>Original.Box.#</th><th scope=col>Original.Box.Location</th><th scope=col>Sample.Type</th><th scope=col>Original.Plasma.Volume.(ml)</th><th scope=col>Extraction.Date</th><th scope=col>Extraction.Operator</th><th scope=col>Concentration.Elution.1.(ng/ul)</th><th scope=col>...</th><th scope=col>Miseq.Flow.Cell.ID</th><th scope=col>Sent.for.Nextseq?</th><th scope=col>Date.Submitted.for.Seq</th><th scope=col>Pugh.Lab.Seq.Submission.ID</th><th scope=col>Vol.used.for.Seq.(uL)</th><th scope=col>Vol.Remaining.(uL)</th><th scope=col>Capture.Notes</th><th scope=col>X56</th><th scope=col>samplevol</th><th scope=col>yield</th></tr>\n",
       "\t<tr><th></th><th scope=col>&lt;chr&gt;</th><th scope=col>&lt;chr&gt;</th><th scope=col>&lt;chr&gt;</th><th scope=col>&lt;chr&gt;</th><th scope=col>&lt;chr&gt;</th><th scope=col>&lt;chr&gt;</th><th scope=col>&lt;dbl&gt;</th><th scope=col>&lt;dbl&gt;</th><th scope=col>&lt;chr&gt;</th><th scope=col>&lt;chr&gt;</th><th scope=col>...</th><th scope=col>&lt;chr&gt;</th><th scope=col>&lt;chr&gt;</th><th scope=col>&lt;dbl&gt;</th><th scope=col>&lt;chr&gt;</th><th scope=col>&lt;dbl&gt;</th><th scope=col>&lt;dbl&gt;</th><th scope=col>&lt;chr&gt;</th><th scope=col>&lt;dbl&gt;</th><th scope=col>&lt;dbl&gt;</th><th scope=col>&lt;dbl&gt;</th></tr>\n",
       "</thead>\n",
       "<tbody>\n",
       "\t<tr><th scope=row>2</th><td>1</td><td>1 </td><td>346-01</td><td>1</td><td>E1</td><td>Plasma</td><td>4.5</td><td>43523</td><td>JW   </td><td>0.65200000000000002</td><td>...</td><td>NA                                </td><td>NA  </td><td>   NA</td><td>NA                                                         </td><td>  NA</td><td>   NA</td><td>NA</td><td>NA</td><td>4.5</td><td>19.5600</td></tr>\n",
       "\t<tr><th scope=row>4</th><td>1</td><td>1a</td><td>348-01</td><td>1</td><td>G5</td><td>Plasma</td><td>4.5</td><td>43511</td><td>RP/JW</td><td>0.48               </td><td>...</td><td>200911_M04827_0435_000000000-D9GW9</td><td>Yes </td><td>44271</td><td>CHP-cfDNA-Remaining-Batches-PostCap-capTCRseq-NextSeq-Pool5</td><td>5.95</td><td>13.05</td><td>NA</td><td>NA</td><td>4.5</td><td>14.4000</td></tr>\n",
       "\t<tr><th scope=row>6</th><td>1</td><td>1a</td><td>348-03</td><td>3</td><td>H2</td><td>Plasma</td><td>3.0</td><td>43511</td><td>RP/JW</td><td>0.75600000000000001</td><td>...</td><td>200911_M04827_0435_000000000-D9GW9</td><td>Yes </td><td>44271</td><td>CHP-cfDNA-Remaining-Batches-PostCap-capTCRseq-NextSeq-Pool5</td><td>5.95</td><td>13.05</td><td>NA</td><td>NA</td><td>3.0</td><td>24.4944</td></tr>\n",
       "\t<tr><th scope=row>7</th><td>1</td><td>1a</td><td>343-04</td><td>2</td><td>H5</td><td>Plasma</td><td>4.5</td><td>43504</td><td>RP/JW</td><td>0.56000000000000005</td><td>...</td><td>200909_M04827_0434_000000000-D9988</td><td>Yes </td><td>44271</td><td>CHP-cfDNA-Remaining-Batches-PostCap-capTCRseq-NextSeq-Pool5</td><td>3.26</td><td>15.74</td><td>NA</td><td>NA</td><td>4.5</td><td>56.0000</td></tr>\n",
       "\t<tr><th scope=row>9</th><td>1</td><td>1a</td><td>329-04</td><td>2</td><td>I2</td><td>Plasma</td><td>3.0</td><td>43511</td><td>RP/JW</td><td>0.99199999999999999</td><td>...</td><td>200911_M04827_0435_000000000-D9GW9</td><td>Yes </td><td>44271</td><td>CHP-cfDNA-Remaining-Batches-PostCap-capTCRseq-NextSeq-Pool5</td><td>2.67</td><td>16.33</td><td>NA</td><td>NA</td><td>3.0</td><td>40.0768</td></tr>\n",
       "\t<tr><th scope=row>10</th><td>1</td><td>1a</td><td>331-05</td><td>3</td><td>D6</td><td>Plasma</td><td>6.0</td><td>43516</td><td>RP/JW</td><td>0.89200000000000002</td><td>...</td><td>200911_M04827_0435_000000000-D9GW9</td><td>Yes </td><td>44271</td><td>CHP-cfDNA-Remaining-Batches-PostCap-capTCRseq-NextSeq-Pool5</td><td>4.84</td><td>14.16</td><td>NA</td><td>NA</td><td>6.0</td><td>71.3600</td></tr>\n",
       "</tbody>\n",
       "</table>\n"
      ],
      "text/latex": [
       "A data.frame: 6 x 57\n",
       "\\begin{tabular}{r|lllllllllllllllllllll}\n",
       "  & Shipment.\\# & Batch.\\# & Sample.ID & Original.Box.\\# & Original.Box.Location & Sample.Type & Original.Plasma.Volume.(ml) & Extraction.Date & Extraction.Operator & Concentration.Elution.1.(ng/ul) & ... & Miseq.Flow.Cell.ID & Sent.for.Nextseq? & Date.Submitted.for.Seq & Pugh.Lab.Seq.Submission.ID & Vol.used.for.Seq.(uL) & Vol.Remaining.(uL) & Capture.Notes & X56 & samplevol & yield\\\\\n",
       "  & <chr> & <chr> & <chr> & <chr> & <chr> & <chr> & <dbl> & <dbl> & <chr> & <chr> & ... & <chr> & <chr> & <dbl> & <chr> & <dbl> & <dbl> & <chr> & <dbl> & <dbl> & <dbl>\\\\\n",
       "\\hline\n",
       "\t2 & 1 & 1  & 346-01 & 1 & E1 & Plasma & 4.5 & 43523 & JW    & 0.65200000000000002 & ... & NA                                 & NA   &    NA & NA                                                          &   NA &    NA & NA & NA & 4.5 & 19.5600\\\\\n",
       "\t4 & 1 & 1a & 348-01 & 1 & G5 & Plasma & 4.5 & 43511 & RP/JW & 0.48                & ... & 200911\\_M04827\\_0435\\_000000000-D9GW9 & Yes  & 44271 & CHP-cfDNA-Remaining-Batches-PostCap-capTCRseq-NextSeq-Pool5 & 5.95 & 13.05 & NA & NA & 4.5 & 14.4000\\\\\n",
       "\t6 & 1 & 1a & 348-03 & 3 & H2 & Plasma & 3.0 & 43511 & RP/JW & 0.75600000000000001 & ... & 200911\\_M04827\\_0435\\_000000000-D9GW9 & Yes  & 44271 & CHP-cfDNA-Remaining-Batches-PostCap-capTCRseq-NextSeq-Pool5 & 5.95 & 13.05 & NA & NA & 3.0 & 24.4944\\\\\n",
       "\t7 & 1 & 1a & 343-04 & 2 & H5 & Plasma & 4.5 & 43504 & RP/JW & 0.56000000000000005 & ... & 200909\\_M04827\\_0434\\_000000000-D9988 & Yes  & 44271 & CHP-cfDNA-Remaining-Batches-PostCap-capTCRseq-NextSeq-Pool5 & 3.26 & 15.74 & NA & NA & 4.5 & 56.0000\\\\\n",
       "\t9 & 1 & 1a & 329-04 & 2 & I2 & Plasma & 3.0 & 43511 & RP/JW & 0.99199999999999999 & ... & 200911\\_M04827\\_0435\\_000000000-D9GW9 & Yes  & 44271 & CHP-cfDNA-Remaining-Batches-PostCap-capTCRseq-NextSeq-Pool5 & 2.67 & 16.33 & NA & NA & 3.0 & 40.0768\\\\\n",
       "\t10 & 1 & 1a & 331-05 & 3 & D6 & Plasma & 6.0 & 43516 & RP/JW & 0.89200000000000002 & ... & 200911\\_M04827\\_0435\\_000000000-D9GW9 & Yes  & 44271 & CHP-cfDNA-Remaining-Batches-PostCap-capTCRseq-NextSeq-Pool5 & 4.84 & 14.16 & NA & NA & 6.0 & 71.3600\\\\\n",
       "\\end{tabular}\n"
      ],
      "text/markdown": [
       "\n",
       "A data.frame: 6 x 57\n",
       "\n",
       "| <!--/--> | Shipment.# &lt;chr&gt; | Batch.# &lt;chr&gt; | Sample.ID &lt;chr&gt; | Original.Box.# &lt;chr&gt; | Original.Box.Location &lt;chr&gt; | Sample.Type &lt;chr&gt; | Original.Plasma.Volume.(ml) &lt;dbl&gt; | Extraction.Date &lt;dbl&gt; | Extraction.Operator &lt;chr&gt; | Concentration.Elution.1.(ng/ul) &lt;chr&gt; | ... ... | Miseq.Flow.Cell.ID &lt;chr&gt; | Sent.for.Nextseq? &lt;chr&gt; | Date.Submitted.for.Seq &lt;dbl&gt; | Pugh.Lab.Seq.Submission.ID &lt;chr&gt; | Vol.used.for.Seq.(uL) &lt;dbl&gt; | Vol.Remaining.(uL) &lt;dbl&gt; | Capture.Notes &lt;chr&gt; | X56 &lt;dbl&gt; | samplevol &lt;dbl&gt; | yield &lt;dbl&gt; |\n",
       "|---|---|---|---|---|---|---|---|---|---|---|---|---|---|---|---|---|---|---|---|---|---|\n",
       "| 2 | 1 | 1  | 346-01 | 1 | E1 | Plasma | 4.5 | 43523 | JW    | 0.65200000000000002 | ... | NA                                 | NA   |    NA | NA                                                          |   NA |    NA | NA | NA | 4.5 | 19.5600 |\n",
       "| 4 | 1 | 1a | 348-01 | 1 | G5 | Plasma | 4.5 | 43511 | RP/JW | 0.48                | ... | 200911_M04827_0435_000000000-D9GW9 | Yes  | 44271 | CHP-cfDNA-Remaining-Batches-PostCap-capTCRseq-NextSeq-Pool5 | 5.95 | 13.05 | NA | NA | 4.5 | 14.4000 |\n",
       "| 6 | 1 | 1a | 348-03 | 3 | H2 | Plasma | 3.0 | 43511 | RP/JW | 0.75600000000000001 | ... | 200911_M04827_0435_000000000-D9GW9 | Yes  | 44271 | CHP-cfDNA-Remaining-Batches-PostCap-capTCRseq-NextSeq-Pool5 | 5.95 | 13.05 | NA | NA | 3.0 | 24.4944 |\n",
       "| 7 | 1 | 1a | 343-04 | 2 | H5 | Plasma | 4.5 | 43504 | RP/JW | 0.56000000000000005 | ... | 200909_M04827_0434_000000000-D9988 | Yes  | 44271 | CHP-cfDNA-Remaining-Batches-PostCap-capTCRseq-NextSeq-Pool5 | 3.26 | 15.74 | NA | NA | 4.5 | 56.0000 |\n",
       "| 9 | 1 | 1a | 329-04 | 2 | I2 | Plasma | 3.0 | 43511 | RP/JW | 0.99199999999999999 | ... | 200911_M04827_0435_000000000-D9GW9 | Yes  | 44271 | CHP-cfDNA-Remaining-Batches-PostCap-capTCRseq-NextSeq-Pool5 | 2.67 | 16.33 | NA | NA | 3.0 | 40.0768 |\n",
       "| 10 | 1 | 1a | 331-05 | 3 | D6 | Plasma | 6.0 | 43516 | RP/JW | 0.89200000000000002 | ... | 200911_M04827_0435_000000000-D9GW9 | Yes  | 44271 | CHP-cfDNA-Remaining-Batches-PostCap-capTCRseq-NextSeq-Pool5 | 4.84 | 14.16 | NA | NA | 6.0 | 71.3600 |\n",
       "\n"
      ],
      "text/plain": [
       "   Shipment.# Batch.# Sample.ID Original.Box.# Original.Box.Location\n",
       "2  1          1       346-01    1              E1                   \n",
       "4  1          1a      348-01    1              G5                   \n",
       "6  1          1a      348-03    3              H2                   \n",
       "7  1          1a      343-04    2              H5                   \n",
       "9  1          1a      329-04    2              I2                   \n",
       "10 1          1a      331-05    3              D6                   \n",
       "   Sample.Type Original.Plasma.Volume.(ml) Extraction.Date Extraction.Operator\n",
       "2  Plasma      4.5                         43523           JW                 \n",
       "4  Plasma      4.5                         43511           RP/JW              \n",
       "6  Plasma      3.0                         43511           RP/JW              \n",
       "7  Plasma      4.5                         43504           RP/JW              \n",
       "9  Plasma      3.0                         43511           RP/JW              \n",
       "10 Plasma      6.0                         43516           RP/JW              \n",
       "   Concentration.Elution.1.(ng/ul) ... Miseq.Flow.Cell.ID                \n",
       "2  0.65200000000000002             ... NA                                \n",
       "4  0.48                            ... 200911_M04827_0435_000000000-D9GW9\n",
       "6  0.75600000000000001             ... 200911_M04827_0435_000000000-D9GW9\n",
       "7  0.56000000000000005             ... 200909_M04827_0434_000000000-D9988\n",
       "9  0.99199999999999999             ... 200911_M04827_0435_000000000-D9GW9\n",
       "10 0.89200000000000002             ... 200911_M04827_0435_000000000-D9GW9\n",
       "   Sent.for.Nextseq? Date.Submitted.for.Seq\n",
       "2  NA                   NA                 \n",
       "4  Yes               44271                 \n",
       "6  Yes               44271                 \n",
       "7  Yes               44271                 \n",
       "9  Yes               44271                 \n",
       "10 Yes               44271                 \n",
       "   Pugh.Lab.Seq.Submission.ID                                 \n",
       "2  NA                                                         \n",
       "4  CHP-cfDNA-Remaining-Batches-PostCap-capTCRseq-NextSeq-Pool5\n",
       "6  CHP-cfDNA-Remaining-Batches-PostCap-capTCRseq-NextSeq-Pool5\n",
       "7  CHP-cfDNA-Remaining-Batches-PostCap-capTCRseq-NextSeq-Pool5\n",
       "9  CHP-cfDNA-Remaining-Batches-PostCap-capTCRseq-NextSeq-Pool5\n",
       "10 CHP-cfDNA-Remaining-Batches-PostCap-capTCRseq-NextSeq-Pool5\n",
       "   Vol.used.for.Seq.(uL) Vol.Remaining.(uL) Capture.Notes X56 samplevol yield  \n",
       "2    NA                     NA              NA            NA  4.5       19.5600\n",
       "4  5.95                  13.05              NA            NA  4.5       14.4000\n",
       "6  5.95                  13.05              NA            NA  3.0       24.4944\n",
       "7  3.26                  15.74              NA            NA  4.5       56.0000\n",
       "9  2.67                  16.33              NA            NA  3.0       40.0768\n",
       "10 4.84                  14.16              NA            NA  6.0       71.3600"
      ]
     },
     "metadata": {},
     "output_type": "display_data"
    }
   ],
   "source": [
    "head(cfdna)"
   ]
  },
  {
   "cell_type": "code",
   "execution_count": 35,
   "metadata": {
    "vscode": {
     "languageId": "r"
    }
   },
   "outputs": [
    {
     "data": {
      "text/plain": [
       "   Min. 1st Qu.  Median    Mean 3rd Qu.    Max. \n",
       "  0.191   0.900   3.000   2.846   4.500   9.000 "
      ]
     },
     "metadata": {},
     "output_type": "display_data"
    }
   ],
   "source": [
    "summary(cfdna$samplevol[ cfdna$yield >= 20])"
   ]
  },
  {
   "cell_type": "code",
   "execution_count": 36,
   "metadata": {
    "vscode": {
     "languageId": "r"
    }
   },
   "outputs": [
    {
     "data": {
      "text/plain": [
       "   Min. 1st Qu.  Median    Mean 3rd Qu.    Max. \n",
       "   0.40   18.88   35.04  203.51  100.80 9120.00 "
      ]
     },
     "metadata": {},
     "output_type": "display_data"
    }
   ],
   "source": [
    "summary(cfdna$yield)"
   ]
  },
  {
   "cell_type": "code",
   "execution_count": 37,
   "metadata": {
    "vscode": {
     "languageId": "r"
    }
   },
   "outputs": [
    {
     "data": {
      "image/png": "[encoded data removed]",
      "text/plain": [
       "plot without title"
      ]
     },
     "metadata": {
      "image/png": {
       "height": 420,
       "width": 420
      }
     },
     "output_type": "display_data"
    }
   ],
   "source": [
    "ggplot(data = cfdna, aes(x= samplevol)) + geom_histogram(bins = 100)"
   ]
  },
  {
   "cell_type": "code",
   "execution_count": 38,
   "metadata": {
    "vscode": {
     "languageId": "r"
    }
   },
   "outputs": [
    {
     "data": {
      "image/png": "[encoded data removed]",
      "text/plain": [
       "plot without title"
      ]
     },
     "metadata": {
      "image/png": {
       "height": 420,
       "width": 420
      }
     },
     "output_type": "display_data"
    }
   ],
   "source": [
    "ggplot(data = cfdna, aes( y= yield, x = samplevol)) + geom_point() \n",
    "# geom_smooth( method = \"lm\")+\n",
    "# geom_hline( yintercept = 20, linetype = \"dashed\") + \n",
    " #+ geom_smooth( method = \"lm\")"
   ]
  },
  {
   "cell_type": "code",
   "execution_count": null,
   "metadata": {
    "vscode": {
     "languageId": "r"
    }
   },
   "outputs": [],
   "source": []
  },
  {
   "cell_type": "code",
   "execution_count": 39,
   "metadata": {
    "vscode": {
     "languageId": "r"
    }
   },
   "outputs": [],
   "source": [
    "cfdna$Patient <- gsub(\"-.*\",\"\", cfdna$Sample.ID )"
   ]
  },
  {
   "cell_type": "code",
   "execution_count": 40,
   "metadata": {
    "vscode": {
     "languageId": "r"
    }
   },
   "outputs": [],
   "source": [
    "cfdna$Patient <- paste0(\"CHP_\", cfdna$Patient)"
   ]
  },
  {
   "cell_type": "code",
   "execution_count": 41,
   "metadata": {
    "vscode": {
     "languageId": "r"
    }
   },
   "outputs": [],
   "source": [
    "nbl <- c(\"CHP_346\", \"CHP_385\", \"CHP_379\", \"CHP_418\", \"CHP_384\")"
   ]
  },
  {
   "cell_type": "code",
   "execution_count": 42,
   "metadata": {
    "vscode": {
     "languageId": "r"
    }
   },
   "outputs": [],
   "source": [
    "nbl_cfdna <- cfdna[ cfdna$Patient %in% nbl,]"
   ]
  },
  {
   "cell_type": "code",
   "execution_count": 43,
   "metadata": {
    "vscode": {
     "languageId": "r"
    }
   },
   "outputs": [
    {
     "data": {
      "text/html": [
       "<style>\n",
       ".list-inline {list-style: none; margin:0; padding: 0}\n",
       ".list-inline>li {display: inline-block}\n",
       ".list-inline>li:not(:last-child)::after {content: \"\\00b7\"; padding: 0 .5ex}\n",
       "</style>\n",
       "<ol class=list-inline><li>'CHP_346'</li><li>'CHP_379'</li><li>'CHP_418'</li><li>'CHP_418'</li><li>'CHP_385'</li><li>'CHP_385'</li><li>'CHP_385'</li><li>'CHP_384'</li><li>'CHP_385'</li><li>'CHP_385'</li></ol>\n"
      ],
      "text/latex": [
       "\\begin{enumerate*}\n",
       "\\item 'CHP\\_346'\n",
       "\\item 'CHP\\_379'\n",
       "\\item 'CHP\\_418'\n",
       "\\item 'CHP\\_418'\n",
       "\\item 'CHP\\_385'\n",
       "\\item 'CHP\\_385'\n",
       "\\item 'CHP\\_385'\n",
       "\\item 'CHP\\_384'\n",
       "\\item 'CHP\\_385'\n",
       "\\item 'CHP\\_385'\n",
       "\\end{enumerate*}\n"
      ],
      "text/markdown": [
       "1. 'CHP_346'\n",
       "2. 'CHP_379'\n",
       "3. 'CHP_418'\n",
       "4. 'CHP_418'\n",
       "5. 'CHP_385'\n",
       "6. 'CHP_385'\n",
       "7. 'CHP_385'\n",
       "8. 'CHP_384'\n",
       "9. 'CHP_385'\n",
       "10. 'CHP_385'\n",
       "\n",
       "\n"
      ],
      "text/plain": [
       " [1] \"CHP_346\" \"CHP_379\" \"CHP_418\" \"CHP_418\" \"CHP_385\" \"CHP_385\" \"CHP_385\"\n",
       " [8] \"CHP_384\" \"CHP_385\" \"CHP_385\""
      ]
     },
     "metadata": {},
     "output_type": "display_data"
    }
   ],
   "source": [
    "nbl_cfdna$Patient"
   ]
  },
  {
   "cell_type": "code",
   "execution_count": 44,
   "metadata": {
    "vscode": {
     "languageId": "r"
    }
   },
   "outputs": [
    {
     "data": {
      "text/html": [
       "<style>\n",
       ".list-inline {list-style: none; margin:0; padding: 0}\n",
       ".list-inline>li {display: inline-block}\n",
       ".list-inline>li:not(:last-child)::after {content: \"\\00b7\"; padding: 0 .5ex}\n",
       "</style>\n",
       "<ol class=list-inline><li>10</li><li>58</li></ol>\n"
      ],
      "text/latex": [
       "\\begin{enumerate*}\n",
       "\\item 10\n",
       "\\item 58\n",
       "\\end{enumerate*}\n"
      ],
      "text/markdown": [
       "1. 10\n",
       "2. 58\n",
       "\n",
       "\n"
      ],
      "text/plain": [
       "[1] 10 58"
      ]
     },
     "metadata": {},
     "output_type": "display_data"
    }
   ],
   "source": [
    "dim(nbl_cfdna)"
   ]
  },
  {
   "cell_type": "code",
   "execution_count": 45,
   "metadata": {
    "vscode": {
     "languageId": "r"
    }
   },
   "outputs": [
    {
     "data": {
      "image/png": "[encoded data removed]",
      "text/plain": [
       "plot without title"
      ]
     },
     "metadata": {
      "image/png": {
       "height": 420,
       "width": 420
      }
     },
     "output_type": "display_data"
    }
   ],
   "source": [
    "ggplot(data = nbl_cfdna, aes( y= yield, x = samplevol)) + geom_point() + geom_hline(yintercept = 20) \n",
    "#coord_cartesian(y = c(0,100)) #+ geom_smooth( method = \"lm\")"
   ]
  },
  {
   "cell_type": "code",
   "execution_count": 46,
   "metadata": {
    "vscode": {
     "languageId": "r"
    }
   },
   "outputs": [
    {
     "data": {
      "text/plain": [
       "   Min. 1st Qu.  Median    Mean 3rd Qu.    Max. \n",
       " 0.5500  0.8925  0.9000  1.4311  0.9045  4.5000 "
      ]
     },
     "metadata": {},
     "output_type": "display_data"
    },
    {
     "data": {
      "text/plain": [
       "   Min. 1st Qu.  Median    Mean 3rd Qu.    Max. \n",
       "  17.44   21.23  111.20  144.34  227.20  384.00 "
      ]
     },
     "metadata": {},
     "output_type": "display_data"
    }
   ],
   "source": [
    "summary(nbl_cfdna$samplevol)\n",
    "summary(nbl_cfdna$yield)"
   ]
  }
 ],
 "metadata": {
  "kernelspec": {
   "display_name": "R 4.0",
   "language": "R",
   "name": "ir40"
  },
  "language_info": {
   "codemirror_mode": "r",
   "file_extension": ".r",
   "mimetype": "text/x-r-source",
   "name": "R",
   "pygments_lexer": "r",
   "version": "4.2.2"
  },
  "toc": {
   "base_numbering": 1,
   "nav_menu": {},
   "number_sections": false,
   "sideBar": true,
   "skip_h1_title": false,
   "title_cell": "Table of Contents",
   "title_sidebar": "Contents",
   "toc_cell": true,
   "toc_position": {
    "height": "calc(100% - 180px)",
    "left": "10px",
    "top": "150px",
    "width": "273.575px"
   },
   "toc_section_display": true,
   "toc_window_display": true
  }
 },
 "nbformat": 4,
 "nbformat_minor": 2
}

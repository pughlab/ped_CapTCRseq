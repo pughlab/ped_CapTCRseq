{
 "cells": [
  {
   "cell_type": "code",
   "execution_count": 1,
   "metadata": {
    "vscode": {
     "languageId": "r"
    }
   },
   "outputs": [
    {
     "data": {
      "text/html": [
       "'en_US.UTF-8/en_US.UTF-8/en_US.UTF-8/C/en_US.UTF-8/C'"
      ],
      "text/latex": [
       "'en\\_US.UTF-8/en\\_US.UTF-8/en\\_US.UTF-8/C/en\\_US.UTF-8/C'"
      ],
      "text/markdown": [
       "'en_US.UTF-8/en_US.UTF-8/en_US.UTF-8/C/en_US.UTF-8/C'"
      ],
      "text/plain": [
       "[1] \"en_US.UTF-8/en_US.UTF-8/en_US.UTF-8/C/en_US.UTF-8/C\""
      ]
     },
     "metadata": {},
     "output_type": "display_data"
    }
   ],
   "source": [
    "Sys.setlocale(category = \"LC_ALL\", locale = \"en_US.UTF-8\")"
   ]
  },
  {
   "attachments": {},
   "cell_type": "markdown",
   "metadata": {},
   "source": [
    "# Dependencies"
   ]
  },
  {
   "cell_type": "code",
   "execution_count": 2,
   "metadata": {
    "vscode": {
     "languageId": "r"
    }
   },
   "outputs": [],
   "source": [
    "pacman::p_load(dplyr, ggplot2, ggbeeswarm, ggpubr, ggsignif, cowplot, lsmeans, forestplot)"
   ]
  },
  {
   "attachments": {},
   "cell_type": "markdown",
   "metadata": {},
   "source": [
    "# Functions"
   ]
  },
  {
   "cell_type": "code",
   "execution_count": 3,
   "metadata": {
    "vscode": {
     "languageId": "r"
    }
   },
   "outputs": [],
   "source": [
    "source(\"/Users/anabbi/git/ped_CapTCRseq/R/ggplot2_theme.R\")\n",
    "source(\"/Users/anabbi/git/ped_CapTCRseq/R/color_schemes.R\")\n",
    "source(\"/Users/anabbi/git/ped_CapTCRseq/R/Misc_functions.R\")"
   ]
  },
  {
   "attachments": {},
   "cell_type": "markdown",
   "metadata": {},
   "source": [
    "# Paths"
   ]
  },
  {
   "cell_type": "code",
   "execution_count": 4,
   "metadata": {
    "vscode": {
     "languageId": "r"
    }
   },
   "outputs": [],
   "source": [
    "datapath <- \"/Users/anabbi/OneDrive - UHN/Documents/INTERCEPT/Data/\"\n",
    "plotpath <- \"/Users/anabbi/OneDrive - UHN/Documents/INTERCEPT/Plots/\"\n",
    "manifestpath <- \"/Users/anabbi/OneDrive - UHN/Documents/INTERCEPT/Manifests/\"\n",
    "gitpath <- \"/Users/anabbi/git/ped_CapTCRseq/\""
   ]
  },
  {
   "cell_type": "code",
   "execution_count": 5,
   "metadata": {
    "vscode": {
     "languageId": "r"
    }
   },
   "outputs": [],
   "source": [
    "h4hpath <- \"/Users/anabbi/Desktop/H4H/INTERCEPT/\""
   ]
  },
  {
   "attachments": {},
   "cell_type": "markdown",
   "metadata": {},
   "source": [
    "# Main"
   ]
  },
  {
   "cell_type": "code",
   "execution_count": 6,
   "metadata": {
    "vscode": {
     "languageId": "r"
    }
   },
   "outputs": [],
   "source": [
    "meta_div <- readr::read_rds(paste0(datapath, \"capTCRseq/meta_div_goodsamples.rds\"))"
   ]
  },
  {
   "cell_type": "code",
   "execution_count": 7,
   "metadata": {
    "vscode": {
     "languageId": "r"
    }
   },
   "outputs": [],
   "source": [
    "meta_div$cyclenum <- as.numeric(gsub(\"X0\", \"\", meta_div$cycle) )"
   ]
  },
  {
   "cell_type": "code",
   "execution_count": 8,
   "metadata": {
    "vscode": {
     "languageId": "r"
    }
   },
   "outputs": [],
   "source": [
    "pbmc <- meta_div[ meta_div$sampletype == \"PBMC\",]\n",
    "cfdna <- meta_div[ meta_div$sampletype == \"cfDNA\",]"
   ]
  },
  {
   "cell_type": "markdown",
   "metadata": {},
   "source": [
    "# 1- Quantrreg for each patient post-therapy"
   ]
  },
  {
   "cell_type": "code",
   "execution_count": null,
   "metadata": {
    "vscode": {
     "languageId": "r"
    }
   },
   "outputs": [],
   "source": []
  },
  {
   "cell_type": "code",
   "execution_count": 9,
   "metadata": {
    "vscode": {
     "languageId": "r"
    }
   },
   "outputs": [],
   "source": [
    "# split to 3 dataframes: one for flow one for tcr and ncr\n",
    "\n",
    "tcr_df <- pbmc[ !is.na(pbmc$TRB), ]\n",
    "cftcr_df <- cfdna[ !is.na(cfdna$TRB), ]\n",
    "\n",
    "flow_df <- pbmc[ !is.na(pbmc$CD3) & pbmc$CD3 > 0, ]\n",
    "ncr_df <- flow_df[ !is.na(flow_df$`TIM3%`), ]"
   ]
  },
  {
   "cell_type": "code",
   "execution_count": 10,
   "metadata": {
    "vscode": {
     "languageId": "r"
    }
   },
   "outputs": [],
   "source": [
    "# remove X01\n",
    "tcr_df <- tcr_df[ tcr_df$cycle != \"X01\", ]\n",
    "cftcr_df <- cftcr_df[ cftcr_df$cycle != \"X01\", ]\n",
    "\n",
    "flow_df <- flow_df[ flow_df$cycle != \"X01\", ]\n",
    "ncr_df <- ncr_df[ ncr_df$cycle != \"X01\", ]"
   ]
  },
  {
   "cell_type": "code",
   "execution_count": 11,
   "metadata": {
    "vscode": {
     "languageId": "r"
    }
   },
   "outputs": [],
   "source": [
    "# minimum two samples in each dataframe\n",
    "\n",
    "mytab <- table(tcr_df$Patient, tcr_df$cycle)\n",
    "mytab <- mytab[rowSums(mytab == 1) >= 2, ] \n",
    "tcr_df_min2 <- tcr_df[tcr_df$Patient %in% rownames(mytab), ]\n",
    "\n",
    "mytab <- table(cftcr_df$Patient, cftcr_df$cycle)\n",
    "mytab <- mytab[rowSums(mytab == 1) >= 2, ]\n",
    "cftcr_df_min2 <- cftcr_df[cftcr_df$Patient %in% rownames(mytab), ]\n",
    "\n",
    "mytab <- table(flow_df$Patient, flow_df$cycle)\n",
    "mytab <- mytab[rowSums(mytab == 1) >= 2, ] \n",
    "flow_df_min2 <- flow_df[flow_df$Patient %in% rownames(mytab), ]\n",
    "\n",
    "mytab <- table(ncr_df$Patient, ncr_df$cycle)\n",
    "mytab <- mytab[rowSums(mytab == 1) >= 2, ] \n",
    "ncr_df_min2 <- ncr_df[ncr_df$Patient %in% rownames(mytab), ]"
   ]
  },
  {
   "cell_type": "code",
   "execution_count": 12,
   "metadata": {
    "vscode": {
     "languageId": "r"
    }
   },
   "outputs": [
    {
     "name": "stderr",
     "output_type": "stream",
     "text": [
      "Warning message:\n",
      "“\u001b[1m\u001b[22mThere were 3 warnings in `mutate()`.\n",
      "The first warning was:\n",
      "\u001b[1m\u001b[22m\u001b[36mℹ\u001b[39m In argument: `quantreg_Shannon = quantreg::rq(observed_Shannon ~ cyclenum,\n",
      "  tau = 0.5)$coef[2]/n()`.\n",
      "\u001b[36mℹ\u001b[39m In group 7: `Patient = \"CHP_343\"`.\n",
      "Caused by warning in `rq.fit.br()`:\n",
      "\u001b[33m!\u001b[39m Solution may be nonunique\n",
      "\u001b[1m\u001b[22m\u001b[36mℹ\u001b[39m Run `dplyr::last_dplyr_warnings()` to see the 2 remaining warnings.”\n"
     ]
    }
   ],
   "source": [
    "tcr_df_min2 <- tcr_df_min2 %>%\n",
    "    group_by(Patient) %>%\n",
    "    mutate(quantreg_Shannon = quantreg::rq(observed_Shannon ~ cyclenum, tau = 0.5)$coef[2] / n()) %>%\n",
    "    ungroup()\n"
   ]
  },
  {
   "cell_type": "code",
   "execution_count": 13,
   "metadata": {
    "vscode": {
     "languageId": "r"
    }
   },
   "outputs": [
    {
     "name": "stderr",
     "output_type": "stream",
     "text": [
      "Warning message:\n",
      "“\u001b[1m\u001b[22mThere were 9 warnings in `mutate()`.\n",
      "The first warning was:\n",
      "\u001b[1m\u001b[22m\u001b[36mℹ\u001b[39m In argument: `quantreg_cfShannon = quantreg::rq(observed_Shannon ~ cyclenum,\n",
      "  tau = 0.5)$coef[2]/n()`.\n",
      "\u001b[36mℹ\u001b[39m In group 13: `Patient = \"CHP_347\"`.\n",
      "Caused by warning in `rq.fit.br()`:\n",
      "\u001b[33m!\u001b[39m Solution may be nonunique\n",
      "\u001b[1m\u001b[22m\u001b[36mℹ\u001b[39m Run `dplyr::last_dplyr_warnings()` to see the 8 remaining warnings.”\n"
     ]
    }
   ],
   "source": [
    "cftcr_df_min2 <- cftcr_df_min2 %>%\n",
    "    group_by(Patient) %>%\n",
    "    mutate(quantreg_cfShannon = quantreg::rq(observed_Shannon ~ cyclenum, tau = 0.5)$coef[2] / n()) %>%\n",
    "    ungroup()\n"
   ]
  },
  {
   "cell_type": "code",
   "execution_count": 14,
   "metadata": {
    "vscode": {
     "languageId": "r"
    }
   },
   "outputs": [
    {
     "name": "stderr",
     "output_type": "stream",
     "text": [
      "Warning message:\n",
      "“\u001b[1m\u001b[22mThere were 4 warnings in `mutate()`.\n",
      "The first warning was:\n",
      "\u001b[1m\u001b[22m\u001b[36mℹ\u001b[39m In argument: `quantreg_TIM = quantreg::rq(`TIM3%` ~ cyclenum, tau =\n",
      "  0.5)$coef[2]/n()`.\n",
      "\u001b[36mℹ\u001b[39m In group 3: `Patient = \"CHP_343\"`.\n",
      "Caused by warning in `rq.fit.br()`:\n",
      "\u001b[33m!\u001b[39m Solution may be nonunique\n",
      "\u001b[1m\u001b[22m\u001b[36mℹ\u001b[39m Run `dplyr::last_dplyr_warnings()` to see the 3 remaining warnings.”\n",
      "Warning message:\n",
      "“\u001b[1m\u001b[22mThere were 6 warnings in `mutate()`.\n",
      "The first warning was:\n",
      "\u001b[1m\u001b[22m\u001b[36mℹ\u001b[39m In argument: `quantreg_LAG = quantreg::rq(`LAG3%` ~ cyclenum, tau =\n",
      "  0.5)$coef[2]/n()`.\n",
      "\u001b[36mℹ\u001b[39m In group 3: `Patient = \"CHP_343\"`.\n",
      "Caused by warning in `rq.fit.br()`:\n",
      "\u001b[33m!\u001b[39m Solution may be nonunique\n",
      "\u001b[1m\u001b[22m\u001b[36mℹ\u001b[39m Run `dplyr::last_dplyr_warnings()` to see the 5 remaining warnings.”\n",
      "Warning message:\n",
      "“\u001b[1m\u001b[22mThere were 4 warnings in `mutate()`.\n",
      "The first warning was:\n",
      "\u001b[1m\u001b[22m\u001b[36mℹ\u001b[39m In argument: `quantreg_PD1 = quantreg::rq(`PD1%` ~ cyclenum, tau =\n",
      "  0.5)$coef[2]/n()`.\n",
      "\u001b[36mℹ\u001b[39m In group 3: `Patient = \"CHP_343\"`.\n",
      "Caused by warning in `rq.fit.br()`:\n",
      "\u001b[33m!\u001b[39m Solution may be nonunique\n",
      "\u001b[1m\u001b[22m\u001b[36mℹ\u001b[39m Run `dplyr::last_dplyr_warnings()` to see the 3 remaining warnings.”\n"
     ]
    }
   ],
   "source": [
    "ncr_df_min2 <- ncr_df_min2 %>%\n",
    "    group_by(Patient) %>%\n",
    "    mutate(quantreg_TIM = quantreg::rq(`TIM3%` ~ cyclenum, tau = 0.5)$coef[2] / n()) %>%\n",
    "    mutate(quantreg_LAG = quantreg::rq(`LAG3%` ~ cyclenum, tau = 0.5)$coef[2] / n()) %>%\n",
    "    mutate(quantreg_PD1 = quantreg::rq(`PD1%` ~ cyclenum, tau = 0.5)$coef[2] / n()) %>%\n",
    "    ungroup()\n"
   ]
  },
  {
   "cell_type": "code",
   "execution_count": 15,
   "metadata": {
    "vscode": {
     "languageId": "r"
    }
   },
   "outputs": [
    {
     "name": "stderr",
     "output_type": "stream",
     "text": [
      "Warning message:\n",
      "“\u001b[1m\u001b[22mThere were 2 warnings in `mutate()`.\n",
      "The first warning was:\n",
      "\u001b[1m\u001b[22m\u001b[36mℹ\u001b[39m In argument: `quantreg_ATC = quantreg::rq(ATC ~ cyclenum, tau =\n",
      "  0.5)$coef[2]/n()`.\n",
      "\u001b[36mℹ\u001b[39m In group 2: `Patient = \"CHP_332\"`.\n",
      "Caused by warning in `rq.fit.br()`:\n",
      "\u001b[33m!\u001b[39m Solution may be nonunique\n",
      "\u001b[1m\u001b[22m\u001b[36mℹ\u001b[39m Run `dplyr::last_dplyr_warnings()` to see the 1 remaining warning.”\n",
      "Warning message:\n",
      "“\u001b[1m\u001b[22mThere were 5 warnings in `mutate()`.\n",
      "The first warning was:\n",
      "\u001b[1m\u001b[22m\u001b[36mℹ\u001b[39m In argument: `quantreg_N = quantreg::rq(`Naïve%` ~ cyclenum, tau =\n",
      "  0.5)$coef[2]/n()`.\n",
      "\u001b[36mℹ\u001b[39m In group 4: `Patient = \"CHP_347\"`.\n",
      "Caused by warning in `rq.fit.br()`:\n",
      "\u001b[33m!\u001b[39m Solution may be nonunique\n",
      "\u001b[1m\u001b[22m\u001b[36mℹ\u001b[39m Run `dplyr::last_dplyr_warnings()` to see the 4 remaining warnings.”\n",
      "Warning message:\n",
      "“\u001b[1m\u001b[22mThere were 7 warnings in `mutate()`.\n",
      "The first warning was:\n",
      "\u001b[1m\u001b[22m\u001b[36mℹ\u001b[39m In argument: `quantreg_CM = quantreg::rq(`CM%` ~ cyclenum, tau =\n",
      "  0.5)$coef[2]/n()`.\n",
      "\u001b[36mℹ\u001b[39m In group 2: `Patient = \"CHP_332\"`.\n",
      "Caused by warning in `rq.fit.br()`:\n",
      "\u001b[33m!\u001b[39m Solution may be nonunique\n",
      "\u001b[1m\u001b[22m\u001b[36mℹ\u001b[39m Run `dplyr::last_dplyr_warnings()` to see the 6 remaining warnings.”\n",
      "Warning message:\n",
      "“\u001b[1m\u001b[22mThere were 7 warnings in `mutate()`.\n",
      "The first warning was:\n",
      "\u001b[1m\u001b[22m\u001b[36mℹ\u001b[39m In argument: `quantreg_SCM = quantreg::rq(`SCM%` ~ cyclenum, tau =\n",
      "  0.5)$coef[2]/n()`.\n",
      "\u001b[36mℹ\u001b[39m In group 2: `Patient = \"CHP_332\"`.\n",
      "Caused by warning in `rq.fit.br()`:\n",
      "\u001b[33m!\u001b[39m Solution may be nonunique\n",
      "\u001b[1m\u001b[22m\u001b[36mℹ\u001b[39m Run `dplyr::last_dplyr_warnings()` to see the 6 remaining warnings.”\n",
      "Warning message:\n",
      "“\u001b[1m\u001b[22mThere were 5 warnings in `mutate()`.\n",
      "The first warning was:\n",
      "\u001b[1m\u001b[22m\u001b[36mℹ\u001b[39m In argument: `quantreg_EM = quantreg::rq(`EM%` ~ cyclenum, tau =\n",
      "  0.5)$coef[2]/n()`.\n",
      "\u001b[36mℹ\u001b[39m In group 2: `Patient = \"CHP_332\"`.\n",
      "Caused by warning in `rq.fit.br()`:\n",
      "\u001b[33m!\u001b[39m Solution may be nonunique\n",
      "\u001b[1m\u001b[22m\u001b[36mℹ\u001b[39m Run `dplyr::last_dplyr_warnings()` to see the 4 remaining warnings.”\n",
      "Warning message:\n",
      "“\u001b[1m\u001b[22mThere were 6 warnings in `mutate()`.\n",
      "The first warning was:\n",
      "\u001b[1m\u001b[22m\u001b[36mℹ\u001b[39m In argument: `quantreg_TE = quantreg::rq(`TE%` ~ cyclenum, tau =\n",
      "  0.5)$coef[2]/n()`.\n",
      "\u001b[36mℹ\u001b[39m In group 2: `Patient = \"CHP_332\"`.\n",
      "Caused by warning in `rq.fit.br()`:\n",
      "\u001b[33m!\u001b[39m Solution may be nonunique\n",
      "\u001b[1m\u001b[22m\u001b[36mℹ\u001b[39m Run `dplyr::last_dplyr_warnings()` to see the 5 remaining warnings.”\n"
     ]
    }
   ],
   "source": [
    "flow_df_min2 <- flow_df_min2 %>%\n",
    "    group_by(Patient) %>%\n",
    "    mutate(quantreg_ATC = quantreg::rq(`ATC` ~ cyclenum, tau = 0.5)$coef[2] / n()) %>%\n",
    "    mutate(quantreg_N = quantreg::rq(`Naïve%` ~ cyclenum, tau = 0.5)$coef[2] / n()) %>%\n",
    "    mutate(quantreg_CM = quantreg::rq(`CM%` ~ cyclenum, tau = 0.5)$coef[2] / n()) %>%\n",
    "    mutate(quantreg_SCM = quantreg::rq(`SCM%` ~ cyclenum, tau = 0.5)$coef[2] / n()) %>%\n",
    "    mutate(quantreg_EM = quantreg::rq(`EM%` ~ cyclenum, tau = 0.5)$coef[2] / n()) %>%\n",
    "    mutate(quantreg_TE = quantreg::rq(`TE%` ~ cyclenum, tau = 0.5)$coef[2] / n()) %>%\n",
    "    ungroup()\n"
   ]
  },
  {
   "cell_type": "code",
   "execution_count": 16,
   "metadata": {
    "vscode": {
     "languageId": "r"
    }
   },
   "outputs": [
    {
     "data": {
      "text/html": [
       "<table class=\"dataframe\">\n",
       "<caption>A tibble: 6 x 73</caption>\n",
       "<thead>\n",
       "\t<tr><th scope=col>sample_id</th><th scope=col>Patient</th><th scope=col>cycle</th><th scope=col>FOLD</th><th scope=col>ATC</th><th scope=col>Age</th><th scope=col>Disease_type</th><th scope=col>TE_fold</th><th scope=col>CD3</th><th scope=col>EM</th><th scope=col>...</th><th scope=col>sampletype</th><th scope=col>Group</th><th scope=col>log10shann</th><th scope=col>cyclenum</th><th scope=col>quantreg_ATC</th><th scope=col>quantreg_N</th><th scope=col>quantreg_CM</th><th scope=col>quantreg_SCM</th><th scope=col>quantreg_EM</th><th scope=col>quantreg_TE</th></tr>\n",
       "\t<tr><th scope=col>&lt;chr&gt;</th><th scope=col>&lt;chr&gt;</th><th scope=col>&lt;chr&gt;</th><th scope=col>&lt;dbl&gt;</th><th scope=col>&lt;dbl&gt;</th><th scope=col>&lt;dbl&gt;</th><th scope=col>&lt;chr&gt;</th><th scope=col>&lt;dbl&gt;</th><th scope=col>&lt;int&gt;</th><th scope=col>&lt;int&gt;</th><th scope=col>...</th><th scope=col>&lt;chr&gt;</th><th scope=col>&lt;chr&gt;</th><th scope=col>&lt;dbl&gt;</th><th scope=col>&lt;dbl&gt;</th><th scope=col>&lt;dbl&gt;</th><th scope=col>&lt;dbl&gt;</th><th scope=col>&lt;dbl&gt;</th><th scope=col>&lt;dbl&gt;</th><th scope=col>&lt;dbl&gt;</th><th scope=col>&lt;dbl&gt;</th></tr>\n",
       "</thead>\n",
       "<tbody>\n",
       "\t<tr><td>CHP_343_02</td><td>CHP_343</td><td>X02</td><td> 0.3</td><td> 459.04</td><td> 8</td><td>EWS</td><td> 0.3</td><td>1135</td><td> 16</td><td>...</td><td>PBMC</td><td>CHP</td><td>1.330860</td><td>2</td><td>-7.32000</td><td> 0.1026273</td><td> 2.8897801</td><td>-0.6594274</td><td> 0.4025038</td><td>-2.940411</td></tr>\n",
       "\t<tr><td>CHP_343_03</td><td>CHP_343</td><td>X03</td><td> 0.6</td><td> 370.30</td><td> 8</td><td>EWS</td><td> 0.6</td><td>1650</td><td> 16</td><td>...</td><td>PBMC</td><td>CHP</td><td>1.431235</td><td>3</td><td>-7.32000</td><td> 0.1026273</td><td> 2.8897801</td><td>-0.6594274</td><td> 0.4025038</td><td>-2.940411</td></tr>\n",
       "\t<tr><td>CHP_343_04</td><td>CHP_343</td><td>X04</td><td> 1.5</td><td> 536.63</td><td> 8</td><td>EWS</td><td> 1.5</td><td>2612</td><td>146</td><td>...</td><td>PBMC</td><td>CHP</td><td>1.450588</td><td>4</td><td>-7.32000</td><td> 0.1026273</td><td> 2.8897801</td><td>-0.6594274</td><td> 0.4025038</td><td>-2.940411</td></tr>\n",
       "\t<tr><td>CHP_343_05</td><td>CHP_343</td><td>X05</td><td> 2.1</td><td> 371.20</td><td> 8</td><td>EWS</td><td> 2.1</td><td>2436</td><td>152</td><td>...</td><td>PBMC</td><td>CHP</td><td>1.427713</td><td>5</td><td>-7.32000</td><td> 0.1026273</td><td> 2.8897801</td><td>-0.6594274</td><td> 0.4025038</td><td>-2.940411</td></tr>\n",
       "\t<tr><td>CHP_347_02</td><td>CHP_347</td><td>X02</td><td> 6.4</td><td>1038.59</td><td>13</td><td>ALL</td><td> 6.4</td><td> 927</td><td> 15</td><td>...</td><td>PBMC</td><td>CHP</td><td>2.447600</td><td>2</td><td>20.02333</td><td>-0.6003918</td><td>-0.6090838</td><td>-1.0940369</td><td>-0.1080237</td><td> 2.652185</td></tr>\n",
       "\t<tr><td>CHP_347_03</td><td>CHP_347</td><td>X03</td><td>37.6</td><td> 768.80</td><td>13</td><td>ALL</td><td>37.6</td><td>2379</td><td> 27</td><td>...</td><td>PBMC</td><td>CHP</td><td>1.841165</td><td>3</td><td>20.02333</td><td>-0.6003918</td><td>-0.6090838</td><td>-1.0940369</td><td>-0.1080237</td><td> 2.652185</td></tr>\n",
       "</tbody>\n",
       "</table>\n"
      ],
      "text/latex": [
       "A tibble: 6 x 73\n",
       "\\begin{tabular}{lllllllllllllllllllll}\n",
       " sample\\_id & Patient & cycle & FOLD & ATC & Age & Disease\\_type & TE\\_fold & CD3 & EM & ... & sampletype & Group & log10shann & cyclenum & quantreg\\_ATC & quantreg\\_N & quantreg\\_CM & quantreg\\_SCM & quantreg\\_EM & quantreg\\_TE\\\\\n",
       " <chr> & <chr> & <chr> & <dbl> & <dbl> & <dbl> & <chr> & <dbl> & <int> & <int> & ... & <chr> & <chr> & <dbl> & <dbl> & <dbl> & <dbl> & <dbl> & <dbl> & <dbl> & <dbl>\\\\\n",
       "\\hline\n",
       "\t CHP\\_343\\_02 & CHP\\_343 & X02 &  0.3 &  459.04 &  8 & EWS &  0.3 & 1135 &  16 & ... & PBMC & CHP & 1.330860 & 2 & -7.32000 &  0.1026273 &  2.8897801 & -0.6594274 &  0.4025038 & -2.940411\\\\\n",
       "\t CHP\\_343\\_03 & CHP\\_343 & X03 &  0.6 &  370.30 &  8 & EWS &  0.6 & 1650 &  16 & ... & PBMC & CHP & 1.431235 & 3 & -7.32000 &  0.1026273 &  2.8897801 & -0.6594274 &  0.4025038 & -2.940411\\\\\n",
       "\t CHP\\_343\\_04 & CHP\\_343 & X04 &  1.5 &  536.63 &  8 & EWS &  1.5 & 2612 & 146 & ... & PBMC & CHP & 1.450588 & 4 & -7.32000 &  0.1026273 &  2.8897801 & -0.6594274 &  0.4025038 & -2.940411\\\\\n",
       "\t CHP\\_343\\_05 & CHP\\_343 & X05 &  2.1 &  371.20 &  8 & EWS &  2.1 & 2436 & 152 & ... & PBMC & CHP & 1.427713 & 5 & -7.32000 &  0.1026273 &  2.8897801 & -0.6594274 &  0.4025038 & -2.940411\\\\\n",
       "\t CHP\\_347\\_02 & CHP\\_347 & X02 &  6.4 & 1038.59 & 13 & ALL &  6.4 &  927 &  15 & ... & PBMC & CHP & 2.447600 & 2 & 20.02333 & -0.6003918 & -0.6090838 & -1.0940369 & -0.1080237 &  2.652185\\\\\n",
       "\t CHP\\_347\\_03 & CHP\\_347 & X03 & 37.6 &  768.80 & 13 & ALL & 37.6 & 2379 &  27 & ... & PBMC & CHP & 1.841165 & 3 & 20.02333 & -0.6003918 & -0.6090838 & -1.0940369 & -0.1080237 &  2.652185\\\\\n",
       "\\end{tabular}\n"
      ],
      "text/markdown": [
       "\n",
       "A tibble: 6 x 73\n",
       "\n",
       "| sample_id &lt;chr&gt; | Patient &lt;chr&gt; | cycle &lt;chr&gt; | FOLD &lt;dbl&gt; | ATC &lt;dbl&gt; | Age &lt;dbl&gt; | Disease_type &lt;chr&gt; | TE_fold &lt;dbl&gt; | CD3 &lt;int&gt; | EM &lt;int&gt; | ... ... | sampletype &lt;chr&gt; | Group &lt;chr&gt; | log10shann &lt;dbl&gt; | cyclenum &lt;dbl&gt; | quantreg_ATC &lt;dbl&gt; | quantreg_N &lt;dbl&gt; | quantreg_CM &lt;dbl&gt; | quantreg_SCM &lt;dbl&gt; | quantreg_EM &lt;dbl&gt; | quantreg_TE &lt;dbl&gt; |\n",
       "|---|---|---|---|---|---|---|---|---|---|---|---|---|---|---|---|---|---|---|---|---|\n",
       "| CHP_343_02 | CHP_343 | X02 |  0.3 |  459.04 |  8 | EWS |  0.3 | 1135 |  16 | ... | PBMC | CHP | 1.330860 | 2 | -7.32000 |  0.1026273 |  2.8897801 | -0.6594274 |  0.4025038 | -2.940411 |\n",
       "| CHP_343_03 | CHP_343 | X03 |  0.6 |  370.30 |  8 | EWS |  0.6 | 1650 |  16 | ... | PBMC | CHP | 1.431235 | 3 | -7.32000 |  0.1026273 |  2.8897801 | -0.6594274 |  0.4025038 | -2.940411 |\n",
       "| CHP_343_04 | CHP_343 | X04 |  1.5 |  536.63 |  8 | EWS |  1.5 | 2612 | 146 | ... | PBMC | CHP | 1.450588 | 4 | -7.32000 |  0.1026273 |  2.8897801 | -0.6594274 |  0.4025038 | -2.940411 |\n",
       "| CHP_343_05 | CHP_343 | X05 |  2.1 |  371.20 |  8 | EWS |  2.1 | 2436 | 152 | ... | PBMC | CHP | 1.427713 | 5 | -7.32000 |  0.1026273 |  2.8897801 | -0.6594274 |  0.4025038 | -2.940411 |\n",
       "| CHP_347_02 | CHP_347 | X02 |  6.4 | 1038.59 | 13 | ALL |  6.4 |  927 |  15 | ... | PBMC | CHP | 2.447600 | 2 | 20.02333 | -0.6003918 | -0.6090838 | -1.0940369 | -0.1080237 |  2.652185 |\n",
       "| CHP_347_03 | CHP_347 | X03 | 37.6 |  768.80 | 13 | ALL | 37.6 | 2379 |  27 | ... | PBMC | CHP | 1.841165 | 3 | 20.02333 | -0.6003918 | -0.6090838 | -1.0940369 | -0.1080237 |  2.652185 |\n",
       "\n"
      ],
      "text/plain": [
       "  sample_id  Patient cycle FOLD ATC     Age Disease_type TE_fold CD3  EM  ...\n",
       "1 CHP_343_02 CHP_343 X02    0.3  459.04  8  EWS           0.3    1135  16 ...\n",
       "2 CHP_343_03 CHP_343 X03    0.6  370.30  8  EWS           0.6    1650  16 ...\n",
       "3 CHP_343_04 CHP_343 X04    1.5  536.63  8  EWS           1.5    2612 146 ...\n",
       "4 CHP_343_05 CHP_343 X05    2.1  371.20  8  EWS           2.1    2436 152 ...\n",
       "5 CHP_347_02 CHP_347 X02    6.4 1038.59 13  ALL           6.4     927  15 ...\n",
       "6 CHP_347_03 CHP_347 X03   37.6  768.80 13  ALL          37.6    2379  27 ...\n",
       "  sampletype Group log10shann cyclenum quantreg_ATC quantreg_N quantreg_CM\n",
       "1 PBMC       CHP   1.330860   2        -7.32000      0.1026273  2.8897801 \n",
       "2 PBMC       CHP   1.431235   3        -7.32000      0.1026273  2.8897801 \n",
       "3 PBMC       CHP   1.450588   4        -7.32000      0.1026273  2.8897801 \n",
       "4 PBMC       CHP   1.427713   5        -7.32000      0.1026273  2.8897801 \n",
       "5 PBMC       CHP   2.447600   2        20.02333     -0.6003918 -0.6090838 \n",
       "6 PBMC       CHP   1.841165   3        20.02333     -0.6003918 -0.6090838 \n",
       "  quantreg_SCM quantreg_EM quantreg_TE\n",
       "1 -0.6594274    0.4025038  -2.940411  \n",
       "2 -0.6594274    0.4025038  -2.940411  \n",
       "3 -0.6594274    0.4025038  -2.940411  \n",
       "4 -0.6594274    0.4025038  -2.940411  \n",
       "5 -1.0940369   -0.1080237   2.652185  \n",
       "6 -1.0940369   -0.1080237   2.652185  "
      ]
     },
     "metadata": {},
     "output_type": "display_data"
    }
   ],
   "source": [
    "head(flow_df_min2)"
   ]
  },
  {
   "cell_type": "code",
   "execution_count": 17,
   "metadata": {
    "vscode": {
     "languageId": "r"
    }
   },
   "outputs": [],
   "source": [
    "flow_df_min2_pt <- flow_df_min2[ !duplicated(flow_df_min2$Patient), ]\n",
    "ncr_df_min2_pt <- ncr_df_min2[ !duplicated(ncr_df_min2$Patient), ]\n",
    "tcr_df_min2_pt <- tcr_df_min2[ !duplicated(tcr_df_min2$Patient), ]\n",
    "cftcr_df_min2_pt <- cftcr_df_min2[ !duplicated(cftcr_df_min2$Patient), ]"
   ]
  },
  {
   "cell_type": "code",
   "execution_count": 18,
   "metadata": {
    "vscode": {
     "languageId": "r"
    }
   },
   "outputs": [
    {
     "data": {
      "text/html": [
       "<style>\n",
       ".list-inline {list-style: none; margin:0; padding: 0}\n",
       ".list-inline>li {display: inline-block}\n",
       ".list-inline>li:not(:last-child)::after {content: \"\\00b7\"; padding: 0 .5ex}\n",
       "</style>\n",
       "<ol class=list-inline><li>'sample_id'</li><li>'Patient'</li><li>'cycle'</li><li>'FOLD'</li><li>'ATC'</li><li>'Age'</li><li>'Disease_type'</li><li>'TE_fold'</li><li>'CD3'</li><li>'EM'</li><li>'CM'</li><li>'Naïve'</li><li>'SCM'</li><li>'TE'</li><li>'EM%'</li><li>'CM%'</li><li>'Naïve%'</li><li>'SCM%'</li><li>'TE%'</li><li>'Naïve/TE'</li><li>'N+CM+SCM/TE+EM'</li><li>'PD-1'</li><li>'PDL1'</li><li>'LAG3'</li><li>'TIM3'</li><li>'CTLA4'</li><li>'PD1%'</li><li>'PDL1%'</li><li>'LAG3%'</li><li>'TIM3%'</li><li>'CTLA4%'</li><li>'Any NCR'</li><li>'PD1 + LAG3 + TIM3'</li><li>'cancergroup'</li><li>'agegroup'</li><li>'foldgroup'</li><li>'Remission'</li><li>'Relapse'</li><li>'Transplant'</li><li>'CART'</li><li>'vital_status'</li><li>'LOF'</li><li>'TRB'</li><li>'Reads'</li><li>'CPKR'</li><li>'Average_reads'</li><li>'VMR'</li><li>'Max_reads'</li><li>'Singletons'</li><li>'Doubletons'</li><li>'qD'</li><li>'Sample_Coverage'</li><li>'observed_Richness'</li><li>'estimated_Richness'</li><li>'SE_Richeness'</li><li>'observed_Shannon'</li><li>'estimated_Shannon'</li><li>'SE_Shannon'</li><li>'observed_Simpson'</li><li>'estimated_Simpson'</li><li>'SE_Simpson'</li><li>'basename'</li><li>'file'</li><li>'sampletype'</li><li>'Group'</li><li>'log10shann'</li><li>'cyclenum'</li><li>'quantreg_cfShannon'</li></ol>\n"
      ],
      "text/latex": [
       "\\begin{enumerate*}\n",
       "\\item 'sample\\_id'\n",
       "\\item 'Patient'\n",
       "\\item 'cycle'\n",
       "\\item 'FOLD'\n",
       "\\item 'ATC'\n",
       "\\item 'Age'\n",
       "\\item 'Disease\\_type'\n",
       "\\item 'TE\\_fold'\n",
       "\\item 'CD3'\n",
       "\\item 'EM'\n",
       "\\item 'CM'\n",
       "\\item 'Naïve'\n",
       "\\item 'SCM'\n",
       "\\item 'TE'\n",
       "\\item 'EM\\%'\n",
       "\\item 'CM\\%'\n",
       "\\item 'Naïve\\%'\n",
       "\\item 'SCM\\%'\n",
       "\\item 'TE\\%'\n",
       "\\item 'Naïve/TE'\n",
       "\\item 'N+CM+SCM/TE+EM'\n",
       "\\item 'PD-1'\n",
       "\\item 'PDL1'\n",
       "\\item 'LAG3'\n",
       "\\item 'TIM3'\n",
       "\\item 'CTLA4'\n",
       "\\item 'PD1\\%'\n",
       "\\item 'PDL1\\%'\n",
       "\\item 'LAG3\\%'\n",
       "\\item 'TIM3\\%'\n",
       "\\item 'CTLA4\\%'\n",
       "\\item 'Any NCR'\n",
       "\\item 'PD1 + LAG3 + TIM3'\n",
       "\\item 'cancergroup'\n",
       "\\item 'agegroup'\n",
       "\\item 'foldgroup'\n",
       "\\item 'Remission'\n",
       "\\item 'Relapse'\n",
       "\\item 'Transplant'\n",
       "\\item 'CART'\n",
       "\\item 'vital\\_status'\n",
       "\\item 'LOF'\n",
       "\\item 'TRB'\n",
       "\\item 'Reads'\n",
       "\\item 'CPKR'\n",
       "\\item 'Average\\_reads'\n",
       "\\item 'VMR'\n",
       "\\item 'Max\\_reads'\n",
       "\\item 'Singletons'\n",
       "\\item 'Doubletons'\n",
       "\\item 'qD'\n",
       "\\item 'Sample\\_Coverage'\n",
       "\\item 'observed\\_Richness'\n",
       "\\item 'estimated\\_Richness'\n",
       "\\item 'SE\\_Richeness'\n",
       "\\item 'observed\\_Shannon'\n",
       "\\item 'estimated\\_Shannon'\n",
       "\\item 'SE\\_Shannon'\n",
       "\\item 'observed\\_Simpson'\n",
       "\\item 'estimated\\_Simpson'\n",
       "\\item 'SE\\_Simpson'\n",
       "\\item 'basename'\n",
       "\\item 'file'\n",
       "\\item 'sampletype'\n",
       "\\item 'Group'\n",
       "\\item 'log10shann'\n",
       "\\item 'cyclenum'\n",
       "\\item 'quantreg\\_cfShannon'\n",
       "\\end{enumerate*}\n"
      ],
      "text/markdown": [
       "1. 'sample_id'\n",
       "2. 'Patient'\n",
       "3. 'cycle'\n",
       "4. 'FOLD'\n",
       "5. 'ATC'\n",
       "6. 'Age'\n",
       "7. 'Disease_type'\n",
       "8. 'TE_fold'\n",
       "9. 'CD3'\n",
       "10. 'EM'\n",
       "11. 'CM'\n",
       "12. 'Naïve'\n",
       "13. 'SCM'\n",
       "14. 'TE'\n",
       "15. 'EM%'\n",
       "16. 'CM%'\n",
       "17. 'Naïve%'\n",
       "18. 'SCM%'\n",
       "19. 'TE%'\n",
       "20. 'Naïve/TE'\n",
       "21. 'N+CM+SCM/TE+EM'\n",
       "22. 'PD-1'\n",
       "23. 'PDL1'\n",
       "24. 'LAG3'\n",
       "25. 'TIM3'\n",
       "26. 'CTLA4'\n",
       "27. 'PD1%'\n",
       "28. 'PDL1%'\n",
       "29. 'LAG3%'\n",
       "30. 'TIM3%'\n",
       "31. 'CTLA4%'\n",
       "32. 'Any NCR'\n",
       "33. 'PD1 + LAG3 + TIM3'\n",
       "34. 'cancergroup'\n",
       "35. 'agegroup'\n",
       "36. 'foldgroup'\n",
       "37. 'Remission'\n",
       "38. 'Relapse'\n",
       "39. 'Transplant'\n",
       "40. 'CART'\n",
       "41. 'vital_status'\n",
       "42. 'LOF'\n",
       "43. 'TRB'\n",
       "44. 'Reads'\n",
       "45. 'CPKR'\n",
       "46. 'Average_reads'\n",
       "47. 'VMR'\n",
       "48. 'Max_reads'\n",
       "49. 'Singletons'\n",
       "50. 'Doubletons'\n",
       "51. 'qD'\n",
       "52. 'Sample_Coverage'\n",
       "53. 'observed_Richness'\n",
       "54. 'estimated_Richness'\n",
       "55. 'SE_Richeness'\n",
       "56. 'observed_Shannon'\n",
       "57. 'estimated_Shannon'\n",
       "58. 'SE_Shannon'\n",
       "59. 'observed_Simpson'\n",
       "60. 'estimated_Simpson'\n",
       "61. 'SE_Simpson'\n",
       "62. 'basename'\n",
       "63. 'file'\n",
       "64. 'sampletype'\n",
       "65. 'Group'\n",
       "66. 'log10shann'\n",
       "67. 'cyclenum'\n",
       "68. 'quantreg_cfShannon'\n",
       "\n",
       "\n"
      ],
      "text/plain": [
       " [1] \"sample_id\"          \"Patient\"            \"cycle\"             \n",
       " [4] \"FOLD\"               \"ATC\"                \"Age\"               \n",
       " [7] \"Disease_type\"       \"TE_fold\"            \"CD3\"               \n",
       "[10] \"EM\"                 \"CM\"                 \"Naïve\"             \n",
       "[13] \"SCM\"                \"TE\"                 \"EM%\"               \n",
       "[16] \"CM%\"                \"Naïve%\"             \"SCM%\"              \n",
       "[19] \"TE%\"                \"Naïve/TE\"           \"N+CM+SCM/TE+EM\"    \n",
       "[22] \"PD-1\"               \"PDL1\"               \"LAG3\"              \n",
       "[25] \"TIM3\"               \"CTLA4\"              \"PD1%\"              \n",
       "[28] \"PDL1%\"              \"LAG3%\"              \"TIM3%\"             \n",
       "[31] \"CTLA4%\"             \"Any NCR\"            \"PD1 + LAG3 + TIM3\" \n",
       "[34] \"cancergroup\"        \"agegroup\"           \"foldgroup\"         \n",
       "[37] \"Remission\"          \"Relapse\"            \"Transplant\"        \n",
       "[40] \"CART\"               \"vital_status\"       \"LOF\"               \n",
       "[43] \"TRB\"                \"Reads\"              \"CPKR\"              \n",
       "[46] \"Average_reads\"      \"VMR\"                \"Max_reads\"         \n",
       "[49] \"Singletons\"         \"Doubletons\"         \"qD\"                \n",
       "[52] \"Sample_Coverage\"    \"observed_Richness\"  \"estimated_Richness\"\n",
       "[55] \"SE_Richeness\"       \"observed_Shannon\"   \"estimated_Shannon\" \n",
       "[58] \"SE_Shannon\"         \"observed_Simpson\"   \"estimated_Simpson\" \n",
       "[61] \"SE_Simpson\"         \"basename\"           \"file\"              \n",
       "[64] \"sampletype\"         \"Group\"              \"log10shann\"        \n",
       "[67] \"cyclenum\"           \"quantreg_cfShannon\""
      ]
     },
     "metadata": {},
     "output_type": "display_data"
    }
   ],
   "source": [
    "colnames(cftcr_df_min2_pt)"
   ]
  },
  {
   "cell_type": "code",
   "execution_count": 19,
   "metadata": {
    "vscode": {
     "languageId": "r"
    }
   },
   "outputs": [],
   "source": [
    "# merge all the dataframes, allow NAs to include all data\n",
    "df_min2_pt <- merge(flow_df_min2_pt, ncr_df_min2_pt[, c(\"Patient\", \"quantreg_TIM\", \"quantreg_LAG\", \"quantreg_PD1\")], by = \"Patient\", all = TRUE)\n",
    "df_min2_pt <- merge(df_min2_pt, tcr_df_min2_pt[, c(\"Patient\", \"quantreg_Shannon\")], by = \"Patient\", , all = TRUE)\n",
    "df_min2_pt <- merge(df_min2_pt, cftcr_df_min2_pt[, c(\"Patient\", \"quantreg_cfShannon\")], by = \"Patient\", all = TRUE)\n"
   ]
  },
  {
   "cell_type": "code",
   "execution_count": 20,
   "metadata": {
    "vscode": {
     "languageId": "r"
    }
   },
   "outputs": [
    {
     "data": {
      "text/html": [
       "<style>\n",
       ".list-inline {list-style: none; margin:0; padding: 0}\n",
       ".list-inline>li {display: inline-block}\n",
       ".list-inline>li:not(:last-child)::after {content: \"\\00b7\"; padding: 0 .5ex}\n",
       "</style>\n",
       "<ol class=list-inline><li>'Patient'</li><li>'sample_id'</li><li>'cycle'</li><li>'FOLD'</li><li>'ATC'</li><li>'Age'</li><li>'Disease_type'</li><li>'TE_fold'</li><li>'CD3'</li><li>'EM'</li><li>'CM'</li><li>'Naïve'</li><li>'SCM'</li><li>'TE'</li><li>'EM%'</li><li>'CM%'</li><li>'Naïve%'</li><li>'SCM%'</li><li>'TE%'</li><li>'Naïve/TE'</li><li>'N+CM+SCM/TE+EM'</li><li>'PD-1'</li><li>'PDL1'</li><li>'LAG3'</li><li>'TIM3'</li><li>'CTLA4'</li><li>'PD1%'</li><li>'PDL1%'</li><li>'LAG3%'</li><li>'TIM3%'</li><li>'CTLA4%'</li><li>'Any NCR'</li><li>'PD1 + LAG3 + TIM3'</li><li>'cancergroup'</li><li>'agegroup'</li><li>'foldgroup'</li><li>'Remission'</li><li>'Relapse'</li><li>'Transplant'</li><li>'CART'</li><li>'vital_status'</li><li>'LOF'</li><li>'TRB'</li><li>'Reads'</li><li>'CPKR'</li><li>'Average_reads'</li><li>'VMR'</li><li>'Max_reads'</li><li>'Singletons'</li><li>'Doubletons'</li><li>'qD'</li><li>'Sample_Coverage'</li><li>'observed_Richness'</li><li>'estimated_Richness'</li><li>'SE_Richeness'</li><li>'observed_Shannon'</li><li>'estimated_Shannon'</li><li>'SE_Shannon'</li><li>'observed_Simpson'</li><li>'estimated_Simpson'</li><li>'SE_Simpson'</li><li>'basename'</li><li>'file'</li><li>'sampletype'</li><li>'Group'</li><li>'log10shann'</li><li>'cyclenum'</li><li>'quantreg_ATC'</li><li>'quantreg_N'</li><li>'quantreg_CM'</li><li>'quantreg_SCM'</li><li>'quantreg_EM'</li><li>'quantreg_TE'</li><li>'quantreg_TIM'</li><li>'quantreg_LAG'</li><li>'quantreg_PD1'</li><li>'quantreg_Shannon'</li><li>'quantreg_cfShannon'</li></ol>\n"
      ],
      "text/latex": [
       "\\begin{enumerate*}\n",
       "\\item 'Patient'\n",
       "\\item 'sample\\_id'\n",
       "\\item 'cycle'\n",
       "\\item 'FOLD'\n",
       "\\item 'ATC'\n",
       "\\item 'Age'\n",
       "\\item 'Disease\\_type'\n",
       "\\item 'TE\\_fold'\n",
       "\\item 'CD3'\n",
       "\\item 'EM'\n",
       "\\item 'CM'\n",
       "\\item 'Naïve'\n",
       "\\item 'SCM'\n",
       "\\item 'TE'\n",
       "\\item 'EM\\%'\n",
       "\\item 'CM\\%'\n",
       "\\item 'Naïve\\%'\n",
       "\\item 'SCM\\%'\n",
       "\\item 'TE\\%'\n",
       "\\item 'Naïve/TE'\n",
       "\\item 'N+CM+SCM/TE+EM'\n",
       "\\item 'PD-1'\n",
       "\\item 'PDL1'\n",
       "\\item 'LAG3'\n",
       "\\item 'TIM3'\n",
       "\\item 'CTLA4'\n",
       "\\item 'PD1\\%'\n",
       "\\item 'PDL1\\%'\n",
       "\\item 'LAG3\\%'\n",
       "\\item 'TIM3\\%'\n",
       "\\item 'CTLA4\\%'\n",
       "\\item 'Any NCR'\n",
       "\\item 'PD1 + LAG3 + TIM3'\n",
       "\\item 'cancergroup'\n",
       "\\item 'agegroup'\n",
       "\\item 'foldgroup'\n",
       "\\item 'Remission'\n",
       "\\item 'Relapse'\n",
       "\\item 'Transplant'\n",
       "\\item 'CART'\n",
       "\\item 'vital\\_status'\n",
       "\\item 'LOF'\n",
       "\\item 'TRB'\n",
       "\\item 'Reads'\n",
       "\\item 'CPKR'\n",
       "\\item 'Average\\_reads'\n",
       "\\item 'VMR'\n",
       "\\item 'Max\\_reads'\n",
       "\\item 'Singletons'\n",
       "\\item 'Doubletons'\n",
       "\\item 'qD'\n",
       "\\item 'Sample\\_Coverage'\n",
       "\\item 'observed\\_Richness'\n",
       "\\item 'estimated\\_Richness'\n",
       "\\item 'SE\\_Richeness'\n",
       "\\item 'observed\\_Shannon'\n",
       "\\item 'estimated\\_Shannon'\n",
       "\\item 'SE\\_Shannon'\n",
       "\\item 'observed\\_Simpson'\n",
       "\\item 'estimated\\_Simpson'\n",
       "\\item 'SE\\_Simpson'\n",
       "\\item 'basename'\n",
       "\\item 'file'\n",
       "\\item 'sampletype'\n",
       "\\item 'Group'\n",
       "\\item 'log10shann'\n",
       "\\item 'cyclenum'\n",
       "\\item 'quantreg\\_ATC'\n",
       "\\item 'quantreg\\_N'\n",
       "\\item 'quantreg\\_CM'\n",
       "\\item 'quantreg\\_SCM'\n",
       "\\item 'quantreg\\_EM'\n",
       "\\item 'quantreg\\_TE'\n",
       "\\item 'quantreg\\_TIM'\n",
       "\\item 'quantreg\\_LAG'\n",
       "\\item 'quantreg\\_PD1'\n",
       "\\item 'quantreg\\_Shannon'\n",
       "\\item 'quantreg\\_cfShannon'\n",
       "\\end{enumerate*}\n"
      ],
      "text/markdown": [
       "1. 'Patient'\n",
       "2. 'sample_id'\n",
       "3. 'cycle'\n",
       "4. 'FOLD'\n",
       "5. 'ATC'\n",
       "6. 'Age'\n",
       "7. 'Disease_type'\n",
       "8. 'TE_fold'\n",
       "9. 'CD3'\n",
       "10. 'EM'\n",
       "11. 'CM'\n",
       "12. 'Naïve'\n",
       "13. 'SCM'\n",
       "14. 'TE'\n",
       "15. 'EM%'\n",
       "16. 'CM%'\n",
       "17. 'Naïve%'\n",
       "18. 'SCM%'\n",
       "19. 'TE%'\n",
       "20. 'Naïve/TE'\n",
       "21. 'N+CM+SCM/TE+EM'\n",
       "22. 'PD-1'\n",
       "23. 'PDL1'\n",
       "24. 'LAG3'\n",
       "25. 'TIM3'\n",
       "26. 'CTLA4'\n",
       "27. 'PD1%'\n",
       "28. 'PDL1%'\n",
       "29. 'LAG3%'\n",
       "30. 'TIM3%'\n",
       "31. 'CTLA4%'\n",
       "32. 'Any NCR'\n",
       "33. 'PD1 + LAG3 + TIM3'\n",
       "34. 'cancergroup'\n",
       "35. 'agegroup'\n",
       "36. 'foldgroup'\n",
       "37. 'Remission'\n",
       "38. 'Relapse'\n",
       "39. 'Transplant'\n",
       "40. 'CART'\n",
       "41. 'vital_status'\n",
       "42. 'LOF'\n",
       "43. 'TRB'\n",
       "44. 'Reads'\n",
       "45. 'CPKR'\n",
       "46. 'Average_reads'\n",
       "47. 'VMR'\n",
       "48. 'Max_reads'\n",
       "49. 'Singletons'\n",
       "50. 'Doubletons'\n",
       "51. 'qD'\n",
       "52. 'Sample_Coverage'\n",
       "53. 'observed_Richness'\n",
       "54. 'estimated_Richness'\n",
       "55. 'SE_Richeness'\n",
       "56. 'observed_Shannon'\n",
       "57. 'estimated_Shannon'\n",
       "58. 'SE_Shannon'\n",
       "59. 'observed_Simpson'\n",
       "60. 'estimated_Simpson'\n",
       "61. 'SE_Simpson'\n",
       "62. 'basename'\n",
       "63. 'file'\n",
       "64. 'sampletype'\n",
       "65. 'Group'\n",
       "66. 'log10shann'\n",
       "67. 'cyclenum'\n",
       "68. 'quantreg_ATC'\n",
       "69. 'quantreg_N'\n",
       "70. 'quantreg_CM'\n",
       "71. 'quantreg_SCM'\n",
       "72. 'quantreg_EM'\n",
       "73. 'quantreg_TE'\n",
       "74. 'quantreg_TIM'\n",
       "75. 'quantreg_LAG'\n",
       "76. 'quantreg_PD1'\n",
       "77. 'quantreg_Shannon'\n",
       "78. 'quantreg_cfShannon'\n",
       "\n",
       "\n"
      ],
      "text/plain": [
       " [1] \"Patient\"            \"sample_id\"          \"cycle\"             \n",
       " [4] \"FOLD\"               \"ATC\"                \"Age\"               \n",
       " [7] \"Disease_type\"       \"TE_fold\"            \"CD3\"               \n",
       "[10] \"EM\"                 \"CM\"                 \"Naïve\"             \n",
       "[13] \"SCM\"                \"TE\"                 \"EM%\"               \n",
       "[16] \"CM%\"                \"Naïve%\"             \"SCM%\"              \n",
       "[19] \"TE%\"                \"Naïve/TE\"           \"N+CM+SCM/TE+EM\"    \n",
       "[22] \"PD-1\"               \"PDL1\"               \"LAG3\"              \n",
       "[25] \"TIM3\"               \"CTLA4\"              \"PD1%\"              \n",
       "[28] \"PDL1%\"              \"LAG3%\"              \"TIM3%\"             \n",
       "[31] \"CTLA4%\"             \"Any NCR\"            \"PD1 + LAG3 + TIM3\" \n",
       "[34] \"cancergroup\"        \"agegroup\"           \"foldgroup\"         \n",
       "[37] \"Remission\"          \"Relapse\"            \"Transplant\"        \n",
       "[40] \"CART\"               \"vital_status\"       \"LOF\"               \n",
       "[43] \"TRB\"                \"Reads\"              \"CPKR\"              \n",
       "[46] \"Average_reads\"      \"VMR\"                \"Max_reads\"         \n",
       "[49] \"Singletons\"         \"Doubletons\"         \"qD\"                \n",
       "[52] \"Sample_Coverage\"    \"observed_Richness\"  \"estimated_Richness\"\n",
       "[55] \"SE_Richeness\"       \"observed_Shannon\"   \"estimated_Shannon\" \n",
       "[58] \"SE_Shannon\"         \"observed_Simpson\"   \"estimated_Simpson\" \n",
       "[61] \"SE_Simpson\"         \"basename\"           \"file\"              \n",
       "[64] \"sampletype\"         \"Group\"              \"log10shann\"        \n",
       "[67] \"cyclenum\"           \"quantreg_ATC\"       \"quantreg_N\"        \n",
       "[70] \"quantreg_CM\"        \"quantreg_SCM\"       \"quantreg_EM\"       \n",
       "[73] \"quantreg_TE\"        \"quantreg_TIM\"       \"quantreg_LAG\"      \n",
       "[76] \"quantreg_PD1\"       \"quantreg_Shannon\"   \"quantreg_cfShannon\""
      ]
     },
     "metadata": {},
     "output_type": "display_data"
    }
   ],
   "source": [
    "colnames(df_min2_pt)"
   ]
  },
  {
   "cell_type": "code",
   "execution_count": 21,
   "metadata": {
    "vscode": {
     "languageId": "r"
    }
   },
   "outputs": [],
   "source": [
    "mycol <- colnames(df_min2_pt)[grepl(\"quantreg\", colnames(df_min2_pt))]"
   ]
  },
  {
   "cell_type": "code",
   "execution_count": 22,
   "metadata": {
    "vscode": {
     "languageId": "r"
    }
   },
   "outputs": [
    {
     "data": {
      "text/html": [
       "<style>\n",
       ".list-inline {list-style: none; margin:0; padding: 0}\n",
       ".list-inline>li {display: inline-block}\n",
       ".list-inline>li:not(:last-child)::after {content: \"\\00b7\"; padding: 0 .5ex}\n",
       "</style>\n",
       "<ol class=list-inline><li>'quantreg_ATC'</li><li>'quantreg_N'</li><li>'quantreg_CM'</li><li>'quantreg_SCM'</li><li>'quantreg_EM'</li><li>'quantreg_TE'</li><li>'quantreg_TIM'</li><li>'quantreg_LAG'</li><li>'quantreg_PD1'</li><li>'quantreg_Shannon'</li><li>'quantreg_cfShannon'</li></ol>\n"
      ],
      "text/latex": [
       "\\begin{enumerate*}\n",
       "\\item 'quantreg\\_ATC'\n",
       "\\item 'quantreg\\_N'\n",
       "\\item 'quantreg\\_CM'\n",
       "\\item 'quantreg\\_SCM'\n",
       "\\item 'quantreg\\_EM'\n",
       "\\item 'quantreg\\_TE'\n",
       "\\item 'quantreg\\_TIM'\n",
       "\\item 'quantreg\\_LAG'\n",
       "\\item 'quantreg\\_PD1'\n",
       "\\item 'quantreg\\_Shannon'\n",
       "\\item 'quantreg\\_cfShannon'\n",
       "\\end{enumerate*}\n"
      ],
      "text/markdown": [
       "1. 'quantreg_ATC'\n",
       "2. 'quantreg_N'\n",
       "3. 'quantreg_CM'\n",
       "4. 'quantreg_SCM'\n",
       "5. 'quantreg_EM'\n",
       "6. 'quantreg_TE'\n",
       "7. 'quantreg_TIM'\n",
       "8. 'quantreg_LAG'\n",
       "9. 'quantreg_PD1'\n",
       "10. 'quantreg_Shannon'\n",
       "11. 'quantreg_cfShannon'\n",
       "\n",
       "\n"
      ],
      "text/plain": [
       " [1] \"quantreg_ATC\"       \"quantreg_N\"         \"quantreg_CM\"       \n",
       " [4] \"quantreg_SCM\"       \"quantreg_EM\"        \"quantreg_TE\"       \n",
       " [7] \"quantreg_TIM\"       \"quantreg_LAG\"       \"quantreg_PD1\"      \n",
       "[10] \"quantreg_Shannon\"   \"quantreg_cfShannon\""
      ]
     },
     "metadata": {},
     "output_type": "display_data"
    }
   ],
   "source": [
    "mycol"
   ]
  },
  {
   "cell_type": "code",
   "execution_count": 23,
   "metadata": {
    "vscode": {
     "languageId": "r"
    }
   },
   "outputs": [],
   "source": [
    "# scale\n",
    "for(i in mycol){\n",
    "    newvar <- paste0(i, \"_scaled\")\n",
    "df_min2_pt[[newvar]] <- as.vector(scale(df_min2_pt[[i]]))\n",
    "}"
   ]
  },
  {
   "cell_type": "code",
   "execution_count": 24,
   "metadata": {
    "vscode": {
     "languageId": "r"
    }
   },
   "outputs": [],
   "source": [
    "# # rank\n",
    "# for(i in mycol){\n",
    "#     newvar <- paste0(i, \"_rank\")\n",
    "# df_min2_pt[[newvar]] <- rank(df_min2_pt[[i]])\n",
    "# }"
   ]
  },
  {
   "cell_type": "code",
   "execution_count": 25,
   "metadata": {
    "vscode": {
     "languageId": "r"
    }
   },
   "outputs": [
    {
     "data": {
      "text/html": [
       "-4.77667724948883"
      ],
      "text/latex": [
       "-4.77667724948883"
      ],
      "text/markdown": [
       "-4.77667724948883"
      ],
      "text/plain": [
       "[1] -4.776677"
      ]
     },
     "metadata": {},
     "output_type": "display_data"
    }
   ],
   "source": [
    "min(df_min2_pt$quantreg_LAG, na.rm = TRUE)"
   ]
  },
  {
   "cell_type": "code",
   "execution_count": 26,
   "metadata": {
    "vscode": {
     "languageId": "r"
    }
   },
   "outputs": [],
   "source": [
    "mycol <- colnames(df_min2_pt)[grepl(\"scaled\", colnames(df_min2_pt))]"
   ]
  },
  {
   "cell_type": "code",
   "execution_count": 27,
   "metadata": {
    "vscode": {
     "languageId": "r"
    }
   },
   "outputs": [
    {
     "data": {
      "text/html": [
       "<style>\n",
       ".list-inline {list-style: none; margin:0; padding: 0}\n",
       ".list-inline>li {display: inline-block}\n",
       ".list-inline>li:not(:last-child)::after {content: \"\\00b7\"; padding: 0 .5ex}\n",
       "</style>\n",
       "<ol class=list-inline><li>'quantreg_ATC_scaled'</li><li>'quantreg_N_scaled'</li><li>'quantreg_CM_scaled'</li><li>'quantreg_SCM_scaled'</li><li>'quantreg_EM_scaled'</li><li>'quantreg_TE_scaled'</li><li>'quantreg_TIM_scaled'</li><li>'quantreg_LAG_scaled'</li><li>'quantreg_PD1_scaled'</li><li>'quantreg_Shannon_scaled'</li><li>'quantreg_cfShannon_scaled'</li></ol>\n"
      ],
      "text/latex": [
       "\\begin{enumerate*}\n",
       "\\item 'quantreg\\_ATC\\_scaled'\n",
       "\\item 'quantreg\\_N\\_scaled'\n",
       "\\item 'quantreg\\_CM\\_scaled'\n",
       "\\item 'quantreg\\_SCM\\_scaled'\n",
       "\\item 'quantreg\\_EM\\_scaled'\n",
       "\\item 'quantreg\\_TE\\_scaled'\n",
       "\\item 'quantreg\\_TIM\\_scaled'\n",
       "\\item 'quantreg\\_LAG\\_scaled'\n",
       "\\item 'quantreg\\_PD1\\_scaled'\n",
       "\\item 'quantreg\\_Shannon\\_scaled'\n",
       "\\item 'quantreg\\_cfShannon\\_scaled'\n",
       "\\end{enumerate*}\n"
      ],
      "text/markdown": [
       "1. 'quantreg_ATC_scaled'\n",
       "2. 'quantreg_N_scaled'\n",
       "3. 'quantreg_CM_scaled'\n",
       "4. 'quantreg_SCM_scaled'\n",
       "5. 'quantreg_EM_scaled'\n",
       "6. 'quantreg_TE_scaled'\n",
       "7. 'quantreg_TIM_scaled'\n",
       "8. 'quantreg_LAG_scaled'\n",
       "9. 'quantreg_PD1_scaled'\n",
       "10. 'quantreg_Shannon_scaled'\n",
       "11. 'quantreg_cfShannon_scaled'\n",
       "\n",
       "\n"
      ],
      "text/plain": [
       " [1] \"quantreg_ATC_scaled\"       \"quantreg_N_scaled\"        \n",
       " [3] \"quantreg_CM_scaled\"        \"quantreg_SCM_scaled\"      \n",
       " [5] \"quantreg_EM_scaled\"        \"quantreg_TE_scaled\"       \n",
       " [7] \"quantreg_TIM_scaled\"       \"quantreg_LAG_scaled\"      \n",
       " [9] \"quantreg_PD1_scaled\"       \"quantreg_Shannon_scaled\"  \n",
       "[11] \"quantreg_cfShannon_scaled\""
      ]
     },
     "metadata": {},
     "output_type": "display_data"
    }
   ],
   "source": [
    "mycol"
   ]
  },
  {
   "cell_type": "code",
   "execution_count": 28,
   "metadata": {
    "vscode": {
     "languageId": "r"
    }
   },
   "outputs": [
    {
     "data": {
      "text/plain": [
       "\n",
       "           Leukemia            Lymphoma        Solid tumors T-cell malignancies \n",
       "                 17                   7                  18                   1 "
      ]
     },
     "metadata": {},
     "output_type": "display_data"
    }
   ],
   "source": [
    "table(df_min2_pt$cancergroup)"
   ]
  },
  {
   "cell_type": "code",
   "execution_count": 29,
   "metadata": {
    "vscode": {
     "languageId": "r"
    }
   },
   "outputs": [],
   "source": [
    "df_min2_pt_long <- tidyr::pivot_longer(df_min2_pt, all_of(mycol), names_to = \"Feature\", values_to = \"Quantreg\")"
   ]
  },
  {
   "cell_type": "code",
   "execution_count": 30,
   "metadata": {
    "vscode": {
     "languageId": "r"
    }
   },
   "outputs": [],
   "source": [
    "df_min2_pt_long <- as.data.frame(df_min2_pt_long)"
   ]
  },
  {
   "cell_type": "code",
   "execution_count": 31,
   "metadata": {
    "vscode": {
     "languageId": "r"
    }
   },
   "outputs": [],
   "source": [
    "df_min2_pt_long_narm <- df_min2_pt_long[ !is.na(df_min2_pt_long$Quantreg),]"
   ]
  },
  {
   "cell_type": "markdown",
   "metadata": {},
   "source": [
    "Boxplot"
   ]
  },
  {
   "cell_type": "code",
   "execution_count": 32,
   "metadata": {
    "vscode": {
     "languageId": "r"
    }
   },
   "outputs": [],
   "source": [
    "# use scaled for viz\n",
    "df_min2_pt_long_narm$Featurename <- gsub(\"_scaled\", \"\", df_min2_pt_long_narm$Feature)\n",
    "df_min2_pt_long_narm$Featurename <- gsub(\"quantreg_\", \"\", df_min2_pt_long_narm$Featurename)"
   ]
  },
  {
   "cell_type": "code",
   "execution_count": 33,
   "metadata": {
    "vscode": {
     "languageId": "r"
    }
   },
   "outputs": [
    {
     "data": {
      "text/html": [
       "<table class=\"dataframe\">\n",
       "<caption>A data.frame: 6 x 81</caption>\n",
       "<thead>\n",
       "\t<tr><th></th><th scope=col>Patient</th><th scope=col>sample_id</th><th scope=col>cycle</th><th scope=col>FOLD</th><th scope=col>ATC</th><th scope=col>Age</th><th scope=col>Disease_type</th><th scope=col>TE_fold</th><th scope=col>CD3</th><th scope=col>EM</th><th scope=col>...</th><th scope=col>quantreg_EM</th><th scope=col>quantreg_TE</th><th scope=col>quantreg_TIM</th><th scope=col>quantreg_LAG</th><th scope=col>quantreg_PD1</th><th scope=col>quantreg_Shannon</th><th scope=col>quantreg_cfShannon</th><th scope=col>Feature</th><th scope=col>Quantreg</th><th scope=col>Featurename</th></tr>\n",
       "\t<tr><th></th><th scope=col>&lt;chr&gt;</th><th scope=col>&lt;chr&gt;</th><th scope=col>&lt;chr&gt;</th><th scope=col>&lt;dbl&gt;</th><th scope=col>&lt;dbl&gt;</th><th scope=col>&lt;dbl&gt;</th><th scope=col>&lt;chr&gt;</th><th scope=col>&lt;dbl&gt;</th><th scope=col>&lt;int&gt;</th><th scope=col>&lt;int&gt;</th><th scope=col>...</th><th scope=col>&lt;dbl&gt;</th><th scope=col>&lt;dbl&gt;</th><th scope=col>&lt;dbl&gt;</th><th scope=col>&lt;dbl&gt;</th><th scope=col>&lt;dbl&gt;</th><th scope=col>&lt;dbl&gt;</th><th scope=col>&lt;dbl&gt;</th><th scope=col>&lt;chr&gt;</th><th scope=col>&lt;dbl&gt;</th><th scope=col>&lt;chr&gt;</th></tr>\n",
       "</thead>\n",
       "<tbody>\n",
       "\t<tr><th scope=row>10</th><td>CHP_323</td><td>NA        </td><td>NA </td><td> NA</td><td>NA</td><td>NA</td><td>NA</td><td> NA</td><td>  NA</td><td>NA</td><td>...</td><td>       NA</td><td>       NA</td><td>       NA</td><td>       NA</td><td>       NA</td><td> 11.00775</td><td>-8.6880</td><td>quantreg_Shannon_scaled  </td><td> 0.1261740</td><td>Shannon  </td></tr>\n",
       "\t<tr><th scope=row>11</th><td>CHP_323</td><td>NA        </td><td>NA </td><td> NA</td><td>NA</td><td>NA</td><td>NA</td><td> NA</td><td>  NA</td><td>NA</td><td>...</td><td>       NA</td><td>       NA</td><td>       NA</td><td>       NA</td><td>       NA</td><td> 11.00775</td><td>-8.6880</td><td>quantreg_cfShannon_scaled</td><td>-2.7655815</td><td>cfShannon</td></tr>\n",
       "\t<tr><th scope=row>22</th><td>CHP_324</td><td>NA        </td><td>NA </td><td> NA</td><td>NA</td><td>NA</td><td>NA</td><td> NA</td><td>  NA</td><td>NA</td><td>...</td><td>       NA</td><td>       NA</td><td>       NA</td><td>       NA</td><td>       NA</td><td>       NA</td><td> 0.3875</td><td>quantreg_cfShannon_scaled</td><td> 0.1105124</td><td>cfShannon</td></tr>\n",
       "\t<tr><th scope=row>32</th><td>CHP_328</td><td>NA        </td><td>NA </td><td> NA</td><td>NA</td><td>NA</td><td>NA</td><td> NA</td><td>  NA</td><td>NA</td><td>...</td><td>       NA</td><td>       NA</td><td>       NA</td><td>       NA</td><td>       NA</td><td>-68.21300</td><td>     NA</td><td>quantreg_Shannon_scaled  </td><td>-0.7535216</td><td>Shannon  </td></tr>\n",
       "\t<tr><th scope=row>34</th><td>CHP_330</td><td>CHP_330_02</td><td>X02</td><td>1.9</td><td> 0</td><td> 5</td><td>OS</td><td>1.9</td><td>2425</td><td>21</td><td>...</td><td>0.6943711</td><td>-2.439663</td><td>-2.179917</td><td>-1.690379</td><td>-2.179917</td><td>       NA</td><td>     NA</td><td>quantreg_ATC_scaled      </td><td> 0.4452155</td><td>ATC      </td></tr>\n",
       "\t<tr><th scope=row>35</th><td>CHP_330</td><td>CHP_330_02</td><td>X02</td><td>1.9</td><td> 0</td><td> 5</td><td>OS</td><td>1.9</td><td>2425</td><td>21</td><td>...</td><td>0.6943711</td><td>-2.439663</td><td>-2.179917</td><td>-1.690379</td><td>-2.179917</td><td>       NA</td><td>     NA</td><td>quantreg_N_scaled        </td><td> 0.8778270</td><td>N        </td></tr>\n",
       "</tbody>\n",
       "</table>\n"
      ],
      "text/latex": [
       "A data.frame: 6 x 81\n",
       "\\begin{tabular}{r|lllllllllllllllllllll}\n",
       "  & Patient & sample\\_id & cycle & FOLD & ATC & Age & Disease\\_type & TE\\_fold & CD3 & EM & ... & quantreg\\_EM & quantreg\\_TE & quantreg\\_TIM & quantreg\\_LAG & quantreg\\_PD1 & quantreg\\_Shannon & quantreg\\_cfShannon & Feature & Quantreg & Featurename\\\\\n",
       "  & <chr> & <chr> & <chr> & <dbl> & <dbl> & <dbl> & <chr> & <dbl> & <int> & <int> & ... & <dbl> & <dbl> & <dbl> & <dbl> & <dbl> & <dbl> & <dbl> & <chr> & <dbl> & <chr>\\\\\n",
       "\\hline\n",
       "\t10 & CHP\\_323 & NA         & NA  &  NA & NA & NA & NA &  NA &   NA & NA & ... &        NA &        NA &        NA &        NA &        NA &  11.00775 & -8.6880 & quantreg\\_Shannon\\_scaled   &  0.1261740 & Shannon  \\\\\n",
       "\t11 & CHP\\_323 & NA         & NA  &  NA & NA & NA & NA &  NA &   NA & NA & ... &        NA &        NA &        NA &        NA &        NA &  11.00775 & -8.6880 & quantreg\\_cfShannon\\_scaled & -2.7655815 & cfShannon\\\\\n",
       "\t22 & CHP\\_324 & NA         & NA  &  NA & NA & NA & NA &  NA &   NA & NA & ... &        NA &        NA &        NA &        NA &        NA &        NA &  0.3875 & quantreg\\_cfShannon\\_scaled &  0.1105124 & cfShannon\\\\\n",
       "\t32 & CHP\\_328 & NA         & NA  &  NA & NA & NA & NA &  NA &   NA & NA & ... &        NA &        NA &        NA &        NA &        NA & -68.21300 &      NA & quantreg\\_Shannon\\_scaled   & -0.7535216 & Shannon  \\\\\n",
       "\t34 & CHP\\_330 & CHP\\_330\\_02 & X02 & 1.9 &  0 &  5 & OS & 1.9 & 2425 & 21 & ... & 0.6943711 & -2.439663 & -2.179917 & -1.690379 & -2.179917 &        NA &      NA & quantreg\\_ATC\\_scaled       &  0.4452155 & ATC      \\\\\n",
       "\t35 & CHP\\_330 & CHP\\_330\\_02 & X02 & 1.9 &  0 &  5 & OS & 1.9 & 2425 & 21 & ... & 0.6943711 & -2.439663 & -2.179917 & -1.690379 & -2.179917 &        NA &      NA & quantreg\\_N\\_scaled         &  0.8778270 & N        \\\\\n",
       "\\end{tabular}\n"
      ],
      "text/markdown": [
       "\n",
       "A data.frame: 6 x 81\n",
       "\n",
       "| <!--/--> | Patient &lt;chr&gt; | sample_id &lt;chr&gt; | cycle &lt;chr&gt; | FOLD &lt;dbl&gt; | ATC &lt;dbl&gt; | Age &lt;dbl&gt; | Disease_type &lt;chr&gt; | TE_fold &lt;dbl&gt; | CD3 &lt;int&gt; | EM &lt;int&gt; | ... ... | quantreg_EM &lt;dbl&gt; | quantreg_TE &lt;dbl&gt; | quantreg_TIM &lt;dbl&gt; | quantreg_LAG &lt;dbl&gt; | quantreg_PD1 &lt;dbl&gt; | quantreg_Shannon &lt;dbl&gt; | quantreg_cfShannon &lt;dbl&gt; | Feature &lt;chr&gt; | Quantreg &lt;dbl&gt; | Featurename &lt;chr&gt; |\n",
       "|---|---|---|---|---|---|---|---|---|---|---|---|---|---|---|---|---|---|---|---|---|---|\n",
       "| 10 | CHP_323 | NA         | NA  |  NA | NA | NA | NA |  NA |   NA | NA | ... |        NA |        NA |        NA |        NA |        NA |  11.00775 | -8.6880 | quantreg_Shannon_scaled   |  0.1261740 | Shannon   |\n",
       "| 11 | CHP_323 | NA         | NA  |  NA | NA | NA | NA |  NA |   NA | NA | ... |        NA |        NA |        NA |        NA |        NA |  11.00775 | -8.6880 | quantreg_cfShannon_scaled | -2.7655815 | cfShannon |\n",
       "| 22 | CHP_324 | NA         | NA  |  NA | NA | NA | NA |  NA |   NA | NA | ... |        NA |        NA |        NA |        NA |        NA |        NA |  0.3875 | quantreg_cfShannon_scaled |  0.1105124 | cfShannon |\n",
       "| 32 | CHP_328 | NA         | NA  |  NA | NA | NA | NA |  NA |   NA | NA | ... |        NA |        NA |        NA |        NA |        NA | -68.21300 |      NA | quantreg_Shannon_scaled   | -0.7535216 | Shannon   |\n",
       "| 34 | CHP_330 | CHP_330_02 | X02 | 1.9 |  0 |  5 | OS | 1.9 | 2425 | 21 | ... | 0.6943711 | -2.439663 | -2.179917 | -1.690379 | -2.179917 |        NA |      NA | quantreg_ATC_scaled       |  0.4452155 | ATC       |\n",
       "| 35 | CHP_330 | CHP_330_02 | X02 | 1.9 |  0 |  5 | OS | 1.9 | 2425 | 21 | ... | 0.6943711 | -2.439663 | -2.179917 | -1.690379 | -2.179917 |        NA |      NA | quantreg_N_scaled         |  0.8778270 | N         |\n",
       "\n"
      ],
      "text/plain": [
       "   Patient sample_id  cycle FOLD ATC Age Disease_type TE_fold CD3  EM ...\n",
       "10 CHP_323 NA         NA     NA  NA  NA  NA            NA       NA NA ...\n",
       "11 CHP_323 NA         NA     NA  NA  NA  NA            NA       NA NA ...\n",
       "22 CHP_324 NA         NA     NA  NA  NA  NA            NA       NA NA ...\n",
       "32 CHP_328 NA         NA     NA  NA  NA  NA            NA       NA NA ...\n",
       "34 CHP_330 CHP_330_02 X02   1.9   0   5  OS           1.9     2425 21 ...\n",
       "35 CHP_330 CHP_330_02 X02   1.9   0   5  OS           1.9     2425 21 ...\n",
       "   quantreg_EM quantreg_TE quantreg_TIM quantreg_LAG quantreg_PD1\n",
       "10        NA          NA          NA           NA           NA   \n",
       "11        NA          NA          NA           NA           NA   \n",
       "22        NA          NA          NA           NA           NA   \n",
       "32        NA          NA          NA           NA           NA   \n",
       "34 0.6943711   -2.439663   -2.179917    -1.690379    -2.179917   \n",
       "35 0.6943711   -2.439663   -2.179917    -1.690379    -2.179917   \n",
       "   quantreg_Shannon quantreg_cfShannon Feature                   Quantreg  \n",
       "10  11.00775        -8.6880            quantreg_Shannon_scaled    0.1261740\n",
       "11  11.00775        -8.6880            quantreg_cfShannon_scaled -2.7655815\n",
       "22        NA         0.3875            quantreg_cfShannon_scaled  0.1105124\n",
       "32 -68.21300             NA            quantreg_Shannon_scaled   -0.7535216\n",
       "34        NA             NA            quantreg_ATC_scaled        0.4452155\n",
       "35        NA             NA            quantreg_N_scaled          0.8778270\n",
       "   Featurename\n",
       "10 Shannon    \n",
       "11 cfShannon  \n",
       "22 cfShannon  \n",
       "32 Shannon    \n",
       "34 ATC        \n",
       "35 N          "
      ]
     },
     "metadata": {},
     "output_type": "display_data"
    }
   ],
   "source": [
    "head(df_min2_pt_long_narm)"
   ]
  },
  {
   "cell_type": "code",
   "execution_count": 34,
   "metadata": {
    "vscode": {
     "languageId": "r"
    }
   },
   "outputs": [
    {
     "data": {
      "text/plain": [
       "\n",
       "           Leukemia            Lymphoma        Solid tumors T-cell malignancies \n",
       "                169                  73                 180                  11 "
      ]
     },
     "metadata": {},
     "output_type": "display_data"
    }
   ],
   "source": [
    "table(df_min2_pt_long_narm$cancergroup)"
   ]
  },
  {
   "cell_type": "code",
   "execution_count": 35,
   "metadata": {
    "vscode": {
     "languageId": "r"
    }
   },
   "outputs": [
    {
     "data": {
      "text/plain": [
       "\n",
       "      ATC cfShannon        CM        EM       LAG         N       PD1       SCM \n",
       "       43        64        43        43        39        43        39        43 \n",
       "  Shannon        TE       TIM \n",
       "       50        43        39 "
      ]
     },
     "metadata": {},
     "output_type": "display_data"
    }
   ],
   "source": [
    "table(df_min2_pt_long_narm$Featurename)"
   ]
  },
  {
   "cell_type": "code",
   "execution_count": 36,
   "metadata": {
    "vscode": {
     "languageId": "r"
    }
   },
   "outputs": [],
   "source": [
    "df_min2_pt_long_narm$Featurename <- factor(df_min2_pt_long_narm$Featurename,\n",
    "    levels = c(\"ATC\", \"N\", \"SCM\", \"CM\", \"EM\", \"TE\", \"PD1\", \"TIM\",\"LAG\",  \"Shannon\", \"cfShannon\")\n",
    ")\n"
   ]
  },
  {
   "cell_type": "code",
   "execution_count": 37,
   "metadata": {
    "vscode": {
     "languageId": "r"
    }
   },
   "outputs": [],
   "source": [
    "df_min2_pt_long_narm$Featurename <- factor(df_min2_pt_long_narm$Featurename,\n",
    "    levels = rev(levels(df_min2_pt_long_narm$Featurename))\n",
    ")\n"
   ]
  },
  {
   "cell_type": "code",
   "execution_count": 38,
   "metadata": {
    "vscode": {
     "languageId": "r"
    }
   },
   "outputs": [
    {
     "data": {
      "text/html": [
       "<table class=\"dataframe\">\n",
       "<caption>A data.frame: 6 x 81</caption>\n",
       "<thead>\n",
       "\t<tr><th></th><th scope=col>Patient</th><th scope=col>sample_id</th><th scope=col>cycle</th><th scope=col>FOLD</th><th scope=col>ATC</th><th scope=col>Age</th><th scope=col>Disease_type</th><th scope=col>TE_fold</th><th scope=col>CD3</th><th scope=col>EM</th><th scope=col>...</th><th scope=col>quantreg_EM</th><th scope=col>quantreg_TE</th><th scope=col>quantreg_TIM</th><th scope=col>quantreg_LAG</th><th scope=col>quantreg_PD1</th><th scope=col>quantreg_Shannon</th><th scope=col>quantreg_cfShannon</th><th scope=col>Feature</th><th scope=col>Quantreg</th><th scope=col>Featurename</th></tr>\n",
       "\t<tr><th></th><th scope=col>&lt;chr&gt;</th><th scope=col>&lt;chr&gt;</th><th scope=col>&lt;chr&gt;</th><th scope=col>&lt;dbl&gt;</th><th scope=col>&lt;dbl&gt;</th><th scope=col>&lt;dbl&gt;</th><th scope=col>&lt;chr&gt;</th><th scope=col>&lt;dbl&gt;</th><th scope=col>&lt;int&gt;</th><th scope=col>&lt;int&gt;</th><th scope=col>...</th><th scope=col>&lt;dbl&gt;</th><th scope=col>&lt;dbl&gt;</th><th scope=col>&lt;dbl&gt;</th><th scope=col>&lt;dbl&gt;</th><th scope=col>&lt;dbl&gt;</th><th scope=col>&lt;dbl&gt;</th><th scope=col>&lt;dbl&gt;</th><th scope=col>&lt;chr&gt;</th><th scope=col>&lt;dbl&gt;</th><th scope=col>&lt;fct&gt;</th></tr>\n",
       "</thead>\n",
       "<tbody>\n",
       "\t<tr><th scope=row>10</th><td>CHP_323</td><td>NA        </td><td>NA </td><td> NA</td><td>NA</td><td>NA</td><td>NA</td><td> NA</td><td>  NA</td><td>NA</td><td>...</td><td>       NA</td><td>       NA</td><td>       NA</td><td>       NA</td><td>       NA</td><td> 11.00775</td><td>-8.6880</td><td>quantreg_Shannon_scaled  </td><td> 0.1261740</td><td>Shannon  </td></tr>\n",
       "\t<tr><th scope=row>11</th><td>CHP_323</td><td>NA        </td><td>NA </td><td> NA</td><td>NA</td><td>NA</td><td>NA</td><td> NA</td><td>  NA</td><td>NA</td><td>...</td><td>       NA</td><td>       NA</td><td>       NA</td><td>       NA</td><td>       NA</td><td> 11.00775</td><td>-8.6880</td><td>quantreg_cfShannon_scaled</td><td>-2.7655815</td><td>cfShannon</td></tr>\n",
       "\t<tr><th scope=row>22</th><td>CHP_324</td><td>NA        </td><td>NA </td><td> NA</td><td>NA</td><td>NA</td><td>NA</td><td> NA</td><td>  NA</td><td>NA</td><td>...</td><td>       NA</td><td>       NA</td><td>       NA</td><td>       NA</td><td>       NA</td><td>       NA</td><td> 0.3875</td><td>quantreg_cfShannon_scaled</td><td> 0.1105124</td><td>cfShannon</td></tr>\n",
       "\t<tr><th scope=row>32</th><td>CHP_328</td><td>NA        </td><td>NA </td><td> NA</td><td>NA</td><td>NA</td><td>NA</td><td> NA</td><td>  NA</td><td>NA</td><td>...</td><td>       NA</td><td>       NA</td><td>       NA</td><td>       NA</td><td>       NA</td><td>-68.21300</td><td>     NA</td><td>quantreg_Shannon_scaled  </td><td>-0.7535216</td><td>Shannon  </td></tr>\n",
       "\t<tr><th scope=row>34</th><td>CHP_330</td><td>CHP_330_02</td><td>X02</td><td>1.9</td><td> 0</td><td> 5</td><td>OS</td><td>1.9</td><td>2425</td><td>21</td><td>...</td><td>0.6943711</td><td>-2.439663</td><td>-2.179917</td><td>-1.690379</td><td>-2.179917</td><td>       NA</td><td>     NA</td><td>quantreg_ATC_scaled      </td><td> 0.4452155</td><td>ATC      </td></tr>\n",
       "\t<tr><th scope=row>35</th><td>CHP_330</td><td>CHP_330_02</td><td>X02</td><td>1.9</td><td> 0</td><td> 5</td><td>OS</td><td>1.9</td><td>2425</td><td>21</td><td>...</td><td>0.6943711</td><td>-2.439663</td><td>-2.179917</td><td>-1.690379</td><td>-2.179917</td><td>       NA</td><td>     NA</td><td>quantreg_N_scaled        </td><td> 0.8778270</td><td>N        </td></tr>\n",
       "</tbody>\n",
       "</table>\n"
      ],
      "text/latex": [
       "A data.frame: 6 x 81\n",
       "\\begin{tabular}{r|lllllllllllllllllllll}\n",
       "  & Patient & sample\\_id & cycle & FOLD & ATC & Age & Disease\\_type & TE\\_fold & CD3 & EM & ... & quantreg\\_EM & quantreg\\_TE & quantreg\\_TIM & quantreg\\_LAG & quantreg\\_PD1 & quantreg\\_Shannon & quantreg\\_cfShannon & Feature & Quantreg & Featurename\\\\\n",
       "  & <chr> & <chr> & <chr> & <dbl> & <dbl> & <dbl> & <chr> & <dbl> & <int> & <int> & ... & <dbl> & <dbl> & <dbl> & <dbl> & <dbl> & <dbl> & <dbl> & <chr> & <dbl> & <fct>\\\\\n",
       "\\hline\n",
       "\t10 & CHP\\_323 & NA         & NA  &  NA & NA & NA & NA &  NA &   NA & NA & ... &        NA &        NA &        NA &        NA &        NA &  11.00775 & -8.6880 & quantreg\\_Shannon\\_scaled   &  0.1261740 & Shannon  \\\\\n",
       "\t11 & CHP\\_323 & NA         & NA  &  NA & NA & NA & NA &  NA &   NA & NA & ... &        NA &        NA &        NA &        NA &        NA &  11.00775 & -8.6880 & quantreg\\_cfShannon\\_scaled & -2.7655815 & cfShannon\\\\\n",
       "\t22 & CHP\\_324 & NA         & NA  &  NA & NA & NA & NA &  NA &   NA & NA & ... &        NA &        NA &        NA &        NA &        NA &        NA &  0.3875 & quantreg\\_cfShannon\\_scaled &  0.1105124 & cfShannon\\\\\n",
       "\t32 & CHP\\_328 & NA         & NA  &  NA & NA & NA & NA &  NA &   NA & NA & ... &        NA &        NA &        NA &        NA &        NA & -68.21300 &      NA & quantreg\\_Shannon\\_scaled   & -0.7535216 & Shannon  \\\\\n",
       "\t34 & CHP\\_330 & CHP\\_330\\_02 & X02 & 1.9 &  0 &  5 & OS & 1.9 & 2425 & 21 & ... & 0.6943711 & -2.439663 & -2.179917 & -1.690379 & -2.179917 &        NA &      NA & quantreg\\_ATC\\_scaled       &  0.4452155 & ATC      \\\\\n",
       "\t35 & CHP\\_330 & CHP\\_330\\_02 & X02 & 1.9 &  0 &  5 & OS & 1.9 & 2425 & 21 & ... & 0.6943711 & -2.439663 & -2.179917 & -1.690379 & -2.179917 &        NA &      NA & quantreg\\_N\\_scaled         &  0.8778270 & N        \\\\\n",
       "\\end{tabular}\n"
      ],
      "text/markdown": [
       "\n",
       "A data.frame: 6 x 81\n",
       "\n",
       "| <!--/--> | Patient &lt;chr&gt; | sample_id &lt;chr&gt; | cycle &lt;chr&gt; | FOLD &lt;dbl&gt; | ATC &lt;dbl&gt; | Age &lt;dbl&gt; | Disease_type &lt;chr&gt; | TE_fold &lt;dbl&gt; | CD3 &lt;int&gt; | EM &lt;int&gt; | ... ... | quantreg_EM &lt;dbl&gt; | quantreg_TE &lt;dbl&gt; | quantreg_TIM &lt;dbl&gt; | quantreg_LAG &lt;dbl&gt; | quantreg_PD1 &lt;dbl&gt; | quantreg_Shannon &lt;dbl&gt; | quantreg_cfShannon &lt;dbl&gt; | Feature &lt;chr&gt; | Quantreg &lt;dbl&gt; | Featurename &lt;fct&gt; |\n",
       "|---|---|---|---|---|---|---|---|---|---|---|---|---|---|---|---|---|---|---|---|---|---|\n",
       "| 10 | CHP_323 | NA         | NA  |  NA | NA | NA | NA |  NA |   NA | NA | ... |        NA |        NA |        NA |        NA |        NA |  11.00775 | -8.6880 | quantreg_Shannon_scaled   |  0.1261740 | Shannon   |\n",
       "| 11 | CHP_323 | NA         | NA  |  NA | NA | NA | NA |  NA |   NA | NA | ... |        NA |        NA |        NA |        NA |        NA |  11.00775 | -8.6880 | quantreg_cfShannon_scaled | -2.7655815 | cfShannon |\n",
       "| 22 | CHP_324 | NA         | NA  |  NA | NA | NA | NA |  NA |   NA | NA | ... |        NA |        NA |        NA |        NA |        NA |        NA |  0.3875 | quantreg_cfShannon_scaled |  0.1105124 | cfShannon |\n",
       "| 32 | CHP_328 | NA         | NA  |  NA | NA | NA | NA |  NA |   NA | NA | ... |        NA |        NA |        NA |        NA |        NA | -68.21300 |      NA | quantreg_Shannon_scaled   | -0.7535216 | Shannon   |\n",
       "| 34 | CHP_330 | CHP_330_02 | X02 | 1.9 |  0 |  5 | OS | 1.9 | 2425 | 21 | ... | 0.6943711 | -2.439663 | -2.179917 | -1.690379 | -2.179917 |        NA |      NA | quantreg_ATC_scaled       |  0.4452155 | ATC       |\n",
       "| 35 | CHP_330 | CHP_330_02 | X02 | 1.9 |  0 |  5 | OS | 1.9 | 2425 | 21 | ... | 0.6943711 | -2.439663 | -2.179917 | -1.690379 | -2.179917 |        NA |      NA | quantreg_N_scaled         |  0.8778270 | N         |\n",
       "\n"
      ],
      "text/plain": [
       "   Patient sample_id  cycle FOLD ATC Age Disease_type TE_fold CD3  EM ...\n",
       "10 CHP_323 NA         NA     NA  NA  NA  NA            NA       NA NA ...\n",
       "11 CHP_323 NA         NA     NA  NA  NA  NA            NA       NA NA ...\n",
       "22 CHP_324 NA         NA     NA  NA  NA  NA            NA       NA NA ...\n",
       "32 CHP_328 NA         NA     NA  NA  NA  NA            NA       NA NA ...\n",
       "34 CHP_330 CHP_330_02 X02   1.9   0   5  OS           1.9     2425 21 ...\n",
       "35 CHP_330 CHP_330_02 X02   1.9   0   5  OS           1.9     2425 21 ...\n",
       "   quantreg_EM quantreg_TE quantreg_TIM quantreg_LAG quantreg_PD1\n",
       "10        NA          NA          NA           NA           NA   \n",
       "11        NA          NA          NA           NA           NA   \n",
       "22        NA          NA          NA           NA           NA   \n",
       "32        NA          NA          NA           NA           NA   \n",
       "34 0.6943711   -2.439663   -2.179917    -1.690379    -2.179917   \n",
       "35 0.6943711   -2.439663   -2.179917    -1.690379    -2.179917   \n",
       "   quantreg_Shannon quantreg_cfShannon Feature                   Quantreg  \n",
       "10  11.00775        -8.6880            quantreg_Shannon_scaled    0.1261740\n",
       "11  11.00775        -8.6880            quantreg_cfShannon_scaled -2.7655815\n",
       "22        NA         0.3875            quantreg_cfShannon_scaled  0.1105124\n",
       "32 -68.21300             NA            quantreg_Shannon_scaled   -0.7535216\n",
       "34        NA             NA            quantreg_ATC_scaled        0.4452155\n",
       "35        NA             NA            quantreg_N_scaled          0.8778270\n",
       "   Featurename\n",
       "10 Shannon    \n",
       "11 cfShannon  \n",
       "22 cfShannon  \n",
       "32 Shannon    \n",
       "34 ATC        \n",
       "35 N          "
      ]
     },
     "metadata": {},
     "output_type": "display_data"
    }
   ],
   "source": [
    "head(df_min2_pt_long_narm)"
   ]
  },
  {
   "cell_type": "code",
   "execution_count": 39,
   "metadata": {
    "vscode": {
     "languageId": "r"
    }
   },
   "outputs": [],
   "source": [
    "df_min2_pt_long_narm$Feature <- NA\n",
    "df_min2_pt_long_narm$Feature[ df_min2_pt_long_narm$Featurename == \"ATC\"] <- \"ATC\"\n",
    "df_min2_pt_long_narm$Feature[ df_min2_pt_long_narm$Featurename == \"N\"] <- \"Naïve%\"\n",
    "df_min2_pt_long_narm$Feature[ df_min2_pt_long_narm$Featurename == \"SCM\"] <- \"SCM%\"\n",
    "df_min2_pt_long_narm$Feature[ df_min2_pt_long_narm$Featurename == \"CM\"] <- \"CM%\"\n",
    "df_min2_pt_long_narm$Feature[ df_min2_pt_long_narm$Featurename == \"EM\"] <- \"EM%\"\n",
    "df_min2_pt_long_narm$Feature[ df_min2_pt_long_narm$Featurename == \"TE\"] <- \"TE%\"\n",
    "df_min2_pt_long_narm$Feature[ df_min2_pt_long_narm$Featurename == \"PD1\"] <- \"PD1%\"\n",
    "df_min2_pt_long_narm$Feature[ df_min2_pt_long_narm$Featurename == \"LAG\"] <- \"LAG3%\"\n",
    "df_min2_pt_long_narm$Feature[ df_min2_pt_long_narm$Featurename == \"TIM\"] <- \"TIM3%\"\n",
    "df_min2_pt_long_narm$Feature[ df_min2_pt_long_narm$Featurename == \"Shannon\"] <- \"TCR Shannon\"\n",
    "df_min2_pt_long_narm$Feature[ df_min2_pt_long_narm$Featurename == \"cfShannon\"] <- \"cfTCR Shannon\""
   ]
  },
  {
   "cell_type": "code",
   "execution_count": 40,
   "metadata": {
    "vscode": {
     "languageId": "r"
    }
   },
   "outputs": [],
   "source": [
    "df_min2_pt_long_narm$Feature <- factor(df_min2_pt_long_narm$Feature,\n",
    "  levels = c(\"cfTCR Shannon\", \"TCR Shannon\", \"LAG3%\",\"TIM3%\", \"PD1%\", \"TE%\", \"EM%\", \"CM%\", \"SCM%\", \"Naïve%\", \"ATC\")\n",
    ")\n"
   ]
  },
  {
   "cell_type": "code",
   "execution_count": 41,
   "metadata": {
    "vscode": {
     "languageId": "r"
    }
   },
   "outputs": [
    {
     "data": {
      "text/html": [
       "<table class=\"dataframe\">\n",
       "<caption>A data.frame: 6 x 81</caption>\n",
       "<thead>\n",
       "\t<tr><th></th><th scope=col>Patient</th><th scope=col>sample_id</th><th scope=col>cycle</th><th scope=col>FOLD</th><th scope=col>ATC</th><th scope=col>Age</th><th scope=col>Disease_type</th><th scope=col>TE_fold</th><th scope=col>CD3</th><th scope=col>EM</th><th scope=col>...</th><th scope=col>quantreg_EM</th><th scope=col>quantreg_TE</th><th scope=col>quantreg_TIM</th><th scope=col>quantreg_LAG</th><th scope=col>quantreg_PD1</th><th scope=col>quantreg_Shannon</th><th scope=col>quantreg_cfShannon</th><th scope=col>Feature</th><th scope=col>Quantreg</th><th scope=col>Featurename</th></tr>\n",
       "\t<tr><th></th><th scope=col>&lt;chr&gt;</th><th scope=col>&lt;chr&gt;</th><th scope=col>&lt;chr&gt;</th><th scope=col>&lt;dbl&gt;</th><th scope=col>&lt;dbl&gt;</th><th scope=col>&lt;dbl&gt;</th><th scope=col>&lt;chr&gt;</th><th scope=col>&lt;dbl&gt;</th><th scope=col>&lt;int&gt;</th><th scope=col>&lt;int&gt;</th><th scope=col>...</th><th scope=col>&lt;dbl&gt;</th><th scope=col>&lt;dbl&gt;</th><th scope=col>&lt;dbl&gt;</th><th scope=col>&lt;dbl&gt;</th><th scope=col>&lt;dbl&gt;</th><th scope=col>&lt;dbl&gt;</th><th scope=col>&lt;dbl&gt;</th><th scope=col>&lt;fct&gt;</th><th scope=col>&lt;dbl&gt;</th><th scope=col>&lt;fct&gt;</th></tr>\n",
       "</thead>\n",
       "<tbody>\n",
       "\t<tr><th scope=row>10</th><td>CHP_323</td><td>NA        </td><td>NA </td><td> NA</td><td>NA</td><td>NA</td><td>NA</td><td> NA</td><td>  NA</td><td>NA</td><td>...</td><td>       NA</td><td>       NA</td><td>       NA</td><td>       NA</td><td>       NA</td><td> 11.00775</td><td>-8.6880</td><td>TCR Shannon  </td><td> 0.1261740</td><td>Shannon  </td></tr>\n",
       "\t<tr><th scope=row>11</th><td>CHP_323</td><td>NA        </td><td>NA </td><td> NA</td><td>NA</td><td>NA</td><td>NA</td><td> NA</td><td>  NA</td><td>NA</td><td>...</td><td>       NA</td><td>       NA</td><td>       NA</td><td>       NA</td><td>       NA</td><td> 11.00775</td><td>-8.6880</td><td>cfTCR Shannon</td><td>-2.7655815</td><td>cfShannon</td></tr>\n",
       "\t<tr><th scope=row>22</th><td>CHP_324</td><td>NA        </td><td>NA </td><td> NA</td><td>NA</td><td>NA</td><td>NA</td><td> NA</td><td>  NA</td><td>NA</td><td>...</td><td>       NA</td><td>       NA</td><td>       NA</td><td>       NA</td><td>       NA</td><td>       NA</td><td> 0.3875</td><td>cfTCR Shannon</td><td> 0.1105124</td><td>cfShannon</td></tr>\n",
       "\t<tr><th scope=row>32</th><td>CHP_328</td><td>NA        </td><td>NA </td><td> NA</td><td>NA</td><td>NA</td><td>NA</td><td> NA</td><td>  NA</td><td>NA</td><td>...</td><td>       NA</td><td>       NA</td><td>       NA</td><td>       NA</td><td>       NA</td><td>-68.21300</td><td>     NA</td><td>TCR Shannon  </td><td>-0.7535216</td><td>Shannon  </td></tr>\n",
       "\t<tr><th scope=row>34</th><td>CHP_330</td><td>CHP_330_02</td><td>X02</td><td>1.9</td><td> 0</td><td> 5</td><td>OS</td><td>1.9</td><td>2425</td><td>21</td><td>...</td><td>0.6943711</td><td>-2.439663</td><td>-2.179917</td><td>-1.690379</td><td>-2.179917</td><td>       NA</td><td>     NA</td><td>ATC          </td><td> 0.4452155</td><td>ATC      </td></tr>\n",
       "\t<tr><th scope=row>35</th><td>CHP_330</td><td>CHP_330_02</td><td>X02</td><td>1.9</td><td> 0</td><td> 5</td><td>OS</td><td>1.9</td><td>2425</td><td>21</td><td>...</td><td>0.6943711</td><td>-2.439663</td><td>-2.179917</td><td>-1.690379</td><td>-2.179917</td><td>       NA</td><td>     NA</td><td>Naïve%       </td><td> 0.8778270</td><td>N        </td></tr>\n",
       "</tbody>\n",
       "</table>\n"
      ],
      "text/latex": [
       "A data.frame: 6 x 81\n",
       "\\begin{tabular}{r|lllllllllllllllllllll}\n",
       "  & Patient & sample\\_id & cycle & FOLD & ATC & Age & Disease\\_type & TE\\_fold & CD3 & EM & ... & quantreg\\_EM & quantreg\\_TE & quantreg\\_TIM & quantreg\\_LAG & quantreg\\_PD1 & quantreg\\_Shannon & quantreg\\_cfShannon & Feature & Quantreg & Featurename\\\\\n",
       "  & <chr> & <chr> & <chr> & <dbl> & <dbl> & <dbl> & <chr> & <dbl> & <int> & <int> & ... & <dbl> & <dbl> & <dbl> & <dbl> & <dbl> & <dbl> & <dbl> & <fct> & <dbl> & <fct>\\\\\n",
       "\\hline\n",
       "\t10 & CHP\\_323 & NA         & NA  &  NA & NA & NA & NA &  NA &   NA & NA & ... &        NA &        NA &        NA &        NA &        NA &  11.00775 & -8.6880 & TCR Shannon   &  0.1261740 & Shannon  \\\\\n",
       "\t11 & CHP\\_323 & NA         & NA  &  NA & NA & NA & NA &  NA &   NA & NA & ... &        NA &        NA &        NA &        NA &        NA &  11.00775 & -8.6880 & cfTCR Shannon & -2.7655815 & cfShannon\\\\\n",
       "\t22 & CHP\\_324 & NA         & NA  &  NA & NA & NA & NA &  NA &   NA & NA & ... &        NA &        NA &        NA &        NA &        NA &        NA &  0.3875 & cfTCR Shannon &  0.1105124 & cfShannon\\\\\n",
       "\t32 & CHP\\_328 & NA         & NA  &  NA & NA & NA & NA &  NA &   NA & NA & ... &        NA &        NA &        NA &        NA &        NA & -68.21300 &      NA & TCR Shannon   & -0.7535216 & Shannon  \\\\\n",
       "\t34 & CHP\\_330 & CHP\\_330\\_02 & X02 & 1.9 &  0 &  5 & OS & 1.9 & 2425 & 21 & ... & 0.6943711 & -2.439663 & -2.179917 & -1.690379 & -2.179917 &        NA &      NA & ATC           &  0.4452155 & ATC      \\\\\n",
       "\t35 & CHP\\_330 & CHP\\_330\\_02 & X02 & 1.9 &  0 &  5 & OS & 1.9 & 2425 & 21 & ... & 0.6943711 & -2.439663 & -2.179917 & -1.690379 & -2.179917 &        NA &      NA & Naïve\\%        &  0.8778270 & N        \\\\\n",
       "\\end{tabular}\n"
      ],
      "text/markdown": [
       "\n",
       "A data.frame: 6 x 81\n",
       "\n",
       "| <!--/--> | Patient &lt;chr&gt; | sample_id &lt;chr&gt; | cycle &lt;chr&gt; | FOLD &lt;dbl&gt; | ATC &lt;dbl&gt; | Age &lt;dbl&gt; | Disease_type &lt;chr&gt; | TE_fold &lt;dbl&gt; | CD3 &lt;int&gt; | EM &lt;int&gt; | ... ... | quantreg_EM &lt;dbl&gt; | quantreg_TE &lt;dbl&gt; | quantreg_TIM &lt;dbl&gt; | quantreg_LAG &lt;dbl&gt; | quantreg_PD1 &lt;dbl&gt; | quantreg_Shannon &lt;dbl&gt; | quantreg_cfShannon &lt;dbl&gt; | Feature &lt;fct&gt; | Quantreg &lt;dbl&gt; | Featurename &lt;fct&gt; |\n",
       "|---|---|---|---|---|---|---|---|---|---|---|---|---|---|---|---|---|---|---|---|---|---|\n",
       "| 10 | CHP_323 | NA         | NA  |  NA | NA | NA | NA |  NA |   NA | NA | ... |        NA |        NA |        NA |        NA |        NA |  11.00775 | -8.6880 | TCR Shannon   |  0.1261740 | Shannon   |\n",
       "| 11 | CHP_323 | NA         | NA  |  NA | NA | NA | NA |  NA |   NA | NA | ... |        NA |        NA |        NA |        NA |        NA |  11.00775 | -8.6880 | cfTCR Shannon | -2.7655815 | cfShannon |\n",
       "| 22 | CHP_324 | NA         | NA  |  NA | NA | NA | NA |  NA |   NA | NA | ... |        NA |        NA |        NA |        NA |        NA |        NA |  0.3875 | cfTCR Shannon |  0.1105124 | cfShannon |\n",
       "| 32 | CHP_328 | NA         | NA  |  NA | NA | NA | NA |  NA |   NA | NA | ... |        NA |        NA |        NA |        NA |        NA | -68.21300 |      NA | TCR Shannon   | -0.7535216 | Shannon   |\n",
       "| 34 | CHP_330 | CHP_330_02 | X02 | 1.9 |  0 |  5 | OS | 1.9 | 2425 | 21 | ... | 0.6943711 | -2.439663 | -2.179917 | -1.690379 | -2.179917 |        NA |      NA | ATC           |  0.4452155 | ATC       |\n",
       "| 35 | CHP_330 | CHP_330_02 | X02 | 1.9 |  0 |  5 | OS | 1.9 | 2425 | 21 | ... | 0.6943711 | -2.439663 | -2.179917 | -1.690379 | -2.179917 |        NA |      NA | Naïve%        |  0.8778270 | N         |\n",
       "\n"
      ],
      "text/plain": [
       "   Patient sample_id  cycle FOLD ATC Age Disease_type TE_fold CD3  EM ...\n",
       "10 CHP_323 NA         NA     NA  NA  NA  NA            NA       NA NA ...\n",
       "11 CHP_323 NA         NA     NA  NA  NA  NA            NA       NA NA ...\n",
       "22 CHP_324 NA         NA     NA  NA  NA  NA            NA       NA NA ...\n",
       "32 CHP_328 NA         NA     NA  NA  NA  NA            NA       NA NA ...\n",
       "34 CHP_330 CHP_330_02 X02   1.9   0   5  OS           1.9     2425 21 ...\n",
       "35 CHP_330 CHP_330_02 X02   1.9   0   5  OS           1.9     2425 21 ...\n",
       "   quantreg_EM quantreg_TE quantreg_TIM quantreg_LAG quantreg_PD1\n",
       "10        NA          NA          NA           NA           NA   \n",
       "11        NA          NA          NA           NA           NA   \n",
       "22        NA          NA          NA           NA           NA   \n",
       "32        NA          NA          NA           NA           NA   \n",
       "34 0.6943711   -2.439663   -2.179917    -1.690379    -2.179917   \n",
       "35 0.6943711   -2.439663   -2.179917    -1.690379    -2.179917   \n",
       "   quantreg_Shannon quantreg_cfShannon Feature       Quantreg   Featurename\n",
       "10  11.00775        -8.6880            TCR Shannon    0.1261740 Shannon    \n",
       "11  11.00775        -8.6880            cfTCR Shannon -2.7655815 cfShannon  \n",
       "22        NA         0.3875            cfTCR Shannon  0.1105124 cfShannon  \n",
       "32 -68.21300             NA            TCR Shannon   -0.7535216 Shannon    \n",
       "34        NA             NA            ATC            0.4452155 ATC        \n",
       "35        NA             NA            Naïve%         0.8778270 N          "
      ]
     },
     "metadata": {},
     "output_type": "display_data"
    }
   ],
   "source": [
    "head(df_min2_pt_long_narm)"
   ]
  },
  {
   "cell_type": "code",
   "execution_count": 42,
   "metadata": {
    "vscode": {
     "languageId": "r"
    }
   },
   "outputs": [],
   "source": [
    "p1 <- ggplot(df_min2_pt_long_narm, aes(y = Feature, x = Quantreg)) +\n",
    "        geom_point(aes(color = cancergroup), position = position_jitter(w = 0.05, h = 0.15)) +\n",
    "        geom_boxplot(outlier.shape = NA, alpha = 0, color = \"#b7b2b2\") +\n",
    "        myaxis +\n",
    "        myplot +\n",
    "        scale_color_manual(values = group_col) +\n",
    "        theme(legend.position = \"none\", axis.title = element_blank(), axis.text.x = element_text(angle = 0, hjust = 0.5)) +\n",
    "        labs(title = \"Scaled change post-therapy\")\n"
   ]
  },
  {
   "cell_type": "code",
   "execution_count": 43,
   "metadata": {
    "vscode": {
     "languageId": "r"
    }
   },
   "outputs": [
    {
     "data": {
      "image/png": "[encoded data removed]",
      "text/plain": [
       "plot without title"
      ]
     },
     "metadata": {
      "image/png": {
       "height": 420,
       "width": 420
      }
     },
     "output_type": "display_data"
    }
   ],
   "source": [
    "p1"
   ]
  },
  {
   "cell_type": "code",
   "execution_count": 52,
   "metadata": {
    "vscode": {
     "languageId": "r"
    }
   },
   "outputs": [
    {
     "data": {
      "text/html": [
       "<strong>pdf:</strong> 2"
      ],
      "text/latex": [
       "\\textbf{pdf:} 2"
      ],
      "text/markdown": [
       "**pdf:** 2"
      ],
      "text/plain": [
       "pdf \n",
       "  2 "
      ]
     },
     "metadata": {},
     "output_type": "display_data"
    }
   ],
   "source": [
    "pdf( paste0(plotpath, \"quantreq.pdf\"), width = 6, height = 8)\n",
    "cowplot::plot_grid(p1, labels = \"B\") #+ theme(legend.position = \"bottom\")\n",
    "dev.off()"
   ]
  },
  {
   "cell_type": "code",
   "execution_count": 162,
   "metadata": {
    "vscode": {
     "languageId": "r"
    }
   },
   "outputs": [
    {
     "data": {
      "text/html": [
       "<strong>pdf:</strong> 2"
      ],
      "text/latex": [
       "\\textbf{pdf:} 2"
      ],
      "text/markdown": [
       "**pdf:** 2"
      ],
      "text/plain": [
       "pdf \n",
       "  2 "
      ]
     },
     "metadata": {},
     "output_type": "display_data"
    }
   ],
   "source": [
    "# get legends vertical at the bottom\n",
    "pdf(paste0(plotpath, \"quantreq_lgd.pdf\"), width = 3, height = 6)\n",
    "grid.draw(get_legend(p1 + theme(legend.position = \"bottom\") + guides(color = guide_legend(ncol = 2))))\n",
    "dev.off()\n"
   ]
  },
  {
   "cell_type": "markdown",
   "metadata": {},
   "source": [
    "LR and forestplot"
   ]
  },
  {
   "cell_type": "markdown",
   "metadata": {},
   "source": [
    "Use unscaled data for glm"
   ]
  },
  {
   "cell_type": "code",
   "execution_count": 44,
   "metadata": {
    "vscode": {
     "languageId": "r"
    }
   },
   "outputs": [],
   "source": [
    "mycol <- colnames(df_min2_pt)[grepl(\"quantreg\", colnames(df_min2_pt))]"
   ]
  },
  {
   "cell_type": "code",
   "execution_count": 45,
   "metadata": {
    "vscode": {
     "languageId": "r"
    }
   },
   "outputs": [],
   "source": [
    "mycol <- mycol[ !grepl(\"scaled\", mycol)]"
   ]
  },
  {
   "cell_type": "code",
   "execution_count": 46,
   "metadata": {
    "vscode": {
     "languageId": "r"
    }
   },
   "outputs": [],
   "source": [
    "# mycol <- mycol[ !grepl(\"rank\", mycol)]"
   ]
  },
  {
   "cell_type": "code",
   "execution_count": 47,
   "metadata": {
    "vscode": {
     "languageId": "r"
    }
   },
   "outputs": [
    {
     "data": {
      "text/html": [
       "<style>\n",
       ".list-inline {list-style: none; margin:0; padding: 0}\n",
       ".list-inline>li {display: inline-block}\n",
       ".list-inline>li:not(:last-child)::after {content: \"\\00b7\"; padding: 0 .5ex}\n",
       "</style>\n",
       "<ol class=list-inline><li>'quantreg_ATC'</li><li>'quantreg_N'</li><li>'quantreg_CM'</li><li>'quantreg_SCM'</li><li>'quantreg_EM'</li><li>'quantreg_TE'</li><li>'quantreg_TIM'</li><li>'quantreg_LAG'</li><li>'quantreg_PD1'</li><li>'quantreg_Shannon'</li><li>'quantreg_cfShannon'</li></ol>\n"
      ],
      "text/latex": [
       "\\begin{enumerate*}\n",
       "\\item 'quantreg\\_ATC'\n",
       "\\item 'quantreg\\_N'\n",
       "\\item 'quantreg\\_CM'\n",
       "\\item 'quantreg\\_SCM'\n",
       "\\item 'quantreg\\_EM'\n",
       "\\item 'quantreg\\_TE'\n",
       "\\item 'quantreg\\_TIM'\n",
       "\\item 'quantreg\\_LAG'\n",
       "\\item 'quantreg\\_PD1'\n",
       "\\item 'quantreg\\_Shannon'\n",
       "\\item 'quantreg\\_cfShannon'\n",
       "\\end{enumerate*}\n"
      ],
      "text/markdown": [
       "1. 'quantreg_ATC'\n",
       "2. 'quantreg_N'\n",
       "3. 'quantreg_CM'\n",
       "4. 'quantreg_SCM'\n",
       "5. 'quantreg_EM'\n",
       "6. 'quantreg_TE'\n",
       "7. 'quantreg_TIM'\n",
       "8. 'quantreg_LAG'\n",
       "9. 'quantreg_PD1'\n",
       "10. 'quantreg_Shannon'\n",
       "11. 'quantreg_cfShannon'\n",
       "\n",
       "\n"
      ],
      "text/plain": [
       " [1] \"quantreg_ATC\"       \"quantreg_N\"         \"quantreg_CM\"       \n",
       " [4] \"quantreg_SCM\"       \"quantreg_EM\"        \"quantreg_TE\"       \n",
       " [7] \"quantreg_TIM\"       \"quantreg_LAG\"       \"quantreg_PD1\"      \n",
       "[10] \"quantreg_Shannon\"   \"quantreg_cfShannon\""
      ]
     },
     "metadata": {},
     "output_type": "display_data"
    }
   ],
   "source": [
    "mycol"
   ]
  },
  {
   "cell_type": "code",
   "execution_count": 48,
   "metadata": {
    "vscode": {
     "languageId": "r"
    }
   },
   "outputs": [],
   "source": [
    "df_min2_pt_long <- tidyr::pivot_longer(df_min2_pt, all_of(mycol), names_to = \"Feature\", values_to = \"Quantreg\")"
   ]
  },
  {
   "cell_type": "code",
   "execution_count": 49,
   "metadata": {
    "vscode": {
     "languageId": "r"
    }
   },
   "outputs": [],
   "source": [
    "df_min2_pt_long <- as.data.frame(df_min2_pt_long)"
   ]
  },
  {
   "cell_type": "code",
   "execution_count": 50,
   "metadata": {
    "vscode": {
     "languageId": "r"
    }
   },
   "outputs": [],
   "source": [
    "df_min2_pt_long_narm <- df_min2_pt_long[ !is.na(df_min2_pt_long$Quantreg),]"
   ]
  },
  {
   "cell_type": "code",
   "execution_count": 53,
   "metadata": {
    "vscode": {
     "languageId": "r"
    }
   },
   "outputs": [
    {
     "data": {
      "text/html": [
       "81"
      ],
      "text/latex": [
       "81"
      ],
      "text/markdown": [
       "81"
      ],
      "text/plain": [
       "[1] 81"
      ]
     },
     "metadata": {},
     "output_type": "display_data"
    }
   ],
   "source": [
    "length(unique(df_min2_pt_long_narm$Patient) )"
   ]
  },
  {
   "cell_type": "code",
   "execution_count": 54,
   "metadata": {
    "vscode": {
     "languageId": "r"
    }
   },
   "outputs": [],
   "source": [
    "feat_lr_mat <- matrix(nrow = length(unique(df_min2_pt_long_narm$Feature)), ncol = 7)\n",
    "rownames(feat_lr_mat) <- unique(df_min2_pt_long_narm$Feature)\n",
    "colnames(feat_lr_mat) <- c(\"coef\", \"exp(coef)\", \"SE\", \"z\", \"Pr(>|z|)\", \"lower.95\", \"upper.95\")\n"
   ]
  },
  {
   "cell_type": "code",
   "execution_count": 55,
   "metadata": {
    "vscode": {
     "languageId": "r"
    }
   },
   "outputs": [
    {
     "data": {
      "text/html": [
       "<table class=\"dataframe\">\n",
       "<caption>A matrix: 11 x 7 of type lgl</caption>\n",
       "<thead>\n",
       "\t<tr><th></th><th scope=col>coef</th><th scope=col>exp(coef)</th><th scope=col>SE</th><th scope=col>z</th><th scope=col>Pr(&gt;|z|)</th><th scope=col>lower.95</th><th scope=col>upper.95</th></tr>\n",
       "</thead>\n",
       "<tbody>\n",
       "\t<tr><th scope=row>quantreg_Shannon</th><td>NA</td><td>NA</td><td>NA</td><td>NA</td><td>NA</td><td>NA</td><td>NA</td></tr>\n",
       "\t<tr><th scope=row>quantreg_cfShannon</th><td>NA</td><td>NA</td><td>NA</td><td>NA</td><td>NA</td><td>NA</td><td>NA</td></tr>\n",
       "\t<tr><th scope=row>quantreg_ATC</th><td>NA</td><td>NA</td><td>NA</td><td>NA</td><td>NA</td><td>NA</td><td>NA</td></tr>\n",
       "\t<tr><th scope=row>quantreg_N</th><td>NA</td><td>NA</td><td>NA</td><td>NA</td><td>NA</td><td>NA</td><td>NA</td></tr>\n",
       "\t<tr><th scope=row>quantreg_CM</th><td>NA</td><td>NA</td><td>NA</td><td>NA</td><td>NA</td><td>NA</td><td>NA</td></tr>\n",
       "\t<tr><th scope=row>quantreg_SCM</th><td>NA</td><td>NA</td><td>NA</td><td>NA</td><td>NA</td><td>NA</td><td>NA</td></tr>\n",
       "\t<tr><th scope=row>quantreg_EM</th><td>NA</td><td>NA</td><td>NA</td><td>NA</td><td>NA</td><td>NA</td><td>NA</td></tr>\n",
       "\t<tr><th scope=row>quantreg_TE</th><td>NA</td><td>NA</td><td>NA</td><td>NA</td><td>NA</td><td>NA</td><td>NA</td></tr>\n",
       "\t<tr><th scope=row>quantreg_TIM</th><td>NA</td><td>NA</td><td>NA</td><td>NA</td><td>NA</td><td>NA</td><td>NA</td></tr>\n",
       "\t<tr><th scope=row>quantreg_LAG</th><td>NA</td><td>NA</td><td>NA</td><td>NA</td><td>NA</td><td>NA</td><td>NA</td></tr>\n",
       "\t<tr><th scope=row>quantreg_PD1</th><td>NA</td><td>NA</td><td>NA</td><td>NA</td><td>NA</td><td>NA</td><td>NA</td></tr>\n",
       "</tbody>\n",
       "</table>\n"
      ],
      "text/latex": [
       "A matrix: 11 x 7 of type lgl\n",
       "\\begin{tabular}{r|lllllll}\n",
       "  & coef & exp(coef) & SE & z & Pr(>\\textbar{}z\\textbar{}) & lower.95 & upper.95\\\\\n",
       "\\hline\n",
       "\tquantreg\\_Shannon & NA & NA & NA & NA & NA & NA & NA\\\\\n",
       "\tquantreg\\_cfShannon & NA & NA & NA & NA & NA & NA & NA\\\\\n",
       "\tquantreg\\_ATC & NA & NA & NA & NA & NA & NA & NA\\\\\n",
       "\tquantreg\\_N & NA & NA & NA & NA & NA & NA & NA\\\\\n",
       "\tquantreg\\_CM & NA & NA & NA & NA & NA & NA & NA\\\\\n",
       "\tquantreg\\_SCM & NA & NA & NA & NA & NA & NA & NA\\\\\n",
       "\tquantreg\\_EM & NA & NA & NA & NA & NA & NA & NA\\\\\n",
       "\tquantreg\\_TE & NA & NA & NA & NA & NA & NA & NA\\\\\n",
       "\tquantreg\\_TIM & NA & NA & NA & NA & NA & NA & NA\\\\\n",
       "\tquantreg\\_LAG & NA & NA & NA & NA & NA & NA & NA\\\\\n",
       "\tquantreg\\_PD1 & NA & NA & NA & NA & NA & NA & NA\\\\\n",
       "\\end{tabular}\n"
      ],
      "text/markdown": [
       "\n",
       "A matrix: 11 x 7 of type lgl\n",
       "\n",
       "| <!--/--> | coef | exp(coef) | SE | z | Pr(&gt;|z|) | lower.95 | upper.95 |\n",
       "|---|---|---|---|---|---|---|---|\n",
       "| quantreg_Shannon | NA | NA | NA | NA | NA | NA | NA |\n",
       "| quantreg_cfShannon | NA | NA | NA | NA | NA | NA | NA |\n",
       "| quantreg_ATC | NA | NA | NA | NA | NA | NA | NA |\n",
       "| quantreg_N | NA | NA | NA | NA | NA | NA | NA |\n",
       "| quantreg_CM | NA | NA | NA | NA | NA | NA | NA |\n",
       "| quantreg_SCM | NA | NA | NA | NA | NA | NA | NA |\n",
       "| quantreg_EM | NA | NA | NA | NA | NA | NA | NA |\n",
       "| quantreg_TE | NA | NA | NA | NA | NA | NA | NA |\n",
       "| quantreg_TIM | NA | NA | NA | NA | NA | NA | NA |\n",
       "| quantreg_LAG | NA | NA | NA | NA | NA | NA | NA |\n",
       "| quantreg_PD1 | NA | NA | NA | NA | NA | NA | NA |\n",
       "\n"
      ],
      "text/plain": [
       "                   coef exp(coef) SE z  Pr(>|z|) lower.95 upper.95\n",
       "quantreg_Shannon   NA   NA        NA NA NA       NA       NA      \n",
       "quantreg_cfShannon NA   NA        NA NA NA       NA       NA      \n",
       "quantreg_ATC       NA   NA        NA NA NA       NA       NA      \n",
       "quantreg_N         NA   NA        NA NA NA       NA       NA      \n",
       "quantreg_CM        NA   NA        NA NA NA       NA       NA      \n",
       "quantreg_SCM       NA   NA        NA NA NA       NA       NA      \n",
       "quantreg_EM        NA   NA        NA NA NA       NA       NA      \n",
       "quantreg_TE        NA   NA        NA NA NA       NA       NA      \n",
       "quantreg_TIM       NA   NA        NA NA NA       NA       NA      \n",
       "quantreg_LAG       NA   NA        NA NA NA       NA       NA      \n",
       "quantreg_PD1       NA   NA        NA NA NA       NA       NA      "
      ]
     },
     "metadata": {},
     "output_type": "display_data"
    }
   ],
   "source": [
    "feat_lr_mat"
   ]
  },
  {
   "cell_type": "code",
   "execution_count": 56,
   "metadata": {
    "vscode": {
     "languageId": "r"
    }
   },
   "outputs": [],
   "source": [
    "for (i in rownames(feat_lr_mat)) {\n",
    "    # message(i)\n",
    "    f <- as.formula(paste0(\"Relapse~\", i, \"\")) # lets just do univariate\n",
    "    lrmodel <- glm(f, data = df_min2_pt, family = \"binomial\")\n",
    "    sumlrmodel <- summary(lrmodel)\n",
    "    # print(sumlrmodel)\n",
    "    myCI <- exp(confint.default(lrmodel, level = 0.95))\n",
    "\n",
    "    feat_lr_mat[i, \"coef\"] <- sumlrmodel$coefficients[2, \"Estimate\"]\n",
    "    # exp of estimate is the odds ratio\n",
    "    feat_lr_mat[i, \"exp(coef)\"] <- exp(sumlrmodel$coefficients[2, \"Estimate\"])\n",
    "    feat_lr_mat[i, \"SE\"] <- sumlrmodel$coefficients[2, \"Std. Error\"]\n",
    "    feat_lr_mat[i, \"z\"] <- sumlrmodel$coefficients[2, \"z value\"]\n",
    "    feat_lr_mat[i, \"Pr(>|z|)\"] <- sumlrmodel$coefficients[2, \"Pr(>|z|)\"]\n",
    "    # from myCI\n",
    "    feat_lr_mat[i, \"lower.95\"] <- myCI[2, 1]\n",
    "    feat_lr_mat[i, \"upper.95\"] <- myCI[2, 2]\n",
    "}\n"
   ]
  },
  {
   "cell_type": "code",
   "execution_count": 57,
   "metadata": {
    "vscode": {
     "languageId": "r"
    }
   },
   "outputs": [
    {
     "data": {
      "text/html": [
       "<table class=\"dataframe\">\n",
       "<caption>A matrix: 11 x 7 of type dbl</caption>\n",
       "<thead>\n",
       "\t<tr><th></th><th scope=col>coef</th><th scope=col>exp(coef)</th><th scope=col>SE</th><th scope=col>z</th><th scope=col>Pr(&gt;|z|)</th><th scope=col>lower.95</th><th scope=col>upper.95</th></tr>\n",
       "</thead>\n",
       "<tbody>\n",
       "\t<tr><th scope=row>quantreg_Shannon</th><td> 0.001913041</td><td>1.0019149</td><td>0.005446435</td><td> 0.3512465</td><td>0.7254034</td><td>0.9912765</td><td>1.012667</td></tr>\n",
       "\t<tr><th scope=row>quantreg_cfShannon</th><td> 0.042255542</td><td>1.0431610</td><td>0.257068408</td><td> 0.1643747</td><td>0.8694362</td><td>0.6302812</td><td>1.726507</td></tr>\n",
       "\t<tr><th scope=row>quantreg_ATC</th><td> 0.002657979</td><td>1.0026615</td><td>0.004079771</td><td> 0.6515019</td><td>0.5147225</td><td>0.9946760</td><td>1.010711</td></tr>\n",
       "\t<tr><th scope=row>quantreg_N</th><td>-0.035787994</td><td>0.9648448</td><td>0.044648869</td><td>-0.8015431</td><td>0.4228173</td><td>0.8840000</td><td>1.053083</td></tr>\n",
       "\t<tr><th scope=row>quantreg_CM</th><td> 0.067199024</td><td>1.0695083</td><td>0.042561642</td><td> 1.5788635</td><td>0.1143674</td><td>0.9839106</td><td>1.162553</td></tr>\n",
       "\t<tr><th scope=row>quantreg_SCM</th><td>-0.035472382</td><td>0.9651494</td><td>0.083814848</td><td>-0.4232231</td><td>0.6721325</td><td>0.8189384</td><td>1.137465</td></tr>\n",
       "\t<tr><th scope=row>quantreg_EM</th><td> 0.157997086</td><td>1.1711628</td><td>0.130558635</td><td> 1.2101619</td><td>0.2262168</td><td>0.9067458</td><td>1.512687</td></tr>\n",
       "\t<tr><th scope=row>quantreg_TE</th><td>-0.028011483</td><td>0.9723772</td><td>0.032513585</td><td>-0.8615317</td><td>0.3889453</td><td>0.9123451</td><td>1.036359</td></tr>\n",
       "\t<tr><th scope=row>quantreg_TIM</th><td>-0.042439051</td><td>0.9584489</td><td>0.069642210</td><td>-0.6093869</td><td>0.5422680</td><td>0.8361600</td><td>1.098623</td></tr>\n",
       "\t<tr><th scope=row>quantreg_LAG</th><td> 0.040509058</td><td>1.0413407</td><td>0.111267070</td><td> 0.3640705</td><td>0.7158054</td><td>0.8373021</td><td>1.295101</td></tr>\n",
       "\t<tr><th scope=row>quantreg_PD1</th><td>-0.037943646</td><td>0.9627672</td><td>0.066957316</td><td>-0.5666841</td><td>0.5709288</td><td>0.8443590</td><td>1.097780</td></tr>\n",
       "</tbody>\n",
       "</table>\n"
      ],
      "text/latex": [
       "A matrix: 11 x 7 of type dbl\n",
       "\\begin{tabular}{r|lllllll}\n",
       "  & coef & exp(coef) & SE & z & Pr(>\\textbar{}z\\textbar{}) & lower.95 & upper.95\\\\\n",
       "\\hline\n",
       "\tquantreg\\_Shannon &  0.001913041 & 1.0019149 & 0.005446435 &  0.3512465 & 0.7254034 & 0.9912765 & 1.012667\\\\\n",
       "\tquantreg\\_cfShannon &  0.042255542 & 1.0431610 & 0.257068408 &  0.1643747 & 0.8694362 & 0.6302812 & 1.726507\\\\\n",
       "\tquantreg\\_ATC &  0.002657979 & 1.0026615 & 0.004079771 &  0.6515019 & 0.5147225 & 0.9946760 & 1.010711\\\\\n",
       "\tquantreg\\_N & -0.035787994 & 0.9648448 & 0.044648869 & -0.8015431 & 0.4228173 & 0.8840000 & 1.053083\\\\\n",
       "\tquantreg\\_CM &  0.067199024 & 1.0695083 & 0.042561642 &  1.5788635 & 0.1143674 & 0.9839106 & 1.162553\\\\\n",
       "\tquantreg\\_SCM & -0.035472382 & 0.9651494 & 0.083814848 & -0.4232231 & 0.6721325 & 0.8189384 & 1.137465\\\\\n",
       "\tquantreg\\_EM &  0.157997086 & 1.1711628 & 0.130558635 &  1.2101619 & 0.2262168 & 0.9067458 & 1.512687\\\\\n",
       "\tquantreg\\_TE & -0.028011483 & 0.9723772 & 0.032513585 & -0.8615317 & 0.3889453 & 0.9123451 & 1.036359\\\\\n",
       "\tquantreg\\_TIM & -0.042439051 & 0.9584489 & 0.069642210 & -0.6093869 & 0.5422680 & 0.8361600 & 1.098623\\\\\n",
       "\tquantreg\\_LAG &  0.040509058 & 1.0413407 & 0.111267070 &  0.3640705 & 0.7158054 & 0.8373021 & 1.295101\\\\\n",
       "\tquantreg\\_PD1 & -0.037943646 & 0.9627672 & 0.066957316 & -0.5666841 & 0.5709288 & 0.8443590 & 1.097780\\\\\n",
       "\\end{tabular}\n"
      ],
      "text/markdown": [
       "\n",
       "A matrix: 11 x 7 of type dbl\n",
       "\n",
       "| <!--/--> | coef | exp(coef) | SE | z | Pr(&gt;|z|) | lower.95 | upper.95 |\n",
       "|---|---|---|---|---|---|---|---|\n",
       "| quantreg_Shannon |  0.001913041 | 1.0019149 | 0.005446435 |  0.3512465 | 0.7254034 | 0.9912765 | 1.012667 |\n",
       "| quantreg_cfShannon |  0.042255542 | 1.0431610 | 0.257068408 |  0.1643747 | 0.8694362 | 0.6302812 | 1.726507 |\n",
       "| quantreg_ATC |  0.002657979 | 1.0026615 | 0.004079771 |  0.6515019 | 0.5147225 | 0.9946760 | 1.010711 |\n",
       "| quantreg_N | -0.035787994 | 0.9648448 | 0.044648869 | -0.8015431 | 0.4228173 | 0.8840000 | 1.053083 |\n",
       "| quantreg_CM |  0.067199024 | 1.0695083 | 0.042561642 |  1.5788635 | 0.1143674 | 0.9839106 | 1.162553 |\n",
       "| quantreg_SCM | -0.035472382 | 0.9651494 | 0.083814848 | -0.4232231 | 0.6721325 | 0.8189384 | 1.137465 |\n",
       "| quantreg_EM |  0.157997086 | 1.1711628 | 0.130558635 |  1.2101619 | 0.2262168 | 0.9067458 | 1.512687 |\n",
       "| quantreg_TE | -0.028011483 | 0.9723772 | 0.032513585 | -0.8615317 | 0.3889453 | 0.9123451 | 1.036359 |\n",
       "| quantreg_TIM | -0.042439051 | 0.9584489 | 0.069642210 | -0.6093869 | 0.5422680 | 0.8361600 | 1.098623 |\n",
       "| quantreg_LAG |  0.040509058 | 1.0413407 | 0.111267070 |  0.3640705 | 0.7158054 | 0.8373021 | 1.295101 |\n",
       "| quantreg_PD1 | -0.037943646 | 0.9627672 | 0.066957316 | -0.5666841 | 0.5709288 | 0.8443590 | 1.097780 |\n",
       "\n"
      ],
      "text/plain": [
       "                   coef         exp(coef) SE          z          Pr(>|z|) \n",
       "quantreg_Shannon    0.001913041 1.0019149 0.005446435  0.3512465 0.7254034\n",
       "quantreg_cfShannon  0.042255542 1.0431610 0.257068408  0.1643747 0.8694362\n",
       "quantreg_ATC        0.002657979 1.0026615 0.004079771  0.6515019 0.5147225\n",
       "quantreg_N         -0.035787994 0.9648448 0.044648869 -0.8015431 0.4228173\n",
       "quantreg_CM         0.067199024 1.0695083 0.042561642  1.5788635 0.1143674\n",
       "quantreg_SCM       -0.035472382 0.9651494 0.083814848 -0.4232231 0.6721325\n",
       "quantreg_EM         0.157997086 1.1711628 0.130558635  1.2101619 0.2262168\n",
       "quantreg_TE        -0.028011483 0.9723772 0.032513585 -0.8615317 0.3889453\n",
       "quantreg_TIM       -0.042439051 0.9584489 0.069642210 -0.6093869 0.5422680\n",
       "quantreg_LAG        0.040509058 1.0413407 0.111267070  0.3640705 0.7158054\n",
       "quantreg_PD1       -0.037943646 0.9627672 0.066957316 -0.5666841 0.5709288\n",
       "                   lower.95  upper.95\n",
       "quantreg_Shannon   0.9912765 1.012667\n",
       "quantreg_cfShannon 0.6302812 1.726507\n",
       "quantreg_ATC       0.9946760 1.010711\n",
       "quantreg_N         0.8840000 1.053083\n",
       "quantreg_CM        0.9839106 1.162553\n",
       "quantreg_SCM       0.8189384 1.137465\n",
       "quantreg_EM        0.9067458 1.512687\n",
       "quantreg_TE        0.9123451 1.036359\n",
       "quantreg_TIM       0.8361600 1.098623\n",
       "quantreg_LAG       0.8373021 1.295101\n",
       "quantreg_PD1       0.8443590 1.097780"
      ]
     },
     "metadata": {},
     "output_type": "display_data"
    }
   ],
   "source": [
    "feat_lr_mat"
   ]
  },
  {
   "cell_type": "code",
   "execution_count": 58,
   "metadata": {
    "vscode": {
     "languageId": "r"
    }
   },
   "outputs": [],
   "source": [
    "fdr_df <- as.matrix(p.adjust(feat_lr_mat[,5], method = \"fdr\"))\n",
    "colnames(fdr_df)[1] <- \"fdr\"\n",
    "feat_lr_mat <- cbind(feat_lr_mat, fdr_df)"
   ]
  },
  {
   "cell_type": "code",
   "execution_count": 59,
   "metadata": {
    "vscode": {
     "languageId": "r"
    }
   },
   "outputs": [],
   "source": [
    "feat_lr_mat <- as.data.frame(feat_lr_mat)"
   ]
  },
  {
   "cell_type": "code",
   "execution_count": 60,
   "metadata": {
    "vscode": {
     "languageId": "r"
    }
   },
   "outputs": [],
   "source": [
    "feat_lr_mat$Feature <- gsub(\"quantreg_\", \"\", rownames(feat_lr_mat))\n",
    "# feat_lr_mat$Feature <- gsub(\"_rank\", \"\", feat_lr_mat$Feature)"
   ]
  },
  {
   "cell_type": "code",
   "execution_count": 61,
   "metadata": {
    "vscode": {
     "languageId": "r"
    }
   },
   "outputs": [
    {
     "data": {
      "text/html": [
       "<table class=\"dataframe\">\n",
       "<caption>A data.frame: 11 x 9</caption>\n",
       "<thead>\n",
       "\t<tr><th></th><th scope=col>coef</th><th scope=col>exp(coef)</th><th scope=col>SE</th><th scope=col>z</th><th scope=col>Pr(&gt;|z|)</th><th scope=col>lower.95</th><th scope=col>upper.95</th><th scope=col>fdr</th><th scope=col>Feature</th></tr>\n",
       "\t<tr><th></th><th scope=col>&lt;dbl&gt;</th><th scope=col>&lt;dbl&gt;</th><th scope=col>&lt;dbl&gt;</th><th scope=col>&lt;dbl&gt;</th><th scope=col>&lt;dbl&gt;</th><th scope=col>&lt;dbl&gt;</th><th scope=col>&lt;dbl&gt;</th><th scope=col>&lt;dbl&gt;</th><th scope=col>&lt;chr&gt;</th></tr>\n",
       "</thead>\n",
       "<tbody>\n",
       "\t<tr><th scope=row>quantreg_Shannon</th><td> 0.001913041</td><td>1.0019149</td><td>0.005446435</td><td> 0.3512465</td><td>0.7254034</td><td>0.9912765</td><td>1.012667</td><td>0.7979438</td><td>Shannon  </td></tr>\n",
       "\t<tr><th scope=row>quantreg_cfShannon</th><td> 0.042255542</td><td>1.0431610</td><td>0.257068408</td><td> 0.1643747</td><td>0.8694362</td><td>0.6302812</td><td>1.726507</td><td>0.8694362</td><td>cfShannon</td></tr>\n",
       "\t<tr><th scope=row>quantreg_ATC</th><td> 0.002657979</td><td>1.0026615</td><td>0.004079771</td><td> 0.6515019</td><td>0.5147225</td><td>0.9946760</td><td>1.010711</td><td>0.7979438</td><td>ATC      </td></tr>\n",
       "\t<tr><th scope=row>quantreg_N</th><td>-0.035787994</td><td>0.9648448</td><td>0.044648869</td><td>-0.8015431</td><td>0.4228173</td><td>0.8840000</td><td>1.053083</td><td>0.7979438</td><td>N        </td></tr>\n",
       "\t<tr><th scope=row>quantreg_CM</th><td> 0.067199024</td><td>1.0695083</td><td>0.042561642</td><td> 1.5788635</td><td>0.1143674</td><td>0.9839106</td><td>1.162553</td><td>0.7979438</td><td>CM       </td></tr>\n",
       "\t<tr><th scope=row>quantreg_SCM</th><td>-0.035472382</td><td>0.9651494</td><td>0.083814848</td><td>-0.4232231</td><td>0.6721325</td><td>0.8189384</td><td>1.137465</td><td>0.7979438</td><td>SCM      </td></tr>\n",
       "\t<tr><th scope=row>quantreg_EM</th><td> 0.157997086</td><td>1.1711628</td><td>0.130558635</td><td> 1.2101619</td><td>0.2262168</td><td>0.9067458</td><td>1.512687</td><td>0.7979438</td><td>EM       </td></tr>\n",
       "\t<tr><th scope=row>quantreg_TE</th><td>-0.028011483</td><td>0.9723772</td><td>0.032513585</td><td>-0.8615317</td><td>0.3889453</td><td>0.9123451</td><td>1.036359</td><td>0.7979438</td><td>TE       </td></tr>\n",
       "\t<tr><th scope=row>quantreg_TIM</th><td>-0.042439051</td><td>0.9584489</td><td>0.069642210</td><td>-0.6093869</td><td>0.5422680</td><td>0.8361600</td><td>1.098623</td><td>0.7979438</td><td>TIM      </td></tr>\n",
       "\t<tr><th scope=row>quantreg_LAG</th><td> 0.040509058</td><td>1.0413407</td><td>0.111267070</td><td> 0.3640705</td><td>0.7158054</td><td>0.8373021</td><td>1.295101</td><td>0.7979438</td><td>LAG      </td></tr>\n",
       "\t<tr><th scope=row>quantreg_PD1</th><td>-0.037943646</td><td>0.9627672</td><td>0.066957316</td><td>-0.5666841</td><td>0.5709288</td><td>0.8443590</td><td>1.097780</td><td>0.7979438</td><td>PD1      </td></tr>\n",
       "</tbody>\n",
       "</table>\n"
      ],
      "text/latex": [
       "A data.frame: 11 x 9\n",
       "\\begin{tabular}{r|lllllllll}\n",
       "  & coef & exp(coef) & SE & z & Pr(>\\textbar{}z\\textbar{}) & lower.95 & upper.95 & fdr & Feature\\\\\n",
       "  & <dbl> & <dbl> & <dbl> & <dbl> & <dbl> & <dbl> & <dbl> & <dbl> & <chr>\\\\\n",
       "\\hline\n",
       "\tquantreg\\_Shannon &  0.001913041 & 1.0019149 & 0.005446435 &  0.3512465 & 0.7254034 & 0.9912765 & 1.012667 & 0.7979438 & Shannon  \\\\\n",
       "\tquantreg\\_cfShannon &  0.042255542 & 1.0431610 & 0.257068408 &  0.1643747 & 0.8694362 & 0.6302812 & 1.726507 & 0.8694362 & cfShannon\\\\\n",
       "\tquantreg\\_ATC &  0.002657979 & 1.0026615 & 0.004079771 &  0.6515019 & 0.5147225 & 0.9946760 & 1.010711 & 0.7979438 & ATC      \\\\\n",
       "\tquantreg\\_N & -0.035787994 & 0.9648448 & 0.044648869 & -0.8015431 & 0.4228173 & 0.8840000 & 1.053083 & 0.7979438 & N        \\\\\n",
       "\tquantreg\\_CM &  0.067199024 & 1.0695083 & 0.042561642 &  1.5788635 & 0.1143674 & 0.9839106 & 1.162553 & 0.7979438 & CM       \\\\\n",
       "\tquantreg\\_SCM & -0.035472382 & 0.9651494 & 0.083814848 & -0.4232231 & 0.6721325 & 0.8189384 & 1.137465 & 0.7979438 & SCM      \\\\\n",
       "\tquantreg\\_EM &  0.157997086 & 1.1711628 & 0.130558635 &  1.2101619 & 0.2262168 & 0.9067458 & 1.512687 & 0.7979438 & EM       \\\\\n",
       "\tquantreg\\_TE & -0.028011483 & 0.9723772 & 0.032513585 & -0.8615317 & 0.3889453 & 0.9123451 & 1.036359 & 0.7979438 & TE       \\\\\n",
       "\tquantreg\\_TIM & -0.042439051 & 0.9584489 & 0.069642210 & -0.6093869 & 0.5422680 & 0.8361600 & 1.098623 & 0.7979438 & TIM      \\\\\n",
       "\tquantreg\\_LAG &  0.040509058 & 1.0413407 & 0.111267070 &  0.3640705 & 0.7158054 & 0.8373021 & 1.295101 & 0.7979438 & LAG      \\\\\n",
       "\tquantreg\\_PD1 & -0.037943646 & 0.9627672 & 0.066957316 & -0.5666841 & 0.5709288 & 0.8443590 & 1.097780 & 0.7979438 & PD1      \\\\\n",
       "\\end{tabular}\n"
      ],
      "text/markdown": [
       "\n",
       "A data.frame: 11 x 9\n",
       "\n",
       "| <!--/--> | coef &lt;dbl&gt; | exp(coef) &lt;dbl&gt; | SE &lt;dbl&gt; | z &lt;dbl&gt; | Pr(&gt;|z|) &lt;dbl&gt; | lower.95 &lt;dbl&gt; | upper.95 &lt;dbl&gt; | fdr &lt;dbl&gt; | Feature &lt;chr&gt; |\n",
       "|---|---|---|---|---|---|---|---|---|---|\n",
       "| quantreg_Shannon |  0.001913041 | 1.0019149 | 0.005446435 |  0.3512465 | 0.7254034 | 0.9912765 | 1.012667 | 0.7979438 | Shannon   |\n",
       "| quantreg_cfShannon |  0.042255542 | 1.0431610 | 0.257068408 |  0.1643747 | 0.8694362 | 0.6302812 | 1.726507 | 0.8694362 | cfShannon |\n",
       "| quantreg_ATC |  0.002657979 | 1.0026615 | 0.004079771 |  0.6515019 | 0.5147225 | 0.9946760 | 1.010711 | 0.7979438 | ATC       |\n",
       "| quantreg_N | -0.035787994 | 0.9648448 | 0.044648869 | -0.8015431 | 0.4228173 | 0.8840000 | 1.053083 | 0.7979438 | N         |\n",
       "| quantreg_CM |  0.067199024 | 1.0695083 | 0.042561642 |  1.5788635 | 0.1143674 | 0.9839106 | 1.162553 | 0.7979438 | CM        |\n",
       "| quantreg_SCM | -0.035472382 | 0.9651494 | 0.083814848 | -0.4232231 | 0.6721325 | 0.8189384 | 1.137465 | 0.7979438 | SCM       |\n",
       "| quantreg_EM |  0.157997086 | 1.1711628 | 0.130558635 |  1.2101619 | 0.2262168 | 0.9067458 | 1.512687 | 0.7979438 | EM        |\n",
       "| quantreg_TE | -0.028011483 | 0.9723772 | 0.032513585 | -0.8615317 | 0.3889453 | 0.9123451 | 1.036359 | 0.7979438 | TE        |\n",
       "| quantreg_TIM | -0.042439051 | 0.9584489 | 0.069642210 | -0.6093869 | 0.5422680 | 0.8361600 | 1.098623 | 0.7979438 | TIM       |\n",
       "| quantreg_LAG |  0.040509058 | 1.0413407 | 0.111267070 |  0.3640705 | 0.7158054 | 0.8373021 | 1.295101 | 0.7979438 | LAG       |\n",
       "| quantreg_PD1 | -0.037943646 | 0.9627672 | 0.066957316 | -0.5666841 | 0.5709288 | 0.8443590 | 1.097780 | 0.7979438 | PD1       |\n",
       "\n"
      ],
      "text/plain": [
       "                   coef         exp(coef) SE          z          Pr(>|z|) \n",
       "quantreg_Shannon    0.001913041 1.0019149 0.005446435  0.3512465 0.7254034\n",
       "quantreg_cfShannon  0.042255542 1.0431610 0.257068408  0.1643747 0.8694362\n",
       "quantreg_ATC        0.002657979 1.0026615 0.004079771  0.6515019 0.5147225\n",
       "quantreg_N         -0.035787994 0.9648448 0.044648869 -0.8015431 0.4228173\n",
       "quantreg_CM         0.067199024 1.0695083 0.042561642  1.5788635 0.1143674\n",
       "quantreg_SCM       -0.035472382 0.9651494 0.083814848 -0.4232231 0.6721325\n",
       "quantreg_EM         0.157997086 1.1711628 0.130558635  1.2101619 0.2262168\n",
       "quantreg_TE        -0.028011483 0.9723772 0.032513585 -0.8615317 0.3889453\n",
       "quantreg_TIM       -0.042439051 0.9584489 0.069642210 -0.6093869 0.5422680\n",
       "quantreg_LAG        0.040509058 1.0413407 0.111267070  0.3640705 0.7158054\n",
       "quantreg_PD1       -0.037943646 0.9627672 0.066957316 -0.5666841 0.5709288\n",
       "                   lower.95  upper.95 fdr       Feature  \n",
       "quantreg_Shannon   0.9912765 1.012667 0.7979438 Shannon  \n",
       "quantreg_cfShannon 0.6302812 1.726507 0.8694362 cfShannon\n",
       "quantreg_ATC       0.9946760 1.010711 0.7979438 ATC      \n",
       "quantreg_N         0.8840000 1.053083 0.7979438 N        \n",
       "quantreg_CM        0.9839106 1.162553 0.7979438 CM       \n",
       "quantreg_SCM       0.8189384 1.137465 0.7979438 SCM      \n",
       "quantreg_EM        0.9067458 1.512687 0.7979438 EM       \n",
       "quantreg_TE        0.9123451 1.036359 0.7979438 TE       \n",
       "quantreg_TIM       0.8361600 1.098623 0.7979438 TIM      \n",
       "quantreg_LAG       0.8373021 1.295101 0.7979438 LAG      \n",
       "quantreg_PD1       0.8443590 1.097780 0.7979438 PD1      "
      ]
     },
     "metadata": {},
     "output_type": "display_data"
    }
   ],
   "source": [
    "(feat_lr_mat)"
   ]
  },
  {
   "cell_type": "code",
   "execution_count": 62,
   "metadata": {
    "vscode": {
     "languageId": "r"
    }
   },
   "outputs": [],
   "source": [
    "feat_lr_mat$Feature[ feat_lr_mat$Feature == \"N\"] <- \"Naïve%\"\n",
    "feat_lr_mat$Feature[ feat_lr_mat$Feature == \"SCM\"] <- \"SCM%\"\n",
    "feat_lr_mat$Feature[ feat_lr_mat$Feature == \"CM\"] <- \"CM%\"\n",
    "feat_lr_mat$Feature[ feat_lr_mat$Feature == \"EM\"] <- \"EM%\"\n",
    "feat_lr_mat$Feature[ feat_lr_mat$Feature == \"TE\"] <- \"TE%\"\n",
    "feat_lr_mat$Feature[ feat_lr_mat$Feature == \"PD1\"] <- \"PD1%\"\n",
    "feat_lr_mat$Feature[ feat_lr_mat$Feature == \"LAG\"] <- \"LAG3%\"\n",
    "feat_lr_mat$Feature[ feat_lr_mat$Feature == \"TIM\"] <- \"TIM3%\"\n",
    "feat_lr_mat$Feature[ feat_lr_mat$Feature == \"Shannon\"] <- \"TCR Shannon\"\n",
    "feat_lr_mat$Feature[ feat_lr_mat$Feature == \"cfShannon\"] <- \"cfTCR Shannon\""
   ]
  },
  {
   "cell_type": "code",
   "execution_count": 63,
   "metadata": {
    "vscode": {
     "languageId": "r"
    }
   },
   "outputs": [],
   "source": [
    "feat_lr_mat$Feature <- factor(feat_lr_mat$Feature,\n",
    "  levels = c(\"cfTCR Shannon\", \"TCR Shannon\",\"LAG3%\",\"TIM3%\",  \"PD1%\", \"TE%\", \"EM%\", \"CM%\", \"SCM%\", \"Naïve%\", \"ATC\")\n",
    ")\n",
    "\n",
    "# reverse the levels\n",
    "feat_lr_mat$Feature <- factor(feat_lr_mat$Feature,\n",
    "  levels = rev(levels(feat_lr_mat$Feature))\n",
    ")"
   ]
  },
  {
   "cell_type": "code",
   "execution_count": 64,
   "metadata": {
    "vscode": {
     "languageId": "r"
    }
   },
   "outputs": [],
   "source": [
    "# order mat by Feature levels\n",
    "feat_lr_mat <- feat_lr_mat[ order(feat_lr_mat$Feature), ]"
   ]
  },
  {
   "cell_type": "code",
   "execution_count": 65,
   "metadata": {
    "vscode": {
     "languageId": "r"
    }
   },
   "outputs": [
    {
     "data": {
      "text/html": [
       "<table class=\"dataframe\">\n",
       "<caption>A data.frame: 11 x 9</caption>\n",
       "<thead>\n",
       "\t<tr><th></th><th scope=col>coef</th><th scope=col>exp(coef)</th><th scope=col>SE</th><th scope=col>z</th><th scope=col>Pr(&gt;|z|)</th><th scope=col>lower.95</th><th scope=col>upper.95</th><th scope=col>fdr</th><th scope=col>Feature</th></tr>\n",
       "\t<tr><th></th><th scope=col>&lt;dbl&gt;</th><th scope=col>&lt;dbl&gt;</th><th scope=col>&lt;dbl&gt;</th><th scope=col>&lt;dbl&gt;</th><th scope=col>&lt;dbl&gt;</th><th scope=col>&lt;dbl&gt;</th><th scope=col>&lt;dbl&gt;</th><th scope=col>&lt;dbl&gt;</th><th scope=col>&lt;fct&gt;</th></tr>\n",
       "</thead>\n",
       "<tbody>\n",
       "\t<tr><th scope=row>quantreg_ATC</th><td> 0.002657979</td><td>1.0026615</td><td>0.004079771</td><td> 0.6515019</td><td>0.5147225</td><td>0.9946760</td><td>1.010711</td><td>0.7979438</td><td>ATC          </td></tr>\n",
       "\t<tr><th scope=row>quantreg_N</th><td>-0.035787994</td><td>0.9648448</td><td>0.044648869</td><td>-0.8015431</td><td>0.4228173</td><td>0.8840000</td><td>1.053083</td><td>0.7979438</td><td>Naïve%       </td></tr>\n",
       "\t<tr><th scope=row>quantreg_SCM</th><td>-0.035472382</td><td>0.9651494</td><td>0.083814848</td><td>-0.4232231</td><td>0.6721325</td><td>0.8189384</td><td>1.137465</td><td>0.7979438</td><td>SCM%         </td></tr>\n",
       "\t<tr><th scope=row>quantreg_CM</th><td> 0.067199024</td><td>1.0695083</td><td>0.042561642</td><td> 1.5788635</td><td>0.1143674</td><td>0.9839106</td><td>1.162553</td><td>0.7979438</td><td>CM%          </td></tr>\n",
       "\t<tr><th scope=row>quantreg_EM</th><td> 0.157997086</td><td>1.1711628</td><td>0.130558635</td><td> 1.2101619</td><td>0.2262168</td><td>0.9067458</td><td>1.512687</td><td>0.7979438</td><td>EM%          </td></tr>\n",
       "\t<tr><th scope=row>quantreg_TE</th><td>-0.028011483</td><td>0.9723772</td><td>0.032513585</td><td>-0.8615317</td><td>0.3889453</td><td>0.9123451</td><td>1.036359</td><td>0.7979438</td><td>TE%          </td></tr>\n",
       "\t<tr><th scope=row>quantreg_PD1</th><td>-0.037943646</td><td>0.9627672</td><td>0.066957316</td><td>-0.5666841</td><td>0.5709288</td><td>0.8443590</td><td>1.097780</td><td>0.7979438</td><td>PD1%         </td></tr>\n",
       "\t<tr><th scope=row>quantreg_TIM</th><td>-0.042439051</td><td>0.9584489</td><td>0.069642210</td><td>-0.6093869</td><td>0.5422680</td><td>0.8361600</td><td>1.098623</td><td>0.7979438</td><td>TIM3%        </td></tr>\n",
       "\t<tr><th scope=row>quantreg_LAG</th><td> 0.040509058</td><td>1.0413407</td><td>0.111267070</td><td> 0.3640705</td><td>0.7158054</td><td>0.8373021</td><td>1.295101</td><td>0.7979438</td><td>LAG3%        </td></tr>\n",
       "\t<tr><th scope=row>quantreg_Shannon</th><td> 0.001913041</td><td>1.0019149</td><td>0.005446435</td><td> 0.3512465</td><td>0.7254034</td><td>0.9912765</td><td>1.012667</td><td>0.7979438</td><td>TCR Shannon  </td></tr>\n",
       "\t<tr><th scope=row>quantreg_cfShannon</th><td> 0.042255542</td><td>1.0431610</td><td>0.257068408</td><td> 0.1643747</td><td>0.8694362</td><td>0.6302812</td><td>1.726507</td><td>0.8694362</td><td>cfTCR Shannon</td></tr>\n",
       "</tbody>\n",
       "</table>\n"
      ],
      "text/latex": [
       "A data.frame: 11 x 9\n",
       "\\begin{tabular}{r|lllllllll}\n",
       "  & coef & exp(coef) & SE & z & Pr(>\\textbar{}z\\textbar{}) & lower.95 & upper.95 & fdr & Feature\\\\\n",
       "  & <dbl> & <dbl> & <dbl> & <dbl> & <dbl> & <dbl> & <dbl> & <dbl> & <fct>\\\\\n",
       "\\hline\n",
       "\tquantreg\\_ATC &  0.002657979 & 1.0026615 & 0.004079771 &  0.6515019 & 0.5147225 & 0.9946760 & 1.010711 & 0.7979438 & ATC          \\\\\n",
       "\tquantreg\\_N & -0.035787994 & 0.9648448 & 0.044648869 & -0.8015431 & 0.4228173 & 0.8840000 & 1.053083 & 0.7979438 & Naïve\\%       \\\\\n",
       "\tquantreg\\_SCM & -0.035472382 & 0.9651494 & 0.083814848 & -0.4232231 & 0.6721325 & 0.8189384 & 1.137465 & 0.7979438 & SCM\\%         \\\\\n",
       "\tquantreg\\_CM &  0.067199024 & 1.0695083 & 0.042561642 &  1.5788635 & 0.1143674 & 0.9839106 & 1.162553 & 0.7979438 & CM\\%          \\\\\n",
       "\tquantreg\\_EM &  0.157997086 & 1.1711628 & 0.130558635 &  1.2101619 & 0.2262168 & 0.9067458 & 1.512687 & 0.7979438 & EM\\%          \\\\\n",
       "\tquantreg\\_TE & -0.028011483 & 0.9723772 & 0.032513585 & -0.8615317 & 0.3889453 & 0.9123451 & 1.036359 & 0.7979438 & TE\\%          \\\\\n",
       "\tquantreg\\_PD1 & -0.037943646 & 0.9627672 & 0.066957316 & -0.5666841 & 0.5709288 & 0.8443590 & 1.097780 & 0.7979438 & PD1\\%         \\\\\n",
       "\tquantreg\\_TIM & -0.042439051 & 0.9584489 & 0.069642210 & -0.6093869 & 0.5422680 & 0.8361600 & 1.098623 & 0.7979438 & TIM3\\%        \\\\\n",
       "\tquantreg\\_LAG &  0.040509058 & 1.0413407 & 0.111267070 &  0.3640705 & 0.7158054 & 0.8373021 & 1.295101 & 0.7979438 & LAG3\\%        \\\\\n",
       "\tquantreg\\_Shannon &  0.001913041 & 1.0019149 & 0.005446435 &  0.3512465 & 0.7254034 & 0.9912765 & 1.012667 & 0.7979438 & TCR Shannon  \\\\\n",
       "\tquantreg\\_cfShannon &  0.042255542 & 1.0431610 & 0.257068408 &  0.1643747 & 0.8694362 & 0.6302812 & 1.726507 & 0.8694362 & cfTCR Shannon\\\\\n",
       "\\end{tabular}\n"
      ],
      "text/markdown": [
       "\n",
       "A data.frame: 11 x 9\n",
       "\n",
       "| <!--/--> | coef &lt;dbl&gt; | exp(coef) &lt;dbl&gt; | SE &lt;dbl&gt; | z &lt;dbl&gt; | Pr(&gt;|z|) &lt;dbl&gt; | lower.95 &lt;dbl&gt; | upper.95 &lt;dbl&gt; | fdr &lt;dbl&gt; | Feature &lt;fct&gt; |\n",
       "|---|---|---|---|---|---|---|---|---|---|\n",
       "| quantreg_ATC |  0.002657979 | 1.0026615 | 0.004079771 |  0.6515019 | 0.5147225 | 0.9946760 | 1.010711 | 0.7979438 | ATC           |\n",
       "| quantreg_N | -0.035787994 | 0.9648448 | 0.044648869 | -0.8015431 | 0.4228173 | 0.8840000 | 1.053083 | 0.7979438 | Naïve%        |\n",
       "| quantreg_SCM | -0.035472382 | 0.9651494 | 0.083814848 | -0.4232231 | 0.6721325 | 0.8189384 | 1.137465 | 0.7979438 | SCM%          |\n",
       "| quantreg_CM |  0.067199024 | 1.0695083 | 0.042561642 |  1.5788635 | 0.1143674 | 0.9839106 | 1.162553 | 0.7979438 | CM%           |\n",
       "| quantreg_EM |  0.157997086 | 1.1711628 | 0.130558635 |  1.2101619 | 0.2262168 | 0.9067458 | 1.512687 | 0.7979438 | EM%           |\n",
       "| quantreg_TE | -0.028011483 | 0.9723772 | 0.032513585 | -0.8615317 | 0.3889453 | 0.9123451 | 1.036359 | 0.7979438 | TE%           |\n",
       "| quantreg_PD1 | -0.037943646 | 0.9627672 | 0.066957316 | -0.5666841 | 0.5709288 | 0.8443590 | 1.097780 | 0.7979438 | PD1%          |\n",
       "| quantreg_TIM | -0.042439051 | 0.9584489 | 0.069642210 | -0.6093869 | 0.5422680 | 0.8361600 | 1.098623 | 0.7979438 | TIM3%         |\n",
       "| quantreg_LAG |  0.040509058 | 1.0413407 | 0.111267070 |  0.3640705 | 0.7158054 | 0.8373021 | 1.295101 | 0.7979438 | LAG3%         |\n",
       "| quantreg_Shannon |  0.001913041 | 1.0019149 | 0.005446435 |  0.3512465 | 0.7254034 | 0.9912765 | 1.012667 | 0.7979438 | TCR Shannon   |\n",
       "| quantreg_cfShannon |  0.042255542 | 1.0431610 | 0.257068408 |  0.1643747 | 0.8694362 | 0.6302812 | 1.726507 | 0.8694362 | cfTCR Shannon |\n",
       "\n"
      ],
      "text/plain": [
       "                   coef         exp(coef) SE          z          Pr(>|z|) \n",
       "quantreg_ATC        0.002657979 1.0026615 0.004079771  0.6515019 0.5147225\n",
       "quantreg_N         -0.035787994 0.9648448 0.044648869 -0.8015431 0.4228173\n",
       "quantreg_SCM       -0.035472382 0.9651494 0.083814848 -0.4232231 0.6721325\n",
       "quantreg_CM         0.067199024 1.0695083 0.042561642  1.5788635 0.1143674\n",
       "quantreg_EM         0.157997086 1.1711628 0.130558635  1.2101619 0.2262168\n",
       "quantreg_TE        -0.028011483 0.9723772 0.032513585 -0.8615317 0.3889453\n",
       "quantreg_PD1       -0.037943646 0.9627672 0.066957316 -0.5666841 0.5709288\n",
       "quantreg_TIM       -0.042439051 0.9584489 0.069642210 -0.6093869 0.5422680\n",
       "quantreg_LAG        0.040509058 1.0413407 0.111267070  0.3640705 0.7158054\n",
       "quantreg_Shannon    0.001913041 1.0019149 0.005446435  0.3512465 0.7254034\n",
       "quantreg_cfShannon  0.042255542 1.0431610 0.257068408  0.1643747 0.8694362\n",
       "                   lower.95  upper.95 fdr       Feature      \n",
       "quantreg_ATC       0.9946760 1.010711 0.7979438 ATC          \n",
       "quantreg_N         0.8840000 1.053083 0.7979438 Naïve%       \n",
       "quantreg_SCM       0.8189384 1.137465 0.7979438 SCM%         \n",
       "quantreg_CM        0.9839106 1.162553 0.7979438 CM%          \n",
       "quantreg_EM        0.9067458 1.512687 0.7979438 EM%          \n",
       "quantreg_TE        0.9123451 1.036359 0.7979438 TE%          \n",
       "quantreg_PD1       0.8443590 1.097780 0.7979438 PD1%         \n",
       "quantreg_TIM       0.8361600 1.098623 0.7979438 TIM3%        \n",
       "quantreg_LAG       0.8373021 1.295101 0.7979438 LAG3%        \n",
       "quantreg_Shannon   0.9912765 1.012667 0.7979438 TCR Shannon  \n",
       "quantreg_cfShannon 0.6302812 1.726507 0.8694362 cfTCR Shannon"
      ]
     },
     "metadata": {},
     "output_type": "display_data"
    }
   ],
   "source": [
    "(feat_lr_mat)"
   ]
  },
  {
   "cell_type": "code",
   "execution_count": 66,
   "metadata": {
    "vscode": {
     "languageId": "r"
    }
   },
   "outputs": [],
   "source": [
    "feat_lr_mat$mean <- feat_lr_mat$`exp(coef)`\n",
    "feat_lr_mat$lower <- feat_lr_mat$`lower.95`\n",
    "feat_lr_mat$upper <- feat_lr_mat$`upper.95`"
   ]
  },
  {
   "cell_type": "code",
   "execution_count": 67,
   "metadata": {
    "vscode": {
     "languageId": "r"
    }
   },
   "outputs": [],
   "source": [
    "feat_lr_mat$OR <- as.character(round(feat_lr_mat$`exp(coef)`, 2) )\n",
    "feat_lr_mat$p <- as.character(round(feat_lr_mat$`Pr(>|z|)`, 2) )\n",
    "feat_lr_mat$FDR <- as.character(round(feat_lr_mat$fdr, 2) )"
   ]
  },
  {
   "cell_type": "code",
   "execution_count": 68,
   "metadata": {
    "vscode": {
     "languageId": "r"
    }
   },
   "outputs": [],
   "source": [
    "p2 <- feat_lr_mat |>\n",
    "  forestplot(\n",
    "    labeltext = c(Feature, OR, p, FDR),\n",
    "    clip = c(-0.5, 2.5),\n",
    "    boxsize = 0.2,\n",
    "    vertices = TRUE,\n",
    "    xlog = FALSE, zero = 1\n",
    "  ) |>\n",
    "  fp_set_style(\n",
    "    box = \"royalblue\",\n",
    "    line = \"darkblue\",\n",
    "    summary = \"royalblue\"\n",
    "  ) |>\n",
    "  fp_add_header(\n",
    "    Feature = c(\"\", \"Feature\"),\n",
    "    OR = c(\"\", \"OR\"),\n",
    "    p = c(\"\", \"p value\"),\n",
    "    FDR = c(\"\", \"FDR\")\n",
    "  )\n"
   ]
  },
  {
   "cell_type": "code",
   "execution_count": 69,
   "metadata": {
    "vscode": {
     "languageId": "r"
    }
   },
   "outputs": [
    {
     "data": {
      "image/png": "[encoded data removed]",
      "text/plain": [
       "plot without title"
      ]
     },
     "metadata": {
      "image/png": {
       "height": 420,
       "width": 420
      }
     },
     "output_type": "display_data"
    }
   ],
   "source": [
    "p2"
   ]
  },
  {
   "cell_type": "code",
   "execution_count": 70,
   "metadata": {
    "vscode": {
     "languageId": "r"
    }
   },
   "outputs": [
    {
     "data": {
      "text/html": [
       "<strong>pdf:</strong> 2"
      ],
      "text/latex": [
       "\\textbf{pdf:} 2"
      ],
      "text/markdown": [
       "**pdf:** 2"
      ],
      "text/plain": [
       "pdf \n",
       "  2 "
      ]
     },
     "metadata": {},
     "output_type": "display_data"
    }
   ],
   "source": [
    "pdf(paste0(plotpath, \"forestplot_quantreq.pdf\"), width=5, height=8)\n",
    "p2\n",
    "dev.off()"
   ]
  },
  {
   "cell_type": "markdown",
   "metadata": {},
   "source": [
    "# 2- Baseline associations"
   ]
  },
  {
   "cell_type": "code",
   "execution_count": 71,
   "metadata": {
    "vscode": {
     "languageId": "r"
    }
   },
   "outputs": [],
   "source": [
    "# split to 3 dataframes: one for flow one for tcr and ncr\n",
    "\n",
    "tcr_df <- pbmc[ !is.na(pbmc$TRB), ]\n",
    "cftcr_df <- cfdna[ !is.na(cfdna$TRB), ]\n",
    "flow_df <- pbmc[ !is.na(pbmc$CD3) & pbmc$CD3 > 0, ]\n",
    "ncr_df <- flow_df[ !is.na(flow_df$`TIM3%`), ]"
   ]
  },
  {
   "cell_type": "code",
   "execution_count": 72,
   "metadata": {
    "vscode": {
     "languageId": "r"
    }
   },
   "outputs": [],
   "source": [
    "# only X01\n",
    "tcr_df <- tcr_df[ tcr_df$cycle == \"X01\", ]\n",
    "cftcr_df <- cftcr_df[ cftcr_df$cycle == \"X01\", ]\n",
    "flow_df <- flow_df[ flow_df$cycle == \"X01\", ]\n",
    "ncr_df <- ncr_df[ ncr_df$cycle == \"X01\", ]"
   ]
  },
  {
   "cell_type": "code",
   "execution_count": 73,
   "metadata": {
    "vscode": {
     "languageId": "r"
    }
   },
   "outputs": [
    {
     "data": {
      "text/html": [
       "<style>\n",
       ".list-inline {list-style: none; margin:0; padding: 0}\n",
       ".list-inline>li {display: inline-block}\n",
       ".list-inline>li:not(:last-child)::after {content: \"\\00b7\"; padding: 0 .5ex}\n",
       "</style>\n",
       "<ol class=list-inline><li>'sample_id'</li><li>'Patient'</li><li>'cycle'</li><li>'FOLD'</li><li>'ATC'</li><li>'Age'</li><li>'Disease_type'</li><li>'TE_fold'</li><li>'CD3'</li><li>'EM'</li><li>'CM'</li><li>'Naïve'</li><li>'SCM'</li><li>'TE'</li><li>'EM%'</li><li>'CM%'</li><li>'Naïve%'</li><li>'SCM%'</li><li>'TE%'</li><li>'Naïve/TE'</li><li>'N+CM+SCM/TE+EM'</li><li>'PD-1'</li><li>'PDL1'</li><li>'LAG3'</li><li>'TIM3'</li><li>'CTLA4'</li><li>'PD1%'</li><li>'PDL1%'</li><li>'LAG3%'</li><li>'TIM3%'</li><li>'CTLA4%'</li><li>'Any NCR'</li><li>'PD1 + LAG3 + TIM3'</li><li>'cancergroup'</li><li>'agegroup'</li><li>'foldgroup'</li><li>'Remission'</li><li>'Relapse'</li><li>'Transplant'</li><li>'CART'</li><li>'vital_status'</li><li>'LOF'</li><li>'TRB'</li><li>'Reads'</li><li>'CPKR'</li><li>'Average_reads'</li><li>'VMR'</li><li>'Max_reads'</li><li>'Singletons'</li><li>'Doubletons'</li><li>'qD'</li><li>'Sample_Coverage'</li><li>'observed_Richness'</li><li>'estimated_Richness'</li><li>'SE_Richeness'</li><li>'observed_Shannon'</li><li>'estimated_Shannon'</li><li>'SE_Shannon'</li><li>'observed_Simpson'</li><li>'estimated_Simpson'</li><li>'SE_Simpson'</li><li>'basename'</li><li>'file'</li><li>'sampletype'</li><li>'Group'</li><li>'log10shann'</li><li>'cyclenum'</li></ol>\n"
      ],
      "text/latex": [
       "\\begin{enumerate*}\n",
       "\\item 'sample\\_id'\n",
       "\\item 'Patient'\n",
       "\\item 'cycle'\n",
       "\\item 'FOLD'\n",
       "\\item 'ATC'\n",
       "\\item 'Age'\n",
       "\\item 'Disease\\_type'\n",
       "\\item 'TE\\_fold'\n",
       "\\item 'CD3'\n",
       "\\item 'EM'\n",
       "\\item 'CM'\n",
       "\\item 'Naïve'\n",
       "\\item 'SCM'\n",
       "\\item 'TE'\n",
       "\\item 'EM\\%'\n",
       "\\item 'CM\\%'\n",
       "\\item 'Naïve\\%'\n",
       "\\item 'SCM\\%'\n",
       "\\item 'TE\\%'\n",
       "\\item 'Naïve/TE'\n",
       "\\item 'N+CM+SCM/TE+EM'\n",
       "\\item 'PD-1'\n",
       "\\item 'PDL1'\n",
       "\\item 'LAG3'\n",
       "\\item 'TIM3'\n",
       "\\item 'CTLA4'\n",
       "\\item 'PD1\\%'\n",
       "\\item 'PDL1\\%'\n",
       "\\item 'LAG3\\%'\n",
       "\\item 'TIM3\\%'\n",
       "\\item 'CTLA4\\%'\n",
       "\\item 'Any NCR'\n",
       "\\item 'PD1 + LAG3 + TIM3'\n",
       "\\item 'cancergroup'\n",
       "\\item 'agegroup'\n",
       "\\item 'foldgroup'\n",
       "\\item 'Remission'\n",
       "\\item 'Relapse'\n",
       "\\item 'Transplant'\n",
       "\\item 'CART'\n",
       "\\item 'vital\\_status'\n",
       "\\item 'LOF'\n",
       "\\item 'TRB'\n",
       "\\item 'Reads'\n",
       "\\item 'CPKR'\n",
       "\\item 'Average\\_reads'\n",
       "\\item 'VMR'\n",
       "\\item 'Max\\_reads'\n",
       "\\item 'Singletons'\n",
       "\\item 'Doubletons'\n",
       "\\item 'qD'\n",
       "\\item 'Sample\\_Coverage'\n",
       "\\item 'observed\\_Richness'\n",
       "\\item 'estimated\\_Richness'\n",
       "\\item 'SE\\_Richeness'\n",
       "\\item 'observed\\_Shannon'\n",
       "\\item 'estimated\\_Shannon'\n",
       "\\item 'SE\\_Shannon'\n",
       "\\item 'observed\\_Simpson'\n",
       "\\item 'estimated\\_Simpson'\n",
       "\\item 'SE\\_Simpson'\n",
       "\\item 'basename'\n",
       "\\item 'file'\n",
       "\\item 'sampletype'\n",
       "\\item 'Group'\n",
       "\\item 'log10shann'\n",
       "\\item 'cyclenum'\n",
       "\\end{enumerate*}\n"
      ],
      "text/markdown": [
       "1. 'sample_id'\n",
       "2. 'Patient'\n",
       "3. 'cycle'\n",
       "4. 'FOLD'\n",
       "5. 'ATC'\n",
       "6. 'Age'\n",
       "7. 'Disease_type'\n",
       "8. 'TE_fold'\n",
       "9. 'CD3'\n",
       "10. 'EM'\n",
       "11. 'CM'\n",
       "12. 'Naïve'\n",
       "13. 'SCM'\n",
       "14. 'TE'\n",
       "15. 'EM%'\n",
       "16. 'CM%'\n",
       "17. 'Naïve%'\n",
       "18. 'SCM%'\n",
       "19. 'TE%'\n",
       "20. 'Naïve/TE'\n",
       "21. 'N+CM+SCM/TE+EM'\n",
       "22. 'PD-1'\n",
       "23. 'PDL1'\n",
       "24. 'LAG3'\n",
       "25. 'TIM3'\n",
       "26. 'CTLA4'\n",
       "27. 'PD1%'\n",
       "28. 'PDL1%'\n",
       "29. 'LAG3%'\n",
       "30. 'TIM3%'\n",
       "31. 'CTLA4%'\n",
       "32. 'Any NCR'\n",
       "33. 'PD1 + LAG3 + TIM3'\n",
       "34. 'cancergroup'\n",
       "35. 'agegroup'\n",
       "36. 'foldgroup'\n",
       "37. 'Remission'\n",
       "38. 'Relapse'\n",
       "39. 'Transplant'\n",
       "40. 'CART'\n",
       "41. 'vital_status'\n",
       "42. 'LOF'\n",
       "43. 'TRB'\n",
       "44. 'Reads'\n",
       "45. 'CPKR'\n",
       "46. 'Average_reads'\n",
       "47. 'VMR'\n",
       "48. 'Max_reads'\n",
       "49. 'Singletons'\n",
       "50. 'Doubletons'\n",
       "51. 'qD'\n",
       "52. 'Sample_Coverage'\n",
       "53. 'observed_Richness'\n",
       "54. 'estimated_Richness'\n",
       "55. 'SE_Richeness'\n",
       "56. 'observed_Shannon'\n",
       "57. 'estimated_Shannon'\n",
       "58. 'SE_Shannon'\n",
       "59. 'observed_Simpson'\n",
       "60. 'estimated_Simpson'\n",
       "61. 'SE_Simpson'\n",
       "62. 'basename'\n",
       "63. 'file'\n",
       "64. 'sampletype'\n",
       "65. 'Group'\n",
       "66. 'log10shann'\n",
       "67. 'cyclenum'\n",
       "\n",
       "\n"
      ],
      "text/plain": [
       " [1] \"sample_id\"          \"Patient\"            \"cycle\"             \n",
       " [4] \"FOLD\"               \"ATC\"                \"Age\"               \n",
       " [7] \"Disease_type\"       \"TE_fold\"            \"CD3\"               \n",
       "[10] \"EM\"                 \"CM\"                 \"Naïve\"             \n",
       "[13] \"SCM\"                \"TE\"                 \"EM%\"               \n",
       "[16] \"CM%\"                \"Naïve%\"             \"SCM%\"              \n",
       "[19] \"TE%\"                \"Naïve/TE\"           \"N+CM+SCM/TE+EM\"    \n",
       "[22] \"PD-1\"               \"PDL1\"               \"LAG3\"              \n",
       "[25] \"TIM3\"               \"CTLA4\"              \"PD1%\"              \n",
       "[28] \"PDL1%\"              \"LAG3%\"              \"TIM3%\"             \n",
       "[31] \"CTLA4%\"             \"Any NCR\"            \"PD1 + LAG3 + TIM3\" \n",
       "[34] \"cancergroup\"        \"agegroup\"           \"foldgroup\"         \n",
       "[37] \"Remission\"          \"Relapse\"            \"Transplant\"        \n",
       "[40] \"CART\"               \"vital_status\"       \"LOF\"               \n",
       "[43] \"TRB\"                \"Reads\"              \"CPKR\"              \n",
       "[46] \"Average_reads\"      \"VMR\"                \"Max_reads\"         \n",
       "[49] \"Singletons\"         \"Doubletons\"         \"qD\"                \n",
       "[52] \"Sample_Coverage\"    \"observed_Richness\"  \"estimated_Richness\"\n",
       "[55] \"SE_Richeness\"       \"observed_Shannon\"   \"estimated_Shannon\" \n",
       "[58] \"SE_Shannon\"         \"observed_Simpson\"   \"estimated_Simpson\" \n",
       "[61] \"SE_Simpson\"         \"basename\"           \"file\"              \n",
       "[64] \"sampletype\"         \"Group\"              \"log10shann\"        \n",
       "[67] \"cyclenum\"          "
      ]
     },
     "metadata": {},
     "output_type": "display_data"
    }
   ],
   "source": [
    "colnames(tcr_df)"
   ]
  },
  {
   "cell_type": "code",
   "execution_count": 74,
   "metadata": {
    "vscode": {
     "languageId": "r"
    }
   },
   "outputs": [],
   "source": [
    "cftcr_df$cfShannon <- cftcr_df$observed_Shannon"
   ]
  },
  {
   "cell_type": "code",
   "execution_count": 75,
   "metadata": {
    "vscode": {
     "languageId": "r"
    }
   },
   "outputs": [],
   "source": [
    "# merge all the dataframes, allow NAs to include all data\n",
    "df_x01 <- merge(flow_df[, c(\"Patient\", \"ATC\", \"Naïve%\", \"SCM%\", \"CM%\", \"EM%\", \"TE%\")], ncr_df[, c(\"Patient\", \"PD1%\", \"LAG3%\", \"TIM3%\")], by = \"Patient\", all = TRUE)\n",
    "df_x01 <- merge(df_x01, tcr_df[, c(\"Patient\", \"observed_Shannon\")], by = \"Patient\", , all = TRUE)\n",
    "df_x01 <- merge(df_x01, cftcr_df[, c(\"Patient\",\"cfShannon\")], by = \"Patient\", all = TRUE)\n"
   ]
  },
  {
   "cell_type": "code",
   "execution_count": 76,
   "metadata": {
    "vscode": {
     "languageId": "r"
    }
   },
   "outputs": [],
   "source": [
    "df_x01$cancergroup <- pbmc$cancergroup[ match(df_x01$Patient, pbmc$Patient) ]"
   ]
  },
  {
   "cell_type": "code",
   "execution_count": 77,
   "metadata": {
    "vscode": {
     "languageId": "r"
    }
   },
   "outputs": [
    {
     "data": {
      "text/html": [
       "<table class=\"dataframe\">\n",
       "<caption>A data.frame: 6 x 13</caption>\n",
       "<thead>\n",
       "\t<tr><th></th><th scope=col>Patient</th><th scope=col>ATC</th><th scope=col>Naïve%</th><th scope=col>SCM%</th><th scope=col>CM%</th><th scope=col>EM%</th><th scope=col>TE%</th><th scope=col>PD1%</th><th scope=col>LAG3%</th><th scope=col>TIM3%</th><th scope=col>observed_Shannon</th><th scope=col>cfShannon</th><th scope=col>cancergroup</th></tr>\n",
       "\t<tr><th></th><th scope=col>&lt;chr&gt;</th><th scope=col>&lt;dbl&gt;</th><th scope=col>&lt;dbl&gt;</th><th scope=col>&lt;dbl&gt;</th><th scope=col>&lt;dbl&gt;</th><th scope=col>&lt;dbl&gt;</th><th scope=col>&lt;dbl&gt;</th><th scope=col>&lt;dbl&gt;</th><th scope=col>&lt;dbl&gt;</th><th scope=col>&lt;dbl&gt;</th><th scope=col>&lt;dbl&gt;</th><th scope=col>&lt;dbl&gt;</th><th scope=col>&lt;chr&gt;</th></tr>\n",
       "</thead>\n",
       "<tbody>\n",
       "\t<tr><th scope=row>1</th><td>CHP_330</td><td>  0.0</td><td>12.925728</td><td> 7.6733689</td><td>2.6672138</td><td>0.98481740</td><td>75.748872</td><td>4.636849</td><td>2.749282</td><td>4.636849</td><td>    NA</td><td>    NA</td><td>Solid tumors</td></tr>\n",
       "\t<tr><th scope=row>2</th><td>CHP_332</td><td>  0.0</td><td> 7.138920</td><td>22.8500551</td><td>8.1863286</td><td>0.02756340</td><td>61.797133</td><td>9.371555</td><td>7.414553</td><td>9.371555</td><td>    NA</td><td>    NA</td><td>Solid tumors</td></tr>\n",
       "\t<tr><th scope=row>3</th><td>CHP_343</td><td>219.3</td><td> 9.541512</td><td> 2.3130938</td><td>8.4262701</td><td>0.04130525</td><td>79.677819</td><td>7.889302</td><td>5.700124</td><td>7.889302</td><td>    NA</td><td> 1.000</td><td>Solid tumors</td></tr>\n",
       "\t<tr><th scope=row>4</th><td>CHP_344</td><td>   NA</td><td>       NA</td><td>        NA</td><td>       NA</td><td>        NA</td><td>       NA</td><td>      NA</td><td>      NA</td><td>      NA</td><td>    NA</td><td> 6.587</td><td>Lymphoma    </td></tr>\n",
       "\t<tr><th scope=row>5</th><td>CHP_345</td><td>   NA</td><td>       NA</td><td>        NA</td><td>       NA</td><td>        NA</td><td>       NA</td><td>      NA</td><td>      NA</td><td>      NA</td><td>    NA</td><td>18.714</td><td>Leukemia    </td></tr>\n",
       "\t<tr><th scope=row>6</th><td>CHP_346</td><td>331.7</td><td>94.662480</td><td> 0.1569859</td><td>0.7849294</td><td>0.00000000</td><td> 4.395604</td><td>5.180534</td><td>3.767661</td><td>5.180534</td><td>29.129</td><td>    NA</td><td>Solid tumors</td></tr>\n",
       "</tbody>\n",
       "</table>\n"
      ],
      "text/latex": [
       "A data.frame: 6 x 13\n",
       "\\begin{tabular}{r|lllllllllllll}\n",
       "  & Patient & ATC & Naïve\\% & SCM\\% & CM\\% & EM\\% & TE\\% & PD1\\% & LAG3\\% & TIM3\\% & observed\\_Shannon & cfShannon & cancergroup\\\\\n",
       "  & <chr> & <dbl> & <dbl> & <dbl> & <dbl> & <dbl> & <dbl> & <dbl> & <dbl> & <dbl> & <dbl> & <dbl> & <chr>\\\\\n",
       "\\hline\n",
       "\t1 & CHP\\_330 &   0.0 & 12.925728 &  7.6733689 & 2.6672138 & 0.98481740 & 75.748872 & 4.636849 & 2.749282 & 4.636849 &     NA &     NA & Solid tumors\\\\\n",
       "\t2 & CHP\\_332 &   0.0 &  7.138920 & 22.8500551 & 8.1863286 & 0.02756340 & 61.797133 & 9.371555 & 7.414553 & 9.371555 &     NA &     NA & Solid tumors\\\\\n",
       "\t3 & CHP\\_343 & 219.3 &  9.541512 &  2.3130938 & 8.4262701 & 0.04130525 & 79.677819 & 7.889302 & 5.700124 & 7.889302 &     NA &  1.000 & Solid tumors\\\\\n",
       "\t4 & CHP\\_344 &    NA &        NA &         NA &        NA &         NA &        NA &       NA &       NA &       NA &     NA &  6.587 & Lymphoma    \\\\\n",
       "\t5 & CHP\\_345 &    NA &        NA &         NA &        NA &         NA &        NA &       NA &       NA &       NA &     NA & 18.714 & Leukemia    \\\\\n",
       "\t6 & CHP\\_346 & 331.7 & 94.662480 &  0.1569859 & 0.7849294 & 0.00000000 &  4.395604 & 5.180534 & 3.767661 & 5.180534 & 29.129 &     NA & Solid tumors\\\\\n",
       "\\end{tabular}\n"
      ],
      "text/markdown": [
       "\n",
       "A data.frame: 6 x 13\n",
       "\n",
       "| <!--/--> | Patient &lt;chr&gt; | ATC &lt;dbl&gt; | Naïve% &lt;dbl&gt; | SCM% &lt;dbl&gt; | CM% &lt;dbl&gt; | EM% &lt;dbl&gt; | TE% &lt;dbl&gt; | PD1% &lt;dbl&gt; | LAG3% &lt;dbl&gt; | TIM3% &lt;dbl&gt; | observed_Shannon &lt;dbl&gt; | cfShannon &lt;dbl&gt; | cancergroup &lt;chr&gt; |\n",
       "|---|---|---|---|---|---|---|---|---|---|---|---|---|---|\n",
       "| 1 | CHP_330 |   0.0 | 12.925728 |  7.6733689 | 2.6672138 | 0.98481740 | 75.748872 | 4.636849 | 2.749282 | 4.636849 |     NA |     NA | Solid tumors |\n",
       "| 2 | CHP_332 |   0.0 |  7.138920 | 22.8500551 | 8.1863286 | 0.02756340 | 61.797133 | 9.371555 | 7.414553 | 9.371555 |     NA |     NA | Solid tumors |\n",
       "| 3 | CHP_343 | 219.3 |  9.541512 |  2.3130938 | 8.4262701 | 0.04130525 | 79.677819 | 7.889302 | 5.700124 | 7.889302 |     NA |  1.000 | Solid tumors |\n",
       "| 4 | CHP_344 |    NA |        NA |         NA |        NA |         NA |        NA |       NA |       NA |       NA |     NA |  6.587 | Lymphoma     |\n",
       "| 5 | CHP_345 |    NA |        NA |         NA |        NA |         NA |        NA |       NA |       NA |       NA |     NA | 18.714 | Leukemia     |\n",
       "| 6 | CHP_346 | 331.7 | 94.662480 |  0.1569859 | 0.7849294 | 0.00000000 |  4.395604 | 5.180534 | 3.767661 | 5.180534 | 29.129 |     NA | Solid tumors |\n",
       "\n"
      ],
      "text/plain": [
       "  Patient ATC   Naïve%    SCM%       CM%       EM%        TE%       PD1%    \n",
       "1 CHP_330   0.0 12.925728  7.6733689 2.6672138 0.98481740 75.748872 4.636849\n",
       "2 CHP_332   0.0  7.138920 22.8500551 8.1863286 0.02756340 61.797133 9.371555\n",
       "3 CHP_343 219.3  9.541512  2.3130938 8.4262701 0.04130525 79.677819 7.889302\n",
       "4 CHP_344    NA        NA         NA        NA         NA        NA       NA\n",
       "5 CHP_345    NA        NA         NA        NA         NA        NA       NA\n",
       "6 CHP_346 331.7 94.662480  0.1569859 0.7849294 0.00000000  4.395604 5.180534\n",
       "  LAG3%    TIM3%    observed_Shannon cfShannon cancergroup \n",
       "1 2.749282 4.636849     NA               NA    Solid tumors\n",
       "2 7.414553 9.371555     NA               NA    Solid tumors\n",
       "3 5.700124 7.889302     NA            1.000    Solid tumors\n",
       "4       NA       NA     NA            6.587    Lymphoma    \n",
       "5       NA       NA     NA           18.714    Leukemia    \n",
       "6 3.767661 5.180534 29.129               NA    Solid tumors"
      ]
     },
     "metadata": {},
     "output_type": "display_data"
    }
   ],
   "source": [
    "head(df_x01)"
   ]
  },
  {
   "cell_type": "code",
   "execution_count": 78,
   "metadata": {
    "vscode": {
     "languageId": "r"
    }
   },
   "outputs": [],
   "source": [
    "mycol <- c(\n",
    "    \"EM%\", \"CM%\", \"Naïve%\", \"SCM%\", \"TE%\",\n",
    "    \"PD1%\", \"TIM3%\", \"LAG3%\", \"ATC\",\n",
    "    \"observed_Shannon\", \"cfShannon\"\n",
    ")\n"
   ]
  },
  {
   "cell_type": "code",
   "execution_count": 79,
   "metadata": {
    "vscode": {
     "languageId": "r"
    }
   },
   "outputs": [
    {
     "data": {
      "text/html": [
       "<style>\n",
       ".list-inline {list-style: none; margin:0; padding: 0}\n",
       ".list-inline>li {display: inline-block}\n",
       ".list-inline>li:not(:last-child)::after {content: \"\\00b7\"; padding: 0 .5ex}\n",
       "</style>\n",
       "<ol class=list-inline><li>'EM%'</li><li>'CM%'</li><li>'Naïve%'</li><li>'SCM%'</li><li>'TE%'</li><li>'PD1%'</li><li>'TIM3%'</li><li>'LAG3%'</li><li>'ATC'</li><li>'observed_Shannon'</li><li>'cfShannon'</li></ol>\n"
      ],
      "text/latex": [
       "\\begin{enumerate*}\n",
       "\\item 'EM\\%'\n",
       "\\item 'CM\\%'\n",
       "\\item 'Naïve\\%'\n",
       "\\item 'SCM\\%'\n",
       "\\item 'TE\\%'\n",
       "\\item 'PD1\\%'\n",
       "\\item 'TIM3\\%'\n",
       "\\item 'LAG3\\%'\n",
       "\\item 'ATC'\n",
       "\\item 'observed\\_Shannon'\n",
       "\\item 'cfShannon'\n",
       "\\end{enumerate*}\n"
      ],
      "text/markdown": [
       "1. 'EM%'\n",
       "2. 'CM%'\n",
       "3. 'Naïve%'\n",
       "4. 'SCM%'\n",
       "5. 'TE%'\n",
       "6. 'PD1%'\n",
       "7. 'TIM3%'\n",
       "8. 'LAG3%'\n",
       "9. 'ATC'\n",
       "10. 'observed_Shannon'\n",
       "11. 'cfShannon'\n",
       "\n",
       "\n"
      ],
      "text/plain": [
       " [1] \"EM%\"              \"CM%\"              \"Naïve%\"           \"SCM%\"            \n",
       " [5] \"TE%\"              \"PD1%\"             \"TIM3%\"            \"LAG3%\"           \n",
       " [9] \"ATC\"              \"observed_Shannon\" \"cfShannon\"       "
      ]
     },
     "metadata": {},
     "output_type": "display_data"
    }
   ],
   "source": [
    "mycol"
   ]
  },
  {
   "cell_type": "code",
   "execution_count": 80,
   "metadata": {
    "vscode": {
     "languageId": "r"
    }
   },
   "outputs": [
    {
     "name": "stdout",
     "output_type": "stream",
     "text": [
      "[1] \"EM%\"\n",
      "[1] \"CM%\"\n",
      "[1] \"Naïve%\"\n",
      "[1] \"SCM%\"\n",
      "[1] \"TE%\"\n",
      "[1] \"PD1%\"\n",
      "[1] \"TIM3%\"\n",
      "[1] \"LAG3%\"\n",
      "[1] \"ATC\"\n",
      "[1] \"observed_Shannon\"\n",
      "[1] \"cfShannon\"\n"
     ]
    }
   ],
   "source": [
    "# scale\n",
    "for (i in mycol) {\n",
    "    print(i)\n",
    "    newvar <- paste0(i, \"_scaled\")\n",
    "    df_x01[[newvar]] <- as.vector(scale(df_x01[[i]]))\n",
    "}\n"
   ]
  },
  {
   "cell_type": "code",
   "execution_count": 81,
   "metadata": {
    "vscode": {
     "languageId": "r"
    }
   },
   "outputs": [],
   "source": [
    "# # rank\n",
    "# for(i in mycol){\n",
    "#     newvar <- paste0(i, \"_rank\")\n",
    "# df_x01[[newvar]] <- rank(df_x01[[i]])\n",
    "# }"
   ]
  },
  {
   "cell_type": "code",
   "execution_count": 82,
   "metadata": {
    "vscode": {
     "languageId": "r"
    }
   },
   "outputs": [],
   "source": [
    "mycol <- colnames(df_x01)[grepl(\"scaled\", colnames(df_x01))]"
   ]
  },
  {
   "cell_type": "code",
   "execution_count": 83,
   "metadata": {
    "vscode": {
     "languageId": "r"
    }
   },
   "outputs": [
    {
     "data": {
      "text/html": [
       "<style>\n",
       ".list-inline {list-style: none; margin:0; padding: 0}\n",
       ".list-inline>li {display: inline-block}\n",
       ".list-inline>li:not(:last-child)::after {content: \"\\00b7\"; padding: 0 .5ex}\n",
       "</style>\n",
       "<ol class=list-inline><li>'EM%_scaled'</li><li>'CM%_scaled'</li><li>'Naïve%_scaled'</li><li>'SCM%_scaled'</li><li>'TE%_scaled'</li><li>'PD1%_scaled'</li><li>'TIM3%_scaled'</li><li>'LAG3%_scaled'</li><li>'ATC_scaled'</li><li>'observed_Shannon_scaled'</li><li>'cfShannon_scaled'</li></ol>\n"
      ],
      "text/latex": [
       "\\begin{enumerate*}\n",
       "\\item 'EM\\%\\_scaled'\n",
       "\\item 'CM\\%\\_scaled'\n",
       "\\item 'Naïve\\%\\_scaled'\n",
       "\\item 'SCM\\%\\_scaled'\n",
       "\\item 'TE\\%\\_scaled'\n",
       "\\item 'PD1\\%\\_scaled'\n",
       "\\item 'TIM3\\%\\_scaled'\n",
       "\\item 'LAG3\\%\\_scaled'\n",
       "\\item 'ATC\\_scaled'\n",
       "\\item 'observed\\_Shannon\\_scaled'\n",
       "\\item 'cfShannon\\_scaled'\n",
       "\\end{enumerate*}\n"
      ],
      "text/markdown": [
       "1. 'EM%_scaled'\n",
       "2. 'CM%_scaled'\n",
       "3. 'Naïve%_scaled'\n",
       "4. 'SCM%_scaled'\n",
       "5. 'TE%_scaled'\n",
       "6. 'PD1%_scaled'\n",
       "7. 'TIM3%_scaled'\n",
       "8. 'LAG3%_scaled'\n",
       "9. 'ATC_scaled'\n",
       "10. 'observed_Shannon_scaled'\n",
       "11. 'cfShannon_scaled'\n",
       "\n",
       "\n"
      ],
      "text/plain": [
       " [1] \"EM%_scaled\"              \"CM%_scaled\"             \n",
       " [3] \"Naïve%_scaled\"           \"SCM%_scaled\"            \n",
       " [5] \"TE%_scaled\"              \"PD1%_scaled\"            \n",
       " [7] \"TIM3%_scaled\"            \"LAG3%_scaled\"           \n",
       " [9] \"ATC_scaled\"              \"observed_Shannon_scaled\"\n",
       "[11] \"cfShannon_scaled\"       "
      ]
     },
     "metadata": {},
     "output_type": "display_data"
    }
   ],
   "source": [
    "mycol"
   ]
  },
  {
   "cell_type": "code",
   "execution_count": 84,
   "metadata": {
    "vscode": {
     "languageId": "r"
    }
   },
   "outputs": [
    {
     "data": {
      "text/plain": [
       "\n",
       "           Leukemia            Lymphoma        Solid tumors T-cell malignancies \n",
       "                 37                  14                  30                   4 "
      ]
     },
     "metadata": {},
     "output_type": "display_data"
    }
   ],
   "source": [
    "table(df_x01$cancergroup)"
   ]
  },
  {
   "cell_type": "code",
   "execution_count": 85,
   "metadata": {
    "vscode": {
     "languageId": "r"
    }
   },
   "outputs": [],
   "source": [
    "df_x01_long <- tidyr::pivot_longer(df_x01, all_of(mycol), names_to = \"Feature\", values_to = \"X01\")"
   ]
  },
  {
   "cell_type": "code",
   "execution_count": 86,
   "metadata": {
    "vscode": {
     "languageId": "r"
    }
   },
   "outputs": [],
   "source": [
    "df_x01_long <- as.data.frame(df_x01_long)"
   ]
  },
  {
   "cell_type": "code",
   "execution_count": 87,
   "metadata": {
    "vscode": {
     "languageId": "r"
    }
   },
   "outputs": [],
   "source": [
    "df_x01_long_narm <- df_x01_long[ !is.na(df_x01_long$X01),]"
   ]
  },
  {
   "cell_type": "code",
   "execution_count": 88,
   "metadata": {
    "vscode": {
     "languageId": "r"
    }
   },
   "outputs": [
    {
     "data": {
      "text/html": [
       "<table class=\"dataframe\">\n",
       "<caption>A data.frame: 6 x 15</caption>\n",
       "<thead>\n",
       "\t<tr><th></th><th scope=col>Patient</th><th scope=col>ATC</th><th scope=col>Naïve%</th><th scope=col>SCM%</th><th scope=col>CM%</th><th scope=col>EM%</th><th scope=col>TE%</th><th scope=col>PD1%</th><th scope=col>LAG3%</th><th scope=col>TIM3%</th><th scope=col>observed_Shannon</th><th scope=col>cfShannon</th><th scope=col>cancergroup</th><th scope=col>Feature</th><th scope=col>X01</th></tr>\n",
       "\t<tr><th></th><th scope=col>&lt;chr&gt;</th><th scope=col>&lt;dbl&gt;</th><th scope=col>&lt;dbl&gt;</th><th scope=col>&lt;dbl&gt;</th><th scope=col>&lt;dbl&gt;</th><th scope=col>&lt;dbl&gt;</th><th scope=col>&lt;dbl&gt;</th><th scope=col>&lt;dbl&gt;</th><th scope=col>&lt;dbl&gt;</th><th scope=col>&lt;dbl&gt;</th><th scope=col>&lt;dbl&gt;</th><th scope=col>&lt;dbl&gt;</th><th scope=col>&lt;chr&gt;</th><th scope=col>&lt;chr&gt;</th><th scope=col>&lt;dbl&gt;</th></tr>\n",
       "</thead>\n",
       "<tbody>\n",
       "\t<tr><th scope=row>1</th><td>CHP_330</td><td>0</td><td>12.92573</td><td>7.673369</td><td>2.667214</td><td>0.9848174</td><td>75.74887</td><td>4.636849</td><td>2.749282</td><td>4.636849</td><td>NA</td><td>NA</td><td>Solid tumors</td><td>EM%_scaled   </td><td>-0.4613281</td></tr>\n",
       "\t<tr><th scope=row>2</th><td>CHP_330</td><td>0</td><td>12.92573</td><td>7.673369</td><td>2.667214</td><td>0.9848174</td><td>75.74887</td><td>4.636849</td><td>2.749282</td><td>4.636849</td><td>NA</td><td>NA</td><td>Solid tumors</td><td>CM%_scaled   </td><td>-0.5935775</td></tr>\n",
       "\t<tr><th scope=row>3</th><td>CHP_330</td><td>0</td><td>12.92573</td><td>7.673369</td><td>2.667214</td><td>0.9848174</td><td>75.74887</td><td>4.636849</td><td>2.749282</td><td>4.636849</td><td>NA</td><td>NA</td><td>Solid tumors</td><td>Naïve%_scaled</td><td>-0.7172710</td></tr>\n",
       "\t<tr><th scope=row>4</th><td>CHP_330</td><td>0</td><td>12.92573</td><td>7.673369</td><td>2.667214</td><td>0.9848174</td><td>75.74887</td><td>4.636849</td><td>2.749282</td><td>4.636849</td><td>NA</td><td>NA</td><td>Solid tumors</td><td>SCM%_scaled  </td><td> 0.1325379</td></tr>\n",
       "\t<tr><th scope=row>5</th><td>CHP_330</td><td>0</td><td>12.92573</td><td>7.673369</td><td>2.667214</td><td>0.9848174</td><td>75.74887</td><td>4.636849</td><td>2.749282</td><td>4.636849</td><td>NA</td><td>NA</td><td>Solid tumors</td><td>TE%_scaled   </td><td> 0.9093799</td></tr>\n",
       "\t<tr><th scope=row>6</th><td>CHP_330</td><td>0</td><td>12.92573</td><td>7.673369</td><td>2.667214</td><td>0.9848174</td><td>75.74887</td><td>4.636849</td><td>2.749282</td><td>4.636849</td><td>NA</td><td>NA</td><td>Solid tumors</td><td>PD1%_scaled  </td><td>-0.5543962</td></tr>\n",
       "</tbody>\n",
       "</table>\n"
      ],
      "text/latex": [
       "A data.frame: 6 x 15\n",
       "\\begin{tabular}{r|lllllllllllllll}\n",
       "  & Patient & ATC & Naïve\\% & SCM\\% & CM\\% & EM\\% & TE\\% & PD1\\% & LAG3\\% & TIM3\\% & observed\\_Shannon & cfShannon & cancergroup & Feature & X01\\\\\n",
       "  & <chr> & <dbl> & <dbl> & <dbl> & <dbl> & <dbl> & <dbl> & <dbl> & <dbl> & <dbl> & <dbl> & <dbl> & <chr> & <chr> & <dbl>\\\\\n",
       "\\hline\n",
       "\t1 & CHP\\_330 & 0 & 12.92573 & 7.673369 & 2.667214 & 0.9848174 & 75.74887 & 4.636849 & 2.749282 & 4.636849 & NA & NA & Solid tumors & EM\\%\\_scaled    & -0.4613281\\\\\n",
       "\t2 & CHP\\_330 & 0 & 12.92573 & 7.673369 & 2.667214 & 0.9848174 & 75.74887 & 4.636849 & 2.749282 & 4.636849 & NA & NA & Solid tumors & CM\\%\\_scaled    & -0.5935775\\\\\n",
       "\t3 & CHP\\_330 & 0 & 12.92573 & 7.673369 & 2.667214 & 0.9848174 & 75.74887 & 4.636849 & 2.749282 & 4.636849 & NA & NA & Solid tumors & Naïve\\%\\_scaled & -0.7172710\\\\\n",
       "\t4 & CHP\\_330 & 0 & 12.92573 & 7.673369 & 2.667214 & 0.9848174 & 75.74887 & 4.636849 & 2.749282 & 4.636849 & NA & NA & Solid tumors & SCM\\%\\_scaled   &  0.1325379\\\\\n",
       "\t5 & CHP\\_330 & 0 & 12.92573 & 7.673369 & 2.667214 & 0.9848174 & 75.74887 & 4.636849 & 2.749282 & 4.636849 & NA & NA & Solid tumors & TE\\%\\_scaled    &  0.9093799\\\\\n",
       "\t6 & CHP\\_330 & 0 & 12.92573 & 7.673369 & 2.667214 & 0.9848174 & 75.74887 & 4.636849 & 2.749282 & 4.636849 & NA & NA & Solid tumors & PD1\\%\\_scaled   & -0.5543962\\\\\n",
       "\\end{tabular}\n"
      ],
      "text/markdown": [
       "\n",
       "A data.frame: 6 x 15\n",
       "\n",
       "| <!--/--> | Patient &lt;chr&gt; | ATC &lt;dbl&gt; | Naïve% &lt;dbl&gt; | SCM% &lt;dbl&gt; | CM% &lt;dbl&gt; | EM% &lt;dbl&gt; | TE% &lt;dbl&gt; | PD1% &lt;dbl&gt; | LAG3% &lt;dbl&gt; | TIM3% &lt;dbl&gt; | observed_Shannon &lt;dbl&gt; | cfShannon &lt;dbl&gt; | cancergroup &lt;chr&gt; | Feature &lt;chr&gt; | X01 &lt;dbl&gt; |\n",
       "|---|---|---|---|---|---|---|---|---|---|---|---|---|---|---|---|\n",
       "| 1 | CHP_330 | 0 | 12.92573 | 7.673369 | 2.667214 | 0.9848174 | 75.74887 | 4.636849 | 2.749282 | 4.636849 | NA | NA | Solid tumors | EM%_scaled    | -0.4613281 |\n",
       "| 2 | CHP_330 | 0 | 12.92573 | 7.673369 | 2.667214 | 0.9848174 | 75.74887 | 4.636849 | 2.749282 | 4.636849 | NA | NA | Solid tumors | CM%_scaled    | -0.5935775 |\n",
       "| 3 | CHP_330 | 0 | 12.92573 | 7.673369 | 2.667214 | 0.9848174 | 75.74887 | 4.636849 | 2.749282 | 4.636849 | NA | NA | Solid tumors | Naïve%_scaled | -0.7172710 |\n",
       "| 4 | CHP_330 | 0 | 12.92573 | 7.673369 | 2.667214 | 0.9848174 | 75.74887 | 4.636849 | 2.749282 | 4.636849 | NA | NA | Solid tumors | SCM%_scaled   |  0.1325379 |\n",
       "| 5 | CHP_330 | 0 | 12.92573 | 7.673369 | 2.667214 | 0.9848174 | 75.74887 | 4.636849 | 2.749282 | 4.636849 | NA | NA | Solid tumors | TE%_scaled    |  0.9093799 |\n",
       "| 6 | CHP_330 | 0 | 12.92573 | 7.673369 | 2.667214 | 0.9848174 | 75.74887 | 4.636849 | 2.749282 | 4.636849 | NA | NA | Solid tumors | PD1%_scaled   | -0.5543962 |\n",
       "\n"
      ],
      "text/plain": [
       "  Patient ATC Naïve%   SCM%     CM%      EM%       TE%      PD1%     LAG3%   \n",
       "1 CHP_330 0   12.92573 7.673369 2.667214 0.9848174 75.74887 4.636849 2.749282\n",
       "2 CHP_330 0   12.92573 7.673369 2.667214 0.9848174 75.74887 4.636849 2.749282\n",
       "3 CHP_330 0   12.92573 7.673369 2.667214 0.9848174 75.74887 4.636849 2.749282\n",
       "4 CHP_330 0   12.92573 7.673369 2.667214 0.9848174 75.74887 4.636849 2.749282\n",
       "5 CHP_330 0   12.92573 7.673369 2.667214 0.9848174 75.74887 4.636849 2.749282\n",
       "6 CHP_330 0   12.92573 7.673369 2.667214 0.9848174 75.74887 4.636849 2.749282\n",
       "  TIM3%    observed_Shannon cfShannon cancergroup  Feature       X01       \n",
       "1 4.636849 NA               NA        Solid tumors EM%_scaled    -0.4613281\n",
       "2 4.636849 NA               NA        Solid tumors CM%_scaled    -0.5935775\n",
       "3 4.636849 NA               NA        Solid tumors Naïve%_scaled -0.7172710\n",
       "4 4.636849 NA               NA        Solid tumors SCM%_scaled    0.1325379\n",
       "5 4.636849 NA               NA        Solid tumors TE%_scaled     0.9093799\n",
       "6 4.636849 NA               NA        Solid tumors PD1%_scaled   -0.5543962"
      ]
     },
     "metadata": {},
     "output_type": "display_data"
    }
   ],
   "source": [
    "head(df_x01_long_narm)"
   ]
  },
  {
   "cell_type": "markdown",
   "metadata": {},
   "source": [
    "Boxplot"
   ]
  },
  {
   "cell_type": "code",
   "execution_count": 89,
   "metadata": {
    "vscode": {
     "languageId": "r"
    }
   },
   "outputs": [],
   "source": [
    "# use scaled for viz\n",
    "df_x01_long_narm$Featurename <- gsub(\"_scaled\", \"\", df_x01_long_narm$Feature)"
   ]
  },
  {
   "cell_type": "code",
   "execution_count": 90,
   "metadata": {
    "vscode": {
     "languageId": "r"
    }
   },
   "outputs": [
    {
     "data": {
      "text/plain": [
       "\n",
       "             ATC        cfShannon              CM%              EM% \n",
       "              64               55               65               65 \n",
       "           LAG3%           Naïve% observed_Shannon             PD1% \n",
       "              62               65               44               62 \n",
       "            SCM%              TE%            TIM3% \n",
       "              65               65               62 "
      ]
     },
     "metadata": {},
     "output_type": "display_data"
    }
   ],
   "source": [
    "table(df_x01_long_narm$Featurename )"
   ]
  },
  {
   "cell_type": "code",
   "execution_count": 91,
   "metadata": {
    "vscode": {
     "languageId": "r"
    }
   },
   "outputs": [],
   "source": [
    "df_x01_long_narm$Featurename[ df_x01_long_narm$Featurename == \"cfShannon\"] <- \"cfTCR Shannon\"\n",
    "df_x01_long_narm$Featurename[ df_x01_long_narm$Featurename == \"observed_Shannon\"] <- \"TCR Shannon\"\n",
    "\n"
   ]
  },
  {
   "cell_type": "code",
   "execution_count": 92,
   "metadata": {
    "vscode": {
     "languageId": "r"
    }
   },
   "outputs": [],
   "source": [
    "df_x01_long_narm$Featurename <- factor(df_x01_long_narm$Featurename,\n",
    "  levels = c(\n",
    "    \"cfTCR Shannon\", \"TCR Shannon\",\n",
    "    \"LAG3%\", \"TIM3%\", \"PD1%\", \"TE%\", \"EM%\", \"CM%\", \"SCM%\", \"Naïve%\", \"ATC\"\n",
    "  )\n",
    ")\n"
   ]
  },
  {
   "cell_type": "code",
   "execution_count": 93,
   "metadata": {
    "vscode": {
     "languageId": "r"
    }
   },
   "outputs": [
    {
     "data": {
      "text/html": [
       "<table class=\"dataframe\">\n",
       "<caption>A data.frame: 6 x 16</caption>\n",
       "<thead>\n",
       "\t<tr><th></th><th scope=col>Patient</th><th scope=col>ATC</th><th scope=col>Naïve%</th><th scope=col>SCM%</th><th scope=col>CM%</th><th scope=col>EM%</th><th scope=col>TE%</th><th scope=col>PD1%</th><th scope=col>LAG3%</th><th scope=col>TIM3%</th><th scope=col>observed_Shannon</th><th scope=col>cfShannon</th><th scope=col>cancergroup</th><th scope=col>Feature</th><th scope=col>X01</th><th scope=col>Featurename</th></tr>\n",
       "\t<tr><th></th><th scope=col>&lt;chr&gt;</th><th scope=col>&lt;dbl&gt;</th><th scope=col>&lt;dbl&gt;</th><th scope=col>&lt;dbl&gt;</th><th scope=col>&lt;dbl&gt;</th><th scope=col>&lt;dbl&gt;</th><th scope=col>&lt;dbl&gt;</th><th scope=col>&lt;dbl&gt;</th><th scope=col>&lt;dbl&gt;</th><th scope=col>&lt;dbl&gt;</th><th scope=col>&lt;dbl&gt;</th><th scope=col>&lt;dbl&gt;</th><th scope=col>&lt;chr&gt;</th><th scope=col>&lt;chr&gt;</th><th scope=col>&lt;dbl&gt;</th><th scope=col>&lt;fct&gt;</th></tr>\n",
       "</thead>\n",
       "<tbody>\n",
       "\t<tr><th scope=row>1</th><td>CHP_330</td><td>0</td><td>12.92573</td><td>7.673369</td><td>2.667214</td><td>0.9848174</td><td>75.74887</td><td>4.636849</td><td>2.749282</td><td>4.636849</td><td>NA</td><td>NA</td><td>Solid tumors</td><td>EM%_scaled   </td><td>-0.4613281</td><td>EM%   </td></tr>\n",
       "\t<tr><th scope=row>2</th><td>CHP_330</td><td>0</td><td>12.92573</td><td>7.673369</td><td>2.667214</td><td>0.9848174</td><td>75.74887</td><td>4.636849</td><td>2.749282</td><td>4.636849</td><td>NA</td><td>NA</td><td>Solid tumors</td><td>CM%_scaled   </td><td>-0.5935775</td><td>CM%   </td></tr>\n",
       "\t<tr><th scope=row>3</th><td>CHP_330</td><td>0</td><td>12.92573</td><td>7.673369</td><td>2.667214</td><td>0.9848174</td><td>75.74887</td><td>4.636849</td><td>2.749282</td><td>4.636849</td><td>NA</td><td>NA</td><td>Solid tumors</td><td>Naïve%_scaled</td><td>-0.7172710</td><td>Naïve%</td></tr>\n",
       "\t<tr><th scope=row>4</th><td>CHP_330</td><td>0</td><td>12.92573</td><td>7.673369</td><td>2.667214</td><td>0.9848174</td><td>75.74887</td><td>4.636849</td><td>2.749282</td><td>4.636849</td><td>NA</td><td>NA</td><td>Solid tumors</td><td>SCM%_scaled  </td><td> 0.1325379</td><td>SCM%  </td></tr>\n",
       "\t<tr><th scope=row>5</th><td>CHP_330</td><td>0</td><td>12.92573</td><td>7.673369</td><td>2.667214</td><td>0.9848174</td><td>75.74887</td><td>4.636849</td><td>2.749282</td><td>4.636849</td><td>NA</td><td>NA</td><td>Solid tumors</td><td>TE%_scaled   </td><td> 0.9093799</td><td>TE%   </td></tr>\n",
       "\t<tr><th scope=row>6</th><td>CHP_330</td><td>0</td><td>12.92573</td><td>7.673369</td><td>2.667214</td><td>0.9848174</td><td>75.74887</td><td>4.636849</td><td>2.749282</td><td>4.636849</td><td>NA</td><td>NA</td><td>Solid tumors</td><td>PD1%_scaled  </td><td>-0.5543962</td><td>PD1%  </td></tr>\n",
       "</tbody>\n",
       "</table>\n"
      ],
      "text/latex": [
       "A data.frame: 6 x 16\n",
       "\\begin{tabular}{r|llllllllllllllll}\n",
       "  & Patient & ATC & Naïve\\% & SCM\\% & CM\\% & EM\\% & TE\\% & PD1\\% & LAG3\\% & TIM3\\% & observed\\_Shannon & cfShannon & cancergroup & Feature & X01 & Featurename\\\\\n",
       "  & <chr> & <dbl> & <dbl> & <dbl> & <dbl> & <dbl> & <dbl> & <dbl> & <dbl> & <dbl> & <dbl> & <dbl> & <chr> & <chr> & <dbl> & <fct>\\\\\n",
       "\\hline\n",
       "\t1 & CHP\\_330 & 0 & 12.92573 & 7.673369 & 2.667214 & 0.9848174 & 75.74887 & 4.636849 & 2.749282 & 4.636849 & NA & NA & Solid tumors & EM\\%\\_scaled    & -0.4613281 & EM\\%   \\\\\n",
       "\t2 & CHP\\_330 & 0 & 12.92573 & 7.673369 & 2.667214 & 0.9848174 & 75.74887 & 4.636849 & 2.749282 & 4.636849 & NA & NA & Solid tumors & CM\\%\\_scaled    & -0.5935775 & CM\\%   \\\\\n",
       "\t3 & CHP\\_330 & 0 & 12.92573 & 7.673369 & 2.667214 & 0.9848174 & 75.74887 & 4.636849 & 2.749282 & 4.636849 & NA & NA & Solid tumors & Naïve\\%\\_scaled & -0.7172710 & Naïve\\%\\\\\n",
       "\t4 & CHP\\_330 & 0 & 12.92573 & 7.673369 & 2.667214 & 0.9848174 & 75.74887 & 4.636849 & 2.749282 & 4.636849 & NA & NA & Solid tumors & SCM\\%\\_scaled   &  0.1325379 & SCM\\%  \\\\\n",
       "\t5 & CHP\\_330 & 0 & 12.92573 & 7.673369 & 2.667214 & 0.9848174 & 75.74887 & 4.636849 & 2.749282 & 4.636849 & NA & NA & Solid tumors & TE\\%\\_scaled    &  0.9093799 & TE\\%   \\\\\n",
       "\t6 & CHP\\_330 & 0 & 12.92573 & 7.673369 & 2.667214 & 0.9848174 & 75.74887 & 4.636849 & 2.749282 & 4.636849 & NA & NA & Solid tumors & PD1\\%\\_scaled   & -0.5543962 & PD1\\%  \\\\\n",
       "\\end{tabular}\n"
      ],
      "text/markdown": [
       "\n",
       "A data.frame: 6 x 16\n",
       "\n",
       "| <!--/--> | Patient &lt;chr&gt; | ATC &lt;dbl&gt; | Naïve% &lt;dbl&gt; | SCM% &lt;dbl&gt; | CM% &lt;dbl&gt; | EM% &lt;dbl&gt; | TE% &lt;dbl&gt; | PD1% &lt;dbl&gt; | LAG3% &lt;dbl&gt; | TIM3% &lt;dbl&gt; | observed_Shannon &lt;dbl&gt; | cfShannon &lt;dbl&gt; | cancergroup &lt;chr&gt; | Feature &lt;chr&gt; | X01 &lt;dbl&gt; | Featurename &lt;fct&gt; |\n",
       "|---|---|---|---|---|---|---|---|---|---|---|---|---|---|---|---|---|\n",
       "| 1 | CHP_330 | 0 | 12.92573 | 7.673369 | 2.667214 | 0.9848174 | 75.74887 | 4.636849 | 2.749282 | 4.636849 | NA | NA | Solid tumors | EM%_scaled    | -0.4613281 | EM%    |\n",
       "| 2 | CHP_330 | 0 | 12.92573 | 7.673369 | 2.667214 | 0.9848174 | 75.74887 | 4.636849 | 2.749282 | 4.636849 | NA | NA | Solid tumors | CM%_scaled    | -0.5935775 | CM%    |\n",
       "| 3 | CHP_330 | 0 | 12.92573 | 7.673369 | 2.667214 | 0.9848174 | 75.74887 | 4.636849 | 2.749282 | 4.636849 | NA | NA | Solid tumors | Naïve%_scaled | -0.7172710 | Naïve% |\n",
       "| 4 | CHP_330 | 0 | 12.92573 | 7.673369 | 2.667214 | 0.9848174 | 75.74887 | 4.636849 | 2.749282 | 4.636849 | NA | NA | Solid tumors | SCM%_scaled   |  0.1325379 | SCM%   |\n",
       "| 5 | CHP_330 | 0 | 12.92573 | 7.673369 | 2.667214 | 0.9848174 | 75.74887 | 4.636849 | 2.749282 | 4.636849 | NA | NA | Solid tumors | TE%_scaled    |  0.9093799 | TE%    |\n",
       "| 6 | CHP_330 | 0 | 12.92573 | 7.673369 | 2.667214 | 0.9848174 | 75.74887 | 4.636849 | 2.749282 | 4.636849 | NA | NA | Solid tumors | PD1%_scaled   | -0.5543962 | PD1%   |\n",
       "\n"
      ],
      "text/plain": [
       "  Patient ATC Naïve%   SCM%     CM%      EM%       TE%      PD1%     LAG3%   \n",
       "1 CHP_330 0   12.92573 7.673369 2.667214 0.9848174 75.74887 4.636849 2.749282\n",
       "2 CHP_330 0   12.92573 7.673369 2.667214 0.9848174 75.74887 4.636849 2.749282\n",
       "3 CHP_330 0   12.92573 7.673369 2.667214 0.9848174 75.74887 4.636849 2.749282\n",
       "4 CHP_330 0   12.92573 7.673369 2.667214 0.9848174 75.74887 4.636849 2.749282\n",
       "5 CHP_330 0   12.92573 7.673369 2.667214 0.9848174 75.74887 4.636849 2.749282\n",
       "6 CHP_330 0   12.92573 7.673369 2.667214 0.9848174 75.74887 4.636849 2.749282\n",
       "  TIM3%    observed_Shannon cfShannon cancergroup  Feature       X01       \n",
       "1 4.636849 NA               NA        Solid tumors EM%_scaled    -0.4613281\n",
       "2 4.636849 NA               NA        Solid tumors CM%_scaled    -0.5935775\n",
       "3 4.636849 NA               NA        Solid tumors Naïve%_scaled -0.7172710\n",
       "4 4.636849 NA               NA        Solid tumors SCM%_scaled    0.1325379\n",
       "5 4.636849 NA               NA        Solid tumors TE%_scaled     0.9093799\n",
       "6 4.636849 NA               NA        Solid tumors PD1%_scaled   -0.5543962\n",
       "  Featurename\n",
       "1 EM%        \n",
       "2 CM%        \n",
       "3 Naïve%     \n",
       "4 SCM%       \n",
       "5 TE%        \n",
       "6 PD1%       "
      ]
     },
     "metadata": {},
     "output_type": "display_data"
    }
   ],
   "source": [
    "head(df_x01_long_narm)"
   ]
  },
  {
   "cell_type": "code",
   "execution_count": 94,
   "metadata": {
    "vscode": {
     "languageId": "r"
    }
   },
   "outputs": [],
   "source": [
    "p2 <- ggplot(df_x01_long_narm, aes(y = Featurename, x = X01)) +\n",
    "        geom_point(aes(color = cancergroup), position = position_jitter(w = 0.05, h = 0.15)) +\n",
    "        geom_boxplot(outlier.shape = NA, alpha = 0, color = \"#b7b2b2\") +\n",
    "        myaxis +\n",
    "        myplot +\n",
    "        scale_color_manual(values = group_col) +\n",
    "        theme(legend.position = \"none\", axis.title = element_blank(), axis.text.x = element_text(angle = 0, hjust = 0.5)) +\n",
    "        labs(title = \"Scaled pre-therapy values\")\n"
   ]
  },
  {
   "cell_type": "code",
   "execution_count": 95,
   "metadata": {
    "vscode": {
     "languageId": "r"
    }
   },
   "outputs": [
    {
     "data": {
      "image/png": "[encoded data removed]",
      "text/plain": [
       "plot without title"
      ]
     },
     "metadata": {
      "image/png": {
       "height": 420,
       "width": 420
      }
     },
     "output_type": "display_data"
    }
   ],
   "source": [
    "p2"
   ]
  },
  {
   "cell_type": "code",
   "execution_count": 96,
   "metadata": {
    "vscode": {
     "languageId": "r"
    }
   },
   "outputs": [
    {
     "data": {
      "text/html": [
       "<strong>pdf:</strong> 2"
      ],
      "text/latex": [
       "\\textbf{pdf:} 2"
      ],
      "text/markdown": [
       "**pdf:** 2"
      ],
      "text/plain": [
       "pdf \n",
       "  2 "
      ]
     },
     "metadata": {},
     "output_type": "display_data"
    }
   ],
   "source": [
    "pdf( paste0(plotpath, \"X01.pdf\"), width = 6, height = 8)\n",
    "cowplot::plot_grid(p2, labels = \"A\")# + theme(legend.position = \"bottom\")\n",
    "dev.off()"
   ]
  },
  {
   "cell_type": "markdown",
   "metadata": {},
   "source": [
    "LR and forestplot"
   ]
  },
  {
   "cell_type": "markdown",
   "metadata": {},
   "source": [
    "Use unscaled data for glm"
   ]
  },
  {
   "cell_type": "code",
   "execution_count": 97,
   "metadata": {
    "vscode": {
     "languageId": "r"
    }
   },
   "outputs": [],
   "source": [
    "mycol <- c(\n",
    "  \"cfShannon\", \"observed_Shannon\",\n",
    "  \"LAG3%\", \"TIM3%\", \"PD1%\", \"TE%\", \"EM%\", \"CM%\", \"SCM%\", \"Naïve%\", \"ATC\"\n",
    ")\n"
   ]
  },
  {
   "cell_type": "code",
   "execution_count": 98,
   "metadata": {
    "vscode": {
     "languageId": "r"
    }
   },
   "outputs": [
    {
     "data": {
      "text/html": [
       "<style>\n",
       ".list-inline {list-style: none; margin:0; padding: 0}\n",
       ".list-inline>li {display: inline-block}\n",
       ".list-inline>li:not(:last-child)::after {content: \"\\00b7\"; padding: 0 .5ex}\n",
       "</style>\n",
       "<ol class=list-inline><li>'Patient'</li><li>'ATC'</li><li>'Naïve%'</li><li>'SCM%'</li><li>'CM%'</li><li>'EM%'</li><li>'TE%'</li><li>'PD1%'</li><li>'LAG3%'</li><li>'TIM3%'</li><li>'observed_Shannon'</li><li>'cfShannon'</li><li>'cancergroup'</li><li>'EM%_scaled'</li><li>'CM%_scaled'</li><li>'Naïve%_scaled'</li><li>'SCM%_scaled'</li><li>'TE%_scaled'</li><li>'PD1%_scaled'</li><li>'TIM3%_scaled'</li><li>'LAG3%_scaled'</li><li>'ATC_scaled'</li><li>'observed_Shannon_scaled'</li><li>'cfShannon_scaled'</li></ol>\n"
      ],
      "text/latex": [
       "\\begin{enumerate*}\n",
       "\\item 'Patient'\n",
       "\\item 'ATC'\n",
       "\\item 'Naïve\\%'\n",
       "\\item 'SCM\\%'\n",
       "\\item 'CM\\%'\n",
       "\\item 'EM\\%'\n",
       "\\item 'TE\\%'\n",
       "\\item 'PD1\\%'\n",
       "\\item 'LAG3\\%'\n",
       "\\item 'TIM3\\%'\n",
       "\\item 'observed\\_Shannon'\n",
       "\\item 'cfShannon'\n",
       "\\item 'cancergroup'\n",
       "\\item 'EM\\%\\_scaled'\n",
       "\\item 'CM\\%\\_scaled'\n",
       "\\item 'Naïve\\%\\_scaled'\n",
       "\\item 'SCM\\%\\_scaled'\n",
       "\\item 'TE\\%\\_scaled'\n",
       "\\item 'PD1\\%\\_scaled'\n",
       "\\item 'TIM3\\%\\_scaled'\n",
       "\\item 'LAG3\\%\\_scaled'\n",
       "\\item 'ATC\\_scaled'\n",
       "\\item 'observed\\_Shannon\\_scaled'\n",
       "\\item 'cfShannon\\_scaled'\n",
       "\\end{enumerate*}\n"
      ],
      "text/markdown": [
       "1. 'Patient'\n",
       "2. 'ATC'\n",
       "3. 'Naïve%'\n",
       "4. 'SCM%'\n",
       "5. 'CM%'\n",
       "6. 'EM%'\n",
       "7. 'TE%'\n",
       "8. 'PD1%'\n",
       "9. 'LAG3%'\n",
       "10. 'TIM3%'\n",
       "11. 'observed_Shannon'\n",
       "12. 'cfShannon'\n",
       "13. 'cancergroup'\n",
       "14. 'EM%_scaled'\n",
       "15. 'CM%_scaled'\n",
       "16. 'Naïve%_scaled'\n",
       "17. 'SCM%_scaled'\n",
       "18. 'TE%_scaled'\n",
       "19. 'PD1%_scaled'\n",
       "20. 'TIM3%_scaled'\n",
       "21. 'LAG3%_scaled'\n",
       "22. 'ATC_scaled'\n",
       "23. 'observed_Shannon_scaled'\n",
       "24. 'cfShannon_scaled'\n",
       "\n",
       "\n"
      ],
      "text/plain": [
       " [1] \"Patient\"                 \"ATC\"                    \n",
       " [3] \"Naïve%\"                  \"SCM%\"                   \n",
       " [5] \"CM%\"                     \"EM%\"                    \n",
       " [7] \"TE%\"                     \"PD1%\"                   \n",
       " [9] \"LAG3%\"                   \"TIM3%\"                  \n",
       "[11] \"observed_Shannon\"        \"cfShannon\"              \n",
       "[13] \"cancergroup\"             \"EM%_scaled\"             \n",
       "[15] \"CM%_scaled\"              \"Naïve%_scaled\"          \n",
       "[17] \"SCM%_scaled\"             \"TE%_scaled\"             \n",
       "[19] \"PD1%_scaled\"             \"TIM3%_scaled\"           \n",
       "[21] \"LAG3%_scaled\"            \"ATC_scaled\"             \n",
       "[23] \"observed_Shannon_scaled\" \"cfShannon_scaled\"       "
      ]
     },
     "metadata": {},
     "output_type": "display_data"
    }
   ],
   "source": [
    "colnames(df_x01)"
   ]
  },
  {
   "cell_type": "code",
   "execution_count": 99,
   "metadata": {
    "vscode": {
     "languageId": "r"
    }
   },
   "outputs": [
    {
     "data": {
      "text/html": [
       "<style>\n",
       ".list-inline {list-style: none; margin:0; padding: 0}\n",
       ".list-inline>li {display: inline-block}\n",
       ".list-inline>li:not(:last-child)::after {content: \"\\00b7\"; padding: 0 .5ex}\n",
       "</style>\n",
       "<ol class=list-inline><li>'ATC'</li><li>'Naïve%'</li><li>'SCM%'</li><li>'CM%'</li><li>'EM%'</li><li>'TE%'</li><li>'PD1%'</li><li>'TIM3%'</li><li>'LAG3%'</li><li>'observed_Shannon'</li><li>'cfShannon'</li></ol>\n"
      ],
      "text/latex": [
       "\\begin{enumerate*}\n",
       "\\item 'ATC'\n",
       "\\item 'Naïve\\%'\n",
       "\\item 'SCM\\%'\n",
       "\\item 'CM\\%'\n",
       "\\item 'EM\\%'\n",
       "\\item 'TE\\%'\n",
       "\\item 'PD1\\%'\n",
       "\\item 'TIM3\\%'\n",
       "\\item 'LAG3\\%'\n",
       "\\item 'observed\\_Shannon'\n",
       "\\item 'cfShannon'\n",
       "\\end{enumerate*}\n"
      ],
      "text/markdown": [
       "1. 'ATC'\n",
       "2. 'Naïve%'\n",
       "3. 'SCM%'\n",
       "4. 'CM%'\n",
       "5. 'EM%'\n",
       "6. 'TE%'\n",
       "7. 'PD1%'\n",
       "8. 'TIM3%'\n",
       "9. 'LAG3%'\n",
       "10. 'observed_Shannon'\n",
       "11. 'cfShannon'\n",
       "\n",
       "\n"
      ],
      "text/plain": [
       " [1] \"ATC\"              \"Naïve%\"           \"SCM%\"             \"CM%\"             \n",
       " [5] \"EM%\"              \"TE%\"              \"PD1%\"             \"TIM3%\"           \n",
       " [9] \"LAG3%\"            \"observed_Shannon\" \"cfShannon\"       "
      ]
     },
     "metadata": {},
     "output_type": "display_data"
    }
   ],
   "source": [
    "rev(mycol)"
   ]
  },
  {
   "cell_type": "code",
   "execution_count": 100,
   "metadata": {
    "vscode": {
     "languageId": "r"
    }
   },
   "outputs": [],
   "source": [
    "df_x01$Relapse <- pbmc$Relapse[ match(df_x01$Patient, pbmc$Patient) ]"
   ]
  },
  {
   "cell_type": "code",
   "execution_count": 101,
   "metadata": {
    "vscode": {
     "languageId": "r"
    }
   },
   "outputs": [],
   "source": [
    "df_x01_long <- tidyr::pivot_longer(df_x01, all_of(rev(mycol)), names_to = \"Feature\", values_to = \"X01\")"
   ]
  },
  {
   "cell_type": "code",
   "execution_count": 102,
   "metadata": {
    "vscode": {
     "languageId": "r"
    }
   },
   "outputs": [],
   "source": [
    "df_x01_long <- as.data.frame(df_x01_long)"
   ]
  },
  {
   "cell_type": "code",
   "execution_count": 103,
   "metadata": {
    "vscode": {
     "languageId": "r"
    }
   },
   "outputs": [],
   "source": [
    "df_x01_long_narm <- df_x01_long[ !is.na(df_x01_long$X01),]"
   ]
  },
  {
   "cell_type": "code",
   "execution_count": 104,
   "metadata": {
    "vscode": {
     "languageId": "r"
    }
   },
   "outputs": [
    {
     "data": {
      "text/html": [
       "85"
      ],
      "text/latex": [
       "85"
      ],
      "text/markdown": [
       "85"
      ],
      "text/plain": [
       "[1] 85"
      ]
     },
     "metadata": {},
     "output_type": "display_data"
    }
   ],
   "source": [
    "length(unique(df_x01_long_narm$Patient))"
   ]
  },
  {
   "cell_type": "code",
   "execution_count": null,
   "metadata": {
    "vscode": {
     "languageId": "r"
    }
   },
   "outputs": [],
   "source": []
  },
  {
   "cell_type": "code",
   "execution_count": 111,
   "metadata": {
    "vscode": {
     "languageId": "r"
    }
   },
   "outputs": [],
   "source": [
    "feat_lr_mat <- matrix(nrow = length(unique(df_x01_long_narm$Feature)), ncol = 7)\n",
    "rownames(feat_lr_mat) <- unique(df_x01_long_narm$Feature)\n",
    "colnames(feat_lr_mat) <- c('coef', 'exp(coef)', 'SE', 'z', 'Pr(>|z|)', 'lower.95' ,'upper.95')"
   ]
  },
  {
   "cell_type": "code",
   "execution_count": 112,
   "metadata": {
    "vscode": {
     "languageId": "r"
    }
   },
   "outputs": [
    {
     "name": "stdout",
     "output_type": "stream",
     "text": [
      "\n",
      "Call:\n",
      "glm(formula = f, family = \"binomial\", data = df_x01)\n",
      "\n",
      "Deviance Residuals: \n",
      "    Min       1Q   Median       3Q      Max  \n",
      "-0.8153  -0.5734  -0.5565  -0.5514   1.9792  \n",
      "\n",
      "Coefficients:\n",
      "              Estimate Std. Error z value Pr(>|z|)    \n",
      "(Intercept) -1.8066429  0.4053320  -4.457  8.3e-06 ***\n",
      "ATC          0.0001294  0.0002068   0.626    0.531    \n",
      "---\n",
      "Signif. codes:  0 ‘***’ 0.001 ‘**’ 0.01 ‘*’ 0.05 ‘.’ 0.1 ‘ ’ 1\n",
      "\n",
      "(Dispersion parameter for binomial family taken to be 1)\n",
      "\n",
      "    Null deviance: 55.475  on 63  degrees of freedom\n",
      "Residual deviance: 55.114  on 62  degrees of freedom\n",
      "  (21 observations deleted due to missingness)\n",
      "AIC: 59.114\n",
      "\n",
      "Number of Fisher Scoring iterations: 4\n",
      "\n",
      "\n",
      "Call:\n",
      "glm(formula = f, family = \"binomial\", data = df_x01)\n",
      "\n",
      "Deviance Residuals: \n",
      "    Min       1Q   Median       3Q      Max  \n",
      "-0.6626  -0.6135  -0.5652  -0.5003   2.0926  \n",
      "\n",
      "Coefficients:\n",
      "            Estimate Std. Error z value Pr(>|z|)   \n",
      "(Intercept) -1.40184    0.53911  -2.600  0.00931 **\n",
      "`Naïve%`    -0.01093    0.01605  -0.681  0.49600   \n",
      "---\n",
      "Signif. codes:  0 ‘***’ 0.001 ‘**’ 0.01 ‘*’ 0.05 ‘.’ 0.1 ‘ ’ 1\n",
      "\n",
      "(Dispersion parameter for binomial family taken to be 1)\n",
      "\n",
      "    Null deviance: 55.812  on 64  degrees of freedom\n",
      "Residual deviance: 55.320  on 63  degrees of freedom\n",
      "  (20 observations deleted due to missingness)\n",
      "AIC: 59.32\n",
      "\n",
      "Number of Fisher Scoring iterations: 4\n",
      "\n",
      "\n",
      "Call:\n",
      "glm(formula = f, family = \"binomial\", data = df_x01)\n",
      "\n",
      "Deviance Residuals: \n",
      "    Min       1Q   Median       3Q      Max  \n",
      "-0.8481  -0.5833  -0.5017  -0.4733   2.1091  \n",
      "\n",
      "Coefficients:\n",
      "            Estimate Std. Error z value Pr(>|z|)    \n",
      "(Intercept) -2.15188    0.46588  -4.619 3.86e-06 ***\n",
      "`SCM%`       0.05753    0.03580   1.607    0.108    \n",
      "---\n",
      "Signif. codes:  0 ‘***’ 0.001 ‘**’ 0.01 ‘*’ 0.05 ‘.’ 0.1 ‘ ’ 1\n",
      "\n",
      "(Dispersion parameter for binomial family taken to be 1)\n",
      "\n",
      "    Null deviance: 55.812  on 64  degrees of freedom\n",
      "Residual deviance: 53.002  on 63  degrees of freedom\n",
      "  (20 observations deleted due to missingness)\n",
      "AIC: 57.002\n",
      "\n",
      "Number of Fisher Scoring iterations: 4\n",
      "\n",
      "\n",
      "Call:\n",
      "glm(formula = f, family = \"binomial\", data = df_x01)\n",
      "\n",
      "Deviance Residuals: \n",
      "    Min       1Q   Median       3Q      Max  \n",
      "-0.5972  -0.5786  -0.5749  -0.5739   1.9419  \n",
      "\n",
      "Coefficients:\n",
      "             Estimate Std. Error z value Pr(>|z|)    \n",
      "(Intercept) -1.721756   0.447106  -3.851 0.000118 ***\n",
      "`CM%`        0.001759   0.029319   0.060 0.952161    \n",
      "---\n",
      "Signif. codes:  0 ‘***’ 0.001 ‘**’ 0.01 ‘*’ 0.05 ‘.’ 0.1 ‘ ’ 1\n",
      "\n",
      "(Dispersion parameter for binomial family taken to be 1)\n",
      "\n",
      "    Null deviance: 55.812  on 64  degrees of freedom\n",
      "Residual deviance: 55.808  on 63  degrees of freedom\n",
      "  (20 observations deleted due to missingness)\n",
      "AIC: 59.808\n",
      "\n",
      "Number of Fisher Scoring iterations: 3\n",
      "\n",
      "\n",
      "Call:\n",
      "glm(formula = f, family = \"binomial\", data = df_x01)\n",
      "\n",
      "Deviance Residuals: \n",
      "    Min       1Q   Median       3Q      Max  \n",
      "-0.6644  -0.6606  -0.5991  -0.3578   2.2642  \n",
      "\n",
      "Coefficients:\n",
      "            Estimate Std. Error z value Pr(>|z|)    \n",
      "(Intercept) -1.39835    0.39364  -3.552 0.000382 ***\n",
      "`EM%`       -0.10599    0.09457  -1.121 0.262398    \n",
      "---\n",
      "Signif. codes:  0 ‘***’ 0.001 ‘**’ 0.01 ‘*’ 0.05 ‘.’ 0.1 ‘ ’ 1\n",
      "\n",
      "(Dispersion parameter for binomial family taken to be 1)\n",
      "\n",
      "    Null deviance: 55.812  on 64  degrees of freedom\n",
      "Residual deviance: 53.767  on 63  degrees of freedom\n",
      "  (20 observations deleted due to missingness)\n",
      "AIC: 57.767\n",
      "\n",
      "Number of Fisher Scoring iterations: 6\n",
      "\n",
      "\n",
      "Call:\n",
      "glm(formula = f, family = \"binomial\", data = df_x01)\n",
      "\n",
      "Deviance Residuals: \n",
      "    Min       1Q   Median       3Q      Max  \n",
      "-0.6199  -0.5968  -0.5666  -0.5468   1.9964  \n",
      "\n",
      "Coefficients:\n",
      "             Estimate Std. Error z value Pr(>|z|)   \n",
      "(Intercept) -1.867623   0.721136  -2.590   0.0096 **\n",
      "`TE%`        0.003204   0.012256   0.261   0.7938   \n",
      "---\n",
      "Signif. codes:  0 ‘***’ 0.001 ‘**’ 0.01 ‘*’ 0.05 ‘.’ 0.1 ‘ ’ 1\n",
      "\n",
      "(Dispersion parameter for binomial family taken to be 1)\n",
      "\n",
      "    Null deviance: 55.812  on 64  degrees of freedom\n",
      "Residual deviance: 55.743  on 63  degrees of freedom\n",
      "  (20 observations deleted due to missingness)\n",
      "AIC: 59.743\n",
      "\n",
      "Number of Fisher Scoring iterations: 4\n",
      "\n",
      "\n",
      "Call:\n",
      "glm(formula = f, family = \"binomial\", data = df_x01)\n",
      "\n",
      "Deviance Residuals: \n",
      "    Min       1Q   Median       3Q      Max  \n",
      "-0.6000  -0.5975  -0.5932  -0.5838   1.9468  \n",
      "\n",
      "Coefficients:\n",
      "             Estimate Std. Error z value Pr(>|z|)    \n",
      "(Intercept) -1.622085   0.472463  -3.433 0.000596 ***\n",
      "`PD1%`      -0.002309   0.028318  -0.082 0.935002    \n",
      "---\n",
      "Signif. codes:  0 ‘***’ 0.001 ‘**’ 0.01 ‘*’ 0.05 ‘.’ 0.1 ‘ ’ 1\n",
      "\n",
      "(Dispersion parameter for binomial family taken to be 1)\n",
      "\n",
      "    Null deviance: 54.784  on 61  degrees of freedom\n",
      "Residual deviance: 54.777  on 60  degrees of freedom\n",
      "  (23 observations deleted due to missingness)\n",
      "AIC: 58.777\n",
      "\n",
      "Number of Fisher Scoring iterations: 3\n",
      "\n",
      "\n",
      "Call:\n",
      "glm(formula = f, family = \"binomial\", data = df_x01)\n",
      "\n",
      "Deviance Residuals: \n",
      "    Min       1Q   Median       3Q      Max  \n",
      "-0.5996  -0.5973  -0.5932  -0.5843   1.9447  \n",
      "\n",
      "Coefficients:\n",
      "             Estimate Std. Error z value Pr(>|z|)    \n",
      "(Intercept) -1.623624   0.471841  -3.441 0.000579 ***\n",
      "`TIM3%`     -0.002177   0.028245  -0.077 0.938552    \n",
      "---\n",
      "Signif. codes:  0 ‘***’ 0.001 ‘**’ 0.01 ‘*’ 0.05 ‘.’ 0.1 ‘ ’ 1\n",
      "\n",
      "(Dispersion parameter for binomial family taken to be 1)\n",
      "\n",
      "    Null deviance: 54.784  on 61  degrees of freedom\n",
      "Residual deviance: 54.778  on 60  degrees of freedom\n",
      "  (23 observations deleted due to missingness)\n",
      "AIC: 58.778\n",
      "\n",
      "Number of Fisher Scoring iterations: 3\n",
      "\n",
      "\n",
      "Call:\n",
      "glm(formula = f, family = \"binomial\", data = df_x01)\n",
      "\n",
      "Deviance Residuals: \n",
      "    Min       1Q   Median       3Q      Max  \n",
      "-0.6445  -0.6234  -0.5861  -0.5381   2.1766  \n",
      "\n",
      "Coefficients:\n",
      "            Estimate Std. Error z value Pr(>|z|)   \n",
      "(Intercept) -1.45776    0.52481  -2.778  0.00548 **\n",
      "`LAG3%`     -0.02194    0.04774  -0.460  0.64586   \n",
      "---\n",
      "Signif. codes:  0 ‘***’ 0.001 ‘**’ 0.01 ‘*’ 0.05 ‘.’ 0.1 ‘ ’ 1\n",
      "\n",
      "(Dispersion parameter for binomial family taken to be 1)\n",
      "\n",
      "    Null deviance: 54.784  on 61  degrees of freedom\n",
      "Residual deviance: 54.559  on 60  degrees of freedom\n",
      "  (23 observations deleted due to missingness)\n",
      "AIC: 58.559\n",
      "\n",
      "Number of Fisher Scoring iterations: 4\n",
      "\n",
      "\n",
      "Call:\n",
      "glm(formula = f, family = \"binomial\", data = df_x01)\n",
      "\n",
      "Deviance Residuals: \n",
      "    Min       1Q   Median       3Q      Max  \n",
      "-0.8054  -0.6649  -0.6501  -0.6434   1.8313  \n",
      "\n",
      "Coefficients:\n",
      "            Estimate Std. Error z value Pr(>|z|)    \n",
      "(Intercept) -1.48154    0.43544  -3.402 0.000668 ***\n",
      "cfShannon    0.01167    0.03239   0.360 0.718738    \n",
      "---\n",
      "Signif. codes:  0 ‘***’ 0.001 ‘**’ 0.01 ‘*’ 0.05 ‘.’ 0.1 ‘ ’ 1\n",
      "\n",
      "(Dispersion parameter for binomial family taken to be 1)\n",
      "\n",
      "    Null deviance: 55.044  on 54  degrees of freedom\n",
      "Residual deviance: 54.920  on 53  degrees of freedom\n",
      "  (30 observations deleted due to missingness)\n",
      "AIC: 58.92\n",
      "\n",
      "Number of Fisher Scoring iterations: 4\n",
      "\n",
      "\n",
      "Call:\n",
      "glm(formula = f, family = \"binomial\", data = df_x01)\n",
      "\n",
      "Deviance Residuals: \n",
      "    Min       1Q   Median       3Q      Max  \n",
      "-0.6084  -0.5930  -0.5524  -0.4053   2.0552  \n",
      "\n",
      "Coefficients:\n",
      "                  Estimate Std. Error z value Pr(>|z|)   \n",
      "(Intercept)      -1.590771   0.566286  -2.809  0.00497 **\n",
      "observed_Shannon -0.002195   0.003521  -0.623  0.53298   \n",
      "---\n",
      "Signif. codes:  0 ‘***’ 0.001 ‘**’ 0.01 ‘*’ 0.05 ‘.’ 0.1 ‘ ’ 1\n",
      "\n",
      "(Dispersion parameter for binomial family taken to be 1)\n",
      "\n",
      "    Null deviance: 35.051  on 43  degrees of freedom\n",
      "Residual deviance: 34.604  on 42  degrees of freedom\n",
      "  (41 observations deleted due to missingness)\n",
      "AIC: 38.604\n",
      "\n",
      "Number of Fisher Scoring iterations: 5\n",
      "\n"
     ]
    }
   ],
   "source": [
    "for (i in rownames(feat_lr_mat)) {\n",
    "    # message(i)\n",
    "    f <- as.formula(paste0(\"Relapse~`\", i, \"`\")) # univariate\n",
    "    lrmodel <- glm(f, data = df_x01, family = \"binomial\")\n",
    "    sumlrmodel <- summary(lrmodel)\n",
    "    print(sumlrmodel)\n",
    "    myCI <- exp(confint.default(lrmodel, level = 0.95))\n",
    "\n",
    "    feat_lr_mat[i, \"coef\"] <- sumlrmodel$coefficients[2, \"Estimate\"]\n",
    "    # exp of estimate is the odds ratio\n",
    "    feat_lr_mat[i, \"exp(coef)\"] <- exp(sumlrmodel$coefficients[2, \"Estimate\"])\n",
    "    feat_lr_mat[i, \"SE\"] <- sumlrmodel$coefficients[2, \"Std. Error\"]\n",
    "    feat_lr_mat[i, \"z\"] <- sumlrmodel$coefficients[2, \"z value\"]\n",
    "    feat_lr_mat[i, \"Pr(>|z|)\"] <- sumlrmodel$coefficients[2, \"Pr(>|z|)\"]\n",
    "    # from myCI\n",
    "    feat_lr_mat[i, \"lower.95\"] <- myCI[2, 1]\n",
    "    feat_lr_mat[i, \"upper.95\"] <- myCI[2, 2]\n",
    "}\n"
   ]
  },
  {
   "cell_type": "code",
   "execution_count": 113,
   "metadata": {
    "vscode": {
     "languageId": "r"
    }
   },
   "outputs": [
    {
     "data": {
      "text/html": [
       "<table class=\"dataframe\">\n",
       "<caption>A matrix: 11 x 7 of type dbl</caption>\n",
       "<thead>\n",
       "\t<tr><th></th><th scope=col>coef</th><th scope=col>exp(coef)</th><th scope=col>SE</th><th scope=col>z</th><th scope=col>Pr(&gt;|z|)</th><th scope=col>lower.95</th><th scope=col>upper.95</th></tr>\n",
       "</thead>\n",
       "<tbody>\n",
       "\t<tr><th scope=row>ATC</th><td> 0.0001294473</td><td>1.0001295</td><td>0.0002068258</td><td> 0.62587575</td><td>0.5313964</td><td>0.9997241</td><td>1.000535</td></tr>\n",
       "\t<tr><th scope=row>Naïve%</th><td>-0.0109269659</td><td>0.9891325</td><td>0.0160503492</td><td>-0.68079303</td><td>0.4960025</td><td>0.9585006</td><td>1.020743</td></tr>\n",
       "\t<tr><th scope=row>SCM%</th><td> 0.0575297963</td><td>1.0592168</td><td>0.0358012671</td><td> 1.60692067</td><td>0.1080718</td><td>0.9874401</td><td>1.136211</td></tr>\n",
       "\t<tr><th scope=row>CM%</th><td> 0.0017589316</td><td>1.0017605</td><td>0.0293185270</td><td> 0.05999386</td><td>0.9521605</td><td>0.9458187</td><td>1.061011</td></tr>\n",
       "\t<tr><th scope=row>EM%</th><td>-0.1059940097</td><td>0.8994300</td><td>0.0945748699</td><td>-1.12074180</td><td>0.2623978</td><td>0.7472486</td><td>1.082604</td></tr>\n",
       "\t<tr><th scope=row>TE%</th><td> 0.0032037857</td><td>1.0032089</td><td>0.0122562344</td><td> 0.26140049</td><td>0.7937837</td><td>0.9793972</td><td>1.027600</td></tr>\n",
       "\t<tr><th scope=row>PD1%</th><td>-0.0023094237</td><td>0.9976932</td><td>0.0283180158</td><td>-0.08155316</td><td>0.9350020</td><td>0.9438276</td><td>1.054633</td></tr>\n",
       "\t<tr><th scope=row>TIM3%</th><td>-0.0021773887</td><td>0.9978250</td><td>0.0282449565</td><td>-0.07708947</td><td>0.9385524</td><td>0.9440874</td><td>1.054621</td></tr>\n",
       "\t<tr><th scope=row>LAG3%</th><td>-0.0219359911</td><td>0.9783029</td><td>0.0477366984</td><td>-0.45952049</td><td>0.6458604</td><td>0.8909222</td><td>1.074254</td></tr>\n",
       "\t<tr><th scope=row>cfShannon</th><td> 0.0116657386</td><td>1.0117340</td><td>0.0323916924</td><td> 0.36014600</td><td>0.7187380</td><td>0.9494990</td><td>1.078048</td></tr>\n",
       "\t<tr><th scope=row>observed_Shannon</th><td>-0.0021952153</td><td>0.9978072</td><td>0.0035209960</td><td>-0.62346431</td><td>0.5329795</td><td>0.9909450</td><td>1.004717</td></tr>\n",
       "</tbody>\n",
       "</table>\n"
      ],
      "text/latex": [
       "A matrix: 11 x 7 of type dbl\n",
       "\\begin{tabular}{r|lllllll}\n",
       "  & coef & exp(coef) & SE & z & Pr(>\\textbar{}z\\textbar{}) & lower.95 & upper.95\\\\\n",
       "\\hline\n",
       "\tATC &  0.0001294473 & 1.0001295 & 0.0002068258 &  0.62587575 & 0.5313964 & 0.9997241 & 1.000535\\\\\n",
       "\tNaïve\\% & -0.0109269659 & 0.9891325 & 0.0160503492 & -0.68079303 & 0.4960025 & 0.9585006 & 1.020743\\\\\n",
       "\tSCM\\% &  0.0575297963 & 1.0592168 & 0.0358012671 &  1.60692067 & 0.1080718 & 0.9874401 & 1.136211\\\\\n",
       "\tCM\\% &  0.0017589316 & 1.0017605 & 0.0293185270 &  0.05999386 & 0.9521605 & 0.9458187 & 1.061011\\\\\n",
       "\tEM\\% & -0.1059940097 & 0.8994300 & 0.0945748699 & -1.12074180 & 0.2623978 & 0.7472486 & 1.082604\\\\\n",
       "\tTE\\% &  0.0032037857 & 1.0032089 & 0.0122562344 &  0.26140049 & 0.7937837 & 0.9793972 & 1.027600\\\\\n",
       "\tPD1\\% & -0.0023094237 & 0.9976932 & 0.0283180158 & -0.08155316 & 0.9350020 & 0.9438276 & 1.054633\\\\\n",
       "\tTIM3\\% & -0.0021773887 & 0.9978250 & 0.0282449565 & -0.07708947 & 0.9385524 & 0.9440874 & 1.054621\\\\\n",
       "\tLAG3\\% & -0.0219359911 & 0.9783029 & 0.0477366984 & -0.45952049 & 0.6458604 & 0.8909222 & 1.074254\\\\\n",
       "\tcfShannon &  0.0116657386 & 1.0117340 & 0.0323916924 &  0.36014600 & 0.7187380 & 0.9494990 & 1.078048\\\\\n",
       "\tobserved\\_Shannon & -0.0021952153 & 0.9978072 & 0.0035209960 & -0.62346431 & 0.5329795 & 0.9909450 & 1.004717\\\\\n",
       "\\end{tabular}\n"
      ],
      "text/markdown": [
       "\n",
       "A matrix: 11 x 7 of type dbl\n",
       "\n",
       "| <!--/--> | coef | exp(coef) | SE | z | Pr(&gt;|z|) | lower.95 | upper.95 |\n",
       "|---|---|---|---|---|---|---|---|\n",
       "| ATC |  0.0001294473 | 1.0001295 | 0.0002068258 |  0.62587575 | 0.5313964 | 0.9997241 | 1.000535 |\n",
       "| Naïve% | -0.0109269659 | 0.9891325 | 0.0160503492 | -0.68079303 | 0.4960025 | 0.9585006 | 1.020743 |\n",
       "| SCM% |  0.0575297963 | 1.0592168 | 0.0358012671 |  1.60692067 | 0.1080718 | 0.9874401 | 1.136211 |\n",
       "| CM% |  0.0017589316 | 1.0017605 | 0.0293185270 |  0.05999386 | 0.9521605 | 0.9458187 | 1.061011 |\n",
       "| EM% | -0.1059940097 | 0.8994300 | 0.0945748699 | -1.12074180 | 0.2623978 | 0.7472486 | 1.082604 |\n",
       "| TE% |  0.0032037857 | 1.0032089 | 0.0122562344 |  0.26140049 | 0.7937837 | 0.9793972 | 1.027600 |\n",
       "| PD1% | -0.0023094237 | 0.9976932 | 0.0283180158 | -0.08155316 | 0.9350020 | 0.9438276 | 1.054633 |\n",
       "| TIM3% | -0.0021773887 | 0.9978250 | 0.0282449565 | -0.07708947 | 0.9385524 | 0.9440874 | 1.054621 |\n",
       "| LAG3% | -0.0219359911 | 0.9783029 | 0.0477366984 | -0.45952049 | 0.6458604 | 0.8909222 | 1.074254 |\n",
       "| cfShannon |  0.0116657386 | 1.0117340 | 0.0323916924 |  0.36014600 | 0.7187380 | 0.9494990 | 1.078048 |\n",
       "| observed_Shannon | -0.0021952153 | 0.9978072 | 0.0035209960 | -0.62346431 | 0.5329795 | 0.9909450 | 1.004717 |\n",
       "\n"
      ],
      "text/plain": [
       "                 coef          exp(coef) SE           z           Pr(>|z|) \n",
       "ATC               0.0001294473 1.0001295 0.0002068258  0.62587575 0.5313964\n",
       "Naïve%           -0.0109269659 0.9891325 0.0160503492 -0.68079303 0.4960025\n",
       "SCM%              0.0575297963 1.0592168 0.0358012671  1.60692067 0.1080718\n",
       "CM%               0.0017589316 1.0017605 0.0293185270  0.05999386 0.9521605\n",
       "EM%              -0.1059940097 0.8994300 0.0945748699 -1.12074180 0.2623978\n",
       "TE%               0.0032037857 1.0032089 0.0122562344  0.26140049 0.7937837\n",
       "PD1%             -0.0023094237 0.9976932 0.0283180158 -0.08155316 0.9350020\n",
       "TIM3%            -0.0021773887 0.9978250 0.0282449565 -0.07708947 0.9385524\n",
       "LAG3%            -0.0219359911 0.9783029 0.0477366984 -0.45952049 0.6458604\n",
       "cfShannon         0.0116657386 1.0117340 0.0323916924  0.36014600 0.7187380\n",
       "observed_Shannon -0.0021952153 0.9978072 0.0035209960 -0.62346431 0.5329795\n",
       "                 lower.95  upper.95\n",
       "ATC              0.9997241 1.000535\n",
       "Naïve%           0.9585006 1.020743\n",
       "SCM%             0.9874401 1.136211\n",
       "CM%              0.9458187 1.061011\n",
       "EM%              0.7472486 1.082604\n",
       "TE%              0.9793972 1.027600\n",
       "PD1%             0.9438276 1.054633\n",
       "TIM3%            0.9440874 1.054621\n",
       "LAG3%            0.8909222 1.074254\n",
       "cfShannon        0.9494990 1.078048\n",
       "observed_Shannon 0.9909450 1.004717"
      ]
     },
     "metadata": {},
     "output_type": "display_data"
    }
   ],
   "source": [
    "feat_lr_mat"
   ]
  },
  {
   "cell_type": "code",
   "execution_count": 114,
   "metadata": {
    "vscode": {
     "languageId": "r"
    }
   },
   "outputs": [],
   "source": [
    "fdr_df <- as.matrix(p.adjust(feat_lr_mat[, 5], method = \"fdr\"))\n",
    "colnames(fdr_df)[1] <- \"fdr\"\n",
    "feat_lr_mat <- cbind(feat_lr_mat, fdr_df)\n"
   ]
  },
  {
   "cell_type": "code",
   "execution_count": 115,
   "metadata": {
    "vscode": {
     "languageId": "r"
    }
   },
   "outputs": [],
   "source": [
    "feat_lr_mat <- as.data.frame(feat_lr_mat)"
   ]
  },
  {
   "cell_type": "code",
   "execution_count": 116,
   "metadata": {
    "vscode": {
     "languageId": "r"
    }
   },
   "outputs": [],
   "source": [
    "feat_lr_mat$Feature <- rownames(feat_lr_mat)\n",
    "\n",
    "feat_lr_mat$Feature[feat_lr_mat$Feature == \"cfShannon\"] <- \"cfTCR Shannon\"\n",
    "feat_lr_mat$Feature[feat_lr_mat$Feature == \"observed_Shannon\"] <- \"TCR Shannon\""
   ]
  },
  {
   "cell_type": "code",
   "execution_count": 117,
   "metadata": {
    "vscode": {
     "languageId": "r"
    }
   },
   "outputs": [
    {
     "data": {
      "text/html": [
       "<table class=\"dataframe\">\n",
       "<caption>A data.frame: 11 x 9</caption>\n",
       "<thead>\n",
       "\t<tr><th></th><th scope=col>coef</th><th scope=col>exp(coef)</th><th scope=col>SE</th><th scope=col>z</th><th scope=col>Pr(&gt;|z|)</th><th scope=col>lower.95</th><th scope=col>upper.95</th><th scope=col>fdr</th><th scope=col>Feature</th></tr>\n",
       "\t<tr><th></th><th scope=col>&lt;dbl&gt;</th><th scope=col>&lt;dbl&gt;</th><th scope=col>&lt;dbl&gt;</th><th scope=col>&lt;dbl&gt;</th><th scope=col>&lt;dbl&gt;</th><th scope=col>&lt;dbl&gt;</th><th scope=col>&lt;dbl&gt;</th><th scope=col>&lt;dbl&gt;</th><th scope=col>&lt;chr&gt;</th></tr>\n",
       "</thead>\n",
       "<tbody>\n",
       "\t<tr><th scope=row>ATC</th><td> 0.0001294473</td><td>1.0001295</td><td>0.0002068258</td><td> 0.62587575</td><td>0.5313964</td><td>0.9997241</td><td>1.000535</td><td>0.9521605</td><td>ATC          </td></tr>\n",
       "\t<tr><th scope=row>Naïve%</th><td>-0.0109269659</td><td>0.9891325</td><td>0.0160503492</td><td>-0.68079303</td><td>0.4960025</td><td>0.9585006</td><td>1.020743</td><td>0.9521605</td><td>Naïve%       </td></tr>\n",
       "\t<tr><th scope=row>SCM%</th><td> 0.0575297963</td><td>1.0592168</td><td>0.0358012671</td><td> 1.60692067</td><td>0.1080718</td><td>0.9874401</td><td>1.136211</td><td>0.9521605</td><td>SCM%         </td></tr>\n",
       "\t<tr><th scope=row>CM%</th><td> 0.0017589316</td><td>1.0017605</td><td>0.0293185270</td><td> 0.05999386</td><td>0.9521605</td><td>0.9458187</td><td>1.061011</td><td>0.9521605</td><td>CM%          </td></tr>\n",
       "\t<tr><th scope=row>EM%</th><td>-0.1059940097</td><td>0.8994300</td><td>0.0945748699</td><td>-1.12074180</td><td>0.2623978</td><td>0.7472486</td><td>1.082604</td><td>0.9521605</td><td>EM%          </td></tr>\n",
       "\t<tr><th scope=row>TE%</th><td> 0.0032037857</td><td>1.0032089</td><td>0.0122562344</td><td> 0.26140049</td><td>0.7937837</td><td>0.9793972</td><td>1.027600</td><td>0.9521605</td><td>TE%          </td></tr>\n",
       "\t<tr><th scope=row>PD1%</th><td>-0.0023094237</td><td>0.9976932</td><td>0.0283180158</td><td>-0.08155316</td><td>0.9350020</td><td>0.9438276</td><td>1.054633</td><td>0.9521605</td><td>PD1%         </td></tr>\n",
       "\t<tr><th scope=row>TIM3%</th><td>-0.0021773887</td><td>0.9978250</td><td>0.0282449565</td><td>-0.07708947</td><td>0.9385524</td><td>0.9440874</td><td>1.054621</td><td>0.9521605</td><td>TIM3%        </td></tr>\n",
       "\t<tr><th scope=row>LAG3%</th><td>-0.0219359911</td><td>0.9783029</td><td>0.0477366984</td><td>-0.45952049</td><td>0.6458604</td><td>0.8909222</td><td>1.074254</td><td>0.9521605</td><td>LAG3%        </td></tr>\n",
       "\t<tr><th scope=row>cfShannon</th><td> 0.0116657386</td><td>1.0117340</td><td>0.0323916924</td><td> 0.36014600</td><td>0.7187380</td><td>0.9494990</td><td>1.078048</td><td>0.9521605</td><td>cfTCR Shannon</td></tr>\n",
       "\t<tr><th scope=row>observed_Shannon</th><td>-0.0021952153</td><td>0.9978072</td><td>0.0035209960</td><td>-0.62346431</td><td>0.5329795</td><td>0.9909450</td><td>1.004717</td><td>0.9521605</td><td>TCR Shannon  </td></tr>\n",
       "</tbody>\n",
       "</table>\n"
      ],
      "text/latex": [
       "A data.frame: 11 x 9\n",
       "\\begin{tabular}{r|lllllllll}\n",
       "  & coef & exp(coef) & SE & z & Pr(>\\textbar{}z\\textbar{}) & lower.95 & upper.95 & fdr & Feature\\\\\n",
       "  & <dbl> & <dbl> & <dbl> & <dbl> & <dbl> & <dbl> & <dbl> & <dbl> & <chr>\\\\\n",
       "\\hline\n",
       "\tATC &  0.0001294473 & 1.0001295 & 0.0002068258 &  0.62587575 & 0.5313964 & 0.9997241 & 1.000535 & 0.9521605 & ATC          \\\\\n",
       "\tNaïve\\% & -0.0109269659 & 0.9891325 & 0.0160503492 & -0.68079303 & 0.4960025 & 0.9585006 & 1.020743 & 0.9521605 & Naïve\\%       \\\\\n",
       "\tSCM\\% &  0.0575297963 & 1.0592168 & 0.0358012671 &  1.60692067 & 0.1080718 & 0.9874401 & 1.136211 & 0.9521605 & SCM\\%         \\\\\n",
       "\tCM\\% &  0.0017589316 & 1.0017605 & 0.0293185270 &  0.05999386 & 0.9521605 & 0.9458187 & 1.061011 & 0.9521605 & CM\\%          \\\\\n",
       "\tEM\\% & -0.1059940097 & 0.8994300 & 0.0945748699 & -1.12074180 & 0.2623978 & 0.7472486 & 1.082604 & 0.9521605 & EM\\%          \\\\\n",
       "\tTE\\% &  0.0032037857 & 1.0032089 & 0.0122562344 &  0.26140049 & 0.7937837 & 0.9793972 & 1.027600 & 0.9521605 & TE\\%          \\\\\n",
       "\tPD1\\% & -0.0023094237 & 0.9976932 & 0.0283180158 & -0.08155316 & 0.9350020 & 0.9438276 & 1.054633 & 0.9521605 & PD1\\%         \\\\\n",
       "\tTIM3\\% & -0.0021773887 & 0.9978250 & 0.0282449565 & -0.07708947 & 0.9385524 & 0.9440874 & 1.054621 & 0.9521605 & TIM3\\%        \\\\\n",
       "\tLAG3\\% & -0.0219359911 & 0.9783029 & 0.0477366984 & -0.45952049 & 0.6458604 & 0.8909222 & 1.074254 & 0.9521605 & LAG3\\%        \\\\\n",
       "\tcfShannon &  0.0116657386 & 1.0117340 & 0.0323916924 &  0.36014600 & 0.7187380 & 0.9494990 & 1.078048 & 0.9521605 & cfTCR Shannon\\\\\n",
       "\tobserved\\_Shannon & -0.0021952153 & 0.9978072 & 0.0035209960 & -0.62346431 & 0.5329795 & 0.9909450 & 1.004717 & 0.9521605 & TCR Shannon  \\\\\n",
       "\\end{tabular}\n"
      ],
      "text/markdown": [
       "\n",
       "A data.frame: 11 x 9\n",
       "\n",
       "| <!--/--> | coef &lt;dbl&gt; | exp(coef) &lt;dbl&gt; | SE &lt;dbl&gt; | z &lt;dbl&gt; | Pr(&gt;|z|) &lt;dbl&gt; | lower.95 &lt;dbl&gt; | upper.95 &lt;dbl&gt; | fdr &lt;dbl&gt; | Feature &lt;chr&gt; |\n",
       "|---|---|---|---|---|---|---|---|---|---|\n",
       "| ATC |  0.0001294473 | 1.0001295 | 0.0002068258 |  0.62587575 | 0.5313964 | 0.9997241 | 1.000535 | 0.9521605 | ATC           |\n",
       "| Naïve% | -0.0109269659 | 0.9891325 | 0.0160503492 | -0.68079303 | 0.4960025 | 0.9585006 | 1.020743 | 0.9521605 | Naïve%        |\n",
       "| SCM% |  0.0575297963 | 1.0592168 | 0.0358012671 |  1.60692067 | 0.1080718 | 0.9874401 | 1.136211 | 0.9521605 | SCM%          |\n",
       "| CM% |  0.0017589316 | 1.0017605 | 0.0293185270 |  0.05999386 | 0.9521605 | 0.9458187 | 1.061011 | 0.9521605 | CM%           |\n",
       "| EM% | -0.1059940097 | 0.8994300 | 0.0945748699 | -1.12074180 | 0.2623978 | 0.7472486 | 1.082604 | 0.9521605 | EM%           |\n",
       "| TE% |  0.0032037857 | 1.0032089 | 0.0122562344 |  0.26140049 | 0.7937837 | 0.9793972 | 1.027600 | 0.9521605 | TE%           |\n",
       "| PD1% | -0.0023094237 | 0.9976932 | 0.0283180158 | -0.08155316 | 0.9350020 | 0.9438276 | 1.054633 | 0.9521605 | PD1%          |\n",
       "| TIM3% | -0.0021773887 | 0.9978250 | 0.0282449565 | -0.07708947 | 0.9385524 | 0.9440874 | 1.054621 | 0.9521605 | TIM3%         |\n",
       "| LAG3% | -0.0219359911 | 0.9783029 | 0.0477366984 | -0.45952049 | 0.6458604 | 0.8909222 | 1.074254 | 0.9521605 | LAG3%         |\n",
       "| cfShannon |  0.0116657386 | 1.0117340 | 0.0323916924 |  0.36014600 | 0.7187380 | 0.9494990 | 1.078048 | 0.9521605 | cfTCR Shannon |\n",
       "| observed_Shannon | -0.0021952153 | 0.9978072 | 0.0035209960 | -0.62346431 | 0.5329795 | 0.9909450 | 1.004717 | 0.9521605 | TCR Shannon   |\n",
       "\n"
      ],
      "text/plain": [
       "                 coef          exp(coef) SE           z           Pr(>|z|) \n",
       "ATC               0.0001294473 1.0001295 0.0002068258  0.62587575 0.5313964\n",
       "Naïve%           -0.0109269659 0.9891325 0.0160503492 -0.68079303 0.4960025\n",
       "SCM%              0.0575297963 1.0592168 0.0358012671  1.60692067 0.1080718\n",
       "CM%               0.0017589316 1.0017605 0.0293185270  0.05999386 0.9521605\n",
       "EM%              -0.1059940097 0.8994300 0.0945748699 -1.12074180 0.2623978\n",
       "TE%               0.0032037857 1.0032089 0.0122562344  0.26140049 0.7937837\n",
       "PD1%             -0.0023094237 0.9976932 0.0283180158 -0.08155316 0.9350020\n",
       "TIM3%            -0.0021773887 0.9978250 0.0282449565 -0.07708947 0.9385524\n",
       "LAG3%            -0.0219359911 0.9783029 0.0477366984 -0.45952049 0.6458604\n",
       "cfShannon         0.0116657386 1.0117340 0.0323916924  0.36014600 0.7187380\n",
       "observed_Shannon -0.0021952153 0.9978072 0.0035209960 -0.62346431 0.5329795\n",
       "                 lower.95  upper.95 fdr       Feature      \n",
       "ATC              0.9997241 1.000535 0.9521605 ATC          \n",
       "Naïve%           0.9585006 1.020743 0.9521605 Naïve%       \n",
       "SCM%             0.9874401 1.136211 0.9521605 SCM%         \n",
       "CM%              0.9458187 1.061011 0.9521605 CM%          \n",
       "EM%              0.7472486 1.082604 0.9521605 EM%          \n",
       "TE%              0.9793972 1.027600 0.9521605 TE%          \n",
       "PD1%             0.9438276 1.054633 0.9521605 PD1%         \n",
       "TIM3%            0.9440874 1.054621 0.9521605 TIM3%        \n",
       "LAG3%            0.8909222 1.074254 0.9521605 LAG3%        \n",
       "cfShannon        0.9494990 1.078048 0.9521605 cfTCR Shannon\n",
       "observed_Shannon 0.9909450 1.004717 0.9521605 TCR Shannon  "
      ]
     },
     "metadata": {},
     "output_type": "display_data"
    }
   ],
   "source": [
    "feat_lr_mat"
   ]
  },
  {
   "cell_type": "code",
   "execution_count": 118,
   "metadata": {
    "vscode": {
     "languageId": "r"
    }
   },
   "outputs": [],
   "source": [
    "feat_lr_mat$Feature <- factor(feat_lr_mat$Feature,\n",
    "  levels = c(\"cfTCR Shannon\", \"TCR Shannon\",\"LAG3%\",\"TIM3%\",  \"PD1%\", \"TE%\", \"EM%\", \"CM%\", \"SCM%\", \"Naïve%\", \"ATC\")\n",
    ")\n",
    "\n",
    "# reverse the levels\n",
    "feat_lr_mat$Feature <- factor(feat_lr_mat$Feature,\n",
    "  levels = rev(levels(feat_lr_mat$Feature))\n",
    ")\n",
    "# order mat by Feature levels\n",
    "feat_lr_mat <- feat_lr_mat[ order(feat_lr_mat$Feature), ]"
   ]
  },
  {
   "cell_type": "code",
   "execution_count": 119,
   "metadata": {
    "vscode": {
     "languageId": "r"
    }
   },
   "outputs": [],
   "source": [
    "feat_lr_mat$mean <- feat_lr_mat$`exp(coef)`\n",
    "feat_lr_mat$lower <- feat_lr_mat$`lower.95`\n",
    "feat_lr_mat$upper <- feat_lr_mat$`upper.95`"
   ]
  },
  {
   "cell_type": "code",
   "execution_count": 120,
   "metadata": {
    "vscode": {
     "languageId": "r"
    }
   },
   "outputs": [],
   "source": [
    "feat_lr_mat$OR <- as.character(round(feat_lr_mat$`exp(coef)`, 2) )\n",
    "feat_lr_mat$p <- as.character(round(feat_lr_mat$`Pr(>|z|)`, 2) )\n",
    "feat_lr_mat$FDR <- as.character(round(feat_lr_mat$fdr, 2) )"
   ]
  },
  {
   "cell_type": "code",
   "execution_count": 121,
   "metadata": {
    "vscode": {
     "languageId": "r"
    }
   },
   "outputs": [],
   "source": [
    "p3 <- feat_lr_mat |>\n",
    "  forestplot(\n",
    "    labeltext = c(Feature, OR, p, FDR),\n",
    "    clip = c(0.5, 1.5),\n",
    "    boxsize = 0.2,\n",
    "    vertices = TRUE,\n",
    "    xlog = FALSE, zero = 1,\n",
    "    xticks = c(0.5,0.75, 1,1.25, 1.5)\n",
    "  ) |>\n",
    "  fp_set_style(\n",
    "    box = \"royalblue\",\n",
    "    line = \"darkblue\",\n",
    "    summary = \"royalblue\"\n",
    "  ) |>\n",
    "  fp_add_header(\n",
    "    Feature = c(\"\", \"Feature\"),\n",
    "    OR = c(\"\", \"OR\"),\n",
    "    p = c(\"\", \"p value\"),\n",
    "    FDR = c(\"\", \"FDR\")\n",
    "  )\n"
   ]
  },
  {
   "cell_type": "code",
   "execution_count": 122,
   "metadata": {
    "vscode": {
     "languageId": "r"
    }
   },
   "outputs": [
    {
     "ename": "ERROR",
     "evalue": "Error in eval(expr, envir, enclos): object 'width' not found\n",
     "output_type": "error",
     "traceback": [
      "Error in eval(expr, envir, enclos): object 'width' not found\nTraceback:\n"
     ]
    }
   ],
   "source": [
    "width"
   ]
  },
  {
   "cell_type": "code",
   "execution_count": 123,
   "metadata": {
    "vscode": {
     "languageId": "r"
    }
   },
   "outputs": [
    {
     "data": {
      "image/png": "[encoded data removed]",
      "text/plain": [
       "plot without title"
      ]
     },
     "metadata": {
      "image/png": {
       "height": 420,
       "width": 420
      }
     },
     "output_type": "display_data"
    }
   ],
   "source": [
    "library(grid)\n",
    "grid.newpage()\n",
    "pushViewport(viewport(layout = grid.layout(\n",
    "    nrow = 1,\n",
    "    ncol = 3,\n",
    "    widths = c(unit(1, \"npc\"), unit(10, \"pt\"), unit(10, \"npc\"), unit(10, \"npc\"), unit(1000, \"npc\"))\n",
    "    )\n",
    "))\n",
    "p3\n",
    "\n"
   ]
  },
  {
   "cell_type": "code",
   "execution_count": 124,
   "metadata": {
    "vscode": {
     "languageId": "r"
    }
   },
   "outputs": [
    {
     "data": {
      "image/png": "[encoded data removed]",
      "text/plain": [
       "plot without title"
      ]
     },
     "metadata": {
      "image/png": {
       "height": 420,
       "width": 420
      }
     },
     "output_type": "display_data"
    }
   ],
   "source": [
    "p3"
   ]
  },
  {
   "cell_type": "code",
   "execution_count": 125,
   "metadata": {
    "vscode": {
     "languageId": "r"
    }
   },
   "outputs": [
    {
     "data": {
      "text/html": [
       "<strong>pdf:</strong> 2"
      ],
      "text/latex": [
       "\\textbf{pdf:} 2"
      ],
      "text/markdown": [
       "**pdf:** 2"
      ],
      "text/plain": [
       "pdf \n",
       "  2 "
      ]
     },
     "metadata": {},
     "output_type": "display_data"
    }
   ],
   "source": [
    "pdf(paste0(plotpath, \"forestplot_X01.pdf\"), width=5, height=8)\n",
    "p3\n",
    "dev.off()"
   ]
  },
  {
   "cell_type": "code",
   "execution_count": null,
   "metadata": {
    "vscode": {
     "languageId": "r"
    }
   },
   "outputs": [],
   "source": []
  },
  {
   "cell_type": "code",
   "execution_count": null,
   "metadata": {
    "vscode": {
     "languageId": "r"
    }
   },
   "outputs": [],
   "source": []
  },
  {
   "cell_type": "code",
   "execution_count": null,
   "metadata": {
    "vscode": {
     "languageId": "r"
    }
   },
   "outputs": [],
   "source": []
  },
  {
   "cell_type": "code",
   "execution_count": null,
   "metadata": {
    "vscode": {
     "languageId": "r"
    }
   },
   "outputs": [],
   "source": []
  },
  {
   "cell_type": "code",
   "execution_count": null,
   "metadata": {
    "vscode": {
     "languageId": "r"
    }
   },
   "outputs": [],
   "source": []
  }
 ],
 "metadata": {
  "kernelspec": {
   "display_name": "R 4.0",
   "language": "R",
   "name": "ir40"
  },
  "language_info": {
   "codemirror_mode": "r",
   "file_extension": ".r",
   "mimetype": "text/x-r-source",
   "name": "R",
   "pygments_lexer": "r",
   "version": "4.2.2"
  },
  "toc": {
   "base_numbering": 1,
   "nav_menu": {},
   "number_sections": false,
   "sideBar": true,
   "skip_h1_title": false,
   "title_cell": "Table of Contents",
   "title_sidebar": "Contents",
   "toc_cell": true,
   "toc_position": {
    "height": "calc(100% - 180px)",
    "left": "10px",
    "top": "150px",
    "width": "186.15px"
   },
   "toc_section_display": true,
   "toc_window_display": true
  }
 },
 "nbformat": 4,
 "nbformat_minor": 2
}

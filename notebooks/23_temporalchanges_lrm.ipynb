{
 "cells": [
  {
   "cell_type": "code",
   "execution_count": 1,
   "metadata": {
    "vscode": {
     "languageId": "r"
    }
   },
   "outputs": [
    {
     "data": {
      "text/html": [
       "'en_US.UTF-8/en_US.UTF-8/en_US.UTF-8/C/en_US.UTF-8/C'"
      ],
      "text/latex": [
       "'en\\_US.UTF-8/en\\_US.UTF-8/en\\_US.UTF-8/C/en\\_US.UTF-8/C'"
      ],
      "text/markdown": [
       "'en_US.UTF-8/en_US.UTF-8/en_US.UTF-8/C/en_US.UTF-8/C'"
      ],
      "text/plain": [
       "[1] \"en_US.UTF-8/en_US.UTF-8/en_US.UTF-8/C/en_US.UTF-8/C\""
      ]
     },
     "metadata": {},
     "output_type": "display_data"
    }
   ],
   "source": [
    "Sys.setlocale(category = \"LC_ALL\", locale = \"en_US.UTF-8\")"
   ]
  },
  {
   "attachments": {},
   "cell_type": "markdown",
   "metadata": {},
   "source": [
    "# Dependencies"
   ]
  },
  {
   "cell_type": "code",
   "execution_count": 2,
   "metadata": {
    "vscode": {
     "languageId": "r"
    }
   },
   "outputs": [],
   "source": [
    "pacman::p_load(dplyr, ggplot2, ggbeeswarm, ggpubr, ggsignif, cowplot, lsmeans, forestplot)"
   ]
  },
  {
   "attachments": {},
   "cell_type": "markdown",
   "metadata": {},
   "source": [
    "# Functions"
   ]
  },
  {
   "cell_type": "code",
   "execution_count": 3,
   "metadata": {
    "vscode": {
     "languageId": "r"
    }
   },
   "outputs": [],
   "source": [
    "source(\"/Users/anabbi/git/ped_CapTCRseq/R/ggplot2_theme.R\")\n",
    "source(\"/Users/anabbi/git/ped_CapTCRseq/R/color_schemes.R\")\n",
    "source(\"/Users/anabbi/git/ped_CapTCRseq/R/Misc_functions.R\")"
   ]
  },
  {
   "cell_type": "code",
   "execution_count": 4,
   "metadata": {
    "vscode": {
     "languageId": "r"
    }
   },
   "outputs": [],
   "source": [
    "basespiderplot.fx <- function(mydf, varx,vary, clrby, colpal) {\n",
    "\n",
    "    p0 <- ggplot(\n",
    "        mydf,\n",
    "        aes(x = eval(parse(text = varx)), y = eval(parse(text = vary)))\n",
    "    ) +\n",
    "        geom_point(aes(color = eval(parse(text = clrby))), cex = 2) +\n",
    "        geom_line(aes(group = Patient, color = eval(parse(text = clrby)))) +\n",
    "        scale_color_manual(values = colpal) +\n",
    "        myplot +\n",
    "        myaxis +\n",
    "        theme(\n",
    "            axis.text.x = element_text(angle = 45, hjust = 1),\n",
    "            axis.title.x = element_blank()\n",
    "        )\n",
    "    return(p0)\n",
    "}\n"
   ]
  },
  {
   "attachments": {},
   "cell_type": "markdown",
   "metadata": {},
   "source": [
    "# Paths"
   ]
  },
  {
   "cell_type": "code",
   "execution_count": 5,
   "metadata": {
    "vscode": {
     "languageId": "r"
    }
   },
   "outputs": [],
   "source": [
    "datapath <- \"/Users/anabbi/OneDrive - UHN/Documents/INTERCEPT/Data/\"\n",
    "plotpath <- \"/Users/anabbi/OneDrive - UHN/Documents/INTERCEPT/Plots/\"\n",
    "manifestpath <- \"/Users/anabbi/OneDrive - UHN/Documents/INTERCEPT/Manifests/\"\n",
    "gitpath <- \"/Users/anabbi/git/ped_CapTCRseq/\""
   ]
  },
  {
   "cell_type": "code",
   "execution_count": 6,
   "metadata": {
    "vscode": {
     "languageId": "r"
    }
   },
   "outputs": [],
   "source": [
    "h4hpath <- \"/Users/anabbi/Desktop/H4H/INTERCEPT/\""
   ]
  },
  {
   "attachments": {},
   "cell_type": "markdown",
   "metadata": {},
   "source": [
    "# Main"
   ]
  },
  {
   "cell_type": "code",
   "execution_count": 7,
   "metadata": {
    "vscode": {
     "languageId": "r"
    }
   },
   "outputs": [],
   "source": [
    "meta_div <- readr::read_rds(paste0(datapath, \"capTCRseq/meta_div_goodsamples.rds\"))"
   ]
  },
  {
   "cell_type": "markdown",
   "metadata": {},
   "source": [
    "# "
   ]
  },
  {
   "cell_type": "code",
   "execution_count": 8,
   "metadata": {
    "vscode": {
     "languageId": "r"
    }
   },
   "outputs": [],
   "source": [
    "sample_df <- readr::read_rds( paste0(datapath, \"int_sample_df.rds\"))"
   ]
  },
  {
   "cell_type": "code",
   "execution_count": 9,
   "metadata": {
    "vscode": {
     "languageId": "r"
    }
   },
   "outputs": [
    {
     "data": {
      "text/plain": [
       "\n",
       "  0   1 \n",
       "431 103 "
      ]
     },
     "metadata": {},
     "output_type": "display_data"
    }
   ],
   "source": [
    "table(sample_df$Relapse)"
   ]
  },
  {
   "cell_type": "code",
   "execution_count": 10,
   "metadata": {
    "vscode": {
     "languageId": "r"
    }
   },
   "outputs": [
    {
     "data": {
      "text/plain": [
       "\n",
       "cfDNA  PBMC Tumor \n",
       "  274   558    18 "
      ]
     },
     "metadata": {},
     "output_type": "display_data"
    }
   ],
   "source": [
    "table(meta_div$sampletype)"
   ]
  },
  {
   "cell_type": "markdown",
   "metadata": {},
   "source": [
    "# 1- Quantrreg for each patient post-therapy"
   ]
  },
  {
   "cell_type": "code",
   "execution_count": 12,
   "metadata": {
    "vscode": {
     "languageId": "r"
    }
   },
   "outputs": [],
   "source": [
    "sample_df$cyclenum <- as.numeric(gsub(\"X0\", \"\", sample_df$cycle) )"
   ]
  },
  {
   "cell_type": "code",
   "execution_count": 13,
   "metadata": {
    "vscode": {
     "languageId": "r"
    }
   },
   "outputs": [],
   "source": [
    "# split to 3 dataframes: one for flow one for tcr and ncr\n",
    "\n",
    "tcr_df <- sample_df[ !is.na(sample_df$TRB), ]\n",
    "flow_df <- sample_df[ !is.na(sample_df$CD3) & sample_df$CD3 > 0, ]\n",
    "ncr_df <- flow_df[ !is.na(flow_df$`TIM3%`), ]"
   ]
  },
  {
   "cell_type": "code",
   "execution_count": 19,
   "metadata": {
    "vscode": {
     "languageId": "r"
    }
   },
   "outputs": [],
   "source": [
    "# remove X01\n",
    "tcr_df <- tcr_df[ tcr_df$cycle != \"X01\", ]\n",
    "flow_df <- flow_df[ flow_df$cycle != \"X01\", ]\n",
    "ncr_df <- ncr_df[ ncr_df$cycle != \"X01\", ]"
   ]
  },
  {
   "cell_type": "code",
   "execution_count": 20,
   "metadata": {
    "vscode": {
     "languageId": "r"
    }
   },
   "outputs": [],
   "source": [
    "# minimum two samples in each dataframe\n",
    "\n",
    "mytab <- table(tcr_df$Patient, tcr_df$cycle)\n",
    "mytab <- mytab[rowSums(mytab == 1) >= 2, ] \n",
    "tcr_df_min2 <- tcr_df[tcr_df$Patient %in% rownames(mytab), ]\n",
    "\n",
    "mytab <- table(flow_df$Patient, flow_df$cycle)\n",
    "mytab <- mytab[rowSums(mytab == 1) >= 2, ] \n",
    "flow_df_min2 <- flow_df[flow_df$Patient %in% rownames(mytab), ]\n",
    "\n",
    "mytab <- table(ncr_df$Patient, ncr_df$cycle)\n",
    "mytab <- mytab[rowSums(mytab == 1) >= 2, ] \n",
    "ncr_df_min2 <- ncr_df[ncr_df$Patient %in% rownames(mytab), ]"
   ]
  },
  {
   "cell_type": "code",
   "execution_count": 21,
   "metadata": {
    "vscode": {
     "languageId": "r"
    }
   },
   "outputs": [
    {
     "data": {
      "text/html": [
       "<table class=\"dataframe\">\n",
       "<caption>A data.frame: 127 x 124</caption>\n",
       "<thead>\n",
       "\t<tr><th></th><th scope=col>sample_id</th><th scope=col>Patient</th><th scope=col>cycle</th><th scope=col>FOLD</th><th scope=col>ATC</th><th scope=col>Age</th><th scope=col>Disease_type</th><th scope=col>TE_fold</th><th scope=col>CD3</th><th scope=col>EM</th><th scope=col>...</th><th scope=col>cfDNA_J_PC2</th><th scope=col>cfDNA_J_PC3</th><th scope=col>cfDNA_samplename</th><th scope=col>cfDNA_gliph_n</th><th scope=col>cfDNA_CMV</th><th scope=col>cfDNA_EBV</th><th scope=col>cfDNA_HCV</th><th scope=col>cfDNA_Flu</th><th scope=col>cfDNA_hs</th><th scope=col>cyclenum</th></tr>\n",
       "\t<tr><th></th><th scope=col>&lt;chr&gt;</th><th scope=col>&lt;chr&gt;</th><th scope=col>&lt;chr&gt;</th><th scope=col>&lt;dbl&gt;</th><th scope=col>&lt;dbl&gt;</th><th scope=col>&lt;dbl&gt;</th><th scope=col>&lt;chr&gt;</th><th scope=col>&lt;dbl&gt;</th><th scope=col>&lt;int&gt;</th><th scope=col>&lt;int&gt;</th><th scope=col>...</th><th scope=col>&lt;dbl&gt;</th><th scope=col>&lt;dbl&gt;</th><th scope=col>&lt;chr&gt;</th><th scope=col>&lt;dbl&gt;</th><th scope=col>&lt;dbl&gt;</th><th scope=col>&lt;dbl&gt;</th><th scope=col>&lt;dbl&gt;</th><th scope=col>&lt;dbl&gt;</th><th scope=col>&lt;dbl&gt;</th><th scope=col>&lt;dbl&gt;</th></tr>\n",
       "</thead>\n",
       "<tbody>\n",
       "\t<tr><th scope=row>320</th><td>CHP_323_03</td><td>CHP_323</td><td>X03</td><td> 0.0</td><td> 786.24</td><td> 1</td><td>HR ALL</td><td> 0.0</td><td>   0</td><td> NA</td><td>...</td><td>-1.42025844</td><td>-1.04697016</td><td>Leukemia:CHP_323_X03-cfDNA   </td><td>71</td><td> 8</td><td> 2</td><td> 0</td><td> 5</td><td> 1</td><td>3</td></tr>\n",
       "\t<tr><th scope=row>322</th><td>CHP_323_05</td><td>CHP_323</td><td>X05</td><td> 0.0</td><td> 979.50</td><td> 1</td><td>HR ALL</td><td> 0.0</td><td>   0</td><td> NA</td><td>...</td><td>-1.03382807</td><td> 0.68828218</td><td>Leukemia:CHP_323_X05-cfDNA   </td><td> 9</td><td> 0</td><td> 0</td><td> 0</td><td> 0</td><td> 0</td><td>5</td></tr>\n",
       "\t<tr><th scope=row>346</th><td>CHP_328_04</td><td>CHP_328</td><td>X04</td><td> 0.0</td><td> 130.82</td><td> 7</td><td>SR ALL</td><td> 0.0</td><td>   0</td><td> NA</td><td>...</td><td>         NA</td><td>         NA</td><td>NA                           </td><td>NA</td><td>NA</td><td>NA</td><td>NA</td><td>NA</td><td>NA</td><td>4</td></tr>\n",
       "\t<tr><th scope=row>347</th><td>CHP_328_05</td><td>CHP_328</td><td>X05</td><td> 0.0</td><td>  91.16</td><td> 7</td><td>SR ALL</td><td> 0.0</td><td>   0</td><td> NA</td><td>...</td><td> 0.09263065</td><td> 0.06769804</td><td>Leukemia:CHP_328_X05-cfDNA   </td><td> 0</td><td> 0</td><td> 0</td><td> 0</td><td> 0</td><td> 0</td><td>5</td></tr>\n",
       "\t<tr><th scope=row>361</th><td>CHP_331_04</td><td>CHP_331</td><td>X04</td><td> 0.0</td><td>   0.00</td><td> 5</td><td>SR ALL</td><td> 0.0</td><td>   0</td><td> NA</td><td>...</td><td>         NA</td><td>         NA</td><td>NA                           </td><td>NA</td><td>NA</td><td>NA</td><td>NA</td><td>NA</td><td>NA</td><td>4</td></tr>\n",
       "\t<tr><th scope=row>362</th><td>CHP_331_05</td><td>CHP_331</td><td>X05</td><td> 0.0</td><td>   0.00</td><td> 5</td><td>SR ALL</td><td> 0.0</td><td>   0</td><td> NA</td><td>...</td><td> 0.96813035</td><td> 1.08735349</td><td>Leukemia:CHP_331_X05-cfDNA   </td><td>15</td><td> 0</td><td> 0</td><td> 0</td><td> 0</td><td> 0</td><td>5</td></tr>\n",
       "\t<tr><th scope=row>395</th><td>CHP_338_03</td><td>CHP_338</td><td>X03</td><td>16.8</td><td> 329.29</td><td>13</td><td>AML   </td><td>16.8</td><td>   0</td><td> NA</td><td>...</td><td> 0.10556553</td><td>-0.10383618</td><td>Leukemia:CHP_338_X03-cfDNA   </td><td> 4</td><td> 0</td><td> 0</td><td> 0</td><td> 0</td><td> 0</td><td>3</td></tr>\n",
       "\t<tr><th scope=row>396</th><td>CHP_338_04</td><td>CHP_338</td><td>X04</td><td> 1.9</td><td>   0.00</td><td>13</td><td>AML   </td><td> 1.9</td><td>   0</td><td> NA</td><td>...</td><td>         NA</td><td>         NA</td><td>NA                           </td><td>NA</td><td>NA</td><td>NA</td><td>NA</td><td>NA</td><td>NA</td><td>4</td></tr>\n",
       "\t<tr><th scope=row>397</th><td>CHP_338_05</td><td>CHP_338</td><td>X05</td><td> 0.0</td><td>   0.00</td><td>13</td><td>AML   </td><td> 0.0</td><td>   0</td><td> NA</td><td>...</td><td> 0.32598174</td><td>-0.20770317</td><td>Leukemia:CHP_338_X05-cfDNA   </td><td> 3</td><td> 0</td><td> 0</td><td> 0</td><td> 0</td><td> 0</td><td>5</td></tr>\n",
       "\t<tr><th scope=row>400</th><td>CHP_339_03</td><td>CHP_339</td><td>X03</td><td> 0.0</td><td> 376.20</td><td> 1</td><td>ALL   </td><td> 0.0</td><td>   0</td><td> NA</td><td>...</td><td>-0.37683076</td><td> 0.12906093</td><td>Leukemia:CHP_339_X03-cfDNA   </td><td> 3</td><td> 0</td><td> 0</td><td> 0</td><td> 0</td><td> 0</td><td>3</td></tr>\n",
       "\t<tr><th scope=row>402</th><td>CHP_339_05</td><td>CHP_339</td><td>X05</td><td> 0.0</td><td> 421.94</td><td> 1</td><td>ALL   </td><td> 0.0</td><td>   0</td><td> NA</td><td>...</td><td>         NA</td><td>         NA</td><td>NA                           </td><td>NA</td><td>NA</td><td>NA</td><td>NA</td><td>NA</td><td>NA</td><td>5</td></tr>\n",
       "\t<tr><th scope=row>405</th><td>CHP_340_03</td><td>CHP_340</td><td>X03</td><td> 0.0</td><td>   0.00</td><td> 1</td><td>ALL   </td><td> 0.0</td><td>   0</td><td> NA</td><td>...</td><td> 0.16639091</td><td>-0.11205073</td><td>Leukemia:CHP_340_X03-cfDNA   </td><td> 0</td><td> 0</td><td> 0</td><td> 0</td><td> 0</td><td> 0</td><td>3</td></tr>\n",
       "\t<tr><th scope=row>406</th><td>CHP_340_04</td><td>CHP_340</td><td>X04</td><td> 0.0</td><td>   0.00</td><td> 1</td><td>ALL   </td><td> 0.0</td><td>   0</td><td> NA</td><td>...</td><td> 0.73200487</td><td>-1.43700019</td><td>Leukemia:CHP_340_X04-cfDNA   </td><td>14</td><td> 1</td><td> 0</td><td> 0</td><td> 0</td><td> 0</td><td>4</td></tr>\n",
       "\t<tr><th scope=row>407</th><td>CHP_340_05</td><td>CHP_340</td><td>X05</td><td> 0.0</td><td>   0.00</td><td> 1</td><td>ALL   </td><td> 0.0</td><td>   0</td><td> NA</td><td>...</td><td>         NA</td><td>         NA</td><td>NA                           </td><td>NA</td><td>NA</td><td>NA</td><td>NA</td><td>NA</td><td>NA</td><td>5</td></tr>\n",
       "\t<tr><th scope=row>419</th><td>CHP_343_02</td><td>CHP_343</td><td>X02</td><td> 0.3</td><td> 459.04</td><td> 8</td><td>EWS   </td><td> 0.3</td><td>1135</td><td> 16</td><td>...</td><td> 0.09189098</td><td> 0.25737734</td><td>Solidtumors:CHP_343_X02-cfDNA</td><td> 5</td><td> 0</td><td> 0</td><td> 0</td><td> 0</td><td> 0</td><td>2</td></tr>\n",
       "\t<tr><th scope=row>420</th><td>CHP_343_03</td><td>CHP_343</td><td>X03</td><td> 0.6</td><td> 370.30</td><td> 8</td><td>EWS   </td><td> 0.6</td><td>1650</td><td> 16</td><td>...</td><td>         NA</td><td>         NA</td><td>NA                           </td><td>NA</td><td>NA</td><td>NA</td><td>NA</td><td>NA</td><td>NA</td><td>3</td></tr>\n",
       "\t<tr><th scope=row>421</th><td>CHP_343_04</td><td>CHP_343</td><td>X04</td><td> 1.5</td><td> 536.63</td><td> 8</td><td>EWS   </td><td> 1.5</td><td>2612</td><td>146</td><td>...</td><td> 0.09042876</td><td>-0.07326199</td><td>Solidtumors:CHP_343_X04-cfDNA</td><td> 0</td><td> 0</td><td> 0</td><td> 0</td><td> 0</td><td> 0</td><td>4</td></tr>\n",
       "\t<tr><th scope=row>422</th><td>CHP_343_05</td><td>CHP_343</td><td>X05</td><td> 2.1</td><td> 371.20</td><td> 8</td><td>EWS   </td><td> 2.1</td><td>2436</td><td>152</td><td>...</td><td> 0.11747729</td><td>-0.28786712</td><td>Solidtumors:CHP_343_X05-cfDNA</td><td> 1</td><td> 0</td><td> 0</td><td> 0</td><td> 0</td><td> 0</td><td>5</td></tr>\n",
       "\t<tr><th scope=row>424</th><td>CHP_344_02</td><td>CHP_344</td><td>X02</td><td> 0.0</td><td> 829.08</td><td> 6</td><td>BL    </td><td> 0.0</td><td>   0</td><td> NA</td><td>...</td><td> 0.85056495</td><td> 1.23289832</td><td>Lymphoma:CHP_344_X02-cfDNA   </td><td> 9</td><td> 3</td><td> 1</td><td> 0</td><td> 1</td><td> 0</td><td>2</td></tr>\n",
       "\t<tr><th scope=row>426</th><td>CHP_344_04</td><td>CHP_344</td><td>X04</td><td> 0.0</td><td>   0.00</td><td> 6</td><td>BL    </td><td> 0.0</td><td>   0</td><td> NA</td><td>...</td><td> 0.14524691</td><td>-0.12614429</td><td>Lymphoma:CHP_344_X04-cfDNA   </td><td> 3</td><td> 0</td><td> 0</td><td> 0</td><td> 0</td><td> 0</td><td>4</td></tr>\n",
       "\t<tr><th scope=row>427</th><td>CHP_344_05</td><td>CHP_344</td><td>X05</td><td> 0.0</td><td> 134.32</td><td> 6</td><td>BL    </td><td> 0.0</td><td>   0</td><td> NA</td><td>...</td><td> 0.16799886</td><td>-0.16855220</td><td>Lymphoma:CHP_344_X05-cfDNA   </td><td> 3</td><td> 0</td><td> 0</td><td> 0</td><td> 0</td><td> 0</td><td>5</td></tr>\n",
       "\t<tr><th scope=row>429</th><td>CHP_345_02</td><td>CHP_345</td><td>X02</td><td> 0.0</td><td>1598.08</td><td> 1</td><td>ALL   </td><td> 0.0</td><td>   0</td><td> NA</td><td>...</td><td>-0.67576427</td><td> 1.55596750</td><td>Leukemia:CHP_345_X02-cfDNA   </td><td>18</td><td> 1</td><td> 0</td><td> 0</td><td> 0</td><td> 0</td><td>2</td></tr>\n",
       "\t<tr><th scope=row>431</th><td>CHP_345_04</td><td>CHP_345</td><td>X04</td><td> 0.0</td><td>   0.00</td><td> 1</td><td>ALL   </td><td> 0.0</td><td>   0</td><td> NA</td><td>...</td><td> 1.61920084</td><td> 4.66094466</td><td>Leukemia:CHP_345_X04-cfDNA   </td><td>20</td><td> 1</td><td> 0</td><td> 0</td><td> 0</td><td> 0</td><td>4</td></tr>\n",
       "\t<tr><th scope=row>432</th><td>CHP_345_05</td><td>CHP_345</td><td>X05</td><td> 0.0</td><td>   0.00</td><td> 1</td><td>ALL   </td><td> 0.0</td><td>   0</td><td> NA</td><td>...</td><td>         NA</td><td>         NA</td><td>NA                           </td><td>NA</td><td>NA</td><td>NA</td><td>NA</td><td>NA</td><td>NA</td><td>5</td></tr>\n",
       "\t<tr><th scope=row>439</th><td>CHP_347_02</td><td>CHP_347</td><td>X02</td><td> 6.4</td><td>1038.59</td><td>13</td><td>ALL   </td><td> 6.4</td><td> 927</td><td> 15</td><td>...</td><td> 0.29469290</td><td>-0.33658842</td><td>Leukemia:CHP_347_X02-cfDNA   </td><td> 1</td><td> 0</td><td> 0</td><td> 0</td><td> 0</td><td> 0</td><td>2</td></tr>\n",
       "\t<tr><th scope=row>440</th><td>CHP_347_03</td><td>CHP_347</td><td>X03</td><td>37.6</td><td> 768.80</td><td>13</td><td>ALL   </td><td>37.6</td><td>2379</td><td> 27</td><td>...</td><td> 0.14202190</td><td>-0.27960104</td><td>Leukemia:CHP_347_X03-cfDNA   </td><td> 1</td><td> 0</td><td> 0</td><td> 0</td><td> 0</td><td> 0</td><td>3</td></tr>\n",
       "\t<tr><th scope=row>441</th><td>CHP_347_04</td><td>CHP_347</td><td>X04</td><td> 0.8</td><td>1542.25</td><td>13</td><td>ALL   </td><td> 0.8</td><td> 745</td><td> 14</td><td>...</td><td> 0.92926088</td><td> 0.61047769</td><td>Leukemia:CHP_347_X04-cfDNA   </td><td> 7</td><td> 0</td><td> 0</td><td> 0</td><td> 0</td><td> 0</td><td>4</td></tr>\n",
       "\t<tr><th scope=row>442</th><td>CHP_347_05</td><td>CHP_347</td><td>X05</td><td> 2.6</td><td>1278.87</td><td>13</td><td>ALL   </td><td> 2.6</td><td>2175</td><td>  7</td><td>...</td><td> 0.58386099</td><td>-0.89607625</td><td>Leukemia:CHP_347_X05-cfDNA   </td><td>11</td><td> 0</td><td> 0</td><td> 0</td><td> 0</td><td> 0</td><td>5</td></tr>\n",
       "\t<tr><th scope=row>454</th><td>CHP_350_02</td><td>CHP_350</td><td>X02</td><td>39.5</td><td>   0.00</td><td> 1</td><td>HB    </td><td>39.5</td><td>2368</td><td> 26</td><td>...</td><td> 0.55536978</td><td>-0.82462120</td><td>Solidtumors:CHP_350_X02-cfDNA</td><td>16</td><td> 6</td><td> 0</td><td> 0</td><td> 1</td><td> 0</td><td>2</td></tr>\n",
       "\t<tr><th scope=row>455</th><td>CHP_350_03</td><td>CHP_350</td><td>X03</td><td>10.1</td><td>   0.00</td><td> 1</td><td>HB    </td><td>10.1</td><td>2394</td><td> 64</td><td>...</td><td> 0.20127941</td><td>-2.32557889</td><td>Solidtumors:CHP_350_X03-cfDNA</td><td>41</td><td> 2</td><td> 0</td><td> 1</td><td> 1</td><td> 1</td><td>3</td></tr>\n",
       "\t<tr><th scope=row>...</th><td>...</td><td>...</td><td>...</td><td>...</td><td>...</td><td>...</td><td>...</td><td>...</td><td>...</td><td>...</td><td></td><td>...</td><td>...</td><td>...</td><td>...</td><td>...</td><td>...</td><td>...</td><td>...</td><td>...</td><td>...</td></tr>\n",
       "\t<tr><th scope=row>709</th><td>CHP_400_04</td><td>CHP_400</td><td>X04</td><td> 0.8</td><td>   0.00</td><td>18</td><td>PMBCL </td><td> 0.8</td><td>1864</td><td>222</td><td>...</td><td> 0.16858910</td><td>-0.143868539</td><td>Lymphoma:CHP_400_X04-cfDNA   </td><td> 4</td><td> 0</td><td> 0</td><td> 0</td><td> 0</td><td> 0</td><td>4</td></tr>\n",
       "\t<tr><th scope=row>710</th><td>CHP_400_05</td><td>CHP_400</td><td>X05</td><td> 0.0</td><td>   0.00</td><td>18</td><td>PMBCL </td><td> 0.0</td><td>   0</td><td> NA</td><td>...</td><td>-2.73816967</td><td>-0.750869240</td><td>Lymphoma:CHP_400_X05-cfDNA   </td><td>11</td><td> 0</td><td> 0</td><td> 0</td><td> 0</td><td> 0</td><td>5</td></tr>\n",
       "\t<tr><th scope=row>713</th><td>CHP_401_03</td><td>CHP_401</td><td>X03</td><td> 8.7</td><td> 396.03</td><td> 3</td><td>ERMS  </td><td> 8.7</td><td>2428</td><td>  0</td><td>...</td><td>         NA</td><td>          NA</td><td>Solidtumors:CHP_401_X03-cfDNA</td><td> 0</td><td> 0</td><td> 0</td><td> 0</td><td> 0</td><td> 0</td><td>3</td></tr>\n",
       "\t<tr><th scope=row>715</th><td>CHP_401_05</td><td>CHP_401</td><td>X05</td><td> 0.0</td><td>   0.00</td><td> 3</td><td>ERMS  </td><td> 0.0</td><td>   0</td><td> NA</td><td>...</td><td> 0.77530762</td><td> 1.311682909</td><td>Solidtumors:CHP_401_X05-cfDNA</td><td> 1</td><td> 0</td><td> 0</td><td> 0</td><td> 0</td><td> 0</td><td>5</td></tr>\n",
       "\t<tr><th scope=row>717</th><td>CHP_402_02</td><td>CHP_402</td><td>X02</td><td> 0.8</td><td> 419.95</td><td> 9</td><td>HR ALL</td><td> 0.8</td><td>2487</td><td>  0</td><td>...</td><td> 0.16292798</td><td>-0.094916553</td><td>Leukemia:CHP_402_X02-cfDNA   </td><td> 0</td><td> 0</td><td> 0</td><td> 0</td><td> 0</td><td> 0</td><td>2</td></tr>\n",
       "\t<tr><th scope=row>718</th><td>CHP_402_03</td><td>CHP_402</td><td>X03</td><td> 6.1</td><td>   0.00</td><td> 9</td><td>HR ALL</td><td> 6.1</td><td>  44</td><td>  1</td><td>...</td><td> 0.27087089</td><td>-0.364290906</td><td>Leukemia:CHP_402_X03-cfDNA   </td><td> 2</td><td> 0</td><td> 0</td><td> 0</td><td> 0</td><td> 1</td><td>3</td></tr>\n",
       "\t<tr><th scope=row>722</th><td>CHP_403_02</td><td>CHP_403</td><td>X02</td><td> 2.2</td><td> 674.56</td><td>18</td><td>DLBCL </td><td> 2.2</td><td> 493</td><td>  0</td><td>...</td><td>-3.16551744</td><td>-1.127682455</td><td>Lymphoma:CHP_403_X02-cfDNA   </td><td>16</td><td> 1</td><td> 0</td><td> 0</td><td> 0</td><td> 0</td><td>2</td></tr>\n",
       "\t<tr><th scope=row>723</th><td>CHP_403_03</td><td>CHP_403</td><td>X03</td><td> 2.3</td><td> 216.20</td><td>18</td><td>DLBCL </td><td> 2.3</td><td> 231</td><td> 15</td><td>...</td><td> 0.08549024</td><td>-0.043746411</td><td>Lymphoma:CHP_403_X03-cfDNA   </td><td> 0</td><td> 0</td><td> 0</td><td> 0</td><td> 0</td><td> 0</td><td>3</td></tr>\n",
       "\t<tr><th scope=row>727</th><td>CHP_404_02</td><td>CHP_404</td><td>X02</td><td> 1.8</td><td> 856.44</td><td>10</td><td>ERMS  </td><td> 1.8</td><td> 403</td><td>  1</td><td>...</td><td>-0.14360247</td><td>-0.006865153</td><td>Solidtumors:CHP_404_X02-cfDNA</td><td> 5</td><td> 1</td><td> 0</td><td> 0</td><td> 0</td><td> 0</td><td>2</td></tr>\n",
       "\t<tr><th scope=row>730</th><td>CHP_404_05</td><td>CHP_404</td><td>X05</td><td> 0.0</td><td> 326.60</td><td>10</td><td>ERMS  </td><td> 0.0</td><td>   0</td><td> NA</td><td>...</td><td>-2.50590482</td><td> 0.733699327</td><td>Solidtumors:CHP_404_X05-cfDNA</td><td>25</td><td> 2</td><td> 0</td><td> 2</td><td> 1</td><td> 0</td><td>5</td></tr>\n",
       "\t<tr><th scope=row>732</th><td>CHP_405_02</td><td>CHP_405</td><td>X02</td><td> 5.3</td><td>1053.80</td><td> 1</td><td>CML   </td><td> 5.3</td><td>1156</td><td> 11</td><td>...</td><td> 0.63555330</td><td> 1.246705860</td><td>Leukemia:CHP_405_X02-cfDNA   </td><td>23</td><td> 2</td><td> 0</td><td> 0</td><td> 1</td><td> 0</td><td>2</td></tr>\n",
       "\t<tr><th scope=row>733</th><td>CHP_405_03</td><td>CHP_405</td><td>X03</td><td> 2.0</td><td>   0.00</td><td> 1</td><td>CML   </td><td> 2.0</td><td>2309</td><td>  2</td><td>...</td><td>-0.29734313</td><td> 0.530589655</td><td>Leukemia:CHP_405_X03-cfDNA   </td><td> 3</td><td> 0</td><td> 0</td><td> 0</td><td> 0</td><td> 0</td><td>3</td></tr>\n",
       "\t<tr><th scope=row>734</th><td>CHP_405_04</td><td>CHP_405</td><td>X04</td><td> 0.0</td><td>   0.00</td><td> 1</td><td>CML   </td><td> 0.0</td><td>   0</td><td> NA</td><td>...</td><td>         NA</td><td>          NA</td><td>NA                           </td><td>NA</td><td>NA</td><td>NA</td><td>NA</td><td>NA</td><td>NA</td><td>4</td></tr>\n",
       "\t<tr><th scope=row>735</th><td>CHP_405_05</td><td>CHP_405</td><td>X05</td><td> 0.0</td><td>   0.00</td><td> 1</td><td>CML   </td><td> 0.0</td><td>   0</td><td> NA</td><td>...</td><td> 0.30589808</td><td>-0.262124383</td><td>Leukemia:CHP_405_X05-cfDNA   </td><td> 6</td><td> 2</td><td> 0</td><td> 0</td><td> 1</td><td> 0</td><td>5</td></tr>\n",
       "\t<tr><th scope=row>742</th><td>CHP_407_02</td><td>CHP_407</td><td>X02</td><td>18.1</td><td> 570.15</td><td>12</td><td>DLBCL </td><td>18.1</td><td>2373</td><td>839</td><td>...</td><td>-2.12965525</td><td> 0.286935716</td><td>Lymphoma:CHP_407_X02-cfDNA   </td><td> 8</td><td> 0</td><td> 0</td><td> 0</td><td> 0</td><td> 0</td><td>2</td></tr>\n",
       "\t<tr><th scope=row>743</th><td>CHP_407_03</td><td>CHP_407</td><td>X03</td><td> 3.7</td><td>  86.24</td><td>12</td><td>DLBCL </td><td> 3.7</td><td>1185</td><td> 72</td><td>...</td><td> 0.19415566</td><td>-0.097193780</td><td>Lymphoma:CHP_407_X03-cfDNA   </td><td> 0</td><td> 0</td><td> 0</td><td> 0</td><td> 0</td><td> 0</td><td>3</td></tr>\n",
       "\t<tr><th scope=row>744</th><td>CHP_407_04</td><td>CHP_407</td><td>X04</td><td> 0.0</td><td>   0.00</td><td>12</td><td>DLBCL </td><td> 0.0</td><td>   0</td><td> NA</td><td>...</td><td> 0.11381906</td><td>-0.059284521</td><td>Lymphoma:CHP_407_X04-cfDNA   </td><td> 3</td><td> 0</td><td> 0</td><td> 0</td><td> 0</td><td> 0</td><td>4</td></tr>\n",
       "\t<tr><th scope=row>747</th><td>CHP_408_02</td><td>CHP_408</td><td>X02</td><td> 4.3</td><td>   0.00</td><td> 5</td><td>OS    </td><td> 4.3</td><td>2395</td><td>522</td><td>...</td><td>-0.21868626</td><td> 0.088980765</td><td>Solidtumors:CHP_408_X02-cfDNA</td><td> 4</td><td> 0</td><td> 0</td><td> 0</td><td> 0</td><td> 0</td><td>2</td></tr>\n",
       "\t<tr><th scope=row>748</th><td>CHP_408_03</td><td>CHP_408</td><td>X03</td><td> 5.4</td><td>  69.16</td><td> 5</td><td>OS    </td><td> 5.4</td><td>1395</td><td> 42</td><td>...</td><td> 0.12894153</td><td> 1.813678781</td><td>Solidtumors:CHP_408_X03-cfDNA</td><td>11</td><td> 0</td><td> 0</td><td> 0</td><td> 0</td><td> 0</td><td>3</td></tr>\n",
       "\t<tr><th scope=row>752</th><td>CHP_409_02</td><td>CHP_409</td><td>X02</td><td> 1.8</td><td> 338.13</td><td>11</td><td>EWS   </td><td> 1.8</td><td>1132</td><td> 13</td><td>...</td><td> 0.24925961</td><td>-0.273244979</td><td>Solidtumors:CHP_409_X02-cfDNA</td><td> 0</td><td> 0</td><td> 0</td><td> 0</td><td> 0</td><td> 0</td><td>2</td></tr>\n",
       "\t<tr><th scope=row>753</th><td>CHP_409_03</td><td>CHP_409</td><td>X03</td><td> 0.0</td><td> 198.09</td><td>11</td><td>EWS   </td><td> 0.0</td><td>   0</td><td> NA</td><td>...</td><td> 0.09770153</td><td>-0.005937607</td><td>Solidtumors:CHP_409_X03-cfDNA</td><td> 3</td><td> 0</td><td> 0</td><td> 0</td><td> 0</td><td> 0</td><td>3</td></tr>\n",
       "\t<tr><th scope=row>754</th><td>CHP_409_04</td><td>CHP_409</td><td>X04</td><td> 0.0</td><td> 522.07</td><td>11</td><td>EWS   </td><td> 0.0</td><td>   0</td><td> NA</td><td>...</td><td>         NA</td><td>          NA</td><td>NA                           </td><td>NA</td><td>NA</td><td>NA</td><td>NA</td><td>NA</td><td>NA</td><td>4</td></tr>\n",
       "\t<tr><th scope=row>757</th><td>CHP_410_02</td><td>CHP_410</td><td>X02</td><td> 0.0</td><td>   0.00</td><td> 1</td><td>ALL   </td><td> 0.0</td><td>   0</td><td> NA</td><td>...</td><td> 0.38829850</td><td>-0.651140840</td><td>Leukemia:CHP_410_X02-cfDNA   </td><td> 8</td><td> 1</td><td> 1</td><td> 0</td><td> 0</td><td> 0</td><td>2</td></tr>\n",
       "\t<tr><th scope=row>758</th><td>CHP_410_03</td><td>CHP_410</td><td>X03</td><td> 0.0</td><td> 179.34</td><td> 1</td><td>ALL   </td><td> 0.0</td><td>   0</td><td> NA</td><td>...</td><td> 0.32545892</td><td>-0.655881738</td><td>Leukemia:CHP_410_X03-cfDNA   </td><td> 1</td><td> 0</td><td> 0</td><td> 0</td><td> 0</td><td> 0</td><td>3</td></tr>\n",
       "\t<tr><th scope=row>767</th><td>CHP_412_02</td><td>CHP_412</td><td>X02</td><td> 0.0</td><td>   0.00</td><td>13</td><td>BLL   </td><td> 0.0</td><td>   0</td><td> NA</td><td>...</td><td> 0.16351822</td><td>-0.070232887</td><td>Lymphoma:CHP_412_X02-cfDNA   </td><td> 2</td><td> 0</td><td> 0</td><td> 0</td><td> 0</td><td> 0</td><td>2</td></tr>\n",
       "\t<tr><th scope=row>768</th><td>CHP_412_03</td><td>CHP_412</td><td>X03</td><td> 0.9</td><td>   0.00</td><td>13</td><td>BLL   </td><td> 0.9</td><td>   0</td><td> NA</td><td>...</td><td> 0.16799886</td><td>-0.168552205</td><td>Lymphoma:CHP_412_X03-cfDNA   </td><td> 0</td><td> 0</td><td> 0</td><td> 0</td><td> 0</td><td> 0</td><td>3</td></tr>\n",
       "\t<tr><th scope=row>777</th><td>CHP_414_02</td><td>CHP_414</td><td>X02</td><td> 0.0</td><td> 802.76</td><td> 1</td><td>HB    </td><td> 0.0</td><td>   0</td><td> NA</td><td>...</td><td> 0.21620079</td><td>-0.543006999</td><td>Solidtumors:CHP_414_X02-cfDNA</td><td> 4</td><td> 0</td><td> 0</td><td> 0</td><td> 0</td><td> 0</td><td>2</td></tr>\n",
       "\t<tr><th scope=row>778</th><td>CHP_414_03</td><td>CHP_414</td><td>X03</td><td> 0.8</td><td>  73.80</td><td> 1</td><td>HB    </td><td> 0.8</td><td>2525</td><td>312</td><td>...</td><td> 0.27185173</td><td>-0.120867081</td><td>Solidtumors:CHP_414_X03-cfDNA</td><td> 6</td><td> 1</td><td> 1</td><td> 0</td><td> 0</td><td> 0</td><td>3</td></tr>\n",
       "\t<tr><th scope=row>782</th><td>CHP_415_02</td><td>CHP_415</td><td>X02</td><td> 0.0</td><td> 234.32</td><td>17</td><td>HD    </td><td> 0.0</td><td>   0</td><td> NA</td><td>...</td><td>-0.91981161</td><td>-0.046407288</td><td>Lymphoma:CHP_415_X02-cfDNA   </td><td> 1</td><td> 0</td><td> 0</td><td> 0</td><td> 0</td><td> 0</td><td>2</td></tr>\n",
       "\t<tr><th scope=row>783</th><td>CHP_415_03</td><td>CHP_415</td><td>X03</td><td> 1.3</td><td> 389.60</td><td>17</td><td>HD    </td><td> 1.3</td><td>2426</td><td>213</td><td>...</td><td> 0.11528129</td><td> 0.271354806</td><td>Lymphoma:CHP_415_X03-cfDNA   </td><td> 4</td><td> 0</td><td> 0</td><td> 0</td><td> 0</td><td> 0</td><td>3</td></tr>\n",
       "</tbody>\n",
       "</table>\n"
      ],
      "text/latex": [
       "A data.frame: 127 x 124\n",
       "\\begin{tabular}{r|lllllllllllllllllllll}\n",
       "  & sample\\_id & Patient & cycle & FOLD & ATC & Age & Disease\\_type & TE\\_fold & CD3 & EM & ... & cfDNA\\_J\\_PC2 & cfDNA\\_J\\_PC3 & cfDNA\\_samplename & cfDNA\\_gliph\\_n & cfDNA\\_CMV & cfDNA\\_EBV & cfDNA\\_HCV & cfDNA\\_Flu & cfDNA\\_hs & cyclenum\\\\\n",
       "  & <chr> & <chr> & <chr> & <dbl> & <dbl> & <dbl> & <chr> & <dbl> & <int> & <int> & ... & <dbl> & <dbl> & <chr> & <dbl> & <dbl> & <dbl> & <dbl> & <dbl> & <dbl> & <dbl>\\\\\n",
       "\\hline\n",
       "\t320 & CHP\\_323\\_03 & CHP\\_323 & X03 &  0.0 &  786.24 &  1 & HR ALL &  0.0 &    0 &  NA & ... & -1.42025844 & -1.04697016 & Leukemia:CHP\\_323\\_X03-cfDNA    & 71 &  8 &  2 &  0 &  5 &  1 & 3\\\\\n",
       "\t322 & CHP\\_323\\_05 & CHP\\_323 & X05 &  0.0 &  979.50 &  1 & HR ALL &  0.0 &    0 &  NA & ... & -1.03382807 &  0.68828218 & Leukemia:CHP\\_323\\_X05-cfDNA    &  9 &  0 &  0 &  0 &  0 &  0 & 5\\\\\n",
       "\t346 & CHP\\_328\\_04 & CHP\\_328 & X04 &  0.0 &  130.82 &  7 & SR ALL &  0.0 &    0 &  NA & ... &          NA &          NA & NA                            & NA & NA & NA & NA & NA & NA & 4\\\\\n",
       "\t347 & CHP\\_328\\_05 & CHP\\_328 & X05 &  0.0 &   91.16 &  7 & SR ALL &  0.0 &    0 &  NA & ... &  0.09263065 &  0.06769804 & Leukemia:CHP\\_328\\_X05-cfDNA    &  0 &  0 &  0 &  0 &  0 &  0 & 5\\\\\n",
       "\t361 & CHP\\_331\\_04 & CHP\\_331 & X04 &  0.0 &    0.00 &  5 & SR ALL &  0.0 &    0 &  NA & ... &          NA &          NA & NA                            & NA & NA & NA & NA & NA & NA & 4\\\\\n",
       "\t362 & CHP\\_331\\_05 & CHP\\_331 & X05 &  0.0 &    0.00 &  5 & SR ALL &  0.0 &    0 &  NA & ... &  0.96813035 &  1.08735349 & Leukemia:CHP\\_331\\_X05-cfDNA    & 15 &  0 &  0 &  0 &  0 &  0 & 5\\\\\n",
       "\t395 & CHP\\_338\\_03 & CHP\\_338 & X03 & 16.8 &  329.29 & 13 & AML    & 16.8 &    0 &  NA & ... &  0.10556553 & -0.10383618 & Leukemia:CHP\\_338\\_X03-cfDNA    &  4 &  0 &  0 &  0 &  0 &  0 & 3\\\\\n",
       "\t396 & CHP\\_338\\_04 & CHP\\_338 & X04 &  1.9 &    0.00 & 13 & AML    &  1.9 &    0 &  NA & ... &          NA &          NA & NA                            & NA & NA & NA & NA & NA & NA & 4\\\\\n",
       "\t397 & CHP\\_338\\_05 & CHP\\_338 & X05 &  0.0 &    0.00 & 13 & AML    &  0.0 &    0 &  NA & ... &  0.32598174 & -0.20770317 & Leukemia:CHP\\_338\\_X05-cfDNA    &  3 &  0 &  0 &  0 &  0 &  0 & 5\\\\\n",
       "\t400 & CHP\\_339\\_03 & CHP\\_339 & X03 &  0.0 &  376.20 &  1 & ALL    &  0.0 &    0 &  NA & ... & -0.37683076 &  0.12906093 & Leukemia:CHP\\_339\\_X03-cfDNA    &  3 &  0 &  0 &  0 &  0 &  0 & 3\\\\\n",
       "\t402 & CHP\\_339\\_05 & CHP\\_339 & X05 &  0.0 &  421.94 &  1 & ALL    &  0.0 &    0 &  NA & ... &          NA &          NA & NA                            & NA & NA & NA & NA & NA & NA & 5\\\\\n",
       "\t405 & CHP\\_340\\_03 & CHP\\_340 & X03 &  0.0 &    0.00 &  1 & ALL    &  0.0 &    0 &  NA & ... &  0.16639091 & -0.11205073 & Leukemia:CHP\\_340\\_X03-cfDNA    &  0 &  0 &  0 &  0 &  0 &  0 & 3\\\\\n",
       "\t406 & CHP\\_340\\_04 & CHP\\_340 & X04 &  0.0 &    0.00 &  1 & ALL    &  0.0 &    0 &  NA & ... &  0.73200487 & -1.43700019 & Leukemia:CHP\\_340\\_X04-cfDNA    & 14 &  1 &  0 &  0 &  0 &  0 & 4\\\\\n",
       "\t407 & CHP\\_340\\_05 & CHP\\_340 & X05 &  0.0 &    0.00 &  1 & ALL    &  0.0 &    0 &  NA & ... &          NA &          NA & NA                            & NA & NA & NA & NA & NA & NA & 5\\\\\n",
       "\t419 & CHP\\_343\\_02 & CHP\\_343 & X02 &  0.3 &  459.04 &  8 & EWS    &  0.3 & 1135 &  16 & ... &  0.09189098 &  0.25737734 & Solidtumors:CHP\\_343\\_X02-cfDNA &  5 &  0 &  0 &  0 &  0 &  0 & 2\\\\\n",
       "\t420 & CHP\\_343\\_03 & CHP\\_343 & X03 &  0.6 &  370.30 &  8 & EWS    &  0.6 & 1650 &  16 & ... &          NA &          NA & NA                            & NA & NA & NA & NA & NA & NA & 3\\\\\n",
       "\t421 & CHP\\_343\\_04 & CHP\\_343 & X04 &  1.5 &  536.63 &  8 & EWS    &  1.5 & 2612 & 146 & ... &  0.09042876 & -0.07326199 & Solidtumors:CHP\\_343\\_X04-cfDNA &  0 &  0 &  0 &  0 &  0 &  0 & 4\\\\\n",
       "\t422 & CHP\\_343\\_05 & CHP\\_343 & X05 &  2.1 &  371.20 &  8 & EWS    &  2.1 & 2436 & 152 & ... &  0.11747729 & -0.28786712 & Solidtumors:CHP\\_343\\_X05-cfDNA &  1 &  0 &  0 &  0 &  0 &  0 & 5\\\\\n",
       "\t424 & CHP\\_344\\_02 & CHP\\_344 & X02 &  0.0 &  829.08 &  6 & BL     &  0.0 &    0 &  NA & ... &  0.85056495 &  1.23289832 & Lymphoma:CHP\\_344\\_X02-cfDNA    &  9 &  3 &  1 &  0 &  1 &  0 & 2\\\\\n",
       "\t426 & CHP\\_344\\_04 & CHP\\_344 & X04 &  0.0 &    0.00 &  6 & BL     &  0.0 &    0 &  NA & ... &  0.14524691 & -0.12614429 & Lymphoma:CHP\\_344\\_X04-cfDNA    &  3 &  0 &  0 &  0 &  0 &  0 & 4\\\\\n",
       "\t427 & CHP\\_344\\_05 & CHP\\_344 & X05 &  0.0 &  134.32 &  6 & BL     &  0.0 &    0 &  NA & ... &  0.16799886 & -0.16855220 & Lymphoma:CHP\\_344\\_X05-cfDNA    &  3 &  0 &  0 &  0 &  0 &  0 & 5\\\\\n",
       "\t429 & CHP\\_345\\_02 & CHP\\_345 & X02 &  0.0 & 1598.08 &  1 & ALL    &  0.0 &    0 &  NA & ... & -0.67576427 &  1.55596750 & Leukemia:CHP\\_345\\_X02-cfDNA    & 18 &  1 &  0 &  0 &  0 &  0 & 2\\\\\n",
       "\t431 & CHP\\_345\\_04 & CHP\\_345 & X04 &  0.0 &    0.00 &  1 & ALL    &  0.0 &    0 &  NA & ... &  1.61920084 &  4.66094466 & Leukemia:CHP\\_345\\_X04-cfDNA    & 20 &  1 &  0 &  0 &  0 &  0 & 4\\\\\n",
       "\t432 & CHP\\_345\\_05 & CHP\\_345 & X05 &  0.0 &    0.00 &  1 & ALL    &  0.0 &    0 &  NA & ... &          NA &          NA & NA                            & NA & NA & NA & NA & NA & NA & 5\\\\\n",
       "\t439 & CHP\\_347\\_02 & CHP\\_347 & X02 &  6.4 & 1038.59 & 13 & ALL    &  6.4 &  927 &  15 & ... &  0.29469290 & -0.33658842 & Leukemia:CHP\\_347\\_X02-cfDNA    &  1 &  0 &  0 &  0 &  0 &  0 & 2\\\\\n",
       "\t440 & CHP\\_347\\_03 & CHP\\_347 & X03 & 37.6 &  768.80 & 13 & ALL    & 37.6 & 2379 &  27 & ... &  0.14202190 & -0.27960104 & Leukemia:CHP\\_347\\_X03-cfDNA    &  1 &  0 &  0 &  0 &  0 &  0 & 3\\\\\n",
       "\t441 & CHP\\_347\\_04 & CHP\\_347 & X04 &  0.8 & 1542.25 & 13 & ALL    &  0.8 &  745 &  14 & ... &  0.92926088 &  0.61047769 & Leukemia:CHP\\_347\\_X04-cfDNA    &  7 &  0 &  0 &  0 &  0 &  0 & 4\\\\\n",
       "\t442 & CHP\\_347\\_05 & CHP\\_347 & X05 &  2.6 & 1278.87 & 13 & ALL    &  2.6 & 2175 &   7 & ... &  0.58386099 & -0.89607625 & Leukemia:CHP\\_347\\_X05-cfDNA    & 11 &  0 &  0 &  0 &  0 &  0 & 5\\\\\n",
       "\t454 & CHP\\_350\\_02 & CHP\\_350 & X02 & 39.5 &    0.00 &  1 & HB     & 39.5 & 2368 &  26 & ... &  0.55536978 & -0.82462120 & Solidtumors:CHP\\_350\\_X02-cfDNA & 16 &  6 &  0 &  0 &  1 &  0 & 2\\\\\n",
       "\t455 & CHP\\_350\\_03 & CHP\\_350 & X03 & 10.1 &    0.00 &  1 & HB     & 10.1 & 2394 &  64 & ... &  0.20127941 & -2.32557889 & Solidtumors:CHP\\_350\\_X03-cfDNA & 41 &  2 &  0 &  1 &  1 &  1 & 3\\\\\n",
       "\t... & ... & ... & ... & ... & ... & ... & ... & ... & ... & ... &  & ... & ... & ... & ... & ... & ... & ... & ... & ... & ...\\\\\n",
       "\t709 & CHP\\_400\\_04 & CHP\\_400 & X04 &  0.8 &    0.00 & 18 & PMBCL  &  0.8 & 1864 & 222 & ... &  0.16858910 & -0.143868539 & Lymphoma:CHP\\_400\\_X04-cfDNA    &  4 &  0 &  0 &  0 &  0 &  0 & 4\\\\\n",
       "\t710 & CHP\\_400\\_05 & CHP\\_400 & X05 &  0.0 &    0.00 & 18 & PMBCL  &  0.0 &    0 &  NA & ... & -2.73816967 & -0.750869240 & Lymphoma:CHP\\_400\\_X05-cfDNA    & 11 &  0 &  0 &  0 &  0 &  0 & 5\\\\\n",
       "\t713 & CHP\\_401\\_03 & CHP\\_401 & X03 &  8.7 &  396.03 &  3 & ERMS   &  8.7 & 2428 &   0 & ... &          NA &           NA & Solidtumors:CHP\\_401\\_X03-cfDNA &  0 &  0 &  0 &  0 &  0 &  0 & 3\\\\\n",
       "\t715 & CHP\\_401\\_05 & CHP\\_401 & X05 &  0.0 &    0.00 &  3 & ERMS   &  0.0 &    0 &  NA & ... &  0.77530762 &  1.311682909 & Solidtumors:CHP\\_401\\_X05-cfDNA &  1 &  0 &  0 &  0 &  0 &  0 & 5\\\\\n",
       "\t717 & CHP\\_402\\_02 & CHP\\_402 & X02 &  0.8 &  419.95 &  9 & HR ALL &  0.8 & 2487 &   0 & ... &  0.16292798 & -0.094916553 & Leukemia:CHP\\_402\\_X02-cfDNA    &  0 &  0 &  0 &  0 &  0 &  0 & 2\\\\\n",
       "\t718 & CHP\\_402\\_03 & CHP\\_402 & X03 &  6.1 &    0.00 &  9 & HR ALL &  6.1 &   44 &   1 & ... &  0.27087089 & -0.364290906 & Leukemia:CHP\\_402\\_X03-cfDNA    &  2 &  0 &  0 &  0 &  0 &  1 & 3\\\\\n",
       "\t722 & CHP\\_403\\_02 & CHP\\_403 & X02 &  2.2 &  674.56 & 18 & DLBCL  &  2.2 &  493 &   0 & ... & -3.16551744 & -1.127682455 & Lymphoma:CHP\\_403\\_X02-cfDNA    & 16 &  1 &  0 &  0 &  0 &  0 & 2\\\\\n",
       "\t723 & CHP\\_403\\_03 & CHP\\_403 & X03 &  2.3 &  216.20 & 18 & DLBCL  &  2.3 &  231 &  15 & ... &  0.08549024 & -0.043746411 & Lymphoma:CHP\\_403\\_X03-cfDNA    &  0 &  0 &  0 &  0 &  0 &  0 & 3\\\\\n",
       "\t727 & CHP\\_404\\_02 & CHP\\_404 & X02 &  1.8 &  856.44 & 10 & ERMS   &  1.8 &  403 &   1 & ... & -0.14360247 & -0.006865153 & Solidtumors:CHP\\_404\\_X02-cfDNA &  5 &  1 &  0 &  0 &  0 &  0 & 2\\\\\n",
       "\t730 & CHP\\_404\\_05 & CHP\\_404 & X05 &  0.0 &  326.60 & 10 & ERMS   &  0.0 &    0 &  NA & ... & -2.50590482 &  0.733699327 & Solidtumors:CHP\\_404\\_X05-cfDNA & 25 &  2 &  0 &  2 &  1 &  0 & 5\\\\\n",
       "\t732 & CHP\\_405\\_02 & CHP\\_405 & X02 &  5.3 & 1053.80 &  1 & CML    &  5.3 & 1156 &  11 & ... &  0.63555330 &  1.246705860 & Leukemia:CHP\\_405\\_X02-cfDNA    & 23 &  2 &  0 &  0 &  1 &  0 & 2\\\\\n",
       "\t733 & CHP\\_405\\_03 & CHP\\_405 & X03 &  2.0 &    0.00 &  1 & CML    &  2.0 & 2309 &   2 & ... & -0.29734313 &  0.530589655 & Leukemia:CHP\\_405\\_X03-cfDNA    &  3 &  0 &  0 &  0 &  0 &  0 & 3\\\\\n",
       "\t734 & CHP\\_405\\_04 & CHP\\_405 & X04 &  0.0 &    0.00 &  1 & CML    &  0.0 &    0 &  NA & ... &          NA &           NA & NA                            & NA & NA & NA & NA & NA & NA & 4\\\\\n",
       "\t735 & CHP\\_405\\_05 & CHP\\_405 & X05 &  0.0 &    0.00 &  1 & CML    &  0.0 &    0 &  NA & ... &  0.30589808 & -0.262124383 & Leukemia:CHP\\_405\\_X05-cfDNA    &  6 &  2 &  0 &  0 &  1 &  0 & 5\\\\\n",
       "\t742 & CHP\\_407\\_02 & CHP\\_407 & X02 & 18.1 &  570.15 & 12 & DLBCL  & 18.1 & 2373 & 839 & ... & -2.12965525 &  0.286935716 & Lymphoma:CHP\\_407\\_X02-cfDNA    &  8 &  0 &  0 &  0 &  0 &  0 & 2\\\\\n",
       "\t743 & CHP\\_407\\_03 & CHP\\_407 & X03 &  3.7 &   86.24 & 12 & DLBCL  &  3.7 & 1185 &  72 & ... &  0.19415566 & -0.097193780 & Lymphoma:CHP\\_407\\_X03-cfDNA    &  0 &  0 &  0 &  0 &  0 &  0 & 3\\\\\n",
       "\t744 & CHP\\_407\\_04 & CHP\\_407 & X04 &  0.0 &    0.00 & 12 & DLBCL  &  0.0 &    0 &  NA & ... &  0.11381906 & -0.059284521 & Lymphoma:CHP\\_407\\_X04-cfDNA    &  3 &  0 &  0 &  0 &  0 &  0 & 4\\\\\n",
       "\t747 & CHP\\_408\\_02 & CHP\\_408 & X02 &  4.3 &    0.00 &  5 & OS     &  4.3 & 2395 & 522 & ... & -0.21868626 &  0.088980765 & Solidtumors:CHP\\_408\\_X02-cfDNA &  4 &  0 &  0 &  0 &  0 &  0 & 2\\\\\n",
       "\t748 & CHP\\_408\\_03 & CHP\\_408 & X03 &  5.4 &   69.16 &  5 & OS     &  5.4 & 1395 &  42 & ... &  0.12894153 &  1.813678781 & Solidtumors:CHP\\_408\\_X03-cfDNA & 11 &  0 &  0 &  0 &  0 &  0 & 3\\\\\n",
       "\t752 & CHP\\_409\\_02 & CHP\\_409 & X02 &  1.8 &  338.13 & 11 & EWS    &  1.8 & 1132 &  13 & ... &  0.24925961 & -0.273244979 & Solidtumors:CHP\\_409\\_X02-cfDNA &  0 &  0 &  0 &  0 &  0 &  0 & 2\\\\\n",
       "\t753 & CHP\\_409\\_03 & CHP\\_409 & X03 &  0.0 &  198.09 & 11 & EWS    &  0.0 &    0 &  NA & ... &  0.09770153 & -0.005937607 & Solidtumors:CHP\\_409\\_X03-cfDNA &  3 &  0 &  0 &  0 &  0 &  0 & 3\\\\\n",
       "\t754 & CHP\\_409\\_04 & CHP\\_409 & X04 &  0.0 &  522.07 & 11 & EWS    &  0.0 &    0 &  NA & ... &          NA &           NA & NA                            & NA & NA & NA & NA & NA & NA & 4\\\\\n",
       "\t757 & CHP\\_410\\_02 & CHP\\_410 & X02 &  0.0 &    0.00 &  1 & ALL    &  0.0 &    0 &  NA & ... &  0.38829850 & -0.651140840 & Leukemia:CHP\\_410\\_X02-cfDNA    &  8 &  1 &  1 &  0 &  0 &  0 & 2\\\\\n",
       "\t758 & CHP\\_410\\_03 & CHP\\_410 & X03 &  0.0 &  179.34 &  1 & ALL    &  0.0 &    0 &  NA & ... &  0.32545892 & -0.655881738 & Leukemia:CHP\\_410\\_X03-cfDNA    &  1 &  0 &  0 &  0 &  0 &  0 & 3\\\\\n",
       "\t767 & CHP\\_412\\_02 & CHP\\_412 & X02 &  0.0 &    0.00 & 13 & BLL    &  0.0 &    0 &  NA & ... &  0.16351822 & -0.070232887 & Lymphoma:CHP\\_412\\_X02-cfDNA    &  2 &  0 &  0 &  0 &  0 &  0 & 2\\\\\n",
       "\t768 & CHP\\_412\\_03 & CHP\\_412 & X03 &  0.9 &    0.00 & 13 & BLL    &  0.9 &    0 &  NA & ... &  0.16799886 & -0.168552205 & Lymphoma:CHP\\_412\\_X03-cfDNA    &  0 &  0 &  0 &  0 &  0 &  0 & 3\\\\\n",
       "\t777 & CHP\\_414\\_02 & CHP\\_414 & X02 &  0.0 &  802.76 &  1 & HB     &  0.0 &    0 &  NA & ... &  0.21620079 & -0.543006999 & Solidtumors:CHP\\_414\\_X02-cfDNA &  4 &  0 &  0 &  0 &  0 &  0 & 2\\\\\n",
       "\t778 & CHP\\_414\\_03 & CHP\\_414 & X03 &  0.8 &   73.80 &  1 & HB     &  0.8 & 2525 & 312 & ... &  0.27185173 & -0.120867081 & Solidtumors:CHP\\_414\\_X03-cfDNA &  6 &  1 &  1 &  0 &  0 &  0 & 3\\\\\n",
       "\t782 & CHP\\_415\\_02 & CHP\\_415 & X02 &  0.0 &  234.32 & 17 & HD     &  0.0 &    0 &  NA & ... & -0.91981161 & -0.046407288 & Lymphoma:CHP\\_415\\_X02-cfDNA    &  1 &  0 &  0 &  0 &  0 &  0 & 2\\\\\n",
       "\t783 & CHP\\_415\\_03 & CHP\\_415 & X03 &  1.3 &  389.60 & 17 & HD     &  1.3 & 2426 & 213 & ... &  0.11528129 &  0.271354806 & Lymphoma:CHP\\_415\\_X03-cfDNA    &  4 &  0 &  0 &  0 &  0 &  0 & 3\\\\\n",
       "\\end{tabular}\n"
      ],
      "text/markdown": [
       "\n",
       "A data.frame: 127 x 124\n",
       "\n",
       "| <!--/--> | sample_id &lt;chr&gt; | Patient &lt;chr&gt; | cycle &lt;chr&gt; | FOLD &lt;dbl&gt; | ATC &lt;dbl&gt; | Age &lt;dbl&gt; | Disease_type &lt;chr&gt; | TE_fold &lt;dbl&gt; | CD3 &lt;int&gt; | EM &lt;int&gt; | ... ... | cfDNA_J_PC2 &lt;dbl&gt; | cfDNA_J_PC3 &lt;dbl&gt; | cfDNA_samplename &lt;chr&gt; | cfDNA_gliph_n &lt;dbl&gt; | cfDNA_CMV &lt;dbl&gt; | cfDNA_EBV &lt;dbl&gt; | cfDNA_HCV &lt;dbl&gt; | cfDNA_Flu &lt;dbl&gt; | cfDNA_hs &lt;dbl&gt; | cyclenum &lt;dbl&gt; |\n",
       "|---|---|---|---|---|---|---|---|---|---|---|---|---|---|---|---|---|---|---|---|---|---|\n",
       "| 320 | CHP_323_03 | CHP_323 | X03 |  0.0 |  786.24 |  1 | HR ALL |  0.0 |    0 |  NA | ... | -1.42025844 | -1.04697016 | Leukemia:CHP_323_X03-cfDNA    | 71 |  8 |  2 |  0 |  5 |  1 | 3 |\n",
       "| 322 | CHP_323_05 | CHP_323 | X05 |  0.0 |  979.50 |  1 | HR ALL |  0.0 |    0 |  NA | ... | -1.03382807 |  0.68828218 | Leukemia:CHP_323_X05-cfDNA    |  9 |  0 |  0 |  0 |  0 |  0 | 5 |\n",
       "| 346 | CHP_328_04 | CHP_328 | X04 |  0.0 |  130.82 |  7 | SR ALL |  0.0 |    0 |  NA | ... |          NA |          NA | NA                            | NA | NA | NA | NA | NA | NA | 4 |\n",
       "| 347 | CHP_328_05 | CHP_328 | X05 |  0.0 |   91.16 |  7 | SR ALL |  0.0 |    0 |  NA | ... |  0.09263065 |  0.06769804 | Leukemia:CHP_328_X05-cfDNA    |  0 |  0 |  0 |  0 |  0 |  0 | 5 |\n",
       "| 361 | CHP_331_04 | CHP_331 | X04 |  0.0 |    0.00 |  5 | SR ALL |  0.0 |    0 |  NA | ... |          NA |          NA | NA                            | NA | NA | NA | NA | NA | NA | 4 |\n",
       "| 362 | CHP_331_05 | CHP_331 | X05 |  0.0 |    0.00 |  5 | SR ALL |  0.0 |    0 |  NA | ... |  0.96813035 |  1.08735349 | Leukemia:CHP_331_X05-cfDNA    | 15 |  0 |  0 |  0 |  0 |  0 | 5 |\n",
       "| 395 | CHP_338_03 | CHP_338 | X03 | 16.8 |  329.29 | 13 | AML    | 16.8 |    0 |  NA | ... |  0.10556553 | -0.10383618 | Leukemia:CHP_338_X03-cfDNA    |  4 |  0 |  0 |  0 |  0 |  0 | 3 |\n",
       "| 396 | CHP_338_04 | CHP_338 | X04 |  1.9 |    0.00 | 13 | AML    |  1.9 |    0 |  NA | ... |          NA |          NA | NA                            | NA | NA | NA | NA | NA | NA | 4 |\n",
       "| 397 | CHP_338_05 | CHP_338 | X05 |  0.0 |    0.00 | 13 | AML    |  0.0 |    0 |  NA | ... |  0.32598174 | -0.20770317 | Leukemia:CHP_338_X05-cfDNA    |  3 |  0 |  0 |  0 |  0 |  0 | 5 |\n",
       "| 400 | CHP_339_03 | CHP_339 | X03 |  0.0 |  376.20 |  1 | ALL    |  0.0 |    0 |  NA | ... | -0.37683076 |  0.12906093 | Leukemia:CHP_339_X03-cfDNA    |  3 |  0 |  0 |  0 |  0 |  0 | 3 |\n",
       "| 402 | CHP_339_05 | CHP_339 | X05 |  0.0 |  421.94 |  1 | ALL    |  0.0 |    0 |  NA | ... |          NA |          NA | NA                            | NA | NA | NA | NA | NA | NA | 5 |\n",
       "| 405 | CHP_340_03 | CHP_340 | X03 |  0.0 |    0.00 |  1 | ALL    |  0.0 |    0 |  NA | ... |  0.16639091 | -0.11205073 | Leukemia:CHP_340_X03-cfDNA    |  0 |  0 |  0 |  0 |  0 |  0 | 3 |\n",
       "| 406 | CHP_340_04 | CHP_340 | X04 |  0.0 |    0.00 |  1 | ALL    |  0.0 |    0 |  NA | ... |  0.73200487 | -1.43700019 | Leukemia:CHP_340_X04-cfDNA    | 14 |  1 |  0 |  0 |  0 |  0 | 4 |\n",
       "| 407 | CHP_340_05 | CHP_340 | X05 |  0.0 |    0.00 |  1 | ALL    |  0.0 |    0 |  NA | ... |          NA |          NA | NA                            | NA | NA | NA | NA | NA | NA | 5 |\n",
       "| 419 | CHP_343_02 | CHP_343 | X02 |  0.3 |  459.04 |  8 | EWS    |  0.3 | 1135 |  16 | ... |  0.09189098 |  0.25737734 | Solidtumors:CHP_343_X02-cfDNA |  5 |  0 |  0 |  0 |  0 |  0 | 2 |\n",
       "| 420 | CHP_343_03 | CHP_343 | X03 |  0.6 |  370.30 |  8 | EWS    |  0.6 | 1650 |  16 | ... |          NA |          NA | NA                            | NA | NA | NA | NA | NA | NA | 3 |\n",
       "| 421 | CHP_343_04 | CHP_343 | X04 |  1.5 |  536.63 |  8 | EWS    |  1.5 | 2612 | 146 | ... |  0.09042876 | -0.07326199 | Solidtumors:CHP_343_X04-cfDNA |  0 |  0 |  0 |  0 |  0 |  0 | 4 |\n",
       "| 422 | CHP_343_05 | CHP_343 | X05 |  2.1 |  371.20 |  8 | EWS    |  2.1 | 2436 | 152 | ... |  0.11747729 | -0.28786712 | Solidtumors:CHP_343_X05-cfDNA |  1 |  0 |  0 |  0 |  0 |  0 | 5 |\n",
       "| 424 | CHP_344_02 | CHP_344 | X02 |  0.0 |  829.08 |  6 | BL     |  0.0 |    0 |  NA | ... |  0.85056495 |  1.23289832 | Lymphoma:CHP_344_X02-cfDNA    |  9 |  3 |  1 |  0 |  1 |  0 | 2 |\n",
       "| 426 | CHP_344_04 | CHP_344 | X04 |  0.0 |    0.00 |  6 | BL     |  0.0 |    0 |  NA | ... |  0.14524691 | -0.12614429 | Lymphoma:CHP_344_X04-cfDNA    |  3 |  0 |  0 |  0 |  0 |  0 | 4 |\n",
       "| 427 | CHP_344_05 | CHP_344 | X05 |  0.0 |  134.32 |  6 | BL     |  0.0 |    0 |  NA | ... |  0.16799886 | -0.16855220 | Lymphoma:CHP_344_X05-cfDNA    |  3 |  0 |  0 |  0 |  0 |  0 | 5 |\n",
       "| 429 | CHP_345_02 | CHP_345 | X02 |  0.0 | 1598.08 |  1 | ALL    |  0.0 |    0 |  NA | ... | -0.67576427 |  1.55596750 | Leukemia:CHP_345_X02-cfDNA    | 18 |  1 |  0 |  0 |  0 |  0 | 2 |\n",
       "| 431 | CHP_345_04 | CHP_345 | X04 |  0.0 |    0.00 |  1 | ALL    |  0.0 |    0 |  NA | ... |  1.61920084 |  4.66094466 | Leukemia:CHP_345_X04-cfDNA    | 20 |  1 |  0 |  0 |  0 |  0 | 4 |\n",
       "| 432 | CHP_345_05 | CHP_345 | X05 |  0.0 |    0.00 |  1 | ALL    |  0.0 |    0 |  NA | ... |          NA |          NA | NA                            | NA | NA | NA | NA | NA | NA | 5 |\n",
       "| 439 | CHP_347_02 | CHP_347 | X02 |  6.4 | 1038.59 | 13 | ALL    |  6.4 |  927 |  15 | ... |  0.29469290 | -0.33658842 | Leukemia:CHP_347_X02-cfDNA    |  1 |  0 |  0 |  0 |  0 |  0 | 2 |\n",
       "| 440 | CHP_347_03 | CHP_347 | X03 | 37.6 |  768.80 | 13 | ALL    | 37.6 | 2379 |  27 | ... |  0.14202190 | -0.27960104 | Leukemia:CHP_347_X03-cfDNA    |  1 |  0 |  0 |  0 |  0 |  0 | 3 |\n",
       "| 441 | CHP_347_04 | CHP_347 | X04 |  0.8 | 1542.25 | 13 | ALL    |  0.8 |  745 |  14 | ... |  0.92926088 |  0.61047769 | Leukemia:CHP_347_X04-cfDNA    |  7 |  0 |  0 |  0 |  0 |  0 | 4 |\n",
       "| 442 | CHP_347_05 | CHP_347 | X05 |  2.6 | 1278.87 | 13 | ALL    |  2.6 | 2175 |   7 | ... |  0.58386099 | -0.89607625 | Leukemia:CHP_347_X05-cfDNA    | 11 |  0 |  0 |  0 |  0 |  0 | 5 |\n",
       "| 454 | CHP_350_02 | CHP_350 | X02 | 39.5 |    0.00 |  1 | HB     | 39.5 | 2368 |  26 | ... |  0.55536978 | -0.82462120 | Solidtumors:CHP_350_X02-cfDNA | 16 |  6 |  0 |  0 |  1 |  0 | 2 |\n",
       "| 455 | CHP_350_03 | CHP_350 | X03 | 10.1 |    0.00 |  1 | HB     | 10.1 | 2394 |  64 | ... |  0.20127941 | -2.32557889 | Solidtumors:CHP_350_X03-cfDNA | 41 |  2 |  0 |  1 |  1 |  1 | 3 |\n",
       "| ... | ... | ... | ... | ... | ... | ... | ... | ... | ... | ... | <!----> | ... | ... | ... | ... | ... | ... | ... | ... | ... | ... |\n",
       "| 709 | CHP_400_04 | CHP_400 | X04 |  0.8 |    0.00 | 18 | PMBCL  |  0.8 | 1864 | 222 | ... |  0.16858910 | -0.143868539 | Lymphoma:CHP_400_X04-cfDNA    |  4 |  0 |  0 |  0 |  0 |  0 | 4 |\n",
       "| 710 | CHP_400_05 | CHP_400 | X05 |  0.0 |    0.00 | 18 | PMBCL  |  0.0 |    0 |  NA | ... | -2.73816967 | -0.750869240 | Lymphoma:CHP_400_X05-cfDNA    | 11 |  0 |  0 |  0 |  0 |  0 | 5 |\n",
       "| 713 | CHP_401_03 | CHP_401 | X03 |  8.7 |  396.03 |  3 | ERMS   |  8.7 | 2428 |   0 | ... |          NA |           NA | Solidtumors:CHP_401_X03-cfDNA |  0 |  0 |  0 |  0 |  0 |  0 | 3 |\n",
       "| 715 | CHP_401_05 | CHP_401 | X05 |  0.0 |    0.00 |  3 | ERMS   |  0.0 |    0 |  NA | ... |  0.77530762 |  1.311682909 | Solidtumors:CHP_401_X05-cfDNA |  1 |  0 |  0 |  0 |  0 |  0 | 5 |\n",
       "| 717 | CHP_402_02 | CHP_402 | X02 |  0.8 |  419.95 |  9 | HR ALL |  0.8 | 2487 |   0 | ... |  0.16292798 | -0.094916553 | Leukemia:CHP_402_X02-cfDNA    |  0 |  0 |  0 |  0 |  0 |  0 | 2 |\n",
       "| 718 | CHP_402_03 | CHP_402 | X03 |  6.1 |    0.00 |  9 | HR ALL |  6.1 |   44 |   1 | ... |  0.27087089 | -0.364290906 | Leukemia:CHP_402_X03-cfDNA    |  2 |  0 |  0 |  0 |  0 |  1 | 3 |\n",
       "| 722 | CHP_403_02 | CHP_403 | X02 |  2.2 |  674.56 | 18 | DLBCL  |  2.2 |  493 |   0 | ... | -3.16551744 | -1.127682455 | Lymphoma:CHP_403_X02-cfDNA    | 16 |  1 |  0 |  0 |  0 |  0 | 2 |\n",
       "| 723 | CHP_403_03 | CHP_403 | X03 |  2.3 |  216.20 | 18 | DLBCL  |  2.3 |  231 |  15 | ... |  0.08549024 | -0.043746411 | Lymphoma:CHP_403_X03-cfDNA    |  0 |  0 |  0 |  0 |  0 |  0 | 3 |\n",
       "| 727 | CHP_404_02 | CHP_404 | X02 |  1.8 |  856.44 | 10 | ERMS   |  1.8 |  403 |   1 | ... | -0.14360247 | -0.006865153 | Solidtumors:CHP_404_X02-cfDNA |  5 |  1 |  0 |  0 |  0 |  0 | 2 |\n",
       "| 730 | CHP_404_05 | CHP_404 | X05 |  0.0 |  326.60 | 10 | ERMS   |  0.0 |    0 |  NA | ... | -2.50590482 |  0.733699327 | Solidtumors:CHP_404_X05-cfDNA | 25 |  2 |  0 |  2 |  1 |  0 | 5 |\n",
       "| 732 | CHP_405_02 | CHP_405 | X02 |  5.3 | 1053.80 |  1 | CML    |  5.3 | 1156 |  11 | ... |  0.63555330 |  1.246705860 | Leukemia:CHP_405_X02-cfDNA    | 23 |  2 |  0 |  0 |  1 |  0 | 2 |\n",
       "| 733 | CHP_405_03 | CHP_405 | X03 |  2.0 |    0.00 |  1 | CML    |  2.0 | 2309 |   2 | ... | -0.29734313 |  0.530589655 | Leukemia:CHP_405_X03-cfDNA    |  3 |  0 |  0 |  0 |  0 |  0 | 3 |\n",
       "| 734 | CHP_405_04 | CHP_405 | X04 |  0.0 |    0.00 |  1 | CML    |  0.0 |    0 |  NA | ... |          NA |           NA | NA                            | NA | NA | NA | NA | NA | NA | 4 |\n",
       "| 735 | CHP_405_05 | CHP_405 | X05 |  0.0 |    0.00 |  1 | CML    |  0.0 |    0 |  NA | ... |  0.30589808 | -0.262124383 | Leukemia:CHP_405_X05-cfDNA    |  6 |  2 |  0 |  0 |  1 |  0 | 5 |\n",
       "| 742 | CHP_407_02 | CHP_407 | X02 | 18.1 |  570.15 | 12 | DLBCL  | 18.1 | 2373 | 839 | ... | -2.12965525 |  0.286935716 | Lymphoma:CHP_407_X02-cfDNA    |  8 |  0 |  0 |  0 |  0 |  0 | 2 |\n",
       "| 743 | CHP_407_03 | CHP_407 | X03 |  3.7 |   86.24 | 12 | DLBCL  |  3.7 | 1185 |  72 | ... |  0.19415566 | -0.097193780 | Lymphoma:CHP_407_X03-cfDNA    |  0 |  0 |  0 |  0 |  0 |  0 | 3 |\n",
       "| 744 | CHP_407_04 | CHP_407 | X04 |  0.0 |    0.00 | 12 | DLBCL  |  0.0 |    0 |  NA | ... |  0.11381906 | -0.059284521 | Lymphoma:CHP_407_X04-cfDNA    |  3 |  0 |  0 |  0 |  0 |  0 | 4 |\n",
       "| 747 | CHP_408_02 | CHP_408 | X02 |  4.3 |    0.00 |  5 | OS     |  4.3 | 2395 | 522 | ... | -0.21868626 |  0.088980765 | Solidtumors:CHP_408_X02-cfDNA |  4 |  0 |  0 |  0 |  0 |  0 | 2 |\n",
       "| 748 | CHP_408_03 | CHP_408 | X03 |  5.4 |   69.16 |  5 | OS     |  5.4 | 1395 |  42 | ... |  0.12894153 |  1.813678781 | Solidtumors:CHP_408_X03-cfDNA | 11 |  0 |  0 |  0 |  0 |  0 | 3 |\n",
       "| 752 | CHP_409_02 | CHP_409 | X02 |  1.8 |  338.13 | 11 | EWS    |  1.8 | 1132 |  13 | ... |  0.24925961 | -0.273244979 | Solidtumors:CHP_409_X02-cfDNA |  0 |  0 |  0 |  0 |  0 |  0 | 2 |\n",
       "| 753 | CHP_409_03 | CHP_409 | X03 |  0.0 |  198.09 | 11 | EWS    |  0.0 |    0 |  NA | ... |  0.09770153 | -0.005937607 | Solidtumors:CHP_409_X03-cfDNA |  3 |  0 |  0 |  0 |  0 |  0 | 3 |\n",
       "| 754 | CHP_409_04 | CHP_409 | X04 |  0.0 |  522.07 | 11 | EWS    |  0.0 |    0 |  NA | ... |          NA |           NA | NA                            | NA | NA | NA | NA | NA | NA | 4 |\n",
       "| 757 | CHP_410_02 | CHP_410 | X02 |  0.0 |    0.00 |  1 | ALL    |  0.0 |    0 |  NA | ... |  0.38829850 | -0.651140840 | Leukemia:CHP_410_X02-cfDNA    |  8 |  1 |  1 |  0 |  0 |  0 | 2 |\n",
       "| 758 | CHP_410_03 | CHP_410 | X03 |  0.0 |  179.34 |  1 | ALL    |  0.0 |    0 |  NA | ... |  0.32545892 | -0.655881738 | Leukemia:CHP_410_X03-cfDNA    |  1 |  0 |  0 |  0 |  0 |  0 | 3 |\n",
       "| 767 | CHP_412_02 | CHP_412 | X02 |  0.0 |    0.00 | 13 | BLL    |  0.0 |    0 |  NA | ... |  0.16351822 | -0.070232887 | Lymphoma:CHP_412_X02-cfDNA    |  2 |  0 |  0 |  0 |  0 |  0 | 2 |\n",
       "| 768 | CHP_412_03 | CHP_412 | X03 |  0.9 |    0.00 | 13 | BLL    |  0.9 |    0 |  NA | ... |  0.16799886 | -0.168552205 | Lymphoma:CHP_412_X03-cfDNA    |  0 |  0 |  0 |  0 |  0 |  0 | 3 |\n",
       "| 777 | CHP_414_02 | CHP_414 | X02 |  0.0 |  802.76 |  1 | HB     |  0.0 |    0 |  NA | ... |  0.21620079 | -0.543006999 | Solidtumors:CHP_414_X02-cfDNA |  4 |  0 |  0 |  0 |  0 |  0 | 2 |\n",
       "| 778 | CHP_414_03 | CHP_414 | X03 |  0.8 |   73.80 |  1 | HB     |  0.8 | 2525 | 312 | ... |  0.27185173 | -0.120867081 | Solidtumors:CHP_414_X03-cfDNA |  6 |  1 |  1 |  0 |  0 |  0 | 3 |\n",
       "| 782 | CHP_415_02 | CHP_415 | X02 |  0.0 |  234.32 | 17 | HD     |  0.0 |    0 |  NA | ... | -0.91981161 | -0.046407288 | Lymphoma:CHP_415_X02-cfDNA    |  1 |  0 |  0 |  0 |  0 |  0 | 2 |\n",
       "| 783 | CHP_415_03 | CHP_415 | X03 |  1.3 |  389.60 | 17 | HD     |  1.3 | 2426 | 213 | ... |  0.11528129 |  0.271354806 | Lymphoma:CHP_415_X03-cfDNA    |  4 |  0 |  0 |  0 |  0 |  0 | 3 |\n",
       "\n"
      ],
      "text/plain": [
       "    sample_id  Patient cycle FOLD ATC     Age Disease_type TE_fold CD3  EM  ...\n",
       "320 CHP_323_03 CHP_323 X03    0.0  786.24  1  HR ALL        0.0       0  NA ...\n",
       "322 CHP_323_05 CHP_323 X05    0.0  979.50  1  HR ALL        0.0       0  NA ...\n",
       "346 CHP_328_04 CHP_328 X04    0.0  130.82  7  SR ALL        0.0       0  NA ...\n",
       "347 CHP_328_05 CHP_328 X05    0.0   91.16  7  SR ALL        0.0       0  NA ...\n",
       "361 CHP_331_04 CHP_331 X04    0.0    0.00  5  SR ALL        0.0       0  NA ...\n",
       "362 CHP_331_05 CHP_331 X05    0.0    0.00  5  SR ALL        0.0       0  NA ...\n",
       "395 CHP_338_03 CHP_338 X03   16.8  329.29 13  AML          16.8       0  NA ...\n",
       "396 CHP_338_04 CHP_338 X04    1.9    0.00 13  AML           1.9       0  NA ...\n",
       "397 CHP_338_05 CHP_338 X05    0.0    0.00 13  AML           0.0       0  NA ...\n",
       "400 CHP_339_03 CHP_339 X03    0.0  376.20  1  ALL           0.0       0  NA ...\n",
       "402 CHP_339_05 CHP_339 X05    0.0  421.94  1  ALL           0.0       0  NA ...\n",
       "405 CHP_340_03 CHP_340 X03    0.0    0.00  1  ALL           0.0       0  NA ...\n",
       "406 CHP_340_04 CHP_340 X04    0.0    0.00  1  ALL           0.0       0  NA ...\n",
       "407 CHP_340_05 CHP_340 X05    0.0    0.00  1  ALL           0.0       0  NA ...\n",
       "419 CHP_343_02 CHP_343 X02    0.3  459.04  8  EWS           0.3    1135  16 ...\n",
       "420 CHP_343_03 CHP_343 X03    0.6  370.30  8  EWS           0.6    1650  16 ...\n",
       "421 CHP_343_04 CHP_343 X04    1.5  536.63  8  EWS           1.5    2612 146 ...\n",
       "422 CHP_343_05 CHP_343 X05    2.1  371.20  8  EWS           2.1    2436 152 ...\n",
       "424 CHP_344_02 CHP_344 X02    0.0  829.08  6  BL            0.0       0  NA ...\n",
       "426 CHP_344_04 CHP_344 X04    0.0    0.00  6  BL            0.0       0  NA ...\n",
       "427 CHP_344_05 CHP_344 X05    0.0  134.32  6  BL            0.0       0  NA ...\n",
       "429 CHP_345_02 CHP_345 X02    0.0 1598.08  1  ALL           0.0       0  NA ...\n",
       "431 CHP_345_04 CHP_345 X04    0.0    0.00  1  ALL           0.0       0  NA ...\n",
       "432 CHP_345_05 CHP_345 X05    0.0    0.00  1  ALL           0.0       0  NA ...\n",
       "439 CHP_347_02 CHP_347 X02    6.4 1038.59 13  ALL           6.4     927  15 ...\n",
       "440 CHP_347_03 CHP_347 X03   37.6  768.80 13  ALL          37.6    2379  27 ...\n",
       "441 CHP_347_04 CHP_347 X04    0.8 1542.25 13  ALL           0.8     745  14 ...\n",
       "442 CHP_347_05 CHP_347 X05    2.6 1278.87 13  ALL           2.6    2175   7 ...\n",
       "454 CHP_350_02 CHP_350 X02   39.5    0.00  1  HB           39.5    2368  26 ...\n",
       "455 CHP_350_03 CHP_350 X03   10.1    0.00  1  HB           10.1    2394  64 ...\n",
       "... ...        ...     ...   ...  ...     ... ...          ...     ...  ...    \n",
       "709 CHP_400_04 CHP_400 X04    0.8    0.00 18  PMBCL         0.8    1864 222 ...\n",
       "710 CHP_400_05 CHP_400 X05    0.0    0.00 18  PMBCL         0.0       0  NA ...\n",
       "713 CHP_401_03 CHP_401 X03    8.7  396.03  3  ERMS          8.7    2428   0 ...\n",
       "715 CHP_401_05 CHP_401 X05    0.0    0.00  3  ERMS          0.0       0  NA ...\n",
       "717 CHP_402_02 CHP_402 X02    0.8  419.95  9  HR ALL        0.8    2487   0 ...\n",
       "718 CHP_402_03 CHP_402 X03    6.1    0.00  9  HR ALL        6.1      44   1 ...\n",
       "722 CHP_403_02 CHP_403 X02    2.2  674.56 18  DLBCL         2.2     493   0 ...\n",
       "723 CHP_403_03 CHP_403 X03    2.3  216.20 18  DLBCL         2.3     231  15 ...\n",
       "727 CHP_404_02 CHP_404 X02    1.8  856.44 10  ERMS          1.8     403   1 ...\n",
       "730 CHP_404_05 CHP_404 X05    0.0  326.60 10  ERMS          0.0       0  NA ...\n",
       "732 CHP_405_02 CHP_405 X02    5.3 1053.80  1  CML           5.3    1156  11 ...\n",
       "733 CHP_405_03 CHP_405 X03    2.0    0.00  1  CML           2.0    2309   2 ...\n",
       "734 CHP_405_04 CHP_405 X04    0.0    0.00  1  CML           0.0       0  NA ...\n",
       "735 CHP_405_05 CHP_405 X05    0.0    0.00  1  CML           0.0       0  NA ...\n",
       "742 CHP_407_02 CHP_407 X02   18.1  570.15 12  DLBCL        18.1    2373 839 ...\n",
       "743 CHP_407_03 CHP_407 X03    3.7   86.24 12  DLBCL         3.7    1185  72 ...\n",
       "744 CHP_407_04 CHP_407 X04    0.0    0.00 12  DLBCL         0.0       0  NA ...\n",
       "747 CHP_408_02 CHP_408 X02    4.3    0.00  5  OS            4.3    2395 522 ...\n",
       "748 CHP_408_03 CHP_408 X03    5.4   69.16  5  OS            5.4    1395  42 ...\n",
       "752 CHP_409_02 CHP_409 X02    1.8  338.13 11  EWS           1.8    1132  13 ...\n",
       "753 CHP_409_03 CHP_409 X03    0.0  198.09 11  EWS           0.0       0  NA ...\n",
       "754 CHP_409_04 CHP_409 X04    0.0  522.07 11  EWS           0.0       0  NA ...\n",
       "757 CHP_410_02 CHP_410 X02    0.0    0.00  1  ALL           0.0       0  NA ...\n",
       "758 CHP_410_03 CHP_410 X03    0.0  179.34  1  ALL           0.0       0  NA ...\n",
       "767 CHP_412_02 CHP_412 X02    0.0    0.00 13  BLL           0.0       0  NA ...\n",
       "768 CHP_412_03 CHP_412 X03    0.9    0.00 13  BLL           0.9       0  NA ...\n",
       "777 CHP_414_02 CHP_414 X02    0.0  802.76  1  HB            0.0       0  NA ...\n",
       "778 CHP_414_03 CHP_414 X03    0.8   73.80  1  HB            0.8    2525 312 ...\n",
       "782 CHP_415_02 CHP_415 X02    0.0  234.32 17  HD            0.0       0  NA ...\n",
       "783 CHP_415_03 CHP_415 X03    1.3  389.60 17  HD            1.3    2426 213 ...\n",
       "    cfDNA_J_PC2 cfDNA_J_PC3  cfDNA_samplename              cfDNA_gliph_n\n",
       "320 -1.42025844 -1.04697016  Leukemia:CHP_323_X03-cfDNA    71           \n",
       "322 -1.03382807  0.68828218  Leukemia:CHP_323_X05-cfDNA     9           \n",
       "346          NA          NA  NA                            NA           \n",
       "347  0.09263065  0.06769804  Leukemia:CHP_328_X05-cfDNA     0           \n",
       "361          NA          NA  NA                            NA           \n",
       "362  0.96813035  1.08735349  Leukemia:CHP_331_X05-cfDNA    15           \n",
       "395  0.10556553 -0.10383618  Leukemia:CHP_338_X03-cfDNA     4           \n",
       "396          NA          NA  NA                            NA           \n",
       "397  0.32598174 -0.20770317  Leukemia:CHP_338_X05-cfDNA     3           \n",
       "400 -0.37683076  0.12906093  Leukemia:CHP_339_X03-cfDNA     3           \n",
       "402          NA          NA  NA                            NA           \n",
       "405  0.16639091 -0.11205073  Leukemia:CHP_340_X03-cfDNA     0           \n",
       "406  0.73200487 -1.43700019  Leukemia:CHP_340_X04-cfDNA    14           \n",
       "407          NA          NA  NA                            NA           \n",
       "419  0.09189098  0.25737734  Solidtumors:CHP_343_X02-cfDNA  5           \n",
       "420          NA          NA  NA                            NA           \n",
       "421  0.09042876 -0.07326199  Solidtumors:CHP_343_X04-cfDNA  0           \n",
       "422  0.11747729 -0.28786712  Solidtumors:CHP_343_X05-cfDNA  1           \n",
       "424  0.85056495  1.23289832  Lymphoma:CHP_344_X02-cfDNA     9           \n",
       "426  0.14524691 -0.12614429  Lymphoma:CHP_344_X04-cfDNA     3           \n",
       "427  0.16799886 -0.16855220  Lymphoma:CHP_344_X05-cfDNA     3           \n",
       "429 -0.67576427  1.55596750  Leukemia:CHP_345_X02-cfDNA    18           \n",
       "431  1.61920084  4.66094466  Leukemia:CHP_345_X04-cfDNA    20           \n",
       "432          NA          NA  NA                            NA           \n",
       "439  0.29469290 -0.33658842  Leukemia:CHP_347_X02-cfDNA     1           \n",
       "440  0.14202190 -0.27960104  Leukemia:CHP_347_X03-cfDNA     1           \n",
       "441  0.92926088  0.61047769  Leukemia:CHP_347_X04-cfDNA     7           \n",
       "442  0.58386099 -0.89607625  Leukemia:CHP_347_X05-cfDNA    11           \n",
       "454  0.55536978 -0.82462120  Solidtumors:CHP_350_X02-cfDNA 16           \n",
       "455  0.20127941 -2.32557889  Solidtumors:CHP_350_X03-cfDNA 41           \n",
       "... ...         ...          ...                           ...          \n",
       "709  0.16858910 -0.143868539 Lymphoma:CHP_400_X04-cfDNA     4           \n",
       "710 -2.73816967 -0.750869240 Lymphoma:CHP_400_X05-cfDNA    11           \n",
       "713          NA           NA Solidtumors:CHP_401_X03-cfDNA  0           \n",
       "715  0.77530762  1.311682909 Solidtumors:CHP_401_X05-cfDNA  1           \n",
       "717  0.16292798 -0.094916553 Leukemia:CHP_402_X02-cfDNA     0           \n",
       "718  0.27087089 -0.364290906 Leukemia:CHP_402_X03-cfDNA     2           \n",
       "722 -3.16551744 -1.127682455 Lymphoma:CHP_403_X02-cfDNA    16           \n",
       "723  0.08549024 -0.043746411 Lymphoma:CHP_403_X03-cfDNA     0           \n",
       "727 -0.14360247 -0.006865153 Solidtumors:CHP_404_X02-cfDNA  5           \n",
       "730 -2.50590482  0.733699327 Solidtumors:CHP_404_X05-cfDNA 25           \n",
       "732  0.63555330  1.246705860 Leukemia:CHP_405_X02-cfDNA    23           \n",
       "733 -0.29734313  0.530589655 Leukemia:CHP_405_X03-cfDNA     3           \n",
       "734          NA           NA NA                            NA           \n",
       "735  0.30589808 -0.262124383 Leukemia:CHP_405_X05-cfDNA     6           \n",
       "742 -2.12965525  0.286935716 Lymphoma:CHP_407_X02-cfDNA     8           \n",
       "743  0.19415566 -0.097193780 Lymphoma:CHP_407_X03-cfDNA     0           \n",
       "744  0.11381906 -0.059284521 Lymphoma:CHP_407_X04-cfDNA     3           \n",
       "747 -0.21868626  0.088980765 Solidtumors:CHP_408_X02-cfDNA  4           \n",
       "748  0.12894153  1.813678781 Solidtumors:CHP_408_X03-cfDNA 11           \n",
       "752  0.24925961 -0.273244979 Solidtumors:CHP_409_X02-cfDNA  0           \n",
       "753  0.09770153 -0.005937607 Solidtumors:CHP_409_X03-cfDNA  3           \n",
       "754          NA           NA NA                            NA           \n",
       "757  0.38829850 -0.651140840 Leukemia:CHP_410_X02-cfDNA     8           \n",
       "758  0.32545892 -0.655881738 Leukemia:CHP_410_X03-cfDNA     1           \n",
       "767  0.16351822 -0.070232887 Lymphoma:CHP_412_X02-cfDNA     2           \n",
       "768  0.16799886 -0.168552205 Lymphoma:CHP_412_X03-cfDNA     0           \n",
       "777  0.21620079 -0.543006999 Solidtumors:CHP_414_X02-cfDNA  4           \n",
       "778  0.27185173 -0.120867081 Solidtumors:CHP_414_X03-cfDNA  6           \n",
       "782 -0.91981161 -0.046407288 Lymphoma:CHP_415_X02-cfDNA     1           \n",
       "783  0.11528129  0.271354806 Lymphoma:CHP_415_X03-cfDNA     4           \n",
       "    cfDNA_CMV cfDNA_EBV cfDNA_HCV cfDNA_Flu cfDNA_hs cyclenum\n",
       "320  8         2         0         5         1       3       \n",
       "322  0         0         0         0         0       5       \n",
       "346 NA        NA        NA        NA        NA       4       \n",
       "347  0         0         0         0         0       5       \n",
       "361 NA        NA        NA        NA        NA       4       \n",
       "362  0         0         0         0         0       5       \n",
       "395  0         0         0         0         0       3       \n",
       "396 NA        NA        NA        NA        NA       4       \n",
       "397  0         0         0         0         0       5       \n",
       "400  0         0         0         0         0       3       \n",
       "402 NA        NA        NA        NA        NA       5       \n",
       "405  0         0         0         0         0       3       \n",
       "406  1         0         0         0         0       4       \n",
       "407 NA        NA        NA        NA        NA       5       \n",
       "419  0         0         0         0         0       2       \n",
       "420 NA        NA        NA        NA        NA       3       \n",
       "421  0         0         0         0         0       4       \n",
       "422  0         0         0         0         0       5       \n",
       "424  3         1         0         1         0       2       \n",
       "426  0         0         0         0         0       4       \n",
       "427  0         0         0         0         0       5       \n",
       "429  1         0         0         0         0       2       \n",
       "431  1         0         0         0         0       4       \n",
       "432 NA        NA        NA        NA        NA       5       \n",
       "439  0         0         0         0         0       2       \n",
       "440  0         0         0         0         0       3       \n",
       "441  0         0         0         0         0       4       \n",
       "442  0         0         0         0         0       5       \n",
       "454  6         0         0         1         0       2       \n",
       "455  2         0         1         1         1       3       \n",
       "... ...       ...       ...       ...       ...      ...     \n",
       "709  0         0         0         0         0       4       \n",
       "710  0         0         0         0         0       5       \n",
       "713  0         0         0         0         0       3       \n",
       "715  0         0         0         0         0       5       \n",
       "717  0         0         0         0         0       2       \n",
       "718  0         0         0         0         1       3       \n",
       "722  1         0         0         0         0       2       \n",
       "723  0         0         0         0         0       3       \n",
       "727  1         0         0         0         0       2       \n",
       "730  2         0         2         1         0       5       \n",
       "732  2         0         0         1         0       2       \n",
       "733  0         0         0         0         0       3       \n",
       "734 NA        NA        NA        NA        NA       4       \n",
       "735  2         0         0         1         0       5       \n",
       "742  0         0         0         0         0       2       \n",
       "743  0         0         0         0         0       3       \n",
       "744  0         0         0         0         0       4       \n",
       "747  0         0         0         0         0       2       \n",
       "748  0         0         0         0         0       3       \n",
       "752  0         0         0         0         0       2       \n",
       "753  0         0         0         0         0       3       \n",
       "754 NA        NA        NA        NA        NA       4       \n",
       "757  1         1         0         0         0       2       \n",
       "758  0         0         0         0         0       3       \n",
       "767  0         0         0         0         0       2       \n",
       "768  0         0         0         0         0       3       \n",
       "777  0         0         0         0         0       2       \n",
       "778  1         1         0         0         0       3       \n",
       "782  0         0         0         0         0       2       \n",
       "783  0         0         0         0         0       3       "
      ]
     },
     "metadata": {},
     "output_type": "display_data"
    }
   ],
   "source": [
    "tcr_df_min2"
   ]
  },
  {
   "cell_type": "code",
   "execution_count": 22,
   "metadata": {
    "vscode": {
     "languageId": "r"
    }
   },
   "outputs": [
    {
     "name": "stderr",
     "output_type": "stream",
     "text": [
      "Warning message:\n",
      "“\u001b[1m\u001b[22mThere were 4 warnings in `mutate()`.\n",
      "The first warning was:\n",
      "\u001b[1m\u001b[22m\u001b[36mℹ\u001b[39m In argument: `quantreg_log10shann = quantreg::rq(log10shann ~ cyclenum, tau =\n",
      "  0.5)$coef[2]`.\n",
      "\u001b[36mℹ\u001b[39m In group 7: `Patient = \"CHP_343\"`.\n",
      "Caused by warning in `rq.fit.br()`:\n",
      "\u001b[33m!\u001b[39m Solution may be nonunique\n",
      "\u001b[1m\u001b[22m\u001b[36mℹ\u001b[39m Run `dplyr::last_dplyr_warnings()` to see the 3 remaining warnings.”\n",
      "Warning message:\n",
      "“\u001b[1m\u001b[22mThere were 2 warnings in `mutate()`.\n",
      "The first warning was:\n",
      "\u001b[1m\u001b[22m\u001b[36mℹ\u001b[39m In argument: `quantreg_gliph_n = quantreg::rq(gliph_n ~ cyclenum, tau =\n",
      "  0.5)$coef[2]`.\n",
      "\u001b[36mℹ\u001b[39m In group 10: `Patient = \"CHP_347\"`.\n",
      "Caused by warning in `rq.fit.br()`:\n",
      "\u001b[33m!\u001b[39m Solution may be nonunique\n",
      "\u001b[1m\u001b[22m\u001b[36mℹ\u001b[39m Run `dplyr::last_dplyr_warnings()` to see the 1 remaining warning.”\n",
      "Warning message:\n",
      "“\u001b[1m\u001b[22mThere were 3 warnings in `mutate()`.\n",
      "The first warning was:\n",
      "\u001b[1m\u001b[22m\u001b[36mℹ\u001b[39m In argument: `quantreg_V_PC1 = quantreg::rq(V_PC1 ~ cyclenum, tau =\n",
      "  0.5)$coef[2]`.\n",
      "\u001b[36mℹ\u001b[39m In group 7: `Patient = \"CHP_343\"`.\n",
      "Caused by warning in `rq.fit.br()`:\n",
      "\u001b[33m!\u001b[39m Solution may be nonunique\n",
      "\u001b[1m\u001b[22m\u001b[36mℹ\u001b[39m Run `dplyr::last_dplyr_warnings()` to see the 2 remaining warnings.”\n",
      "Warning message:\n",
      "“\u001b[1m\u001b[22mThere were 3 warnings in `mutate()`.\n",
      "The first warning was:\n",
      "\u001b[1m\u001b[22m\u001b[36mℹ\u001b[39m In argument: `quantreg_J_PC1 = quantreg::rq(J_PC1 ~ cyclenum, tau =\n",
      "  0.5)$coef[2]`.\n",
      "\u001b[36mℹ\u001b[39m In group 7: `Patient = \"CHP_343\"`.\n",
      "Caused by warning in `rq.fit.br()`:\n",
      "\u001b[33m!\u001b[39m Solution may be nonunique\n",
      "\u001b[1m\u001b[22m\u001b[36mℹ\u001b[39m Run `dplyr::last_dplyr_warnings()` to see the 2 remaining warnings.”\n"
     ]
    }
   ],
   "source": [
    "tcr_df_min2 <- tcr_df_min2 %>%\n",
    "group_by(Patient) %>%\n",
    "mutate(quantreg_log10shann = quantreg::rq(log10shann ~ cyclenum, tau = 0.5)$coef[2]  ) %>%\n",
    "mutate(quantreg_gliph_n = quantreg::rq(gliph_n ~ cyclenum, tau = 0.5)$coef[2]  ) %>%\n",
    "mutate(quantreg_V_PC1 = quantreg::rq( V_PC1 ~ cyclenum, tau = 0.5)$coef[2]  ) %>%\n",
    "mutate(quantreg_J_PC1 = quantreg::rq( J_PC1 ~ cyclenum, tau = 0.5)$coef[2]  ) %>%\n",
    "ungroup()"
   ]
  },
  {
   "cell_type": "code",
   "execution_count": 23,
   "metadata": {
    "vscode": {
     "languageId": "r"
    }
   },
   "outputs": [
    {
     "name": "stderr",
     "output_type": "stream",
     "text": [
      "Warning message:\n",
      "“\u001b[1m\u001b[22mThere were 4 warnings in `mutate()`.\n",
      "The first warning was:\n",
      "\u001b[1m\u001b[22m\u001b[36mℹ\u001b[39m In argument: `quantreg_TIM = quantreg::rq(`TIM3%` ~ cyclenum, tau =\n",
      "  0.5)$coef[2]`.\n",
      "\u001b[36mℹ\u001b[39m In group 3: `Patient = \"CHP_343\"`.\n",
      "Caused by warning in `rq.fit.br()`:\n",
      "\u001b[33m!\u001b[39m Solution may be nonunique\n",
      "\u001b[1m\u001b[22m\u001b[36mℹ\u001b[39m Run `dplyr::last_dplyr_warnings()` to see the 3 remaining warnings.”\n",
      "Warning message:\n",
      "“\u001b[1m\u001b[22mThere were 6 warnings in `mutate()`.\n",
      "The first warning was:\n",
      "\u001b[1m\u001b[22m\u001b[36mℹ\u001b[39m In argument: `quantreg_LAG = quantreg::rq(`LAG3%` ~ cyclenum, tau =\n",
      "  0.5)$coef[2]`.\n",
      "\u001b[36mℹ\u001b[39m In group 3: `Patient = \"CHP_343\"`.\n",
      "Caused by warning in `rq.fit.br()`:\n",
      "\u001b[33m!\u001b[39m Solution may be nonunique\n",
      "\u001b[1m\u001b[22m\u001b[36mℹ\u001b[39m Run `dplyr::last_dplyr_warnings()` to see the 5 remaining warnings.”\n",
      "Warning message:\n",
      "“\u001b[1m\u001b[22mThere were 4 warnings in `mutate()`.\n",
      "The first warning was:\n",
      "\u001b[1m\u001b[22m\u001b[36mℹ\u001b[39m In argument: `quantreg_PD1 = quantreg::rq(`PD1%` ~ cyclenum, tau =\n",
      "  0.5)$coef[2]`.\n",
      "\u001b[36mℹ\u001b[39m In group 3: `Patient = \"CHP_343\"`.\n",
      "Caused by warning in `rq.fit.br()`:\n",
      "\u001b[33m!\u001b[39m Solution may be nonunique\n",
      "\u001b[1m\u001b[22m\u001b[36mℹ\u001b[39m Run `dplyr::last_dplyr_warnings()` to see the 3 remaining warnings.”\n"
     ]
    }
   ],
   "source": [
    "ncr_df_min2 <- ncr_df_min2 %>%\n",
    "group_by(Patient) %>%\n",
    "mutate(quantreg_TIM = quantreg::rq(`TIM3%` ~ cyclenum, tau = 0.5)$coef[2] ) %>%\n",
    "mutate(quantreg_LAG = quantreg::rq(`LAG3%` ~ cyclenum, tau = 0.5)$coef[2]  ) %>%\n",
    "mutate(quantreg_PD1 = quantreg::rq( `PD1%` ~ cyclenum, tau = 0.5)$coef[2]  ) %>%\n",
    "ungroup()"
   ]
  },
  {
   "cell_type": "code",
   "execution_count": 24,
   "metadata": {
    "vscode": {
     "languageId": "r"
    }
   },
   "outputs": [
    {
     "name": "stderr",
     "output_type": "stream",
     "text": [
      "Warning message:\n",
      "“\u001b[1m\u001b[22mThere were 5 warnings in `mutate()`.\n",
      "The first warning was:\n",
      "\u001b[1m\u001b[22m\u001b[36mℹ\u001b[39m In argument: `quantreg_N = quantreg::rq(`Naïve%` ~ cyclenum, tau =\n",
      "  0.5)$coef[2]`.\n",
      "\u001b[36mℹ\u001b[39m In group 4: `Patient = \"CHP_347\"`.\n",
      "Caused by warning in `rq.fit.br()`:\n",
      "\u001b[33m!\u001b[39m Solution may be nonunique\n",
      "\u001b[1m\u001b[22m\u001b[36mℹ\u001b[39m Run `dplyr::last_dplyr_warnings()` to see the 4 remaining warnings.”\n",
      "Warning message:\n",
      "“\u001b[1m\u001b[22mThere were 7 warnings in `mutate()`.\n",
      "The first warning was:\n",
      "\u001b[1m\u001b[22m\u001b[36mℹ\u001b[39m In argument: `quantreg_CM = quantreg::rq(`CM%` ~ cyclenum, tau =\n",
      "  0.5)$coef[2]`.\n",
      "\u001b[36mℹ\u001b[39m In group 2: `Patient = \"CHP_332\"`.\n",
      "Caused by warning in `rq.fit.br()`:\n",
      "\u001b[33m!\u001b[39m Solution may be nonunique\n",
      "\u001b[1m\u001b[22m\u001b[36mℹ\u001b[39m Run `dplyr::last_dplyr_warnings()` to see the 6 remaining warnings.”\n",
      "Warning message:\n",
      "“\u001b[1m\u001b[22mThere were 7 warnings in `mutate()`.\n",
      "The first warning was:\n",
      "\u001b[1m\u001b[22m\u001b[36mℹ\u001b[39m In argument: `quantreg_SCM = quantreg::rq(`SCM%` ~ cyclenum, tau =\n",
      "  0.5)$coef[2]`.\n",
      "\u001b[36mℹ\u001b[39m In group 2: `Patient = \"CHP_332\"`.\n",
      "Caused by warning in `rq.fit.br()`:\n",
      "\u001b[33m!\u001b[39m Solution may be nonunique\n",
      "\u001b[1m\u001b[22m\u001b[36mℹ\u001b[39m Run `dplyr::last_dplyr_warnings()` to see the 6 remaining warnings.”\n",
      "Warning message:\n",
      "“\u001b[1m\u001b[22mThere were 5 warnings in `mutate()`.\n",
      "The first warning was:\n",
      "\u001b[1m\u001b[22m\u001b[36mℹ\u001b[39m In argument: `quantreg_EM = quantreg::rq(`EM%` ~ cyclenum, tau =\n",
      "  0.5)$coef[2]`.\n",
      "\u001b[36mℹ\u001b[39m In group 2: `Patient = \"CHP_332\"`.\n",
      "Caused by warning in `rq.fit.br()`:\n",
      "\u001b[33m!\u001b[39m Solution may be nonunique\n",
      "\u001b[1m\u001b[22m\u001b[36mℹ\u001b[39m Run `dplyr::last_dplyr_warnings()` to see the 4 remaining warnings.”\n",
      "Warning message:\n",
      "“\u001b[1m\u001b[22mThere were 6 warnings in `mutate()`.\n",
      "The first warning was:\n",
      "\u001b[1m\u001b[22m\u001b[36mℹ\u001b[39m In argument: `quantreg_TE = quantreg::rq(`TE%` ~ cyclenum, tau =\n",
      "  0.5)$coef[2]`.\n",
      "\u001b[36mℹ\u001b[39m In group 2: `Patient = \"CHP_332\"`.\n",
      "Caused by warning in `rq.fit.br()`:\n",
      "\u001b[33m!\u001b[39m Solution may be nonunique\n",
      "\u001b[1m\u001b[22m\u001b[36mℹ\u001b[39m Run `dplyr::last_dplyr_warnings()` to see the 5 remaining warnings.”\n"
     ]
    }
   ],
   "source": [
    "flow_df_min2 <- flow_df_min2 %>%\n",
    "group_by(Patient) %>%\n",
    "mutate(quantreg_N = quantreg::rq(`Naïve%` ~ cyclenum, tau = 0.5)$coef[2] ) %>%\n",
    "mutate(quantreg_CM = quantreg::rq(`CM%` ~ cyclenum, tau = 0.5)$coef[2]  ) %>%\n",
    "mutate(quantreg_SCM = quantreg::rq( `SCM%` ~ cyclenum, tau = 0.5)$coef[2]  ) %>%\n",
    "mutate(quantreg_EM = quantreg::rq( `EM%` ~ cyclenum, tau = 0.5)$coef[2] ) %>%\n",
    "mutate(quantreg_TE = quantreg::rq( `TE%` ~ cyclenum, tau = 0.5)$coef[2] ) %>%\n",
    "ungroup()"
   ]
  },
  {
   "cell_type": "code",
   "execution_count": 25,
   "metadata": {
    "vscode": {
     "languageId": "r"
    }
   },
   "outputs": [
    {
     "data": {
      "text/html": [
       "<table class=\"dataframe\">\n",
       "<caption>A tibble: 6 x 129</caption>\n",
       "<thead>\n",
       "\t<tr><th scope=col>sample_id</th><th scope=col>Patient</th><th scope=col>cycle</th><th scope=col>FOLD</th><th scope=col>ATC</th><th scope=col>Age</th><th scope=col>Disease_type</th><th scope=col>TE_fold</th><th scope=col>CD3</th><th scope=col>EM</th><th scope=col>...</th><th scope=col>cfDNA_EBV</th><th scope=col>cfDNA_HCV</th><th scope=col>cfDNA_Flu</th><th scope=col>cfDNA_hs</th><th scope=col>cyclenum</th><th scope=col>quantreg_N</th><th scope=col>quantreg_CM</th><th scope=col>quantreg_SCM</th><th scope=col>quantreg_EM</th><th scope=col>quantreg_TE</th></tr>\n",
       "\t<tr><th scope=col>&lt;chr&gt;</th><th scope=col>&lt;chr&gt;</th><th scope=col>&lt;chr&gt;</th><th scope=col>&lt;dbl&gt;</th><th scope=col>&lt;dbl&gt;</th><th scope=col>&lt;dbl&gt;</th><th scope=col>&lt;chr&gt;</th><th scope=col>&lt;dbl&gt;</th><th scope=col>&lt;int&gt;</th><th scope=col>&lt;int&gt;</th><th scope=col>...</th><th scope=col>&lt;dbl&gt;</th><th scope=col>&lt;dbl&gt;</th><th scope=col>&lt;dbl&gt;</th><th scope=col>&lt;dbl&gt;</th><th scope=col>&lt;dbl&gt;</th><th scope=col>&lt;dbl&gt;</th><th scope=col>&lt;dbl&gt;</th><th scope=col>&lt;dbl&gt;</th><th scope=col>&lt;dbl&gt;</th><th scope=col>&lt;dbl&gt;</th></tr>\n",
       "</thead>\n",
       "<tbody>\n",
       "\t<tr><td>CHP_343_02</td><td>CHP_343</td><td>X02</td><td> 0.3</td><td> 459.04</td><td> 8</td><td>EWS</td><td> 0.3</td><td>1135</td><td> 16</td><td>...</td><td> 0</td><td> 0</td><td> 0</td><td> 0</td><td>2</td><td> 0.410509</td><td>11.559121</td><td>-2.637709</td><td> 1.6100152</td><td>-11.76164</td></tr>\n",
       "\t<tr><td>CHP_343_03</td><td>CHP_343</td><td>X03</td><td> 0.6</td><td> 370.30</td><td> 8</td><td>EWS</td><td> 0.6</td><td>1650</td><td> 16</td><td>...</td><td>NA</td><td>NA</td><td>NA</td><td>NA</td><td>3</td><td> 0.410509</td><td>11.559121</td><td>-2.637709</td><td> 1.6100152</td><td>-11.76164</td></tr>\n",
       "\t<tr><td>CHP_343_04</td><td>CHP_343</td><td>X04</td><td> 1.5</td><td> 536.63</td><td> 8</td><td>EWS</td><td> 1.5</td><td>2612</td><td>146</td><td>...</td><td> 0</td><td> 0</td><td> 0</td><td> 0</td><td>4</td><td> 0.410509</td><td>11.559121</td><td>-2.637709</td><td> 1.6100152</td><td>-11.76164</td></tr>\n",
       "\t<tr><td>CHP_343_05</td><td>CHP_343</td><td>X05</td><td> 2.1</td><td> 371.20</td><td> 8</td><td>EWS</td><td> 2.1</td><td>2436</td><td>152</td><td>...</td><td> 0</td><td> 0</td><td> 0</td><td> 0</td><td>5</td><td> 0.410509</td><td>11.559121</td><td>-2.637709</td><td> 1.6100152</td><td>-11.76164</td></tr>\n",
       "\t<tr><td>CHP_347_02</td><td>CHP_347</td><td>X02</td><td> 6.4</td><td>1038.59</td><td>13</td><td>ALL</td><td> 6.4</td><td> 927</td><td> 15</td><td>...</td><td> 0</td><td> 0</td><td> 0</td><td> 0</td><td>2</td><td>-2.401567</td><td>-2.436335</td><td>-4.376147</td><td>-0.4320946</td><td> 10.60874</td></tr>\n",
       "\t<tr><td>CHP_347_03</td><td>CHP_347</td><td>X03</td><td>37.6</td><td> 768.80</td><td>13</td><td>ALL</td><td>37.6</td><td>2379</td><td> 27</td><td>...</td><td> 0</td><td> 0</td><td> 0</td><td> 0</td><td>3</td><td>-2.401567</td><td>-2.436335</td><td>-4.376147</td><td>-0.4320946</td><td> 10.60874</td></tr>\n",
       "</tbody>\n",
       "</table>\n"
      ],
      "text/latex": [
       "A tibble: 6 x 129\n",
       "\\begin{tabular}{lllllllllllllllllllll}\n",
       " sample\\_id & Patient & cycle & FOLD & ATC & Age & Disease\\_type & TE\\_fold & CD3 & EM & ... & cfDNA\\_EBV & cfDNA\\_HCV & cfDNA\\_Flu & cfDNA\\_hs & cyclenum & quantreg\\_N & quantreg\\_CM & quantreg\\_SCM & quantreg\\_EM & quantreg\\_TE\\\\\n",
       " <chr> & <chr> & <chr> & <dbl> & <dbl> & <dbl> & <chr> & <dbl> & <int> & <int> & ... & <dbl> & <dbl> & <dbl> & <dbl> & <dbl> & <dbl> & <dbl> & <dbl> & <dbl> & <dbl>\\\\\n",
       "\\hline\n",
       "\t CHP\\_343\\_02 & CHP\\_343 & X02 &  0.3 &  459.04 &  8 & EWS &  0.3 & 1135 &  16 & ... &  0 &  0 &  0 &  0 & 2 &  0.410509 & 11.559121 & -2.637709 &  1.6100152 & -11.76164\\\\\n",
       "\t CHP\\_343\\_03 & CHP\\_343 & X03 &  0.6 &  370.30 &  8 & EWS &  0.6 & 1650 &  16 & ... & NA & NA & NA & NA & 3 &  0.410509 & 11.559121 & -2.637709 &  1.6100152 & -11.76164\\\\\n",
       "\t CHP\\_343\\_04 & CHP\\_343 & X04 &  1.5 &  536.63 &  8 & EWS &  1.5 & 2612 & 146 & ... &  0 &  0 &  0 &  0 & 4 &  0.410509 & 11.559121 & -2.637709 &  1.6100152 & -11.76164\\\\\n",
       "\t CHP\\_343\\_05 & CHP\\_343 & X05 &  2.1 &  371.20 &  8 & EWS &  2.1 & 2436 & 152 & ... &  0 &  0 &  0 &  0 & 5 &  0.410509 & 11.559121 & -2.637709 &  1.6100152 & -11.76164\\\\\n",
       "\t CHP\\_347\\_02 & CHP\\_347 & X02 &  6.4 & 1038.59 & 13 & ALL &  6.4 &  927 &  15 & ... &  0 &  0 &  0 &  0 & 2 & -2.401567 & -2.436335 & -4.376147 & -0.4320946 &  10.60874\\\\\n",
       "\t CHP\\_347\\_03 & CHP\\_347 & X03 & 37.6 &  768.80 & 13 & ALL & 37.6 & 2379 &  27 & ... &  0 &  0 &  0 &  0 & 3 & -2.401567 & -2.436335 & -4.376147 & -0.4320946 &  10.60874\\\\\n",
       "\\end{tabular}\n"
      ],
      "text/markdown": [
       "\n",
       "A tibble: 6 x 129\n",
       "\n",
       "| sample_id &lt;chr&gt; | Patient &lt;chr&gt; | cycle &lt;chr&gt; | FOLD &lt;dbl&gt; | ATC &lt;dbl&gt; | Age &lt;dbl&gt; | Disease_type &lt;chr&gt; | TE_fold &lt;dbl&gt; | CD3 &lt;int&gt; | EM &lt;int&gt; | ... ... | cfDNA_EBV &lt;dbl&gt; | cfDNA_HCV &lt;dbl&gt; | cfDNA_Flu &lt;dbl&gt; | cfDNA_hs &lt;dbl&gt; | cyclenum &lt;dbl&gt; | quantreg_N &lt;dbl&gt; | quantreg_CM &lt;dbl&gt; | quantreg_SCM &lt;dbl&gt; | quantreg_EM &lt;dbl&gt; | quantreg_TE &lt;dbl&gt; |\n",
       "|---|---|---|---|---|---|---|---|---|---|---|---|---|---|---|---|---|---|---|---|---|\n",
       "| CHP_343_02 | CHP_343 | X02 |  0.3 |  459.04 |  8 | EWS |  0.3 | 1135 |  16 | ... |  0 |  0 |  0 |  0 | 2 |  0.410509 | 11.559121 | -2.637709 |  1.6100152 | -11.76164 |\n",
       "| CHP_343_03 | CHP_343 | X03 |  0.6 |  370.30 |  8 | EWS |  0.6 | 1650 |  16 | ... | NA | NA | NA | NA | 3 |  0.410509 | 11.559121 | -2.637709 |  1.6100152 | -11.76164 |\n",
       "| CHP_343_04 | CHP_343 | X04 |  1.5 |  536.63 |  8 | EWS |  1.5 | 2612 | 146 | ... |  0 |  0 |  0 |  0 | 4 |  0.410509 | 11.559121 | -2.637709 |  1.6100152 | -11.76164 |\n",
       "| CHP_343_05 | CHP_343 | X05 |  2.1 |  371.20 |  8 | EWS |  2.1 | 2436 | 152 | ... |  0 |  0 |  0 |  0 | 5 |  0.410509 | 11.559121 | -2.637709 |  1.6100152 | -11.76164 |\n",
       "| CHP_347_02 | CHP_347 | X02 |  6.4 | 1038.59 | 13 | ALL |  6.4 |  927 |  15 | ... |  0 |  0 |  0 |  0 | 2 | -2.401567 | -2.436335 | -4.376147 | -0.4320946 |  10.60874 |\n",
       "| CHP_347_03 | CHP_347 | X03 | 37.6 |  768.80 | 13 | ALL | 37.6 | 2379 |  27 | ... |  0 |  0 |  0 |  0 | 3 | -2.401567 | -2.436335 | -4.376147 | -0.4320946 |  10.60874 |\n",
       "\n"
      ],
      "text/plain": [
       "  sample_id  Patient cycle FOLD ATC     Age Disease_type TE_fold CD3  EM  ...\n",
       "1 CHP_343_02 CHP_343 X02    0.3  459.04  8  EWS           0.3    1135  16 ...\n",
       "2 CHP_343_03 CHP_343 X03    0.6  370.30  8  EWS           0.6    1650  16 ...\n",
       "3 CHP_343_04 CHP_343 X04    1.5  536.63  8  EWS           1.5    2612 146 ...\n",
       "4 CHP_343_05 CHP_343 X05    2.1  371.20  8  EWS           2.1    2436 152 ...\n",
       "5 CHP_347_02 CHP_347 X02    6.4 1038.59 13  ALL           6.4     927  15 ...\n",
       "6 CHP_347_03 CHP_347 X03   37.6  768.80 13  ALL          37.6    2379  27 ...\n",
       "  cfDNA_EBV cfDNA_HCV cfDNA_Flu cfDNA_hs cyclenum quantreg_N quantreg_CM\n",
       "1  0         0         0         0       2         0.410509  11.559121  \n",
       "2 NA        NA        NA        NA       3         0.410509  11.559121  \n",
       "3  0         0         0         0       4         0.410509  11.559121  \n",
       "4  0         0         0         0       5         0.410509  11.559121  \n",
       "5  0         0         0         0       2        -2.401567  -2.436335  \n",
       "6  0         0         0         0       3        -2.401567  -2.436335  \n",
       "  quantreg_SCM quantreg_EM quantreg_TE\n",
       "1 -2.637709     1.6100152  -11.76164  \n",
       "2 -2.637709     1.6100152  -11.76164  \n",
       "3 -2.637709     1.6100152  -11.76164  \n",
       "4 -2.637709     1.6100152  -11.76164  \n",
       "5 -4.376147    -0.4320946   10.60874  \n",
       "6 -4.376147    -0.4320946   10.60874  "
      ]
     },
     "metadata": {},
     "output_type": "display_data"
    }
   ],
   "source": [
    "head(flow_df_min2)"
   ]
  },
  {
   "cell_type": "code",
   "execution_count": 26,
   "metadata": {
    "vscode": {
     "languageId": "r"
    }
   },
   "outputs": [],
   "source": [
    "flow_df_min2_pt <- flow_df_min2[ !duplicated(flow_df_min2$Patient), ]\n",
    "ncr_df_min2_pt <- ncr_df_min2[ !duplicated(ncr_df_min2$Patient), ]\n",
    "tcr_df_min2_pt <- tcr_df_min2[ !duplicated(tcr_df_min2$Patient), ]"
   ]
  },
  {
   "cell_type": "code",
   "execution_count": 28,
   "metadata": {
    "vscode": {
     "languageId": "r"
    }
   },
   "outputs": [],
   "source": [
    "# merge all the dataframes, allow NAs to include all data\n",
    "df_min2_pt <- merge(flow_df_min2_pt, ncr_df_min2_pt, by = c(\"Patient\", \"cancergroup\"), all = TRUE)\n",
    "df_min2_pt <- merge(df_min2_pt, tcr_df_min2_pt, by = c(\"Patient\", \"cancergroup\"), all = TRUE)"
   ]
  },
  {
   "cell_type": "code",
   "execution_count": 29,
   "metadata": {
    "vscode": {
     "languageId": "r"
    }
   },
   "outputs": [
    {
     "data": {
      "text/html": [
       "<table class=\"dataframe\">\n",
       "<caption>A data.frame: 6 x 380</caption>\n",
       "<thead>\n",
       "\t<tr><th></th><th scope=col>Patient</th><th scope=col>cancergroup</th><th scope=col>sample_id.x</th><th scope=col>cycle.x</th><th scope=col>FOLD.x</th><th scope=col>ATC.x</th><th scope=col>Age.x</th><th scope=col>Disease_type.x</th><th scope=col>TE_fold.x</th><th scope=col>CD3.x</th><th scope=col>...</th><th scope=col>cfDNA_CMV</th><th scope=col>cfDNA_EBV</th><th scope=col>cfDNA_HCV</th><th scope=col>cfDNA_Flu</th><th scope=col>cfDNA_hs</th><th scope=col>cyclenum</th><th scope=col>quantreg_log10shann</th><th scope=col>quantreg_gliph_n</th><th scope=col>quantreg_V_PC1</th><th scope=col>quantreg_J_PC1</th></tr>\n",
       "\t<tr><th></th><th scope=col>&lt;chr&gt;</th><th scope=col>&lt;chr&gt;</th><th scope=col>&lt;chr&gt;</th><th scope=col>&lt;chr&gt;</th><th scope=col>&lt;dbl&gt;</th><th scope=col>&lt;dbl&gt;</th><th scope=col>&lt;dbl&gt;</th><th scope=col>&lt;chr&gt;</th><th scope=col>&lt;dbl&gt;</th><th scope=col>&lt;int&gt;</th><th scope=col>...</th><th scope=col>&lt;dbl&gt;</th><th scope=col>&lt;dbl&gt;</th><th scope=col>&lt;dbl&gt;</th><th scope=col>&lt;dbl&gt;</th><th scope=col>&lt;dbl&gt;</th><th scope=col>&lt;dbl&gt;</th><th scope=col>&lt;dbl&gt;</th><th scope=col>&lt;dbl&gt;</th><th scope=col>&lt;dbl&gt;</th><th scope=col>&lt;dbl&gt;</th></tr>\n",
       "</thead>\n",
       "<tbody>\n",
       "\t<tr><th scope=row>1</th><td>CHP_323</td><td>Leukemia    </td><td>NA        </td><td>NA </td><td> NA</td><td>NA</td><td>NA</td><td>NA  </td><td> NA</td><td>  NA</td><td>...</td><td> 8</td><td> 2</td><td> 0</td><td> 5</td><td> 1</td><td> 3</td><td> 0.16795449</td><td>  38.0</td><td>-1.0999588</td><td>-0.6480772</td></tr>\n",
       "\t<tr><th scope=row>2</th><td>CHP_328</td><td>Leukemia    </td><td>NA        </td><td>NA </td><td> NA</td><td>NA</td><td>NA</td><td>NA  </td><td> NA</td><td>  NA</td><td>...</td><td>NA</td><td>NA</td><td>NA</td><td>NA</td><td>NA</td><td> 4</td><td>-0.40863852</td><td>-202.0</td><td> 6.1350461</td><td> 3.3680829</td></tr>\n",
       "\t<tr><th scope=row>3</th><td>CHP_330</td><td>Solid tumors</td><td>CHP_330_02</td><td>X02</td><td>1.9</td><td> 0</td><td> 5</td><td>OS  </td><td>1.9</td><td>2425</td><td>...</td><td>NA</td><td>NA</td><td>NA</td><td>NA</td><td>NA</td><td>NA</td><td>         NA</td><td>    NA</td><td>        NA</td><td>        NA</td></tr>\n",
       "\t<tr><th scope=row>4</th><td>CHP_331</td><td>Leukemia    </td><td>NA        </td><td>NA </td><td> NA</td><td>NA</td><td>NA</td><td>NA  </td><td> NA</td><td>  NA</td><td>...</td><td>NA</td><td>NA</td><td>NA</td><td>NA</td><td>NA</td><td> 4</td><td> 0.58641184</td><td>  65.0</td><td>-2.5296036</td><td>-1.1611760</td></tr>\n",
       "\t<tr><th scope=row>5</th><td>CHP_332</td><td>Solid tumors</td><td>CHP_332_02</td><td>X02</td><td> NA</td><td> 0</td><td>10</td><td>ERMS</td><td> NA</td><td>2403</td><td>...</td><td>NA</td><td>NA</td><td>NA</td><td>NA</td><td>NA</td><td>NA</td><td>         NA</td><td>    NA</td><td>        NA</td><td>        NA</td></tr>\n",
       "\t<tr><th scope=row>6</th><td>CHP_338</td><td>Leukemia    </td><td>NA        </td><td>NA </td><td> NA</td><td>NA</td><td>NA</td><td>NA  </td><td> NA</td><td>  NA</td><td>...</td><td> 0</td><td> 0</td><td> 0</td><td> 0</td><td> 0</td><td> 3</td><td>-0.08296783</td><td> -55.5</td><td> 0.9630268</td><td> 0.2691643</td></tr>\n",
       "</tbody>\n",
       "</table>\n"
      ],
      "text/latex": [
       "A data.frame: 6 x 380\n",
       "\\begin{tabular}{r|lllllllllllllllllllll}\n",
       "  & Patient & cancergroup & sample\\_id.x & cycle.x & FOLD.x & ATC.x & Age.x & Disease\\_type.x & TE\\_fold.x & CD3.x & ... & cfDNA\\_CMV & cfDNA\\_EBV & cfDNA\\_HCV & cfDNA\\_Flu & cfDNA\\_hs & cyclenum & quantreg\\_log10shann & quantreg\\_gliph\\_n & quantreg\\_V\\_PC1 & quantreg\\_J\\_PC1\\\\\n",
       "  & <chr> & <chr> & <chr> & <chr> & <dbl> & <dbl> & <dbl> & <chr> & <dbl> & <int> & ... & <dbl> & <dbl> & <dbl> & <dbl> & <dbl> & <dbl> & <dbl> & <dbl> & <dbl> & <dbl>\\\\\n",
       "\\hline\n",
       "\t1 & CHP\\_323 & Leukemia     & NA         & NA  &  NA & NA & NA & NA   &  NA &   NA & ... &  8 &  2 &  0 &  5 &  1 &  3 &  0.16795449 &   38.0 & -1.0999588 & -0.6480772\\\\\n",
       "\t2 & CHP\\_328 & Leukemia     & NA         & NA  &  NA & NA & NA & NA   &  NA &   NA & ... & NA & NA & NA & NA & NA &  4 & -0.40863852 & -202.0 &  6.1350461 &  3.3680829\\\\\n",
       "\t3 & CHP\\_330 & Solid tumors & CHP\\_330\\_02 & X02 & 1.9 &  0 &  5 & OS   & 1.9 & 2425 & ... & NA & NA & NA & NA & NA & NA &          NA &     NA &         NA &         NA\\\\\n",
       "\t4 & CHP\\_331 & Leukemia     & NA         & NA  &  NA & NA & NA & NA   &  NA &   NA & ... & NA & NA & NA & NA & NA &  4 &  0.58641184 &   65.0 & -2.5296036 & -1.1611760\\\\\n",
       "\t5 & CHP\\_332 & Solid tumors & CHP\\_332\\_02 & X02 &  NA &  0 & 10 & ERMS &  NA & 2403 & ... & NA & NA & NA & NA & NA & NA &          NA &     NA &         NA &         NA\\\\\n",
       "\t6 & CHP\\_338 & Leukemia     & NA         & NA  &  NA & NA & NA & NA   &  NA &   NA & ... &  0 &  0 &  0 &  0 &  0 &  3 & -0.08296783 &  -55.5 &  0.9630268 &  0.2691643\\\\\n",
       "\\end{tabular}\n"
      ],
      "text/markdown": [
       "\n",
       "A data.frame: 6 x 380\n",
       "\n",
       "| <!--/--> | Patient &lt;chr&gt; | cancergroup &lt;chr&gt; | sample_id.x &lt;chr&gt; | cycle.x &lt;chr&gt; | FOLD.x &lt;dbl&gt; | ATC.x &lt;dbl&gt; | Age.x &lt;dbl&gt; | Disease_type.x &lt;chr&gt; | TE_fold.x &lt;dbl&gt; | CD3.x &lt;int&gt; | ... ... | cfDNA_CMV &lt;dbl&gt; | cfDNA_EBV &lt;dbl&gt; | cfDNA_HCV &lt;dbl&gt; | cfDNA_Flu &lt;dbl&gt; | cfDNA_hs &lt;dbl&gt; | cyclenum &lt;dbl&gt; | quantreg_log10shann &lt;dbl&gt; | quantreg_gliph_n &lt;dbl&gt; | quantreg_V_PC1 &lt;dbl&gt; | quantreg_J_PC1 &lt;dbl&gt; |\n",
       "|---|---|---|---|---|---|---|---|---|---|---|---|---|---|---|---|---|---|---|---|---|---|\n",
       "| 1 | CHP_323 | Leukemia     | NA         | NA  |  NA | NA | NA | NA   |  NA |   NA | ... |  8 |  2 |  0 |  5 |  1 |  3 |  0.16795449 |   38.0 | -1.0999588 | -0.6480772 |\n",
       "| 2 | CHP_328 | Leukemia     | NA         | NA  |  NA | NA | NA | NA   |  NA |   NA | ... | NA | NA | NA | NA | NA |  4 | -0.40863852 | -202.0 |  6.1350461 |  3.3680829 |\n",
       "| 3 | CHP_330 | Solid tumors | CHP_330_02 | X02 | 1.9 |  0 |  5 | OS   | 1.9 | 2425 | ... | NA | NA | NA | NA | NA | NA |          NA |     NA |         NA |         NA |\n",
       "| 4 | CHP_331 | Leukemia     | NA         | NA  |  NA | NA | NA | NA   |  NA |   NA | ... | NA | NA | NA | NA | NA |  4 |  0.58641184 |   65.0 | -2.5296036 | -1.1611760 |\n",
       "| 5 | CHP_332 | Solid tumors | CHP_332_02 | X02 |  NA |  0 | 10 | ERMS |  NA | 2403 | ... | NA | NA | NA | NA | NA | NA |          NA |     NA |         NA |         NA |\n",
       "| 6 | CHP_338 | Leukemia     | NA         | NA  |  NA | NA | NA | NA   |  NA |   NA | ... |  0 |  0 |  0 |  0 |  0 |  3 | -0.08296783 |  -55.5 |  0.9630268 |  0.2691643 |\n",
       "\n"
      ],
      "text/plain": [
       "  Patient cancergroup  sample_id.x cycle.x FOLD.x ATC.x Age.x Disease_type.x\n",
       "1 CHP_323 Leukemia     NA          NA       NA    NA    NA    NA            \n",
       "2 CHP_328 Leukemia     NA          NA       NA    NA    NA    NA            \n",
       "3 CHP_330 Solid tumors CHP_330_02  X02     1.9     0     5    OS            \n",
       "4 CHP_331 Leukemia     NA          NA       NA    NA    NA    NA            \n",
       "5 CHP_332 Solid tumors CHP_332_02  X02      NA     0    10    ERMS          \n",
       "6 CHP_338 Leukemia     NA          NA       NA    NA    NA    NA            \n",
       "  TE_fold.x CD3.x ... cfDNA_CMV cfDNA_EBV cfDNA_HCV cfDNA_Flu cfDNA_hs cyclenum\n",
       "1  NA         NA  ...  8         2         0         5         1        3      \n",
       "2  NA         NA  ... NA        NA        NA        NA        NA        4      \n",
       "3 1.9       2425  ... NA        NA        NA        NA        NA       NA      \n",
       "4  NA         NA  ... NA        NA        NA        NA        NA        4      \n",
       "5  NA       2403  ... NA        NA        NA        NA        NA       NA      \n",
       "6  NA         NA  ...  0         0         0         0         0        3      \n",
       "  quantreg_log10shann quantreg_gliph_n quantreg_V_PC1 quantreg_J_PC1\n",
       "1  0.16795449           38.0           -1.0999588     -0.6480772    \n",
       "2 -0.40863852         -202.0            6.1350461      3.3680829    \n",
       "3          NA             NA                   NA             NA    \n",
       "4  0.58641184           65.0           -2.5296036     -1.1611760    \n",
       "5          NA             NA                   NA             NA    \n",
       "6 -0.08296783          -55.5            0.9630268      0.2691643    "
      ]
     },
     "metadata": {},
     "output_type": "display_data"
    }
   ],
   "source": [
    "head(df_min2_pt)"
   ]
  },
  {
   "cell_type": "code",
   "execution_count": null,
   "metadata": {
    "vscode": {
     "languageId": "r"
    }
   },
   "outputs": [],
   "source": [
    "# df_min2_pt$quantreg_gliph_n <- NULL"
   ]
  },
  {
   "cell_type": "code",
   "execution_count": 30,
   "metadata": {
    "vscode": {
     "languageId": "r"
    }
   },
   "outputs": [],
   "source": [
    "mycol <- colnames(df_min2_pt)[grepl(\"quantreg\", colnames(df_min2_pt))]"
   ]
  },
  {
   "cell_type": "code",
   "execution_count": 31,
   "metadata": {
    "vscode": {
     "languageId": "r"
    }
   },
   "outputs": [
    {
     "data": {
      "text/html": [
       "<style>\n",
       ".list-inline {list-style: none; margin:0; padding: 0}\n",
       ".list-inline>li {display: inline-block}\n",
       ".list-inline>li:not(:last-child)::after {content: \"\\00b7\"; padding: 0 .5ex}\n",
       "</style>\n",
       "<ol class=list-inline><li>'quantreg_N'</li><li>'quantreg_CM'</li><li>'quantreg_SCM'</li><li>'quantreg_EM'</li><li>'quantreg_TE'</li><li>'quantreg_TIM'</li><li>'quantreg_LAG'</li><li>'quantreg_PD1'</li><li>'quantreg_log10shann'</li><li>'quantreg_gliph_n'</li><li>'quantreg_V_PC1'</li><li>'quantreg_J_PC1'</li></ol>\n"
      ],
      "text/latex": [
       "\\begin{enumerate*}\n",
       "\\item 'quantreg\\_N'\n",
       "\\item 'quantreg\\_CM'\n",
       "\\item 'quantreg\\_SCM'\n",
       "\\item 'quantreg\\_EM'\n",
       "\\item 'quantreg\\_TE'\n",
       "\\item 'quantreg\\_TIM'\n",
       "\\item 'quantreg\\_LAG'\n",
       "\\item 'quantreg\\_PD1'\n",
       "\\item 'quantreg\\_log10shann'\n",
       "\\item 'quantreg\\_gliph\\_n'\n",
       "\\item 'quantreg\\_V\\_PC1'\n",
       "\\item 'quantreg\\_J\\_PC1'\n",
       "\\end{enumerate*}\n"
      ],
      "text/markdown": [
       "1. 'quantreg_N'\n",
       "2. 'quantreg_CM'\n",
       "3. 'quantreg_SCM'\n",
       "4. 'quantreg_EM'\n",
       "5. 'quantreg_TE'\n",
       "6. 'quantreg_TIM'\n",
       "7. 'quantreg_LAG'\n",
       "8. 'quantreg_PD1'\n",
       "9. 'quantreg_log10shann'\n",
       "10. 'quantreg_gliph_n'\n",
       "11. 'quantreg_V_PC1'\n",
       "12. 'quantreg_J_PC1'\n",
       "\n",
       "\n"
      ],
      "text/plain": [
       " [1] \"quantreg_N\"          \"quantreg_CM\"         \"quantreg_SCM\"       \n",
       " [4] \"quantreg_EM\"         \"quantreg_TE\"         \"quantreg_TIM\"       \n",
       " [7] \"quantreg_LAG\"        \"quantreg_PD1\"        \"quantreg_log10shann\"\n",
       "[10] \"quantreg_gliph_n\"    \"quantreg_V_PC1\"      \"quantreg_J_PC1\"     "
      ]
     },
     "metadata": {},
     "output_type": "display_data"
    }
   ],
   "source": [
    "mycol"
   ]
  },
  {
   "cell_type": "code",
   "execution_count": 32,
   "metadata": {
    "vscode": {
     "languageId": "r"
    }
   },
   "outputs": [],
   "source": [
    "# scale\n",
    "for(i in mycol){\n",
    "    newvar <- paste0(i, \"_scaled\")\n",
    "df_min2_pt[[newvar]] <- as.vector(scale(df_min2_pt[[i]]))\n",
    "}"
   ]
  },
  {
   "cell_type": "code",
   "execution_count": 33,
   "metadata": {
    "vscode": {
     "languageId": "r"
    }
   },
   "outputs": [
    {
     "data": {
      "text/html": [
       "<table class=\"dataframe\">\n",
       "<caption>A data.frame: 6 x 392</caption>\n",
       "<thead>\n",
       "\t<tr><th></th><th scope=col>Patient</th><th scope=col>cancergroup</th><th scope=col>sample_id.x</th><th scope=col>cycle.x</th><th scope=col>FOLD.x</th><th scope=col>ATC.x</th><th scope=col>Age.x</th><th scope=col>Disease_type.x</th><th scope=col>TE_fold.x</th><th scope=col>CD3.x</th><th scope=col>...</th><th scope=col>quantreg_SCM_scaled</th><th scope=col>quantreg_EM_scaled</th><th scope=col>quantreg_TE_scaled</th><th scope=col>quantreg_TIM_scaled</th><th scope=col>quantreg_LAG_scaled</th><th scope=col>quantreg_PD1_scaled</th><th scope=col>quantreg_log10shann_scaled</th><th scope=col>quantreg_gliph_n_scaled</th><th scope=col>quantreg_V_PC1_scaled</th><th scope=col>quantreg_J_PC1_scaled</th></tr>\n",
       "\t<tr><th></th><th scope=col>&lt;chr&gt;</th><th scope=col>&lt;chr&gt;</th><th scope=col>&lt;chr&gt;</th><th scope=col>&lt;chr&gt;</th><th scope=col>&lt;dbl&gt;</th><th scope=col>&lt;dbl&gt;</th><th scope=col>&lt;dbl&gt;</th><th scope=col>&lt;chr&gt;</th><th scope=col>&lt;dbl&gt;</th><th scope=col>&lt;int&gt;</th><th scope=col>...</th><th scope=col>&lt;dbl&gt;</th><th scope=col>&lt;dbl&gt;</th><th scope=col>&lt;dbl&gt;</th><th scope=col>&lt;dbl&gt;</th><th scope=col>&lt;dbl&gt;</th><th scope=col>&lt;dbl&gt;</th><th scope=col>&lt;dbl&gt;</th><th scope=col>&lt;dbl&gt;</th><th scope=col>&lt;dbl&gt;</th><th scope=col>&lt;dbl&gt;</th></tr>\n",
       "</thead>\n",
       "<tbody>\n",
       "\t<tr><th scope=row>1</th><td>CHP_323</td><td>Leukemia    </td><td>NA        </td><td>NA </td><td> NA</td><td>NA</td><td>NA</td><td>NA  </td><td> NA</td><td>  NA</td><td>...</td><td>        NA</td><td>       NA</td><td>        NA</td><td>        NA</td><td>        NA</td><td>        NA</td><td> 0.3130091</td><td> 0.2154110</td><td>-0.1989787</td><td>-0.20613074</td></tr>\n",
       "\t<tr><th scope=row>2</th><td>CHP_328</td><td>Leukemia    </td><td>NA        </td><td>NA </td><td> NA</td><td>NA</td><td>NA</td><td>NA  </td><td> NA</td><td>  NA</td><td>...</td><td>        NA</td><td>       NA</td><td>        NA</td><td>        NA</td><td>        NA</td><td>        NA</td><td>-0.7304174</td><td>-1.1991813</td><td> 1.1426368</td><td> 1.13146015</td></tr>\n",
       "\t<tr><th scope=row>3</th><td>CHP_330</td><td>Solid tumors</td><td>CHP_330_02</td><td>X02</td><td>1.9</td><td> 0</td><td> 5</td><td>OS  </td><td>1.9</td><td>2425</td><td>...</td><td>-0.5188160</td><td>0.5144267</td><td>-0.1805472</td><td>-0.8705364</td><td>-0.8010621</td><td>-0.8466554</td><td>        NA</td><td>        NA</td><td>        NA</td><td>         NA</td></tr>\n",
       "\t<tr><th scope=row>4</th><td>CHP_331</td><td>Leukemia    </td><td>NA        </td><td>NA </td><td> NA</td><td>NA</td><td>NA</td><td>NA  </td><td> NA</td><td>  NA</td><td>...</td><td>        NA</td><td>       NA</td><td>        NA</td><td>        NA</td><td>        NA</td><td>        NA</td><td> 1.0702668</td><td> 0.3745526</td><td>-0.4640834</td><td>-0.37701941</td></tr>\n",
       "\t<tr><th scope=row>5</th><td>CHP_332</td><td>Solid tumors</td><td>CHP_332_02</td><td>X02</td><td> NA</td><td> 0</td><td>10</td><td>ERMS</td><td> NA</td><td>2403</td><td>...</td><td>-0.6725684</td><td>0.2626084</td><td> 0.2305255</td><td>-0.8720151</td><td> 0.4658794</td><td>-0.8481162</td><td>        NA</td><td>        NA</td><td>        NA</td><td>         NA</td></tr>\n",
       "\t<tr><th scope=row>6</th><td>CHP_338</td><td>Leukemia    </td><td>NA        </td><td>NA </td><td> NA</td><td>NA</td><td>NA</td><td>NA  </td><td> NA</td><td>  NA</td><td>...</td><td>        NA</td><td>       NA</td><td>        NA</td><td>        NA</td><td>        NA</td><td>        NA</td><td>-0.1410702</td><td>-0.3356906</td><td> 0.1835688</td><td> 0.09935853</td></tr>\n",
       "</tbody>\n",
       "</table>\n"
      ],
      "text/latex": [
       "A data.frame: 6 x 392\n",
       "\\begin{tabular}{r|lllllllllllllllllllll}\n",
       "  & Patient & cancergroup & sample\\_id.x & cycle.x & FOLD.x & ATC.x & Age.x & Disease\\_type.x & TE\\_fold.x & CD3.x & ... & quantreg\\_SCM\\_scaled & quantreg\\_EM\\_scaled & quantreg\\_TE\\_scaled & quantreg\\_TIM\\_scaled & quantreg\\_LAG\\_scaled & quantreg\\_PD1\\_scaled & quantreg\\_log10shann\\_scaled & quantreg\\_gliph\\_n\\_scaled & quantreg\\_V\\_PC1\\_scaled & quantreg\\_J\\_PC1\\_scaled\\\\\n",
       "  & <chr> & <chr> & <chr> & <chr> & <dbl> & <dbl> & <dbl> & <chr> & <dbl> & <int> & ... & <dbl> & <dbl> & <dbl> & <dbl> & <dbl> & <dbl> & <dbl> & <dbl> & <dbl> & <dbl>\\\\\n",
       "\\hline\n",
       "\t1 & CHP\\_323 & Leukemia     & NA         & NA  &  NA & NA & NA & NA   &  NA &   NA & ... &         NA &        NA &         NA &         NA &         NA &         NA &  0.3130091 &  0.2154110 & -0.1989787 & -0.20613074\\\\\n",
       "\t2 & CHP\\_328 & Leukemia     & NA         & NA  &  NA & NA & NA & NA   &  NA &   NA & ... &         NA &        NA &         NA &         NA &         NA &         NA & -0.7304174 & -1.1991813 &  1.1426368 &  1.13146015\\\\\n",
       "\t3 & CHP\\_330 & Solid tumors & CHP\\_330\\_02 & X02 & 1.9 &  0 &  5 & OS   & 1.9 & 2425 & ... & -0.5188160 & 0.5144267 & -0.1805472 & -0.8705364 & -0.8010621 & -0.8466554 &         NA &         NA &         NA &          NA\\\\\n",
       "\t4 & CHP\\_331 & Leukemia     & NA         & NA  &  NA & NA & NA & NA   &  NA &   NA & ... &         NA &        NA &         NA &         NA &         NA &         NA &  1.0702668 &  0.3745526 & -0.4640834 & -0.37701941\\\\\n",
       "\t5 & CHP\\_332 & Solid tumors & CHP\\_332\\_02 & X02 &  NA &  0 & 10 & ERMS &  NA & 2403 & ... & -0.6725684 & 0.2626084 &  0.2305255 & -0.8720151 &  0.4658794 & -0.8481162 &         NA &         NA &         NA &          NA\\\\\n",
       "\t6 & CHP\\_338 & Leukemia     & NA         & NA  &  NA & NA & NA & NA   &  NA &   NA & ... &         NA &        NA &         NA &         NA &         NA &         NA & -0.1410702 & -0.3356906 &  0.1835688 &  0.09935853\\\\\n",
       "\\end{tabular}\n"
      ],
      "text/markdown": [
       "\n",
       "A data.frame: 6 x 392\n",
       "\n",
       "| <!--/--> | Patient &lt;chr&gt; | cancergroup &lt;chr&gt; | sample_id.x &lt;chr&gt; | cycle.x &lt;chr&gt; | FOLD.x &lt;dbl&gt; | ATC.x &lt;dbl&gt; | Age.x &lt;dbl&gt; | Disease_type.x &lt;chr&gt; | TE_fold.x &lt;dbl&gt; | CD3.x &lt;int&gt; | ... ... | quantreg_SCM_scaled &lt;dbl&gt; | quantreg_EM_scaled &lt;dbl&gt; | quantreg_TE_scaled &lt;dbl&gt; | quantreg_TIM_scaled &lt;dbl&gt; | quantreg_LAG_scaled &lt;dbl&gt; | quantreg_PD1_scaled &lt;dbl&gt; | quantreg_log10shann_scaled &lt;dbl&gt; | quantreg_gliph_n_scaled &lt;dbl&gt; | quantreg_V_PC1_scaled &lt;dbl&gt; | quantreg_J_PC1_scaled &lt;dbl&gt; |\n",
       "|---|---|---|---|---|---|---|---|---|---|---|---|---|---|---|---|---|---|---|---|---|---|\n",
       "| 1 | CHP_323 | Leukemia     | NA         | NA  |  NA | NA | NA | NA   |  NA |   NA | ... |         NA |        NA |         NA |         NA |         NA |         NA |  0.3130091 |  0.2154110 | -0.1989787 | -0.20613074 |\n",
       "| 2 | CHP_328 | Leukemia     | NA         | NA  |  NA | NA | NA | NA   |  NA |   NA | ... |         NA |        NA |         NA |         NA |         NA |         NA | -0.7304174 | -1.1991813 |  1.1426368 |  1.13146015 |\n",
       "| 3 | CHP_330 | Solid tumors | CHP_330_02 | X02 | 1.9 |  0 |  5 | OS   | 1.9 | 2425 | ... | -0.5188160 | 0.5144267 | -0.1805472 | -0.8705364 | -0.8010621 | -0.8466554 |         NA |         NA |         NA |          NA |\n",
       "| 4 | CHP_331 | Leukemia     | NA         | NA  |  NA | NA | NA | NA   |  NA |   NA | ... |         NA |        NA |         NA |         NA |         NA |         NA |  1.0702668 |  0.3745526 | -0.4640834 | -0.37701941 |\n",
       "| 5 | CHP_332 | Solid tumors | CHP_332_02 | X02 |  NA |  0 | 10 | ERMS |  NA | 2403 | ... | -0.6725684 | 0.2626084 |  0.2305255 | -0.8720151 |  0.4658794 | -0.8481162 |         NA |         NA |         NA |          NA |\n",
       "| 6 | CHP_338 | Leukemia     | NA         | NA  |  NA | NA | NA | NA   |  NA |   NA | ... |         NA |        NA |         NA |         NA |         NA |         NA | -0.1410702 | -0.3356906 |  0.1835688 |  0.09935853 |\n",
       "\n"
      ],
      "text/plain": [
       "  Patient cancergroup  sample_id.x cycle.x FOLD.x ATC.x Age.x Disease_type.x\n",
       "1 CHP_323 Leukemia     NA          NA       NA    NA    NA    NA            \n",
       "2 CHP_328 Leukemia     NA          NA       NA    NA    NA    NA            \n",
       "3 CHP_330 Solid tumors CHP_330_02  X02     1.9     0     5    OS            \n",
       "4 CHP_331 Leukemia     NA          NA       NA    NA    NA    NA            \n",
       "5 CHP_332 Solid tumors CHP_332_02  X02      NA     0    10    ERMS          \n",
       "6 CHP_338 Leukemia     NA          NA       NA    NA    NA    NA            \n",
       "  TE_fold.x CD3.x ... quantreg_SCM_scaled quantreg_EM_scaled quantreg_TE_scaled\n",
       "1  NA         NA  ...         NA                 NA                  NA        \n",
       "2  NA         NA  ...         NA                 NA                  NA        \n",
       "3 1.9       2425  ... -0.5188160          0.5144267          -0.1805472        \n",
       "4  NA         NA  ...         NA                 NA                  NA        \n",
       "5  NA       2403  ... -0.6725684          0.2626084           0.2305255        \n",
       "6  NA         NA  ...         NA                 NA                  NA        \n",
       "  quantreg_TIM_scaled quantreg_LAG_scaled quantreg_PD1_scaled\n",
       "1         NA                  NA                  NA         \n",
       "2         NA                  NA                  NA         \n",
       "3 -0.8705364          -0.8010621          -0.8466554         \n",
       "4         NA                  NA                  NA         \n",
       "5 -0.8720151           0.4658794          -0.8481162         \n",
       "6         NA                  NA                  NA         \n",
       "  quantreg_log10shann_scaled quantreg_gliph_n_scaled quantreg_V_PC1_scaled\n",
       "1  0.3130091                  0.2154110              -0.1989787           \n",
       "2 -0.7304174                 -1.1991813               1.1426368           \n",
       "3         NA                         NA                      NA           \n",
       "4  1.0702668                  0.3745526              -0.4640834           \n",
       "5         NA                         NA                      NA           \n",
       "6 -0.1410702                 -0.3356906               0.1835688           \n",
       "  quantreg_J_PC1_scaled\n",
       "1 -0.20613074          \n",
       "2  1.13146015          \n",
       "3          NA          \n",
       "4 -0.37701941          \n",
       "5          NA          \n",
       "6  0.09935853          "
      ]
     },
     "metadata": {},
     "output_type": "display_data"
    }
   ],
   "source": [
    "head(df_min2_pt)"
   ]
  },
  {
   "cell_type": "code",
   "execution_count": 34,
   "metadata": {
    "vscode": {
     "languageId": "r"
    }
   },
   "outputs": [],
   "source": [
    "mycol <- colnames(df_min2_pt)[grepl(\"scaled\", colnames(df_min2_pt))]"
   ]
  },
  {
   "cell_type": "code",
   "execution_count": 35,
   "metadata": {
    "vscode": {
     "languageId": "r"
    }
   },
   "outputs": [
    {
     "data": {
      "text/html": [
       "<style>\n",
       ".list-inline {list-style: none; margin:0; padding: 0}\n",
       ".list-inline>li {display: inline-block}\n",
       ".list-inline>li:not(:last-child)::after {content: \"\\00b7\"; padding: 0 .5ex}\n",
       "</style>\n",
       "<ol class=list-inline><li>'quantreg_N_scaled'</li><li>'quantreg_CM_scaled'</li><li>'quantreg_SCM_scaled'</li><li>'quantreg_EM_scaled'</li><li>'quantreg_TE_scaled'</li><li>'quantreg_TIM_scaled'</li><li>'quantreg_LAG_scaled'</li><li>'quantreg_PD1_scaled'</li><li>'quantreg_log10shann_scaled'</li><li>'quantreg_gliph_n_scaled'</li><li>'quantreg_V_PC1_scaled'</li><li>'quantreg_J_PC1_scaled'</li></ol>\n"
      ],
      "text/latex": [
       "\\begin{enumerate*}\n",
       "\\item 'quantreg\\_N\\_scaled'\n",
       "\\item 'quantreg\\_CM\\_scaled'\n",
       "\\item 'quantreg\\_SCM\\_scaled'\n",
       "\\item 'quantreg\\_EM\\_scaled'\n",
       "\\item 'quantreg\\_TE\\_scaled'\n",
       "\\item 'quantreg\\_TIM\\_scaled'\n",
       "\\item 'quantreg\\_LAG\\_scaled'\n",
       "\\item 'quantreg\\_PD1\\_scaled'\n",
       "\\item 'quantreg\\_log10shann\\_scaled'\n",
       "\\item 'quantreg\\_gliph\\_n\\_scaled'\n",
       "\\item 'quantreg\\_V\\_PC1\\_scaled'\n",
       "\\item 'quantreg\\_J\\_PC1\\_scaled'\n",
       "\\end{enumerate*}\n"
      ],
      "text/markdown": [
       "1. 'quantreg_N_scaled'\n",
       "2. 'quantreg_CM_scaled'\n",
       "3. 'quantreg_SCM_scaled'\n",
       "4. 'quantreg_EM_scaled'\n",
       "5. 'quantreg_TE_scaled'\n",
       "6. 'quantreg_TIM_scaled'\n",
       "7. 'quantreg_LAG_scaled'\n",
       "8. 'quantreg_PD1_scaled'\n",
       "9. 'quantreg_log10shann_scaled'\n",
       "10. 'quantreg_gliph_n_scaled'\n",
       "11. 'quantreg_V_PC1_scaled'\n",
       "12. 'quantreg_J_PC1_scaled'\n",
       "\n",
       "\n"
      ],
      "text/plain": [
       " [1] \"quantreg_N_scaled\"          \"quantreg_CM_scaled\"        \n",
       " [3] \"quantreg_SCM_scaled\"        \"quantreg_EM_scaled\"        \n",
       " [5] \"quantreg_TE_scaled\"         \"quantreg_TIM_scaled\"       \n",
       " [7] \"quantreg_LAG_scaled\"        \"quantreg_PD1_scaled\"       \n",
       " [9] \"quantreg_log10shann_scaled\" \"quantreg_gliph_n_scaled\"   \n",
       "[11] \"quantreg_V_PC1_scaled\"      \"quantreg_J_PC1_scaled\"     "
      ]
     },
     "metadata": {},
     "output_type": "display_data"
    }
   ],
   "source": [
    "mycol"
   ]
  },
  {
   "cell_type": "code",
   "execution_count": 37,
   "metadata": {
    "vscode": {
     "languageId": "r"
    }
   },
   "outputs": [
    {
     "name": "stderr",
     "output_type": "stream",
     "text": [
      "quantreg_N_scaled\n",
      "\n"
     ]
    },
    {
     "name": "stdout",
     "output_type": "stream",
     "text": [
      "\n",
      "\tPairwise comparisons using Wilcoxon rank sum exact test \n",
      "\n",
      "data:  df_min2_pt[[i]] and df_min2_pt$cancergroup \n",
      "\n",
      "                    Leukemia Lymphoma Solid tumors\n",
      "Lymphoma            1.00     -        -           \n",
      "Solid tumors        0.04     0.24     -           \n",
      "T-cell malignancies 1.00     1.00     1.00        \n",
      "\n",
      "P value adjustment method: bonferroni \n"
     ]
    },
    {
     "name": "stderr",
     "output_type": "stream",
     "text": [
      "quantreg_CM_scaled\n",
      "\n"
     ]
    },
    {
     "name": "stdout",
     "output_type": "stream",
     "text": [
      "\n",
      "\tPairwise comparisons using Wilcoxon rank sum exact test \n",
      "\n",
      "data:  df_min2_pt[[i]] and df_min2_pt$cancergroup \n",
      "\n",
      "                    Leukemia Lymphoma Solid tumors\n",
      "Lymphoma            0.60     -        -           \n",
      "Solid tumors        1.00     0.15     -           \n",
      "T-cell malignancies 0.67     1.00     0.63        \n",
      "\n",
      "P value adjustment method: bonferroni \n"
     ]
    },
    {
     "name": "stderr",
     "output_type": "stream",
     "text": [
      "quantreg_SCM_scaled\n",
      "\n"
     ]
    },
    {
     "name": "stdout",
     "output_type": "stream",
     "text": [
      "\n",
      "\tPairwise comparisons using Wilcoxon rank sum exact test \n",
      "\n",
      "data:  df_min2_pt[[i]] and df_min2_pt$cancergroup \n",
      "\n",
      "                    Leukemia Lymphoma Solid tumors\n",
      "Lymphoma            1        -        -           \n",
      "Solid tumors        1        1        -           \n",
      "T-cell malignancies 1        1        1           \n",
      "\n",
      "P value adjustment method: bonferroni \n"
     ]
    },
    {
     "name": "stderr",
     "output_type": "stream",
     "text": [
      "quantreg_EM_scaled\n",
      "\n"
     ]
    },
    {
     "name": "stdout",
     "output_type": "stream",
     "text": [
      "\n",
      "\tPairwise comparisons using Wilcoxon rank sum exact test \n",
      "\n",
      "data:  df_min2_pt[[i]] and df_min2_pt$cancergroup \n",
      "\n",
      "                    Leukemia Lymphoma Solid tumors\n",
      "Lymphoma            1        -        -           \n",
      "Solid tumors        1        1        -           \n",
      "T-cell malignancies 1        1        1           \n",
      "\n",
      "P value adjustment method: bonferroni \n"
     ]
    },
    {
     "name": "stderr",
     "output_type": "stream",
     "text": [
      "quantreg_TE_scaled\n",
      "\n"
     ]
    },
    {
     "name": "stdout",
     "output_type": "stream",
     "text": [
      "\n",
      "\tPairwise comparisons using Wilcoxon rank sum exact test \n",
      "\n",
      "data:  df_min2_pt[[i]] and df_min2_pt$cancergroup \n",
      "\n",
      "                    Leukemia Lymphoma Solid tumors\n",
      "Lymphoma            0.78     -        -           \n",
      "Solid tumors        1.00     0.75     -           \n",
      "T-cell malignancies 1.00     1.00     0.63        \n",
      "\n",
      "P value adjustment method: bonferroni \n"
     ]
    },
    {
     "name": "stderr",
     "output_type": "stream",
     "text": [
      "quantreg_TIM_scaled\n",
      "\n"
     ]
    },
    {
     "name": "stdout",
     "output_type": "stream",
     "text": [
      "\n",
      "\tPairwise comparisons using Wilcoxon rank sum exact test \n",
      "\n",
      "data:  df_min2_pt[[i]] and df_min2_pt$cancergroup \n",
      "\n",
      "                    Leukemia Lymphoma Solid tumors\n",
      "Lymphoma            0.48     -        -           \n",
      "Solid tumors        1.00     0.81     -           \n",
      "T-cell malignancies 0.75     1.00     1.00        \n",
      "\n",
      "P value adjustment method: bonferroni \n"
     ]
    },
    {
     "name": "stderr",
     "output_type": "stream",
     "text": [
      "quantreg_LAG_scaled\n",
      "\n"
     ]
    },
    {
     "name": "stdout",
     "output_type": "stream",
     "text": [
      "\n",
      "\tPairwise comparisons using Wilcoxon rank sum exact test \n",
      "\n",
      "data:  df_min2_pt[[i]] and df_min2_pt$cancergroup \n",
      "\n",
      "                    Leukemia Lymphoma Solid tumors\n",
      "Lymphoma            1.00     -        -           \n",
      "Solid tumors        1.00     1.00     -           \n",
      "T-cell malignancies 0.75     1.00     0.67        \n",
      "\n",
      "P value adjustment method: bonferroni \n"
     ]
    },
    {
     "name": "stderr",
     "output_type": "stream",
     "text": [
      "quantreg_PD1_scaled\n",
      "\n"
     ]
    },
    {
     "name": "stdout",
     "output_type": "stream",
     "text": [
      "\n",
      "\tPairwise comparisons using Wilcoxon rank sum exact test \n",
      "\n",
      "data:  df_min2_pt[[i]] and df_min2_pt$cancergroup \n",
      "\n",
      "                    Leukemia Lymphoma Solid tumors\n",
      "Lymphoma            0.48     -        -           \n",
      "Solid tumors        1.00     0.70     -           \n",
      "T-cell malignancies 0.75     1.00     1.00        \n",
      "\n",
      "P value adjustment method: bonferroni \n"
     ]
    },
    {
     "name": "stderr",
     "output_type": "stream",
     "text": [
      "quantreg_log10shann_scaled\n",
      "\n"
     ]
    },
    {
     "name": "stdout",
     "output_type": "stream",
     "text": [
      "\n",
      "\tPairwise comparisons using Wilcoxon rank sum exact test \n",
      "\n",
      "data:  df_min2_pt[[i]] and df_min2_pt$cancergroup \n",
      "\n",
      "                    Leukemia Lymphoma Solid tumors\n",
      "Lymphoma            0.43     -        -           \n",
      "Solid tumors        1.00     1.00     -           \n",
      "T-cell malignancies 0.85     1.00     1.00        \n",
      "\n",
      "P value adjustment method: bonferroni \n"
     ]
    },
    {
     "name": "stderr",
     "output_type": "stream",
     "text": [
      "quantreg_gliph_n_scaled\n",
      "\n"
     ]
    },
    {
     "name": "stdout",
     "output_type": "stream",
     "text": [
      "\n",
      "\tPairwise comparisons using Wilcoxon rank sum exact test \n",
      "\n",
      "data:  df_min2_pt[[i]] and df_min2_pt$cancergroup \n",
      "\n",
      "                    Leukemia Lymphoma Solid tumors\n",
      "Lymphoma            1        -        -           \n",
      "Solid tumors        1        1        -           \n",
      "T-cell malignancies 1        1        1           \n",
      "\n",
      "P value adjustment method: bonferroni \n"
     ]
    },
    {
     "name": "stderr",
     "output_type": "stream",
     "text": [
      "quantreg_V_PC1_scaled\n",
      "\n"
     ]
    },
    {
     "name": "stdout",
     "output_type": "stream",
     "text": [
      "\n",
      "\tPairwise comparisons using Wilcoxon rank sum exact test \n",
      "\n",
      "data:  df_min2_pt[[i]] and df_min2_pt$cancergroup \n",
      "\n",
      "                    Leukemia Lymphoma Solid tumors\n",
      "Lymphoma            1.00     -        -           \n",
      "Solid tumors        1.00     1.00     -           \n",
      "T-cell malignancies 0.85     1.00     1.00        \n",
      "\n",
      "P value adjustment method: bonferroni \n"
     ]
    },
    {
     "name": "stderr",
     "output_type": "stream",
     "text": [
      "quantreg_J_PC1_scaled\n",
      "\n"
     ]
    },
    {
     "name": "stdout",
     "output_type": "stream",
     "text": [
      "\n",
      "\tPairwise comparisons using Wilcoxon rank sum exact test \n",
      "\n",
      "data:  df_min2_pt[[i]] and df_min2_pt$cancergroup \n",
      "\n",
      "                    Leukemia Lymphoma Solid tumors\n",
      "Lymphoma            1        -        -           \n",
      "Solid tumors        1        1        -           \n",
      "T-cell malignancies 1        1        1           \n",
      "\n",
      "P value adjustment method: bonferroni \n"
     ]
    }
   ],
   "source": [
    "# quick test\n",
    "for(i in mycol){\n",
    "    message(i)\n",
    "    print(pairwise.wilcox.test(df_min2_pt[[i]], df_min2_pt$cancergroup, p.adj = \"bonferroni\", paired = FALSE, alternative = \"two.sided\"))\n",
    "}"
   ]
  },
  {
   "cell_type": "code",
   "execution_count": 38,
   "metadata": {
    "vscode": {
     "languageId": "r"
    }
   },
   "outputs": [
    {
     "data": {
      "text/plain": [
       "\n",
       "           Leukemia            Lymphoma        Solid tumors T-cell malignancies \n",
       "                 31                  10                  23                   2 "
      ]
     },
     "metadata": {},
     "output_type": "display_data"
    }
   ],
   "source": [
    "table(df_min2_pt$cancergroup)"
   ]
  },
  {
   "cell_type": "code",
   "execution_count": 39,
   "metadata": {
    "vscode": {
     "languageId": "r"
    }
   },
   "outputs": [],
   "source": [
    "df_min2_pt_long <- tidyr::pivot_longer(df_min2_pt, all_of(mycol), names_to = \"Feature\", values_to = \"Quantreg\")"
   ]
  },
  {
   "cell_type": "code",
   "execution_count": 40,
   "metadata": {
    "vscode": {
     "languageId": "r"
    }
   },
   "outputs": [],
   "source": [
    "df_min2_pt_long <- as.data.frame(df_min2_pt_long)"
   ]
  },
  {
   "cell_type": "code",
   "execution_count": 41,
   "metadata": {
    "vscode": {
     "languageId": "r"
    }
   },
   "outputs": [],
   "source": [
    "df_min2_pt_long_narm <- df_min2_pt_long[ !is.na(df_min2_pt_long$Quantreg),]"
   ]
  },
  {
   "cell_type": "markdown",
   "metadata": {},
   "source": [
    "Boxplot"
   ]
  },
  {
   "cell_type": "code",
   "execution_count": 42,
   "metadata": {
    "vscode": {
     "languageId": "r"
    }
   },
   "outputs": [],
   "source": [
    "# use scaled for viz\n",
    "df_min2_pt_long_narm$Featurename <- gsub(\"_scaled\", \"\", df_min2_pt_long_narm$Feature)\n",
    "df_min2_pt_long_narm$Featurename <- gsub(\"quantreg_\", \"\", df_min2_pt_long_narm$Featurename)"
   ]
  },
  {
   "cell_type": "code",
   "execution_count": 43,
   "metadata": {
    "vscode": {
     "languageId": "r"
    }
   },
   "outputs": [
    {
     "data": {
      "text/plain": [
       "\n",
       "           Leukemia            Lymphoma        Solid tumors T-cell malignancies \n",
       "                230                  89                 197                  16 "
      ]
     },
     "metadata": {},
     "output_type": "display_data"
    }
   ],
   "source": [
    "table(df_min2_pt_long_narm$cancergroup)"
   ]
  },
  {
   "cell_type": "code",
   "execution_count": 44,
   "metadata": {
    "vscode": {
     "languageId": "r"
    }
   },
   "outputs": [],
   "source": [
    "p1 <- ggplot(df_min2_pt_long_narm, aes(y = Featurename, x = Quantreg)) +  geom_point(aes( color = cancergroup), position = position_jitter(w = 0.05, h = 0.15)) +\n",
    "        geom_boxplot(outlier.shape = NA, alpha = 0, color = \"#b7b2b2\") + myaxis + myplot + scale_color_manual(values = group_col)"
   ]
  },
  {
   "cell_type": "code",
   "execution_count": 45,
   "metadata": {
    "vscode": {
     "languageId": "r"
    }
   },
   "outputs": [
    {
     "data": {
      "image/png": "[encoded data removed]",
      "text/plain": [
       "plot without title"
      ]
     },
     "metadata": {
      "image/png": {
       "height": 420,
       "width": 420
      }
     },
     "output_type": "display_data"
    }
   ],
   "source": [
    "p1"
   ]
  },
  {
   "cell_type": "code",
   "execution_count": 47,
   "metadata": {
    "vscode": {
     "languageId": "r"
    }
   },
   "outputs": [
    {
     "data": {
      "text/html": [
       "<strong>pdf:</strong> 2"
      ],
      "text/latex": [
       "\\textbf{pdf:} 2"
      ],
      "text/markdown": [
       "**pdf:** 2"
      ],
      "text/plain": [
       "pdf \n",
       "  2 "
      ]
     },
     "metadata": {},
     "output_type": "display_data"
    }
   ],
   "source": [
    "pdf( paste0(plotpath, \"quantreq.pdf\"), width = 6, height = 8)\n",
    "p1 + theme(legend.position = \"bottom\")\n",
    "dev.off()"
   ]
  },
  {
   "cell_type": "markdown",
   "metadata": {},
   "source": [
    "LR and forestplot"
   ]
  },
  {
   "cell_type": "markdown",
   "metadata": {},
   "source": [
    "Use unscaled data for glm"
   ]
  },
  {
   "cell_type": "code",
   "execution_count": 48,
   "metadata": {
    "vscode": {
     "languageId": "r"
    }
   },
   "outputs": [],
   "source": [
    "mycol <- colnames(df_min2_pt)[grepl(\"quantreg\", colnames(df_min2_pt))]"
   ]
  },
  {
   "cell_type": "code",
   "execution_count": 49,
   "metadata": {
    "vscode": {
     "languageId": "r"
    }
   },
   "outputs": [],
   "source": [
    "mycol <- mycol[ !grepl(\"scaled\", mycol)]"
   ]
  },
  {
   "cell_type": "code",
   "execution_count": 50,
   "metadata": {
    "vscode": {
     "languageId": "r"
    }
   },
   "outputs": [
    {
     "data": {
      "text/html": [
       "<style>\n",
       ".list-inline {list-style: none; margin:0; padding: 0}\n",
       ".list-inline>li {display: inline-block}\n",
       ".list-inline>li:not(:last-child)::after {content: \"\\00b7\"; padding: 0 .5ex}\n",
       "</style>\n",
       "<ol class=list-inline><li>'quantreg_N'</li><li>'quantreg_CM'</li><li>'quantreg_SCM'</li><li>'quantreg_EM'</li><li>'quantreg_TE'</li><li>'quantreg_TIM'</li><li>'quantreg_LAG'</li><li>'quantreg_PD1'</li><li>'quantreg_log10shann'</li><li>'quantreg_gliph_n'</li><li>'quantreg_V_PC1'</li><li>'quantreg_J_PC1'</li></ol>\n"
      ],
      "text/latex": [
       "\\begin{enumerate*}\n",
       "\\item 'quantreg\\_N'\n",
       "\\item 'quantreg\\_CM'\n",
       "\\item 'quantreg\\_SCM'\n",
       "\\item 'quantreg\\_EM'\n",
       "\\item 'quantreg\\_TE'\n",
       "\\item 'quantreg\\_TIM'\n",
       "\\item 'quantreg\\_LAG'\n",
       "\\item 'quantreg\\_PD1'\n",
       "\\item 'quantreg\\_log10shann'\n",
       "\\item 'quantreg\\_gliph\\_n'\n",
       "\\item 'quantreg\\_V\\_PC1'\n",
       "\\item 'quantreg\\_J\\_PC1'\n",
       "\\end{enumerate*}\n"
      ],
      "text/markdown": [
       "1. 'quantreg_N'\n",
       "2. 'quantreg_CM'\n",
       "3. 'quantreg_SCM'\n",
       "4. 'quantreg_EM'\n",
       "5. 'quantreg_TE'\n",
       "6. 'quantreg_TIM'\n",
       "7. 'quantreg_LAG'\n",
       "8. 'quantreg_PD1'\n",
       "9. 'quantreg_log10shann'\n",
       "10. 'quantreg_gliph_n'\n",
       "11. 'quantreg_V_PC1'\n",
       "12. 'quantreg_J_PC1'\n",
       "\n",
       "\n"
      ],
      "text/plain": [
       " [1] \"quantreg_N\"          \"quantreg_CM\"         \"quantreg_SCM\"       \n",
       " [4] \"quantreg_EM\"         \"quantreg_TE\"         \"quantreg_TIM\"       \n",
       " [7] \"quantreg_LAG\"        \"quantreg_PD1\"        \"quantreg_log10shann\"\n",
       "[10] \"quantreg_gliph_n\"    \"quantreg_V_PC1\"      \"quantreg_J_PC1\"     "
      ]
     },
     "metadata": {},
     "output_type": "display_data"
    }
   ],
   "source": [
    "mycol"
   ]
  },
  {
   "cell_type": "code",
   "execution_count": 51,
   "metadata": {
    "vscode": {
     "languageId": "r"
    }
   },
   "outputs": [],
   "source": [
    "df_min2_pt_long <- tidyr::pivot_longer(df_min2_pt, all_of(mycol), names_to = \"Feature\", values_to = \"Quantreg\")"
   ]
  },
  {
   "cell_type": "code",
   "execution_count": 52,
   "metadata": {
    "vscode": {
     "languageId": "r"
    }
   },
   "outputs": [],
   "source": [
    "df_min2_pt_long <- as.data.frame(df_min2_pt_long)"
   ]
  },
  {
   "cell_type": "code",
   "execution_count": 53,
   "metadata": {
    "vscode": {
     "languageId": "r"
    }
   },
   "outputs": [],
   "source": [
    "df_min2_pt_long_narm <- df_min2_pt_long[ !is.na(df_min2_pt_long$Quantreg),]"
   ]
  },
  {
   "cell_type": "code",
   "execution_count": 67,
   "metadata": {
    "vscode": {
     "languageId": "r"
    }
   },
   "outputs": [],
   "source": [
    "feat_lr_mat <- matrix(nrow = length(unique(df_min2_pt_long_narm$Feature)), ncol = 7)\n",
    "rownames(feat_lr_mat) <- unique(df_min2_pt_long_narm$Feature)\n",
    "colnames(feat_lr_mat) <- c('coef', 'exp(coef)', 'SE', 'z', 'Pr(>|z|)', 'lower.95' ,'upper.95')"
   ]
  },
  {
   "cell_type": "code",
   "execution_count": 68,
   "metadata": {
    "vscode": {
     "languageId": "r"
    }
   },
   "outputs": [
    {
     "data": {
      "text/html": [
       "<table class=\"dataframe\">\n",
       "<caption>A matrix: 12 x 7 of type lgl</caption>\n",
       "<thead>\n",
       "\t<tr><th></th><th scope=col>coef</th><th scope=col>exp(coef)</th><th scope=col>SE</th><th scope=col>z</th><th scope=col>Pr(&gt;|z|)</th><th scope=col>lower.95</th><th scope=col>upper.95</th></tr>\n",
       "</thead>\n",
       "<tbody>\n",
       "\t<tr><th scope=row>quantreg_log10shann</th><td>NA</td><td>NA</td><td>NA</td><td>NA</td><td>NA</td><td>NA</td><td>NA</td></tr>\n",
       "\t<tr><th scope=row>quantreg_gliph_n</th><td>NA</td><td>NA</td><td>NA</td><td>NA</td><td>NA</td><td>NA</td><td>NA</td></tr>\n",
       "\t<tr><th scope=row>quantreg_V_PC1</th><td>NA</td><td>NA</td><td>NA</td><td>NA</td><td>NA</td><td>NA</td><td>NA</td></tr>\n",
       "\t<tr><th scope=row>quantreg_J_PC1</th><td>NA</td><td>NA</td><td>NA</td><td>NA</td><td>NA</td><td>NA</td><td>NA</td></tr>\n",
       "\t<tr><th scope=row>quantreg_N</th><td>NA</td><td>NA</td><td>NA</td><td>NA</td><td>NA</td><td>NA</td><td>NA</td></tr>\n",
       "\t<tr><th scope=row>quantreg_CM</th><td>NA</td><td>NA</td><td>NA</td><td>NA</td><td>NA</td><td>NA</td><td>NA</td></tr>\n",
       "\t<tr><th scope=row>quantreg_SCM</th><td>NA</td><td>NA</td><td>NA</td><td>NA</td><td>NA</td><td>NA</td><td>NA</td></tr>\n",
       "\t<tr><th scope=row>quantreg_EM</th><td>NA</td><td>NA</td><td>NA</td><td>NA</td><td>NA</td><td>NA</td><td>NA</td></tr>\n",
       "\t<tr><th scope=row>quantreg_TE</th><td>NA</td><td>NA</td><td>NA</td><td>NA</td><td>NA</td><td>NA</td><td>NA</td></tr>\n",
       "\t<tr><th scope=row>quantreg_TIM</th><td>NA</td><td>NA</td><td>NA</td><td>NA</td><td>NA</td><td>NA</td><td>NA</td></tr>\n",
       "\t<tr><th scope=row>quantreg_LAG</th><td>NA</td><td>NA</td><td>NA</td><td>NA</td><td>NA</td><td>NA</td><td>NA</td></tr>\n",
       "\t<tr><th scope=row>quantreg_PD1</th><td>NA</td><td>NA</td><td>NA</td><td>NA</td><td>NA</td><td>NA</td><td>NA</td></tr>\n",
       "</tbody>\n",
       "</table>\n"
      ],
      "text/latex": [
       "A matrix: 12 x 7 of type lgl\n",
       "\\begin{tabular}{r|lllllll}\n",
       "  & coef & exp(coef) & SE & z & Pr(>\\textbar{}z\\textbar{}) & lower.95 & upper.95\\\\\n",
       "\\hline\n",
       "\tquantreg\\_log10shann & NA & NA & NA & NA & NA & NA & NA\\\\\n",
       "\tquantreg\\_gliph\\_n & NA & NA & NA & NA & NA & NA & NA\\\\\n",
       "\tquantreg\\_V\\_PC1 & NA & NA & NA & NA & NA & NA & NA\\\\\n",
       "\tquantreg\\_J\\_PC1 & NA & NA & NA & NA & NA & NA & NA\\\\\n",
       "\tquantreg\\_N & NA & NA & NA & NA & NA & NA & NA\\\\\n",
       "\tquantreg\\_CM & NA & NA & NA & NA & NA & NA & NA\\\\\n",
       "\tquantreg\\_SCM & NA & NA & NA & NA & NA & NA & NA\\\\\n",
       "\tquantreg\\_EM & NA & NA & NA & NA & NA & NA & NA\\\\\n",
       "\tquantreg\\_TE & NA & NA & NA & NA & NA & NA & NA\\\\\n",
       "\tquantreg\\_TIM & NA & NA & NA & NA & NA & NA & NA\\\\\n",
       "\tquantreg\\_LAG & NA & NA & NA & NA & NA & NA & NA\\\\\n",
       "\tquantreg\\_PD1 & NA & NA & NA & NA & NA & NA & NA\\\\\n",
       "\\end{tabular}\n"
      ],
      "text/markdown": [
       "\n",
       "A matrix: 12 x 7 of type lgl\n",
       "\n",
       "| <!--/--> | coef | exp(coef) | SE | z | Pr(&gt;|z|) | lower.95 | upper.95 |\n",
       "|---|---|---|---|---|---|---|---|\n",
       "| quantreg_log10shann | NA | NA | NA | NA | NA | NA | NA |\n",
       "| quantreg_gliph_n | NA | NA | NA | NA | NA | NA | NA |\n",
       "| quantreg_V_PC1 | NA | NA | NA | NA | NA | NA | NA |\n",
       "| quantreg_J_PC1 | NA | NA | NA | NA | NA | NA | NA |\n",
       "| quantreg_N | NA | NA | NA | NA | NA | NA | NA |\n",
       "| quantreg_CM | NA | NA | NA | NA | NA | NA | NA |\n",
       "| quantreg_SCM | NA | NA | NA | NA | NA | NA | NA |\n",
       "| quantreg_EM | NA | NA | NA | NA | NA | NA | NA |\n",
       "| quantreg_TE | NA | NA | NA | NA | NA | NA | NA |\n",
       "| quantreg_TIM | NA | NA | NA | NA | NA | NA | NA |\n",
       "| quantreg_LAG | NA | NA | NA | NA | NA | NA | NA |\n",
       "| quantreg_PD1 | NA | NA | NA | NA | NA | NA | NA |\n",
       "\n"
      ],
      "text/plain": [
       "                    coef exp(coef) SE z  Pr(>|z|) lower.95 upper.95\n",
       "quantreg_log10shann NA   NA        NA NA NA       NA       NA      \n",
       "quantreg_gliph_n    NA   NA        NA NA NA       NA       NA      \n",
       "quantreg_V_PC1      NA   NA        NA NA NA       NA       NA      \n",
       "quantreg_J_PC1      NA   NA        NA NA NA       NA       NA      \n",
       "quantreg_N          NA   NA        NA NA NA       NA       NA      \n",
       "quantreg_CM         NA   NA        NA NA NA       NA       NA      \n",
       "quantreg_SCM        NA   NA        NA NA NA       NA       NA      \n",
       "quantreg_EM         NA   NA        NA NA NA       NA       NA      \n",
       "quantreg_TE         NA   NA        NA NA NA       NA       NA      \n",
       "quantreg_TIM        NA   NA        NA NA NA       NA       NA      \n",
       "quantreg_LAG        NA   NA        NA NA NA       NA       NA      \n",
       "quantreg_PD1        NA   NA        NA NA NA       NA       NA      "
      ]
     },
     "metadata": {},
     "output_type": "display_data"
    }
   ],
   "source": [
    "feat_lr_mat"
   ]
  },
  {
   "cell_type": "code",
   "execution_count": 70,
   "metadata": {
    "vscode": {
     "languageId": "r"
    }
   },
   "outputs": [
    {
     "name": "stderr",
     "output_type": "stream",
     "text": [
      "Warning message:\n",
      "“glm.fit: fitted probabilities numerically 0 or 1 occurred”\n"
     ]
    }
   ],
   "source": [
    "for(i in rownames(feat_lr_mat)){\n",
    "   # message(i)\n",
    "    f <- as.formula(paste0(\"Relapse~\", i,\"*cancergroup\"))  \n",
    "    lrmodel <- glm(f, data=df_min2_pt, family = \"binomial\") \n",
    "    sumlrmodel <- summary(lrmodel)\n",
    "#print(sumlrmodel)\n",
    "    myCI <- exp(confint.default(lrmodel, level = 0.95) )\n",
    "\n",
    "    feat_lr_mat[i,\"coef\"] <- sumlrmodel$coefficients[2,\"Estimate\"]\n",
    "    # exp of estimate is the odds ratio\n",
    "    feat_lr_mat[i,\"exp(coef)\"] <- exp(sumlrmodel$coefficients[2,\"Estimate\"])\n",
    "    feat_lr_mat[i,\"SE\"] <- sumlrmodel$coefficients[2,\"Std. Error\"]\n",
    "    feat_lr_mat[i,\"z\"] <- sumlrmodel$coefficients[2,\"z value\"]\n",
    "    feat_lr_mat[i,\"Pr(>|z|)\"] <- sumlrmodel$coefficients[2,\"Pr(>|z|)\"]\n",
    "    #from myCI\n",
    "    feat_lr_mat[i,\"lower.95\"] <- myCI[2,1]\n",
    "    feat_lr_mat[i,\"upper.95\"] <- myCI[2,2]\n",
    "}"
   ]
  },
  {
   "cell_type": "code",
   "execution_count": 57,
   "metadata": {
    "vscode": {
     "languageId": "r"
    }
   },
   "outputs": [
    {
     "data": {
      "text/html": [
       "<table class=\"dataframe\">\n",
       "<caption>A matrix: 12 x 7 of type dbl</caption>\n",
       "<thead>\n",
       "\t<tr><th></th><th scope=col>coef</th><th scope=col>exp(coef)</th><th scope=col>SE</th><th scope=col>z</th><th scope=col>Pr(&gt;|z|)</th><th scope=col>lower.95</th><th scope=col>upper.95</th></tr>\n",
       "</thead>\n",
       "<tbody>\n",
       "\t<tr><th scope=row>quantreg_log10shann</th><td>-1.799746672</td><td>1.653408e-01</td><td>1.508834e+00</td><td>-1.192806027</td><td>0.2329453</td><td>0.00859128</td><td>3.182014</td></tr>\n",
       "\t<tr><th scope=row>quantreg_gliph_n</th><td>-0.004335873</td><td>9.956735e-01</td><td>2.943168e-03</td><td>-1.473199406</td><td>0.1406973</td><td>0.98994650</td><td>1.001434</td></tr>\n",
       "\t<tr><th scope=row>quantreg_V_PC1</th><td> 0.120165089</td><td>1.127683e+00</td><td>8.579854e-02</td><td> 1.400549313</td><td>0.1613489</td><td>0.95313668</td><td>1.334194</td></tr>\n",
       "\t<tr><th scope=row>quantreg_J_PC1</th><td> 0.221692301</td><td>1.248187e+00</td><td>1.562956e-01</td><td> 1.418416521</td><td>0.1560692</td><td>0.91884163</td><td>1.695582</td></tr>\n",
       "\t<tr><th scope=row>quantreg_N</th><td> 0.032692743</td><td>1.033233e+00</td><td>4.813722e-02</td><td> 0.679157230</td><td>0.4970382</td><td>0.94020769</td><td>1.135462</td></tr>\n",
       "\t<tr><th scope=row>quantreg_CM</th><td> 0.080564789</td><td>1.083899e+00</td><td>7.029465e-02</td><td> 1.146101350</td><td>0.2517532</td><td>0.94439555</td><td>1.244010</td></tr>\n",
       "\t<tr><th scope=row>quantreg_SCM</th><td>-0.208145343</td><td>8.120890e-01</td><td>2.282394e-01</td><td>-0.911960437</td><td>0.3617895</td><td>0.51918945</td><td>1.270227</td></tr>\n",
       "\t<tr><th scope=row>quantreg_EM</th><td>18.362632352</td><td>9.436043e+07</td><td>7.225633e+03</td><td> 0.002541318</td><td>0.9979723</td><td>0.00000000</td><td>     Inf</td></tr>\n",
       "\t<tr><th scope=row>quantreg_TE</th><td>-0.060318648</td><td>9.414645e-01</td><td>4.796152e-02</td><td>-1.257646593</td><td>0.2085196</td><td>0.85699644</td><td>1.034258</td></tr>\n",
       "\t<tr><th scope=row>quantreg_TIM</th><td> 0.044029606</td><td>1.045013e+00</td><td>1.376934e-01</td><td> 0.319765665</td><td>0.7491460</td><td>0.79784223</td><td>1.368758</td></tr>\n",
       "\t<tr><th scope=row>quantreg_LAG</th><td> 0.331922374</td><td>1.393645e+00</td><td>4.315011e-01</td><td> 0.769227101</td><td>0.4417585</td><td>0.59821544</td><td>3.246732</td></tr>\n",
       "\t<tr><th scope=row>quantreg_PD1</th><td> 0.044029606</td><td>1.045013e+00</td><td>1.376934e-01</td><td> 0.319765665</td><td>0.7491460</td><td>0.79784223</td><td>1.368758</td></tr>\n",
       "</tbody>\n",
       "</table>\n"
      ],
      "text/latex": [
       "A matrix: 12 x 7 of type dbl\n",
       "\\begin{tabular}{r|lllllll}\n",
       "  & coef & exp(coef) & SE & z & Pr(>\\textbar{}z\\textbar{}) & lower.95 & upper.95\\\\\n",
       "\\hline\n",
       "\tquantreg\\_log10shann & -1.799746672 & 1.653408e-01 & 1.508834e+00 & -1.192806027 & 0.2329453 & 0.00859128 & 3.182014\\\\\n",
       "\tquantreg\\_gliph\\_n & -0.004335873 & 9.956735e-01 & 2.943168e-03 & -1.473199406 & 0.1406973 & 0.98994650 & 1.001434\\\\\n",
       "\tquantreg\\_V\\_PC1 &  0.120165089 & 1.127683e+00 & 8.579854e-02 &  1.400549313 & 0.1613489 & 0.95313668 & 1.334194\\\\\n",
       "\tquantreg\\_J\\_PC1 &  0.221692301 & 1.248187e+00 & 1.562956e-01 &  1.418416521 & 0.1560692 & 0.91884163 & 1.695582\\\\\n",
       "\tquantreg\\_N &  0.032692743 & 1.033233e+00 & 4.813722e-02 &  0.679157230 & 0.4970382 & 0.94020769 & 1.135462\\\\\n",
       "\tquantreg\\_CM &  0.080564789 & 1.083899e+00 & 7.029465e-02 &  1.146101350 & 0.2517532 & 0.94439555 & 1.244010\\\\\n",
       "\tquantreg\\_SCM & -0.208145343 & 8.120890e-01 & 2.282394e-01 & -0.911960437 & 0.3617895 & 0.51918945 & 1.270227\\\\\n",
       "\tquantreg\\_EM & 18.362632352 & 9.436043e+07 & 7.225633e+03 &  0.002541318 & 0.9979723 & 0.00000000 &      Inf\\\\\n",
       "\tquantreg\\_TE & -0.060318648 & 9.414645e-01 & 4.796152e-02 & -1.257646593 & 0.2085196 & 0.85699644 & 1.034258\\\\\n",
       "\tquantreg\\_TIM &  0.044029606 & 1.045013e+00 & 1.376934e-01 &  0.319765665 & 0.7491460 & 0.79784223 & 1.368758\\\\\n",
       "\tquantreg\\_LAG &  0.331922374 & 1.393645e+00 & 4.315011e-01 &  0.769227101 & 0.4417585 & 0.59821544 & 3.246732\\\\\n",
       "\tquantreg\\_PD1 &  0.044029606 & 1.045013e+00 & 1.376934e-01 &  0.319765665 & 0.7491460 & 0.79784223 & 1.368758\\\\\n",
       "\\end{tabular}\n"
      ],
      "text/markdown": [
       "\n",
       "A matrix: 12 x 7 of type dbl\n",
       "\n",
       "| <!--/--> | coef | exp(coef) | SE | z | Pr(&gt;|z|) | lower.95 | upper.95 |\n",
       "|---|---|---|---|---|---|---|---|\n",
       "| quantreg_log10shann | -1.799746672 | 1.653408e-01 | 1.508834e+00 | -1.192806027 | 0.2329453 | 0.00859128 | 3.182014 |\n",
       "| quantreg_gliph_n | -0.004335873 | 9.956735e-01 | 2.943168e-03 | -1.473199406 | 0.1406973 | 0.98994650 | 1.001434 |\n",
       "| quantreg_V_PC1 |  0.120165089 | 1.127683e+00 | 8.579854e-02 |  1.400549313 | 0.1613489 | 0.95313668 | 1.334194 |\n",
       "| quantreg_J_PC1 |  0.221692301 | 1.248187e+00 | 1.562956e-01 |  1.418416521 | 0.1560692 | 0.91884163 | 1.695582 |\n",
       "| quantreg_N |  0.032692743 | 1.033233e+00 | 4.813722e-02 |  0.679157230 | 0.4970382 | 0.94020769 | 1.135462 |\n",
       "| quantreg_CM |  0.080564789 | 1.083899e+00 | 7.029465e-02 |  1.146101350 | 0.2517532 | 0.94439555 | 1.244010 |\n",
       "| quantreg_SCM | -0.208145343 | 8.120890e-01 | 2.282394e-01 | -0.911960437 | 0.3617895 | 0.51918945 | 1.270227 |\n",
       "| quantreg_EM | 18.362632352 | 9.436043e+07 | 7.225633e+03 |  0.002541318 | 0.9979723 | 0.00000000 |      Inf |\n",
       "| quantreg_TE | -0.060318648 | 9.414645e-01 | 4.796152e-02 | -1.257646593 | 0.2085196 | 0.85699644 | 1.034258 |\n",
       "| quantreg_TIM |  0.044029606 | 1.045013e+00 | 1.376934e-01 |  0.319765665 | 0.7491460 | 0.79784223 | 1.368758 |\n",
       "| quantreg_LAG |  0.331922374 | 1.393645e+00 | 4.315011e-01 |  0.769227101 | 0.4417585 | 0.59821544 | 3.246732 |\n",
       "| quantreg_PD1 |  0.044029606 | 1.045013e+00 | 1.376934e-01 |  0.319765665 | 0.7491460 | 0.79784223 | 1.368758 |\n",
       "\n"
      ],
      "text/plain": [
       "                    coef         exp(coef)    SE           z           \n",
       "quantreg_log10shann -1.799746672 1.653408e-01 1.508834e+00 -1.192806027\n",
       "quantreg_gliph_n    -0.004335873 9.956735e-01 2.943168e-03 -1.473199406\n",
       "quantreg_V_PC1       0.120165089 1.127683e+00 8.579854e-02  1.400549313\n",
       "quantreg_J_PC1       0.221692301 1.248187e+00 1.562956e-01  1.418416521\n",
       "quantreg_N           0.032692743 1.033233e+00 4.813722e-02  0.679157230\n",
       "quantreg_CM          0.080564789 1.083899e+00 7.029465e-02  1.146101350\n",
       "quantreg_SCM        -0.208145343 8.120890e-01 2.282394e-01 -0.911960437\n",
       "quantreg_EM         18.362632352 9.436043e+07 7.225633e+03  0.002541318\n",
       "quantreg_TE         -0.060318648 9.414645e-01 4.796152e-02 -1.257646593\n",
       "quantreg_TIM         0.044029606 1.045013e+00 1.376934e-01  0.319765665\n",
       "quantreg_LAG         0.331922374 1.393645e+00 4.315011e-01  0.769227101\n",
       "quantreg_PD1         0.044029606 1.045013e+00 1.376934e-01  0.319765665\n",
       "                    Pr(>|z|)  lower.95   upper.95\n",
       "quantreg_log10shann 0.2329453 0.00859128 3.182014\n",
       "quantreg_gliph_n    0.1406973 0.98994650 1.001434\n",
       "quantreg_V_PC1      0.1613489 0.95313668 1.334194\n",
       "quantreg_J_PC1      0.1560692 0.91884163 1.695582\n",
       "quantreg_N          0.4970382 0.94020769 1.135462\n",
       "quantreg_CM         0.2517532 0.94439555 1.244010\n",
       "quantreg_SCM        0.3617895 0.51918945 1.270227\n",
       "quantreg_EM         0.9979723 0.00000000      Inf\n",
       "quantreg_TE         0.2085196 0.85699644 1.034258\n",
       "quantreg_TIM        0.7491460 0.79784223 1.368758\n",
       "quantreg_LAG        0.4417585 0.59821544 3.246732\n",
       "quantreg_PD1        0.7491460 0.79784223 1.368758"
      ]
     },
     "metadata": {},
     "output_type": "display_data"
    }
   ],
   "source": [
    "feat_lr_mat"
   ]
  },
  {
   "cell_type": "code",
   "execution_count": 58,
   "metadata": {
    "vscode": {
     "languageId": "r"
    }
   },
   "outputs": [],
   "source": [
    "fdr_df <- as.matrix(p.adjust(feat_lr_mat[,5], method = \"fdr\"))\n",
    "colnames(fdr_df)[1] <- \"fdr\"\n",
    "feat_lr_mat <- cbind(feat_lr_mat, fdr_df)"
   ]
  },
  {
   "cell_type": "code",
   "execution_count": 59,
   "metadata": {
    "vscode": {
     "languageId": "r"
    }
   },
   "outputs": [],
   "source": [
    "feat_lr_mat <- as.data.frame(feat_lr_mat)"
   ]
  },
  {
   "cell_type": "code",
   "execution_count": 60,
   "metadata": {
    "vscode": {
     "languageId": "r"
    }
   },
   "outputs": [],
   "source": [
    "feat_lr_mat$Feature <- gsub(\"quantreg_\", \"\", rownames(feat_lr_mat))"
   ]
  },
  {
   "cell_type": "code",
   "execution_count": 61,
   "metadata": {
    "vscode": {
     "languageId": "r"
    }
   },
   "outputs": [
    {
     "data": {
      "text/html": [
       "<table class=\"dataframe\">\n",
       "<caption>A data.frame: 12 x 9</caption>\n",
       "<thead>\n",
       "\t<tr><th></th><th scope=col>coef</th><th scope=col>exp(coef)</th><th scope=col>SE</th><th scope=col>z</th><th scope=col>Pr(&gt;|z|)</th><th scope=col>lower.95</th><th scope=col>upper.95</th><th scope=col>fdr</th><th scope=col>Feature</th></tr>\n",
       "\t<tr><th></th><th scope=col>&lt;dbl&gt;</th><th scope=col>&lt;dbl&gt;</th><th scope=col>&lt;dbl&gt;</th><th scope=col>&lt;dbl&gt;</th><th scope=col>&lt;dbl&gt;</th><th scope=col>&lt;dbl&gt;</th><th scope=col>&lt;dbl&gt;</th><th scope=col>&lt;dbl&gt;</th><th scope=col>&lt;chr&gt;</th></tr>\n",
       "</thead>\n",
       "<tbody>\n",
       "\t<tr><th scope=row>quantreg_log10shann</th><td>-1.799746672</td><td>1.653408e-01</td><td>1.508834e+00</td><td>-1.192806027</td><td>0.2329453</td><td>0.00859128</td><td>3.182014</td><td>0.5035064</td><td>log10shann</td></tr>\n",
       "\t<tr><th scope=row>quantreg_gliph_n</th><td>-0.004335873</td><td>9.956735e-01</td><td>2.943168e-03</td><td>-1.473199406</td><td>0.1406973</td><td>0.98994650</td><td>1.001434</td><td>0.5035064</td><td>gliph_n   </td></tr>\n",
       "\t<tr><th scope=row>quantreg_V_PC1</th><td> 0.120165089</td><td>1.127683e+00</td><td>8.579854e-02</td><td> 1.400549313</td><td>0.1613489</td><td>0.95313668</td><td>1.334194</td><td>0.5035064</td><td>V_PC1     </td></tr>\n",
       "\t<tr><th scope=row>quantreg_J_PC1</th><td> 0.221692301</td><td>1.248187e+00</td><td>1.562956e-01</td><td> 1.418416521</td><td>0.1560692</td><td>0.91884163</td><td>1.695582</td><td>0.5035064</td><td>J_PC1     </td></tr>\n",
       "\t<tr><th scope=row>quantreg_N</th><td> 0.032692743</td><td>1.033233e+00</td><td>4.813722e-02</td><td> 0.679157230</td><td>0.4970382</td><td>0.94020769</td><td>1.135462</td><td>0.6627177</td><td>N         </td></tr>\n",
       "\t<tr><th scope=row>quantreg_CM</th><td> 0.080564789</td><td>1.083899e+00</td><td>7.029465e-02</td><td> 1.146101350</td><td>0.2517532</td><td>0.94439555</td><td>1.244010</td><td>0.5035064</td><td>CM        </td></tr>\n",
       "\t<tr><th scope=row>quantreg_SCM</th><td>-0.208145343</td><td>8.120890e-01</td><td>2.282394e-01</td><td>-0.911960437</td><td>0.3617895</td><td>0.51918945</td><td>1.270227</td><td>0.6202106</td><td>SCM       </td></tr>\n",
       "\t<tr><th scope=row>quantreg_EM</th><td>18.362632352</td><td>9.436043e+07</td><td>7.225633e+03</td><td> 0.002541318</td><td>0.9979723</td><td>0.00000000</td><td>     Inf</td><td>0.9979723</td><td>EM        </td></tr>\n",
       "\t<tr><th scope=row>quantreg_TE</th><td>-0.060318648</td><td>9.414645e-01</td><td>4.796152e-02</td><td>-1.257646593</td><td>0.2085196</td><td>0.85699644</td><td>1.034258</td><td>0.5035064</td><td>TE        </td></tr>\n",
       "\t<tr><th scope=row>quantreg_TIM</th><td> 0.044029606</td><td>1.045013e+00</td><td>1.376934e-01</td><td> 0.319765665</td><td>0.7491460</td><td>0.79784223</td><td>1.368758</td><td>0.8172502</td><td>TIM       </td></tr>\n",
       "\t<tr><th scope=row>quantreg_LAG</th><td> 0.331922374</td><td>1.393645e+00</td><td>4.315011e-01</td><td> 0.769227101</td><td>0.4417585</td><td>0.59821544</td><td>3.246732</td><td>0.6626378</td><td>LAG       </td></tr>\n",
       "\t<tr><th scope=row>quantreg_PD1</th><td> 0.044029606</td><td>1.045013e+00</td><td>1.376934e-01</td><td> 0.319765665</td><td>0.7491460</td><td>0.79784223</td><td>1.368758</td><td>0.8172502</td><td>PD1       </td></tr>\n",
       "</tbody>\n",
       "</table>\n"
      ],
      "text/latex": [
       "A data.frame: 12 x 9\n",
       "\\begin{tabular}{r|lllllllll}\n",
       "  & coef & exp(coef) & SE & z & Pr(>\\textbar{}z\\textbar{}) & lower.95 & upper.95 & fdr & Feature\\\\\n",
       "  & <dbl> & <dbl> & <dbl> & <dbl> & <dbl> & <dbl> & <dbl> & <dbl> & <chr>\\\\\n",
       "\\hline\n",
       "\tquantreg\\_log10shann & -1.799746672 & 1.653408e-01 & 1.508834e+00 & -1.192806027 & 0.2329453 & 0.00859128 & 3.182014 & 0.5035064 & log10shann\\\\\n",
       "\tquantreg\\_gliph\\_n & -0.004335873 & 9.956735e-01 & 2.943168e-03 & -1.473199406 & 0.1406973 & 0.98994650 & 1.001434 & 0.5035064 & gliph\\_n   \\\\\n",
       "\tquantreg\\_V\\_PC1 &  0.120165089 & 1.127683e+00 & 8.579854e-02 &  1.400549313 & 0.1613489 & 0.95313668 & 1.334194 & 0.5035064 & V\\_PC1     \\\\\n",
       "\tquantreg\\_J\\_PC1 &  0.221692301 & 1.248187e+00 & 1.562956e-01 &  1.418416521 & 0.1560692 & 0.91884163 & 1.695582 & 0.5035064 & J\\_PC1     \\\\\n",
       "\tquantreg\\_N &  0.032692743 & 1.033233e+00 & 4.813722e-02 &  0.679157230 & 0.4970382 & 0.94020769 & 1.135462 & 0.6627177 & N         \\\\\n",
       "\tquantreg\\_CM &  0.080564789 & 1.083899e+00 & 7.029465e-02 &  1.146101350 & 0.2517532 & 0.94439555 & 1.244010 & 0.5035064 & CM        \\\\\n",
       "\tquantreg\\_SCM & -0.208145343 & 8.120890e-01 & 2.282394e-01 & -0.911960437 & 0.3617895 & 0.51918945 & 1.270227 & 0.6202106 & SCM       \\\\\n",
       "\tquantreg\\_EM & 18.362632352 & 9.436043e+07 & 7.225633e+03 &  0.002541318 & 0.9979723 & 0.00000000 &      Inf & 0.9979723 & EM        \\\\\n",
       "\tquantreg\\_TE & -0.060318648 & 9.414645e-01 & 4.796152e-02 & -1.257646593 & 0.2085196 & 0.85699644 & 1.034258 & 0.5035064 & TE        \\\\\n",
       "\tquantreg\\_TIM &  0.044029606 & 1.045013e+00 & 1.376934e-01 &  0.319765665 & 0.7491460 & 0.79784223 & 1.368758 & 0.8172502 & TIM       \\\\\n",
       "\tquantreg\\_LAG &  0.331922374 & 1.393645e+00 & 4.315011e-01 &  0.769227101 & 0.4417585 & 0.59821544 & 3.246732 & 0.6626378 & LAG       \\\\\n",
       "\tquantreg\\_PD1 &  0.044029606 & 1.045013e+00 & 1.376934e-01 &  0.319765665 & 0.7491460 & 0.79784223 & 1.368758 & 0.8172502 & PD1       \\\\\n",
       "\\end{tabular}\n"
      ],
      "text/markdown": [
       "\n",
       "A data.frame: 12 x 9\n",
       "\n",
       "| <!--/--> | coef &lt;dbl&gt; | exp(coef) &lt;dbl&gt; | SE &lt;dbl&gt; | z &lt;dbl&gt; | Pr(&gt;|z|) &lt;dbl&gt; | lower.95 &lt;dbl&gt; | upper.95 &lt;dbl&gt; | fdr &lt;dbl&gt; | Feature &lt;chr&gt; |\n",
       "|---|---|---|---|---|---|---|---|---|---|\n",
       "| quantreg_log10shann | -1.799746672 | 1.653408e-01 | 1.508834e+00 | -1.192806027 | 0.2329453 | 0.00859128 | 3.182014 | 0.5035064 | log10shann |\n",
       "| quantreg_gliph_n | -0.004335873 | 9.956735e-01 | 2.943168e-03 | -1.473199406 | 0.1406973 | 0.98994650 | 1.001434 | 0.5035064 | gliph_n    |\n",
       "| quantreg_V_PC1 |  0.120165089 | 1.127683e+00 | 8.579854e-02 |  1.400549313 | 0.1613489 | 0.95313668 | 1.334194 | 0.5035064 | V_PC1      |\n",
       "| quantreg_J_PC1 |  0.221692301 | 1.248187e+00 | 1.562956e-01 |  1.418416521 | 0.1560692 | 0.91884163 | 1.695582 | 0.5035064 | J_PC1      |\n",
       "| quantreg_N |  0.032692743 | 1.033233e+00 | 4.813722e-02 |  0.679157230 | 0.4970382 | 0.94020769 | 1.135462 | 0.6627177 | N          |\n",
       "| quantreg_CM |  0.080564789 | 1.083899e+00 | 7.029465e-02 |  1.146101350 | 0.2517532 | 0.94439555 | 1.244010 | 0.5035064 | CM         |\n",
       "| quantreg_SCM | -0.208145343 | 8.120890e-01 | 2.282394e-01 | -0.911960437 | 0.3617895 | 0.51918945 | 1.270227 | 0.6202106 | SCM        |\n",
       "| quantreg_EM | 18.362632352 | 9.436043e+07 | 7.225633e+03 |  0.002541318 | 0.9979723 | 0.00000000 |      Inf | 0.9979723 | EM         |\n",
       "| quantreg_TE | -0.060318648 | 9.414645e-01 | 4.796152e-02 | -1.257646593 | 0.2085196 | 0.85699644 | 1.034258 | 0.5035064 | TE         |\n",
       "| quantreg_TIM |  0.044029606 | 1.045013e+00 | 1.376934e-01 |  0.319765665 | 0.7491460 | 0.79784223 | 1.368758 | 0.8172502 | TIM        |\n",
       "| quantreg_LAG |  0.331922374 | 1.393645e+00 | 4.315011e-01 |  0.769227101 | 0.4417585 | 0.59821544 | 3.246732 | 0.6626378 | LAG        |\n",
       "| quantreg_PD1 |  0.044029606 | 1.045013e+00 | 1.376934e-01 |  0.319765665 | 0.7491460 | 0.79784223 | 1.368758 | 0.8172502 | PD1        |\n",
       "\n"
      ],
      "text/plain": [
       "                    coef         exp(coef)    SE           z           \n",
       "quantreg_log10shann -1.799746672 1.653408e-01 1.508834e+00 -1.192806027\n",
       "quantreg_gliph_n    -0.004335873 9.956735e-01 2.943168e-03 -1.473199406\n",
       "quantreg_V_PC1       0.120165089 1.127683e+00 8.579854e-02  1.400549313\n",
       "quantreg_J_PC1       0.221692301 1.248187e+00 1.562956e-01  1.418416521\n",
       "quantreg_N           0.032692743 1.033233e+00 4.813722e-02  0.679157230\n",
       "quantreg_CM          0.080564789 1.083899e+00 7.029465e-02  1.146101350\n",
       "quantreg_SCM        -0.208145343 8.120890e-01 2.282394e-01 -0.911960437\n",
       "quantreg_EM         18.362632352 9.436043e+07 7.225633e+03  0.002541318\n",
       "quantreg_TE         -0.060318648 9.414645e-01 4.796152e-02 -1.257646593\n",
       "quantreg_TIM         0.044029606 1.045013e+00 1.376934e-01  0.319765665\n",
       "quantreg_LAG         0.331922374 1.393645e+00 4.315011e-01  0.769227101\n",
       "quantreg_PD1         0.044029606 1.045013e+00 1.376934e-01  0.319765665\n",
       "                    Pr(>|z|)  lower.95   upper.95 fdr       Feature   \n",
       "quantreg_log10shann 0.2329453 0.00859128 3.182014 0.5035064 log10shann\n",
       "quantreg_gliph_n    0.1406973 0.98994650 1.001434 0.5035064 gliph_n   \n",
       "quantreg_V_PC1      0.1613489 0.95313668 1.334194 0.5035064 V_PC1     \n",
       "quantreg_J_PC1      0.1560692 0.91884163 1.695582 0.5035064 J_PC1     \n",
       "quantreg_N          0.4970382 0.94020769 1.135462 0.6627177 N         \n",
       "quantreg_CM         0.2517532 0.94439555 1.244010 0.5035064 CM        \n",
       "quantreg_SCM        0.3617895 0.51918945 1.270227 0.6202106 SCM       \n",
       "quantreg_EM         0.9979723 0.00000000      Inf 0.9979723 EM        \n",
       "quantreg_TE         0.2085196 0.85699644 1.034258 0.5035064 TE        \n",
       "quantreg_TIM        0.7491460 0.79784223 1.368758 0.8172502 TIM       \n",
       "quantreg_LAG        0.4417585 0.59821544 3.246732 0.6626378 LAG       \n",
       "quantreg_PD1        0.7491460 0.79784223 1.368758 0.8172502 PD1       "
      ]
     },
     "metadata": {},
     "output_type": "display_data"
    }
   ],
   "source": [
    "(feat_lr_mat)"
   ]
  },
  {
   "cell_type": "code",
   "execution_count": 62,
   "metadata": {
    "vscode": {
     "languageId": "r"
    }
   },
   "outputs": [],
   "source": [
    "feat_lr_mat$mean <- feat_lr_mat$`exp(coef)`\n",
    "feat_lr_mat$lower <- feat_lr_mat$`lower.95`\n",
    "feat_lr_mat$upper <- feat_lr_mat$`upper.95`"
   ]
  },
  {
   "cell_type": "code",
   "execution_count": 63,
   "metadata": {
    "vscode": {
     "languageId": "r"
    }
   },
   "outputs": [],
   "source": [
    "feat_lr_mat$OR <- as.character(round(feat_lr_mat$`exp(coef)`, 2) )\n",
    "feat_lr_mat$p <- as.character(round(feat_lr_mat$`Pr(>|z|)`, 2) )\n",
    "feat_lr_mat$FDR <- as.character(round(feat_lr_mat$fdr, 2) )"
   ]
  },
  {
   "cell_type": "code",
   "execution_count": 64,
   "metadata": {
    "vscode": {
     "languageId": "r"
    }
   },
   "outputs": [],
   "source": [
    "p2 <- feat_lr_mat |>\n",
    "  forestplot(\n",
    "    labeltext = c(Feature, OR, p, FDR),\n",
    "    clip = c(0, 2), \n",
    "    boxsize = 0.2,\n",
    "    vertices = TRUE,\n",
    "    xlog = FALSE, zero = 1\n",
    "  ) |>\n",
    "  fp_set_style(\n",
    "    box = \"royalblue\",\n",
    "    line = \"darkblue\",\n",
    "    summary = \"royalblue\"\n",
    "  ) |>\n",
    "  fp_add_header(\n",
    "    Feature = c(\"\", \"Feature\"),\n",
    "    OR = c(\"\", \"OR\"),\n",
    "    p = c(\"\", \"p value\"),\n",
    "    FDR = c(\"\", \"FDR\")\n",
    "  )\n"
   ]
  },
  {
   "cell_type": "code",
   "execution_count": 65,
   "metadata": {
    "vscode": {
     "languageId": "r"
    }
   },
   "outputs": [
    {
     "data": {
      "image/png": "[encoded data removed]",
      "text/plain": [
       "plot without title"
      ]
     },
     "metadata": {
      "image/png": {
       "height": 420,
       "width": 420
      }
     },
     "output_type": "display_data"
    }
   ],
   "source": [
    "p2"
   ]
  },
  {
   "cell_type": "code",
   "execution_count": 66,
   "metadata": {
    "vscode": {
     "languageId": "r"
    }
   },
   "outputs": [
    {
     "data": {
      "text/html": [
       "<strong>pdf:</strong> 2"
      ],
      "text/latex": [
       "\\textbf{pdf:} 2"
      ],
      "text/markdown": [
       "**pdf:** 2"
      ],
      "text/plain": [
       "pdf \n",
       "  2 "
      ]
     },
     "metadata": {},
     "output_type": "display_data"
    }
   ],
   "source": [
    "pdf(paste0(plotpath, \"forestplot_quantreq.pdf\"), width=6, height=8)\n",
    "p2\n",
    "dev.off()"
   ]
  },
  {
   "cell_type": "code",
   "execution_count": null,
   "metadata": {
    "vscode": {
     "languageId": "r"
    }
   },
   "outputs": [],
   "source": [
    "pdf(file = paste0(plotpath,\"Univar_forestplot.pdf\"),\n",
    "    width = 7, height = 10,\n",
    "    useDingbats = FALSE, onefile = F)\n",
    "forestplot(tabtext, hrs, new_page = TRUE, xlog = TRUE,\n",
    "                   title = \"Survival analysis (iMATRIX-atezo)(p-value, FDR)\", boxsize = 0.25)\n",
    "dev.off()"
   ]
  },
  {
   "cell_type": "markdown",
   "metadata": {},
   "source": [
    "# 2- Baseline associations"
   ]
  },
  {
   "cell_type": "code",
   "execution_count": null,
   "metadata": {
    "vscode": {
     "languageId": "r"
    }
   },
   "outputs": [],
   "source": []
  },
  {
   "cell_type": "code",
   "execution_count": 71,
   "metadata": {
    "vscode": {
     "languageId": "r"
    }
   },
   "outputs": [],
   "source": [
    "sample_df$cyclenum <- as.numeric(gsub(\"X0\", \"\", sample_df$cycle) )"
   ]
  },
  {
   "cell_type": "code",
   "execution_count": 72,
   "metadata": {
    "vscode": {
     "languageId": "r"
    }
   },
   "outputs": [],
   "source": [
    "# split to 3 dataframes: one for flow one for tcr and ncr\n",
    "\n",
    "tcr_df <- sample_df[ !is.na(sample_df$TRB), ]\n",
    "flow_df <- sample_df[ !is.na(sample_df$CD3) & sample_df$CD3 > 0, ]\n",
    "ncr_df <- flow_df[ !is.na(flow_df$`TIM3%`), ]"
   ]
  },
  {
   "cell_type": "code",
   "execution_count": 73,
   "metadata": {
    "vscode": {
     "languageId": "r"
    }
   },
   "outputs": [],
   "source": [
    "# only X01\n",
    "tcr_df <- tcr_df[ tcr_df$cycle == \"X01\", ]\n",
    "flow_df <- flow_df[ flow_df$cycle == \"X01\", ]\n",
    "ncr_df <- ncr_df[ ncr_df$cycle == \"X01\", ]"
   ]
  },
  {
   "cell_type": "code",
   "execution_count": 74,
   "metadata": {
    "vscode": {
     "languageId": "r"
    }
   },
   "outputs": [],
   "source": [
    "# merge all the dataframes, allow NAs to include all data\n",
    "df_x01 <- merge(flow_df, ncr_df, by = c(\"Patient\", \"cancergroup\"), all = TRUE)\n",
    "df_x01 <- merge(df_x01, tcr_df, by = c(\"Patient\", \"cancergroup\"), all = TRUE)"
   ]
  },
  {
   "cell_type": "code",
   "execution_count": 76,
   "metadata": {
    "vscode": {
     "languageId": "r"
    }
   },
   "outputs": [
    {
     "data": {
      "text/html": [
       "<table class=\"dataframe\">\n",
       "<caption>A data.frame: 6 x 368</caption>\n",
       "<thead>\n",
       "\t<tr><th></th><th scope=col>Patient</th><th scope=col>cancergroup</th><th scope=col>sample_id.x</th><th scope=col>cycle.x</th><th scope=col>FOLD.x</th><th scope=col>ATC.x</th><th scope=col>Age.x</th><th scope=col>Disease_type.x</th><th scope=col>TE_fold.x</th><th scope=col>CD3.x</th><th scope=col>...</th><th scope=col>cfDNA_J_PC2</th><th scope=col>cfDNA_J_PC3</th><th scope=col>cfDNA_samplename</th><th scope=col>cfDNA_gliph_n</th><th scope=col>cfDNA_CMV</th><th scope=col>cfDNA_EBV</th><th scope=col>cfDNA_HCV</th><th scope=col>cfDNA_Flu</th><th scope=col>cfDNA_hs</th><th scope=col>cyclenum</th></tr>\n",
       "\t<tr><th></th><th scope=col>&lt;chr&gt;</th><th scope=col>&lt;chr&gt;</th><th scope=col>&lt;chr&gt;</th><th scope=col>&lt;chr&gt;</th><th scope=col>&lt;dbl&gt;</th><th scope=col>&lt;dbl&gt;</th><th scope=col>&lt;dbl&gt;</th><th scope=col>&lt;chr&gt;</th><th scope=col>&lt;dbl&gt;</th><th scope=col>&lt;int&gt;</th><th scope=col>...</th><th scope=col>&lt;dbl&gt;</th><th scope=col>&lt;dbl&gt;</th><th scope=col>&lt;chr&gt;</th><th scope=col>&lt;dbl&gt;</th><th scope=col>&lt;dbl&gt;</th><th scope=col>&lt;dbl&gt;</th><th scope=col>&lt;dbl&gt;</th><th scope=col>&lt;dbl&gt;</th><th scope=col>&lt;dbl&gt;</th><th scope=col>&lt;dbl&gt;</th></tr>\n",
       "</thead>\n",
       "<tbody>\n",
       "\t<tr><th scope=row>1</th><td>CHP_330</td><td>Solid tumors</td><td>CHP_330_01</td><td>X01</td><td> 0.9</td><td>  0.00</td><td> 5</td><td>OS  </td><td> 0.9</td><td>2437</td><td>...</td><td>        NA</td><td>       NA</td><td>NA                           </td><td>NA</td><td>NA</td><td>NA</td><td>NA</td><td>NA</td><td>NA</td><td>NA</td></tr>\n",
       "\t<tr><th scope=row>2</th><td>CHP_332</td><td>Solid tumors</td><td>CHP_332_01</td><td>X01</td><td> 8.2</td><td>  0.00</td><td>10</td><td>ERMS</td><td> 8.2</td><td>3628</td><td>...</td><td>        NA</td><td>       NA</td><td>NA                           </td><td>NA</td><td>NA</td><td>NA</td><td>NA</td><td>NA</td><td>NA</td><td>NA</td></tr>\n",
       "\t<tr><th scope=row>3</th><td>CHP_343</td><td>Solid tumors</td><td>CHP_343_01</td><td>X01</td><td> 1.0</td><td>219.30</td><td> 8</td><td>EWS </td><td> 1.0</td><td>2421</td><td>...</td><td>        NA</td><td>       NA</td><td>NA                           </td><td>NA</td><td>NA</td><td>NA</td><td>NA</td><td>NA</td><td>NA</td><td>NA</td></tr>\n",
       "\t<tr><th scope=row>4</th><td>CHP_346</td><td>Solid tumors</td><td>CHP_346_01</td><td>X01</td><td> 0.8</td><td>331.70</td><td> 1</td><td>NB  </td><td> 0.8</td><td> 637</td><td>...</td><td>        NA</td><td>       NA</td><td>NA                           </td><td>NA</td><td>NA</td><td>NA</td><td>NA</td><td>NA</td><td>NA</td><td> 1</td></tr>\n",
       "\t<tr><th scope=row>5</th><td>CHP_347</td><td>Leukemia    </td><td>CHP_347_01</td><td>X01</td><td> 0.8</td><td>126.72</td><td>13</td><td>ALL </td><td> 0.8</td><td>1701</td><td>...</td><td>        NA</td><td>       NA</td><td>Leukemia:CHP_347_X01-cfDNA   </td><td> 0</td><td> 0</td><td> 0</td><td> 0</td><td> 0</td><td> 0</td><td> 1</td></tr>\n",
       "\t<tr><th scope=row>6</th><td>CHP_348</td><td>Solid tumors</td><td>CHP_348_01</td><td>X01</td><td>11.5</td><td> 50.96</td><td>18</td><td>OS  </td><td>11.5</td><td>1125</td><td>...</td><td>-0.2093275</td><td>0.4005046</td><td>Solidtumors:CHP_348_X01-cfDNA</td><td> 3</td><td> 0</td><td> 0</td><td> 0</td><td> 0</td><td> 0</td><td> 1</td></tr>\n",
       "</tbody>\n",
       "</table>\n"
      ],
      "text/latex": [
       "A data.frame: 6 x 368\n",
       "\\begin{tabular}{r|lllllllllllllllllllll}\n",
       "  & Patient & cancergroup & sample\\_id.x & cycle.x & FOLD.x & ATC.x & Age.x & Disease\\_type.x & TE\\_fold.x & CD3.x & ... & cfDNA\\_J\\_PC2 & cfDNA\\_J\\_PC3 & cfDNA\\_samplename & cfDNA\\_gliph\\_n & cfDNA\\_CMV & cfDNA\\_EBV & cfDNA\\_HCV & cfDNA\\_Flu & cfDNA\\_hs & cyclenum\\\\\n",
       "  & <chr> & <chr> & <chr> & <chr> & <dbl> & <dbl> & <dbl> & <chr> & <dbl> & <int> & ... & <dbl> & <dbl> & <chr> & <dbl> & <dbl> & <dbl> & <dbl> & <dbl> & <dbl> & <dbl>\\\\\n",
       "\\hline\n",
       "\t1 & CHP\\_330 & Solid tumors & CHP\\_330\\_01 & X01 &  0.9 &   0.00 &  5 & OS   &  0.9 & 2437 & ... &         NA &        NA & NA                            & NA & NA & NA & NA & NA & NA & NA\\\\\n",
       "\t2 & CHP\\_332 & Solid tumors & CHP\\_332\\_01 & X01 &  8.2 &   0.00 & 10 & ERMS &  8.2 & 3628 & ... &         NA &        NA & NA                            & NA & NA & NA & NA & NA & NA & NA\\\\\n",
       "\t3 & CHP\\_343 & Solid tumors & CHP\\_343\\_01 & X01 &  1.0 & 219.30 &  8 & EWS  &  1.0 & 2421 & ... &         NA &        NA & NA                            & NA & NA & NA & NA & NA & NA & NA\\\\\n",
       "\t4 & CHP\\_346 & Solid tumors & CHP\\_346\\_01 & X01 &  0.8 & 331.70 &  1 & NB   &  0.8 &  637 & ... &         NA &        NA & NA                            & NA & NA & NA & NA & NA & NA &  1\\\\\n",
       "\t5 & CHP\\_347 & Leukemia     & CHP\\_347\\_01 & X01 &  0.8 & 126.72 & 13 & ALL  &  0.8 & 1701 & ... &         NA &        NA & Leukemia:CHP\\_347\\_X01-cfDNA    &  0 &  0 &  0 &  0 &  0 &  0 &  1\\\\\n",
       "\t6 & CHP\\_348 & Solid tumors & CHP\\_348\\_01 & X01 & 11.5 &  50.96 & 18 & OS   & 11.5 & 1125 & ... & -0.2093275 & 0.4005046 & Solidtumors:CHP\\_348\\_X01-cfDNA &  3 &  0 &  0 &  0 &  0 &  0 &  1\\\\\n",
       "\\end{tabular}\n"
      ],
      "text/markdown": [
       "\n",
       "A data.frame: 6 x 368\n",
       "\n",
       "| <!--/--> | Patient &lt;chr&gt; | cancergroup &lt;chr&gt; | sample_id.x &lt;chr&gt; | cycle.x &lt;chr&gt; | FOLD.x &lt;dbl&gt; | ATC.x &lt;dbl&gt; | Age.x &lt;dbl&gt; | Disease_type.x &lt;chr&gt; | TE_fold.x &lt;dbl&gt; | CD3.x &lt;int&gt; | ... ... | cfDNA_J_PC2 &lt;dbl&gt; | cfDNA_J_PC3 &lt;dbl&gt; | cfDNA_samplename &lt;chr&gt; | cfDNA_gliph_n &lt;dbl&gt; | cfDNA_CMV &lt;dbl&gt; | cfDNA_EBV &lt;dbl&gt; | cfDNA_HCV &lt;dbl&gt; | cfDNA_Flu &lt;dbl&gt; | cfDNA_hs &lt;dbl&gt; | cyclenum &lt;dbl&gt; |\n",
       "|---|---|---|---|---|---|---|---|---|---|---|---|---|---|---|---|---|---|---|---|---|---|\n",
       "| 1 | CHP_330 | Solid tumors | CHP_330_01 | X01 |  0.9 |   0.00 |  5 | OS   |  0.9 | 2437 | ... |         NA |        NA | NA                            | NA | NA | NA | NA | NA | NA | NA |\n",
       "| 2 | CHP_332 | Solid tumors | CHP_332_01 | X01 |  8.2 |   0.00 | 10 | ERMS |  8.2 | 3628 | ... |         NA |        NA | NA                            | NA | NA | NA | NA | NA | NA | NA |\n",
       "| 3 | CHP_343 | Solid tumors | CHP_343_01 | X01 |  1.0 | 219.30 |  8 | EWS  |  1.0 | 2421 | ... |         NA |        NA | NA                            | NA | NA | NA | NA | NA | NA | NA |\n",
       "| 4 | CHP_346 | Solid tumors | CHP_346_01 | X01 |  0.8 | 331.70 |  1 | NB   |  0.8 |  637 | ... |         NA |        NA | NA                            | NA | NA | NA | NA | NA | NA |  1 |\n",
       "| 5 | CHP_347 | Leukemia     | CHP_347_01 | X01 |  0.8 | 126.72 | 13 | ALL  |  0.8 | 1701 | ... |         NA |        NA | Leukemia:CHP_347_X01-cfDNA    |  0 |  0 |  0 |  0 |  0 |  0 |  1 |\n",
       "| 6 | CHP_348 | Solid tumors | CHP_348_01 | X01 | 11.5 |  50.96 | 18 | OS   | 11.5 | 1125 | ... | -0.2093275 | 0.4005046 | Solidtumors:CHP_348_X01-cfDNA |  3 |  0 |  0 |  0 |  0 |  0 |  1 |\n",
       "\n"
      ],
      "text/plain": [
       "  Patient cancergroup  sample_id.x cycle.x FOLD.x ATC.x  Age.x Disease_type.x\n",
       "1 CHP_330 Solid tumors CHP_330_01  X01      0.9     0.00  5    OS            \n",
       "2 CHP_332 Solid tumors CHP_332_01  X01      8.2     0.00 10    ERMS          \n",
       "3 CHP_343 Solid tumors CHP_343_01  X01      1.0   219.30  8    EWS           \n",
       "4 CHP_346 Solid tumors CHP_346_01  X01      0.8   331.70  1    NB            \n",
       "5 CHP_347 Leukemia     CHP_347_01  X01      0.8   126.72 13    ALL           \n",
       "6 CHP_348 Solid tumors CHP_348_01  X01     11.5    50.96 18    OS            \n",
       "  TE_fold.x CD3.x ... cfDNA_J_PC2 cfDNA_J_PC3 cfDNA_samplename             \n",
       "1  0.9      2437  ...         NA         NA   NA                           \n",
       "2  8.2      3628  ...         NA         NA   NA                           \n",
       "3  1.0      2421  ...         NA         NA   NA                           \n",
       "4  0.8       637  ...         NA         NA   NA                           \n",
       "5  0.8      1701  ...         NA         NA   Leukemia:CHP_347_X01-cfDNA   \n",
       "6 11.5      1125  ... -0.2093275  0.4005046   Solidtumors:CHP_348_X01-cfDNA\n",
       "  cfDNA_gliph_n cfDNA_CMV cfDNA_EBV cfDNA_HCV cfDNA_Flu cfDNA_hs cyclenum\n",
       "1 NA            NA        NA        NA        NA        NA       NA      \n",
       "2 NA            NA        NA        NA        NA        NA       NA      \n",
       "3 NA            NA        NA        NA        NA        NA       NA      \n",
       "4 NA            NA        NA        NA        NA        NA        1      \n",
       "5  0             0         0         0         0         0        1      \n",
       "6  3             0         0         0         0         0        1      "
      ]
     },
     "metadata": {},
     "output_type": "display_data"
    }
   ],
   "source": [
    "head(df_x01)"
   ]
  },
  {
   "cell_type": "code",
   "execution_count": null,
   "metadata": {
    "vscode": {
     "languageId": "r"
    }
   },
   "outputs": [],
   "source": [
    "# df_min2_pt$quantreg_gliph_n <- NULL"
   ]
  },
  {
   "cell_type": "code",
   "execution_count": 94,
   "metadata": {
    "vscode": {
     "languageId": "r"
    }
   },
   "outputs": [],
   "source": [
    "mycol <- c('EM%','CM%','Naïve%','SCM%','TE%', 'HLA_PC1','HLA_PC2','HLA_PC3','V_PC1','V_PC2','V_PC3','J_PC1','J_PC2', 'J_PC3','PD1%', 'TIM3%', 'LAG3%', 'log10shann', \"gliph_n\")"
   ]
  },
  {
   "cell_type": "code",
   "execution_count": 95,
   "metadata": {
    "vscode": {
     "languageId": "r"
    }
   },
   "outputs": [
    {
     "data": {
      "text/html": [
       "<style>\n",
       ".list-inline {list-style: none; margin:0; padding: 0}\n",
       ".list-inline>li {display: inline-block}\n",
       ".list-inline>li:not(:last-child)::after {content: \"\\00b7\"; padding: 0 .5ex}\n",
       "</style>\n",
       "<ol class=list-inline><li>'EM%'</li><li>'CM%'</li><li>'Naïve%'</li><li>'SCM%'</li><li>'TE%'</li><li>'HLA_PC1'</li><li>'HLA_PC2'</li><li>'HLA_PC3'</li><li>'V_PC1'</li><li>'V_PC2'</li><li>'V_PC3'</li><li>'J_PC1'</li><li>'J_PC2'</li><li>'J_PC3'</li><li>'PD1%'</li><li>'TIM3%'</li><li>'LAG3%'</li><li>'log10shann'</li><li>'gliph_n'</li></ol>\n"
      ],
      "text/latex": [
       "\\begin{enumerate*}\n",
       "\\item 'EM\\%'\n",
       "\\item 'CM\\%'\n",
       "\\item 'Naïve\\%'\n",
       "\\item 'SCM\\%'\n",
       "\\item 'TE\\%'\n",
       "\\item 'HLA\\_PC1'\n",
       "\\item 'HLA\\_PC2'\n",
       "\\item 'HLA\\_PC3'\n",
       "\\item 'V\\_PC1'\n",
       "\\item 'V\\_PC2'\n",
       "\\item 'V\\_PC3'\n",
       "\\item 'J\\_PC1'\n",
       "\\item 'J\\_PC2'\n",
       "\\item 'J\\_PC3'\n",
       "\\item 'PD1\\%'\n",
       "\\item 'TIM3\\%'\n",
       "\\item 'LAG3\\%'\n",
       "\\item 'log10shann'\n",
       "\\item 'gliph\\_n'\n",
       "\\end{enumerate*}\n"
      ],
      "text/markdown": [
       "1. 'EM%'\n",
       "2. 'CM%'\n",
       "3. 'Naïve%'\n",
       "4. 'SCM%'\n",
       "5. 'TE%'\n",
       "6. 'HLA_PC1'\n",
       "7. 'HLA_PC2'\n",
       "8. 'HLA_PC3'\n",
       "9. 'V_PC1'\n",
       "10. 'V_PC2'\n",
       "11. 'V_PC3'\n",
       "12. 'J_PC1'\n",
       "13. 'J_PC2'\n",
       "14. 'J_PC3'\n",
       "15. 'PD1%'\n",
       "16. 'TIM3%'\n",
       "17. 'LAG3%'\n",
       "18. 'log10shann'\n",
       "19. 'gliph_n'\n",
       "\n",
       "\n"
      ],
      "text/plain": [
       " [1] \"EM%\"        \"CM%\"        \"Naïve%\"     \"SCM%\"       \"TE%\"       \n",
       " [6] \"HLA_PC1\"    \"HLA_PC2\"    \"HLA_PC3\"    \"V_PC1\"      \"V_PC2\"     \n",
       "[11] \"V_PC3\"      \"J_PC1\"      \"J_PC2\"      \"J_PC3\"      \"PD1%\"      \n",
       "[16] \"TIM3%\"      \"LAG3%\"      \"log10shann\" \"gliph_n\"   "
      ]
     },
     "metadata": {},
     "output_type": "display_data"
    }
   ],
   "source": [
    "mycol"
   ]
  },
  {
   "cell_type": "code",
   "execution_count": 96,
   "metadata": {
    "vscode": {
     "languageId": "r"
    }
   },
   "outputs": [],
   "source": [
    "# scale\n",
    "for(i in mycol){\n",
    "    newvar <- paste0(i, \"_scaled\")\n",
    "df_x01[[newvar]] <- as.vector(scale(df_x01[[i]]))\n",
    "}"
   ]
  },
  {
   "cell_type": "code",
   "execution_count": 97,
   "metadata": {
    "vscode": {
     "languageId": "r"
    }
   },
   "outputs": [
    {
     "data": {
      "text/html": [
       "<table class=\"dataframe\">\n",
       "<caption>A data.frame: 6 x 387</caption>\n",
       "<thead>\n",
       "\t<tr><th></th><th scope=col>Patient</th><th scope=col>cancergroup</th><th scope=col>sample_id.x</th><th scope=col>cycle.x</th><th scope=col>FOLD.x</th><th scope=col>ATC.x</th><th scope=col>Age.x</th><th scope=col>Disease_type.x</th><th scope=col>TE_fold.x</th><th scope=col>CD3.x</th><th scope=col>...</th><th scope=col>J_PC2_scaled</th><th scope=col>J_PC3_scaled</th><th scope=col>PD1%_scaled</th><th scope=col>TIM3%_scaled</th><th scope=col>LAG3%_scaled</th><th scope=col>log10shann_scaled</th><th scope=col>gliph_n_scaled</th><th scope=col>HLA_PC1_scaled</th><th scope=col>HLA_PC2_scaled</th><th scope=col>HLA_PC3_scaled</th></tr>\n",
       "\t<tr><th></th><th scope=col>&lt;chr&gt;</th><th scope=col>&lt;chr&gt;</th><th scope=col>&lt;chr&gt;</th><th scope=col>&lt;chr&gt;</th><th scope=col>&lt;dbl&gt;</th><th scope=col>&lt;dbl&gt;</th><th scope=col>&lt;dbl&gt;</th><th scope=col>&lt;chr&gt;</th><th scope=col>&lt;dbl&gt;</th><th scope=col>&lt;int&gt;</th><th scope=col>...</th><th scope=col>&lt;dbl&gt;</th><th scope=col>&lt;dbl&gt;</th><th scope=col>&lt;dbl&gt;</th><th scope=col>&lt;dbl&gt;</th><th scope=col>&lt;dbl&gt;</th><th scope=col>&lt;dbl&gt;</th><th scope=col>&lt;dbl&gt;</th><th scope=col>&lt;dbl&gt;</th><th scope=col>&lt;dbl&gt;</th><th scope=col>&lt;dbl&gt;</th></tr>\n",
       "</thead>\n",
       "<tbody>\n",
       "\t<tr><th scope=row>1</th><td>CHP_330</td><td>Solid tumors</td><td>CHP_330_01</td><td>X01</td><td> 0.9</td><td>  0.00</td><td> 5</td><td>OS  </td><td> 0.9</td><td>2437</td><td>...</td><td>        NA</td><td>        NA</td><td>        NA</td><td>        NA</td><td>        NA</td><td>        NA</td><td>        NA</td><td>       NA</td><td>        NA</td><td>        NA</td></tr>\n",
       "\t<tr><th scope=row>2</th><td>CHP_332</td><td>Solid tumors</td><td>CHP_332_01</td><td>X01</td><td> 8.2</td><td>  0.00</td><td>10</td><td>ERMS</td><td> 8.2</td><td>3628</td><td>...</td><td>        NA</td><td>        NA</td><td>        NA</td><td>        NA</td><td>        NA</td><td>        NA</td><td>        NA</td><td>       NA</td><td>        NA</td><td>        NA</td></tr>\n",
       "\t<tr><th scope=row>3</th><td>CHP_343</td><td>Solid tumors</td><td>CHP_343_01</td><td>X01</td><td> 1.0</td><td>219.30</td><td> 8</td><td>EWS </td><td> 1.0</td><td>2421</td><td>...</td><td>        NA</td><td>        NA</td><td>        NA</td><td>        NA</td><td>        NA</td><td>        NA</td><td>        NA</td><td>       NA</td><td>        NA</td><td>        NA</td></tr>\n",
       "\t<tr><th scope=row>4</th><td>CHP_346</td><td>Solid tumors</td><td>CHP_346_01</td><td>X01</td><td> 0.8</td><td>331.70</td><td> 1</td><td>NB  </td><td> 0.8</td><td> 637</td><td>...</td><td> 0.3113542</td><td>-0.1837252</td><td>-0.6093947</td><td>-0.6093947</td><td>-0.6794029</td><td>-0.4068475</td><td>-0.7337679</td><td>0.7298768</td><td>-0.2962330</td><td> 1.3535141</td></tr>\n",
       "\t<tr><th scope=row>5</th><td>CHP_347</td><td>Leukemia    </td><td>CHP_347_01</td><td>X01</td><td> 0.8</td><td>126.72</td><td>13</td><td>ALL </td><td> 0.8</td><td>1701</td><td>...</td><td>-0.6975843</td><td> 0.2301137</td><td> 0.8243495</td><td> 0.8243495</td><td>-0.8599160</td><td> 0.4157920</td><td>-0.1784009</td><td>0.2698844</td><td> 0.9597934</td><td> 0.7584671</td></tr>\n",
       "\t<tr><th scope=row>6</th><td>CHP_348</td><td>Solid tumors</td><td>CHP_348_01</td><td>X01</td><td>11.5</td><td> 50.96</td><td>18</td><td>OS  </td><td>11.5</td><td>1125</td><td>...</td><td> 0.4244381</td><td> 0.5600971</td><td>-0.5822169</td><td>-0.5822169</td><td>-0.9676864</td><td> 0.1473301</td><td>-0.4696299</td><td>0.8591286</td><td> 1.5851285</td><td>-1.0393537</td></tr>\n",
       "</tbody>\n",
       "</table>\n"
      ],
      "text/latex": [
       "A data.frame: 6 x 387\n",
       "\\begin{tabular}{r|lllllllllllllllllllll}\n",
       "  & Patient & cancergroup & sample\\_id.x & cycle.x & FOLD.x & ATC.x & Age.x & Disease\\_type.x & TE\\_fold.x & CD3.x & ... & J\\_PC2\\_scaled & J\\_PC3\\_scaled & PD1\\%\\_scaled & TIM3\\%\\_scaled & LAG3\\%\\_scaled & log10shann\\_scaled & gliph\\_n\\_scaled & HLA\\_PC1\\_scaled & HLA\\_PC2\\_scaled & HLA\\_PC3\\_scaled\\\\\n",
       "  & <chr> & <chr> & <chr> & <chr> & <dbl> & <dbl> & <dbl> & <chr> & <dbl> & <int> & ... & <dbl> & <dbl> & <dbl> & <dbl> & <dbl> & <dbl> & <dbl> & <dbl> & <dbl> & <dbl>\\\\\n",
       "\\hline\n",
       "\t1 & CHP\\_330 & Solid tumors & CHP\\_330\\_01 & X01 &  0.9 &   0.00 &  5 & OS   &  0.9 & 2437 & ... &         NA &         NA &         NA &         NA &         NA &         NA &         NA &        NA &         NA &         NA\\\\\n",
       "\t2 & CHP\\_332 & Solid tumors & CHP\\_332\\_01 & X01 &  8.2 &   0.00 & 10 & ERMS &  8.2 & 3628 & ... &         NA &         NA &         NA &         NA &         NA &         NA &         NA &        NA &         NA &         NA\\\\\n",
       "\t3 & CHP\\_343 & Solid tumors & CHP\\_343\\_01 & X01 &  1.0 & 219.30 &  8 & EWS  &  1.0 & 2421 & ... &         NA &         NA &         NA &         NA &         NA &         NA &         NA &        NA &         NA &         NA\\\\\n",
       "\t4 & CHP\\_346 & Solid tumors & CHP\\_346\\_01 & X01 &  0.8 & 331.70 &  1 & NB   &  0.8 &  637 & ... &  0.3113542 & -0.1837252 & -0.6093947 & -0.6093947 & -0.6794029 & -0.4068475 & -0.7337679 & 0.7298768 & -0.2962330 &  1.3535141\\\\\n",
       "\t5 & CHP\\_347 & Leukemia     & CHP\\_347\\_01 & X01 &  0.8 & 126.72 & 13 & ALL  &  0.8 & 1701 & ... & -0.6975843 &  0.2301137 &  0.8243495 &  0.8243495 & -0.8599160 &  0.4157920 & -0.1784009 & 0.2698844 &  0.9597934 &  0.7584671\\\\\n",
       "\t6 & CHP\\_348 & Solid tumors & CHP\\_348\\_01 & X01 & 11.5 &  50.96 & 18 & OS   & 11.5 & 1125 & ... &  0.4244381 &  0.5600971 & -0.5822169 & -0.5822169 & -0.9676864 &  0.1473301 & -0.4696299 & 0.8591286 &  1.5851285 & -1.0393537\\\\\n",
       "\\end{tabular}\n"
      ],
      "text/markdown": [
       "\n",
       "A data.frame: 6 x 387\n",
       "\n",
       "| <!--/--> | Patient &lt;chr&gt; | cancergroup &lt;chr&gt; | sample_id.x &lt;chr&gt; | cycle.x &lt;chr&gt; | FOLD.x &lt;dbl&gt; | ATC.x &lt;dbl&gt; | Age.x &lt;dbl&gt; | Disease_type.x &lt;chr&gt; | TE_fold.x &lt;dbl&gt; | CD3.x &lt;int&gt; | ... ... | J_PC2_scaled &lt;dbl&gt; | J_PC3_scaled &lt;dbl&gt; | PD1%_scaled &lt;dbl&gt; | TIM3%_scaled &lt;dbl&gt; | LAG3%_scaled &lt;dbl&gt; | log10shann_scaled &lt;dbl&gt; | gliph_n_scaled &lt;dbl&gt; | HLA_PC1_scaled &lt;dbl&gt; | HLA_PC2_scaled &lt;dbl&gt; | HLA_PC3_scaled &lt;dbl&gt; |\n",
       "|---|---|---|---|---|---|---|---|---|---|---|---|---|---|---|---|---|---|---|---|---|---|\n",
       "| 1 | CHP_330 | Solid tumors | CHP_330_01 | X01 |  0.9 |   0.00 |  5 | OS   |  0.9 | 2437 | ... |         NA |         NA |         NA |         NA |         NA |         NA |         NA |        NA |         NA |         NA |\n",
       "| 2 | CHP_332 | Solid tumors | CHP_332_01 | X01 |  8.2 |   0.00 | 10 | ERMS |  8.2 | 3628 | ... |         NA |         NA |         NA |         NA |         NA |         NA |         NA |        NA |         NA |         NA |\n",
       "| 3 | CHP_343 | Solid tumors | CHP_343_01 | X01 |  1.0 | 219.30 |  8 | EWS  |  1.0 | 2421 | ... |         NA |         NA |         NA |         NA |         NA |         NA |         NA |        NA |         NA |         NA |\n",
       "| 4 | CHP_346 | Solid tumors | CHP_346_01 | X01 |  0.8 | 331.70 |  1 | NB   |  0.8 |  637 | ... |  0.3113542 | -0.1837252 | -0.6093947 | -0.6093947 | -0.6794029 | -0.4068475 | -0.7337679 | 0.7298768 | -0.2962330 |  1.3535141 |\n",
       "| 5 | CHP_347 | Leukemia     | CHP_347_01 | X01 |  0.8 | 126.72 | 13 | ALL  |  0.8 | 1701 | ... | -0.6975843 |  0.2301137 |  0.8243495 |  0.8243495 | -0.8599160 |  0.4157920 | -0.1784009 | 0.2698844 |  0.9597934 |  0.7584671 |\n",
       "| 6 | CHP_348 | Solid tumors | CHP_348_01 | X01 | 11.5 |  50.96 | 18 | OS   | 11.5 | 1125 | ... |  0.4244381 |  0.5600971 | -0.5822169 | -0.5822169 | -0.9676864 |  0.1473301 | -0.4696299 | 0.8591286 |  1.5851285 | -1.0393537 |\n",
       "\n"
      ],
      "text/plain": [
       "  Patient cancergroup  sample_id.x cycle.x FOLD.x ATC.x  Age.x Disease_type.x\n",
       "1 CHP_330 Solid tumors CHP_330_01  X01      0.9     0.00  5    OS            \n",
       "2 CHP_332 Solid tumors CHP_332_01  X01      8.2     0.00 10    ERMS          \n",
       "3 CHP_343 Solid tumors CHP_343_01  X01      1.0   219.30  8    EWS           \n",
       "4 CHP_346 Solid tumors CHP_346_01  X01      0.8   331.70  1    NB            \n",
       "5 CHP_347 Leukemia     CHP_347_01  X01      0.8   126.72 13    ALL           \n",
       "6 CHP_348 Solid tumors CHP_348_01  X01     11.5    50.96 18    OS            \n",
       "  TE_fold.x CD3.x ... J_PC2_scaled J_PC3_scaled PD1%_scaled TIM3%_scaled\n",
       "1  0.9      2437  ...         NA           NA           NA          NA  \n",
       "2  8.2      3628  ...         NA           NA           NA          NA  \n",
       "3  1.0      2421  ...         NA           NA           NA          NA  \n",
       "4  0.8       637  ...  0.3113542   -0.1837252   -0.6093947  -0.6093947  \n",
       "5  0.8      1701  ... -0.6975843    0.2301137    0.8243495   0.8243495  \n",
       "6 11.5      1125  ...  0.4244381    0.5600971   -0.5822169  -0.5822169  \n",
       "  LAG3%_scaled log10shann_scaled gliph_n_scaled HLA_PC1_scaled HLA_PC2_scaled\n",
       "1         NA           NA                NA            NA              NA    \n",
       "2         NA           NA                NA            NA              NA    \n",
       "3         NA           NA                NA            NA              NA    \n",
       "4 -0.6794029   -0.4068475        -0.7337679     0.7298768      -0.2962330    \n",
       "5 -0.8599160    0.4157920        -0.1784009     0.2698844       0.9597934    \n",
       "6 -0.9676864    0.1473301        -0.4696299     0.8591286       1.5851285    \n",
       "  HLA_PC3_scaled\n",
       "1         NA    \n",
       "2         NA    \n",
       "3         NA    \n",
       "4  1.3535141    \n",
       "5  0.7584671    \n",
       "6 -1.0393537    "
      ]
     },
     "metadata": {},
     "output_type": "display_data"
    }
   ],
   "source": [
    "head(df_x01)"
   ]
  },
  {
   "cell_type": "code",
   "execution_count": 98,
   "metadata": {
    "vscode": {
     "languageId": "r"
    }
   },
   "outputs": [],
   "source": [
    "mycol <- colnames(df_x01)[grepl(\"scaled\", colnames(df_x01))]"
   ]
  },
  {
   "cell_type": "code",
   "execution_count": 99,
   "metadata": {
    "vscode": {
     "languageId": "r"
    }
   },
   "outputs": [
    {
     "data": {
      "text/html": [
       "<style>\n",
       ".list-inline {list-style: none; margin:0; padding: 0}\n",
       ".list-inline>li {display: inline-block}\n",
       ".list-inline>li:not(:last-child)::after {content: \"\\00b7\"; padding: 0 .5ex}\n",
       "</style>\n",
       "<ol class=list-inline><li>'EM%_scaled'</li><li>'CM%_scaled'</li><li>'Naïve%_scaled'</li><li>'SCM%_scaled'</li><li>'TE%_scaled'</li><li>'V_PC1_scaled'</li><li>'V_PC2_scaled'</li><li>'V_PC3_scaled'</li><li>'J_PC1_scaled'</li><li>'J_PC2_scaled'</li><li>'J_PC3_scaled'</li><li>'PD1%_scaled'</li><li>'TIM3%_scaled'</li><li>'LAG3%_scaled'</li><li>'log10shann_scaled'</li><li>'gliph_n_scaled'</li><li>'HLA_PC1_scaled'</li><li>'HLA_PC2_scaled'</li><li>'HLA_PC3_scaled'</li></ol>\n"
      ],
      "text/latex": [
       "\\begin{enumerate*}\n",
       "\\item 'EM\\%\\_scaled'\n",
       "\\item 'CM\\%\\_scaled'\n",
       "\\item 'Naïve\\%\\_scaled'\n",
       "\\item 'SCM\\%\\_scaled'\n",
       "\\item 'TE\\%\\_scaled'\n",
       "\\item 'V\\_PC1\\_scaled'\n",
       "\\item 'V\\_PC2\\_scaled'\n",
       "\\item 'V\\_PC3\\_scaled'\n",
       "\\item 'J\\_PC1\\_scaled'\n",
       "\\item 'J\\_PC2\\_scaled'\n",
       "\\item 'J\\_PC3\\_scaled'\n",
       "\\item 'PD1\\%\\_scaled'\n",
       "\\item 'TIM3\\%\\_scaled'\n",
       "\\item 'LAG3\\%\\_scaled'\n",
       "\\item 'log10shann\\_scaled'\n",
       "\\item 'gliph\\_n\\_scaled'\n",
       "\\item 'HLA\\_PC1\\_scaled'\n",
       "\\item 'HLA\\_PC2\\_scaled'\n",
       "\\item 'HLA\\_PC3\\_scaled'\n",
       "\\end{enumerate*}\n"
      ],
      "text/markdown": [
       "1. 'EM%_scaled'\n",
       "2. 'CM%_scaled'\n",
       "3. 'Naïve%_scaled'\n",
       "4. 'SCM%_scaled'\n",
       "5. 'TE%_scaled'\n",
       "6. 'V_PC1_scaled'\n",
       "7. 'V_PC2_scaled'\n",
       "8. 'V_PC3_scaled'\n",
       "9. 'J_PC1_scaled'\n",
       "10. 'J_PC2_scaled'\n",
       "11. 'J_PC3_scaled'\n",
       "12. 'PD1%_scaled'\n",
       "13. 'TIM3%_scaled'\n",
       "14. 'LAG3%_scaled'\n",
       "15. 'log10shann_scaled'\n",
       "16. 'gliph_n_scaled'\n",
       "17. 'HLA_PC1_scaled'\n",
       "18. 'HLA_PC2_scaled'\n",
       "19. 'HLA_PC3_scaled'\n",
       "\n",
       "\n"
      ],
      "text/plain": [
       " [1] \"EM%_scaled\"        \"CM%_scaled\"        \"Naïve%_scaled\"    \n",
       " [4] \"SCM%_scaled\"       \"TE%_scaled\"        \"V_PC1_scaled\"     \n",
       " [7] \"V_PC2_scaled\"      \"V_PC3_scaled\"      \"J_PC1_scaled\"     \n",
       "[10] \"J_PC2_scaled\"      \"J_PC3_scaled\"      \"PD1%_scaled\"      \n",
       "[13] \"TIM3%_scaled\"      \"LAG3%_scaled\"      \"log10shann_scaled\"\n",
       "[16] \"gliph_n_scaled\"    \"HLA_PC1_scaled\"    \"HLA_PC2_scaled\"   \n",
       "[19] \"HLA_PC3_scaled\"   "
      ]
     },
     "metadata": {},
     "output_type": "display_data"
    }
   ],
   "source": [
    "mycol"
   ]
  },
  {
   "cell_type": "code",
   "execution_count": 100,
   "metadata": {
    "vscode": {
     "languageId": "r"
    }
   },
   "outputs": [
    {
     "data": {
      "text/plain": [
       "\n",
       "           Leukemia            Lymphoma        Solid tumors T-cell malignancies \n",
       "                 30                  12                  27                   4 "
      ]
     },
     "metadata": {},
     "output_type": "display_data"
    }
   ],
   "source": [
    "table(df_x01$cancergroup)"
   ]
  },
  {
   "cell_type": "code",
   "execution_count": 101,
   "metadata": {
    "vscode": {
     "languageId": "r"
    }
   },
   "outputs": [],
   "source": [
    "df_x01_long <- tidyr::pivot_longer(df_x01, all_of(mycol), names_to = \"Feature\", values_to = \"X01\")"
   ]
  },
  {
   "cell_type": "code",
   "execution_count": 102,
   "metadata": {
    "vscode": {
     "languageId": "r"
    }
   },
   "outputs": [],
   "source": [
    "df_x01_long <- as.data.frame(df_x01_long)"
   ]
  },
  {
   "cell_type": "code",
   "execution_count": 103,
   "metadata": {
    "vscode": {
     "languageId": "r"
    }
   },
   "outputs": [],
   "source": [
    "df_x01_long_narm <- df_x01_long[ !is.na(df_x01_long$X01),]"
   ]
  },
  {
   "cell_type": "code",
   "execution_count": 104,
   "metadata": {
    "vscode": {
     "languageId": "r"
    }
   },
   "outputs": [
    {
     "data": {
      "text/html": [
       "<table class=\"dataframe\">\n",
       "<caption>A data.frame: 6 x 370</caption>\n",
       "<thead>\n",
       "\t<tr><th></th><th scope=col>Patient</th><th scope=col>cancergroup</th><th scope=col>sample_id.x</th><th scope=col>cycle.x</th><th scope=col>FOLD.x</th><th scope=col>ATC.x</th><th scope=col>Age.x</th><th scope=col>Disease_type.x</th><th scope=col>TE_fold.x</th><th scope=col>CD3.x</th><th scope=col>...</th><th scope=col>cfDNA_samplename</th><th scope=col>cfDNA_gliph_n</th><th scope=col>cfDNA_CMV</th><th scope=col>cfDNA_EBV</th><th scope=col>cfDNA_HCV</th><th scope=col>cfDNA_Flu</th><th scope=col>cfDNA_hs</th><th scope=col>cyclenum</th><th scope=col>Feature</th><th scope=col>X01</th></tr>\n",
       "\t<tr><th></th><th scope=col>&lt;chr&gt;</th><th scope=col>&lt;chr&gt;</th><th scope=col>&lt;chr&gt;</th><th scope=col>&lt;chr&gt;</th><th scope=col>&lt;dbl&gt;</th><th scope=col>&lt;dbl&gt;</th><th scope=col>&lt;dbl&gt;</th><th scope=col>&lt;chr&gt;</th><th scope=col>&lt;dbl&gt;</th><th scope=col>&lt;int&gt;</th><th scope=col>...</th><th scope=col>&lt;chr&gt;</th><th scope=col>&lt;dbl&gt;</th><th scope=col>&lt;dbl&gt;</th><th scope=col>&lt;dbl&gt;</th><th scope=col>&lt;dbl&gt;</th><th scope=col>&lt;dbl&gt;</th><th scope=col>&lt;dbl&gt;</th><th scope=col>&lt;dbl&gt;</th><th scope=col>&lt;chr&gt;</th><th scope=col>&lt;dbl&gt;</th></tr>\n",
       "</thead>\n",
       "<tbody>\n",
       "\t<tr><th scope=row>58</th><td>CHP_346</td><td>Solid tumors</td><td>CHP_346_01</td><td>X01</td><td>0.8</td><td>331.7</td><td>1</td><td>NB</td><td>0.8</td><td>637</td><td>...</td><td>NA</td><td>NA</td><td>NA</td><td>NA</td><td>NA</td><td>NA</td><td>NA</td><td>1</td><td>EM%_scaled   </td><td>-0.6665081</td></tr>\n",
       "\t<tr><th scope=row>59</th><td>CHP_346</td><td>Solid tumors</td><td>CHP_346_01</td><td>X01</td><td>0.8</td><td>331.7</td><td>1</td><td>NB</td><td>0.8</td><td>637</td><td>...</td><td>NA</td><td>NA</td><td>NA</td><td>NA</td><td>NA</td><td>NA</td><td>NA</td><td>1</td><td>CM%_scaled   </td><td>-0.7547849</td></tr>\n",
       "\t<tr><th scope=row>60</th><td>CHP_346</td><td>Solid tumors</td><td>CHP_346_01</td><td>X01</td><td>0.8</td><td>331.7</td><td>1</td><td>NB</td><td>0.8</td><td>637</td><td>...</td><td>NA</td><td>NA</td><td>NA</td><td>NA</td><td>NA</td><td>NA</td><td>NA</td><td>1</td><td>Naïve%_scaled</td><td> 2.9439196</td></tr>\n",
       "\t<tr><th scope=row>61</th><td>CHP_346</td><td>Solid tumors</td><td>CHP_346_01</td><td>X01</td><td>0.8</td><td>331.7</td><td>1</td><td>NB</td><td>0.8</td><td>637</td><td>...</td><td>NA</td><td>NA</td><td>NA</td><td>NA</td><td>NA</td><td>NA</td><td>NA</td><td>1</td><td>SCM%_scaled  </td><td>-1.0708562</td></tr>\n",
       "\t<tr><th scope=row>62</th><td>CHP_346</td><td>Solid tumors</td><td>CHP_346_01</td><td>X01</td><td>0.8</td><td>331.7</td><td>1</td><td>NB</td><td>0.8</td><td>637</td><td>...</td><td>NA</td><td>NA</td><td>NA</td><td>NA</td><td>NA</td><td>NA</td><td>NA</td><td>1</td><td>TE%_scaled   </td><td>-1.7271353</td></tr>\n",
       "\t<tr><th scope=row>63</th><td>CHP_346</td><td>Solid tumors</td><td>CHP_346_01</td><td>X01</td><td>0.8</td><td>331.7</td><td>1</td><td>NB</td><td>0.8</td><td>637</td><td>...</td><td>NA</td><td>NA</td><td>NA</td><td>NA</td><td>NA</td><td>NA</td><td>NA</td><td>1</td><td>V_PC1_scaled </td><td> 0.7643520</td></tr>\n",
       "</tbody>\n",
       "</table>\n"
      ],
      "text/latex": [
       "A data.frame: 6 x 370\n",
       "\\begin{tabular}{r|lllllllllllllllllllll}\n",
       "  & Patient & cancergroup & sample\\_id.x & cycle.x & FOLD.x & ATC.x & Age.x & Disease\\_type.x & TE\\_fold.x & CD3.x & ... & cfDNA\\_samplename & cfDNA\\_gliph\\_n & cfDNA\\_CMV & cfDNA\\_EBV & cfDNA\\_HCV & cfDNA\\_Flu & cfDNA\\_hs & cyclenum & Feature & X01\\\\\n",
       "  & <chr> & <chr> & <chr> & <chr> & <dbl> & <dbl> & <dbl> & <chr> & <dbl> & <int> & ... & <chr> & <dbl> & <dbl> & <dbl> & <dbl> & <dbl> & <dbl> & <dbl> & <chr> & <dbl>\\\\\n",
       "\\hline\n",
       "\t58 & CHP\\_346 & Solid tumors & CHP\\_346\\_01 & X01 & 0.8 & 331.7 & 1 & NB & 0.8 & 637 & ... & NA & NA & NA & NA & NA & NA & NA & 1 & EM\\%\\_scaled    & -0.6665081\\\\\n",
       "\t59 & CHP\\_346 & Solid tumors & CHP\\_346\\_01 & X01 & 0.8 & 331.7 & 1 & NB & 0.8 & 637 & ... & NA & NA & NA & NA & NA & NA & NA & 1 & CM\\%\\_scaled    & -0.7547849\\\\\n",
       "\t60 & CHP\\_346 & Solid tumors & CHP\\_346\\_01 & X01 & 0.8 & 331.7 & 1 & NB & 0.8 & 637 & ... & NA & NA & NA & NA & NA & NA & NA & 1 & Naïve\\%\\_scaled &  2.9439196\\\\\n",
       "\t61 & CHP\\_346 & Solid tumors & CHP\\_346\\_01 & X01 & 0.8 & 331.7 & 1 & NB & 0.8 & 637 & ... & NA & NA & NA & NA & NA & NA & NA & 1 & SCM\\%\\_scaled   & -1.0708562\\\\\n",
       "\t62 & CHP\\_346 & Solid tumors & CHP\\_346\\_01 & X01 & 0.8 & 331.7 & 1 & NB & 0.8 & 637 & ... & NA & NA & NA & NA & NA & NA & NA & 1 & TE\\%\\_scaled    & -1.7271353\\\\\n",
       "\t63 & CHP\\_346 & Solid tumors & CHP\\_346\\_01 & X01 & 0.8 & 331.7 & 1 & NB & 0.8 & 637 & ... & NA & NA & NA & NA & NA & NA & NA & 1 & V\\_PC1\\_scaled  &  0.7643520\\\\\n",
       "\\end{tabular}\n"
      ],
      "text/markdown": [
       "\n",
       "A data.frame: 6 x 370\n",
       "\n",
       "| <!--/--> | Patient &lt;chr&gt; | cancergroup &lt;chr&gt; | sample_id.x &lt;chr&gt; | cycle.x &lt;chr&gt; | FOLD.x &lt;dbl&gt; | ATC.x &lt;dbl&gt; | Age.x &lt;dbl&gt; | Disease_type.x &lt;chr&gt; | TE_fold.x &lt;dbl&gt; | CD3.x &lt;int&gt; | ... ... | cfDNA_samplename &lt;chr&gt; | cfDNA_gliph_n &lt;dbl&gt; | cfDNA_CMV &lt;dbl&gt; | cfDNA_EBV &lt;dbl&gt; | cfDNA_HCV &lt;dbl&gt; | cfDNA_Flu &lt;dbl&gt; | cfDNA_hs &lt;dbl&gt; | cyclenum &lt;dbl&gt; | Feature &lt;chr&gt; | X01 &lt;dbl&gt; |\n",
       "|---|---|---|---|---|---|---|---|---|---|---|---|---|---|---|---|---|---|---|---|---|---|\n",
       "| 58 | CHP_346 | Solid tumors | CHP_346_01 | X01 | 0.8 | 331.7 | 1 | NB | 0.8 | 637 | ... | NA | NA | NA | NA | NA | NA | NA | 1 | EM%_scaled    | -0.6665081 |\n",
       "| 59 | CHP_346 | Solid tumors | CHP_346_01 | X01 | 0.8 | 331.7 | 1 | NB | 0.8 | 637 | ... | NA | NA | NA | NA | NA | NA | NA | 1 | CM%_scaled    | -0.7547849 |\n",
       "| 60 | CHP_346 | Solid tumors | CHP_346_01 | X01 | 0.8 | 331.7 | 1 | NB | 0.8 | 637 | ... | NA | NA | NA | NA | NA | NA | NA | 1 | Naïve%_scaled |  2.9439196 |\n",
       "| 61 | CHP_346 | Solid tumors | CHP_346_01 | X01 | 0.8 | 331.7 | 1 | NB | 0.8 | 637 | ... | NA | NA | NA | NA | NA | NA | NA | 1 | SCM%_scaled   | -1.0708562 |\n",
       "| 62 | CHP_346 | Solid tumors | CHP_346_01 | X01 | 0.8 | 331.7 | 1 | NB | 0.8 | 637 | ... | NA | NA | NA | NA | NA | NA | NA | 1 | TE%_scaled    | -1.7271353 |\n",
       "| 63 | CHP_346 | Solid tumors | CHP_346_01 | X01 | 0.8 | 331.7 | 1 | NB | 0.8 | 637 | ... | NA | NA | NA | NA | NA | NA | NA | 1 | V_PC1_scaled  |  0.7643520 |\n",
       "\n"
      ],
      "text/plain": [
       "   Patient cancergroup  sample_id.x cycle.x FOLD.x ATC.x Age.x Disease_type.x\n",
       "58 CHP_346 Solid tumors CHP_346_01  X01     0.8    331.7 1     NB            \n",
       "59 CHP_346 Solid tumors CHP_346_01  X01     0.8    331.7 1     NB            \n",
       "60 CHP_346 Solid tumors CHP_346_01  X01     0.8    331.7 1     NB            \n",
       "61 CHP_346 Solid tumors CHP_346_01  X01     0.8    331.7 1     NB            \n",
       "62 CHP_346 Solid tumors CHP_346_01  X01     0.8    331.7 1     NB            \n",
       "63 CHP_346 Solid tumors CHP_346_01  X01     0.8    331.7 1     NB            \n",
       "   TE_fold.x CD3.x ... cfDNA_samplename cfDNA_gliph_n cfDNA_CMV cfDNA_EBV\n",
       "58 0.8       637   ... NA               NA            NA        NA       \n",
       "59 0.8       637   ... NA               NA            NA        NA       \n",
       "60 0.8       637   ... NA               NA            NA        NA       \n",
       "61 0.8       637   ... NA               NA            NA        NA       \n",
       "62 0.8       637   ... NA               NA            NA        NA       \n",
       "63 0.8       637   ... NA               NA            NA        NA       \n",
       "   cfDNA_HCV cfDNA_Flu cfDNA_hs cyclenum Feature       X01       \n",
       "58 NA        NA        NA       1        EM%_scaled    -0.6665081\n",
       "59 NA        NA        NA       1        CM%_scaled    -0.7547849\n",
       "60 NA        NA        NA       1        Naïve%_scaled  2.9439196\n",
       "61 NA        NA        NA       1        SCM%_scaled   -1.0708562\n",
       "62 NA        NA        NA       1        TE%_scaled    -1.7271353\n",
       "63 NA        NA        NA       1        V_PC1_scaled   0.7643520"
      ]
     },
     "metadata": {},
     "output_type": "display_data"
    }
   ],
   "source": [
    "head(df_x01_long_narm)"
   ]
  },
  {
   "cell_type": "markdown",
   "metadata": {},
   "source": [
    "Boxplot"
   ]
  },
  {
   "cell_type": "code",
   "execution_count": 105,
   "metadata": {
    "vscode": {
     "languageId": "r"
    }
   },
   "outputs": [],
   "source": [
    "# use scaled for viz\n",
    "df_x01_long_narm$Featurename <- gsub(\"_scaled\", \"\", df_x01_long_narm$Feature)"
   ]
  },
  {
   "cell_type": "code",
   "execution_count": 106,
   "metadata": {
    "vscode": {
     "languageId": "r"
    }
   },
   "outputs": [],
   "source": [
    "p1 <- ggplot(df_x01_long_narm, aes(y = Featurename, x = X01)) +  geom_point(aes( color = cancergroup), position = position_jitter(w = 0.05, h = 0.15)) +\n",
    "        geom_boxplot(outlier.shape = NA, alpha = 0, color = \"#b7b2b2\") + myaxis + myplot + scale_color_manual(values = group_col)"
   ]
  },
  {
   "cell_type": "code",
   "execution_count": 107,
   "metadata": {
    "vscode": {
     "languageId": "r"
    }
   },
   "outputs": [
    {
     "data": {
      "image/png": "[encoded data removed]",
      "text/plain": [
       "plot without title"
      ]
     },
     "metadata": {
      "image/png": {
       "height": 420,
       "width": 420
      }
     },
     "output_type": "display_data"
    }
   ],
   "source": [
    "p1"
   ]
  },
  {
   "cell_type": "code",
   "execution_count": 108,
   "metadata": {
    "vscode": {
     "languageId": "r"
    }
   },
   "outputs": [
    {
     "data": {
      "text/html": [
       "<strong>pdf:</strong> 2"
      ],
      "text/latex": [
       "\\textbf{pdf:} 2"
      ],
      "text/markdown": [
       "**pdf:** 2"
      ],
      "text/plain": [
       "pdf \n",
       "  2 "
      ]
     },
     "metadata": {},
     "output_type": "display_data"
    }
   ],
   "source": [
    "pdf( paste0(plotpath, \"X01.pdf\"), width = 6, height = 8)\n",
    "p1 + theme(legend.position = \"bottom\")\n",
    "dev.off()"
   ]
  },
  {
   "cell_type": "markdown",
   "metadata": {},
   "source": [
    "LR and forestplot"
   ]
  },
  {
   "cell_type": "markdown",
   "metadata": {},
   "source": [
    "Use unscaled data for glm"
   ]
  },
  {
   "cell_type": "code",
   "execution_count": 111,
   "metadata": {
    "vscode": {
     "languageId": "r"
    }
   },
   "outputs": [],
   "source": [
    "mycol <- c('EM%','CM%','Naïve%','SCM%','TE%', 'HLA_PC1','HLA_PC2','HLA_PC3', 'V_PC1','V_PC2','V_PC3','J_PC1','J_PC2', 'J_PC3','PD1%', 'TIM3%', 'LAG3%', 'log10shann', \"gliph_n\")"
   ]
  },
  {
   "cell_type": "code",
   "execution_count": 112,
   "metadata": {
    "vscode": {
     "languageId": "r"
    }
   },
   "outputs": [
    {
     "data": {
      "text/html": [
       "<style>\n",
       ".list-inline {list-style: none; margin:0; padding: 0}\n",
       ".list-inline>li {display: inline-block}\n",
       ".list-inline>li:not(:last-child)::after {content: \"\\00b7\"; padding: 0 .5ex}\n",
       "</style>\n",
       "<ol class=list-inline><li>'EM%'</li><li>'CM%'</li><li>'Naïve%'</li><li>'SCM%'</li><li>'TE%'</li><li>'HLA_PC1'</li><li>'HLA_PC2'</li><li>'HLA_PC3'</li><li>'V_PC1'</li><li>'V_PC2'</li><li>'V_PC3'</li><li>'J_PC1'</li><li>'J_PC2'</li><li>'J_PC3'</li><li>'PD1%'</li><li>'TIM3%'</li><li>'LAG3%'</li><li>'log10shann'</li><li>'gliph_n'</li></ol>\n"
      ],
      "text/latex": [
       "\\begin{enumerate*}\n",
       "\\item 'EM\\%'\n",
       "\\item 'CM\\%'\n",
       "\\item 'Naïve\\%'\n",
       "\\item 'SCM\\%'\n",
       "\\item 'TE\\%'\n",
       "\\item 'HLA\\_PC1'\n",
       "\\item 'HLA\\_PC2'\n",
       "\\item 'HLA\\_PC3'\n",
       "\\item 'V\\_PC1'\n",
       "\\item 'V\\_PC2'\n",
       "\\item 'V\\_PC3'\n",
       "\\item 'J\\_PC1'\n",
       "\\item 'J\\_PC2'\n",
       "\\item 'J\\_PC3'\n",
       "\\item 'PD1\\%'\n",
       "\\item 'TIM3\\%'\n",
       "\\item 'LAG3\\%'\n",
       "\\item 'log10shann'\n",
       "\\item 'gliph\\_n'\n",
       "\\end{enumerate*}\n"
      ],
      "text/markdown": [
       "1. 'EM%'\n",
       "2. 'CM%'\n",
       "3. 'Naïve%'\n",
       "4. 'SCM%'\n",
       "5. 'TE%'\n",
       "6. 'HLA_PC1'\n",
       "7. 'HLA_PC2'\n",
       "8. 'HLA_PC3'\n",
       "9. 'V_PC1'\n",
       "10. 'V_PC2'\n",
       "11. 'V_PC3'\n",
       "12. 'J_PC1'\n",
       "13. 'J_PC2'\n",
       "14. 'J_PC3'\n",
       "15. 'PD1%'\n",
       "16. 'TIM3%'\n",
       "17. 'LAG3%'\n",
       "18. 'log10shann'\n",
       "19. 'gliph_n'\n",
       "\n",
       "\n"
      ],
      "text/plain": [
       " [1] \"EM%\"        \"CM%\"        \"Naïve%\"     \"SCM%\"       \"TE%\"       \n",
       " [6] \"HLA_PC1\"    \"HLA_PC2\"    \"HLA_PC3\"    \"V_PC1\"      \"V_PC2\"     \n",
       "[11] \"V_PC3\"      \"J_PC1\"      \"J_PC2\"      \"J_PC3\"      \"PD1%\"      \n",
       "[16] \"TIM3%\"      \"LAG3%\"      \"log10shann\" \"gliph_n\"   "
      ]
     },
     "metadata": {},
     "output_type": "display_data"
    }
   ],
   "source": [
    "mycol"
   ]
  },
  {
   "cell_type": "code",
   "execution_count": 113,
   "metadata": {
    "vscode": {
     "languageId": "r"
    }
   },
   "outputs": [],
   "source": [
    "df_x01_long <- tidyr::pivot_longer(df_x01, all_of(mycol), names_to = \"Feature\", values_to = \"X01\")"
   ]
  },
  {
   "cell_type": "code",
   "execution_count": 114,
   "metadata": {
    "vscode": {
     "languageId": "r"
    }
   },
   "outputs": [],
   "source": [
    "df_x01_long <- as.data.frame(df_x01_long)"
   ]
  },
  {
   "cell_type": "code",
   "execution_count": 115,
   "metadata": {
    "vscode": {
     "languageId": "r"
    }
   },
   "outputs": [],
   "source": [
    "df_x01_long_narm <- df_x01_long[ !is.na(df_x01_long$X01),]"
   ]
  },
  {
   "cell_type": "code",
   "execution_count": 116,
   "metadata": {
    "vscode": {
     "languageId": "r"
    }
   },
   "outputs": [],
   "source": [
    "feat_lr_mat <- matrix(nrow = length(unique(df_x01_long_narm$Feature)), ncol = 7)\n",
    "rownames(feat_lr_mat) <- unique(df_x01_long_narm$Feature)\n",
    "colnames(feat_lr_mat) <- c('coef', 'exp(coef)', 'SE', 'z', 'Pr(>|z|)', 'lower.95' ,'upper.95')"
   ]
  },
  {
   "cell_type": "code",
   "execution_count": 119,
   "metadata": {
    "vscode": {
     "languageId": "r"
    }
   },
   "outputs": [
    {
     "data": {
      "text/html": [
       "<table class=\"dataframe\">\n",
       "<caption>A data.frame: 6 x 387</caption>\n",
       "<thead>\n",
       "\t<tr><th></th><th scope=col>Patient</th><th scope=col>cancergroup</th><th scope=col>sample_id.x</th><th scope=col>cycle.x</th><th scope=col>FOLD.x</th><th scope=col>ATC.x</th><th scope=col>Age.x</th><th scope=col>Disease_type.x</th><th scope=col>TE_fold.x</th><th scope=col>CD3.x</th><th scope=col>...</th><th scope=col>J_PC2_scaled</th><th scope=col>J_PC3_scaled</th><th scope=col>PD1%_scaled</th><th scope=col>TIM3%_scaled</th><th scope=col>LAG3%_scaled</th><th scope=col>log10shann_scaled</th><th scope=col>gliph_n_scaled</th><th scope=col>HLA_PC1_scaled</th><th scope=col>HLA_PC2_scaled</th><th scope=col>HLA_PC3_scaled</th></tr>\n",
       "\t<tr><th></th><th scope=col>&lt;chr&gt;</th><th scope=col>&lt;chr&gt;</th><th scope=col>&lt;chr&gt;</th><th scope=col>&lt;chr&gt;</th><th scope=col>&lt;dbl&gt;</th><th scope=col>&lt;dbl&gt;</th><th scope=col>&lt;dbl&gt;</th><th scope=col>&lt;chr&gt;</th><th scope=col>&lt;dbl&gt;</th><th scope=col>&lt;int&gt;</th><th scope=col>...</th><th scope=col>&lt;dbl&gt;</th><th scope=col>&lt;dbl&gt;</th><th scope=col>&lt;dbl&gt;</th><th scope=col>&lt;dbl&gt;</th><th scope=col>&lt;dbl&gt;</th><th scope=col>&lt;dbl&gt;</th><th scope=col>&lt;dbl&gt;</th><th scope=col>&lt;dbl&gt;</th><th scope=col>&lt;dbl&gt;</th><th scope=col>&lt;dbl&gt;</th></tr>\n",
       "</thead>\n",
       "<tbody>\n",
       "\t<tr><th scope=row>1</th><td>CHP_330</td><td>Solid tumors</td><td>CHP_330_01</td><td>X01</td><td> 0.9</td><td>  0.00</td><td> 5</td><td>OS  </td><td> 0.9</td><td>2437</td><td>...</td><td>        NA</td><td>        NA</td><td>        NA</td><td>        NA</td><td>        NA</td><td>        NA</td><td>        NA</td><td>       NA</td><td>        NA</td><td>        NA</td></tr>\n",
       "\t<tr><th scope=row>2</th><td>CHP_332</td><td>Solid tumors</td><td>CHP_332_01</td><td>X01</td><td> 8.2</td><td>  0.00</td><td>10</td><td>ERMS</td><td> 8.2</td><td>3628</td><td>...</td><td>        NA</td><td>        NA</td><td>        NA</td><td>        NA</td><td>        NA</td><td>        NA</td><td>        NA</td><td>       NA</td><td>        NA</td><td>        NA</td></tr>\n",
       "\t<tr><th scope=row>3</th><td>CHP_343</td><td>Solid tumors</td><td>CHP_343_01</td><td>X01</td><td> 1.0</td><td>219.30</td><td> 8</td><td>EWS </td><td> 1.0</td><td>2421</td><td>...</td><td>        NA</td><td>        NA</td><td>        NA</td><td>        NA</td><td>        NA</td><td>        NA</td><td>        NA</td><td>       NA</td><td>        NA</td><td>        NA</td></tr>\n",
       "\t<tr><th scope=row>4</th><td>CHP_346</td><td>Solid tumors</td><td>CHP_346_01</td><td>X01</td><td> 0.8</td><td>331.70</td><td> 1</td><td>NB  </td><td> 0.8</td><td> 637</td><td>...</td><td> 0.3113542</td><td>-0.1837252</td><td>-0.6093947</td><td>-0.6093947</td><td>-0.6794029</td><td>-0.4068475</td><td>-0.7337679</td><td>0.7298768</td><td>-0.2962330</td><td> 1.3535141</td></tr>\n",
       "\t<tr><th scope=row>5</th><td>CHP_347</td><td>Leukemia    </td><td>CHP_347_01</td><td>X01</td><td> 0.8</td><td>126.72</td><td>13</td><td>ALL </td><td> 0.8</td><td>1701</td><td>...</td><td>-0.6975843</td><td> 0.2301137</td><td> 0.8243495</td><td> 0.8243495</td><td>-0.8599160</td><td> 0.4157920</td><td>-0.1784009</td><td>0.2698844</td><td> 0.9597934</td><td> 0.7584671</td></tr>\n",
       "\t<tr><th scope=row>6</th><td>CHP_348</td><td>Solid tumors</td><td>CHP_348_01</td><td>X01</td><td>11.5</td><td> 50.96</td><td>18</td><td>OS  </td><td>11.5</td><td>1125</td><td>...</td><td> 0.4244381</td><td> 0.5600971</td><td>-0.5822169</td><td>-0.5822169</td><td>-0.9676864</td><td> 0.1473301</td><td>-0.4696299</td><td>0.8591286</td><td> 1.5851285</td><td>-1.0393537</td></tr>\n",
       "</tbody>\n",
       "</table>\n"
      ],
      "text/latex": [
       "A data.frame: 6 x 387\n",
       "\\begin{tabular}{r|lllllllllllllllllllll}\n",
       "  & Patient & cancergroup & sample\\_id.x & cycle.x & FOLD.x & ATC.x & Age.x & Disease\\_type.x & TE\\_fold.x & CD3.x & ... & J\\_PC2\\_scaled & J\\_PC3\\_scaled & PD1\\%\\_scaled & TIM3\\%\\_scaled & LAG3\\%\\_scaled & log10shann\\_scaled & gliph\\_n\\_scaled & HLA\\_PC1\\_scaled & HLA\\_PC2\\_scaled & HLA\\_PC3\\_scaled\\\\\n",
       "  & <chr> & <chr> & <chr> & <chr> & <dbl> & <dbl> & <dbl> & <chr> & <dbl> & <int> & ... & <dbl> & <dbl> & <dbl> & <dbl> & <dbl> & <dbl> & <dbl> & <dbl> & <dbl> & <dbl>\\\\\n",
       "\\hline\n",
       "\t1 & CHP\\_330 & Solid tumors & CHP\\_330\\_01 & X01 &  0.9 &   0.00 &  5 & OS   &  0.9 & 2437 & ... &         NA &         NA &         NA &         NA &         NA &         NA &         NA &        NA &         NA &         NA\\\\\n",
       "\t2 & CHP\\_332 & Solid tumors & CHP\\_332\\_01 & X01 &  8.2 &   0.00 & 10 & ERMS &  8.2 & 3628 & ... &         NA &         NA &         NA &         NA &         NA &         NA &         NA &        NA &         NA &         NA\\\\\n",
       "\t3 & CHP\\_343 & Solid tumors & CHP\\_343\\_01 & X01 &  1.0 & 219.30 &  8 & EWS  &  1.0 & 2421 & ... &         NA &         NA &         NA &         NA &         NA &         NA &         NA &        NA &         NA &         NA\\\\\n",
       "\t4 & CHP\\_346 & Solid tumors & CHP\\_346\\_01 & X01 &  0.8 & 331.70 &  1 & NB   &  0.8 &  637 & ... &  0.3113542 & -0.1837252 & -0.6093947 & -0.6093947 & -0.6794029 & -0.4068475 & -0.7337679 & 0.7298768 & -0.2962330 &  1.3535141\\\\\n",
       "\t5 & CHP\\_347 & Leukemia     & CHP\\_347\\_01 & X01 &  0.8 & 126.72 & 13 & ALL  &  0.8 & 1701 & ... & -0.6975843 &  0.2301137 &  0.8243495 &  0.8243495 & -0.8599160 &  0.4157920 & -0.1784009 & 0.2698844 &  0.9597934 &  0.7584671\\\\\n",
       "\t6 & CHP\\_348 & Solid tumors & CHP\\_348\\_01 & X01 & 11.5 &  50.96 & 18 & OS   & 11.5 & 1125 & ... &  0.4244381 &  0.5600971 & -0.5822169 & -0.5822169 & -0.9676864 &  0.1473301 & -0.4696299 & 0.8591286 &  1.5851285 & -1.0393537\\\\\n",
       "\\end{tabular}\n"
      ],
      "text/markdown": [
       "\n",
       "A data.frame: 6 x 387\n",
       "\n",
       "| <!--/--> | Patient &lt;chr&gt; | cancergroup &lt;chr&gt; | sample_id.x &lt;chr&gt; | cycle.x &lt;chr&gt; | FOLD.x &lt;dbl&gt; | ATC.x &lt;dbl&gt; | Age.x &lt;dbl&gt; | Disease_type.x &lt;chr&gt; | TE_fold.x &lt;dbl&gt; | CD3.x &lt;int&gt; | ... ... | J_PC2_scaled &lt;dbl&gt; | J_PC3_scaled &lt;dbl&gt; | PD1%_scaled &lt;dbl&gt; | TIM3%_scaled &lt;dbl&gt; | LAG3%_scaled &lt;dbl&gt; | log10shann_scaled &lt;dbl&gt; | gliph_n_scaled &lt;dbl&gt; | HLA_PC1_scaled &lt;dbl&gt; | HLA_PC2_scaled &lt;dbl&gt; | HLA_PC3_scaled &lt;dbl&gt; |\n",
       "|---|---|---|---|---|---|---|---|---|---|---|---|---|---|---|---|---|---|---|---|---|---|\n",
       "| 1 | CHP_330 | Solid tumors | CHP_330_01 | X01 |  0.9 |   0.00 |  5 | OS   |  0.9 | 2437 | ... |         NA |         NA |         NA |         NA |         NA |         NA |         NA |        NA |         NA |         NA |\n",
       "| 2 | CHP_332 | Solid tumors | CHP_332_01 | X01 |  8.2 |   0.00 | 10 | ERMS |  8.2 | 3628 | ... |         NA |         NA |         NA |         NA |         NA |         NA |         NA |        NA |         NA |         NA |\n",
       "| 3 | CHP_343 | Solid tumors | CHP_343_01 | X01 |  1.0 | 219.30 |  8 | EWS  |  1.0 | 2421 | ... |         NA |         NA |         NA |         NA |         NA |         NA |         NA |        NA |         NA |         NA |\n",
       "| 4 | CHP_346 | Solid tumors | CHP_346_01 | X01 |  0.8 | 331.70 |  1 | NB   |  0.8 |  637 | ... |  0.3113542 | -0.1837252 | -0.6093947 | -0.6093947 | -0.6794029 | -0.4068475 | -0.7337679 | 0.7298768 | -0.2962330 |  1.3535141 |\n",
       "| 5 | CHP_347 | Leukemia     | CHP_347_01 | X01 |  0.8 | 126.72 | 13 | ALL  |  0.8 | 1701 | ... | -0.6975843 |  0.2301137 |  0.8243495 |  0.8243495 | -0.8599160 |  0.4157920 | -0.1784009 | 0.2698844 |  0.9597934 |  0.7584671 |\n",
       "| 6 | CHP_348 | Solid tumors | CHP_348_01 | X01 | 11.5 |  50.96 | 18 | OS   | 11.5 | 1125 | ... |  0.4244381 |  0.5600971 | -0.5822169 | -0.5822169 | -0.9676864 |  0.1473301 | -0.4696299 | 0.8591286 |  1.5851285 | -1.0393537 |\n",
       "\n"
      ],
      "text/plain": [
       "  Patient cancergroup  sample_id.x cycle.x FOLD.x ATC.x  Age.x Disease_type.x\n",
       "1 CHP_330 Solid tumors CHP_330_01  X01      0.9     0.00  5    OS            \n",
       "2 CHP_332 Solid tumors CHP_332_01  X01      8.2     0.00 10    ERMS          \n",
       "3 CHP_343 Solid tumors CHP_343_01  X01      1.0   219.30  8    EWS           \n",
       "4 CHP_346 Solid tumors CHP_346_01  X01      0.8   331.70  1    NB            \n",
       "5 CHP_347 Leukemia     CHP_347_01  X01      0.8   126.72 13    ALL           \n",
       "6 CHP_348 Solid tumors CHP_348_01  X01     11.5    50.96 18    OS            \n",
       "  TE_fold.x CD3.x ... J_PC2_scaled J_PC3_scaled PD1%_scaled TIM3%_scaled\n",
       "1  0.9      2437  ...         NA           NA           NA          NA  \n",
       "2  8.2      3628  ...         NA           NA           NA          NA  \n",
       "3  1.0      2421  ...         NA           NA           NA          NA  \n",
       "4  0.8       637  ...  0.3113542   -0.1837252   -0.6093947  -0.6093947  \n",
       "5  0.8      1701  ... -0.6975843    0.2301137    0.8243495   0.8243495  \n",
       "6 11.5      1125  ...  0.4244381    0.5600971   -0.5822169  -0.5822169  \n",
       "  LAG3%_scaled log10shann_scaled gliph_n_scaled HLA_PC1_scaled HLA_PC2_scaled\n",
       "1         NA           NA                NA            NA              NA    \n",
       "2         NA           NA                NA            NA              NA    \n",
       "3         NA           NA                NA            NA              NA    \n",
       "4 -0.6794029   -0.4068475        -0.7337679     0.7298768      -0.2962330    \n",
       "5 -0.8599160    0.4157920        -0.1784009     0.2698844       0.9597934    \n",
       "6 -0.9676864    0.1473301        -0.4696299     0.8591286       1.5851285    \n",
       "  HLA_PC3_scaled\n",
       "1         NA    \n",
       "2         NA    \n",
       "3         NA    \n",
       "4  1.3535141    \n",
       "5  0.7584671    \n",
       "6 -1.0393537    "
      ]
     },
     "metadata": {},
     "output_type": "display_data"
    }
   ],
   "source": [
    "head(df_x01)"
   ]
  },
  {
   "cell_type": "code",
   "execution_count": 121,
   "metadata": {
    "vscode": {
     "languageId": "r"
    }
   },
   "outputs": [],
   "source": [
    "for(i in rownames(feat_lr_mat)){\n",
    "   # message(i)\n",
    "    f <- as.formula(paste0(\"Relapse~`\", i,\"`*cancergroup\"))  \n",
    "    lrmodel <- glm(f, data=df_x01, family = \"binomial\") \n",
    "    sumlrmodel <- summary(lrmodel)\n",
    "#print(sumlrmodel)\n",
    "    myCI <- exp(confint.default(lrmodel, level = 0.95) )\n",
    "\n",
    "    feat_lr_mat[i,\"coef\"] <- sumlrmodel$coefficients[2,\"Estimate\"]\n",
    "    # exp of estimate is the odds ratio\n",
    "    feat_lr_mat[i,\"exp(coef)\"] <- exp(sumlrmodel$coefficients[2,\"Estimate\"])\n",
    "    feat_lr_mat[i,\"SE\"] <- sumlrmodel$coefficients[2,\"Std. Error\"]\n",
    "    feat_lr_mat[i,\"z\"] <- sumlrmodel$coefficients[2,\"z value\"]\n",
    "    feat_lr_mat[i,\"Pr(>|z|)\"] <- sumlrmodel$coefficients[2,\"Pr(>|z|)\"]\n",
    "    #from myCI\n",
    "    feat_lr_mat[i,\"lower.95\"] <- myCI[2,1]\n",
    "    feat_lr_mat[i,\"upper.95\"] <- myCI[2,2]\n",
    "}"
   ]
  },
  {
   "cell_type": "code",
   "execution_count": 122,
   "metadata": {
    "vscode": {
     "languageId": "r"
    }
   },
   "outputs": [
    {
     "data": {
      "text/html": [
       "<table class=\"dataframe\">\n",
       "<caption>A matrix: 19 x 7 of type dbl</caption>\n",
       "<thead>\n",
       "\t<tr><th></th><th scope=col>coef</th><th scope=col>exp(coef)</th><th scope=col>SE</th><th scope=col>z</th><th scope=col>Pr(&gt;|z|)</th><th scope=col>lower.95</th><th scope=col>upper.95</th></tr>\n",
       "</thead>\n",
       "<tbody>\n",
       "\t<tr><th scope=row>EM%</th><td>-0.03720057</td><td>0.96348287</td><td>0.135127191</td><td>-0.2753004</td><td>0.78308544</td><td>0.7393047943</td><td> 1.255638</td></tr>\n",
       "\t<tr><th scope=row>CM%</th><td>-0.03968371</td><td>0.96109337</td><td>0.122674347</td><td>-0.3234883</td><td>0.74632550</td><td>0.7556922877</td><td> 1.222324</td></tr>\n",
       "\t<tr><th scope=row>Naïve%</th><td>-0.20035284</td><td>0.81844192</td><td>0.142163503</td><td>-1.4093128</td><td>0.15874270</td><td>0.6194098021</td><td> 1.081428</td></tr>\n",
       "\t<tr><th scope=row>SCM%</th><td> 0.20557300</td><td>1.22822863</td><td>0.110033670</td><td> 1.8682736</td><td>0.06172395</td><td>0.9899616899</td><td> 1.523842</td></tr>\n",
       "\t<tr><th scope=row>TE%</th><td> 0.02385577</td><td>1.02414259</td><td>0.035295384</td><td> 0.6758891</td><td>0.49911103</td><td>0.9556897816</td><td> 1.097498</td></tr>\n",
       "\t<tr><th scope=row>HLA_PC1</th><td>-0.07516549</td><td>0.92758997</td><td>0.196209227</td><td>-0.3830884</td><td>0.70165419</td><td>0.6314550595</td><td> 1.362604</td></tr>\n",
       "\t<tr><th scope=row>HLA_PC2</th><td> 0.05401960</td><td>1.05550529</td><td>0.257507591</td><td> 0.2097787</td><td>0.83384043</td><td>0.6371908849</td><td> 1.748442</td></tr>\n",
       "\t<tr><th scope=row>HLA_PC3</th><td>-0.05952599</td><td>0.94221105</td><td>0.207823017</td><td>-0.2864263</td><td>0.77455161</td><td>0.6269731182</td><td> 1.415949</td></tr>\n",
       "\t<tr><th scope=row>V_PC1</th><td> 0.26318684</td><td>1.30106979</td><td>0.262662282</td><td> 1.0019971</td><td>0.31634500</td><td>0.7775387697</td><td> 2.177104</td></tr>\n",
       "\t<tr><th scope=row>V_PC2</th><td> 1.35587567</td><td>3.88015719</td><td>1.497105169</td><td> 0.9056649</td><td>0.36511322</td><td>0.2063056349</td><td>72.977259</td></tr>\n",
       "\t<tr><th scope=row>V_PC3</th><td>-0.69436713</td><td>0.49939040</td><td>1.033294330</td><td>-0.6719936</td><td>0.50158780</td><td>0.0659019794</td><td> 3.784268</td></tr>\n",
       "\t<tr><th scope=row>J_PC1</th><td> 0.45202336</td><td>1.57148866</td><td>0.452516914</td><td> 0.9989093</td><td>0.31783862</td><td>0.6473336089</td><td> 3.814998</td></tr>\n",
       "\t<tr><th scope=row>J_PC2</th><td> 0.82639003</td><td>2.28505485</td><td>1.201602153</td><td> 0.6877401</td><td>0.49161644</td><td>0.2168158476</td><td>24.082537</td></tr>\n",
       "\t<tr><th scope=row>J_PC3</th><td>-3.58061442</td><td>0.02785858</td><td>2.348108339</td><td>-1.5248932</td><td>0.12728574</td><td>0.0002794123</td><td> 2.777617</td></tr>\n",
       "\t<tr><th scope=row>PD1%</th><td> 0.04632573</td><td>1.04741553</td><td>0.085411770</td><td> 0.5423811</td><td>0.58755599</td><td>0.8859646192</td><td> 1.238288</td></tr>\n",
       "\t<tr><th scope=row>TIM3%</th><td> 0.04632573</td><td>1.04741553</td><td>0.085411770</td><td> 0.5423811</td><td>0.58755599</td><td>0.8859646192</td><td> 1.238288</td></tr>\n",
       "\t<tr><th scope=row>LAG3%</th><td>-1.04970931</td><td>0.35003949</td><td>0.926044771</td><td>-1.1335406</td><td>0.25698732</td><td>0.0569988775</td><td> 2.149650</td></tr>\n",
       "\t<tr><th scope=row>log10shann</th><td>-0.55235721</td><td>0.57559142</td><td>1.026125645</td><td>-0.5382939</td><td>0.59037414</td><td>0.0770326037</td><td> 4.300847</td></tr>\n",
       "\t<tr><th scope=row>gliph_n</th><td>-0.01022878</td><td>0.98982336</td><td>0.009669639</td><td>-1.0578239</td><td>0.29013574</td><td>0.9712407320</td><td> 1.008762</td></tr>\n",
       "</tbody>\n",
       "</table>\n"
      ],
      "text/latex": [
       "A matrix: 19 x 7 of type dbl\n",
       "\\begin{tabular}{r|lllllll}\n",
       "  & coef & exp(coef) & SE & z & Pr(>\\textbar{}z\\textbar{}) & lower.95 & upper.95\\\\\n",
       "\\hline\n",
       "\tEM\\% & -0.03720057 & 0.96348287 & 0.135127191 & -0.2753004 & 0.78308544 & 0.7393047943 &  1.255638\\\\\n",
       "\tCM\\% & -0.03968371 & 0.96109337 & 0.122674347 & -0.3234883 & 0.74632550 & 0.7556922877 &  1.222324\\\\\n",
       "\tNaïve\\% & -0.20035284 & 0.81844192 & 0.142163503 & -1.4093128 & 0.15874270 & 0.6194098021 &  1.081428\\\\\n",
       "\tSCM\\% &  0.20557300 & 1.22822863 & 0.110033670 &  1.8682736 & 0.06172395 & 0.9899616899 &  1.523842\\\\\n",
       "\tTE\\% &  0.02385577 & 1.02414259 & 0.035295384 &  0.6758891 & 0.49911103 & 0.9556897816 &  1.097498\\\\\n",
       "\tHLA\\_PC1 & -0.07516549 & 0.92758997 & 0.196209227 & -0.3830884 & 0.70165419 & 0.6314550595 &  1.362604\\\\\n",
       "\tHLA\\_PC2 &  0.05401960 & 1.05550529 & 0.257507591 &  0.2097787 & 0.83384043 & 0.6371908849 &  1.748442\\\\\n",
       "\tHLA\\_PC3 & -0.05952599 & 0.94221105 & 0.207823017 & -0.2864263 & 0.77455161 & 0.6269731182 &  1.415949\\\\\n",
       "\tV\\_PC1 &  0.26318684 & 1.30106979 & 0.262662282 &  1.0019971 & 0.31634500 & 0.7775387697 &  2.177104\\\\\n",
       "\tV\\_PC2 &  1.35587567 & 3.88015719 & 1.497105169 &  0.9056649 & 0.36511322 & 0.2063056349 & 72.977259\\\\\n",
       "\tV\\_PC3 & -0.69436713 & 0.49939040 & 1.033294330 & -0.6719936 & 0.50158780 & 0.0659019794 &  3.784268\\\\\n",
       "\tJ\\_PC1 &  0.45202336 & 1.57148866 & 0.452516914 &  0.9989093 & 0.31783862 & 0.6473336089 &  3.814998\\\\\n",
       "\tJ\\_PC2 &  0.82639003 & 2.28505485 & 1.201602153 &  0.6877401 & 0.49161644 & 0.2168158476 & 24.082537\\\\\n",
       "\tJ\\_PC3 & -3.58061442 & 0.02785858 & 2.348108339 & -1.5248932 & 0.12728574 & 0.0002794123 &  2.777617\\\\\n",
       "\tPD1\\% &  0.04632573 & 1.04741553 & 0.085411770 &  0.5423811 & 0.58755599 & 0.8859646192 &  1.238288\\\\\n",
       "\tTIM3\\% &  0.04632573 & 1.04741553 & 0.085411770 &  0.5423811 & 0.58755599 & 0.8859646192 &  1.238288\\\\\n",
       "\tLAG3\\% & -1.04970931 & 0.35003949 & 0.926044771 & -1.1335406 & 0.25698732 & 0.0569988775 &  2.149650\\\\\n",
       "\tlog10shann & -0.55235721 & 0.57559142 & 1.026125645 & -0.5382939 & 0.59037414 & 0.0770326037 &  4.300847\\\\\n",
       "\tgliph\\_n & -0.01022878 & 0.98982336 & 0.009669639 & -1.0578239 & 0.29013574 & 0.9712407320 &  1.008762\\\\\n",
       "\\end{tabular}\n"
      ],
      "text/markdown": [
       "\n",
       "A matrix: 19 x 7 of type dbl\n",
       "\n",
       "| <!--/--> | coef | exp(coef) | SE | z | Pr(&gt;|z|) | lower.95 | upper.95 |\n",
       "|---|---|---|---|---|---|---|---|\n",
       "| EM% | -0.03720057 | 0.96348287 | 0.135127191 | -0.2753004 | 0.78308544 | 0.7393047943 |  1.255638 |\n",
       "| CM% | -0.03968371 | 0.96109337 | 0.122674347 | -0.3234883 | 0.74632550 | 0.7556922877 |  1.222324 |\n",
       "| Naïve% | -0.20035284 | 0.81844192 | 0.142163503 | -1.4093128 | 0.15874270 | 0.6194098021 |  1.081428 |\n",
       "| SCM% |  0.20557300 | 1.22822863 | 0.110033670 |  1.8682736 | 0.06172395 | 0.9899616899 |  1.523842 |\n",
       "| TE% |  0.02385577 | 1.02414259 | 0.035295384 |  0.6758891 | 0.49911103 | 0.9556897816 |  1.097498 |\n",
       "| HLA_PC1 | -0.07516549 | 0.92758997 | 0.196209227 | -0.3830884 | 0.70165419 | 0.6314550595 |  1.362604 |\n",
       "| HLA_PC2 |  0.05401960 | 1.05550529 | 0.257507591 |  0.2097787 | 0.83384043 | 0.6371908849 |  1.748442 |\n",
       "| HLA_PC3 | -0.05952599 | 0.94221105 | 0.207823017 | -0.2864263 | 0.77455161 | 0.6269731182 |  1.415949 |\n",
       "| V_PC1 |  0.26318684 | 1.30106979 | 0.262662282 |  1.0019971 | 0.31634500 | 0.7775387697 |  2.177104 |\n",
       "| V_PC2 |  1.35587567 | 3.88015719 | 1.497105169 |  0.9056649 | 0.36511322 | 0.2063056349 | 72.977259 |\n",
       "| V_PC3 | -0.69436713 | 0.49939040 | 1.033294330 | -0.6719936 | 0.50158780 | 0.0659019794 |  3.784268 |\n",
       "| J_PC1 |  0.45202336 | 1.57148866 | 0.452516914 |  0.9989093 | 0.31783862 | 0.6473336089 |  3.814998 |\n",
       "| J_PC2 |  0.82639003 | 2.28505485 | 1.201602153 |  0.6877401 | 0.49161644 | 0.2168158476 | 24.082537 |\n",
       "| J_PC3 | -3.58061442 | 0.02785858 | 2.348108339 | -1.5248932 | 0.12728574 | 0.0002794123 |  2.777617 |\n",
       "| PD1% |  0.04632573 | 1.04741553 | 0.085411770 |  0.5423811 | 0.58755599 | 0.8859646192 |  1.238288 |\n",
       "| TIM3% |  0.04632573 | 1.04741553 | 0.085411770 |  0.5423811 | 0.58755599 | 0.8859646192 |  1.238288 |\n",
       "| LAG3% | -1.04970931 | 0.35003949 | 0.926044771 | -1.1335406 | 0.25698732 | 0.0569988775 |  2.149650 |\n",
       "| log10shann | -0.55235721 | 0.57559142 | 1.026125645 | -0.5382939 | 0.59037414 | 0.0770326037 |  4.300847 |\n",
       "| gliph_n | -0.01022878 | 0.98982336 | 0.009669639 | -1.0578239 | 0.29013574 | 0.9712407320 |  1.008762 |\n",
       "\n"
      ],
      "text/plain": [
       "           coef        exp(coef)  SE          z          Pr(>|z|)  \n",
       "EM%        -0.03720057 0.96348287 0.135127191 -0.2753004 0.78308544\n",
       "CM%        -0.03968371 0.96109337 0.122674347 -0.3234883 0.74632550\n",
       "Naïve%     -0.20035284 0.81844192 0.142163503 -1.4093128 0.15874270\n",
       "SCM%        0.20557300 1.22822863 0.110033670  1.8682736 0.06172395\n",
       "TE%         0.02385577 1.02414259 0.035295384  0.6758891 0.49911103\n",
       "HLA_PC1    -0.07516549 0.92758997 0.196209227 -0.3830884 0.70165419\n",
       "HLA_PC2     0.05401960 1.05550529 0.257507591  0.2097787 0.83384043\n",
       "HLA_PC3    -0.05952599 0.94221105 0.207823017 -0.2864263 0.77455161\n",
       "V_PC1       0.26318684 1.30106979 0.262662282  1.0019971 0.31634500\n",
       "V_PC2       1.35587567 3.88015719 1.497105169  0.9056649 0.36511322\n",
       "V_PC3      -0.69436713 0.49939040 1.033294330 -0.6719936 0.50158780\n",
       "J_PC1       0.45202336 1.57148866 0.452516914  0.9989093 0.31783862\n",
       "J_PC2       0.82639003 2.28505485 1.201602153  0.6877401 0.49161644\n",
       "J_PC3      -3.58061442 0.02785858 2.348108339 -1.5248932 0.12728574\n",
       "PD1%        0.04632573 1.04741553 0.085411770  0.5423811 0.58755599\n",
       "TIM3%       0.04632573 1.04741553 0.085411770  0.5423811 0.58755599\n",
       "LAG3%      -1.04970931 0.35003949 0.926044771 -1.1335406 0.25698732\n",
       "log10shann -0.55235721 0.57559142 1.026125645 -0.5382939 0.59037414\n",
       "gliph_n    -0.01022878 0.98982336 0.009669639 -1.0578239 0.29013574\n",
       "           lower.95     upper.95 \n",
       "EM%        0.7393047943  1.255638\n",
       "CM%        0.7556922877  1.222324\n",
       "Naïve%     0.6194098021  1.081428\n",
       "SCM%       0.9899616899  1.523842\n",
       "TE%        0.9556897816  1.097498\n",
       "HLA_PC1    0.6314550595  1.362604\n",
       "HLA_PC2    0.6371908849  1.748442\n",
       "HLA_PC3    0.6269731182  1.415949\n",
       "V_PC1      0.7775387697  2.177104\n",
       "V_PC2      0.2063056349 72.977259\n",
       "V_PC3      0.0659019794  3.784268\n",
       "J_PC1      0.6473336089  3.814998\n",
       "J_PC2      0.2168158476 24.082537\n",
       "J_PC3      0.0002794123  2.777617\n",
       "PD1%       0.8859646192  1.238288\n",
       "TIM3%      0.8859646192  1.238288\n",
       "LAG3%      0.0569988775  2.149650\n",
       "log10shann 0.0770326037  4.300847\n",
       "gliph_n    0.9712407320  1.008762"
      ]
     },
     "metadata": {},
     "output_type": "display_data"
    }
   ],
   "source": [
    "feat_lr_mat"
   ]
  },
  {
   "cell_type": "code",
   "execution_count": 123,
   "metadata": {
    "vscode": {
     "languageId": "r"
    }
   },
   "outputs": [],
   "source": [
    "fdr_df <- as.matrix(p.adjust(feat_lr_mat[,5], method = \"fdr\"))\n",
    "colnames(fdr_df)[1] <- \"fdr\"\n",
    "feat_lr_mat <- cbind(feat_lr_mat, fdr_df)"
   ]
  },
  {
   "cell_type": "code",
   "execution_count": 124,
   "metadata": {
    "vscode": {
     "languageId": "r"
    }
   },
   "outputs": [],
   "source": [
    "feat_lr_mat <- as.data.frame(feat_lr_mat)"
   ]
  },
  {
   "cell_type": "code",
   "execution_count": 125,
   "metadata": {
    "vscode": {
     "languageId": "r"
    }
   },
   "outputs": [],
   "source": [
    "feat_lr_mat$Feature <- rownames(feat_lr_mat)"
   ]
  },
  {
   "cell_type": "code",
   "execution_count": 126,
   "metadata": {
    "vscode": {
     "languageId": "r"
    }
   },
   "outputs": [],
   "source": [
    "feat_lr_mat$mean <- feat_lr_mat$`exp(coef)`\n",
    "feat_lr_mat$lower <- feat_lr_mat$`lower.95`\n",
    "feat_lr_mat$upper <- feat_lr_mat$`upper.95`"
   ]
  },
  {
   "cell_type": "code",
   "execution_count": 127,
   "metadata": {
    "vscode": {
     "languageId": "r"
    }
   },
   "outputs": [],
   "source": [
    "feat_lr_mat$OR <- as.character(round(feat_lr_mat$`exp(coef)`, 2) )\n",
    "feat_lr_mat$p <- as.character(round(feat_lr_mat$`Pr(>|z|)`, 2) )\n",
    "feat_lr_mat$FDR <- as.character(round(feat_lr_mat$fdr, 2) )"
   ]
  },
  {
   "cell_type": "code",
   "execution_count": 130,
   "metadata": {
    "vscode": {
     "languageId": "r"
    }
   },
   "outputs": [],
   "source": [
    "p3 <- feat_lr_mat |>\n",
    "  forestplot(\n",
    "    labeltext = c(Feature, OR, p, FDR),\n",
    "    clip = c(0, 2), \n",
    "    boxsize = 0.2,\n",
    "    vertices = TRUE,\n",
    "    xlog = FALSE, zero = 1\n",
    "  ) |>\n",
    "  fp_set_style(\n",
    "    box = \"royalblue\",\n",
    "    line = \"darkblue\",\n",
    "    summary = \"royalblue\"\n",
    "  ) |>\n",
    "  fp_add_header(\n",
    "    Feature = c(\"\", \"Feature\"),\n",
    "    OR = c(\"\", \"OR\"),\n",
    "    p = c(\"\", \"p value\"),\n",
    "    FDR = c(\"\", \"FDR\")\n",
    "  )\n"
   ]
  },
  {
   "cell_type": "code",
   "execution_count": 131,
   "metadata": {
    "vscode": {
     "languageId": "r"
    }
   },
   "outputs": [
    {
     "data": {
      "image/png": "[encoded data removed]",
      "text/plain": [
       "plot without title"
      ]
     },
     "metadata": {
      "image/png": {
       "height": 420,
       "width": 420
      }
     },
     "output_type": "display_data"
    }
   ],
   "source": [
    "p3"
   ]
  },
  {
   "cell_type": "code",
   "execution_count": 132,
   "metadata": {
    "vscode": {
     "languageId": "r"
    }
   },
   "outputs": [
    {
     "data": {
      "text/html": [
       "<strong>pdf:</strong> 2"
      ],
      "text/latex": [
       "\\textbf{pdf:} 2"
      ],
      "text/markdown": [
       "**pdf:** 2"
      ],
      "text/plain": [
       "pdf \n",
       "  2 "
      ]
     },
     "metadata": {},
     "output_type": "display_data"
    }
   ],
   "source": [
    "pdf(paste0(plotpath, \"forestplot_X01.pdf\"), width=6, height=8)\n",
    "p2\n",
    "dev.off()"
   ]
  },
  {
   "cell_type": "code",
   "execution_count": null,
   "metadata": {
    "vscode": {
     "languageId": "r"
    }
   },
   "outputs": [],
   "source": []
  },
  {
   "cell_type": "code",
   "execution_count": null,
   "metadata": {
    "vscode": {
     "languageId": "r"
    }
   },
   "outputs": [],
   "source": [
    "pdf(file = paste0(plotpath,\"Univar_forestplot.pdf\"),\n",
    "    width = 7, height = 10,\n",
    "    useDingbats = FALSE, onefile = F)\n",
    "forestplot(tabtext, hrs, new_page = TRUE, xlog = TRUE,\n",
    "                   title = \"Survival analysis (iMATRIX-atezo)(p-value, FDR)\", boxsize = 0.25)\n",
    "dev.off()"
   ]
  },
  {
   "cell_type": "code",
   "execution_count": null,
   "metadata": {
    "vscode": {
     "languageId": "r"
    }
   },
   "outputs": [],
   "source": []
  },
  {
   "cell_type": "markdown",
   "metadata": {
    "vscode": {
     "languageId": "r"
    }
   },
   "source": [
    " # spiderplots - AUC"
   ]
  },
  {
   "cell_type": "code",
   "execution_count": null,
   "metadata": {
    "vscode": {
     "languageId": "r"
    }
   },
   "outputs": [],
   "source": [
    "meta_div$Relapse[ is.na(meta_div$Relapse) ] <- 0\n",
    "meta_div$Relapse <- as.factor(meta_div$Relapse)"
   ]
  },
  {
   "cell_type": "code",
   "execution_count": null,
   "metadata": {
    "vscode": {
     "languageId": "r"
    }
   },
   "outputs": [],
   "source": [
    "cfdna <- meta_div[ which(meta_div$sampletype == \"cfDNA\"),]"
   ]
  },
  {
   "cell_type": "code",
   "execution_count": null,
   "metadata": {
    "vscode": {
     "languageId": "r"
    }
   },
   "outputs": [],
   "source": [
    "pbmc1 <- meta_div[ meta_div$sampletype == \"PBMC\" & !is.na(meta_div$CD3),]\n",
    "pbmc1 <- pbmc1[ pbmc1$CD3 > 0,]"
   ]
  },
  {
   "cell_type": "code",
   "execution_count": null,
   "metadata": {
    "vscode": {
     "languageId": "r"
    }
   },
   "outputs": [],
   "source": [
    "pbmc1$cfTCR_shann <- cfdna[ match(pbmc1$sample_id, cfdna$sample_id), \"log10shann\"]"
   ]
  },
  {
   "cell_type": "code",
   "execution_count": null,
   "metadata": {
    "vscode": {
     "languageId": "r"
    }
   },
   "outputs": [],
   "source": [
    "pbmc1$cyclenum <- as.numeric(gsub(\"X0\", \"\", pbmc1$cycle) )"
   ]
  },
  {
   "cell_type": "code",
   "execution_count": null,
   "metadata": {
    "vscode": {
     "languageId": "r"
    }
   },
   "outputs": [],
   "source": [
    "mytab <- table(pbmc1$Patient, pbmc1$cycle)\n",
    "mytab <- mytab[rowSums(mytab == 1) > 1, ]\n",
    "# baseline_patients <- rownames(mytab)[mytab[, 1] == 1]\n",
    "df1 <- pbmc1[pbmc1$Patient %in% rownames(mytab), ]"
   ]
  },
  {
   "cell_type": "code",
   "execution_count": null,
   "metadata": {
    "vscode": {
     "languageId": "r"
    }
   },
   "outputs": [],
   "source": [
    "dim(df1)"
   ]
  },
  {
   "cell_type": "code",
   "execution_count": null,
   "metadata": {
    "vscode": {
     "languageId": "r"
    }
   },
   "outputs": [],
   "source": [
    "df1$cfTCR_shann <- cfdna[ match(df1$sample_id, cfdna$sample_id), \"log10shann\"]"
   ]
  },
  {
   "cell_type": "code",
   "execution_count": null,
   "metadata": {
    "vscode": {
     "languageId": "r"
    }
   },
   "outputs": [],
   "source": [
    "# result <- df1 %>%\n",
    "#     group_by(Patient) %>%\n",
    "#     mutate(DifferenceN = `Naïve%` - `Naïve%`[cycle == \"X01\"]) %>%\n",
    "#     mutate(DifferenceCM = `CM%` - `CM%`[cycle == \"X01\"]) %>%\n",
    "#     mutate(DifferenceSCM = `SCM%` - `SCM%`[cycle == \"X01\"]) %>%\n",
    "#     mutate(DifferenceEM = `EM%` - `EM%`[cycle == \"X01\"]) %>%\n",
    "#     mutate(DifferenceTE = `TE%` - `TE%`[cycle == \"X01\"]) %>%\n",
    "#     mutate(DifferenceLAG = `LAG3%` - `LAG3%`[cycle == \"X01\"]) %>%\n",
    "#     mutate(DifferenceTIM = `TIM3%` - `TIM3%`[cycle == \"X01\"]) %>%\n",
    "#     mutate(DifferencePD1 = `PD1%` - `PD1%`[cycle == \"X01\"]) %>%\n",
    "#     mutate(DifferenceTCR = log10shann - log10shann[cycle == \"X01\"])  %>%\n",
    "#     mutate(DifferencecfTCR = cfTCR_shann - cfTCR_shann[cycle == \"X01\"])\n"
   ]
  },
  {
   "cell_type": "code",
   "execution_count": null,
   "metadata": {
    "vscode": {
     "languageId": "r"
    }
   },
   "outputs": [],
   "source": [
    "library(pracma)"
   ]
  },
  {
   "cell_type": "code",
   "execution_count": null,
   "metadata": {
    "vscode": {
     "languageId": "r"
    }
   },
   "outputs": [],
   "source": [
    "result2 <- df1 %>%\n",
    "    group_by(Patient) %>%\n",
    "    mutate(AUC_N = trapz(cyclenum, `Naïve%`) / n() ) %>%\n",
    "    mutate(AUC_CM = trapz(cyclenum, `CM%`) / n() ) %>%\n",
    "    mutate(AUC_SCM = trapz(cyclenum, `SCM%`) / n()  ) %>%\n",
    "    mutate(AUC_EM = trapz(cyclenum, `EM%`) / n() ) %>%\n",
    "    mutate(AUC_TE = trapz(cyclenum, `TE%`) / n() ) %>%\n",
    "    mutate(AUC_LAG = trapz(cyclenum, `LAG3%`) / n() ) %>%\n",
    "    mutate(AUC_TIM = trapz(cyclenum, `TIM3%`) / n() ) %>%\n",
    "    mutate(AUC_PD1 = trapz(cyclenum, `PD1%`) / n() ) %>%\n",
    "    mutate(AUC_TCR = trapz(cyclenum, `log10shann`) / n() ) %>%\n",
    "     mutate(AUC_cfTCR = trapz(cyclenum, cfTCR_shann) / n() ) %>%\n",
    "    ungroup()"
   ]
  },
  {
   "cell_type": "code",
   "execution_count": null,
   "metadata": {
    "vscode": {
     "languageId": "r"
    }
   },
   "outputs": [],
   "source": [
    "mypts <- result2[ !duplicated(result2$Patient), ]\n",
    "# mypts <- mypts[ !is.na(mypts$AUC_TCR), ]"
   ]
  },
  {
   "cell_type": "code",
   "execution_count": null,
   "metadata": {
    "vscode": {
     "languageId": "r"
    }
   },
   "outputs": [],
   "source": [
    "# pca <- readr::read_rds(paste0(datapath, \"/HLA/INT_HLA_PCA_postqc.rds\"))"
   ]
  },
  {
   "cell_type": "code",
   "execution_count": null,
   "metadata": {
    "vscode": {
     "languageId": "r"
    }
   },
   "outputs": [],
   "source": [
    "# rownames(pca) <- paste0(\"CHP_\", \"\", rownames(pca))\n",
    "# rownames(pca) <- gsub(\"-.*\", \"\", rownames(pca))"
   ]
  },
  {
   "cell_type": "code",
   "execution_count": null,
   "metadata": {
    "vscode": {
     "languageId": "r"
    }
   },
   "outputs": [],
   "source": [
    "# head(pca)"
   ]
  },
  {
   "cell_type": "code",
   "execution_count": null,
   "metadata": {
    "vscode": {
     "languageId": "r"
    }
   },
   "outputs": [],
   "source": [
    "# mypts$HLA_PC1 <- pca[ match(mypts$Patient, rownames(pca)), \"PC1\"]\n",
    "# mypts$HLA_PC2 <- pca[ match(mypts$Patient, rownames(pca)), \"PC2\"]\n",
    "# mypts$HLA_PC3 <- pca[ match(mypts$Patient, rownames(pca)), \"PC3\"]"
   ]
  },
  {
   "cell_type": "code",
   "execution_count": null,
   "metadata": {
    "vscode": {
     "languageId": "r"
    }
   },
   "outputs": [],
   "source": [
    "head(mypts)"
   ]
  },
  {
   "cell_type": "code",
   "execution_count": null,
   "metadata": {
    "vscode": {
     "languageId": "r"
    }
   },
   "outputs": [],
   "source": [
    "# myfit0 <- lm(AUC_TCR ~  HLA_PC2 + HLA_PC3 + cancergroup + Age, data= mypts)\n",
    "# myfit1 <- lm(AUC_TCR ~  HLA_PC1 + HLA_PC2 + HLA_PC3 + cancergroup + Age, data= mypts)\n",
    "\n",
    "# anova(myfit0, myfit1)"
   ]
  },
  {
   "cell_type": "code",
   "execution_count": null,
   "metadata": {
    "vscode": {
     "languageId": "r"
    }
   },
   "outputs": [],
   "source": [
    "# summary.lm(myfit1)"
   ]
  },
  {
   "cell_type": "code",
   "execution_count": null,
   "metadata": {
    "vscode": {
     "languageId": "r"
    }
   },
   "outputs": [],
   "source": [
    "# result_noX01 <- result[ result$cycle != \"X01\", ]"
   ]
  },
  {
   "cell_type": "code",
   "execution_count": null,
   "metadata": {
    "vscode": {
     "languageId": "r"
    }
   },
   "outputs": [],
   "source": [
    "# pbmc <- pbmc[ pbmc$CD3 > 0,]"
   ]
  },
  {
   "cell_type": "code",
   "execution_count": null,
   "metadata": {
    "vscode": {
     "languageId": "r"
    }
   },
   "outputs": [],
   "source": [
    "tmp <- mypts[!is.na(mypts$AUC_cfTCR),]"
   ]
  },
  {
   "cell_type": "code",
   "execution_count": null,
   "metadata": {
    "vscode": {
     "languageId": "r"
    }
   },
   "outputs": [],
   "source": [
    "mymat <- as.matrix(tmp[ , c( \"AUC_N\", \"AUC_SCM\", \"AUC_CM\", \"AUC_EM\", \"AUC_TE\", \"AUC_LAG\", \"AUC_PD1\", \"AUC_cfTCR\")])"
   ]
  },
  {
   "cell_type": "code",
   "execution_count": null,
   "metadata": {
    "vscode": {
     "languageId": "r"
    }
   },
   "outputs": [],
   "source": [
    "rownames(mymat) <- tmp$Patient"
   ]
  },
  {
   "cell_type": "code",
   "execution_count": null,
   "metadata": {
    "vscode": {
     "languageId": "r"
    }
   },
   "outputs": [],
   "source": [
    "makematrix_4hm <- function(df, var, name ){\n",
    "    mymat <- df[[var]]\n",
    "names(mymat) <- df[[\"Patient\"]]\n",
    "mymat <- t(as.matrix(mymat))\n",
    "rownames(mymat) <- name\n",
    "    \n",
    "    return(mymat)\n",
    "}"
   ]
  },
  {
   "cell_type": "code",
   "execution_count": null,
   "metadata": {
    "vscode": {
     "languageId": "r"
    }
   },
   "outputs": [],
   "source": [
    "mycohort <- makematrix_4hm(tmp, \"Disease_type\", \"disease\")\n",
    "mysample <- makematrix_4hm(tmp, \"cancergroup\", \"cancergroup\")\n",
    "mygroup <- makematrix_4hm(tmp, \"Relapse\", \"Relapse\")"
   ]
  },
  {
   "cell_type": "code",
   "execution_count": null,
   "metadata": {
    "vscode": {
     "languageId": "r"
    }
   },
   "outputs": [],
   "source": [
    "myatc <- makematrix_4hm(tmp, \"ATC\", \"ATC\")"
   ]
  },
  {
   "cell_type": "code",
   "execution_count": null,
   "metadata": {
    "vscode": {
     "languageId": "r"
    }
   },
   "outputs": [],
   "source": [
    "myage <- makematrix_4hm(tmp, \"Age\", \"Age\")"
   ]
  },
  {
   "cell_type": "code",
   "execution_count": null,
   "metadata": {
    "vscode": {
     "languageId": "r"
    }
   },
   "outputs": [],
   "source": [
    "age_col <- c(\"blue\", \"red\")\n",
    "atc_col <- c(\"blue\", \"red\")"
   ]
  },
  {
   "cell_type": "code",
   "execution_count": null,
   "metadata": {
    "vscode": {
     "languageId": "r"
    }
   },
   "outputs": [],
   "source": [
    "group_col <- c(\"blue\", \"red\", \"green\")\n",
    "names(group_col) <- names(table(tmp$Relapse))"
   ]
  },
  {
   "cell_type": "code",
   "execution_count": null,
   "metadata": {
    "vscode": {
     "languageId": "r"
    }
   },
   "outputs": [],
   "source": [
    "# cohort_col <- c(\"blue\", \"red\", \"green\", \"orange\", \"purple\", \"yellow\", \"black\", \"grey\", \"pink\", \n",
    "# \"brown\", \"cyan\", \"magenta\", \"navy\", \"maroon\", \"gray\",\"gold\", \"darkgreen\") \n",
    "# names(cohort_col) <- names(table(allpbmcs$Disease_type))"
   ]
  },
  {
   "cell_type": "code",
   "execution_count": null,
   "metadata": {
    "vscode": {
     "languageId": "r"
    }
   },
   "outputs": [],
   "source": [
    "type_col <- c(\"blue\", \"red\", \"green\", \"orange\", \"purple\")\n",
    "names(type_col) <- names(table(tmp$cancergroup))"
   ]
  },
  {
   "cell_type": "code",
   "execution_count": null,
   "metadata": {
    "vscode": {
     "languageId": "r"
    }
   },
   "outputs": [],
   "source": [
    "library(ComplexHeatmap)"
   ]
  },
  {
   "cell_type": "code",
   "execution_count": null,
   "metadata": {
    "vscode": {
     "languageId": "r"
    }
   },
   "outputs": [],
   "source": [
    "age_hm <- Heatmap(myage, col = age_col,  height = unit(1,\"cm\"))\n",
    "atc_hm <- Heatmap(myatc, col = atc_col,  height = unit(1,\"cm\"))"
   ]
  },
  {
   "cell_type": "code",
   "execution_count": null,
   "metadata": {
    "vscode": {
     "languageId": "r"
    }
   },
   "outputs": [],
   "source": [
    "cohort_hm <- Heatmap(mycohort, col = cohort_col, height = unit(1,\"cm\"))\n",
    "sample_hm <- Heatmap(mysample, col = type_col, , height = unit(1,\"cm\"))\n",
    "group_hm <- Heatmap(mygroup, col = group_col, , height = unit(1,\"cm\"))"
   ]
  },
  {
   "cell_type": "code",
   "execution_count": null,
   "metadata": {
    "vscode": {
     "languageId": "r"
    }
   },
   "outputs": [],
   "source": [
    "hm <- Heatmap(t(scale(mymat)))"
   ]
  },
  {
   "cell_type": "code",
   "execution_count": null,
   "metadata": {
    "vscode": {
     "languageId": "r"
    }
   },
   "outputs": [],
   "source": [
    "hm %v%  sample_hm %v% group_hm %v% age_hm %v%  atc_hm"
   ]
  },
  {
   "cell_type": "code",
   "execution_count": null,
   "metadata": {
    "vscode": {
     "languageId": "r"
    }
   },
   "outputs": [],
   "source": [
    "fit1 <- lmerTest::lmer( Relapse ~ AUC_N + AUC_TE + AUC_LAG + AUC_TCR + (1 | Patient), data = mypts)\n"
   ]
  },
  {
   "cell_type": "code",
   "execution_count": null,
   "metadata": {
    "vscode": {
     "languageId": "r"
    }
   },
   "outputs": [],
   "source": [
    "# logistic regression\n",
    "mypts$Relapse <- as.factor(mypts$Relapse)\n",
    "mypts$Relapse <- relevel(mypts$Relapse, ref = \"0\")"
   ]
  },
  {
   "cell_type": "code",
   "execution_count": null,
   "metadata": {
    "vscode": {
     "languageId": "r"
    }
   },
   "outputs": [],
   "source": [
    "fit1 <- lmerTest::lmer( Relapse ~ AUC_N + AUC_TE + AUC_LAG + AUC_TCR + (1 | Patient), data = mypts)\n",
    "\n",
    "fit2 <- lme4::glmer( Relapse ~ AUC_N + AUC_TE + AUC_LAG + (1 | Patient), data = mypts, family = binomial)"
   ]
  },
  {
   "cell_type": "code",
   "execution_count": null,
   "metadata": {
    "vscode": {
     "languageId": "r"
    }
   },
   "outputs": [],
   "source": [
    "lmer"
   ]
  },
  {
   "cell_type": "code",
   "execution_count": null,
   "metadata": {
    "vscode": {
     "languageId": "r"
    }
   },
   "outputs": [],
   "source": [
    "anova(fit1)"
   ]
  },
  {
   "cell_type": "code",
   "execution_count": null,
   "metadata": {
    "vscode": {
     "languageId": "r"
    }
   },
   "outputs": [],
   "source": [
    "anova(fit1, fit2)"
   ]
  },
  {
   "cell_type": "code",
   "execution_count": null,
   "metadata": {
    "vscode": {
     "languageId": "r"
    }
   },
   "outputs": [],
   "source": []
  },
  {
   "cell_type": "markdown",
   "metadata": {},
   "source": [
    "# Perturbation scores"
   ]
  },
  {
   "cell_type": "code",
   "execution_count": null,
   "metadata": {
    "vscode": {
     "languageId": "r"
    }
   },
   "outputs": [],
   "source": [
    "cfdna <- meta_div[ which(meta_div$sampletype == \"cfDNA\"),]"
   ]
  },
  {
   "cell_type": "code",
   "execution_count": null,
   "metadata": {
    "vscode": {
     "languageId": "r"
    }
   },
   "outputs": [],
   "source": [
    "pbmc1 <- meta_div[ meta_div$sampletype == \"PBMC\" & !is.na(meta_div$CD3),]\n",
    "pbmc1 <- pbmc1[ pbmc1$CD3 > 0,]"
   ]
  },
  {
   "cell_type": "code",
   "execution_count": null,
   "metadata": {
    "vscode": {
     "languageId": "r"
    }
   },
   "outputs": [],
   "source": [
    "pbmc1$cfTCR_shann <- cfdna[ match(pbmc1$sample_id, cfdna$sample_id), \"log10shann\"]"
   ]
  },
  {
   "cell_type": "code",
   "execution_count": null,
   "metadata": {
    "vscode": {
     "languageId": "r"
    }
   },
   "outputs": [],
   "source": [
    "pbmc1$cyclenum <- as.numeric(gsub(\"X0\", \"\", pbmc1$cycle) )"
   ]
  },
  {
   "cell_type": "code",
   "execution_count": null,
   "metadata": {
    "vscode": {
     "languageId": "r"
    }
   },
   "outputs": [],
   "source": [
    "pbmc1$scaled_N <- scale(pbmc1$`Naïve%`)\n",
    "pbmc1$scaled_CM <- scale(pbmc1$`CM%`)\n",
    "pbmc1$scaled_SCM <- scale(pbmc1$`SCM%`)\n",
    "pbmc1$scaled_EM <- scale(pbmc1$`EM%`)\n",
    "pbmc1$scaled_TE <- scale(pbmc1$`TE%`)\n",
    "pbmc1$scaled_LAG <- scale(pbmc1$`LAG3%`)\n",
    "pbmc1$scaled_TIM <- scale(pbmc1$`TIM3%`)\n",
    "pbmc1$scaled_PD1 <- scale(pbmc1$`PD1%`)\n",
    "pbmc1$scaled_TCR <- scale(pbmc1$log10shann)\n",
    "pbmc1$scaled_cfTCR <- scale(pbmc1$cfTCR_shann)"
   ]
  },
  {
   "cell_type": "code",
   "execution_count": null,
   "metadata": {
    "vscode": {
     "languageId": "r"
    }
   },
   "outputs": [],
   "source": [
    "mytab <- table(pbmc1$Patient, pbmc1$cycle)\n",
    "mytab <- mytab[rowSums(mytab == 1) > 1, ]\n",
    "# baseline_patients <- rownames(mytab)[mytab[, 1] == 1]\n",
    "df1 <- pbmc1[pbmc1$Patient %in% rownames(mytab), ]"
   ]
  },
  {
   "cell_type": "code",
   "execution_count": null,
   "metadata": {
    "vscode": {
     "languageId": "r"
    }
   },
   "outputs": [],
   "source": [
    "dim(df1)"
   ]
  },
  {
   "cell_type": "code",
   "execution_count": null,
   "metadata": {
    "vscode": {
     "languageId": "r"
    }
   },
   "outputs": [],
   "source": [
    "rownames(df1) <- df1$sample_id"
   ]
  },
  {
   "cell_type": "code",
   "execution_count": null,
   "metadata": {
    "vscode": {
     "languageId": "r"
    }
   },
   "outputs": [],
   "source": [
    "result$Relapse[ is.na(result$Relapse) ] <- 0\n",
    "result$Relapse <- as.factor(result$Relapse)"
   ]
  },
  {
   "cell_type": "code",
   "execution_count": null,
   "metadata": {
    "vscode": {
     "languageId": "r"
    }
   },
   "outputs": [],
   "source": [
    "result2 <- df1 %>%\n",
    "    group_by(Patient) %>%\n",
    "    mutate(AUC_N = trapz(cyclenum, scaled_N) / n() ) %>%\n",
    "    mutate(AUC_CM = trapz(cyclenum, scaled_CM) / n() ) %>%\n",
    "    mutate(AUC_SCM = trapz(cyclenum, scaled_SCM) / n()  ) %>%\n",
    "    mutate(AUC_EM = trapz(cyclenum, scaled_EM) / n() ) %>%\n",
    "    mutate(AUC_TE = trapz(cyclenum, scaled_TE) / n() ) %>%\n",
    "    mutate(AUC_LAG = trapz(cyclenum, scaled_LAG) / n() ) %>%\n",
    "    mutate(AUC_TIM = trapz(cyclenum, scaled_TIM) / n() ) %>%\n",
    "    mutate(AUC_PD1 = trapz(cyclenum, scaled_PD1) / n() ) %>%\n",
    "    mutate(AUC_TCR = trapz(cyclenum, scaled_TCR) / n() ) %>%\n",
    "    mutate(AUC_cfTCR = trapz(cyclenum, scaled_cfTCR) / n() ) %>%\n",
    "    ungroup()"
   ]
  },
  {
   "cell_type": "code",
   "execution_count": null,
   "metadata": {
    "vscode": {
     "languageId": "r"
    }
   },
   "outputs": [],
   "source": [
    "mypts <- result2[ !duplicated(result2$Patient), ]\n",
    "# mypts <- mypts[ !is.na(mypts$AUC_TCR), ]"
   ]
  },
  {
   "cell_type": "code",
   "execution_count": null,
   "metadata": {
    "vscode": {
     "languageId": "r"
    }
   },
   "outputs": [],
   "source": [
    "mypts <- as.data.frame(mypts)"
   ]
  },
  {
   "cell_type": "code",
   "execution_count": null,
   "metadata": {
    "vscode": {
     "languageId": "r"
    }
   },
   "outputs": [],
   "source": [
    "rownames(mypts) <- mypts$sample_id"
   ]
  },
  {
   "cell_type": "code",
   "execution_count": null,
   "metadata": {
    "vscode": {
     "languageId": "r"
    }
   },
   "outputs": [],
   "source": [
    "# result <- as.data.frame(result)\n",
    "# rownames(result) <- result$sample_id"
   ]
  },
  {
   "cell_type": "code",
   "execution_count": null,
   "metadata": {
    "vscode": {
     "languageId": "r"
    }
   },
   "outputs": [],
   "source": [
    "tmp <- as.data.frame(c(mean(mypts$AUC_N), mypts$AUC_N ) )\n",
    "rownames(tmp) <- c(\"mean\", rownames(mypts))\n",
    "mypts$dist_N <- as.matrix(dist(tmp))[-1,1]\n",
    "\n",
    "tmp <- as.data.frame(c(mean(mypts$AUC_CM), mypts$AUC_CM ) )\n",
    "rownames(tmp) <- c(\"mean\", rownames(mypts))\n",
    "mypts$dist_CM <- as.matrix(dist(tmp))[-1,1]\n",
    "\n",
    "tmp <- as.data.frame(c(mean(mypts$AUC_SCM), mypts$AUC_SCM ) )\n",
    "rownames(tmp) <- c(\"mean\", rownames(mypts))\n",
    "mypts$dist_SCM <- as.matrix(dist(tmp))[-1,1]\n",
    "\n",
    "tmp <- as.data.frame(c(mean(mypts$AUC_EM), mypts$AUC_EM ) )\n",
    "rownames(tmp) <- c(\"mean\", rownames(mypts))\n",
    "mypts$dist_EM <- as.matrix(dist(tmp))[-1,1]\n",
    "\n",
    "tmp <- as.data.frame(c(mean(mypts$AUC_TE), mypts$AUC_TE ) )\n",
    "rownames(tmp) <- c(\"mean\", rownames(mypts))\n",
    "mypts$dist_TE <- as.matrix(dist(tmp))[-1,1]\n",
    "\n",
    "tmp <- as.data.frame(c(mean(mypts$AUC_LAG, na.rm = T), mypts$AUC_LAG ) )\n",
    "rownames(tmp) <- c(\"mean\", rownames(mypts))\n",
    "mypts$dist_LAG <- as.matrix(dist(tmp))[-1,1]\n",
    "\n",
    "tmp <- as.data.frame(c(mean(mypts$AUC_TIM, na.rm = T), mypts$AUC_TIM ) )\n",
    "rownames(tmp) <- c(\"mean\", rownames(mypts))\n",
    "mypts$dist_TIM <- as.matrix(dist(tmp))[-1,1]\n",
    "\n",
    "tmp <- as.data.frame(c(mean(mypts$AUC_PD1, na.rm = T), mypts$AUC_PD1 ) )\n",
    "rownames(tmp) <- c(\"mean\", rownames(mypts))\n",
    "mypts$dist_PD1 <- as.matrix(dist(tmp))[-1,1]\n",
    "\n",
    "tmp <- as.data.frame(c(mean(mypts$AUC_TCR, na.rm = T), mypts$AUC_TCR ) )\n",
    "rownames(tmp) <- c(\"mean\", rownames(mypts))\n",
    "mypts$dist_TCR <- as.matrix(dist(tmp))[-1,1]\n",
    "\n",
    "tmp <- as.data.frame(c(mean(mypts$AUC_cfTCR, na.rm = T), mypts$AUC_cfTCR ) )\n",
    "rownames(tmp) <- c(\"mean\", rownames(mypts))\n",
    "mypts$dist_cfTCR <- as.matrix(dist(tmp))[-1,1]"
   ]
  },
  {
   "cell_type": "code",
   "execution_count": null,
   "metadata": {
    "vscode": {
     "languageId": "r"
    }
   },
   "outputs": [],
   "source": [
    "head(mypts)"
   ]
  },
  {
   "cell_type": "code",
   "execution_count": null,
   "metadata": {
    "vscode": {
     "languageId": "r"
    }
   },
   "outputs": [],
   "source": [
    "head(mypts$Relapse)"
   ]
  },
  {
   "cell_type": "code",
   "execution_count": null,
   "metadata": {
    "vscode": {
     "languageId": "r"
    }
   },
   "outputs": [],
   "source": [
    "# logistic regression\n",
    "mypts$Relapse <- as.factor(mypts$Relapse)\n",
    "mypts$Relapse <- relevel(mypts$Relapse, ref = \"0\")\n",
    "\n",
    "rms::lrm( Relapse ~ (dist_N + dist_TE + dist_PD1)^3 + cancergroup, data = mypts)"
   ]
  },
  {
   "cell_type": "code",
   "execution_count": null,
   "metadata": {
    "vscode": {
     "languageId": "r"
    }
   },
   "outputs": [],
   "source": []
  },
  {
   "cell_type": "code",
   "execution_count": null,
   "metadata": {
    "vscode": {
     "languageId": "r"
    }
   },
   "outputs": [],
   "source": [
    "tmp <- mypts#[!is.na(mypts$AUC_cfTCR),]"
   ]
  },
  {
   "cell_type": "code",
   "execution_count": null,
   "metadata": {
    "vscode": {
     "languageId": "r"
    }
   },
   "outputs": [],
   "source": [
    "mymat <- as.matrix(tmp[ , c( \"dist_N\", \"dist_CM\", \"dist_SCM\", \"dist_EM\", \"dist_TE\", \"dist_LAG\", \"dist_TIM\", \"dist_PD1\")])"
   ]
  },
  {
   "cell_type": "code",
   "execution_count": null,
   "metadata": {
    "vscode": {
     "languageId": "r"
    }
   },
   "outputs": [],
   "source": [
    "rownames(mymat) <- tmp$Patient"
   ]
  },
  {
   "cell_type": "code",
   "execution_count": null,
   "metadata": {
    "vscode": {
     "languageId": "r"
    }
   },
   "outputs": [],
   "source": [
    "makematrix_4hm <- function(df, var, name ){\n",
    "    mymat <- df[[var]]\n",
    "names(mymat) <- df[[\"Patient\"]]\n",
    "mymat <- t(as.matrix(mymat))\n",
    "rownames(mymat) <- name\n",
    "    \n",
    "    return(mymat)\n",
    "}"
   ]
  },
  {
   "cell_type": "code",
   "execution_count": null,
   "metadata": {
    "vscode": {
     "languageId": "r"
    }
   },
   "outputs": [],
   "source": [
    "mycohort <- makematrix_4hm(tmp, \"Disease_type\", \"disease\")\n",
    "mysample <- makematrix_4hm(tmp, \"cancergroup\", \"cancergroup\")\n",
    "mygroup <- makematrix_4hm(tmp, \"Relapse\", \"Relapse\")"
   ]
  },
  {
   "cell_type": "code",
   "execution_count": null,
   "metadata": {
    "vscode": {
     "languageId": "r"
    }
   },
   "outputs": [],
   "source": [
    "myatc <- makematrix_4hm(tmp, \"ATC\", \"ATC\")"
   ]
  },
  {
   "cell_type": "code",
   "execution_count": null,
   "metadata": {
    "vscode": {
     "languageId": "r"
    }
   },
   "outputs": [],
   "source": [
    "myage <- makematrix_4hm(tmp, \"Age\", \"Age\")"
   ]
  },
  {
   "cell_type": "code",
   "execution_count": null,
   "metadata": {
    "vscode": {
     "languageId": "r"
    }
   },
   "outputs": [],
   "source": [
    "age_col <- c(\"blue\", \"red\")\n",
    "atc_col <- c(\"blue\", \"red\")"
   ]
  },
  {
   "cell_type": "code",
   "execution_count": null,
   "metadata": {
    "vscode": {
     "languageId": "r"
    }
   },
   "outputs": [],
   "source": [
    "group_col <- c(\"blue\", \"red\", \"green\")\n",
    "names(group_col) <- names(table(tmp$Relapse))"
   ]
  },
  {
   "cell_type": "code",
   "execution_count": null,
   "metadata": {
    "vscode": {
     "languageId": "r"
    }
   },
   "outputs": [],
   "source": [
    "# cohort_col <- c(\"blue\", \"red\", \"green\", \"orange\", \"purple\", \"yellow\", \"black\", \"grey\", \"pink\", \n",
    "# \"brown\", \"cyan\", \"magenta\", \"navy\", \"maroon\", \"gray\",\"gold\", \"darkgreen\") \n",
    "# names(cohort_col) <- names(table(allpbmcs$Disease_type))"
   ]
  },
  {
   "cell_type": "code",
   "execution_count": null,
   "metadata": {
    "vscode": {
     "languageId": "r"
    }
   },
   "outputs": [],
   "source": [
    "type_col <- c(\"blue\", \"red\", \"green\", \"orange\", \"purple\")\n",
    "names(type_col) <- names(table(tmp$cancergroup))"
   ]
  },
  {
   "cell_type": "code",
   "execution_count": null,
   "metadata": {
    "vscode": {
     "languageId": "r"
    }
   },
   "outputs": [],
   "source": [
    "library(ComplexHeatmap)"
   ]
  },
  {
   "cell_type": "code",
   "execution_count": null,
   "metadata": {
    "vscode": {
     "languageId": "r"
    }
   },
   "outputs": [],
   "source": [
    "age_hm <- Heatmap(myage, col = age_col,  height = unit(1,\"cm\"))\n",
    "atc_hm <- Heatmap(myatc, col = atc_col,  height = unit(1,\"cm\"))"
   ]
  },
  {
   "cell_type": "code",
   "execution_count": null,
   "metadata": {
    "vscode": {
     "languageId": "r"
    }
   },
   "outputs": [],
   "source": [
    "cohort_hm <- Heatmap(mycohort, col = cohort_col, height = unit(1,\"cm\"))\n",
    "sample_hm <- Heatmap(mysample, col = type_col, , height = unit(1,\"cm\"))\n",
    "group_hm <- Heatmap(mygroup, col = group_col, , height = unit(1,\"cm\"))"
   ]
  },
  {
   "cell_type": "code",
   "execution_count": null,
   "metadata": {
    "vscode": {
     "languageId": "r"
    }
   },
   "outputs": [],
   "source": [
    "hm <- Heatmap(t(scale(mymat)))"
   ]
  },
  {
   "cell_type": "code",
   "execution_count": null,
   "metadata": {
    "vscode": {
     "languageId": "r"
    }
   },
   "outputs": [],
   "source": [
    "hm %v%  sample_hm %v% group_hm %v% age_hm %v%  atc_hm"
   ]
  },
  {
   "cell_type": "code",
   "execution_count": null,
   "metadata": {
    "vscode": {
     "languageId": "r"
    }
   },
   "outputs": [],
   "source": []
  },
  {
   "cell_type": "code",
   "execution_count": null,
   "metadata": {
    "vscode": {
     "languageId": "r"
    }
   },
   "outputs": [],
   "source": []
  },
  {
   "cell_type": "code",
   "execution_count": null,
   "metadata": {
    "vscode": {
     "languageId": "r"
    }
   },
   "outputs": [],
   "source": []
  }
 ],
 "metadata": {
  "kernelspec": {
   "display_name": "R 4.0",
   "language": "R",
   "name": "ir40"
  },
  "language_info": {
   "codemirror_mode": "r",
   "file_extension": ".r",
   "mimetype": "text/x-r-source",
   "name": "R",
   "pygments_lexer": "r",
   "version": "4.2.2"
  },
  "toc": {
   "base_numbering": 1,
   "nav_menu": {},
   "number_sections": false,
   "sideBar": true,
   "skip_h1_title": false,
   "title_cell": "Table of Contents",
   "title_sidebar": "Contents",
   "toc_cell": true,
   "toc_position": {
    "height": "calc(100% - 180px)",
    "left": "10px",
    "top": "150px",
    "width": "186.15px"
   },
   "toc_section_display": true,
   "toc_window_display": true
  }
 },
 "nbformat": 4,
 "nbformat_minor": 2
}

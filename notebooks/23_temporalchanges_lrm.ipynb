{
 "cells": [
  {
   "cell_type": "code",
   "execution_count": 2,
   "metadata": {
    "vscode": {
     "languageId": "r"
    }
   },
   "outputs": [
    {
     "data": {
      "text/html": [
       "'en_US.UTF-8/en_US.UTF-8/en_US.UTF-8/C/en_US.UTF-8/C'"
      ],
      "text/latex": [
       "'en\\_US.UTF-8/en\\_US.UTF-8/en\\_US.UTF-8/C/en\\_US.UTF-8/C'"
      ],
      "text/markdown": [
       "'en_US.UTF-8/en_US.UTF-8/en_US.UTF-8/C/en_US.UTF-8/C'"
      ],
      "text/plain": [
       "[1] \"en_US.UTF-8/en_US.UTF-8/en_US.UTF-8/C/en_US.UTF-8/C\""
      ]
     },
     "metadata": {},
     "output_type": "display_data"
    }
   ],
   "source": [
    "Sys.setlocale(category = \"LC_ALL\", locale = \"en_US.UTF-8\")"
   ]
  },
  {
   "attachments": {},
   "cell_type": "markdown",
   "metadata": {},
   "source": [
    "# Dependencies"
   ]
  },
  {
   "cell_type": "code",
   "execution_count": 3,
   "metadata": {
    "vscode": {
     "languageId": "r"
    }
   },
   "outputs": [],
   "source": [
    "pacman::p_load(dplyr, ggplot2, ggbeeswarm, ggpubr, ggsignif, cowplot, lsmeans, forestplot)"
   ]
  },
  {
   "attachments": {},
   "cell_type": "markdown",
   "metadata": {},
   "source": [
    "# Functions"
   ]
  },
  {
   "cell_type": "code",
   "execution_count": 4,
   "metadata": {
    "vscode": {
     "languageId": "r"
    }
   },
   "outputs": [],
   "source": [
    "source(\"/Users/anabbi/git/ped_CapTCRseq/R/ggplot2_theme.R\")\n",
    "source(\"/Users/anabbi/git/ped_CapTCRseq/R/color_schemes.R\")\n",
    "source(\"/Users/anabbi/git/ped_CapTCRseq/R/Misc_functions.R\")"
   ]
  },
  {
   "attachments": {},
   "cell_type": "markdown",
   "metadata": {},
   "source": [
    "# Paths"
   ]
  },
  {
   "cell_type": "code",
   "execution_count": 5,
   "metadata": {
    "vscode": {
     "languageId": "r"
    }
   },
   "outputs": [],
   "source": [
    "datapath <- \"/Users/anabbi/OneDrive - UHN/Documents/INTERCEPT/Data/\"\n",
    "plotpath <- \"/Users/anabbi/OneDrive - UHN/Documents/INTERCEPT/Plots/\"\n",
    "manifestpath <- \"/Users/anabbi/OneDrive - UHN/Documents/INTERCEPT/Manifests/\"\n",
    "gitpath <- \"/Users/anabbi/git/ped_CapTCRseq/\""
   ]
  },
  {
   "cell_type": "code",
   "execution_count": 6,
   "metadata": {
    "vscode": {
     "languageId": "r"
    }
   },
   "outputs": [],
   "source": [
    "h4hpath <- \"/Users/anabbi/Desktop/H4H/INTERCEPT/\""
   ]
  },
  {
   "attachments": {},
   "cell_type": "markdown",
   "metadata": {},
   "source": [
    "# Main"
   ]
  },
  {
   "cell_type": "code",
   "execution_count": 7,
   "metadata": {
    "vscode": {
     "languageId": "r"
    }
   },
   "outputs": [],
   "source": [
    "meta_div <- readr::read_rds(paste0(datapath, \"capTCRseq/meta_div_goodsamples.rds\"))"
   ]
  },
  {
   "cell_type": "markdown",
   "metadata": {},
   "source": [
    "# "
   ]
  },
  {
   "cell_type": "code",
   "execution_count": 8,
   "metadata": {
    "vscode": {
     "languageId": "r"
    }
   },
   "outputs": [],
   "source": [
    "sample_df <- readr::read_rds( paste0(datapath, \"int_sample_df.rds\"))"
   ]
  },
  {
   "cell_type": "code",
   "execution_count": 9,
   "metadata": {
    "vscode": {
     "languageId": "r"
    }
   },
   "outputs": [
    {
     "data": {
      "text/plain": [
       "\n",
       "  0   1 \n",
       "431 103 "
      ]
     },
     "metadata": {},
     "output_type": "display_data"
    }
   ],
   "source": [
    "table(sample_df$Relapse)"
   ]
  },
  {
   "cell_type": "code",
   "execution_count": 10,
   "metadata": {
    "vscode": {
     "languageId": "r"
    }
   },
   "outputs": [
    {
     "data": {
      "text/plain": [
       "\n",
       "cfDNA  PBMC Tumor \n",
       "  274   558    18 "
      ]
     },
     "metadata": {},
     "output_type": "display_data"
    }
   ],
   "source": [
    "table(meta_div$sampletype)"
   ]
  },
  {
   "cell_type": "code",
   "execution_count": 17,
   "metadata": {
    "vscode": {
     "languageId": "r"
    }
   },
   "outputs": [],
   "source": [
    "gliphpca <- readr::read_rds(file = paste0(datapath, \"GLIPH/gliph_PCA.rds\"))"
   ]
  },
  {
   "cell_type": "markdown",
   "metadata": {},
   "source": [
    "# 1- Quantrreg for each patient post-therapy"
   ]
  },
  {
   "cell_type": "code",
   "execution_count": 11,
   "metadata": {
    "vscode": {
     "languageId": "r"
    }
   },
   "outputs": [],
   "source": [
    "sample_df$cyclenum <- as.numeric(gsub(\"X0\", \"\", sample_df$cycle) )"
   ]
  },
  {
   "cell_type": "code",
   "execution_count": 12,
   "metadata": {
    "vscode": {
     "languageId": "r"
    }
   },
   "outputs": [],
   "source": [
    "# split to 3 dataframes: one for flow one for tcr and ncr\n",
    "\n",
    "tcr_df <- sample_df[ !is.na(sample_df$TRB), ]\n",
    "flow_df <- sample_df[ !is.na(sample_df$CD3) & sample_df$CD3 > 0, ]\n",
    "ncr_df <- flow_df[ !is.na(flow_df$`TIM3%`), ]"
   ]
  },
  {
   "cell_type": "code",
   "execution_count": 13,
   "metadata": {
    "vscode": {
     "languageId": "r"
    }
   },
   "outputs": [],
   "source": [
    "# remove X01\n",
    "tcr_df <- tcr_df[ tcr_df$cycle != \"X01\", ]\n",
    "flow_df <- flow_df[ flow_df$cycle != \"X01\", ]\n",
    "ncr_df <- ncr_df[ ncr_df$cycle != \"X01\", ]"
   ]
  },
  {
   "cell_type": "code",
   "execution_count": 208,
   "metadata": {
    "vscode": {
     "languageId": "r"
    }
   },
   "outputs": [],
   "source": [
    "# minimum two samples in each dataframe\n",
    "\n",
    "mytab <- table(tcr_df$Patient, tcr_df$cycle)\n",
    "mytab <- mytab[rowSums(mytab == 1) >= 2, ] \n",
    "tcr_df_min2 <- tcr_df[tcr_df$Patient %in% rownames(mytab), ]\n",
    "\n",
    "mytab <- table(flow_df$Patient, flow_df$cycle)\n",
    "mytab <- mytab[rowSums(mytab == 1) >= 2, ] \n",
    "flow_df_min2 <- flow_df[flow_df$Patient %in% rownames(mytab), ]\n",
    "\n",
    "mytab <- table(ncr_df$Patient, ncr_df$cycle)\n",
    "mytab <- mytab[rowSums(mytab == 1) >= 2, ] \n",
    "ncr_df_min2 <- ncr_df[ncr_df$Patient %in% rownames(mytab), ]"
   ]
  },
  {
   "cell_type": "code",
   "execution_count": 209,
   "metadata": {
    "vscode": {
     "languageId": "r"
    }
   },
   "outputs": [
    {
     "data": {
      "text/html": [
       "<style>\n",
       ".list-inline {list-style: none; margin:0; padding: 0}\n",
       ".list-inline>li {display: inline-block}\n",
       ".list-inline>li:not(:last-child)::after {content: \"\\00b7\"; padding: 0 .5ex}\n",
       "</style>\n",
       "<ol class=list-inline><li>'sample_id'</li><li>'Patient'</li><li>'cycle'</li><li>'FOLD'</li><li>'ATC'</li><li>'Age'</li><li>'Disease_type'</li><li>'TE_fold'</li><li>'CD3'</li><li>'EM'</li><li>'CM'</li><li>'Naïve'</li><li>'SCM'</li><li>'TE'</li><li>'EM%'</li><li>'CM%'</li><li>'Naïve%'</li><li>'SCM%'</li><li>'TE%'</li><li>'Naïve/TE'</li><li>'N+CM+SCM/TE+EM'</li><li>'PD-1'</li><li>'PDL1'</li><li>'LAG3'</li><li>'TIM3'</li><li>'CTLA4'</li><li>'PD1%'</li><li>'PDL1%'</li><li>'LAG3%'</li><li>'TIM3%'</li><li>'CTLA4%'</li><li>'Any NCR'</li><li>'PD1 + LAG3 + TIM3'</li><li>'cancergroup'</li><li>'agegroup'</li><li>'foldgroup'</li><li>'Remission'</li><li>'Relapse'</li><li>'Transplant'</li><li>'CART'</li><li>'vital_status'</li><li>'LOF'</li><li>'TRB'</li><li>'Reads'</li><li>'CPKR'</li><li>'Average_reads'</li><li>'VMR'</li><li>'Max_reads'</li><li>'Singletons'</li><li>'Doubletons'</li><li>'qD'</li><li>'Sample_Coverage'</li><li>'observed_Richness'</li><li>'estimated_Richness'</li><li>'SE_Richeness'</li><li>'observed_Shannon'</li><li>'estimated_Shannon'</li><li>'SE_Shannon'</li><li>'observed_Simpson'</li><li>'estimated_Simpson'</li><li>'SE_Simpson'</li><li>'basename'</li><li>'file'</li><li>'sampletype'</li><li>'Group'</li><li>'log10shann'</li><li>'aveTiRP'</li><li>'medTiRP'</li><li>'HLA_PC1'</li><li>'HLA_PC2'</li><li>'HLA_PC3'</li><li>'V_PC1'</li><li>'V_PC2'</li><li>'V_PC3'</li><li>'J_PC1'</li><li>'J_PC2'</li><li>'J_PC3'</li><li>'samplename'</li><li>'gliph_n'</li><li>'CMV'</li><li>'EBV'</li><li>'HCV'</li><li>'Flu'</li><li>'hs'</li><li>'cfDNA_TRB'</li><li>'cfDNA_Reads'</li><li>'cfDNA_CPKR'</li><li>'cfDNA_Average_reads'</li><li>'cfDNA_VMR'</li><li>'cfDNA_Max_reads'</li><li>'cfDNA_Singletons'</li><li>'cfDNA_Doubletons'</li><li>'cfDNA_qD'</li><li>'cfDNA_Sample_Coverage'</li><li>'cfDNA_observed_Richness'</li><li>'cfDNA_estimated_Richness'</li><li>'cfDNA_SE_Richeness'</li><li>'cfDNA_observed_Shannon'</li><li>'cfDNA_estimated_Shannon'</li><li>'cfDNA_SE_Shannon'</li><li>'cfDNA_observed_Simpson'</li><li>'cfDNA_estimated_Simpson'</li><li>'cfDNA_SE_Simpson'</li><li>'cfDNA_basename'</li><li>'cfDNA_file'</li><li>'cfDNA_sampletype'</li><li>'cfDNA_Group'</li><li>'cfDNA_log10shann'</li><li>'cfDNA_aveTiRP'</li><li>'cfDNA_medTiRP'</li><li>'cfDNA_V_PC1'</li><li>'cfDNA_V_PC2'</li><li>'cfDNA_V_PC3'</li><li>'cfDNA_J_PC1'</li><li>'cfDNA_J_PC2'</li><li>'cfDNA_J_PC3'</li><li>'cfDNA_samplename'</li><li>'cfDNA_gliph_n'</li><li>'cfDNA_CMV'</li><li>'cfDNA_EBV'</li><li>'cfDNA_HCV'</li><li>'cfDNA_Flu'</li><li>'cfDNA_hs'</li><li>'cyclenum'</li></ol>\n"
      ],
      "text/latex": [
       "\\begin{enumerate*}\n",
       "\\item 'sample\\_id'\n",
       "\\item 'Patient'\n",
       "\\item 'cycle'\n",
       "\\item 'FOLD'\n",
       "\\item 'ATC'\n",
       "\\item 'Age'\n",
       "\\item 'Disease\\_type'\n",
       "\\item 'TE\\_fold'\n",
       "\\item 'CD3'\n",
       "\\item 'EM'\n",
       "\\item 'CM'\n",
       "\\item 'Naïve'\n",
       "\\item 'SCM'\n",
       "\\item 'TE'\n",
       "\\item 'EM\\%'\n",
       "\\item 'CM\\%'\n",
       "\\item 'Naïve\\%'\n",
       "\\item 'SCM\\%'\n",
       "\\item 'TE\\%'\n",
       "\\item 'Naïve/TE'\n",
       "\\item 'N+CM+SCM/TE+EM'\n",
       "\\item 'PD-1'\n",
       "\\item 'PDL1'\n",
       "\\item 'LAG3'\n",
       "\\item 'TIM3'\n",
       "\\item 'CTLA4'\n",
       "\\item 'PD1\\%'\n",
       "\\item 'PDL1\\%'\n",
       "\\item 'LAG3\\%'\n",
       "\\item 'TIM3\\%'\n",
       "\\item 'CTLA4\\%'\n",
       "\\item 'Any NCR'\n",
       "\\item 'PD1 + LAG3 + TIM3'\n",
       "\\item 'cancergroup'\n",
       "\\item 'agegroup'\n",
       "\\item 'foldgroup'\n",
       "\\item 'Remission'\n",
       "\\item 'Relapse'\n",
       "\\item 'Transplant'\n",
       "\\item 'CART'\n",
       "\\item 'vital\\_status'\n",
       "\\item 'LOF'\n",
       "\\item 'TRB'\n",
       "\\item 'Reads'\n",
       "\\item 'CPKR'\n",
       "\\item 'Average\\_reads'\n",
       "\\item 'VMR'\n",
       "\\item 'Max\\_reads'\n",
       "\\item 'Singletons'\n",
       "\\item 'Doubletons'\n",
       "\\item 'qD'\n",
       "\\item 'Sample\\_Coverage'\n",
       "\\item 'observed\\_Richness'\n",
       "\\item 'estimated\\_Richness'\n",
       "\\item 'SE\\_Richeness'\n",
       "\\item 'observed\\_Shannon'\n",
       "\\item 'estimated\\_Shannon'\n",
       "\\item 'SE\\_Shannon'\n",
       "\\item 'observed\\_Simpson'\n",
       "\\item 'estimated\\_Simpson'\n",
       "\\item 'SE\\_Simpson'\n",
       "\\item 'basename'\n",
       "\\item 'file'\n",
       "\\item 'sampletype'\n",
       "\\item 'Group'\n",
       "\\item 'log10shann'\n",
       "\\item 'aveTiRP'\n",
       "\\item 'medTiRP'\n",
       "\\item 'HLA\\_PC1'\n",
       "\\item 'HLA\\_PC2'\n",
       "\\item 'HLA\\_PC3'\n",
       "\\item 'V\\_PC1'\n",
       "\\item 'V\\_PC2'\n",
       "\\item 'V\\_PC3'\n",
       "\\item 'J\\_PC1'\n",
       "\\item 'J\\_PC2'\n",
       "\\item 'J\\_PC3'\n",
       "\\item 'samplename'\n",
       "\\item 'gliph\\_n'\n",
       "\\item 'CMV'\n",
       "\\item 'EBV'\n",
       "\\item 'HCV'\n",
       "\\item 'Flu'\n",
       "\\item 'hs'\n",
       "\\item 'cfDNA\\_TRB'\n",
       "\\item 'cfDNA\\_Reads'\n",
       "\\item 'cfDNA\\_CPKR'\n",
       "\\item 'cfDNA\\_Average\\_reads'\n",
       "\\item 'cfDNA\\_VMR'\n",
       "\\item 'cfDNA\\_Max\\_reads'\n",
       "\\item 'cfDNA\\_Singletons'\n",
       "\\item 'cfDNA\\_Doubletons'\n",
       "\\item 'cfDNA\\_qD'\n",
       "\\item 'cfDNA\\_Sample\\_Coverage'\n",
       "\\item 'cfDNA\\_observed\\_Richness'\n",
       "\\item 'cfDNA\\_estimated\\_Richness'\n",
       "\\item 'cfDNA\\_SE\\_Richeness'\n",
       "\\item 'cfDNA\\_observed\\_Shannon'\n",
       "\\item 'cfDNA\\_estimated\\_Shannon'\n",
       "\\item 'cfDNA\\_SE\\_Shannon'\n",
       "\\item 'cfDNA\\_observed\\_Simpson'\n",
       "\\item 'cfDNA\\_estimated\\_Simpson'\n",
       "\\item 'cfDNA\\_SE\\_Simpson'\n",
       "\\item 'cfDNA\\_basename'\n",
       "\\item 'cfDNA\\_file'\n",
       "\\item 'cfDNA\\_sampletype'\n",
       "\\item 'cfDNA\\_Group'\n",
       "\\item 'cfDNA\\_log10shann'\n",
       "\\item 'cfDNA\\_aveTiRP'\n",
       "\\item 'cfDNA\\_medTiRP'\n",
       "\\item 'cfDNA\\_V\\_PC1'\n",
       "\\item 'cfDNA\\_V\\_PC2'\n",
       "\\item 'cfDNA\\_V\\_PC3'\n",
       "\\item 'cfDNA\\_J\\_PC1'\n",
       "\\item 'cfDNA\\_J\\_PC2'\n",
       "\\item 'cfDNA\\_J\\_PC3'\n",
       "\\item 'cfDNA\\_samplename'\n",
       "\\item 'cfDNA\\_gliph\\_n'\n",
       "\\item 'cfDNA\\_CMV'\n",
       "\\item 'cfDNA\\_EBV'\n",
       "\\item 'cfDNA\\_HCV'\n",
       "\\item 'cfDNA\\_Flu'\n",
       "\\item 'cfDNA\\_hs'\n",
       "\\item 'cyclenum'\n",
       "\\end{enumerate*}\n"
      ],
      "text/markdown": [
       "1. 'sample_id'\n",
       "2. 'Patient'\n",
       "3. 'cycle'\n",
       "4. 'FOLD'\n",
       "5. 'ATC'\n",
       "6. 'Age'\n",
       "7. 'Disease_type'\n",
       "8. 'TE_fold'\n",
       "9. 'CD3'\n",
       "10. 'EM'\n",
       "11. 'CM'\n",
       "12. 'Naïve'\n",
       "13. 'SCM'\n",
       "14. 'TE'\n",
       "15. 'EM%'\n",
       "16. 'CM%'\n",
       "17. 'Naïve%'\n",
       "18. 'SCM%'\n",
       "19. 'TE%'\n",
       "20. 'Naïve/TE'\n",
       "21. 'N+CM+SCM/TE+EM'\n",
       "22. 'PD-1'\n",
       "23. 'PDL1'\n",
       "24. 'LAG3'\n",
       "25. 'TIM3'\n",
       "26. 'CTLA4'\n",
       "27. 'PD1%'\n",
       "28. 'PDL1%'\n",
       "29. 'LAG3%'\n",
       "30. 'TIM3%'\n",
       "31. 'CTLA4%'\n",
       "32. 'Any NCR'\n",
       "33. 'PD1 + LAG3 + TIM3'\n",
       "34. 'cancergroup'\n",
       "35. 'agegroup'\n",
       "36. 'foldgroup'\n",
       "37. 'Remission'\n",
       "38. 'Relapse'\n",
       "39. 'Transplant'\n",
       "40. 'CART'\n",
       "41. 'vital_status'\n",
       "42. 'LOF'\n",
       "43. 'TRB'\n",
       "44. 'Reads'\n",
       "45. 'CPKR'\n",
       "46. 'Average_reads'\n",
       "47. 'VMR'\n",
       "48. 'Max_reads'\n",
       "49. 'Singletons'\n",
       "50. 'Doubletons'\n",
       "51. 'qD'\n",
       "52. 'Sample_Coverage'\n",
       "53. 'observed_Richness'\n",
       "54. 'estimated_Richness'\n",
       "55. 'SE_Richeness'\n",
       "56. 'observed_Shannon'\n",
       "57. 'estimated_Shannon'\n",
       "58. 'SE_Shannon'\n",
       "59. 'observed_Simpson'\n",
       "60. 'estimated_Simpson'\n",
       "61. 'SE_Simpson'\n",
       "62. 'basename'\n",
       "63. 'file'\n",
       "64. 'sampletype'\n",
       "65. 'Group'\n",
       "66. 'log10shann'\n",
       "67. 'aveTiRP'\n",
       "68. 'medTiRP'\n",
       "69. 'HLA_PC1'\n",
       "70. 'HLA_PC2'\n",
       "71. 'HLA_PC3'\n",
       "72. 'V_PC1'\n",
       "73. 'V_PC2'\n",
       "74. 'V_PC3'\n",
       "75. 'J_PC1'\n",
       "76. 'J_PC2'\n",
       "77. 'J_PC3'\n",
       "78. 'samplename'\n",
       "79. 'gliph_n'\n",
       "80. 'CMV'\n",
       "81. 'EBV'\n",
       "82. 'HCV'\n",
       "83. 'Flu'\n",
       "84. 'hs'\n",
       "85. 'cfDNA_TRB'\n",
       "86. 'cfDNA_Reads'\n",
       "87. 'cfDNA_CPKR'\n",
       "88. 'cfDNA_Average_reads'\n",
       "89. 'cfDNA_VMR'\n",
       "90. 'cfDNA_Max_reads'\n",
       "91. 'cfDNA_Singletons'\n",
       "92. 'cfDNA_Doubletons'\n",
       "93. 'cfDNA_qD'\n",
       "94. 'cfDNA_Sample_Coverage'\n",
       "95. 'cfDNA_observed_Richness'\n",
       "96. 'cfDNA_estimated_Richness'\n",
       "97. 'cfDNA_SE_Richeness'\n",
       "98. 'cfDNA_observed_Shannon'\n",
       "99. 'cfDNA_estimated_Shannon'\n",
       "100. 'cfDNA_SE_Shannon'\n",
       "101. 'cfDNA_observed_Simpson'\n",
       "102. 'cfDNA_estimated_Simpson'\n",
       "103. 'cfDNA_SE_Simpson'\n",
       "104. 'cfDNA_basename'\n",
       "105. 'cfDNA_file'\n",
       "106. 'cfDNA_sampletype'\n",
       "107. 'cfDNA_Group'\n",
       "108. 'cfDNA_log10shann'\n",
       "109. 'cfDNA_aveTiRP'\n",
       "110. 'cfDNA_medTiRP'\n",
       "111. 'cfDNA_V_PC1'\n",
       "112. 'cfDNA_V_PC2'\n",
       "113. 'cfDNA_V_PC3'\n",
       "114. 'cfDNA_J_PC1'\n",
       "115. 'cfDNA_J_PC2'\n",
       "116. 'cfDNA_J_PC3'\n",
       "117. 'cfDNA_samplename'\n",
       "118. 'cfDNA_gliph_n'\n",
       "119. 'cfDNA_CMV'\n",
       "120. 'cfDNA_EBV'\n",
       "121. 'cfDNA_HCV'\n",
       "122. 'cfDNA_Flu'\n",
       "123. 'cfDNA_hs'\n",
       "124. 'cyclenum'\n",
       "\n",
       "\n"
      ],
      "text/plain": [
       "  [1] \"sample_id\"                \"Patient\"                 \n",
       "  [3] \"cycle\"                    \"FOLD\"                    \n",
       "  [5] \"ATC\"                      \"Age\"                     \n",
       "  [7] \"Disease_type\"             \"TE_fold\"                 \n",
       "  [9] \"CD3\"                      \"EM\"                      \n",
       " [11] \"CM\"                       \"Naïve\"                   \n",
       " [13] \"SCM\"                      \"TE\"                      \n",
       " [15] \"EM%\"                      \"CM%\"                     \n",
       " [17] \"Naïve%\"                   \"SCM%\"                    \n",
       " [19] \"TE%\"                      \"Naïve/TE\"                \n",
       " [21] \"N+CM+SCM/TE+EM\"           \"PD-1\"                    \n",
       " [23] \"PDL1\"                     \"LAG3\"                    \n",
       " [25] \"TIM3\"                     \"CTLA4\"                   \n",
       " [27] \"PD1%\"                     \"PDL1%\"                   \n",
       " [29] \"LAG3%\"                    \"TIM3%\"                   \n",
       " [31] \"CTLA4%\"                   \"Any NCR\"                 \n",
       " [33] \"PD1 + LAG3 + TIM3\"        \"cancergroup\"             \n",
       " [35] \"agegroup\"                 \"foldgroup\"               \n",
       " [37] \"Remission\"                \"Relapse\"                 \n",
       " [39] \"Transplant\"               \"CART\"                    \n",
       " [41] \"vital_status\"             \"LOF\"                     \n",
       " [43] \"TRB\"                      \"Reads\"                   \n",
       " [45] \"CPKR\"                     \"Average_reads\"           \n",
       " [47] \"VMR\"                      \"Max_reads\"               \n",
       " [49] \"Singletons\"               \"Doubletons\"              \n",
       " [51] \"qD\"                       \"Sample_Coverage\"         \n",
       " [53] \"observed_Richness\"        \"estimated_Richness\"      \n",
       " [55] \"SE_Richeness\"             \"observed_Shannon\"        \n",
       " [57] \"estimated_Shannon\"        \"SE_Shannon\"              \n",
       " [59] \"observed_Simpson\"         \"estimated_Simpson\"       \n",
       " [61] \"SE_Simpson\"               \"basename\"                \n",
       " [63] \"file\"                     \"sampletype\"              \n",
       " [65] \"Group\"                    \"log10shann\"              \n",
       " [67] \"aveTiRP\"                  \"medTiRP\"                 \n",
       " [69] \"HLA_PC1\"                  \"HLA_PC2\"                 \n",
       " [71] \"HLA_PC3\"                  \"V_PC1\"                   \n",
       " [73] \"V_PC2\"                    \"V_PC3\"                   \n",
       " [75] \"J_PC1\"                    \"J_PC2\"                   \n",
       " [77] \"J_PC3\"                    \"samplename\"              \n",
       " [79] \"gliph_n\"                  \"CMV\"                     \n",
       " [81] \"EBV\"                      \"HCV\"                     \n",
       " [83] \"Flu\"                      \"hs\"                      \n",
       " [85] \"cfDNA_TRB\"                \"cfDNA_Reads\"             \n",
       " [87] \"cfDNA_CPKR\"               \"cfDNA_Average_reads\"     \n",
       " [89] \"cfDNA_VMR\"                \"cfDNA_Max_reads\"         \n",
       " [91] \"cfDNA_Singletons\"         \"cfDNA_Doubletons\"        \n",
       " [93] \"cfDNA_qD\"                 \"cfDNA_Sample_Coverage\"   \n",
       " [95] \"cfDNA_observed_Richness\"  \"cfDNA_estimated_Richness\"\n",
       " [97] \"cfDNA_SE_Richeness\"       \"cfDNA_observed_Shannon\"  \n",
       " [99] \"cfDNA_estimated_Shannon\"  \"cfDNA_SE_Shannon\"        \n",
       "[101] \"cfDNA_observed_Simpson\"   \"cfDNA_estimated_Simpson\" \n",
       "[103] \"cfDNA_SE_Simpson\"         \"cfDNA_basename\"          \n",
       "[105] \"cfDNA_file\"               \"cfDNA_sampletype\"        \n",
       "[107] \"cfDNA_Group\"              \"cfDNA_log10shann\"        \n",
       "[109] \"cfDNA_aveTiRP\"            \"cfDNA_medTiRP\"           \n",
       "[111] \"cfDNA_V_PC1\"              \"cfDNA_V_PC2\"             \n",
       "[113] \"cfDNA_V_PC3\"              \"cfDNA_J_PC1\"             \n",
       "[115] \"cfDNA_J_PC2\"              \"cfDNA_J_PC3\"             \n",
       "[117] \"cfDNA_samplename\"         \"cfDNA_gliph_n\"           \n",
       "[119] \"cfDNA_CMV\"                \"cfDNA_EBV\"               \n",
       "[121] \"cfDNA_HCV\"                \"cfDNA_Flu\"               \n",
       "[123] \"cfDNA_hs\"                 \"cyclenum\"                "
      ]
     },
     "metadata": {},
     "output_type": "display_data"
    }
   ],
   "source": [
    "colnames(tcr_df_min2)"
   ]
  },
  {
   "cell_type": "code",
   "execution_count": 210,
   "metadata": {
    "vscode": {
     "languageId": "r"
    }
   },
   "outputs": [],
   "source": [
    "mypca <- gliphpca$x"
   ]
  },
  {
   "cell_type": "code",
   "execution_count": 211,
   "metadata": {
    "vscode": {
     "languageId": "r"
    }
   },
   "outputs": [
    {
     "data": {
      "text/html": [
       "<table class=\"dataframe\">\n",
       "<caption>A matrix: 6 x 410 of type dbl</caption>\n",
       "<thead>\n",
       "\t<tr><th></th><th scope=col>PC1</th><th scope=col>PC2</th><th scope=col>PC3</th><th scope=col>PC4</th><th scope=col>PC5</th><th scope=col>PC6</th><th scope=col>PC7</th><th scope=col>PC8</th><th scope=col>PC9</th><th scope=col>PC10</th><th scope=col>...</th><th scope=col>PC401</th><th scope=col>PC402</th><th scope=col>PC403</th><th scope=col>PC404</th><th scope=col>PC405</th><th scope=col>PC406</th><th scope=col>PC407</th><th scope=col>PC408</th><th scope=col>PC409</th><th scope=col>PC410</th></tr>\n",
       "</thead>\n",
       "<tbody>\n",
       "\t<tr><th scope=row>Leukemia:CHP_319_X05-PBMC</th><td>-1.832848</td><td>-1.848061</td><td>1.5108913</td><td>-0.49758730</td><td> 1.2475238</td><td>-1.1360350</td><td> 0.31823413</td><td>-0.4143386</td><td>0.6170181</td><td>-1.0179550</td><td>...</td><td> 2.669408e-06</td><td> 5.670315e-07</td><td> 2.964113e-07</td><td> 2.895842e-07</td><td>7.670149e-07</td><td> 2.819900e-08</td><td>2.735590e-08</td><td>5.498801e-13</td><td> 1.779233e-15</td><td> 2.433906e-14</td></tr>\n",
       "\t<tr><th scope=row>Leukemia:CHP_323_X03-PBMC</th><td>-1.695182</td><td>-1.546052</td><td>0.8125126</td><td> 0.82635255</td><td> 1.3400379</td><td>-0.8997030</td><td> 0.41926939</td><td> 0.8133113</td><td>0.8203821</td><td>-1.2305051</td><td>...</td><td> 1.041408e-08</td><td> 1.025073e-09</td><td>-5.162535e-11</td><td>-9.601026e-11</td><td>4.679352e-10</td><td> 8.000886e-11</td><td>2.667992e-11</td><td>1.227782e-12</td><td> 4.196931e-14</td><td> 2.528275e-14</td></tr>\n",
       "\t<tr><th scope=row>Leukemia:CHP_323_X03-cfDNA</th><td>-1.366894</td><td>-1.385488</td><td>1.1380872</td><td>-0.72678739</td><td>-0.2197026</td><td>-0.6123179</td><td>-0.16907199</td><td>-0.3350745</td><td>0.6239349</td><td>-0.5601353</td><td>...</td><td>-1.273392e-10</td><td> 1.131420e-09</td><td>-1.550594e-09</td><td>-2.905974e-09</td><td>1.753213e-09</td><td> 7.181918e-11</td><td>1.257699e-11</td><td>1.572636e-13</td><td>-1.202917e-14</td><td> 4.294039e-13</td></tr>\n",
       "\t<tr><th scope=row>Leukemia:CHP_323_X05-PBMC</th><td>-1.817785</td><td>-1.767662</td><td>1.3588968</td><td>-0.06781653</td><td> 1.2968171</td><td>-0.9912957</td><td> 0.08897417</td><td>-0.3813115</td><td>0.6998146</td><td>-1.1352729</td><td>...</td><td> 1.802349e-08</td><td> 1.154930e-09</td><td>-1.631466e-10</td><td> 5.320026e-10</td><td>8.046112e-10</td><td>-8.617327e-11</td><td>1.554410e-11</td><td>4.395170e-13</td><td> 9.237343e-14</td><td>-6.303549e-14</td></tr>\n",
       "\t<tr><th scope=row>Leukemia:CHP_323_X05-cfDNA</th><td>-1.834019</td><td>-1.854525</td><td>1.5039276</td><td>-0.45283254</td><td> 1.2292121</td><td>-1.0240096</td><td> 0.41719095</td><td>-0.4801349</td><td>0.6323353</td><td>-1.0474976</td><td>...</td><td> 2.579343e-09</td><td> 2.089269e-10</td><td> 6.295258e-10</td><td> 4.570877e-10</td><td>7.234622e-10</td><td> 8.061983e-11</td><td>3.758555e-11</td><td>5.064426e-13</td><td> 1.320639e-13</td><td>-7.209537e-13</td></tr>\n",
       "\t<tr><th scope=row>Leukemia:CHP_326_X05-cfDNA</th><td>-1.814312</td><td>-1.339670</td><td>1.3144928</td><td>-0.28673092</td><td> 1.1913963</td><td>-1.3059445</td><td> 0.37146329</td><td>-0.4349749</td><td>0.2904381</td><td>-1.0892887</td><td>...</td><td>-4.927307e-08</td><td>-4.586669e-08</td><td>-5.256553e-08</td><td>-1.441592e-07</td><td>6.484804e-08</td><td> 1.629817e-09</td><td>5.139111e-10</td><td>3.796691e-13</td><td> 2.076405e-14</td><td> 3.713948e-13</td></tr>\n",
       "</tbody>\n",
       "</table>\n"
      ],
      "text/latex": [
       "A matrix: 6 x 410 of type dbl\n",
       "\\begin{tabular}{r|lllllllllllllllllllll}\n",
       "  & PC1 & PC2 & PC3 & PC4 & PC5 & PC6 & PC7 & PC8 & PC9 & PC10 & ... & PC401 & PC402 & PC403 & PC404 & PC405 & PC406 & PC407 & PC408 & PC409 & PC410\\\\\n",
       "\\hline\n",
       "\tLeukemia:CHP\\_319\\_X05-PBMC & -1.832848 & -1.848061 & 1.5108913 & -0.49758730 &  1.2475238 & -1.1360350 &  0.31823413 & -0.4143386 & 0.6170181 & -1.0179550 & ... &  2.669408e-06 &  5.670315e-07 &  2.964113e-07 &  2.895842e-07 & 7.670149e-07 &  2.819900e-08 & 2.735590e-08 & 5.498801e-13 &  1.779233e-15 &  2.433906e-14\\\\\n",
       "\tLeukemia:CHP\\_323\\_X03-PBMC & -1.695182 & -1.546052 & 0.8125126 &  0.82635255 &  1.3400379 & -0.8997030 &  0.41926939 &  0.8133113 & 0.8203821 & -1.2305051 & ... &  1.041408e-08 &  1.025073e-09 & -5.162535e-11 & -9.601026e-11 & 4.679352e-10 &  8.000886e-11 & 2.667992e-11 & 1.227782e-12 &  4.196931e-14 &  2.528275e-14\\\\\n",
       "\tLeukemia:CHP\\_323\\_X03-cfDNA & -1.366894 & -1.385488 & 1.1380872 & -0.72678739 & -0.2197026 & -0.6123179 & -0.16907199 & -0.3350745 & 0.6239349 & -0.5601353 & ... & -1.273392e-10 &  1.131420e-09 & -1.550594e-09 & -2.905974e-09 & 1.753213e-09 &  7.181918e-11 & 1.257699e-11 & 1.572636e-13 & -1.202917e-14 &  4.294039e-13\\\\\n",
       "\tLeukemia:CHP\\_323\\_X05-PBMC & -1.817785 & -1.767662 & 1.3588968 & -0.06781653 &  1.2968171 & -0.9912957 &  0.08897417 & -0.3813115 & 0.6998146 & -1.1352729 & ... &  1.802349e-08 &  1.154930e-09 & -1.631466e-10 &  5.320026e-10 & 8.046112e-10 & -8.617327e-11 & 1.554410e-11 & 4.395170e-13 &  9.237343e-14 & -6.303549e-14\\\\\n",
       "\tLeukemia:CHP\\_323\\_X05-cfDNA & -1.834019 & -1.854525 & 1.5039276 & -0.45283254 &  1.2292121 & -1.0240096 &  0.41719095 & -0.4801349 & 0.6323353 & -1.0474976 & ... &  2.579343e-09 &  2.089269e-10 &  6.295258e-10 &  4.570877e-10 & 7.234622e-10 &  8.061983e-11 & 3.758555e-11 & 5.064426e-13 &  1.320639e-13 & -7.209537e-13\\\\\n",
       "\tLeukemia:CHP\\_326\\_X05-cfDNA & -1.814312 & -1.339670 & 1.3144928 & -0.28673092 &  1.1913963 & -1.3059445 &  0.37146329 & -0.4349749 & 0.2904381 & -1.0892887 & ... & -4.927307e-08 & -4.586669e-08 & -5.256553e-08 & -1.441592e-07 & 6.484804e-08 &  1.629817e-09 & 5.139111e-10 & 3.796691e-13 &  2.076405e-14 &  3.713948e-13\\\\\n",
       "\\end{tabular}\n"
      ],
      "text/markdown": [
       "\n",
       "A matrix: 6 x 410 of type dbl\n",
       "\n",
       "| <!--/--> | PC1 | PC2 | PC3 | PC4 | PC5 | PC6 | PC7 | PC8 | PC9 | PC10 | ... | PC401 | PC402 | PC403 | PC404 | PC405 | PC406 | PC407 | PC408 | PC409 | PC410 |\n",
       "|---|---|---|---|---|---|---|---|---|---|---|---|---|---|---|---|---|---|---|---|---|---|\n",
       "| Leukemia:CHP_319_X05-PBMC | -1.832848 | -1.848061 | 1.5108913 | -0.49758730 |  1.2475238 | -1.1360350 |  0.31823413 | -0.4143386 | 0.6170181 | -1.0179550 | ... |  2.669408e-06 |  5.670315e-07 |  2.964113e-07 |  2.895842e-07 | 7.670149e-07 |  2.819900e-08 | 2.735590e-08 | 5.498801e-13 |  1.779233e-15 |  2.433906e-14 |\n",
       "| Leukemia:CHP_323_X03-PBMC | -1.695182 | -1.546052 | 0.8125126 |  0.82635255 |  1.3400379 | -0.8997030 |  0.41926939 |  0.8133113 | 0.8203821 | -1.2305051 | ... |  1.041408e-08 |  1.025073e-09 | -5.162535e-11 | -9.601026e-11 | 4.679352e-10 |  8.000886e-11 | 2.667992e-11 | 1.227782e-12 |  4.196931e-14 |  2.528275e-14 |\n",
       "| Leukemia:CHP_323_X03-cfDNA | -1.366894 | -1.385488 | 1.1380872 | -0.72678739 | -0.2197026 | -0.6123179 | -0.16907199 | -0.3350745 | 0.6239349 | -0.5601353 | ... | -1.273392e-10 |  1.131420e-09 | -1.550594e-09 | -2.905974e-09 | 1.753213e-09 |  7.181918e-11 | 1.257699e-11 | 1.572636e-13 | -1.202917e-14 |  4.294039e-13 |\n",
       "| Leukemia:CHP_323_X05-PBMC | -1.817785 | -1.767662 | 1.3588968 | -0.06781653 |  1.2968171 | -0.9912957 |  0.08897417 | -0.3813115 | 0.6998146 | -1.1352729 | ... |  1.802349e-08 |  1.154930e-09 | -1.631466e-10 |  5.320026e-10 | 8.046112e-10 | -8.617327e-11 | 1.554410e-11 | 4.395170e-13 |  9.237343e-14 | -6.303549e-14 |\n",
       "| Leukemia:CHP_323_X05-cfDNA | -1.834019 | -1.854525 | 1.5039276 | -0.45283254 |  1.2292121 | -1.0240096 |  0.41719095 | -0.4801349 | 0.6323353 | -1.0474976 | ... |  2.579343e-09 |  2.089269e-10 |  6.295258e-10 |  4.570877e-10 | 7.234622e-10 |  8.061983e-11 | 3.758555e-11 | 5.064426e-13 |  1.320639e-13 | -7.209537e-13 |\n",
       "| Leukemia:CHP_326_X05-cfDNA | -1.814312 | -1.339670 | 1.3144928 | -0.28673092 |  1.1913963 | -1.3059445 |  0.37146329 | -0.4349749 | 0.2904381 | -1.0892887 | ... | -4.927307e-08 | -4.586669e-08 | -5.256553e-08 | -1.441592e-07 | 6.484804e-08 |  1.629817e-09 | 5.139111e-10 | 3.796691e-13 |  2.076405e-14 |  3.713948e-13 |\n",
       "\n"
      ],
      "text/plain": [
       "                           PC1       PC2       PC3       PC4         PC5       \n",
       "Leukemia:CHP_319_X05-PBMC  -1.832848 -1.848061 1.5108913 -0.49758730  1.2475238\n",
       "Leukemia:CHP_323_X03-PBMC  -1.695182 -1.546052 0.8125126  0.82635255  1.3400379\n",
       "Leukemia:CHP_323_X03-cfDNA -1.366894 -1.385488 1.1380872 -0.72678739 -0.2197026\n",
       "Leukemia:CHP_323_X05-PBMC  -1.817785 -1.767662 1.3588968 -0.06781653  1.2968171\n",
       "Leukemia:CHP_323_X05-cfDNA -1.834019 -1.854525 1.5039276 -0.45283254  1.2292121\n",
       "Leukemia:CHP_326_X05-cfDNA -1.814312 -1.339670 1.3144928 -0.28673092  1.1913963\n",
       "                           PC6        PC7         PC8        PC9      \n",
       "Leukemia:CHP_319_X05-PBMC  -1.1360350  0.31823413 -0.4143386 0.6170181\n",
       "Leukemia:CHP_323_X03-PBMC  -0.8997030  0.41926939  0.8133113 0.8203821\n",
       "Leukemia:CHP_323_X03-cfDNA -0.6123179 -0.16907199 -0.3350745 0.6239349\n",
       "Leukemia:CHP_323_X05-PBMC  -0.9912957  0.08897417 -0.3813115 0.6998146\n",
       "Leukemia:CHP_323_X05-cfDNA -1.0240096  0.41719095 -0.4801349 0.6323353\n",
       "Leukemia:CHP_326_X05-cfDNA -1.3059445  0.37146329 -0.4349749 0.2904381\n",
       "                           PC10       ... PC401         PC402        \n",
       "Leukemia:CHP_319_X05-PBMC  -1.0179550 ...  2.669408e-06  5.670315e-07\n",
       "Leukemia:CHP_323_X03-PBMC  -1.2305051 ...  1.041408e-08  1.025073e-09\n",
       "Leukemia:CHP_323_X03-cfDNA -0.5601353 ... -1.273392e-10  1.131420e-09\n",
       "Leukemia:CHP_323_X05-PBMC  -1.1352729 ...  1.802349e-08  1.154930e-09\n",
       "Leukemia:CHP_323_X05-cfDNA -1.0474976 ...  2.579343e-09  2.089269e-10\n",
       "Leukemia:CHP_326_X05-cfDNA -1.0892887 ... -4.927307e-08 -4.586669e-08\n",
       "                           PC403         PC404         PC405       \n",
       "Leukemia:CHP_319_X05-PBMC   2.964113e-07  2.895842e-07 7.670149e-07\n",
       "Leukemia:CHP_323_X03-PBMC  -5.162535e-11 -9.601026e-11 4.679352e-10\n",
       "Leukemia:CHP_323_X03-cfDNA -1.550594e-09 -2.905974e-09 1.753213e-09\n",
       "Leukemia:CHP_323_X05-PBMC  -1.631466e-10  5.320026e-10 8.046112e-10\n",
       "Leukemia:CHP_323_X05-cfDNA  6.295258e-10  4.570877e-10 7.234622e-10\n",
       "Leukemia:CHP_326_X05-cfDNA -5.256553e-08 -1.441592e-07 6.484804e-08\n",
       "                           PC406         PC407        PC408       \n",
       "Leukemia:CHP_319_X05-PBMC   2.819900e-08 2.735590e-08 5.498801e-13\n",
       "Leukemia:CHP_323_X03-PBMC   8.000886e-11 2.667992e-11 1.227782e-12\n",
       "Leukemia:CHP_323_X03-cfDNA  7.181918e-11 1.257699e-11 1.572636e-13\n",
       "Leukemia:CHP_323_X05-PBMC  -8.617327e-11 1.554410e-11 4.395170e-13\n",
       "Leukemia:CHP_323_X05-cfDNA  8.061983e-11 3.758555e-11 5.064426e-13\n",
       "Leukemia:CHP_326_X05-cfDNA  1.629817e-09 5.139111e-10 3.796691e-13\n",
       "                           PC409         PC410        \n",
       "Leukemia:CHP_319_X05-PBMC   1.779233e-15  2.433906e-14\n",
       "Leukemia:CHP_323_X03-PBMC   4.196931e-14  2.528275e-14\n",
       "Leukemia:CHP_323_X03-cfDNA -1.202917e-14  4.294039e-13\n",
       "Leukemia:CHP_323_X05-PBMC   9.237343e-14 -6.303549e-14\n",
       "Leukemia:CHP_323_X05-cfDNA  1.320639e-13 -7.209537e-13\n",
       "Leukemia:CHP_326_X05-cfDNA  2.076405e-14  3.713948e-13"
      ]
     },
     "metadata": {},
     "output_type": "display_data"
    }
   ],
   "source": [
    "head(mypca)"
   ]
  },
  {
   "cell_type": "code",
   "execution_count": 212,
   "metadata": {
    "vscode": {
     "languageId": "r"
    }
   },
   "outputs": [],
   "source": [
    "tcr_df_min2$GLIPH_PC1 <- mypca[ match(tcr_df_min2$samplename,  rownames(mypca)) , \"PC1\"]\n",
    "tcr_df_min2$GLIPH_PC2 <- mypca[ match(tcr_df_min2$samplename,  rownames(mypca)) , \"PC2\"]"
   ]
  },
  {
   "cell_type": "code",
   "execution_count": 213,
   "metadata": {
    "vscode": {
     "languageId": "r"
    }
   },
   "outputs": [
    {
     "data": {
      "text/html": [
       "<table class=\"dataframe\">\n",
       "<caption>A data.frame: 6 x 126</caption>\n",
       "<thead>\n",
       "\t<tr><th></th><th scope=col>sample_id</th><th scope=col>Patient</th><th scope=col>cycle</th><th scope=col>FOLD</th><th scope=col>ATC</th><th scope=col>Age</th><th scope=col>Disease_type</th><th scope=col>TE_fold</th><th scope=col>CD3</th><th scope=col>EM</th><th scope=col>...</th><th scope=col>cfDNA_samplename</th><th scope=col>cfDNA_gliph_n</th><th scope=col>cfDNA_CMV</th><th scope=col>cfDNA_EBV</th><th scope=col>cfDNA_HCV</th><th scope=col>cfDNA_Flu</th><th scope=col>cfDNA_hs</th><th scope=col>cyclenum</th><th scope=col>GLIPH_PC1</th><th scope=col>GLIPH_PC2</th></tr>\n",
       "\t<tr><th></th><th scope=col>&lt;chr&gt;</th><th scope=col>&lt;chr&gt;</th><th scope=col>&lt;chr&gt;</th><th scope=col>&lt;dbl&gt;</th><th scope=col>&lt;dbl&gt;</th><th scope=col>&lt;dbl&gt;</th><th scope=col>&lt;chr&gt;</th><th scope=col>&lt;dbl&gt;</th><th scope=col>&lt;int&gt;</th><th scope=col>&lt;int&gt;</th><th scope=col>...</th><th scope=col>&lt;chr&gt;</th><th scope=col>&lt;dbl&gt;</th><th scope=col>&lt;dbl&gt;</th><th scope=col>&lt;dbl&gt;</th><th scope=col>&lt;dbl&gt;</th><th scope=col>&lt;dbl&gt;</th><th scope=col>&lt;dbl&gt;</th><th scope=col>&lt;dbl&gt;</th><th scope=col>&lt;dbl&gt;</th><th scope=col>&lt;dbl&gt;</th></tr>\n",
       "</thead>\n",
       "<tbody>\n",
       "\t<tr><th scope=row>320</th><td>CHP_323_03</td><td>CHP_323</td><td>X03</td><td>0</td><td>786.24</td><td>1</td><td>HR ALL</td><td>0</td><td>0</td><td>NA</td><td>...</td><td>Leukemia:CHP_323_X03-cfDNA</td><td>71</td><td> 8</td><td> 2</td><td> 0</td><td> 5</td><td> 1</td><td>3</td><td>-1.695182</td><td>-1.5460521</td></tr>\n",
       "\t<tr><th scope=row>322</th><td>CHP_323_05</td><td>CHP_323</td><td>X05</td><td>0</td><td>979.50</td><td>1</td><td>HR ALL</td><td>0</td><td>0</td><td>NA</td><td>...</td><td>Leukemia:CHP_323_X05-cfDNA</td><td> 9</td><td> 0</td><td> 0</td><td> 0</td><td> 0</td><td> 0</td><td>5</td><td>-1.817785</td><td>-1.7676623</td></tr>\n",
       "\t<tr><th scope=row>346</th><td>CHP_328_04</td><td>CHP_328</td><td>X04</td><td>0</td><td>130.82</td><td>7</td><td>SR ALL</td><td>0</td><td>0</td><td>NA</td><td>...</td><td>NA                        </td><td>NA</td><td>NA</td><td>NA</td><td>NA</td><td>NA</td><td>NA</td><td>4</td><td> 1.201478</td><td> 4.0826196</td></tr>\n",
       "\t<tr><th scope=row>347</th><td>CHP_328_05</td><td>CHP_328</td><td>X05</td><td>0</td><td> 91.16</td><td>7</td><td>SR ALL</td><td>0</td><td>0</td><td>NA</td><td>...</td><td>Leukemia:CHP_328_X05-cfDNA</td><td> 0</td><td> 0</td><td> 0</td><td> 0</td><td> 0</td><td> 0</td><td>5</td><td>-1.041710</td><td>-0.6360027</td></tr>\n",
       "\t<tr><th scope=row>361</th><td>CHP_331_04</td><td>CHP_331</td><td>X04</td><td>0</td><td>  0.00</td><td>5</td><td>SR ALL</td><td>0</td><td>0</td><td>NA</td><td>...</td><td>NA                        </td><td>NA</td><td>NA</td><td>NA</td><td>NA</td><td>NA</td><td>NA</td><td>4</td><td>-1.844016</td><td>-1.8657837</td></tr>\n",
       "\t<tr><th scope=row>362</th><td>CHP_331_05</td><td>CHP_331</td><td>X05</td><td>0</td><td>  0.00</td><td>5</td><td>SR ALL</td><td>0</td><td>0</td><td>NA</td><td>...</td><td>Leukemia:CHP_331_X05-cfDNA</td><td>15</td><td> 0</td><td> 0</td><td> 0</td><td> 0</td><td> 0</td><td>5</td><td>-1.729523</td><td>-1.7568730</td></tr>\n",
       "</tbody>\n",
       "</table>\n"
      ],
      "text/latex": [
       "A data.frame: 6 x 126\n",
       "\\begin{tabular}{r|lllllllllllllllllllll}\n",
       "  & sample\\_id & Patient & cycle & FOLD & ATC & Age & Disease\\_type & TE\\_fold & CD3 & EM & ... & cfDNA\\_samplename & cfDNA\\_gliph\\_n & cfDNA\\_CMV & cfDNA\\_EBV & cfDNA\\_HCV & cfDNA\\_Flu & cfDNA\\_hs & cyclenum & GLIPH\\_PC1 & GLIPH\\_PC2\\\\\n",
       "  & <chr> & <chr> & <chr> & <dbl> & <dbl> & <dbl> & <chr> & <dbl> & <int> & <int> & ... & <chr> & <dbl> & <dbl> & <dbl> & <dbl> & <dbl> & <dbl> & <dbl> & <dbl> & <dbl>\\\\\n",
       "\\hline\n",
       "\t320 & CHP\\_323\\_03 & CHP\\_323 & X03 & 0 & 786.24 & 1 & HR ALL & 0 & 0 & NA & ... & Leukemia:CHP\\_323\\_X03-cfDNA & 71 &  8 &  2 &  0 &  5 &  1 & 3 & -1.695182 & -1.5460521\\\\\n",
       "\t322 & CHP\\_323\\_05 & CHP\\_323 & X05 & 0 & 979.50 & 1 & HR ALL & 0 & 0 & NA & ... & Leukemia:CHP\\_323\\_X05-cfDNA &  9 &  0 &  0 &  0 &  0 &  0 & 5 & -1.817785 & -1.7676623\\\\\n",
       "\t346 & CHP\\_328\\_04 & CHP\\_328 & X04 & 0 & 130.82 & 7 & SR ALL & 0 & 0 & NA & ... & NA                         & NA & NA & NA & NA & NA & NA & 4 &  1.201478 &  4.0826196\\\\\n",
       "\t347 & CHP\\_328\\_05 & CHP\\_328 & X05 & 0 &  91.16 & 7 & SR ALL & 0 & 0 & NA & ... & Leukemia:CHP\\_328\\_X05-cfDNA &  0 &  0 &  0 &  0 &  0 &  0 & 5 & -1.041710 & -0.6360027\\\\\n",
       "\t361 & CHP\\_331\\_04 & CHP\\_331 & X04 & 0 &   0.00 & 5 & SR ALL & 0 & 0 & NA & ... & NA                         & NA & NA & NA & NA & NA & NA & 4 & -1.844016 & -1.8657837\\\\\n",
       "\t362 & CHP\\_331\\_05 & CHP\\_331 & X05 & 0 &   0.00 & 5 & SR ALL & 0 & 0 & NA & ... & Leukemia:CHP\\_331\\_X05-cfDNA & 15 &  0 &  0 &  0 &  0 &  0 & 5 & -1.729523 & -1.7568730\\\\\n",
       "\\end{tabular}\n"
      ],
      "text/markdown": [
       "\n",
       "A data.frame: 6 x 126\n",
       "\n",
       "| <!--/--> | sample_id &lt;chr&gt; | Patient &lt;chr&gt; | cycle &lt;chr&gt; | FOLD &lt;dbl&gt; | ATC &lt;dbl&gt; | Age &lt;dbl&gt; | Disease_type &lt;chr&gt; | TE_fold &lt;dbl&gt; | CD3 &lt;int&gt; | EM &lt;int&gt; | ... ... | cfDNA_samplename &lt;chr&gt; | cfDNA_gliph_n &lt;dbl&gt; | cfDNA_CMV &lt;dbl&gt; | cfDNA_EBV &lt;dbl&gt; | cfDNA_HCV &lt;dbl&gt; | cfDNA_Flu &lt;dbl&gt; | cfDNA_hs &lt;dbl&gt; | cyclenum &lt;dbl&gt; | GLIPH_PC1 &lt;dbl&gt; | GLIPH_PC2 &lt;dbl&gt; |\n",
       "|---|---|---|---|---|---|---|---|---|---|---|---|---|---|---|---|---|---|---|---|---|---|\n",
       "| 320 | CHP_323_03 | CHP_323 | X03 | 0 | 786.24 | 1 | HR ALL | 0 | 0 | NA | ... | Leukemia:CHP_323_X03-cfDNA | 71 |  8 |  2 |  0 |  5 |  1 | 3 | -1.695182 | -1.5460521 |\n",
       "| 322 | CHP_323_05 | CHP_323 | X05 | 0 | 979.50 | 1 | HR ALL | 0 | 0 | NA | ... | Leukemia:CHP_323_X05-cfDNA |  9 |  0 |  0 |  0 |  0 |  0 | 5 | -1.817785 | -1.7676623 |\n",
       "| 346 | CHP_328_04 | CHP_328 | X04 | 0 | 130.82 | 7 | SR ALL | 0 | 0 | NA | ... | NA                         | NA | NA | NA | NA | NA | NA | 4 |  1.201478 |  4.0826196 |\n",
       "| 347 | CHP_328_05 | CHP_328 | X05 | 0 |  91.16 | 7 | SR ALL | 0 | 0 | NA | ... | Leukemia:CHP_328_X05-cfDNA |  0 |  0 |  0 |  0 |  0 |  0 | 5 | -1.041710 | -0.6360027 |\n",
       "| 361 | CHP_331_04 | CHP_331 | X04 | 0 |   0.00 | 5 | SR ALL | 0 | 0 | NA | ... | NA                         | NA | NA | NA | NA | NA | NA | 4 | -1.844016 | -1.8657837 |\n",
       "| 362 | CHP_331_05 | CHP_331 | X05 | 0 |   0.00 | 5 | SR ALL | 0 | 0 | NA | ... | Leukemia:CHP_331_X05-cfDNA | 15 |  0 |  0 |  0 |  0 |  0 | 5 | -1.729523 | -1.7568730 |\n",
       "\n"
      ],
      "text/plain": [
       "    sample_id  Patient cycle FOLD ATC    Age Disease_type TE_fold CD3 EM ...\n",
       "320 CHP_323_03 CHP_323 X03   0    786.24 1   HR ALL       0       0   NA ...\n",
       "322 CHP_323_05 CHP_323 X05   0    979.50 1   HR ALL       0       0   NA ...\n",
       "346 CHP_328_04 CHP_328 X04   0    130.82 7   SR ALL       0       0   NA ...\n",
       "347 CHP_328_05 CHP_328 X05   0     91.16 7   SR ALL       0       0   NA ...\n",
       "361 CHP_331_04 CHP_331 X04   0      0.00 5   SR ALL       0       0   NA ...\n",
       "362 CHP_331_05 CHP_331 X05   0      0.00 5   SR ALL       0       0   NA ...\n",
       "    cfDNA_samplename           cfDNA_gliph_n cfDNA_CMV cfDNA_EBV cfDNA_HCV\n",
       "320 Leukemia:CHP_323_X03-cfDNA 71             8         2         0       \n",
       "322 Leukemia:CHP_323_X05-cfDNA  9             0         0         0       \n",
       "346 NA                         NA            NA        NA        NA       \n",
       "347 Leukemia:CHP_328_X05-cfDNA  0             0         0         0       \n",
       "361 NA                         NA            NA        NA        NA       \n",
       "362 Leukemia:CHP_331_X05-cfDNA 15             0         0         0       \n",
       "    cfDNA_Flu cfDNA_hs cyclenum GLIPH_PC1 GLIPH_PC2 \n",
       "320  5         1       3        -1.695182 -1.5460521\n",
       "322  0         0       5        -1.817785 -1.7676623\n",
       "346 NA        NA       4         1.201478  4.0826196\n",
       "347  0         0       5        -1.041710 -0.6360027\n",
       "361 NA        NA       4        -1.844016 -1.8657837\n",
       "362  0         0       5        -1.729523 -1.7568730"
      ]
     },
     "metadata": {},
     "output_type": "display_data"
    }
   ],
   "source": [
    "head(tcr_df_min2)"
   ]
  },
  {
   "cell_type": "code",
   "execution_count": 214,
   "metadata": {
    "vscode": {
     "languageId": "r"
    }
   },
   "outputs": [
    {
     "name": "stderr",
     "output_type": "stream",
     "text": [
      "Warning message:\n",
      "“\u001b[1m\u001b[22mThere were 4 warnings in `mutate()`.\n",
      "The first warning was:\n",
      "\u001b[1m\u001b[22m\u001b[36mℹ\u001b[39m In argument: `quantreg_log10shann = quantreg::rq(log10shann ~ cyclenum, tau =\n",
      "  0.5)$coef[2]/n()`.\n",
      "\u001b[36mℹ\u001b[39m In group 7: `Patient = \"CHP_343\"`.\n",
      "Caused by warning in `rq.fit.br()`:\n",
      "\u001b[33m!\u001b[39m Solution may be nonunique\n",
      "\u001b[1m\u001b[22m\u001b[36mℹ\u001b[39m Run `dplyr::last_dplyr_warnings()` to see the 3 remaining warnings.”\n",
      "Warning message:\n",
      "“\u001b[1m\u001b[22mThere were 2 warnings in `mutate()`.\n",
      "The first warning was:\n",
      "\u001b[1m\u001b[22m\u001b[36mℹ\u001b[39m In argument: `quantreg_gliph_n = quantreg::rq(gliph_n ~ cyclenum, tau =\n",
      "  0.5)$coef[2]/n()`.\n",
      "\u001b[36mℹ\u001b[39m In group 10: `Patient = \"CHP_347\"`.\n",
      "Caused by warning in `rq.fit.br()`:\n",
      "\u001b[33m!\u001b[39m Solution may be nonunique\n",
      "\u001b[1m\u001b[22m\u001b[36mℹ\u001b[39m Run `dplyr::last_dplyr_warnings()` to see the 1 remaining warning.”\n",
      "Warning message:\n",
      "“\u001b[1m\u001b[22mThere were 3 warnings in `mutate()`.\n",
      "The first warning was:\n",
      "\u001b[1m\u001b[22m\u001b[36mℹ\u001b[39m In argument: `quantreg_V_PC1 = quantreg::rq(V_PC1 ~ cyclenum, tau =\n",
      "  0.5)$coef[2]/n()`.\n",
      "\u001b[36mℹ\u001b[39m In group 7: `Patient = \"CHP_343\"`.\n",
      "Caused by warning in `rq.fit.br()`:\n",
      "\u001b[33m!\u001b[39m Solution may be nonunique\n",
      "\u001b[1m\u001b[22m\u001b[36mℹ\u001b[39m Run `dplyr::last_dplyr_warnings()` to see the 2 remaining warnings.”\n",
      "Warning message:\n",
      "“\u001b[1m\u001b[22mThere were 4 warnings in `mutate()`.\n",
      "The first warning was:\n",
      "\u001b[1m\u001b[22m\u001b[36mℹ\u001b[39m In argument: `quantreg_V_PC2 = quantreg::rq(V_PC2 ~ cyclenum, tau =\n",
      "  0.5)$coef[2]/n()`.\n",
      "\u001b[36mℹ\u001b[39m In group 7: `Patient = \"CHP_343\"`.\n",
      "Caused by warning in `rq.fit.br()`:\n",
      "\u001b[33m!\u001b[39m Solution may be nonunique\n",
      "\u001b[1m\u001b[22m\u001b[36mℹ\u001b[39m Run `dplyr::last_dplyr_warnings()` to see the 3 remaining warnings.”\n",
      "Warning message:\n",
      "“\u001b[1m\u001b[22mThere were 3 warnings in `mutate()`.\n",
      "The first warning was:\n",
      "\u001b[1m\u001b[22m\u001b[36mℹ\u001b[39m In argument: `quantreg_J_PC1 = quantreg::rq(J_PC1 ~ cyclenum, tau =\n",
      "  0.5)$coef[2]/n()`.\n",
      "\u001b[36mℹ\u001b[39m In group 7: `Patient = \"CHP_343\"`.\n",
      "Caused by warning in `rq.fit.br()`:\n",
      "\u001b[33m!\u001b[39m Solution may be nonunique\n",
      "\u001b[1m\u001b[22m\u001b[36mℹ\u001b[39m Run `dplyr::last_dplyr_warnings()` to see the 2 remaining warnings.”\n",
      "Warning message:\n",
      "“\u001b[1m\u001b[22mThere were 4 warnings in `mutate()`.\n",
      "The first warning was:\n",
      "\u001b[1m\u001b[22m\u001b[36mℹ\u001b[39m In argument: `quantreg_J_PC2 = quantreg::rq(J_PC2 ~ cyclenum, tau =\n",
      "  0.5)$coef[2]/n()`.\n",
      "\u001b[36mℹ\u001b[39m In group 7: `Patient = \"CHP_343\"`.\n",
      "Caused by warning in `rq.fit.br()`:\n",
      "\u001b[33m!\u001b[39m Solution may be nonunique\n",
      "\u001b[1m\u001b[22m\u001b[36mℹ\u001b[39m Run `dplyr::last_dplyr_warnings()` to see the 3 remaining warnings.”\n",
      "Warning message:\n",
      "“\u001b[1m\u001b[22mThere were 2 warnings in `mutate()`.\n",
      "The first warning was:\n",
      "\u001b[1m\u001b[22m\u001b[36mℹ\u001b[39m In argument: `quantreg_GLIPH_PC1 = quantreg::rq(GLIPH_PC1 ~ cyclenum, tau =\n",
      "  0.5)$coef[2]/n()`.\n",
      "\u001b[36mℹ\u001b[39m In group 10: `Patient = \"CHP_347\"`.\n",
      "Caused by warning in `rq.fit.br()`:\n",
      "\u001b[33m!\u001b[39m Solution may be nonunique\n",
      "\u001b[1m\u001b[22m\u001b[36mℹ\u001b[39m Run `dplyr::last_dplyr_warnings()` to see the 1 remaining warning.”\n",
      "Warning message:\n",
      "“\u001b[1m\u001b[22mThere were 3 warnings in `mutate()`.\n",
      "The first warning was:\n",
      "\u001b[1m\u001b[22m\u001b[36mℹ\u001b[39m In argument: `quantreg_GLIPH_PC2 = quantreg::rq(GLIPH_PC2 ~ cyclenum, tau =\n",
      "  0.5)$coef[2]/n()`.\n",
      "\u001b[36mℹ\u001b[39m In group 10: `Patient = \"CHP_347\"`.\n",
      "Caused by warning in `rq.fit.br()`:\n",
      "\u001b[33m!\u001b[39m Solution may be nonunique\n",
      "\u001b[1m\u001b[22m\u001b[36mℹ\u001b[39m Run `dplyr::last_dplyr_warnings()` to see the 2 remaining warnings.”\n"
     ]
    }
   ],
   "source": [
    "tcr_df_min2 <- tcr_df_min2 %>%\n",
    "group_by(Patient) %>%\n",
    "mutate(quantreg_log10shann = quantreg::rq(log10shann ~ cyclenum, tau = 0.5)$coef[2] / n() )  %>%\n",
    "mutate(quantreg_gliph_n = quantreg::rq(gliph_n ~ cyclenum, tau = 0.5)$coef[2] / n() ) %>%\n",
    "mutate(quantreg_V_PC1 = quantreg::rq( V_PC1 ~ cyclenum, tau = 0.5)$coef[2] / n() ) %>%\n",
    "mutate(quantreg_V_PC2 = quantreg::rq( V_PC2 ~ cyclenum, tau = 0.5)$coef[2] / n() ) %>%\n",
    "mutate(quantreg_J_PC1 = quantreg::rq( J_PC1 ~ cyclenum, tau = 0.5)$coef[2] / n() ) %>%\n",
    "mutate(quantreg_J_PC2 = quantreg::rq( J_PC2 ~ cyclenum, tau = 0.5)$coef[2] / n() ) %>%\n",
    "mutate(quantreg_GLIPH_PC1 = quantreg::rq( GLIPH_PC1 ~ cyclenum, tau = 0.5)$coef[2] / n() ) %>%\n",
    "mutate(quantreg_GLIPH_PC2 = quantreg::rq( GLIPH_PC2 ~ cyclenum, tau = 0.5)$coef[2] / n() ) %>%\n",
    "\n",
    "ungroup()"
   ]
  },
  {
   "cell_type": "code",
   "execution_count": 215,
   "metadata": {
    "vscode": {
     "languageId": "r"
    }
   },
   "outputs": [
    {
     "name": "stderr",
     "output_type": "stream",
     "text": [
      "Warning message:\n",
      "“\u001b[1m\u001b[22mThere were 4 warnings in `mutate()`.\n",
      "The first warning was:\n",
      "\u001b[1m\u001b[22m\u001b[36mℹ\u001b[39m In argument: `quantreg_TIM = quantreg::rq(`TIM3%` ~ cyclenum, tau =\n",
      "  0.5)$coef[2]/n()`.\n",
      "\u001b[36mℹ\u001b[39m In group 3: `Patient = \"CHP_343\"`.\n",
      "Caused by warning in `rq.fit.br()`:\n",
      "\u001b[33m!\u001b[39m Solution may be nonunique\n",
      "\u001b[1m\u001b[22m\u001b[36mℹ\u001b[39m Run `dplyr::last_dplyr_warnings()` to see the 3 remaining warnings.”\n",
      "Warning message:\n",
      "“\u001b[1m\u001b[22mThere were 6 warnings in `mutate()`.\n",
      "The first warning was:\n",
      "\u001b[1m\u001b[22m\u001b[36mℹ\u001b[39m In argument: `quantreg_LAG = quantreg::rq(`LAG3%` ~ cyclenum, tau =\n",
      "  0.5)$coef[2]/n()`.\n",
      "\u001b[36mℹ\u001b[39m In group 3: `Patient = \"CHP_343\"`.\n",
      "Caused by warning in `rq.fit.br()`:\n",
      "\u001b[33m!\u001b[39m Solution may be nonunique\n",
      "\u001b[1m\u001b[22m\u001b[36mℹ\u001b[39m Run `dplyr::last_dplyr_warnings()` to see the 5 remaining warnings.”\n",
      "Warning message:\n",
      "“\u001b[1m\u001b[22mThere were 4 warnings in `mutate()`.\n",
      "The first warning was:\n",
      "\u001b[1m\u001b[22m\u001b[36mℹ\u001b[39m In argument: `quantreg_PD1 = quantreg::rq(`PD1%` ~ cyclenum, tau =\n",
      "  0.5)$coef[2]/n()`.\n",
      "\u001b[36mℹ\u001b[39m In group 3: `Patient = \"CHP_343\"`.\n",
      "Caused by warning in `rq.fit.br()`:\n",
      "\u001b[33m!\u001b[39m Solution may be nonunique\n",
      "\u001b[1m\u001b[22m\u001b[36mℹ\u001b[39m Run `dplyr::last_dplyr_warnings()` to see the 3 remaining warnings.”\n"
     ]
    }
   ],
   "source": [
    "ncr_df_min2 <- ncr_df_min2 %>%\n",
    "group_by(Patient) %>%\n",
    "mutate(quantreg_TIM = quantreg::rq(`TIM3%` ~ cyclenum, tau = 0.5)$coef[2] / n()) %>%\n",
    "mutate(quantreg_LAG = quantreg::rq(`LAG3%` ~ cyclenum, tau = 0.5)$coef[2] / n() ) %>%\n",
    "mutate(quantreg_PD1 = quantreg::rq( `PD1%` ~ cyclenum, tau = 0.5)$coef[2] / n() ) %>%\n",
    "ungroup()"
   ]
  },
  {
   "cell_type": "code",
   "execution_count": 216,
   "metadata": {
    "vscode": {
     "languageId": "r"
    }
   },
   "outputs": [
    {
     "name": "stderr",
     "output_type": "stream",
     "text": [
      "Warning message:\n",
      "“\u001b[1m\u001b[22mThere were 5 warnings in `mutate()`.\n",
      "The first warning was:\n",
      "\u001b[1m\u001b[22m\u001b[36mℹ\u001b[39m In argument: `quantreg_N = quantreg::rq(`Naïve%` ~ cyclenum, tau =\n",
      "  0.5)$coef[2]/n()`.\n",
      "\u001b[36mℹ\u001b[39m In group 4: `Patient = \"CHP_347\"`.\n",
      "Caused by warning in `rq.fit.br()`:\n",
      "\u001b[33m!\u001b[39m Solution may be nonunique\n",
      "\u001b[1m\u001b[22m\u001b[36mℹ\u001b[39m Run `dplyr::last_dplyr_warnings()` to see the 4 remaining warnings.”\n",
      "Warning message:\n",
      "“\u001b[1m\u001b[22mThere were 7 warnings in `mutate()`.\n",
      "The first warning was:\n",
      "\u001b[1m\u001b[22m\u001b[36mℹ\u001b[39m In argument: `quantreg_CM = quantreg::rq(`CM%` ~ cyclenum, tau =\n",
      "  0.5)$coef[2]/n()`.\n",
      "\u001b[36mℹ\u001b[39m In group 2: `Patient = \"CHP_332\"`.\n",
      "Caused by warning in `rq.fit.br()`:\n",
      "\u001b[33m!\u001b[39m Solution may be nonunique\n",
      "\u001b[1m\u001b[22m\u001b[36mℹ\u001b[39m Run `dplyr::last_dplyr_warnings()` to see the 6 remaining warnings.”\n",
      "Warning message:\n",
      "“\u001b[1m\u001b[22mThere were 7 warnings in `mutate()`.\n",
      "The first warning was:\n",
      "\u001b[1m\u001b[22m\u001b[36mℹ\u001b[39m In argument: `quantreg_SCM = quantreg::rq(`SCM%` ~ cyclenum, tau =\n",
      "  0.5)$coef[2]/n()`.\n",
      "\u001b[36mℹ\u001b[39m In group 2: `Patient = \"CHP_332\"`.\n",
      "Caused by warning in `rq.fit.br()`:\n",
      "\u001b[33m!\u001b[39m Solution may be nonunique\n",
      "\u001b[1m\u001b[22m\u001b[36mℹ\u001b[39m Run `dplyr::last_dplyr_warnings()` to see the 6 remaining warnings.”\n",
      "Warning message:\n",
      "“\u001b[1m\u001b[22mThere were 5 warnings in `mutate()`.\n",
      "The first warning was:\n",
      "\u001b[1m\u001b[22m\u001b[36mℹ\u001b[39m In argument: `quantreg_EM = quantreg::rq(`EM%` ~ cyclenum, tau =\n",
      "  0.5)$coef[2]/n()`.\n",
      "\u001b[36mℹ\u001b[39m In group 2: `Patient = \"CHP_332\"`.\n",
      "Caused by warning in `rq.fit.br()`:\n",
      "\u001b[33m!\u001b[39m Solution may be nonunique\n",
      "\u001b[1m\u001b[22m\u001b[36mℹ\u001b[39m Run `dplyr::last_dplyr_warnings()` to see the 4 remaining warnings.”\n",
      "Warning message:\n",
      "“\u001b[1m\u001b[22mThere were 6 warnings in `mutate()`.\n",
      "The first warning was:\n",
      "\u001b[1m\u001b[22m\u001b[36mℹ\u001b[39m In argument: `quantreg_TE = quantreg::rq(`TE%` ~ cyclenum, tau =\n",
      "  0.5)$coef[2]/n()`.\n",
      "\u001b[36mℹ\u001b[39m In group 2: `Patient = \"CHP_332\"`.\n",
      "Caused by warning in `rq.fit.br()`:\n",
      "\u001b[33m!\u001b[39m Solution may be nonunique\n",
      "\u001b[1m\u001b[22m\u001b[36mℹ\u001b[39m Run `dplyr::last_dplyr_warnings()` to see the 5 remaining warnings.”\n"
     ]
    }
   ],
   "source": [
    "flow_df_min2 <- flow_df_min2 %>%\n",
    "group_by(Patient) %>%\n",
    "mutate(quantreg_N = quantreg::rq(`Naïve%` ~ cyclenum, tau = 0.5)$coef[2] / n() ) %>%\n",
    "mutate(quantreg_CM = quantreg::rq(`CM%` ~ cyclenum, tau = 0.5)$coef[2]  / n()) %>%\n",
    "mutate(quantreg_SCM = quantreg::rq( `SCM%` ~ cyclenum, tau = 0.5)$coef[2] / n() ) %>%\n",
    "mutate(quantreg_EM = quantreg::rq( `EM%` ~ cyclenum, tau = 0.5)$coef[2] / n()) %>%\n",
    "mutate(quantreg_TE = quantreg::rq( `TE%` ~ cyclenum, tau = 0.5)$coef[2] / n() ) %>%\n",
    "ungroup()"
   ]
  },
  {
   "cell_type": "code",
   "execution_count": 217,
   "metadata": {
    "vscode": {
     "languageId": "r"
    }
   },
   "outputs": [
    {
     "data": {
      "text/html": [
       "<table class=\"dataframe\">\n",
       "<caption>A tibble: 6 x 129</caption>\n",
       "<thead>\n",
       "\t<tr><th scope=col>sample_id</th><th scope=col>Patient</th><th scope=col>cycle</th><th scope=col>FOLD</th><th scope=col>ATC</th><th scope=col>Age</th><th scope=col>Disease_type</th><th scope=col>TE_fold</th><th scope=col>CD3</th><th scope=col>EM</th><th scope=col>...</th><th scope=col>cfDNA_EBV</th><th scope=col>cfDNA_HCV</th><th scope=col>cfDNA_Flu</th><th scope=col>cfDNA_hs</th><th scope=col>cyclenum</th><th scope=col>quantreg_N</th><th scope=col>quantreg_CM</th><th scope=col>quantreg_SCM</th><th scope=col>quantreg_EM</th><th scope=col>quantreg_TE</th></tr>\n",
       "\t<tr><th scope=col>&lt;chr&gt;</th><th scope=col>&lt;chr&gt;</th><th scope=col>&lt;chr&gt;</th><th scope=col>&lt;dbl&gt;</th><th scope=col>&lt;dbl&gt;</th><th scope=col>&lt;dbl&gt;</th><th scope=col>&lt;chr&gt;</th><th scope=col>&lt;dbl&gt;</th><th scope=col>&lt;int&gt;</th><th scope=col>&lt;int&gt;</th><th scope=col>...</th><th scope=col>&lt;dbl&gt;</th><th scope=col>&lt;dbl&gt;</th><th scope=col>&lt;dbl&gt;</th><th scope=col>&lt;dbl&gt;</th><th scope=col>&lt;dbl&gt;</th><th scope=col>&lt;dbl&gt;</th><th scope=col>&lt;dbl&gt;</th><th scope=col>&lt;dbl&gt;</th><th scope=col>&lt;dbl&gt;</th><th scope=col>&lt;dbl&gt;</th></tr>\n",
       "</thead>\n",
       "<tbody>\n",
       "\t<tr><td>CHP_343_02</td><td>CHP_343</td><td>X02</td><td> 0.3</td><td> 459.04</td><td> 8</td><td>EWS</td><td> 0.3</td><td>1135</td><td> 16</td><td>...</td><td> 0</td><td> 0</td><td> 0</td><td> 0</td><td>2</td><td> 0.1026273</td><td> 2.8897801</td><td>-0.6594274</td><td> 0.4025038</td><td>-2.940411</td></tr>\n",
       "\t<tr><td>CHP_343_03</td><td>CHP_343</td><td>X03</td><td> 0.6</td><td> 370.30</td><td> 8</td><td>EWS</td><td> 0.6</td><td>1650</td><td> 16</td><td>...</td><td>NA</td><td>NA</td><td>NA</td><td>NA</td><td>3</td><td> 0.1026273</td><td> 2.8897801</td><td>-0.6594274</td><td> 0.4025038</td><td>-2.940411</td></tr>\n",
       "\t<tr><td>CHP_343_04</td><td>CHP_343</td><td>X04</td><td> 1.5</td><td> 536.63</td><td> 8</td><td>EWS</td><td> 1.5</td><td>2612</td><td>146</td><td>...</td><td> 0</td><td> 0</td><td> 0</td><td> 0</td><td>4</td><td> 0.1026273</td><td> 2.8897801</td><td>-0.6594274</td><td> 0.4025038</td><td>-2.940411</td></tr>\n",
       "\t<tr><td>CHP_343_05</td><td>CHP_343</td><td>X05</td><td> 2.1</td><td> 371.20</td><td> 8</td><td>EWS</td><td> 2.1</td><td>2436</td><td>152</td><td>...</td><td> 0</td><td> 0</td><td> 0</td><td> 0</td><td>5</td><td> 0.1026273</td><td> 2.8897801</td><td>-0.6594274</td><td> 0.4025038</td><td>-2.940411</td></tr>\n",
       "\t<tr><td>CHP_347_02</td><td>CHP_347</td><td>X02</td><td> 6.4</td><td>1038.59</td><td>13</td><td>ALL</td><td> 6.4</td><td> 927</td><td> 15</td><td>...</td><td> 0</td><td> 0</td><td> 0</td><td> 0</td><td>2</td><td>-0.6003918</td><td>-0.6090838</td><td>-1.0940369</td><td>-0.1080237</td><td> 2.652185</td></tr>\n",
       "\t<tr><td>CHP_347_03</td><td>CHP_347</td><td>X03</td><td>37.6</td><td> 768.80</td><td>13</td><td>ALL</td><td>37.6</td><td>2379</td><td> 27</td><td>...</td><td> 0</td><td> 0</td><td> 0</td><td> 0</td><td>3</td><td>-0.6003918</td><td>-0.6090838</td><td>-1.0940369</td><td>-0.1080237</td><td> 2.652185</td></tr>\n",
       "</tbody>\n",
       "</table>\n"
      ],
      "text/latex": [
       "A tibble: 6 x 129\n",
       "\\begin{tabular}{lllllllllllllllllllll}\n",
       " sample\\_id & Patient & cycle & FOLD & ATC & Age & Disease\\_type & TE\\_fold & CD3 & EM & ... & cfDNA\\_EBV & cfDNA\\_HCV & cfDNA\\_Flu & cfDNA\\_hs & cyclenum & quantreg\\_N & quantreg\\_CM & quantreg\\_SCM & quantreg\\_EM & quantreg\\_TE\\\\\n",
       " <chr> & <chr> & <chr> & <dbl> & <dbl> & <dbl> & <chr> & <dbl> & <int> & <int> & ... & <dbl> & <dbl> & <dbl> & <dbl> & <dbl> & <dbl> & <dbl> & <dbl> & <dbl> & <dbl>\\\\\n",
       "\\hline\n",
       "\t CHP\\_343\\_02 & CHP\\_343 & X02 &  0.3 &  459.04 &  8 & EWS &  0.3 & 1135 &  16 & ... &  0 &  0 &  0 &  0 & 2 &  0.1026273 &  2.8897801 & -0.6594274 &  0.4025038 & -2.940411\\\\\n",
       "\t CHP\\_343\\_03 & CHP\\_343 & X03 &  0.6 &  370.30 &  8 & EWS &  0.6 & 1650 &  16 & ... & NA & NA & NA & NA & 3 &  0.1026273 &  2.8897801 & -0.6594274 &  0.4025038 & -2.940411\\\\\n",
       "\t CHP\\_343\\_04 & CHP\\_343 & X04 &  1.5 &  536.63 &  8 & EWS &  1.5 & 2612 & 146 & ... &  0 &  0 &  0 &  0 & 4 &  0.1026273 &  2.8897801 & -0.6594274 &  0.4025038 & -2.940411\\\\\n",
       "\t CHP\\_343\\_05 & CHP\\_343 & X05 &  2.1 &  371.20 &  8 & EWS &  2.1 & 2436 & 152 & ... &  0 &  0 &  0 &  0 & 5 &  0.1026273 &  2.8897801 & -0.6594274 &  0.4025038 & -2.940411\\\\\n",
       "\t CHP\\_347\\_02 & CHP\\_347 & X02 &  6.4 & 1038.59 & 13 & ALL &  6.4 &  927 &  15 & ... &  0 &  0 &  0 &  0 & 2 & -0.6003918 & -0.6090838 & -1.0940369 & -0.1080237 &  2.652185\\\\\n",
       "\t CHP\\_347\\_03 & CHP\\_347 & X03 & 37.6 &  768.80 & 13 & ALL & 37.6 & 2379 &  27 & ... &  0 &  0 &  0 &  0 & 3 & -0.6003918 & -0.6090838 & -1.0940369 & -0.1080237 &  2.652185\\\\\n",
       "\\end{tabular}\n"
      ],
      "text/markdown": [
       "\n",
       "A tibble: 6 x 129\n",
       "\n",
       "| sample_id &lt;chr&gt; | Patient &lt;chr&gt; | cycle &lt;chr&gt; | FOLD &lt;dbl&gt; | ATC &lt;dbl&gt; | Age &lt;dbl&gt; | Disease_type &lt;chr&gt; | TE_fold &lt;dbl&gt; | CD3 &lt;int&gt; | EM &lt;int&gt; | ... ... | cfDNA_EBV &lt;dbl&gt; | cfDNA_HCV &lt;dbl&gt; | cfDNA_Flu &lt;dbl&gt; | cfDNA_hs &lt;dbl&gt; | cyclenum &lt;dbl&gt; | quantreg_N &lt;dbl&gt; | quantreg_CM &lt;dbl&gt; | quantreg_SCM &lt;dbl&gt; | quantreg_EM &lt;dbl&gt; | quantreg_TE &lt;dbl&gt; |\n",
       "|---|---|---|---|---|---|---|---|---|---|---|---|---|---|---|---|---|---|---|---|---|\n",
       "| CHP_343_02 | CHP_343 | X02 |  0.3 |  459.04 |  8 | EWS |  0.3 | 1135 |  16 | ... |  0 |  0 |  0 |  0 | 2 |  0.1026273 |  2.8897801 | -0.6594274 |  0.4025038 | -2.940411 |\n",
       "| CHP_343_03 | CHP_343 | X03 |  0.6 |  370.30 |  8 | EWS |  0.6 | 1650 |  16 | ... | NA | NA | NA | NA | 3 |  0.1026273 |  2.8897801 | -0.6594274 |  0.4025038 | -2.940411 |\n",
       "| CHP_343_04 | CHP_343 | X04 |  1.5 |  536.63 |  8 | EWS |  1.5 | 2612 | 146 | ... |  0 |  0 |  0 |  0 | 4 |  0.1026273 |  2.8897801 | -0.6594274 |  0.4025038 | -2.940411 |\n",
       "| CHP_343_05 | CHP_343 | X05 |  2.1 |  371.20 |  8 | EWS |  2.1 | 2436 | 152 | ... |  0 |  0 |  0 |  0 | 5 |  0.1026273 |  2.8897801 | -0.6594274 |  0.4025038 | -2.940411 |\n",
       "| CHP_347_02 | CHP_347 | X02 |  6.4 | 1038.59 | 13 | ALL |  6.4 |  927 |  15 | ... |  0 |  0 |  0 |  0 | 2 | -0.6003918 | -0.6090838 | -1.0940369 | -0.1080237 |  2.652185 |\n",
       "| CHP_347_03 | CHP_347 | X03 | 37.6 |  768.80 | 13 | ALL | 37.6 | 2379 |  27 | ... |  0 |  0 |  0 |  0 | 3 | -0.6003918 | -0.6090838 | -1.0940369 | -0.1080237 |  2.652185 |\n",
       "\n"
      ],
      "text/plain": [
       "  sample_id  Patient cycle FOLD ATC     Age Disease_type TE_fold CD3  EM  ...\n",
       "1 CHP_343_02 CHP_343 X02    0.3  459.04  8  EWS           0.3    1135  16 ...\n",
       "2 CHP_343_03 CHP_343 X03    0.6  370.30  8  EWS           0.6    1650  16 ...\n",
       "3 CHP_343_04 CHP_343 X04    1.5  536.63  8  EWS           1.5    2612 146 ...\n",
       "4 CHP_343_05 CHP_343 X05    2.1  371.20  8  EWS           2.1    2436 152 ...\n",
       "5 CHP_347_02 CHP_347 X02    6.4 1038.59 13  ALL           6.4     927  15 ...\n",
       "6 CHP_347_03 CHP_347 X03   37.6  768.80 13  ALL          37.6    2379  27 ...\n",
       "  cfDNA_EBV cfDNA_HCV cfDNA_Flu cfDNA_hs cyclenum quantreg_N quantreg_CM\n",
       "1  0         0         0         0       2         0.1026273  2.8897801 \n",
       "2 NA        NA        NA        NA       3         0.1026273  2.8897801 \n",
       "3  0         0         0         0       4         0.1026273  2.8897801 \n",
       "4  0         0         0         0       5         0.1026273  2.8897801 \n",
       "5  0         0         0         0       2        -0.6003918 -0.6090838 \n",
       "6  0         0         0         0       3        -0.6003918 -0.6090838 \n",
       "  quantreg_SCM quantreg_EM quantreg_TE\n",
       "1 -0.6594274    0.4025038  -2.940411  \n",
       "2 -0.6594274    0.4025038  -2.940411  \n",
       "3 -0.6594274    0.4025038  -2.940411  \n",
       "4 -0.6594274    0.4025038  -2.940411  \n",
       "5 -1.0940369   -0.1080237   2.652185  \n",
       "6 -1.0940369   -0.1080237   2.652185  "
      ]
     },
     "metadata": {},
     "output_type": "display_data"
    }
   ],
   "source": [
    "head(flow_df_min2)"
   ]
  },
  {
   "cell_type": "code",
   "execution_count": 218,
   "metadata": {
    "vscode": {
     "languageId": "r"
    }
   },
   "outputs": [],
   "source": [
    "flow_df_min2_pt <- flow_df_min2[ !duplicated(flow_df_min2$Patient), ]\n",
    "ncr_df_min2_pt <- ncr_df_min2[ !duplicated(ncr_df_min2$Patient), ]\n",
    "tcr_df_min2_pt <- tcr_df_min2[ !duplicated(tcr_df_min2$Patient), ]"
   ]
  },
  {
   "cell_type": "code",
   "execution_count": 219,
   "metadata": {
    "vscode": {
     "languageId": "r"
    }
   },
   "outputs": [],
   "source": [
    "# merge all the dataframes, allow NAs to include all data\n",
    "df_min2_pt <- merge(flow_df_min2_pt, ncr_df_min2_pt, by = c(\"Patient\", \"cancergroup\"), all = TRUE)\n",
    "df_min2_pt <- merge(df_min2_pt, tcr_df_min2_pt, by = c(\"Patient\", \"cancergroup\"), all = TRUE)"
   ]
  },
  {
   "cell_type": "code",
   "execution_count": 220,
   "metadata": {
    "vscode": {
     "languageId": "r"
    }
   },
   "outputs": [
    {
     "data": {
      "text/html": [
       "<table class=\"dataframe\">\n",
       "<caption>A data.frame: 6 x 386</caption>\n",
       "<thead>\n",
       "\t<tr><th></th><th scope=col>Patient</th><th scope=col>cancergroup</th><th scope=col>sample_id.x</th><th scope=col>cycle.x</th><th scope=col>FOLD.x</th><th scope=col>ATC.x</th><th scope=col>Age.x</th><th scope=col>Disease_type.x</th><th scope=col>TE_fold.x</th><th scope=col>CD3.x</th><th scope=col>...</th><th scope=col>GLIPH_PC1</th><th scope=col>GLIPH_PC2</th><th scope=col>quantreg_log10shann</th><th scope=col>quantreg_gliph_n</th><th scope=col>quantreg_V_PC1</th><th scope=col>quantreg_V_PC2</th><th scope=col>quantreg_J_PC1</th><th scope=col>quantreg_J_PC2</th><th scope=col>quantreg_GLIPH_PC1</th><th scope=col>quantreg_GLIPH_PC2</th></tr>\n",
       "\t<tr><th></th><th scope=col>&lt;chr&gt;</th><th scope=col>&lt;chr&gt;</th><th scope=col>&lt;chr&gt;</th><th scope=col>&lt;chr&gt;</th><th scope=col>&lt;dbl&gt;</th><th scope=col>&lt;dbl&gt;</th><th scope=col>&lt;dbl&gt;</th><th scope=col>&lt;chr&gt;</th><th scope=col>&lt;dbl&gt;</th><th scope=col>&lt;int&gt;</th><th scope=col>...</th><th scope=col>&lt;dbl&gt;</th><th scope=col>&lt;dbl&gt;</th><th scope=col>&lt;dbl&gt;</th><th scope=col>&lt;dbl&gt;</th><th scope=col>&lt;dbl&gt;</th><th scope=col>&lt;dbl&gt;</th><th scope=col>&lt;dbl&gt;</th><th scope=col>&lt;dbl&gt;</th><th scope=col>&lt;dbl&gt;</th><th scope=col>&lt;dbl&gt;</th></tr>\n",
       "</thead>\n",
       "<tbody>\n",
       "\t<tr><th scope=row>1</th><td>CHP_323</td><td>Leukemia    </td><td>NA        </td><td>NA </td><td> NA</td><td>NA</td><td>NA</td><td>NA  </td><td> NA</td><td>  NA</td><td>...</td><td>-1.695182</td><td>-1.5460521</td><td> 0.08397725</td><td>  19.0</td><td>-0.5499794</td><td>-0.015550081</td><td>-0.32403859</td><td>-0.07463344</td><td>-0.03065078</td><td>-0.05540254</td></tr>\n",
       "\t<tr><th scope=row>2</th><td>CHP_328</td><td>Leukemia    </td><td>NA        </td><td>NA </td><td> NA</td><td>NA</td><td>NA</td><td>NA  </td><td> NA</td><td>  NA</td><td>...</td><td> 1.201478</td><td> 4.0826196</td><td>-0.20431926</td><td>-101.0</td><td> 3.0675231</td><td>-0.221912025</td><td> 1.68404146</td><td>-0.24569838</td><td>-1.12159369</td><td>-2.35931114</td></tr>\n",
       "\t<tr><th scope=row>3</th><td>CHP_330</td><td>Solid tumors</td><td>CHP_330_02</td><td>X02</td><td>1.9</td><td> 0</td><td> 5</td><td>OS  </td><td>1.9</td><td>2425</td><td>...</td><td>       NA</td><td>        NA</td><td>         NA</td><td>    NA</td><td>        NA</td><td>          NA</td><td>         NA</td><td>         NA</td><td>         NA</td><td>         NA</td></tr>\n",
       "\t<tr><th scope=row>4</th><td>CHP_331</td><td>Leukemia    </td><td>NA        </td><td>NA </td><td> NA</td><td>NA</td><td>NA</td><td>NA  </td><td> NA</td><td>  NA</td><td>...</td><td>-1.844016</td><td>-1.8657837</td><td> 0.29320592</td><td>  32.5</td><td>-1.2648018</td><td>-0.348304349</td><td>-0.58058798</td><td> 0.09160977</td><td> 0.05724633</td><td> 0.05445537</td></tr>\n",
       "\t<tr><th scope=row>5</th><td>CHP_332</td><td>Solid tumors</td><td>CHP_332_02</td><td>X02</td><td> NA</td><td> 0</td><td>10</td><td>ERMS</td><td> NA</td><td>2403</td><td>...</td><td>       NA</td><td>        NA</td><td>         NA</td><td>    NA</td><td>        NA</td><td>          NA</td><td>         NA</td><td>         NA</td><td>         NA</td><td>         NA</td></tr>\n",
       "\t<tr><th scope=row>6</th><td>CHP_338</td><td>Leukemia    </td><td>NA        </td><td>NA </td><td> NA</td><td>NA</td><td>NA</td><td>NA  </td><td> NA</td><td>  NA</td><td>...</td><td> 2.268234</td><td>-0.1504075</td><td>-0.02765594</td><td> -18.5</td><td> 0.3210089</td><td>-0.001426474</td><td> 0.08972143</td><td>-0.07648464</td><td>-0.56475963</td><td>-0.21614914</td></tr>\n",
       "</tbody>\n",
       "</table>\n"
      ],
      "text/latex": [
       "A data.frame: 6 x 386\n",
       "\\begin{tabular}{r|lllllllllllllllllllll}\n",
       "  & Patient & cancergroup & sample\\_id.x & cycle.x & FOLD.x & ATC.x & Age.x & Disease\\_type.x & TE\\_fold.x & CD3.x & ... & GLIPH\\_PC1 & GLIPH\\_PC2 & quantreg\\_log10shann & quantreg\\_gliph\\_n & quantreg\\_V\\_PC1 & quantreg\\_V\\_PC2 & quantreg\\_J\\_PC1 & quantreg\\_J\\_PC2 & quantreg\\_GLIPH\\_PC1 & quantreg\\_GLIPH\\_PC2\\\\\n",
       "  & <chr> & <chr> & <chr> & <chr> & <dbl> & <dbl> & <dbl> & <chr> & <dbl> & <int> & ... & <dbl> & <dbl> & <dbl> & <dbl> & <dbl> & <dbl> & <dbl> & <dbl> & <dbl> & <dbl>\\\\\n",
       "\\hline\n",
       "\t1 & CHP\\_323 & Leukemia     & NA         & NA  &  NA & NA & NA & NA   &  NA &   NA & ... & -1.695182 & -1.5460521 &  0.08397725 &   19.0 & -0.5499794 & -0.015550081 & -0.32403859 & -0.07463344 & -0.03065078 & -0.05540254\\\\\n",
       "\t2 & CHP\\_328 & Leukemia     & NA         & NA  &  NA & NA & NA & NA   &  NA &   NA & ... &  1.201478 &  4.0826196 & -0.20431926 & -101.0 &  3.0675231 & -0.221912025 &  1.68404146 & -0.24569838 & -1.12159369 & -2.35931114\\\\\n",
       "\t3 & CHP\\_330 & Solid tumors & CHP\\_330\\_02 & X02 & 1.9 &  0 &  5 & OS   & 1.9 & 2425 & ... &        NA &         NA &          NA &     NA &         NA &           NA &          NA &          NA &          NA &          NA\\\\\n",
       "\t4 & CHP\\_331 & Leukemia     & NA         & NA  &  NA & NA & NA & NA   &  NA &   NA & ... & -1.844016 & -1.8657837 &  0.29320592 &   32.5 & -1.2648018 & -0.348304349 & -0.58058798 &  0.09160977 &  0.05724633 &  0.05445537\\\\\n",
       "\t5 & CHP\\_332 & Solid tumors & CHP\\_332\\_02 & X02 &  NA &  0 & 10 & ERMS &  NA & 2403 & ... &        NA &         NA &          NA &     NA &         NA &           NA &          NA &          NA &          NA &          NA\\\\\n",
       "\t6 & CHP\\_338 & Leukemia     & NA         & NA  &  NA & NA & NA & NA   &  NA &   NA & ... &  2.268234 & -0.1504075 & -0.02765594 &  -18.5 &  0.3210089 & -0.001426474 &  0.08972143 & -0.07648464 & -0.56475963 & -0.21614914\\\\\n",
       "\\end{tabular}\n"
      ],
      "text/markdown": [
       "\n",
       "A data.frame: 6 x 386\n",
       "\n",
       "| <!--/--> | Patient &lt;chr&gt; | cancergroup &lt;chr&gt; | sample_id.x &lt;chr&gt; | cycle.x &lt;chr&gt; | FOLD.x &lt;dbl&gt; | ATC.x &lt;dbl&gt; | Age.x &lt;dbl&gt; | Disease_type.x &lt;chr&gt; | TE_fold.x &lt;dbl&gt; | CD3.x &lt;int&gt; | ... ... | GLIPH_PC1 &lt;dbl&gt; | GLIPH_PC2 &lt;dbl&gt; | quantreg_log10shann &lt;dbl&gt; | quantreg_gliph_n &lt;dbl&gt; | quantreg_V_PC1 &lt;dbl&gt; | quantreg_V_PC2 &lt;dbl&gt; | quantreg_J_PC1 &lt;dbl&gt; | quantreg_J_PC2 &lt;dbl&gt; | quantreg_GLIPH_PC1 &lt;dbl&gt; | quantreg_GLIPH_PC2 &lt;dbl&gt; |\n",
       "|---|---|---|---|---|---|---|---|---|---|---|---|---|---|---|---|---|---|---|---|---|---|\n",
       "| 1 | CHP_323 | Leukemia     | NA         | NA  |  NA | NA | NA | NA   |  NA |   NA | ... | -1.695182 | -1.5460521 |  0.08397725 |   19.0 | -0.5499794 | -0.015550081 | -0.32403859 | -0.07463344 | -0.03065078 | -0.05540254 |\n",
       "| 2 | CHP_328 | Leukemia     | NA         | NA  |  NA | NA | NA | NA   |  NA |   NA | ... |  1.201478 |  4.0826196 | -0.20431926 | -101.0 |  3.0675231 | -0.221912025 |  1.68404146 | -0.24569838 | -1.12159369 | -2.35931114 |\n",
       "| 3 | CHP_330 | Solid tumors | CHP_330_02 | X02 | 1.9 |  0 |  5 | OS   | 1.9 | 2425 | ... |        NA |         NA |          NA |     NA |         NA |           NA |          NA |          NA |          NA |          NA |\n",
       "| 4 | CHP_331 | Leukemia     | NA         | NA  |  NA | NA | NA | NA   |  NA |   NA | ... | -1.844016 | -1.8657837 |  0.29320592 |   32.5 | -1.2648018 | -0.348304349 | -0.58058798 |  0.09160977 |  0.05724633 |  0.05445537 |\n",
       "| 5 | CHP_332 | Solid tumors | CHP_332_02 | X02 |  NA |  0 | 10 | ERMS |  NA | 2403 | ... |        NA |         NA |          NA |     NA |         NA |           NA |          NA |          NA |          NA |          NA |\n",
       "| 6 | CHP_338 | Leukemia     | NA         | NA  |  NA | NA | NA | NA   |  NA |   NA | ... |  2.268234 | -0.1504075 | -0.02765594 |  -18.5 |  0.3210089 | -0.001426474 |  0.08972143 | -0.07648464 | -0.56475963 | -0.21614914 |\n",
       "\n"
      ],
      "text/plain": [
       "  Patient cancergroup  sample_id.x cycle.x FOLD.x ATC.x Age.x Disease_type.x\n",
       "1 CHP_323 Leukemia     NA          NA       NA    NA    NA    NA            \n",
       "2 CHP_328 Leukemia     NA          NA       NA    NA    NA    NA            \n",
       "3 CHP_330 Solid tumors CHP_330_02  X02     1.9     0     5    OS            \n",
       "4 CHP_331 Leukemia     NA          NA       NA    NA    NA    NA            \n",
       "5 CHP_332 Solid tumors CHP_332_02  X02      NA     0    10    ERMS          \n",
       "6 CHP_338 Leukemia     NA          NA       NA    NA    NA    NA            \n",
       "  TE_fold.x CD3.x ... GLIPH_PC1 GLIPH_PC2  quantreg_log10shann quantreg_gliph_n\n",
       "1  NA         NA  ... -1.695182 -1.5460521  0.08397725           19.0          \n",
       "2  NA         NA  ...  1.201478  4.0826196 -0.20431926         -101.0          \n",
       "3 1.9       2425  ...        NA         NA          NA             NA          \n",
       "4  NA         NA  ... -1.844016 -1.8657837  0.29320592           32.5          \n",
       "5  NA       2403  ...        NA         NA          NA             NA          \n",
       "6  NA         NA  ...  2.268234 -0.1504075 -0.02765594          -18.5          \n",
       "  quantreg_V_PC1 quantreg_V_PC2 quantreg_J_PC1 quantreg_J_PC2\n",
       "1 -0.5499794     -0.015550081   -0.32403859    -0.07463344   \n",
       "2  3.0675231     -0.221912025    1.68404146    -0.24569838   \n",
       "3         NA               NA            NA             NA   \n",
       "4 -1.2648018     -0.348304349   -0.58058798     0.09160977   \n",
       "5         NA               NA            NA             NA   \n",
       "6  0.3210089     -0.001426474    0.08972143    -0.07648464   \n",
       "  quantreg_GLIPH_PC1 quantreg_GLIPH_PC2\n",
       "1 -0.03065078        -0.05540254       \n",
       "2 -1.12159369        -2.35931114       \n",
       "3          NA                 NA       \n",
       "4  0.05724633         0.05445537       \n",
       "5          NA                 NA       \n",
       "6 -0.56475963        -0.21614914       "
      ]
     },
     "metadata": {},
     "output_type": "display_data"
    }
   ],
   "source": [
    "head(df_min2_pt)"
   ]
  },
  {
   "cell_type": "code",
   "execution_count": 221,
   "metadata": {
    "vscode": {
     "languageId": "r"
    }
   },
   "outputs": [],
   "source": [
    "# df_min2_pt$quantreg_gliph_n <- NULL"
   ]
  },
  {
   "cell_type": "code",
   "execution_count": 222,
   "metadata": {
    "vscode": {
     "languageId": "r"
    }
   },
   "outputs": [],
   "source": [
    "mycol <- colnames(df_min2_pt)[grepl(\"quantreg\", colnames(df_min2_pt))]"
   ]
  },
  {
   "cell_type": "code",
   "execution_count": 223,
   "metadata": {
    "vscode": {
     "languageId": "r"
    }
   },
   "outputs": [
    {
     "data": {
      "text/html": [
       "<style>\n",
       ".list-inline {list-style: none; margin:0; padding: 0}\n",
       ".list-inline>li {display: inline-block}\n",
       ".list-inline>li:not(:last-child)::after {content: \"\\00b7\"; padding: 0 .5ex}\n",
       "</style>\n",
       "<ol class=list-inline><li>'quantreg_N'</li><li>'quantreg_CM'</li><li>'quantreg_SCM'</li><li>'quantreg_EM'</li><li>'quantreg_TE'</li><li>'quantreg_TIM'</li><li>'quantreg_LAG'</li><li>'quantreg_PD1'</li><li>'quantreg_log10shann'</li><li>'quantreg_gliph_n'</li><li>'quantreg_V_PC1'</li><li>'quantreg_V_PC2'</li><li>'quantreg_J_PC1'</li><li>'quantreg_J_PC2'</li><li>'quantreg_GLIPH_PC1'</li><li>'quantreg_GLIPH_PC2'</li></ol>\n"
      ],
      "text/latex": [
       "\\begin{enumerate*}\n",
       "\\item 'quantreg\\_N'\n",
       "\\item 'quantreg\\_CM'\n",
       "\\item 'quantreg\\_SCM'\n",
       "\\item 'quantreg\\_EM'\n",
       "\\item 'quantreg\\_TE'\n",
       "\\item 'quantreg\\_TIM'\n",
       "\\item 'quantreg\\_LAG'\n",
       "\\item 'quantreg\\_PD1'\n",
       "\\item 'quantreg\\_log10shann'\n",
       "\\item 'quantreg\\_gliph\\_n'\n",
       "\\item 'quantreg\\_V\\_PC1'\n",
       "\\item 'quantreg\\_V\\_PC2'\n",
       "\\item 'quantreg\\_J\\_PC1'\n",
       "\\item 'quantreg\\_J\\_PC2'\n",
       "\\item 'quantreg\\_GLIPH\\_PC1'\n",
       "\\item 'quantreg\\_GLIPH\\_PC2'\n",
       "\\end{enumerate*}\n"
      ],
      "text/markdown": [
       "1. 'quantreg_N'\n",
       "2. 'quantreg_CM'\n",
       "3. 'quantreg_SCM'\n",
       "4. 'quantreg_EM'\n",
       "5. 'quantreg_TE'\n",
       "6. 'quantreg_TIM'\n",
       "7. 'quantreg_LAG'\n",
       "8. 'quantreg_PD1'\n",
       "9. 'quantreg_log10shann'\n",
       "10. 'quantreg_gliph_n'\n",
       "11. 'quantreg_V_PC1'\n",
       "12. 'quantreg_V_PC2'\n",
       "13. 'quantreg_J_PC1'\n",
       "14. 'quantreg_J_PC2'\n",
       "15. 'quantreg_GLIPH_PC1'\n",
       "16. 'quantreg_GLIPH_PC2'\n",
       "\n",
       "\n"
      ],
      "text/plain": [
       " [1] \"quantreg_N\"          \"quantreg_CM\"         \"quantreg_SCM\"       \n",
       " [4] \"quantreg_EM\"         \"quantreg_TE\"         \"quantreg_TIM\"       \n",
       " [7] \"quantreg_LAG\"        \"quantreg_PD1\"        \"quantreg_log10shann\"\n",
       "[10] \"quantreg_gliph_n\"    \"quantreg_V_PC1\"      \"quantreg_V_PC2\"     \n",
       "[13] \"quantreg_J_PC1\"      \"quantreg_J_PC2\"      \"quantreg_GLIPH_PC1\" \n",
       "[16] \"quantreg_GLIPH_PC2\" "
      ]
     },
     "metadata": {},
     "output_type": "display_data"
    }
   ],
   "source": [
    "mycol"
   ]
  },
  {
   "cell_type": "code",
   "execution_count": 224,
   "metadata": {
    "vscode": {
     "languageId": "r"
    }
   },
   "outputs": [],
   "source": [
    "# scale\n",
    "for(i in mycol){\n",
    "    newvar <- paste0(i, \"_scaled\")\n",
    "df_min2_pt[[newvar]] <- as.vector(scale(df_min2_pt[[i]]))\n",
    "}"
   ]
  },
  {
   "cell_type": "code",
   "execution_count": 225,
   "metadata": {
    "vscode": {
     "languageId": "r"
    }
   },
   "outputs": [],
   "source": [
    "# rank\n",
    "for(i in mycol){\n",
    "    newvar <- paste0(i, \"_rank\")\n",
    "df_min2_pt[[newvar]] <- rank(df_min2_pt[[i]])\n",
    "}"
   ]
  },
  {
   "cell_type": "code",
   "execution_count": 226,
   "metadata": {
    "vscode": {
     "languageId": "r"
    }
   },
   "outputs": [
    {
     "data": {
      "text/html": [
       "-4.77667724948883"
      ],
      "text/latex": [
       "-4.77667724948883"
      ],
      "text/markdown": [
       "-4.77667724948883"
      ],
      "text/plain": [
       "[1] -4.776677"
      ]
     },
     "metadata": {},
     "output_type": "display_data"
    }
   ],
   "source": [
    "min(df_min2_pt$quantreg_LAG, na.rm = TRUE)"
   ]
  },
  {
   "cell_type": "code",
   "execution_count": 227,
   "metadata": {
    "vscode": {
     "languageId": "r"
    }
   },
   "outputs": [],
   "source": [
    "mycol <- colnames(df_min2_pt)[grepl(\"scaled\", colnames(df_min2_pt))]"
   ]
  },
  {
   "cell_type": "code",
   "execution_count": 228,
   "metadata": {
    "vscode": {
     "languageId": "r"
    }
   },
   "outputs": [
    {
     "data": {
      "text/html": [
       "<style>\n",
       ".list-inline {list-style: none; margin:0; padding: 0}\n",
       ".list-inline>li {display: inline-block}\n",
       ".list-inline>li:not(:last-child)::after {content: \"\\00b7\"; padding: 0 .5ex}\n",
       "</style>\n",
       "<ol class=list-inline><li>'quantreg_N_scaled'</li><li>'quantreg_CM_scaled'</li><li>'quantreg_SCM_scaled'</li><li>'quantreg_EM_scaled'</li><li>'quantreg_TE_scaled'</li><li>'quantreg_TIM_scaled'</li><li>'quantreg_LAG_scaled'</li><li>'quantreg_PD1_scaled'</li><li>'quantreg_log10shann_scaled'</li><li>'quantreg_gliph_n_scaled'</li><li>'quantreg_V_PC1_scaled'</li><li>'quantreg_V_PC2_scaled'</li><li>'quantreg_J_PC1_scaled'</li><li>'quantreg_J_PC2_scaled'</li><li>'quantreg_GLIPH_PC1_scaled'</li><li>'quantreg_GLIPH_PC2_scaled'</li></ol>\n"
      ],
      "text/latex": [
       "\\begin{enumerate*}\n",
       "\\item 'quantreg\\_N\\_scaled'\n",
       "\\item 'quantreg\\_CM\\_scaled'\n",
       "\\item 'quantreg\\_SCM\\_scaled'\n",
       "\\item 'quantreg\\_EM\\_scaled'\n",
       "\\item 'quantreg\\_TE\\_scaled'\n",
       "\\item 'quantreg\\_TIM\\_scaled'\n",
       "\\item 'quantreg\\_LAG\\_scaled'\n",
       "\\item 'quantreg\\_PD1\\_scaled'\n",
       "\\item 'quantreg\\_log10shann\\_scaled'\n",
       "\\item 'quantreg\\_gliph\\_n\\_scaled'\n",
       "\\item 'quantreg\\_V\\_PC1\\_scaled'\n",
       "\\item 'quantreg\\_V\\_PC2\\_scaled'\n",
       "\\item 'quantreg\\_J\\_PC1\\_scaled'\n",
       "\\item 'quantreg\\_J\\_PC2\\_scaled'\n",
       "\\item 'quantreg\\_GLIPH\\_PC1\\_scaled'\n",
       "\\item 'quantreg\\_GLIPH\\_PC2\\_scaled'\n",
       "\\end{enumerate*}\n"
      ],
      "text/markdown": [
       "1. 'quantreg_N_scaled'\n",
       "2. 'quantreg_CM_scaled'\n",
       "3. 'quantreg_SCM_scaled'\n",
       "4. 'quantreg_EM_scaled'\n",
       "5. 'quantreg_TE_scaled'\n",
       "6. 'quantreg_TIM_scaled'\n",
       "7. 'quantreg_LAG_scaled'\n",
       "8. 'quantreg_PD1_scaled'\n",
       "9. 'quantreg_log10shann_scaled'\n",
       "10. 'quantreg_gliph_n_scaled'\n",
       "11. 'quantreg_V_PC1_scaled'\n",
       "12. 'quantreg_V_PC2_scaled'\n",
       "13. 'quantreg_J_PC1_scaled'\n",
       "14. 'quantreg_J_PC2_scaled'\n",
       "15. 'quantreg_GLIPH_PC1_scaled'\n",
       "16. 'quantreg_GLIPH_PC2_scaled'\n",
       "\n",
       "\n"
      ],
      "text/plain": [
       " [1] \"quantreg_N_scaled\"          \"quantreg_CM_scaled\"        \n",
       " [3] \"quantreg_SCM_scaled\"        \"quantreg_EM_scaled\"        \n",
       " [5] \"quantreg_TE_scaled\"         \"quantreg_TIM_scaled\"       \n",
       " [7] \"quantreg_LAG_scaled\"        \"quantreg_PD1_scaled\"       \n",
       " [9] \"quantreg_log10shann_scaled\" \"quantreg_gliph_n_scaled\"   \n",
       "[11] \"quantreg_V_PC1_scaled\"      \"quantreg_V_PC2_scaled\"     \n",
       "[13] \"quantreg_J_PC1_scaled\"      \"quantreg_J_PC2_scaled\"     \n",
       "[15] \"quantreg_GLIPH_PC1_scaled\"  \"quantreg_GLIPH_PC2_scaled\" "
      ]
     },
     "metadata": {},
     "output_type": "display_data"
    }
   ],
   "source": [
    "mycol"
   ]
  },
  {
   "cell_type": "code",
   "execution_count": 229,
   "metadata": {
    "vscode": {
     "languageId": "r"
    }
   },
   "outputs": [
    {
     "data": {
      "text/plain": [
       "\n",
       "           Leukemia            Lymphoma        Solid tumors T-cell malignancies \n",
       "                 31                  10                  23                   2 "
      ]
     },
     "metadata": {},
     "output_type": "display_data"
    }
   ],
   "source": [
    "table(df_min2_pt$cancergroup)"
   ]
  },
  {
   "cell_type": "code",
   "execution_count": 230,
   "metadata": {
    "vscode": {
     "languageId": "r"
    }
   },
   "outputs": [],
   "source": [
    "df_min2_pt_long <- tidyr::pivot_longer(df_min2_pt, all_of(mycol), names_to = \"Feature\", values_to = \"Quantreg\")"
   ]
  },
  {
   "cell_type": "code",
   "execution_count": 231,
   "metadata": {
    "vscode": {
     "languageId": "r"
    }
   },
   "outputs": [],
   "source": [
    "df_min2_pt_long <- as.data.frame(df_min2_pt_long)"
   ]
  },
  {
   "cell_type": "code",
   "execution_count": 232,
   "metadata": {
    "vscode": {
     "languageId": "r"
    }
   },
   "outputs": [],
   "source": [
    "df_min2_pt_long_narm <- df_min2_pt_long[ !is.na(df_min2_pt_long$Quantreg),]"
   ]
  },
  {
   "cell_type": "markdown",
   "metadata": {},
   "source": [
    "Boxplot"
   ]
  },
  {
   "cell_type": "code",
   "execution_count": 233,
   "metadata": {
    "vscode": {
     "languageId": "r"
    }
   },
   "outputs": [],
   "source": [
    "# use scaled for viz\n",
    "df_min2_pt_long_narm$Featurename <- gsub(\"_scaled\", \"\", df_min2_pt_long_narm$Feature)\n",
    "df_min2_pt_long_narm$Featurename <- gsub(\"quantreg_\", \"\", df_min2_pt_long_narm$Featurename)"
   ]
  },
  {
   "cell_type": "code",
   "execution_count": 234,
   "metadata": {
    "vscode": {
     "languageId": "r"
    }
   },
   "outputs": [
    {
     "data": {
      "text/plain": [
       "\n",
       "           Leukemia            Lymphoma        Solid tumors T-cell malignancies \n",
       "                330                 125                 253                  24 "
      ]
     },
     "metadata": {},
     "output_type": "display_data"
    }
   ],
   "source": [
    "table(df_min2_pt_long_narm$cancergroup)"
   ]
  },
  {
   "cell_type": "code",
   "execution_count": 235,
   "metadata": {
    "vscode": {
     "languageId": "r"
    }
   },
   "outputs": [
    {
     "data": {
      "text/plain": [
       "\n",
       "        CM         EM    gliph_n  GLIPH_PC1  GLIPH_PC2      J_PC1      J_PC2 \n",
       "        43         43         50         50         50         50         50 \n",
       "       LAG log10shann          N        PD1        SCM         TE        TIM \n",
       "        39         50         43         39         43         43         39 \n",
       "     V_PC1      V_PC2 \n",
       "        50         50 "
      ]
     },
     "metadata": {},
     "output_type": "display_data"
    }
   ],
   "source": [
    "table(df_min2_pt_long_narm$Featurename)"
   ]
  },
  {
   "cell_type": "code",
   "execution_count": 236,
   "metadata": {
    "vscode": {
     "languageId": "r"
    }
   },
   "outputs": [],
   "source": [
    "df_min2_pt_long_narm$Featurename <- factor(df_min2_pt_long_narm$Featurename, \n",
    "levels = c(\"N\", \"SCM\", \"CM\", \"EM\", \"TE\", \"PD1\", \"LAG\", \"TIM\",\n",
    "\"log10shann\", \"V_PC1\", \"V_PC2\", \"J_PC1\", \"J_PC2\", \"gliph_n\", \"GLIPH_PC1\", \"GLIPH_PC2\"))"
   ]
  },
  {
   "cell_type": "code",
   "execution_count": 237,
   "metadata": {
    "vscode": {
     "languageId": "r"
    }
   },
   "outputs": [],
   "source": [
    "df_min2_pt_long_narm$Featurename <- factor(df_min2_pt_long_narm$Featurename, \n",
    "levels = rev(levels(df_min2_pt_long_narm$Featurename) ) )"
   ]
  },
  {
   "cell_type": "code",
   "execution_count": 238,
   "metadata": {
    "vscode": {
     "languageId": "r"
    }
   },
   "outputs": [],
   "source": [
    "p1 <- ggplot(df_min2_pt_long_narm, aes(y = Featurename, x = Quantreg)) +  geom_point(aes( color = cancergroup), position = position_jitter(w = 0.05, h = 0.15)) +\n",
    "        geom_boxplot(outlier.shape = NA, alpha = 0, color = \"#b7b2b2\") + myaxis + myplot + scale_color_manual(values = group_col)"
   ]
  },
  {
   "cell_type": "code",
   "execution_count": 239,
   "metadata": {
    "vscode": {
     "languageId": "r"
    }
   },
   "outputs": [
    {
     "data": {
      "image/png": "[encoded data removed]",
      "text/plain": [
       "plot without title"
      ]
     },
     "metadata": {
      "image/png": {
       "height": 420,
       "width": 420
      }
     },
     "output_type": "display_data"
    }
   ],
   "source": [
    "p1"
   ]
  },
  {
   "cell_type": "code",
   "execution_count": 240,
   "metadata": {
    "vscode": {
     "languageId": "r"
    }
   },
   "outputs": [
    {
     "data": {
      "text/html": [
       "<strong>pdf:</strong> 2"
      ],
      "text/latex": [
       "\\textbf{pdf:} 2"
      ],
      "text/markdown": [
       "**pdf:** 2"
      ],
      "text/plain": [
       "pdf \n",
       "  2 "
      ]
     },
     "metadata": {},
     "output_type": "display_data"
    }
   ],
   "source": [
    "pdf( paste0(plotpath, \"quantreq.pdf\"), width = 6, height = 8)\n",
    "p1 + theme(legend.position = \"bottom\")\n",
    "dev.off()"
   ]
  },
  {
   "cell_type": "markdown",
   "metadata": {},
   "source": [
    "LR and forestplot"
   ]
  },
  {
   "cell_type": "markdown",
   "metadata": {},
   "source": [
    "Use unscaled data for glm"
   ]
  },
  {
   "cell_type": "code",
   "execution_count": 241,
   "metadata": {
    "vscode": {
     "languageId": "r"
    }
   },
   "outputs": [],
   "source": [
    "mycol <- colnames(df_min2_pt)[grepl(\"quantreg\", colnames(df_min2_pt))]"
   ]
  },
  {
   "cell_type": "code",
   "execution_count": 242,
   "metadata": {
    "vscode": {
     "languageId": "r"
    }
   },
   "outputs": [],
   "source": [
    "mycol <- mycol[ !grepl(\"scaled\", mycol)]"
   ]
  },
  {
   "cell_type": "code",
   "execution_count": 243,
   "metadata": {
    "vscode": {
     "languageId": "r"
    }
   },
   "outputs": [],
   "source": [
    "mycol <- mycol[ !grepl(\"rank\", mycol)]"
   ]
  },
  {
   "cell_type": "code",
   "execution_count": 244,
   "metadata": {
    "vscode": {
     "languageId": "r"
    }
   },
   "outputs": [
    {
     "data": {
      "text/html": [
       "<style>\n",
       ".list-inline {list-style: none; margin:0; padding: 0}\n",
       ".list-inline>li {display: inline-block}\n",
       ".list-inline>li:not(:last-child)::after {content: \"\\00b7\"; padding: 0 .5ex}\n",
       "</style>\n",
       "<ol class=list-inline><li>'quantreg_N'</li><li>'quantreg_CM'</li><li>'quantreg_SCM'</li><li>'quantreg_EM'</li><li>'quantreg_TE'</li><li>'quantreg_TIM'</li><li>'quantreg_LAG'</li><li>'quantreg_PD1'</li><li>'quantreg_log10shann'</li><li>'quantreg_gliph_n'</li><li>'quantreg_V_PC1'</li><li>'quantreg_V_PC2'</li><li>'quantreg_J_PC1'</li><li>'quantreg_J_PC2'</li><li>'quantreg_GLIPH_PC1'</li><li>'quantreg_GLIPH_PC2'</li></ol>\n"
      ],
      "text/latex": [
       "\\begin{enumerate*}\n",
       "\\item 'quantreg\\_N'\n",
       "\\item 'quantreg\\_CM'\n",
       "\\item 'quantreg\\_SCM'\n",
       "\\item 'quantreg\\_EM'\n",
       "\\item 'quantreg\\_TE'\n",
       "\\item 'quantreg\\_TIM'\n",
       "\\item 'quantreg\\_LAG'\n",
       "\\item 'quantreg\\_PD1'\n",
       "\\item 'quantreg\\_log10shann'\n",
       "\\item 'quantreg\\_gliph\\_n'\n",
       "\\item 'quantreg\\_V\\_PC1'\n",
       "\\item 'quantreg\\_V\\_PC2'\n",
       "\\item 'quantreg\\_J\\_PC1'\n",
       "\\item 'quantreg\\_J\\_PC2'\n",
       "\\item 'quantreg\\_GLIPH\\_PC1'\n",
       "\\item 'quantreg\\_GLIPH\\_PC2'\n",
       "\\end{enumerate*}\n"
      ],
      "text/markdown": [
       "1. 'quantreg_N'\n",
       "2. 'quantreg_CM'\n",
       "3. 'quantreg_SCM'\n",
       "4. 'quantreg_EM'\n",
       "5. 'quantreg_TE'\n",
       "6. 'quantreg_TIM'\n",
       "7. 'quantreg_LAG'\n",
       "8. 'quantreg_PD1'\n",
       "9. 'quantreg_log10shann'\n",
       "10. 'quantreg_gliph_n'\n",
       "11. 'quantreg_V_PC1'\n",
       "12. 'quantreg_V_PC2'\n",
       "13. 'quantreg_J_PC1'\n",
       "14. 'quantreg_J_PC2'\n",
       "15. 'quantreg_GLIPH_PC1'\n",
       "16. 'quantreg_GLIPH_PC2'\n",
       "\n",
       "\n"
      ],
      "text/plain": [
       " [1] \"quantreg_N\"          \"quantreg_CM\"         \"quantreg_SCM\"       \n",
       " [4] \"quantreg_EM\"         \"quantreg_TE\"         \"quantreg_TIM\"       \n",
       " [7] \"quantreg_LAG\"        \"quantreg_PD1\"        \"quantreg_log10shann\"\n",
       "[10] \"quantreg_gliph_n\"    \"quantreg_V_PC1\"      \"quantreg_V_PC2\"     \n",
       "[13] \"quantreg_J_PC1\"      \"quantreg_J_PC2\"      \"quantreg_GLIPH_PC1\" \n",
       "[16] \"quantreg_GLIPH_PC2\" "
      ]
     },
     "metadata": {},
     "output_type": "display_data"
    }
   ],
   "source": [
    "mycol"
   ]
  },
  {
   "cell_type": "code",
   "execution_count": 245,
   "metadata": {
    "vscode": {
     "languageId": "r"
    }
   },
   "outputs": [],
   "source": [
    "df_min2_pt_long <- tidyr::pivot_longer(df_min2_pt, all_of(mycol), names_to = \"Feature\", values_to = \"Quantreg\")"
   ]
  },
  {
   "cell_type": "code",
   "execution_count": 246,
   "metadata": {
    "vscode": {
     "languageId": "r"
    }
   },
   "outputs": [],
   "source": [
    "df_min2_pt_long <- as.data.frame(df_min2_pt_long)"
   ]
  },
  {
   "cell_type": "code",
   "execution_count": 247,
   "metadata": {
    "vscode": {
     "languageId": "r"
    }
   },
   "outputs": [],
   "source": [
    "df_min2_pt_long_narm <- df_min2_pt_long[ !is.na(df_min2_pt_long$Quantreg),]"
   ]
  },
  {
   "cell_type": "code",
   "execution_count": 248,
   "metadata": {
    "vscode": {
     "languageId": "r"
    }
   },
   "outputs": [],
   "source": [
    "feat_lr_mat <- matrix(nrow = length(unique(df_min2_pt_long_narm$Feature)), ncol = 7)\n",
    "rownames(feat_lr_mat) <- unique(df_min2_pt_long_narm$Feature)\n",
    "colnames(feat_lr_mat) <- c('coef', 'exp(coef)', 'SE', 'z', 'Pr(>|z|)', 'lower.95' ,'upper.95')"
   ]
  },
  {
   "cell_type": "code",
   "execution_count": 249,
   "metadata": {
    "vscode": {
     "languageId": "r"
    }
   },
   "outputs": [
    {
     "data": {
      "text/html": [
       "<table class=\"dataframe\">\n",
       "<caption>A matrix: 16 x 7 of type lgl</caption>\n",
       "<thead>\n",
       "\t<tr><th></th><th scope=col>coef</th><th scope=col>exp(coef)</th><th scope=col>SE</th><th scope=col>z</th><th scope=col>Pr(&gt;|z|)</th><th scope=col>lower.95</th><th scope=col>upper.95</th></tr>\n",
       "</thead>\n",
       "<tbody>\n",
       "\t<tr><th scope=row>quantreg_log10shann</th><td>NA</td><td>NA</td><td>NA</td><td>NA</td><td>NA</td><td>NA</td><td>NA</td></tr>\n",
       "\t<tr><th scope=row>quantreg_gliph_n</th><td>NA</td><td>NA</td><td>NA</td><td>NA</td><td>NA</td><td>NA</td><td>NA</td></tr>\n",
       "\t<tr><th scope=row>quantreg_V_PC1</th><td>NA</td><td>NA</td><td>NA</td><td>NA</td><td>NA</td><td>NA</td><td>NA</td></tr>\n",
       "\t<tr><th scope=row>quantreg_V_PC2</th><td>NA</td><td>NA</td><td>NA</td><td>NA</td><td>NA</td><td>NA</td><td>NA</td></tr>\n",
       "\t<tr><th scope=row>quantreg_J_PC1</th><td>NA</td><td>NA</td><td>NA</td><td>NA</td><td>NA</td><td>NA</td><td>NA</td></tr>\n",
       "\t<tr><th scope=row>quantreg_J_PC2</th><td>NA</td><td>NA</td><td>NA</td><td>NA</td><td>NA</td><td>NA</td><td>NA</td></tr>\n",
       "\t<tr><th scope=row>quantreg_GLIPH_PC1</th><td>NA</td><td>NA</td><td>NA</td><td>NA</td><td>NA</td><td>NA</td><td>NA</td></tr>\n",
       "\t<tr><th scope=row>quantreg_GLIPH_PC2</th><td>NA</td><td>NA</td><td>NA</td><td>NA</td><td>NA</td><td>NA</td><td>NA</td></tr>\n",
       "\t<tr><th scope=row>quantreg_N</th><td>NA</td><td>NA</td><td>NA</td><td>NA</td><td>NA</td><td>NA</td><td>NA</td></tr>\n",
       "\t<tr><th scope=row>quantreg_CM</th><td>NA</td><td>NA</td><td>NA</td><td>NA</td><td>NA</td><td>NA</td><td>NA</td></tr>\n",
       "\t<tr><th scope=row>quantreg_SCM</th><td>NA</td><td>NA</td><td>NA</td><td>NA</td><td>NA</td><td>NA</td><td>NA</td></tr>\n",
       "\t<tr><th scope=row>quantreg_EM</th><td>NA</td><td>NA</td><td>NA</td><td>NA</td><td>NA</td><td>NA</td><td>NA</td></tr>\n",
       "\t<tr><th scope=row>quantreg_TE</th><td>NA</td><td>NA</td><td>NA</td><td>NA</td><td>NA</td><td>NA</td><td>NA</td></tr>\n",
       "\t<tr><th scope=row>quantreg_TIM</th><td>NA</td><td>NA</td><td>NA</td><td>NA</td><td>NA</td><td>NA</td><td>NA</td></tr>\n",
       "\t<tr><th scope=row>quantreg_LAG</th><td>NA</td><td>NA</td><td>NA</td><td>NA</td><td>NA</td><td>NA</td><td>NA</td></tr>\n",
       "\t<tr><th scope=row>quantreg_PD1</th><td>NA</td><td>NA</td><td>NA</td><td>NA</td><td>NA</td><td>NA</td><td>NA</td></tr>\n",
       "</tbody>\n",
       "</table>\n"
      ],
      "text/latex": [
       "A matrix: 16 x 7 of type lgl\n",
       "\\begin{tabular}{r|lllllll}\n",
       "  & coef & exp(coef) & SE & z & Pr(>\\textbar{}z\\textbar{}) & lower.95 & upper.95\\\\\n",
       "\\hline\n",
       "\tquantreg\\_log10shann & NA & NA & NA & NA & NA & NA & NA\\\\\n",
       "\tquantreg\\_gliph\\_n & NA & NA & NA & NA & NA & NA & NA\\\\\n",
       "\tquantreg\\_V\\_PC1 & NA & NA & NA & NA & NA & NA & NA\\\\\n",
       "\tquantreg\\_V\\_PC2 & NA & NA & NA & NA & NA & NA & NA\\\\\n",
       "\tquantreg\\_J\\_PC1 & NA & NA & NA & NA & NA & NA & NA\\\\\n",
       "\tquantreg\\_J\\_PC2 & NA & NA & NA & NA & NA & NA & NA\\\\\n",
       "\tquantreg\\_GLIPH\\_PC1 & NA & NA & NA & NA & NA & NA & NA\\\\\n",
       "\tquantreg\\_GLIPH\\_PC2 & NA & NA & NA & NA & NA & NA & NA\\\\\n",
       "\tquantreg\\_N & NA & NA & NA & NA & NA & NA & NA\\\\\n",
       "\tquantreg\\_CM & NA & NA & NA & NA & NA & NA & NA\\\\\n",
       "\tquantreg\\_SCM & NA & NA & NA & NA & NA & NA & NA\\\\\n",
       "\tquantreg\\_EM & NA & NA & NA & NA & NA & NA & NA\\\\\n",
       "\tquantreg\\_TE & NA & NA & NA & NA & NA & NA & NA\\\\\n",
       "\tquantreg\\_TIM & NA & NA & NA & NA & NA & NA & NA\\\\\n",
       "\tquantreg\\_LAG & NA & NA & NA & NA & NA & NA & NA\\\\\n",
       "\tquantreg\\_PD1 & NA & NA & NA & NA & NA & NA & NA\\\\\n",
       "\\end{tabular}\n"
      ],
      "text/markdown": [
       "\n",
       "A matrix: 16 x 7 of type lgl\n",
       "\n",
       "| <!--/--> | coef | exp(coef) | SE | z | Pr(&gt;|z|) | lower.95 | upper.95 |\n",
       "|---|---|---|---|---|---|---|---|\n",
       "| quantreg_log10shann | NA | NA | NA | NA | NA | NA | NA |\n",
       "| quantreg_gliph_n | NA | NA | NA | NA | NA | NA | NA |\n",
       "| quantreg_V_PC1 | NA | NA | NA | NA | NA | NA | NA |\n",
       "| quantreg_V_PC2 | NA | NA | NA | NA | NA | NA | NA |\n",
       "| quantreg_J_PC1 | NA | NA | NA | NA | NA | NA | NA |\n",
       "| quantreg_J_PC2 | NA | NA | NA | NA | NA | NA | NA |\n",
       "| quantreg_GLIPH_PC1 | NA | NA | NA | NA | NA | NA | NA |\n",
       "| quantreg_GLIPH_PC2 | NA | NA | NA | NA | NA | NA | NA |\n",
       "| quantreg_N | NA | NA | NA | NA | NA | NA | NA |\n",
       "| quantreg_CM | NA | NA | NA | NA | NA | NA | NA |\n",
       "| quantreg_SCM | NA | NA | NA | NA | NA | NA | NA |\n",
       "| quantreg_EM | NA | NA | NA | NA | NA | NA | NA |\n",
       "| quantreg_TE | NA | NA | NA | NA | NA | NA | NA |\n",
       "| quantreg_TIM | NA | NA | NA | NA | NA | NA | NA |\n",
       "| quantreg_LAG | NA | NA | NA | NA | NA | NA | NA |\n",
       "| quantreg_PD1 | NA | NA | NA | NA | NA | NA | NA |\n",
       "\n"
      ],
      "text/plain": [
       "                    coef exp(coef) SE z  Pr(>|z|) lower.95 upper.95\n",
       "quantreg_log10shann NA   NA        NA NA NA       NA       NA      \n",
       "quantreg_gliph_n    NA   NA        NA NA NA       NA       NA      \n",
       "quantreg_V_PC1      NA   NA        NA NA NA       NA       NA      \n",
       "quantreg_V_PC2      NA   NA        NA NA NA       NA       NA      \n",
       "quantreg_J_PC1      NA   NA        NA NA NA       NA       NA      \n",
       "quantreg_J_PC2      NA   NA        NA NA NA       NA       NA      \n",
       "quantreg_GLIPH_PC1  NA   NA        NA NA NA       NA       NA      \n",
       "quantreg_GLIPH_PC2  NA   NA        NA NA NA       NA       NA      \n",
       "quantreg_N          NA   NA        NA NA NA       NA       NA      \n",
       "quantreg_CM         NA   NA        NA NA NA       NA       NA      \n",
       "quantreg_SCM        NA   NA        NA NA NA       NA       NA      \n",
       "quantreg_EM         NA   NA        NA NA NA       NA       NA      \n",
       "quantreg_TE         NA   NA        NA NA NA       NA       NA      \n",
       "quantreg_TIM        NA   NA        NA NA NA       NA       NA      \n",
       "quantreg_LAG        NA   NA        NA NA NA       NA       NA      \n",
       "quantreg_PD1        NA   NA        NA NA NA       NA       NA      "
      ]
     },
     "metadata": {},
     "output_type": "display_data"
    }
   ],
   "source": [
    "feat_lr_mat"
   ]
  },
  {
   "cell_type": "code",
   "execution_count": 250,
   "metadata": {
    "vscode": {
     "languageId": "r"
    }
   },
   "outputs": [],
   "source": [
    "for(i in rownames(feat_lr_mat)){\n",
    "   # message(i)\n",
    "    f <- as.formula(paste0(\"Relapse~\", i,\"\"))  # lets just do univariate\n",
    "    lrmodel <- glm(f, data=df_min2_pt, family = \"binomial\") \n",
    "    sumlrmodel <- summary(lrmodel)\n",
    "#print(sumlrmodel)\n",
    "    myCI <- exp(confint.default(lrmodel, level = 0.95) )\n",
    "\n",
    "    feat_lr_mat[i,\"coef\"] <- sumlrmodel$coefficients[2,\"Estimate\"]\n",
    "    # exp of estimate is the odds ratio\n",
    "    feat_lr_mat[i,\"exp(coef)\"] <- exp(sumlrmodel$coefficients[2,\"Estimate\"])\n",
    "    feat_lr_mat[i,\"SE\"] <- sumlrmodel$coefficients[2,\"Std. Error\"]\n",
    "    feat_lr_mat[i,\"z\"] <- sumlrmodel$coefficients[2,\"z value\"]\n",
    "    feat_lr_mat[i,\"Pr(>|z|)\"] <- sumlrmodel$coefficients[2,\"Pr(>|z|)\"]\n",
    "    #from myCI\n",
    "    feat_lr_mat[i,\"lower.95\"] <- myCI[2,1]\n",
    "    feat_lr_mat[i,\"upper.95\"] <- myCI[2,2]\n",
    "}"
   ]
  },
  {
   "cell_type": "code",
   "execution_count": 251,
   "metadata": {
    "vscode": {
     "languageId": "r"
    }
   },
   "outputs": [
    {
     "data": {
      "text/html": [
       "<table class=\"dataframe\">\n",
       "<caption>A matrix: 16 x 7 of type dbl</caption>\n",
       "<thead>\n",
       "\t<tr><th></th><th scope=col>coef</th><th scope=col>exp(coef)</th><th scope=col>SE</th><th scope=col>z</th><th scope=col>Pr(&gt;|z|)</th><th scope=col>lower.95</th><th scope=col>upper.95</th></tr>\n",
       "</thead>\n",
       "<tbody>\n",
       "\t<tr><th scope=row>quantreg_log10shann</th><td>-0.569606607</td><td>0.5657480</td><td>1.420556093</td><td>-0.4009744</td><td>0.68843898</td><td>0.03494970</td><td>9.158040</td></tr>\n",
       "\t<tr><th scope=row>quantreg_gliph_n</th><td>-0.006021807</td><td>0.9939963</td><td>0.004559654</td><td>-1.3206720</td><td>0.18661076</td><td>0.98515276</td><td>1.002919</td></tr>\n",
       "\t<tr><th scope=row>quantreg_V_PC1</th><td> 0.190892160</td><td>1.2103289</td><td>0.141910291</td><td> 1.3451608</td><td>0.17857331</td><td>0.91645080</td><td>1.598445</td></tr>\n",
       "\t<tr><th scope=row>quantreg_V_PC2</th><td>-1.002081610</td><td>0.3671145</td><td>0.688749790</td><td>-1.4549284</td><td>0.14568909</td><td>0.09517801</td><td>1.416010</td></tr>\n",
       "\t<tr><th scope=row>quantreg_J_PC1</th><td> 0.344479951</td><td>1.4112558</td><td>0.260182638</td><td> 1.3239928</td><td>0.18550542</td><td>0.84749643</td><td>2.350031</td></tr>\n",
       "\t<tr><th scope=row>quantreg_J_PC2</th><td>-1.031647858</td><td>0.3564191</td><td>0.911518713</td><td>-1.1317901</td><td>0.25772269</td><td>0.05971383</td><td>2.127390</td></tr>\n",
       "\t<tr><th scope=row>quantreg_GLIPH_PC1</th><td>-0.264406346</td><td>0.7676615</td><td>0.210926518</td><td>-1.2535472</td><td>0.21000663</td><td>0.50772530</td><td>1.160675</td></tr>\n",
       "\t<tr><th scope=row>quantreg_GLIPH_PC2</th><td>-0.112354729</td><td>0.8937272</td><td>0.085213573</td><td>-1.3185074</td><td>0.18733384</td><td>0.75625984</td><td>1.056182</td></tr>\n",
       "\t<tr><th scope=row>quantreg_N</th><td> 0.030776891</td><td>1.0312554</td><td>0.075599776</td><td> 0.4071029</td><td>0.68393238</td><td>0.88923304</td><td>1.195961</td></tr>\n",
       "\t<tr><th scope=row>quantreg_CM</th><td> 0.055028850</td><td>1.0565711</td><td>0.044694578</td><td> 1.2312198</td><td>0.21824066</td><td>0.96795381</td><td>1.153301</td></tr>\n",
       "\t<tr><th scope=row>quantreg_SCM</th><td>-0.039305817</td><td>0.9614566</td><td>0.094899450</td><td>-0.4141838</td><td>0.67873949</td><td>0.79827245</td><td>1.157999</td></tr>\n",
       "\t<tr><th scope=row>quantreg_EM</th><td> 0.827331450</td><td>2.2872071</td><td>0.433555257</td><td> 1.9082491</td><td>0.05635902</td><td>0.97782825</td><td>5.349934</td></tr>\n",
       "\t<tr><th scope=row>quantreg_TE</th><td>-0.048830383</td><td>0.9523426</td><td>0.036626050</td><td>-1.3332146</td><td>0.18246140</td><td>0.88637415</td><td>1.023221</td></tr>\n",
       "\t<tr><th scope=row>quantreg_TIM</th><td>-0.063798342</td><td>0.9381942</td><td>0.107531574</td><td>-0.5932987</td><td>0.55298127</td><td>0.75990918</td><td>1.158307</td></tr>\n",
       "\t<tr><th scope=row>quantreg_LAG</th><td>-0.023570570</td><td>0.9767050</td><td>0.163772082</td><td>-0.1439230</td><td>0.88556127</td><td>0.70853349</td><td>1.346376</td></tr>\n",
       "\t<tr><th scope=row>quantreg_PD1</th><td>-0.063798342</td><td>0.9381942</td><td>0.107531574</td><td>-0.5932987</td><td>0.55298127</td><td>0.75990918</td><td>1.158307</td></tr>\n",
       "</tbody>\n",
       "</table>\n"
      ],
      "text/latex": [
       "A matrix: 16 x 7 of type dbl\n",
       "\\begin{tabular}{r|lllllll}\n",
       "  & coef & exp(coef) & SE & z & Pr(>\\textbar{}z\\textbar{}) & lower.95 & upper.95\\\\\n",
       "\\hline\n",
       "\tquantreg\\_log10shann & -0.569606607 & 0.5657480 & 1.420556093 & -0.4009744 & 0.68843898 & 0.03494970 & 9.158040\\\\\n",
       "\tquantreg\\_gliph\\_n & -0.006021807 & 0.9939963 & 0.004559654 & -1.3206720 & 0.18661076 & 0.98515276 & 1.002919\\\\\n",
       "\tquantreg\\_V\\_PC1 &  0.190892160 & 1.2103289 & 0.141910291 &  1.3451608 & 0.17857331 & 0.91645080 & 1.598445\\\\\n",
       "\tquantreg\\_V\\_PC2 & -1.002081610 & 0.3671145 & 0.688749790 & -1.4549284 & 0.14568909 & 0.09517801 & 1.416010\\\\\n",
       "\tquantreg\\_J\\_PC1 &  0.344479951 & 1.4112558 & 0.260182638 &  1.3239928 & 0.18550542 & 0.84749643 & 2.350031\\\\\n",
       "\tquantreg\\_J\\_PC2 & -1.031647858 & 0.3564191 & 0.911518713 & -1.1317901 & 0.25772269 & 0.05971383 & 2.127390\\\\\n",
       "\tquantreg\\_GLIPH\\_PC1 & -0.264406346 & 0.7676615 & 0.210926518 & -1.2535472 & 0.21000663 & 0.50772530 & 1.160675\\\\\n",
       "\tquantreg\\_GLIPH\\_PC2 & -0.112354729 & 0.8937272 & 0.085213573 & -1.3185074 & 0.18733384 & 0.75625984 & 1.056182\\\\\n",
       "\tquantreg\\_N &  0.030776891 & 1.0312554 & 0.075599776 &  0.4071029 & 0.68393238 & 0.88923304 & 1.195961\\\\\n",
       "\tquantreg\\_CM &  0.055028850 & 1.0565711 & 0.044694578 &  1.2312198 & 0.21824066 & 0.96795381 & 1.153301\\\\\n",
       "\tquantreg\\_SCM & -0.039305817 & 0.9614566 & 0.094899450 & -0.4141838 & 0.67873949 & 0.79827245 & 1.157999\\\\\n",
       "\tquantreg\\_EM &  0.827331450 & 2.2872071 & 0.433555257 &  1.9082491 & 0.05635902 & 0.97782825 & 5.349934\\\\\n",
       "\tquantreg\\_TE & -0.048830383 & 0.9523426 & 0.036626050 & -1.3332146 & 0.18246140 & 0.88637415 & 1.023221\\\\\n",
       "\tquantreg\\_TIM & -0.063798342 & 0.9381942 & 0.107531574 & -0.5932987 & 0.55298127 & 0.75990918 & 1.158307\\\\\n",
       "\tquantreg\\_LAG & -0.023570570 & 0.9767050 & 0.163772082 & -0.1439230 & 0.88556127 & 0.70853349 & 1.346376\\\\\n",
       "\tquantreg\\_PD1 & -0.063798342 & 0.9381942 & 0.107531574 & -0.5932987 & 0.55298127 & 0.75990918 & 1.158307\\\\\n",
       "\\end{tabular}\n"
      ],
      "text/markdown": [
       "\n",
       "A matrix: 16 x 7 of type dbl\n",
       "\n",
       "| <!--/--> | coef | exp(coef) | SE | z | Pr(&gt;|z|) | lower.95 | upper.95 |\n",
       "|---|---|---|---|---|---|---|---|\n",
       "| quantreg_log10shann | -0.569606607 | 0.5657480 | 1.420556093 | -0.4009744 | 0.68843898 | 0.03494970 | 9.158040 |\n",
       "| quantreg_gliph_n | -0.006021807 | 0.9939963 | 0.004559654 | -1.3206720 | 0.18661076 | 0.98515276 | 1.002919 |\n",
       "| quantreg_V_PC1 |  0.190892160 | 1.2103289 | 0.141910291 |  1.3451608 | 0.17857331 | 0.91645080 | 1.598445 |\n",
       "| quantreg_V_PC2 | -1.002081610 | 0.3671145 | 0.688749790 | -1.4549284 | 0.14568909 | 0.09517801 | 1.416010 |\n",
       "| quantreg_J_PC1 |  0.344479951 | 1.4112558 | 0.260182638 |  1.3239928 | 0.18550542 | 0.84749643 | 2.350031 |\n",
       "| quantreg_J_PC2 | -1.031647858 | 0.3564191 | 0.911518713 | -1.1317901 | 0.25772269 | 0.05971383 | 2.127390 |\n",
       "| quantreg_GLIPH_PC1 | -0.264406346 | 0.7676615 | 0.210926518 | -1.2535472 | 0.21000663 | 0.50772530 | 1.160675 |\n",
       "| quantreg_GLIPH_PC2 | -0.112354729 | 0.8937272 | 0.085213573 | -1.3185074 | 0.18733384 | 0.75625984 | 1.056182 |\n",
       "| quantreg_N |  0.030776891 | 1.0312554 | 0.075599776 |  0.4071029 | 0.68393238 | 0.88923304 | 1.195961 |\n",
       "| quantreg_CM |  0.055028850 | 1.0565711 | 0.044694578 |  1.2312198 | 0.21824066 | 0.96795381 | 1.153301 |\n",
       "| quantreg_SCM | -0.039305817 | 0.9614566 | 0.094899450 | -0.4141838 | 0.67873949 | 0.79827245 | 1.157999 |\n",
       "| quantreg_EM |  0.827331450 | 2.2872071 | 0.433555257 |  1.9082491 | 0.05635902 | 0.97782825 | 5.349934 |\n",
       "| quantreg_TE | -0.048830383 | 0.9523426 | 0.036626050 | -1.3332146 | 0.18246140 | 0.88637415 | 1.023221 |\n",
       "| quantreg_TIM | -0.063798342 | 0.9381942 | 0.107531574 | -0.5932987 | 0.55298127 | 0.75990918 | 1.158307 |\n",
       "| quantreg_LAG | -0.023570570 | 0.9767050 | 0.163772082 | -0.1439230 | 0.88556127 | 0.70853349 | 1.346376 |\n",
       "| quantreg_PD1 | -0.063798342 | 0.9381942 | 0.107531574 | -0.5932987 | 0.55298127 | 0.75990918 | 1.158307 |\n",
       "\n"
      ],
      "text/plain": [
       "                    coef         exp(coef) SE          z          Pr(>|z|)  \n",
       "quantreg_log10shann -0.569606607 0.5657480 1.420556093 -0.4009744 0.68843898\n",
       "quantreg_gliph_n    -0.006021807 0.9939963 0.004559654 -1.3206720 0.18661076\n",
       "quantreg_V_PC1       0.190892160 1.2103289 0.141910291  1.3451608 0.17857331\n",
       "quantreg_V_PC2      -1.002081610 0.3671145 0.688749790 -1.4549284 0.14568909\n",
       "quantreg_J_PC1       0.344479951 1.4112558 0.260182638  1.3239928 0.18550542\n",
       "quantreg_J_PC2      -1.031647858 0.3564191 0.911518713 -1.1317901 0.25772269\n",
       "quantreg_GLIPH_PC1  -0.264406346 0.7676615 0.210926518 -1.2535472 0.21000663\n",
       "quantreg_GLIPH_PC2  -0.112354729 0.8937272 0.085213573 -1.3185074 0.18733384\n",
       "quantreg_N           0.030776891 1.0312554 0.075599776  0.4071029 0.68393238\n",
       "quantreg_CM          0.055028850 1.0565711 0.044694578  1.2312198 0.21824066\n",
       "quantreg_SCM        -0.039305817 0.9614566 0.094899450 -0.4141838 0.67873949\n",
       "quantreg_EM          0.827331450 2.2872071 0.433555257  1.9082491 0.05635902\n",
       "quantreg_TE         -0.048830383 0.9523426 0.036626050 -1.3332146 0.18246140\n",
       "quantreg_TIM        -0.063798342 0.9381942 0.107531574 -0.5932987 0.55298127\n",
       "quantreg_LAG        -0.023570570 0.9767050 0.163772082 -0.1439230 0.88556127\n",
       "quantreg_PD1        -0.063798342 0.9381942 0.107531574 -0.5932987 0.55298127\n",
       "                    lower.95   upper.95\n",
       "quantreg_log10shann 0.03494970 9.158040\n",
       "quantreg_gliph_n    0.98515276 1.002919\n",
       "quantreg_V_PC1      0.91645080 1.598445\n",
       "quantreg_V_PC2      0.09517801 1.416010\n",
       "quantreg_J_PC1      0.84749643 2.350031\n",
       "quantreg_J_PC2      0.05971383 2.127390\n",
       "quantreg_GLIPH_PC1  0.50772530 1.160675\n",
       "quantreg_GLIPH_PC2  0.75625984 1.056182\n",
       "quantreg_N          0.88923304 1.195961\n",
       "quantreg_CM         0.96795381 1.153301\n",
       "quantreg_SCM        0.79827245 1.157999\n",
       "quantreg_EM         0.97782825 5.349934\n",
       "quantreg_TE         0.88637415 1.023221\n",
       "quantreg_TIM        0.75990918 1.158307\n",
       "quantreg_LAG        0.70853349 1.346376\n",
       "quantreg_PD1        0.75990918 1.158307"
      ]
     },
     "metadata": {},
     "output_type": "display_data"
    }
   ],
   "source": [
    "feat_lr_mat"
   ]
  },
  {
   "cell_type": "code",
   "execution_count": 252,
   "metadata": {
    "vscode": {
     "languageId": "r"
    }
   },
   "outputs": [],
   "source": [
    "fdr_df <- as.matrix(p.adjust(feat_lr_mat[,5], method = \"fdr\"))\n",
    "colnames(fdr_df)[1] <- \"fdr\"\n",
    "feat_lr_mat <- cbind(feat_lr_mat, fdr_df)"
   ]
  },
  {
   "cell_type": "code",
   "execution_count": 253,
   "metadata": {
    "vscode": {
     "languageId": "r"
    }
   },
   "outputs": [],
   "source": [
    "feat_lr_mat <- as.data.frame(feat_lr_mat)"
   ]
  },
  {
   "cell_type": "code",
   "execution_count": 254,
   "metadata": {
    "vscode": {
     "languageId": "r"
    }
   },
   "outputs": [],
   "source": [
    "feat_lr_mat$Feature <- gsub(\"quantreg_\", \"\", rownames(feat_lr_mat))\n",
    "feat_lr_mat$Feature <- gsub(\"_rank\", \"\", feat_lr_mat$Feature)"
   ]
  },
  {
   "cell_type": "code",
   "execution_count": 255,
   "metadata": {
    "vscode": {
     "languageId": "r"
    }
   },
   "outputs": [
    {
     "data": {
      "text/html": [
       "<table class=\"dataframe\">\n",
       "<caption>A data.frame: 16 x 9</caption>\n",
       "<thead>\n",
       "\t<tr><th></th><th scope=col>coef</th><th scope=col>exp(coef)</th><th scope=col>SE</th><th scope=col>z</th><th scope=col>Pr(&gt;|z|)</th><th scope=col>lower.95</th><th scope=col>upper.95</th><th scope=col>fdr</th><th scope=col>Feature</th></tr>\n",
       "\t<tr><th></th><th scope=col>&lt;dbl&gt;</th><th scope=col>&lt;dbl&gt;</th><th scope=col>&lt;dbl&gt;</th><th scope=col>&lt;dbl&gt;</th><th scope=col>&lt;dbl&gt;</th><th scope=col>&lt;dbl&gt;</th><th scope=col>&lt;dbl&gt;</th><th scope=col>&lt;dbl&gt;</th><th scope=col>&lt;chr&gt;</th></tr>\n",
       "</thead>\n",
       "<tbody>\n",
       "\t<tr><th scope=row>quantreg_log10shann</th><td>-0.569606607</td><td>0.5657480</td><td>1.420556093</td><td>-0.4009744</td><td>0.68843898</td><td>0.03494970</td><td>9.158040</td><td>0.7343349</td><td>log10shann</td></tr>\n",
       "\t<tr><th scope=row>quantreg_gliph_n</th><td>-0.006021807</td><td>0.9939963</td><td>0.004559654</td><td>-1.3206720</td><td>0.18661076</td><td>0.98515276</td><td>1.002919</td><td>0.3879834</td><td>gliph_n   </td></tr>\n",
       "\t<tr><th scope=row>quantreg_V_PC1</th><td> 0.190892160</td><td>1.2103289</td><td>0.141910291</td><td> 1.3451608</td><td>0.17857331</td><td>0.91645080</td><td>1.598445</td><td>0.3879834</td><td>V_PC1     </td></tr>\n",
       "\t<tr><th scope=row>quantreg_V_PC2</th><td>-1.002081610</td><td>0.3671145</td><td>0.688749790</td><td>-1.4549284</td><td>0.14568909</td><td>0.09517801</td><td>1.416010</td><td>0.3879834</td><td>V_PC2     </td></tr>\n",
       "\t<tr><th scope=row>quantreg_J_PC1</th><td> 0.344479951</td><td>1.4112558</td><td>0.260182638</td><td> 1.3239928</td><td>0.18550542</td><td>0.84749643</td><td>2.350031</td><td>0.3879834</td><td>J_PC1     </td></tr>\n",
       "\t<tr><th scope=row>quantreg_J_PC2</th><td>-1.031647858</td><td>0.3564191</td><td>0.911518713</td><td>-1.1317901</td><td>0.25772269</td><td>0.05971383</td><td>2.127390</td><td>0.4123563</td><td>J_PC2     </td></tr>\n",
       "\t<tr><th scope=row>quantreg_GLIPH_PC1</th><td>-0.264406346</td><td>0.7676615</td><td>0.210926518</td><td>-1.2535472</td><td>0.21000663</td><td>0.50772530</td><td>1.160675</td><td>0.3879834</td><td>GLIPH_PC1 </td></tr>\n",
       "\t<tr><th scope=row>quantreg_GLIPH_PC2</th><td>-0.112354729</td><td>0.8937272</td><td>0.085213573</td><td>-1.3185074</td><td>0.18733384</td><td>0.75625984</td><td>1.056182</td><td>0.3879834</td><td>GLIPH_PC2 </td></tr>\n",
       "\t<tr><th scope=row>quantreg_N</th><td> 0.030776891</td><td>1.0312554</td><td>0.075599776</td><td> 0.4071029</td><td>0.68393238</td><td>0.88923304</td><td>1.195961</td><td>0.7343349</td><td>N         </td></tr>\n",
       "\t<tr><th scope=row>quantreg_CM</th><td> 0.055028850</td><td>1.0565711</td><td>0.044694578</td><td> 1.2312198</td><td>0.21824066</td><td>0.96795381</td><td>1.153301</td><td>0.3879834</td><td>CM        </td></tr>\n",
       "\t<tr><th scope=row>quantreg_SCM</th><td>-0.039305817</td><td>0.9614566</td><td>0.094899450</td><td>-0.4141838</td><td>0.67873949</td><td>0.79827245</td><td>1.157999</td><td>0.7343349</td><td>SCM       </td></tr>\n",
       "\t<tr><th scope=row>quantreg_EM</th><td> 0.827331450</td><td>2.2872071</td><td>0.433555257</td><td> 1.9082491</td><td>0.05635902</td><td>0.97782825</td><td>5.349934</td><td>0.3879834</td><td>EM        </td></tr>\n",
       "\t<tr><th scope=row>quantreg_TE</th><td>-0.048830383</td><td>0.9523426</td><td>0.036626050</td><td>-1.3332146</td><td>0.18246140</td><td>0.88637415</td><td>1.023221</td><td>0.3879834</td><td>TE        </td></tr>\n",
       "\t<tr><th scope=row>quantreg_TIM</th><td>-0.063798342</td><td>0.9381942</td><td>0.107531574</td><td>-0.5932987</td><td>0.55298127</td><td>0.75990918</td><td>1.158307</td><td>0.7343349</td><td>TIM       </td></tr>\n",
       "\t<tr><th scope=row>quantreg_LAG</th><td>-0.023570570</td><td>0.9767050</td><td>0.163772082</td><td>-0.1439230</td><td>0.88556127</td><td>0.70853349</td><td>1.346376</td><td>0.8855613</td><td>LAG       </td></tr>\n",
       "\t<tr><th scope=row>quantreg_PD1</th><td>-0.063798342</td><td>0.9381942</td><td>0.107531574</td><td>-0.5932987</td><td>0.55298127</td><td>0.75990918</td><td>1.158307</td><td>0.7343349</td><td>PD1       </td></tr>\n",
       "</tbody>\n",
       "</table>\n"
      ],
      "text/latex": [
       "A data.frame: 16 x 9\n",
       "\\begin{tabular}{r|lllllllll}\n",
       "  & coef & exp(coef) & SE & z & Pr(>\\textbar{}z\\textbar{}) & lower.95 & upper.95 & fdr & Feature\\\\\n",
       "  & <dbl> & <dbl> & <dbl> & <dbl> & <dbl> & <dbl> & <dbl> & <dbl> & <chr>\\\\\n",
       "\\hline\n",
       "\tquantreg\\_log10shann & -0.569606607 & 0.5657480 & 1.420556093 & -0.4009744 & 0.68843898 & 0.03494970 & 9.158040 & 0.7343349 & log10shann\\\\\n",
       "\tquantreg\\_gliph\\_n & -0.006021807 & 0.9939963 & 0.004559654 & -1.3206720 & 0.18661076 & 0.98515276 & 1.002919 & 0.3879834 & gliph\\_n   \\\\\n",
       "\tquantreg\\_V\\_PC1 &  0.190892160 & 1.2103289 & 0.141910291 &  1.3451608 & 0.17857331 & 0.91645080 & 1.598445 & 0.3879834 & V\\_PC1     \\\\\n",
       "\tquantreg\\_V\\_PC2 & -1.002081610 & 0.3671145 & 0.688749790 & -1.4549284 & 0.14568909 & 0.09517801 & 1.416010 & 0.3879834 & V\\_PC2     \\\\\n",
       "\tquantreg\\_J\\_PC1 &  0.344479951 & 1.4112558 & 0.260182638 &  1.3239928 & 0.18550542 & 0.84749643 & 2.350031 & 0.3879834 & J\\_PC1     \\\\\n",
       "\tquantreg\\_J\\_PC2 & -1.031647858 & 0.3564191 & 0.911518713 & -1.1317901 & 0.25772269 & 0.05971383 & 2.127390 & 0.4123563 & J\\_PC2     \\\\\n",
       "\tquantreg\\_GLIPH\\_PC1 & -0.264406346 & 0.7676615 & 0.210926518 & -1.2535472 & 0.21000663 & 0.50772530 & 1.160675 & 0.3879834 & GLIPH\\_PC1 \\\\\n",
       "\tquantreg\\_GLIPH\\_PC2 & -0.112354729 & 0.8937272 & 0.085213573 & -1.3185074 & 0.18733384 & 0.75625984 & 1.056182 & 0.3879834 & GLIPH\\_PC2 \\\\\n",
       "\tquantreg\\_N &  0.030776891 & 1.0312554 & 0.075599776 &  0.4071029 & 0.68393238 & 0.88923304 & 1.195961 & 0.7343349 & N         \\\\\n",
       "\tquantreg\\_CM &  0.055028850 & 1.0565711 & 0.044694578 &  1.2312198 & 0.21824066 & 0.96795381 & 1.153301 & 0.3879834 & CM        \\\\\n",
       "\tquantreg\\_SCM & -0.039305817 & 0.9614566 & 0.094899450 & -0.4141838 & 0.67873949 & 0.79827245 & 1.157999 & 0.7343349 & SCM       \\\\\n",
       "\tquantreg\\_EM &  0.827331450 & 2.2872071 & 0.433555257 &  1.9082491 & 0.05635902 & 0.97782825 & 5.349934 & 0.3879834 & EM        \\\\\n",
       "\tquantreg\\_TE & -0.048830383 & 0.9523426 & 0.036626050 & -1.3332146 & 0.18246140 & 0.88637415 & 1.023221 & 0.3879834 & TE        \\\\\n",
       "\tquantreg\\_TIM & -0.063798342 & 0.9381942 & 0.107531574 & -0.5932987 & 0.55298127 & 0.75990918 & 1.158307 & 0.7343349 & TIM       \\\\\n",
       "\tquantreg\\_LAG & -0.023570570 & 0.9767050 & 0.163772082 & -0.1439230 & 0.88556127 & 0.70853349 & 1.346376 & 0.8855613 & LAG       \\\\\n",
       "\tquantreg\\_PD1 & -0.063798342 & 0.9381942 & 0.107531574 & -0.5932987 & 0.55298127 & 0.75990918 & 1.158307 & 0.7343349 & PD1       \\\\\n",
       "\\end{tabular}\n"
      ],
      "text/markdown": [
       "\n",
       "A data.frame: 16 x 9\n",
       "\n",
       "| <!--/--> | coef &lt;dbl&gt; | exp(coef) &lt;dbl&gt; | SE &lt;dbl&gt; | z &lt;dbl&gt; | Pr(&gt;|z|) &lt;dbl&gt; | lower.95 &lt;dbl&gt; | upper.95 &lt;dbl&gt; | fdr &lt;dbl&gt; | Feature &lt;chr&gt; |\n",
       "|---|---|---|---|---|---|---|---|---|---|\n",
       "| quantreg_log10shann | -0.569606607 | 0.5657480 | 1.420556093 | -0.4009744 | 0.68843898 | 0.03494970 | 9.158040 | 0.7343349 | log10shann |\n",
       "| quantreg_gliph_n | -0.006021807 | 0.9939963 | 0.004559654 | -1.3206720 | 0.18661076 | 0.98515276 | 1.002919 | 0.3879834 | gliph_n    |\n",
       "| quantreg_V_PC1 |  0.190892160 | 1.2103289 | 0.141910291 |  1.3451608 | 0.17857331 | 0.91645080 | 1.598445 | 0.3879834 | V_PC1      |\n",
       "| quantreg_V_PC2 | -1.002081610 | 0.3671145 | 0.688749790 | -1.4549284 | 0.14568909 | 0.09517801 | 1.416010 | 0.3879834 | V_PC2      |\n",
       "| quantreg_J_PC1 |  0.344479951 | 1.4112558 | 0.260182638 |  1.3239928 | 0.18550542 | 0.84749643 | 2.350031 | 0.3879834 | J_PC1      |\n",
       "| quantreg_J_PC2 | -1.031647858 | 0.3564191 | 0.911518713 | -1.1317901 | 0.25772269 | 0.05971383 | 2.127390 | 0.4123563 | J_PC2      |\n",
       "| quantreg_GLIPH_PC1 | -0.264406346 | 0.7676615 | 0.210926518 | -1.2535472 | 0.21000663 | 0.50772530 | 1.160675 | 0.3879834 | GLIPH_PC1  |\n",
       "| quantreg_GLIPH_PC2 | -0.112354729 | 0.8937272 | 0.085213573 | -1.3185074 | 0.18733384 | 0.75625984 | 1.056182 | 0.3879834 | GLIPH_PC2  |\n",
       "| quantreg_N |  0.030776891 | 1.0312554 | 0.075599776 |  0.4071029 | 0.68393238 | 0.88923304 | 1.195961 | 0.7343349 | N          |\n",
       "| quantreg_CM |  0.055028850 | 1.0565711 | 0.044694578 |  1.2312198 | 0.21824066 | 0.96795381 | 1.153301 | 0.3879834 | CM         |\n",
       "| quantreg_SCM | -0.039305817 | 0.9614566 | 0.094899450 | -0.4141838 | 0.67873949 | 0.79827245 | 1.157999 | 0.7343349 | SCM        |\n",
       "| quantreg_EM |  0.827331450 | 2.2872071 | 0.433555257 |  1.9082491 | 0.05635902 | 0.97782825 | 5.349934 | 0.3879834 | EM         |\n",
       "| quantreg_TE | -0.048830383 | 0.9523426 | 0.036626050 | -1.3332146 | 0.18246140 | 0.88637415 | 1.023221 | 0.3879834 | TE         |\n",
       "| quantreg_TIM | -0.063798342 | 0.9381942 | 0.107531574 | -0.5932987 | 0.55298127 | 0.75990918 | 1.158307 | 0.7343349 | TIM        |\n",
       "| quantreg_LAG | -0.023570570 | 0.9767050 | 0.163772082 | -0.1439230 | 0.88556127 | 0.70853349 | 1.346376 | 0.8855613 | LAG        |\n",
       "| quantreg_PD1 | -0.063798342 | 0.9381942 | 0.107531574 | -0.5932987 | 0.55298127 | 0.75990918 | 1.158307 | 0.7343349 | PD1        |\n",
       "\n"
      ],
      "text/plain": [
       "                    coef         exp(coef) SE          z          Pr(>|z|)  \n",
       "quantreg_log10shann -0.569606607 0.5657480 1.420556093 -0.4009744 0.68843898\n",
       "quantreg_gliph_n    -0.006021807 0.9939963 0.004559654 -1.3206720 0.18661076\n",
       "quantreg_V_PC1       0.190892160 1.2103289 0.141910291  1.3451608 0.17857331\n",
       "quantreg_V_PC2      -1.002081610 0.3671145 0.688749790 -1.4549284 0.14568909\n",
       "quantreg_J_PC1       0.344479951 1.4112558 0.260182638  1.3239928 0.18550542\n",
       "quantreg_J_PC2      -1.031647858 0.3564191 0.911518713 -1.1317901 0.25772269\n",
       "quantreg_GLIPH_PC1  -0.264406346 0.7676615 0.210926518 -1.2535472 0.21000663\n",
       "quantreg_GLIPH_PC2  -0.112354729 0.8937272 0.085213573 -1.3185074 0.18733384\n",
       "quantreg_N           0.030776891 1.0312554 0.075599776  0.4071029 0.68393238\n",
       "quantreg_CM          0.055028850 1.0565711 0.044694578  1.2312198 0.21824066\n",
       "quantreg_SCM        -0.039305817 0.9614566 0.094899450 -0.4141838 0.67873949\n",
       "quantreg_EM          0.827331450 2.2872071 0.433555257  1.9082491 0.05635902\n",
       "quantreg_TE         -0.048830383 0.9523426 0.036626050 -1.3332146 0.18246140\n",
       "quantreg_TIM        -0.063798342 0.9381942 0.107531574 -0.5932987 0.55298127\n",
       "quantreg_LAG        -0.023570570 0.9767050 0.163772082 -0.1439230 0.88556127\n",
       "quantreg_PD1        -0.063798342 0.9381942 0.107531574 -0.5932987 0.55298127\n",
       "                    lower.95   upper.95 fdr       Feature   \n",
       "quantreg_log10shann 0.03494970 9.158040 0.7343349 log10shann\n",
       "quantreg_gliph_n    0.98515276 1.002919 0.3879834 gliph_n   \n",
       "quantreg_V_PC1      0.91645080 1.598445 0.3879834 V_PC1     \n",
       "quantreg_V_PC2      0.09517801 1.416010 0.3879834 V_PC2     \n",
       "quantreg_J_PC1      0.84749643 2.350031 0.3879834 J_PC1     \n",
       "quantreg_J_PC2      0.05971383 2.127390 0.4123563 J_PC2     \n",
       "quantreg_GLIPH_PC1  0.50772530 1.160675 0.3879834 GLIPH_PC1 \n",
       "quantreg_GLIPH_PC2  0.75625984 1.056182 0.3879834 GLIPH_PC2 \n",
       "quantreg_N          0.88923304 1.195961 0.7343349 N         \n",
       "quantreg_CM         0.96795381 1.153301 0.3879834 CM        \n",
       "quantreg_SCM        0.79827245 1.157999 0.7343349 SCM       \n",
       "quantreg_EM         0.97782825 5.349934 0.3879834 EM        \n",
       "quantreg_TE         0.88637415 1.023221 0.3879834 TE        \n",
       "quantreg_TIM        0.75990918 1.158307 0.7343349 TIM       \n",
       "quantreg_LAG        0.70853349 1.346376 0.8855613 LAG       \n",
       "quantreg_PD1        0.75990918 1.158307 0.7343349 PD1       "
      ]
     },
     "metadata": {},
     "output_type": "display_data"
    }
   ],
   "source": [
    "(feat_lr_mat)"
   ]
  },
  {
   "cell_type": "code",
   "execution_count": 256,
   "metadata": {
    "vscode": {
     "languageId": "r"
    }
   },
   "outputs": [],
   "source": [
    "feat_lr_mat$mean <- feat_lr_mat$`exp(coef)`\n",
    "feat_lr_mat$lower <- feat_lr_mat$`lower.95`\n",
    "feat_lr_mat$upper <- feat_lr_mat$`upper.95`"
   ]
  },
  {
   "cell_type": "code",
   "execution_count": 257,
   "metadata": {
    "vscode": {
     "languageId": "r"
    }
   },
   "outputs": [],
   "source": [
    "feat_lr_mat$OR <- as.character(round(feat_lr_mat$`exp(coef)`, 2) )\n",
    "feat_lr_mat$p <- as.character(round(feat_lr_mat$`Pr(>|z|)`, 2) )\n",
    "feat_lr_mat$FDR <- as.character(round(feat_lr_mat$fdr, 2) )"
   ]
  },
  {
   "cell_type": "code",
   "execution_count": 258,
   "metadata": {
    "vscode": {
     "languageId": "r"
    }
   },
   "outputs": [],
   "source": [
    "p2 <- feat_lr_mat |>\n",
    "  forestplot(\n",
    "    labeltext = c(Feature, OR, p, FDR),\n",
    "    clip = c(0, 2), \n",
    "    boxsize = 0.2,\n",
    "    vertices = TRUE,\n",
    "    xlog = FALSE, zero = 1\n",
    "  ) |>\n",
    "  fp_set_style(\n",
    "    box = \"royalblue\",\n",
    "    line = \"darkblue\",\n",
    "    summary = \"royalblue\"\n",
    "  ) |>\n",
    "  fp_add_header(\n",
    "    Feature = c(\"\", \"Feature\"),\n",
    "    OR = c(\"\", \"OR\"),\n",
    "    p = c(\"\", \"p value\"),\n",
    "    FDR = c(\"\", \"FDR\")\n",
    "  )\n"
   ]
  },
  {
   "cell_type": "code",
   "execution_count": 259,
   "metadata": {
    "vscode": {
     "languageId": "r"
    }
   },
   "outputs": [
    {
     "data": {
      "image/png": "[encoded data removed]",
      "text/plain": [
       "plot without title"
      ]
     },
     "metadata": {
      "image/png": {
       "height": 420,
       "width": 420
      }
     },
     "output_type": "display_data"
    }
   ],
   "source": [
    "p2"
   ]
  },
  {
   "cell_type": "code",
   "execution_count": 260,
   "metadata": {
    "vscode": {
     "languageId": "r"
    }
   },
   "outputs": [
    {
     "data": {
      "text/html": [
       "<strong>pdf:</strong> 2"
      ],
      "text/latex": [
       "\\textbf{pdf:} 2"
      ],
      "text/markdown": [
       "**pdf:** 2"
      ],
      "text/plain": [
       "pdf \n",
       "  2 "
      ]
     },
     "metadata": {},
     "output_type": "display_data"
    }
   ],
   "source": [
    "pdf(paste0(plotpath, \"forestplot_quantreq.pdf\"), width=6, height=8)\n",
    "p2\n",
    "dev.off()"
   ]
  },
  {
   "cell_type": "code",
   "execution_count": null,
   "metadata": {
    "vscode": {
     "languageId": "r"
    }
   },
   "outputs": [],
   "source": [
    "# pdf(file = paste0(plotpath,\"Univar_forestplot.pdf\"),\n",
    "#     width = 7, height = 10,\n",
    "#     useDingbats = FALSE, onefile = F)\n",
    "# forestplot(tabtext, hrs, new_page = TRUE, xlog = TRUE,\n",
    "#                    title = \"Survival analysis (iMATRIX-atezo)(p-value, FDR)\", boxsize = 0.25)\n",
    "# dev.off()"
   ]
  },
  {
   "cell_type": "markdown",
   "metadata": {},
   "source": [
    "# 2- Baseline associations"
   ]
  },
  {
   "cell_type": "code",
   "execution_count": null,
   "metadata": {
    "vscode": {
     "languageId": "r"
    }
   },
   "outputs": [],
   "source": []
  },
  {
   "cell_type": "code",
   "execution_count": 261,
   "metadata": {
    "vscode": {
     "languageId": "r"
    }
   },
   "outputs": [],
   "source": [
    "sample_df$cyclenum <- as.numeric(gsub(\"X0\", \"\", sample_df$cycle) )"
   ]
  },
  {
   "cell_type": "code",
   "execution_count": 262,
   "metadata": {
    "vscode": {
     "languageId": "r"
    }
   },
   "outputs": [],
   "source": [
    "# split to 3 dataframes: one for flow one for tcr and ncr\n",
    "\n",
    "tcr_df <- sample_df[ !is.na(sample_df$TRB), ]\n",
    "flow_df <- sample_df[ !is.na(sample_df$CD3) & sample_df$CD3 > 0, ]\n",
    "ncr_df <- flow_df[ !is.na(flow_df$`TIM3%`), ]"
   ]
  },
  {
   "cell_type": "code",
   "execution_count": 263,
   "metadata": {
    "vscode": {
     "languageId": "r"
    }
   },
   "outputs": [],
   "source": [
    "# only X01\n",
    "tcr_df <- tcr_df[ tcr_df$cycle == \"X01\", ]\n",
    "flow_df <- flow_df[ flow_df$cycle == \"X01\", ]\n",
    "ncr_df <- ncr_df[ ncr_df$cycle == \"X01\", ]"
   ]
  },
  {
   "cell_type": "code",
   "execution_count": 264,
   "metadata": {
    "vscode": {
     "languageId": "r"
    }
   },
   "outputs": [],
   "source": [
    "tcr_df$GLIPH_PC1 <- mypca[ match(tcr_df$samplename,  rownames(mypca)) , \"PC1\"]\n",
    "tcr_df$GLIPH_PC2 <- mypca[ match(tcr_df$samplename,  rownames(mypca)) , \"PC2\"]"
   ]
  },
  {
   "cell_type": "code",
   "execution_count": 289,
   "metadata": {
    "vscode": {
     "languageId": "r"
    }
   },
   "outputs": [],
   "source": [
    "# merge all the dataframes, allow NAs to include all data\n",
    "df_x01 <- merge(flow_df, ncr_df, by = c(\"Patient\", \"cancergroup\"), all = TRUE)\n",
    "df_x01 <- merge(df_x01, tcr_df, by = c(\"Patient\", \"cancergroup\"), all = TRUE)"
   ]
  },
  {
   "cell_type": "code",
   "execution_count": 290,
   "metadata": {
    "vscode": {
     "languageId": "r"
    }
   },
   "outputs": [
    {
     "data": {
      "text/html": [
       "<table class=\"dataframe\">\n",
       "<caption>A data.frame: 6 x 370</caption>\n",
       "<thead>\n",
       "\t<tr><th></th><th scope=col>Patient</th><th scope=col>cancergroup</th><th scope=col>sample_id.x</th><th scope=col>cycle.x</th><th scope=col>FOLD.x</th><th scope=col>ATC.x</th><th scope=col>Age.x</th><th scope=col>Disease_type.x</th><th scope=col>TE_fold.x</th><th scope=col>CD3.x</th><th scope=col>...</th><th scope=col>cfDNA_samplename</th><th scope=col>cfDNA_gliph_n</th><th scope=col>cfDNA_CMV</th><th scope=col>cfDNA_EBV</th><th scope=col>cfDNA_HCV</th><th scope=col>cfDNA_Flu</th><th scope=col>cfDNA_hs</th><th scope=col>cyclenum</th><th scope=col>GLIPH_PC1</th><th scope=col>GLIPH_PC2</th></tr>\n",
       "\t<tr><th></th><th scope=col>&lt;chr&gt;</th><th scope=col>&lt;chr&gt;</th><th scope=col>&lt;chr&gt;</th><th scope=col>&lt;chr&gt;</th><th scope=col>&lt;dbl&gt;</th><th scope=col>&lt;dbl&gt;</th><th scope=col>&lt;dbl&gt;</th><th scope=col>&lt;chr&gt;</th><th scope=col>&lt;dbl&gt;</th><th scope=col>&lt;int&gt;</th><th scope=col>...</th><th scope=col>&lt;chr&gt;</th><th scope=col>&lt;dbl&gt;</th><th scope=col>&lt;dbl&gt;</th><th scope=col>&lt;dbl&gt;</th><th scope=col>&lt;dbl&gt;</th><th scope=col>&lt;dbl&gt;</th><th scope=col>&lt;dbl&gt;</th><th scope=col>&lt;dbl&gt;</th><th scope=col>&lt;dbl&gt;</th><th scope=col>&lt;dbl&gt;</th></tr>\n",
       "</thead>\n",
       "<tbody>\n",
       "\t<tr><th scope=row>1</th><td>CHP_330</td><td>Solid tumors</td><td>CHP_330_01</td><td>X01</td><td> 0.9</td><td>  0.00</td><td> 5</td><td>OS  </td><td> 0.9</td><td>2437</td><td>...</td><td>NA                           </td><td>NA</td><td>NA</td><td>NA</td><td>NA</td><td>NA</td><td>NA</td><td>NA</td><td>        NA</td><td>       NA</td></tr>\n",
       "\t<tr><th scope=row>2</th><td>CHP_332</td><td>Solid tumors</td><td>CHP_332_01</td><td>X01</td><td> 8.2</td><td>  0.00</td><td>10</td><td>ERMS</td><td> 8.2</td><td>3628</td><td>...</td><td>NA                           </td><td>NA</td><td>NA</td><td>NA</td><td>NA</td><td>NA</td><td>NA</td><td>NA</td><td>        NA</td><td>       NA</td></tr>\n",
       "\t<tr><th scope=row>3</th><td>CHP_343</td><td>Solid tumors</td><td>CHP_343_01</td><td>X01</td><td> 1.0</td><td>219.30</td><td> 8</td><td>EWS </td><td> 1.0</td><td>2421</td><td>...</td><td>NA                           </td><td>NA</td><td>NA</td><td>NA</td><td>NA</td><td>NA</td><td>NA</td><td>NA</td><td>        NA</td><td>       NA</td></tr>\n",
       "\t<tr><th scope=row>4</th><td>CHP_346</td><td>Solid tumors</td><td>CHP_346_01</td><td>X01</td><td> 0.8</td><td>331.70</td><td> 1</td><td>NB  </td><td> 0.8</td><td> 637</td><td>...</td><td>NA                           </td><td>NA</td><td>NA</td><td>NA</td><td>NA</td><td>NA</td><td>NA</td><td> 1</td><td>-1.7338604</td><td>-1.773150</td></tr>\n",
       "\t<tr><th scope=row>5</th><td>CHP_347</td><td>Leukemia    </td><td>CHP_347_01</td><td>X01</td><td> 0.8</td><td>126.72</td><td>13</td><td>ALL </td><td> 0.8</td><td>1701</td><td>...</td><td>Leukemia:CHP_347_X01-cfDNA   </td><td> 0</td><td> 0</td><td> 0</td><td> 0</td><td> 0</td><td> 0</td><td> 1</td><td>-0.6656651</td><td>-1.249249</td></tr>\n",
       "\t<tr><th scope=row>6</th><td>CHP_348</td><td>Solid tumors</td><td>CHP_348_01</td><td>X01</td><td>11.5</td><td> 50.96</td><td>18</td><td>OS  </td><td>11.5</td><td>1125</td><td>...</td><td>Solidtumors:CHP_348_X01-cfDNA</td><td> 3</td><td> 0</td><td> 0</td><td> 0</td><td> 0</td><td> 0</td><td> 1</td><td>-1.0018511</td><td>-1.929393</td></tr>\n",
       "</tbody>\n",
       "</table>\n"
      ],
      "text/latex": [
       "A data.frame: 6 x 370\n",
       "\\begin{tabular}{r|lllllllllllllllllllll}\n",
       "  & Patient & cancergroup & sample\\_id.x & cycle.x & FOLD.x & ATC.x & Age.x & Disease\\_type.x & TE\\_fold.x & CD3.x & ... & cfDNA\\_samplename & cfDNA\\_gliph\\_n & cfDNA\\_CMV & cfDNA\\_EBV & cfDNA\\_HCV & cfDNA\\_Flu & cfDNA\\_hs & cyclenum & GLIPH\\_PC1 & GLIPH\\_PC2\\\\\n",
       "  & <chr> & <chr> & <chr> & <chr> & <dbl> & <dbl> & <dbl> & <chr> & <dbl> & <int> & ... & <chr> & <dbl> & <dbl> & <dbl> & <dbl> & <dbl> & <dbl> & <dbl> & <dbl> & <dbl>\\\\\n",
       "\\hline\n",
       "\t1 & CHP\\_330 & Solid tumors & CHP\\_330\\_01 & X01 &  0.9 &   0.00 &  5 & OS   &  0.9 & 2437 & ... & NA                            & NA & NA & NA & NA & NA & NA & NA &         NA &        NA\\\\\n",
       "\t2 & CHP\\_332 & Solid tumors & CHP\\_332\\_01 & X01 &  8.2 &   0.00 & 10 & ERMS &  8.2 & 3628 & ... & NA                            & NA & NA & NA & NA & NA & NA & NA &         NA &        NA\\\\\n",
       "\t3 & CHP\\_343 & Solid tumors & CHP\\_343\\_01 & X01 &  1.0 & 219.30 &  8 & EWS  &  1.0 & 2421 & ... & NA                            & NA & NA & NA & NA & NA & NA & NA &         NA &        NA\\\\\n",
       "\t4 & CHP\\_346 & Solid tumors & CHP\\_346\\_01 & X01 &  0.8 & 331.70 &  1 & NB   &  0.8 &  637 & ... & NA                            & NA & NA & NA & NA & NA & NA &  1 & -1.7338604 & -1.773150\\\\\n",
       "\t5 & CHP\\_347 & Leukemia     & CHP\\_347\\_01 & X01 &  0.8 & 126.72 & 13 & ALL  &  0.8 & 1701 & ... & Leukemia:CHP\\_347\\_X01-cfDNA    &  0 &  0 &  0 &  0 &  0 &  0 &  1 & -0.6656651 & -1.249249\\\\\n",
       "\t6 & CHP\\_348 & Solid tumors & CHP\\_348\\_01 & X01 & 11.5 &  50.96 & 18 & OS   & 11.5 & 1125 & ... & Solidtumors:CHP\\_348\\_X01-cfDNA &  3 &  0 &  0 &  0 &  0 &  0 &  1 & -1.0018511 & -1.929393\\\\\n",
       "\\end{tabular}\n"
      ],
      "text/markdown": [
       "\n",
       "A data.frame: 6 x 370\n",
       "\n",
       "| <!--/--> | Patient &lt;chr&gt; | cancergroup &lt;chr&gt; | sample_id.x &lt;chr&gt; | cycle.x &lt;chr&gt; | FOLD.x &lt;dbl&gt; | ATC.x &lt;dbl&gt; | Age.x &lt;dbl&gt; | Disease_type.x &lt;chr&gt; | TE_fold.x &lt;dbl&gt; | CD3.x &lt;int&gt; | ... ... | cfDNA_samplename &lt;chr&gt; | cfDNA_gliph_n &lt;dbl&gt; | cfDNA_CMV &lt;dbl&gt; | cfDNA_EBV &lt;dbl&gt; | cfDNA_HCV &lt;dbl&gt; | cfDNA_Flu &lt;dbl&gt; | cfDNA_hs &lt;dbl&gt; | cyclenum &lt;dbl&gt; | GLIPH_PC1 &lt;dbl&gt; | GLIPH_PC2 &lt;dbl&gt; |\n",
       "|---|---|---|---|---|---|---|---|---|---|---|---|---|---|---|---|---|---|---|---|---|---|\n",
       "| 1 | CHP_330 | Solid tumors | CHP_330_01 | X01 |  0.9 |   0.00 |  5 | OS   |  0.9 | 2437 | ... | NA                            | NA | NA | NA | NA | NA | NA | NA |         NA |        NA |\n",
       "| 2 | CHP_332 | Solid tumors | CHP_332_01 | X01 |  8.2 |   0.00 | 10 | ERMS |  8.2 | 3628 | ... | NA                            | NA | NA | NA | NA | NA | NA | NA |         NA |        NA |\n",
       "| 3 | CHP_343 | Solid tumors | CHP_343_01 | X01 |  1.0 | 219.30 |  8 | EWS  |  1.0 | 2421 | ... | NA                            | NA | NA | NA | NA | NA | NA | NA |         NA |        NA |\n",
       "| 4 | CHP_346 | Solid tumors | CHP_346_01 | X01 |  0.8 | 331.70 |  1 | NB   |  0.8 |  637 | ... | NA                            | NA | NA | NA | NA | NA | NA |  1 | -1.7338604 | -1.773150 |\n",
       "| 5 | CHP_347 | Leukemia     | CHP_347_01 | X01 |  0.8 | 126.72 | 13 | ALL  |  0.8 | 1701 | ... | Leukemia:CHP_347_X01-cfDNA    |  0 |  0 |  0 |  0 |  0 |  0 |  1 | -0.6656651 | -1.249249 |\n",
       "| 6 | CHP_348 | Solid tumors | CHP_348_01 | X01 | 11.5 |  50.96 | 18 | OS   | 11.5 | 1125 | ... | Solidtumors:CHP_348_X01-cfDNA |  3 |  0 |  0 |  0 |  0 |  0 |  1 | -1.0018511 | -1.929393 |\n",
       "\n"
      ],
      "text/plain": [
       "  Patient cancergroup  sample_id.x cycle.x FOLD.x ATC.x  Age.x Disease_type.x\n",
       "1 CHP_330 Solid tumors CHP_330_01  X01      0.9     0.00  5    OS            \n",
       "2 CHP_332 Solid tumors CHP_332_01  X01      8.2     0.00 10    ERMS          \n",
       "3 CHP_343 Solid tumors CHP_343_01  X01      1.0   219.30  8    EWS           \n",
       "4 CHP_346 Solid tumors CHP_346_01  X01      0.8   331.70  1    NB            \n",
       "5 CHP_347 Leukemia     CHP_347_01  X01      0.8   126.72 13    ALL           \n",
       "6 CHP_348 Solid tumors CHP_348_01  X01     11.5    50.96 18    OS            \n",
       "  TE_fold.x CD3.x ... cfDNA_samplename              cfDNA_gliph_n cfDNA_CMV\n",
       "1  0.9      2437  ... NA                            NA            NA       \n",
       "2  8.2      3628  ... NA                            NA            NA       \n",
       "3  1.0      2421  ... NA                            NA            NA       \n",
       "4  0.8       637  ... NA                            NA            NA       \n",
       "5  0.8      1701  ... Leukemia:CHP_347_X01-cfDNA     0             0       \n",
       "6 11.5      1125  ... Solidtumors:CHP_348_X01-cfDNA  3             0       \n",
       "  cfDNA_EBV cfDNA_HCV cfDNA_Flu cfDNA_hs cyclenum GLIPH_PC1  GLIPH_PC2\n",
       "1 NA        NA        NA        NA       NA               NA        NA\n",
       "2 NA        NA        NA        NA       NA               NA        NA\n",
       "3 NA        NA        NA        NA       NA               NA        NA\n",
       "4 NA        NA        NA        NA        1       -1.7338604 -1.773150\n",
       "5  0         0         0         0        1       -0.6656651 -1.249249\n",
       "6  0         0         0         0        1       -1.0018511 -1.929393"
      ]
     },
     "metadata": {},
     "output_type": "display_data"
    }
   ],
   "source": [
    "head(df_x01)"
   ]
  },
  {
   "cell_type": "code",
   "execution_count": 291,
   "metadata": {
    "vscode": {
     "languageId": "r"
    }
   },
   "outputs": [],
   "source": [
    "# df_min2_pt$quantreg_gliph_n <- NULL"
   ]
  },
  {
   "cell_type": "code",
   "execution_count": 292,
   "metadata": {
    "vscode": {
     "languageId": "r"
    }
   },
   "outputs": [],
   "source": [
    "mycol <- c('EM%','CM%','Naïve%','SCM%','TE%', \n",
    "# 'HLA_PC1','HLA_PC2','HLA_PC3',\n",
    "'V_PC1','V_PC2','J_PC1','J_PC2', \n",
    "'PD1%', 'TIM3%', 'LAG3%', \n",
    "'log10shann', \"gliph_n\", \"GLIPH_PC1\", \"GLIPH_PC2\")"
   ]
  },
  {
   "cell_type": "code",
   "execution_count": 293,
   "metadata": {
    "vscode": {
     "languageId": "r"
    }
   },
   "outputs": [
    {
     "data": {
      "text/html": [
       "<style>\n",
       ".list-inline {list-style: none; margin:0; padding: 0}\n",
       ".list-inline>li {display: inline-block}\n",
       ".list-inline>li:not(:last-child)::after {content: \"\\00b7\"; padding: 0 .5ex}\n",
       "</style>\n",
       "<ol class=list-inline><li>'EM%'</li><li>'CM%'</li><li>'Naïve%'</li><li>'SCM%'</li><li>'TE%'</li><li>'V_PC1'</li><li>'V_PC2'</li><li>'J_PC1'</li><li>'J_PC2'</li><li>'PD1%'</li><li>'TIM3%'</li><li>'LAG3%'</li><li>'log10shann'</li><li>'gliph_n'</li><li>'GLIPH_PC1'</li><li>'GLIPH_PC2'</li></ol>\n"
      ],
      "text/latex": [
       "\\begin{enumerate*}\n",
       "\\item 'EM\\%'\n",
       "\\item 'CM\\%'\n",
       "\\item 'Naïve\\%'\n",
       "\\item 'SCM\\%'\n",
       "\\item 'TE\\%'\n",
       "\\item 'V\\_PC1'\n",
       "\\item 'V\\_PC2'\n",
       "\\item 'J\\_PC1'\n",
       "\\item 'J\\_PC2'\n",
       "\\item 'PD1\\%'\n",
       "\\item 'TIM3\\%'\n",
       "\\item 'LAG3\\%'\n",
       "\\item 'log10shann'\n",
       "\\item 'gliph\\_n'\n",
       "\\item 'GLIPH\\_PC1'\n",
       "\\item 'GLIPH\\_PC2'\n",
       "\\end{enumerate*}\n"
      ],
      "text/markdown": [
       "1. 'EM%'\n",
       "2. 'CM%'\n",
       "3. 'Naïve%'\n",
       "4. 'SCM%'\n",
       "5. 'TE%'\n",
       "6. 'V_PC1'\n",
       "7. 'V_PC2'\n",
       "8. 'J_PC1'\n",
       "9. 'J_PC2'\n",
       "10. 'PD1%'\n",
       "11. 'TIM3%'\n",
       "12. 'LAG3%'\n",
       "13. 'log10shann'\n",
       "14. 'gliph_n'\n",
       "15. 'GLIPH_PC1'\n",
       "16. 'GLIPH_PC2'\n",
       "\n",
       "\n"
      ],
      "text/plain": [
       " [1] \"EM%\"        \"CM%\"        \"Naïve%\"     \"SCM%\"       \"TE%\"       \n",
       " [6] \"V_PC1\"      \"V_PC2\"      \"J_PC1\"      \"J_PC2\"      \"PD1%\"      \n",
       "[11] \"TIM3%\"      \"LAG3%\"      \"log10shann\" \"gliph_n\"    \"GLIPH_PC1\" \n",
       "[16] \"GLIPH_PC2\" "
      ]
     },
     "metadata": {},
     "output_type": "display_data"
    }
   ],
   "source": [
    "mycol"
   ]
  },
  {
   "cell_type": "code",
   "execution_count": 294,
   "metadata": {
    "vscode": {
     "languageId": "r"
    }
   },
   "outputs": [],
   "source": [
    "# scale\n",
    "for(i in mycol){\n",
    "    newvar <- paste0(i, \"_scaled\")\n",
    "df_x01[[newvar]] <- as.vector(scale(df_x01[[i]]))\n",
    "}"
   ]
  },
  {
   "cell_type": "code",
   "execution_count": 295,
   "metadata": {
    "vscode": {
     "languageId": "r"
    }
   },
   "outputs": [],
   "source": [
    "# rank\n",
    "for(i in mycol){\n",
    "    newvar <- paste0(i, \"_rank\")\n",
    "df_x01[[newvar]] <- rank(df_x01[[i]])\n",
    "}"
   ]
  },
  {
   "cell_type": "code",
   "execution_count": 296,
   "metadata": {
    "vscode": {
     "languageId": "r"
    }
   },
   "outputs": [],
   "source": [
    "mycol <- colnames(df_x01)[grepl(\"scaled\", colnames(df_x01))]"
   ]
  },
  {
   "cell_type": "code",
   "execution_count": 297,
   "metadata": {
    "vscode": {
     "languageId": "r"
    }
   },
   "outputs": [
    {
     "data": {
      "text/html": [
       "<style>\n",
       ".list-inline {list-style: none; margin:0; padding: 0}\n",
       ".list-inline>li {display: inline-block}\n",
       ".list-inline>li:not(:last-child)::after {content: \"\\00b7\"; padding: 0 .5ex}\n",
       "</style>\n",
       "<ol class=list-inline><li>'EM%_scaled'</li><li>'CM%_scaled'</li><li>'Naïve%_scaled'</li><li>'SCM%_scaled'</li><li>'TE%_scaled'</li><li>'V_PC1_scaled'</li><li>'V_PC2_scaled'</li><li>'J_PC1_scaled'</li><li>'J_PC2_scaled'</li><li>'PD1%_scaled'</li><li>'TIM3%_scaled'</li><li>'LAG3%_scaled'</li><li>'log10shann_scaled'</li><li>'gliph_n_scaled'</li><li>'GLIPH_PC1_scaled'</li><li>'GLIPH_PC2_scaled'</li></ol>\n"
      ],
      "text/latex": [
       "\\begin{enumerate*}\n",
       "\\item 'EM\\%\\_scaled'\n",
       "\\item 'CM\\%\\_scaled'\n",
       "\\item 'Naïve\\%\\_scaled'\n",
       "\\item 'SCM\\%\\_scaled'\n",
       "\\item 'TE\\%\\_scaled'\n",
       "\\item 'V\\_PC1\\_scaled'\n",
       "\\item 'V\\_PC2\\_scaled'\n",
       "\\item 'J\\_PC1\\_scaled'\n",
       "\\item 'J\\_PC2\\_scaled'\n",
       "\\item 'PD1\\%\\_scaled'\n",
       "\\item 'TIM3\\%\\_scaled'\n",
       "\\item 'LAG3\\%\\_scaled'\n",
       "\\item 'log10shann\\_scaled'\n",
       "\\item 'gliph\\_n\\_scaled'\n",
       "\\item 'GLIPH\\_PC1\\_scaled'\n",
       "\\item 'GLIPH\\_PC2\\_scaled'\n",
       "\\end{enumerate*}\n"
      ],
      "text/markdown": [
       "1. 'EM%_scaled'\n",
       "2. 'CM%_scaled'\n",
       "3. 'Naïve%_scaled'\n",
       "4. 'SCM%_scaled'\n",
       "5. 'TE%_scaled'\n",
       "6. 'V_PC1_scaled'\n",
       "7. 'V_PC2_scaled'\n",
       "8. 'J_PC1_scaled'\n",
       "9. 'J_PC2_scaled'\n",
       "10. 'PD1%_scaled'\n",
       "11. 'TIM3%_scaled'\n",
       "12. 'LAG3%_scaled'\n",
       "13. 'log10shann_scaled'\n",
       "14. 'gliph_n_scaled'\n",
       "15. 'GLIPH_PC1_scaled'\n",
       "16. 'GLIPH_PC2_scaled'\n",
       "\n",
       "\n"
      ],
      "text/plain": [
       " [1] \"EM%_scaled\"        \"CM%_scaled\"        \"Naïve%_scaled\"    \n",
       " [4] \"SCM%_scaled\"       \"TE%_scaled\"        \"V_PC1_scaled\"     \n",
       " [7] \"V_PC2_scaled\"      \"J_PC1_scaled\"      \"J_PC2_scaled\"     \n",
       "[10] \"PD1%_scaled\"       \"TIM3%_scaled\"      \"LAG3%_scaled\"     \n",
       "[13] \"log10shann_scaled\" \"gliph_n_scaled\"    \"GLIPH_PC1_scaled\" \n",
       "[16] \"GLIPH_PC2_scaled\" "
      ]
     },
     "metadata": {},
     "output_type": "display_data"
    }
   ],
   "source": [
    "mycol"
   ]
  },
  {
   "cell_type": "code",
   "execution_count": 298,
   "metadata": {
    "vscode": {
     "languageId": "r"
    }
   },
   "outputs": [
    {
     "data": {
      "text/plain": [
       "\n",
       "           Leukemia            Lymphoma        Solid tumors T-cell malignancies \n",
       "                 30                  12                  27                   4 "
      ]
     },
     "metadata": {},
     "output_type": "display_data"
    }
   ],
   "source": [
    "table(df_x01$cancergroup)"
   ]
  },
  {
   "cell_type": "code",
   "execution_count": 299,
   "metadata": {
    "vscode": {
     "languageId": "r"
    }
   },
   "outputs": [],
   "source": [
    "df_x01_long <- tidyr::pivot_longer(df_x01, all_of(mycol), names_to = \"Feature\", values_to = \"X01\")"
   ]
  },
  {
   "cell_type": "code",
   "execution_count": 300,
   "metadata": {
    "vscode": {
     "languageId": "r"
    }
   },
   "outputs": [],
   "source": [
    "df_x01_long <- as.data.frame(df_x01_long)"
   ]
  },
  {
   "cell_type": "code",
   "execution_count": 301,
   "metadata": {
    "vscode": {
     "languageId": "r"
    }
   },
   "outputs": [],
   "source": [
    "df_x01_long_narm <- df_x01_long[ !is.na(df_x01_long$X01),]"
   ]
  },
  {
   "cell_type": "code",
   "execution_count": 302,
   "metadata": {
    "vscode": {
     "languageId": "r"
    }
   },
   "outputs": [
    {
     "data": {
      "text/html": [
       "<table class=\"dataframe\">\n",
       "<caption>A data.frame: 6 x 388</caption>\n",
       "<thead>\n",
       "\t<tr><th></th><th scope=col>Patient</th><th scope=col>cancergroup</th><th scope=col>sample_id.x</th><th scope=col>cycle.x</th><th scope=col>FOLD.x</th><th scope=col>ATC.x</th><th scope=col>Age.x</th><th scope=col>Disease_type.x</th><th scope=col>TE_fold.x</th><th scope=col>CD3.x</th><th scope=col>...</th><th scope=col>J_PC2_rank</th><th scope=col>PD1%_rank</th><th scope=col>TIM3%_rank</th><th scope=col>LAG3%_rank</th><th scope=col>log10shann_rank</th><th scope=col>gliph_n_rank</th><th scope=col>GLIPH_PC1_rank</th><th scope=col>GLIPH_PC2_rank</th><th scope=col>Feature</th><th scope=col>X01</th></tr>\n",
       "\t<tr><th></th><th scope=col>&lt;chr&gt;</th><th scope=col>&lt;chr&gt;</th><th scope=col>&lt;chr&gt;</th><th scope=col>&lt;chr&gt;</th><th scope=col>&lt;dbl&gt;</th><th scope=col>&lt;dbl&gt;</th><th scope=col>&lt;dbl&gt;</th><th scope=col>&lt;chr&gt;</th><th scope=col>&lt;dbl&gt;</th><th scope=col>&lt;int&gt;</th><th scope=col>...</th><th scope=col>&lt;dbl&gt;</th><th scope=col>&lt;dbl&gt;</th><th scope=col>&lt;dbl&gt;</th><th scope=col>&lt;dbl&gt;</th><th scope=col>&lt;dbl&gt;</th><th scope=col>&lt;dbl&gt;</th><th scope=col>&lt;dbl&gt;</th><th scope=col>&lt;dbl&gt;</th><th scope=col>&lt;chr&gt;</th><th scope=col>&lt;dbl&gt;</th></tr>\n",
       "</thead>\n",
       "<tbody>\n",
       "\t<tr><th scope=row>49</th><td>CHP_346</td><td>Solid tumors</td><td>CHP_346_01</td><td>X01</td><td>0.8</td><td>331.7</td><td>1</td><td>NB</td><td>0.8</td><td>637</td><td>...</td><td>28</td><td>14</td><td>14</td><td>13</td><td>15</td><td>13</td><td>13</td><td>16</td><td>EM%_scaled   </td><td>-0.6665081</td></tr>\n",
       "\t<tr><th scope=row>50</th><td>CHP_346</td><td>Solid tumors</td><td>CHP_346_01</td><td>X01</td><td>0.8</td><td>331.7</td><td>1</td><td>NB</td><td>0.8</td><td>637</td><td>...</td><td>28</td><td>14</td><td>14</td><td>13</td><td>15</td><td>13</td><td>13</td><td>16</td><td>CM%_scaled   </td><td>-0.7547849</td></tr>\n",
       "\t<tr><th scope=row>51</th><td>CHP_346</td><td>Solid tumors</td><td>CHP_346_01</td><td>X01</td><td>0.8</td><td>331.7</td><td>1</td><td>NB</td><td>0.8</td><td>637</td><td>...</td><td>28</td><td>14</td><td>14</td><td>13</td><td>15</td><td>13</td><td>13</td><td>16</td><td>Naïve%_scaled</td><td> 2.9439196</td></tr>\n",
       "\t<tr><th scope=row>52</th><td>CHP_346</td><td>Solid tumors</td><td>CHP_346_01</td><td>X01</td><td>0.8</td><td>331.7</td><td>1</td><td>NB</td><td>0.8</td><td>637</td><td>...</td><td>28</td><td>14</td><td>14</td><td>13</td><td>15</td><td>13</td><td>13</td><td>16</td><td>SCM%_scaled  </td><td>-1.0708562</td></tr>\n",
       "\t<tr><th scope=row>53</th><td>CHP_346</td><td>Solid tumors</td><td>CHP_346_01</td><td>X01</td><td>0.8</td><td>331.7</td><td>1</td><td>NB</td><td>0.8</td><td>637</td><td>...</td><td>28</td><td>14</td><td>14</td><td>13</td><td>15</td><td>13</td><td>13</td><td>16</td><td>TE%_scaled   </td><td>-1.7271353</td></tr>\n",
       "\t<tr><th scope=row>54</th><td>CHP_346</td><td>Solid tumors</td><td>CHP_346_01</td><td>X01</td><td>0.8</td><td>331.7</td><td>1</td><td>NB</td><td>0.8</td><td>637</td><td>...</td><td>28</td><td>14</td><td>14</td><td>13</td><td>15</td><td>13</td><td>13</td><td>16</td><td>V_PC1_scaled </td><td> 0.7643520</td></tr>\n",
       "</tbody>\n",
       "</table>\n"
      ],
      "text/latex": [
       "A data.frame: 6 x 388\n",
       "\\begin{tabular}{r|lllllllllllllllllllll}\n",
       "  & Patient & cancergroup & sample\\_id.x & cycle.x & FOLD.x & ATC.x & Age.x & Disease\\_type.x & TE\\_fold.x & CD3.x & ... & J\\_PC2\\_rank & PD1\\%\\_rank & TIM3\\%\\_rank & LAG3\\%\\_rank & log10shann\\_rank & gliph\\_n\\_rank & GLIPH\\_PC1\\_rank & GLIPH\\_PC2\\_rank & Feature & X01\\\\\n",
       "  & <chr> & <chr> & <chr> & <chr> & <dbl> & <dbl> & <dbl> & <chr> & <dbl> & <int> & ... & <dbl> & <dbl> & <dbl> & <dbl> & <dbl> & <dbl> & <dbl> & <dbl> & <chr> & <dbl>\\\\\n",
       "\\hline\n",
       "\t49 & CHP\\_346 & Solid tumors & CHP\\_346\\_01 & X01 & 0.8 & 331.7 & 1 & NB & 0.8 & 637 & ... & 28 & 14 & 14 & 13 & 15 & 13 & 13 & 16 & EM\\%\\_scaled    & -0.6665081\\\\\n",
       "\t50 & CHP\\_346 & Solid tumors & CHP\\_346\\_01 & X01 & 0.8 & 331.7 & 1 & NB & 0.8 & 637 & ... & 28 & 14 & 14 & 13 & 15 & 13 & 13 & 16 & CM\\%\\_scaled    & -0.7547849\\\\\n",
       "\t51 & CHP\\_346 & Solid tumors & CHP\\_346\\_01 & X01 & 0.8 & 331.7 & 1 & NB & 0.8 & 637 & ... & 28 & 14 & 14 & 13 & 15 & 13 & 13 & 16 & Naïve\\%\\_scaled &  2.9439196\\\\\n",
       "\t52 & CHP\\_346 & Solid tumors & CHP\\_346\\_01 & X01 & 0.8 & 331.7 & 1 & NB & 0.8 & 637 & ... & 28 & 14 & 14 & 13 & 15 & 13 & 13 & 16 & SCM\\%\\_scaled   & -1.0708562\\\\\n",
       "\t53 & CHP\\_346 & Solid tumors & CHP\\_346\\_01 & X01 & 0.8 & 331.7 & 1 & NB & 0.8 & 637 & ... & 28 & 14 & 14 & 13 & 15 & 13 & 13 & 16 & TE\\%\\_scaled    & -1.7271353\\\\\n",
       "\t54 & CHP\\_346 & Solid tumors & CHP\\_346\\_01 & X01 & 0.8 & 331.7 & 1 & NB & 0.8 & 637 & ... & 28 & 14 & 14 & 13 & 15 & 13 & 13 & 16 & V\\_PC1\\_scaled  &  0.7643520\\\\\n",
       "\\end{tabular}\n"
      ],
      "text/markdown": [
       "\n",
       "A data.frame: 6 x 388\n",
       "\n",
       "| <!--/--> | Patient &lt;chr&gt; | cancergroup &lt;chr&gt; | sample_id.x &lt;chr&gt; | cycle.x &lt;chr&gt; | FOLD.x &lt;dbl&gt; | ATC.x &lt;dbl&gt; | Age.x &lt;dbl&gt; | Disease_type.x &lt;chr&gt; | TE_fold.x &lt;dbl&gt; | CD3.x &lt;int&gt; | ... ... | J_PC2_rank &lt;dbl&gt; | PD1%_rank &lt;dbl&gt; | TIM3%_rank &lt;dbl&gt; | LAG3%_rank &lt;dbl&gt; | log10shann_rank &lt;dbl&gt; | gliph_n_rank &lt;dbl&gt; | GLIPH_PC1_rank &lt;dbl&gt; | GLIPH_PC2_rank &lt;dbl&gt; | Feature &lt;chr&gt; | X01 &lt;dbl&gt; |\n",
       "|---|---|---|---|---|---|---|---|---|---|---|---|---|---|---|---|---|---|---|---|---|---|\n",
       "| 49 | CHP_346 | Solid tumors | CHP_346_01 | X01 | 0.8 | 331.7 | 1 | NB | 0.8 | 637 | ... | 28 | 14 | 14 | 13 | 15 | 13 | 13 | 16 | EM%_scaled    | -0.6665081 |\n",
       "| 50 | CHP_346 | Solid tumors | CHP_346_01 | X01 | 0.8 | 331.7 | 1 | NB | 0.8 | 637 | ... | 28 | 14 | 14 | 13 | 15 | 13 | 13 | 16 | CM%_scaled    | -0.7547849 |\n",
       "| 51 | CHP_346 | Solid tumors | CHP_346_01 | X01 | 0.8 | 331.7 | 1 | NB | 0.8 | 637 | ... | 28 | 14 | 14 | 13 | 15 | 13 | 13 | 16 | Naïve%_scaled |  2.9439196 |\n",
       "| 52 | CHP_346 | Solid tumors | CHP_346_01 | X01 | 0.8 | 331.7 | 1 | NB | 0.8 | 637 | ... | 28 | 14 | 14 | 13 | 15 | 13 | 13 | 16 | SCM%_scaled   | -1.0708562 |\n",
       "| 53 | CHP_346 | Solid tumors | CHP_346_01 | X01 | 0.8 | 331.7 | 1 | NB | 0.8 | 637 | ... | 28 | 14 | 14 | 13 | 15 | 13 | 13 | 16 | TE%_scaled    | -1.7271353 |\n",
       "| 54 | CHP_346 | Solid tumors | CHP_346_01 | X01 | 0.8 | 331.7 | 1 | NB | 0.8 | 637 | ... | 28 | 14 | 14 | 13 | 15 | 13 | 13 | 16 | V_PC1_scaled  |  0.7643520 |\n",
       "\n"
      ],
      "text/plain": [
       "   Patient cancergroup  sample_id.x cycle.x FOLD.x ATC.x Age.x Disease_type.x\n",
       "49 CHP_346 Solid tumors CHP_346_01  X01     0.8    331.7 1     NB            \n",
       "50 CHP_346 Solid tumors CHP_346_01  X01     0.8    331.7 1     NB            \n",
       "51 CHP_346 Solid tumors CHP_346_01  X01     0.8    331.7 1     NB            \n",
       "52 CHP_346 Solid tumors CHP_346_01  X01     0.8    331.7 1     NB            \n",
       "53 CHP_346 Solid tumors CHP_346_01  X01     0.8    331.7 1     NB            \n",
       "54 CHP_346 Solid tumors CHP_346_01  X01     0.8    331.7 1     NB            \n",
       "   TE_fold.x CD3.x ... J_PC2_rank PD1%_rank TIM3%_rank LAG3%_rank\n",
       "49 0.8       637   ... 28         14        14         13        \n",
       "50 0.8       637   ... 28         14        14         13        \n",
       "51 0.8       637   ... 28         14        14         13        \n",
       "52 0.8       637   ... 28         14        14         13        \n",
       "53 0.8       637   ... 28         14        14         13        \n",
       "54 0.8       637   ... 28         14        14         13        \n",
       "   log10shann_rank gliph_n_rank GLIPH_PC1_rank GLIPH_PC2_rank Feature      \n",
       "49 15              13           13             16             EM%_scaled   \n",
       "50 15              13           13             16             CM%_scaled   \n",
       "51 15              13           13             16             Naïve%_scaled\n",
       "52 15              13           13             16             SCM%_scaled  \n",
       "53 15              13           13             16             TE%_scaled   \n",
       "54 15              13           13             16             V_PC1_scaled \n",
       "   X01       \n",
       "49 -0.6665081\n",
       "50 -0.7547849\n",
       "51  2.9439196\n",
       "52 -1.0708562\n",
       "53 -1.7271353\n",
       "54  0.7643520"
      ]
     },
     "metadata": {},
     "output_type": "display_data"
    }
   ],
   "source": [
    "head(df_x01_long_narm)"
   ]
  },
  {
   "cell_type": "markdown",
   "metadata": {},
   "source": [
    "Boxplot"
   ]
  },
  {
   "cell_type": "code",
   "execution_count": 303,
   "metadata": {
    "vscode": {
     "languageId": "r"
    }
   },
   "outputs": [],
   "source": [
    "# use scaled for viz\n",
    "df_x01_long_narm$Featurename <- gsub(\"_scaled\", \"\", df_x01_long_narm$Feature)"
   ]
  },
  {
   "cell_type": "code",
   "execution_count": 304,
   "metadata": {
    "vscode": {
     "languageId": "r"
    }
   },
   "outputs": [
    {
     "data": {
      "text/plain": [
       "\n",
       "       CM%        EM%    gliph_n  GLIPH_PC1  GLIPH_PC2      J_PC1      J_PC2 \n",
       "        36         36         44         42         42         44         44 \n",
       "     LAG3% log10shann     Naïve%       PD1%       SCM%        TE%      TIM3% \n",
       "        34         44         36         34         36         36         34 \n",
       "     V_PC1      V_PC2 \n",
       "        44         44 "
      ]
     },
     "metadata": {},
     "output_type": "display_data"
    }
   ],
   "source": [
    "table(df_x01_long_narm$Featurename )"
   ]
  },
  {
   "cell_type": "code",
   "execution_count": 309,
   "metadata": {
    "vscode": {
     "languageId": "r"
    }
   },
   "outputs": [],
   "source": [
    "df_x01_long_narm$Featurename  <- factor(df_x01_long_narm$Featurename , \n",
    "levels = c(  \"GLIPH_PC2\", \"GLIPH_PC1\",\"gliph_n\",\"J_PC2\", \"J_PC1\",  \"V_PC2\", \"V_PC1\",\"log10shann\" ,\n",
    "  \"LAG3%\", \"TIM3%\", \"PD1%\" ,\"TE%\",\"EM%\" ,\"CM%\", \"SCM%\", \"Naïve%\"))"
   ]
  },
  {
   "cell_type": "code",
   "execution_count": 310,
   "metadata": {
    "vscode": {
     "languageId": "r"
    }
   },
   "outputs": [],
   "source": [
    "p1 <- ggplot(df_x01_long_narm, aes(y = Featurename, x = X01)) +  geom_point(aes( color = cancergroup), position = position_jitter(w = 0.05, h = 0.15)) +\n",
    "        geom_boxplot(outlier.shape = NA, alpha = 0, color = \"#b7b2b2\") + myaxis + myplot + scale_color_manual(values = group_col)"
   ]
  },
  {
   "cell_type": "code",
   "execution_count": 311,
   "metadata": {
    "vscode": {
     "languageId": "r"
    }
   },
   "outputs": [
    {
     "data": {
      "image/png": "[encoded data removed]",
      "text/plain": [
       "plot without title"
      ]
     },
     "metadata": {
      "image/png": {
       "height": 420,
       "width": 420
      }
     },
     "output_type": "display_data"
    }
   ],
   "source": [
    "p1"
   ]
  },
  {
   "cell_type": "code",
   "execution_count": 313,
   "metadata": {
    "vscode": {
     "languageId": "r"
    }
   },
   "outputs": [
    {
     "data": {
      "text/html": [
       "<strong>pdf:</strong> 2"
      ],
      "text/latex": [
       "\\textbf{pdf:} 2"
      ],
      "text/markdown": [
       "**pdf:** 2"
      ],
      "text/plain": [
       "pdf \n",
       "  2 "
      ]
     },
     "metadata": {},
     "output_type": "display_data"
    }
   ],
   "source": [
    "pdf( paste0(plotpath, \"X01.pdf\"), width = 6, height = 8)\n",
    "p1 + theme(legend.position = \"bottom\")\n",
    "dev.off()"
   ]
  },
  {
   "cell_type": "markdown",
   "metadata": {},
   "source": [
    "LR and forestplot"
   ]
  },
  {
   "cell_type": "markdown",
   "metadata": {},
   "source": [
    "Use unscaled data for glm"
   ]
  },
  {
   "cell_type": "code",
   "execution_count": 314,
   "metadata": {
    "vscode": {
     "languageId": "r"
    }
   },
   "outputs": [],
   "source": [
    "mycol <- c(  \"GLIPH_PC2\", \"GLIPH_PC1\",\"gliph_n\",\"J_PC2\", \"J_PC1\",  \"V_PC2\", \"V_PC1\",\"log10shann\" ,\n",
    "  \"LAG3%\", \"TIM3%\", \"PD1%\" ,\"TE%\",\"EM%\" ,\"CM%\", \"SCM%\", \"Naïve%\")"
   ]
  },
  {
   "cell_type": "code",
   "execution_count": 316,
   "metadata": {
    "vscode": {
     "languageId": "r"
    }
   },
   "outputs": [
    {
     "data": {
      "text/html": [
       "<style>\n",
       ".list-inline {list-style: none; margin:0; padding: 0}\n",
       ".list-inline>li {display: inline-block}\n",
       ".list-inline>li:not(:last-child)::after {content: \"\\00b7\"; padding: 0 .5ex}\n",
       "</style>\n",
       "<ol class=list-inline><li>'Naïve%'</li><li>'SCM%'</li><li>'CM%'</li><li>'EM%'</li><li>'TE%'</li><li>'PD1%'</li><li>'TIM3%'</li><li>'LAG3%'</li><li>'log10shann'</li><li>'V_PC1'</li><li>'V_PC2'</li><li>'J_PC1'</li><li>'J_PC2'</li><li>'gliph_n'</li><li>'GLIPH_PC1'</li><li>'GLIPH_PC2'</li></ol>\n"
      ],
      "text/latex": [
       "\\begin{enumerate*}\n",
       "\\item 'Naïve\\%'\n",
       "\\item 'SCM\\%'\n",
       "\\item 'CM\\%'\n",
       "\\item 'EM\\%'\n",
       "\\item 'TE\\%'\n",
       "\\item 'PD1\\%'\n",
       "\\item 'TIM3\\%'\n",
       "\\item 'LAG3\\%'\n",
       "\\item 'log10shann'\n",
       "\\item 'V\\_PC1'\n",
       "\\item 'V\\_PC2'\n",
       "\\item 'J\\_PC1'\n",
       "\\item 'J\\_PC2'\n",
       "\\item 'gliph\\_n'\n",
       "\\item 'GLIPH\\_PC1'\n",
       "\\item 'GLIPH\\_PC2'\n",
       "\\end{enumerate*}\n"
      ],
      "text/markdown": [
       "1. 'Naïve%'\n",
       "2. 'SCM%'\n",
       "3. 'CM%'\n",
       "4. 'EM%'\n",
       "5. 'TE%'\n",
       "6. 'PD1%'\n",
       "7. 'TIM3%'\n",
       "8. 'LAG3%'\n",
       "9. 'log10shann'\n",
       "10. 'V_PC1'\n",
       "11. 'V_PC2'\n",
       "12. 'J_PC1'\n",
       "13. 'J_PC2'\n",
       "14. 'gliph_n'\n",
       "15. 'GLIPH_PC1'\n",
       "16. 'GLIPH_PC2'\n",
       "\n",
       "\n"
      ],
      "text/plain": [
       " [1] \"Naïve%\"     \"SCM%\"       \"CM%\"        \"EM%\"        \"TE%\"       \n",
       " [6] \"PD1%\"       \"TIM3%\"      \"LAG3%\"      \"log10shann\" \"V_PC1\"     \n",
       "[11] \"V_PC2\"      \"J_PC1\"      \"J_PC2\"      \"gliph_n\"    \"GLIPH_PC1\" \n",
       "[16] \"GLIPH_PC2\" "
      ]
     },
     "metadata": {},
     "output_type": "display_data"
    }
   ],
   "source": [
    "rev(mycol)"
   ]
  },
  {
   "cell_type": "code",
   "execution_count": 339,
   "metadata": {
    "vscode": {
     "languageId": "r"
    }
   },
   "outputs": [
    {
     "data": {
      "text/html": [
       "<style>\n",
       ".list-inline {list-style: none; margin:0; padding: 0}\n",
       ".list-inline>li {display: inline-block}\n",
       ".list-inline>li:not(:last-child)::after {content: \"\\00b7\"; padding: 0 .5ex}\n",
       "</style>\n",
       "<ol class=list-inline><li>'Patient'</li><li>'cancergroup'</li><li>'sample_id.x'</li><li>'cycle.x'</li><li>'FOLD.x'</li><li>'ATC.x'</li><li>'Age.x'</li><li>'Disease_type.x'</li><li>'TE_fold.x'</li><li>'CD3.x'</li><li>'EM.x'</li><li>'CM.x'</li><li>'Naïve.x'</li><li>'SCM.x'</li><li>'TE.x'</li><li>'EM%.x'</li><li>'CM%.x'</li><li>'Naïve%.x'</li><li>'SCM%.x'</li><li>'TE%.x'</li><li>'Naïve/TE.x'</li><li>'N+CM+SCM/TE+EM.x'</li><li>'PD-1.x'</li><li>'PDL1.x'</li><li>'LAG3.x'</li><li>'TIM3.x'</li><li>'CTLA4.x'</li><li>'PD1%.x'</li><li>'PDL1%.x'</li><li>'LAG3%.x'</li><li>'TIM3%.x'</li><li>'CTLA4%.x'</li><li>'Any NCR.x'</li><li>'PD1 + LAG3 + TIM3.x'</li><li>'agegroup.x'</li><li>'foldgroup.x'</li><li>'Remission.x'</li><li>'Relapse.x'</li><li>'Transplant.x'</li><li>'CART.x'</li><li>'vital_status.x'</li><li>'LOF.x'</li><li>'TRB.x'</li><li>'Reads.x'</li><li>'CPKR.x'</li><li>'Average_reads.x'</li><li>'VMR.x'</li><li>'Max_reads.x'</li><li>'Singletons.x'</li><li>'Doubletons.x'</li><li>'qD.x'</li><li>'Sample_Coverage.x'</li><li>'observed_Richness.x'</li><li>'estimated_Richness.x'</li><li>'SE_Richeness.x'</li><li>'observed_Shannon.x'</li><li>'estimated_Shannon.x'</li><li>'SE_Shannon.x'</li><li>'observed_Simpson.x'</li><li>'estimated_Simpson.x'</li><li>'SE_Simpson.x'</li><li>'basename.x'</li><li>'file.x'</li><li>'sampletype.x'</li><li>'Group.x'</li><li>'log10shann.x'</li><li>'aveTiRP.x'</li><li>'medTiRP.x'</li><li>'HLA_PC1.x'</li><li>'HLA_PC2.x'</li><li>'HLA_PC3.x'</li><li>'V_PC1.x'</li><li>'V_PC2.x'</li><li>'V_PC3.x'</li><li>'J_PC1.x'</li><li>'J_PC2.x'</li><li>'J_PC3.x'</li><li>'samplename.x'</li><li>'gliph_n.x'</li><li>'CMV.x'</li><li>'EBV.x'</li><li>'HCV.x'</li><li>'Flu.x'</li><li>'hs.x'</li><li>'cfDNA_TRB.x'</li><li>'cfDNA_Reads.x'</li><li>'cfDNA_CPKR.x'</li><li>'cfDNA_Average_reads.x'</li><li>'cfDNA_VMR.x'</li><li>'cfDNA_Max_reads.x'</li><li>'cfDNA_Singletons.x'</li><li>'cfDNA_Doubletons.x'</li><li>'cfDNA_qD.x'</li><li>'cfDNA_Sample_Coverage.x'</li><li>'cfDNA_observed_Richness.x'</li><li>'cfDNA_estimated_Richness.x'</li><li>'cfDNA_SE_Richeness.x'</li><li>'cfDNA_observed_Shannon.x'</li><li>'cfDNA_estimated_Shannon.x'</li><li>'cfDNA_SE_Shannon.x'</li><li>'cfDNA_observed_Simpson.x'</li><li>'cfDNA_estimated_Simpson.x'</li><li>'cfDNA_SE_Simpson.x'</li><li>'cfDNA_basename.x'</li><li>'cfDNA_file.x'</li><li>'cfDNA_sampletype.x'</li><li>'cfDNA_Group.x'</li><li>'cfDNA_log10shann.x'</li><li>'cfDNA_aveTiRP.x'</li><li>'cfDNA_medTiRP.x'</li><li>'cfDNA_V_PC1.x'</li><li>'cfDNA_V_PC2.x'</li><li>'cfDNA_V_PC3.x'</li><li>'cfDNA_J_PC1.x'</li><li>'cfDNA_J_PC2.x'</li><li>'cfDNA_J_PC3.x'</li><li>'cfDNA_samplename.x'</li><li>'cfDNA_gliph_n.x'</li><li>'cfDNA_CMV.x'</li><li>'cfDNA_EBV.x'</li><li>'cfDNA_HCV.x'</li><li>'cfDNA_Flu.x'</li><li>'cfDNA_hs.x'</li><li>'cyclenum.x'</li><li>'sample_id.y'</li><li>'cycle.y'</li><li>'FOLD.y'</li><li>'ATC.y'</li><li>'Age.y'</li><li>'Disease_type.y'</li><li>'TE_fold.y'</li><li>'CD3.y'</li><li>'EM.y'</li><li>'CM.y'</li><li>'Naïve.y'</li><li>'SCM.y'</li><li>'TE.y'</li><li>'EM%.y'</li><li>'CM%.y'</li><li>'Naïve%.y'</li><li>'SCM%.y'</li><li>'TE%.y'</li><li>'Naïve/TE.y'</li><li>'N+CM+SCM/TE+EM.y'</li><li>'PD-1.y'</li><li>'PDL1.y'</li><li>'LAG3.y'</li><li>'TIM3.y'</li><li>'CTLA4.y'</li><li>'PD1%.y'</li><li>'PDL1%.y'</li><li>'LAG3%.y'</li><li>'TIM3%.y'</li><li>'CTLA4%.y'</li><li>'Any NCR.y'</li><li>'PD1 + LAG3 + TIM3.y'</li><li>'agegroup.y'</li><li>'foldgroup.y'</li><li>'Remission.y'</li><li>'Relapse.y'</li><li>'Transplant.y'</li><li>'CART.y'</li><li>'vital_status.y'</li><li>'LOF.y'</li><li>'TRB.y'</li><li>'Reads.y'</li><li>'CPKR.y'</li><li>'Average_reads.y'</li><li>'VMR.y'</li><li>'Max_reads.y'</li><li>'Singletons.y'</li><li>'Doubletons.y'</li><li>'qD.y'</li><li>'Sample_Coverage.y'</li><li>'observed_Richness.y'</li><li>'estimated_Richness.y'</li><li>'SE_Richeness.y'</li><li>'observed_Shannon.y'</li><li>'estimated_Shannon.y'</li><li>'SE_Shannon.y'</li><li>'observed_Simpson.y'</li><li>'estimated_Simpson.y'</li><li>'SE_Simpson.y'</li><li>'basename.y'</li><li>'file.y'</li><li>'sampletype.y'</li><li>'Group.y'</li><li>'log10shann.y'</li><li>'aveTiRP.y'</li><li>'medTiRP.y'</li><li>'HLA_PC1.y'</li><li>'HLA_PC2.y'</li><li>'HLA_PC3.y'</li><li>'V_PC1.y'</li><li>'V_PC2.y'</li><li>'V_PC3.y'</li><li>'J_PC1.y'</li><li>'J_PC2.y'</li><li>'J_PC3.y'</li><li>'samplename.y'</li><li>...</li><li>'EBV.y'</li><li>'HCV.y'</li><li>'Flu.y'</li><li>'hs.y'</li><li>'cfDNA_TRB.y'</li><li>'cfDNA_Reads.y'</li><li>'cfDNA_CPKR.y'</li><li>'cfDNA_Average_reads.y'</li><li>'cfDNA_VMR.y'</li><li>'cfDNA_Max_reads.y'</li><li>'cfDNA_Singletons.y'</li><li>'cfDNA_Doubletons.y'</li><li>'cfDNA_qD.y'</li><li>'cfDNA_Sample_Coverage.y'</li><li>'cfDNA_observed_Richness.y'</li><li>'cfDNA_estimated_Richness.y'</li><li>'cfDNA_SE_Richeness.y'</li><li>'cfDNA_observed_Shannon.y'</li><li>'cfDNA_estimated_Shannon.y'</li><li>'cfDNA_SE_Shannon.y'</li><li>'cfDNA_observed_Simpson.y'</li><li>'cfDNA_estimated_Simpson.y'</li><li>'cfDNA_SE_Simpson.y'</li><li>'cfDNA_basename.y'</li><li>'cfDNA_file.y'</li><li>'cfDNA_sampletype.y'</li><li>'cfDNA_Group.y'</li><li>'cfDNA_log10shann.y'</li><li>'cfDNA_aveTiRP.y'</li><li>'cfDNA_medTiRP.y'</li><li>'cfDNA_V_PC1.y'</li><li>'cfDNA_V_PC2.y'</li><li>'cfDNA_V_PC3.y'</li><li>'cfDNA_J_PC1.y'</li><li>'cfDNA_J_PC2.y'</li><li>'cfDNA_J_PC3.y'</li><li>'cfDNA_samplename.y'</li><li>'cfDNA_gliph_n.y'</li><li>'cfDNA_CMV.y'</li><li>'cfDNA_EBV.y'</li><li>'cfDNA_HCV.y'</li><li>'cfDNA_Flu.y'</li><li>'cfDNA_hs.y'</li><li>'cyclenum.y'</li><li>'sample_id'</li><li>'cycle'</li><li>'FOLD'</li><li>'ATC'</li><li>'Age'</li><li>'Disease_type'</li><li>'TE_fold'</li><li>'CD3'</li><li>'EM'</li><li>'CM'</li><li>'Naïve'</li><li>'SCM'</li><li>'TE'</li><li>'EM%'</li><li>'CM%'</li><li>'Naïve%'</li><li>'SCM%'</li><li>'TE%'</li><li>'Naïve/TE'</li><li>'N+CM+SCM/TE+EM'</li><li>'PD-1'</li><li>'PDL1'</li><li>'LAG3'</li><li>'TIM3'</li><li>'CTLA4'</li><li>'PD1%'</li><li>'PDL1%'</li><li>'LAG3%'</li><li>'TIM3%'</li><li>'CTLA4%'</li><li>'Any NCR'</li><li>'PD1 + LAG3 + TIM3'</li><li>'agegroup'</li><li>'foldgroup'</li><li>'Remission'</li><li>'Relapse'</li><li>'Transplant'</li><li>'CART'</li><li>'vital_status'</li><li>'LOF'</li><li>'TRB'</li><li>'Reads'</li><li>'CPKR'</li><li>'Average_reads'</li><li>'VMR'</li><li>'Max_reads'</li><li>'Singletons'</li><li>'Doubletons'</li><li>'qD'</li><li>'Sample_Coverage'</li><li>'observed_Richness'</li><li>'estimated_Richness'</li><li>'SE_Richeness'</li><li>'observed_Shannon'</li><li>'estimated_Shannon'</li><li>'SE_Shannon'</li><li>'observed_Simpson'</li><li>'estimated_Simpson'</li><li>'SE_Simpson'</li><li>'basename'</li><li>'file'</li><li>'sampletype'</li><li>'Group'</li><li>'log10shann'</li><li>'aveTiRP'</li><li>'medTiRP'</li><li>'HLA_PC1'</li><li>'HLA_PC2'</li><li>'HLA_PC3'</li><li>'V_PC1'</li><li>'V_PC2'</li><li>'V_PC3'</li><li>'J_PC1'</li><li>'J_PC2'</li><li>'J_PC3'</li><li>'samplename'</li><li>'gliph_n'</li><li>'CMV'</li><li>'EBV'</li><li>'HCV'</li><li>'Flu'</li><li>'hs'</li><li>'cfDNA_TRB'</li><li>'cfDNA_Reads'</li><li>'cfDNA_CPKR'</li><li>'cfDNA_Average_reads'</li><li>'cfDNA_VMR'</li><li>'cfDNA_Max_reads'</li><li>'cfDNA_Singletons'</li><li>'cfDNA_Doubletons'</li><li>'cfDNA_qD'</li><li>'cfDNA_Sample_Coverage'</li><li>'cfDNA_observed_Richness'</li><li>'cfDNA_estimated_Richness'</li><li>'cfDNA_SE_Richeness'</li><li>'cfDNA_observed_Shannon'</li><li>'cfDNA_estimated_Shannon'</li><li>'cfDNA_SE_Shannon'</li><li>'cfDNA_observed_Simpson'</li><li>'cfDNA_estimated_Simpson'</li><li>'cfDNA_SE_Simpson'</li><li>'cfDNA_basename'</li><li>'cfDNA_file'</li><li>'cfDNA_sampletype'</li><li>'cfDNA_Group'</li><li>'cfDNA_log10shann'</li><li>'cfDNA_aveTiRP'</li><li>'cfDNA_medTiRP'</li><li>'cfDNA_V_PC1'</li><li>'cfDNA_V_PC2'</li><li>'cfDNA_V_PC3'</li><li>'cfDNA_J_PC1'</li><li>'cfDNA_J_PC2'</li><li>'cfDNA_J_PC3'</li><li>'cfDNA_samplename'</li><li>'cfDNA_gliph_n'</li><li>'cfDNA_CMV'</li><li>'cfDNA_EBV'</li><li>'cfDNA_HCV'</li><li>'cfDNA_Flu'</li><li>'cfDNA_hs'</li><li>'cyclenum'</li><li>'GLIPH_PC1'</li><li>'GLIPH_PC2'</li><li>'EM%_scaled'</li><li>'CM%_scaled'</li><li>'Naïve%_scaled'</li><li>'SCM%_scaled'</li><li>'TE%_scaled'</li><li>'V_PC1_scaled'</li><li>'V_PC2_scaled'</li><li>'J_PC1_scaled'</li><li>'J_PC2_scaled'</li><li>'PD1%_scaled'</li><li>'TIM3%_scaled'</li><li>'LAG3%_scaled'</li><li>'log10shann_scaled'</li><li>'gliph_n_scaled'</li><li>'GLIPH_PC1_scaled'</li><li>'GLIPH_PC2_scaled'</li><li>'EM%_rank'</li><li>'CM%_rank'</li><li>'Naïve%_rank'</li><li>'SCM%_rank'</li><li>'TE%_rank'</li><li>'V_PC1_rank'</li><li>'V_PC2_rank'</li><li>'J_PC1_rank'</li><li>'J_PC2_rank'</li><li>'PD1%_rank'</li><li>'TIM3%_rank'</li><li>'LAG3%_rank'</li><li>'log10shann_rank'</li><li>'gliph_n_rank'</li><li>'GLIPH_PC1_rank'</li><li>'GLIPH_PC2_rank'</li></ol>\n"
      ],
      "text/latex": [
       "\\begin{enumerate*}\n",
       "\\item 'Patient'\n",
       "\\item 'cancergroup'\n",
       "\\item 'sample\\_id.x'\n",
       "\\item 'cycle.x'\n",
       "\\item 'FOLD.x'\n",
       "\\item 'ATC.x'\n",
       "\\item 'Age.x'\n",
       "\\item 'Disease\\_type.x'\n",
       "\\item 'TE\\_fold.x'\n",
       "\\item 'CD3.x'\n",
       "\\item 'EM.x'\n",
       "\\item 'CM.x'\n",
       "\\item 'Naïve.x'\n",
       "\\item 'SCM.x'\n",
       "\\item 'TE.x'\n",
       "\\item 'EM\\%.x'\n",
       "\\item 'CM\\%.x'\n",
       "\\item 'Naïve\\%.x'\n",
       "\\item 'SCM\\%.x'\n",
       "\\item 'TE\\%.x'\n",
       "\\item 'Naïve/TE.x'\n",
       "\\item 'N+CM+SCM/TE+EM.x'\n",
       "\\item 'PD-1.x'\n",
       "\\item 'PDL1.x'\n",
       "\\item 'LAG3.x'\n",
       "\\item 'TIM3.x'\n",
       "\\item 'CTLA4.x'\n",
       "\\item 'PD1\\%.x'\n",
       "\\item 'PDL1\\%.x'\n",
       "\\item 'LAG3\\%.x'\n",
       "\\item 'TIM3\\%.x'\n",
       "\\item 'CTLA4\\%.x'\n",
       "\\item 'Any NCR.x'\n",
       "\\item 'PD1 + LAG3 + TIM3.x'\n",
       "\\item 'agegroup.x'\n",
       "\\item 'foldgroup.x'\n",
       "\\item 'Remission.x'\n",
       "\\item 'Relapse.x'\n",
       "\\item 'Transplant.x'\n",
       "\\item 'CART.x'\n",
       "\\item 'vital\\_status.x'\n",
       "\\item 'LOF.x'\n",
       "\\item 'TRB.x'\n",
       "\\item 'Reads.x'\n",
       "\\item 'CPKR.x'\n",
       "\\item 'Average\\_reads.x'\n",
       "\\item 'VMR.x'\n",
       "\\item 'Max\\_reads.x'\n",
       "\\item 'Singletons.x'\n",
       "\\item 'Doubletons.x'\n",
       "\\item 'qD.x'\n",
       "\\item 'Sample\\_Coverage.x'\n",
       "\\item 'observed\\_Richness.x'\n",
       "\\item 'estimated\\_Richness.x'\n",
       "\\item 'SE\\_Richeness.x'\n",
       "\\item 'observed\\_Shannon.x'\n",
       "\\item 'estimated\\_Shannon.x'\n",
       "\\item 'SE\\_Shannon.x'\n",
       "\\item 'observed\\_Simpson.x'\n",
       "\\item 'estimated\\_Simpson.x'\n",
       "\\item 'SE\\_Simpson.x'\n",
       "\\item 'basename.x'\n",
       "\\item 'file.x'\n",
       "\\item 'sampletype.x'\n",
       "\\item 'Group.x'\n",
       "\\item 'log10shann.x'\n",
       "\\item 'aveTiRP.x'\n",
       "\\item 'medTiRP.x'\n",
       "\\item 'HLA\\_PC1.x'\n",
       "\\item 'HLA\\_PC2.x'\n",
       "\\item 'HLA\\_PC3.x'\n",
       "\\item 'V\\_PC1.x'\n",
       "\\item 'V\\_PC2.x'\n",
       "\\item 'V\\_PC3.x'\n",
       "\\item 'J\\_PC1.x'\n",
       "\\item 'J\\_PC2.x'\n",
       "\\item 'J\\_PC3.x'\n",
       "\\item 'samplename.x'\n",
       "\\item 'gliph\\_n.x'\n",
       "\\item 'CMV.x'\n",
       "\\item 'EBV.x'\n",
       "\\item 'HCV.x'\n",
       "\\item 'Flu.x'\n",
       "\\item 'hs.x'\n",
       "\\item 'cfDNA\\_TRB.x'\n",
       "\\item 'cfDNA\\_Reads.x'\n",
       "\\item 'cfDNA\\_CPKR.x'\n",
       "\\item 'cfDNA\\_Average\\_reads.x'\n",
       "\\item 'cfDNA\\_VMR.x'\n",
       "\\item 'cfDNA\\_Max\\_reads.x'\n",
       "\\item 'cfDNA\\_Singletons.x'\n",
       "\\item 'cfDNA\\_Doubletons.x'\n",
       "\\item 'cfDNA\\_qD.x'\n",
       "\\item 'cfDNA\\_Sample\\_Coverage.x'\n",
       "\\item 'cfDNA\\_observed\\_Richness.x'\n",
       "\\item 'cfDNA\\_estimated\\_Richness.x'\n",
       "\\item 'cfDNA\\_SE\\_Richeness.x'\n",
       "\\item 'cfDNA\\_observed\\_Shannon.x'\n",
       "\\item 'cfDNA\\_estimated\\_Shannon.x'\n",
       "\\item 'cfDNA\\_SE\\_Shannon.x'\n",
       "\\item 'cfDNA\\_observed\\_Simpson.x'\n",
       "\\item 'cfDNA\\_estimated\\_Simpson.x'\n",
       "\\item 'cfDNA\\_SE\\_Simpson.x'\n",
       "\\item 'cfDNA\\_basename.x'\n",
       "\\item 'cfDNA\\_file.x'\n",
       "\\item 'cfDNA\\_sampletype.x'\n",
       "\\item 'cfDNA\\_Group.x'\n",
       "\\item 'cfDNA\\_log10shann.x'\n",
       "\\item 'cfDNA\\_aveTiRP.x'\n",
       "\\item 'cfDNA\\_medTiRP.x'\n",
       "\\item 'cfDNA\\_V\\_PC1.x'\n",
       "\\item 'cfDNA\\_V\\_PC2.x'\n",
       "\\item 'cfDNA\\_V\\_PC3.x'\n",
       "\\item 'cfDNA\\_J\\_PC1.x'\n",
       "\\item 'cfDNA\\_J\\_PC2.x'\n",
       "\\item 'cfDNA\\_J\\_PC3.x'\n",
       "\\item 'cfDNA\\_samplename.x'\n",
       "\\item 'cfDNA\\_gliph\\_n.x'\n",
       "\\item 'cfDNA\\_CMV.x'\n",
       "\\item 'cfDNA\\_EBV.x'\n",
       "\\item 'cfDNA\\_HCV.x'\n",
       "\\item 'cfDNA\\_Flu.x'\n",
       "\\item 'cfDNA\\_hs.x'\n",
       "\\item 'cyclenum.x'\n",
       "\\item 'sample\\_id.y'\n",
       "\\item 'cycle.y'\n",
       "\\item 'FOLD.y'\n",
       "\\item 'ATC.y'\n",
       "\\item 'Age.y'\n",
       "\\item 'Disease\\_type.y'\n",
       "\\item 'TE\\_fold.y'\n",
       "\\item 'CD3.y'\n",
       "\\item 'EM.y'\n",
       "\\item 'CM.y'\n",
       "\\item 'Naïve.y'\n",
       "\\item 'SCM.y'\n",
       "\\item 'TE.y'\n",
       "\\item 'EM\\%.y'\n",
       "\\item 'CM\\%.y'\n",
       "\\item 'Naïve\\%.y'\n",
       "\\item 'SCM\\%.y'\n",
       "\\item 'TE\\%.y'\n",
       "\\item 'Naïve/TE.y'\n",
       "\\item 'N+CM+SCM/TE+EM.y'\n",
       "\\item 'PD-1.y'\n",
       "\\item 'PDL1.y'\n",
       "\\item 'LAG3.y'\n",
       "\\item 'TIM3.y'\n",
       "\\item 'CTLA4.y'\n",
       "\\item 'PD1\\%.y'\n",
       "\\item 'PDL1\\%.y'\n",
       "\\item 'LAG3\\%.y'\n",
       "\\item 'TIM3\\%.y'\n",
       "\\item 'CTLA4\\%.y'\n",
       "\\item 'Any NCR.y'\n",
       "\\item 'PD1 + LAG3 + TIM3.y'\n",
       "\\item 'agegroup.y'\n",
       "\\item 'foldgroup.y'\n",
       "\\item 'Remission.y'\n",
       "\\item 'Relapse.y'\n",
       "\\item 'Transplant.y'\n",
       "\\item 'CART.y'\n",
       "\\item 'vital\\_status.y'\n",
       "\\item 'LOF.y'\n",
       "\\item 'TRB.y'\n",
       "\\item 'Reads.y'\n",
       "\\item 'CPKR.y'\n",
       "\\item 'Average\\_reads.y'\n",
       "\\item 'VMR.y'\n",
       "\\item 'Max\\_reads.y'\n",
       "\\item 'Singletons.y'\n",
       "\\item 'Doubletons.y'\n",
       "\\item 'qD.y'\n",
       "\\item 'Sample\\_Coverage.y'\n",
       "\\item 'observed\\_Richness.y'\n",
       "\\item 'estimated\\_Richness.y'\n",
       "\\item 'SE\\_Richeness.y'\n",
       "\\item 'observed\\_Shannon.y'\n",
       "\\item 'estimated\\_Shannon.y'\n",
       "\\item 'SE\\_Shannon.y'\n",
       "\\item 'observed\\_Simpson.y'\n",
       "\\item 'estimated\\_Simpson.y'\n",
       "\\item 'SE\\_Simpson.y'\n",
       "\\item 'basename.y'\n",
       "\\item 'file.y'\n",
       "\\item 'sampletype.y'\n",
       "\\item 'Group.y'\n",
       "\\item 'log10shann.y'\n",
       "\\item 'aveTiRP.y'\n",
       "\\item 'medTiRP.y'\n",
       "\\item 'HLA\\_PC1.y'\n",
       "\\item 'HLA\\_PC2.y'\n",
       "\\item 'HLA\\_PC3.y'\n",
       "\\item 'V\\_PC1.y'\n",
       "\\item 'V\\_PC2.y'\n",
       "\\item 'V\\_PC3.y'\n",
       "\\item 'J\\_PC1.y'\n",
       "\\item 'J\\_PC2.y'\n",
       "\\item 'J\\_PC3.y'\n",
       "\\item 'samplename.y'\n",
       "\\item ...\n",
       "\\item 'EBV.y'\n",
       "\\item 'HCV.y'\n",
       "\\item 'Flu.y'\n",
       "\\item 'hs.y'\n",
       "\\item 'cfDNA\\_TRB.y'\n",
       "\\item 'cfDNA\\_Reads.y'\n",
       "\\item 'cfDNA\\_CPKR.y'\n",
       "\\item 'cfDNA\\_Average\\_reads.y'\n",
       "\\item 'cfDNA\\_VMR.y'\n",
       "\\item 'cfDNA\\_Max\\_reads.y'\n",
       "\\item 'cfDNA\\_Singletons.y'\n",
       "\\item 'cfDNA\\_Doubletons.y'\n",
       "\\item 'cfDNA\\_qD.y'\n",
       "\\item 'cfDNA\\_Sample\\_Coverage.y'\n",
       "\\item 'cfDNA\\_observed\\_Richness.y'\n",
       "\\item 'cfDNA\\_estimated\\_Richness.y'\n",
       "\\item 'cfDNA\\_SE\\_Richeness.y'\n",
       "\\item 'cfDNA\\_observed\\_Shannon.y'\n",
       "\\item 'cfDNA\\_estimated\\_Shannon.y'\n",
       "\\item 'cfDNA\\_SE\\_Shannon.y'\n",
       "\\item 'cfDNA\\_observed\\_Simpson.y'\n",
       "\\item 'cfDNA\\_estimated\\_Simpson.y'\n",
       "\\item 'cfDNA\\_SE\\_Simpson.y'\n",
       "\\item 'cfDNA\\_basename.y'\n",
       "\\item 'cfDNA\\_file.y'\n",
       "\\item 'cfDNA\\_sampletype.y'\n",
       "\\item 'cfDNA\\_Group.y'\n",
       "\\item 'cfDNA\\_log10shann.y'\n",
       "\\item 'cfDNA\\_aveTiRP.y'\n",
       "\\item 'cfDNA\\_medTiRP.y'\n",
       "\\item 'cfDNA\\_V\\_PC1.y'\n",
       "\\item 'cfDNA\\_V\\_PC2.y'\n",
       "\\item 'cfDNA\\_V\\_PC3.y'\n",
       "\\item 'cfDNA\\_J\\_PC1.y'\n",
       "\\item 'cfDNA\\_J\\_PC2.y'\n",
       "\\item 'cfDNA\\_J\\_PC3.y'\n",
       "\\item 'cfDNA\\_samplename.y'\n",
       "\\item 'cfDNA\\_gliph\\_n.y'\n",
       "\\item 'cfDNA\\_CMV.y'\n",
       "\\item 'cfDNA\\_EBV.y'\n",
       "\\item 'cfDNA\\_HCV.y'\n",
       "\\item 'cfDNA\\_Flu.y'\n",
       "\\item 'cfDNA\\_hs.y'\n",
       "\\item 'cyclenum.y'\n",
       "\\item 'sample\\_id'\n",
       "\\item 'cycle'\n",
       "\\item 'FOLD'\n",
       "\\item 'ATC'\n",
       "\\item 'Age'\n",
       "\\item 'Disease\\_type'\n",
       "\\item 'TE\\_fold'\n",
       "\\item 'CD3'\n",
       "\\item 'EM'\n",
       "\\item 'CM'\n",
       "\\item 'Naïve'\n",
       "\\item 'SCM'\n",
       "\\item 'TE'\n",
       "\\item 'EM\\%'\n",
       "\\item 'CM\\%'\n",
       "\\item 'Naïve\\%'\n",
       "\\item 'SCM\\%'\n",
       "\\item 'TE\\%'\n",
       "\\item 'Naïve/TE'\n",
       "\\item 'N+CM+SCM/TE+EM'\n",
       "\\item 'PD-1'\n",
       "\\item 'PDL1'\n",
       "\\item 'LAG3'\n",
       "\\item 'TIM3'\n",
       "\\item 'CTLA4'\n",
       "\\item 'PD1\\%'\n",
       "\\item 'PDL1\\%'\n",
       "\\item 'LAG3\\%'\n",
       "\\item 'TIM3\\%'\n",
       "\\item 'CTLA4\\%'\n",
       "\\item 'Any NCR'\n",
       "\\item 'PD1 + LAG3 + TIM3'\n",
       "\\item 'agegroup'\n",
       "\\item 'foldgroup'\n",
       "\\item 'Remission'\n",
       "\\item 'Relapse'\n",
       "\\item 'Transplant'\n",
       "\\item 'CART'\n",
       "\\item 'vital\\_status'\n",
       "\\item 'LOF'\n",
       "\\item 'TRB'\n",
       "\\item 'Reads'\n",
       "\\item 'CPKR'\n",
       "\\item 'Average\\_reads'\n",
       "\\item 'VMR'\n",
       "\\item 'Max\\_reads'\n",
       "\\item 'Singletons'\n",
       "\\item 'Doubletons'\n",
       "\\item 'qD'\n",
       "\\item 'Sample\\_Coverage'\n",
       "\\item 'observed\\_Richness'\n",
       "\\item 'estimated\\_Richness'\n",
       "\\item 'SE\\_Richeness'\n",
       "\\item 'observed\\_Shannon'\n",
       "\\item 'estimated\\_Shannon'\n",
       "\\item 'SE\\_Shannon'\n",
       "\\item 'observed\\_Simpson'\n",
       "\\item 'estimated\\_Simpson'\n",
       "\\item 'SE\\_Simpson'\n",
       "\\item 'basename'\n",
       "\\item 'file'\n",
       "\\item 'sampletype'\n",
       "\\item 'Group'\n",
       "\\item 'log10shann'\n",
       "\\item 'aveTiRP'\n",
       "\\item 'medTiRP'\n",
       "\\item 'HLA\\_PC1'\n",
       "\\item 'HLA\\_PC2'\n",
       "\\item 'HLA\\_PC3'\n",
       "\\item 'V\\_PC1'\n",
       "\\item 'V\\_PC2'\n",
       "\\item 'V\\_PC3'\n",
       "\\item 'J\\_PC1'\n",
       "\\item 'J\\_PC2'\n",
       "\\item 'J\\_PC3'\n",
       "\\item 'samplename'\n",
       "\\item 'gliph\\_n'\n",
       "\\item 'CMV'\n",
       "\\item 'EBV'\n",
       "\\item 'HCV'\n",
       "\\item 'Flu'\n",
       "\\item 'hs'\n",
       "\\item 'cfDNA\\_TRB'\n",
       "\\item 'cfDNA\\_Reads'\n",
       "\\item 'cfDNA\\_CPKR'\n",
       "\\item 'cfDNA\\_Average\\_reads'\n",
       "\\item 'cfDNA\\_VMR'\n",
       "\\item 'cfDNA\\_Max\\_reads'\n",
       "\\item 'cfDNA\\_Singletons'\n",
       "\\item 'cfDNA\\_Doubletons'\n",
       "\\item 'cfDNA\\_qD'\n",
       "\\item 'cfDNA\\_Sample\\_Coverage'\n",
       "\\item 'cfDNA\\_observed\\_Richness'\n",
       "\\item 'cfDNA\\_estimated\\_Richness'\n",
       "\\item 'cfDNA\\_SE\\_Richeness'\n",
       "\\item 'cfDNA\\_observed\\_Shannon'\n",
       "\\item 'cfDNA\\_estimated\\_Shannon'\n",
       "\\item 'cfDNA\\_SE\\_Shannon'\n",
       "\\item 'cfDNA\\_observed\\_Simpson'\n",
       "\\item 'cfDNA\\_estimated\\_Simpson'\n",
       "\\item 'cfDNA\\_SE\\_Simpson'\n",
       "\\item 'cfDNA\\_basename'\n",
       "\\item 'cfDNA\\_file'\n",
       "\\item 'cfDNA\\_sampletype'\n",
       "\\item 'cfDNA\\_Group'\n",
       "\\item 'cfDNA\\_log10shann'\n",
       "\\item 'cfDNA\\_aveTiRP'\n",
       "\\item 'cfDNA\\_medTiRP'\n",
       "\\item 'cfDNA\\_V\\_PC1'\n",
       "\\item 'cfDNA\\_V\\_PC2'\n",
       "\\item 'cfDNA\\_V\\_PC3'\n",
       "\\item 'cfDNA\\_J\\_PC1'\n",
       "\\item 'cfDNA\\_J\\_PC2'\n",
       "\\item 'cfDNA\\_J\\_PC3'\n",
       "\\item 'cfDNA\\_samplename'\n",
       "\\item 'cfDNA\\_gliph\\_n'\n",
       "\\item 'cfDNA\\_CMV'\n",
       "\\item 'cfDNA\\_EBV'\n",
       "\\item 'cfDNA\\_HCV'\n",
       "\\item 'cfDNA\\_Flu'\n",
       "\\item 'cfDNA\\_hs'\n",
       "\\item 'cyclenum'\n",
       "\\item 'GLIPH\\_PC1'\n",
       "\\item 'GLIPH\\_PC2'\n",
       "\\item 'EM\\%\\_scaled'\n",
       "\\item 'CM\\%\\_scaled'\n",
       "\\item 'Naïve\\%\\_scaled'\n",
       "\\item 'SCM\\%\\_scaled'\n",
       "\\item 'TE\\%\\_scaled'\n",
       "\\item 'V\\_PC1\\_scaled'\n",
       "\\item 'V\\_PC2\\_scaled'\n",
       "\\item 'J\\_PC1\\_scaled'\n",
       "\\item 'J\\_PC2\\_scaled'\n",
       "\\item 'PD1\\%\\_scaled'\n",
       "\\item 'TIM3\\%\\_scaled'\n",
       "\\item 'LAG3\\%\\_scaled'\n",
       "\\item 'log10shann\\_scaled'\n",
       "\\item 'gliph\\_n\\_scaled'\n",
       "\\item 'GLIPH\\_PC1\\_scaled'\n",
       "\\item 'GLIPH\\_PC2\\_scaled'\n",
       "\\item 'EM\\%\\_rank'\n",
       "\\item 'CM\\%\\_rank'\n",
       "\\item 'Naïve\\%\\_rank'\n",
       "\\item 'SCM\\%\\_rank'\n",
       "\\item 'TE\\%\\_rank'\n",
       "\\item 'V\\_PC1\\_rank'\n",
       "\\item 'V\\_PC2\\_rank'\n",
       "\\item 'J\\_PC1\\_rank'\n",
       "\\item 'J\\_PC2\\_rank'\n",
       "\\item 'PD1\\%\\_rank'\n",
       "\\item 'TIM3\\%\\_rank'\n",
       "\\item 'LAG3\\%\\_rank'\n",
       "\\item 'log10shann\\_rank'\n",
       "\\item 'gliph\\_n\\_rank'\n",
       "\\item 'GLIPH\\_PC1\\_rank'\n",
       "\\item 'GLIPH\\_PC2\\_rank'\n",
       "\\end{enumerate*}\n"
      ],
      "text/markdown": [
       "1. 'Patient'\n",
       "2. 'cancergroup'\n",
       "3. 'sample_id.x'\n",
       "4. 'cycle.x'\n",
       "5. 'FOLD.x'\n",
       "6. 'ATC.x'\n",
       "7. 'Age.x'\n",
       "8. 'Disease_type.x'\n",
       "9. 'TE_fold.x'\n",
       "10. 'CD3.x'\n",
       "11. 'EM.x'\n",
       "12. 'CM.x'\n",
       "13. 'Naïve.x'\n",
       "14. 'SCM.x'\n",
       "15. 'TE.x'\n",
       "16. 'EM%.x'\n",
       "17. 'CM%.x'\n",
       "18. 'Naïve%.x'\n",
       "19. 'SCM%.x'\n",
       "20. 'TE%.x'\n",
       "21. 'Naïve/TE.x'\n",
       "22. 'N+CM+SCM/TE+EM.x'\n",
       "23. 'PD-1.x'\n",
       "24. 'PDL1.x'\n",
       "25. 'LAG3.x'\n",
       "26. 'TIM3.x'\n",
       "27. 'CTLA4.x'\n",
       "28. 'PD1%.x'\n",
       "29. 'PDL1%.x'\n",
       "30. 'LAG3%.x'\n",
       "31. 'TIM3%.x'\n",
       "32. 'CTLA4%.x'\n",
       "33. 'Any NCR.x'\n",
       "34. 'PD1 + LAG3 + TIM3.x'\n",
       "35. 'agegroup.x'\n",
       "36. 'foldgroup.x'\n",
       "37. 'Remission.x'\n",
       "38. 'Relapse.x'\n",
       "39. 'Transplant.x'\n",
       "40. 'CART.x'\n",
       "41. 'vital_status.x'\n",
       "42. 'LOF.x'\n",
       "43. 'TRB.x'\n",
       "44. 'Reads.x'\n",
       "45. 'CPKR.x'\n",
       "46. 'Average_reads.x'\n",
       "47. 'VMR.x'\n",
       "48. 'Max_reads.x'\n",
       "49. 'Singletons.x'\n",
       "50. 'Doubletons.x'\n",
       "51. 'qD.x'\n",
       "52. 'Sample_Coverage.x'\n",
       "53. 'observed_Richness.x'\n",
       "54. 'estimated_Richness.x'\n",
       "55. 'SE_Richeness.x'\n",
       "56. 'observed_Shannon.x'\n",
       "57. 'estimated_Shannon.x'\n",
       "58. 'SE_Shannon.x'\n",
       "59. 'observed_Simpson.x'\n",
       "60. 'estimated_Simpson.x'\n",
       "61. 'SE_Simpson.x'\n",
       "62. 'basename.x'\n",
       "63. 'file.x'\n",
       "64. 'sampletype.x'\n",
       "65. 'Group.x'\n",
       "66. 'log10shann.x'\n",
       "67. 'aveTiRP.x'\n",
       "68. 'medTiRP.x'\n",
       "69. 'HLA_PC1.x'\n",
       "70. 'HLA_PC2.x'\n",
       "71. 'HLA_PC3.x'\n",
       "72. 'V_PC1.x'\n",
       "73. 'V_PC2.x'\n",
       "74. 'V_PC3.x'\n",
       "75. 'J_PC1.x'\n",
       "76. 'J_PC2.x'\n",
       "77. 'J_PC3.x'\n",
       "78. 'samplename.x'\n",
       "79. 'gliph_n.x'\n",
       "80. 'CMV.x'\n",
       "81. 'EBV.x'\n",
       "82. 'HCV.x'\n",
       "83. 'Flu.x'\n",
       "84. 'hs.x'\n",
       "85. 'cfDNA_TRB.x'\n",
       "86. 'cfDNA_Reads.x'\n",
       "87. 'cfDNA_CPKR.x'\n",
       "88. 'cfDNA_Average_reads.x'\n",
       "89. 'cfDNA_VMR.x'\n",
       "90. 'cfDNA_Max_reads.x'\n",
       "91. 'cfDNA_Singletons.x'\n",
       "92. 'cfDNA_Doubletons.x'\n",
       "93. 'cfDNA_qD.x'\n",
       "94. 'cfDNA_Sample_Coverage.x'\n",
       "95. 'cfDNA_observed_Richness.x'\n",
       "96. 'cfDNA_estimated_Richness.x'\n",
       "97. 'cfDNA_SE_Richeness.x'\n",
       "98. 'cfDNA_observed_Shannon.x'\n",
       "99. 'cfDNA_estimated_Shannon.x'\n",
       "100. 'cfDNA_SE_Shannon.x'\n",
       "101. 'cfDNA_observed_Simpson.x'\n",
       "102. 'cfDNA_estimated_Simpson.x'\n",
       "103. 'cfDNA_SE_Simpson.x'\n",
       "104. 'cfDNA_basename.x'\n",
       "105. 'cfDNA_file.x'\n",
       "106. 'cfDNA_sampletype.x'\n",
       "107. 'cfDNA_Group.x'\n",
       "108. 'cfDNA_log10shann.x'\n",
       "109. 'cfDNA_aveTiRP.x'\n",
       "110. 'cfDNA_medTiRP.x'\n",
       "111. 'cfDNA_V_PC1.x'\n",
       "112. 'cfDNA_V_PC2.x'\n",
       "113. 'cfDNA_V_PC3.x'\n",
       "114. 'cfDNA_J_PC1.x'\n",
       "115. 'cfDNA_J_PC2.x'\n",
       "116. 'cfDNA_J_PC3.x'\n",
       "117. 'cfDNA_samplename.x'\n",
       "118. 'cfDNA_gliph_n.x'\n",
       "119. 'cfDNA_CMV.x'\n",
       "120. 'cfDNA_EBV.x'\n",
       "121. 'cfDNA_HCV.x'\n",
       "122. 'cfDNA_Flu.x'\n",
       "123. 'cfDNA_hs.x'\n",
       "124. 'cyclenum.x'\n",
       "125. 'sample_id.y'\n",
       "126. 'cycle.y'\n",
       "127. 'FOLD.y'\n",
       "128. 'ATC.y'\n",
       "129. 'Age.y'\n",
       "130. 'Disease_type.y'\n",
       "131. 'TE_fold.y'\n",
       "132. 'CD3.y'\n",
       "133. 'EM.y'\n",
       "134. 'CM.y'\n",
       "135. 'Naïve.y'\n",
       "136. 'SCM.y'\n",
       "137. 'TE.y'\n",
       "138. 'EM%.y'\n",
       "139. 'CM%.y'\n",
       "140. 'Naïve%.y'\n",
       "141. 'SCM%.y'\n",
       "142. 'TE%.y'\n",
       "143. 'Naïve/TE.y'\n",
       "144. 'N+CM+SCM/TE+EM.y'\n",
       "145. 'PD-1.y'\n",
       "146. 'PDL1.y'\n",
       "147. 'LAG3.y'\n",
       "148. 'TIM3.y'\n",
       "149. 'CTLA4.y'\n",
       "150. 'PD1%.y'\n",
       "151. 'PDL1%.y'\n",
       "152. 'LAG3%.y'\n",
       "153. 'TIM3%.y'\n",
       "154. 'CTLA4%.y'\n",
       "155. 'Any NCR.y'\n",
       "156. 'PD1 + LAG3 + TIM3.y'\n",
       "157. 'agegroup.y'\n",
       "158. 'foldgroup.y'\n",
       "159. 'Remission.y'\n",
       "160. 'Relapse.y'\n",
       "161. 'Transplant.y'\n",
       "162. 'CART.y'\n",
       "163. 'vital_status.y'\n",
       "164. 'LOF.y'\n",
       "165. 'TRB.y'\n",
       "166. 'Reads.y'\n",
       "167. 'CPKR.y'\n",
       "168. 'Average_reads.y'\n",
       "169. 'VMR.y'\n",
       "170. 'Max_reads.y'\n",
       "171. 'Singletons.y'\n",
       "172. 'Doubletons.y'\n",
       "173. 'qD.y'\n",
       "174. 'Sample_Coverage.y'\n",
       "175. 'observed_Richness.y'\n",
       "176. 'estimated_Richness.y'\n",
       "177. 'SE_Richeness.y'\n",
       "178. 'observed_Shannon.y'\n",
       "179. 'estimated_Shannon.y'\n",
       "180. 'SE_Shannon.y'\n",
       "181. 'observed_Simpson.y'\n",
       "182. 'estimated_Simpson.y'\n",
       "183. 'SE_Simpson.y'\n",
       "184. 'basename.y'\n",
       "185. 'file.y'\n",
       "186. 'sampletype.y'\n",
       "187. 'Group.y'\n",
       "188. 'log10shann.y'\n",
       "189. 'aveTiRP.y'\n",
       "190. 'medTiRP.y'\n",
       "191. 'HLA_PC1.y'\n",
       "192. 'HLA_PC2.y'\n",
       "193. 'HLA_PC3.y'\n",
       "194. 'V_PC1.y'\n",
       "195. 'V_PC2.y'\n",
       "196. 'V_PC3.y'\n",
       "197. 'J_PC1.y'\n",
       "198. 'J_PC2.y'\n",
       "199. 'J_PC3.y'\n",
       "200. 'samplename.y'\n",
       "201. ...\n",
       "202. 'EBV.y'\n",
       "203. 'HCV.y'\n",
       "204. 'Flu.y'\n",
       "205. 'hs.y'\n",
       "206. 'cfDNA_TRB.y'\n",
       "207. 'cfDNA_Reads.y'\n",
       "208. 'cfDNA_CPKR.y'\n",
       "209. 'cfDNA_Average_reads.y'\n",
       "210. 'cfDNA_VMR.y'\n",
       "211. 'cfDNA_Max_reads.y'\n",
       "212. 'cfDNA_Singletons.y'\n",
       "213. 'cfDNA_Doubletons.y'\n",
       "214. 'cfDNA_qD.y'\n",
       "215. 'cfDNA_Sample_Coverage.y'\n",
       "216. 'cfDNA_observed_Richness.y'\n",
       "217. 'cfDNA_estimated_Richness.y'\n",
       "218. 'cfDNA_SE_Richeness.y'\n",
       "219. 'cfDNA_observed_Shannon.y'\n",
       "220. 'cfDNA_estimated_Shannon.y'\n",
       "221. 'cfDNA_SE_Shannon.y'\n",
       "222. 'cfDNA_observed_Simpson.y'\n",
       "223. 'cfDNA_estimated_Simpson.y'\n",
       "224. 'cfDNA_SE_Simpson.y'\n",
       "225. 'cfDNA_basename.y'\n",
       "226. 'cfDNA_file.y'\n",
       "227. 'cfDNA_sampletype.y'\n",
       "228. 'cfDNA_Group.y'\n",
       "229. 'cfDNA_log10shann.y'\n",
       "230. 'cfDNA_aveTiRP.y'\n",
       "231. 'cfDNA_medTiRP.y'\n",
       "232. 'cfDNA_V_PC1.y'\n",
       "233. 'cfDNA_V_PC2.y'\n",
       "234. 'cfDNA_V_PC3.y'\n",
       "235. 'cfDNA_J_PC1.y'\n",
       "236. 'cfDNA_J_PC2.y'\n",
       "237. 'cfDNA_J_PC3.y'\n",
       "238. 'cfDNA_samplename.y'\n",
       "239. 'cfDNA_gliph_n.y'\n",
       "240. 'cfDNA_CMV.y'\n",
       "241. 'cfDNA_EBV.y'\n",
       "242. 'cfDNA_HCV.y'\n",
       "243. 'cfDNA_Flu.y'\n",
       "244. 'cfDNA_hs.y'\n",
       "245. 'cyclenum.y'\n",
       "246. 'sample_id'\n",
       "247. 'cycle'\n",
       "248. 'FOLD'\n",
       "249. 'ATC'\n",
       "250. 'Age'\n",
       "251. 'Disease_type'\n",
       "252. 'TE_fold'\n",
       "253. 'CD3'\n",
       "254. 'EM'\n",
       "255. 'CM'\n",
       "256. 'Naïve'\n",
       "257. 'SCM'\n",
       "258. 'TE'\n",
       "259. 'EM%'\n",
       "260. 'CM%'\n",
       "261. 'Naïve%'\n",
       "262. 'SCM%'\n",
       "263. 'TE%'\n",
       "264. 'Naïve/TE'\n",
       "265. 'N+CM+SCM/TE+EM'\n",
       "266. 'PD-1'\n",
       "267. 'PDL1'\n",
       "268. 'LAG3'\n",
       "269. 'TIM3'\n",
       "270. 'CTLA4'\n",
       "271. 'PD1%'\n",
       "272. 'PDL1%'\n",
       "273. 'LAG3%'\n",
       "274. 'TIM3%'\n",
       "275. 'CTLA4%'\n",
       "276. 'Any NCR'\n",
       "277. 'PD1 + LAG3 + TIM3'\n",
       "278. 'agegroup'\n",
       "279. 'foldgroup'\n",
       "280. 'Remission'\n",
       "281. 'Relapse'\n",
       "282. 'Transplant'\n",
       "283. 'CART'\n",
       "284. 'vital_status'\n",
       "285. 'LOF'\n",
       "286. 'TRB'\n",
       "287. 'Reads'\n",
       "288. 'CPKR'\n",
       "289. 'Average_reads'\n",
       "290. 'VMR'\n",
       "291. 'Max_reads'\n",
       "292. 'Singletons'\n",
       "293. 'Doubletons'\n",
       "294. 'qD'\n",
       "295. 'Sample_Coverage'\n",
       "296. 'observed_Richness'\n",
       "297. 'estimated_Richness'\n",
       "298. 'SE_Richeness'\n",
       "299. 'observed_Shannon'\n",
       "300. 'estimated_Shannon'\n",
       "301. 'SE_Shannon'\n",
       "302. 'observed_Simpson'\n",
       "303. 'estimated_Simpson'\n",
       "304. 'SE_Simpson'\n",
       "305. 'basename'\n",
       "306. 'file'\n",
       "307. 'sampletype'\n",
       "308. 'Group'\n",
       "309. 'log10shann'\n",
       "310. 'aveTiRP'\n",
       "311. 'medTiRP'\n",
       "312. 'HLA_PC1'\n",
       "313. 'HLA_PC2'\n",
       "314. 'HLA_PC3'\n",
       "315. 'V_PC1'\n",
       "316. 'V_PC2'\n",
       "317. 'V_PC3'\n",
       "318. 'J_PC1'\n",
       "319. 'J_PC2'\n",
       "320. 'J_PC3'\n",
       "321. 'samplename'\n",
       "322. 'gliph_n'\n",
       "323. 'CMV'\n",
       "324. 'EBV'\n",
       "325. 'HCV'\n",
       "326. 'Flu'\n",
       "327. 'hs'\n",
       "328. 'cfDNA_TRB'\n",
       "329. 'cfDNA_Reads'\n",
       "330. 'cfDNA_CPKR'\n",
       "331. 'cfDNA_Average_reads'\n",
       "332. 'cfDNA_VMR'\n",
       "333. 'cfDNA_Max_reads'\n",
       "334. 'cfDNA_Singletons'\n",
       "335. 'cfDNA_Doubletons'\n",
       "336. 'cfDNA_qD'\n",
       "337. 'cfDNA_Sample_Coverage'\n",
       "338. 'cfDNA_observed_Richness'\n",
       "339. 'cfDNA_estimated_Richness'\n",
       "340. 'cfDNA_SE_Richeness'\n",
       "341. 'cfDNA_observed_Shannon'\n",
       "342. 'cfDNA_estimated_Shannon'\n",
       "343. 'cfDNA_SE_Shannon'\n",
       "344. 'cfDNA_observed_Simpson'\n",
       "345. 'cfDNA_estimated_Simpson'\n",
       "346. 'cfDNA_SE_Simpson'\n",
       "347. 'cfDNA_basename'\n",
       "348. 'cfDNA_file'\n",
       "349. 'cfDNA_sampletype'\n",
       "350. 'cfDNA_Group'\n",
       "351. 'cfDNA_log10shann'\n",
       "352. 'cfDNA_aveTiRP'\n",
       "353. 'cfDNA_medTiRP'\n",
       "354. 'cfDNA_V_PC1'\n",
       "355. 'cfDNA_V_PC2'\n",
       "356. 'cfDNA_V_PC3'\n",
       "357. 'cfDNA_J_PC1'\n",
       "358. 'cfDNA_J_PC2'\n",
       "359. 'cfDNA_J_PC3'\n",
       "360. 'cfDNA_samplename'\n",
       "361. 'cfDNA_gliph_n'\n",
       "362. 'cfDNA_CMV'\n",
       "363. 'cfDNA_EBV'\n",
       "364. 'cfDNA_HCV'\n",
       "365. 'cfDNA_Flu'\n",
       "366. 'cfDNA_hs'\n",
       "367. 'cyclenum'\n",
       "368. 'GLIPH_PC1'\n",
       "369. 'GLIPH_PC2'\n",
       "370. 'EM%_scaled'\n",
       "371. 'CM%_scaled'\n",
       "372. 'Naïve%_scaled'\n",
       "373. 'SCM%_scaled'\n",
       "374. 'TE%_scaled'\n",
       "375. 'V_PC1_scaled'\n",
       "376. 'V_PC2_scaled'\n",
       "377. 'J_PC1_scaled'\n",
       "378. 'J_PC2_scaled'\n",
       "379. 'PD1%_scaled'\n",
       "380. 'TIM3%_scaled'\n",
       "381. 'LAG3%_scaled'\n",
       "382. 'log10shann_scaled'\n",
       "383. 'gliph_n_scaled'\n",
       "384. 'GLIPH_PC1_scaled'\n",
       "385. 'GLIPH_PC2_scaled'\n",
       "386. 'EM%_rank'\n",
       "387. 'CM%_rank'\n",
       "388. 'Naïve%_rank'\n",
       "389. 'SCM%_rank'\n",
       "390. 'TE%_rank'\n",
       "391. 'V_PC1_rank'\n",
       "392. 'V_PC2_rank'\n",
       "393. 'J_PC1_rank'\n",
       "394. 'J_PC2_rank'\n",
       "395. 'PD1%_rank'\n",
       "396. 'TIM3%_rank'\n",
       "397. 'LAG3%_rank'\n",
       "398. 'log10shann_rank'\n",
       "399. 'gliph_n_rank'\n",
       "400. 'GLIPH_PC1_rank'\n",
       "401. 'GLIPH_PC2_rank'\n",
       "\n",
       "\n"
      ],
      "text/plain": [
       "  [1] \"Patient\"                    \"cancergroup\"               \n",
       "  [3] \"sample_id.x\"                \"cycle.x\"                   \n",
       "  [5] \"FOLD.x\"                     \"ATC.x\"                     \n",
       "  [7] \"Age.x\"                      \"Disease_type.x\"            \n",
       "  [9] \"TE_fold.x\"                  \"CD3.x\"                     \n",
       " [11] \"EM.x\"                       \"CM.x\"                      \n",
       " [13] \"Naïve.x\"                    \"SCM.x\"                     \n",
       " [15] \"TE.x\"                       \"EM%.x\"                     \n",
       " [17] \"CM%.x\"                      \"Naïve%.x\"                  \n",
       " [19] \"SCM%.x\"                     \"TE%.x\"                     \n",
       " [21] \"Naïve/TE.x\"                 \"N+CM+SCM/TE+EM.x\"          \n",
       " [23] \"PD-1.x\"                     \"PDL1.x\"                    \n",
       " [25] \"LAG3.x\"                     \"TIM3.x\"                    \n",
       " [27] \"CTLA4.x\"                    \"PD1%.x\"                    \n",
       " [29] \"PDL1%.x\"                    \"LAG3%.x\"                   \n",
       " [31] \"TIM3%.x\"                    \"CTLA4%.x\"                  \n",
       " [33] \"Any NCR.x\"                  \"PD1 + LAG3 + TIM3.x\"       \n",
       " [35] \"agegroup.x\"                 \"foldgroup.x\"               \n",
       " [37] \"Remission.x\"                \"Relapse.x\"                 \n",
       " [39] \"Transplant.x\"               \"CART.x\"                    \n",
       " [41] \"vital_status.x\"             \"LOF.x\"                     \n",
       " [43] \"TRB.x\"                      \"Reads.x\"                   \n",
       " [45] \"CPKR.x\"                     \"Average_reads.x\"           \n",
       " [47] \"VMR.x\"                      \"Max_reads.x\"               \n",
       " [49] \"Singletons.x\"               \"Doubletons.x\"              \n",
       " [51] \"qD.x\"                       \"Sample_Coverage.x\"         \n",
       " [53] \"observed_Richness.x\"        \"estimated_Richness.x\"      \n",
       " [55] \"SE_Richeness.x\"             \"observed_Shannon.x\"        \n",
       " [57] \"estimated_Shannon.x\"        \"SE_Shannon.x\"              \n",
       " [59] \"observed_Simpson.x\"         \"estimated_Simpson.x\"       \n",
       " [61] \"SE_Simpson.x\"               \"basename.x\"                \n",
       " [63] \"file.x\"                     \"sampletype.x\"              \n",
       " [65] \"Group.x\"                    \"log10shann.x\"              \n",
       " [67] \"aveTiRP.x\"                  \"medTiRP.x\"                 \n",
       " [69] \"HLA_PC1.x\"                  \"HLA_PC2.x\"                 \n",
       " [71] \"HLA_PC3.x\"                  \"V_PC1.x\"                   \n",
       " [73] \"V_PC2.x\"                    \"V_PC3.x\"                   \n",
       " [75] \"J_PC1.x\"                    \"J_PC2.x\"                   \n",
       " [77] \"J_PC3.x\"                    \"samplename.x\"              \n",
       " [79] \"gliph_n.x\"                  \"CMV.x\"                     \n",
       " [81] \"EBV.x\"                      \"HCV.x\"                     \n",
       " [83] \"Flu.x\"                      \"hs.x\"                      \n",
       " [85] \"cfDNA_TRB.x\"                \"cfDNA_Reads.x\"             \n",
       " [87] \"cfDNA_CPKR.x\"               \"cfDNA_Average_reads.x\"     \n",
       " [89] \"cfDNA_VMR.x\"                \"cfDNA_Max_reads.x\"         \n",
       " [91] \"cfDNA_Singletons.x\"         \"cfDNA_Doubletons.x\"        \n",
       " [93] \"cfDNA_qD.x\"                 \"cfDNA_Sample_Coverage.x\"   \n",
       " [95] \"cfDNA_observed_Richness.x\"  \"cfDNA_estimated_Richness.x\"\n",
       " [97] \"cfDNA_SE_Richeness.x\"       \"cfDNA_observed_Shannon.x\"  \n",
       " [99] \"cfDNA_estimated_Shannon.x\"  \"cfDNA_SE_Shannon.x\"        \n",
       "[101] \"cfDNA_observed_Simpson.x\"   \"cfDNA_estimated_Simpson.x\" \n",
       "[103] \"cfDNA_SE_Simpson.x\"         \"cfDNA_basename.x\"          \n",
       "[105] \"cfDNA_file.x\"               \"cfDNA_sampletype.x\"        \n",
       "[107] \"cfDNA_Group.x\"              \"cfDNA_log10shann.x\"        \n",
       "[109] \"cfDNA_aveTiRP.x\"            \"cfDNA_medTiRP.x\"           \n",
       "[111] \"cfDNA_V_PC1.x\"              \"cfDNA_V_PC2.x\"             \n",
       "[113] \"cfDNA_V_PC3.x\"              \"cfDNA_J_PC1.x\"             \n",
       "[115] \"cfDNA_J_PC2.x\"              \"cfDNA_J_PC3.x\"             \n",
       "[117] \"cfDNA_samplename.x\"         \"cfDNA_gliph_n.x\"           \n",
       "[119] \"cfDNA_CMV.x\"                \"cfDNA_EBV.x\"               \n",
       "[121] \"cfDNA_HCV.x\"                \"cfDNA_Flu.x\"               \n",
       "[123] \"cfDNA_hs.x\"                 \"cyclenum.x\"                \n",
       "[125] \"sample_id.y\"                \"cycle.y\"                   \n",
       "[127] \"FOLD.y\"                     \"ATC.y\"                     \n",
       "[129] \"Age.y\"                      \"Disease_type.y\"            \n",
       "[131] \"TE_fold.y\"                  \"CD3.y\"                     \n",
       "[133] \"EM.y\"                       \"CM.y\"                      \n",
       "[135] \"Naïve.y\"                    \"SCM.y\"                     \n",
       "[137] \"TE.y\"                       \"EM%.y\"                     \n",
       "[139] \"CM%.y\"                      \"Naïve%.y\"                  \n",
       "[141] \"SCM%.y\"                     \"TE%.y\"                     \n",
       "[143] \"Naïve/TE.y\"                 \"N+CM+SCM/TE+EM.y\"          \n",
       "[145] \"PD-1.y\"                     \"PDL1.y\"                    \n",
       "[147] \"LAG3.y\"                     \"TIM3.y\"                    \n",
       "[149] \"CTLA4.y\"                    \"PD1%.y\"                    \n",
       "[151] \"PDL1%.y\"                    \"LAG3%.y\"                   \n",
       "[153] \"TIM3%.y\"                    \"CTLA4%.y\"                  \n",
       "[155] \"Any NCR.y\"                  \"PD1 + LAG3 + TIM3.y\"       \n",
       "[157] \"agegroup.y\"                 \"foldgroup.y\"               \n",
       "[159] \"Remission.y\"                \"Relapse.y\"                 \n",
       "[161] \"Transplant.y\"               \"CART.y\"                    \n",
       "[163] \"vital_status.y\"             \"LOF.y\"                     \n",
       "[165] \"TRB.y\"                      \"Reads.y\"                   \n",
       "[167] \"CPKR.y\"                     \"Average_reads.y\"           \n",
       "[169] \"VMR.y\"                      \"Max_reads.y\"               \n",
       "[171] \"Singletons.y\"               \"Doubletons.y\"              \n",
       "[173] \"qD.y\"                       \"Sample_Coverage.y\"         \n",
       "[175] \"observed_Richness.y\"        \"estimated_Richness.y\"      \n",
       "[177] \"SE_Richeness.y\"             \"observed_Shannon.y\"        \n",
       "[179] \"estimated_Shannon.y\"        \"SE_Shannon.y\"              \n",
       "[181] \"observed_Simpson.y\"         \"estimated_Simpson.y\"       \n",
       "[183] \"SE_Simpson.y\"               \"basename.y\"                \n",
       "[185] \"file.y\"                     \"sampletype.y\"              \n",
       "[187] \"Group.y\"                    \"log10shann.y\"              \n",
       "[189] \"aveTiRP.y\"                  \"medTiRP.y\"                 \n",
       "[191] \"HLA_PC1.y\"                  \"HLA_PC2.y\"                 \n",
       "[193] \"HLA_PC3.y\"                  \"V_PC1.y\"                   \n",
       "[195] \"V_PC2.y\"                    \"V_PC3.y\"                   \n",
       "[197] \"J_PC1.y\"                    \"J_PC2.y\"                   \n",
       "[199] \"J_PC3.y\"                    \"samplename.y\"              \n",
       "[201] \"gliph_n.y\"                  \"CMV.y\"                     \n",
       "[203] \"EBV.y\"                      \"HCV.y\"                     \n",
       "[205] \"Flu.y\"                      \"hs.y\"                      \n",
       "[207] \"cfDNA_TRB.y\"                \"cfDNA_Reads.y\"             \n",
       "[209] \"cfDNA_CPKR.y\"               \"cfDNA_Average_reads.y\"     \n",
       "[211] \"cfDNA_VMR.y\"                \"cfDNA_Max_reads.y\"         \n",
       "[213] \"cfDNA_Singletons.y\"         \"cfDNA_Doubletons.y\"        \n",
       "[215] \"cfDNA_qD.y\"                 \"cfDNA_Sample_Coverage.y\"   \n",
       "[217] \"cfDNA_observed_Richness.y\"  \"cfDNA_estimated_Richness.y\"\n",
       "[219] \"cfDNA_SE_Richeness.y\"       \"cfDNA_observed_Shannon.y\"  \n",
       "[221] \"cfDNA_estimated_Shannon.y\"  \"cfDNA_SE_Shannon.y\"        \n",
       "[223] \"cfDNA_observed_Simpson.y\"   \"cfDNA_estimated_Simpson.y\" \n",
       "[225] \"cfDNA_SE_Simpson.y\"         \"cfDNA_basename.y\"          \n",
       "[227] \"cfDNA_file.y\"               \"cfDNA_sampletype.y\"        \n",
       "[229] \"cfDNA_Group.y\"              \"cfDNA_log10shann.y\"        \n",
       "[231] \"cfDNA_aveTiRP.y\"            \"cfDNA_medTiRP.y\"           \n",
       "[233] \"cfDNA_V_PC1.y\"              \"cfDNA_V_PC2.y\"             \n",
       "[235] \"cfDNA_V_PC3.y\"              \"cfDNA_J_PC1.y\"             \n",
       "[237] \"cfDNA_J_PC2.y\"              \"cfDNA_J_PC3.y\"             \n",
       "[239] \"cfDNA_samplename.y\"         \"cfDNA_gliph_n.y\"           \n",
       "[241] \"cfDNA_CMV.y\"                \"cfDNA_EBV.y\"               \n",
       "[243] \"cfDNA_HCV.y\"                \"cfDNA_Flu.y\"               \n",
       "[245] \"cfDNA_hs.y\"                 \"cyclenum.y\"                \n",
       "[247] \"sample_id\"                  \"cycle\"                     \n",
       "[249] \"FOLD\"                       \"ATC\"                       \n",
       "[251] \"Age\"                        \"Disease_type\"              \n",
       "[253] \"TE_fold\"                    \"CD3\"                       \n",
       "[255] \"EM\"                         \"CM\"                        \n",
       "[257] \"Naïve\"                      \"SCM\"                       \n",
       "[259] \"TE\"                         \"EM%\"                       \n",
       "[261] \"CM%\"                        \"Naïve%\"                    \n",
       "[263] \"SCM%\"                       \"TE%\"                       \n",
       "[265] \"Naïve/TE\"                   \"N+CM+SCM/TE+EM\"            \n",
       "[267] \"PD-1\"                       \"PDL1\"                      \n",
       "[269] \"LAG3\"                       \"TIM3\"                      \n",
       "[271] \"CTLA4\"                      \"PD1%\"                      \n",
       "[273] \"PDL1%\"                      \"LAG3%\"                     \n",
       "[275] \"TIM3%\"                      \"CTLA4%\"                    \n",
       "[277] \"Any NCR\"                    \"PD1 + LAG3 + TIM3\"         \n",
       "[279] \"agegroup\"                   \"foldgroup\"                 \n",
       "[281] \"Remission\"                  \"Relapse\"                   \n",
       "[283] \"Transplant\"                 \"CART\"                      \n",
       "[285] \"vital_status\"               \"LOF\"                       \n",
       "[287] \"TRB\"                        \"Reads\"                     \n",
       "[289] \"CPKR\"                       \"Average_reads\"             \n",
       "[291] \"VMR\"                        \"Max_reads\"                 \n",
       "[293] \"Singletons\"                 \"Doubletons\"                \n",
       "[295] \"qD\"                         \"Sample_Coverage\"           \n",
       "[297] \"observed_Richness\"          \"estimated_Richness\"        \n",
       "[299] \"SE_Richeness\"               \"observed_Shannon\"          \n",
       "[301] \"estimated_Shannon\"          \"SE_Shannon\"                \n",
       "[303] \"observed_Simpson\"           \"estimated_Simpson\"         \n",
       "[305] \"SE_Simpson\"                 \"basename\"                  \n",
       "[307] \"file\"                       \"sampletype\"                \n",
       "[309] \"Group\"                      \"log10shann\"                \n",
       "[311] \"aveTiRP\"                    \"medTiRP\"                   \n",
       "[313] \"HLA_PC1\"                    \"HLA_PC2\"                   \n",
       "[315] \"HLA_PC3\"                    \"V_PC1\"                     \n",
       "[317] \"V_PC2\"                      \"V_PC3\"                     \n",
       "[319] \"J_PC1\"                      \"J_PC2\"                     \n",
       "[321] \"J_PC3\"                      \"samplename\"                \n",
       "[323] \"gliph_n\"                    \"CMV\"                       \n",
       "[325] \"EBV\"                        \"HCV\"                       \n",
       "[327] \"Flu\"                        \"hs\"                        \n",
       "[329] \"cfDNA_TRB\"                  \"cfDNA_Reads\"               \n",
       "[331] \"cfDNA_CPKR\"                 \"cfDNA_Average_reads\"       \n",
       "[333] \"cfDNA_VMR\"                  \"cfDNA_Max_reads\"           \n",
       "[335] \"cfDNA_Singletons\"           \"cfDNA_Doubletons\"          \n",
       "[337] \"cfDNA_qD\"                   \"cfDNA_Sample_Coverage\"     \n",
       "[339] \"cfDNA_observed_Richness\"    \"cfDNA_estimated_Richness\"  \n",
       "[341] \"cfDNA_SE_Richeness\"         \"cfDNA_observed_Shannon\"    \n",
       "[343] \"cfDNA_estimated_Shannon\"    \"cfDNA_SE_Shannon\"          \n",
       "[345] \"cfDNA_observed_Simpson\"     \"cfDNA_estimated_Simpson\"   \n",
       "[347] \"cfDNA_SE_Simpson\"           \"cfDNA_basename\"            \n",
       "[349] \"cfDNA_file\"                 \"cfDNA_sampletype\"          \n",
       "[351] \"cfDNA_Group\"                \"cfDNA_log10shann\"          \n",
       "[353] \"cfDNA_aveTiRP\"              \"cfDNA_medTiRP\"             \n",
       "[355] \"cfDNA_V_PC1\"                \"cfDNA_V_PC2\"               \n",
       "[357] \"cfDNA_V_PC3\"                \"cfDNA_J_PC1\"               \n",
       "[359] \"cfDNA_J_PC2\"                \"cfDNA_J_PC3\"               \n",
       "[361] \"cfDNA_samplename\"           \"cfDNA_gliph_n\"             \n",
       "[363] \"cfDNA_CMV\"                  \"cfDNA_EBV\"                 \n",
       "[365] \"cfDNA_HCV\"                  \"cfDNA_Flu\"                 \n",
       "[367] \"cfDNA_hs\"                   \"cyclenum\"                  \n",
       "[369] \"GLIPH_PC1\"                  \"GLIPH_PC2\"                 \n",
       "[371] \"EM%_scaled\"                 \"CM%_scaled\"                \n",
       "[373] \"Naïve%_scaled\"              \"SCM%_scaled\"               \n",
       "[375] \"TE%_scaled\"                 \"V_PC1_scaled\"              \n",
       "[377] \"V_PC2_scaled\"               \"J_PC1_scaled\"              \n",
       "[379] \"J_PC2_scaled\"               \"PD1%_scaled\"               \n",
       "[381] \"TIM3%_scaled\"               \"LAG3%_scaled\"              \n",
       "[383] \"log10shann_scaled\"          \"gliph_n_scaled\"            \n",
       "[385] \"GLIPH_PC1_scaled\"           \"GLIPH_PC2_scaled\"          \n",
       "[387] \"EM%_rank\"                   \"CM%_rank\"                  \n",
       "[389] \"Naïve%_rank\"                \"SCM%_rank\"                 \n",
       "[391] \"TE%_rank\"                   \"V_PC1_rank\"                \n",
       "[393] \"V_PC2_rank\"                 \"J_PC1_rank\"                \n",
       "[395] \"J_PC2_rank\"                 \"PD1%_rank\"                 \n",
       "[397] \"TIM3%_rank\"                 \"LAG3%_rank\"                \n",
       "[399] \"log10shann_rank\"            \"gliph_n_rank\"              \n",
       "[401] \"GLIPH_PC1_rank\"             \"GLIPH_PC2_rank\"            "
      ]
     },
     "metadata": {},
     "output_type": "display_data"
    }
   ],
   "source": [
    "colnames(df_x01)"
   ]
  },
  {
   "cell_type": "code",
   "execution_count": 340,
   "metadata": {
    "vscode": {
     "languageId": "r"
    }
   },
   "outputs": [
    {
     "data": {
      "text/html": [
       "<style>\n",
       ".list-inline {list-style: none; margin:0; padding: 0}\n",
       ".list-inline>li {display: inline-block}\n",
       ".list-inline>li:not(:last-child)::after {content: \"\\00b7\"; padding: 0 .5ex}\n",
       "</style>\n",
       "<ol class=list-inline><li>'GLIPH_PC2'</li><li>'GLIPH_PC1'</li><li>'gliph_n'</li><li>'J_PC2'</li><li>'J_PC1'</li><li>'V_PC2'</li><li>'V_PC1'</li><li>'log10shann'</li><li>'LAG3%'</li><li>'TIM3%'</li><li>'PD1%'</li><li>'TE%'</li><li>'EM%'</li><li>'CM%'</li><li>'SCM%'</li><li>'Naïve%'</li></ol>\n"
      ],
      "text/latex": [
       "\\begin{enumerate*}\n",
       "\\item 'GLIPH\\_PC2'\n",
       "\\item 'GLIPH\\_PC1'\n",
       "\\item 'gliph\\_n'\n",
       "\\item 'J\\_PC2'\n",
       "\\item 'J\\_PC1'\n",
       "\\item 'V\\_PC2'\n",
       "\\item 'V\\_PC1'\n",
       "\\item 'log10shann'\n",
       "\\item 'LAG3\\%'\n",
       "\\item 'TIM3\\%'\n",
       "\\item 'PD1\\%'\n",
       "\\item 'TE\\%'\n",
       "\\item 'EM\\%'\n",
       "\\item 'CM\\%'\n",
       "\\item 'SCM\\%'\n",
       "\\item 'Naïve\\%'\n",
       "\\end{enumerate*}\n"
      ],
      "text/markdown": [
       "1. 'GLIPH_PC2'\n",
       "2. 'GLIPH_PC1'\n",
       "3. 'gliph_n'\n",
       "4. 'J_PC2'\n",
       "5. 'J_PC1'\n",
       "6. 'V_PC2'\n",
       "7. 'V_PC1'\n",
       "8. 'log10shann'\n",
       "9. 'LAG3%'\n",
       "10. 'TIM3%'\n",
       "11. 'PD1%'\n",
       "12. 'TE%'\n",
       "13. 'EM%'\n",
       "14. 'CM%'\n",
       "15. 'SCM%'\n",
       "16. 'Naïve%'\n",
       "\n",
       "\n"
      ],
      "text/plain": [
       " [1] \"GLIPH_PC2\"  \"GLIPH_PC1\"  \"gliph_n\"    \"J_PC2\"      \"J_PC1\"     \n",
       " [6] \"V_PC2\"      \"V_PC1\"      \"log10shann\" \"LAG3%\"      \"TIM3%\"     \n",
       "[11] \"PD1%\"       \"TE%\"        \"EM%\"        \"CM%\"        \"SCM%\"      \n",
       "[16] \"Naïve%\"    "
      ]
     },
     "metadata": {},
     "output_type": "display_data"
    }
   ],
   "source": [
    "mycol"
   ]
  },
  {
   "cell_type": "code",
   "execution_count": 349,
   "metadata": {
    "vscode": {
     "languageId": "r"
    }
   },
   "outputs": [],
   "source": [
    "df_x01_long <- tidyr::pivot_longer(df_x01, all_of(rev(mycol)), names_to = \"Feature\", values_to = \"X01\")"
   ]
  },
  {
   "cell_type": "code",
   "execution_count": 350,
   "metadata": {
    "vscode": {
     "languageId": "r"
    }
   },
   "outputs": [],
   "source": [
    "df_x01_long <- as.data.frame(df_x01_long)"
   ]
  },
  {
   "cell_type": "code",
   "execution_count": 351,
   "metadata": {
    "vscode": {
     "languageId": "r"
    }
   },
   "outputs": [],
   "source": [
    "df_x01_long_narm <- df_x01_long[ !is.na(df_x01_long$X01),]"
   ]
  },
  {
   "cell_type": "code",
   "execution_count": 352,
   "metadata": {
    "vscode": {
     "languageId": "r"
    }
   },
   "outputs": [],
   "source": [
    "feat_lr_mat <- matrix(nrow = length(unique(df_x01_long_narm$Feature)), ncol = 7)\n",
    "rownames(feat_lr_mat) <- unique(df_x01_long_narm$Feature)\n",
    "colnames(feat_lr_mat) <- c('coef', 'exp(coef)', 'SE', 'z', 'Pr(>|z|)', 'lower.95' ,'upper.95')"
   ]
  },
  {
   "cell_type": "code",
   "execution_count": 353,
   "metadata": {
    "vscode": {
     "languageId": "r"
    }
   },
   "outputs": [
    {
     "data": {
      "text/html": [
       "<table class=\"dataframe\">\n",
       "<caption>A data.frame: 6 x 402</caption>\n",
       "<thead>\n",
       "\t<tr><th></th><th scope=col>Patient</th><th scope=col>cancergroup</th><th scope=col>sample_id.x</th><th scope=col>cycle.x</th><th scope=col>FOLD.x</th><th scope=col>ATC.x</th><th scope=col>Age.x</th><th scope=col>Disease_type.x</th><th scope=col>TE_fold.x</th><th scope=col>CD3.x</th><th scope=col>...</th><th scope=col>V_PC2_rank</th><th scope=col>J_PC1_rank</th><th scope=col>J_PC2_rank</th><th scope=col>PD1%_rank</th><th scope=col>TIM3%_rank</th><th scope=col>LAG3%_rank</th><th scope=col>log10shann_rank</th><th scope=col>gliph_n_rank</th><th scope=col>GLIPH_PC1_rank</th><th scope=col>GLIPH_PC2_rank</th></tr>\n",
       "\t<tr><th></th><th scope=col>&lt;chr&gt;</th><th scope=col>&lt;chr&gt;</th><th scope=col>&lt;chr&gt;</th><th scope=col>&lt;chr&gt;</th><th scope=col>&lt;dbl&gt;</th><th scope=col>&lt;dbl&gt;</th><th scope=col>&lt;dbl&gt;</th><th scope=col>&lt;chr&gt;</th><th scope=col>&lt;dbl&gt;</th><th scope=col>&lt;int&gt;</th><th scope=col>...</th><th scope=col>&lt;dbl&gt;</th><th scope=col>&lt;dbl&gt;</th><th scope=col>&lt;dbl&gt;</th><th scope=col>&lt;dbl&gt;</th><th scope=col>&lt;dbl&gt;</th><th scope=col>&lt;dbl&gt;</th><th scope=col>&lt;dbl&gt;</th><th scope=col>&lt;dbl&gt;</th><th scope=col>&lt;dbl&gt;</th><th scope=col>&lt;dbl&gt;</th></tr>\n",
       "</thead>\n",
       "<tbody>\n",
       "\t<tr><th scope=row>1</th><td>CHP_330</td><td>Solid tumors</td><td>CHP_330_01</td><td>X01</td><td> 0.9</td><td>  0.00</td><td> 5</td><td>OS  </td><td> 0.9</td><td>2437</td><td>...</td><td>45</td><td>45</td><td>45</td><td>35</td><td>35</td><td>35</td><td>45</td><td>45.0</td><td>43</td><td>43</td></tr>\n",
       "\t<tr><th scope=row>2</th><td>CHP_332</td><td>Solid tumors</td><td>CHP_332_01</td><td>X01</td><td> 8.2</td><td>  0.00</td><td>10</td><td>ERMS</td><td> 8.2</td><td>3628</td><td>...</td><td>46</td><td>46</td><td>46</td><td>36</td><td>36</td><td>36</td><td>46</td><td>46.0</td><td>44</td><td>44</td></tr>\n",
       "\t<tr><th scope=row>3</th><td>CHP_343</td><td>Solid tumors</td><td>CHP_343_01</td><td>X01</td><td> 1.0</td><td>219.30</td><td> 8</td><td>EWS </td><td> 1.0</td><td>2421</td><td>...</td><td>47</td><td>47</td><td>47</td><td>37</td><td>37</td><td>37</td><td>47</td><td>47.0</td><td>45</td><td>45</td></tr>\n",
       "\t<tr><th scope=row>4</th><td>CHP_346</td><td>Solid tumors</td><td>CHP_346_01</td><td>X01</td><td> 0.8</td><td>331.70</td><td> 1</td><td>NB  </td><td> 0.8</td><td> 637</td><td>...</td><td>25</td><td>36</td><td>28</td><td>14</td><td>14</td><td>13</td><td>15</td><td>13.0</td><td>13</td><td>16</td></tr>\n",
       "\t<tr><th scope=row>5</th><td>CHP_347</td><td>Leukemia    </td><td>CHP_347_01</td><td>X01</td><td> 0.8</td><td>126.72</td><td>13</td><td>ALL </td><td> 0.8</td><td>1701</td><td>...</td><td>20</td><td>17</td><td> 6</td><td>28</td><td>28</td><td> 6</td><td>28</td><td>25.5</td><td>31</td><td>25</td></tr>\n",
       "\t<tr><th scope=row>6</th><td>CHP_348</td><td>Solid tumors</td><td>CHP_348_01</td><td>X01</td><td>11.5</td><td> 50.96</td><td>18</td><td>OS  </td><td>11.5</td><td>1125</td><td>...</td><td>21</td><td>28</td><td>36</td><td>15</td><td>15</td><td> 4</td><td>21</td><td>17.0</td><td>30</td><td> 1</td></tr>\n",
       "</tbody>\n",
       "</table>\n"
      ],
      "text/latex": [
       "A data.frame: 6 x 402\n",
       "\\begin{tabular}{r|lllllllllllllllllllll}\n",
       "  & Patient & cancergroup & sample\\_id.x & cycle.x & FOLD.x & ATC.x & Age.x & Disease\\_type.x & TE\\_fold.x & CD3.x & ... & V\\_PC2\\_rank & J\\_PC1\\_rank & J\\_PC2\\_rank & PD1\\%\\_rank & TIM3\\%\\_rank & LAG3\\%\\_rank & log10shann\\_rank & gliph\\_n\\_rank & GLIPH\\_PC1\\_rank & GLIPH\\_PC2\\_rank\\\\\n",
       "  & <chr> & <chr> & <chr> & <chr> & <dbl> & <dbl> & <dbl> & <chr> & <dbl> & <int> & ... & <dbl> & <dbl> & <dbl> & <dbl> & <dbl> & <dbl> & <dbl> & <dbl> & <dbl> & <dbl>\\\\\n",
       "\\hline\n",
       "\t1 & CHP\\_330 & Solid tumors & CHP\\_330\\_01 & X01 &  0.9 &   0.00 &  5 & OS   &  0.9 & 2437 & ... & 45 & 45 & 45 & 35 & 35 & 35 & 45 & 45.0 & 43 & 43\\\\\n",
       "\t2 & CHP\\_332 & Solid tumors & CHP\\_332\\_01 & X01 &  8.2 &   0.00 & 10 & ERMS &  8.2 & 3628 & ... & 46 & 46 & 46 & 36 & 36 & 36 & 46 & 46.0 & 44 & 44\\\\\n",
       "\t3 & CHP\\_343 & Solid tumors & CHP\\_343\\_01 & X01 &  1.0 & 219.30 &  8 & EWS  &  1.0 & 2421 & ... & 47 & 47 & 47 & 37 & 37 & 37 & 47 & 47.0 & 45 & 45\\\\\n",
       "\t4 & CHP\\_346 & Solid tumors & CHP\\_346\\_01 & X01 &  0.8 & 331.70 &  1 & NB   &  0.8 &  637 & ... & 25 & 36 & 28 & 14 & 14 & 13 & 15 & 13.0 & 13 & 16\\\\\n",
       "\t5 & CHP\\_347 & Leukemia     & CHP\\_347\\_01 & X01 &  0.8 & 126.72 & 13 & ALL  &  0.8 & 1701 & ... & 20 & 17 &  6 & 28 & 28 &  6 & 28 & 25.5 & 31 & 25\\\\\n",
       "\t6 & CHP\\_348 & Solid tumors & CHP\\_348\\_01 & X01 & 11.5 &  50.96 & 18 & OS   & 11.5 & 1125 & ... & 21 & 28 & 36 & 15 & 15 &  4 & 21 & 17.0 & 30 &  1\\\\\n",
       "\\end{tabular}\n"
      ],
      "text/markdown": [
       "\n",
       "A data.frame: 6 x 402\n",
       "\n",
       "| <!--/--> | Patient &lt;chr&gt; | cancergroup &lt;chr&gt; | sample_id.x &lt;chr&gt; | cycle.x &lt;chr&gt; | FOLD.x &lt;dbl&gt; | ATC.x &lt;dbl&gt; | Age.x &lt;dbl&gt; | Disease_type.x &lt;chr&gt; | TE_fold.x &lt;dbl&gt; | CD3.x &lt;int&gt; | ... ... | V_PC2_rank &lt;dbl&gt; | J_PC1_rank &lt;dbl&gt; | J_PC2_rank &lt;dbl&gt; | PD1%_rank &lt;dbl&gt; | TIM3%_rank &lt;dbl&gt; | LAG3%_rank &lt;dbl&gt; | log10shann_rank &lt;dbl&gt; | gliph_n_rank &lt;dbl&gt; | GLIPH_PC1_rank &lt;dbl&gt; | GLIPH_PC2_rank &lt;dbl&gt; |\n",
       "|---|---|---|---|---|---|---|---|---|---|---|---|---|---|---|---|---|---|---|---|---|---|\n",
       "| 1 | CHP_330 | Solid tumors | CHP_330_01 | X01 |  0.9 |   0.00 |  5 | OS   |  0.9 | 2437 | ... | 45 | 45 | 45 | 35 | 35 | 35 | 45 | 45.0 | 43 | 43 |\n",
       "| 2 | CHP_332 | Solid tumors | CHP_332_01 | X01 |  8.2 |   0.00 | 10 | ERMS |  8.2 | 3628 | ... | 46 | 46 | 46 | 36 | 36 | 36 | 46 | 46.0 | 44 | 44 |\n",
       "| 3 | CHP_343 | Solid tumors | CHP_343_01 | X01 |  1.0 | 219.30 |  8 | EWS  |  1.0 | 2421 | ... | 47 | 47 | 47 | 37 | 37 | 37 | 47 | 47.0 | 45 | 45 |\n",
       "| 4 | CHP_346 | Solid tumors | CHP_346_01 | X01 |  0.8 | 331.70 |  1 | NB   |  0.8 |  637 | ... | 25 | 36 | 28 | 14 | 14 | 13 | 15 | 13.0 | 13 | 16 |\n",
       "| 5 | CHP_347 | Leukemia     | CHP_347_01 | X01 |  0.8 | 126.72 | 13 | ALL  |  0.8 | 1701 | ... | 20 | 17 |  6 | 28 | 28 |  6 | 28 | 25.5 | 31 | 25 |\n",
       "| 6 | CHP_348 | Solid tumors | CHP_348_01 | X01 | 11.5 |  50.96 | 18 | OS   | 11.5 | 1125 | ... | 21 | 28 | 36 | 15 | 15 |  4 | 21 | 17.0 | 30 |  1 |\n",
       "\n"
      ],
      "text/plain": [
       "  Patient cancergroup  sample_id.x cycle.x FOLD.x ATC.x  Age.x Disease_type.x\n",
       "1 CHP_330 Solid tumors CHP_330_01  X01      0.9     0.00  5    OS            \n",
       "2 CHP_332 Solid tumors CHP_332_01  X01      8.2     0.00 10    ERMS          \n",
       "3 CHP_343 Solid tumors CHP_343_01  X01      1.0   219.30  8    EWS           \n",
       "4 CHP_346 Solid tumors CHP_346_01  X01      0.8   331.70  1    NB            \n",
       "5 CHP_347 Leukemia     CHP_347_01  X01      0.8   126.72 13    ALL           \n",
       "6 CHP_348 Solid tumors CHP_348_01  X01     11.5    50.96 18    OS            \n",
       "  TE_fold.x CD3.x ... V_PC2_rank J_PC1_rank J_PC2_rank PD1%_rank TIM3%_rank\n",
       "1  0.9      2437  ... 45         45         45         35        35        \n",
       "2  8.2      3628  ... 46         46         46         36        36        \n",
       "3  1.0      2421  ... 47         47         47         37        37        \n",
       "4  0.8       637  ... 25         36         28         14        14        \n",
       "5  0.8      1701  ... 20         17          6         28        28        \n",
       "6 11.5      1125  ... 21         28         36         15        15        \n",
       "  LAG3%_rank log10shann_rank gliph_n_rank GLIPH_PC1_rank GLIPH_PC2_rank\n",
       "1 35         45              45.0         43             43            \n",
       "2 36         46              46.0         44             44            \n",
       "3 37         47              47.0         45             45            \n",
       "4 13         15              13.0         13             16            \n",
       "5  6         28              25.5         31             25            \n",
       "6  4         21              17.0         30              1            "
      ]
     },
     "metadata": {},
     "output_type": "display_data"
    }
   ],
   "source": [
    "head(df_x01)"
   ]
  },
  {
   "cell_type": "code",
   "execution_count": 354,
   "metadata": {
    "vscode": {
     "languageId": "r"
    }
   },
   "outputs": [],
   "source": [
    "for(i in rownames(feat_lr_mat)){\n",
    "   # message(i)\n",
    "    f <- as.formula(paste0(\"Relapse~`\", i,\"`\"))  #univariate\n",
    "    lrmodel <- glm(f, data=df_x01, family = \"binomial\") \n",
    "    sumlrmodel <- summary(lrmodel)\n",
    "#print(sumlrmodel)\n",
    "    myCI <- exp(confint.default(lrmodel, level = 0.95) )\n",
    "\n",
    "    feat_lr_mat[i,\"coef\"] <- sumlrmodel$coefficients[2,\"Estimate\"]\n",
    "    # exp of estimate is the odds ratio\n",
    "    feat_lr_mat[i,\"exp(coef)\"] <- exp(sumlrmodel$coefficients[2,\"Estimate\"])\n",
    "    feat_lr_mat[i,\"SE\"] <- sumlrmodel$coefficients[2,\"Std. Error\"]\n",
    "    feat_lr_mat[i,\"z\"] <- sumlrmodel$coefficients[2,\"z value\"]\n",
    "    feat_lr_mat[i,\"Pr(>|z|)\"] <- sumlrmodel$coefficients[2,\"Pr(>|z|)\"]\n",
    "    #from myCI\n",
    "    feat_lr_mat[i,\"lower.95\"] <- myCI[2,1]\n",
    "    feat_lr_mat[i,\"upper.95\"] <- myCI[2,2]\n",
    "}"
   ]
  },
  {
   "cell_type": "code",
   "execution_count": 355,
   "metadata": {
    "vscode": {
     "languageId": "r"
    }
   },
   "outputs": [
    {
     "data": {
      "text/html": [
       "<table class=\"dataframe\">\n",
       "<caption>A matrix: 16 x 7 of type dbl</caption>\n",
       "<thead>\n",
       "\t<tr><th></th><th scope=col>coef</th><th scope=col>exp(coef)</th><th scope=col>SE</th><th scope=col>z</th><th scope=col>Pr(&gt;|z|)</th><th scope=col>lower.95</th><th scope=col>upper.95</th></tr>\n",
       "</thead>\n",
       "<tbody>\n",
       "\t<tr><th scope=row>Naïve%</th><td>-0.018150765</td><td>0.9820130</td><td>0.025669401</td><td>-0.7070973</td><td>0.4795060</td><td>0.93382907</td><td>1.032683</td></tr>\n",
       "\t<tr><th scope=row>SCM%</th><td> 0.097083568</td><td>1.1019525</td><td>0.077816600</td><td> 1.2475946</td><td>0.2121796</td><td>0.94607431</td><td>1.283514</td></tr>\n",
       "\t<tr><th scope=row>CM%</th><td>-0.046146609</td><td>0.9549020</td><td>0.064838501</td><td>-0.7117162</td><td>0.4766406</td><td>0.84094608</td><td>1.084300</td></tr>\n",
       "\t<tr><th scope=row>EM%</th><td>-0.039966468</td><td>0.9608217</td><td>0.087745374</td><td>-0.4554823</td><td>0.6487623</td><td>0.80900981</td><td>1.141121</td></tr>\n",
       "\t<tr><th scope=row>TE%</th><td> 0.012225613</td><td>1.0123007</td><td>0.018064773</td><td> 0.6767654</td><td>0.4985548</td><td>0.97708592</td><td>1.048785</td></tr>\n",
       "\t<tr><th scope=row>PD1%</th><td>-0.017915906</td><td>0.9822436</td><td>0.058918793</td><td>-0.3040780</td><td>0.7610685</td><td>0.87511969</td><td>1.102481</td></tr>\n",
       "\t<tr><th scope=row>TIM3%</th><td>-0.017915906</td><td>0.9822436</td><td>0.058918793</td><td>-0.3040780</td><td>0.7610685</td><td>0.87511969</td><td>1.102481</td></tr>\n",
       "\t<tr><th scope=row>LAG3%</th><td>-0.163453654</td><td>0.8492059</td><td>0.120687962</td><td>-1.3543493</td><td>0.1756250</td><td>0.67032158</td><td>1.075828</td></tr>\n",
       "\t<tr><th scope=row>log10shann</th><td> 0.242497502</td><td>1.2744281</td><td>0.671990909</td><td> 0.3608643</td><td>0.7182009</td><td>0.34144097</td><td>4.756801</td></tr>\n",
       "\t<tr><th scope=row>V_PC1</th><td> 0.119060149</td><td>1.1264377</td><td>0.136661454</td><td> 0.8712050</td><td>0.3836422</td><td>0.86174887</td><td>1.472426</td></tr>\n",
       "\t<tr><th scope=row>V_PC2</th><td> 0.081852707</td><td>1.0852959</td><td>0.336157246</td><td> 0.2434953</td><td>0.8076217</td><td>0.56157868</td><td>2.097422</td></tr>\n",
       "\t<tr><th scope=row>J_PC1</th><td> 0.217186099</td><td>1.2425753</td><td>0.239400410</td><td> 0.9072085</td><td>0.3642965</td><td>0.77722136</td><td>1.986556</td></tr>\n",
       "\t<tr><th scope=row>J_PC2</th><td> 0.284701027</td><td>1.3293645</td><td>0.679418065</td><td> 0.4190366</td><td>0.6751894</td><td>0.35101234</td><td>5.034609</td></tr>\n",
       "\t<tr><th scope=row>gliph_n</th><td>-0.004378708</td><td>0.9956309</td><td>0.004492099</td><td>-0.9747576</td><td>0.3296805</td><td>0.98690345</td><td>1.004435</td></tr>\n",
       "\t<tr><th scope=row>GLIPH_PC1</th><td>-0.981076323</td><td>0.3749074</td><td>0.915744640</td><td>-1.0713427</td><td>0.2840154</td><td>0.06229321</td><td>2.256354</td></tr>\n",
       "\t<tr><th scope=row>GLIPH_PC2</th><td>-0.772070625</td><td>0.4620553</td><td>0.848789322</td><td>-0.9096140</td><td>0.3630261</td><td>0.08753933</td><td>2.438848</td></tr>\n",
       "</tbody>\n",
       "</table>\n"
      ],
      "text/latex": [
       "A matrix: 16 x 7 of type dbl\n",
       "\\begin{tabular}{r|lllllll}\n",
       "  & coef & exp(coef) & SE & z & Pr(>\\textbar{}z\\textbar{}) & lower.95 & upper.95\\\\\n",
       "\\hline\n",
       "\tNaïve\\% & -0.018150765 & 0.9820130 & 0.025669401 & -0.7070973 & 0.4795060 & 0.93382907 & 1.032683\\\\\n",
       "\tSCM\\% &  0.097083568 & 1.1019525 & 0.077816600 &  1.2475946 & 0.2121796 & 0.94607431 & 1.283514\\\\\n",
       "\tCM\\% & -0.046146609 & 0.9549020 & 0.064838501 & -0.7117162 & 0.4766406 & 0.84094608 & 1.084300\\\\\n",
       "\tEM\\% & -0.039966468 & 0.9608217 & 0.087745374 & -0.4554823 & 0.6487623 & 0.80900981 & 1.141121\\\\\n",
       "\tTE\\% &  0.012225613 & 1.0123007 & 0.018064773 &  0.6767654 & 0.4985548 & 0.97708592 & 1.048785\\\\\n",
       "\tPD1\\% & -0.017915906 & 0.9822436 & 0.058918793 & -0.3040780 & 0.7610685 & 0.87511969 & 1.102481\\\\\n",
       "\tTIM3\\% & -0.017915906 & 0.9822436 & 0.058918793 & -0.3040780 & 0.7610685 & 0.87511969 & 1.102481\\\\\n",
       "\tLAG3\\% & -0.163453654 & 0.8492059 & 0.120687962 & -1.3543493 & 0.1756250 & 0.67032158 & 1.075828\\\\\n",
       "\tlog10shann &  0.242497502 & 1.2744281 & 0.671990909 &  0.3608643 & 0.7182009 & 0.34144097 & 4.756801\\\\\n",
       "\tV\\_PC1 &  0.119060149 & 1.1264377 & 0.136661454 &  0.8712050 & 0.3836422 & 0.86174887 & 1.472426\\\\\n",
       "\tV\\_PC2 &  0.081852707 & 1.0852959 & 0.336157246 &  0.2434953 & 0.8076217 & 0.56157868 & 2.097422\\\\\n",
       "\tJ\\_PC1 &  0.217186099 & 1.2425753 & 0.239400410 &  0.9072085 & 0.3642965 & 0.77722136 & 1.986556\\\\\n",
       "\tJ\\_PC2 &  0.284701027 & 1.3293645 & 0.679418065 &  0.4190366 & 0.6751894 & 0.35101234 & 5.034609\\\\\n",
       "\tgliph\\_n & -0.004378708 & 0.9956309 & 0.004492099 & -0.9747576 & 0.3296805 & 0.98690345 & 1.004435\\\\\n",
       "\tGLIPH\\_PC1 & -0.981076323 & 0.3749074 & 0.915744640 & -1.0713427 & 0.2840154 & 0.06229321 & 2.256354\\\\\n",
       "\tGLIPH\\_PC2 & -0.772070625 & 0.4620553 & 0.848789322 & -0.9096140 & 0.3630261 & 0.08753933 & 2.438848\\\\\n",
       "\\end{tabular}\n"
      ],
      "text/markdown": [
       "\n",
       "A matrix: 16 x 7 of type dbl\n",
       "\n",
       "| <!--/--> | coef | exp(coef) | SE | z | Pr(&gt;|z|) | lower.95 | upper.95 |\n",
       "|---|---|---|---|---|---|---|---|\n",
       "| Naïve% | -0.018150765 | 0.9820130 | 0.025669401 | -0.7070973 | 0.4795060 | 0.93382907 | 1.032683 |\n",
       "| SCM% |  0.097083568 | 1.1019525 | 0.077816600 |  1.2475946 | 0.2121796 | 0.94607431 | 1.283514 |\n",
       "| CM% | -0.046146609 | 0.9549020 | 0.064838501 | -0.7117162 | 0.4766406 | 0.84094608 | 1.084300 |\n",
       "| EM% | -0.039966468 | 0.9608217 | 0.087745374 | -0.4554823 | 0.6487623 | 0.80900981 | 1.141121 |\n",
       "| TE% |  0.012225613 | 1.0123007 | 0.018064773 |  0.6767654 | 0.4985548 | 0.97708592 | 1.048785 |\n",
       "| PD1% | -0.017915906 | 0.9822436 | 0.058918793 | -0.3040780 | 0.7610685 | 0.87511969 | 1.102481 |\n",
       "| TIM3% | -0.017915906 | 0.9822436 | 0.058918793 | -0.3040780 | 0.7610685 | 0.87511969 | 1.102481 |\n",
       "| LAG3% | -0.163453654 | 0.8492059 | 0.120687962 | -1.3543493 | 0.1756250 | 0.67032158 | 1.075828 |\n",
       "| log10shann |  0.242497502 | 1.2744281 | 0.671990909 |  0.3608643 | 0.7182009 | 0.34144097 | 4.756801 |\n",
       "| V_PC1 |  0.119060149 | 1.1264377 | 0.136661454 |  0.8712050 | 0.3836422 | 0.86174887 | 1.472426 |\n",
       "| V_PC2 |  0.081852707 | 1.0852959 | 0.336157246 |  0.2434953 | 0.8076217 | 0.56157868 | 2.097422 |\n",
       "| J_PC1 |  0.217186099 | 1.2425753 | 0.239400410 |  0.9072085 | 0.3642965 | 0.77722136 | 1.986556 |\n",
       "| J_PC2 |  0.284701027 | 1.3293645 | 0.679418065 |  0.4190366 | 0.6751894 | 0.35101234 | 5.034609 |\n",
       "| gliph_n | -0.004378708 | 0.9956309 | 0.004492099 | -0.9747576 | 0.3296805 | 0.98690345 | 1.004435 |\n",
       "| GLIPH_PC1 | -0.981076323 | 0.3749074 | 0.915744640 | -1.0713427 | 0.2840154 | 0.06229321 | 2.256354 |\n",
       "| GLIPH_PC2 | -0.772070625 | 0.4620553 | 0.848789322 | -0.9096140 | 0.3630261 | 0.08753933 | 2.438848 |\n",
       "\n"
      ],
      "text/plain": [
       "           coef         exp(coef) SE          z          Pr(>|z|)  lower.95  \n",
       "Naïve%     -0.018150765 0.9820130 0.025669401 -0.7070973 0.4795060 0.93382907\n",
       "SCM%        0.097083568 1.1019525 0.077816600  1.2475946 0.2121796 0.94607431\n",
       "CM%        -0.046146609 0.9549020 0.064838501 -0.7117162 0.4766406 0.84094608\n",
       "EM%        -0.039966468 0.9608217 0.087745374 -0.4554823 0.6487623 0.80900981\n",
       "TE%         0.012225613 1.0123007 0.018064773  0.6767654 0.4985548 0.97708592\n",
       "PD1%       -0.017915906 0.9822436 0.058918793 -0.3040780 0.7610685 0.87511969\n",
       "TIM3%      -0.017915906 0.9822436 0.058918793 -0.3040780 0.7610685 0.87511969\n",
       "LAG3%      -0.163453654 0.8492059 0.120687962 -1.3543493 0.1756250 0.67032158\n",
       "log10shann  0.242497502 1.2744281 0.671990909  0.3608643 0.7182009 0.34144097\n",
       "V_PC1       0.119060149 1.1264377 0.136661454  0.8712050 0.3836422 0.86174887\n",
       "V_PC2       0.081852707 1.0852959 0.336157246  0.2434953 0.8076217 0.56157868\n",
       "J_PC1       0.217186099 1.2425753 0.239400410  0.9072085 0.3642965 0.77722136\n",
       "J_PC2       0.284701027 1.3293645 0.679418065  0.4190366 0.6751894 0.35101234\n",
       "gliph_n    -0.004378708 0.9956309 0.004492099 -0.9747576 0.3296805 0.98690345\n",
       "GLIPH_PC1  -0.981076323 0.3749074 0.915744640 -1.0713427 0.2840154 0.06229321\n",
       "GLIPH_PC2  -0.772070625 0.4620553 0.848789322 -0.9096140 0.3630261 0.08753933\n",
       "           upper.95\n",
       "Naïve%     1.032683\n",
       "SCM%       1.283514\n",
       "CM%        1.084300\n",
       "EM%        1.141121\n",
       "TE%        1.048785\n",
       "PD1%       1.102481\n",
       "TIM3%      1.102481\n",
       "LAG3%      1.075828\n",
       "log10shann 4.756801\n",
       "V_PC1      1.472426\n",
       "V_PC2      2.097422\n",
       "J_PC1      1.986556\n",
       "J_PC2      5.034609\n",
       "gliph_n    1.004435\n",
       "GLIPH_PC1  2.256354\n",
       "GLIPH_PC2  2.438848"
      ]
     },
     "metadata": {},
     "output_type": "display_data"
    }
   ],
   "source": [
    "feat_lr_mat"
   ]
  },
  {
   "cell_type": "code",
   "execution_count": 356,
   "metadata": {
    "vscode": {
     "languageId": "r"
    }
   },
   "outputs": [],
   "source": [
    "fdr_df <- as.matrix(p.adjust(feat_lr_mat[,5], method = \"fdr\"))\n",
    "colnames(fdr_df)[1] <- \"fdr\"\n",
    "feat_lr_mat <- cbind(feat_lr_mat, fdr_df)"
   ]
  },
  {
   "cell_type": "code",
   "execution_count": 357,
   "metadata": {
    "vscode": {
     "languageId": "r"
    }
   },
   "outputs": [],
   "source": [
    "feat_lr_mat <- as.data.frame(feat_lr_mat)"
   ]
  },
  {
   "cell_type": "code",
   "execution_count": 358,
   "metadata": {
    "vscode": {
     "languageId": "r"
    }
   },
   "outputs": [],
   "source": [
    "feat_lr_mat$Feature <- rownames(feat_lr_mat)"
   ]
  },
  {
   "cell_type": "code",
   "execution_count": 359,
   "metadata": {
    "vscode": {
     "languageId": "r"
    }
   },
   "outputs": [],
   "source": [
    "feat_lr_mat$mean <- feat_lr_mat$`exp(coef)`\n",
    "feat_lr_mat$lower <- feat_lr_mat$`lower.95`\n",
    "feat_lr_mat$upper <- feat_lr_mat$`upper.95`"
   ]
  },
  {
   "cell_type": "code",
   "execution_count": 360,
   "metadata": {
    "vscode": {
     "languageId": "r"
    }
   },
   "outputs": [],
   "source": [
    "feat_lr_mat$OR <- as.character(round(feat_lr_mat$`exp(coef)`, 2) )\n",
    "feat_lr_mat$p <- as.character(round(feat_lr_mat$`Pr(>|z|)`, 2) )\n",
    "feat_lr_mat$FDR <- as.character(round(feat_lr_mat$fdr, 2) )"
   ]
  },
  {
   "cell_type": "code",
   "execution_count": 361,
   "metadata": {
    "vscode": {
     "languageId": "r"
    }
   },
   "outputs": [],
   "source": [
    "p3 <- feat_lr_mat |>\n",
    "  forestplot(\n",
    "    labeltext = c(Feature, OR, p, FDR),\n",
    "    clip = c(0, 2), \n",
    "    boxsize = 0.2,\n",
    "    vertices = TRUE,\n",
    "    xlog = FALSE, zero = 1\n",
    "  ) |>\n",
    "  fp_set_style(\n",
    "    box = \"royalblue\",\n",
    "    line = \"darkblue\",\n",
    "    summary = \"royalblue\"\n",
    "  ) |>\n",
    "  fp_add_header(\n",
    "    Feature = c(\"\", \"Feature\"),\n",
    "    OR = c(\"\", \"OR\"),\n",
    "    p = c(\"\", \"p value\"),\n",
    "    FDR = c(\"\", \"FDR\")\n",
    "  )\n"
   ]
  },
  {
   "cell_type": "code",
   "execution_count": 362,
   "metadata": {
    "vscode": {
     "languageId": "r"
    }
   },
   "outputs": [
    {
     "data": {
      "image/png": "[encoded data removed]",
      "text/plain": [
       "plot without title"
      ]
     },
     "metadata": {
      "image/png": {
       "height": 420,
       "width": 420
      }
     },
     "output_type": "display_data"
    }
   ],
   "source": [
    "p3"
   ]
  },
  {
   "cell_type": "code",
   "execution_count": 363,
   "metadata": {
    "vscode": {
     "languageId": "r"
    }
   },
   "outputs": [
    {
     "data": {
      "text/html": [
       "<strong>pdf:</strong> 2"
      ],
      "text/latex": [
       "\\textbf{pdf:} 2"
      ],
      "text/markdown": [
       "**pdf:** 2"
      ],
      "text/plain": [
       "pdf \n",
       "  2 "
      ]
     },
     "metadata": {},
     "output_type": "display_data"
    }
   ],
   "source": [
    "pdf(paste0(plotpath, \"forestplot_X01.pdf\"), width=6, height=8)\n",
    "p3\n",
    "dev.off()"
   ]
  },
  {
   "cell_type": "code",
   "execution_count": null,
   "metadata": {
    "vscode": {
     "languageId": "r"
    }
   },
   "outputs": [],
   "source": []
  },
  {
   "cell_type": "code",
   "execution_count": null,
   "metadata": {
    "vscode": {
     "languageId": "r"
    }
   },
   "outputs": [],
   "source": []
  },
  {
   "cell_type": "markdown",
   "metadata": {
    "vscode": {
     "languageId": "r"
    }
   },
   "source": [
    " # spiderplots - AUC"
   ]
  },
  {
   "cell_type": "code",
   "execution_count": null,
   "metadata": {
    "vscode": {
     "languageId": "r"
    }
   },
   "outputs": [],
   "source": [
    "meta_div$Relapse[ is.na(meta_div$Relapse) ] <- 0\n",
    "meta_div$Relapse <- as.factor(meta_div$Relapse)"
   ]
  },
  {
   "cell_type": "code",
   "execution_count": null,
   "metadata": {
    "vscode": {
     "languageId": "r"
    }
   },
   "outputs": [],
   "source": [
    "cfdna <- meta_div[ which(meta_div$sampletype == \"cfDNA\"),]"
   ]
  },
  {
   "cell_type": "code",
   "execution_count": null,
   "metadata": {
    "vscode": {
     "languageId": "r"
    }
   },
   "outputs": [],
   "source": [
    "pbmc1 <- meta_div[ meta_div$sampletype == \"PBMC\" & !is.na(meta_div$CD3),]\n",
    "pbmc1 <- pbmc1[ pbmc1$CD3 > 0,]"
   ]
  },
  {
   "cell_type": "code",
   "execution_count": null,
   "metadata": {
    "vscode": {
     "languageId": "r"
    }
   },
   "outputs": [],
   "source": [
    "pbmc1$cfTCR_shann <- cfdna[ match(pbmc1$sample_id, cfdna$sample_id), \"log10shann\"]"
   ]
  },
  {
   "cell_type": "code",
   "execution_count": null,
   "metadata": {
    "vscode": {
     "languageId": "r"
    }
   },
   "outputs": [],
   "source": [
    "pbmc1$cyclenum <- as.numeric(gsub(\"X0\", \"\", pbmc1$cycle) )"
   ]
  },
  {
   "cell_type": "code",
   "execution_count": null,
   "metadata": {
    "vscode": {
     "languageId": "r"
    }
   },
   "outputs": [],
   "source": [
    "mytab <- table(pbmc1$Patient, pbmc1$cycle)\n",
    "mytab <- mytab[rowSums(mytab == 1) > 1, ]\n",
    "# baseline_patients <- rownames(mytab)[mytab[, 1] == 1]\n",
    "df1 <- pbmc1[pbmc1$Patient %in% rownames(mytab), ]"
   ]
  },
  {
   "cell_type": "code",
   "execution_count": null,
   "metadata": {
    "vscode": {
     "languageId": "r"
    }
   },
   "outputs": [],
   "source": [
    "dim(df1)"
   ]
  },
  {
   "cell_type": "code",
   "execution_count": null,
   "metadata": {
    "vscode": {
     "languageId": "r"
    }
   },
   "outputs": [],
   "source": [
    "df1$cfTCR_shann <- cfdna[ match(df1$sample_id, cfdna$sample_id), \"log10shann\"]"
   ]
  },
  {
   "cell_type": "code",
   "execution_count": null,
   "metadata": {
    "vscode": {
     "languageId": "r"
    }
   },
   "outputs": [],
   "source": [
    "# result <- df1 %>%\n",
    "#     group_by(Patient) %>%\n",
    "#     mutate(DifferenceN = `Naïve%` - `Naïve%`[cycle == \"X01\"]) %>%\n",
    "#     mutate(DifferenceCM = `CM%` - `CM%`[cycle == \"X01\"]) %>%\n",
    "#     mutate(DifferenceSCM = `SCM%` - `SCM%`[cycle == \"X01\"]) %>%\n",
    "#     mutate(DifferenceEM = `EM%` - `EM%`[cycle == \"X01\"]) %>%\n",
    "#     mutate(DifferenceTE = `TE%` - `TE%`[cycle == \"X01\"]) %>%\n",
    "#     mutate(DifferenceLAG = `LAG3%` - `LAG3%`[cycle == \"X01\"]) %>%\n",
    "#     mutate(DifferenceTIM = `TIM3%` - `TIM3%`[cycle == \"X01\"]) %>%\n",
    "#     mutate(DifferencePD1 = `PD1%` - `PD1%`[cycle == \"X01\"]) %>%\n",
    "#     mutate(DifferenceTCR = log10shann - log10shann[cycle == \"X01\"])  %>%\n",
    "#     mutate(DifferencecfTCR = cfTCR_shann - cfTCR_shann[cycle == \"X01\"])\n"
   ]
  },
  {
   "cell_type": "code",
   "execution_count": null,
   "metadata": {
    "vscode": {
     "languageId": "r"
    }
   },
   "outputs": [],
   "source": [
    "library(pracma)"
   ]
  },
  {
   "cell_type": "code",
   "execution_count": null,
   "metadata": {
    "vscode": {
     "languageId": "r"
    }
   },
   "outputs": [],
   "source": [
    "result2 <- df1 %>%\n",
    "    group_by(Patient) %>%\n",
    "    mutate(AUC_N = trapz(cyclenum, `Naïve%`) / n() ) %>%\n",
    "    mutate(AUC_CM = trapz(cyclenum, `CM%`) / n() ) %>%\n",
    "    mutate(AUC_SCM = trapz(cyclenum, `SCM%`) / n()  ) %>%\n",
    "    mutate(AUC_EM = trapz(cyclenum, `EM%`) / n() ) %>%\n",
    "    mutate(AUC_TE = trapz(cyclenum, `TE%`) / n() ) %>%\n",
    "    mutate(AUC_LAG = trapz(cyclenum, `LAG3%`) / n() ) %>%\n",
    "    mutate(AUC_TIM = trapz(cyclenum, `TIM3%`) / n() ) %>%\n",
    "    mutate(AUC_PD1 = trapz(cyclenum, `PD1%`) / n() ) %>%\n",
    "    mutate(AUC_TCR = trapz(cyclenum, `log10shann`) / n() ) %>%\n",
    "     mutate(AUC_cfTCR = trapz(cyclenum, cfTCR_shann) / n() ) %>%\n",
    "    ungroup()"
   ]
  },
  {
   "cell_type": "code",
   "execution_count": null,
   "metadata": {
    "vscode": {
     "languageId": "r"
    }
   },
   "outputs": [],
   "source": [
    "mypts <- result2[ !duplicated(result2$Patient), ]\n",
    "# mypts <- mypts[ !is.na(mypts$AUC_TCR), ]"
   ]
  },
  {
   "cell_type": "code",
   "execution_count": null,
   "metadata": {
    "vscode": {
     "languageId": "r"
    }
   },
   "outputs": [],
   "source": [
    "# pca <- readr::read_rds(paste0(datapath, \"/HLA/INT_HLA_PCA_postqc.rds\"))"
   ]
  },
  {
   "cell_type": "code",
   "execution_count": null,
   "metadata": {
    "vscode": {
     "languageId": "r"
    }
   },
   "outputs": [],
   "source": [
    "# rownames(pca) <- paste0(\"CHP_\", \"\", rownames(pca))\n",
    "# rownames(pca) <- gsub(\"-.*\", \"\", rownames(pca))"
   ]
  },
  {
   "cell_type": "code",
   "execution_count": null,
   "metadata": {
    "vscode": {
     "languageId": "r"
    }
   },
   "outputs": [],
   "source": [
    "# head(pca)"
   ]
  },
  {
   "cell_type": "code",
   "execution_count": null,
   "metadata": {
    "vscode": {
     "languageId": "r"
    }
   },
   "outputs": [],
   "source": [
    "# mypts$HLA_PC1 <- pca[ match(mypts$Patient, rownames(pca)), \"PC1\"]\n",
    "# mypts$HLA_PC2 <- pca[ match(mypts$Patient, rownames(pca)), \"PC2\"]\n",
    "# mypts$HLA_PC3 <- pca[ match(mypts$Patient, rownames(pca)), \"PC3\"]"
   ]
  },
  {
   "cell_type": "code",
   "execution_count": null,
   "metadata": {
    "vscode": {
     "languageId": "r"
    }
   },
   "outputs": [],
   "source": [
    "head(mypts)"
   ]
  },
  {
   "cell_type": "code",
   "execution_count": null,
   "metadata": {
    "vscode": {
     "languageId": "r"
    }
   },
   "outputs": [],
   "source": [
    "# myfit0 <- lm(AUC_TCR ~  HLA_PC2 + HLA_PC3 + cancergroup + Age, data= mypts)\n",
    "# myfit1 <- lm(AUC_TCR ~  HLA_PC1 + HLA_PC2 + HLA_PC3 + cancergroup + Age, data= mypts)\n",
    "\n",
    "# anova(myfit0, myfit1)"
   ]
  },
  {
   "cell_type": "code",
   "execution_count": null,
   "metadata": {
    "vscode": {
     "languageId": "r"
    }
   },
   "outputs": [],
   "source": [
    "# summary.lm(myfit1)"
   ]
  },
  {
   "cell_type": "code",
   "execution_count": null,
   "metadata": {
    "vscode": {
     "languageId": "r"
    }
   },
   "outputs": [],
   "source": [
    "# result_noX01 <- result[ result$cycle != \"X01\", ]"
   ]
  },
  {
   "cell_type": "code",
   "execution_count": null,
   "metadata": {
    "vscode": {
     "languageId": "r"
    }
   },
   "outputs": [],
   "source": [
    "# pbmc <- pbmc[ pbmc$CD3 > 0,]"
   ]
  },
  {
   "cell_type": "code",
   "execution_count": null,
   "metadata": {
    "vscode": {
     "languageId": "r"
    }
   },
   "outputs": [],
   "source": [
    "tmp <- mypts[!is.na(mypts$AUC_cfTCR),]"
   ]
  },
  {
   "cell_type": "code",
   "execution_count": null,
   "metadata": {
    "vscode": {
     "languageId": "r"
    }
   },
   "outputs": [],
   "source": [
    "mymat <- as.matrix(tmp[ , c( \"AUC_N\", \"AUC_SCM\", \"AUC_CM\", \"AUC_EM\", \"AUC_TE\", \"AUC_LAG\", \"AUC_PD1\", \"AUC_cfTCR\")])"
   ]
  },
  {
   "cell_type": "code",
   "execution_count": null,
   "metadata": {
    "vscode": {
     "languageId": "r"
    }
   },
   "outputs": [],
   "source": [
    "rownames(mymat) <- tmp$Patient"
   ]
  },
  {
   "cell_type": "code",
   "execution_count": null,
   "metadata": {
    "vscode": {
     "languageId": "r"
    }
   },
   "outputs": [],
   "source": [
    "makematrix_4hm <- function(df, var, name ){\n",
    "    mymat <- df[[var]]\n",
    "names(mymat) <- df[[\"Patient\"]]\n",
    "mymat <- t(as.matrix(mymat))\n",
    "rownames(mymat) <- name\n",
    "    \n",
    "    return(mymat)\n",
    "}"
   ]
  },
  {
   "cell_type": "code",
   "execution_count": null,
   "metadata": {
    "vscode": {
     "languageId": "r"
    }
   },
   "outputs": [],
   "source": [
    "mycohort <- makematrix_4hm(tmp, \"Disease_type\", \"disease\")\n",
    "mysample <- makematrix_4hm(tmp, \"cancergroup\", \"cancergroup\")\n",
    "mygroup <- makematrix_4hm(tmp, \"Relapse\", \"Relapse\")"
   ]
  },
  {
   "cell_type": "code",
   "execution_count": null,
   "metadata": {
    "vscode": {
     "languageId": "r"
    }
   },
   "outputs": [],
   "source": [
    "myatc <- makematrix_4hm(tmp, \"ATC\", \"ATC\")"
   ]
  },
  {
   "cell_type": "code",
   "execution_count": null,
   "metadata": {
    "vscode": {
     "languageId": "r"
    }
   },
   "outputs": [],
   "source": [
    "myage <- makematrix_4hm(tmp, \"Age\", \"Age\")"
   ]
  },
  {
   "cell_type": "code",
   "execution_count": null,
   "metadata": {
    "vscode": {
     "languageId": "r"
    }
   },
   "outputs": [],
   "source": [
    "age_col <- c(\"blue\", \"red\")\n",
    "atc_col <- c(\"blue\", \"red\")"
   ]
  },
  {
   "cell_type": "code",
   "execution_count": null,
   "metadata": {
    "vscode": {
     "languageId": "r"
    }
   },
   "outputs": [],
   "source": [
    "group_col <- c(\"blue\", \"red\", \"green\")\n",
    "names(group_col) <- names(table(tmp$Relapse))"
   ]
  },
  {
   "cell_type": "code",
   "execution_count": null,
   "metadata": {
    "vscode": {
     "languageId": "r"
    }
   },
   "outputs": [],
   "source": [
    "# cohort_col <- c(\"blue\", \"red\", \"green\", \"orange\", \"purple\", \"yellow\", \"black\", \"grey\", \"pink\", \n",
    "# \"brown\", \"cyan\", \"magenta\", \"navy\", \"maroon\", \"gray\",\"gold\", \"darkgreen\") \n",
    "# names(cohort_col) <- names(table(allpbmcs$Disease_type))"
   ]
  },
  {
   "cell_type": "code",
   "execution_count": null,
   "metadata": {
    "vscode": {
     "languageId": "r"
    }
   },
   "outputs": [],
   "source": [
    "type_col <- c(\"blue\", \"red\", \"green\", \"orange\", \"purple\")\n",
    "names(type_col) <- names(table(tmp$cancergroup))"
   ]
  },
  {
   "cell_type": "code",
   "execution_count": null,
   "metadata": {
    "vscode": {
     "languageId": "r"
    }
   },
   "outputs": [],
   "source": [
    "library(ComplexHeatmap)"
   ]
  },
  {
   "cell_type": "code",
   "execution_count": null,
   "metadata": {
    "vscode": {
     "languageId": "r"
    }
   },
   "outputs": [],
   "source": [
    "age_hm <- Heatmap(myage, col = age_col,  height = unit(1,\"cm\"))\n",
    "atc_hm <- Heatmap(myatc, col = atc_col,  height = unit(1,\"cm\"))"
   ]
  },
  {
   "cell_type": "code",
   "execution_count": null,
   "metadata": {
    "vscode": {
     "languageId": "r"
    }
   },
   "outputs": [],
   "source": [
    "cohort_hm <- Heatmap(mycohort, col = cohort_col, height = unit(1,\"cm\"))\n",
    "sample_hm <- Heatmap(mysample, col = type_col, , height = unit(1,\"cm\"))\n",
    "group_hm <- Heatmap(mygroup, col = group_col, , height = unit(1,\"cm\"))"
   ]
  },
  {
   "cell_type": "code",
   "execution_count": null,
   "metadata": {
    "vscode": {
     "languageId": "r"
    }
   },
   "outputs": [],
   "source": [
    "hm <- Heatmap(t(scale(mymat)))"
   ]
  },
  {
   "cell_type": "code",
   "execution_count": null,
   "metadata": {
    "vscode": {
     "languageId": "r"
    }
   },
   "outputs": [],
   "source": [
    "hm %v%  sample_hm %v% group_hm %v% age_hm %v%  atc_hm"
   ]
  },
  {
   "cell_type": "code",
   "execution_count": null,
   "metadata": {
    "vscode": {
     "languageId": "r"
    }
   },
   "outputs": [],
   "source": [
    "fit1 <- lmerTest::lmer( Relapse ~ AUC_N + AUC_TE + AUC_LAG + AUC_TCR + (1 | Patient), data = mypts)\n"
   ]
  },
  {
   "cell_type": "code",
   "execution_count": null,
   "metadata": {
    "vscode": {
     "languageId": "r"
    }
   },
   "outputs": [],
   "source": [
    "# logistic regression\n",
    "mypts$Relapse <- as.factor(mypts$Relapse)\n",
    "mypts$Relapse <- relevel(mypts$Relapse, ref = \"0\")"
   ]
  },
  {
   "cell_type": "code",
   "execution_count": null,
   "metadata": {
    "vscode": {
     "languageId": "r"
    }
   },
   "outputs": [],
   "source": [
    "fit1 <- lmerTest::lmer( Relapse ~ AUC_N + AUC_TE + AUC_LAG + AUC_TCR + (1 | Patient), data = mypts)\n",
    "\n",
    "fit2 <- lme4::glmer( Relapse ~ AUC_N + AUC_TE + AUC_LAG + (1 | Patient), data = mypts, family = binomial)"
   ]
  },
  {
   "cell_type": "code",
   "execution_count": null,
   "metadata": {
    "vscode": {
     "languageId": "r"
    }
   },
   "outputs": [],
   "source": [
    "lmer"
   ]
  },
  {
   "cell_type": "code",
   "execution_count": null,
   "metadata": {
    "vscode": {
     "languageId": "r"
    }
   },
   "outputs": [],
   "source": [
    "anova(fit1)"
   ]
  },
  {
   "cell_type": "code",
   "execution_count": null,
   "metadata": {
    "vscode": {
     "languageId": "r"
    }
   },
   "outputs": [],
   "source": [
    "anova(fit1, fit2)"
   ]
  },
  {
   "cell_type": "code",
   "execution_count": null,
   "metadata": {
    "vscode": {
     "languageId": "r"
    }
   },
   "outputs": [],
   "source": []
  },
  {
   "cell_type": "markdown",
   "metadata": {},
   "source": [
    "# Perturbation scores"
   ]
  },
  {
   "cell_type": "code",
   "execution_count": null,
   "metadata": {
    "vscode": {
     "languageId": "r"
    }
   },
   "outputs": [],
   "source": [
    "cfdna <- meta_div[ which(meta_div$sampletype == \"cfDNA\"),]"
   ]
  },
  {
   "cell_type": "code",
   "execution_count": null,
   "metadata": {
    "vscode": {
     "languageId": "r"
    }
   },
   "outputs": [],
   "source": [
    "pbmc1 <- meta_div[ meta_div$sampletype == \"PBMC\" & !is.na(meta_div$CD3),]\n",
    "pbmc1 <- pbmc1[ pbmc1$CD3 > 0,]"
   ]
  },
  {
   "cell_type": "code",
   "execution_count": null,
   "metadata": {
    "vscode": {
     "languageId": "r"
    }
   },
   "outputs": [],
   "source": [
    "pbmc1$cfTCR_shann <- cfdna[ match(pbmc1$sample_id, cfdna$sample_id), \"log10shann\"]"
   ]
  },
  {
   "cell_type": "code",
   "execution_count": null,
   "metadata": {
    "vscode": {
     "languageId": "r"
    }
   },
   "outputs": [],
   "source": [
    "pbmc1$cyclenum <- as.numeric(gsub(\"X0\", \"\", pbmc1$cycle) )"
   ]
  },
  {
   "cell_type": "code",
   "execution_count": null,
   "metadata": {
    "vscode": {
     "languageId": "r"
    }
   },
   "outputs": [],
   "source": [
    "pbmc1$scaled_N <- scale(pbmc1$`Naïve%`)\n",
    "pbmc1$scaled_CM <- scale(pbmc1$`CM%`)\n",
    "pbmc1$scaled_SCM <- scale(pbmc1$`SCM%`)\n",
    "pbmc1$scaled_EM <- scale(pbmc1$`EM%`)\n",
    "pbmc1$scaled_TE <- scale(pbmc1$`TE%`)\n",
    "pbmc1$scaled_LAG <- scale(pbmc1$`LAG3%`)\n",
    "pbmc1$scaled_TIM <- scale(pbmc1$`TIM3%`)\n",
    "pbmc1$scaled_PD1 <- scale(pbmc1$`PD1%`)\n",
    "pbmc1$scaled_TCR <- scale(pbmc1$log10shann)\n",
    "pbmc1$scaled_cfTCR <- scale(pbmc1$cfTCR_shann)"
   ]
  },
  {
   "cell_type": "code",
   "execution_count": null,
   "metadata": {
    "vscode": {
     "languageId": "r"
    }
   },
   "outputs": [],
   "source": [
    "mytab <- table(pbmc1$Patient, pbmc1$cycle)\n",
    "mytab <- mytab[rowSums(mytab == 1) > 1, ]\n",
    "# baseline_patients <- rownames(mytab)[mytab[, 1] == 1]\n",
    "df1 <- pbmc1[pbmc1$Patient %in% rownames(mytab), ]"
   ]
  },
  {
   "cell_type": "code",
   "execution_count": null,
   "metadata": {
    "vscode": {
     "languageId": "r"
    }
   },
   "outputs": [],
   "source": [
    "dim(df1)"
   ]
  },
  {
   "cell_type": "code",
   "execution_count": null,
   "metadata": {
    "vscode": {
     "languageId": "r"
    }
   },
   "outputs": [],
   "source": [
    "rownames(df1) <- df1$sample_id"
   ]
  },
  {
   "cell_type": "code",
   "execution_count": null,
   "metadata": {
    "vscode": {
     "languageId": "r"
    }
   },
   "outputs": [],
   "source": [
    "result$Relapse[ is.na(result$Relapse) ] <- 0\n",
    "result$Relapse <- as.factor(result$Relapse)"
   ]
  },
  {
   "cell_type": "code",
   "execution_count": null,
   "metadata": {
    "vscode": {
     "languageId": "r"
    }
   },
   "outputs": [],
   "source": [
    "result2 <- df1 %>%\n",
    "    group_by(Patient) %>%\n",
    "    mutate(AUC_N = trapz(cyclenum, scaled_N) / n() ) %>%\n",
    "    mutate(AUC_CM = trapz(cyclenum, scaled_CM) / n() ) %>%\n",
    "    mutate(AUC_SCM = trapz(cyclenum, scaled_SCM) / n()  ) %>%\n",
    "    mutate(AUC_EM = trapz(cyclenum, scaled_EM) / n() ) %>%\n",
    "    mutate(AUC_TE = trapz(cyclenum, scaled_TE) / n() ) %>%\n",
    "    mutate(AUC_LAG = trapz(cyclenum, scaled_LAG) / n() ) %>%\n",
    "    mutate(AUC_TIM = trapz(cyclenum, scaled_TIM) / n() ) %>%\n",
    "    mutate(AUC_PD1 = trapz(cyclenum, scaled_PD1) / n() ) %>%\n",
    "    mutate(AUC_TCR = trapz(cyclenum, scaled_TCR) / n() ) %>%\n",
    "    mutate(AUC_cfTCR = trapz(cyclenum, scaled_cfTCR) / n() ) %>%\n",
    "    ungroup()"
   ]
  },
  {
   "cell_type": "code",
   "execution_count": null,
   "metadata": {
    "vscode": {
     "languageId": "r"
    }
   },
   "outputs": [],
   "source": [
    "mypts <- result2[ !duplicated(result2$Patient), ]\n",
    "# mypts <- mypts[ !is.na(mypts$AUC_TCR), ]"
   ]
  },
  {
   "cell_type": "code",
   "execution_count": null,
   "metadata": {
    "vscode": {
     "languageId": "r"
    }
   },
   "outputs": [],
   "source": [
    "mypts <- as.data.frame(mypts)"
   ]
  },
  {
   "cell_type": "code",
   "execution_count": null,
   "metadata": {
    "vscode": {
     "languageId": "r"
    }
   },
   "outputs": [],
   "source": [
    "rownames(mypts) <- mypts$sample_id"
   ]
  },
  {
   "cell_type": "code",
   "execution_count": null,
   "metadata": {
    "vscode": {
     "languageId": "r"
    }
   },
   "outputs": [],
   "source": [
    "# result <- as.data.frame(result)\n",
    "# rownames(result) <- result$sample_id"
   ]
  },
  {
   "cell_type": "code",
   "execution_count": null,
   "metadata": {
    "vscode": {
     "languageId": "r"
    }
   },
   "outputs": [],
   "source": [
    "tmp <- as.data.frame(c(mean(mypts$AUC_N), mypts$AUC_N ) )\n",
    "rownames(tmp) <- c(\"mean\", rownames(mypts))\n",
    "mypts$dist_N <- as.matrix(dist(tmp))[-1,1]\n",
    "\n",
    "tmp <- as.data.frame(c(mean(mypts$AUC_CM), mypts$AUC_CM ) )\n",
    "rownames(tmp) <- c(\"mean\", rownames(mypts))\n",
    "mypts$dist_CM <- as.matrix(dist(tmp))[-1,1]\n",
    "\n",
    "tmp <- as.data.frame(c(mean(mypts$AUC_SCM), mypts$AUC_SCM ) )\n",
    "rownames(tmp) <- c(\"mean\", rownames(mypts))\n",
    "mypts$dist_SCM <- as.matrix(dist(tmp))[-1,1]\n",
    "\n",
    "tmp <- as.data.frame(c(mean(mypts$AUC_EM), mypts$AUC_EM ) )\n",
    "rownames(tmp) <- c(\"mean\", rownames(mypts))\n",
    "mypts$dist_EM <- as.matrix(dist(tmp))[-1,1]\n",
    "\n",
    "tmp <- as.data.frame(c(mean(mypts$AUC_TE), mypts$AUC_TE ) )\n",
    "rownames(tmp) <- c(\"mean\", rownames(mypts))\n",
    "mypts$dist_TE <- as.matrix(dist(tmp))[-1,1]\n",
    "\n",
    "tmp <- as.data.frame(c(mean(mypts$AUC_LAG, na.rm = T), mypts$AUC_LAG ) )\n",
    "rownames(tmp) <- c(\"mean\", rownames(mypts))\n",
    "mypts$dist_LAG <- as.matrix(dist(tmp))[-1,1]\n",
    "\n",
    "tmp <- as.data.frame(c(mean(mypts$AUC_TIM, na.rm = T), mypts$AUC_TIM ) )\n",
    "rownames(tmp) <- c(\"mean\", rownames(mypts))\n",
    "mypts$dist_TIM <- as.matrix(dist(tmp))[-1,1]\n",
    "\n",
    "tmp <- as.data.frame(c(mean(mypts$AUC_PD1, na.rm = T), mypts$AUC_PD1 ) )\n",
    "rownames(tmp) <- c(\"mean\", rownames(mypts))\n",
    "mypts$dist_PD1 <- as.matrix(dist(tmp))[-1,1]\n",
    "\n",
    "tmp <- as.data.frame(c(mean(mypts$AUC_TCR, na.rm = T), mypts$AUC_TCR ) )\n",
    "rownames(tmp) <- c(\"mean\", rownames(mypts))\n",
    "mypts$dist_TCR <- as.matrix(dist(tmp))[-1,1]\n",
    "\n",
    "tmp <- as.data.frame(c(mean(mypts$AUC_cfTCR, na.rm = T), mypts$AUC_cfTCR ) )\n",
    "rownames(tmp) <- c(\"mean\", rownames(mypts))\n",
    "mypts$dist_cfTCR <- as.matrix(dist(tmp))[-1,1]"
   ]
  },
  {
   "cell_type": "code",
   "execution_count": null,
   "metadata": {
    "vscode": {
     "languageId": "r"
    }
   },
   "outputs": [],
   "source": [
    "head(mypts)"
   ]
  },
  {
   "cell_type": "code",
   "execution_count": null,
   "metadata": {
    "vscode": {
     "languageId": "r"
    }
   },
   "outputs": [],
   "source": [
    "head(mypts$Relapse)"
   ]
  },
  {
   "cell_type": "code",
   "execution_count": null,
   "metadata": {
    "vscode": {
     "languageId": "r"
    }
   },
   "outputs": [],
   "source": [
    "# logistic regression\n",
    "mypts$Relapse <- as.factor(mypts$Relapse)\n",
    "mypts$Relapse <- relevel(mypts$Relapse, ref = \"0\")\n",
    "\n",
    "rms::lrm( Relapse ~ (dist_N + dist_TE + dist_PD1)^3 + cancergroup, data = mypts)"
   ]
  },
  {
   "cell_type": "code",
   "execution_count": null,
   "metadata": {
    "vscode": {
     "languageId": "r"
    }
   },
   "outputs": [],
   "source": []
  },
  {
   "cell_type": "code",
   "execution_count": null,
   "metadata": {
    "vscode": {
     "languageId": "r"
    }
   },
   "outputs": [],
   "source": [
    "tmp <- mypts#[!is.na(mypts$AUC_cfTCR),]"
   ]
  },
  {
   "cell_type": "code",
   "execution_count": null,
   "metadata": {
    "vscode": {
     "languageId": "r"
    }
   },
   "outputs": [],
   "source": [
    "mymat <- as.matrix(tmp[ , c( \"dist_N\", \"dist_CM\", \"dist_SCM\", \"dist_EM\", \"dist_TE\", \"dist_LAG\", \"dist_TIM\", \"dist_PD1\")])"
   ]
  },
  {
   "cell_type": "code",
   "execution_count": null,
   "metadata": {
    "vscode": {
     "languageId": "r"
    }
   },
   "outputs": [],
   "source": [
    "rownames(mymat) <- tmp$Patient"
   ]
  },
  {
   "cell_type": "code",
   "execution_count": null,
   "metadata": {
    "vscode": {
     "languageId": "r"
    }
   },
   "outputs": [],
   "source": [
    "makematrix_4hm <- function(df, var, name ){\n",
    "    mymat <- df[[var]]\n",
    "names(mymat) <- df[[\"Patient\"]]\n",
    "mymat <- t(as.matrix(mymat))\n",
    "rownames(mymat) <- name\n",
    "    \n",
    "    return(mymat)\n",
    "}"
   ]
  },
  {
   "cell_type": "code",
   "execution_count": null,
   "metadata": {
    "vscode": {
     "languageId": "r"
    }
   },
   "outputs": [],
   "source": [
    "mycohort <- makematrix_4hm(tmp, \"Disease_type\", \"disease\")\n",
    "mysample <- makematrix_4hm(tmp, \"cancergroup\", \"cancergroup\")\n",
    "mygroup <- makematrix_4hm(tmp, \"Relapse\", \"Relapse\")"
   ]
  },
  {
   "cell_type": "code",
   "execution_count": null,
   "metadata": {
    "vscode": {
     "languageId": "r"
    }
   },
   "outputs": [],
   "source": [
    "myatc <- makematrix_4hm(tmp, \"ATC\", \"ATC\")"
   ]
  },
  {
   "cell_type": "code",
   "execution_count": null,
   "metadata": {
    "vscode": {
     "languageId": "r"
    }
   },
   "outputs": [],
   "source": [
    "myage <- makematrix_4hm(tmp, \"Age\", \"Age\")"
   ]
  },
  {
   "cell_type": "code",
   "execution_count": null,
   "metadata": {
    "vscode": {
     "languageId": "r"
    }
   },
   "outputs": [],
   "source": [
    "age_col <- c(\"blue\", \"red\")\n",
    "atc_col <- c(\"blue\", \"red\")"
   ]
  },
  {
   "cell_type": "code",
   "execution_count": null,
   "metadata": {
    "vscode": {
     "languageId": "r"
    }
   },
   "outputs": [],
   "source": [
    "group_col <- c(\"blue\", \"red\", \"green\")\n",
    "names(group_col) <- names(table(tmp$Relapse))"
   ]
  },
  {
   "cell_type": "code",
   "execution_count": null,
   "metadata": {
    "vscode": {
     "languageId": "r"
    }
   },
   "outputs": [],
   "source": [
    "# cohort_col <- c(\"blue\", \"red\", \"green\", \"orange\", \"purple\", \"yellow\", \"black\", \"grey\", \"pink\", \n",
    "# \"brown\", \"cyan\", \"magenta\", \"navy\", \"maroon\", \"gray\",\"gold\", \"darkgreen\") \n",
    "# names(cohort_col) <- names(table(allpbmcs$Disease_type))"
   ]
  },
  {
   "cell_type": "code",
   "execution_count": null,
   "metadata": {
    "vscode": {
     "languageId": "r"
    }
   },
   "outputs": [],
   "source": [
    "type_col <- c(\"blue\", \"red\", \"green\", \"orange\", \"purple\")\n",
    "names(type_col) <- names(table(tmp$cancergroup))"
   ]
  },
  {
   "cell_type": "code",
   "execution_count": null,
   "metadata": {
    "vscode": {
     "languageId": "r"
    }
   },
   "outputs": [],
   "source": [
    "library(ComplexHeatmap)"
   ]
  },
  {
   "cell_type": "code",
   "execution_count": null,
   "metadata": {
    "vscode": {
     "languageId": "r"
    }
   },
   "outputs": [],
   "source": [
    "age_hm <- Heatmap(myage, col = age_col,  height = unit(1,\"cm\"))\n",
    "atc_hm <- Heatmap(myatc, col = atc_col,  height = unit(1,\"cm\"))"
   ]
  },
  {
   "cell_type": "code",
   "execution_count": null,
   "metadata": {
    "vscode": {
     "languageId": "r"
    }
   },
   "outputs": [],
   "source": [
    "cohort_hm <- Heatmap(mycohort, col = cohort_col, height = unit(1,\"cm\"))\n",
    "sample_hm <- Heatmap(mysample, col = type_col, , height = unit(1,\"cm\"))\n",
    "group_hm <- Heatmap(mygroup, col = group_col, , height = unit(1,\"cm\"))"
   ]
  },
  {
   "cell_type": "code",
   "execution_count": null,
   "metadata": {
    "vscode": {
     "languageId": "r"
    }
   },
   "outputs": [],
   "source": [
    "hm <- Heatmap(t(scale(mymat)))"
   ]
  },
  {
   "cell_type": "code",
   "execution_count": null,
   "metadata": {
    "vscode": {
     "languageId": "r"
    }
   },
   "outputs": [],
   "source": [
    "hm %v%  sample_hm %v% group_hm %v% age_hm %v%  atc_hm"
   ]
  },
  {
   "cell_type": "code",
   "execution_count": null,
   "metadata": {
    "vscode": {
     "languageId": "r"
    }
   },
   "outputs": [],
   "source": []
  },
  {
   "cell_type": "code",
   "execution_count": null,
   "metadata": {
    "vscode": {
     "languageId": "r"
    }
   },
   "outputs": [],
   "source": []
  },
  {
   "cell_type": "code",
   "execution_count": null,
   "metadata": {
    "vscode": {
     "languageId": "r"
    }
   },
   "outputs": [],
   "source": []
  }
 ],
 "metadata": {
  "kernelspec": {
   "display_name": "R 4.0",
   "language": "R",
   "name": "ir40"
  },
  "language_info": {
   "codemirror_mode": "r",
   "file_extension": ".r",
   "mimetype": "text/x-r-source",
   "name": "R",
   "pygments_lexer": "r",
   "version": "4.2.2"
  },
  "toc": {
   "base_numbering": 1,
   "nav_menu": {},
   "number_sections": false,
   "sideBar": true,
   "skip_h1_title": false,
   "title_cell": "Table of Contents",
   "title_sidebar": "Contents",
   "toc_cell": true,
   "toc_position": {
    "height": "calc(100% - 180px)",
    "left": "10px",
    "top": "150px",
    "width": "186.15px"
   },
   "toc_section_display": true,
   "toc_window_display": true
  }
 },
 "nbformat": 4,
 "nbformat_minor": 2
}

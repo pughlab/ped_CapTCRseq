{
 "cells": [
  {
   "cell_type": "code",
   "execution_count": 9,
   "metadata": {
    "vscode": {
     "languageId": "r"
    }
   },
   "outputs": [
    {
     "data": {
      "text/html": [
       "'en_US.UTF-8/en_US.UTF-8/en_US.UTF-8/C/en_US.UTF-8/C'"
      ],
      "text/latex": [
       "'en\\_US.UTF-8/en\\_US.UTF-8/en\\_US.UTF-8/C/en\\_US.UTF-8/C'"
      ],
      "text/markdown": [
       "'en_US.UTF-8/en_US.UTF-8/en_US.UTF-8/C/en_US.UTF-8/C'"
      ],
      "text/plain": [
       "[1] \"en_US.UTF-8/en_US.UTF-8/en_US.UTF-8/C/en_US.UTF-8/C\""
      ]
     },
     "metadata": {},
     "output_type": "display_data"
    }
   ],
   "source": [
    "Sys.setlocale(category = \"LC_ALL\", locale = \"en_US.UTF-8\")"
   ]
  },
  {
   "attachments": {},
   "cell_type": "markdown",
   "metadata": {},
   "source": [
    "# Dependencies"
   ]
  },
  {
   "cell_type": "code",
   "execution_count": 10,
   "metadata": {
    "vscode": {
     "languageId": "r"
    }
   },
   "outputs": [],
   "source": [
    "pacman::p_load(dplyr, ggplot2, ggbeeswarm, ggpubr, ggsignif, cowplot, lsmeans, forestplot)"
   ]
  },
  {
   "attachments": {},
   "cell_type": "markdown",
   "metadata": {},
   "source": [
    "# Functions"
   ]
  },
  {
   "cell_type": "code",
   "execution_count": 11,
   "metadata": {
    "vscode": {
     "languageId": "r"
    }
   },
   "outputs": [],
   "source": [
    "source(\"/Users/anabbi/git/ped_CapTCRseq/R/ggplot2_theme.R\")\n",
    "source(\"/Users/anabbi/git/ped_CapTCRseq/R/color_schemes.R\")\n",
    "source(\"/Users/anabbi/git/ped_CapTCRseq/R/Misc_functions.R\")"
   ]
  },
  {
   "attachments": {},
   "cell_type": "markdown",
   "metadata": {},
   "source": [
    "# Paths"
   ]
  },
  {
   "cell_type": "code",
   "execution_count": 12,
   "metadata": {
    "vscode": {
     "languageId": "r"
    }
   },
   "outputs": [],
   "source": [
    "datapath <- \"/Users/anabbi/OneDrive - UHN/Documents/INTERCEPT/Data/\"\n",
    "plotpath <- \"/Users/anabbi/OneDrive - UHN/Documents/INTERCEPT/Plots/\"\n",
    "manifestpath <- \"/Users/anabbi/OneDrive - UHN/Documents/INTERCEPT/Manifests/\"\n",
    "gitpath <- \"/Users/anabbi/git/ped_CapTCRseq/\""
   ]
  },
  {
   "cell_type": "code",
   "execution_count": 13,
   "metadata": {
    "vscode": {
     "languageId": "r"
    }
   },
   "outputs": [],
   "source": [
    "h4hpath <- \"/Users/anabbi/Desktop/H4H/INTERCEPT/\""
   ]
  },
  {
   "attachments": {},
   "cell_type": "markdown",
   "metadata": {},
   "source": [
    "# Main"
   ]
  },
  {
   "cell_type": "code",
   "execution_count": 14,
   "metadata": {
    "vscode": {
     "languageId": "r"
    }
   },
   "outputs": [],
   "source": [
    "meta_div <- readr::read_rds(paste0(datapath, \"capTCRseq/meta_div_goodsamples.rds\"))"
   ]
  },
  {
   "cell_type": "markdown",
   "metadata": {},
   "source": [
    "# "
   ]
  },
  {
   "cell_type": "code",
   "execution_count": 15,
   "metadata": {
    "vscode": {
     "languageId": "r"
    }
   },
   "outputs": [],
   "source": [
    "sample_df <- readr::read_rds( paste0(datapath, \"int_sample_df.rds\"))"
   ]
  },
  {
   "cell_type": "code",
   "execution_count": 16,
   "metadata": {
    "vscode": {
     "languageId": "r"
    }
   },
   "outputs": [
    {
     "data": {
      "text/plain": [
       "\n",
       "  0   1 \n",
       "431 103 "
      ]
     },
     "metadata": {},
     "output_type": "display_data"
    }
   ],
   "source": [
    "table(sample_df$Relapse)"
   ]
  },
  {
   "cell_type": "code",
   "execution_count": 17,
   "metadata": {
    "vscode": {
     "languageId": "r"
    }
   },
   "outputs": [
    {
     "data": {
      "text/plain": [
       "\n",
       "cfDNA  PBMC Tumor \n",
       "  274   558    18 "
      ]
     },
     "metadata": {},
     "output_type": "display_data"
    }
   ],
   "source": [
    "table(meta_div$sampletype)"
   ]
  },
  {
   "cell_type": "code",
   "execution_count": 18,
   "metadata": {
    "vscode": {
     "languageId": "r"
    }
   },
   "outputs": [],
   "source": [
    "gliphpca <- readr::read_rds(file = paste0(datapath, \"GLIPH/gliph_PCA.rds\"))"
   ]
  },
  {
   "cell_type": "markdown",
   "metadata": {},
   "source": [
    "# 1- Quantrreg for each patient post-therapy"
   ]
  },
  {
   "cell_type": "code",
   "execution_count": 19,
   "metadata": {
    "vscode": {
     "languageId": "r"
    }
   },
   "outputs": [],
   "source": [
    "sample_df$cyclenum <- as.numeric(gsub(\"X0\", \"\", sample_df$cycle) )"
   ]
  },
  {
   "cell_type": "code",
   "execution_count": 20,
   "metadata": {
    "vscode": {
     "languageId": "r"
    }
   },
   "outputs": [],
   "source": [
    "# split to 3 dataframes: one for flow one for tcr and ncr\n",
    "\n",
    "tcr_df <- sample_df[ !is.na(sample_df$TRB), ]\n",
    "flow_df <- sample_df[ !is.na(sample_df$CD3) & sample_df$CD3 > 0, ]\n",
    "ncr_df <- flow_df[ !is.na(flow_df$`TIM3%`), ]"
   ]
  },
  {
   "cell_type": "code",
   "execution_count": 21,
   "metadata": {
    "vscode": {
     "languageId": "r"
    }
   },
   "outputs": [],
   "source": [
    "# remove X01\n",
    "tcr_df <- tcr_df[ tcr_df$cycle != \"X01\", ]\n",
    "flow_df <- flow_df[ flow_df$cycle != \"X01\", ]\n",
    "ncr_df <- ncr_df[ ncr_df$cycle != \"X01\", ]"
   ]
  },
  {
   "cell_type": "code",
   "execution_count": 22,
   "metadata": {
    "vscode": {
     "languageId": "r"
    }
   },
   "outputs": [],
   "source": [
    "# minimum two samples in each dataframe\n",
    "\n",
    "mytab <- table(tcr_df$Patient, tcr_df$cycle)\n",
    "mytab <- mytab[rowSums(mytab == 1) >= 2, ] \n",
    "tcr_df_min2 <- tcr_df[tcr_df$Patient %in% rownames(mytab), ]\n",
    "\n",
    "mytab <- table(flow_df$Patient, flow_df$cycle)\n",
    "mytab <- mytab[rowSums(mytab == 1) >= 2, ] \n",
    "flow_df_min2 <- flow_df[flow_df$Patient %in% rownames(mytab), ]\n",
    "\n",
    "mytab <- table(ncr_df$Patient, ncr_df$cycle)\n",
    "mytab <- mytab[rowSums(mytab == 1) >= 2, ] \n",
    "ncr_df_min2 <- ncr_df[ncr_df$Patient %in% rownames(mytab), ]"
   ]
  },
  {
   "cell_type": "code",
   "execution_count": 23,
   "metadata": {
    "vscode": {
     "languageId": "r"
    }
   },
   "outputs": [
    {
     "data": {
      "text/html": [
       "<style>\n",
       ".list-inline {list-style: none; margin:0; padding: 0}\n",
       ".list-inline>li {display: inline-block}\n",
       ".list-inline>li:not(:last-child)::after {content: \"\\00b7\"; padding: 0 .5ex}\n",
       "</style>\n",
       "<ol class=list-inline><li>'sample_id'</li><li>'Patient'</li><li>'cycle'</li><li>'FOLD'</li><li>'ATC'</li><li>'Age'</li><li>'Disease_type'</li><li>'TE_fold'</li><li>'CD3'</li><li>'EM'</li><li>'CM'</li><li>'Naïve'</li><li>'SCM'</li><li>'TE'</li><li>'EM%'</li><li>'CM%'</li><li>'Naïve%'</li><li>'SCM%'</li><li>'TE%'</li><li>'Naïve/TE'</li><li>'N+CM+SCM/TE+EM'</li><li>'PD-1'</li><li>'PDL1'</li><li>'LAG3'</li><li>'TIM3'</li><li>'CTLA4'</li><li>'PD1%'</li><li>'PDL1%'</li><li>'LAG3%'</li><li>'TIM3%'</li><li>'CTLA4%'</li><li>'Any NCR'</li><li>'PD1 + LAG3 + TIM3'</li><li>'cancergroup'</li><li>'agegroup'</li><li>'foldgroup'</li><li>'Remission'</li><li>'Relapse'</li><li>'Transplant'</li><li>'CART'</li><li>'vital_status'</li><li>'LOF'</li><li>'TRB'</li><li>'Reads'</li><li>'CPKR'</li><li>'Average_reads'</li><li>'VMR'</li><li>'Max_reads'</li><li>'Singletons'</li><li>'Doubletons'</li><li>'qD'</li><li>'Sample_Coverage'</li><li>'observed_Richness'</li><li>'estimated_Richness'</li><li>'SE_Richeness'</li><li>'observed_Shannon'</li><li>'estimated_Shannon'</li><li>'SE_Shannon'</li><li>'observed_Simpson'</li><li>'estimated_Simpson'</li><li>'SE_Simpson'</li><li>'basename'</li><li>'file'</li><li>'sampletype'</li><li>'Group'</li><li>'log10shann'</li><li>'aveTiRP'</li><li>'medTiRP'</li><li>'HLA_PC1'</li><li>'HLA_PC2'</li><li>'HLA_PC3'</li><li>'V_PC1'</li><li>'V_PC2'</li><li>'V_PC3'</li><li>'J_PC1'</li><li>'J_PC2'</li><li>'J_PC3'</li><li>'samplename'</li><li>'gliph_n'</li><li>'CMV'</li><li>'EBV'</li><li>'HCV'</li><li>'Flu'</li><li>'hs'</li><li>'cfDNA_TRB'</li><li>'cfDNA_Reads'</li><li>'cfDNA_CPKR'</li><li>'cfDNA_Average_reads'</li><li>'cfDNA_VMR'</li><li>'cfDNA_Max_reads'</li><li>'cfDNA_Singletons'</li><li>'cfDNA_Doubletons'</li><li>'cfDNA_qD'</li><li>'cfDNA_Sample_Coverage'</li><li>'cfDNA_observed_Richness'</li><li>'cfDNA_estimated_Richness'</li><li>'cfDNA_SE_Richeness'</li><li>'cfDNA_observed_Shannon'</li><li>'cfDNA_estimated_Shannon'</li><li>'cfDNA_SE_Shannon'</li><li>'cfDNA_observed_Simpson'</li><li>'cfDNA_estimated_Simpson'</li><li>'cfDNA_SE_Simpson'</li><li>'cfDNA_basename'</li><li>'cfDNA_file'</li><li>'cfDNA_sampletype'</li><li>'cfDNA_Group'</li><li>'cfDNA_log10shann'</li><li>'cfDNA_aveTiRP'</li><li>'cfDNA_medTiRP'</li><li>'cfDNA_V_PC1'</li><li>'cfDNA_V_PC2'</li><li>'cfDNA_V_PC3'</li><li>'cfDNA_J_PC1'</li><li>'cfDNA_J_PC2'</li><li>'cfDNA_J_PC3'</li><li>'cfDNA_samplename'</li><li>'cfDNA_gliph_n'</li><li>'cfDNA_CMV'</li><li>'cfDNA_EBV'</li><li>'cfDNA_HCV'</li><li>'cfDNA_Flu'</li><li>'cfDNA_hs'</li><li>'cyclenum'</li></ol>\n"
      ],
      "text/latex": [
       "\\begin{enumerate*}\n",
       "\\item 'sample\\_id'\n",
       "\\item 'Patient'\n",
       "\\item 'cycle'\n",
       "\\item 'FOLD'\n",
       "\\item 'ATC'\n",
       "\\item 'Age'\n",
       "\\item 'Disease\\_type'\n",
       "\\item 'TE\\_fold'\n",
       "\\item 'CD3'\n",
       "\\item 'EM'\n",
       "\\item 'CM'\n",
       "\\item 'Naïve'\n",
       "\\item 'SCM'\n",
       "\\item 'TE'\n",
       "\\item 'EM\\%'\n",
       "\\item 'CM\\%'\n",
       "\\item 'Naïve\\%'\n",
       "\\item 'SCM\\%'\n",
       "\\item 'TE\\%'\n",
       "\\item 'Naïve/TE'\n",
       "\\item 'N+CM+SCM/TE+EM'\n",
       "\\item 'PD-1'\n",
       "\\item 'PDL1'\n",
       "\\item 'LAG3'\n",
       "\\item 'TIM3'\n",
       "\\item 'CTLA4'\n",
       "\\item 'PD1\\%'\n",
       "\\item 'PDL1\\%'\n",
       "\\item 'LAG3\\%'\n",
       "\\item 'TIM3\\%'\n",
       "\\item 'CTLA4\\%'\n",
       "\\item 'Any NCR'\n",
       "\\item 'PD1 + LAG3 + TIM3'\n",
       "\\item 'cancergroup'\n",
       "\\item 'agegroup'\n",
       "\\item 'foldgroup'\n",
       "\\item 'Remission'\n",
       "\\item 'Relapse'\n",
       "\\item 'Transplant'\n",
       "\\item 'CART'\n",
       "\\item 'vital\\_status'\n",
       "\\item 'LOF'\n",
       "\\item 'TRB'\n",
       "\\item 'Reads'\n",
       "\\item 'CPKR'\n",
       "\\item 'Average\\_reads'\n",
       "\\item 'VMR'\n",
       "\\item 'Max\\_reads'\n",
       "\\item 'Singletons'\n",
       "\\item 'Doubletons'\n",
       "\\item 'qD'\n",
       "\\item 'Sample\\_Coverage'\n",
       "\\item 'observed\\_Richness'\n",
       "\\item 'estimated\\_Richness'\n",
       "\\item 'SE\\_Richeness'\n",
       "\\item 'observed\\_Shannon'\n",
       "\\item 'estimated\\_Shannon'\n",
       "\\item 'SE\\_Shannon'\n",
       "\\item 'observed\\_Simpson'\n",
       "\\item 'estimated\\_Simpson'\n",
       "\\item 'SE\\_Simpson'\n",
       "\\item 'basename'\n",
       "\\item 'file'\n",
       "\\item 'sampletype'\n",
       "\\item 'Group'\n",
       "\\item 'log10shann'\n",
       "\\item 'aveTiRP'\n",
       "\\item 'medTiRP'\n",
       "\\item 'HLA\\_PC1'\n",
       "\\item 'HLA\\_PC2'\n",
       "\\item 'HLA\\_PC3'\n",
       "\\item 'V\\_PC1'\n",
       "\\item 'V\\_PC2'\n",
       "\\item 'V\\_PC3'\n",
       "\\item 'J\\_PC1'\n",
       "\\item 'J\\_PC2'\n",
       "\\item 'J\\_PC3'\n",
       "\\item 'samplename'\n",
       "\\item 'gliph\\_n'\n",
       "\\item 'CMV'\n",
       "\\item 'EBV'\n",
       "\\item 'HCV'\n",
       "\\item 'Flu'\n",
       "\\item 'hs'\n",
       "\\item 'cfDNA\\_TRB'\n",
       "\\item 'cfDNA\\_Reads'\n",
       "\\item 'cfDNA\\_CPKR'\n",
       "\\item 'cfDNA\\_Average\\_reads'\n",
       "\\item 'cfDNA\\_VMR'\n",
       "\\item 'cfDNA\\_Max\\_reads'\n",
       "\\item 'cfDNA\\_Singletons'\n",
       "\\item 'cfDNA\\_Doubletons'\n",
       "\\item 'cfDNA\\_qD'\n",
       "\\item 'cfDNA\\_Sample\\_Coverage'\n",
       "\\item 'cfDNA\\_observed\\_Richness'\n",
       "\\item 'cfDNA\\_estimated\\_Richness'\n",
       "\\item 'cfDNA\\_SE\\_Richeness'\n",
       "\\item 'cfDNA\\_observed\\_Shannon'\n",
       "\\item 'cfDNA\\_estimated\\_Shannon'\n",
       "\\item 'cfDNA\\_SE\\_Shannon'\n",
       "\\item 'cfDNA\\_observed\\_Simpson'\n",
       "\\item 'cfDNA\\_estimated\\_Simpson'\n",
       "\\item 'cfDNA\\_SE\\_Simpson'\n",
       "\\item 'cfDNA\\_basename'\n",
       "\\item 'cfDNA\\_file'\n",
       "\\item 'cfDNA\\_sampletype'\n",
       "\\item 'cfDNA\\_Group'\n",
       "\\item 'cfDNA\\_log10shann'\n",
       "\\item 'cfDNA\\_aveTiRP'\n",
       "\\item 'cfDNA\\_medTiRP'\n",
       "\\item 'cfDNA\\_V\\_PC1'\n",
       "\\item 'cfDNA\\_V\\_PC2'\n",
       "\\item 'cfDNA\\_V\\_PC3'\n",
       "\\item 'cfDNA\\_J\\_PC1'\n",
       "\\item 'cfDNA\\_J\\_PC2'\n",
       "\\item 'cfDNA\\_J\\_PC3'\n",
       "\\item 'cfDNA\\_samplename'\n",
       "\\item 'cfDNA\\_gliph\\_n'\n",
       "\\item 'cfDNA\\_CMV'\n",
       "\\item 'cfDNA\\_EBV'\n",
       "\\item 'cfDNA\\_HCV'\n",
       "\\item 'cfDNA\\_Flu'\n",
       "\\item 'cfDNA\\_hs'\n",
       "\\item 'cyclenum'\n",
       "\\end{enumerate*}\n"
      ],
      "text/markdown": [
       "1. 'sample_id'\n",
       "2. 'Patient'\n",
       "3. 'cycle'\n",
       "4. 'FOLD'\n",
       "5. 'ATC'\n",
       "6. 'Age'\n",
       "7. 'Disease_type'\n",
       "8. 'TE_fold'\n",
       "9. 'CD3'\n",
       "10. 'EM'\n",
       "11. 'CM'\n",
       "12. 'Naïve'\n",
       "13. 'SCM'\n",
       "14. 'TE'\n",
       "15. 'EM%'\n",
       "16. 'CM%'\n",
       "17. 'Naïve%'\n",
       "18. 'SCM%'\n",
       "19. 'TE%'\n",
       "20. 'Naïve/TE'\n",
       "21. 'N+CM+SCM/TE+EM'\n",
       "22. 'PD-1'\n",
       "23. 'PDL1'\n",
       "24. 'LAG3'\n",
       "25. 'TIM3'\n",
       "26. 'CTLA4'\n",
       "27. 'PD1%'\n",
       "28. 'PDL1%'\n",
       "29. 'LAG3%'\n",
       "30. 'TIM3%'\n",
       "31. 'CTLA4%'\n",
       "32. 'Any NCR'\n",
       "33. 'PD1 + LAG3 + TIM3'\n",
       "34. 'cancergroup'\n",
       "35. 'agegroup'\n",
       "36. 'foldgroup'\n",
       "37. 'Remission'\n",
       "38. 'Relapse'\n",
       "39. 'Transplant'\n",
       "40. 'CART'\n",
       "41. 'vital_status'\n",
       "42. 'LOF'\n",
       "43. 'TRB'\n",
       "44. 'Reads'\n",
       "45. 'CPKR'\n",
       "46. 'Average_reads'\n",
       "47. 'VMR'\n",
       "48. 'Max_reads'\n",
       "49. 'Singletons'\n",
       "50. 'Doubletons'\n",
       "51. 'qD'\n",
       "52. 'Sample_Coverage'\n",
       "53. 'observed_Richness'\n",
       "54. 'estimated_Richness'\n",
       "55. 'SE_Richeness'\n",
       "56. 'observed_Shannon'\n",
       "57. 'estimated_Shannon'\n",
       "58. 'SE_Shannon'\n",
       "59. 'observed_Simpson'\n",
       "60. 'estimated_Simpson'\n",
       "61. 'SE_Simpson'\n",
       "62. 'basename'\n",
       "63. 'file'\n",
       "64. 'sampletype'\n",
       "65. 'Group'\n",
       "66. 'log10shann'\n",
       "67. 'aveTiRP'\n",
       "68. 'medTiRP'\n",
       "69. 'HLA_PC1'\n",
       "70. 'HLA_PC2'\n",
       "71. 'HLA_PC3'\n",
       "72. 'V_PC1'\n",
       "73. 'V_PC2'\n",
       "74. 'V_PC3'\n",
       "75. 'J_PC1'\n",
       "76. 'J_PC2'\n",
       "77. 'J_PC3'\n",
       "78. 'samplename'\n",
       "79. 'gliph_n'\n",
       "80. 'CMV'\n",
       "81. 'EBV'\n",
       "82. 'HCV'\n",
       "83. 'Flu'\n",
       "84. 'hs'\n",
       "85. 'cfDNA_TRB'\n",
       "86. 'cfDNA_Reads'\n",
       "87. 'cfDNA_CPKR'\n",
       "88. 'cfDNA_Average_reads'\n",
       "89. 'cfDNA_VMR'\n",
       "90. 'cfDNA_Max_reads'\n",
       "91. 'cfDNA_Singletons'\n",
       "92. 'cfDNA_Doubletons'\n",
       "93. 'cfDNA_qD'\n",
       "94. 'cfDNA_Sample_Coverage'\n",
       "95. 'cfDNA_observed_Richness'\n",
       "96. 'cfDNA_estimated_Richness'\n",
       "97. 'cfDNA_SE_Richeness'\n",
       "98. 'cfDNA_observed_Shannon'\n",
       "99. 'cfDNA_estimated_Shannon'\n",
       "100. 'cfDNA_SE_Shannon'\n",
       "101. 'cfDNA_observed_Simpson'\n",
       "102. 'cfDNA_estimated_Simpson'\n",
       "103. 'cfDNA_SE_Simpson'\n",
       "104. 'cfDNA_basename'\n",
       "105. 'cfDNA_file'\n",
       "106. 'cfDNA_sampletype'\n",
       "107. 'cfDNA_Group'\n",
       "108. 'cfDNA_log10shann'\n",
       "109. 'cfDNA_aveTiRP'\n",
       "110. 'cfDNA_medTiRP'\n",
       "111. 'cfDNA_V_PC1'\n",
       "112. 'cfDNA_V_PC2'\n",
       "113. 'cfDNA_V_PC3'\n",
       "114. 'cfDNA_J_PC1'\n",
       "115. 'cfDNA_J_PC2'\n",
       "116. 'cfDNA_J_PC3'\n",
       "117. 'cfDNA_samplename'\n",
       "118. 'cfDNA_gliph_n'\n",
       "119. 'cfDNA_CMV'\n",
       "120. 'cfDNA_EBV'\n",
       "121. 'cfDNA_HCV'\n",
       "122. 'cfDNA_Flu'\n",
       "123. 'cfDNA_hs'\n",
       "124. 'cyclenum'\n",
       "\n",
       "\n"
      ],
      "text/plain": [
       "  [1] \"sample_id\"                \"Patient\"                 \n",
       "  [3] \"cycle\"                    \"FOLD\"                    \n",
       "  [5] \"ATC\"                      \"Age\"                     \n",
       "  [7] \"Disease_type\"             \"TE_fold\"                 \n",
       "  [9] \"CD3\"                      \"EM\"                      \n",
       " [11] \"CM\"                       \"Naïve\"                   \n",
       " [13] \"SCM\"                      \"TE\"                      \n",
       " [15] \"EM%\"                      \"CM%\"                     \n",
       " [17] \"Naïve%\"                   \"SCM%\"                    \n",
       " [19] \"TE%\"                      \"Naïve/TE\"                \n",
       " [21] \"N+CM+SCM/TE+EM\"           \"PD-1\"                    \n",
       " [23] \"PDL1\"                     \"LAG3\"                    \n",
       " [25] \"TIM3\"                     \"CTLA4\"                   \n",
       " [27] \"PD1%\"                     \"PDL1%\"                   \n",
       " [29] \"LAG3%\"                    \"TIM3%\"                   \n",
       " [31] \"CTLA4%\"                   \"Any NCR\"                 \n",
       " [33] \"PD1 + LAG3 + TIM3\"        \"cancergroup\"             \n",
       " [35] \"agegroup\"                 \"foldgroup\"               \n",
       " [37] \"Remission\"                \"Relapse\"                 \n",
       " [39] \"Transplant\"               \"CART\"                    \n",
       " [41] \"vital_status\"             \"LOF\"                     \n",
       " [43] \"TRB\"                      \"Reads\"                   \n",
       " [45] \"CPKR\"                     \"Average_reads\"           \n",
       " [47] \"VMR\"                      \"Max_reads\"               \n",
       " [49] \"Singletons\"               \"Doubletons\"              \n",
       " [51] \"qD\"                       \"Sample_Coverage\"         \n",
       " [53] \"observed_Richness\"        \"estimated_Richness\"      \n",
       " [55] \"SE_Richeness\"             \"observed_Shannon\"        \n",
       " [57] \"estimated_Shannon\"        \"SE_Shannon\"              \n",
       " [59] \"observed_Simpson\"         \"estimated_Simpson\"       \n",
       " [61] \"SE_Simpson\"               \"basename\"                \n",
       " [63] \"file\"                     \"sampletype\"              \n",
       " [65] \"Group\"                    \"log10shann\"              \n",
       " [67] \"aveTiRP\"                  \"medTiRP\"                 \n",
       " [69] \"HLA_PC1\"                  \"HLA_PC2\"                 \n",
       " [71] \"HLA_PC3\"                  \"V_PC1\"                   \n",
       " [73] \"V_PC2\"                    \"V_PC3\"                   \n",
       " [75] \"J_PC1\"                    \"J_PC2\"                   \n",
       " [77] \"J_PC3\"                    \"samplename\"              \n",
       " [79] \"gliph_n\"                  \"CMV\"                     \n",
       " [81] \"EBV\"                      \"HCV\"                     \n",
       " [83] \"Flu\"                      \"hs\"                      \n",
       " [85] \"cfDNA_TRB\"                \"cfDNA_Reads\"             \n",
       " [87] \"cfDNA_CPKR\"               \"cfDNA_Average_reads\"     \n",
       " [89] \"cfDNA_VMR\"                \"cfDNA_Max_reads\"         \n",
       " [91] \"cfDNA_Singletons\"         \"cfDNA_Doubletons\"        \n",
       " [93] \"cfDNA_qD\"                 \"cfDNA_Sample_Coverage\"   \n",
       " [95] \"cfDNA_observed_Richness\"  \"cfDNA_estimated_Richness\"\n",
       " [97] \"cfDNA_SE_Richeness\"       \"cfDNA_observed_Shannon\"  \n",
       " [99] \"cfDNA_estimated_Shannon\"  \"cfDNA_SE_Shannon\"        \n",
       "[101] \"cfDNA_observed_Simpson\"   \"cfDNA_estimated_Simpson\" \n",
       "[103] \"cfDNA_SE_Simpson\"         \"cfDNA_basename\"          \n",
       "[105] \"cfDNA_file\"               \"cfDNA_sampletype\"        \n",
       "[107] \"cfDNA_Group\"              \"cfDNA_log10shann\"        \n",
       "[109] \"cfDNA_aveTiRP\"            \"cfDNA_medTiRP\"           \n",
       "[111] \"cfDNA_V_PC1\"              \"cfDNA_V_PC2\"             \n",
       "[113] \"cfDNA_V_PC3\"              \"cfDNA_J_PC1\"             \n",
       "[115] \"cfDNA_J_PC2\"              \"cfDNA_J_PC3\"             \n",
       "[117] \"cfDNA_samplename\"         \"cfDNA_gliph_n\"           \n",
       "[119] \"cfDNA_CMV\"                \"cfDNA_EBV\"               \n",
       "[121] \"cfDNA_HCV\"                \"cfDNA_Flu\"               \n",
       "[123] \"cfDNA_hs\"                 \"cyclenum\"                "
      ]
     },
     "metadata": {},
     "output_type": "display_data"
    }
   ],
   "source": [
    "colnames(tcr_df_min2)"
   ]
  },
  {
   "cell_type": "code",
   "execution_count": 24,
   "metadata": {
    "vscode": {
     "languageId": "r"
    }
   },
   "outputs": [],
   "source": [
    "mypca <- gliphpca$x"
   ]
  },
  {
   "cell_type": "code",
   "execution_count": 25,
   "metadata": {
    "vscode": {
     "languageId": "r"
    }
   },
   "outputs": [
    {
     "data": {
      "text/html": [
       "<table class=\"dataframe\">\n",
       "<caption>A matrix: 6 x 410 of type dbl</caption>\n",
       "<thead>\n",
       "\t<tr><th></th><th scope=col>PC1</th><th scope=col>PC2</th><th scope=col>PC3</th><th scope=col>PC4</th><th scope=col>PC5</th><th scope=col>PC6</th><th scope=col>PC7</th><th scope=col>PC8</th><th scope=col>PC9</th><th scope=col>PC10</th><th scope=col>...</th><th scope=col>PC401</th><th scope=col>PC402</th><th scope=col>PC403</th><th scope=col>PC404</th><th scope=col>PC405</th><th scope=col>PC406</th><th scope=col>PC407</th><th scope=col>PC408</th><th scope=col>PC409</th><th scope=col>PC410</th></tr>\n",
       "</thead>\n",
       "<tbody>\n",
       "\t<tr><th scope=row>Leukemia:CHP_319_X05-PBMC</th><td>-1.832848</td><td>-1.848061</td><td>1.5108913</td><td>-0.49758730</td><td> 1.2475238</td><td>-1.1360350</td><td> 0.31823413</td><td>-0.4143386</td><td>0.6170181</td><td>-1.0179550</td><td>...</td><td> 2.669408e-06</td><td> 5.670315e-07</td><td> 2.964113e-07</td><td> 2.895842e-07</td><td>7.670149e-07</td><td> 2.819900e-08</td><td>2.735590e-08</td><td>5.498801e-13</td><td> 1.779233e-15</td><td> 2.433906e-14</td></tr>\n",
       "\t<tr><th scope=row>Leukemia:CHP_323_X03-PBMC</th><td>-1.695182</td><td>-1.546052</td><td>0.8125126</td><td> 0.82635255</td><td> 1.3400379</td><td>-0.8997030</td><td> 0.41926939</td><td> 0.8133113</td><td>0.8203821</td><td>-1.2305051</td><td>...</td><td> 1.041408e-08</td><td> 1.025073e-09</td><td>-5.162535e-11</td><td>-9.601026e-11</td><td>4.679352e-10</td><td> 8.000886e-11</td><td>2.667992e-11</td><td>1.227782e-12</td><td> 4.196931e-14</td><td> 2.528275e-14</td></tr>\n",
       "\t<tr><th scope=row>Leukemia:CHP_323_X03-cfDNA</th><td>-1.366894</td><td>-1.385488</td><td>1.1380872</td><td>-0.72678739</td><td>-0.2197026</td><td>-0.6123179</td><td>-0.16907199</td><td>-0.3350745</td><td>0.6239349</td><td>-0.5601353</td><td>...</td><td>-1.273392e-10</td><td> 1.131420e-09</td><td>-1.550594e-09</td><td>-2.905974e-09</td><td>1.753213e-09</td><td> 7.181918e-11</td><td>1.257699e-11</td><td>1.572636e-13</td><td>-1.202917e-14</td><td> 4.294039e-13</td></tr>\n",
       "\t<tr><th scope=row>Leukemia:CHP_323_X05-PBMC</th><td>-1.817785</td><td>-1.767662</td><td>1.3588968</td><td>-0.06781653</td><td> 1.2968171</td><td>-0.9912957</td><td> 0.08897417</td><td>-0.3813115</td><td>0.6998146</td><td>-1.1352729</td><td>...</td><td> 1.802349e-08</td><td> 1.154930e-09</td><td>-1.631466e-10</td><td> 5.320026e-10</td><td>8.046112e-10</td><td>-8.617327e-11</td><td>1.554410e-11</td><td>4.395170e-13</td><td> 9.237343e-14</td><td>-6.303549e-14</td></tr>\n",
       "\t<tr><th scope=row>Leukemia:CHP_323_X05-cfDNA</th><td>-1.834019</td><td>-1.854525</td><td>1.5039276</td><td>-0.45283254</td><td> 1.2292121</td><td>-1.0240096</td><td> 0.41719095</td><td>-0.4801349</td><td>0.6323353</td><td>-1.0474976</td><td>...</td><td> 2.579343e-09</td><td> 2.089269e-10</td><td> 6.295258e-10</td><td> 4.570877e-10</td><td>7.234622e-10</td><td> 8.061983e-11</td><td>3.758555e-11</td><td>5.064426e-13</td><td> 1.320639e-13</td><td>-7.209537e-13</td></tr>\n",
       "\t<tr><th scope=row>Leukemia:CHP_326_X05-cfDNA</th><td>-1.814312</td><td>-1.339670</td><td>1.3144928</td><td>-0.28673092</td><td> 1.1913963</td><td>-1.3059445</td><td> 0.37146329</td><td>-0.4349749</td><td>0.2904381</td><td>-1.0892887</td><td>...</td><td>-4.927307e-08</td><td>-4.586669e-08</td><td>-5.256553e-08</td><td>-1.441592e-07</td><td>6.484804e-08</td><td> 1.629817e-09</td><td>5.139111e-10</td><td>3.796691e-13</td><td> 2.076405e-14</td><td> 3.713948e-13</td></tr>\n",
       "</tbody>\n",
       "</table>\n"
      ],
      "text/latex": [
       "A matrix: 6 x 410 of type dbl\n",
       "\\begin{tabular}{r|lllllllllllllllllllll}\n",
       "  & PC1 & PC2 & PC3 & PC4 & PC5 & PC6 & PC7 & PC8 & PC9 & PC10 & ... & PC401 & PC402 & PC403 & PC404 & PC405 & PC406 & PC407 & PC408 & PC409 & PC410\\\\\n",
       "\\hline\n",
       "\tLeukemia:CHP\\_319\\_X05-PBMC & -1.832848 & -1.848061 & 1.5108913 & -0.49758730 &  1.2475238 & -1.1360350 &  0.31823413 & -0.4143386 & 0.6170181 & -1.0179550 & ... &  2.669408e-06 &  5.670315e-07 &  2.964113e-07 &  2.895842e-07 & 7.670149e-07 &  2.819900e-08 & 2.735590e-08 & 5.498801e-13 &  1.779233e-15 &  2.433906e-14\\\\\n",
       "\tLeukemia:CHP\\_323\\_X03-PBMC & -1.695182 & -1.546052 & 0.8125126 &  0.82635255 &  1.3400379 & -0.8997030 &  0.41926939 &  0.8133113 & 0.8203821 & -1.2305051 & ... &  1.041408e-08 &  1.025073e-09 & -5.162535e-11 & -9.601026e-11 & 4.679352e-10 &  8.000886e-11 & 2.667992e-11 & 1.227782e-12 &  4.196931e-14 &  2.528275e-14\\\\\n",
       "\tLeukemia:CHP\\_323\\_X03-cfDNA & -1.366894 & -1.385488 & 1.1380872 & -0.72678739 & -0.2197026 & -0.6123179 & -0.16907199 & -0.3350745 & 0.6239349 & -0.5601353 & ... & -1.273392e-10 &  1.131420e-09 & -1.550594e-09 & -2.905974e-09 & 1.753213e-09 &  7.181918e-11 & 1.257699e-11 & 1.572636e-13 & -1.202917e-14 &  4.294039e-13\\\\\n",
       "\tLeukemia:CHP\\_323\\_X05-PBMC & -1.817785 & -1.767662 & 1.3588968 & -0.06781653 &  1.2968171 & -0.9912957 &  0.08897417 & -0.3813115 & 0.6998146 & -1.1352729 & ... &  1.802349e-08 &  1.154930e-09 & -1.631466e-10 &  5.320026e-10 & 8.046112e-10 & -8.617327e-11 & 1.554410e-11 & 4.395170e-13 &  9.237343e-14 & -6.303549e-14\\\\\n",
       "\tLeukemia:CHP\\_323\\_X05-cfDNA & -1.834019 & -1.854525 & 1.5039276 & -0.45283254 &  1.2292121 & -1.0240096 &  0.41719095 & -0.4801349 & 0.6323353 & -1.0474976 & ... &  2.579343e-09 &  2.089269e-10 &  6.295258e-10 &  4.570877e-10 & 7.234622e-10 &  8.061983e-11 & 3.758555e-11 & 5.064426e-13 &  1.320639e-13 & -7.209537e-13\\\\\n",
       "\tLeukemia:CHP\\_326\\_X05-cfDNA & -1.814312 & -1.339670 & 1.3144928 & -0.28673092 &  1.1913963 & -1.3059445 &  0.37146329 & -0.4349749 & 0.2904381 & -1.0892887 & ... & -4.927307e-08 & -4.586669e-08 & -5.256553e-08 & -1.441592e-07 & 6.484804e-08 &  1.629817e-09 & 5.139111e-10 & 3.796691e-13 &  2.076405e-14 &  3.713948e-13\\\\\n",
       "\\end{tabular}\n"
      ],
      "text/markdown": [
       "\n",
       "A matrix: 6 x 410 of type dbl\n",
       "\n",
       "| <!--/--> | PC1 | PC2 | PC3 | PC4 | PC5 | PC6 | PC7 | PC8 | PC9 | PC10 | ... | PC401 | PC402 | PC403 | PC404 | PC405 | PC406 | PC407 | PC408 | PC409 | PC410 |\n",
       "|---|---|---|---|---|---|---|---|---|---|---|---|---|---|---|---|---|---|---|---|---|---|\n",
       "| Leukemia:CHP_319_X05-PBMC | -1.832848 | -1.848061 | 1.5108913 | -0.49758730 |  1.2475238 | -1.1360350 |  0.31823413 | -0.4143386 | 0.6170181 | -1.0179550 | ... |  2.669408e-06 |  5.670315e-07 |  2.964113e-07 |  2.895842e-07 | 7.670149e-07 |  2.819900e-08 | 2.735590e-08 | 5.498801e-13 |  1.779233e-15 |  2.433906e-14 |\n",
       "| Leukemia:CHP_323_X03-PBMC | -1.695182 | -1.546052 | 0.8125126 |  0.82635255 |  1.3400379 | -0.8997030 |  0.41926939 |  0.8133113 | 0.8203821 | -1.2305051 | ... |  1.041408e-08 |  1.025073e-09 | -5.162535e-11 | -9.601026e-11 | 4.679352e-10 |  8.000886e-11 | 2.667992e-11 | 1.227782e-12 |  4.196931e-14 |  2.528275e-14 |\n",
       "| Leukemia:CHP_323_X03-cfDNA | -1.366894 | -1.385488 | 1.1380872 | -0.72678739 | -0.2197026 | -0.6123179 | -0.16907199 | -0.3350745 | 0.6239349 | -0.5601353 | ... | -1.273392e-10 |  1.131420e-09 | -1.550594e-09 | -2.905974e-09 | 1.753213e-09 |  7.181918e-11 | 1.257699e-11 | 1.572636e-13 | -1.202917e-14 |  4.294039e-13 |\n",
       "| Leukemia:CHP_323_X05-PBMC | -1.817785 | -1.767662 | 1.3588968 | -0.06781653 |  1.2968171 | -0.9912957 |  0.08897417 | -0.3813115 | 0.6998146 | -1.1352729 | ... |  1.802349e-08 |  1.154930e-09 | -1.631466e-10 |  5.320026e-10 | 8.046112e-10 | -8.617327e-11 | 1.554410e-11 | 4.395170e-13 |  9.237343e-14 | -6.303549e-14 |\n",
       "| Leukemia:CHP_323_X05-cfDNA | -1.834019 | -1.854525 | 1.5039276 | -0.45283254 |  1.2292121 | -1.0240096 |  0.41719095 | -0.4801349 | 0.6323353 | -1.0474976 | ... |  2.579343e-09 |  2.089269e-10 |  6.295258e-10 |  4.570877e-10 | 7.234622e-10 |  8.061983e-11 | 3.758555e-11 | 5.064426e-13 |  1.320639e-13 | -7.209537e-13 |\n",
       "| Leukemia:CHP_326_X05-cfDNA | -1.814312 | -1.339670 | 1.3144928 | -0.28673092 |  1.1913963 | -1.3059445 |  0.37146329 | -0.4349749 | 0.2904381 | -1.0892887 | ... | -4.927307e-08 | -4.586669e-08 | -5.256553e-08 | -1.441592e-07 | 6.484804e-08 |  1.629817e-09 | 5.139111e-10 | 3.796691e-13 |  2.076405e-14 |  3.713948e-13 |\n",
       "\n"
      ],
      "text/plain": [
       "                           PC1       PC2       PC3       PC4         PC5       \n",
       "Leukemia:CHP_319_X05-PBMC  -1.832848 -1.848061 1.5108913 -0.49758730  1.2475238\n",
       "Leukemia:CHP_323_X03-PBMC  -1.695182 -1.546052 0.8125126  0.82635255  1.3400379\n",
       "Leukemia:CHP_323_X03-cfDNA -1.366894 -1.385488 1.1380872 -0.72678739 -0.2197026\n",
       "Leukemia:CHP_323_X05-PBMC  -1.817785 -1.767662 1.3588968 -0.06781653  1.2968171\n",
       "Leukemia:CHP_323_X05-cfDNA -1.834019 -1.854525 1.5039276 -0.45283254  1.2292121\n",
       "Leukemia:CHP_326_X05-cfDNA -1.814312 -1.339670 1.3144928 -0.28673092  1.1913963\n",
       "                           PC6        PC7         PC8        PC9      \n",
       "Leukemia:CHP_319_X05-PBMC  -1.1360350  0.31823413 -0.4143386 0.6170181\n",
       "Leukemia:CHP_323_X03-PBMC  -0.8997030  0.41926939  0.8133113 0.8203821\n",
       "Leukemia:CHP_323_X03-cfDNA -0.6123179 -0.16907199 -0.3350745 0.6239349\n",
       "Leukemia:CHP_323_X05-PBMC  -0.9912957  0.08897417 -0.3813115 0.6998146\n",
       "Leukemia:CHP_323_X05-cfDNA -1.0240096  0.41719095 -0.4801349 0.6323353\n",
       "Leukemia:CHP_326_X05-cfDNA -1.3059445  0.37146329 -0.4349749 0.2904381\n",
       "                           PC10       ... PC401         PC402        \n",
       "Leukemia:CHP_319_X05-PBMC  -1.0179550 ...  2.669408e-06  5.670315e-07\n",
       "Leukemia:CHP_323_X03-PBMC  -1.2305051 ...  1.041408e-08  1.025073e-09\n",
       "Leukemia:CHP_323_X03-cfDNA -0.5601353 ... -1.273392e-10  1.131420e-09\n",
       "Leukemia:CHP_323_X05-PBMC  -1.1352729 ...  1.802349e-08  1.154930e-09\n",
       "Leukemia:CHP_323_X05-cfDNA -1.0474976 ...  2.579343e-09  2.089269e-10\n",
       "Leukemia:CHP_326_X05-cfDNA -1.0892887 ... -4.927307e-08 -4.586669e-08\n",
       "                           PC403         PC404         PC405       \n",
       "Leukemia:CHP_319_X05-PBMC   2.964113e-07  2.895842e-07 7.670149e-07\n",
       "Leukemia:CHP_323_X03-PBMC  -5.162535e-11 -9.601026e-11 4.679352e-10\n",
       "Leukemia:CHP_323_X03-cfDNA -1.550594e-09 -2.905974e-09 1.753213e-09\n",
       "Leukemia:CHP_323_X05-PBMC  -1.631466e-10  5.320026e-10 8.046112e-10\n",
       "Leukemia:CHP_323_X05-cfDNA  6.295258e-10  4.570877e-10 7.234622e-10\n",
       "Leukemia:CHP_326_X05-cfDNA -5.256553e-08 -1.441592e-07 6.484804e-08\n",
       "                           PC406         PC407        PC408       \n",
       "Leukemia:CHP_319_X05-PBMC   2.819900e-08 2.735590e-08 5.498801e-13\n",
       "Leukemia:CHP_323_X03-PBMC   8.000886e-11 2.667992e-11 1.227782e-12\n",
       "Leukemia:CHP_323_X03-cfDNA  7.181918e-11 1.257699e-11 1.572636e-13\n",
       "Leukemia:CHP_323_X05-PBMC  -8.617327e-11 1.554410e-11 4.395170e-13\n",
       "Leukemia:CHP_323_X05-cfDNA  8.061983e-11 3.758555e-11 5.064426e-13\n",
       "Leukemia:CHP_326_X05-cfDNA  1.629817e-09 5.139111e-10 3.796691e-13\n",
       "                           PC409         PC410        \n",
       "Leukemia:CHP_319_X05-PBMC   1.779233e-15  2.433906e-14\n",
       "Leukemia:CHP_323_X03-PBMC   4.196931e-14  2.528275e-14\n",
       "Leukemia:CHP_323_X03-cfDNA -1.202917e-14  4.294039e-13\n",
       "Leukemia:CHP_323_X05-PBMC   9.237343e-14 -6.303549e-14\n",
       "Leukemia:CHP_323_X05-cfDNA  1.320639e-13 -7.209537e-13\n",
       "Leukemia:CHP_326_X05-cfDNA  2.076405e-14  3.713948e-13"
      ]
     },
     "metadata": {},
     "output_type": "display_data"
    }
   ],
   "source": [
    "head(mypca)"
   ]
  },
  {
   "cell_type": "code",
   "execution_count": 26,
   "metadata": {
    "vscode": {
     "languageId": "r"
    }
   },
   "outputs": [],
   "source": [
    "tcr_df_min2$GLIPH_PC1 <- mypca[ match(tcr_df_min2$samplename,  rownames(mypca)) , \"PC1\"]\n",
    "tcr_df_min2$GLIPH_PC2 <- mypca[ match(tcr_df_min2$samplename,  rownames(mypca)) , \"PC2\"]"
   ]
  },
  {
   "cell_type": "code",
   "execution_count": 27,
   "metadata": {
    "vscode": {
     "languageId": "r"
    }
   },
   "outputs": [
    {
     "data": {
      "text/html": [
       "<table class=\"dataframe\">\n",
       "<caption>A data.frame: 6 x 126</caption>\n",
       "<thead>\n",
       "\t<tr><th></th><th scope=col>sample_id</th><th scope=col>Patient</th><th scope=col>cycle</th><th scope=col>FOLD</th><th scope=col>ATC</th><th scope=col>Age</th><th scope=col>Disease_type</th><th scope=col>TE_fold</th><th scope=col>CD3</th><th scope=col>EM</th><th scope=col>...</th><th scope=col>cfDNA_samplename</th><th scope=col>cfDNA_gliph_n</th><th scope=col>cfDNA_CMV</th><th scope=col>cfDNA_EBV</th><th scope=col>cfDNA_HCV</th><th scope=col>cfDNA_Flu</th><th scope=col>cfDNA_hs</th><th scope=col>cyclenum</th><th scope=col>GLIPH_PC1</th><th scope=col>GLIPH_PC2</th></tr>\n",
       "\t<tr><th></th><th scope=col>&lt;chr&gt;</th><th scope=col>&lt;chr&gt;</th><th scope=col>&lt;chr&gt;</th><th scope=col>&lt;dbl&gt;</th><th scope=col>&lt;dbl&gt;</th><th scope=col>&lt;dbl&gt;</th><th scope=col>&lt;chr&gt;</th><th scope=col>&lt;dbl&gt;</th><th scope=col>&lt;int&gt;</th><th scope=col>&lt;int&gt;</th><th scope=col>...</th><th scope=col>&lt;chr&gt;</th><th scope=col>&lt;dbl&gt;</th><th scope=col>&lt;dbl&gt;</th><th scope=col>&lt;dbl&gt;</th><th scope=col>&lt;dbl&gt;</th><th scope=col>&lt;dbl&gt;</th><th scope=col>&lt;dbl&gt;</th><th scope=col>&lt;dbl&gt;</th><th scope=col>&lt;dbl&gt;</th><th scope=col>&lt;dbl&gt;</th></tr>\n",
       "</thead>\n",
       "<tbody>\n",
       "\t<tr><th scope=row>320</th><td>CHP_323_03</td><td>CHP_323</td><td>X03</td><td>0</td><td>786.24</td><td>1</td><td>HR ALL</td><td>0</td><td>0</td><td>NA</td><td>...</td><td>Leukemia:CHP_323_X03-cfDNA</td><td>71</td><td> 8</td><td> 2</td><td> 0</td><td> 5</td><td> 1</td><td>3</td><td>-1.695182</td><td>-1.5460521</td></tr>\n",
       "\t<tr><th scope=row>322</th><td>CHP_323_05</td><td>CHP_323</td><td>X05</td><td>0</td><td>979.50</td><td>1</td><td>HR ALL</td><td>0</td><td>0</td><td>NA</td><td>...</td><td>Leukemia:CHP_323_X05-cfDNA</td><td> 9</td><td> 0</td><td> 0</td><td> 0</td><td> 0</td><td> 0</td><td>5</td><td>-1.817785</td><td>-1.7676623</td></tr>\n",
       "\t<tr><th scope=row>346</th><td>CHP_328_04</td><td>CHP_328</td><td>X04</td><td>0</td><td>130.82</td><td>7</td><td>SR ALL</td><td>0</td><td>0</td><td>NA</td><td>...</td><td>NA                        </td><td>NA</td><td>NA</td><td>NA</td><td>NA</td><td>NA</td><td>NA</td><td>4</td><td> 1.201478</td><td> 4.0826196</td></tr>\n",
       "\t<tr><th scope=row>347</th><td>CHP_328_05</td><td>CHP_328</td><td>X05</td><td>0</td><td> 91.16</td><td>7</td><td>SR ALL</td><td>0</td><td>0</td><td>NA</td><td>...</td><td>Leukemia:CHP_328_X05-cfDNA</td><td> 0</td><td> 0</td><td> 0</td><td> 0</td><td> 0</td><td> 0</td><td>5</td><td>-1.041710</td><td>-0.6360027</td></tr>\n",
       "\t<tr><th scope=row>361</th><td>CHP_331_04</td><td>CHP_331</td><td>X04</td><td>0</td><td>  0.00</td><td>5</td><td>SR ALL</td><td>0</td><td>0</td><td>NA</td><td>...</td><td>NA                        </td><td>NA</td><td>NA</td><td>NA</td><td>NA</td><td>NA</td><td>NA</td><td>4</td><td>-1.844016</td><td>-1.8657837</td></tr>\n",
       "\t<tr><th scope=row>362</th><td>CHP_331_05</td><td>CHP_331</td><td>X05</td><td>0</td><td>  0.00</td><td>5</td><td>SR ALL</td><td>0</td><td>0</td><td>NA</td><td>...</td><td>Leukemia:CHP_331_X05-cfDNA</td><td>15</td><td> 0</td><td> 0</td><td> 0</td><td> 0</td><td> 0</td><td>5</td><td>-1.729523</td><td>-1.7568730</td></tr>\n",
       "</tbody>\n",
       "</table>\n"
      ],
      "text/latex": [
       "A data.frame: 6 x 126\n",
       "\\begin{tabular}{r|lllllllllllllllllllll}\n",
       "  & sample\\_id & Patient & cycle & FOLD & ATC & Age & Disease\\_type & TE\\_fold & CD3 & EM & ... & cfDNA\\_samplename & cfDNA\\_gliph\\_n & cfDNA\\_CMV & cfDNA\\_EBV & cfDNA\\_HCV & cfDNA\\_Flu & cfDNA\\_hs & cyclenum & GLIPH\\_PC1 & GLIPH\\_PC2\\\\\n",
       "  & <chr> & <chr> & <chr> & <dbl> & <dbl> & <dbl> & <chr> & <dbl> & <int> & <int> & ... & <chr> & <dbl> & <dbl> & <dbl> & <dbl> & <dbl> & <dbl> & <dbl> & <dbl> & <dbl>\\\\\n",
       "\\hline\n",
       "\t320 & CHP\\_323\\_03 & CHP\\_323 & X03 & 0 & 786.24 & 1 & HR ALL & 0 & 0 & NA & ... & Leukemia:CHP\\_323\\_X03-cfDNA & 71 &  8 &  2 &  0 &  5 &  1 & 3 & -1.695182 & -1.5460521\\\\\n",
       "\t322 & CHP\\_323\\_05 & CHP\\_323 & X05 & 0 & 979.50 & 1 & HR ALL & 0 & 0 & NA & ... & Leukemia:CHP\\_323\\_X05-cfDNA &  9 &  0 &  0 &  0 &  0 &  0 & 5 & -1.817785 & -1.7676623\\\\\n",
       "\t346 & CHP\\_328\\_04 & CHP\\_328 & X04 & 0 & 130.82 & 7 & SR ALL & 0 & 0 & NA & ... & NA                         & NA & NA & NA & NA & NA & NA & 4 &  1.201478 &  4.0826196\\\\\n",
       "\t347 & CHP\\_328\\_05 & CHP\\_328 & X05 & 0 &  91.16 & 7 & SR ALL & 0 & 0 & NA & ... & Leukemia:CHP\\_328\\_X05-cfDNA &  0 &  0 &  0 &  0 &  0 &  0 & 5 & -1.041710 & -0.6360027\\\\\n",
       "\t361 & CHP\\_331\\_04 & CHP\\_331 & X04 & 0 &   0.00 & 5 & SR ALL & 0 & 0 & NA & ... & NA                         & NA & NA & NA & NA & NA & NA & 4 & -1.844016 & -1.8657837\\\\\n",
       "\t362 & CHP\\_331\\_05 & CHP\\_331 & X05 & 0 &   0.00 & 5 & SR ALL & 0 & 0 & NA & ... & Leukemia:CHP\\_331\\_X05-cfDNA & 15 &  0 &  0 &  0 &  0 &  0 & 5 & -1.729523 & -1.7568730\\\\\n",
       "\\end{tabular}\n"
      ],
      "text/markdown": [
       "\n",
       "A data.frame: 6 x 126\n",
       "\n",
       "| <!--/--> | sample_id &lt;chr&gt; | Patient &lt;chr&gt; | cycle &lt;chr&gt; | FOLD &lt;dbl&gt; | ATC &lt;dbl&gt; | Age &lt;dbl&gt; | Disease_type &lt;chr&gt; | TE_fold &lt;dbl&gt; | CD3 &lt;int&gt; | EM &lt;int&gt; | ... ... | cfDNA_samplename &lt;chr&gt; | cfDNA_gliph_n &lt;dbl&gt; | cfDNA_CMV &lt;dbl&gt; | cfDNA_EBV &lt;dbl&gt; | cfDNA_HCV &lt;dbl&gt; | cfDNA_Flu &lt;dbl&gt; | cfDNA_hs &lt;dbl&gt; | cyclenum &lt;dbl&gt; | GLIPH_PC1 &lt;dbl&gt; | GLIPH_PC2 &lt;dbl&gt; |\n",
       "|---|---|---|---|---|---|---|---|---|---|---|---|---|---|---|---|---|---|---|---|---|---|\n",
       "| 320 | CHP_323_03 | CHP_323 | X03 | 0 | 786.24 | 1 | HR ALL | 0 | 0 | NA | ... | Leukemia:CHP_323_X03-cfDNA | 71 |  8 |  2 |  0 |  5 |  1 | 3 | -1.695182 | -1.5460521 |\n",
       "| 322 | CHP_323_05 | CHP_323 | X05 | 0 | 979.50 | 1 | HR ALL | 0 | 0 | NA | ... | Leukemia:CHP_323_X05-cfDNA |  9 |  0 |  0 |  0 |  0 |  0 | 5 | -1.817785 | -1.7676623 |\n",
       "| 346 | CHP_328_04 | CHP_328 | X04 | 0 | 130.82 | 7 | SR ALL | 0 | 0 | NA | ... | NA                         | NA | NA | NA | NA | NA | NA | 4 |  1.201478 |  4.0826196 |\n",
       "| 347 | CHP_328_05 | CHP_328 | X05 | 0 |  91.16 | 7 | SR ALL | 0 | 0 | NA | ... | Leukemia:CHP_328_X05-cfDNA |  0 |  0 |  0 |  0 |  0 |  0 | 5 | -1.041710 | -0.6360027 |\n",
       "| 361 | CHP_331_04 | CHP_331 | X04 | 0 |   0.00 | 5 | SR ALL | 0 | 0 | NA | ... | NA                         | NA | NA | NA | NA | NA | NA | 4 | -1.844016 | -1.8657837 |\n",
       "| 362 | CHP_331_05 | CHP_331 | X05 | 0 |   0.00 | 5 | SR ALL | 0 | 0 | NA | ... | Leukemia:CHP_331_X05-cfDNA | 15 |  0 |  0 |  0 |  0 |  0 | 5 | -1.729523 | -1.7568730 |\n",
       "\n"
      ],
      "text/plain": [
       "    sample_id  Patient cycle FOLD ATC    Age Disease_type TE_fold CD3 EM ...\n",
       "320 CHP_323_03 CHP_323 X03   0    786.24 1   HR ALL       0       0   NA ...\n",
       "322 CHP_323_05 CHP_323 X05   0    979.50 1   HR ALL       0       0   NA ...\n",
       "346 CHP_328_04 CHP_328 X04   0    130.82 7   SR ALL       0       0   NA ...\n",
       "347 CHP_328_05 CHP_328 X05   0     91.16 7   SR ALL       0       0   NA ...\n",
       "361 CHP_331_04 CHP_331 X04   0      0.00 5   SR ALL       0       0   NA ...\n",
       "362 CHP_331_05 CHP_331 X05   0      0.00 5   SR ALL       0       0   NA ...\n",
       "    cfDNA_samplename           cfDNA_gliph_n cfDNA_CMV cfDNA_EBV cfDNA_HCV\n",
       "320 Leukemia:CHP_323_X03-cfDNA 71             8         2         0       \n",
       "322 Leukemia:CHP_323_X05-cfDNA  9             0         0         0       \n",
       "346 NA                         NA            NA        NA        NA       \n",
       "347 Leukemia:CHP_328_X05-cfDNA  0             0         0         0       \n",
       "361 NA                         NA            NA        NA        NA       \n",
       "362 Leukemia:CHP_331_X05-cfDNA 15             0         0         0       \n",
       "    cfDNA_Flu cfDNA_hs cyclenum GLIPH_PC1 GLIPH_PC2 \n",
       "320  5         1       3        -1.695182 -1.5460521\n",
       "322  0         0       5        -1.817785 -1.7676623\n",
       "346 NA        NA       4         1.201478  4.0826196\n",
       "347  0         0       5        -1.041710 -0.6360027\n",
       "361 NA        NA       4        -1.844016 -1.8657837\n",
       "362  0         0       5        -1.729523 -1.7568730"
      ]
     },
     "metadata": {},
     "output_type": "display_data"
    }
   ],
   "source": [
    "head(tcr_df_min2)"
   ]
  },
  {
   "cell_type": "code",
   "execution_count": 28,
   "metadata": {
    "vscode": {
     "languageId": "r"
    }
   },
   "outputs": [
    {
     "name": "stderr",
     "output_type": "stream",
     "text": [
      "Warning message:\n",
      "“\u001b[1m\u001b[22mThere were 4 warnings in `mutate()`.\n",
      "The first warning was:\n",
      "\u001b[1m\u001b[22m\u001b[36mℹ\u001b[39m In argument: `quantreg_log10shann = quantreg::rq(log10shann ~ cyclenum, tau =\n",
      "  0.5)$coef[2]/n()`.\n",
      "\u001b[36mℹ\u001b[39m In group 7: `Patient = \"CHP_343\"`.\n",
      "Caused by warning in `rq.fit.br()`:\n",
      "\u001b[33m!\u001b[39m Solution may be nonunique\n",
      "\u001b[1m\u001b[22m\u001b[36mℹ\u001b[39m Run `dplyr::last_dplyr_warnings()` to see the 3 remaining warnings.”\n"
     ]
    }
   ],
   "source": [
    "tcr_df_min2 <- tcr_df_min2 %>%\n",
    "group_by(Patient) %>%\n",
    "mutate(quantreg_log10shann = quantreg::rq(log10shann ~ cyclenum, tau = 0.5)$coef[2] / n() )  %>%\n",
    "# mutate(quantreg_gliph_n = quantreg::rq(gliph_n ~ cyclenum, tau = 0.5)$coef[2] / n() ) %>%\n",
    "# mutate(quantreg_V_PC1 = quantreg::rq( V_PC1 ~ cyclenum, tau = 0.5)$coef[2] / n() ) %>%\n",
    "# mutate(quantreg_V_PC2 = quantreg::rq( V_PC2 ~ cyclenum, tau = 0.5)$coef[2] / n() ) %>%\n",
    "# mutate(quantreg_J_PC1 = quantreg::rq( J_PC1 ~ cyclenum, tau = 0.5)$coef[2] / n() ) %>%\n",
    "# mutate(quantreg_J_PC2 = quantreg::rq( J_PC2 ~ cyclenum, tau = 0.5)$coef[2] / n() ) %>%\n",
    "# mutate(quantreg_GLIPH_PC1 = quantreg::rq( GLIPH_PC1 ~ cyclenum, tau = 0.5)$coef[2] / n() ) %>%\n",
    "# mutate(quantreg_GLIPH_PC2 = quantreg::rq( GLIPH_PC2 ~ cyclenum, tau = 0.5)$coef[2] / n() ) %>%\n",
    "\n",
    "ungroup()"
   ]
  },
  {
   "cell_type": "code",
   "execution_count": 29,
   "metadata": {
    "vscode": {
     "languageId": "r"
    }
   },
   "outputs": [
    {
     "name": "stderr",
     "output_type": "stream",
     "text": [
      "Warning message:\n",
      "“\u001b[1m\u001b[22mThere were 4 warnings in `mutate()`.\n",
      "The first warning was:\n",
      "\u001b[1m\u001b[22m\u001b[36mℹ\u001b[39m In argument: `quantreg_TIM = quantreg::rq(`TIM3%` ~ cyclenum, tau =\n",
      "  0.5)$coef[2]/n()`.\n",
      "\u001b[36mℹ\u001b[39m In group 3: `Patient = \"CHP_343\"`.\n",
      "Caused by warning in `rq.fit.br()`:\n",
      "\u001b[33m!\u001b[39m Solution may be nonunique\n",
      "\u001b[1m\u001b[22m\u001b[36mℹ\u001b[39m Run `dplyr::last_dplyr_warnings()` to see the 3 remaining warnings.”\n",
      "Warning message:\n",
      "“\u001b[1m\u001b[22mThere were 6 warnings in `mutate()`.\n",
      "The first warning was:\n",
      "\u001b[1m\u001b[22m\u001b[36mℹ\u001b[39m In argument: `quantreg_LAG = quantreg::rq(`LAG3%` ~ cyclenum, tau =\n",
      "  0.5)$coef[2]/n()`.\n",
      "\u001b[36mℹ\u001b[39m In group 3: `Patient = \"CHP_343\"`.\n",
      "Caused by warning in `rq.fit.br()`:\n",
      "\u001b[33m!\u001b[39m Solution may be nonunique\n",
      "\u001b[1m\u001b[22m\u001b[36mℹ\u001b[39m Run `dplyr::last_dplyr_warnings()` to see the 5 remaining warnings.”\n",
      "Warning message:\n",
      "“\u001b[1m\u001b[22mThere were 4 warnings in `mutate()`.\n",
      "The first warning was:\n",
      "\u001b[1m\u001b[22m\u001b[36mℹ\u001b[39m In argument: `quantreg_PD1 = quantreg::rq(`PD1%` ~ cyclenum, tau =\n",
      "  0.5)$coef[2]/n()`.\n",
      "\u001b[36mℹ\u001b[39m In group 3: `Patient = \"CHP_343\"`.\n",
      "Caused by warning in `rq.fit.br()`:\n",
      "\u001b[33m!\u001b[39m Solution may be nonunique\n",
      "\u001b[1m\u001b[22m\u001b[36mℹ\u001b[39m Run `dplyr::last_dplyr_warnings()` to see the 3 remaining warnings.”\n"
     ]
    }
   ],
   "source": [
    "ncr_df_min2 <- ncr_df_min2 %>%\n",
    "group_by(Patient) %>%\n",
    "mutate(quantreg_TIM = quantreg::rq(`TIM3%` ~ cyclenum, tau = 0.5)$coef[2] / n()) %>%\n",
    "mutate(quantreg_LAG = quantreg::rq(`LAG3%` ~ cyclenum, tau = 0.5)$coef[2] / n() ) %>%\n",
    "mutate(quantreg_PD1 = quantreg::rq( `PD1%` ~ cyclenum, tau = 0.5)$coef[2] / n() ) %>%\n",
    "ungroup()"
   ]
  },
  {
   "cell_type": "code",
   "execution_count": 30,
   "metadata": {
    "vscode": {
     "languageId": "r"
    }
   },
   "outputs": [
    {
     "name": "stderr",
     "output_type": "stream",
     "text": [
      "Warning message:\n",
      "“\u001b[1m\u001b[22mThere were 5 warnings in `mutate()`.\n",
      "The first warning was:\n",
      "\u001b[1m\u001b[22m\u001b[36mℹ\u001b[39m In argument: `quantreg_N = quantreg::rq(`Naïve%` ~ cyclenum, tau =\n",
      "  0.5)$coef[2]/n()`.\n",
      "\u001b[36mℹ\u001b[39m In group 4: `Patient = \"CHP_347\"`.\n",
      "Caused by warning in `rq.fit.br()`:\n",
      "\u001b[33m!\u001b[39m Solution may be nonunique\n",
      "\u001b[1m\u001b[22m\u001b[36mℹ\u001b[39m Run `dplyr::last_dplyr_warnings()` to see the 4 remaining warnings.”\n",
      "Warning message:\n",
      "“\u001b[1m\u001b[22mThere were 7 warnings in `mutate()`.\n",
      "The first warning was:\n",
      "\u001b[1m\u001b[22m\u001b[36mℹ\u001b[39m In argument: `quantreg_CM = quantreg::rq(`CM%` ~ cyclenum, tau =\n",
      "  0.5)$coef[2]/n()`.\n",
      "\u001b[36mℹ\u001b[39m In group 2: `Patient = \"CHP_332\"`.\n",
      "Caused by warning in `rq.fit.br()`:\n",
      "\u001b[33m!\u001b[39m Solution may be nonunique\n",
      "\u001b[1m\u001b[22m\u001b[36mℹ\u001b[39m Run `dplyr::last_dplyr_warnings()` to see the 6 remaining warnings.”\n",
      "Warning message:\n",
      "“\u001b[1m\u001b[22mThere were 7 warnings in `mutate()`.\n",
      "The first warning was:\n",
      "\u001b[1m\u001b[22m\u001b[36mℹ\u001b[39m In argument: `quantreg_SCM = quantreg::rq(`SCM%` ~ cyclenum, tau =\n",
      "  0.5)$coef[2]/n()`.\n",
      "\u001b[36mℹ\u001b[39m In group 2: `Patient = \"CHP_332\"`.\n",
      "Caused by warning in `rq.fit.br()`:\n",
      "\u001b[33m!\u001b[39m Solution may be nonunique\n",
      "\u001b[1m\u001b[22m\u001b[36mℹ\u001b[39m Run `dplyr::last_dplyr_warnings()` to see the 6 remaining warnings.”\n",
      "Warning message:\n",
      "“\u001b[1m\u001b[22mThere were 5 warnings in `mutate()`.\n",
      "The first warning was:\n",
      "\u001b[1m\u001b[22m\u001b[36mℹ\u001b[39m In argument: `quantreg_EM = quantreg::rq(`EM%` ~ cyclenum, tau =\n",
      "  0.5)$coef[2]/n()`.\n",
      "\u001b[36mℹ\u001b[39m In group 2: `Patient = \"CHP_332\"`.\n",
      "Caused by warning in `rq.fit.br()`:\n",
      "\u001b[33m!\u001b[39m Solution may be nonunique\n",
      "\u001b[1m\u001b[22m\u001b[36mℹ\u001b[39m Run `dplyr::last_dplyr_warnings()` to see the 4 remaining warnings.”\n",
      "Warning message:\n",
      "“\u001b[1m\u001b[22mThere were 6 warnings in `mutate()`.\n",
      "The first warning was:\n",
      "\u001b[1m\u001b[22m\u001b[36mℹ\u001b[39m In argument: `quantreg_TE = quantreg::rq(`TE%` ~ cyclenum, tau =\n",
      "  0.5)$coef[2]/n()`.\n",
      "\u001b[36mℹ\u001b[39m In group 2: `Patient = \"CHP_332\"`.\n",
      "Caused by warning in `rq.fit.br()`:\n",
      "\u001b[33m!\u001b[39m Solution may be nonunique\n",
      "\u001b[1m\u001b[22m\u001b[36mℹ\u001b[39m Run `dplyr::last_dplyr_warnings()` to see the 5 remaining warnings.”\n"
     ]
    }
   ],
   "source": [
    "flow_df_min2 <- flow_df_min2 %>%\n",
    "group_by(Patient) %>%\n",
    "mutate(quantreg_N = quantreg::rq(`Naïve%` ~ cyclenum, tau = 0.5)$coef[2] / n() ) %>%\n",
    "mutate(quantreg_CM = quantreg::rq(`CM%` ~ cyclenum, tau = 0.5)$coef[2]  / n()) %>%\n",
    "mutate(quantreg_SCM = quantreg::rq( `SCM%` ~ cyclenum, tau = 0.5)$coef[2] / n() ) %>%\n",
    "mutate(quantreg_EM = quantreg::rq( `EM%` ~ cyclenum, tau = 0.5)$coef[2] / n()) %>%\n",
    "mutate(quantreg_TE = quantreg::rq( `TE%` ~ cyclenum, tau = 0.5)$coef[2] / n() ) %>%\n",
    "ungroup()"
   ]
  },
  {
   "cell_type": "code",
   "execution_count": 31,
   "metadata": {
    "vscode": {
     "languageId": "r"
    }
   },
   "outputs": [
    {
     "data": {
      "text/html": [
       "<table class=\"dataframe\">\n",
       "<caption>A tibble: 6 x 129</caption>\n",
       "<thead>\n",
       "\t<tr><th scope=col>sample_id</th><th scope=col>Patient</th><th scope=col>cycle</th><th scope=col>FOLD</th><th scope=col>ATC</th><th scope=col>Age</th><th scope=col>Disease_type</th><th scope=col>TE_fold</th><th scope=col>CD3</th><th scope=col>EM</th><th scope=col>...</th><th scope=col>cfDNA_EBV</th><th scope=col>cfDNA_HCV</th><th scope=col>cfDNA_Flu</th><th scope=col>cfDNA_hs</th><th scope=col>cyclenum</th><th scope=col>quantreg_N</th><th scope=col>quantreg_CM</th><th scope=col>quantreg_SCM</th><th scope=col>quantreg_EM</th><th scope=col>quantreg_TE</th></tr>\n",
       "\t<tr><th scope=col>&lt;chr&gt;</th><th scope=col>&lt;chr&gt;</th><th scope=col>&lt;chr&gt;</th><th scope=col>&lt;dbl&gt;</th><th scope=col>&lt;dbl&gt;</th><th scope=col>&lt;dbl&gt;</th><th scope=col>&lt;chr&gt;</th><th scope=col>&lt;dbl&gt;</th><th scope=col>&lt;int&gt;</th><th scope=col>&lt;int&gt;</th><th scope=col>...</th><th scope=col>&lt;dbl&gt;</th><th scope=col>&lt;dbl&gt;</th><th scope=col>&lt;dbl&gt;</th><th scope=col>&lt;dbl&gt;</th><th scope=col>&lt;dbl&gt;</th><th scope=col>&lt;dbl&gt;</th><th scope=col>&lt;dbl&gt;</th><th scope=col>&lt;dbl&gt;</th><th scope=col>&lt;dbl&gt;</th><th scope=col>&lt;dbl&gt;</th></tr>\n",
       "</thead>\n",
       "<tbody>\n",
       "\t<tr><td>CHP_343_02</td><td>CHP_343</td><td>X02</td><td> 0.3</td><td> 459.04</td><td> 8</td><td>EWS</td><td> 0.3</td><td>1135</td><td> 16</td><td>...</td><td> 0</td><td> 0</td><td> 0</td><td> 0</td><td>2</td><td> 0.1026273</td><td> 2.8897801</td><td>-0.6594274</td><td> 0.4025038</td><td>-2.940411</td></tr>\n",
       "\t<tr><td>CHP_343_03</td><td>CHP_343</td><td>X03</td><td> 0.6</td><td> 370.30</td><td> 8</td><td>EWS</td><td> 0.6</td><td>1650</td><td> 16</td><td>...</td><td>NA</td><td>NA</td><td>NA</td><td>NA</td><td>3</td><td> 0.1026273</td><td> 2.8897801</td><td>-0.6594274</td><td> 0.4025038</td><td>-2.940411</td></tr>\n",
       "\t<tr><td>CHP_343_04</td><td>CHP_343</td><td>X04</td><td> 1.5</td><td> 536.63</td><td> 8</td><td>EWS</td><td> 1.5</td><td>2612</td><td>146</td><td>...</td><td> 0</td><td> 0</td><td> 0</td><td> 0</td><td>4</td><td> 0.1026273</td><td> 2.8897801</td><td>-0.6594274</td><td> 0.4025038</td><td>-2.940411</td></tr>\n",
       "\t<tr><td>CHP_343_05</td><td>CHP_343</td><td>X05</td><td> 2.1</td><td> 371.20</td><td> 8</td><td>EWS</td><td> 2.1</td><td>2436</td><td>152</td><td>...</td><td> 0</td><td> 0</td><td> 0</td><td> 0</td><td>5</td><td> 0.1026273</td><td> 2.8897801</td><td>-0.6594274</td><td> 0.4025038</td><td>-2.940411</td></tr>\n",
       "\t<tr><td>CHP_347_02</td><td>CHP_347</td><td>X02</td><td> 6.4</td><td>1038.59</td><td>13</td><td>ALL</td><td> 6.4</td><td> 927</td><td> 15</td><td>...</td><td> 0</td><td> 0</td><td> 0</td><td> 0</td><td>2</td><td>-0.6003918</td><td>-0.6090838</td><td>-1.0940369</td><td>-0.1080237</td><td> 2.652185</td></tr>\n",
       "\t<tr><td>CHP_347_03</td><td>CHP_347</td><td>X03</td><td>37.6</td><td> 768.80</td><td>13</td><td>ALL</td><td>37.6</td><td>2379</td><td> 27</td><td>...</td><td> 0</td><td> 0</td><td> 0</td><td> 0</td><td>3</td><td>-0.6003918</td><td>-0.6090838</td><td>-1.0940369</td><td>-0.1080237</td><td> 2.652185</td></tr>\n",
       "</tbody>\n",
       "</table>\n"
      ],
      "text/latex": [
       "A tibble: 6 x 129\n",
       "\\begin{tabular}{lllllllllllllllllllll}\n",
       " sample\\_id & Patient & cycle & FOLD & ATC & Age & Disease\\_type & TE\\_fold & CD3 & EM & ... & cfDNA\\_EBV & cfDNA\\_HCV & cfDNA\\_Flu & cfDNA\\_hs & cyclenum & quantreg\\_N & quantreg\\_CM & quantreg\\_SCM & quantreg\\_EM & quantreg\\_TE\\\\\n",
       " <chr> & <chr> & <chr> & <dbl> & <dbl> & <dbl> & <chr> & <dbl> & <int> & <int> & ... & <dbl> & <dbl> & <dbl> & <dbl> & <dbl> & <dbl> & <dbl> & <dbl> & <dbl> & <dbl>\\\\\n",
       "\\hline\n",
       "\t CHP\\_343\\_02 & CHP\\_343 & X02 &  0.3 &  459.04 &  8 & EWS &  0.3 & 1135 &  16 & ... &  0 &  0 &  0 &  0 & 2 &  0.1026273 &  2.8897801 & -0.6594274 &  0.4025038 & -2.940411\\\\\n",
       "\t CHP\\_343\\_03 & CHP\\_343 & X03 &  0.6 &  370.30 &  8 & EWS &  0.6 & 1650 &  16 & ... & NA & NA & NA & NA & 3 &  0.1026273 &  2.8897801 & -0.6594274 &  0.4025038 & -2.940411\\\\\n",
       "\t CHP\\_343\\_04 & CHP\\_343 & X04 &  1.5 &  536.63 &  8 & EWS &  1.5 & 2612 & 146 & ... &  0 &  0 &  0 &  0 & 4 &  0.1026273 &  2.8897801 & -0.6594274 &  0.4025038 & -2.940411\\\\\n",
       "\t CHP\\_343\\_05 & CHP\\_343 & X05 &  2.1 &  371.20 &  8 & EWS &  2.1 & 2436 & 152 & ... &  0 &  0 &  0 &  0 & 5 &  0.1026273 &  2.8897801 & -0.6594274 &  0.4025038 & -2.940411\\\\\n",
       "\t CHP\\_347\\_02 & CHP\\_347 & X02 &  6.4 & 1038.59 & 13 & ALL &  6.4 &  927 &  15 & ... &  0 &  0 &  0 &  0 & 2 & -0.6003918 & -0.6090838 & -1.0940369 & -0.1080237 &  2.652185\\\\\n",
       "\t CHP\\_347\\_03 & CHP\\_347 & X03 & 37.6 &  768.80 & 13 & ALL & 37.6 & 2379 &  27 & ... &  0 &  0 &  0 &  0 & 3 & -0.6003918 & -0.6090838 & -1.0940369 & -0.1080237 &  2.652185\\\\\n",
       "\\end{tabular}\n"
      ],
      "text/markdown": [
       "\n",
       "A tibble: 6 x 129\n",
       "\n",
       "| sample_id &lt;chr&gt; | Patient &lt;chr&gt; | cycle &lt;chr&gt; | FOLD &lt;dbl&gt; | ATC &lt;dbl&gt; | Age &lt;dbl&gt; | Disease_type &lt;chr&gt; | TE_fold &lt;dbl&gt; | CD3 &lt;int&gt; | EM &lt;int&gt; | ... ... | cfDNA_EBV &lt;dbl&gt; | cfDNA_HCV &lt;dbl&gt; | cfDNA_Flu &lt;dbl&gt; | cfDNA_hs &lt;dbl&gt; | cyclenum &lt;dbl&gt; | quantreg_N &lt;dbl&gt; | quantreg_CM &lt;dbl&gt; | quantreg_SCM &lt;dbl&gt; | quantreg_EM &lt;dbl&gt; | quantreg_TE &lt;dbl&gt; |\n",
       "|---|---|---|---|---|---|---|---|---|---|---|---|---|---|---|---|---|---|---|---|---|\n",
       "| CHP_343_02 | CHP_343 | X02 |  0.3 |  459.04 |  8 | EWS |  0.3 | 1135 |  16 | ... |  0 |  0 |  0 |  0 | 2 |  0.1026273 |  2.8897801 | -0.6594274 |  0.4025038 | -2.940411 |\n",
       "| CHP_343_03 | CHP_343 | X03 |  0.6 |  370.30 |  8 | EWS |  0.6 | 1650 |  16 | ... | NA | NA | NA | NA | 3 |  0.1026273 |  2.8897801 | -0.6594274 |  0.4025038 | -2.940411 |\n",
       "| CHP_343_04 | CHP_343 | X04 |  1.5 |  536.63 |  8 | EWS |  1.5 | 2612 | 146 | ... |  0 |  0 |  0 |  0 | 4 |  0.1026273 |  2.8897801 | -0.6594274 |  0.4025038 | -2.940411 |\n",
       "| CHP_343_05 | CHP_343 | X05 |  2.1 |  371.20 |  8 | EWS |  2.1 | 2436 | 152 | ... |  0 |  0 |  0 |  0 | 5 |  0.1026273 |  2.8897801 | -0.6594274 |  0.4025038 | -2.940411 |\n",
       "| CHP_347_02 | CHP_347 | X02 |  6.4 | 1038.59 | 13 | ALL |  6.4 |  927 |  15 | ... |  0 |  0 |  0 |  0 | 2 | -0.6003918 | -0.6090838 | -1.0940369 | -0.1080237 |  2.652185 |\n",
       "| CHP_347_03 | CHP_347 | X03 | 37.6 |  768.80 | 13 | ALL | 37.6 | 2379 |  27 | ... |  0 |  0 |  0 |  0 | 3 | -0.6003918 | -0.6090838 | -1.0940369 | -0.1080237 |  2.652185 |\n",
       "\n"
      ],
      "text/plain": [
       "  sample_id  Patient cycle FOLD ATC     Age Disease_type TE_fold CD3  EM  ...\n",
       "1 CHP_343_02 CHP_343 X02    0.3  459.04  8  EWS           0.3    1135  16 ...\n",
       "2 CHP_343_03 CHP_343 X03    0.6  370.30  8  EWS           0.6    1650  16 ...\n",
       "3 CHP_343_04 CHP_343 X04    1.5  536.63  8  EWS           1.5    2612 146 ...\n",
       "4 CHP_343_05 CHP_343 X05    2.1  371.20  8  EWS           2.1    2436 152 ...\n",
       "5 CHP_347_02 CHP_347 X02    6.4 1038.59 13  ALL           6.4     927  15 ...\n",
       "6 CHP_347_03 CHP_347 X03   37.6  768.80 13  ALL          37.6    2379  27 ...\n",
       "  cfDNA_EBV cfDNA_HCV cfDNA_Flu cfDNA_hs cyclenum quantreg_N quantreg_CM\n",
       "1  0         0         0         0       2         0.1026273  2.8897801 \n",
       "2 NA        NA        NA        NA       3         0.1026273  2.8897801 \n",
       "3  0         0         0         0       4         0.1026273  2.8897801 \n",
       "4  0         0         0         0       5         0.1026273  2.8897801 \n",
       "5  0         0         0         0       2        -0.6003918 -0.6090838 \n",
       "6  0         0         0         0       3        -0.6003918 -0.6090838 \n",
       "  quantreg_SCM quantreg_EM quantreg_TE\n",
       "1 -0.6594274    0.4025038  -2.940411  \n",
       "2 -0.6594274    0.4025038  -2.940411  \n",
       "3 -0.6594274    0.4025038  -2.940411  \n",
       "4 -0.6594274    0.4025038  -2.940411  \n",
       "5 -1.0940369   -0.1080237   2.652185  \n",
       "6 -1.0940369   -0.1080237   2.652185  "
      ]
     },
     "metadata": {},
     "output_type": "display_data"
    }
   ],
   "source": [
    "head(flow_df_min2)"
   ]
  },
  {
   "cell_type": "code",
   "execution_count": 32,
   "metadata": {
    "vscode": {
     "languageId": "r"
    }
   },
   "outputs": [],
   "source": [
    "flow_df_min2_pt <- flow_df_min2[ !duplicated(flow_df_min2$Patient), ]\n",
    "ncr_df_min2_pt <- ncr_df_min2[ !duplicated(ncr_df_min2$Patient), ]\n",
    "tcr_df_min2_pt <- tcr_df_min2[ !duplicated(tcr_df_min2$Patient), ]"
   ]
  },
  {
   "cell_type": "code",
   "execution_count": 33,
   "metadata": {
    "vscode": {
     "languageId": "r"
    }
   },
   "outputs": [],
   "source": [
    "# merge all the dataframes, allow NAs to include all data\n",
    "df_min2_pt <- merge(flow_df_min2_pt, ncr_df_min2_pt, by = c(\"Patient\", \"cancergroup\"), all = TRUE)\n",
    "df_min2_pt <- merge(df_min2_pt, tcr_df_min2_pt, by = c(\"Patient\", \"cancergroup\"), all = TRUE)"
   ]
  },
  {
   "cell_type": "code",
   "execution_count": 34,
   "metadata": {
    "vscode": {
     "languageId": "r"
    }
   },
   "outputs": [
    {
     "data": {
      "text/html": [
       "<table class=\"dataframe\">\n",
       "<caption>A data.frame: 6 x 379</caption>\n",
       "<thead>\n",
       "\t<tr><th></th><th scope=col>Patient</th><th scope=col>cancergroup</th><th scope=col>sample_id.x</th><th scope=col>cycle.x</th><th scope=col>FOLD.x</th><th scope=col>ATC.x</th><th scope=col>Age.x</th><th scope=col>Disease_type.x</th><th scope=col>TE_fold.x</th><th scope=col>CD3.x</th><th scope=col>...</th><th scope=col>cfDNA_gliph_n</th><th scope=col>cfDNA_CMV</th><th scope=col>cfDNA_EBV</th><th scope=col>cfDNA_HCV</th><th scope=col>cfDNA_Flu</th><th scope=col>cfDNA_hs</th><th scope=col>cyclenum</th><th scope=col>GLIPH_PC1</th><th scope=col>GLIPH_PC2</th><th scope=col>quantreg_log10shann</th></tr>\n",
       "\t<tr><th></th><th scope=col>&lt;chr&gt;</th><th scope=col>&lt;chr&gt;</th><th scope=col>&lt;chr&gt;</th><th scope=col>&lt;chr&gt;</th><th scope=col>&lt;dbl&gt;</th><th scope=col>&lt;dbl&gt;</th><th scope=col>&lt;dbl&gt;</th><th scope=col>&lt;chr&gt;</th><th scope=col>&lt;dbl&gt;</th><th scope=col>&lt;int&gt;</th><th scope=col>...</th><th scope=col>&lt;dbl&gt;</th><th scope=col>&lt;dbl&gt;</th><th scope=col>&lt;dbl&gt;</th><th scope=col>&lt;dbl&gt;</th><th scope=col>&lt;dbl&gt;</th><th scope=col>&lt;dbl&gt;</th><th scope=col>&lt;dbl&gt;</th><th scope=col>&lt;dbl&gt;</th><th scope=col>&lt;dbl&gt;</th><th scope=col>&lt;dbl&gt;</th></tr>\n",
       "</thead>\n",
       "<tbody>\n",
       "\t<tr><th scope=row>1</th><td>CHP_323</td><td>Leukemia    </td><td>NA        </td><td>NA </td><td> NA</td><td>NA</td><td>NA</td><td>NA  </td><td> NA</td><td>  NA</td><td>...</td><td>71</td><td> 8</td><td> 2</td><td> 0</td><td> 5</td><td> 1</td><td> 3</td><td>-1.695182</td><td>-1.5460521</td><td> 0.08397725</td></tr>\n",
       "\t<tr><th scope=row>2</th><td>CHP_328</td><td>Leukemia    </td><td>NA        </td><td>NA </td><td> NA</td><td>NA</td><td>NA</td><td>NA  </td><td> NA</td><td>  NA</td><td>...</td><td>NA</td><td>NA</td><td>NA</td><td>NA</td><td>NA</td><td>NA</td><td> 4</td><td> 1.201478</td><td> 4.0826196</td><td>-0.20431926</td></tr>\n",
       "\t<tr><th scope=row>3</th><td>CHP_330</td><td>Solid tumors</td><td>CHP_330_02</td><td>X02</td><td>1.9</td><td> 0</td><td> 5</td><td>OS  </td><td>1.9</td><td>2425</td><td>...</td><td>NA</td><td>NA</td><td>NA</td><td>NA</td><td>NA</td><td>NA</td><td>NA</td><td>       NA</td><td>        NA</td><td>         NA</td></tr>\n",
       "\t<tr><th scope=row>4</th><td>CHP_331</td><td>Leukemia    </td><td>NA        </td><td>NA </td><td> NA</td><td>NA</td><td>NA</td><td>NA  </td><td> NA</td><td>  NA</td><td>...</td><td>NA</td><td>NA</td><td>NA</td><td>NA</td><td>NA</td><td>NA</td><td> 4</td><td>-1.844016</td><td>-1.8657837</td><td> 0.29320592</td></tr>\n",
       "\t<tr><th scope=row>5</th><td>CHP_332</td><td>Solid tumors</td><td>CHP_332_02</td><td>X02</td><td> NA</td><td> 0</td><td>10</td><td>ERMS</td><td> NA</td><td>2403</td><td>...</td><td>NA</td><td>NA</td><td>NA</td><td>NA</td><td>NA</td><td>NA</td><td>NA</td><td>       NA</td><td>        NA</td><td>         NA</td></tr>\n",
       "\t<tr><th scope=row>6</th><td>CHP_338</td><td>Leukemia    </td><td>NA        </td><td>NA </td><td> NA</td><td>NA</td><td>NA</td><td>NA  </td><td> NA</td><td>  NA</td><td>...</td><td> 4</td><td> 0</td><td> 0</td><td> 0</td><td> 0</td><td> 0</td><td> 3</td><td> 2.268234</td><td>-0.1504075</td><td>-0.02765594</td></tr>\n",
       "</tbody>\n",
       "</table>\n"
      ],
      "text/latex": [
       "A data.frame: 6 x 379\n",
       "\\begin{tabular}{r|lllllllllllllllllllll}\n",
       "  & Patient & cancergroup & sample\\_id.x & cycle.x & FOLD.x & ATC.x & Age.x & Disease\\_type.x & TE\\_fold.x & CD3.x & ... & cfDNA\\_gliph\\_n & cfDNA\\_CMV & cfDNA\\_EBV & cfDNA\\_HCV & cfDNA\\_Flu & cfDNA\\_hs & cyclenum & GLIPH\\_PC1 & GLIPH\\_PC2 & quantreg\\_log10shann\\\\\n",
       "  & <chr> & <chr> & <chr> & <chr> & <dbl> & <dbl> & <dbl> & <chr> & <dbl> & <int> & ... & <dbl> & <dbl> & <dbl> & <dbl> & <dbl> & <dbl> & <dbl> & <dbl> & <dbl> & <dbl>\\\\\n",
       "\\hline\n",
       "\t1 & CHP\\_323 & Leukemia     & NA         & NA  &  NA & NA & NA & NA   &  NA &   NA & ... & 71 &  8 &  2 &  0 &  5 &  1 &  3 & -1.695182 & -1.5460521 &  0.08397725\\\\\n",
       "\t2 & CHP\\_328 & Leukemia     & NA         & NA  &  NA & NA & NA & NA   &  NA &   NA & ... & NA & NA & NA & NA & NA & NA &  4 &  1.201478 &  4.0826196 & -0.20431926\\\\\n",
       "\t3 & CHP\\_330 & Solid tumors & CHP\\_330\\_02 & X02 & 1.9 &  0 &  5 & OS   & 1.9 & 2425 & ... & NA & NA & NA & NA & NA & NA & NA &        NA &         NA &          NA\\\\\n",
       "\t4 & CHP\\_331 & Leukemia     & NA         & NA  &  NA & NA & NA & NA   &  NA &   NA & ... & NA & NA & NA & NA & NA & NA &  4 & -1.844016 & -1.8657837 &  0.29320592\\\\\n",
       "\t5 & CHP\\_332 & Solid tumors & CHP\\_332\\_02 & X02 &  NA &  0 & 10 & ERMS &  NA & 2403 & ... & NA & NA & NA & NA & NA & NA & NA &        NA &         NA &          NA\\\\\n",
       "\t6 & CHP\\_338 & Leukemia     & NA         & NA  &  NA & NA & NA & NA   &  NA &   NA & ... &  4 &  0 &  0 &  0 &  0 &  0 &  3 &  2.268234 & -0.1504075 & -0.02765594\\\\\n",
       "\\end{tabular}\n"
      ],
      "text/markdown": [
       "\n",
       "A data.frame: 6 x 379\n",
       "\n",
       "| <!--/--> | Patient &lt;chr&gt; | cancergroup &lt;chr&gt; | sample_id.x &lt;chr&gt; | cycle.x &lt;chr&gt; | FOLD.x &lt;dbl&gt; | ATC.x &lt;dbl&gt; | Age.x &lt;dbl&gt; | Disease_type.x &lt;chr&gt; | TE_fold.x &lt;dbl&gt; | CD3.x &lt;int&gt; | ... ... | cfDNA_gliph_n &lt;dbl&gt; | cfDNA_CMV &lt;dbl&gt; | cfDNA_EBV &lt;dbl&gt; | cfDNA_HCV &lt;dbl&gt; | cfDNA_Flu &lt;dbl&gt; | cfDNA_hs &lt;dbl&gt; | cyclenum &lt;dbl&gt; | GLIPH_PC1 &lt;dbl&gt; | GLIPH_PC2 &lt;dbl&gt; | quantreg_log10shann &lt;dbl&gt; |\n",
       "|---|---|---|---|---|---|---|---|---|---|---|---|---|---|---|---|---|---|---|---|---|---|\n",
       "| 1 | CHP_323 | Leukemia     | NA         | NA  |  NA | NA | NA | NA   |  NA |   NA | ... | 71 |  8 |  2 |  0 |  5 |  1 |  3 | -1.695182 | -1.5460521 |  0.08397725 |\n",
       "| 2 | CHP_328 | Leukemia     | NA         | NA  |  NA | NA | NA | NA   |  NA |   NA | ... | NA | NA | NA | NA | NA | NA |  4 |  1.201478 |  4.0826196 | -0.20431926 |\n",
       "| 3 | CHP_330 | Solid tumors | CHP_330_02 | X02 | 1.9 |  0 |  5 | OS   | 1.9 | 2425 | ... | NA | NA | NA | NA | NA | NA | NA |        NA |         NA |          NA |\n",
       "| 4 | CHP_331 | Leukemia     | NA         | NA  |  NA | NA | NA | NA   |  NA |   NA | ... | NA | NA | NA | NA | NA | NA |  4 | -1.844016 | -1.8657837 |  0.29320592 |\n",
       "| 5 | CHP_332 | Solid tumors | CHP_332_02 | X02 |  NA |  0 | 10 | ERMS |  NA | 2403 | ... | NA | NA | NA | NA | NA | NA | NA |        NA |         NA |          NA |\n",
       "| 6 | CHP_338 | Leukemia     | NA         | NA  |  NA | NA | NA | NA   |  NA |   NA | ... |  4 |  0 |  0 |  0 |  0 |  0 |  3 |  2.268234 | -0.1504075 | -0.02765594 |\n",
       "\n"
      ],
      "text/plain": [
       "  Patient cancergroup  sample_id.x cycle.x FOLD.x ATC.x Age.x Disease_type.x\n",
       "1 CHP_323 Leukemia     NA          NA       NA    NA    NA    NA            \n",
       "2 CHP_328 Leukemia     NA          NA       NA    NA    NA    NA            \n",
       "3 CHP_330 Solid tumors CHP_330_02  X02     1.9     0     5    OS            \n",
       "4 CHP_331 Leukemia     NA          NA       NA    NA    NA    NA            \n",
       "5 CHP_332 Solid tumors CHP_332_02  X02      NA     0    10    ERMS          \n",
       "6 CHP_338 Leukemia     NA          NA       NA    NA    NA    NA            \n",
       "  TE_fold.x CD3.x ... cfDNA_gliph_n cfDNA_CMV cfDNA_EBV cfDNA_HCV cfDNA_Flu\n",
       "1  NA         NA  ... 71             8         2         0         5       \n",
       "2  NA         NA  ... NA            NA        NA        NA        NA       \n",
       "3 1.9       2425  ... NA            NA        NA        NA        NA       \n",
       "4  NA         NA  ... NA            NA        NA        NA        NA       \n",
       "5  NA       2403  ... NA            NA        NA        NA        NA       \n",
       "6  NA         NA  ...  4             0         0         0         0       \n",
       "  cfDNA_hs cyclenum GLIPH_PC1 GLIPH_PC2  quantreg_log10shann\n",
       "1  1        3       -1.695182 -1.5460521  0.08397725        \n",
       "2 NA        4        1.201478  4.0826196 -0.20431926        \n",
       "3 NA       NA              NA         NA          NA        \n",
       "4 NA        4       -1.844016 -1.8657837  0.29320592        \n",
       "5 NA       NA              NA         NA          NA        \n",
       "6  0        3        2.268234 -0.1504075 -0.02765594        "
      ]
     },
     "metadata": {},
     "output_type": "display_data"
    }
   ],
   "source": [
    "head(df_min2_pt)"
   ]
  },
  {
   "cell_type": "code",
   "execution_count": 35,
   "metadata": {
    "vscode": {
     "languageId": "r"
    }
   },
   "outputs": [],
   "source": [
    "# df_min2_pt$quantreg_gliph_n <- NULL"
   ]
  },
  {
   "cell_type": "code",
   "execution_count": 36,
   "metadata": {
    "vscode": {
     "languageId": "r"
    }
   },
   "outputs": [],
   "source": [
    "mycol <- colnames(df_min2_pt)[grepl(\"quantreg\", colnames(df_min2_pt))]"
   ]
  },
  {
   "cell_type": "code",
   "execution_count": 37,
   "metadata": {
    "vscode": {
     "languageId": "r"
    }
   },
   "outputs": [
    {
     "data": {
      "text/html": [
       "<style>\n",
       ".list-inline {list-style: none; margin:0; padding: 0}\n",
       ".list-inline>li {display: inline-block}\n",
       ".list-inline>li:not(:last-child)::after {content: \"\\00b7\"; padding: 0 .5ex}\n",
       "</style>\n",
       "<ol class=list-inline><li>'quantreg_N'</li><li>'quantreg_CM'</li><li>'quantreg_SCM'</li><li>'quantreg_EM'</li><li>'quantreg_TE'</li><li>'quantreg_TIM'</li><li>'quantreg_LAG'</li><li>'quantreg_PD1'</li><li>'quantreg_log10shann'</li></ol>\n"
      ],
      "text/latex": [
       "\\begin{enumerate*}\n",
       "\\item 'quantreg\\_N'\n",
       "\\item 'quantreg\\_CM'\n",
       "\\item 'quantreg\\_SCM'\n",
       "\\item 'quantreg\\_EM'\n",
       "\\item 'quantreg\\_TE'\n",
       "\\item 'quantreg\\_TIM'\n",
       "\\item 'quantreg\\_LAG'\n",
       "\\item 'quantreg\\_PD1'\n",
       "\\item 'quantreg\\_log10shann'\n",
       "\\end{enumerate*}\n"
      ],
      "text/markdown": [
       "1. 'quantreg_N'\n",
       "2. 'quantreg_CM'\n",
       "3. 'quantreg_SCM'\n",
       "4. 'quantreg_EM'\n",
       "5. 'quantreg_TE'\n",
       "6. 'quantreg_TIM'\n",
       "7. 'quantreg_LAG'\n",
       "8. 'quantreg_PD1'\n",
       "9. 'quantreg_log10shann'\n",
       "\n",
       "\n"
      ],
      "text/plain": [
       "[1] \"quantreg_N\"          \"quantreg_CM\"         \"quantreg_SCM\"       \n",
       "[4] \"quantreg_EM\"         \"quantreg_TE\"         \"quantreg_TIM\"       \n",
       "[7] \"quantreg_LAG\"        \"quantreg_PD1\"        \"quantreg_log10shann\""
      ]
     },
     "metadata": {},
     "output_type": "display_data"
    }
   ],
   "source": [
    "mycol"
   ]
  },
  {
   "cell_type": "code",
   "execution_count": 38,
   "metadata": {
    "vscode": {
     "languageId": "r"
    }
   },
   "outputs": [],
   "source": [
    "# scale\n",
    "for(i in mycol){\n",
    "    newvar <- paste0(i, \"_scaled\")\n",
    "df_min2_pt[[newvar]] <- as.vector(scale(df_min2_pt[[i]]))\n",
    "}"
   ]
  },
  {
   "cell_type": "code",
   "execution_count": 39,
   "metadata": {
    "vscode": {
     "languageId": "r"
    }
   },
   "outputs": [],
   "source": [
    "# rank\n",
    "for(i in mycol){\n",
    "    newvar <- paste0(i, \"_rank\")\n",
    "df_min2_pt[[newvar]] <- rank(df_min2_pt[[i]])\n",
    "}"
   ]
  },
  {
   "cell_type": "code",
   "execution_count": 40,
   "metadata": {
    "vscode": {
     "languageId": "r"
    }
   },
   "outputs": [
    {
     "data": {
      "text/html": [
       "-4.77667724948883"
      ],
      "text/latex": [
       "-4.77667724948883"
      ],
      "text/markdown": [
       "-4.77667724948883"
      ],
      "text/plain": [
       "[1] -4.776677"
      ]
     },
     "metadata": {},
     "output_type": "display_data"
    }
   ],
   "source": [
    "min(df_min2_pt$quantreg_LAG, na.rm = TRUE)"
   ]
  },
  {
   "cell_type": "code",
   "execution_count": 41,
   "metadata": {
    "vscode": {
     "languageId": "r"
    }
   },
   "outputs": [],
   "source": [
    "mycol <- colnames(df_min2_pt)[grepl(\"scaled\", colnames(df_min2_pt))]"
   ]
  },
  {
   "cell_type": "code",
   "execution_count": 42,
   "metadata": {
    "vscode": {
     "languageId": "r"
    }
   },
   "outputs": [
    {
     "data": {
      "text/html": [
       "<style>\n",
       ".list-inline {list-style: none; margin:0; padding: 0}\n",
       ".list-inline>li {display: inline-block}\n",
       ".list-inline>li:not(:last-child)::after {content: \"\\00b7\"; padding: 0 .5ex}\n",
       "</style>\n",
       "<ol class=list-inline><li>'quantreg_N_scaled'</li><li>'quantreg_CM_scaled'</li><li>'quantreg_SCM_scaled'</li><li>'quantreg_EM_scaled'</li><li>'quantreg_TE_scaled'</li><li>'quantreg_TIM_scaled'</li><li>'quantreg_LAG_scaled'</li><li>'quantreg_PD1_scaled'</li><li>'quantreg_log10shann_scaled'</li></ol>\n"
      ],
      "text/latex": [
       "\\begin{enumerate*}\n",
       "\\item 'quantreg\\_N\\_scaled'\n",
       "\\item 'quantreg\\_CM\\_scaled'\n",
       "\\item 'quantreg\\_SCM\\_scaled'\n",
       "\\item 'quantreg\\_EM\\_scaled'\n",
       "\\item 'quantreg\\_TE\\_scaled'\n",
       "\\item 'quantreg\\_TIM\\_scaled'\n",
       "\\item 'quantreg\\_LAG\\_scaled'\n",
       "\\item 'quantreg\\_PD1\\_scaled'\n",
       "\\item 'quantreg\\_log10shann\\_scaled'\n",
       "\\end{enumerate*}\n"
      ],
      "text/markdown": [
       "1. 'quantreg_N_scaled'\n",
       "2. 'quantreg_CM_scaled'\n",
       "3. 'quantreg_SCM_scaled'\n",
       "4. 'quantreg_EM_scaled'\n",
       "5. 'quantreg_TE_scaled'\n",
       "6. 'quantreg_TIM_scaled'\n",
       "7. 'quantreg_LAG_scaled'\n",
       "8. 'quantreg_PD1_scaled'\n",
       "9. 'quantreg_log10shann_scaled'\n",
       "\n",
       "\n"
      ],
      "text/plain": [
       "[1] \"quantreg_N_scaled\"          \"quantreg_CM_scaled\"        \n",
       "[3] \"quantreg_SCM_scaled\"        \"quantreg_EM_scaled\"        \n",
       "[5] \"quantreg_TE_scaled\"         \"quantreg_TIM_scaled\"       \n",
       "[7] \"quantreg_LAG_scaled\"        \"quantreg_PD1_scaled\"       \n",
       "[9] \"quantreg_log10shann_scaled\""
      ]
     },
     "metadata": {},
     "output_type": "display_data"
    }
   ],
   "source": [
    "mycol"
   ]
  },
  {
   "cell_type": "code",
   "execution_count": 43,
   "metadata": {
    "vscode": {
     "languageId": "r"
    }
   },
   "outputs": [
    {
     "data": {
      "text/plain": [
       "\n",
       "           Leukemia            Lymphoma        Solid tumors T-cell malignancies \n",
       "                 31                  10                  23                   2 "
      ]
     },
     "metadata": {},
     "output_type": "display_data"
    }
   ],
   "source": [
    "table(df_min2_pt$cancergroup)"
   ]
  },
  {
   "cell_type": "code",
   "execution_count": 44,
   "metadata": {
    "vscode": {
     "languageId": "r"
    }
   },
   "outputs": [],
   "source": [
    "df_min2_pt_long <- tidyr::pivot_longer(df_min2_pt, all_of(mycol), names_to = \"Feature\", values_to = \"Quantreg\")"
   ]
  },
  {
   "cell_type": "code",
   "execution_count": 45,
   "metadata": {
    "vscode": {
     "languageId": "r"
    }
   },
   "outputs": [],
   "source": [
    "df_min2_pt_long <- as.data.frame(df_min2_pt_long)"
   ]
  },
  {
   "cell_type": "code",
   "execution_count": 46,
   "metadata": {
    "vscode": {
     "languageId": "r"
    }
   },
   "outputs": [],
   "source": [
    "df_min2_pt_long_narm <- df_min2_pt_long[ !is.na(df_min2_pt_long$Quantreg),]"
   ]
  },
  {
   "cell_type": "markdown",
   "metadata": {},
   "source": [
    "Boxplot"
   ]
  },
  {
   "cell_type": "code",
   "execution_count": 47,
   "metadata": {
    "vscode": {
     "languageId": "r"
    }
   },
   "outputs": [],
   "source": [
    "# use scaled for viz\n",
    "df_min2_pt_long_narm$Featurename <- gsub(\"_scaled\", \"\", df_min2_pt_long_narm$Feature)\n",
    "df_min2_pt_long_narm$Featurename <- gsub(\"quantreg_\", \"\", df_min2_pt_long_narm$Featurename)"
   ]
  },
  {
   "cell_type": "code",
   "execution_count": 48,
   "metadata": {
    "vscode": {
     "languageId": "r"
    }
   },
   "outputs": [
    {
     "data": {
      "text/plain": [
       "\n",
       "           Leukemia            Lymphoma        Solid tumors T-cell malignancies \n",
       "                155                  62                 155                  10 "
      ]
     },
     "metadata": {},
     "output_type": "display_data"
    }
   ],
   "source": [
    "table(df_min2_pt_long_narm$cancergroup)"
   ]
  },
  {
   "cell_type": "code",
   "execution_count": 49,
   "metadata": {
    "vscode": {
     "languageId": "r"
    }
   },
   "outputs": [
    {
     "data": {
      "text/plain": [
       "\n",
       "        CM         EM        LAG log10shann          N        PD1        SCM \n",
       "        43         43         39         50         43         39         43 \n",
       "        TE        TIM \n",
       "        43         39 "
      ]
     },
     "metadata": {},
     "output_type": "display_data"
    }
   ],
   "source": [
    "table(df_min2_pt_long_narm$Featurename)"
   ]
  },
  {
   "cell_type": "code",
   "execution_count": 51,
   "metadata": {
    "vscode": {
     "languageId": "r"
    }
   },
   "outputs": [],
   "source": [
    "df_min2_pt_long_narm$Featurename <- factor(df_min2_pt_long_narm$Featurename, \n",
    "levels = c(\"N\", \"SCM\", \"CM\", \"EM\", \"TE\", \"PD1\", \"LAG\", \"TIM\",\n",
    "\"log10shann\" \n",
    "# \"V_PC1\", \"V_PC2\", \"J_PC1\", \"J_PC2\", \"gliph_n\", \"GLIPH_PC1\", \"GLIPH_PC2\"\n",
    "))"
   ]
  },
  {
   "cell_type": "code",
   "execution_count": 52,
   "metadata": {
    "vscode": {
     "languageId": "r"
    }
   },
   "outputs": [],
   "source": [
    "df_min2_pt_long_narm$Featurename <- factor(df_min2_pt_long_narm$Featurename, \n",
    "levels = rev(levels(df_min2_pt_long_narm$Featurename) ) )"
   ]
  },
  {
   "cell_type": "code",
   "execution_count": 53,
   "metadata": {
    "vscode": {
     "languageId": "r"
    }
   },
   "outputs": [],
   "source": [
    "p1 <- ggplot(df_min2_pt_long_narm, aes(y = Featurename, x = Quantreg)) +  geom_point(aes( color = cancergroup), position = position_jitter(w = 0.05, h = 0.15)) +\n",
    "        geom_boxplot(outlier.shape = NA, alpha = 0, color = \"#b7b2b2\") + myaxis + myplot + scale_color_manual(values = group_col)"
   ]
  },
  {
   "cell_type": "code",
   "execution_count": 54,
   "metadata": {
    "vscode": {
     "languageId": "r"
    }
   },
   "outputs": [
    {
     "data": {
      "image/png": "[encoded data removed]",
      "text/plain": [
       "plot without title"
      ]
     },
     "metadata": {
      "image/png": {
       "height": 420,
       "width": 420
      }
     },
     "output_type": "display_data"
    }
   ],
   "source": [
    "p1"
   ]
  },
  {
   "cell_type": "code",
   "execution_count": 55,
   "metadata": {
    "vscode": {
     "languageId": "r"
    }
   },
   "outputs": [
    {
     "data": {
      "text/html": [
       "<strong>pdf:</strong> 2"
      ],
      "text/latex": [
       "\\textbf{pdf:} 2"
      ],
      "text/markdown": [
       "**pdf:** 2"
      ],
      "text/plain": [
       "pdf \n",
       "  2 "
      ]
     },
     "metadata": {},
     "output_type": "display_data"
    }
   ],
   "source": [
    "pdf( paste0(plotpath, \"quantreq.pdf\"), width = 6, height = 8)\n",
    "p1 + theme(legend.position = \"bottom\")\n",
    "dev.off()"
   ]
  },
  {
   "cell_type": "markdown",
   "metadata": {},
   "source": [
    "LR and forestplot"
   ]
  },
  {
   "cell_type": "markdown",
   "metadata": {},
   "source": [
    "Use unscaled data for glm"
   ]
  },
  {
   "cell_type": "code",
   "execution_count": 56,
   "metadata": {
    "vscode": {
     "languageId": "r"
    }
   },
   "outputs": [],
   "source": [
    "mycol <- colnames(df_min2_pt)[grepl(\"quantreg\", colnames(df_min2_pt))]"
   ]
  },
  {
   "cell_type": "code",
   "execution_count": 57,
   "metadata": {
    "vscode": {
     "languageId": "r"
    }
   },
   "outputs": [],
   "source": [
    "mycol <- mycol[ !grepl(\"scaled\", mycol)]"
   ]
  },
  {
   "cell_type": "code",
   "execution_count": 58,
   "metadata": {
    "vscode": {
     "languageId": "r"
    }
   },
   "outputs": [],
   "source": [
    "mycol <- mycol[ !grepl(\"rank\", mycol)]"
   ]
  },
  {
   "cell_type": "code",
   "execution_count": 59,
   "metadata": {
    "vscode": {
     "languageId": "r"
    }
   },
   "outputs": [
    {
     "data": {
      "text/html": [
       "<style>\n",
       ".list-inline {list-style: none; margin:0; padding: 0}\n",
       ".list-inline>li {display: inline-block}\n",
       ".list-inline>li:not(:last-child)::after {content: \"\\00b7\"; padding: 0 .5ex}\n",
       "</style>\n",
       "<ol class=list-inline><li>'quantreg_N'</li><li>'quantreg_CM'</li><li>'quantreg_SCM'</li><li>'quantreg_EM'</li><li>'quantreg_TE'</li><li>'quantreg_TIM'</li><li>'quantreg_LAG'</li><li>'quantreg_PD1'</li><li>'quantreg_log10shann'</li></ol>\n"
      ],
      "text/latex": [
       "\\begin{enumerate*}\n",
       "\\item 'quantreg\\_N'\n",
       "\\item 'quantreg\\_CM'\n",
       "\\item 'quantreg\\_SCM'\n",
       "\\item 'quantreg\\_EM'\n",
       "\\item 'quantreg\\_TE'\n",
       "\\item 'quantreg\\_TIM'\n",
       "\\item 'quantreg\\_LAG'\n",
       "\\item 'quantreg\\_PD1'\n",
       "\\item 'quantreg\\_log10shann'\n",
       "\\end{enumerate*}\n"
      ],
      "text/markdown": [
       "1. 'quantreg_N'\n",
       "2. 'quantreg_CM'\n",
       "3. 'quantreg_SCM'\n",
       "4. 'quantreg_EM'\n",
       "5. 'quantreg_TE'\n",
       "6. 'quantreg_TIM'\n",
       "7. 'quantreg_LAG'\n",
       "8. 'quantreg_PD1'\n",
       "9. 'quantreg_log10shann'\n",
       "\n",
       "\n"
      ],
      "text/plain": [
       "[1] \"quantreg_N\"          \"quantreg_CM\"         \"quantreg_SCM\"       \n",
       "[4] \"quantreg_EM\"         \"quantreg_TE\"         \"quantreg_TIM\"       \n",
       "[7] \"quantreg_LAG\"        \"quantreg_PD1\"        \"quantreg_log10shann\""
      ]
     },
     "metadata": {},
     "output_type": "display_data"
    }
   ],
   "source": [
    "mycol"
   ]
  },
  {
   "cell_type": "code",
   "execution_count": 60,
   "metadata": {
    "vscode": {
     "languageId": "r"
    }
   },
   "outputs": [],
   "source": [
    "df_min2_pt_long <- tidyr::pivot_longer(df_min2_pt, all_of(mycol), names_to = \"Feature\", values_to = \"Quantreg\")"
   ]
  },
  {
   "cell_type": "code",
   "execution_count": 61,
   "metadata": {
    "vscode": {
     "languageId": "r"
    }
   },
   "outputs": [],
   "source": [
    "df_min2_pt_long <- as.data.frame(df_min2_pt_long)"
   ]
  },
  {
   "cell_type": "code",
   "execution_count": 62,
   "metadata": {
    "vscode": {
     "languageId": "r"
    }
   },
   "outputs": [],
   "source": [
    "df_min2_pt_long_narm <- df_min2_pt_long[ !is.na(df_min2_pt_long$Quantreg),]"
   ]
  },
  {
   "cell_type": "code",
   "execution_count": 63,
   "metadata": {
    "vscode": {
     "languageId": "r"
    }
   },
   "outputs": [],
   "source": [
    "feat_lr_mat <- matrix(nrow = length(unique(df_min2_pt_long_narm$Feature)), ncol = 7)\n",
    "rownames(feat_lr_mat) <- unique(df_min2_pt_long_narm$Feature)\n",
    "colnames(feat_lr_mat) <- c('coef', 'exp(coef)', 'SE', 'z', 'Pr(>|z|)', 'lower.95' ,'upper.95')"
   ]
  },
  {
   "cell_type": "code",
   "execution_count": 64,
   "metadata": {
    "vscode": {
     "languageId": "r"
    }
   },
   "outputs": [
    {
     "data": {
      "text/html": [
       "<table class=\"dataframe\">\n",
       "<caption>A matrix: 9 x 7 of type lgl</caption>\n",
       "<thead>\n",
       "\t<tr><th></th><th scope=col>coef</th><th scope=col>exp(coef)</th><th scope=col>SE</th><th scope=col>z</th><th scope=col>Pr(&gt;|z|)</th><th scope=col>lower.95</th><th scope=col>upper.95</th></tr>\n",
       "</thead>\n",
       "<tbody>\n",
       "\t<tr><th scope=row>quantreg_log10shann</th><td>NA</td><td>NA</td><td>NA</td><td>NA</td><td>NA</td><td>NA</td><td>NA</td></tr>\n",
       "\t<tr><th scope=row>quantreg_N</th><td>NA</td><td>NA</td><td>NA</td><td>NA</td><td>NA</td><td>NA</td><td>NA</td></tr>\n",
       "\t<tr><th scope=row>quantreg_CM</th><td>NA</td><td>NA</td><td>NA</td><td>NA</td><td>NA</td><td>NA</td><td>NA</td></tr>\n",
       "\t<tr><th scope=row>quantreg_SCM</th><td>NA</td><td>NA</td><td>NA</td><td>NA</td><td>NA</td><td>NA</td><td>NA</td></tr>\n",
       "\t<tr><th scope=row>quantreg_EM</th><td>NA</td><td>NA</td><td>NA</td><td>NA</td><td>NA</td><td>NA</td><td>NA</td></tr>\n",
       "\t<tr><th scope=row>quantreg_TE</th><td>NA</td><td>NA</td><td>NA</td><td>NA</td><td>NA</td><td>NA</td><td>NA</td></tr>\n",
       "\t<tr><th scope=row>quantreg_TIM</th><td>NA</td><td>NA</td><td>NA</td><td>NA</td><td>NA</td><td>NA</td><td>NA</td></tr>\n",
       "\t<tr><th scope=row>quantreg_LAG</th><td>NA</td><td>NA</td><td>NA</td><td>NA</td><td>NA</td><td>NA</td><td>NA</td></tr>\n",
       "\t<tr><th scope=row>quantreg_PD1</th><td>NA</td><td>NA</td><td>NA</td><td>NA</td><td>NA</td><td>NA</td><td>NA</td></tr>\n",
       "</tbody>\n",
       "</table>\n"
      ],
      "text/latex": [
       "A matrix: 9 x 7 of type lgl\n",
       "\\begin{tabular}{r|lllllll}\n",
       "  & coef & exp(coef) & SE & z & Pr(>\\textbar{}z\\textbar{}) & lower.95 & upper.95\\\\\n",
       "\\hline\n",
       "\tquantreg\\_log10shann & NA & NA & NA & NA & NA & NA & NA\\\\\n",
       "\tquantreg\\_N & NA & NA & NA & NA & NA & NA & NA\\\\\n",
       "\tquantreg\\_CM & NA & NA & NA & NA & NA & NA & NA\\\\\n",
       "\tquantreg\\_SCM & NA & NA & NA & NA & NA & NA & NA\\\\\n",
       "\tquantreg\\_EM & NA & NA & NA & NA & NA & NA & NA\\\\\n",
       "\tquantreg\\_TE & NA & NA & NA & NA & NA & NA & NA\\\\\n",
       "\tquantreg\\_TIM & NA & NA & NA & NA & NA & NA & NA\\\\\n",
       "\tquantreg\\_LAG & NA & NA & NA & NA & NA & NA & NA\\\\\n",
       "\tquantreg\\_PD1 & NA & NA & NA & NA & NA & NA & NA\\\\\n",
       "\\end{tabular}\n"
      ],
      "text/markdown": [
       "\n",
       "A matrix: 9 x 7 of type lgl\n",
       "\n",
       "| <!--/--> | coef | exp(coef) | SE | z | Pr(&gt;|z|) | lower.95 | upper.95 |\n",
       "|---|---|---|---|---|---|---|---|\n",
       "| quantreg_log10shann | NA | NA | NA | NA | NA | NA | NA |\n",
       "| quantreg_N | NA | NA | NA | NA | NA | NA | NA |\n",
       "| quantreg_CM | NA | NA | NA | NA | NA | NA | NA |\n",
       "| quantreg_SCM | NA | NA | NA | NA | NA | NA | NA |\n",
       "| quantreg_EM | NA | NA | NA | NA | NA | NA | NA |\n",
       "| quantreg_TE | NA | NA | NA | NA | NA | NA | NA |\n",
       "| quantreg_TIM | NA | NA | NA | NA | NA | NA | NA |\n",
       "| quantreg_LAG | NA | NA | NA | NA | NA | NA | NA |\n",
       "| quantreg_PD1 | NA | NA | NA | NA | NA | NA | NA |\n",
       "\n"
      ],
      "text/plain": [
       "                    coef exp(coef) SE z  Pr(>|z|) lower.95 upper.95\n",
       "quantreg_log10shann NA   NA        NA NA NA       NA       NA      \n",
       "quantreg_N          NA   NA        NA NA NA       NA       NA      \n",
       "quantreg_CM         NA   NA        NA NA NA       NA       NA      \n",
       "quantreg_SCM        NA   NA        NA NA NA       NA       NA      \n",
       "quantreg_EM         NA   NA        NA NA NA       NA       NA      \n",
       "quantreg_TE         NA   NA        NA NA NA       NA       NA      \n",
       "quantreg_TIM        NA   NA        NA NA NA       NA       NA      \n",
       "quantreg_LAG        NA   NA        NA NA NA       NA       NA      \n",
       "quantreg_PD1        NA   NA        NA NA NA       NA       NA      "
      ]
     },
     "metadata": {},
     "output_type": "display_data"
    }
   ],
   "source": [
    "feat_lr_mat"
   ]
  },
  {
   "cell_type": "code",
   "execution_count": 65,
   "metadata": {
    "vscode": {
     "languageId": "r"
    }
   },
   "outputs": [],
   "source": [
    "for(i in rownames(feat_lr_mat)){\n",
    "   # message(i)\n",
    "    f <- as.formula(paste0(\"Relapse~\", i,\"\"))  # lets just do univariate\n",
    "    lrmodel <- glm(f, data=df_min2_pt, family = \"binomial\") \n",
    "    sumlrmodel <- summary(lrmodel)\n",
    "#print(sumlrmodel)\n",
    "    myCI <- exp(confint.default(lrmodel, level = 0.95) )\n",
    "\n",
    "    feat_lr_mat[i,\"coef\"] <- sumlrmodel$coefficients[2,\"Estimate\"]\n",
    "    # exp of estimate is the odds ratio\n",
    "    feat_lr_mat[i,\"exp(coef)\"] <- exp(sumlrmodel$coefficients[2,\"Estimate\"])\n",
    "    feat_lr_mat[i,\"SE\"] <- sumlrmodel$coefficients[2,\"Std. Error\"]\n",
    "    feat_lr_mat[i,\"z\"] <- sumlrmodel$coefficients[2,\"z value\"]\n",
    "    feat_lr_mat[i,\"Pr(>|z|)\"] <- sumlrmodel$coefficients[2,\"Pr(>|z|)\"]\n",
    "    #from myCI\n",
    "    feat_lr_mat[i,\"lower.95\"] <- myCI[2,1]\n",
    "    feat_lr_mat[i,\"upper.95\"] <- myCI[2,2]\n",
    "}"
   ]
  },
  {
   "cell_type": "code",
   "execution_count": 66,
   "metadata": {
    "vscode": {
     "languageId": "r"
    }
   },
   "outputs": [
    {
     "data": {
      "text/html": [
       "<table class=\"dataframe\">\n",
       "<caption>A matrix: 9 x 7 of type dbl</caption>\n",
       "<thead>\n",
       "\t<tr><th></th><th scope=col>coef</th><th scope=col>exp(coef)</th><th scope=col>SE</th><th scope=col>z</th><th scope=col>Pr(&gt;|z|)</th><th scope=col>lower.95</th><th scope=col>upper.95</th></tr>\n",
       "</thead>\n",
       "<tbody>\n",
       "\t<tr><th scope=row>quantreg_log10shann</th><td>-0.56960661</td><td>0.5657480</td><td>1.42055609</td><td>-0.4009744</td><td>0.68843898</td><td>0.0349497</td><td>9.158040</td></tr>\n",
       "\t<tr><th scope=row>quantreg_N</th><td> 0.03077689</td><td>1.0312554</td><td>0.07559978</td><td> 0.4071029</td><td>0.68393238</td><td>0.8892330</td><td>1.195961</td></tr>\n",
       "\t<tr><th scope=row>quantreg_CM</th><td> 0.05502885</td><td>1.0565711</td><td>0.04469458</td><td> 1.2312198</td><td>0.21824066</td><td>0.9679538</td><td>1.153301</td></tr>\n",
       "\t<tr><th scope=row>quantreg_SCM</th><td>-0.03930582</td><td>0.9614566</td><td>0.09489945</td><td>-0.4141838</td><td>0.67873949</td><td>0.7982725</td><td>1.157999</td></tr>\n",
       "\t<tr><th scope=row>quantreg_EM</th><td> 0.82733145</td><td>2.2872071</td><td>0.43355526</td><td> 1.9082491</td><td>0.05635902</td><td>0.9778282</td><td>5.349934</td></tr>\n",
       "\t<tr><th scope=row>quantreg_TE</th><td>-0.04883038</td><td>0.9523426</td><td>0.03662605</td><td>-1.3332146</td><td>0.18246140</td><td>0.8863742</td><td>1.023221</td></tr>\n",
       "\t<tr><th scope=row>quantreg_TIM</th><td>-0.06379834</td><td>0.9381942</td><td>0.10753157</td><td>-0.5932987</td><td>0.55298127</td><td>0.7599092</td><td>1.158307</td></tr>\n",
       "\t<tr><th scope=row>quantreg_LAG</th><td>-0.02357057</td><td>0.9767050</td><td>0.16377208</td><td>-0.1439230</td><td>0.88556127</td><td>0.7085335</td><td>1.346376</td></tr>\n",
       "\t<tr><th scope=row>quantreg_PD1</th><td>-0.06379834</td><td>0.9381942</td><td>0.10753157</td><td>-0.5932987</td><td>0.55298127</td><td>0.7599092</td><td>1.158307</td></tr>\n",
       "</tbody>\n",
       "</table>\n"
      ],
      "text/latex": [
       "A matrix: 9 x 7 of type dbl\n",
       "\\begin{tabular}{r|lllllll}\n",
       "  & coef & exp(coef) & SE & z & Pr(>\\textbar{}z\\textbar{}) & lower.95 & upper.95\\\\\n",
       "\\hline\n",
       "\tquantreg\\_log10shann & -0.56960661 & 0.5657480 & 1.42055609 & -0.4009744 & 0.68843898 & 0.0349497 & 9.158040\\\\\n",
       "\tquantreg\\_N &  0.03077689 & 1.0312554 & 0.07559978 &  0.4071029 & 0.68393238 & 0.8892330 & 1.195961\\\\\n",
       "\tquantreg\\_CM &  0.05502885 & 1.0565711 & 0.04469458 &  1.2312198 & 0.21824066 & 0.9679538 & 1.153301\\\\\n",
       "\tquantreg\\_SCM & -0.03930582 & 0.9614566 & 0.09489945 & -0.4141838 & 0.67873949 & 0.7982725 & 1.157999\\\\\n",
       "\tquantreg\\_EM &  0.82733145 & 2.2872071 & 0.43355526 &  1.9082491 & 0.05635902 & 0.9778282 & 5.349934\\\\\n",
       "\tquantreg\\_TE & -0.04883038 & 0.9523426 & 0.03662605 & -1.3332146 & 0.18246140 & 0.8863742 & 1.023221\\\\\n",
       "\tquantreg\\_TIM & -0.06379834 & 0.9381942 & 0.10753157 & -0.5932987 & 0.55298127 & 0.7599092 & 1.158307\\\\\n",
       "\tquantreg\\_LAG & -0.02357057 & 0.9767050 & 0.16377208 & -0.1439230 & 0.88556127 & 0.7085335 & 1.346376\\\\\n",
       "\tquantreg\\_PD1 & -0.06379834 & 0.9381942 & 0.10753157 & -0.5932987 & 0.55298127 & 0.7599092 & 1.158307\\\\\n",
       "\\end{tabular}\n"
      ],
      "text/markdown": [
       "\n",
       "A matrix: 9 x 7 of type dbl\n",
       "\n",
       "| <!--/--> | coef | exp(coef) | SE | z | Pr(&gt;|z|) | lower.95 | upper.95 |\n",
       "|---|---|---|---|---|---|---|---|\n",
       "| quantreg_log10shann | -0.56960661 | 0.5657480 | 1.42055609 | -0.4009744 | 0.68843898 | 0.0349497 | 9.158040 |\n",
       "| quantreg_N |  0.03077689 | 1.0312554 | 0.07559978 |  0.4071029 | 0.68393238 | 0.8892330 | 1.195961 |\n",
       "| quantreg_CM |  0.05502885 | 1.0565711 | 0.04469458 |  1.2312198 | 0.21824066 | 0.9679538 | 1.153301 |\n",
       "| quantreg_SCM | -0.03930582 | 0.9614566 | 0.09489945 | -0.4141838 | 0.67873949 | 0.7982725 | 1.157999 |\n",
       "| quantreg_EM |  0.82733145 | 2.2872071 | 0.43355526 |  1.9082491 | 0.05635902 | 0.9778282 | 5.349934 |\n",
       "| quantreg_TE | -0.04883038 | 0.9523426 | 0.03662605 | -1.3332146 | 0.18246140 | 0.8863742 | 1.023221 |\n",
       "| quantreg_TIM | -0.06379834 | 0.9381942 | 0.10753157 | -0.5932987 | 0.55298127 | 0.7599092 | 1.158307 |\n",
       "| quantreg_LAG | -0.02357057 | 0.9767050 | 0.16377208 | -0.1439230 | 0.88556127 | 0.7085335 | 1.346376 |\n",
       "| quantreg_PD1 | -0.06379834 | 0.9381942 | 0.10753157 | -0.5932987 | 0.55298127 | 0.7599092 | 1.158307 |\n",
       "\n"
      ],
      "text/plain": [
       "                    coef        exp(coef) SE         z          Pr(>|z|)  \n",
       "quantreg_log10shann -0.56960661 0.5657480 1.42055609 -0.4009744 0.68843898\n",
       "quantreg_N           0.03077689 1.0312554 0.07559978  0.4071029 0.68393238\n",
       "quantreg_CM          0.05502885 1.0565711 0.04469458  1.2312198 0.21824066\n",
       "quantreg_SCM        -0.03930582 0.9614566 0.09489945 -0.4141838 0.67873949\n",
       "quantreg_EM          0.82733145 2.2872071 0.43355526  1.9082491 0.05635902\n",
       "quantreg_TE         -0.04883038 0.9523426 0.03662605 -1.3332146 0.18246140\n",
       "quantreg_TIM        -0.06379834 0.9381942 0.10753157 -0.5932987 0.55298127\n",
       "quantreg_LAG        -0.02357057 0.9767050 0.16377208 -0.1439230 0.88556127\n",
       "quantreg_PD1        -0.06379834 0.9381942 0.10753157 -0.5932987 0.55298127\n",
       "                    lower.95  upper.95\n",
       "quantreg_log10shann 0.0349497 9.158040\n",
       "quantreg_N          0.8892330 1.195961\n",
       "quantreg_CM         0.9679538 1.153301\n",
       "quantreg_SCM        0.7982725 1.157999\n",
       "quantreg_EM         0.9778282 5.349934\n",
       "quantreg_TE         0.8863742 1.023221\n",
       "quantreg_TIM        0.7599092 1.158307\n",
       "quantreg_LAG        0.7085335 1.346376\n",
       "quantreg_PD1        0.7599092 1.158307"
      ]
     },
     "metadata": {},
     "output_type": "display_data"
    }
   ],
   "source": [
    "feat_lr_mat"
   ]
  },
  {
   "cell_type": "code",
   "execution_count": 67,
   "metadata": {
    "vscode": {
     "languageId": "r"
    }
   },
   "outputs": [],
   "source": [
    "fdr_df <- as.matrix(p.adjust(feat_lr_mat[,5], method = \"fdr\"))\n",
    "colnames(fdr_df)[1] <- \"fdr\"\n",
    "feat_lr_mat <- cbind(feat_lr_mat, fdr_df)"
   ]
  },
  {
   "cell_type": "code",
   "execution_count": 68,
   "metadata": {
    "vscode": {
     "languageId": "r"
    }
   },
   "outputs": [],
   "source": [
    "feat_lr_mat <- as.data.frame(feat_lr_mat)"
   ]
  },
  {
   "cell_type": "code",
   "execution_count": 69,
   "metadata": {
    "vscode": {
     "languageId": "r"
    }
   },
   "outputs": [],
   "source": [
    "feat_lr_mat$Feature <- gsub(\"quantreg_\", \"\", rownames(feat_lr_mat))\n",
    "feat_lr_mat$Feature <- gsub(\"_rank\", \"\", feat_lr_mat$Feature)"
   ]
  },
  {
   "cell_type": "code",
   "execution_count": 70,
   "metadata": {
    "vscode": {
     "languageId": "r"
    }
   },
   "outputs": [
    {
     "data": {
      "text/html": [
       "<table class=\"dataframe\">\n",
       "<caption>A data.frame: 9 x 9</caption>\n",
       "<thead>\n",
       "\t<tr><th></th><th scope=col>coef</th><th scope=col>exp(coef)</th><th scope=col>SE</th><th scope=col>z</th><th scope=col>Pr(&gt;|z|)</th><th scope=col>lower.95</th><th scope=col>upper.95</th><th scope=col>fdr</th><th scope=col>Feature</th></tr>\n",
       "\t<tr><th></th><th scope=col>&lt;dbl&gt;</th><th scope=col>&lt;dbl&gt;</th><th scope=col>&lt;dbl&gt;</th><th scope=col>&lt;dbl&gt;</th><th scope=col>&lt;dbl&gt;</th><th scope=col>&lt;dbl&gt;</th><th scope=col>&lt;dbl&gt;</th><th scope=col>&lt;dbl&gt;</th><th scope=col>&lt;chr&gt;</th></tr>\n",
       "</thead>\n",
       "<tbody>\n",
       "\t<tr><th scope=row>quantreg_log10shann</th><td>-0.56960661</td><td>0.5657480</td><td>1.42055609</td><td>-0.4009744</td><td>0.68843898</td><td>0.0349497</td><td>9.158040</td><td>0.7744939</td><td>log10shann</td></tr>\n",
       "\t<tr><th scope=row>quantreg_N</th><td> 0.03077689</td><td>1.0312554</td><td>0.07559978</td><td> 0.4071029</td><td>0.68393238</td><td>0.8892330</td><td>1.195961</td><td>0.7744939</td><td>N         </td></tr>\n",
       "\t<tr><th scope=row>quantreg_CM</th><td> 0.05502885</td><td>1.0565711</td><td>0.04469458</td><td> 1.2312198</td><td>0.21824066</td><td>0.9679538</td><td>1.153301</td><td>0.6547220</td><td>CM        </td></tr>\n",
       "\t<tr><th scope=row>quantreg_SCM</th><td>-0.03930582</td><td>0.9614566</td><td>0.09489945</td><td>-0.4141838</td><td>0.67873949</td><td>0.7982725</td><td>1.157999</td><td>0.7744939</td><td>SCM       </td></tr>\n",
       "\t<tr><th scope=row>quantreg_EM</th><td> 0.82733145</td><td>2.2872071</td><td>0.43355526</td><td> 1.9082491</td><td>0.05635902</td><td>0.9778282</td><td>5.349934</td><td>0.5072312</td><td>EM        </td></tr>\n",
       "\t<tr><th scope=row>quantreg_TE</th><td>-0.04883038</td><td>0.9523426</td><td>0.03662605</td><td>-1.3332146</td><td>0.18246140</td><td>0.8863742</td><td>1.023221</td><td>0.6547220</td><td>TE        </td></tr>\n",
       "\t<tr><th scope=row>quantreg_TIM</th><td>-0.06379834</td><td>0.9381942</td><td>0.10753157</td><td>-0.5932987</td><td>0.55298127</td><td>0.7599092</td><td>1.158307</td><td>0.7744939</td><td>TIM       </td></tr>\n",
       "\t<tr><th scope=row>quantreg_LAG</th><td>-0.02357057</td><td>0.9767050</td><td>0.16377208</td><td>-0.1439230</td><td>0.88556127</td><td>0.7085335</td><td>1.346376</td><td>0.8855613</td><td>LAG       </td></tr>\n",
       "\t<tr><th scope=row>quantreg_PD1</th><td>-0.06379834</td><td>0.9381942</td><td>0.10753157</td><td>-0.5932987</td><td>0.55298127</td><td>0.7599092</td><td>1.158307</td><td>0.7744939</td><td>PD1       </td></tr>\n",
       "</tbody>\n",
       "</table>\n"
      ],
      "text/latex": [
       "A data.frame: 9 x 9\n",
       "\\begin{tabular}{r|lllllllll}\n",
       "  & coef & exp(coef) & SE & z & Pr(>\\textbar{}z\\textbar{}) & lower.95 & upper.95 & fdr & Feature\\\\\n",
       "  & <dbl> & <dbl> & <dbl> & <dbl> & <dbl> & <dbl> & <dbl> & <dbl> & <chr>\\\\\n",
       "\\hline\n",
       "\tquantreg\\_log10shann & -0.56960661 & 0.5657480 & 1.42055609 & -0.4009744 & 0.68843898 & 0.0349497 & 9.158040 & 0.7744939 & log10shann\\\\\n",
       "\tquantreg\\_N &  0.03077689 & 1.0312554 & 0.07559978 &  0.4071029 & 0.68393238 & 0.8892330 & 1.195961 & 0.7744939 & N         \\\\\n",
       "\tquantreg\\_CM &  0.05502885 & 1.0565711 & 0.04469458 &  1.2312198 & 0.21824066 & 0.9679538 & 1.153301 & 0.6547220 & CM        \\\\\n",
       "\tquantreg\\_SCM & -0.03930582 & 0.9614566 & 0.09489945 & -0.4141838 & 0.67873949 & 0.7982725 & 1.157999 & 0.7744939 & SCM       \\\\\n",
       "\tquantreg\\_EM &  0.82733145 & 2.2872071 & 0.43355526 &  1.9082491 & 0.05635902 & 0.9778282 & 5.349934 & 0.5072312 & EM        \\\\\n",
       "\tquantreg\\_TE & -0.04883038 & 0.9523426 & 0.03662605 & -1.3332146 & 0.18246140 & 0.8863742 & 1.023221 & 0.6547220 & TE        \\\\\n",
       "\tquantreg\\_TIM & -0.06379834 & 0.9381942 & 0.10753157 & -0.5932987 & 0.55298127 & 0.7599092 & 1.158307 & 0.7744939 & TIM       \\\\\n",
       "\tquantreg\\_LAG & -0.02357057 & 0.9767050 & 0.16377208 & -0.1439230 & 0.88556127 & 0.7085335 & 1.346376 & 0.8855613 & LAG       \\\\\n",
       "\tquantreg\\_PD1 & -0.06379834 & 0.9381942 & 0.10753157 & -0.5932987 & 0.55298127 & 0.7599092 & 1.158307 & 0.7744939 & PD1       \\\\\n",
       "\\end{tabular}\n"
      ],
      "text/markdown": [
       "\n",
       "A data.frame: 9 x 9\n",
       "\n",
       "| <!--/--> | coef &lt;dbl&gt; | exp(coef) &lt;dbl&gt; | SE &lt;dbl&gt; | z &lt;dbl&gt; | Pr(&gt;|z|) &lt;dbl&gt; | lower.95 &lt;dbl&gt; | upper.95 &lt;dbl&gt; | fdr &lt;dbl&gt; | Feature &lt;chr&gt; |\n",
       "|---|---|---|---|---|---|---|---|---|---|\n",
       "| quantreg_log10shann | -0.56960661 | 0.5657480 | 1.42055609 | -0.4009744 | 0.68843898 | 0.0349497 | 9.158040 | 0.7744939 | log10shann |\n",
       "| quantreg_N |  0.03077689 | 1.0312554 | 0.07559978 |  0.4071029 | 0.68393238 | 0.8892330 | 1.195961 | 0.7744939 | N          |\n",
       "| quantreg_CM |  0.05502885 | 1.0565711 | 0.04469458 |  1.2312198 | 0.21824066 | 0.9679538 | 1.153301 | 0.6547220 | CM         |\n",
       "| quantreg_SCM | -0.03930582 | 0.9614566 | 0.09489945 | -0.4141838 | 0.67873949 | 0.7982725 | 1.157999 | 0.7744939 | SCM        |\n",
       "| quantreg_EM |  0.82733145 | 2.2872071 | 0.43355526 |  1.9082491 | 0.05635902 | 0.9778282 | 5.349934 | 0.5072312 | EM         |\n",
       "| quantreg_TE | -0.04883038 | 0.9523426 | 0.03662605 | -1.3332146 | 0.18246140 | 0.8863742 | 1.023221 | 0.6547220 | TE         |\n",
       "| quantreg_TIM | -0.06379834 | 0.9381942 | 0.10753157 | -0.5932987 | 0.55298127 | 0.7599092 | 1.158307 | 0.7744939 | TIM        |\n",
       "| quantreg_LAG | -0.02357057 | 0.9767050 | 0.16377208 | -0.1439230 | 0.88556127 | 0.7085335 | 1.346376 | 0.8855613 | LAG        |\n",
       "| quantreg_PD1 | -0.06379834 | 0.9381942 | 0.10753157 | -0.5932987 | 0.55298127 | 0.7599092 | 1.158307 | 0.7744939 | PD1        |\n",
       "\n"
      ],
      "text/plain": [
       "                    coef        exp(coef) SE         z          Pr(>|z|)  \n",
       "quantreg_log10shann -0.56960661 0.5657480 1.42055609 -0.4009744 0.68843898\n",
       "quantreg_N           0.03077689 1.0312554 0.07559978  0.4071029 0.68393238\n",
       "quantreg_CM          0.05502885 1.0565711 0.04469458  1.2312198 0.21824066\n",
       "quantreg_SCM        -0.03930582 0.9614566 0.09489945 -0.4141838 0.67873949\n",
       "quantreg_EM          0.82733145 2.2872071 0.43355526  1.9082491 0.05635902\n",
       "quantreg_TE         -0.04883038 0.9523426 0.03662605 -1.3332146 0.18246140\n",
       "quantreg_TIM        -0.06379834 0.9381942 0.10753157 -0.5932987 0.55298127\n",
       "quantreg_LAG        -0.02357057 0.9767050 0.16377208 -0.1439230 0.88556127\n",
       "quantreg_PD1        -0.06379834 0.9381942 0.10753157 -0.5932987 0.55298127\n",
       "                    lower.95  upper.95 fdr       Feature   \n",
       "quantreg_log10shann 0.0349497 9.158040 0.7744939 log10shann\n",
       "quantreg_N          0.8892330 1.195961 0.7744939 N         \n",
       "quantreg_CM         0.9679538 1.153301 0.6547220 CM        \n",
       "quantreg_SCM        0.7982725 1.157999 0.7744939 SCM       \n",
       "quantreg_EM         0.9778282 5.349934 0.5072312 EM        \n",
       "quantreg_TE         0.8863742 1.023221 0.6547220 TE        \n",
       "quantreg_TIM        0.7599092 1.158307 0.7744939 TIM       \n",
       "quantreg_LAG        0.7085335 1.346376 0.8855613 LAG       \n",
       "quantreg_PD1        0.7599092 1.158307 0.7744939 PD1       "
      ]
     },
     "metadata": {},
     "output_type": "display_data"
    }
   ],
   "source": [
    "(feat_lr_mat)"
   ]
  },
  {
   "cell_type": "code",
   "execution_count": 71,
   "metadata": {
    "vscode": {
     "languageId": "r"
    }
   },
   "outputs": [],
   "source": [
    "feat_lr_mat$mean <- feat_lr_mat$`exp(coef)`\n",
    "feat_lr_mat$lower <- feat_lr_mat$`lower.95`\n",
    "feat_lr_mat$upper <- feat_lr_mat$`upper.95`"
   ]
  },
  {
   "cell_type": "code",
   "execution_count": 72,
   "metadata": {
    "vscode": {
     "languageId": "r"
    }
   },
   "outputs": [],
   "source": [
    "feat_lr_mat$OR <- as.character(round(feat_lr_mat$`exp(coef)`, 2) )\n",
    "feat_lr_mat$p <- as.character(round(feat_lr_mat$`Pr(>|z|)`, 2) )\n",
    "feat_lr_mat$FDR <- as.character(round(feat_lr_mat$fdr, 2) )"
   ]
  },
  {
   "cell_type": "code",
   "execution_count": 73,
   "metadata": {
    "vscode": {
     "languageId": "r"
    }
   },
   "outputs": [],
   "source": [
    "p2 <- feat_lr_mat |>\n",
    "  forestplot(\n",
    "    labeltext = c(Feature, OR, p, FDR),\n",
    "    clip = c(0, 2), \n",
    "    boxsize = 0.2,\n",
    "    vertices = TRUE,\n",
    "    xlog = FALSE, zero = 1\n",
    "  ) |>\n",
    "  fp_set_style(\n",
    "    box = \"royalblue\",\n",
    "    line = \"darkblue\",\n",
    "    summary = \"royalblue\"\n",
    "  ) |>\n",
    "  fp_add_header(\n",
    "    Feature = c(\"\", \"Feature\"),\n",
    "    OR = c(\"\", \"OR\"),\n",
    "    p = c(\"\", \"p value\"),\n",
    "    FDR = c(\"\", \"FDR\")\n",
    "  )\n"
   ]
  },
  {
   "cell_type": "code",
   "execution_count": 74,
   "metadata": {
    "vscode": {
     "languageId": "r"
    }
   },
   "outputs": [
    {
     "data": {
      "image/png": "[encoded data removed]",
      "text/plain": [
       "plot without title"
      ]
     },
     "metadata": {
      "image/png": {
       "height": 420,
       "width": 420
      }
     },
     "output_type": "display_data"
    }
   ],
   "source": [
    "p2"
   ]
  },
  {
   "cell_type": "code",
   "execution_count": 75,
   "metadata": {
    "vscode": {
     "languageId": "r"
    }
   },
   "outputs": [
    {
     "data": {
      "text/html": [
       "<strong>pdf:</strong> 2"
      ],
      "text/latex": [
       "\\textbf{pdf:} 2"
      ],
      "text/markdown": [
       "**pdf:** 2"
      ],
      "text/plain": [
       "pdf \n",
       "  2 "
      ]
     },
     "metadata": {},
     "output_type": "display_data"
    }
   ],
   "source": [
    "pdf(paste0(plotpath, \"forestplot_quantreq.pdf\"), width=6, height=8)\n",
    "p2\n",
    "dev.off()"
   ]
  },
  {
   "cell_type": "code",
   "execution_count": null,
   "metadata": {
    "vscode": {
     "languageId": "r"
    }
   },
   "outputs": [],
   "source": [
    "# pdf(file = paste0(plotpath,\"Univar_forestplot.pdf\"),\n",
    "#     width = 7, height = 10,\n",
    "#     useDingbats = FALSE, onefile = F)\n",
    "# forestplot(tabtext, hrs, new_page = TRUE, xlog = TRUE,\n",
    "#                    title = \"Survival analysis (iMATRIX-atezo)(p-value, FDR)\", boxsize = 0.25)\n",
    "# dev.off()"
   ]
  },
  {
   "cell_type": "markdown",
   "metadata": {},
   "source": [
    "# 2- Baseline associations"
   ]
  },
  {
   "cell_type": "code",
   "execution_count": 76,
   "metadata": {
    "vscode": {
     "languageId": "r"
    }
   },
   "outputs": [],
   "source": [
    "sample_df$cyclenum <- as.numeric(gsub(\"X0\", \"\", sample_df$cycle) )"
   ]
  },
  {
   "cell_type": "code",
   "execution_count": 77,
   "metadata": {
    "vscode": {
     "languageId": "r"
    }
   },
   "outputs": [],
   "source": [
    "# split to 3 dataframes: one for flow one for tcr and ncr\n",
    "\n",
    "tcr_df <- sample_df[ !is.na(sample_df$TRB), ]\n",
    "flow_df <- sample_df[ !is.na(sample_df$CD3) & sample_df$CD3 > 0, ]\n",
    "ncr_df <- flow_df[ !is.na(flow_df$`TIM3%`), ]"
   ]
  },
  {
   "cell_type": "code",
   "execution_count": 78,
   "metadata": {
    "vscode": {
     "languageId": "r"
    }
   },
   "outputs": [],
   "source": [
    "# only X01\n",
    "tcr_df <- tcr_df[ tcr_df$cycle == \"X01\", ]\n",
    "flow_df <- flow_df[ flow_df$cycle == \"X01\", ]\n",
    "ncr_df <- ncr_df[ ncr_df$cycle == \"X01\", ]"
   ]
  },
  {
   "cell_type": "code",
   "execution_count": 79,
   "metadata": {
    "vscode": {
     "languageId": "r"
    }
   },
   "outputs": [],
   "source": [
    "tcr_df$GLIPH_PC1 <- mypca[ match(tcr_df$samplename,  rownames(mypca)) , \"PC1\"]\n",
    "tcr_df$GLIPH_PC2 <- mypca[ match(tcr_df$samplename,  rownames(mypca)) , \"PC2\"]"
   ]
  },
  {
   "cell_type": "code",
   "execution_count": 80,
   "metadata": {
    "vscode": {
     "languageId": "r"
    }
   },
   "outputs": [],
   "source": [
    "# merge all the dataframes, allow NAs to include all data\n",
    "df_x01 <- merge(flow_df, ncr_df, by = c(\"Patient\", \"cancergroup\"), all = TRUE)\n",
    "df_x01 <- merge(df_x01, tcr_df, by = c(\"Patient\", \"cancergroup\"), all = TRUE)"
   ]
  },
  {
   "cell_type": "code",
   "execution_count": 81,
   "metadata": {
    "vscode": {
     "languageId": "r"
    }
   },
   "outputs": [
    {
     "data": {
      "text/html": [
       "<table class=\"dataframe\">\n",
       "<caption>A data.frame: 6 x 370</caption>\n",
       "<thead>\n",
       "\t<tr><th></th><th scope=col>Patient</th><th scope=col>cancergroup</th><th scope=col>sample_id.x</th><th scope=col>cycle.x</th><th scope=col>FOLD.x</th><th scope=col>ATC.x</th><th scope=col>Age.x</th><th scope=col>Disease_type.x</th><th scope=col>TE_fold.x</th><th scope=col>CD3.x</th><th scope=col>...</th><th scope=col>cfDNA_samplename</th><th scope=col>cfDNA_gliph_n</th><th scope=col>cfDNA_CMV</th><th scope=col>cfDNA_EBV</th><th scope=col>cfDNA_HCV</th><th scope=col>cfDNA_Flu</th><th scope=col>cfDNA_hs</th><th scope=col>cyclenum</th><th scope=col>GLIPH_PC1</th><th scope=col>GLIPH_PC2</th></tr>\n",
       "\t<tr><th></th><th scope=col>&lt;chr&gt;</th><th scope=col>&lt;chr&gt;</th><th scope=col>&lt;chr&gt;</th><th scope=col>&lt;chr&gt;</th><th scope=col>&lt;dbl&gt;</th><th scope=col>&lt;dbl&gt;</th><th scope=col>&lt;dbl&gt;</th><th scope=col>&lt;chr&gt;</th><th scope=col>&lt;dbl&gt;</th><th scope=col>&lt;int&gt;</th><th scope=col>...</th><th scope=col>&lt;chr&gt;</th><th scope=col>&lt;dbl&gt;</th><th scope=col>&lt;dbl&gt;</th><th scope=col>&lt;dbl&gt;</th><th scope=col>&lt;dbl&gt;</th><th scope=col>&lt;dbl&gt;</th><th scope=col>&lt;dbl&gt;</th><th scope=col>&lt;dbl&gt;</th><th scope=col>&lt;dbl&gt;</th><th scope=col>&lt;dbl&gt;</th></tr>\n",
       "</thead>\n",
       "<tbody>\n",
       "\t<tr><th scope=row>1</th><td>CHP_330</td><td>Solid tumors</td><td>CHP_330_01</td><td>X01</td><td> 0.9</td><td>  0.00</td><td> 5</td><td>OS  </td><td> 0.9</td><td>2437</td><td>...</td><td>NA                           </td><td>NA</td><td>NA</td><td>NA</td><td>NA</td><td>NA</td><td>NA</td><td>NA</td><td>        NA</td><td>       NA</td></tr>\n",
       "\t<tr><th scope=row>2</th><td>CHP_332</td><td>Solid tumors</td><td>CHP_332_01</td><td>X01</td><td> 8.2</td><td>  0.00</td><td>10</td><td>ERMS</td><td> 8.2</td><td>3628</td><td>...</td><td>NA                           </td><td>NA</td><td>NA</td><td>NA</td><td>NA</td><td>NA</td><td>NA</td><td>NA</td><td>        NA</td><td>       NA</td></tr>\n",
       "\t<tr><th scope=row>3</th><td>CHP_343</td><td>Solid tumors</td><td>CHP_343_01</td><td>X01</td><td> 1.0</td><td>219.30</td><td> 8</td><td>EWS </td><td> 1.0</td><td>2421</td><td>...</td><td>NA                           </td><td>NA</td><td>NA</td><td>NA</td><td>NA</td><td>NA</td><td>NA</td><td>NA</td><td>        NA</td><td>       NA</td></tr>\n",
       "\t<tr><th scope=row>4</th><td>CHP_346</td><td>Solid tumors</td><td>CHP_346_01</td><td>X01</td><td> 0.8</td><td>331.70</td><td> 1</td><td>NB  </td><td> 0.8</td><td> 637</td><td>...</td><td>NA                           </td><td>NA</td><td>NA</td><td>NA</td><td>NA</td><td>NA</td><td>NA</td><td> 1</td><td>-1.7338604</td><td>-1.773150</td></tr>\n",
       "\t<tr><th scope=row>5</th><td>CHP_347</td><td>Leukemia    </td><td>CHP_347_01</td><td>X01</td><td> 0.8</td><td>126.72</td><td>13</td><td>ALL </td><td> 0.8</td><td>1701</td><td>...</td><td>Leukemia:CHP_347_X01-cfDNA   </td><td> 0</td><td> 0</td><td> 0</td><td> 0</td><td> 0</td><td> 0</td><td> 1</td><td>-0.6656651</td><td>-1.249249</td></tr>\n",
       "\t<tr><th scope=row>6</th><td>CHP_348</td><td>Solid tumors</td><td>CHP_348_01</td><td>X01</td><td>11.5</td><td> 50.96</td><td>18</td><td>OS  </td><td>11.5</td><td>1125</td><td>...</td><td>Solidtumors:CHP_348_X01-cfDNA</td><td> 3</td><td> 0</td><td> 0</td><td> 0</td><td> 0</td><td> 0</td><td> 1</td><td>-1.0018511</td><td>-1.929393</td></tr>\n",
       "</tbody>\n",
       "</table>\n"
      ],
      "text/latex": [
       "A data.frame: 6 x 370\n",
       "\\begin{tabular}{r|lllllllllllllllllllll}\n",
       "  & Patient & cancergroup & sample\\_id.x & cycle.x & FOLD.x & ATC.x & Age.x & Disease\\_type.x & TE\\_fold.x & CD3.x & ... & cfDNA\\_samplename & cfDNA\\_gliph\\_n & cfDNA\\_CMV & cfDNA\\_EBV & cfDNA\\_HCV & cfDNA\\_Flu & cfDNA\\_hs & cyclenum & GLIPH\\_PC1 & GLIPH\\_PC2\\\\\n",
       "  & <chr> & <chr> & <chr> & <chr> & <dbl> & <dbl> & <dbl> & <chr> & <dbl> & <int> & ... & <chr> & <dbl> & <dbl> & <dbl> & <dbl> & <dbl> & <dbl> & <dbl> & <dbl> & <dbl>\\\\\n",
       "\\hline\n",
       "\t1 & CHP\\_330 & Solid tumors & CHP\\_330\\_01 & X01 &  0.9 &   0.00 &  5 & OS   &  0.9 & 2437 & ... & NA                            & NA & NA & NA & NA & NA & NA & NA &         NA &        NA\\\\\n",
       "\t2 & CHP\\_332 & Solid tumors & CHP\\_332\\_01 & X01 &  8.2 &   0.00 & 10 & ERMS &  8.2 & 3628 & ... & NA                            & NA & NA & NA & NA & NA & NA & NA &         NA &        NA\\\\\n",
       "\t3 & CHP\\_343 & Solid tumors & CHP\\_343\\_01 & X01 &  1.0 & 219.30 &  8 & EWS  &  1.0 & 2421 & ... & NA                            & NA & NA & NA & NA & NA & NA & NA &         NA &        NA\\\\\n",
       "\t4 & CHP\\_346 & Solid tumors & CHP\\_346\\_01 & X01 &  0.8 & 331.70 &  1 & NB   &  0.8 &  637 & ... & NA                            & NA & NA & NA & NA & NA & NA &  1 & -1.7338604 & -1.773150\\\\\n",
       "\t5 & CHP\\_347 & Leukemia     & CHP\\_347\\_01 & X01 &  0.8 & 126.72 & 13 & ALL  &  0.8 & 1701 & ... & Leukemia:CHP\\_347\\_X01-cfDNA    &  0 &  0 &  0 &  0 &  0 &  0 &  1 & -0.6656651 & -1.249249\\\\\n",
       "\t6 & CHP\\_348 & Solid tumors & CHP\\_348\\_01 & X01 & 11.5 &  50.96 & 18 & OS   & 11.5 & 1125 & ... & Solidtumors:CHP\\_348\\_X01-cfDNA &  3 &  0 &  0 &  0 &  0 &  0 &  1 & -1.0018511 & -1.929393\\\\\n",
       "\\end{tabular}\n"
      ],
      "text/markdown": [
       "\n",
       "A data.frame: 6 x 370\n",
       "\n",
       "| <!--/--> | Patient &lt;chr&gt; | cancergroup &lt;chr&gt; | sample_id.x &lt;chr&gt; | cycle.x &lt;chr&gt; | FOLD.x &lt;dbl&gt; | ATC.x &lt;dbl&gt; | Age.x &lt;dbl&gt; | Disease_type.x &lt;chr&gt; | TE_fold.x &lt;dbl&gt; | CD3.x &lt;int&gt; | ... ... | cfDNA_samplename &lt;chr&gt; | cfDNA_gliph_n &lt;dbl&gt; | cfDNA_CMV &lt;dbl&gt; | cfDNA_EBV &lt;dbl&gt; | cfDNA_HCV &lt;dbl&gt; | cfDNA_Flu &lt;dbl&gt; | cfDNA_hs &lt;dbl&gt; | cyclenum &lt;dbl&gt; | GLIPH_PC1 &lt;dbl&gt; | GLIPH_PC2 &lt;dbl&gt; |\n",
       "|---|---|---|---|---|---|---|---|---|---|---|---|---|---|---|---|---|---|---|---|---|---|\n",
       "| 1 | CHP_330 | Solid tumors | CHP_330_01 | X01 |  0.9 |   0.00 |  5 | OS   |  0.9 | 2437 | ... | NA                            | NA | NA | NA | NA | NA | NA | NA |         NA |        NA |\n",
       "| 2 | CHP_332 | Solid tumors | CHP_332_01 | X01 |  8.2 |   0.00 | 10 | ERMS |  8.2 | 3628 | ... | NA                            | NA | NA | NA | NA | NA | NA | NA |         NA |        NA |\n",
       "| 3 | CHP_343 | Solid tumors | CHP_343_01 | X01 |  1.0 | 219.30 |  8 | EWS  |  1.0 | 2421 | ... | NA                            | NA | NA | NA | NA | NA | NA | NA |         NA |        NA |\n",
       "| 4 | CHP_346 | Solid tumors | CHP_346_01 | X01 |  0.8 | 331.70 |  1 | NB   |  0.8 |  637 | ... | NA                            | NA | NA | NA | NA | NA | NA |  1 | -1.7338604 | -1.773150 |\n",
       "| 5 | CHP_347 | Leukemia     | CHP_347_01 | X01 |  0.8 | 126.72 | 13 | ALL  |  0.8 | 1701 | ... | Leukemia:CHP_347_X01-cfDNA    |  0 |  0 |  0 |  0 |  0 |  0 |  1 | -0.6656651 | -1.249249 |\n",
       "| 6 | CHP_348 | Solid tumors | CHP_348_01 | X01 | 11.5 |  50.96 | 18 | OS   | 11.5 | 1125 | ... | Solidtumors:CHP_348_X01-cfDNA |  3 |  0 |  0 |  0 |  0 |  0 |  1 | -1.0018511 | -1.929393 |\n",
       "\n"
      ],
      "text/plain": [
       "  Patient cancergroup  sample_id.x cycle.x FOLD.x ATC.x  Age.x Disease_type.x\n",
       "1 CHP_330 Solid tumors CHP_330_01  X01      0.9     0.00  5    OS            \n",
       "2 CHP_332 Solid tumors CHP_332_01  X01      8.2     0.00 10    ERMS          \n",
       "3 CHP_343 Solid tumors CHP_343_01  X01      1.0   219.30  8    EWS           \n",
       "4 CHP_346 Solid tumors CHP_346_01  X01      0.8   331.70  1    NB            \n",
       "5 CHP_347 Leukemia     CHP_347_01  X01      0.8   126.72 13    ALL           \n",
       "6 CHP_348 Solid tumors CHP_348_01  X01     11.5    50.96 18    OS            \n",
       "  TE_fold.x CD3.x ... cfDNA_samplename              cfDNA_gliph_n cfDNA_CMV\n",
       "1  0.9      2437  ... NA                            NA            NA       \n",
       "2  8.2      3628  ... NA                            NA            NA       \n",
       "3  1.0      2421  ... NA                            NA            NA       \n",
       "4  0.8       637  ... NA                            NA            NA       \n",
       "5  0.8      1701  ... Leukemia:CHP_347_X01-cfDNA     0             0       \n",
       "6 11.5      1125  ... Solidtumors:CHP_348_X01-cfDNA  3             0       \n",
       "  cfDNA_EBV cfDNA_HCV cfDNA_Flu cfDNA_hs cyclenum GLIPH_PC1  GLIPH_PC2\n",
       "1 NA        NA        NA        NA       NA               NA        NA\n",
       "2 NA        NA        NA        NA       NA               NA        NA\n",
       "3 NA        NA        NA        NA       NA               NA        NA\n",
       "4 NA        NA        NA        NA        1       -1.7338604 -1.773150\n",
       "5  0         0         0         0        1       -0.6656651 -1.249249\n",
       "6  0         0         0         0        1       -1.0018511 -1.929393"
      ]
     },
     "metadata": {},
     "output_type": "display_data"
    }
   ],
   "source": [
    "head(df_x01)"
   ]
  },
  {
   "cell_type": "code",
   "execution_count": 82,
   "metadata": {
    "vscode": {
     "languageId": "r"
    }
   },
   "outputs": [],
   "source": [
    "# df_min2_pt$quantreg_gliph_n <- NULL"
   ]
  },
  {
   "cell_type": "code",
   "execution_count": 83,
   "metadata": {
    "vscode": {
     "languageId": "r"
    }
   },
   "outputs": [],
   "source": [
    "mycol <- c('EM%','CM%','Naïve%','SCM%','TE%', \n",
    "# 'HLA_PC1','HLA_PC2','HLA_PC3',\n",
    "# 'V_PC1','V_PC2','J_PC1','J_PC2', \n",
    "'PD1%', 'TIM3%', 'LAG3%', \n",
    "'log10shann') \n",
    "#\"gliph_n\", \"GLIPH_PC1\", \"GLIPH_PC2\")"
   ]
  },
  {
   "cell_type": "code",
   "execution_count": 84,
   "metadata": {
    "vscode": {
     "languageId": "r"
    }
   },
   "outputs": [
    {
     "data": {
      "text/html": [
       "<style>\n",
       ".list-inline {list-style: none; margin:0; padding: 0}\n",
       ".list-inline>li {display: inline-block}\n",
       ".list-inline>li:not(:last-child)::after {content: \"\\00b7\"; padding: 0 .5ex}\n",
       "</style>\n",
       "<ol class=list-inline><li>'EM%'</li><li>'CM%'</li><li>'Naïve%'</li><li>'SCM%'</li><li>'TE%'</li><li>'PD1%'</li><li>'TIM3%'</li><li>'LAG3%'</li><li>'log10shann'</li></ol>\n"
      ],
      "text/latex": [
       "\\begin{enumerate*}\n",
       "\\item 'EM\\%'\n",
       "\\item 'CM\\%'\n",
       "\\item 'Naïve\\%'\n",
       "\\item 'SCM\\%'\n",
       "\\item 'TE\\%'\n",
       "\\item 'PD1\\%'\n",
       "\\item 'TIM3\\%'\n",
       "\\item 'LAG3\\%'\n",
       "\\item 'log10shann'\n",
       "\\end{enumerate*}\n"
      ],
      "text/markdown": [
       "1. 'EM%'\n",
       "2. 'CM%'\n",
       "3. 'Naïve%'\n",
       "4. 'SCM%'\n",
       "5. 'TE%'\n",
       "6. 'PD1%'\n",
       "7. 'TIM3%'\n",
       "8. 'LAG3%'\n",
       "9. 'log10shann'\n",
       "\n",
       "\n"
      ],
      "text/plain": [
       "[1] \"EM%\"        \"CM%\"        \"Naïve%\"     \"SCM%\"       \"TE%\"       \n",
       "[6] \"PD1%\"       \"TIM3%\"      \"LAG3%\"      \"log10shann\""
      ]
     },
     "metadata": {},
     "output_type": "display_data"
    }
   ],
   "source": [
    "mycol"
   ]
  },
  {
   "cell_type": "code",
   "execution_count": 85,
   "metadata": {
    "vscode": {
     "languageId": "r"
    }
   },
   "outputs": [],
   "source": [
    "# scale\n",
    "for(i in mycol){\n",
    "    newvar <- paste0(i, \"_scaled\")\n",
    "df_x01[[newvar]] <- as.vector(scale(df_x01[[i]]))\n",
    "}"
   ]
  },
  {
   "cell_type": "code",
   "execution_count": 86,
   "metadata": {
    "vscode": {
     "languageId": "r"
    }
   },
   "outputs": [],
   "source": [
    "# rank\n",
    "for(i in mycol){\n",
    "    newvar <- paste0(i, \"_rank\")\n",
    "df_x01[[newvar]] <- rank(df_x01[[i]])\n",
    "}"
   ]
  },
  {
   "cell_type": "code",
   "execution_count": 87,
   "metadata": {
    "vscode": {
     "languageId": "r"
    }
   },
   "outputs": [],
   "source": [
    "mycol <- colnames(df_x01)[grepl(\"scaled\", colnames(df_x01))]"
   ]
  },
  {
   "cell_type": "code",
   "execution_count": 88,
   "metadata": {
    "vscode": {
     "languageId": "r"
    }
   },
   "outputs": [
    {
     "data": {
      "text/html": [
       "<style>\n",
       ".list-inline {list-style: none; margin:0; padding: 0}\n",
       ".list-inline>li {display: inline-block}\n",
       ".list-inline>li:not(:last-child)::after {content: \"\\00b7\"; padding: 0 .5ex}\n",
       "</style>\n",
       "<ol class=list-inline><li>'EM%_scaled'</li><li>'CM%_scaled'</li><li>'Naïve%_scaled'</li><li>'SCM%_scaled'</li><li>'TE%_scaled'</li><li>'PD1%_scaled'</li><li>'TIM3%_scaled'</li><li>'LAG3%_scaled'</li><li>'log10shann_scaled'</li></ol>\n"
      ],
      "text/latex": [
       "\\begin{enumerate*}\n",
       "\\item 'EM\\%\\_scaled'\n",
       "\\item 'CM\\%\\_scaled'\n",
       "\\item 'Naïve\\%\\_scaled'\n",
       "\\item 'SCM\\%\\_scaled'\n",
       "\\item 'TE\\%\\_scaled'\n",
       "\\item 'PD1\\%\\_scaled'\n",
       "\\item 'TIM3\\%\\_scaled'\n",
       "\\item 'LAG3\\%\\_scaled'\n",
       "\\item 'log10shann\\_scaled'\n",
       "\\end{enumerate*}\n"
      ],
      "text/markdown": [
       "1. 'EM%_scaled'\n",
       "2. 'CM%_scaled'\n",
       "3. 'Naïve%_scaled'\n",
       "4. 'SCM%_scaled'\n",
       "5. 'TE%_scaled'\n",
       "6. 'PD1%_scaled'\n",
       "7. 'TIM3%_scaled'\n",
       "8. 'LAG3%_scaled'\n",
       "9. 'log10shann_scaled'\n",
       "\n",
       "\n"
      ],
      "text/plain": [
       "[1] \"EM%_scaled\"        \"CM%_scaled\"        \"Naïve%_scaled\"    \n",
       "[4] \"SCM%_scaled\"       \"TE%_scaled\"        \"PD1%_scaled\"      \n",
       "[7] \"TIM3%_scaled\"      \"LAG3%_scaled\"      \"log10shann_scaled\""
      ]
     },
     "metadata": {},
     "output_type": "display_data"
    }
   ],
   "source": [
    "mycol"
   ]
  },
  {
   "cell_type": "code",
   "execution_count": 89,
   "metadata": {
    "vscode": {
     "languageId": "r"
    }
   },
   "outputs": [
    {
     "data": {
      "text/plain": [
       "\n",
       "           Leukemia            Lymphoma        Solid tumors T-cell malignancies \n",
       "                 30                  12                  27                   4 "
      ]
     },
     "metadata": {},
     "output_type": "display_data"
    }
   ],
   "source": [
    "table(df_x01$cancergroup)"
   ]
  },
  {
   "cell_type": "code",
   "execution_count": 90,
   "metadata": {
    "vscode": {
     "languageId": "r"
    }
   },
   "outputs": [],
   "source": [
    "df_x01_long <- tidyr::pivot_longer(df_x01, all_of(mycol), names_to = \"Feature\", values_to = \"X01\")"
   ]
  },
  {
   "cell_type": "code",
   "execution_count": 91,
   "metadata": {
    "vscode": {
     "languageId": "r"
    }
   },
   "outputs": [],
   "source": [
    "df_x01_long <- as.data.frame(df_x01_long)"
   ]
  },
  {
   "cell_type": "code",
   "execution_count": 92,
   "metadata": {
    "vscode": {
     "languageId": "r"
    }
   },
   "outputs": [],
   "source": [
    "df_x01_long_narm <- df_x01_long[ !is.na(df_x01_long$X01),]"
   ]
  },
  {
   "cell_type": "code",
   "execution_count": 93,
   "metadata": {
    "vscode": {
     "languageId": "r"
    }
   },
   "outputs": [
    {
     "data": {
      "text/html": [
       "<table class=\"dataframe\">\n",
       "<caption>A data.frame: 6 x 381</caption>\n",
       "<thead>\n",
       "\t<tr><th></th><th scope=col>Patient</th><th scope=col>cancergroup</th><th scope=col>sample_id.x</th><th scope=col>cycle.x</th><th scope=col>FOLD.x</th><th scope=col>ATC.x</th><th scope=col>Age.x</th><th scope=col>Disease_type.x</th><th scope=col>TE_fold.x</th><th scope=col>CD3.x</th><th scope=col>...</th><th scope=col>CM%_rank</th><th scope=col>Naïve%_rank</th><th scope=col>SCM%_rank</th><th scope=col>TE%_rank</th><th scope=col>PD1%_rank</th><th scope=col>TIM3%_rank</th><th scope=col>LAG3%_rank</th><th scope=col>log10shann_rank</th><th scope=col>Feature</th><th scope=col>X01</th></tr>\n",
       "\t<tr><th></th><th scope=col>&lt;chr&gt;</th><th scope=col>&lt;chr&gt;</th><th scope=col>&lt;chr&gt;</th><th scope=col>&lt;chr&gt;</th><th scope=col>&lt;dbl&gt;</th><th scope=col>&lt;dbl&gt;</th><th scope=col>&lt;dbl&gt;</th><th scope=col>&lt;chr&gt;</th><th scope=col>&lt;dbl&gt;</th><th scope=col>&lt;int&gt;</th><th scope=col>...</th><th scope=col>&lt;dbl&gt;</th><th scope=col>&lt;dbl&gt;</th><th scope=col>&lt;dbl&gt;</th><th scope=col>&lt;dbl&gt;</th><th scope=col>&lt;dbl&gt;</th><th scope=col>&lt;dbl&gt;</th><th scope=col>&lt;dbl&gt;</th><th scope=col>&lt;dbl&gt;</th><th scope=col>&lt;chr&gt;</th><th scope=col>&lt;dbl&gt;</th></tr>\n",
       "</thead>\n",
       "<tbody>\n",
       "\t<tr><th scope=row>28</th><td>CHP_346</td><td>Solid tumors</td><td>CHP_346_01</td><td>X01</td><td>0.8</td><td>331.7</td><td>1</td><td>NB</td><td>0.8</td><td>637</td><td>...</td><td>7</td><td>36</td><td>3</td><td>1</td><td>14</td><td>14</td><td>13</td><td>15</td><td>EM%_scaled   </td><td>-0.6665081</td></tr>\n",
       "\t<tr><th scope=row>29</th><td>CHP_346</td><td>Solid tumors</td><td>CHP_346_01</td><td>X01</td><td>0.8</td><td>331.7</td><td>1</td><td>NB</td><td>0.8</td><td>637</td><td>...</td><td>7</td><td>36</td><td>3</td><td>1</td><td>14</td><td>14</td><td>13</td><td>15</td><td>CM%_scaled   </td><td>-0.7547849</td></tr>\n",
       "\t<tr><th scope=row>30</th><td>CHP_346</td><td>Solid tumors</td><td>CHP_346_01</td><td>X01</td><td>0.8</td><td>331.7</td><td>1</td><td>NB</td><td>0.8</td><td>637</td><td>...</td><td>7</td><td>36</td><td>3</td><td>1</td><td>14</td><td>14</td><td>13</td><td>15</td><td>Naïve%_scaled</td><td> 2.9439196</td></tr>\n",
       "\t<tr><th scope=row>31</th><td>CHP_346</td><td>Solid tumors</td><td>CHP_346_01</td><td>X01</td><td>0.8</td><td>331.7</td><td>1</td><td>NB</td><td>0.8</td><td>637</td><td>...</td><td>7</td><td>36</td><td>3</td><td>1</td><td>14</td><td>14</td><td>13</td><td>15</td><td>SCM%_scaled  </td><td>-1.0708562</td></tr>\n",
       "\t<tr><th scope=row>32</th><td>CHP_346</td><td>Solid tumors</td><td>CHP_346_01</td><td>X01</td><td>0.8</td><td>331.7</td><td>1</td><td>NB</td><td>0.8</td><td>637</td><td>...</td><td>7</td><td>36</td><td>3</td><td>1</td><td>14</td><td>14</td><td>13</td><td>15</td><td>TE%_scaled   </td><td>-1.7271353</td></tr>\n",
       "\t<tr><th scope=row>33</th><td>CHP_346</td><td>Solid tumors</td><td>CHP_346_01</td><td>X01</td><td>0.8</td><td>331.7</td><td>1</td><td>NB</td><td>0.8</td><td>637</td><td>...</td><td>7</td><td>36</td><td>3</td><td>1</td><td>14</td><td>14</td><td>13</td><td>15</td><td>PD1%_scaled  </td><td>-0.6093947</td></tr>\n",
       "</tbody>\n",
       "</table>\n"
      ],
      "text/latex": [
       "A data.frame: 6 x 381\n",
       "\\begin{tabular}{r|lllllllllllllllllllll}\n",
       "  & Patient & cancergroup & sample\\_id.x & cycle.x & FOLD.x & ATC.x & Age.x & Disease\\_type.x & TE\\_fold.x & CD3.x & ... & CM\\%\\_rank & Naïve\\%\\_rank & SCM\\%\\_rank & TE\\%\\_rank & PD1\\%\\_rank & TIM3\\%\\_rank & LAG3\\%\\_rank & log10shann\\_rank & Feature & X01\\\\\n",
       "  & <chr> & <chr> & <chr> & <chr> & <dbl> & <dbl> & <dbl> & <chr> & <dbl> & <int> & ... & <dbl> & <dbl> & <dbl> & <dbl> & <dbl> & <dbl> & <dbl> & <dbl> & <chr> & <dbl>\\\\\n",
       "\\hline\n",
       "\t28 & CHP\\_346 & Solid tumors & CHP\\_346\\_01 & X01 & 0.8 & 331.7 & 1 & NB & 0.8 & 637 & ... & 7 & 36 & 3 & 1 & 14 & 14 & 13 & 15 & EM\\%\\_scaled    & -0.6665081\\\\\n",
       "\t29 & CHP\\_346 & Solid tumors & CHP\\_346\\_01 & X01 & 0.8 & 331.7 & 1 & NB & 0.8 & 637 & ... & 7 & 36 & 3 & 1 & 14 & 14 & 13 & 15 & CM\\%\\_scaled    & -0.7547849\\\\\n",
       "\t30 & CHP\\_346 & Solid tumors & CHP\\_346\\_01 & X01 & 0.8 & 331.7 & 1 & NB & 0.8 & 637 & ... & 7 & 36 & 3 & 1 & 14 & 14 & 13 & 15 & Naïve\\%\\_scaled &  2.9439196\\\\\n",
       "\t31 & CHP\\_346 & Solid tumors & CHP\\_346\\_01 & X01 & 0.8 & 331.7 & 1 & NB & 0.8 & 637 & ... & 7 & 36 & 3 & 1 & 14 & 14 & 13 & 15 & SCM\\%\\_scaled   & -1.0708562\\\\\n",
       "\t32 & CHP\\_346 & Solid tumors & CHP\\_346\\_01 & X01 & 0.8 & 331.7 & 1 & NB & 0.8 & 637 & ... & 7 & 36 & 3 & 1 & 14 & 14 & 13 & 15 & TE\\%\\_scaled    & -1.7271353\\\\\n",
       "\t33 & CHP\\_346 & Solid tumors & CHP\\_346\\_01 & X01 & 0.8 & 331.7 & 1 & NB & 0.8 & 637 & ... & 7 & 36 & 3 & 1 & 14 & 14 & 13 & 15 & PD1\\%\\_scaled   & -0.6093947\\\\\n",
       "\\end{tabular}\n"
      ],
      "text/markdown": [
       "\n",
       "A data.frame: 6 x 381\n",
       "\n",
       "| <!--/--> | Patient &lt;chr&gt; | cancergroup &lt;chr&gt; | sample_id.x &lt;chr&gt; | cycle.x &lt;chr&gt; | FOLD.x &lt;dbl&gt; | ATC.x &lt;dbl&gt; | Age.x &lt;dbl&gt; | Disease_type.x &lt;chr&gt; | TE_fold.x &lt;dbl&gt; | CD3.x &lt;int&gt; | ... ... | CM%_rank &lt;dbl&gt; | Naïve%_rank &lt;dbl&gt; | SCM%_rank &lt;dbl&gt; | TE%_rank &lt;dbl&gt; | PD1%_rank &lt;dbl&gt; | TIM3%_rank &lt;dbl&gt; | LAG3%_rank &lt;dbl&gt; | log10shann_rank &lt;dbl&gt; | Feature &lt;chr&gt; | X01 &lt;dbl&gt; |\n",
       "|---|---|---|---|---|---|---|---|---|---|---|---|---|---|---|---|---|---|---|---|---|---|\n",
       "| 28 | CHP_346 | Solid tumors | CHP_346_01 | X01 | 0.8 | 331.7 | 1 | NB | 0.8 | 637 | ... | 7 | 36 | 3 | 1 | 14 | 14 | 13 | 15 | EM%_scaled    | -0.6665081 |\n",
       "| 29 | CHP_346 | Solid tumors | CHP_346_01 | X01 | 0.8 | 331.7 | 1 | NB | 0.8 | 637 | ... | 7 | 36 | 3 | 1 | 14 | 14 | 13 | 15 | CM%_scaled    | -0.7547849 |\n",
       "| 30 | CHP_346 | Solid tumors | CHP_346_01 | X01 | 0.8 | 331.7 | 1 | NB | 0.8 | 637 | ... | 7 | 36 | 3 | 1 | 14 | 14 | 13 | 15 | Naïve%_scaled |  2.9439196 |\n",
       "| 31 | CHP_346 | Solid tumors | CHP_346_01 | X01 | 0.8 | 331.7 | 1 | NB | 0.8 | 637 | ... | 7 | 36 | 3 | 1 | 14 | 14 | 13 | 15 | SCM%_scaled   | -1.0708562 |\n",
       "| 32 | CHP_346 | Solid tumors | CHP_346_01 | X01 | 0.8 | 331.7 | 1 | NB | 0.8 | 637 | ... | 7 | 36 | 3 | 1 | 14 | 14 | 13 | 15 | TE%_scaled    | -1.7271353 |\n",
       "| 33 | CHP_346 | Solid tumors | CHP_346_01 | X01 | 0.8 | 331.7 | 1 | NB | 0.8 | 637 | ... | 7 | 36 | 3 | 1 | 14 | 14 | 13 | 15 | PD1%_scaled   | -0.6093947 |\n",
       "\n"
      ],
      "text/plain": [
       "   Patient cancergroup  sample_id.x cycle.x FOLD.x ATC.x Age.x Disease_type.x\n",
       "28 CHP_346 Solid tumors CHP_346_01  X01     0.8    331.7 1     NB            \n",
       "29 CHP_346 Solid tumors CHP_346_01  X01     0.8    331.7 1     NB            \n",
       "30 CHP_346 Solid tumors CHP_346_01  X01     0.8    331.7 1     NB            \n",
       "31 CHP_346 Solid tumors CHP_346_01  X01     0.8    331.7 1     NB            \n",
       "32 CHP_346 Solid tumors CHP_346_01  X01     0.8    331.7 1     NB            \n",
       "33 CHP_346 Solid tumors CHP_346_01  X01     0.8    331.7 1     NB            \n",
       "   TE_fold.x CD3.x ... CM%_rank Naïve%_rank SCM%_rank TE%_rank PD1%_rank\n",
       "28 0.8       637   ... 7        36          3         1        14       \n",
       "29 0.8       637   ... 7        36          3         1        14       \n",
       "30 0.8       637   ... 7        36          3         1        14       \n",
       "31 0.8       637   ... 7        36          3         1        14       \n",
       "32 0.8       637   ... 7        36          3         1        14       \n",
       "33 0.8       637   ... 7        36          3         1        14       \n",
       "   TIM3%_rank LAG3%_rank log10shann_rank Feature       X01       \n",
       "28 14         13         15              EM%_scaled    -0.6665081\n",
       "29 14         13         15              CM%_scaled    -0.7547849\n",
       "30 14         13         15              Naïve%_scaled  2.9439196\n",
       "31 14         13         15              SCM%_scaled   -1.0708562\n",
       "32 14         13         15              TE%_scaled    -1.7271353\n",
       "33 14         13         15              PD1%_scaled   -0.6093947"
      ]
     },
     "metadata": {},
     "output_type": "display_data"
    }
   ],
   "source": [
    "head(df_x01_long_narm)"
   ]
  },
  {
   "cell_type": "markdown",
   "metadata": {},
   "source": [
    "Boxplot"
   ]
  },
  {
   "cell_type": "code",
   "execution_count": 94,
   "metadata": {
    "vscode": {
     "languageId": "r"
    }
   },
   "outputs": [],
   "source": [
    "# use scaled for viz\n",
    "df_x01_long_narm$Featurename <- gsub(\"_scaled\", \"\", df_x01_long_narm$Feature)"
   ]
  },
  {
   "cell_type": "code",
   "execution_count": 95,
   "metadata": {
    "vscode": {
     "languageId": "r"
    }
   },
   "outputs": [
    {
     "data": {
      "text/plain": [
       "\n",
       "       CM%        EM%      LAG3% log10shann     Naïve%       PD1%       SCM% \n",
       "        36         36         34         44         36         34         36 \n",
       "       TE%      TIM3% \n",
       "        36         34 "
      ]
     },
     "metadata": {},
     "output_type": "display_data"
    }
   ],
   "source": [
    "table(df_x01_long_narm$Featurename )"
   ]
  },
  {
   "cell_type": "code",
   "execution_count": 96,
   "metadata": {
    "vscode": {
     "languageId": "r"
    }
   },
   "outputs": [],
   "source": [
    "df_x01_long_narm$Featurename  <- factor(df_x01_long_narm$Featurename , \n",
    "levels = c(  \n",
    "  #\"GLIPH_PC2\", \"GLIPH_PC1\",\"gliph_n\",\"J_PC2\", \"J_PC1\",  \"V_PC2\", \"V_PC1\",\n",
    "  \"log10shann\" ,\n",
    "  \"LAG3%\", \"TIM3%\", \"PD1%\" ,\"TE%\",\"EM%\" ,\"CM%\", \"SCM%\", \"Naïve%\"))"
   ]
  },
  {
   "cell_type": "code",
   "execution_count": 97,
   "metadata": {
    "vscode": {
     "languageId": "r"
    }
   },
   "outputs": [],
   "source": [
    "p1 <- ggplot(df_x01_long_narm, aes(y = Featurename, x = X01)) +  geom_point(aes( color = cancergroup), position = position_jitter(w = 0.05, h = 0.15)) +\n",
    "        geom_boxplot(outlier.shape = NA, alpha = 0, color = \"#b7b2b2\") + myaxis + myplot + scale_color_manual(values = group_col)"
   ]
  },
  {
   "cell_type": "code",
   "execution_count": 98,
   "metadata": {
    "vscode": {
     "languageId": "r"
    }
   },
   "outputs": [
    {
     "data": {
      "image/png": "[encoded data removed]",
      "text/plain": [
       "plot without title"
      ]
     },
     "metadata": {
      "image/png": {
       "height": 420,
       "width": 420
      }
     },
     "output_type": "display_data"
    }
   ],
   "source": [
    "p1"
   ]
  },
  {
   "cell_type": "code",
   "execution_count": 99,
   "metadata": {
    "vscode": {
     "languageId": "r"
    }
   },
   "outputs": [
    {
     "data": {
      "text/html": [
       "<strong>pdf:</strong> 2"
      ],
      "text/latex": [
       "\\textbf{pdf:} 2"
      ],
      "text/markdown": [
       "**pdf:** 2"
      ],
      "text/plain": [
       "pdf \n",
       "  2 "
      ]
     },
     "metadata": {},
     "output_type": "display_data"
    }
   ],
   "source": [
    "pdf( paste0(plotpath, \"X01.pdf\"), width = 6, height = 8)\n",
    "p1 + theme(legend.position = \"bottom\")\n",
    "dev.off()"
   ]
  },
  {
   "cell_type": "markdown",
   "metadata": {},
   "source": [
    "LR and forestplot"
   ]
  },
  {
   "cell_type": "markdown",
   "metadata": {},
   "source": [
    "Use unscaled data for glm"
   ]
  },
  {
   "cell_type": "code",
   "execution_count": 100,
   "metadata": {
    "vscode": {
     "languageId": "r"
    }
   },
   "outputs": [],
   "source": [
    "mycol <- c(  \n",
    "  # \"GLIPH_PC2\", \"GLIPH_PC1\",\"gliph_n\",\"J_PC2\", \"J_PC1\",  \"V_PC2\", \"V_PC1\",\n",
    "  \"log10shann\" ,\n",
    "  \"LAG3%\", \"TIM3%\", \"PD1%\" ,\"TE%\",\"EM%\" ,\"CM%\", \"SCM%\", \"Naïve%\")"
   ]
  },
  {
   "cell_type": "code",
   "execution_count": 101,
   "metadata": {
    "vscode": {
     "languageId": "r"
    }
   },
   "outputs": [
    {
     "data": {
      "text/html": [
       "<style>\n",
       ".list-inline {list-style: none; margin:0; padding: 0}\n",
       ".list-inline>li {display: inline-block}\n",
       ".list-inline>li:not(:last-child)::after {content: \"\\00b7\"; padding: 0 .5ex}\n",
       "</style>\n",
       "<ol class=list-inline><li>'Naïve%'</li><li>'SCM%'</li><li>'CM%'</li><li>'EM%'</li><li>'TE%'</li><li>'PD1%'</li><li>'TIM3%'</li><li>'LAG3%'</li><li>'log10shann'</li></ol>\n"
      ],
      "text/latex": [
       "\\begin{enumerate*}\n",
       "\\item 'Naïve\\%'\n",
       "\\item 'SCM\\%'\n",
       "\\item 'CM\\%'\n",
       "\\item 'EM\\%'\n",
       "\\item 'TE\\%'\n",
       "\\item 'PD1\\%'\n",
       "\\item 'TIM3\\%'\n",
       "\\item 'LAG3\\%'\n",
       "\\item 'log10shann'\n",
       "\\end{enumerate*}\n"
      ],
      "text/markdown": [
       "1. 'Naïve%'\n",
       "2. 'SCM%'\n",
       "3. 'CM%'\n",
       "4. 'EM%'\n",
       "5. 'TE%'\n",
       "6. 'PD1%'\n",
       "7. 'TIM3%'\n",
       "8. 'LAG3%'\n",
       "9. 'log10shann'\n",
       "\n",
       "\n"
      ],
      "text/plain": [
       "[1] \"Naïve%\"     \"SCM%\"       \"CM%\"        \"EM%\"        \"TE%\"       \n",
       "[6] \"PD1%\"       \"TIM3%\"      \"LAG3%\"      \"log10shann\""
      ]
     },
     "metadata": {},
     "output_type": "display_data"
    }
   ],
   "source": [
    "rev(mycol)"
   ]
  },
  {
   "cell_type": "code",
   "execution_count": 102,
   "metadata": {
    "vscode": {
     "languageId": "r"
    }
   },
   "outputs": [
    {
     "data": {
      "text/html": [
       "<style>\n",
       ".list-inline {list-style: none; margin:0; padding: 0}\n",
       ".list-inline>li {display: inline-block}\n",
       ".list-inline>li:not(:last-child)::after {content: \"\\00b7\"; padding: 0 .5ex}\n",
       "</style>\n",
       "<ol class=list-inline><li>'Patient'</li><li>'cancergroup'</li><li>'sample_id.x'</li><li>'cycle.x'</li><li>'FOLD.x'</li><li>'ATC.x'</li><li>'Age.x'</li><li>'Disease_type.x'</li><li>'TE_fold.x'</li><li>'CD3.x'</li><li>'EM.x'</li><li>'CM.x'</li><li>'Naïve.x'</li><li>'SCM.x'</li><li>'TE.x'</li><li>'EM%.x'</li><li>'CM%.x'</li><li>'Naïve%.x'</li><li>'SCM%.x'</li><li>'TE%.x'</li><li>'Naïve/TE.x'</li><li>'N+CM+SCM/TE+EM.x'</li><li>'PD-1.x'</li><li>'PDL1.x'</li><li>'LAG3.x'</li><li>'TIM3.x'</li><li>'CTLA4.x'</li><li>'PD1%.x'</li><li>'PDL1%.x'</li><li>'LAG3%.x'</li><li>'TIM3%.x'</li><li>'CTLA4%.x'</li><li>'Any NCR.x'</li><li>'PD1 + LAG3 + TIM3.x'</li><li>'agegroup.x'</li><li>'foldgroup.x'</li><li>'Remission.x'</li><li>'Relapse.x'</li><li>'Transplant.x'</li><li>'CART.x'</li><li>'vital_status.x'</li><li>'LOF.x'</li><li>'TRB.x'</li><li>'Reads.x'</li><li>'CPKR.x'</li><li>'Average_reads.x'</li><li>'VMR.x'</li><li>'Max_reads.x'</li><li>'Singletons.x'</li><li>'Doubletons.x'</li><li>'qD.x'</li><li>'Sample_Coverage.x'</li><li>'observed_Richness.x'</li><li>'estimated_Richness.x'</li><li>'SE_Richeness.x'</li><li>'observed_Shannon.x'</li><li>'estimated_Shannon.x'</li><li>'SE_Shannon.x'</li><li>'observed_Simpson.x'</li><li>'estimated_Simpson.x'</li><li>'SE_Simpson.x'</li><li>'basename.x'</li><li>'file.x'</li><li>'sampletype.x'</li><li>'Group.x'</li><li>'log10shann.x'</li><li>'aveTiRP.x'</li><li>'medTiRP.x'</li><li>'HLA_PC1.x'</li><li>'HLA_PC2.x'</li><li>'HLA_PC3.x'</li><li>'V_PC1.x'</li><li>'V_PC2.x'</li><li>'V_PC3.x'</li><li>'J_PC1.x'</li><li>'J_PC2.x'</li><li>'J_PC3.x'</li><li>'samplename.x'</li><li>'gliph_n.x'</li><li>'CMV.x'</li><li>'EBV.x'</li><li>'HCV.x'</li><li>'Flu.x'</li><li>'hs.x'</li><li>'cfDNA_TRB.x'</li><li>'cfDNA_Reads.x'</li><li>'cfDNA_CPKR.x'</li><li>'cfDNA_Average_reads.x'</li><li>'cfDNA_VMR.x'</li><li>'cfDNA_Max_reads.x'</li><li>'cfDNA_Singletons.x'</li><li>'cfDNA_Doubletons.x'</li><li>'cfDNA_qD.x'</li><li>'cfDNA_Sample_Coverage.x'</li><li>'cfDNA_observed_Richness.x'</li><li>'cfDNA_estimated_Richness.x'</li><li>'cfDNA_SE_Richeness.x'</li><li>'cfDNA_observed_Shannon.x'</li><li>'cfDNA_estimated_Shannon.x'</li><li>'cfDNA_SE_Shannon.x'</li><li>'cfDNA_observed_Simpson.x'</li><li>'cfDNA_estimated_Simpson.x'</li><li>'cfDNA_SE_Simpson.x'</li><li>'cfDNA_basename.x'</li><li>'cfDNA_file.x'</li><li>'cfDNA_sampletype.x'</li><li>'cfDNA_Group.x'</li><li>'cfDNA_log10shann.x'</li><li>'cfDNA_aveTiRP.x'</li><li>'cfDNA_medTiRP.x'</li><li>'cfDNA_V_PC1.x'</li><li>'cfDNA_V_PC2.x'</li><li>'cfDNA_V_PC3.x'</li><li>'cfDNA_J_PC1.x'</li><li>'cfDNA_J_PC2.x'</li><li>'cfDNA_J_PC3.x'</li><li>'cfDNA_samplename.x'</li><li>'cfDNA_gliph_n.x'</li><li>'cfDNA_CMV.x'</li><li>'cfDNA_EBV.x'</li><li>'cfDNA_HCV.x'</li><li>'cfDNA_Flu.x'</li><li>'cfDNA_hs.x'</li><li>'cyclenum.x'</li><li>'sample_id.y'</li><li>'cycle.y'</li><li>'FOLD.y'</li><li>'ATC.y'</li><li>'Age.y'</li><li>'Disease_type.y'</li><li>'TE_fold.y'</li><li>'CD3.y'</li><li>'EM.y'</li><li>'CM.y'</li><li>'Naïve.y'</li><li>'SCM.y'</li><li>'TE.y'</li><li>'EM%.y'</li><li>'CM%.y'</li><li>'Naïve%.y'</li><li>'SCM%.y'</li><li>'TE%.y'</li><li>'Naïve/TE.y'</li><li>'N+CM+SCM/TE+EM.y'</li><li>'PD-1.y'</li><li>'PDL1.y'</li><li>'LAG3.y'</li><li>'TIM3.y'</li><li>'CTLA4.y'</li><li>'PD1%.y'</li><li>'PDL1%.y'</li><li>'LAG3%.y'</li><li>'TIM3%.y'</li><li>'CTLA4%.y'</li><li>'Any NCR.y'</li><li>'PD1 + LAG3 + TIM3.y'</li><li>'agegroup.y'</li><li>'foldgroup.y'</li><li>'Remission.y'</li><li>'Relapse.y'</li><li>'Transplant.y'</li><li>'CART.y'</li><li>'vital_status.y'</li><li>'LOF.y'</li><li>'TRB.y'</li><li>'Reads.y'</li><li>'CPKR.y'</li><li>'Average_reads.y'</li><li>'VMR.y'</li><li>'Max_reads.y'</li><li>'Singletons.y'</li><li>'Doubletons.y'</li><li>'qD.y'</li><li>'Sample_Coverage.y'</li><li>'observed_Richness.y'</li><li>'estimated_Richness.y'</li><li>'SE_Richeness.y'</li><li>'observed_Shannon.y'</li><li>'estimated_Shannon.y'</li><li>'SE_Shannon.y'</li><li>'observed_Simpson.y'</li><li>'estimated_Simpson.y'</li><li>'SE_Simpson.y'</li><li>'basename.y'</li><li>'file.y'</li><li>'sampletype.y'</li><li>'Group.y'</li><li>'log10shann.y'</li><li>'aveTiRP.y'</li><li>'medTiRP.y'</li><li>'HLA_PC1.y'</li><li>'HLA_PC2.y'</li><li>'HLA_PC3.y'</li><li>'V_PC1.y'</li><li>'V_PC2.y'</li><li>'V_PC3.y'</li><li>'J_PC1.y'</li><li>'J_PC2.y'</li><li>'J_PC3.y'</li><li>'samplename.y'</li><li>'gliph_n.y'</li><li>'CMV.y'</li><li>'EBV.y'</li><li>'HCV.y'</li><li>'Flu.y'</li><li>'hs.y'</li><li>'cfDNA_TRB.y'</li><li>'cfDNA_Reads.y'</li><li>'cfDNA_CPKR.y'</li><li>'cfDNA_Average_reads.y'</li><li>'cfDNA_VMR.y'</li><li>'cfDNA_Max_reads.y'</li><li>'cfDNA_Singletons.y'</li><li>'cfDNA_Doubletons.y'</li><li>'cfDNA_qD.y'</li><li>'cfDNA_Sample_Coverage.y'</li><li>'cfDNA_observed_Richness.y'</li><li>'cfDNA_estimated_Richness.y'</li><li>'cfDNA_SE_Richeness.y'</li><li>'cfDNA_observed_Shannon.y'</li><li>'cfDNA_estimated_Shannon.y'</li><li>'cfDNA_SE_Shannon.y'</li><li>'cfDNA_observed_Simpson.y'</li><li>'cfDNA_estimated_Simpson.y'</li><li>'cfDNA_SE_Simpson.y'</li><li>'cfDNA_basename.y'</li><li>'cfDNA_file.y'</li><li>'cfDNA_sampletype.y'</li><li>'cfDNA_Group.y'</li><li>'cfDNA_log10shann.y'</li><li>'cfDNA_aveTiRP.y'</li><li>'cfDNA_medTiRP.y'</li><li>'cfDNA_V_PC1.y'</li><li>'cfDNA_V_PC2.y'</li><li>'cfDNA_V_PC3.y'</li><li>'cfDNA_J_PC1.y'</li><li>'cfDNA_J_PC2.y'</li><li>'cfDNA_J_PC3.y'</li><li>'cfDNA_samplename.y'</li><li>'cfDNA_gliph_n.y'</li><li>'cfDNA_CMV.y'</li><li>'cfDNA_EBV.y'</li><li>'cfDNA_HCV.y'</li><li>'cfDNA_Flu.y'</li><li>'cfDNA_hs.y'</li><li>'cyclenum.y'</li><li>'sample_id'</li><li>'cycle'</li><li>'FOLD'</li><li>'ATC'</li><li>'Age'</li><li>'Disease_type'</li><li>'TE_fold'</li><li>'CD3'</li><li>'EM'</li><li>'CM'</li><li>'Naïve'</li><li>'SCM'</li><li>'TE'</li><li>'EM%'</li><li>'CM%'</li><li>'Naïve%'</li><li>'SCM%'</li><li>'TE%'</li><li>'Naïve/TE'</li><li>'N+CM+SCM/TE+EM'</li><li>'PD-1'</li><li>'PDL1'</li><li>'LAG3'</li><li>'TIM3'</li><li>'CTLA4'</li><li>'PD1%'</li><li>'PDL1%'</li><li>'LAG3%'</li><li>'TIM3%'</li><li>'CTLA4%'</li><li>'Any NCR'</li><li>'PD1 + LAG3 + TIM3'</li><li>'agegroup'</li><li>'foldgroup'</li><li>'Remission'</li><li>'Relapse'</li><li>'Transplant'</li><li>'CART'</li><li>'vital_status'</li><li>'LOF'</li><li>'TRB'</li><li>'Reads'</li><li>'CPKR'</li><li>'Average_reads'</li><li>'VMR'</li><li>'Max_reads'</li><li>'Singletons'</li><li>'Doubletons'</li><li>'qD'</li><li>'Sample_Coverage'</li><li>'observed_Richness'</li><li>'estimated_Richness'</li><li>'SE_Richeness'</li><li>'observed_Shannon'</li><li>'estimated_Shannon'</li><li>'SE_Shannon'</li><li>'observed_Simpson'</li><li>'estimated_Simpson'</li><li>'SE_Simpson'</li><li>'basename'</li><li>'file'</li><li>'sampletype'</li><li>'Group'</li><li>'log10shann'</li><li>'aveTiRP'</li><li>'medTiRP'</li><li>'HLA_PC1'</li><li>'HLA_PC2'</li><li>'HLA_PC3'</li><li>'V_PC1'</li><li>'V_PC2'</li><li>'V_PC3'</li><li>'J_PC1'</li><li>'J_PC2'</li><li>'J_PC3'</li><li>'samplename'</li><li>'gliph_n'</li><li>'CMV'</li><li>'EBV'</li><li>'HCV'</li><li>'Flu'</li><li>'hs'</li><li>'cfDNA_TRB'</li><li>'cfDNA_Reads'</li><li>'cfDNA_CPKR'</li><li>'cfDNA_Average_reads'</li><li>'cfDNA_VMR'</li><li>'cfDNA_Max_reads'</li><li>'cfDNA_Singletons'</li><li>'cfDNA_Doubletons'</li><li>'cfDNA_qD'</li><li>'cfDNA_Sample_Coverage'</li><li>'cfDNA_observed_Richness'</li><li>'cfDNA_estimated_Richness'</li><li>'cfDNA_SE_Richeness'</li><li>'cfDNA_observed_Shannon'</li><li>'cfDNA_estimated_Shannon'</li><li>'cfDNA_SE_Shannon'</li><li>'cfDNA_observed_Simpson'</li><li>'cfDNA_estimated_Simpson'</li><li>'cfDNA_SE_Simpson'</li><li>'cfDNA_basename'</li><li>'cfDNA_file'</li><li>'cfDNA_sampletype'</li><li>'cfDNA_Group'</li><li>'cfDNA_log10shann'</li><li>'cfDNA_aveTiRP'</li><li>'cfDNA_medTiRP'</li><li>'cfDNA_V_PC1'</li><li>'cfDNA_V_PC2'</li><li>'cfDNA_V_PC3'</li><li>'cfDNA_J_PC1'</li><li>'cfDNA_J_PC2'</li><li>'cfDNA_J_PC3'</li><li>'cfDNA_samplename'</li><li>'cfDNA_gliph_n'</li><li>'cfDNA_CMV'</li><li>'cfDNA_EBV'</li><li>'cfDNA_HCV'</li><li>'cfDNA_Flu'</li><li>'cfDNA_hs'</li><li>'cyclenum'</li><li>'GLIPH_PC1'</li><li>'GLIPH_PC2'</li><li>'EM%_scaled'</li><li>'CM%_scaled'</li><li>'Naïve%_scaled'</li><li>'SCM%_scaled'</li><li>'TE%_scaled'</li><li>'PD1%_scaled'</li><li>'TIM3%_scaled'</li><li>'LAG3%_scaled'</li><li>'log10shann_scaled'</li><li>'EM%_rank'</li><li>'CM%_rank'</li><li>'Naïve%_rank'</li><li>'SCM%_rank'</li><li>'TE%_rank'</li><li>'PD1%_rank'</li><li>'TIM3%_rank'</li><li>'LAG3%_rank'</li><li>'log10shann_rank'</li></ol>\n"
      ],
      "text/latex": [
       "\\begin{enumerate*}\n",
       "\\item 'Patient'\n",
       "\\item 'cancergroup'\n",
       "\\item 'sample\\_id.x'\n",
       "\\item 'cycle.x'\n",
       "\\item 'FOLD.x'\n",
       "\\item 'ATC.x'\n",
       "\\item 'Age.x'\n",
       "\\item 'Disease\\_type.x'\n",
       "\\item 'TE\\_fold.x'\n",
       "\\item 'CD3.x'\n",
       "\\item 'EM.x'\n",
       "\\item 'CM.x'\n",
       "\\item 'Naïve.x'\n",
       "\\item 'SCM.x'\n",
       "\\item 'TE.x'\n",
       "\\item 'EM\\%.x'\n",
       "\\item 'CM\\%.x'\n",
       "\\item 'Naïve\\%.x'\n",
       "\\item 'SCM\\%.x'\n",
       "\\item 'TE\\%.x'\n",
       "\\item 'Naïve/TE.x'\n",
       "\\item 'N+CM+SCM/TE+EM.x'\n",
       "\\item 'PD-1.x'\n",
       "\\item 'PDL1.x'\n",
       "\\item 'LAG3.x'\n",
       "\\item 'TIM3.x'\n",
       "\\item 'CTLA4.x'\n",
       "\\item 'PD1\\%.x'\n",
       "\\item 'PDL1\\%.x'\n",
       "\\item 'LAG3\\%.x'\n",
       "\\item 'TIM3\\%.x'\n",
       "\\item 'CTLA4\\%.x'\n",
       "\\item 'Any NCR.x'\n",
       "\\item 'PD1 + LAG3 + TIM3.x'\n",
       "\\item 'agegroup.x'\n",
       "\\item 'foldgroup.x'\n",
       "\\item 'Remission.x'\n",
       "\\item 'Relapse.x'\n",
       "\\item 'Transplant.x'\n",
       "\\item 'CART.x'\n",
       "\\item 'vital\\_status.x'\n",
       "\\item 'LOF.x'\n",
       "\\item 'TRB.x'\n",
       "\\item 'Reads.x'\n",
       "\\item 'CPKR.x'\n",
       "\\item 'Average\\_reads.x'\n",
       "\\item 'VMR.x'\n",
       "\\item 'Max\\_reads.x'\n",
       "\\item 'Singletons.x'\n",
       "\\item 'Doubletons.x'\n",
       "\\item 'qD.x'\n",
       "\\item 'Sample\\_Coverage.x'\n",
       "\\item 'observed\\_Richness.x'\n",
       "\\item 'estimated\\_Richness.x'\n",
       "\\item 'SE\\_Richeness.x'\n",
       "\\item 'observed\\_Shannon.x'\n",
       "\\item 'estimated\\_Shannon.x'\n",
       "\\item 'SE\\_Shannon.x'\n",
       "\\item 'observed\\_Simpson.x'\n",
       "\\item 'estimated\\_Simpson.x'\n",
       "\\item 'SE\\_Simpson.x'\n",
       "\\item 'basename.x'\n",
       "\\item 'file.x'\n",
       "\\item 'sampletype.x'\n",
       "\\item 'Group.x'\n",
       "\\item 'log10shann.x'\n",
       "\\item 'aveTiRP.x'\n",
       "\\item 'medTiRP.x'\n",
       "\\item 'HLA\\_PC1.x'\n",
       "\\item 'HLA\\_PC2.x'\n",
       "\\item 'HLA\\_PC3.x'\n",
       "\\item 'V\\_PC1.x'\n",
       "\\item 'V\\_PC2.x'\n",
       "\\item 'V\\_PC3.x'\n",
       "\\item 'J\\_PC1.x'\n",
       "\\item 'J\\_PC2.x'\n",
       "\\item 'J\\_PC3.x'\n",
       "\\item 'samplename.x'\n",
       "\\item 'gliph\\_n.x'\n",
       "\\item 'CMV.x'\n",
       "\\item 'EBV.x'\n",
       "\\item 'HCV.x'\n",
       "\\item 'Flu.x'\n",
       "\\item 'hs.x'\n",
       "\\item 'cfDNA\\_TRB.x'\n",
       "\\item 'cfDNA\\_Reads.x'\n",
       "\\item 'cfDNA\\_CPKR.x'\n",
       "\\item 'cfDNA\\_Average\\_reads.x'\n",
       "\\item 'cfDNA\\_VMR.x'\n",
       "\\item 'cfDNA\\_Max\\_reads.x'\n",
       "\\item 'cfDNA\\_Singletons.x'\n",
       "\\item 'cfDNA\\_Doubletons.x'\n",
       "\\item 'cfDNA\\_qD.x'\n",
       "\\item 'cfDNA\\_Sample\\_Coverage.x'\n",
       "\\item 'cfDNA\\_observed\\_Richness.x'\n",
       "\\item 'cfDNA\\_estimated\\_Richness.x'\n",
       "\\item 'cfDNA\\_SE\\_Richeness.x'\n",
       "\\item 'cfDNA\\_observed\\_Shannon.x'\n",
       "\\item 'cfDNA\\_estimated\\_Shannon.x'\n",
       "\\item 'cfDNA\\_SE\\_Shannon.x'\n",
       "\\item 'cfDNA\\_observed\\_Simpson.x'\n",
       "\\item 'cfDNA\\_estimated\\_Simpson.x'\n",
       "\\item 'cfDNA\\_SE\\_Simpson.x'\n",
       "\\item 'cfDNA\\_basename.x'\n",
       "\\item 'cfDNA\\_file.x'\n",
       "\\item 'cfDNA\\_sampletype.x'\n",
       "\\item 'cfDNA\\_Group.x'\n",
       "\\item 'cfDNA\\_log10shann.x'\n",
       "\\item 'cfDNA\\_aveTiRP.x'\n",
       "\\item 'cfDNA\\_medTiRP.x'\n",
       "\\item 'cfDNA\\_V\\_PC1.x'\n",
       "\\item 'cfDNA\\_V\\_PC2.x'\n",
       "\\item 'cfDNA\\_V\\_PC3.x'\n",
       "\\item 'cfDNA\\_J\\_PC1.x'\n",
       "\\item 'cfDNA\\_J\\_PC2.x'\n",
       "\\item 'cfDNA\\_J\\_PC3.x'\n",
       "\\item 'cfDNA\\_samplename.x'\n",
       "\\item 'cfDNA\\_gliph\\_n.x'\n",
       "\\item 'cfDNA\\_CMV.x'\n",
       "\\item 'cfDNA\\_EBV.x'\n",
       "\\item 'cfDNA\\_HCV.x'\n",
       "\\item 'cfDNA\\_Flu.x'\n",
       "\\item 'cfDNA\\_hs.x'\n",
       "\\item 'cyclenum.x'\n",
       "\\item 'sample\\_id.y'\n",
       "\\item 'cycle.y'\n",
       "\\item 'FOLD.y'\n",
       "\\item 'ATC.y'\n",
       "\\item 'Age.y'\n",
       "\\item 'Disease\\_type.y'\n",
       "\\item 'TE\\_fold.y'\n",
       "\\item 'CD3.y'\n",
       "\\item 'EM.y'\n",
       "\\item 'CM.y'\n",
       "\\item 'Naïve.y'\n",
       "\\item 'SCM.y'\n",
       "\\item 'TE.y'\n",
       "\\item 'EM\\%.y'\n",
       "\\item 'CM\\%.y'\n",
       "\\item 'Naïve\\%.y'\n",
       "\\item 'SCM\\%.y'\n",
       "\\item 'TE\\%.y'\n",
       "\\item 'Naïve/TE.y'\n",
       "\\item 'N+CM+SCM/TE+EM.y'\n",
       "\\item 'PD-1.y'\n",
       "\\item 'PDL1.y'\n",
       "\\item 'LAG3.y'\n",
       "\\item 'TIM3.y'\n",
       "\\item 'CTLA4.y'\n",
       "\\item 'PD1\\%.y'\n",
       "\\item 'PDL1\\%.y'\n",
       "\\item 'LAG3\\%.y'\n",
       "\\item 'TIM3\\%.y'\n",
       "\\item 'CTLA4\\%.y'\n",
       "\\item 'Any NCR.y'\n",
       "\\item 'PD1 + LAG3 + TIM3.y'\n",
       "\\item 'agegroup.y'\n",
       "\\item 'foldgroup.y'\n",
       "\\item 'Remission.y'\n",
       "\\item 'Relapse.y'\n",
       "\\item 'Transplant.y'\n",
       "\\item 'CART.y'\n",
       "\\item 'vital\\_status.y'\n",
       "\\item 'LOF.y'\n",
       "\\item 'TRB.y'\n",
       "\\item 'Reads.y'\n",
       "\\item 'CPKR.y'\n",
       "\\item 'Average\\_reads.y'\n",
       "\\item 'VMR.y'\n",
       "\\item 'Max\\_reads.y'\n",
       "\\item 'Singletons.y'\n",
       "\\item 'Doubletons.y'\n",
       "\\item 'qD.y'\n",
       "\\item 'Sample\\_Coverage.y'\n",
       "\\item 'observed\\_Richness.y'\n",
       "\\item 'estimated\\_Richness.y'\n",
       "\\item 'SE\\_Richeness.y'\n",
       "\\item 'observed\\_Shannon.y'\n",
       "\\item 'estimated\\_Shannon.y'\n",
       "\\item 'SE\\_Shannon.y'\n",
       "\\item 'observed\\_Simpson.y'\n",
       "\\item 'estimated\\_Simpson.y'\n",
       "\\item 'SE\\_Simpson.y'\n",
       "\\item 'basename.y'\n",
       "\\item 'file.y'\n",
       "\\item 'sampletype.y'\n",
       "\\item 'Group.y'\n",
       "\\item 'log10shann.y'\n",
       "\\item 'aveTiRP.y'\n",
       "\\item 'medTiRP.y'\n",
       "\\item 'HLA\\_PC1.y'\n",
       "\\item 'HLA\\_PC2.y'\n",
       "\\item 'HLA\\_PC3.y'\n",
       "\\item 'V\\_PC1.y'\n",
       "\\item 'V\\_PC2.y'\n",
       "\\item 'V\\_PC3.y'\n",
       "\\item 'J\\_PC1.y'\n",
       "\\item 'J\\_PC2.y'\n",
       "\\item 'J\\_PC3.y'\n",
       "\\item 'samplename.y'\n",
       "\\item 'gliph\\_n.y'\n",
       "\\item 'CMV.y'\n",
       "\\item 'EBV.y'\n",
       "\\item 'HCV.y'\n",
       "\\item 'Flu.y'\n",
       "\\item 'hs.y'\n",
       "\\item 'cfDNA\\_TRB.y'\n",
       "\\item 'cfDNA\\_Reads.y'\n",
       "\\item 'cfDNA\\_CPKR.y'\n",
       "\\item 'cfDNA\\_Average\\_reads.y'\n",
       "\\item 'cfDNA\\_VMR.y'\n",
       "\\item 'cfDNA\\_Max\\_reads.y'\n",
       "\\item 'cfDNA\\_Singletons.y'\n",
       "\\item 'cfDNA\\_Doubletons.y'\n",
       "\\item 'cfDNA\\_qD.y'\n",
       "\\item 'cfDNA\\_Sample\\_Coverage.y'\n",
       "\\item 'cfDNA\\_observed\\_Richness.y'\n",
       "\\item 'cfDNA\\_estimated\\_Richness.y'\n",
       "\\item 'cfDNA\\_SE\\_Richeness.y'\n",
       "\\item 'cfDNA\\_observed\\_Shannon.y'\n",
       "\\item 'cfDNA\\_estimated\\_Shannon.y'\n",
       "\\item 'cfDNA\\_SE\\_Shannon.y'\n",
       "\\item 'cfDNA\\_observed\\_Simpson.y'\n",
       "\\item 'cfDNA\\_estimated\\_Simpson.y'\n",
       "\\item 'cfDNA\\_SE\\_Simpson.y'\n",
       "\\item 'cfDNA\\_basename.y'\n",
       "\\item 'cfDNA\\_file.y'\n",
       "\\item 'cfDNA\\_sampletype.y'\n",
       "\\item 'cfDNA\\_Group.y'\n",
       "\\item 'cfDNA\\_log10shann.y'\n",
       "\\item 'cfDNA\\_aveTiRP.y'\n",
       "\\item 'cfDNA\\_medTiRP.y'\n",
       "\\item 'cfDNA\\_V\\_PC1.y'\n",
       "\\item 'cfDNA\\_V\\_PC2.y'\n",
       "\\item 'cfDNA\\_V\\_PC3.y'\n",
       "\\item 'cfDNA\\_J\\_PC1.y'\n",
       "\\item 'cfDNA\\_J\\_PC2.y'\n",
       "\\item 'cfDNA\\_J\\_PC3.y'\n",
       "\\item 'cfDNA\\_samplename.y'\n",
       "\\item 'cfDNA\\_gliph\\_n.y'\n",
       "\\item 'cfDNA\\_CMV.y'\n",
       "\\item 'cfDNA\\_EBV.y'\n",
       "\\item 'cfDNA\\_HCV.y'\n",
       "\\item 'cfDNA\\_Flu.y'\n",
       "\\item 'cfDNA\\_hs.y'\n",
       "\\item 'cyclenum.y'\n",
       "\\item 'sample\\_id'\n",
       "\\item 'cycle'\n",
       "\\item 'FOLD'\n",
       "\\item 'ATC'\n",
       "\\item 'Age'\n",
       "\\item 'Disease\\_type'\n",
       "\\item 'TE\\_fold'\n",
       "\\item 'CD3'\n",
       "\\item 'EM'\n",
       "\\item 'CM'\n",
       "\\item 'Naïve'\n",
       "\\item 'SCM'\n",
       "\\item 'TE'\n",
       "\\item 'EM\\%'\n",
       "\\item 'CM\\%'\n",
       "\\item 'Naïve\\%'\n",
       "\\item 'SCM\\%'\n",
       "\\item 'TE\\%'\n",
       "\\item 'Naïve/TE'\n",
       "\\item 'N+CM+SCM/TE+EM'\n",
       "\\item 'PD-1'\n",
       "\\item 'PDL1'\n",
       "\\item 'LAG3'\n",
       "\\item 'TIM3'\n",
       "\\item 'CTLA4'\n",
       "\\item 'PD1\\%'\n",
       "\\item 'PDL1\\%'\n",
       "\\item 'LAG3\\%'\n",
       "\\item 'TIM3\\%'\n",
       "\\item 'CTLA4\\%'\n",
       "\\item 'Any NCR'\n",
       "\\item 'PD1 + LAG3 + TIM3'\n",
       "\\item 'agegroup'\n",
       "\\item 'foldgroup'\n",
       "\\item 'Remission'\n",
       "\\item 'Relapse'\n",
       "\\item 'Transplant'\n",
       "\\item 'CART'\n",
       "\\item 'vital\\_status'\n",
       "\\item 'LOF'\n",
       "\\item 'TRB'\n",
       "\\item 'Reads'\n",
       "\\item 'CPKR'\n",
       "\\item 'Average\\_reads'\n",
       "\\item 'VMR'\n",
       "\\item 'Max\\_reads'\n",
       "\\item 'Singletons'\n",
       "\\item 'Doubletons'\n",
       "\\item 'qD'\n",
       "\\item 'Sample\\_Coverage'\n",
       "\\item 'observed\\_Richness'\n",
       "\\item 'estimated\\_Richness'\n",
       "\\item 'SE\\_Richeness'\n",
       "\\item 'observed\\_Shannon'\n",
       "\\item 'estimated\\_Shannon'\n",
       "\\item 'SE\\_Shannon'\n",
       "\\item 'observed\\_Simpson'\n",
       "\\item 'estimated\\_Simpson'\n",
       "\\item 'SE\\_Simpson'\n",
       "\\item 'basename'\n",
       "\\item 'file'\n",
       "\\item 'sampletype'\n",
       "\\item 'Group'\n",
       "\\item 'log10shann'\n",
       "\\item 'aveTiRP'\n",
       "\\item 'medTiRP'\n",
       "\\item 'HLA\\_PC1'\n",
       "\\item 'HLA\\_PC2'\n",
       "\\item 'HLA\\_PC3'\n",
       "\\item 'V\\_PC1'\n",
       "\\item 'V\\_PC2'\n",
       "\\item 'V\\_PC3'\n",
       "\\item 'J\\_PC1'\n",
       "\\item 'J\\_PC2'\n",
       "\\item 'J\\_PC3'\n",
       "\\item 'samplename'\n",
       "\\item 'gliph\\_n'\n",
       "\\item 'CMV'\n",
       "\\item 'EBV'\n",
       "\\item 'HCV'\n",
       "\\item 'Flu'\n",
       "\\item 'hs'\n",
       "\\item 'cfDNA\\_TRB'\n",
       "\\item 'cfDNA\\_Reads'\n",
       "\\item 'cfDNA\\_CPKR'\n",
       "\\item 'cfDNA\\_Average\\_reads'\n",
       "\\item 'cfDNA\\_VMR'\n",
       "\\item 'cfDNA\\_Max\\_reads'\n",
       "\\item 'cfDNA\\_Singletons'\n",
       "\\item 'cfDNA\\_Doubletons'\n",
       "\\item 'cfDNA\\_qD'\n",
       "\\item 'cfDNA\\_Sample\\_Coverage'\n",
       "\\item 'cfDNA\\_observed\\_Richness'\n",
       "\\item 'cfDNA\\_estimated\\_Richness'\n",
       "\\item 'cfDNA\\_SE\\_Richeness'\n",
       "\\item 'cfDNA\\_observed\\_Shannon'\n",
       "\\item 'cfDNA\\_estimated\\_Shannon'\n",
       "\\item 'cfDNA\\_SE\\_Shannon'\n",
       "\\item 'cfDNA\\_observed\\_Simpson'\n",
       "\\item 'cfDNA\\_estimated\\_Simpson'\n",
       "\\item 'cfDNA\\_SE\\_Simpson'\n",
       "\\item 'cfDNA\\_basename'\n",
       "\\item 'cfDNA\\_file'\n",
       "\\item 'cfDNA\\_sampletype'\n",
       "\\item 'cfDNA\\_Group'\n",
       "\\item 'cfDNA\\_log10shann'\n",
       "\\item 'cfDNA\\_aveTiRP'\n",
       "\\item 'cfDNA\\_medTiRP'\n",
       "\\item 'cfDNA\\_V\\_PC1'\n",
       "\\item 'cfDNA\\_V\\_PC2'\n",
       "\\item 'cfDNA\\_V\\_PC3'\n",
       "\\item 'cfDNA\\_J\\_PC1'\n",
       "\\item 'cfDNA\\_J\\_PC2'\n",
       "\\item 'cfDNA\\_J\\_PC3'\n",
       "\\item 'cfDNA\\_samplename'\n",
       "\\item 'cfDNA\\_gliph\\_n'\n",
       "\\item 'cfDNA\\_CMV'\n",
       "\\item 'cfDNA\\_EBV'\n",
       "\\item 'cfDNA\\_HCV'\n",
       "\\item 'cfDNA\\_Flu'\n",
       "\\item 'cfDNA\\_hs'\n",
       "\\item 'cyclenum'\n",
       "\\item 'GLIPH\\_PC1'\n",
       "\\item 'GLIPH\\_PC2'\n",
       "\\item 'EM\\%\\_scaled'\n",
       "\\item 'CM\\%\\_scaled'\n",
       "\\item 'Naïve\\%\\_scaled'\n",
       "\\item 'SCM\\%\\_scaled'\n",
       "\\item 'TE\\%\\_scaled'\n",
       "\\item 'PD1\\%\\_scaled'\n",
       "\\item 'TIM3\\%\\_scaled'\n",
       "\\item 'LAG3\\%\\_scaled'\n",
       "\\item 'log10shann\\_scaled'\n",
       "\\item 'EM\\%\\_rank'\n",
       "\\item 'CM\\%\\_rank'\n",
       "\\item 'Naïve\\%\\_rank'\n",
       "\\item 'SCM\\%\\_rank'\n",
       "\\item 'TE\\%\\_rank'\n",
       "\\item 'PD1\\%\\_rank'\n",
       "\\item 'TIM3\\%\\_rank'\n",
       "\\item 'LAG3\\%\\_rank'\n",
       "\\item 'log10shann\\_rank'\n",
       "\\end{enumerate*}\n"
      ],
      "text/markdown": [
       "1. 'Patient'\n",
       "2. 'cancergroup'\n",
       "3. 'sample_id.x'\n",
       "4. 'cycle.x'\n",
       "5. 'FOLD.x'\n",
       "6. 'ATC.x'\n",
       "7. 'Age.x'\n",
       "8. 'Disease_type.x'\n",
       "9. 'TE_fold.x'\n",
       "10. 'CD3.x'\n",
       "11. 'EM.x'\n",
       "12. 'CM.x'\n",
       "13. 'Naïve.x'\n",
       "14. 'SCM.x'\n",
       "15. 'TE.x'\n",
       "16. 'EM%.x'\n",
       "17. 'CM%.x'\n",
       "18. 'Naïve%.x'\n",
       "19. 'SCM%.x'\n",
       "20. 'TE%.x'\n",
       "21. 'Naïve/TE.x'\n",
       "22. 'N+CM+SCM/TE+EM.x'\n",
       "23. 'PD-1.x'\n",
       "24. 'PDL1.x'\n",
       "25. 'LAG3.x'\n",
       "26. 'TIM3.x'\n",
       "27. 'CTLA4.x'\n",
       "28. 'PD1%.x'\n",
       "29. 'PDL1%.x'\n",
       "30. 'LAG3%.x'\n",
       "31. 'TIM3%.x'\n",
       "32. 'CTLA4%.x'\n",
       "33. 'Any NCR.x'\n",
       "34. 'PD1 + LAG3 + TIM3.x'\n",
       "35. 'agegroup.x'\n",
       "36. 'foldgroup.x'\n",
       "37. 'Remission.x'\n",
       "38. 'Relapse.x'\n",
       "39. 'Transplant.x'\n",
       "40. 'CART.x'\n",
       "41. 'vital_status.x'\n",
       "42. 'LOF.x'\n",
       "43. 'TRB.x'\n",
       "44. 'Reads.x'\n",
       "45. 'CPKR.x'\n",
       "46. 'Average_reads.x'\n",
       "47. 'VMR.x'\n",
       "48. 'Max_reads.x'\n",
       "49. 'Singletons.x'\n",
       "50. 'Doubletons.x'\n",
       "51. 'qD.x'\n",
       "52. 'Sample_Coverage.x'\n",
       "53. 'observed_Richness.x'\n",
       "54. 'estimated_Richness.x'\n",
       "55. 'SE_Richeness.x'\n",
       "56. 'observed_Shannon.x'\n",
       "57. 'estimated_Shannon.x'\n",
       "58. 'SE_Shannon.x'\n",
       "59. 'observed_Simpson.x'\n",
       "60. 'estimated_Simpson.x'\n",
       "61. 'SE_Simpson.x'\n",
       "62. 'basename.x'\n",
       "63. 'file.x'\n",
       "64. 'sampletype.x'\n",
       "65. 'Group.x'\n",
       "66. 'log10shann.x'\n",
       "67. 'aveTiRP.x'\n",
       "68. 'medTiRP.x'\n",
       "69. 'HLA_PC1.x'\n",
       "70. 'HLA_PC2.x'\n",
       "71. 'HLA_PC3.x'\n",
       "72. 'V_PC1.x'\n",
       "73. 'V_PC2.x'\n",
       "74. 'V_PC3.x'\n",
       "75. 'J_PC1.x'\n",
       "76. 'J_PC2.x'\n",
       "77. 'J_PC3.x'\n",
       "78. 'samplename.x'\n",
       "79. 'gliph_n.x'\n",
       "80. 'CMV.x'\n",
       "81. 'EBV.x'\n",
       "82. 'HCV.x'\n",
       "83. 'Flu.x'\n",
       "84. 'hs.x'\n",
       "85. 'cfDNA_TRB.x'\n",
       "86. 'cfDNA_Reads.x'\n",
       "87. 'cfDNA_CPKR.x'\n",
       "88. 'cfDNA_Average_reads.x'\n",
       "89. 'cfDNA_VMR.x'\n",
       "90. 'cfDNA_Max_reads.x'\n",
       "91. 'cfDNA_Singletons.x'\n",
       "92. 'cfDNA_Doubletons.x'\n",
       "93. 'cfDNA_qD.x'\n",
       "94. 'cfDNA_Sample_Coverage.x'\n",
       "95. 'cfDNA_observed_Richness.x'\n",
       "96. 'cfDNA_estimated_Richness.x'\n",
       "97. 'cfDNA_SE_Richeness.x'\n",
       "98. 'cfDNA_observed_Shannon.x'\n",
       "99. 'cfDNA_estimated_Shannon.x'\n",
       "100. 'cfDNA_SE_Shannon.x'\n",
       "101. 'cfDNA_observed_Simpson.x'\n",
       "102. 'cfDNA_estimated_Simpson.x'\n",
       "103. 'cfDNA_SE_Simpson.x'\n",
       "104. 'cfDNA_basename.x'\n",
       "105. 'cfDNA_file.x'\n",
       "106. 'cfDNA_sampletype.x'\n",
       "107. 'cfDNA_Group.x'\n",
       "108. 'cfDNA_log10shann.x'\n",
       "109. 'cfDNA_aveTiRP.x'\n",
       "110. 'cfDNA_medTiRP.x'\n",
       "111. 'cfDNA_V_PC1.x'\n",
       "112. 'cfDNA_V_PC2.x'\n",
       "113. 'cfDNA_V_PC3.x'\n",
       "114. 'cfDNA_J_PC1.x'\n",
       "115. 'cfDNA_J_PC2.x'\n",
       "116. 'cfDNA_J_PC3.x'\n",
       "117. 'cfDNA_samplename.x'\n",
       "118. 'cfDNA_gliph_n.x'\n",
       "119. 'cfDNA_CMV.x'\n",
       "120. 'cfDNA_EBV.x'\n",
       "121. 'cfDNA_HCV.x'\n",
       "122. 'cfDNA_Flu.x'\n",
       "123. 'cfDNA_hs.x'\n",
       "124. 'cyclenum.x'\n",
       "125. 'sample_id.y'\n",
       "126. 'cycle.y'\n",
       "127. 'FOLD.y'\n",
       "128. 'ATC.y'\n",
       "129. 'Age.y'\n",
       "130. 'Disease_type.y'\n",
       "131. 'TE_fold.y'\n",
       "132. 'CD3.y'\n",
       "133. 'EM.y'\n",
       "134. 'CM.y'\n",
       "135. 'Naïve.y'\n",
       "136. 'SCM.y'\n",
       "137. 'TE.y'\n",
       "138. 'EM%.y'\n",
       "139. 'CM%.y'\n",
       "140. 'Naïve%.y'\n",
       "141. 'SCM%.y'\n",
       "142. 'TE%.y'\n",
       "143. 'Naïve/TE.y'\n",
       "144. 'N+CM+SCM/TE+EM.y'\n",
       "145. 'PD-1.y'\n",
       "146. 'PDL1.y'\n",
       "147. 'LAG3.y'\n",
       "148. 'TIM3.y'\n",
       "149. 'CTLA4.y'\n",
       "150. 'PD1%.y'\n",
       "151. 'PDL1%.y'\n",
       "152. 'LAG3%.y'\n",
       "153. 'TIM3%.y'\n",
       "154. 'CTLA4%.y'\n",
       "155. 'Any NCR.y'\n",
       "156. 'PD1 + LAG3 + TIM3.y'\n",
       "157. 'agegroup.y'\n",
       "158. 'foldgroup.y'\n",
       "159. 'Remission.y'\n",
       "160. 'Relapse.y'\n",
       "161. 'Transplant.y'\n",
       "162. 'CART.y'\n",
       "163. 'vital_status.y'\n",
       "164. 'LOF.y'\n",
       "165. 'TRB.y'\n",
       "166. 'Reads.y'\n",
       "167. 'CPKR.y'\n",
       "168. 'Average_reads.y'\n",
       "169. 'VMR.y'\n",
       "170. 'Max_reads.y'\n",
       "171. 'Singletons.y'\n",
       "172. 'Doubletons.y'\n",
       "173. 'qD.y'\n",
       "174. 'Sample_Coverage.y'\n",
       "175. 'observed_Richness.y'\n",
       "176. 'estimated_Richness.y'\n",
       "177. 'SE_Richeness.y'\n",
       "178. 'observed_Shannon.y'\n",
       "179. 'estimated_Shannon.y'\n",
       "180. 'SE_Shannon.y'\n",
       "181. 'observed_Simpson.y'\n",
       "182. 'estimated_Simpson.y'\n",
       "183. 'SE_Simpson.y'\n",
       "184. 'basename.y'\n",
       "185. 'file.y'\n",
       "186. 'sampletype.y'\n",
       "187. 'Group.y'\n",
       "188. 'log10shann.y'\n",
       "189. 'aveTiRP.y'\n",
       "190. 'medTiRP.y'\n",
       "191. 'HLA_PC1.y'\n",
       "192. 'HLA_PC2.y'\n",
       "193. 'HLA_PC3.y'\n",
       "194. 'V_PC1.y'\n",
       "195. 'V_PC2.y'\n",
       "196. 'V_PC3.y'\n",
       "197. 'J_PC1.y'\n",
       "198. 'J_PC2.y'\n",
       "199. 'J_PC3.y'\n",
       "200. 'samplename.y'\n",
       "201. 'gliph_n.y'\n",
       "202. 'CMV.y'\n",
       "203. 'EBV.y'\n",
       "204. 'HCV.y'\n",
       "205. 'Flu.y'\n",
       "206. 'hs.y'\n",
       "207. 'cfDNA_TRB.y'\n",
       "208. 'cfDNA_Reads.y'\n",
       "209. 'cfDNA_CPKR.y'\n",
       "210. 'cfDNA_Average_reads.y'\n",
       "211. 'cfDNA_VMR.y'\n",
       "212. 'cfDNA_Max_reads.y'\n",
       "213. 'cfDNA_Singletons.y'\n",
       "214. 'cfDNA_Doubletons.y'\n",
       "215. 'cfDNA_qD.y'\n",
       "216. 'cfDNA_Sample_Coverage.y'\n",
       "217. 'cfDNA_observed_Richness.y'\n",
       "218. 'cfDNA_estimated_Richness.y'\n",
       "219. 'cfDNA_SE_Richeness.y'\n",
       "220. 'cfDNA_observed_Shannon.y'\n",
       "221. 'cfDNA_estimated_Shannon.y'\n",
       "222. 'cfDNA_SE_Shannon.y'\n",
       "223. 'cfDNA_observed_Simpson.y'\n",
       "224. 'cfDNA_estimated_Simpson.y'\n",
       "225. 'cfDNA_SE_Simpson.y'\n",
       "226. 'cfDNA_basename.y'\n",
       "227. 'cfDNA_file.y'\n",
       "228. 'cfDNA_sampletype.y'\n",
       "229. 'cfDNA_Group.y'\n",
       "230. 'cfDNA_log10shann.y'\n",
       "231. 'cfDNA_aveTiRP.y'\n",
       "232. 'cfDNA_medTiRP.y'\n",
       "233. 'cfDNA_V_PC1.y'\n",
       "234. 'cfDNA_V_PC2.y'\n",
       "235. 'cfDNA_V_PC3.y'\n",
       "236. 'cfDNA_J_PC1.y'\n",
       "237. 'cfDNA_J_PC2.y'\n",
       "238. 'cfDNA_J_PC3.y'\n",
       "239. 'cfDNA_samplename.y'\n",
       "240. 'cfDNA_gliph_n.y'\n",
       "241. 'cfDNA_CMV.y'\n",
       "242. 'cfDNA_EBV.y'\n",
       "243. 'cfDNA_HCV.y'\n",
       "244. 'cfDNA_Flu.y'\n",
       "245. 'cfDNA_hs.y'\n",
       "246. 'cyclenum.y'\n",
       "247. 'sample_id'\n",
       "248. 'cycle'\n",
       "249. 'FOLD'\n",
       "250. 'ATC'\n",
       "251. 'Age'\n",
       "252. 'Disease_type'\n",
       "253. 'TE_fold'\n",
       "254. 'CD3'\n",
       "255. 'EM'\n",
       "256. 'CM'\n",
       "257. 'Naïve'\n",
       "258. 'SCM'\n",
       "259. 'TE'\n",
       "260. 'EM%'\n",
       "261. 'CM%'\n",
       "262. 'Naïve%'\n",
       "263. 'SCM%'\n",
       "264. 'TE%'\n",
       "265. 'Naïve/TE'\n",
       "266. 'N+CM+SCM/TE+EM'\n",
       "267. 'PD-1'\n",
       "268. 'PDL1'\n",
       "269. 'LAG3'\n",
       "270. 'TIM3'\n",
       "271. 'CTLA4'\n",
       "272. 'PD1%'\n",
       "273. 'PDL1%'\n",
       "274. 'LAG3%'\n",
       "275. 'TIM3%'\n",
       "276. 'CTLA4%'\n",
       "277. 'Any NCR'\n",
       "278. 'PD1 + LAG3 + TIM3'\n",
       "279. 'agegroup'\n",
       "280. 'foldgroup'\n",
       "281. 'Remission'\n",
       "282. 'Relapse'\n",
       "283. 'Transplant'\n",
       "284. 'CART'\n",
       "285. 'vital_status'\n",
       "286. 'LOF'\n",
       "287. 'TRB'\n",
       "288. 'Reads'\n",
       "289. 'CPKR'\n",
       "290. 'Average_reads'\n",
       "291. 'VMR'\n",
       "292. 'Max_reads'\n",
       "293. 'Singletons'\n",
       "294. 'Doubletons'\n",
       "295. 'qD'\n",
       "296. 'Sample_Coverage'\n",
       "297. 'observed_Richness'\n",
       "298. 'estimated_Richness'\n",
       "299. 'SE_Richeness'\n",
       "300. 'observed_Shannon'\n",
       "301. 'estimated_Shannon'\n",
       "302. 'SE_Shannon'\n",
       "303. 'observed_Simpson'\n",
       "304. 'estimated_Simpson'\n",
       "305. 'SE_Simpson'\n",
       "306. 'basename'\n",
       "307. 'file'\n",
       "308. 'sampletype'\n",
       "309. 'Group'\n",
       "310. 'log10shann'\n",
       "311. 'aveTiRP'\n",
       "312. 'medTiRP'\n",
       "313. 'HLA_PC1'\n",
       "314. 'HLA_PC2'\n",
       "315. 'HLA_PC3'\n",
       "316. 'V_PC1'\n",
       "317. 'V_PC2'\n",
       "318. 'V_PC3'\n",
       "319. 'J_PC1'\n",
       "320. 'J_PC2'\n",
       "321. 'J_PC3'\n",
       "322. 'samplename'\n",
       "323. 'gliph_n'\n",
       "324. 'CMV'\n",
       "325. 'EBV'\n",
       "326. 'HCV'\n",
       "327. 'Flu'\n",
       "328. 'hs'\n",
       "329. 'cfDNA_TRB'\n",
       "330. 'cfDNA_Reads'\n",
       "331. 'cfDNA_CPKR'\n",
       "332. 'cfDNA_Average_reads'\n",
       "333. 'cfDNA_VMR'\n",
       "334. 'cfDNA_Max_reads'\n",
       "335. 'cfDNA_Singletons'\n",
       "336. 'cfDNA_Doubletons'\n",
       "337. 'cfDNA_qD'\n",
       "338. 'cfDNA_Sample_Coverage'\n",
       "339. 'cfDNA_observed_Richness'\n",
       "340. 'cfDNA_estimated_Richness'\n",
       "341. 'cfDNA_SE_Richeness'\n",
       "342. 'cfDNA_observed_Shannon'\n",
       "343. 'cfDNA_estimated_Shannon'\n",
       "344. 'cfDNA_SE_Shannon'\n",
       "345. 'cfDNA_observed_Simpson'\n",
       "346. 'cfDNA_estimated_Simpson'\n",
       "347. 'cfDNA_SE_Simpson'\n",
       "348. 'cfDNA_basename'\n",
       "349. 'cfDNA_file'\n",
       "350. 'cfDNA_sampletype'\n",
       "351. 'cfDNA_Group'\n",
       "352. 'cfDNA_log10shann'\n",
       "353. 'cfDNA_aveTiRP'\n",
       "354. 'cfDNA_medTiRP'\n",
       "355. 'cfDNA_V_PC1'\n",
       "356. 'cfDNA_V_PC2'\n",
       "357. 'cfDNA_V_PC3'\n",
       "358. 'cfDNA_J_PC1'\n",
       "359. 'cfDNA_J_PC2'\n",
       "360. 'cfDNA_J_PC3'\n",
       "361. 'cfDNA_samplename'\n",
       "362. 'cfDNA_gliph_n'\n",
       "363. 'cfDNA_CMV'\n",
       "364. 'cfDNA_EBV'\n",
       "365. 'cfDNA_HCV'\n",
       "366. 'cfDNA_Flu'\n",
       "367. 'cfDNA_hs'\n",
       "368. 'cyclenum'\n",
       "369. 'GLIPH_PC1'\n",
       "370. 'GLIPH_PC2'\n",
       "371. 'EM%_scaled'\n",
       "372. 'CM%_scaled'\n",
       "373. 'Naïve%_scaled'\n",
       "374. 'SCM%_scaled'\n",
       "375. 'TE%_scaled'\n",
       "376. 'PD1%_scaled'\n",
       "377. 'TIM3%_scaled'\n",
       "378. 'LAG3%_scaled'\n",
       "379. 'log10shann_scaled'\n",
       "380. 'EM%_rank'\n",
       "381. 'CM%_rank'\n",
       "382. 'Naïve%_rank'\n",
       "383. 'SCM%_rank'\n",
       "384. 'TE%_rank'\n",
       "385. 'PD1%_rank'\n",
       "386. 'TIM3%_rank'\n",
       "387. 'LAG3%_rank'\n",
       "388. 'log10shann_rank'\n",
       "\n",
       "\n"
      ],
      "text/plain": [
       "  [1] \"Patient\"                    \"cancergroup\"               \n",
       "  [3] \"sample_id.x\"                \"cycle.x\"                   \n",
       "  [5] \"FOLD.x\"                     \"ATC.x\"                     \n",
       "  [7] \"Age.x\"                      \"Disease_type.x\"            \n",
       "  [9] \"TE_fold.x\"                  \"CD3.x\"                     \n",
       " [11] \"EM.x\"                       \"CM.x\"                      \n",
       " [13] \"Naïve.x\"                    \"SCM.x\"                     \n",
       " [15] \"TE.x\"                       \"EM%.x\"                     \n",
       " [17] \"CM%.x\"                      \"Naïve%.x\"                  \n",
       " [19] \"SCM%.x\"                     \"TE%.x\"                     \n",
       " [21] \"Naïve/TE.x\"                 \"N+CM+SCM/TE+EM.x\"          \n",
       " [23] \"PD-1.x\"                     \"PDL1.x\"                    \n",
       " [25] \"LAG3.x\"                     \"TIM3.x\"                    \n",
       " [27] \"CTLA4.x\"                    \"PD1%.x\"                    \n",
       " [29] \"PDL1%.x\"                    \"LAG3%.x\"                   \n",
       " [31] \"TIM3%.x\"                    \"CTLA4%.x\"                  \n",
       " [33] \"Any NCR.x\"                  \"PD1 + LAG3 + TIM3.x\"       \n",
       " [35] \"agegroup.x\"                 \"foldgroup.x\"               \n",
       " [37] \"Remission.x\"                \"Relapse.x\"                 \n",
       " [39] \"Transplant.x\"               \"CART.x\"                    \n",
       " [41] \"vital_status.x\"             \"LOF.x\"                     \n",
       " [43] \"TRB.x\"                      \"Reads.x\"                   \n",
       " [45] \"CPKR.x\"                     \"Average_reads.x\"           \n",
       " [47] \"VMR.x\"                      \"Max_reads.x\"               \n",
       " [49] \"Singletons.x\"               \"Doubletons.x\"              \n",
       " [51] \"qD.x\"                       \"Sample_Coverage.x\"         \n",
       " [53] \"observed_Richness.x\"        \"estimated_Richness.x\"      \n",
       " [55] \"SE_Richeness.x\"             \"observed_Shannon.x\"        \n",
       " [57] \"estimated_Shannon.x\"        \"SE_Shannon.x\"              \n",
       " [59] \"observed_Simpson.x\"         \"estimated_Simpson.x\"       \n",
       " [61] \"SE_Simpson.x\"               \"basename.x\"                \n",
       " [63] \"file.x\"                     \"sampletype.x\"              \n",
       " [65] \"Group.x\"                    \"log10shann.x\"              \n",
       " [67] \"aveTiRP.x\"                  \"medTiRP.x\"                 \n",
       " [69] \"HLA_PC1.x\"                  \"HLA_PC2.x\"                 \n",
       " [71] \"HLA_PC3.x\"                  \"V_PC1.x\"                   \n",
       " [73] \"V_PC2.x\"                    \"V_PC3.x\"                   \n",
       " [75] \"J_PC1.x\"                    \"J_PC2.x\"                   \n",
       " [77] \"J_PC3.x\"                    \"samplename.x\"              \n",
       " [79] \"gliph_n.x\"                  \"CMV.x\"                     \n",
       " [81] \"EBV.x\"                      \"HCV.x\"                     \n",
       " [83] \"Flu.x\"                      \"hs.x\"                      \n",
       " [85] \"cfDNA_TRB.x\"                \"cfDNA_Reads.x\"             \n",
       " [87] \"cfDNA_CPKR.x\"               \"cfDNA_Average_reads.x\"     \n",
       " [89] \"cfDNA_VMR.x\"                \"cfDNA_Max_reads.x\"         \n",
       " [91] \"cfDNA_Singletons.x\"         \"cfDNA_Doubletons.x\"        \n",
       " [93] \"cfDNA_qD.x\"                 \"cfDNA_Sample_Coverage.x\"   \n",
       " [95] \"cfDNA_observed_Richness.x\"  \"cfDNA_estimated_Richness.x\"\n",
       " [97] \"cfDNA_SE_Richeness.x\"       \"cfDNA_observed_Shannon.x\"  \n",
       " [99] \"cfDNA_estimated_Shannon.x\"  \"cfDNA_SE_Shannon.x\"        \n",
       "[101] \"cfDNA_observed_Simpson.x\"   \"cfDNA_estimated_Simpson.x\" \n",
       "[103] \"cfDNA_SE_Simpson.x\"         \"cfDNA_basename.x\"          \n",
       "[105] \"cfDNA_file.x\"               \"cfDNA_sampletype.x\"        \n",
       "[107] \"cfDNA_Group.x\"              \"cfDNA_log10shann.x\"        \n",
       "[109] \"cfDNA_aveTiRP.x\"            \"cfDNA_medTiRP.x\"           \n",
       "[111] \"cfDNA_V_PC1.x\"              \"cfDNA_V_PC2.x\"             \n",
       "[113] \"cfDNA_V_PC3.x\"              \"cfDNA_J_PC1.x\"             \n",
       "[115] \"cfDNA_J_PC2.x\"              \"cfDNA_J_PC3.x\"             \n",
       "[117] \"cfDNA_samplename.x\"         \"cfDNA_gliph_n.x\"           \n",
       "[119] \"cfDNA_CMV.x\"                \"cfDNA_EBV.x\"               \n",
       "[121] \"cfDNA_HCV.x\"                \"cfDNA_Flu.x\"               \n",
       "[123] \"cfDNA_hs.x\"                 \"cyclenum.x\"                \n",
       "[125] \"sample_id.y\"                \"cycle.y\"                   \n",
       "[127] \"FOLD.y\"                     \"ATC.y\"                     \n",
       "[129] \"Age.y\"                      \"Disease_type.y\"            \n",
       "[131] \"TE_fold.y\"                  \"CD3.y\"                     \n",
       "[133] \"EM.y\"                       \"CM.y\"                      \n",
       "[135] \"Naïve.y\"                    \"SCM.y\"                     \n",
       "[137] \"TE.y\"                       \"EM%.y\"                     \n",
       "[139] \"CM%.y\"                      \"Naïve%.y\"                  \n",
       "[141] \"SCM%.y\"                     \"TE%.y\"                     \n",
       "[143] \"Naïve/TE.y\"                 \"N+CM+SCM/TE+EM.y\"          \n",
       "[145] \"PD-1.y\"                     \"PDL1.y\"                    \n",
       "[147] \"LAG3.y\"                     \"TIM3.y\"                    \n",
       "[149] \"CTLA4.y\"                    \"PD1%.y\"                    \n",
       "[151] \"PDL1%.y\"                    \"LAG3%.y\"                   \n",
       "[153] \"TIM3%.y\"                    \"CTLA4%.y\"                  \n",
       "[155] \"Any NCR.y\"                  \"PD1 + LAG3 + TIM3.y\"       \n",
       "[157] \"agegroup.y\"                 \"foldgroup.y\"               \n",
       "[159] \"Remission.y\"                \"Relapse.y\"                 \n",
       "[161] \"Transplant.y\"               \"CART.y\"                    \n",
       "[163] \"vital_status.y\"             \"LOF.y\"                     \n",
       "[165] \"TRB.y\"                      \"Reads.y\"                   \n",
       "[167] \"CPKR.y\"                     \"Average_reads.y\"           \n",
       "[169] \"VMR.y\"                      \"Max_reads.y\"               \n",
       "[171] \"Singletons.y\"               \"Doubletons.y\"              \n",
       "[173] \"qD.y\"                       \"Sample_Coverage.y\"         \n",
       "[175] \"observed_Richness.y\"        \"estimated_Richness.y\"      \n",
       "[177] \"SE_Richeness.y\"             \"observed_Shannon.y\"        \n",
       "[179] \"estimated_Shannon.y\"        \"SE_Shannon.y\"              \n",
       "[181] \"observed_Simpson.y\"         \"estimated_Simpson.y\"       \n",
       "[183] \"SE_Simpson.y\"               \"basename.y\"                \n",
       "[185] \"file.y\"                     \"sampletype.y\"              \n",
       "[187] \"Group.y\"                    \"log10shann.y\"              \n",
       "[189] \"aveTiRP.y\"                  \"medTiRP.y\"                 \n",
       "[191] \"HLA_PC1.y\"                  \"HLA_PC2.y\"                 \n",
       "[193] \"HLA_PC3.y\"                  \"V_PC1.y\"                   \n",
       "[195] \"V_PC2.y\"                    \"V_PC3.y\"                   \n",
       "[197] \"J_PC1.y\"                    \"J_PC2.y\"                   \n",
       "[199] \"J_PC3.y\"                    \"samplename.y\"              \n",
       "[201] \"gliph_n.y\"                  \"CMV.y\"                     \n",
       "[203] \"EBV.y\"                      \"HCV.y\"                     \n",
       "[205] \"Flu.y\"                      \"hs.y\"                      \n",
       "[207] \"cfDNA_TRB.y\"                \"cfDNA_Reads.y\"             \n",
       "[209] \"cfDNA_CPKR.y\"               \"cfDNA_Average_reads.y\"     \n",
       "[211] \"cfDNA_VMR.y\"                \"cfDNA_Max_reads.y\"         \n",
       "[213] \"cfDNA_Singletons.y\"         \"cfDNA_Doubletons.y\"        \n",
       "[215] \"cfDNA_qD.y\"                 \"cfDNA_Sample_Coverage.y\"   \n",
       "[217] \"cfDNA_observed_Richness.y\"  \"cfDNA_estimated_Richness.y\"\n",
       "[219] \"cfDNA_SE_Richeness.y\"       \"cfDNA_observed_Shannon.y\"  \n",
       "[221] \"cfDNA_estimated_Shannon.y\"  \"cfDNA_SE_Shannon.y\"        \n",
       "[223] \"cfDNA_observed_Simpson.y\"   \"cfDNA_estimated_Simpson.y\" \n",
       "[225] \"cfDNA_SE_Simpson.y\"         \"cfDNA_basename.y\"          \n",
       "[227] \"cfDNA_file.y\"               \"cfDNA_sampletype.y\"        \n",
       "[229] \"cfDNA_Group.y\"              \"cfDNA_log10shann.y\"        \n",
       "[231] \"cfDNA_aveTiRP.y\"            \"cfDNA_medTiRP.y\"           \n",
       "[233] \"cfDNA_V_PC1.y\"              \"cfDNA_V_PC2.y\"             \n",
       "[235] \"cfDNA_V_PC3.y\"              \"cfDNA_J_PC1.y\"             \n",
       "[237] \"cfDNA_J_PC2.y\"              \"cfDNA_J_PC3.y\"             \n",
       "[239] \"cfDNA_samplename.y\"         \"cfDNA_gliph_n.y\"           \n",
       "[241] \"cfDNA_CMV.y\"                \"cfDNA_EBV.y\"               \n",
       "[243] \"cfDNA_HCV.y\"                \"cfDNA_Flu.y\"               \n",
       "[245] \"cfDNA_hs.y\"                 \"cyclenum.y\"                \n",
       "[247] \"sample_id\"                  \"cycle\"                     \n",
       "[249] \"FOLD\"                       \"ATC\"                       \n",
       "[251] \"Age\"                        \"Disease_type\"              \n",
       "[253] \"TE_fold\"                    \"CD3\"                       \n",
       "[255] \"EM\"                         \"CM\"                        \n",
       "[257] \"Naïve\"                      \"SCM\"                       \n",
       "[259] \"TE\"                         \"EM%\"                       \n",
       "[261] \"CM%\"                        \"Naïve%\"                    \n",
       "[263] \"SCM%\"                       \"TE%\"                       \n",
       "[265] \"Naïve/TE\"                   \"N+CM+SCM/TE+EM\"            \n",
       "[267] \"PD-1\"                       \"PDL1\"                      \n",
       "[269] \"LAG3\"                       \"TIM3\"                      \n",
       "[271] \"CTLA4\"                      \"PD1%\"                      \n",
       "[273] \"PDL1%\"                      \"LAG3%\"                     \n",
       "[275] \"TIM3%\"                      \"CTLA4%\"                    \n",
       "[277] \"Any NCR\"                    \"PD1 + LAG3 + TIM3\"         \n",
       "[279] \"agegroup\"                   \"foldgroup\"                 \n",
       "[281] \"Remission\"                  \"Relapse\"                   \n",
       "[283] \"Transplant\"                 \"CART\"                      \n",
       "[285] \"vital_status\"               \"LOF\"                       \n",
       "[287] \"TRB\"                        \"Reads\"                     \n",
       "[289] \"CPKR\"                       \"Average_reads\"             \n",
       "[291] \"VMR\"                        \"Max_reads\"                 \n",
       "[293] \"Singletons\"                 \"Doubletons\"                \n",
       "[295] \"qD\"                         \"Sample_Coverage\"           \n",
       "[297] \"observed_Richness\"          \"estimated_Richness\"        \n",
       "[299] \"SE_Richeness\"               \"observed_Shannon\"          \n",
       "[301] \"estimated_Shannon\"          \"SE_Shannon\"                \n",
       "[303] \"observed_Simpson\"           \"estimated_Simpson\"         \n",
       "[305] \"SE_Simpson\"                 \"basename\"                  \n",
       "[307] \"file\"                       \"sampletype\"                \n",
       "[309] \"Group\"                      \"log10shann\"                \n",
       "[311] \"aveTiRP\"                    \"medTiRP\"                   \n",
       "[313] \"HLA_PC1\"                    \"HLA_PC2\"                   \n",
       "[315] \"HLA_PC3\"                    \"V_PC1\"                     \n",
       "[317] \"V_PC2\"                      \"V_PC3\"                     \n",
       "[319] \"J_PC1\"                      \"J_PC2\"                     \n",
       "[321] \"J_PC3\"                      \"samplename\"                \n",
       "[323] \"gliph_n\"                    \"CMV\"                       \n",
       "[325] \"EBV\"                        \"HCV\"                       \n",
       "[327] \"Flu\"                        \"hs\"                        \n",
       "[329] \"cfDNA_TRB\"                  \"cfDNA_Reads\"               \n",
       "[331] \"cfDNA_CPKR\"                 \"cfDNA_Average_reads\"       \n",
       "[333] \"cfDNA_VMR\"                  \"cfDNA_Max_reads\"           \n",
       "[335] \"cfDNA_Singletons\"           \"cfDNA_Doubletons\"          \n",
       "[337] \"cfDNA_qD\"                   \"cfDNA_Sample_Coverage\"     \n",
       "[339] \"cfDNA_observed_Richness\"    \"cfDNA_estimated_Richness\"  \n",
       "[341] \"cfDNA_SE_Richeness\"         \"cfDNA_observed_Shannon\"    \n",
       "[343] \"cfDNA_estimated_Shannon\"    \"cfDNA_SE_Shannon\"          \n",
       "[345] \"cfDNA_observed_Simpson\"     \"cfDNA_estimated_Simpson\"   \n",
       "[347] \"cfDNA_SE_Simpson\"           \"cfDNA_basename\"            \n",
       "[349] \"cfDNA_file\"                 \"cfDNA_sampletype\"          \n",
       "[351] \"cfDNA_Group\"                \"cfDNA_log10shann\"          \n",
       "[353] \"cfDNA_aveTiRP\"              \"cfDNA_medTiRP\"             \n",
       "[355] \"cfDNA_V_PC1\"                \"cfDNA_V_PC2\"               \n",
       "[357] \"cfDNA_V_PC3\"                \"cfDNA_J_PC1\"               \n",
       "[359] \"cfDNA_J_PC2\"                \"cfDNA_J_PC3\"               \n",
       "[361] \"cfDNA_samplename\"           \"cfDNA_gliph_n\"             \n",
       "[363] \"cfDNA_CMV\"                  \"cfDNA_EBV\"                 \n",
       "[365] \"cfDNA_HCV\"                  \"cfDNA_Flu\"                 \n",
       "[367] \"cfDNA_hs\"                   \"cyclenum\"                  \n",
       "[369] \"GLIPH_PC1\"                  \"GLIPH_PC2\"                 \n",
       "[371] \"EM%_scaled\"                 \"CM%_scaled\"                \n",
       "[373] \"Naïve%_scaled\"              \"SCM%_scaled\"               \n",
       "[375] \"TE%_scaled\"                 \"PD1%_scaled\"               \n",
       "[377] \"TIM3%_scaled\"               \"LAG3%_scaled\"              \n",
       "[379] \"log10shann_scaled\"          \"EM%_rank\"                  \n",
       "[381] \"CM%_rank\"                   \"Naïve%_rank\"               \n",
       "[383] \"SCM%_rank\"                  \"TE%_rank\"                  \n",
       "[385] \"PD1%_rank\"                  \"TIM3%_rank\"                \n",
       "[387] \"LAG3%_rank\"                 \"log10shann_rank\"           "
      ]
     },
     "metadata": {},
     "output_type": "display_data"
    }
   ],
   "source": [
    "colnames(df_x01)"
   ]
  },
  {
   "cell_type": "code",
   "execution_count": 103,
   "metadata": {
    "vscode": {
     "languageId": "r"
    }
   },
   "outputs": [
    {
     "data": {
      "text/html": [
       "<style>\n",
       ".list-inline {list-style: none; margin:0; padding: 0}\n",
       ".list-inline>li {display: inline-block}\n",
       ".list-inline>li:not(:last-child)::after {content: \"\\00b7\"; padding: 0 .5ex}\n",
       "</style>\n",
       "<ol class=list-inline><li>'log10shann'</li><li>'LAG3%'</li><li>'TIM3%'</li><li>'PD1%'</li><li>'TE%'</li><li>'EM%'</li><li>'CM%'</li><li>'SCM%'</li><li>'Naïve%'</li></ol>\n"
      ],
      "text/latex": [
       "\\begin{enumerate*}\n",
       "\\item 'log10shann'\n",
       "\\item 'LAG3\\%'\n",
       "\\item 'TIM3\\%'\n",
       "\\item 'PD1\\%'\n",
       "\\item 'TE\\%'\n",
       "\\item 'EM\\%'\n",
       "\\item 'CM\\%'\n",
       "\\item 'SCM\\%'\n",
       "\\item 'Naïve\\%'\n",
       "\\end{enumerate*}\n"
      ],
      "text/markdown": [
       "1. 'log10shann'\n",
       "2. 'LAG3%'\n",
       "3. 'TIM3%'\n",
       "4. 'PD1%'\n",
       "5. 'TE%'\n",
       "6. 'EM%'\n",
       "7. 'CM%'\n",
       "8. 'SCM%'\n",
       "9. 'Naïve%'\n",
       "\n",
       "\n"
      ],
      "text/plain": [
       "[1] \"log10shann\" \"LAG3%\"      \"TIM3%\"      \"PD1%\"       \"TE%\"       \n",
       "[6] \"EM%\"        \"CM%\"        \"SCM%\"       \"Naïve%\"    "
      ]
     },
     "metadata": {},
     "output_type": "display_data"
    }
   ],
   "source": [
    "mycol"
   ]
  },
  {
   "cell_type": "code",
   "execution_count": 104,
   "metadata": {
    "vscode": {
     "languageId": "r"
    }
   },
   "outputs": [],
   "source": [
    "df_x01_long <- tidyr::pivot_longer(df_x01, all_of(rev(mycol)), names_to = \"Feature\", values_to = \"X01\")"
   ]
  },
  {
   "cell_type": "code",
   "execution_count": 105,
   "metadata": {
    "vscode": {
     "languageId": "r"
    }
   },
   "outputs": [],
   "source": [
    "df_x01_long <- as.data.frame(df_x01_long)"
   ]
  },
  {
   "cell_type": "code",
   "execution_count": 106,
   "metadata": {
    "vscode": {
     "languageId": "r"
    }
   },
   "outputs": [],
   "source": [
    "df_x01_long_narm <- df_x01_long[ !is.na(df_x01_long$X01),]"
   ]
  },
  {
   "cell_type": "code",
   "execution_count": 107,
   "metadata": {
    "vscode": {
     "languageId": "r"
    }
   },
   "outputs": [],
   "source": [
    "feat_lr_mat <- matrix(nrow = length(unique(df_x01_long_narm$Feature)), ncol = 7)\n",
    "rownames(feat_lr_mat) <- unique(df_x01_long_narm$Feature)\n",
    "colnames(feat_lr_mat) <- c('coef', 'exp(coef)', 'SE', 'z', 'Pr(>|z|)', 'lower.95' ,'upper.95')"
   ]
  },
  {
   "cell_type": "code",
   "execution_count": 108,
   "metadata": {
    "vscode": {
     "languageId": "r"
    }
   },
   "outputs": [
    {
     "data": {
      "text/html": [
       "<table class=\"dataframe\">\n",
       "<caption>A data.frame: 6 x 388</caption>\n",
       "<thead>\n",
       "\t<tr><th></th><th scope=col>Patient</th><th scope=col>cancergroup</th><th scope=col>sample_id.x</th><th scope=col>cycle.x</th><th scope=col>FOLD.x</th><th scope=col>ATC.x</th><th scope=col>Age.x</th><th scope=col>Disease_type.x</th><th scope=col>TE_fold.x</th><th scope=col>CD3.x</th><th scope=col>...</th><th scope=col>log10shann_scaled</th><th scope=col>EM%_rank</th><th scope=col>CM%_rank</th><th scope=col>Naïve%_rank</th><th scope=col>SCM%_rank</th><th scope=col>TE%_rank</th><th scope=col>PD1%_rank</th><th scope=col>TIM3%_rank</th><th scope=col>LAG3%_rank</th><th scope=col>log10shann_rank</th></tr>\n",
       "\t<tr><th></th><th scope=col>&lt;chr&gt;</th><th scope=col>&lt;chr&gt;</th><th scope=col>&lt;chr&gt;</th><th scope=col>&lt;chr&gt;</th><th scope=col>&lt;dbl&gt;</th><th scope=col>&lt;dbl&gt;</th><th scope=col>&lt;dbl&gt;</th><th scope=col>&lt;chr&gt;</th><th scope=col>&lt;dbl&gt;</th><th scope=col>&lt;int&gt;</th><th scope=col>...</th><th scope=col>&lt;dbl&gt;</th><th scope=col>&lt;dbl&gt;</th><th scope=col>&lt;dbl&gt;</th><th scope=col>&lt;dbl&gt;</th><th scope=col>&lt;dbl&gt;</th><th scope=col>&lt;dbl&gt;</th><th scope=col>&lt;dbl&gt;</th><th scope=col>&lt;dbl&gt;</th><th scope=col>&lt;dbl&gt;</th><th scope=col>&lt;dbl&gt;</th></tr>\n",
       "</thead>\n",
       "<tbody>\n",
       "\t<tr><th scope=row>1</th><td>CHP_330</td><td>Solid tumors</td><td>CHP_330_01</td><td>X01</td><td> 0.9</td><td>  0.00</td><td> 5</td><td>OS  </td><td> 0.9</td><td>2437</td><td>...</td><td>        NA</td><td>37</td><td>37</td><td>37</td><td>37</td><td>37</td><td>35</td><td>35</td><td>35</td><td>45</td></tr>\n",
       "\t<tr><th scope=row>2</th><td>CHP_332</td><td>Solid tumors</td><td>CHP_332_01</td><td>X01</td><td> 8.2</td><td>  0.00</td><td>10</td><td>ERMS</td><td> 8.2</td><td>3628</td><td>...</td><td>        NA</td><td>38</td><td>38</td><td>38</td><td>38</td><td>38</td><td>36</td><td>36</td><td>36</td><td>46</td></tr>\n",
       "\t<tr><th scope=row>3</th><td>CHP_343</td><td>Solid tumors</td><td>CHP_343_01</td><td>X01</td><td> 1.0</td><td>219.30</td><td> 8</td><td>EWS </td><td> 1.0</td><td>2421</td><td>...</td><td>        NA</td><td>39</td><td>39</td><td>39</td><td>39</td><td>39</td><td>37</td><td>37</td><td>37</td><td>47</td></tr>\n",
       "\t<tr><th scope=row>4</th><td>CHP_346</td><td>Solid tumors</td><td>CHP_346_01</td><td>X01</td><td> 0.8</td><td>331.70</td><td> 1</td><td>NB  </td><td> 0.8</td><td> 637</td><td>...</td><td>-0.4068475</td><td> 4</td><td> 7</td><td>36</td><td> 3</td><td> 1</td><td>14</td><td>14</td><td>13</td><td>15</td></tr>\n",
       "\t<tr><th scope=row>5</th><td>CHP_347</td><td>Leukemia    </td><td>CHP_347_01</td><td>X01</td><td> 0.8</td><td>126.72</td><td>13</td><td>ALL </td><td> 0.8</td><td>1701</td><td>...</td><td> 0.4157920</td><td> 8</td><td> 2</td><td>17</td><td> 1</td><td>27</td><td>28</td><td>28</td><td> 6</td><td>28</td></tr>\n",
       "\t<tr><th scope=row>6</th><td>CHP_348</td><td>Solid tumors</td><td>CHP_348_01</td><td>X01</td><td>11.5</td><td> 50.96</td><td>18</td><td>OS  </td><td>11.5</td><td>1125</td><td>...</td><td> 0.1473301</td><td>22</td><td>32</td><td>21</td><td>24</td><td>15</td><td>15</td><td>15</td><td> 4</td><td>21</td></tr>\n",
       "</tbody>\n",
       "</table>\n"
      ],
      "text/latex": [
       "A data.frame: 6 x 388\n",
       "\\begin{tabular}{r|lllllllllllllllllllll}\n",
       "  & Patient & cancergroup & sample\\_id.x & cycle.x & FOLD.x & ATC.x & Age.x & Disease\\_type.x & TE\\_fold.x & CD3.x & ... & log10shann\\_scaled & EM\\%\\_rank & CM\\%\\_rank & Naïve\\%\\_rank & SCM\\%\\_rank & TE\\%\\_rank & PD1\\%\\_rank & TIM3\\%\\_rank & LAG3\\%\\_rank & log10shann\\_rank\\\\\n",
       "  & <chr> & <chr> & <chr> & <chr> & <dbl> & <dbl> & <dbl> & <chr> & <dbl> & <int> & ... & <dbl> & <dbl> & <dbl> & <dbl> & <dbl> & <dbl> & <dbl> & <dbl> & <dbl> & <dbl>\\\\\n",
       "\\hline\n",
       "\t1 & CHP\\_330 & Solid tumors & CHP\\_330\\_01 & X01 &  0.9 &   0.00 &  5 & OS   &  0.9 & 2437 & ... &         NA & 37 & 37 & 37 & 37 & 37 & 35 & 35 & 35 & 45\\\\\n",
       "\t2 & CHP\\_332 & Solid tumors & CHP\\_332\\_01 & X01 &  8.2 &   0.00 & 10 & ERMS &  8.2 & 3628 & ... &         NA & 38 & 38 & 38 & 38 & 38 & 36 & 36 & 36 & 46\\\\\n",
       "\t3 & CHP\\_343 & Solid tumors & CHP\\_343\\_01 & X01 &  1.0 & 219.30 &  8 & EWS  &  1.0 & 2421 & ... &         NA & 39 & 39 & 39 & 39 & 39 & 37 & 37 & 37 & 47\\\\\n",
       "\t4 & CHP\\_346 & Solid tumors & CHP\\_346\\_01 & X01 &  0.8 & 331.70 &  1 & NB   &  0.8 &  637 & ... & -0.4068475 &  4 &  7 & 36 &  3 &  1 & 14 & 14 & 13 & 15\\\\\n",
       "\t5 & CHP\\_347 & Leukemia     & CHP\\_347\\_01 & X01 &  0.8 & 126.72 & 13 & ALL  &  0.8 & 1701 & ... &  0.4157920 &  8 &  2 & 17 &  1 & 27 & 28 & 28 &  6 & 28\\\\\n",
       "\t6 & CHP\\_348 & Solid tumors & CHP\\_348\\_01 & X01 & 11.5 &  50.96 & 18 & OS   & 11.5 & 1125 & ... &  0.1473301 & 22 & 32 & 21 & 24 & 15 & 15 & 15 &  4 & 21\\\\\n",
       "\\end{tabular}\n"
      ],
      "text/markdown": [
       "\n",
       "A data.frame: 6 x 388\n",
       "\n",
       "| <!--/--> | Patient &lt;chr&gt; | cancergroup &lt;chr&gt; | sample_id.x &lt;chr&gt; | cycle.x &lt;chr&gt; | FOLD.x &lt;dbl&gt; | ATC.x &lt;dbl&gt; | Age.x &lt;dbl&gt; | Disease_type.x &lt;chr&gt; | TE_fold.x &lt;dbl&gt; | CD3.x &lt;int&gt; | ... ... | log10shann_scaled &lt;dbl&gt; | EM%_rank &lt;dbl&gt; | CM%_rank &lt;dbl&gt; | Naïve%_rank &lt;dbl&gt; | SCM%_rank &lt;dbl&gt; | TE%_rank &lt;dbl&gt; | PD1%_rank &lt;dbl&gt; | TIM3%_rank &lt;dbl&gt; | LAG3%_rank &lt;dbl&gt; | log10shann_rank &lt;dbl&gt; |\n",
       "|---|---|---|---|---|---|---|---|---|---|---|---|---|---|---|---|---|---|---|---|---|---|\n",
       "| 1 | CHP_330 | Solid tumors | CHP_330_01 | X01 |  0.9 |   0.00 |  5 | OS   |  0.9 | 2437 | ... |         NA | 37 | 37 | 37 | 37 | 37 | 35 | 35 | 35 | 45 |\n",
       "| 2 | CHP_332 | Solid tumors | CHP_332_01 | X01 |  8.2 |   0.00 | 10 | ERMS |  8.2 | 3628 | ... |         NA | 38 | 38 | 38 | 38 | 38 | 36 | 36 | 36 | 46 |\n",
       "| 3 | CHP_343 | Solid tumors | CHP_343_01 | X01 |  1.0 | 219.30 |  8 | EWS  |  1.0 | 2421 | ... |         NA | 39 | 39 | 39 | 39 | 39 | 37 | 37 | 37 | 47 |\n",
       "| 4 | CHP_346 | Solid tumors | CHP_346_01 | X01 |  0.8 | 331.70 |  1 | NB   |  0.8 |  637 | ... | -0.4068475 |  4 |  7 | 36 |  3 |  1 | 14 | 14 | 13 | 15 |\n",
       "| 5 | CHP_347 | Leukemia     | CHP_347_01 | X01 |  0.8 | 126.72 | 13 | ALL  |  0.8 | 1701 | ... |  0.4157920 |  8 |  2 | 17 |  1 | 27 | 28 | 28 |  6 | 28 |\n",
       "| 6 | CHP_348 | Solid tumors | CHP_348_01 | X01 | 11.5 |  50.96 | 18 | OS   | 11.5 | 1125 | ... |  0.1473301 | 22 | 32 | 21 | 24 | 15 | 15 | 15 |  4 | 21 |\n",
       "\n"
      ],
      "text/plain": [
       "  Patient cancergroup  sample_id.x cycle.x FOLD.x ATC.x  Age.x Disease_type.x\n",
       "1 CHP_330 Solid tumors CHP_330_01  X01      0.9     0.00  5    OS            \n",
       "2 CHP_332 Solid tumors CHP_332_01  X01      8.2     0.00 10    ERMS          \n",
       "3 CHP_343 Solid tumors CHP_343_01  X01      1.0   219.30  8    EWS           \n",
       "4 CHP_346 Solid tumors CHP_346_01  X01      0.8   331.70  1    NB            \n",
       "5 CHP_347 Leukemia     CHP_347_01  X01      0.8   126.72 13    ALL           \n",
       "6 CHP_348 Solid tumors CHP_348_01  X01     11.5    50.96 18    OS            \n",
       "  TE_fold.x CD3.x ... log10shann_scaled EM%_rank CM%_rank Naïve%_rank SCM%_rank\n",
       "1  0.9      2437  ...         NA        37       37       37          37       \n",
       "2  8.2      3628  ...         NA        38       38       38          38       \n",
       "3  1.0      2421  ...         NA        39       39       39          39       \n",
       "4  0.8       637  ... -0.4068475         4        7       36           3       \n",
       "5  0.8      1701  ...  0.4157920         8        2       17           1       \n",
       "6 11.5      1125  ...  0.1473301        22       32       21          24       \n",
       "  TE%_rank PD1%_rank TIM3%_rank LAG3%_rank log10shann_rank\n",
       "1 37       35        35         35         45             \n",
       "2 38       36        36         36         46             \n",
       "3 39       37        37         37         47             \n",
       "4  1       14        14         13         15             \n",
       "5 27       28        28          6         28             \n",
       "6 15       15        15          4         21             "
      ]
     },
     "metadata": {},
     "output_type": "display_data"
    }
   ],
   "source": [
    "head(df_x01)"
   ]
  },
  {
   "cell_type": "code",
   "execution_count": 109,
   "metadata": {
    "vscode": {
     "languageId": "r"
    }
   },
   "outputs": [],
   "source": [
    "for(i in rownames(feat_lr_mat)){\n",
    "   # message(i)\n",
    "    f <- as.formula(paste0(\"Relapse~`\", i,\"`\"))  #univariate\n",
    "    lrmodel <- glm(f, data=df_x01, family = \"binomial\") \n",
    "    sumlrmodel <- summary(lrmodel)\n",
    "#print(sumlrmodel)\n",
    "    myCI <- exp(confint.default(lrmodel, level = 0.95) )\n",
    "\n",
    "    feat_lr_mat[i,\"coef\"] <- sumlrmodel$coefficients[2,\"Estimate\"]\n",
    "    # exp of estimate is the odds ratio\n",
    "    feat_lr_mat[i,\"exp(coef)\"] <- exp(sumlrmodel$coefficients[2,\"Estimate\"])\n",
    "    feat_lr_mat[i,\"SE\"] <- sumlrmodel$coefficients[2,\"Std. Error\"]\n",
    "    feat_lr_mat[i,\"z\"] <- sumlrmodel$coefficients[2,\"z value\"]\n",
    "    feat_lr_mat[i,\"Pr(>|z|)\"] <- sumlrmodel$coefficients[2,\"Pr(>|z|)\"]\n",
    "    #from myCI\n",
    "    feat_lr_mat[i,\"lower.95\"] <- myCI[2,1]\n",
    "    feat_lr_mat[i,\"upper.95\"] <- myCI[2,2]\n",
    "}"
   ]
  },
  {
   "cell_type": "code",
   "execution_count": 110,
   "metadata": {
    "vscode": {
     "languageId": "r"
    }
   },
   "outputs": [
    {
     "data": {
      "text/html": [
       "<table class=\"dataframe\">\n",
       "<caption>A matrix: 9 x 7 of type dbl</caption>\n",
       "<thead>\n",
       "\t<tr><th></th><th scope=col>coef</th><th scope=col>exp(coef)</th><th scope=col>SE</th><th scope=col>z</th><th scope=col>Pr(&gt;|z|)</th><th scope=col>lower.95</th><th scope=col>upper.95</th></tr>\n",
       "</thead>\n",
       "<tbody>\n",
       "\t<tr><th scope=row>Naïve%</th><td>-0.01815077</td><td>0.9820130</td><td>0.02566940</td><td>-0.7070973</td><td>0.4795060</td><td>0.9338291</td><td>1.032683</td></tr>\n",
       "\t<tr><th scope=row>SCM%</th><td> 0.09708357</td><td>1.1019525</td><td>0.07781660</td><td> 1.2475946</td><td>0.2121796</td><td>0.9460743</td><td>1.283514</td></tr>\n",
       "\t<tr><th scope=row>CM%</th><td>-0.04614661</td><td>0.9549020</td><td>0.06483850</td><td>-0.7117162</td><td>0.4766406</td><td>0.8409461</td><td>1.084300</td></tr>\n",
       "\t<tr><th scope=row>EM%</th><td>-0.03996647</td><td>0.9608217</td><td>0.08774537</td><td>-0.4554823</td><td>0.6487623</td><td>0.8090098</td><td>1.141121</td></tr>\n",
       "\t<tr><th scope=row>TE%</th><td> 0.01222561</td><td>1.0123007</td><td>0.01806477</td><td> 0.6767654</td><td>0.4985548</td><td>0.9770859</td><td>1.048785</td></tr>\n",
       "\t<tr><th scope=row>PD1%</th><td>-0.01791591</td><td>0.9822436</td><td>0.05891879</td><td>-0.3040780</td><td>0.7610685</td><td>0.8751197</td><td>1.102481</td></tr>\n",
       "\t<tr><th scope=row>TIM3%</th><td>-0.01791591</td><td>0.9822436</td><td>0.05891879</td><td>-0.3040780</td><td>0.7610685</td><td>0.8751197</td><td>1.102481</td></tr>\n",
       "\t<tr><th scope=row>LAG3%</th><td>-0.16345365</td><td>0.8492059</td><td>0.12068796</td><td>-1.3543493</td><td>0.1756250</td><td>0.6703216</td><td>1.075828</td></tr>\n",
       "\t<tr><th scope=row>log10shann</th><td> 0.24249750</td><td>1.2744281</td><td>0.67199091</td><td> 0.3608643</td><td>0.7182009</td><td>0.3414410</td><td>4.756801</td></tr>\n",
       "</tbody>\n",
       "</table>\n"
      ],
      "text/latex": [
       "A matrix: 9 x 7 of type dbl\n",
       "\\begin{tabular}{r|lllllll}\n",
       "  & coef & exp(coef) & SE & z & Pr(>\\textbar{}z\\textbar{}) & lower.95 & upper.95\\\\\n",
       "\\hline\n",
       "\tNaïve\\% & -0.01815077 & 0.9820130 & 0.02566940 & -0.7070973 & 0.4795060 & 0.9338291 & 1.032683\\\\\n",
       "\tSCM\\% &  0.09708357 & 1.1019525 & 0.07781660 &  1.2475946 & 0.2121796 & 0.9460743 & 1.283514\\\\\n",
       "\tCM\\% & -0.04614661 & 0.9549020 & 0.06483850 & -0.7117162 & 0.4766406 & 0.8409461 & 1.084300\\\\\n",
       "\tEM\\% & -0.03996647 & 0.9608217 & 0.08774537 & -0.4554823 & 0.6487623 & 0.8090098 & 1.141121\\\\\n",
       "\tTE\\% &  0.01222561 & 1.0123007 & 0.01806477 &  0.6767654 & 0.4985548 & 0.9770859 & 1.048785\\\\\n",
       "\tPD1\\% & -0.01791591 & 0.9822436 & 0.05891879 & -0.3040780 & 0.7610685 & 0.8751197 & 1.102481\\\\\n",
       "\tTIM3\\% & -0.01791591 & 0.9822436 & 0.05891879 & -0.3040780 & 0.7610685 & 0.8751197 & 1.102481\\\\\n",
       "\tLAG3\\% & -0.16345365 & 0.8492059 & 0.12068796 & -1.3543493 & 0.1756250 & 0.6703216 & 1.075828\\\\\n",
       "\tlog10shann &  0.24249750 & 1.2744281 & 0.67199091 &  0.3608643 & 0.7182009 & 0.3414410 & 4.756801\\\\\n",
       "\\end{tabular}\n"
      ],
      "text/markdown": [
       "\n",
       "A matrix: 9 x 7 of type dbl\n",
       "\n",
       "| <!--/--> | coef | exp(coef) | SE | z | Pr(&gt;|z|) | lower.95 | upper.95 |\n",
       "|---|---|---|---|---|---|---|---|\n",
       "| Naïve% | -0.01815077 | 0.9820130 | 0.02566940 | -0.7070973 | 0.4795060 | 0.9338291 | 1.032683 |\n",
       "| SCM% |  0.09708357 | 1.1019525 | 0.07781660 |  1.2475946 | 0.2121796 | 0.9460743 | 1.283514 |\n",
       "| CM% | -0.04614661 | 0.9549020 | 0.06483850 | -0.7117162 | 0.4766406 | 0.8409461 | 1.084300 |\n",
       "| EM% | -0.03996647 | 0.9608217 | 0.08774537 | -0.4554823 | 0.6487623 | 0.8090098 | 1.141121 |\n",
       "| TE% |  0.01222561 | 1.0123007 | 0.01806477 |  0.6767654 | 0.4985548 | 0.9770859 | 1.048785 |\n",
       "| PD1% | -0.01791591 | 0.9822436 | 0.05891879 | -0.3040780 | 0.7610685 | 0.8751197 | 1.102481 |\n",
       "| TIM3% | -0.01791591 | 0.9822436 | 0.05891879 | -0.3040780 | 0.7610685 | 0.8751197 | 1.102481 |\n",
       "| LAG3% | -0.16345365 | 0.8492059 | 0.12068796 | -1.3543493 | 0.1756250 | 0.6703216 | 1.075828 |\n",
       "| log10shann |  0.24249750 | 1.2744281 | 0.67199091 |  0.3608643 | 0.7182009 | 0.3414410 | 4.756801 |\n",
       "\n"
      ],
      "text/plain": [
       "           coef        exp(coef) SE         z          Pr(>|z|)  lower.95 \n",
       "Naïve%     -0.01815077 0.9820130 0.02566940 -0.7070973 0.4795060 0.9338291\n",
       "SCM%        0.09708357 1.1019525 0.07781660  1.2475946 0.2121796 0.9460743\n",
       "CM%        -0.04614661 0.9549020 0.06483850 -0.7117162 0.4766406 0.8409461\n",
       "EM%        -0.03996647 0.9608217 0.08774537 -0.4554823 0.6487623 0.8090098\n",
       "TE%         0.01222561 1.0123007 0.01806477  0.6767654 0.4985548 0.9770859\n",
       "PD1%       -0.01791591 0.9822436 0.05891879 -0.3040780 0.7610685 0.8751197\n",
       "TIM3%      -0.01791591 0.9822436 0.05891879 -0.3040780 0.7610685 0.8751197\n",
       "LAG3%      -0.16345365 0.8492059 0.12068796 -1.3543493 0.1756250 0.6703216\n",
       "log10shann  0.24249750 1.2744281 0.67199091  0.3608643 0.7182009 0.3414410\n",
       "           upper.95\n",
       "Naïve%     1.032683\n",
       "SCM%       1.283514\n",
       "CM%        1.084300\n",
       "EM%        1.141121\n",
       "TE%        1.048785\n",
       "PD1%       1.102481\n",
       "TIM3%      1.102481\n",
       "LAG3%      1.075828\n",
       "log10shann 4.756801"
      ]
     },
     "metadata": {},
     "output_type": "display_data"
    }
   ],
   "source": [
    "feat_lr_mat"
   ]
  },
  {
   "cell_type": "code",
   "execution_count": 111,
   "metadata": {
    "vscode": {
     "languageId": "r"
    }
   },
   "outputs": [],
   "source": [
    "fdr_df <- as.matrix(p.adjust(feat_lr_mat[,5], method = \"fdr\"))\n",
    "colnames(fdr_df)[1] <- \"fdr\"\n",
    "feat_lr_mat <- cbind(feat_lr_mat, fdr_df)"
   ]
  },
  {
   "cell_type": "code",
   "execution_count": 112,
   "metadata": {
    "vscode": {
     "languageId": "r"
    }
   },
   "outputs": [],
   "source": [
    "feat_lr_mat <- as.data.frame(feat_lr_mat)"
   ]
  },
  {
   "cell_type": "code",
   "execution_count": 113,
   "metadata": {
    "vscode": {
     "languageId": "r"
    }
   },
   "outputs": [],
   "source": [
    "feat_lr_mat$Feature <- rownames(feat_lr_mat)"
   ]
  },
  {
   "cell_type": "code",
   "execution_count": 114,
   "metadata": {
    "vscode": {
     "languageId": "r"
    }
   },
   "outputs": [],
   "source": [
    "feat_lr_mat$mean <- feat_lr_mat$`exp(coef)`\n",
    "feat_lr_mat$lower <- feat_lr_mat$`lower.95`\n",
    "feat_lr_mat$upper <- feat_lr_mat$`upper.95`"
   ]
  },
  {
   "cell_type": "code",
   "execution_count": 115,
   "metadata": {
    "vscode": {
     "languageId": "r"
    }
   },
   "outputs": [],
   "source": [
    "feat_lr_mat$OR <- as.character(round(feat_lr_mat$`exp(coef)`, 2) )\n",
    "feat_lr_mat$p <- as.character(round(feat_lr_mat$`Pr(>|z|)`, 2) )\n",
    "feat_lr_mat$FDR <- as.character(round(feat_lr_mat$fdr, 2) )"
   ]
  },
  {
   "cell_type": "code",
   "execution_count": 116,
   "metadata": {
    "vscode": {
     "languageId": "r"
    }
   },
   "outputs": [],
   "source": [
    "p3 <- feat_lr_mat |>\n",
    "  forestplot(\n",
    "    labeltext = c(Feature, OR, p, FDR),\n",
    "    clip = c(0, 2), \n",
    "    boxsize = 0.2,\n",
    "    vertices = TRUE,\n",
    "    xlog = FALSE, zero = 1\n",
    "  ) |>\n",
    "  fp_set_style(\n",
    "    box = \"royalblue\",\n",
    "    line = \"darkblue\",\n",
    "    summary = \"royalblue\"\n",
    "  ) |>\n",
    "  fp_add_header(\n",
    "    Feature = c(\"\", \"Feature\"),\n",
    "    OR = c(\"\", \"OR\"),\n",
    "    p = c(\"\", \"p value\"),\n",
    "    FDR = c(\"\", \"FDR\")\n",
    "  )\n"
   ]
  },
  {
   "cell_type": "code",
   "execution_count": 117,
   "metadata": {
    "vscode": {
     "languageId": "r"
    }
   },
   "outputs": [
    {
     "data": {
      "image/png": "[encoded data removed]",
      "text/plain": [
       "plot without title"
      ]
     },
     "metadata": {
      "image/png": {
       "height": 420,
       "width": 420
      }
     },
     "output_type": "display_data"
    }
   ],
   "source": [
    "p3"
   ]
  },
  {
   "cell_type": "code",
   "execution_count": 118,
   "metadata": {
    "vscode": {
     "languageId": "r"
    }
   },
   "outputs": [
    {
     "data": {
      "text/html": [
       "<strong>pdf:</strong> 2"
      ],
      "text/latex": [
       "\\textbf{pdf:} 2"
      ],
      "text/markdown": [
       "**pdf:** 2"
      ],
      "text/plain": [
       "pdf \n",
       "  2 "
      ]
     },
     "metadata": {},
     "output_type": "display_data"
    }
   ],
   "source": [
    "pdf(paste0(plotpath, \"forestplot_X01.pdf\"), width=6, height=8)\n",
    "p3\n",
    "dev.off()"
   ]
  },
  {
   "cell_type": "code",
   "execution_count": null,
   "metadata": {
    "vscode": {
     "languageId": "r"
    }
   },
   "outputs": [],
   "source": []
  },
  {
   "cell_type": "code",
   "execution_count": null,
   "metadata": {
    "vscode": {
     "languageId": "r"
    }
   },
   "outputs": [],
   "source": []
  },
  {
   "cell_type": "markdown",
   "metadata": {
    "vscode": {
     "languageId": "r"
    }
   },
   "source": [
    " # spiderplots - AUC"
   ]
  },
  {
   "cell_type": "code",
   "execution_count": null,
   "metadata": {
    "vscode": {
     "languageId": "r"
    }
   },
   "outputs": [],
   "source": [
    "meta_div$Relapse[ is.na(meta_div$Relapse) ] <- 0\n",
    "meta_div$Relapse <- as.factor(meta_div$Relapse)"
   ]
  },
  {
   "cell_type": "code",
   "execution_count": null,
   "metadata": {
    "vscode": {
     "languageId": "r"
    }
   },
   "outputs": [],
   "source": [
    "cfdna <- meta_div[ which(meta_div$sampletype == \"cfDNA\"),]"
   ]
  },
  {
   "cell_type": "code",
   "execution_count": null,
   "metadata": {
    "vscode": {
     "languageId": "r"
    }
   },
   "outputs": [],
   "source": [
    "pbmc1 <- meta_div[ meta_div$sampletype == \"PBMC\" & !is.na(meta_div$CD3),]\n",
    "pbmc1 <- pbmc1[ pbmc1$CD3 > 0,]"
   ]
  },
  {
   "cell_type": "code",
   "execution_count": null,
   "metadata": {
    "vscode": {
     "languageId": "r"
    }
   },
   "outputs": [],
   "source": [
    "pbmc1$cfTCR_shann <- cfdna[ match(pbmc1$sample_id, cfdna$sample_id), \"log10shann\"]"
   ]
  },
  {
   "cell_type": "code",
   "execution_count": null,
   "metadata": {
    "vscode": {
     "languageId": "r"
    }
   },
   "outputs": [],
   "source": [
    "pbmc1$cyclenum <- as.numeric(gsub(\"X0\", \"\", pbmc1$cycle) )"
   ]
  },
  {
   "cell_type": "code",
   "execution_count": null,
   "metadata": {
    "vscode": {
     "languageId": "r"
    }
   },
   "outputs": [],
   "source": [
    "mytab <- table(pbmc1$Patient, pbmc1$cycle)\n",
    "mytab <- mytab[rowSums(mytab == 1) > 1, ]\n",
    "# baseline_patients <- rownames(mytab)[mytab[, 1] == 1]\n",
    "df1 <- pbmc1[pbmc1$Patient %in% rownames(mytab), ]"
   ]
  },
  {
   "cell_type": "code",
   "execution_count": null,
   "metadata": {
    "vscode": {
     "languageId": "r"
    }
   },
   "outputs": [],
   "source": [
    "dim(df1)"
   ]
  },
  {
   "cell_type": "code",
   "execution_count": null,
   "metadata": {
    "vscode": {
     "languageId": "r"
    }
   },
   "outputs": [],
   "source": [
    "df1$cfTCR_shann <- cfdna[ match(df1$sample_id, cfdna$sample_id), \"log10shann\"]"
   ]
  },
  {
   "cell_type": "code",
   "execution_count": null,
   "metadata": {
    "vscode": {
     "languageId": "r"
    }
   },
   "outputs": [],
   "source": [
    "# result <- df1 %>%\n",
    "#     group_by(Patient) %>%\n",
    "#     mutate(DifferenceN = `Naïve%` - `Naïve%`[cycle == \"X01\"]) %>%\n",
    "#     mutate(DifferenceCM = `CM%` - `CM%`[cycle == \"X01\"]) %>%\n",
    "#     mutate(DifferenceSCM = `SCM%` - `SCM%`[cycle == \"X01\"]) %>%\n",
    "#     mutate(DifferenceEM = `EM%` - `EM%`[cycle == \"X01\"]) %>%\n",
    "#     mutate(DifferenceTE = `TE%` - `TE%`[cycle == \"X01\"]) %>%\n",
    "#     mutate(DifferenceLAG = `LAG3%` - `LAG3%`[cycle == \"X01\"]) %>%\n",
    "#     mutate(DifferenceTIM = `TIM3%` - `TIM3%`[cycle == \"X01\"]) %>%\n",
    "#     mutate(DifferencePD1 = `PD1%` - `PD1%`[cycle == \"X01\"]) %>%\n",
    "#     mutate(DifferenceTCR = log10shann - log10shann[cycle == \"X01\"])  %>%\n",
    "#     mutate(DifferencecfTCR = cfTCR_shann - cfTCR_shann[cycle == \"X01\"])\n"
   ]
  },
  {
   "cell_type": "code",
   "execution_count": null,
   "metadata": {
    "vscode": {
     "languageId": "r"
    }
   },
   "outputs": [],
   "source": [
    "library(pracma)"
   ]
  },
  {
   "cell_type": "code",
   "execution_count": null,
   "metadata": {
    "vscode": {
     "languageId": "r"
    }
   },
   "outputs": [],
   "source": [
    "result2 <- df1 %>%\n",
    "    group_by(Patient) %>%\n",
    "    mutate(AUC_N = trapz(cyclenum, `Naïve%`) / n() ) %>%\n",
    "    mutate(AUC_CM = trapz(cyclenum, `CM%`) / n() ) %>%\n",
    "    mutate(AUC_SCM = trapz(cyclenum, `SCM%`) / n()  ) %>%\n",
    "    mutate(AUC_EM = trapz(cyclenum, `EM%`) / n() ) %>%\n",
    "    mutate(AUC_TE = trapz(cyclenum, `TE%`) / n() ) %>%\n",
    "    mutate(AUC_LAG = trapz(cyclenum, `LAG3%`) / n() ) %>%\n",
    "    mutate(AUC_TIM = trapz(cyclenum, `TIM3%`) / n() ) %>%\n",
    "    mutate(AUC_PD1 = trapz(cyclenum, `PD1%`) / n() ) %>%\n",
    "    mutate(AUC_TCR = trapz(cyclenum, `log10shann`) / n() ) %>%\n",
    "     mutate(AUC_cfTCR = trapz(cyclenum, cfTCR_shann) / n() ) %>%\n",
    "    ungroup()"
   ]
  },
  {
   "cell_type": "code",
   "execution_count": null,
   "metadata": {
    "vscode": {
     "languageId": "r"
    }
   },
   "outputs": [],
   "source": [
    "mypts <- result2[ !duplicated(result2$Patient), ]\n",
    "# mypts <- mypts[ !is.na(mypts$AUC_TCR), ]"
   ]
  },
  {
   "cell_type": "code",
   "execution_count": null,
   "metadata": {
    "vscode": {
     "languageId": "r"
    }
   },
   "outputs": [],
   "source": [
    "# pca <- readr::read_rds(paste0(datapath, \"/HLA/INT_HLA_PCA_postqc.rds\"))"
   ]
  },
  {
   "cell_type": "code",
   "execution_count": null,
   "metadata": {
    "vscode": {
     "languageId": "r"
    }
   },
   "outputs": [],
   "source": [
    "# rownames(pca) <- paste0(\"CHP_\", \"\", rownames(pca))\n",
    "# rownames(pca) <- gsub(\"-.*\", \"\", rownames(pca))"
   ]
  },
  {
   "cell_type": "code",
   "execution_count": null,
   "metadata": {
    "vscode": {
     "languageId": "r"
    }
   },
   "outputs": [],
   "source": [
    "# head(pca)"
   ]
  },
  {
   "cell_type": "code",
   "execution_count": null,
   "metadata": {
    "vscode": {
     "languageId": "r"
    }
   },
   "outputs": [],
   "source": [
    "# mypts$HLA_PC1 <- pca[ match(mypts$Patient, rownames(pca)), \"PC1\"]\n",
    "# mypts$HLA_PC2 <- pca[ match(mypts$Patient, rownames(pca)), \"PC2\"]\n",
    "# mypts$HLA_PC3 <- pca[ match(mypts$Patient, rownames(pca)), \"PC3\"]"
   ]
  },
  {
   "cell_type": "code",
   "execution_count": null,
   "metadata": {
    "vscode": {
     "languageId": "r"
    }
   },
   "outputs": [],
   "source": [
    "head(mypts)"
   ]
  },
  {
   "cell_type": "code",
   "execution_count": null,
   "metadata": {
    "vscode": {
     "languageId": "r"
    }
   },
   "outputs": [],
   "source": [
    "# myfit0 <- lm(AUC_TCR ~  HLA_PC2 + HLA_PC3 + cancergroup + Age, data= mypts)\n",
    "# myfit1 <- lm(AUC_TCR ~  HLA_PC1 + HLA_PC2 + HLA_PC3 + cancergroup + Age, data= mypts)\n",
    "\n",
    "# anova(myfit0, myfit1)"
   ]
  },
  {
   "cell_type": "code",
   "execution_count": null,
   "metadata": {
    "vscode": {
     "languageId": "r"
    }
   },
   "outputs": [],
   "source": [
    "# summary.lm(myfit1)"
   ]
  },
  {
   "cell_type": "code",
   "execution_count": null,
   "metadata": {
    "vscode": {
     "languageId": "r"
    }
   },
   "outputs": [],
   "source": [
    "# result_noX01 <- result[ result$cycle != \"X01\", ]"
   ]
  },
  {
   "cell_type": "code",
   "execution_count": null,
   "metadata": {
    "vscode": {
     "languageId": "r"
    }
   },
   "outputs": [],
   "source": [
    "# pbmc <- pbmc[ pbmc$CD3 > 0,]"
   ]
  },
  {
   "cell_type": "code",
   "execution_count": null,
   "metadata": {
    "vscode": {
     "languageId": "r"
    }
   },
   "outputs": [],
   "source": [
    "tmp <- mypts[!is.na(mypts$AUC_cfTCR),]"
   ]
  },
  {
   "cell_type": "code",
   "execution_count": null,
   "metadata": {
    "vscode": {
     "languageId": "r"
    }
   },
   "outputs": [],
   "source": [
    "mymat <- as.matrix(tmp[ , c( \"AUC_N\", \"AUC_SCM\", \"AUC_CM\", \"AUC_EM\", \"AUC_TE\", \"AUC_LAG\", \"AUC_PD1\", \"AUC_cfTCR\")])"
   ]
  },
  {
   "cell_type": "code",
   "execution_count": null,
   "metadata": {
    "vscode": {
     "languageId": "r"
    }
   },
   "outputs": [],
   "source": [
    "rownames(mymat) <- tmp$Patient"
   ]
  },
  {
   "cell_type": "code",
   "execution_count": null,
   "metadata": {
    "vscode": {
     "languageId": "r"
    }
   },
   "outputs": [],
   "source": [
    "makematrix_4hm <- function(df, var, name ){\n",
    "    mymat <- df[[var]]\n",
    "names(mymat) <- df[[\"Patient\"]]\n",
    "mymat <- t(as.matrix(mymat))\n",
    "rownames(mymat) <- name\n",
    "    \n",
    "    return(mymat)\n",
    "}"
   ]
  },
  {
   "cell_type": "code",
   "execution_count": null,
   "metadata": {
    "vscode": {
     "languageId": "r"
    }
   },
   "outputs": [],
   "source": [
    "mycohort <- makematrix_4hm(tmp, \"Disease_type\", \"disease\")\n",
    "mysample <- makematrix_4hm(tmp, \"cancergroup\", \"cancergroup\")\n",
    "mygroup <- makematrix_4hm(tmp, \"Relapse\", \"Relapse\")"
   ]
  },
  {
   "cell_type": "code",
   "execution_count": null,
   "metadata": {
    "vscode": {
     "languageId": "r"
    }
   },
   "outputs": [],
   "source": [
    "myatc <- makematrix_4hm(tmp, \"ATC\", \"ATC\")"
   ]
  },
  {
   "cell_type": "code",
   "execution_count": null,
   "metadata": {
    "vscode": {
     "languageId": "r"
    }
   },
   "outputs": [],
   "source": [
    "myage <- makematrix_4hm(tmp, \"Age\", \"Age\")"
   ]
  },
  {
   "cell_type": "code",
   "execution_count": null,
   "metadata": {
    "vscode": {
     "languageId": "r"
    }
   },
   "outputs": [],
   "source": [
    "age_col <- c(\"blue\", \"red\")\n",
    "atc_col <- c(\"blue\", \"red\")"
   ]
  },
  {
   "cell_type": "code",
   "execution_count": null,
   "metadata": {
    "vscode": {
     "languageId": "r"
    }
   },
   "outputs": [],
   "source": [
    "group_col <- c(\"blue\", \"red\", \"green\")\n",
    "names(group_col) <- names(table(tmp$Relapse))"
   ]
  },
  {
   "cell_type": "code",
   "execution_count": null,
   "metadata": {
    "vscode": {
     "languageId": "r"
    }
   },
   "outputs": [],
   "source": [
    "# cohort_col <- c(\"blue\", \"red\", \"green\", \"orange\", \"purple\", \"yellow\", \"black\", \"grey\", \"pink\", \n",
    "# \"brown\", \"cyan\", \"magenta\", \"navy\", \"maroon\", \"gray\",\"gold\", \"darkgreen\") \n",
    "# names(cohort_col) <- names(table(allpbmcs$Disease_type))"
   ]
  },
  {
   "cell_type": "code",
   "execution_count": null,
   "metadata": {
    "vscode": {
     "languageId": "r"
    }
   },
   "outputs": [],
   "source": [
    "type_col <- c(\"blue\", \"red\", \"green\", \"orange\", \"purple\")\n",
    "names(type_col) <- names(table(tmp$cancergroup))"
   ]
  },
  {
   "cell_type": "code",
   "execution_count": null,
   "metadata": {
    "vscode": {
     "languageId": "r"
    }
   },
   "outputs": [],
   "source": [
    "library(ComplexHeatmap)"
   ]
  },
  {
   "cell_type": "code",
   "execution_count": null,
   "metadata": {
    "vscode": {
     "languageId": "r"
    }
   },
   "outputs": [],
   "source": [
    "age_hm <- Heatmap(myage, col = age_col,  height = unit(1,\"cm\"))\n",
    "atc_hm <- Heatmap(myatc, col = atc_col,  height = unit(1,\"cm\"))"
   ]
  },
  {
   "cell_type": "code",
   "execution_count": null,
   "metadata": {
    "vscode": {
     "languageId": "r"
    }
   },
   "outputs": [],
   "source": [
    "cohort_hm <- Heatmap(mycohort, col = cohort_col, height = unit(1,\"cm\"))\n",
    "sample_hm <- Heatmap(mysample, col = type_col, , height = unit(1,\"cm\"))\n",
    "group_hm <- Heatmap(mygroup, col = group_col, , height = unit(1,\"cm\"))"
   ]
  },
  {
   "cell_type": "code",
   "execution_count": null,
   "metadata": {
    "vscode": {
     "languageId": "r"
    }
   },
   "outputs": [],
   "source": [
    "hm <- Heatmap(t(scale(mymat)))"
   ]
  },
  {
   "cell_type": "code",
   "execution_count": null,
   "metadata": {
    "vscode": {
     "languageId": "r"
    }
   },
   "outputs": [],
   "source": [
    "hm %v%  sample_hm %v% group_hm %v% age_hm %v%  atc_hm"
   ]
  },
  {
   "cell_type": "code",
   "execution_count": null,
   "metadata": {
    "vscode": {
     "languageId": "r"
    }
   },
   "outputs": [],
   "source": [
    "fit1 <- lmerTest::lmer( Relapse ~ AUC_N + AUC_TE + AUC_LAG + AUC_TCR + (1 | Patient), data = mypts)\n"
   ]
  },
  {
   "cell_type": "code",
   "execution_count": null,
   "metadata": {
    "vscode": {
     "languageId": "r"
    }
   },
   "outputs": [],
   "source": [
    "# logistic regression\n",
    "mypts$Relapse <- as.factor(mypts$Relapse)\n",
    "mypts$Relapse <- relevel(mypts$Relapse, ref = \"0\")"
   ]
  },
  {
   "cell_type": "code",
   "execution_count": null,
   "metadata": {
    "vscode": {
     "languageId": "r"
    }
   },
   "outputs": [],
   "source": [
    "fit1 <- lmerTest::lmer( Relapse ~ AUC_N + AUC_TE + AUC_LAG + AUC_TCR + (1 | Patient), data = mypts)\n",
    "\n",
    "fit2 <- lme4::glmer( Relapse ~ AUC_N + AUC_TE + AUC_LAG + (1 | Patient), data = mypts, family = binomial)"
   ]
  },
  {
   "cell_type": "code",
   "execution_count": null,
   "metadata": {
    "vscode": {
     "languageId": "r"
    }
   },
   "outputs": [],
   "source": [
    "lmer"
   ]
  },
  {
   "cell_type": "code",
   "execution_count": null,
   "metadata": {
    "vscode": {
     "languageId": "r"
    }
   },
   "outputs": [],
   "source": [
    "anova(fit1)"
   ]
  },
  {
   "cell_type": "code",
   "execution_count": null,
   "metadata": {
    "vscode": {
     "languageId": "r"
    }
   },
   "outputs": [],
   "source": [
    "anova(fit1, fit2)"
   ]
  },
  {
   "cell_type": "code",
   "execution_count": null,
   "metadata": {
    "vscode": {
     "languageId": "r"
    }
   },
   "outputs": [],
   "source": []
  },
  {
   "cell_type": "markdown",
   "metadata": {},
   "source": [
    "# Perturbation scores"
   ]
  },
  {
   "cell_type": "code",
   "execution_count": null,
   "metadata": {
    "vscode": {
     "languageId": "r"
    }
   },
   "outputs": [],
   "source": [
    "cfdna <- meta_div[ which(meta_div$sampletype == \"cfDNA\"),]"
   ]
  },
  {
   "cell_type": "code",
   "execution_count": null,
   "metadata": {
    "vscode": {
     "languageId": "r"
    }
   },
   "outputs": [],
   "source": [
    "pbmc1 <- meta_div[ meta_div$sampletype == \"PBMC\" & !is.na(meta_div$CD3),]\n",
    "pbmc1 <- pbmc1[ pbmc1$CD3 > 0,]"
   ]
  },
  {
   "cell_type": "code",
   "execution_count": null,
   "metadata": {
    "vscode": {
     "languageId": "r"
    }
   },
   "outputs": [],
   "source": [
    "pbmc1$cfTCR_shann <- cfdna[ match(pbmc1$sample_id, cfdna$sample_id), \"log10shann\"]"
   ]
  },
  {
   "cell_type": "code",
   "execution_count": null,
   "metadata": {
    "vscode": {
     "languageId": "r"
    }
   },
   "outputs": [],
   "source": [
    "pbmc1$cyclenum <- as.numeric(gsub(\"X0\", \"\", pbmc1$cycle) )"
   ]
  },
  {
   "cell_type": "code",
   "execution_count": null,
   "metadata": {
    "vscode": {
     "languageId": "r"
    }
   },
   "outputs": [],
   "source": [
    "pbmc1$scaled_N <- scale(pbmc1$`Naïve%`)\n",
    "pbmc1$scaled_CM <- scale(pbmc1$`CM%`)\n",
    "pbmc1$scaled_SCM <- scale(pbmc1$`SCM%`)\n",
    "pbmc1$scaled_EM <- scale(pbmc1$`EM%`)\n",
    "pbmc1$scaled_TE <- scale(pbmc1$`TE%`)\n",
    "pbmc1$scaled_LAG <- scale(pbmc1$`LAG3%`)\n",
    "pbmc1$scaled_TIM <- scale(pbmc1$`TIM3%`)\n",
    "pbmc1$scaled_PD1 <- scale(pbmc1$`PD1%`)\n",
    "pbmc1$scaled_TCR <- scale(pbmc1$log10shann)\n",
    "pbmc1$scaled_cfTCR <- scale(pbmc1$cfTCR_shann)"
   ]
  },
  {
   "cell_type": "code",
   "execution_count": null,
   "metadata": {
    "vscode": {
     "languageId": "r"
    }
   },
   "outputs": [],
   "source": [
    "mytab <- table(pbmc1$Patient, pbmc1$cycle)\n",
    "mytab <- mytab[rowSums(mytab == 1) > 1, ]\n",
    "# baseline_patients <- rownames(mytab)[mytab[, 1] == 1]\n",
    "df1 <- pbmc1[pbmc1$Patient %in% rownames(mytab), ]"
   ]
  },
  {
   "cell_type": "code",
   "execution_count": null,
   "metadata": {
    "vscode": {
     "languageId": "r"
    }
   },
   "outputs": [],
   "source": [
    "dim(df1)"
   ]
  },
  {
   "cell_type": "code",
   "execution_count": null,
   "metadata": {
    "vscode": {
     "languageId": "r"
    }
   },
   "outputs": [],
   "source": [
    "rownames(df1) <- df1$sample_id"
   ]
  },
  {
   "cell_type": "code",
   "execution_count": null,
   "metadata": {
    "vscode": {
     "languageId": "r"
    }
   },
   "outputs": [],
   "source": [
    "result$Relapse[ is.na(result$Relapse) ] <- 0\n",
    "result$Relapse <- as.factor(result$Relapse)"
   ]
  },
  {
   "cell_type": "code",
   "execution_count": null,
   "metadata": {
    "vscode": {
     "languageId": "r"
    }
   },
   "outputs": [],
   "source": [
    "result2 <- df1 %>%\n",
    "    group_by(Patient) %>%\n",
    "    mutate(AUC_N = trapz(cyclenum, scaled_N) / n() ) %>%\n",
    "    mutate(AUC_CM = trapz(cyclenum, scaled_CM) / n() ) %>%\n",
    "    mutate(AUC_SCM = trapz(cyclenum, scaled_SCM) / n()  ) %>%\n",
    "    mutate(AUC_EM = trapz(cyclenum, scaled_EM) / n() ) %>%\n",
    "    mutate(AUC_TE = trapz(cyclenum, scaled_TE) / n() ) %>%\n",
    "    mutate(AUC_LAG = trapz(cyclenum, scaled_LAG) / n() ) %>%\n",
    "    mutate(AUC_TIM = trapz(cyclenum, scaled_TIM) / n() ) %>%\n",
    "    mutate(AUC_PD1 = trapz(cyclenum, scaled_PD1) / n() ) %>%\n",
    "    mutate(AUC_TCR = trapz(cyclenum, scaled_TCR) / n() ) %>%\n",
    "    mutate(AUC_cfTCR = trapz(cyclenum, scaled_cfTCR) / n() ) %>%\n",
    "    ungroup()"
   ]
  },
  {
   "cell_type": "code",
   "execution_count": null,
   "metadata": {
    "vscode": {
     "languageId": "r"
    }
   },
   "outputs": [],
   "source": [
    "mypts <- result2[ !duplicated(result2$Patient), ]\n",
    "# mypts <- mypts[ !is.na(mypts$AUC_TCR), ]"
   ]
  },
  {
   "cell_type": "code",
   "execution_count": null,
   "metadata": {
    "vscode": {
     "languageId": "r"
    }
   },
   "outputs": [],
   "source": [
    "mypts <- as.data.frame(mypts)"
   ]
  },
  {
   "cell_type": "code",
   "execution_count": null,
   "metadata": {
    "vscode": {
     "languageId": "r"
    }
   },
   "outputs": [],
   "source": [
    "rownames(mypts) <- mypts$sample_id"
   ]
  },
  {
   "cell_type": "code",
   "execution_count": null,
   "metadata": {
    "vscode": {
     "languageId": "r"
    }
   },
   "outputs": [],
   "source": [
    "# result <- as.data.frame(result)\n",
    "# rownames(result) <- result$sample_id"
   ]
  },
  {
   "cell_type": "code",
   "execution_count": null,
   "metadata": {
    "vscode": {
     "languageId": "r"
    }
   },
   "outputs": [],
   "source": [
    "tmp <- as.data.frame(c(mean(mypts$AUC_N), mypts$AUC_N ) )\n",
    "rownames(tmp) <- c(\"mean\", rownames(mypts))\n",
    "mypts$dist_N <- as.matrix(dist(tmp))[-1,1]\n",
    "\n",
    "tmp <- as.data.frame(c(mean(mypts$AUC_CM), mypts$AUC_CM ) )\n",
    "rownames(tmp) <- c(\"mean\", rownames(mypts))\n",
    "mypts$dist_CM <- as.matrix(dist(tmp))[-1,1]\n",
    "\n",
    "tmp <- as.data.frame(c(mean(mypts$AUC_SCM), mypts$AUC_SCM ) )\n",
    "rownames(tmp) <- c(\"mean\", rownames(mypts))\n",
    "mypts$dist_SCM <- as.matrix(dist(tmp))[-1,1]\n",
    "\n",
    "tmp <- as.data.frame(c(mean(mypts$AUC_EM), mypts$AUC_EM ) )\n",
    "rownames(tmp) <- c(\"mean\", rownames(mypts))\n",
    "mypts$dist_EM <- as.matrix(dist(tmp))[-1,1]\n",
    "\n",
    "tmp <- as.data.frame(c(mean(mypts$AUC_TE), mypts$AUC_TE ) )\n",
    "rownames(tmp) <- c(\"mean\", rownames(mypts))\n",
    "mypts$dist_TE <- as.matrix(dist(tmp))[-1,1]\n",
    "\n",
    "tmp <- as.data.frame(c(mean(mypts$AUC_LAG, na.rm = T), mypts$AUC_LAG ) )\n",
    "rownames(tmp) <- c(\"mean\", rownames(mypts))\n",
    "mypts$dist_LAG <- as.matrix(dist(tmp))[-1,1]\n",
    "\n",
    "tmp <- as.data.frame(c(mean(mypts$AUC_TIM, na.rm = T), mypts$AUC_TIM ) )\n",
    "rownames(tmp) <- c(\"mean\", rownames(mypts))\n",
    "mypts$dist_TIM <- as.matrix(dist(tmp))[-1,1]\n",
    "\n",
    "tmp <- as.data.frame(c(mean(mypts$AUC_PD1, na.rm = T), mypts$AUC_PD1 ) )\n",
    "rownames(tmp) <- c(\"mean\", rownames(mypts))\n",
    "mypts$dist_PD1 <- as.matrix(dist(tmp))[-1,1]\n",
    "\n",
    "tmp <- as.data.frame(c(mean(mypts$AUC_TCR, na.rm = T), mypts$AUC_TCR ) )\n",
    "rownames(tmp) <- c(\"mean\", rownames(mypts))\n",
    "mypts$dist_TCR <- as.matrix(dist(tmp))[-1,1]\n",
    "\n",
    "tmp <- as.data.frame(c(mean(mypts$AUC_cfTCR, na.rm = T), mypts$AUC_cfTCR ) )\n",
    "rownames(tmp) <- c(\"mean\", rownames(mypts))\n",
    "mypts$dist_cfTCR <- as.matrix(dist(tmp))[-1,1]"
   ]
  },
  {
   "cell_type": "code",
   "execution_count": null,
   "metadata": {
    "vscode": {
     "languageId": "r"
    }
   },
   "outputs": [],
   "source": [
    "head(mypts)"
   ]
  },
  {
   "cell_type": "code",
   "execution_count": null,
   "metadata": {
    "vscode": {
     "languageId": "r"
    }
   },
   "outputs": [],
   "source": [
    "head(mypts$Relapse)"
   ]
  },
  {
   "cell_type": "code",
   "execution_count": null,
   "metadata": {
    "vscode": {
     "languageId": "r"
    }
   },
   "outputs": [],
   "source": [
    "# logistic regression\n",
    "mypts$Relapse <- as.factor(mypts$Relapse)\n",
    "mypts$Relapse <- relevel(mypts$Relapse, ref = \"0\")\n",
    "\n",
    "rms::lrm( Relapse ~ (dist_N + dist_TE + dist_PD1)^3 + cancergroup, data = mypts)"
   ]
  },
  {
   "cell_type": "code",
   "execution_count": null,
   "metadata": {
    "vscode": {
     "languageId": "r"
    }
   },
   "outputs": [],
   "source": []
  },
  {
   "cell_type": "code",
   "execution_count": null,
   "metadata": {
    "vscode": {
     "languageId": "r"
    }
   },
   "outputs": [],
   "source": [
    "tmp <- mypts#[!is.na(mypts$AUC_cfTCR),]"
   ]
  },
  {
   "cell_type": "code",
   "execution_count": null,
   "metadata": {
    "vscode": {
     "languageId": "r"
    }
   },
   "outputs": [],
   "source": [
    "mymat <- as.matrix(tmp[ , c( \"dist_N\", \"dist_CM\", \"dist_SCM\", \"dist_EM\", \"dist_TE\", \"dist_LAG\", \"dist_TIM\", \"dist_PD1\")])"
   ]
  },
  {
   "cell_type": "code",
   "execution_count": null,
   "metadata": {
    "vscode": {
     "languageId": "r"
    }
   },
   "outputs": [],
   "source": [
    "rownames(mymat) <- tmp$Patient"
   ]
  },
  {
   "cell_type": "code",
   "execution_count": null,
   "metadata": {
    "vscode": {
     "languageId": "r"
    }
   },
   "outputs": [],
   "source": [
    "makematrix_4hm <- function(df, var, name ){\n",
    "    mymat <- df[[var]]\n",
    "names(mymat) <- df[[\"Patient\"]]\n",
    "mymat <- t(as.matrix(mymat))\n",
    "rownames(mymat) <- name\n",
    "    \n",
    "    return(mymat)\n",
    "}"
   ]
  },
  {
   "cell_type": "code",
   "execution_count": null,
   "metadata": {
    "vscode": {
     "languageId": "r"
    }
   },
   "outputs": [],
   "source": [
    "mycohort <- makematrix_4hm(tmp, \"Disease_type\", \"disease\")\n",
    "mysample <- makematrix_4hm(tmp, \"cancergroup\", \"cancergroup\")\n",
    "mygroup <- makematrix_4hm(tmp, \"Relapse\", \"Relapse\")"
   ]
  },
  {
   "cell_type": "code",
   "execution_count": null,
   "metadata": {
    "vscode": {
     "languageId": "r"
    }
   },
   "outputs": [],
   "source": [
    "myatc <- makematrix_4hm(tmp, \"ATC\", \"ATC\")"
   ]
  },
  {
   "cell_type": "code",
   "execution_count": null,
   "metadata": {
    "vscode": {
     "languageId": "r"
    }
   },
   "outputs": [],
   "source": [
    "myage <- makematrix_4hm(tmp, \"Age\", \"Age\")"
   ]
  },
  {
   "cell_type": "code",
   "execution_count": null,
   "metadata": {
    "vscode": {
     "languageId": "r"
    }
   },
   "outputs": [],
   "source": [
    "age_col <- c(\"blue\", \"red\")\n",
    "atc_col <- c(\"blue\", \"red\")"
   ]
  },
  {
   "cell_type": "code",
   "execution_count": null,
   "metadata": {
    "vscode": {
     "languageId": "r"
    }
   },
   "outputs": [],
   "source": [
    "group_col <- c(\"blue\", \"red\", \"green\")\n",
    "names(group_col) <- names(table(tmp$Relapse))"
   ]
  },
  {
   "cell_type": "code",
   "execution_count": null,
   "metadata": {
    "vscode": {
     "languageId": "r"
    }
   },
   "outputs": [],
   "source": [
    "# cohort_col <- c(\"blue\", \"red\", \"green\", \"orange\", \"purple\", \"yellow\", \"black\", \"grey\", \"pink\", \n",
    "# \"brown\", \"cyan\", \"magenta\", \"navy\", \"maroon\", \"gray\",\"gold\", \"darkgreen\") \n",
    "# names(cohort_col) <- names(table(allpbmcs$Disease_type))"
   ]
  },
  {
   "cell_type": "code",
   "execution_count": null,
   "metadata": {
    "vscode": {
     "languageId": "r"
    }
   },
   "outputs": [],
   "source": [
    "type_col <- c(\"blue\", \"red\", \"green\", \"orange\", \"purple\")\n",
    "names(type_col) <- names(table(tmp$cancergroup))"
   ]
  },
  {
   "cell_type": "code",
   "execution_count": null,
   "metadata": {
    "vscode": {
     "languageId": "r"
    }
   },
   "outputs": [],
   "source": [
    "library(ComplexHeatmap)"
   ]
  },
  {
   "cell_type": "code",
   "execution_count": null,
   "metadata": {
    "vscode": {
     "languageId": "r"
    }
   },
   "outputs": [],
   "source": [
    "age_hm <- Heatmap(myage, col = age_col,  height = unit(1,\"cm\"))\n",
    "atc_hm <- Heatmap(myatc, col = atc_col,  height = unit(1,\"cm\"))"
   ]
  },
  {
   "cell_type": "code",
   "execution_count": null,
   "metadata": {
    "vscode": {
     "languageId": "r"
    }
   },
   "outputs": [],
   "source": [
    "cohort_hm <- Heatmap(mycohort, col = cohort_col, height = unit(1,\"cm\"))\n",
    "sample_hm <- Heatmap(mysample, col = type_col, , height = unit(1,\"cm\"))\n",
    "group_hm <- Heatmap(mygroup, col = group_col, , height = unit(1,\"cm\"))"
   ]
  },
  {
   "cell_type": "code",
   "execution_count": null,
   "metadata": {
    "vscode": {
     "languageId": "r"
    }
   },
   "outputs": [],
   "source": [
    "hm <- Heatmap(t(scale(mymat)))"
   ]
  },
  {
   "cell_type": "code",
   "execution_count": null,
   "metadata": {
    "vscode": {
     "languageId": "r"
    }
   },
   "outputs": [],
   "source": [
    "hm %v%  sample_hm %v% group_hm %v% age_hm %v%  atc_hm"
   ]
  },
  {
   "cell_type": "code",
   "execution_count": null,
   "metadata": {
    "vscode": {
     "languageId": "r"
    }
   },
   "outputs": [],
   "source": []
  },
  {
   "cell_type": "code",
   "execution_count": null,
   "metadata": {
    "vscode": {
     "languageId": "r"
    }
   },
   "outputs": [],
   "source": []
  },
  {
   "cell_type": "code",
   "execution_count": null,
   "metadata": {
    "vscode": {
     "languageId": "r"
    }
   },
   "outputs": [],
   "source": []
  }
 ],
 "metadata": {
  "kernelspec": {
   "display_name": "R 4.0",
   "language": "R",
   "name": "ir40"
  },
  "language_info": {
   "codemirror_mode": "r",
   "file_extension": ".r",
   "mimetype": "text/x-r-source",
   "name": "R",
   "pygments_lexer": "r",
   "version": "4.2.2"
  },
  "toc": {
   "base_numbering": 1,
   "nav_menu": {},
   "number_sections": false,
   "sideBar": true,
   "skip_h1_title": false,
   "title_cell": "Table of Contents",
   "title_sidebar": "Contents",
   "toc_cell": true,
   "toc_position": {
    "height": "calc(100% - 180px)",
    "left": "10px",
    "top": "150px",
    "width": "186.15px"
   },
   "toc_section_display": true,
   "toc_window_display": true
  }
 },
 "nbformat": 4,
 "nbformat_minor": 2
}

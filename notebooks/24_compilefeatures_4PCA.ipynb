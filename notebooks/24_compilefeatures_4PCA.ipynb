{
 "cells": [
  {
   "cell_type": "code",
   "execution_count": 1,
   "metadata": {
    "vscode": {
     "languageId": "r"
    }
   },
   "outputs": [
    {
     "data": {
      "text/html": [
       "'en_US.UTF-8/en_US.UTF-8/en_US.UTF-8/C/en_US.UTF-8/C'"
      ],
      "text/latex": [
       "'en\\_US.UTF-8/en\\_US.UTF-8/en\\_US.UTF-8/C/en\\_US.UTF-8/C'"
      ],
      "text/markdown": [
       "'en_US.UTF-8/en_US.UTF-8/en_US.UTF-8/C/en_US.UTF-8/C'"
      ],
      "text/plain": [
       "[1] \"en_US.UTF-8/en_US.UTF-8/en_US.UTF-8/C/en_US.UTF-8/C\""
      ]
     },
     "metadata": {},
     "output_type": "display_data"
    }
   ],
   "source": [
    "Sys.setlocale(category = \"LC_ALL\", locale = \"en_US.UTF-8\")"
   ]
  },
  {
   "attachments": {},
   "cell_type": "markdown",
   "metadata": {},
   "source": [
    "# Dependencies"
   ]
  },
  {
   "cell_type": "code",
   "execution_count": 2,
   "metadata": {
    "vscode": {
     "languageId": "r"
    }
   },
   "outputs": [],
   "source": [
    "pacman::p_load(dplyr, ggplot2, ggbeeswarm, ggpubr, ggsignif, cowplot)"
   ]
  },
  {
   "attachments": {},
   "cell_type": "markdown",
   "metadata": {},
   "source": [
    "# Functions"
   ]
  },
  {
   "cell_type": "code",
   "execution_count": 3,
   "metadata": {
    "vscode": {
     "languageId": "r"
    }
   },
   "outputs": [],
   "source": [
    "source(\"/Users/anabbi/git/ped_CapTCRseq/R/ggplot2_theme.R\")\n",
    "source(\"/Users/anabbi/git/ped_CapTCRseq/R/color_schemes.R\")\n",
    "source(\"/Users/anabbi/git/ped_CapTCRseq/R/Misc_functions.R\")"
   ]
  },
  {
   "attachments": {},
   "cell_type": "markdown",
   "metadata": {},
   "source": [
    "# Paths"
   ]
  },
  {
   "cell_type": "code",
   "execution_count": 4,
   "metadata": {
    "vscode": {
     "languageId": "r"
    }
   },
   "outputs": [],
   "source": [
    "datapath <- \"/Users/anabbi/OneDrive - UHN/Documents/INTERCEPT/Data/\"\n",
    "plotpath <- \"/Users/anabbi/OneDrive - UHN/Documents/INTERCEPT/Plots/\"\n",
    "manifestpath <- \"/Users/anabbi/OneDrive - UHN/Documents/INTERCEPT/Manifests/\"\n",
    "gitpath <- \"/Users/anabbi/git/ped_CapTCRseq/\""
   ]
  },
  {
   "cell_type": "code",
   "execution_count": 5,
   "metadata": {
    "vscode": {
     "languageId": "r"
    }
   },
   "outputs": [],
   "source": [
    "h4hpath <- \"/Users/anabbi/Desktop/H4H/INTERCEPT/\""
   ]
  },
  {
   "attachments": {},
   "cell_type": "markdown",
   "metadata": {},
   "source": [
    "# Main"
   ]
  },
  {
   "cell_type": "markdown",
   "metadata": {},
   "source": [
    "# Meta_div"
   ]
  },
  {
   "cell_type": "code",
   "execution_count": 6,
   "metadata": {
    "vscode": {
     "languageId": "r"
    }
   },
   "outputs": [],
   "source": [
    "meta_div <- readr::read_rds(paste0(datapath, \"capTCRseq/meta_div_goodsamples.rds\"))"
   ]
  },
  {
   "cell_type": "code",
   "execution_count": 7,
   "metadata": {
    "vscode": {
     "languageId": "r"
    }
   },
   "outputs": [],
   "source": [
    "# meta_div <- readr::read_rds(paste0(datapath, \"meta_div_goodsamples.rds\"))"
   ]
  },
  {
   "cell_type": "code",
   "execution_count": 8,
   "metadata": {
    "vscode": {
     "languageId": "r"
    }
   },
   "outputs": [
    {
     "data": {
      "text/html": [
       "<table class=\"dataframe\">\n",
       "<caption>A data.frame: 5 x 66</caption>\n",
       "<thead>\n",
       "\t<tr><th></th><th scope=col>sample_id</th><th scope=col>Patient</th><th scope=col>cycle</th><th scope=col>FOLD</th><th scope=col>ATC</th><th scope=col>Age</th><th scope=col>Disease_type</th><th scope=col>TE_fold</th><th scope=col>CD3</th><th scope=col>EM</th><th scope=col>...</th><th scope=col>estimated_Shannon</th><th scope=col>SE_Shannon</th><th scope=col>observed_Simpson</th><th scope=col>estimated_Simpson</th><th scope=col>SE_Simpson</th><th scope=col>basename</th><th scope=col>file</th><th scope=col>sampletype</th><th scope=col>Group</th><th scope=col>log10shann</th></tr>\n",
       "\t<tr><th></th><th scope=col>&lt;chr&gt;</th><th scope=col>&lt;chr&gt;</th><th scope=col>&lt;chr&gt;</th><th scope=col>&lt;dbl&gt;</th><th scope=col>&lt;dbl&gt;</th><th scope=col>&lt;dbl&gt;</th><th scope=col>&lt;chr&gt;</th><th scope=col>&lt;dbl&gt;</th><th scope=col>&lt;int&gt;</th><th scope=col>&lt;int&gt;</th><th scope=col>...</th><th scope=col>&lt;dbl&gt;</th><th scope=col>&lt;dbl&gt;</th><th scope=col>&lt;dbl&gt;</th><th scope=col>&lt;dbl&gt;</th><th scope=col>&lt;dbl&gt;</th><th scope=col>&lt;chr&gt;</th><th scope=col>&lt;chr&gt;</th><th scope=col>&lt;chr&gt;</th><th scope=col>&lt;chr&gt;</th><th scope=col>&lt;dbl&gt;</th></tr>\n",
       "</thead>\n",
       "<tbody>\n",
       "\t<tr><th scope=row>891</th><td>CHP_437_01</td><td>CHP_437</td><td>X01</td><td>0</td><td>0</td><td>9</td><td>OS</td><td>0</td><td>0</td><td>NA</td><td>...</td><td>NA</td><td>NA</td><td>NA</td><td>NA</td><td>NA</td><td>NA</td><td>NA</td><td>PBMC</td><td>CHP</td><td>NA</td></tr>\n",
       "\t<tr><th scope=row>892</th><td>CHP_437_02</td><td>CHP_437</td><td>X02</td><td>0</td><td>0</td><td>9</td><td>OS</td><td>0</td><td>0</td><td>NA</td><td>...</td><td>NA</td><td>NA</td><td>NA</td><td>NA</td><td>NA</td><td>NA</td><td>NA</td><td>PBMC</td><td>CHP</td><td>NA</td></tr>\n",
       "\t<tr><th scope=row>893</th><td>CHP_437_03</td><td>CHP_437</td><td>X03</td><td>0</td><td>0</td><td>9</td><td>OS</td><td>0</td><td>0</td><td>NA</td><td>...</td><td>NA</td><td>NA</td><td>NA</td><td>NA</td><td>NA</td><td>NA</td><td>NA</td><td>PBMC</td><td>CHP</td><td>NA</td></tr>\n",
       "\t<tr><th scope=row>894</th><td>CHP_437_04</td><td>CHP_437</td><td>X04</td><td>0</td><td>0</td><td>9</td><td>OS</td><td>0</td><td>0</td><td>NA</td><td>...</td><td>NA</td><td>NA</td><td>NA</td><td>NA</td><td>NA</td><td>NA</td><td>NA</td><td>PBMC</td><td>CHP</td><td>NA</td></tr>\n",
       "\t<tr><th scope=row>895</th><td>CHP_437_05</td><td>CHP_437</td><td>X05</td><td>0</td><td>0</td><td>9</td><td>OS</td><td>0</td><td>0</td><td>NA</td><td>...</td><td>NA</td><td>NA</td><td>NA</td><td>NA</td><td>NA</td><td>NA</td><td>NA</td><td>PBMC</td><td>CHP</td><td>NA</td></tr>\n",
       "</tbody>\n",
       "</table>\n"
      ],
      "text/latex": [
       "A data.frame: 5 x 66\n",
       "\\begin{tabular}{r|lllllllllllllllllllll}\n",
       "  & sample\\_id & Patient & cycle & FOLD & ATC & Age & Disease\\_type & TE\\_fold & CD3 & EM & ... & estimated\\_Shannon & SE\\_Shannon & observed\\_Simpson & estimated\\_Simpson & SE\\_Simpson & basename & file & sampletype & Group & log10shann\\\\\n",
       "  & <chr> & <chr> & <chr> & <dbl> & <dbl> & <dbl> & <chr> & <dbl> & <int> & <int> & ... & <dbl> & <dbl> & <dbl> & <dbl> & <dbl> & <chr> & <chr> & <chr> & <chr> & <dbl>\\\\\n",
       "\\hline\n",
       "\t891 & CHP\\_437\\_01 & CHP\\_437 & X01 & 0 & 0 & 9 & OS & 0 & 0 & NA & ... & NA & NA & NA & NA & NA & NA & NA & PBMC & CHP & NA\\\\\n",
       "\t892 & CHP\\_437\\_02 & CHP\\_437 & X02 & 0 & 0 & 9 & OS & 0 & 0 & NA & ... & NA & NA & NA & NA & NA & NA & NA & PBMC & CHP & NA\\\\\n",
       "\t893 & CHP\\_437\\_03 & CHP\\_437 & X03 & 0 & 0 & 9 & OS & 0 & 0 & NA & ... & NA & NA & NA & NA & NA & NA & NA & PBMC & CHP & NA\\\\\n",
       "\t894 & CHP\\_437\\_04 & CHP\\_437 & X04 & 0 & 0 & 9 & OS & 0 & 0 & NA & ... & NA & NA & NA & NA & NA & NA & NA & PBMC & CHP & NA\\\\\n",
       "\t895 & CHP\\_437\\_05 & CHP\\_437 & X05 & 0 & 0 & 9 & OS & 0 & 0 & NA & ... & NA & NA & NA & NA & NA & NA & NA & PBMC & CHP & NA\\\\\n",
       "\\end{tabular}\n"
      ],
      "text/markdown": [
       "\n",
       "A data.frame: 5 x 66\n",
       "\n",
       "| <!--/--> | sample_id &lt;chr&gt; | Patient &lt;chr&gt; | cycle &lt;chr&gt; | FOLD &lt;dbl&gt; | ATC &lt;dbl&gt; | Age &lt;dbl&gt; | Disease_type &lt;chr&gt; | TE_fold &lt;dbl&gt; | CD3 &lt;int&gt; | EM &lt;int&gt; | ... ... | estimated_Shannon &lt;dbl&gt; | SE_Shannon &lt;dbl&gt; | observed_Simpson &lt;dbl&gt; | estimated_Simpson &lt;dbl&gt; | SE_Simpson &lt;dbl&gt; | basename &lt;chr&gt; | file &lt;chr&gt; | sampletype &lt;chr&gt; | Group &lt;chr&gt; | log10shann &lt;dbl&gt; |\n",
       "|---|---|---|---|---|---|---|---|---|---|---|---|---|---|---|---|---|---|---|---|---|---|\n",
       "| 891 | CHP_437_01 | CHP_437 | X01 | 0 | 0 | 9 | OS | 0 | 0 | NA | ... | NA | NA | NA | NA | NA | NA | NA | PBMC | CHP | NA |\n",
       "| 892 | CHP_437_02 | CHP_437 | X02 | 0 | 0 | 9 | OS | 0 | 0 | NA | ... | NA | NA | NA | NA | NA | NA | NA | PBMC | CHP | NA |\n",
       "| 893 | CHP_437_03 | CHP_437 | X03 | 0 | 0 | 9 | OS | 0 | 0 | NA | ... | NA | NA | NA | NA | NA | NA | NA | PBMC | CHP | NA |\n",
       "| 894 | CHP_437_04 | CHP_437 | X04 | 0 | 0 | 9 | OS | 0 | 0 | NA | ... | NA | NA | NA | NA | NA | NA | NA | PBMC | CHP | NA |\n",
       "| 895 | CHP_437_05 | CHP_437 | X05 | 0 | 0 | 9 | OS | 0 | 0 | NA | ... | NA | NA | NA | NA | NA | NA | NA | PBMC | CHP | NA |\n",
       "\n"
      ],
      "text/plain": [
       "    sample_id  Patient cycle FOLD ATC Age Disease_type TE_fold CD3 EM ...\n",
       "891 CHP_437_01 CHP_437 X01   0    0   9   OS           0       0   NA ...\n",
       "892 CHP_437_02 CHP_437 X02   0    0   9   OS           0       0   NA ...\n",
       "893 CHP_437_03 CHP_437 X03   0    0   9   OS           0       0   NA ...\n",
       "894 CHP_437_04 CHP_437 X04   0    0   9   OS           0       0   NA ...\n",
       "895 CHP_437_05 CHP_437 X05   0    0   9   OS           0       0   NA ...\n",
       "    estimated_Shannon SE_Shannon observed_Simpson estimated_Simpson SE_Simpson\n",
       "891 NA                NA         NA               NA                NA        \n",
       "892 NA                NA         NA               NA                NA        \n",
       "893 NA                NA         NA               NA                NA        \n",
       "894 NA                NA         NA               NA                NA        \n",
       "895 NA                NA         NA               NA                NA        \n",
       "    basename file sampletype Group log10shann\n",
       "891 NA       NA   PBMC       CHP   NA        \n",
       "892 NA       NA   PBMC       CHP   NA        \n",
       "893 NA       NA   PBMC       CHP   NA        \n",
       "894 NA       NA   PBMC       CHP   NA        \n",
       "895 NA       NA   PBMC       CHP   NA        "
      ]
     },
     "metadata": {},
     "output_type": "display_data"
    }
   ],
   "source": [
    "meta_div[ meta_div$Patient == \"CHP_437\",]"
   ]
  },
  {
   "cell_type": "code",
   "execution_count": 9,
   "metadata": {
    "vscode": {
     "languageId": "r"
    }
   },
   "outputs": [],
   "source": [
    "pbmc <- meta_div[ meta_div$sampletype == \"PBMC\",]\n",
    "cfdna <- meta_div[ meta_div$sampletype == \"cfDNA\",]"
   ]
  },
  {
   "cell_type": "code",
   "execution_count": 10,
   "metadata": {
    "vscode": {
     "languageId": "r"
    }
   },
   "outputs": [],
   "source": [
    "pbmc <- pbmc[ !pbmc$cancergroup %in% c(\"LFS\", \"Normal\"),]"
   ]
  },
  {
   "cell_type": "markdown",
   "metadata": {},
   "source": [
    "# PBMC metrics"
   ]
  },
  {
   "cell_type": "markdown",
   "metadata": {},
   "source": [
    "Add HLA"
   ]
  },
  {
   "cell_type": "code",
   "execution_count": 11,
   "metadata": {
    "vscode": {
     "languageId": "r"
    }
   },
   "outputs": [],
   "source": [
    "hlas <- readr::read_rds(paste0(datapath, \"/HLA/INT_allHLA_postqc.rds\"))"
   ]
  },
  {
   "cell_type": "code",
   "execution_count": 12,
   "metadata": {
    "vscode": {
     "languageId": "r"
    }
   },
   "outputs": [
    {
     "data": {
      "text/html": [
       "<table class=\"dataframe\">\n",
       "<caption>A data.frame: 6 x 133</caption>\n",
       "<thead>\n",
       "\t<tr><th></th><th scope=col>A*02:01:01</th><th scope=col>A*01:01:01</th><th scope=col>A*11:01:01</th><th scope=col>A*26:01:01</th><th scope=col>A*31:01:02</th><th scope=col>A*03:01:01</th><th scope=col>A*02:05:01</th><th scope=col>A*23:01:01</th><th scope=col>A*24:02:01</th><th scope=col>A*30:01:01</th><th scope=col>...</th><th scope=col>DRB3*01:01:02</th><th scope=col>DRB5*01:01:01</th><th scope=col>DRB4*01:03:01</th><th scope=col>DRB3*03:01:01</th><th scope=col>DRB4*01:01:01</th><th scope=col>DRB3*01:62:01</th><th scope=col>DRB4*01:03:02</th><th scope=col>DRB5*02:02:01</th><th scope=col>DRB5*01:02:01</th><th scope=col>DRB4*01:03:01:02N</th></tr>\n",
       "\t<tr><th></th><th scope=col>&lt;int&gt;</th><th scope=col>&lt;int&gt;</th><th scope=col>&lt;int&gt;</th><th scope=col>&lt;int&gt;</th><th scope=col>&lt;int&gt;</th><th scope=col>&lt;int&gt;</th><th scope=col>&lt;int&gt;</th><th scope=col>&lt;int&gt;</th><th scope=col>&lt;int&gt;</th><th scope=col>&lt;int&gt;</th><th scope=col>...</th><th scope=col>&lt;int&gt;</th><th scope=col>&lt;int&gt;</th><th scope=col>&lt;int&gt;</th><th scope=col>&lt;int&gt;</th><th scope=col>&lt;int&gt;</th><th scope=col>&lt;int&gt;</th><th scope=col>&lt;int&gt;</th><th scope=col>&lt;int&gt;</th><th scope=col>&lt;int&gt;</th><th scope=col>&lt;int&gt;</th></tr>\n",
       "</thead>\n",
       "<tbody>\n",
       "\t<tr><th scope=row>315-05</th><td>1</td><td>0</td><td>0</td><td>0</td><td>0</td><td>0</td><td>1</td><td>0</td><td>0</td><td>0</td><td>...</td><td>0</td><td>0</td><td>0</td><td>1</td><td>0</td><td>0</td><td>0</td><td>0</td><td>0</td><td>0</td></tr>\n",
       "\t<tr><th scope=row>319-05</th><td>0</td><td>1</td><td>0</td><td>0</td><td>0</td><td>1</td><td>0</td><td>0</td><td>0</td><td>0</td><td>...</td><td>1</td><td>0</td><td>0</td><td>0</td><td>0</td><td>0</td><td>0</td><td>0</td><td>0</td><td>0</td></tr>\n",
       "\t<tr><th scope=row>323-03</th><td>0</td><td>0</td><td>1</td><td>0</td><td>0</td><td>0</td><td>0</td><td>1</td><td>0</td><td>0</td><td>...</td><td>0</td><td>0</td><td>1</td><td>0</td><td>0</td><td>0</td><td>0</td><td>0</td><td>0</td><td>0</td></tr>\n",
       "\t<tr><th scope=row>329-04</th><td>0</td><td>0</td><td>0</td><td>2</td><td>0</td><td>0</td><td>0</td><td>0</td><td>0</td><td>0</td><td>...</td><td>0</td><td>1</td><td>0</td><td>0</td><td>0</td><td>0</td><td>0</td><td>1</td><td>0</td><td>0</td></tr>\n",
       "\t<tr><th scope=row>330-05</th><td>1</td><td>0</td><td>0</td><td>0</td><td>0</td><td>0</td><td>0</td><td>0</td><td>0</td><td>0</td><td>...</td><td>0</td><td>0</td><td>1</td><td>0</td><td>0</td><td>0</td><td>0</td><td>0</td><td>0</td><td>0</td></tr>\n",
       "\t<tr><th scope=row>331-04</th><td>1</td><td>0</td><td>0</td><td>1</td><td>0</td><td>0</td><td>0</td><td>0</td><td>0</td><td>0</td><td>...</td><td>0</td><td>0</td><td>1</td><td>0</td><td>0</td><td>0</td><td>0</td><td>0</td><td>0</td><td>0</td></tr>\n",
       "</tbody>\n",
       "</table>\n"
      ],
      "text/latex": [
       "A data.frame: 6 x 133\n",
       "\\begin{tabular}{r|lllllllllllllllllllll}\n",
       "  & A*02:01:01 & A*01:01:01 & A*11:01:01 & A*26:01:01 & A*31:01:02 & A*03:01:01 & A*02:05:01 & A*23:01:01 & A*24:02:01 & A*30:01:01 & ... & DRB3*01:01:02 & DRB5*01:01:01 & DRB4*01:03:01 & DRB3*03:01:01 & DRB4*01:01:01 & DRB3*01:62:01 & DRB4*01:03:02 & DRB5*02:02:01 & DRB5*01:02:01 & DRB4*01:03:01:02N\\\\\n",
       "  & <int> & <int> & <int> & <int> & <int> & <int> & <int> & <int> & <int> & <int> & ... & <int> & <int> & <int> & <int> & <int> & <int> & <int> & <int> & <int> & <int>\\\\\n",
       "\\hline\n",
       "\t315-05 & 1 & 0 & 0 & 0 & 0 & 0 & 1 & 0 & 0 & 0 & ... & 0 & 0 & 0 & 1 & 0 & 0 & 0 & 0 & 0 & 0\\\\\n",
       "\t319-05 & 0 & 1 & 0 & 0 & 0 & 1 & 0 & 0 & 0 & 0 & ... & 1 & 0 & 0 & 0 & 0 & 0 & 0 & 0 & 0 & 0\\\\\n",
       "\t323-03 & 0 & 0 & 1 & 0 & 0 & 0 & 0 & 1 & 0 & 0 & ... & 0 & 0 & 1 & 0 & 0 & 0 & 0 & 0 & 0 & 0\\\\\n",
       "\t329-04 & 0 & 0 & 0 & 2 & 0 & 0 & 0 & 0 & 0 & 0 & ... & 0 & 1 & 0 & 0 & 0 & 0 & 0 & 1 & 0 & 0\\\\\n",
       "\t330-05 & 1 & 0 & 0 & 0 & 0 & 0 & 0 & 0 & 0 & 0 & ... & 0 & 0 & 1 & 0 & 0 & 0 & 0 & 0 & 0 & 0\\\\\n",
       "\t331-04 & 1 & 0 & 0 & 1 & 0 & 0 & 0 & 0 & 0 & 0 & ... & 0 & 0 & 1 & 0 & 0 & 0 & 0 & 0 & 0 & 0\\\\\n",
       "\\end{tabular}\n"
      ],
      "text/markdown": [
       "\n",
       "A data.frame: 6 x 133\n",
       "\n",
       "| <!--/--> | A*02:01:01 &lt;int&gt; | A*01:01:01 &lt;int&gt; | A*11:01:01 &lt;int&gt; | A*26:01:01 &lt;int&gt; | A*31:01:02 &lt;int&gt; | A*03:01:01 &lt;int&gt; | A*02:05:01 &lt;int&gt; | A*23:01:01 &lt;int&gt; | A*24:02:01 &lt;int&gt; | A*30:01:01 &lt;int&gt; | ... ... | DRB3*01:01:02 &lt;int&gt; | DRB5*01:01:01 &lt;int&gt; | DRB4*01:03:01 &lt;int&gt; | DRB3*03:01:01 &lt;int&gt; | DRB4*01:01:01 &lt;int&gt; | DRB3*01:62:01 &lt;int&gt; | DRB4*01:03:02 &lt;int&gt; | DRB5*02:02:01 &lt;int&gt; | DRB5*01:02:01 &lt;int&gt; | DRB4*01:03:01:02N &lt;int&gt; |\n",
       "|---|---|---|---|---|---|---|---|---|---|---|---|---|---|---|---|---|---|---|---|---|---|\n",
       "| 315-05 | 1 | 0 | 0 | 0 | 0 | 0 | 1 | 0 | 0 | 0 | ... | 0 | 0 | 0 | 1 | 0 | 0 | 0 | 0 | 0 | 0 |\n",
       "| 319-05 | 0 | 1 | 0 | 0 | 0 | 1 | 0 | 0 | 0 | 0 | ... | 1 | 0 | 0 | 0 | 0 | 0 | 0 | 0 | 0 | 0 |\n",
       "| 323-03 | 0 | 0 | 1 | 0 | 0 | 0 | 0 | 1 | 0 | 0 | ... | 0 | 0 | 1 | 0 | 0 | 0 | 0 | 0 | 0 | 0 |\n",
       "| 329-04 | 0 | 0 | 0 | 2 | 0 | 0 | 0 | 0 | 0 | 0 | ... | 0 | 1 | 0 | 0 | 0 | 0 | 0 | 1 | 0 | 0 |\n",
       "| 330-05 | 1 | 0 | 0 | 0 | 0 | 0 | 0 | 0 | 0 | 0 | ... | 0 | 0 | 1 | 0 | 0 | 0 | 0 | 0 | 0 | 0 |\n",
       "| 331-04 | 1 | 0 | 0 | 1 | 0 | 0 | 0 | 0 | 0 | 0 | ... | 0 | 0 | 1 | 0 | 0 | 0 | 0 | 0 | 0 | 0 |\n",
       "\n"
      ],
      "text/plain": [
       "       A*02:01:01 A*01:01:01 A*11:01:01 A*26:01:01 A*31:01:02 A*03:01:01\n",
       "315-05 1          0          0          0          0          0         \n",
       "319-05 0          1          0          0          0          1         \n",
       "323-03 0          0          1          0          0          0         \n",
       "329-04 0          0          0          2          0          0         \n",
       "330-05 1          0          0          0          0          0         \n",
       "331-04 1          0          0          1          0          0         \n",
       "       A*02:05:01 A*23:01:01 A*24:02:01 A*30:01:01 ... DRB3*01:01:02\n",
       "315-05 1          0          0          0          ... 0            \n",
       "319-05 0          0          0          0          ... 1            \n",
       "323-03 0          1          0          0          ... 0            \n",
       "329-04 0          0          0          0          ... 0            \n",
       "330-05 0          0          0          0          ... 0            \n",
       "331-04 0          0          0          0          ... 0            \n",
       "       DRB5*01:01:01 DRB4*01:03:01 DRB3*03:01:01 DRB4*01:01:01 DRB3*01:62:01\n",
       "315-05 0             0             1             0             0            \n",
       "319-05 0             0             0             0             0            \n",
       "323-03 0             1             0             0             0            \n",
       "329-04 1             0             0             0             0            \n",
       "330-05 0             1             0             0             0            \n",
       "331-04 0             1             0             0             0            \n",
       "       DRB4*01:03:02 DRB5*02:02:01 DRB5*01:02:01 DRB4*01:03:01:02N\n",
       "315-05 0             0             0             0                \n",
       "319-05 0             0             0             0                \n",
       "323-03 0             0             0             0                \n",
       "329-04 0             1             0             0                \n",
       "330-05 0             0             0             0                \n",
       "331-04 0             0             0             0                "
      ]
     },
     "metadata": {},
     "output_type": "display_data"
    }
   ],
   "source": [
    "head(hlas)"
   ]
  },
  {
   "cell_type": "code",
   "execution_count": 13,
   "metadata": {
    "vscode": {
     "languageId": "r"
    }
   },
   "outputs": [],
   "source": [
    "rownames(hlas) <- paste0(\"CHP_\", rownames(hlas))\n",
    "rownames(hlas) <- gsub(\"-.*\", \"\", rownames(hlas))"
   ]
  },
  {
   "cell_type": "code",
   "execution_count": 14,
   "metadata": {
    "vscode": {
     "languageId": "r"
    }
   },
   "outputs": [
    {
     "data": {
      "text/html": [
       "<table class=\"dataframe\">\n",
       "<caption>A data.frame: 6 x 133</caption>\n",
       "<thead>\n",
       "\t<tr><th></th><th scope=col>A*02:01:01</th><th scope=col>A*01:01:01</th><th scope=col>A*11:01:01</th><th scope=col>A*26:01:01</th><th scope=col>A*31:01:02</th><th scope=col>A*03:01:01</th><th scope=col>A*02:05:01</th><th scope=col>A*23:01:01</th><th scope=col>A*24:02:01</th><th scope=col>A*30:01:01</th><th scope=col>...</th><th scope=col>DRB3*01:01:02</th><th scope=col>DRB5*01:01:01</th><th scope=col>DRB4*01:03:01</th><th scope=col>DRB3*03:01:01</th><th scope=col>DRB4*01:01:01</th><th scope=col>DRB3*01:62:01</th><th scope=col>DRB4*01:03:02</th><th scope=col>DRB5*02:02:01</th><th scope=col>DRB5*01:02:01</th><th scope=col>DRB4*01:03:01:02N</th></tr>\n",
       "\t<tr><th></th><th scope=col>&lt;int&gt;</th><th scope=col>&lt;int&gt;</th><th scope=col>&lt;int&gt;</th><th scope=col>&lt;int&gt;</th><th scope=col>&lt;int&gt;</th><th scope=col>&lt;int&gt;</th><th scope=col>&lt;int&gt;</th><th scope=col>&lt;int&gt;</th><th scope=col>&lt;int&gt;</th><th scope=col>&lt;int&gt;</th><th scope=col>...</th><th scope=col>&lt;int&gt;</th><th scope=col>&lt;int&gt;</th><th scope=col>&lt;int&gt;</th><th scope=col>&lt;int&gt;</th><th scope=col>&lt;int&gt;</th><th scope=col>&lt;int&gt;</th><th scope=col>&lt;int&gt;</th><th scope=col>&lt;int&gt;</th><th scope=col>&lt;int&gt;</th><th scope=col>&lt;int&gt;</th></tr>\n",
       "</thead>\n",
       "<tbody>\n",
       "\t<tr><th scope=row>CHP_315</th><td>1</td><td>0</td><td>0</td><td>0</td><td>0</td><td>0</td><td>1</td><td>0</td><td>0</td><td>0</td><td>...</td><td>0</td><td>0</td><td>0</td><td>1</td><td>0</td><td>0</td><td>0</td><td>0</td><td>0</td><td>0</td></tr>\n",
       "\t<tr><th scope=row>CHP_319</th><td>0</td><td>1</td><td>0</td><td>0</td><td>0</td><td>1</td><td>0</td><td>0</td><td>0</td><td>0</td><td>...</td><td>1</td><td>0</td><td>0</td><td>0</td><td>0</td><td>0</td><td>0</td><td>0</td><td>0</td><td>0</td></tr>\n",
       "\t<tr><th scope=row>CHP_323</th><td>0</td><td>0</td><td>1</td><td>0</td><td>0</td><td>0</td><td>0</td><td>1</td><td>0</td><td>0</td><td>...</td><td>0</td><td>0</td><td>1</td><td>0</td><td>0</td><td>0</td><td>0</td><td>0</td><td>0</td><td>0</td></tr>\n",
       "\t<tr><th scope=row>CHP_329</th><td>0</td><td>0</td><td>0</td><td>2</td><td>0</td><td>0</td><td>0</td><td>0</td><td>0</td><td>0</td><td>...</td><td>0</td><td>1</td><td>0</td><td>0</td><td>0</td><td>0</td><td>0</td><td>1</td><td>0</td><td>0</td></tr>\n",
       "\t<tr><th scope=row>CHP_330</th><td>1</td><td>0</td><td>0</td><td>0</td><td>0</td><td>0</td><td>0</td><td>0</td><td>0</td><td>0</td><td>...</td><td>0</td><td>0</td><td>1</td><td>0</td><td>0</td><td>0</td><td>0</td><td>0</td><td>0</td><td>0</td></tr>\n",
       "\t<tr><th scope=row>CHP_331</th><td>1</td><td>0</td><td>0</td><td>1</td><td>0</td><td>0</td><td>0</td><td>0</td><td>0</td><td>0</td><td>...</td><td>0</td><td>0</td><td>1</td><td>0</td><td>0</td><td>0</td><td>0</td><td>0</td><td>0</td><td>0</td></tr>\n",
       "</tbody>\n",
       "</table>\n"
      ],
      "text/latex": [
       "A data.frame: 6 x 133\n",
       "\\begin{tabular}{r|lllllllllllllllllllll}\n",
       "  & A*02:01:01 & A*01:01:01 & A*11:01:01 & A*26:01:01 & A*31:01:02 & A*03:01:01 & A*02:05:01 & A*23:01:01 & A*24:02:01 & A*30:01:01 & ... & DRB3*01:01:02 & DRB5*01:01:01 & DRB4*01:03:01 & DRB3*03:01:01 & DRB4*01:01:01 & DRB3*01:62:01 & DRB4*01:03:02 & DRB5*02:02:01 & DRB5*01:02:01 & DRB4*01:03:01:02N\\\\\n",
       "  & <int> & <int> & <int> & <int> & <int> & <int> & <int> & <int> & <int> & <int> & ... & <int> & <int> & <int> & <int> & <int> & <int> & <int> & <int> & <int> & <int>\\\\\n",
       "\\hline\n",
       "\tCHP\\_315 & 1 & 0 & 0 & 0 & 0 & 0 & 1 & 0 & 0 & 0 & ... & 0 & 0 & 0 & 1 & 0 & 0 & 0 & 0 & 0 & 0\\\\\n",
       "\tCHP\\_319 & 0 & 1 & 0 & 0 & 0 & 1 & 0 & 0 & 0 & 0 & ... & 1 & 0 & 0 & 0 & 0 & 0 & 0 & 0 & 0 & 0\\\\\n",
       "\tCHP\\_323 & 0 & 0 & 1 & 0 & 0 & 0 & 0 & 1 & 0 & 0 & ... & 0 & 0 & 1 & 0 & 0 & 0 & 0 & 0 & 0 & 0\\\\\n",
       "\tCHP\\_329 & 0 & 0 & 0 & 2 & 0 & 0 & 0 & 0 & 0 & 0 & ... & 0 & 1 & 0 & 0 & 0 & 0 & 0 & 1 & 0 & 0\\\\\n",
       "\tCHP\\_330 & 1 & 0 & 0 & 0 & 0 & 0 & 0 & 0 & 0 & 0 & ... & 0 & 0 & 1 & 0 & 0 & 0 & 0 & 0 & 0 & 0\\\\\n",
       "\tCHP\\_331 & 1 & 0 & 0 & 1 & 0 & 0 & 0 & 0 & 0 & 0 & ... & 0 & 0 & 1 & 0 & 0 & 0 & 0 & 0 & 0 & 0\\\\\n",
       "\\end{tabular}\n"
      ],
      "text/markdown": [
       "\n",
       "A data.frame: 6 x 133\n",
       "\n",
       "| <!--/--> | A*02:01:01 &lt;int&gt; | A*01:01:01 &lt;int&gt; | A*11:01:01 &lt;int&gt; | A*26:01:01 &lt;int&gt; | A*31:01:02 &lt;int&gt; | A*03:01:01 &lt;int&gt; | A*02:05:01 &lt;int&gt; | A*23:01:01 &lt;int&gt; | A*24:02:01 &lt;int&gt; | A*30:01:01 &lt;int&gt; | ... ... | DRB3*01:01:02 &lt;int&gt; | DRB5*01:01:01 &lt;int&gt; | DRB4*01:03:01 &lt;int&gt; | DRB3*03:01:01 &lt;int&gt; | DRB4*01:01:01 &lt;int&gt; | DRB3*01:62:01 &lt;int&gt; | DRB4*01:03:02 &lt;int&gt; | DRB5*02:02:01 &lt;int&gt; | DRB5*01:02:01 &lt;int&gt; | DRB4*01:03:01:02N &lt;int&gt; |\n",
       "|---|---|---|---|---|---|---|---|---|---|---|---|---|---|---|---|---|---|---|---|---|---|\n",
       "| CHP_315 | 1 | 0 | 0 | 0 | 0 | 0 | 1 | 0 | 0 | 0 | ... | 0 | 0 | 0 | 1 | 0 | 0 | 0 | 0 | 0 | 0 |\n",
       "| CHP_319 | 0 | 1 | 0 | 0 | 0 | 1 | 0 | 0 | 0 | 0 | ... | 1 | 0 | 0 | 0 | 0 | 0 | 0 | 0 | 0 | 0 |\n",
       "| CHP_323 | 0 | 0 | 1 | 0 | 0 | 0 | 0 | 1 | 0 | 0 | ... | 0 | 0 | 1 | 0 | 0 | 0 | 0 | 0 | 0 | 0 |\n",
       "| CHP_329 | 0 | 0 | 0 | 2 | 0 | 0 | 0 | 0 | 0 | 0 | ... | 0 | 1 | 0 | 0 | 0 | 0 | 0 | 1 | 0 | 0 |\n",
       "| CHP_330 | 1 | 0 | 0 | 0 | 0 | 0 | 0 | 0 | 0 | 0 | ... | 0 | 0 | 1 | 0 | 0 | 0 | 0 | 0 | 0 | 0 |\n",
       "| CHP_331 | 1 | 0 | 0 | 1 | 0 | 0 | 0 | 0 | 0 | 0 | ... | 0 | 0 | 1 | 0 | 0 | 0 | 0 | 0 | 0 | 0 |\n",
       "\n"
      ],
      "text/plain": [
       "        A*02:01:01 A*01:01:01 A*11:01:01 A*26:01:01 A*31:01:02 A*03:01:01\n",
       "CHP_315 1          0          0          0          0          0         \n",
       "CHP_319 0          1          0          0          0          1         \n",
       "CHP_323 0          0          1          0          0          0         \n",
       "CHP_329 0          0          0          2          0          0         \n",
       "CHP_330 1          0          0          0          0          0         \n",
       "CHP_331 1          0          0          1          0          0         \n",
       "        A*02:05:01 A*23:01:01 A*24:02:01 A*30:01:01 ... DRB3*01:01:02\n",
       "CHP_315 1          0          0          0          ... 0            \n",
       "CHP_319 0          0          0          0          ... 1            \n",
       "CHP_323 0          1          0          0          ... 0            \n",
       "CHP_329 0          0          0          0          ... 0            \n",
       "CHP_330 0          0          0          0          ... 0            \n",
       "CHP_331 0          0          0          0          ... 0            \n",
       "        DRB5*01:01:01 DRB4*01:03:01 DRB3*03:01:01 DRB4*01:01:01 DRB3*01:62:01\n",
       "CHP_315 0             0             1             0             0            \n",
       "CHP_319 0             0             0             0             0            \n",
       "CHP_323 0             1             0             0             0            \n",
       "CHP_329 1             0             0             0             0            \n",
       "CHP_330 0             1             0             0             0            \n",
       "CHP_331 0             1             0             0             0            \n",
       "        DRB4*01:03:02 DRB5*02:02:01 DRB5*01:02:01 DRB4*01:03:01:02N\n",
       "CHP_315 0             0             0             0                \n",
       "CHP_319 0             0             0             0                \n",
       "CHP_323 0             0             0             0                \n",
       "CHP_329 0             1             0             0                \n",
       "CHP_330 0             0             0             0                \n",
       "CHP_331 0             0             0             0                "
      ]
     },
     "metadata": {},
     "output_type": "display_data"
    }
   ],
   "source": [
    "head(hlas)"
   ]
  },
  {
   "cell_type": "code",
   "execution_count": 15,
   "metadata": {
    "vscode": {
     "languageId": "r"
    }
   },
   "outputs": [],
   "source": [
    "matched_indices <- match(pbmc$Patient, rownames(hlas))\n",
    "pbmc_hla <- cbind(pbmc, hlas[matched_indices, ])"
   ]
  },
  {
   "cell_type": "markdown",
   "metadata": {},
   "source": [
    "Add V PCA"
   ]
  },
  {
   "cell_type": "code",
   "execution_count": 16,
   "metadata": {
    "vscode": {
     "languageId": "r"
    }
   },
   "outputs": [],
   "source": [
    "int_v_fraction <- readr::read_rds(paste0(datapath, \"capTCRseq/int_pbmc_v_fraction.rds\"))"
   ]
  },
  {
   "cell_type": "code",
   "execution_count": 18,
   "metadata": {
    "vscode": {
     "languageId": "r"
    }
   },
   "outputs": [],
   "source": [
    "matched_indices <- match(pbmc_hla$basename, rownames(int_v_fraction))\n",
    "pbmc_hla_v <- cbind(pbmc_hla, int_v_fraction[matched_indices, ])"
   ]
  },
  {
   "cell_type": "code",
   "execution_count": 20,
   "metadata": {
    "vscode": {
     "languageId": "r"
    }
   },
   "outputs": [
    {
     "data": {
      "text/html": [
       "<table class=\"dataframe\">\n",
       "<caption>A data.frame: 6 x 260</caption>\n",
       "<thead>\n",
       "\t<tr><th></th><th scope=col>sample_id</th><th scope=col>Patient</th><th scope=col>cycle</th><th scope=col>FOLD</th><th scope=col>ATC</th><th scope=col>Age</th><th scope=col>Disease_type</th><th scope=col>TE_fold</th><th scope=col>CD3</th><th scope=col>EM</th><th scope=col>...</th><th scope=col>TRBV7-4</th><th scope=col>TRBV1</th><th scope=col>TRBV12-1</th><th scope=col>TRBV6-7</th><th scope=col>TRBV7-1</th><th scope=col>TRBV6-9</th><th scope=col>TRBV5-2</th><th scope=col>TRBV6-8</th><th scope=col>TRBV7-5</th><th scope=col>TRBV26</th></tr>\n",
       "\t<tr><th></th><th scope=col>&lt;chr&gt;</th><th scope=col>&lt;chr&gt;</th><th scope=col>&lt;chr&gt;</th><th scope=col>&lt;dbl&gt;</th><th scope=col>&lt;dbl&gt;</th><th scope=col>&lt;dbl&gt;</th><th scope=col>&lt;chr&gt;</th><th scope=col>&lt;dbl&gt;</th><th scope=col>&lt;int&gt;</th><th scope=col>&lt;int&gt;</th><th scope=col>...</th><th scope=col>&lt;dbl&gt;</th><th scope=col>&lt;dbl&gt;</th><th scope=col>&lt;dbl&gt;</th><th scope=col>&lt;dbl&gt;</th><th scope=col>&lt;dbl&gt;</th><th scope=col>&lt;dbl&gt;</th><th scope=col>&lt;dbl&gt;</th><th scope=col>&lt;dbl&gt;</th><th scope=col>&lt;dbl&gt;</th><th scope=col>&lt;dbl&gt;</th></tr>\n",
       "</thead>\n",
       "<tbody>\n",
       "\t<tr><th scope=row>890</th><td>CHP_436_05</td><td>CHP_436</td><td>X05</td><td>0</td><td>0</td><td>15</td><td>OS</td><td>0</td><td>0</td><td>NA</td><td>...</td><td>NA</td><td>NA</td><td>NA</td><td>NA</td><td>NA</td><td>NA</td><td>NA</td><td>NA</td><td>NA</td><td>NA</td></tr>\n",
       "\t<tr><th scope=row>891</th><td>CHP_437_01</td><td>CHP_437</td><td>X01</td><td>0</td><td>0</td><td> 9</td><td>OS</td><td>0</td><td>0</td><td>NA</td><td>...</td><td>NA</td><td>NA</td><td>NA</td><td>NA</td><td>NA</td><td>NA</td><td>NA</td><td>NA</td><td>NA</td><td>NA</td></tr>\n",
       "\t<tr><th scope=row>892</th><td>CHP_437_02</td><td>CHP_437</td><td>X02</td><td>0</td><td>0</td><td> 9</td><td>OS</td><td>0</td><td>0</td><td>NA</td><td>...</td><td>NA</td><td>NA</td><td>NA</td><td>NA</td><td>NA</td><td>NA</td><td>NA</td><td>NA</td><td>NA</td><td>NA</td></tr>\n",
       "\t<tr><th scope=row>893</th><td>CHP_437_03</td><td>CHP_437</td><td>X03</td><td>0</td><td>0</td><td> 9</td><td>OS</td><td>0</td><td>0</td><td>NA</td><td>...</td><td>NA</td><td>NA</td><td>NA</td><td>NA</td><td>NA</td><td>NA</td><td>NA</td><td>NA</td><td>NA</td><td>NA</td></tr>\n",
       "\t<tr><th scope=row>894</th><td>CHP_437_04</td><td>CHP_437</td><td>X04</td><td>0</td><td>0</td><td> 9</td><td>OS</td><td>0</td><td>0</td><td>NA</td><td>...</td><td>NA</td><td>NA</td><td>NA</td><td>NA</td><td>NA</td><td>NA</td><td>NA</td><td>NA</td><td>NA</td><td>NA</td></tr>\n",
       "\t<tr><th scope=row>895</th><td>CHP_437_05</td><td>CHP_437</td><td>X05</td><td>0</td><td>0</td><td> 9</td><td>OS</td><td>0</td><td>0</td><td>NA</td><td>...</td><td>NA</td><td>NA</td><td>NA</td><td>NA</td><td>NA</td><td>NA</td><td>NA</td><td>NA</td><td>NA</td><td>NA</td></tr>\n",
       "</tbody>\n",
       "</table>\n"
      ],
      "text/latex": [
       "A data.frame: 6 x 260\n",
       "\\begin{tabular}{r|lllllllllllllllllllll}\n",
       "  & sample\\_id & Patient & cycle & FOLD & ATC & Age & Disease\\_type & TE\\_fold & CD3 & EM & ... & TRBV7-4 & TRBV1 & TRBV12-1 & TRBV6-7 & TRBV7-1 & TRBV6-9 & TRBV5-2 & TRBV6-8 & TRBV7-5 & TRBV26\\\\\n",
       "  & <chr> & <chr> & <chr> & <dbl> & <dbl> & <dbl> & <chr> & <dbl> & <int> & <int> & ... & <dbl> & <dbl> & <dbl> & <dbl> & <dbl> & <dbl> & <dbl> & <dbl> & <dbl> & <dbl>\\\\\n",
       "\\hline\n",
       "\t890 & CHP\\_436\\_05 & CHP\\_436 & X05 & 0 & 0 & 15 & OS & 0 & 0 & NA & ... & NA & NA & NA & NA & NA & NA & NA & NA & NA & NA\\\\\n",
       "\t891 & CHP\\_437\\_01 & CHP\\_437 & X01 & 0 & 0 &  9 & OS & 0 & 0 & NA & ... & NA & NA & NA & NA & NA & NA & NA & NA & NA & NA\\\\\n",
       "\t892 & CHP\\_437\\_02 & CHP\\_437 & X02 & 0 & 0 &  9 & OS & 0 & 0 & NA & ... & NA & NA & NA & NA & NA & NA & NA & NA & NA & NA\\\\\n",
       "\t893 & CHP\\_437\\_03 & CHP\\_437 & X03 & 0 & 0 &  9 & OS & 0 & 0 & NA & ... & NA & NA & NA & NA & NA & NA & NA & NA & NA & NA\\\\\n",
       "\t894 & CHP\\_437\\_04 & CHP\\_437 & X04 & 0 & 0 &  9 & OS & 0 & 0 & NA & ... & NA & NA & NA & NA & NA & NA & NA & NA & NA & NA\\\\\n",
       "\t895 & CHP\\_437\\_05 & CHP\\_437 & X05 & 0 & 0 &  9 & OS & 0 & 0 & NA & ... & NA & NA & NA & NA & NA & NA & NA & NA & NA & NA\\\\\n",
       "\\end{tabular}\n"
      ],
      "text/markdown": [
       "\n",
       "A data.frame: 6 x 260\n",
       "\n",
       "| <!--/--> | sample_id &lt;chr&gt; | Patient &lt;chr&gt; | cycle &lt;chr&gt; | FOLD &lt;dbl&gt; | ATC &lt;dbl&gt; | Age &lt;dbl&gt; | Disease_type &lt;chr&gt; | TE_fold &lt;dbl&gt; | CD3 &lt;int&gt; | EM &lt;int&gt; | ... ... | TRBV7-4 &lt;dbl&gt; | TRBV1 &lt;dbl&gt; | TRBV12-1 &lt;dbl&gt; | TRBV6-7 &lt;dbl&gt; | TRBV7-1 &lt;dbl&gt; | TRBV6-9 &lt;dbl&gt; | TRBV5-2 &lt;dbl&gt; | TRBV6-8 &lt;dbl&gt; | TRBV7-5 &lt;dbl&gt; | TRBV26 &lt;dbl&gt; |\n",
       "|---|---|---|---|---|---|---|---|---|---|---|---|---|---|---|---|---|---|---|---|---|---|\n",
       "| 890 | CHP_436_05 | CHP_436 | X05 | 0 | 0 | 15 | OS | 0 | 0 | NA | ... | NA | NA | NA | NA | NA | NA | NA | NA | NA | NA |\n",
       "| 891 | CHP_437_01 | CHP_437 | X01 | 0 | 0 |  9 | OS | 0 | 0 | NA | ... | NA | NA | NA | NA | NA | NA | NA | NA | NA | NA |\n",
       "| 892 | CHP_437_02 | CHP_437 | X02 | 0 | 0 |  9 | OS | 0 | 0 | NA | ... | NA | NA | NA | NA | NA | NA | NA | NA | NA | NA |\n",
       "| 893 | CHP_437_03 | CHP_437 | X03 | 0 | 0 |  9 | OS | 0 | 0 | NA | ... | NA | NA | NA | NA | NA | NA | NA | NA | NA | NA |\n",
       "| 894 | CHP_437_04 | CHP_437 | X04 | 0 | 0 |  9 | OS | 0 | 0 | NA | ... | NA | NA | NA | NA | NA | NA | NA | NA | NA | NA |\n",
       "| 895 | CHP_437_05 | CHP_437 | X05 | 0 | 0 |  9 | OS | 0 | 0 | NA | ... | NA | NA | NA | NA | NA | NA | NA | NA | NA | NA |\n",
       "\n"
      ],
      "text/plain": [
       "    sample_id  Patient cycle FOLD ATC Age Disease_type TE_fold CD3 EM ...\n",
       "890 CHP_436_05 CHP_436 X05   0    0   15  OS           0       0   NA ...\n",
       "891 CHP_437_01 CHP_437 X01   0    0    9  OS           0       0   NA ...\n",
       "892 CHP_437_02 CHP_437 X02   0    0    9  OS           0       0   NA ...\n",
       "893 CHP_437_03 CHP_437 X03   0    0    9  OS           0       0   NA ...\n",
       "894 CHP_437_04 CHP_437 X04   0    0    9  OS           0       0   NA ...\n",
       "895 CHP_437_05 CHP_437 X05   0    0    9  OS           0       0   NA ...\n",
       "    TRBV7-4 TRBV1 TRBV12-1 TRBV6-7 TRBV7-1 TRBV6-9 TRBV5-2 TRBV6-8 TRBV7-5\n",
       "890 NA      NA    NA       NA      NA      NA      NA      NA      NA     \n",
       "891 NA      NA    NA       NA      NA      NA      NA      NA      NA     \n",
       "892 NA      NA    NA       NA      NA      NA      NA      NA      NA     \n",
       "893 NA      NA    NA       NA      NA      NA      NA      NA      NA     \n",
       "894 NA      NA    NA       NA      NA      NA      NA      NA      NA     \n",
       "895 NA      NA    NA       NA      NA      NA      NA      NA      NA     \n",
       "    TRBV26\n",
       "890 NA    \n",
       "891 NA    \n",
       "892 NA    \n",
       "893 NA    \n",
       "894 NA    \n",
       "895 NA    "
      ]
     },
     "metadata": {},
     "output_type": "display_data"
    }
   ],
   "source": [
    "tail(pbmc_hla_v)"
   ]
  },
  {
   "cell_type": "markdown",
   "metadata": {},
   "source": [
    "Add J PCA"
   ]
  },
  {
   "cell_type": "code",
   "execution_count": 21,
   "metadata": {
    "vscode": {
     "languageId": "r"
    }
   },
   "outputs": [],
   "source": [
    "int_j_fraction <- readr::read_rds(paste0(datapath, \"capTCRseq/int_pbmc_j_fraction.rds\"))"
   ]
  },
  {
   "cell_type": "code",
   "execution_count": 22,
   "metadata": {
    "vscode": {
     "languageId": "r"
    }
   },
   "outputs": [
    {
     "data": {
      "text/html": [
       "<table class=\"dataframe\">\n",
       "<caption>A data.frame: 6 x 13</caption>\n",
       "<thead>\n",
       "\t<tr><th></th><th scope=col>TRBJ1-1</th><th scope=col>TRBJ1-2</th><th scope=col>TRBJ1-3</th><th scope=col>TRBJ1-4</th><th scope=col>TRBJ1-5</th><th scope=col>TRBJ1-6</th><th scope=col>TRBJ2-1</th><th scope=col>TRBJ2-2</th><th scope=col>TRBJ2-3</th><th scope=col>TRBJ2-4</th><th scope=col>TRBJ2-5</th><th scope=col>TRBJ2-6</th><th scope=col>TRBJ2-7</th></tr>\n",
       "\t<tr><th></th><th scope=col>&lt;dbl&gt;</th><th scope=col>&lt;dbl&gt;</th><th scope=col>&lt;dbl&gt;</th><th scope=col>&lt;dbl&gt;</th><th scope=col>&lt;dbl&gt;</th><th scope=col>&lt;dbl&gt;</th><th scope=col>&lt;dbl&gt;</th><th scope=col>&lt;dbl&gt;</th><th scope=col>&lt;dbl&gt;</th><th scope=col>&lt;dbl&gt;</th><th scope=col>&lt;dbl&gt;</th><th scope=col>&lt;dbl&gt;</th><th scope=col>&lt;dbl&gt;</th></tr>\n",
       "</thead>\n",
       "<tbody>\n",
       "\t<tr><th scope=row>CHP-328-04-PBMC-DNA</th><td>0.1861765</td><td>0.07902129</td><td>0.06565660</td><td>0.06013210</td><td>0.06621121</td><td>0.03176410</td><td>0.08874139</td><td>0.03124190</td><td>0.07038520</td><td>0.003061166</td><td>0.03277248</td><td>0.007926618</td><td>0.09853712</td></tr>\n",
       "\t<tr><th scope=row>CHP-328-05-PBMC-DNA</th><td>0.1789920</td><td>0.04251350</td><td>0.03256519</td><td>0.05191777</td><td>0.03310924</td><td>0.02479307</td><td>0.10702211</td><td>0.05965103</td><td>0.08417207</td><td>0.022733455</td><td>0.00512960</td><td>0.005362764</td><td>0.07457350</td></tr>\n",
       "\t<tr><th scope=row>CHP-351-03-PBMC-DNA</th><td>0.1620505</td><td>0.06562322</td><td>0.04344432</td><td>0.04518103</td><td>0.04767191</td><td>0.02326236</td><td>0.09768067</td><td>0.05169236</td><td>0.07409965</td><td>0.005794346</td><td>0.04481456</td><td>0.010383085</td><td>0.12019417</td></tr>\n",
       "\t<tr><th scope=row>CHP-369-01-PBMC-DNA</th><td>0.1453204</td><td>0.06334766</td><td>0.05056792</td><td>0.03586377</td><td>0.05612243</td><td>0.02152482</td><td>0.09983030</td><td>0.04777535</td><td>0.07344638</td><td>0.007557634</td><td>0.03312150</td><td>0.004437048</td><td>0.12558224</td></tr>\n",
       "\t<tr><th scope=row>CHP-377-02-PBMC-DNA</th><td>0.2354372</td><td>0.11182621</td><td>0.03935744</td><td>0.06558424</td><td>0.07208917</td><td>0.03378425</td><td>0.07471185</td><td>0.04235972</td><td>0.07686866</td><td>0.003623438</td><td>0.02620954</td><td>0.017720340</td><td>0.04215267</td></tr>\n",
       "\t<tr><th scope=row>CHP-411-02-PBMC-DNA</th><td>0.1800977</td><td>0.10544623</td><td>0.04428257</td><td>0.02874437</td><td>0.05219579</td><td>0.02250157</td><td>0.09490619</td><td>0.03710303</td><td>0.08492951</td><td>0.010972382</td><td>0.04825228</td><td>0.013769521</td><td>0.11570459</td></tr>\n",
       "</tbody>\n",
       "</table>\n"
      ],
      "text/latex": [
       "A data.frame: 6 x 13\n",
       "\\begin{tabular}{r|lllllllllllll}\n",
       "  & TRBJ1-1 & TRBJ1-2 & TRBJ1-3 & TRBJ1-4 & TRBJ1-5 & TRBJ1-6 & TRBJ2-1 & TRBJ2-2 & TRBJ2-3 & TRBJ2-4 & TRBJ2-5 & TRBJ2-6 & TRBJ2-7\\\\\n",
       "  & <dbl> & <dbl> & <dbl> & <dbl> & <dbl> & <dbl> & <dbl> & <dbl> & <dbl> & <dbl> & <dbl> & <dbl> & <dbl>\\\\\n",
       "\\hline\n",
       "\tCHP-328-04-PBMC-DNA & 0.1861765 & 0.07902129 & 0.06565660 & 0.06013210 & 0.06621121 & 0.03176410 & 0.08874139 & 0.03124190 & 0.07038520 & 0.003061166 & 0.03277248 & 0.007926618 & 0.09853712\\\\\n",
       "\tCHP-328-05-PBMC-DNA & 0.1789920 & 0.04251350 & 0.03256519 & 0.05191777 & 0.03310924 & 0.02479307 & 0.10702211 & 0.05965103 & 0.08417207 & 0.022733455 & 0.00512960 & 0.005362764 & 0.07457350\\\\\n",
       "\tCHP-351-03-PBMC-DNA & 0.1620505 & 0.06562322 & 0.04344432 & 0.04518103 & 0.04767191 & 0.02326236 & 0.09768067 & 0.05169236 & 0.07409965 & 0.005794346 & 0.04481456 & 0.010383085 & 0.12019417\\\\\n",
       "\tCHP-369-01-PBMC-DNA & 0.1453204 & 0.06334766 & 0.05056792 & 0.03586377 & 0.05612243 & 0.02152482 & 0.09983030 & 0.04777535 & 0.07344638 & 0.007557634 & 0.03312150 & 0.004437048 & 0.12558224\\\\\n",
       "\tCHP-377-02-PBMC-DNA & 0.2354372 & 0.11182621 & 0.03935744 & 0.06558424 & 0.07208917 & 0.03378425 & 0.07471185 & 0.04235972 & 0.07686866 & 0.003623438 & 0.02620954 & 0.017720340 & 0.04215267\\\\\n",
       "\tCHP-411-02-PBMC-DNA & 0.1800977 & 0.10544623 & 0.04428257 & 0.02874437 & 0.05219579 & 0.02250157 & 0.09490619 & 0.03710303 & 0.08492951 & 0.010972382 & 0.04825228 & 0.013769521 & 0.11570459\\\\\n",
       "\\end{tabular}\n"
      ],
      "text/markdown": [
       "\n",
       "A data.frame: 6 x 13\n",
       "\n",
       "| <!--/--> | TRBJ1-1 &lt;dbl&gt; | TRBJ1-2 &lt;dbl&gt; | TRBJ1-3 &lt;dbl&gt; | TRBJ1-4 &lt;dbl&gt; | TRBJ1-5 &lt;dbl&gt; | TRBJ1-6 &lt;dbl&gt; | TRBJ2-1 &lt;dbl&gt; | TRBJ2-2 &lt;dbl&gt; | TRBJ2-3 &lt;dbl&gt; | TRBJ2-4 &lt;dbl&gt; | TRBJ2-5 &lt;dbl&gt; | TRBJ2-6 &lt;dbl&gt; | TRBJ2-7 &lt;dbl&gt; |\n",
       "|---|---|---|---|---|---|---|---|---|---|---|---|---|---|\n",
       "| CHP-328-04-PBMC-DNA | 0.1861765 | 0.07902129 | 0.06565660 | 0.06013210 | 0.06621121 | 0.03176410 | 0.08874139 | 0.03124190 | 0.07038520 | 0.003061166 | 0.03277248 | 0.007926618 | 0.09853712 |\n",
       "| CHP-328-05-PBMC-DNA | 0.1789920 | 0.04251350 | 0.03256519 | 0.05191777 | 0.03310924 | 0.02479307 | 0.10702211 | 0.05965103 | 0.08417207 | 0.022733455 | 0.00512960 | 0.005362764 | 0.07457350 |\n",
       "| CHP-351-03-PBMC-DNA | 0.1620505 | 0.06562322 | 0.04344432 | 0.04518103 | 0.04767191 | 0.02326236 | 0.09768067 | 0.05169236 | 0.07409965 | 0.005794346 | 0.04481456 | 0.010383085 | 0.12019417 |\n",
       "| CHP-369-01-PBMC-DNA | 0.1453204 | 0.06334766 | 0.05056792 | 0.03586377 | 0.05612243 | 0.02152482 | 0.09983030 | 0.04777535 | 0.07344638 | 0.007557634 | 0.03312150 | 0.004437048 | 0.12558224 |\n",
       "| CHP-377-02-PBMC-DNA | 0.2354372 | 0.11182621 | 0.03935744 | 0.06558424 | 0.07208917 | 0.03378425 | 0.07471185 | 0.04235972 | 0.07686866 | 0.003623438 | 0.02620954 | 0.017720340 | 0.04215267 |\n",
       "| CHP-411-02-PBMC-DNA | 0.1800977 | 0.10544623 | 0.04428257 | 0.02874437 | 0.05219579 | 0.02250157 | 0.09490619 | 0.03710303 | 0.08492951 | 0.010972382 | 0.04825228 | 0.013769521 | 0.11570459 |\n",
       "\n"
      ],
      "text/plain": [
       "                    TRBJ1-1   TRBJ1-2    TRBJ1-3    TRBJ1-4    TRBJ1-5   \n",
       "CHP-328-04-PBMC-DNA 0.1861765 0.07902129 0.06565660 0.06013210 0.06621121\n",
       "CHP-328-05-PBMC-DNA 0.1789920 0.04251350 0.03256519 0.05191777 0.03310924\n",
       "CHP-351-03-PBMC-DNA 0.1620505 0.06562322 0.04344432 0.04518103 0.04767191\n",
       "CHP-369-01-PBMC-DNA 0.1453204 0.06334766 0.05056792 0.03586377 0.05612243\n",
       "CHP-377-02-PBMC-DNA 0.2354372 0.11182621 0.03935744 0.06558424 0.07208917\n",
       "CHP-411-02-PBMC-DNA 0.1800977 0.10544623 0.04428257 0.02874437 0.05219579\n",
       "                    TRBJ1-6    TRBJ2-1    TRBJ2-2    TRBJ2-3    TRBJ2-4    \n",
       "CHP-328-04-PBMC-DNA 0.03176410 0.08874139 0.03124190 0.07038520 0.003061166\n",
       "CHP-328-05-PBMC-DNA 0.02479307 0.10702211 0.05965103 0.08417207 0.022733455\n",
       "CHP-351-03-PBMC-DNA 0.02326236 0.09768067 0.05169236 0.07409965 0.005794346\n",
       "CHP-369-01-PBMC-DNA 0.02152482 0.09983030 0.04777535 0.07344638 0.007557634\n",
       "CHP-377-02-PBMC-DNA 0.03378425 0.07471185 0.04235972 0.07686866 0.003623438\n",
       "CHP-411-02-PBMC-DNA 0.02250157 0.09490619 0.03710303 0.08492951 0.010972382\n",
       "                    TRBJ2-5    TRBJ2-6     TRBJ2-7   \n",
       "CHP-328-04-PBMC-DNA 0.03277248 0.007926618 0.09853712\n",
       "CHP-328-05-PBMC-DNA 0.00512960 0.005362764 0.07457350\n",
       "CHP-351-03-PBMC-DNA 0.04481456 0.010383085 0.12019417\n",
       "CHP-369-01-PBMC-DNA 0.03312150 0.004437048 0.12558224\n",
       "CHP-377-02-PBMC-DNA 0.02620954 0.017720340 0.04215267\n",
       "CHP-411-02-PBMC-DNA 0.04825228 0.013769521 0.11570459"
      ]
     },
     "metadata": {},
     "output_type": "display_data"
    }
   ],
   "source": [
    "head(int_j_fraction)"
   ]
  },
  {
   "cell_type": "code",
   "execution_count": 23,
   "metadata": {
    "vscode": {
     "languageId": "r"
    }
   },
   "outputs": [],
   "source": [
    "matched_indices <- match(pbmc_hla_v$basename, rownames(int_j_fraction))\n",
    "pbmc_hla_v_j <- cbind(pbmc_hla_v, int_j_fraction[matched_indices, ])"
   ]
  },
  {
   "cell_type": "code",
   "execution_count": 25,
   "metadata": {
    "vscode": {
     "languageId": "r"
    }
   },
   "outputs": [
    {
     "data": {
      "text/html": [
       "<table class=\"dataframe\">\n",
       "<caption>A data.frame: 6 x 273</caption>\n",
       "<thead>\n",
       "\t<tr><th></th><th scope=col>sample_id</th><th scope=col>Patient</th><th scope=col>cycle</th><th scope=col>FOLD</th><th scope=col>ATC</th><th scope=col>Age</th><th scope=col>Disease_type</th><th scope=col>TE_fold</th><th scope=col>CD3</th><th scope=col>EM</th><th scope=col>...</th><th scope=col>TRBJ1-4</th><th scope=col>TRBJ1-5</th><th scope=col>TRBJ1-6</th><th scope=col>TRBJ2-1</th><th scope=col>TRBJ2-2</th><th scope=col>TRBJ2-3</th><th scope=col>TRBJ2-4</th><th scope=col>TRBJ2-5</th><th scope=col>TRBJ2-6</th><th scope=col>TRBJ2-7</th></tr>\n",
       "\t<tr><th></th><th scope=col>&lt;chr&gt;</th><th scope=col>&lt;chr&gt;</th><th scope=col>&lt;chr&gt;</th><th scope=col>&lt;dbl&gt;</th><th scope=col>&lt;dbl&gt;</th><th scope=col>&lt;dbl&gt;</th><th scope=col>&lt;chr&gt;</th><th scope=col>&lt;dbl&gt;</th><th scope=col>&lt;int&gt;</th><th scope=col>&lt;int&gt;</th><th scope=col>...</th><th scope=col>&lt;dbl&gt;</th><th scope=col>&lt;dbl&gt;</th><th scope=col>&lt;dbl&gt;</th><th scope=col>&lt;dbl&gt;</th><th scope=col>&lt;dbl&gt;</th><th scope=col>&lt;dbl&gt;</th><th scope=col>&lt;dbl&gt;</th><th scope=col>&lt;dbl&gt;</th><th scope=col>&lt;dbl&gt;</th><th scope=col>&lt;dbl&gt;</th></tr>\n",
       "</thead>\n",
       "<tbody>\n",
       "\t<tr><th scope=row>302</th><td>CHP_319_05</td><td>CHP_319</td><td>X05</td><td>1.2</td><td>  0.00</td><td> 1</td><td>HR ALL</td><td>1.2</td><td>0</td><td>NA</td><td>...</td><td>0.00000000</td><td>0.00000000</td><td>0.10465116</td><td>0.00000000</td><td>0.04651163</td><td>0.15116279</td><td>0.000000000</td><td>0.05813953</td><td>0.000000000</td><td>0.16279070</td></tr>\n",
       "\t<tr><th scope=row>320</th><td>CHP_323_03</td><td>CHP_323</td><td>X03</td><td>0.0</td><td>786.24</td><td> 1</td><td>HR ALL</td><td>0.0</td><td>0</td><td>NA</td><td>...</td><td>0.02447023</td><td>0.04994955</td><td>0.04212916</td><td>0.09006054</td><td>0.03052472</td><td>0.08299697</td><td>0.000000000</td><td>0.01538850</td><td>0.000000000</td><td>0.21720484</td></tr>\n",
       "\t<tr><th scope=row>322</th><td>CHP_323_05</td><td>CHP_323</td><td>X05</td><td>0.0</td><td>979.50</td><td> 1</td><td>HR ALL</td><td>0.0</td><td>0</td><td>NA</td><td>...</td><td>0.05062274</td><td>0.08798714</td><td>0.14624347</td><td>0.06789875</td><td>0.05062274</td><td>0.06468461</td><td>0.006428284</td><td>0.03254319</td><td>0.004419446</td><td>0.09079952</td></tr>\n",
       "\t<tr><th scope=row>327</th><td>CHP_324_05</td><td>CHP_324</td><td>X05</td><td>0.0</td><td>  0.00</td><td>12</td><td>T-ALL </td><td>0.0</td><td>0</td><td>NA</td><td>...</td><td>0.08335146</td><td>0.05822221</td><td>0.02377407</td><td>0.11631059</td><td>0.05969450</td><td>0.04083920</td><td>0.003479948</td><td>0.04376704</td><td>0.009921199</td><td>0.09195095</td></tr>\n",
       "\t<tr><th scope=row>346</th><td>CHP_328_04</td><td>CHP_328</td><td>X04</td><td>0.0</td><td>130.82</td><td> 7</td><td>SR ALL</td><td>0.0</td><td>0</td><td>NA</td><td>...</td><td>0.06013210</td><td>0.06621121</td><td>0.03176410</td><td>0.08874139</td><td>0.03124190</td><td>0.07038520</td><td>0.003061166</td><td>0.03277248</td><td>0.007926618</td><td>0.09853712</td></tr>\n",
       "\t<tr><th scope=row>347</th><td>CHP_328_05</td><td>CHP_328</td><td>X05</td><td>0.0</td><td> 91.16</td><td> 7</td><td>SR ALL</td><td>0.0</td><td>0</td><td>NA</td><td>...</td><td>0.05191777</td><td>0.03310924</td><td>0.02479307</td><td>0.10702211</td><td>0.05965103</td><td>0.08417207</td><td>0.022733455</td><td>0.00512960</td><td>0.005362764</td><td>0.07457350</td></tr>\n",
       "</tbody>\n",
       "</table>\n"
      ],
      "text/latex": [
       "A data.frame: 6 x 273\n",
       "\\begin{tabular}{r|lllllllllllllllllllll}\n",
       "  & sample\\_id & Patient & cycle & FOLD & ATC & Age & Disease\\_type & TE\\_fold & CD3 & EM & ... & TRBJ1-4 & TRBJ1-5 & TRBJ1-6 & TRBJ2-1 & TRBJ2-2 & TRBJ2-3 & TRBJ2-4 & TRBJ2-5 & TRBJ2-6 & TRBJ2-7\\\\\n",
       "  & <chr> & <chr> & <chr> & <dbl> & <dbl> & <dbl> & <chr> & <dbl> & <int> & <int> & ... & <dbl> & <dbl> & <dbl> & <dbl> & <dbl> & <dbl> & <dbl> & <dbl> & <dbl> & <dbl>\\\\\n",
       "\\hline\n",
       "\t302 & CHP\\_319\\_05 & CHP\\_319 & X05 & 1.2 &   0.00 &  1 & HR ALL & 1.2 & 0 & NA & ... & 0.00000000 & 0.00000000 & 0.10465116 & 0.00000000 & 0.04651163 & 0.15116279 & 0.000000000 & 0.05813953 & 0.000000000 & 0.16279070\\\\\n",
       "\t320 & CHP\\_323\\_03 & CHP\\_323 & X03 & 0.0 & 786.24 &  1 & HR ALL & 0.0 & 0 & NA & ... & 0.02447023 & 0.04994955 & 0.04212916 & 0.09006054 & 0.03052472 & 0.08299697 & 0.000000000 & 0.01538850 & 0.000000000 & 0.21720484\\\\\n",
       "\t322 & CHP\\_323\\_05 & CHP\\_323 & X05 & 0.0 & 979.50 &  1 & HR ALL & 0.0 & 0 & NA & ... & 0.05062274 & 0.08798714 & 0.14624347 & 0.06789875 & 0.05062274 & 0.06468461 & 0.006428284 & 0.03254319 & 0.004419446 & 0.09079952\\\\\n",
       "\t327 & CHP\\_324\\_05 & CHP\\_324 & X05 & 0.0 &   0.00 & 12 & T-ALL  & 0.0 & 0 & NA & ... & 0.08335146 & 0.05822221 & 0.02377407 & 0.11631059 & 0.05969450 & 0.04083920 & 0.003479948 & 0.04376704 & 0.009921199 & 0.09195095\\\\\n",
       "\t346 & CHP\\_328\\_04 & CHP\\_328 & X04 & 0.0 & 130.82 &  7 & SR ALL & 0.0 & 0 & NA & ... & 0.06013210 & 0.06621121 & 0.03176410 & 0.08874139 & 0.03124190 & 0.07038520 & 0.003061166 & 0.03277248 & 0.007926618 & 0.09853712\\\\\n",
       "\t347 & CHP\\_328\\_05 & CHP\\_328 & X05 & 0.0 &  91.16 &  7 & SR ALL & 0.0 & 0 & NA & ... & 0.05191777 & 0.03310924 & 0.02479307 & 0.10702211 & 0.05965103 & 0.08417207 & 0.022733455 & 0.00512960 & 0.005362764 & 0.07457350\\\\\n",
       "\\end{tabular}\n"
      ],
      "text/markdown": [
       "\n",
       "A data.frame: 6 x 273\n",
       "\n",
       "| <!--/--> | sample_id &lt;chr&gt; | Patient &lt;chr&gt; | cycle &lt;chr&gt; | FOLD &lt;dbl&gt; | ATC &lt;dbl&gt; | Age &lt;dbl&gt; | Disease_type &lt;chr&gt; | TE_fold &lt;dbl&gt; | CD3 &lt;int&gt; | EM &lt;int&gt; | ... ... | TRBJ1-4 &lt;dbl&gt; | TRBJ1-5 &lt;dbl&gt; | TRBJ1-6 &lt;dbl&gt; | TRBJ2-1 &lt;dbl&gt; | TRBJ2-2 &lt;dbl&gt; | TRBJ2-3 &lt;dbl&gt; | TRBJ2-4 &lt;dbl&gt; | TRBJ2-5 &lt;dbl&gt; | TRBJ2-6 &lt;dbl&gt; | TRBJ2-7 &lt;dbl&gt; |\n",
       "|---|---|---|---|---|---|---|---|---|---|---|---|---|---|---|---|---|---|---|---|---|---|\n",
       "| 302 | CHP_319_05 | CHP_319 | X05 | 1.2 |   0.00 |  1 | HR ALL | 1.2 | 0 | NA | ... | 0.00000000 | 0.00000000 | 0.10465116 | 0.00000000 | 0.04651163 | 0.15116279 | 0.000000000 | 0.05813953 | 0.000000000 | 0.16279070 |\n",
       "| 320 | CHP_323_03 | CHP_323 | X03 | 0.0 | 786.24 |  1 | HR ALL | 0.0 | 0 | NA | ... | 0.02447023 | 0.04994955 | 0.04212916 | 0.09006054 | 0.03052472 | 0.08299697 | 0.000000000 | 0.01538850 | 0.000000000 | 0.21720484 |\n",
       "| 322 | CHP_323_05 | CHP_323 | X05 | 0.0 | 979.50 |  1 | HR ALL | 0.0 | 0 | NA | ... | 0.05062274 | 0.08798714 | 0.14624347 | 0.06789875 | 0.05062274 | 0.06468461 | 0.006428284 | 0.03254319 | 0.004419446 | 0.09079952 |\n",
       "| 327 | CHP_324_05 | CHP_324 | X05 | 0.0 |   0.00 | 12 | T-ALL  | 0.0 | 0 | NA | ... | 0.08335146 | 0.05822221 | 0.02377407 | 0.11631059 | 0.05969450 | 0.04083920 | 0.003479948 | 0.04376704 | 0.009921199 | 0.09195095 |\n",
       "| 346 | CHP_328_04 | CHP_328 | X04 | 0.0 | 130.82 |  7 | SR ALL | 0.0 | 0 | NA | ... | 0.06013210 | 0.06621121 | 0.03176410 | 0.08874139 | 0.03124190 | 0.07038520 | 0.003061166 | 0.03277248 | 0.007926618 | 0.09853712 |\n",
       "| 347 | CHP_328_05 | CHP_328 | X05 | 0.0 |  91.16 |  7 | SR ALL | 0.0 | 0 | NA | ... | 0.05191777 | 0.03310924 | 0.02479307 | 0.10702211 | 0.05965103 | 0.08417207 | 0.022733455 | 0.00512960 | 0.005362764 | 0.07457350 |\n",
       "\n"
      ],
      "text/plain": [
       "    sample_id  Patient cycle FOLD ATC    Age Disease_type TE_fold CD3 EM ...\n",
       "302 CHP_319_05 CHP_319 X05   1.2    0.00  1  HR ALL       1.2     0   NA ...\n",
       "320 CHP_323_03 CHP_323 X03   0.0  786.24  1  HR ALL       0.0     0   NA ...\n",
       "322 CHP_323_05 CHP_323 X05   0.0  979.50  1  HR ALL       0.0     0   NA ...\n",
       "327 CHP_324_05 CHP_324 X05   0.0    0.00 12  T-ALL        0.0     0   NA ...\n",
       "346 CHP_328_04 CHP_328 X04   0.0  130.82  7  SR ALL       0.0     0   NA ...\n",
       "347 CHP_328_05 CHP_328 X05   0.0   91.16  7  SR ALL       0.0     0   NA ...\n",
       "    TRBJ1-4    TRBJ1-5    TRBJ1-6    TRBJ2-1    TRBJ2-2    TRBJ2-3   \n",
       "302 0.00000000 0.00000000 0.10465116 0.00000000 0.04651163 0.15116279\n",
       "320 0.02447023 0.04994955 0.04212916 0.09006054 0.03052472 0.08299697\n",
       "322 0.05062274 0.08798714 0.14624347 0.06789875 0.05062274 0.06468461\n",
       "327 0.08335146 0.05822221 0.02377407 0.11631059 0.05969450 0.04083920\n",
       "346 0.06013210 0.06621121 0.03176410 0.08874139 0.03124190 0.07038520\n",
       "347 0.05191777 0.03310924 0.02479307 0.10702211 0.05965103 0.08417207\n",
       "    TRBJ2-4     TRBJ2-5    TRBJ2-6     TRBJ2-7   \n",
       "302 0.000000000 0.05813953 0.000000000 0.16279070\n",
       "320 0.000000000 0.01538850 0.000000000 0.21720484\n",
       "322 0.006428284 0.03254319 0.004419446 0.09079952\n",
       "327 0.003479948 0.04376704 0.009921199 0.09195095\n",
       "346 0.003061166 0.03277248 0.007926618 0.09853712\n",
       "347 0.022733455 0.00512960 0.005362764 0.07457350"
      ]
     },
     "metadata": {},
     "output_type": "display_data"
    }
   ],
   "source": [
    "head(pbmc_hla_v_j)"
   ]
  },
  {
   "cell_type": "markdown",
   "metadata": {},
   "source": [
    "Add GLIPH metrics"
   ]
  },
  {
   "cell_type": "code",
   "execution_count": 26,
   "metadata": {
    "vscode": {
     "languageId": "r"
    }
   },
   "outputs": [
    {
     "name": "stderr",
     "output_type": "stream",
     "text": [
      "\u001b[1mRows: \u001b[22m\u001b[34m98847\u001b[39m \u001b[1mColumns: \u001b[22m\u001b[34m29\u001b[39m\n",
      "\u001b[36m──\u001b[39m \u001b[1mColumn specification\u001b[22m \u001b[36m────────────────────────────────────────────────────────\u001b[39m\n",
      "\u001b[1mDelimiter:\u001b[22m \",\"\n",
      "\u001b[31mchr\u001b[39m (17): pattern, type, TcRb, V, J, Sample, HLA-A, HLA-B, HLA-C, HLA-DPA1, ...\n",
      "\u001b[32mdbl\u001b[39m (11): index, Fisher_score, number_subject, number_unique_cdr3, final_sco...\n",
      "\u001b[33mlgl\u001b[39m  (1): TcRa\n",
      "\n",
      "\u001b[36mℹ\u001b[39m Use `spec()` to retrieve the full column specification for this data.\n",
      "\u001b[36mℹ\u001b[39m Specify the column types or set `show_col_types = FALSE` to quiet this message.\n"
     ]
    }
   ],
   "source": [
    "gliph_out <- readr::read_csv(paste0(h4hpath, \"analysis/GLIPH/run_gliph/v5/gliph_output/int_vdj_v5_cluster.csv\"), col_names = T) #  gliph reference dataset  is MItechel"
   ]
  },
  {
   "cell_type": "code",
   "execution_count": 27,
   "metadata": {
    "vscode": {
     "languageId": "r"
    }
   },
   "outputs": [],
   "source": [
    "# remove columns starting with HLA\n",
    "gliph_out <- gliph_out[,!grepl(\"HLA\", colnames(gliph_out))]"
   ]
  },
  {
   "cell_type": "code",
   "execution_count": 28,
   "metadata": {
    "vscode": {
     "languageId": "r"
    }
   },
   "outputs": [
    {
     "data": {
      "text/html": [
       "<table class=\"dataframe\">\n",
       "<caption>A tibble: 6 x 18</caption>\n",
       "<thead>\n",
       "\t<tr><th scope=col>index</th><th scope=col>pattern</th><th scope=col>Fisher_score</th><th scope=col>number_subject</th><th scope=col>number_unique_cdr3</th><th scope=col>final_score</th><th scope=col>hla_score</th><th scope=col>vb_score</th><th scope=col>expansion_score</th><th scope=col>length_score</th><th scope=col>cluster_size_score</th><th scope=col>type</th><th scope=col>TcRb</th><th scope=col>V</th><th scope=col>J</th><th scope=col>TcRa</th><th scope=col>Sample</th><th scope=col>Freq</th></tr>\n",
       "\t<tr><th scope=col>&lt;dbl&gt;</th><th scope=col>&lt;chr&gt;</th><th scope=col>&lt;dbl&gt;</th><th scope=col>&lt;dbl&gt;</th><th scope=col>&lt;dbl&gt;</th><th scope=col>&lt;dbl&gt;</th><th scope=col>&lt;dbl&gt;</th><th scope=col>&lt;dbl&gt;</th><th scope=col>&lt;dbl&gt;</th><th scope=col>&lt;dbl&gt;</th><th scope=col>&lt;dbl&gt;</th><th scope=col>&lt;chr&gt;</th><th scope=col>&lt;chr&gt;</th><th scope=col>&lt;chr&gt;</th><th scope=col>&lt;chr&gt;</th><th scope=col>&lt;lgl&gt;</th><th scope=col>&lt;chr&gt;</th><th scope=col>&lt;dbl&gt;</th></tr>\n",
       "</thead>\n",
       "<tbody>\n",
       "\t<tr><td>59927</td><td>single</td><td>1</td><td>1</td><td>1</td><td>2.8e-07</td><td>1</td><td>0.001</td><td>0.29</td><td>0.001</td><td>0.95</td><td>global-SPRGTSGGAGDNE</td><td>CASSPRGTSGGAGDNEQFF</td><td>TRBV7-2</td><td>TRBJ2-1</td><td>NA</td><td>Leukemia:CHP_392_X04-PBMC   </td><td>123</td></tr>\n",
       "\t<tr><td>59927</td><td>single</td><td>1</td><td>1</td><td>1</td><td>2.8e-07</td><td>1</td><td>0.001</td><td>0.29</td><td>0.001</td><td>0.95</td><td>global-SPRGTSGGAGDNE</td><td>CASSPRGTSGGAGDNEQFF</td><td>TRBV7-2</td><td>TRBJ2-1</td><td>NA</td><td>Leukemia:CHP_392_X04-PBMC   </td><td>  8</td></tr>\n",
       "\t<tr><td>59972</td><td>single</td><td>1</td><td>1</td><td>1</td><td>7.8e-07</td><td>1</td><td>0.001</td><td>0.82</td><td>0.001</td><td>0.95</td><td>global-SIPPTGVG     </td><td>CASSIPPTGVGYTF     </td><td>TRBV28 </td><td>TRBJ1-2</td><td>NA</td><td>Solidtumors:CHP_364_X01-PBMC</td><td>  7</td></tr>\n",
       "\t<tr><td>59972</td><td>single</td><td>1</td><td>1</td><td>1</td><td>7.8e-07</td><td>1</td><td>0.001</td><td>0.82</td><td>0.001</td><td>0.95</td><td>global-SIPPTGVG     </td><td>CASSIPPTGVGYTF     </td><td>TRBV28 </td><td>TRBJ1-2</td><td>NA</td><td>Solidtumors:CHP_364_X01-PBMC</td><td>  1</td></tr>\n",
       "\t<tr><td>60011</td><td>single</td><td>1</td><td>1</td><td>1</td><td>1.6e-07</td><td>1</td><td>0.001</td><td>0.17</td><td>0.001</td><td>0.95</td><td>global-SQDQISGNT    </td><td>CASSQDQISGNTIYF    </td><td>TRBV3-1</td><td>TRBJ1-3</td><td>NA</td><td>Leukemia:CHP_396_X04-PBMC   </td><td>222</td></tr>\n",
       "\t<tr><td>60011</td><td>single</td><td>1</td><td>1</td><td>1</td><td>1.6e-07</td><td>1</td><td>0.001</td><td>0.17</td><td>0.001</td><td>0.95</td><td>global-SQDQISGNT    </td><td>CASSQDQISGNTIYF    </td><td>TRBV3-1</td><td>TRBJ1-3</td><td>NA</td><td>Leukemia:CHP_396_X04-PBMC   </td><td> 30</td></tr>\n",
       "</tbody>\n",
       "</table>\n"
      ],
      "text/latex": [
       "A tibble: 6 x 18\n",
       "\\begin{tabular}{llllllllllllllllll}\n",
       " index & pattern & Fisher\\_score & number\\_subject & number\\_unique\\_cdr3 & final\\_score & hla\\_score & vb\\_score & expansion\\_score & length\\_score & cluster\\_size\\_score & type & TcRb & V & J & TcRa & Sample & Freq\\\\\n",
       " <dbl> & <chr> & <dbl> & <dbl> & <dbl> & <dbl> & <dbl> & <dbl> & <dbl> & <dbl> & <dbl> & <chr> & <chr> & <chr> & <chr> & <lgl> & <chr> & <dbl>\\\\\n",
       "\\hline\n",
       "\t 59927 & single & 1 & 1 & 1 & 2.8e-07 & 1 & 0.001 & 0.29 & 0.001 & 0.95 & global-SPRGTSGGAGDNE & CASSPRGTSGGAGDNEQFF & TRBV7-2 & TRBJ2-1 & NA & Leukemia:CHP\\_392\\_X04-PBMC    & 123\\\\\n",
       "\t 59927 & single & 1 & 1 & 1 & 2.8e-07 & 1 & 0.001 & 0.29 & 0.001 & 0.95 & global-SPRGTSGGAGDNE & CASSPRGTSGGAGDNEQFF & TRBV7-2 & TRBJ2-1 & NA & Leukemia:CHP\\_392\\_X04-PBMC    &   8\\\\\n",
       "\t 59972 & single & 1 & 1 & 1 & 7.8e-07 & 1 & 0.001 & 0.82 & 0.001 & 0.95 & global-SIPPTGVG      & CASSIPPTGVGYTF      & TRBV28  & TRBJ1-2 & NA & Solidtumors:CHP\\_364\\_X01-PBMC &   7\\\\\n",
       "\t 59972 & single & 1 & 1 & 1 & 7.8e-07 & 1 & 0.001 & 0.82 & 0.001 & 0.95 & global-SIPPTGVG      & CASSIPPTGVGYTF      & TRBV28  & TRBJ1-2 & NA & Solidtumors:CHP\\_364\\_X01-PBMC &   1\\\\\n",
       "\t 60011 & single & 1 & 1 & 1 & 1.6e-07 & 1 & 0.001 & 0.17 & 0.001 & 0.95 & global-SQDQISGNT     & CASSQDQISGNTIYF     & TRBV3-1 & TRBJ1-3 & NA & Leukemia:CHP\\_396\\_X04-PBMC    & 222\\\\\n",
       "\t 60011 & single & 1 & 1 & 1 & 1.6e-07 & 1 & 0.001 & 0.17 & 0.001 & 0.95 & global-SQDQISGNT     & CASSQDQISGNTIYF     & TRBV3-1 & TRBJ1-3 & NA & Leukemia:CHP\\_396\\_X04-PBMC    &  30\\\\\n",
       "\\end{tabular}\n"
      ],
      "text/markdown": [
       "\n",
       "A tibble: 6 x 18\n",
       "\n",
       "| index &lt;dbl&gt; | pattern &lt;chr&gt; | Fisher_score &lt;dbl&gt; | number_subject &lt;dbl&gt; | number_unique_cdr3 &lt;dbl&gt; | final_score &lt;dbl&gt; | hla_score &lt;dbl&gt; | vb_score &lt;dbl&gt; | expansion_score &lt;dbl&gt; | length_score &lt;dbl&gt; | cluster_size_score &lt;dbl&gt; | type &lt;chr&gt; | TcRb &lt;chr&gt; | V &lt;chr&gt; | J &lt;chr&gt; | TcRa &lt;lgl&gt; | Sample &lt;chr&gt; | Freq &lt;dbl&gt; |\n",
       "|---|---|---|---|---|---|---|---|---|---|---|---|---|---|---|---|---|---|\n",
       "| 59927 | single | 1 | 1 | 1 | 2.8e-07 | 1 | 0.001 | 0.29 | 0.001 | 0.95 | global-SPRGTSGGAGDNE | CASSPRGTSGGAGDNEQFF | TRBV7-2 | TRBJ2-1 | NA | Leukemia:CHP_392_X04-PBMC    | 123 |\n",
       "| 59927 | single | 1 | 1 | 1 | 2.8e-07 | 1 | 0.001 | 0.29 | 0.001 | 0.95 | global-SPRGTSGGAGDNE | CASSPRGTSGGAGDNEQFF | TRBV7-2 | TRBJ2-1 | NA | Leukemia:CHP_392_X04-PBMC    |   8 |\n",
       "| 59972 | single | 1 | 1 | 1 | 7.8e-07 | 1 | 0.001 | 0.82 | 0.001 | 0.95 | global-SIPPTGVG      | CASSIPPTGVGYTF      | TRBV28  | TRBJ1-2 | NA | Solidtumors:CHP_364_X01-PBMC |   7 |\n",
       "| 59972 | single | 1 | 1 | 1 | 7.8e-07 | 1 | 0.001 | 0.82 | 0.001 | 0.95 | global-SIPPTGVG      | CASSIPPTGVGYTF      | TRBV28  | TRBJ1-2 | NA | Solidtumors:CHP_364_X01-PBMC |   1 |\n",
       "| 60011 | single | 1 | 1 | 1 | 1.6e-07 | 1 | 0.001 | 0.17 | 0.001 | 0.95 | global-SQDQISGNT     | CASSQDQISGNTIYF     | TRBV3-1 | TRBJ1-3 | NA | Leukemia:CHP_396_X04-PBMC    | 222 |\n",
       "| 60011 | single | 1 | 1 | 1 | 1.6e-07 | 1 | 0.001 | 0.17 | 0.001 | 0.95 | global-SQDQISGNT     | CASSQDQISGNTIYF     | TRBV3-1 | TRBJ1-3 | NA | Leukemia:CHP_396_X04-PBMC    |  30 |\n",
       "\n"
      ],
      "text/plain": [
       "  index pattern Fisher_score number_subject number_unique_cdr3 final_score\n",
       "1 59927 single  1            1              1                  2.8e-07    \n",
       "2 59927 single  1            1              1                  2.8e-07    \n",
       "3 59972 single  1            1              1                  7.8e-07    \n",
       "4 59972 single  1            1              1                  7.8e-07    \n",
       "5 60011 single  1            1              1                  1.6e-07    \n",
       "6 60011 single  1            1              1                  1.6e-07    \n",
       "  hla_score vb_score expansion_score length_score cluster_size_score\n",
       "1 1         0.001    0.29            0.001        0.95              \n",
       "2 1         0.001    0.29            0.001        0.95              \n",
       "3 1         0.001    0.82            0.001        0.95              \n",
       "4 1         0.001    0.82            0.001        0.95              \n",
       "5 1         0.001    0.17            0.001        0.95              \n",
       "6 1         0.001    0.17            0.001        0.95              \n",
       "  type                 TcRb                V       J       TcRa\n",
       "1 global-SPRGTSGGAGDNE CASSPRGTSGGAGDNEQFF TRBV7-2 TRBJ2-1 NA  \n",
       "2 global-SPRGTSGGAGDNE CASSPRGTSGGAGDNEQFF TRBV7-2 TRBJ2-1 NA  \n",
       "3 global-SIPPTGVG      CASSIPPTGVGYTF      TRBV28  TRBJ1-2 NA  \n",
       "4 global-SIPPTGVG      CASSIPPTGVGYTF      TRBV28  TRBJ1-2 NA  \n",
       "5 global-SQDQISGNT     CASSQDQISGNTIYF     TRBV3-1 TRBJ1-3 NA  \n",
       "6 global-SQDQISGNT     CASSQDQISGNTIYF     TRBV3-1 TRBJ1-3 NA  \n",
       "  Sample                       Freq\n",
       "1 Leukemia:CHP_392_X04-PBMC    123 \n",
       "2 Leukemia:CHP_392_X04-PBMC      8 \n",
       "3 Solidtumors:CHP_364_X01-PBMC   7 \n",
       "4 Solidtumors:CHP_364_X01-PBMC   1 \n",
       "5 Leukemia:CHP_396_X04-PBMC    222 \n",
       "6 Leukemia:CHP_396_X04-PBMC     30 "
      ]
     },
     "metadata": {},
     "output_type": "display_data"
    }
   ],
   "source": [
    "tail(gliph_out)"
   ]
  },
  {
   "cell_type": "code",
   "execution_count": 29,
   "metadata": {
    "vscode": {
     "languageId": "r"
    }
   },
   "outputs": [
    {
     "data": {
      "text/html": [
       "<style>\n",
       ".list-inline {list-style: none; margin:0; padding: 0}\n",
       ".list-inline>li {display: inline-block}\n",
       ".list-inline>li:not(:last-child)::after {content: \"\\00b7\"; padding: 0 .5ex}\n",
       "</style>\n",
       "<ol class=list-inline><li>98847</li><li>18</li></ol>\n"
      ],
      "text/latex": [
       "\\begin{enumerate*}\n",
       "\\item 98847\n",
       "\\item 18\n",
       "\\end{enumerate*}\n"
      ],
      "text/markdown": [
       "1. 98847\n",
       "2. 18\n",
       "\n",
       "\n"
      ],
      "text/plain": [
       "[1] 98847    18"
      ]
     },
     "metadata": {},
     "output_type": "display_data"
    }
   ],
   "source": [
    "dim(gliph_out)"
   ]
  },
  {
   "cell_type": "code",
   "execution_count": 30,
   "metadata": {
    "vscode": {
     "languageId": "r"
    }
   },
   "outputs": [],
   "source": [
    "gliph_out <- gliph_out[gliph_out$pattern != \"single\",]\n",
    "gliph_out <- gliph_out[gliph_out$number_unique_cdr3 >= 3,]"
   ]
  },
  {
   "cell_type": "code",
   "execution_count": 31,
   "metadata": {
    "vscode": {
     "languageId": "r"
    }
   },
   "outputs": [
    {
     "data": {
      "text/html": [
       "<style>\n",
       ".list-inline {list-style: none; margin:0; padding: 0}\n",
       ".list-inline>li {display: inline-block}\n",
       ".list-inline>li:not(:last-child)::after {content: \"\\00b7\"; padding: 0 .5ex}\n",
       "</style>\n",
       "<ol class=list-inline><li>65202</li><li>18</li></ol>\n"
      ],
      "text/latex": [
       "\\begin{enumerate*}\n",
       "\\item 65202\n",
       "\\item 18\n",
       "\\end{enumerate*}\n"
      ],
      "text/markdown": [
       "1. 65202\n",
       "2. 18\n",
       "\n",
       "\n"
      ],
      "text/plain": [
       "[1] 65202    18"
      ]
     },
     "metadata": {},
     "output_type": "display_data"
    }
   ],
   "source": [
    "dim(gliph_out)"
   ]
  },
  {
   "cell_type": "code",
   "execution_count": 32,
   "metadata": {
    "vscode": {
     "languageId": "r"
    }
   },
   "outputs": [],
   "source": [
    "gliph_out <- gliph_out[ grepl(\"CHP\", gliph_out$Sample),]\n",
    "gliph_out <- gliph_out[ grepl(\"PBMC\", gliph_out$Sample),]"
   ]
  },
  {
   "cell_type": "code",
   "execution_count": 33,
   "metadata": {
    "vscode": {
     "languageId": "r"
    }
   },
   "outputs": [
    {
     "data": {
      "text/html": [
       "<style>\n",
       ".list-inline {list-style: none; margin:0; padding: 0}\n",
       ".list-inline>li {display: inline-block}\n",
       ".list-inline>li:not(:last-child)::after {content: \"\\00b7\"; padding: 0 .5ex}\n",
       "</style>\n",
       "<ol class=list-inline><li>23131</li><li>18</li></ol>\n"
      ],
      "text/latex": [
       "\\begin{enumerate*}\n",
       "\\item 23131\n",
       "\\item 18\n",
       "\\end{enumerate*}\n"
      ],
      "text/markdown": [
       "1. 23131\n",
       "2. 18\n",
       "\n",
       "\n"
      ],
      "text/plain": [
       "[1] 23131    18"
      ]
     },
     "metadata": {},
     "output_type": "display_data"
    }
   ],
   "source": [
    "dim(gliph_out)"
   ]
  },
  {
   "cell_type": "code",
   "execution_count": 34,
   "metadata": {
    "vscode": {
     "languageId": "r"
    }
   },
   "outputs": [],
   "source": [
    "gliph_chp_pbmc <- gliph_out %>% group_by(Sample, pattern) %>% mutate(cloneCount = sum(Freq)) %>% ungroup() # sum of clonecoutns per pattern per sample"
   ]
  },
  {
   "cell_type": "code",
   "execution_count": 35,
   "metadata": {
    "vscode": {
     "languageId": "r"
    }
   },
   "outputs": [],
   "source": [
    "gliph_sample_clonecount <- gliph_chp_pbmc[, c(\"pattern\", \"Sample\", \"cloneCount\")]"
   ]
  },
  {
   "cell_type": "code",
   "execution_count": 36,
   "metadata": {
    "vscode": {
     "languageId": "r"
    }
   },
   "outputs": [
    {
     "data": {
      "text/html": [
       "<table class=\"dataframe\">\n",
       "<caption>A tibble: 6 x 3</caption>\n",
       "<thead>\n",
       "\t<tr><th scope=col>pattern</th><th scope=col>Sample</th><th scope=col>cloneCount</th></tr>\n",
       "\t<tr><th scope=col>&lt;chr&gt;</th><th scope=col>&lt;chr&gt;</th><th scope=col>&lt;dbl&gt;</th></tr>\n",
       "</thead>\n",
       "<tbody>\n",
       "\t<tr><td>SLG%E</td><td>Leukemia:CHP_359_X03-PBMC   </td><td> 24</td></tr>\n",
       "\t<tr><td>SLG%E</td><td>Lymphoma:CHP_371_X01-PBMC   </td><td>  8</td></tr>\n",
       "\t<tr><td>SLG%E</td><td>Leukemia:CHP_360_X05-PBMC   </td><td> 10</td></tr>\n",
       "\t<tr><td>SLG%E</td><td>Solidtumors:CHP_363_X01-PBMC</td><td> 41</td></tr>\n",
       "\t<tr><td>SLG%E</td><td>Leukemia:CHP_328_X05-PBMC   </td><td>212</td></tr>\n",
       "\t<tr><td>SLG%E</td><td>Leukemia:CHP_328_X05-PBMC   </td><td>212</td></tr>\n",
       "</tbody>\n",
       "</table>\n"
      ],
      "text/latex": [
       "A tibble: 6 x 3\n",
       "\\begin{tabular}{lll}\n",
       " pattern & Sample & cloneCount\\\\\n",
       " <chr> & <chr> & <dbl>\\\\\n",
       "\\hline\n",
       "\t SLG\\%E & Leukemia:CHP\\_359\\_X03-PBMC    &  24\\\\\n",
       "\t SLG\\%E & Lymphoma:CHP\\_371\\_X01-PBMC    &   8\\\\\n",
       "\t SLG\\%E & Leukemia:CHP\\_360\\_X05-PBMC    &  10\\\\\n",
       "\t SLG\\%E & Solidtumors:CHP\\_363\\_X01-PBMC &  41\\\\\n",
       "\t SLG\\%E & Leukemia:CHP\\_328\\_X05-PBMC    & 212\\\\\n",
       "\t SLG\\%E & Leukemia:CHP\\_328\\_X05-PBMC    & 212\\\\\n",
       "\\end{tabular}\n"
      ],
      "text/markdown": [
       "\n",
       "A tibble: 6 x 3\n",
       "\n",
       "| pattern &lt;chr&gt; | Sample &lt;chr&gt; | cloneCount &lt;dbl&gt; |\n",
       "|---|---|---|\n",
       "| SLG%E | Leukemia:CHP_359_X03-PBMC    |  24 |\n",
       "| SLG%E | Lymphoma:CHP_371_X01-PBMC    |   8 |\n",
       "| SLG%E | Leukemia:CHP_360_X05-PBMC    |  10 |\n",
       "| SLG%E | Solidtumors:CHP_363_X01-PBMC |  41 |\n",
       "| SLG%E | Leukemia:CHP_328_X05-PBMC    | 212 |\n",
       "| SLG%E | Leukemia:CHP_328_X05-PBMC    | 212 |\n",
       "\n"
      ],
      "text/plain": [
       "  pattern Sample                       cloneCount\n",
       "1 SLG%E   Leukemia:CHP_359_X03-PBMC     24       \n",
       "2 SLG%E   Lymphoma:CHP_371_X01-PBMC      8       \n",
       "3 SLG%E   Leukemia:CHP_360_X05-PBMC     10       \n",
       "4 SLG%E   Solidtumors:CHP_363_X01-PBMC  41       \n",
       "5 SLG%E   Leukemia:CHP_328_X05-PBMC    212       \n",
       "6 SLG%E   Leukemia:CHP_328_X05-PBMC    212       "
      ]
     },
     "metadata": {},
     "output_type": "display_data"
    }
   ],
   "source": [
    "head(gliph_sample_clonecount)"
   ]
  },
  {
   "cell_type": "code",
   "execution_count": 37,
   "metadata": {
    "vscode": {
     "languageId": "r"
    }
   },
   "outputs": [],
   "source": [
    "gliph_sample_clonecount$Sample <- gsub(\".*:\", \"\", gliph_sample_clonecount$Sample)"
   ]
  },
  {
   "cell_type": "code",
   "execution_count": 38,
   "metadata": {
    "vscode": {
     "languageId": "r"
    }
   },
   "outputs": [],
   "source": [
    "gliph_sample_clonecount$Sample <- gsub(\"-PBMC\", \"\", gliph_sample_clonecount$Sample)\n",
    "gliph_sample_clonecount$Sample <- gsub(\"X0\", \"0\", gliph_sample_clonecount$Sample)"
   ]
  },
  {
   "cell_type": "code",
   "execution_count": 39,
   "metadata": {
    "vscode": {
     "languageId": "r"
    }
   },
   "outputs": [],
   "source": [
    "#dedup samples within each pattern\n",
    "gliph_sample_clonecount <- gliph_sample_clonecount %>% group_by(Sample, pattern) %>% distinct() %>% ungroup() "
   ]
  },
  {
   "cell_type": "code",
   "execution_count": 40,
   "metadata": {
    "vscode": {
     "languageId": "r"
    }
   },
   "outputs": [
    {
     "data": {
      "text/html": [
       "<table class=\"dataframe\">\n",
       "<caption>A tibble: 6 x 3</caption>\n",
       "<thead>\n",
       "\t<tr><th scope=col>pattern</th><th scope=col>Sample</th><th scope=col>cloneCount</th></tr>\n",
       "\t<tr><th scope=col>&lt;chr&gt;</th><th scope=col>&lt;chr&gt;</th><th scope=col>&lt;dbl&gt;</th></tr>\n",
       "</thead>\n",
       "<tbody>\n",
       "\t<tr><td>SLG%E</td><td>CHP_359_03</td><td> 24</td></tr>\n",
       "\t<tr><td>SLG%E</td><td>CHP_371_01</td><td>  8</td></tr>\n",
       "\t<tr><td>SLG%E</td><td>CHP_360_05</td><td> 10</td></tr>\n",
       "\t<tr><td>SLG%E</td><td>CHP_363_01</td><td> 41</td></tr>\n",
       "\t<tr><td>SLG%E</td><td>CHP_328_05</td><td>212</td></tr>\n",
       "\t<tr><td>SLG%E</td><td>CHP_401_05</td><td> 48</td></tr>\n",
       "</tbody>\n",
       "</table>\n"
      ],
      "text/latex": [
       "A tibble: 6 x 3\n",
       "\\begin{tabular}{lll}\n",
       " pattern & Sample & cloneCount\\\\\n",
       " <chr> & <chr> & <dbl>\\\\\n",
       "\\hline\n",
       "\t SLG\\%E & CHP\\_359\\_03 &  24\\\\\n",
       "\t SLG\\%E & CHP\\_371\\_01 &   8\\\\\n",
       "\t SLG\\%E & CHP\\_360\\_05 &  10\\\\\n",
       "\t SLG\\%E & CHP\\_363\\_01 &  41\\\\\n",
       "\t SLG\\%E & CHP\\_328\\_05 & 212\\\\\n",
       "\t SLG\\%E & CHP\\_401\\_05 &  48\\\\\n",
       "\\end{tabular}\n"
      ],
      "text/markdown": [
       "\n",
       "A tibble: 6 x 3\n",
       "\n",
       "| pattern &lt;chr&gt; | Sample &lt;chr&gt; | cloneCount &lt;dbl&gt; |\n",
       "|---|---|---|\n",
       "| SLG%E | CHP_359_03 |  24 |\n",
       "| SLG%E | CHP_371_01 |   8 |\n",
       "| SLG%E | CHP_360_05 |  10 |\n",
       "| SLG%E | CHP_363_01 |  41 |\n",
       "| SLG%E | CHP_328_05 | 212 |\n",
       "| SLG%E | CHP_401_05 |  48 |\n",
       "\n"
      ],
      "text/plain": [
       "  pattern Sample     cloneCount\n",
       "1 SLG%E   CHP_359_03  24       \n",
       "2 SLG%E   CHP_371_01   8       \n",
       "3 SLG%E   CHP_360_05  10       \n",
       "4 SLG%E   CHP_363_01  41       \n",
       "5 SLG%E   CHP_328_05 212       \n",
       "6 SLG%E   CHP_401_05  48       "
      ]
     },
     "metadata": {},
     "output_type": "display_data"
    }
   ],
   "source": [
    "head(gliph_sample_clonecount)"
   ]
  },
  {
   "cell_type": "code",
   "execution_count": 41,
   "metadata": {
    "vscode": {
     "languageId": "r"
    }
   },
   "outputs": [],
   "source": [
    "gliph_sample_clonecount_wide <- tidyr::pivot_wider(gliph_sample_clonecount, names_from = pattern, values_from = cloneCount)"
   ]
  },
  {
   "cell_type": "code",
   "execution_count": 42,
   "metadata": {
    "vscode": {
     "languageId": "r"
    }
   },
   "outputs": [
    {
     "data": {
      "text/html": [
       "<table class=\"dataframe\">\n",
       "<caption>A tibble: 6 x 8557</caption>\n",
       "<thead>\n",
       "\t<tr><th scope=col>Sample</th><th scope=col>SLG%E</th><th scope=col>S%GGNTE</th><th scope=col>GIWV</th><th scope=col>IWV</th><th scope=col>WVYE</th><th scope=col>IWVY</th><th scope=col>YDTG</th><th scope=col>S%TGNTE</th><th scope=col>S%SGANV</th><th scope=col>...</th><th scope=col>G%TDT</th><th scope=col>SG%GE</th><th scope=col>G%TE</th><th scope=col>G%SYE</th><th scope=col>S%P</th><th scope=col>G%GE</th><th scope=col>S%G</th><th scope=col>%YE</th><th scope=col>%G</th><th scope=col>%E</th></tr>\n",
       "\t<tr><th scope=col>&lt;chr&gt;</th><th scope=col>&lt;dbl&gt;</th><th scope=col>&lt;dbl&gt;</th><th scope=col>&lt;dbl&gt;</th><th scope=col>&lt;dbl&gt;</th><th scope=col>&lt;dbl&gt;</th><th scope=col>&lt;dbl&gt;</th><th scope=col>&lt;dbl&gt;</th><th scope=col>&lt;dbl&gt;</th><th scope=col>&lt;dbl&gt;</th><th scope=col>...</th><th scope=col>&lt;dbl&gt;</th><th scope=col>&lt;dbl&gt;</th><th scope=col>&lt;dbl&gt;</th><th scope=col>&lt;dbl&gt;</th><th scope=col>&lt;dbl&gt;</th><th scope=col>&lt;dbl&gt;</th><th scope=col>&lt;dbl&gt;</th><th scope=col>&lt;dbl&gt;</th><th scope=col>&lt;dbl&gt;</th><th scope=col>&lt;dbl&gt;</th></tr>\n",
       "</thead>\n",
       "<tbody>\n",
       "\t<tr><td>CHP_359_03</td><td> 24</td><td>NA</td><td>NA</td><td>NA</td><td>NA</td><td>NA</td><td>NA</td><td>NA</td><td>NA</td><td>...</td><td>NA</td><td>15</td><td>44</td><td>NA</td><td>NA</td><td>NA</td><td>NA</td><td>NA</td><td>98</td><td> NA</td></tr>\n",
       "\t<tr><td>CHP_371_01</td><td>  8</td><td>NA</td><td>NA</td><td>NA</td><td>NA</td><td>NA</td><td>NA</td><td>NA</td><td>NA</td><td>...</td><td>NA</td><td>NA</td><td>NA</td><td>NA</td><td>NA</td><td>NA</td><td>NA</td><td>NA</td><td>NA</td><td> NA</td></tr>\n",
       "\t<tr><td>CHP_360_05</td><td> 10</td><td>NA</td><td>NA</td><td>NA</td><td>NA</td><td>NA</td><td>NA</td><td>NA</td><td>NA</td><td>...</td><td>NA</td><td>NA</td><td>NA</td><td>NA</td><td>NA</td><td>NA</td><td>NA</td><td>NA</td><td>NA</td><td> NA</td></tr>\n",
       "\t<tr><td>CHP_363_01</td><td> 41</td><td>NA</td><td>NA</td><td>NA</td><td>NA</td><td>NA</td><td>NA</td><td>NA</td><td>NA</td><td>...</td><td>NA</td><td>NA</td><td>NA</td><td>NA</td><td>NA</td><td>NA</td><td>NA</td><td>NA</td><td>NA</td><td>291</td></tr>\n",
       "\t<tr><td>CHP_328_05</td><td>212</td><td>NA</td><td>NA</td><td>NA</td><td>NA</td><td>NA</td><td>NA</td><td>NA</td><td>NA</td><td>...</td><td>NA</td><td>NA</td><td>NA</td><td>NA</td><td>NA</td><td>NA</td><td>NA</td><td>NA</td><td>NA</td><td> NA</td></tr>\n",
       "\t<tr><td>CHP_401_05</td><td> 48</td><td>NA</td><td>NA</td><td>NA</td><td>NA</td><td>NA</td><td>NA</td><td>NA</td><td>NA</td><td>...</td><td>NA</td><td>46</td><td>NA</td><td>NA</td><td>NA</td><td>NA</td><td>NA</td><td>NA</td><td>NA</td><td> NA</td></tr>\n",
       "</tbody>\n",
       "</table>\n"
      ],
      "text/latex": [
       "A tibble: 6 x 8557\n",
       "\\begin{tabular}{lllllllllllllllllllll}\n",
       " Sample & SLG\\%E & S\\%GGNTE & GIWV & IWV & WVYE & IWVY & YDTG & S\\%TGNTE & S\\%SGANV & ... & G\\%TDT & SG\\%GE & G\\%TE & G\\%SYE & S\\%P & G\\%GE & S\\%G & \\%YE & \\%G & \\%E\\\\\n",
       " <chr> & <dbl> & <dbl> & <dbl> & <dbl> & <dbl> & <dbl> & <dbl> & <dbl> & <dbl> & ... & <dbl> & <dbl> & <dbl> & <dbl> & <dbl> & <dbl> & <dbl> & <dbl> & <dbl> & <dbl>\\\\\n",
       "\\hline\n",
       "\t CHP\\_359\\_03 &  24 & NA & NA & NA & NA & NA & NA & NA & NA & ... & NA & 15 & 44 & NA & NA & NA & NA & NA & 98 &  NA\\\\\n",
       "\t CHP\\_371\\_01 &   8 & NA & NA & NA & NA & NA & NA & NA & NA & ... & NA & NA & NA & NA & NA & NA & NA & NA & NA &  NA\\\\\n",
       "\t CHP\\_360\\_05 &  10 & NA & NA & NA & NA & NA & NA & NA & NA & ... & NA & NA & NA & NA & NA & NA & NA & NA & NA &  NA\\\\\n",
       "\t CHP\\_363\\_01 &  41 & NA & NA & NA & NA & NA & NA & NA & NA & ... & NA & NA & NA & NA & NA & NA & NA & NA & NA & 291\\\\\n",
       "\t CHP\\_328\\_05 & 212 & NA & NA & NA & NA & NA & NA & NA & NA & ... & NA & NA & NA & NA & NA & NA & NA & NA & NA &  NA\\\\\n",
       "\t CHP\\_401\\_05 &  48 & NA & NA & NA & NA & NA & NA & NA & NA & ... & NA & 46 & NA & NA & NA & NA & NA & NA & NA &  NA\\\\\n",
       "\\end{tabular}\n"
      ],
      "text/markdown": [
       "\n",
       "A tibble: 6 x 8557\n",
       "\n",
       "| Sample &lt;chr&gt; | SLG%E &lt;dbl&gt; | S%GGNTE &lt;dbl&gt; | GIWV &lt;dbl&gt; | IWV &lt;dbl&gt; | WVYE &lt;dbl&gt; | IWVY &lt;dbl&gt; | YDTG &lt;dbl&gt; | S%TGNTE &lt;dbl&gt; | S%SGANV &lt;dbl&gt; | ... ... | G%TDT &lt;dbl&gt; | SG%GE &lt;dbl&gt; | G%TE &lt;dbl&gt; | G%SYE &lt;dbl&gt; | S%P &lt;dbl&gt; | G%GE &lt;dbl&gt; | S%G &lt;dbl&gt; | %YE &lt;dbl&gt; | %G &lt;dbl&gt; | %E &lt;dbl&gt; |\n",
       "|---|---|---|---|---|---|---|---|---|---|---|---|---|---|---|---|---|---|---|---|---|\n",
       "| CHP_359_03 |  24 | NA | NA | NA | NA | NA | NA | NA | NA | ... | NA | 15 | 44 | NA | NA | NA | NA | NA | 98 |  NA |\n",
       "| CHP_371_01 |   8 | NA | NA | NA | NA | NA | NA | NA | NA | ... | NA | NA | NA | NA | NA | NA | NA | NA | NA |  NA |\n",
       "| CHP_360_05 |  10 | NA | NA | NA | NA | NA | NA | NA | NA | ... | NA | NA | NA | NA | NA | NA | NA | NA | NA |  NA |\n",
       "| CHP_363_01 |  41 | NA | NA | NA | NA | NA | NA | NA | NA | ... | NA | NA | NA | NA | NA | NA | NA | NA | NA | 291 |\n",
       "| CHP_328_05 | 212 | NA | NA | NA | NA | NA | NA | NA | NA | ... | NA | NA | NA | NA | NA | NA | NA | NA | NA |  NA |\n",
       "| CHP_401_05 |  48 | NA | NA | NA | NA | NA | NA | NA | NA | ... | NA | 46 | NA | NA | NA | NA | NA | NA | NA |  NA |\n",
       "\n"
      ],
      "text/plain": [
       "  Sample     SLG%E S%GGNTE GIWV IWV WVYE IWVY YDTG S%TGNTE S%SGANV ... G%TDT\n",
       "1 CHP_359_03  24   NA      NA   NA  NA   NA   NA   NA      NA      ... NA   \n",
       "2 CHP_371_01   8   NA      NA   NA  NA   NA   NA   NA      NA      ... NA   \n",
       "3 CHP_360_05  10   NA      NA   NA  NA   NA   NA   NA      NA      ... NA   \n",
       "4 CHP_363_01  41   NA      NA   NA  NA   NA   NA   NA      NA      ... NA   \n",
       "5 CHP_328_05 212   NA      NA   NA  NA   NA   NA   NA      NA      ... NA   \n",
       "6 CHP_401_05  48   NA      NA   NA  NA   NA   NA   NA      NA      ... NA   \n",
       "  SG%GE G%TE G%SYE S%P G%GE S%G %YE %G %E \n",
       "1 15    44   NA    NA  NA   NA  NA  98  NA\n",
       "2 NA    NA   NA    NA  NA   NA  NA  NA  NA\n",
       "3 NA    NA   NA    NA  NA   NA  NA  NA  NA\n",
       "4 NA    NA   NA    NA  NA   NA  NA  NA 291\n",
       "5 NA    NA   NA    NA  NA   NA  NA  NA  NA\n",
       "6 46    NA   NA    NA  NA   NA  NA  NA  NA"
      ]
     },
     "metadata": {},
     "output_type": "display_data"
    }
   ],
   "source": [
    "head(gliph_sample_clonecount_wide)"
   ]
  },
  {
   "cell_type": "code",
   "execution_count": 43,
   "metadata": {
    "vscode": {
     "languageId": "r"
    }
   },
   "outputs": [],
   "source": [
    "gliph_sample_clonecount_wide <- as.data.frame(gliph_sample_clonecount_wide)"
   ]
  },
  {
   "cell_type": "code",
   "execution_count": 44,
   "metadata": {
    "vscode": {
     "languageId": "r"
    }
   },
   "outputs": [],
   "source": [
    "rownames(gliph_sample_clonecount_wide) <- gliph_sample_clonecount_wide$Sample\n",
    "gliph_sample_clonecount_wide$Sample <- NULL"
   ]
  },
  {
   "cell_type": "code",
   "execution_count": 45,
   "metadata": {
    "vscode": {
     "languageId": "r"
    }
   },
   "outputs": [
    {
     "data": {
      "text/html": [
       "<table class=\"dataframe\">\n",
       "<caption>A data.frame: 6 x 8556</caption>\n",
       "<thead>\n",
       "\t<tr><th></th><th scope=col>SLG%E</th><th scope=col>S%GGNTE</th><th scope=col>GIWV</th><th scope=col>IWV</th><th scope=col>WVYE</th><th scope=col>IWVY</th><th scope=col>YDTG</th><th scope=col>S%TGNTE</th><th scope=col>S%SGANV</th><th scope=col>SV%GNTE</th><th scope=col>...</th><th scope=col>G%TDT</th><th scope=col>SG%GE</th><th scope=col>G%TE</th><th scope=col>G%SYE</th><th scope=col>S%P</th><th scope=col>G%GE</th><th scope=col>S%G</th><th scope=col>%YE</th><th scope=col>%G</th><th scope=col>%E</th></tr>\n",
       "\t<tr><th></th><th scope=col>&lt;dbl&gt;</th><th scope=col>&lt;dbl&gt;</th><th scope=col>&lt;dbl&gt;</th><th scope=col>&lt;dbl&gt;</th><th scope=col>&lt;dbl&gt;</th><th scope=col>&lt;dbl&gt;</th><th scope=col>&lt;dbl&gt;</th><th scope=col>&lt;dbl&gt;</th><th scope=col>&lt;dbl&gt;</th><th scope=col>&lt;dbl&gt;</th><th scope=col>...</th><th scope=col>&lt;dbl&gt;</th><th scope=col>&lt;dbl&gt;</th><th scope=col>&lt;dbl&gt;</th><th scope=col>&lt;dbl&gt;</th><th scope=col>&lt;dbl&gt;</th><th scope=col>&lt;dbl&gt;</th><th scope=col>&lt;dbl&gt;</th><th scope=col>&lt;dbl&gt;</th><th scope=col>&lt;dbl&gt;</th><th scope=col>&lt;dbl&gt;</th></tr>\n",
       "</thead>\n",
       "<tbody>\n",
       "\t<tr><th scope=row>CHP_359_03</th><td> 24</td><td>NA</td><td>NA</td><td>NA</td><td>NA</td><td>NA</td><td>NA</td><td>NA</td><td>NA</td><td>NA</td><td>...</td><td>NA</td><td>15</td><td>44</td><td>NA</td><td>NA</td><td>NA</td><td>NA</td><td>NA</td><td>98</td><td> NA</td></tr>\n",
       "\t<tr><th scope=row>CHP_371_01</th><td>  8</td><td>NA</td><td>NA</td><td>NA</td><td>NA</td><td>NA</td><td>NA</td><td>NA</td><td>NA</td><td>NA</td><td>...</td><td>NA</td><td>NA</td><td>NA</td><td>NA</td><td>NA</td><td>NA</td><td>NA</td><td>NA</td><td>NA</td><td> NA</td></tr>\n",
       "\t<tr><th scope=row>CHP_360_05</th><td> 10</td><td>NA</td><td>NA</td><td>NA</td><td>NA</td><td>NA</td><td>NA</td><td>NA</td><td>NA</td><td>NA</td><td>...</td><td>NA</td><td>NA</td><td>NA</td><td>NA</td><td>NA</td><td>NA</td><td>NA</td><td>NA</td><td>NA</td><td> NA</td></tr>\n",
       "\t<tr><th scope=row>CHP_363_01</th><td> 41</td><td>NA</td><td>NA</td><td>NA</td><td>NA</td><td>NA</td><td>NA</td><td>NA</td><td>NA</td><td>NA</td><td>...</td><td>NA</td><td>NA</td><td>NA</td><td>NA</td><td>NA</td><td>NA</td><td>NA</td><td>NA</td><td>NA</td><td>291</td></tr>\n",
       "\t<tr><th scope=row>CHP_328_05</th><td>212</td><td>NA</td><td>NA</td><td>NA</td><td>NA</td><td>NA</td><td>NA</td><td>NA</td><td>NA</td><td>NA</td><td>...</td><td>NA</td><td>NA</td><td>NA</td><td>NA</td><td>NA</td><td>NA</td><td>NA</td><td>NA</td><td>NA</td><td> NA</td></tr>\n",
       "\t<tr><th scope=row>CHP_401_05</th><td> 48</td><td>NA</td><td>NA</td><td>NA</td><td>NA</td><td>NA</td><td>NA</td><td>NA</td><td>NA</td><td>NA</td><td>...</td><td>NA</td><td>46</td><td>NA</td><td>NA</td><td>NA</td><td>NA</td><td>NA</td><td>NA</td><td>NA</td><td> NA</td></tr>\n",
       "</tbody>\n",
       "</table>\n"
      ],
      "text/latex": [
       "A data.frame: 6 x 8556\n",
       "\\begin{tabular}{r|lllllllllllllllllllll}\n",
       "  & SLG\\%E & S\\%GGNTE & GIWV & IWV & WVYE & IWVY & YDTG & S\\%TGNTE & S\\%SGANV & SV\\%GNTE & ... & G\\%TDT & SG\\%GE & G\\%TE & G\\%SYE & S\\%P & G\\%GE & S\\%G & \\%YE & \\%G & \\%E\\\\\n",
       "  & <dbl> & <dbl> & <dbl> & <dbl> & <dbl> & <dbl> & <dbl> & <dbl> & <dbl> & <dbl> & ... & <dbl> & <dbl> & <dbl> & <dbl> & <dbl> & <dbl> & <dbl> & <dbl> & <dbl> & <dbl>\\\\\n",
       "\\hline\n",
       "\tCHP\\_359\\_03 &  24 & NA & NA & NA & NA & NA & NA & NA & NA & NA & ... & NA & 15 & 44 & NA & NA & NA & NA & NA & 98 &  NA\\\\\n",
       "\tCHP\\_371\\_01 &   8 & NA & NA & NA & NA & NA & NA & NA & NA & NA & ... & NA & NA & NA & NA & NA & NA & NA & NA & NA &  NA\\\\\n",
       "\tCHP\\_360\\_05 &  10 & NA & NA & NA & NA & NA & NA & NA & NA & NA & ... & NA & NA & NA & NA & NA & NA & NA & NA & NA &  NA\\\\\n",
       "\tCHP\\_363\\_01 &  41 & NA & NA & NA & NA & NA & NA & NA & NA & NA & ... & NA & NA & NA & NA & NA & NA & NA & NA & NA & 291\\\\\n",
       "\tCHP\\_328\\_05 & 212 & NA & NA & NA & NA & NA & NA & NA & NA & NA & ... & NA & NA & NA & NA & NA & NA & NA & NA & NA &  NA\\\\\n",
       "\tCHP\\_401\\_05 &  48 & NA & NA & NA & NA & NA & NA & NA & NA & NA & ... & NA & 46 & NA & NA & NA & NA & NA & NA & NA &  NA\\\\\n",
       "\\end{tabular}\n"
      ],
      "text/markdown": [
       "\n",
       "A data.frame: 6 x 8556\n",
       "\n",
       "| <!--/--> | SLG%E &lt;dbl&gt; | S%GGNTE &lt;dbl&gt; | GIWV &lt;dbl&gt; | IWV &lt;dbl&gt; | WVYE &lt;dbl&gt; | IWVY &lt;dbl&gt; | YDTG &lt;dbl&gt; | S%TGNTE &lt;dbl&gt; | S%SGANV &lt;dbl&gt; | SV%GNTE &lt;dbl&gt; | ... ... | G%TDT &lt;dbl&gt; | SG%GE &lt;dbl&gt; | G%TE &lt;dbl&gt; | G%SYE &lt;dbl&gt; | S%P &lt;dbl&gt; | G%GE &lt;dbl&gt; | S%G &lt;dbl&gt; | %YE &lt;dbl&gt; | %G &lt;dbl&gt; | %E &lt;dbl&gt; |\n",
       "|---|---|---|---|---|---|---|---|---|---|---|---|---|---|---|---|---|---|---|---|---|---|\n",
       "| CHP_359_03 |  24 | NA | NA | NA | NA | NA | NA | NA | NA | NA | ... | NA | 15 | 44 | NA | NA | NA | NA | NA | 98 |  NA |\n",
       "| CHP_371_01 |   8 | NA | NA | NA | NA | NA | NA | NA | NA | NA | ... | NA | NA | NA | NA | NA | NA | NA | NA | NA |  NA |\n",
       "| CHP_360_05 |  10 | NA | NA | NA | NA | NA | NA | NA | NA | NA | ... | NA | NA | NA | NA | NA | NA | NA | NA | NA |  NA |\n",
       "| CHP_363_01 |  41 | NA | NA | NA | NA | NA | NA | NA | NA | NA | ... | NA | NA | NA | NA | NA | NA | NA | NA | NA | 291 |\n",
       "| CHP_328_05 | 212 | NA | NA | NA | NA | NA | NA | NA | NA | NA | ... | NA | NA | NA | NA | NA | NA | NA | NA | NA |  NA |\n",
       "| CHP_401_05 |  48 | NA | NA | NA | NA | NA | NA | NA | NA | NA | ... | NA | 46 | NA | NA | NA | NA | NA | NA | NA |  NA |\n",
       "\n"
      ],
      "text/plain": [
       "           SLG%E S%GGNTE GIWV IWV WVYE IWVY YDTG S%TGNTE S%SGANV SV%GNTE ...\n",
       "CHP_359_03  24   NA      NA   NA  NA   NA   NA   NA      NA      NA      ...\n",
       "CHP_371_01   8   NA      NA   NA  NA   NA   NA   NA      NA      NA      ...\n",
       "CHP_360_05  10   NA      NA   NA  NA   NA   NA   NA      NA      NA      ...\n",
       "CHP_363_01  41   NA      NA   NA  NA   NA   NA   NA      NA      NA      ...\n",
       "CHP_328_05 212   NA      NA   NA  NA   NA   NA   NA      NA      NA      ...\n",
       "CHP_401_05  48   NA      NA   NA  NA   NA   NA   NA      NA      NA      ...\n",
       "           G%TDT SG%GE G%TE G%SYE S%P G%GE S%G %YE %G %E \n",
       "CHP_359_03 NA    15    44   NA    NA  NA   NA  NA  98  NA\n",
       "CHP_371_01 NA    NA    NA   NA    NA  NA   NA  NA  NA  NA\n",
       "CHP_360_05 NA    NA    NA   NA    NA  NA   NA  NA  NA  NA\n",
       "CHP_363_01 NA    NA    NA   NA    NA  NA   NA  NA  NA 291\n",
       "CHP_328_05 NA    NA    NA   NA    NA  NA   NA  NA  NA  NA\n",
       "CHP_401_05 NA    46    NA   NA    NA  NA   NA  NA  NA  NA"
      ]
     },
     "metadata": {},
     "output_type": "display_data"
    }
   ],
   "source": [
    "head(gliph_sample_clonecount_wide)"
   ]
  },
  {
   "cell_type": "code",
   "execution_count": 46,
   "metadata": {
    "vscode": {
     "languageId": "r"
    }
   },
   "outputs": [],
   "source": [
    "gliph_sample_clonecount_wide[is.na(gliph_sample_clonecount_wide)] <- 0"
   ]
  },
  {
   "cell_type": "code",
   "execution_count": 47,
   "metadata": {
    "vscode": {
     "languageId": "r"
    }
   },
   "outputs": [],
   "source": [
    "matched_indices <- match(pbmc_hla_v_j$sample_id, rownames(gliph_sample_clonecount_wide))\n",
    "pbmc_hla_v_j_gliph <- cbind(pbmc_hla_v_j, gliph_sample_clonecount_wide[matched_indices, ])"
   ]
  },
  {
   "cell_type": "code",
   "execution_count": 48,
   "metadata": {
    "vscode": {
     "languageId": "r"
    }
   },
   "outputs": [
    {
     "data": {
      "text/html": [
       "<style>\n",
       ".list-inline {list-style: none; margin:0; padding: 0}\n",
       ".list-inline>li {display: inline-block}\n",
       ".list-inline>li:not(:last-child)::after {content: \"\\00b7\"; padding: 0 .5ex}\n",
       "</style>\n",
       "<ol class=list-inline><li>162</li><li>170</li><li>27</li><li>80</li><li>72</li><li>5</li></ol>\n"
      ],
      "text/latex": [
       "\\begin{enumerate*}\n",
       "\\item 162\n",
       "\\item 170\n",
       "\\item 27\n",
       "\\item 80\n",
       "\\item 72\n",
       "\\item 5\n",
       "\\end{enumerate*}\n"
      ],
      "text/markdown": [
       "1. 162\n",
       "2. 170\n",
       "3. 27\n",
       "4. 80\n",
       "5. 72\n",
       "6. 5\n",
       "\n",
       "\n"
      ],
      "text/plain": [
       "[1] 162 170  27  80  72   5"
      ]
     },
     "metadata": {},
     "output_type": "display_data"
    }
   ],
   "source": [
    "head(matched_indices)"
   ]
  },
  {
   "cell_type": "code",
   "execution_count": 49,
   "metadata": {
    "vscode": {
     "languageId": "r"
    }
   },
   "outputs": [
    {
     "data": {
      "text/html": [
       "<table class=\"dataframe\">\n",
       "<caption>A data.frame: 6 x 8829</caption>\n",
       "<thead>\n",
       "\t<tr><th></th><th scope=col>sample_id</th><th scope=col>Patient</th><th scope=col>cycle</th><th scope=col>FOLD</th><th scope=col>ATC</th><th scope=col>Age</th><th scope=col>Disease_type</th><th scope=col>TE_fold</th><th scope=col>CD3</th><th scope=col>EM</th><th scope=col>...</th><th scope=col>G%TDT</th><th scope=col>SG%GE</th><th scope=col>G%TE</th><th scope=col>G%SYE</th><th scope=col>S%P</th><th scope=col>G%GE</th><th scope=col>S%G</th><th scope=col>%YE</th><th scope=col>%G</th><th scope=col>%E</th></tr>\n",
       "\t<tr><th></th><th scope=col>&lt;chr&gt;</th><th scope=col>&lt;chr&gt;</th><th scope=col>&lt;chr&gt;</th><th scope=col>&lt;dbl&gt;</th><th scope=col>&lt;dbl&gt;</th><th scope=col>&lt;dbl&gt;</th><th scope=col>&lt;chr&gt;</th><th scope=col>&lt;dbl&gt;</th><th scope=col>&lt;int&gt;</th><th scope=col>&lt;int&gt;</th><th scope=col>...</th><th scope=col>&lt;dbl&gt;</th><th scope=col>&lt;dbl&gt;</th><th scope=col>&lt;dbl&gt;</th><th scope=col>&lt;dbl&gt;</th><th scope=col>&lt;dbl&gt;</th><th scope=col>&lt;dbl&gt;</th><th scope=col>&lt;dbl&gt;</th><th scope=col>&lt;dbl&gt;</th><th scope=col>&lt;dbl&gt;</th><th scope=col>&lt;dbl&gt;</th></tr>\n",
       "</thead>\n",
       "<tbody>\n",
       "\t<tr><th scope=row>302</th><td>CHP_319_05</td><td>CHP_319</td><td>X05</td><td>1.2</td><td>  0.00</td><td> 1</td><td>HR ALL</td><td>1.2</td><td>0</td><td>NA</td><td>...</td><td>0</td><td>0</td><td>0</td><td>0</td><td>0</td><td>0</td><td>0</td><td>0</td><td>0</td><td>0</td></tr>\n",
       "\t<tr><th scope=row>320</th><td>CHP_323_03</td><td>CHP_323</td><td>X03</td><td>0.0</td><td>786.24</td><td> 1</td><td>HR ALL</td><td>0.0</td><td>0</td><td>NA</td><td>...</td><td>0</td><td>0</td><td>0</td><td>0</td><td>0</td><td>0</td><td>0</td><td>0</td><td>0</td><td>0</td></tr>\n",
       "\t<tr><th scope=row>322</th><td>CHP_323_05</td><td>CHP_323</td><td>X05</td><td>0.0</td><td>979.50</td><td> 1</td><td>HR ALL</td><td>0.0</td><td>0</td><td>NA</td><td>...</td><td>0</td><td>0</td><td>0</td><td>0</td><td>0</td><td>0</td><td>0</td><td>0</td><td>0</td><td>0</td></tr>\n",
       "\t<tr><th scope=row>327</th><td>CHP_324_05</td><td>CHP_324</td><td>X05</td><td>0.0</td><td>  0.00</td><td>12</td><td>T-ALL </td><td>0.0</td><td>0</td><td>NA</td><td>...</td><td>0</td><td>0</td><td>0</td><td>0</td><td>0</td><td>0</td><td>0</td><td>0</td><td>0</td><td>0</td></tr>\n",
       "\t<tr><th scope=row>346</th><td>CHP_328_04</td><td>CHP_328</td><td>X04</td><td>0.0</td><td>130.82</td><td> 7</td><td>SR ALL</td><td>0.0</td><td>0</td><td>NA</td><td>...</td><td>0</td><td>0</td><td>0</td><td>0</td><td>0</td><td>0</td><td>0</td><td>0</td><td>0</td><td>0</td></tr>\n",
       "\t<tr><th scope=row>347</th><td>CHP_328_05</td><td>CHP_328</td><td>X05</td><td>0.0</td><td> 91.16</td><td> 7</td><td>SR ALL</td><td>0.0</td><td>0</td><td>NA</td><td>...</td><td>0</td><td>0</td><td>0</td><td>0</td><td>0</td><td>0</td><td>0</td><td>0</td><td>0</td><td>0</td></tr>\n",
       "</tbody>\n",
       "</table>\n"
      ],
      "text/latex": [
       "A data.frame: 6 x 8829\n",
       "\\begin{tabular}{r|lllllllllllllllllllll}\n",
       "  & sample\\_id & Patient & cycle & FOLD & ATC & Age & Disease\\_type & TE\\_fold & CD3 & EM & ... & G\\%TDT & SG\\%GE & G\\%TE & G\\%SYE & S\\%P & G\\%GE & S\\%G & \\%YE & \\%G & \\%E\\\\\n",
       "  & <chr> & <chr> & <chr> & <dbl> & <dbl> & <dbl> & <chr> & <dbl> & <int> & <int> & ... & <dbl> & <dbl> & <dbl> & <dbl> & <dbl> & <dbl> & <dbl> & <dbl> & <dbl> & <dbl>\\\\\n",
       "\\hline\n",
       "\t302 & CHP\\_319\\_05 & CHP\\_319 & X05 & 1.2 &   0.00 &  1 & HR ALL & 1.2 & 0 & NA & ... & 0 & 0 & 0 & 0 & 0 & 0 & 0 & 0 & 0 & 0\\\\\n",
       "\t320 & CHP\\_323\\_03 & CHP\\_323 & X03 & 0.0 & 786.24 &  1 & HR ALL & 0.0 & 0 & NA & ... & 0 & 0 & 0 & 0 & 0 & 0 & 0 & 0 & 0 & 0\\\\\n",
       "\t322 & CHP\\_323\\_05 & CHP\\_323 & X05 & 0.0 & 979.50 &  1 & HR ALL & 0.0 & 0 & NA & ... & 0 & 0 & 0 & 0 & 0 & 0 & 0 & 0 & 0 & 0\\\\\n",
       "\t327 & CHP\\_324\\_05 & CHP\\_324 & X05 & 0.0 &   0.00 & 12 & T-ALL  & 0.0 & 0 & NA & ... & 0 & 0 & 0 & 0 & 0 & 0 & 0 & 0 & 0 & 0\\\\\n",
       "\t346 & CHP\\_328\\_04 & CHP\\_328 & X04 & 0.0 & 130.82 &  7 & SR ALL & 0.0 & 0 & NA & ... & 0 & 0 & 0 & 0 & 0 & 0 & 0 & 0 & 0 & 0\\\\\n",
       "\t347 & CHP\\_328\\_05 & CHP\\_328 & X05 & 0.0 &  91.16 &  7 & SR ALL & 0.0 & 0 & NA & ... & 0 & 0 & 0 & 0 & 0 & 0 & 0 & 0 & 0 & 0\\\\\n",
       "\\end{tabular}\n"
      ],
      "text/markdown": [
       "\n",
       "A data.frame: 6 x 8829\n",
       "\n",
       "| <!--/--> | sample_id &lt;chr&gt; | Patient &lt;chr&gt; | cycle &lt;chr&gt; | FOLD &lt;dbl&gt; | ATC &lt;dbl&gt; | Age &lt;dbl&gt; | Disease_type &lt;chr&gt; | TE_fold &lt;dbl&gt; | CD3 &lt;int&gt; | EM &lt;int&gt; | ... ... | G%TDT &lt;dbl&gt; | SG%GE &lt;dbl&gt; | G%TE &lt;dbl&gt; | G%SYE &lt;dbl&gt; | S%P &lt;dbl&gt; | G%GE &lt;dbl&gt; | S%G &lt;dbl&gt; | %YE &lt;dbl&gt; | %G &lt;dbl&gt; | %E &lt;dbl&gt; |\n",
       "|---|---|---|---|---|---|---|---|---|---|---|---|---|---|---|---|---|---|---|---|---|---|\n",
       "| 302 | CHP_319_05 | CHP_319 | X05 | 1.2 |   0.00 |  1 | HR ALL | 1.2 | 0 | NA | ... | 0 | 0 | 0 | 0 | 0 | 0 | 0 | 0 | 0 | 0 |\n",
       "| 320 | CHP_323_03 | CHP_323 | X03 | 0.0 | 786.24 |  1 | HR ALL | 0.0 | 0 | NA | ... | 0 | 0 | 0 | 0 | 0 | 0 | 0 | 0 | 0 | 0 |\n",
       "| 322 | CHP_323_05 | CHP_323 | X05 | 0.0 | 979.50 |  1 | HR ALL | 0.0 | 0 | NA | ... | 0 | 0 | 0 | 0 | 0 | 0 | 0 | 0 | 0 | 0 |\n",
       "| 327 | CHP_324_05 | CHP_324 | X05 | 0.0 |   0.00 | 12 | T-ALL  | 0.0 | 0 | NA | ... | 0 | 0 | 0 | 0 | 0 | 0 | 0 | 0 | 0 | 0 |\n",
       "| 346 | CHP_328_04 | CHP_328 | X04 | 0.0 | 130.82 |  7 | SR ALL | 0.0 | 0 | NA | ... | 0 | 0 | 0 | 0 | 0 | 0 | 0 | 0 | 0 | 0 |\n",
       "| 347 | CHP_328_05 | CHP_328 | X05 | 0.0 |  91.16 |  7 | SR ALL | 0.0 | 0 | NA | ... | 0 | 0 | 0 | 0 | 0 | 0 | 0 | 0 | 0 | 0 |\n",
       "\n"
      ],
      "text/plain": [
       "    sample_id  Patient cycle FOLD ATC    Age Disease_type TE_fold CD3 EM ...\n",
       "302 CHP_319_05 CHP_319 X05   1.2    0.00  1  HR ALL       1.2     0   NA ...\n",
       "320 CHP_323_03 CHP_323 X03   0.0  786.24  1  HR ALL       0.0     0   NA ...\n",
       "322 CHP_323_05 CHP_323 X05   0.0  979.50  1  HR ALL       0.0     0   NA ...\n",
       "327 CHP_324_05 CHP_324 X05   0.0    0.00 12  T-ALL        0.0     0   NA ...\n",
       "346 CHP_328_04 CHP_328 X04   0.0  130.82  7  SR ALL       0.0     0   NA ...\n",
       "347 CHP_328_05 CHP_328 X05   0.0   91.16  7  SR ALL       0.0     0   NA ...\n",
       "    G%TDT SG%GE G%TE G%SYE S%P G%GE S%G %YE %G %E\n",
       "302 0     0     0    0     0   0    0   0   0  0 \n",
       "320 0     0     0    0     0   0    0   0   0  0 \n",
       "322 0     0     0    0     0   0    0   0   0  0 \n",
       "327 0     0     0    0     0   0    0   0   0  0 \n",
       "346 0     0     0    0     0   0    0   0   0  0 \n",
       "347 0     0     0    0     0   0    0   0   0  0 "
      ]
     },
     "metadata": {},
     "output_type": "display_data"
    }
   ],
   "source": [
    "head(pbmc_hla_v_j_gliph)"
   ]
  },
  {
   "cell_type": "code",
   "execution_count": null,
   "metadata": {
    "vscode": {
     "languageId": "r"
    }
   },
   "outputs": [],
   "source": []
  },
  {
   "cell_type": "code",
   "execution_count": null,
   "metadata": {
    "vscode": {
     "languageId": "r"
    }
   },
   "outputs": [],
   "source": []
  },
  {
   "cell_type": "code",
   "execution_count": 42,
   "metadata": {
    "vscode": {
     "languageId": "r"
    }
   },
   "outputs": [],
   "source": [
    "aagliph_out$subject <- gsub(\":.*\", \"\", gliph_out$Sample)"
   ]
  },
  {
   "cell_type": "code",
   "execution_count": null,
   "metadata": {
    "vscode": {
     "languageId": "r"
    }
   },
   "outputs": [],
   "source": []
  },
  {
   "cell_type": "code",
   "execution_count": 118,
   "metadata": {
    "vscode": {
     "languageId": "r"
    }
   },
   "outputs": [],
   "source": [
    "# howmany viral each samples?\n",
    "\n",
    "samples_tcr <- readr::read_rds( file = paste0(datapath, \"GLIPH/int_samples_gliphannot_stat.rds\"))\n",
    "\n",
    "\n",
    "\n",
    "\n",
    "for(i in 1:nrow(gliphdf)){\n",
    "mygliph <- gliph_out[gliph_out$pattern == gliphdf$gliph[i],]\n",
    "# add 1 in gliphdf$CMV, if mygliph$subject ciontains CMV\n",
    "gliphdf$CMV[i] <- ifelse(sum(grepl(\"CMV\", mygliph$subject)) > 0, 1, 0)\n",
    "gliphdf$EBV[i] <- ifelse(sum(grepl(\"EBV\", mygliph$subject)) > 0, 1, 0)\n",
    "gliphdf$HCV[i] <- ifelse(sum(grepl(\"HCV\", mygliph$subject)) > 0, 1, 0)\n",
    "gliphdf$Flu[i] <- ifelse(sum(grepl(\"Influenza\", mygliph$subject)) > 0, 1, 0)\n",
    "gliphdf$hs[i] <- ifelse(sum(grepl(\"HomoSapiens\", mygliph$subject)) > 0, 1, 0)\n",
    "}"
   ]
  },
  {
   "cell_type": "code",
   "execution_count": 121,
   "metadata": {
    "vscode": {
     "languageId": "r"
    }
   },
   "outputs": [],
   "source": [
    "pbmc$CMV <- NA\n",
    "pbmc$EBV <- NA\n",
    "pbmc$HCV <- NA\n",
    "pbmc$Flu <- NA\n",
    "pbmc$hs <- NA"
   ]
  },
  {
   "cell_type": "code",
   "execution_count": 122,
   "metadata": {
    "vscode": {
     "languageId": "r"
    }
   },
   "outputs": [],
   "source": [
    "for(i in 1:nrow(pbmc) ){\n",
    "    mygliph <- gliph_out[ gliph_out$Sample == pbmc$samplename[i], ]\n",
    "    tmp <- gliphdf[ match(mygliph$pattern, gliphdf$gliph),]\n",
    "    vsums <- colSums(tmp[,2:6])\n",
    "    pbmc[i, c(\"CMV\", \"EBV\", \"HCV\", \"Flu\", \"hs\")] <- vsums\n",
    "}"
   ]
  },
  {
   "cell_type": "code",
   "execution_count": 176,
   "metadata": {
    "vscode": {
     "languageId": "r"
    }
   },
   "outputs": [
    {
     "data": {
      "text/html": [
       "<table class=\"dataframe\">\n",
       "<caption>A data.frame: 6 x 66</caption>\n",
       "<thead>\n",
       "\t<tr><th></th><th scope=col>sample_id</th><th scope=col>Patient</th><th scope=col>cycle</th><th scope=col>FOLD</th><th scope=col>ATC</th><th scope=col>Age</th><th scope=col>Disease_type</th><th scope=col>TE_fold</th><th scope=col>CD3</th><th scope=col>EM</th><th scope=col>...</th><th scope=col>estimated_Shannon</th><th scope=col>SE_Shannon</th><th scope=col>observed_Simpson</th><th scope=col>estimated_Simpson</th><th scope=col>SE_Simpson</th><th scope=col>basename</th><th scope=col>file</th><th scope=col>sampletype</th><th scope=col>Group</th><th scope=col>log10shann</th></tr>\n",
       "\t<tr><th></th><th scope=col>&lt;chr&gt;</th><th scope=col>&lt;chr&gt;</th><th scope=col>&lt;chr&gt;</th><th scope=col>&lt;dbl&gt;</th><th scope=col>&lt;dbl&gt;</th><th scope=col>&lt;dbl&gt;</th><th scope=col>&lt;chr&gt;</th><th scope=col>&lt;dbl&gt;</th><th scope=col>&lt;int&gt;</th><th scope=col>&lt;int&gt;</th><th scope=col>...</th><th scope=col>&lt;dbl&gt;</th><th scope=col>&lt;dbl&gt;</th><th scope=col>&lt;dbl&gt;</th><th scope=col>&lt;dbl&gt;</th><th scope=col>&lt;dbl&gt;</th><th scope=col>&lt;chr&gt;</th><th scope=col>&lt;chr&gt;</th><th scope=col>&lt;chr&gt;</th><th scope=col>&lt;chr&gt;</th><th scope=col>&lt;dbl&gt;</th></tr>\n",
       "</thead>\n",
       "<tbody>\n",
       "\t<tr><th scope=row>302</th><td>CHP_319_05</td><td>CHP_319</td><td>X05</td><td>1.2</td><td>  0.00</td><td> 1</td><td>HR ALL</td><td>1.2</td><td>0</td><td>NA</td><td>...</td><td> 13.439</td><td>1.217</td><td> 10.248</td><td> 11.626</td><td>1.269</td><td>CHP_319-05-PBMC-DNA</td><td>batch2_Aug62019/mixcr/clones/CLONES_TRBCHP_319-05-PBMC-DNA.txt              </td><td>PBMC</td><td>CHP</td><td>1.074743</td></tr>\n",
       "\t<tr><th scope=row>320</th><td>CHP_323_03</td><td>CHP_323</td><td>X03</td><td>0.0</td><td>786.24</td><td> 1</td><td>HR ALL</td><td>0.0</td><td>0</td><td>NA</td><td>...</td><td> 37.986</td><td>0.367</td><td> 33.204</td><td> 33.544</td><td>0.638</td><td>CHP_323-03-PBMC-DNA</td><td>batch4_19Aug2019/mixcr/clones/CLONES_TRBCHP_323-03-PBMC-DNA.txt             </td><td>PBMC</td><td>CHP</td><td>1.576595</td></tr>\n",
       "\t<tr><th scope=row>322</th><td>CHP_323_05</td><td>CHP_323</td><td>X05</td><td>0.0</td><td>979.50</td><td> 1</td><td>HR ALL</td><td>0.0</td><td>0</td><td>NA</td><td>...</td><td> 85.174</td><td>2.255</td><td> 32.669</td><td> 33.190</td><td>2.327</td><td>CHP_323-05-PBMC-DNA</td><td>batch7_25Oct2019/mixcr/clones/CLONES_TRBCHP_323-05-PBMC-DNA.txt             </td><td>PBMC</td><td>CHP</td><td>1.912504</td></tr>\n",
       "\t<tr><th scope=row>327</th><td>CHP_324_05</td><td>CHP_324</td><td>X05</td><td>0.0</td><td>  0.00</td><td>12</td><td>T-ALL </td><td>0.0</td><td>0</td><td>NA</td><td>...</td><td>130.246</td><td>0.574</td><td> 79.994</td><td> 80.126</td><td>0.912</td><td>CHP_324-05_PBMC-DNA</td><td>remaining_batch_2_22April2021/mixcr/clones/CLONES_TRBCHP_324-05_PBMC-DNA.txt</td><td>PBMC</td><td>CHP</td><td>2.113673</td></tr>\n",
       "\t<tr><th scope=row>346</th><td>CHP_328_04</td><td>CHP_328</td><td>X04</td><td>0.0</td><td>130.82</td><td> 7</td><td>SR ALL</td><td>0.0</td><td>0</td><td>NA</td><td>...</td><td>224.003</td><td>0.477</td><td>133.121</td><td>133.198</td><td>0.669</td><td>CHP-328-04-PBMC-DNA</td><td>remaining_batch_4_28June2021/mixcr/clones/CLONES_TRBCHP-328-04-PBMC-DNA.txt </td><td>PBMC</td><td>CHP</td><td>2.349757</td></tr>\n",
       "\t<tr><th scope=row>347</th><td>CHP_328_05</td><td>CHP_328</td><td>X05</td><td>0.0</td><td> 91.16</td><td> 7</td><td>SR ALL</td><td>0.0</td><td>0</td><td>NA</td><td>...</td><td> 87.712</td><td>0.563</td><td> 62.759</td><td> 62.967</td><td>0.625</td><td>CHP-328-05-PBMC-DNA</td><td>remaining_batch_4_28June2021/mixcr/clones/CLONES_TRBCHP-328-05-PBMC-DNA.txt </td><td>PBMC</td><td>CHP</td><td>1.941119</td></tr>\n",
       "</tbody>\n",
       "</table>\n"
      ],
      "text/latex": [
       "A data.frame: 6 x 66\n",
       "\\begin{tabular}{r|lllllllllllllllllllll}\n",
       "  & sample\\_id & Patient & cycle & FOLD & ATC & Age & Disease\\_type & TE\\_fold & CD3 & EM & ... & estimated\\_Shannon & SE\\_Shannon & observed\\_Simpson & estimated\\_Simpson & SE\\_Simpson & basename & file & sampletype & Group & log10shann\\\\\n",
       "  & <chr> & <chr> & <chr> & <dbl> & <dbl> & <dbl> & <chr> & <dbl> & <int> & <int> & ... & <dbl> & <dbl> & <dbl> & <dbl> & <dbl> & <chr> & <chr> & <chr> & <chr> & <dbl>\\\\\n",
       "\\hline\n",
       "\t302 & CHP\\_319\\_05 & CHP\\_319 & X05 & 1.2 &   0.00 &  1 & HR ALL & 1.2 & 0 & NA & ... &  13.439 & 1.217 &  10.248 &  11.626 & 1.269 & CHP\\_319-05-PBMC-DNA & batch2\\_Aug62019/mixcr/clones/CLONES\\_TRBCHP\\_319-05-PBMC-DNA.txt               & PBMC & CHP & 1.074743\\\\\n",
       "\t320 & CHP\\_323\\_03 & CHP\\_323 & X03 & 0.0 & 786.24 &  1 & HR ALL & 0.0 & 0 & NA & ... &  37.986 & 0.367 &  33.204 &  33.544 & 0.638 & CHP\\_323-03-PBMC-DNA & batch4\\_19Aug2019/mixcr/clones/CLONES\\_TRBCHP\\_323-03-PBMC-DNA.txt              & PBMC & CHP & 1.576595\\\\\n",
       "\t322 & CHP\\_323\\_05 & CHP\\_323 & X05 & 0.0 & 979.50 &  1 & HR ALL & 0.0 & 0 & NA & ... &  85.174 & 2.255 &  32.669 &  33.190 & 2.327 & CHP\\_323-05-PBMC-DNA & batch7\\_25Oct2019/mixcr/clones/CLONES\\_TRBCHP\\_323-05-PBMC-DNA.txt              & PBMC & CHP & 1.912504\\\\\n",
       "\t327 & CHP\\_324\\_05 & CHP\\_324 & X05 & 0.0 &   0.00 & 12 & T-ALL  & 0.0 & 0 & NA & ... & 130.246 & 0.574 &  79.994 &  80.126 & 0.912 & CHP\\_324-05\\_PBMC-DNA & remaining\\_batch\\_2\\_22April2021/mixcr/clones/CLONES\\_TRBCHP\\_324-05\\_PBMC-DNA.txt & PBMC & CHP & 2.113673\\\\\n",
       "\t346 & CHP\\_328\\_04 & CHP\\_328 & X04 & 0.0 & 130.82 &  7 & SR ALL & 0.0 & 0 & NA & ... & 224.003 & 0.477 & 133.121 & 133.198 & 0.669 & CHP-328-04-PBMC-DNA & remaining\\_batch\\_4\\_28June2021/mixcr/clones/CLONES\\_TRBCHP-328-04-PBMC-DNA.txt  & PBMC & CHP & 2.349757\\\\\n",
       "\t347 & CHP\\_328\\_05 & CHP\\_328 & X05 & 0.0 &  91.16 &  7 & SR ALL & 0.0 & 0 & NA & ... &  87.712 & 0.563 &  62.759 &  62.967 & 0.625 & CHP-328-05-PBMC-DNA & remaining\\_batch\\_4\\_28June2021/mixcr/clones/CLONES\\_TRBCHP-328-05-PBMC-DNA.txt  & PBMC & CHP & 1.941119\\\\\n",
       "\\end{tabular}\n"
      ],
      "text/markdown": [
       "\n",
       "A data.frame: 6 x 66\n",
       "\n",
       "| <!--/--> | sample_id &lt;chr&gt; | Patient &lt;chr&gt; | cycle &lt;chr&gt; | FOLD &lt;dbl&gt; | ATC &lt;dbl&gt; | Age &lt;dbl&gt; | Disease_type &lt;chr&gt; | TE_fold &lt;dbl&gt; | CD3 &lt;int&gt; | EM &lt;int&gt; | ... ... | estimated_Shannon &lt;dbl&gt; | SE_Shannon &lt;dbl&gt; | observed_Simpson &lt;dbl&gt; | estimated_Simpson &lt;dbl&gt; | SE_Simpson &lt;dbl&gt; | basename &lt;chr&gt; | file &lt;chr&gt; | sampletype &lt;chr&gt; | Group &lt;chr&gt; | log10shann &lt;dbl&gt; |\n",
       "|---|---|---|---|---|---|---|---|---|---|---|---|---|---|---|---|---|---|---|---|---|---|\n",
       "| 302 | CHP_319_05 | CHP_319 | X05 | 1.2 |   0.00 |  1 | HR ALL | 1.2 | 0 | NA | ... |  13.439 | 1.217 |  10.248 |  11.626 | 1.269 | CHP_319-05-PBMC-DNA | batch2_Aug62019/mixcr/clones/CLONES_TRBCHP_319-05-PBMC-DNA.txt               | PBMC | CHP | 1.074743 |\n",
       "| 320 | CHP_323_03 | CHP_323 | X03 | 0.0 | 786.24 |  1 | HR ALL | 0.0 | 0 | NA | ... |  37.986 | 0.367 |  33.204 |  33.544 | 0.638 | CHP_323-03-PBMC-DNA | batch4_19Aug2019/mixcr/clones/CLONES_TRBCHP_323-03-PBMC-DNA.txt              | PBMC | CHP | 1.576595 |\n",
       "| 322 | CHP_323_05 | CHP_323 | X05 | 0.0 | 979.50 |  1 | HR ALL | 0.0 | 0 | NA | ... |  85.174 | 2.255 |  32.669 |  33.190 | 2.327 | CHP_323-05-PBMC-DNA | batch7_25Oct2019/mixcr/clones/CLONES_TRBCHP_323-05-PBMC-DNA.txt              | PBMC | CHP | 1.912504 |\n",
       "| 327 | CHP_324_05 | CHP_324 | X05 | 0.0 |   0.00 | 12 | T-ALL  | 0.0 | 0 | NA | ... | 130.246 | 0.574 |  79.994 |  80.126 | 0.912 | CHP_324-05_PBMC-DNA | remaining_batch_2_22April2021/mixcr/clones/CLONES_TRBCHP_324-05_PBMC-DNA.txt | PBMC | CHP | 2.113673 |\n",
       "| 346 | CHP_328_04 | CHP_328 | X04 | 0.0 | 130.82 |  7 | SR ALL | 0.0 | 0 | NA | ... | 224.003 | 0.477 | 133.121 | 133.198 | 0.669 | CHP-328-04-PBMC-DNA | remaining_batch_4_28June2021/mixcr/clones/CLONES_TRBCHP-328-04-PBMC-DNA.txt  | PBMC | CHP | 2.349757 |\n",
       "| 347 | CHP_328_05 | CHP_328 | X05 | 0.0 |  91.16 |  7 | SR ALL | 0.0 | 0 | NA | ... |  87.712 | 0.563 |  62.759 |  62.967 | 0.625 | CHP-328-05-PBMC-DNA | remaining_batch_4_28June2021/mixcr/clones/CLONES_TRBCHP-328-05-PBMC-DNA.txt  | PBMC | CHP | 1.941119 |\n",
       "\n"
      ],
      "text/plain": [
       "    sample_id  Patient cycle FOLD ATC    Age Disease_type TE_fold CD3 EM ...\n",
       "302 CHP_319_05 CHP_319 X05   1.2    0.00  1  HR ALL       1.2     0   NA ...\n",
       "320 CHP_323_03 CHP_323 X03   0.0  786.24  1  HR ALL       0.0     0   NA ...\n",
       "322 CHP_323_05 CHP_323 X05   0.0  979.50  1  HR ALL       0.0     0   NA ...\n",
       "327 CHP_324_05 CHP_324 X05   0.0    0.00 12  T-ALL        0.0     0   NA ...\n",
       "346 CHP_328_04 CHP_328 X04   0.0  130.82  7  SR ALL       0.0     0   NA ...\n",
       "347 CHP_328_05 CHP_328 X05   0.0   91.16  7  SR ALL       0.0     0   NA ...\n",
       "    estimated_Shannon SE_Shannon observed_Simpson estimated_Simpson SE_Simpson\n",
       "302  13.439           1.217       10.248           11.626           1.269     \n",
       "320  37.986           0.367       33.204           33.544           0.638     \n",
       "322  85.174           2.255       32.669           33.190           2.327     \n",
       "327 130.246           0.574       79.994           80.126           0.912     \n",
       "346 224.003           0.477      133.121          133.198           0.669     \n",
       "347  87.712           0.563       62.759           62.967           0.625     \n",
       "    basename           \n",
       "302 CHP_319-05-PBMC-DNA\n",
       "320 CHP_323-03-PBMC-DNA\n",
       "322 CHP_323-05-PBMC-DNA\n",
       "327 CHP_324-05_PBMC-DNA\n",
       "346 CHP-328-04-PBMC-DNA\n",
       "347 CHP-328-05-PBMC-DNA\n",
       "    file                                                                        \n",
       "302 batch2_Aug62019/mixcr/clones/CLONES_TRBCHP_319-05-PBMC-DNA.txt              \n",
       "320 batch4_19Aug2019/mixcr/clones/CLONES_TRBCHP_323-03-PBMC-DNA.txt             \n",
       "322 batch7_25Oct2019/mixcr/clones/CLONES_TRBCHP_323-05-PBMC-DNA.txt             \n",
       "327 remaining_batch_2_22April2021/mixcr/clones/CLONES_TRBCHP_324-05_PBMC-DNA.txt\n",
       "346 remaining_batch_4_28June2021/mixcr/clones/CLONES_TRBCHP-328-04-PBMC-DNA.txt \n",
       "347 remaining_batch_4_28June2021/mixcr/clones/CLONES_TRBCHP-328-05-PBMC-DNA.txt \n",
       "    sampletype Group log10shann\n",
       "302 PBMC       CHP   1.074743  \n",
       "320 PBMC       CHP   1.576595  \n",
       "322 PBMC       CHP   1.912504  \n",
       "327 PBMC       CHP   2.113673  \n",
       "346 PBMC       CHP   2.349757  \n",
       "347 PBMC       CHP   1.941119  "
      ]
     },
     "metadata": {},
     "output_type": "display_data"
    }
   ],
   "source": [
    "head(pbmc)"
   ]
  },
  {
   "cell_type": "code",
   "execution_count": 177,
   "metadata": {
    "vscode": {
     "languageId": "r"
    }
   },
   "outputs": [
    {
     "data": {
      "text/html": [
       "<table class=\"dataframe\">\n",
       "<caption>A data.frame: 1 x 66</caption>\n",
       "<thead>\n",
       "\t<tr><th></th><th scope=col>sample_id</th><th scope=col>Patient</th><th scope=col>cycle</th><th scope=col>FOLD</th><th scope=col>ATC</th><th scope=col>Age</th><th scope=col>Disease_type</th><th scope=col>TE_fold</th><th scope=col>CD3</th><th scope=col>EM</th><th scope=col>...</th><th scope=col>estimated_Shannon</th><th scope=col>SE_Shannon</th><th scope=col>observed_Simpson</th><th scope=col>estimated_Simpson</th><th scope=col>SE_Simpson</th><th scope=col>basename</th><th scope=col>file</th><th scope=col>sampletype</th><th scope=col>Group</th><th scope=col>log10shann</th></tr>\n",
       "\t<tr><th></th><th scope=col>&lt;chr&gt;</th><th scope=col>&lt;chr&gt;</th><th scope=col>&lt;chr&gt;</th><th scope=col>&lt;dbl&gt;</th><th scope=col>&lt;dbl&gt;</th><th scope=col>&lt;dbl&gt;</th><th scope=col>&lt;chr&gt;</th><th scope=col>&lt;dbl&gt;</th><th scope=col>&lt;int&gt;</th><th scope=col>&lt;int&gt;</th><th scope=col>...</th><th scope=col>&lt;dbl&gt;</th><th scope=col>&lt;dbl&gt;</th><th scope=col>&lt;dbl&gt;</th><th scope=col>&lt;dbl&gt;</th><th scope=col>&lt;dbl&gt;</th><th scope=col>&lt;chr&gt;</th><th scope=col>&lt;chr&gt;</th><th scope=col>&lt;chr&gt;</th><th scope=col>&lt;chr&gt;</th><th scope=col>&lt;dbl&gt;</th></tr>\n",
       "</thead>\n",
       "<tbody>\n",
       "\t<tr><th scope=row>548</th><td>CHP_369_01</td><td>CHP_369</td><td>X01</td><td>5.1</td><td>544.44</td><td>0.1</td><td>AML</td><td>5.1</td><td>1591</td><td>4</td><td>...</td><td>388.478</td><td>0.609</td><td>276.619</td><td>276.837</td><td>0.69</td><td>CHP-369-01-PBMC-DNA</td><td>remaining_batch_4_28June2021/mixcr/clones/CLONES_TRBCHP-369-01-PBMC-DNA.txt</td><td>PBMC</td><td>CHP</td><td>2.588846</td></tr>\n",
       "</tbody>\n",
       "</table>\n"
      ],
      "text/latex": [
       "A data.frame: 1 x 66\n",
       "\\begin{tabular}{r|lllllllllllllllllllll}\n",
       "  & sample\\_id & Patient & cycle & FOLD & ATC & Age & Disease\\_type & TE\\_fold & CD3 & EM & ... & estimated\\_Shannon & SE\\_Shannon & observed\\_Simpson & estimated\\_Simpson & SE\\_Simpson & basename & file & sampletype & Group & log10shann\\\\\n",
       "  & <chr> & <chr> & <chr> & <dbl> & <dbl> & <dbl> & <chr> & <dbl> & <int> & <int> & ... & <dbl> & <dbl> & <dbl> & <dbl> & <dbl> & <chr> & <chr> & <chr> & <chr> & <dbl>\\\\\n",
       "\\hline\n",
       "\t548 & CHP\\_369\\_01 & CHP\\_369 & X01 & 5.1 & 544.44 & 0.1 & AML & 5.1 & 1591 & 4 & ... & 388.478 & 0.609 & 276.619 & 276.837 & 0.69 & CHP-369-01-PBMC-DNA & remaining\\_batch\\_4\\_28June2021/mixcr/clones/CLONES\\_TRBCHP-369-01-PBMC-DNA.txt & PBMC & CHP & 2.588846\\\\\n",
       "\\end{tabular}\n"
      ],
      "text/markdown": [
       "\n",
       "A data.frame: 1 x 66\n",
       "\n",
       "| <!--/--> | sample_id &lt;chr&gt; | Patient &lt;chr&gt; | cycle &lt;chr&gt; | FOLD &lt;dbl&gt; | ATC &lt;dbl&gt; | Age &lt;dbl&gt; | Disease_type &lt;chr&gt; | TE_fold &lt;dbl&gt; | CD3 &lt;int&gt; | EM &lt;int&gt; | ... ... | estimated_Shannon &lt;dbl&gt; | SE_Shannon &lt;dbl&gt; | observed_Simpson &lt;dbl&gt; | estimated_Simpson &lt;dbl&gt; | SE_Simpson &lt;dbl&gt; | basename &lt;chr&gt; | file &lt;chr&gt; | sampletype &lt;chr&gt; | Group &lt;chr&gt; | log10shann &lt;dbl&gt; |\n",
       "|---|---|---|---|---|---|---|---|---|---|---|---|---|---|---|---|---|---|---|---|---|---|\n",
       "| 548 | CHP_369_01 | CHP_369 | X01 | 5.1 | 544.44 | 0.1 | AML | 5.1 | 1591 | 4 | ... | 388.478 | 0.609 | 276.619 | 276.837 | 0.69 | CHP-369-01-PBMC-DNA | remaining_batch_4_28June2021/mixcr/clones/CLONES_TRBCHP-369-01-PBMC-DNA.txt | PBMC | CHP | 2.588846 |\n",
       "\n"
      ],
      "text/plain": [
       "    sample_id  Patient cycle FOLD ATC    Age Disease_type TE_fold CD3  EM ...\n",
       "548 CHP_369_01 CHP_369 X01   5.1  544.44 0.1 AML          5.1     1591 4  ...\n",
       "    estimated_Shannon SE_Shannon observed_Simpson estimated_Simpson SE_Simpson\n",
       "548 388.478           0.609      276.619          276.837           0.69      \n",
       "    basename           \n",
       "548 CHP-369-01-PBMC-DNA\n",
       "    file                                                                       \n",
       "548 remaining_batch_4_28June2021/mixcr/clones/CLONES_TRBCHP-369-01-PBMC-DNA.txt\n",
       "    sampletype Group log10shann\n",
       "548 PBMC       CHP   2.588846  "
      ]
     },
     "metadata": {},
     "output_type": "display_data"
    }
   ],
   "source": [
    "pbmc[ pbmc$sample_id == \"CHP_369_01\",]"
   ]
  },
  {
   "cell_type": "code",
   "execution_count": 50,
   "metadata": {
    "vscode": {
     "languageId": "r"
    }
   },
   "outputs": [],
   "source": [
    "readr::write_rds(pbmc_hla_v_j_gliph, paste0(datapath, \"/int_pbmc_hla_v_j_gliph.rds\"))"
   ]
  },
  {
   "cell_type": "code",
   "execution_count": 178,
   "metadata": {
    "vscode": {
     "languageId": "r"
    }
   },
   "outputs": [
    {
     "data": {
      "text/html": [
       "<style>\n",
       ".list-inline {list-style: none; margin:0; padding: 0}\n",
       ".list-inline>li {display: inline-block}\n",
       ".list-inline>li:not(:last-child)::after {content: \"\\00b7\"; padding: 0 .5ex}\n",
       "</style>\n",
       "<ol class=list-inline><li>'addjurkat.fx'</li><li>'age_pal'</li><li>'align_plots1'</li><li>'cfdna'</li><li>'cohort_col'</li><li>'cycle_col'</li><li>'datapath'</li><li>'gitpath'</li><li>'gliph_chp_pbmc'</li><li>'gliph_out'</li><li>'gliph_sample_clonecount'</li><li>'gliph_sample_clonecount_wide'</li><li>'group_col'</li><li>'h4hpath'</li><li>'histdenp'</li><li>'histp'</li><li>'hlas'</li><li>'j_mat'</li><li>'manifestpath'</li><li>'matched_indices'</li><li>'message_parallel'</li><li>'meta_div'</li><li>'myaxis'</li><li>'myplot'</li><li>'mytab'</li><li>'pbmc'</li><li>'pbmc_hla'</li><li>'pbmc_hla_v'</li><li>'pbmc_hla_v_j'</li><li>'pbmc_hla_v_j_gliph'</li><li>'plotpath'</li><li>'round_and_format'</li><li>'safe_mclapply'</li><li>'sampletags_columns'</li><li>'text_matrix'</li><li>'tmp'</li><li>'toString_onefle.fx'</li><li>'type_col'</li><li>'v_mat'</li></ol>\n"
      ],
      "text/latex": [
       "\\begin{enumerate*}\n",
       "\\item 'addjurkat.fx'\n",
       "\\item 'age\\_pal'\n",
       "\\item 'align\\_plots1'\n",
       "\\item 'cfdna'\n",
       "\\item 'cohort\\_col'\n",
       "\\item 'cycle\\_col'\n",
       "\\item 'datapath'\n",
       "\\item 'gitpath'\n",
       "\\item 'gliph\\_chp\\_pbmc'\n",
       "\\item 'gliph\\_out'\n",
       "\\item 'gliph\\_sample\\_clonecount'\n",
       "\\item 'gliph\\_sample\\_clonecount\\_wide'\n",
       "\\item 'group\\_col'\n",
       "\\item 'h4hpath'\n",
       "\\item 'histdenp'\n",
       "\\item 'histp'\n",
       "\\item 'hlas'\n",
       "\\item 'j\\_mat'\n",
       "\\item 'manifestpath'\n",
       "\\item 'matched\\_indices'\n",
       "\\item 'message\\_parallel'\n",
       "\\item 'meta\\_div'\n",
       "\\item 'myaxis'\n",
       "\\item 'myplot'\n",
       "\\item 'mytab'\n",
       "\\item 'pbmc'\n",
       "\\item 'pbmc\\_hla'\n",
       "\\item 'pbmc\\_hla\\_v'\n",
       "\\item 'pbmc\\_hla\\_v\\_j'\n",
       "\\item 'pbmc\\_hla\\_v\\_j\\_gliph'\n",
       "\\item 'plotpath'\n",
       "\\item 'round\\_and\\_format'\n",
       "\\item 'safe\\_mclapply'\n",
       "\\item 'sampletags\\_columns'\n",
       "\\item 'text\\_matrix'\n",
       "\\item 'tmp'\n",
       "\\item 'toString\\_onefle.fx'\n",
       "\\item 'type\\_col'\n",
       "\\item 'v\\_mat'\n",
       "\\end{enumerate*}\n"
      ],
      "text/markdown": [
       "1. 'addjurkat.fx'\n",
       "2. 'age_pal'\n",
       "3. 'align_plots1'\n",
       "4. 'cfdna'\n",
       "5. 'cohort_col'\n",
       "6. 'cycle_col'\n",
       "7. 'datapath'\n",
       "8. 'gitpath'\n",
       "9. 'gliph_chp_pbmc'\n",
       "10. 'gliph_out'\n",
       "11. 'gliph_sample_clonecount'\n",
       "12. 'gliph_sample_clonecount_wide'\n",
       "13. 'group_col'\n",
       "14. 'h4hpath'\n",
       "15. 'histdenp'\n",
       "16. 'histp'\n",
       "17. 'hlas'\n",
       "18. 'j_mat'\n",
       "19. 'manifestpath'\n",
       "20. 'matched_indices'\n",
       "21. 'message_parallel'\n",
       "22. 'meta_div'\n",
       "23. 'myaxis'\n",
       "24. 'myplot'\n",
       "25. 'mytab'\n",
       "26. 'pbmc'\n",
       "27. 'pbmc_hla'\n",
       "28. 'pbmc_hla_v'\n",
       "29. 'pbmc_hla_v_j'\n",
       "30. 'pbmc_hla_v_j_gliph'\n",
       "31. 'plotpath'\n",
       "32. 'round_and_format'\n",
       "33. 'safe_mclapply'\n",
       "34. 'sampletags_columns'\n",
       "35. 'text_matrix'\n",
       "36. 'tmp'\n",
       "37. 'toString_onefle.fx'\n",
       "38. 'type_col'\n",
       "39. 'v_mat'\n",
       "\n",
       "\n"
      ],
      "text/plain": [
       " [1] \"addjurkat.fx\"                 \"age_pal\"                     \n",
       " [3] \"align_plots1\"                 \"cfdna\"                       \n",
       " [5] \"cohort_col\"                   \"cycle_col\"                   \n",
       " [7] \"datapath\"                     \"gitpath\"                     \n",
       " [9] \"gliph_chp_pbmc\"               \"gliph_out\"                   \n",
       "[11] \"gliph_sample_clonecount\"      \"gliph_sample_clonecount_wide\"\n",
       "[13] \"group_col\"                    \"h4hpath\"                     \n",
       "[15] \"histdenp\"                     \"histp\"                       \n",
       "[17] \"hlas\"                         \"j_mat\"                       \n",
       "[19] \"manifestpath\"                 \"matched_indices\"             \n",
       "[21] \"message_parallel\"             \"meta_div\"                    \n",
       "[23] \"myaxis\"                       \"myplot\"                      \n",
       "[25] \"mytab\"                        \"pbmc\"                        \n",
       "[27] \"pbmc_hla\"                     \"pbmc_hla_v\"                  \n",
       "[29] \"pbmc_hla_v_j\"                 \"pbmc_hla_v_j_gliph\"          \n",
       "[31] \"plotpath\"                     \"round_and_format\"            \n",
       "[33] \"safe_mclapply\"                \"sampletags_columns\"          \n",
       "[35] \"text_matrix\"                  \"tmp\"                         \n",
       "[37] \"toString_onefle.fx\"           \"type_col\"                    \n",
       "[39] \"v_mat\"                       "
      ]
     },
     "metadata": {},
     "output_type": "display_data"
    }
   ],
   "source": [
    "ls()"
   ]
  },
  {
   "cell_type": "code",
   "execution_count": null,
   "metadata": {
    "vscode": {
     "languageId": "r"
    }
   },
   "outputs": [],
   "source": [
    "SLE%NTE"
   ]
  },
  {
   "cell_type": "code",
   "execution_count": 186,
   "metadata": {
    "vscode": {
     "languageId": "r"
    }
   },
   "outputs": [
    {
     "data": {
      "text/html": [
       "<table class=\"dataframe\">\n",
       "<caption>A tibble: 2 x 18</caption>\n",
       "<thead>\n",
       "\t<tr><th scope=col>index</th><th scope=col>pattern</th><th scope=col>Fisher_score</th><th scope=col>number_subject</th><th scope=col>number_unique_cdr3</th><th scope=col>final_score</th><th scope=col>hla_score</th><th scope=col>vb_score</th><th scope=col>expansion_score</th><th scope=col>length_score</th><th scope=col>cluster_size_score</th><th scope=col>type</th><th scope=col>TcRb</th><th scope=col>V</th><th scope=col>J</th><th scope=col>TcRa</th><th scope=col>Sample</th><th scope=col>Freq</th></tr>\n",
       "\t<tr><th scope=col>&lt;dbl&gt;</th><th scope=col>&lt;chr&gt;</th><th scope=col>&lt;dbl&gt;</th><th scope=col>&lt;dbl&gt;</th><th scope=col>&lt;dbl&gt;</th><th scope=col>&lt;dbl&gt;</th><th scope=col>&lt;dbl&gt;</th><th scope=col>&lt;dbl&gt;</th><th scope=col>&lt;dbl&gt;</th><th scope=col>&lt;dbl&gt;</th><th scope=col>&lt;dbl&gt;</th><th scope=col>&lt;chr&gt;</th><th scope=col>&lt;chr&gt;</th><th scope=col>&lt;chr&gt;</th><th scope=col>&lt;chr&gt;</th><th scope=col>&lt;lgl&gt;</th><th scope=col>&lt;chr&gt;</th><th scope=col>&lt;dbl&gt;</th></tr>\n",
       "</thead>\n",
       "<tbody>\n",
       "\t<tr><td>1443</td><td>SLE%NTE</td><td>5.9e-08</td><td>3</td><td>7</td><td>9.2e-10</td><td>1</td><td>0.27</td><td>0.004</td><td>0.001</td><td>0.00086</td><td>global-SLE%NTE</td><td>CASSLEVNTEAFF</td><td>TRBV7-9</td><td>TRBJ1-1</td><td>NA</td><td>Leukemia:CHP_369_X01-PBMC</td><td>2305</td></tr>\n",
       "\t<tr><td>1443</td><td>SLE%NTE</td><td>5.9e-08</td><td>3</td><td>7</td><td>9.2e-10</td><td>1</td><td>0.27</td><td>0.004</td><td>0.001</td><td>0.00086</td><td>global-SLE%NTE</td><td>CASSLEQNTEAFF</td><td>TRBV5-1</td><td>TRBJ1-1</td><td>NA</td><td>Leukemia:CHP_369_X01-PBMC</td><td>3000</td></tr>\n",
       "</tbody>\n",
       "</table>\n"
      ],
      "text/latex": [
       "A tibble: 2 x 18\n",
       "\\begin{tabular}{llllllllllllllllll}\n",
       " index & pattern & Fisher\\_score & number\\_subject & number\\_unique\\_cdr3 & final\\_score & hla\\_score & vb\\_score & expansion\\_score & length\\_score & cluster\\_size\\_score & type & TcRb & V & J & TcRa & Sample & Freq\\\\\n",
       " <dbl> & <chr> & <dbl> & <dbl> & <dbl> & <dbl> & <dbl> & <dbl> & <dbl> & <dbl> & <dbl> & <chr> & <chr> & <chr> & <chr> & <lgl> & <chr> & <dbl>\\\\\n",
       "\\hline\n",
       "\t 1443 & SLE\\%NTE & 5.9e-08 & 3 & 7 & 9.2e-10 & 1 & 0.27 & 0.004 & 0.001 & 0.00086 & global-SLE\\%NTE & CASSLEVNTEAFF & TRBV7-9 & TRBJ1-1 & NA & Leukemia:CHP\\_369\\_X01-PBMC & 2305\\\\\n",
       "\t 1443 & SLE\\%NTE & 5.9e-08 & 3 & 7 & 9.2e-10 & 1 & 0.27 & 0.004 & 0.001 & 0.00086 & global-SLE\\%NTE & CASSLEQNTEAFF & TRBV5-1 & TRBJ1-1 & NA & Leukemia:CHP\\_369\\_X01-PBMC & 3000\\\\\n",
       "\\end{tabular}\n"
      ],
      "text/markdown": [
       "\n",
       "A tibble: 2 x 18\n",
       "\n",
       "| index &lt;dbl&gt; | pattern &lt;chr&gt; | Fisher_score &lt;dbl&gt; | number_subject &lt;dbl&gt; | number_unique_cdr3 &lt;dbl&gt; | final_score &lt;dbl&gt; | hla_score &lt;dbl&gt; | vb_score &lt;dbl&gt; | expansion_score &lt;dbl&gt; | length_score &lt;dbl&gt; | cluster_size_score &lt;dbl&gt; | type &lt;chr&gt; | TcRb &lt;chr&gt; | V &lt;chr&gt; | J &lt;chr&gt; | TcRa &lt;lgl&gt; | Sample &lt;chr&gt; | Freq &lt;dbl&gt; |\n",
       "|---|---|---|---|---|---|---|---|---|---|---|---|---|---|---|---|---|---|\n",
       "| 1443 | SLE%NTE | 5.9e-08 | 3 | 7 | 9.2e-10 | 1 | 0.27 | 0.004 | 0.001 | 0.00086 | global-SLE%NTE | CASSLEVNTEAFF | TRBV7-9 | TRBJ1-1 | NA | Leukemia:CHP_369_X01-PBMC | 2305 |\n",
       "| 1443 | SLE%NTE | 5.9e-08 | 3 | 7 | 9.2e-10 | 1 | 0.27 | 0.004 | 0.001 | 0.00086 | global-SLE%NTE | CASSLEQNTEAFF | TRBV5-1 | TRBJ1-1 | NA | Leukemia:CHP_369_X01-PBMC | 3000 |\n",
       "\n"
      ],
      "text/plain": [
       "  index pattern Fisher_score number_subject number_unique_cdr3 final_score\n",
       "1 1443  SLE%NTE 5.9e-08      3              7                  9.2e-10    \n",
       "2 1443  SLE%NTE 5.9e-08      3              7                  9.2e-10    \n",
       "  hla_score vb_score expansion_score length_score cluster_size_score\n",
       "1 1         0.27     0.004           0.001        0.00086           \n",
       "2 1         0.27     0.004           0.001        0.00086           \n",
       "  type           TcRb          V       J       TcRa Sample                   \n",
       "1 global-SLE%NTE CASSLEVNTEAFF TRBV7-9 TRBJ1-1 NA   Leukemia:CHP_369_X01-PBMC\n",
       "2 global-SLE%NTE CASSLEQNTEAFF TRBV5-1 TRBJ1-1 NA   Leukemia:CHP_369_X01-PBMC\n",
       "  Freq\n",
       "1 2305\n",
       "2 3000"
      ]
     },
     "metadata": {},
     "output_type": "display_data"
    }
   ],
   "source": [
    "(gliph_out[ grepl(\"369_X01\", gliph_out$Sample) & gliph_out$pattern== \"SLE%NTE\", ])"
   ]
  },
  {
   "cell_type": "markdown",
   "metadata": {
    "vscode": {
     "languageId": "r"
    }
   },
   "source": [
    "# cfDNA"
   ]
  },
  {
   "cell_type": "markdown",
   "metadata": {},
   "source": [
    "V gene"
   ]
  },
  {
   "cell_type": "code",
   "execution_count": 124,
   "metadata": {
    "vscode": {
     "languageId": "r"
    }
   },
   "outputs": [],
   "source": [
    "v_cfdna_pca <- readr::read_rds(paste0(datapath, \"/capTCRseq/INT_cfDNA_V_PCA_postqc.rds\"))"
   ]
  },
  {
   "cell_type": "code",
   "execution_count": 125,
   "metadata": {
    "vscode": {
     "languageId": "r"
    }
   },
   "outputs": [],
   "source": [
    "cfdna$V_PC1 <- v_cfdna_pca[ match(cfdna$basename,  rownames(v_cfdna_pca)) , \"PC1\"]\n",
    "cfdna$V_PC2 <- v_cfdna_pca[ match(cfdna$basename,  rownames(v_cfdna_pca)) , \"PC2\"]\n",
    "cfdna$V_PC3 <- v_cfdna_pca[ match(cfdna$basename,  rownames(v_cfdna_pca)) , \"PC3\"]"
   ]
  },
  {
   "cell_type": "code",
   "execution_count": 126,
   "metadata": {
    "vscode": {
     "languageId": "r"
    }
   },
   "outputs": [
    {
     "data": {
      "text/html": [
       "<table class=\"dataframe\">\n",
       "<caption>A data.frame: 6 x 71</caption>\n",
       "<thead>\n",
       "\t<tr><th></th><th scope=col>sample_id</th><th scope=col>Patient</th><th scope=col>cycle</th><th scope=col>FOLD</th><th scope=col>ATC</th><th scope=col>Age</th><th scope=col>Disease_type</th><th scope=col>TE_fold</th><th scope=col>CD3</th><th scope=col>EM</th><th scope=col>...</th><th scope=col>basename</th><th scope=col>file</th><th scope=col>sampletype</th><th scope=col>Group</th><th scope=col>log10shann</th><th scope=col>aveTiRP</th><th scope=col>medTiRP</th><th scope=col>V_PC1</th><th scope=col>V_PC2</th><th scope=col>V_PC3</th></tr>\n",
       "\t<tr><th></th><th scope=col>&lt;chr&gt;</th><th scope=col>&lt;chr&gt;</th><th scope=col>&lt;chr&gt;</th><th scope=col>&lt;dbl&gt;</th><th scope=col>&lt;dbl&gt;</th><th scope=col>&lt;dbl&gt;</th><th scope=col>&lt;chr&gt;</th><th scope=col>&lt;dbl&gt;</th><th scope=col>&lt;int&gt;</th><th scope=col>&lt;int&gt;</th><th scope=col>...</th><th scope=col>&lt;chr&gt;</th><th scope=col>&lt;chr&gt;</th><th scope=col>&lt;chr&gt;</th><th scope=col>&lt;chr&gt;</th><th scope=col>&lt;dbl&gt;</th><th scope=col>&lt;dbl&gt;</th><th scope=col>&lt;dbl&gt;</th><th scope=col>&lt;dbl&gt;</th><th scope=col>&lt;dbl&gt;</th><th scope=col>&lt;dbl&gt;</th></tr>\n",
       "</thead>\n",
       "<tbody>\n",
       "\t<tr><th scope=row>1</th><td>CHP_323_03</td><td>CHP_323</td><td>X03</td><td>0</td><td>786.24</td><td> 1</td><td>HR ALL</td><td>0</td><td>0</td><td>NA</td><td>...</td><td>CHP_323-03_cfDNA</td><td>batch3a9_cfDNA_10Jul2020/mixcr/clones/CLONES_TRBCHP_323-03_cfDNA.txt          </td><td>cfDNA</td><td>CHP</td><td>1.6377198</td><td> 0.04826843</td><td> 0.1393051</td><td>15.83866850</td><td> 7.9531074</td><td> 9.4381691</td></tr>\n",
       "\t<tr><th scope=row>2</th><td>CHP_323_05</td><td>CHP_323</td><td>X05</td><td>0</td><td>979.50</td><td> 1</td><td>HR ALL</td><td>0</td><td>0</td><td>NA</td><td>...</td><td>CHP_323-05_cfDNA</td><td>remaining_batch_1_cfDNA_8April2021/mixcr/clones/CLONES_TRBCHP_323-05_cfDNA.txt</td><td>cfDNA</td><td>CHP</td><td>0.9380692</td><td> 0.25983842</td><td> 0.5856662</td><td> 0.03694791</td><td> 0.2037428</td><td> 0.9895571</td></tr>\n",
       "\t<tr><th scope=row>3</th><td>CHP_324_04</td><td>CHP_324</td><td>X04</td><td>0</td><td>  0.00</td><td>12</td><td>T-ALL </td><td>0</td><td>0</td><td>NA</td><td>...</td><td>CHP_324-04_cfDNA</td><td>batch5_cfDNA_25Jun2020/mixcr/clones/CLONES_TRBCHP_324-04_cfDNA.txt            </td><td>cfDNA</td><td>CHP</td><td>0.0000000</td><td>-0.85235289</td><td>-0.8523529</td><td>-2.42588499</td><td>-0.2790740</td><td> 0.1117550</td></tr>\n",
       "\t<tr><th scope=row>4</th><td>CHP_324_05</td><td>CHP_324</td><td>X05</td><td>0</td><td>  0.00</td><td>12</td><td>T-ALL </td><td>0</td><td>0</td><td>NA</td><td>...</td><td>CHP_324-05_cfDNA</td><td>batch10_cfDNA_13Jul2020/mixcr/clones/CLONES_TRBCHP_324-05_cfDNA.txt           </td><td>cfDNA</td><td>CHP</td><td>0.2491984</td><td>-1.17906074</td><td>-1.1790607</td><td>-2.20171492</td><td>-0.2392266</td><td> 0.1373460</td></tr>\n",
       "\t<tr><th scope=row>5</th><td>CHP_326_05</td><td>CHP_326</td><td>X05</td><td>0</td><td>972.90</td><td> 4</td><td>SR ALL</td><td>0</td><td>0</td><td>NA</td><td>...</td><td>CHP_326-05_cfDNA</td><td>batch10_cfDNA_13Jul2020/mixcr/clones/CLONES_TRBCHP_326-05_cfDNA.txt           </td><td>cfDNA</td><td>CHP</td><td>1.2165354</td><td> 0.08628995</td><td> 0.2607004</td><td> 1.53369308</td><td> 0.6800554</td><td>-0.7668898</td></tr>\n",
       "\t<tr><th scope=row>6</th><td>CHP_328_05</td><td>CHP_328</td><td>X05</td><td>0</td><td> 91.16</td><td> 7</td><td>SR ALL</td><td>0</td><td>0</td><td>NA</td><td>...</td><td>CHP_328-05_cfDNA</td><td>batch10_cfDNA_13Jul2020/mixcr/clones/CLONES_TRBCHP_328-05_cfDNA.txt           </td><td>cfDNA</td><td>CHP</td><td>0.4864305</td><td>         NA</td><td>        NA</td><td>-1.73881538</td><td>-0.8087552</td><td>-0.8391630</td></tr>\n",
       "</tbody>\n",
       "</table>\n"
      ],
      "text/latex": [
       "A data.frame: 6 x 71\n",
       "\\begin{tabular}{r|lllllllllllllllllllll}\n",
       "  & sample\\_id & Patient & cycle & FOLD & ATC & Age & Disease\\_type & TE\\_fold & CD3 & EM & ... & basename & file & sampletype & Group & log10shann & aveTiRP & medTiRP & V\\_PC1 & V\\_PC2 & V\\_PC3\\\\\n",
       "  & <chr> & <chr> & <chr> & <dbl> & <dbl> & <dbl> & <chr> & <dbl> & <int> & <int> & ... & <chr> & <chr> & <chr> & <chr> & <dbl> & <dbl> & <dbl> & <dbl> & <dbl> & <dbl>\\\\\n",
       "\\hline\n",
       "\t1 & CHP\\_323\\_03 & CHP\\_323 & X03 & 0 & 786.24 &  1 & HR ALL & 0 & 0 & NA & ... & CHP\\_323-03\\_cfDNA & batch3a9\\_cfDNA\\_10Jul2020/mixcr/clones/CLONES\\_TRBCHP\\_323-03\\_cfDNA.txt           & cfDNA & CHP & 1.6377198 &  0.04826843 &  0.1393051 & 15.83866850 &  7.9531074 &  9.4381691\\\\\n",
       "\t2 & CHP\\_323\\_05 & CHP\\_323 & X05 & 0 & 979.50 &  1 & HR ALL & 0 & 0 & NA & ... & CHP\\_323-05\\_cfDNA & remaining\\_batch\\_1\\_cfDNA\\_8April2021/mixcr/clones/CLONES\\_TRBCHP\\_323-05\\_cfDNA.txt & cfDNA & CHP & 0.9380692 &  0.25983842 &  0.5856662 &  0.03694791 &  0.2037428 &  0.9895571\\\\\n",
       "\t3 & CHP\\_324\\_04 & CHP\\_324 & X04 & 0 &   0.00 & 12 & T-ALL  & 0 & 0 & NA & ... & CHP\\_324-04\\_cfDNA & batch5\\_cfDNA\\_25Jun2020/mixcr/clones/CLONES\\_TRBCHP\\_324-04\\_cfDNA.txt             & cfDNA & CHP & 0.0000000 & -0.85235289 & -0.8523529 & -2.42588499 & -0.2790740 &  0.1117550\\\\\n",
       "\t4 & CHP\\_324\\_05 & CHP\\_324 & X05 & 0 &   0.00 & 12 & T-ALL  & 0 & 0 & NA & ... & CHP\\_324-05\\_cfDNA & batch10\\_cfDNA\\_13Jul2020/mixcr/clones/CLONES\\_TRBCHP\\_324-05\\_cfDNA.txt            & cfDNA & CHP & 0.2491984 & -1.17906074 & -1.1790607 & -2.20171492 & -0.2392266 &  0.1373460\\\\\n",
       "\t5 & CHP\\_326\\_05 & CHP\\_326 & X05 & 0 & 972.90 &  4 & SR ALL & 0 & 0 & NA & ... & CHP\\_326-05\\_cfDNA & batch10\\_cfDNA\\_13Jul2020/mixcr/clones/CLONES\\_TRBCHP\\_326-05\\_cfDNA.txt            & cfDNA & CHP & 1.2165354 &  0.08628995 &  0.2607004 &  1.53369308 &  0.6800554 & -0.7668898\\\\\n",
       "\t6 & CHP\\_328\\_05 & CHP\\_328 & X05 & 0 &  91.16 &  7 & SR ALL & 0 & 0 & NA & ... & CHP\\_328-05\\_cfDNA & batch10\\_cfDNA\\_13Jul2020/mixcr/clones/CLONES\\_TRBCHP\\_328-05\\_cfDNA.txt            & cfDNA & CHP & 0.4864305 &          NA &         NA & -1.73881538 & -0.8087552 & -0.8391630\\\\\n",
       "\\end{tabular}\n"
      ],
      "text/markdown": [
       "\n",
       "A data.frame: 6 x 71\n",
       "\n",
       "| <!--/--> | sample_id &lt;chr&gt; | Patient &lt;chr&gt; | cycle &lt;chr&gt; | FOLD &lt;dbl&gt; | ATC &lt;dbl&gt; | Age &lt;dbl&gt; | Disease_type &lt;chr&gt; | TE_fold &lt;dbl&gt; | CD3 &lt;int&gt; | EM &lt;int&gt; | ... ... | basename &lt;chr&gt; | file &lt;chr&gt; | sampletype &lt;chr&gt; | Group &lt;chr&gt; | log10shann &lt;dbl&gt; | aveTiRP &lt;dbl&gt; | medTiRP &lt;dbl&gt; | V_PC1 &lt;dbl&gt; | V_PC2 &lt;dbl&gt; | V_PC3 &lt;dbl&gt; |\n",
       "|---|---|---|---|---|---|---|---|---|---|---|---|---|---|---|---|---|---|---|---|---|---|\n",
       "| 1 | CHP_323_03 | CHP_323 | X03 | 0 | 786.24 |  1 | HR ALL | 0 | 0 | NA | ... | CHP_323-03_cfDNA | batch3a9_cfDNA_10Jul2020/mixcr/clones/CLONES_TRBCHP_323-03_cfDNA.txt           | cfDNA | CHP | 1.6377198 |  0.04826843 |  0.1393051 | 15.83866850 |  7.9531074 |  9.4381691 |\n",
       "| 2 | CHP_323_05 | CHP_323 | X05 | 0 | 979.50 |  1 | HR ALL | 0 | 0 | NA | ... | CHP_323-05_cfDNA | remaining_batch_1_cfDNA_8April2021/mixcr/clones/CLONES_TRBCHP_323-05_cfDNA.txt | cfDNA | CHP | 0.9380692 |  0.25983842 |  0.5856662 |  0.03694791 |  0.2037428 |  0.9895571 |\n",
       "| 3 | CHP_324_04 | CHP_324 | X04 | 0 |   0.00 | 12 | T-ALL  | 0 | 0 | NA | ... | CHP_324-04_cfDNA | batch5_cfDNA_25Jun2020/mixcr/clones/CLONES_TRBCHP_324-04_cfDNA.txt             | cfDNA | CHP | 0.0000000 | -0.85235289 | -0.8523529 | -2.42588499 | -0.2790740 |  0.1117550 |\n",
       "| 4 | CHP_324_05 | CHP_324 | X05 | 0 |   0.00 | 12 | T-ALL  | 0 | 0 | NA | ... | CHP_324-05_cfDNA | batch10_cfDNA_13Jul2020/mixcr/clones/CLONES_TRBCHP_324-05_cfDNA.txt            | cfDNA | CHP | 0.2491984 | -1.17906074 | -1.1790607 | -2.20171492 | -0.2392266 |  0.1373460 |\n",
       "| 5 | CHP_326_05 | CHP_326 | X05 | 0 | 972.90 |  4 | SR ALL | 0 | 0 | NA | ... | CHP_326-05_cfDNA | batch10_cfDNA_13Jul2020/mixcr/clones/CLONES_TRBCHP_326-05_cfDNA.txt            | cfDNA | CHP | 1.2165354 |  0.08628995 |  0.2607004 |  1.53369308 |  0.6800554 | -0.7668898 |\n",
       "| 6 | CHP_328_05 | CHP_328 | X05 | 0 |  91.16 |  7 | SR ALL | 0 | 0 | NA | ... | CHP_328-05_cfDNA | batch10_cfDNA_13Jul2020/mixcr/clones/CLONES_TRBCHP_328-05_cfDNA.txt            | cfDNA | CHP | 0.4864305 |          NA |         NA | -1.73881538 | -0.8087552 | -0.8391630 |\n",
       "\n"
      ],
      "text/plain": [
       "  sample_id  Patient cycle FOLD ATC    Age Disease_type TE_fold CD3 EM ...\n",
       "1 CHP_323_03 CHP_323 X03   0    786.24  1  HR ALL       0       0   NA ...\n",
       "2 CHP_323_05 CHP_323 X05   0    979.50  1  HR ALL       0       0   NA ...\n",
       "3 CHP_324_04 CHP_324 X04   0      0.00 12  T-ALL        0       0   NA ...\n",
       "4 CHP_324_05 CHP_324 X05   0      0.00 12  T-ALL        0       0   NA ...\n",
       "5 CHP_326_05 CHP_326 X05   0    972.90  4  SR ALL       0       0   NA ...\n",
       "6 CHP_328_05 CHP_328 X05   0     91.16  7  SR ALL       0       0   NA ...\n",
       "  basename        \n",
       "1 CHP_323-03_cfDNA\n",
       "2 CHP_323-05_cfDNA\n",
       "3 CHP_324-04_cfDNA\n",
       "4 CHP_324-05_cfDNA\n",
       "5 CHP_326-05_cfDNA\n",
       "6 CHP_328-05_cfDNA\n",
       "  file                                                                          \n",
       "1 batch3a9_cfDNA_10Jul2020/mixcr/clones/CLONES_TRBCHP_323-03_cfDNA.txt          \n",
       "2 remaining_batch_1_cfDNA_8April2021/mixcr/clones/CLONES_TRBCHP_323-05_cfDNA.txt\n",
       "3 batch5_cfDNA_25Jun2020/mixcr/clones/CLONES_TRBCHP_324-04_cfDNA.txt            \n",
       "4 batch10_cfDNA_13Jul2020/mixcr/clones/CLONES_TRBCHP_324-05_cfDNA.txt           \n",
       "5 batch10_cfDNA_13Jul2020/mixcr/clones/CLONES_TRBCHP_326-05_cfDNA.txt           \n",
       "6 batch10_cfDNA_13Jul2020/mixcr/clones/CLONES_TRBCHP_328-05_cfDNA.txt           \n",
       "  sampletype Group log10shann aveTiRP     medTiRP    V_PC1       V_PC2     \n",
       "1 cfDNA      CHP   1.6377198   0.04826843  0.1393051 15.83866850  7.9531074\n",
       "2 cfDNA      CHP   0.9380692   0.25983842  0.5856662  0.03694791  0.2037428\n",
       "3 cfDNA      CHP   0.0000000  -0.85235289 -0.8523529 -2.42588499 -0.2790740\n",
       "4 cfDNA      CHP   0.2491984  -1.17906074 -1.1790607 -2.20171492 -0.2392266\n",
       "5 cfDNA      CHP   1.2165354   0.08628995  0.2607004  1.53369308  0.6800554\n",
       "6 cfDNA      CHP   0.4864305           NA         NA -1.73881538 -0.8087552\n",
       "  V_PC3     \n",
       "1  9.4381691\n",
       "2  0.9895571\n",
       "3  0.1117550\n",
       "4  0.1373460\n",
       "5 -0.7668898\n",
       "6 -0.8391630"
      ]
     },
     "metadata": {},
     "output_type": "display_data"
    }
   ],
   "source": [
    "head(cfdna)"
   ]
  },
  {
   "cell_type": "markdown",
   "metadata": {},
   "source": [
    "J gene"
   ]
  },
  {
   "cell_type": "code",
   "execution_count": 127,
   "metadata": {
    "vscode": {
     "languageId": "r"
    }
   },
   "outputs": [],
   "source": [
    "j_pca <- readr::read_rds(paste0(datapath, \"/capTCRseq/INT_cfDNA_J_PCA_postqc.rds\"))"
   ]
  },
  {
   "cell_type": "code",
   "execution_count": 128,
   "metadata": {
    "vscode": {
     "languageId": "r"
    }
   },
   "outputs": [],
   "source": [
    "cfdna$J_PC1 <- j_pca[ match(cfdna$basename,  rownames(j_pca)) , \"PC1\"]\n",
    "cfdna$J_PC2 <- j_pca[ match(cfdna$basename,  rownames(j_pca)) , \"PC2\"]\n",
    "cfdna$J_PC3 <- j_pca[ match(cfdna$basename,  rownames(j_pca)) , \"PC3\"]"
   ]
  },
  {
   "cell_type": "markdown",
   "metadata": {},
   "source": [
    "GLIPH"
   ]
  },
  {
   "cell_type": "code",
   "execution_count": 129,
   "metadata": {
    "vscode": {
     "languageId": "r"
    }
   },
   "outputs": [
    {
     "name": "stderr",
     "output_type": "stream",
     "text": [
      "\u001b[1mRows: \u001b[22m\u001b[34m42815\u001b[39m \u001b[1mColumns: \u001b[22m\u001b[34m29\u001b[39m\n",
      "\u001b[36m──\u001b[39m \u001b[1mColumn specification\u001b[22m \u001b[36m────────────────────────────────────────────────────────\u001b[39m\n",
      "\u001b[1mDelimiter:\u001b[22m \",\"\n",
      "\u001b[31mchr\u001b[39m (17): pattern, type, TcRb, V, J, Sample, HLA-A, HLA-B, HLA-C, HLA-DPA1, ...\n",
      "\u001b[32mdbl\u001b[39m (11): index, Fisher_score, number_subject, number_unique_cdr3, final_sco...\n",
      "\u001b[33mlgl\u001b[39m  (1): TcRa\n",
      "\n",
      "\u001b[36mℹ\u001b[39m Use `spec()` to retrieve the full column specification for this data.\n",
      "\u001b[36mℹ\u001b[39m Specify the column types or set `show_col_types = FALSE` to quiet this message.\n"
     ]
    }
   ],
   "source": [
    "gliph_out <- readr::read_csv(paste0(h4hpath, \"analysis/GLIPH/run_gliph/v3_refMitchel/int_vdj_v2_ref_Mitchel_cluster.csv\"), col_names = T)"
   ]
  },
  {
   "cell_type": "code",
   "execution_count": 130,
   "metadata": {
    "vscode": {
     "languageId": "r"
    }
   },
   "outputs": [],
   "source": [
    "# remove columns starting with HLA\n",
    "gliph_out <- gliph_out[,!grepl(\"HLA\", colnames(gliph_out))]"
   ]
  },
  {
   "cell_type": "code",
   "execution_count": 131,
   "metadata": {
    "vscode": {
     "languageId": "r"
    }
   },
   "outputs": [
    {
     "data": {
      "text/html": [
       "<table class=\"dataframe\">\n",
       "<caption>A tibble: 6 x 18</caption>\n",
       "<thead>\n",
       "\t<tr><th scope=col>index</th><th scope=col>pattern</th><th scope=col>Fisher_score</th><th scope=col>number_subject</th><th scope=col>number_unique_cdr3</th><th scope=col>final_score</th><th scope=col>hla_score</th><th scope=col>vb_score</th><th scope=col>expansion_score</th><th scope=col>length_score</th><th scope=col>cluster_size_score</th><th scope=col>type</th><th scope=col>TcRb</th><th scope=col>V</th><th scope=col>J</th><th scope=col>TcRa</th><th scope=col>Sample</th><th scope=col>Freq</th></tr>\n",
       "\t<tr><th scope=col>&lt;dbl&gt;</th><th scope=col>&lt;chr&gt;</th><th scope=col>&lt;dbl&gt;</th><th scope=col>&lt;dbl&gt;</th><th scope=col>&lt;dbl&gt;</th><th scope=col>&lt;dbl&gt;</th><th scope=col>&lt;dbl&gt;</th><th scope=col>&lt;dbl&gt;</th><th scope=col>&lt;dbl&gt;</th><th scope=col>&lt;dbl&gt;</th><th scope=col>&lt;dbl&gt;</th><th scope=col>&lt;chr&gt;</th><th scope=col>&lt;chr&gt;</th><th scope=col>&lt;chr&gt;</th><th scope=col>&lt;chr&gt;</th><th scope=col>&lt;lgl&gt;</th><th scope=col>&lt;chr&gt;</th><th scope=col>&lt;dbl&gt;</th></tr>\n",
       "</thead>\n",
       "<tbody>\n",
       "\t<tr><td>47424</td><td>single</td><td>1</td><td>1</td><td>1</td><td>4.1e-07</td><td>1</td><td>0.001</td><td>0.43</td><td>0.001</td><td>0.95</td><td>global-SPRGTSGGAGDNE</td><td>CASSPRGTSGGAGDNEQFF</td><td>TRBV7-2</td><td>TRBJ2-1</td><td>NA</td><td>Leukemia:CHP_392_X04-PBMC   </td><td>123</td></tr>\n",
       "\t<tr><td>47424</td><td>single</td><td>1</td><td>1</td><td>1</td><td>4.1e-07</td><td>1</td><td>0.001</td><td>0.43</td><td>0.001</td><td>0.95</td><td>global-SPRGTSGGAGDNE</td><td>CASSPRGTSGGAGDNEQFF</td><td>TRBV7-2</td><td>TRBJ2-1</td><td>NA</td><td>Leukemia:CHP_392_X04-PBMC   </td><td>  8</td></tr>\n",
       "\t<tr><td>47472</td><td>single</td><td>1</td><td>1</td><td>1</td><td>9.1e-07</td><td>1</td><td>0.001</td><td>0.95</td><td>0.001</td><td>0.95</td><td>global-SIPPTGVG     </td><td>CASSIPPTGVGYTF     </td><td>TRBV28 </td><td>TRBJ1-2</td><td>NA</td><td>Solidtumors:CHP_364_X01-PBMC</td><td>  7</td></tr>\n",
       "\t<tr><td>47472</td><td>single</td><td>1</td><td>1</td><td>1</td><td>9.1e-07</td><td>1</td><td>0.001</td><td>0.95</td><td>0.001</td><td>0.95</td><td>global-SIPPTGVG     </td><td>CASSIPPTGVGYTF     </td><td>TRBV28 </td><td>TRBJ1-2</td><td>NA</td><td>Solidtumors:CHP_364_X01-PBMC</td><td>  1</td></tr>\n",
       "\t<tr><td>47512</td><td>single</td><td>1</td><td>1</td><td>1</td><td>2.4e-07</td><td>1</td><td>0.001</td><td>0.25</td><td>0.001</td><td>0.95</td><td>global-SQDQISGNT    </td><td>CASSQDQISGNTIYF    </td><td>TRBV3-1</td><td>TRBJ1-3</td><td>NA</td><td>Leukemia:CHP_396_X04-PBMC   </td><td>222</td></tr>\n",
       "\t<tr><td>47512</td><td>single</td><td>1</td><td>1</td><td>1</td><td>2.4e-07</td><td>1</td><td>0.001</td><td>0.25</td><td>0.001</td><td>0.95</td><td>global-SQDQISGNT    </td><td>CASSQDQISGNTIYF    </td><td>TRBV3-1</td><td>TRBJ1-3</td><td>NA</td><td>Leukemia:CHP_396_X04-PBMC   </td><td> 30</td></tr>\n",
       "</tbody>\n",
       "</table>\n"
      ],
      "text/latex": [
       "A tibble: 6 x 18\n",
       "\\begin{tabular}{llllllllllllllllll}\n",
       " index & pattern & Fisher\\_score & number\\_subject & number\\_unique\\_cdr3 & final\\_score & hla\\_score & vb\\_score & expansion\\_score & length\\_score & cluster\\_size\\_score & type & TcRb & V & J & TcRa & Sample & Freq\\\\\n",
       " <dbl> & <chr> & <dbl> & <dbl> & <dbl> & <dbl> & <dbl> & <dbl> & <dbl> & <dbl> & <dbl> & <chr> & <chr> & <chr> & <chr> & <lgl> & <chr> & <dbl>\\\\\n",
       "\\hline\n",
       "\t 47424 & single & 1 & 1 & 1 & 4.1e-07 & 1 & 0.001 & 0.43 & 0.001 & 0.95 & global-SPRGTSGGAGDNE & CASSPRGTSGGAGDNEQFF & TRBV7-2 & TRBJ2-1 & NA & Leukemia:CHP\\_392\\_X04-PBMC    & 123\\\\\n",
       "\t 47424 & single & 1 & 1 & 1 & 4.1e-07 & 1 & 0.001 & 0.43 & 0.001 & 0.95 & global-SPRGTSGGAGDNE & CASSPRGTSGGAGDNEQFF & TRBV7-2 & TRBJ2-1 & NA & Leukemia:CHP\\_392\\_X04-PBMC    &   8\\\\\n",
       "\t 47472 & single & 1 & 1 & 1 & 9.1e-07 & 1 & 0.001 & 0.95 & 0.001 & 0.95 & global-SIPPTGVG      & CASSIPPTGVGYTF      & TRBV28  & TRBJ1-2 & NA & Solidtumors:CHP\\_364\\_X01-PBMC &   7\\\\\n",
       "\t 47472 & single & 1 & 1 & 1 & 9.1e-07 & 1 & 0.001 & 0.95 & 0.001 & 0.95 & global-SIPPTGVG      & CASSIPPTGVGYTF      & TRBV28  & TRBJ1-2 & NA & Solidtumors:CHP\\_364\\_X01-PBMC &   1\\\\\n",
       "\t 47512 & single & 1 & 1 & 1 & 2.4e-07 & 1 & 0.001 & 0.25 & 0.001 & 0.95 & global-SQDQISGNT     & CASSQDQISGNTIYF     & TRBV3-1 & TRBJ1-3 & NA & Leukemia:CHP\\_396\\_X04-PBMC    & 222\\\\\n",
       "\t 47512 & single & 1 & 1 & 1 & 2.4e-07 & 1 & 0.001 & 0.25 & 0.001 & 0.95 & global-SQDQISGNT     & CASSQDQISGNTIYF     & TRBV3-1 & TRBJ1-3 & NA & Leukemia:CHP\\_396\\_X04-PBMC    &  30\\\\\n",
       "\\end{tabular}\n"
      ],
      "text/markdown": [
       "\n",
       "A tibble: 6 x 18\n",
       "\n",
       "| index &lt;dbl&gt; | pattern &lt;chr&gt; | Fisher_score &lt;dbl&gt; | number_subject &lt;dbl&gt; | number_unique_cdr3 &lt;dbl&gt; | final_score &lt;dbl&gt; | hla_score &lt;dbl&gt; | vb_score &lt;dbl&gt; | expansion_score &lt;dbl&gt; | length_score &lt;dbl&gt; | cluster_size_score &lt;dbl&gt; | type &lt;chr&gt; | TcRb &lt;chr&gt; | V &lt;chr&gt; | J &lt;chr&gt; | TcRa &lt;lgl&gt; | Sample &lt;chr&gt; | Freq &lt;dbl&gt; |\n",
       "|---|---|---|---|---|---|---|---|---|---|---|---|---|---|---|---|---|---|\n",
       "| 47424 | single | 1 | 1 | 1 | 4.1e-07 | 1 | 0.001 | 0.43 | 0.001 | 0.95 | global-SPRGTSGGAGDNE | CASSPRGTSGGAGDNEQFF | TRBV7-2 | TRBJ2-1 | NA | Leukemia:CHP_392_X04-PBMC    | 123 |\n",
       "| 47424 | single | 1 | 1 | 1 | 4.1e-07 | 1 | 0.001 | 0.43 | 0.001 | 0.95 | global-SPRGTSGGAGDNE | CASSPRGTSGGAGDNEQFF | TRBV7-2 | TRBJ2-1 | NA | Leukemia:CHP_392_X04-PBMC    |   8 |\n",
       "| 47472 | single | 1 | 1 | 1 | 9.1e-07 | 1 | 0.001 | 0.95 | 0.001 | 0.95 | global-SIPPTGVG      | CASSIPPTGVGYTF      | TRBV28  | TRBJ1-2 | NA | Solidtumors:CHP_364_X01-PBMC |   7 |\n",
       "| 47472 | single | 1 | 1 | 1 | 9.1e-07 | 1 | 0.001 | 0.95 | 0.001 | 0.95 | global-SIPPTGVG      | CASSIPPTGVGYTF      | TRBV28  | TRBJ1-2 | NA | Solidtumors:CHP_364_X01-PBMC |   1 |\n",
       "| 47512 | single | 1 | 1 | 1 | 2.4e-07 | 1 | 0.001 | 0.25 | 0.001 | 0.95 | global-SQDQISGNT     | CASSQDQISGNTIYF     | TRBV3-1 | TRBJ1-3 | NA | Leukemia:CHP_396_X04-PBMC    | 222 |\n",
       "| 47512 | single | 1 | 1 | 1 | 2.4e-07 | 1 | 0.001 | 0.25 | 0.001 | 0.95 | global-SQDQISGNT     | CASSQDQISGNTIYF     | TRBV3-1 | TRBJ1-3 | NA | Leukemia:CHP_396_X04-PBMC    |  30 |\n",
       "\n"
      ],
      "text/plain": [
       "  index pattern Fisher_score number_subject number_unique_cdr3 final_score\n",
       "1 47424 single  1            1              1                  4.1e-07    \n",
       "2 47424 single  1            1              1                  4.1e-07    \n",
       "3 47472 single  1            1              1                  9.1e-07    \n",
       "4 47472 single  1            1              1                  9.1e-07    \n",
       "5 47512 single  1            1              1                  2.4e-07    \n",
       "6 47512 single  1            1              1                  2.4e-07    \n",
       "  hla_score vb_score expansion_score length_score cluster_size_score\n",
       "1 1         0.001    0.43            0.001        0.95              \n",
       "2 1         0.001    0.43            0.001        0.95              \n",
       "3 1         0.001    0.95            0.001        0.95              \n",
       "4 1         0.001    0.95            0.001        0.95              \n",
       "5 1         0.001    0.25            0.001        0.95              \n",
       "6 1         0.001    0.25            0.001        0.95              \n",
       "  type                 TcRb                V       J       TcRa\n",
       "1 global-SPRGTSGGAGDNE CASSPRGTSGGAGDNEQFF TRBV7-2 TRBJ2-1 NA  \n",
       "2 global-SPRGTSGGAGDNE CASSPRGTSGGAGDNEQFF TRBV7-2 TRBJ2-1 NA  \n",
       "3 global-SIPPTGVG      CASSIPPTGVGYTF      TRBV28  TRBJ1-2 NA  \n",
       "4 global-SIPPTGVG      CASSIPPTGVGYTF      TRBV28  TRBJ1-2 NA  \n",
       "5 global-SQDQISGNT     CASSQDQISGNTIYF     TRBV3-1 TRBJ1-3 NA  \n",
       "6 global-SQDQISGNT     CASSQDQISGNTIYF     TRBV3-1 TRBJ1-3 NA  \n",
       "  Sample                       Freq\n",
       "1 Leukemia:CHP_392_X04-PBMC    123 \n",
       "2 Leukemia:CHP_392_X04-PBMC      8 \n",
       "3 Solidtumors:CHP_364_X01-PBMC   7 \n",
       "4 Solidtumors:CHP_364_X01-PBMC   1 \n",
       "5 Leukemia:CHP_396_X04-PBMC    222 \n",
       "6 Leukemia:CHP_396_X04-PBMC     30 "
      ]
     },
     "metadata": {},
     "output_type": "display_data"
    }
   ],
   "source": [
    "tail(gliph_out)"
   ]
  },
  {
   "cell_type": "code",
   "execution_count": 132,
   "metadata": {
    "vscode": {
     "languageId": "r"
    }
   },
   "outputs": [
    {
     "data": {
      "text/html": [
       "<style>\n",
       ".list-inline {list-style: none; margin:0; padding: 0}\n",
       ".list-inline>li {display: inline-block}\n",
       ".list-inline>li:not(:last-child)::after {content: \"\\00b7\"; padding: 0 .5ex}\n",
       "</style>\n",
       "<ol class=list-inline><li>42815</li><li>18</li></ol>\n"
      ],
      "text/latex": [
       "\\begin{enumerate*}\n",
       "\\item 42815\n",
       "\\item 18\n",
       "\\end{enumerate*}\n"
      ],
      "text/markdown": [
       "1. 42815\n",
       "2. 18\n",
       "\n",
       "\n"
      ],
      "text/plain": [
       "[1] 42815    18"
      ]
     },
     "metadata": {},
     "output_type": "display_data"
    }
   ],
   "source": [
    "dim(gliph_out)"
   ]
  },
  {
   "cell_type": "code",
   "execution_count": 133,
   "metadata": {
    "vscode": {
     "languageId": "r"
    }
   },
   "outputs": [],
   "source": [
    "gliph_out <- gliph_out[gliph_out$pattern != \"single\",]"
   ]
  },
  {
   "cell_type": "code",
   "execution_count": 134,
   "metadata": {
    "vscode": {
     "languageId": "r"
    }
   },
   "outputs": [
    {
     "data": {
      "text/html": [
       "<style>\n",
       ".list-inline {list-style: none; margin:0; padding: 0}\n",
       ".list-inline>li {display: inline-block}\n",
       ".list-inline>li:not(:last-child)::after {content: \"\\00b7\"; padding: 0 .5ex}\n",
       "</style>\n",
       "<ol class=list-inline><li>40384</li><li>18</li></ol>\n"
      ],
      "text/latex": [
       "\\begin{enumerate*}\n",
       "\\item 40384\n",
       "\\item 18\n",
       "\\end{enumerate*}\n"
      ],
      "text/markdown": [
       "1. 40384\n",
       "2. 18\n",
       "\n",
       "\n"
      ],
      "text/plain": [
       "[1] 40384    18"
      ]
     },
     "metadata": {},
     "output_type": "display_data"
    }
   ],
   "source": [
    "dim(gliph_out)"
   ]
  },
  {
   "cell_type": "code",
   "execution_count": 135,
   "metadata": {
    "vscode": {
     "languageId": "r"
    }
   },
   "outputs": [],
   "source": [
    "mytab <- as.data.frame.matrix(table(gliph_out$Sample, gliph_out$pattern) )"
   ]
  },
  {
   "cell_type": "code",
   "execution_count": 136,
   "metadata": {
    "vscode": {
     "languageId": "r"
    }
   },
   "outputs": [],
   "source": [
    "mytab <- mytab[ rowSums(mytab) > 0,]"
   ]
  },
  {
   "cell_type": "code",
   "execution_count": 137,
   "metadata": {
    "vscode": {
     "languageId": "r"
    }
   },
   "outputs": [],
   "source": [
    "tmp1 <- rowSums(mytab != 0) # count non zeros = number of groups"
   ]
  },
  {
   "cell_type": "code",
   "execution_count": 138,
   "metadata": {
    "vscode": {
     "languageId": "r"
    }
   },
   "outputs": [
    {
     "data": {
      "text/html": [
       "<style>\n",
       ".dl-inline {width: auto; margin:0; padding: 0}\n",
       ".dl-inline>dt, .dl-inline>dd {float: none; width: auto; display: inline-block}\n",
       ".dl-inline>dt::after {content: \":\\0020\"; padding-right: .5ex}\n",
       ".dl-inline>dt:not(:first-of-type) {padding-left: .5ex}\n",
       "</style><dl class=dl-inline><dt>T-cellmalignancies:CHP_387_X01-PBMC</dt><dd>204</dd><dt>T-cellmalignancies:CHP_387_X02-cfDNA</dt><dd>8</dd><dt>T-cellmalignancies:CHP_387_X03-cfDNA</dt><dd>13</dd><dt>T-cellmalignancies:CHP_387_X03-PBMC</dt><dd>32</dd><dt>T-cellmalignancies:CHP_395_X01-cfDNA</dt><dd>4</dd><dt>T-cellmalignancies:CHP_395_X02-cfDNA</dt><dd>14</dd></dl>\n"
      ],
      "text/latex": [
       "\\begin{description*}\n",
       "\\item[T-cellmalignancies:CHP\\textbackslash{}\\_387\\textbackslash{}\\_X01-PBMC] 204\n",
       "\\item[T-cellmalignancies:CHP\\textbackslash{}\\_387\\textbackslash{}\\_X02-cfDNA] 8\n",
       "\\item[T-cellmalignancies:CHP\\textbackslash{}\\_387\\textbackslash{}\\_X03-cfDNA] 13\n",
       "\\item[T-cellmalignancies:CHP\\textbackslash{}\\_387\\textbackslash{}\\_X03-PBMC] 32\n",
       "\\item[T-cellmalignancies:CHP\\textbackslash{}\\_395\\textbackslash{}\\_X01-cfDNA] 4\n",
       "\\item[T-cellmalignancies:CHP\\textbackslash{}\\_395\\textbackslash{}\\_X02-cfDNA] 14\n",
       "\\end{description*}\n"
      ],
      "text/markdown": [
       "T-cellmalignancies:CHP_387_X01-PBMC\n",
       ":   204T-cellmalignancies:CHP_387_X02-cfDNA\n",
       ":   8T-cellmalignancies:CHP_387_X03-cfDNA\n",
       ":   13T-cellmalignancies:CHP_387_X03-PBMC\n",
       ":   32T-cellmalignancies:CHP_395_X01-cfDNA\n",
       ":   4T-cellmalignancies:CHP_395_X02-cfDNA\n",
       ":   14\n",
       "\n"
      ],
      "text/plain": [
       " T-cellmalignancies:CHP_387_X01-PBMC T-cellmalignancies:CHP_387_X02-cfDNA \n",
       "                                 204                                    8 \n",
       "T-cellmalignancies:CHP_387_X03-cfDNA  T-cellmalignancies:CHP_387_X03-PBMC \n",
       "                                  13                                   32 \n",
       "T-cellmalignancies:CHP_395_X01-cfDNA T-cellmalignancies:CHP_395_X02-cfDNA \n",
       "                                   4                                   14 "
      ]
     },
     "metadata": {},
     "output_type": "display_data"
    }
   ],
   "source": [
    "tail(tmp1)"
   ]
  },
  {
   "cell_type": "code",
   "execution_count": 139,
   "metadata": {
    "vscode": {
     "languageId": "r"
    }
   },
   "outputs": [],
   "source": [
    "cfdna$samplename <- paste0(cfdna$cancergroup, \":\", cfdna$Patient, \"_\", cfdna$cycle, \"-\", cfdna$sampletype)"
   ]
  },
  {
   "cell_type": "code",
   "execution_count": 140,
   "metadata": {
    "vscode": {
     "languageId": "r"
    }
   },
   "outputs": [],
   "source": [
    "cfdna$samplename <- gsub(\" \", \"\", cfdna$samplename)"
   ]
  },
  {
   "cell_type": "code",
   "execution_count": 141,
   "metadata": {
    "vscode": {
     "languageId": "r"
    }
   },
   "outputs": [],
   "source": [
    "# add column gliph_n to meta_div, match meta_div$samplename to names(tmp1)\n",
    "cfdna$gliph_n <- tmp1[match(cfdna$samplename, names(tmp1))]"
   ]
  },
  {
   "cell_type": "code",
   "execution_count": 142,
   "metadata": {
    "vscode": {
     "languageId": "r"
    }
   },
   "outputs": [
    {
     "data": {
      "text/html": [
       "<table class=\"dataframe\">\n",
       "<caption>A data.frame: 6 x 76</caption>\n",
       "<thead>\n",
       "\t<tr><th></th><th scope=col>sample_id</th><th scope=col>Patient</th><th scope=col>cycle</th><th scope=col>FOLD</th><th scope=col>ATC</th><th scope=col>Age</th><th scope=col>Disease_type</th><th scope=col>TE_fold</th><th scope=col>CD3</th><th scope=col>EM</th><th scope=col>...</th><th scope=col>aveTiRP</th><th scope=col>medTiRP</th><th scope=col>V_PC1</th><th scope=col>V_PC2</th><th scope=col>V_PC3</th><th scope=col>J_PC1</th><th scope=col>J_PC2</th><th scope=col>J_PC3</th><th scope=col>samplename</th><th scope=col>gliph_n</th></tr>\n",
       "\t<tr><th></th><th scope=col>&lt;chr&gt;</th><th scope=col>&lt;chr&gt;</th><th scope=col>&lt;chr&gt;</th><th scope=col>&lt;dbl&gt;</th><th scope=col>&lt;dbl&gt;</th><th scope=col>&lt;dbl&gt;</th><th scope=col>&lt;chr&gt;</th><th scope=col>&lt;dbl&gt;</th><th scope=col>&lt;int&gt;</th><th scope=col>&lt;int&gt;</th><th scope=col>...</th><th scope=col>&lt;dbl&gt;</th><th scope=col>&lt;dbl&gt;</th><th scope=col>&lt;dbl&gt;</th><th scope=col>&lt;dbl&gt;</th><th scope=col>&lt;dbl&gt;</th><th scope=col>&lt;dbl&gt;</th><th scope=col>&lt;dbl&gt;</th><th scope=col>&lt;dbl&gt;</th><th scope=col>&lt;chr&gt;</th><th scope=col>&lt;dbl&gt;</th></tr>\n",
       "</thead>\n",
       "<tbody>\n",
       "\t<tr><th scope=row>1</th><td>CHP_323_03</td><td>CHP_323</td><td>X03</td><td>0</td><td>786.24</td><td> 1</td><td>HR ALL</td><td>0</td><td>0</td><td>NA</td><td>...</td><td> 0.04826843</td><td> 0.1393051</td><td>15.83866850</td><td> 7.9531074</td><td> 9.4381691</td><td>-12.2473929</td><td>-1.42025844</td><td>-1.04697016</td><td>Leukemia:CHP_323_X03-cfDNA          </td><td>71</td></tr>\n",
       "\t<tr><th scope=row>2</th><td>CHP_323_05</td><td>CHP_323</td><td>X05</td><td>0</td><td>979.50</td><td> 1</td><td>HR ALL</td><td>0</td><td>0</td><td>NA</td><td>...</td><td> 0.25983842</td><td> 0.5856662</td><td> 0.03694791</td><td> 0.2037428</td><td> 0.9895571</td><td> -0.2918142</td><td>-1.03382807</td><td> 0.68828218</td><td>Leukemia:CHP_323_X05-cfDNA          </td><td> 9</td></tr>\n",
       "\t<tr><th scope=row>3</th><td>CHP_324_04</td><td>CHP_324</td><td>X04</td><td>0</td><td>  0.00</td><td>12</td><td>T-ALL </td><td>0</td><td>0</td><td>NA</td><td>...</td><td>-0.85235289</td><td>-0.8523529</td><td>-2.42588499</td><td>-0.2790740</td><td> 0.1117550</td><td>  1.7122042</td><td> 0.09042876</td><td>-0.07326199</td><td>T-cellmalignancies:CHP_324_X04-cfDNA</td><td> 1</td></tr>\n",
       "\t<tr><th scope=row>4</th><td>CHP_324_05</td><td>CHP_324</td><td>X05</td><td>0</td><td>  0.00</td><td>12</td><td>T-ALL </td><td>0</td><td>0</td><td>NA</td><td>...</td><td>-1.17906074</td><td>-1.1790607</td><td>-2.20171492</td><td>-0.2392266</td><td> 0.1373460</td><td>  1.5349325</td><td> 0.14012792</td><td>-0.08421036</td><td>T-cellmalignancies:CHP_324_X05-cfDNA</td><td> 2</td></tr>\n",
       "\t<tr><th scope=row>5</th><td>CHP_326_05</td><td>CHP_326</td><td>X05</td><td>0</td><td>972.90</td><td> 4</td><td>SR ALL</td><td>0</td><td>0</td><td>NA</td><td>...</td><td> 0.08628995</td><td> 0.2607004</td><td> 1.53369308</td><td> 0.6800554</td><td>-0.7668898</td><td> -0.9056822</td><td> 0.51843452</td><td>-0.90888221</td><td>Leukemia:CHP_326_X05-cfDNA          </td><td>13</td></tr>\n",
       "\t<tr><th scope=row>6</th><td>CHP_328_05</td><td>CHP_328</td><td>X05</td><td>0</td><td> 91.16</td><td> 7</td><td>SR ALL</td><td>0</td><td>0</td><td>NA</td><td>...</td><td>         NA</td><td>        NA</td><td>-1.73881538</td><td>-0.8087552</td><td>-0.8391630</td><td>  1.2267221</td><td> 0.09263065</td><td> 0.06769804</td><td>Leukemia:CHP_328_X05-cfDNA          </td><td>NA</td></tr>\n",
       "</tbody>\n",
       "</table>\n"
      ],
      "text/latex": [
       "A data.frame: 6 x 76\n",
       "\\begin{tabular}{r|lllllllllllllllllllll}\n",
       "  & sample\\_id & Patient & cycle & FOLD & ATC & Age & Disease\\_type & TE\\_fold & CD3 & EM & ... & aveTiRP & medTiRP & V\\_PC1 & V\\_PC2 & V\\_PC3 & J\\_PC1 & J\\_PC2 & J\\_PC3 & samplename & gliph\\_n\\\\\n",
       "  & <chr> & <chr> & <chr> & <dbl> & <dbl> & <dbl> & <chr> & <dbl> & <int> & <int> & ... & <dbl> & <dbl> & <dbl> & <dbl> & <dbl> & <dbl> & <dbl> & <dbl> & <chr> & <dbl>\\\\\n",
       "\\hline\n",
       "\t1 & CHP\\_323\\_03 & CHP\\_323 & X03 & 0 & 786.24 &  1 & HR ALL & 0 & 0 & NA & ... &  0.04826843 &  0.1393051 & 15.83866850 &  7.9531074 &  9.4381691 & -12.2473929 & -1.42025844 & -1.04697016 & Leukemia:CHP\\_323\\_X03-cfDNA           & 71\\\\\n",
       "\t2 & CHP\\_323\\_05 & CHP\\_323 & X05 & 0 & 979.50 &  1 & HR ALL & 0 & 0 & NA & ... &  0.25983842 &  0.5856662 &  0.03694791 &  0.2037428 &  0.9895571 &  -0.2918142 & -1.03382807 &  0.68828218 & Leukemia:CHP\\_323\\_X05-cfDNA           &  9\\\\\n",
       "\t3 & CHP\\_324\\_04 & CHP\\_324 & X04 & 0 &   0.00 & 12 & T-ALL  & 0 & 0 & NA & ... & -0.85235289 & -0.8523529 & -2.42588499 & -0.2790740 &  0.1117550 &   1.7122042 &  0.09042876 & -0.07326199 & T-cellmalignancies:CHP\\_324\\_X04-cfDNA &  1\\\\\n",
       "\t4 & CHP\\_324\\_05 & CHP\\_324 & X05 & 0 &   0.00 & 12 & T-ALL  & 0 & 0 & NA & ... & -1.17906074 & -1.1790607 & -2.20171492 & -0.2392266 &  0.1373460 &   1.5349325 &  0.14012792 & -0.08421036 & T-cellmalignancies:CHP\\_324\\_X05-cfDNA &  2\\\\\n",
       "\t5 & CHP\\_326\\_05 & CHP\\_326 & X05 & 0 & 972.90 &  4 & SR ALL & 0 & 0 & NA & ... &  0.08628995 &  0.2607004 &  1.53369308 &  0.6800554 & -0.7668898 &  -0.9056822 &  0.51843452 & -0.90888221 & Leukemia:CHP\\_326\\_X05-cfDNA           & 13\\\\\n",
       "\t6 & CHP\\_328\\_05 & CHP\\_328 & X05 & 0 &  91.16 &  7 & SR ALL & 0 & 0 & NA & ... &          NA &         NA & -1.73881538 & -0.8087552 & -0.8391630 &   1.2267221 &  0.09263065 &  0.06769804 & Leukemia:CHP\\_328\\_X05-cfDNA           & NA\\\\\n",
       "\\end{tabular}\n"
      ],
      "text/markdown": [
       "\n",
       "A data.frame: 6 x 76\n",
       "\n",
       "| <!--/--> | sample_id &lt;chr&gt; | Patient &lt;chr&gt; | cycle &lt;chr&gt; | FOLD &lt;dbl&gt; | ATC &lt;dbl&gt; | Age &lt;dbl&gt; | Disease_type &lt;chr&gt; | TE_fold &lt;dbl&gt; | CD3 &lt;int&gt; | EM &lt;int&gt; | ... ... | aveTiRP &lt;dbl&gt; | medTiRP &lt;dbl&gt; | V_PC1 &lt;dbl&gt; | V_PC2 &lt;dbl&gt; | V_PC3 &lt;dbl&gt; | J_PC1 &lt;dbl&gt; | J_PC2 &lt;dbl&gt; | J_PC3 &lt;dbl&gt; | samplename &lt;chr&gt; | gliph_n &lt;dbl&gt; |\n",
       "|---|---|---|---|---|---|---|---|---|---|---|---|---|---|---|---|---|---|---|---|---|---|\n",
       "| 1 | CHP_323_03 | CHP_323 | X03 | 0 | 786.24 |  1 | HR ALL | 0 | 0 | NA | ... |  0.04826843 |  0.1393051 | 15.83866850 |  7.9531074 |  9.4381691 | -12.2473929 | -1.42025844 | -1.04697016 | Leukemia:CHP_323_X03-cfDNA           | 71 |\n",
       "| 2 | CHP_323_05 | CHP_323 | X05 | 0 | 979.50 |  1 | HR ALL | 0 | 0 | NA | ... |  0.25983842 |  0.5856662 |  0.03694791 |  0.2037428 |  0.9895571 |  -0.2918142 | -1.03382807 |  0.68828218 | Leukemia:CHP_323_X05-cfDNA           |  9 |\n",
       "| 3 | CHP_324_04 | CHP_324 | X04 | 0 |   0.00 | 12 | T-ALL  | 0 | 0 | NA | ... | -0.85235289 | -0.8523529 | -2.42588499 | -0.2790740 |  0.1117550 |   1.7122042 |  0.09042876 | -0.07326199 | T-cellmalignancies:CHP_324_X04-cfDNA |  1 |\n",
       "| 4 | CHP_324_05 | CHP_324 | X05 | 0 |   0.00 | 12 | T-ALL  | 0 | 0 | NA | ... | -1.17906074 | -1.1790607 | -2.20171492 | -0.2392266 |  0.1373460 |   1.5349325 |  0.14012792 | -0.08421036 | T-cellmalignancies:CHP_324_X05-cfDNA |  2 |\n",
       "| 5 | CHP_326_05 | CHP_326 | X05 | 0 | 972.90 |  4 | SR ALL | 0 | 0 | NA | ... |  0.08628995 |  0.2607004 |  1.53369308 |  0.6800554 | -0.7668898 |  -0.9056822 |  0.51843452 | -0.90888221 | Leukemia:CHP_326_X05-cfDNA           | 13 |\n",
       "| 6 | CHP_328_05 | CHP_328 | X05 | 0 |  91.16 |  7 | SR ALL | 0 | 0 | NA | ... |          NA |         NA | -1.73881538 | -0.8087552 | -0.8391630 |   1.2267221 |  0.09263065 |  0.06769804 | Leukemia:CHP_328_X05-cfDNA           | NA |\n",
       "\n"
      ],
      "text/plain": [
       "  sample_id  Patient cycle FOLD ATC    Age Disease_type TE_fold CD3 EM ...\n",
       "1 CHP_323_03 CHP_323 X03   0    786.24  1  HR ALL       0       0   NA ...\n",
       "2 CHP_323_05 CHP_323 X05   0    979.50  1  HR ALL       0       0   NA ...\n",
       "3 CHP_324_04 CHP_324 X04   0      0.00 12  T-ALL        0       0   NA ...\n",
       "4 CHP_324_05 CHP_324 X05   0      0.00 12  T-ALL        0       0   NA ...\n",
       "5 CHP_326_05 CHP_326 X05   0    972.90  4  SR ALL       0       0   NA ...\n",
       "6 CHP_328_05 CHP_328 X05   0     91.16  7  SR ALL       0       0   NA ...\n",
       "  aveTiRP     medTiRP    V_PC1       V_PC2      V_PC3      J_PC1      \n",
       "1  0.04826843  0.1393051 15.83866850  7.9531074  9.4381691 -12.2473929\n",
       "2  0.25983842  0.5856662  0.03694791  0.2037428  0.9895571  -0.2918142\n",
       "3 -0.85235289 -0.8523529 -2.42588499 -0.2790740  0.1117550   1.7122042\n",
       "4 -1.17906074 -1.1790607 -2.20171492 -0.2392266  0.1373460   1.5349325\n",
       "5  0.08628995  0.2607004  1.53369308  0.6800554 -0.7668898  -0.9056822\n",
       "6          NA         NA -1.73881538 -0.8087552 -0.8391630   1.2267221\n",
       "  J_PC2       J_PC3       samplename                           gliph_n\n",
       "1 -1.42025844 -1.04697016 Leukemia:CHP_323_X03-cfDNA           71     \n",
       "2 -1.03382807  0.68828218 Leukemia:CHP_323_X05-cfDNA            9     \n",
       "3  0.09042876 -0.07326199 T-cellmalignancies:CHP_324_X04-cfDNA  1     \n",
       "4  0.14012792 -0.08421036 T-cellmalignancies:CHP_324_X05-cfDNA  2     \n",
       "5  0.51843452 -0.90888221 Leukemia:CHP_326_X05-cfDNA           13     \n",
       "6  0.09263065  0.06769804 Leukemia:CHP_328_X05-cfDNA           NA     "
      ]
     },
     "metadata": {},
     "output_type": "display_data"
    }
   ],
   "source": [
    "head(cfdna)"
   ]
  },
  {
   "cell_type": "code",
   "execution_count": 143,
   "metadata": {
    "vscode": {
     "languageId": "r"
    }
   },
   "outputs": [],
   "source": [
    "cfdna$gliph_n[is.na(cfdna$gliph_n)] <- 0"
   ]
  },
  {
   "cell_type": "code",
   "execution_count": 144,
   "metadata": {
    "vscode": {
     "languageId": "r"
    }
   },
   "outputs": [],
   "source": [
    "gliphdf <- data.frame(gliph = unique(gliph_out$pattern))\n",
    "rownames(gliphdf) <- gliphdf$gliph"
   ]
  },
  {
   "cell_type": "code",
   "execution_count": 145,
   "metadata": {
    "vscode": {
     "languageId": "r"
    }
   },
   "outputs": [
    {
     "data": {
      "text/html": [
       "<table class=\"dataframe\">\n",
       "<caption>A data.frame: 6 x 1</caption>\n",
       "<thead>\n",
       "\t<tr><th></th><th scope=col>gliph</th></tr>\n",
       "\t<tr><th></th><th scope=col>&lt;chr&gt;</th></tr>\n",
       "</thead>\n",
       "<tbody>\n",
       "\t<tr><th scope=row>GIWV</th><td>GIWV</td></tr>\n",
       "\t<tr><th scope=row>IWV</th><td>IWV </td></tr>\n",
       "\t<tr><th scope=row>WVYE</th><td>WVYE</td></tr>\n",
       "\t<tr><th scope=row>IWVY</th><td>IWVY</td></tr>\n",
       "\t<tr><th scope=row>WVY</th><td>WVY </td></tr>\n",
       "\t<tr><th scope=row>TGIW</th><td>TGIW</td></tr>\n",
       "</tbody>\n",
       "</table>\n"
      ],
      "text/latex": [
       "A data.frame: 6 x 1\n",
       "\\begin{tabular}{r|l}\n",
       "  & gliph\\\\\n",
       "  & <chr>\\\\\n",
       "\\hline\n",
       "\tGIWV & GIWV\\\\\n",
       "\tIWV & IWV \\\\\n",
       "\tWVYE & WVYE\\\\\n",
       "\tIWVY & IWVY\\\\\n",
       "\tWVY & WVY \\\\\n",
       "\tTGIW & TGIW\\\\\n",
       "\\end{tabular}\n"
      ],
      "text/markdown": [
       "\n",
       "A data.frame: 6 x 1\n",
       "\n",
       "| <!--/--> | gliph &lt;chr&gt; |\n",
       "|---|---|\n",
       "| GIWV | GIWV |\n",
       "| IWV | IWV  |\n",
       "| WVYE | WVYE |\n",
       "| IWVY | IWVY |\n",
       "| WVY | WVY  |\n",
       "| TGIW | TGIW |\n",
       "\n"
      ],
      "text/plain": [
       "     gliph\n",
       "GIWV GIWV \n",
       "IWV  IWV  \n",
       "WVYE WVYE \n",
       "IWVY IWVY \n",
       "WVY  WVY  \n",
       "TGIW TGIW "
      ]
     },
     "metadata": {},
     "output_type": "display_data"
    }
   ],
   "source": [
    "head(gliphdf)"
   ]
  },
  {
   "cell_type": "code",
   "execution_count": 146,
   "metadata": {
    "vscode": {
     "languageId": "r"
    }
   },
   "outputs": [],
   "source": [
    "gliph_out$subject <- gsub(\":.*\", \"\", gliph_out$Sample)"
   ]
  },
  {
   "cell_type": "code",
   "execution_count": 147,
   "metadata": {
    "vscode": {
     "languageId": "r"
    }
   },
   "outputs": [],
   "source": [
    "for(i in 1:nrow(gliphdf)){\n",
    "mygliph <- gliph_out[gliph_out$pattern == gliphdf$gliph[i],]\n",
    "# add 1 in gliphdf$CMV, if mygliph$subject ciontains CMV\n",
    "gliphdf$CMV[i] <- ifelse(sum(grepl(\"CMV\", mygliph$subject)) > 0, 1, 0)\n",
    "gliphdf$EBV[i] <- ifelse(sum(grepl(\"EBV\", mygliph$subject)) > 0, 1, 0)\n",
    "gliphdf$HCV[i] <- ifelse(sum(grepl(\"HCV\", mygliph$subject)) > 0, 1, 0)\n",
    "gliphdf$Flu[i] <- ifelse(sum(grepl(\"Influenza\", mygliph$subject)) > 0, 1, 0)\n",
    "gliphdf$hs[i] <- ifelse(sum(grepl(\"HomoSapiens\", mygliph$subject)) > 0, 1, 0)\n",
    "}"
   ]
  },
  {
   "cell_type": "code",
   "execution_count": 148,
   "metadata": {
    "vscode": {
     "languageId": "r"
    }
   },
   "outputs": [
    {
     "data": {
      "text/html": [
       "<table class=\"dataframe\">\n",
       "<caption>A data.frame: 6 x 6</caption>\n",
       "<thead>\n",
       "\t<tr><th></th><th scope=col>gliph</th><th scope=col>CMV</th><th scope=col>EBV</th><th scope=col>HCV</th><th scope=col>Flu</th><th scope=col>hs</th></tr>\n",
       "\t<tr><th></th><th scope=col>&lt;chr&gt;</th><th scope=col>&lt;dbl&gt;</th><th scope=col>&lt;dbl&gt;</th><th scope=col>&lt;dbl&gt;</th><th scope=col>&lt;dbl&gt;</th><th scope=col>&lt;dbl&gt;</th></tr>\n",
       "</thead>\n",
       "<tbody>\n",
       "\t<tr><th scope=row>SP%</th><td>SP%  </td><td>0</td><td>0</td><td>0</td><td>0</td><td>0</td></tr>\n",
       "\t<tr><th scope=row>S%E</th><td>S%E  </td><td>0</td><td>0</td><td>0</td><td>0</td><td>0</td></tr>\n",
       "\t<tr><th scope=row>S%GTG</th><td>S%GTG</td><td>0</td><td>0</td><td>0</td><td>0</td><td>0</td></tr>\n",
       "\t<tr><th scope=row>G%</th><td>G%   </td><td>0</td><td>0</td><td>0</td><td>0</td><td>1</td></tr>\n",
       "\t<tr><th scope=row>%G</th><td>%G   </td><td>0</td><td>0</td><td>0</td><td>0</td><td>0</td></tr>\n",
       "\t<tr><th scope=row>%E</th><td>%E   </td><td>0</td><td>0</td><td>0</td><td>0</td><td>0</td></tr>\n",
       "</tbody>\n",
       "</table>\n"
      ],
      "text/latex": [
       "A data.frame: 6 x 6\n",
       "\\begin{tabular}{r|llllll}\n",
       "  & gliph & CMV & EBV & HCV & Flu & hs\\\\\n",
       "  & <chr> & <dbl> & <dbl> & <dbl> & <dbl> & <dbl>\\\\\n",
       "\\hline\n",
       "\tSP\\% & SP\\%   & 0 & 0 & 0 & 0 & 0\\\\\n",
       "\tS\\%E & S\\%E   & 0 & 0 & 0 & 0 & 0\\\\\n",
       "\tS\\%GTG & S\\%GTG & 0 & 0 & 0 & 0 & 0\\\\\n",
       "\tG\\% & G\\%    & 0 & 0 & 0 & 0 & 1\\\\\n",
       "\t\\%G & \\%G    & 0 & 0 & 0 & 0 & 0\\\\\n",
       "\t\\%E & \\%E    & 0 & 0 & 0 & 0 & 0\\\\\n",
       "\\end{tabular}\n"
      ],
      "text/markdown": [
       "\n",
       "A data.frame: 6 x 6\n",
       "\n",
       "| <!--/--> | gliph &lt;chr&gt; | CMV &lt;dbl&gt; | EBV &lt;dbl&gt; | HCV &lt;dbl&gt; | Flu &lt;dbl&gt; | hs &lt;dbl&gt; |\n",
       "|---|---|---|---|---|---|---|\n",
       "| SP% | SP%   | 0 | 0 | 0 | 0 | 0 |\n",
       "| S%E | S%E   | 0 | 0 | 0 | 0 | 0 |\n",
       "| S%GTG | S%GTG | 0 | 0 | 0 | 0 | 0 |\n",
       "| G% | G%    | 0 | 0 | 0 | 0 | 1 |\n",
       "| %G | %G    | 0 | 0 | 0 | 0 | 0 |\n",
       "| %E | %E    | 0 | 0 | 0 | 0 | 0 |\n",
       "\n"
      ],
      "text/plain": [
       "      gliph CMV EBV HCV Flu hs\n",
       "SP%   SP%   0   0   0   0   0 \n",
       "S%E   S%E   0   0   0   0   0 \n",
       "S%GTG S%GTG 0   0   0   0   0 \n",
       "G%    G%    0   0   0   0   1 \n",
       "%G    %G    0   0   0   0   0 \n",
       "%E    %E    0   0   0   0   0 "
      ]
     },
     "metadata": {},
     "output_type": "display_data"
    }
   ],
   "source": [
    "tail(gliphdf)"
   ]
  },
  {
   "cell_type": "code",
   "execution_count": 149,
   "metadata": {
    "vscode": {
     "languageId": "r"
    }
   },
   "outputs": [
    {
     "data": {
      "text/html": [
       "<table class=\"dataframe\">\n",
       "<caption>A data.frame: 6 x 76</caption>\n",
       "<thead>\n",
       "\t<tr><th></th><th scope=col>sample_id</th><th scope=col>Patient</th><th scope=col>cycle</th><th scope=col>FOLD</th><th scope=col>ATC</th><th scope=col>Age</th><th scope=col>Disease_type</th><th scope=col>TE_fold</th><th scope=col>CD3</th><th scope=col>EM</th><th scope=col>...</th><th scope=col>aveTiRP</th><th scope=col>medTiRP</th><th scope=col>V_PC1</th><th scope=col>V_PC2</th><th scope=col>V_PC3</th><th scope=col>J_PC1</th><th scope=col>J_PC2</th><th scope=col>J_PC3</th><th scope=col>samplename</th><th scope=col>gliph_n</th></tr>\n",
       "\t<tr><th></th><th scope=col>&lt;chr&gt;</th><th scope=col>&lt;chr&gt;</th><th scope=col>&lt;chr&gt;</th><th scope=col>&lt;dbl&gt;</th><th scope=col>&lt;dbl&gt;</th><th scope=col>&lt;dbl&gt;</th><th scope=col>&lt;chr&gt;</th><th scope=col>&lt;dbl&gt;</th><th scope=col>&lt;int&gt;</th><th scope=col>&lt;int&gt;</th><th scope=col>...</th><th scope=col>&lt;dbl&gt;</th><th scope=col>&lt;dbl&gt;</th><th scope=col>&lt;dbl&gt;</th><th scope=col>&lt;dbl&gt;</th><th scope=col>&lt;dbl&gt;</th><th scope=col>&lt;dbl&gt;</th><th scope=col>&lt;dbl&gt;</th><th scope=col>&lt;dbl&gt;</th><th scope=col>&lt;chr&gt;</th><th scope=col>&lt;dbl&gt;</th></tr>\n",
       "</thead>\n",
       "<tbody>\n",
       "\t<tr><th scope=row>1</th><td>CHP_323_03</td><td>CHP_323</td><td>X03</td><td>0</td><td>786.24</td><td> 1</td><td>HR ALL</td><td>0</td><td>0</td><td>NA</td><td>...</td><td> 0.04826843</td><td> 0.1393051</td><td>15.83866850</td><td> 7.9531074</td><td> 9.4381691</td><td>-12.2473929</td><td>-1.42025844</td><td>-1.04697016</td><td>Leukemia:CHP_323_X03-cfDNA          </td><td>71</td></tr>\n",
       "\t<tr><th scope=row>2</th><td>CHP_323_05</td><td>CHP_323</td><td>X05</td><td>0</td><td>979.50</td><td> 1</td><td>HR ALL</td><td>0</td><td>0</td><td>NA</td><td>...</td><td> 0.25983842</td><td> 0.5856662</td><td> 0.03694791</td><td> 0.2037428</td><td> 0.9895571</td><td> -0.2918142</td><td>-1.03382807</td><td> 0.68828218</td><td>Leukemia:CHP_323_X05-cfDNA          </td><td> 9</td></tr>\n",
       "\t<tr><th scope=row>3</th><td>CHP_324_04</td><td>CHP_324</td><td>X04</td><td>0</td><td>  0.00</td><td>12</td><td>T-ALL </td><td>0</td><td>0</td><td>NA</td><td>...</td><td>-0.85235289</td><td>-0.8523529</td><td>-2.42588499</td><td>-0.2790740</td><td> 0.1117550</td><td>  1.7122042</td><td> 0.09042876</td><td>-0.07326199</td><td>T-cellmalignancies:CHP_324_X04-cfDNA</td><td> 1</td></tr>\n",
       "\t<tr><th scope=row>4</th><td>CHP_324_05</td><td>CHP_324</td><td>X05</td><td>0</td><td>  0.00</td><td>12</td><td>T-ALL </td><td>0</td><td>0</td><td>NA</td><td>...</td><td>-1.17906074</td><td>-1.1790607</td><td>-2.20171492</td><td>-0.2392266</td><td> 0.1373460</td><td>  1.5349325</td><td> 0.14012792</td><td>-0.08421036</td><td>T-cellmalignancies:CHP_324_X05-cfDNA</td><td> 2</td></tr>\n",
       "\t<tr><th scope=row>5</th><td>CHP_326_05</td><td>CHP_326</td><td>X05</td><td>0</td><td>972.90</td><td> 4</td><td>SR ALL</td><td>0</td><td>0</td><td>NA</td><td>...</td><td> 0.08628995</td><td> 0.2607004</td><td> 1.53369308</td><td> 0.6800554</td><td>-0.7668898</td><td> -0.9056822</td><td> 0.51843452</td><td>-0.90888221</td><td>Leukemia:CHP_326_X05-cfDNA          </td><td>13</td></tr>\n",
       "\t<tr><th scope=row>6</th><td>CHP_328_05</td><td>CHP_328</td><td>X05</td><td>0</td><td> 91.16</td><td> 7</td><td>SR ALL</td><td>0</td><td>0</td><td>NA</td><td>...</td><td>         NA</td><td>        NA</td><td>-1.73881538</td><td>-0.8087552</td><td>-0.8391630</td><td>  1.2267221</td><td> 0.09263065</td><td> 0.06769804</td><td>Leukemia:CHP_328_X05-cfDNA          </td><td> 0</td></tr>\n",
       "</tbody>\n",
       "</table>\n"
      ],
      "text/latex": [
       "A data.frame: 6 x 76\n",
       "\\begin{tabular}{r|lllllllllllllllllllll}\n",
       "  & sample\\_id & Patient & cycle & FOLD & ATC & Age & Disease\\_type & TE\\_fold & CD3 & EM & ... & aveTiRP & medTiRP & V\\_PC1 & V\\_PC2 & V\\_PC3 & J\\_PC1 & J\\_PC2 & J\\_PC3 & samplename & gliph\\_n\\\\\n",
       "  & <chr> & <chr> & <chr> & <dbl> & <dbl> & <dbl> & <chr> & <dbl> & <int> & <int> & ... & <dbl> & <dbl> & <dbl> & <dbl> & <dbl> & <dbl> & <dbl> & <dbl> & <chr> & <dbl>\\\\\n",
       "\\hline\n",
       "\t1 & CHP\\_323\\_03 & CHP\\_323 & X03 & 0 & 786.24 &  1 & HR ALL & 0 & 0 & NA & ... &  0.04826843 &  0.1393051 & 15.83866850 &  7.9531074 &  9.4381691 & -12.2473929 & -1.42025844 & -1.04697016 & Leukemia:CHP\\_323\\_X03-cfDNA           & 71\\\\\n",
       "\t2 & CHP\\_323\\_05 & CHP\\_323 & X05 & 0 & 979.50 &  1 & HR ALL & 0 & 0 & NA & ... &  0.25983842 &  0.5856662 &  0.03694791 &  0.2037428 &  0.9895571 &  -0.2918142 & -1.03382807 &  0.68828218 & Leukemia:CHP\\_323\\_X05-cfDNA           &  9\\\\\n",
       "\t3 & CHP\\_324\\_04 & CHP\\_324 & X04 & 0 &   0.00 & 12 & T-ALL  & 0 & 0 & NA & ... & -0.85235289 & -0.8523529 & -2.42588499 & -0.2790740 &  0.1117550 &   1.7122042 &  0.09042876 & -0.07326199 & T-cellmalignancies:CHP\\_324\\_X04-cfDNA &  1\\\\\n",
       "\t4 & CHP\\_324\\_05 & CHP\\_324 & X05 & 0 &   0.00 & 12 & T-ALL  & 0 & 0 & NA & ... & -1.17906074 & -1.1790607 & -2.20171492 & -0.2392266 &  0.1373460 &   1.5349325 &  0.14012792 & -0.08421036 & T-cellmalignancies:CHP\\_324\\_X05-cfDNA &  2\\\\\n",
       "\t5 & CHP\\_326\\_05 & CHP\\_326 & X05 & 0 & 972.90 &  4 & SR ALL & 0 & 0 & NA & ... &  0.08628995 &  0.2607004 &  1.53369308 &  0.6800554 & -0.7668898 &  -0.9056822 &  0.51843452 & -0.90888221 & Leukemia:CHP\\_326\\_X05-cfDNA           & 13\\\\\n",
       "\t6 & CHP\\_328\\_05 & CHP\\_328 & X05 & 0 &  91.16 &  7 & SR ALL & 0 & 0 & NA & ... &          NA &         NA & -1.73881538 & -0.8087552 & -0.8391630 &   1.2267221 &  0.09263065 &  0.06769804 & Leukemia:CHP\\_328\\_X05-cfDNA           &  0\\\\\n",
       "\\end{tabular}\n"
      ],
      "text/markdown": [
       "\n",
       "A data.frame: 6 x 76\n",
       "\n",
       "| <!--/--> | sample_id &lt;chr&gt; | Patient &lt;chr&gt; | cycle &lt;chr&gt; | FOLD &lt;dbl&gt; | ATC &lt;dbl&gt; | Age &lt;dbl&gt; | Disease_type &lt;chr&gt; | TE_fold &lt;dbl&gt; | CD3 &lt;int&gt; | EM &lt;int&gt; | ... ... | aveTiRP &lt;dbl&gt; | medTiRP &lt;dbl&gt; | V_PC1 &lt;dbl&gt; | V_PC2 &lt;dbl&gt; | V_PC3 &lt;dbl&gt; | J_PC1 &lt;dbl&gt; | J_PC2 &lt;dbl&gt; | J_PC3 &lt;dbl&gt; | samplename &lt;chr&gt; | gliph_n &lt;dbl&gt; |\n",
       "|---|---|---|---|---|---|---|---|---|---|---|---|---|---|---|---|---|---|---|---|---|---|\n",
       "| 1 | CHP_323_03 | CHP_323 | X03 | 0 | 786.24 |  1 | HR ALL | 0 | 0 | NA | ... |  0.04826843 |  0.1393051 | 15.83866850 |  7.9531074 |  9.4381691 | -12.2473929 | -1.42025844 | -1.04697016 | Leukemia:CHP_323_X03-cfDNA           | 71 |\n",
       "| 2 | CHP_323_05 | CHP_323 | X05 | 0 | 979.50 |  1 | HR ALL | 0 | 0 | NA | ... |  0.25983842 |  0.5856662 |  0.03694791 |  0.2037428 |  0.9895571 |  -0.2918142 | -1.03382807 |  0.68828218 | Leukemia:CHP_323_X05-cfDNA           |  9 |\n",
       "| 3 | CHP_324_04 | CHP_324 | X04 | 0 |   0.00 | 12 | T-ALL  | 0 | 0 | NA | ... | -0.85235289 | -0.8523529 | -2.42588499 | -0.2790740 |  0.1117550 |   1.7122042 |  0.09042876 | -0.07326199 | T-cellmalignancies:CHP_324_X04-cfDNA |  1 |\n",
       "| 4 | CHP_324_05 | CHP_324 | X05 | 0 |   0.00 | 12 | T-ALL  | 0 | 0 | NA | ... | -1.17906074 | -1.1790607 | -2.20171492 | -0.2392266 |  0.1373460 |   1.5349325 |  0.14012792 | -0.08421036 | T-cellmalignancies:CHP_324_X05-cfDNA |  2 |\n",
       "| 5 | CHP_326_05 | CHP_326 | X05 | 0 | 972.90 |  4 | SR ALL | 0 | 0 | NA | ... |  0.08628995 |  0.2607004 |  1.53369308 |  0.6800554 | -0.7668898 |  -0.9056822 |  0.51843452 | -0.90888221 | Leukemia:CHP_326_X05-cfDNA           | 13 |\n",
       "| 6 | CHP_328_05 | CHP_328 | X05 | 0 |  91.16 |  7 | SR ALL | 0 | 0 | NA | ... |          NA |         NA | -1.73881538 | -0.8087552 | -0.8391630 |   1.2267221 |  0.09263065 |  0.06769804 | Leukemia:CHP_328_X05-cfDNA           |  0 |\n",
       "\n"
      ],
      "text/plain": [
       "  sample_id  Patient cycle FOLD ATC    Age Disease_type TE_fold CD3 EM ...\n",
       "1 CHP_323_03 CHP_323 X03   0    786.24  1  HR ALL       0       0   NA ...\n",
       "2 CHP_323_05 CHP_323 X05   0    979.50  1  HR ALL       0       0   NA ...\n",
       "3 CHP_324_04 CHP_324 X04   0      0.00 12  T-ALL        0       0   NA ...\n",
       "4 CHP_324_05 CHP_324 X05   0      0.00 12  T-ALL        0       0   NA ...\n",
       "5 CHP_326_05 CHP_326 X05   0    972.90  4  SR ALL       0       0   NA ...\n",
       "6 CHP_328_05 CHP_328 X05   0     91.16  7  SR ALL       0       0   NA ...\n",
       "  aveTiRP     medTiRP    V_PC1       V_PC2      V_PC3      J_PC1      \n",
       "1  0.04826843  0.1393051 15.83866850  7.9531074  9.4381691 -12.2473929\n",
       "2  0.25983842  0.5856662  0.03694791  0.2037428  0.9895571  -0.2918142\n",
       "3 -0.85235289 -0.8523529 -2.42588499 -0.2790740  0.1117550   1.7122042\n",
       "4 -1.17906074 -1.1790607 -2.20171492 -0.2392266  0.1373460   1.5349325\n",
       "5  0.08628995  0.2607004  1.53369308  0.6800554 -0.7668898  -0.9056822\n",
       "6          NA         NA -1.73881538 -0.8087552 -0.8391630   1.2267221\n",
       "  J_PC2       J_PC3       samplename                           gliph_n\n",
       "1 -1.42025844 -1.04697016 Leukemia:CHP_323_X03-cfDNA           71     \n",
       "2 -1.03382807  0.68828218 Leukemia:CHP_323_X05-cfDNA            9     \n",
       "3  0.09042876 -0.07326199 T-cellmalignancies:CHP_324_X04-cfDNA  1     \n",
       "4  0.14012792 -0.08421036 T-cellmalignancies:CHP_324_X05-cfDNA  2     \n",
       "5  0.51843452 -0.90888221 Leukemia:CHP_326_X05-cfDNA           13     \n",
       "6  0.09263065  0.06769804 Leukemia:CHP_328_X05-cfDNA            0     "
      ]
     },
     "metadata": {},
     "output_type": "display_data"
    }
   ],
   "source": [
    "head(cfdna)"
   ]
  },
  {
   "cell_type": "code",
   "execution_count": 150,
   "metadata": {
    "vscode": {
     "languageId": "r"
    }
   },
   "outputs": [],
   "source": [
    "cfdna$CMV <- NA\n",
    "cfdna$EBV <- NA\n",
    "cfdna$HCV <- NA\n",
    "cfdna$Flu <- NA\n",
    "cfdna$hs <- NA"
   ]
  },
  {
   "cell_type": "code",
   "execution_count": 151,
   "metadata": {
    "vscode": {
     "languageId": "r"
    }
   },
   "outputs": [],
   "source": [
    "for(i in 1:nrow(cfdna) ){\n",
    "    mygliph <- gliph_out[ gliph_out$Sample == cfdna$samplename[i], ]\n",
    "    tmp <- gliphdf[ match(mygliph$pattern, gliphdf$gliph),]\n",
    "    vsums <- colSums(tmp[,2:6])\n",
    "    cfdna[i, c(\"CMV\", \"EBV\", \"HCV\", \"Flu\", \"hs\")] <- vsums\n",
    "}"
   ]
  },
  {
   "cell_type": "code",
   "execution_count": 152,
   "metadata": {
    "vscode": {
     "languageId": "r"
    }
   },
   "outputs": [
    {
     "data": {
      "text/html": [
       "<style>\n",
       ".list-inline {list-style: none; margin:0; padding: 0}\n",
       ".list-inline>li {display: inline-block}\n",
       ".list-inline>li:not(:last-child)::after {content: \"\\00b7\"; padding: 0 .5ex}\n",
       "</style>\n",
       "<ol class=list-inline><li>'sample_id'</li><li>'Patient'</li><li>'cycle'</li><li>'FOLD'</li><li>'ATC'</li><li>'Age'</li><li>'Disease_type'</li><li>'TE_fold'</li><li>'CD3'</li><li>'EM'</li><li>'CM'</li><li>'Naïve'</li><li>'SCM'</li><li>'TE'</li><li>'EM%'</li><li>'CM%'</li><li>'Naïve%'</li><li>'SCM%'</li><li>'TE%'</li><li>'Naïve/TE'</li><li>'N+CM+SCM/TE+EM'</li><li>'PD-1'</li><li>'PDL1'</li><li>'LAG3'</li><li>'TIM3'</li><li>'CTLA4'</li><li>'PD1%'</li><li>'PDL1%'</li><li>'LAG3%'</li><li>'TIM3%'</li><li>'CTLA4%'</li><li>'Any NCR'</li><li>'PD1 + LAG3 + TIM3'</li><li>'cancergroup'</li><li>'agegroup'</li><li>'foldgroup'</li><li>'Remission'</li><li>'Relapse'</li><li>'Transplant'</li><li>'CART'</li><li>'vital_status'</li><li>'LOF'</li><li>'TRB'</li><li>'Reads'</li><li>'CPKR'</li><li>'Average_reads'</li><li>'VMR'</li><li>'Max_reads'</li><li>'Singletons'</li><li>'Doubletons'</li><li>'qD'</li><li>'Sample_Coverage'</li><li>'observed_Richness'</li><li>'estimated_Richness'</li><li>'SE_Richeness'</li><li>'observed_Shannon'</li><li>'estimated_Shannon'</li><li>'SE_Shannon'</li><li>'observed_Simpson'</li><li>'estimated_Simpson'</li><li>'SE_Simpson'</li><li>'basename'</li><li>'file'</li><li>'sampletype'</li><li>'Group'</li><li>'log10shann'</li><li>'aveTiRP'</li><li>'medTiRP'</li><li>'V_PC1'</li><li>'V_PC2'</li><li>'V_PC3'</li><li>'J_PC1'</li><li>'J_PC2'</li><li>'J_PC3'</li><li>'samplename'</li><li>'gliph_n'</li><li>'CMV'</li><li>'EBV'</li><li>'HCV'</li><li>'Flu'</li><li>'hs'</li></ol>\n"
      ],
      "text/latex": [
       "\\begin{enumerate*}\n",
       "\\item 'sample\\_id'\n",
       "\\item 'Patient'\n",
       "\\item 'cycle'\n",
       "\\item 'FOLD'\n",
       "\\item 'ATC'\n",
       "\\item 'Age'\n",
       "\\item 'Disease\\_type'\n",
       "\\item 'TE\\_fold'\n",
       "\\item 'CD3'\n",
       "\\item 'EM'\n",
       "\\item 'CM'\n",
       "\\item 'Naïve'\n",
       "\\item 'SCM'\n",
       "\\item 'TE'\n",
       "\\item 'EM\\%'\n",
       "\\item 'CM\\%'\n",
       "\\item 'Naïve\\%'\n",
       "\\item 'SCM\\%'\n",
       "\\item 'TE\\%'\n",
       "\\item 'Naïve/TE'\n",
       "\\item 'N+CM+SCM/TE+EM'\n",
       "\\item 'PD-1'\n",
       "\\item 'PDL1'\n",
       "\\item 'LAG3'\n",
       "\\item 'TIM3'\n",
       "\\item 'CTLA4'\n",
       "\\item 'PD1\\%'\n",
       "\\item 'PDL1\\%'\n",
       "\\item 'LAG3\\%'\n",
       "\\item 'TIM3\\%'\n",
       "\\item 'CTLA4\\%'\n",
       "\\item 'Any NCR'\n",
       "\\item 'PD1 + LAG3 + TIM3'\n",
       "\\item 'cancergroup'\n",
       "\\item 'agegroup'\n",
       "\\item 'foldgroup'\n",
       "\\item 'Remission'\n",
       "\\item 'Relapse'\n",
       "\\item 'Transplant'\n",
       "\\item 'CART'\n",
       "\\item 'vital\\_status'\n",
       "\\item 'LOF'\n",
       "\\item 'TRB'\n",
       "\\item 'Reads'\n",
       "\\item 'CPKR'\n",
       "\\item 'Average\\_reads'\n",
       "\\item 'VMR'\n",
       "\\item 'Max\\_reads'\n",
       "\\item 'Singletons'\n",
       "\\item 'Doubletons'\n",
       "\\item 'qD'\n",
       "\\item 'Sample\\_Coverage'\n",
       "\\item 'observed\\_Richness'\n",
       "\\item 'estimated\\_Richness'\n",
       "\\item 'SE\\_Richeness'\n",
       "\\item 'observed\\_Shannon'\n",
       "\\item 'estimated\\_Shannon'\n",
       "\\item 'SE\\_Shannon'\n",
       "\\item 'observed\\_Simpson'\n",
       "\\item 'estimated\\_Simpson'\n",
       "\\item 'SE\\_Simpson'\n",
       "\\item 'basename'\n",
       "\\item 'file'\n",
       "\\item 'sampletype'\n",
       "\\item 'Group'\n",
       "\\item 'log10shann'\n",
       "\\item 'aveTiRP'\n",
       "\\item 'medTiRP'\n",
       "\\item 'V\\_PC1'\n",
       "\\item 'V\\_PC2'\n",
       "\\item 'V\\_PC3'\n",
       "\\item 'J\\_PC1'\n",
       "\\item 'J\\_PC2'\n",
       "\\item 'J\\_PC3'\n",
       "\\item 'samplename'\n",
       "\\item 'gliph\\_n'\n",
       "\\item 'CMV'\n",
       "\\item 'EBV'\n",
       "\\item 'HCV'\n",
       "\\item 'Flu'\n",
       "\\item 'hs'\n",
       "\\end{enumerate*}\n"
      ],
      "text/markdown": [
       "1. 'sample_id'\n",
       "2. 'Patient'\n",
       "3. 'cycle'\n",
       "4. 'FOLD'\n",
       "5. 'ATC'\n",
       "6. 'Age'\n",
       "7. 'Disease_type'\n",
       "8. 'TE_fold'\n",
       "9. 'CD3'\n",
       "10. 'EM'\n",
       "11. 'CM'\n",
       "12. 'Naïve'\n",
       "13. 'SCM'\n",
       "14. 'TE'\n",
       "15. 'EM%'\n",
       "16. 'CM%'\n",
       "17. 'Naïve%'\n",
       "18. 'SCM%'\n",
       "19. 'TE%'\n",
       "20. 'Naïve/TE'\n",
       "21. 'N+CM+SCM/TE+EM'\n",
       "22. 'PD-1'\n",
       "23. 'PDL1'\n",
       "24. 'LAG3'\n",
       "25. 'TIM3'\n",
       "26. 'CTLA4'\n",
       "27. 'PD1%'\n",
       "28. 'PDL1%'\n",
       "29. 'LAG3%'\n",
       "30. 'TIM3%'\n",
       "31. 'CTLA4%'\n",
       "32. 'Any NCR'\n",
       "33. 'PD1 + LAG3 + TIM3'\n",
       "34. 'cancergroup'\n",
       "35. 'agegroup'\n",
       "36. 'foldgroup'\n",
       "37. 'Remission'\n",
       "38. 'Relapse'\n",
       "39. 'Transplant'\n",
       "40. 'CART'\n",
       "41. 'vital_status'\n",
       "42. 'LOF'\n",
       "43. 'TRB'\n",
       "44. 'Reads'\n",
       "45. 'CPKR'\n",
       "46. 'Average_reads'\n",
       "47. 'VMR'\n",
       "48. 'Max_reads'\n",
       "49. 'Singletons'\n",
       "50. 'Doubletons'\n",
       "51. 'qD'\n",
       "52. 'Sample_Coverage'\n",
       "53. 'observed_Richness'\n",
       "54. 'estimated_Richness'\n",
       "55. 'SE_Richeness'\n",
       "56. 'observed_Shannon'\n",
       "57. 'estimated_Shannon'\n",
       "58. 'SE_Shannon'\n",
       "59. 'observed_Simpson'\n",
       "60. 'estimated_Simpson'\n",
       "61. 'SE_Simpson'\n",
       "62. 'basename'\n",
       "63. 'file'\n",
       "64. 'sampletype'\n",
       "65. 'Group'\n",
       "66. 'log10shann'\n",
       "67. 'aveTiRP'\n",
       "68. 'medTiRP'\n",
       "69. 'V_PC1'\n",
       "70. 'V_PC2'\n",
       "71. 'V_PC3'\n",
       "72. 'J_PC1'\n",
       "73. 'J_PC2'\n",
       "74. 'J_PC3'\n",
       "75. 'samplename'\n",
       "76. 'gliph_n'\n",
       "77. 'CMV'\n",
       "78. 'EBV'\n",
       "79. 'HCV'\n",
       "80. 'Flu'\n",
       "81. 'hs'\n",
       "\n",
       "\n"
      ],
      "text/plain": [
       " [1] \"sample_id\"          \"Patient\"            \"cycle\"             \n",
       " [4] \"FOLD\"               \"ATC\"                \"Age\"               \n",
       " [7] \"Disease_type\"       \"TE_fold\"            \"CD3\"               \n",
       "[10] \"EM\"                 \"CM\"                 \"Naïve\"             \n",
       "[13] \"SCM\"                \"TE\"                 \"EM%\"               \n",
       "[16] \"CM%\"                \"Naïve%\"             \"SCM%\"              \n",
       "[19] \"TE%\"                \"Naïve/TE\"           \"N+CM+SCM/TE+EM\"    \n",
       "[22] \"PD-1\"               \"PDL1\"               \"LAG3\"              \n",
       "[25] \"TIM3\"               \"CTLA4\"              \"PD1%\"              \n",
       "[28] \"PDL1%\"              \"LAG3%\"              \"TIM3%\"             \n",
       "[31] \"CTLA4%\"             \"Any NCR\"            \"PD1 + LAG3 + TIM3\" \n",
       "[34] \"cancergroup\"        \"agegroup\"           \"foldgroup\"         \n",
       "[37] \"Remission\"          \"Relapse\"            \"Transplant\"        \n",
       "[40] \"CART\"               \"vital_status\"       \"LOF\"               \n",
       "[43] \"TRB\"                \"Reads\"              \"CPKR\"              \n",
       "[46] \"Average_reads\"      \"VMR\"                \"Max_reads\"         \n",
       "[49] \"Singletons\"         \"Doubletons\"         \"qD\"                \n",
       "[52] \"Sample_Coverage\"    \"observed_Richness\"  \"estimated_Richness\"\n",
       "[55] \"SE_Richeness\"       \"observed_Shannon\"   \"estimated_Shannon\" \n",
       "[58] \"SE_Shannon\"         \"observed_Simpson\"   \"estimated_Simpson\" \n",
       "[61] \"SE_Simpson\"         \"basename\"           \"file\"              \n",
       "[64] \"sampletype\"         \"Group\"              \"log10shann\"        \n",
       "[67] \"aveTiRP\"            \"medTiRP\"            \"V_PC1\"             \n",
       "[70] \"V_PC2\"              \"V_PC3\"              \"J_PC1\"             \n",
       "[73] \"J_PC2\"              \"J_PC3\"              \"samplename\"        \n",
       "[76] \"gliph_n\"            \"CMV\"                \"EBV\"               \n",
       "[79] \"HCV\"                \"Flu\"                \"hs\"                "
      ]
     },
     "metadata": {},
     "output_type": "display_data"
    }
   ],
   "source": [
    "colnames(cfdna)"
   ]
  },
  {
   "cell_type": "code",
   "execution_count": 153,
   "metadata": {
    "vscode": {
     "languageId": "r"
    }
   },
   "outputs": [],
   "source": [
    "colnames(cfdna)[43:ncol(cfdna)] <- paste0(\"cfDNA_\", colnames(cfdna)[43:ncol(cfdna)] )"
   ]
  },
  {
   "cell_type": "code",
   "execution_count": 154,
   "metadata": {
    "vscode": {
     "languageId": "r"
    }
   },
   "outputs": [
    {
     "data": {
      "text/html": [
       "<style>\n",
       ".list-inline {list-style: none; margin:0; padding: 0}\n",
       ".list-inline>li {display: inline-block}\n",
       ".list-inline>li:not(:last-child)::after {content: \"\\00b7\"; padding: 0 .5ex}\n",
       "</style>\n",
       "<ol class=list-inline><li>'sample_id'</li><li>'Patient'</li><li>'cycle'</li><li>'FOLD'</li><li>'ATC'</li><li>'Age'</li><li>'Disease_type'</li><li>'TE_fold'</li><li>'CD3'</li><li>'EM'</li><li>'CM'</li><li>'Naïve'</li><li>'SCM'</li><li>'TE'</li><li>'EM%'</li><li>'CM%'</li><li>'Naïve%'</li><li>'SCM%'</li><li>'TE%'</li><li>'Naïve/TE'</li><li>'N+CM+SCM/TE+EM'</li><li>'PD-1'</li><li>'PDL1'</li><li>'LAG3'</li><li>'TIM3'</li><li>'CTLA4'</li><li>'PD1%'</li><li>'PDL1%'</li><li>'LAG3%'</li><li>'TIM3%'</li><li>'CTLA4%'</li><li>'Any NCR'</li><li>'PD1 + LAG3 + TIM3'</li><li>'cancergroup'</li><li>'agegroup'</li><li>'foldgroup'</li><li>'Remission'</li><li>'Relapse'</li><li>'Transplant'</li><li>'CART'</li><li>'vital_status'</li><li>'LOF'</li><li>'cfDNA_TRB'</li><li>'cfDNA_Reads'</li><li>'cfDNA_CPKR'</li><li>'cfDNA_Average_reads'</li><li>'cfDNA_VMR'</li><li>'cfDNA_Max_reads'</li><li>'cfDNA_Singletons'</li><li>'cfDNA_Doubletons'</li><li>'cfDNA_qD'</li><li>'cfDNA_Sample_Coverage'</li><li>'cfDNA_observed_Richness'</li><li>'cfDNA_estimated_Richness'</li><li>'cfDNA_SE_Richeness'</li><li>'cfDNA_observed_Shannon'</li><li>'cfDNA_estimated_Shannon'</li><li>'cfDNA_SE_Shannon'</li><li>'cfDNA_observed_Simpson'</li><li>'cfDNA_estimated_Simpson'</li><li>'cfDNA_SE_Simpson'</li><li>'cfDNA_basename'</li><li>'cfDNA_file'</li><li>'cfDNA_sampletype'</li><li>'cfDNA_Group'</li><li>'cfDNA_log10shann'</li><li>'cfDNA_aveTiRP'</li><li>'cfDNA_medTiRP'</li><li>'cfDNA_V_PC1'</li><li>'cfDNA_V_PC2'</li><li>'cfDNA_V_PC3'</li><li>'cfDNA_J_PC1'</li><li>'cfDNA_J_PC2'</li><li>'cfDNA_J_PC3'</li><li>'cfDNA_samplename'</li><li>'cfDNA_gliph_n'</li><li>'cfDNA_CMV'</li><li>'cfDNA_EBV'</li><li>'cfDNA_HCV'</li><li>'cfDNA_Flu'</li><li>'cfDNA_hs'</li></ol>\n"
      ],
      "text/latex": [
       "\\begin{enumerate*}\n",
       "\\item 'sample\\_id'\n",
       "\\item 'Patient'\n",
       "\\item 'cycle'\n",
       "\\item 'FOLD'\n",
       "\\item 'ATC'\n",
       "\\item 'Age'\n",
       "\\item 'Disease\\_type'\n",
       "\\item 'TE\\_fold'\n",
       "\\item 'CD3'\n",
       "\\item 'EM'\n",
       "\\item 'CM'\n",
       "\\item 'Naïve'\n",
       "\\item 'SCM'\n",
       "\\item 'TE'\n",
       "\\item 'EM\\%'\n",
       "\\item 'CM\\%'\n",
       "\\item 'Naïve\\%'\n",
       "\\item 'SCM\\%'\n",
       "\\item 'TE\\%'\n",
       "\\item 'Naïve/TE'\n",
       "\\item 'N+CM+SCM/TE+EM'\n",
       "\\item 'PD-1'\n",
       "\\item 'PDL1'\n",
       "\\item 'LAG3'\n",
       "\\item 'TIM3'\n",
       "\\item 'CTLA4'\n",
       "\\item 'PD1\\%'\n",
       "\\item 'PDL1\\%'\n",
       "\\item 'LAG3\\%'\n",
       "\\item 'TIM3\\%'\n",
       "\\item 'CTLA4\\%'\n",
       "\\item 'Any NCR'\n",
       "\\item 'PD1 + LAG3 + TIM3'\n",
       "\\item 'cancergroup'\n",
       "\\item 'agegroup'\n",
       "\\item 'foldgroup'\n",
       "\\item 'Remission'\n",
       "\\item 'Relapse'\n",
       "\\item 'Transplant'\n",
       "\\item 'CART'\n",
       "\\item 'vital\\_status'\n",
       "\\item 'LOF'\n",
       "\\item 'cfDNA\\_TRB'\n",
       "\\item 'cfDNA\\_Reads'\n",
       "\\item 'cfDNA\\_CPKR'\n",
       "\\item 'cfDNA\\_Average\\_reads'\n",
       "\\item 'cfDNA\\_VMR'\n",
       "\\item 'cfDNA\\_Max\\_reads'\n",
       "\\item 'cfDNA\\_Singletons'\n",
       "\\item 'cfDNA\\_Doubletons'\n",
       "\\item 'cfDNA\\_qD'\n",
       "\\item 'cfDNA\\_Sample\\_Coverage'\n",
       "\\item 'cfDNA\\_observed\\_Richness'\n",
       "\\item 'cfDNA\\_estimated\\_Richness'\n",
       "\\item 'cfDNA\\_SE\\_Richeness'\n",
       "\\item 'cfDNA\\_observed\\_Shannon'\n",
       "\\item 'cfDNA\\_estimated\\_Shannon'\n",
       "\\item 'cfDNA\\_SE\\_Shannon'\n",
       "\\item 'cfDNA\\_observed\\_Simpson'\n",
       "\\item 'cfDNA\\_estimated\\_Simpson'\n",
       "\\item 'cfDNA\\_SE\\_Simpson'\n",
       "\\item 'cfDNA\\_basename'\n",
       "\\item 'cfDNA\\_file'\n",
       "\\item 'cfDNA\\_sampletype'\n",
       "\\item 'cfDNA\\_Group'\n",
       "\\item 'cfDNA\\_log10shann'\n",
       "\\item 'cfDNA\\_aveTiRP'\n",
       "\\item 'cfDNA\\_medTiRP'\n",
       "\\item 'cfDNA\\_V\\_PC1'\n",
       "\\item 'cfDNA\\_V\\_PC2'\n",
       "\\item 'cfDNA\\_V\\_PC3'\n",
       "\\item 'cfDNA\\_J\\_PC1'\n",
       "\\item 'cfDNA\\_J\\_PC2'\n",
       "\\item 'cfDNA\\_J\\_PC3'\n",
       "\\item 'cfDNA\\_samplename'\n",
       "\\item 'cfDNA\\_gliph\\_n'\n",
       "\\item 'cfDNA\\_CMV'\n",
       "\\item 'cfDNA\\_EBV'\n",
       "\\item 'cfDNA\\_HCV'\n",
       "\\item 'cfDNA\\_Flu'\n",
       "\\item 'cfDNA\\_hs'\n",
       "\\end{enumerate*}\n"
      ],
      "text/markdown": [
       "1. 'sample_id'\n",
       "2. 'Patient'\n",
       "3. 'cycle'\n",
       "4. 'FOLD'\n",
       "5. 'ATC'\n",
       "6. 'Age'\n",
       "7. 'Disease_type'\n",
       "8. 'TE_fold'\n",
       "9. 'CD3'\n",
       "10. 'EM'\n",
       "11. 'CM'\n",
       "12. 'Naïve'\n",
       "13. 'SCM'\n",
       "14. 'TE'\n",
       "15. 'EM%'\n",
       "16. 'CM%'\n",
       "17. 'Naïve%'\n",
       "18. 'SCM%'\n",
       "19. 'TE%'\n",
       "20. 'Naïve/TE'\n",
       "21. 'N+CM+SCM/TE+EM'\n",
       "22. 'PD-1'\n",
       "23. 'PDL1'\n",
       "24. 'LAG3'\n",
       "25. 'TIM3'\n",
       "26. 'CTLA4'\n",
       "27. 'PD1%'\n",
       "28. 'PDL1%'\n",
       "29. 'LAG3%'\n",
       "30. 'TIM3%'\n",
       "31. 'CTLA4%'\n",
       "32. 'Any NCR'\n",
       "33. 'PD1 + LAG3 + TIM3'\n",
       "34. 'cancergroup'\n",
       "35. 'agegroup'\n",
       "36. 'foldgroup'\n",
       "37. 'Remission'\n",
       "38. 'Relapse'\n",
       "39. 'Transplant'\n",
       "40. 'CART'\n",
       "41. 'vital_status'\n",
       "42. 'LOF'\n",
       "43. 'cfDNA_TRB'\n",
       "44. 'cfDNA_Reads'\n",
       "45. 'cfDNA_CPKR'\n",
       "46. 'cfDNA_Average_reads'\n",
       "47. 'cfDNA_VMR'\n",
       "48. 'cfDNA_Max_reads'\n",
       "49. 'cfDNA_Singletons'\n",
       "50. 'cfDNA_Doubletons'\n",
       "51. 'cfDNA_qD'\n",
       "52. 'cfDNA_Sample_Coverage'\n",
       "53. 'cfDNA_observed_Richness'\n",
       "54. 'cfDNA_estimated_Richness'\n",
       "55. 'cfDNA_SE_Richeness'\n",
       "56. 'cfDNA_observed_Shannon'\n",
       "57. 'cfDNA_estimated_Shannon'\n",
       "58. 'cfDNA_SE_Shannon'\n",
       "59. 'cfDNA_observed_Simpson'\n",
       "60. 'cfDNA_estimated_Simpson'\n",
       "61. 'cfDNA_SE_Simpson'\n",
       "62. 'cfDNA_basename'\n",
       "63. 'cfDNA_file'\n",
       "64. 'cfDNA_sampletype'\n",
       "65. 'cfDNA_Group'\n",
       "66. 'cfDNA_log10shann'\n",
       "67. 'cfDNA_aveTiRP'\n",
       "68. 'cfDNA_medTiRP'\n",
       "69. 'cfDNA_V_PC1'\n",
       "70. 'cfDNA_V_PC2'\n",
       "71. 'cfDNA_V_PC3'\n",
       "72. 'cfDNA_J_PC1'\n",
       "73. 'cfDNA_J_PC2'\n",
       "74. 'cfDNA_J_PC3'\n",
       "75. 'cfDNA_samplename'\n",
       "76. 'cfDNA_gliph_n'\n",
       "77. 'cfDNA_CMV'\n",
       "78. 'cfDNA_EBV'\n",
       "79. 'cfDNA_HCV'\n",
       "80. 'cfDNA_Flu'\n",
       "81. 'cfDNA_hs'\n",
       "\n",
       "\n"
      ],
      "text/plain": [
       " [1] \"sample_id\"                \"Patient\"                 \n",
       " [3] \"cycle\"                    \"FOLD\"                    \n",
       " [5] \"ATC\"                      \"Age\"                     \n",
       " [7] \"Disease_type\"             \"TE_fold\"                 \n",
       " [9] \"CD3\"                      \"EM\"                      \n",
       "[11] \"CM\"                       \"Naïve\"                   \n",
       "[13] \"SCM\"                      \"TE\"                      \n",
       "[15] \"EM%\"                      \"CM%\"                     \n",
       "[17] \"Naïve%\"                   \"SCM%\"                    \n",
       "[19] \"TE%\"                      \"Naïve/TE\"                \n",
       "[21] \"N+CM+SCM/TE+EM\"           \"PD-1\"                    \n",
       "[23] \"PDL1\"                     \"LAG3\"                    \n",
       "[25] \"TIM3\"                     \"CTLA4\"                   \n",
       "[27] \"PD1%\"                     \"PDL1%\"                   \n",
       "[29] \"LAG3%\"                    \"TIM3%\"                   \n",
       "[31] \"CTLA4%\"                   \"Any NCR\"                 \n",
       "[33] \"PD1 + LAG3 + TIM3\"        \"cancergroup\"             \n",
       "[35] \"agegroup\"                 \"foldgroup\"               \n",
       "[37] \"Remission\"                \"Relapse\"                 \n",
       "[39] \"Transplant\"               \"CART\"                    \n",
       "[41] \"vital_status\"             \"LOF\"                     \n",
       "[43] \"cfDNA_TRB\"                \"cfDNA_Reads\"             \n",
       "[45] \"cfDNA_CPKR\"               \"cfDNA_Average_reads\"     \n",
       "[47] \"cfDNA_VMR\"                \"cfDNA_Max_reads\"         \n",
       "[49] \"cfDNA_Singletons\"         \"cfDNA_Doubletons\"        \n",
       "[51] \"cfDNA_qD\"                 \"cfDNA_Sample_Coverage\"   \n",
       "[53] \"cfDNA_observed_Richness\"  \"cfDNA_estimated_Richness\"\n",
       "[55] \"cfDNA_SE_Richeness\"       \"cfDNA_observed_Shannon\"  \n",
       "[57] \"cfDNA_estimated_Shannon\"  \"cfDNA_SE_Shannon\"        \n",
       "[59] \"cfDNA_observed_Simpson\"   \"cfDNA_estimated_Simpson\" \n",
       "[61] \"cfDNA_SE_Simpson\"         \"cfDNA_basename\"          \n",
       "[63] \"cfDNA_file\"               \"cfDNA_sampletype\"        \n",
       "[65] \"cfDNA_Group\"              \"cfDNA_log10shann\"        \n",
       "[67] \"cfDNA_aveTiRP\"            \"cfDNA_medTiRP\"           \n",
       "[69] \"cfDNA_V_PC1\"              \"cfDNA_V_PC2\"             \n",
       "[71] \"cfDNA_V_PC3\"              \"cfDNA_J_PC1\"             \n",
       "[73] \"cfDNA_J_PC2\"              \"cfDNA_J_PC3\"             \n",
       "[75] \"cfDNA_samplename\"         \"cfDNA_gliph_n\"           \n",
       "[77] \"cfDNA_CMV\"                \"cfDNA_EBV\"               \n",
       "[79] \"cfDNA_HCV\"                \"cfDNA_Flu\"               \n",
       "[81] \"cfDNA_hs\"                "
      ]
     },
     "metadata": {},
     "output_type": "display_data"
    }
   ],
   "source": [
    "colnames(cfdna)"
   ]
  },
  {
   "cell_type": "markdown",
   "metadata": {},
   "source": [
    "# COmbine PBMC and cfDNA"
   ]
  },
  {
   "cell_type": "code",
   "execution_count": 155,
   "metadata": {
    "vscode": {
     "languageId": "r"
    }
   },
   "outputs": [],
   "source": [
    "sample_df <- pbmc"
   ]
  },
  {
   "cell_type": "code",
   "execution_count": 156,
   "metadata": {
    "vscode": {
     "languageId": "r"
    }
   },
   "outputs": [],
   "source": [
    "sample_df <- cbind(sample_df, cfdna[ match(sample_df$sample_id, cfdna$sample_id), 43:ncol(cfdna)])"
   ]
  },
  {
   "cell_type": "code",
   "execution_count": 157,
   "metadata": {
    "vscode": {
     "languageId": "r"
    }
   },
   "outputs": [
    {
     "data": {
      "text/html": [
       "<style>\n",
       ".list-inline {list-style: none; margin:0; padding: 0}\n",
       ".list-inline>li {display: inline-block}\n",
       ".list-inline>li:not(:last-child)::after {content: \"\\00b7\"; padding: 0 .5ex}\n",
       "</style>\n",
       "<ol class=list-inline><li>'sample_id'</li><li>'Patient'</li><li>'cycle'</li><li>'FOLD'</li><li>'ATC'</li><li>'Age'</li><li>'Disease_type'</li><li>'TE_fold'</li><li>'CD3'</li><li>'EM'</li><li>'CM'</li><li>'Naïve'</li><li>'SCM'</li><li>'TE'</li><li>'EM%'</li><li>'CM%'</li><li>'Naïve%'</li><li>'SCM%'</li><li>'TE%'</li><li>'Naïve/TE'</li><li>'N+CM+SCM/TE+EM'</li><li>'PD-1'</li><li>'PDL1'</li><li>'LAG3'</li><li>'TIM3'</li><li>'CTLA4'</li><li>'PD1%'</li><li>'PDL1%'</li><li>'LAG3%'</li><li>'TIM3%'</li><li>'CTLA4%'</li><li>'Any NCR'</li><li>'PD1 + LAG3 + TIM3'</li><li>'cancergroup'</li><li>'agegroup'</li><li>'foldgroup'</li><li>'Remission'</li><li>'Relapse'</li><li>'Transplant'</li><li>'CART'</li><li>'vital_status'</li><li>'LOF'</li><li>'TRB'</li><li>'Reads'</li><li>'CPKR'</li><li>'Average_reads'</li><li>'VMR'</li><li>'Max_reads'</li><li>'Singletons'</li><li>'Doubletons'</li><li>'qD'</li><li>'Sample_Coverage'</li><li>'observed_Richness'</li><li>'estimated_Richness'</li><li>'SE_Richeness'</li><li>'observed_Shannon'</li><li>'estimated_Shannon'</li><li>'SE_Shannon'</li><li>'observed_Simpson'</li><li>'estimated_Simpson'</li><li>'SE_Simpson'</li><li>'basename'</li><li>'file'</li><li>'sampletype'</li><li>'Group'</li><li>'log10shann'</li><li>'aveTiRP'</li><li>'medTiRP'</li><li>'HLA_PC1'</li><li>'HLA_PC2'</li><li>'HLA_PC3'</li><li>'V_PC1'</li><li>'V_PC2'</li><li>'V_PC3'</li><li>'J_PC1'</li><li>'J_PC2'</li><li>'J_PC3'</li><li>'samplename'</li><li>'gliph_n'</li><li>'CMV'</li><li>'EBV'</li><li>'HCV'</li><li>'Flu'</li><li>'hs'</li><li>'cfDNA_TRB'</li><li>'cfDNA_Reads'</li><li>'cfDNA_CPKR'</li><li>'cfDNA_Average_reads'</li><li>'cfDNA_VMR'</li><li>'cfDNA_Max_reads'</li><li>'cfDNA_Singletons'</li><li>'cfDNA_Doubletons'</li><li>'cfDNA_qD'</li><li>'cfDNA_Sample_Coverage'</li><li>'cfDNA_observed_Richness'</li><li>'cfDNA_estimated_Richness'</li><li>'cfDNA_SE_Richeness'</li><li>'cfDNA_observed_Shannon'</li><li>'cfDNA_estimated_Shannon'</li><li>'cfDNA_SE_Shannon'</li><li>'cfDNA_observed_Simpson'</li><li>'cfDNA_estimated_Simpson'</li><li>'cfDNA_SE_Simpson'</li><li>'cfDNA_basename'</li><li>'cfDNA_file'</li><li>'cfDNA_sampletype'</li><li>'cfDNA_Group'</li><li>'cfDNA_log10shann'</li><li>'cfDNA_aveTiRP'</li><li>'cfDNA_medTiRP'</li><li>'cfDNA_V_PC1'</li><li>'cfDNA_V_PC2'</li><li>'cfDNA_V_PC3'</li><li>'cfDNA_J_PC1'</li><li>'cfDNA_J_PC2'</li><li>'cfDNA_J_PC3'</li><li>'cfDNA_samplename'</li><li>'cfDNA_gliph_n'</li><li>'cfDNA_CMV'</li><li>'cfDNA_EBV'</li><li>'cfDNA_HCV'</li><li>'cfDNA_Flu'</li><li>'cfDNA_hs'</li></ol>\n"
      ],
      "text/latex": [
       "\\begin{enumerate*}\n",
       "\\item 'sample\\_id'\n",
       "\\item 'Patient'\n",
       "\\item 'cycle'\n",
       "\\item 'FOLD'\n",
       "\\item 'ATC'\n",
       "\\item 'Age'\n",
       "\\item 'Disease\\_type'\n",
       "\\item 'TE\\_fold'\n",
       "\\item 'CD3'\n",
       "\\item 'EM'\n",
       "\\item 'CM'\n",
       "\\item 'Naïve'\n",
       "\\item 'SCM'\n",
       "\\item 'TE'\n",
       "\\item 'EM\\%'\n",
       "\\item 'CM\\%'\n",
       "\\item 'Naïve\\%'\n",
       "\\item 'SCM\\%'\n",
       "\\item 'TE\\%'\n",
       "\\item 'Naïve/TE'\n",
       "\\item 'N+CM+SCM/TE+EM'\n",
       "\\item 'PD-1'\n",
       "\\item 'PDL1'\n",
       "\\item 'LAG3'\n",
       "\\item 'TIM3'\n",
       "\\item 'CTLA4'\n",
       "\\item 'PD1\\%'\n",
       "\\item 'PDL1\\%'\n",
       "\\item 'LAG3\\%'\n",
       "\\item 'TIM3\\%'\n",
       "\\item 'CTLA4\\%'\n",
       "\\item 'Any NCR'\n",
       "\\item 'PD1 + LAG3 + TIM3'\n",
       "\\item 'cancergroup'\n",
       "\\item 'agegroup'\n",
       "\\item 'foldgroup'\n",
       "\\item 'Remission'\n",
       "\\item 'Relapse'\n",
       "\\item 'Transplant'\n",
       "\\item 'CART'\n",
       "\\item 'vital\\_status'\n",
       "\\item 'LOF'\n",
       "\\item 'TRB'\n",
       "\\item 'Reads'\n",
       "\\item 'CPKR'\n",
       "\\item 'Average\\_reads'\n",
       "\\item 'VMR'\n",
       "\\item 'Max\\_reads'\n",
       "\\item 'Singletons'\n",
       "\\item 'Doubletons'\n",
       "\\item 'qD'\n",
       "\\item 'Sample\\_Coverage'\n",
       "\\item 'observed\\_Richness'\n",
       "\\item 'estimated\\_Richness'\n",
       "\\item 'SE\\_Richeness'\n",
       "\\item 'observed\\_Shannon'\n",
       "\\item 'estimated\\_Shannon'\n",
       "\\item 'SE\\_Shannon'\n",
       "\\item 'observed\\_Simpson'\n",
       "\\item 'estimated\\_Simpson'\n",
       "\\item 'SE\\_Simpson'\n",
       "\\item 'basename'\n",
       "\\item 'file'\n",
       "\\item 'sampletype'\n",
       "\\item 'Group'\n",
       "\\item 'log10shann'\n",
       "\\item 'aveTiRP'\n",
       "\\item 'medTiRP'\n",
       "\\item 'HLA\\_PC1'\n",
       "\\item 'HLA\\_PC2'\n",
       "\\item 'HLA\\_PC3'\n",
       "\\item 'V\\_PC1'\n",
       "\\item 'V\\_PC2'\n",
       "\\item 'V\\_PC3'\n",
       "\\item 'J\\_PC1'\n",
       "\\item 'J\\_PC2'\n",
       "\\item 'J\\_PC3'\n",
       "\\item 'samplename'\n",
       "\\item 'gliph\\_n'\n",
       "\\item 'CMV'\n",
       "\\item 'EBV'\n",
       "\\item 'HCV'\n",
       "\\item 'Flu'\n",
       "\\item 'hs'\n",
       "\\item 'cfDNA\\_TRB'\n",
       "\\item 'cfDNA\\_Reads'\n",
       "\\item 'cfDNA\\_CPKR'\n",
       "\\item 'cfDNA\\_Average\\_reads'\n",
       "\\item 'cfDNA\\_VMR'\n",
       "\\item 'cfDNA\\_Max\\_reads'\n",
       "\\item 'cfDNA\\_Singletons'\n",
       "\\item 'cfDNA\\_Doubletons'\n",
       "\\item 'cfDNA\\_qD'\n",
       "\\item 'cfDNA\\_Sample\\_Coverage'\n",
       "\\item 'cfDNA\\_observed\\_Richness'\n",
       "\\item 'cfDNA\\_estimated\\_Richness'\n",
       "\\item 'cfDNA\\_SE\\_Richeness'\n",
       "\\item 'cfDNA\\_observed\\_Shannon'\n",
       "\\item 'cfDNA\\_estimated\\_Shannon'\n",
       "\\item 'cfDNA\\_SE\\_Shannon'\n",
       "\\item 'cfDNA\\_observed\\_Simpson'\n",
       "\\item 'cfDNA\\_estimated\\_Simpson'\n",
       "\\item 'cfDNA\\_SE\\_Simpson'\n",
       "\\item 'cfDNA\\_basename'\n",
       "\\item 'cfDNA\\_file'\n",
       "\\item 'cfDNA\\_sampletype'\n",
       "\\item 'cfDNA\\_Group'\n",
       "\\item 'cfDNA\\_log10shann'\n",
       "\\item 'cfDNA\\_aveTiRP'\n",
       "\\item 'cfDNA\\_medTiRP'\n",
       "\\item 'cfDNA\\_V\\_PC1'\n",
       "\\item 'cfDNA\\_V\\_PC2'\n",
       "\\item 'cfDNA\\_V\\_PC3'\n",
       "\\item 'cfDNA\\_J\\_PC1'\n",
       "\\item 'cfDNA\\_J\\_PC2'\n",
       "\\item 'cfDNA\\_J\\_PC3'\n",
       "\\item 'cfDNA\\_samplename'\n",
       "\\item 'cfDNA\\_gliph\\_n'\n",
       "\\item 'cfDNA\\_CMV'\n",
       "\\item 'cfDNA\\_EBV'\n",
       "\\item 'cfDNA\\_HCV'\n",
       "\\item 'cfDNA\\_Flu'\n",
       "\\item 'cfDNA\\_hs'\n",
       "\\end{enumerate*}\n"
      ],
      "text/markdown": [
       "1. 'sample_id'\n",
       "2. 'Patient'\n",
       "3. 'cycle'\n",
       "4. 'FOLD'\n",
       "5. 'ATC'\n",
       "6. 'Age'\n",
       "7. 'Disease_type'\n",
       "8. 'TE_fold'\n",
       "9. 'CD3'\n",
       "10. 'EM'\n",
       "11. 'CM'\n",
       "12. 'Naïve'\n",
       "13. 'SCM'\n",
       "14. 'TE'\n",
       "15. 'EM%'\n",
       "16. 'CM%'\n",
       "17. 'Naïve%'\n",
       "18. 'SCM%'\n",
       "19. 'TE%'\n",
       "20. 'Naïve/TE'\n",
       "21. 'N+CM+SCM/TE+EM'\n",
       "22. 'PD-1'\n",
       "23. 'PDL1'\n",
       "24. 'LAG3'\n",
       "25. 'TIM3'\n",
       "26. 'CTLA4'\n",
       "27. 'PD1%'\n",
       "28. 'PDL1%'\n",
       "29. 'LAG3%'\n",
       "30. 'TIM3%'\n",
       "31. 'CTLA4%'\n",
       "32. 'Any NCR'\n",
       "33. 'PD1 + LAG3 + TIM3'\n",
       "34. 'cancergroup'\n",
       "35. 'agegroup'\n",
       "36. 'foldgroup'\n",
       "37. 'Remission'\n",
       "38. 'Relapse'\n",
       "39. 'Transplant'\n",
       "40. 'CART'\n",
       "41. 'vital_status'\n",
       "42. 'LOF'\n",
       "43. 'TRB'\n",
       "44. 'Reads'\n",
       "45. 'CPKR'\n",
       "46. 'Average_reads'\n",
       "47. 'VMR'\n",
       "48. 'Max_reads'\n",
       "49. 'Singletons'\n",
       "50. 'Doubletons'\n",
       "51. 'qD'\n",
       "52. 'Sample_Coverage'\n",
       "53. 'observed_Richness'\n",
       "54. 'estimated_Richness'\n",
       "55. 'SE_Richeness'\n",
       "56. 'observed_Shannon'\n",
       "57. 'estimated_Shannon'\n",
       "58. 'SE_Shannon'\n",
       "59. 'observed_Simpson'\n",
       "60. 'estimated_Simpson'\n",
       "61. 'SE_Simpson'\n",
       "62. 'basename'\n",
       "63. 'file'\n",
       "64. 'sampletype'\n",
       "65. 'Group'\n",
       "66. 'log10shann'\n",
       "67. 'aveTiRP'\n",
       "68. 'medTiRP'\n",
       "69. 'HLA_PC1'\n",
       "70. 'HLA_PC2'\n",
       "71. 'HLA_PC3'\n",
       "72. 'V_PC1'\n",
       "73. 'V_PC2'\n",
       "74. 'V_PC3'\n",
       "75. 'J_PC1'\n",
       "76. 'J_PC2'\n",
       "77. 'J_PC3'\n",
       "78. 'samplename'\n",
       "79. 'gliph_n'\n",
       "80. 'CMV'\n",
       "81. 'EBV'\n",
       "82. 'HCV'\n",
       "83. 'Flu'\n",
       "84. 'hs'\n",
       "85. 'cfDNA_TRB'\n",
       "86. 'cfDNA_Reads'\n",
       "87. 'cfDNA_CPKR'\n",
       "88. 'cfDNA_Average_reads'\n",
       "89. 'cfDNA_VMR'\n",
       "90. 'cfDNA_Max_reads'\n",
       "91. 'cfDNA_Singletons'\n",
       "92. 'cfDNA_Doubletons'\n",
       "93. 'cfDNA_qD'\n",
       "94. 'cfDNA_Sample_Coverage'\n",
       "95. 'cfDNA_observed_Richness'\n",
       "96. 'cfDNA_estimated_Richness'\n",
       "97. 'cfDNA_SE_Richeness'\n",
       "98. 'cfDNA_observed_Shannon'\n",
       "99. 'cfDNA_estimated_Shannon'\n",
       "100. 'cfDNA_SE_Shannon'\n",
       "101. 'cfDNA_observed_Simpson'\n",
       "102. 'cfDNA_estimated_Simpson'\n",
       "103. 'cfDNA_SE_Simpson'\n",
       "104. 'cfDNA_basename'\n",
       "105. 'cfDNA_file'\n",
       "106. 'cfDNA_sampletype'\n",
       "107. 'cfDNA_Group'\n",
       "108. 'cfDNA_log10shann'\n",
       "109. 'cfDNA_aveTiRP'\n",
       "110. 'cfDNA_medTiRP'\n",
       "111. 'cfDNA_V_PC1'\n",
       "112. 'cfDNA_V_PC2'\n",
       "113. 'cfDNA_V_PC3'\n",
       "114. 'cfDNA_J_PC1'\n",
       "115. 'cfDNA_J_PC2'\n",
       "116. 'cfDNA_J_PC3'\n",
       "117. 'cfDNA_samplename'\n",
       "118. 'cfDNA_gliph_n'\n",
       "119. 'cfDNA_CMV'\n",
       "120. 'cfDNA_EBV'\n",
       "121. 'cfDNA_HCV'\n",
       "122. 'cfDNA_Flu'\n",
       "123. 'cfDNA_hs'\n",
       "\n",
       "\n"
      ],
      "text/plain": [
       "  [1] \"sample_id\"                \"Patient\"                 \n",
       "  [3] \"cycle\"                    \"FOLD\"                    \n",
       "  [5] \"ATC\"                      \"Age\"                     \n",
       "  [7] \"Disease_type\"             \"TE_fold\"                 \n",
       "  [9] \"CD3\"                      \"EM\"                      \n",
       " [11] \"CM\"                       \"Naïve\"                   \n",
       " [13] \"SCM\"                      \"TE\"                      \n",
       " [15] \"EM%\"                      \"CM%\"                     \n",
       " [17] \"Naïve%\"                   \"SCM%\"                    \n",
       " [19] \"TE%\"                      \"Naïve/TE\"                \n",
       " [21] \"N+CM+SCM/TE+EM\"           \"PD-1\"                    \n",
       " [23] \"PDL1\"                     \"LAG3\"                    \n",
       " [25] \"TIM3\"                     \"CTLA4\"                   \n",
       " [27] \"PD1%\"                     \"PDL1%\"                   \n",
       " [29] \"LAG3%\"                    \"TIM3%\"                   \n",
       " [31] \"CTLA4%\"                   \"Any NCR\"                 \n",
       " [33] \"PD1 + LAG3 + TIM3\"        \"cancergroup\"             \n",
       " [35] \"agegroup\"                 \"foldgroup\"               \n",
       " [37] \"Remission\"                \"Relapse\"                 \n",
       " [39] \"Transplant\"               \"CART\"                    \n",
       " [41] \"vital_status\"             \"LOF\"                     \n",
       " [43] \"TRB\"                      \"Reads\"                   \n",
       " [45] \"CPKR\"                     \"Average_reads\"           \n",
       " [47] \"VMR\"                      \"Max_reads\"               \n",
       " [49] \"Singletons\"               \"Doubletons\"              \n",
       " [51] \"qD\"                       \"Sample_Coverage\"         \n",
       " [53] \"observed_Richness\"        \"estimated_Richness\"      \n",
       " [55] \"SE_Richeness\"             \"observed_Shannon\"        \n",
       " [57] \"estimated_Shannon\"        \"SE_Shannon\"              \n",
       " [59] \"observed_Simpson\"         \"estimated_Simpson\"       \n",
       " [61] \"SE_Simpson\"               \"basename\"                \n",
       " [63] \"file\"                     \"sampletype\"              \n",
       " [65] \"Group\"                    \"log10shann\"              \n",
       " [67] \"aveTiRP\"                  \"medTiRP\"                 \n",
       " [69] \"HLA_PC1\"                  \"HLA_PC2\"                 \n",
       " [71] \"HLA_PC3\"                  \"V_PC1\"                   \n",
       " [73] \"V_PC2\"                    \"V_PC3\"                   \n",
       " [75] \"J_PC1\"                    \"J_PC2\"                   \n",
       " [77] \"J_PC3\"                    \"samplename\"              \n",
       " [79] \"gliph_n\"                  \"CMV\"                     \n",
       " [81] \"EBV\"                      \"HCV\"                     \n",
       " [83] \"Flu\"                      \"hs\"                      \n",
       " [85] \"cfDNA_TRB\"                \"cfDNA_Reads\"             \n",
       " [87] \"cfDNA_CPKR\"               \"cfDNA_Average_reads\"     \n",
       " [89] \"cfDNA_VMR\"                \"cfDNA_Max_reads\"         \n",
       " [91] \"cfDNA_Singletons\"         \"cfDNA_Doubletons\"        \n",
       " [93] \"cfDNA_qD\"                 \"cfDNA_Sample_Coverage\"   \n",
       " [95] \"cfDNA_observed_Richness\"  \"cfDNA_estimated_Richness\"\n",
       " [97] \"cfDNA_SE_Richeness\"       \"cfDNA_observed_Shannon\"  \n",
       " [99] \"cfDNA_estimated_Shannon\"  \"cfDNA_SE_Shannon\"        \n",
       "[101] \"cfDNA_observed_Simpson\"   \"cfDNA_estimated_Simpson\" \n",
       "[103] \"cfDNA_SE_Simpson\"         \"cfDNA_basename\"          \n",
       "[105] \"cfDNA_file\"               \"cfDNA_sampletype\"        \n",
       "[107] \"cfDNA_Group\"              \"cfDNA_log10shann\"        \n",
       "[109] \"cfDNA_aveTiRP\"            \"cfDNA_medTiRP\"           \n",
       "[111] \"cfDNA_V_PC1\"              \"cfDNA_V_PC2\"             \n",
       "[113] \"cfDNA_V_PC3\"              \"cfDNA_J_PC1\"             \n",
       "[115] \"cfDNA_J_PC2\"              \"cfDNA_J_PC3\"             \n",
       "[117] \"cfDNA_samplename\"         \"cfDNA_gliph_n\"           \n",
       "[119] \"cfDNA_CMV\"                \"cfDNA_EBV\"               \n",
       "[121] \"cfDNA_HCV\"                \"cfDNA_Flu\"               \n",
       "[123] \"cfDNA_hs\"                "
      ]
     },
     "metadata": {},
     "output_type": "display_data"
    }
   ],
   "source": [
    "colnames(sample_df)"
   ]
  },
  {
   "cell_type": "code",
   "execution_count": 158,
   "metadata": {
    "vscode": {
     "languageId": "r"
    }
   },
   "outputs": [],
   "source": [
    "readr::write_rds(sample_df, paste0(datapath, \"int_sample_df.rds\"))"
   ]
  },
  {
   "cell_type": "code",
   "execution_count": null,
   "metadata": {
    "vscode": {
     "languageId": "r"
    }
   },
   "outputs": [],
   "source": []
  },
  {
   "cell_type": "code",
   "execution_count": null,
   "metadata": {
    "vscode": {
     "languageId": "r"
    }
   },
   "outputs": [],
   "source": []
  },
  {
   "cell_type": "code",
   "execution_count": null,
   "metadata": {
    "vscode": {
     "languageId": "r"
    }
   },
   "outputs": [],
   "source": []
  },
  {
   "cell_type": "code",
   "execution_count": null,
   "metadata": {
    "vscode": {
     "languageId": "r"
    }
   },
   "outputs": [],
   "source": []
  },
  {
   "cell_type": "code",
   "execution_count": null,
   "metadata": {
    "vscode": {
     "languageId": "r"
    }
   },
   "outputs": [],
   "source": []
  },
  {
   "cell_type": "code",
   "execution_count": null,
   "metadata": {
    "vscode": {
     "languageId": "r"
    }
   },
   "outputs": [],
   "source": []
  },
  {
   "cell_type": "code",
   "execution_count": null,
   "metadata": {
    "vscode": {
     "languageId": "r"
    }
   },
   "outputs": [],
   "source": []
  },
  {
   "cell_type": "code",
   "execution_count": null,
   "metadata": {
    "vscode": {
     "languageId": "r"
    }
   },
   "outputs": [],
   "source": []
  }
 ],
 "metadata": {
  "kernelspec": {
   "display_name": "R 4.0",
   "language": "R",
   "name": "ir40"
  },
  "language_info": {
   "codemirror_mode": "r",
   "file_extension": ".r",
   "mimetype": "text/x-r-source",
   "name": "R",
   "pygments_lexer": "r",
   "version": "4.2.2"
  },
  "toc": {
   "base_numbering": 1,
   "nav_menu": {},
   "number_sections": false,
   "sideBar": true,
   "skip_h1_title": false,
   "title_cell": "Table of Contents",
   "title_sidebar": "Contents",
   "toc_cell": true,
   "toc_position": {
    "height": "calc(100% - 180px)",
    "left": "10px",
    "top": "150px",
    "width": "186.15px"
   },
   "toc_section_display": true,
   "toc_window_display": true
  }
 },
 "nbformat": 4,
 "nbformat_minor": 2
}

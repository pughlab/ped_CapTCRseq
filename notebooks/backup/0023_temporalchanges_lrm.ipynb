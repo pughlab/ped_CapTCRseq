{
 "cells": [
  {
   "cell_type": "code",
   "execution_count": 1,
   "metadata": {
    "vscode": {
     "languageId": "r"
    }
   },
   "outputs": [
    {
     "data": {
      "text/html": [
       "'en_US.UTF-8/en_US.UTF-8/en_US.UTF-8/C/en_US.UTF-8/C'"
      ],
      "text/latex": [
       "'en\\_US.UTF-8/en\\_US.UTF-8/en\\_US.UTF-8/C/en\\_US.UTF-8/C'"
      ],
      "text/markdown": [
       "'en_US.UTF-8/en_US.UTF-8/en_US.UTF-8/C/en_US.UTF-8/C'"
      ],
      "text/plain": [
       "[1] \"en_US.UTF-8/en_US.UTF-8/en_US.UTF-8/C/en_US.UTF-8/C\""
      ]
     },
     "metadata": {},
     "output_type": "display_data"
    }
   ],
   "source": [
    "Sys.setlocale(category = \"LC_ALL\", locale = \"en_US.UTF-8\")"
   ]
  },
  {
   "attachments": {},
   "cell_type": "markdown",
   "metadata": {},
   "source": [
    "# Dependencies"
   ]
  },
  {
   "cell_type": "code",
   "execution_count": 2,
   "metadata": {
    "vscode": {
     "languageId": "r"
    }
   },
   "outputs": [],
   "source": [
    "pacman::p_load(dplyr, ggplot2, ggbeeswarm, ggpubr, ggsignif, cowplot, lsmeans, forestplot)"
   ]
  },
  {
   "attachments": {},
   "cell_type": "markdown",
   "metadata": {},
   "source": [
    "# Functions"
   ]
  },
  {
   "cell_type": "code",
   "execution_count": 3,
   "metadata": {
    "vscode": {
     "languageId": "r"
    }
   },
   "outputs": [],
   "source": [
    "source(\"/Users/anabbi/git/ped_CapTCRseq/R/ggplot2_theme.R\")\n",
    "source(\"/Users/anabbi/git/ped_CapTCRseq/R/color_schemes.R\")\n",
    "source(\"/Users/anabbi/git/ped_CapTCRseq/R/Misc_functions.R\")"
   ]
  },
  {
   "attachments": {},
   "cell_type": "markdown",
   "metadata": {},
   "source": [
    "# Paths"
   ]
  },
  {
   "cell_type": "code",
   "execution_count": 4,
   "metadata": {
    "vscode": {
     "languageId": "r"
    }
   },
   "outputs": [],
   "source": [
    "datapath <- \"/Users/anabbi/OneDrive - UHN/Documents/INTERCEPT/Data/\"\n",
    "plotpath <- \"/Users/anabbi/OneDrive - UHN/Documents/INTERCEPT/Plots/\"\n",
    "manifestpath <- \"/Users/anabbi/OneDrive - UHN/Documents/INTERCEPT/Manifests/\"\n",
    "gitpath <- \"/Users/anabbi/git/ped_CapTCRseq/\""
   ]
  },
  {
   "cell_type": "code",
   "execution_count": 5,
   "metadata": {
    "vscode": {
     "languageId": "r"
    }
   },
   "outputs": [],
   "source": [
    "h4hpath <- \"/Users/anabbi/Desktop/H4H/INTERCEPT/\""
   ]
  },
  {
   "attachments": {},
   "cell_type": "markdown",
   "metadata": {},
   "source": [
    "# Main"
   ]
  },
  {
   "cell_type": "code",
   "execution_count": 6,
   "metadata": {
    "vscode": {
     "languageId": "r"
    }
   },
   "outputs": [],
   "source": [
    "meta_div <- readr::read_rds(paste0(datapath, \"capTCRseq/meta_div_goodsamples.rds\"))"
   ]
  },
  {
   "cell_type": "code",
   "execution_count": 7,
   "metadata": {
    "vscode": {
     "languageId": "r"
    }
   },
   "outputs": [],
   "source": [
    "meta_div$cyclenum <- as.numeric(gsub(\"X0\", \"\", meta_div$cycle) )"
   ]
  },
  {
   "cell_type": "code",
   "execution_count": 8,
   "metadata": {
    "vscode": {
     "languageId": "r"
    }
   },
   "outputs": [],
   "source": [
    "pbmc <- meta_div[ meta_div$sampletype == \"PBMC\",]\n",
    "cfdna <- meta_div[ meta_div$sampletype == \"cfDNA\",]"
   ]
  },
  {
   "cell_type": "markdown",
   "metadata": {},
   "source": [
    "# 1- Quantrreg for each patient post-therapy"
   ]
  },
  {
   "cell_type": "code",
   "execution_count": 9,
   "metadata": {
    "vscode": {
     "languageId": "r"
    }
   },
   "outputs": [],
   "source": [
    "# split to 3 dataframes: one for flow one for tcr and ncr\n",
    "\n",
    "tcr_df <- pbmc[ !is.na(pbmc$TRB), ]\n",
    "cftcr_df <- cfdna[ !is.na(cfdna$TRB), ]\n",
    "\n",
    "flow_df <- pbmc[ !is.na(pbmc$CD3) & pbmc$CD3 > 0, ]\n",
    "ncr_df <- flow_df[ !is.na(flow_df$`TIM3%`), ]"
   ]
  },
  {
   "cell_type": "code",
   "execution_count": 10,
   "metadata": {
    "vscode": {
     "languageId": "r"
    }
   },
   "outputs": [],
   "source": [
    "# remove X01\n",
    "tcr_df <- tcr_df[ tcr_df$cycle != \"X01\", ]\n",
    "cftcr_df <- cftcr_df[ cftcr_df$cycle != \"X01\", ]\n",
    "\n",
    "flow_df <- flow_df[ flow_df$cycle != \"X01\", ]\n",
    "ncr_df <- ncr_df[ ncr_df$cycle != \"X01\", ]"
   ]
  },
  {
   "cell_type": "code",
   "execution_count": 11,
   "metadata": {
    "vscode": {
     "languageId": "r"
    }
   },
   "outputs": [],
   "source": [
    "# minimum two samples in each dataframe\n",
    "\n",
    "mytab <- table(tcr_df$Patient, tcr_df$cycle)\n",
    "mytab <- mytab[rowSums(mytab == 1) >= 2, ] \n",
    "tcr_df_min2 <- tcr_df[tcr_df$Patient %in% rownames(mytab), ]\n",
    "\n",
    "mytab <- table(cftcr_df$Patient, cftcr_df$cycle)\n",
    "mytab <- mytab[rowSums(mytab == 1) >= 2, ]\n",
    "cftcr_df_min2 <- cftcr_df[cftcr_df$Patient %in% rownames(mytab), ]\n",
    "\n",
    "mytab <- table(flow_df$Patient, flow_df$cycle)\n",
    "mytab <- mytab[rowSums(mytab == 1) >= 2, ] \n",
    "flow_df_min2 <- flow_df[flow_df$Patient %in% rownames(mytab), ]\n",
    "\n",
    "mytab <- table(ncr_df$Patient, ncr_df$cycle)\n",
    "mytab <- mytab[rowSums(mytab == 1) >= 2, ] \n",
    "ncr_df_min2 <- ncr_df[ncr_df$Patient %in% rownames(mytab), ]"
   ]
  },
  {
   "cell_type": "code",
   "execution_count": 12,
   "metadata": {
    "vscode": {
     "languageId": "r"
    }
   },
   "outputs": [
    {
     "name": "stderr",
     "output_type": "stream",
     "text": [
      "Warning message:\n",
      "“\u001b[1m\u001b[22mThere were 3 warnings in `mutate()`.\n",
      "The first warning was:\n",
      "\u001b[1m\u001b[22m\u001b[36mℹ\u001b[39m In argument: `quantreg_Shannon = quantreg::rq(observed_Shannon ~ cyclenum,\n",
      "  tau = 0.5)$coef[2]/n()`.\n",
      "\u001b[36mℹ\u001b[39m In group 7: `Patient = \"CHP_343\"`.\n",
      "Caused by warning in `rq.fit.br()`:\n",
      "\u001b[33m!\u001b[39m Solution may be nonunique\n",
      "\u001b[1m\u001b[22m\u001b[36mℹ\u001b[39m Run `dplyr::last_dplyr_warnings()` to see the 2 remaining warnings.”\n"
     ]
    }
   ],
   "source": [
    "tcr_df_min2 <- tcr_df_min2 %>%\n",
    "    group_by(Patient) %>%\n",
    "    mutate(quantreg_Shannon = quantreg::rq(observed_Shannon ~ cyclenum, tau = 0.5)$coef[2] / n()) %>%\n",
    "    ungroup()\n"
   ]
  },
  {
   "cell_type": "code",
   "execution_count": 13,
   "metadata": {
    "vscode": {
     "languageId": "r"
    }
   },
   "outputs": [
    {
     "name": "stderr",
     "output_type": "stream",
     "text": [
      "Warning message:\n",
      "“\u001b[1m\u001b[22mThere were 9 warnings in `mutate()`.\n",
      "The first warning was:\n",
      "\u001b[1m\u001b[22m\u001b[36mℹ\u001b[39m In argument: `quantreg_cfShannon = quantreg::rq(observed_Shannon ~ cyclenum,\n",
      "  tau = 0.5)$coef[2]/n()`.\n",
      "\u001b[36mℹ\u001b[39m In group 13: `Patient = \"CHP_347\"`.\n",
      "Caused by warning in `rq.fit.br()`:\n",
      "\u001b[33m!\u001b[39m Solution may be nonunique\n",
      "\u001b[1m\u001b[22m\u001b[36mℹ\u001b[39m Run `dplyr::last_dplyr_warnings()` to see the 8 remaining warnings.”\n"
     ]
    }
   ],
   "source": [
    "cftcr_df_min2 <- cftcr_df_min2 %>%\n",
    "    group_by(Patient) %>%\n",
    "    mutate(quantreg_cfShannon = quantreg::rq(observed_Shannon ~ cyclenum, tau = 0.5)$coef[2] / n()) %>%\n",
    "    ungroup()\n"
   ]
  },
  {
   "cell_type": "code",
   "execution_count": 14,
   "metadata": {
    "vscode": {
     "languageId": "r"
    }
   },
   "outputs": [
    {
     "name": "stderr",
     "output_type": "stream",
     "text": [
      "Warning message:\n",
      "“\u001b[1m\u001b[22mThere were 3 warnings in `mutate()`.\n",
      "The first warning was:\n",
      "\u001b[1m\u001b[22m\u001b[36mℹ\u001b[39m In argument: `quantreg_TIM = quantreg::rq(`TIM3%` ~ cyclenum, tau =\n",
      "  0.5)$coef[2]/n()`.\n",
      "\u001b[36mℹ\u001b[39m In group 1: `Patient = \"CHP_343\"`.\n",
      "Caused by warning in `rq.fit.br()`:\n",
      "\u001b[33m!\u001b[39m Solution may be nonunique\n",
      "\u001b[1m\u001b[22m\u001b[36mℹ\u001b[39m Run `dplyr::last_dplyr_warnings()` to see the 2 remaining warnings.”\n",
      "Warning message:\n",
      "“\u001b[1m\u001b[22mThere were 4 warnings in `mutate()`.\n",
      "The first warning was:\n",
      "\u001b[1m\u001b[22m\u001b[36mℹ\u001b[39m In argument: `quantreg_LAG = quantreg::rq(`LAG3%` ~ cyclenum, tau =\n",
      "  0.5)$coef[2]/n()`.\n",
      "\u001b[36mℹ\u001b[39m In group 1: `Patient = \"CHP_343\"`.\n",
      "Caused by warning in `rq.fit.br()`:\n",
      "\u001b[33m!\u001b[39m Solution may be nonunique\n",
      "\u001b[1m\u001b[22m\u001b[36mℹ\u001b[39m Run `dplyr::last_dplyr_warnings()` to see the 3 remaining warnings.”\n",
      "Warning message:\n",
      "“\u001b[1m\u001b[22mThere were 3 warnings in `mutate()`.\n",
      "The first warning was:\n",
      "\u001b[1m\u001b[22m\u001b[36mℹ\u001b[39m In argument: `quantreg_PD1 = quantreg::rq(`PD1%` ~ cyclenum, tau =\n",
      "  0.5)$coef[2]/n()`.\n",
      "\u001b[36mℹ\u001b[39m In group 1: `Patient = \"CHP_343\"`.\n",
      "Caused by warning in `rq.fit.br()`:\n",
      "\u001b[33m!\u001b[39m Solution may be nonunique\n",
      "\u001b[1m\u001b[22m\u001b[36mℹ\u001b[39m Run `dplyr::last_dplyr_warnings()` to see the 2 remaining warnings.”\n"
     ]
    }
   ],
   "source": [
    "ncr_df_min2 <- ncr_df_min2 %>%\n",
    "    group_by(Patient) %>%\n",
    "    mutate(quantreg_TIM = quantreg::rq(`TIM3%` ~ cyclenum, tau = 0.5)$coef[2] / n()) %>%\n",
    "    mutate(quantreg_LAG = quantreg::rq(`LAG3%` ~ cyclenum, tau = 0.5)$coef[2] / n()) %>%\n",
    "    mutate(quantreg_PD1 = quantreg::rq(`PD1%` ~ cyclenum, tau = 0.5)$coef[2] / n()) %>%\n",
    "    ungroup()\n"
   ]
  },
  {
   "cell_type": "code",
   "execution_count": 15,
   "metadata": {
    "vscode": {
     "languageId": "r"
    }
   },
   "outputs": [
    {
     "name": "stderr",
     "output_type": "stream",
     "text": [
      "Warning message:\n",
      "“\u001b[1m\u001b[22mThere was 1 warning in `mutate()`.\n",
      "\u001b[1m\u001b[22m\u001b[36mℹ\u001b[39m In argument: `quantreg_ATC = quantreg::rq(ATC ~ cyclenum, tau =\n",
      "  0.5)$coef[2]/n()`.\n",
      "\u001b[36mℹ\u001b[39m In group 3: `Patient = \"CHP_350\"`.\n",
      "Caused by warning in `rq.fit.br()`:\n",
      "\u001b[33m!\u001b[39m Solution may be nonunique”\n",
      "Warning message:\n",
      "“\u001b[1m\u001b[22mThere were 2 warnings in `mutate()`.\n",
      "The first warning was:\n",
      "\u001b[1m\u001b[22m\u001b[36mℹ\u001b[39m In argument: `quantreg_N = quantreg::rq(`Naïve%` ~ cyclenum, tau =\n",
      "  0.5)$coef[2]/n()`.\n",
      "\u001b[36mℹ\u001b[39m In group 2: `Patient = \"CHP_347\"`.\n",
      "Caused by warning in `rq.fit.br()`:\n",
      "\u001b[33m!\u001b[39m Solution may be nonunique\n",
      "\u001b[1m\u001b[22m\u001b[36mℹ\u001b[39m Run `dplyr::last_dplyr_warnings()` to see the 1 remaining warning.”\n",
      "Warning message:\n",
      "“\u001b[1m\u001b[22mThere were 4 warnings in `mutate()`.\n",
      "The first warning was:\n",
      "\u001b[1m\u001b[22m\u001b[36mℹ\u001b[39m In argument: `quantreg_CM = quantreg::rq(`CM%` ~ cyclenum, tau =\n",
      "  0.5)$coef[2]/n()`.\n",
      "\u001b[36mℹ\u001b[39m In group 1: `Patient = \"CHP_343\"`.\n",
      "Caused by warning in `rq.fit.br()`:\n",
      "\u001b[33m!\u001b[39m Solution may be nonunique\n",
      "\u001b[1m\u001b[22m\u001b[36mℹ\u001b[39m Run `dplyr::last_dplyr_warnings()` to see the 3 remaining warnings.”\n",
      "Warning message:\n",
      "“\u001b[1m\u001b[22mThere were 4 warnings in `mutate()`.\n",
      "The first warning was:\n",
      "\u001b[1m\u001b[22m\u001b[36mℹ\u001b[39m In argument: `quantreg_SCM = quantreg::rq(`SCM%` ~ cyclenum, tau =\n",
      "  0.5)$coef[2]/n()`.\n",
      "\u001b[36mℹ\u001b[39m In group 1: `Patient = \"CHP_343\"`.\n",
      "Caused by warning in `rq.fit.br()`:\n",
      "\u001b[33m!\u001b[39m Solution may be nonunique\n",
      "\u001b[1m\u001b[22m\u001b[36mℹ\u001b[39m Run `dplyr::last_dplyr_warnings()` to see the 3 remaining warnings.”\n",
      "Warning message:\n",
      "“\u001b[1m\u001b[22mThere was 1 warning in `mutate()`.\n",
      "\u001b[1m\u001b[22m\u001b[36mℹ\u001b[39m In argument: `quantreg_EM = quantreg::rq(`EM%` ~ cyclenum, tau =\n",
      "  0.5)$coef[2]/n()`.\n",
      "\u001b[36mℹ\u001b[39m In group 6: `Patient = \"CHP_357\"`.\n",
      "Caused by warning in `rq.fit.br()`:\n",
      "\u001b[33m!\u001b[39m Solution may be nonunique”\n",
      "Warning message:\n",
      "“\u001b[1m\u001b[22mThere were 4 warnings in `mutate()`.\n",
      "The first warning was:\n",
      "\u001b[1m\u001b[22m\u001b[36mℹ\u001b[39m In argument: `quantreg_TE = quantreg::rq(`TE%` ~ cyclenum, tau =\n",
      "  0.5)$coef[2]/n()`.\n",
      "\u001b[36mℹ\u001b[39m In group 1: `Patient = \"CHP_343\"`.\n",
      "Caused by warning in `rq.fit.br()`:\n",
      "\u001b[33m!\u001b[39m Solution may be nonunique\n",
      "\u001b[1m\u001b[22m\u001b[36mℹ\u001b[39m Run `dplyr::last_dplyr_warnings()` to see the 3 remaining warnings.”\n"
     ]
    }
   ],
   "source": [
    "flow_df_min2 <- flow_df_min2 %>%\n",
    "    group_by(Patient) %>%\n",
    "    mutate(quantreg_ATC = quantreg::rq(`ATC` ~ cyclenum, tau = 0.5)$coef[2] / n()) %>%\n",
    "    mutate(quantreg_N = quantreg::rq(`Naïve%` ~ cyclenum, tau = 0.5)$coef[2] / n()) %>%\n",
    "    mutate(quantreg_CM = quantreg::rq(`CM%` ~ cyclenum, tau = 0.5)$coef[2] / n()) %>%\n",
    "    mutate(quantreg_SCM = quantreg::rq(`SCM%` ~ cyclenum, tau = 0.5)$coef[2] / n()) %>%\n",
    "    mutate(quantreg_EM = quantreg::rq(`EM%` ~ cyclenum, tau = 0.5)$coef[2] / n()) %>%\n",
    "    mutate(quantreg_TE = quantreg::rq(`TE%` ~ cyclenum, tau = 0.5)$coef[2] / n()) %>%\n",
    "    ungroup()\n"
   ]
  },
  {
   "cell_type": "code",
   "execution_count": 16,
   "metadata": {
    "vscode": {
     "languageId": "r"
    }
   },
   "outputs": [
    {
     "data": {
      "text/html": [
       "<table class=\"dataframe\">\n",
       "<caption>A tibble: 6 x 74</caption>\n",
       "<thead>\n",
       "\t<tr><th scope=col>sample_id</th><th scope=col>Patient</th><th scope=col>cycle</th><th scope=col>FOLD</th><th scope=col>ATC</th><th scope=col>Age</th><th scope=col>Disease_type</th><th scope=col>TE_fold</th><th scope=col>CD3</th><th scope=col>EM</th><th scope=col>...</th><th scope=col>Group</th><th scope=col>log10shann</th><th scope=col>assay</th><th scope=col>cyclenum</th><th scope=col>quantreg_ATC</th><th scope=col>quantreg_N</th><th scope=col>quantreg_CM</th><th scope=col>quantreg_SCM</th><th scope=col>quantreg_EM</th><th scope=col>quantreg_TE</th></tr>\n",
       "\t<tr><th scope=col>&lt;chr&gt;</th><th scope=col>&lt;chr&gt;</th><th scope=col>&lt;chr&gt;</th><th scope=col>&lt;dbl&gt;</th><th scope=col>&lt;dbl&gt;</th><th scope=col>&lt;dbl&gt;</th><th scope=col>&lt;chr&gt;</th><th scope=col>&lt;dbl&gt;</th><th scope=col>&lt;int&gt;</th><th scope=col>&lt;int&gt;</th><th scope=col>...</th><th scope=col>&lt;chr&gt;</th><th scope=col>&lt;dbl&gt;</th><th scope=col>&lt;chr&gt;</th><th scope=col>&lt;dbl&gt;</th><th scope=col>&lt;dbl&gt;</th><th scope=col>&lt;dbl&gt;</th><th scope=col>&lt;dbl&gt;</th><th scope=col>&lt;dbl&gt;</th><th scope=col>&lt;dbl&gt;</th><th scope=col>&lt;dbl&gt;</th></tr>\n",
       "</thead>\n",
       "<tbody>\n",
       "\t<tr><td>CHP_343_02</td><td>CHP_343</td><td>X02</td><td> 0.3</td><td> 459.04</td><td> 8</td><td>EWS</td><td> 0.3</td><td>1135</td><td> 16</td><td>...</td><td>CHP</td><td>1.330860</td><td>Flow cytometry &amp; capTCR-seq</td><td>2</td><td>-7.32000</td><td> 0.1026273</td><td> 2.8897801</td><td>-0.6594274</td><td> 0.4025038</td><td>-2.940411</td></tr>\n",
       "\t<tr><td>CHP_343_03</td><td>CHP_343</td><td>X03</td><td> 0.6</td><td> 370.30</td><td> 8</td><td>EWS</td><td> 0.6</td><td>1650</td><td> 16</td><td>...</td><td>CHP</td><td>1.431235</td><td>Flow cytometry &amp; capTCR-seq</td><td>3</td><td>-7.32000</td><td> 0.1026273</td><td> 2.8897801</td><td>-0.6594274</td><td> 0.4025038</td><td>-2.940411</td></tr>\n",
       "\t<tr><td>CHP_343_04</td><td>CHP_343</td><td>X04</td><td> 1.5</td><td> 536.63</td><td> 8</td><td>EWS</td><td> 1.5</td><td>2612</td><td>146</td><td>...</td><td>CHP</td><td>1.450588</td><td>Flow cytometry &amp; capTCR-seq</td><td>4</td><td>-7.32000</td><td> 0.1026273</td><td> 2.8897801</td><td>-0.6594274</td><td> 0.4025038</td><td>-2.940411</td></tr>\n",
       "\t<tr><td>CHP_343_05</td><td>CHP_343</td><td>X05</td><td> 2.1</td><td> 371.20</td><td> 8</td><td>EWS</td><td> 2.1</td><td>2436</td><td>152</td><td>...</td><td>CHP</td><td>1.427713</td><td>Flow cytometry &amp; capTCR-seq</td><td>5</td><td>-7.32000</td><td> 0.1026273</td><td> 2.8897801</td><td>-0.6594274</td><td> 0.4025038</td><td>-2.940411</td></tr>\n",
       "\t<tr><td>CHP_347_02</td><td>CHP_347</td><td>X02</td><td> 6.4</td><td>1038.59</td><td>13</td><td>ALL</td><td> 6.4</td><td> 927</td><td> 15</td><td>...</td><td>CHP</td><td>2.447600</td><td>Flow cytometry &amp; capTCR-seq</td><td>2</td><td>20.02333</td><td>-0.6003918</td><td>-0.6090838</td><td>-1.0940369</td><td>-0.1080237</td><td> 2.652185</td></tr>\n",
       "\t<tr><td>CHP_347_03</td><td>CHP_347</td><td>X03</td><td>37.6</td><td> 768.80</td><td>13</td><td>ALL</td><td>37.6</td><td>2379</td><td> 27</td><td>...</td><td>CHP</td><td>1.841165</td><td>Flow cytometry &amp; capTCR-seq</td><td>3</td><td>20.02333</td><td>-0.6003918</td><td>-0.6090838</td><td>-1.0940369</td><td>-0.1080237</td><td> 2.652185</td></tr>\n",
       "</tbody>\n",
       "</table>\n"
      ],
      "text/latex": [
       "A tibble: 6 x 74\n",
       "\\begin{tabular}{lllllllllllllllllllll}\n",
       " sample\\_id & Patient & cycle & FOLD & ATC & Age & Disease\\_type & TE\\_fold & CD3 & EM & ... & Group & log10shann & assay & cyclenum & quantreg\\_ATC & quantreg\\_N & quantreg\\_CM & quantreg\\_SCM & quantreg\\_EM & quantreg\\_TE\\\\\n",
       " <chr> & <chr> & <chr> & <dbl> & <dbl> & <dbl> & <chr> & <dbl> & <int> & <int> & ... & <chr> & <dbl> & <chr> & <dbl> & <dbl> & <dbl> & <dbl> & <dbl> & <dbl> & <dbl>\\\\\n",
       "\\hline\n",
       "\t CHP\\_343\\_02 & CHP\\_343 & X02 &  0.3 &  459.04 &  8 & EWS &  0.3 & 1135 &  16 & ... & CHP & 1.330860 & Flow cytometry \\& capTCR-seq & 2 & -7.32000 &  0.1026273 &  2.8897801 & -0.6594274 &  0.4025038 & -2.940411\\\\\n",
       "\t CHP\\_343\\_03 & CHP\\_343 & X03 &  0.6 &  370.30 &  8 & EWS &  0.6 & 1650 &  16 & ... & CHP & 1.431235 & Flow cytometry \\& capTCR-seq & 3 & -7.32000 &  0.1026273 &  2.8897801 & -0.6594274 &  0.4025038 & -2.940411\\\\\n",
       "\t CHP\\_343\\_04 & CHP\\_343 & X04 &  1.5 &  536.63 &  8 & EWS &  1.5 & 2612 & 146 & ... & CHP & 1.450588 & Flow cytometry \\& capTCR-seq & 4 & -7.32000 &  0.1026273 &  2.8897801 & -0.6594274 &  0.4025038 & -2.940411\\\\\n",
       "\t CHP\\_343\\_05 & CHP\\_343 & X05 &  2.1 &  371.20 &  8 & EWS &  2.1 & 2436 & 152 & ... & CHP & 1.427713 & Flow cytometry \\& capTCR-seq & 5 & -7.32000 &  0.1026273 &  2.8897801 & -0.6594274 &  0.4025038 & -2.940411\\\\\n",
       "\t CHP\\_347\\_02 & CHP\\_347 & X02 &  6.4 & 1038.59 & 13 & ALL &  6.4 &  927 &  15 & ... & CHP & 2.447600 & Flow cytometry \\& capTCR-seq & 2 & 20.02333 & -0.6003918 & -0.6090838 & -1.0940369 & -0.1080237 &  2.652185\\\\\n",
       "\t CHP\\_347\\_03 & CHP\\_347 & X03 & 37.6 &  768.80 & 13 & ALL & 37.6 & 2379 &  27 & ... & CHP & 1.841165 & Flow cytometry \\& capTCR-seq & 3 & 20.02333 & -0.6003918 & -0.6090838 & -1.0940369 & -0.1080237 &  2.652185\\\\\n",
       "\\end{tabular}\n"
      ],
      "text/markdown": [
       "\n",
       "A tibble: 6 x 74\n",
       "\n",
       "| sample_id &lt;chr&gt; | Patient &lt;chr&gt; | cycle &lt;chr&gt; | FOLD &lt;dbl&gt; | ATC &lt;dbl&gt; | Age &lt;dbl&gt; | Disease_type &lt;chr&gt; | TE_fold &lt;dbl&gt; | CD3 &lt;int&gt; | EM &lt;int&gt; | ... ... | Group &lt;chr&gt; | log10shann &lt;dbl&gt; | assay &lt;chr&gt; | cyclenum &lt;dbl&gt; | quantreg_ATC &lt;dbl&gt; | quantreg_N &lt;dbl&gt; | quantreg_CM &lt;dbl&gt; | quantreg_SCM &lt;dbl&gt; | quantreg_EM &lt;dbl&gt; | quantreg_TE &lt;dbl&gt; |\n",
       "|---|---|---|---|---|---|---|---|---|---|---|---|---|---|---|---|---|---|---|---|---|\n",
       "| CHP_343_02 | CHP_343 | X02 |  0.3 |  459.04 |  8 | EWS |  0.3 | 1135 |  16 | ... | CHP | 1.330860 | Flow cytometry &amp; capTCR-seq | 2 | -7.32000 |  0.1026273 |  2.8897801 | -0.6594274 |  0.4025038 | -2.940411 |\n",
       "| CHP_343_03 | CHP_343 | X03 |  0.6 |  370.30 |  8 | EWS |  0.6 | 1650 |  16 | ... | CHP | 1.431235 | Flow cytometry &amp; capTCR-seq | 3 | -7.32000 |  0.1026273 |  2.8897801 | -0.6594274 |  0.4025038 | -2.940411 |\n",
       "| CHP_343_04 | CHP_343 | X04 |  1.5 |  536.63 |  8 | EWS |  1.5 | 2612 | 146 | ... | CHP | 1.450588 | Flow cytometry &amp; capTCR-seq | 4 | -7.32000 |  0.1026273 |  2.8897801 | -0.6594274 |  0.4025038 | -2.940411 |\n",
       "| CHP_343_05 | CHP_343 | X05 |  2.1 |  371.20 |  8 | EWS |  2.1 | 2436 | 152 | ... | CHP | 1.427713 | Flow cytometry &amp; capTCR-seq | 5 | -7.32000 |  0.1026273 |  2.8897801 | -0.6594274 |  0.4025038 | -2.940411 |\n",
       "| CHP_347_02 | CHP_347 | X02 |  6.4 | 1038.59 | 13 | ALL |  6.4 |  927 |  15 | ... | CHP | 2.447600 | Flow cytometry &amp; capTCR-seq | 2 | 20.02333 | -0.6003918 | -0.6090838 | -1.0940369 | -0.1080237 |  2.652185 |\n",
       "| CHP_347_03 | CHP_347 | X03 | 37.6 |  768.80 | 13 | ALL | 37.6 | 2379 |  27 | ... | CHP | 1.841165 | Flow cytometry &amp; capTCR-seq | 3 | 20.02333 | -0.6003918 | -0.6090838 | -1.0940369 | -0.1080237 |  2.652185 |\n",
       "\n"
      ],
      "text/plain": [
       "  sample_id  Patient cycle FOLD ATC     Age Disease_type TE_fold CD3  EM  ...\n",
       "1 CHP_343_02 CHP_343 X02    0.3  459.04  8  EWS           0.3    1135  16 ...\n",
       "2 CHP_343_03 CHP_343 X03    0.6  370.30  8  EWS           0.6    1650  16 ...\n",
       "3 CHP_343_04 CHP_343 X04    1.5  536.63  8  EWS           1.5    2612 146 ...\n",
       "4 CHP_343_05 CHP_343 X05    2.1  371.20  8  EWS           2.1    2436 152 ...\n",
       "5 CHP_347_02 CHP_347 X02    6.4 1038.59 13  ALL           6.4     927  15 ...\n",
       "6 CHP_347_03 CHP_347 X03   37.6  768.80 13  ALL          37.6    2379  27 ...\n",
       "  Group log10shann assay                       cyclenum quantreg_ATC quantreg_N\n",
       "1 CHP   1.330860   Flow cytometry & capTCR-seq 2        -7.32000      0.1026273\n",
       "2 CHP   1.431235   Flow cytometry & capTCR-seq 3        -7.32000      0.1026273\n",
       "3 CHP   1.450588   Flow cytometry & capTCR-seq 4        -7.32000      0.1026273\n",
       "4 CHP   1.427713   Flow cytometry & capTCR-seq 5        -7.32000      0.1026273\n",
       "5 CHP   2.447600   Flow cytometry & capTCR-seq 2        20.02333     -0.6003918\n",
       "6 CHP   1.841165   Flow cytometry & capTCR-seq 3        20.02333     -0.6003918\n",
       "  quantreg_CM quantreg_SCM quantreg_EM quantreg_TE\n",
       "1  2.8897801  -0.6594274    0.4025038  -2.940411  \n",
       "2  2.8897801  -0.6594274    0.4025038  -2.940411  \n",
       "3  2.8897801  -0.6594274    0.4025038  -2.940411  \n",
       "4  2.8897801  -0.6594274    0.4025038  -2.940411  \n",
       "5 -0.6090838  -1.0940369   -0.1080237   2.652185  \n",
       "6 -0.6090838  -1.0940369   -0.1080237   2.652185  "
      ]
     },
     "metadata": {},
     "output_type": "display_data"
    }
   ],
   "source": [
    "head(flow_df_min2)"
   ]
  },
  {
   "cell_type": "code",
   "execution_count": 17,
   "metadata": {
    "vscode": {
     "languageId": "r"
    }
   },
   "outputs": [],
   "source": [
    "flow_df_min2_pt <- flow_df_min2[ !duplicated(flow_df_min2$Patient), ]\n",
    "ncr_df_min2_pt <- ncr_df_min2[ !duplicated(ncr_df_min2$Patient), ]\n",
    "tcr_df_min2_pt <- tcr_df_min2[ !duplicated(tcr_df_min2$Patient), ]\n",
    "cftcr_df_min2_pt <- cftcr_df_min2[ !duplicated(cftcr_df_min2$Patient), ]"
   ]
  },
  {
   "cell_type": "code",
   "execution_count": 18,
   "metadata": {
    "vscode": {
     "languageId": "r"
    }
   },
   "outputs": [
    {
     "data": {
      "text/html": [
       "<style>\n",
       ".list-inline {list-style: none; margin:0; padding: 0}\n",
       ".list-inline>li {display: inline-block}\n",
       ".list-inline>li:not(:last-child)::after {content: \"\\00b7\"; padding: 0 .5ex}\n",
       "</style>\n",
       "<ol class=list-inline><li>'sample_id'</li><li>'Patient'</li><li>'cycle'</li><li>'FOLD'</li><li>'ATC'</li><li>'Age'</li><li>'Disease_type'</li><li>'TE_fold'</li><li>'CD3'</li><li>'EM'</li><li>'CM'</li><li>'Naïve'</li><li>'SCM'</li><li>'TE'</li><li>'EM%'</li><li>'CM%'</li><li>'Naïve%'</li><li>'SCM%'</li><li>'TE%'</li><li>'Naïve/TE'</li><li>'N+CM+SCM/TE+EM'</li><li>'PD-1'</li><li>'PDL1'</li><li>'LAG3'</li><li>'TIM3'</li><li>'CTLA4'</li><li>'PD1%'</li><li>'PDL1%'</li><li>'LAG3%'</li><li>'TIM3%'</li><li>'CTLA4%'</li><li>'Any NCR'</li><li>'PD1 + LAG3 + TIM3'</li><li>'cancergroup'</li><li>'agegroup'</li><li>'foldgroup'</li><li>'Remission'</li><li>'Relapse'</li><li>'Transplant'</li><li>'CART'</li><li>'vital_status'</li><li>'LOF'</li><li>'TRB'</li><li>'Reads'</li><li>'CPKR'</li><li>'Average_reads'</li><li>'VMR'</li><li>'Max_reads'</li><li>'Singletons'</li><li>'Doubletons'</li><li>'qD'</li><li>'Sample_Coverage'</li><li>'observed_Richness'</li><li>'estimated_Richness'</li><li>'SE_Richeness'</li><li>'observed_Shannon'</li><li>'estimated_Shannon'</li><li>'SE_Shannon'</li><li>'observed_Simpson'</li><li>'estimated_Simpson'</li><li>'SE_Simpson'</li><li>'basename'</li><li>'file'</li><li>'sampletype'</li><li>'Group'</li><li>'log10shann'</li><li>'assay'</li><li>'cyclenum'</li><li>'quantreg_cfShannon'</li></ol>\n"
      ],
      "text/latex": [
       "\\begin{enumerate*}\n",
       "\\item 'sample\\_id'\n",
       "\\item 'Patient'\n",
       "\\item 'cycle'\n",
       "\\item 'FOLD'\n",
       "\\item 'ATC'\n",
       "\\item 'Age'\n",
       "\\item 'Disease\\_type'\n",
       "\\item 'TE\\_fold'\n",
       "\\item 'CD3'\n",
       "\\item 'EM'\n",
       "\\item 'CM'\n",
       "\\item 'Naïve'\n",
       "\\item 'SCM'\n",
       "\\item 'TE'\n",
       "\\item 'EM\\%'\n",
       "\\item 'CM\\%'\n",
       "\\item 'Naïve\\%'\n",
       "\\item 'SCM\\%'\n",
       "\\item 'TE\\%'\n",
       "\\item 'Naïve/TE'\n",
       "\\item 'N+CM+SCM/TE+EM'\n",
       "\\item 'PD-1'\n",
       "\\item 'PDL1'\n",
       "\\item 'LAG3'\n",
       "\\item 'TIM3'\n",
       "\\item 'CTLA4'\n",
       "\\item 'PD1\\%'\n",
       "\\item 'PDL1\\%'\n",
       "\\item 'LAG3\\%'\n",
       "\\item 'TIM3\\%'\n",
       "\\item 'CTLA4\\%'\n",
       "\\item 'Any NCR'\n",
       "\\item 'PD1 + LAG3 + TIM3'\n",
       "\\item 'cancergroup'\n",
       "\\item 'agegroup'\n",
       "\\item 'foldgroup'\n",
       "\\item 'Remission'\n",
       "\\item 'Relapse'\n",
       "\\item 'Transplant'\n",
       "\\item 'CART'\n",
       "\\item 'vital\\_status'\n",
       "\\item 'LOF'\n",
       "\\item 'TRB'\n",
       "\\item 'Reads'\n",
       "\\item 'CPKR'\n",
       "\\item 'Average\\_reads'\n",
       "\\item 'VMR'\n",
       "\\item 'Max\\_reads'\n",
       "\\item 'Singletons'\n",
       "\\item 'Doubletons'\n",
       "\\item 'qD'\n",
       "\\item 'Sample\\_Coverage'\n",
       "\\item 'observed\\_Richness'\n",
       "\\item 'estimated\\_Richness'\n",
       "\\item 'SE\\_Richeness'\n",
       "\\item 'observed\\_Shannon'\n",
       "\\item 'estimated\\_Shannon'\n",
       "\\item 'SE\\_Shannon'\n",
       "\\item 'observed\\_Simpson'\n",
       "\\item 'estimated\\_Simpson'\n",
       "\\item 'SE\\_Simpson'\n",
       "\\item 'basename'\n",
       "\\item 'file'\n",
       "\\item 'sampletype'\n",
       "\\item 'Group'\n",
       "\\item 'log10shann'\n",
       "\\item 'assay'\n",
       "\\item 'cyclenum'\n",
       "\\item 'quantreg\\_cfShannon'\n",
       "\\end{enumerate*}\n"
      ],
      "text/markdown": [
       "1. 'sample_id'\n",
       "2. 'Patient'\n",
       "3. 'cycle'\n",
       "4. 'FOLD'\n",
       "5. 'ATC'\n",
       "6. 'Age'\n",
       "7. 'Disease_type'\n",
       "8. 'TE_fold'\n",
       "9. 'CD3'\n",
       "10. 'EM'\n",
       "11. 'CM'\n",
       "12. 'Naïve'\n",
       "13. 'SCM'\n",
       "14. 'TE'\n",
       "15. 'EM%'\n",
       "16. 'CM%'\n",
       "17. 'Naïve%'\n",
       "18. 'SCM%'\n",
       "19. 'TE%'\n",
       "20. 'Naïve/TE'\n",
       "21. 'N+CM+SCM/TE+EM'\n",
       "22. 'PD-1'\n",
       "23. 'PDL1'\n",
       "24. 'LAG3'\n",
       "25. 'TIM3'\n",
       "26. 'CTLA4'\n",
       "27. 'PD1%'\n",
       "28. 'PDL1%'\n",
       "29. 'LAG3%'\n",
       "30. 'TIM3%'\n",
       "31. 'CTLA4%'\n",
       "32. 'Any NCR'\n",
       "33. 'PD1 + LAG3 + TIM3'\n",
       "34. 'cancergroup'\n",
       "35. 'agegroup'\n",
       "36. 'foldgroup'\n",
       "37. 'Remission'\n",
       "38. 'Relapse'\n",
       "39. 'Transplant'\n",
       "40. 'CART'\n",
       "41. 'vital_status'\n",
       "42. 'LOF'\n",
       "43. 'TRB'\n",
       "44. 'Reads'\n",
       "45. 'CPKR'\n",
       "46. 'Average_reads'\n",
       "47. 'VMR'\n",
       "48. 'Max_reads'\n",
       "49. 'Singletons'\n",
       "50. 'Doubletons'\n",
       "51. 'qD'\n",
       "52. 'Sample_Coverage'\n",
       "53. 'observed_Richness'\n",
       "54. 'estimated_Richness'\n",
       "55. 'SE_Richeness'\n",
       "56. 'observed_Shannon'\n",
       "57. 'estimated_Shannon'\n",
       "58. 'SE_Shannon'\n",
       "59. 'observed_Simpson'\n",
       "60. 'estimated_Simpson'\n",
       "61. 'SE_Simpson'\n",
       "62. 'basename'\n",
       "63. 'file'\n",
       "64. 'sampletype'\n",
       "65. 'Group'\n",
       "66. 'log10shann'\n",
       "67. 'assay'\n",
       "68. 'cyclenum'\n",
       "69. 'quantreg_cfShannon'\n",
       "\n",
       "\n"
      ],
      "text/plain": [
       " [1] \"sample_id\"          \"Patient\"            \"cycle\"             \n",
       " [4] \"FOLD\"               \"ATC\"                \"Age\"               \n",
       " [7] \"Disease_type\"       \"TE_fold\"            \"CD3\"               \n",
       "[10] \"EM\"                 \"CM\"                 \"Naïve\"             \n",
       "[13] \"SCM\"                \"TE\"                 \"EM%\"               \n",
       "[16] \"CM%\"                \"Naïve%\"             \"SCM%\"              \n",
       "[19] \"TE%\"                \"Naïve/TE\"           \"N+CM+SCM/TE+EM\"    \n",
       "[22] \"PD-1\"               \"PDL1\"               \"LAG3\"              \n",
       "[25] \"TIM3\"               \"CTLA4\"              \"PD1%\"              \n",
       "[28] \"PDL1%\"              \"LAG3%\"              \"TIM3%\"             \n",
       "[31] \"CTLA4%\"             \"Any NCR\"            \"PD1 + LAG3 + TIM3\" \n",
       "[34] \"cancergroup\"        \"agegroup\"           \"foldgroup\"         \n",
       "[37] \"Remission\"          \"Relapse\"            \"Transplant\"        \n",
       "[40] \"CART\"               \"vital_status\"       \"LOF\"               \n",
       "[43] \"TRB\"                \"Reads\"              \"CPKR\"              \n",
       "[46] \"Average_reads\"      \"VMR\"                \"Max_reads\"         \n",
       "[49] \"Singletons\"         \"Doubletons\"         \"qD\"                \n",
       "[52] \"Sample_Coverage\"    \"observed_Richness\"  \"estimated_Richness\"\n",
       "[55] \"SE_Richeness\"       \"observed_Shannon\"   \"estimated_Shannon\" \n",
       "[58] \"SE_Shannon\"         \"observed_Simpson\"   \"estimated_Simpson\" \n",
       "[61] \"SE_Simpson\"         \"basename\"           \"file\"              \n",
       "[64] \"sampletype\"         \"Group\"              \"log10shann\"        \n",
       "[67] \"assay\"              \"cyclenum\"           \"quantreg_cfShannon\""
      ]
     },
     "metadata": {},
     "output_type": "display_data"
    }
   ],
   "source": [
    "colnames(cftcr_df_min2_pt)"
   ]
  },
  {
   "cell_type": "code",
   "execution_count": 19,
   "metadata": {
    "vscode": {
     "languageId": "r"
    }
   },
   "outputs": [],
   "source": [
    "# merge all the dataframes, allow NAs to include all data\n",
    "df_min2_pt <- merge(flow_df_min2_pt, ncr_df_min2_pt[, c(\"Patient\", \"quantreg_TIM\", \"quantreg_LAG\", \"quantreg_PD1\")], by = \"Patient\", all = TRUE)\n",
    "df_min2_pt <- merge(df_min2_pt, tcr_df_min2_pt[, c(\"Patient\", \"quantreg_Shannon\")], by = \"Patient\", , all = TRUE)\n",
    "df_min2_pt <- merge(df_min2_pt, cftcr_df_min2_pt[, c(\"Patient\", \"quantreg_cfShannon\")], by = \"Patient\", all = TRUE)\n"
   ]
  },
  {
   "cell_type": "code",
   "execution_count": 20,
   "metadata": {
    "vscode": {
     "languageId": "r"
    }
   },
   "outputs": [
    {
     "data": {
      "text/html": [
       "<style>\n",
       ".list-inline {list-style: none; margin:0; padding: 0}\n",
       ".list-inline>li {display: inline-block}\n",
       ".list-inline>li:not(:last-child)::after {content: \"\\00b7\"; padding: 0 .5ex}\n",
       "</style>\n",
       "<ol class=list-inline><li>'Patient'</li><li>'sample_id'</li><li>'cycle'</li><li>'FOLD'</li><li>'ATC'</li><li>'Age'</li><li>'Disease_type'</li><li>'TE_fold'</li><li>'CD3'</li><li>'EM'</li><li>'CM'</li><li>'Naïve'</li><li>'SCM'</li><li>'TE'</li><li>'EM%'</li><li>'CM%'</li><li>'Naïve%'</li><li>'SCM%'</li><li>'TE%'</li><li>'Naïve/TE'</li><li>'N+CM+SCM/TE+EM'</li><li>'PD-1'</li><li>'PDL1'</li><li>'LAG3'</li><li>'TIM3'</li><li>'CTLA4'</li><li>'PD1%'</li><li>'PDL1%'</li><li>'LAG3%'</li><li>'TIM3%'</li><li>'CTLA4%'</li><li>'Any NCR'</li><li>'PD1 + LAG3 + TIM3'</li><li>'cancergroup'</li><li>'agegroup'</li><li>'foldgroup'</li><li>'Remission'</li><li>'Relapse'</li><li>'Transplant'</li><li>'CART'</li><li>'vital_status'</li><li>'LOF'</li><li>'TRB'</li><li>'Reads'</li><li>'CPKR'</li><li>'Average_reads'</li><li>'VMR'</li><li>'Max_reads'</li><li>'Singletons'</li><li>'Doubletons'</li><li>'qD'</li><li>'Sample_Coverage'</li><li>'observed_Richness'</li><li>'estimated_Richness'</li><li>'SE_Richeness'</li><li>'observed_Shannon'</li><li>'estimated_Shannon'</li><li>'SE_Shannon'</li><li>'observed_Simpson'</li><li>'estimated_Simpson'</li><li>'SE_Simpson'</li><li>'basename'</li><li>'file'</li><li>'sampletype'</li><li>'Group'</li><li>'log10shann'</li><li>'assay'</li><li>'cyclenum'</li><li>'quantreg_ATC'</li><li>'quantreg_N'</li><li>'quantreg_CM'</li><li>'quantreg_SCM'</li><li>'quantreg_EM'</li><li>'quantreg_TE'</li><li>'quantreg_TIM'</li><li>'quantreg_LAG'</li><li>'quantreg_PD1'</li><li>'quantreg_Shannon'</li><li>'quantreg_cfShannon'</li></ol>\n"
      ],
      "text/latex": [
       "\\begin{enumerate*}\n",
       "\\item 'Patient'\n",
       "\\item 'sample\\_id'\n",
       "\\item 'cycle'\n",
       "\\item 'FOLD'\n",
       "\\item 'ATC'\n",
       "\\item 'Age'\n",
       "\\item 'Disease\\_type'\n",
       "\\item 'TE\\_fold'\n",
       "\\item 'CD3'\n",
       "\\item 'EM'\n",
       "\\item 'CM'\n",
       "\\item 'Naïve'\n",
       "\\item 'SCM'\n",
       "\\item 'TE'\n",
       "\\item 'EM\\%'\n",
       "\\item 'CM\\%'\n",
       "\\item 'Naïve\\%'\n",
       "\\item 'SCM\\%'\n",
       "\\item 'TE\\%'\n",
       "\\item 'Naïve/TE'\n",
       "\\item 'N+CM+SCM/TE+EM'\n",
       "\\item 'PD-1'\n",
       "\\item 'PDL1'\n",
       "\\item 'LAG3'\n",
       "\\item 'TIM3'\n",
       "\\item 'CTLA4'\n",
       "\\item 'PD1\\%'\n",
       "\\item 'PDL1\\%'\n",
       "\\item 'LAG3\\%'\n",
       "\\item 'TIM3\\%'\n",
       "\\item 'CTLA4\\%'\n",
       "\\item 'Any NCR'\n",
       "\\item 'PD1 + LAG3 + TIM3'\n",
       "\\item 'cancergroup'\n",
       "\\item 'agegroup'\n",
       "\\item 'foldgroup'\n",
       "\\item 'Remission'\n",
       "\\item 'Relapse'\n",
       "\\item 'Transplant'\n",
       "\\item 'CART'\n",
       "\\item 'vital\\_status'\n",
       "\\item 'LOF'\n",
       "\\item 'TRB'\n",
       "\\item 'Reads'\n",
       "\\item 'CPKR'\n",
       "\\item 'Average\\_reads'\n",
       "\\item 'VMR'\n",
       "\\item 'Max\\_reads'\n",
       "\\item 'Singletons'\n",
       "\\item 'Doubletons'\n",
       "\\item 'qD'\n",
       "\\item 'Sample\\_Coverage'\n",
       "\\item 'observed\\_Richness'\n",
       "\\item 'estimated\\_Richness'\n",
       "\\item 'SE\\_Richeness'\n",
       "\\item 'observed\\_Shannon'\n",
       "\\item 'estimated\\_Shannon'\n",
       "\\item 'SE\\_Shannon'\n",
       "\\item 'observed\\_Simpson'\n",
       "\\item 'estimated\\_Simpson'\n",
       "\\item 'SE\\_Simpson'\n",
       "\\item 'basename'\n",
       "\\item 'file'\n",
       "\\item 'sampletype'\n",
       "\\item 'Group'\n",
       "\\item 'log10shann'\n",
       "\\item 'assay'\n",
       "\\item 'cyclenum'\n",
       "\\item 'quantreg\\_ATC'\n",
       "\\item 'quantreg\\_N'\n",
       "\\item 'quantreg\\_CM'\n",
       "\\item 'quantreg\\_SCM'\n",
       "\\item 'quantreg\\_EM'\n",
       "\\item 'quantreg\\_TE'\n",
       "\\item 'quantreg\\_TIM'\n",
       "\\item 'quantreg\\_LAG'\n",
       "\\item 'quantreg\\_PD1'\n",
       "\\item 'quantreg\\_Shannon'\n",
       "\\item 'quantreg\\_cfShannon'\n",
       "\\end{enumerate*}\n"
      ],
      "text/markdown": [
       "1. 'Patient'\n",
       "2. 'sample_id'\n",
       "3. 'cycle'\n",
       "4. 'FOLD'\n",
       "5. 'ATC'\n",
       "6. 'Age'\n",
       "7. 'Disease_type'\n",
       "8. 'TE_fold'\n",
       "9. 'CD3'\n",
       "10. 'EM'\n",
       "11. 'CM'\n",
       "12. 'Naïve'\n",
       "13. 'SCM'\n",
       "14. 'TE'\n",
       "15. 'EM%'\n",
       "16. 'CM%'\n",
       "17. 'Naïve%'\n",
       "18. 'SCM%'\n",
       "19. 'TE%'\n",
       "20. 'Naïve/TE'\n",
       "21. 'N+CM+SCM/TE+EM'\n",
       "22. 'PD-1'\n",
       "23. 'PDL1'\n",
       "24. 'LAG3'\n",
       "25. 'TIM3'\n",
       "26. 'CTLA4'\n",
       "27. 'PD1%'\n",
       "28. 'PDL1%'\n",
       "29. 'LAG3%'\n",
       "30. 'TIM3%'\n",
       "31. 'CTLA4%'\n",
       "32. 'Any NCR'\n",
       "33. 'PD1 + LAG3 + TIM3'\n",
       "34. 'cancergroup'\n",
       "35. 'agegroup'\n",
       "36. 'foldgroup'\n",
       "37. 'Remission'\n",
       "38. 'Relapse'\n",
       "39. 'Transplant'\n",
       "40. 'CART'\n",
       "41. 'vital_status'\n",
       "42. 'LOF'\n",
       "43. 'TRB'\n",
       "44. 'Reads'\n",
       "45. 'CPKR'\n",
       "46. 'Average_reads'\n",
       "47. 'VMR'\n",
       "48. 'Max_reads'\n",
       "49. 'Singletons'\n",
       "50. 'Doubletons'\n",
       "51. 'qD'\n",
       "52. 'Sample_Coverage'\n",
       "53. 'observed_Richness'\n",
       "54. 'estimated_Richness'\n",
       "55. 'SE_Richeness'\n",
       "56. 'observed_Shannon'\n",
       "57. 'estimated_Shannon'\n",
       "58. 'SE_Shannon'\n",
       "59. 'observed_Simpson'\n",
       "60. 'estimated_Simpson'\n",
       "61. 'SE_Simpson'\n",
       "62. 'basename'\n",
       "63. 'file'\n",
       "64. 'sampletype'\n",
       "65. 'Group'\n",
       "66. 'log10shann'\n",
       "67. 'assay'\n",
       "68. 'cyclenum'\n",
       "69. 'quantreg_ATC'\n",
       "70. 'quantreg_N'\n",
       "71. 'quantreg_CM'\n",
       "72. 'quantreg_SCM'\n",
       "73. 'quantreg_EM'\n",
       "74. 'quantreg_TE'\n",
       "75. 'quantreg_TIM'\n",
       "76. 'quantreg_LAG'\n",
       "77. 'quantreg_PD1'\n",
       "78. 'quantreg_Shannon'\n",
       "79. 'quantreg_cfShannon'\n",
       "\n",
       "\n"
      ],
      "text/plain": [
       " [1] \"Patient\"            \"sample_id\"          \"cycle\"             \n",
       " [4] \"FOLD\"               \"ATC\"                \"Age\"               \n",
       " [7] \"Disease_type\"       \"TE_fold\"            \"CD3\"               \n",
       "[10] \"EM\"                 \"CM\"                 \"Naïve\"             \n",
       "[13] \"SCM\"                \"TE\"                 \"EM%\"               \n",
       "[16] \"CM%\"                \"Naïve%\"             \"SCM%\"              \n",
       "[19] \"TE%\"                \"Naïve/TE\"           \"N+CM+SCM/TE+EM\"    \n",
       "[22] \"PD-1\"               \"PDL1\"               \"LAG3\"              \n",
       "[25] \"TIM3\"               \"CTLA4\"              \"PD1%\"              \n",
       "[28] \"PDL1%\"              \"LAG3%\"              \"TIM3%\"             \n",
       "[31] \"CTLA4%\"             \"Any NCR\"            \"PD1 + LAG3 + TIM3\" \n",
       "[34] \"cancergroup\"        \"agegroup\"           \"foldgroup\"         \n",
       "[37] \"Remission\"          \"Relapse\"            \"Transplant\"        \n",
       "[40] \"CART\"               \"vital_status\"       \"LOF\"               \n",
       "[43] \"TRB\"                \"Reads\"              \"CPKR\"              \n",
       "[46] \"Average_reads\"      \"VMR\"                \"Max_reads\"         \n",
       "[49] \"Singletons\"         \"Doubletons\"         \"qD\"                \n",
       "[52] \"Sample_Coverage\"    \"observed_Richness\"  \"estimated_Richness\"\n",
       "[55] \"SE_Richeness\"       \"observed_Shannon\"   \"estimated_Shannon\" \n",
       "[58] \"SE_Shannon\"         \"observed_Simpson\"   \"estimated_Simpson\" \n",
       "[61] \"SE_Simpson\"         \"basename\"           \"file\"              \n",
       "[64] \"sampletype\"         \"Group\"              \"log10shann\"        \n",
       "[67] \"assay\"              \"cyclenum\"           \"quantreg_ATC\"      \n",
       "[70] \"quantreg_N\"         \"quantreg_CM\"        \"quantreg_SCM\"      \n",
       "[73] \"quantreg_EM\"        \"quantreg_TE\"        \"quantreg_TIM\"      \n",
       "[76] \"quantreg_LAG\"       \"quantreg_PD1\"       \"quantreg_Shannon\"  \n",
       "[79] \"quantreg_cfShannon\""
      ]
     },
     "metadata": {},
     "output_type": "display_data"
    }
   ],
   "source": [
    "colnames(df_min2_pt)"
   ]
  },
  {
   "cell_type": "code",
   "execution_count": 21,
   "metadata": {
    "vscode": {
     "languageId": "r"
    }
   },
   "outputs": [],
   "source": [
    "mycol <- colnames(df_min2_pt)[grepl(\"quantreg\", colnames(df_min2_pt))]"
   ]
  },
  {
   "cell_type": "code",
   "execution_count": 22,
   "metadata": {
    "vscode": {
     "languageId": "r"
    }
   },
   "outputs": [
    {
     "data": {
      "text/html": [
       "<style>\n",
       ".list-inline {list-style: none; margin:0; padding: 0}\n",
       ".list-inline>li {display: inline-block}\n",
       ".list-inline>li:not(:last-child)::after {content: \"\\00b7\"; padding: 0 .5ex}\n",
       "</style>\n",
       "<ol class=list-inline><li>'quantreg_ATC'</li><li>'quantreg_N'</li><li>'quantreg_CM'</li><li>'quantreg_SCM'</li><li>'quantreg_EM'</li><li>'quantreg_TE'</li><li>'quantreg_TIM'</li><li>'quantreg_LAG'</li><li>'quantreg_PD1'</li><li>'quantreg_Shannon'</li><li>'quantreg_cfShannon'</li></ol>\n"
      ],
      "text/latex": [
       "\\begin{enumerate*}\n",
       "\\item 'quantreg\\_ATC'\n",
       "\\item 'quantreg\\_N'\n",
       "\\item 'quantreg\\_CM'\n",
       "\\item 'quantreg\\_SCM'\n",
       "\\item 'quantreg\\_EM'\n",
       "\\item 'quantreg\\_TE'\n",
       "\\item 'quantreg\\_TIM'\n",
       "\\item 'quantreg\\_LAG'\n",
       "\\item 'quantreg\\_PD1'\n",
       "\\item 'quantreg\\_Shannon'\n",
       "\\item 'quantreg\\_cfShannon'\n",
       "\\end{enumerate*}\n"
      ],
      "text/markdown": [
       "1. 'quantreg_ATC'\n",
       "2. 'quantreg_N'\n",
       "3. 'quantreg_CM'\n",
       "4. 'quantreg_SCM'\n",
       "5. 'quantreg_EM'\n",
       "6. 'quantreg_TE'\n",
       "7. 'quantreg_TIM'\n",
       "8. 'quantreg_LAG'\n",
       "9. 'quantreg_PD1'\n",
       "10. 'quantreg_Shannon'\n",
       "11. 'quantreg_cfShannon'\n",
       "\n",
       "\n"
      ],
      "text/plain": [
       " [1] \"quantreg_ATC\"       \"quantreg_N\"         \"quantreg_CM\"       \n",
       " [4] \"quantreg_SCM\"       \"quantreg_EM\"        \"quantreg_TE\"       \n",
       " [7] \"quantreg_TIM\"       \"quantreg_LAG\"       \"quantreg_PD1\"      \n",
       "[10] \"quantreg_Shannon\"   \"quantreg_cfShannon\""
      ]
     },
     "metadata": {},
     "output_type": "display_data"
    }
   ],
   "source": [
    "mycol"
   ]
  },
  {
   "cell_type": "code",
   "execution_count": 23,
   "metadata": {
    "vscode": {
     "languageId": "r"
    }
   },
   "outputs": [],
   "source": [
    "# scale\n",
    "for(i in mycol){\n",
    "    newvar <- paste0(i, \"_scaled\")\n",
    "df_min2_pt[[newvar]] <- as.vector(scale(df_min2_pt[[i]]))\n",
    "}"
   ]
  },
  {
   "cell_type": "code",
   "execution_count": 24,
   "metadata": {
    "vscode": {
     "languageId": "r"
    }
   },
   "outputs": [],
   "source": [
    "# # rank\n",
    "# for(i in mycol){\n",
    "#     newvar <- paste0(i, \"_rank\")\n",
    "# df_min2_pt[[newvar]] <- rank(df_min2_pt[[i]])\n",
    "# }"
   ]
  },
  {
   "cell_type": "code",
   "execution_count": 25,
   "metadata": {
    "vscode": {
     "languageId": "r"
    }
   },
   "outputs": [
    {
     "data": {
      "text/html": [
       "-8.03436071265553"
      ],
      "text/latex": [
       "-8.03436071265553"
      ],
      "text/markdown": [
       "-8.03436071265553"
      ],
      "text/plain": [
       "[1] -8.034361"
      ]
     },
     "metadata": {},
     "output_type": "display_data"
    }
   ],
   "source": [
    "min(df_min2_pt$quantreg_LAG, na.rm = TRUE)"
   ]
  },
  {
   "cell_type": "code",
   "execution_count": 26,
   "metadata": {
    "vscode": {
     "languageId": "r"
    }
   },
   "outputs": [],
   "source": [
    "mycol <- colnames(df_min2_pt)[grepl(\"scaled\", colnames(df_min2_pt))]"
   ]
  },
  {
   "cell_type": "code",
   "execution_count": 27,
   "metadata": {
    "vscode": {
     "languageId": "r"
    }
   },
   "outputs": [
    {
     "data": {
      "text/html": [
       "<style>\n",
       ".list-inline {list-style: none; margin:0; padding: 0}\n",
       ".list-inline>li {display: inline-block}\n",
       ".list-inline>li:not(:last-child)::after {content: \"\\00b7\"; padding: 0 .5ex}\n",
       "</style>\n",
       "<ol class=list-inline><li>'quantreg_ATC_scaled'</li><li>'quantreg_N_scaled'</li><li>'quantreg_CM_scaled'</li><li>'quantreg_SCM_scaled'</li><li>'quantreg_EM_scaled'</li><li>'quantreg_TE_scaled'</li><li>'quantreg_TIM_scaled'</li><li>'quantreg_LAG_scaled'</li><li>'quantreg_PD1_scaled'</li><li>'quantreg_Shannon_scaled'</li><li>'quantreg_cfShannon_scaled'</li></ol>\n"
      ],
      "text/latex": [
       "\\begin{enumerate*}\n",
       "\\item 'quantreg\\_ATC\\_scaled'\n",
       "\\item 'quantreg\\_N\\_scaled'\n",
       "\\item 'quantreg\\_CM\\_scaled'\n",
       "\\item 'quantreg\\_SCM\\_scaled'\n",
       "\\item 'quantreg\\_EM\\_scaled'\n",
       "\\item 'quantreg\\_TE\\_scaled'\n",
       "\\item 'quantreg\\_TIM\\_scaled'\n",
       "\\item 'quantreg\\_LAG\\_scaled'\n",
       "\\item 'quantreg\\_PD1\\_scaled'\n",
       "\\item 'quantreg\\_Shannon\\_scaled'\n",
       "\\item 'quantreg\\_cfShannon\\_scaled'\n",
       "\\end{enumerate*}\n"
      ],
      "text/markdown": [
       "1. 'quantreg_ATC_scaled'\n",
       "2. 'quantreg_N_scaled'\n",
       "3. 'quantreg_CM_scaled'\n",
       "4. 'quantreg_SCM_scaled'\n",
       "5. 'quantreg_EM_scaled'\n",
       "6. 'quantreg_TE_scaled'\n",
       "7. 'quantreg_TIM_scaled'\n",
       "8. 'quantreg_LAG_scaled'\n",
       "9. 'quantreg_PD1_scaled'\n",
       "10. 'quantreg_Shannon_scaled'\n",
       "11. 'quantreg_cfShannon_scaled'\n",
       "\n",
       "\n"
      ],
      "text/plain": [
       " [1] \"quantreg_ATC_scaled\"       \"quantreg_N_scaled\"        \n",
       " [3] \"quantreg_CM_scaled\"        \"quantreg_SCM_scaled\"      \n",
       " [5] \"quantreg_EM_scaled\"        \"quantreg_TE_scaled\"       \n",
       " [7] \"quantreg_TIM_scaled\"       \"quantreg_LAG_scaled\"      \n",
       " [9] \"quantreg_PD1_scaled\"       \"quantreg_Shannon_scaled\"  \n",
       "[11] \"quantreg_cfShannon_scaled\""
      ]
     },
     "metadata": {},
     "output_type": "display_data"
    }
   ],
   "source": [
    "mycol"
   ]
  },
  {
   "cell_type": "code",
   "execution_count": 28,
   "metadata": {
    "vscode": {
     "languageId": "r"
    }
   },
   "outputs": [
    {
     "data": {
      "text/plain": [
       "\n",
       "    Leukemia     Lymphoma Solid tumors \n",
       "           9            4            6 "
      ]
     },
     "metadata": {},
     "output_type": "display_data"
    }
   ],
   "source": [
    "table(df_min2_pt$cancergroup)"
   ]
  },
  {
   "cell_type": "code",
   "execution_count": 29,
   "metadata": {
    "vscode": {
     "languageId": "r"
    }
   },
   "outputs": [],
   "source": [
    "df_min2_pt_long <- tidyr::pivot_longer(df_min2_pt, all_of(mycol), names_to = \"Feature\", values_to = \"Quantreg\")"
   ]
  },
  {
   "cell_type": "code",
   "execution_count": 30,
   "metadata": {
    "vscode": {
     "languageId": "r"
    }
   },
   "outputs": [],
   "source": [
    "df_min2_pt_long <- as.data.frame(df_min2_pt_long)"
   ]
  },
  {
   "cell_type": "code",
   "execution_count": 31,
   "metadata": {
    "vscode": {
     "languageId": "r"
    }
   },
   "outputs": [],
   "source": [
    "df_min2_pt_long_narm <- df_min2_pt_long[ !is.na(df_min2_pt_long$Quantreg),]"
   ]
  },
  {
   "cell_type": "markdown",
   "metadata": {},
   "source": [
    "Boxplot"
   ]
  },
  {
   "cell_type": "code",
   "execution_count": 32,
   "metadata": {
    "vscode": {
     "languageId": "r"
    }
   },
   "outputs": [],
   "source": [
    "# use scaled for viz\n",
    "df_min2_pt_long_narm$Featurename <- gsub(\"_scaled\", \"\", df_min2_pt_long_narm$Feature)\n",
    "df_min2_pt_long_narm$Featurename <- gsub(\"quantreg_\", \"\", df_min2_pt_long_narm$Featurename)"
   ]
  },
  {
   "cell_type": "code",
   "execution_count": 33,
   "metadata": {
    "vscode": {
     "languageId": "r"
    }
   },
   "outputs": [
    {
     "data": {
      "text/html": [
       "<table class=\"dataframe\">\n",
       "<caption>A data.frame: 6 x 82</caption>\n",
       "<thead>\n",
       "\t<tr><th></th><th scope=col>Patient</th><th scope=col>sample_id</th><th scope=col>cycle</th><th scope=col>FOLD</th><th scope=col>ATC</th><th scope=col>Age</th><th scope=col>Disease_type</th><th scope=col>TE_fold</th><th scope=col>CD3</th><th scope=col>EM</th><th scope=col>...</th><th scope=col>quantreg_EM</th><th scope=col>quantreg_TE</th><th scope=col>quantreg_TIM</th><th scope=col>quantreg_LAG</th><th scope=col>quantreg_PD1</th><th scope=col>quantreg_Shannon</th><th scope=col>quantreg_cfShannon</th><th scope=col>Feature</th><th scope=col>Quantreg</th><th scope=col>Featurename</th></tr>\n",
       "\t<tr><th></th><th scope=col>&lt;chr&gt;</th><th scope=col>&lt;chr&gt;</th><th scope=col>&lt;chr&gt;</th><th scope=col>&lt;dbl&gt;</th><th scope=col>&lt;dbl&gt;</th><th scope=col>&lt;dbl&gt;</th><th scope=col>&lt;chr&gt;</th><th scope=col>&lt;dbl&gt;</th><th scope=col>&lt;int&gt;</th><th scope=col>&lt;int&gt;</th><th scope=col>...</th><th scope=col>&lt;dbl&gt;</th><th scope=col>&lt;dbl&gt;</th><th scope=col>&lt;dbl&gt;</th><th scope=col>&lt;dbl&gt;</th><th scope=col>&lt;dbl&gt;</th><th scope=col>&lt;dbl&gt;</th><th scope=col>&lt;dbl&gt;</th><th scope=col>&lt;chr&gt;</th><th scope=col>&lt;dbl&gt;</th><th scope=col>&lt;chr&gt;</th></tr>\n",
       "</thead>\n",
       "<tbody>\n",
       "\t<tr><th scope=row>10</th><td>CHP_323</td><td>NA</td><td>NA</td><td>NA</td><td>NA</td><td>NA</td><td>NA</td><td>NA</td><td>NA</td><td>NA</td><td>...</td><td>NA</td><td>NA</td><td>NA</td><td>NA</td><td>NA</td><td> 11.00775</td><td>-8.688000</td><td>quantreg_Shannon_scaled  </td><td> 0.1261740</td><td>Shannon  </td></tr>\n",
       "\t<tr><th scope=row>11</th><td>CHP_323</td><td>NA</td><td>NA</td><td>NA</td><td>NA</td><td>NA</td><td>NA</td><td>NA</td><td>NA</td><td>NA</td><td>...</td><td>NA</td><td>NA</td><td>NA</td><td>NA</td><td>NA</td><td> 11.00775</td><td>-8.688000</td><td>quantreg_cfShannon_scaled</td><td>-2.7655815</td><td>cfShannon</td></tr>\n",
       "\t<tr><th scope=row>22</th><td>CHP_324</td><td>NA</td><td>NA</td><td>NA</td><td>NA</td><td>NA</td><td>NA</td><td>NA</td><td>NA</td><td>NA</td><td>...</td><td>NA</td><td>NA</td><td>NA</td><td>NA</td><td>NA</td><td>       NA</td><td> 0.387500</td><td>quantreg_cfShannon_scaled</td><td> 0.1105124</td><td>cfShannon</td></tr>\n",
       "\t<tr><th scope=row>32</th><td>CHP_328</td><td>NA</td><td>NA</td><td>NA</td><td>NA</td><td>NA</td><td>NA</td><td>NA</td><td>NA</td><td>NA</td><td>...</td><td>NA</td><td>NA</td><td>NA</td><td>NA</td><td>NA</td><td>-68.21300</td><td>       NA</td><td>quantreg_Shannon_scaled  </td><td>-0.7535216</td><td>Shannon  </td></tr>\n",
       "\t<tr><th scope=row>43</th><td>CHP_331</td><td>NA</td><td>NA</td><td>NA</td><td>NA</td><td>NA</td><td>NA</td><td>NA</td><td>NA</td><td>NA</td><td>...</td><td>NA</td><td>NA</td><td>NA</td><td>NA</td><td>NA</td><td> 38.22450</td><td>       NA</td><td>quantreg_Shannon_scaled  </td><td> 0.4283985</td><td>Shannon  </td></tr>\n",
       "\t<tr><th scope=row>55</th><td>CHP_334</td><td>NA</td><td>NA</td><td>NA</td><td>NA</td><td>NA</td><td>NA</td><td>NA</td><td>NA</td><td>NA</td><td>...</td><td>NA</td><td>NA</td><td>NA</td><td>NA</td><td>NA</td><td>       NA</td><td> 1.338167</td><td>quantreg_cfShannon_scaled</td><td> 0.4117858</td><td>cfShannon</td></tr>\n",
       "</tbody>\n",
       "</table>\n"
      ],
      "text/latex": [
       "A data.frame: 6 x 82\n",
       "\\begin{tabular}{r|lllllllllllllllllllll}\n",
       "  & Patient & sample\\_id & cycle & FOLD & ATC & Age & Disease\\_type & TE\\_fold & CD3 & EM & ... & quantreg\\_EM & quantreg\\_TE & quantreg\\_TIM & quantreg\\_LAG & quantreg\\_PD1 & quantreg\\_Shannon & quantreg\\_cfShannon & Feature & Quantreg & Featurename\\\\\n",
       "  & <chr> & <chr> & <chr> & <dbl> & <dbl> & <dbl> & <chr> & <dbl> & <int> & <int> & ... & <dbl> & <dbl> & <dbl> & <dbl> & <dbl> & <dbl> & <dbl> & <chr> & <dbl> & <chr>\\\\\n",
       "\\hline\n",
       "\t10 & CHP\\_323 & NA & NA & NA & NA & NA & NA & NA & NA & NA & ... & NA & NA & NA & NA & NA &  11.00775 & -8.688000 & quantreg\\_Shannon\\_scaled   &  0.1261740 & Shannon  \\\\\n",
       "\t11 & CHP\\_323 & NA & NA & NA & NA & NA & NA & NA & NA & NA & ... & NA & NA & NA & NA & NA &  11.00775 & -8.688000 & quantreg\\_cfShannon\\_scaled & -2.7655815 & cfShannon\\\\\n",
       "\t22 & CHP\\_324 & NA & NA & NA & NA & NA & NA & NA & NA & NA & ... & NA & NA & NA & NA & NA &        NA &  0.387500 & quantreg\\_cfShannon\\_scaled &  0.1105124 & cfShannon\\\\\n",
       "\t32 & CHP\\_328 & NA & NA & NA & NA & NA & NA & NA & NA & NA & ... & NA & NA & NA & NA & NA & -68.21300 &        NA & quantreg\\_Shannon\\_scaled   & -0.7535216 & Shannon  \\\\\n",
       "\t43 & CHP\\_331 & NA & NA & NA & NA & NA & NA & NA & NA & NA & ... & NA & NA & NA & NA & NA &  38.22450 &        NA & quantreg\\_Shannon\\_scaled   &  0.4283985 & Shannon  \\\\\n",
       "\t55 & CHP\\_334 & NA & NA & NA & NA & NA & NA & NA & NA & NA & ... & NA & NA & NA & NA & NA &        NA &  1.338167 & quantreg\\_cfShannon\\_scaled &  0.4117858 & cfShannon\\\\\n",
       "\\end{tabular}\n"
      ],
      "text/markdown": [
       "\n",
       "A data.frame: 6 x 82\n",
       "\n",
       "| <!--/--> | Patient &lt;chr&gt; | sample_id &lt;chr&gt; | cycle &lt;chr&gt; | FOLD &lt;dbl&gt; | ATC &lt;dbl&gt; | Age &lt;dbl&gt; | Disease_type &lt;chr&gt; | TE_fold &lt;dbl&gt; | CD3 &lt;int&gt; | EM &lt;int&gt; | ... ... | quantreg_EM &lt;dbl&gt; | quantreg_TE &lt;dbl&gt; | quantreg_TIM &lt;dbl&gt; | quantreg_LAG &lt;dbl&gt; | quantreg_PD1 &lt;dbl&gt; | quantreg_Shannon &lt;dbl&gt; | quantreg_cfShannon &lt;dbl&gt; | Feature &lt;chr&gt; | Quantreg &lt;dbl&gt; | Featurename &lt;chr&gt; |\n",
       "|---|---|---|---|---|---|---|---|---|---|---|---|---|---|---|---|---|---|---|---|---|---|\n",
       "| 10 | CHP_323 | NA | NA | NA | NA | NA | NA | NA | NA | NA | ... | NA | NA | NA | NA | NA |  11.00775 | -8.688000 | quantreg_Shannon_scaled   |  0.1261740 | Shannon   |\n",
       "| 11 | CHP_323 | NA | NA | NA | NA | NA | NA | NA | NA | NA | ... | NA | NA | NA | NA | NA |  11.00775 | -8.688000 | quantreg_cfShannon_scaled | -2.7655815 | cfShannon |\n",
       "| 22 | CHP_324 | NA | NA | NA | NA | NA | NA | NA | NA | NA | ... | NA | NA | NA | NA | NA |        NA |  0.387500 | quantreg_cfShannon_scaled |  0.1105124 | cfShannon |\n",
       "| 32 | CHP_328 | NA | NA | NA | NA | NA | NA | NA | NA | NA | ... | NA | NA | NA | NA | NA | -68.21300 |        NA | quantreg_Shannon_scaled   | -0.7535216 | Shannon   |\n",
       "| 43 | CHP_331 | NA | NA | NA | NA | NA | NA | NA | NA | NA | ... | NA | NA | NA | NA | NA |  38.22450 |        NA | quantreg_Shannon_scaled   |  0.4283985 | Shannon   |\n",
       "| 55 | CHP_334 | NA | NA | NA | NA | NA | NA | NA | NA | NA | ... | NA | NA | NA | NA | NA |        NA |  1.338167 | quantreg_cfShannon_scaled |  0.4117858 | cfShannon |\n",
       "\n"
      ],
      "text/plain": [
       "   Patient sample_id cycle FOLD ATC Age Disease_type TE_fold CD3 EM ...\n",
       "10 CHP_323 NA        NA    NA   NA  NA  NA           NA      NA  NA ...\n",
       "11 CHP_323 NA        NA    NA   NA  NA  NA           NA      NA  NA ...\n",
       "22 CHP_324 NA        NA    NA   NA  NA  NA           NA      NA  NA ...\n",
       "32 CHP_328 NA        NA    NA   NA  NA  NA           NA      NA  NA ...\n",
       "43 CHP_331 NA        NA    NA   NA  NA  NA           NA      NA  NA ...\n",
       "55 CHP_334 NA        NA    NA   NA  NA  NA           NA      NA  NA ...\n",
       "   quantreg_EM quantreg_TE quantreg_TIM quantreg_LAG quantreg_PD1\n",
       "10 NA          NA          NA           NA           NA          \n",
       "11 NA          NA          NA           NA           NA          \n",
       "22 NA          NA          NA           NA           NA          \n",
       "32 NA          NA          NA           NA           NA          \n",
       "43 NA          NA          NA           NA           NA          \n",
       "55 NA          NA          NA           NA           NA          \n",
       "   quantreg_Shannon quantreg_cfShannon Feature                   Quantreg  \n",
       "10  11.00775        -8.688000          quantreg_Shannon_scaled    0.1261740\n",
       "11  11.00775        -8.688000          quantreg_cfShannon_scaled -2.7655815\n",
       "22        NA         0.387500          quantreg_cfShannon_scaled  0.1105124\n",
       "32 -68.21300               NA          quantreg_Shannon_scaled   -0.7535216\n",
       "43  38.22450               NA          quantreg_Shannon_scaled    0.4283985\n",
       "55        NA         1.338167          quantreg_cfShannon_scaled  0.4117858\n",
       "   Featurename\n",
       "10 Shannon    \n",
       "11 cfShannon  \n",
       "22 cfShannon  \n",
       "32 Shannon    \n",
       "43 Shannon    \n",
       "55 cfShannon  "
      ]
     },
     "metadata": {},
     "output_type": "display_data"
    }
   ],
   "source": [
    "head(df_min2_pt_long_narm)"
   ]
  },
  {
   "cell_type": "code",
   "execution_count": 34,
   "metadata": {
    "vscode": {
     "languageId": "r"
    }
   },
   "outputs": [
    {
     "data": {
      "text/plain": [
       "\n",
       "    Leukemia     Lymphoma Solid tumors \n",
       "          95           38           66 "
      ]
     },
     "metadata": {},
     "output_type": "display_data"
    }
   ],
   "source": [
    "table(df_min2_pt_long_narm$cancergroup)"
   ]
  },
  {
   "cell_type": "code",
   "execution_count": 35,
   "metadata": {
    "vscode": {
     "languageId": "r"
    }
   },
   "outputs": [
    {
     "data": {
      "text/plain": [
       "\n",
       "      ATC cfShannon        CM        EM       LAG         N       PD1       SCM \n",
       "       19        64        19        19        16        19        16        19 \n",
       "  Shannon        TE       TIM \n",
       "       50        19        16 "
      ]
     },
     "metadata": {},
     "output_type": "display_data"
    }
   ],
   "source": [
    "table(df_min2_pt_long_narm$Featurename)"
   ]
  },
  {
   "cell_type": "code",
   "execution_count": 36,
   "metadata": {
    "vscode": {
     "languageId": "r"
    }
   },
   "outputs": [],
   "source": [
    "df_min2_pt_long_narm$Featurename <- factor(df_min2_pt_long_narm$Featurename,\n",
    "    levels = c(\"ATC\", \"N\", \"SCM\", \"CM\", \"EM\", \"TE\", \"PD1\", \"TIM\",\"LAG\",  \"Shannon\", \"cfShannon\")\n",
    ")\n"
   ]
  },
  {
   "cell_type": "code",
   "execution_count": 37,
   "metadata": {
    "vscode": {
     "languageId": "r"
    }
   },
   "outputs": [],
   "source": [
    "df_min2_pt_long_narm$Featurename <- factor(df_min2_pt_long_narm$Featurename,\n",
    "    levels = rev(levels(df_min2_pt_long_narm$Featurename))\n",
    ")\n"
   ]
  },
  {
   "cell_type": "code",
   "execution_count": 38,
   "metadata": {
    "vscode": {
     "languageId": "r"
    }
   },
   "outputs": [
    {
     "data": {
      "text/html": [
       "<table class=\"dataframe\">\n",
       "<caption>A data.frame: 6 x 82</caption>\n",
       "<thead>\n",
       "\t<tr><th></th><th scope=col>Patient</th><th scope=col>sample_id</th><th scope=col>cycle</th><th scope=col>FOLD</th><th scope=col>ATC</th><th scope=col>Age</th><th scope=col>Disease_type</th><th scope=col>TE_fold</th><th scope=col>CD3</th><th scope=col>EM</th><th scope=col>...</th><th scope=col>quantreg_EM</th><th scope=col>quantreg_TE</th><th scope=col>quantreg_TIM</th><th scope=col>quantreg_LAG</th><th scope=col>quantreg_PD1</th><th scope=col>quantreg_Shannon</th><th scope=col>quantreg_cfShannon</th><th scope=col>Feature</th><th scope=col>Quantreg</th><th scope=col>Featurename</th></tr>\n",
       "\t<tr><th></th><th scope=col>&lt;chr&gt;</th><th scope=col>&lt;chr&gt;</th><th scope=col>&lt;chr&gt;</th><th scope=col>&lt;dbl&gt;</th><th scope=col>&lt;dbl&gt;</th><th scope=col>&lt;dbl&gt;</th><th scope=col>&lt;chr&gt;</th><th scope=col>&lt;dbl&gt;</th><th scope=col>&lt;int&gt;</th><th scope=col>&lt;int&gt;</th><th scope=col>...</th><th scope=col>&lt;dbl&gt;</th><th scope=col>&lt;dbl&gt;</th><th scope=col>&lt;dbl&gt;</th><th scope=col>&lt;dbl&gt;</th><th scope=col>&lt;dbl&gt;</th><th scope=col>&lt;dbl&gt;</th><th scope=col>&lt;dbl&gt;</th><th scope=col>&lt;chr&gt;</th><th scope=col>&lt;dbl&gt;</th><th scope=col>&lt;fct&gt;</th></tr>\n",
       "</thead>\n",
       "<tbody>\n",
       "\t<tr><th scope=row>10</th><td>CHP_323</td><td>NA</td><td>NA</td><td>NA</td><td>NA</td><td>NA</td><td>NA</td><td>NA</td><td>NA</td><td>NA</td><td>...</td><td>NA</td><td>NA</td><td>NA</td><td>NA</td><td>NA</td><td> 11.00775</td><td>-8.688000</td><td>quantreg_Shannon_scaled  </td><td> 0.1261740</td><td>Shannon  </td></tr>\n",
       "\t<tr><th scope=row>11</th><td>CHP_323</td><td>NA</td><td>NA</td><td>NA</td><td>NA</td><td>NA</td><td>NA</td><td>NA</td><td>NA</td><td>NA</td><td>...</td><td>NA</td><td>NA</td><td>NA</td><td>NA</td><td>NA</td><td> 11.00775</td><td>-8.688000</td><td>quantreg_cfShannon_scaled</td><td>-2.7655815</td><td>cfShannon</td></tr>\n",
       "\t<tr><th scope=row>22</th><td>CHP_324</td><td>NA</td><td>NA</td><td>NA</td><td>NA</td><td>NA</td><td>NA</td><td>NA</td><td>NA</td><td>NA</td><td>...</td><td>NA</td><td>NA</td><td>NA</td><td>NA</td><td>NA</td><td>       NA</td><td> 0.387500</td><td>quantreg_cfShannon_scaled</td><td> 0.1105124</td><td>cfShannon</td></tr>\n",
       "\t<tr><th scope=row>32</th><td>CHP_328</td><td>NA</td><td>NA</td><td>NA</td><td>NA</td><td>NA</td><td>NA</td><td>NA</td><td>NA</td><td>NA</td><td>...</td><td>NA</td><td>NA</td><td>NA</td><td>NA</td><td>NA</td><td>-68.21300</td><td>       NA</td><td>quantreg_Shannon_scaled  </td><td>-0.7535216</td><td>Shannon  </td></tr>\n",
       "\t<tr><th scope=row>43</th><td>CHP_331</td><td>NA</td><td>NA</td><td>NA</td><td>NA</td><td>NA</td><td>NA</td><td>NA</td><td>NA</td><td>NA</td><td>...</td><td>NA</td><td>NA</td><td>NA</td><td>NA</td><td>NA</td><td> 38.22450</td><td>       NA</td><td>quantreg_Shannon_scaled  </td><td> 0.4283985</td><td>Shannon  </td></tr>\n",
       "\t<tr><th scope=row>55</th><td>CHP_334</td><td>NA</td><td>NA</td><td>NA</td><td>NA</td><td>NA</td><td>NA</td><td>NA</td><td>NA</td><td>NA</td><td>...</td><td>NA</td><td>NA</td><td>NA</td><td>NA</td><td>NA</td><td>       NA</td><td> 1.338167</td><td>quantreg_cfShannon_scaled</td><td> 0.4117858</td><td>cfShannon</td></tr>\n",
       "</tbody>\n",
       "</table>\n"
      ],
      "text/latex": [
       "A data.frame: 6 x 82\n",
       "\\begin{tabular}{r|lllllllllllllllllllll}\n",
       "  & Patient & sample\\_id & cycle & FOLD & ATC & Age & Disease\\_type & TE\\_fold & CD3 & EM & ... & quantreg\\_EM & quantreg\\_TE & quantreg\\_TIM & quantreg\\_LAG & quantreg\\_PD1 & quantreg\\_Shannon & quantreg\\_cfShannon & Feature & Quantreg & Featurename\\\\\n",
       "  & <chr> & <chr> & <chr> & <dbl> & <dbl> & <dbl> & <chr> & <dbl> & <int> & <int> & ... & <dbl> & <dbl> & <dbl> & <dbl> & <dbl> & <dbl> & <dbl> & <chr> & <dbl> & <fct>\\\\\n",
       "\\hline\n",
       "\t10 & CHP\\_323 & NA & NA & NA & NA & NA & NA & NA & NA & NA & ... & NA & NA & NA & NA & NA &  11.00775 & -8.688000 & quantreg\\_Shannon\\_scaled   &  0.1261740 & Shannon  \\\\\n",
       "\t11 & CHP\\_323 & NA & NA & NA & NA & NA & NA & NA & NA & NA & ... & NA & NA & NA & NA & NA &  11.00775 & -8.688000 & quantreg\\_cfShannon\\_scaled & -2.7655815 & cfShannon\\\\\n",
       "\t22 & CHP\\_324 & NA & NA & NA & NA & NA & NA & NA & NA & NA & ... & NA & NA & NA & NA & NA &        NA &  0.387500 & quantreg\\_cfShannon\\_scaled &  0.1105124 & cfShannon\\\\\n",
       "\t32 & CHP\\_328 & NA & NA & NA & NA & NA & NA & NA & NA & NA & ... & NA & NA & NA & NA & NA & -68.21300 &        NA & quantreg\\_Shannon\\_scaled   & -0.7535216 & Shannon  \\\\\n",
       "\t43 & CHP\\_331 & NA & NA & NA & NA & NA & NA & NA & NA & NA & ... & NA & NA & NA & NA & NA &  38.22450 &        NA & quantreg\\_Shannon\\_scaled   &  0.4283985 & Shannon  \\\\\n",
       "\t55 & CHP\\_334 & NA & NA & NA & NA & NA & NA & NA & NA & NA & ... & NA & NA & NA & NA & NA &        NA &  1.338167 & quantreg\\_cfShannon\\_scaled &  0.4117858 & cfShannon\\\\\n",
       "\\end{tabular}\n"
      ],
      "text/markdown": [
       "\n",
       "A data.frame: 6 x 82\n",
       "\n",
       "| <!--/--> | Patient &lt;chr&gt; | sample_id &lt;chr&gt; | cycle &lt;chr&gt; | FOLD &lt;dbl&gt; | ATC &lt;dbl&gt; | Age &lt;dbl&gt; | Disease_type &lt;chr&gt; | TE_fold &lt;dbl&gt; | CD3 &lt;int&gt; | EM &lt;int&gt; | ... ... | quantreg_EM &lt;dbl&gt; | quantreg_TE &lt;dbl&gt; | quantreg_TIM &lt;dbl&gt; | quantreg_LAG &lt;dbl&gt; | quantreg_PD1 &lt;dbl&gt; | quantreg_Shannon &lt;dbl&gt; | quantreg_cfShannon &lt;dbl&gt; | Feature &lt;chr&gt; | Quantreg &lt;dbl&gt; | Featurename &lt;fct&gt; |\n",
       "|---|---|---|---|---|---|---|---|---|---|---|---|---|---|---|---|---|---|---|---|---|---|\n",
       "| 10 | CHP_323 | NA | NA | NA | NA | NA | NA | NA | NA | NA | ... | NA | NA | NA | NA | NA |  11.00775 | -8.688000 | quantreg_Shannon_scaled   |  0.1261740 | Shannon   |\n",
       "| 11 | CHP_323 | NA | NA | NA | NA | NA | NA | NA | NA | NA | ... | NA | NA | NA | NA | NA |  11.00775 | -8.688000 | quantreg_cfShannon_scaled | -2.7655815 | cfShannon |\n",
       "| 22 | CHP_324 | NA | NA | NA | NA | NA | NA | NA | NA | NA | ... | NA | NA | NA | NA | NA |        NA |  0.387500 | quantreg_cfShannon_scaled |  0.1105124 | cfShannon |\n",
       "| 32 | CHP_328 | NA | NA | NA | NA | NA | NA | NA | NA | NA | ... | NA | NA | NA | NA | NA | -68.21300 |        NA | quantreg_Shannon_scaled   | -0.7535216 | Shannon   |\n",
       "| 43 | CHP_331 | NA | NA | NA | NA | NA | NA | NA | NA | NA | ... | NA | NA | NA | NA | NA |  38.22450 |        NA | quantreg_Shannon_scaled   |  0.4283985 | Shannon   |\n",
       "| 55 | CHP_334 | NA | NA | NA | NA | NA | NA | NA | NA | NA | ... | NA | NA | NA | NA | NA |        NA |  1.338167 | quantreg_cfShannon_scaled |  0.4117858 | cfShannon |\n",
       "\n"
      ],
      "text/plain": [
       "   Patient sample_id cycle FOLD ATC Age Disease_type TE_fold CD3 EM ...\n",
       "10 CHP_323 NA        NA    NA   NA  NA  NA           NA      NA  NA ...\n",
       "11 CHP_323 NA        NA    NA   NA  NA  NA           NA      NA  NA ...\n",
       "22 CHP_324 NA        NA    NA   NA  NA  NA           NA      NA  NA ...\n",
       "32 CHP_328 NA        NA    NA   NA  NA  NA           NA      NA  NA ...\n",
       "43 CHP_331 NA        NA    NA   NA  NA  NA           NA      NA  NA ...\n",
       "55 CHP_334 NA        NA    NA   NA  NA  NA           NA      NA  NA ...\n",
       "   quantreg_EM quantreg_TE quantreg_TIM quantreg_LAG quantreg_PD1\n",
       "10 NA          NA          NA           NA           NA          \n",
       "11 NA          NA          NA           NA           NA          \n",
       "22 NA          NA          NA           NA           NA          \n",
       "32 NA          NA          NA           NA           NA          \n",
       "43 NA          NA          NA           NA           NA          \n",
       "55 NA          NA          NA           NA           NA          \n",
       "   quantreg_Shannon quantreg_cfShannon Feature                   Quantreg  \n",
       "10  11.00775        -8.688000          quantreg_Shannon_scaled    0.1261740\n",
       "11  11.00775        -8.688000          quantreg_cfShannon_scaled -2.7655815\n",
       "22        NA         0.387500          quantreg_cfShannon_scaled  0.1105124\n",
       "32 -68.21300               NA          quantreg_Shannon_scaled   -0.7535216\n",
       "43  38.22450               NA          quantreg_Shannon_scaled    0.4283985\n",
       "55        NA         1.338167          quantreg_cfShannon_scaled  0.4117858\n",
       "   Featurename\n",
       "10 Shannon    \n",
       "11 cfShannon  \n",
       "22 cfShannon  \n",
       "32 Shannon    \n",
       "43 Shannon    \n",
       "55 cfShannon  "
      ]
     },
     "metadata": {},
     "output_type": "display_data"
    }
   ],
   "source": [
    "head(df_min2_pt_long_narm)"
   ]
  },
  {
   "cell_type": "code",
   "execution_count": 39,
   "metadata": {
    "vscode": {
     "languageId": "r"
    }
   },
   "outputs": [],
   "source": [
    "df_min2_pt_long_narm$Feature <- NA\n",
    "df_min2_pt_long_narm$Feature[ df_min2_pt_long_narm$Featurename == \"ATC\"] <- \"ATC\"\n",
    "df_min2_pt_long_narm$Feature[ df_min2_pt_long_narm$Featurename == \"N\"] <- \"Naïve%\"\n",
    "df_min2_pt_long_narm$Feature[ df_min2_pt_long_narm$Featurename == \"SCM\"] <- \"SCM%\"\n",
    "df_min2_pt_long_narm$Feature[ df_min2_pt_long_narm$Featurename == \"CM\"] <- \"CM%\"\n",
    "df_min2_pt_long_narm$Feature[ df_min2_pt_long_narm$Featurename == \"EM\"] <- \"EM%\"\n",
    "df_min2_pt_long_narm$Feature[ df_min2_pt_long_narm$Featurename == \"TE\"] <- \"TE%\"\n",
    "df_min2_pt_long_narm$Feature[ df_min2_pt_long_narm$Featurename == \"PD1\"] <- \"PD1%\"\n",
    "df_min2_pt_long_narm$Feature[ df_min2_pt_long_narm$Featurename == \"LAG\"] <- \"LAG3%\"\n",
    "df_min2_pt_long_narm$Feature[ df_min2_pt_long_narm$Featurename == \"TIM\"] <- \"TIM3%\"\n",
    "df_min2_pt_long_narm$Feature[ df_min2_pt_long_narm$Featurename == \"Shannon\"] <- \"TCR Shannon\"\n",
    "df_min2_pt_long_narm$Feature[ df_min2_pt_long_narm$Featurename == \"cfShannon\"] <- \"cfTCR Shannon\""
   ]
  },
  {
   "cell_type": "code",
   "execution_count": 40,
   "metadata": {
    "vscode": {
     "languageId": "r"
    }
   },
   "outputs": [],
   "source": [
    "df_min2_pt_long_narm$Feature <- factor(df_min2_pt_long_narm$Feature,\n",
    "  levels = c(\"cfTCR Shannon\", \"TCR Shannon\", \"LAG3%\",\"TIM3%\", \"PD1%\", \"TE%\", \"EM%\", \"CM%\", \"SCM%\", \"Naïve%\", \"ATC\")\n",
    ")\n"
   ]
  },
  {
   "cell_type": "code",
   "execution_count": 41,
   "metadata": {
    "vscode": {
     "languageId": "r"
    }
   },
   "outputs": [
    {
     "data": {
      "text/html": [
       "<table class=\"dataframe\">\n",
       "<caption>A data.frame: 6 x 82</caption>\n",
       "<thead>\n",
       "\t<tr><th></th><th scope=col>Patient</th><th scope=col>sample_id</th><th scope=col>cycle</th><th scope=col>FOLD</th><th scope=col>ATC</th><th scope=col>Age</th><th scope=col>Disease_type</th><th scope=col>TE_fold</th><th scope=col>CD3</th><th scope=col>EM</th><th scope=col>...</th><th scope=col>quantreg_EM</th><th scope=col>quantreg_TE</th><th scope=col>quantreg_TIM</th><th scope=col>quantreg_LAG</th><th scope=col>quantreg_PD1</th><th scope=col>quantreg_Shannon</th><th scope=col>quantreg_cfShannon</th><th scope=col>Feature</th><th scope=col>Quantreg</th><th scope=col>Featurename</th></tr>\n",
       "\t<tr><th></th><th scope=col>&lt;chr&gt;</th><th scope=col>&lt;chr&gt;</th><th scope=col>&lt;chr&gt;</th><th scope=col>&lt;dbl&gt;</th><th scope=col>&lt;dbl&gt;</th><th scope=col>&lt;dbl&gt;</th><th scope=col>&lt;chr&gt;</th><th scope=col>&lt;dbl&gt;</th><th scope=col>&lt;int&gt;</th><th scope=col>&lt;int&gt;</th><th scope=col>...</th><th scope=col>&lt;dbl&gt;</th><th scope=col>&lt;dbl&gt;</th><th scope=col>&lt;dbl&gt;</th><th scope=col>&lt;dbl&gt;</th><th scope=col>&lt;dbl&gt;</th><th scope=col>&lt;dbl&gt;</th><th scope=col>&lt;dbl&gt;</th><th scope=col>&lt;fct&gt;</th><th scope=col>&lt;dbl&gt;</th><th scope=col>&lt;fct&gt;</th></tr>\n",
       "</thead>\n",
       "<tbody>\n",
       "\t<tr><th scope=row>10</th><td>CHP_323</td><td>NA</td><td>NA</td><td>NA</td><td>NA</td><td>NA</td><td>NA</td><td>NA</td><td>NA</td><td>NA</td><td>...</td><td>NA</td><td>NA</td><td>NA</td><td>NA</td><td>NA</td><td> 11.00775</td><td>-8.688000</td><td>TCR Shannon  </td><td> 0.1261740</td><td>Shannon  </td></tr>\n",
       "\t<tr><th scope=row>11</th><td>CHP_323</td><td>NA</td><td>NA</td><td>NA</td><td>NA</td><td>NA</td><td>NA</td><td>NA</td><td>NA</td><td>NA</td><td>...</td><td>NA</td><td>NA</td><td>NA</td><td>NA</td><td>NA</td><td> 11.00775</td><td>-8.688000</td><td>cfTCR Shannon</td><td>-2.7655815</td><td>cfShannon</td></tr>\n",
       "\t<tr><th scope=row>22</th><td>CHP_324</td><td>NA</td><td>NA</td><td>NA</td><td>NA</td><td>NA</td><td>NA</td><td>NA</td><td>NA</td><td>NA</td><td>...</td><td>NA</td><td>NA</td><td>NA</td><td>NA</td><td>NA</td><td>       NA</td><td> 0.387500</td><td>cfTCR Shannon</td><td> 0.1105124</td><td>cfShannon</td></tr>\n",
       "\t<tr><th scope=row>32</th><td>CHP_328</td><td>NA</td><td>NA</td><td>NA</td><td>NA</td><td>NA</td><td>NA</td><td>NA</td><td>NA</td><td>NA</td><td>...</td><td>NA</td><td>NA</td><td>NA</td><td>NA</td><td>NA</td><td>-68.21300</td><td>       NA</td><td>TCR Shannon  </td><td>-0.7535216</td><td>Shannon  </td></tr>\n",
       "\t<tr><th scope=row>43</th><td>CHP_331</td><td>NA</td><td>NA</td><td>NA</td><td>NA</td><td>NA</td><td>NA</td><td>NA</td><td>NA</td><td>NA</td><td>...</td><td>NA</td><td>NA</td><td>NA</td><td>NA</td><td>NA</td><td> 38.22450</td><td>       NA</td><td>TCR Shannon  </td><td> 0.4283985</td><td>Shannon  </td></tr>\n",
       "\t<tr><th scope=row>55</th><td>CHP_334</td><td>NA</td><td>NA</td><td>NA</td><td>NA</td><td>NA</td><td>NA</td><td>NA</td><td>NA</td><td>NA</td><td>...</td><td>NA</td><td>NA</td><td>NA</td><td>NA</td><td>NA</td><td>       NA</td><td> 1.338167</td><td>cfTCR Shannon</td><td> 0.4117858</td><td>cfShannon</td></tr>\n",
       "</tbody>\n",
       "</table>\n"
      ],
      "text/latex": [
       "A data.frame: 6 x 82\n",
       "\\begin{tabular}{r|lllllllllllllllllllll}\n",
       "  & Patient & sample\\_id & cycle & FOLD & ATC & Age & Disease\\_type & TE\\_fold & CD3 & EM & ... & quantreg\\_EM & quantreg\\_TE & quantreg\\_TIM & quantreg\\_LAG & quantreg\\_PD1 & quantreg\\_Shannon & quantreg\\_cfShannon & Feature & Quantreg & Featurename\\\\\n",
       "  & <chr> & <chr> & <chr> & <dbl> & <dbl> & <dbl> & <chr> & <dbl> & <int> & <int> & ... & <dbl> & <dbl> & <dbl> & <dbl> & <dbl> & <dbl> & <dbl> & <fct> & <dbl> & <fct>\\\\\n",
       "\\hline\n",
       "\t10 & CHP\\_323 & NA & NA & NA & NA & NA & NA & NA & NA & NA & ... & NA & NA & NA & NA & NA &  11.00775 & -8.688000 & TCR Shannon   &  0.1261740 & Shannon  \\\\\n",
       "\t11 & CHP\\_323 & NA & NA & NA & NA & NA & NA & NA & NA & NA & ... & NA & NA & NA & NA & NA &  11.00775 & -8.688000 & cfTCR Shannon & -2.7655815 & cfShannon\\\\\n",
       "\t22 & CHP\\_324 & NA & NA & NA & NA & NA & NA & NA & NA & NA & ... & NA & NA & NA & NA & NA &        NA &  0.387500 & cfTCR Shannon &  0.1105124 & cfShannon\\\\\n",
       "\t32 & CHP\\_328 & NA & NA & NA & NA & NA & NA & NA & NA & NA & ... & NA & NA & NA & NA & NA & -68.21300 &        NA & TCR Shannon   & -0.7535216 & Shannon  \\\\\n",
       "\t43 & CHP\\_331 & NA & NA & NA & NA & NA & NA & NA & NA & NA & ... & NA & NA & NA & NA & NA &  38.22450 &        NA & TCR Shannon   &  0.4283985 & Shannon  \\\\\n",
       "\t55 & CHP\\_334 & NA & NA & NA & NA & NA & NA & NA & NA & NA & ... & NA & NA & NA & NA & NA &        NA &  1.338167 & cfTCR Shannon &  0.4117858 & cfShannon\\\\\n",
       "\\end{tabular}\n"
      ],
      "text/markdown": [
       "\n",
       "A data.frame: 6 x 82\n",
       "\n",
       "| <!--/--> | Patient &lt;chr&gt; | sample_id &lt;chr&gt; | cycle &lt;chr&gt; | FOLD &lt;dbl&gt; | ATC &lt;dbl&gt; | Age &lt;dbl&gt; | Disease_type &lt;chr&gt; | TE_fold &lt;dbl&gt; | CD3 &lt;int&gt; | EM &lt;int&gt; | ... ... | quantreg_EM &lt;dbl&gt; | quantreg_TE &lt;dbl&gt; | quantreg_TIM &lt;dbl&gt; | quantreg_LAG &lt;dbl&gt; | quantreg_PD1 &lt;dbl&gt; | quantreg_Shannon &lt;dbl&gt; | quantreg_cfShannon &lt;dbl&gt; | Feature &lt;fct&gt; | Quantreg &lt;dbl&gt; | Featurename &lt;fct&gt; |\n",
       "|---|---|---|---|---|---|---|---|---|---|---|---|---|---|---|---|---|---|---|---|---|---|\n",
       "| 10 | CHP_323 | NA | NA | NA | NA | NA | NA | NA | NA | NA | ... | NA | NA | NA | NA | NA |  11.00775 | -8.688000 | TCR Shannon   |  0.1261740 | Shannon   |\n",
       "| 11 | CHP_323 | NA | NA | NA | NA | NA | NA | NA | NA | NA | ... | NA | NA | NA | NA | NA |  11.00775 | -8.688000 | cfTCR Shannon | -2.7655815 | cfShannon |\n",
       "| 22 | CHP_324 | NA | NA | NA | NA | NA | NA | NA | NA | NA | ... | NA | NA | NA | NA | NA |        NA |  0.387500 | cfTCR Shannon |  0.1105124 | cfShannon |\n",
       "| 32 | CHP_328 | NA | NA | NA | NA | NA | NA | NA | NA | NA | ... | NA | NA | NA | NA | NA | -68.21300 |        NA | TCR Shannon   | -0.7535216 | Shannon   |\n",
       "| 43 | CHP_331 | NA | NA | NA | NA | NA | NA | NA | NA | NA | ... | NA | NA | NA | NA | NA |  38.22450 |        NA | TCR Shannon   |  0.4283985 | Shannon   |\n",
       "| 55 | CHP_334 | NA | NA | NA | NA | NA | NA | NA | NA | NA | ... | NA | NA | NA | NA | NA |        NA |  1.338167 | cfTCR Shannon |  0.4117858 | cfShannon |\n",
       "\n"
      ],
      "text/plain": [
       "   Patient sample_id cycle FOLD ATC Age Disease_type TE_fold CD3 EM ...\n",
       "10 CHP_323 NA        NA    NA   NA  NA  NA           NA      NA  NA ...\n",
       "11 CHP_323 NA        NA    NA   NA  NA  NA           NA      NA  NA ...\n",
       "22 CHP_324 NA        NA    NA   NA  NA  NA           NA      NA  NA ...\n",
       "32 CHP_328 NA        NA    NA   NA  NA  NA           NA      NA  NA ...\n",
       "43 CHP_331 NA        NA    NA   NA  NA  NA           NA      NA  NA ...\n",
       "55 CHP_334 NA        NA    NA   NA  NA  NA           NA      NA  NA ...\n",
       "   quantreg_EM quantreg_TE quantreg_TIM quantreg_LAG quantreg_PD1\n",
       "10 NA          NA          NA           NA           NA          \n",
       "11 NA          NA          NA           NA           NA          \n",
       "22 NA          NA          NA           NA           NA          \n",
       "32 NA          NA          NA           NA           NA          \n",
       "43 NA          NA          NA           NA           NA          \n",
       "55 NA          NA          NA           NA           NA          \n",
       "   quantreg_Shannon quantreg_cfShannon Feature       Quantreg   Featurename\n",
       "10  11.00775        -8.688000          TCR Shannon    0.1261740 Shannon    \n",
       "11  11.00775        -8.688000          cfTCR Shannon -2.7655815 cfShannon  \n",
       "22        NA         0.387500          cfTCR Shannon  0.1105124 cfShannon  \n",
       "32 -68.21300               NA          TCR Shannon   -0.7535216 Shannon    \n",
       "43  38.22450               NA          TCR Shannon    0.4283985 Shannon    \n",
       "55        NA         1.338167          cfTCR Shannon  0.4117858 cfShannon  "
      ]
     },
     "metadata": {},
     "output_type": "display_data"
    }
   ],
   "source": [
    "head(df_min2_pt_long_narm)"
   ]
  },
  {
   "cell_type": "code",
   "execution_count": 42,
   "metadata": {
    "vscode": {
     "languageId": "r"
    }
   },
   "outputs": [],
   "source": [
    "p1 <- ggplot(df_min2_pt_long_narm, aes(y = Feature, x = Quantreg)) +\n",
    "        geom_point(aes(color = cancergroup), position = position_jitter(w = 0.05, h = 0.15)) +\n",
    "        geom_boxplot(outlier.shape = NA, alpha = 0, color = \"#b7b2b2\") +\n",
    "        myaxis +\n",
    "        myplot +\n",
    "        scale_color_manual(values = group_col) +\n",
    "        theme(legend.position = \"none\", axis.title = element_blank(), axis.text.x = element_text(angle = 0, hjust = 0.5)) +\n",
    "        labs(title = \"Scaled change post-therapy\")\n"
   ]
  },
  {
   "cell_type": "code",
   "execution_count": 43,
   "metadata": {
    "vscode": {
     "languageId": "r"
    }
   },
   "outputs": [
    {
     "data": {
      "image/png": "[encoded data removed]",
      "text/plain": [
       "plot without title"
      ]
     },
     "metadata": {
      "image/png": {
       "height": 420,
       "width": 420
      }
     },
     "output_type": "display_data"
    }
   ],
   "source": [
    "p1"
   ]
  },
  {
   "cell_type": "code",
   "execution_count": 52,
   "metadata": {
    "vscode": {
     "languageId": "r"
    }
   },
   "outputs": [
    {
     "data": {
      "text/html": [
       "<strong>pdf:</strong> 2"
      ],
      "text/latex": [
       "\\textbf{pdf:} 2"
      ],
      "text/markdown": [
       "**pdf:** 2"
      ],
      "text/plain": [
       "pdf \n",
       "  2 "
      ]
     },
     "metadata": {},
     "output_type": "display_data"
    }
   ],
   "source": [
    "pdf( paste0(plotpath, \"quantreq.pdf\"), width = 6, height = 8)\n",
    "cowplot::plot_grid(p1, labels = \"B\") #+ theme(legend.position = \"bottom\")\n",
    "dev.off()"
   ]
  },
  {
   "cell_type": "code",
   "execution_count": 162,
   "metadata": {
    "vscode": {
     "languageId": "r"
    }
   },
   "outputs": [
    {
     "data": {
      "text/html": [
       "<strong>pdf:</strong> 2"
      ],
      "text/latex": [
       "\\textbf{pdf:} 2"
      ],
      "text/markdown": [
       "**pdf:** 2"
      ],
      "text/plain": [
       "pdf \n",
       "  2 "
      ]
     },
     "metadata": {},
     "output_type": "display_data"
    }
   ],
   "source": [
    "# get legends vertical at the bottom\n",
    "pdf(paste0(plotpath, \"quantreq_lgd.pdf\"), width = 3, height = 6)\n",
    "grid.draw(get_legend(p1 + theme(legend.position = \"bottom\") + guides(color = guide_legend(ncol = 2))))\n",
    "dev.off()\n"
   ]
  },
  {
   "cell_type": "markdown",
   "metadata": {},
   "source": [
    "LR and forestplot"
   ]
  },
  {
   "cell_type": "markdown",
   "metadata": {},
   "source": [
    "Use unscaled data for glm"
   ]
  },
  {
   "cell_type": "code",
   "execution_count": 41,
   "metadata": {
    "vscode": {
     "languageId": "r"
    }
   },
   "outputs": [],
   "source": [
    "mycol <- colnames(df_min2_pt)[grepl(\"quantreg\", colnames(df_min2_pt))]"
   ]
  },
  {
   "cell_type": "code",
   "execution_count": 42,
   "metadata": {
    "vscode": {
     "languageId": "r"
    }
   },
   "outputs": [],
   "source": [
    "mycol <- mycol[ !grepl(\"scaled\", mycol)]"
   ]
  },
  {
   "cell_type": "code",
   "execution_count": 43,
   "metadata": {
    "vscode": {
     "languageId": "r"
    }
   },
   "outputs": [],
   "source": [
    "# mycol <- mycol[ !grepl(\"rank\", mycol)]"
   ]
  },
  {
   "cell_type": "code",
   "execution_count": 44,
   "metadata": {
    "vscode": {
     "languageId": "r"
    }
   },
   "outputs": [
    {
     "data": {
      "text/html": [
       "<style>\n",
       ".list-inline {list-style: none; margin:0; padding: 0}\n",
       ".list-inline>li {display: inline-block}\n",
       ".list-inline>li:not(:last-child)::after {content: \"\\00b7\"; padding: 0 .5ex}\n",
       "</style>\n",
       "<ol class=list-inline><li>'quantreg_ATC'</li><li>'quantreg_N'</li><li>'quantreg_CM'</li><li>'quantreg_SCM'</li><li>'quantreg_EM'</li><li>'quantreg_TE'</li><li>'quantreg_TIM'</li><li>'quantreg_LAG'</li><li>'quantreg_PD1'</li><li>'quantreg_Shannon'</li><li>'quantreg_cfShannon'</li></ol>\n"
      ],
      "text/latex": [
       "\\begin{enumerate*}\n",
       "\\item 'quantreg\\_ATC'\n",
       "\\item 'quantreg\\_N'\n",
       "\\item 'quantreg\\_CM'\n",
       "\\item 'quantreg\\_SCM'\n",
       "\\item 'quantreg\\_EM'\n",
       "\\item 'quantreg\\_TE'\n",
       "\\item 'quantreg\\_TIM'\n",
       "\\item 'quantreg\\_LAG'\n",
       "\\item 'quantreg\\_PD1'\n",
       "\\item 'quantreg\\_Shannon'\n",
       "\\item 'quantreg\\_cfShannon'\n",
       "\\end{enumerate*}\n"
      ],
      "text/markdown": [
       "1. 'quantreg_ATC'\n",
       "2. 'quantreg_N'\n",
       "3. 'quantreg_CM'\n",
       "4. 'quantreg_SCM'\n",
       "5. 'quantreg_EM'\n",
       "6. 'quantreg_TE'\n",
       "7. 'quantreg_TIM'\n",
       "8. 'quantreg_LAG'\n",
       "9. 'quantreg_PD1'\n",
       "10. 'quantreg_Shannon'\n",
       "11. 'quantreg_cfShannon'\n",
       "\n",
       "\n"
      ],
      "text/plain": [
       " [1] \"quantreg_ATC\"       \"quantreg_N\"         \"quantreg_CM\"       \n",
       " [4] \"quantreg_SCM\"       \"quantreg_EM\"        \"quantreg_TE\"       \n",
       " [7] \"quantreg_TIM\"       \"quantreg_LAG\"       \"quantreg_PD1\"      \n",
       "[10] \"quantreg_Shannon\"   \"quantreg_cfShannon\""
      ]
     },
     "metadata": {},
     "output_type": "display_data"
    }
   ],
   "source": [
    "mycol"
   ]
  },
  {
   "cell_type": "code",
   "execution_count": 45,
   "metadata": {
    "vscode": {
     "languageId": "r"
    }
   },
   "outputs": [],
   "source": [
    "df_min2_pt_long <- tidyr::pivot_longer(df_min2_pt, all_of(mycol), names_to = \"Feature\", values_to = \"Quantreg\")"
   ]
  },
  {
   "cell_type": "code",
   "execution_count": 46,
   "metadata": {
    "vscode": {
     "languageId": "r"
    }
   },
   "outputs": [],
   "source": [
    "df_min2_pt_long <- as.data.frame(df_min2_pt_long)"
   ]
  },
  {
   "cell_type": "code",
   "execution_count": 47,
   "metadata": {
    "vscode": {
     "languageId": "r"
    }
   },
   "outputs": [],
   "source": [
    "df_min2_pt_long_narm <- df_min2_pt_long[ !is.na(df_min2_pt_long$Quantreg),]"
   ]
  },
  {
   "cell_type": "code",
   "execution_count": 48,
   "metadata": {
    "vscode": {
     "languageId": "r"
    }
   },
   "outputs": [
    {
     "data": {
      "text/html": [
       "70"
      ],
      "text/latex": [
       "70"
      ],
      "text/markdown": [
       "70"
      ],
      "text/plain": [
       "[1] 70"
      ]
     },
     "metadata": {},
     "output_type": "display_data"
    }
   ],
   "source": [
    "length(unique(df_min2_pt_long_narm$Patient) )"
   ]
  },
  {
   "cell_type": "code",
   "execution_count": 49,
   "metadata": {
    "vscode": {
     "languageId": "r"
    }
   },
   "outputs": [],
   "source": [
    "feat_lr_mat <- matrix(nrow = length(unique(df_min2_pt_long_narm$Feature)), ncol = 7)\n",
    "rownames(feat_lr_mat) <- unique(df_min2_pt_long_narm$Feature)\n",
    "colnames(feat_lr_mat) <- c(\"coef\", \"exp(coef)\", \"SE\", \"z\", \"Pr(>|z|)\", \"lower.95\", \"upper.95\")\n"
   ]
  },
  {
   "cell_type": "code",
   "execution_count": 50,
   "metadata": {
    "vscode": {
     "languageId": "r"
    }
   },
   "outputs": [
    {
     "data": {
      "text/html": [
       "<table class=\"dataframe\">\n",
       "<caption>A matrix: 11 x 7 of type lgl</caption>\n",
       "<thead>\n",
       "\t<tr><th></th><th scope=col>coef</th><th scope=col>exp(coef)</th><th scope=col>SE</th><th scope=col>z</th><th scope=col>Pr(&gt;|z|)</th><th scope=col>lower.95</th><th scope=col>upper.95</th></tr>\n",
       "</thead>\n",
       "<tbody>\n",
       "\t<tr><th scope=row>quantreg_Shannon</th><td>NA</td><td>NA</td><td>NA</td><td>NA</td><td>NA</td><td>NA</td><td>NA</td></tr>\n",
       "\t<tr><th scope=row>quantreg_cfShannon</th><td>NA</td><td>NA</td><td>NA</td><td>NA</td><td>NA</td><td>NA</td><td>NA</td></tr>\n",
       "\t<tr><th scope=row>quantreg_ATC</th><td>NA</td><td>NA</td><td>NA</td><td>NA</td><td>NA</td><td>NA</td><td>NA</td></tr>\n",
       "\t<tr><th scope=row>quantreg_N</th><td>NA</td><td>NA</td><td>NA</td><td>NA</td><td>NA</td><td>NA</td><td>NA</td></tr>\n",
       "\t<tr><th scope=row>quantreg_CM</th><td>NA</td><td>NA</td><td>NA</td><td>NA</td><td>NA</td><td>NA</td><td>NA</td></tr>\n",
       "\t<tr><th scope=row>quantreg_SCM</th><td>NA</td><td>NA</td><td>NA</td><td>NA</td><td>NA</td><td>NA</td><td>NA</td></tr>\n",
       "\t<tr><th scope=row>quantreg_EM</th><td>NA</td><td>NA</td><td>NA</td><td>NA</td><td>NA</td><td>NA</td><td>NA</td></tr>\n",
       "\t<tr><th scope=row>quantreg_TE</th><td>NA</td><td>NA</td><td>NA</td><td>NA</td><td>NA</td><td>NA</td><td>NA</td></tr>\n",
       "\t<tr><th scope=row>quantreg_TIM</th><td>NA</td><td>NA</td><td>NA</td><td>NA</td><td>NA</td><td>NA</td><td>NA</td></tr>\n",
       "\t<tr><th scope=row>quantreg_LAG</th><td>NA</td><td>NA</td><td>NA</td><td>NA</td><td>NA</td><td>NA</td><td>NA</td></tr>\n",
       "\t<tr><th scope=row>quantreg_PD1</th><td>NA</td><td>NA</td><td>NA</td><td>NA</td><td>NA</td><td>NA</td><td>NA</td></tr>\n",
       "</tbody>\n",
       "</table>\n"
      ],
      "text/latex": [
       "A matrix: 11 x 7 of type lgl\n",
       "\\begin{tabular}{r|lllllll}\n",
       "  & coef & exp(coef) & SE & z & Pr(>\\textbar{}z\\textbar{}) & lower.95 & upper.95\\\\\n",
       "\\hline\n",
       "\tquantreg\\_Shannon & NA & NA & NA & NA & NA & NA & NA\\\\\n",
       "\tquantreg\\_cfShannon & NA & NA & NA & NA & NA & NA & NA\\\\\n",
       "\tquantreg\\_ATC & NA & NA & NA & NA & NA & NA & NA\\\\\n",
       "\tquantreg\\_N & NA & NA & NA & NA & NA & NA & NA\\\\\n",
       "\tquantreg\\_CM & NA & NA & NA & NA & NA & NA & NA\\\\\n",
       "\tquantreg\\_SCM & NA & NA & NA & NA & NA & NA & NA\\\\\n",
       "\tquantreg\\_EM & NA & NA & NA & NA & NA & NA & NA\\\\\n",
       "\tquantreg\\_TE & NA & NA & NA & NA & NA & NA & NA\\\\\n",
       "\tquantreg\\_TIM & NA & NA & NA & NA & NA & NA & NA\\\\\n",
       "\tquantreg\\_LAG & NA & NA & NA & NA & NA & NA & NA\\\\\n",
       "\tquantreg\\_PD1 & NA & NA & NA & NA & NA & NA & NA\\\\\n",
       "\\end{tabular}\n"
      ],
      "text/markdown": [
       "\n",
       "A matrix: 11 x 7 of type lgl\n",
       "\n",
       "| <!--/--> | coef | exp(coef) | SE | z | Pr(&gt;|z|) | lower.95 | upper.95 |\n",
       "|---|---|---|---|---|---|---|---|\n",
       "| quantreg_Shannon | NA | NA | NA | NA | NA | NA | NA |\n",
       "| quantreg_cfShannon | NA | NA | NA | NA | NA | NA | NA |\n",
       "| quantreg_ATC | NA | NA | NA | NA | NA | NA | NA |\n",
       "| quantreg_N | NA | NA | NA | NA | NA | NA | NA |\n",
       "| quantreg_CM | NA | NA | NA | NA | NA | NA | NA |\n",
       "| quantreg_SCM | NA | NA | NA | NA | NA | NA | NA |\n",
       "| quantreg_EM | NA | NA | NA | NA | NA | NA | NA |\n",
       "| quantreg_TE | NA | NA | NA | NA | NA | NA | NA |\n",
       "| quantreg_TIM | NA | NA | NA | NA | NA | NA | NA |\n",
       "| quantreg_LAG | NA | NA | NA | NA | NA | NA | NA |\n",
       "| quantreg_PD1 | NA | NA | NA | NA | NA | NA | NA |\n",
       "\n"
      ],
      "text/plain": [
       "                   coef exp(coef) SE z  Pr(>|z|) lower.95 upper.95\n",
       "quantreg_Shannon   NA   NA        NA NA NA       NA       NA      \n",
       "quantreg_cfShannon NA   NA        NA NA NA       NA       NA      \n",
       "quantreg_ATC       NA   NA        NA NA NA       NA       NA      \n",
       "quantreg_N         NA   NA        NA NA NA       NA       NA      \n",
       "quantreg_CM        NA   NA        NA NA NA       NA       NA      \n",
       "quantreg_SCM       NA   NA        NA NA NA       NA       NA      \n",
       "quantreg_EM        NA   NA        NA NA NA       NA       NA      \n",
       "quantreg_TE        NA   NA        NA NA NA       NA       NA      \n",
       "quantreg_TIM       NA   NA        NA NA NA       NA       NA      \n",
       "quantreg_LAG       NA   NA        NA NA NA       NA       NA      \n",
       "quantreg_PD1       NA   NA        NA NA NA       NA       NA      "
      ]
     },
     "metadata": {},
     "output_type": "display_data"
    }
   ],
   "source": [
    "feat_lr_mat"
   ]
  },
  {
   "cell_type": "code",
   "execution_count": 51,
   "metadata": {
    "vscode": {
     "languageId": "r"
    }
   },
   "outputs": [],
   "source": [
    "for (i in rownames(feat_lr_mat)) {\n",
    "    # message(i)\n",
    "    f <- as.formula(paste0(\"Relapse~\", i, \"\")) # lets just do univariate\n",
    "    lrmodel <- glm(f, data = df_min2_pt, family = \"binomial\")\n",
    "    sumlrmodel <- summary(lrmodel)\n",
    "    # print(sumlrmodel)\n",
    "    myCI <- exp(confint.default(lrmodel, level = 0.95))\n",
    "\n",
    "    feat_lr_mat[i, \"coef\"] <- sumlrmodel$coefficients[2, \"Estimate\"]\n",
    "    # exp of estimate is the odds ratio\n",
    "    feat_lr_mat[i, \"exp(coef)\"] <- exp(sumlrmodel$coefficients[2, \"Estimate\"])\n",
    "    feat_lr_mat[i, \"SE\"] <- sumlrmodel$coefficients[2, \"Std. Error\"]\n",
    "    feat_lr_mat[i, \"z\"] <- sumlrmodel$coefficients[2, \"z value\"]\n",
    "    feat_lr_mat[i, \"Pr(>|z|)\"] <- sumlrmodel$coefficients[2, \"Pr(>|z|)\"]\n",
    "    # from myCI\n",
    "    feat_lr_mat[i, \"lower.95\"] <- myCI[2, 1]\n",
    "    feat_lr_mat[i, \"upper.95\"] <- myCI[2, 2]\n",
    "}\n"
   ]
  },
  {
   "cell_type": "code",
   "execution_count": 52,
   "metadata": {
    "vscode": {
     "languageId": "r"
    }
   },
   "outputs": [
    {
     "data": {
      "text/html": [
       "<table class=\"dataframe\">\n",
       "<caption>A matrix: 11 x 7 of type dbl</caption>\n",
       "<thead>\n",
       "\t<tr><th></th><th scope=col>coef</th><th scope=col>exp(coef)</th><th scope=col>SE</th><th scope=col>z</th><th scope=col>Pr(&gt;|z|)</th><th scope=col>lower.95</th><th scope=col>upper.95</th></tr>\n",
       "</thead>\n",
       "<tbody>\n",
       "\t<tr><th scope=row>quantreg_Shannon</th><td> 0.001745285</td><td>1.001747</td><td>0.005932122</td><td> 0.29420928</td><td>0.7685980</td><td>0.9901672</td><td>1.013462</td></tr>\n",
       "\t<tr><th scope=row>quantreg_cfShannon</th><td> 0.006004481</td><td>1.006023</td><td>0.230550316</td><td> 0.02604412</td><td>0.9792221</td><td>0.6402697</td><td>1.580711</td></tr>\n",
       "\t<tr><th scope=row>quantreg_ATC</th><td> 0.002131647</td><td>1.002134</td><td>0.004413207</td><td> 0.48301533</td><td>0.6290848</td><td>0.9935031</td><td>1.010840</td></tr>\n",
       "\t<tr><th scope=row>quantreg_N</th><td> 0.038714288</td><td>1.039473</td><td>0.088620848</td><td> 0.43685305</td><td>0.6622179</td><td>0.8737339</td><td>1.236652</td></tr>\n",
       "\t<tr><th scope=row>quantreg_CM</th><td> 0.047801643</td><td>1.048963</td><td>0.046874775</td><td> 1.01977327</td><td>0.3078360</td><td>0.9568858</td><td>1.149899</td></tr>\n",
       "\t<tr><th scope=row>quantreg_SCM</th><td>-0.066310805</td><td>0.935840</td><td>0.155512605</td><td>-0.42640148</td><td>0.6698153</td><td>0.6899681</td><td>1.269329</td></tr>\n",
       "\t<tr><th scope=row>quantreg_EM</th><td> 0.241928266</td><td>1.273703</td><td>0.205458417</td><td> 1.17750477</td><td>0.2389941</td><td>0.8514940</td><td>1.905262</td></tr>\n",
       "\t<tr><th scope=row>quantreg_TE</th><td>-0.086344653</td><td>0.917278</td><td>0.064401863</td><td>-1.34071669</td><td>0.1800125</td><td>0.8085037</td><td>1.040687</td></tr>\n",
       "\t<tr><th scope=row>quantreg_TIM</th><td> 0.018015860</td><td>1.018179</td><td>0.117957761</td><td> 0.15273145</td><td>0.8786101</td><td>0.8080130</td><td>1.283010</td></tr>\n",
       "\t<tr><th scope=row>quantreg_LAG</th><td> 0.698944342</td><td>2.011628</td><td>0.434343539</td><td> 1.60919705</td><td>0.1075733</td><td>0.8586848</td><td>4.712611</td></tr>\n",
       "\t<tr><th scope=row>quantreg_PD1</th><td> 0.018015860</td><td>1.018179</td><td>0.117957761</td><td> 0.15273145</td><td>0.8786101</td><td>0.8080130</td><td>1.283010</td></tr>\n",
       "</tbody>\n",
       "</table>\n"
      ],
      "text/latex": [
       "A matrix: 11 x 7 of type dbl\n",
       "\\begin{tabular}{r|lllllll}\n",
       "  & coef & exp(coef) & SE & z & Pr(>\\textbar{}z\\textbar{}) & lower.95 & upper.95\\\\\n",
       "\\hline\n",
       "\tquantreg\\_Shannon &  0.001745285 & 1.001747 & 0.005932122 &  0.29420928 & 0.7685980 & 0.9901672 & 1.013462\\\\\n",
       "\tquantreg\\_cfShannon &  0.006004481 & 1.006023 & 0.230550316 &  0.02604412 & 0.9792221 & 0.6402697 & 1.580711\\\\\n",
       "\tquantreg\\_ATC &  0.002131647 & 1.002134 & 0.004413207 &  0.48301533 & 0.6290848 & 0.9935031 & 1.010840\\\\\n",
       "\tquantreg\\_N &  0.038714288 & 1.039473 & 0.088620848 &  0.43685305 & 0.6622179 & 0.8737339 & 1.236652\\\\\n",
       "\tquantreg\\_CM &  0.047801643 & 1.048963 & 0.046874775 &  1.01977327 & 0.3078360 & 0.9568858 & 1.149899\\\\\n",
       "\tquantreg\\_SCM & -0.066310805 & 0.935840 & 0.155512605 & -0.42640148 & 0.6698153 & 0.6899681 & 1.269329\\\\\n",
       "\tquantreg\\_EM &  0.241928266 & 1.273703 & 0.205458417 &  1.17750477 & 0.2389941 & 0.8514940 & 1.905262\\\\\n",
       "\tquantreg\\_TE & -0.086344653 & 0.917278 & 0.064401863 & -1.34071669 & 0.1800125 & 0.8085037 & 1.040687\\\\\n",
       "\tquantreg\\_TIM &  0.018015860 & 1.018179 & 0.117957761 &  0.15273145 & 0.8786101 & 0.8080130 & 1.283010\\\\\n",
       "\tquantreg\\_LAG &  0.698944342 & 2.011628 & 0.434343539 &  1.60919705 & 0.1075733 & 0.8586848 & 4.712611\\\\\n",
       "\tquantreg\\_PD1 &  0.018015860 & 1.018179 & 0.117957761 &  0.15273145 & 0.8786101 & 0.8080130 & 1.283010\\\\\n",
       "\\end{tabular}\n"
      ],
      "text/markdown": [
       "\n",
       "A matrix: 11 x 7 of type dbl\n",
       "\n",
       "| <!--/--> | coef | exp(coef) | SE | z | Pr(&gt;|z|) | lower.95 | upper.95 |\n",
       "|---|---|---|---|---|---|---|---|\n",
       "| quantreg_Shannon |  0.001745285 | 1.001747 | 0.005932122 |  0.29420928 | 0.7685980 | 0.9901672 | 1.013462 |\n",
       "| quantreg_cfShannon |  0.006004481 | 1.006023 | 0.230550316 |  0.02604412 | 0.9792221 | 0.6402697 | 1.580711 |\n",
       "| quantreg_ATC |  0.002131647 | 1.002134 | 0.004413207 |  0.48301533 | 0.6290848 | 0.9935031 | 1.010840 |\n",
       "| quantreg_N |  0.038714288 | 1.039473 | 0.088620848 |  0.43685305 | 0.6622179 | 0.8737339 | 1.236652 |\n",
       "| quantreg_CM |  0.047801643 | 1.048963 | 0.046874775 |  1.01977327 | 0.3078360 | 0.9568858 | 1.149899 |\n",
       "| quantreg_SCM | -0.066310805 | 0.935840 | 0.155512605 | -0.42640148 | 0.6698153 | 0.6899681 | 1.269329 |\n",
       "| quantreg_EM |  0.241928266 | 1.273703 | 0.205458417 |  1.17750477 | 0.2389941 | 0.8514940 | 1.905262 |\n",
       "| quantreg_TE | -0.086344653 | 0.917278 | 0.064401863 | -1.34071669 | 0.1800125 | 0.8085037 | 1.040687 |\n",
       "| quantreg_TIM |  0.018015860 | 1.018179 | 0.117957761 |  0.15273145 | 0.8786101 | 0.8080130 | 1.283010 |\n",
       "| quantreg_LAG |  0.698944342 | 2.011628 | 0.434343539 |  1.60919705 | 0.1075733 | 0.8586848 | 4.712611 |\n",
       "| quantreg_PD1 |  0.018015860 | 1.018179 | 0.117957761 |  0.15273145 | 0.8786101 | 0.8080130 | 1.283010 |\n",
       "\n"
      ],
      "text/plain": [
       "                   coef         exp(coef) SE          z           Pr(>|z|) \n",
       "quantreg_Shannon    0.001745285 1.001747  0.005932122  0.29420928 0.7685980\n",
       "quantreg_cfShannon  0.006004481 1.006023  0.230550316  0.02604412 0.9792221\n",
       "quantreg_ATC        0.002131647 1.002134  0.004413207  0.48301533 0.6290848\n",
       "quantreg_N          0.038714288 1.039473  0.088620848  0.43685305 0.6622179\n",
       "quantreg_CM         0.047801643 1.048963  0.046874775  1.01977327 0.3078360\n",
       "quantreg_SCM       -0.066310805 0.935840  0.155512605 -0.42640148 0.6698153\n",
       "quantreg_EM         0.241928266 1.273703  0.205458417  1.17750477 0.2389941\n",
       "quantreg_TE        -0.086344653 0.917278  0.064401863 -1.34071669 0.1800125\n",
       "quantreg_TIM        0.018015860 1.018179  0.117957761  0.15273145 0.8786101\n",
       "quantreg_LAG        0.698944342 2.011628  0.434343539  1.60919705 0.1075733\n",
       "quantreg_PD1        0.018015860 1.018179  0.117957761  0.15273145 0.8786101\n",
       "                   lower.95  upper.95\n",
       "quantreg_Shannon   0.9901672 1.013462\n",
       "quantreg_cfShannon 0.6402697 1.580711\n",
       "quantreg_ATC       0.9935031 1.010840\n",
       "quantreg_N         0.8737339 1.236652\n",
       "quantreg_CM        0.9568858 1.149899\n",
       "quantreg_SCM       0.6899681 1.269329\n",
       "quantreg_EM        0.8514940 1.905262\n",
       "quantreg_TE        0.8085037 1.040687\n",
       "quantreg_TIM       0.8080130 1.283010\n",
       "quantreg_LAG       0.8586848 4.712611\n",
       "quantreg_PD1       0.8080130 1.283010"
      ]
     },
     "metadata": {},
     "output_type": "display_data"
    }
   ],
   "source": [
    "feat_lr_mat"
   ]
  },
  {
   "cell_type": "code",
   "execution_count": 53,
   "metadata": {
    "vscode": {
     "languageId": "r"
    }
   },
   "outputs": [],
   "source": [
    "fdr_df <- as.matrix(p.adjust(feat_lr_mat[,5], method = \"fdr\"))\n",
    "colnames(fdr_df)[1] <- \"fdr\"\n",
    "feat_lr_mat <- cbind(feat_lr_mat, fdr_df)"
   ]
  },
  {
   "cell_type": "code",
   "execution_count": 54,
   "metadata": {
    "vscode": {
     "languageId": "r"
    }
   },
   "outputs": [],
   "source": [
    "feat_lr_mat <- as.data.frame(feat_lr_mat)"
   ]
  },
  {
   "cell_type": "code",
   "execution_count": 55,
   "metadata": {
    "vscode": {
     "languageId": "r"
    }
   },
   "outputs": [],
   "source": [
    "feat_lr_mat$Feature <- gsub(\"quantreg_\", \"\", rownames(feat_lr_mat))\n",
    "# feat_lr_mat$Feature <- gsub(\"_rank\", \"\", feat_lr_mat$Feature)"
   ]
  },
  {
   "cell_type": "code",
   "execution_count": 56,
   "metadata": {
    "vscode": {
     "languageId": "r"
    }
   },
   "outputs": [
    {
     "data": {
      "text/html": [
       "<table class=\"dataframe\">\n",
       "<caption>A data.frame: 11 x 9</caption>\n",
       "<thead>\n",
       "\t<tr><th></th><th scope=col>coef</th><th scope=col>exp(coef)</th><th scope=col>SE</th><th scope=col>z</th><th scope=col>Pr(&gt;|z|)</th><th scope=col>lower.95</th><th scope=col>upper.95</th><th scope=col>fdr</th><th scope=col>Feature</th></tr>\n",
       "\t<tr><th></th><th scope=col>&lt;dbl&gt;</th><th scope=col>&lt;dbl&gt;</th><th scope=col>&lt;dbl&gt;</th><th scope=col>&lt;dbl&gt;</th><th scope=col>&lt;dbl&gt;</th><th scope=col>&lt;dbl&gt;</th><th scope=col>&lt;dbl&gt;</th><th scope=col>&lt;dbl&gt;</th><th scope=col>&lt;chr&gt;</th></tr>\n",
       "</thead>\n",
       "<tbody>\n",
       "\t<tr><th scope=row>quantreg_Shannon</th><td> 0.001745285</td><td>1.001747</td><td>0.005932122</td><td> 0.29420928</td><td>0.7685980</td><td>0.9901672</td><td>1.013462</td><td>0.9664711</td><td>Shannon  </td></tr>\n",
       "\t<tr><th scope=row>quantreg_cfShannon</th><td> 0.006004481</td><td>1.006023</td><td>0.230550316</td><td> 0.02604412</td><td>0.9792221</td><td>0.6402697</td><td>1.580711</td><td>0.9792221</td><td>cfShannon</td></tr>\n",
       "\t<tr><th scope=row>quantreg_ATC</th><td> 0.002131647</td><td>1.002134</td><td>0.004413207</td><td> 0.48301533</td><td>0.6290848</td><td>0.9935031</td><td>1.010840</td><td>0.9664711</td><td>ATC      </td></tr>\n",
       "\t<tr><th scope=row>quantreg_N</th><td> 0.038714288</td><td>1.039473</td><td>0.088620848</td><td> 0.43685305</td><td>0.6622179</td><td>0.8737339</td><td>1.236652</td><td>0.9664711</td><td>N        </td></tr>\n",
       "\t<tr><th scope=row>quantreg_CM</th><td> 0.047801643</td><td>1.048963</td><td>0.046874775</td><td> 1.01977327</td><td>0.3078360</td><td>0.9568858</td><td>1.149899</td><td>0.8465490</td><td>CM       </td></tr>\n",
       "\t<tr><th scope=row>quantreg_SCM</th><td>-0.066310805</td><td>0.935840</td><td>0.155512605</td><td>-0.42640148</td><td>0.6698153</td><td>0.6899681</td><td>1.269329</td><td>0.9664711</td><td>SCM      </td></tr>\n",
       "\t<tr><th scope=row>quantreg_EM</th><td> 0.241928266</td><td>1.273703</td><td>0.205458417</td><td> 1.17750477</td><td>0.2389941</td><td>0.8514940</td><td>1.905262</td><td>0.8465490</td><td>EM       </td></tr>\n",
       "\t<tr><th scope=row>quantreg_TE</th><td>-0.086344653</td><td>0.917278</td><td>0.064401863</td><td>-1.34071669</td><td>0.1800125</td><td>0.8085037</td><td>1.040687</td><td>0.8465490</td><td>TE       </td></tr>\n",
       "\t<tr><th scope=row>quantreg_TIM</th><td> 0.018015860</td><td>1.018179</td><td>0.117957761</td><td> 0.15273145</td><td>0.8786101</td><td>0.8080130</td><td>1.283010</td><td>0.9664711</td><td>TIM      </td></tr>\n",
       "\t<tr><th scope=row>quantreg_LAG</th><td> 0.698944342</td><td>2.011628</td><td>0.434343539</td><td> 1.60919705</td><td>0.1075733</td><td>0.8586848</td><td>4.712611</td><td>0.8465490</td><td>LAG      </td></tr>\n",
       "\t<tr><th scope=row>quantreg_PD1</th><td> 0.018015860</td><td>1.018179</td><td>0.117957761</td><td> 0.15273145</td><td>0.8786101</td><td>0.8080130</td><td>1.283010</td><td>0.9664711</td><td>PD1      </td></tr>\n",
       "</tbody>\n",
       "</table>\n"
      ],
      "text/latex": [
       "A data.frame: 11 x 9\n",
       "\\begin{tabular}{r|lllllllll}\n",
       "  & coef & exp(coef) & SE & z & Pr(>\\textbar{}z\\textbar{}) & lower.95 & upper.95 & fdr & Feature\\\\\n",
       "  & <dbl> & <dbl> & <dbl> & <dbl> & <dbl> & <dbl> & <dbl> & <dbl> & <chr>\\\\\n",
       "\\hline\n",
       "\tquantreg\\_Shannon &  0.001745285 & 1.001747 & 0.005932122 &  0.29420928 & 0.7685980 & 0.9901672 & 1.013462 & 0.9664711 & Shannon  \\\\\n",
       "\tquantreg\\_cfShannon &  0.006004481 & 1.006023 & 0.230550316 &  0.02604412 & 0.9792221 & 0.6402697 & 1.580711 & 0.9792221 & cfShannon\\\\\n",
       "\tquantreg\\_ATC &  0.002131647 & 1.002134 & 0.004413207 &  0.48301533 & 0.6290848 & 0.9935031 & 1.010840 & 0.9664711 & ATC      \\\\\n",
       "\tquantreg\\_N &  0.038714288 & 1.039473 & 0.088620848 &  0.43685305 & 0.6622179 & 0.8737339 & 1.236652 & 0.9664711 & N        \\\\\n",
       "\tquantreg\\_CM &  0.047801643 & 1.048963 & 0.046874775 &  1.01977327 & 0.3078360 & 0.9568858 & 1.149899 & 0.8465490 & CM       \\\\\n",
       "\tquantreg\\_SCM & -0.066310805 & 0.935840 & 0.155512605 & -0.42640148 & 0.6698153 & 0.6899681 & 1.269329 & 0.9664711 & SCM      \\\\\n",
       "\tquantreg\\_EM &  0.241928266 & 1.273703 & 0.205458417 &  1.17750477 & 0.2389941 & 0.8514940 & 1.905262 & 0.8465490 & EM       \\\\\n",
       "\tquantreg\\_TE & -0.086344653 & 0.917278 & 0.064401863 & -1.34071669 & 0.1800125 & 0.8085037 & 1.040687 & 0.8465490 & TE       \\\\\n",
       "\tquantreg\\_TIM &  0.018015860 & 1.018179 & 0.117957761 &  0.15273145 & 0.8786101 & 0.8080130 & 1.283010 & 0.9664711 & TIM      \\\\\n",
       "\tquantreg\\_LAG &  0.698944342 & 2.011628 & 0.434343539 &  1.60919705 & 0.1075733 & 0.8586848 & 4.712611 & 0.8465490 & LAG      \\\\\n",
       "\tquantreg\\_PD1 &  0.018015860 & 1.018179 & 0.117957761 &  0.15273145 & 0.8786101 & 0.8080130 & 1.283010 & 0.9664711 & PD1      \\\\\n",
       "\\end{tabular}\n"
      ],
      "text/markdown": [
       "\n",
       "A data.frame: 11 x 9\n",
       "\n",
       "| <!--/--> | coef &lt;dbl&gt; | exp(coef) &lt;dbl&gt; | SE &lt;dbl&gt; | z &lt;dbl&gt; | Pr(&gt;|z|) &lt;dbl&gt; | lower.95 &lt;dbl&gt; | upper.95 &lt;dbl&gt; | fdr &lt;dbl&gt; | Feature &lt;chr&gt; |\n",
       "|---|---|---|---|---|---|---|---|---|---|\n",
       "| quantreg_Shannon |  0.001745285 | 1.001747 | 0.005932122 |  0.29420928 | 0.7685980 | 0.9901672 | 1.013462 | 0.9664711 | Shannon   |\n",
       "| quantreg_cfShannon |  0.006004481 | 1.006023 | 0.230550316 |  0.02604412 | 0.9792221 | 0.6402697 | 1.580711 | 0.9792221 | cfShannon |\n",
       "| quantreg_ATC |  0.002131647 | 1.002134 | 0.004413207 |  0.48301533 | 0.6290848 | 0.9935031 | 1.010840 | 0.9664711 | ATC       |\n",
       "| quantreg_N |  0.038714288 | 1.039473 | 0.088620848 |  0.43685305 | 0.6622179 | 0.8737339 | 1.236652 | 0.9664711 | N         |\n",
       "| quantreg_CM |  0.047801643 | 1.048963 | 0.046874775 |  1.01977327 | 0.3078360 | 0.9568858 | 1.149899 | 0.8465490 | CM        |\n",
       "| quantreg_SCM | -0.066310805 | 0.935840 | 0.155512605 | -0.42640148 | 0.6698153 | 0.6899681 | 1.269329 | 0.9664711 | SCM       |\n",
       "| quantreg_EM |  0.241928266 | 1.273703 | 0.205458417 |  1.17750477 | 0.2389941 | 0.8514940 | 1.905262 | 0.8465490 | EM        |\n",
       "| quantreg_TE | -0.086344653 | 0.917278 | 0.064401863 | -1.34071669 | 0.1800125 | 0.8085037 | 1.040687 | 0.8465490 | TE        |\n",
       "| quantreg_TIM |  0.018015860 | 1.018179 | 0.117957761 |  0.15273145 | 0.8786101 | 0.8080130 | 1.283010 | 0.9664711 | TIM       |\n",
       "| quantreg_LAG |  0.698944342 | 2.011628 | 0.434343539 |  1.60919705 | 0.1075733 | 0.8586848 | 4.712611 | 0.8465490 | LAG       |\n",
       "| quantreg_PD1 |  0.018015860 | 1.018179 | 0.117957761 |  0.15273145 | 0.8786101 | 0.8080130 | 1.283010 | 0.9664711 | PD1       |\n",
       "\n"
      ],
      "text/plain": [
       "                   coef         exp(coef) SE          z           Pr(>|z|) \n",
       "quantreg_Shannon    0.001745285 1.001747  0.005932122  0.29420928 0.7685980\n",
       "quantreg_cfShannon  0.006004481 1.006023  0.230550316  0.02604412 0.9792221\n",
       "quantreg_ATC        0.002131647 1.002134  0.004413207  0.48301533 0.6290848\n",
       "quantreg_N          0.038714288 1.039473  0.088620848  0.43685305 0.6622179\n",
       "quantreg_CM         0.047801643 1.048963  0.046874775  1.01977327 0.3078360\n",
       "quantreg_SCM       -0.066310805 0.935840  0.155512605 -0.42640148 0.6698153\n",
       "quantreg_EM         0.241928266 1.273703  0.205458417  1.17750477 0.2389941\n",
       "quantreg_TE        -0.086344653 0.917278  0.064401863 -1.34071669 0.1800125\n",
       "quantreg_TIM        0.018015860 1.018179  0.117957761  0.15273145 0.8786101\n",
       "quantreg_LAG        0.698944342 2.011628  0.434343539  1.60919705 0.1075733\n",
       "quantreg_PD1        0.018015860 1.018179  0.117957761  0.15273145 0.8786101\n",
       "                   lower.95  upper.95 fdr       Feature  \n",
       "quantreg_Shannon   0.9901672 1.013462 0.9664711 Shannon  \n",
       "quantreg_cfShannon 0.6402697 1.580711 0.9792221 cfShannon\n",
       "quantreg_ATC       0.9935031 1.010840 0.9664711 ATC      \n",
       "quantreg_N         0.8737339 1.236652 0.9664711 N        \n",
       "quantreg_CM        0.9568858 1.149899 0.8465490 CM       \n",
       "quantreg_SCM       0.6899681 1.269329 0.9664711 SCM      \n",
       "quantreg_EM        0.8514940 1.905262 0.8465490 EM       \n",
       "quantreg_TE        0.8085037 1.040687 0.8465490 TE       \n",
       "quantreg_TIM       0.8080130 1.283010 0.9664711 TIM      \n",
       "quantreg_LAG       0.8586848 4.712611 0.8465490 LAG      \n",
       "quantreg_PD1       0.8080130 1.283010 0.9664711 PD1      "
      ]
     },
     "metadata": {},
     "output_type": "display_data"
    }
   ],
   "source": [
    "(feat_lr_mat)"
   ]
  },
  {
   "cell_type": "code",
   "execution_count": 57,
   "metadata": {
    "vscode": {
     "languageId": "r"
    }
   },
   "outputs": [],
   "source": [
    "feat_lr_mat$Feature[ feat_lr_mat$Feature == \"N\"] <- \"Naïve%\"\n",
    "feat_lr_mat$Feature[ feat_lr_mat$Feature == \"SCM\"] <- \"SCM%\"\n",
    "feat_lr_mat$Feature[ feat_lr_mat$Feature == \"CM\"] <- \"CM%\"\n",
    "feat_lr_mat$Feature[ feat_lr_mat$Feature == \"EM\"] <- \"EM%\"\n",
    "feat_lr_mat$Feature[ feat_lr_mat$Feature == \"TE\"] <- \"TE%\"\n",
    "feat_lr_mat$Feature[ feat_lr_mat$Feature == \"PD1\"] <- \"PD1%\"\n",
    "feat_lr_mat$Feature[ feat_lr_mat$Feature == \"LAG\"] <- \"LAG3%\"\n",
    "feat_lr_mat$Feature[ feat_lr_mat$Feature == \"TIM\"] <- \"TIM3%\"\n",
    "feat_lr_mat$Feature[ feat_lr_mat$Feature == \"Shannon\"] <- \"TCR Shannon\"\n",
    "feat_lr_mat$Feature[ feat_lr_mat$Feature == \"cfShannon\"] <- \"cfTCR Shannon\""
   ]
  },
  {
   "cell_type": "markdown",
   "metadata": {},
   "source": [
    "#### Table S3"
   ]
  },
  {
   "cell_type": "code",
   "execution_count": 58,
   "metadata": {
    "vscode": {
     "languageId": "r"
    }
   },
   "outputs": [],
   "source": [
    "s3 <- feat_lr_mat\n",
    "rownames(s3) <- s3$Feature\n",
    "s3$Feature <- NULL"
   ]
  },
  {
   "cell_type": "code",
   "execution_count": 59,
   "metadata": {
    "vscode": {
     "languageId": "r"
    }
   },
   "outputs": [
    {
     "data": {
      "text/html": [
       "<table class=\"dataframe\">\n",
       "<caption>A data.frame: 11 x 8</caption>\n",
       "<thead>\n",
       "\t<tr><th></th><th scope=col>coef</th><th scope=col>exp(coef)</th><th scope=col>SE</th><th scope=col>z</th><th scope=col>Pr(&gt;|z|)</th><th scope=col>lower.95</th><th scope=col>upper.95</th><th scope=col>fdr</th></tr>\n",
       "\t<tr><th></th><th scope=col>&lt;dbl&gt;</th><th scope=col>&lt;dbl&gt;</th><th scope=col>&lt;dbl&gt;</th><th scope=col>&lt;dbl&gt;</th><th scope=col>&lt;dbl&gt;</th><th scope=col>&lt;dbl&gt;</th><th scope=col>&lt;dbl&gt;</th><th scope=col>&lt;dbl&gt;</th></tr>\n",
       "</thead>\n",
       "<tbody>\n",
       "\t<tr><th scope=row>TCR Shannon</th><td> 0.001745285</td><td>1.001747</td><td>0.005932122</td><td> 0.29420928</td><td>0.7685980</td><td>0.9901672</td><td>1.013462</td><td>0.9664711</td></tr>\n",
       "\t<tr><th scope=row>cfTCR Shannon</th><td> 0.006004481</td><td>1.006023</td><td>0.230550316</td><td> 0.02604412</td><td>0.9792221</td><td>0.6402697</td><td>1.580711</td><td>0.9792221</td></tr>\n",
       "\t<tr><th scope=row>ATC</th><td> 0.002131647</td><td>1.002134</td><td>0.004413207</td><td> 0.48301533</td><td>0.6290848</td><td>0.9935031</td><td>1.010840</td><td>0.9664711</td></tr>\n",
       "\t<tr><th scope=row>Naïve%</th><td> 0.038714288</td><td>1.039473</td><td>0.088620848</td><td> 0.43685305</td><td>0.6622179</td><td>0.8737339</td><td>1.236652</td><td>0.9664711</td></tr>\n",
       "\t<tr><th scope=row>CM%</th><td> 0.047801643</td><td>1.048963</td><td>0.046874775</td><td> 1.01977327</td><td>0.3078360</td><td>0.9568858</td><td>1.149899</td><td>0.8465490</td></tr>\n",
       "\t<tr><th scope=row>SCM%</th><td>-0.066310805</td><td>0.935840</td><td>0.155512605</td><td>-0.42640148</td><td>0.6698153</td><td>0.6899681</td><td>1.269329</td><td>0.9664711</td></tr>\n",
       "\t<tr><th scope=row>EM%</th><td> 0.241928266</td><td>1.273703</td><td>0.205458417</td><td> 1.17750477</td><td>0.2389941</td><td>0.8514940</td><td>1.905262</td><td>0.8465490</td></tr>\n",
       "\t<tr><th scope=row>TE%</th><td>-0.086344653</td><td>0.917278</td><td>0.064401863</td><td>-1.34071669</td><td>0.1800125</td><td>0.8085037</td><td>1.040687</td><td>0.8465490</td></tr>\n",
       "\t<tr><th scope=row>TIM3%</th><td> 0.018015860</td><td>1.018179</td><td>0.117957761</td><td> 0.15273145</td><td>0.8786101</td><td>0.8080130</td><td>1.283010</td><td>0.9664711</td></tr>\n",
       "\t<tr><th scope=row>LAG3%</th><td> 0.698944342</td><td>2.011628</td><td>0.434343539</td><td> 1.60919705</td><td>0.1075733</td><td>0.8586848</td><td>4.712611</td><td>0.8465490</td></tr>\n",
       "\t<tr><th scope=row>PD1%</th><td> 0.018015860</td><td>1.018179</td><td>0.117957761</td><td> 0.15273145</td><td>0.8786101</td><td>0.8080130</td><td>1.283010</td><td>0.9664711</td></tr>\n",
       "</tbody>\n",
       "</table>\n"
      ],
      "text/latex": [
       "A data.frame: 11 x 8\n",
       "\\begin{tabular}{r|llllllll}\n",
       "  & coef & exp(coef) & SE & z & Pr(>\\textbar{}z\\textbar{}) & lower.95 & upper.95 & fdr\\\\\n",
       "  & <dbl> & <dbl> & <dbl> & <dbl> & <dbl> & <dbl> & <dbl> & <dbl>\\\\\n",
       "\\hline\n",
       "\tTCR Shannon &  0.001745285 & 1.001747 & 0.005932122 &  0.29420928 & 0.7685980 & 0.9901672 & 1.013462 & 0.9664711\\\\\n",
       "\tcfTCR Shannon &  0.006004481 & 1.006023 & 0.230550316 &  0.02604412 & 0.9792221 & 0.6402697 & 1.580711 & 0.9792221\\\\\n",
       "\tATC &  0.002131647 & 1.002134 & 0.004413207 &  0.48301533 & 0.6290848 & 0.9935031 & 1.010840 & 0.9664711\\\\\n",
       "\tNaïve\\% &  0.038714288 & 1.039473 & 0.088620848 &  0.43685305 & 0.6622179 & 0.8737339 & 1.236652 & 0.9664711\\\\\n",
       "\tCM\\% &  0.047801643 & 1.048963 & 0.046874775 &  1.01977327 & 0.3078360 & 0.9568858 & 1.149899 & 0.8465490\\\\\n",
       "\tSCM\\% & -0.066310805 & 0.935840 & 0.155512605 & -0.42640148 & 0.6698153 & 0.6899681 & 1.269329 & 0.9664711\\\\\n",
       "\tEM\\% &  0.241928266 & 1.273703 & 0.205458417 &  1.17750477 & 0.2389941 & 0.8514940 & 1.905262 & 0.8465490\\\\\n",
       "\tTE\\% & -0.086344653 & 0.917278 & 0.064401863 & -1.34071669 & 0.1800125 & 0.8085037 & 1.040687 & 0.8465490\\\\\n",
       "\tTIM3\\% &  0.018015860 & 1.018179 & 0.117957761 &  0.15273145 & 0.8786101 & 0.8080130 & 1.283010 & 0.9664711\\\\\n",
       "\tLAG3\\% &  0.698944342 & 2.011628 & 0.434343539 &  1.60919705 & 0.1075733 & 0.8586848 & 4.712611 & 0.8465490\\\\\n",
       "\tPD1\\% &  0.018015860 & 1.018179 & 0.117957761 &  0.15273145 & 0.8786101 & 0.8080130 & 1.283010 & 0.9664711\\\\\n",
       "\\end{tabular}\n"
      ],
      "text/markdown": [
       "\n",
       "A data.frame: 11 x 8\n",
       "\n",
       "| <!--/--> | coef &lt;dbl&gt; | exp(coef) &lt;dbl&gt; | SE &lt;dbl&gt; | z &lt;dbl&gt; | Pr(&gt;|z|) &lt;dbl&gt; | lower.95 &lt;dbl&gt; | upper.95 &lt;dbl&gt; | fdr &lt;dbl&gt; |\n",
       "|---|---|---|---|---|---|---|---|---|\n",
       "| TCR Shannon |  0.001745285 | 1.001747 | 0.005932122 |  0.29420928 | 0.7685980 | 0.9901672 | 1.013462 | 0.9664711 |\n",
       "| cfTCR Shannon |  0.006004481 | 1.006023 | 0.230550316 |  0.02604412 | 0.9792221 | 0.6402697 | 1.580711 | 0.9792221 |\n",
       "| ATC |  0.002131647 | 1.002134 | 0.004413207 |  0.48301533 | 0.6290848 | 0.9935031 | 1.010840 | 0.9664711 |\n",
       "| Naïve% |  0.038714288 | 1.039473 | 0.088620848 |  0.43685305 | 0.6622179 | 0.8737339 | 1.236652 | 0.9664711 |\n",
       "| CM% |  0.047801643 | 1.048963 | 0.046874775 |  1.01977327 | 0.3078360 | 0.9568858 | 1.149899 | 0.8465490 |\n",
       "| SCM% | -0.066310805 | 0.935840 | 0.155512605 | -0.42640148 | 0.6698153 | 0.6899681 | 1.269329 | 0.9664711 |\n",
       "| EM% |  0.241928266 | 1.273703 | 0.205458417 |  1.17750477 | 0.2389941 | 0.8514940 | 1.905262 | 0.8465490 |\n",
       "| TE% | -0.086344653 | 0.917278 | 0.064401863 | -1.34071669 | 0.1800125 | 0.8085037 | 1.040687 | 0.8465490 |\n",
       "| TIM3% |  0.018015860 | 1.018179 | 0.117957761 |  0.15273145 | 0.8786101 | 0.8080130 | 1.283010 | 0.9664711 |\n",
       "| LAG3% |  0.698944342 | 2.011628 | 0.434343539 |  1.60919705 | 0.1075733 | 0.8586848 | 4.712611 | 0.8465490 |\n",
       "| PD1% |  0.018015860 | 1.018179 | 0.117957761 |  0.15273145 | 0.8786101 | 0.8080130 | 1.283010 | 0.9664711 |\n",
       "\n"
      ],
      "text/plain": [
       "              coef         exp(coef) SE          z           Pr(>|z|) \n",
       "TCR Shannon    0.001745285 1.001747  0.005932122  0.29420928 0.7685980\n",
       "cfTCR Shannon  0.006004481 1.006023  0.230550316  0.02604412 0.9792221\n",
       "ATC            0.002131647 1.002134  0.004413207  0.48301533 0.6290848\n",
       "Naïve%         0.038714288 1.039473  0.088620848  0.43685305 0.6622179\n",
       "CM%            0.047801643 1.048963  0.046874775  1.01977327 0.3078360\n",
       "SCM%          -0.066310805 0.935840  0.155512605 -0.42640148 0.6698153\n",
       "EM%            0.241928266 1.273703  0.205458417  1.17750477 0.2389941\n",
       "TE%           -0.086344653 0.917278  0.064401863 -1.34071669 0.1800125\n",
       "TIM3%          0.018015860 1.018179  0.117957761  0.15273145 0.8786101\n",
       "LAG3%          0.698944342 2.011628  0.434343539  1.60919705 0.1075733\n",
       "PD1%           0.018015860 1.018179  0.117957761  0.15273145 0.8786101\n",
       "              lower.95  upper.95 fdr      \n",
       "TCR Shannon   0.9901672 1.013462 0.9664711\n",
       "cfTCR Shannon 0.6402697 1.580711 0.9792221\n",
       "ATC           0.9935031 1.010840 0.9664711\n",
       "Naïve%        0.8737339 1.236652 0.9664711\n",
       "CM%           0.9568858 1.149899 0.8465490\n",
       "SCM%          0.6899681 1.269329 0.9664711\n",
       "EM%           0.8514940 1.905262 0.8465490\n",
       "TE%           0.8085037 1.040687 0.8465490\n",
       "TIM3%         0.8080130 1.283010 0.9664711\n",
       "LAG3%         0.8586848 4.712611 0.8465490\n",
       "PD1%          0.8080130 1.283010 0.9664711"
      ]
     },
     "metadata": {},
     "output_type": "display_data"
    }
   ],
   "source": [
    "(s3)"
   ]
  },
  {
   "cell_type": "code",
   "execution_count": 60,
   "metadata": {
    "vscode": {
     "languageId": "r"
    }
   },
   "outputs": [],
   "source": [
    "xlsx::write.xlsx(s3, file = \"~/OneDrive - UHN//Documents/Manuscripts/INTERCEPT/v1/TableS3.xlsx\",\n",
    "sheetName = \"TableS3\",\n",
    "col.names = TRUE, row.names = TRUE, append = FALSE)"
   ]
  },
  {
   "cell_type": "code",
   "execution_count": 61,
   "metadata": {
    "vscode": {
     "languageId": "r"
    }
   },
   "outputs": [],
   "source": [
    "feat_lr_mat$Feature <- factor(feat_lr_mat$Feature,\n",
    "  levels = c(\"cfTCR Shannon\", \"TCR Shannon\",\"LAG3%\",\"TIM3%\",  \"PD1%\", \"TE%\", \"EM%\", \"CM%\", \"SCM%\", \"Naïve%\", \"ATC\")\n",
    ")\n",
    "\n",
    "# reverse the levels\n",
    "feat_lr_mat$Feature <- factor(feat_lr_mat$Feature,\n",
    "  levels = rev(levels(feat_lr_mat$Feature))\n",
    ")"
   ]
  },
  {
   "cell_type": "code",
   "execution_count": 62,
   "metadata": {
    "vscode": {
     "languageId": "r"
    }
   },
   "outputs": [],
   "source": [
    "# order mat by Feature levels\n",
    "feat_lr_mat <- feat_lr_mat[ order(feat_lr_mat$Feature), ]"
   ]
  },
  {
   "cell_type": "code",
   "execution_count": 63,
   "metadata": {
    "vscode": {
     "languageId": "r"
    }
   },
   "outputs": [
    {
     "data": {
      "text/html": [
       "<table class=\"dataframe\">\n",
       "<caption>A data.frame: 11 x 9</caption>\n",
       "<thead>\n",
       "\t<tr><th></th><th scope=col>coef</th><th scope=col>exp(coef)</th><th scope=col>SE</th><th scope=col>z</th><th scope=col>Pr(&gt;|z|)</th><th scope=col>lower.95</th><th scope=col>upper.95</th><th scope=col>fdr</th><th scope=col>Feature</th></tr>\n",
       "\t<tr><th></th><th scope=col>&lt;dbl&gt;</th><th scope=col>&lt;dbl&gt;</th><th scope=col>&lt;dbl&gt;</th><th scope=col>&lt;dbl&gt;</th><th scope=col>&lt;dbl&gt;</th><th scope=col>&lt;dbl&gt;</th><th scope=col>&lt;dbl&gt;</th><th scope=col>&lt;dbl&gt;</th><th scope=col>&lt;fct&gt;</th></tr>\n",
       "</thead>\n",
       "<tbody>\n",
       "\t<tr><th scope=row>quantreg_ATC</th><td> 0.002131647</td><td>1.002134</td><td>0.004413207</td><td> 0.48301533</td><td>0.6290848</td><td>0.9935031</td><td>1.010840</td><td>0.9664711</td><td>ATC          </td></tr>\n",
       "\t<tr><th scope=row>quantreg_N</th><td> 0.038714288</td><td>1.039473</td><td>0.088620848</td><td> 0.43685305</td><td>0.6622179</td><td>0.8737339</td><td>1.236652</td><td>0.9664711</td><td>Naïve%       </td></tr>\n",
       "\t<tr><th scope=row>quantreg_SCM</th><td>-0.066310805</td><td>0.935840</td><td>0.155512605</td><td>-0.42640148</td><td>0.6698153</td><td>0.6899681</td><td>1.269329</td><td>0.9664711</td><td>SCM%         </td></tr>\n",
       "\t<tr><th scope=row>quantreg_CM</th><td> 0.047801643</td><td>1.048963</td><td>0.046874775</td><td> 1.01977327</td><td>0.3078360</td><td>0.9568858</td><td>1.149899</td><td>0.8465490</td><td>CM%          </td></tr>\n",
       "\t<tr><th scope=row>quantreg_EM</th><td> 0.241928266</td><td>1.273703</td><td>0.205458417</td><td> 1.17750477</td><td>0.2389941</td><td>0.8514940</td><td>1.905262</td><td>0.8465490</td><td>EM%          </td></tr>\n",
       "\t<tr><th scope=row>quantreg_TE</th><td>-0.086344653</td><td>0.917278</td><td>0.064401863</td><td>-1.34071669</td><td>0.1800125</td><td>0.8085037</td><td>1.040687</td><td>0.8465490</td><td>TE%          </td></tr>\n",
       "\t<tr><th scope=row>quantreg_PD1</th><td> 0.018015860</td><td>1.018179</td><td>0.117957761</td><td> 0.15273145</td><td>0.8786101</td><td>0.8080130</td><td>1.283010</td><td>0.9664711</td><td>PD1%         </td></tr>\n",
       "\t<tr><th scope=row>quantreg_TIM</th><td> 0.018015860</td><td>1.018179</td><td>0.117957761</td><td> 0.15273145</td><td>0.8786101</td><td>0.8080130</td><td>1.283010</td><td>0.9664711</td><td>TIM3%        </td></tr>\n",
       "\t<tr><th scope=row>quantreg_LAG</th><td> 0.698944342</td><td>2.011628</td><td>0.434343539</td><td> 1.60919705</td><td>0.1075733</td><td>0.8586848</td><td>4.712611</td><td>0.8465490</td><td>LAG3%        </td></tr>\n",
       "\t<tr><th scope=row>quantreg_Shannon</th><td> 0.001745285</td><td>1.001747</td><td>0.005932122</td><td> 0.29420928</td><td>0.7685980</td><td>0.9901672</td><td>1.013462</td><td>0.9664711</td><td>TCR Shannon  </td></tr>\n",
       "\t<tr><th scope=row>quantreg_cfShannon</th><td> 0.006004481</td><td>1.006023</td><td>0.230550316</td><td> 0.02604412</td><td>0.9792221</td><td>0.6402697</td><td>1.580711</td><td>0.9792221</td><td>cfTCR Shannon</td></tr>\n",
       "</tbody>\n",
       "</table>\n"
      ],
      "text/latex": [
       "A data.frame: 11 x 9\n",
       "\\begin{tabular}{r|lllllllll}\n",
       "  & coef & exp(coef) & SE & z & Pr(>\\textbar{}z\\textbar{}) & lower.95 & upper.95 & fdr & Feature\\\\\n",
       "  & <dbl> & <dbl> & <dbl> & <dbl> & <dbl> & <dbl> & <dbl> & <dbl> & <fct>\\\\\n",
       "\\hline\n",
       "\tquantreg\\_ATC &  0.002131647 & 1.002134 & 0.004413207 &  0.48301533 & 0.6290848 & 0.9935031 & 1.010840 & 0.9664711 & ATC          \\\\\n",
       "\tquantreg\\_N &  0.038714288 & 1.039473 & 0.088620848 &  0.43685305 & 0.6622179 & 0.8737339 & 1.236652 & 0.9664711 & Naïve\\%       \\\\\n",
       "\tquantreg\\_SCM & -0.066310805 & 0.935840 & 0.155512605 & -0.42640148 & 0.6698153 & 0.6899681 & 1.269329 & 0.9664711 & SCM\\%         \\\\\n",
       "\tquantreg\\_CM &  0.047801643 & 1.048963 & 0.046874775 &  1.01977327 & 0.3078360 & 0.9568858 & 1.149899 & 0.8465490 & CM\\%          \\\\\n",
       "\tquantreg\\_EM &  0.241928266 & 1.273703 & 0.205458417 &  1.17750477 & 0.2389941 & 0.8514940 & 1.905262 & 0.8465490 & EM\\%          \\\\\n",
       "\tquantreg\\_TE & -0.086344653 & 0.917278 & 0.064401863 & -1.34071669 & 0.1800125 & 0.8085037 & 1.040687 & 0.8465490 & TE\\%          \\\\\n",
       "\tquantreg\\_PD1 &  0.018015860 & 1.018179 & 0.117957761 &  0.15273145 & 0.8786101 & 0.8080130 & 1.283010 & 0.9664711 & PD1\\%         \\\\\n",
       "\tquantreg\\_TIM &  0.018015860 & 1.018179 & 0.117957761 &  0.15273145 & 0.8786101 & 0.8080130 & 1.283010 & 0.9664711 & TIM3\\%        \\\\\n",
       "\tquantreg\\_LAG &  0.698944342 & 2.011628 & 0.434343539 &  1.60919705 & 0.1075733 & 0.8586848 & 4.712611 & 0.8465490 & LAG3\\%        \\\\\n",
       "\tquantreg\\_Shannon &  0.001745285 & 1.001747 & 0.005932122 &  0.29420928 & 0.7685980 & 0.9901672 & 1.013462 & 0.9664711 & TCR Shannon  \\\\\n",
       "\tquantreg\\_cfShannon &  0.006004481 & 1.006023 & 0.230550316 &  0.02604412 & 0.9792221 & 0.6402697 & 1.580711 & 0.9792221 & cfTCR Shannon\\\\\n",
       "\\end{tabular}\n"
      ],
      "text/markdown": [
       "\n",
       "A data.frame: 11 x 9\n",
       "\n",
       "| <!--/--> | coef &lt;dbl&gt; | exp(coef) &lt;dbl&gt; | SE &lt;dbl&gt; | z &lt;dbl&gt; | Pr(&gt;|z|) &lt;dbl&gt; | lower.95 &lt;dbl&gt; | upper.95 &lt;dbl&gt; | fdr &lt;dbl&gt; | Feature &lt;fct&gt; |\n",
       "|---|---|---|---|---|---|---|---|---|---|\n",
       "| quantreg_ATC |  0.002131647 | 1.002134 | 0.004413207 |  0.48301533 | 0.6290848 | 0.9935031 | 1.010840 | 0.9664711 | ATC           |\n",
       "| quantreg_N |  0.038714288 | 1.039473 | 0.088620848 |  0.43685305 | 0.6622179 | 0.8737339 | 1.236652 | 0.9664711 | Naïve%        |\n",
       "| quantreg_SCM | -0.066310805 | 0.935840 | 0.155512605 | -0.42640148 | 0.6698153 | 0.6899681 | 1.269329 | 0.9664711 | SCM%          |\n",
       "| quantreg_CM |  0.047801643 | 1.048963 | 0.046874775 |  1.01977327 | 0.3078360 | 0.9568858 | 1.149899 | 0.8465490 | CM%           |\n",
       "| quantreg_EM |  0.241928266 | 1.273703 | 0.205458417 |  1.17750477 | 0.2389941 | 0.8514940 | 1.905262 | 0.8465490 | EM%           |\n",
       "| quantreg_TE | -0.086344653 | 0.917278 | 0.064401863 | -1.34071669 | 0.1800125 | 0.8085037 | 1.040687 | 0.8465490 | TE%           |\n",
       "| quantreg_PD1 |  0.018015860 | 1.018179 | 0.117957761 |  0.15273145 | 0.8786101 | 0.8080130 | 1.283010 | 0.9664711 | PD1%          |\n",
       "| quantreg_TIM |  0.018015860 | 1.018179 | 0.117957761 |  0.15273145 | 0.8786101 | 0.8080130 | 1.283010 | 0.9664711 | TIM3%         |\n",
       "| quantreg_LAG |  0.698944342 | 2.011628 | 0.434343539 |  1.60919705 | 0.1075733 | 0.8586848 | 4.712611 | 0.8465490 | LAG3%         |\n",
       "| quantreg_Shannon |  0.001745285 | 1.001747 | 0.005932122 |  0.29420928 | 0.7685980 | 0.9901672 | 1.013462 | 0.9664711 | TCR Shannon   |\n",
       "| quantreg_cfShannon |  0.006004481 | 1.006023 | 0.230550316 |  0.02604412 | 0.9792221 | 0.6402697 | 1.580711 | 0.9792221 | cfTCR Shannon |\n",
       "\n"
      ],
      "text/plain": [
       "                   coef         exp(coef) SE          z           Pr(>|z|) \n",
       "quantreg_ATC        0.002131647 1.002134  0.004413207  0.48301533 0.6290848\n",
       "quantreg_N          0.038714288 1.039473  0.088620848  0.43685305 0.6622179\n",
       "quantreg_SCM       -0.066310805 0.935840  0.155512605 -0.42640148 0.6698153\n",
       "quantreg_CM         0.047801643 1.048963  0.046874775  1.01977327 0.3078360\n",
       "quantreg_EM         0.241928266 1.273703  0.205458417  1.17750477 0.2389941\n",
       "quantreg_TE        -0.086344653 0.917278  0.064401863 -1.34071669 0.1800125\n",
       "quantreg_PD1        0.018015860 1.018179  0.117957761  0.15273145 0.8786101\n",
       "quantreg_TIM        0.018015860 1.018179  0.117957761  0.15273145 0.8786101\n",
       "quantreg_LAG        0.698944342 2.011628  0.434343539  1.60919705 0.1075733\n",
       "quantreg_Shannon    0.001745285 1.001747  0.005932122  0.29420928 0.7685980\n",
       "quantreg_cfShannon  0.006004481 1.006023  0.230550316  0.02604412 0.9792221\n",
       "                   lower.95  upper.95 fdr       Feature      \n",
       "quantreg_ATC       0.9935031 1.010840 0.9664711 ATC          \n",
       "quantreg_N         0.8737339 1.236652 0.9664711 Naïve%       \n",
       "quantreg_SCM       0.6899681 1.269329 0.9664711 SCM%         \n",
       "quantreg_CM        0.9568858 1.149899 0.8465490 CM%          \n",
       "quantreg_EM        0.8514940 1.905262 0.8465490 EM%          \n",
       "quantreg_TE        0.8085037 1.040687 0.8465490 TE%          \n",
       "quantreg_PD1       0.8080130 1.283010 0.9664711 PD1%         \n",
       "quantreg_TIM       0.8080130 1.283010 0.9664711 TIM3%        \n",
       "quantreg_LAG       0.8586848 4.712611 0.8465490 LAG3%        \n",
       "quantreg_Shannon   0.9901672 1.013462 0.9664711 TCR Shannon  \n",
       "quantreg_cfShannon 0.6402697 1.580711 0.9792221 cfTCR Shannon"
      ]
     },
     "metadata": {},
     "output_type": "display_data"
    }
   ],
   "source": [
    "(feat_lr_mat)"
   ]
  },
  {
   "cell_type": "code",
   "execution_count": 64,
   "metadata": {
    "vscode": {
     "languageId": "r"
    }
   },
   "outputs": [],
   "source": [
    "feat_lr_mat$mean <- feat_lr_mat$`exp(coef)`\n",
    "feat_lr_mat$lower <- feat_lr_mat$`lower.95`\n",
    "feat_lr_mat$upper <- feat_lr_mat$`upper.95`"
   ]
  },
  {
   "cell_type": "code",
   "execution_count": 65,
   "metadata": {
    "vscode": {
     "languageId": "r"
    }
   },
   "outputs": [],
   "source": [
    "feat_lr_mat$OR <- as.character(round(feat_lr_mat$`exp(coef)`, 2) )\n",
    "feat_lr_mat$p <- as.character(round(feat_lr_mat$`Pr(>|z|)`, 2) )\n",
    "feat_lr_mat$FDR <- as.character(round(feat_lr_mat$fdr, 2) )"
   ]
  },
  {
   "cell_type": "code",
   "execution_count": 66,
   "metadata": {
    "vscode": {
     "languageId": "r"
    }
   },
   "outputs": [],
   "source": [
    "p2 <- feat_lr_mat |>\n",
    "  forestplot(\n",
    "    labeltext = c(Feature, OR, p, FDR),\n",
    "    clip = c(-0.5, 2.5),\n",
    "    boxsize = 0.2,\n",
    "    vertices = TRUE,\n",
    "    xlog = FALSE, zero = 1\n",
    "  ) |>\n",
    "  fp_set_style(\n",
    "    box = \"royalblue\",\n",
    "    line = \"darkblue\",\n",
    "    summary = \"royalblue\"\n",
    "  ) |>\n",
    "  fp_add_header(\n",
    "    Feature = c(\"\", \"Feature\"),\n",
    "    OR = c(\"\", \"OR\"),\n",
    "    p = c(\"\", \"p value\"),\n",
    "    FDR = c(\"\", \"FDR\")\n",
    "  )\n"
   ]
  },
  {
   "cell_type": "code",
   "execution_count": 67,
   "metadata": {
    "vscode": {
     "languageId": "r"
    }
   },
   "outputs": [
    {
     "data": {
      "image/png": "[encoded data removed]",
      "text/plain": [
       "plot without title"
      ]
     },
     "metadata": {
      "image/png": {
       "height": 420,
       "width": 420
      }
     },
     "output_type": "display_data"
    }
   ],
   "source": [
    "p2"
   ]
  },
  {
   "cell_type": "code",
   "execution_count": 70,
   "metadata": {
    "vscode": {
     "languageId": "r"
    }
   },
   "outputs": [
    {
     "data": {
      "text/html": [
       "<strong>pdf:</strong> 2"
      ],
      "text/latex": [
       "\\textbf{pdf:} 2"
      ],
      "text/markdown": [
       "**pdf:** 2"
      ],
      "text/plain": [
       "pdf \n",
       "  2 "
      ]
     },
     "metadata": {},
     "output_type": "display_data"
    }
   ],
   "source": [
    "pdf(paste0(plotpath, \"forestplot_quantreq.pdf\"), width=5, height=8)\n",
    "p2\n",
    "dev.off()"
   ]
  },
  {
   "cell_type": "markdown",
   "metadata": {},
   "source": [
    "# 2- Baseline associations"
   ]
  },
  {
   "cell_type": "code",
   "execution_count": 61,
   "metadata": {
    "vscode": {
     "languageId": "r"
    }
   },
   "outputs": [],
   "source": [
    "# split to 3 dataframes: one for flow one for tcr and ncr\n",
    "\n",
    "tcr_df <- pbmc[ !is.na(pbmc$TRB), ]\n",
    "cftcr_df <- cfdna[ !is.na(cfdna$TRB), ]\n",
    "flow_df <- pbmc[ !is.na(pbmc$CD3) & pbmc$CD3 > 0, ]\n",
    "ncr_df <- flow_df[ !is.na(flow_df$`TIM3%`), ]"
   ]
  },
  {
   "cell_type": "code",
   "execution_count": 62,
   "metadata": {
    "vscode": {
     "languageId": "r"
    }
   },
   "outputs": [],
   "source": [
    "# only X01\n",
    "tcr_df <- tcr_df[ tcr_df$cycle == \"X01\", ]\n",
    "cftcr_df <- cftcr_df[ cftcr_df$cycle == \"X01\", ]\n",
    "flow_df <- flow_df[ flow_df$cycle == \"X01\", ]\n",
    "ncr_df <- ncr_df[ ncr_df$cycle == \"X01\", ]"
   ]
  },
  {
   "cell_type": "code",
   "execution_count": 63,
   "metadata": {
    "vscode": {
     "languageId": "r"
    }
   },
   "outputs": [
    {
     "data": {
      "text/html": [
       "<style>\n",
       ".list-inline {list-style: none; margin:0; padding: 0}\n",
       ".list-inline>li {display: inline-block}\n",
       ".list-inline>li:not(:last-child)::after {content: \"\\00b7\"; padding: 0 .5ex}\n",
       "</style>\n",
       "<ol class=list-inline><li>'sample_id'</li><li>'Patient'</li><li>'cycle'</li><li>'FOLD'</li><li>'ATC'</li><li>'Age'</li><li>'Disease_type'</li><li>'TE_fold'</li><li>'CD3'</li><li>'EM'</li><li>'CM'</li><li>'Naïve'</li><li>'SCM'</li><li>'TE'</li><li>'EM%'</li><li>'CM%'</li><li>'Naïve%'</li><li>'SCM%'</li><li>'TE%'</li><li>'Naïve/TE'</li><li>'N+CM+SCM/TE+EM'</li><li>'PD-1'</li><li>'PDL1'</li><li>'LAG3'</li><li>'TIM3'</li><li>'CTLA4'</li><li>'PD1%'</li><li>'PDL1%'</li><li>'LAG3%'</li><li>'TIM3%'</li><li>'CTLA4%'</li><li>'Any NCR'</li><li>'PD1 + LAG3 + TIM3'</li><li>'cancergroup'</li><li>'agegroup'</li><li>'foldgroup'</li><li>'Remission'</li><li>'Relapse'</li><li>'Transplant'</li><li>'CART'</li><li>'vital_status'</li><li>'LOF'</li><li>'TRB'</li><li>'Reads'</li><li>'CPKR'</li><li>'Average_reads'</li><li>'VMR'</li><li>'Max_reads'</li><li>'Singletons'</li><li>'Doubletons'</li><li>'qD'</li><li>'Sample_Coverage'</li><li>'observed_Richness'</li><li>'estimated_Richness'</li><li>'SE_Richeness'</li><li>'observed_Shannon'</li><li>'estimated_Shannon'</li><li>'SE_Shannon'</li><li>'observed_Simpson'</li><li>'estimated_Simpson'</li><li>'SE_Simpson'</li><li>'basename'</li><li>'file'</li><li>'sampletype'</li><li>'Group'</li><li>'log10shann'</li><li>'assay'</li><li>'cyclenum'</li></ol>\n"
      ],
      "text/latex": [
       "\\begin{enumerate*}\n",
       "\\item 'sample\\_id'\n",
       "\\item 'Patient'\n",
       "\\item 'cycle'\n",
       "\\item 'FOLD'\n",
       "\\item 'ATC'\n",
       "\\item 'Age'\n",
       "\\item 'Disease\\_type'\n",
       "\\item 'TE\\_fold'\n",
       "\\item 'CD3'\n",
       "\\item 'EM'\n",
       "\\item 'CM'\n",
       "\\item 'Naïve'\n",
       "\\item 'SCM'\n",
       "\\item 'TE'\n",
       "\\item 'EM\\%'\n",
       "\\item 'CM\\%'\n",
       "\\item 'Naïve\\%'\n",
       "\\item 'SCM\\%'\n",
       "\\item 'TE\\%'\n",
       "\\item 'Naïve/TE'\n",
       "\\item 'N+CM+SCM/TE+EM'\n",
       "\\item 'PD-1'\n",
       "\\item 'PDL1'\n",
       "\\item 'LAG3'\n",
       "\\item 'TIM3'\n",
       "\\item 'CTLA4'\n",
       "\\item 'PD1\\%'\n",
       "\\item 'PDL1\\%'\n",
       "\\item 'LAG3\\%'\n",
       "\\item 'TIM3\\%'\n",
       "\\item 'CTLA4\\%'\n",
       "\\item 'Any NCR'\n",
       "\\item 'PD1 + LAG3 + TIM3'\n",
       "\\item 'cancergroup'\n",
       "\\item 'agegroup'\n",
       "\\item 'foldgroup'\n",
       "\\item 'Remission'\n",
       "\\item 'Relapse'\n",
       "\\item 'Transplant'\n",
       "\\item 'CART'\n",
       "\\item 'vital\\_status'\n",
       "\\item 'LOF'\n",
       "\\item 'TRB'\n",
       "\\item 'Reads'\n",
       "\\item 'CPKR'\n",
       "\\item 'Average\\_reads'\n",
       "\\item 'VMR'\n",
       "\\item 'Max\\_reads'\n",
       "\\item 'Singletons'\n",
       "\\item 'Doubletons'\n",
       "\\item 'qD'\n",
       "\\item 'Sample\\_Coverage'\n",
       "\\item 'observed\\_Richness'\n",
       "\\item 'estimated\\_Richness'\n",
       "\\item 'SE\\_Richeness'\n",
       "\\item 'observed\\_Shannon'\n",
       "\\item 'estimated\\_Shannon'\n",
       "\\item 'SE\\_Shannon'\n",
       "\\item 'observed\\_Simpson'\n",
       "\\item 'estimated\\_Simpson'\n",
       "\\item 'SE\\_Simpson'\n",
       "\\item 'basename'\n",
       "\\item 'file'\n",
       "\\item 'sampletype'\n",
       "\\item 'Group'\n",
       "\\item 'log10shann'\n",
       "\\item 'assay'\n",
       "\\item 'cyclenum'\n",
       "\\end{enumerate*}\n"
      ],
      "text/markdown": [
       "1. 'sample_id'\n",
       "2. 'Patient'\n",
       "3. 'cycle'\n",
       "4. 'FOLD'\n",
       "5. 'ATC'\n",
       "6. 'Age'\n",
       "7. 'Disease_type'\n",
       "8. 'TE_fold'\n",
       "9. 'CD3'\n",
       "10. 'EM'\n",
       "11. 'CM'\n",
       "12. 'Naïve'\n",
       "13. 'SCM'\n",
       "14. 'TE'\n",
       "15. 'EM%'\n",
       "16. 'CM%'\n",
       "17. 'Naïve%'\n",
       "18. 'SCM%'\n",
       "19. 'TE%'\n",
       "20. 'Naïve/TE'\n",
       "21. 'N+CM+SCM/TE+EM'\n",
       "22. 'PD-1'\n",
       "23. 'PDL1'\n",
       "24. 'LAG3'\n",
       "25. 'TIM3'\n",
       "26. 'CTLA4'\n",
       "27. 'PD1%'\n",
       "28. 'PDL1%'\n",
       "29. 'LAG3%'\n",
       "30. 'TIM3%'\n",
       "31. 'CTLA4%'\n",
       "32. 'Any NCR'\n",
       "33. 'PD1 + LAG3 + TIM3'\n",
       "34. 'cancergroup'\n",
       "35. 'agegroup'\n",
       "36. 'foldgroup'\n",
       "37. 'Remission'\n",
       "38. 'Relapse'\n",
       "39. 'Transplant'\n",
       "40. 'CART'\n",
       "41. 'vital_status'\n",
       "42. 'LOF'\n",
       "43. 'TRB'\n",
       "44. 'Reads'\n",
       "45. 'CPKR'\n",
       "46. 'Average_reads'\n",
       "47. 'VMR'\n",
       "48. 'Max_reads'\n",
       "49. 'Singletons'\n",
       "50. 'Doubletons'\n",
       "51. 'qD'\n",
       "52. 'Sample_Coverage'\n",
       "53. 'observed_Richness'\n",
       "54. 'estimated_Richness'\n",
       "55. 'SE_Richeness'\n",
       "56. 'observed_Shannon'\n",
       "57. 'estimated_Shannon'\n",
       "58. 'SE_Shannon'\n",
       "59. 'observed_Simpson'\n",
       "60. 'estimated_Simpson'\n",
       "61. 'SE_Simpson'\n",
       "62. 'basename'\n",
       "63. 'file'\n",
       "64. 'sampletype'\n",
       "65. 'Group'\n",
       "66. 'log10shann'\n",
       "67. 'assay'\n",
       "68. 'cyclenum'\n",
       "\n",
       "\n"
      ],
      "text/plain": [
       " [1] \"sample_id\"          \"Patient\"            \"cycle\"             \n",
       " [4] \"FOLD\"               \"ATC\"                \"Age\"               \n",
       " [7] \"Disease_type\"       \"TE_fold\"            \"CD3\"               \n",
       "[10] \"EM\"                 \"CM\"                 \"Naïve\"             \n",
       "[13] \"SCM\"                \"TE\"                 \"EM%\"               \n",
       "[16] \"CM%\"                \"Naïve%\"             \"SCM%\"              \n",
       "[19] \"TE%\"                \"Naïve/TE\"           \"N+CM+SCM/TE+EM\"    \n",
       "[22] \"PD-1\"               \"PDL1\"               \"LAG3\"              \n",
       "[25] \"TIM3\"               \"CTLA4\"              \"PD1%\"              \n",
       "[28] \"PDL1%\"              \"LAG3%\"              \"TIM3%\"             \n",
       "[31] \"CTLA4%\"             \"Any NCR\"            \"PD1 + LAG3 + TIM3\" \n",
       "[34] \"cancergroup\"        \"agegroup\"           \"foldgroup\"         \n",
       "[37] \"Remission\"          \"Relapse\"            \"Transplant\"        \n",
       "[40] \"CART\"               \"vital_status\"       \"LOF\"               \n",
       "[43] \"TRB\"                \"Reads\"              \"CPKR\"              \n",
       "[46] \"Average_reads\"      \"VMR\"                \"Max_reads\"         \n",
       "[49] \"Singletons\"         \"Doubletons\"         \"qD\"                \n",
       "[52] \"Sample_Coverage\"    \"observed_Richness\"  \"estimated_Richness\"\n",
       "[55] \"SE_Richeness\"       \"observed_Shannon\"   \"estimated_Shannon\" \n",
       "[58] \"SE_Shannon\"         \"observed_Simpson\"   \"estimated_Simpson\" \n",
       "[61] \"SE_Simpson\"         \"basename\"           \"file\"              \n",
       "[64] \"sampletype\"         \"Group\"              \"log10shann\"        \n",
       "[67] \"assay\"              \"cyclenum\"          "
      ]
     },
     "metadata": {},
     "output_type": "display_data"
    }
   ],
   "source": [
    "colnames(tcr_df)"
   ]
  },
  {
   "cell_type": "code",
   "execution_count": 64,
   "metadata": {
    "vscode": {
     "languageId": "r"
    }
   },
   "outputs": [],
   "source": [
    "cftcr_df$cfShannon <- cftcr_df$observed_Shannon"
   ]
  },
  {
   "cell_type": "code",
   "execution_count": 65,
   "metadata": {
    "vscode": {
     "languageId": "r"
    }
   },
   "outputs": [],
   "source": [
    "# merge all the dataframes, allow NAs to include all data\n",
    "df_x01 <- merge(flow_df[, c(\"Patient\", \"ATC\", \"Naïve%\", \"SCM%\", \"CM%\", \"EM%\", \"TE%\")], ncr_df[, c(\"Patient\", \"PD1%\", \"LAG3%\", \"TIM3%\")], by = \"Patient\", all = TRUE)\n",
    "df_x01 <- merge(df_x01, tcr_df[, c(\"Patient\", \"observed_Shannon\")], by = \"Patient\", , all = TRUE)\n",
    "df_x01 <- merge(df_x01, cftcr_df[, c(\"Patient\",\"cfShannon\")], by = \"Patient\", all = TRUE)\n"
   ]
  },
  {
   "cell_type": "code",
   "execution_count": 66,
   "metadata": {
    "vscode": {
     "languageId": "r"
    }
   },
   "outputs": [],
   "source": [
    "df_x01$cancergroup <- pbmc$cancergroup[ match(df_x01$Patient, pbmc$Patient) ]"
   ]
  },
  {
   "cell_type": "code",
   "execution_count": 67,
   "metadata": {
    "vscode": {
     "languageId": "r"
    }
   },
   "outputs": [
    {
     "data": {
      "text/html": [
       "<table class=\"dataframe\">\n",
       "<caption>A data.frame: 6 x 13</caption>\n",
       "<thead>\n",
       "\t<tr><th></th><th scope=col>Patient</th><th scope=col>ATC</th><th scope=col>Naïve%</th><th scope=col>SCM%</th><th scope=col>CM%</th><th scope=col>EM%</th><th scope=col>TE%</th><th scope=col>PD1%</th><th scope=col>LAG3%</th><th scope=col>TIM3%</th><th scope=col>observed_Shannon</th><th scope=col>cfShannon</th><th scope=col>cancergroup</th></tr>\n",
       "\t<tr><th></th><th scope=col>&lt;chr&gt;</th><th scope=col>&lt;dbl&gt;</th><th scope=col>&lt;dbl&gt;</th><th scope=col>&lt;dbl&gt;</th><th scope=col>&lt;dbl&gt;</th><th scope=col>&lt;dbl&gt;</th><th scope=col>&lt;dbl&gt;</th><th scope=col>&lt;dbl&gt;</th><th scope=col>&lt;dbl&gt;</th><th scope=col>&lt;dbl&gt;</th><th scope=col>&lt;dbl&gt;</th><th scope=col>&lt;dbl&gt;</th><th scope=col>&lt;chr&gt;</th></tr>\n",
       "</thead>\n",
       "<tbody>\n",
       "\t<tr><th scope=row>1</th><td>CHP_343</td><td>    NA</td><td>      NA</td><td>       NA</td><td>        NA</td><td>        NA</td><td>       NA</td><td>       NA</td><td>      NA</td><td>       NA</td><td>     NA</td><td> 1.000</td><td>Solid tumors</td></tr>\n",
       "\t<tr><th scope=row>2</th><td>CHP_344</td><td>    NA</td><td>      NA</td><td>       NA</td><td>        NA</td><td>        NA</td><td>       NA</td><td>       NA</td><td>      NA</td><td>       NA</td><td>     NA</td><td> 6.587</td><td>Lymphoma    </td></tr>\n",
       "\t<tr><th scope=row>3</th><td>CHP_345</td><td>    NA</td><td>      NA</td><td>       NA</td><td>        NA</td><td>        NA</td><td>       NA</td><td>       NA</td><td>      NA</td><td>       NA</td><td>     NA</td><td>18.714</td><td>Leukemia    </td></tr>\n",
       "\t<tr><th scope=row>4</th><td>CHP_346</td><td>331.70</td><td>94.66248</td><td>0.1569859</td><td> 0.7849294</td><td>0.00000000</td><td> 4.395604</td><td> 5.180534</td><td>3.767661</td><td> 5.180534</td><td> 29.129</td><td>    NA</td><td>Solid tumors</td></tr>\n",
       "\t<tr><th scope=row>5</th><td>CHP_347</td><td>126.72</td><td>21.16402</td><td>0.0000000</td><td> 0.2351558</td><td>0.05878895</td><td>78.542034</td><td>17.930629</td><td>2.410347</td><td>17.930629</td><td>106.911</td><td>    NA</td><td>Leukemia    </td></tr>\n",
       "\t<tr><th scope=row>6</th><td>CHP_348</td><td> 50.96</td><td>26.31111</td><td>8.7111111</td><td>24.4444444</td><td>2.48888889</td><td>38.044444</td><td> 5.422222</td><td>1.600000</td><td> 5.422222</td><td> 69.942</td><td> 2.874</td><td>Solid tumors</td></tr>\n",
       "</tbody>\n",
       "</table>\n"
      ],
      "text/latex": [
       "A data.frame: 6 x 13\n",
       "\\begin{tabular}{r|lllllllllllll}\n",
       "  & Patient & ATC & Naïve\\% & SCM\\% & CM\\% & EM\\% & TE\\% & PD1\\% & LAG3\\% & TIM3\\% & observed\\_Shannon & cfShannon & cancergroup\\\\\n",
       "  & <chr> & <dbl> & <dbl> & <dbl> & <dbl> & <dbl> & <dbl> & <dbl> & <dbl> & <dbl> & <dbl> & <dbl> & <chr>\\\\\n",
       "\\hline\n",
       "\t1 & CHP\\_343 &     NA &       NA &        NA &         NA &         NA &        NA &        NA &       NA &        NA &      NA &  1.000 & Solid tumors\\\\\n",
       "\t2 & CHP\\_344 &     NA &       NA &        NA &         NA &         NA &        NA &        NA &       NA &        NA &      NA &  6.587 & Lymphoma    \\\\\n",
       "\t3 & CHP\\_345 &     NA &       NA &        NA &         NA &         NA &        NA &        NA &       NA &        NA &      NA & 18.714 & Leukemia    \\\\\n",
       "\t4 & CHP\\_346 & 331.70 & 94.66248 & 0.1569859 &  0.7849294 & 0.00000000 &  4.395604 &  5.180534 & 3.767661 &  5.180534 &  29.129 &     NA & Solid tumors\\\\\n",
       "\t5 & CHP\\_347 & 126.72 & 21.16402 & 0.0000000 &  0.2351558 & 0.05878895 & 78.542034 & 17.930629 & 2.410347 & 17.930629 & 106.911 &     NA & Leukemia    \\\\\n",
       "\t6 & CHP\\_348 &  50.96 & 26.31111 & 8.7111111 & 24.4444444 & 2.48888889 & 38.044444 &  5.422222 & 1.600000 &  5.422222 &  69.942 &  2.874 & Solid tumors\\\\\n",
       "\\end{tabular}\n"
      ],
      "text/markdown": [
       "\n",
       "A data.frame: 6 x 13\n",
       "\n",
       "| <!--/--> | Patient &lt;chr&gt; | ATC &lt;dbl&gt; | Naïve% &lt;dbl&gt; | SCM% &lt;dbl&gt; | CM% &lt;dbl&gt; | EM% &lt;dbl&gt; | TE% &lt;dbl&gt; | PD1% &lt;dbl&gt; | LAG3% &lt;dbl&gt; | TIM3% &lt;dbl&gt; | observed_Shannon &lt;dbl&gt; | cfShannon &lt;dbl&gt; | cancergroup &lt;chr&gt; |\n",
       "|---|---|---|---|---|---|---|---|---|---|---|---|---|---|\n",
       "| 1 | CHP_343 |     NA |       NA |        NA |         NA |         NA |        NA |        NA |       NA |        NA |      NA |  1.000 | Solid tumors |\n",
       "| 2 | CHP_344 |     NA |       NA |        NA |         NA |         NA |        NA |        NA |       NA |        NA |      NA |  6.587 | Lymphoma     |\n",
       "| 3 | CHP_345 |     NA |       NA |        NA |         NA |         NA |        NA |        NA |       NA |        NA |      NA | 18.714 | Leukemia     |\n",
       "| 4 | CHP_346 | 331.70 | 94.66248 | 0.1569859 |  0.7849294 | 0.00000000 |  4.395604 |  5.180534 | 3.767661 |  5.180534 |  29.129 |     NA | Solid tumors |\n",
       "| 5 | CHP_347 | 126.72 | 21.16402 | 0.0000000 |  0.2351558 | 0.05878895 | 78.542034 | 17.930629 | 2.410347 | 17.930629 | 106.911 |     NA | Leukemia     |\n",
       "| 6 | CHP_348 |  50.96 | 26.31111 | 8.7111111 | 24.4444444 | 2.48888889 | 38.044444 |  5.422222 | 1.600000 |  5.422222 |  69.942 |  2.874 | Solid tumors |\n",
       "\n"
      ],
      "text/plain": [
       "  Patient ATC    Naïve%   SCM%      CM%        EM%        TE%       PD1%     \n",
       "1 CHP_343     NA       NA        NA         NA         NA        NA        NA\n",
       "2 CHP_344     NA       NA        NA         NA         NA        NA        NA\n",
       "3 CHP_345     NA       NA        NA         NA         NA        NA        NA\n",
       "4 CHP_346 331.70 94.66248 0.1569859  0.7849294 0.00000000  4.395604  5.180534\n",
       "5 CHP_347 126.72 21.16402 0.0000000  0.2351558 0.05878895 78.542034 17.930629\n",
       "6 CHP_348  50.96 26.31111 8.7111111 24.4444444 2.48888889 38.044444  5.422222\n",
       "  LAG3%    TIM3%     observed_Shannon cfShannon cancergroup \n",
       "1       NA        NA      NA           1.000    Solid tumors\n",
       "2       NA        NA      NA           6.587    Lymphoma    \n",
       "3       NA        NA      NA          18.714    Leukemia    \n",
       "4 3.767661  5.180534  29.129              NA    Solid tumors\n",
       "5 2.410347 17.930629 106.911              NA    Leukemia    \n",
       "6 1.600000  5.422222  69.942           2.874    Solid tumors"
      ]
     },
     "metadata": {},
     "output_type": "display_data"
    }
   ],
   "source": [
    "head(df_x01)"
   ]
  },
  {
   "cell_type": "code",
   "execution_count": 68,
   "metadata": {
    "vscode": {
     "languageId": "r"
    }
   },
   "outputs": [],
   "source": [
    "mycol <- c(\n",
    "    \"EM%\", \"CM%\", \"Naïve%\", \"SCM%\", \"TE%\",\n",
    "    \"PD1%\", \"TIM3%\", \"LAG3%\", \"ATC\",\n",
    "    \"observed_Shannon\", \"cfShannon\"\n",
    ")\n"
   ]
  },
  {
   "cell_type": "code",
   "execution_count": 69,
   "metadata": {
    "vscode": {
     "languageId": "r"
    }
   },
   "outputs": [
    {
     "data": {
      "text/html": [
       "<style>\n",
       ".list-inline {list-style: none; margin:0; padding: 0}\n",
       ".list-inline>li {display: inline-block}\n",
       ".list-inline>li:not(:last-child)::after {content: \"\\00b7\"; padding: 0 .5ex}\n",
       "</style>\n",
       "<ol class=list-inline><li>'EM%'</li><li>'CM%'</li><li>'Naïve%'</li><li>'SCM%'</li><li>'TE%'</li><li>'PD1%'</li><li>'TIM3%'</li><li>'LAG3%'</li><li>'ATC'</li><li>'observed_Shannon'</li><li>'cfShannon'</li></ol>\n"
      ],
      "text/latex": [
       "\\begin{enumerate*}\n",
       "\\item 'EM\\%'\n",
       "\\item 'CM\\%'\n",
       "\\item 'Naïve\\%'\n",
       "\\item 'SCM\\%'\n",
       "\\item 'TE\\%'\n",
       "\\item 'PD1\\%'\n",
       "\\item 'TIM3\\%'\n",
       "\\item 'LAG3\\%'\n",
       "\\item 'ATC'\n",
       "\\item 'observed\\_Shannon'\n",
       "\\item 'cfShannon'\n",
       "\\end{enumerate*}\n"
      ],
      "text/markdown": [
       "1. 'EM%'\n",
       "2. 'CM%'\n",
       "3. 'Naïve%'\n",
       "4. 'SCM%'\n",
       "5. 'TE%'\n",
       "6. 'PD1%'\n",
       "7. 'TIM3%'\n",
       "8. 'LAG3%'\n",
       "9. 'ATC'\n",
       "10. 'observed_Shannon'\n",
       "11. 'cfShannon'\n",
       "\n",
       "\n"
      ],
      "text/plain": [
       " [1] \"EM%\"              \"CM%\"              \"Naïve%\"           \"SCM%\"            \n",
       " [5] \"TE%\"              \"PD1%\"             \"TIM3%\"            \"LAG3%\"           \n",
       " [9] \"ATC\"              \"observed_Shannon\" \"cfShannon\"       "
      ]
     },
     "metadata": {},
     "output_type": "display_data"
    }
   ],
   "source": [
    "mycol"
   ]
  },
  {
   "cell_type": "code",
   "execution_count": 70,
   "metadata": {
    "vscode": {
     "languageId": "r"
    }
   },
   "outputs": [
    {
     "name": "stdout",
     "output_type": "stream",
     "text": [
      "[1] \"EM%\"\n",
      "[1] \"CM%\"\n",
      "[1] \"Naïve%\"\n",
      "[1] \"SCM%\"\n",
      "[1] \"TE%\"\n",
      "[1] \"PD1%\"\n",
      "[1] \"TIM3%\"\n",
      "[1] \"LAG3%\"\n",
      "[1] \"ATC\"\n",
      "[1] \"observed_Shannon\"\n",
      "[1] \"cfShannon\"\n"
     ]
    }
   ],
   "source": [
    "# scale\n",
    "for (i in mycol) {\n",
    "    print(i)\n",
    "    newvar <- paste0(i, \"_scaled\")\n",
    "    df_x01[[newvar]] <- as.vector(scale(df_x01[[i]]))\n",
    "}\n"
   ]
  },
  {
   "cell_type": "code",
   "execution_count": 71,
   "metadata": {
    "vscode": {
     "languageId": "r"
    }
   },
   "outputs": [],
   "source": [
    "# # rank\n",
    "# for(i in mycol){\n",
    "#     newvar <- paste0(i, \"_rank\")\n",
    "# df_x01[[newvar]] <- rank(df_x01[[i]])\n",
    "# }"
   ]
  },
  {
   "cell_type": "code",
   "execution_count": 72,
   "metadata": {
    "vscode": {
     "languageId": "r"
    }
   },
   "outputs": [],
   "source": [
    "mycol <- colnames(df_x01)[grepl(\"scaled\", colnames(df_x01))]"
   ]
  },
  {
   "cell_type": "code",
   "execution_count": 73,
   "metadata": {
    "vscode": {
     "languageId": "r"
    }
   },
   "outputs": [
    {
     "data": {
      "text/html": [
       "<style>\n",
       ".list-inline {list-style: none; margin:0; padding: 0}\n",
       ".list-inline>li {display: inline-block}\n",
       ".list-inline>li:not(:last-child)::after {content: \"\\00b7\"; padding: 0 .5ex}\n",
       "</style>\n",
       "<ol class=list-inline><li>'EM%_scaled'</li><li>'CM%_scaled'</li><li>'Naïve%_scaled'</li><li>'SCM%_scaled'</li><li>'TE%_scaled'</li><li>'PD1%_scaled'</li><li>'TIM3%_scaled'</li><li>'LAG3%_scaled'</li><li>'ATC_scaled'</li><li>'observed_Shannon_scaled'</li><li>'cfShannon_scaled'</li></ol>\n"
      ],
      "text/latex": [
       "\\begin{enumerate*}\n",
       "\\item 'EM\\%\\_scaled'\n",
       "\\item 'CM\\%\\_scaled'\n",
       "\\item 'Naïve\\%\\_scaled'\n",
       "\\item 'SCM\\%\\_scaled'\n",
       "\\item 'TE\\%\\_scaled'\n",
       "\\item 'PD1\\%\\_scaled'\n",
       "\\item 'TIM3\\%\\_scaled'\n",
       "\\item 'LAG3\\%\\_scaled'\n",
       "\\item 'ATC\\_scaled'\n",
       "\\item 'observed\\_Shannon\\_scaled'\n",
       "\\item 'cfShannon\\_scaled'\n",
       "\\end{enumerate*}\n"
      ],
      "text/markdown": [
       "1. 'EM%_scaled'\n",
       "2. 'CM%_scaled'\n",
       "3. 'Naïve%_scaled'\n",
       "4. 'SCM%_scaled'\n",
       "5. 'TE%_scaled'\n",
       "6. 'PD1%_scaled'\n",
       "7. 'TIM3%_scaled'\n",
       "8. 'LAG3%_scaled'\n",
       "9. 'ATC_scaled'\n",
       "10. 'observed_Shannon_scaled'\n",
       "11. 'cfShannon_scaled'\n",
       "\n",
       "\n"
      ],
      "text/plain": [
       " [1] \"EM%_scaled\"              \"CM%_scaled\"             \n",
       " [3] \"Naïve%_scaled\"           \"SCM%_scaled\"            \n",
       " [5] \"TE%_scaled\"              \"PD1%_scaled\"            \n",
       " [7] \"TIM3%_scaled\"            \"LAG3%_scaled\"           \n",
       " [9] \"ATC_scaled\"              \"observed_Shannon_scaled\"\n",
       "[11] \"cfShannon_scaled\"       "
      ]
     },
     "metadata": {},
     "output_type": "display_data"
    }
   ],
   "source": [
    "mycol"
   ]
  },
  {
   "cell_type": "code",
   "execution_count": 74,
   "metadata": {
    "vscode": {
     "languageId": "r"
    }
   },
   "outputs": [
    {
     "data": {
      "text/plain": [
       "\n",
       "           Leukemia            Lymphoma        Solid tumors T-cell malignancies \n",
       "                 31                  10                  19                   2 "
      ]
     },
     "metadata": {},
     "output_type": "display_data"
    }
   ],
   "source": [
    "table(df_x01$cancergroup)"
   ]
  },
  {
   "cell_type": "code",
   "execution_count": 75,
   "metadata": {
    "vscode": {
     "languageId": "r"
    }
   },
   "outputs": [],
   "source": [
    "df_x01_long <- tidyr::pivot_longer(df_x01, all_of(mycol), names_to = \"Feature\", values_to = \"X01\")"
   ]
  },
  {
   "cell_type": "code",
   "execution_count": 76,
   "metadata": {
    "vscode": {
     "languageId": "r"
    }
   },
   "outputs": [],
   "source": [
    "df_x01_long <- as.data.frame(df_x01_long)"
   ]
  },
  {
   "cell_type": "code",
   "execution_count": 77,
   "metadata": {
    "vscode": {
     "languageId": "r"
    }
   },
   "outputs": [],
   "source": [
    "df_x01_long_narm <- df_x01_long[ !is.na(df_x01_long$X01),]"
   ]
  },
  {
   "cell_type": "code",
   "execution_count": 78,
   "metadata": {
    "vscode": {
     "languageId": "r"
    }
   },
   "outputs": [
    {
     "data": {
      "text/html": [
       "<table class=\"dataframe\">\n",
       "<caption>A data.frame: 6 x 15</caption>\n",
       "<thead>\n",
       "\t<tr><th></th><th scope=col>Patient</th><th scope=col>ATC</th><th scope=col>Naïve%</th><th scope=col>SCM%</th><th scope=col>CM%</th><th scope=col>EM%</th><th scope=col>TE%</th><th scope=col>PD1%</th><th scope=col>LAG3%</th><th scope=col>TIM3%</th><th scope=col>observed_Shannon</th><th scope=col>cfShannon</th><th scope=col>cancergroup</th><th scope=col>Feature</th><th scope=col>X01</th></tr>\n",
       "\t<tr><th></th><th scope=col>&lt;chr&gt;</th><th scope=col>&lt;dbl&gt;</th><th scope=col>&lt;dbl&gt;</th><th scope=col>&lt;dbl&gt;</th><th scope=col>&lt;dbl&gt;</th><th scope=col>&lt;dbl&gt;</th><th scope=col>&lt;dbl&gt;</th><th scope=col>&lt;dbl&gt;</th><th scope=col>&lt;dbl&gt;</th><th scope=col>&lt;dbl&gt;</th><th scope=col>&lt;dbl&gt;</th><th scope=col>&lt;dbl&gt;</th><th scope=col>&lt;chr&gt;</th><th scope=col>&lt;chr&gt;</th><th scope=col>&lt;dbl&gt;</th></tr>\n",
       "</thead>\n",
       "<tbody>\n",
       "\t<tr><th scope=row>11</th><td>CHP_343</td><td>   NA</td><td>      NA</td><td>       NA</td><td>       NA</td><td>NA</td><td>      NA</td><td>      NA</td><td>      NA</td><td>      NA</td><td>    NA</td><td> 1.000</td><td>Solid tumors</td><td>cfShannon_scaled</td><td>-0.6939496</td></tr>\n",
       "\t<tr><th scope=row>22</th><td>CHP_344</td><td>   NA</td><td>      NA</td><td>       NA</td><td>       NA</td><td>NA</td><td>      NA</td><td>      NA</td><td>      NA</td><td>      NA</td><td>    NA</td><td> 6.587</td><td>Lymphoma    </td><td>cfShannon_scaled</td><td>-0.1264211</td></tr>\n",
       "\t<tr><th scope=row>33</th><td>CHP_345</td><td>   NA</td><td>      NA</td><td>       NA</td><td>       NA</td><td>NA</td><td>      NA</td><td>      NA</td><td>      NA</td><td>      NA</td><td>    NA</td><td>18.714</td><td>Leukemia    </td><td>cfShannon_scaled</td><td> 1.1054417</td></tr>\n",
       "\t<tr><th scope=row>34</th><td>CHP_346</td><td>331.7</td><td>94.66248</td><td>0.1569859</td><td>0.7849294</td><td> 0</td><td>4.395604</td><td>5.180534</td><td>3.767661</td><td>5.180534</td><td>29.129</td><td>    NA</td><td>Solid tumors</td><td>EM%_scaled      </td><td>-0.6665081</td></tr>\n",
       "\t<tr><th scope=row>35</th><td>CHP_346</td><td>331.7</td><td>94.66248</td><td>0.1569859</td><td>0.7849294</td><td> 0</td><td>4.395604</td><td>5.180534</td><td>3.767661</td><td>5.180534</td><td>29.129</td><td>    NA</td><td>Solid tumors</td><td>CM%_scaled      </td><td>-0.7547849</td></tr>\n",
       "\t<tr><th scope=row>36</th><td>CHP_346</td><td>331.7</td><td>94.66248</td><td>0.1569859</td><td>0.7849294</td><td> 0</td><td>4.395604</td><td>5.180534</td><td>3.767661</td><td>5.180534</td><td>29.129</td><td>    NA</td><td>Solid tumors</td><td>Naïve%_scaled   </td><td> 2.9439196</td></tr>\n",
       "</tbody>\n",
       "</table>\n"
      ],
      "text/latex": [
       "A data.frame: 6 x 15\n",
       "\\begin{tabular}{r|lllllllllllllll}\n",
       "  & Patient & ATC & Naïve\\% & SCM\\% & CM\\% & EM\\% & TE\\% & PD1\\% & LAG3\\% & TIM3\\% & observed\\_Shannon & cfShannon & cancergroup & Feature & X01\\\\\n",
       "  & <chr> & <dbl> & <dbl> & <dbl> & <dbl> & <dbl> & <dbl> & <dbl> & <dbl> & <dbl> & <dbl> & <dbl> & <chr> & <chr> & <dbl>\\\\\n",
       "\\hline\n",
       "\t11 & CHP\\_343 &    NA &       NA &        NA &        NA & NA &       NA &       NA &       NA &       NA &     NA &  1.000 & Solid tumors & cfShannon\\_scaled & -0.6939496\\\\\n",
       "\t22 & CHP\\_344 &    NA &       NA &        NA &        NA & NA &       NA &       NA &       NA &       NA &     NA &  6.587 & Lymphoma     & cfShannon\\_scaled & -0.1264211\\\\\n",
       "\t33 & CHP\\_345 &    NA &       NA &        NA &        NA & NA &       NA &       NA &       NA &       NA &     NA & 18.714 & Leukemia     & cfShannon\\_scaled &  1.1054417\\\\\n",
       "\t34 & CHP\\_346 & 331.7 & 94.66248 & 0.1569859 & 0.7849294 &  0 & 4.395604 & 5.180534 & 3.767661 & 5.180534 & 29.129 &     NA & Solid tumors & EM\\%\\_scaled       & -0.6665081\\\\\n",
       "\t35 & CHP\\_346 & 331.7 & 94.66248 & 0.1569859 & 0.7849294 &  0 & 4.395604 & 5.180534 & 3.767661 & 5.180534 & 29.129 &     NA & Solid tumors & CM\\%\\_scaled       & -0.7547849\\\\\n",
       "\t36 & CHP\\_346 & 331.7 & 94.66248 & 0.1569859 & 0.7849294 &  0 & 4.395604 & 5.180534 & 3.767661 & 5.180534 & 29.129 &     NA & Solid tumors & Naïve\\%\\_scaled    &  2.9439196\\\\\n",
       "\\end{tabular}\n"
      ],
      "text/markdown": [
       "\n",
       "A data.frame: 6 x 15\n",
       "\n",
       "| <!--/--> | Patient &lt;chr&gt; | ATC &lt;dbl&gt; | Naïve% &lt;dbl&gt; | SCM% &lt;dbl&gt; | CM% &lt;dbl&gt; | EM% &lt;dbl&gt; | TE% &lt;dbl&gt; | PD1% &lt;dbl&gt; | LAG3% &lt;dbl&gt; | TIM3% &lt;dbl&gt; | observed_Shannon &lt;dbl&gt; | cfShannon &lt;dbl&gt; | cancergroup &lt;chr&gt; | Feature &lt;chr&gt; | X01 &lt;dbl&gt; |\n",
       "|---|---|---|---|---|---|---|---|---|---|---|---|---|---|---|---|\n",
       "| 11 | CHP_343 |    NA |       NA |        NA |        NA | NA |       NA |       NA |       NA |       NA |     NA |  1.000 | Solid tumors | cfShannon_scaled | -0.6939496 |\n",
       "| 22 | CHP_344 |    NA |       NA |        NA |        NA | NA |       NA |       NA |       NA |       NA |     NA |  6.587 | Lymphoma     | cfShannon_scaled | -0.1264211 |\n",
       "| 33 | CHP_345 |    NA |       NA |        NA |        NA | NA |       NA |       NA |       NA |       NA |     NA | 18.714 | Leukemia     | cfShannon_scaled |  1.1054417 |\n",
       "| 34 | CHP_346 | 331.7 | 94.66248 | 0.1569859 | 0.7849294 |  0 | 4.395604 | 5.180534 | 3.767661 | 5.180534 | 29.129 |     NA | Solid tumors | EM%_scaled       | -0.6665081 |\n",
       "| 35 | CHP_346 | 331.7 | 94.66248 | 0.1569859 | 0.7849294 |  0 | 4.395604 | 5.180534 | 3.767661 | 5.180534 | 29.129 |     NA | Solid tumors | CM%_scaled       | -0.7547849 |\n",
       "| 36 | CHP_346 | 331.7 | 94.66248 | 0.1569859 | 0.7849294 |  0 | 4.395604 | 5.180534 | 3.767661 | 5.180534 | 29.129 |     NA | Solid tumors | Naïve%_scaled    |  2.9439196 |\n",
       "\n"
      ],
      "text/plain": [
       "   Patient ATC   Naïve%   SCM%      CM%       EM% TE%      PD1%     LAG3%   \n",
       "11 CHP_343    NA       NA        NA        NA NA        NA       NA       NA\n",
       "22 CHP_344    NA       NA        NA        NA NA        NA       NA       NA\n",
       "33 CHP_345    NA       NA        NA        NA NA        NA       NA       NA\n",
       "34 CHP_346 331.7 94.66248 0.1569859 0.7849294  0  4.395604 5.180534 3.767661\n",
       "35 CHP_346 331.7 94.66248 0.1569859 0.7849294  0  4.395604 5.180534 3.767661\n",
       "36 CHP_346 331.7 94.66248 0.1569859 0.7849294  0  4.395604 5.180534 3.767661\n",
       "   TIM3%    observed_Shannon cfShannon cancergroup  Feature          X01       \n",
       "11       NA     NA            1.000    Solid tumors cfShannon_scaled -0.6939496\n",
       "22       NA     NA            6.587    Lymphoma     cfShannon_scaled -0.1264211\n",
       "33       NA     NA           18.714    Leukemia     cfShannon_scaled  1.1054417\n",
       "34 5.180534 29.129               NA    Solid tumors EM%_scaled       -0.6665081\n",
       "35 5.180534 29.129               NA    Solid tumors CM%_scaled       -0.7547849\n",
       "36 5.180534 29.129               NA    Solid tumors Naïve%_scaled     2.9439196"
      ]
     },
     "metadata": {},
     "output_type": "display_data"
    }
   ],
   "source": [
    "head(df_x01_long_narm)"
   ]
  },
  {
   "cell_type": "markdown",
   "metadata": {},
   "source": [
    "Boxplot"
   ]
  },
  {
   "cell_type": "code",
   "execution_count": 79,
   "metadata": {
    "vscode": {
     "languageId": "r"
    }
   },
   "outputs": [],
   "source": [
    "# use scaled for viz\n",
    "df_x01_long_narm$Featurename <- gsub(\"_scaled\", \"\", df_x01_long_narm$Feature)"
   ]
  },
  {
   "cell_type": "code",
   "execution_count": 80,
   "metadata": {
    "vscode": {
     "languageId": "r"
    }
   },
   "outputs": [
    {
     "data": {
      "text/plain": [
       "\n",
       "             ATC        cfShannon              CM%              EM% \n",
       "              36               55               36               36 \n",
       "           LAG3%           Naïve% observed_Shannon             PD1% \n",
       "              34               36               44               34 \n",
       "            SCM%              TE%            TIM3% \n",
       "              36               36               34 "
      ]
     },
     "metadata": {},
     "output_type": "display_data"
    }
   ],
   "source": [
    "table(df_x01_long_narm$Featurename )"
   ]
  },
  {
   "cell_type": "code",
   "execution_count": 81,
   "metadata": {
    "vscode": {
     "languageId": "r"
    }
   },
   "outputs": [],
   "source": [
    "df_x01_long_narm$Featurename[ df_x01_long_narm$Featurename == \"cfShannon\"] <- \"cfTCR Shannon\"\n",
    "df_x01_long_narm$Featurename[ df_x01_long_narm$Featurename == \"observed_Shannon\"] <- \"TCR Shannon\""
   ]
  },
  {
   "cell_type": "code",
   "execution_count": 82,
   "metadata": {
    "vscode": {
     "languageId": "r"
    }
   },
   "outputs": [],
   "source": [
    "df_x01_long_narm$Featurename <- factor(df_x01_long_narm$Featurename,\n",
    "  levels = c(\n",
    "    \"cfTCR Shannon\", \"TCR Shannon\",\n",
    "    \"LAG3%\", \"TIM3%\", \"PD1%\", \"TE%\", \"EM%\", \"CM%\", \"SCM%\", \"Naïve%\", \"ATC\"\n",
    "  )\n",
    ")\n"
   ]
  },
  {
   "cell_type": "code",
   "execution_count": 83,
   "metadata": {
    "vscode": {
     "languageId": "r"
    }
   },
   "outputs": [
    {
     "data": {
      "text/html": [
       "<table class=\"dataframe\">\n",
       "<caption>A data.frame: 6 x 16</caption>\n",
       "<thead>\n",
       "\t<tr><th></th><th scope=col>Patient</th><th scope=col>ATC</th><th scope=col>Naïve%</th><th scope=col>SCM%</th><th scope=col>CM%</th><th scope=col>EM%</th><th scope=col>TE%</th><th scope=col>PD1%</th><th scope=col>LAG3%</th><th scope=col>TIM3%</th><th scope=col>observed_Shannon</th><th scope=col>cfShannon</th><th scope=col>cancergroup</th><th scope=col>Feature</th><th scope=col>X01</th><th scope=col>Featurename</th></tr>\n",
       "\t<tr><th></th><th scope=col>&lt;chr&gt;</th><th scope=col>&lt;dbl&gt;</th><th scope=col>&lt;dbl&gt;</th><th scope=col>&lt;dbl&gt;</th><th scope=col>&lt;dbl&gt;</th><th scope=col>&lt;dbl&gt;</th><th scope=col>&lt;dbl&gt;</th><th scope=col>&lt;dbl&gt;</th><th scope=col>&lt;dbl&gt;</th><th scope=col>&lt;dbl&gt;</th><th scope=col>&lt;dbl&gt;</th><th scope=col>&lt;dbl&gt;</th><th scope=col>&lt;chr&gt;</th><th scope=col>&lt;chr&gt;</th><th scope=col>&lt;dbl&gt;</th><th scope=col>&lt;fct&gt;</th></tr>\n",
       "</thead>\n",
       "<tbody>\n",
       "\t<tr><th scope=row>11</th><td>CHP_343</td><td>   NA</td><td>      NA</td><td>       NA</td><td>       NA</td><td>NA</td><td>      NA</td><td>      NA</td><td>      NA</td><td>      NA</td><td>    NA</td><td> 1.000</td><td>Solid tumors</td><td>cfShannon_scaled</td><td>-0.6939496</td><td>cfTCR Shannon</td></tr>\n",
       "\t<tr><th scope=row>22</th><td>CHP_344</td><td>   NA</td><td>      NA</td><td>       NA</td><td>       NA</td><td>NA</td><td>      NA</td><td>      NA</td><td>      NA</td><td>      NA</td><td>    NA</td><td> 6.587</td><td>Lymphoma    </td><td>cfShannon_scaled</td><td>-0.1264211</td><td>cfTCR Shannon</td></tr>\n",
       "\t<tr><th scope=row>33</th><td>CHP_345</td><td>   NA</td><td>      NA</td><td>       NA</td><td>       NA</td><td>NA</td><td>      NA</td><td>      NA</td><td>      NA</td><td>      NA</td><td>    NA</td><td>18.714</td><td>Leukemia    </td><td>cfShannon_scaled</td><td> 1.1054417</td><td>cfTCR Shannon</td></tr>\n",
       "\t<tr><th scope=row>34</th><td>CHP_346</td><td>331.7</td><td>94.66248</td><td>0.1569859</td><td>0.7849294</td><td> 0</td><td>4.395604</td><td>5.180534</td><td>3.767661</td><td>5.180534</td><td>29.129</td><td>    NA</td><td>Solid tumors</td><td>EM%_scaled      </td><td>-0.6665081</td><td>EM%          </td></tr>\n",
       "\t<tr><th scope=row>35</th><td>CHP_346</td><td>331.7</td><td>94.66248</td><td>0.1569859</td><td>0.7849294</td><td> 0</td><td>4.395604</td><td>5.180534</td><td>3.767661</td><td>5.180534</td><td>29.129</td><td>    NA</td><td>Solid tumors</td><td>CM%_scaled      </td><td>-0.7547849</td><td>CM%          </td></tr>\n",
       "\t<tr><th scope=row>36</th><td>CHP_346</td><td>331.7</td><td>94.66248</td><td>0.1569859</td><td>0.7849294</td><td> 0</td><td>4.395604</td><td>5.180534</td><td>3.767661</td><td>5.180534</td><td>29.129</td><td>    NA</td><td>Solid tumors</td><td>Naïve%_scaled   </td><td> 2.9439196</td><td>Naïve%       </td></tr>\n",
       "</tbody>\n",
       "</table>\n"
      ],
      "text/latex": [
       "A data.frame: 6 x 16\n",
       "\\begin{tabular}{r|llllllllllllllll}\n",
       "  & Patient & ATC & Naïve\\% & SCM\\% & CM\\% & EM\\% & TE\\% & PD1\\% & LAG3\\% & TIM3\\% & observed\\_Shannon & cfShannon & cancergroup & Feature & X01 & Featurename\\\\\n",
       "  & <chr> & <dbl> & <dbl> & <dbl> & <dbl> & <dbl> & <dbl> & <dbl> & <dbl> & <dbl> & <dbl> & <dbl> & <chr> & <chr> & <dbl> & <fct>\\\\\n",
       "\\hline\n",
       "\t11 & CHP\\_343 &    NA &       NA &        NA &        NA & NA &       NA &       NA &       NA &       NA &     NA &  1.000 & Solid tumors & cfShannon\\_scaled & -0.6939496 & cfTCR Shannon\\\\\n",
       "\t22 & CHP\\_344 &    NA &       NA &        NA &        NA & NA &       NA &       NA &       NA &       NA &     NA &  6.587 & Lymphoma     & cfShannon\\_scaled & -0.1264211 & cfTCR Shannon\\\\\n",
       "\t33 & CHP\\_345 &    NA &       NA &        NA &        NA & NA &       NA &       NA &       NA &       NA &     NA & 18.714 & Leukemia     & cfShannon\\_scaled &  1.1054417 & cfTCR Shannon\\\\\n",
       "\t34 & CHP\\_346 & 331.7 & 94.66248 & 0.1569859 & 0.7849294 &  0 & 4.395604 & 5.180534 & 3.767661 & 5.180534 & 29.129 &     NA & Solid tumors & EM\\%\\_scaled       & -0.6665081 & EM\\%          \\\\\n",
       "\t35 & CHP\\_346 & 331.7 & 94.66248 & 0.1569859 & 0.7849294 &  0 & 4.395604 & 5.180534 & 3.767661 & 5.180534 & 29.129 &     NA & Solid tumors & CM\\%\\_scaled       & -0.7547849 & CM\\%          \\\\\n",
       "\t36 & CHP\\_346 & 331.7 & 94.66248 & 0.1569859 & 0.7849294 &  0 & 4.395604 & 5.180534 & 3.767661 & 5.180534 & 29.129 &     NA & Solid tumors & Naïve\\%\\_scaled    &  2.9439196 & Naïve\\%       \\\\\n",
       "\\end{tabular}\n"
      ],
      "text/markdown": [
       "\n",
       "A data.frame: 6 x 16\n",
       "\n",
       "| <!--/--> | Patient &lt;chr&gt; | ATC &lt;dbl&gt; | Naïve% &lt;dbl&gt; | SCM% &lt;dbl&gt; | CM% &lt;dbl&gt; | EM% &lt;dbl&gt; | TE% &lt;dbl&gt; | PD1% &lt;dbl&gt; | LAG3% &lt;dbl&gt; | TIM3% &lt;dbl&gt; | observed_Shannon &lt;dbl&gt; | cfShannon &lt;dbl&gt; | cancergroup &lt;chr&gt; | Feature &lt;chr&gt; | X01 &lt;dbl&gt; | Featurename &lt;fct&gt; |\n",
       "|---|---|---|---|---|---|---|---|---|---|---|---|---|---|---|---|---|\n",
       "| 11 | CHP_343 |    NA |       NA |        NA |        NA | NA |       NA |       NA |       NA |       NA |     NA |  1.000 | Solid tumors | cfShannon_scaled | -0.6939496 | cfTCR Shannon |\n",
       "| 22 | CHP_344 |    NA |       NA |        NA |        NA | NA |       NA |       NA |       NA |       NA |     NA |  6.587 | Lymphoma     | cfShannon_scaled | -0.1264211 | cfTCR Shannon |\n",
       "| 33 | CHP_345 |    NA |       NA |        NA |        NA | NA |       NA |       NA |       NA |       NA |     NA | 18.714 | Leukemia     | cfShannon_scaled |  1.1054417 | cfTCR Shannon |\n",
       "| 34 | CHP_346 | 331.7 | 94.66248 | 0.1569859 | 0.7849294 |  0 | 4.395604 | 5.180534 | 3.767661 | 5.180534 | 29.129 |     NA | Solid tumors | EM%_scaled       | -0.6665081 | EM%           |\n",
       "| 35 | CHP_346 | 331.7 | 94.66248 | 0.1569859 | 0.7849294 |  0 | 4.395604 | 5.180534 | 3.767661 | 5.180534 | 29.129 |     NA | Solid tumors | CM%_scaled       | -0.7547849 | CM%           |\n",
       "| 36 | CHP_346 | 331.7 | 94.66248 | 0.1569859 | 0.7849294 |  0 | 4.395604 | 5.180534 | 3.767661 | 5.180534 | 29.129 |     NA | Solid tumors | Naïve%_scaled    |  2.9439196 | Naïve%        |\n",
       "\n"
      ],
      "text/plain": [
       "   Patient ATC   Naïve%   SCM%      CM%       EM% TE%      PD1%     LAG3%   \n",
       "11 CHP_343    NA       NA        NA        NA NA        NA       NA       NA\n",
       "22 CHP_344    NA       NA        NA        NA NA        NA       NA       NA\n",
       "33 CHP_345    NA       NA        NA        NA NA        NA       NA       NA\n",
       "34 CHP_346 331.7 94.66248 0.1569859 0.7849294  0  4.395604 5.180534 3.767661\n",
       "35 CHP_346 331.7 94.66248 0.1569859 0.7849294  0  4.395604 5.180534 3.767661\n",
       "36 CHP_346 331.7 94.66248 0.1569859 0.7849294  0  4.395604 5.180534 3.767661\n",
       "   TIM3%    observed_Shannon cfShannon cancergroup  Feature          X01       \n",
       "11       NA     NA            1.000    Solid tumors cfShannon_scaled -0.6939496\n",
       "22       NA     NA            6.587    Lymphoma     cfShannon_scaled -0.1264211\n",
       "33       NA     NA           18.714    Leukemia     cfShannon_scaled  1.1054417\n",
       "34 5.180534 29.129               NA    Solid tumors EM%_scaled       -0.6665081\n",
       "35 5.180534 29.129               NA    Solid tumors CM%_scaled       -0.7547849\n",
       "36 5.180534 29.129               NA    Solid tumors Naïve%_scaled     2.9439196\n",
       "   Featurename  \n",
       "11 cfTCR Shannon\n",
       "22 cfTCR Shannon\n",
       "33 cfTCR Shannon\n",
       "34 EM%          \n",
       "35 CM%          \n",
       "36 Naïve%       "
      ]
     },
     "metadata": {},
     "output_type": "display_data"
    }
   ],
   "source": [
    "head(df_x01_long_narm)"
   ]
  },
  {
   "cell_type": "code",
   "execution_count": 84,
   "metadata": {
    "vscode": {
     "languageId": "r"
    }
   },
   "outputs": [],
   "source": [
    "p2 <- ggplot(df_x01_long_narm, aes(y = Featurename, x = X01)) +\n",
    "        geom_point(aes(color = cancergroup), position = position_jitter(w = 0.05, h = 0.15)) +\n",
    "        geom_boxplot(outlier.shape = NA, alpha = 0, color = \"#b7b2b2\") +\n",
    "        myaxis +\n",
    "        myplot +\n",
    "        scale_color_manual(values = group_col) +\n",
    "        theme(legend.position = \"none\", axis.title = element_blank(), axis.text.x = element_text(angle = 0, hjust = 0.5)) +\n",
    "        labs(title = \"Scaled pre-therapy values\")\n"
   ]
  },
  {
   "cell_type": "code",
   "execution_count": 85,
   "metadata": {
    "vscode": {
     "languageId": "r"
    }
   },
   "outputs": [
    {
     "data": {
      "image/png": "[encoded data removed]",
      "text/plain": [
       "plot without title"
      ]
     },
     "metadata": {
      "image/png": {
       "height": 420,
       "width": 420
      }
     },
     "output_type": "display_data"
    }
   ],
   "source": [
    "p2"
   ]
  },
  {
   "cell_type": "code",
   "execution_count": 96,
   "metadata": {
    "vscode": {
     "languageId": "r"
    }
   },
   "outputs": [
    {
     "data": {
      "text/html": [
       "<strong>pdf:</strong> 2"
      ],
      "text/latex": [
       "\\textbf{pdf:} 2"
      ],
      "text/markdown": [
       "**pdf:** 2"
      ],
      "text/plain": [
       "pdf \n",
       "  2 "
      ]
     },
     "metadata": {},
     "output_type": "display_data"
    }
   ],
   "source": [
    "pdf( paste0(plotpath, \"X01.pdf\"), width = 6, height = 8)\n",
    "cowplot::plot_grid(p2, labels = \"A\")# + theme(legend.position = \"bottom\")\n",
    "dev.off()"
   ]
  },
  {
   "cell_type": "markdown",
   "metadata": {},
   "source": [
    "LR and forestplot"
   ]
  },
  {
   "cell_type": "markdown",
   "metadata": {},
   "source": [
    "Use unscaled data for glm"
   ]
  },
  {
   "cell_type": "code",
   "execution_count": 86,
   "metadata": {
    "vscode": {
     "languageId": "r"
    }
   },
   "outputs": [],
   "source": [
    "mycol <- c(\n",
    "  \"cfShannon\", \"observed_Shannon\",\n",
    "  \"LAG3%\", \"TIM3%\", \"PD1%\", \"TE%\", \"EM%\", \"CM%\", \"SCM%\", \"Naïve%\", \"ATC\"\n",
    ")\n"
   ]
  },
  {
   "cell_type": "code",
   "execution_count": 87,
   "metadata": {
    "vscode": {
     "languageId": "r"
    }
   },
   "outputs": [
    {
     "data": {
      "text/html": [
       "<style>\n",
       ".list-inline {list-style: none; margin:0; padding: 0}\n",
       ".list-inline>li {display: inline-block}\n",
       ".list-inline>li:not(:last-child)::after {content: \"\\00b7\"; padding: 0 .5ex}\n",
       "</style>\n",
       "<ol class=list-inline><li>'Patient'</li><li>'ATC'</li><li>'Naïve%'</li><li>'SCM%'</li><li>'CM%'</li><li>'EM%'</li><li>'TE%'</li><li>'PD1%'</li><li>'LAG3%'</li><li>'TIM3%'</li><li>'observed_Shannon'</li><li>'cfShannon'</li><li>'cancergroup'</li><li>'EM%_scaled'</li><li>'CM%_scaled'</li><li>'Naïve%_scaled'</li><li>'SCM%_scaled'</li><li>'TE%_scaled'</li><li>'PD1%_scaled'</li><li>'TIM3%_scaled'</li><li>'LAG3%_scaled'</li><li>'ATC_scaled'</li><li>'observed_Shannon_scaled'</li><li>'cfShannon_scaled'</li></ol>\n"
      ],
      "text/latex": [
       "\\begin{enumerate*}\n",
       "\\item 'Patient'\n",
       "\\item 'ATC'\n",
       "\\item 'Naïve\\%'\n",
       "\\item 'SCM\\%'\n",
       "\\item 'CM\\%'\n",
       "\\item 'EM\\%'\n",
       "\\item 'TE\\%'\n",
       "\\item 'PD1\\%'\n",
       "\\item 'LAG3\\%'\n",
       "\\item 'TIM3\\%'\n",
       "\\item 'observed\\_Shannon'\n",
       "\\item 'cfShannon'\n",
       "\\item 'cancergroup'\n",
       "\\item 'EM\\%\\_scaled'\n",
       "\\item 'CM\\%\\_scaled'\n",
       "\\item 'Naïve\\%\\_scaled'\n",
       "\\item 'SCM\\%\\_scaled'\n",
       "\\item 'TE\\%\\_scaled'\n",
       "\\item 'PD1\\%\\_scaled'\n",
       "\\item 'TIM3\\%\\_scaled'\n",
       "\\item 'LAG3\\%\\_scaled'\n",
       "\\item 'ATC\\_scaled'\n",
       "\\item 'observed\\_Shannon\\_scaled'\n",
       "\\item 'cfShannon\\_scaled'\n",
       "\\end{enumerate*}\n"
      ],
      "text/markdown": [
       "1. 'Patient'\n",
       "2. 'ATC'\n",
       "3. 'Naïve%'\n",
       "4. 'SCM%'\n",
       "5. 'CM%'\n",
       "6. 'EM%'\n",
       "7. 'TE%'\n",
       "8. 'PD1%'\n",
       "9. 'LAG3%'\n",
       "10. 'TIM3%'\n",
       "11. 'observed_Shannon'\n",
       "12. 'cfShannon'\n",
       "13. 'cancergroup'\n",
       "14. 'EM%_scaled'\n",
       "15. 'CM%_scaled'\n",
       "16. 'Naïve%_scaled'\n",
       "17. 'SCM%_scaled'\n",
       "18. 'TE%_scaled'\n",
       "19. 'PD1%_scaled'\n",
       "20. 'TIM3%_scaled'\n",
       "21. 'LAG3%_scaled'\n",
       "22. 'ATC_scaled'\n",
       "23. 'observed_Shannon_scaled'\n",
       "24. 'cfShannon_scaled'\n",
       "\n",
       "\n"
      ],
      "text/plain": [
       " [1] \"Patient\"                 \"ATC\"                    \n",
       " [3] \"Naïve%\"                  \"SCM%\"                   \n",
       " [5] \"CM%\"                     \"EM%\"                    \n",
       " [7] \"TE%\"                     \"PD1%\"                   \n",
       " [9] \"LAG3%\"                   \"TIM3%\"                  \n",
       "[11] \"observed_Shannon\"        \"cfShannon\"              \n",
       "[13] \"cancergroup\"             \"EM%_scaled\"             \n",
       "[15] \"CM%_scaled\"              \"Naïve%_scaled\"          \n",
       "[17] \"SCM%_scaled\"             \"TE%_scaled\"             \n",
       "[19] \"PD1%_scaled\"             \"TIM3%_scaled\"           \n",
       "[21] \"LAG3%_scaled\"            \"ATC_scaled\"             \n",
       "[23] \"observed_Shannon_scaled\" \"cfShannon_scaled\"       "
      ]
     },
     "metadata": {},
     "output_type": "display_data"
    }
   ],
   "source": [
    "colnames(df_x01)"
   ]
  },
  {
   "cell_type": "code",
   "execution_count": 88,
   "metadata": {
    "vscode": {
     "languageId": "r"
    }
   },
   "outputs": [
    {
     "data": {
      "text/html": [
       "<style>\n",
       ".list-inline {list-style: none; margin:0; padding: 0}\n",
       ".list-inline>li {display: inline-block}\n",
       ".list-inline>li:not(:last-child)::after {content: \"\\00b7\"; padding: 0 .5ex}\n",
       "</style>\n",
       "<ol class=list-inline><li>'ATC'</li><li>'Naïve%'</li><li>'SCM%'</li><li>'CM%'</li><li>'EM%'</li><li>'TE%'</li><li>'PD1%'</li><li>'TIM3%'</li><li>'LAG3%'</li><li>'observed_Shannon'</li><li>'cfShannon'</li></ol>\n"
      ],
      "text/latex": [
       "\\begin{enumerate*}\n",
       "\\item 'ATC'\n",
       "\\item 'Naïve\\%'\n",
       "\\item 'SCM\\%'\n",
       "\\item 'CM\\%'\n",
       "\\item 'EM\\%'\n",
       "\\item 'TE\\%'\n",
       "\\item 'PD1\\%'\n",
       "\\item 'TIM3\\%'\n",
       "\\item 'LAG3\\%'\n",
       "\\item 'observed\\_Shannon'\n",
       "\\item 'cfShannon'\n",
       "\\end{enumerate*}\n"
      ],
      "text/markdown": [
       "1. 'ATC'\n",
       "2. 'Naïve%'\n",
       "3. 'SCM%'\n",
       "4. 'CM%'\n",
       "5. 'EM%'\n",
       "6. 'TE%'\n",
       "7. 'PD1%'\n",
       "8. 'TIM3%'\n",
       "9. 'LAG3%'\n",
       "10. 'observed_Shannon'\n",
       "11. 'cfShannon'\n",
       "\n",
       "\n"
      ],
      "text/plain": [
       " [1] \"ATC\"              \"Naïve%\"           \"SCM%\"             \"CM%\"             \n",
       " [5] \"EM%\"              \"TE%\"              \"PD1%\"             \"TIM3%\"           \n",
       " [9] \"LAG3%\"            \"observed_Shannon\" \"cfShannon\"       "
      ]
     },
     "metadata": {},
     "output_type": "display_data"
    }
   ],
   "source": [
    "rev(mycol)"
   ]
  },
  {
   "cell_type": "code",
   "execution_count": 89,
   "metadata": {
    "vscode": {
     "languageId": "r"
    }
   },
   "outputs": [],
   "source": [
    "df_x01$Relapse <- pbmc$Relapse[ match(df_x01$Patient, pbmc$Patient) ]"
   ]
  },
  {
   "cell_type": "code",
   "execution_count": 90,
   "metadata": {
    "vscode": {
     "languageId": "r"
    }
   },
   "outputs": [],
   "source": [
    "df_x01_long <- tidyr::pivot_longer(df_x01, all_of(rev(mycol)), names_to = \"Feature\", values_to = \"X01\")"
   ]
  },
  {
   "cell_type": "code",
   "execution_count": 91,
   "metadata": {
    "vscode": {
     "languageId": "r"
    }
   },
   "outputs": [],
   "source": [
    "df_x01_long <- as.data.frame(df_x01_long)"
   ]
  },
  {
   "cell_type": "code",
   "execution_count": 92,
   "metadata": {
    "vscode": {
     "languageId": "r"
    }
   },
   "outputs": [],
   "source": [
    "df_x01_long_narm <- df_x01_long[ !is.na(df_x01_long$X01),]"
   ]
  },
  {
   "cell_type": "code",
   "execution_count": 93,
   "metadata": {
    "vscode": {
     "languageId": "r"
    }
   },
   "outputs": [
    {
     "data": {
      "text/html": [
       "67"
      ],
      "text/latex": [
       "67"
      ],
      "text/markdown": [
       "67"
      ],
      "text/plain": [
       "[1] 67"
      ]
     },
     "metadata": {},
     "output_type": "display_data"
    }
   ],
   "source": [
    "length(unique(df_x01_long_narm$Patient))"
   ]
  },
  {
   "cell_type": "code",
   "execution_count": null,
   "metadata": {
    "vscode": {
     "languageId": "r"
    }
   },
   "outputs": [],
   "source": []
  },
  {
   "cell_type": "code",
   "execution_count": 94,
   "metadata": {
    "vscode": {
     "languageId": "r"
    }
   },
   "outputs": [],
   "source": [
    "feat_lr_mat <- matrix(nrow = length(unique(df_x01_long_narm$Feature)), ncol = 7)\n",
    "rownames(feat_lr_mat) <- unique(df_x01_long_narm$Feature)\n",
    "colnames(feat_lr_mat) <- c('coef', 'exp(coef)', 'SE', 'z', 'Pr(>|z|)', 'lower.95' ,'upper.95')"
   ]
  },
  {
   "cell_type": "code",
   "execution_count": 95,
   "metadata": {
    "vscode": {
     "languageId": "r"
    }
   },
   "outputs": [
    {
     "name": "stdout",
     "output_type": "stream",
     "text": [
      "\n",
      "Call:\n",
      "glm(formula = f, family = \"binomial\", data = df_x01)\n",
      "\n",
      "Deviance Residuals: \n",
      "    Min       1Q   Median       3Q      Max  \n",
      "-0.8679  -0.6594  -0.6403  -0.6311   1.8503  \n",
      "\n",
      "Coefficients:\n",
      "            Estimate Std. Error z value Pr(>|z|)    \n",
      "(Intercept) -1.52935    0.45859  -3.335 0.000853 ***\n",
      "cfShannon    0.01669    0.03207   0.520 0.602730    \n",
      "---\n",
      "Signif. codes:  0 ‘***’ 0.001 ‘**’ 0.01 ‘*’ 0.05 ‘.’ 0.1 ‘ ’ 1\n",
      "\n",
      "(Dispersion parameter for binomial family taken to be 1)\n",
      "\n",
      "    Null deviance: 50.040  on 49  degrees of freedom\n",
      "Residual deviance: 49.783  on 48  degrees of freedom\n",
      "  (17 observations deleted due to missingness)\n",
      "AIC: 53.783\n",
      "\n",
      "Number of Fisher Scoring iterations: 4\n",
      "\n",
      "\n",
      "Call:\n",
      "glm(formula = f, family = \"binomial\", data = df_x01)\n",
      "\n",
      "Deviance Residuals: \n",
      "    Min       1Q   Median       3Q      Max  \n",
      "-0.5628  -0.5609  -0.5546  -0.5274   2.0420  \n",
      "\n",
      "Coefficients:\n",
      "              Estimate Std. Error z value Pr(>|z|)   \n",
      "(Intercept) -1.762e+00  5.770e-01  -3.055  0.00225 **\n",
      "ATC         -6.016e-05  3.235e-04  -0.186  0.85247   \n",
      "---\n",
      "Signif. codes:  0 ‘***’ 0.001 ‘**’ 0.01 ‘*’ 0.05 ‘.’ 0.1 ‘ ’ 1\n",
      "\n",
      "(Dispersion parameter for binomial family taken to be 1)\n",
      "\n",
      "    Null deviance: 29.012  on 35  degrees of freedom\n",
      "Residual deviance: 28.975  on 34  degrees of freedom\n",
      "  (31 observations deleted due to missingness)\n",
      "AIC: 32.975\n",
      "\n",
      "Number of Fisher Scoring iterations: 4\n",
      "\n",
      "\n",
      "Call:\n",
      "glm(formula = f, family = \"binomial\", data = df_x01)\n",
      "\n",
      "Deviance Residuals: \n",
      "    Min       1Q   Median       3Q      Max  \n",
      "-0.6656  -0.5872  -0.5299  -0.4386   2.1699  \n",
      "\n",
      "Coefficients:\n",
      "            Estimate Std. Error z value Pr(>|z|)  \n",
      "(Intercept) -1.39013    0.72777  -1.910   0.0561 .\n",
      "`Naïve%`    -0.01815    0.02567  -0.707   0.4795  \n",
      "---\n",
      "Signif. codes:  0 ‘***’ 0.001 ‘**’ 0.01 ‘*’ 0.05 ‘.’ 0.1 ‘ ’ 1\n",
      "\n",
      "(Dispersion parameter for binomial family taken to be 1)\n",
      "\n",
      "    Null deviance: 29.012  on 35  degrees of freedom\n",
      "Residual deviance: 28.439  on 34  degrees of freedom\n",
      "  (31 observations deleted due to missingness)\n",
      "AIC: 32.439\n",
      "\n",
      "Number of Fisher Scoring iterations: 5\n",
      "\n",
      "\n",
      "Call:\n",
      "glm(formula = f, family = \"binomial\", data = df_x01)\n",
      "\n",
      "Deviance Residuals: \n",
      "    Min       1Q   Median       3Q      Max  \n",
      "-0.8178  -0.5776  -0.4499  -0.3946   2.2668  \n",
      "\n",
      "Coefficients:\n",
      "            Estimate Std. Error z value Pr(>|z|)   \n",
      "(Intercept) -2.56200    0.84234  -3.042  0.00235 **\n",
      "`SCM%`       0.09708    0.07782   1.248  0.21218   \n",
      "---\n",
      "Signif. codes:  0 ‘***’ 0.001 ‘**’ 0.01 ‘*’ 0.05 ‘.’ 0.1 ‘ ’ 1\n",
      "\n",
      "(Dispersion parameter for binomial family taken to be 1)\n",
      "\n",
      "    Null deviance: 29.012  on 35  degrees of freedom\n",
      "Residual deviance: 27.474  on 34  degrees of freedom\n",
      "  (31 observations deleted due to missingness)\n",
      "AIC: 31.474\n",
      "\n",
      "Number of Fisher Scoring iterations: 5\n",
      "\n",
      "\n",
      "Call:\n",
      "glm(formula = f, family = \"binomial\", data = df_x01)\n",
      "\n",
      "Deviance Residuals: \n",
      "    Min       1Q   Median       3Q      Max  \n",
      "-0.6328  -0.6125  -0.5688  -0.3626   2.0689  \n",
      "\n",
      "Coefficients:\n",
      "            Estimate Std. Error z value Pr(>|z|)  \n",
      "(Intercept) -1.49901    0.61222  -2.448   0.0143 *\n",
      "`CM%`       -0.04615    0.06484  -0.712   0.4766  \n",
      "---\n",
      "Signif. codes:  0 ‘***’ 0.001 ‘**’ 0.01 ‘*’ 0.05 ‘.’ 0.1 ‘ ’ 1\n",
      "\n",
      "(Dispersion parameter for binomial family taken to be 1)\n",
      "\n",
      "    Null deviance: 29.012  on 35  degrees of freedom\n",
      "Residual deviance: 28.369  on 34  degrees of freedom\n",
      "  (31 observations deleted due to missingness)\n",
      "AIC: 32.369\n",
      "\n",
      "Number of Fisher Scoring iterations: 5\n",
      "\n",
      "\n",
      "Call:\n",
      "glm(formula = f, family = \"binomial\", data = df_x01)\n",
      "\n",
      "Deviance Residuals: \n",
      "    Min       1Q   Median       3Q      Max  \n",
      "-0.5887  -0.5878  -0.5586  -0.4596   2.0940  \n",
      "\n",
      "Coefficients:\n",
      "            Estimate Std. Error z value Pr(>|z|)   \n",
      "(Intercept) -1.66498    0.56978  -2.922  0.00348 **\n",
      "`EM%`       -0.03997    0.08775  -0.455  0.64876   \n",
      "---\n",
      "Signif. codes:  0 ‘***’ 0.001 ‘**’ 0.01 ‘*’ 0.05 ‘.’ 0.1 ‘ ’ 1\n",
      "\n",
      "(Dispersion parameter for binomial family taken to be 1)\n",
      "\n",
      "    Null deviance: 29.012  on 35  degrees of freedom\n",
      "Residual deviance: 28.769  on 34  degrees of freedom\n",
      "  (31 observations deleted due to missingness)\n",
      "AIC: 32.769\n",
      "\n",
      "Number of Fisher Scoring iterations: 5\n",
      "\n",
      "\n",
      "Call:\n",
      "glm(formula = f, family = \"binomial\", data = df_x01)\n",
      "\n",
      "Deviance Residuals: \n",
      "    Min       1Q   Median       3Q      Max  \n",
      "-0.6896  -0.6150  -0.4900  -0.4414   2.1275  \n",
      "\n",
      "Coefficients:\n",
      "            Estimate Std. Error z value Pr(>|z|)  \n",
      "(Intercept) -2.51993    1.19095  -2.116   0.0344 *\n",
      "`TE%`        0.01223    0.01806   0.677   0.4986  \n",
      "---\n",
      "Signif. codes:  0 ‘***’ 0.001 ‘**’ 0.01 ‘*’ 0.05 ‘.’ 0.1 ‘ ’ 1\n",
      "\n",
      "(Dispersion parameter for binomial family taken to be 1)\n",
      "\n",
      "    Null deviance: 29.012  on 35  degrees of freedom\n",
      "Residual deviance: 28.534  on 34  degrees of freedom\n",
      "  (31 observations deleted due to missingness)\n",
      "AIC: 32.534\n",
      "\n",
      "Number of Fisher Scoring iterations: 4\n",
      "\n",
      "\n",
      "Call:\n",
      "glm(formula = f, family = \"binomial\", data = df_x01)\n",
      "\n",
      "Deviance Residuals: \n",
      "    Min       1Q   Median       3Q      Max  \n",
      "-0.6099  -0.5902  -0.5629  -0.4941   2.0458  \n",
      "\n",
      "Coefficients:\n",
      "            Estimate Std. Error z value Pr(>|z|)  \n",
      "(Intercept) -1.57646    0.74779  -2.108    0.035 *\n",
      "`PD1%`      -0.01792    0.05892  -0.304    0.761  \n",
      "---\n",
      "Signif. codes:  0 ‘***’ 0.001 ‘**’ 0.01 ‘*’ 0.05 ‘.’ 0.1 ‘ ’ 1\n",
      "\n",
      "(Dispersion parameter for binomial family taken to be 1)\n",
      "\n",
      "    Null deviance: 28.395  on 33  degrees of freedom\n",
      "Residual deviance: 28.298  on 32  degrees of freedom\n",
      "  (33 observations deleted due to missingness)\n",
      "AIC: 32.298\n",
      "\n",
      "Number of Fisher Scoring iterations: 4\n",
      "\n",
      "\n",
      "Call:\n",
      "glm(formula = f, family = \"binomial\", data = df_x01)\n",
      "\n",
      "Deviance Residuals: \n",
      "    Min       1Q   Median       3Q      Max  \n",
      "-0.6099  -0.5902  -0.5629  -0.4941   2.0458  \n",
      "\n",
      "Coefficients:\n",
      "            Estimate Std. Error z value Pr(>|z|)  \n",
      "(Intercept) -1.57646    0.74779  -2.108    0.035 *\n",
      "`TIM3%`     -0.01792    0.05892  -0.304    0.761  \n",
      "---\n",
      "Signif. codes:  0 ‘***’ 0.001 ‘**’ 0.01 ‘*’ 0.05 ‘.’ 0.1 ‘ ’ 1\n",
      "\n",
      "(Dispersion parameter for binomial family taken to be 1)\n",
      "\n",
      "    Null deviance: 28.395  on 33  degrees of freedom\n",
      "Residual deviance: 28.298  on 32  degrees of freedom\n",
      "  (33 observations deleted due to missingness)\n",
      "AIC: 32.298\n",
      "\n",
      "Number of Fisher Scoring iterations: 4\n",
      "\n",
      "\n",
      "Call:\n",
      "glm(formula = f, family = \"binomial\", data = df_x01)\n",
      "\n",
      "Deviance Residuals: \n",
      "    Min       1Q   Median       3Q      Max  \n",
      "-0.8774  -0.6926  -0.4349  -0.2226   2.2653  \n",
      "\n",
      "Coefficients:\n",
      "            Estimate Std. Error z value Pr(>|z|)\n",
      "(Intercept)  -0.6950     0.7727  -0.899    0.368\n",
      "`LAG3%`      -0.1635     0.1207  -1.354    0.176\n",
      "\n",
      "(Dispersion parameter for binomial family taken to be 1)\n",
      "\n",
      "    Null deviance: 28.395  on 33  degrees of freedom\n",
      "Residual deviance: 25.541  on 32  degrees of freedom\n",
      "  (33 observations deleted due to missingness)\n",
      "AIC: 29.541\n",
      "\n",
      "Number of Fisher Scoring iterations: 6\n",
      "\n",
      "\n",
      "Call:\n",
      "glm(formula = f, family = \"binomial\", data = df_x01)\n",
      "\n",
      "Deviance Residuals: \n",
      "    Min       1Q   Median       3Q      Max  \n",
      "-0.6084  -0.5930  -0.5524  -0.4053   2.0552  \n",
      "\n",
      "Coefficients:\n",
      "                  Estimate Std. Error z value Pr(>|z|)   \n",
      "(Intercept)      -1.590771   0.566286  -2.809  0.00497 **\n",
      "observed_Shannon -0.002195   0.003521  -0.623  0.53298   \n",
      "---\n",
      "Signif. codes:  0 ‘***’ 0.001 ‘**’ 0.01 ‘*’ 0.05 ‘.’ 0.1 ‘ ’ 1\n",
      "\n",
      "(Dispersion parameter for binomial family taken to be 1)\n",
      "\n",
      "    Null deviance: 35.051  on 43  degrees of freedom\n",
      "Residual deviance: 34.604  on 42  degrees of freedom\n",
      "  (23 observations deleted due to missingness)\n",
      "AIC: 38.604\n",
      "\n",
      "Number of Fisher Scoring iterations: 5\n",
      "\n"
     ]
    }
   ],
   "source": [
    "for (i in rownames(feat_lr_mat)) {\n",
    "    # message(i)\n",
    "    f <- as.formula(paste0(\"Relapse~`\", i, \"`\")) # univariate\n",
    "    lrmodel <- glm(f, data = df_x01, family = \"binomial\")\n",
    "    sumlrmodel <- summary(lrmodel)\n",
    "    print(sumlrmodel)\n",
    "    myCI <- exp(confint.default(lrmodel, level = 0.95))\n",
    "\n",
    "    feat_lr_mat[i, \"coef\"] <- sumlrmodel$coefficients[2, \"Estimate\"]\n",
    "    # exp of estimate is the odds ratio\n",
    "    feat_lr_mat[i, \"exp(coef)\"] <- exp(sumlrmodel$coefficients[2, \"Estimate\"])\n",
    "    feat_lr_mat[i, \"SE\"] <- sumlrmodel$coefficients[2, \"Std. Error\"]\n",
    "    feat_lr_mat[i, \"z\"] <- sumlrmodel$coefficients[2, \"z value\"]\n",
    "    feat_lr_mat[i, \"Pr(>|z|)\"] <- sumlrmodel$coefficients[2, \"Pr(>|z|)\"]\n",
    "    # from myCI\n",
    "    feat_lr_mat[i, \"lower.95\"] <- myCI[2, 1]\n",
    "    feat_lr_mat[i, \"upper.95\"] <- myCI[2, 2]\n",
    "}\n"
   ]
  },
  {
   "cell_type": "code",
   "execution_count": 96,
   "metadata": {
    "vscode": {
     "languageId": "r"
    }
   },
   "outputs": [
    {
     "data": {
      "text/html": [
       "<table class=\"dataframe\">\n",
       "<caption>A matrix: 11 x 7 of type dbl</caption>\n",
       "<thead>\n",
       "\t<tr><th></th><th scope=col>coef</th><th scope=col>exp(coef)</th><th scope=col>SE</th><th scope=col>z</th><th scope=col>Pr(&gt;|z|)</th><th scope=col>lower.95</th><th scope=col>upper.95</th></tr>\n",
       "</thead>\n",
       "<tbody>\n",
       "\t<tr><th scope=row>cfShannon</th><td> 1.669401e-02</td><td>1.0168341</td><td>0.0320743203</td><td> 0.5204789</td><td>0.6027298</td><td>0.9548791</td><td>1.082809</td></tr>\n",
       "\t<tr><th scope=row>ATC</th><td>-6.016068e-05</td><td>0.9999398</td><td>0.0003235089</td><td>-0.1859630</td><td>0.8524738</td><td>0.9993060</td><td>1.000574</td></tr>\n",
       "\t<tr><th scope=row>Naïve%</th><td>-1.815077e-02</td><td>0.9820130</td><td>0.0256694014</td><td>-0.7070973</td><td>0.4795060</td><td>0.9338291</td><td>1.032683</td></tr>\n",
       "\t<tr><th scope=row>SCM%</th><td> 9.708357e-02</td><td>1.1019525</td><td>0.0778165996</td><td> 1.2475946</td><td>0.2121796</td><td>0.9460743</td><td>1.283514</td></tr>\n",
       "\t<tr><th scope=row>CM%</th><td>-4.614661e-02</td><td>0.9549020</td><td>0.0648385012</td><td>-0.7117162</td><td>0.4766406</td><td>0.8409461</td><td>1.084300</td></tr>\n",
       "\t<tr><th scope=row>EM%</th><td>-3.996647e-02</td><td>0.9608217</td><td>0.0877453743</td><td>-0.4554823</td><td>0.6487623</td><td>0.8090098</td><td>1.141121</td></tr>\n",
       "\t<tr><th scope=row>TE%</th><td> 1.222561e-02</td><td>1.0123007</td><td>0.0180647726</td><td> 0.6767654</td><td>0.4985548</td><td>0.9770859</td><td>1.048785</td></tr>\n",
       "\t<tr><th scope=row>PD1%</th><td>-1.791591e-02</td><td>0.9822436</td><td>0.0589187926</td><td>-0.3040780</td><td>0.7610685</td><td>0.8751197</td><td>1.102481</td></tr>\n",
       "\t<tr><th scope=row>TIM3%</th><td>-1.791591e-02</td><td>0.9822436</td><td>0.0589187926</td><td>-0.3040780</td><td>0.7610685</td><td>0.8751197</td><td>1.102481</td></tr>\n",
       "\t<tr><th scope=row>LAG3%</th><td>-1.634537e-01</td><td>0.8492059</td><td>0.1206879623</td><td>-1.3543493</td><td>0.1756250</td><td>0.6703216</td><td>1.075828</td></tr>\n",
       "\t<tr><th scope=row>observed_Shannon</th><td>-2.195215e-03</td><td>0.9978072</td><td>0.0035209960</td><td>-0.6234643</td><td>0.5329795</td><td>0.9909450</td><td>1.004717</td></tr>\n",
       "</tbody>\n",
       "</table>\n"
      ],
      "text/latex": [
       "A matrix: 11 x 7 of type dbl\n",
       "\\begin{tabular}{r|lllllll}\n",
       "  & coef & exp(coef) & SE & z & Pr(>\\textbar{}z\\textbar{}) & lower.95 & upper.95\\\\\n",
       "\\hline\n",
       "\tcfShannon &  1.669401e-02 & 1.0168341 & 0.0320743203 &  0.5204789 & 0.6027298 & 0.9548791 & 1.082809\\\\\n",
       "\tATC & -6.016068e-05 & 0.9999398 & 0.0003235089 & -0.1859630 & 0.8524738 & 0.9993060 & 1.000574\\\\\n",
       "\tNaïve\\% & -1.815077e-02 & 0.9820130 & 0.0256694014 & -0.7070973 & 0.4795060 & 0.9338291 & 1.032683\\\\\n",
       "\tSCM\\% &  9.708357e-02 & 1.1019525 & 0.0778165996 &  1.2475946 & 0.2121796 & 0.9460743 & 1.283514\\\\\n",
       "\tCM\\% & -4.614661e-02 & 0.9549020 & 0.0648385012 & -0.7117162 & 0.4766406 & 0.8409461 & 1.084300\\\\\n",
       "\tEM\\% & -3.996647e-02 & 0.9608217 & 0.0877453743 & -0.4554823 & 0.6487623 & 0.8090098 & 1.141121\\\\\n",
       "\tTE\\% &  1.222561e-02 & 1.0123007 & 0.0180647726 &  0.6767654 & 0.4985548 & 0.9770859 & 1.048785\\\\\n",
       "\tPD1\\% & -1.791591e-02 & 0.9822436 & 0.0589187926 & -0.3040780 & 0.7610685 & 0.8751197 & 1.102481\\\\\n",
       "\tTIM3\\% & -1.791591e-02 & 0.9822436 & 0.0589187926 & -0.3040780 & 0.7610685 & 0.8751197 & 1.102481\\\\\n",
       "\tLAG3\\% & -1.634537e-01 & 0.8492059 & 0.1206879623 & -1.3543493 & 0.1756250 & 0.6703216 & 1.075828\\\\\n",
       "\tobserved\\_Shannon & -2.195215e-03 & 0.9978072 & 0.0035209960 & -0.6234643 & 0.5329795 & 0.9909450 & 1.004717\\\\\n",
       "\\end{tabular}\n"
      ],
      "text/markdown": [
       "\n",
       "A matrix: 11 x 7 of type dbl\n",
       "\n",
       "| <!--/--> | coef | exp(coef) | SE | z | Pr(&gt;|z|) | lower.95 | upper.95 |\n",
       "|---|---|---|---|---|---|---|---|\n",
       "| cfShannon |  1.669401e-02 | 1.0168341 | 0.0320743203 |  0.5204789 | 0.6027298 | 0.9548791 | 1.082809 |\n",
       "| ATC | -6.016068e-05 | 0.9999398 | 0.0003235089 | -0.1859630 | 0.8524738 | 0.9993060 | 1.000574 |\n",
       "| Naïve% | -1.815077e-02 | 0.9820130 | 0.0256694014 | -0.7070973 | 0.4795060 | 0.9338291 | 1.032683 |\n",
       "| SCM% |  9.708357e-02 | 1.1019525 | 0.0778165996 |  1.2475946 | 0.2121796 | 0.9460743 | 1.283514 |\n",
       "| CM% | -4.614661e-02 | 0.9549020 | 0.0648385012 | -0.7117162 | 0.4766406 | 0.8409461 | 1.084300 |\n",
       "| EM% | -3.996647e-02 | 0.9608217 | 0.0877453743 | -0.4554823 | 0.6487623 | 0.8090098 | 1.141121 |\n",
       "| TE% |  1.222561e-02 | 1.0123007 | 0.0180647726 |  0.6767654 | 0.4985548 | 0.9770859 | 1.048785 |\n",
       "| PD1% | -1.791591e-02 | 0.9822436 | 0.0589187926 | -0.3040780 | 0.7610685 | 0.8751197 | 1.102481 |\n",
       "| TIM3% | -1.791591e-02 | 0.9822436 | 0.0589187926 | -0.3040780 | 0.7610685 | 0.8751197 | 1.102481 |\n",
       "| LAG3% | -1.634537e-01 | 0.8492059 | 0.1206879623 | -1.3543493 | 0.1756250 | 0.6703216 | 1.075828 |\n",
       "| observed_Shannon | -2.195215e-03 | 0.9978072 | 0.0035209960 | -0.6234643 | 0.5329795 | 0.9909450 | 1.004717 |\n",
       "\n"
      ],
      "text/plain": [
       "                 coef          exp(coef) SE           z          Pr(>|z|) \n",
       "cfShannon         1.669401e-02 1.0168341 0.0320743203  0.5204789 0.6027298\n",
       "ATC              -6.016068e-05 0.9999398 0.0003235089 -0.1859630 0.8524738\n",
       "Naïve%           -1.815077e-02 0.9820130 0.0256694014 -0.7070973 0.4795060\n",
       "SCM%              9.708357e-02 1.1019525 0.0778165996  1.2475946 0.2121796\n",
       "CM%              -4.614661e-02 0.9549020 0.0648385012 -0.7117162 0.4766406\n",
       "EM%              -3.996647e-02 0.9608217 0.0877453743 -0.4554823 0.6487623\n",
       "TE%               1.222561e-02 1.0123007 0.0180647726  0.6767654 0.4985548\n",
       "PD1%             -1.791591e-02 0.9822436 0.0589187926 -0.3040780 0.7610685\n",
       "TIM3%            -1.791591e-02 0.9822436 0.0589187926 -0.3040780 0.7610685\n",
       "LAG3%            -1.634537e-01 0.8492059 0.1206879623 -1.3543493 0.1756250\n",
       "observed_Shannon -2.195215e-03 0.9978072 0.0035209960 -0.6234643 0.5329795\n",
       "                 lower.95  upper.95\n",
       "cfShannon        0.9548791 1.082809\n",
       "ATC              0.9993060 1.000574\n",
       "Naïve%           0.9338291 1.032683\n",
       "SCM%             0.9460743 1.283514\n",
       "CM%              0.8409461 1.084300\n",
       "EM%              0.8090098 1.141121\n",
       "TE%              0.9770859 1.048785\n",
       "PD1%             0.8751197 1.102481\n",
       "TIM3%            0.8751197 1.102481\n",
       "LAG3%            0.6703216 1.075828\n",
       "observed_Shannon 0.9909450 1.004717"
      ]
     },
     "metadata": {},
     "output_type": "display_data"
    }
   ],
   "source": [
    "feat_lr_mat"
   ]
  },
  {
   "cell_type": "code",
   "execution_count": 97,
   "metadata": {
    "vscode": {
     "languageId": "r"
    }
   },
   "outputs": [],
   "source": [
    "fdr_df <- as.matrix(p.adjust(feat_lr_mat[, 5], method = \"fdr\"))\n",
    "colnames(fdr_df)[1] <- \"fdr\"\n",
    "feat_lr_mat <- cbind(feat_lr_mat, fdr_df)\n"
   ]
  },
  {
   "cell_type": "code",
   "execution_count": 98,
   "metadata": {
    "vscode": {
     "languageId": "r"
    }
   },
   "outputs": [],
   "source": [
    "feat_lr_mat <- as.data.frame(feat_lr_mat)"
   ]
  },
  {
   "cell_type": "code",
   "execution_count": 99,
   "metadata": {
    "vscode": {
     "languageId": "r"
    }
   },
   "outputs": [],
   "source": [
    "feat_lr_mat$Feature <- rownames(feat_lr_mat)\n",
    "\n",
    "feat_lr_mat$Feature[feat_lr_mat$Feature == \"cfShannon\"] <- \"cfTCR Shannon\"\n",
    "feat_lr_mat$Feature[feat_lr_mat$Feature == \"observed_Shannon\"] <- \"TCR Shannon\""
   ]
  },
  {
   "cell_type": "code",
   "execution_count": 100,
   "metadata": {
    "vscode": {
     "languageId": "r"
    }
   },
   "outputs": [
    {
     "data": {
      "text/html": [
       "<table class=\"dataframe\">\n",
       "<caption>A data.frame: 11 x 9</caption>\n",
       "<thead>\n",
       "\t<tr><th></th><th scope=col>coef</th><th scope=col>exp(coef)</th><th scope=col>SE</th><th scope=col>z</th><th scope=col>Pr(&gt;|z|)</th><th scope=col>lower.95</th><th scope=col>upper.95</th><th scope=col>fdr</th><th scope=col>Feature</th></tr>\n",
       "\t<tr><th></th><th scope=col>&lt;dbl&gt;</th><th scope=col>&lt;dbl&gt;</th><th scope=col>&lt;dbl&gt;</th><th scope=col>&lt;dbl&gt;</th><th scope=col>&lt;dbl&gt;</th><th scope=col>&lt;dbl&gt;</th><th scope=col>&lt;dbl&gt;</th><th scope=col>&lt;dbl&gt;</th><th scope=col>&lt;chr&gt;</th></tr>\n",
       "</thead>\n",
       "<tbody>\n",
       "\t<tr><th scope=row>cfShannon</th><td> 1.669401e-02</td><td>1.0168341</td><td>0.0320743203</td><td> 0.5204789</td><td>0.6027298</td><td>0.9548791</td><td>1.082809</td><td>0.8371754</td><td>cfTCR Shannon</td></tr>\n",
       "\t<tr><th scope=row>ATC</th><td>-6.016068e-05</td><td>0.9999398</td><td>0.0003235089</td><td>-0.1859630</td><td>0.8524738</td><td>0.9993060</td><td>1.000574</td><td>0.8524738</td><td>ATC          </td></tr>\n",
       "\t<tr><th scope=row>Naïve%</th><td>-1.815077e-02</td><td>0.9820130</td><td>0.0256694014</td><td>-0.7070973</td><td>0.4795060</td><td>0.9338291</td><td>1.032683</td><td>0.8371754</td><td>Naïve%       </td></tr>\n",
       "\t<tr><th scope=row>SCM%</th><td> 9.708357e-02</td><td>1.1019525</td><td>0.0778165996</td><td> 1.2475946</td><td>0.2121796</td><td>0.9460743</td><td>1.283514</td><td>0.8371754</td><td>SCM%         </td></tr>\n",
       "\t<tr><th scope=row>CM%</th><td>-4.614661e-02</td><td>0.9549020</td><td>0.0648385012</td><td>-0.7117162</td><td>0.4766406</td><td>0.8409461</td><td>1.084300</td><td>0.8371754</td><td>CM%          </td></tr>\n",
       "\t<tr><th scope=row>EM%</th><td>-3.996647e-02</td><td>0.9608217</td><td>0.0877453743</td><td>-0.4554823</td><td>0.6487623</td><td>0.8090098</td><td>1.141121</td><td>0.8371754</td><td>EM%          </td></tr>\n",
       "\t<tr><th scope=row>TE%</th><td> 1.222561e-02</td><td>1.0123007</td><td>0.0180647726</td><td> 0.6767654</td><td>0.4985548</td><td>0.9770859</td><td>1.048785</td><td>0.8371754</td><td>TE%          </td></tr>\n",
       "\t<tr><th scope=row>PD1%</th><td>-1.791591e-02</td><td>0.9822436</td><td>0.0589187926</td><td>-0.3040780</td><td>0.7610685</td><td>0.8751197</td><td>1.102481</td><td>0.8371754</td><td>PD1%         </td></tr>\n",
       "\t<tr><th scope=row>TIM3%</th><td>-1.791591e-02</td><td>0.9822436</td><td>0.0589187926</td><td>-0.3040780</td><td>0.7610685</td><td>0.8751197</td><td>1.102481</td><td>0.8371754</td><td>TIM3%        </td></tr>\n",
       "\t<tr><th scope=row>LAG3%</th><td>-1.634537e-01</td><td>0.8492059</td><td>0.1206879623</td><td>-1.3543493</td><td>0.1756250</td><td>0.6703216</td><td>1.075828</td><td>0.8371754</td><td>LAG3%        </td></tr>\n",
       "\t<tr><th scope=row>observed_Shannon</th><td>-2.195215e-03</td><td>0.9978072</td><td>0.0035209960</td><td>-0.6234643</td><td>0.5329795</td><td>0.9909450</td><td>1.004717</td><td>0.8371754</td><td>TCR Shannon  </td></tr>\n",
       "</tbody>\n",
       "</table>\n"
      ],
      "text/latex": [
       "A data.frame: 11 x 9\n",
       "\\begin{tabular}{r|lllllllll}\n",
       "  & coef & exp(coef) & SE & z & Pr(>\\textbar{}z\\textbar{}) & lower.95 & upper.95 & fdr & Feature\\\\\n",
       "  & <dbl> & <dbl> & <dbl> & <dbl> & <dbl> & <dbl> & <dbl> & <dbl> & <chr>\\\\\n",
       "\\hline\n",
       "\tcfShannon &  1.669401e-02 & 1.0168341 & 0.0320743203 &  0.5204789 & 0.6027298 & 0.9548791 & 1.082809 & 0.8371754 & cfTCR Shannon\\\\\n",
       "\tATC & -6.016068e-05 & 0.9999398 & 0.0003235089 & -0.1859630 & 0.8524738 & 0.9993060 & 1.000574 & 0.8524738 & ATC          \\\\\n",
       "\tNaïve\\% & -1.815077e-02 & 0.9820130 & 0.0256694014 & -0.7070973 & 0.4795060 & 0.9338291 & 1.032683 & 0.8371754 & Naïve\\%       \\\\\n",
       "\tSCM\\% &  9.708357e-02 & 1.1019525 & 0.0778165996 &  1.2475946 & 0.2121796 & 0.9460743 & 1.283514 & 0.8371754 & SCM\\%         \\\\\n",
       "\tCM\\% & -4.614661e-02 & 0.9549020 & 0.0648385012 & -0.7117162 & 0.4766406 & 0.8409461 & 1.084300 & 0.8371754 & CM\\%          \\\\\n",
       "\tEM\\% & -3.996647e-02 & 0.9608217 & 0.0877453743 & -0.4554823 & 0.6487623 & 0.8090098 & 1.141121 & 0.8371754 & EM\\%          \\\\\n",
       "\tTE\\% &  1.222561e-02 & 1.0123007 & 0.0180647726 &  0.6767654 & 0.4985548 & 0.9770859 & 1.048785 & 0.8371754 & TE\\%          \\\\\n",
       "\tPD1\\% & -1.791591e-02 & 0.9822436 & 0.0589187926 & -0.3040780 & 0.7610685 & 0.8751197 & 1.102481 & 0.8371754 & PD1\\%         \\\\\n",
       "\tTIM3\\% & -1.791591e-02 & 0.9822436 & 0.0589187926 & -0.3040780 & 0.7610685 & 0.8751197 & 1.102481 & 0.8371754 & TIM3\\%        \\\\\n",
       "\tLAG3\\% & -1.634537e-01 & 0.8492059 & 0.1206879623 & -1.3543493 & 0.1756250 & 0.6703216 & 1.075828 & 0.8371754 & LAG3\\%        \\\\\n",
       "\tobserved\\_Shannon & -2.195215e-03 & 0.9978072 & 0.0035209960 & -0.6234643 & 0.5329795 & 0.9909450 & 1.004717 & 0.8371754 & TCR Shannon  \\\\\n",
       "\\end{tabular}\n"
      ],
      "text/markdown": [
       "\n",
       "A data.frame: 11 x 9\n",
       "\n",
       "| <!--/--> | coef &lt;dbl&gt; | exp(coef) &lt;dbl&gt; | SE &lt;dbl&gt; | z &lt;dbl&gt; | Pr(&gt;|z|) &lt;dbl&gt; | lower.95 &lt;dbl&gt; | upper.95 &lt;dbl&gt; | fdr &lt;dbl&gt; | Feature &lt;chr&gt; |\n",
       "|---|---|---|---|---|---|---|---|---|---|\n",
       "| cfShannon |  1.669401e-02 | 1.0168341 | 0.0320743203 |  0.5204789 | 0.6027298 | 0.9548791 | 1.082809 | 0.8371754 | cfTCR Shannon |\n",
       "| ATC | -6.016068e-05 | 0.9999398 | 0.0003235089 | -0.1859630 | 0.8524738 | 0.9993060 | 1.000574 | 0.8524738 | ATC           |\n",
       "| Naïve% | -1.815077e-02 | 0.9820130 | 0.0256694014 | -0.7070973 | 0.4795060 | 0.9338291 | 1.032683 | 0.8371754 | Naïve%        |\n",
       "| SCM% |  9.708357e-02 | 1.1019525 | 0.0778165996 |  1.2475946 | 0.2121796 | 0.9460743 | 1.283514 | 0.8371754 | SCM%          |\n",
       "| CM% | -4.614661e-02 | 0.9549020 | 0.0648385012 | -0.7117162 | 0.4766406 | 0.8409461 | 1.084300 | 0.8371754 | CM%           |\n",
       "| EM% | -3.996647e-02 | 0.9608217 | 0.0877453743 | -0.4554823 | 0.6487623 | 0.8090098 | 1.141121 | 0.8371754 | EM%           |\n",
       "| TE% |  1.222561e-02 | 1.0123007 | 0.0180647726 |  0.6767654 | 0.4985548 | 0.9770859 | 1.048785 | 0.8371754 | TE%           |\n",
       "| PD1% | -1.791591e-02 | 0.9822436 | 0.0589187926 | -0.3040780 | 0.7610685 | 0.8751197 | 1.102481 | 0.8371754 | PD1%          |\n",
       "| TIM3% | -1.791591e-02 | 0.9822436 | 0.0589187926 | -0.3040780 | 0.7610685 | 0.8751197 | 1.102481 | 0.8371754 | TIM3%         |\n",
       "| LAG3% | -1.634537e-01 | 0.8492059 | 0.1206879623 | -1.3543493 | 0.1756250 | 0.6703216 | 1.075828 | 0.8371754 | LAG3%         |\n",
       "| observed_Shannon | -2.195215e-03 | 0.9978072 | 0.0035209960 | -0.6234643 | 0.5329795 | 0.9909450 | 1.004717 | 0.8371754 | TCR Shannon   |\n",
       "\n"
      ],
      "text/plain": [
       "                 coef          exp(coef) SE           z          Pr(>|z|) \n",
       "cfShannon         1.669401e-02 1.0168341 0.0320743203  0.5204789 0.6027298\n",
       "ATC              -6.016068e-05 0.9999398 0.0003235089 -0.1859630 0.8524738\n",
       "Naïve%           -1.815077e-02 0.9820130 0.0256694014 -0.7070973 0.4795060\n",
       "SCM%              9.708357e-02 1.1019525 0.0778165996  1.2475946 0.2121796\n",
       "CM%              -4.614661e-02 0.9549020 0.0648385012 -0.7117162 0.4766406\n",
       "EM%              -3.996647e-02 0.9608217 0.0877453743 -0.4554823 0.6487623\n",
       "TE%               1.222561e-02 1.0123007 0.0180647726  0.6767654 0.4985548\n",
       "PD1%             -1.791591e-02 0.9822436 0.0589187926 -0.3040780 0.7610685\n",
       "TIM3%            -1.791591e-02 0.9822436 0.0589187926 -0.3040780 0.7610685\n",
       "LAG3%            -1.634537e-01 0.8492059 0.1206879623 -1.3543493 0.1756250\n",
       "observed_Shannon -2.195215e-03 0.9978072 0.0035209960 -0.6234643 0.5329795\n",
       "                 lower.95  upper.95 fdr       Feature      \n",
       "cfShannon        0.9548791 1.082809 0.8371754 cfTCR Shannon\n",
       "ATC              0.9993060 1.000574 0.8524738 ATC          \n",
       "Naïve%           0.9338291 1.032683 0.8371754 Naïve%       \n",
       "SCM%             0.9460743 1.283514 0.8371754 SCM%         \n",
       "CM%              0.8409461 1.084300 0.8371754 CM%          \n",
       "EM%              0.8090098 1.141121 0.8371754 EM%          \n",
       "TE%              0.9770859 1.048785 0.8371754 TE%          \n",
       "PD1%             0.8751197 1.102481 0.8371754 PD1%         \n",
       "TIM3%            0.8751197 1.102481 0.8371754 TIM3%        \n",
       "LAG3%            0.6703216 1.075828 0.8371754 LAG3%        \n",
       "observed_Shannon 0.9909450 1.004717 0.8371754 TCR Shannon  "
      ]
     },
     "metadata": {},
     "output_type": "display_data"
    }
   ],
   "source": [
    "feat_lr_mat"
   ]
  },
  {
   "cell_type": "markdown",
   "metadata": {},
   "source": [
    "#### Table S2"
   ]
  },
  {
   "cell_type": "code",
   "execution_count": 101,
   "metadata": {
    "vscode": {
     "languageId": "r"
    }
   },
   "outputs": [],
   "source": [
    "s2 <- feat_lr_mat\n",
    "rownames(s2) <- s2$Feature\n",
    "s2$Feature <- NULL"
   ]
  },
  {
   "cell_type": "code",
   "execution_count": 102,
   "metadata": {
    "vscode": {
     "languageId": "r"
    }
   },
   "outputs": [],
   "source": [
    "xlsx::write.xlsx(s2, file = \"~/OneDrive - UHN//Documents/Manuscripts/INTERCEPT/v1/TableS2.xlsx\",\n",
    "sheetName = \"TableS2\",\n",
    "col.names = TRUE, row.names = TRUE, append = FALSE)"
   ]
  },
  {
   "cell_type": "code",
   "execution_count": 118,
   "metadata": {
    "vscode": {
     "languageId": "r"
    }
   },
   "outputs": [],
   "source": [
    "feat_lr_mat$Feature <- factor(feat_lr_mat$Feature,\n",
    "  levels = c(\"cfTCR Shannon\", \"TCR Shannon\",\"LAG3%\",\"TIM3%\",  \"PD1%\", \"TE%\", \"EM%\", \"CM%\", \"SCM%\", \"Naïve%\", \"ATC\")\n",
    ")\n",
    "\n",
    "# reverse the levels\n",
    "feat_lr_mat$Feature <- factor(feat_lr_mat$Feature,\n",
    "  levels = rev(levels(feat_lr_mat$Feature))\n",
    ")\n",
    "# order mat by Feature levels\n",
    "feat_lr_mat <- feat_lr_mat[ order(feat_lr_mat$Feature), ]"
   ]
  },
  {
   "cell_type": "code",
   "execution_count": 119,
   "metadata": {
    "vscode": {
     "languageId": "r"
    }
   },
   "outputs": [],
   "source": [
    "feat_lr_mat$mean <- feat_lr_mat$`exp(coef)`\n",
    "feat_lr_mat$lower <- feat_lr_mat$`lower.95`\n",
    "feat_lr_mat$upper <- feat_lr_mat$`upper.95`"
   ]
  },
  {
   "cell_type": "code",
   "execution_count": 120,
   "metadata": {
    "vscode": {
     "languageId": "r"
    }
   },
   "outputs": [],
   "source": [
    "feat_lr_mat$OR <- as.character(round(feat_lr_mat$`exp(coef)`, 2) )\n",
    "feat_lr_mat$p <- as.character(round(feat_lr_mat$`Pr(>|z|)`, 2) )\n",
    "feat_lr_mat$FDR <- as.character(round(feat_lr_mat$fdr, 2) )"
   ]
  },
  {
   "cell_type": "code",
   "execution_count": 121,
   "metadata": {
    "vscode": {
     "languageId": "r"
    }
   },
   "outputs": [],
   "source": [
    "p3 <- feat_lr_mat |>\n",
    "  forestplot(\n",
    "    labeltext = c(Feature, OR, p, FDR),\n",
    "    clip = c(0.5, 1.5),\n",
    "    boxsize = 0.2,\n",
    "    vertices = TRUE,\n",
    "    xlog = FALSE, zero = 1,\n",
    "    xticks = c(0.5,0.75, 1,1.25, 1.5)\n",
    "  ) |>\n",
    "  fp_set_style(\n",
    "    box = \"royalblue\",\n",
    "    line = \"darkblue\",\n",
    "    summary = \"royalblue\"\n",
    "  ) |>\n",
    "  fp_add_header(\n",
    "    Feature = c(\"\", \"Feature\"),\n",
    "    OR = c(\"\", \"OR\"),\n",
    "    p = c(\"\", \"p value\"),\n",
    "    FDR = c(\"\", \"FDR\")\n",
    "  )\n"
   ]
  },
  {
   "cell_type": "code",
   "execution_count": 122,
   "metadata": {
    "vscode": {
     "languageId": "r"
    }
   },
   "outputs": [
    {
     "ename": "ERROR",
     "evalue": "Error in eval(expr, envir, enclos): object 'width' not found\n",
     "output_type": "error",
     "traceback": [
      "Error in eval(expr, envir, enclos): object 'width' not found\nTraceback:\n"
     ]
    }
   ],
   "source": [
    "width"
   ]
  },
  {
   "cell_type": "code",
   "execution_count": 123,
   "metadata": {
    "vscode": {
     "languageId": "r"
    }
   },
   "outputs": [
    {
     "data": {
      "image/png": "[encoded data removed]",
      "text/plain": [
       "plot without title"
      ]
     },
     "metadata": {
      "image/png": {
       "height": 420,
       "width": 420
      }
     },
     "output_type": "display_data"
    }
   ],
   "source": [
    "library(grid)\n",
    "grid.newpage()\n",
    "pushViewport(viewport(layout = grid.layout(\n",
    "    nrow = 1,\n",
    "    ncol = 3,\n",
    "    widths = c(unit(1, \"npc\"), unit(10, \"pt\"), unit(10, \"npc\"), unit(10, \"npc\"), unit(1000, \"npc\"))\n",
    "    )\n",
    "))\n",
    "p3\n",
    "\n"
   ]
  },
  {
   "cell_type": "code",
   "execution_count": 124,
   "metadata": {
    "vscode": {
     "languageId": "r"
    }
   },
   "outputs": [
    {
     "data": {
      "image/png": "[encoded data removed]",
      "text/plain": [
       "plot without title"
      ]
     },
     "metadata": {
      "image/png": {
       "height": 420,
       "width": 420
      }
     },
     "output_type": "display_data"
    }
   ],
   "source": [
    "p3"
   ]
  },
  {
   "cell_type": "code",
   "execution_count": 125,
   "metadata": {
    "vscode": {
     "languageId": "r"
    }
   },
   "outputs": [
    {
     "data": {
      "text/html": [
       "<strong>pdf:</strong> 2"
      ],
      "text/latex": [
       "\\textbf{pdf:} 2"
      ],
      "text/markdown": [
       "**pdf:** 2"
      ],
      "text/plain": [
       "pdf \n",
       "  2 "
      ]
     },
     "metadata": {},
     "output_type": "display_data"
    }
   ],
   "source": [
    "pdf(paste0(plotpath, \"forestplot_X01.pdf\"), width=5, height=8)\n",
    "p3\n",
    "dev.off()"
   ]
  },
  {
   "cell_type": "code",
   "execution_count": null,
   "metadata": {
    "vscode": {
     "languageId": "r"
    }
   },
   "outputs": [],
   "source": []
  },
  {
   "cell_type": "code",
   "execution_count": null,
   "metadata": {
    "vscode": {
     "languageId": "r"
    }
   },
   "outputs": [],
   "source": []
  },
  {
   "cell_type": "code",
   "execution_count": null,
   "metadata": {
    "vscode": {
     "languageId": "r"
    }
   },
   "outputs": [],
   "source": []
  },
  {
   "cell_type": "code",
   "execution_count": null,
   "metadata": {
    "vscode": {
     "languageId": "r"
    }
   },
   "outputs": [],
   "source": []
  },
  {
   "cell_type": "code",
   "execution_count": null,
   "metadata": {
    "vscode": {
     "languageId": "r"
    }
   },
   "outputs": [],
   "source": []
  }
 ],
 "metadata": {
  "kernelspec": {
   "display_name": "R 4.0",
   "language": "R",
   "name": "ir40"
  },
  "language_info": {
   "codemirror_mode": "r",
   "file_extension": ".r",
   "mimetype": "text/x-r-source",
   "name": "R",
   "pygments_lexer": "r",
   "version": "4.2.2"
  },
  "toc": {
   "base_numbering": 1,
   "nav_menu": {},
   "number_sections": false,
   "sideBar": true,
   "skip_h1_title": false,
   "title_cell": "Table of Contents",
   "title_sidebar": "Contents",
   "toc_cell": true,
   "toc_position": {
    "height": "calc(100% - 180px)",
    "left": "10px",
    "top": "150px",
    "width": "186.15px"
   },
   "toc_section_display": true,
   "toc_window_display": true
  }
 },
 "nbformat": 4,
 "nbformat_minor": 2
}

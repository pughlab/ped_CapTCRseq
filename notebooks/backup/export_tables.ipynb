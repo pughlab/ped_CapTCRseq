{
 "cells": [
  {
   "cell_type": "code",
   "execution_count": 1,
   "metadata": {
    "vscode": {
     "languageId": "r"
    }
   },
   "outputs": [
    {
     "data": {
      "text/html": [
       "'en_US.UTF-8/en_US.UTF-8/en_US.UTF-8/C/en_US.UTF-8/C'"
      ],
      "text/latex": [
       "'en\\_US.UTF-8/en\\_US.UTF-8/en\\_US.UTF-8/C/en\\_US.UTF-8/C'"
      ],
      "text/markdown": [
       "'en_US.UTF-8/en_US.UTF-8/en_US.UTF-8/C/en_US.UTF-8/C'"
      ],
      "text/plain": [
       "[1] \"en_US.UTF-8/en_US.UTF-8/en_US.UTF-8/C/en_US.UTF-8/C\""
      ]
     },
     "metadata": {},
     "output_type": "display_data"
    }
   ],
   "source": [
    "Sys.setlocale(category = \"LC_ALL\", locale = \"en_US.UTF-8\")"
   ]
  },
  {
   "attachments": {},
   "cell_type": "markdown",
   "metadata": {},
   "source": [
    "# Dependencies"
   ]
  },
  {
   "cell_type": "code",
   "execution_count": 41,
   "metadata": {
    "vscode": {
     "languageId": "r"
    }
   },
   "outputs": [],
   "source": [
    "library(dplyr)"
   ]
  },
  {
   "attachments": {},
   "cell_type": "markdown",
   "metadata": {},
   "source": [
    "# Functions"
   ]
  },
  {
   "cell_type": "code",
   "execution_count": 48,
   "metadata": {
    "vscode": {
     "languageId": "r"
    }
   },
   "outputs": [],
   "source": [
    "source(\"/Users/anabbi/git/ped_CapTCRseq/R/Misc_functions.R\")"
   ]
  },
  {
   "attachments": {},
   "cell_type": "markdown",
   "metadata": {},
   "source": [
    "# Paths"
   ]
  },
  {
   "cell_type": "code",
   "execution_count": 3,
   "metadata": {
    "vscode": {
     "languageId": "r"
    }
   },
   "outputs": [],
   "source": [
    "datapath <- \"/Users/anabbi/OneDrive - UHN/Documents/INTERCEPT/Data/\"\n",
    "plotpath <- \"/Users/anabbi/OneDrive - UHN/Documents/INTERCEPT/Plots/\"\n",
    "manifestpath <- \"/Users/anabbi/OneDrive - UHN/Documents/INTERCEPT/Manifests/\"\n",
    "\n",
    "gitpath <- \"/Users/anabbi/git/ped_CapTCRseq/\""
   ]
  },
  {
   "attachments": {},
   "cell_type": "markdown",
   "metadata": {},
   "source": [
    "# Main"
   ]
  },
  {
   "cell_type": "markdown",
   "metadata": {},
   "source": [
    "S1"
   ]
  },
  {
   "cell_type": "code",
   "execution_count": 7,
   "metadata": {
    "vscode": {
     "languageId": "r"
    }
   },
   "outputs": [],
   "source": [
    "meta_div <- readr::read_rds(paste0(datapath, \"capTCRseq/meta_div_goodsamples.rds\"))"
   ]
  },
  {
   "cell_type": "code",
   "execution_count": 11,
   "metadata": {
    "vscode": {
     "languageId": "r"
    }
   },
   "outputs": [
    {
     "data": {
      "text/plain": [
       "\n",
       "                 capTCR-seq Flow cytometry & capTCR-seq \n",
       "                        357                         106 \n",
       "                       <NA> \n",
       "                          0 "
      ]
     },
     "metadata": {},
     "output_type": "display_data"
    }
   ],
   "source": [
    "table(meta_div$assay,useNA = \"always\")"
   ]
  },
  {
   "cell_type": "code",
   "execution_count": 19,
   "metadata": {
    "vscode": {
     "languageId": "r"
    }
   },
   "outputs": [
    {
     "data": {
      "text/html": [
       "<table class=\"dataframe\">\n",
       "<caption>A data.frame: 6 x 65</caption>\n",
       "<thead>\n",
       "\t<tr><th></th><th scope=col>sample_id</th><th scope=col>Patient</th><th scope=col>cycle</th><th scope=col>FOLD</th><th scope=col>ATC</th><th scope=col>Age</th><th scope=col>Disease_type</th><th scope=col>TE_fold</th><th scope=col>CD3</th><th scope=col>EM</th><th scope=col>...</th><th scope=col>estimated_Shannon</th><th scope=col>SE_Shannon</th><th scope=col>observed_Simpson</th><th scope=col>estimated_Simpson</th><th scope=col>SE_Simpson</th><th scope=col>basename</th><th scope=col>sampletype</th><th scope=col>Group</th><th scope=col>log10shann</th><th scope=col>assay</th></tr>\n",
       "\t<tr><th></th><th scope=col>&lt;chr&gt;</th><th scope=col>&lt;chr&gt;</th><th scope=col>&lt;chr&gt;</th><th scope=col>&lt;dbl&gt;</th><th scope=col>&lt;dbl&gt;</th><th scope=col>&lt;dbl&gt;</th><th scope=col>&lt;chr&gt;</th><th scope=col>&lt;dbl&gt;</th><th scope=col>&lt;int&gt;</th><th scope=col>&lt;int&gt;</th><th scope=col>...</th><th scope=col>&lt;dbl&gt;</th><th scope=col>&lt;dbl&gt;</th><th scope=col>&lt;dbl&gt;</th><th scope=col>&lt;dbl&gt;</th><th scope=col>&lt;dbl&gt;</th><th scope=col>&lt;chr&gt;</th><th scope=col>&lt;chr&gt;</th><th scope=col>&lt;chr&gt;</th><th scope=col>&lt;dbl&gt;</th><th scope=col>&lt;chr&gt;</th></tr>\n",
       "</thead>\n",
       "<tbody>\n",
       "\t<tr><th scope=row>280</th><td>CHP_418_02</td><td>CHP_418</td><td>X02</td><td> 1.4</td><td>   0.00</td><td> 2</td><td>NB </td><td> 1.4</td><td> 581</td><td> 45</td><td>...</td><td> 2.697</td><td>0.033</td><td> 2.246</td><td> 2.247</td><td>0.028</td><td>CHP_418-02_cfDNA</td><td>cfDNA</td><td>CHP</td><td>0.4307199</td><td>capTCR-seq</td></tr>\n",
       "\t<tr><th scope=row>282</th><td>CHP_419_02</td><td>CHP_419</td><td>X02</td><td> 8.8</td><td> 473.60</td><td>12</td><td>OS </td><td> 8.8</td><td>2055</td><td>220</td><td>...</td><td> 2.235</td><td>0.036</td><td> 2.097</td><td> 2.100</td><td>0.025</td><td>CHP_419-02_cfDNA</td><td>cfDNA</td><td>CHP</td><td>0.3486942</td><td>capTCR-seq</td></tr>\n",
       "\t<tr><th scope=row>283</th><td>CHP_420_01</td><td>CHP_420</td><td>X01</td><td> 0.7</td><td>1473.20</td><td> 2</td><td>ALL</td><td> 0.7</td><td>2472</td><td>  3</td><td>...</td><td>16.884</td><td>0.103</td><td>13.435</td><td>13.445</td><td>0.118</td><td>CHP_420-01_cfDNA</td><td>cfDNA</td><td>CHP</td><td>1.2271151</td><td>capTCR-seq</td></tr>\n",
       "\t<tr><th scope=row>284</th><td>CHP_421_01</td><td>CHP_421</td><td>X01</td><td>18.3</td><td>   0.00</td><td> 8</td><td>ALL</td><td>18.3</td><td>2416</td><td> 50</td><td>...</td><td> 7.780</td><td>0.064</td><td> 6.499</td><td> 6.506</td><td>0.089</td><td>CHP_421-01_cfDNA</td><td>cfDNA</td><td>CHP</td><td>0.8905887</td><td>capTCR-seq</td></tr>\n",
       "\t<tr><th scope=row>285</th><td>CHP_422_01</td><td>CHP_422</td><td>X01</td><td> 0.6</td><td>2136.39</td><td>12</td><td>ALL</td><td> 0.6</td><td>  NA</td><td> NA</td><td>...</td><td> 5.850</td><td>0.042</td><td> 4.796</td><td> 4.798</td><td>0.051</td><td>CHP_422-01_cfDNA</td><td>cfDNA</td><td>CHP</td><td>0.7669331</td><td>capTCR-seq</td></tr>\n",
       "\t<tr><th scope=row>286</th><td>CHP_423_01</td><td>CHP_423</td><td>X01</td><td> 3.4</td><td> 839.96</td><td> 2</td><td>ALL</td><td> 3.4</td><td>  NA</td><td> NA</td><td>...</td><td> 1.000</td><td>0.000</td><td> 1.000</td><td> 1.000</td><td>0.000</td><td>CHP_423-01_cfDNA</td><td>cfDNA</td><td>CHP</td><td>0.0000000</td><td>capTCR-seq</td></tr>\n",
       "</tbody>\n",
       "</table>\n"
      ],
      "text/latex": [
       "A data.frame: 6 x 65\n",
       "\\begin{tabular}{r|lllllllllllllllllllll}\n",
       "  & sample\\_id & Patient & cycle & FOLD & ATC & Age & Disease\\_type & TE\\_fold & CD3 & EM & ... & estimated\\_Shannon & SE\\_Shannon & observed\\_Simpson & estimated\\_Simpson & SE\\_Simpson & basename & sampletype & Group & log10shann & assay\\\\\n",
       "  & <chr> & <chr> & <chr> & <dbl> & <dbl> & <dbl> & <chr> & <dbl> & <int> & <int> & ... & <dbl> & <dbl> & <dbl> & <dbl> & <dbl> & <chr> & <chr> & <chr> & <dbl> & <chr>\\\\\n",
       "\\hline\n",
       "\t280 & CHP\\_418\\_02 & CHP\\_418 & X02 &  1.4 &    0.00 &  2 & NB  &  1.4 &  581 &  45 & ... &  2.697 & 0.033 &  2.246 &  2.247 & 0.028 & CHP\\_418-02\\_cfDNA & cfDNA & CHP & 0.4307199 & capTCR-seq\\\\\n",
       "\t282 & CHP\\_419\\_02 & CHP\\_419 & X02 &  8.8 &  473.60 & 12 & OS  &  8.8 & 2055 & 220 & ... &  2.235 & 0.036 &  2.097 &  2.100 & 0.025 & CHP\\_419-02\\_cfDNA & cfDNA & CHP & 0.3486942 & capTCR-seq\\\\\n",
       "\t283 & CHP\\_420\\_01 & CHP\\_420 & X01 &  0.7 & 1473.20 &  2 & ALL &  0.7 & 2472 &   3 & ... & 16.884 & 0.103 & 13.435 & 13.445 & 0.118 & CHP\\_420-01\\_cfDNA & cfDNA & CHP & 1.2271151 & capTCR-seq\\\\\n",
       "\t284 & CHP\\_421\\_01 & CHP\\_421 & X01 & 18.3 &    0.00 &  8 & ALL & 18.3 & 2416 &  50 & ... &  7.780 & 0.064 &  6.499 &  6.506 & 0.089 & CHP\\_421-01\\_cfDNA & cfDNA & CHP & 0.8905887 & capTCR-seq\\\\\n",
       "\t285 & CHP\\_422\\_01 & CHP\\_422 & X01 &  0.6 & 2136.39 & 12 & ALL &  0.6 &   NA &  NA & ... &  5.850 & 0.042 &  4.796 &  4.798 & 0.051 & CHP\\_422-01\\_cfDNA & cfDNA & CHP & 0.7669331 & capTCR-seq\\\\\n",
       "\t286 & CHP\\_423\\_01 & CHP\\_423 & X01 &  3.4 &  839.96 &  2 & ALL &  3.4 &   NA &  NA & ... &  1.000 & 0.000 &  1.000 &  1.000 & 0.000 & CHP\\_423-01\\_cfDNA & cfDNA & CHP & 0.0000000 & capTCR-seq\\\\\n",
       "\\end{tabular}\n"
      ],
      "text/markdown": [
       "\n",
       "A data.frame: 6 x 65\n",
       "\n",
       "| <!--/--> | sample_id &lt;chr&gt; | Patient &lt;chr&gt; | cycle &lt;chr&gt; | FOLD &lt;dbl&gt; | ATC &lt;dbl&gt; | Age &lt;dbl&gt; | Disease_type &lt;chr&gt; | TE_fold &lt;dbl&gt; | CD3 &lt;int&gt; | EM &lt;int&gt; | ... ... | estimated_Shannon &lt;dbl&gt; | SE_Shannon &lt;dbl&gt; | observed_Simpson &lt;dbl&gt; | estimated_Simpson &lt;dbl&gt; | SE_Simpson &lt;dbl&gt; | basename &lt;chr&gt; | sampletype &lt;chr&gt; | Group &lt;chr&gt; | log10shann &lt;dbl&gt; | assay &lt;chr&gt; |\n",
       "|---|---|---|---|---|---|---|---|---|---|---|---|---|---|---|---|---|---|---|---|---|---|\n",
       "| 280 | CHP_418_02 | CHP_418 | X02 |  1.4 |    0.00 |  2 | NB  |  1.4 |  581 |  45 | ... |  2.697 | 0.033 |  2.246 |  2.247 | 0.028 | CHP_418-02_cfDNA | cfDNA | CHP | 0.4307199 | capTCR-seq |\n",
       "| 282 | CHP_419_02 | CHP_419 | X02 |  8.8 |  473.60 | 12 | OS  |  8.8 | 2055 | 220 | ... |  2.235 | 0.036 |  2.097 |  2.100 | 0.025 | CHP_419-02_cfDNA | cfDNA | CHP | 0.3486942 | capTCR-seq |\n",
       "| 283 | CHP_420_01 | CHP_420 | X01 |  0.7 | 1473.20 |  2 | ALL |  0.7 | 2472 |   3 | ... | 16.884 | 0.103 | 13.435 | 13.445 | 0.118 | CHP_420-01_cfDNA | cfDNA | CHP | 1.2271151 | capTCR-seq |\n",
       "| 284 | CHP_421_01 | CHP_421 | X01 | 18.3 |    0.00 |  8 | ALL | 18.3 | 2416 |  50 | ... |  7.780 | 0.064 |  6.499 |  6.506 | 0.089 | CHP_421-01_cfDNA | cfDNA | CHP | 0.8905887 | capTCR-seq |\n",
       "| 285 | CHP_422_01 | CHP_422 | X01 |  0.6 | 2136.39 | 12 | ALL |  0.6 |   NA |  NA | ... |  5.850 | 0.042 |  4.796 |  4.798 | 0.051 | CHP_422-01_cfDNA | cfDNA | CHP | 0.7669331 | capTCR-seq |\n",
       "| 286 | CHP_423_01 | CHP_423 | X01 |  3.4 |  839.96 |  2 | ALL |  3.4 |   NA |  NA | ... |  1.000 | 0.000 |  1.000 |  1.000 | 0.000 | CHP_423-01_cfDNA | cfDNA | CHP | 0.0000000 | capTCR-seq |\n",
       "\n"
      ],
      "text/plain": [
       "    sample_id  Patient cycle FOLD ATC     Age Disease_type TE_fold CD3  EM  ...\n",
       "280 CHP_418_02 CHP_418 X02    1.4    0.00  2  NB            1.4     581  45 ...\n",
       "282 CHP_419_02 CHP_419 X02    8.8  473.60 12  OS            8.8    2055 220 ...\n",
       "283 CHP_420_01 CHP_420 X01    0.7 1473.20  2  ALL           0.7    2472   3 ...\n",
       "284 CHP_421_01 CHP_421 X01   18.3    0.00  8  ALL          18.3    2416  50 ...\n",
       "285 CHP_422_01 CHP_422 X01    0.6 2136.39 12  ALL           0.6      NA  NA ...\n",
       "286 CHP_423_01 CHP_423 X01    3.4  839.96  2  ALL           3.4      NA  NA ...\n",
       "    estimated_Shannon SE_Shannon observed_Simpson estimated_Simpson SE_Simpson\n",
       "280  2.697            0.033       2.246            2.247            0.028     \n",
       "282  2.235            0.036       2.097            2.100            0.025     \n",
       "283 16.884            0.103      13.435           13.445            0.118     \n",
       "284  7.780            0.064       6.499            6.506            0.089     \n",
       "285  5.850            0.042       4.796            4.798            0.051     \n",
       "286  1.000            0.000       1.000            1.000            0.000     \n",
       "    basename         sampletype Group log10shann assay     \n",
       "280 CHP_418-02_cfDNA cfDNA      CHP   0.4307199  capTCR-seq\n",
       "282 CHP_419-02_cfDNA cfDNA      CHP   0.3486942  capTCR-seq\n",
       "283 CHP_420-01_cfDNA cfDNA      CHP   1.2271151  capTCR-seq\n",
       "284 CHP_421-01_cfDNA cfDNA      CHP   0.8905887  capTCR-seq\n",
       "285 CHP_422-01_cfDNA cfDNA      CHP   0.7669331  capTCR-seq\n",
       "286 CHP_423-01_cfDNA cfDNA      CHP   0.0000000  capTCR-seq"
      ]
     },
     "metadata": {},
     "output_type": "display_data"
    }
   ],
   "source": [
    "tail(meta_div)"
   ]
  },
  {
   "cell_type": "code",
   "execution_count": 13,
   "metadata": {
    "vscode": {
     "languageId": "r"
    }
   },
   "outputs": [],
   "source": [
    "meta_div$qD <- NULL\n",
    "meta_div$file <- NULL"
   ]
  },
  {
   "cell_type": "code",
   "execution_count": 16,
   "metadata": {
    "vscode": {
     "languageId": "r"
    }
   },
   "outputs": [],
   "source": [
    "meta_div1 <- meta_div %>% mutate_all(~replace(., is.na(.), \"\"))"
   ]
  },
  {
   "cell_type": "code",
   "execution_count": 21,
   "metadata": {
    "vscode": {
     "languageId": "r"
    }
   },
   "outputs": [
    {
     "data": {
      "text/plain": [
       "\n",
       "cfDNA  PBMC \n",
       "  266   197 "
      ]
     },
     "metadata": {},
     "output_type": "display_data"
    }
   ],
   "source": [
    "table(meta_div1$sampletype)"
   ]
  },
  {
   "cell_type": "code",
   "execution_count": 22,
   "metadata": {
    "vscode": {
     "languageId": "r"
    }
   },
   "outputs": [
    {
     "data": {
      "text/html": [
       "99"
      ],
      "text/latex": [
       "99"
      ],
      "text/markdown": [
       "99"
      ],
      "text/plain": [
       "[1] 99"
      ]
     },
     "metadata": {},
     "output_type": "display_data"
    }
   ],
   "source": [
    "length(unique(meta_div1$Patient))"
   ]
  },
  {
   "cell_type": "code",
   "execution_count": 18,
   "metadata": {
    "vscode": {
     "languageId": "r"
    }
   },
   "outputs": [
    {
     "data": {
      "text/html": [
       "<table class=\"dataframe\">\n",
       "<caption>A data.frame: 6 x 65</caption>\n",
       "<thead>\n",
       "\t<tr><th></th><th scope=col>sample_id</th><th scope=col>Patient</th><th scope=col>cycle</th><th scope=col>FOLD</th><th scope=col>ATC</th><th scope=col>Age</th><th scope=col>Disease_type</th><th scope=col>TE_fold</th><th scope=col>CD3</th><th scope=col>EM</th><th scope=col>...</th><th scope=col>estimated_Shannon</th><th scope=col>SE_Shannon</th><th scope=col>observed_Simpson</th><th scope=col>estimated_Simpson</th><th scope=col>SE_Simpson</th><th scope=col>basename</th><th scope=col>sampletype</th><th scope=col>Group</th><th scope=col>log10shann</th><th scope=col>assay</th></tr>\n",
       "\t<tr><th></th><th scope=col>&lt;chr&gt;</th><th scope=col>&lt;chr&gt;</th><th scope=col>&lt;chr&gt;</th><th scope=col>&lt;chr&gt;</th><th scope=col>&lt;chr&gt;</th><th scope=col>&lt;chr&gt;</th><th scope=col>&lt;chr&gt;</th><th scope=col>&lt;chr&gt;</th><th scope=col>&lt;chr&gt;</th><th scope=col>&lt;chr&gt;</th><th scope=col>...</th><th scope=col>&lt;chr&gt;</th><th scope=col>&lt;chr&gt;</th><th scope=col>&lt;chr&gt;</th><th scope=col>&lt;chr&gt;</th><th scope=col>&lt;chr&gt;</th><th scope=col>&lt;chr&gt;</th><th scope=col>&lt;chr&gt;</th><th scope=col>&lt;chr&gt;</th><th scope=col>&lt;chr&gt;</th><th scope=col>&lt;chr&gt;</th></tr>\n",
       "</thead>\n",
       "<tbody>\n",
       "\t<tr><th scope=row>280</th><td>CHP_418_02</td><td>CHP_418</td><td>X02</td><td>1.4 </td><td>0      </td><td>2 </td><td>NB </td><td>1.4 </td><td>581 </td><td>45 </td><td>...</td><td>2.697 </td><td>0.033</td><td>2.246 </td><td>2.247 </td><td>0.028</td><td>CHP_418-02_cfDNA</td><td>cfDNA</td><td>CHP</td><td>0.430719887863282</td><td>capTCR-seq</td></tr>\n",
       "\t<tr><th scope=row>282</th><td>CHP_419_02</td><td>CHP_419</td><td>X02</td><td>8.8 </td><td>473.6  </td><td>12</td><td>OS </td><td>8.8 </td><td>2055</td><td>220</td><td>...</td><td>2.235 </td><td>0.036</td><td>2.097 </td><td>2.1   </td><td>0.025</td><td>CHP_419-02_cfDNA</td><td>cfDNA</td><td>CHP</td><td>0.348694190265541</td><td>capTCR-seq</td></tr>\n",
       "\t<tr><th scope=row>283</th><td>CHP_420_01</td><td>CHP_420</td><td>X01</td><td>0.7 </td><td>1473.2 </td><td>2 </td><td>ALL</td><td>0.7 </td><td>2472</td><td>3  </td><td>...</td><td>16.884</td><td>0.103</td><td>13.435</td><td>13.445</td><td>0.118</td><td>CHP_420-01_cfDNA</td><td>cfDNA</td><td>CHP</td><td>1.22711508258913 </td><td>capTCR-seq</td></tr>\n",
       "\t<tr><th scope=row>284</th><td>CHP_421_01</td><td>CHP_421</td><td>X01</td><td>18.3</td><td>0      </td><td>8 </td><td>ALL</td><td>18.3</td><td>2416</td><td>50 </td><td>...</td><td>7.78  </td><td>0.064</td><td>6.499 </td><td>6.506 </td><td>0.089</td><td>CHP_421-01_cfDNA</td><td>cfDNA</td><td>CHP</td><td>0.890588667705487</td><td>capTCR-seq</td></tr>\n",
       "\t<tr><th scope=row>285</th><td>CHP_422_01</td><td>CHP_422</td><td>X01</td><td>0.6 </td><td>2136.39</td><td>12</td><td>ALL</td><td>0.6 </td><td>    </td><td>   </td><td>...</td><td>5.85  </td><td>0.042</td><td>4.796 </td><td>4.798 </td><td>0.051</td><td>CHP_422-01_cfDNA</td><td>cfDNA</td><td>CHP</td><td>0.766933093837284</td><td>capTCR-seq</td></tr>\n",
       "\t<tr><th scope=row>286</th><td>CHP_423_01</td><td>CHP_423</td><td>X01</td><td>3.4 </td><td>839.96 </td><td>2 </td><td>ALL</td><td>3.4 </td><td>    </td><td>   </td><td>...</td><td>1     </td><td>0    </td><td>1     </td><td>1     </td><td>0    </td><td>CHP_423-01_cfDNA</td><td>cfDNA</td><td>CHP</td><td>0                </td><td>capTCR-seq</td></tr>\n",
       "</tbody>\n",
       "</table>\n"
      ],
      "text/latex": [
       "A data.frame: 6 x 65\n",
       "\\begin{tabular}{r|lllllllllllllllllllll}\n",
       "  & sample\\_id & Patient & cycle & FOLD & ATC & Age & Disease\\_type & TE\\_fold & CD3 & EM & ... & estimated\\_Shannon & SE\\_Shannon & observed\\_Simpson & estimated\\_Simpson & SE\\_Simpson & basename & sampletype & Group & log10shann & assay\\\\\n",
       "  & <chr> & <chr> & <chr> & <chr> & <chr> & <chr> & <chr> & <chr> & <chr> & <chr> & ... & <chr> & <chr> & <chr> & <chr> & <chr> & <chr> & <chr> & <chr> & <chr> & <chr>\\\\\n",
       "\\hline\n",
       "\t280 & CHP\\_418\\_02 & CHP\\_418 & X02 & 1.4  & 0       & 2  & NB  & 1.4  & 581  & 45  & ... & 2.697  & 0.033 & 2.246  & 2.247  & 0.028 & CHP\\_418-02\\_cfDNA & cfDNA & CHP & 0.430719887863282 & capTCR-seq\\\\\n",
       "\t282 & CHP\\_419\\_02 & CHP\\_419 & X02 & 8.8  & 473.6   & 12 & OS  & 8.8  & 2055 & 220 & ... & 2.235  & 0.036 & 2.097  & 2.1    & 0.025 & CHP\\_419-02\\_cfDNA & cfDNA & CHP & 0.348694190265541 & capTCR-seq\\\\\n",
       "\t283 & CHP\\_420\\_01 & CHP\\_420 & X01 & 0.7  & 1473.2  & 2  & ALL & 0.7  & 2472 & 3   & ... & 16.884 & 0.103 & 13.435 & 13.445 & 0.118 & CHP\\_420-01\\_cfDNA & cfDNA & CHP & 1.22711508258913  & capTCR-seq\\\\\n",
       "\t284 & CHP\\_421\\_01 & CHP\\_421 & X01 & 18.3 & 0       & 8  & ALL & 18.3 & 2416 & 50  & ... & 7.78   & 0.064 & 6.499  & 6.506  & 0.089 & CHP\\_421-01\\_cfDNA & cfDNA & CHP & 0.890588667705487 & capTCR-seq\\\\\n",
       "\t285 & CHP\\_422\\_01 & CHP\\_422 & X01 & 0.6  & 2136.39 & 12 & ALL & 0.6  &      &     & ... & 5.85   & 0.042 & 4.796  & 4.798  & 0.051 & CHP\\_422-01\\_cfDNA & cfDNA & CHP & 0.766933093837284 & capTCR-seq\\\\\n",
       "\t286 & CHP\\_423\\_01 & CHP\\_423 & X01 & 3.4  & 839.96  & 2  & ALL & 3.4  &      &     & ... & 1      & 0     & 1      & 1      & 0     & CHP\\_423-01\\_cfDNA & cfDNA & CHP & 0                 & capTCR-seq\\\\\n",
       "\\end{tabular}\n"
      ],
      "text/markdown": [
       "\n",
       "A data.frame: 6 x 65\n",
       "\n",
       "| <!--/--> | sample_id &lt;chr&gt; | Patient &lt;chr&gt; | cycle &lt;chr&gt; | FOLD &lt;chr&gt; | ATC &lt;chr&gt; | Age &lt;chr&gt; | Disease_type &lt;chr&gt; | TE_fold &lt;chr&gt; | CD3 &lt;chr&gt; | EM &lt;chr&gt; | ... ... | estimated_Shannon &lt;chr&gt; | SE_Shannon &lt;chr&gt; | observed_Simpson &lt;chr&gt; | estimated_Simpson &lt;chr&gt; | SE_Simpson &lt;chr&gt; | basename &lt;chr&gt; | sampletype &lt;chr&gt; | Group &lt;chr&gt; | log10shann &lt;chr&gt; | assay &lt;chr&gt; |\n",
       "|---|---|---|---|---|---|---|---|---|---|---|---|---|---|---|---|---|---|---|---|---|---|\n",
       "| 280 | CHP_418_02 | CHP_418 | X02 | 1.4  | 0       | 2  | NB  | 1.4  | 581  | 45  | ... | 2.697  | 0.033 | 2.246  | 2.247  | 0.028 | CHP_418-02_cfDNA | cfDNA | CHP | 0.430719887863282 | capTCR-seq |\n",
       "| 282 | CHP_419_02 | CHP_419 | X02 | 8.8  | 473.6   | 12 | OS  | 8.8  | 2055 | 220 | ... | 2.235  | 0.036 | 2.097  | 2.1    | 0.025 | CHP_419-02_cfDNA | cfDNA | CHP | 0.348694190265541 | capTCR-seq |\n",
       "| 283 | CHP_420_01 | CHP_420 | X01 | 0.7  | 1473.2  | 2  | ALL | 0.7  | 2472 | 3   | ... | 16.884 | 0.103 | 13.435 | 13.445 | 0.118 | CHP_420-01_cfDNA | cfDNA | CHP | 1.22711508258913  | capTCR-seq |\n",
       "| 284 | CHP_421_01 | CHP_421 | X01 | 18.3 | 0       | 8  | ALL | 18.3 | 2416 | 50  | ... | 7.78   | 0.064 | 6.499  | 6.506  | 0.089 | CHP_421-01_cfDNA | cfDNA | CHP | 0.890588667705487 | capTCR-seq |\n",
       "| 285 | CHP_422_01 | CHP_422 | X01 | 0.6  | 2136.39 | 12 | ALL | 0.6  | <!----> | <!----> | ... | 5.85   | 0.042 | 4.796  | 4.798  | 0.051 | CHP_422-01_cfDNA | cfDNA | CHP | 0.766933093837284 | capTCR-seq |\n",
       "| 286 | CHP_423_01 | CHP_423 | X01 | 3.4  | 839.96  | 2  | ALL | 3.4  | <!----> | <!----> | ... | 1      | 0     | 1      | 1      | 0     | CHP_423-01_cfDNA | cfDNA | CHP | 0                 | capTCR-seq |\n",
       "\n"
      ],
      "text/plain": [
       "    sample_id  Patient cycle FOLD ATC     Age Disease_type TE_fold CD3  EM  ...\n",
       "280 CHP_418_02 CHP_418 X02   1.4  0       2   NB           1.4     581  45  ...\n",
       "282 CHP_419_02 CHP_419 X02   8.8  473.6   12  OS           8.8     2055 220 ...\n",
       "283 CHP_420_01 CHP_420 X01   0.7  1473.2  2   ALL          0.7     2472 3   ...\n",
       "284 CHP_421_01 CHP_421 X01   18.3 0       8   ALL          18.3    2416 50  ...\n",
       "285 CHP_422_01 CHP_422 X01   0.6  2136.39 12  ALL          0.6              ...\n",
       "286 CHP_423_01 CHP_423 X01   3.4  839.96  2   ALL          3.4              ...\n",
       "    estimated_Shannon SE_Shannon observed_Simpson estimated_Simpson SE_Simpson\n",
       "280 2.697             0.033      2.246            2.247             0.028     \n",
       "282 2.235             0.036      2.097            2.1               0.025     \n",
       "283 16.884            0.103      13.435           13.445            0.118     \n",
       "284 7.78              0.064      6.499            6.506             0.089     \n",
       "285 5.85              0.042      4.796            4.798             0.051     \n",
       "286 1                 0          1                1                 0         \n",
       "    basename         sampletype Group log10shann        assay     \n",
       "280 CHP_418-02_cfDNA cfDNA      CHP   0.430719887863282 capTCR-seq\n",
       "282 CHP_419-02_cfDNA cfDNA      CHP   0.348694190265541 capTCR-seq\n",
       "283 CHP_420-01_cfDNA cfDNA      CHP   1.22711508258913  capTCR-seq\n",
       "284 CHP_421-01_cfDNA cfDNA      CHP   0.890588667705487 capTCR-seq\n",
       "285 CHP_422-01_cfDNA cfDNA      CHP   0.766933093837284 capTCR-seq\n",
       "286 CHP_423-01_cfDNA cfDNA      CHP   0                 capTCR-seq"
      ]
     },
     "metadata": {},
     "output_type": "display_data"
    }
   ],
   "source": [
    "tail(meta_div1)"
   ]
  },
  {
   "cell_type": "code",
   "execution_count": 20,
   "metadata": {
    "vscode": {
     "languageId": "r"
    }
   },
   "outputs": [],
   "source": [
    "xlsx::write.xlsx(meta_div1, file = \"~/OneDrive - UHN//Documents/Manuscripts/INTERCEPT/v1/TableS1.xlsx\",\n",
    "sheetName = \"TableS1\",\n",
    "col.names = TRUE, row.names = FALSE, append = FALSE)"
   ]
  },
  {
   "cell_type": "markdown",
   "metadata": {},
   "source": [
    "# Compile tables"
   ]
  },
  {
   "cell_type": "code",
   "execution_count": 49,
   "metadata": {
    "vscode": {
     "languageId": "r"
    }
   },
   "outputs": [],
   "source": [
    "mytitles <- c(\n",
    "\"TableS1. Details of Patient and Sample Characteristics and Their Immune Profiling Data.\",\n",
    "\"TableS2. Univariate Logistic Regression Analysis of Immune Features and Relapse at Pre-Therapy.\",\n",
    "\"TableS3. Univariate Logistic Regression Analysis of Immune Feature Changes During Therapy and Relapse.\",\n",
    "\"TableS4. Logistic Regression Analysis of DIS and Relapse.\",\n",
    "\"TableS5. ERGO-II Predictions of TCR-Peptide Binding for Public TCR Sequences.\",\n",
    "\"TableS6. GLIPHII Results for the Pediatric Cancer Samples and TCR Sequences with Known Specificities.\",\n",
    "\"TableS7. TCR Specificity Network Analysis Results for 22 Components Present in Pre- and Post-Therapy Samples.\"\n",
    ")"
   ]
  },
  {
   "cell_type": "code",
   "execution_count": 50,
   "metadata": {
    "vscode": {
     "languageId": "r"
    }
   },
   "outputs": [],
   "source": [
    "# options(java.parameters = \"-Xmx16g\")"
   ]
  },
  {
   "cell_type": "code",
   "execution_count": 51,
   "metadata": {
    "vscode": {
     "languageId": "r"
    }
   },
   "outputs": [
    {
     "name": "stderr",
     "output_type": "stream",
     "text": [
      "list of files\n",
      "\n"
     ]
    },
    {
     "name": "stdout",
     "output_type": "stream",
     "text": [
      "[1] \"TableS1.xlsx\" \"TableS2.xlsx\" \"TableS3.xlsx\" \"TableS4.xlsx\" \"TableS5.xlsx\"\n",
      "[6] \"TableS6.xlsx\" \"TableS7.xlsx\"\n"
     ]
    },
    {
     "name": "stderr",
     "output_type": "stream",
     "text": [
      "reading tables completed\n",
      "\n"
     ]
    },
    {
     "name": "stdout",
     "output_type": "stream",
     "text": [
      "[1] \"TableS1\" \"TableS2\" \"TableS3\" \"TableS4\" \"TableS5\" \"TableS6\" \"TableS7\"\n",
      "[1] \"TableS1. Details of Patient and Sample Characteristics and Their Immune Profiling Data.\"                      \n",
      "[2] \"TableS2. Univariate Logistic Regression Analysis of Immune Features and Relapse at Pre-Therapy.\"              \n",
      "[3] \"TableS3. Univariate Logistic Regression Analysis of Immune Feature Changes During Therapy and Relapse.\"       \n",
      "[4] \"TableS4. Logistic Regression Analysis of DIS and Relapse.\"                                                    \n",
      "[5] \"TableS5. ERGO-II Predictions of TCR-Peptide Binding for Public TCR Sequences.\"                                \n",
      "[6] \"TableS6. GLIPHII Results for the Pediatric Cancer Samples and TCR Sequences with Known Specificities.\"        \n",
      "[7] \"TableS7. TCR Specificity Network Analysis Results for 22 Components Present in Pre- and Post-Therapy Samples.\"\n",
      "[1] TRUE TRUE TRUE TRUE TRUE TRUE TRUE\n"
     ]
    },
    {
     "name": "stderr",
     "output_type": "stream",
     "text": [
      "appending all tables together\n",
      "\n",
      "TableS1\n",
      "\n",
      "TableS2\n",
      "\n",
      "TableS3\n",
      "\n",
      "TableS4\n",
      "\n",
      "TableS5\n",
      "\n",
      "TableS6\n",
      "\n"
     ]
    }
   ],
   "source": [
    " # Only works with openxlsx, and the following format TableS1. [period is important] - takes about >10 min - run on H4H\n",
    "#  compileSuppltables(\"~/OneDrive - UHN//Documents/Manuscripts/INTERCEPT/v1/\", mytitles, \"~/OneDrive - UHN//Documents/Manuscripts/INTERCEPT/v1/\")"
   ]
  },
  {
   "cell_type": "code",
   "execution_count": null,
   "metadata": {
    "vscode": {
     "languageId": "r"
    }
   },
   "outputs": [],
   "source": []
  },
  {
   "cell_type": "code",
   "execution_count": null,
   "metadata": {
    "vscode": {
     "languageId": "r"
    }
   },
   "outputs": [],
   "source": []
  }
 ],
 "metadata": {
  "kernelspec": {
   "display_name": "R 4.0",
   "language": "R",
   "name": "ir40"
  },
  "language_info": {
   "codemirror_mode": "r",
   "file_extension": ".r",
   "mimetype": "text/x-r-source",
   "name": "R",
   "pygments_lexer": "r",
   "version": "4.2.2"
  },
  "toc": {
   "base_numbering": 1,
   "nav_menu": {},
   "number_sections": false,
   "sideBar": true,
   "skip_h1_title": false,
   "title_cell": "Table of Contents",
   "title_sidebar": "Contents",
   "toc_cell": true,
   "toc_position": {
    "height": "calc(100% - 180px)",
    "left": "10px",
    "top": "150px",
    "width": "206.5px"
   },
   "toc_section_display": true,
   "toc_window_display": true
  }
 },
 "nbformat": 4,
 "nbformat_minor": 2
}

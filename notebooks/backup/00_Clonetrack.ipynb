{
 "cells": [
  {
   "cell_type": "markdown",
   "metadata": {},
   "source": [
    "# Dependencies"
   ]
  },
  {
   "cell_type": "code",
   "execution_count": 1,
   "metadata": {
    "vscode": {
     "languageId": "r"
    }
   },
   "outputs": [
    {
     "data": {
      "text/html": [
       "'en_US.UTF-8/en_US.UTF-8/en_US.UTF-8/C/en_US.UTF-8/C'"
      ],
      "text/latex": [
       "'en\\_US.UTF-8/en\\_US.UTF-8/en\\_US.UTF-8/C/en\\_US.UTF-8/C'"
      ],
      "text/markdown": [
       "'en_US.UTF-8/en_US.UTF-8/en_US.UTF-8/C/en_US.UTF-8/C'"
      ],
      "text/plain": [
       "[1] \"en_US.UTF-8/en_US.UTF-8/en_US.UTF-8/C/en_US.UTF-8/C\""
      ]
     },
     "metadata": {},
     "output_type": "display_data"
    }
   ],
   "source": [
    "Sys.setlocale(category = \"LC_ALL\", locale = \"en_US.UTF-8\")"
   ]
  },
  {
   "cell_type": "code",
   "execution_count": 2,
   "metadata": {
    "scrolled": true,
    "vscode": {
     "languageId": "r"
    }
   },
   "outputs": [
    {
     "name": "stderr",
     "output_type": "stream",
     "text": [
      "Loading required package: ggplot2\n",
      "\n"
     ]
    }
   ],
   "source": [
    "library(ggalluvial)\n",
    "library(randomcoloR)"
   ]
  },
  {
   "cell_type": "markdown",
   "metadata": {},
   "source": [
    "# Functions"
   ]
  },
  {
   "cell_type": "code",
   "execution_count": 3,
   "metadata": {
    "vscode": {
     "languageId": "r"
    }
   },
   "outputs": [],
   "source": [
    "source(\"/Users/anabbi/git/ped_CapTCRseq/R/ggplot2_theme.R\")\n",
    "source(\"/Users/anabbi/git/ped_CapTCRseq/R/color_schemes.R\")\n",
    "source(\"/Users/anabbi/git/ped_CapTCRseq/R/Misc_functions.R\")\n",
    "source(\"/Users/anabbi/git/ped_CapTCRseq/R/clonetrack.R\")"
   ]
  },
  {
   "cell_type": "code",
   "execution_count": 4,
   "metadata": {
    "vscode": {
     "languageId": "r"
    }
   },
   "outputs": [],
   "source": [
    "# trbbarplot.fx <- function(metadta, pat) {\n",
    "#       pat_sample <- metadta[metadta$Patient == pat, ] # should not contain NA\n",
    "#       # TRB bar plot\n",
    "#       barpt <- ggplot(data = pat_sample, aes(y = TRB, x = basename)) +\n",
    "#             geom_bar(fill = \"#f3b94e\", colour = \"#030303\", stat = \"identity\") +\n",
    "#             theme(\n",
    "#                   axis.title.x = element_blank(),\n",
    "#                   axis.text.x = element_blank(),\n",
    "#                   axis.line = element_line(color = \"black\"),\n",
    "#                   axis.text = element_text(size = 15),\n",
    "#                   axis.title = element_text(size = 15),\n",
    "#                   legend.position = \"none\"\n",
    "#             ) +\n",
    "#             theme(\n",
    "#                   panel.grid.major = element_blank(),\n",
    "#                   panel.grid.minor = element_blank(),\n",
    "#                   panel.background = element_rect(fill = \"transparent\", colour = NA),\n",
    "#                   panel.border = element_blank(),\n",
    "#                   plot.margin = unit(c(0, 0, 0, 0), \"cm\"),\n",
    "#                   plot.title = element_text(size = 15, hjust = 0.5)\n",
    "#             ) + ggtitle(expression(underline(pat, \":\", unique(pat_sample$Disease_type))))\n",
    "#       return(barpt)\n",
    "# }\n"
   ]
  },
  {
   "cell_type": "code",
   "execution_count": 5,
   "metadata": {
    "vscode": {
     "languageId": "r"
    }
   },
   "outputs": [],
   "source": []
  },
  {
   "cell_type": "code",
   "execution_count": 6,
   "metadata": {
    "vscode": {
     "languageId": "r"
    }
   },
   "outputs": [],
   "source": [
    "order_cdr3df.fx <- function(mycdr3df) { # output from cdr3_dataframe.fx\n",
    "\n",
    "    mycdr3df$sampletype <- NA\n",
    "    mycdr3df$sampletype[grepl(\"PBMC\", mycdr3df$samplename)] <- \"PBMC\"\n",
    "    mycdr3df$sampletype[grepl(\"cfDNA\", mycdr3df$samplename)] <- \"cfDNA\"\n",
    "    mycdr3df$sampletype[grepl(\"FFPE\", mycdr3df$samplename)] <- \"Tumor\"\n",
    "\n",
    "    # create column cycle in cdr3df and add cycle info from samplename\n",
    "    mycdr3df$cycle <- NA\n",
    "    mycdr3df$cycle[grepl(\"FFPE\", mycdr3df$samplename)] <- \"Baseline\"\n",
    "    mycdr3df$cycle[grepl(\"-01\", mycdr3df$samplename)] <- \"Pre-cycle 1\"\n",
    "    mycdr3df$cycle[grepl(\"-02\", mycdr3df$samplename)] <- \"Pre-cycle 2\"\n",
    "    mycdr3df$cycle[grepl(\"-03\", mycdr3df$samplename)] <- \"Pre-cycle 3\"\n",
    "    mycdr3df$cycle[grepl(\"-04\", mycdr3df$samplename)] <- \"Pre-cycle 4\"\n",
    "    mycdr3df$cycle[grepl(\"-05\", mycdr3df$samplename)] <- \"Pre-cycle 5\"\n",
    "\n",
    "    mycdr3df$samplelabel <- paste0(mycdr3df$cycle, \" - \", mycdr3df$sampletype) # for plotting\n",
    "\n",
    "    # order sampletype Tumor, PBMC, cfDNA\n",
    "    mycdr3df$sampletype <- factor(mycdr3df$sampletype, levels = c(\"Tumor\", \"PBMC\", \"cfDNA\"))\n",
    "    # order samplename by cycle and sampletype\n",
    "    mycdr3df$samplename <- factor(mycdr3df$samplename, levels = unique(mycdr3df$samplename[order(mycdr3df$cycle, mycdr3df$sampletype)]))\n",
    "# order samplelabel same as samplename \n",
    "    mycdr3df$samplelabel <- factor(mycdr3df$samplelabel, levels = unique(mycdr3df$samplelabel[order(mycdr3df$cycle, mycdr3df$sampletype)]))\n",
    "\n",
    "    return(mycdr3df)\n",
    "}"
   ]
  },
  {
   "cell_type": "markdown",
   "metadata": {},
   "source": [
    "# Paths"
   ]
  },
  {
   "cell_type": "code",
   "execution_count": 7,
   "metadata": {
    "vscode": {
     "languageId": "r"
    }
   },
   "outputs": [],
   "source": [
    "datapath <- \"/Users/anabbi/OneDrive - UHN/Documents/INTERCEPT/Data/\"\n",
    "plotpath <- \"/Users/anabbi/OneDrive - UHN/Documents/INTERCEPT/Plots/\"\n",
    "manifestpath <- \"/Users/anabbi/OneDrive - UHN/Documents/INTERCEPT/Manifests/\"\n",
    "gitpath <- \"/Users/anabbi/git/ped_CapTCRseq/\""
   ]
  },
  {
   "cell_type": "code",
   "execution_count": 8,
   "metadata": {
    "vscode": {
     "languageId": "r"
    }
   },
   "outputs": [],
   "source": [
    "h4hpath <- \"/Users/anabbi/Desktop/H4H/INTERCEPT/\""
   ]
  },
  {
   "cell_type": "markdown",
   "metadata": {},
   "source": [
    "# Main"
   ]
  },
  {
   "cell_type": "code",
   "execution_count": 9,
   "metadata": {
    "vscode": {
     "languageId": "r"
    }
   },
   "outputs": [],
   "source": [
    "meta_div <- readr::read_rds(paste0(datapath, \"capTCRseq/meta_div_goodsamples.rds\"))"
   ]
  },
  {
   "cell_type": "code",
   "execution_count": 10,
   "metadata": {
    "vscode": {
     "languageId": "r"
    }
   },
   "outputs": [],
   "source": [
    "meta_div <- meta_div[ !is.na(meta_div$TRB),]"
   ]
  },
  {
   "cell_type": "code",
   "execution_count": 11,
   "metadata": {
    "vscode": {
     "languageId": "r"
    }
   },
   "outputs": [
    {
     "data": {
      "text/html": [
       "<style>\n",
       ".list-inline {list-style: none; margin:0; padding: 0}\n",
       ".list-inline>li {display: inline-block}\n",
       ".list-inline>li:not(:last-child)::after {content: \"\\00b7\"; padding: 0 .5ex}\n",
       "</style>\n",
       "<ol class=list-inline><li>504</li><li>66</li></ol>\n"
      ],
      "text/latex": [
       "\\begin{enumerate*}\n",
       "\\item 504\n",
       "\\item 66\n",
       "\\end{enumerate*}\n"
      ],
      "text/markdown": [
       "1. 504\n",
       "2. 66\n",
       "\n",
       "\n"
      ],
      "text/plain": [
       "[1] 504  66"
      ]
     },
     "metadata": {},
     "output_type": "display_data"
    }
   ],
   "source": [
    "dim(meta_div)"
   ]
  },
  {
   "cell_type": "code",
   "execution_count": 12,
   "metadata": {
    "vscode": {
     "languageId": "r"
    }
   },
   "outputs": [
    {
     "data": {
      "text/plain": [
       "\n",
       "  ALCL    ALL    AML   ARMS     BL    BLL    CML  DLBCL   ERMS    EWS     HB \n",
       "     9     99     45      6     23     10     13     12     23     34     16 \n",
       "    HD HR ALL    LFS  MS NB     NB Normal     OS  PMBCL SR ALL  T-ALL  WILMS \n",
       "    38     53     10      1     13     14     48      8      7     16      6 "
      ]
     },
     "metadata": {},
     "output_type": "display_data"
    }
   ],
   "source": [
    "table(meta_div$Disease_type)"
   ]
  },
  {
   "cell_type": "code",
   "execution_count": 13,
   "metadata": {
    "vscode": {
     "languageId": "r"
    }
   },
   "outputs": [],
   "source": [
    "# remove LFS and Normal\n",
    "meta_div <- meta_div[meta_div$Disease_type != \"LFS\",]\n",
    "meta_div <- meta_div[meta_div$Disease_type != \"Normal\",]"
   ]
  },
  {
   "cell_type": "code",
   "execution_count": 14,
   "metadata": {
    "vscode": {
     "languageId": "r"
    }
   },
   "outputs": [
    {
     "data": {
      "text/html": [
       "<table class=\"dataframe\">\n",
       "<caption>A data.frame: 6 x 20</caption>\n",
       "<thead>\n",
       "\t<tr><th></th><th scope=col>sample_id</th><th scope=col>Patient</th><th scope=col>cycle</th><th scope=col>FOLD</th><th scope=col>ATC</th><th scope=col>Age</th><th scope=col>Disease_type</th><th scope=col>TE_fold</th><th scope=col>CD3</th><th scope=col>EM</th><th scope=col>CM</th><th scope=col>Naïve</th><th scope=col>SCM</th><th scope=col>TE</th><th scope=col>EM%</th><th scope=col>CM%</th><th scope=col>Naïve%</th><th scope=col>SCM%</th><th scope=col>TE%</th><th scope=col>Naïve/TE</th></tr>\n",
       "\t<tr><th></th><th scope=col>&lt;chr&gt;</th><th scope=col>&lt;chr&gt;</th><th scope=col>&lt;chr&gt;</th><th scope=col>&lt;dbl&gt;</th><th scope=col>&lt;dbl&gt;</th><th scope=col>&lt;dbl&gt;</th><th scope=col>&lt;chr&gt;</th><th scope=col>&lt;dbl&gt;</th><th scope=col>&lt;int&gt;</th><th scope=col>&lt;int&gt;</th><th scope=col>&lt;int&gt;</th><th scope=col>&lt;int&gt;</th><th scope=col>&lt;int&gt;</th><th scope=col>&lt;int&gt;</th><th scope=col>&lt;dbl&gt;</th><th scope=col>&lt;dbl&gt;</th><th scope=col>&lt;dbl&gt;</th><th scope=col>&lt;dbl&gt;</th><th scope=col>&lt;dbl&gt;</th><th scope=col>&lt;dbl&gt;</th></tr>\n",
       "</thead>\n",
       "<tbody>\n",
       "\t<tr><th scope=row>673</th><td>CHP_394_01</td><td>CHP_394</td><td>X01</td><td>6.2</td><td>101.20</td><td>17</td><td>ERMS</td><td>6.2</td><td> 835</td><td>  0</td><td>115</td><td>433</td><td>27</td><td> 260</td><td> 0.00000</td><td>13.772455</td><td>51.856287</td><td>3.2335329</td><td>31.13772</td><td>1.66538462</td></tr>\n",
       "\t<tr><th scope=row>676</th><td>CHP_394_04</td><td>CHP_394</td><td>X04</td><td>0.7</td><td>140.70</td><td>17</td><td>ERMS</td><td>0.7</td><td>2194</td><td>280</td><td>809</td><td> 58</td><td> 2</td><td>1045</td><td>12.76208</td><td>36.873291</td><td> 2.643573</td><td>0.0911577</td><td>47.62990</td><td>0.05550239</td></tr>\n",
       "\t<tr><th scope=row>202</th><td>CHP_394_02</td><td>CHP_394</td><td>X02</td><td>0.7</td><td>235.04</td><td>17</td><td>ERMS</td><td>0.7</td><td> 712</td><td>  0</td><td> 20</td><td> 97</td><td>70</td><td> 525</td><td> 0.00000</td><td> 2.808989</td><td>13.623596</td><td>9.8314607</td><td>73.73596</td><td>0.18476190</td></tr>\n",
       "\t<tr><th scope=row>203</th><td>CHP_394_04</td><td>CHP_394</td><td>X04</td><td>0.7</td><td>140.70</td><td>17</td><td>ERMS</td><td>0.7</td><td>2194</td><td>280</td><td>809</td><td> 58</td><td> 2</td><td>1045</td><td>12.76208</td><td>36.873291</td><td> 2.643573</td><td>0.0911577</td><td>47.62990</td><td>0.05550239</td></tr>\n",
       "\t<tr><th scope=row>204</th><td>CHP_394_05</td><td>CHP_394</td><td>X05</td><td>0.7</td><td>394.40</td><td>17</td><td>ERMS</td><td>0.7</td><td> 295</td><td> 35</td><td>180</td><td>  0</td><td> 0</td><td>  80</td><td>11.86441</td><td>61.016949</td><td> 0.000000</td><td>0.0000000</td><td>27.11864</td><td>0.00000000</td></tr>\n",
       "\t<tr><th scope=row>3761</th><td>CHP_394_01</td><td>CHP_394</td><td>X00</td><td>6.2</td><td>101.20</td><td>17</td><td>ERMS</td><td>6.2</td><td> 835</td><td>  0</td><td>115</td><td>433</td><td>27</td><td> 260</td><td> 0.00000</td><td>13.772455</td><td>51.856287</td><td>3.2335329</td><td>31.13772</td><td>1.66538462</td></tr>\n",
       "</tbody>\n",
       "</table>\n"
      ],
      "text/latex": [
       "A data.frame: 6 x 20\n",
       "\\begin{tabular}{r|llllllllllllllllllll}\n",
       "  & sample\\_id & Patient & cycle & FOLD & ATC & Age & Disease\\_type & TE\\_fold & CD3 & EM & CM & Naïve & SCM & TE & EM\\% & CM\\% & Naïve\\% & SCM\\% & TE\\% & Naïve/TE\\\\\n",
       "  & <chr> & <chr> & <chr> & <dbl> & <dbl> & <dbl> & <chr> & <dbl> & <int> & <int> & <int> & <int> & <int> & <int> & <dbl> & <dbl> & <dbl> & <dbl> & <dbl> & <dbl>\\\\\n",
       "\\hline\n",
       "\t673 & CHP\\_394\\_01 & CHP\\_394 & X01 & 6.2 & 101.20 & 17 & ERMS & 6.2 &  835 &   0 & 115 & 433 & 27 &  260 &  0.00000 & 13.772455 & 51.856287 & 3.2335329 & 31.13772 & 1.66538462\\\\\n",
       "\t676 & CHP\\_394\\_04 & CHP\\_394 & X04 & 0.7 & 140.70 & 17 & ERMS & 0.7 & 2194 & 280 & 809 &  58 &  2 & 1045 & 12.76208 & 36.873291 &  2.643573 & 0.0911577 & 47.62990 & 0.05550239\\\\\n",
       "\t202 & CHP\\_394\\_02 & CHP\\_394 & X02 & 0.7 & 235.04 & 17 & ERMS & 0.7 &  712 &   0 &  20 &  97 & 70 &  525 &  0.00000 &  2.808989 & 13.623596 & 9.8314607 & 73.73596 & 0.18476190\\\\\n",
       "\t203 & CHP\\_394\\_04 & CHP\\_394 & X04 & 0.7 & 140.70 & 17 & ERMS & 0.7 & 2194 & 280 & 809 &  58 &  2 & 1045 & 12.76208 & 36.873291 &  2.643573 & 0.0911577 & 47.62990 & 0.05550239\\\\\n",
       "\t204 & CHP\\_394\\_05 & CHP\\_394 & X05 & 0.7 & 394.40 & 17 & ERMS & 0.7 &  295 &  35 & 180 &   0 &  0 &   80 & 11.86441 & 61.016949 &  0.000000 & 0.0000000 & 27.11864 & 0.00000000\\\\\n",
       "\t3761 & CHP\\_394\\_01 & CHP\\_394 & X00 & 6.2 & 101.20 & 17 & ERMS & 6.2 &  835 &   0 & 115 & 433 & 27 &  260 &  0.00000 & 13.772455 & 51.856287 & 3.2335329 & 31.13772 & 1.66538462\\\\\n",
       "\\end{tabular}\n"
      ],
      "text/markdown": [
       "\n",
       "A data.frame: 6 x 20\n",
       "\n",
       "| <!--/--> | sample_id &lt;chr&gt; | Patient &lt;chr&gt; | cycle &lt;chr&gt; | FOLD &lt;dbl&gt; | ATC &lt;dbl&gt; | Age &lt;dbl&gt; | Disease_type &lt;chr&gt; | TE_fold &lt;dbl&gt; | CD3 &lt;int&gt; | EM &lt;int&gt; | CM &lt;int&gt; | Naïve &lt;int&gt; | SCM &lt;int&gt; | TE &lt;int&gt; | EM% &lt;dbl&gt; | CM% &lt;dbl&gt; | Naïve% &lt;dbl&gt; | SCM% &lt;dbl&gt; | TE% &lt;dbl&gt; | Naïve/TE &lt;dbl&gt; |\n",
       "|---|---|---|---|---|---|---|---|---|---|---|---|---|---|---|---|---|---|---|---|---|\n",
       "| 673 | CHP_394_01 | CHP_394 | X01 | 6.2 | 101.20 | 17 | ERMS | 6.2 |  835 |   0 | 115 | 433 | 27 |  260 |  0.00000 | 13.772455 | 51.856287 | 3.2335329 | 31.13772 | 1.66538462 |\n",
       "| 676 | CHP_394_04 | CHP_394 | X04 | 0.7 | 140.70 | 17 | ERMS | 0.7 | 2194 | 280 | 809 |  58 |  2 | 1045 | 12.76208 | 36.873291 |  2.643573 | 0.0911577 | 47.62990 | 0.05550239 |\n",
       "| 202 | CHP_394_02 | CHP_394 | X02 | 0.7 | 235.04 | 17 | ERMS | 0.7 |  712 |   0 |  20 |  97 | 70 |  525 |  0.00000 |  2.808989 | 13.623596 | 9.8314607 | 73.73596 | 0.18476190 |\n",
       "| 203 | CHP_394_04 | CHP_394 | X04 | 0.7 | 140.70 | 17 | ERMS | 0.7 | 2194 | 280 | 809 |  58 |  2 | 1045 | 12.76208 | 36.873291 |  2.643573 | 0.0911577 | 47.62990 | 0.05550239 |\n",
       "| 204 | CHP_394_05 | CHP_394 | X05 | 0.7 | 394.40 | 17 | ERMS | 0.7 |  295 |  35 | 180 |   0 |  0 |   80 | 11.86441 | 61.016949 |  0.000000 | 0.0000000 | 27.11864 | 0.00000000 |\n",
       "| 3761 | CHP_394_01 | CHP_394 | X00 | 6.2 | 101.20 | 17 | ERMS | 6.2 |  835 |   0 | 115 | 433 | 27 |  260 |  0.00000 | 13.772455 | 51.856287 | 3.2335329 | 31.13772 | 1.66538462 |\n",
       "\n"
      ],
      "text/plain": [
       "     sample_id  Patient cycle FOLD ATC    Age Disease_type TE_fold CD3  EM  CM \n",
       "673  CHP_394_01 CHP_394 X01   6.2  101.20 17  ERMS         6.2      835   0 115\n",
       "676  CHP_394_04 CHP_394 X04   0.7  140.70 17  ERMS         0.7     2194 280 809\n",
       "202  CHP_394_02 CHP_394 X02   0.7  235.04 17  ERMS         0.7      712   0  20\n",
       "203  CHP_394_04 CHP_394 X04   0.7  140.70 17  ERMS         0.7     2194 280 809\n",
       "204  CHP_394_05 CHP_394 X05   0.7  394.40 17  ERMS         0.7      295  35 180\n",
       "3761 CHP_394_01 CHP_394 X00   6.2  101.20 17  ERMS         6.2      835   0 115\n",
       "     Naïve SCM TE   EM%      CM%       Naïve%    SCM%      TE%      Naïve/TE  \n",
       "673  433   27   260  0.00000 13.772455 51.856287 3.2335329 31.13772 1.66538462\n",
       "676   58    2  1045 12.76208 36.873291  2.643573 0.0911577 47.62990 0.05550239\n",
       "202   97   70   525  0.00000  2.808989 13.623596 9.8314607 73.73596 0.18476190\n",
       "203   58    2  1045 12.76208 36.873291  2.643573 0.0911577 47.62990 0.05550239\n",
       "204    0    0    80 11.86441 61.016949  0.000000 0.0000000 27.11864 0.00000000\n",
       "3761 433   27   260  0.00000 13.772455 51.856287 3.2335329 31.13772 1.66538462"
      ]
     },
     "metadata": {},
     "output_type": "display_data"
    }
   ],
   "source": [
    "meta_div[ meta_div$Patient == \"CHP_394\",1:20]"
   ]
  },
  {
   "cell_type": "code",
   "execution_count": 15,
   "metadata": {
    "vscode": {
     "languageId": "r"
    }
   },
   "outputs": [
    {
     "data": {
      "text/html": [
       "<table class=\"dataframe\">\n",
       "<caption>A data.frame: 5 x 6</caption>\n",
       "<thead>\n",
       "\t<tr><th></th><th scope=col>Patient</th><th scope=col>cycle</th><th scope=col>sampletype</th><th scope=col>TRB</th><th scope=col>Reads</th><th scope=col>file</th></tr>\n",
       "\t<tr><th></th><th scope=col>&lt;chr&gt;</th><th scope=col>&lt;chr&gt;</th><th scope=col>&lt;chr&gt;</th><th scope=col>&lt;int&gt;</th><th scope=col>&lt;int&gt;</th><th scope=col>&lt;chr&gt;</th></tr>\n",
       "</thead>\n",
       "<tbody>\n",
       "\t<tr><th scope=row>638</th><td>CHP_387</td><td>X01</td><td>PBMC </td><td>279</td><td>14179</td><td>batch8_14Jan2020/mixcr/clones/CLONES_TRBCHP_387-01-PBMC-DNA.txt                </td></tr>\n",
       "\t<tr><th scope=row>640</th><td>CHP_387</td><td>X03</td><td>PBMC </td><td> 58</td><td>  343</td><td>batch11_23Apr2020/mixcr/clones/CLONES_TRBCHP_387-03_PBMC_DNA.txt               </td></tr>\n",
       "\t<tr><th scope=row>173</th><td>CHP_387</td><td>X01</td><td>cfDNA</td><td>  5</td><td>15263</td><td>batch7_cfDNA_29Jun2020/mixcr/clones/CLONES_TRBCHP_387-01_cfDNA.txt             </td></tr>\n",
       "\t<tr><th scope=row>174</th><td>CHP_387</td><td>X02</td><td>cfDNA</td><td>  4</td><td> 1749</td><td>remaining_batch_2_cfDNA_15April2021/mixcr/clones/CLONES_TRBCHP_387-02_cfDNA.txt</td></tr>\n",
       "\t<tr><th scope=row>175</th><td>CHP_387</td><td>X03</td><td>cfDNA</td><td> 10</td><td> 8141</td><td>batch11_cfDNA_11Sep2020/mixcr/clones/CLONES_TRBCHP_387-03_cfDNA.txt            </td></tr>\n",
       "</tbody>\n",
       "</table>\n"
      ],
      "text/latex": [
       "A data.frame: 5 x 6\n",
       "\\begin{tabular}{r|llllll}\n",
       "  & Patient & cycle & sampletype & TRB & Reads & file\\\\\n",
       "  & <chr> & <chr> & <chr> & <int> & <int> & <chr>\\\\\n",
       "\\hline\n",
       "\t638 & CHP\\_387 & X01 & PBMC  & 279 & 14179 & batch8\\_14Jan2020/mixcr/clones/CLONES\\_TRBCHP\\_387-01-PBMC-DNA.txt                \\\\\n",
       "\t640 & CHP\\_387 & X03 & PBMC  &  58 &   343 & batch11\\_23Apr2020/mixcr/clones/CLONES\\_TRBCHP\\_387-03\\_PBMC\\_DNA.txt               \\\\\n",
       "\t173 & CHP\\_387 & X01 & cfDNA &   5 & 15263 & batch7\\_cfDNA\\_29Jun2020/mixcr/clones/CLONES\\_TRBCHP\\_387-01\\_cfDNA.txt             \\\\\n",
       "\t174 & CHP\\_387 & X02 & cfDNA &   4 &  1749 & remaining\\_batch\\_2\\_cfDNA\\_15April2021/mixcr/clones/CLONES\\_TRBCHP\\_387-02\\_cfDNA.txt\\\\\n",
       "\t175 & CHP\\_387 & X03 & cfDNA &  10 &  8141 & batch11\\_cfDNA\\_11Sep2020/mixcr/clones/CLONES\\_TRBCHP\\_387-03\\_cfDNA.txt            \\\\\n",
       "\\end{tabular}\n"
      ],
      "text/markdown": [
       "\n",
       "A data.frame: 5 x 6\n",
       "\n",
       "| <!--/--> | Patient &lt;chr&gt; | cycle &lt;chr&gt; | sampletype &lt;chr&gt; | TRB &lt;int&gt; | Reads &lt;int&gt; | file &lt;chr&gt; |\n",
       "|---|---|---|---|---|---|---|\n",
       "| 638 | CHP_387 | X01 | PBMC  | 279 | 14179 | batch8_14Jan2020/mixcr/clones/CLONES_TRBCHP_387-01-PBMC-DNA.txt                 |\n",
       "| 640 | CHP_387 | X03 | PBMC  |  58 |   343 | batch11_23Apr2020/mixcr/clones/CLONES_TRBCHP_387-03_PBMC_DNA.txt                |\n",
       "| 173 | CHP_387 | X01 | cfDNA |   5 | 15263 | batch7_cfDNA_29Jun2020/mixcr/clones/CLONES_TRBCHP_387-01_cfDNA.txt              |\n",
       "| 174 | CHP_387 | X02 | cfDNA |   4 |  1749 | remaining_batch_2_cfDNA_15April2021/mixcr/clones/CLONES_TRBCHP_387-02_cfDNA.txt |\n",
       "| 175 | CHP_387 | X03 | cfDNA |  10 |  8141 | batch11_cfDNA_11Sep2020/mixcr/clones/CLONES_TRBCHP_387-03_cfDNA.txt             |\n",
       "\n"
      ],
      "text/plain": [
       "    Patient cycle sampletype TRB Reads\n",
       "638 CHP_387 X01   PBMC       279 14179\n",
       "640 CHP_387 X03   PBMC        58   343\n",
       "173 CHP_387 X01   cfDNA        5 15263\n",
       "174 CHP_387 X02   cfDNA        4  1749\n",
       "175 CHP_387 X03   cfDNA       10  8141\n",
       "    file                                                                           \n",
       "638 batch8_14Jan2020/mixcr/clones/CLONES_TRBCHP_387-01-PBMC-DNA.txt                \n",
       "640 batch11_23Apr2020/mixcr/clones/CLONES_TRBCHP_387-03_PBMC_DNA.txt               \n",
       "173 batch7_cfDNA_29Jun2020/mixcr/clones/CLONES_TRBCHP_387-01_cfDNA.txt             \n",
       "174 remaining_batch_2_cfDNA_15April2021/mixcr/clones/CLONES_TRBCHP_387-02_cfDNA.txt\n",
       "175 batch11_cfDNA_11Sep2020/mixcr/clones/CLONES_TRBCHP_387-03_cfDNA.txt            "
      ]
     },
     "metadata": {},
     "output_type": "display_data"
    }
   ],
   "source": [
    "meta_div[ meta_div$Patient == \"CHP_387\",c(\"Patient\", \"cycle\", \"sampletype\", \"TRB\", \"Reads\", \"file\")]"
   ]
  },
  {
   "cell_type": "code",
   "execution_count": 16,
   "metadata": {
    "vscode": {
     "languageId": "r"
    }
   },
   "outputs": [],
   "source": [
    "mytab <- as.data.frame.matrix(table(meta_div$Patient, meta_div$sampletype) )"
   ]
  },
  {
   "cell_type": "code",
   "execution_count": 17,
   "metadata": {
    "vscode": {
     "languageId": "r"
    }
   },
   "outputs": [],
   "source": [
    "morethanone <- mytab[rowSums(mytab) > 1, ]"
   ]
  },
  {
   "cell_type": "code",
   "execution_count": 18,
   "metadata": {
    "vscode": {
     "languageId": "r"
    }
   },
   "outputs": [
    {
     "data": {
      "text/html": [
       "<table class=\"dataframe\">\n",
       "<caption>A data.frame: 6 x 3</caption>\n",
       "<thead>\n",
       "\t<tr><th></th><th scope=col>cfDNA</th><th scope=col>PBMC</th><th scope=col>Tumor</th></tr>\n",
       "\t<tr><th></th><th scope=col>&lt;int&gt;</th><th scope=col>&lt;int&gt;</th><th scope=col>&lt;int&gt;</th></tr>\n",
       "</thead>\n",
       "<tbody>\n",
       "\t<tr><th scope=row>CHP_323</th><td>2</td><td>2</td><td>0</td></tr>\n",
       "\t<tr><th scope=row>CHP_324</th><td>2</td><td>1</td><td>0</td></tr>\n",
       "\t<tr><th scope=row>CHP_328</th><td>1</td><td>2</td><td>0</td></tr>\n",
       "\t<tr><th scope=row>CHP_330</th><td>1</td><td>1</td><td>0</td></tr>\n",
       "\t<tr><th scope=row>CHP_331</th><td>1</td><td>2</td><td>0</td></tr>\n",
       "\t<tr><th scope=row>CHP_334</th><td>3</td><td>0</td><td>0</td></tr>\n",
       "</tbody>\n",
       "</table>\n"
      ],
      "text/latex": [
       "A data.frame: 6 x 3\n",
       "\\begin{tabular}{r|lll}\n",
       "  & cfDNA & PBMC & Tumor\\\\\n",
       "  & <int> & <int> & <int>\\\\\n",
       "\\hline\n",
       "\tCHP\\_323 & 2 & 2 & 0\\\\\n",
       "\tCHP\\_324 & 2 & 1 & 0\\\\\n",
       "\tCHP\\_328 & 1 & 2 & 0\\\\\n",
       "\tCHP\\_330 & 1 & 1 & 0\\\\\n",
       "\tCHP\\_331 & 1 & 2 & 0\\\\\n",
       "\tCHP\\_334 & 3 & 0 & 0\\\\\n",
       "\\end{tabular}\n"
      ],
      "text/markdown": [
       "\n",
       "A data.frame: 6 x 3\n",
       "\n",
       "| <!--/--> | cfDNA &lt;int&gt; | PBMC &lt;int&gt; | Tumor &lt;int&gt; |\n",
       "|---|---|---|---|\n",
       "| CHP_323 | 2 | 2 | 0 |\n",
       "| CHP_324 | 2 | 1 | 0 |\n",
       "| CHP_328 | 1 | 2 | 0 |\n",
       "| CHP_330 | 1 | 1 | 0 |\n",
       "| CHP_331 | 1 | 2 | 0 |\n",
       "| CHP_334 | 3 | 0 | 0 |\n",
       "\n"
      ],
      "text/plain": [
       "        cfDNA PBMC Tumor\n",
       "CHP_323 2     2    0    \n",
       "CHP_324 2     1    0    \n",
       "CHP_328 1     2    0    \n",
       "CHP_330 1     1    0    \n",
       "CHP_331 1     2    0    \n",
       "CHP_334 3     0    0    "
      ]
     },
     "metadata": {},
     "output_type": "display_data"
    }
   ],
   "source": [
    "head(morethanone)"
   ]
  },
  {
   "cell_type": "markdown",
   "metadata": {},
   "source": [
    "# Barplot"
   ]
  },
  {
   "cell_type": "code",
   "execution_count": 19,
   "metadata": {
    "vscode": {
     "languageId": "r"
    }
   },
   "outputs": [
    {
     "data": {
      "text/html": [
       "<table class=\"dataframe\">\n",
       "<caption>A data.frame: 5 x 6</caption>\n",
       "<thead>\n",
       "\t<tr><th></th><th scope=col>Patient</th><th scope=col>cycle</th><th scope=col>sampletype</th><th scope=col>TRB</th><th scope=col>Reads</th><th scope=col>file</th></tr>\n",
       "\t<tr><th></th><th scope=col>&lt;chr&gt;</th><th scope=col>&lt;chr&gt;</th><th scope=col>&lt;chr&gt;</th><th scope=col>&lt;int&gt;</th><th scope=col>&lt;int&gt;</th><th scope=col>&lt;chr&gt;</th></tr>\n",
       "</thead>\n",
       "<tbody>\n",
       "\t<tr><th scope=row>638</th><td>CHP_387</td><td>X01</td><td>PBMC </td><td>279</td><td>14179</td><td>batch8_14Jan2020/mixcr/clones/CLONES_TRBCHP_387-01-PBMC-DNA.txt                </td></tr>\n",
       "\t<tr><th scope=row>640</th><td>CHP_387</td><td>X03</td><td>PBMC </td><td> 58</td><td>  343</td><td>batch11_23Apr2020/mixcr/clones/CLONES_TRBCHP_387-03_PBMC_DNA.txt               </td></tr>\n",
       "\t<tr><th scope=row>173</th><td>CHP_387</td><td>X01</td><td>cfDNA</td><td>  5</td><td>15263</td><td>batch7_cfDNA_29Jun2020/mixcr/clones/CLONES_TRBCHP_387-01_cfDNA.txt             </td></tr>\n",
       "\t<tr><th scope=row>174</th><td>CHP_387</td><td>X02</td><td>cfDNA</td><td>  4</td><td> 1749</td><td>remaining_batch_2_cfDNA_15April2021/mixcr/clones/CLONES_TRBCHP_387-02_cfDNA.txt</td></tr>\n",
       "\t<tr><th scope=row>175</th><td>CHP_387</td><td>X03</td><td>cfDNA</td><td> 10</td><td> 8141</td><td>batch11_cfDNA_11Sep2020/mixcr/clones/CLONES_TRBCHP_387-03_cfDNA.txt            </td></tr>\n",
       "</tbody>\n",
       "</table>\n"
      ],
      "text/latex": [
       "A data.frame: 5 x 6\n",
       "\\begin{tabular}{r|llllll}\n",
       "  & Patient & cycle & sampletype & TRB & Reads & file\\\\\n",
       "  & <chr> & <chr> & <chr> & <int> & <int> & <chr>\\\\\n",
       "\\hline\n",
       "\t638 & CHP\\_387 & X01 & PBMC  & 279 & 14179 & batch8\\_14Jan2020/mixcr/clones/CLONES\\_TRBCHP\\_387-01-PBMC-DNA.txt                \\\\\n",
       "\t640 & CHP\\_387 & X03 & PBMC  &  58 &   343 & batch11\\_23Apr2020/mixcr/clones/CLONES\\_TRBCHP\\_387-03\\_PBMC\\_DNA.txt               \\\\\n",
       "\t173 & CHP\\_387 & X01 & cfDNA &   5 & 15263 & batch7\\_cfDNA\\_29Jun2020/mixcr/clones/CLONES\\_TRBCHP\\_387-01\\_cfDNA.txt             \\\\\n",
       "\t174 & CHP\\_387 & X02 & cfDNA &   4 &  1749 & remaining\\_batch\\_2\\_cfDNA\\_15April2021/mixcr/clones/CLONES\\_TRBCHP\\_387-02\\_cfDNA.txt\\\\\n",
       "\t175 & CHP\\_387 & X03 & cfDNA &  10 &  8141 & batch11\\_cfDNA\\_11Sep2020/mixcr/clones/CLONES\\_TRBCHP\\_387-03\\_cfDNA.txt            \\\\\n",
       "\\end{tabular}\n"
      ],
      "text/markdown": [
       "\n",
       "A data.frame: 5 x 6\n",
       "\n",
       "| <!--/--> | Patient &lt;chr&gt; | cycle &lt;chr&gt; | sampletype &lt;chr&gt; | TRB &lt;int&gt; | Reads &lt;int&gt; | file &lt;chr&gt; |\n",
       "|---|---|---|---|---|---|---|\n",
       "| 638 | CHP_387 | X01 | PBMC  | 279 | 14179 | batch8_14Jan2020/mixcr/clones/CLONES_TRBCHP_387-01-PBMC-DNA.txt                 |\n",
       "| 640 | CHP_387 | X03 | PBMC  |  58 |   343 | batch11_23Apr2020/mixcr/clones/CLONES_TRBCHP_387-03_PBMC_DNA.txt                |\n",
       "| 173 | CHP_387 | X01 | cfDNA |   5 | 15263 | batch7_cfDNA_29Jun2020/mixcr/clones/CLONES_TRBCHP_387-01_cfDNA.txt              |\n",
       "| 174 | CHP_387 | X02 | cfDNA |   4 |  1749 | remaining_batch_2_cfDNA_15April2021/mixcr/clones/CLONES_TRBCHP_387-02_cfDNA.txt |\n",
       "| 175 | CHP_387 | X03 | cfDNA |  10 |  8141 | batch11_cfDNA_11Sep2020/mixcr/clones/CLONES_TRBCHP_387-03_cfDNA.txt             |\n",
       "\n"
      ],
      "text/plain": [
       "    Patient cycle sampletype TRB Reads\n",
       "638 CHP_387 X01   PBMC       279 14179\n",
       "640 CHP_387 X03   PBMC        58   343\n",
       "173 CHP_387 X01   cfDNA        5 15263\n",
       "174 CHP_387 X02   cfDNA        4  1749\n",
       "175 CHP_387 X03   cfDNA       10  8141\n",
       "    file                                                                           \n",
       "638 batch8_14Jan2020/mixcr/clones/CLONES_TRBCHP_387-01-PBMC-DNA.txt                \n",
       "640 batch11_23Apr2020/mixcr/clones/CLONES_TRBCHP_387-03_PBMC_DNA.txt               \n",
       "173 batch7_cfDNA_29Jun2020/mixcr/clones/CLONES_TRBCHP_387-01_cfDNA.txt             \n",
       "174 remaining_batch_2_cfDNA_15April2021/mixcr/clones/CLONES_TRBCHP_387-02_cfDNA.txt\n",
       "175 batch11_cfDNA_11Sep2020/mixcr/clones/CLONES_TRBCHP_387-03_cfDNA.txt            "
      ]
     },
     "metadata": {},
     "output_type": "display_data"
    }
   ],
   "source": [
    "meta_div[ meta_div$Patient == \"CHP_387\",c(\"Patient\", \"cycle\", \"sampletype\", \"TRB\", \"Reads\", \"file\")]"
   ]
  },
  {
   "cell_type": "code",
   "execution_count": 20,
   "metadata": {
    "vscode": {
     "languageId": "r"
    }
   },
   "outputs": [
    {
     "data": {
      "text/html": [
       "<style>\n",
       ".list-inline {list-style: none; margin:0; padding: 0}\n",
       ".list-inline>li {display: inline-block}\n",
       ".list-inline>li:not(:last-child)::after {content: \"\\00b7\"; padding: 0 .5ex}\n",
       "</style>\n",
       "<ol class=list-inline><li>480</li><li>66</li></ol>\n"
      ],
      "text/latex": [
       "\\begin{enumerate*}\n",
       "\\item 480\n",
       "\\item 66\n",
       "\\end{enumerate*}\n"
      ],
      "text/markdown": [
       "1. 480\n",
       "2. 66\n",
       "\n",
       "\n"
      ],
      "text/plain": [
       "[1] 480  66"
      ]
     },
     "metadata": {},
     "output_type": "display_data"
    }
   ],
   "source": [
    "dim(meta_div)"
   ]
  },
  {
   "cell_type": "code",
   "execution_count": 21,
   "metadata": {
    "vscode": {
     "languageId": "r"
    }
   },
   "outputs": [
    {
     "data": {
      "text/plain": [
       "\n",
       "CHP \n",
       "480 "
      ]
     },
     "metadata": {},
     "output_type": "display_data"
    }
   ],
   "source": [
    "table(meta_div$Group)"
   ]
  },
  {
   "cell_type": "code",
   "execution_count": 22,
   "metadata": {
    "vscode": {
     "languageId": "r"
    }
   },
   "outputs": [],
   "source": [
    "allTCRs <- sum(meta_div$TRB )"
   ]
  },
  {
   "cell_type": "code",
   "execution_count": 23,
   "metadata": {
    "vscode": {
     "languageId": "r"
    }
   },
   "outputs": [],
   "source": [
    "h4hpath <- \"/Users/anabbi/Desktop/H4H/INTERCEPT/NextSeq/\""
   ]
  },
  {
   "cell_type": "code",
   "execution_count": 24,
   "metadata": {
    "vscode": {
     "languageId": "r"
    }
   },
   "outputs": [
    {
     "data": {
      "text/html": [
       "<style>\n",
       ".list-inline {list-style: none; margin:0; padding: 0}\n",
       ".list-inline>li {display: inline-block}\n",
       ".list-inline>li:not(:last-child)::after {content: \"\\00b7\"; padding: 0 .5ex}\n",
       "</style>\n",
       "<ol class=list-inline><li>'sample_id'</li><li>'Patient'</li><li>'cycle'</li><li>'FOLD'</li><li>'ATC'</li><li>'Age'</li><li>'Disease_type'</li><li>'TE_fold'</li><li>'CD3'</li><li>'EM'</li><li>'CM'</li><li>'Naïve'</li><li>'SCM'</li><li>'TE'</li><li>'EM%'</li><li>'CM%'</li><li>'Naïve%'</li><li>'SCM%'</li><li>'TE%'</li><li>'Naïve/TE'</li><li>'N+CM+SCM/TE+EM'</li><li>'PD-1'</li><li>'PDL1'</li><li>'LAG3'</li><li>'TIM3'</li><li>'CTLA4'</li><li>'PD1%'</li><li>'PDL1%'</li><li>'LAG3%'</li><li>'TIM3%'</li><li>'CTLA4%'</li><li>'Any NCR'</li><li>'PD1 + LAG3 + TIM3'</li><li>'cancergroup'</li><li>'agegroup'</li><li>'foldgroup'</li><li>'Remission'</li><li>'Relapse'</li><li>'Transplant'</li><li>'CART'</li><li>'vital_status'</li><li>'LOF'</li><li>'TRB'</li><li>'Reads'</li><li>'CPKR'</li><li>'Average_reads'</li><li>'VMR'</li><li>'Max_reads'</li><li>'Singletons'</li><li>'Doubletons'</li><li>'qD'</li><li>'Sample_Coverage'</li><li>'observed_Richness'</li><li>'estimated_Richness'</li><li>'SE_Richeness'</li><li>'observed_Shannon'</li><li>'estimated_Shannon'</li><li>'SE_Shannon'</li><li>'observed_Simpson'</li><li>'estimated_Simpson'</li><li>'SE_Simpson'</li><li>'basename'</li><li>'file'</li><li>'sampletype'</li><li>'Group'</li><li>'log10shann'</li></ol>\n"
      ],
      "text/latex": [
       "\\begin{enumerate*}\n",
       "\\item 'sample\\_id'\n",
       "\\item 'Patient'\n",
       "\\item 'cycle'\n",
       "\\item 'FOLD'\n",
       "\\item 'ATC'\n",
       "\\item 'Age'\n",
       "\\item 'Disease\\_type'\n",
       "\\item 'TE\\_fold'\n",
       "\\item 'CD3'\n",
       "\\item 'EM'\n",
       "\\item 'CM'\n",
       "\\item 'Naïve'\n",
       "\\item 'SCM'\n",
       "\\item 'TE'\n",
       "\\item 'EM\\%'\n",
       "\\item 'CM\\%'\n",
       "\\item 'Naïve\\%'\n",
       "\\item 'SCM\\%'\n",
       "\\item 'TE\\%'\n",
       "\\item 'Naïve/TE'\n",
       "\\item 'N+CM+SCM/TE+EM'\n",
       "\\item 'PD-1'\n",
       "\\item 'PDL1'\n",
       "\\item 'LAG3'\n",
       "\\item 'TIM3'\n",
       "\\item 'CTLA4'\n",
       "\\item 'PD1\\%'\n",
       "\\item 'PDL1\\%'\n",
       "\\item 'LAG3\\%'\n",
       "\\item 'TIM3\\%'\n",
       "\\item 'CTLA4\\%'\n",
       "\\item 'Any NCR'\n",
       "\\item 'PD1 + LAG3 + TIM3'\n",
       "\\item 'cancergroup'\n",
       "\\item 'agegroup'\n",
       "\\item 'foldgroup'\n",
       "\\item 'Remission'\n",
       "\\item 'Relapse'\n",
       "\\item 'Transplant'\n",
       "\\item 'CART'\n",
       "\\item 'vital\\_status'\n",
       "\\item 'LOF'\n",
       "\\item 'TRB'\n",
       "\\item 'Reads'\n",
       "\\item 'CPKR'\n",
       "\\item 'Average\\_reads'\n",
       "\\item 'VMR'\n",
       "\\item 'Max\\_reads'\n",
       "\\item 'Singletons'\n",
       "\\item 'Doubletons'\n",
       "\\item 'qD'\n",
       "\\item 'Sample\\_Coverage'\n",
       "\\item 'observed\\_Richness'\n",
       "\\item 'estimated\\_Richness'\n",
       "\\item 'SE\\_Richeness'\n",
       "\\item 'observed\\_Shannon'\n",
       "\\item 'estimated\\_Shannon'\n",
       "\\item 'SE\\_Shannon'\n",
       "\\item 'observed\\_Simpson'\n",
       "\\item 'estimated\\_Simpson'\n",
       "\\item 'SE\\_Simpson'\n",
       "\\item 'basename'\n",
       "\\item 'file'\n",
       "\\item 'sampletype'\n",
       "\\item 'Group'\n",
       "\\item 'log10shann'\n",
       "\\end{enumerate*}\n"
      ],
      "text/markdown": [
       "1. 'sample_id'\n",
       "2. 'Patient'\n",
       "3. 'cycle'\n",
       "4. 'FOLD'\n",
       "5. 'ATC'\n",
       "6. 'Age'\n",
       "7. 'Disease_type'\n",
       "8. 'TE_fold'\n",
       "9. 'CD3'\n",
       "10. 'EM'\n",
       "11. 'CM'\n",
       "12. 'Naïve'\n",
       "13. 'SCM'\n",
       "14. 'TE'\n",
       "15. 'EM%'\n",
       "16. 'CM%'\n",
       "17. 'Naïve%'\n",
       "18. 'SCM%'\n",
       "19. 'TE%'\n",
       "20. 'Naïve/TE'\n",
       "21. 'N+CM+SCM/TE+EM'\n",
       "22. 'PD-1'\n",
       "23. 'PDL1'\n",
       "24. 'LAG3'\n",
       "25. 'TIM3'\n",
       "26. 'CTLA4'\n",
       "27. 'PD1%'\n",
       "28. 'PDL1%'\n",
       "29. 'LAG3%'\n",
       "30. 'TIM3%'\n",
       "31. 'CTLA4%'\n",
       "32. 'Any NCR'\n",
       "33. 'PD1 + LAG3 + TIM3'\n",
       "34. 'cancergroup'\n",
       "35. 'agegroup'\n",
       "36. 'foldgroup'\n",
       "37. 'Remission'\n",
       "38. 'Relapse'\n",
       "39. 'Transplant'\n",
       "40. 'CART'\n",
       "41. 'vital_status'\n",
       "42. 'LOF'\n",
       "43. 'TRB'\n",
       "44. 'Reads'\n",
       "45. 'CPKR'\n",
       "46. 'Average_reads'\n",
       "47. 'VMR'\n",
       "48. 'Max_reads'\n",
       "49. 'Singletons'\n",
       "50. 'Doubletons'\n",
       "51. 'qD'\n",
       "52. 'Sample_Coverage'\n",
       "53. 'observed_Richness'\n",
       "54. 'estimated_Richness'\n",
       "55. 'SE_Richeness'\n",
       "56. 'observed_Shannon'\n",
       "57. 'estimated_Shannon'\n",
       "58. 'SE_Shannon'\n",
       "59. 'observed_Simpson'\n",
       "60. 'estimated_Simpson'\n",
       "61. 'SE_Simpson'\n",
       "62. 'basename'\n",
       "63. 'file'\n",
       "64. 'sampletype'\n",
       "65. 'Group'\n",
       "66. 'log10shann'\n",
       "\n",
       "\n"
      ],
      "text/plain": [
       " [1] \"sample_id\"          \"Patient\"            \"cycle\"             \n",
       " [4] \"FOLD\"               \"ATC\"                \"Age\"               \n",
       " [7] \"Disease_type\"       \"TE_fold\"            \"CD3\"               \n",
       "[10] \"EM\"                 \"CM\"                 \"Naïve\"             \n",
       "[13] \"SCM\"                \"TE\"                 \"EM%\"               \n",
       "[16] \"CM%\"                \"Naïve%\"             \"SCM%\"              \n",
       "[19] \"TE%\"                \"Naïve/TE\"           \"N+CM+SCM/TE+EM\"    \n",
       "[22] \"PD-1\"               \"PDL1\"               \"LAG3\"              \n",
       "[25] \"TIM3\"               \"CTLA4\"              \"PD1%\"              \n",
       "[28] \"PDL1%\"              \"LAG3%\"              \"TIM3%\"             \n",
       "[31] \"CTLA4%\"             \"Any NCR\"            \"PD1 + LAG3 + TIM3\" \n",
       "[34] \"cancergroup\"        \"agegroup\"           \"foldgroup\"         \n",
       "[37] \"Remission\"          \"Relapse\"            \"Transplant\"        \n",
       "[40] \"CART\"               \"vital_status\"       \"LOF\"               \n",
       "[43] \"TRB\"                \"Reads\"              \"CPKR\"              \n",
       "[46] \"Average_reads\"      \"VMR\"                \"Max_reads\"         \n",
       "[49] \"Singletons\"         \"Doubletons\"         \"qD\"                \n",
       "[52] \"Sample_Coverage\"    \"observed_Richness\"  \"estimated_Richness\"\n",
       "[55] \"SE_Richeness\"       \"observed_Shannon\"   \"estimated_Shannon\" \n",
       "[58] \"SE_Shannon\"         \"observed_Simpson\"   \"estimated_Simpson\" \n",
       "[61] \"SE_Simpson\"         \"basename\"           \"file\"              \n",
       "[64] \"sampletype\"         \"Group\"              \"log10shann\"        "
      ]
     },
     "metadata": {},
     "output_type": "display_data"
    }
   ],
   "source": [
    "colnames(meta_div)"
   ]
  },
  {
   "cell_type": "code",
   "execution_count": 25,
   "metadata": {
    "vscode": {
     "languageId": "r"
    }
   },
   "outputs": [],
   "source": [
    "int_all_list <- list()\n",
    "\n",
    "for (i in 1:nrow(meta_div)) {\n",
    "    fle <- meta_div[i, \"file\"]\n",
    "    sample <- meta_div[i, \"basename\"]\n",
    "    pat <- meta_div[i, \"Patient\"]\n",
    "    sampletype <- meta_div[i, \"sampletype\"]\n",
    "\n",
    "    onefle <- read.table(paste0(h4hpath, fle), sep = \"\\t\", header = TRUE, stringsAsFactors = F)\n",
    "    # Remove non-productive\n",
    "    onefle <- onefle[!grepl(\"_\", onefle$aaSeqCDR3), ]\n",
    "    onefle <- onefle[!grepl(\"[*]\", onefle$aaSeqCDR3), ]\n",
    "    # next if the file has no productive cdr3\n",
    "    if (nrow(onefle) == 0) {\n",
    "        next\n",
    "    }\n",
    "    onefle$file <- fle\n",
    "    onefle$basename <- sample\n",
    "    onefle$Patient <- pat\n",
    "    onefle$sampletype <- sampletype\n",
    "\n",
    "    int_all_list[length(int_all_list) + 1] <- list(onefle)\n",
    "}\n",
    "int_all <- do.call(\"rbind\", int_all_list)\n"
   ]
  },
  {
   "cell_type": "code",
   "execution_count": 26,
   "metadata": {
    "vscode": {
     "languageId": "r"
    }
   },
   "outputs": [
    {
     "data": {
      "text/html": [
       "<style>\n",
       ".list-inline {list-style: none; margin:0; padding: 0}\n",
       ".list-inline>li {display: inline-block}\n",
       ".list-inline>li:not(:last-child)::after {content: \"\\00b7\"; padding: 0 .5ex}\n",
       "</style>\n",
       "<ol class=list-inline><li>53686</li><li>39</li></ol>\n"
      ],
      "text/latex": [
       "\\begin{enumerate*}\n",
       "\\item 53686\n",
       "\\item 39\n",
       "\\end{enumerate*}\n"
      ],
      "text/markdown": [
       "1. 53686\n",
       "2. 39\n",
       "\n",
       "\n"
      ],
      "text/plain": [
       "[1] 53686    39"
      ]
     },
     "metadata": {},
     "output_type": "display_data"
    }
   ],
   "source": [
    "dim(int_all)"
   ]
  },
  {
   "cell_type": "code",
   "execution_count": 27,
   "metadata": {
    "vscode": {
     "languageId": "r"
    }
   },
   "outputs": [
    {
     "data": {
      "text/html": [
       "<table class=\"dataframe\">\n",
       "<caption>A data.frame: 6 x 39</caption>\n",
       "<thead>\n",
       "\t<tr><th></th><th scope=col>cloneId</th><th scope=col>cloneCount</th><th scope=col>cloneFraction</th><th scope=col>clonalSequence</th><th scope=col>clonalSequenceQuality</th><th scope=col>allVHitsWithScore</th><th scope=col>allDHitsWithScore</th><th scope=col>allJHitsWithScore</th><th scope=col>allCHitsWithScore</th><th scope=col>allVAlignments</th><th scope=col>...</th><th scope=col>aaSeqFR2</th><th scope=col>aaSeqCDR2</th><th scope=col>aaSeqFR3</th><th scope=col>aaSeqCDR3</th><th scope=col>aaSeqFR4</th><th scope=col>refPoints</th><th scope=col>file</th><th scope=col>basename</th><th scope=col>Patient</th><th scope=col>sampletype</th></tr>\n",
       "\t<tr><th></th><th scope=col>&lt;int&gt;</th><th scope=col>&lt;int&gt;</th><th scope=col>&lt;dbl&gt;</th><th scope=col>&lt;chr&gt;</th><th scope=col>&lt;chr&gt;</th><th scope=col>&lt;chr&gt;</th><th scope=col>&lt;chr&gt;</th><th scope=col>&lt;chr&gt;</th><th scope=col>&lt;chr&gt;</th><th scope=col>&lt;chr&gt;</th><th scope=col>...</th><th scope=col>&lt;lgl&gt;</th><th scope=col>&lt;lgl&gt;</th><th scope=col>&lt;lgl&gt;</th><th scope=col>&lt;chr&gt;</th><th scope=col>&lt;lgl&gt;</th><th scope=col>&lt;chr&gt;</th><th scope=col>&lt;chr&gt;</th><th scope=col>&lt;chr&gt;</th><th scope=col>&lt;chr&gt;</th><th scope=col>&lt;chr&gt;</th></tr>\n",
       "</thead>\n",
       "<tbody>\n",
       "\t<tr><th scope=row>1</th><td>37</td><td>13</td><td>0.15116279</td><td>TGTGCCAGCAGGGAAAGGATAGCCCCTGGAAACACCATATATTTT            </td><td>EEEEEEEEEEEEEEEEEEEEEEEEEEEEEEEEEEEEEEEEEEEEE            </td><td>TRBV6-5*00(726.3) </td><td>                         </td><td>TRBJ1-3*00(130)</td><td>NA</td><td>519|530|556|0|11||55.0</td><td>...</td><td>NA</td><td>NA</td><td>NA</td><td>CASRERIAPGNTIYF    </td><td>NA</td><td>:::::::::0:-6:11:::::25:-2:45:::        </td><td>batch2_Aug62019/mixcr/clones/CLONES_TRBCHP_319-05-PBMC-DNA.txt</td><td>CHP_319-05-PBMC-DNA</td><td>CHP_319</td><td>PBMC</td></tr>\n",
       "\t<tr><th scope=row>2</th><td>42</td><td>11</td><td>0.12790698</td><td>TGCAGTGCTAGAGATCGTACGGGAATGTCCACAGATACGCAGTATTTT         </td><td>EEEEEEEEEEEEEEEEEEEEEEEEEEEEEEEEEEEEEEEEEEEEEEEE         </td><td>TRBV20-1*00(703.5)</td><td>TRBD1*00(25),TRBD2*00(25)</td><td>TRBJ2-3*00(110)</td><td>NA</td><td>759|775|793|0|16||80.0</td><td>...</td><td>NA</td><td>NA</td><td>NA</td><td>CSARDRTGMSTDTQYF   </td><td>NA</td><td>:::::::::0:2:16:19:1:-8:24:29:-2:48:::  </td><td>batch2_Aug62019/mixcr/clones/CLONES_TRBCHP_319-05-PBMC-DNA.txt</td><td>CHP_319-05-PBMC-DNA</td><td>CHP_319</td><td>PBMC</td></tr>\n",
       "\t<tr><th scope=row>3</th><td>48</td><td> 9</td><td>0.10465116</td><td>TGTGCCAGTAGGCTCGGGACAGGGCATGAGAACACTGAAGCTTTCTTT         </td><td>EEEEEEEEEEEEEEEEEEEEEEEEEEEEEEEEEEEEEEEEEEEEEEEE         </td><td>TRBV19*00(373.2)  </td><td>TRBD1*00(50)             </td><td>TRBJ1-1*00(235)</td><td>NA</td><td>559|570|596|0|11||55.0</td><td>...</td><td>NA</td><td>NA</td><td>NA</td><td>CASRLGTGHENTEAFF   </td><td>NA</td><td>:::::::::0:-6:11:14:1:-3:24:29:-1:48::: </td><td>batch2_Aug62019/mixcr/clones/CLONES_TRBCHP_319-05-PBMC-DNA.txt</td><td>CHP_319-05-PBMC-DNA</td><td>CHP_319</td><td>PBMC</td></tr>\n",
       "\t<tr><th scope=row>4</th><td>50</td><td> 9</td><td>0.10465116</td><td>TGTGCCACCAGCAGAGATTGGACAGTCTCCTACGAGCAGTACTTC            </td><td>EEEEEEEEEEEEEEEEEEEEEEEEEEEEEEEEEEEEEEEEEEEEE            </td><td>TRBV15*00(439)    </td><td>TRBD1*00(30)             </td><td>TRBJ2-7*00(235)</td><td>NA</td><td>552|570|589|0|18||90.0</td><td>...</td><td>NA</td><td>NA</td><td>NA</td><td>CATSRDWTVSYEQYF    </td><td>NA</td><td>:::::::::0:1:18:19:-1:-5:25:26:0:45:::  </td><td>batch2_Aug62019/mixcr/clones/CLONES_TRBCHP_319-05-PBMC-DNA.txt</td><td>CHP_319-05-PBMC-DNA</td><td>CHP_319</td><td>PBMC</td></tr>\n",
       "\t<tr><th scope=row>5</th><td>63</td><td> 6</td><td>0.06976744</td><td>TGTGCCAGCAGCCGAAACAGGGTTAGGTATGGCTACACCTTC               </td><td>EEEEEEEEEEEEEEEEEEEEEEEEEEEEEEEEEEEEEEEEEE               </td><td>TRBV11-2*00(299)  </td><td>TRBD1*00(30)             </td><td>TRBJ1-2*00(215)</td><td>NA</td><td>522|534|559|0|12||60.0</td><td>...</td><td>NA</td><td>NA</td><td>NA</td><td>CASSRNRVRYGYTF     </td><td>NA</td><td>:::::::::0:-5:12:16:-3:-3:22:27:-5:42:::</td><td>batch2_Aug62019/mixcr/clones/CLONES_TRBCHP_319-05-PBMC-DNA.txt</td><td>CHP_319-05-PBMC-DNA</td><td>CHP_319</td><td>PBMC</td></tr>\n",
       "\t<tr><th scope=row>7</th><td>71</td><td> 5</td><td>0.05813953</td><td>TGTGCCAGCAGCAAAGATGTCCTAGGGGATAGCTCCTATAATTCACCCCTCCACTTT</td><td>EEEEEEEEEEEEEEEEEEEEEEEEEEEEEEEEEEEEEEEEEEEEEEEEEEEEEEEEE</td><td>TRBV21-1*00(1009) </td><td>TRBD1*00(25)             </td><td>TRBJ1-6*00(275)</td><td>NA</td><td>544|560|581|0|16||80.0</td><td>...</td><td>NA</td><td>NA</td><td>NA</td><td>CASSKDVLGDSSYNSPLHF</td><td>NA</td><td>:::::::::0:-1:16:17:6:-13:22:30:2:57::: </td><td>batch2_Aug62019/mixcr/clones/CLONES_TRBCHP_319-05-PBMC-DNA.txt</td><td>CHP_319-05-PBMC-DNA</td><td>CHP_319</td><td>PBMC</td></tr>\n",
       "</tbody>\n",
       "</table>\n"
      ],
      "text/latex": [
       "A data.frame: 6 x 39\n",
       "\\begin{tabular}{r|lllllllllllllllllllll}\n",
       "  & cloneId & cloneCount & cloneFraction & clonalSequence & clonalSequenceQuality & allVHitsWithScore & allDHitsWithScore & allJHitsWithScore & allCHitsWithScore & allVAlignments & ... & aaSeqFR2 & aaSeqCDR2 & aaSeqFR3 & aaSeqCDR3 & aaSeqFR4 & refPoints & file & basename & Patient & sampletype\\\\\n",
       "  & <int> & <int> & <dbl> & <chr> & <chr> & <chr> & <chr> & <chr> & <chr> & <chr> & ... & <lgl> & <lgl> & <lgl> & <chr> & <lgl> & <chr> & <chr> & <chr> & <chr> & <chr>\\\\\n",
       "\\hline\n",
       "\t1 & 37 & 13 & 0.15116279 & TGTGCCAGCAGGGAAAGGATAGCCCCTGGAAACACCATATATTTT             & EEEEEEEEEEEEEEEEEEEEEEEEEEEEEEEEEEEEEEEEEEEEE             & TRBV6-5*00(726.3)  &                           & TRBJ1-3*00(130) & NA & 519\\textbar{}530\\textbar{}556\\textbar{}0\\textbar{}11\\textbar{}\\textbar{}55.0 & ... & NA & NA & NA & CASRERIAPGNTIYF     & NA & :::::::::0:-6:11:::::25:-2:45:::         & batch2\\_Aug62019/mixcr/clones/CLONES\\_TRBCHP\\_319-05-PBMC-DNA.txt & CHP\\_319-05-PBMC-DNA & CHP\\_319 & PBMC\\\\\n",
       "\t2 & 42 & 11 & 0.12790698 & TGCAGTGCTAGAGATCGTACGGGAATGTCCACAGATACGCAGTATTTT          & EEEEEEEEEEEEEEEEEEEEEEEEEEEEEEEEEEEEEEEEEEEEEEEE          & TRBV20-1*00(703.5) & TRBD1*00(25),TRBD2*00(25) & TRBJ2-3*00(110) & NA & 759\\textbar{}775\\textbar{}793\\textbar{}0\\textbar{}16\\textbar{}\\textbar{}80.0 & ... & NA & NA & NA & CSARDRTGMSTDTQYF    & NA & :::::::::0:2:16:19:1:-8:24:29:-2:48:::   & batch2\\_Aug62019/mixcr/clones/CLONES\\_TRBCHP\\_319-05-PBMC-DNA.txt & CHP\\_319-05-PBMC-DNA & CHP\\_319 & PBMC\\\\\n",
       "\t3 & 48 &  9 & 0.10465116 & TGTGCCAGTAGGCTCGGGACAGGGCATGAGAACACTGAAGCTTTCTTT          & EEEEEEEEEEEEEEEEEEEEEEEEEEEEEEEEEEEEEEEEEEEEEEEE          & TRBV19*00(373.2)   & TRBD1*00(50)              & TRBJ1-1*00(235) & NA & 559\\textbar{}570\\textbar{}596\\textbar{}0\\textbar{}11\\textbar{}\\textbar{}55.0 & ... & NA & NA & NA & CASRLGTGHENTEAFF    & NA & :::::::::0:-6:11:14:1:-3:24:29:-1:48:::  & batch2\\_Aug62019/mixcr/clones/CLONES\\_TRBCHP\\_319-05-PBMC-DNA.txt & CHP\\_319-05-PBMC-DNA & CHP\\_319 & PBMC\\\\\n",
       "\t4 & 50 &  9 & 0.10465116 & TGTGCCACCAGCAGAGATTGGACAGTCTCCTACGAGCAGTACTTC             & EEEEEEEEEEEEEEEEEEEEEEEEEEEEEEEEEEEEEEEEEEEEE             & TRBV15*00(439)     & TRBD1*00(30)              & TRBJ2-7*00(235) & NA & 552\\textbar{}570\\textbar{}589\\textbar{}0\\textbar{}18\\textbar{}\\textbar{}90.0 & ... & NA & NA & NA & CATSRDWTVSYEQYF     & NA & :::::::::0:1:18:19:-1:-5:25:26:0:45:::   & batch2\\_Aug62019/mixcr/clones/CLONES\\_TRBCHP\\_319-05-PBMC-DNA.txt & CHP\\_319-05-PBMC-DNA & CHP\\_319 & PBMC\\\\\n",
       "\t5 & 63 &  6 & 0.06976744 & TGTGCCAGCAGCCGAAACAGGGTTAGGTATGGCTACACCTTC                & EEEEEEEEEEEEEEEEEEEEEEEEEEEEEEEEEEEEEEEEEE                & TRBV11-2*00(299)   & TRBD1*00(30)              & TRBJ1-2*00(215) & NA & 522\\textbar{}534\\textbar{}559\\textbar{}0\\textbar{}12\\textbar{}\\textbar{}60.0 & ... & NA & NA & NA & CASSRNRVRYGYTF      & NA & :::::::::0:-5:12:16:-3:-3:22:27:-5:42::: & batch2\\_Aug62019/mixcr/clones/CLONES\\_TRBCHP\\_319-05-PBMC-DNA.txt & CHP\\_319-05-PBMC-DNA & CHP\\_319 & PBMC\\\\\n",
       "\t7 & 71 &  5 & 0.05813953 & TGTGCCAGCAGCAAAGATGTCCTAGGGGATAGCTCCTATAATTCACCCCTCCACTTT & EEEEEEEEEEEEEEEEEEEEEEEEEEEEEEEEEEEEEEEEEEEEEEEEEEEEEEEEE & TRBV21-1*00(1009)  & TRBD1*00(25)              & TRBJ1-6*00(275) & NA & 544\\textbar{}560\\textbar{}581\\textbar{}0\\textbar{}16\\textbar{}\\textbar{}80.0 & ... & NA & NA & NA & CASSKDVLGDSSYNSPLHF & NA & :::::::::0:-1:16:17:6:-13:22:30:2:57:::  & batch2\\_Aug62019/mixcr/clones/CLONES\\_TRBCHP\\_319-05-PBMC-DNA.txt & CHP\\_319-05-PBMC-DNA & CHP\\_319 & PBMC\\\\\n",
       "\\end{tabular}\n"
      ],
      "text/markdown": [
       "\n",
       "A data.frame: 6 x 39\n",
       "\n",
       "| <!--/--> | cloneId &lt;int&gt; | cloneCount &lt;int&gt; | cloneFraction &lt;dbl&gt; | clonalSequence &lt;chr&gt; | clonalSequenceQuality &lt;chr&gt; | allVHitsWithScore &lt;chr&gt; | allDHitsWithScore &lt;chr&gt; | allJHitsWithScore &lt;chr&gt; | allCHitsWithScore &lt;chr&gt; | allVAlignments &lt;chr&gt; | ... ... | aaSeqFR2 &lt;lgl&gt; | aaSeqCDR2 &lt;lgl&gt; | aaSeqFR3 &lt;lgl&gt; | aaSeqCDR3 &lt;chr&gt; | aaSeqFR4 &lt;lgl&gt; | refPoints &lt;chr&gt; | file &lt;chr&gt; | basename &lt;chr&gt; | Patient &lt;chr&gt; | sampletype &lt;chr&gt; |\n",
       "|---|---|---|---|---|---|---|---|---|---|---|---|---|---|---|---|---|---|---|---|---|---|\n",
       "| 1 | 37 | 13 | 0.15116279 | TGTGCCAGCAGGGAAAGGATAGCCCCTGGAAACACCATATATTTT             | EEEEEEEEEEEEEEEEEEEEEEEEEEEEEEEEEEEEEEEEEEEEE             | TRBV6-5*00(726.3)  | <!----> | TRBJ1-3*00(130) | NA | 519|530|556|0|11||55.0 | ... | NA | NA | NA | CASRERIAPGNTIYF     | NA | :::::::::0:-6:11:::::25:-2:45:::         | batch2_Aug62019/mixcr/clones/CLONES_TRBCHP_319-05-PBMC-DNA.txt | CHP_319-05-PBMC-DNA | CHP_319 | PBMC |\n",
       "| 2 | 42 | 11 | 0.12790698 | TGCAGTGCTAGAGATCGTACGGGAATGTCCACAGATACGCAGTATTTT          | EEEEEEEEEEEEEEEEEEEEEEEEEEEEEEEEEEEEEEEEEEEEEEEE          | TRBV20-1*00(703.5) | TRBD1*00(25),TRBD2*00(25) | TRBJ2-3*00(110) | NA | 759|775|793|0|16||80.0 | ... | NA | NA | NA | CSARDRTGMSTDTQYF    | NA | :::::::::0:2:16:19:1:-8:24:29:-2:48:::   | batch2_Aug62019/mixcr/clones/CLONES_TRBCHP_319-05-PBMC-DNA.txt | CHP_319-05-PBMC-DNA | CHP_319 | PBMC |\n",
       "| 3 | 48 |  9 | 0.10465116 | TGTGCCAGTAGGCTCGGGACAGGGCATGAGAACACTGAAGCTTTCTTT          | EEEEEEEEEEEEEEEEEEEEEEEEEEEEEEEEEEEEEEEEEEEEEEEE          | TRBV19*00(373.2)   | TRBD1*00(50)              | TRBJ1-1*00(235) | NA | 559|570|596|0|11||55.0 | ... | NA | NA | NA | CASRLGTGHENTEAFF    | NA | :::::::::0:-6:11:14:1:-3:24:29:-1:48:::  | batch2_Aug62019/mixcr/clones/CLONES_TRBCHP_319-05-PBMC-DNA.txt | CHP_319-05-PBMC-DNA | CHP_319 | PBMC |\n",
       "| 4 | 50 |  9 | 0.10465116 | TGTGCCACCAGCAGAGATTGGACAGTCTCCTACGAGCAGTACTTC             | EEEEEEEEEEEEEEEEEEEEEEEEEEEEEEEEEEEEEEEEEEEEE             | TRBV15*00(439)     | TRBD1*00(30)              | TRBJ2-7*00(235) | NA | 552|570|589|0|18||90.0 | ... | NA | NA | NA | CATSRDWTVSYEQYF     | NA | :::::::::0:1:18:19:-1:-5:25:26:0:45:::   | batch2_Aug62019/mixcr/clones/CLONES_TRBCHP_319-05-PBMC-DNA.txt | CHP_319-05-PBMC-DNA | CHP_319 | PBMC |\n",
       "| 5 | 63 |  6 | 0.06976744 | TGTGCCAGCAGCCGAAACAGGGTTAGGTATGGCTACACCTTC                | EEEEEEEEEEEEEEEEEEEEEEEEEEEEEEEEEEEEEEEEEE                | TRBV11-2*00(299)   | TRBD1*00(30)              | TRBJ1-2*00(215) | NA | 522|534|559|0|12||60.0 | ... | NA | NA | NA | CASSRNRVRYGYTF      | NA | :::::::::0:-5:12:16:-3:-3:22:27:-5:42::: | batch2_Aug62019/mixcr/clones/CLONES_TRBCHP_319-05-PBMC-DNA.txt | CHP_319-05-PBMC-DNA | CHP_319 | PBMC |\n",
       "| 7 | 71 |  5 | 0.05813953 | TGTGCCAGCAGCAAAGATGTCCTAGGGGATAGCTCCTATAATTCACCCCTCCACTTT | EEEEEEEEEEEEEEEEEEEEEEEEEEEEEEEEEEEEEEEEEEEEEEEEEEEEEEEEE | TRBV21-1*00(1009)  | TRBD1*00(25)              | TRBJ1-6*00(275) | NA | 544|560|581|0|16||80.0 | ... | NA | NA | NA | CASSKDVLGDSSYNSPLHF | NA | :::::::::0:-1:16:17:6:-13:22:30:2:57:::  | batch2_Aug62019/mixcr/clones/CLONES_TRBCHP_319-05-PBMC-DNA.txt | CHP_319-05-PBMC-DNA | CHP_319 | PBMC |\n",
       "\n"
      ],
      "text/plain": [
       "  cloneId cloneCount cloneFraction\n",
       "1 37      13         0.15116279   \n",
       "2 42      11         0.12790698   \n",
       "3 48       9         0.10465116   \n",
       "4 50       9         0.10465116   \n",
       "5 63       6         0.06976744   \n",
       "7 71       5         0.05813953   \n",
       "  clonalSequence                                           \n",
       "1 TGTGCCAGCAGGGAAAGGATAGCCCCTGGAAACACCATATATTTT            \n",
       "2 TGCAGTGCTAGAGATCGTACGGGAATGTCCACAGATACGCAGTATTTT         \n",
       "3 TGTGCCAGTAGGCTCGGGACAGGGCATGAGAACACTGAAGCTTTCTTT         \n",
       "4 TGTGCCACCAGCAGAGATTGGACAGTCTCCTACGAGCAGTACTTC            \n",
       "5 TGTGCCAGCAGCCGAAACAGGGTTAGGTATGGCTACACCTTC               \n",
       "7 TGTGCCAGCAGCAAAGATGTCCTAGGGGATAGCTCCTATAATTCACCCCTCCACTTT\n",
       "  clonalSequenceQuality                                     allVHitsWithScore \n",
       "1 EEEEEEEEEEEEEEEEEEEEEEEEEEEEEEEEEEEEEEEEEEEEE             TRBV6-5*00(726.3) \n",
       "2 EEEEEEEEEEEEEEEEEEEEEEEEEEEEEEEEEEEEEEEEEEEEEEEE          TRBV20-1*00(703.5)\n",
       "3 EEEEEEEEEEEEEEEEEEEEEEEEEEEEEEEEEEEEEEEEEEEEEEEE          TRBV19*00(373.2)  \n",
       "4 EEEEEEEEEEEEEEEEEEEEEEEEEEEEEEEEEEEEEEEEEEEEE             TRBV15*00(439)    \n",
       "5 EEEEEEEEEEEEEEEEEEEEEEEEEEEEEEEEEEEEEEEEEE                TRBV11-2*00(299)  \n",
       "7 EEEEEEEEEEEEEEEEEEEEEEEEEEEEEEEEEEEEEEEEEEEEEEEEEEEEEEEEE TRBV21-1*00(1009) \n",
       "  allDHitsWithScore         allJHitsWithScore allCHitsWithScore\n",
       "1                           TRBJ1-3*00(130)   NA               \n",
       "2 TRBD1*00(25),TRBD2*00(25) TRBJ2-3*00(110)   NA               \n",
       "3 TRBD1*00(50)              TRBJ1-1*00(235)   NA               \n",
       "4 TRBD1*00(30)              TRBJ2-7*00(235)   NA               \n",
       "5 TRBD1*00(30)              TRBJ1-2*00(215)   NA               \n",
       "7 TRBD1*00(25)              TRBJ1-6*00(275)   NA               \n",
       "  allVAlignments         ... aaSeqFR2 aaSeqCDR2 aaSeqFR3 aaSeqCDR3          \n",
       "1 519|530|556|0|11||55.0 ... NA       NA        NA       CASRERIAPGNTIYF    \n",
       "2 759|775|793|0|16||80.0 ... NA       NA        NA       CSARDRTGMSTDTQYF   \n",
       "3 559|570|596|0|11||55.0 ... NA       NA        NA       CASRLGTGHENTEAFF   \n",
       "4 552|570|589|0|18||90.0 ... NA       NA        NA       CATSRDWTVSYEQYF    \n",
       "5 522|534|559|0|12||60.0 ... NA       NA        NA       CASSRNRVRYGYTF     \n",
       "7 544|560|581|0|16||80.0 ... NA       NA        NA       CASSKDVLGDSSYNSPLHF\n",
       "  aaSeqFR4 refPoints                               \n",
       "1 NA       :::::::::0:-6:11:::::25:-2:45:::        \n",
       "2 NA       :::::::::0:2:16:19:1:-8:24:29:-2:48:::  \n",
       "3 NA       :::::::::0:-6:11:14:1:-3:24:29:-1:48::: \n",
       "4 NA       :::::::::0:1:18:19:-1:-5:25:26:0:45:::  \n",
       "5 NA       :::::::::0:-5:12:16:-3:-3:22:27:-5:42:::\n",
       "7 NA       :::::::::0:-1:16:17:6:-13:22:30:2:57::: \n",
       "  file                                                          \n",
       "1 batch2_Aug62019/mixcr/clones/CLONES_TRBCHP_319-05-PBMC-DNA.txt\n",
       "2 batch2_Aug62019/mixcr/clones/CLONES_TRBCHP_319-05-PBMC-DNA.txt\n",
       "3 batch2_Aug62019/mixcr/clones/CLONES_TRBCHP_319-05-PBMC-DNA.txt\n",
       "4 batch2_Aug62019/mixcr/clones/CLONES_TRBCHP_319-05-PBMC-DNA.txt\n",
       "5 batch2_Aug62019/mixcr/clones/CLONES_TRBCHP_319-05-PBMC-DNA.txt\n",
       "7 batch2_Aug62019/mixcr/clones/CLONES_TRBCHP_319-05-PBMC-DNA.txt\n",
       "  basename            Patient sampletype\n",
       "1 CHP_319-05-PBMC-DNA CHP_319 PBMC      \n",
       "2 CHP_319-05-PBMC-DNA CHP_319 PBMC      \n",
       "3 CHP_319-05-PBMC-DNA CHP_319 PBMC      \n",
       "4 CHP_319-05-PBMC-DNA CHP_319 PBMC      \n",
       "5 CHP_319-05-PBMC-DNA CHP_319 PBMC      \n",
       "7 CHP_319-05-PBMC-DNA CHP_319 PBMC      "
      ]
     },
     "metadata": {},
     "output_type": "display_data"
    }
   ],
   "source": [
    "head(int_all)"
   ]
  },
  {
   "cell_type": "code",
   "execution_count": 28,
   "metadata": {
    "vscode": {
     "languageId": "r"
    }
   },
   "outputs": [],
   "source": [
    "allTCRs <- nrow(int_all)\n",
    "uniqueTCRs <- length(unique(int_all$aaSeqCDR3))"
   ]
  },
  {
   "cell_type": "code",
   "execution_count": 29,
   "metadata": {
    "vscode": {
     "languageId": "r"
    }
   },
   "outputs": [
    {
     "data": {
      "text/html": [
       "50514"
      ],
      "text/latex": [
       "50514"
      ],
      "text/markdown": [
       "50514"
      ],
      "text/plain": [
       "[1] 50514"
      ]
     },
     "metadata": {},
     "output_type": "display_data"
    }
   ],
   "source": [
    "uniqueTCRs"
   ]
  },
  {
   "cell_type": "code",
   "execution_count": 30,
   "metadata": {
    "vscode": {
     "languageId": "r"
    }
   },
   "outputs": [],
   "source": [
    "dups <- int_all[duplicated(int_all$aaSeqCDR3),]"
   ]
  },
  {
   "cell_type": "code",
   "execution_count": 31,
   "metadata": {
    "vscode": {
     "languageId": "r"
    }
   },
   "outputs": [
    {
     "data": {
      "text/html": [
       "<table class=\"dataframe\">\n",
       "<caption>A data.frame: 6 x 39</caption>\n",
       "<thead>\n",
       "\t<tr><th></th><th scope=col>cloneId</th><th scope=col>cloneCount</th><th scope=col>cloneFraction</th><th scope=col>clonalSequence</th><th scope=col>clonalSequenceQuality</th><th scope=col>allVHitsWithScore</th><th scope=col>allDHitsWithScore</th><th scope=col>allJHitsWithScore</th><th scope=col>allCHitsWithScore</th><th scope=col>allVAlignments</th><th scope=col>...</th><th scope=col>aaSeqFR2</th><th scope=col>aaSeqCDR2</th><th scope=col>aaSeqFR3</th><th scope=col>aaSeqCDR3</th><th scope=col>aaSeqFR4</th><th scope=col>refPoints</th><th scope=col>file</th><th scope=col>basename</th><th scope=col>Patient</th><th scope=col>sampletype</th></tr>\n",
       "\t<tr><th></th><th scope=col>&lt;int&gt;</th><th scope=col>&lt;int&gt;</th><th scope=col>&lt;dbl&gt;</th><th scope=col>&lt;chr&gt;</th><th scope=col>&lt;chr&gt;</th><th scope=col>&lt;chr&gt;</th><th scope=col>&lt;chr&gt;</th><th scope=col>&lt;chr&gt;</th><th scope=col>&lt;chr&gt;</th><th scope=col>&lt;chr&gt;</th><th scope=col>...</th><th scope=col>&lt;lgl&gt;</th><th scope=col>&lt;lgl&gt;</th><th scope=col>&lt;lgl&gt;</th><th scope=col>&lt;chr&gt;</th><th scope=col>&lt;lgl&gt;</th><th scope=col>&lt;chr&gt;</th><th scope=col>&lt;chr&gt;</th><th scope=col>&lt;chr&gt;</th><th scope=col>&lt;chr&gt;</th><th scope=col>&lt;chr&gt;</th></tr>\n",
       "</thead>\n",
       "<tbody>\n",
       "\t<tr><th scope=row>12008</th><td>   3</td><td>2359</td><td>0.1431866464</td><td>TGTGCCAGCAGTTTAAGGCCCCCGGACATTCAGTACTTC</td><td>EEEEEENNNNNNNNNNNNNNNNNNNNNNNNNNNNNNNNN</td><td>TRBV12-3*00(627.7),TRBV12-4*00(560.2)  </td><td>TRBD1*00(30)</td><td>TRBJ2-4*00(197.2)</td><td>NA</td><td>530|545|567|0|15||75.0;530|545|567|0|15||75.0</td><td>...</td><td>NA</td><td>NA</td><td>NA</td><td>CASSLRPPDIQYF</td><td>NA</td><td>:::::::::0:-2:15:17:12:-18:23:25:-8:39:::</td><td>batch12_30Apr2021/mixcr/clones/CLONES_TRBCHP_410-01_PBMC-DNA.txt   </td><td>CHP_410-01_PBMC-DNA</td><td>CHP_410</td><td>PBMC </td></tr>\n",
       "\t<tr><th scope=row>22393</th><td> 240</td><td> 170</td><td>0.0070358414</td><td>TGTGCCAGCAGTTTAAGGCCCCCGGACATTCAGTACTTC</td><td>EEEEEEEEEEEEEEEEEEEEEEEEEEEEEEEEEEEEEEE</td><td>TRBV12-3*00(1136.4),TRBV12-4*00(1056.9)</td><td>TRBD1*00(30)</td><td>TRBJ2-4*00(208.8)</td><td>NA</td><td>530|545|567|0|15||75.0;530|545|567|0|15||75.0</td><td>...</td><td>NA</td><td>NA</td><td>NA</td><td>CASSLRPPDIQYF</td><td>NA</td><td>:::::::::0:-2:15:17:12:-18:23:25:-8:39:::</td><td>batch13_cfDNA_11Sep2020/mixcr/clones/CLONES_TRBCHP_334-03_cfDNA.txt</td><td>CHP_334-03_cfDNA   </td><td>CHP_334</td><td>cfDNA</td></tr>\n",
       "\t<tr><th scope=row>45258</th><td> 451</td><td>  11</td><td>0.0003452822</td><td>TGTGCCAGCAGTTTAAGGCCCCCGGACATTCAGTACTTC</td><td>EEEEEEEEEEEEEEEEEEEEEEEEEEEEEEEEEEEEEEE</td><td>TRBV12-3*00(140.9),TRBV12-4*00(140.9)  </td><td>TRBD1*00(30)</td><td>TRBJ2-4*00(207.1)</td><td>NA</td><td>530|545|567|0|15||75.0;530|545|567|0|15||75.0</td><td>...</td><td>NA</td><td>NA</td><td>NA</td><td>CASSLRPPDIQYF</td><td>NA</td><td>:::::::::0:-2:15:17:12:-18:23:25:-8:39:::</td><td>batch13_cfDNA_11Sep2020/mixcr/clones/CLONES_TRBCHP_341-02_cfDNA.txt</td><td>CHP_341-02_cfDNA   </td><td>CHP_341</td><td>cfDNA</td></tr>\n",
       "\t<tr><th scope=row>22398</th><td> 123</td><td><span style=white-space:pre-wrap>   1</span></td><td>0.0002031282</td><td>TGTGCCAGCAGTTTAAGGCCCCCGGACATTCAGTACTTC</td><td>EEEEEE&lt;EEEEEEEEAEEEEAEEEEEEEE&lt;EEEEAEEEE</td><td><span style=white-space:pre-wrap>TRBV12-3*00(605),TRBV12-4*00(605)      </span></td><td>TRBD1*00(30)</td><td><span style=white-space:pre-wrap>TRBJ2-4*00(210)  </span></td><td>NA</td><td>530|545|567|0|15||75.0;530|545|567|0|15||75.0</td><td>...</td><td>NA</td><td>NA</td><td>NA</td><td>CASSLRPPDIQYF</td><td>NA</td><td>:::::::::0:-2:15:17:12:-18:23:25:-8:39:::</td><td><span style=white-space:pre-wrap>priority_pool3/mixcr/clones/CLONES_TRBCHP_342-02-cfDNA.txt         </span></td><td><span style=white-space:pre-wrap>CHP_342-02-cfDNA   </span></td><td>CHP_342</td><td>cfDNA</td></tr>\n",
       "\t<tr><th scope=row>131024</th><td>  85</td><td> 602</td><td>0.0247055444</td><td>TGTGCCAGCAGTTTAAGGCCCCCGGACATTCAGTACTTC</td><td>EEEEEEEEEEEEEEEEEEEEEEEEEEEEEEEEEEEEEEE</td><td>TRBV12-4*00(446.5),TRBV12-3*00(446)    </td><td>TRBD1*00(30)</td><td>TRBJ2-4*00(208.8)</td><td>NA</td><td>530|545|567|0|15||75.0;530|545|567|0|15||75.0</td><td>...</td><td>NA</td><td>NA</td><td>NA</td><td>CASSLRPPDIQYF</td><td>NA</td><td>:::::::::0:-2:15:17:12:-18:23:25:-8:39:::</td><td>batch13_cfDNA_11Sep2020/mixcr/clones/CLONES_TRBCHP_360-04_cfDNA.txt</td><td>CHP_360-04_cfDNA   </td><td>CHP_360</td><td>cfDNA</td></tr>\n",
       "\t<tr><th scope=row>172119</th><td>1745</td><td> 112</td><td>0.0016648086</td><td>TGTGCCAGCAGTTTAAGGCCCCCGGACATTCAGTACTTC</td><td>EEEEEEEEEEEEEEEEEEEEEEEEEEEEEEEEEEEEEEE</td><td>TRBV12-3*00(289.9),TRBV12-4*00(289.9)  </td><td>TRBD1*00(30)</td><td>TRBJ2-4*00(209.9)</td><td>NA</td><td>530|545|567|0|15||75.0;530|545|567|0|15||75.0</td><td>...</td><td>NA</td><td>NA</td><td>NA</td><td>CASSLRPPDIQYF</td><td>NA</td><td>:::::::::0:-2:15:17:12:-18:23:25:-8:39:::</td><td>batch13_cfDNA_11Sep2020/mixcr/clones/CLONES_TRBCHP_367-04_cfDNA.txt</td><td>CHP_367-04_cfDNA   </td><td>CHP_367</td><td>cfDNA</td></tr>\n",
       "</tbody>\n",
       "</table>\n"
      ],
      "text/latex": [
       "A data.frame: 6 x 39\n",
       "\\begin{tabular}{r|lllllllllllllllllllll}\n",
       "  & cloneId & cloneCount & cloneFraction & clonalSequence & clonalSequenceQuality & allVHitsWithScore & allDHitsWithScore & allJHitsWithScore & allCHitsWithScore & allVAlignments & ... & aaSeqFR2 & aaSeqCDR2 & aaSeqFR3 & aaSeqCDR3 & aaSeqFR4 & refPoints & file & basename & Patient & sampletype\\\\\n",
       "  & <int> & <int> & <dbl> & <chr> & <chr> & <chr> & <chr> & <chr> & <chr> & <chr> & ... & <lgl> & <lgl> & <lgl> & <chr> & <lgl> & <chr> & <chr> & <chr> & <chr> & <chr>\\\\\n",
       "\\hline\n",
       "\t12008 &    3 & 2359 & 0.1431866464 & TGTGCCAGCAGTTTAAGGCCCCCGGACATTCAGTACTTC & EEEEEENNNNNNNNNNNNNNNNNNNNNNNNNNNNNNNNN & TRBV12-3*00(627.7),TRBV12-4*00(560.2)   & TRBD1*00(30) & TRBJ2-4*00(197.2) & NA & 530\\textbar{}545\\textbar{}567\\textbar{}0\\textbar{}15\\textbar{}\\textbar{}75.0;530\\textbar{}545\\textbar{}567\\textbar{}0\\textbar{}15\\textbar{}\\textbar{}75.0 & ... & NA & NA & NA & CASSLRPPDIQYF & NA & :::::::::0:-2:15:17:12:-18:23:25:-8:39::: & batch12\\_30Apr2021/mixcr/clones/CLONES\\_TRBCHP\\_410-01\\_PBMC-DNA.txt    & CHP\\_410-01\\_PBMC-DNA & CHP\\_410 & PBMC \\\\\n",
       "\t22393 &  240 &  170 & 0.0070358414 & TGTGCCAGCAGTTTAAGGCCCCCGGACATTCAGTACTTC & EEEEEEEEEEEEEEEEEEEEEEEEEEEEEEEEEEEEEEE & TRBV12-3*00(1136.4),TRBV12-4*00(1056.9) & TRBD1*00(30) & TRBJ2-4*00(208.8) & NA & 530\\textbar{}545\\textbar{}567\\textbar{}0\\textbar{}15\\textbar{}\\textbar{}75.0;530\\textbar{}545\\textbar{}567\\textbar{}0\\textbar{}15\\textbar{}\\textbar{}75.0 & ... & NA & NA & NA & CASSLRPPDIQYF & NA & :::::::::0:-2:15:17:12:-18:23:25:-8:39::: & batch13\\_cfDNA\\_11Sep2020/mixcr/clones/CLONES\\_TRBCHP\\_334-03\\_cfDNA.txt & CHP\\_334-03\\_cfDNA    & CHP\\_334 & cfDNA\\\\\n",
       "\t45258 &  451 &   11 & 0.0003452822 & TGTGCCAGCAGTTTAAGGCCCCCGGACATTCAGTACTTC & EEEEEEEEEEEEEEEEEEEEEEEEEEEEEEEEEEEEEEE & TRBV12-3*00(140.9),TRBV12-4*00(140.9)   & TRBD1*00(30) & TRBJ2-4*00(207.1) & NA & 530\\textbar{}545\\textbar{}567\\textbar{}0\\textbar{}15\\textbar{}\\textbar{}75.0;530\\textbar{}545\\textbar{}567\\textbar{}0\\textbar{}15\\textbar{}\\textbar{}75.0 & ... & NA & NA & NA & CASSLRPPDIQYF & NA & :::::::::0:-2:15:17:12:-18:23:25:-8:39::: & batch13\\_cfDNA\\_11Sep2020/mixcr/clones/CLONES\\_TRBCHP\\_341-02\\_cfDNA.txt & CHP\\_341-02\\_cfDNA    & CHP\\_341 & cfDNA\\\\\n",
       "\t22398 &  123 &    1 & 0.0002031282 & TGTGCCAGCAGTTTAAGGCCCCCGGACATTCAGTACTTC & EEEEEE<EEEEEEEEAEEEEAEEEEEEEE<EEEEAEEEE & TRBV12-3*00(605),TRBV12-4*00(605)       & TRBD1*00(30) & TRBJ2-4*00(210)   & NA & 530\\textbar{}545\\textbar{}567\\textbar{}0\\textbar{}15\\textbar{}\\textbar{}75.0;530\\textbar{}545\\textbar{}567\\textbar{}0\\textbar{}15\\textbar{}\\textbar{}75.0 & ... & NA & NA & NA & CASSLRPPDIQYF & NA & :::::::::0:-2:15:17:12:-18:23:25:-8:39::: & priority\\_pool3/mixcr/clones/CLONES\\_TRBCHP\\_342-02-cfDNA.txt          & CHP\\_342-02-cfDNA    & CHP\\_342 & cfDNA\\\\\n",
       "\t131024 &   85 &  602 & 0.0247055444 & TGTGCCAGCAGTTTAAGGCCCCCGGACATTCAGTACTTC & EEEEEEEEEEEEEEEEEEEEEEEEEEEEEEEEEEEEEEE & TRBV12-4*00(446.5),TRBV12-3*00(446)     & TRBD1*00(30) & TRBJ2-4*00(208.8) & NA & 530\\textbar{}545\\textbar{}567\\textbar{}0\\textbar{}15\\textbar{}\\textbar{}75.0;530\\textbar{}545\\textbar{}567\\textbar{}0\\textbar{}15\\textbar{}\\textbar{}75.0 & ... & NA & NA & NA & CASSLRPPDIQYF & NA & :::::::::0:-2:15:17:12:-18:23:25:-8:39::: & batch13\\_cfDNA\\_11Sep2020/mixcr/clones/CLONES\\_TRBCHP\\_360-04\\_cfDNA.txt & CHP\\_360-04\\_cfDNA    & CHP\\_360 & cfDNA\\\\\n",
       "\t172119 & 1745 &  112 & 0.0016648086 & TGTGCCAGCAGTTTAAGGCCCCCGGACATTCAGTACTTC & EEEEEEEEEEEEEEEEEEEEEEEEEEEEEEEEEEEEEEE & TRBV12-3*00(289.9),TRBV12-4*00(289.9)   & TRBD1*00(30) & TRBJ2-4*00(209.9) & NA & 530\\textbar{}545\\textbar{}567\\textbar{}0\\textbar{}15\\textbar{}\\textbar{}75.0;530\\textbar{}545\\textbar{}567\\textbar{}0\\textbar{}15\\textbar{}\\textbar{}75.0 & ... & NA & NA & NA & CASSLRPPDIQYF & NA & :::::::::0:-2:15:17:12:-18:23:25:-8:39::: & batch13\\_cfDNA\\_11Sep2020/mixcr/clones/CLONES\\_TRBCHP\\_367-04\\_cfDNA.txt & CHP\\_367-04\\_cfDNA    & CHP\\_367 & cfDNA\\\\\n",
       "\\end{tabular}\n"
      ],
      "text/markdown": [
       "\n",
       "A data.frame: 6 x 39\n",
       "\n",
       "| <!--/--> | cloneId &lt;int&gt; | cloneCount &lt;int&gt; | cloneFraction &lt;dbl&gt; | clonalSequence &lt;chr&gt; | clonalSequenceQuality &lt;chr&gt; | allVHitsWithScore &lt;chr&gt; | allDHitsWithScore &lt;chr&gt; | allJHitsWithScore &lt;chr&gt; | allCHitsWithScore &lt;chr&gt; | allVAlignments &lt;chr&gt; | ... ... | aaSeqFR2 &lt;lgl&gt; | aaSeqCDR2 &lt;lgl&gt; | aaSeqFR3 &lt;lgl&gt; | aaSeqCDR3 &lt;chr&gt; | aaSeqFR4 &lt;lgl&gt; | refPoints &lt;chr&gt; | file &lt;chr&gt; | basename &lt;chr&gt; | Patient &lt;chr&gt; | sampletype &lt;chr&gt; |\n",
       "|---|---|---|---|---|---|---|---|---|---|---|---|---|---|---|---|---|---|---|---|---|---|\n",
       "| 12008 |    3 | 2359 | 0.1431866464 | TGTGCCAGCAGTTTAAGGCCCCCGGACATTCAGTACTTC | EEEEEENNNNNNNNNNNNNNNNNNNNNNNNNNNNNNNNN | TRBV12-3*00(627.7),TRBV12-4*00(560.2)   | TRBD1*00(30) | TRBJ2-4*00(197.2) | NA | 530|545|567|0|15||75.0;530|545|567|0|15||75.0 | ... | NA | NA | NA | CASSLRPPDIQYF | NA | :::::::::0:-2:15:17:12:-18:23:25:-8:39::: | batch12_30Apr2021/mixcr/clones/CLONES_TRBCHP_410-01_PBMC-DNA.txt    | CHP_410-01_PBMC-DNA | CHP_410 | PBMC  |\n",
       "| 22393 |  240 |  170 | 0.0070358414 | TGTGCCAGCAGTTTAAGGCCCCCGGACATTCAGTACTTC | EEEEEEEEEEEEEEEEEEEEEEEEEEEEEEEEEEEEEEE | TRBV12-3*00(1136.4),TRBV12-4*00(1056.9) | TRBD1*00(30) | TRBJ2-4*00(208.8) | NA | 530|545|567|0|15||75.0;530|545|567|0|15||75.0 | ... | NA | NA | NA | CASSLRPPDIQYF | NA | :::::::::0:-2:15:17:12:-18:23:25:-8:39::: | batch13_cfDNA_11Sep2020/mixcr/clones/CLONES_TRBCHP_334-03_cfDNA.txt | CHP_334-03_cfDNA    | CHP_334 | cfDNA |\n",
       "| 45258 |  451 |   11 | 0.0003452822 | TGTGCCAGCAGTTTAAGGCCCCCGGACATTCAGTACTTC | EEEEEEEEEEEEEEEEEEEEEEEEEEEEEEEEEEEEEEE | TRBV12-3*00(140.9),TRBV12-4*00(140.9)   | TRBD1*00(30) | TRBJ2-4*00(207.1) | NA | 530|545|567|0|15||75.0;530|545|567|0|15||75.0 | ... | NA | NA | NA | CASSLRPPDIQYF | NA | :::::::::0:-2:15:17:12:-18:23:25:-8:39::: | batch13_cfDNA_11Sep2020/mixcr/clones/CLONES_TRBCHP_341-02_cfDNA.txt | CHP_341-02_cfDNA    | CHP_341 | cfDNA |\n",
       "| 22398 |  123 |    1 | 0.0002031282 | TGTGCCAGCAGTTTAAGGCCCCCGGACATTCAGTACTTC | EEEEEE&lt;EEEEEEEEAEEEEAEEEEEEEE&lt;EEEEAEEEE | TRBV12-3*00(605),TRBV12-4*00(605)       | TRBD1*00(30) | TRBJ2-4*00(210)   | NA | 530|545|567|0|15||75.0;530|545|567|0|15||75.0 | ... | NA | NA | NA | CASSLRPPDIQYF | NA | :::::::::0:-2:15:17:12:-18:23:25:-8:39::: | priority_pool3/mixcr/clones/CLONES_TRBCHP_342-02-cfDNA.txt          | CHP_342-02-cfDNA    | CHP_342 | cfDNA |\n",
       "| 131024 |   85 |  602 | 0.0247055444 | TGTGCCAGCAGTTTAAGGCCCCCGGACATTCAGTACTTC | EEEEEEEEEEEEEEEEEEEEEEEEEEEEEEEEEEEEEEE | TRBV12-4*00(446.5),TRBV12-3*00(446)     | TRBD1*00(30) | TRBJ2-4*00(208.8) | NA | 530|545|567|0|15||75.0;530|545|567|0|15||75.0 | ... | NA | NA | NA | CASSLRPPDIQYF | NA | :::::::::0:-2:15:17:12:-18:23:25:-8:39::: | batch13_cfDNA_11Sep2020/mixcr/clones/CLONES_TRBCHP_360-04_cfDNA.txt | CHP_360-04_cfDNA    | CHP_360 | cfDNA |\n",
       "| 172119 | 1745 |  112 | 0.0016648086 | TGTGCCAGCAGTTTAAGGCCCCCGGACATTCAGTACTTC | EEEEEEEEEEEEEEEEEEEEEEEEEEEEEEEEEEEEEEE | TRBV12-3*00(289.9),TRBV12-4*00(289.9)   | TRBD1*00(30) | TRBJ2-4*00(209.9) | NA | 530|545|567|0|15||75.0;530|545|567|0|15||75.0 | ... | NA | NA | NA | CASSLRPPDIQYF | NA | :::::::::0:-2:15:17:12:-18:23:25:-8:39::: | batch13_cfDNA_11Sep2020/mixcr/clones/CLONES_TRBCHP_367-04_cfDNA.txt | CHP_367-04_cfDNA    | CHP_367 | cfDNA |\n",
       "\n"
      ],
      "text/plain": [
       "       cloneId cloneCount cloneFraction clonalSequence                         \n",
       "12008     3    2359       0.1431866464  TGTGCCAGCAGTTTAAGGCCCCCGGACATTCAGTACTTC\n",
       "22393   240     170       0.0070358414  TGTGCCAGCAGTTTAAGGCCCCCGGACATTCAGTACTTC\n",
       "45258   451      11       0.0003452822  TGTGCCAGCAGTTTAAGGCCCCCGGACATTCAGTACTTC\n",
       "22398   123       1       0.0002031282  TGTGCCAGCAGTTTAAGGCCCCCGGACATTCAGTACTTC\n",
       "131024   85     602       0.0247055444  TGTGCCAGCAGTTTAAGGCCCCCGGACATTCAGTACTTC\n",
       "172119 1745     112       0.0016648086  TGTGCCAGCAGTTTAAGGCCCCCGGACATTCAGTACTTC\n",
       "       clonalSequenceQuality                  \n",
       "12008  EEEEEENNNNNNNNNNNNNNNNNNNNNNNNNNNNNNNNN\n",
       "22393  EEEEEEEEEEEEEEEEEEEEEEEEEEEEEEEEEEEEEEE\n",
       "45258  EEEEEEEEEEEEEEEEEEEEEEEEEEEEEEEEEEEEEEE\n",
       "22398  EEEEEE<EEEEEEEEAEEEEAEEEEEEEE<EEEEAEEEE\n",
       "131024 EEEEEEEEEEEEEEEEEEEEEEEEEEEEEEEEEEEEEEE\n",
       "172119 EEEEEEEEEEEEEEEEEEEEEEEEEEEEEEEEEEEEEEE\n",
       "       allVHitsWithScore                       allDHitsWithScore\n",
       "12008  TRBV12-3*00(627.7),TRBV12-4*00(560.2)   TRBD1*00(30)     \n",
       "22393  TRBV12-3*00(1136.4),TRBV12-4*00(1056.9) TRBD1*00(30)     \n",
       "45258  TRBV12-3*00(140.9),TRBV12-4*00(140.9)   TRBD1*00(30)     \n",
       "22398  TRBV12-3*00(605),TRBV12-4*00(605)       TRBD1*00(30)     \n",
       "131024 TRBV12-4*00(446.5),TRBV12-3*00(446)     TRBD1*00(30)     \n",
       "172119 TRBV12-3*00(289.9),TRBV12-4*00(289.9)   TRBD1*00(30)     \n",
       "       allJHitsWithScore allCHitsWithScore\n",
       "12008  TRBJ2-4*00(197.2) NA               \n",
       "22393  TRBJ2-4*00(208.8) NA               \n",
       "45258  TRBJ2-4*00(207.1) NA               \n",
       "22398  TRBJ2-4*00(210)   NA               \n",
       "131024 TRBJ2-4*00(208.8) NA               \n",
       "172119 TRBJ2-4*00(209.9) NA               \n",
       "       allVAlignments                                ... aaSeqFR2 aaSeqCDR2\n",
       "12008  530|545|567|0|15||75.0;530|545|567|0|15||75.0 ... NA       NA       \n",
       "22393  530|545|567|0|15||75.0;530|545|567|0|15||75.0 ... NA       NA       \n",
       "45258  530|545|567|0|15||75.0;530|545|567|0|15||75.0 ... NA       NA       \n",
       "22398  530|545|567|0|15||75.0;530|545|567|0|15||75.0 ... NA       NA       \n",
       "131024 530|545|567|0|15||75.0;530|545|567|0|15||75.0 ... NA       NA       \n",
       "172119 530|545|567|0|15||75.0;530|545|567|0|15||75.0 ... NA       NA       \n",
       "       aaSeqFR3 aaSeqCDR3     aaSeqFR4\n",
       "12008  NA       CASSLRPPDIQYF NA      \n",
       "22393  NA       CASSLRPPDIQYF NA      \n",
       "45258  NA       CASSLRPPDIQYF NA      \n",
       "22398  NA       CASSLRPPDIQYF NA      \n",
       "131024 NA       CASSLRPPDIQYF NA      \n",
       "172119 NA       CASSLRPPDIQYF NA      \n",
       "       refPoints                                \n",
       "12008  :::::::::0:-2:15:17:12:-18:23:25:-8:39:::\n",
       "22393  :::::::::0:-2:15:17:12:-18:23:25:-8:39:::\n",
       "45258  :::::::::0:-2:15:17:12:-18:23:25:-8:39:::\n",
       "22398  :::::::::0:-2:15:17:12:-18:23:25:-8:39:::\n",
       "131024 :::::::::0:-2:15:17:12:-18:23:25:-8:39:::\n",
       "172119 :::::::::0:-2:15:17:12:-18:23:25:-8:39:::\n",
       "       file                                                               \n",
       "12008  batch12_30Apr2021/mixcr/clones/CLONES_TRBCHP_410-01_PBMC-DNA.txt   \n",
       "22393  batch13_cfDNA_11Sep2020/mixcr/clones/CLONES_TRBCHP_334-03_cfDNA.txt\n",
       "45258  batch13_cfDNA_11Sep2020/mixcr/clones/CLONES_TRBCHP_341-02_cfDNA.txt\n",
       "22398  priority_pool3/mixcr/clones/CLONES_TRBCHP_342-02-cfDNA.txt         \n",
       "131024 batch13_cfDNA_11Sep2020/mixcr/clones/CLONES_TRBCHP_360-04_cfDNA.txt\n",
       "172119 batch13_cfDNA_11Sep2020/mixcr/clones/CLONES_TRBCHP_367-04_cfDNA.txt\n",
       "       basename            Patient sampletype\n",
       "12008  CHP_410-01_PBMC-DNA CHP_410 PBMC      \n",
       "22393  CHP_334-03_cfDNA    CHP_334 cfDNA     \n",
       "45258  CHP_341-02_cfDNA    CHP_341 cfDNA     \n",
       "22398  CHP_342-02-cfDNA    CHP_342 cfDNA     \n",
       "131024 CHP_360-04_cfDNA    CHP_360 cfDNA     \n",
       "172119 CHP_367-04_cfDNA    CHP_367 cfDNA     "
      ]
     },
     "metadata": {},
     "output_type": "display_data"
    }
   ],
   "source": [
    "head(int_all[int_all$nSeqCDR3 %in% \"TGTGCCAGCAGTTTAAGGCCCCCGGACATTCAGTACTTC\", ])"
   ]
  },
  {
   "cell_type": "code",
   "execution_count": 32,
   "metadata": {
    "vscode": {
     "languageId": "r"
    }
   },
   "outputs": [],
   "source": [
    "tcr_pat_tab_1 <- as.data.frame.matrix(table(int_all$nSeqCDR3, int_all$Patient))\n",
    "# change any more than 1 to 1 to count each TCR only once per patient\n",
    "tcr_pat_tab_1[tcr_pat_tab_1 > 1] <- 1"
   ]
  },
  {
   "cell_type": "code",
   "execution_count": 33,
   "metadata": {
    "vscode": {
     "languageId": "r"
    }
   },
   "outputs": [],
   "source": [
    "tcr_in_pats <- tcr_pat_tab_1[rowSums(tcr_pat_tab_1) > 1,]"
   ]
  },
  {
   "cell_type": "code",
   "execution_count": 34,
   "metadata": {
    "vscode": {
     "languageId": "r"
    }
   },
   "outputs": [
    {
     "data": {
      "text/html": [
       "<table class=\"dataframe\">\n",
       "<caption>A data.frame: 6 x 99</caption>\n",
       "<thead>\n",
       "\t<tr><th></th><th scope=col>CHP_319</th><th scope=col>CHP_323</th><th scope=col>CHP_324</th><th scope=col>CHP_326</th><th scope=col>CHP_328</th><th scope=col>CHP_329</th><th scope=col>CHP_330</th><th scope=col>CHP_331</th><th scope=col>CHP_333</th><th scope=col>CHP_334</th><th scope=col>...</th><th scope=col>CHP_414</th><th scope=col>CHP_415</th><th scope=col>CHP_416</th><th scope=col>CHP_417</th><th scope=col>CHP_418</th><th scope=col>CHP_419</th><th scope=col>CHP_420</th><th scope=col>CHP_421</th><th scope=col>CHP_422</th><th scope=col>CHP_423</th></tr>\n",
       "\t<tr><th></th><th scope=col>&lt;int&gt;</th><th scope=col>&lt;dbl&gt;</th><th scope=col>&lt;int&gt;</th><th scope=col>&lt;int&gt;</th><th scope=col>&lt;dbl&gt;</th><th scope=col>&lt;int&gt;</th><th scope=col>&lt;int&gt;</th><th scope=col>&lt;dbl&gt;</th><th scope=col>&lt;int&gt;</th><th scope=col>&lt;int&gt;</th><th scope=col>...</th><th scope=col>&lt;int&gt;</th><th scope=col>&lt;dbl&gt;</th><th scope=col>&lt;int&gt;</th><th scope=col>&lt;int&gt;</th><th scope=col>&lt;dbl&gt;</th><th scope=col>&lt;int&gt;</th><th scope=col>&lt;dbl&gt;</th><th scope=col>&lt;int&gt;</th><th scope=col>&lt;dbl&gt;</th><th scope=col>&lt;int&gt;</th></tr>\n",
       "</thead>\n",
       "<tbody>\n",
       "\t<tr><th scope=row>CCTCCCCGGTGGGGGGGCACAGATACGCAGTATTTT</th><td>0</td><td>0</td><td>0</td><td>0</td><td>0</td><td>0</td><td>0</td><td>0</td><td>0</td><td>0</td><td>...</td><td>0</td><td>0</td><td>0</td><td>1</td><td>0</td><td>0</td><td>0</td><td>0</td><td>0</td><td>0</td></tr>\n",
       "\t<tr><th scope=row>TGCACCAGCAGCCAAGATGTTTGTGCCGTCACCCCGCGAATCTACAATGAGCAGTTCTTC</th><td>0</td><td>0</td><td>0</td><td>0</td><td>0</td><td>0</td><td>0</td><td>0</td><td>0</td><td>0</td><td>...</td><td>0</td><td>0</td><td>0</td><td>0</td><td>0</td><td>0</td><td>0</td><td>0</td><td>0</td><td>0</td></tr>\n",
       "\t<tr><th scope=row>TGCAGCGACCTTACAGGGGGGAACACTGAAGCTTTCTTT</th><td>0</td><td>0</td><td>0</td><td>0</td><td>0</td><td>0</td><td>0</td><td>0</td><td>0</td><td>0</td><td>...</td><td>1</td><td>0</td><td>0</td><td>0</td><td>0</td><td>0</td><td>0</td><td>0</td><td>0</td><td>0</td></tr>\n",
       "\t<tr><th scope=row>TGCAGCGAGAAACAGGGGGCGCACACTGAAGCTTTCTTT</th><td>0</td><td>0</td><td>0</td><td>0</td><td>0</td><td>0</td><td>0</td><td>0</td><td>0</td><td>0</td><td>...</td><td>0</td><td>0</td><td>0</td><td>0</td><td>0</td><td>0</td><td>0</td><td>0</td><td>0</td><td>0</td></tr>\n",
       "\t<tr><th scope=row>TGCAGCGCCCCGGACAGGGAATCCTACGAGCAGTACTTC</th><td>0</td><td>0</td><td>0</td><td>0</td><td>0</td><td>0</td><td>0</td><td>0</td><td>0</td><td>0</td><td>...</td><td>0</td><td>0</td><td>0</td><td>0</td><td>0</td><td>0</td><td>0</td><td>0</td><td>0</td><td>0</td></tr>\n",
       "\t<tr><th scope=row>TGCAGCGCCCTGACAGGAAATTACTATGGCTACACCTTC</th><td>0</td><td>0</td><td>0</td><td>0</td><td>0</td><td>0</td><td>0</td><td>0</td><td>0</td><td>0</td><td>...</td><td>0</td><td>0</td><td>0</td><td>0</td><td>0</td><td>0</td><td>0</td><td>0</td><td>0</td><td>0</td></tr>\n",
       "</tbody>\n",
       "</table>\n"
      ],
      "text/latex": [
       "A data.frame: 6 x 99\n",
       "\\begin{tabular}{r|lllllllllllllllllllll}\n",
       "  & CHP\\_319 & CHP\\_323 & CHP\\_324 & CHP\\_326 & CHP\\_328 & CHP\\_329 & CHP\\_330 & CHP\\_331 & CHP\\_333 & CHP\\_334 & ... & CHP\\_414 & CHP\\_415 & CHP\\_416 & CHP\\_417 & CHP\\_418 & CHP\\_419 & CHP\\_420 & CHP\\_421 & CHP\\_422 & CHP\\_423\\\\\n",
       "  & <int> & <dbl> & <int> & <int> & <dbl> & <int> & <int> & <dbl> & <int> & <int> & ... & <int> & <dbl> & <int> & <int> & <dbl> & <int> & <dbl> & <int> & <dbl> & <int>\\\\\n",
       "\\hline\n",
       "\tCCTCCCCGGTGGGGGGGCACAGATACGCAGTATTTT & 0 & 0 & 0 & 0 & 0 & 0 & 0 & 0 & 0 & 0 & ... & 0 & 0 & 0 & 1 & 0 & 0 & 0 & 0 & 0 & 0\\\\\n",
       "\tTGCACCAGCAGCCAAGATGTTTGTGCCGTCACCCCGCGAATCTACAATGAGCAGTTCTTC & 0 & 0 & 0 & 0 & 0 & 0 & 0 & 0 & 0 & 0 & ... & 0 & 0 & 0 & 0 & 0 & 0 & 0 & 0 & 0 & 0\\\\\n",
       "\tTGCAGCGACCTTACAGGGGGGAACACTGAAGCTTTCTTT & 0 & 0 & 0 & 0 & 0 & 0 & 0 & 0 & 0 & 0 & ... & 1 & 0 & 0 & 0 & 0 & 0 & 0 & 0 & 0 & 0\\\\\n",
       "\tTGCAGCGAGAAACAGGGGGCGCACACTGAAGCTTTCTTT & 0 & 0 & 0 & 0 & 0 & 0 & 0 & 0 & 0 & 0 & ... & 0 & 0 & 0 & 0 & 0 & 0 & 0 & 0 & 0 & 0\\\\\n",
       "\tTGCAGCGCCCCGGACAGGGAATCCTACGAGCAGTACTTC & 0 & 0 & 0 & 0 & 0 & 0 & 0 & 0 & 0 & 0 & ... & 0 & 0 & 0 & 0 & 0 & 0 & 0 & 0 & 0 & 0\\\\\n",
       "\tTGCAGCGCCCTGACAGGAAATTACTATGGCTACACCTTC & 0 & 0 & 0 & 0 & 0 & 0 & 0 & 0 & 0 & 0 & ... & 0 & 0 & 0 & 0 & 0 & 0 & 0 & 0 & 0 & 0\\\\\n",
       "\\end{tabular}\n"
      ],
      "text/markdown": [
       "\n",
       "A data.frame: 6 x 99\n",
       "\n",
       "| <!--/--> | CHP_319 &lt;int&gt; | CHP_323 &lt;dbl&gt; | CHP_324 &lt;int&gt; | CHP_326 &lt;int&gt; | CHP_328 &lt;dbl&gt; | CHP_329 &lt;int&gt; | CHP_330 &lt;int&gt; | CHP_331 &lt;dbl&gt; | CHP_333 &lt;int&gt; | CHP_334 &lt;int&gt; | ... ... | CHP_414 &lt;int&gt; | CHP_415 &lt;dbl&gt; | CHP_416 &lt;int&gt; | CHP_417 &lt;int&gt; | CHP_418 &lt;dbl&gt; | CHP_419 &lt;int&gt; | CHP_420 &lt;dbl&gt; | CHP_421 &lt;int&gt; | CHP_422 &lt;dbl&gt; | CHP_423 &lt;int&gt; |\n",
       "|---|---|---|---|---|---|---|---|---|---|---|---|---|---|---|---|---|---|---|---|---|---|\n",
       "| CCTCCCCGGTGGGGGGGCACAGATACGCAGTATTTT | 0 | 0 | 0 | 0 | 0 | 0 | 0 | 0 | 0 | 0 | ... | 0 | 0 | 0 | 1 | 0 | 0 | 0 | 0 | 0 | 0 |\n",
       "| TGCACCAGCAGCCAAGATGTTTGTGCCGTCACCCCGCGAATCTACAATGAGCAGTTCTTC | 0 | 0 | 0 | 0 | 0 | 0 | 0 | 0 | 0 | 0 | ... | 0 | 0 | 0 | 0 | 0 | 0 | 0 | 0 | 0 | 0 |\n",
       "| TGCAGCGACCTTACAGGGGGGAACACTGAAGCTTTCTTT | 0 | 0 | 0 | 0 | 0 | 0 | 0 | 0 | 0 | 0 | ... | 1 | 0 | 0 | 0 | 0 | 0 | 0 | 0 | 0 | 0 |\n",
       "| TGCAGCGAGAAACAGGGGGCGCACACTGAAGCTTTCTTT | 0 | 0 | 0 | 0 | 0 | 0 | 0 | 0 | 0 | 0 | ... | 0 | 0 | 0 | 0 | 0 | 0 | 0 | 0 | 0 | 0 |\n",
       "| TGCAGCGCCCCGGACAGGGAATCCTACGAGCAGTACTTC | 0 | 0 | 0 | 0 | 0 | 0 | 0 | 0 | 0 | 0 | ... | 0 | 0 | 0 | 0 | 0 | 0 | 0 | 0 | 0 | 0 |\n",
       "| TGCAGCGCCCTGACAGGAAATTACTATGGCTACACCTTC | 0 | 0 | 0 | 0 | 0 | 0 | 0 | 0 | 0 | 0 | ... | 0 | 0 | 0 | 0 | 0 | 0 | 0 | 0 | 0 | 0 |\n",
       "\n"
      ],
      "text/plain": [
       "                                                             CHP_319 CHP_323\n",
       "CCTCCCCGGTGGGGGGGCACAGATACGCAGTATTTT                         0       0      \n",
       "TGCACCAGCAGCCAAGATGTTTGTGCCGTCACCCCGCGAATCTACAATGAGCAGTTCTTC 0       0      \n",
       "TGCAGCGACCTTACAGGGGGGAACACTGAAGCTTTCTTT                      0       0      \n",
       "TGCAGCGAGAAACAGGGGGCGCACACTGAAGCTTTCTTT                      0       0      \n",
       "TGCAGCGCCCCGGACAGGGAATCCTACGAGCAGTACTTC                      0       0      \n",
       "TGCAGCGCCCTGACAGGAAATTACTATGGCTACACCTTC                      0       0      \n",
       "                                                             CHP_324 CHP_326\n",
       "CCTCCCCGGTGGGGGGGCACAGATACGCAGTATTTT                         0       0      \n",
       "TGCACCAGCAGCCAAGATGTTTGTGCCGTCACCCCGCGAATCTACAATGAGCAGTTCTTC 0       0      \n",
       "TGCAGCGACCTTACAGGGGGGAACACTGAAGCTTTCTTT                      0       0      \n",
       "TGCAGCGAGAAACAGGGGGCGCACACTGAAGCTTTCTTT                      0       0      \n",
       "TGCAGCGCCCCGGACAGGGAATCCTACGAGCAGTACTTC                      0       0      \n",
       "TGCAGCGCCCTGACAGGAAATTACTATGGCTACACCTTC                      0       0      \n",
       "                                                             CHP_328 CHP_329\n",
       "CCTCCCCGGTGGGGGGGCACAGATACGCAGTATTTT                         0       0      \n",
       "TGCACCAGCAGCCAAGATGTTTGTGCCGTCACCCCGCGAATCTACAATGAGCAGTTCTTC 0       0      \n",
       "TGCAGCGACCTTACAGGGGGGAACACTGAAGCTTTCTTT                      0       0      \n",
       "TGCAGCGAGAAACAGGGGGCGCACACTGAAGCTTTCTTT                      0       0      \n",
       "TGCAGCGCCCCGGACAGGGAATCCTACGAGCAGTACTTC                      0       0      \n",
       "TGCAGCGCCCTGACAGGAAATTACTATGGCTACACCTTC                      0       0      \n",
       "                                                             CHP_330 CHP_331\n",
       "CCTCCCCGGTGGGGGGGCACAGATACGCAGTATTTT                         0       0      \n",
       "TGCACCAGCAGCCAAGATGTTTGTGCCGTCACCCCGCGAATCTACAATGAGCAGTTCTTC 0       0      \n",
       "TGCAGCGACCTTACAGGGGGGAACACTGAAGCTTTCTTT                      0       0      \n",
       "TGCAGCGAGAAACAGGGGGCGCACACTGAAGCTTTCTTT                      0       0      \n",
       "TGCAGCGCCCCGGACAGGGAATCCTACGAGCAGTACTTC                      0       0      \n",
       "TGCAGCGCCCTGACAGGAAATTACTATGGCTACACCTTC                      0       0      \n",
       "                                                             CHP_333 CHP_334\n",
       "CCTCCCCGGTGGGGGGGCACAGATACGCAGTATTTT                         0       0      \n",
       "TGCACCAGCAGCCAAGATGTTTGTGCCGTCACCCCGCGAATCTACAATGAGCAGTTCTTC 0       0      \n",
       "TGCAGCGACCTTACAGGGGGGAACACTGAAGCTTTCTTT                      0       0      \n",
       "TGCAGCGAGAAACAGGGGGCGCACACTGAAGCTTTCTTT                      0       0      \n",
       "TGCAGCGCCCCGGACAGGGAATCCTACGAGCAGTACTTC                      0       0      \n",
       "TGCAGCGCCCTGACAGGAAATTACTATGGCTACACCTTC                      0       0      \n",
       "                                                             ... CHP_414\n",
       "CCTCCCCGGTGGGGGGGCACAGATACGCAGTATTTT                         ... 0      \n",
       "TGCACCAGCAGCCAAGATGTTTGTGCCGTCACCCCGCGAATCTACAATGAGCAGTTCTTC ... 0      \n",
       "TGCAGCGACCTTACAGGGGGGAACACTGAAGCTTTCTTT                      ... 1      \n",
       "TGCAGCGAGAAACAGGGGGCGCACACTGAAGCTTTCTTT                      ... 0      \n",
       "TGCAGCGCCCCGGACAGGGAATCCTACGAGCAGTACTTC                      ... 0      \n",
       "TGCAGCGCCCTGACAGGAAATTACTATGGCTACACCTTC                      ... 0      \n",
       "                                                             CHP_415 CHP_416\n",
       "CCTCCCCGGTGGGGGGGCACAGATACGCAGTATTTT                         0       0      \n",
       "TGCACCAGCAGCCAAGATGTTTGTGCCGTCACCCCGCGAATCTACAATGAGCAGTTCTTC 0       0      \n",
       "TGCAGCGACCTTACAGGGGGGAACACTGAAGCTTTCTTT                      0       0      \n",
       "TGCAGCGAGAAACAGGGGGCGCACACTGAAGCTTTCTTT                      0       0      \n",
       "TGCAGCGCCCCGGACAGGGAATCCTACGAGCAGTACTTC                      0       0      \n",
       "TGCAGCGCCCTGACAGGAAATTACTATGGCTACACCTTC                      0       0      \n",
       "                                                             CHP_417 CHP_418\n",
       "CCTCCCCGGTGGGGGGGCACAGATACGCAGTATTTT                         1       0      \n",
       "TGCACCAGCAGCCAAGATGTTTGTGCCGTCACCCCGCGAATCTACAATGAGCAGTTCTTC 0       0      \n",
       "TGCAGCGACCTTACAGGGGGGAACACTGAAGCTTTCTTT                      0       0      \n",
       "TGCAGCGAGAAACAGGGGGCGCACACTGAAGCTTTCTTT                      0       0      \n",
       "TGCAGCGCCCCGGACAGGGAATCCTACGAGCAGTACTTC                      0       0      \n",
       "TGCAGCGCCCTGACAGGAAATTACTATGGCTACACCTTC                      0       0      \n",
       "                                                             CHP_419 CHP_420\n",
       "CCTCCCCGGTGGGGGGGCACAGATACGCAGTATTTT                         0       0      \n",
       "TGCACCAGCAGCCAAGATGTTTGTGCCGTCACCCCGCGAATCTACAATGAGCAGTTCTTC 0       0      \n",
       "TGCAGCGACCTTACAGGGGGGAACACTGAAGCTTTCTTT                      0       0      \n",
       "TGCAGCGAGAAACAGGGGGCGCACACTGAAGCTTTCTTT                      0       0      \n",
       "TGCAGCGCCCCGGACAGGGAATCCTACGAGCAGTACTTC                      0       0      \n",
       "TGCAGCGCCCTGACAGGAAATTACTATGGCTACACCTTC                      0       0      \n",
       "                                                             CHP_421 CHP_422\n",
       "CCTCCCCGGTGGGGGGGCACAGATACGCAGTATTTT                         0       0      \n",
       "TGCACCAGCAGCCAAGATGTTTGTGCCGTCACCCCGCGAATCTACAATGAGCAGTTCTTC 0       0      \n",
       "TGCAGCGACCTTACAGGGGGGAACACTGAAGCTTTCTTT                      0       0      \n",
       "TGCAGCGAGAAACAGGGGGCGCACACTGAAGCTTTCTTT                      0       0      \n",
       "TGCAGCGCCCCGGACAGGGAATCCTACGAGCAGTACTTC                      0       0      \n",
       "TGCAGCGCCCTGACAGGAAATTACTATGGCTACACCTTC                      0       0      \n",
       "                                                             CHP_423\n",
       "CCTCCCCGGTGGGGGGGCACAGATACGCAGTATTTT                         0      \n",
       "TGCACCAGCAGCCAAGATGTTTGTGCCGTCACCCCGCGAATCTACAATGAGCAGTTCTTC 0      \n",
       "TGCAGCGACCTTACAGGGGGGAACACTGAAGCTTTCTTT                      0      \n",
       "TGCAGCGAGAAACAGGGGGCGCACACTGAAGCTTTCTTT                      0      \n",
       "TGCAGCGCCCCGGACAGGGAATCCTACGAGCAGTACTTC                      0      \n",
       "TGCAGCGCCCTGACAGGAAATTACTATGGCTACACCTTC                      0      "
      ]
     },
     "metadata": {},
     "output_type": "display_data"
    }
   ],
   "source": [
    "head(tcr_in_pats)"
   ]
  },
  {
   "cell_type": "code",
   "execution_count": 35,
   "metadata": {
    "vscode": {
     "languageId": "r"
    }
   },
   "outputs": [
    {
     "data": {
      "text/plain": [
       "   Min. 1st Qu.  Median    Mean 3rd Qu.    Max. \n",
       "  2.000   2.000   2.000   2.568   3.000  27.000 "
      ]
     },
     "metadata": {},
     "output_type": "display_data"
    }
   ],
   "source": [
    "summary(rowSums(tcr_in_pats))"
   ]
  },
  {
   "cell_type": "code",
   "execution_count": 45,
   "metadata": {
    "vscode": {
     "languageId": "r"
    }
   },
   "outputs": [
    {
     "data": {
      "text/html": [
       "<style>\n",
       ".dl-inline {width: auto; margin:0; padding: 0}\n",
       ".dl-inline>dt, .dl-inline>dd {float: none; width: auto; display: inline-block}\n",
       ".dl-inline>dt::after {content: \":\\0020\"; padding-right: .5ex}\n",
       ".dl-inline>dt:not(:first-of-type) {padding-left: .5ex}\n",
       "</style><dl class=dl-inline><dt>TGCGCCAGCAGCCAAGATCGGCAGAGAAACACTGAAGCTTTCTTT</dt><dd>9</dd><dt>TGTGCCAGCAGAACAGGGTGGAACACTGAAGCTTTCTTT</dt><dd>9</dd><dt>TGTGCCAGCAGTTTAGGGAGGAATCAGCCCCAGCATTTT</dt><dd>9</dd><dt>TGCGCCAGCAGCCGAACTACCGGGACTCCTCTCACCGGGGAGCTGTTTTTT</dt><dd>8</dd><dt>TGTGCCAGCAGCTCCTGGGAGACTTTGAACACTGAAGCTTTCTTT</dt><dd>8</dd><dt>TGCAGCGTTGGGAAAACAGGGCGCGCTAACCGGCTGAACACTGAAGCTTTCTTT</dt><dd>7</dd><dt>TGTGCCAGCAGCGTCGGGACCCGCTACGAGCAGTACTTC</dt><dd>7</dd><dt>TGTGCCAGCAGTGACTCTAGCGGGAGCACAGATACGCAGTATTTT</dt><dd>7</dd><dt>TGTGCCAGTAGTATCGGCAGGAATAGCAATCAGCCCCAGCATTTT</dt><dd>7</dd><dt>TGCAGTGCTAGAGACAGGGGCCTGAACACTGAAGCTTTCTTT</dt><dd>6</dd><dt>TGCAGTGCTAGAGATTTGGCAGTCTCCTACGAGCAGTACTTC</dt><dd>6</dd><dt>TGCAGTGCTAGCTCGATCGGGGGGGCCACAGATACGCAGTATTTT</dt><dd>6</dd><dt>TGCGCCAGCAGCTTGGTCGTTTTGGGGGGTTTCTATGGCTACACCTTC</dt><dd>6</dd><dt>TGTGCCACCGAACTCGACTACGAGCAGTACTTC</dt><dd>6</dd><dt>TGTGCCAGCACCGACGGGACACCCTACGAGCAGTACTTC</dt><dd>6</dd><dt>TGTGCCAGCAGCGTAGGTGGTAGCTTGAAACAGTTCTTC</dt><dd>6</dd><dt>TGTGCCAGCAGTAGACTCAACAGGGCTCCTAATGAAAAACTGTTTTTT</dt><dd>6</dd></dl>\n"
      ],
      "text/latex": [
       "\\begin{description*}\n",
       "\\item[TGCGCCAGCAGCCAAGATCGGCAGAGAAACACTGAAGCTTTCTTT] 9\n",
       "\\item[TGTGCCAGCAGAACAGGGTGGAACACTGAAGCTTTCTTT] 9\n",
       "\\item[TGTGCCAGCAGTTTAGGGAGGAATCAGCCCCAGCATTTT] 9\n",
       "\\item[TGCGCCAGCAGCCGAACTACCGGGACTCCTCTCACCGGGGAGCTGTTTTTT] 8\n",
       "\\item[TGTGCCAGCAGCTCCTGGGAGACTTTGAACACTGAAGCTTTCTTT] 8\n",
       "\\item[TGCAGCGTTGGGAAAACAGGGCGCGCTAACCGGCTGAACACTGAAGCTTTCTTT] 7\n",
       "\\item[TGTGCCAGCAGCGTCGGGACCCGCTACGAGCAGTACTTC] 7\n",
       "\\item[TGTGCCAGCAGTGACTCTAGCGGGAGCACAGATACGCAGTATTTT] 7\n",
       "\\item[TGTGCCAGTAGTATCGGCAGGAATAGCAATCAGCCCCAGCATTTT] 7\n",
       "\\item[TGCAGTGCTAGAGACAGGGGCCTGAACACTGAAGCTTTCTTT] 6\n",
       "\\item[TGCAGTGCTAGAGATTTGGCAGTCTCCTACGAGCAGTACTTC] 6\n",
       "\\item[TGCAGTGCTAGCTCGATCGGGGGGGCCACAGATACGCAGTATTTT] 6\n",
       "\\item[TGCGCCAGCAGCTTGGTCGTTTTGGGGGGTTTCTATGGCTACACCTTC] 6\n",
       "\\item[TGTGCCACCGAACTCGACTACGAGCAGTACTTC] 6\n",
       "\\item[TGTGCCAGCACCGACGGGACACCCTACGAGCAGTACTTC] 6\n",
       "\\item[TGTGCCAGCAGCGTAGGTGGTAGCTTGAAACAGTTCTTC] 6\n",
       "\\item[TGTGCCAGCAGTAGACTCAACAGGGCTCCTAATGAAAAACTGTTTTTT] 6\n",
       "\\end{description*}\n"
      ],
      "text/markdown": [
       "TGCGCCAGCAGCCAAGATCGGCAGAGAAACACTGAAGCTTTCTTT\n",
       ":   9TGTGCCAGCAGAACAGGGTGGAACACTGAAGCTTTCTTT\n",
       ":   9TGTGCCAGCAGTTTAGGGAGGAATCAGCCCCAGCATTTT\n",
       ":   9TGCGCCAGCAGCCGAACTACCGGGACTCCTCTCACCGGGGAGCTGTTTTTT\n",
       ":   8TGTGCCAGCAGCTCCTGGGAGACTTTGAACACTGAAGCTTTCTTT\n",
       ":   8TGCAGCGTTGGGAAAACAGGGCGCGCTAACCGGCTGAACACTGAAGCTTTCTTT\n",
       ":   7TGTGCCAGCAGCGTCGGGACCCGCTACGAGCAGTACTTC\n",
       ":   7TGTGCCAGCAGTGACTCTAGCGGGAGCACAGATACGCAGTATTTT\n",
       ":   7TGTGCCAGTAGTATCGGCAGGAATAGCAATCAGCCCCAGCATTTT\n",
       ":   7TGCAGTGCTAGAGACAGGGGCCTGAACACTGAAGCTTTCTTT\n",
       ":   6TGCAGTGCTAGAGATTTGGCAGTCTCCTACGAGCAGTACTTC\n",
       ":   6TGCAGTGCTAGCTCGATCGGGGGGGCCACAGATACGCAGTATTTT\n",
       ":   6TGCGCCAGCAGCTTGGTCGTTTTGGGGGGTTTCTATGGCTACACCTTC\n",
       ":   6TGTGCCACCGAACTCGACTACGAGCAGTACTTC\n",
       ":   6TGTGCCAGCACCGACGGGACACCCTACGAGCAGTACTTC\n",
       ":   6TGTGCCAGCAGCGTAGGTGGTAGCTTGAAACAGTTCTTC\n",
       ":   6TGTGCCAGCAGTAGACTCAACAGGGCTCCTAATGAAAAACTGTTTTTT\n",
       ":   6\n",
       "\n"
      ],
      "text/plain": [
       "         TGCGCCAGCAGCCAAGATCGGCAGAGAAACACTGAAGCTTTCTTT \n",
       "                                                     9 \n",
       "               TGTGCCAGCAGAACAGGGTGGAACACTGAAGCTTTCTTT \n",
       "                                                     9 \n",
       "               TGTGCCAGCAGTTTAGGGAGGAATCAGCCCCAGCATTTT \n",
       "                                                     9 \n",
       "   TGCGCCAGCAGCCGAACTACCGGGACTCCTCTCACCGGGGAGCTGTTTTTT \n",
       "                                                     8 \n",
       "         TGTGCCAGCAGCTCCTGGGAGACTTTGAACACTGAAGCTTTCTTT \n",
       "                                                     8 \n",
       "TGCAGCGTTGGGAAAACAGGGCGCGCTAACCGGCTGAACACTGAAGCTTTCTTT \n",
       "                                                     7 \n",
       "               TGTGCCAGCAGCGTCGGGACCCGCTACGAGCAGTACTTC \n",
       "                                                     7 \n",
       "         TGTGCCAGCAGTGACTCTAGCGGGAGCACAGATACGCAGTATTTT \n",
       "                                                     7 \n",
       "         TGTGCCAGTAGTATCGGCAGGAATAGCAATCAGCCCCAGCATTTT \n",
       "                                                     7 \n",
       "            TGCAGTGCTAGAGACAGGGGCCTGAACACTGAAGCTTTCTTT \n",
       "                                                     6 \n",
       "            TGCAGTGCTAGAGATTTGGCAGTCTCCTACGAGCAGTACTTC \n",
       "                                                     6 \n",
       "         TGCAGTGCTAGCTCGATCGGGGGGGCCACAGATACGCAGTATTTT \n",
       "                                                     6 \n",
       "      TGCGCCAGCAGCTTGGTCGTTTTGGGGGGTTTCTATGGCTACACCTTC \n",
       "                                                     6 \n",
       "                     TGTGCCACCGAACTCGACTACGAGCAGTACTTC \n",
       "                                                     6 \n",
       "               TGTGCCAGCACCGACGGGACACCCTACGAGCAGTACTTC \n",
       "                                                     6 \n",
       "               TGTGCCAGCAGCGTAGGTGGTAGCTTGAAACAGTTCTTC \n",
       "                                                     6 \n",
       "      TGTGCCAGCAGTAGACTCAACAGGGCTCCTAATGAAAAACTGTTTTTT \n",
       "                                                     6 "
      ]
     },
     "metadata": {},
     "output_type": "display_data"
    }
   ],
   "source": [
    "sort(rowSums(tcr_in_pats), decreasing = TRUE)[9:25]"
   ]
  },
  {
   "cell_type": "code",
   "execution_count": 46,
   "metadata": {
    "vscode": {
     "languageId": "r"
    }
   },
   "outputs": [],
   "source": [
    "morethan10perc <- names(sort(rowSums(tcr_in_pats), decreasing = TRUE))[9:25]"
   ]
  },
  {
   "cell_type": "code",
   "execution_count": 47,
   "metadata": {
    "vscode": {
     "languageId": "r"
    }
   },
   "outputs": [
    {
     "data": {
      "text/html": [
       "<style>\n",
       ".list-inline {list-style: none; margin:0; padding: 0}\n",
       ".list-inline>li {display: inline-block}\n",
       ".list-inline>li:not(:last-child)::after {content: \"\\00b7\"; padding: 0 .5ex}\n",
       "</style>\n",
       "<ol class=list-inline><li>'CASSQDRQRNTEAFF'</li><li>'CASSDSSGSTDTQYF'</li><li>'CASRTGWNTEAFF'</li><li>'CASSLGRNQPQHF'</li><li>'CASSRTTGTPLTGELFF'</li><li>'CSARDRGLNTEAFF'</li><li>'CASSVGGSLKQFF'</li><li>'CASSIGRNSNQPQHF'</li><li>'CSARDLAVSYEQYF'</li><li>'CSASSIGGATDTQYF'</li><li>'CASSVGTRYEQYF'</li><li>'CASSRLNRAPNEKLFF'</li><li>'CASTDGTPYEQYF'</li><li>'CASSLVVLGGFYGYTF'</li><li>'CSVGKTGRANRLNTEAFF'</li><li>'CASSSWETLNTEAFF'</li><li>'CATELDYEQYF'</li></ol>\n"
      ],
      "text/latex": [
       "\\begin{enumerate*}\n",
       "\\item 'CASSQDRQRNTEAFF'\n",
       "\\item 'CASSDSSGSTDTQYF'\n",
       "\\item 'CASRTGWNTEAFF'\n",
       "\\item 'CASSLGRNQPQHF'\n",
       "\\item 'CASSRTTGTPLTGELFF'\n",
       "\\item 'CSARDRGLNTEAFF'\n",
       "\\item 'CASSVGGSLKQFF'\n",
       "\\item 'CASSIGRNSNQPQHF'\n",
       "\\item 'CSARDLAVSYEQYF'\n",
       "\\item 'CSASSIGGATDTQYF'\n",
       "\\item 'CASSVGTRYEQYF'\n",
       "\\item 'CASSRLNRAPNEKLFF'\n",
       "\\item 'CASTDGTPYEQYF'\n",
       "\\item 'CASSLVVLGGFYGYTF'\n",
       "\\item 'CSVGKTGRANRLNTEAFF'\n",
       "\\item 'CASSSWETLNTEAFF'\n",
       "\\item 'CATELDYEQYF'\n",
       "\\end{enumerate*}\n"
      ],
      "text/markdown": [
       "1. 'CASSQDRQRNTEAFF'\n",
       "2. 'CASSDSSGSTDTQYF'\n",
       "3. 'CASRTGWNTEAFF'\n",
       "4. 'CASSLGRNQPQHF'\n",
       "5. 'CASSRTTGTPLTGELFF'\n",
       "6. 'CSARDRGLNTEAFF'\n",
       "7. 'CASSVGGSLKQFF'\n",
       "8. 'CASSIGRNSNQPQHF'\n",
       "9. 'CSARDLAVSYEQYF'\n",
       "10. 'CSASSIGGATDTQYF'\n",
       "11. 'CASSVGTRYEQYF'\n",
       "12. 'CASSRLNRAPNEKLFF'\n",
       "13. 'CASTDGTPYEQYF'\n",
       "14. 'CASSLVVLGGFYGYTF'\n",
       "15. 'CSVGKTGRANRLNTEAFF'\n",
       "16. 'CASSSWETLNTEAFF'\n",
       "17. 'CATELDYEQYF'\n",
       "\n",
       "\n"
      ],
      "text/plain": [
       " [1] \"CASSQDRQRNTEAFF\"    \"CASSDSSGSTDTQYF\"    \"CASRTGWNTEAFF\"     \n",
       " [4] \"CASSLGRNQPQHF\"      \"CASSRTTGTPLTGELFF\"  \"CSARDRGLNTEAFF\"    \n",
       " [7] \"CASSVGGSLKQFF\"      \"CASSIGRNSNQPQHF\"    \"CSARDLAVSYEQYF\"    \n",
       "[10] \"CSASSIGGATDTQYF\"    \"CASSVGTRYEQYF\"      \"CASSRLNRAPNEKLFF\"  \n",
       "[13] \"CASTDGTPYEQYF\"      \"CASSLVVLGGFYGYTF\"   \"CSVGKTGRANRLNTEAFF\"\n",
       "[16] \"CASSSWETLNTEAFF\"    \"CATELDYEQYF\"       "
      ]
     },
     "metadata": {},
     "output_type": "display_data"
    }
   ],
   "source": [
    "unique(int_all$aaSeqCDR3[int_all$nSeqCDR3 %in% morethan10perc ] )"
   ]
  },
  {
   "cell_type": "code",
   "execution_count": null,
   "metadata": {
    "vscode": {
     "languageId": "r"
    }
   },
   "outputs": [],
   "source": []
  },
  {
   "cell_type": "code",
   "execution_count": null,
   "metadata": {
    "vscode": {
     "languageId": "r"
    }
   },
   "outputs": [],
   "source": []
  },
  {
   "cell_type": "code",
   "execution_count": 37,
   "metadata": {
    "vscode": {
     "languageId": "r"
    }
   },
   "outputs": [],
   "source": [
    "tcr_in_morethanonepat <- nrow(tcr_in_pats)"
   ]
  },
  {
   "cell_type": "code",
   "execution_count": 38,
   "metadata": {
    "vscode": {
     "languageId": "r"
    }
   },
   "outputs": [
    {
     "data": {
      "text/html": [
       "887"
      ],
      "text/latex": [
       "887"
      ],
      "text/markdown": [
       "887"
      ],
      "text/plain": [
       "[1] 887"
      ]
     },
     "metadata": {},
     "output_type": "display_data"
    }
   ],
   "source": [
    "tcr_in_morethanonepat"
   ]
  },
  {
   "cell_type": "code",
   "execution_count": 38,
   "metadata": {
    "vscode": {
     "languageId": "r"
    }
   },
   "outputs": [],
   "source": [
    "tcr_pat_tab <- as.data.frame.matrix(table(int_all$nSeqCDR3, int_all$Patient))"
   ]
  },
  {
   "cell_type": "code",
   "execution_count": 39,
   "metadata": {
    "vscode": {
     "languageId": "r"
    }
   },
   "outputs": [
    {
     "data": {
      "text/html": [
       "<style>\n",
       ".list-inline {list-style: none; margin:0; padding: 0}\n",
       ".list-inline>li {display: inline-block}\n",
       ".list-inline>li:not(:last-child)::after {content: \"\\00b7\"; padding: 0 .5ex}\n",
       "</style>\n",
       "<ol class=list-inline><li>51877</li><li>99</li></ol>\n"
      ],
      "text/latex": [
       "\\begin{enumerate*}\n",
       "\\item 51877\n",
       "\\item 99\n",
       "\\end{enumerate*}\n"
      ],
      "text/markdown": [
       "1. 51877\n",
       "2. 99\n",
       "\n",
       "\n"
      ],
      "text/plain": [
       "[1] 51877    99"
      ]
     },
     "metadata": {},
     "output_type": "display_data"
    }
   ],
   "source": [
    "dim(tcr_pat_tab)"
   ]
  },
  {
   "cell_type": "code",
   "execution_count": 40,
   "metadata": {
    "vscode": {
     "languageId": "r"
    }
   },
   "outputs": [],
   "source": [
    "tcr_pat_tab$no_patients_morethanone <- rowSums(tcr_pat_tab[,1:99] > 1) # count number of TCRs happening in more than one sample per patient\n",
    "tcr_pat_tab$no_patients_one <- rowSums(tcr_pat_tab[,1:99] == 1)\n",
    "tcr_pat_tab$no_patients_none <- rowSums(tcr_pat_tab[,1:99] == 0)"
   ]
  },
  {
   "cell_type": "code",
   "execution_count": 41,
   "metadata": {
    "vscode": {
     "languageId": "r"
    }
   },
   "outputs": [
    {
     "data": {
      "text/html": [
       "<table class=\"dataframe\">\n",
       "<caption>A data.frame: 6 x 102</caption>\n",
       "<thead>\n",
       "\t<tr><th></th><th scope=col>CHP_319</th><th scope=col>CHP_323</th><th scope=col>CHP_324</th><th scope=col>CHP_326</th><th scope=col>CHP_328</th><th scope=col>CHP_329</th><th scope=col>CHP_330</th><th scope=col>CHP_331</th><th scope=col>CHP_333</th><th scope=col>CHP_334</th><th scope=col>...</th><th scope=col>CHP_417</th><th scope=col>CHP_418</th><th scope=col>CHP_419</th><th scope=col>CHP_420</th><th scope=col>CHP_421</th><th scope=col>CHP_422</th><th scope=col>CHP_423</th><th scope=col>no_patients_morethanone</th><th scope=col>no_patients_one</th><th scope=col>no_patients_none</th></tr>\n",
       "\t<tr><th></th><th scope=col>&lt;int&gt;</th><th scope=col>&lt;int&gt;</th><th scope=col>&lt;int&gt;</th><th scope=col>&lt;int&gt;</th><th scope=col>&lt;int&gt;</th><th scope=col>&lt;int&gt;</th><th scope=col>&lt;int&gt;</th><th scope=col>&lt;int&gt;</th><th scope=col>&lt;int&gt;</th><th scope=col>&lt;int&gt;</th><th scope=col>...</th><th scope=col>&lt;int&gt;</th><th scope=col>&lt;int&gt;</th><th scope=col>&lt;int&gt;</th><th scope=col>&lt;int&gt;</th><th scope=col>&lt;int&gt;</th><th scope=col>&lt;int&gt;</th><th scope=col>&lt;int&gt;</th><th scope=col>&lt;dbl&gt;</th><th scope=col>&lt;dbl&gt;</th><th scope=col>&lt;dbl&gt;</th></tr>\n",
       "</thead>\n",
       "<tbody>\n",
       "\t<tr><th scope=row>AGCGCCAGCAGCCAAGAACAGACTTCGTACAATGAGCAGTTCTTC</th><td>0</td><td>0</td><td>0</td><td>0</td><td>0</td><td>0</td><td>0</td><td>0</td><td>0</td><td>0</td><td>...</td><td>0</td><td>0</td><td>0</td><td>0</td><td>0</td><td>0</td><td>0</td><td>0</td><td>1</td><td>98</td></tr>\n",
       "\t<tr><th scope=row>AGCGCCAGCAGCCCCCCAGGTGTCACTGAAGCTTTCTTT</th><td>0</td><td>0</td><td>0</td><td>0</td><td>0</td><td>0</td><td>0</td><td>0</td><td>0</td><td>0</td><td>...</td><td>0</td><td>0</td><td>0</td><td>0</td><td>0</td><td>0</td><td>0</td><td>0</td><td>1</td><td>98</td></tr>\n",
       "\t<tr><th scope=row>AGCGCCAGCAGCTTGAGGGTGTCAGGGGGCCGGGGAAACACCATATATTTT</th><td>0</td><td>0</td><td>0</td><td>0</td><td>0</td><td>0</td><td>0</td><td>0</td><td>0</td><td>0</td><td>...</td><td>0</td><td>0</td><td>0</td><td>0</td><td>0</td><td>0</td><td>0</td><td>0</td><td>1</td><td>98</td></tr>\n",
       "\t<tr><th scope=row>AGTGCCAGCAGAAGATCCGGGGACTACCCTTACGAGCAGTACTTC</th><td>0</td><td>0</td><td>0</td><td>0</td><td>0</td><td>0</td><td>0</td><td>0</td><td>0</td><td>0</td><td>...</td><td>0</td><td>0</td><td>0</td><td>0</td><td>0</td><td>0</td><td>0</td><td>0</td><td>1</td><td>98</td></tr>\n",
       "\t<tr><th scope=row>AGTGCCAGCAGCCAAATGCGGTCAGGGACCTCTGAAGCTTTCTTT</th><td>0</td><td>0</td><td>0</td><td>0</td><td>0</td><td>0</td><td>0</td><td>0</td><td>0</td><td>0</td><td>...</td><td>0</td><td>0</td><td>0</td><td>0</td><td>0</td><td>0</td><td>0</td><td>0</td><td>1</td><td>98</td></tr>\n",
       "\t<tr><th scope=row>AGTGCCAGCAGCTTACCAGGGCGGCAATCAGCCCCAGCATTT</th><td>0</td><td>0</td><td>0</td><td>0</td><td>0</td><td>0</td><td>0</td><td>0</td><td>0</td><td>0</td><td>...</td><td>0</td><td>0</td><td>0</td><td>0</td><td>0</td><td>0</td><td>0</td><td>0</td><td>1</td><td>98</td></tr>\n",
       "</tbody>\n",
       "</table>\n"
      ],
      "text/latex": [
       "A data.frame: 6 x 102\n",
       "\\begin{tabular}{r|lllllllllllllllllllll}\n",
       "  & CHP\\_319 & CHP\\_323 & CHP\\_324 & CHP\\_326 & CHP\\_328 & CHP\\_329 & CHP\\_330 & CHP\\_331 & CHP\\_333 & CHP\\_334 & ... & CHP\\_417 & CHP\\_418 & CHP\\_419 & CHP\\_420 & CHP\\_421 & CHP\\_422 & CHP\\_423 & no\\_patients\\_morethanone & no\\_patients\\_one & no\\_patients\\_none\\\\\n",
       "  & <int> & <int> & <int> & <int> & <int> & <int> & <int> & <int> & <int> & <int> & ... & <int> & <int> & <int> & <int> & <int> & <int> & <int> & <dbl> & <dbl> & <dbl>\\\\\n",
       "\\hline\n",
       "\tAGCGCCAGCAGCCAAGAACAGACTTCGTACAATGAGCAGTTCTTC & 0 & 0 & 0 & 0 & 0 & 0 & 0 & 0 & 0 & 0 & ... & 0 & 0 & 0 & 0 & 0 & 0 & 0 & 0 & 1 & 98\\\\\n",
       "\tAGCGCCAGCAGCCCCCCAGGTGTCACTGAAGCTTTCTTT & 0 & 0 & 0 & 0 & 0 & 0 & 0 & 0 & 0 & 0 & ... & 0 & 0 & 0 & 0 & 0 & 0 & 0 & 0 & 1 & 98\\\\\n",
       "\tAGCGCCAGCAGCTTGAGGGTGTCAGGGGGCCGGGGAAACACCATATATTTT & 0 & 0 & 0 & 0 & 0 & 0 & 0 & 0 & 0 & 0 & ... & 0 & 0 & 0 & 0 & 0 & 0 & 0 & 0 & 1 & 98\\\\\n",
       "\tAGTGCCAGCAGAAGATCCGGGGACTACCCTTACGAGCAGTACTTC & 0 & 0 & 0 & 0 & 0 & 0 & 0 & 0 & 0 & 0 & ... & 0 & 0 & 0 & 0 & 0 & 0 & 0 & 0 & 1 & 98\\\\\n",
       "\tAGTGCCAGCAGCCAAATGCGGTCAGGGACCTCTGAAGCTTTCTTT & 0 & 0 & 0 & 0 & 0 & 0 & 0 & 0 & 0 & 0 & ... & 0 & 0 & 0 & 0 & 0 & 0 & 0 & 0 & 1 & 98\\\\\n",
       "\tAGTGCCAGCAGCTTACCAGGGCGGCAATCAGCCCCAGCATTT & 0 & 0 & 0 & 0 & 0 & 0 & 0 & 0 & 0 & 0 & ... & 0 & 0 & 0 & 0 & 0 & 0 & 0 & 0 & 1 & 98\\\\\n",
       "\\end{tabular}\n"
      ],
      "text/markdown": [
       "\n",
       "A data.frame: 6 x 102\n",
       "\n",
       "| <!--/--> | CHP_319 &lt;int&gt; | CHP_323 &lt;int&gt; | CHP_324 &lt;int&gt; | CHP_326 &lt;int&gt; | CHP_328 &lt;int&gt; | CHP_329 &lt;int&gt; | CHP_330 &lt;int&gt; | CHP_331 &lt;int&gt; | CHP_333 &lt;int&gt; | CHP_334 &lt;int&gt; | ... ... | CHP_417 &lt;int&gt; | CHP_418 &lt;int&gt; | CHP_419 &lt;int&gt; | CHP_420 &lt;int&gt; | CHP_421 &lt;int&gt; | CHP_422 &lt;int&gt; | CHP_423 &lt;int&gt; | no_patients_morethanone &lt;dbl&gt; | no_patients_one &lt;dbl&gt; | no_patients_none &lt;dbl&gt; |\n",
       "|---|---|---|---|---|---|---|---|---|---|---|---|---|---|---|---|---|---|---|---|---|---|\n",
       "| AGCGCCAGCAGCCAAGAACAGACTTCGTACAATGAGCAGTTCTTC | 0 | 0 | 0 | 0 | 0 | 0 | 0 | 0 | 0 | 0 | ... | 0 | 0 | 0 | 0 | 0 | 0 | 0 | 0 | 1 | 98 |\n",
       "| AGCGCCAGCAGCCCCCCAGGTGTCACTGAAGCTTTCTTT | 0 | 0 | 0 | 0 | 0 | 0 | 0 | 0 | 0 | 0 | ... | 0 | 0 | 0 | 0 | 0 | 0 | 0 | 0 | 1 | 98 |\n",
       "| AGCGCCAGCAGCTTGAGGGTGTCAGGGGGCCGGGGAAACACCATATATTTT | 0 | 0 | 0 | 0 | 0 | 0 | 0 | 0 | 0 | 0 | ... | 0 | 0 | 0 | 0 | 0 | 0 | 0 | 0 | 1 | 98 |\n",
       "| AGTGCCAGCAGAAGATCCGGGGACTACCCTTACGAGCAGTACTTC | 0 | 0 | 0 | 0 | 0 | 0 | 0 | 0 | 0 | 0 | ... | 0 | 0 | 0 | 0 | 0 | 0 | 0 | 0 | 1 | 98 |\n",
       "| AGTGCCAGCAGCCAAATGCGGTCAGGGACCTCTGAAGCTTTCTTT | 0 | 0 | 0 | 0 | 0 | 0 | 0 | 0 | 0 | 0 | ... | 0 | 0 | 0 | 0 | 0 | 0 | 0 | 0 | 1 | 98 |\n",
       "| AGTGCCAGCAGCTTACCAGGGCGGCAATCAGCCCCAGCATTT | 0 | 0 | 0 | 0 | 0 | 0 | 0 | 0 | 0 | 0 | ... | 0 | 0 | 0 | 0 | 0 | 0 | 0 | 0 | 1 | 98 |\n",
       "\n"
      ],
      "text/plain": [
       "                                                    CHP_319 CHP_323 CHP_324\n",
       "AGCGCCAGCAGCCAAGAACAGACTTCGTACAATGAGCAGTTCTTC       0       0       0      \n",
       "AGCGCCAGCAGCCCCCCAGGTGTCACTGAAGCTTTCTTT             0       0       0      \n",
       "AGCGCCAGCAGCTTGAGGGTGTCAGGGGGCCGGGGAAACACCATATATTTT 0       0       0      \n",
       "AGTGCCAGCAGAAGATCCGGGGACTACCCTTACGAGCAGTACTTC       0       0       0      \n",
       "AGTGCCAGCAGCCAAATGCGGTCAGGGACCTCTGAAGCTTTCTTT       0       0       0      \n",
       "AGTGCCAGCAGCTTACCAGGGCGGCAATCAGCCCCAGCATTT          0       0       0      \n",
       "                                                    CHP_326 CHP_328 CHP_329\n",
       "AGCGCCAGCAGCCAAGAACAGACTTCGTACAATGAGCAGTTCTTC       0       0       0      \n",
       "AGCGCCAGCAGCCCCCCAGGTGTCACTGAAGCTTTCTTT             0       0       0      \n",
       "AGCGCCAGCAGCTTGAGGGTGTCAGGGGGCCGGGGAAACACCATATATTTT 0       0       0      \n",
       "AGTGCCAGCAGAAGATCCGGGGACTACCCTTACGAGCAGTACTTC       0       0       0      \n",
       "AGTGCCAGCAGCCAAATGCGGTCAGGGACCTCTGAAGCTTTCTTT       0       0       0      \n",
       "AGTGCCAGCAGCTTACCAGGGCGGCAATCAGCCCCAGCATTT          0       0       0      \n",
       "                                                    CHP_330 CHP_331 CHP_333\n",
       "AGCGCCAGCAGCCAAGAACAGACTTCGTACAATGAGCAGTTCTTC       0       0       0      \n",
       "AGCGCCAGCAGCCCCCCAGGTGTCACTGAAGCTTTCTTT             0       0       0      \n",
       "AGCGCCAGCAGCTTGAGGGTGTCAGGGGGCCGGGGAAACACCATATATTTT 0       0       0      \n",
       "AGTGCCAGCAGAAGATCCGGGGACTACCCTTACGAGCAGTACTTC       0       0       0      \n",
       "AGTGCCAGCAGCCAAATGCGGTCAGGGACCTCTGAAGCTTTCTTT       0       0       0      \n",
       "AGTGCCAGCAGCTTACCAGGGCGGCAATCAGCCCCAGCATTT          0       0       0      \n",
       "                                                    CHP_334 ... CHP_417 CHP_418\n",
       "AGCGCCAGCAGCCAAGAACAGACTTCGTACAATGAGCAGTTCTTC       0       ... 0       0      \n",
       "AGCGCCAGCAGCCCCCCAGGTGTCACTGAAGCTTTCTTT             0       ... 0       0      \n",
       "AGCGCCAGCAGCTTGAGGGTGTCAGGGGGCCGGGGAAACACCATATATTTT 0       ... 0       0      \n",
       "AGTGCCAGCAGAAGATCCGGGGACTACCCTTACGAGCAGTACTTC       0       ... 0       0      \n",
       "AGTGCCAGCAGCCAAATGCGGTCAGGGACCTCTGAAGCTTTCTTT       0       ... 0       0      \n",
       "AGTGCCAGCAGCTTACCAGGGCGGCAATCAGCCCCAGCATTT          0       ... 0       0      \n",
       "                                                    CHP_419 CHP_420 CHP_421\n",
       "AGCGCCAGCAGCCAAGAACAGACTTCGTACAATGAGCAGTTCTTC       0       0       0      \n",
       "AGCGCCAGCAGCCCCCCAGGTGTCACTGAAGCTTTCTTT             0       0       0      \n",
       "AGCGCCAGCAGCTTGAGGGTGTCAGGGGGCCGGGGAAACACCATATATTTT 0       0       0      \n",
       "AGTGCCAGCAGAAGATCCGGGGACTACCCTTACGAGCAGTACTTC       0       0       0      \n",
       "AGTGCCAGCAGCCAAATGCGGTCAGGGACCTCTGAAGCTTTCTTT       0       0       0      \n",
       "AGTGCCAGCAGCTTACCAGGGCGGCAATCAGCCCCAGCATTT          0       0       0      \n",
       "                                                    CHP_422 CHP_423\n",
       "AGCGCCAGCAGCCAAGAACAGACTTCGTACAATGAGCAGTTCTTC       0       0      \n",
       "AGCGCCAGCAGCCCCCCAGGTGTCACTGAAGCTTTCTTT             0       0      \n",
       "AGCGCCAGCAGCTTGAGGGTGTCAGGGGGCCGGGGAAACACCATATATTTT 0       0      \n",
       "AGTGCCAGCAGAAGATCCGGGGACTACCCTTACGAGCAGTACTTC       0       0      \n",
       "AGTGCCAGCAGCCAAATGCGGTCAGGGACCTCTGAAGCTTTCTTT       0       0      \n",
       "AGTGCCAGCAGCTTACCAGGGCGGCAATCAGCCCCAGCATTT          0       0      \n",
       "                                                    no_patients_morethanone\n",
       "AGCGCCAGCAGCCAAGAACAGACTTCGTACAATGAGCAGTTCTTC       0                      \n",
       "AGCGCCAGCAGCCCCCCAGGTGTCACTGAAGCTTTCTTT             0                      \n",
       "AGCGCCAGCAGCTTGAGGGTGTCAGGGGGCCGGGGAAACACCATATATTTT 0                      \n",
       "AGTGCCAGCAGAAGATCCGGGGACTACCCTTACGAGCAGTACTTC       0                      \n",
       "AGTGCCAGCAGCCAAATGCGGTCAGGGACCTCTGAAGCTTTCTTT       0                      \n",
       "AGTGCCAGCAGCTTACCAGGGCGGCAATCAGCCCCAGCATTT          0                      \n",
       "                                                    no_patients_one\n",
       "AGCGCCAGCAGCCAAGAACAGACTTCGTACAATGAGCAGTTCTTC       1              \n",
       "AGCGCCAGCAGCCCCCCAGGTGTCACTGAAGCTTTCTTT             1              \n",
       "AGCGCCAGCAGCTTGAGGGTGTCAGGGGGCCGGGGAAACACCATATATTTT 1              \n",
       "AGTGCCAGCAGAAGATCCGGGGACTACCCTTACGAGCAGTACTTC       1              \n",
       "AGTGCCAGCAGCCAAATGCGGTCAGGGACCTCTGAAGCTTTCTTT       1              \n",
       "AGTGCCAGCAGCTTACCAGGGCGGCAATCAGCCCCAGCATTT          1              \n",
       "                                                    no_patients_none\n",
       "AGCGCCAGCAGCCAAGAACAGACTTCGTACAATGAGCAGTTCTTC       98              \n",
       "AGCGCCAGCAGCCCCCCAGGTGTCACTGAAGCTTTCTTT             98              \n",
       "AGCGCCAGCAGCTTGAGGGTGTCAGGGGGCCGGGGAAACACCATATATTTT 98              \n",
       "AGTGCCAGCAGAAGATCCGGGGACTACCCTTACGAGCAGTACTTC       98              \n",
       "AGTGCCAGCAGCCAAATGCGGTCAGGGACCTCTGAAGCTTTCTTT       98              \n",
       "AGTGCCAGCAGCTTACCAGGGCGGCAATCAGCCCCAGCATTT          98              "
      ]
     },
     "metadata": {},
     "output_type": "display_data"
    }
   ],
   "source": [
    "head(tcr_pat_tab)"
   ]
  },
  {
   "cell_type": "code",
   "execution_count": 42,
   "metadata": {
    "vscode": {
     "languageId": "r"
    }
   },
   "outputs": [
    {
     "data": {
      "text/html": [
       "<style>\n",
       ".list-inline {list-style: none; margin:0; padding: 0}\n",
       ".list-inline>li {display: inline-block}\n",
       ".list-inline>li:not(:last-child)::after {content: \"\\00b7\"; padding: 0 .5ex}\n",
       "</style>\n",
       "<ol class=list-inline><li>350</li><li>102</li></ol>\n"
      ],
      "text/latex": [
       "\\begin{enumerate*}\n",
       "\\item 350\n",
       "\\item 102\n",
       "\\end{enumerate*}\n"
      ],
      "text/markdown": [
       "1. 350\n",
       "2. 102\n",
       "\n",
       "\n"
      ],
      "text/plain": [
       "[1] 350 102"
      ]
     },
     "metadata": {},
     "output_type": "display_data"
    }
   ],
   "source": [
    "dim(tcr_pat_tab[tcr_pat_tab$no_patients_morethanone > 0, ]) # 350 TCRs in more than one sample in at least one patient, may include public TCRs"
   ]
  },
  {
   "cell_type": "code",
   "execution_count": null,
   "metadata": {
    "vscode": {
     "languageId": "r"
    }
   },
   "outputs": [],
   "source": [
    "dim(tcr_pat_tab[tcr_pat_tab$no_patients_morethanone > 0 & tcr_pat_tab$no_patients_none == 98, ]) # 289 patient-specific TCRs in more than one sample\n",
    "patient_specific <- nrow(tcr_pat_tab[tcr_pat_tab$no_patients_morethanone > 0 & tcr_pat_tab$no_patients_none == 98, ])"
   ]
  },
  {
   "cell_type": "code",
   "execution_count": null,
   "metadata": {
    "vscode": {
     "languageId": "r"
    }
   },
   "outputs": [],
   "source": [
    "head(tcr_pat_tab[tcr_pat_tab$no_patients_morethanone > 0 & tcr_pat_tab$no_patients_none == 98, ])"
   ]
  },
  {
   "cell_type": "code",
   "execution_count": null,
   "metadata": {
    "vscode": {
     "languageId": "r"
    }
   },
   "outputs": [],
   "source": [
    "# create a df with 4 rows, total, unique, public, patient-specific and 2 cols, name and count\n",
    "tcr_pat_tab_df <- data.frame(name = c(\"Total\", \"Unique\", \"Public\", \"Patient-specific\"), \n",
    "count = c(allTCRs, uniqueTCRs, tcr_in_morethanonepat, patient_specific))"
   ]
  },
  {
   "cell_type": "code",
   "execution_count": null,
   "metadata": {
    "vscode": {
     "languageId": "r"
    }
   },
   "outputs": [],
   "source": [
    "tcr_pat_tab_df$Percentage <- round(tcr_pat_tab_df$count / allTCRs * 100, 2)"
   ]
  },
  {
   "cell_type": "code",
   "execution_count": null,
   "metadata": {
    "vscode": {
     "languageId": "r"
    }
   },
   "outputs": [],
   "source": [
    "tcr_pat_tab_df"
   ]
  },
  {
   "cell_type": "code",
   "execution_count": null,
   "metadata": {
    "vscode": {
     "languageId": "r"
    }
   },
   "outputs": [],
   "source": [
    "53686 - 50514"
   ]
  },
  {
   "cell_type": "code",
   "execution_count": null,
   "metadata": {
    "vscode": {
     "languageId": "r"
    }
   },
   "outputs": [],
   "source": [
    "#factor tcr_pat_tab_df$name\n",
    "tcr_pat_tab_df$name <- factor(tcr_pat_tab_df$name, levels = c(\"Total\", \"Unique\", \"Public\", \"Patient-specific\"))"
   ]
  },
  {
   "cell_type": "code",
   "execution_count": null,
   "metadata": {
    "vscode": {
     "languageId": "r"
    }
   },
   "outputs": [],
   "source": [
    "# plot a barplot tcr_pat_tab_df$Percentage using ggplot2\n",
    "p1 <- ggplot(data = tcr_pat_tab_df, aes(x = name, y = Percentage)) +\n",
    "    geom_bar(stat = \"identity\", width = 0.5) +\n",
    "    geom_text(aes(label = count), vjust = -0.5, size = 5) +\n",
    "    theme(\n",
    "        axis.title.x = element_blank(),\n",
    "        axis.text.x = element_text(size = 15, angle = 45, hjust = 1),\n",
    "        axis.line = element_line(color = \"black\"),\n",
    "        axis.text = element_text(size = 15),\n",
    "        axis.title = element_text(size = 15),\n",
    "        legend.position = \"none\"\n",
    "    ) +\n",
    "    theme(\n",
    "        panel.grid.major = element_blank(),\n",
    "        panel.grid.minor = element_blank(),\n",
    "        panel.background = element_rect(fill = \"transparent\", colour = NA),\n",
    "        # panel.border = element_blank(),\n",
    "        plot.margin = unit(c(1, 0, 0, 0), \"cm\")\n",
    "    ) +\n",
    "    labs(y = \"Percentage of total TCRs\", x = NULL)\n"
   ]
  },
  {
   "cell_type": "code",
   "execution_count": null,
   "metadata": {
    "vscode": {
     "languageId": "r"
    }
   },
   "outputs": [],
   "source": [
    "p1"
   ]
  },
  {
   "cell_type": "code",
   "execution_count": null,
   "metadata": {
    "vscode": {
     "languageId": "r"
    }
   },
   "outputs": [],
   "source": [
    "pdf(paste0(plotpath, \"barplot_tcrs.pdf\"), width = 4, height = 6)  \n",
    "p1\n",
    "dev.off()"
   ]
  },
  {
   "cell_type": "markdown",
   "metadata": {},
   "source": [
    "# Stats"
   ]
  },
  {
   "cell_type": "code",
   "execution_count": 27,
   "metadata": {
    "vscode": {
     "languageId": "r"
    }
   },
   "outputs": [
    {
     "data": {
      "text/html": [
       "<table class=\"dataframe\">\n",
       "<caption>A data.frame: 6 x 66</caption>\n",
       "<thead>\n",
       "\t<tr><th></th><th scope=col>sample_id</th><th scope=col>Patient</th><th scope=col>cycle</th><th scope=col>FOLD</th><th scope=col>ATC</th><th scope=col>Age</th><th scope=col>Disease_type</th><th scope=col>TE_fold</th><th scope=col>CD3</th><th scope=col>EM</th><th scope=col>...</th><th scope=col>estimated_Shannon</th><th scope=col>SE_Shannon</th><th scope=col>observed_Simpson</th><th scope=col>estimated_Simpson</th><th scope=col>SE_Simpson</th><th scope=col>basename</th><th scope=col>file</th><th scope=col>sampletype</th><th scope=col>Group</th><th scope=col>log10shann</th></tr>\n",
       "\t<tr><th></th><th scope=col>&lt;chr&gt;</th><th scope=col>&lt;chr&gt;</th><th scope=col>&lt;chr&gt;</th><th scope=col>&lt;dbl&gt;</th><th scope=col>&lt;dbl&gt;</th><th scope=col>&lt;dbl&gt;</th><th scope=col>&lt;chr&gt;</th><th scope=col>&lt;dbl&gt;</th><th scope=col>&lt;int&gt;</th><th scope=col>&lt;int&gt;</th><th scope=col>...</th><th scope=col>&lt;dbl&gt;</th><th scope=col>&lt;dbl&gt;</th><th scope=col>&lt;dbl&gt;</th><th scope=col>&lt;dbl&gt;</th><th scope=col>&lt;dbl&gt;</th><th scope=col>&lt;chr&gt;</th><th scope=col>&lt;chr&gt;</th><th scope=col>&lt;chr&gt;</th><th scope=col>&lt;chr&gt;</th><th scope=col>&lt;dbl&gt;</th></tr>\n",
       "</thead>\n",
       "<tbody>\n",
       "\t<tr><th scope=row>302</th><td>CHP_319_05</td><td>CHP_319</td><td>X05</td><td>1.2</td><td>  0.00</td><td> 1</td><td>HR ALL</td><td>1.2</td><td>0</td><td>NA</td><td>...</td><td> 13.439</td><td>1.217</td><td> 10.248</td><td> 11.626</td><td>1.269</td><td>CHP_319-05-PBMC-DNA</td><td>batch2_Aug62019/mixcr/clones/CLONES_TRBCHP_319-05-PBMC-DNA.txt              </td><td>PBMC</td><td>CHP</td><td>1.074743</td></tr>\n",
       "\t<tr><th scope=row>320</th><td>CHP_323_03</td><td>CHP_323</td><td>X03</td><td>0.0</td><td>786.24</td><td> 1</td><td>HR ALL</td><td>0.0</td><td>0</td><td>NA</td><td>...</td><td> 37.986</td><td>0.367</td><td> 33.204</td><td> 33.544</td><td>0.638</td><td>CHP_323-03-PBMC-DNA</td><td>batch4_19Aug2019/mixcr/clones/CLONES_TRBCHP_323-03-PBMC-DNA.txt             </td><td>PBMC</td><td>CHP</td><td>1.576595</td></tr>\n",
       "\t<tr><th scope=row>322</th><td>CHP_323_05</td><td>CHP_323</td><td>X05</td><td>0.0</td><td>979.50</td><td> 1</td><td>HR ALL</td><td>0.0</td><td>0</td><td>NA</td><td>...</td><td> 85.174</td><td>2.255</td><td> 32.669</td><td> 33.190</td><td>2.327</td><td>CHP_323-05-PBMC-DNA</td><td>batch7_25Oct2019/mixcr/clones/CLONES_TRBCHP_323-05-PBMC-DNA.txt             </td><td>PBMC</td><td>CHP</td><td>1.912504</td></tr>\n",
       "\t<tr><th scope=row>327</th><td>CHP_324_05</td><td>CHP_324</td><td>X05</td><td>0.0</td><td>  0.00</td><td>12</td><td>T-ALL </td><td>0.0</td><td>0</td><td>NA</td><td>...</td><td>130.246</td><td>0.574</td><td> 79.994</td><td> 80.126</td><td>0.912</td><td>CHP_324-05_PBMC-DNA</td><td>remaining_batch_2_22April2021/mixcr/clones/CLONES_TRBCHP_324-05_PBMC-DNA.txt</td><td>PBMC</td><td>CHP</td><td>2.113673</td></tr>\n",
       "\t<tr><th scope=row>346</th><td>CHP_328_04</td><td>CHP_328</td><td>X04</td><td>0.0</td><td>130.82</td><td> 7</td><td>SR ALL</td><td>0.0</td><td>0</td><td>NA</td><td>...</td><td>224.003</td><td>0.477</td><td>133.121</td><td>133.198</td><td>0.669</td><td>CHP-328-04-PBMC-DNA</td><td>remaining_batch_4_28June2021/mixcr/clones/CLONES_TRBCHP-328-04-PBMC-DNA.txt </td><td>PBMC</td><td>CHP</td><td>2.349757</td></tr>\n",
       "\t<tr><th scope=row>347</th><td>CHP_328_05</td><td>CHP_328</td><td>X05</td><td>0.0</td><td> 91.16</td><td> 7</td><td>SR ALL</td><td>0.0</td><td>0</td><td>NA</td><td>...</td><td> 87.712</td><td>0.563</td><td> 62.759</td><td> 62.967</td><td>0.625</td><td>CHP-328-05-PBMC-DNA</td><td>remaining_batch_4_28June2021/mixcr/clones/CLONES_TRBCHP-328-05-PBMC-DNA.txt </td><td>PBMC</td><td>CHP</td><td>1.941119</td></tr>\n",
       "</tbody>\n",
       "</table>\n"
      ],
      "text/latex": [
       "A data.frame: 6 x 66\n",
       "\\begin{tabular}{r|lllllllllllllllllllll}\n",
       "  & sample\\_id & Patient & cycle & FOLD & ATC & Age & Disease\\_type & TE\\_fold & CD3 & EM & ... & estimated\\_Shannon & SE\\_Shannon & observed\\_Simpson & estimated\\_Simpson & SE\\_Simpson & basename & file & sampletype & Group & log10shann\\\\\n",
       "  & <chr> & <chr> & <chr> & <dbl> & <dbl> & <dbl> & <chr> & <dbl> & <int> & <int> & ... & <dbl> & <dbl> & <dbl> & <dbl> & <dbl> & <chr> & <chr> & <chr> & <chr> & <dbl>\\\\\n",
       "\\hline\n",
       "\t302 & CHP\\_319\\_05 & CHP\\_319 & X05 & 1.2 &   0.00 &  1 & HR ALL & 1.2 & 0 & NA & ... &  13.439 & 1.217 &  10.248 &  11.626 & 1.269 & CHP\\_319-05-PBMC-DNA & batch2\\_Aug62019/mixcr/clones/CLONES\\_TRBCHP\\_319-05-PBMC-DNA.txt               & PBMC & CHP & 1.074743\\\\\n",
       "\t320 & CHP\\_323\\_03 & CHP\\_323 & X03 & 0.0 & 786.24 &  1 & HR ALL & 0.0 & 0 & NA & ... &  37.986 & 0.367 &  33.204 &  33.544 & 0.638 & CHP\\_323-03-PBMC-DNA & batch4\\_19Aug2019/mixcr/clones/CLONES\\_TRBCHP\\_323-03-PBMC-DNA.txt              & PBMC & CHP & 1.576595\\\\\n",
       "\t322 & CHP\\_323\\_05 & CHP\\_323 & X05 & 0.0 & 979.50 &  1 & HR ALL & 0.0 & 0 & NA & ... &  85.174 & 2.255 &  32.669 &  33.190 & 2.327 & CHP\\_323-05-PBMC-DNA & batch7\\_25Oct2019/mixcr/clones/CLONES\\_TRBCHP\\_323-05-PBMC-DNA.txt              & PBMC & CHP & 1.912504\\\\\n",
       "\t327 & CHP\\_324\\_05 & CHP\\_324 & X05 & 0.0 &   0.00 & 12 & T-ALL  & 0.0 & 0 & NA & ... & 130.246 & 0.574 &  79.994 &  80.126 & 0.912 & CHP\\_324-05\\_PBMC-DNA & remaining\\_batch\\_2\\_22April2021/mixcr/clones/CLONES\\_TRBCHP\\_324-05\\_PBMC-DNA.txt & PBMC & CHP & 2.113673\\\\\n",
       "\t346 & CHP\\_328\\_04 & CHP\\_328 & X04 & 0.0 & 130.82 &  7 & SR ALL & 0.0 & 0 & NA & ... & 224.003 & 0.477 & 133.121 & 133.198 & 0.669 & CHP-328-04-PBMC-DNA & remaining\\_batch\\_4\\_28June2021/mixcr/clones/CLONES\\_TRBCHP-328-04-PBMC-DNA.txt  & PBMC & CHP & 2.349757\\\\\n",
       "\t347 & CHP\\_328\\_05 & CHP\\_328 & X05 & 0.0 &  91.16 &  7 & SR ALL & 0.0 & 0 & NA & ... &  87.712 & 0.563 &  62.759 &  62.967 & 0.625 & CHP-328-05-PBMC-DNA & remaining\\_batch\\_4\\_28June2021/mixcr/clones/CLONES\\_TRBCHP-328-05-PBMC-DNA.txt  & PBMC & CHP & 1.941119\\\\\n",
       "\\end{tabular}\n"
      ],
      "text/markdown": [
       "\n",
       "A data.frame: 6 x 66\n",
       "\n",
       "| <!--/--> | sample_id &lt;chr&gt; | Patient &lt;chr&gt; | cycle &lt;chr&gt; | FOLD &lt;dbl&gt; | ATC &lt;dbl&gt; | Age &lt;dbl&gt; | Disease_type &lt;chr&gt; | TE_fold &lt;dbl&gt; | CD3 &lt;int&gt; | EM &lt;int&gt; | ... ... | estimated_Shannon &lt;dbl&gt; | SE_Shannon &lt;dbl&gt; | observed_Simpson &lt;dbl&gt; | estimated_Simpson &lt;dbl&gt; | SE_Simpson &lt;dbl&gt; | basename &lt;chr&gt; | file &lt;chr&gt; | sampletype &lt;chr&gt; | Group &lt;chr&gt; | log10shann &lt;dbl&gt; |\n",
       "|---|---|---|---|---|---|---|---|---|---|---|---|---|---|---|---|---|---|---|---|---|---|\n",
       "| 302 | CHP_319_05 | CHP_319 | X05 | 1.2 |   0.00 |  1 | HR ALL | 1.2 | 0 | NA | ... |  13.439 | 1.217 |  10.248 |  11.626 | 1.269 | CHP_319-05-PBMC-DNA | batch2_Aug62019/mixcr/clones/CLONES_TRBCHP_319-05-PBMC-DNA.txt               | PBMC | CHP | 1.074743 |\n",
       "| 320 | CHP_323_03 | CHP_323 | X03 | 0.0 | 786.24 |  1 | HR ALL | 0.0 | 0 | NA | ... |  37.986 | 0.367 |  33.204 |  33.544 | 0.638 | CHP_323-03-PBMC-DNA | batch4_19Aug2019/mixcr/clones/CLONES_TRBCHP_323-03-PBMC-DNA.txt              | PBMC | CHP | 1.576595 |\n",
       "| 322 | CHP_323_05 | CHP_323 | X05 | 0.0 | 979.50 |  1 | HR ALL | 0.0 | 0 | NA | ... |  85.174 | 2.255 |  32.669 |  33.190 | 2.327 | CHP_323-05-PBMC-DNA | batch7_25Oct2019/mixcr/clones/CLONES_TRBCHP_323-05-PBMC-DNA.txt              | PBMC | CHP | 1.912504 |\n",
       "| 327 | CHP_324_05 | CHP_324 | X05 | 0.0 |   0.00 | 12 | T-ALL  | 0.0 | 0 | NA | ... | 130.246 | 0.574 |  79.994 |  80.126 | 0.912 | CHP_324-05_PBMC-DNA | remaining_batch_2_22April2021/mixcr/clones/CLONES_TRBCHP_324-05_PBMC-DNA.txt | PBMC | CHP | 2.113673 |\n",
       "| 346 | CHP_328_04 | CHP_328 | X04 | 0.0 | 130.82 |  7 | SR ALL | 0.0 | 0 | NA | ... | 224.003 | 0.477 | 133.121 | 133.198 | 0.669 | CHP-328-04-PBMC-DNA | remaining_batch_4_28June2021/mixcr/clones/CLONES_TRBCHP-328-04-PBMC-DNA.txt  | PBMC | CHP | 2.349757 |\n",
       "| 347 | CHP_328_05 | CHP_328 | X05 | 0.0 |  91.16 |  7 | SR ALL | 0.0 | 0 | NA | ... |  87.712 | 0.563 |  62.759 |  62.967 | 0.625 | CHP-328-05-PBMC-DNA | remaining_batch_4_28June2021/mixcr/clones/CLONES_TRBCHP-328-05-PBMC-DNA.txt  | PBMC | CHP | 1.941119 |\n",
       "\n"
      ],
      "text/plain": [
       "    sample_id  Patient cycle FOLD ATC    Age Disease_type TE_fold CD3 EM ...\n",
       "302 CHP_319_05 CHP_319 X05   1.2    0.00  1  HR ALL       1.2     0   NA ...\n",
       "320 CHP_323_03 CHP_323 X03   0.0  786.24  1  HR ALL       0.0     0   NA ...\n",
       "322 CHP_323_05 CHP_323 X05   0.0  979.50  1  HR ALL       0.0     0   NA ...\n",
       "327 CHP_324_05 CHP_324 X05   0.0    0.00 12  T-ALL        0.0     0   NA ...\n",
       "346 CHP_328_04 CHP_328 X04   0.0  130.82  7  SR ALL       0.0     0   NA ...\n",
       "347 CHP_328_05 CHP_328 X05   0.0   91.16  7  SR ALL       0.0     0   NA ...\n",
       "    estimated_Shannon SE_Shannon observed_Simpson estimated_Simpson SE_Simpson\n",
       "302  13.439           1.217       10.248           11.626           1.269     \n",
       "320  37.986           0.367       33.204           33.544           0.638     \n",
       "322  85.174           2.255       32.669           33.190           2.327     \n",
       "327 130.246           0.574       79.994           80.126           0.912     \n",
       "346 224.003           0.477      133.121          133.198           0.669     \n",
       "347  87.712           0.563       62.759           62.967           0.625     \n",
       "    basename           \n",
       "302 CHP_319-05-PBMC-DNA\n",
       "320 CHP_323-03-PBMC-DNA\n",
       "322 CHP_323-05-PBMC-DNA\n",
       "327 CHP_324-05_PBMC-DNA\n",
       "346 CHP-328-04-PBMC-DNA\n",
       "347 CHP-328-05-PBMC-DNA\n",
       "    file                                                                        \n",
       "302 batch2_Aug62019/mixcr/clones/CLONES_TRBCHP_319-05-PBMC-DNA.txt              \n",
       "320 batch4_19Aug2019/mixcr/clones/CLONES_TRBCHP_323-03-PBMC-DNA.txt             \n",
       "322 batch7_25Oct2019/mixcr/clones/CLONES_TRBCHP_323-05-PBMC-DNA.txt             \n",
       "327 remaining_batch_2_22April2021/mixcr/clones/CLONES_TRBCHP_324-05_PBMC-DNA.txt\n",
       "346 remaining_batch_4_28June2021/mixcr/clones/CLONES_TRBCHP-328-04-PBMC-DNA.txt \n",
       "347 remaining_batch_4_28June2021/mixcr/clones/CLONES_TRBCHP-328-05-PBMC-DNA.txt \n",
       "    sampletype Group log10shann\n",
       "302 PBMC       CHP   1.074743  \n",
       "320 PBMC       CHP   1.576595  \n",
       "322 PBMC       CHP   1.912504  \n",
       "327 PBMC       CHP   2.113673  \n",
       "346 PBMC       CHP   2.349757  \n",
       "347 PBMC       CHP   1.941119  "
      ]
     },
     "metadata": {},
     "output_type": "display_data"
    }
   ],
   "source": [
    "head(meta_div)"
   ]
  },
  {
   "cell_type": "code",
   "execution_count": 22,
   "metadata": {
    "vscode": {
     "languageId": "r"
    }
   },
   "outputs": [],
   "source": [
    "sampleid_type_tab <- as.data.frame.matrix(table(meta_div$sample_id, meta_div$sampletype))"
   ]
  },
  {
   "cell_type": "code",
   "execution_count": 23,
   "metadata": {
    "vscode": {
     "languageId": "r"
    }
   },
   "outputs": [],
   "source": [
    "sampleid_type_tab$Tumor <- NULL"
   ]
  },
  {
   "cell_type": "code",
   "execution_count": 24,
   "metadata": {
    "vscode": {
     "languageId": "r"
    }
   },
   "outputs": [],
   "source": [
    "sampleid_type_tab_1 <- sampleid_type_tab[sampleid_type_tab$cfDNA == 1 &\n",
    "    sampleid_type_tab$PBMC == 1, ]\n"
   ]
  },
  {
   "cell_type": "code",
   "execution_count": 25,
   "metadata": {
    "vscode": {
     "languageId": "r"
    }
   },
   "outputs": [
    {
     "data": {
      "text/html": [
       "<table class=\"dataframe\">\n",
       "<caption>A data.frame: 6 x 2</caption>\n",
       "<thead>\n",
       "\t<tr><th></th><th scope=col>cfDNA</th><th scope=col>PBMC</th></tr>\n",
       "\t<tr><th></th><th scope=col>&lt;int&gt;</th><th scope=col>&lt;int&gt;</th></tr>\n",
       "</thead>\n",
       "<tbody>\n",
       "\t<tr><th scope=row>CHP_323_03</th><td>1</td><td>1</td></tr>\n",
       "\t<tr><th scope=row>CHP_323_05</th><td>1</td><td>1</td></tr>\n",
       "\t<tr><th scope=row>CHP_324_05</th><td>1</td><td>1</td></tr>\n",
       "\t<tr><th scope=row>CHP_328_05</th><td>1</td><td>1</td></tr>\n",
       "\t<tr><th scope=row>CHP_331_05</th><td>1</td><td>1</td></tr>\n",
       "\t<tr><th scope=row>CHP_338_03</th><td>1</td><td>1</td></tr>\n",
       "</tbody>\n",
       "</table>\n"
      ],
      "text/latex": [
       "A data.frame: 6 x 2\n",
       "\\begin{tabular}{r|ll}\n",
       "  & cfDNA & PBMC\\\\\n",
       "  & <int> & <int>\\\\\n",
       "\\hline\n",
       "\tCHP\\_323\\_03 & 1 & 1\\\\\n",
       "\tCHP\\_323\\_05 & 1 & 1\\\\\n",
       "\tCHP\\_324\\_05 & 1 & 1\\\\\n",
       "\tCHP\\_328\\_05 & 1 & 1\\\\\n",
       "\tCHP\\_331\\_05 & 1 & 1\\\\\n",
       "\tCHP\\_338\\_03 & 1 & 1\\\\\n",
       "\\end{tabular}\n"
      ],
      "text/markdown": [
       "\n",
       "A data.frame: 6 x 2\n",
       "\n",
       "| <!--/--> | cfDNA &lt;int&gt; | PBMC &lt;int&gt; |\n",
       "|---|---|---|\n",
       "| CHP_323_03 | 1 | 1 |\n",
       "| CHP_323_05 | 1 | 1 |\n",
       "| CHP_324_05 | 1 | 1 |\n",
       "| CHP_328_05 | 1 | 1 |\n",
       "| CHP_331_05 | 1 | 1 |\n",
       "| CHP_338_03 | 1 | 1 |\n",
       "\n"
      ],
      "text/plain": [
       "           cfDNA PBMC\n",
       "CHP_323_03 1     1   \n",
       "CHP_323_05 1     1   \n",
       "CHP_324_05 1     1   \n",
       "CHP_328_05 1     1   \n",
       "CHP_331_05 1     1   \n",
       "CHP_338_03 1     1   "
      ]
     },
     "metadata": {},
     "output_type": "display_data"
    }
   ],
   "source": [
    "head(sampleid_type_tab_1)"
   ]
  },
  {
   "cell_type": "code",
   "execution_count": 26,
   "metadata": {
    "vscode": {
     "languageId": "r"
    }
   },
   "outputs": [],
   "source": [
    "# add file\n",
    "\n",
    "cfdna <- meta_div[meta_div$sampletype == \"cfDNA\", ]\n",
    "pbmc <- meta_div[meta_div$sampletype == \"PBMC\", ]\n",
    "sampleid_type_tab_1$cfdna_file <- cfdna$file[match(rownames(sampleid_type_tab_1), cfdna$sample_id)]\n",
    "sampleid_type_tab_1$pbmc_file <- pbmc$file[match(rownames(sampleid_type_tab_1), pbmc$sample_id)]"
   ]
  },
  {
   "cell_type": "code",
   "execution_count": 27,
   "metadata": {
    "vscode": {
     "languageId": "r"
    }
   },
   "outputs": [],
   "source": [
    "sampleid_type_tab_1$totalcfTCRs <- NA\n",
    "for(i in 1:nrow(sampleid_type_tab_1)) {\n",
    "    sampleid <- rownames(sampleid_type_tab_1)[i]\n",
    "    sampleid_type_tab_1$totalcfTCRs[i] <- meta_div$TRB[meta_div$sample_id == sampleid & meta_div$sampletype == \"cfDNA\"]\n",
    "}"
   ]
  },
  {
   "cell_type": "code",
   "execution_count": 28,
   "metadata": {
    "vscode": {
     "languageId": "r"
    }
   },
   "outputs": [
    {
     "data": {
      "text/html": [
       "<table class=\"dataframe\">\n",
       "<caption>A data.frame: 6 x 5</caption>\n",
       "<thead>\n",
       "\t<tr><th></th><th scope=col>cfDNA</th><th scope=col>PBMC</th><th scope=col>cfdna_file</th><th scope=col>pbmc_file</th><th scope=col>totalcfTCRs</th></tr>\n",
       "\t<tr><th></th><th scope=col>&lt;int&gt;</th><th scope=col>&lt;int&gt;</th><th scope=col>&lt;chr&gt;</th><th scope=col>&lt;chr&gt;</th><th scope=col>&lt;int&gt;</th></tr>\n",
       "</thead>\n",
       "<tbody>\n",
       "\t<tr><th scope=row>CHP_323_03</th><td>1</td><td>1</td><td>batch3a9_cfDNA_10Jul2020/mixcr/clones/CLONES_TRBCHP_323-03_cfDNA.txt           </td><td>batch4_19Aug2019/mixcr/clones/CLONES_TRBCHP_323-03-PBMC-DNA.txt             </td><td>103</td></tr>\n",
       "\t<tr><th scope=row>CHP_323_05</th><td>1</td><td>1</td><td>remaining_batch_1_cfDNA_8April2021/mixcr/clones/CLONES_TRBCHP_323-05_cfDNA.txt </td><td>batch7_25Oct2019/mixcr/clones/CLONES_TRBCHP_323-05-PBMC-DNA.txt             </td><td> 15</td></tr>\n",
       "\t<tr><th scope=row>CHP_324_05</th><td>1</td><td>1</td><td>batch10_cfDNA_13Jul2020/mixcr/clones/CLONES_TRBCHP_324-05_cfDNA.txt            </td><td>remaining_batch_2_22April2021/mixcr/clones/CLONES_TRBCHP_324-05_PBMC-DNA.txt</td><td>  2</td></tr>\n",
       "\t<tr><th scope=row>CHP_328_05</th><td>1</td><td>1</td><td>batch10_cfDNA_13Jul2020/mixcr/clones/CLONES_TRBCHP_328-05_cfDNA.txt            </td><td>remaining_batch_4_28June2021/mixcr/clones/CLONES_TRBCHP-328-05-PBMC-DNA.txt </td><td>  5</td></tr>\n",
       "\t<tr><th scope=row>CHP_331_05</th><td>1</td><td>1</td><td>remaining_batch_5_cfDNA_22April2021/mixcr/clones/CLONES_TRBCHP_331-05_cfDNA.txt</td><td>batch2_Aug62019/mixcr/clones/CLONES_TRBCHP_331-05-PBMC-DNA.txt              </td><td> 36</td></tr>\n",
       "\t<tr><th scope=row>CHP_338_03</th><td>1</td><td>1</td><td>batch10_cfDNA_13Jul2020/mixcr/clones/CLONES_TRBCHP_338-03_cfDNA.txt            </td><td>batch4_19Aug2019/mixcr/clones/CLONES_TRBCHP_338-03-PBMC-DNA.txt             </td><td>  3</td></tr>\n",
       "</tbody>\n",
       "</table>\n"
      ],
      "text/latex": [
       "A data.frame: 6 x 5\n",
       "\\begin{tabular}{r|lllll}\n",
       "  & cfDNA & PBMC & cfdna\\_file & pbmc\\_file & totalcfTCRs\\\\\n",
       "  & <int> & <int> & <chr> & <chr> & <int>\\\\\n",
       "\\hline\n",
       "\tCHP\\_323\\_03 & 1 & 1 & batch3a9\\_cfDNA\\_10Jul2020/mixcr/clones/CLONES\\_TRBCHP\\_323-03\\_cfDNA.txt            & batch4\\_19Aug2019/mixcr/clones/CLONES\\_TRBCHP\\_323-03-PBMC-DNA.txt              & 103\\\\\n",
       "\tCHP\\_323\\_05 & 1 & 1 & remaining\\_batch\\_1\\_cfDNA\\_8April2021/mixcr/clones/CLONES\\_TRBCHP\\_323-05\\_cfDNA.txt  & batch7\\_25Oct2019/mixcr/clones/CLONES\\_TRBCHP\\_323-05-PBMC-DNA.txt              &  15\\\\\n",
       "\tCHP\\_324\\_05 & 1 & 1 & batch10\\_cfDNA\\_13Jul2020/mixcr/clones/CLONES\\_TRBCHP\\_324-05\\_cfDNA.txt             & remaining\\_batch\\_2\\_22April2021/mixcr/clones/CLONES\\_TRBCHP\\_324-05\\_PBMC-DNA.txt &   2\\\\\n",
       "\tCHP\\_328\\_05 & 1 & 1 & batch10\\_cfDNA\\_13Jul2020/mixcr/clones/CLONES\\_TRBCHP\\_328-05\\_cfDNA.txt             & remaining\\_batch\\_4\\_28June2021/mixcr/clones/CLONES\\_TRBCHP-328-05-PBMC-DNA.txt  &   5\\\\\n",
       "\tCHP\\_331\\_05 & 1 & 1 & remaining\\_batch\\_5\\_cfDNA\\_22April2021/mixcr/clones/CLONES\\_TRBCHP\\_331-05\\_cfDNA.txt & batch2\\_Aug62019/mixcr/clones/CLONES\\_TRBCHP\\_331-05-PBMC-DNA.txt               &  36\\\\\n",
       "\tCHP\\_338\\_03 & 1 & 1 & batch10\\_cfDNA\\_13Jul2020/mixcr/clones/CLONES\\_TRBCHP\\_338-03\\_cfDNA.txt             & batch4\\_19Aug2019/mixcr/clones/CLONES\\_TRBCHP\\_338-03-PBMC-DNA.txt              &   3\\\\\n",
       "\\end{tabular}\n"
      ],
      "text/markdown": [
       "\n",
       "A data.frame: 6 x 5\n",
       "\n",
       "| <!--/--> | cfDNA &lt;int&gt; | PBMC &lt;int&gt; | cfdna_file &lt;chr&gt; | pbmc_file &lt;chr&gt; | totalcfTCRs &lt;int&gt; |\n",
       "|---|---|---|---|---|---|\n",
       "| CHP_323_03 | 1 | 1 | batch3a9_cfDNA_10Jul2020/mixcr/clones/CLONES_TRBCHP_323-03_cfDNA.txt            | batch4_19Aug2019/mixcr/clones/CLONES_TRBCHP_323-03-PBMC-DNA.txt              | 103 |\n",
       "| CHP_323_05 | 1 | 1 | remaining_batch_1_cfDNA_8April2021/mixcr/clones/CLONES_TRBCHP_323-05_cfDNA.txt  | batch7_25Oct2019/mixcr/clones/CLONES_TRBCHP_323-05-PBMC-DNA.txt              |  15 |\n",
       "| CHP_324_05 | 1 | 1 | batch10_cfDNA_13Jul2020/mixcr/clones/CLONES_TRBCHP_324-05_cfDNA.txt             | remaining_batch_2_22April2021/mixcr/clones/CLONES_TRBCHP_324-05_PBMC-DNA.txt |   2 |\n",
       "| CHP_328_05 | 1 | 1 | batch10_cfDNA_13Jul2020/mixcr/clones/CLONES_TRBCHP_328-05_cfDNA.txt             | remaining_batch_4_28June2021/mixcr/clones/CLONES_TRBCHP-328-05-PBMC-DNA.txt  |   5 |\n",
       "| CHP_331_05 | 1 | 1 | remaining_batch_5_cfDNA_22April2021/mixcr/clones/CLONES_TRBCHP_331-05_cfDNA.txt | batch2_Aug62019/mixcr/clones/CLONES_TRBCHP_331-05-PBMC-DNA.txt               |  36 |\n",
       "| CHP_338_03 | 1 | 1 | batch10_cfDNA_13Jul2020/mixcr/clones/CLONES_TRBCHP_338-03_cfDNA.txt             | batch4_19Aug2019/mixcr/clones/CLONES_TRBCHP_338-03-PBMC-DNA.txt              |   3 |\n",
       "\n"
      ],
      "text/plain": [
       "           cfDNA PBMC\n",
       "CHP_323_03 1     1   \n",
       "CHP_323_05 1     1   \n",
       "CHP_324_05 1     1   \n",
       "CHP_328_05 1     1   \n",
       "CHP_331_05 1     1   \n",
       "CHP_338_03 1     1   \n",
       "           cfdna_file                                                                     \n",
       "CHP_323_03 batch3a9_cfDNA_10Jul2020/mixcr/clones/CLONES_TRBCHP_323-03_cfDNA.txt           \n",
       "CHP_323_05 remaining_batch_1_cfDNA_8April2021/mixcr/clones/CLONES_TRBCHP_323-05_cfDNA.txt \n",
       "CHP_324_05 batch10_cfDNA_13Jul2020/mixcr/clones/CLONES_TRBCHP_324-05_cfDNA.txt            \n",
       "CHP_328_05 batch10_cfDNA_13Jul2020/mixcr/clones/CLONES_TRBCHP_328-05_cfDNA.txt            \n",
       "CHP_331_05 remaining_batch_5_cfDNA_22April2021/mixcr/clones/CLONES_TRBCHP_331-05_cfDNA.txt\n",
       "CHP_338_03 batch10_cfDNA_13Jul2020/mixcr/clones/CLONES_TRBCHP_338-03_cfDNA.txt            \n",
       "           pbmc_file                                                                   \n",
       "CHP_323_03 batch4_19Aug2019/mixcr/clones/CLONES_TRBCHP_323-03-PBMC-DNA.txt             \n",
       "CHP_323_05 batch7_25Oct2019/mixcr/clones/CLONES_TRBCHP_323-05-PBMC-DNA.txt             \n",
       "CHP_324_05 remaining_batch_2_22April2021/mixcr/clones/CLONES_TRBCHP_324-05_PBMC-DNA.txt\n",
       "CHP_328_05 remaining_batch_4_28June2021/mixcr/clones/CLONES_TRBCHP-328-05-PBMC-DNA.txt \n",
       "CHP_331_05 batch2_Aug62019/mixcr/clones/CLONES_TRBCHP_331-05-PBMC-DNA.txt              \n",
       "CHP_338_03 batch4_19Aug2019/mixcr/clones/CLONES_TRBCHP_338-03-PBMC-DNA.txt             \n",
       "           totalcfTCRs\n",
       "CHP_323_03 103        \n",
       "CHP_323_05  15        \n",
       "CHP_324_05   2        \n",
       "CHP_328_05   5        \n",
       "CHP_331_05  36        \n",
       "CHP_338_03   3        "
      ]
     },
     "metadata": {},
     "output_type": "display_data"
    }
   ],
   "source": [
    "head(sampleid_type_tab_1)"
   ]
  },
  {
   "cell_type": "code",
   "execution_count": 31,
   "metadata": {
    "vscode": {
     "languageId": "r"
    }
   },
   "outputs": [],
   "source": [
    "sampleid_type_tab_1$recurringcfTCRs <- NA\n",
    "for(i in 1:nrow(sampleid_type_tab_1)) {\n",
    "    cffle <- sampleid_type_tab_1$cfdna_file[i]\n",
    "    pbmcfle <- sampleid_type_tab_1$pbmc_file[i]\n",
    "    cfTCRs <- int_all$aaSeqCDR3[int_all$file == cffle]\n",
    "    pbmcTCRs <- int_all$aaSeqCDR3[int_all$file == pbmcfle]\n",
    "    sampleid_type_tab_1$recurringcfTCRs[i] <- length(intersect(cfTCRs, pbmcTCRs))\n",
    "}"
   ]
  },
  {
   "cell_type": "code",
   "execution_count": 45,
   "metadata": {
    "vscode": {
     "languageId": "r"
    }
   },
   "outputs": [
    {
     "data": {
      "text/html": [
       "<table class=\"dataframe\">\n",
       "<caption>A data.frame: 6 x 7</caption>\n",
       "<thead>\n",
       "\t<tr><th></th><th scope=col>cfDNA</th><th scope=col>PBMC</th><th scope=col>cfdna_file</th><th scope=col>pbmc_file</th><th scope=col>totalcfTCRs</th><th scope=col>recurringcfTCRs</th><th scope=col>percentage</th></tr>\n",
       "\t<tr><th></th><th scope=col>&lt;int&gt;</th><th scope=col>&lt;int&gt;</th><th scope=col>&lt;chr&gt;</th><th scope=col>&lt;chr&gt;</th><th scope=col>&lt;int&gt;</th><th scope=col>&lt;int&gt;</th><th scope=col>&lt;dbl&gt;</th></tr>\n",
       "</thead>\n",
       "<tbody>\n",
       "\t<tr><th scope=row>CHP_323_03</th><td>1</td><td>1</td><td>batch3a9_cfDNA_10Jul2020/mixcr/clones/CLONES_TRBCHP_323-03_cfDNA.txt           </td><td>batch4_19Aug2019/mixcr/clones/CLONES_TRBCHP_323-03-PBMC-DNA.txt             </td><td>103</td><td>1</td><td>0.97</td></tr>\n",
       "\t<tr><th scope=row>CHP_323_05</th><td>1</td><td>1</td><td>remaining_batch_1_cfDNA_8April2021/mixcr/clones/CLONES_TRBCHP_323-05_cfDNA.txt </td><td>batch7_25Oct2019/mixcr/clones/CLONES_TRBCHP_323-05-PBMC-DNA.txt             </td><td> 15</td><td>0</td><td>0.00</td></tr>\n",
       "\t<tr><th scope=row>CHP_324_05</th><td>1</td><td>1</td><td>batch10_cfDNA_13Jul2020/mixcr/clones/CLONES_TRBCHP_324-05_cfDNA.txt            </td><td>remaining_batch_2_22April2021/mixcr/clones/CLONES_TRBCHP_324-05_PBMC-DNA.txt</td><td>  2</td><td>0</td><td>0.00</td></tr>\n",
       "\t<tr><th scope=row>CHP_328_05</th><td>1</td><td>1</td><td>batch10_cfDNA_13Jul2020/mixcr/clones/CLONES_TRBCHP_328-05_cfDNA.txt            </td><td>remaining_batch_4_28June2021/mixcr/clones/CLONES_TRBCHP-328-05-PBMC-DNA.txt </td><td>  5</td><td>0</td><td>0.00</td></tr>\n",
       "\t<tr><th scope=row>CHP_331_05</th><td>1</td><td>1</td><td>remaining_batch_5_cfDNA_22April2021/mixcr/clones/CLONES_TRBCHP_331-05_cfDNA.txt</td><td>batch2_Aug62019/mixcr/clones/CLONES_TRBCHP_331-05-PBMC-DNA.txt              </td><td> 36</td><td>2</td><td>5.56</td></tr>\n",
       "\t<tr><th scope=row>CHP_338_03</th><td>1</td><td>1</td><td>batch10_cfDNA_13Jul2020/mixcr/clones/CLONES_TRBCHP_338-03_cfDNA.txt            </td><td>batch4_19Aug2019/mixcr/clones/CLONES_TRBCHP_338-03-PBMC-DNA.txt             </td><td>  3</td><td>0</td><td>0.00</td></tr>\n",
       "</tbody>\n",
       "</table>\n"
      ],
      "text/latex": [
       "A data.frame: 6 x 7\n",
       "\\begin{tabular}{r|lllllll}\n",
       "  & cfDNA & PBMC & cfdna\\_file & pbmc\\_file & totalcfTCRs & recurringcfTCRs & percentage\\\\\n",
       "  & <int> & <int> & <chr> & <chr> & <int> & <int> & <dbl>\\\\\n",
       "\\hline\n",
       "\tCHP\\_323\\_03 & 1 & 1 & batch3a9\\_cfDNA\\_10Jul2020/mixcr/clones/CLONES\\_TRBCHP\\_323-03\\_cfDNA.txt            & batch4\\_19Aug2019/mixcr/clones/CLONES\\_TRBCHP\\_323-03-PBMC-DNA.txt              & 103 & 1 & 0.97\\\\\n",
       "\tCHP\\_323\\_05 & 1 & 1 & remaining\\_batch\\_1\\_cfDNA\\_8April2021/mixcr/clones/CLONES\\_TRBCHP\\_323-05\\_cfDNA.txt  & batch7\\_25Oct2019/mixcr/clones/CLONES\\_TRBCHP\\_323-05-PBMC-DNA.txt              &  15 & 0 & 0.00\\\\\n",
       "\tCHP\\_324\\_05 & 1 & 1 & batch10\\_cfDNA\\_13Jul2020/mixcr/clones/CLONES\\_TRBCHP\\_324-05\\_cfDNA.txt             & remaining\\_batch\\_2\\_22April2021/mixcr/clones/CLONES\\_TRBCHP\\_324-05\\_PBMC-DNA.txt &   2 & 0 & 0.00\\\\\n",
       "\tCHP\\_328\\_05 & 1 & 1 & batch10\\_cfDNA\\_13Jul2020/mixcr/clones/CLONES\\_TRBCHP\\_328-05\\_cfDNA.txt             & remaining\\_batch\\_4\\_28June2021/mixcr/clones/CLONES\\_TRBCHP-328-05-PBMC-DNA.txt  &   5 & 0 & 0.00\\\\\n",
       "\tCHP\\_331\\_05 & 1 & 1 & remaining\\_batch\\_5\\_cfDNA\\_22April2021/mixcr/clones/CLONES\\_TRBCHP\\_331-05\\_cfDNA.txt & batch2\\_Aug62019/mixcr/clones/CLONES\\_TRBCHP\\_331-05-PBMC-DNA.txt               &  36 & 2 & 5.56\\\\\n",
       "\tCHP\\_338\\_03 & 1 & 1 & batch10\\_cfDNA\\_13Jul2020/mixcr/clones/CLONES\\_TRBCHP\\_338-03\\_cfDNA.txt             & batch4\\_19Aug2019/mixcr/clones/CLONES\\_TRBCHP\\_338-03-PBMC-DNA.txt              &   3 & 0 & 0.00\\\\\n",
       "\\end{tabular}\n"
      ],
      "text/markdown": [
       "\n",
       "A data.frame: 6 x 7\n",
       "\n",
       "| <!--/--> | cfDNA &lt;int&gt; | PBMC &lt;int&gt; | cfdna_file &lt;chr&gt; | pbmc_file &lt;chr&gt; | totalcfTCRs &lt;int&gt; | recurringcfTCRs &lt;int&gt; | percentage &lt;dbl&gt; |\n",
       "|---|---|---|---|---|---|---|---|\n",
       "| CHP_323_03 | 1 | 1 | batch3a9_cfDNA_10Jul2020/mixcr/clones/CLONES_TRBCHP_323-03_cfDNA.txt            | batch4_19Aug2019/mixcr/clones/CLONES_TRBCHP_323-03-PBMC-DNA.txt              | 103 | 1 | 0.97 |\n",
       "| CHP_323_05 | 1 | 1 | remaining_batch_1_cfDNA_8April2021/mixcr/clones/CLONES_TRBCHP_323-05_cfDNA.txt  | batch7_25Oct2019/mixcr/clones/CLONES_TRBCHP_323-05-PBMC-DNA.txt              |  15 | 0 | 0.00 |\n",
       "| CHP_324_05 | 1 | 1 | batch10_cfDNA_13Jul2020/mixcr/clones/CLONES_TRBCHP_324-05_cfDNA.txt             | remaining_batch_2_22April2021/mixcr/clones/CLONES_TRBCHP_324-05_PBMC-DNA.txt |   2 | 0 | 0.00 |\n",
       "| CHP_328_05 | 1 | 1 | batch10_cfDNA_13Jul2020/mixcr/clones/CLONES_TRBCHP_328-05_cfDNA.txt             | remaining_batch_4_28June2021/mixcr/clones/CLONES_TRBCHP-328-05-PBMC-DNA.txt  |   5 | 0 | 0.00 |\n",
       "| CHP_331_05 | 1 | 1 | remaining_batch_5_cfDNA_22April2021/mixcr/clones/CLONES_TRBCHP_331-05_cfDNA.txt | batch2_Aug62019/mixcr/clones/CLONES_TRBCHP_331-05-PBMC-DNA.txt               |  36 | 2 | 5.56 |\n",
       "| CHP_338_03 | 1 | 1 | batch10_cfDNA_13Jul2020/mixcr/clones/CLONES_TRBCHP_338-03_cfDNA.txt             | batch4_19Aug2019/mixcr/clones/CLONES_TRBCHP_338-03-PBMC-DNA.txt              |   3 | 0 | 0.00 |\n",
       "\n"
      ],
      "text/plain": [
       "           cfDNA PBMC\n",
       "CHP_323_03 1     1   \n",
       "CHP_323_05 1     1   \n",
       "CHP_324_05 1     1   \n",
       "CHP_328_05 1     1   \n",
       "CHP_331_05 1     1   \n",
       "CHP_338_03 1     1   \n",
       "           cfdna_file                                                                     \n",
       "CHP_323_03 batch3a9_cfDNA_10Jul2020/mixcr/clones/CLONES_TRBCHP_323-03_cfDNA.txt           \n",
       "CHP_323_05 remaining_batch_1_cfDNA_8April2021/mixcr/clones/CLONES_TRBCHP_323-05_cfDNA.txt \n",
       "CHP_324_05 batch10_cfDNA_13Jul2020/mixcr/clones/CLONES_TRBCHP_324-05_cfDNA.txt            \n",
       "CHP_328_05 batch10_cfDNA_13Jul2020/mixcr/clones/CLONES_TRBCHP_328-05_cfDNA.txt            \n",
       "CHP_331_05 remaining_batch_5_cfDNA_22April2021/mixcr/clones/CLONES_TRBCHP_331-05_cfDNA.txt\n",
       "CHP_338_03 batch10_cfDNA_13Jul2020/mixcr/clones/CLONES_TRBCHP_338-03_cfDNA.txt            \n",
       "           pbmc_file                                                                   \n",
       "CHP_323_03 batch4_19Aug2019/mixcr/clones/CLONES_TRBCHP_323-03-PBMC-DNA.txt             \n",
       "CHP_323_05 batch7_25Oct2019/mixcr/clones/CLONES_TRBCHP_323-05-PBMC-DNA.txt             \n",
       "CHP_324_05 remaining_batch_2_22April2021/mixcr/clones/CLONES_TRBCHP_324-05_PBMC-DNA.txt\n",
       "CHP_328_05 remaining_batch_4_28June2021/mixcr/clones/CLONES_TRBCHP-328-05-PBMC-DNA.txt \n",
       "CHP_331_05 batch2_Aug62019/mixcr/clones/CLONES_TRBCHP_331-05-PBMC-DNA.txt              \n",
       "CHP_338_03 batch4_19Aug2019/mixcr/clones/CLONES_TRBCHP_338-03-PBMC-DNA.txt             \n",
       "           totalcfTCRs recurringcfTCRs percentage\n",
       "CHP_323_03 103         1               0.97      \n",
       "CHP_323_05  15         0               0.00      \n",
       "CHP_324_05   2         0               0.00      \n",
       "CHP_328_05   5         0               0.00      \n",
       "CHP_331_05  36         2               5.56      \n",
       "CHP_338_03   3         0               0.00      "
      ]
     },
     "metadata": {},
     "output_type": "display_data"
    }
   ],
   "source": [
    "head(sampleid_type_tab_1)"
   ]
  },
  {
   "cell_type": "code",
   "execution_count": 34,
   "metadata": {
    "vscode": {
     "languageId": "r"
    }
   },
   "outputs": [],
   "source": [
    "sampleid_type_tab_1$percentage <- round(sampleid_type_tab_1$recurringcfTCRs / sampleid_type_tab_1$totalcfTCRs * 100, 2)"
   ]
  },
  {
   "cell_type": "code",
   "execution_count": 71,
   "metadata": {
    "vscode": {
     "languageId": "r"
    }
   },
   "outputs": [
    {
     "data": {
      "text/plain": [
       "   Min. 1st Qu.  Median    Mean 3rd Qu.    Max. \n",
       "   1.00    4.00    7.00   13.22   15.00  103.00 "
      ]
     },
     "metadata": {},
     "output_type": "display_data"
    }
   ],
   "source": [
    "summary(sampleid_type_tab_1$totalcfTCRs)"
   ]
  },
  {
   "cell_type": "code",
   "execution_count": 69,
   "metadata": {
    "vscode": {
     "languageId": "r"
    }
   },
   "outputs": [
    {
     "data": {
      "text/plain": [
       "   Min. 1st Qu.  Median    Mean 3rd Qu.    Max. \n",
       "  0.000   0.000   0.000   3.483   0.000 100.000 "
      ]
     },
     "metadata": {},
     "output_type": "display_data"
    }
   ],
   "source": [
    "summary(sampleid_type_tab_1$percentage)"
   ]
  },
  {
   "cell_type": "code",
   "execution_count": 123,
   "metadata": {
    "vscode": {
     "languageId": "r"
    }
   },
   "outputs": [
    {
     "data": {
      "text/plain": [
       "   Min. 1st Qu.  Median    Mean 3rd Qu.    Max. \n",
       "  1.000   1.000   2.000   2.121   3.000   8.000 "
      ]
     },
     "metadata": {},
     "output_type": "display_data"
    }
   ],
   "source": [
    "summary(sampleid_type_tab_1$recurringcfTCRs[ sampleid_type_tab_1$percentage > 0])"
   ]
  },
  {
   "cell_type": "code",
   "execution_count": 38,
   "metadata": {
    "vscode": {
     "languageId": "r"
    }
   },
   "outputs": [
    {
     "data": {
      "text/html": [
       "33"
      ],
      "text/latex": [
       "33"
      ],
      "text/markdown": [
       "33"
      ],
      "text/plain": [
       "[1] 33"
      ]
     },
     "metadata": {},
     "output_type": "display_data"
    }
   ],
   "source": [
    "149 - 116"
   ]
  },
  {
   "cell_type": "code",
   "execution_count": 39,
   "metadata": {
    "vscode": {
     "languageId": "r"
    }
   },
   "outputs": [
    {
     "data": {
      "text/html": [
       "0.221476510067114"
      ],
      "text/latex": [
       "0.221476510067114"
      ],
      "text/markdown": [
       "0.221476510067114"
      ],
      "text/plain": [
       "[1] 0.2214765"
      ]
     },
     "metadata": {},
     "output_type": "display_data"
    }
   ],
   "source": [
    "33/149"
   ]
  },
  {
   "cell_type": "code",
   "execution_count": 35,
   "metadata": {
    "vscode": {
     "languageId": "r"
    }
   },
   "outputs": [
    {
     "data": {
      "text/html": [
       "<table class=\"dataframe\">\n",
       "<caption>A data.frame: 6 x 7</caption>\n",
       "<thead>\n",
       "\t<tr><th></th><th scope=col>cfDNA</th><th scope=col>PBMC</th><th scope=col>cfdna_file</th><th scope=col>pbmc_file</th><th scope=col>totalcfTCRs</th><th scope=col>recurringcfTCRs</th><th scope=col>percentage</th></tr>\n",
       "\t<tr><th></th><th scope=col>&lt;int&gt;</th><th scope=col>&lt;int&gt;</th><th scope=col>&lt;chr&gt;</th><th scope=col>&lt;chr&gt;</th><th scope=col>&lt;int&gt;</th><th scope=col>&lt;int&gt;</th><th scope=col>&lt;dbl&gt;</th></tr>\n",
       "</thead>\n",
       "<tbody>\n",
       "\t<tr><th scope=row>CHP_323_03</th><td>1</td><td>1</td><td>batch3a9_cfDNA_10Jul2020/mixcr/clones/CLONES_TRBCHP_323-03_cfDNA.txt           </td><td>batch4_19Aug2019/mixcr/clones/CLONES_TRBCHP_323-03-PBMC-DNA.txt             </td><td>103</td><td>1</td><td>0.97</td></tr>\n",
       "\t<tr><th scope=row>CHP_323_05</th><td>1</td><td>1</td><td>remaining_batch_1_cfDNA_8April2021/mixcr/clones/CLONES_TRBCHP_323-05_cfDNA.txt </td><td>batch7_25Oct2019/mixcr/clones/CLONES_TRBCHP_323-05-PBMC-DNA.txt             </td><td> 15</td><td>0</td><td>0.00</td></tr>\n",
       "\t<tr><th scope=row>CHP_324_05</th><td>1</td><td>1</td><td>batch10_cfDNA_13Jul2020/mixcr/clones/CLONES_TRBCHP_324-05_cfDNA.txt            </td><td>remaining_batch_2_22April2021/mixcr/clones/CLONES_TRBCHP_324-05_PBMC-DNA.txt</td><td>  2</td><td>0</td><td>0.00</td></tr>\n",
       "\t<tr><th scope=row>CHP_328_05</th><td>1</td><td>1</td><td>batch10_cfDNA_13Jul2020/mixcr/clones/CLONES_TRBCHP_328-05_cfDNA.txt            </td><td>remaining_batch_4_28June2021/mixcr/clones/CLONES_TRBCHP-328-05-PBMC-DNA.txt </td><td>  5</td><td>0</td><td>0.00</td></tr>\n",
       "\t<tr><th scope=row>CHP_331_05</th><td>1</td><td>1</td><td>remaining_batch_5_cfDNA_22April2021/mixcr/clones/CLONES_TRBCHP_331-05_cfDNA.txt</td><td>batch2_Aug62019/mixcr/clones/CLONES_TRBCHP_331-05-PBMC-DNA.txt              </td><td> 36</td><td>2</td><td>5.56</td></tr>\n",
       "\t<tr><th scope=row>CHP_338_03</th><td>1</td><td>1</td><td>batch10_cfDNA_13Jul2020/mixcr/clones/CLONES_TRBCHP_338-03_cfDNA.txt            </td><td>batch4_19Aug2019/mixcr/clones/CLONES_TRBCHP_338-03-PBMC-DNA.txt             </td><td>  3</td><td>0</td><td>0.00</td></tr>\n",
       "</tbody>\n",
       "</table>\n"
      ],
      "text/latex": [
       "A data.frame: 6 x 7\n",
       "\\begin{tabular}{r|lllllll}\n",
       "  & cfDNA & PBMC & cfdna\\_file & pbmc\\_file & totalcfTCRs & recurringcfTCRs & percentage\\\\\n",
       "  & <int> & <int> & <chr> & <chr> & <int> & <int> & <dbl>\\\\\n",
       "\\hline\n",
       "\tCHP\\_323\\_03 & 1 & 1 & batch3a9\\_cfDNA\\_10Jul2020/mixcr/clones/CLONES\\_TRBCHP\\_323-03\\_cfDNA.txt            & batch4\\_19Aug2019/mixcr/clones/CLONES\\_TRBCHP\\_323-03-PBMC-DNA.txt              & 103 & 1 & 0.97\\\\\n",
       "\tCHP\\_323\\_05 & 1 & 1 & remaining\\_batch\\_1\\_cfDNA\\_8April2021/mixcr/clones/CLONES\\_TRBCHP\\_323-05\\_cfDNA.txt  & batch7\\_25Oct2019/mixcr/clones/CLONES\\_TRBCHP\\_323-05-PBMC-DNA.txt              &  15 & 0 & 0.00\\\\\n",
       "\tCHP\\_324\\_05 & 1 & 1 & batch10\\_cfDNA\\_13Jul2020/mixcr/clones/CLONES\\_TRBCHP\\_324-05\\_cfDNA.txt             & remaining\\_batch\\_2\\_22April2021/mixcr/clones/CLONES\\_TRBCHP\\_324-05\\_PBMC-DNA.txt &   2 & 0 & 0.00\\\\\n",
       "\tCHP\\_328\\_05 & 1 & 1 & batch10\\_cfDNA\\_13Jul2020/mixcr/clones/CLONES\\_TRBCHP\\_328-05\\_cfDNA.txt             & remaining\\_batch\\_4\\_28June2021/mixcr/clones/CLONES\\_TRBCHP-328-05-PBMC-DNA.txt  &   5 & 0 & 0.00\\\\\n",
       "\tCHP\\_331\\_05 & 1 & 1 & remaining\\_batch\\_5\\_cfDNA\\_22April2021/mixcr/clones/CLONES\\_TRBCHP\\_331-05\\_cfDNA.txt & batch2\\_Aug62019/mixcr/clones/CLONES\\_TRBCHP\\_331-05-PBMC-DNA.txt               &  36 & 2 & 5.56\\\\\n",
       "\tCHP\\_338\\_03 & 1 & 1 & batch10\\_cfDNA\\_13Jul2020/mixcr/clones/CLONES\\_TRBCHP\\_338-03\\_cfDNA.txt             & batch4\\_19Aug2019/mixcr/clones/CLONES\\_TRBCHP\\_338-03-PBMC-DNA.txt              &   3 & 0 & 0.00\\\\\n",
       "\\end{tabular}\n"
      ],
      "text/markdown": [
       "\n",
       "A data.frame: 6 x 7\n",
       "\n",
       "| <!--/--> | cfDNA &lt;int&gt; | PBMC &lt;int&gt; | cfdna_file &lt;chr&gt; | pbmc_file &lt;chr&gt; | totalcfTCRs &lt;int&gt; | recurringcfTCRs &lt;int&gt; | percentage &lt;dbl&gt; |\n",
       "|---|---|---|---|---|---|---|---|\n",
       "| CHP_323_03 | 1 | 1 | batch3a9_cfDNA_10Jul2020/mixcr/clones/CLONES_TRBCHP_323-03_cfDNA.txt            | batch4_19Aug2019/mixcr/clones/CLONES_TRBCHP_323-03-PBMC-DNA.txt              | 103 | 1 | 0.97 |\n",
       "| CHP_323_05 | 1 | 1 | remaining_batch_1_cfDNA_8April2021/mixcr/clones/CLONES_TRBCHP_323-05_cfDNA.txt  | batch7_25Oct2019/mixcr/clones/CLONES_TRBCHP_323-05-PBMC-DNA.txt              |  15 | 0 | 0.00 |\n",
       "| CHP_324_05 | 1 | 1 | batch10_cfDNA_13Jul2020/mixcr/clones/CLONES_TRBCHP_324-05_cfDNA.txt             | remaining_batch_2_22April2021/mixcr/clones/CLONES_TRBCHP_324-05_PBMC-DNA.txt |   2 | 0 | 0.00 |\n",
       "| CHP_328_05 | 1 | 1 | batch10_cfDNA_13Jul2020/mixcr/clones/CLONES_TRBCHP_328-05_cfDNA.txt             | remaining_batch_4_28June2021/mixcr/clones/CLONES_TRBCHP-328-05-PBMC-DNA.txt  |   5 | 0 | 0.00 |\n",
       "| CHP_331_05 | 1 | 1 | remaining_batch_5_cfDNA_22April2021/mixcr/clones/CLONES_TRBCHP_331-05_cfDNA.txt | batch2_Aug62019/mixcr/clones/CLONES_TRBCHP_331-05-PBMC-DNA.txt               |  36 | 2 | 5.56 |\n",
       "| CHP_338_03 | 1 | 1 | batch10_cfDNA_13Jul2020/mixcr/clones/CLONES_TRBCHP_338-03_cfDNA.txt             | batch4_19Aug2019/mixcr/clones/CLONES_TRBCHP_338-03-PBMC-DNA.txt              |   3 | 0 | 0.00 |\n",
       "\n"
      ],
      "text/plain": [
       "           cfDNA PBMC\n",
       "CHP_323_03 1     1   \n",
       "CHP_323_05 1     1   \n",
       "CHP_324_05 1     1   \n",
       "CHP_328_05 1     1   \n",
       "CHP_331_05 1     1   \n",
       "CHP_338_03 1     1   \n",
       "           cfdna_file                                                                     \n",
       "CHP_323_03 batch3a9_cfDNA_10Jul2020/mixcr/clones/CLONES_TRBCHP_323-03_cfDNA.txt           \n",
       "CHP_323_05 remaining_batch_1_cfDNA_8April2021/mixcr/clones/CLONES_TRBCHP_323-05_cfDNA.txt \n",
       "CHP_324_05 batch10_cfDNA_13Jul2020/mixcr/clones/CLONES_TRBCHP_324-05_cfDNA.txt            \n",
       "CHP_328_05 batch10_cfDNA_13Jul2020/mixcr/clones/CLONES_TRBCHP_328-05_cfDNA.txt            \n",
       "CHP_331_05 remaining_batch_5_cfDNA_22April2021/mixcr/clones/CLONES_TRBCHP_331-05_cfDNA.txt\n",
       "CHP_338_03 batch10_cfDNA_13Jul2020/mixcr/clones/CLONES_TRBCHP_338-03_cfDNA.txt            \n",
       "           pbmc_file                                                                   \n",
       "CHP_323_03 batch4_19Aug2019/mixcr/clones/CLONES_TRBCHP_323-03-PBMC-DNA.txt             \n",
       "CHP_323_05 batch7_25Oct2019/mixcr/clones/CLONES_TRBCHP_323-05-PBMC-DNA.txt             \n",
       "CHP_324_05 remaining_batch_2_22April2021/mixcr/clones/CLONES_TRBCHP_324-05_PBMC-DNA.txt\n",
       "CHP_328_05 remaining_batch_4_28June2021/mixcr/clones/CLONES_TRBCHP-328-05-PBMC-DNA.txt \n",
       "CHP_331_05 batch2_Aug62019/mixcr/clones/CLONES_TRBCHP_331-05-PBMC-DNA.txt              \n",
       "CHP_338_03 batch4_19Aug2019/mixcr/clones/CLONES_TRBCHP_338-03-PBMC-DNA.txt             \n",
       "           totalcfTCRs recurringcfTCRs percentage\n",
       "CHP_323_03 103         1               0.97      \n",
       "CHP_323_05  15         0               0.00      \n",
       "CHP_324_05   2         0               0.00      \n",
       "CHP_328_05   5         0               0.00      \n",
       "CHP_331_05  36         2               5.56      \n",
       "CHP_338_03   3         0               0.00      "
      ]
     },
     "metadata": {},
     "output_type": "display_data"
    }
   ],
   "source": [
    "head(sampleid_type_tab_1)"
   ]
  },
  {
   "cell_type": "code",
   "execution_count": 110,
   "metadata": {
    "vscode": {
     "languageId": "r"
    }
   },
   "outputs": [],
   "source": [
    "meta_div_flow <- meta_div[ meta_div$sample_id %in% rownames(sampleid_type_tab_1) &\n",
    "!is.na(meta_div$CD3), ]\n",
    "meta_div_flow <- meta_div_flow[ meta_div_flow$sampletype == \"PBMC\", ]\n",
    "meta_div_flow <- meta_div_flow[ meta_div_flow$CD3 > 0,]"
   ]
  },
  {
   "cell_type": "code",
   "execution_count": 134,
   "metadata": {
    "vscode": {
     "languageId": "r"
    }
   },
   "outputs": [],
   "source": [
    "meta_div_flow$grp <- NA\n",
    "meta_div_flow$grp[ meta_div_flow$sample_id %in% rownames(sampleid_type_tab_1)[sampleid_type_tab_1$percentage == 0] ] <- \"0\"\n",
    "meta_div_flow$grp[ meta_div_flow$sample_id %in% rownames(sampleid_type_tab_1)[sampleid_type_tab_1$percentage > 0] ] <- \"1\""
   ]
  },
  {
   "cell_type": "code",
   "execution_count": 135,
   "metadata": {
    "vscode": {
     "languageId": "r"
    }
   },
   "outputs": [],
   "source": [
    "leu <- meta_div_flow[ meta_div_flow$cancergroup == \"Leukemia\", ]"
   ]
  },
  {
   "cell_type": "code",
   "execution_count": 136,
   "metadata": {
    "vscode": {
     "languageId": "r"
    }
   },
   "outputs": [
    {
     "data": {
      "text/plain": [
       "\n",
       "\tWelch Two Sample t-test\n",
       "\n",
       "data:  leu$`CM%` by leu$grp\n",
       "t = 1.7309, df = 30.81, p-value = 0.09347\n",
       "alternative hypothesis: true difference in means between group 0 and group 1 is not equal to 0\n",
       "95 percent confidence interval:\n",
       " -1.441939 17.592572\n",
       "sample estimates:\n",
       "mean in group 0 mean in group 1 \n",
       "      13.357229        5.281913 \n"
      ]
     },
     "metadata": {},
     "output_type": "display_data"
    }
   ],
   "source": [
    "t.test(leu$`CM%` ~ leu$grp)"
   ]
  },
  {
   "cell_type": "code",
   "execution_count": 138,
   "metadata": {
    "vscode": {
     "languageId": "r"
    }
   },
   "outputs": [
    {
     "data": {
      "image/png": "[encoded data removed]",
      "text/plain": [
       "plot without title"
      ]
     },
     "metadata": {
      "image/png": {
       "height": 420,
       "width": 420
      }
     },
     "output_type": "display_data"
    }
   ],
   "source": [
    "ggplot(leu, aes(x = grp, y = `CM%`)) +\n",
    "    geom_boxplot() +\n",
    "    geom_jitter(width = 0.2) +\n",
    "    theme_bw() +\n",
    "    labs(x = \"Recurring cfDNA TCRs\", y = \"CM%\") "
   ]
  },
  {
   "cell_type": "markdown",
   "metadata": {},
   "source": [
    "# Clonetrack"
   ]
  },
  {
   "attachments": {},
   "cell_type": "markdown",
   "metadata": {},
   "source": [
    "## T-ALL"
   ]
  },
  {
   "cell_type": "markdown",
   "metadata": {},
   "source": [
    "#### 387"
   ]
  },
  {
   "cell_type": "code",
   "execution_count": null,
   "metadata": {
    "vscode": {
     "languageId": "r"
    }
   },
   "outputs": [],
   "source": [
    "tall <- meta_div[ meta_div$Disease_type == \"T-ALL\",]"
   ]
  },
  {
   "cell_type": "code",
   "execution_count": null,
   "metadata": {
    "vscode": {
     "languageId": "r"
    }
   },
   "outputs": [],
   "source": [
    "table(tall$Patient)"
   ]
  },
  {
   "cell_type": "code",
   "execution_count": null,
   "metadata": {
    "vscode": {
     "languageId": "r"
    }
   },
   "outputs": [],
   "source": [
    "CHP_387 <- tall$file[ tall$Patient == \"CHP_387\"]"
   ]
  },
  {
   "cell_type": "code",
   "execution_count": null,
   "metadata": {
    "vscode": {
     "languageId": "r"
    }
   },
   "outputs": [],
   "source": [
    "cdr3df <- cdr3_dataframe.fx(paste0(h4hpath,\"NextSeq/\"), \"TRB\", CHP_387, \"inframe\")"
   ]
  },
  {
   "cell_type": "code",
   "execution_count": null,
   "metadata": {
    "vscode": {
     "languageId": "r"
    }
   },
   "outputs": [],
   "source": [
    "cdr3df_pt <- order_cdr3df.fx(cdr3df)"
   ]
  },
  {
   "cell_type": "code",
   "execution_count": null,
   "metadata": {
    "vscode": {
     "languageId": "r"
    }
   },
   "outputs": [],
   "source": [
    "colnames(cdr3df_pt)"
   ]
  },
  {
   "cell_type": "code",
   "execution_count": null,
   "metadata": {
    "vscode": {
     "languageId": "r"
    }
   },
   "outputs": [],
   "source": [
    "table(cdr3df_pt$cycle)"
   ]
  },
  {
   "cell_type": "code",
   "execution_count": null,
   "metadata": {
    "vscode": {
     "languageId": "r"
    }
   },
   "outputs": [],
   "source": [
    "head(cdr3df_pt[, c(\"samplename\", \"samplelabel\")])"
   ]
  },
  {
   "cell_type": "code",
   "execution_count": null,
   "metadata": {
    "vscode": {
     "languageId": "r"
    }
   },
   "outputs": [],
   "source": [
    "p387 <- plot_clonetracks.fx(cdr3df_pt, plotpath, \"TRB\", \"cloneFraction\", 0, \"T-ALL\", 222)"
   ]
  },
  {
   "cell_type": "code",
   "execution_count": null,
   "metadata": {
    "vscode": {
     "languageId": "r"
    }
   },
   "outputs": [],
   "source": [
    "p387"
   ]
  },
  {
   "cell_type": "code",
   "execution_count": null,
   "metadata": {
    "vscode": {
     "languageId": "r"
    }
   },
   "outputs": [],
   "source": [
    "trb_p <- trbpointplot.fx(metadta = meta_div, pat = \"CHP_387\")"
   ]
  },
  {
   "cell_type": "code",
   "execution_count": null,
   "metadata": {
    "vscode": {
     "languageId": "r"
    }
   },
   "outputs": [],
   "source": [
    "trb_p"
   ]
  },
  {
   "cell_type": "code",
   "execution_count": null,
   "metadata": {
    "vscode": {
     "languageId": "r"
    }
   },
   "outputs": [],
   "source": [
    "pdf(paste0(plotpath, \"Clonetrack_CHP_387_TRB.pdf\"), width = 6, height = 10)\n",
    "cowplot::plot_grid(trb_p,\n",
    "    p387 + theme(plot.title = element_blank()),\n",
    "    ncol = 1, align = \"v\", rel_heights = c(0.3, 1)\n",
    ")\n",
    "dev.off()\n"
   ]
  },
  {
   "cell_type": "markdown",
   "metadata": {},
   "source": [
    "#### others"
   ]
  },
  {
   "cell_type": "code",
   "execution_count": null,
   "metadata": {
    "vscode": {
     "languageId": "r"
    }
   },
   "outputs": [],
   "source": [
    "table(tall$Patient)"
   ]
  },
  {
   "cell_type": "code",
   "execution_count": null,
   "metadata": {
    "vscode": {
     "languageId": "r"
    }
   },
   "outputs": [],
   "source": [
    "pat <- \"CHP_324\"\n",
    "\n",
    "CHP_pat <- tall$file[tall$Patient == pat]\n",
    "\n",
    "cdr3df <- cdr3_dataframe.fx(paste0(h4hpath, \"NextSeq/\"), \"TRB\", CHP_pat, \"inframe\")\n",
    "\n",
    "cdr3df_pt <- order_cdr3df.fx(cdr3df)\n",
    "\n",
    "myclonetrack <- plot_clonetracks.fx(cdr3df_pt, plotpath, \"TRB\", \"cloneFraction\", 0, \"T-ALL\", 222)\n",
    "\n",
    "trb_p <- trbpointplot.fx(metadta = meta_div, pat = pat)\n",
    "\n",
    "pdf(paste0(plotpath, \"Clonetrack_\", pat, \"_TRB.pdf\"), width = 6, height = 10)\n",
    "cowplot::plot_grid(trb_p,\n",
    "    myclonetrack + theme(plot.title = element_blank()),\n",
    "    ncol = 1, align = \"v\", rel_heights = c(0.3, 1)\n",
    ")\n",
    "dev.off()\n"
   ]
  },
  {
   "attachments": {},
   "cell_type": "markdown",
   "metadata": {},
   "source": [
    "## Solid tumors"
   ]
  },
  {
   "cell_type": "code",
   "execution_count": null,
   "metadata": {
    "vscode": {
     "languageId": "r"
    }
   },
   "outputs": [],
   "source": [
    "morethanone"
   ]
  },
  {
   "cell_type": "code",
   "execution_count": null,
   "metadata": {
    "vscode": {
     "languageId": "r"
    }
   },
   "outputs": [],
   "source": [
    "meta_div[ grepl(\"FFPE\", meta_div$basename), c(\"Patient\", \"Disease_type\") ]"
   ]
  },
  {
   "cell_type": "code",
   "execution_count": null,
   "metadata": {
    "vscode": {
     "languageId": "r"
    }
   },
   "outputs": [],
   "source": [
    "myclonetrack"
   ]
  },
  {
   "cell_type": "code",
   "execution_count": null,
   "metadata": {
    "vscode": {
     "languageId": "r"
    }
   },
   "outputs": [],
   "source": [
    "for (p in rownames(morethanone)) {\n",
    "    message(p)\n",
    "    pat <- p\n",
    "    disease <- meta_div[meta_div$Patient == pat, \"Disease_type\"][1]\n",
    "\n",
    "    CHP_pat <- meta_div$file[meta_div$Patient == pat]\n",
    "\n",
    "    cdr3df <- cdr3_dataframe.fx(paste0(h4hpath, \"NextSeq/\"), \"TRB\", CHP_pat, \"inframe\")\n",
    "\n",
    "    cdr3df_pt <- order_cdr3df.fx(cdr3df)\n",
    "\n",
    "    myclonetrack <- plot_clonetracks.fx(cdr3df_pt, plotpath, \"TRB\", \"cloneFraction\", 0, disease, 222)\n",
    "\n",
    "    trb_p <- trbpointplot.fx(metadta = meta_div, pat = pat)\n",
    "\n",
    "    pdf(paste0(plotpath, \"Clonetrack_\", pat,\"_\", disease, \"_TRB.pdf\"), width = 6, height = 10)\n",
    "    print(cowplot::plot_grid(trb_p,\n",
    "        myclonetrack + theme(plot.title = element_blank()),\n",
    "        ncol = 1, align = \"v\", rel_heights = c(0.3, 1) )\n",
    "    )\n",
    "    dev.off()\n",
    "    \n",
    "    rm(cdr3df, cdr3df_pt, myclonetrack, trb_p)\n",
    "}\n"
   ]
  },
  {
   "cell_type": "code",
   "execution_count": null,
   "metadata": {
    "vscode": {
     "languageId": "r"
    }
   },
   "outputs": [],
   "source": [
    "# pat <- \"CHP_418\"\n",
    "# disease <- \"NBL\"\n",
    "\n",
    "# CHP_pat <- meta_div$file[meta_div$Patient == pat]\n",
    "\n",
    "# cdr3df <- cdr3_dataframe.fx(paste0(h4hpath, \"NextSeq/\"), \"TRB\", CHP_pat, \"inframe\")\n",
    "\n",
    "# cdr3df_pt <- order_cdr3df.fx(cdr3df)\n",
    "\n",
    "# myclonetrack <- plot_clonetracks.fx(cdr3df_pt, plotpath, \"TRB\", \"cloneFraction\", 0, disease, 222)\n",
    "# myclonetrack\n",
    "\n",
    "# trb_p <- trbpointplot.fx(metadta = meta_div, pat = pat)\n",
    "\n",
    "# pdf(paste0(plotpath, \"Clonetrack_\", pat, \"_TRB.pdf\"), width = 6, height = 10)\n",
    "# cowplot::plot_grid(trb_p,\n",
    "#     myclonetrack + theme(plot.title = element_blank()),\n",
    "#     ncol = 1, align = \"v\", rel_heights = c(0.3, 1)\n",
    "# )\n",
    "# dev.off()\n"
   ]
  },
  {
   "cell_type": "code",
   "execution_count": null,
   "metadata": {
    "vscode": {
     "languageId": "r"
    }
   },
   "outputs": [],
   "source": [
    "# cairo_pdf(paste0(plotpath, \"CHP_364_OS_FFPE_PBMC_TRB.pdf\"), width = 10, height = 15)\n",
    "# p387 + theme(axis.title.x = element_text(size = 15) ) + labs(y = \"TCR\\U03B2 clone fraction\", x = \"Sample prior to chemotherapy cycle\") + \n",
    "# scale_x_discrete(labels = c(\"Tumor\", \"Pre-cycle 1\", \"Pre-cycle 2\", \"Pre-cycle 3\"))\n",
    "# dev.off()"
   ]
  },
  {
   "cell_type": "code",
   "execution_count": 1,
   "metadata": {
    "vscode": {
     "languageId": "r"
    }
   },
   "outputs": [
    {
     "data": {
      "text/html": [],
      "text/latex": [],
      "text/markdown": [],
      "text/plain": [
       "character(0)"
      ]
     },
     "metadata": {},
     "output_type": "display_data"
    }
   ],
   "source": [
    "ls()"
   ]
  },
  {
   "attachments": {},
   "cell_type": "markdown",
   "metadata": {
    "vscode": {
     "languageId": "r"
    }
   },
   "source": [
    "# CSF"
   ]
  },
  {
   "cell_type": "code",
   "execution_count": null,
   "metadata": {
    "vscode": {
     "languageId": "r"
    }
   },
   "outputs": [],
   "source": [
    "myfle <- list.files( \"~/Desktop/H4H/pughlab/pediatric/projects/TCR_HSJ/NextSeq/\", recursive = T, pattern = \"CLONES_TRA\", full.names = TRUE)"
   ]
  },
  {
   "cell_type": "code",
   "execution_count": null,
   "metadata": {
    "vscode": {
     "languageId": "r"
    }
   },
   "outputs": [],
   "source": [
    "myfle <- myfle[! grepl(\"20000\", myfle) ]"
   ]
  },
  {
   "cell_type": "code",
   "execution_count": null,
   "metadata": {
    "vscode": {
     "languageId": "r"
    }
   },
   "outputs": [],
   "source": [
    "myfle"
   ]
  },
  {
   "cell_type": "code",
   "execution_count": null,
   "metadata": {
    "vscode": {
     "languageId": "r"
    }
   },
   "outputs": [],
   "source": [
    "mycase <- \"67\" #  51 TRB no clones"
   ]
  },
  {
   "cell_type": "code",
   "execution_count": null,
   "metadata": {
    "vscode": {
     "languageId": "r"
    }
   },
   "outputs": [],
   "source": [
    "HSJ <- myfle[ grepl(mycase, myfle) ]"
   ]
  },
  {
   "cell_type": "code",
   "execution_count": null,
   "metadata": {
    "vscode": {
     "languageId": "r"
    }
   },
   "outputs": [],
   "source": [
    "HSJ"
   ]
  },
  {
   "cell_type": "code",
   "execution_count": null,
   "metadata": {
    "vscode": {
     "languageId": "r"
    }
   },
   "outputs": [],
   "source": [
    "cdr3df <- cdr3_dataframe.fx(\"\", \"TRA\", HSJ, \"inframe\")"
   ]
  },
  {
   "cell_type": "code",
   "execution_count": null,
   "metadata": {
    "vscode": {
     "languageId": "r"
    }
   },
   "outputs": [],
   "source": [
    "table(cdr3df$samplename)"
   ]
  },
  {
   "cell_type": "code",
   "execution_count": null,
   "metadata": {
    "vscode": {
     "languageId": "r"
    }
   },
   "outputs": [],
   "source": [
    "cdr3df$samplename[ cdr3df$samplename == \"67-CSF\"] <- \"CSF\"\n",
    "#cdr3df$samplename[ cdr3df$samplename == \"77-Plasma\"] <- \"Plasma\"\n",
    "cdr3df$samplename[ cdr3df$samplename == \"67-Tum\"] <- \"Tumor\""
   ]
  },
  {
   "cell_type": "code",
   "execution_count": null,
   "metadata": {
    "vscode": {
     "languageId": "r"
    }
   },
   "outputs": [],
   "source": [
    "cdr3df$samplename <- factor(cdr3df$samplename, levels = c(\"Tumor\", \"CSF\"))"
   ]
  },
  {
   "cell_type": "code",
   "execution_count": null,
   "metadata": {
    "vscode": {
     "languageId": "r"
    }
   },
   "outputs": [],
   "source": [
    "p <- plot_clonetracks.fx(cdr3df, plotpath, \"TRA\", \"cloneFraction\", 0, \"HSJ67\", 222)\n",
    "p"
   ]
  },
  {
   "cell_type": "code",
   "execution_count": null,
   "metadata": {
    "vscode": {
     "languageId": "r"
    }
   },
   "outputs": [],
   "source": [
    "cairo_pdf(paste0(plotpath, \"HSJ_67_Tum_CSF_TRA.pdf\"), width = 10, height = 15)\n",
    "p + theme(axis.title.x = element_text(size = 15) ) + labs(y = \"TCR\\U03B1 clone fraction\", x = \"\", title = \"\")\n",
    "dev.off()"
   ]
  },
  {
   "cell_type": "code",
   "execution_count": null,
   "metadata": {
    "vscode": {
     "languageId": "r"
    }
   },
   "outputs": [],
   "source": []
  }
 ],
 "metadata": {
  "kernelspec": {
   "display_name": "R 4.0",
   "language": "R",
   "name": "ir40"
  },
  "language_info": {
   "codemirror_mode": "r",
   "file_extension": ".r",
   "mimetype": "text/x-r-source",
   "name": "R",
   "pygments_lexer": "r",
   "version": "4.2.2"
  },
  "toc": {
   "base_numbering": 1,
   "nav_menu": {},
   "number_sections": false,
   "sideBar": true,
   "skip_h1_title": false,
   "title_cell": "Table of Contents",
   "title_sidebar": "Contents",
   "toc_cell": true,
   "toc_position": {
    "height": "calc(100% - 180px)",
    "left": "10px",
    "top": "150px",
    "width": "217.3px"
   },
   "toc_section_display": true,
   "toc_window_display": true
  }
 },
 "nbformat": 4,
 "nbformat_minor": 2
}

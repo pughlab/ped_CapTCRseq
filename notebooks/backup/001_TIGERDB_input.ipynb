{
 "cells": [
  {
   "cell_type": "code",
   "execution_count": 1,
   "metadata": {
    "vscode": {
     "languageId": "r"
    }
   },
   "outputs": [
    {
     "data": {
      "text/html": [
       "'en_US.UTF-8/en_US.UTF-8/en_US.UTF-8/C/en_US.UTF-8/C'"
      ],
      "text/latex": [
       "'en\\_US.UTF-8/en\\_US.UTF-8/en\\_US.UTF-8/C/en\\_US.UTF-8/C'"
      ],
      "text/markdown": [
       "'en_US.UTF-8/en_US.UTF-8/en_US.UTF-8/C/en_US.UTF-8/C'"
      ],
      "text/plain": [
       "[1] \"en_US.UTF-8/en_US.UTF-8/en_US.UTF-8/C/en_US.UTF-8/C\""
      ]
     },
     "metadata": {},
     "output_type": "display_data"
    }
   ],
   "source": [
    "Sys.setlocale(category = \"LC_ALL\", locale = \"en_US.UTF-8\")"
   ]
  },
  {
   "attachments": {},
   "cell_type": "markdown",
   "metadata": {},
   "source": [
    "# Dependencies"
   ]
  },
  {
   "cell_type": "code",
   "execution_count": 2,
   "metadata": {
    "vscode": {
     "languageId": "r"
    }
   },
   "outputs": [],
   "source": [
    "pacman::p_load(data.table)"
   ]
  },
  {
   "attachments": {},
   "cell_type": "markdown",
   "metadata": {},
   "source": [
    "# Functions"
   ]
  },
  {
   "attachments": {},
   "cell_type": "markdown",
   "metadata": {},
   "source": [
    "# Paths"
   ]
  },
  {
   "cell_type": "code",
   "execution_count": 3,
   "metadata": {
    "vscode": {
     "languageId": "r"
    }
   },
   "outputs": [],
   "source": [
    "datapath <- \"/Users/anabbi/OneDrive - UHN/Documents/INTERCEPT/Data/\"\n",
    "plotpath <- \"/Users/anabbi/OneDrive - UHN/Documents/INTERCEPT/Plots/\"\n",
    "manifestpath <- \"/Users/anabbi/OneDrive - UHN/Documents/INTERCEPT/Manifests/\"\n",
    "gitpath <- \"/Users/anabbi/git/ped_CapTCRseq/\""
   ]
  },
  {
   "cell_type": "code",
   "execution_count": 4,
   "metadata": {
    "vscode": {
     "languageId": "r"
    }
   },
   "outputs": [],
   "source": [
    "h4hpath <- \"/Users/anabbi/Desktop/H4H/INTERCEPT/NextSeq/\""
   ]
  },
  {
   "attachments": {},
   "cell_type": "markdown",
   "metadata": {},
   "source": [
    "# Main"
   ]
  },
  {
   "cell_type": "markdown",
   "metadata": {},
   "source": [
    "### INTERCEPT"
   ]
  },
  {
   "cell_type": "code",
   "execution_count": 5,
   "metadata": {
    "vscode": {
     "languageId": "r"
    }
   },
   "outputs": [],
   "source": [
    "meta_div <- readr::read_rds(file = paste0(datapath,\"capTCRseq/meta_div_goodsamples.rds\"))"
   ]
  },
  {
   "cell_type": "code",
   "execution_count": 6,
   "metadata": {
    "vscode": {
     "languageId": "r"
    }
   },
   "outputs": [
    {
     "data": {
      "text/html": [
       "<table class=\"dataframe\">\n",
       "<caption>A data.frame: 6 x 66</caption>\n",
       "<thead>\n",
       "\t<tr><th></th><th scope=col>sample_id</th><th scope=col>Patient</th><th scope=col>cycle</th><th scope=col>FOLD</th><th scope=col>ATC</th><th scope=col>Age</th><th scope=col>Disease_type</th><th scope=col>TE_fold</th><th scope=col>CD3</th><th scope=col>EM</th><th scope=col>...</th><th scope=col>estimated_Shannon</th><th scope=col>SE_Shannon</th><th scope=col>observed_Simpson</th><th scope=col>estimated_Simpson</th><th scope=col>SE_Simpson</th><th scope=col>basename</th><th scope=col>file</th><th scope=col>sampletype</th><th scope=col>Group</th><th scope=col>log10shann</th></tr>\n",
       "\t<tr><th></th><th scope=col>&lt;chr&gt;</th><th scope=col>&lt;chr&gt;</th><th scope=col>&lt;chr&gt;</th><th scope=col>&lt;dbl&gt;</th><th scope=col>&lt;dbl&gt;</th><th scope=col>&lt;dbl&gt;</th><th scope=col>&lt;chr&gt;</th><th scope=col>&lt;dbl&gt;</th><th scope=col>&lt;int&gt;</th><th scope=col>&lt;int&gt;</th><th scope=col>...</th><th scope=col>&lt;dbl&gt;</th><th scope=col>&lt;dbl&gt;</th><th scope=col>&lt;dbl&gt;</th><th scope=col>&lt;dbl&gt;</th><th scope=col>&lt;dbl&gt;</th><th scope=col>&lt;chr&gt;</th><th scope=col>&lt;chr&gt;</th><th scope=col>&lt;chr&gt;</th><th scope=col>&lt;chr&gt;</th><th scope=col>&lt;dbl&gt;</th></tr>\n",
       "</thead>\n",
       "<tbody>\n",
       "\t<tr><th scope=row>287</th><td>CHP_10YO_M_00  </td><td>CHP_10YO_M  </td><td>X00</td><td>NA</td><td>NA</td><td>NA</td><td>Normal</td><td>NA</td><td>NA</td><td>NA</td><td>...</td><td>10.601</td><td>0.073</td><td> 8.556</td><td> 8.561</td><td>0.094</td><td>CHP_10YO-M_PBMC_DNA  </td><td>batchNormal_16Apr2020/mixcr/clones/CLONES_TRBCHP_10YO-M_PBMC_DNA.txt  </td><td>PBMC</td><td>CHP</td><td>1.0249370</td></tr>\n",
       "\t<tr><th scope=row>288</th><td>CHP_11YO_M_00  </td><td>CHP_11YO_M  </td><td>X00</td><td>NA</td><td>NA</td><td>NA</td><td>Normal</td><td>NA</td><td>NA</td><td>NA</td><td>...</td><td>11.614</td><td>0.054</td><td>10.406</td><td>10.414</td><td>0.066</td><td>CHP_11YO-M_PBMC_DNA  </td><td>batchNormal_16Apr2020/mixcr/clones/CLONES_TRBCHP_11YO-M_PBMC_DNA.txt  </td><td>PBMC</td><td>CHP</td><td>1.0647200</td></tr>\n",
       "\t<tr><th scope=row>289</th><td>CHP_15YO_F_A_00</td><td>CHP_15YO_F_A</td><td>X00</td><td>NA</td><td>NA</td><td>NA</td><td>Normal</td><td>NA</td><td>NA</td><td>NA</td><td>...</td><td> 8.989</td><td>0.036</td><td> 8.560</td><td> 8.570</td><td>0.060</td><td>CHP_15YO-F-A_PBMC_DNA</td><td>batchNormal_16Apr2020/mixcr/clones/CLONES_TRBCHP_15YO-F-A_PBMC_DNA.txt</td><td>PBMC</td><td>CHP</td><td>0.9533731</td></tr>\n",
       "\t<tr><th scope=row>290</th><td>CHP_15YO_F_B_00</td><td>CHP_15YO_F_B</td><td>X00</td><td>NA</td><td>NA</td><td>NA</td><td>Normal</td><td>NA</td><td>NA</td><td>NA</td><td>...</td><td> 6.334</td><td>0.040</td><td> 5.870</td><td> 5.876</td><td>0.066</td><td>CHP_15YO-F-B_PBMC_DNA</td><td>batchNormal_16Apr2020/mixcr/clones/CLONES_TRBCHP_15YO-F-B_PBMC_DNA.txt</td><td>PBMC</td><td>CHP</td><td>0.8014037</td></tr>\n",
       "\t<tr><th scope=row>291</th><td>CHP_15YO_M_00  </td><td>CHP_15YO_M  </td><td>X00</td><td>NA</td><td>NA</td><td>NA</td><td>Normal</td><td>NA</td><td>NA</td><td>NA</td><td>...</td><td>21.120</td><td>0.040</td><td>20.321</td><td>20.339</td><td>0.068</td><td>CHP_15YO-M_PBMC_DNA  </td><td>batchNormal_16Apr2020/mixcr/clones/CLONES_TRBCHP_15YO-M_PBMC_DNA.txt  </td><td>PBMC</td><td>CHP</td><td>1.3244882</td></tr>\n",
       "\t<tr><th scope=row>292</th><td>CHP_16YO_M_00  </td><td>CHP_16YO_M  </td><td>X00</td><td>NA</td><td>NA</td><td>NA</td><td>Normal</td><td>NA</td><td>NA</td><td>NA</td><td>...</td><td> 3.973</td><td>0.007</td><td> 3.944</td><td> 3.946</td><td>0.013</td><td>CHP_16YO-M_PBMC_DNA  </td><td>batchNormal_16Apr2020/mixcr/clones/CLONES_TRBCHP_16YO-M_PBMC_DNA.txt  </td><td>PBMC</td><td>CHP</td><td>0.5990092</td></tr>\n",
       "</tbody>\n",
       "</table>\n"
      ],
      "text/latex": [
       "A data.frame: 6 x 66\n",
       "\\begin{tabular}{r|lllllllllllllllllllll}\n",
       "  & sample\\_id & Patient & cycle & FOLD & ATC & Age & Disease\\_type & TE\\_fold & CD3 & EM & ... & estimated\\_Shannon & SE\\_Shannon & observed\\_Simpson & estimated\\_Simpson & SE\\_Simpson & basename & file & sampletype & Group & log10shann\\\\\n",
       "  & <chr> & <chr> & <chr> & <dbl> & <dbl> & <dbl> & <chr> & <dbl> & <int> & <int> & ... & <dbl> & <dbl> & <dbl> & <dbl> & <dbl> & <chr> & <chr> & <chr> & <chr> & <dbl>\\\\\n",
       "\\hline\n",
       "\t287 & CHP\\_10YO\\_M\\_00   & CHP\\_10YO\\_M   & X00 & NA & NA & NA & Normal & NA & NA & NA & ... & 10.601 & 0.073 &  8.556 &  8.561 & 0.094 & CHP\\_10YO-M\\_PBMC\\_DNA   & batchNormal\\_16Apr2020/mixcr/clones/CLONES\\_TRBCHP\\_10YO-M\\_PBMC\\_DNA.txt   & PBMC & CHP & 1.0249370\\\\\n",
       "\t288 & CHP\\_11YO\\_M\\_00   & CHP\\_11YO\\_M   & X00 & NA & NA & NA & Normal & NA & NA & NA & ... & 11.614 & 0.054 & 10.406 & 10.414 & 0.066 & CHP\\_11YO-M\\_PBMC\\_DNA   & batchNormal\\_16Apr2020/mixcr/clones/CLONES\\_TRBCHP\\_11YO-M\\_PBMC\\_DNA.txt   & PBMC & CHP & 1.0647200\\\\\n",
       "\t289 & CHP\\_15YO\\_F\\_A\\_00 & CHP\\_15YO\\_F\\_A & X00 & NA & NA & NA & Normal & NA & NA & NA & ... &  8.989 & 0.036 &  8.560 &  8.570 & 0.060 & CHP\\_15YO-F-A\\_PBMC\\_DNA & batchNormal\\_16Apr2020/mixcr/clones/CLONES\\_TRBCHP\\_15YO-F-A\\_PBMC\\_DNA.txt & PBMC & CHP & 0.9533731\\\\\n",
       "\t290 & CHP\\_15YO\\_F\\_B\\_00 & CHP\\_15YO\\_F\\_B & X00 & NA & NA & NA & Normal & NA & NA & NA & ... &  6.334 & 0.040 &  5.870 &  5.876 & 0.066 & CHP\\_15YO-F-B\\_PBMC\\_DNA & batchNormal\\_16Apr2020/mixcr/clones/CLONES\\_TRBCHP\\_15YO-F-B\\_PBMC\\_DNA.txt & PBMC & CHP & 0.8014037\\\\\n",
       "\t291 & CHP\\_15YO\\_M\\_00   & CHP\\_15YO\\_M   & X00 & NA & NA & NA & Normal & NA & NA & NA & ... & 21.120 & 0.040 & 20.321 & 20.339 & 0.068 & CHP\\_15YO-M\\_PBMC\\_DNA   & batchNormal\\_16Apr2020/mixcr/clones/CLONES\\_TRBCHP\\_15YO-M\\_PBMC\\_DNA.txt   & PBMC & CHP & 1.3244882\\\\\n",
       "\t292 & CHP\\_16YO\\_M\\_00   & CHP\\_16YO\\_M   & X00 & NA & NA & NA & Normal & NA & NA & NA & ... &  3.973 & 0.007 &  3.944 &  3.946 & 0.013 & CHP\\_16YO-M\\_PBMC\\_DNA   & batchNormal\\_16Apr2020/mixcr/clones/CLONES\\_TRBCHP\\_16YO-M\\_PBMC\\_DNA.txt   & PBMC & CHP & 0.5990092\\\\\n",
       "\\end{tabular}\n"
      ],
      "text/markdown": [
       "\n",
       "A data.frame: 6 x 66\n",
       "\n",
       "| <!--/--> | sample_id &lt;chr&gt; | Patient &lt;chr&gt; | cycle &lt;chr&gt; | FOLD &lt;dbl&gt; | ATC &lt;dbl&gt; | Age &lt;dbl&gt; | Disease_type &lt;chr&gt; | TE_fold &lt;dbl&gt; | CD3 &lt;int&gt; | EM &lt;int&gt; | ... ... | estimated_Shannon &lt;dbl&gt; | SE_Shannon &lt;dbl&gt; | observed_Simpson &lt;dbl&gt; | estimated_Simpson &lt;dbl&gt; | SE_Simpson &lt;dbl&gt; | basename &lt;chr&gt; | file &lt;chr&gt; | sampletype &lt;chr&gt; | Group &lt;chr&gt; | log10shann &lt;dbl&gt; |\n",
       "|---|---|---|---|---|---|---|---|---|---|---|---|---|---|---|---|---|---|---|---|---|---|\n",
       "| 287 | CHP_10YO_M_00   | CHP_10YO_M   | X00 | NA | NA | NA | Normal | NA | NA | NA | ... | 10.601 | 0.073 |  8.556 |  8.561 | 0.094 | CHP_10YO-M_PBMC_DNA   | batchNormal_16Apr2020/mixcr/clones/CLONES_TRBCHP_10YO-M_PBMC_DNA.txt   | PBMC | CHP | 1.0249370 |\n",
       "| 288 | CHP_11YO_M_00   | CHP_11YO_M   | X00 | NA | NA | NA | Normal | NA | NA | NA | ... | 11.614 | 0.054 | 10.406 | 10.414 | 0.066 | CHP_11YO-M_PBMC_DNA   | batchNormal_16Apr2020/mixcr/clones/CLONES_TRBCHP_11YO-M_PBMC_DNA.txt   | PBMC | CHP | 1.0647200 |\n",
       "| 289 | CHP_15YO_F_A_00 | CHP_15YO_F_A | X00 | NA | NA | NA | Normal | NA | NA | NA | ... |  8.989 | 0.036 |  8.560 |  8.570 | 0.060 | CHP_15YO-F-A_PBMC_DNA | batchNormal_16Apr2020/mixcr/clones/CLONES_TRBCHP_15YO-F-A_PBMC_DNA.txt | PBMC | CHP | 0.9533731 |\n",
       "| 290 | CHP_15YO_F_B_00 | CHP_15YO_F_B | X00 | NA | NA | NA | Normal | NA | NA | NA | ... |  6.334 | 0.040 |  5.870 |  5.876 | 0.066 | CHP_15YO-F-B_PBMC_DNA | batchNormal_16Apr2020/mixcr/clones/CLONES_TRBCHP_15YO-F-B_PBMC_DNA.txt | PBMC | CHP | 0.8014037 |\n",
       "| 291 | CHP_15YO_M_00   | CHP_15YO_M   | X00 | NA | NA | NA | Normal | NA | NA | NA | ... | 21.120 | 0.040 | 20.321 | 20.339 | 0.068 | CHP_15YO-M_PBMC_DNA   | batchNormal_16Apr2020/mixcr/clones/CLONES_TRBCHP_15YO-M_PBMC_DNA.txt   | PBMC | CHP | 1.3244882 |\n",
       "| 292 | CHP_16YO_M_00   | CHP_16YO_M   | X00 | NA | NA | NA | Normal | NA | NA | NA | ... |  3.973 | 0.007 |  3.944 |  3.946 | 0.013 | CHP_16YO-M_PBMC_DNA   | batchNormal_16Apr2020/mixcr/clones/CLONES_TRBCHP_16YO-M_PBMC_DNA.txt   | PBMC | CHP | 0.5990092 |\n",
       "\n"
      ],
      "text/plain": [
       "    sample_id       Patient      cycle FOLD ATC Age Disease_type TE_fold CD3 EM\n",
       "287 CHP_10YO_M_00   CHP_10YO_M   X00   NA   NA  NA  Normal       NA      NA  NA\n",
       "288 CHP_11YO_M_00   CHP_11YO_M   X00   NA   NA  NA  Normal       NA      NA  NA\n",
       "289 CHP_15YO_F_A_00 CHP_15YO_F_A X00   NA   NA  NA  Normal       NA      NA  NA\n",
       "290 CHP_15YO_F_B_00 CHP_15YO_F_B X00   NA   NA  NA  Normal       NA      NA  NA\n",
       "291 CHP_15YO_M_00   CHP_15YO_M   X00   NA   NA  NA  Normal       NA      NA  NA\n",
       "292 CHP_16YO_M_00   CHP_16YO_M   X00   NA   NA  NA  Normal       NA      NA  NA\n",
       "    ... estimated_Shannon SE_Shannon observed_Simpson estimated_Simpson\n",
       "287 ... 10.601            0.073       8.556            8.561           \n",
       "288 ... 11.614            0.054      10.406           10.414           \n",
       "289 ...  8.989            0.036       8.560            8.570           \n",
       "290 ...  6.334            0.040       5.870            5.876           \n",
       "291 ... 21.120            0.040      20.321           20.339           \n",
       "292 ...  3.973            0.007       3.944            3.946           \n",
       "    SE_Simpson basename             \n",
       "287 0.094      CHP_10YO-M_PBMC_DNA  \n",
       "288 0.066      CHP_11YO-M_PBMC_DNA  \n",
       "289 0.060      CHP_15YO-F-A_PBMC_DNA\n",
       "290 0.066      CHP_15YO-F-B_PBMC_DNA\n",
       "291 0.068      CHP_15YO-M_PBMC_DNA  \n",
       "292 0.013      CHP_16YO-M_PBMC_DNA  \n",
       "    file                                                                  \n",
       "287 batchNormal_16Apr2020/mixcr/clones/CLONES_TRBCHP_10YO-M_PBMC_DNA.txt  \n",
       "288 batchNormal_16Apr2020/mixcr/clones/CLONES_TRBCHP_11YO-M_PBMC_DNA.txt  \n",
       "289 batchNormal_16Apr2020/mixcr/clones/CLONES_TRBCHP_15YO-F-A_PBMC_DNA.txt\n",
       "290 batchNormal_16Apr2020/mixcr/clones/CLONES_TRBCHP_15YO-F-B_PBMC_DNA.txt\n",
       "291 batchNormal_16Apr2020/mixcr/clones/CLONES_TRBCHP_15YO-M_PBMC_DNA.txt  \n",
       "292 batchNormal_16Apr2020/mixcr/clones/CLONES_TRBCHP_16YO-M_PBMC_DNA.txt  \n",
       "    sampletype Group log10shann\n",
       "287 PBMC       CHP   1.0249370 \n",
       "288 PBMC       CHP   1.0647200 \n",
       "289 PBMC       CHP   0.9533731 \n",
       "290 PBMC       CHP   0.8014037 \n",
       "291 PBMC       CHP   1.3244882 \n",
       "292 PBMC       CHP   0.5990092 "
      ]
     },
     "metadata": {},
     "output_type": "display_data"
    }
   ],
   "source": [
    "head(meta_div)"
   ]
  },
  {
   "cell_type": "code",
   "execution_count": 7,
   "metadata": {
    "vscode": {
     "languageId": "r"
    }
   },
   "outputs": [],
   "source": [
    "tmp <- meta_div[!is.na(meta_div$TRB),]          "
   ]
  },
  {
   "cell_type": "code",
   "execution_count": 12,
   "metadata": {
    "vscode": {
     "languageId": "r"
    }
   },
   "outputs": [],
   "source": [
    "h4hpath <- \"/Users/anabbi/Desktop/H4H/INTERCEPT/analysis/DeepTCR/int_data/\"\n",
    "tmpdf <- as.data.frame(tmp$file[tmp$cancergroup == \"Lymphoma\" & tmp$cycle != \"X01\"])\n",
    "write.table(tmpdf, file = paste0(h4hpath,\"post_lym.txt\"), row.names = F, col.names = F, quote = F)"
   ]
  },
  {
   "cell_type": "markdown",
   "metadata": {},
   "source": []
  },
  {
   "cell_type": "code",
   "execution_count": 121,
   "metadata": {
    "vscode": {
     "languageId": "r"
    }
   },
   "outputs": [
    {
     "data": {
      "text/html": [
       "<table class=\"dataframe\">\n",
       "<caption>A data.frame: 6 x 1</caption>\n",
       "<thead>\n",
       "\t<tr><th></th><th scope=col>tmp$file[tmp$sampletype == \"cfDNA\" &amp; tmp$Relapse == 1]</th></tr>\n",
       "\t<tr><th></th><th scope=col>&lt;chr&gt;</th></tr>\n",
       "</thead>\n",
       "<tbody>\n",
       "\t<tr><th scope=row>1</th><td>remaining_batch_5_cfDNA_22April2021/mixcr/clones/CLONES_TRBCHP_329-04_cfDNA.txt</td></tr>\n",
       "\t<tr><th scope=row>2</th><td>batch10_cfDNA_13Jul2020/mixcr/clones/CLONES_TRBCHP_338-03_cfDNA.txt            </td></tr>\n",
       "\t<tr><th scope=row>3</th><td>remaining_batch_2_cfDNA_15April2021/mixcr/clones/CLONES_TRBCHP_338-05-cfDNA.txt</td></tr>\n",
       "\t<tr><th scope=row>4</th><td>priority_pool3/mixcr/clones/CLONES_TRBCHP_342-02-cfDNA.txt                     </td></tr>\n",
       "\t<tr><th scope=row>5</th><td>remaining_batch_4_cfDNA_15April2021/mixcr/clones/CLONES_TRBCHP_349-01_cfDNA.txt</td></tr>\n",
       "\t<tr><th scope=row>6</th><td>batch1_cfDNA_30Jan2020/mixcr/clones/CLONES_TRBCHP_353-01-cfDNA.txt             </td></tr>\n",
       "</tbody>\n",
       "</table>\n"
      ],
      "text/latex": [
       "A data.frame: 6 x 1\n",
       "\\begin{tabular}{r|l}\n",
       "  & tmp\\$file{[}tmp\\$sampletype == \"cfDNA\" \\& tmp\\$Relapse == 1{]}\\\\\n",
       "  & <chr>\\\\\n",
       "\\hline\n",
       "\t1 & remaining\\_batch\\_5\\_cfDNA\\_22April2021/mixcr/clones/CLONES\\_TRBCHP\\_329-04\\_cfDNA.txt\\\\\n",
       "\t2 & batch10\\_cfDNA\\_13Jul2020/mixcr/clones/CLONES\\_TRBCHP\\_338-03\\_cfDNA.txt            \\\\\n",
       "\t3 & remaining\\_batch\\_2\\_cfDNA\\_15April2021/mixcr/clones/CLONES\\_TRBCHP\\_338-05-cfDNA.txt\\\\\n",
       "\t4 & priority\\_pool3/mixcr/clones/CLONES\\_TRBCHP\\_342-02-cfDNA.txt                     \\\\\n",
       "\t5 & remaining\\_batch\\_4\\_cfDNA\\_15April2021/mixcr/clones/CLONES\\_TRBCHP\\_349-01\\_cfDNA.txt\\\\\n",
       "\t6 & batch1\\_cfDNA\\_30Jan2020/mixcr/clones/CLONES\\_TRBCHP\\_353-01-cfDNA.txt             \\\\\n",
       "\\end{tabular}\n"
      ],
      "text/markdown": [
       "\n",
       "A data.frame: 6 x 1\n",
       "\n",
       "| <!--/--> | tmp$file[tmp$sampletype == \"cfDNA\" &amp; tmp$Relapse == 1] &lt;chr&gt; |\n",
       "|---|---|\n",
       "| 1 | remaining_batch_5_cfDNA_22April2021/mixcr/clones/CLONES_TRBCHP_329-04_cfDNA.txt |\n",
       "| 2 | batch10_cfDNA_13Jul2020/mixcr/clones/CLONES_TRBCHP_338-03_cfDNA.txt             |\n",
       "| 3 | remaining_batch_2_cfDNA_15April2021/mixcr/clones/CLONES_TRBCHP_338-05-cfDNA.txt |\n",
       "| 4 | priority_pool3/mixcr/clones/CLONES_TRBCHP_342-02-cfDNA.txt                      |\n",
       "| 5 | remaining_batch_4_cfDNA_15April2021/mixcr/clones/CLONES_TRBCHP_349-01_cfDNA.txt |\n",
       "| 6 | batch1_cfDNA_30Jan2020/mixcr/clones/CLONES_TRBCHP_353-01-cfDNA.txt              |\n",
       "\n"
      ],
      "text/plain": [
       "  tmp$file[tmp$sampletype == \"cfDNA\" & tmp$Relapse == 1]                         \n",
       "1 remaining_batch_5_cfDNA_22April2021/mixcr/clones/CLONES_TRBCHP_329-04_cfDNA.txt\n",
       "2 batch10_cfDNA_13Jul2020/mixcr/clones/CLONES_TRBCHP_338-03_cfDNA.txt            \n",
       "3 remaining_batch_2_cfDNA_15April2021/mixcr/clones/CLONES_TRBCHP_338-05-cfDNA.txt\n",
       "4 priority_pool3/mixcr/clones/CLONES_TRBCHP_342-02-cfDNA.txt                     \n",
       "5 remaining_batch_4_cfDNA_15April2021/mixcr/clones/CLONES_TRBCHP_349-01_cfDNA.txt\n",
       "6 batch1_cfDNA_30Jan2020/mixcr/clones/CLONES_TRBCHP_353-01-cfDNA.txt             "
      ]
     },
     "metadata": {},
     "output_type": "display_data"
    }
   ],
   "source": [
    "head(tmpdf)"
   ]
  },
  {
   "cell_type": "code",
   "execution_count": 6,
   "metadata": {
    "vscode": {
     "languageId": "r"
    }
   },
   "outputs": [
    {
     "data": {
      "text/plain": [
       "   Min. 1st Qu.  Median    Mean 3rd Qu.    Max.    NA's \n",
       "  0.000   2.000   8.000   8.316  14.000  21.000      24 "
      ]
     },
     "metadata": {},
     "output_type": "display_data"
    }
   ],
   "source": [
    "summary(meta_div$Age)"
   ]
  },
  {
   "cell_type": "code",
   "execution_count": 7,
   "metadata": {
    "vscode": {
     "languageId": "r"
    }
   },
   "outputs": [],
   "source": [
    "load(file = paste0(datapath,\"capTCRseq/TRBfiles.RData\"))"
   ]
  },
  {
   "cell_type": "code",
   "execution_count": 8,
   "metadata": {
    "vscode": {
     "languageId": "r"
    }
   },
   "outputs": [
    {
     "data": {
      "text/html": [
       "<style>\n",
       ".list-inline {list-style: none; margin:0; padding: 0}\n",
       ".list-inline>li {display: inline-block}\n",
       ".list-inline>li:not(:last-child)::after {content: \"\\00b7\"; padding: 0 .5ex}\n",
       "</style>\n",
       "<ol class=list-inline><li>603</li><li>3</li></ol>\n"
      ],
      "text/latex": [
       "\\begin{enumerate*}\n",
       "\\item 603\n",
       "\\item 3\n",
       "\\end{enumerate*}\n"
      ],
      "text/markdown": [
       "1. 603\n",
       "2. 3\n",
       "\n",
       "\n"
      ],
      "text/plain": [
       "[1] 603   3"
      ]
     },
     "metadata": {},
     "output_type": "display_data"
    }
   ],
   "source": [
    "dim(file_df_dedup_trb)"
   ]
  },
  {
   "cell_type": "code",
   "execution_count": 9,
   "metadata": {
    "vscode": {
     "languageId": "r"
    }
   },
   "outputs": [],
   "source": [
    "# get good samples\n",
    "file_df_dedup_trb <- file_df_dedup_trb[ file_df_dedup_trb$samplename %in% meta_div$basename, ]"
   ]
  },
  {
   "cell_type": "code",
   "execution_count": 10,
   "metadata": {
    "vscode": {
     "languageId": "r"
    }
   },
   "outputs": [
    {
     "data": {
      "text/html": [
       "<style>\n",
       ".list-inline {list-style: none; margin:0; padding: 0}\n",
       ".list-inline>li {display: inline-block}\n",
       ".list-inline>li:not(:last-child)::after {content: \"\\00b7\"; padding: 0 .5ex}\n",
       "</style>\n",
       "<ol class=list-inline><li>513</li><li>3</li></ol>\n"
      ],
      "text/latex": [
       "\\begin{enumerate*}\n",
       "\\item 513\n",
       "\\item 3\n",
       "\\end{enumerate*}\n"
      ],
      "text/markdown": [
       "1. 513\n",
       "2. 3\n",
       "\n",
       "\n"
      ],
      "text/plain": [
       "[1] 513   3"
      ]
     },
     "metadata": {},
     "output_type": "display_data"
    }
   ],
   "source": [
    "dim(file_df_dedup_trb)"
   ]
  },
  {
   "cell_type": "code",
   "execution_count": 11,
   "metadata": {
    "vscode": {
     "languageId": "r"
    }
   },
   "outputs": [],
   "source": [
    "file_df_dedup_trb$Patient <- meta_div$Patient[match(file_df_dedup_trb$samplename, meta_div$basename)]"
   ]
  },
  {
   "cell_type": "code",
   "execution_count": 12,
   "metadata": {
    "vscode": {
     "languageId": "r"
    }
   },
   "outputs": [
    {
     "data": {
      "text/html": [
       "<style>\n",
       ".list-inline {list-style: none; margin:0; padding: 0}\n",
       ".list-inline>li {display: inline-block}\n",
       ".list-inline>li:not(:last-child)::after {content: \"\\00b7\"; padding: 0 .5ex}\n",
       "</style>\n",
       "<ol class=list-inline><li>513</li><li>4</li></ol>\n"
      ],
      "text/latex": [
       "\\begin{enumerate*}\n",
       "\\item 513\n",
       "\\item 4\n",
       "\\end{enumerate*}\n"
      ],
      "text/markdown": [
       "1. 513\n",
       "2. 4\n",
       "\n",
       "\n"
      ],
      "text/plain": [
       "[1] 513   4"
      ]
     },
     "metadata": {},
     "output_type": "display_data"
    }
   ],
   "source": [
    "dim(file_df_dedup_trb)"
   ]
  },
  {
   "cell_type": "code",
   "execution_count": 13,
   "metadata": {
    "vscode": {
     "languageId": "r"
    }
   },
   "outputs": [],
   "source": [
    "#replace - with _\n",
    "file_df_dedup_trb$Patient <- gsub(\"-\", \"_\", file_df_dedup_trb$Patient)"
   ]
  },
  {
   "cell_type": "code",
   "execution_count": 14,
   "metadata": {
    "vscode": {
     "languageId": "r"
    }
   },
   "outputs": [
    {
     "data": {
      "text/html": [
       "<table class=\"dataframe\">\n",
       "<caption>A data.frame: 6 x 4</caption>\n",
       "<thead>\n",
       "\t<tr><th></th><th scope=col>file_list</th><th scope=col>samplename</th><th scope=col>size</th><th scope=col>Patient</th></tr>\n",
       "\t<tr><th></th><th scope=col>&lt;chr&gt;</th><th scope=col>&lt;chr&gt;</th><th scope=col>&lt;dbl&gt;</th><th scope=col>&lt;chr&gt;</th></tr>\n",
       "</thead>\n",
       "<tbody>\n",
       "\t<tr><th scope=row>2</th><td>batch_reseq_24Feb2020/mixcr/clones/CLONES_TRBCHP_350-01-PBMC-DNA.txt</td><td>CHP_350-01-PBMC-DNA</td><td> 85631</td><td>CHP_350</td></tr>\n",
       "\t<tr><th scope=row>3</th><td>batch_reseq_24Feb2020/mixcr/clones/CLONES_TRBCHP_350-02-PBMC-DNA.txt</td><td>CHP_350-02-PBMC-DNA</td><td>143632</td><td>CHP_350</td></tr>\n",
       "\t<tr><th scope=row>4</th><td>batch_reseq_24Feb2020/mixcr/clones/CLONES_TRBCHP_350-03-PBMC-DNA.txt</td><td>CHP_350-03-PBMC-DNA</td><td>107190</td><td>CHP_350</td></tr>\n",
       "\t<tr><th scope=row>5</th><td>batch_reseq_24Feb2020/mixcr/clones/CLONES_TRBCHP_350-04-PBMC-DNA.txt</td><td>CHP_350-04-PBMC-DNA</td><td> 54188</td><td>CHP_350</td></tr>\n",
       "\t<tr><th scope=row>7</th><td>batch_reseq_24Feb2020/mixcr/clones/CLONES_TRBCHP_354-01-PBMC-DNA.txt</td><td>CHP_354-01-PBMC-DNA</td><td>  3728</td><td>CHP_354</td></tr>\n",
       "\t<tr><th scope=row>8</th><td>batch_reseq_24Feb2020/mixcr/clones/CLONES_TRBCHP_356-03-PBMC-DNA.txt</td><td>CHP_356-03-PBMC-DNA</td><td>  1573</td><td>CHP_356</td></tr>\n",
       "</tbody>\n",
       "</table>\n"
      ],
      "text/latex": [
       "A data.frame: 6 x 4\n",
       "\\begin{tabular}{r|llll}\n",
       "  & file\\_list & samplename & size & Patient\\\\\n",
       "  & <chr> & <chr> & <dbl> & <chr>\\\\\n",
       "\\hline\n",
       "\t2 & batch\\_reseq\\_24Feb2020/mixcr/clones/CLONES\\_TRBCHP\\_350-01-PBMC-DNA.txt & CHP\\_350-01-PBMC-DNA &  85631 & CHP\\_350\\\\\n",
       "\t3 & batch\\_reseq\\_24Feb2020/mixcr/clones/CLONES\\_TRBCHP\\_350-02-PBMC-DNA.txt & CHP\\_350-02-PBMC-DNA & 143632 & CHP\\_350\\\\\n",
       "\t4 & batch\\_reseq\\_24Feb2020/mixcr/clones/CLONES\\_TRBCHP\\_350-03-PBMC-DNA.txt & CHP\\_350-03-PBMC-DNA & 107190 & CHP\\_350\\\\\n",
       "\t5 & batch\\_reseq\\_24Feb2020/mixcr/clones/CLONES\\_TRBCHP\\_350-04-PBMC-DNA.txt & CHP\\_350-04-PBMC-DNA &  54188 & CHP\\_350\\\\\n",
       "\t7 & batch\\_reseq\\_24Feb2020/mixcr/clones/CLONES\\_TRBCHP\\_354-01-PBMC-DNA.txt & CHP\\_354-01-PBMC-DNA &   3728 & CHP\\_354\\\\\n",
       "\t8 & batch\\_reseq\\_24Feb2020/mixcr/clones/CLONES\\_TRBCHP\\_356-03-PBMC-DNA.txt & CHP\\_356-03-PBMC-DNA &   1573 & CHP\\_356\\\\\n",
       "\\end{tabular}\n"
      ],
      "text/markdown": [
       "\n",
       "A data.frame: 6 x 4\n",
       "\n",
       "| <!--/--> | file_list &lt;chr&gt; | samplename &lt;chr&gt; | size &lt;dbl&gt; | Patient &lt;chr&gt; |\n",
       "|---|---|---|---|---|\n",
       "| 2 | batch_reseq_24Feb2020/mixcr/clones/CLONES_TRBCHP_350-01-PBMC-DNA.txt | CHP_350-01-PBMC-DNA |  85631 | CHP_350 |\n",
       "| 3 | batch_reseq_24Feb2020/mixcr/clones/CLONES_TRBCHP_350-02-PBMC-DNA.txt | CHP_350-02-PBMC-DNA | 143632 | CHP_350 |\n",
       "| 4 | batch_reseq_24Feb2020/mixcr/clones/CLONES_TRBCHP_350-03-PBMC-DNA.txt | CHP_350-03-PBMC-DNA | 107190 | CHP_350 |\n",
       "| 5 | batch_reseq_24Feb2020/mixcr/clones/CLONES_TRBCHP_350-04-PBMC-DNA.txt | CHP_350-04-PBMC-DNA |  54188 | CHP_350 |\n",
       "| 7 | batch_reseq_24Feb2020/mixcr/clones/CLONES_TRBCHP_354-01-PBMC-DNA.txt | CHP_354-01-PBMC-DNA |   3728 | CHP_354 |\n",
       "| 8 | batch_reseq_24Feb2020/mixcr/clones/CLONES_TRBCHP_356-03-PBMC-DNA.txt | CHP_356-03-PBMC-DNA |   1573 | CHP_356 |\n",
       "\n"
      ],
      "text/plain": [
       "  file_list                                                           \n",
       "2 batch_reseq_24Feb2020/mixcr/clones/CLONES_TRBCHP_350-01-PBMC-DNA.txt\n",
       "3 batch_reseq_24Feb2020/mixcr/clones/CLONES_TRBCHP_350-02-PBMC-DNA.txt\n",
       "4 batch_reseq_24Feb2020/mixcr/clones/CLONES_TRBCHP_350-03-PBMC-DNA.txt\n",
       "5 batch_reseq_24Feb2020/mixcr/clones/CLONES_TRBCHP_350-04-PBMC-DNA.txt\n",
       "7 batch_reseq_24Feb2020/mixcr/clones/CLONES_TRBCHP_354-01-PBMC-DNA.txt\n",
       "8 batch_reseq_24Feb2020/mixcr/clones/CLONES_TRBCHP_356-03-PBMC-DNA.txt\n",
       "  samplename          size   Patient\n",
       "2 CHP_350-01-PBMC-DNA  85631 CHP_350\n",
       "3 CHP_350-02-PBMC-DNA 143632 CHP_350\n",
       "4 CHP_350-03-PBMC-DNA 107190 CHP_350\n",
       "5 CHP_350-04-PBMC-DNA  54188 CHP_350\n",
       "7 CHP_354-01-PBMC-DNA   3728 CHP_354\n",
       "8 CHP_356-03-PBMC-DNA   1573 CHP_356"
      ]
     },
     "metadata": {},
     "output_type": "display_data"
    }
   ],
   "source": [
    "head(file_df_dedup_trb)"
   ]
  },
  {
   "cell_type": "code",
   "execution_count": 15,
   "metadata": {
    "vscode": {
     "languageId": "r"
    }
   },
   "outputs": [
    {
     "data": {
      "text/html": [
       "<table class=\"dataframe\">\n",
       "<caption>A data.frame: 3 x 66</caption>\n",
       "<thead>\n",
       "\t<tr><th></th><th scope=col>sample_id</th><th scope=col>Patient</th><th scope=col>cycle</th><th scope=col>FOLD</th><th scope=col>ATC</th><th scope=col>Age</th><th scope=col>Disease_type</th><th scope=col>TE_fold</th><th scope=col>CD3</th><th scope=col>EM</th><th scope=col>...</th><th scope=col>estimated_Shannon</th><th scope=col>SE_Shannon</th><th scope=col>observed_Simpson</th><th scope=col>estimated_Simpson</th><th scope=col>SE_Simpson</th><th scope=col>basename</th><th scope=col>file</th><th scope=col>sampletype</th><th scope=col>Group</th><th scope=col>log10shann</th></tr>\n",
       "\t<tr><th></th><th scope=col>&lt;chr&gt;</th><th scope=col>&lt;chr&gt;</th><th scope=col>&lt;chr&gt;</th><th scope=col>&lt;dbl&gt;</th><th scope=col>&lt;dbl&gt;</th><th scope=col>&lt;dbl&gt;</th><th scope=col>&lt;chr&gt;</th><th scope=col>&lt;dbl&gt;</th><th scope=col>&lt;int&gt;</th><th scope=col>&lt;int&gt;</th><th scope=col>...</th><th scope=col>&lt;dbl&gt;</th><th scope=col>&lt;dbl&gt;</th><th scope=col>&lt;dbl&gt;</th><th scope=col>&lt;dbl&gt;</th><th scope=col>&lt;dbl&gt;</th><th scope=col>&lt;chr&gt;</th><th scope=col>&lt;chr&gt;</th><th scope=col>&lt;chr&gt;</th><th scope=col>&lt;chr&gt;</th><th scope=col>&lt;dbl&gt;</th></tr>\n",
       "</thead>\n",
       "<tbody>\n",
       "\t<tr><th scope=row>139</th><td>CHP_377_01</td><td>CHP_377</td><td>X01</td><td>0.9</td><td>277.95</td><td>18</td><td>HR ALL</td><td>0.9</td><td>93</td><td> 0</td><td>...</td><td>   NA</td><td>   NA</td><td>   NA</td><td>   NA</td><td>   NA</td><td>CHP_377-01-cfDNA</td><td>NA                                                                             </td><td>cfDNA</td><td>CHP</td><td>        NA</td></tr>\n",
       "\t<tr><th scope=row>140</th><td>CHP_377_02</td><td>CHP_377</td><td>X02</td><td>0.0</td><td>  0.00</td><td>18</td><td>HR ALL</td><td>0.0</td><td> 0</td><td>NA</td><td>...</td><td>2.731</td><td>0.036</td><td>2.308</td><td>2.308</td><td>0.022</td><td>CHP_377-02_cfDNA</td><td>remaining_batch_4_cfDNA_15April2021/mixcr/clones/CLONES_TRBCHP_377-02_cfDNA.txt</td><td>cfDNA</td><td>CHP</td><td>0.43600354</td></tr>\n",
       "\t<tr><th scope=row>141</th><td>CHP_377_03</td><td>CHP_377</td><td>X03</td><td>0.0</td><td>  0.00</td><td>18</td><td>HR ALL</td><td>0.0</td><td> 0</td><td>NA</td><td>...</td><td>1.037</td><td>0.005</td><td>1.012</td><td>1.012</td><td>0.002</td><td>CHP_377-03_cfDNA</td><td>remaining_batch_4_cfDNA_15April2021/mixcr/clones/CLONES_TRBCHP_377-03_cfDNA.txt</td><td>cfDNA</td><td>CHP</td><td>0.01535976</td></tr>\n",
       "</tbody>\n",
       "</table>\n"
      ],
      "text/latex": [
       "A data.frame: 3 x 66\n",
       "\\begin{tabular}{r|lllllllllllllllllllll}\n",
       "  & sample\\_id & Patient & cycle & FOLD & ATC & Age & Disease\\_type & TE\\_fold & CD3 & EM & ... & estimated\\_Shannon & SE\\_Shannon & observed\\_Simpson & estimated\\_Simpson & SE\\_Simpson & basename & file & sampletype & Group & log10shann\\\\\n",
       "  & <chr> & <chr> & <chr> & <dbl> & <dbl> & <dbl> & <chr> & <dbl> & <int> & <int> & ... & <dbl> & <dbl> & <dbl> & <dbl> & <dbl> & <chr> & <chr> & <chr> & <chr> & <dbl>\\\\\n",
       "\\hline\n",
       "\t139 & CHP\\_377\\_01 & CHP\\_377 & X01 & 0.9 & 277.95 & 18 & HR ALL & 0.9 & 93 &  0 & ... &    NA &    NA &    NA &    NA &    NA & CHP\\_377-01-cfDNA & NA                                                                              & cfDNA & CHP &         NA\\\\\n",
       "\t140 & CHP\\_377\\_02 & CHP\\_377 & X02 & 0.0 &   0.00 & 18 & HR ALL & 0.0 &  0 & NA & ... & 2.731 & 0.036 & 2.308 & 2.308 & 0.022 & CHP\\_377-02\\_cfDNA & remaining\\_batch\\_4\\_cfDNA\\_15April2021/mixcr/clones/CLONES\\_TRBCHP\\_377-02\\_cfDNA.txt & cfDNA & CHP & 0.43600354\\\\\n",
       "\t141 & CHP\\_377\\_03 & CHP\\_377 & X03 & 0.0 &   0.00 & 18 & HR ALL & 0.0 &  0 & NA & ... & 1.037 & 0.005 & 1.012 & 1.012 & 0.002 & CHP\\_377-03\\_cfDNA & remaining\\_batch\\_4\\_cfDNA\\_15April2021/mixcr/clones/CLONES\\_TRBCHP\\_377-03\\_cfDNA.txt & cfDNA & CHP & 0.01535976\\\\\n",
       "\\end{tabular}\n"
      ],
      "text/markdown": [
       "\n",
       "A data.frame: 3 x 66\n",
       "\n",
       "| <!--/--> | sample_id &lt;chr&gt; | Patient &lt;chr&gt; | cycle &lt;chr&gt; | FOLD &lt;dbl&gt; | ATC &lt;dbl&gt; | Age &lt;dbl&gt; | Disease_type &lt;chr&gt; | TE_fold &lt;dbl&gt; | CD3 &lt;int&gt; | EM &lt;int&gt; | ... ... | estimated_Shannon &lt;dbl&gt; | SE_Shannon &lt;dbl&gt; | observed_Simpson &lt;dbl&gt; | estimated_Simpson &lt;dbl&gt; | SE_Simpson &lt;dbl&gt; | basename &lt;chr&gt; | file &lt;chr&gt; | sampletype &lt;chr&gt; | Group &lt;chr&gt; | log10shann &lt;dbl&gt; |\n",
       "|---|---|---|---|---|---|---|---|---|---|---|---|---|---|---|---|---|---|---|---|---|---|\n",
       "| 139 | CHP_377_01 | CHP_377 | X01 | 0.9 | 277.95 | 18 | HR ALL | 0.9 | 93 |  0 | ... |    NA |    NA |    NA |    NA |    NA | CHP_377-01-cfDNA | NA                                                                              | cfDNA | CHP |         NA |\n",
       "| 140 | CHP_377_02 | CHP_377 | X02 | 0.0 |   0.00 | 18 | HR ALL | 0.0 |  0 | NA | ... | 2.731 | 0.036 | 2.308 | 2.308 | 0.022 | CHP_377-02_cfDNA | remaining_batch_4_cfDNA_15April2021/mixcr/clones/CLONES_TRBCHP_377-02_cfDNA.txt | cfDNA | CHP | 0.43600354 |\n",
       "| 141 | CHP_377_03 | CHP_377 | X03 | 0.0 |   0.00 | 18 | HR ALL | 0.0 |  0 | NA | ... | 1.037 | 0.005 | 1.012 | 1.012 | 0.002 | CHP_377-03_cfDNA | remaining_batch_4_cfDNA_15April2021/mixcr/clones/CLONES_TRBCHP_377-03_cfDNA.txt | cfDNA | CHP | 0.01535976 |\n",
       "\n"
      ],
      "text/plain": [
       "    sample_id  Patient cycle FOLD ATC    Age Disease_type TE_fold CD3 EM ...\n",
       "139 CHP_377_01 CHP_377 X01   0.9  277.95 18  HR ALL       0.9     93   0 ...\n",
       "140 CHP_377_02 CHP_377 X02   0.0    0.00 18  HR ALL       0.0      0  NA ...\n",
       "141 CHP_377_03 CHP_377 X03   0.0    0.00 18  HR ALL       0.0      0  NA ...\n",
       "    estimated_Shannon SE_Shannon observed_Simpson estimated_Simpson SE_Simpson\n",
       "139    NA                NA         NA               NA                NA     \n",
       "140 2.731             0.036      2.308            2.308             0.022     \n",
       "141 1.037             0.005      1.012            1.012             0.002     \n",
       "    basename        \n",
       "139 CHP_377-01-cfDNA\n",
       "140 CHP_377-02_cfDNA\n",
       "141 CHP_377-03_cfDNA\n",
       "    file                                                                           \n",
       "139 NA                                                                             \n",
       "140 remaining_batch_4_cfDNA_15April2021/mixcr/clones/CLONES_TRBCHP_377-02_cfDNA.txt\n",
       "141 remaining_batch_4_cfDNA_15April2021/mixcr/clones/CLONES_TRBCHP_377-03_cfDNA.txt\n",
       "    sampletype Group log10shann\n",
       "139 cfDNA      CHP           NA\n",
       "140 cfDNA      CHP   0.43600354\n",
       "141 cfDNA      CHP   0.01535976"
      ]
     },
     "metadata": {},
     "output_type": "display_data"
    }
   ],
   "source": [
    "meta_div[ grepl(\"CHP_377\", meta_div$basename), ]"
   ]
  },
  {
   "cell_type": "code",
   "execution_count": 16,
   "metadata": {
    "vscode": {
     "languageId": "r"
    }
   },
   "outputs": [
    {
     "data": {
      "text/html": [
       "<table class=\"dataframe\">\n",
       "<caption>A data.frame: 9 x 4</caption>\n",
       "<thead>\n",
       "\t<tr><th></th><th scope=col>file_list</th><th scope=col>samplename</th><th scope=col>size</th><th scope=col>Patient</th></tr>\n",
       "\t<tr><th></th><th scope=col>&lt;chr&gt;</th><th scope=col>&lt;chr&gt;</th><th scope=col>&lt;dbl&gt;</th><th scope=col>&lt;chr&gt;</th></tr>\n",
       "</thead>\n",
       "<tbody>\n",
       "\t<tr><th scope=row>17</th><td>batch1_cfDNA_30Jan2020/mixcr/clones/CLONES_TRBCHP_347-01-cfDNA.txt             </td><td>CHP_347-01-cfDNA   </td><td>1825</td><td>CHP_347</td></tr>\n",
       "\t<tr><th scope=row>37</th><td>batch1_cfDNA_30Jan2020/mixcr/clones/CLONES_TRBCHP_377-01-cfDNA.txt             </td><td>CHP_377-01-cfDNA   </td><td> 965</td><td>CHP_377</td></tr>\n",
       "\t<tr><th scope=row>307</th><td>batch5_cfDNA_25Jun2020/mixcr/clones/CLONES_TRBCHP_366-05_cfDNA.txt             </td><td>CHP_366-05_cfDNA   </td><td> 744</td><td>CHP_366</td></tr>\n",
       "\t<tr><th scope=row>342</th><td>batch7_cfDNA_29Jun2020/mixcr/clones/CLONES_TRBCHP_381-05_cfDNA.txt             </td><td>CHP_381-05_cfDNA   </td><td>1229</td><td>CHP_381</td></tr>\n",
       "\t<tr><th scope=row>350</th><td>batch7_cfDNA_29Jun2020/mixcr/clones/CLONES_TRBCHP_391-02_cfDNA.txt             </td><td>CHP_391-02_cfDNA   </td><td> 811</td><td>CHP_391</td></tr>\n",
       "\t<tr><th scope=row>351</th><td>batch7_cfDNA_29Jun2020/mixcr/clones/CLONES_TRBCHP_392-01_cfDNA.txt             </td><td>CHP_392-01_cfDNA   </td><td>1289</td><td>CHP_392</td></tr>\n",
       "\t<tr><th scope=row>359</th><td>batch7_cfDNA_29Jun2020/mixcr/clones/CLONES_TRBCHP_398-01_cfDNA.txt             </td><td>CHP_398-01_cfDNA   </td><td>2330</td><td>CHP_398</td></tr>\n",
       "\t<tr><th scope=row>409</th><td>batchFFPE_3Apr2020/mixcr/clones/CLONES_TRBCHP_419-FFPE-DNA_S2.txt              </td><td>CHP_419-FFPE-DNA_S2</td><td> 810</td><td>CHP_419</td></tr>\n",
       "\t<tr><th scope=row>1148</th><td>remaining_batch_2_cfDNA_15April2021/mixcr/clones/CLONES_TRBCHP_401-03_cfDNA.txt</td><td>CHP_401-03_cfDNA   </td><td> 731</td><td>CHP_401</td></tr>\n",
       "</tbody>\n",
       "</table>\n"
      ],
      "text/latex": [
       "A data.frame: 9 x 4\n",
       "\\begin{tabular}{r|llll}\n",
       "  & file\\_list & samplename & size & Patient\\\\\n",
       "  & <chr> & <chr> & <dbl> & <chr>\\\\\n",
       "\\hline\n",
       "\t17 & batch1\\_cfDNA\\_30Jan2020/mixcr/clones/CLONES\\_TRBCHP\\_347-01-cfDNA.txt              & CHP\\_347-01-cfDNA    & 1825 & CHP\\_347\\\\\n",
       "\t37 & batch1\\_cfDNA\\_30Jan2020/mixcr/clones/CLONES\\_TRBCHP\\_377-01-cfDNA.txt              & CHP\\_377-01-cfDNA    &  965 & CHP\\_377\\\\\n",
       "\t307 & batch5\\_cfDNA\\_25Jun2020/mixcr/clones/CLONES\\_TRBCHP\\_366-05\\_cfDNA.txt              & CHP\\_366-05\\_cfDNA    &  744 & CHP\\_366\\\\\n",
       "\t342 & batch7\\_cfDNA\\_29Jun2020/mixcr/clones/CLONES\\_TRBCHP\\_381-05\\_cfDNA.txt              & CHP\\_381-05\\_cfDNA    & 1229 & CHP\\_381\\\\\n",
       "\t350 & batch7\\_cfDNA\\_29Jun2020/mixcr/clones/CLONES\\_TRBCHP\\_391-02\\_cfDNA.txt              & CHP\\_391-02\\_cfDNA    &  811 & CHP\\_391\\\\\n",
       "\t351 & batch7\\_cfDNA\\_29Jun2020/mixcr/clones/CLONES\\_TRBCHP\\_392-01\\_cfDNA.txt              & CHP\\_392-01\\_cfDNA    & 1289 & CHP\\_392\\\\\n",
       "\t359 & batch7\\_cfDNA\\_29Jun2020/mixcr/clones/CLONES\\_TRBCHP\\_398-01\\_cfDNA.txt              & CHP\\_398-01\\_cfDNA    & 2330 & CHP\\_398\\\\\n",
       "\t409 & batchFFPE\\_3Apr2020/mixcr/clones/CLONES\\_TRBCHP\\_419-FFPE-DNA\\_S2.txt               & CHP\\_419-FFPE-DNA\\_S2 &  810 & CHP\\_419\\\\\n",
       "\t1148 & remaining\\_batch\\_2\\_cfDNA\\_15April2021/mixcr/clones/CLONES\\_TRBCHP\\_401-03\\_cfDNA.txt & CHP\\_401-03\\_cfDNA    &  731 & CHP\\_401\\\\\n",
       "\\end{tabular}\n"
      ],
      "text/markdown": [
       "\n",
       "A data.frame: 9 x 4\n",
       "\n",
       "| <!--/--> | file_list &lt;chr&gt; | samplename &lt;chr&gt; | size &lt;dbl&gt; | Patient &lt;chr&gt; |\n",
       "|---|---|---|---|---|\n",
       "| 17 | batch1_cfDNA_30Jan2020/mixcr/clones/CLONES_TRBCHP_347-01-cfDNA.txt              | CHP_347-01-cfDNA    | 1825 | CHP_347 |\n",
       "| 37 | batch1_cfDNA_30Jan2020/mixcr/clones/CLONES_TRBCHP_377-01-cfDNA.txt              | CHP_377-01-cfDNA    |  965 | CHP_377 |\n",
       "| 307 | batch5_cfDNA_25Jun2020/mixcr/clones/CLONES_TRBCHP_366-05_cfDNA.txt              | CHP_366-05_cfDNA    |  744 | CHP_366 |\n",
       "| 342 | batch7_cfDNA_29Jun2020/mixcr/clones/CLONES_TRBCHP_381-05_cfDNA.txt              | CHP_381-05_cfDNA    | 1229 | CHP_381 |\n",
       "| 350 | batch7_cfDNA_29Jun2020/mixcr/clones/CLONES_TRBCHP_391-02_cfDNA.txt              | CHP_391-02_cfDNA    |  811 | CHP_391 |\n",
       "| 351 | batch7_cfDNA_29Jun2020/mixcr/clones/CLONES_TRBCHP_392-01_cfDNA.txt              | CHP_392-01_cfDNA    | 1289 | CHP_392 |\n",
       "| 359 | batch7_cfDNA_29Jun2020/mixcr/clones/CLONES_TRBCHP_398-01_cfDNA.txt              | CHP_398-01_cfDNA    | 2330 | CHP_398 |\n",
       "| 409 | batchFFPE_3Apr2020/mixcr/clones/CLONES_TRBCHP_419-FFPE-DNA_S2.txt               | CHP_419-FFPE-DNA_S2 |  810 | CHP_419 |\n",
       "| 1148 | remaining_batch_2_cfDNA_15April2021/mixcr/clones/CLONES_TRBCHP_401-03_cfDNA.txt | CHP_401-03_cfDNA    |  731 | CHP_401 |\n",
       "\n"
      ],
      "text/plain": [
       "     file_list                                                                      \n",
       "17   batch1_cfDNA_30Jan2020/mixcr/clones/CLONES_TRBCHP_347-01-cfDNA.txt             \n",
       "37   batch1_cfDNA_30Jan2020/mixcr/clones/CLONES_TRBCHP_377-01-cfDNA.txt             \n",
       "307  batch5_cfDNA_25Jun2020/mixcr/clones/CLONES_TRBCHP_366-05_cfDNA.txt             \n",
       "342  batch7_cfDNA_29Jun2020/mixcr/clones/CLONES_TRBCHP_381-05_cfDNA.txt             \n",
       "350  batch7_cfDNA_29Jun2020/mixcr/clones/CLONES_TRBCHP_391-02_cfDNA.txt             \n",
       "351  batch7_cfDNA_29Jun2020/mixcr/clones/CLONES_TRBCHP_392-01_cfDNA.txt             \n",
       "359  batch7_cfDNA_29Jun2020/mixcr/clones/CLONES_TRBCHP_398-01_cfDNA.txt             \n",
       "409  batchFFPE_3Apr2020/mixcr/clones/CLONES_TRBCHP_419-FFPE-DNA_S2.txt              \n",
       "1148 remaining_batch_2_cfDNA_15April2021/mixcr/clones/CLONES_TRBCHP_401-03_cfDNA.txt\n",
       "     samplename          size Patient\n",
       "17   CHP_347-01-cfDNA    1825 CHP_347\n",
       "37   CHP_377-01-cfDNA     965 CHP_377\n",
       "307  CHP_366-05_cfDNA     744 CHP_366\n",
       "342  CHP_381-05_cfDNA    1229 CHP_381\n",
       "350  CHP_391-02_cfDNA     811 CHP_391\n",
       "351  CHP_392-01_cfDNA    1289 CHP_392\n",
       "359  CHP_398-01_cfDNA    2330 CHP_398\n",
       "409  CHP_419-FFPE-DNA_S2  810 CHP_419\n",
       "1148 CHP_401-03_cfDNA     731 CHP_401"
      ]
     },
     "metadata": {},
     "output_type": "display_data"
    }
   ],
   "source": [
    "file_df_dedup_trb[ !file_df_dedup_trb$file_list %in% meta_div$file, ] # 9 files with no productive cdr3s"
   ]
  },
  {
   "cell_type": "code",
   "execution_count": 17,
   "metadata": {
    "vscode": {
     "languageId": "r"
    }
   },
   "outputs": [
    {
     "data": {
      "text/html": [
       "<table class=\"dataframe\">\n",
       "<caption>A data.frame: 6 x 4</caption>\n",
       "<thead>\n",
       "\t<tr><th></th><th scope=col>file_list</th><th scope=col>samplename</th><th scope=col>size</th><th scope=col>Patient</th></tr>\n",
       "\t<tr><th></th><th scope=col>&lt;chr&gt;</th><th scope=col>&lt;chr&gt;</th><th scope=col>&lt;dbl&gt;</th><th scope=col>&lt;chr&gt;</th></tr>\n",
       "</thead>\n",
       "<tbody>\n",
       "\t<tr><th scope=row>2</th><td>batch_reseq_24Feb2020/mixcr/clones/CLONES_TRBCHP_350-01-PBMC-DNA.txt</td><td>CHP_350-01-PBMC-DNA</td><td> 85631</td><td>CHP_350</td></tr>\n",
       "\t<tr><th scope=row>3</th><td>batch_reseq_24Feb2020/mixcr/clones/CLONES_TRBCHP_350-02-PBMC-DNA.txt</td><td>CHP_350-02-PBMC-DNA</td><td>143632</td><td>CHP_350</td></tr>\n",
       "\t<tr><th scope=row>4</th><td>batch_reseq_24Feb2020/mixcr/clones/CLONES_TRBCHP_350-03-PBMC-DNA.txt</td><td>CHP_350-03-PBMC-DNA</td><td>107190</td><td>CHP_350</td></tr>\n",
       "\t<tr><th scope=row>5</th><td>batch_reseq_24Feb2020/mixcr/clones/CLONES_TRBCHP_350-04-PBMC-DNA.txt</td><td>CHP_350-04-PBMC-DNA</td><td> 54188</td><td>CHP_350</td></tr>\n",
       "\t<tr><th scope=row>7</th><td>batch_reseq_24Feb2020/mixcr/clones/CLONES_TRBCHP_354-01-PBMC-DNA.txt</td><td>CHP_354-01-PBMC-DNA</td><td>  3728</td><td>CHP_354</td></tr>\n",
       "\t<tr><th scope=row>8</th><td>batch_reseq_24Feb2020/mixcr/clones/CLONES_TRBCHP_356-03-PBMC-DNA.txt</td><td>CHP_356-03-PBMC-DNA</td><td>  1573</td><td>CHP_356</td></tr>\n",
       "</tbody>\n",
       "</table>\n"
      ],
      "text/latex": [
       "A data.frame: 6 x 4\n",
       "\\begin{tabular}{r|llll}\n",
       "  & file\\_list & samplename & size & Patient\\\\\n",
       "  & <chr> & <chr> & <dbl> & <chr>\\\\\n",
       "\\hline\n",
       "\t2 & batch\\_reseq\\_24Feb2020/mixcr/clones/CLONES\\_TRBCHP\\_350-01-PBMC-DNA.txt & CHP\\_350-01-PBMC-DNA &  85631 & CHP\\_350\\\\\n",
       "\t3 & batch\\_reseq\\_24Feb2020/mixcr/clones/CLONES\\_TRBCHP\\_350-02-PBMC-DNA.txt & CHP\\_350-02-PBMC-DNA & 143632 & CHP\\_350\\\\\n",
       "\t4 & batch\\_reseq\\_24Feb2020/mixcr/clones/CLONES\\_TRBCHP\\_350-03-PBMC-DNA.txt & CHP\\_350-03-PBMC-DNA & 107190 & CHP\\_350\\\\\n",
       "\t5 & batch\\_reseq\\_24Feb2020/mixcr/clones/CLONES\\_TRBCHP\\_350-04-PBMC-DNA.txt & CHP\\_350-04-PBMC-DNA &  54188 & CHP\\_350\\\\\n",
       "\t7 & batch\\_reseq\\_24Feb2020/mixcr/clones/CLONES\\_TRBCHP\\_354-01-PBMC-DNA.txt & CHP\\_354-01-PBMC-DNA &   3728 & CHP\\_354\\\\\n",
       "\t8 & batch\\_reseq\\_24Feb2020/mixcr/clones/CLONES\\_TRBCHP\\_356-03-PBMC-DNA.txt & CHP\\_356-03-PBMC-DNA &   1573 & CHP\\_356\\\\\n",
       "\\end{tabular}\n"
      ],
      "text/markdown": [
       "\n",
       "A data.frame: 6 x 4\n",
       "\n",
       "| <!--/--> | file_list &lt;chr&gt; | samplename &lt;chr&gt; | size &lt;dbl&gt; | Patient &lt;chr&gt; |\n",
       "|---|---|---|---|---|\n",
       "| 2 | batch_reseq_24Feb2020/mixcr/clones/CLONES_TRBCHP_350-01-PBMC-DNA.txt | CHP_350-01-PBMC-DNA |  85631 | CHP_350 |\n",
       "| 3 | batch_reseq_24Feb2020/mixcr/clones/CLONES_TRBCHP_350-02-PBMC-DNA.txt | CHP_350-02-PBMC-DNA | 143632 | CHP_350 |\n",
       "| 4 | batch_reseq_24Feb2020/mixcr/clones/CLONES_TRBCHP_350-03-PBMC-DNA.txt | CHP_350-03-PBMC-DNA | 107190 | CHP_350 |\n",
       "| 5 | batch_reseq_24Feb2020/mixcr/clones/CLONES_TRBCHP_350-04-PBMC-DNA.txt | CHP_350-04-PBMC-DNA |  54188 | CHP_350 |\n",
       "| 7 | batch_reseq_24Feb2020/mixcr/clones/CLONES_TRBCHP_354-01-PBMC-DNA.txt | CHP_354-01-PBMC-DNA |   3728 | CHP_354 |\n",
       "| 8 | batch_reseq_24Feb2020/mixcr/clones/CLONES_TRBCHP_356-03-PBMC-DNA.txt | CHP_356-03-PBMC-DNA |   1573 | CHP_356 |\n",
       "\n"
      ],
      "text/plain": [
       "  file_list                                                           \n",
       "2 batch_reseq_24Feb2020/mixcr/clones/CLONES_TRBCHP_350-01-PBMC-DNA.txt\n",
       "3 batch_reseq_24Feb2020/mixcr/clones/CLONES_TRBCHP_350-02-PBMC-DNA.txt\n",
       "4 batch_reseq_24Feb2020/mixcr/clones/CLONES_TRBCHP_350-03-PBMC-DNA.txt\n",
       "5 batch_reseq_24Feb2020/mixcr/clones/CLONES_TRBCHP_350-04-PBMC-DNA.txt\n",
       "7 batch_reseq_24Feb2020/mixcr/clones/CLONES_TRBCHP_354-01-PBMC-DNA.txt\n",
       "8 batch_reseq_24Feb2020/mixcr/clones/CLONES_TRBCHP_356-03-PBMC-DNA.txt\n",
       "  samplename          size   Patient\n",
       "2 CHP_350-01-PBMC-DNA  85631 CHP_350\n",
       "3 CHP_350-02-PBMC-DNA 143632 CHP_350\n",
       "4 CHP_350-03-PBMC-DNA 107190 CHP_350\n",
       "5 CHP_350-04-PBMC-DNA  54188 CHP_350\n",
       "7 CHP_354-01-PBMC-DNA   3728 CHP_354\n",
       "8 CHP_356-03-PBMC-DNA   1573 CHP_356"
      ]
     },
     "metadata": {},
     "output_type": "display_data"
    }
   ],
   "source": [
    "head(file_df_dedup_trb)"
   ]
  },
  {
   "cell_type": "code",
   "execution_count": 18,
   "metadata": {
    "vscode": {
     "languageId": "r"
    }
   },
   "outputs": [
    {
     "data": {
      "text/html": [
       "'/Users/anabbi/Desktop/H4H/INTERCEPT/NextSeq/'"
      ],
      "text/latex": [
       "'/Users/anabbi/Desktop/H4H/INTERCEPT/NextSeq/'"
      ],
      "text/markdown": [
       "'/Users/anabbi/Desktop/H4H/INTERCEPT/NextSeq/'"
      ],
      "text/plain": [
       "[1] \"/Users/anabbi/Desktop/H4H/INTERCEPT/NextSeq/\""
      ]
     },
     "metadata": {},
     "output_type": "display_data"
    }
   ],
   "source": [
    "h4hpath"
   ]
  },
  {
   "cell_type": "code",
   "execution_count": 34,
   "metadata": {
    "vscode": {
     "languageId": "r"
    }
   },
   "outputs": [],
   "source": [
    "int_all_list <- list()\n",
    "\n",
    "for (p in unique(file_df_dedup_trb$Patient)) {\n",
    "    mypatient <- file_df_dedup_trb[file_df_dedup_trb$Patient == p, ]\n",
    "\n",
    "    myplist <- list()\n",
    "    for (i in 1:nrow(mypatient)) {\n",
    "        onefle <- read.table(paste0(h4hpath, mypatient$file_list[i]), sep = \"\\t\", header = TRUE, stringsAsFactors = F)\n",
    "        # Remove non-productive\n",
    "        onefle <- onefle[!grepl(\"_\", onefle$aaSeqCDR3), ]\n",
    "        onefle <- onefle[!grepl(\"[*]\", onefle$aaSeqCDR3), ]\n",
    "        onefle$CDR3b <- onefle$aaSeqCDR3\n",
    "        # next if the file has no productive cdr3\n",
    "        if (nrow(onefle) == 0) {\n",
    "            next\n",
    "        }\n",
    "        # remove scores\n",
    "        onefle$TRBV <- gsub(\"[*]0.*\", \"\", onefle$allVHitsWithScore)\n",
    "        onefle$TRBJ <- gsub(\"[*]0.*\", \"\", onefle$allJHitsWithScore)\n",
    "        # remove extra long cdr3s\n",
    "        onefle <- onefle[nchar(onefle$aaSeqCDR3) <= 25, ]\n",
    "        # next if the file has no productive cdr3\n",
    "        if (nrow(onefle) == 0) {\n",
    "            next\n",
    "        }\n",
    "        onefle$count <- onefle$cloneCount\n",
    "        onefle$clonefraction <- onefle$cloneFraction\n",
    "        onefle$file <- paste0(h4hpath, mypatient$file_list[i])\n",
    "        onefle$samplename <- mypatient$samplename[i]\n",
    "\n",
    "        myplist[length(myplist) + 1] <- list(onefle[, c(\n",
    "            \"CDR3b\", \"TRBV\", \"TRBJ\", \"samplename\", \"nSeqCDR3\",\n",
    "            \"count\", \"clonefraction\", \"file\"\n",
    "        )])\n",
    "    }\n",
    "    gliph_input <- do.call(\"rbind\", myplist)\n",
    "\n",
    "    int_all_list[length(int_all_list) + 1] <- list(gliph_input)\n",
    "}"
   ]
  },
  {
   "cell_type": "code",
   "execution_count": 35,
   "metadata": {
    "vscode": {
     "languageId": "r"
    }
   },
   "outputs": [],
   "source": [
    "int_all <- do.call(\"rbind\", int_all_list)"
   ]
  },
  {
   "cell_type": "code",
   "execution_count": 36,
   "metadata": {
    "vscode": {
     "languageId": "r"
    }
   },
   "outputs": [
    {
     "data": {
      "text/html": [
       "<table class=\"dataframe\">\n",
       "<caption>A data.frame: 6 x 8</caption>\n",
       "<thead>\n",
       "\t<tr><th></th><th scope=col>CDR3b</th><th scope=col>TRBV</th><th scope=col>TRBJ</th><th scope=col>samplename</th><th scope=col>nSeqCDR3</th><th scope=col>count</th><th scope=col>clonefraction</th><th scope=col>file</th></tr>\n",
       "\t<tr><th></th><th scope=col>&lt;chr&gt;</th><th scope=col>&lt;chr&gt;</th><th scope=col>&lt;chr&gt;</th><th scope=col>&lt;chr&gt;</th><th scope=col>&lt;chr&gt;</th><th scope=col>&lt;int&gt;</th><th scope=col>&lt;dbl&gt;</th><th scope=col>&lt;chr&gt;</th></tr>\n",
       "</thead>\n",
       "<tbody>\n",
       "\t<tr><th scope=row>101194</th><td>CASSSSGGDYGYTF </td><td>TRBV11-2</td><td>TRBJ1-2</td><td>CHP_406-03_PBMC-DNA</td><td>TGTGCCAGCAGCTCCTCGGGGGGAGACTATGGCTACACCTTC   </td><td>  2</td><td>7.367405e-06</td><td>/Users/anabbi/Desktop/H4H/INTERCEPT/NextSeq/remaining_batch_3_4May2021/mixcr/clones/CLONES_TRBCHP_406-03_PBMC-DNA.txt      </td></tr>\n",
       "\t<tr><th scope=row>102161</th><td>CASSQETGLAFY   </td><td>TRBV4-2 </td><td>TRBJ1-1</td><td>CHP_406-03_PBMC-DNA</td><td>TGTGCTAGCAGCCAGGAGACGGGGCTAGCTTTCTAT         </td><td>  2</td><td>7.367405e-06</td><td>/Users/anabbi/Desktop/H4H/INTERCEPT/NextSeq/remaining_batch_3_4May2021/mixcr/clones/CLONES_TRBCHP_406-03_PBMC-DNA.txt      </td></tr>\n",
       "\t<tr><th scope=row>103161</th><td>CAWDRETEAFF    </td><td>TRBV30  </td><td>TRBJ1-1</td><td>CHP_406-03_PBMC-DNA</td><td>TGTGCCTGGGACAGGGAAACTGAAGCTTTCTTT            </td><td>  2</td><td>7.367405e-06</td><td>/Users/anabbi/Desktop/H4H/INTERCEPT/NextSeq/remaining_batch_3_4May2021/mixcr/clones/CLONES_TRBCHP_406-03_PBMC-DNA.txt      </td></tr>\n",
       "\t<tr><th scope=row>105153</th><td>CSAPGQGRTMGGYTF</td><td>TRBV20-1</td><td>TRBJ1-2</td><td>CHP_406-03_PBMC-DNA</td><td>TGCAGTGCCCCCGGACAGGGGAGAACTATGGGTGGCTACACCTTC</td><td>  1</td><td>3.683703e-06</td><td>/Users/anabbi/Desktop/H4H/INTERCEPT/NextSeq/remaining_batch_3_4May2021/mixcr/clones/CLONES_TRBCHP_406-03_PBMC-DNA.txt      </td></tr>\n",
       "\t<tr><th scope=row>21506</th><td>CAWSVARRNTEAFF </td><td>TRBV30  </td><td>TRBJ1-1</td><td>CHP_329-04_cfDNA   </td><td>TGTGCCTGGAGTGTCGCCAGAAGGAACACTGAAGCTTTCTTT   </td><td>317</td><td>4.012658e-01</td><td>/Users/anabbi/Desktop/H4H/INTERCEPT/NextSeq/remaining_batch_5_cfDNA_22April2021/mixcr/clones/CLONES_TRBCHP_329-04_cfDNA.txt</td></tr>\n",
       "\t<tr><th scope=row>31386</th><td>CASSLSGGNYGYTF </td><td>TRBV5-4 </td><td>TRBJ1-2</td><td>CHP_329-04_cfDNA   </td><td>TGTGCCAGCAGCTTGTCAGGGGGGAACTATGGCTACACCTTC   </td><td>  1</td><td>1.265823e-03</td><td>/Users/anabbi/Desktop/H4H/INTERCEPT/NextSeq/remaining_batch_5_cfDNA_22April2021/mixcr/clones/CLONES_TRBCHP_329-04_cfDNA.txt</td></tr>\n",
       "</tbody>\n",
       "</table>\n"
      ],
      "text/latex": [
       "A data.frame: 6 x 8\n",
       "\\begin{tabular}{r|llllllll}\n",
       "  & CDR3b & TRBV & TRBJ & samplename & nSeqCDR3 & count & clonefraction & file\\\\\n",
       "  & <chr> & <chr> & <chr> & <chr> & <chr> & <int> & <dbl> & <chr>\\\\\n",
       "\\hline\n",
       "\t101194 & CASSSSGGDYGYTF  & TRBV11-2 & TRBJ1-2 & CHP\\_406-03\\_PBMC-DNA & TGTGCCAGCAGCTCCTCGGGGGGAGACTATGGCTACACCTTC    &   2 & 7.367405e-06 & /Users/anabbi/Desktop/H4H/INTERCEPT/NextSeq/remaining\\_batch\\_3\\_4May2021/mixcr/clones/CLONES\\_TRBCHP\\_406-03\\_PBMC-DNA.txt      \\\\\n",
       "\t102161 & CASSQETGLAFY    & TRBV4-2  & TRBJ1-1 & CHP\\_406-03\\_PBMC-DNA & TGTGCTAGCAGCCAGGAGACGGGGCTAGCTTTCTAT          &   2 & 7.367405e-06 & /Users/anabbi/Desktop/H4H/INTERCEPT/NextSeq/remaining\\_batch\\_3\\_4May2021/mixcr/clones/CLONES\\_TRBCHP\\_406-03\\_PBMC-DNA.txt      \\\\\n",
       "\t103161 & CAWDRETEAFF     & TRBV30   & TRBJ1-1 & CHP\\_406-03\\_PBMC-DNA & TGTGCCTGGGACAGGGAAACTGAAGCTTTCTTT             &   2 & 7.367405e-06 & /Users/anabbi/Desktop/H4H/INTERCEPT/NextSeq/remaining\\_batch\\_3\\_4May2021/mixcr/clones/CLONES\\_TRBCHP\\_406-03\\_PBMC-DNA.txt      \\\\\n",
       "\t105153 & CSAPGQGRTMGGYTF & TRBV20-1 & TRBJ1-2 & CHP\\_406-03\\_PBMC-DNA & TGCAGTGCCCCCGGACAGGGGAGAACTATGGGTGGCTACACCTTC &   1 & 3.683703e-06 & /Users/anabbi/Desktop/H4H/INTERCEPT/NextSeq/remaining\\_batch\\_3\\_4May2021/mixcr/clones/CLONES\\_TRBCHP\\_406-03\\_PBMC-DNA.txt      \\\\\n",
       "\t21506 & CAWSVARRNTEAFF  & TRBV30   & TRBJ1-1 & CHP\\_329-04\\_cfDNA    & TGTGCCTGGAGTGTCGCCAGAAGGAACACTGAAGCTTTCTTT    & 317 & 4.012658e-01 & /Users/anabbi/Desktop/H4H/INTERCEPT/NextSeq/remaining\\_batch\\_5\\_cfDNA\\_22April2021/mixcr/clones/CLONES\\_TRBCHP\\_329-04\\_cfDNA.txt\\\\\n",
       "\t31386 & CASSLSGGNYGYTF  & TRBV5-4  & TRBJ1-2 & CHP\\_329-04\\_cfDNA    & TGTGCCAGCAGCTTGTCAGGGGGGAACTATGGCTACACCTTC    &   1 & 1.265823e-03 & /Users/anabbi/Desktop/H4H/INTERCEPT/NextSeq/remaining\\_batch\\_5\\_cfDNA\\_22April2021/mixcr/clones/CLONES\\_TRBCHP\\_329-04\\_cfDNA.txt\\\\\n",
       "\\end{tabular}\n"
      ],
      "text/markdown": [
       "\n",
       "A data.frame: 6 x 8\n",
       "\n",
       "| <!--/--> | CDR3b &lt;chr&gt; | TRBV &lt;chr&gt; | TRBJ &lt;chr&gt; | samplename &lt;chr&gt; | nSeqCDR3 &lt;chr&gt; | count &lt;int&gt; | clonefraction &lt;dbl&gt; | file &lt;chr&gt; |\n",
       "|---|---|---|---|---|---|---|---|---|\n",
       "| 101194 | CASSSSGGDYGYTF  | TRBV11-2 | TRBJ1-2 | CHP_406-03_PBMC-DNA | TGTGCCAGCAGCTCCTCGGGGGGAGACTATGGCTACACCTTC    |   2 | 7.367405e-06 | /Users/anabbi/Desktop/H4H/INTERCEPT/NextSeq/remaining_batch_3_4May2021/mixcr/clones/CLONES_TRBCHP_406-03_PBMC-DNA.txt       |\n",
       "| 102161 | CASSQETGLAFY    | TRBV4-2  | TRBJ1-1 | CHP_406-03_PBMC-DNA | TGTGCTAGCAGCCAGGAGACGGGGCTAGCTTTCTAT          |   2 | 7.367405e-06 | /Users/anabbi/Desktop/H4H/INTERCEPT/NextSeq/remaining_batch_3_4May2021/mixcr/clones/CLONES_TRBCHP_406-03_PBMC-DNA.txt       |\n",
       "| 103161 | CAWDRETEAFF     | TRBV30   | TRBJ1-1 | CHP_406-03_PBMC-DNA | TGTGCCTGGGACAGGGAAACTGAAGCTTTCTTT             |   2 | 7.367405e-06 | /Users/anabbi/Desktop/H4H/INTERCEPT/NextSeq/remaining_batch_3_4May2021/mixcr/clones/CLONES_TRBCHP_406-03_PBMC-DNA.txt       |\n",
       "| 105153 | CSAPGQGRTMGGYTF | TRBV20-1 | TRBJ1-2 | CHP_406-03_PBMC-DNA | TGCAGTGCCCCCGGACAGGGGAGAACTATGGGTGGCTACACCTTC |   1 | 3.683703e-06 | /Users/anabbi/Desktop/H4H/INTERCEPT/NextSeq/remaining_batch_3_4May2021/mixcr/clones/CLONES_TRBCHP_406-03_PBMC-DNA.txt       |\n",
       "| 21506 | CAWSVARRNTEAFF  | TRBV30   | TRBJ1-1 | CHP_329-04_cfDNA    | TGTGCCTGGAGTGTCGCCAGAAGGAACACTGAAGCTTTCTTT    | 317 | 4.012658e-01 | /Users/anabbi/Desktop/H4H/INTERCEPT/NextSeq/remaining_batch_5_cfDNA_22April2021/mixcr/clones/CLONES_TRBCHP_329-04_cfDNA.txt |\n",
       "| 31386 | CASSLSGGNYGYTF  | TRBV5-4  | TRBJ1-2 | CHP_329-04_cfDNA    | TGTGCCAGCAGCTTGTCAGGGGGGAACTATGGCTACACCTTC    |   1 | 1.265823e-03 | /Users/anabbi/Desktop/H4H/INTERCEPT/NextSeq/remaining_batch_5_cfDNA_22April2021/mixcr/clones/CLONES_TRBCHP_329-04_cfDNA.txt |\n",
       "\n"
      ],
      "text/plain": [
       "       CDR3b           TRBV     TRBJ    samplename         \n",
       "101194 CASSSSGGDYGYTF  TRBV11-2 TRBJ1-2 CHP_406-03_PBMC-DNA\n",
       "102161 CASSQETGLAFY    TRBV4-2  TRBJ1-1 CHP_406-03_PBMC-DNA\n",
       "103161 CAWDRETEAFF     TRBV30   TRBJ1-1 CHP_406-03_PBMC-DNA\n",
       "105153 CSAPGQGRTMGGYTF TRBV20-1 TRBJ1-2 CHP_406-03_PBMC-DNA\n",
       "21506  CAWSVARRNTEAFF  TRBV30   TRBJ1-1 CHP_329-04_cfDNA   \n",
       "31386  CASSLSGGNYGYTF  TRBV5-4  TRBJ1-2 CHP_329-04_cfDNA   \n",
       "       nSeqCDR3                                      count clonefraction\n",
       "101194 TGTGCCAGCAGCTCCTCGGGGGGAGACTATGGCTACACCTTC      2   7.367405e-06 \n",
       "102161 TGTGCTAGCAGCCAGGAGACGGGGCTAGCTTTCTAT            2   7.367405e-06 \n",
       "103161 TGTGCCTGGGACAGGGAAACTGAAGCTTTCTTT               2   7.367405e-06 \n",
       "105153 TGCAGTGCCCCCGGACAGGGGAGAACTATGGGTGGCTACACCTTC   1   3.683703e-06 \n",
       "21506  TGTGCCTGGAGTGTCGCCAGAAGGAACACTGAAGCTTTCTTT    317   4.012658e-01 \n",
       "31386  TGTGCCAGCAGCTTGTCAGGGGGGAACTATGGCTACACCTTC      1   1.265823e-03 \n",
       "       file                                                                                                                       \n",
       "101194 /Users/anabbi/Desktop/H4H/INTERCEPT/NextSeq/remaining_batch_3_4May2021/mixcr/clones/CLONES_TRBCHP_406-03_PBMC-DNA.txt      \n",
       "102161 /Users/anabbi/Desktop/H4H/INTERCEPT/NextSeq/remaining_batch_3_4May2021/mixcr/clones/CLONES_TRBCHP_406-03_PBMC-DNA.txt      \n",
       "103161 /Users/anabbi/Desktop/H4H/INTERCEPT/NextSeq/remaining_batch_3_4May2021/mixcr/clones/CLONES_TRBCHP_406-03_PBMC-DNA.txt      \n",
       "105153 /Users/anabbi/Desktop/H4H/INTERCEPT/NextSeq/remaining_batch_3_4May2021/mixcr/clones/CLONES_TRBCHP_406-03_PBMC-DNA.txt      \n",
       "21506  /Users/anabbi/Desktop/H4H/INTERCEPT/NextSeq/remaining_batch_5_cfDNA_22April2021/mixcr/clones/CLONES_TRBCHP_329-04_cfDNA.txt\n",
       "31386  /Users/anabbi/Desktop/H4H/INTERCEPT/NextSeq/remaining_batch_5_cfDNA_22April2021/mixcr/clones/CLONES_TRBCHP_329-04_cfDNA.txt"
      ]
     },
     "metadata": {},
     "output_type": "display_data"
    }
   ],
   "source": [
    "tail(int_all)"
   ]
  },
  {
   "cell_type": "code",
   "execution_count": 37,
   "metadata": {
    "vscode": {
     "languageId": "r"
    }
   },
   "outputs": [],
   "source": [
    "int_all$sampletype[ grepl(\"PBMC\", int_all$samplename)] <- \"PBMC\"\n",
    "int_all$sampletype[ grepl(\"cfDNA\", int_all$samplename)] <- \"cfDNA\"\n",
    "int_all$sampletype[ grepl(\"FFPE\", int_all$samplename)] <- \"FFPE\""
   ]
  },
  {
   "cell_type": "code",
   "execution_count": 38,
   "metadata": {
    "vscode": {
     "languageId": "r"
    }
   },
   "outputs": [
    {
     "data": {
      "text/plain": [
       "\n",
       "cfDNA  FFPE  PBMC  <NA> \n",
       " 3728   638 50627     0 "
      ]
     },
     "metadata": {},
     "output_type": "display_data"
    }
   ],
   "source": [
    "table(int_all$sampletype, useNA = \"always\")"
   ]
  },
  {
   "cell_type": "code",
   "execution_count": 39,
   "metadata": {
    "vscode": {
     "languageId": "r"
    }
   },
   "outputs": [],
   "source": [
    "div <- meta_div[ !is.na(meta_div$TRB),]"
   ]
  },
  {
   "cell_type": "code",
   "execution_count": 40,
   "metadata": {
    "vscode": {
     "languageId": "r"
    }
   },
   "outputs": [],
   "source": [
    "div <- div[ !div$Disease_type %in% c(\"Normal\", \"LFS\"),]"
   ]
  },
  {
   "cell_type": "code",
   "execution_count": 41,
   "metadata": {
    "vscode": {
     "languageId": "r"
    }
   },
   "outputs": [
    {
     "data": {
      "text/html": [
       "<style>\n",
       ".list-inline {list-style: none; margin:0; padding: 0}\n",
       ".list-inline>li {display: inline-block}\n",
       ".list-inline>li:not(:last-child)::after {content: \"\\00b7\"; padding: 0 .5ex}\n",
       "</style>\n",
       "<ol class=list-inline><li>'sample_id'</li><li>'Patient'</li><li>'cycle'</li><li>'FOLD'</li><li>'ATC'</li><li>'Age'</li><li>'Disease_type'</li><li>'TE_fold'</li><li>'CD3'</li><li>'EM'</li><li>'CM'</li><li>'Naïve'</li><li>'SCM'</li><li>'TE'</li><li>'EM%'</li><li>'CM%'</li><li>'Naïve%'</li><li>'SCM%'</li><li>'TE%'</li><li>'Naïve/TE'</li><li>'N+CM+SCM/TE+EM'</li><li>'PD-1'</li><li>'PDL1'</li><li>'LAG3'</li><li>'TIM3'</li><li>'CTLA4'</li><li>'PD1%'</li><li>'PDL1%'</li><li>'LAG3%'</li><li>'TIM3%'</li><li>'CTLA4%'</li><li>'Any NCR'</li><li>'PD1 + LAG3 + TIM3'</li><li>'cancergroup'</li><li>'agegroup'</li><li>'foldgroup'</li><li>'Remission'</li><li>'Relapse'</li><li>'Transplant'</li><li>'CART'</li><li>'vital_status'</li><li>'LOF'</li><li>'TRB'</li><li>'Reads'</li><li>'CPKR'</li><li>'Average_reads'</li><li>'VMR'</li><li>'Max_reads'</li><li>'Singletons'</li><li>'Doubletons'</li><li>'qD'</li><li>'Sample_Coverage'</li><li>'observed_Richness'</li><li>'estimated_Richness'</li><li>'SE_Richeness'</li><li>'observed_Shannon'</li><li>'estimated_Shannon'</li><li>'SE_Shannon'</li><li>'observed_Simpson'</li><li>'estimated_Simpson'</li><li>'SE_Simpson'</li><li>'basename'</li><li>'file'</li><li>'sampletype'</li><li>'Group'</li><li>'log10shann'</li></ol>\n"
      ],
      "text/latex": [
       "\\begin{enumerate*}\n",
       "\\item 'sample\\_id'\n",
       "\\item 'Patient'\n",
       "\\item 'cycle'\n",
       "\\item 'FOLD'\n",
       "\\item 'ATC'\n",
       "\\item 'Age'\n",
       "\\item 'Disease\\_type'\n",
       "\\item 'TE\\_fold'\n",
       "\\item 'CD3'\n",
       "\\item 'EM'\n",
       "\\item 'CM'\n",
       "\\item 'Naïve'\n",
       "\\item 'SCM'\n",
       "\\item 'TE'\n",
       "\\item 'EM\\%'\n",
       "\\item 'CM\\%'\n",
       "\\item 'Naïve\\%'\n",
       "\\item 'SCM\\%'\n",
       "\\item 'TE\\%'\n",
       "\\item 'Naïve/TE'\n",
       "\\item 'N+CM+SCM/TE+EM'\n",
       "\\item 'PD-1'\n",
       "\\item 'PDL1'\n",
       "\\item 'LAG3'\n",
       "\\item 'TIM3'\n",
       "\\item 'CTLA4'\n",
       "\\item 'PD1\\%'\n",
       "\\item 'PDL1\\%'\n",
       "\\item 'LAG3\\%'\n",
       "\\item 'TIM3\\%'\n",
       "\\item 'CTLA4\\%'\n",
       "\\item 'Any NCR'\n",
       "\\item 'PD1 + LAG3 + TIM3'\n",
       "\\item 'cancergroup'\n",
       "\\item 'agegroup'\n",
       "\\item 'foldgroup'\n",
       "\\item 'Remission'\n",
       "\\item 'Relapse'\n",
       "\\item 'Transplant'\n",
       "\\item 'CART'\n",
       "\\item 'vital\\_status'\n",
       "\\item 'LOF'\n",
       "\\item 'TRB'\n",
       "\\item 'Reads'\n",
       "\\item 'CPKR'\n",
       "\\item 'Average\\_reads'\n",
       "\\item 'VMR'\n",
       "\\item 'Max\\_reads'\n",
       "\\item 'Singletons'\n",
       "\\item 'Doubletons'\n",
       "\\item 'qD'\n",
       "\\item 'Sample\\_Coverage'\n",
       "\\item 'observed\\_Richness'\n",
       "\\item 'estimated\\_Richness'\n",
       "\\item 'SE\\_Richeness'\n",
       "\\item 'observed\\_Shannon'\n",
       "\\item 'estimated\\_Shannon'\n",
       "\\item 'SE\\_Shannon'\n",
       "\\item 'observed\\_Simpson'\n",
       "\\item 'estimated\\_Simpson'\n",
       "\\item 'SE\\_Simpson'\n",
       "\\item 'basename'\n",
       "\\item 'file'\n",
       "\\item 'sampletype'\n",
       "\\item 'Group'\n",
       "\\item 'log10shann'\n",
       "\\end{enumerate*}\n"
      ],
      "text/markdown": [
       "1. 'sample_id'\n",
       "2. 'Patient'\n",
       "3. 'cycle'\n",
       "4. 'FOLD'\n",
       "5. 'ATC'\n",
       "6. 'Age'\n",
       "7. 'Disease_type'\n",
       "8. 'TE_fold'\n",
       "9. 'CD3'\n",
       "10. 'EM'\n",
       "11. 'CM'\n",
       "12. 'Naïve'\n",
       "13. 'SCM'\n",
       "14. 'TE'\n",
       "15. 'EM%'\n",
       "16. 'CM%'\n",
       "17. 'Naïve%'\n",
       "18. 'SCM%'\n",
       "19. 'TE%'\n",
       "20. 'Naïve/TE'\n",
       "21. 'N+CM+SCM/TE+EM'\n",
       "22. 'PD-1'\n",
       "23. 'PDL1'\n",
       "24. 'LAG3'\n",
       "25. 'TIM3'\n",
       "26. 'CTLA4'\n",
       "27. 'PD1%'\n",
       "28. 'PDL1%'\n",
       "29. 'LAG3%'\n",
       "30. 'TIM3%'\n",
       "31. 'CTLA4%'\n",
       "32. 'Any NCR'\n",
       "33. 'PD1 + LAG3 + TIM3'\n",
       "34. 'cancergroup'\n",
       "35. 'agegroup'\n",
       "36. 'foldgroup'\n",
       "37. 'Remission'\n",
       "38. 'Relapse'\n",
       "39. 'Transplant'\n",
       "40. 'CART'\n",
       "41. 'vital_status'\n",
       "42. 'LOF'\n",
       "43. 'TRB'\n",
       "44. 'Reads'\n",
       "45. 'CPKR'\n",
       "46. 'Average_reads'\n",
       "47. 'VMR'\n",
       "48. 'Max_reads'\n",
       "49. 'Singletons'\n",
       "50. 'Doubletons'\n",
       "51. 'qD'\n",
       "52. 'Sample_Coverage'\n",
       "53. 'observed_Richness'\n",
       "54. 'estimated_Richness'\n",
       "55. 'SE_Richeness'\n",
       "56. 'observed_Shannon'\n",
       "57. 'estimated_Shannon'\n",
       "58. 'SE_Shannon'\n",
       "59. 'observed_Simpson'\n",
       "60. 'estimated_Simpson'\n",
       "61. 'SE_Simpson'\n",
       "62. 'basename'\n",
       "63. 'file'\n",
       "64. 'sampletype'\n",
       "65. 'Group'\n",
       "66. 'log10shann'\n",
       "\n",
       "\n"
      ],
      "text/plain": [
       " [1] \"sample_id\"          \"Patient\"            \"cycle\"             \n",
       " [4] \"FOLD\"               \"ATC\"                \"Age\"               \n",
       " [7] \"Disease_type\"       \"TE_fold\"            \"CD3\"               \n",
       "[10] \"EM\"                 \"CM\"                 \"Naïve\"             \n",
       "[13] \"SCM\"                \"TE\"                 \"EM%\"               \n",
       "[16] \"CM%\"                \"Naïve%\"             \"SCM%\"              \n",
       "[19] \"TE%\"                \"Naïve/TE\"           \"N+CM+SCM/TE+EM\"    \n",
       "[22] \"PD-1\"               \"PDL1\"               \"LAG3\"              \n",
       "[25] \"TIM3\"               \"CTLA4\"              \"PD1%\"              \n",
       "[28] \"PDL1%\"              \"LAG3%\"              \"TIM3%\"             \n",
       "[31] \"CTLA4%\"             \"Any NCR\"            \"PD1 + LAG3 + TIM3\" \n",
       "[34] \"cancergroup\"        \"agegroup\"           \"foldgroup\"         \n",
       "[37] \"Remission\"          \"Relapse\"            \"Transplant\"        \n",
       "[40] \"CART\"               \"vital_status\"       \"LOF\"               \n",
       "[43] \"TRB\"                \"Reads\"              \"CPKR\"              \n",
       "[46] \"Average_reads\"      \"VMR\"                \"Max_reads\"         \n",
       "[49] \"Singletons\"         \"Doubletons\"         \"qD\"                \n",
       "[52] \"Sample_Coverage\"    \"observed_Richness\"  \"estimated_Richness\"\n",
       "[55] \"SE_Richeness\"       \"observed_Shannon\"   \"estimated_Shannon\" \n",
       "[58] \"SE_Shannon\"         \"observed_Simpson\"   \"estimated_Simpson\" \n",
       "[61] \"SE_Simpson\"         \"basename\"           \"file\"              \n",
       "[64] \"sampletype\"         \"Group\"              \"log10shann\"        "
      ]
     },
     "metadata": {},
     "output_type": "display_data"
    }
   ],
   "source": [
    "colnames(div)"
   ]
  },
  {
   "cell_type": "code",
   "execution_count": null,
   "metadata": {
    "vscode": {
     "languageId": "r"
    }
   },
   "outputs": [],
   "source": []
  },
  {
   "cell_type": "code",
   "execution_count": 84,
   "metadata": {
    "vscode": {
     "languageId": "r"
    }
   },
   "outputs": [],
   "source": [
    "mydiv <- div[, c(\n",
    "    \"sample_id\", \"Patient\", \"file\", \"sampletype\", \"basename\",\n",
    "    \"cycle\", \"Age\", \"Disease_type\", \"cancergroup\", \"Relapse\", \"vital_status\"\n",
    ")]\n"
   ]
  },
  {
   "cell_type": "code",
   "execution_count": 85,
   "metadata": {
    "vscode": {
     "languageId": "r"
    }
   },
   "outputs": [],
   "source": [
    "int_all$file <- gsub(\"/Users/anabbi/Desktop/H4H/INTERCEPT/NextSeq/\", \"\", int_all$file)"
   ]
  },
  {
   "cell_type": "code",
   "execution_count": 90,
   "metadata": {
    "vscode": {
     "languageId": "r"
    }
   },
   "outputs": [],
   "source": [
    "tcr_meta <- cbind(mydiv, int_all[ match(div$file, int_all$file), ])"
   ]
  },
  {
   "cell_type": "markdown",
   "metadata": {},
   "source": [
    "Some cleanup for tiger db"
   ]
  },
  {
   "cell_type": "code",
   "execution_count": 91,
   "metadata": {
    "vscode": {
     "languageId": "r"
    }
   },
   "outputs": [
    {
     "data": {
      "text/html": [
       "<style>\n",
       ".list-inline {list-style: none; margin:0; padding: 0}\n",
       ".list-inline>li {display: inline-block}\n",
       ".list-inline>li:not(:last-child)::after {content: \"\\00b7\"; padding: 0 .5ex}\n",
       "</style>\n",
       "<ol class=list-inline><li>'sample_id'</li><li>'Patient'</li><li>'file'</li><li>'sampletype'</li><li>'basename'</li><li>'cycle'</li><li>'Age'</li><li>'Disease_type'</li><li>'cancergroup'</li><li>'Relapse'</li><li>'vital_status'</li><li>'CDR3b'</li><li>'TRBV'</li><li>'TRBJ'</li><li>'samplename'</li><li>'nSeqCDR3'</li><li>'count'</li><li>'clonefraction'</li><li>'file'</li><li>'sampletype'</li></ol>\n"
      ],
      "text/latex": [
       "\\begin{enumerate*}\n",
       "\\item 'sample\\_id'\n",
       "\\item 'Patient'\n",
       "\\item 'file'\n",
       "\\item 'sampletype'\n",
       "\\item 'basename'\n",
       "\\item 'cycle'\n",
       "\\item 'Age'\n",
       "\\item 'Disease\\_type'\n",
       "\\item 'cancergroup'\n",
       "\\item 'Relapse'\n",
       "\\item 'vital\\_status'\n",
       "\\item 'CDR3b'\n",
       "\\item 'TRBV'\n",
       "\\item 'TRBJ'\n",
       "\\item 'samplename'\n",
       "\\item 'nSeqCDR3'\n",
       "\\item 'count'\n",
       "\\item 'clonefraction'\n",
       "\\item 'file'\n",
       "\\item 'sampletype'\n",
       "\\end{enumerate*}\n"
      ],
      "text/markdown": [
       "1. 'sample_id'\n",
       "2. 'Patient'\n",
       "3. 'file'\n",
       "4. 'sampletype'\n",
       "5. 'basename'\n",
       "6. 'cycle'\n",
       "7. 'Age'\n",
       "8. 'Disease_type'\n",
       "9. 'cancergroup'\n",
       "10. 'Relapse'\n",
       "11. 'vital_status'\n",
       "12. 'CDR3b'\n",
       "13. 'TRBV'\n",
       "14. 'TRBJ'\n",
       "15. 'samplename'\n",
       "16. 'nSeqCDR3'\n",
       "17. 'count'\n",
       "18. 'clonefraction'\n",
       "19. 'file'\n",
       "20. 'sampletype'\n",
       "\n",
       "\n"
      ],
      "text/plain": [
       " [1] \"sample_id\"     \"Patient\"       \"file\"          \"sampletype\"   \n",
       " [5] \"basename\"      \"cycle\"         \"Age\"           \"Disease_type\" \n",
       " [9] \"cancergroup\"   \"Relapse\"       \"vital_status\"  \"CDR3b\"        \n",
       "[13] \"TRBV\"          \"TRBJ\"          \"samplename\"    \"nSeqCDR3\"     \n",
       "[17] \"count\"         \"clonefraction\" \"file\"          \"sampletype\"   "
      ]
     },
     "metadata": {},
     "output_type": "display_data"
    }
   ],
   "source": [
    "colnames(tcr_meta)"
   ]
  },
  {
   "cell_type": "code",
   "execution_count": 92,
   "metadata": {
    "vscode": {
     "languageId": "r"
    }
   },
   "outputs": [],
   "source": [
    "# Patient tags\n",
    "colnames(tcr_meta)[ colnames(tcr_meta) == \"Patient\"] <- \"patient_id\"\n",
    "colnames(tcr_meta)[ colnames(tcr_meta) == \"patient_id\"] <- \"case_id\"\n",
    "\n",
    "colnames(tcr_meta)[ colnames(tcr_meta) == \"Disease_type\"] <- \"disease_type\"\n",
    "colnames(tcr_meta)[ colnames(tcr_meta) == \"Age\"] <- \"age_at_diagnosis\"\n",
    "colnames(tcr_meta)[ colnames(tcr_meta) == \"vital_status\"] <- \"is_deceased\"\n",
    "colnames(tcr_meta)[ colnames(tcr_meta) == \"Relapse\"] <- \"is_relapsed\"\n",
    "tcr_meta$treatment_type <- \"Chemotherapy\""
   ]
  },
  {
   "cell_type": "code",
   "execution_count": 93,
   "metadata": {
    "vscode": {
     "languageId": "r"
    }
   },
   "outputs": [],
   "source": [
    "# sample tags. Each patient has multple samples\n",
    "# tcr_meta$sample_id\n",
    "tcr_meta$sample_type <- NA\n",
    "tcr_meta$sample_type[ grepl(\"PBMC\", tcr_meta$sampletype)] <- \"Blood-PBMC\"\n",
    "tcr_meta$sample_type[ grepl(\"cfDNA\", tcr_meta$sampletype)] <- \"Plasma\"\n",
    "tcr_meta$sample_type[ grepl(\"FFPE\", tcr_meta$sampletype)] <- \"Tumor\"\n",
    "\n",
    "tcr_meta$clinical_timepoint <- gsub(\"X0\", \"\", tcr_meta$cycle)"
   ]
  },
  {
   "cell_type": "code",
   "execution_count": 94,
   "metadata": {
    "vscode": {
     "languageId": "r"
    }
   },
   "outputs": [],
   "source": [
    "# specimen tags. From each samples we can extract DNA, RNA, etc\n",
    "tcr_meta$specimen_id <- paste0(tcr_meta$sample_id, \"_\",tcr_meta$sampletype)\n",
    "\n",
    "tcr_meta$specimen_type <- NA\n",
    "tcr_meta$specimen_type[ grepl(\"PBMC\", tcr_meta$sampletype)] <- \"Total DNA\"\n",
    "tcr_meta$specimen_type[ grepl(\"cfDNA\", tcr_meta$sampletype)] <- \"cfDNA\"\n",
    "tcr_meta$specimen_type[ grepl(\"FFPE\", tcr_meta$sampletype)] <- \"Total DNA\""
   ]
  },
  {
   "cell_type": "code",
   "execution_count": 95,
   "metadata": {
    "vscode": {
     "languageId": "r"
    }
   },
   "outputs": [],
   "source": [
    "# lib tags: from specimen we made libraries \n",
    "#sample_type, library_type, library_version, capture_version, clinical_timepoint, biospecimen_id, patient_id\n",
    "tcr_meta$library_id <- tcr_meta$basename # base name from seq files\n",
    "tcr_meta$library_type <- \n",
    "tcr_meta$library_version <- \"v1\"\n",
    "tcr_meta$capture_version <- \"v1\"\n"
   ]
  },
  {
   "cell_type": "code",
   "execution_count": 96,
   "metadata": {
    "vscode": {
     "languageId": "r"
    }
   },
   "outputs": [],
   "source": [
    "# TCR tags: each library has TCRs\n",
    "tcr_meta$software <- \"mixcr\"\n",
    "tcr_meta$software_version <- \"2.1.12\"\n",
    "tcr_meta$repseq_version <- \"repseqio.v1.5\"\n",
    "\n",
    "colnames(tcr_meta)[ colnames(tcr_meta) == \"nSeqCDR3\"] <- \"ntCDR3b\"\n",
    "colnames(tcr_meta)[ colnames(tcr_meta) == \"CDR3b\"] <- \"aaCDR3b\"\n",
    "colnames(tcr_meta)[ colnames(tcr_meta) == \"count\"] <- \"tcrb_count\"\n",
    "\n",
    "tcr_meta$TRAV <- NA\n",
    "tcr_meta$TRAJ <- NA\n",
    "tcr_meta$ntCDR3a <- NA\n",
    "tcr_meta$aaCDR3a <- NA\n",
    "tcr_meta$tcra_count <- NA"
   ]
  },
  {
   "cell_type": "code",
   "execution_count": 97,
   "metadata": {
    "vscode": {
     "languageId": "r"
    }
   },
   "outputs": [],
   "source": [
    "# and project information\n",
    "tcr_meta$project_id <- \"INT\"\n",
    "tcr_meta$manuscript_id <- \"NA\"\n",
    "tcr_meta$access_level_temp <- \"open\""
   ]
  },
  {
   "cell_type": "code",
   "execution_count": 81,
   "metadata": {
    "vscode": {
     "languageId": "r"
    }
   },
   "outputs": [],
   "source": []
  },
  {
   "cell_type": "code",
   "execution_count": 98,
   "metadata": {
    "vscode": {
     "languageId": "r"
    }
   },
   "outputs": [
    {
     "data": {
      "text/html": [
       "<style>\n",
       ".list-inline {list-style: none; margin:0; padding: 0}\n",
       ".list-inline>li {display: inline-block}\n",
       ".list-inline>li:not(:last-child)::after {content: \"\\00b7\"; padding: 0 .5ex}\n",
       "</style>\n",
       "<ol class=list-inline><li>'sample_id'</li><li>'case_id'</li><li>'file'</li><li>'sampletype'</li><li>'basename'</li><li>'cycle'</li><li>'age_at_diagnosis'</li><li>'disease_type'</li><li>'cancergroup'</li><li>'is_relapsed'</li><li>'is_deceased'</li><li>'aaCDR3b'</li><li>'TRBV'</li><li>'TRBJ'</li><li>'samplename'</li><li>'ntCDR3b'</li><li>'tcrb_count'</li><li>'clonefraction'</li><li>'file'</li><li>'sampletype'</li><li>'treatment_type'</li><li>'sample_type'</li><li>'clinical_timepoint'</li><li>'specimen_id'</li><li>'specimen_type'</li><li>'library_id'</li><li>'library_version'</li><li>'library_type'</li><li>'capture_version'</li><li>'software'</li><li>'software_version'</li><li>'repseq_version'</li><li>'TRAV'</li><li>'TRAJ'</li><li>'ntCDR3a'</li><li>'aaCDR3a'</li><li>'tcra_count'</li><li>'project_id'</li><li>'manuscript_id'</li><li>'access_level_temp'</li></ol>\n"
      ],
      "text/latex": [
       "\\begin{enumerate*}\n",
       "\\item 'sample\\_id'\n",
       "\\item 'case\\_id'\n",
       "\\item 'file'\n",
       "\\item 'sampletype'\n",
       "\\item 'basename'\n",
       "\\item 'cycle'\n",
       "\\item 'age\\_at\\_diagnosis'\n",
       "\\item 'disease\\_type'\n",
       "\\item 'cancergroup'\n",
       "\\item 'is\\_relapsed'\n",
       "\\item 'is\\_deceased'\n",
       "\\item 'aaCDR3b'\n",
       "\\item 'TRBV'\n",
       "\\item 'TRBJ'\n",
       "\\item 'samplename'\n",
       "\\item 'ntCDR3b'\n",
       "\\item 'tcrb\\_count'\n",
       "\\item 'clonefraction'\n",
       "\\item 'file'\n",
       "\\item 'sampletype'\n",
       "\\item 'treatment\\_type'\n",
       "\\item 'sample\\_type'\n",
       "\\item 'clinical\\_timepoint'\n",
       "\\item 'specimen\\_id'\n",
       "\\item 'specimen\\_type'\n",
       "\\item 'library\\_id'\n",
       "\\item 'library\\_version'\n",
       "\\item 'library\\_type'\n",
       "\\item 'capture\\_version'\n",
       "\\item 'software'\n",
       "\\item 'software\\_version'\n",
       "\\item 'repseq\\_version'\n",
       "\\item 'TRAV'\n",
       "\\item 'TRAJ'\n",
       "\\item 'ntCDR3a'\n",
       "\\item 'aaCDR3a'\n",
       "\\item 'tcra\\_count'\n",
       "\\item 'project\\_id'\n",
       "\\item 'manuscript\\_id'\n",
       "\\item 'access\\_level\\_temp'\n",
       "\\end{enumerate*}\n"
      ],
      "text/markdown": [
       "1. 'sample_id'\n",
       "2. 'case_id'\n",
       "3. 'file'\n",
       "4. 'sampletype'\n",
       "5. 'basename'\n",
       "6. 'cycle'\n",
       "7. 'age_at_diagnosis'\n",
       "8. 'disease_type'\n",
       "9. 'cancergroup'\n",
       "10. 'is_relapsed'\n",
       "11. 'is_deceased'\n",
       "12. 'aaCDR3b'\n",
       "13. 'TRBV'\n",
       "14. 'TRBJ'\n",
       "15. 'samplename'\n",
       "16. 'ntCDR3b'\n",
       "17. 'tcrb_count'\n",
       "18. 'clonefraction'\n",
       "19. 'file'\n",
       "20. 'sampletype'\n",
       "21. 'treatment_type'\n",
       "22. 'sample_type'\n",
       "23. 'clinical_timepoint'\n",
       "24. 'specimen_id'\n",
       "25. 'specimen_type'\n",
       "26. 'library_id'\n",
       "27. 'library_version'\n",
       "28. 'library_type'\n",
       "29. 'capture_version'\n",
       "30. 'software'\n",
       "31. 'software_version'\n",
       "32. 'repseq_version'\n",
       "33. 'TRAV'\n",
       "34. 'TRAJ'\n",
       "35. 'ntCDR3a'\n",
       "36. 'aaCDR3a'\n",
       "37. 'tcra_count'\n",
       "38. 'project_id'\n",
       "39. 'manuscript_id'\n",
       "40. 'access_level_temp'\n",
       "\n",
       "\n"
      ],
      "text/plain": [
       " [1] \"sample_id\"          \"case_id\"            \"file\"              \n",
       " [4] \"sampletype\"         \"basename\"           \"cycle\"             \n",
       " [7] \"age_at_diagnosis\"   \"disease_type\"       \"cancergroup\"       \n",
       "[10] \"is_relapsed\"        \"is_deceased\"        \"aaCDR3b\"           \n",
       "[13] \"TRBV\"               \"TRBJ\"               \"samplename\"        \n",
       "[16] \"ntCDR3b\"            \"tcrb_count\"         \"clonefraction\"     \n",
       "[19] \"file\"               \"sampletype\"         \"treatment_type\"    \n",
       "[22] \"sample_type\"        \"clinical_timepoint\" \"specimen_id\"       \n",
       "[25] \"specimen_type\"      \"library_id\"         \"library_version\"   \n",
       "[28] \"library_type\"       \"capture_version\"    \"software\"          \n",
       "[31] \"software_version\"   \"repseq_version\"     \"TRAV\"              \n",
       "[34] \"TRAJ\"               \"ntCDR3a\"            \"aaCDR3a\"           \n",
       "[37] \"tcra_count\"         \"project_id\"         \"manuscript_id\"     \n",
       "[40] \"access_level_temp\" "
      ]
     },
     "metadata": {},
     "output_type": "display_data"
    }
   ],
   "source": [
    "colnames(tcr_meta)"
   ]
  },
  {
   "cell_type": "code",
   "execution_count": 100,
   "metadata": {
    "vscode": {
     "languageId": "r"
    }
   },
   "outputs": [],
   "source": [
    "tcr_meta1 <- tcr_meta[, c('project_id','manuscript_id','access_level_temp',\n",
    "'library_id','library_version','library_type','capture_version','software','software_version','repseq_version',\n",
    "'TRBV','TRBJ','ntCDR3b', 'aaCDR3b','tcrb_count','TRAV','TRAJ','ntCDR3a','aaCDR3a','tcra_count',\n",
    "'specimen_id','specimen_type', 'sample_id','sample_type','clinical_timepoint',\n",
    "'case_id','age_at_diagnosis','disease_type','is_relapsed','is_deceased','treatment_type'\n",
    ")]\n"
   ]
  },
  {
   "cell_type": "code",
   "execution_count": 101,
   "metadata": {
    "vscode": {
     "languageId": "r"
    }
   },
   "outputs": [],
   "source": [
    "write.csv(tcr_meta1, file = \"/Users/anabbi/Desktop/H4H/INTERCEPT/analysis/TIGERDB/int_tcr_metadata.csv\", quote = F, row.names = F)"
   ]
  },
  {
   "cell_type": "markdown",
   "metadata": {},
   "source": [
    "### Adaptive data"
   ]
  },
  {
   "cell_type": "code",
   "execution_count": 102,
   "metadata": {
    "vscode": {
     "languageId": "r"
    }
   },
   "outputs": [],
   "source": [
    "allAdaptive <- readr::read_rds(file = paste0(datapath, \"Adaptivedatasets/allAdaptive_good.rds\"))"
   ]
  },
  {
   "cell_type": "code",
   "execution_count": 103,
   "metadata": {
    "vscode": {
     "languageId": "r"
    }
   },
   "outputs": [
    {
     "data": {
      "text/html": [
       "<table class=\"dataframe\">\n",
       "<caption>A data.frame: 6 x 7</caption>\n",
       "<thead>\n",
       "\t<tr><th></th><th scope=col>sample_name</th><th scope=col>study</th><th scope=col>Agegroup</th><th scope=col>Sex</th><th scope=col>disease</th><th scope=col>subject</th><th scope=col>age</th></tr>\n",
       "\t<tr><th></th><th scope=col>&lt;chr&gt;</th><th scope=col>&lt;chr&gt;</th><th scope=col>&lt;chr&gt;</th><th scope=col>&lt;chr&gt;</th><th scope=col>&lt;chr&gt;</th><th scope=col>&lt;chr&gt;</th><th scope=col>&lt;dbl&gt;</th></tr>\n",
       "</thead>\n",
       "<tbody>\n",
       "\t<tr><th scope=row>21</th><td>Peds_Ctrl_2        </td><td>Henderson</td><td>Child</td><td>NA</td><td>Peds healthy Control</td><td>Peds_Ctrl_2        </td><td>NA</td></tr>\n",
       "\t<tr><th scope=row>22</th><td>MAS_3              </td><td>Henderson</td><td>Child</td><td>NA</td><td>MAS                 </td><td>MAS_3              </td><td>NA</td></tr>\n",
       "\t<tr><th scope=row>23</th><td>Peds_Febrile_Ctrl_3</td><td>Henderson</td><td>Child</td><td>NA</td><td>Peds febrile Control</td><td>Peds_Febrile_Ctrl_3</td><td>NA</td></tr>\n",
       "\t<tr><th scope=row>25</th><td>KD_4               </td><td>Henderson</td><td>Child</td><td>NA</td><td>KD                  </td><td>KD_4               </td><td>NA</td></tr>\n",
       "\t<tr><th scope=row>26</th><td>KD_3               </td><td>Henderson</td><td>Child</td><td>NA</td><td>KD                  </td><td>KD_3               </td><td>NA</td></tr>\n",
       "\t<tr><th scope=row>29</th><td>sJIA_7             </td><td>Henderson</td><td>Child</td><td>NA</td><td>sJIA                </td><td>sJIA_7             </td><td>NA</td></tr>\n",
       "</tbody>\n",
       "</table>\n"
      ],
      "text/latex": [
       "A data.frame: 6 x 7\n",
       "\\begin{tabular}{r|lllllll}\n",
       "  & sample\\_name & study & Agegroup & Sex & disease & subject & age\\\\\n",
       "  & <chr> & <chr> & <chr> & <chr> & <chr> & <chr> & <dbl>\\\\\n",
       "\\hline\n",
       "\t21 & Peds\\_Ctrl\\_2         & Henderson & Child & NA & Peds healthy Control & Peds\\_Ctrl\\_2         & NA\\\\\n",
       "\t22 & MAS\\_3               & Henderson & Child & NA & MAS                  & MAS\\_3               & NA\\\\\n",
       "\t23 & Peds\\_Febrile\\_Ctrl\\_3 & Henderson & Child & NA & Peds febrile Control & Peds\\_Febrile\\_Ctrl\\_3 & NA\\\\\n",
       "\t25 & KD\\_4                & Henderson & Child & NA & KD                   & KD\\_4                & NA\\\\\n",
       "\t26 & KD\\_3                & Henderson & Child & NA & KD                   & KD\\_3                & NA\\\\\n",
       "\t29 & sJIA\\_7              & Henderson & Child & NA & sJIA                 & sJIA\\_7              & NA\\\\\n",
       "\\end{tabular}\n"
      ],
      "text/markdown": [
       "\n",
       "A data.frame: 6 x 7\n",
       "\n",
       "| <!--/--> | sample_name &lt;chr&gt; | study &lt;chr&gt; | Agegroup &lt;chr&gt; | Sex &lt;chr&gt; | disease &lt;chr&gt; | subject &lt;chr&gt; | age &lt;dbl&gt; |\n",
       "|---|---|---|---|---|---|---|---|\n",
       "| 21 | Peds_Ctrl_2         | Henderson | Child | NA | Peds healthy Control | Peds_Ctrl_2         | NA |\n",
       "| 22 | MAS_3               | Henderson | Child | NA | MAS                  | MAS_3               | NA |\n",
       "| 23 | Peds_Febrile_Ctrl_3 | Henderson | Child | NA | Peds febrile Control | Peds_Febrile_Ctrl_3 | NA |\n",
       "| 25 | KD_4                | Henderson | Child | NA | KD                   | KD_4                | NA |\n",
       "| 26 | KD_3                | Henderson | Child | NA | KD                   | KD_3                | NA |\n",
       "| 29 | sJIA_7              | Henderson | Child | NA | sJIA                 | sJIA_7              | NA |\n",
       "\n"
      ],
      "text/plain": [
       "   sample_name         study     Agegroup Sex disease             \n",
       "21 Peds_Ctrl_2         Henderson Child    NA  Peds healthy Control\n",
       "22 MAS_3               Henderson Child    NA  MAS                 \n",
       "23 Peds_Febrile_Ctrl_3 Henderson Child    NA  Peds febrile Control\n",
       "25 KD_4                Henderson Child    NA  KD                  \n",
       "26 KD_3                Henderson Child    NA  KD                  \n",
       "29 sJIA_7              Henderson Child    NA  sJIA                \n",
       "   subject             age\n",
       "21 Peds_Ctrl_2         NA \n",
       "22 MAS_3               NA \n",
       "23 Peds_Febrile_Ctrl_3 NA \n",
       "25 KD_4                NA \n",
       "26 KD_3                NA \n",
       "29 sJIA_7              NA "
      ]
     },
     "metadata": {},
     "output_type": "display_data"
    }
   ],
   "source": [
    "head(allAdaptive)"
   ]
  },
  {
   "cell_type": "code",
   "execution_count": 104,
   "metadata": {
    "vscode": {
     "languageId": "r"
    }
   },
   "outputs": [],
   "source": [
    "# load(file = paste0(datapath, \"Adaptivedatasets/allAdaptive.RData\") )"
   ]
  },
  {
   "cell_type": "code",
   "execution_count": 105,
   "metadata": {
    "vscode": {
     "languageId": "r"
    }
   },
   "outputs": [
    {
     "data": {
      "text/html": [
       "<table class=\"dataframe\">\n",
       "<caption>A data.frame: 6 x 7</caption>\n",
       "<thead>\n",
       "\t<tr><th></th><th scope=col>sample_name</th><th scope=col>study</th><th scope=col>Agegroup</th><th scope=col>Sex</th><th scope=col>disease</th><th scope=col>subject</th><th scope=col>age</th></tr>\n",
       "\t<tr><th></th><th scope=col>&lt;chr&gt;</th><th scope=col>&lt;chr&gt;</th><th scope=col>&lt;chr&gt;</th><th scope=col>&lt;chr&gt;</th><th scope=col>&lt;chr&gt;</th><th scope=col>&lt;chr&gt;</th><th scope=col>&lt;dbl&gt;</th></tr>\n",
       "</thead>\n",
       "<tbody>\n",
       "\t<tr><th scope=row>21</th><td>Peds_Ctrl_2        </td><td>Henderson</td><td>Child</td><td>NA</td><td>Peds healthy Control</td><td>Peds_Ctrl_2        </td><td>NA</td></tr>\n",
       "\t<tr><th scope=row>22</th><td>MAS_3              </td><td>Henderson</td><td>Child</td><td>NA</td><td>MAS                 </td><td>MAS_3              </td><td>NA</td></tr>\n",
       "\t<tr><th scope=row>23</th><td>Peds_Febrile_Ctrl_3</td><td>Henderson</td><td>Child</td><td>NA</td><td>Peds febrile Control</td><td>Peds_Febrile_Ctrl_3</td><td>NA</td></tr>\n",
       "\t<tr><th scope=row>25</th><td>KD_4               </td><td>Henderson</td><td>Child</td><td>NA</td><td>KD                  </td><td>KD_4               </td><td>NA</td></tr>\n",
       "\t<tr><th scope=row>26</th><td>KD_3               </td><td>Henderson</td><td>Child</td><td>NA</td><td>KD                  </td><td>KD_3               </td><td>NA</td></tr>\n",
       "\t<tr><th scope=row>29</th><td>sJIA_7             </td><td>Henderson</td><td>Child</td><td>NA</td><td>sJIA                </td><td>sJIA_7             </td><td>NA</td></tr>\n",
       "</tbody>\n",
       "</table>\n"
      ],
      "text/latex": [
       "A data.frame: 6 x 7\n",
       "\\begin{tabular}{r|lllllll}\n",
       "  & sample\\_name & study & Agegroup & Sex & disease & subject & age\\\\\n",
       "  & <chr> & <chr> & <chr> & <chr> & <chr> & <chr> & <dbl>\\\\\n",
       "\\hline\n",
       "\t21 & Peds\\_Ctrl\\_2         & Henderson & Child & NA & Peds healthy Control & Peds\\_Ctrl\\_2         & NA\\\\\n",
       "\t22 & MAS\\_3               & Henderson & Child & NA & MAS                  & MAS\\_3               & NA\\\\\n",
       "\t23 & Peds\\_Febrile\\_Ctrl\\_3 & Henderson & Child & NA & Peds febrile Control & Peds\\_Febrile\\_Ctrl\\_3 & NA\\\\\n",
       "\t25 & KD\\_4                & Henderson & Child & NA & KD                   & KD\\_4                & NA\\\\\n",
       "\t26 & KD\\_3                & Henderson & Child & NA & KD                   & KD\\_3                & NA\\\\\n",
       "\t29 & sJIA\\_7              & Henderson & Child & NA & sJIA                 & sJIA\\_7              & NA\\\\\n",
       "\\end{tabular}\n"
      ],
      "text/markdown": [
       "\n",
       "A data.frame: 6 x 7\n",
       "\n",
       "| <!--/--> | sample_name &lt;chr&gt; | study &lt;chr&gt; | Agegroup &lt;chr&gt; | Sex &lt;chr&gt; | disease &lt;chr&gt; | subject &lt;chr&gt; | age &lt;dbl&gt; |\n",
       "|---|---|---|---|---|---|---|---|\n",
       "| 21 | Peds_Ctrl_2         | Henderson | Child | NA | Peds healthy Control | Peds_Ctrl_2         | NA |\n",
       "| 22 | MAS_3               | Henderson | Child | NA | MAS                  | MAS_3               | NA |\n",
       "| 23 | Peds_Febrile_Ctrl_3 | Henderson | Child | NA | Peds febrile Control | Peds_Febrile_Ctrl_3 | NA |\n",
       "| 25 | KD_4                | Henderson | Child | NA | KD                   | KD_4                | NA |\n",
       "| 26 | KD_3                | Henderson | Child | NA | KD                   | KD_3                | NA |\n",
       "| 29 | sJIA_7              | Henderson | Child | NA | sJIA                 | sJIA_7              | NA |\n",
       "\n"
      ],
      "text/plain": [
       "   sample_name         study     Agegroup Sex disease             \n",
       "21 Peds_Ctrl_2         Henderson Child    NA  Peds healthy Control\n",
       "22 MAS_3               Henderson Child    NA  MAS                 \n",
       "23 Peds_Febrile_Ctrl_3 Henderson Child    NA  Peds febrile Control\n",
       "25 KD_4                Henderson Child    NA  KD                  \n",
       "26 KD_3                Henderson Child    NA  KD                  \n",
       "29 sJIA_7              Henderson Child    NA  sJIA                \n",
       "   subject             age\n",
       "21 Peds_Ctrl_2         NA \n",
       "22 MAS_3               NA \n",
       "23 Peds_Febrile_Ctrl_3 NA \n",
       "25 KD_4                NA \n",
       "26 KD_3                NA \n",
       "29 sJIA_7              NA "
      ]
     },
     "metadata": {},
     "output_type": "display_data"
    }
   ],
   "source": [
    "head(allAdaptive)"
   ]
  },
  {
   "cell_type": "code",
   "execution_count": 106,
   "metadata": {
    "vscode": {
     "languageId": "r"
    }
   },
   "outputs": [
    {
     "data": {
      "text/plain": [
       "\n",
       "        Emerson       Henderson        Mitchell Mitchell_Denver \n",
       "            773              25             203             131 "
      ]
     },
     "metadata": {},
     "output_type": "display_data"
    }
   ],
   "source": [
    "table(allAdaptive$study)"
   ]
  },
  {
   "cell_type": "code",
   "execution_count": 107,
   "metadata": {
    "vscode": {
     "languageId": "r"
    }
   },
   "outputs": [],
   "source": [
    "# tcr_meta <- tcr_meta[, c(\n",
    "#     \"sample_id\", \"biospecimen_id\", \"case_id\", \"file\", \"sample_type\",\n",
    "#     \"therapy_cycle\", \"age_at_diagnosis\", \"disease_type\", \"cancergroup\",\n",
    "#     \"EM%\", \"CM%\", \"Naïve%\", \"SCM%\", \"TE%\", \"PD1%\", \"LAG3%\", \"TIM3%\",\n",
    "#     \"project_id\", \"method\", \"CDR3b\", \"TRBV\", \"TRBJ\", \"clone_count\", \"clonefraction\"\n",
    "# )]"
   ]
  },
  {
   "cell_type": "markdown",
   "metadata": {
    "vscode": {
     "languageId": "r"
    }
   },
   "source": [
    "Mitchell data"
   ]
  },
  {
   "cell_type": "code",
   "execution_count": 108,
   "metadata": {
    "vscode": {
     "languageId": "r"
    }
   },
   "outputs": [],
   "source": [
    "mitchell <- allAdaptive[ grepl(\"Mitchell\", allAdaptive$study),]"
   ]
  },
  {
   "cell_type": "code",
   "execution_count": null,
   "metadata": {
    "vscode": {
     "languageId": "r"
    }
   },
   "outputs": [],
   "source": [
    "tcr_meta1 <- tcr_meta[, c('project_id','manuscript_id','access_level_temp',\n",
    "'library_id','library_version','library_type','capture_version','software','software_version','repseq_version',\n",
    "'TRBV','TRBJ','ntCDR3b', 'aaCDR3b','tcrb_count','TRAV','TRAJ','ntCDR3a','aaCDR3a','tcra_count',\n",
    "'specimen_id','specimen_type', 'sample_id','sample_type','clinical_timepoint',\n",
    "'case_id','age_at_diagnosis','disease_type','is_relapsed','is_deceased','treatment_type'\n",
    ")]\n"
   ]
  },
  {
   "cell_type": "code",
   "execution_count": 109,
   "metadata": {
    "vscode": {
     "languageId": "r"
    }
   },
   "outputs": [],
   "source": [
    "mitchell$project_id <- \"AMM2022JCII\" # Adaptive DOI\n",
    "mitchell$method <- \"Adaptive\"\n",
    "mitchell$manuscript_id <- \"PMID: 35998036\"\n",
    "\n",
    "mitchell$sample_id <- mitchell$sample_name\n",
    "mitchell$specimen_id <- mitchell$sample_name\n",
    "mitchell$sample_type <- \"Blood-Buffy Coat\"\n",
    "mitchell$age_at_collection <- mitchell$age\n",
    "mitchell$case_id <- mitchell$subject\n"
   ]
  },
  {
   "cell_type": "code",
   "execution_count": 110,
   "metadata": {
    "vscode": {
     "languageId": "r"
    }
   },
   "outputs": [],
   "source": [
    "mitchell$disease_type <- NA\n",
    "mitchell$disease_type[ mitchell$disease == \"Ctrl\"] <- \"Healthy\"\n",
    "mitchell$disease_type[ mitchell$disease == \"T1D\"] <- \"Type I diabetes\""
   ]
  },
  {
   "cell_type": "code",
   "execution_count": 113,
   "metadata": {
    "vscode": {
     "languageId": "r"
    }
   },
   "outputs": [
    {
     "data": {
      "text/html": [
       "<table class=\"dataframe\">\n",
       "<caption>A data.frame: 4 x 16</caption>\n",
       "<thead>\n",
       "\t<tr><th></th><th scope=col>sample_name</th><th scope=col>study</th><th scope=col>Agegroup</th><th scope=col>Sex</th><th scope=col>disease</th><th scope=col>subject</th><th scope=col>age</th><th scope=col>project_id</th><th scope=col>method</th><th scope=col>manuscript_id</th><th scope=col>sample_id</th><th scope=col>specimen_id</th><th scope=col>sample_type</th><th scope=col>age_at_collection</th><th scope=col>case_id</th><th scope=col>disease_type</th></tr>\n",
       "\t<tr><th></th><th scope=col>&lt;chr&gt;</th><th scope=col>&lt;chr&gt;</th><th scope=col>&lt;chr&gt;</th><th scope=col>&lt;chr&gt;</th><th scope=col>&lt;chr&gt;</th><th scope=col>&lt;chr&gt;</th><th scope=col>&lt;dbl&gt;</th><th scope=col>&lt;chr&gt;</th><th scope=col>&lt;chr&gt;</th><th scope=col>&lt;chr&gt;</th><th scope=col>&lt;chr&gt;</th><th scope=col>&lt;chr&gt;</th><th scope=col>&lt;chr&gt;</th><th scope=col>&lt;dbl&gt;</th><th scope=col>&lt;chr&gt;</th><th scope=col>&lt;chr&gt;</th></tr>\n",
       "</thead>\n",
       "<tbody>\n",
       "\t<tr><th scope=row>82</th><td>310121_TCRB</td><td>Mitchell</td><td>Child  </td><td>Female</td><td>Ctrl</td><td>Control 006</td><td> 3</td><td>AMM2022JCII</td><td>Adaptive</td><td>PMID: 35998036</td><td>310121_TCRB</td><td>310121_TCRB</td><td>Blood-Buffy Coat</td><td> 3</td><td>Control 006</td><td>Healthy</td></tr>\n",
       "\t<tr><th scope=row>159</th><td>310282_TCRB</td><td>Mitchell</td><td>Child  </td><td>Female</td><td>Ctrl</td><td>Control 006</td><td>10</td><td>AMM2022JCII</td><td>Adaptive</td><td>PMID: 35998036</td><td>310282_TCRB</td><td>310282_TCRB</td><td>Blood-Buffy Coat</td><td>10</td><td>Control 006</td><td>Healthy</td></tr>\n",
       "\t<tr><th scope=row>179</th><td>310215_TCRB</td><td>Mitchell</td><td>Child  </td><td>Female</td><td>Ctrl</td><td>Control 006</td><td> 2</td><td>AMM2022JCII</td><td>Adaptive</td><td>PMID: 35998036</td><td>310215_TCRB</td><td>310215_TCRB</td><td>Blood-Buffy Coat</td><td> 2</td><td>Control 006</td><td>Healthy</td></tr>\n",
       "\t<tr><th scope=row>272</th><td>310205_TCRB</td><td>Mitchell</td><td>Neonate</td><td>Female</td><td>Ctrl</td><td>Control 006</td><td> 0</td><td>AMM2022JCII</td><td>Adaptive</td><td>PMID: 35998036</td><td>310205_TCRB</td><td>310205_TCRB</td><td>Blood-Buffy Coat</td><td> 0</td><td>Control 006</td><td>Healthy</td></tr>\n",
       "</tbody>\n",
       "</table>\n"
      ],
      "text/latex": [
       "A data.frame: 4 x 16\n",
       "\\begin{tabular}{r|llllllllllllllll}\n",
       "  & sample\\_name & study & Agegroup & Sex & disease & subject & age & project\\_id & method & manuscript\\_id & sample\\_id & specimen\\_id & sample\\_type & age\\_at\\_collection & case\\_id & disease\\_type\\\\\n",
       "  & <chr> & <chr> & <chr> & <chr> & <chr> & <chr> & <dbl> & <chr> & <chr> & <chr> & <chr> & <chr> & <chr> & <dbl> & <chr> & <chr>\\\\\n",
       "\\hline\n",
       "\t82 & 310121\\_TCRB & Mitchell & Child   & Female & Ctrl & Control 006 &  3 & AMM2022JCII & Adaptive & PMID: 35998036 & 310121\\_TCRB & 310121\\_TCRB & Blood-Buffy Coat &  3 & Control 006 & Healthy\\\\\n",
       "\t159 & 310282\\_TCRB & Mitchell & Child   & Female & Ctrl & Control 006 & 10 & AMM2022JCII & Adaptive & PMID: 35998036 & 310282\\_TCRB & 310282\\_TCRB & Blood-Buffy Coat & 10 & Control 006 & Healthy\\\\\n",
       "\t179 & 310215\\_TCRB & Mitchell & Child   & Female & Ctrl & Control 006 &  2 & AMM2022JCII & Adaptive & PMID: 35998036 & 310215\\_TCRB & 310215\\_TCRB & Blood-Buffy Coat &  2 & Control 006 & Healthy\\\\\n",
       "\t272 & 310205\\_TCRB & Mitchell & Neonate & Female & Ctrl & Control 006 &  0 & AMM2022JCII & Adaptive & PMID: 35998036 & 310205\\_TCRB & 310205\\_TCRB & Blood-Buffy Coat &  0 & Control 006 & Healthy\\\\\n",
       "\\end{tabular}\n"
      ],
      "text/markdown": [
       "\n",
       "A data.frame: 4 x 16\n",
       "\n",
       "| <!--/--> | sample_name &lt;chr&gt; | study &lt;chr&gt; | Agegroup &lt;chr&gt; | Sex &lt;chr&gt; | disease &lt;chr&gt; | subject &lt;chr&gt; | age &lt;dbl&gt; | project_id &lt;chr&gt; | method &lt;chr&gt; | manuscript_id &lt;chr&gt; | sample_id &lt;chr&gt; | specimen_id &lt;chr&gt; | sample_type &lt;chr&gt; | age_at_collection &lt;dbl&gt; | case_id &lt;chr&gt; | disease_type &lt;chr&gt; |\n",
       "|---|---|---|---|---|---|---|---|---|---|---|---|---|---|---|---|---|\n",
       "| 82 | 310121_TCRB | Mitchell | Child   | Female | Ctrl | Control 006 |  3 | AMM2022JCII | Adaptive | PMID: 35998036 | 310121_TCRB | 310121_TCRB | Blood-Buffy Coat |  3 | Control 006 | Healthy |\n",
       "| 159 | 310282_TCRB | Mitchell | Child   | Female | Ctrl | Control 006 | 10 | AMM2022JCII | Adaptive | PMID: 35998036 | 310282_TCRB | 310282_TCRB | Blood-Buffy Coat | 10 | Control 006 | Healthy |\n",
       "| 179 | 310215_TCRB | Mitchell | Child   | Female | Ctrl | Control 006 |  2 | AMM2022JCII | Adaptive | PMID: 35998036 | 310215_TCRB | 310215_TCRB | Blood-Buffy Coat |  2 | Control 006 | Healthy |\n",
       "| 272 | 310205_TCRB | Mitchell | Neonate | Female | Ctrl | Control 006 |  0 | AMM2022JCII | Adaptive | PMID: 35998036 | 310205_TCRB | 310205_TCRB | Blood-Buffy Coat |  0 | Control 006 | Healthy |\n",
       "\n"
      ],
      "text/plain": [
       "    sample_name study    Agegroup Sex    disease subject     age project_id \n",
       "82  310121_TCRB Mitchell Child    Female Ctrl    Control 006  3  AMM2022JCII\n",
       "159 310282_TCRB Mitchell Child    Female Ctrl    Control 006 10  AMM2022JCII\n",
       "179 310215_TCRB Mitchell Child    Female Ctrl    Control 006  2  AMM2022JCII\n",
       "272 310205_TCRB Mitchell Neonate  Female Ctrl    Control 006  0  AMM2022JCII\n",
       "    method   manuscript_id  sample_id   specimen_id sample_type     \n",
       "82  Adaptive PMID: 35998036 310121_TCRB 310121_TCRB Blood-Buffy Coat\n",
       "159 Adaptive PMID: 35998036 310282_TCRB 310282_TCRB Blood-Buffy Coat\n",
       "179 Adaptive PMID: 35998036 310215_TCRB 310215_TCRB Blood-Buffy Coat\n",
       "272 Adaptive PMID: 35998036 310205_TCRB 310205_TCRB Blood-Buffy Coat\n",
       "    age_at_collection case_id     disease_type\n",
       "82   3                Control 006 Healthy     \n",
       "159 10                Control 006 Healthy     \n",
       "179  2                Control 006 Healthy     \n",
       "272  0                Control 006 Healthy     "
      ]
     },
     "metadata": {},
     "output_type": "display_data"
    }
   ],
   "source": [
    "mitchell[ mitchell$subject == \"Control 006\",]"
   ]
  },
  {
   "cell_type": "code",
   "execution_count": 114,
   "metadata": {
    "vscode": {
     "languageId": "r"
    }
   },
   "outputs": [],
   "source": [
    "write.table(mitchell, file = \"/Users/anabbi/Desktop/H4H/INTERCEPT/analysis/TIGERDB/mitchell_tcr_metadata.txt\", quote = F, row.names = F, sep = \"\\t\")"
   ]
  },
  {
   "cell_type": "code",
   "execution_count": 53,
   "metadata": {
    "vscode": {
     "languageId": "r"
    }
   },
   "outputs": [],
   "source": [
    "adaptivefile <- \"/Users/anabbi/Desktop/H4H/INTERCEPT/Adaptive/Mitchell_Michels2022/310279_TCRB.tsv\""
   ]
  },
  {
   "cell_type": "code",
   "execution_count": null,
   "metadata": {
    "vscode": {
     "languageId": "r"
    }
   },
   "outputs": [],
   "source": []
  }
 ],
 "metadata": {
  "kernelspec": {
   "display_name": "R 4.0",
   "language": "R",
   "name": "ir40"
  },
  "language_info": {
   "codemirror_mode": "r",
   "file_extension": ".r",
   "mimetype": "text/x-r-source",
   "name": "R",
   "pygments_lexer": "r",
   "version": "4.2.2"
  },
  "toc": {
   "base_numbering": 1,
   "nav_menu": {},
   "number_sections": false,
   "sideBar": true,
   "skip_h1_title": false,
   "title_cell": "Table of Contents",
   "title_sidebar": "Contents",
   "toc_cell": true,
   "toc_position": {
    "height": "calc(100% - 180px)",
    "left": "10px",
    "top": "150px",
    "width": "186.15px"
   },
   "toc_section_display": true,
   "toc_window_display": true
  }
 },
 "nbformat": 4,
 "nbformat_minor": 2
}

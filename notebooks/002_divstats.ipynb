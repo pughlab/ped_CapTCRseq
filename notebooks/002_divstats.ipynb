{
 "cells": [
  {
   "cell_type": "code",
   "execution_count": 1,
   "metadata": {
    "vscode": {
     "languageId": "r"
    }
   },
   "outputs": [
    {
     "data": {
      "text/html": [
       "'en_US.UTF-8/en_US.UTF-8/en_US.UTF-8/C/en_US.UTF-8/C'"
      ],
      "text/latex": [
       "'en\\_US.UTF-8/en\\_US.UTF-8/en\\_US.UTF-8/C/en\\_US.UTF-8/C'"
      ],
      "text/markdown": [
       "'en_US.UTF-8/en_US.UTF-8/en_US.UTF-8/C/en_US.UTF-8/C'"
      ],
      "text/plain": [
       "[1] \"en_US.UTF-8/en_US.UTF-8/en_US.UTF-8/C/en_US.UTF-8/C\""
      ]
     },
     "metadata": {},
     "output_type": "display_data"
    }
   ],
   "source": [
    "Sys.setlocale(category = \"LC_ALL\", locale = \"en_US.UTF-8\")"
   ]
  },
  {
   "attachments": {},
   "cell_type": "markdown",
   "metadata": {},
   "source": [
    "# Dependencies"
   ]
  },
  {
   "attachments": {},
   "cell_type": "markdown",
   "metadata": {},
   "source": [
    "# Functions"
   ]
  },
  {
   "cell_type": "code",
   "execution_count": 2,
   "metadata": {
    "vscode": {
     "languageId": "r"
    }
   },
   "outputs": [],
   "source": [
    "source(\"/Users/anabbi/git/ped_CapTCRseq/R/Immune_Diversity.R\")"
   ]
  },
  {
   "attachments": {},
   "cell_type": "markdown",
   "metadata": {},
   "source": [
    "# Paths"
   ]
  },
  {
   "cell_type": "code",
   "execution_count": 3,
   "metadata": {
    "vscode": {
     "languageId": "r"
    }
   },
   "outputs": [],
   "source": [
    "datapath <- \"/Users/anabbi/OneDrive - UHN/Documents/INTERCEPT/Data/\"\n",
    "plotpath <- \"/Users/anabbi/OneDrive - UHN/Documents/INTERCEPT/Plots/\"\n",
    "manifestpath <- \"/Users/anabbi/OneDrive - UHN/Documents/INTERCEPT/Manifests/\"\n",
    "\n",
    "gitpath <- \"/Users/anabbi/git/ped_CapTCRseq/\""
   ]
  },
  {
   "attachments": {},
   "cell_type": "markdown",
   "metadata": {},
   "source": [
    "# Main"
   ]
  },
  {
   "cell_type": "code",
   "execution_count": 4,
   "metadata": {
    "vscode": {
     "languageId": "r"
    }
   },
   "outputs": [],
   "source": [
    "h4hpath <- \"/Users/anabbi/Desktop/H4H/INTERCEPT/NextSeq/\""
   ]
  },
  {
   "attachments": {},
   "cell_type": "markdown",
   "metadata": {},
   "source": [
    "## TRB"
   ]
  },
  {
   "cell_type": "code",
   "execution_count": null,
   "metadata": {
    "vscode": {
     "languageId": "r"
    }
   },
   "outputs": [],
   "source": [
    "file_list <- list.files(h4hpath, pattern = paste0(\"CLONES_\", \"TRB\"), recursive = T)"
   ]
  },
  {
   "cell_type": "code",
   "execution_count": null,
   "metadata": {
    "vscode": {
     "languageId": "r"
    }
   },
   "outputs": [],
   "source": [
    "tail(file_list)"
   ]
  },
  {
   "cell_type": "code",
   "execution_count": null,
   "metadata": {
    "vscode": {
     "languageId": "r"
    }
   },
   "outputs": [],
   "source": [
    "# remove downsample files\n",
    "file_list <- file_list[!grepl(\"_2000000\", file_list)]"
   ]
  },
  {
   "attachments": {},
   "cell_type": "markdown",
   "metadata": {},
   "source": [
    "Some files are duplicated. Make a table to identify and pick the larger clone file"
   ]
  },
  {
   "cell_type": "code",
   "execution_count": null,
   "metadata": {
    "vscode": {
     "languageId": "r"
    }
   },
   "outputs": [],
   "source": [
    "file_df <- as.data.frame(file_list)"
   ]
  },
  {
   "cell_type": "code",
   "execution_count": null,
   "metadata": {
    "vscode": {
     "languageId": "r"
    }
   },
   "outputs": [],
   "source": [
    "file_df$samplename <- gsub(\".*CLONES_TRB\", \"\", file_df$file_list)\n",
    "file_df$samplename <- gsub(\".txt\", \"\", file_df$samplename)"
   ]
  },
  {
   "cell_type": "code",
   "execution_count": null,
   "metadata": {
    "vscode": {
     "languageId": "r"
    }
   },
   "outputs": [],
   "source": [
    "file_df$size <- NA\n",
    "for(i in 1:nrow(file_df)){\n",
    "    file_df$size[i] <- file.size(paste0(h4hpath,file_df$file_list[i]))\n",
    "}"
   ]
  },
  {
   "cell_type": "code",
   "execution_count": null,
   "metadata": {
    "vscode": {
     "languageId": "r"
    }
   },
   "outputs": [],
   "source": [
    "head(file_df)"
   ]
  },
  {
   "cell_type": "code",
   "execution_count": null,
   "metadata": {
    "vscode": {
     "languageId": "r"
    }
   },
   "outputs": [],
   "source": [
    "file_df[ grepl(\"383-03\", file_df$file_list),]"
   ]
  },
  {
   "cell_type": "code",
   "execution_count": null,
   "metadata": {
    "vscode": {
     "languageId": "r"
    }
   },
   "outputs": [],
   "source": [
    "file_df <- file_df[ !grepl(\"immunarch\", file_df$file_list),]"
   ]
  },
  {
   "cell_type": "code",
   "execution_count": null,
   "metadata": {
    "vscode": {
     "languageId": "r"
    }
   },
   "outputs": [],
   "source": [
    "#if duplicated keep the bigger file corresponding to deeper seqeuncing.\n",
    "file_df_dedup <- file_df[0,]\n",
    "\n",
    "for(s in unique(file_df$samplename)){\n",
    "    tmp <- file_df[ file_df$samplename == s,]\n",
    "    if(nrow(tmp) ==1 ){\n",
    "        file_df_dedup <- rbind(file_df_dedup, tmp)\n",
    "    }\n",
    "    if(nrow(tmp) > 1 ){\n",
    "        file_df_dedup <- rbind(file_df_dedup, tmp[ tmp$size == max(tmp$size),])\n",
    "    }    \n",
    "}"
   ]
  },
  {
   "cell_type": "code",
   "execution_count": null,
   "metadata": {
    "vscode": {
     "languageId": "r"
    }
   },
   "outputs": [],
   "source": [
    "file_df_dedup[ grepl(\"343-05\", file_df_dedup$file_list),]"
   ]
  },
  {
   "cell_type": "code",
   "execution_count": null,
   "metadata": {
    "vscode": {
     "languageId": "r"
    }
   },
   "outputs": [],
   "source": [
    "dim(file_df)\n",
    "dim(file_df_dedup)"
   ]
  },
  {
   "cell_type": "code",
   "execution_count": null,
   "metadata": {
    "vscode": {
     "languageId": "r"
    }
   },
   "outputs": [],
   "source": [
    "file_df_dedup_trb <- file_df_dedup\n",
    "save(file_df_dedup_trb, file = paste0(datapath,\"capTCRseq/TRBfiles.RData\"))"
   ]
  },
  {
   "cell_type": "code",
   "execution_count": null,
   "metadata": {
    "vscode": {
     "languageId": "r"
    }
   },
   "outputs": [],
   "source": [
    "batchTRB <- immunelistfx(file_df_dedup$file_list, h4hpath, \"TRB\")"
   ]
  },
  {
   "cell_type": "code",
   "execution_count": null,
   "metadata": {
    "vscode": {
     "languageId": "r"
    }
   },
   "outputs": [],
   "source": [
    "names(batchTRB) <- gsub(\".*CLONES_TRB\", \"\", names(batchTRB))"
   ]
  },
  {
   "cell_type": "code",
   "execution_count": null,
   "metadata": {
    "vscode": {
     "languageId": "r"
    }
   },
   "outputs": [],
   "source": [
    "head(names(batchTRB))"
   ]
  },
  {
   "cell_type": "code",
   "execution_count": null,
   "metadata": {
    "vscode": {
     "languageId": "r"
    }
   },
   "outputs": [],
   "source": [
    "TRBlist <- batchTRB "
   ]
  },
  {
   "cell_type": "code",
   "execution_count": null,
   "metadata": {
    "vscode": {
     "languageId": "r"
    }
   },
   "outputs": [],
   "source": [
    "save(TRBlist, file = paste0(datapath,\"capTCRseq/TRBlist.RData\"))"
   ]
  },
  {
   "attachments": {},
   "cell_type": "markdown",
   "metadata": {},
   "source": [
    "### divstats"
   ]
  },
  {
   "cell_type": "code",
   "execution_count": 19,
   "metadata": {
    "vscode": {
     "languageId": "r"
    }
   },
   "outputs": [],
   "source": [
    "load(file = paste0(datapath,\"capTCRseq/TRBlist.RData\"))\n",
    "load(file = paste0(datapath,\"capTCRseq/TRBfiles.RData\"))"
   ]
  },
  {
   "cell_type": "code",
   "execution_count": 10,
   "metadata": {
    "vscode": {
     "languageId": "r"
    }
   },
   "outputs": [
    {
     "data": {
      "text/html": [
       "580"
      ],
      "text/latex": [
       "580"
      ],
      "text/markdown": [
       "580"
      ],
      "text/plain": [
       "[1] 580"
      ]
     },
     "metadata": {},
     "output_type": "display_data"
    }
   ],
   "source": [
    "TRBlist <- TRBlist[sapply(TRBlist, function(x) length((x)) != 0)]\n",
    "length(names(TRBlist))"
   ]
  },
  {
   "cell_type": "code",
   "execution_count": 20,
   "metadata": {
    "vscode": {
     "languageId": "r"
    }
   },
   "outputs": [
    {
     "data": {
      "text/html": [
       "<dl>\n",
       "\t<dt>$`CHP_358-02_cfDNA`</dt>\n",
       "\t\t<dd><style>\n",
       ".list-inline {list-style: none; margin:0; padding: 0}\n",
       ".list-inline>li {display: inline-block}\n",
       ".list-inline>li:not(:last-child)::after {content: \"\\00b7\"; padding: 0 .5ex}\n",
       "</style>\n",
       "<ol class=list-inline><li>1745</li><li>1723</li><li>1493</li><li>1238</li><li>930</li><li>775</li><li>765</li><li>728</li><li>697</li><li>455</li><li>433</li><li>212</li><li>185</li><li>110</li><li>33</li><li>1</li></ol>\n",
       "</dd>\n",
       "\t<dt>$`CHP_361-02_cfDNA`</dt>\n",
       "\t\t<dd><style>\n",
       ".list-inline {list-style: none; margin:0; padding: 0}\n",
       ".list-inline>li {display: inline-block}\n",
       ".list-inline>li:not(:last-child)::after {content: \"\\00b7\"; padding: 0 .5ex}\n",
       "</style>\n",
       "<ol class=list-inline><li>1318</li><li>700</li><li>649</li><li>333</li><li>61</li><li>40</li></ol>\n",
       "</dd>\n",
       "</dl>\n"
      ],
      "text/latex": [
       "\\begin{description}\n",
       "\\item[\\$`CHP\\_358-02\\_cfDNA`] \\begin{enumerate*}\n",
       "\\item 1745\n",
       "\\item 1723\n",
       "\\item 1493\n",
       "\\item 1238\n",
       "\\item 930\n",
       "\\item 775\n",
       "\\item 765\n",
       "\\item 728\n",
       "\\item 697\n",
       "\\item 455\n",
       "\\item 433\n",
       "\\item 212\n",
       "\\item 185\n",
       "\\item 110\n",
       "\\item 33\n",
       "\\item 1\n",
       "\\end{enumerate*}\n",
       "\n",
       "\\item[\\$`CHP\\_361-02\\_cfDNA`] \\begin{enumerate*}\n",
       "\\item 1318\n",
       "\\item 700\n",
       "\\item 649\n",
       "\\item 333\n",
       "\\item 61\n",
       "\\item 40\n",
       "\\end{enumerate*}\n",
       "\n",
       "\\end{description}\n"
      ],
      "text/markdown": [
       "$`CHP_358-02_cfDNA`\n",
       ":   1. 1745\n",
       "2. 1723\n",
       "3. 1493\n",
       "4. 1238\n",
       "5. 930\n",
       "6. 775\n",
       "7. 765\n",
       "8. 728\n",
       "9. 697\n",
       "10. 455\n",
       "11. 433\n",
       "12. 212\n",
       "13. 185\n",
       "14. 110\n",
       "15. 33\n",
       "16. 1\n",
       "\n",
       "\n",
       "\n",
       "$`CHP_361-02_cfDNA`\n",
       ":   1. 1318\n",
       "2. 700\n",
       "3. 649\n",
       "4. 333\n",
       "5. 61\n",
       "6. 40\n",
       "\n",
       "\n",
       "\n",
       "\n",
       "\n"
      ],
      "text/plain": [
       "$`CHP_358-02_cfDNA`\n",
       " [1] 1745 1723 1493 1238  930  775  765  728  697  455  433  212  185  110   33\n",
       "[16]    1\n",
       "\n",
       "$`CHP_361-02_cfDNA`\n",
       "[1] 1318  700  649  333   61   40\n"
      ]
     },
     "metadata": {},
     "output_type": "display_data"
    }
   ],
   "source": [
    "TRBlist[64:65]"
   ]
  },
  {
   "cell_type": "code",
   "execution_count": 11,
   "metadata": {
    "vscode": {
     "languageId": "r"
    }
   },
   "outputs": [],
   "source": [
    "# add filenames to divstats\n",
    "myfilenames <- file_df_dedup_trb[ file_df_dedup_trb$samplename %in% names(TRBlist),]"
   ]
  },
  {
   "cell_type": "code",
   "execution_count": 12,
   "metadata": {
    "vscode": {
     "languageId": "r"
    }
   },
   "outputs": [
    {
     "data": {
      "text/html": [
       "<table class=\"dataframe\">\n",
       "<caption>A data.frame: 6 x 3</caption>\n",
       "<thead>\n",
       "\t<tr><th></th><th scope=col>file_list</th><th scope=col>samplename</th><th scope=col>size</th></tr>\n",
       "\t<tr><th></th><th scope=col>&lt;chr&gt;</th><th scope=col>&lt;chr&gt;</th><th scope=col>&lt;dbl&gt;</th></tr>\n",
       "</thead>\n",
       "<tbody>\n",
       "\t<tr><th scope=row>264</th><td>batch4_19Aug2019/mixcr/clones/CLONES_TRBCHP_315-05-PBMC-DNA.txt     </td><td>CHP_315-05-PBMC-DNA</td><td> 16011</td></tr>\n",
       "\t<tr><th scope=row>2</th><td>batch_reseq_24Feb2020/mixcr/clones/CLONES_TRBCHP_350-01-PBMC-DNA.txt</td><td>CHP_350-01-PBMC-DNA</td><td> 85631</td></tr>\n",
       "\t<tr><th scope=row>3</th><td>batch_reseq_24Feb2020/mixcr/clones/CLONES_TRBCHP_350-02-PBMC-DNA.txt</td><td>CHP_350-02-PBMC-DNA</td><td>143632</td></tr>\n",
       "\t<tr><th scope=row>4</th><td>batch_reseq_24Feb2020/mixcr/clones/CLONES_TRBCHP_350-03-PBMC-DNA.txt</td><td>CHP_350-03-PBMC-DNA</td><td>107190</td></tr>\n",
       "\t<tr><th scope=row>5</th><td>batch_reseq_24Feb2020/mixcr/clones/CLONES_TRBCHP_350-04-PBMC-DNA.txt</td><td>CHP_350-04-PBMC-DNA</td><td> 54188</td></tr>\n",
       "\t<tr><th scope=row>6</th><td>batch_reseq_24Feb2020/mixcr/clones/CLONES_TRBCHP_353-02-PBMC-DNA.txt</td><td>CHP_353-02-PBMC-DNA</td><td>  9062</td></tr>\n",
       "</tbody>\n",
       "</table>\n"
      ],
      "text/latex": [
       "A data.frame: 6 x 3\n",
       "\\begin{tabular}{r|lll}\n",
       "  & file\\_list & samplename & size\\\\\n",
       "  & <chr> & <chr> & <dbl>\\\\\n",
       "\\hline\n",
       "\t264 & batch4\\_19Aug2019/mixcr/clones/CLONES\\_TRBCHP\\_315-05-PBMC-DNA.txt      & CHP\\_315-05-PBMC-DNA &  16011\\\\\n",
       "\t2 & batch\\_reseq\\_24Feb2020/mixcr/clones/CLONES\\_TRBCHP\\_350-01-PBMC-DNA.txt & CHP\\_350-01-PBMC-DNA &  85631\\\\\n",
       "\t3 & batch\\_reseq\\_24Feb2020/mixcr/clones/CLONES\\_TRBCHP\\_350-02-PBMC-DNA.txt & CHP\\_350-02-PBMC-DNA & 143632\\\\\n",
       "\t4 & batch\\_reseq\\_24Feb2020/mixcr/clones/CLONES\\_TRBCHP\\_350-03-PBMC-DNA.txt & CHP\\_350-03-PBMC-DNA & 107190\\\\\n",
       "\t5 & batch\\_reseq\\_24Feb2020/mixcr/clones/CLONES\\_TRBCHP\\_350-04-PBMC-DNA.txt & CHP\\_350-04-PBMC-DNA &  54188\\\\\n",
       "\t6 & batch\\_reseq\\_24Feb2020/mixcr/clones/CLONES\\_TRBCHP\\_353-02-PBMC-DNA.txt & CHP\\_353-02-PBMC-DNA &   9062\\\\\n",
       "\\end{tabular}\n"
      ],
      "text/markdown": [
       "\n",
       "A data.frame: 6 x 3\n",
       "\n",
       "| <!--/--> | file_list &lt;chr&gt; | samplename &lt;chr&gt; | size &lt;dbl&gt; |\n",
       "|---|---|---|---|\n",
       "| 264 | batch4_19Aug2019/mixcr/clones/CLONES_TRBCHP_315-05-PBMC-DNA.txt      | CHP_315-05-PBMC-DNA |  16011 |\n",
       "| 2 | batch_reseq_24Feb2020/mixcr/clones/CLONES_TRBCHP_350-01-PBMC-DNA.txt | CHP_350-01-PBMC-DNA |  85631 |\n",
       "| 3 | batch_reseq_24Feb2020/mixcr/clones/CLONES_TRBCHP_350-02-PBMC-DNA.txt | CHP_350-02-PBMC-DNA | 143632 |\n",
       "| 4 | batch_reseq_24Feb2020/mixcr/clones/CLONES_TRBCHP_350-03-PBMC-DNA.txt | CHP_350-03-PBMC-DNA | 107190 |\n",
       "| 5 | batch_reseq_24Feb2020/mixcr/clones/CLONES_TRBCHP_350-04-PBMC-DNA.txt | CHP_350-04-PBMC-DNA |  54188 |\n",
       "| 6 | batch_reseq_24Feb2020/mixcr/clones/CLONES_TRBCHP_353-02-PBMC-DNA.txt | CHP_353-02-PBMC-DNA |   9062 |\n",
       "\n"
      ],
      "text/plain": [
       "    file_list                                                           \n",
       "264 batch4_19Aug2019/mixcr/clones/CLONES_TRBCHP_315-05-PBMC-DNA.txt     \n",
       "2   batch_reseq_24Feb2020/mixcr/clones/CLONES_TRBCHP_350-01-PBMC-DNA.txt\n",
       "3   batch_reseq_24Feb2020/mixcr/clones/CLONES_TRBCHP_350-02-PBMC-DNA.txt\n",
       "4   batch_reseq_24Feb2020/mixcr/clones/CLONES_TRBCHP_350-03-PBMC-DNA.txt\n",
       "5   batch_reseq_24Feb2020/mixcr/clones/CLONES_TRBCHP_350-04-PBMC-DNA.txt\n",
       "6   batch_reseq_24Feb2020/mixcr/clones/CLONES_TRBCHP_353-02-PBMC-DNA.txt\n",
       "    samplename          size  \n",
       "264 CHP_315-05-PBMC-DNA  16011\n",
       "2   CHP_350-01-PBMC-DNA  85631\n",
       "3   CHP_350-02-PBMC-DNA 143632\n",
       "4   CHP_350-03-PBMC-DNA 107190\n",
       "5   CHP_350-04-PBMC-DNA  54188\n",
       "6   CHP_353-02-PBMC-DNA   9062"
      ]
     },
     "metadata": {},
     "output_type": "display_data"
    }
   ],
   "source": [
    "head(myfilenames)"
   ]
  },
  {
   "cell_type": "code",
   "execution_count": 21,
   "metadata": {
    "vscode": {
     "languageId": "r"
    }
   },
   "outputs": [],
   "source": [
    "#Divstats.fx(TRBlist, \"TRB\", \"CHP\", paste0(datapath, \"capTCRseq/\"))"
   ]
  },
  {
   "cell_type": "code",
   "execution_count": null,
   "metadata": {
    "vscode": {
     "languageId": "r"
    }
   },
   "outputs": [],
   "source": [
    "# save(TRBlist, file = \"/Users/anabbi/Desktop/H4H/INTERCEPT/analysis/metadata/TRBlist.RData\")\n",
    "# save(file_df_dedup_trb, file = \"/Users/anabbi/Desktop/H4H/INTERCEPT/analysis/metadata/TRBfiles.RData\")"
   ]
  },
  {
   "attachments": {},
   "cell_type": "markdown",
   "metadata": {},
   "source": [
    "### Cleanup divstats"
   ]
  },
  {
   "cell_type": "code",
   "execution_count": 24,
   "metadata": {
    "vscode": {
     "languageId": "r"
    }
   },
   "outputs": [],
   "source": [
    "divstats <- read.csv(paste0(datapath, \"capTCRseq/divstats_TRBCHP.csv\"), header = T, stringsAsFactors = F, row.names = 1)"
   ]
  },
  {
   "cell_type": "code",
   "execution_count": 26,
   "metadata": {
    "vscode": {
     "languageId": "r"
    }
   },
   "outputs": [
    {
     "data": {
      "text/html": [
       "<table class=\"dataframe\">\n",
       "<caption>A data.frame: 1 x 19</caption>\n",
       "<thead>\n",
       "\t<tr><th></th><th scope=col>TRB</th><th scope=col>Reads</th><th scope=col>CPKR</th><th scope=col>Average_reads</th><th scope=col>VMR</th><th scope=col>Max_reads</th><th scope=col>Singletons</th><th scope=col>Doubletons</th><th scope=col>qD</th><th scope=col>Sample_Coverage</th><th scope=col>observed_Richness</th><th scope=col>estimated_Richness</th><th scope=col>SE_Richeness</th><th scope=col>observed_Shannon</th><th scope=col>estimated_Shannon</th><th scope=col>SE_Shannon</th><th scope=col>observed_Simpson</th><th scope=col>estimated_Simpson</th><th scope=col>SE_Simpson</th></tr>\n",
       "\t<tr><th></th><th scope=col>&lt;int&gt;</th><th scope=col>&lt;int&gt;</th><th scope=col>&lt;dbl&gt;</th><th scope=col>&lt;dbl&gt;</th><th scope=col>&lt;dbl&gt;</th><th scope=col>&lt;int&gt;</th><th scope=col>&lt;int&gt;</th><th scope=col>&lt;int&gt;</th><th scope=col>&lt;dbl&gt;</th><th scope=col>&lt;dbl&gt;</th><th scope=col>&lt;int&gt;</th><th scope=col>&lt;dbl&gt;</th><th scope=col>&lt;dbl&gt;</th><th scope=col>&lt;dbl&gt;</th><th scope=col>&lt;dbl&gt;</th><th scope=col>&lt;dbl&gt;</th><th scope=col>&lt;dbl&gt;</th><th scope=col>&lt;dbl&gt;</th><th scope=col>&lt;dbl&gt;</th></tr>\n",
       "</thead>\n",
       "<tbody>\n",
       "\t<tr><th scope=row>CHP_358-02_cfDNA</th><td>16</td><td>11523</td><td>1.388527</td><td>720.1875</td><td>0.8040794</td><td>1745</td><td>1</td><td>0</td><td>16</td><td>1</td><td>16</td><td>16</td><td>0.482</td><td>11.428</td><td>11.436</td><td>0.064</td><td>9.962</td><td>9.97</td><td>0.073</td></tr>\n",
       "</tbody>\n",
       "</table>\n"
      ],
      "text/latex": [
       "A data.frame: 1 x 19\n",
       "\\begin{tabular}{r|lllllllllllllllllll}\n",
       "  & TRB & Reads & CPKR & Average\\_reads & VMR & Max\\_reads & Singletons & Doubletons & qD & Sample\\_Coverage & observed\\_Richness & estimated\\_Richness & SE\\_Richeness & observed\\_Shannon & estimated\\_Shannon & SE\\_Shannon & observed\\_Simpson & estimated\\_Simpson & SE\\_Simpson\\\\\n",
       "  & <int> & <int> & <dbl> & <dbl> & <dbl> & <int> & <int> & <int> & <dbl> & <dbl> & <int> & <dbl> & <dbl> & <dbl> & <dbl> & <dbl> & <dbl> & <dbl> & <dbl>\\\\\n",
       "\\hline\n",
       "\tCHP\\_358-02\\_cfDNA & 16 & 11523 & 1.388527 & 720.1875 & 0.8040794 & 1745 & 1 & 0 & 16 & 1 & 16 & 16 & 0.482 & 11.428 & 11.436 & 0.064 & 9.962 & 9.97 & 0.073\\\\\n",
       "\\end{tabular}\n"
      ],
      "text/markdown": [
       "\n",
       "A data.frame: 1 x 19\n",
       "\n",
       "| <!--/--> | TRB &lt;int&gt; | Reads &lt;int&gt; | CPKR &lt;dbl&gt; | Average_reads &lt;dbl&gt; | VMR &lt;dbl&gt; | Max_reads &lt;int&gt; | Singletons &lt;int&gt; | Doubletons &lt;int&gt; | qD &lt;dbl&gt; | Sample_Coverage &lt;dbl&gt; | observed_Richness &lt;int&gt; | estimated_Richness &lt;dbl&gt; | SE_Richeness &lt;dbl&gt; | observed_Shannon &lt;dbl&gt; | estimated_Shannon &lt;dbl&gt; | SE_Shannon &lt;dbl&gt; | observed_Simpson &lt;dbl&gt; | estimated_Simpson &lt;dbl&gt; | SE_Simpson &lt;dbl&gt; |\n",
       "|---|---|---|---|---|---|---|---|---|---|---|---|---|---|---|---|---|---|---|---|\n",
       "| CHP_358-02_cfDNA | 16 | 11523 | 1.388527 | 720.1875 | 0.8040794 | 1745 | 1 | 0 | 16 | 1 | 16 | 16 | 0.482 | 11.428 | 11.436 | 0.064 | 9.962 | 9.97 | 0.073 |\n",
       "\n"
      ],
      "text/plain": [
       "                 TRB Reads CPKR     Average_reads VMR       Max_reads\n",
       "CHP_358-02_cfDNA 16  11523 1.388527 720.1875      0.8040794 1745     \n",
       "                 Singletons Doubletons qD Sample_Coverage observed_Richness\n",
       "CHP_358-02_cfDNA 1          0          16 1               16               \n",
       "                 estimated_Richness SE_Richeness observed_Shannon\n",
       "CHP_358-02_cfDNA 16                 0.482        11.428          \n",
       "                 estimated_Shannon SE_Shannon observed_Simpson\n",
       "CHP_358-02_cfDNA 11.436            0.064      9.962           \n",
       "                 estimated_Simpson SE_Simpson\n",
       "CHP_358-02_cfDNA 9.97              0.073     "
      ]
     },
     "metadata": {},
     "output_type": "display_data"
    }
   ],
   "source": [
    "divstats[\"CHP_358-02_cfDNA\",]"
   ]
  },
  {
   "cell_type": "code",
   "execution_count": 27,
   "metadata": {
    "vscode": {
     "languageId": "r"
    }
   },
   "outputs": [],
   "source": [
    "#add 9 samples with nonproductive cdr3\n",
    "addsamples <- c('CHP_347-01-cfDNA','CHP_366-05_cfDNA','CHP_377-01-cfDNA',\n",
    "                'CHP_381-05_cfDNA','CHP_391-02_cfDNA','CHP_392-01_cfDNA',\n",
    "                'CHP_398-01_cfDNA','CHP_401-03_cfDNA','CHP_419-FFPE-DNA_S2')"
   ]
  },
  {
   "cell_type": "code",
   "execution_count": 28,
   "metadata": {
    "vscode": {
     "languageId": "r"
    }
   },
   "outputs": [],
   "source": [
    "divstats[ nrow(divstats) + 9 , ] <- NA"
   ]
  },
  {
   "cell_type": "code",
   "execution_count": 29,
   "metadata": {
    "vscode": {
     "languageId": "r"
    }
   },
   "outputs": [],
   "source": [
    "rownames(divstats)[is.na(divstats$TRB)] <- addsamples"
   ]
  },
  {
   "cell_type": "code",
   "execution_count": 30,
   "metadata": {
    "vscode": {
     "languageId": "r"
    }
   },
   "outputs": [],
   "source": [
    "#example sample_id CHP_xxx_xx\n",
    "divstats$sample_id <- rownames(divstats)\n",
    "\n",
    "#example basename CHP_xxx-xx-PBMC-DNA\n",
    "divstats$basename <- rownames(divstats)"
   ]
  },
  {
   "cell_type": "code",
   "execution_count": 31,
   "metadata": {
    "vscode": {
     "languageId": "r"
    }
   },
   "outputs": [],
   "source": [
    "# add filenames to divstats\n",
    "divstats$file <- myfilenames$file_list[ match(divstats$sample_id, myfilenames$samplename)]"
   ]
  },
  {
   "attachments": {},
   "cell_type": "markdown",
   "metadata": {},
   "source": [
    "Separate samples"
   ]
  },
  {
   "cell_type": "code",
   "execution_count": 32,
   "metadata": {
    "vscode": {
     "languageId": "r"
    }
   },
   "outputs": [],
   "source": [
    "#divstats$Sample <- NULL"
   ]
  },
  {
   "cell_type": "code",
   "execution_count": 33,
   "metadata": {
    "vscode": {
     "languageId": "r"
    }
   },
   "outputs": [],
   "source": [
    "divstats$Sample <- NA\n",
    "divstats$Sample[grepl(\"PBMC\", rownames(divstats))] <- \"PBMC\"\n",
    "divstats$Sample[grepl(\"cfDNA\", rownames(divstats))] <- \"cfDNA\"\n",
    "divstats$Sample[grepl(\"FFPE\", rownames(divstats))] <- \"Tumor\""
   ]
  },
  {
   "attachments": {},
   "cell_type": "markdown",
   "metadata": {},
   "source": [
    "Separate LFS and non-LFS"
   ]
  },
  {
   "cell_type": "code",
   "execution_count": 34,
   "metadata": {
    "vscode": {
     "languageId": "r"
    }
   },
   "outputs": [],
   "source": [
    "divstats$Group <- NA\n",
    "divstats$Group[grepl(\"LFS\", rownames(divstats))] <- \"LFS\"\n",
    "divstats$Group[grepl(\"CHP\", rownames(divstats))] <- \"CHP\""
   ]
  },
  {
   "cell_type": "code",
   "execution_count": 35,
   "metadata": {
    "vscode": {
     "languageId": "r"
    }
   },
   "outputs": [],
   "source": [
    "#table(divstats$Group, useNA = \"always\")"
   ]
  },
  {
   "cell_type": "code",
   "execution_count": 36,
   "metadata": {
    "vscode": {
     "languageId": "r"
    }
   },
   "outputs": [],
   "source": [
    "#tapply(divstats$TRB, divstats$sampletype, summary)"
   ]
  },
  {
   "cell_type": "code",
   "execution_count": 37,
   "metadata": {
    "vscode": {
     "languageId": "r"
    }
   },
   "outputs": [
    {
     "data": {
      "text/plain": [
       "    Min.  1st Qu.   Median     Mean  3rd Qu.     Max.     NA's \n",
       "     1.0    841.8   3088.5  18710.4  12587.8 363060.0        9 "
      ]
     },
     "metadata": {},
     "output_type": "display_data"
    }
   ],
   "source": [
    "summary(divstats$Reads)"
   ]
  },
  {
   "attachments": {},
   "cell_type": "markdown",
   "metadata": {},
   "source": [
    "Get patient ids"
   ]
  },
  {
   "cell_type": "code",
   "execution_count": 38,
   "metadata": {
    "vscode": {
     "languageId": "r"
    }
   },
   "outputs": [],
   "source": [
    "divstats$Patient <- NA\n",
    "# CHP\n",
    "divstats$Patient[divstats$Group == \"CHP\"] <- substr(rownames(divstats)[divstats$Group == \"CHP\"],1,7)\n",
    "# Normal samples have either YO or MO\n",
    "divstats$Patient[grepl(\"YO\", rownames(divstats))] <- gsub(\"_PBMC_DNA\", \"\", rownames(divstats)[grepl(\"YO\", rownames(divstats))])\n",
    "divstats$Patient[grepl(\"MO\", rownames(divstats))] <- gsub(\"_PBMC_DNA\", \"\", rownames(divstats)[grepl(\"MO\", rownames(divstats))])\n",
    "# LFS\n",
    "divstats$Patient[divstats$Group == \"LFS\"] <- substr(rownames(divstats)[divstats$Group == \"LFS\"],1,12)"
   ]
  },
  {
   "attachments": {},
   "cell_type": "markdown",
   "metadata": {},
   "source": [
    "Get cycles. For LFS, Normals and Tumors recode to 00"
   ]
  },
  {
   "cell_type": "code",
   "execution_count": 39,
   "metadata": {
    "vscode": {
     "languageId": "r"
    }
   },
   "outputs": [],
   "source": [
    "divstats$Cycle <- NA\n",
    "divstats$Cycle[divstats$Group == \"CHP\"] <- substr(rownames(divstats)[divstats$Group == \"CHP\"],9,10)\n",
    "divstats$Cycle[grepl(\"YO\", rownames(divstats))] <- \"00\"\n",
    "divstats$Cycle[grepl(\"MO\", rownames(divstats))] <- \"00\"\n",
    "divstats$Cycle[ divstats$Sample == \"Tumor\"] <- \"00\"\n",
    "divstats$Cycle[ divstats$Group == \"LFS\"] <- \"00\""
   ]
  },
  {
   "cell_type": "code",
   "execution_count": 40,
   "metadata": {
    "vscode": {
     "languageId": "r"
    }
   },
   "outputs": [],
   "source": [
    "divstats$sample_id <- NA\n",
    "\n",
    "# bind patient and cycle for PBMC and cfdna to generate sample id\n",
    "divstats$sample_id[ divstats$Sample != \"Tumor\"] <- paste(divstats$Patient[ divstats$Sample != \"Tumor\"], \"_\", \n",
    "                                                          divstats$Cycle[ divstats$Sample != \"Tumor\"], sep = \"\")\n",
    "\n",
    "# For tumor samples start with rownames because some of them are two biopsies from the same tumor\n",
    "divstats$sample_id[ divstats$Sample == \"Tumor\"] <- gsub(\"-FFPE-DN.*\", \"\", rownames(divstats)[ divstats$Sample == \"Tumor\"])"
   ]
  },
  {
   "cell_type": "code",
   "execution_count": 41,
   "metadata": {
    "vscode": {
     "languageId": "r"
    }
   },
   "outputs": [],
   "source": [
    "divstats$sample_id <- gsub(\"-\", \"_\", divstats$sample_id)"
   ]
  },
  {
   "cell_type": "code",
   "execution_count": 42,
   "metadata": {
    "vscode": {
     "languageId": "r"
    }
   },
   "outputs": [],
   "source": [
    "divstats$Patient <- NULL\n",
    "divstats$Cycle <- NULL\n",
    "divstats$Sample <- NULL\n",
    "divstats$Group <- NULL"
   ]
  },
  {
   "cell_type": "code",
   "execution_count": 43,
   "metadata": {
    "vscode": {
     "languageId": "r"
    }
   },
   "outputs": [
    {
     "data": {
      "text/html": [
       "<table class=\"dataframe\">\n",
       "<caption>A data.frame: 10 x 22</caption>\n",
       "<thead>\n",
       "\t<tr><th></th><th scope=col>TRB</th><th scope=col>Reads</th><th scope=col>CPKR</th><th scope=col>Average_reads</th><th scope=col>VMR</th><th scope=col>Max_reads</th><th scope=col>Singletons</th><th scope=col>Doubletons</th><th scope=col>qD</th><th scope=col>Sample_Coverage</th><th scope=col>...</th><th scope=col>SE_Richeness</th><th scope=col>observed_Shannon</th><th scope=col>estimated_Shannon</th><th scope=col>SE_Shannon</th><th scope=col>observed_Simpson</th><th scope=col>estimated_Simpson</th><th scope=col>SE_Simpson</th><th scope=col>sample_id</th><th scope=col>basename</th><th scope=col>file</th></tr>\n",
       "\t<tr><th></th><th scope=col>&lt;int&gt;</th><th scope=col>&lt;int&gt;</th><th scope=col>&lt;dbl&gt;</th><th scope=col>&lt;dbl&gt;</th><th scope=col>&lt;dbl&gt;</th><th scope=col>&lt;int&gt;</th><th scope=col>&lt;int&gt;</th><th scope=col>&lt;int&gt;</th><th scope=col>&lt;dbl&gt;</th><th scope=col>&lt;dbl&gt;</th><th scope=col>...</th><th scope=col>&lt;dbl&gt;</th><th scope=col>&lt;dbl&gt;</th><th scope=col>&lt;dbl&gt;</th><th scope=col>&lt;dbl&gt;</th><th scope=col>&lt;dbl&gt;</th><th scope=col>&lt;dbl&gt;</th><th scope=col>&lt;dbl&gt;</th><th scope=col>&lt;chr&gt;</th><th scope=col>&lt;chr&gt;</th><th scope=col>&lt;chr&gt;</th></tr>\n",
       "</thead>\n",
       "<tbody>\n",
       "\t<tr><th scope=row>CHP_383-03_cfDNA</th><td> 2</td><td>1135</td><td>1.762115</td><td>567.5</td><td>1.117665</td><td>1016</td><td> 0</td><td> 0</td><td> 2</td><td> 1</td><td>...</td><td> 0</td><td>1.399</td><td>1.399</td><td>0.028</td><td>1.231</td><td>1.231</td><td>0.02</td><td>CHP_383_03</td><td>CHP_383-03_cfDNA   </td><td>remaining_batch_5_cfDNA_22April2021/mixcr/clones/CLONES_TRBCHP_383-03_cfDNA.txt</td></tr>\n",
       "\t<tr><th scope=row>CHP_347-01-cfDNA</th><td>NA</td><td>  NA</td><td>      NA</td><td>   NA</td><td>      NA</td><td>  NA</td><td>NA</td><td>NA</td><td>NA</td><td>NA</td><td>...</td><td>NA</td><td>   NA</td><td>   NA</td><td>   NA</td><td>   NA</td><td>   NA</td><td>  NA</td><td>CHP_347_01</td><td>CHP_347-01-cfDNA   </td><td>NA                                                                             </td></tr>\n",
       "\t<tr><th scope=row>CHP_366-05_cfDNA</th><td>NA</td><td>  NA</td><td>      NA</td><td>   NA</td><td>      NA</td><td>  NA</td><td>NA</td><td>NA</td><td>NA</td><td>NA</td><td>...</td><td>NA</td><td>   NA</td><td>   NA</td><td>   NA</td><td>   NA</td><td>   NA</td><td>  NA</td><td>CHP_366_05</td><td>CHP_366-05_cfDNA   </td><td>NA                                                                             </td></tr>\n",
       "\t<tr><th scope=row>CHP_377-01-cfDNA</th><td>NA</td><td>  NA</td><td>      NA</td><td>   NA</td><td>      NA</td><td>  NA</td><td>NA</td><td>NA</td><td>NA</td><td>NA</td><td>...</td><td>NA</td><td>   NA</td><td>   NA</td><td>   NA</td><td>   NA</td><td>   NA</td><td>  NA</td><td>CHP_377_01</td><td>CHP_377-01-cfDNA   </td><td>NA                                                                             </td></tr>\n",
       "\t<tr><th scope=row>CHP_381-05_cfDNA</th><td>NA</td><td>  NA</td><td>      NA</td><td>   NA</td><td>      NA</td><td>  NA</td><td>NA</td><td>NA</td><td>NA</td><td>NA</td><td>...</td><td>NA</td><td>   NA</td><td>   NA</td><td>   NA</td><td>   NA</td><td>   NA</td><td>  NA</td><td>CHP_381_05</td><td>CHP_381-05_cfDNA   </td><td>NA                                                                             </td></tr>\n",
       "\t<tr><th scope=row>CHP_391-02_cfDNA</th><td>NA</td><td>  NA</td><td>      NA</td><td>   NA</td><td>      NA</td><td>  NA</td><td>NA</td><td>NA</td><td>NA</td><td>NA</td><td>...</td><td>NA</td><td>   NA</td><td>   NA</td><td>   NA</td><td>   NA</td><td>   NA</td><td>  NA</td><td>CHP_391_02</td><td>CHP_391-02_cfDNA   </td><td>NA                                                                             </td></tr>\n",
       "\t<tr><th scope=row>CHP_392-01_cfDNA</th><td>NA</td><td>  NA</td><td>      NA</td><td>   NA</td><td>      NA</td><td>  NA</td><td>NA</td><td>NA</td><td>NA</td><td>NA</td><td>...</td><td>NA</td><td>   NA</td><td>   NA</td><td>   NA</td><td>   NA</td><td>   NA</td><td>  NA</td><td>CHP_392_01</td><td>CHP_392-01_cfDNA   </td><td>NA                                                                             </td></tr>\n",
       "\t<tr><th scope=row>CHP_398-01_cfDNA</th><td>NA</td><td>  NA</td><td>      NA</td><td>   NA</td><td>      NA</td><td>  NA</td><td>NA</td><td>NA</td><td>NA</td><td>NA</td><td>...</td><td>NA</td><td>   NA</td><td>   NA</td><td>   NA</td><td>   NA</td><td>   NA</td><td>  NA</td><td>CHP_398_01</td><td>CHP_398-01_cfDNA   </td><td>NA                                                                             </td></tr>\n",
       "\t<tr><th scope=row>CHP_401-03_cfDNA</th><td>NA</td><td>  NA</td><td>      NA</td><td>   NA</td><td>      NA</td><td>  NA</td><td>NA</td><td>NA</td><td>NA</td><td>NA</td><td>...</td><td>NA</td><td>   NA</td><td>   NA</td><td>   NA</td><td>   NA</td><td>   NA</td><td>  NA</td><td>CHP_401_03</td><td>CHP_401-03_cfDNA   </td><td>NA                                                                             </td></tr>\n",
       "\t<tr><th scope=row>CHP_419-FFPE-DNA_S2</th><td>NA</td><td>  NA</td><td>      NA</td><td>   NA</td><td>      NA</td><td>  NA</td><td>NA</td><td>NA</td><td>NA</td><td>NA</td><td>...</td><td>NA</td><td>   NA</td><td>   NA</td><td>   NA</td><td>   NA</td><td>   NA</td><td>  NA</td><td>CHP_419   </td><td>CHP_419-FFPE-DNA_S2</td><td>NA                                                                             </td></tr>\n",
       "</tbody>\n",
       "</table>\n"
      ],
      "text/latex": [
       "A data.frame: 10 x 22\n",
       "\\begin{tabular}{r|lllllllllllllllllllll}\n",
       "  & TRB & Reads & CPKR & Average\\_reads & VMR & Max\\_reads & Singletons & Doubletons & qD & Sample\\_Coverage & ... & SE\\_Richeness & observed\\_Shannon & estimated\\_Shannon & SE\\_Shannon & observed\\_Simpson & estimated\\_Simpson & SE\\_Simpson & sample\\_id & basename & file\\\\\n",
       "  & <int> & <int> & <dbl> & <dbl> & <dbl> & <int> & <int> & <int> & <dbl> & <dbl> & ... & <dbl> & <dbl> & <dbl> & <dbl> & <dbl> & <dbl> & <dbl> & <chr> & <chr> & <chr>\\\\\n",
       "\\hline\n",
       "\tCHP\\_383-03\\_cfDNA &  2 & 1135 & 1.762115 & 567.5 & 1.117665 & 1016 &  0 &  0 &  2 &  1 & ... &  0 & 1.399 & 1.399 & 0.028 & 1.231 & 1.231 & 0.02 & CHP\\_383\\_03 & CHP\\_383-03\\_cfDNA    & remaining\\_batch\\_5\\_cfDNA\\_22April2021/mixcr/clones/CLONES\\_TRBCHP\\_383-03\\_cfDNA.txt\\\\\n",
       "\tCHP\\_347-01-cfDNA & NA &   NA &       NA &    NA &       NA &   NA & NA & NA & NA & NA & ... & NA &    NA &    NA &    NA &    NA &    NA &   NA & CHP\\_347\\_01 & CHP\\_347-01-cfDNA    & NA                                                                             \\\\\n",
       "\tCHP\\_366-05\\_cfDNA & NA &   NA &       NA &    NA &       NA &   NA & NA & NA & NA & NA & ... & NA &    NA &    NA &    NA &    NA &    NA &   NA & CHP\\_366\\_05 & CHP\\_366-05\\_cfDNA    & NA                                                                             \\\\\n",
       "\tCHP\\_377-01-cfDNA & NA &   NA &       NA &    NA &       NA &   NA & NA & NA & NA & NA & ... & NA &    NA &    NA &    NA &    NA &    NA &   NA & CHP\\_377\\_01 & CHP\\_377-01-cfDNA    & NA                                                                             \\\\\n",
       "\tCHP\\_381-05\\_cfDNA & NA &   NA &       NA &    NA &       NA &   NA & NA & NA & NA & NA & ... & NA &    NA &    NA &    NA &    NA &    NA &   NA & CHP\\_381\\_05 & CHP\\_381-05\\_cfDNA    & NA                                                                             \\\\\n",
       "\tCHP\\_391-02\\_cfDNA & NA &   NA &       NA &    NA &       NA &   NA & NA & NA & NA & NA & ... & NA &    NA &    NA &    NA &    NA &    NA &   NA & CHP\\_391\\_02 & CHP\\_391-02\\_cfDNA    & NA                                                                             \\\\\n",
       "\tCHP\\_392-01\\_cfDNA & NA &   NA &       NA &    NA &       NA &   NA & NA & NA & NA & NA & ... & NA &    NA &    NA &    NA &    NA &    NA &   NA & CHP\\_392\\_01 & CHP\\_392-01\\_cfDNA    & NA                                                                             \\\\\n",
       "\tCHP\\_398-01\\_cfDNA & NA &   NA &       NA &    NA &       NA &   NA & NA & NA & NA & NA & ... & NA &    NA &    NA &    NA &    NA &    NA &   NA & CHP\\_398\\_01 & CHP\\_398-01\\_cfDNA    & NA                                                                             \\\\\n",
       "\tCHP\\_401-03\\_cfDNA & NA &   NA &       NA &    NA &       NA &   NA & NA & NA & NA & NA & ... & NA &    NA &    NA &    NA &    NA &    NA &   NA & CHP\\_401\\_03 & CHP\\_401-03\\_cfDNA    & NA                                                                             \\\\\n",
       "\tCHP\\_419-FFPE-DNA\\_S2 & NA &   NA &       NA &    NA &       NA &   NA & NA & NA & NA & NA & ... & NA &    NA &    NA &    NA &    NA &    NA &   NA & CHP\\_419    & CHP\\_419-FFPE-DNA\\_S2 & NA                                                                             \\\\\n",
       "\\end{tabular}\n"
      ],
      "text/markdown": [
       "\n",
       "A data.frame: 10 x 22\n",
       "\n",
       "| <!--/--> | TRB &lt;int&gt; | Reads &lt;int&gt; | CPKR &lt;dbl&gt; | Average_reads &lt;dbl&gt; | VMR &lt;dbl&gt; | Max_reads &lt;int&gt; | Singletons &lt;int&gt; | Doubletons &lt;int&gt; | qD &lt;dbl&gt; | Sample_Coverage &lt;dbl&gt; | ... ... | SE_Richeness &lt;dbl&gt; | observed_Shannon &lt;dbl&gt; | estimated_Shannon &lt;dbl&gt; | SE_Shannon &lt;dbl&gt; | observed_Simpson &lt;dbl&gt; | estimated_Simpson &lt;dbl&gt; | SE_Simpson &lt;dbl&gt; | sample_id &lt;chr&gt; | basename &lt;chr&gt; | file &lt;chr&gt; |\n",
       "|---|---|---|---|---|---|---|---|---|---|---|---|---|---|---|---|---|---|---|---|---|---|\n",
       "| CHP_383-03_cfDNA |  2 | 1135 | 1.762115 | 567.5 | 1.117665 | 1016 |  0 |  0 |  2 |  1 | ... |  0 | 1.399 | 1.399 | 0.028 | 1.231 | 1.231 | 0.02 | CHP_383_03 | CHP_383-03_cfDNA    | remaining_batch_5_cfDNA_22April2021/mixcr/clones/CLONES_TRBCHP_383-03_cfDNA.txt |\n",
       "| CHP_347-01-cfDNA | NA |   NA |       NA |    NA |       NA |   NA | NA | NA | NA | NA | ... | NA |    NA |    NA |    NA |    NA |    NA |   NA | CHP_347_01 | CHP_347-01-cfDNA    | NA                                                                              |\n",
       "| CHP_366-05_cfDNA | NA |   NA |       NA |    NA |       NA |   NA | NA | NA | NA | NA | ... | NA |    NA |    NA |    NA |    NA |    NA |   NA | CHP_366_05 | CHP_366-05_cfDNA    | NA                                                                              |\n",
       "| CHP_377-01-cfDNA | NA |   NA |       NA |    NA |       NA |   NA | NA | NA | NA | NA | ... | NA |    NA |    NA |    NA |    NA |    NA |   NA | CHP_377_01 | CHP_377-01-cfDNA    | NA                                                                              |\n",
       "| CHP_381-05_cfDNA | NA |   NA |       NA |    NA |       NA |   NA | NA | NA | NA | NA | ... | NA |    NA |    NA |    NA |    NA |    NA |   NA | CHP_381_05 | CHP_381-05_cfDNA    | NA                                                                              |\n",
       "| CHP_391-02_cfDNA | NA |   NA |       NA |    NA |       NA |   NA | NA | NA | NA | NA | ... | NA |    NA |    NA |    NA |    NA |    NA |   NA | CHP_391_02 | CHP_391-02_cfDNA    | NA                                                                              |\n",
       "| CHP_392-01_cfDNA | NA |   NA |       NA |    NA |       NA |   NA | NA | NA | NA | NA | ... | NA |    NA |    NA |    NA |    NA |    NA |   NA | CHP_392_01 | CHP_392-01_cfDNA    | NA                                                                              |\n",
       "| CHP_398-01_cfDNA | NA |   NA |       NA |    NA |       NA |   NA | NA | NA | NA | NA | ... | NA |    NA |    NA |    NA |    NA |    NA |   NA | CHP_398_01 | CHP_398-01_cfDNA    | NA                                                                              |\n",
       "| CHP_401-03_cfDNA | NA |   NA |       NA |    NA |       NA |   NA | NA | NA | NA | NA | ... | NA |    NA |    NA |    NA |    NA |    NA |   NA | CHP_401_03 | CHP_401-03_cfDNA    | NA                                                                              |\n",
       "| CHP_419-FFPE-DNA_S2 | NA |   NA |       NA |    NA |       NA |   NA | NA | NA | NA | NA | ... | NA |    NA |    NA |    NA |    NA |    NA |   NA | CHP_419    | CHP_419-FFPE-DNA_S2 | NA                                                                              |\n",
       "\n"
      ],
      "text/plain": [
       "                    TRB Reads CPKR     Average_reads VMR      Max_reads\n",
       "CHP_383-03_cfDNA     2  1135  1.762115 567.5         1.117665 1016     \n",
       "CHP_347-01-cfDNA    NA    NA        NA    NA               NA   NA     \n",
       "CHP_366-05_cfDNA    NA    NA        NA    NA               NA   NA     \n",
       "CHP_377-01-cfDNA    NA    NA        NA    NA               NA   NA     \n",
       "CHP_381-05_cfDNA    NA    NA        NA    NA               NA   NA     \n",
       "CHP_391-02_cfDNA    NA    NA        NA    NA               NA   NA     \n",
       "CHP_392-01_cfDNA    NA    NA        NA    NA               NA   NA     \n",
       "CHP_398-01_cfDNA    NA    NA        NA    NA               NA   NA     \n",
       "CHP_401-03_cfDNA    NA    NA        NA    NA               NA   NA     \n",
       "CHP_419-FFPE-DNA_S2 NA    NA        NA    NA               NA   NA     \n",
       "                    Singletons Doubletons qD Sample_Coverage ... SE_Richeness\n",
       "CHP_383-03_cfDNA     0          0          2  1              ...  0          \n",
       "CHP_347-01-cfDNA    NA         NA         NA NA              ... NA          \n",
       "CHP_366-05_cfDNA    NA         NA         NA NA              ... NA          \n",
       "CHP_377-01-cfDNA    NA         NA         NA NA              ... NA          \n",
       "CHP_381-05_cfDNA    NA         NA         NA NA              ... NA          \n",
       "CHP_391-02_cfDNA    NA         NA         NA NA              ... NA          \n",
       "CHP_392-01_cfDNA    NA         NA         NA NA              ... NA          \n",
       "CHP_398-01_cfDNA    NA         NA         NA NA              ... NA          \n",
       "CHP_401-03_cfDNA    NA         NA         NA NA              ... NA          \n",
       "CHP_419-FFPE-DNA_S2 NA         NA         NA NA              ... NA          \n",
       "                    observed_Shannon estimated_Shannon SE_Shannon\n",
       "CHP_383-03_cfDNA    1.399            1.399             0.028     \n",
       "CHP_347-01-cfDNA       NA               NA                NA     \n",
       "CHP_366-05_cfDNA       NA               NA                NA     \n",
       "CHP_377-01-cfDNA       NA               NA                NA     \n",
       "CHP_381-05_cfDNA       NA               NA                NA     \n",
       "CHP_391-02_cfDNA       NA               NA                NA     \n",
       "CHP_392-01_cfDNA       NA               NA                NA     \n",
       "CHP_398-01_cfDNA       NA               NA                NA     \n",
       "CHP_401-03_cfDNA       NA               NA                NA     \n",
       "CHP_419-FFPE-DNA_S2    NA               NA                NA     \n",
       "                    observed_Simpson estimated_Simpson SE_Simpson sample_id \n",
       "CHP_383-03_cfDNA    1.231            1.231             0.02       CHP_383_03\n",
       "CHP_347-01-cfDNA       NA               NA               NA       CHP_347_01\n",
       "CHP_366-05_cfDNA       NA               NA               NA       CHP_366_05\n",
       "CHP_377-01-cfDNA       NA               NA               NA       CHP_377_01\n",
       "CHP_381-05_cfDNA       NA               NA               NA       CHP_381_05\n",
       "CHP_391-02_cfDNA       NA               NA               NA       CHP_391_02\n",
       "CHP_392-01_cfDNA       NA               NA               NA       CHP_392_01\n",
       "CHP_398-01_cfDNA       NA               NA               NA       CHP_398_01\n",
       "CHP_401-03_cfDNA       NA               NA               NA       CHP_401_03\n",
       "CHP_419-FFPE-DNA_S2    NA               NA               NA       CHP_419   \n",
       "                    basename           \n",
       "CHP_383-03_cfDNA    CHP_383-03_cfDNA   \n",
       "CHP_347-01-cfDNA    CHP_347-01-cfDNA   \n",
       "CHP_366-05_cfDNA    CHP_366-05_cfDNA   \n",
       "CHP_377-01-cfDNA    CHP_377-01-cfDNA   \n",
       "CHP_381-05_cfDNA    CHP_381-05_cfDNA   \n",
       "CHP_391-02_cfDNA    CHP_391-02_cfDNA   \n",
       "CHP_392-01_cfDNA    CHP_392-01_cfDNA   \n",
       "CHP_398-01_cfDNA    CHP_398-01_cfDNA   \n",
       "CHP_401-03_cfDNA    CHP_401-03_cfDNA   \n",
       "CHP_419-FFPE-DNA_S2 CHP_419-FFPE-DNA_S2\n",
       "                    file                                                                           \n",
       "CHP_383-03_cfDNA    remaining_batch_5_cfDNA_22April2021/mixcr/clones/CLONES_TRBCHP_383-03_cfDNA.txt\n",
       "CHP_347-01-cfDNA    NA                                                                             \n",
       "CHP_366-05_cfDNA    NA                                                                             \n",
       "CHP_377-01-cfDNA    NA                                                                             \n",
       "CHP_381-05_cfDNA    NA                                                                             \n",
       "CHP_391-02_cfDNA    NA                                                                             \n",
       "CHP_392-01_cfDNA    NA                                                                             \n",
       "CHP_398-01_cfDNA    NA                                                                             \n",
       "CHP_401-03_cfDNA    NA                                                                             \n",
       "CHP_419-FFPE-DNA_S2 NA                                                                             "
      ]
     },
     "metadata": {},
     "output_type": "display_data"
    }
   ],
   "source": [
    "tail(divstats,10)"
   ]
  },
  {
   "cell_type": "code",
   "execution_count": 44,
   "metadata": {
    "vscode": {
     "languageId": "r"
    }
   },
   "outputs": [],
   "source": [
    "write.csv(divstats,\n",
    "          paste0(datapath, \"capTCRseq/divstats_TRBCHP.csv\"), row.names = TRUE)"
   ]
  },
  {
   "attachments": {},
   "cell_type": "markdown",
   "metadata": {},
   "source": [
    "## TRA"
   ]
  },
  {
   "cell_type": "code",
   "execution_count": null,
   "metadata": {
    "vscode": {
     "languageId": "r"
    }
   },
   "outputs": [],
   "source": [
    "file_list <- list.files(h4hpath, pattern = paste0(\"CLONES_\", \"TRA\"), recursive = T)"
   ]
  },
  {
   "cell_type": "code",
   "execution_count": null,
   "metadata": {
    "vscode": {
     "languageId": "r"
    }
   },
   "outputs": [],
   "source": [
    "tail(file_list)"
   ]
  },
  {
   "cell_type": "code",
   "execution_count": null,
   "metadata": {
    "vscode": {
     "languageId": "r"
    }
   },
   "outputs": [],
   "source": [
    "# remove downsample files\n",
    "file_list <- file_list[!grepl(\"_2000000\", file_list)]"
   ]
  },
  {
   "attachments": {},
   "cell_type": "markdown",
   "metadata": {},
   "source": [
    "Some files are duplicated. Make a table to identify and pick the larger clone file"
   ]
  },
  {
   "cell_type": "code",
   "execution_count": null,
   "metadata": {
    "vscode": {
     "languageId": "r"
    }
   },
   "outputs": [],
   "source": [
    "file_df <- as.data.frame(file_list)"
   ]
  },
  {
   "cell_type": "code",
   "execution_count": null,
   "metadata": {
    "vscode": {
     "languageId": "r"
    }
   },
   "outputs": [],
   "source": [
    "file_df$samplename <- gsub(\".*CLONES_TRA\", \"\", file_df$file_list)\n",
    "file_df$samplename <- gsub(\".txt\", \"\", file_df$samplename)"
   ]
  },
  {
   "cell_type": "code",
   "execution_count": null,
   "metadata": {
    "vscode": {
     "languageId": "r"
    }
   },
   "outputs": [],
   "source": [
    "file_df$size <- NA\n",
    "for(i in 1:nrow(file_df)){\n",
    "    file_df$size[i] <- file.size(paste0(h4hpath,file_df$file_list[i]))\n",
    "}"
   ]
  },
  {
   "cell_type": "code",
   "execution_count": null,
   "metadata": {
    "vscode": {
     "languageId": "r"
    }
   },
   "outputs": [],
   "source": [
    "head(file_df)"
   ]
  },
  {
   "cell_type": "code",
   "execution_count": null,
   "metadata": {
    "vscode": {
     "languageId": "r"
    }
   },
   "outputs": [],
   "source": [
    "file_df[ grepl(\"383-03\", file_df$file_list),]"
   ]
  },
  {
   "cell_type": "code",
   "execution_count": null,
   "metadata": {
    "vscode": {
     "languageId": "r"
    }
   },
   "outputs": [],
   "source": [
    "file_df <- file_df[ !grepl(\"immunarch\", file_df$file_list),]"
   ]
  },
  {
   "cell_type": "code",
   "execution_count": null,
   "metadata": {
    "vscode": {
     "languageId": "r"
    }
   },
   "outputs": [],
   "source": [
    "file_df_dedup <- file_df[0,]\n",
    "\n",
    "for(s in unique(file_df$samplename)){\n",
    "    tmp <- file_df[ file_df$samplename == s,]\n",
    "    if(nrow(tmp) ==1 ){\n",
    "        file_df_dedup <- rbind(file_df_dedup, tmp)\n",
    "    }\n",
    "    if(nrow(tmp) > 1 ){\n",
    "        file_df_dedup <- rbind(file_df_dedup, tmp[ tmp$size == max(tmp$size),])\n",
    "    }    \n",
    "}"
   ]
  },
  {
   "cell_type": "code",
   "execution_count": null,
   "metadata": {
    "vscode": {
     "languageId": "r"
    }
   },
   "outputs": [],
   "source": [
    "file_df_dedup[ grepl(\"343-05\", file_df_dedup$file_list),]"
   ]
  },
  {
   "cell_type": "code",
   "execution_count": null,
   "metadata": {
    "vscode": {
     "languageId": "r"
    }
   },
   "outputs": [],
   "source": [
    "file_df_dedup_tra <- file_df_dedup\n",
    "save(file_df_dedup_tra, file = paste0(datapath,\"capTCRseq/TRAfiles.RData\"))"
   ]
  },
  {
   "cell_type": "code",
   "execution_count": null,
   "metadata": {
    "vscode": {
     "languageId": "r"
    }
   },
   "outputs": [],
   "source": [
    "dim(file_df)\n",
    "dim(file_df_dedup)"
   ]
  },
  {
   "cell_type": "code",
   "execution_count": null,
   "metadata": {
    "vscode": {
     "languageId": "r"
    }
   },
   "outputs": [],
   "source": [
    "batchTRA <- immunelistfx(file_df_dedup$file_list, h4hpath, \"TRA\")"
   ]
  },
  {
   "cell_type": "code",
   "execution_count": null,
   "metadata": {
    "vscode": {
     "languageId": "r"
    }
   },
   "outputs": [],
   "source": [
    "names(batchTRA) <- gsub(\".*CLONES_TRA\", \"\", names(batchTRA))"
   ]
  },
  {
   "cell_type": "code",
   "execution_count": null,
   "metadata": {
    "vscode": {
     "languageId": "r"
    }
   },
   "outputs": [],
   "source": [
    "TRAlist <- batchTRA"
   ]
  },
  {
   "cell_type": "code",
   "execution_count": null,
   "metadata": {
    "vscode": {
     "languageId": "r"
    }
   },
   "outputs": [],
   "source": [
    "save(TRAlist, file = paste0(datapath,\"capTCRseq/TRAlist.RData\"))"
   ]
  },
  {
   "attachments": {},
   "cell_type": "markdown",
   "metadata": {},
   "source": [
    "### divstats"
   ]
  },
  {
   "cell_type": "code",
   "execution_count": null,
   "metadata": {
    "vscode": {
     "languageId": "r"
    }
   },
   "outputs": [],
   "source": [
    "load(file = paste0(datapath,\"capTCRseq/TRAfiles.RData\"))"
   ]
  },
  {
   "cell_type": "code",
   "execution_count": null,
   "metadata": {
    "vscode": {
     "languageId": "r"
    }
   },
   "outputs": [],
   "source": [
    "load(file = paste0(datapath,\"capTCRseq/TRAlist.RData\"))"
   ]
  },
  {
   "cell_type": "code",
   "execution_count": null,
   "metadata": {
    "vscode": {
     "languageId": "r"
    }
   },
   "outputs": [],
   "source": [
    "# remove lists with no clonotype\n",
    "TRAlist <- TRAlist[sapply(TRAlist, function(x) length((x)) != 0)]"
   ]
  },
  {
   "cell_type": "code",
   "execution_count": null,
   "metadata": {
    "vscode": {
     "languageId": "r"
    }
   },
   "outputs": [],
   "source": [
    "length(TRAlist)"
   ]
  },
  {
   "cell_type": "code",
   "execution_count": null,
   "metadata": {
    "scrolled": true,
    "vscode": {
     "languageId": "r"
    }
   },
   "outputs": [],
   "source": [
    "Divstats.fx(TRAlist, \"TRA\", \"CHP\" , paste0(datapath, \"capTCRseq/\"))"
   ]
  },
  {
   "attachments": {},
   "cell_type": "markdown",
   "metadata": {},
   "source": [
    "### Cleanup divstats"
   ]
  },
  {
   "cell_type": "code",
   "execution_count": null,
   "metadata": {
    "vscode": {
     "languageId": "r"
    }
   },
   "outputs": [],
   "source": [
    "divstats <- read.csv(paste0(datapath, \"capTCRseq/divstats_TRACHP.csv\"), header = T, stringsAsFactors = F, row.names = 1)"
   ]
  },
  {
   "cell_type": "code",
   "execution_count": null,
   "metadata": {
    "vscode": {
     "languageId": "r"
    }
   },
   "outputs": [],
   "source": [
    "# add filenames to divstats\n",
    "myfilenames <- file_df_dedup_tra[ file_df_dedup_tra$samplename %in% names(TRAlist),]"
   ]
  },
  {
   "cell_type": "code",
   "execution_count": null,
   "metadata": {
    "vscode": {
     "languageId": "r"
    }
   },
   "outputs": [],
   "source": [
    "dim(divstats)"
   ]
  },
  {
   "cell_type": "code",
   "execution_count": null,
   "metadata": {
    "vscode": {
     "languageId": "r"
    }
   },
   "outputs": [],
   "source": [
    "head(divstats)"
   ]
  },
  {
   "cell_type": "code",
   "execution_count": null,
   "metadata": {
    "vscode": {
     "languageId": "r"
    }
   },
   "outputs": [],
   "source": [
    "divstats$sample_id <- rownames(divstats)\n",
    "divstats$basename <- rownames(divstats)"
   ]
  },
  {
   "cell_type": "code",
   "execution_count": null,
   "metadata": {
    "vscode": {
     "languageId": "r"
    }
   },
   "outputs": [],
   "source": [
    "# add filenames to divstats\n",
    "divstats$file <- myfilenames$file_list[ match(divstats$sample_id, myfilenames$samplename)]"
   ]
  },
  {
   "cell_type": "code",
   "execution_count": null,
   "metadata": {
    "vscode": {
     "languageId": "r"
    }
   },
   "outputs": [],
   "source": [
    "dim(divstats)"
   ]
  },
  {
   "attachments": {},
   "cell_type": "markdown",
   "metadata": {},
   "source": [
    "Separate samples"
   ]
  },
  {
   "cell_type": "code",
   "execution_count": null,
   "metadata": {
    "vscode": {
     "languageId": "r"
    }
   },
   "outputs": [],
   "source": [
    "divstats$Sample <- NA\n",
    "divstats$Sample[grepl(\"PBMC\", rownames(divstats))] <- \"PBMC\"\n",
    "divstats$Sample[grepl(\"cfDNA\", rownames(divstats))] <- \"cfDNA\"\n",
    "divstats$Sample[grepl(\"FFPE\", rownames(divstats))] <- \"Tumor\""
   ]
  },
  {
   "attachments": {},
   "cell_type": "markdown",
   "metadata": {},
   "source": [
    "Separate LFS and non-LFS"
   ]
  },
  {
   "cell_type": "code",
   "execution_count": null,
   "metadata": {
    "vscode": {
     "languageId": "r"
    }
   },
   "outputs": [],
   "source": [
    "divstats$Group <- NA\n",
    "divstats$Group[grepl(\"LFS\", rownames(divstats))] <- \"LFS\"\n",
    "divstats$Group[grepl(\"CHP\", rownames(divstats))] <- \"CHP\""
   ]
  },
  {
   "attachments": {},
   "cell_type": "markdown",
   "metadata": {},
   "source": [
    "Get patient ids"
   ]
  },
  {
   "cell_type": "code",
   "execution_count": null,
   "metadata": {
    "vscode": {
     "languageId": "r"
    }
   },
   "outputs": [],
   "source": [
    "divstats$Patient <- NA\n",
    "# CHP\n",
    "divstats$Patient[divstats$Group == \"CHP\"] <- substr(rownames(divstats)[divstats$Group == \"CHP\"],1,7)\n",
    "# Normal samples have either YO or MO\n",
    "divstats$Patient[grepl(\"YO\", rownames(divstats))] <- gsub(\"_PBMC_DNA\", \"\", rownames(divstats)[grepl(\"YO\", rownames(divstats))])\n",
    "divstats$Patient[grepl(\"MO\", rownames(divstats))] <- gsub(\"_PBMC_DNA\", \"\", rownames(divstats)[grepl(\"MO\", rownames(divstats))])\n",
    "# LFS\n",
    "divstats$Patient[divstats$Group == \"LFS\"] <- substr(rownames(divstats)[divstats$Group == \"LFS\"],1,12)"
   ]
  },
  {
   "attachments": {},
   "cell_type": "markdown",
   "metadata": {},
   "source": [
    "Get cycles. For LFS, Normals and Tumors recode to 00"
   ]
  },
  {
   "cell_type": "code",
   "execution_count": null,
   "metadata": {
    "vscode": {
     "languageId": "r"
    }
   },
   "outputs": [],
   "source": [
    "divstats$Cycle <- NA\n",
    "divstats$Cycle[divstats$Group == \"CHP\"] <- substr(rownames(divstats)[divstats$Group == \"CHP\"],9,10)\n",
    "\n",
    "divstats$Cycle[grepl(\"YO\", rownames(divstats))] <- \"00\"\n",
    "divstats$Cycle[grepl(\"MO\", rownames(divstats))] <- \"00\"\n",
    "divstats$Cycle[ divstats$Sample == \"Tumor\"] <- \"00\"\n",
    "divstats$Cycle[ divstats$Group == \"LFS\"] <- \"00\""
   ]
  },
  {
   "cell_type": "code",
   "execution_count": null,
   "metadata": {
    "vscode": {
     "languageId": "r"
    }
   },
   "outputs": [],
   "source": [
    "divstats$sample_id <- NA\n",
    "\n",
    "# bind patient and cycle for PBMC and cfdna to generate sample id\n",
    "divstats$sample_id[ divstats$Sample != \"Tumor\"] <- paste(divstats$Patient[ divstats$Sample != \"Tumor\"], \"_\", \n",
    "                                                          divstats$Cycle[ divstats$Sample != \"Tumor\"], sep = \"\")\n",
    "\n",
    "# For tumor samples start with rownames because some of them are two biopsies from the same tumor\n",
    "divstats$sample_id[ divstats$Sample == \"Tumor\"] <- gsub(\"-FFPE-DN.*\", \"\", rownames(divstats)[ divstats$Sample == \"Tumor\"])"
   ]
  },
  {
   "cell_type": "code",
   "execution_count": null,
   "metadata": {
    "vscode": {
     "languageId": "r"
    }
   },
   "outputs": [],
   "source": [
    "divstats$sample_id <- gsub(\"-\", \"_\", divstats$sample_id)"
   ]
  },
  {
   "cell_type": "code",
   "execution_count": null,
   "metadata": {
    "vscode": {
     "languageId": "r"
    }
   },
   "outputs": [],
   "source": [
    "divstats$Patient <- NULL\n",
    "divstats$Cycle <- NULL\n",
    "divstats$Group <- NULL\n",
    "divstats$Sample <- NULL"
   ]
  },
  {
   "cell_type": "code",
   "execution_count": null,
   "metadata": {
    "vscode": {
     "languageId": "r"
    }
   },
   "outputs": [],
   "source": [
    "head(divstats)"
   ]
  },
  {
   "cell_type": "code",
   "execution_count": null,
   "metadata": {
    "vscode": {
     "languageId": "r"
    }
   },
   "outputs": [],
   "source": [
    "write.csv(divstats,\n",
    "          paste0(datapath, \"capTCRseq/divstats_TRACHP.csv\"), row.names = TRUE)"
   ]
  },
  {
   "cell_type": "code",
   "execution_count": null,
   "metadata": {
    "vscode": {
     "languageId": "r"
    }
   },
   "outputs": [],
   "source": []
  },
  {
   "attachments": {},
   "cell_type": "markdown",
   "metadata": {},
   "source": [
    "# Test dataset"
   ]
  },
  {
   "cell_type": "code",
   "execution_count": null,
   "metadata": {
    "vscode": {
     "languageId": "r"
    }
   },
   "outputs": [],
   "source": [
    "mordpath <- \"/Users/anabbi/Desktop/Sam/immpedcan/mixcr/Tcelllines/muldercelllines/mixcr/clones/\""
   ]
  },
  {
   "cell_type": "code",
   "execution_count": null,
   "metadata": {
    "vscode": {
     "languageId": "r"
    }
   },
   "outputs": [],
   "source": [
    "file_list <- list.files(mordpath, pattern = paste0(\"CLONES_\", \"TRB\"), recursive = T)"
   ]
  },
  {
   "cell_type": "code",
   "execution_count": null,
   "metadata": {
    "vscode": {
     "languageId": "r"
    }
   },
   "outputs": [],
   "source": [
    "file_list"
   ]
  },
  {
   "cell_type": "code",
   "execution_count": null,
   "metadata": {
    "vscode": {
     "languageId": "r"
    }
   },
   "outputs": [],
   "source": [
    "file_list <- file_list[ file_list != 'CLONES_TRBUndetermined_S0.txt']"
   ]
  },
  {
   "cell_type": "code",
   "execution_count": null,
   "metadata": {
    "vscode": {
     "languageId": "r"
    }
   },
   "outputs": [],
   "source": [
    "file_list"
   ]
  },
  {
   "cell_type": "code",
   "execution_count": null,
   "metadata": {
    "scrolled": true,
    "vscode": {
     "languageId": "r"
    }
   },
   "outputs": [],
   "source": [
    "cells <- immunelistfx(file_list, mordpath, \"TRB\")"
   ]
  },
  {
   "cell_type": "code",
   "execution_count": null,
   "metadata": {
    "vscode": {
     "languageId": "r"
    }
   },
   "outputs": [],
   "source": [
    "cells"
   ]
  },
  {
   "cell_type": "code",
   "execution_count": null,
   "metadata": {
    "vscode": {
     "languageId": "r"
    }
   },
   "outputs": [],
   "source": [
    "myimmunelist_cells <- cells "
   ]
  },
  {
   "cell_type": "code",
   "execution_count": null,
   "metadata": {
    "vscode": {
     "languageId": "r"
    }
   },
   "outputs": [],
   "source": [
    "save(myimmunelist_cells, file = paste0(datapath,\"capTCRseq/myimmunelist_cells.RData\"))"
   ]
  },
  {
   "cell_type": "code",
   "execution_count": null,
   "metadata": {
    "scrolled": true,
    "vscode": {
     "languageId": "r"
    }
   },
   "outputs": [],
   "source": [
    "Divstats.fx(myimmunelist_cells, \"TRB\", \"Cells\" , paste0(datapath, \"capTCRseq/\"))"
   ]
  },
  {
   "cell_type": "code",
   "execution_count": null,
   "metadata": {
    "vscode": {
     "languageId": "r"
    }
   },
   "outputs": [],
   "source": []
  },
  {
   "cell_type": "code",
   "execution_count": null,
   "metadata": {
    "vscode": {
     "languageId": "r"
    }
   },
   "outputs": [],
   "source": []
  },
  {
   "cell_type": "code",
   "execution_count": null,
   "metadata": {
    "vscode": {
     "languageId": "r"
    }
   },
   "outputs": [],
   "source": []
  },
  {
   "cell_type": "code",
   "execution_count": null,
   "metadata": {
    "vscode": {
     "languageId": "r"
    }
   },
   "outputs": [],
   "source": []
  },
  {
   "cell_type": "code",
   "execution_count": null,
   "metadata": {
    "vscode": {
     "languageId": "r"
    }
   },
   "outputs": [],
   "source": []
  }
 ],
 "metadata": {
  "kernelspec": {
   "display_name": "R 4.0",
   "language": "R",
   "name": "ir40"
  },
  "language_info": {
   "codemirror_mode": "r",
   "file_extension": ".r",
   "mimetype": "text/x-r-source",
   "name": "R",
   "pygments_lexer": "r",
   "version": "4.2.2"
  },
  "toc": {
   "base_numbering": 1,
   "nav_menu": {},
   "number_sections": false,
   "sideBar": true,
   "skip_h1_title": false,
   "title_cell": "Table of Contents",
   "title_sidebar": "Contents",
   "toc_cell": true,
   "toc_position": {
    "height": "calc(100% - 180px)",
    "left": "10px",
    "top": "150px",
    "width": "206.5px"
   },
   "toc_section_display": true,
   "toc_window_display": true
  }
 },
 "nbformat": 4,
 "nbformat_minor": 2
}

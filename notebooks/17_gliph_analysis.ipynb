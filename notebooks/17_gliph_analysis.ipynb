{
 "cells": [
  {
   "attachments": {},
   "cell_type": "markdown",
   "metadata": {},
   "source": [
    "# Dependencies"
   ]
  },
  {
   "cell_type": "code",
   "execution_count": 93,
   "metadata": {
    "vscode": {
     "languageId": "r"
    }
   },
   "outputs": [],
   "source": [
    "pacman::p_load(\n",
    "    igraph, graphlayouts, ggraph, ggforce, dplyr, ggplot2, GUniFrac, ggsignif,\n",
    "    dendextend, ComplexHeatmap, ANCOMBC, TreeSummarizedExperiment, lsmeans\n",
    ")"
   ]
  },
  {
   "attachments": {},
   "cell_type": "markdown",
   "metadata": {},
   "source": [
    "# Functions"
   ]
  },
  {
   "cell_type": "code",
   "execution_count": 344,
   "metadata": {
    "vscode": {
     "languageId": "r"
    }
   },
   "outputs": [],
   "source": [
    "source(\"/Users/anabbi/git/ped_CapTCRseq/R/ggplot2_theme.R\")\n",
    "source(\"/Users/anabbi/git/ped_CapTCRseq/R/color_schemes.R\")\n",
    "source(\"/Users/anabbi/git/ped_CapTCRseq/R/Misc_functions.R\")"
   ]
  },
  {
   "cell_type": "code",
   "execution_count": 3,
   "metadata": {
    "vscode": {
     "languageId": "r"
    }
   },
   "outputs": [],
   "source": [
    "set.seed(111)\n",
    "baseplot.fx <- function(mydf, x, y, fill, clr, colpal) {\n",
    "    p1 <- ggplot(mydf, aes(x = factor(eval(parse(text = x))), y = eval(parse(text = y)), color = eval(parse(text = clr)), fill = eval(parse(text = fill)))) +\n",
    "        geom_jitter(width = 0.1, height = 0.1, alpha = 0.2) +\n",
    "        geom_boxplot(outlier.shape = NA, alpha = 0.1) +\n",
    "        # geom_smooth(method = \"loess\", se = TRUE, aes(group = 1), color = \"black\", fill = \"grey\") +\n",
    "        myplot +\n",
    "        myaxis +\n",
    "        scale_color_manual(values = colpal) +\n",
    "        scale_fill_manual(values = colpal) +\n",
    "        theme(legend.position = \"none\") +\n",
    "        labs(x = x, y = gsub(\"`\", \"\", y))\n",
    "    return(p1)\n",
    "}\n"
   ]
  },
  {
   "cell_type": "code",
   "execution_count": 4,
   "metadata": {
    "vscode": {
     "languageId": "r"
    }
   },
   "outputs": [],
   "source": [
    "# zicoseq.fx <- function(pat_type_matrix, metadata, myvar) {\n",
    "#     # pat_type_matrix is a matrix of GLIPH x samples\n",
    "#     # metadata is a data frame with the metadata for each sample, rownames are the sample names, NA is converted to Unknown for all covariates\n",
    "\n",
    "#     # Match colnames mylist[[1]] and discovery_metadata$sample_name\n",
    "#     metadata_matched <- metadata[colnames(pat_type_matrix), ]\n",
    "\n",
    "#     ZicoSeq.obj <- ZicoSeq(\n",
    "#         meta.dat = metadata_matched, feature.dat = pat_type_matrix,\n",
    "#         grp.name = myvar, adj.name = c(\"Sex\", \"study\", \"Agegroup\"), feature.dat.type = \"count\",\n",
    "#         prev.filter = 0, mean.abund.filter = 0,\n",
    "#         max.abund.filter = 0, min.prop = 0,\n",
    "#         # Winsorization to replace outliers\n",
    "#         is.winsor = FALSE, # outlier.pct = 0.03, winsor.end = 'top',\n",
    "#         # Posterior sampling\n",
    "#         is.post.sample = TRUE, post.sample.no = 25,\n",
    "#         # Use the square-root transformation\n",
    "#         link.func = list(function(x) x^0.5), stats.combine.func = max,\n",
    "#         # Permutation-based multiple testing correction\n",
    "#         perm.no = 99, strata = NULL,\n",
    "#         # Reference-based multiple stage normalization\n",
    "#         ref.pct = 0.5, stage.no = 6, excl.pct = 0.2,\n",
    "#         # Family-wise error rate control\n",
    "#         is.fwer = TRUE, verbose = TRUE, return.feature.dat = TRUE\n",
    "#     )\n",
    "\n",
    "#     r2_fdr <- as.data.frame(ZicoSeq.obj$R2)\n",
    "#     r2_fdr$padj <- ZicoSeq.obj$p.adj.fdr[match(rownames(r2_fdr), names(ZicoSeq.obj$p.adj.fdr))]\n",
    "#     return(r2_fdr)\n",
    "# }\n"
   ]
  },
  {
   "attachments": {},
   "cell_type": "markdown",
   "metadata": {},
   "source": [
    "# Paths"
   ]
  },
  {
   "cell_type": "code",
   "execution_count": 5,
   "metadata": {
    "vscode": {
     "languageId": "r"
    }
   },
   "outputs": [],
   "source": [
    "datapath <- \"/Users/anabbi/OneDrive - UHN/Documents/INTERCEPT/Data/\"\n",
    "plotpath <- \"/Users/anabbi/OneDrive - UHN/Documents/INTERCEPT/Plots/\"\n",
    "manifestpath <- \"/Users/anabbi/OneDrive - UHN/Documents/INTERCEPT/Manifests/\"\n",
    "gitpath <- \"/Users/anabbi/git/ped_CapTCRseq/\""
   ]
  },
  {
   "cell_type": "code",
   "execution_count": 6,
   "metadata": {
    "vscode": {
     "languageId": "r"
    }
   },
   "outputs": [],
   "source": [
    "h4hpath <- \"/Users/anabbi/Desktop/H4H/INTERCEPT/analysis/GLIPH/run_gliph/\""
   ]
  },
  {
   "attachments": {},
   "cell_type": "markdown",
   "metadata": {},
   "source": [
    "# Main"
   ]
  },
  {
   "cell_type": "markdown",
   "metadata": {},
   "source": [
    "# Create summary tables"
   ]
  },
  {
   "cell_type": "code",
   "execution_count": 7,
   "metadata": {
    "vscode": {
     "languageId": "r"
    }
   },
   "outputs": [],
   "source": [
    "meta_div <- readr::read_rds(paste0(datapath, \"capTCRseq/meta_div_goodsamples.rds\"))"
   ]
  },
  {
   "cell_type": "code",
   "execution_count": 8,
   "metadata": {
    "vscode": {
     "languageId": "r"
    }
   },
   "outputs": [],
   "source": [
    "#remove those samples that we did not have the TCRseq data for\n",
    "meta_div <- meta_div[!is.na(meta_div$TRB),]"
   ]
  },
  {
   "cell_type": "code",
   "execution_count": 9,
   "metadata": {
    "vscode": {
     "languageId": "r"
    }
   },
   "outputs": [
    {
     "name": "stderr",
     "output_type": "stream",
     "text": [
      "\u001b[1mRows: \u001b[22m\u001b[34m98847\u001b[39m \u001b[1mColumns: \u001b[22m\u001b[34m29\u001b[39m\n",
      "\u001b[36m--\u001b[39m \u001b[1mColumn specification\u001b[22m \u001b[36m--------------------------------------------------------\u001b[39m\n",
      "\u001b[1mDelimiter:\u001b[22m \",\"\n",
      "\u001b[31mchr\u001b[39m (17): pattern, type, TcRb, V, J, Sample, HLA-A, HLA-B, HLA-C, HLA-DPA1, ...\n",
      "\u001b[32mdbl\u001b[39m (11): index, Fisher_score, number_subject, number_unique_cdr3, final_sco...\n",
      "\u001b[33mlgl\u001b[39m  (1): TcRa\n",
      "\n",
      "\u001b[36mi\u001b[39m Use `spec()` to retrieve the full column specification for this data.\n",
      "\u001b[36mi\u001b[39m Specify the column types or set `show_col_types = FALSE` to quiet this message.\n"
     ]
    }
   ],
   "source": [
    "gliph_out <- readr::read_csv(paste0(h4hpath, \"/v5/gliph_output/int_vdj_v5_cluster.csv\"), col_names = T) #  gliph reference dataset  is MItechel"
   ]
  },
  {
   "cell_type": "code",
   "execution_count": 10,
   "metadata": {
    "vscode": {
     "languageId": "r"
    }
   },
   "outputs": [],
   "source": [
    "# remove columns starting with HLA\n",
    "gliph_out <- gliph_out[,!grepl(\"HLA\", colnames(gliph_out))]"
   ]
  },
  {
   "cell_type": "code",
   "execution_count": 11,
   "metadata": {
    "vscode": {
     "languageId": "r"
    }
   },
   "outputs": [
    {
     "data": {
      "text/html": [
       "<table class=\"dataframe\">\n",
       "<caption>A tibble: 6 x 18</caption>\n",
       "<thead>\n",
       "\t<tr><th scope=col>index</th><th scope=col>pattern</th><th scope=col>Fisher_score</th><th scope=col>number_subject</th><th scope=col>number_unique_cdr3</th><th scope=col>final_score</th><th scope=col>hla_score</th><th scope=col>vb_score</th><th scope=col>expansion_score</th><th scope=col>length_score</th><th scope=col>cluster_size_score</th><th scope=col>type</th><th scope=col>TcRb</th><th scope=col>V</th><th scope=col>J</th><th scope=col>TcRa</th><th scope=col>Sample</th><th scope=col>Freq</th></tr>\n",
       "\t<tr><th scope=col>&lt;dbl&gt;</th><th scope=col>&lt;chr&gt;</th><th scope=col>&lt;dbl&gt;</th><th scope=col>&lt;dbl&gt;</th><th scope=col>&lt;dbl&gt;</th><th scope=col>&lt;dbl&gt;</th><th scope=col>&lt;dbl&gt;</th><th scope=col>&lt;dbl&gt;</th><th scope=col>&lt;dbl&gt;</th><th scope=col>&lt;dbl&gt;</th><th scope=col>&lt;dbl&gt;</th><th scope=col>&lt;chr&gt;</th><th scope=col>&lt;chr&gt;</th><th scope=col>&lt;chr&gt;</th><th scope=col>&lt;chr&gt;</th><th scope=col>&lt;lgl&gt;</th><th scope=col>&lt;chr&gt;</th><th scope=col>&lt;dbl&gt;</th></tr>\n",
       "</thead>\n",
       "<tbody>\n",
       "\t<tr><td>1</td><td>SLG%E</td><td>0</td><td>5</td><td>50</td><td>5e-12</td><td>1</td><td>0.001</td><td>0.35</td><td>0.001</td><td>1.4e-05</td><td>global-SLG%E</td><td>CASSLGTEQFF</td><td>TRBV27        </td><td>TRBJ2-1</td><td>NA</td><td>Leukemia:CHP_405_X05-cfDNA    </td><td>729</td></tr>\n",
       "\t<tr><td>1</td><td>SLG%E</td><td>0</td><td>5</td><td>50</td><td>5e-12</td><td>1</td><td>0.001</td><td>0.35</td><td>0.001</td><td>1.4e-05</td><td>global-SLG%E</td><td>CASSLGAEAFF</td><td>TRBV6_7       </td><td>NA     </td><td>NA</td><td>MDavis:DRB10401               </td><td>  1</td></tr>\n",
       "\t<tr><td>1</td><td>SLG%E</td><td>0</td><td>5</td><td>50</td><td>5e-12</td><td>1</td><td>0.001</td><td>0.35</td><td>0.001</td><td>1.4e-05</td><td>global-SLG%E</td><td>YASSLGGEQFF</td><td>TRBV6_7       </td><td>NA     </td><td>NA</td><td>MDavis:DRB10401               </td><td>  1</td></tr>\n",
       "\t<tr><td>1</td><td>SLG%E</td><td>0</td><td>5</td><td>50</td><td>5e-12</td><td>1</td><td>0.001</td><td>0.35</td><td>0.001</td><td>1.4e-05</td><td>global-SLG%E</td><td>CASSLGVEQYF</td><td>TRBV27        </td><td>TRBJ2-7</td><td>NA</td><td>Leukemia:CHP_359_X03-PBMC     </td><td> 24</td></tr>\n",
       "\t<tr><td>1</td><td>SLG%E</td><td>0</td><td>5</td><td>50</td><td>5e-12</td><td>1</td><td>0.001</td><td>0.35</td><td>0.001</td><td>1.4e-05</td><td>global-SLG%E</td><td>CASSLGAEQYF</td><td>TRBV6_7       </td><td>NA     </td><td>NA</td><td>MDavis:DRB10401               </td><td>  1</td></tr>\n",
       "\t<tr><td>1</td><td>SLG%E</td><td>0</td><td>5</td><td>50</td><td>5e-12</td><td>1</td><td>0.001</td><td>0.35</td><td>0.001</td><td>1.4e-05</td><td>global-SLG%E</td><td>CAWSLGDEQYF</td><td>TRBV6_7-or30_1</td><td>NA     </td><td>NA</td><td>MDavis:C0304_DQA10303_DRB10401</td><td>  1</td></tr>\n",
       "</tbody>\n",
       "</table>\n"
      ],
      "text/latex": [
       "A tibble: 6 x 18\n",
       "\\begin{tabular}{llllllllllllllllll}\n",
       " index & pattern & Fisher\\_score & number\\_subject & number\\_unique\\_cdr3 & final\\_score & hla\\_score & vb\\_score & expansion\\_score & length\\_score & cluster\\_size\\_score & type & TcRb & V & J & TcRa & Sample & Freq\\\\\n",
       " <dbl> & <chr> & <dbl> & <dbl> & <dbl> & <dbl> & <dbl> & <dbl> & <dbl> & <dbl> & <dbl> & <chr> & <chr> & <chr> & <chr> & <lgl> & <chr> & <dbl>\\\\\n",
       "\\hline\n",
       "\t 1 & SLG\\%E & 0 & 5 & 50 & 5e-12 & 1 & 0.001 & 0.35 & 0.001 & 1.4e-05 & global-SLG\\%E & CASSLGTEQFF & TRBV27         & TRBJ2-1 & NA & Leukemia:CHP\\_405\\_X05-cfDNA     & 729\\\\\n",
       "\t 1 & SLG\\%E & 0 & 5 & 50 & 5e-12 & 1 & 0.001 & 0.35 & 0.001 & 1.4e-05 & global-SLG\\%E & CASSLGAEAFF & TRBV6\\_7        & NA      & NA & MDavis:DRB10401                &   1\\\\\n",
       "\t 1 & SLG\\%E & 0 & 5 & 50 & 5e-12 & 1 & 0.001 & 0.35 & 0.001 & 1.4e-05 & global-SLG\\%E & YASSLGGEQFF & TRBV6\\_7        & NA      & NA & MDavis:DRB10401                &   1\\\\\n",
       "\t 1 & SLG\\%E & 0 & 5 & 50 & 5e-12 & 1 & 0.001 & 0.35 & 0.001 & 1.4e-05 & global-SLG\\%E & CASSLGVEQYF & TRBV27         & TRBJ2-7 & NA & Leukemia:CHP\\_359\\_X03-PBMC      &  24\\\\\n",
       "\t 1 & SLG\\%E & 0 & 5 & 50 & 5e-12 & 1 & 0.001 & 0.35 & 0.001 & 1.4e-05 & global-SLG\\%E & CASSLGAEQYF & TRBV6\\_7        & NA      & NA & MDavis:DRB10401                &   1\\\\\n",
       "\t 1 & SLG\\%E & 0 & 5 & 50 & 5e-12 & 1 & 0.001 & 0.35 & 0.001 & 1.4e-05 & global-SLG\\%E & CAWSLGDEQYF & TRBV6\\_7-or30\\_1 & NA      & NA & MDavis:C0304\\_DQA10303\\_DRB10401 &   1\\\\\n",
       "\\end{tabular}\n"
      ],
      "text/markdown": [
       "\n",
       "A tibble: 6 x 18\n",
       "\n",
       "| index &lt;dbl&gt; | pattern &lt;chr&gt; | Fisher_score &lt;dbl&gt; | number_subject &lt;dbl&gt; | number_unique_cdr3 &lt;dbl&gt; | final_score &lt;dbl&gt; | hla_score &lt;dbl&gt; | vb_score &lt;dbl&gt; | expansion_score &lt;dbl&gt; | length_score &lt;dbl&gt; | cluster_size_score &lt;dbl&gt; | type &lt;chr&gt; | TcRb &lt;chr&gt; | V &lt;chr&gt; | J &lt;chr&gt; | TcRa &lt;lgl&gt; | Sample &lt;chr&gt; | Freq &lt;dbl&gt; |\n",
       "|---|---|---|---|---|---|---|---|---|---|---|---|---|---|---|---|---|---|\n",
       "| 1 | SLG%E | 0 | 5 | 50 | 5e-12 | 1 | 0.001 | 0.35 | 0.001 | 1.4e-05 | global-SLG%E | CASSLGTEQFF | TRBV27         | TRBJ2-1 | NA | Leukemia:CHP_405_X05-cfDNA     | 729 |\n",
       "| 1 | SLG%E | 0 | 5 | 50 | 5e-12 | 1 | 0.001 | 0.35 | 0.001 | 1.4e-05 | global-SLG%E | CASSLGAEAFF | TRBV6_7        | NA      | NA | MDavis:DRB10401                |   1 |\n",
       "| 1 | SLG%E | 0 | 5 | 50 | 5e-12 | 1 | 0.001 | 0.35 | 0.001 | 1.4e-05 | global-SLG%E | YASSLGGEQFF | TRBV6_7        | NA      | NA | MDavis:DRB10401                |   1 |\n",
       "| 1 | SLG%E | 0 | 5 | 50 | 5e-12 | 1 | 0.001 | 0.35 | 0.001 | 1.4e-05 | global-SLG%E | CASSLGVEQYF | TRBV27         | TRBJ2-7 | NA | Leukemia:CHP_359_X03-PBMC      |  24 |\n",
       "| 1 | SLG%E | 0 | 5 | 50 | 5e-12 | 1 | 0.001 | 0.35 | 0.001 | 1.4e-05 | global-SLG%E | CASSLGAEQYF | TRBV6_7        | NA      | NA | MDavis:DRB10401                |   1 |\n",
       "| 1 | SLG%E | 0 | 5 | 50 | 5e-12 | 1 | 0.001 | 0.35 | 0.001 | 1.4e-05 | global-SLG%E | CAWSLGDEQYF | TRBV6_7-or30_1 | NA      | NA | MDavis:C0304_DQA10303_DRB10401 |   1 |\n",
       "\n"
      ],
      "text/plain": [
       "  index pattern Fisher_score number_subject number_unique_cdr3 final_score\n",
       "1 1     SLG%E   0            5              50                 5e-12      \n",
       "2 1     SLG%E   0            5              50                 5e-12      \n",
       "3 1     SLG%E   0            5              50                 5e-12      \n",
       "4 1     SLG%E   0            5              50                 5e-12      \n",
       "5 1     SLG%E   0            5              50                 5e-12      \n",
       "6 1     SLG%E   0            5              50                 5e-12      \n",
       "  hla_score vb_score expansion_score length_score cluster_size_score\n",
       "1 1         0.001    0.35            0.001        1.4e-05           \n",
       "2 1         0.001    0.35            0.001        1.4e-05           \n",
       "3 1         0.001    0.35            0.001        1.4e-05           \n",
       "4 1         0.001    0.35            0.001        1.4e-05           \n",
       "5 1         0.001    0.35            0.001        1.4e-05           \n",
       "6 1         0.001    0.35            0.001        1.4e-05           \n",
       "  type         TcRb        V              J       TcRa\n",
       "1 global-SLG%E CASSLGTEQFF TRBV27         TRBJ2-1 NA  \n",
       "2 global-SLG%E CASSLGAEAFF TRBV6_7        NA      NA  \n",
       "3 global-SLG%E YASSLGGEQFF TRBV6_7        NA      NA  \n",
       "4 global-SLG%E CASSLGVEQYF TRBV27         TRBJ2-7 NA  \n",
       "5 global-SLG%E CASSLGAEQYF TRBV6_7        NA      NA  \n",
       "6 global-SLG%E CAWSLGDEQYF TRBV6_7-or30_1 NA      NA  \n",
       "  Sample                         Freq\n",
       "1 Leukemia:CHP_405_X05-cfDNA     729 \n",
       "2 MDavis:DRB10401                  1 \n",
       "3 MDavis:DRB10401                  1 \n",
       "4 Leukemia:CHP_359_X03-PBMC       24 \n",
       "5 MDavis:DRB10401                  1 \n",
       "6 MDavis:C0304_DQA10303_DRB10401   1 "
      ]
     },
     "metadata": {},
     "output_type": "display_data"
    }
   ],
   "source": [
    "head(gliph_out)"
   ]
  },
  {
   "cell_type": "code",
   "execution_count": 12,
   "metadata": {
    "vscode": {
     "languageId": "r"
    }
   },
   "outputs": [],
   "source": [
    "#  tmp <- gliph_out[gliph_out$number_subject >= 3,]\n",
    "#  tmp <- tmp[tmp$number_unique_cdr3 >= 3,]\n",
    "# tmp <- tmp[tmp$Fisher_score < 0.001,]\n",
    "# tmp <- tmp[tmp$expansion_score < 0.01,]\n",
    "# tmp <- tmp[tmp$length_score < 0.002,]\n",
    "\n",
    "# no single\n",
    "tmp <- gliph_out[ gliph_out$pattern != \"single\",]\n",
    "\n",
    "# only those with 3 or more unique cdr3\n",
    "tmp <- tmp[tmp$number_unique_cdr3 >= 3,]\n",
    "\n",
    "# only those patterns with CHP samples\n",
    "importantgliphs <- tmp$pattern[ grepl(\"CHP\", tmp$Sample)]\n",
    "tmp <- tmp[ tmp$pattern %in% importantgliphs,]"
   ]
  },
  {
   "cell_type": "code",
   "execution_count": 13,
   "metadata": {
    "vscode": {
     "languageId": "r"
    }
   },
   "outputs": [
    {
     "data": {
      "text/html": [
       "<style>\n",
       ".list-inline {list-style: none; margin:0; padding: 0}\n",
       ".list-inline>li {display: inline-block}\n",
       ".list-inline>li:not(:last-child)::after {content: \"\\00b7\"; padding: 0 .5ex}\n",
       "</style>\n",
       "<ol class=list-inline><li>48732</li><li>18</li></ol>\n"
      ],
      "text/latex": [
       "\\begin{enumerate*}\n",
       "\\item 48732\n",
       "\\item 18\n",
       "\\end{enumerate*}\n"
      ],
      "text/markdown": [
       "1. 48732\n",
       "2. 18\n",
       "\n",
       "\n"
      ],
      "text/plain": [
       "[1] 48732    18"
      ]
     },
     "metadata": {},
     "output_type": "display_data"
    }
   ],
   "source": [
    "dim(tmp)"
   ]
  },
  {
   "cell_type": "markdown",
   "metadata": {},
   "source": [
    "Create a gliph dataframe"
   ]
  },
  {
   "cell_type": "code",
   "execution_count": 14,
   "metadata": {
    "vscode": {
     "languageId": "r"
    }
   },
   "outputs": [],
   "source": [
    "gliphdf <- data.frame(gliph = unique(tmp$pattern))\n",
    "rownames(gliphdf) <- gliphdf$gliph"
   ]
  },
  {
   "cell_type": "code",
   "execution_count": 15,
   "metadata": {
    "vscode": {
     "languageId": "r"
    }
   },
   "outputs": [
    {
     "data": {
      "text/html": [
       "<table class=\"dataframe\">\n",
       "<caption>A data.frame: 6 x 1</caption>\n",
       "<thead>\n",
       "\t<tr><th></th><th scope=col>gliph</th></tr>\n",
       "\t<tr><th></th><th scope=col>&lt;chr&gt;</th></tr>\n",
       "</thead>\n",
       "<tbody>\n",
       "\t<tr><th scope=row>SLG%E</th><td>SLG%E  </td></tr>\n",
       "\t<tr><th scope=row>S%GGNTE</th><td>S%GGNTE</td></tr>\n",
       "\t<tr><th scope=row>GIWV</th><td>GIWV   </td></tr>\n",
       "\t<tr><th scope=row>IWV</th><td>IWV    </td></tr>\n",
       "\t<tr><th scope=row>WVYE</th><td>WVYE   </td></tr>\n",
       "\t<tr><th scope=row>IWVY</th><td>IWVY   </td></tr>\n",
       "</tbody>\n",
       "</table>\n"
      ],
      "text/latex": [
       "A data.frame: 6 x 1\n",
       "\\begin{tabular}{r|l}\n",
       "  & gliph\\\\\n",
       "  & <chr>\\\\\n",
       "\\hline\n",
       "\tSLG\\%E & SLG\\%E  \\\\\n",
       "\tS\\%GGNTE & S\\%GGNTE\\\\\n",
       "\tGIWV & GIWV   \\\\\n",
       "\tIWV & IWV    \\\\\n",
       "\tWVYE & WVYE   \\\\\n",
       "\tIWVY & IWVY   \\\\\n",
       "\\end{tabular}\n"
      ],
      "text/markdown": [
       "\n",
       "A data.frame: 6 x 1\n",
       "\n",
       "| <!--/--> | gliph &lt;chr&gt; |\n",
       "|---|---|\n",
       "| SLG%E | SLG%E   |\n",
       "| S%GGNTE | S%GGNTE |\n",
       "| GIWV | GIWV    |\n",
       "| IWV | IWV     |\n",
       "| WVYE | WVYE    |\n",
       "| IWVY | IWVY    |\n",
       "\n"
      ],
      "text/plain": [
       "        gliph  \n",
       "SLG%E   SLG%E  \n",
       "S%GGNTE S%GGNTE\n",
       "GIWV    GIWV   \n",
       "IWV     IWV    \n",
       "WVYE    WVYE   \n",
       "IWVY    IWVY   "
      ]
     },
     "metadata": {},
     "output_type": "display_data"
    }
   ],
   "source": [
    "head(gliphdf)"
   ]
  },
  {
   "cell_type": "code",
   "execution_count": 16,
   "metadata": {
    "vscode": {
     "languageId": "r"
    }
   },
   "outputs": [],
   "source": [
    "tmp$subject <- gsub(\":.*\", \"\", tmp$Sample)"
   ]
  },
  {
   "cell_type": "code",
   "execution_count": 17,
   "metadata": {
    "vscode": {
     "languageId": "r"
    }
   },
   "outputs": [
    {
     "data": {
      "text/html": [
       "<table class=\"dataframe\">\n",
       "<caption>A tibble: 6 x 2</caption>\n",
       "<thead>\n",
       "\t<tr><th scope=col>subject</th><th scope=col>Sample</th></tr>\n",
       "\t<tr><th scope=col>&lt;chr&gt;</th><th scope=col>&lt;chr&gt;</th></tr>\n",
       "</thead>\n",
       "<tbody>\n",
       "\t<tr><td>Leukemia</td><td>Leukemia:CHP_405_X05-cfDNA    </td></tr>\n",
       "\t<tr><td>MDavis  </td><td>MDavis:DRB10401               </td></tr>\n",
       "\t<tr><td>MDavis  </td><td>MDavis:DRB10401               </td></tr>\n",
       "\t<tr><td>Leukemia</td><td>Leukemia:CHP_359_X03-PBMC     </td></tr>\n",
       "\t<tr><td>MDavis  </td><td>MDavis:DRB10401               </td></tr>\n",
       "\t<tr><td>MDavis  </td><td>MDavis:C0304_DQA10303_DRB10401</td></tr>\n",
       "</tbody>\n",
       "</table>\n"
      ],
      "text/latex": [
       "A tibble: 6 x 2\n",
       "\\begin{tabular}{ll}\n",
       " subject & Sample\\\\\n",
       " <chr> & <chr>\\\\\n",
       "\\hline\n",
       "\t Leukemia & Leukemia:CHP\\_405\\_X05-cfDNA    \\\\\n",
       "\t MDavis   & MDavis:DRB10401               \\\\\n",
       "\t MDavis   & MDavis:DRB10401               \\\\\n",
       "\t Leukemia & Leukemia:CHP\\_359\\_X03-PBMC     \\\\\n",
       "\t MDavis   & MDavis:DRB10401               \\\\\n",
       "\t MDavis   & MDavis:C0304\\_DQA10303\\_DRB10401\\\\\n",
       "\\end{tabular}\n"
      ],
      "text/markdown": [
       "\n",
       "A tibble: 6 x 2\n",
       "\n",
       "| subject &lt;chr&gt; | Sample &lt;chr&gt; |\n",
       "|---|---|\n",
       "| Leukemia | Leukemia:CHP_405_X05-cfDNA     |\n",
       "| MDavis   | MDavis:DRB10401                |\n",
       "| MDavis   | MDavis:DRB10401                |\n",
       "| Leukemia | Leukemia:CHP_359_X03-PBMC      |\n",
       "| MDavis   | MDavis:DRB10401                |\n",
       "| MDavis   | MDavis:C0304_DQA10303_DRB10401 |\n",
       "\n"
      ],
      "text/plain": [
       "  subject  Sample                        \n",
       "1 Leukemia Leukemia:CHP_405_X05-cfDNA    \n",
       "2 MDavis   MDavis:DRB10401               \n",
       "3 MDavis   MDavis:DRB10401               \n",
       "4 Leukemia Leukemia:CHP_359_X03-PBMC     \n",
       "5 MDavis   MDavis:DRB10401               \n",
       "6 MDavis   MDavis:C0304_DQA10303_DRB10401"
      ]
     },
     "metadata": {},
     "output_type": "display_data"
    }
   ],
   "source": [
    "head(tmp[, c(\"subject\", \"Sample\")])"
   ]
  },
  {
   "cell_type": "code",
   "execution_count": 18,
   "metadata": {
    "vscode": {
     "languageId": "r"
    }
   },
   "outputs": [
    {
     "data": {
      "text/html": [
       "<style>\n",
       ".list-inline {list-style: none; margin:0; padding: 0}\n",
       ".list-inline>li {display: inline-block}\n",
       ".list-inline>li:not(:last-child)::after {content: \"\\00b7\"; padding: 0 .5ex}\n",
       "</style>\n",
       "<ol class=list-inline><li>'CEF'</li><li>'CMV'</li><li>'EBV'</li><li>'HCV'</li><li>'HPV'</li><li>'HomoSapiens'</li><li>'Influenza'</li><li>'LFS'</li><li>'M.tuberculosis'</li><li>'MCPyV'</li><li>'MDavis'</li><li>'S-pneumoniae'</li></ol>\n"
      ],
      "text/latex": [
       "\\begin{enumerate*}\n",
       "\\item 'CEF'\n",
       "\\item 'CMV'\n",
       "\\item 'EBV'\n",
       "\\item 'HCV'\n",
       "\\item 'HPV'\n",
       "\\item 'HomoSapiens'\n",
       "\\item 'Influenza'\n",
       "\\item 'LFS'\n",
       "\\item 'M.tuberculosis'\n",
       "\\item 'MCPyV'\n",
       "\\item 'MDavis'\n",
       "\\item 'S-pneumoniae'\n",
       "\\end{enumerate*}\n"
      ],
      "text/markdown": [
       "1. 'CEF'\n",
       "2. 'CMV'\n",
       "3. 'EBV'\n",
       "4. 'HCV'\n",
       "5. 'HPV'\n",
       "6. 'HomoSapiens'\n",
       "7. 'Influenza'\n",
       "8. 'LFS'\n",
       "9. 'M.tuberculosis'\n",
       "10. 'MCPyV'\n",
       "11. 'MDavis'\n",
       "12. 'S-pneumoniae'\n",
       "\n",
       "\n"
      ],
      "text/plain": [
       " [1] \"CEF\"            \"CMV\"            \"EBV\"            \"HCV\"           \n",
       " [5] \"HPV\"            \"HomoSapiens\"    \"Influenza\"      \"LFS\"           \n",
       " [9] \"M.tuberculosis\" \"MCPyV\"          \"MDavis\"         \"S-pneumoniae\"  "
      ]
     },
     "metadata": {},
     "output_type": "display_data"
    }
   ],
   "source": [
    "names(table(tmp$subject[!grepl(\"CHP\", tmp$Sample)]))"
   ]
  },
  {
   "cell_type": "code",
   "execution_count": 19,
   "metadata": {
    "vscode": {
     "languageId": "r"
    }
   },
   "outputs": [],
   "source": [
    "for(i in 1:nrow(gliphdf)){\n",
    "\n",
    "mygliph <- tmp[tmp$pattern == gliphdf$gliph[i],]\n",
    "# add gliphdf$CMV, if mygliph$subject ciontains CMV\n",
    "gliphdf$CMV[i] <- ifelse(sum(grepl(\"CMV\", mygliph$subject)) > 0, sum(grepl(\"CMV\", mygliph$subject)), 0)\n",
    "gliphdf$EBV[i] <- ifelse(sum(grepl(\"EBV\", mygliph$subject)) > 0, sum(grepl(\"EBV\", mygliph$subject)), 0)\n",
    "gliphdf$HCV[i] <- ifelse(sum(grepl(\"HCV\", mygliph$subject)) > 0, sum(grepl(\"HCV\", mygliph$subject)), 0)\n",
    "gliphdf$Influenza[i] <- ifelse(sum(grepl(\"Influenza\", mygliph$subject)) > 0, sum(grepl(\"Influenza\", mygliph$subject)), 0)\n",
    "\n",
    "gliphdf$HomoSapiens[i] <- ifelse(sum(grepl(\"HomoSapiens\", mygliph$subject)) > 0, sum(grepl(\"HomoSapiens\", mygliph$subject)), 0)\n",
    "gliphdf$MDavis[i] <- ifelse(sum(grepl(\"MDavis\", mygliph$subject)) > 0, sum(grepl(\"MDavis\", mygliph$subject)), 0)\n",
    "\n",
    "gliphdf$HPV[i] <- ifelse(sum(grepl(\"HPV\", mygliph$subject)) > 0, sum(grepl(\"HPV\", mygliph$subject)), 0)\n",
    "gliphdf$CEF[i] <- ifelse(sum(grepl(\"CEF\", mygliph$subject)) > 0, sum(grepl(\"CEF\", mygliph$subject)), 0)\n",
    "gliphdf$TB[i] <- ifelse(sum(grepl(\"M.tuberculosis\", mygliph$subject)) > 0, sum(grepl(\"M.tuberculosis\", mygliph$subject)), 0)\n",
    "gliphdf$MCPyV[i] <- ifelse(sum(grepl(\"MCPyV\", mygliph$subject)) > 0, sum(grepl(\"MCPyV\", mygliph$subject)), 0)\n",
    "gliphdf$`S-pneumoniae`[i] <- ifelse(sum(grepl(\"S-pneumoniae\", mygliph$subject)) > 0, sum(grepl(\"S-pneumoniae\", mygliph$subject)), 0)\n",
    "\n",
    "# gliphdf$`HTLV-1`[i] <- ifelse(sum(grepl(\"HTLV-1\", mygliph$subject)) > 0, sum(grepl(\"HTLV-1\", mygliph$subject)), 0)\n",
    "# gliphdf$DENV[i] <- ifelse(sum(grepl(\"DENV\", mygliph$subject)) > 0, sum(grepl(\"DENV\", mygliph$subject)), 0)\n",
    "}"
   ]
  },
  {
   "cell_type": "code",
   "execution_count": 20,
   "metadata": {
    "vscode": {
     "languageId": "r"
    }
   },
   "outputs": [
    {
     "data": {
      "text/html": [
       "<table class=\"dataframe\">\n",
       "<caption>A data.frame: 6 x 12</caption>\n",
       "<thead>\n",
       "\t<tr><th></th><th scope=col>gliph</th><th scope=col>CMV</th><th scope=col>EBV</th><th scope=col>HCV</th><th scope=col>Influenza</th><th scope=col>HomoSapiens</th><th scope=col>MDavis</th><th scope=col>HPV</th><th scope=col>CEF</th><th scope=col>TB</th><th scope=col>MCPyV</th><th scope=col>S-pneumoniae</th></tr>\n",
       "\t<tr><th></th><th scope=col>&lt;chr&gt;</th><th scope=col>&lt;dbl&gt;</th><th scope=col>&lt;dbl&gt;</th><th scope=col>&lt;dbl&gt;</th><th scope=col>&lt;dbl&gt;</th><th scope=col>&lt;dbl&gt;</th><th scope=col>&lt;dbl&gt;</th><th scope=col>&lt;dbl&gt;</th><th scope=col>&lt;dbl&gt;</th><th scope=col>&lt;dbl&gt;</th><th scope=col>&lt;dbl&gt;</th><th scope=col>&lt;dbl&gt;</th></tr>\n",
       "</thead>\n",
       "<tbody>\n",
       "\t<tr><th scope=row>SLG%E</th><td>SLG%E  </td><td>0</td><td>0</td><td>0</td><td>0</td><td>0</td><td>39</td><td>0</td><td>0</td><td>0</td><td>0</td><td>0</td></tr>\n",
       "\t<tr><th scope=row>S%GGNTE</th><td>S%GGNTE</td><td>0</td><td>0</td><td>0</td><td>0</td><td>1</td><td>40</td><td>0</td><td>0</td><td>0</td><td>0</td><td>0</td></tr>\n",
       "\t<tr><th scope=row>GIWV</th><td>GIWV   </td><td>0</td><td>0</td><td>0</td><td>0</td><td>0</td><td> 0</td><td>0</td><td>0</td><td>0</td><td>0</td><td>0</td></tr>\n",
       "\t<tr><th scope=row>IWV</th><td>IWV    </td><td>0</td><td>0</td><td>0</td><td>0</td><td>1</td><td> 0</td><td>0</td><td>0</td><td>0</td><td>0</td><td>0</td></tr>\n",
       "\t<tr><th scope=row>WVYE</th><td>WVYE   </td><td>0</td><td>0</td><td>0</td><td>0</td><td>0</td><td> 0</td><td>0</td><td>0</td><td>0</td><td>0</td><td>0</td></tr>\n",
       "\t<tr><th scope=row>IWVY</th><td>IWVY   </td><td>0</td><td>0</td><td>0</td><td>0</td><td>0</td><td> 0</td><td>0</td><td>0</td><td>0</td><td>0</td><td>0</td></tr>\n",
       "</tbody>\n",
       "</table>\n"
      ],
      "text/latex": [
       "A data.frame: 6 x 12\n",
       "\\begin{tabular}{r|llllllllllll}\n",
       "  & gliph & CMV & EBV & HCV & Influenza & HomoSapiens & MDavis & HPV & CEF & TB & MCPyV & S-pneumoniae\\\\\n",
       "  & <chr> & <dbl> & <dbl> & <dbl> & <dbl> & <dbl> & <dbl> & <dbl> & <dbl> & <dbl> & <dbl> & <dbl>\\\\\n",
       "\\hline\n",
       "\tSLG\\%E & SLG\\%E   & 0 & 0 & 0 & 0 & 0 & 39 & 0 & 0 & 0 & 0 & 0\\\\\n",
       "\tS\\%GGNTE & S\\%GGNTE & 0 & 0 & 0 & 0 & 1 & 40 & 0 & 0 & 0 & 0 & 0\\\\\n",
       "\tGIWV & GIWV    & 0 & 0 & 0 & 0 & 0 &  0 & 0 & 0 & 0 & 0 & 0\\\\\n",
       "\tIWV & IWV     & 0 & 0 & 0 & 0 & 1 &  0 & 0 & 0 & 0 & 0 & 0\\\\\n",
       "\tWVYE & WVYE    & 0 & 0 & 0 & 0 & 0 &  0 & 0 & 0 & 0 & 0 & 0\\\\\n",
       "\tIWVY & IWVY    & 0 & 0 & 0 & 0 & 0 &  0 & 0 & 0 & 0 & 0 & 0\\\\\n",
       "\\end{tabular}\n"
      ],
      "text/markdown": [
       "\n",
       "A data.frame: 6 x 12\n",
       "\n",
       "| <!--/--> | gliph &lt;chr&gt; | CMV &lt;dbl&gt; | EBV &lt;dbl&gt; | HCV &lt;dbl&gt; | Influenza &lt;dbl&gt; | HomoSapiens &lt;dbl&gt; | MDavis &lt;dbl&gt; | HPV &lt;dbl&gt; | CEF &lt;dbl&gt; | TB &lt;dbl&gt; | MCPyV &lt;dbl&gt; | S-pneumoniae &lt;dbl&gt; |\n",
       "|---|---|---|---|---|---|---|---|---|---|---|---|---|\n",
       "| SLG%E | SLG%E   | 0 | 0 | 0 | 0 | 0 | 39 | 0 | 0 | 0 | 0 | 0 |\n",
       "| S%GGNTE | S%GGNTE | 0 | 0 | 0 | 0 | 1 | 40 | 0 | 0 | 0 | 0 | 0 |\n",
       "| GIWV | GIWV    | 0 | 0 | 0 | 0 | 0 |  0 | 0 | 0 | 0 | 0 | 0 |\n",
       "| IWV | IWV     | 0 | 0 | 0 | 0 | 1 |  0 | 0 | 0 | 0 | 0 | 0 |\n",
       "| WVYE | WVYE    | 0 | 0 | 0 | 0 | 0 |  0 | 0 | 0 | 0 | 0 | 0 |\n",
       "| IWVY | IWVY    | 0 | 0 | 0 | 0 | 0 |  0 | 0 | 0 | 0 | 0 | 0 |\n",
       "\n"
      ],
      "text/plain": [
       "        gliph   CMV EBV HCV Influenza HomoSapiens MDavis HPV CEF TB MCPyV\n",
       "SLG%E   SLG%E   0   0   0   0         0           39     0   0   0  0    \n",
       "S%GGNTE S%GGNTE 0   0   0   0         1           40     0   0   0  0    \n",
       "GIWV    GIWV    0   0   0   0         0            0     0   0   0  0    \n",
       "IWV     IWV     0   0   0   0         1            0     0   0   0  0    \n",
       "WVYE    WVYE    0   0   0   0         0            0     0   0   0  0    \n",
       "IWVY    IWVY    0   0   0   0         0            0     0   0   0  0    \n",
       "        S-pneumoniae\n",
       "SLG%E   0           \n",
       "S%GGNTE 0           \n",
       "GIWV    0           \n",
       "IWV     0           \n",
       "WVYE    0           \n",
       "IWVY    0           "
      ]
     },
     "metadata": {},
     "output_type": "display_data"
    }
   ],
   "source": [
    "head(gliphdf)"
   ]
  },
  {
   "cell_type": "code",
   "execution_count": 21,
   "metadata": {
    "vscode": {
     "languageId": "r"
    }
   },
   "outputs": [],
   "source": [
    "# gliphdf$Family <- NA\n",
    "\n",
    "# for (i in 1:nrow(gliphdf)) {\n",
    "#     mygliph <- tmp[tmp$pattern == gliphdf$gliph[i], ]\n",
    "#     # add CMV to gliphdf$Family, if CMV is in mygliph$subject\n",
    "#     gliphdf$Family[i] <- ifelse(sum(grepl(\"CMV\", mygliph$subject)) > 0, \"CMV\", \"\")\n",
    "#     gliphdf$Family[i] <- ifelse(sum(grepl(\"EBV\", mygliph$subject)) > 0, paste0(\"EBV_\", gliphdf$Family[i]), gliphdf$Family[i])\n",
    "#     gliphdf$Family[i] <- ifelse(sum(grepl(\"HCV\", mygliph$subject)) > 0, paste0(\"HCV_\", gliphdf$Family[i]), gliphdf$Family[i])\n",
    "#     # gliphdf$Family[i] <- ifelse(sum(grepl(\"Influenza\", mygliph$subject)) > 0, paste0(\"Flu_\", gliphdf$Family[i]), gliphdf$Family[i])\n",
    "#     gliphdf$Family[i] <- ifelse(sum(grepl(\"HomoSapiens\", mygliph$subject)) > 0, paste0(\"hs_\", gliphdf$Family[i]), gliphdf$Family[i])\n",
    "#     gliphdf$Family[i] <- ifelse(sum(grepl(\"HPV\", mygliph$subject)) > 0, paste0(\"HPV_\", gliphdf$Family[i]), gliphdf$Family[i])\n",
    "#     # gliphdf$Family[i] <- ifelse(sum(grepl(\"CEF\", mygliph$subject)) > 0, paste0(\"CEF_\", gliphdf$Family[i]), gliphdf$Family[i])\n",
    "#     gliphdf$Family[i] <- ifelse(sum(grepl(\"M.tuberculosis\", mygliph$subject)) > 0, paste0(\"TB_\", gliphdf$Family[i]), gliphdf$Family[i])\n",
    "#     gliphdf$Family[i] <- ifelse(sum(grepl(\"MCPyV\", mygliph$subject)) > 0, paste0(\"MCPyV_\", gliphdf$Family[i]), gliphdf$Family[i])\n",
    "#     gliphdf$Family[i] <- ifelse(sum(grepl(\"MDavis\", mygliph$subject)) > 0, paste0(\"hs_\", gliphdf$Family[i]), gliphdf$Family[i])\n",
    "#     gliphdf$Family[i] <- ifelse(sum(grepl(\"S-pneumoniae\", mygliph$subject)) > 0, paste0(\"SP_\", gliphdf$Family[i]), gliphdf$Family[i])\n",
    "#     # gliphdf$Family[i] <- ifelse(sum(grepl(\"DENV\", mygliph$subject)) > 0, paste0(\"DENV_\", gliphdf$Family[i]), gliphdf$Family[i])\n",
    "#     # gliphdf$Family[i] <- ifelse(sum(grepl(\"HTLV\", mygliph$subject)) > 0, paste0(\"HTLV_\", gliphdf$Family[i]), gliphdf$Family[i])\n",
    "\n",
    "# }"
   ]
  },
  {
   "cell_type": "code",
   "execution_count": 22,
   "metadata": {
    "vscode": {
     "languageId": "r"
    }
   },
   "outputs": [
    {
     "data": {
      "text/html": [
       "<style>\n",
       ".list-inline {list-style: none; margin:0; padding: 0}\n",
       ".list-inline>li {display: inline-block}\n",
       ".list-inline>li:not(:last-child)::after {content: \"\\00b7\"; padding: 0 .5ex}\n",
       "</style>\n",
       "<ol class=list-inline><li>'index'</li><li>'pattern'</li><li>'Fisher_score'</li><li>'number_subject'</li><li>'number_unique_cdr3'</li><li>'final_score'</li><li>'hla_score'</li><li>'vb_score'</li><li>'expansion_score'</li><li>'length_score'</li><li>'cluster_size_score'</li><li>'type'</li><li>'TcRb'</li><li>'V'</li><li>'J'</li><li>'TcRa'</li><li>'Sample'</li><li>'Freq'</li><li>'subject'</li></ol>\n"
      ],
      "text/latex": [
       "\\begin{enumerate*}\n",
       "\\item 'index'\n",
       "\\item 'pattern'\n",
       "\\item 'Fisher\\_score'\n",
       "\\item 'number\\_subject'\n",
       "\\item 'number\\_unique\\_cdr3'\n",
       "\\item 'final\\_score'\n",
       "\\item 'hla\\_score'\n",
       "\\item 'vb\\_score'\n",
       "\\item 'expansion\\_score'\n",
       "\\item 'length\\_score'\n",
       "\\item 'cluster\\_size\\_score'\n",
       "\\item 'type'\n",
       "\\item 'TcRb'\n",
       "\\item 'V'\n",
       "\\item 'J'\n",
       "\\item 'TcRa'\n",
       "\\item 'Sample'\n",
       "\\item 'Freq'\n",
       "\\item 'subject'\n",
       "\\end{enumerate*}\n"
      ],
      "text/markdown": [
       "1. 'index'\n",
       "2. 'pattern'\n",
       "3. 'Fisher_score'\n",
       "4. 'number_subject'\n",
       "5. 'number_unique_cdr3'\n",
       "6. 'final_score'\n",
       "7. 'hla_score'\n",
       "8. 'vb_score'\n",
       "9. 'expansion_score'\n",
       "10. 'length_score'\n",
       "11. 'cluster_size_score'\n",
       "12. 'type'\n",
       "13. 'TcRb'\n",
       "14. 'V'\n",
       "15. 'J'\n",
       "16. 'TcRa'\n",
       "17. 'Sample'\n",
       "18. 'Freq'\n",
       "19. 'subject'\n",
       "\n",
       "\n"
      ],
      "text/plain": [
       " [1] \"index\"              \"pattern\"            \"Fisher_score\"      \n",
       " [4] \"number_subject\"     \"number_unique_cdr3\" \"final_score\"       \n",
       " [7] \"hla_score\"          \"vb_score\"           \"expansion_score\"   \n",
       "[10] \"length_score\"       \"cluster_size_score\" \"type\"              \n",
       "[13] \"TcRb\"               \"V\"                  \"J\"                 \n",
       "[16] \"TcRa\"               \"Sample\"             \"Freq\"              \n",
       "[19] \"subject\"           "
      ]
     },
     "metadata": {},
     "output_type": "display_data"
    }
   ],
   "source": [
    "colnames(tmp)"
   ]
  },
  {
   "cell_type": "code",
   "execution_count": 23,
   "metadata": {
    "vscode": {
     "languageId": "r"
    }
   },
   "outputs": [],
   "source": [
    "# add number of unique cdr3s for each group\n",
    "for (i in 1:nrow(gliphdf)) {\n",
    "    mygliph <- tmp[tmp$pattern == gliphdf$gliph[i], ]\n",
    "    gliphdf$n_unique_cdr3[i] <- mygliph$number_unique_cdr3[1]\n",
    "}\n"
   ]
  },
  {
   "cell_type": "code",
   "execution_count": 24,
   "metadata": {
    "vscode": {
     "languageId": "r"
    }
   },
   "outputs": [
    {
     "data": {
      "text/html": [
       "<table class=\"dataframe\">\n",
       "<caption>A data.frame: 6 x 13</caption>\n",
       "<thead>\n",
       "\t<tr><th></th><th scope=col>gliph</th><th scope=col>CMV</th><th scope=col>EBV</th><th scope=col>HCV</th><th scope=col>Influenza</th><th scope=col>HomoSapiens</th><th scope=col>MDavis</th><th scope=col>HPV</th><th scope=col>CEF</th><th scope=col>TB</th><th scope=col>MCPyV</th><th scope=col>S-pneumoniae</th><th scope=col>n_unique_cdr3</th></tr>\n",
       "\t<tr><th></th><th scope=col>&lt;chr&gt;</th><th scope=col>&lt;dbl&gt;</th><th scope=col>&lt;dbl&gt;</th><th scope=col>&lt;dbl&gt;</th><th scope=col>&lt;dbl&gt;</th><th scope=col>&lt;dbl&gt;</th><th scope=col>&lt;dbl&gt;</th><th scope=col>&lt;dbl&gt;</th><th scope=col>&lt;dbl&gt;</th><th scope=col>&lt;dbl&gt;</th><th scope=col>&lt;dbl&gt;</th><th scope=col>&lt;dbl&gt;</th><th scope=col>&lt;dbl&gt;</th></tr>\n",
       "</thead>\n",
       "<tbody>\n",
       "\t<tr><th scope=row>SLG%E</th><td>SLG%E  </td><td>0</td><td>0</td><td>0</td><td>0</td><td>0</td><td>39</td><td>0</td><td>0</td><td>0</td><td>0</td><td>0</td><td>50</td></tr>\n",
       "\t<tr><th scope=row>S%GGNTE</th><td>S%GGNTE</td><td>0</td><td>0</td><td>0</td><td>0</td><td>1</td><td>40</td><td>0</td><td>0</td><td>0</td><td>0</td><td>0</td><td>41</td></tr>\n",
       "\t<tr><th scope=row>GIWV</th><td>GIWV   </td><td>0</td><td>0</td><td>0</td><td>0</td><td>0</td><td> 0</td><td>0</td><td>0</td><td>0</td><td>0</td><td>0</td><td>82</td></tr>\n",
       "\t<tr><th scope=row>IWV</th><td>IWV    </td><td>0</td><td>0</td><td>0</td><td>0</td><td>1</td><td> 0</td><td>0</td><td>0</td><td>0</td><td>0</td><td>0</td><td>97</td></tr>\n",
       "\t<tr><th scope=row>WVYE</th><td>WVYE   </td><td>0</td><td>0</td><td>0</td><td>0</td><td>0</td><td> 0</td><td>0</td><td>0</td><td>0</td><td>0</td><td>0</td><td>98</td></tr>\n",
       "\t<tr><th scope=row>IWVY</th><td>IWVY   </td><td>0</td><td>0</td><td>0</td><td>0</td><td>0</td><td> 0</td><td>0</td><td>0</td><td>0</td><td>0</td><td>0</td><td>95</td></tr>\n",
       "</tbody>\n",
       "</table>\n"
      ],
      "text/latex": [
       "A data.frame: 6 x 13\n",
       "\\begin{tabular}{r|lllllllllllll}\n",
       "  & gliph & CMV & EBV & HCV & Influenza & HomoSapiens & MDavis & HPV & CEF & TB & MCPyV & S-pneumoniae & n\\_unique\\_cdr3\\\\\n",
       "  & <chr> & <dbl> & <dbl> & <dbl> & <dbl> & <dbl> & <dbl> & <dbl> & <dbl> & <dbl> & <dbl> & <dbl> & <dbl>\\\\\n",
       "\\hline\n",
       "\tSLG\\%E & SLG\\%E   & 0 & 0 & 0 & 0 & 0 & 39 & 0 & 0 & 0 & 0 & 0 & 50\\\\\n",
       "\tS\\%GGNTE & S\\%GGNTE & 0 & 0 & 0 & 0 & 1 & 40 & 0 & 0 & 0 & 0 & 0 & 41\\\\\n",
       "\tGIWV & GIWV    & 0 & 0 & 0 & 0 & 0 &  0 & 0 & 0 & 0 & 0 & 0 & 82\\\\\n",
       "\tIWV & IWV     & 0 & 0 & 0 & 0 & 1 &  0 & 0 & 0 & 0 & 0 & 0 & 97\\\\\n",
       "\tWVYE & WVYE    & 0 & 0 & 0 & 0 & 0 &  0 & 0 & 0 & 0 & 0 & 0 & 98\\\\\n",
       "\tIWVY & IWVY    & 0 & 0 & 0 & 0 & 0 &  0 & 0 & 0 & 0 & 0 & 0 & 95\\\\\n",
       "\\end{tabular}\n"
      ],
      "text/markdown": [
       "\n",
       "A data.frame: 6 x 13\n",
       "\n",
       "| <!--/--> | gliph &lt;chr&gt; | CMV &lt;dbl&gt; | EBV &lt;dbl&gt; | HCV &lt;dbl&gt; | Influenza &lt;dbl&gt; | HomoSapiens &lt;dbl&gt; | MDavis &lt;dbl&gt; | HPV &lt;dbl&gt; | CEF &lt;dbl&gt; | TB &lt;dbl&gt; | MCPyV &lt;dbl&gt; | S-pneumoniae &lt;dbl&gt; | n_unique_cdr3 &lt;dbl&gt; |\n",
       "|---|---|---|---|---|---|---|---|---|---|---|---|---|---|\n",
       "| SLG%E | SLG%E   | 0 | 0 | 0 | 0 | 0 | 39 | 0 | 0 | 0 | 0 | 0 | 50 |\n",
       "| S%GGNTE | S%GGNTE | 0 | 0 | 0 | 0 | 1 | 40 | 0 | 0 | 0 | 0 | 0 | 41 |\n",
       "| GIWV | GIWV    | 0 | 0 | 0 | 0 | 0 |  0 | 0 | 0 | 0 | 0 | 0 | 82 |\n",
       "| IWV | IWV     | 0 | 0 | 0 | 0 | 1 |  0 | 0 | 0 | 0 | 0 | 0 | 97 |\n",
       "| WVYE | WVYE    | 0 | 0 | 0 | 0 | 0 |  0 | 0 | 0 | 0 | 0 | 0 | 98 |\n",
       "| IWVY | IWVY    | 0 | 0 | 0 | 0 | 0 |  0 | 0 | 0 | 0 | 0 | 0 | 95 |\n",
       "\n"
      ],
      "text/plain": [
       "        gliph   CMV EBV HCV Influenza HomoSapiens MDavis HPV CEF TB MCPyV\n",
       "SLG%E   SLG%E   0   0   0   0         0           39     0   0   0  0    \n",
       "S%GGNTE S%GGNTE 0   0   0   0         1           40     0   0   0  0    \n",
       "GIWV    GIWV    0   0   0   0         0            0     0   0   0  0    \n",
       "IWV     IWV     0   0   0   0         1            0     0   0   0  0    \n",
       "WVYE    WVYE    0   0   0   0         0            0     0   0   0  0    \n",
       "IWVY    IWVY    0   0   0   0         0            0     0   0   0  0    \n",
       "        S-pneumoniae n_unique_cdr3\n",
       "SLG%E   0            50           \n",
       "S%GGNTE 0            41           \n",
       "GIWV    0            82           \n",
       "IWV     0            97           \n",
       "WVYE    0            98           \n",
       "IWVY    0            95           "
      ]
     },
     "metadata": {},
     "output_type": "display_data"
    }
   ],
   "source": [
    "head(gliphdf)"
   ]
  },
  {
   "cell_type": "markdown",
   "metadata": {},
   "source": [
    "Create samples x gliph dataframe"
   ]
  },
  {
   "cell_type": "code",
   "execution_count": 25,
   "metadata": {
    "vscode": {
     "languageId": "r"
    }
   },
   "outputs": [],
   "source": [
    "mysamples <- names(table(tmp$Sample[grepl(\"CHP\", tmp$Sample)]))"
   ]
  },
  {
   "cell_type": "code",
   "execution_count": 26,
   "metadata": {
    "vscode": {
     "languageId": "r"
    }
   },
   "outputs": [],
   "source": [
    "samples_tcr <- as.data.frame(matrix(0, nrow = length(mysamples), ncol = 11, \n",
    "dimnames = list(mysamples, colnames(gliphdf)[2:12])) ) "
   ]
  },
  {
   "cell_type": "code",
   "execution_count": 27,
   "metadata": {
    "vscode": {
     "languageId": "r"
    }
   },
   "outputs": [
    {
     "data": {
      "text/html": [
       "<table class=\"dataframe\">\n",
       "<caption>A data.frame: 6 x 11</caption>\n",
       "<thead>\n",
       "\t<tr><th></th><th scope=col>CMV</th><th scope=col>EBV</th><th scope=col>HCV</th><th scope=col>Influenza</th><th scope=col>HomoSapiens</th><th scope=col>MDavis</th><th scope=col>HPV</th><th scope=col>CEF</th><th scope=col>TB</th><th scope=col>MCPyV</th><th scope=col>S-pneumoniae</th></tr>\n",
       "\t<tr><th></th><th scope=col>&lt;dbl&gt;</th><th scope=col>&lt;dbl&gt;</th><th scope=col>&lt;dbl&gt;</th><th scope=col>&lt;dbl&gt;</th><th scope=col>&lt;dbl&gt;</th><th scope=col>&lt;dbl&gt;</th><th scope=col>&lt;dbl&gt;</th><th scope=col>&lt;dbl&gt;</th><th scope=col>&lt;dbl&gt;</th><th scope=col>&lt;dbl&gt;</th><th scope=col>&lt;dbl&gt;</th></tr>\n",
       "</thead>\n",
       "<tbody>\n",
       "\t<tr><th scope=row>Leukemia:CHP_319_X05-PBMC</th><td>0</td><td>0</td><td>0</td><td>0</td><td>0</td><td>0</td><td>0</td><td>0</td><td>0</td><td>0</td><td>0</td></tr>\n",
       "\t<tr><th scope=row>Leukemia:CHP_323_X03-PBMC</th><td>0</td><td>0</td><td>0</td><td>0</td><td>0</td><td>0</td><td>0</td><td>0</td><td>0</td><td>0</td><td>0</td></tr>\n",
       "\t<tr><th scope=row>Leukemia:CHP_323_X03-cfDNA</th><td>0</td><td>0</td><td>0</td><td>0</td><td>0</td><td>0</td><td>0</td><td>0</td><td>0</td><td>0</td><td>0</td></tr>\n",
       "\t<tr><th scope=row>Leukemia:CHP_323_X05-PBMC</th><td>0</td><td>0</td><td>0</td><td>0</td><td>0</td><td>0</td><td>0</td><td>0</td><td>0</td><td>0</td><td>0</td></tr>\n",
       "\t<tr><th scope=row>Leukemia:CHP_323_X05-cfDNA</th><td>0</td><td>0</td><td>0</td><td>0</td><td>0</td><td>0</td><td>0</td><td>0</td><td>0</td><td>0</td><td>0</td></tr>\n",
       "\t<tr><th scope=row>Leukemia:CHP_326_X05-cfDNA</th><td>0</td><td>0</td><td>0</td><td>0</td><td>0</td><td>0</td><td>0</td><td>0</td><td>0</td><td>0</td><td>0</td></tr>\n",
       "</tbody>\n",
       "</table>\n"
      ],
      "text/latex": [
       "A data.frame: 6 x 11\n",
       "\\begin{tabular}{r|lllllllllll}\n",
       "  & CMV & EBV & HCV & Influenza & HomoSapiens & MDavis & HPV & CEF & TB & MCPyV & S-pneumoniae\\\\\n",
       "  & <dbl> & <dbl> & <dbl> & <dbl> & <dbl> & <dbl> & <dbl> & <dbl> & <dbl> & <dbl> & <dbl>\\\\\n",
       "\\hline\n",
       "\tLeukemia:CHP\\_319\\_X05-PBMC & 0 & 0 & 0 & 0 & 0 & 0 & 0 & 0 & 0 & 0 & 0\\\\\n",
       "\tLeukemia:CHP\\_323\\_X03-PBMC & 0 & 0 & 0 & 0 & 0 & 0 & 0 & 0 & 0 & 0 & 0\\\\\n",
       "\tLeukemia:CHP\\_323\\_X03-cfDNA & 0 & 0 & 0 & 0 & 0 & 0 & 0 & 0 & 0 & 0 & 0\\\\\n",
       "\tLeukemia:CHP\\_323\\_X05-PBMC & 0 & 0 & 0 & 0 & 0 & 0 & 0 & 0 & 0 & 0 & 0\\\\\n",
       "\tLeukemia:CHP\\_323\\_X05-cfDNA & 0 & 0 & 0 & 0 & 0 & 0 & 0 & 0 & 0 & 0 & 0\\\\\n",
       "\tLeukemia:CHP\\_326\\_X05-cfDNA & 0 & 0 & 0 & 0 & 0 & 0 & 0 & 0 & 0 & 0 & 0\\\\\n",
       "\\end{tabular}\n"
      ],
      "text/markdown": [
       "\n",
       "A data.frame: 6 x 11\n",
       "\n",
       "| <!--/--> | CMV &lt;dbl&gt; | EBV &lt;dbl&gt; | HCV &lt;dbl&gt; | Influenza &lt;dbl&gt; | HomoSapiens &lt;dbl&gt; | MDavis &lt;dbl&gt; | HPV &lt;dbl&gt; | CEF &lt;dbl&gt; | TB &lt;dbl&gt; | MCPyV &lt;dbl&gt; | S-pneumoniae &lt;dbl&gt; |\n",
       "|---|---|---|---|---|---|---|---|---|---|---|---|\n",
       "| Leukemia:CHP_319_X05-PBMC | 0 | 0 | 0 | 0 | 0 | 0 | 0 | 0 | 0 | 0 | 0 |\n",
       "| Leukemia:CHP_323_X03-PBMC | 0 | 0 | 0 | 0 | 0 | 0 | 0 | 0 | 0 | 0 | 0 |\n",
       "| Leukemia:CHP_323_X03-cfDNA | 0 | 0 | 0 | 0 | 0 | 0 | 0 | 0 | 0 | 0 | 0 |\n",
       "| Leukemia:CHP_323_X05-PBMC | 0 | 0 | 0 | 0 | 0 | 0 | 0 | 0 | 0 | 0 | 0 |\n",
       "| Leukemia:CHP_323_X05-cfDNA | 0 | 0 | 0 | 0 | 0 | 0 | 0 | 0 | 0 | 0 | 0 |\n",
       "| Leukemia:CHP_326_X05-cfDNA | 0 | 0 | 0 | 0 | 0 | 0 | 0 | 0 | 0 | 0 | 0 |\n",
       "\n"
      ],
      "text/plain": [
       "                           CMV EBV HCV Influenza HomoSapiens MDavis HPV CEF TB\n",
       "Leukemia:CHP_319_X05-PBMC  0   0   0   0         0           0      0   0   0 \n",
       "Leukemia:CHP_323_X03-PBMC  0   0   0   0         0           0      0   0   0 \n",
       "Leukemia:CHP_323_X03-cfDNA 0   0   0   0         0           0      0   0   0 \n",
       "Leukemia:CHP_323_X05-PBMC  0   0   0   0         0           0      0   0   0 \n",
       "Leukemia:CHP_323_X05-cfDNA 0   0   0   0         0           0      0   0   0 \n",
       "Leukemia:CHP_326_X05-cfDNA 0   0   0   0         0           0      0   0   0 \n",
       "                           MCPyV S-pneumoniae\n",
       "Leukemia:CHP_319_X05-PBMC  0     0           \n",
       "Leukemia:CHP_323_X03-PBMC  0     0           \n",
       "Leukemia:CHP_323_X03-cfDNA 0     0           \n",
       "Leukemia:CHP_323_X05-PBMC  0     0           \n",
       "Leukemia:CHP_323_X05-cfDNA 0     0           \n",
       "Leukemia:CHP_326_X05-cfDNA 0     0           "
      ]
     },
     "metadata": {},
     "output_type": "display_data"
    }
   ],
   "source": [
    "head(samples_tcr)"
   ]
  },
  {
   "cell_type": "code",
   "execution_count": 28,
   "metadata": {
    "vscode": {
     "languageId": "r"
    }
   },
   "outputs": [],
   "source": [
    "# count number of annotated gliph groups for each sample\n",
    "for (i in 1:nrow(gliphdf)) {\n",
    "    mygliph <- tmp[tmp$pattern == rownames(gliphdf)[i], ]\n",
    "    sample_subject_tab <- as.data.frame.matrix(table(mygliph$Sample, mygliph$subject))\n",
    "    if (sum(grepl(\"CHP\", rownames(sample_subject_tab))) > 0) {\n",
    "        # subset to CHP samples\n",
    "        sample_subject_tab <- sample_subject_tab[grepl(\"CHP\", rownames(sample_subject_tab)), ]\n",
    "# select same samples in samples_tcr, then match colnames\n",
    "        samples_tcr[rownames(sample_subject_tab), which(colnames(samples_tcr) %in% colnames(sample_subject_tab))] <-\n",
    "            samples_tcr[rownames(sample_subject_tab), which(colnames(samples_tcr) %in% colnames(sample_subject_tab))] + 1\n",
    "    }\n",
    "}\n"
   ]
  },
  {
   "cell_type": "code",
   "execution_count": 30,
   "metadata": {
    "vscode": {
     "languageId": "r"
    }
   },
   "outputs": [
    {
     "data": {
      "text/html": [
       "<table class=\"dataframe\">\n",
       "<caption>A data.frame: 6 x 11</caption>\n",
       "<thead>\n",
       "\t<tr><th></th><th scope=col>CMV</th><th scope=col>EBV</th><th scope=col>HCV</th><th scope=col>Influenza</th><th scope=col>HomoSapiens</th><th scope=col>MDavis</th><th scope=col>HPV</th><th scope=col>CEF</th><th scope=col>TB</th><th scope=col>MCPyV</th><th scope=col>S-pneumoniae</th></tr>\n",
       "\t<tr><th></th><th scope=col>&lt;dbl&gt;</th><th scope=col>&lt;dbl&gt;</th><th scope=col>&lt;dbl&gt;</th><th scope=col>&lt;dbl&gt;</th><th scope=col>&lt;dbl&gt;</th><th scope=col>&lt;dbl&gt;</th><th scope=col>&lt;dbl&gt;</th><th scope=col>&lt;dbl&gt;</th><th scope=col>&lt;dbl&gt;</th><th scope=col>&lt;dbl&gt;</th><th scope=col>&lt;dbl&gt;</th></tr>\n",
       "</thead>\n",
       "<tbody>\n",
       "\t<tr><th scope=row>Leukemia:CHP_319_X05-PBMC</th><td>0</td><td>0</td><td>0</td><td>0</td><td>0</td><td> 2</td><td>0</td><td>0</td><td>0</td><td>0</td><td>0</td></tr>\n",
       "\t<tr><th scope=row>Leukemia:CHP_323_X03-PBMC</th><td>2</td><td>0</td><td>1</td><td>0</td><td>0</td><td>16</td><td>0</td><td>0</td><td>0</td><td>1</td><td>0</td></tr>\n",
       "\t<tr><th scope=row>Leukemia:CHP_323_X03-cfDNA</th><td>2</td><td>0</td><td>0</td><td>0</td><td>4</td><td>33</td><td>0</td><td>0</td><td>0</td><td>0</td><td>1</td></tr>\n",
       "\t<tr><th scope=row>Leukemia:CHP_323_X05-PBMC</th><td>1</td><td>0</td><td>0</td><td>0</td><td>2</td><td>47</td><td>0</td><td>0</td><td>0</td><td>1</td><td>0</td></tr>\n",
       "\t<tr><th scope=row>Leukemia:CHP_323_X05-cfDNA</th><td>0</td><td>0</td><td>0</td><td>0</td><td>0</td><td> 4</td><td>0</td><td>0</td><td>0</td><td>0</td><td>0</td></tr>\n",
       "\t<tr><th scope=row>Leukemia:CHP_326_X05-cfDNA</th><td>0</td><td>0</td><td>3</td><td>0</td><td>0</td><td> 5</td><td>0</td><td>0</td><td>0</td><td>0</td><td>0</td></tr>\n",
       "</tbody>\n",
       "</table>\n"
      ],
      "text/latex": [
       "A data.frame: 6 x 11\n",
       "\\begin{tabular}{r|lllllllllll}\n",
       "  & CMV & EBV & HCV & Influenza & HomoSapiens & MDavis & HPV & CEF & TB & MCPyV & S-pneumoniae\\\\\n",
       "  & <dbl> & <dbl> & <dbl> & <dbl> & <dbl> & <dbl> & <dbl> & <dbl> & <dbl> & <dbl> & <dbl>\\\\\n",
       "\\hline\n",
       "\tLeukemia:CHP\\_319\\_X05-PBMC & 0 & 0 & 0 & 0 & 0 &  2 & 0 & 0 & 0 & 0 & 0\\\\\n",
       "\tLeukemia:CHP\\_323\\_X03-PBMC & 2 & 0 & 1 & 0 & 0 & 16 & 0 & 0 & 0 & 1 & 0\\\\\n",
       "\tLeukemia:CHP\\_323\\_X03-cfDNA & 2 & 0 & 0 & 0 & 4 & 33 & 0 & 0 & 0 & 0 & 1\\\\\n",
       "\tLeukemia:CHP\\_323\\_X05-PBMC & 1 & 0 & 0 & 0 & 2 & 47 & 0 & 0 & 0 & 1 & 0\\\\\n",
       "\tLeukemia:CHP\\_323\\_X05-cfDNA & 0 & 0 & 0 & 0 & 0 &  4 & 0 & 0 & 0 & 0 & 0\\\\\n",
       "\tLeukemia:CHP\\_326\\_X05-cfDNA & 0 & 0 & 3 & 0 & 0 &  5 & 0 & 0 & 0 & 0 & 0\\\\\n",
       "\\end{tabular}\n"
      ],
      "text/markdown": [
       "\n",
       "A data.frame: 6 x 11\n",
       "\n",
       "| <!--/--> | CMV &lt;dbl&gt; | EBV &lt;dbl&gt; | HCV &lt;dbl&gt; | Influenza &lt;dbl&gt; | HomoSapiens &lt;dbl&gt; | MDavis &lt;dbl&gt; | HPV &lt;dbl&gt; | CEF &lt;dbl&gt; | TB &lt;dbl&gt; | MCPyV &lt;dbl&gt; | S-pneumoniae &lt;dbl&gt; |\n",
       "|---|---|---|---|---|---|---|---|---|---|---|---|\n",
       "| Leukemia:CHP_319_X05-PBMC | 0 | 0 | 0 | 0 | 0 |  2 | 0 | 0 | 0 | 0 | 0 |\n",
       "| Leukemia:CHP_323_X03-PBMC | 2 | 0 | 1 | 0 | 0 | 16 | 0 | 0 | 0 | 1 | 0 |\n",
       "| Leukemia:CHP_323_X03-cfDNA | 2 | 0 | 0 | 0 | 4 | 33 | 0 | 0 | 0 | 0 | 1 |\n",
       "| Leukemia:CHP_323_X05-PBMC | 1 | 0 | 0 | 0 | 2 | 47 | 0 | 0 | 0 | 1 | 0 |\n",
       "| Leukemia:CHP_323_X05-cfDNA | 0 | 0 | 0 | 0 | 0 |  4 | 0 | 0 | 0 | 0 | 0 |\n",
       "| Leukemia:CHP_326_X05-cfDNA | 0 | 0 | 3 | 0 | 0 |  5 | 0 | 0 | 0 | 0 | 0 |\n",
       "\n"
      ],
      "text/plain": [
       "                           CMV EBV HCV Influenza HomoSapiens MDavis HPV CEF TB\n",
       "Leukemia:CHP_319_X05-PBMC  0   0   0   0         0            2     0   0   0 \n",
       "Leukemia:CHP_323_X03-PBMC  2   0   1   0         0           16     0   0   0 \n",
       "Leukemia:CHP_323_X03-cfDNA 2   0   0   0         4           33     0   0   0 \n",
       "Leukemia:CHP_323_X05-PBMC  1   0   0   0         2           47     0   0   0 \n",
       "Leukemia:CHP_323_X05-cfDNA 0   0   0   0         0            4     0   0   0 \n",
       "Leukemia:CHP_326_X05-cfDNA 0   0   3   0         0            5     0   0   0 \n",
       "                           MCPyV S-pneumoniae\n",
       "Leukemia:CHP_319_X05-PBMC  0     0           \n",
       "Leukemia:CHP_323_X03-PBMC  1     0           \n",
       "Leukemia:CHP_323_X03-cfDNA 0     1           \n",
       "Leukemia:CHP_323_X05-PBMC  1     0           \n",
       "Leukemia:CHP_323_X05-cfDNA 0     0           \n",
       "Leukemia:CHP_326_X05-cfDNA 0     0           "
      ]
     },
     "metadata": {},
     "output_type": "display_data"
    }
   ],
   "source": [
    "head(samples_tcr)"
   ]
  },
  {
   "cell_type": "code",
   "execution_count": 33,
   "metadata": {
    "vscode": {
     "languageId": "r"
    }
   },
   "outputs": [],
   "source": [
    "# fill n_cdr3 for each sample\n",
    "# make a samplename to match subject:condition of gliph_out\n",
    "meta_div$samplename <- paste0(meta_div$cancergroup, \":\", meta_div$Patient, \"_\", meta_div$cycle, \"-\", meta_div$sampletype)\n",
    "meta_div$samplename <- gsub(\" \", \"\", meta_div$samplename)"
   ]
  },
  {
   "cell_type": "code",
   "execution_count": 34,
   "metadata": {
    "vscode": {
     "languageId": "r"
    }
   },
   "outputs": [],
   "source": [
    "samples_tcr$n_cdr3 <- meta_div$TRB[ match(rownames(samples_tcr), meta_div$samplename) ]"
   ]
  },
  {
   "cell_type": "code",
   "execution_count": 35,
   "metadata": {
    "vscode": {
     "languageId": "r"
    }
   },
   "outputs": [],
   "source": [
    "# get the matrix of GLIPH x samples\n",
    "pat_type <- as.data.frame.matrix(table(tmp %>% select(pattern, Sample)))"
   ]
  },
  {
   "cell_type": "code",
   "execution_count": 36,
   "metadata": {
    "vscode": {
     "languageId": "r"
    }
   },
   "outputs": [],
   "source": [
    "pat_type <- pat_type[, grepl(\"CHP\", colnames(pat_type))]"
   ]
  },
  {
   "cell_type": "code",
   "execution_count": 37,
   "metadata": {
    "vscode": {
     "languageId": "r"
    }
   },
   "outputs": [
    {
     "data": {
      "text/html": [
       "<table class=\"dataframe\">\n",
       "<caption>A data.frame: 6 x 421</caption>\n",
       "<thead>\n",
       "\t<tr><th></th><th scope=col>Leukemia:CHP_319_X05-PBMC</th><th scope=col>Leukemia:CHP_323_X03-PBMC</th><th scope=col>Leukemia:CHP_323_X03-cfDNA</th><th scope=col>Leukemia:CHP_323_X05-PBMC</th><th scope=col>Leukemia:CHP_323_X05-cfDNA</th><th scope=col>Leukemia:CHP_326_X05-cfDNA</th><th scope=col>Leukemia:CHP_328_X04-PBMC</th><th scope=col>Leukemia:CHP_328_X05-PBMC</th><th scope=col>Leukemia:CHP_329_X04-cfDNA</th><th scope=col>Leukemia:CHP_331_X04-PBMC</th><th scope=col>...</th><th scope=col>T-cellmalignancies:CHP_375_X04-cfDNA</th><th scope=col>T-cellmalignancies:CHP_375_X05-PBMC</th><th scope=col>T-cellmalignancies:CHP_375_X05-cfDNA</th><th scope=col>T-cellmalignancies:CHP_387_X01-PBMC</th><th scope=col>T-cellmalignancies:CHP_387_X01-cfDNA</th><th scope=col>T-cellmalignancies:CHP_387_X02-cfDNA</th><th scope=col>T-cellmalignancies:CHP_387_X03-PBMC</th><th scope=col>T-cellmalignancies:CHP_387_X03-cfDNA</th><th scope=col>T-cellmalignancies:CHP_395_X01-cfDNA</th><th scope=col>T-cellmalignancies:CHP_395_X02-cfDNA</th></tr>\n",
       "\t<tr><th></th><th scope=col>&lt;int&gt;</th><th scope=col>&lt;int&gt;</th><th scope=col>&lt;int&gt;</th><th scope=col>&lt;int&gt;</th><th scope=col>&lt;int&gt;</th><th scope=col>&lt;int&gt;</th><th scope=col>&lt;int&gt;</th><th scope=col>&lt;int&gt;</th><th scope=col>&lt;int&gt;</th><th scope=col>&lt;int&gt;</th><th scope=col>...</th><th scope=col>&lt;int&gt;</th><th scope=col>&lt;int&gt;</th><th scope=col>&lt;int&gt;</th><th scope=col>&lt;int&gt;</th><th scope=col>&lt;int&gt;</th><th scope=col>&lt;int&gt;</th><th scope=col>&lt;int&gt;</th><th scope=col>&lt;int&gt;</th><th scope=col>&lt;int&gt;</th><th scope=col>&lt;int&gt;</th></tr>\n",
       "</thead>\n",
       "<tbody>\n",
       "\t<tr><th scope=row>%AANTGE</th><td>0</td><td>0</td><td>0</td><td>0</td><td>0</td><td>0</td><td>0</td><td>0</td><td>0</td><td>0</td><td>...</td><td>0</td><td>0</td><td>0</td><td>1</td><td>0</td><td>0</td><td>0</td><td>0</td><td>0</td><td>0</td></tr>\n",
       "\t<tr><th scope=row>%AAQET</th><td>0</td><td>0</td><td>0</td><td>0</td><td>0</td><td>0</td><td>0</td><td>0</td><td>0</td><td>0</td><td>...</td><td>0</td><td>0</td><td>0</td><td>0</td><td>0</td><td>0</td><td>0</td><td>0</td><td>0</td><td>0</td></tr>\n",
       "\t<tr><th scope=row>%ADQET</th><td>0</td><td>0</td><td>0</td><td>0</td><td>0</td><td>0</td><td>0</td><td>0</td><td>0</td><td>0</td><td>...</td><td>0</td><td>0</td><td>0</td><td>0</td><td>0</td><td>0</td><td>0</td><td>0</td><td>0</td><td>0</td></tr>\n",
       "\t<tr><th scope=row>%AGANV</th><td>0</td><td>0</td><td>0</td><td>0</td><td>0</td><td>0</td><td>0</td><td>0</td><td>0</td><td>0</td><td>...</td><td>0</td><td>0</td><td>0</td><td>0</td><td>0</td><td>0</td><td>0</td><td>0</td><td>0</td><td>0</td></tr>\n",
       "\t<tr><th scope=row>%AGANYG</th><td>0</td><td>0</td><td>0</td><td>0</td><td>0</td><td>0</td><td>0</td><td>0</td><td>0</td><td>0</td><td>...</td><td>0</td><td>0</td><td>0</td><td>0</td><td>0</td><td>0</td><td>0</td><td>0</td><td>0</td><td>0</td></tr>\n",
       "\t<tr><th scope=row>%AGDE</th><td>0</td><td>0</td><td>0</td><td>0</td><td>0</td><td>0</td><td>0</td><td>0</td><td>0</td><td>0</td><td>...</td><td>0</td><td>0</td><td>0</td><td>0</td><td>0</td><td>0</td><td>0</td><td>0</td><td>0</td><td>0</td></tr>\n",
       "</tbody>\n",
       "</table>\n"
      ],
      "text/latex": [
       "A data.frame: 6 x 421\n",
       "\\begin{tabular}{r|lllllllllllllllllllll}\n",
       "  & Leukemia:CHP\\_319\\_X05-PBMC & Leukemia:CHP\\_323\\_X03-PBMC & Leukemia:CHP\\_323\\_X03-cfDNA & Leukemia:CHP\\_323\\_X05-PBMC & Leukemia:CHP\\_323\\_X05-cfDNA & Leukemia:CHP\\_326\\_X05-cfDNA & Leukemia:CHP\\_328\\_X04-PBMC & Leukemia:CHP\\_328\\_X05-PBMC & Leukemia:CHP\\_329\\_X04-cfDNA & Leukemia:CHP\\_331\\_X04-PBMC & ... & T-cellmalignancies:CHP\\_375\\_X04-cfDNA & T-cellmalignancies:CHP\\_375\\_X05-PBMC & T-cellmalignancies:CHP\\_375\\_X05-cfDNA & T-cellmalignancies:CHP\\_387\\_X01-PBMC & T-cellmalignancies:CHP\\_387\\_X01-cfDNA & T-cellmalignancies:CHP\\_387\\_X02-cfDNA & T-cellmalignancies:CHP\\_387\\_X03-PBMC & T-cellmalignancies:CHP\\_387\\_X03-cfDNA & T-cellmalignancies:CHP\\_395\\_X01-cfDNA & T-cellmalignancies:CHP\\_395\\_X02-cfDNA\\\\\n",
       "  & <int> & <int> & <int> & <int> & <int> & <int> & <int> & <int> & <int> & <int> & ... & <int> & <int> & <int> & <int> & <int> & <int> & <int> & <int> & <int> & <int>\\\\\n",
       "\\hline\n",
       "\t\\%AANTGE & 0 & 0 & 0 & 0 & 0 & 0 & 0 & 0 & 0 & 0 & ... & 0 & 0 & 0 & 1 & 0 & 0 & 0 & 0 & 0 & 0\\\\\n",
       "\t\\%AAQET & 0 & 0 & 0 & 0 & 0 & 0 & 0 & 0 & 0 & 0 & ... & 0 & 0 & 0 & 0 & 0 & 0 & 0 & 0 & 0 & 0\\\\\n",
       "\t\\%ADQET & 0 & 0 & 0 & 0 & 0 & 0 & 0 & 0 & 0 & 0 & ... & 0 & 0 & 0 & 0 & 0 & 0 & 0 & 0 & 0 & 0\\\\\n",
       "\t\\%AGANV & 0 & 0 & 0 & 0 & 0 & 0 & 0 & 0 & 0 & 0 & ... & 0 & 0 & 0 & 0 & 0 & 0 & 0 & 0 & 0 & 0\\\\\n",
       "\t\\%AGANYG & 0 & 0 & 0 & 0 & 0 & 0 & 0 & 0 & 0 & 0 & ... & 0 & 0 & 0 & 0 & 0 & 0 & 0 & 0 & 0 & 0\\\\\n",
       "\t\\%AGDE & 0 & 0 & 0 & 0 & 0 & 0 & 0 & 0 & 0 & 0 & ... & 0 & 0 & 0 & 0 & 0 & 0 & 0 & 0 & 0 & 0\\\\\n",
       "\\end{tabular}\n"
      ],
      "text/markdown": [
       "\n",
       "A data.frame: 6 x 421\n",
       "\n",
       "| <!--/--> | Leukemia:CHP_319_X05-PBMC &lt;int&gt; | Leukemia:CHP_323_X03-PBMC &lt;int&gt; | Leukemia:CHP_323_X03-cfDNA &lt;int&gt; | Leukemia:CHP_323_X05-PBMC &lt;int&gt; | Leukemia:CHP_323_X05-cfDNA &lt;int&gt; | Leukemia:CHP_326_X05-cfDNA &lt;int&gt; | Leukemia:CHP_328_X04-PBMC &lt;int&gt; | Leukemia:CHP_328_X05-PBMC &lt;int&gt; | Leukemia:CHP_329_X04-cfDNA &lt;int&gt; | Leukemia:CHP_331_X04-PBMC &lt;int&gt; | ... ... | T-cellmalignancies:CHP_375_X04-cfDNA &lt;int&gt; | T-cellmalignancies:CHP_375_X05-PBMC &lt;int&gt; | T-cellmalignancies:CHP_375_X05-cfDNA &lt;int&gt; | T-cellmalignancies:CHP_387_X01-PBMC &lt;int&gt; | T-cellmalignancies:CHP_387_X01-cfDNA &lt;int&gt; | T-cellmalignancies:CHP_387_X02-cfDNA &lt;int&gt; | T-cellmalignancies:CHP_387_X03-PBMC &lt;int&gt; | T-cellmalignancies:CHP_387_X03-cfDNA &lt;int&gt; | T-cellmalignancies:CHP_395_X01-cfDNA &lt;int&gt; | T-cellmalignancies:CHP_395_X02-cfDNA &lt;int&gt; |\n",
       "|---|---|---|---|---|---|---|---|---|---|---|---|---|---|---|---|---|---|---|---|---|---|\n",
       "| %AANTGE | 0 | 0 | 0 | 0 | 0 | 0 | 0 | 0 | 0 | 0 | ... | 0 | 0 | 0 | 1 | 0 | 0 | 0 | 0 | 0 | 0 |\n",
       "| %AAQET | 0 | 0 | 0 | 0 | 0 | 0 | 0 | 0 | 0 | 0 | ... | 0 | 0 | 0 | 0 | 0 | 0 | 0 | 0 | 0 | 0 |\n",
       "| %ADQET | 0 | 0 | 0 | 0 | 0 | 0 | 0 | 0 | 0 | 0 | ... | 0 | 0 | 0 | 0 | 0 | 0 | 0 | 0 | 0 | 0 |\n",
       "| %AGANV | 0 | 0 | 0 | 0 | 0 | 0 | 0 | 0 | 0 | 0 | ... | 0 | 0 | 0 | 0 | 0 | 0 | 0 | 0 | 0 | 0 |\n",
       "| %AGANYG | 0 | 0 | 0 | 0 | 0 | 0 | 0 | 0 | 0 | 0 | ... | 0 | 0 | 0 | 0 | 0 | 0 | 0 | 0 | 0 | 0 |\n",
       "| %AGDE | 0 | 0 | 0 | 0 | 0 | 0 | 0 | 0 | 0 | 0 | ... | 0 | 0 | 0 | 0 | 0 | 0 | 0 | 0 | 0 | 0 |\n",
       "\n"
      ],
      "text/plain": [
       "        Leukemia:CHP_319_X05-PBMC Leukemia:CHP_323_X03-PBMC\n",
       "%AANTGE 0                         0                        \n",
       "%AAQET  0                         0                        \n",
       "%ADQET  0                         0                        \n",
       "%AGANV  0                         0                        \n",
       "%AGANYG 0                         0                        \n",
       "%AGDE   0                         0                        \n",
       "        Leukemia:CHP_323_X03-cfDNA Leukemia:CHP_323_X05-PBMC\n",
       "%AANTGE 0                          0                        \n",
       "%AAQET  0                          0                        \n",
       "%ADQET  0                          0                        \n",
       "%AGANV  0                          0                        \n",
       "%AGANYG 0                          0                        \n",
       "%AGDE   0                          0                        \n",
       "        Leukemia:CHP_323_X05-cfDNA Leukemia:CHP_326_X05-cfDNA\n",
       "%AANTGE 0                          0                         \n",
       "%AAQET  0                          0                         \n",
       "%ADQET  0                          0                         \n",
       "%AGANV  0                          0                         \n",
       "%AGANYG 0                          0                         \n",
       "%AGDE   0                          0                         \n",
       "        Leukemia:CHP_328_X04-PBMC Leukemia:CHP_328_X05-PBMC\n",
       "%AANTGE 0                         0                        \n",
       "%AAQET  0                         0                        \n",
       "%ADQET  0                         0                        \n",
       "%AGANV  0                         0                        \n",
       "%AGANYG 0                         0                        \n",
       "%AGDE   0                         0                        \n",
       "        Leukemia:CHP_329_X04-cfDNA Leukemia:CHP_331_X04-PBMC ...\n",
       "%AANTGE 0                          0                         ...\n",
       "%AAQET  0                          0                         ...\n",
       "%ADQET  0                          0                         ...\n",
       "%AGANV  0                          0                         ...\n",
       "%AGANYG 0                          0                         ...\n",
       "%AGDE   0                          0                         ...\n",
       "        T-cellmalignancies:CHP_375_X04-cfDNA\n",
       "%AANTGE 0                                   \n",
       "%AAQET  0                                   \n",
       "%ADQET  0                                   \n",
       "%AGANV  0                                   \n",
       "%AGANYG 0                                   \n",
       "%AGDE   0                                   \n",
       "        T-cellmalignancies:CHP_375_X05-PBMC\n",
       "%AANTGE 0                                  \n",
       "%AAQET  0                                  \n",
       "%ADQET  0                                  \n",
       "%AGANV  0                                  \n",
       "%AGANYG 0                                  \n",
       "%AGDE   0                                  \n",
       "        T-cellmalignancies:CHP_375_X05-cfDNA\n",
       "%AANTGE 0                                   \n",
       "%AAQET  0                                   \n",
       "%ADQET  0                                   \n",
       "%AGANV  0                                   \n",
       "%AGANYG 0                                   \n",
       "%AGDE   0                                   \n",
       "        T-cellmalignancies:CHP_387_X01-PBMC\n",
       "%AANTGE 1                                  \n",
       "%AAQET  0                                  \n",
       "%ADQET  0                                  \n",
       "%AGANV  0                                  \n",
       "%AGANYG 0                                  \n",
       "%AGDE   0                                  \n",
       "        T-cellmalignancies:CHP_387_X01-cfDNA\n",
       "%AANTGE 0                                   \n",
       "%AAQET  0                                   \n",
       "%ADQET  0                                   \n",
       "%AGANV  0                                   \n",
       "%AGANYG 0                                   \n",
       "%AGDE   0                                   \n",
       "        T-cellmalignancies:CHP_387_X02-cfDNA\n",
       "%AANTGE 0                                   \n",
       "%AAQET  0                                   \n",
       "%ADQET  0                                   \n",
       "%AGANV  0                                   \n",
       "%AGANYG 0                                   \n",
       "%AGDE   0                                   \n",
       "        T-cellmalignancies:CHP_387_X03-PBMC\n",
       "%AANTGE 0                                  \n",
       "%AAQET  0                                  \n",
       "%ADQET  0                                  \n",
       "%AGANV  0                                  \n",
       "%AGANYG 0                                  \n",
       "%AGDE   0                                  \n",
       "        T-cellmalignancies:CHP_387_X03-cfDNA\n",
       "%AANTGE 0                                   \n",
       "%AAQET  0                                   \n",
       "%ADQET  0                                   \n",
       "%AGANV  0                                   \n",
       "%AGANYG 0                                   \n",
       "%AGDE   0                                   \n",
       "        T-cellmalignancies:CHP_395_X01-cfDNA\n",
       "%AANTGE 0                                   \n",
       "%AAQET  0                                   \n",
       "%ADQET  0                                   \n",
       "%AGANV  0                                   \n",
       "%AGANYG 0                                   \n",
       "%AGDE   0                                   \n",
       "        T-cellmalignancies:CHP_395_X02-cfDNA\n",
       "%AANTGE 0                                   \n",
       "%AAQET  0                                   \n",
       "%ADQET  0                                   \n",
       "%AGANV  0                                   \n",
       "%AGANYG 0                                   \n",
       "%AGDE   0                                   "
      ]
     },
     "metadata": {},
     "output_type": "display_data"
    }
   ],
   "source": [
    "head(pat_type)"
   ]
  },
  {
   "cell_type": "code",
   "execution_count": 38,
   "metadata": {
    "vscode": {
     "languageId": "r"
    }
   },
   "outputs": [],
   "source": [
    "pat_type[ pat_type > 0] <- 1 # sometimes for one sample there are two CDR3s grouped in one cluster, recode to 1 to count once"
   ]
  },
  {
   "cell_type": "code",
   "execution_count": 39,
   "metadata": {
    "vscode": {
     "languageId": "r"
    }
   },
   "outputs": [],
   "source": [
    "# fill n_gliph for each samples\n",
    "n_gliph <- colSums(pat_type)"
   ]
  },
  {
   "cell_type": "code",
   "execution_count": 40,
   "metadata": {
    "vscode": {
     "languageId": "r"
    }
   },
   "outputs": [],
   "source": [
    "samples_tcr$n_gliph <- n_gliph[ match(rownames(samples_tcr), names(n_gliph)) ]"
   ]
  },
  {
   "cell_type": "code",
   "execution_count": 41,
   "metadata": {
    "vscode": {
     "languageId": "r"
    }
   },
   "outputs": [],
   "source": [
    "# get number of unique cdr3s used in gliph for each sample\n",
    "samples_tcr$n_cdr3ingliph <- NA\n",
    "for (i in 1:nrow(samples_tcr)) {\n",
    "    mysample <- tmp[tmp$Sample == rownames(samples_tcr)[i], ]\n",
    "    samples_tcr$n_cdr3ingliph[i] <- length(unique(mysample$TcRb))\n",
    "}"
   ]
  },
  {
   "cell_type": "code",
   "execution_count": 42,
   "metadata": {
    "vscode": {
     "languageId": "r"
    }
   },
   "outputs": [
    {
     "data": {
      "text/html": [
       "<table class=\"dataframe\">\n",
       "<caption>A data.frame: 6 x 14</caption>\n",
       "<thead>\n",
       "\t<tr><th></th><th scope=col>CMV</th><th scope=col>EBV</th><th scope=col>HCV</th><th scope=col>Influenza</th><th scope=col>HomoSapiens</th><th scope=col>MDavis</th><th scope=col>HPV</th><th scope=col>CEF</th><th scope=col>TB</th><th scope=col>MCPyV</th><th scope=col>S-pneumoniae</th><th scope=col>n_cdr3</th><th scope=col>n_gliph</th><th scope=col>n_cdr3ingliph</th></tr>\n",
       "\t<tr><th></th><th scope=col>&lt;dbl&gt;</th><th scope=col>&lt;dbl&gt;</th><th scope=col>&lt;dbl&gt;</th><th scope=col>&lt;dbl&gt;</th><th scope=col>&lt;dbl&gt;</th><th scope=col>&lt;dbl&gt;</th><th scope=col>&lt;dbl&gt;</th><th scope=col>&lt;dbl&gt;</th><th scope=col>&lt;dbl&gt;</th><th scope=col>&lt;dbl&gt;</th><th scope=col>&lt;dbl&gt;</th><th scope=col>&lt;int&gt;</th><th scope=col>&lt;dbl&gt;</th><th scope=col>&lt;int&gt;</th></tr>\n",
       "</thead>\n",
       "<tbody>\n",
       "\t<tr><th scope=row>Leukemia:CHP_319_X05-PBMC</th><td>0</td><td>0</td><td>0</td><td>0</td><td>0</td><td> 2</td><td>0</td><td>0</td><td>0</td><td>0</td><td>0</td><td> 15</td><td> 3</td><td> 3</td></tr>\n",
       "\t<tr><th scope=row>Leukemia:CHP_323_X03-PBMC</th><td>2</td><td>0</td><td>1</td><td>0</td><td>0</td><td>16</td><td>0</td><td>0</td><td>0</td><td>1</td><td>0</td><td> 45</td><td>21</td><td>12</td></tr>\n",
       "\t<tr><th scope=row>Leukemia:CHP_323_X03-cfDNA</th><td>2</td><td>0</td><td>0</td><td>0</td><td>4</td><td>33</td><td>0</td><td>0</td><td>0</td><td>0</td><td>1</td><td>103</td><td>49</td><td>25</td></tr>\n",
       "\t<tr><th scope=row>Leukemia:CHP_323_X05-PBMC</th><td>1</td><td>0</td><td>0</td><td>0</td><td>2</td><td>47</td><td>0</td><td>0</td><td>0</td><td>1</td><td>0</td><td>153</td><td>71</td><td>36</td></tr>\n",
       "\t<tr><th scope=row>Leukemia:CHP_323_X05-cfDNA</th><td>0</td><td>0</td><td>0</td><td>0</td><td>0</td><td> 4</td><td>0</td><td>0</td><td>0</td><td>0</td><td>0</td><td> 15</td><td> 6</td><td> 2</td></tr>\n",
       "\t<tr><th scope=row>Leukemia:CHP_326_X05-cfDNA</th><td>0</td><td>0</td><td>3</td><td>0</td><td>0</td><td> 5</td><td>0</td><td>0</td><td>0</td><td>0</td><td>0</td><td> 25</td><td> 8</td><td> 4</td></tr>\n",
       "</tbody>\n",
       "</table>\n"
      ],
      "text/latex": [
       "A data.frame: 6 x 14\n",
       "\\begin{tabular}{r|llllllllllllll}\n",
       "  & CMV & EBV & HCV & Influenza & HomoSapiens & MDavis & HPV & CEF & TB & MCPyV & S-pneumoniae & n\\_cdr3 & n\\_gliph & n\\_cdr3ingliph\\\\\n",
       "  & <dbl> & <dbl> & <dbl> & <dbl> & <dbl> & <dbl> & <dbl> & <dbl> & <dbl> & <dbl> & <dbl> & <int> & <dbl> & <int>\\\\\n",
       "\\hline\n",
       "\tLeukemia:CHP\\_319\\_X05-PBMC & 0 & 0 & 0 & 0 & 0 &  2 & 0 & 0 & 0 & 0 & 0 &  15 &  3 &  3\\\\\n",
       "\tLeukemia:CHP\\_323\\_X03-PBMC & 2 & 0 & 1 & 0 & 0 & 16 & 0 & 0 & 0 & 1 & 0 &  45 & 21 & 12\\\\\n",
       "\tLeukemia:CHP\\_323\\_X03-cfDNA & 2 & 0 & 0 & 0 & 4 & 33 & 0 & 0 & 0 & 0 & 1 & 103 & 49 & 25\\\\\n",
       "\tLeukemia:CHP\\_323\\_X05-PBMC & 1 & 0 & 0 & 0 & 2 & 47 & 0 & 0 & 0 & 1 & 0 & 153 & 71 & 36\\\\\n",
       "\tLeukemia:CHP\\_323\\_X05-cfDNA & 0 & 0 & 0 & 0 & 0 &  4 & 0 & 0 & 0 & 0 & 0 &  15 &  6 &  2\\\\\n",
       "\tLeukemia:CHP\\_326\\_X05-cfDNA & 0 & 0 & 3 & 0 & 0 &  5 & 0 & 0 & 0 & 0 & 0 &  25 &  8 &  4\\\\\n",
       "\\end{tabular}\n"
      ],
      "text/markdown": [
       "\n",
       "A data.frame: 6 x 14\n",
       "\n",
       "| <!--/--> | CMV &lt;dbl&gt; | EBV &lt;dbl&gt; | HCV &lt;dbl&gt; | Influenza &lt;dbl&gt; | HomoSapiens &lt;dbl&gt; | MDavis &lt;dbl&gt; | HPV &lt;dbl&gt; | CEF &lt;dbl&gt; | TB &lt;dbl&gt; | MCPyV &lt;dbl&gt; | S-pneumoniae &lt;dbl&gt; | n_cdr3 &lt;int&gt; | n_gliph &lt;dbl&gt; | n_cdr3ingliph &lt;int&gt; |\n",
       "|---|---|---|---|---|---|---|---|---|---|---|---|---|---|---|\n",
       "| Leukemia:CHP_319_X05-PBMC | 0 | 0 | 0 | 0 | 0 |  2 | 0 | 0 | 0 | 0 | 0 |  15 |  3 |  3 |\n",
       "| Leukemia:CHP_323_X03-PBMC | 2 | 0 | 1 | 0 | 0 | 16 | 0 | 0 | 0 | 1 | 0 |  45 | 21 | 12 |\n",
       "| Leukemia:CHP_323_X03-cfDNA | 2 | 0 | 0 | 0 | 4 | 33 | 0 | 0 | 0 | 0 | 1 | 103 | 49 | 25 |\n",
       "| Leukemia:CHP_323_X05-PBMC | 1 | 0 | 0 | 0 | 2 | 47 | 0 | 0 | 0 | 1 | 0 | 153 | 71 | 36 |\n",
       "| Leukemia:CHP_323_X05-cfDNA | 0 | 0 | 0 | 0 | 0 |  4 | 0 | 0 | 0 | 0 | 0 |  15 |  6 |  2 |\n",
       "| Leukemia:CHP_326_X05-cfDNA | 0 | 0 | 3 | 0 | 0 |  5 | 0 | 0 | 0 | 0 | 0 |  25 |  8 |  4 |\n",
       "\n"
      ],
      "text/plain": [
       "                           CMV EBV HCV Influenza HomoSapiens MDavis HPV CEF TB\n",
       "Leukemia:CHP_319_X05-PBMC  0   0   0   0         0            2     0   0   0 \n",
       "Leukemia:CHP_323_X03-PBMC  2   0   1   0         0           16     0   0   0 \n",
       "Leukemia:CHP_323_X03-cfDNA 2   0   0   0         4           33     0   0   0 \n",
       "Leukemia:CHP_323_X05-PBMC  1   0   0   0         2           47     0   0   0 \n",
       "Leukemia:CHP_323_X05-cfDNA 0   0   0   0         0            4     0   0   0 \n",
       "Leukemia:CHP_326_X05-cfDNA 0   0   3   0         0            5     0   0   0 \n",
       "                           MCPyV S-pneumoniae n_cdr3 n_gliph n_cdr3ingliph\n",
       "Leukemia:CHP_319_X05-PBMC  0     0             15     3       3           \n",
       "Leukemia:CHP_323_X03-PBMC  1     0             45    21      12           \n",
       "Leukemia:CHP_323_X03-cfDNA 0     1            103    49      25           \n",
       "Leukemia:CHP_323_X05-PBMC  1     0            153    71      36           \n",
       "Leukemia:CHP_323_X05-cfDNA 0     0             15     6       2           \n",
       "Leukemia:CHP_326_X05-cfDNA 0     0             25     8       4           "
      ]
     },
     "metadata": {},
     "output_type": "display_data"
    }
   ],
   "source": [
    "head(samples_tcr)"
   ]
  },
  {
   "cell_type": "code",
   "execution_count": 43,
   "metadata": {
    "vscode": {
     "languageId": "r"
    }
   },
   "outputs": [],
   "source": [
    "# add metadata to samples_tcr\n",
    "samples_tcr$cancergroup <- gsub(\":.*\", \"\", rownames(samples_tcr))\n",
    "samples_tcr$cycle <- gsub(\".*_X\", \"X\", rownames(samples_tcr))\n",
    "samples_tcr$cycle <- gsub(\"-.*\", \"\", samples_tcr$cycle)\n",
    "samples_tcr$sampletype <- gsub(\".*-\", \"\", rownames(samples_tcr))\n",
    "\n",
    "samples_tcr$cyclenum <- as.numeric(gsub(\"X0\", \"\", samples_tcr$cycle)) \n",
    "samples_tcr$Patient <- gsub(\".*CHP\", \"CHP\", rownames(samples_tcr))\n",
    "samples_tcr$Patient <- gsub(\"_X.*\", \"\", samples_tcr$Patient)"
   ]
  },
  {
   "cell_type": "code",
   "execution_count": 44,
   "metadata": {
    "vscode": {
     "languageId": "r"
    }
   },
   "outputs": [],
   "source": [
    "samples_tcr$Age <- meta_div$Age[match(rownames(samples_tcr), meta_div$samplename)]"
   ]
  },
  {
   "cell_type": "code",
   "execution_count": 45,
   "metadata": {
    "vscode": {
     "languageId": "r"
    }
   },
   "outputs": [
    {
     "data": {
      "text/html": [
       "<table class=\"dataframe\">\n",
       "<caption>A data.frame: 6 x 20</caption>\n",
       "<thead>\n",
       "\t<tr><th></th><th scope=col>CMV</th><th scope=col>EBV</th><th scope=col>HCV</th><th scope=col>Influenza</th><th scope=col>HomoSapiens</th><th scope=col>MDavis</th><th scope=col>HPV</th><th scope=col>CEF</th><th scope=col>TB</th><th scope=col>MCPyV</th><th scope=col>S-pneumoniae</th><th scope=col>n_cdr3</th><th scope=col>n_gliph</th><th scope=col>n_cdr3ingliph</th><th scope=col>cancergroup</th><th scope=col>cycle</th><th scope=col>sampletype</th><th scope=col>cyclenum</th><th scope=col>Patient</th><th scope=col>Age</th></tr>\n",
       "\t<tr><th></th><th scope=col>&lt;dbl&gt;</th><th scope=col>&lt;dbl&gt;</th><th scope=col>&lt;dbl&gt;</th><th scope=col>&lt;dbl&gt;</th><th scope=col>&lt;dbl&gt;</th><th scope=col>&lt;dbl&gt;</th><th scope=col>&lt;dbl&gt;</th><th scope=col>&lt;dbl&gt;</th><th scope=col>&lt;dbl&gt;</th><th scope=col>&lt;dbl&gt;</th><th scope=col>&lt;dbl&gt;</th><th scope=col>&lt;int&gt;</th><th scope=col>&lt;dbl&gt;</th><th scope=col>&lt;int&gt;</th><th scope=col>&lt;chr&gt;</th><th scope=col>&lt;chr&gt;</th><th scope=col>&lt;chr&gt;</th><th scope=col>&lt;dbl&gt;</th><th scope=col>&lt;chr&gt;</th><th scope=col>&lt;dbl&gt;</th></tr>\n",
       "</thead>\n",
       "<tbody>\n",
       "\t<tr><th scope=row>Leukemia:CHP_319_X05-PBMC</th><td>0</td><td>0</td><td>0</td><td>0</td><td>0</td><td> 2</td><td>0</td><td>0</td><td>0</td><td>0</td><td>0</td><td> 15</td><td> 3</td><td> 3</td><td>Leukemia</td><td>X05</td><td>PBMC </td><td>5</td><td>CHP_319</td><td>1</td></tr>\n",
       "\t<tr><th scope=row>Leukemia:CHP_323_X03-PBMC</th><td>2</td><td>0</td><td>1</td><td>0</td><td>0</td><td>16</td><td>0</td><td>0</td><td>0</td><td>1</td><td>0</td><td> 45</td><td>21</td><td>12</td><td>Leukemia</td><td>X03</td><td>PBMC </td><td>3</td><td>CHP_323</td><td>1</td></tr>\n",
       "\t<tr><th scope=row>Leukemia:CHP_323_X03-cfDNA</th><td>2</td><td>0</td><td>0</td><td>0</td><td>4</td><td>33</td><td>0</td><td>0</td><td>0</td><td>0</td><td>1</td><td>103</td><td>49</td><td>25</td><td>Leukemia</td><td>X03</td><td>cfDNA</td><td>3</td><td>CHP_323</td><td>1</td></tr>\n",
       "\t<tr><th scope=row>Leukemia:CHP_323_X05-PBMC</th><td>1</td><td>0</td><td>0</td><td>0</td><td>2</td><td>47</td><td>0</td><td>0</td><td>0</td><td>1</td><td>0</td><td>153</td><td>71</td><td>36</td><td>Leukemia</td><td>X05</td><td>PBMC </td><td>5</td><td>CHP_323</td><td>1</td></tr>\n",
       "\t<tr><th scope=row>Leukemia:CHP_323_X05-cfDNA</th><td>0</td><td>0</td><td>0</td><td>0</td><td>0</td><td> 4</td><td>0</td><td>0</td><td>0</td><td>0</td><td>0</td><td> 15</td><td> 6</td><td> 2</td><td>Leukemia</td><td>X05</td><td>cfDNA</td><td>5</td><td>CHP_323</td><td>1</td></tr>\n",
       "\t<tr><th scope=row>Leukemia:CHP_326_X05-cfDNA</th><td>0</td><td>0</td><td>3</td><td>0</td><td>0</td><td> 5</td><td>0</td><td>0</td><td>0</td><td>0</td><td>0</td><td> 25</td><td> 8</td><td> 4</td><td>Leukemia</td><td>X05</td><td>cfDNA</td><td>5</td><td>CHP_326</td><td>4</td></tr>\n",
       "</tbody>\n",
       "</table>\n"
      ],
      "text/latex": [
       "A data.frame: 6 x 20\n",
       "\\begin{tabular}{r|llllllllllllllllllll}\n",
       "  & CMV & EBV & HCV & Influenza & HomoSapiens & MDavis & HPV & CEF & TB & MCPyV & S-pneumoniae & n\\_cdr3 & n\\_gliph & n\\_cdr3ingliph & cancergroup & cycle & sampletype & cyclenum & Patient & Age\\\\\n",
       "  & <dbl> & <dbl> & <dbl> & <dbl> & <dbl> & <dbl> & <dbl> & <dbl> & <dbl> & <dbl> & <dbl> & <int> & <dbl> & <int> & <chr> & <chr> & <chr> & <dbl> & <chr> & <dbl>\\\\\n",
       "\\hline\n",
       "\tLeukemia:CHP\\_319\\_X05-PBMC & 0 & 0 & 0 & 0 & 0 &  2 & 0 & 0 & 0 & 0 & 0 &  15 &  3 &  3 & Leukemia & X05 & PBMC  & 5 & CHP\\_319 & 1\\\\\n",
       "\tLeukemia:CHP\\_323\\_X03-PBMC & 2 & 0 & 1 & 0 & 0 & 16 & 0 & 0 & 0 & 1 & 0 &  45 & 21 & 12 & Leukemia & X03 & PBMC  & 3 & CHP\\_323 & 1\\\\\n",
       "\tLeukemia:CHP\\_323\\_X03-cfDNA & 2 & 0 & 0 & 0 & 4 & 33 & 0 & 0 & 0 & 0 & 1 & 103 & 49 & 25 & Leukemia & X03 & cfDNA & 3 & CHP\\_323 & 1\\\\\n",
       "\tLeukemia:CHP\\_323\\_X05-PBMC & 1 & 0 & 0 & 0 & 2 & 47 & 0 & 0 & 0 & 1 & 0 & 153 & 71 & 36 & Leukemia & X05 & PBMC  & 5 & CHP\\_323 & 1\\\\\n",
       "\tLeukemia:CHP\\_323\\_X05-cfDNA & 0 & 0 & 0 & 0 & 0 &  4 & 0 & 0 & 0 & 0 & 0 &  15 &  6 &  2 & Leukemia & X05 & cfDNA & 5 & CHP\\_323 & 1\\\\\n",
       "\tLeukemia:CHP\\_326\\_X05-cfDNA & 0 & 0 & 3 & 0 & 0 &  5 & 0 & 0 & 0 & 0 & 0 &  25 &  8 &  4 & Leukemia & X05 & cfDNA & 5 & CHP\\_326 & 4\\\\\n",
       "\\end{tabular}\n"
      ],
      "text/markdown": [
       "\n",
       "A data.frame: 6 x 20\n",
       "\n",
       "| <!--/--> | CMV &lt;dbl&gt; | EBV &lt;dbl&gt; | HCV &lt;dbl&gt; | Influenza &lt;dbl&gt; | HomoSapiens &lt;dbl&gt; | MDavis &lt;dbl&gt; | HPV &lt;dbl&gt; | CEF &lt;dbl&gt; | TB &lt;dbl&gt; | MCPyV &lt;dbl&gt; | S-pneumoniae &lt;dbl&gt; | n_cdr3 &lt;int&gt; | n_gliph &lt;dbl&gt; | n_cdr3ingliph &lt;int&gt; | cancergroup &lt;chr&gt; | cycle &lt;chr&gt; | sampletype &lt;chr&gt; | cyclenum &lt;dbl&gt; | Patient &lt;chr&gt; | Age &lt;dbl&gt; |\n",
       "|---|---|---|---|---|---|---|---|---|---|---|---|---|---|---|---|---|---|---|---|---|\n",
       "| Leukemia:CHP_319_X05-PBMC | 0 | 0 | 0 | 0 | 0 |  2 | 0 | 0 | 0 | 0 | 0 |  15 |  3 |  3 | Leukemia | X05 | PBMC  | 5 | CHP_319 | 1 |\n",
       "| Leukemia:CHP_323_X03-PBMC | 2 | 0 | 1 | 0 | 0 | 16 | 0 | 0 | 0 | 1 | 0 |  45 | 21 | 12 | Leukemia | X03 | PBMC  | 3 | CHP_323 | 1 |\n",
       "| Leukemia:CHP_323_X03-cfDNA | 2 | 0 | 0 | 0 | 4 | 33 | 0 | 0 | 0 | 0 | 1 | 103 | 49 | 25 | Leukemia | X03 | cfDNA | 3 | CHP_323 | 1 |\n",
       "| Leukemia:CHP_323_X05-PBMC | 1 | 0 | 0 | 0 | 2 | 47 | 0 | 0 | 0 | 1 | 0 | 153 | 71 | 36 | Leukemia | X05 | PBMC  | 5 | CHP_323 | 1 |\n",
       "| Leukemia:CHP_323_X05-cfDNA | 0 | 0 | 0 | 0 | 0 |  4 | 0 | 0 | 0 | 0 | 0 |  15 |  6 |  2 | Leukemia | X05 | cfDNA | 5 | CHP_323 | 1 |\n",
       "| Leukemia:CHP_326_X05-cfDNA | 0 | 0 | 3 | 0 | 0 |  5 | 0 | 0 | 0 | 0 | 0 |  25 |  8 |  4 | Leukemia | X05 | cfDNA | 5 | CHP_326 | 4 |\n",
       "\n"
      ],
      "text/plain": [
       "                           CMV EBV HCV Influenza HomoSapiens MDavis HPV CEF TB\n",
       "Leukemia:CHP_319_X05-PBMC  0   0   0   0         0            2     0   0   0 \n",
       "Leukemia:CHP_323_X03-PBMC  2   0   1   0         0           16     0   0   0 \n",
       "Leukemia:CHP_323_X03-cfDNA 2   0   0   0         4           33     0   0   0 \n",
       "Leukemia:CHP_323_X05-PBMC  1   0   0   0         2           47     0   0   0 \n",
       "Leukemia:CHP_323_X05-cfDNA 0   0   0   0         0            4     0   0   0 \n",
       "Leukemia:CHP_326_X05-cfDNA 0   0   3   0         0            5     0   0   0 \n",
       "                           MCPyV S-pneumoniae n_cdr3 n_gliph n_cdr3ingliph\n",
       "Leukemia:CHP_319_X05-PBMC  0     0             15     3       3           \n",
       "Leukemia:CHP_323_X03-PBMC  1     0             45    21      12           \n",
       "Leukemia:CHP_323_X03-cfDNA 0     1            103    49      25           \n",
       "Leukemia:CHP_323_X05-PBMC  1     0            153    71      36           \n",
       "Leukemia:CHP_323_X05-cfDNA 0     0             15     6       2           \n",
       "Leukemia:CHP_326_X05-cfDNA 0     0             25     8       4           \n",
       "                           cancergroup cycle sampletype cyclenum Patient Age\n",
       "Leukemia:CHP_319_X05-PBMC  Leukemia    X05   PBMC       5        CHP_319 1  \n",
       "Leukemia:CHP_323_X03-PBMC  Leukemia    X03   PBMC       3        CHP_323 1  \n",
       "Leukemia:CHP_323_X03-cfDNA Leukemia    X03   cfDNA      3        CHP_323 1  \n",
       "Leukemia:CHP_323_X05-PBMC  Leukemia    X05   PBMC       5        CHP_323 1  \n",
       "Leukemia:CHP_323_X05-cfDNA Leukemia    X05   cfDNA      5        CHP_323 1  \n",
       "Leukemia:CHP_326_X05-cfDNA Leukemia    X05   cfDNA      5        CHP_326 4  "
      ]
     },
     "metadata": {},
     "output_type": "display_data"
    }
   ],
   "source": [
    "head(samples_tcr)"
   ]
  },
  {
   "cell_type": "code",
   "execution_count": 46,
   "metadata": {
    "vscode": {
     "languageId": "r"
    }
   },
   "outputs": [],
   "source": [
    "samples_tcr <- samples_tcr[samples_tcr$cancergroup != \"Normal\",]"
   ]
  },
  {
   "cell_type": "code",
   "execution_count": 47,
   "metadata": {
    "vscode": {
     "languageId": "r"
    }
   },
   "outputs": [
    {
     "data": {
      "text/plain": [
       "\n",
       "          Leukemia           Lymphoma        Solidtumors T-cellmalignancies \n",
       "               194                 64                129                 23 "
      ]
     },
     "metadata": {},
     "output_type": "display_data"
    }
   ],
   "source": [
    "table(samples_tcr$cancergroup)"
   ]
  },
  {
   "cell_type": "code",
   "execution_count": 48,
   "metadata": {
    "vscode": {
     "languageId": "r"
    }
   },
   "outputs": [
    {
     "data": {
      "text/html": [
       "<table class=\"dataframe\">\n",
       "<caption>A data.frame: 6 x 13</caption>\n",
       "<thead>\n",
       "\t<tr><th></th><th scope=col>gliph</th><th scope=col>CMV</th><th scope=col>EBV</th><th scope=col>HCV</th><th scope=col>Influenza</th><th scope=col>HomoSapiens</th><th scope=col>MDavis</th><th scope=col>HPV</th><th scope=col>CEF</th><th scope=col>TB</th><th scope=col>MCPyV</th><th scope=col>S-pneumoniae</th><th scope=col>n_unique_cdr3</th></tr>\n",
       "\t<tr><th></th><th scope=col>&lt;chr&gt;</th><th scope=col>&lt;dbl&gt;</th><th scope=col>&lt;dbl&gt;</th><th scope=col>&lt;dbl&gt;</th><th scope=col>&lt;dbl&gt;</th><th scope=col>&lt;dbl&gt;</th><th scope=col>&lt;dbl&gt;</th><th scope=col>&lt;dbl&gt;</th><th scope=col>&lt;dbl&gt;</th><th scope=col>&lt;dbl&gt;</th><th scope=col>&lt;dbl&gt;</th><th scope=col>&lt;dbl&gt;</th><th scope=col>&lt;dbl&gt;</th></tr>\n",
       "</thead>\n",
       "<tbody>\n",
       "\t<tr><th scope=row>SLG%E</th><td>SLG%E  </td><td>0</td><td>0</td><td>0</td><td>0</td><td>0</td><td>39</td><td>0</td><td>0</td><td>0</td><td>0</td><td>0</td><td>50</td></tr>\n",
       "\t<tr><th scope=row>S%GGNTE</th><td>S%GGNTE</td><td>0</td><td>0</td><td>0</td><td>0</td><td>1</td><td>40</td><td>0</td><td>0</td><td>0</td><td>0</td><td>0</td><td>41</td></tr>\n",
       "\t<tr><th scope=row>GIWV</th><td>GIWV   </td><td>0</td><td>0</td><td>0</td><td>0</td><td>0</td><td> 0</td><td>0</td><td>0</td><td>0</td><td>0</td><td>0</td><td>82</td></tr>\n",
       "\t<tr><th scope=row>IWV</th><td>IWV    </td><td>0</td><td>0</td><td>0</td><td>0</td><td>1</td><td> 0</td><td>0</td><td>0</td><td>0</td><td>0</td><td>0</td><td>97</td></tr>\n",
       "\t<tr><th scope=row>WVYE</th><td>WVYE   </td><td>0</td><td>0</td><td>0</td><td>0</td><td>0</td><td> 0</td><td>0</td><td>0</td><td>0</td><td>0</td><td>0</td><td>98</td></tr>\n",
       "\t<tr><th scope=row>IWVY</th><td>IWVY   </td><td>0</td><td>0</td><td>0</td><td>0</td><td>0</td><td> 0</td><td>0</td><td>0</td><td>0</td><td>0</td><td>0</td><td>95</td></tr>\n",
       "</tbody>\n",
       "</table>\n"
      ],
      "text/latex": [
       "A data.frame: 6 x 13\n",
       "\\begin{tabular}{r|lllllllllllll}\n",
       "  & gliph & CMV & EBV & HCV & Influenza & HomoSapiens & MDavis & HPV & CEF & TB & MCPyV & S-pneumoniae & n\\_unique\\_cdr3\\\\\n",
       "  & <chr> & <dbl> & <dbl> & <dbl> & <dbl> & <dbl> & <dbl> & <dbl> & <dbl> & <dbl> & <dbl> & <dbl> & <dbl>\\\\\n",
       "\\hline\n",
       "\tSLG\\%E & SLG\\%E   & 0 & 0 & 0 & 0 & 0 & 39 & 0 & 0 & 0 & 0 & 0 & 50\\\\\n",
       "\tS\\%GGNTE & S\\%GGNTE & 0 & 0 & 0 & 0 & 1 & 40 & 0 & 0 & 0 & 0 & 0 & 41\\\\\n",
       "\tGIWV & GIWV    & 0 & 0 & 0 & 0 & 0 &  0 & 0 & 0 & 0 & 0 & 0 & 82\\\\\n",
       "\tIWV & IWV     & 0 & 0 & 0 & 0 & 1 &  0 & 0 & 0 & 0 & 0 & 0 & 97\\\\\n",
       "\tWVYE & WVYE    & 0 & 0 & 0 & 0 & 0 &  0 & 0 & 0 & 0 & 0 & 0 & 98\\\\\n",
       "\tIWVY & IWVY    & 0 & 0 & 0 & 0 & 0 &  0 & 0 & 0 & 0 & 0 & 0 & 95\\\\\n",
       "\\end{tabular}\n"
      ],
      "text/markdown": [
       "\n",
       "A data.frame: 6 x 13\n",
       "\n",
       "| <!--/--> | gliph &lt;chr&gt; | CMV &lt;dbl&gt; | EBV &lt;dbl&gt; | HCV &lt;dbl&gt; | Influenza &lt;dbl&gt; | HomoSapiens &lt;dbl&gt; | MDavis &lt;dbl&gt; | HPV &lt;dbl&gt; | CEF &lt;dbl&gt; | TB &lt;dbl&gt; | MCPyV &lt;dbl&gt; | S-pneumoniae &lt;dbl&gt; | n_unique_cdr3 &lt;dbl&gt; |\n",
       "|---|---|---|---|---|---|---|---|---|---|---|---|---|---|\n",
       "| SLG%E | SLG%E   | 0 | 0 | 0 | 0 | 0 | 39 | 0 | 0 | 0 | 0 | 0 | 50 |\n",
       "| S%GGNTE | S%GGNTE | 0 | 0 | 0 | 0 | 1 | 40 | 0 | 0 | 0 | 0 | 0 | 41 |\n",
       "| GIWV | GIWV    | 0 | 0 | 0 | 0 | 0 |  0 | 0 | 0 | 0 | 0 | 0 | 82 |\n",
       "| IWV | IWV     | 0 | 0 | 0 | 0 | 1 |  0 | 0 | 0 | 0 | 0 | 0 | 97 |\n",
       "| WVYE | WVYE    | 0 | 0 | 0 | 0 | 0 |  0 | 0 | 0 | 0 | 0 | 0 | 98 |\n",
       "| IWVY | IWVY    | 0 | 0 | 0 | 0 | 0 |  0 | 0 | 0 | 0 | 0 | 0 | 95 |\n",
       "\n"
      ],
      "text/plain": [
       "        gliph   CMV EBV HCV Influenza HomoSapiens MDavis HPV CEF TB MCPyV\n",
       "SLG%E   SLG%E   0   0   0   0         0           39     0   0   0  0    \n",
       "S%GGNTE S%GGNTE 0   0   0   0         1           40     0   0   0  0    \n",
       "GIWV    GIWV    0   0   0   0         0            0     0   0   0  0    \n",
       "IWV     IWV     0   0   0   0         1            0     0   0   0  0    \n",
       "WVYE    WVYE    0   0   0   0         0            0     0   0   0  0    \n",
       "IWVY    IWVY    0   0   0   0         0            0     0   0   0  0    \n",
       "        S-pneumoniae n_unique_cdr3\n",
       "SLG%E   0            50           \n",
       "S%GGNTE 0            41           \n",
       "GIWV    0            82           \n",
       "IWV     0            97           \n",
       "WVYE    0            98           \n",
       "IWVY    0            95           "
      ]
     },
     "metadata": {},
     "output_type": "display_data"
    }
   ],
   "source": [
    "head(gliphdf)"
   ]
  },
  {
   "cell_type": "code",
   "execution_count": 49,
   "metadata": {
    "vscode": {
     "languageId": "r"
    }
   },
   "outputs": [],
   "source": [
    "readr::write_rds(samples_tcr, file = paste0(datapath, \"GLIPH/int_samples_gliphannot_stat.rds\"))\n",
    "readr::write_rds(gliphdf, file = paste0(datapath, \"GLIPH/gliphannot_stat.rds\"))"
   ]
  },
  {
   "cell_type": "markdown",
   "metadata": {},
   "source": [
    "# 1- Overall TCR convergence"
   ]
  },
  {
   "cell_type": "code",
   "execution_count": 108,
   "metadata": {
    "vscode": {
     "languageId": "r"
    }
   },
   "outputs": [],
   "source": [
    "# remove T cell malignancies from the dataset\n",
    "samples_tcr <- samples_tcr[ !grepl(\"T-cellmalignancies\", rownames(samples_tcr)),]"
   ]
  },
  {
   "cell_type": "code",
   "execution_count": 173,
   "metadata": {
    "vscode": {
     "languageId": "r"
    }
   },
   "outputs": [
    {
     "data": {
      "text/plain": [
       "\n",
       "   Leukemia    Lymphoma Solidtumors        <NA> \n",
       "        194          64         129           0 "
      ]
     },
     "metadata": {},
     "output_type": "display_data"
    }
   ],
   "source": [
    "table(samples_tcr$cancergroup, useNA = \"always\")"
   ]
  },
  {
   "cell_type": "code",
   "execution_count": 110,
   "metadata": {
    "vscode": {
     "languageId": "r"
    }
   },
   "outputs": [
    {
     "data": {
      "text/html": [
       "<table class=\"dataframe\">\n",
       "<caption>A data.frame: 6 x 22</caption>\n",
       "<thead>\n",
       "\t<tr><th></th><th scope=col>CMV</th><th scope=col>EBV</th><th scope=col>HCV</th><th scope=col>Influenza</th><th scope=col>HomoSapiens</th><th scope=col>MDavis</th><th scope=col>HPV</th><th scope=col>CEF</th><th scope=col>TB</th><th scope=col>MCPyV</th><th scope=col>...</th><th scope=col>n_gliph</th><th scope=col>n_cdr3ingliph</th><th scope=col>cancergroup</th><th scope=col>cycle</th><th scope=col>sampletype</th><th scope=col>cyclenum</th><th scope=col>Patient</th><th scope=col>Age</th><th scope=col>converg</th><th scope=col>gliph_div</th></tr>\n",
       "\t<tr><th></th><th scope=col>&lt;dbl&gt;</th><th scope=col>&lt;dbl&gt;</th><th scope=col>&lt;dbl&gt;</th><th scope=col>&lt;dbl&gt;</th><th scope=col>&lt;dbl&gt;</th><th scope=col>&lt;dbl&gt;</th><th scope=col>&lt;dbl&gt;</th><th scope=col>&lt;dbl&gt;</th><th scope=col>&lt;dbl&gt;</th><th scope=col>&lt;dbl&gt;</th><th scope=col>...</th><th scope=col>&lt;dbl&gt;</th><th scope=col>&lt;int&gt;</th><th scope=col>&lt;chr&gt;</th><th scope=col>&lt;chr&gt;</th><th scope=col>&lt;chr&gt;</th><th scope=col>&lt;dbl&gt;</th><th scope=col>&lt;chr&gt;</th><th scope=col>&lt;dbl&gt;</th><th scope=col>&lt;dbl&gt;</th><th scope=col>&lt;dbl&gt;</th></tr>\n",
       "</thead>\n",
       "<tbody>\n",
       "\t<tr><th scope=row>Leukemia:CHP_319_X05-PBMC</th><td>0</td><td>0</td><td>0</td><td>0</td><td>0</td><td> 2</td><td>0</td><td>0</td><td>0</td><td>0</td><td>...</td><td> 3</td><td> 3</td><td>Leukemia</td><td>X05</td><td>PBMC </td><td>5</td><td>CHP_319</td><td>1</td><td>20.00000</td><td> 2.455</td></tr>\n",
       "\t<tr><th scope=row>Leukemia:CHP_323_X03-PBMC</th><td>2</td><td>0</td><td>1</td><td>0</td><td>0</td><td>16</td><td>0</td><td>0</td><td>0</td><td>1</td><td>...</td><td>21</td><td>12</td><td>Leukemia</td><td>X03</td><td>PBMC </td><td>3</td><td>CHP_323</td><td>1</td><td>26.66667</td><td>18.048</td></tr>\n",
       "\t<tr><th scope=row>Leukemia:CHP_323_X03-cfDNA</th><td>2</td><td>0</td><td>0</td><td>0</td><td>4</td><td>33</td><td>0</td><td>0</td><td>0</td><td>0</td><td>...</td><td>49</td><td>25</td><td>Leukemia</td><td>X03</td><td>cfDNA</td><td>3</td><td>CHP_323</td><td>1</td><td>24.27184</td><td>21.050</td></tr>\n",
       "\t<tr><th scope=row>Leukemia:CHP_323_X05-PBMC</th><td>1</td><td>0</td><td>0</td><td>0</td><td>2</td><td>47</td><td>0</td><td>0</td><td>0</td><td>1</td><td>...</td><td>71</td><td>36</td><td>Leukemia</td><td>X05</td><td>PBMC </td><td>5</td><td>CHP_323</td><td>1</td><td>23.52941</td><td>49.104</td></tr>\n",
       "\t<tr><th scope=row>Leukemia:CHP_323_X05-cfDNA</th><td>0</td><td>0</td><td>0</td><td>0</td><td>0</td><td> 4</td><td>0</td><td>0</td><td>0</td><td>0</td><td>...</td><td> 6</td><td> 2</td><td>Leukemia</td><td>X05</td><td>cfDNA</td><td>5</td><td>CHP_323</td><td>1</td><td>13.33333</td><td> 5.997</td></tr>\n",
       "\t<tr><th scope=row>Leukemia:CHP_326_X05-cfDNA</th><td>0</td><td>0</td><td>3</td><td>0</td><td>0</td><td> 5</td><td>0</td><td>0</td><td>0</td><td>0</td><td>...</td><td> 8</td><td> 4</td><td>Leukemia</td><td>X05</td><td>cfDNA</td><td>5</td><td>CHP_326</td><td>4</td><td>16.00000</td><td> 5.418</td></tr>\n",
       "</tbody>\n",
       "</table>\n"
      ],
      "text/latex": [
       "A data.frame: 6 x 22\n",
       "\\begin{tabular}{r|lllllllllllllllllllll}\n",
       "  & CMV & EBV & HCV & Influenza & HomoSapiens & MDavis & HPV & CEF & TB & MCPyV & ... & n\\_gliph & n\\_cdr3ingliph & cancergroup & cycle & sampletype & cyclenum & Patient & Age & converg & gliph\\_div\\\\\n",
       "  & <dbl> & <dbl> & <dbl> & <dbl> & <dbl> & <dbl> & <dbl> & <dbl> & <dbl> & <dbl> & ... & <dbl> & <int> & <chr> & <chr> & <chr> & <dbl> & <chr> & <dbl> & <dbl> & <dbl>\\\\\n",
       "\\hline\n",
       "\tLeukemia:CHP\\_319\\_X05-PBMC & 0 & 0 & 0 & 0 & 0 &  2 & 0 & 0 & 0 & 0 & ... &  3 &  3 & Leukemia & X05 & PBMC  & 5 & CHP\\_319 & 1 & 20.00000 &  2.455\\\\\n",
       "\tLeukemia:CHP\\_323\\_X03-PBMC & 2 & 0 & 1 & 0 & 0 & 16 & 0 & 0 & 0 & 1 & ... & 21 & 12 & Leukemia & X03 & PBMC  & 3 & CHP\\_323 & 1 & 26.66667 & 18.048\\\\\n",
       "\tLeukemia:CHP\\_323\\_X03-cfDNA & 2 & 0 & 0 & 0 & 4 & 33 & 0 & 0 & 0 & 0 & ... & 49 & 25 & Leukemia & X03 & cfDNA & 3 & CHP\\_323 & 1 & 24.27184 & 21.050\\\\\n",
       "\tLeukemia:CHP\\_323\\_X05-PBMC & 1 & 0 & 0 & 0 & 2 & 47 & 0 & 0 & 0 & 1 & ... & 71 & 36 & Leukemia & X05 & PBMC  & 5 & CHP\\_323 & 1 & 23.52941 & 49.104\\\\\n",
       "\tLeukemia:CHP\\_323\\_X05-cfDNA & 0 & 0 & 0 & 0 & 0 &  4 & 0 & 0 & 0 & 0 & ... &  6 &  2 & Leukemia & X05 & cfDNA & 5 & CHP\\_323 & 1 & 13.33333 &  5.997\\\\\n",
       "\tLeukemia:CHP\\_326\\_X05-cfDNA & 0 & 0 & 3 & 0 & 0 &  5 & 0 & 0 & 0 & 0 & ... &  8 &  4 & Leukemia & X05 & cfDNA & 5 & CHP\\_326 & 4 & 16.00000 &  5.418\\\\\n",
       "\\end{tabular}\n"
      ],
      "text/markdown": [
       "\n",
       "A data.frame: 6 x 22\n",
       "\n",
       "| <!--/--> | CMV &lt;dbl&gt; | EBV &lt;dbl&gt; | HCV &lt;dbl&gt; | Influenza &lt;dbl&gt; | HomoSapiens &lt;dbl&gt; | MDavis &lt;dbl&gt; | HPV &lt;dbl&gt; | CEF &lt;dbl&gt; | TB &lt;dbl&gt; | MCPyV &lt;dbl&gt; | ... ... | n_gliph &lt;dbl&gt; | n_cdr3ingliph &lt;int&gt; | cancergroup &lt;chr&gt; | cycle &lt;chr&gt; | sampletype &lt;chr&gt; | cyclenum &lt;dbl&gt; | Patient &lt;chr&gt; | Age &lt;dbl&gt; | converg &lt;dbl&gt; | gliph_div &lt;dbl&gt; |\n",
       "|---|---|---|---|---|---|---|---|---|---|---|---|---|---|---|---|---|---|---|---|---|---|\n",
       "| Leukemia:CHP_319_X05-PBMC | 0 | 0 | 0 | 0 | 0 |  2 | 0 | 0 | 0 | 0 | ... |  3 |  3 | Leukemia | X05 | PBMC  | 5 | CHP_319 | 1 | 20.00000 |  2.455 |\n",
       "| Leukemia:CHP_323_X03-PBMC | 2 | 0 | 1 | 0 | 0 | 16 | 0 | 0 | 0 | 1 | ... | 21 | 12 | Leukemia | X03 | PBMC  | 3 | CHP_323 | 1 | 26.66667 | 18.048 |\n",
       "| Leukemia:CHP_323_X03-cfDNA | 2 | 0 | 0 | 0 | 4 | 33 | 0 | 0 | 0 | 0 | ... | 49 | 25 | Leukemia | X03 | cfDNA | 3 | CHP_323 | 1 | 24.27184 | 21.050 |\n",
       "| Leukemia:CHP_323_X05-PBMC | 1 | 0 | 0 | 0 | 2 | 47 | 0 | 0 | 0 | 1 | ... | 71 | 36 | Leukemia | X05 | PBMC  | 5 | CHP_323 | 1 | 23.52941 | 49.104 |\n",
       "| Leukemia:CHP_323_X05-cfDNA | 0 | 0 | 0 | 0 | 0 |  4 | 0 | 0 | 0 | 0 | ... |  6 |  2 | Leukemia | X05 | cfDNA | 5 | CHP_323 | 1 | 13.33333 |  5.997 |\n",
       "| Leukemia:CHP_326_X05-cfDNA | 0 | 0 | 3 | 0 | 0 |  5 | 0 | 0 | 0 | 0 | ... |  8 |  4 | Leukemia | X05 | cfDNA | 5 | CHP_326 | 4 | 16.00000 |  5.418 |\n",
       "\n"
      ],
      "text/plain": [
       "                           CMV EBV HCV Influenza HomoSapiens MDavis HPV CEF TB\n",
       "Leukemia:CHP_319_X05-PBMC  0   0   0   0         0            2     0   0   0 \n",
       "Leukemia:CHP_323_X03-PBMC  2   0   1   0         0           16     0   0   0 \n",
       "Leukemia:CHP_323_X03-cfDNA 2   0   0   0         4           33     0   0   0 \n",
       "Leukemia:CHP_323_X05-PBMC  1   0   0   0         2           47     0   0   0 \n",
       "Leukemia:CHP_323_X05-cfDNA 0   0   0   0         0            4     0   0   0 \n",
       "Leukemia:CHP_326_X05-cfDNA 0   0   3   0         0            5     0   0   0 \n",
       "                           MCPyV ... n_gliph n_cdr3ingliph cancergroup cycle\n",
       "Leukemia:CHP_319_X05-PBMC  0     ...  3       3            Leukemia    X05  \n",
       "Leukemia:CHP_323_X03-PBMC  1     ... 21      12            Leukemia    X03  \n",
       "Leukemia:CHP_323_X03-cfDNA 0     ... 49      25            Leukemia    X03  \n",
       "Leukemia:CHP_323_X05-PBMC  1     ... 71      36            Leukemia    X05  \n",
       "Leukemia:CHP_323_X05-cfDNA 0     ...  6       2            Leukemia    X05  \n",
       "Leukemia:CHP_326_X05-cfDNA 0     ...  8       4            Leukemia    X05  \n",
       "                           sampletype cyclenum Patient Age converg  gliph_div\n",
       "Leukemia:CHP_319_X05-PBMC  PBMC       5        CHP_319 1   20.00000  2.455   \n",
       "Leukemia:CHP_323_X03-PBMC  PBMC       3        CHP_323 1   26.66667 18.048   \n",
       "Leukemia:CHP_323_X03-cfDNA cfDNA      3        CHP_323 1   24.27184 21.050   \n",
       "Leukemia:CHP_323_X05-PBMC  PBMC       5        CHP_323 1   23.52941 49.104   \n",
       "Leukemia:CHP_323_X05-cfDNA cfDNA      5        CHP_323 1   13.33333  5.997   \n",
       "Leukemia:CHP_326_X05-cfDNA cfDNA      5        CHP_326 4   16.00000  5.418   "
      ]
     },
     "metadata": {},
     "output_type": "display_data"
    }
   ],
   "source": [
    "head(samples_tcr)"
   ]
  },
  {
   "cell_type": "code",
   "execution_count": 111,
   "metadata": {
    "vscode": {
     "languageId": "r"
    }
   },
   "outputs": [],
   "source": [
    "samples_tcr$converg <- (samples_tcr$n_cdr3ingliph / samples_tcr$n_cdr3) * 100"
   ]
  },
  {
   "cell_type": "code",
   "execution_count": 112,
   "metadata": {
    "vscode": {
     "languageId": "r"
    }
   },
   "outputs": [],
   "source": [
    "sampletype <- samples_tcr[ samples_tcr$sampletype == \"PBMC\",]"
   ]
  },
  {
   "cell_type": "code",
   "execution_count": 113,
   "metadata": {
    "vscode": {
     "languageId": "r"
    }
   },
   "outputs": [
    {
     "data": {
      "text/plain": [
       "   Min. 1st Qu.  Median    Mean 3rd Qu.    Max. \n",
       "  10.53   21.04   23.40   24.36   26.64   69.80 "
      ]
     },
     "metadata": {},
     "output_type": "display_data"
    }
   ],
   "source": [
    "summary(sampletype$converg)"
   ]
  },
  {
   "cell_type": "code",
   "execution_count": 114,
   "metadata": {
    "vscode": {
     "languageId": "r"
    }
   },
   "outputs": [
    {
     "name": "stdout",
     "output_type": "stream",
     "text": [
      "[1] \"Solidtumors\"\n",
      "[1] \"Lymphoma\"\n"
     ]
    }
   ],
   "source": [
    "cancergrp <- \"Leukemia\"\n",
    "\n",
    "myformula <- as.formula(paste0(\"converg\", \" ~ cycle + Age + (1 | Patient)\"))\n",
    "myfit <- lme4::lmer(myformula, data = sampletype[ sampletype$cancergroup == cancergrp,]) # keep cycle as categorical\n",
    "lsm <- lsmeans(myfit, \"cycle\")\n",
    "mylsm_grp <- summary(lsm)\n",
    "mylsm_grp$cancergroup <- cancergrp # has to be same as original df\n",
    "\n",
    "myctrt_grp <- as.data.frame(lsmeans::contrast(lsm, \"trt.vs.ctrl\", ref = \"X01\"))\n",
    "myctrt_grp$cancergroup <- cancergrp\n",
    "\n",
    "for (i in c(\"Solidtumors\", \"Lymphoma\")) {\n",
    "    print(i)\n",
    "    cancergrp <- i\n",
    "    myfit <- lme4::lmer(myformula, data = sampletype[ sampletype$cancergroup == cancergrp,])\n",
    "    lsm <- lsmeans(myfit, \"cycle\")\n",
    "    myctrt <- as.data.frame(lsmeans::contrast(lsm, \"trt.vs.ctrl\", ref = \"X01\"))\n",
    "    myctrt$cancergroup <- cancergrp\n",
    "    myctrt_grp <- rbind(myctrt_grp, myctrt)\n",
    "\n",
    "    mylsm <- summary(lsm)\n",
    "    mylsm$cancergroup <- cancergrp\n",
    "    mylsm_grp <- rbind(mylsm_grp, mylsm)\n",
    "}"
   ]
  },
  {
   "cell_type": "code",
   "execution_count": 118,
   "metadata": {
    "vscode": {
     "languageId": "r"
    }
   },
   "outputs": [],
   "source": [
    "# just for aes\n",
    "sampletype$cancergroup[ sampletype$cancergroup == \"Solidtumors\" ] <- \"Solid tumors\"\n",
    "sampletype$cancergroup[ sampletype$cancergroup == \"T-cellmalignancies\" ] <- \"T-cell malignancies\"\n",
    "\n",
    "mylsm_grp$cancergroup[ mylsm_grp$cancergroup == \"Solidtumors\" ] <- \"Solid tumors\"\n",
    "mylsm_grp$cancergroup[ mylsm_grp$cancergroup == \"T-cellmalignancies\" ] <- \"T-cell malignancies\"\n",
    "\n",
    "myctrt_grp$cancergroup[ myctrt_grp$cancergroup == \"Solidtumors\" ] <- \"Solid tumors\"\n",
    "myctrt_grp$cancergroup[ myctrt_grp$cancergroup == \"T-cellmalignancies\" ] <- \"T-cell malignancies\""
   ]
  },
  {
   "cell_type": "code",
   "execution_count": 119,
   "metadata": {
    "vscode": {
     "languageId": "r"
    }
   },
   "outputs": [],
   "source": [
    "mylsm_grp$Cycle <- as.character(mylsm_grp$cycle)\n",
    "mylsm_grp$Cycle <- as.numeric(gsub(\"X0\", \"\", mylsm_grp$Cycle))\n",
    "\n",
    "myctrt_grp$Cycle <- as.character(gsub(\" - X01\", \"\", myctrt_grp$contrast))\n",
    "myctrt_grp$Cycle <- gsub(\"X0\", \"\", myctrt_grp$Cycle)\n"
   ]
  },
  {
   "cell_type": "code",
   "execution_count": 120,
   "metadata": {
    "vscode": {
     "languageId": "r"
    }
   },
   "outputs": [
    {
     "data": {
      "text/html": [
       "<table class=\"dataframe\">\n",
       "<caption>A summary_emm: 12 x 8</caption>\n",
       "<thead>\n",
       "\t<tr><th scope=col>contrast</th><th scope=col>estimate</th><th scope=col>SE</th><th scope=col>df</th><th scope=col>t.ratio</th><th scope=col>p.value</th><th scope=col>cancergroup</th><th scope=col>Cycle</th></tr>\n",
       "\t<tr><th scope=col>&lt;chr&gt;</th><th scope=col>&lt;dbl&gt;</th><th scope=col>&lt;dbl&gt;</th><th scope=col>&lt;dbl&gt;</th><th scope=col>&lt;dbl&gt;</th><th scope=col>&lt;dbl&gt;</th><th scope=col>&lt;chr&gt;</th><th scope=col>&lt;chr&gt;</th></tr>\n",
       "</thead>\n",
       "<tbody>\n",
       "\t<tr><td>X02 - X01</td><td>-0.5516957</td><td>1.394760</td><td>56.41259</td><td>-0.3955488</td><td>0.9603648</td><td>Leukemia    </td><td>2</td></tr>\n",
       "\t<tr><td>X03 - X01</td><td> 1.0350787</td><td>1.500926</td><td>57.89094</td><td> 0.6896267</td><td>0.8570024</td><td>Leukemia    </td><td>3</td></tr>\n",
       "\t<tr><td>X04 - X01</td><td>-0.2318305</td><td>1.597722</td><td>59.84245</td><td>-0.1451007</td><td>0.9963325</td><td>Leukemia    </td><td>4</td></tr>\n",
       "\t<tr><td>X05 - X01</td><td>-1.5238975</td><td>1.596312</td><td>60.07911</td><td>-0.9546366</td><td>0.7139113</td><td>Leukemia    </td><td>5</td></tr>\n",
       "\t<tr><td>X02 - X01</td><td>-1.7687157</td><td>1.398523</td><td>35.03998</td><td>-1.2647026</td><td>0.5235144</td><td>Solid tumors</td><td>2</td></tr>\n",
       "\t<tr><td>X03 - X01</td><td>-1.9609962</td><td>1.514771</td><td>44.56834</td><td>-1.2945830</td><td>0.5028578</td><td>Solid tumors</td><td>3</td></tr>\n",
       "\t<tr><td>X04 - X01</td><td> 0.6438111</td><td>1.703900</td><td>44.43259</td><td> 0.3778457</td><td>0.9644115</td><td>Solid tumors</td><td>4</td></tr>\n",
       "\t<tr><td>X05 - X01</td><td> 0.5540834</td><td>1.622163</td><td>46.72964</td><td> 0.3415708</td><td>0.9719612</td><td>Solid tumors</td><td>5</td></tr>\n",
       "\t<tr><td>X02 - X01</td><td>-3.9074905</td><td>2.801857</td><td>16.50089</td><td>-1.3946075</td><td>0.4585237</td><td>Lymphoma    </td><td>2</td></tr>\n",
       "\t<tr><td>X03 - X01</td><td>-3.3928456</td><td>2.688415</td><td>15.97765</td><td>-1.2620245</td><td>0.5364759</td><td>Lymphoma    </td><td>3</td></tr>\n",
       "\t<tr><td>X04 - X01</td><td>-5.2676323</td><td>3.376525</td><td>16.20645</td><td>-1.5600749</td><td>0.3698820</td><td>Lymphoma    </td><td>4</td></tr>\n",
       "\t<tr><td>X05 - X01</td><td>-8.3503531</td><td>3.360236</td><td>16.22960</td><td>-2.4850494</td><td>0.0790984</td><td>Lymphoma    </td><td>5</td></tr>\n",
       "</tbody>\n",
       "</table>\n"
      ],
      "text/latex": [
       "A summary\\_emm: 12 x 8\n",
       "\\begin{tabular}{llllllll}\n",
       " contrast & estimate & SE & df & t.ratio & p.value & cancergroup & Cycle\\\\\n",
       " <chr> & <dbl> & <dbl> & <dbl> & <dbl> & <dbl> & <chr> & <chr>\\\\\n",
       "\\hline\n",
       "\t X02 - X01 & -0.5516957 & 1.394760 & 56.41259 & -0.3955488 & 0.9603648 & Leukemia     & 2\\\\\n",
       "\t X03 - X01 &  1.0350787 & 1.500926 & 57.89094 &  0.6896267 & 0.8570024 & Leukemia     & 3\\\\\n",
       "\t X04 - X01 & -0.2318305 & 1.597722 & 59.84245 & -0.1451007 & 0.9963325 & Leukemia     & 4\\\\\n",
       "\t X05 - X01 & -1.5238975 & 1.596312 & 60.07911 & -0.9546366 & 0.7139113 & Leukemia     & 5\\\\\n",
       "\t X02 - X01 & -1.7687157 & 1.398523 & 35.03998 & -1.2647026 & 0.5235144 & Solid tumors & 2\\\\\n",
       "\t X03 - X01 & -1.9609962 & 1.514771 & 44.56834 & -1.2945830 & 0.5028578 & Solid tumors & 3\\\\\n",
       "\t X04 - X01 &  0.6438111 & 1.703900 & 44.43259 &  0.3778457 & 0.9644115 & Solid tumors & 4\\\\\n",
       "\t X05 - X01 &  0.5540834 & 1.622163 & 46.72964 &  0.3415708 & 0.9719612 & Solid tumors & 5\\\\\n",
       "\t X02 - X01 & -3.9074905 & 2.801857 & 16.50089 & -1.3946075 & 0.4585237 & Lymphoma     & 2\\\\\n",
       "\t X03 - X01 & -3.3928456 & 2.688415 & 15.97765 & -1.2620245 & 0.5364759 & Lymphoma     & 3\\\\\n",
       "\t X04 - X01 & -5.2676323 & 3.376525 & 16.20645 & -1.5600749 & 0.3698820 & Lymphoma     & 4\\\\\n",
       "\t X05 - X01 & -8.3503531 & 3.360236 & 16.22960 & -2.4850494 & 0.0790984 & Lymphoma     & 5\\\\\n",
       "\\end{tabular}\n"
      ],
      "text/markdown": [
       "\n",
       "A summary_emm: 12 x 8\n",
       "\n",
       "| contrast &lt;chr&gt; | estimate &lt;dbl&gt; | SE &lt;dbl&gt; | df &lt;dbl&gt; | t.ratio &lt;dbl&gt; | p.value &lt;dbl&gt; | cancergroup &lt;chr&gt; | Cycle &lt;chr&gt; |\n",
       "|---|---|---|---|---|---|---|---|\n",
       "| X02 - X01 | -0.5516957 | 1.394760 | 56.41259 | -0.3955488 | 0.9603648 | Leukemia     | 2 |\n",
       "| X03 - X01 |  1.0350787 | 1.500926 | 57.89094 |  0.6896267 | 0.8570024 | Leukemia     | 3 |\n",
       "| X04 - X01 | -0.2318305 | 1.597722 | 59.84245 | -0.1451007 | 0.9963325 | Leukemia     | 4 |\n",
       "| X05 - X01 | -1.5238975 | 1.596312 | 60.07911 | -0.9546366 | 0.7139113 | Leukemia     | 5 |\n",
       "| X02 - X01 | -1.7687157 | 1.398523 | 35.03998 | -1.2647026 | 0.5235144 | Solid tumors | 2 |\n",
       "| X03 - X01 | -1.9609962 | 1.514771 | 44.56834 | -1.2945830 | 0.5028578 | Solid tumors | 3 |\n",
       "| X04 - X01 |  0.6438111 | 1.703900 | 44.43259 |  0.3778457 | 0.9644115 | Solid tumors | 4 |\n",
       "| X05 - X01 |  0.5540834 | 1.622163 | 46.72964 |  0.3415708 | 0.9719612 | Solid tumors | 5 |\n",
       "| X02 - X01 | -3.9074905 | 2.801857 | 16.50089 | -1.3946075 | 0.4585237 | Lymphoma     | 2 |\n",
       "| X03 - X01 | -3.3928456 | 2.688415 | 15.97765 | -1.2620245 | 0.5364759 | Lymphoma     | 3 |\n",
       "| X04 - X01 | -5.2676323 | 3.376525 | 16.20645 | -1.5600749 | 0.3698820 | Lymphoma     | 4 |\n",
       "| X05 - X01 | -8.3503531 | 3.360236 | 16.22960 | -2.4850494 | 0.0790984 | Lymphoma     | 5 |\n",
       "\n"
      ],
      "text/plain": [
       "   contrast  estimate   SE       df       t.ratio    p.value   cancergroup \n",
       "1  X02 - X01 -0.5516957 1.394760 56.41259 -0.3955488 0.9603648 Leukemia    \n",
       "2  X03 - X01  1.0350787 1.500926 57.89094  0.6896267 0.8570024 Leukemia    \n",
       "3  X04 - X01 -0.2318305 1.597722 59.84245 -0.1451007 0.9963325 Leukemia    \n",
       "4  X05 - X01 -1.5238975 1.596312 60.07911 -0.9546366 0.7139113 Leukemia    \n",
       "5  X02 - X01 -1.7687157 1.398523 35.03998 -1.2647026 0.5235144 Solid tumors\n",
       "6  X03 - X01 -1.9609962 1.514771 44.56834 -1.2945830 0.5028578 Solid tumors\n",
       "7  X04 - X01  0.6438111 1.703900 44.43259  0.3778457 0.9644115 Solid tumors\n",
       "8  X05 - X01  0.5540834 1.622163 46.72964  0.3415708 0.9719612 Solid tumors\n",
       "9  X02 - X01 -3.9074905 2.801857 16.50089 -1.3946075 0.4585237 Lymphoma    \n",
       "10 X03 - X01 -3.3928456 2.688415 15.97765 -1.2620245 0.5364759 Lymphoma    \n",
       "11 X04 - X01 -5.2676323 3.376525 16.20645 -1.5600749 0.3698820 Lymphoma    \n",
       "12 X05 - X01 -8.3503531 3.360236 16.22960 -2.4850494 0.0790984 Lymphoma    \n",
       "   Cycle\n",
       "1  2    \n",
       "2  3    \n",
       "3  4    \n",
       "4  5    \n",
       "5  2    \n",
       "6  3    \n",
       "7  4    \n",
       "8  5    \n",
       "9  2    \n",
       "10 3    \n",
       "11 4    \n",
       "12 5    "
      ]
     },
     "metadata": {},
     "output_type": "display_data"
    }
   ],
   "source": [
    "myctrt_grp"
   ]
  },
  {
   "cell_type": "code",
   "execution_count": 121,
   "metadata": {
    "vscode": {
     "languageId": "r"
    }
   },
   "outputs": [],
   "source": [
    "sampletype$Cycle <- as.character(sampletype$cyclenum)"
   ]
  },
  {
   "cell_type": "code",
   "execution_count": 122,
   "metadata": {
    "vscode": {
     "languageId": "r"
    }
   },
   "outputs": [],
   "source": [
    "p1 <- baseplot.fx(mydf = sampletype, x = \"Cycle\", y = \"converg\", fill = \"cancergroup\", clr = \"cancergroup\", colpal = group_col) +\n",
    "    geom_errorbar(data = mylsm_grp, aes(x = Cycle, y = lsmean, ymin = lower.CL, ymax = upper.CL), color = \"black\", width = 0.2) +\n",
    "    geom_point(data = mylsm_grp, aes(x = Cycle, y = lsmean), color = \"black\", shape = 18, size = 3) +\n",
    "    facet_wrap(~cancergroup, nrow = 1, scales = \"free_x\", strip.position = \"top\") +\n",
    "    theme(\n",
    "        axis.title.x = element_blank(),\n",
    "        legend.position = \"none\",\n",
    "        strip.background.x = element_blank(),\n",
    "        strip.placement = \"outside\"\n",
    "    ) + ylab(\" % TCR specificity / \\ntotal TCRs\")"
   ]
  },
  {
   "cell_type": "code",
   "execution_count": 123,
   "metadata": {
    "vscode": {
     "languageId": "r"
    }
   },
   "outputs": [
    {
     "data": {
      "image/png": "[encoded data removed]",
      "text/plain": [
       "plot without title"
      ]
     },
     "metadata": {
      "image/png": {
       "height": 420,
       "width": 420
      }
     },
     "output_type": "display_data"
    }
   ],
   "source": [
    "p1"
   ]
  },
  {
   "cell_type": "code",
   "execution_count": 126,
   "metadata": {
    "vscode": {
     "languageId": "r"
    }
   },
   "outputs": [
    {
     "data": {
      "text/html": [
       "<strong>pdf:</strong> 2"
      ],
      "text/latex": [
       "\\textbf{pdf:} 2"
      ],
      "text/markdown": [
       "**pdf:** 2"
      ],
      "text/plain": [
       "pdf \n",
       "  2 "
      ]
     },
     "metadata": {},
     "output_type": "display_data"
    }
   ],
   "source": [
    "pdf(paste0(plotpath, \"p_converg_lsmeans.pdf\"), width = 5, height = 3)\n",
    "p1\n",
    "dev.off()"
   ]
  },
  {
   "cell_type": "markdown",
   "metadata": {},
   "source": [
    "# 2- GLIPH groups diversity\n",
    "\n",
    "to account for cloneCounts and number of groups"
   ]
  },
  {
   "cell_type": "markdown",
   "metadata": {},
   "source": [
    "## 2.1- GLIPH groups"
   ]
  },
  {
   "cell_type": "code",
   "execution_count": 277,
   "metadata": {
    "vscode": {
     "languageId": "r"
    }
   },
   "outputs": [
    {
     "data": {
      "text/html": [
       "<style>\n",
       ".list-inline {list-style: none; margin:0; padding: 0}\n",
       ".list-inline>li {display: inline-block}\n",
       ".list-inline>li:not(:last-child)::after {content: \"\\00b7\"; padding: 0 .5ex}\n",
       "</style>\n",
       "<ol class=list-inline><li>'addjurkat.fx'</li><li>'age_pal'</li><li>'align_plots1'</li><li>'baseline_patients'</li><li>'baseplot.fx'</li><li>'cancergrp'</li><li>'chp_gliph'</li><li>'chp_gliph_pbmc'</li><li>'cohort_col'</li><li>'components'</li><li>'components_sep'</li><li>'cycle_col'</li><li>'datapath'</li><li>'df1'</li><li>'df1_post'</li><li>'df1_post_mean'</li><li>'df1_pre'</li><li>'df1_pre_mean'</li><li>'gitpath'</li><li>'gliph_out'</li><li>'gliph_pat_mat'</li><li>'gliph_pat_mat_long'</li><li>'gliphdf'</li><li>'gliphdf_original'</li><li>'group_col'</li><li>'h4hpath'</li><li>'histdenp'</li><li>'histp'</li><li>'i'</li><li>'importantgliphs'</li><li>'j'</li><li>'lsm'</li><li>'manifestpath'</li><li>'message_parallel'</li><li>'meta_div'</li><li>'myaxis'</li><li>'myctrt'</li><li>'myctrt_grp'</li><li>'myfit'</li><li>'myformula'</li><li>'mygliph'</li><li>'mylsm'</li><li>'mylsm_grp'</li><li>'mypattern'</li><li>'myplot'</li><li>'mypt'</li><li>'mypt_SumFreq'</li><li>'mysample'</li><li>'mysamples'</li><li>'mysig'</li><li>'mytab'</li><li>'n_gliph'</li><li>'out'</li><li>'p1'</li><li>'p2'</li><li>'p3'</li><li>'p4'</li><li>'pat_type'</li><li>'plotpath'</li><li>'pt_post'</li><li>'pt_pre'</li><li>'round_and_format'</li><li>'safe_mclapply'</li><li>'sample_subject_tab'</li><li>'samples_tcr'</li><li>'sampletags_columns'</li><li>'sampletype'</li><li>'text_matrix'</li><li>'tmp'</li><li>'toString_onefle.fx'</li><li>'type_col'</li><li>'yuppp'</li></ol>\n"
      ],
      "text/latex": [
       "\\begin{enumerate*}\n",
       "\\item 'addjurkat.fx'\n",
       "\\item 'age\\_pal'\n",
       "\\item 'align\\_plots1'\n",
       "\\item 'baseline\\_patients'\n",
       "\\item 'baseplot.fx'\n",
       "\\item 'cancergrp'\n",
       "\\item 'chp\\_gliph'\n",
       "\\item 'chp\\_gliph\\_pbmc'\n",
       "\\item 'cohort\\_col'\n",
       "\\item 'components'\n",
       "\\item 'components\\_sep'\n",
       "\\item 'cycle\\_col'\n",
       "\\item 'datapath'\n",
       "\\item 'df1'\n",
       "\\item 'df1\\_post'\n",
       "\\item 'df1\\_post\\_mean'\n",
       "\\item 'df1\\_pre'\n",
       "\\item 'df1\\_pre\\_mean'\n",
       "\\item 'gitpath'\n",
       "\\item 'gliph\\_out'\n",
       "\\item 'gliph\\_pat\\_mat'\n",
       "\\item 'gliph\\_pat\\_mat\\_long'\n",
       "\\item 'gliphdf'\n",
       "\\item 'gliphdf\\_original'\n",
       "\\item 'group\\_col'\n",
       "\\item 'h4hpath'\n",
       "\\item 'histdenp'\n",
       "\\item 'histp'\n",
       "\\item 'i'\n",
       "\\item 'importantgliphs'\n",
       "\\item 'j'\n",
       "\\item 'lsm'\n",
       "\\item 'manifestpath'\n",
       "\\item 'message\\_parallel'\n",
       "\\item 'meta\\_div'\n",
       "\\item 'myaxis'\n",
       "\\item 'myctrt'\n",
       "\\item 'myctrt\\_grp'\n",
       "\\item 'myfit'\n",
       "\\item 'myformula'\n",
       "\\item 'mygliph'\n",
       "\\item 'mylsm'\n",
       "\\item 'mylsm\\_grp'\n",
       "\\item 'mypattern'\n",
       "\\item 'myplot'\n",
       "\\item 'mypt'\n",
       "\\item 'mypt\\_SumFreq'\n",
       "\\item 'mysample'\n",
       "\\item 'mysamples'\n",
       "\\item 'mysig'\n",
       "\\item 'mytab'\n",
       "\\item 'n\\_gliph'\n",
       "\\item 'out'\n",
       "\\item 'p1'\n",
       "\\item 'p2'\n",
       "\\item 'p3'\n",
       "\\item 'p4'\n",
       "\\item 'pat\\_type'\n",
       "\\item 'plotpath'\n",
       "\\item 'pt\\_post'\n",
       "\\item 'pt\\_pre'\n",
       "\\item 'round\\_and\\_format'\n",
       "\\item 'safe\\_mclapply'\n",
       "\\item 'sample\\_subject\\_tab'\n",
       "\\item 'samples\\_tcr'\n",
       "\\item 'sampletags\\_columns'\n",
       "\\item 'sampletype'\n",
       "\\item 'text\\_matrix'\n",
       "\\item 'tmp'\n",
       "\\item 'toString\\_onefle.fx'\n",
       "\\item 'type\\_col'\n",
       "\\item 'yuppp'\n",
       "\\end{enumerate*}\n"
      ],
      "text/markdown": [
       "1. 'addjurkat.fx'\n",
       "2. 'age_pal'\n",
       "3. 'align_plots1'\n",
       "4. 'baseline_patients'\n",
       "5. 'baseplot.fx'\n",
       "6. 'cancergrp'\n",
       "7. 'chp_gliph'\n",
       "8. 'chp_gliph_pbmc'\n",
       "9. 'cohort_col'\n",
       "10. 'components'\n",
       "11. 'components_sep'\n",
       "12. 'cycle_col'\n",
       "13. 'datapath'\n",
       "14. 'df1'\n",
       "15. 'df1_post'\n",
       "16. 'df1_post_mean'\n",
       "17. 'df1_pre'\n",
       "18. 'df1_pre_mean'\n",
       "19. 'gitpath'\n",
       "20. 'gliph_out'\n",
       "21. 'gliph_pat_mat'\n",
       "22. 'gliph_pat_mat_long'\n",
       "23. 'gliphdf'\n",
       "24. 'gliphdf_original'\n",
       "25. 'group_col'\n",
       "26. 'h4hpath'\n",
       "27. 'histdenp'\n",
       "28. 'histp'\n",
       "29. 'i'\n",
       "30. 'importantgliphs'\n",
       "31. 'j'\n",
       "32. 'lsm'\n",
       "33. 'manifestpath'\n",
       "34. 'message_parallel'\n",
       "35. 'meta_div'\n",
       "36. 'myaxis'\n",
       "37. 'myctrt'\n",
       "38. 'myctrt_grp'\n",
       "39. 'myfit'\n",
       "40. 'myformula'\n",
       "41. 'mygliph'\n",
       "42. 'mylsm'\n",
       "43. 'mylsm_grp'\n",
       "44. 'mypattern'\n",
       "45. 'myplot'\n",
       "46. 'mypt'\n",
       "47. 'mypt_SumFreq'\n",
       "48. 'mysample'\n",
       "49. 'mysamples'\n",
       "50. 'mysig'\n",
       "51. 'mytab'\n",
       "52. 'n_gliph'\n",
       "53. 'out'\n",
       "54. 'p1'\n",
       "55. 'p2'\n",
       "56. 'p3'\n",
       "57. 'p4'\n",
       "58. 'pat_type'\n",
       "59. 'plotpath'\n",
       "60. 'pt_post'\n",
       "61. 'pt_pre'\n",
       "62. 'round_and_format'\n",
       "63. 'safe_mclapply'\n",
       "64. 'sample_subject_tab'\n",
       "65. 'samples_tcr'\n",
       "66. 'sampletags_columns'\n",
       "67. 'sampletype'\n",
       "68. 'text_matrix'\n",
       "69. 'tmp'\n",
       "70. 'toString_onefle.fx'\n",
       "71. 'type_col'\n",
       "72. 'yuppp'\n",
       "\n",
       "\n"
      ],
      "text/plain": [
       " [1] \"addjurkat.fx\"       \"age_pal\"            \"align_plots1\"      \n",
       " [4] \"baseline_patients\"  \"baseplot.fx\"        \"cancergrp\"         \n",
       " [7] \"chp_gliph\"          \"chp_gliph_pbmc\"     \"cohort_col\"        \n",
       "[10] \"components\"         \"components_sep\"     \"cycle_col\"         \n",
       "[13] \"datapath\"           \"df1\"                \"df1_post\"          \n",
       "[16] \"df1_post_mean\"      \"df1_pre\"            \"df1_pre_mean\"      \n",
       "[19] \"gitpath\"            \"gliph_out\"          \"gliph_pat_mat\"     \n",
       "[22] \"gliph_pat_mat_long\" \"gliphdf\"            \"gliphdf_original\"  \n",
       "[25] \"group_col\"          \"h4hpath\"            \"histdenp\"          \n",
       "[28] \"histp\"              \"i\"                  \"importantgliphs\"   \n",
       "[31] \"j\"                  \"lsm\"                \"manifestpath\"      \n",
       "[34] \"message_parallel\"   \"meta_div\"           \"myaxis\"            \n",
       "[37] \"myctrt\"             \"myctrt_grp\"         \"myfit\"             \n",
       "[40] \"myformula\"          \"mygliph\"            \"mylsm\"             \n",
       "[43] \"mylsm_grp\"          \"mypattern\"          \"myplot\"            \n",
       "[46] \"mypt\"               \"mypt_SumFreq\"       \"mysample\"          \n",
       "[49] \"mysamples\"          \"mysig\"              \"mytab\"             \n",
       "[52] \"n_gliph\"            \"out\"                \"p1\"                \n",
       "[55] \"p2\"                 \"p3\"                 \"p4\"                \n",
       "[58] \"pat_type\"           \"plotpath\"           \"pt_post\"           \n",
       "[61] \"pt_pre\"             \"round_and_format\"   \"safe_mclapply\"     \n",
       "[64] \"sample_subject_tab\" \"samples_tcr\"        \"sampletags_columns\"\n",
       "[67] \"sampletype\"         \"text_matrix\"        \"tmp\"               \n",
       "[70] \"toString_onefle.fx\" \"type_col\"           \"yuppp\"             "
      ]
     },
     "metadata": {},
     "output_type": "display_data"
    }
   ],
   "source": [
    "ls()"
   ]
  },
  {
   "cell_type": "code",
   "execution_count": 280,
   "metadata": {
    "vscode": {
     "languageId": "r"
    }
   },
   "outputs": [
    {
     "name": "stderr",
     "output_type": "stream",
     "text": [
      "Warning message in BootstrapFun.abun(x = x, FunName, datatype, B):\n",
      "\"The Bootstrap community has only one species. Estimation is not robust.\"\n",
      "Warning message in max(x[-1] > 1):\n",
      "\"no non-missing arguments to max; returning -Inf\"\n",
      "Warning message in BootstrapFun.abun(x = x, FunName, datatype, B):\n",
      "\"The Bootstrap community has only one species. Estimation is not robust.\"\n",
      "Warning message in BootstrapFun.abun(x = x, FunName, datatype, B):\n",
      "\"The Bootstrap community has only one species. Estimation is not robust.\"\n",
      "Warning message in max(x[-1] > 1):\n",
      "\"no non-missing arguments to max; returning -Inf\"\n",
      "Warning message in BootstrapFun.abun(x = x, FunName, datatype, B):\n",
      "\"The Bootstrap community has only one species. Estimation is not robust.\"\n",
      "Warning message in BootstrapFun.abun(x = x, FunName, datatype, B):\n",
      "\"The Bootstrap community has only one species. Estimation is not robust.\"\n",
      "Warning message in max(x[-1] > 1):\n",
      "\"no non-missing arguments to max; returning -Inf\"\n",
      "Warning message in BootstrapFun.abun(x = x, FunName, datatype, B):\n",
      "\"The Bootstrap community has only one species. Estimation is not robust.\"\n",
      "Warning message in BootstrapFun.abun(x = x, FunName, datatype, B):\n",
      "\"The Bootstrap community has only one species. Estimation is not robust.\"\n",
      "Warning message in max(x[-1] > 1):\n",
      "\"no non-missing arguments to max; returning -Inf\"\n",
      "Warning message in BootstrapFun.abun(x = x, FunName, datatype, B):\n",
      "\"The Bootstrap community has only one species. Estimation is not robust.\"\n",
      "Warning message in BootstrapFun.abun(x = x, FunName, datatype, B):\n",
      "\"The Bootstrap community has only one species. Estimation is not robust.\"\n",
      "Warning message in max(x[-1] > 1):\n",
      "\"no non-missing arguments to max; returning -Inf\"\n",
      "Warning message in BootstrapFun.abun(x = x, FunName, datatype, B):\n",
      "\"The Bootstrap community has only one species. Estimation is not robust.\"\n",
      "Warning message in BootstrapFun.abun(x = x, FunName, datatype, B):\n",
      "\"The Bootstrap community has only one species. Estimation is not robust.\"\n",
      "Warning message in max(x[-1] > 1):\n",
      "\"no non-missing arguments to max; returning -Inf\"\n",
      "Warning message in BootstrapFun.abun(x = x, FunName, datatype, B):\n",
      "\"The Bootstrap community has only one species. Estimation is not robust.\"\n",
      "Warning message in BootstrapFun.abun(x = x, FunName, datatype, B):\n",
      "\"The Bootstrap community has only one species. Estimation is not robust.\"\n",
      "Warning message in max(x[-1] > 1):\n",
      "\"no non-missing arguments to max; returning -Inf\"\n",
      "Warning message in BootstrapFun.abun(x = x, FunName, datatype, B):\n",
      "\"The Bootstrap community has only one species. Estimation is not robust.\"\n",
      "Warning message in BootstrapFun.abun(x = x, FunName, datatype, B):\n",
      "\"The Bootstrap community has only one species. Estimation is not robust.\"\n",
      "Warning message in max(x[-1] > 1):\n",
      "\"no non-missing arguments to max; returning -Inf\"\n",
      "Warning message in BootstrapFun.abun(x = x, FunName, datatype, B):\n",
      "\"The Bootstrap community has only one species. Estimation is not robust.\"\n",
      "Warning message in BootstrapFun.abun(x = x, FunName, datatype, B):\n",
      "\"The Bootstrap community has only one species. Estimation is not robust.\"\n",
      "Warning message in max(x[-1] > 1):\n",
      "\"no non-missing arguments to max; returning -Inf\"\n",
      "Warning message in BootstrapFun.abun(x = x, FunName, datatype, B):\n",
      "\"The Bootstrap community has only one species. Estimation is not robust.\"\n",
      "Warning message in BootstrapFun.abun(x = x, FunName, datatype, B):\n",
      "\"The Bootstrap community has only one species. Estimation is not robust.\"\n",
      "Warning message in max(x[-1] > 1):\n",
      "\"no non-missing arguments to max; returning -Inf\"\n",
      "Warning message in BootstrapFun.abun(x = x, FunName, datatype, B):\n",
      "\"The Bootstrap community has only one species. Estimation is not robust.\"\n",
      "Warning message in BootstrapFun.abun(x = x, FunName, datatype, B):\n",
      "\"The Bootstrap community has only one species. Estimation is not robust.\"\n",
      "Warning message in max(x[-1] > 1):\n",
      "\"no non-missing arguments to max; returning -Inf\"\n",
      "Warning message in BootstrapFun.abun(x = x, FunName, datatype, B):\n",
      "\"The Bootstrap community has only one species. Estimation is not robust.\"\n",
      "Warning message in BootstrapFun.abun(x = x, FunName, datatype, B):\n",
      "\"The Bootstrap community has only one species. Estimation is not robust.\"\n",
      "Warning message in max(x[-1] > 1):\n",
      "\"no non-missing arguments to max; returning -Inf\"\n",
      "Warning message in BootstrapFun.abun(x = x, FunName, datatype, B):\n",
      "\"The Bootstrap community has only one species. Estimation is not robust.\"\n",
      "Warning message in BootstrapFun.abun(x = x, FunName, datatype, B):\n",
      "\"The Bootstrap community has only one species. Estimation is not robust.\"\n",
      "Warning message in max(x[-1] > 1):\n",
      "\"no non-missing arguments to max; returning -Inf\"\n",
      "Warning message in BootstrapFun.abun(x = x, FunName, datatype, B):\n",
      "\"The Bootstrap community has only one species. Estimation is not robust.\"\n",
      "Warning message in BootstrapFun.abun(x = x, FunName, datatype, B):\n",
      "\"The Bootstrap community has only one species. Estimation is not robust.\"\n",
      "Warning message in max(x[-1] > 1):\n",
      "\"no non-missing arguments to max; returning -Inf\"\n",
      "Warning message in BootstrapFun.abun(x = x, FunName, datatype, B):\n",
      "\"The Bootstrap community has only one species. Estimation is not robust.\"\n",
      "Warning message in BootstrapFun.abun(x = x, FunName, datatype, B):\n",
      "\"The Bootstrap community has only one species. Estimation is not robust.\"\n",
      "Warning message in max(x[-1] > 1):\n",
      "\"no non-missing arguments to max; returning -Inf\"\n",
      "Warning message in BootstrapFun.abun(x = x, FunName, datatype, B):\n",
      "\"The Bootstrap community has only one species. Estimation is not robust.\"\n",
      "Warning message in BootstrapFun.abun(x = x, FunName, datatype, B):\n",
      "\"The Bootstrap community has only one species. Estimation is not robust.\"\n",
      "Warning message in max(x[-1] > 1):\n",
      "\"no non-missing arguments to max; returning -Inf\"\n",
      "Warning message in BootstrapFun.abun(x = x, FunName, datatype, B):\n",
      "\"The Bootstrap community has only one species. Estimation is not robust.\"\n",
      "Warning message in BootstrapFun.abun(x = x, FunName, datatype, B):\n",
      "\"The Bootstrap community has only one species. Estimation is not robust.\"\n",
      "Warning message in max(x[-1] > 1):\n",
      "\"no non-missing arguments to max; returning -Inf\"\n",
      "Warning message in BootstrapFun.abun(x = x, FunName, datatype, B):\n",
      "\"The Bootstrap community has only one species. Estimation is not robust.\"\n",
      "Warning message in BootstrapFun.abun(x = x, FunName, datatype, B):\n",
      "\"The Bootstrap community has only one species. Estimation is not robust.\"\n",
      "Warning message in max(x[-1] > 1):\n",
      "\"no non-missing arguments to max; returning -Inf\"\n",
      "Warning message in BootstrapFun.abun(x = x, FunName, datatype, B):\n",
      "\"The Bootstrap community has only one species. Estimation is not robust.\"\n",
      "Warning message in BootstrapFun.abun(x = x, FunName, datatype, B):\n",
      "\"The Bootstrap community has only one species. Estimation is not robust.\"\n",
      "Warning message in max(x[-1] > 1):\n",
      "\"no non-missing arguments to max; returning -Inf\"\n",
      "Warning message in BootstrapFun.abun(x = x, FunName, datatype, B):\n",
      "\"The Bootstrap community has only one species. Estimation is not robust.\"\n",
      "Warning message in BootstrapFun.abun(x = x, FunName, datatype, B):\n",
      "\"The Bootstrap community has only one species. Estimation is not robust.\"\n",
      "Warning message in max(x[-1] > 1):\n",
      "\"no non-missing arguments to max; returning -Inf\"\n",
      "Warning message in BootstrapFun.abun(x = x, FunName, datatype, B):\n",
      "\"The Bootstrap community has only one species. Estimation is not robust.\"\n",
      "Warning message in BootstrapFun.abun(x = x, FunName, datatype, B):\n",
      "\"The Bootstrap community has only one species. Estimation is not robust.\"\n",
      "Warning message in max(x[-1] > 1):\n",
      "\"no non-missing arguments to max; returning -Inf\"\n",
      "Warning message in BootstrapFun.abun(x = x, FunName, datatype, B):\n",
      "\"The Bootstrap community has only one species. Estimation is not robust.\"\n",
      "Warning message in BootstrapFun.abun(x = x, FunName, datatype, B):\n",
      "\"The Bootstrap community has only one species. Estimation is not robust.\"\n",
      "Warning message in max(x[-1] > 1):\n",
      "\"no non-missing arguments to max; returning -Inf\"\n",
      "Warning message in BootstrapFun.abun(x = x, FunName, datatype, B):\n",
      "\"The Bootstrap community has only one species. Estimation is not robust.\"\n",
      "Warning message in BootstrapFun.abun(x = x, FunName, datatype, B):\n",
      "\"The Bootstrap community has only one species. Estimation is not robust.\"\n",
      "Warning message in max(x[-1] > 1):\n",
      "\"no non-missing arguments to max; returning -Inf\"\n",
      "Warning message in BootstrapFun.abun(x = x, FunName, datatype, B):\n",
      "\"The Bootstrap community has only one species. Estimation is not robust.\"\n",
      "Warning message in BootstrapFun.abun(x = x, FunName, datatype, B):\n",
      "\"The Bootstrap community has only one species. Estimation is not robust.\"\n",
      "Warning message in max(x[-1] > 1):\n",
      "\"no non-missing arguments to max; returning -Inf\"\n",
      "Warning message in BootstrapFun.abun(x = x, FunName, datatype, B):\n",
      "\"The Bootstrap community has only one species. Estimation is not robust.\"\n",
      "Warning message in BootstrapFun.abun(x = x, FunName, datatype, B):\n",
      "\"The Bootstrap community has only one species. Estimation is not robust.\"\n",
      "Warning message in max(x[-1] > 1):\n",
      "\"no non-missing arguments to max; returning -Inf\"\n",
      "Warning message in BootstrapFun.abun(x = x, FunName, datatype, B):\n",
      "\"The Bootstrap community has only one species. Estimation is not robust.\"\n",
      "Warning message in BootstrapFun.abun(x = x, FunName, datatype, B):\n",
      "\"The Bootstrap community has only one species. Estimation is not robust.\"\n",
      "Warning message in max(x[-1] > 1):\n",
      "\"no non-missing arguments to max; returning -Inf\"\n",
      "Warning message in BootstrapFun.abun(x = x, FunName, datatype, B):\n",
      "\"The Bootstrap community has only one species. Estimation is not robust.\"\n",
      "Warning message in BootstrapFun.abun(x = x, FunName, datatype, B):\n",
      "\"The Bootstrap community has only one species. Estimation is not robust.\"\n",
      "Warning message in max(x[-1] > 1):\n",
      "\"no non-missing arguments to max; returning -Inf\"\n",
      "Warning message in BootstrapFun.abun(x = x, FunName, datatype, B):\n",
      "\"The Bootstrap community has only one species. Estimation is not robust.\"\n",
      "Warning message in BootstrapFun.abun(x = x, FunName, datatype, B):\n",
      "\"The Bootstrap community has only one species. Estimation is not robust.\"\n",
      "Warning message in max(x[-1] > 1):\n",
      "\"no non-missing arguments to max; returning -Inf\"\n",
      "Warning message in BootstrapFun.abun(x = x, FunName, datatype, B):\n",
      "\"The Bootstrap community has only one species. Estimation is not robust.\"\n",
      "Warning message in BootstrapFun.abun(x = x, FunName, datatype, B):\n",
      "\"The Bootstrap community has only one species. Estimation is not robust.\"\n",
      "Warning message in max(x[-1] > 1):\n",
      "\"no non-missing arguments to max; returning -Inf\"\n",
      "Warning message in BootstrapFun.abun(x = x, FunName, datatype, B):\n",
      "\"The Bootstrap community has only one species. Estimation is not robust.\"\n",
      "Warning message in BootstrapFun.abun(x = x, FunName, datatype, B):\n",
      "\"The Bootstrap community has only one species. Estimation is not robust.\"\n",
      "Warning message in max(x[-1] > 1):\n",
      "\"no non-missing arguments to max; returning -Inf\"\n",
      "Warning message in BootstrapFun.abun(x = x, FunName, datatype, B):\n",
      "\"The Bootstrap community has only one species. Estimation is not robust.\"\n",
      "Warning message in BootstrapFun.abun(x = x, FunName, datatype, B):\n",
      "\"The Bootstrap community has only one species. Estimation is not robust.\"\n",
      "Warning message in max(x[-1] > 1):\n",
      "\"no non-missing arguments to max; returning -Inf\"\n",
      "Warning message in BootstrapFun.abun(x = x, FunName, datatype, B):\n",
      "\"The Bootstrap community has only one species. Estimation is not robust.\"\n"
     ]
    }
   ],
   "source": [
    "# add diversity of gliph groups\n",
    "for (i in 1:nrow(samples_tcr)) {\n",
    "  mypt <- tmp[tmp$Sample == rownames(samples_tcr)[i], ]\n",
    "\n",
    "  # If there is more than one cdr3 in a pattern, sum the frequencies\n",
    "  mypt_SumFreq <- mypt %>%\n",
    "    group_by(pattern) %>%\n",
    "    summarise(SumFreq = sum(Freq), .groups = \"drop\")\n",
    "#message(rownames(samples_tcr)[i])\n",
    "#print(mypt_SumFreq$SumFreq[order(mypt_SumFreq$SumFreq, decreasing = T)])\n",
    "  out <- iNEXT::iNEXT(mypt_SumFreq$SumFreq[order(mypt_SumFreq$SumFreq, decreasing = T)], 0, datatype = \"abundance\")\n",
    "  samples_tcr$gliph_div[i] <- out$AsyEst[1, 1] # Simpson\n",
    "}\n"
   ]
  },
  {
   "cell_type": "code",
   "execution_count": 281,
   "metadata": {
    "vscode": {
     "languageId": "r"
    }
   },
   "outputs": [],
   "source": [
    "sampletype <- samples_tcr[ samples_tcr$sampletype == \"PBMC\" &\n",
    "samples_tcr$n_gliph > 3,] # to avoid error in diversity calculation"
   ]
  },
  {
   "cell_type": "code",
   "execution_count": 282,
   "metadata": {
    "vscode": {
     "languageId": "r"
    }
   },
   "outputs": [],
   "source": [
    "sampletype$gliph_div_log <- log10(sampletype$gliph_div)"
   ]
  },
  {
   "cell_type": "code",
   "execution_count": 283,
   "metadata": {
    "vscode": {
     "languageId": "r"
    }
   },
   "outputs": [
    {
     "name": "stdout",
     "output_type": "stream",
     "text": [
      "[1] \"Solidtumors\"\n",
      "[1] \"Lymphoma\"\n"
     ]
    },
    {
     "name": "stderr",
     "output_type": "stream",
     "text": [
      "boundary (singular) fit: see help('isSingular')\n",
      "\n"
     ]
    }
   ],
   "source": [
    "cancergrp <- \"Leukemia\"\n",
    "\n",
    "myformula <- as.formula(paste0(\"gliph_div_log\", \" ~ cycle + Age+ (1 | Patient)\"))\n",
    "myfit <- lme4::lmer(myformula, data = sampletype[ sampletype$cancergroup == cancergrp,]) # keep cycle as categorical\n",
    "lsm <- lsmeans(myfit, \"cycle\")\n",
    "mylsm_grp <- summary(lsm)\n",
    "mylsm_grp$cancergroup <- cancergrp # has to be same as original df\n",
    "\n",
    "myctrt_grp <- as.data.frame(lsmeans::contrast(lsm, \"trt.vs.ctrl\", ref = \"X01\"))\n",
    "myctrt_grp$cancergroup <- cancergrp\n",
    "\n",
    "for (i in c(\"Solidtumors\", \"Lymphoma\")) {\n",
    "    print(i)\n",
    "    cancergrp <- i\n",
    "    myfit <- lme4::lmer(myformula, data = sampletype[ sampletype$cancergroup == cancergrp,])\n",
    "    lsm <- lsmeans(myfit, \"cycle\")\n",
    "    myctrt <- as.data.frame(lsmeans::contrast(lsm, \"trt.vs.ctrl\", ref = \"X01\"))\n",
    "    myctrt$cancergroup <- cancergrp\n",
    "    myctrt_grp <- rbind(myctrt_grp, myctrt)\n",
    "\n",
    "    mylsm <- summary(lsm)\n",
    "    mylsm$cancergroup <- cancergrp\n",
    "    mylsm_grp <- rbind(mylsm_grp, mylsm)\n",
    "}"
   ]
  },
  {
   "cell_type": "code",
   "execution_count": 284,
   "metadata": {
    "vscode": {
     "languageId": "r"
    }
   },
   "outputs": [
    {
     "data": {
      "text/html": [
       "<table class=\"dataframe\">\n",
       "<caption>A summary_emm: 12 x 7</caption>\n",
       "<thead>\n",
       "\t<tr><th scope=col>contrast</th><th scope=col>estimate</th><th scope=col>SE</th><th scope=col>df</th><th scope=col>t.ratio</th><th scope=col>p.value</th><th scope=col>cancergroup</th></tr>\n",
       "\t<tr><th scope=col>&lt;chr&gt;</th><th scope=col>&lt;dbl&gt;</th><th scope=col>&lt;dbl&gt;</th><th scope=col>&lt;dbl&gt;</th><th scope=col>&lt;dbl&gt;</th><th scope=col>&lt;dbl&gt;</th><th scope=col>&lt;chr&gt;</th></tr>\n",
       "</thead>\n",
       "<tbody>\n",
       "\t<tr><td>X02 - X01</td><td> 0.36009335</td><td>0.1394025</td><td>70.45874</td><td> 2.5831193</td><td>0.04180391</td><td>Leukemia   </td></tr>\n",
       "\t<tr><td>X03 - X01</td><td> 0.21947431</td><td>0.1482168</td><td>76.38190</td><td> 1.4807653</td><td>0.38764141</td><td>Leukemia   </td></tr>\n",
       "\t<tr><td>X04 - X01</td><td> 0.20958422</td><td>0.1517751</td><td>80.59194</td><td> 1.3808864</td><td>0.44598314</td><td>Leukemia   </td></tr>\n",
       "\t<tr><td>X05 - X01</td><td> 0.34860856</td><td>0.1526106</td><td>81.91735</td><td> 2.2843008</td><td>0.08425987</td><td>Leukemia   </td></tr>\n",
       "\t<tr><td>X02 - X01</td><td>-0.04529961</td><td>0.1883300</td><td>33.53780</td><td>-0.2405332</td><td>0.98777984</td><td>Solidtumors</td></tr>\n",
       "\t<tr><td>X03 - X01</td><td> 0.22369104</td><td>0.2174181</td><td>43.44556</td><td> 1.0288521</td><td>0.66961213</td><td>Solidtumors</td></tr>\n",
       "\t<tr><td>X04 - X01</td><td>-0.25959470</td><td>0.2287785</td><td>42.66721</td><td>-1.1346989</td><td>0.60347241</td><td>Solidtumors</td></tr>\n",
       "\t<tr><td>X05 - X01</td><td> 0.18087919</td><td>0.2184979</td><td>45.23868</td><td> 0.8278303</td><td>0.78741184</td><td>Solidtumors</td></tr>\n",
       "\t<tr><td>X02 - X01</td><td>-0.25444756</td><td>0.2651785</td><td>20.85372</td><td>-0.9595332</td><td>0.71531057</td><td>Lymphoma   </td></tr>\n",
       "\t<tr><td>X03 - X01</td><td>-0.55411403</td><td>0.2602470</td><td>19.37457</td><td>-2.1291853</td><td>0.14474507</td><td>Lymphoma   </td></tr>\n",
       "\t<tr><td>X04 - X01</td><td>-0.38270264</td><td>0.3237395</td><td>22.41311</td><td>-1.1821315</td><td>0.57950422</td><td>Lymphoma   </td></tr>\n",
       "\t<tr><td>X05 - X01</td><td>-0.33193137</td><td>0.3229228</td><td>22.63834</td><td>-1.0278970</td><td>0.67397420</td><td>Lymphoma   </td></tr>\n",
       "</tbody>\n",
       "</table>\n"
      ],
      "text/latex": [
       "A summary\\_emm: 12 x 7\n",
       "\\begin{tabular}{lllllll}\n",
       " contrast & estimate & SE & df & t.ratio & p.value & cancergroup\\\\\n",
       " <chr> & <dbl> & <dbl> & <dbl> & <dbl> & <dbl> & <chr>\\\\\n",
       "\\hline\n",
       "\t X02 - X01 &  0.36009335 & 0.1394025 & 70.45874 &  2.5831193 & 0.04180391 & Leukemia   \\\\\n",
       "\t X03 - X01 &  0.21947431 & 0.1482168 & 76.38190 &  1.4807653 & 0.38764141 & Leukemia   \\\\\n",
       "\t X04 - X01 &  0.20958422 & 0.1517751 & 80.59194 &  1.3808864 & 0.44598314 & Leukemia   \\\\\n",
       "\t X05 - X01 &  0.34860856 & 0.1526106 & 81.91735 &  2.2843008 & 0.08425987 & Leukemia   \\\\\n",
       "\t X02 - X01 & -0.04529961 & 0.1883300 & 33.53780 & -0.2405332 & 0.98777984 & Solidtumors\\\\\n",
       "\t X03 - X01 &  0.22369104 & 0.2174181 & 43.44556 &  1.0288521 & 0.66961213 & Solidtumors\\\\\n",
       "\t X04 - X01 & -0.25959470 & 0.2287785 & 42.66721 & -1.1346989 & 0.60347241 & Solidtumors\\\\\n",
       "\t X05 - X01 &  0.18087919 & 0.2184979 & 45.23868 &  0.8278303 & 0.78741184 & Solidtumors\\\\\n",
       "\t X02 - X01 & -0.25444756 & 0.2651785 & 20.85372 & -0.9595332 & 0.71531057 & Lymphoma   \\\\\n",
       "\t X03 - X01 & -0.55411403 & 0.2602470 & 19.37457 & -2.1291853 & 0.14474507 & Lymphoma   \\\\\n",
       "\t X04 - X01 & -0.38270264 & 0.3237395 & 22.41311 & -1.1821315 & 0.57950422 & Lymphoma   \\\\\n",
       "\t X05 - X01 & -0.33193137 & 0.3229228 & 22.63834 & -1.0278970 & 0.67397420 & Lymphoma   \\\\\n",
       "\\end{tabular}\n"
      ],
      "text/markdown": [
       "\n",
       "A summary_emm: 12 x 7\n",
       "\n",
       "| contrast &lt;chr&gt; | estimate &lt;dbl&gt; | SE &lt;dbl&gt; | df &lt;dbl&gt; | t.ratio &lt;dbl&gt; | p.value &lt;dbl&gt; | cancergroup &lt;chr&gt; |\n",
       "|---|---|---|---|---|---|---|\n",
       "| X02 - X01 |  0.36009335 | 0.1394025 | 70.45874 |  2.5831193 | 0.04180391 | Leukemia    |\n",
       "| X03 - X01 |  0.21947431 | 0.1482168 | 76.38190 |  1.4807653 | 0.38764141 | Leukemia    |\n",
       "| X04 - X01 |  0.20958422 | 0.1517751 | 80.59194 |  1.3808864 | 0.44598314 | Leukemia    |\n",
       "| X05 - X01 |  0.34860856 | 0.1526106 | 81.91735 |  2.2843008 | 0.08425987 | Leukemia    |\n",
       "| X02 - X01 | -0.04529961 | 0.1883300 | 33.53780 | -0.2405332 | 0.98777984 | Solidtumors |\n",
       "| X03 - X01 |  0.22369104 | 0.2174181 | 43.44556 |  1.0288521 | 0.66961213 | Solidtumors |\n",
       "| X04 - X01 | -0.25959470 | 0.2287785 | 42.66721 | -1.1346989 | 0.60347241 | Solidtumors |\n",
       "| X05 - X01 |  0.18087919 | 0.2184979 | 45.23868 |  0.8278303 | 0.78741184 | Solidtumors |\n",
       "| X02 - X01 | -0.25444756 | 0.2651785 | 20.85372 | -0.9595332 | 0.71531057 | Lymphoma    |\n",
       "| X03 - X01 | -0.55411403 | 0.2602470 | 19.37457 | -2.1291853 | 0.14474507 | Lymphoma    |\n",
       "| X04 - X01 | -0.38270264 | 0.3237395 | 22.41311 | -1.1821315 | 0.57950422 | Lymphoma    |\n",
       "| X05 - X01 | -0.33193137 | 0.3229228 | 22.63834 | -1.0278970 | 0.67397420 | Lymphoma    |\n",
       "\n"
      ],
      "text/plain": [
       "   contrast  estimate    SE        df       t.ratio    p.value    cancergroup\n",
       "1  X02 - X01  0.36009335 0.1394025 70.45874  2.5831193 0.04180391 Leukemia   \n",
       "2  X03 - X01  0.21947431 0.1482168 76.38190  1.4807653 0.38764141 Leukemia   \n",
       "3  X04 - X01  0.20958422 0.1517751 80.59194  1.3808864 0.44598314 Leukemia   \n",
       "4  X05 - X01  0.34860856 0.1526106 81.91735  2.2843008 0.08425987 Leukemia   \n",
       "5  X02 - X01 -0.04529961 0.1883300 33.53780 -0.2405332 0.98777984 Solidtumors\n",
       "6  X03 - X01  0.22369104 0.2174181 43.44556  1.0288521 0.66961213 Solidtumors\n",
       "7  X04 - X01 -0.25959470 0.2287785 42.66721 -1.1346989 0.60347241 Solidtumors\n",
       "8  X05 - X01  0.18087919 0.2184979 45.23868  0.8278303 0.78741184 Solidtumors\n",
       "9  X02 - X01 -0.25444756 0.2651785 20.85372 -0.9595332 0.71531057 Lymphoma   \n",
       "10 X03 - X01 -0.55411403 0.2602470 19.37457 -2.1291853 0.14474507 Lymphoma   \n",
       "11 X04 - X01 -0.38270264 0.3237395 22.41311 -1.1821315 0.57950422 Lymphoma   \n",
       "12 X05 - X01 -0.33193137 0.3229228 22.63834 -1.0278970 0.67397420 Lymphoma   "
      ]
     },
     "metadata": {},
     "output_type": "display_data"
    }
   ],
   "source": [
    "myctrt_grp"
   ]
  },
  {
   "cell_type": "code",
   "execution_count": 132,
   "metadata": {
    "vscode": {
     "languageId": "r"
    }
   },
   "outputs": [],
   "source": [
    "# just for aes\n",
    "sampletype$cancergroup[ sampletype$cancergroup == \"Solidtumors\" ] <- \"Solid tumors\"\n",
    "sampletype$cancergroup[ sampletype$cancergroup == \"T-cellmalignancies\" ] <- \"T-cell malignancies\"\n",
    "\n",
    "mylsm_grp$cancergroup[ mylsm_grp$cancergroup == \"Solidtumors\" ] <- \"Solid tumors\"\n",
    "mylsm_grp$cancergroup[ mylsm_grp$cancergroup == \"T-cellmalignancies\" ] <- \"T-cell malignancies\"\n",
    "\n",
    "myctrt_grp$cancergroup[ myctrt_grp$cancergroup == \"Solidtumors\" ] <- \"Solid tumors\"\n",
    "myctrt_grp$cancergroup[ myctrt_grp$cancergroup == \"T-cellmalignancies\" ] <- \"T-cell malignancies\""
   ]
  },
  {
   "cell_type": "code",
   "execution_count": 133,
   "metadata": {
    "vscode": {
     "languageId": "r"
    }
   },
   "outputs": [],
   "source": [
    "mylsm_grp$Cycle <- as.character(mylsm_grp$cycle)\n",
    "mylsm_grp$Cycle <- as.numeric(gsub(\"X0\", \"\", mylsm_grp$Cycle))\n",
    "\n",
    "myctrt_grp$Cycle <- as.character(gsub(\" - X01\", \"\", myctrt_grp$contrast))\n",
    "myctrt_grp$Cycle <- gsub(\"X0\", \"\", myctrt_grp$Cycle)"
   ]
  },
  {
   "cell_type": "code",
   "execution_count": 134,
   "metadata": {
    "vscode": {
     "languageId": "r"
    }
   },
   "outputs": [
    {
     "data": {
      "text/html": [
       "<table class=\"dataframe\">\n",
       "<caption>A data.frame: 6 x 23</caption>\n",
       "<thead>\n",
       "\t<tr><th></th><th scope=col>CMV</th><th scope=col>EBV</th><th scope=col>HCV</th><th scope=col>Influenza</th><th scope=col>HomoSapiens</th><th scope=col>MDavis</th><th scope=col>HPV</th><th scope=col>CEF</th><th scope=col>TB</th><th scope=col>MCPyV</th><th scope=col>...</th><th scope=col>n_cdr3ingliph</th><th scope=col>cancergroup</th><th scope=col>cycle</th><th scope=col>sampletype</th><th scope=col>cyclenum</th><th scope=col>Patient</th><th scope=col>Age</th><th scope=col>converg</th><th scope=col>gliph_div</th><th scope=col>gliph_div_log</th></tr>\n",
       "\t<tr><th></th><th scope=col>&lt;dbl&gt;</th><th scope=col>&lt;dbl&gt;</th><th scope=col>&lt;dbl&gt;</th><th scope=col>&lt;dbl&gt;</th><th scope=col>&lt;dbl&gt;</th><th scope=col>&lt;dbl&gt;</th><th scope=col>&lt;dbl&gt;</th><th scope=col>&lt;dbl&gt;</th><th scope=col>&lt;dbl&gt;</th><th scope=col>&lt;dbl&gt;</th><th scope=col>...</th><th scope=col>&lt;int&gt;</th><th scope=col>&lt;chr&gt;</th><th scope=col>&lt;chr&gt;</th><th scope=col>&lt;chr&gt;</th><th scope=col>&lt;dbl&gt;</th><th scope=col>&lt;chr&gt;</th><th scope=col>&lt;dbl&gt;</th><th scope=col>&lt;dbl&gt;</th><th scope=col>&lt;dbl&gt;</th><th scope=col>&lt;dbl&gt;</th></tr>\n",
       "</thead>\n",
       "<tbody>\n",
       "\t<tr><th scope=row>Leukemia:CHP_323_X03-PBMC</th><td>2</td><td>0</td><td>1</td><td>0</td><td> 0</td><td> 16</td><td>0</td><td>0</td><td>0</td><td>1</td><td>...</td><td> 12</td><td>Leukemia</td><td>X03</td><td>PBMC</td><td>3</td><td>CHP_323</td><td>1</td><td>26.66667</td><td>18.048</td><td>1.256429</td></tr>\n",
       "\t<tr><th scope=row>Leukemia:CHP_323_X05-PBMC</th><td>1</td><td>0</td><td>0</td><td>0</td><td> 2</td><td> 47</td><td>0</td><td>0</td><td>0</td><td>1</td><td>...</td><td> 36</td><td>Leukemia</td><td>X05</td><td>PBMC</td><td>5</td><td>CHP_323</td><td>1</td><td>23.52941</td><td>49.104</td><td>1.691117</td></tr>\n",
       "\t<tr><th scope=row>Leukemia:CHP_328_X04-PBMC</th><td>1</td><td>2</td><td>2</td><td>0</td><td>10</td><td>145</td><td>1</td><td>0</td><td>0</td><td>0</td><td>...</td><td>124</td><td>Leukemia</td><td>X04</td><td>PBMC</td><td>4</td><td>CHP_328</td><td>7</td><td>27.31278</td><td>71.383</td><td>1.853595</td></tr>\n",
       "\t<tr><th scope=row>Leukemia:CHP_328_X05-PBMC</th><td>2</td><td>1</td><td>2</td><td>0</td><td> 0</td><td> 55</td><td>1</td><td>0</td><td>0</td><td>1</td><td>...</td><td> 35</td><td>Leukemia</td><td>X05</td><td>PBMC</td><td>5</td><td>CHP_328</td><td>7</td><td>22.87582</td><td>31.984</td><td>1.504933</td></tr>\n",
       "\t<tr><th scope=row>Leukemia:CHP_331_X04-PBMC</th><td>0</td><td>0</td><td>0</td><td>0</td><td> 0</td><td> 10</td><td>0</td><td>0</td><td>0</td><td>0</td><td>...</td><td>  6</td><td>Leukemia</td><td>X04</td><td>PBMC</td><td>4</td><td>CHP_331</td><td>5</td><td>16.66667</td><td>11.391</td><td>1.056562</td></tr>\n",
       "\t<tr><th scope=row>Leukemia:CHP_331_X05-PBMC</th><td>0</td><td>0</td><td>1</td><td>0</td><td> 4</td><td> 36</td><td>0</td><td>0</td><td>0</td><td>0</td><td>...</td><td> 37</td><td>Leukemia</td><td>X05</td><td>PBMC</td><td>5</td><td>CHP_331</td><td>5</td><td>23.56688</td><td>31.453</td><td>1.497662</td></tr>\n",
       "</tbody>\n",
       "</table>\n"
      ],
      "text/latex": [
       "A data.frame: 6 x 23\n",
       "\\begin{tabular}{r|lllllllllllllllllllll}\n",
       "  & CMV & EBV & HCV & Influenza & HomoSapiens & MDavis & HPV & CEF & TB & MCPyV & ... & n\\_cdr3ingliph & cancergroup & cycle & sampletype & cyclenum & Patient & Age & converg & gliph\\_div & gliph\\_div\\_log\\\\\n",
       "  & <dbl> & <dbl> & <dbl> & <dbl> & <dbl> & <dbl> & <dbl> & <dbl> & <dbl> & <dbl> & ... & <int> & <chr> & <chr> & <chr> & <dbl> & <chr> & <dbl> & <dbl> & <dbl> & <dbl>\\\\\n",
       "\\hline\n",
       "\tLeukemia:CHP\\_323\\_X03-PBMC & 2 & 0 & 1 & 0 &  0 &  16 & 0 & 0 & 0 & 1 & ... &  12 & Leukemia & X03 & PBMC & 3 & CHP\\_323 & 1 & 26.66667 & 18.048 & 1.256429\\\\\n",
       "\tLeukemia:CHP\\_323\\_X05-PBMC & 1 & 0 & 0 & 0 &  2 &  47 & 0 & 0 & 0 & 1 & ... &  36 & Leukemia & X05 & PBMC & 5 & CHP\\_323 & 1 & 23.52941 & 49.104 & 1.691117\\\\\n",
       "\tLeukemia:CHP\\_328\\_X04-PBMC & 1 & 2 & 2 & 0 & 10 & 145 & 1 & 0 & 0 & 0 & ... & 124 & Leukemia & X04 & PBMC & 4 & CHP\\_328 & 7 & 27.31278 & 71.383 & 1.853595\\\\\n",
       "\tLeukemia:CHP\\_328\\_X05-PBMC & 2 & 1 & 2 & 0 &  0 &  55 & 1 & 0 & 0 & 1 & ... &  35 & Leukemia & X05 & PBMC & 5 & CHP\\_328 & 7 & 22.87582 & 31.984 & 1.504933\\\\\n",
       "\tLeukemia:CHP\\_331\\_X04-PBMC & 0 & 0 & 0 & 0 &  0 &  10 & 0 & 0 & 0 & 0 & ... &   6 & Leukemia & X04 & PBMC & 4 & CHP\\_331 & 5 & 16.66667 & 11.391 & 1.056562\\\\\n",
       "\tLeukemia:CHP\\_331\\_X05-PBMC & 0 & 0 & 1 & 0 &  4 &  36 & 0 & 0 & 0 & 0 & ... &  37 & Leukemia & X05 & PBMC & 5 & CHP\\_331 & 5 & 23.56688 & 31.453 & 1.497662\\\\\n",
       "\\end{tabular}\n"
      ],
      "text/markdown": [
       "\n",
       "A data.frame: 6 x 23\n",
       "\n",
       "| <!--/--> | CMV &lt;dbl&gt; | EBV &lt;dbl&gt; | HCV &lt;dbl&gt; | Influenza &lt;dbl&gt; | HomoSapiens &lt;dbl&gt; | MDavis &lt;dbl&gt; | HPV &lt;dbl&gt; | CEF &lt;dbl&gt; | TB &lt;dbl&gt; | MCPyV &lt;dbl&gt; | ... ... | n_cdr3ingliph &lt;int&gt; | cancergroup &lt;chr&gt; | cycle &lt;chr&gt; | sampletype &lt;chr&gt; | cyclenum &lt;dbl&gt; | Patient &lt;chr&gt; | Age &lt;dbl&gt; | converg &lt;dbl&gt; | gliph_div &lt;dbl&gt; | gliph_div_log &lt;dbl&gt; |\n",
       "|---|---|---|---|---|---|---|---|---|---|---|---|---|---|---|---|---|---|---|---|---|---|\n",
       "| Leukemia:CHP_323_X03-PBMC | 2 | 0 | 1 | 0 |  0 |  16 | 0 | 0 | 0 | 1 | ... |  12 | Leukemia | X03 | PBMC | 3 | CHP_323 | 1 | 26.66667 | 18.048 | 1.256429 |\n",
       "| Leukemia:CHP_323_X05-PBMC | 1 | 0 | 0 | 0 |  2 |  47 | 0 | 0 | 0 | 1 | ... |  36 | Leukemia | X05 | PBMC | 5 | CHP_323 | 1 | 23.52941 | 49.104 | 1.691117 |\n",
       "| Leukemia:CHP_328_X04-PBMC | 1 | 2 | 2 | 0 | 10 | 145 | 1 | 0 | 0 | 0 | ... | 124 | Leukemia | X04 | PBMC | 4 | CHP_328 | 7 | 27.31278 | 71.383 | 1.853595 |\n",
       "| Leukemia:CHP_328_X05-PBMC | 2 | 1 | 2 | 0 |  0 |  55 | 1 | 0 | 0 | 1 | ... |  35 | Leukemia | X05 | PBMC | 5 | CHP_328 | 7 | 22.87582 | 31.984 | 1.504933 |\n",
       "| Leukemia:CHP_331_X04-PBMC | 0 | 0 | 0 | 0 |  0 |  10 | 0 | 0 | 0 | 0 | ... |   6 | Leukemia | X04 | PBMC | 4 | CHP_331 | 5 | 16.66667 | 11.391 | 1.056562 |\n",
       "| Leukemia:CHP_331_X05-PBMC | 0 | 0 | 1 | 0 |  4 |  36 | 0 | 0 | 0 | 0 | ... |  37 | Leukemia | X05 | PBMC | 5 | CHP_331 | 5 | 23.56688 | 31.453 | 1.497662 |\n",
       "\n"
      ],
      "text/plain": [
       "                          CMV EBV HCV Influenza HomoSapiens MDavis HPV CEF TB\n",
       "Leukemia:CHP_323_X03-PBMC 2   0   1   0          0           16    0   0   0 \n",
       "Leukemia:CHP_323_X05-PBMC 1   0   0   0          2           47    0   0   0 \n",
       "Leukemia:CHP_328_X04-PBMC 1   2   2   0         10          145    1   0   0 \n",
       "Leukemia:CHP_328_X05-PBMC 2   1   2   0          0           55    1   0   0 \n",
       "Leukemia:CHP_331_X04-PBMC 0   0   0   0          0           10    0   0   0 \n",
       "Leukemia:CHP_331_X05-PBMC 0   0   1   0          4           36    0   0   0 \n",
       "                          MCPyV ... n_cdr3ingliph cancergroup cycle sampletype\n",
       "Leukemia:CHP_323_X03-PBMC 1     ...  12           Leukemia    X03   PBMC      \n",
       "Leukemia:CHP_323_X05-PBMC 1     ...  36           Leukemia    X05   PBMC      \n",
       "Leukemia:CHP_328_X04-PBMC 0     ... 124           Leukemia    X04   PBMC      \n",
       "Leukemia:CHP_328_X05-PBMC 1     ...  35           Leukemia    X05   PBMC      \n",
       "Leukemia:CHP_331_X04-PBMC 0     ...   6           Leukemia    X04   PBMC      \n",
       "Leukemia:CHP_331_X05-PBMC 0     ...  37           Leukemia    X05   PBMC      \n",
       "                          cyclenum Patient Age converg  gliph_div gliph_div_log\n",
       "Leukemia:CHP_323_X03-PBMC 3        CHP_323 1   26.66667 18.048    1.256429     \n",
       "Leukemia:CHP_323_X05-PBMC 5        CHP_323 1   23.52941 49.104    1.691117     \n",
       "Leukemia:CHP_328_X04-PBMC 4        CHP_328 7   27.31278 71.383    1.853595     \n",
       "Leukemia:CHP_328_X05-PBMC 5        CHP_328 7   22.87582 31.984    1.504933     \n",
       "Leukemia:CHP_331_X04-PBMC 4        CHP_331 5   16.66667 11.391    1.056562     \n",
       "Leukemia:CHP_331_X05-PBMC 5        CHP_331 5   23.56688 31.453    1.497662     "
      ]
     },
     "metadata": {},
     "output_type": "display_data"
    }
   ],
   "source": [
    "head(sampletype)"
   ]
  },
  {
   "cell_type": "code",
   "execution_count": 135,
   "metadata": {
    "vscode": {
     "languageId": "r"
    }
   },
   "outputs": [],
   "source": [
    "sampletype$Cycle <- as.character(sampletype$cyclenum)"
   ]
  },
  {
   "cell_type": "code",
   "execution_count": 137,
   "metadata": {
    "vscode": {
     "languageId": "r"
    }
   },
   "outputs": [],
   "source": [
    "mysig <- myctrt_grp\n",
    "mysig <- mysig[ mysig$p.value < 0.05,]\n",
    "mysig$p.val <- sapply(mysig$p.value, function(x) round_and_format(x) )"
   ]
  },
  {
   "cell_type": "code",
   "execution_count": 138,
   "metadata": {
    "vscode": {
     "languageId": "r"
    }
   },
   "outputs": [
    {
     "name": "stderr",
     "output_type": "stream",
     "text": [
      "Warning message in geom_signif(data = mysig, aes(xmin = \"1\", xmax = Cycle, annotations = p.val, :\n",
      "\"\u001b[1m\u001b[22mIgnoring unknown aesthetics: \u001b[32mxmin\u001b[39m, \u001b[32mxmax\u001b[39m, \u001b[32mannotations\u001b[39m, and \u001b[32my_position\u001b[39m\"\n"
     ]
    }
   ],
   "source": [
    "p2 <- baseplot.fx(mydf = sampletype, x = \"Cycle\", y = \"gliph_div_log\", fill = \"cancergroup\", clr = \"cancergroup\", colpal = group_col) +\n",
    "    geom_errorbar(data = mylsm_grp, aes(x = Cycle, y = lsmean, ymin = lower.CL, ymax = upper.CL), color = \"black\", width = 0.2) +\n",
    "    geom_point(data = mylsm_grp, aes(x = Cycle, y = lsmean), color = \"black\", shape = 18, size = 3) +\n",
    "    geom_signif(\n",
    "            data = mysig,\n",
    "            aes(xmin = \"1\", xmax = Cycle, annotations = p.val, y_position = c(2.7,2.7)),\n",
    "            textsize = 3, vjust = -0.2, color = \"black\",\n",
    "            manual = TRUE\n",
    "        ) +\n",
    "    annotation_logticks(sides = \"l\") + scale_y_continuous(breaks = log10(c(0,10,100,500)), labels = c(0,10,100,500) ) +\n",
    "    facet_wrap(~cancergroup, nrow = 1, scales = \"fixed\", strip.position = \"top\") +\n",
    "    theme(\n",
    "        axis.title.x = element_blank(),\n",
    "        legend.position = \"none\",\n",
    "        strip.background.x = element_blank(),\n",
    "        strip.placement = \"outside\"\n",
    "    ) + ylab(\" GLIPH Simpson diversity\")"
   ]
  },
  {
   "cell_type": "code",
   "execution_count": 139,
   "metadata": {
    "vscode": {
     "languageId": "r"
    }
   },
   "outputs": [
    {
     "data": {
      "image/png": "[encoded data removed]",
      "text/plain": [
       "plot without title"
      ]
     },
     "metadata": {
      "image/png": {
       "height": 420,
       "width": 420
      }
     },
     "output_type": "display_data"
    }
   ],
   "source": [
    "p2 "
   ]
  },
  {
   "cell_type": "code",
   "execution_count": 140,
   "metadata": {
    "vscode": {
     "languageId": "r"
    }
   },
   "outputs": [
    {
     "data": {
      "text/html": [
       "<strong>pdf:</strong> 2"
      ],
      "text/latex": [
       "\\textbf{pdf:} 2"
      ],
      "text/markdown": [
       "**pdf:** 2"
      ],
      "text/plain": [
       "pdf \n",
       "  2 "
      ]
     },
     "metadata": {},
     "output_type": "display_data"
    }
   ],
   "source": [
    "pdf(paste0(plotpath, \"p_gliph_simpdiv_lsmeans.pdf\"), width = 5, height = 3)\n",
    "p2 #+  annotation_logticks(sides = \"l\") + scale_y_continuous(breaks = log10(c(0,10,100,500)), labels = c(0,10,100,500) )\n",
    "dev.off()"
   ]
  },
  {
   "cell_type": "markdown",
   "metadata": {},
   "source": [
    "## 2.2 Components"
   ]
  },
  {
   "cell_type": "code",
   "execution_count": 141,
   "metadata": {
    "vscode": {
     "languageId": "r"
    }
   },
   "outputs": [
    {
     "data": {
      "text/html": [
       "'/Users/anabbi/Desktop/H4H/INTERCEPT/analysis/GLIPH/run_gliph/'"
      ],
      "text/latex": [
       "'/Users/anabbi/Desktop/H4H/INTERCEPT/analysis/GLIPH/run\\_gliph/'"
      ],
      "text/markdown": [
       "'/Users/anabbi/Desktop/H4H/INTERCEPT/analysis/GLIPH/run_gliph/'"
      ],
      "text/plain": [
       "[1] \"/Users/anabbi/Desktop/H4H/INTERCEPT/analysis/GLIPH/run_gliph/\""
      ]
     },
     "metadata": {},
     "output_type": "display_data"
    }
   ],
   "source": [
    "h4hpath"
   ]
  },
  {
   "cell_type": "code",
   "execution_count": 142,
   "metadata": {
    "vscode": {
     "languageId": "r"
    }
   },
   "outputs": [
    {
     "name": "stderr",
     "output_type": "stream",
     "text": [
      "\u001b[1mRows: \u001b[22m\u001b[34m319\u001b[39m \u001b[1mColumns: \u001b[22m\u001b[34m10\u001b[39m\n",
      "\u001b[36m--\u001b[39m \u001b[1mColumn specification\u001b[22m \u001b[36m--------------------------------------------------------\u001b[39m\n",
      "\u001b[1mDelimiter:\u001b[22m \",\"\n",
      "\u001b[31mchr\u001b[39m (5): PatientDerived_Nodes, Sample_Type_Range, Timepoint_Range, Component...\n",
      "\u001b[32mdbl\u001b[39m (5): Component_id, Component_size, NumberOf_PatientDerived_Nodes, Number...\n",
      "\n",
      "\u001b[36mi\u001b[39m Use `spec()` to retrieve the full column specification for this data.\n",
      "\u001b[36mi\u001b[39m Specify the column types or set `show_col_types = FALSE` to quiet this message.\n"
     ]
    }
   ],
   "source": [
    "components <- readr::read_csv(paste0(h4hpath, \"v5/gliph_downstream_output/INTERCEPT_CDR3_GLIPHII_Component_Stats.csv\"))"
   ]
  },
  {
   "cell_type": "code",
   "execution_count": 143,
   "metadata": {
    "vscode": {
     "languageId": "r"
    }
   },
   "outputs": [],
   "source": [
    "components_sep <- tidyr::separate_rows(components, PatientDerived_Nodes, sep = \",\")"
   ]
  },
  {
   "cell_type": "code",
   "execution_count": 144,
   "metadata": {
    "vscode": {
     "languageId": "r"
    }
   },
   "outputs": [],
   "source": [
    "components_sep$CDR3 <- gsub(\"_(.*)$\",\"\", components_sep$PatientDerived_Nodes)\n",
    "components_sep$Sample <- gsub(\"^[^_]*_\",\"\", components_sep$PatientDerived_Nodes)"
   ]
  },
  {
   "cell_type": "code",
   "execution_count": 146,
   "metadata": {
    "vscode": {
     "languageId": "r"
    }
   },
   "outputs": [],
   "source": [
    "# add diversity of gliph groups\n",
    "for (i in 1:nrow(samples_tcr)) {\n",
    "  mypt <- components_sep[ components_sep$Sample == rownames(samples_tcr)[i], ]\n",
    "if(nrow(mypt) == 0) {\n",
    "  samples_tcr$n_comp[i] <- NA\n",
    "} else {\n",
    "  samples_tcr$n_comp[i] <- length(unique(mypt$Component_id))\n",
    "} \n",
    "}"
   ]
  },
  {
   "cell_type": "code",
   "execution_count": 148,
   "metadata": {
    "vscode": {
     "languageId": "r"
    }
   },
   "outputs": [],
   "source": [
    "gliph_out$cdr3_sample <- paste(gliph_out$TcRb, gliph_out$Sample, sep = \"_\") # original gliph output to include those cdr3s that are in input but we removed for super small gliph groups in dataframe tmp"
   ]
  },
  {
   "cell_type": "code",
   "execution_count": 149,
   "metadata": {
    "vscode": {
     "languageId": "r"
    }
   },
   "outputs": [],
   "source": [
    "components_sep$Freq <- gliph_out$Freq[ match(components_sep$PatientDerived_Nodes, gliph_out$cdr3_sample)]"
   ]
  },
  {
   "cell_type": "code",
   "execution_count": 150,
   "metadata": {
    "vscode": {
     "languageId": "r"
    }
   },
   "outputs": [
    {
     "name": "stderr",
     "output_type": "stream",
     "text": [
      "Warning message in BootstrapFun.abun(x = x, FunName, datatype, B):\n",
      "\"The Bootstrap community has only one species. Estimation is not robust.\"\n",
      "Warning message in max(x[-1] > 1):\n",
      "\"no non-missing arguments to max; returning -Inf\"\n",
      "Warning message in BootstrapFun.abun(x = x, FunName, datatype, B):\n",
      "\"The Bootstrap community has only one species. Estimation is not robust.\"\n",
      "Warning message in BootstrapFun.abun(x = x, FunName, datatype, B):\n",
      "\"The Bootstrap community has only one species. Estimation is not robust.\"\n",
      "Warning message in max(x[-1] > 1):\n",
      "\"no non-missing arguments to max; returning -Inf\"\n",
      "Warning message in BootstrapFun.abun(x = x, FunName, datatype, B):\n",
      "\"The Bootstrap community has only one species. Estimation is not robust.\"\n",
      "Warning message in BootstrapFun.abun(x = x, FunName, datatype, B):\n",
      "\"The Bootstrap community has only one species. Estimation is not robust.\"\n",
      "Warning message in max(x[-1] > 1):\n",
      "\"no non-missing arguments to max; returning -Inf\"\n",
      "Warning message in BootstrapFun.abun(x = x, FunName, datatype, B):\n",
      "\"The Bootstrap community has only one species. Estimation is not robust.\"\n",
      "Warning message in BootstrapFun.abun(x = x, FunName, datatype, B):\n",
      "\"The Bootstrap community has only one species. Estimation is not robust.\"\n",
      "Warning message in max(x[-1] > 1):\n",
      "\"no non-missing arguments to max; returning -Inf\"\n",
      "Warning message in BootstrapFun.abun(x = x, FunName, datatype, B):\n",
      "\"The Bootstrap community has only one species. Estimation is not robust.\"\n",
      "Warning message in BootstrapFun.abun(x = x, FunName, datatype, B):\n",
      "\"The Bootstrap community has only one species. Estimation is not robust.\"\n",
      "Warning message in max(x[-1] > 1):\n",
      "\"no non-missing arguments to max; returning -Inf\"\n",
      "Warning message in BootstrapFun.abun(x = x, FunName, datatype, B):\n",
      "\"The Bootstrap community has only one species. Estimation is not robust.\"\n",
      "Warning message in BootstrapFun.abun(x = x, FunName, datatype, B):\n",
      "\"The Bootstrap community has only one species. Estimation is not robust.\"\n",
      "Warning message in max(x[-1] > 1):\n",
      "\"no non-missing arguments to max; returning -Inf\"\n",
      "Warning message in BootstrapFun.abun(x = x, FunName, datatype, B):\n",
      "\"The Bootstrap community has only one species. Estimation is not robust.\"\n",
      "Warning message in BootstrapFun.abun(x = x, FunName, datatype, B):\n",
      "\"The Bootstrap community has only one species. Estimation is not robust.\"\n",
      "Warning message in max(x[-1] > 1):\n",
      "\"no non-missing arguments to max; returning -Inf\"\n",
      "Warning message in BootstrapFun.abun(x = x, FunName, datatype, B):\n",
      "\"The Bootstrap community has only one species. Estimation is not robust.\"\n",
      "Warning message in BootstrapFun.abun(x = x, FunName, datatype, B):\n",
      "\"The Bootstrap community has only one species. Estimation is not robust.\"\n",
      "Warning message in max(x[-1] > 1):\n",
      "\"no non-missing arguments to max; returning -Inf\"\n",
      "Warning message in BootstrapFun.abun(x = x, FunName, datatype, B):\n",
      "\"The Bootstrap community has only one species. Estimation is not robust.\"\n",
      "Warning message in BootstrapFun.abun(x = x, FunName, datatype, B):\n",
      "\"The Bootstrap community has only one species. Estimation is not robust.\"\n",
      "Warning message in max(x[-1] > 1):\n",
      "\"no non-missing arguments to max; returning -Inf\"\n",
      "Warning message in BootstrapFun.abun(x = x, FunName, datatype, B):\n",
      "\"The Bootstrap community has only one species. Estimation is not robust.\"\n",
      "Warning message in BootstrapFun.abun(x = x, FunName, datatype, B):\n",
      "\"The Bootstrap community has only one species. Estimation is not robust.\"\n",
      "Warning message in max(x[-1] > 1):\n",
      "\"no non-missing arguments to max; returning -Inf\"\n",
      "Warning message in BootstrapFun.abun(x = x, FunName, datatype, B):\n",
      "\"The Bootstrap community has only one species. Estimation is not robust.\"\n",
      "Warning message in BootstrapFun.abun(x = x, FunName, datatype, B):\n",
      "\"The Bootstrap community has only one species. Estimation is not robust.\"\n",
      "Warning message in max(x[-1] > 1):\n",
      "\"no non-missing arguments to max; returning -Inf\"\n",
      "Warning message in BootstrapFun.abun(x = x, FunName, datatype, B):\n",
      "\"The Bootstrap community has only one species. Estimation is not robust.\"\n",
      "Warning message in BootstrapFun.abun(x = x, FunName, datatype, B):\n",
      "\"The Bootstrap community has only one species. Estimation is not robust.\"\n",
      "Warning message in max(x[-1] > 1):\n",
      "\"no non-missing arguments to max; returning -Inf\"\n",
      "Warning message in BootstrapFun.abun(x = x, FunName, datatype, B):\n",
      "\"The Bootstrap community has only one species. Estimation is not robust.\"\n",
      "Warning message in BootstrapFun.abun(x = x, FunName, datatype, B):\n",
      "\"The Bootstrap community has only one species. Estimation is not robust.\"\n",
      "Warning message in max(x[-1] > 1):\n",
      "\"no non-missing arguments to max; returning -Inf\"\n",
      "Warning message in BootstrapFun.abun(x = x, FunName, datatype, B):\n",
      "\"The Bootstrap community has only one species. Estimation is not robust.\"\n",
      "Warning message in BootstrapFun.abun(x = x, FunName, datatype, B):\n",
      "\"The Bootstrap community has only one species. Estimation is not robust.\"\n",
      "Warning message in max(x[-1] > 1):\n",
      "\"no non-missing arguments to max; returning -Inf\"\n",
      "Warning message in BootstrapFun.abun(x = x, FunName, datatype, B):\n",
      "\"The Bootstrap community has only one species. Estimation is not robust.\"\n",
      "Warning message in BootstrapFun.abun(x = x, FunName, datatype, B):\n",
      "\"The Bootstrap community has only one species. Estimation is not robust.\"\n",
      "Warning message in max(x[-1] > 1):\n",
      "\"no non-missing arguments to max; returning -Inf\"\n",
      "Warning message in BootstrapFun.abun(x = x, FunName, datatype, B):\n",
      "\"The Bootstrap community has only one species. Estimation is not robust.\"\n",
      "Warning message in BootstrapFun.abun(x = x, FunName, datatype, B):\n",
      "\"The Bootstrap community has only one species. Estimation is not robust.\"\n",
      "Warning message in max(x[-1] > 1):\n",
      "\"no non-missing arguments to max; returning -Inf\"\n",
      "Warning message in BootstrapFun.abun(x = x, FunName, datatype, B):\n",
      "\"The Bootstrap community has only one species. Estimation is not robust.\"\n",
      "Warning message in BootstrapFun.abun(x = x, FunName, datatype, B):\n",
      "\"The Bootstrap community has only one species. Estimation is not robust.\"\n",
      "Warning message in max(x[-1] > 1):\n",
      "\"no non-missing arguments to max; returning -Inf\"\n",
      "Warning message in BootstrapFun.abun(x = x, FunName, datatype, B):\n",
      "\"The Bootstrap community has only one species. Estimation is not robust.\"\n",
      "Warning message in BootstrapFun.abun(x = x, FunName, datatype, B):\n",
      "\"The Bootstrap community has only one species. Estimation is not robust.\"\n",
      "Warning message in max(x[-1] > 1):\n",
      "\"no non-missing arguments to max; returning -Inf\"\n",
      "Warning message in BootstrapFun.abun(x = x, FunName, datatype, B):\n",
      "\"The Bootstrap community has only one species. Estimation is not robust.\"\n",
      "Warning message in BootstrapFun.abun(x = x, FunName, datatype, B):\n",
      "\"The Bootstrap community has only one species. Estimation is not robust.\"\n",
      "Warning message in max(x[-1] > 1):\n",
      "\"no non-missing arguments to max; returning -Inf\"\n",
      "Warning message in BootstrapFun.abun(x = x, FunName, datatype, B):\n",
      "\"The Bootstrap community has only one species. Estimation is not robust.\"\n",
      "Warning message in BootstrapFun.abun(x = x, FunName, datatype, B):\n",
      "\"The Bootstrap community has only one species. Estimation is not robust.\"\n",
      "Warning message in max(x[-1] > 1):\n",
      "\"no non-missing arguments to max; returning -Inf\"\n",
      "Warning message in BootstrapFun.abun(x = x, FunName, datatype, B):\n",
      "\"The Bootstrap community has only one species. Estimation is not robust.\"\n",
      "Warning message in BootstrapFun.abun(x = x, FunName, datatype, B):\n",
      "\"The Bootstrap community has only one species. Estimation is not robust.\"\n",
      "Warning message in max(x[-1] > 1):\n",
      "\"no non-missing arguments to max; returning -Inf\"\n",
      "Warning message in BootstrapFun.abun(x = x, FunName, datatype, B):\n",
      "\"The Bootstrap community has only one species. Estimation is not robust.\"\n",
      "Warning message in BootstrapFun.abun(x = x, FunName, datatype, B):\n",
      "\"The Bootstrap community has only one species. Estimation is not robust.\"\n",
      "Warning message in max(x[-1] > 1):\n",
      "\"no non-missing arguments to max; returning -Inf\"\n",
      "Warning message in BootstrapFun.abun(x = x, FunName, datatype, B):\n",
      "\"The Bootstrap community has only one species. Estimation is not robust.\"\n",
      "Warning message in BootstrapFun.abun(x = x, FunName, datatype, B):\n",
      "\"The Bootstrap community has only one species. Estimation is not robust.\"\n",
      "Warning message in max(x[-1] > 1):\n",
      "\"no non-missing arguments to max; returning -Inf\"\n",
      "Warning message in BootstrapFun.abun(x = x, FunName, datatype, B):\n",
      "\"The Bootstrap community has only one species. Estimation is not robust.\"\n",
      "Warning message in BootstrapFun.abun(x = x, FunName, datatype, B):\n",
      "\"The Bootstrap community has only one species. Estimation is not robust.\"\n",
      "Warning message in max(x[-1] > 1):\n",
      "\"no non-missing arguments to max; returning -Inf\"\n",
      "Warning message in BootstrapFun.abun(x = x, FunName, datatype, B):\n",
      "\"The Bootstrap community has only one species. Estimation is not robust.\"\n",
      "Warning message in BootstrapFun.abun(x = x, FunName, datatype, B):\n",
      "\"The Bootstrap community has only one species. Estimation is not robust.\"\n",
      "Warning message in max(x[-1] > 1):\n",
      "\"no non-missing arguments to max; returning -Inf\"\n",
      "Warning message in BootstrapFun.abun(x = x, FunName, datatype, B):\n",
      "\"The Bootstrap community has only one species. Estimation is not robust.\"\n",
      "Warning message in BootstrapFun.abun(x = x, FunName, datatype, B):\n",
      "\"The Bootstrap community has only one species. Estimation is not robust.\"\n",
      "Warning message in max(x[-1] > 1):\n",
      "\"no non-missing arguments to max; returning -Inf\"\n",
      "Warning message in BootstrapFun.abun(x = x, FunName, datatype, B):\n",
      "\"The Bootstrap community has only one species. Estimation is not robust.\"\n",
      "Warning message in BootstrapFun.abun(x = x, FunName, datatype, B):\n",
      "\"The Bootstrap community has only one species. Estimation is not robust.\"\n",
      "Warning message in max(x[-1] > 1):\n",
      "\"no non-missing arguments to max; returning -Inf\"\n",
      "Warning message in BootstrapFun.abun(x = x, FunName, datatype, B):\n",
      "\"The Bootstrap community has only one species. Estimation is not robust.\"\n",
      "Warning message in BootstrapFun.abun(x = x, FunName, datatype, B):\n",
      "\"The Bootstrap community has only one species. Estimation is not robust.\"\n",
      "Warning message in max(x[-1] > 1):\n",
      "\"no non-missing arguments to max; returning -Inf\"\n",
      "Warning message in BootstrapFun.abun(x = x, FunName, datatype, B):\n",
      "\"The Bootstrap community has only one species. Estimation is not robust.\"\n",
      "Warning message in BootstrapFun.abun(x = x, FunName, datatype, B):\n",
      "\"The Bootstrap community has only one species. Estimation is not robust.\"\n",
      "Warning message in max(x[-1] > 1):\n",
      "\"no non-missing arguments to max; returning -Inf\"\n",
      "Warning message in BootstrapFun.abun(x = x, FunName, datatype, B):\n",
      "\"The Bootstrap community has only one species. Estimation is not robust.\"\n",
      "Warning message in BootstrapFun.abun(x = x, FunName, datatype, B):\n",
      "\"The Bootstrap community has only one species. Estimation is not robust.\"\n",
      "Warning message in max(x[-1] > 1):\n",
      "\"no non-missing arguments to max; returning -Inf\"\n",
      "Warning message in BootstrapFun.abun(x = x, FunName, datatype, B):\n",
      "\"The Bootstrap community has only one species. Estimation is not robust.\"\n",
      "Warning message in BootstrapFun.abun(x = x, FunName, datatype, B):\n",
      "\"The Bootstrap community has only one species. Estimation is not robust.\"\n",
      "Warning message in max(x[-1] > 1):\n",
      "\"no non-missing arguments to max; returning -Inf\"\n",
      "Warning message in BootstrapFun.abun(x = x, FunName, datatype, B):\n",
      "\"The Bootstrap community has only one species. Estimation is not robust.\"\n",
      "Warning message in BootstrapFun.abun(x = x, FunName, datatype, B):\n",
      "\"The Bootstrap community has only one species. Estimation is not robust.\"\n",
      "Warning message in max(x[-1] > 1):\n",
      "\"no non-missing arguments to max; returning -Inf\"\n",
      "Warning message in BootstrapFun.abun(x = x, FunName, datatype, B):\n",
      "\"The Bootstrap community has only one species. Estimation is not robust.\"\n",
      "Warning message in BootstrapFun.abun(x = x, FunName, datatype, B):\n",
      "\"The Bootstrap community has only one species. Estimation is not robust.\"\n",
      "Warning message in max(x[-1] > 1):\n",
      "\"no non-missing arguments to max; returning -Inf\"\n",
      "Warning message in BootstrapFun.abun(x = x, FunName, datatype, B):\n",
      "\"The Bootstrap community has only one species. Estimation is not robust.\"\n",
      "Warning message in BootstrapFun.abun(x = x, FunName, datatype, B):\n",
      "\"The Bootstrap community has only one species. Estimation is not robust.\"\n",
      "Warning message in max(x[-1] > 1):\n",
      "\"no non-missing arguments to max; returning -Inf\"\n",
      "Warning message in BootstrapFun.abun(x = x, FunName, datatype, B):\n",
      "\"The Bootstrap community has only one species. Estimation is not robust.\"\n",
      "Warning message in BootstrapFun.abun(x = x, FunName, datatype, B):\n",
      "\"The Bootstrap community has only one species. Estimation is not robust.\"\n",
      "Warning message in max(x[-1] > 1):\n",
      "\"no non-missing arguments to max; returning -Inf\"\n",
      "Warning message in BootstrapFun.abun(x = x, FunName, datatype, B):\n",
      "\"The Bootstrap community has only one species. Estimation is not robust.\"\n",
      "Warning message in BootstrapFun.abun(x = x, FunName, datatype, B):\n",
      "\"The Bootstrap community has only one species. Estimation is not robust.\"\n",
      "Warning message in max(x[-1] > 1):\n",
      "\"no non-missing arguments to max; returning -Inf\"\n",
      "Warning message in BootstrapFun.abun(x = x, FunName, datatype, B):\n",
      "\"The Bootstrap community has only one species. Estimation is not robust.\"\n",
      "Warning message in BootstrapFun.abun(x = x, FunName, datatype, B):\n",
      "\"The Bootstrap community has only one species. Estimation is not robust.\"\n",
      "Warning message in max(x[-1] > 1):\n",
      "\"no non-missing arguments to max; returning -Inf\"\n",
      "Warning message in BootstrapFun.abun(x = x, FunName, datatype, B):\n",
      "\"The Bootstrap community has only one species. Estimation is not robust.\"\n",
      "Warning message in BootstrapFun.abun(x = x, FunName, datatype, B):\n",
      "\"The Bootstrap community has only one species. Estimation is not robust.\"\n",
      "Warning message in max(x[-1] > 1):\n",
      "\"no non-missing arguments to max; returning -Inf\"\n",
      "Warning message in BootstrapFun.abun(x = x, FunName, datatype, B):\n",
      "\"The Bootstrap community has only one species. Estimation is not robust.\"\n",
      "Warning message in BootstrapFun.abun(x = x, FunName, datatype, B):\n",
      "\"The Bootstrap community has only one species. Estimation is not robust.\"\n",
      "Warning message in max(x[-1] > 1):\n",
      "\"no non-missing arguments to max; returning -Inf\"\n",
      "Warning message in BootstrapFun.abun(x = x, FunName, datatype, B):\n",
      "\"The Bootstrap community has only one species. Estimation is not robust.\"\n",
      "Warning message in BootstrapFun.abun(x = x, FunName, datatype, B):\n",
      "\"The Bootstrap community has only one species. Estimation is not robust.\"\n",
      "Warning message in max(x[-1] > 1):\n",
      "\"no non-missing arguments to max; returning -Inf\"\n",
      "Warning message in BootstrapFun.abun(x = x, FunName, datatype, B):\n",
      "\"The Bootstrap community has only one species. Estimation is not robust.\"\n",
      "Warning message in BootstrapFun.abun(x = x, FunName, datatype, B):\n",
      "\"The Bootstrap community has only one species. Estimation is not robust.\"\n",
      "Warning message in max(x[-1] > 1):\n",
      "\"no non-missing arguments to max; returning -Inf\"\n",
      "Warning message in BootstrapFun.abun(x = x, FunName, datatype, B):\n",
      "\"The Bootstrap community has only one species. Estimation is not robust.\"\n",
      "Warning message in BootstrapFun.abun(x = x, FunName, datatype, B):\n",
      "\"The Bootstrap community has only one species. Estimation is not robust.\"\n",
      "Warning message in max(x[-1] > 1):\n",
      "\"no non-missing arguments to max; returning -Inf\"\n",
      "Warning message in BootstrapFun.abun(x = x, FunName, datatype, B):\n",
      "\"The Bootstrap community has only one species. Estimation is not robust.\"\n",
      "Warning message in BootstrapFun.abun(x = x, FunName, datatype, B):\n",
      "\"The Bootstrap community has only one species. Estimation is not robust.\"\n",
      "Warning message in max(x[-1] > 1):\n",
      "\"no non-missing arguments to max; returning -Inf\"\n",
      "Warning message in BootstrapFun.abun(x = x, FunName, datatype, B):\n",
      "\"The Bootstrap community has only one species. Estimation is not robust.\"\n",
      "Warning message in BootstrapFun.abun(x = x, FunName, datatype, B):\n",
      "\"The Bootstrap community has only one species. Estimation is not robust.\"\n",
      "Warning message in max(x[-1] > 1):\n",
      "\"no non-missing arguments to max; returning -Inf\"\n",
      "Warning message in BootstrapFun.abun(x = x, FunName, datatype, B):\n",
      "\"The Bootstrap community has only one species. Estimation is not robust.\"\n",
      "Warning message in BootstrapFun.abun(x = x, FunName, datatype, B):\n",
      "\"The Bootstrap community has only one species. Estimation is not robust.\"\n",
      "Warning message in max(x[-1] > 1):\n",
      "\"no non-missing arguments to max; returning -Inf\"\n",
      "Warning message in BootstrapFun.abun(x = x, FunName, datatype, B):\n",
      "\"The Bootstrap community has only one species. Estimation is not robust.\"\n",
      "Warning message in BootstrapFun.abun(x = x, FunName, datatype, B):\n",
      "\"The Bootstrap community has only one species. Estimation is not robust.\"\n",
      "Warning message in max(x[-1] > 1):\n",
      "\"no non-missing arguments to max; returning -Inf\"\n",
      "Warning message in BootstrapFun.abun(x = x, FunName, datatype, B):\n",
      "\"The Bootstrap community has only one species. Estimation is not robust.\"\n",
      "Warning message in BootstrapFun.abun(x = x, FunName, datatype, B):\n",
      "\"The Bootstrap community has only one species. Estimation is not robust.\"\n",
      "Warning message in max(x[-1] > 1):\n",
      "\"no non-missing arguments to max; returning -Inf\"\n",
      "Warning message in BootstrapFun.abun(x = x, FunName, datatype, B):\n",
      "\"The Bootstrap community has only one species. Estimation is not robust.\"\n",
      "Warning message in BootstrapFun.abun(x = x, FunName, datatype, B):\n",
      "\"The Bootstrap community has only one species. Estimation is not robust.\"\n",
      "Warning message in max(x[-1] > 1):\n",
      "\"no non-missing arguments to max; returning -Inf\"\n",
      "Warning message in BootstrapFun.abun(x = x, FunName, datatype, B):\n",
      "\"The Bootstrap community has only one species. Estimation is not robust.\"\n",
      "Warning message in BootstrapFun.abun(x = x, FunName, datatype, B):\n",
      "\"The Bootstrap community has only one species. Estimation is not robust.\"\n",
      "Warning message in max(x[-1] > 1):\n",
      "\"no non-missing arguments to max; returning -Inf\"\n",
      "Warning message in BootstrapFun.abun(x = x, FunName, datatype, B):\n",
      "\"The Bootstrap community has only one species. Estimation is not robust.\"\n",
      "Warning message in BootstrapFun.abun(x = x, FunName, datatype, B):\n",
      "\"The Bootstrap community has only one species. Estimation is not robust.\"\n",
      "Warning message in max(x[-1] > 1):\n",
      "\"no non-missing arguments to max; returning -Inf\"\n",
      "Warning message in BootstrapFun.abun(x = x, FunName, datatype, B):\n",
      "\"The Bootstrap community has only one species. Estimation is not robust.\"\n",
      "Warning message in BootstrapFun.abun(x = x, FunName, datatype, B):\n",
      "\"The Bootstrap community has only one species. Estimation is not robust.\"\n",
      "Warning message in max(x[-1] > 1):\n",
      "\"no non-missing arguments to max; returning -Inf\"\n",
      "Warning message in BootstrapFun.abun(x = x, FunName, datatype, B):\n",
      "\"The Bootstrap community has only one species. Estimation is not robust.\"\n",
      "Warning message in BootstrapFun.abun(x = x, FunName, datatype, B):\n",
      "\"The Bootstrap community has only one species. Estimation is not robust.\"\n",
      "Warning message in max(x[-1] > 1):\n",
      "\"no non-missing arguments to max; returning -Inf\"\n",
      "Warning message in BootstrapFun.abun(x = x, FunName, datatype, B):\n",
      "\"The Bootstrap community has only one species. Estimation is not robust.\"\n",
      "Warning message in BootstrapFun.abun(x = x, FunName, datatype, B):\n",
      "\"The Bootstrap community has only one species. Estimation is not robust.\"\n",
      "Warning message in max(x[-1] > 1):\n",
      "\"no non-missing arguments to max; returning -Inf\"\n",
      "Warning message in BootstrapFun.abun(x = x, FunName, datatype, B):\n",
      "\"The Bootstrap community has only one species. Estimation is not robust.\"\n",
      "Warning message in BootstrapFun.abun(x = x, FunName, datatype, B):\n",
      "\"The Bootstrap community has only one species. Estimation is not robust.\"\n",
      "Warning message in max(x[-1] > 1):\n",
      "\"no non-missing arguments to max; returning -Inf\"\n",
      "Warning message in BootstrapFun.abun(x = x, FunName, datatype, B):\n",
      "\"The Bootstrap community has only one species. Estimation is not robust.\"\n",
      "Warning message in BootstrapFun.abun(x = x, FunName, datatype, B):\n",
      "\"The Bootstrap community has only one species. Estimation is not robust.\"\n",
      "Warning message in max(x[-1] > 1):\n",
      "\"no non-missing arguments to max; returning -Inf\"\n",
      "Warning message in BootstrapFun.abun(x = x, FunName, datatype, B):\n",
      "\"The Bootstrap community has only one species. Estimation is not robust.\"\n",
      "Warning message in BootstrapFun.abun(x = x, FunName, datatype, B):\n",
      "\"The Bootstrap community has only one species. Estimation is not robust.\"\n",
      "Warning message in max(x[-1] > 1):\n",
      "\"no non-missing arguments to max; returning -Inf\"\n",
      "Warning message in BootstrapFun.abun(x = x, FunName, datatype, B):\n",
      "\"The Bootstrap community has only one species. Estimation is not robust.\"\n",
      "Warning message in BootstrapFun.abun(x = x, FunName, datatype, B):\n",
      "\"The Bootstrap community has only one species. Estimation is not robust.\"\n",
      "Warning message in max(x[-1] > 1):\n",
      "\"no non-missing arguments to max; returning -Inf\"\n",
      "Warning message in BootstrapFun.abun(x = x, FunName, datatype, B):\n",
      "\"The Bootstrap community has only one species. Estimation is not robust.\"\n",
      "Warning message in BootstrapFun.abun(x = x, FunName, datatype, B):\n",
      "\"The Bootstrap community has only one species. Estimation is not robust.\"\n",
      "Warning message in max(x[-1] > 1):\n",
      "\"no non-missing arguments to max; returning -Inf\"\n",
      "Warning message in BootstrapFun.abun(x = x, FunName, datatype, B):\n",
      "\"The Bootstrap community has only one species. Estimation is not robust.\"\n",
      "Warning message in BootstrapFun.abun(x = x, FunName, datatype, B):\n",
      "\"The Bootstrap community has only one species. Estimation is not robust.\"\n",
      "Warning message in max(x[-1] > 1):\n",
      "\"no non-missing arguments to max; returning -Inf\"\n",
      "Warning message in BootstrapFun.abun(x = x, FunName, datatype, B):\n",
      "\"The Bootstrap community has only one species. Estimation is not robust.\"\n",
      "Warning message in BootstrapFun.abun(x = x, FunName, datatype, B):\n",
      "\"The Bootstrap community has only one species. Estimation is not robust.\"\n",
      "Warning message in max(x[-1] > 1):\n",
      "\"no non-missing arguments to max; returning -Inf\"\n",
      "Warning message in BootstrapFun.abun(x = x, FunName, datatype, B):\n",
      "\"The Bootstrap community has only one species. Estimation is not robust.\"\n",
      "Warning message in BootstrapFun.abun(x = x, FunName, datatype, B):\n",
      "\"The Bootstrap community has only one species. Estimation is not robust.\"\n",
      "Warning message in max(x[-1] > 1):\n",
      "\"no non-missing arguments to max; returning -Inf\"\n",
      "Warning message in BootstrapFun.abun(x = x, FunName, datatype, B):\n",
      "\"The Bootstrap community has only one species. Estimation is not robust.\"\n",
      "Warning message in BootstrapFun.abun(x = x, FunName, datatype, B):\n",
      "\"The Bootstrap community has only one species. Estimation is not robust.\"\n",
      "Warning message in max(x[-1] > 1):\n",
      "\"no non-missing arguments to max; returning -Inf\"\n",
      "Warning message in BootstrapFun.abun(x = x, FunName, datatype, B):\n",
      "\"The Bootstrap community has only one species. Estimation is not robust.\"\n",
      "Warning message in BootstrapFun.abun(x = x, FunName, datatype, B):\n",
      "\"The Bootstrap community has only one species. Estimation is not robust.\"\n",
      "Warning message in max(x[-1] > 1):\n",
      "\"no non-missing arguments to max; returning -Inf\"\n",
      "Warning message in BootstrapFun.abun(x = x, FunName, datatype, B):\n",
      "\"The Bootstrap community has only one species. Estimation is not robust.\"\n",
      "Warning message in BootstrapFun.abun(x = x, FunName, datatype, B):\n",
      "\"The Bootstrap community has only one species. Estimation is not robust.\"\n",
      "Warning message in max(x[-1] > 1):\n",
      "\"no non-missing arguments to max; returning -Inf\"\n",
      "Warning message in BootstrapFun.abun(x = x, FunName, datatype, B):\n",
      "\"The Bootstrap community has only one species. Estimation is not robust.\"\n",
      "Warning message in BootstrapFun.abun(x = x, FunName, datatype, B):\n",
      "\"The Bootstrap community has only one species. Estimation is not robust.\"\n",
      "Warning message in max(x[-1] > 1):\n",
      "\"no non-missing arguments to max; returning -Inf\"\n",
      "Warning message in BootstrapFun.abun(x = x, FunName, datatype, B):\n",
      "\"The Bootstrap community has only one species. Estimation is not robust.\"\n",
      "Warning message in BootstrapFun.abun(x = x, FunName, datatype, B):\n",
      "\"The Bootstrap community has only one species. Estimation is not robust.\"\n",
      "Warning message in max(x[-1] > 1):\n",
      "\"no non-missing arguments to max; returning -Inf\"\n",
      "Warning message in BootstrapFun.abun(x = x, FunName, datatype, B):\n",
      "\"The Bootstrap community has only one species. Estimation is not robust.\"\n",
      "Warning message in BootstrapFun.abun(x = x, FunName, datatype, B):\n",
      "\"The Bootstrap community has only one species. Estimation is not robust.\"\n",
      "Warning message in max(x[-1] > 1):\n",
      "\"no non-missing arguments to max; returning -Inf\"\n",
      "Warning message in BootstrapFun.abun(x = x, FunName, datatype, B):\n",
      "\"The Bootstrap community has only one species. Estimation is not robust.\"\n",
      "Warning message in BootstrapFun.abun(x = x, FunName, datatype, B):\n",
      "\"The Bootstrap community has only one species. Estimation is not robust.\"\n",
      "Warning message in max(x[-1] > 1):\n",
      "\"no non-missing arguments to max; returning -Inf\"\n",
      "Warning message in BootstrapFun.abun(x = x, FunName, datatype, B):\n",
      "\"The Bootstrap community has only one species. Estimation is not robust.\"\n",
      "Warning message in BootstrapFun.abun(x = x, FunName, datatype, B):\n",
      "\"The Bootstrap community has only one species. Estimation is not robust.\"\n",
      "Warning message in max(x[-1] > 1):\n",
      "\"no non-missing arguments to max; returning -Inf\"\n",
      "Warning message in BootstrapFun.abun(x = x, FunName, datatype, B):\n",
      "\"The Bootstrap community has only one species. Estimation is not robust.\"\n",
      "Warning message in BootstrapFun.abun(x = x, FunName, datatype, B):\n",
      "\"The Bootstrap community has only one species. Estimation is not robust.\"\n",
      "Warning message in max(x[-1] > 1):\n",
      "\"no non-missing arguments to max; returning -Inf\"\n",
      "Warning message in BootstrapFun.abun(x = x, FunName, datatype, B):\n",
      "\"The Bootstrap community has only one species. Estimation is not robust.\"\n",
      "Warning message in BootstrapFun.abun(x = x, FunName, datatype, B):\n",
      "\"The Bootstrap community has only one species. Estimation is not robust.\"\n",
      "Warning message in max(x[-1] > 1):\n",
      "\"no non-missing arguments to max; returning -Inf\"\n",
      "Warning message in BootstrapFun.abun(x = x, FunName, datatype, B):\n",
      "\"The Bootstrap community has only one species. Estimation is not robust.\"\n",
      "Warning message in BootstrapFun.abun(x = x, FunName, datatype, B):\n",
      "\"The Bootstrap community has only one species. Estimation is not robust.\"\n",
      "Warning message in max(x[-1] > 1):\n",
      "\"no non-missing arguments to max; returning -Inf\"\n",
      "Warning message in BootstrapFun.abun(x = x, FunName, datatype, B):\n",
      "\"The Bootstrap community has only one species. Estimation is not robust.\"\n",
      "Warning message in BootstrapFun.abun(x = x, FunName, datatype, B):\n",
      "\"The Bootstrap community has only one species. Estimation is not robust.\"\n",
      "Warning message in max(x[-1] > 1):\n",
      "\"no non-missing arguments to max; returning -Inf\"\n",
      "Warning message in BootstrapFun.abun(x = x, FunName, datatype, B):\n",
      "\"The Bootstrap community has only one species. Estimation is not robust.\"\n",
      "Warning message in BootstrapFun.abun(x = x, FunName, datatype, B):\n",
      "\"The Bootstrap community has only one species. Estimation is not robust.\"\n",
      "Warning message in max(x[-1] > 1):\n",
      "\"no non-missing arguments to max; returning -Inf\"\n",
      "Warning message in BootstrapFun.abun(x = x, FunName, datatype, B):\n",
      "\"The Bootstrap community has only one species. Estimation is not robust.\"\n",
      "Warning message in BootstrapFun.abun(x = x, FunName, datatype, B):\n",
      "\"The Bootstrap community has only one species. Estimation is not robust.\"\n",
      "Warning message in max(x[-1] > 1):\n",
      "\"no non-missing arguments to max; returning -Inf\"\n",
      "Warning message in BootstrapFun.abun(x = x, FunName, datatype, B):\n",
      "\"The Bootstrap community has only one species. Estimation is not robust.\"\n",
      "Warning message in BootstrapFun.abun(x = x, FunName, datatype, B):\n",
      "\"The Bootstrap community has only one species. Estimation is not robust.\"\n",
      "Warning message in max(x[-1] > 1):\n",
      "\"no non-missing arguments to max; returning -Inf\"\n",
      "Warning message in BootstrapFun.abun(x = x, FunName, datatype, B):\n",
      "\"The Bootstrap community has only one species. Estimation is not robust.\"\n",
      "Warning message in BootstrapFun.abun(x = x, FunName, datatype, B):\n",
      "\"The Bootstrap community has only one species. Estimation is not robust.\"\n",
      "Warning message in max(x[-1] > 1):\n",
      "\"no non-missing arguments to max; returning -Inf\"\n",
      "Warning message in BootstrapFun.abun(x = x, FunName, datatype, B):\n",
      "\"The Bootstrap community has only one species. Estimation is not robust.\"\n",
      "Warning message in BootstrapFun.abun(x = x, FunName, datatype, B):\n",
      "\"The Bootstrap community has only one species. Estimation is not robust.\"\n",
      "Warning message in max(x[-1] > 1):\n",
      "\"no non-missing arguments to max; returning -Inf\"\n",
      "Warning message in BootstrapFun.abun(x = x, FunName, datatype, B):\n",
      "\"The Bootstrap community has only one species. Estimation is not robust.\"\n",
      "Warning message in BootstrapFun.abun(x = x, FunName, datatype, B):\n",
      "\"The Bootstrap community has only one species. Estimation is not robust.\"\n",
      "Warning message in max(x[-1] > 1):\n",
      "\"no non-missing arguments to max; returning -Inf\"\n",
      "Warning message in BootstrapFun.abun(x = x, FunName, datatype, B):\n",
      "\"The Bootstrap community has only one species. Estimation is not robust.\"\n",
      "Warning message in BootstrapFun.abun(x = x, FunName, datatype, B):\n",
      "\"The Bootstrap community has only one species. Estimation is not robust.\"\n",
      "Warning message in max(x[-1] > 1):\n",
      "\"no non-missing arguments to max; returning -Inf\"\n",
      "Warning message in BootstrapFun.abun(x = x, FunName, datatype, B):\n",
      "\"The Bootstrap community has only one species. Estimation is not robust.\"\n",
      "Warning message in BootstrapFun.abun(x = x, FunName, datatype, B):\n",
      "\"The Bootstrap community has only one species. Estimation is not robust.\"\n",
      "Warning message in max(x[-1] > 1):\n",
      "\"no non-missing arguments to max; returning -Inf\"\n",
      "Warning message in BootstrapFun.abun(x = x, FunName, datatype, B):\n",
      "\"The Bootstrap community has only one species. Estimation is not robust.\"\n",
      "Warning message in BootstrapFun.abun(x = x, FunName, datatype, B):\n",
      "\"The Bootstrap community has only one species. Estimation is not robust.\"\n",
      "Warning message in max(x[-1] > 1):\n",
      "\"no non-missing arguments to max; returning -Inf\"\n",
      "Warning message in BootstrapFun.abun(x = x, FunName, datatype, B):\n",
      "\"The Bootstrap community has only one species. Estimation is not robust.\"\n",
      "Warning message in BootstrapFun.abun(x = x, FunName, datatype, B):\n",
      "\"The Bootstrap community has only one species. Estimation is not robust.\"\n",
      "Warning message in max(x[-1] > 1):\n",
      "\"no non-missing arguments to max; returning -Inf\"\n",
      "Warning message in BootstrapFun.abun(x = x, FunName, datatype, B):\n",
      "\"The Bootstrap community has only one species. Estimation is not robust.\"\n",
      "Warning message in BootstrapFun.abun(x = x, FunName, datatype, B):\n",
      "\"The Bootstrap community has only one species. Estimation is not robust.\"\n",
      "Warning message in max(x[-1] > 1):\n",
      "\"no non-missing arguments to max; returning -Inf\"\n",
      "Warning message in BootstrapFun.abun(x = x, FunName, datatype, B):\n",
      "\"The Bootstrap community has only one species. Estimation is not robust.\"\n",
      "Warning message in BootstrapFun.abun(x = x, FunName, datatype, B):\n",
      "\"The Bootstrap community has only one species. Estimation is not robust.\"\n",
      "Warning message in max(x[-1] > 1):\n",
      "\"no non-missing arguments to max; returning -Inf\"\n",
      "Warning message in BootstrapFun.abun(x = x, FunName, datatype, B):\n",
      "\"The Bootstrap community has only one species. Estimation is not robust.\"\n",
      "Warning message in BootstrapFun.abun(x = x, FunName, datatype, B):\n",
      "\"The Bootstrap community has only one species. Estimation is not robust.\"\n",
      "Warning message in max(x[-1] > 1):\n",
      "\"no non-missing arguments to max; returning -Inf\"\n",
      "Warning message in BootstrapFun.abun(x = x, FunName, datatype, B):\n",
      "\"The Bootstrap community has only one species. Estimation is not robust.\"\n",
      "Warning message in BootstrapFun.abun(x = x, FunName, datatype, B):\n",
      "\"The Bootstrap community has only one species. Estimation is not robust.\"\n",
      "Warning message in max(x[-1] > 1):\n",
      "\"no non-missing arguments to max; returning -Inf\"\n",
      "Warning message in BootstrapFun.abun(x = x, FunName, datatype, B):\n",
      "\"The Bootstrap community has only one species. Estimation is not robust.\"\n",
      "Warning message in BootstrapFun.abun(x = x, FunName, datatype, B):\n",
      "\"The Bootstrap community has only one species. Estimation is not robust.\"\n",
      "Warning message in max(x[-1] > 1):\n",
      "\"no non-missing arguments to max; returning -Inf\"\n",
      "Warning message in BootstrapFun.abun(x = x, FunName, datatype, B):\n",
      "\"The Bootstrap community has only one species. Estimation is not robust.\"\n",
      "Warning message in BootstrapFun.abun(x = x, FunName, datatype, B):\n",
      "\"The Bootstrap community has only one species. Estimation is not robust.\"\n",
      "Warning message in max(x[-1] > 1):\n",
      "\"no non-missing arguments to max; returning -Inf\"\n",
      "Warning message in BootstrapFun.abun(x = x, FunName, datatype, B):\n",
      "\"The Bootstrap community has only one species. Estimation is not robust.\"\n",
      "Warning message in BootstrapFun.abun(x = x, FunName, datatype, B):\n",
      "\"The Bootstrap community has only one species. Estimation is not robust.\"\n",
      "Warning message in max(x[-1] > 1):\n",
      "\"no non-missing arguments to max; returning -Inf\"\n",
      "Warning message in BootstrapFun.abun(x = x, FunName, datatype, B):\n",
      "\"The Bootstrap community has only one species. Estimation is not robust.\"\n",
      "Warning message in BootstrapFun.abun(x = x, FunName, datatype, B):\n",
      "\"The Bootstrap community has only one species. Estimation is not robust.\"\n",
      "Warning message in max(x[-1] > 1):\n",
      "\"no non-missing arguments to max; returning -Inf\"\n",
      "Warning message in BootstrapFun.abun(x = x, FunName, datatype, B):\n",
      "\"The Bootstrap community has only one species. Estimation is not robust.\"\n",
      "Warning message in BootstrapFun.abun(x = x, FunName, datatype, B):\n",
      "\"The Bootstrap community has only one species. Estimation is not robust.\"\n",
      "Warning message in max(x[-1] > 1):\n",
      "\"no non-missing arguments to max; returning -Inf\"\n",
      "Warning message in BootstrapFun.abun(x = x, FunName, datatype, B):\n",
      "\"The Bootstrap community has only one species. Estimation is not robust.\"\n",
      "Warning message in BootstrapFun.abun(x = x, FunName, datatype, B):\n",
      "\"The Bootstrap community has only one species. Estimation is not robust.\"\n",
      "Warning message in max(x[-1] > 1):\n",
      "\"no non-missing arguments to max; returning -Inf\"\n",
      "Warning message in BootstrapFun.abun(x = x, FunName, datatype, B):\n",
      "\"The Bootstrap community has only one species. Estimation is not robust.\"\n",
      "Warning message in BootstrapFun.abun(x = x, FunName, datatype, B):\n",
      "\"The Bootstrap community has only one species. Estimation is not robust.\"\n",
      "Warning message in max(x[-1] > 1):\n",
      "\"no non-missing arguments to max; returning -Inf\"\n",
      "Warning message in BootstrapFun.abun(x = x, FunName, datatype, B):\n",
      "\"The Bootstrap community has only one species. Estimation is not robust.\"\n",
      "Warning message in BootstrapFun.abun(x = x, FunName, datatype, B):\n",
      "\"The Bootstrap community has only one species. Estimation is not robust.\"\n",
      "Warning message in max(x[-1] > 1):\n",
      "\"no non-missing arguments to max; returning -Inf\"\n",
      "Warning message in BootstrapFun.abun(x = x, FunName, datatype, B):\n",
      "\"The Bootstrap community has only one species. Estimation is not robust.\"\n",
      "Warning message in BootstrapFun.abun(x = x, FunName, datatype, B):\n",
      "\"The Bootstrap community has only one species. Estimation is not robust.\"\n",
      "Warning message in max(x[-1] > 1):\n",
      "\"no non-missing arguments to max; returning -Inf\"\n",
      "Warning message in BootstrapFun.abun(x = x, FunName, datatype, B):\n",
      "\"The Bootstrap community has only one species. Estimation is not robust.\"\n",
      "Warning message in BootstrapFun.abun(x = x, FunName, datatype, B):\n",
      "\"The Bootstrap community has only one species. Estimation is not robust.\"\n",
      "Warning message in max(x[-1] > 1):\n",
      "\"no non-missing arguments to max; returning -Inf\"\n",
      "Warning message in BootstrapFun.abun(x = x, FunName, datatype, B):\n",
      "\"The Bootstrap community has only one species. Estimation is not robust.\"\n",
      "Warning message in BootstrapFun.abun(x = x, FunName, datatype, B):\n",
      "\"The Bootstrap community has only one species. Estimation is not robust.\"\n",
      "Warning message in max(x[-1] > 1):\n",
      "\"no non-missing arguments to max; returning -Inf\"\n",
      "Warning message in BootstrapFun.abun(x = x, FunName, datatype, B):\n",
      "\"The Bootstrap community has only one species. Estimation is not robust.\"\n",
      "Warning message in BootstrapFun.abun(x = x, FunName, datatype, B):\n",
      "\"The Bootstrap community has only one species. Estimation is not robust.\"\n",
      "Warning message in max(x[-1] > 1):\n",
      "\"no non-missing arguments to max; returning -Inf\"\n",
      "Warning message in BootstrapFun.abun(x = x, FunName, datatype, B):\n",
      "\"The Bootstrap community has only one species. Estimation is not robust.\"\n",
      "Warning message in BootstrapFun.abun(x = x, FunName, datatype, B):\n",
      "\"The Bootstrap community has only one species. Estimation is not robust.\"\n",
      "Warning message in max(x[-1] > 1):\n",
      "\"no non-missing arguments to max; returning -Inf\"\n",
      "Warning message in BootstrapFun.abun(x = x, FunName, datatype, B):\n",
      "\"The Bootstrap community has only one species. Estimation is not robust.\"\n",
      "Warning message in BootstrapFun.abun(x = x, FunName, datatype, B):\n",
      "\"The Bootstrap community has only one species. Estimation is not robust.\"\n",
      "Warning message in max(x[-1] > 1):\n",
      "\"no non-missing arguments to max; returning -Inf\"\n",
      "Warning message in BootstrapFun.abun(x = x, FunName, datatype, B):\n",
      "\"The Bootstrap community has only one species. Estimation is not robust.\"\n"
     ]
    }
   ],
   "source": [
    "# add diversity of gliph groups\n",
    "for (i in 1:nrow(samples_tcr)) {\n",
    "  mypt <- components_sep[ components_sep$Sample == rownames(samples_tcr)[i], ]\n",
    "if(nrow(mypt) == 0) {\n",
    "  samples_tcr$comp_div[i] <- NA\n",
    "} else {\n",
    "  # If there is more than one cdr3 in a pattern, sum the frequencies\n",
    "  mypt_SumFreq <- mypt %>%\n",
    "    group_by(Component_id) %>%\n",
    "    summarise(SumFreq = sum(Freq), .groups = \"drop\") %>%\n",
    "    ungroup()\n",
    "\n",
    "  out <- iNEXT::iNEXT(mypt_SumFreq$SumFreq[order(mypt_SumFreq$SumFreq, decreasing = T)], 0, datatype = \"abundance\")\n",
    "  samples_tcr$comp_div[i] <- out$AsyEst[3, 1] # Simpson\n",
    "} \n",
    "}\n"
   ]
  },
  {
   "cell_type": "code",
   "execution_count": 152,
   "metadata": {
    "vscode": {
     "languageId": "r"
    }
   },
   "outputs": [
    {
     "data": {
      "text/html": [
       "<table class=\"dataframe\">\n",
       "<caption>A data.frame: 6 x 24</caption>\n",
       "<thead>\n",
       "\t<tr><th></th><th scope=col>CMV</th><th scope=col>EBV</th><th scope=col>HCV</th><th scope=col>Influenza</th><th scope=col>HomoSapiens</th><th scope=col>MDavis</th><th scope=col>HPV</th><th scope=col>CEF</th><th scope=col>TB</th><th scope=col>MCPyV</th><th scope=col>...</th><th scope=col>cancergroup</th><th scope=col>cycle</th><th scope=col>sampletype</th><th scope=col>cyclenum</th><th scope=col>Patient</th><th scope=col>Age</th><th scope=col>converg</th><th scope=col>gliph_div</th><th scope=col>n_comp</th><th scope=col>comp_div</th></tr>\n",
       "\t<tr><th></th><th scope=col>&lt;dbl&gt;</th><th scope=col>&lt;dbl&gt;</th><th scope=col>&lt;dbl&gt;</th><th scope=col>&lt;dbl&gt;</th><th scope=col>&lt;dbl&gt;</th><th scope=col>&lt;dbl&gt;</th><th scope=col>&lt;dbl&gt;</th><th scope=col>&lt;dbl&gt;</th><th scope=col>&lt;dbl&gt;</th><th scope=col>&lt;dbl&gt;</th><th scope=col>...</th><th scope=col>&lt;chr&gt;</th><th scope=col>&lt;chr&gt;</th><th scope=col>&lt;chr&gt;</th><th scope=col>&lt;dbl&gt;</th><th scope=col>&lt;chr&gt;</th><th scope=col>&lt;dbl&gt;</th><th scope=col>&lt;dbl&gt;</th><th scope=col>&lt;dbl&gt;</th><th scope=col>&lt;int&gt;</th><th scope=col>&lt;dbl&gt;</th></tr>\n",
       "</thead>\n",
       "<tbody>\n",
       "\t<tr><th scope=row>Leukemia:CHP_319_X05-PBMC</th><td>0</td><td>0</td><td>0</td><td>0</td><td>0</td><td> 2</td><td>0</td><td>0</td><td>0</td><td>0</td><td>...</td><td>Leukemia</td><td>X05</td><td>PBMC </td><td>5</td><td>CHP_319</td><td>1</td><td>20.00000</td><td> 2.455</td><td>2</td><td>1.471</td></tr>\n",
       "\t<tr><th scope=row>Leukemia:CHP_323_X03-PBMC</th><td>2</td><td>0</td><td>1</td><td>0</td><td>0</td><td>16</td><td>0</td><td>0</td><td>0</td><td>1</td><td>...</td><td>Leukemia</td><td>X03</td><td>PBMC </td><td>3</td><td>CHP_323</td><td>1</td><td>26.66667</td><td>18.048</td><td>3</td><td>1.953</td></tr>\n",
       "\t<tr><th scope=row>Leukemia:CHP_323_X03-cfDNA</th><td>2</td><td>0</td><td>0</td><td>0</td><td>4</td><td>33</td><td>0</td><td>0</td><td>0</td><td>0</td><td>...</td><td>Leukemia</td><td>X03</td><td>cfDNA</td><td>3</td><td>CHP_323</td><td>1</td><td>24.27184</td><td>21.050</td><td>3</td><td>1.165</td></tr>\n",
       "\t<tr><th scope=row>Leukemia:CHP_323_X05-PBMC</th><td>1</td><td>0</td><td>0</td><td>0</td><td>2</td><td>47</td><td>0</td><td>0</td><td>0</td><td>1</td><td>...</td><td>Leukemia</td><td>X05</td><td>PBMC </td><td>5</td><td>CHP_323</td><td>1</td><td>23.52941</td><td>49.104</td><td>4</td><td>1.507</td></tr>\n",
       "\t<tr><th scope=row>Leukemia:CHP_323_X05-cfDNA</th><td>0</td><td>0</td><td>0</td><td>0</td><td>0</td><td> 4</td><td>0</td><td>0</td><td>0</td><td>0</td><td>...</td><td>Leukemia</td><td>X05</td><td>cfDNA</td><td>5</td><td>CHP_323</td><td>1</td><td>13.33333</td><td> 5.997</td><td>2</td><td>1.999</td></tr>\n",
       "\t<tr><th scope=row>Leukemia:CHP_326_X05-cfDNA</th><td>0</td><td>0</td><td>3</td><td>0</td><td>0</td><td> 5</td><td>0</td><td>0</td><td>0</td><td>0</td><td>...</td><td>Leukemia</td><td>X05</td><td>cfDNA</td><td>5</td><td>CHP_326</td><td>4</td><td>16.00000</td><td> 5.418</td><td>2</td><td>1.997</td></tr>\n",
       "</tbody>\n",
       "</table>\n"
      ],
      "text/latex": [
       "A data.frame: 6 x 24\n",
       "\\begin{tabular}{r|lllllllllllllllllllll}\n",
       "  & CMV & EBV & HCV & Influenza & HomoSapiens & MDavis & HPV & CEF & TB & MCPyV & ... & cancergroup & cycle & sampletype & cyclenum & Patient & Age & converg & gliph\\_div & n\\_comp & comp\\_div\\\\\n",
       "  & <dbl> & <dbl> & <dbl> & <dbl> & <dbl> & <dbl> & <dbl> & <dbl> & <dbl> & <dbl> & ... & <chr> & <chr> & <chr> & <dbl> & <chr> & <dbl> & <dbl> & <dbl> & <int> & <dbl>\\\\\n",
       "\\hline\n",
       "\tLeukemia:CHP\\_319\\_X05-PBMC & 0 & 0 & 0 & 0 & 0 &  2 & 0 & 0 & 0 & 0 & ... & Leukemia & X05 & PBMC  & 5 & CHP\\_319 & 1 & 20.00000 &  2.455 & 2 & 1.471\\\\\n",
       "\tLeukemia:CHP\\_323\\_X03-PBMC & 2 & 0 & 1 & 0 & 0 & 16 & 0 & 0 & 0 & 1 & ... & Leukemia & X03 & PBMC  & 3 & CHP\\_323 & 1 & 26.66667 & 18.048 & 3 & 1.953\\\\\n",
       "\tLeukemia:CHP\\_323\\_X03-cfDNA & 2 & 0 & 0 & 0 & 4 & 33 & 0 & 0 & 0 & 0 & ... & Leukemia & X03 & cfDNA & 3 & CHP\\_323 & 1 & 24.27184 & 21.050 & 3 & 1.165\\\\\n",
       "\tLeukemia:CHP\\_323\\_X05-PBMC & 1 & 0 & 0 & 0 & 2 & 47 & 0 & 0 & 0 & 1 & ... & Leukemia & X05 & PBMC  & 5 & CHP\\_323 & 1 & 23.52941 & 49.104 & 4 & 1.507\\\\\n",
       "\tLeukemia:CHP\\_323\\_X05-cfDNA & 0 & 0 & 0 & 0 & 0 &  4 & 0 & 0 & 0 & 0 & ... & Leukemia & X05 & cfDNA & 5 & CHP\\_323 & 1 & 13.33333 &  5.997 & 2 & 1.999\\\\\n",
       "\tLeukemia:CHP\\_326\\_X05-cfDNA & 0 & 0 & 3 & 0 & 0 &  5 & 0 & 0 & 0 & 0 & ... & Leukemia & X05 & cfDNA & 5 & CHP\\_326 & 4 & 16.00000 &  5.418 & 2 & 1.997\\\\\n",
       "\\end{tabular}\n"
      ],
      "text/markdown": [
       "\n",
       "A data.frame: 6 x 24\n",
       "\n",
       "| <!--/--> | CMV &lt;dbl&gt; | EBV &lt;dbl&gt; | HCV &lt;dbl&gt; | Influenza &lt;dbl&gt; | HomoSapiens &lt;dbl&gt; | MDavis &lt;dbl&gt; | HPV &lt;dbl&gt; | CEF &lt;dbl&gt; | TB &lt;dbl&gt; | MCPyV &lt;dbl&gt; | ... ... | cancergroup &lt;chr&gt; | cycle &lt;chr&gt; | sampletype &lt;chr&gt; | cyclenum &lt;dbl&gt; | Patient &lt;chr&gt; | Age &lt;dbl&gt; | converg &lt;dbl&gt; | gliph_div &lt;dbl&gt; | n_comp &lt;int&gt; | comp_div &lt;dbl&gt; |\n",
       "|---|---|---|---|---|---|---|---|---|---|---|---|---|---|---|---|---|---|---|---|---|---|\n",
       "| Leukemia:CHP_319_X05-PBMC | 0 | 0 | 0 | 0 | 0 |  2 | 0 | 0 | 0 | 0 | ... | Leukemia | X05 | PBMC  | 5 | CHP_319 | 1 | 20.00000 |  2.455 | 2 | 1.471 |\n",
       "| Leukemia:CHP_323_X03-PBMC | 2 | 0 | 1 | 0 | 0 | 16 | 0 | 0 | 0 | 1 | ... | Leukemia | X03 | PBMC  | 3 | CHP_323 | 1 | 26.66667 | 18.048 | 3 | 1.953 |\n",
       "| Leukemia:CHP_323_X03-cfDNA | 2 | 0 | 0 | 0 | 4 | 33 | 0 | 0 | 0 | 0 | ... | Leukemia | X03 | cfDNA | 3 | CHP_323 | 1 | 24.27184 | 21.050 | 3 | 1.165 |\n",
       "| Leukemia:CHP_323_X05-PBMC | 1 | 0 | 0 | 0 | 2 | 47 | 0 | 0 | 0 | 1 | ... | Leukemia | X05 | PBMC  | 5 | CHP_323 | 1 | 23.52941 | 49.104 | 4 | 1.507 |\n",
       "| Leukemia:CHP_323_X05-cfDNA | 0 | 0 | 0 | 0 | 0 |  4 | 0 | 0 | 0 | 0 | ... | Leukemia | X05 | cfDNA | 5 | CHP_323 | 1 | 13.33333 |  5.997 | 2 | 1.999 |\n",
       "| Leukemia:CHP_326_X05-cfDNA | 0 | 0 | 3 | 0 | 0 |  5 | 0 | 0 | 0 | 0 | ... | Leukemia | X05 | cfDNA | 5 | CHP_326 | 4 | 16.00000 |  5.418 | 2 | 1.997 |\n",
       "\n"
      ],
      "text/plain": [
       "                           CMV EBV HCV Influenza HomoSapiens MDavis HPV CEF TB\n",
       "Leukemia:CHP_319_X05-PBMC  0   0   0   0         0            2     0   0   0 \n",
       "Leukemia:CHP_323_X03-PBMC  2   0   1   0         0           16     0   0   0 \n",
       "Leukemia:CHP_323_X03-cfDNA 2   0   0   0         4           33     0   0   0 \n",
       "Leukemia:CHP_323_X05-PBMC  1   0   0   0         2           47     0   0   0 \n",
       "Leukemia:CHP_323_X05-cfDNA 0   0   0   0         0            4     0   0   0 \n",
       "Leukemia:CHP_326_X05-cfDNA 0   0   3   0         0            5     0   0   0 \n",
       "                           MCPyV ... cancergroup cycle sampletype cyclenum\n",
       "Leukemia:CHP_319_X05-PBMC  0     ... Leukemia    X05   PBMC       5       \n",
       "Leukemia:CHP_323_X03-PBMC  1     ... Leukemia    X03   PBMC       3       \n",
       "Leukemia:CHP_323_X03-cfDNA 0     ... Leukemia    X03   cfDNA      3       \n",
       "Leukemia:CHP_323_X05-PBMC  1     ... Leukemia    X05   PBMC       5       \n",
       "Leukemia:CHP_323_X05-cfDNA 0     ... Leukemia    X05   cfDNA      5       \n",
       "Leukemia:CHP_326_X05-cfDNA 0     ... Leukemia    X05   cfDNA      5       \n",
       "                           Patient Age converg  gliph_div n_comp comp_div\n",
       "Leukemia:CHP_319_X05-PBMC  CHP_319 1   20.00000  2.455    2      1.471   \n",
       "Leukemia:CHP_323_X03-PBMC  CHP_323 1   26.66667 18.048    3      1.953   \n",
       "Leukemia:CHP_323_X03-cfDNA CHP_323 1   24.27184 21.050    3      1.165   \n",
       "Leukemia:CHP_323_X05-PBMC  CHP_323 1   23.52941 49.104    4      1.507   \n",
       "Leukemia:CHP_323_X05-cfDNA CHP_323 1   13.33333  5.997    2      1.999   \n",
       "Leukemia:CHP_326_X05-cfDNA CHP_326 4   16.00000  5.418    2      1.997   "
      ]
     },
     "metadata": {},
     "output_type": "display_data"
    }
   ],
   "source": [
    "head(samples_tcr)"
   ]
  },
  {
   "cell_type": "code",
   "execution_count": 174,
   "metadata": {
    "vscode": {
     "languageId": "r"
    }
   },
   "outputs": [
    {
     "data": {
      "text/plain": [
       "\n",
       "   Leukemia    Lymphoma Solidtumors        <NA> \n",
       "        194          64         129           0 "
      ]
     },
     "metadata": {},
     "output_type": "display_data"
    }
   ],
   "source": [
    "table(samples_tcr$cancergroup, useNA = \"always\")\n"
   ]
  },
  {
   "cell_type": "code",
   "execution_count": 201,
   "metadata": {
    "vscode": {
     "languageId": "r"
    }
   },
   "outputs": [],
   "source": [
    "sampletype <- samples_tcr[ samples_tcr$sampletype == \"PBMC\" , ]\n",
    "sampletype <- sampletype[ which(sampletype$n_comp > 3) , ]"
   ]
  },
  {
   "cell_type": "code",
   "execution_count": 202,
   "metadata": {
    "vscode": {
     "languageId": "r"
    }
   },
   "outputs": [
    {
     "data": {
      "text/plain": [
       "\n",
       "   Leukemia    Lymphoma Solidtumors        <NA> \n",
       "         71          18          38           0 "
      ]
     },
     "metadata": {},
     "output_type": "display_data"
    }
   ],
   "source": [
    "table(sampletype$cancergroup, useNA = \"always\")"
   ]
  },
  {
   "cell_type": "code",
   "execution_count": 203,
   "metadata": {
    "vscode": {
     "languageId": "r"
    }
   },
   "outputs": [
    {
     "data": {
      "image/png": "[encoded data removed]",
      "text/plain": [
       "plot without title"
      ]
     },
     "metadata": {
      "image/png": {
       "height": 420,
       "width": 420
      }
     },
     "output_type": "display_data"
    },
    {
     "data": {
      "image/png": "[encoded data removed]",
      "text/plain": [
       "plot without title"
      ]
     },
     "metadata": {
      "image/png": {
       "height": 420,
       "width": 420
      }
     },
     "output_type": "display_data"
    }
   ],
   "source": [
    "ggplot(sampletype, aes( y= log10(comp_div), x = log10(gliph_div))) + geom_point()\n",
    "\n",
    "ggplot(sampletype, aes( y= log10(n_comp), x = log10(n_gliph))) + geom_point()"
   ]
  },
  {
   "cell_type": "code",
   "execution_count": 204,
   "metadata": {
    "vscode": {
     "languageId": "r"
    }
   },
   "outputs": [
    {
     "data": {
      "text/plain": [
       "\n",
       "   Leukemia    Lymphoma Solidtumors \n",
       "         71          18          38 "
      ]
     },
     "metadata": {},
     "output_type": "display_data"
    }
   ],
   "source": [
    "table(sampletype$cancergroup, useNA = \"ifany\")"
   ]
  },
  {
   "cell_type": "code",
   "execution_count": 205,
   "metadata": {
    "vscode": {
     "languageId": "r"
    }
   },
   "outputs": [],
   "source": [
    "sampletype$comp_div_log <- log10(sampletype$comp_div)"
   ]
  },
  {
   "cell_type": "code",
   "execution_count": 206,
   "metadata": {
    "vscode": {
     "languageId": "r"
    }
   },
   "outputs": [
    {
     "name": "stdout",
     "output_type": "stream",
     "text": [
      "[1] \"Solidtumors\"\n",
      "[1] \"Lymphoma\"\n"
     ]
    }
   ],
   "source": [
    "cancergrp <- \"Leukemia\"\n",
    "\n",
    "myformula <- as.formula(paste0(\"comp_div_log\", \" ~ cycle + Age + (1 | Patient)\"))\n",
    "myfit <- lme4::lmer(myformula, data = sampletype[ sampletype$cancergroup == cancergrp,]) # keep cycle as categorical\n",
    "lsm <- lsmeans(myfit, \"cycle\")\n",
    "mylsm_grp <- summary(lsm)\n",
    "mylsm_grp$cancergroup <- cancergrp # has to be same as original df\n",
    "\n",
    "myctrt_grp <- as.data.frame(lsmeans::contrast(lsm, \"trt.vs.ctrl\", ref = \"X01\"))\n",
    "myctrt_grp$cancergroup <- cancergrp\n",
    "\n",
    "for (i in c(\"Solidtumors\", \"Lymphoma\")) {\n",
    "    print(i)\n",
    "    cancergrp <- i\n",
    "    myfit <- lme4::lmer(myformula, data = sampletype[ sampletype$cancergroup == cancergrp,])\n",
    "    lsm <- lsmeans(myfit, \"cycle\")\n",
    "    myctrt <- as.data.frame(lsmeans::contrast(lsm, \"trt.vs.ctrl\", ref = \"X01\"))\n",
    "    myctrt$cancergroup <- cancergrp\n",
    "    myctrt_grp <- rbind(myctrt_grp, myctrt)\n",
    "\n",
    "    mylsm <- summary(lsm)\n",
    "    mylsm$cancergroup <- cancergrp\n",
    "    mylsm_grp <- rbind(mylsm_grp, mylsm)\n",
    "}"
   ]
  },
  {
   "cell_type": "code",
   "execution_count": 207,
   "metadata": {
    "vscode": {
     "languageId": "r"
    }
   },
   "outputs": [
    {
     "data": {
      "text/html": [
       "<table class=\"dataframe\">\n",
       "<caption>A summary_emm: 12 x 7</caption>\n",
       "<thead>\n",
       "\t<tr><th scope=col>contrast</th><th scope=col>estimate</th><th scope=col>SE</th><th scope=col>df</th><th scope=col>t.ratio</th><th scope=col>p.value</th><th scope=col>cancergroup</th></tr>\n",
       "\t<tr><th scope=col>&lt;chr&gt;</th><th scope=col>&lt;dbl&gt;</th><th scope=col>&lt;dbl&gt;</th><th scope=col>&lt;dbl&gt;</th><th scope=col>&lt;dbl&gt;</th><th scope=col>&lt;dbl&gt;</th><th scope=col>&lt;chr&gt;</th></tr>\n",
       "</thead>\n",
       "<tbody>\n",
       "\t<tr><td>X02 - X01</td><td> 0.029689639</td><td>0.05306148</td><td>53.009369</td><td> 0.55953285</td><td>0.9110039</td><td>Leukemia   </td></tr>\n",
       "\t<tr><td>X03 - X01</td><td> 0.020996956</td><td>0.05579329</td><td>57.205699</td><td> 0.37633480</td><td>0.9647555</td><td>Leukemia   </td></tr>\n",
       "\t<tr><td>X04 - X01</td><td> 0.076278636</td><td>0.05773818</td><td>55.913246</td><td> 1.32111263</td><td>0.4847532</td><td>Leukemia   </td></tr>\n",
       "\t<tr><td>X05 - X01</td><td> 0.004000926</td><td>0.05478521</td><td>61.094538</td><td> 0.07302931</td><td>0.9992826</td><td>Leukemia   </td></tr>\n",
       "\t<tr><td>X02 - X01</td><td> 0.134776639</td><td>0.10107148</td><td>20.202972</td><td> 1.33347848</td><td>0.4894957</td><td>Solidtumors</td></tr>\n",
       "\t<tr><td>X03 - X01</td><td>-0.047505914</td><td>0.13110001</td><td>29.410899</td><td>-0.36236392</td><td>0.9677334</td><td>Solidtumors</td></tr>\n",
       "\t<tr><td>X04 - X01</td><td> 0.131400917</td><td>0.12820048</td><td>29.207090</td><td> 1.02496430</td><td>0.6740069</td><td>Solidtumors</td></tr>\n",
       "\t<tr><td>X05 - X01</td><td> 0.037378229</td><td>0.12073801</td><td>30.120966</td><td> 0.30958128</td><td>0.9777582</td><td>Solidtumors</td></tr>\n",
       "\t<tr><td>X02 - X01</td><td> 0.093472981</td><td>0.12784804</td><td> 8.104808</td><td> 0.73112563</td><td>0.8417054</td><td>Lymphoma   </td></tr>\n",
       "\t<tr><td>X03 - X01</td><td> 0.057312340</td><td>0.11182806</td><td> 6.173336</td><td> 0.51250412</td><td>0.9279780</td><td>Lymphoma   </td></tr>\n",
       "\t<tr><td>X04 - X01</td><td> 0.101939085</td><td>0.17487859</td><td> 9.559151</td><td> 0.58291345</td><td>0.9032739</td><td>Lymphoma   </td></tr>\n",
       "\t<tr><td>X05 - X01</td><td> 0.111755506</td><td>0.12660741</td><td> 6.378858</td><td> 0.88269326</td><td>0.7694737</td><td>Lymphoma   </td></tr>\n",
       "</tbody>\n",
       "</table>\n"
      ],
      "text/latex": [
       "A summary\\_emm: 12 x 7\n",
       "\\begin{tabular}{lllllll}\n",
       " contrast & estimate & SE & df & t.ratio & p.value & cancergroup\\\\\n",
       " <chr> & <dbl> & <dbl> & <dbl> & <dbl> & <dbl> & <chr>\\\\\n",
       "\\hline\n",
       "\t X02 - X01 &  0.029689639 & 0.05306148 & 53.009369 &  0.55953285 & 0.9110039 & Leukemia   \\\\\n",
       "\t X03 - X01 &  0.020996956 & 0.05579329 & 57.205699 &  0.37633480 & 0.9647555 & Leukemia   \\\\\n",
       "\t X04 - X01 &  0.076278636 & 0.05773818 & 55.913246 &  1.32111263 & 0.4847532 & Leukemia   \\\\\n",
       "\t X05 - X01 &  0.004000926 & 0.05478521 & 61.094538 &  0.07302931 & 0.9992826 & Leukemia   \\\\\n",
       "\t X02 - X01 &  0.134776639 & 0.10107148 & 20.202972 &  1.33347848 & 0.4894957 & Solidtumors\\\\\n",
       "\t X03 - X01 & -0.047505914 & 0.13110001 & 29.410899 & -0.36236392 & 0.9677334 & Solidtumors\\\\\n",
       "\t X04 - X01 &  0.131400917 & 0.12820048 & 29.207090 &  1.02496430 & 0.6740069 & Solidtumors\\\\\n",
       "\t X05 - X01 &  0.037378229 & 0.12073801 & 30.120966 &  0.30958128 & 0.9777582 & Solidtumors\\\\\n",
       "\t X02 - X01 &  0.093472981 & 0.12784804 &  8.104808 &  0.73112563 & 0.8417054 & Lymphoma   \\\\\n",
       "\t X03 - X01 &  0.057312340 & 0.11182806 &  6.173336 &  0.51250412 & 0.9279780 & Lymphoma   \\\\\n",
       "\t X04 - X01 &  0.101939085 & 0.17487859 &  9.559151 &  0.58291345 & 0.9032739 & Lymphoma   \\\\\n",
       "\t X05 - X01 &  0.111755506 & 0.12660741 &  6.378858 &  0.88269326 & 0.7694737 & Lymphoma   \\\\\n",
       "\\end{tabular}\n"
      ],
      "text/markdown": [
       "\n",
       "A summary_emm: 12 x 7\n",
       "\n",
       "| contrast &lt;chr&gt; | estimate &lt;dbl&gt; | SE &lt;dbl&gt; | df &lt;dbl&gt; | t.ratio &lt;dbl&gt; | p.value &lt;dbl&gt; | cancergroup &lt;chr&gt; |\n",
       "|---|---|---|---|---|---|---|\n",
       "| X02 - X01 |  0.029689639 | 0.05306148 | 53.009369 |  0.55953285 | 0.9110039 | Leukemia    |\n",
       "| X03 - X01 |  0.020996956 | 0.05579329 | 57.205699 |  0.37633480 | 0.9647555 | Leukemia    |\n",
       "| X04 - X01 |  0.076278636 | 0.05773818 | 55.913246 |  1.32111263 | 0.4847532 | Leukemia    |\n",
       "| X05 - X01 |  0.004000926 | 0.05478521 | 61.094538 |  0.07302931 | 0.9992826 | Leukemia    |\n",
       "| X02 - X01 |  0.134776639 | 0.10107148 | 20.202972 |  1.33347848 | 0.4894957 | Solidtumors |\n",
       "| X03 - X01 | -0.047505914 | 0.13110001 | 29.410899 | -0.36236392 | 0.9677334 | Solidtumors |\n",
       "| X04 - X01 |  0.131400917 | 0.12820048 | 29.207090 |  1.02496430 | 0.6740069 | Solidtumors |\n",
       "| X05 - X01 |  0.037378229 | 0.12073801 | 30.120966 |  0.30958128 | 0.9777582 | Solidtumors |\n",
       "| X02 - X01 |  0.093472981 | 0.12784804 |  8.104808 |  0.73112563 | 0.8417054 | Lymphoma    |\n",
       "| X03 - X01 |  0.057312340 | 0.11182806 |  6.173336 |  0.51250412 | 0.9279780 | Lymphoma    |\n",
       "| X04 - X01 |  0.101939085 | 0.17487859 |  9.559151 |  0.58291345 | 0.9032739 | Lymphoma    |\n",
       "| X05 - X01 |  0.111755506 | 0.12660741 |  6.378858 |  0.88269326 | 0.7694737 | Lymphoma    |\n",
       "\n"
      ],
      "text/plain": [
       "   contrast  estimate     SE         df        t.ratio     p.value  \n",
       "1  X02 - X01  0.029689639 0.05306148 53.009369  0.55953285 0.9110039\n",
       "2  X03 - X01  0.020996956 0.05579329 57.205699  0.37633480 0.9647555\n",
       "3  X04 - X01  0.076278636 0.05773818 55.913246  1.32111263 0.4847532\n",
       "4  X05 - X01  0.004000926 0.05478521 61.094538  0.07302931 0.9992826\n",
       "5  X02 - X01  0.134776639 0.10107148 20.202972  1.33347848 0.4894957\n",
       "6  X03 - X01 -0.047505914 0.13110001 29.410899 -0.36236392 0.9677334\n",
       "7  X04 - X01  0.131400917 0.12820048 29.207090  1.02496430 0.6740069\n",
       "8  X05 - X01  0.037378229 0.12073801 30.120966  0.30958128 0.9777582\n",
       "9  X02 - X01  0.093472981 0.12784804  8.104808  0.73112563 0.8417054\n",
       "10 X03 - X01  0.057312340 0.11182806  6.173336  0.51250412 0.9279780\n",
       "11 X04 - X01  0.101939085 0.17487859  9.559151  0.58291345 0.9032739\n",
       "12 X05 - X01  0.111755506 0.12660741  6.378858  0.88269326 0.7694737\n",
       "   cancergroup\n",
       "1  Leukemia   \n",
       "2  Leukemia   \n",
       "3  Leukemia   \n",
       "4  Leukemia   \n",
       "5  Solidtumors\n",
       "6  Solidtumors\n",
       "7  Solidtumors\n",
       "8  Solidtumors\n",
       "9  Lymphoma   \n",
       "10 Lymphoma   \n",
       "11 Lymphoma   \n",
       "12 Lymphoma   "
      ]
     },
     "metadata": {},
     "output_type": "display_data"
    }
   ],
   "source": [
    "myctrt_grp"
   ]
  },
  {
   "cell_type": "code",
   "execution_count": 208,
   "metadata": {
    "vscode": {
     "languageId": "r"
    }
   },
   "outputs": [],
   "source": [
    "# just for aes\n",
    "sampletype$cancergroup[ sampletype$cancergroup == \"Solidtumors\" ] <- \"Solid tumors\"\n",
    "sampletype$cancergroup[ sampletype$cancergroup == \"T-cellmalignancies\" ] <- \"T-cell malignancies\"\n",
    "\n",
    "mylsm_grp$cancergroup[ mylsm_grp$cancergroup == \"Solidtumors\" ] <- \"Solid tumors\"\n",
    "mylsm_grp$cancergroup[ mylsm_grp$cancergroup == \"T-cellmalignancies\" ] <- \"T-cell malignancies\"\n",
    "\n",
    "myctrt_grp$cancergroup[ myctrt_grp$cancergroup == \"Solidtumors\" ] <- \"Solid tumors\"\n",
    "myctrt_grp$cancergroup[ myctrt_grp$cancergroup == \"T-cellmalignancies\" ] <- \"T-cell malignancies\""
   ]
  },
  {
   "cell_type": "code",
   "execution_count": 209,
   "metadata": {
    "vscode": {
     "languageId": "r"
    }
   },
   "outputs": [],
   "source": [
    "mylsm_grp$Cycle <- as.character(mylsm_grp$cycle)\n",
    "mylsm_grp$Cycle <- as.numeric(gsub(\"X0\", \"\", mylsm_grp$Cycle))\n",
    "\n",
    "myctrt_grp$Cycle <- as.character(gsub(\" - X01\", \"\", myctrt_grp$contrast))\n",
    "myctrt_grp$Cycle <- gsub(\"X0\", \"\", myctrt_grp$Cycle)"
   ]
  },
  {
   "cell_type": "code",
   "execution_count": 210,
   "metadata": {
    "vscode": {
     "languageId": "r"
    }
   },
   "outputs": [
    {
     "data": {
      "text/html": [
       "<table class=\"dataframe\">\n",
       "<caption>A data.frame: 6 x 25</caption>\n",
       "<thead>\n",
       "\t<tr><th></th><th scope=col>CMV</th><th scope=col>EBV</th><th scope=col>HCV</th><th scope=col>Influenza</th><th scope=col>HomoSapiens</th><th scope=col>MDavis</th><th scope=col>HPV</th><th scope=col>CEF</th><th scope=col>TB</th><th scope=col>MCPyV</th><th scope=col>...</th><th scope=col>cycle</th><th scope=col>sampletype</th><th scope=col>cyclenum</th><th scope=col>Patient</th><th scope=col>Age</th><th scope=col>converg</th><th scope=col>gliph_div</th><th scope=col>n_comp</th><th scope=col>comp_div</th><th scope=col>comp_div_log</th></tr>\n",
       "\t<tr><th></th><th scope=col>&lt;dbl&gt;</th><th scope=col>&lt;dbl&gt;</th><th scope=col>&lt;dbl&gt;</th><th scope=col>&lt;dbl&gt;</th><th scope=col>&lt;dbl&gt;</th><th scope=col>&lt;dbl&gt;</th><th scope=col>&lt;dbl&gt;</th><th scope=col>&lt;dbl&gt;</th><th scope=col>&lt;dbl&gt;</th><th scope=col>&lt;dbl&gt;</th><th scope=col>...</th><th scope=col>&lt;chr&gt;</th><th scope=col>&lt;chr&gt;</th><th scope=col>&lt;dbl&gt;</th><th scope=col>&lt;chr&gt;</th><th scope=col>&lt;dbl&gt;</th><th scope=col>&lt;dbl&gt;</th><th scope=col>&lt;dbl&gt;</th><th scope=col>&lt;int&gt;</th><th scope=col>&lt;dbl&gt;</th><th scope=col>&lt;dbl&gt;</th></tr>\n",
       "</thead>\n",
       "<tbody>\n",
       "\t<tr><th scope=row>Leukemia:CHP_323_X05-PBMC</th><td>1</td><td>0</td><td>0</td><td>0</td><td> 2</td><td> 47</td><td>0</td><td>0</td><td>0</td><td>1</td><td>...</td><td>X05</td><td>PBMC</td><td>5</td><td>CHP_323</td><td> 1</td><td>23.52941</td><td> 49.104</td><td> 4</td><td>1.507</td><td>0.1781133</td></tr>\n",
       "\t<tr><th scope=row>Leukemia:CHP_328_X04-PBMC</th><td>1</td><td>2</td><td>2</td><td>0</td><td>10</td><td>145</td><td>1</td><td>0</td><td>0</td><td>0</td><td>...</td><td>X04</td><td>PBMC</td><td>4</td><td>CHP_328</td><td> 7</td><td>27.31278</td><td> 71.383</td><td>11</td><td>1.380</td><td>0.1398791</td></tr>\n",
       "\t<tr><th scope=row>Leukemia:CHP_328_X05-PBMC</th><td>2</td><td>1</td><td>2</td><td>0</td><td> 0</td><td> 55</td><td>1</td><td>0</td><td>0</td><td>1</td><td>...</td><td>X05</td><td>PBMC</td><td>5</td><td>CHP_328</td><td> 7</td><td>22.87582</td><td> 31.984</td><td> 7</td><td>1.682</td><td>0.2258260</td></tr>\n",
       "\t<tr><th scope=row>Leukemia:CHP_331_X05-PBMC</th><td>0</td><td>0</td><td>1</td><td>0</td><td> 4</td><td> 36</td><td>0</td><td>0</td><td>0</td><td>0</td><td>...</td><td>X05</td><td>PBMC</td><td>5</td><td>CHP_331</td><td> 5</td><td>23.56688</td><td> 31.453</td><td> 5</td><td>1.494</td><td>0.1743506</td></tr>\n",
       "\t<tr><th scope=row>Leukemia:CHP_338_X03-PBMC</th><td>6</td><td>1</td><td>3</td><td>0</td><td> 9</td><td>135</td><td>0</td><td>0</td><td>0</td><td>2</td><td>...</td><td>X03</td><td>PBMC</td><td>3</td><td>CHP_338</td><td>13</td><td>22.71762</td><td>126.946</td><td> 9</td><td>1.365</td><td>0.1351327</td></tr>\n",
       "\t<tr><th scope=row>Leukemia:CHP_338_X04-PBMC</th><td>4</td><td>0</td><td>0</td><td>2</td><td> 1</td><td> 49</td><td>0</td><td>0</td><td>0</td><td>1</td><td>...</td><td>X04</td><td>PBMC</td><td>4</td><td>CHP_338</td><td>13</td><td>26.25000</td><td> 12.558</td><td> 5</td><td>1.348</td><td>0.1296899</td></tr>\n",
       "</tbody>\n",
       "</table>\n"
      ],
      "text/latex": [
       "A data.frame: 6 x 25\n",
       "\\begin{tabular}{r|lllllllllllllllllllll}\n",
       "  & CMV & EBV & HCV & Influenza & HomoSapiens & MDavis & HPV & CEF & TB & MCPyV & ... & cycle & sampletype & cyclenum & Patient & Age & converg & gliph\\_div & n\\_comp & comp\\_div & comp\\_div\\_log\\\\\n",
       "  & <dbl> & <dbl> & <dbl> & <dbl> & <dbl> & <dbl> & <dbl> & <dbl> & <dbl> & <dbl> & ... & <chr> & <chr> & <dbl> & <chr> & <dbl> & <dbl> & <dbl> & <int> & <dbl> & <dbl>\\\\\n",
       "\\hline\n",
       "\tLeukemia:CHP\\_323\\_X05-PBMC & 1 & 0 & 0 & 0 &  2 &  47 & 0 & 0 & 0 & 1 & ... & X05 & PBMC & 5 & CHP\\_323 &  1 & 23.52941 &  49.104 &  4 & 1.507 & 0.1781133\\\\\n",
       "\tLeukemia:CHP\\_328\\_X04-PBMC & 1 & 2 & 2 & 0 & 10 & 145 & 1 & 0 & 0 & 0 & ... & X04 & PBMC & 4 & CHP\\_328 &  7 & 27.31278 &  71.383 & 11 & 1.380 & 0.1398791\\\\\n",
       "\tLeukemia:CHP\\_328\\_X05-PBMC & 2 & 1 & 2 & 0 &  0 &  55 & 1 & 0 & 0 & 1 & ... & X05 & PBMC & 5 & CHP\\_328 &  7 & 22.87582 &  31.984 &  7 & 1.682 & 0.2258260\\\\\n",
       "\tLeukemia:CHP\\_331\\_X05-PBMC & 0 & 0 & 1 & 0 &  4 &  36 & 0 & 0 & 0 & 0 & ... & X05 & PBMC & 5 & CHP\\_331 &  5 & 23.56688 &  31.453 &  5 & 1.494 & 0.1743506\\\\\n",
       "\tLeukemia:CHP\\_338\\_X03-PBMC & 6 & 1 & 3 & 0 &  9 & 135 & 0 & 0 & 0 & 2 & ... & X03 & PBMC & 3 & CHP\\_338 & 13 & 22.71762 & 126.946 &  9 & 1.365 & 0.1351327\\\\\n",
       "\tLeukemia:CHP\\_338\\_X04-PBMC & 4 & 0 & 0 & 2 &  1 &  49 & 0 & 0 & 0 & 1 & ... & X04 & PBMC & 4 & CHP\\_338 & 13 & 26.25000 &  12.558 &  5 & 1.348 & 0.1296899\\\\\n",
       "\\end{tabular}\n"
      ],
      "text/markdown": [
       "\n",
       "A data.frame: 6 x 25\n",
       "\n",
       "| <!--/--> | CMV &lt;dbl&gt; | EBV &lt;dbl&gt; | HCV &lt;dbl&gt; | Influenza &lt;dbl&gt; | HomoSapiens &lt;dbl&gt; | MDavis &lt;dbl&gt; | HPV &lt;dbl&gt; | CEF &lt;dbl&gt; | TB &lt;dbl&gt; | MCPyV &lt;dbl&gt; | ... ... | cycle &lt;chr&gt; | sampletype &lt;chr&gt; | cyclenum &lt;dbl&gt; | Patient &lt;chr&gt; | Age &lt;dbl&gt; | converg &lt;dbl&gt; | gliph_div &lt;dbl&gt; | n_comp &lt;int&gt; | comp_div &lt;dbl&gt; | comp_div_log &lt;dbl&gt; |\n",
       "|---|---|---|---|---|---|---|---|---|---|---|---|---|---|---|---|---|---|---|---|---|---|\n",
       "| Leukemia:CHP_323_X05-PBMC | 1 | 0 | 0 | 0 |  2 |  47 | 0 | 0 | 0 | 1 | ... | X05 | PBMC | 5 | CHP_323 |  1 | 23.52941 |  49.104 |  4 | 1.507 | 0.1781133 |\n",
       "| Leukemia:CHP_328_X04-PBMC | 1 | 2 | 2 | 0 | 10 | 145 | 1 | 0 | 0 | 0 | ... | X04 | PBMC | 4 | CHP_328 |  7 | 27.31278 |  71.383 | 11 | 1.380 | 0.1398791 |\n",
       "| Leukemia:CHP_328_X05-PBMC | 2 | 1 | 2 | 0 |  0 |  55 | 1 | 0 | 0 | 1 | ... | X05 | PBMC | 5 | CHP_328 |  7 | 22.87582 |  31.984 |  7 | 1.682 | 0.2258260 |\n",
       "| Leukemia:CHP_331_X05-PBMC | 0 | 0 | 1 | 0 |  4 |  36 | 0 | 0 | 0 | 0 | ... | X05 | PBMC | 5 | CHP_331 |  5 | 23.56688 |  31.453 |  5 | 1.494 | 0.1743506 |\n",
       "| Leukemia:CHP_338_X03-PBMC | 6 | 1 | 3 | 0 |  9 | 135 | 0 | 0 | 0 | 2 | ... | X03 | PBMC | 3 | CHP_338 | 13 | 22.71762 | 126.946 |  9 | 1.365 | 0.1351327 |\n",
       "| Leukemia:CHP_338_X04-PBMC | 4 | 0 | 0 | 2 |  1 |  49 | 0 | 0 | 0 | 1 | ... | X04 | PBMC | 4 | CHP_338 | 13 | 26.25000 |  12.558 |  5 | 1.348 | 0.1296899 |\n",
       "\n"
      ],
      "text/plain": [
       "                          CMV EBV HCV Influenza HomoSapiens MDavis HPV CEF TB\n",
       "Leukemia:CHP_323_X05-PBMC 1   0   0   0          2           47    0   0   0 \n",
       "Leukemia:CHP_328_X04-PBMC 1   2   2   0         10          145    1   0   0 \n",
       "Leukemia:CHP_328_X05-PBMC 2   1   2   0          0           55    1   0   0 \n",
       "Leukemia:CHP_331_X05-PBMC 0   0   1   0          4           36    0   0   0 \n",
       "Leukemia:CHP_338_X03-PBMC 6   1   3   0          9          135    0   0   0 \n",
       "Leukemia:CHP_338_X04-PBMC 4   0   0   2          1           49    0   0   0 \n",
       "                          MCPyV ... cycle sampletype cyclenum Patient Age\n",
       "Leukemia:CHP_323_X05-PBMC 1     ... X05   PBMC       5        CHP_323  1 \n",
       "Leukemia:CHP_328_X04-PBMC 0     ... X04   PBMC       4        CHP_328  7 \n",
       "Leukemia:CHP_328_X05-PBMC 1     ... X05   PBMC       5        CHP_328  7 \n",
       "Leukemia:CHP_331_X05-PBMC 0     ... X05   PBMC       5        CHP_331  5 \n",
       "Leukemia:CHP_338_X03-PBMC 2     ... X03   PBMC       3        CHP_338 13 \n",
       "Leukemia:CHP_338_X04-PBMC 1     ... X04   PBMC       4        CHP_338 13 \n",
       "                          converg  gliph_div n_comp comp_div comp_div_log\n",
       "Leukemia:CHP_323_X05-PBMC 23.52941  49.104    4     1.507    0.1781133   \n",
       "Leukemia:CHP_328_X04-PBMC 27.31278  71.383   11     1.380    0.1398791   \n",
       "Leukemia:CHP_328_X05-PBMC 22.87582  31.984    7     1.682    0.2258260   \n",
       "Leukemia:CHP_331_X05-PBMC 23.56688  31.453    5     1.494    0.1743506   \n",
       "Leukemia:CHP_338_X03-PBMC 22.71762 126.946    9     1.365    0.1351327   \n",
       "Leukemia:CHP_338_X04-PBMC 26.25000  12.558    5     1.348    0.1296899   "
      ]
     },
     "metadata": {},
     "output_type": "display_data"
    }
   ],
   "source": [
    "head(sampletype)"
   ]
  },
  {
   "cell_type": "code",
   "execution_count": 211,
   "metadata": {
    "vscode": {
     "languageId": "r"
    }
   },
   "outputs": [],
   "source": [
    "sampletype$Cycle <- as.character(sampletype$cyclenum)"
   ]
  },
  {
   "cell_type": "code",
   "execution_count": 212,
   "metadata": {
    "vscode": {
     "languageId": "r"
    }
   },
   "outputs": [],
   "source": [
    "p3 <- baseplot.fx(mydf = sampletype, x = \"Cycle\", y = \"comp_div_log\", fill = \"cancergroup\", clr = \"cancergroup\", colpal = group_col) +\n",
    "    geom_errorbar(data = mylsm_grp, aes(x = Cycle, y = lsmean, ymin = lower.CL, ymax = upper.CL), color = \"black\", width = 0.2) +\n",
    "    geom_point(data = mylsm_grp, aes(x = Cycle, y = lsmean), color = \"black\", shape = 18, size = 3) +\n",
    "    annotation_logticks(sides = \"l\") + scale_y_continuous(breaks = log10(c(0,10,100,500)), labels = c(0,10,100,500) ) +\n",
    "    facet_wrap(~cancergroup, nrow = 1, scales = \"fixed\", strip.position = \"top\") +\n",
    "    theme(\n",
    "        axis.title.x = element_blank(),\n",
    "        legend.position = \"none\",\n",
    "        strip.background.x = element_blank(),\n",
    "        strip.placement = \"outside\"\n",
    "    ) + ylab(\" GLIPH components Simpson diversity\")"
   ]
  },
  {
   "cell_type": "code",
   "execution_count": 213,
   "metadata": {
    "vscode": {
     "languageId": "r"
    }
   },
   "outputs": [
    {
     "data": {
      "image/png": "[encoded data removed]",
      "text/plain": [
       "plot without title"
      ]
     },
     "metadata": {
      "image/png": {
       "height": 420,
       "width": 420
      }
     },
     "output_type": "display_data"
    }
   ],
   "source": [
    "p3 "
   ]
  },
  {
   "cell_type": "code",
   "execution_count": 214,
   "metadata": {
    "vscode": {
     "languageId": "r"
    }
   },
   "outputs": [
    {
     "data": {
      "text/html": [
       "<strong>pdf:</strong> 2"
      ],
      "text/latex": [
       "\\textbf{pdf:} 2"
      ],
      "text/markdown": [
       "**pdf:** 2"
      ],
      "text/plain": [
       "pdf \n",
       "  2 "
      ]
     },
     "metadata": {},
     "output_type": "display_data"
    }
   ],
   "source": [
    "pdf(paste0(plotpath, \"p_gliphcomponents_simpdiv_lsmeans.pdf\"), width = 6, height = 3)\n",
    "p3 #+  annotation_logticks(sides = \"l\") + scale_y_continuous(breaks = log10(c(0,10,100,500)), labels = c(0,10,100,500) )\n",
    "dev.off()"
   ]
  },
  {
   "cell_type": "markdown",
   "metadata": {},
   "source": [
    "# 3 - Fisher scores vs difference"
   ]
  },
  {
   "cell_type": "code",
   "execution_count": 285,
   "metadata": {
    "vscode": {
     "languageId": "r"
    }
   },
   "outputs": [],
   "source": [
    "chp_gliph <- tmp[ grepl(\"CHP\", tmp$Sample), ]\n",
    "chp_gliph <- chp_gliph[!grepl(\"Normal\", chp_gliph$subject),]"
   ]
  },
  {
   "cell_type": "code",
   "execution_count": 286,
   "metadata": {
    "vscode": {
     "languageId": "r"
    }
   },
   "outputs": [
    {
     "data": {
      "text/plain": [
       "\n",
       "          Leukemia           Lymphoma        Solidtumors T-cellmalignancies \n",
       "             15148               1891               6907               1244 "
      ]
     },
     "metadata": {},
     "output_type": "display_data"
    }
   ],
   "source": [
    "table(chp_gliph$subject)"
   ]
  },
  {
   "cell_type": "code",
   "execution_count": 287,
   "metadata": {
    "vscode": {
     "languageId": "r"
    }
   },
   "outputs": [],
   "source": [
    "chp_gliph_pbmc <- chp_gliph[grepl(\"PBMC\", chp_gliph$Sample),]"
   ]
  },
  {
   "cell_type": "code",
   "execution_count": 288,
   "metadata": {
    "vscode": {
     "languageId": "r"
    }
   },
   "outputs": [],
   "source": [
    "chp_gliph_pbmc$Patient <- gsub(\".*CHP\", \"CHP\", chp_gliph_pbmc$Sample)\n",
    "chp_gliph_pbmc$Patient <- gsub(\"_X.*\", \"\", chp_gliph_pbmc$Patient)"
   ]
  },
  {
   "cell_type": "code",
   "execution_count": 289,
   "metadata": {
    "vscode": {
     "languageId": "r"
    }
   },
   "outputs": [],
   "source": [
    "chp_gliph_pbmc$cycle <- gsub(\".*X\", \"X\", chp_gliph_pbmc$Sample)\n",
    "chp_gliph_pbmc$cycle <- gsub(\"-.*\", \"\", chp_gliph_pbmc$cycle)"
   ]
  },
  {
   "cell_type": "code",
   "execution_count": 290,
   "metadata": {
    "vscode": {
     "languageId": "r"
    }
   },
   "outputs": [
    {
     "data": {
      "text/html": [
       "<table class=\"dataframe\">\n",
       "<caption>A tibble: 6 x 21</caption>\n",
       "<thead>\n",
       "\t<tr><th scope=col>index</th><th scope=col>pattern</th><th scope=col>Fisher_score</th><th scope=col>number_subject</th><th scope=col>number_unique_cdr3</th><th scope=col>final_score</th><th scope=col>hla_score</th><th scope=col>vb_score</th><th scope=col>expansion_score</th><th scope=col>length_score</th><th scope=col>...</th><th scope=col>type</th><th scope=col>TcRb</th><th scope=col>V</th><th scope=col>J</th><th scope=col>TcRa</th><th scope=col>Sample</th><th scope=col>Freq</th><th scope=col>subject</th><th scope=col>Patient</th><th scope=col>cycle</th></tr>\n",
       "\t<tr><th scope=col>&lt;dbl&gt;</th><th scope=col>&lt;chr&gt;</th><th scope=col>&lt;dbl&gt;</th><th scope=col>&lt;dbl&gt;</th><th scope=col>&lt;dbl&gt;</th><th scope=col>&lt;dbl&gt;</th><th scope=col>&lt;dbl&gt;</th><th scope=col>&lt;dbl&gt;</th><th scope=col>&lt;dbl&gt;</th><th scope=col>&lt;dbl&gt;</th><th scope=col>...</th><th scope=col>&lt;chr&gt;</th><th scope=col>&lt;chr&gt;</th><th scope=col>&lt;chr&gt;</th><th scope=col>&lt;chr&gt;</th><th scope=col>&lt;lgl&gt;</th><th scope=col>&lt;chr&gt;</th><th scope=col>&lt;dbl&gt;</th><th scope=col>&lt;chr&gt;</th><th scope=col>&lt;chr&gt;</th><th scope=col>&lt;chr&gt;</th></tr>\n",
       "</thead>\n",
       "<tbody>\n",
       "\t<tr><td>1</td><td>SLG%E</td><td>0</td><td>5</td><td>50</td><td>5e-12</td><td>1</td><td>0.001</td><td>0.35</td><td>0.001</td><td>...</td><td>global-SLG%E</td><td>CASSLGVEQYF</td><td>TRBV27  </td><td>TRBJ2-7</td><td>NA</td><td>Leukemia:CHP_359_X03-PBMC   </td><td>24</td><td>Leukemia   </td><td>CHP_359</td><td>X03</td></tr>\n",
       "\t<tr><td>1</td><td>SLG%E</td><td>0</td><td>5</td><td>50</td><td>5e-12</td><td>1</td><td>0.001</td><td>0.35</td><td>0.001</td><td>...</td><td>global-SLG%E</td><td>CASSLGYEQFF</td><td>TRBV27  </td><td>TRBJ2-1</td><td>NA</td><td>Lymphoma:CHP_371_X01-PBMC   </td><td> 8</td><td>Lymphoma   </td><td>CHP_371</td><td>X01</td></tr>\n",
       "\t<tr><td>1</td><td>SLG%E</td><td>0</td><td>5</td><td>50</td><td>5e-12</td><td>1</td><td>0.001</td><td>0.35</td><td>0.001</td><td>...</td><td>global-SLG%E</td><td>CASSLGYEQYF</td><td>TRBV28  </td><td>TRBJ2-7</td><td>NA</td><td>Leukemia:CHP_360_X05-PBMC   </td><td>10</td><td>Leukemia   </td><td>CHP_360</td><td>X05</td></tr>\n",
       "\t<tr><td>1</td><td>SLG%E</td><td>0</td><td>5</td><td>50</td><td>5e-12</td><td>1</td><td>0.001</td><td>0.35</td><td>0.001</td><td>...</td><td>global-SLG%E</td><td>CASSLGYEQYF</td><td>TRBV11-3</td><td>TRBJ2-7</td><td>NA</td><td>Solidtumors:CHP_363_X01-PBMC</td><td>41</td><td>Solidtumors</td><td>CHP_363</td><td>X01</td></tr>\n",
       "\t<tr><td>1</td><td>SLG%E</td><td>0</td><td>5</td><td>50</td><td>5e-12</td><td>1</td><td>0.001</td><td>0.35</td><td>0.001</td><td>...</td><td>global-SLG%E</td><td>CASSLGYEQYF</td><td>TRBV7-9 </td><td>TRBJ2-7</td><td>NA</td><td>Leukemia:CHP_328_X05-PBMC   </td><td>28</td><td>Leukemia   </td><td>CHP_328</td><td>X05</td></tr>\n",
       "\t<tr><td>1</td><td>SLG%E</td><td>0</td><td>5</td><td>50</td><td>5e-12</td><td>1</td><td>0.001</td><td>0.35</td><td>0.001</td><td>...</td><td>global-SLG%E</td><td>CASSLGYEQYF</td><td>TRBV7-9 </td><td>TRBJ2-7</td><td>NA</td><td>Leukemia:CHP_328_X05-PBMC   </td><td> 1</td><td>Leukemia   </td><td>CHP_328</td><td>X05</td></tr>\n",
       "</tbody>\n",
       "</table>\n"
      ],
      "text/latex": [
       "A tibble: 6 x 21\n",
       "\\begin{tabular}{lllllllllllllllllllll}\n",
       " index & pattern & Fisher\\_score & number\\_subject & number\\_unique\\_cdr3 & final\\_score & hla\\_score & vb\\_score & expansion\\_score & length\\_score & ... & type & TcRb & V & J & TcRa & Sample & Freq & subject & Patient & cycle\\\\\n",
       " <dbl> & <chr> & <dbl> & <dbl> & <dbl> & <dbl> & <dbl> & <dbl> & <dbl> & <dbl> & ... & <chr> & <chr> & <chr> & <chr> & <lgl> & <chr> & <dbl> & <chr> & <chr> & <chr>\\\\\n",
       "\\hline\n",
       "\t 1 & SLG\\%E & 0 & 5 & 50 & 5e-12 & 1 & 0.001 & 0.35 & 0.001 & ... & global-SLG\\%E & CASSLGVEQYF & TRBV27   & TRBJ2-7 & NA & Leukemia:CHP\\_359\\_X03-PBMC    & 24 & Leukemia    & CHP\\_359 & X03\\\\\n",
       "\t 1 & SLG\\%E & 0 & 5 & 50 & 5e-12 & 1 & 0.001 & 0.35 & 0.001 & ... & global-SLG\\%E & CASSLGYEQFF & TRBV27   & TRBJ2-1 & NA & Lymphoma:CHP\\_371\\_X01-PBMC    &  8 & Lymphoma    & CHP\\_371 & X01\\\\\n",
       "\t 1 & SLG\\%E & 0 & 5 & 50 & 5e-12 & 1 & 0.001 & 0.35 & 0.001 & ... & global-SLG\\%E & CASSLGYEQYF & TRBV28   & TRBJ2-7 & NA & Leukemia:CHP\\_360\\_X05-PBMC    & 10 & Leukemia    & CHP\\_360 & X05\\\\\n",
       "\t 1 & SLG\\%E & 0 & 5 & 50 & 5e-12 & 1 & 0.001 & 0.35 & 0.001 & ... & global-SLG\\%E & CASSLGYEQYF & TRBV11-3 & TRBJ2-7 & NA & Solidtumors:CHP\\_363\\_X01-PBMC & 41 & Solidtumors & CHP\\_363 & X01\\\\\n",
       "\t 1 & SLG\\%E & 0 & 5 & 50 & 5e-12 & 1 & 0.001 & 0.35 & 0.001 & ... & global-SLG\\%E & CASSLGYEQYF & TRBV7-9  & TRBJ2-7 & NA & Leukemia:CHP\\_328\\_X05-PBMC    & 28 & Leukemia    & CHP\\_328 & X05\\\\\n",
       "\t 1 & SLG\\%E & 0 & 5 & 50 & 5e-12 & 1 & 0.001 & 0.35 & 0.001 & ... & global-SLG\\%E & CASSLGYEQYF & TRBV7-9  & TRBJ2-7 & NA & Leukemia:CHP\\_328\\_X05-PBMC    &  1 & Leukemia    & CHP\\_328 & X05\\\\\n",
       "\\end{tabular}\n"
      ],
      "text/markdown": [
       "\n",
       "A tibble: 6 x 21\n",
       "\n",
       "| index &lt;dbl&gt; | pattern &lt;chr&gt; | Fisher_score &lt;dbl&gt; | number_subject &lt;dbl&gt; | number_unique_cdr3 &lt;dbl&gt; | final_score &lt;dbl&gt; | hla_score &lt;dbl&gt; | vb_score &lt;dbl&gt; | expansion_score &lt;dbl&gt; | length_score &lt;dbl&gt; | ... ... | type &lt;chr&gt; | TcRb &lt;chr&gt; | V &lt;chr&gt; | J &lt;chr&gt; | TcRa &lt;lgl&gt; | Sample &lt;chr&gt; | Freq &lt;dbl&gt; | subject &lt;chr&gt; | Patient &lt;chr&gt; | cycle &lt;chr&gt; |\n",
       "|---|---|---|---|---|---|---|---|---|---|---|---|---|---|---|---|---|---|---|---|---|\n",
       "| 1 | SLG%E | 0 | 5 | 50 | 5e-12 | 1 | 0.001 | 0.35 | 0.001 | ... | global-SLG%E | CASSLGVEQYF | TRBV27   | TRBJ2-7 | NA | Leukemia:CHP_359_X03-PBMC    | 24 | Leukemia    | CHP_359 | X03 |\n",
       "| 1 | SLG%E | 0 | 5 | 50 | 5e-12 | 1 | 0.001 | 0.35 | 0.001 | ... | global-SLG%E | CASSLGYEQFF | TRBV27   | TRBJ2-1 | NA | Lymphoma:CHP_371_X01-PBMC    |  8 | Lymphoma    | CHP_371 | X01 |\n",
       "| 1 | SLG%E | 0 | 5 | 50 | 5e-12 | 1 | 0.001 | 0.35 | 0.001 | ... | global-SLG%E | CASSLGYEQYF | TRBV28   | TRBJ2-7 | NA | Leukemia:CHP_360_X05-PBMC    | 10 | Leukemia    | CHP_360 | X05 |\n",
       "| 1 | SLG%E | 0 | 5 | 50 | 5e-12 | 1 | 0.001 | 0.35 | 0.001 | ... | global-SLG%E | CASSLGYEQYF | TRBV11-3 | TRBJ2-7 | NA | Solidtumors:CHP_363_X01-PBMC | 41 | Solidtumors | CHP_363 | X01 |\n",
       "| 1 | SLG%E | 0 | 5 | 50 | 5e-12 | 1 | 0.001 | 0.35 | 0.001 | ... | global-SLG%E | CASSLGYEQYF | TRBV7-9  | TRBJ2-7 | NA | Leukemia:CHP_328_X05-PBMC    | 28 | Leukemia    | CHP_328 | X05 |\n",
       "| 1 | SLG%E | 0 | 5 | 50 | 5e-12 | 1 | 0.001 | 0.35 | 0.001 | ... | global-SLG%E | CASSLGYEQYF | TRBV7-9  | TRBJ2-7 | NA | Leukemia:CHP_328_X05-PBMC    |  1 | Leukemia    | CHP_328 | X05 |\n",
       "\n"
      ],
      "text/plain": [
       "  index pattern Fisher_score number_subject number_unique_cdr3 final_score\n",
       "1 1     SLG%E   0            5              50                 5e-12      \n",
       "2 1     SLG%E   0            5              50                 5e-12      \n",
       "3 1     SLG%E   0            5              50                 5e-12      \n",
       "4 1     SLG%E   0            5              50                 5e-12      \n",
       "5 1     SLG%E   0            5              50                 5e-12      \n",
       "6 1     SLG%E   0            5              50                 5e-12      \n",
       "  hla_score vb_score expansion_score length_score ... type         TcRb       \n",
       "1 1         0.001    0.35            0.001        ... global-SLG%E CASSLGVEQYF\n",
       "2 1         0.001    0.35            0.001        ... global-SLG%E CASSLGYEQFF\n",
       "3 1         0.001    0.35            0.001        ... global-SLG%E CASSLGYEQYF\n",
       "4 1         0.001    0.35            0.001        ... global-SLG%E CASSLGYEQYF\n",
       "5 1         0.001    0.35            0.001        ... global-SLG%E CASSLGYEQYF\n",
       "6 1         0.001    0.35            0.001        ... global-SLG%E CASSLGYEQYF\n",
       "  V        J       TcRa Sample                       Freq subject     Patient\n",
       "1 TRBV27   TRBJ2-7 NA   Leukemia:CHP_359_X03-PBMC    24   Leukemia    CHP_359\n",
       "2 TRBV27   TRBJ2-1 NA   Lymphoma:CHP_371_X01-PBMC     8   Lymphoma    CHP_371\n",
       "3 TRBV28   TRBJ2-7 NA   Leukemia:CHP_360_X05-PBMC    10   Leukemia    CHP_360\n",
       "4 TRBV11-3 TRBJ2-7 NA   Solidtumors:CHP_363_X01-PBMC 41   Solidtumors CHP_363\n",
       "5 TRBV7-9  TRBJ2-7 NA   Leukemia:CHP_328_X05-PBMC    28   Leukemia    CHP_328\n",
       "6 TRBV7-9  TRBJ2-7 NA   Leukemia:CHP_328_X05-PBMC     1   Leukemia    CHP_328\n",
       "  cycle\n",
       "1 X03  \n",
       "2 X01  \n",
       "3 X05  \n",
       "4 X01  \n",
       "5 X05  \n",
       "6 X05  "
      ]
     },
     "metadata": {},
     "output_type": "display_data"
    }
   ],
   "source": [
    "head(chp_gliph_pbmc)"
   ]
  },
  {
   "cell_type": "code",
   "execution_count": 291,
   "metadata": {
    "vscode": {
     "languageId": "r"
    }
   },
   "outputs": [],
   "source": [
    "# get patients with more than one timepoiint and a baseline\n",
    "mytab <- table(chp_gliph_pbmc$Patient, chp_gliph_pbmc$cycle)\n",
    "mytab <- mytab[rowSums(mytab != 0) > 1, ]\n",
    "baseline_patients <- rownames(mytab)[mytab[, 1] > 0]"
   ]
  },
  {
   "cell_type": "code",
   "execution_count": 292,
   "metadata": {
    "vscode": {
     "languageId": "r"
    }
   },
   "outputs": [
    {
     "data": {
      "text/plain": [
       "         \n",
       "          X01 X02 X03 X04 X05\n",
       "  CHP_323   0   0  21   0  72\n",
       "  CHP_328   0   0   0 255  84\n",
       "  CHP_331   0   0   0  15  60\n",
       "  CHP_338   0   0 202  64 147\n",
       "  CHP_339   0   0  10   0  91\n",
       "  CHP_340   0   0  56  70 232"
      ]
     },
     "metadata": {},
     "output_type": "display_data"
    }
   ],
   "source": [
    "head(mytab)"
   ]
  },
  {
   "cell_type": "code",
   "execution_count": 293,
   "metadata": {
    "vscode": {
     "languageId": "r"
    }
   },
   "outputs": [],
   "source": [
    "df1 <- chp_gliph_pbmc[chp_gliph_pbmc$Patient %in% baseline_patients, ]"
   ]
  },
  {
   "cell_type": "code",
   "execution_count": 294,
   "metadata": {
    "vscode": {
     "languageId": "r"
    }
   },
   "outputs": [],
   "source": [
    "# chp_gliph_pbmc[ chp_gliph_pbmc$Patient == \"CHP_366\" & chp_gliph_pbmc$pattern %in% c(\"SY%GGDE\", \"SYS%GDE\"),]"
   ]
  },
  {
   "cell_type": "code",
   "execution_count": 295,
   "metadata": {
    "vscode": {
     "languageId": "r"
    }
   },
   "outputs": [],
   "source": [
    "# separate pre and post\n",
    "df1_pre <- df1[ df1$cycle == \"X01\",]\n",
    "df1_post <- df1[ df1$cycle != \"X01\",]"
   ]
  },
  {
   "cell_type": "code",
   "execution_count": 296,
   "metadata": {
    "vscode": {
     "languageId": "r"
    }
   },
   "outputs": [],
   "source": [
    "# group by patient and pattern, average frequencyes across samples postchemo\n",
    "df1_post_mean <- df1_post %>%\n",
    "  group_by(Patient, pattern) %>%\n",
    "  summarise(MeanFreq = mean(Freq), .groups = 'drop') %>%\n",
    "  ungroup()"
   ]
  },
  {
   "cell_type": "code",
   "execution_count": 297,
   "metadata": {
    "vscode": {
     "languageId": "r"
    }
   },
   "outputs": [],
   "source": [
    "# group by samples and patterns, avergae the frequencies, if there is > 1 CDR3s in a pattern\n",
    "df1_pre_mean <- df1_pre %>%\n",
    "  group_by(Sample, pattern) %>%\n",
    "  summarise(MeanFreq = mean(Freq), .groups = 'drop') %>%\n",
    "  ungroup()"
   ]
  },
  {
   "cell_type": "code",
   "execution_count": 298,
   "metadata": {
    "vscode": {
     "languageId": "r"
    }
   },
   "outputs": [
    {
     "data": {
      "text/html": [
       "<table class=\"dataframe\">\n",
       "<caption>A tibble: 1 x 21</caption>\n",
       "<thead>\n",
       "\t<tr><th scope=col>index</th><th scope=col>pattern</th><th scope=col>Fisher_score</th><th scope=col>number_subject</th><th scope=col>number_unique_cdr3</th><th scope=col>final_score</th><th scope=col>hla_score</th><th scope=col>vb_score</th><th scope=col>expansion_score</th><th scope=col>length_score</th><th scope=col>...</th><th scope=col>type</th><th scope=col>TcRb</th><th scope=col>V</th><th scope=col>J</th><th scope=col>TcRa</th><th scope=col>Sample</th><th scope=col>Freq</th><th scope=col>subject</th><th scope=col>Patient</th><th scope=col>cycle</th></tr>\n",
       "\t<tr><th scope=col>&lt;dbl&gt;</th><th scope=col>&lt;chr&gt;</th><th scope=col>&lt;dbl&gt;</th><th scope=col>&lt;dbl&gt;</th><th scope=col>&lt;dbl&gt;</th><th scope=col>&lt;dbl&gt;</th><th scope=col>&lt;dbl&gt;</th><th scope=col>&lt;dbl&gt;</th><th scope=col>&lt;dbl&gt;</th><th scope=col>&lt;dbl&gt;</th><th scope=col>...</th><th scope=col>&lt;chr&gt;</th><th scope=col>&lt;chr&gt;</th><th scope=col>&lt;chr&gt;</th><th scope=col>&lt;chr&gt;</th><th scope=col>&lt;lgl&gt;</th><th scope=col>&lt;chr&gt;</th><th scope=col>&lt;dbl&gt;</th><th scope=col>&lt;chr&gt;</th><th scope=col>&lt;chr&gt;</th><th scope=col>&lt;chr&gt;</th></tr>\n",
       "</thead>\n",
       "<tbody>\n",
       "\t<tr><td>17667</td><td>S%RDNQP</td><td>0.0092</td><td>2</td><td>3</td><td>1.8e-08</td><td>1</td><td>0.046</td><td>0.062</td><td>0.001</td><td>...</td><td>global-S%RDNQP</td><td>CASSDRDNQPQHF</td><td>TRBV28</td><td>TRBJ1-5</td><td>NA</td><td>Lymphoma:CHP_412_X02-PBMC</td><td>108</td><td>Lymphoma</td><td>CHP_412</td><td>X02</td></tr>\n",
       "</tbody>\n",
       "</table>\n"
      ],
      "text/latex": [
       "A tibble: 1 x 21\n",
       "\\begin{tabular}{lllllllllllllllllllll}\n",
       " index & pattern & Fisher\\_score & number\\_subject & number\\_unique\\_cdr3 & final\\_score & hla\\_score & vb\\_score & expansion\\_score & length\\_score & ... & type & TcRb & V & J & TcRa & Sample & Freq & subject & Patient & cycle\\\\\n",
       " <dbl> & <chr> & <dbl> & <dbl> & <dbl> & <dbl> & <dbl> & <dbl> & <dbl> & <dbl> & ... & <chr> & <chr> & <chr> & <chr> & <lgl> & <chr> & <dbl> & <chr> & <chr> & <chr>\\\\\n",
       "\\hline\n",
       "\t 17667 & S\\%RDNQP & 0.0092 & 2 & 3 & 1.8e-08 & 1 & 0.046 & 0.062 & 0.001 & ... & global-S\\%RDNQP & CASSDRDNQPQHF & TRBV28 & TRBJ1-5 & NA & Lymphoma:CHP\\_412\\_X02-PBMC & 108 & Lymphoma & CHP\\_412 & X02\\\\\n",
       "\\end{tabular}\n"
      ],
      "text/markdown": [
       "\n",
       "A tibble: 1 x 21\n",
       "\n",
       "| index &lt;dbl&gt; | pattern &lt;chr&gt; | Fisher_score &lt;dbl&gt; | number_subject &lt;dbl&gt; | number_unique_cdr3 &lt;dbl&gt; | final_score &lt;dbl&gt; | hla_score &lt;dbl&gt; | vb_score &lt;dbl&gt; | expansion_score &lt;dbl&gt; | length_score &lt;dbl&gt; | ... ... | type &lt;chr&gt; | TcRb &lt;chr&gt; | V &lt;chr&gt; | J &lt;chr&gt; | TcRa &lt;lgl&gt; | Sample &lt;chr&gt; | Freq &lt;dbl&gt; | subject &lt;chr&gt; | Patient &lt;chr&gt; | cycle &lt;chr&gt; |\n",
       "|---|---|---|---|---|---|---|---|---|---|---|---|---|---|---|---|---|---|---|---|---|\n",
       "| 17667 | S%RDNQP | 0.0092 | 2 | 3 | 1.8e-08 | 1 | 0.046 | 0.062 | 0.001 | ... | global-S%RDNQP | CASSDRDNQPQHF | TRBV28 | TRBJ1-5 | NA | Lymphoma:CHP_412_X02-PBMC | 108 | Lymphoma | CHP_412 | X02 |\n",
       "\n"
      ],
      "text/plain": [
       "  index pattern Fisher_score number_subject number_unique_cdr3 final_score\n",
       "1 17667 S%RDNQP 0.0092       2              3                  1.8e-08    \n",
       "  hla_score vb_score expansion_score length_score ... type          \n",
       "1 1         0.046    0.062           0.001        ... global-S%RDNQP\n",
       "  TcRb          V      J       TcRa Sample                    Freq subject \n",
       "1 CASSDRDNQPQHF TRBV28 TRBJ1-5 NA   Lymphoma:CHP_412_X02-PBMC 108  Lymphoma\n",
       "  Patient cycle\n",
       "1 CHP_412 X02  "
      ]
     },
     "metadata": {},
     "output_type": "display_data"
    }
   ],
   "source": [
    "df1_post[ df1_post$pattern == \"S%RDNQP\",]"
   ]
  },
  {
   "cell_type": "code",
   "execution_count": 299,
   "metadata": {
    "vscode": {
     "languageId": "r"
    }
   },
   "outputs": [
    {
     "data": {
      "text/html": [
       "<table class=\"dataframe\">\n",
       "<caption>A tibble: 6 x 3</caption>\n",
       "<thead>\n",
       "\t<tr><th scope=col>Patient</th><th scope=col>pattern</th><th scope=col>MeanFreq</th></tr>\n",
       "\t<tr><th scope=col>&lt;chr&gt;</th><th scope=col>&lt;chr&gt;</th><th scope=col>&lt;dbl&gt;</th></tr>\n",
       "</thead>\n",
       "<tbody>\n",
       "\t<tr><td>CHP_347</td><td>%DSNTGE </td><td> 3.0</td></tr>\n",
       "\t<tr><td>CHP_347</td><td>%FGAYE  </td><td> 9.0</td></tr>\n",
       "\t<tr><td>CHP_347</td><td>%GGYE   </td><td> 8.0</td></tr>\n",
       "\t<tr><td>CHP_347</td><td>%GPTNEK </td><td>46.0</td></tr>\n",
       "\t<tr><td>CHP_347</td><td>%GQGNTE </td><td> 8.0</td></tr>\n",
       "\t<tr><td>CHP_347</td><td>%GQSNTGE</td><td> 8.5</td></tr>\n",
       "</tbody>\n",
       "</table>\n"
      ],
      "text/latex": [
       "A tibble: 6 x 3\n",
       "\\begin{tabular}{lll}\n",
       " Patient & pattern & MeanFreq\\\\\n",
       " <chr> & <chr> & <dbl>\\\\\n",
       "\\hline\n",
       "\t CHP\\_347 & \\%DSNTGE  &  3.0\\\\\n",
       "\t CHP\\_347 & \\%FGAYE   &  9.0\\\\\n",
       "\t CHP\\_347 & \\%GGYE    &  8.0\\\\\n",
       "\t CHP\\_347 & \\%GPTNEK  & 46.0\\\\\n",
       "\t CHP\\_347 & \\%GQGNTE  &  8.0\\\\\n",
       "\t CHP\\_347 & \\%GQSNTGE &  8.5\\\\\n",
       "\\end{tabular}\n"
      ],
      "text/markdown": [
       "\n",
       "A tibble: 6 x 3\n",
       "\n",
       "| Patient &lt;chr&gt; | pattern &lt;chr&gt; | MeanFreq &lt;dbl&gt; |\n",
       "|---|---|---|\n",
       "| CHP_347 | %DSNTGE  |  3.0 |\n",
       "| CHP_347 | %FGAYE   |  9.0 |\n",
       "| CHP_347 | %GGYE    |  8.0 |\n",
       "| CHP_347 | %GPTNEK  | 46.0 |\n",
       "| CHP_347 | %GQGNTE  |  8.0 |\n",
       "| CHP_347 | %GQSNTGE |  8.5 |\n",
       "\n"
      ],
      "text/plain": [
       "  Patient pattern  MeanFreq\n",
       "1 CHP_347 %DSNTGE   3.0    \n",
       "2 CHP_347 %FGAYE    9.0    \n",
       "3 CHP_347 %GGYE     8.0    \n",
       "4 CHP_347 %GPTNEK  46.0    \n",
       "5 CHP_347 %GQGNTE   8.0    \n",
       "6 CHP_347 %GQSNTGE  8.5    "
      ]
     },
     "metadata": {},
     "output_type": "display_data"
    }
   ],
   "source": [
    "head(df1_post_mean)"
   ]
  },
  {
   "cell_type": "code",
   "execution_count": 300,
   "metadata": {
    "vscode": {
     "languageId": "r"
    }
   },
   "outputs": [
    {
     "data": {
      "text/html": [
       "<table class=\"dataframe\">\n",
       "<caption>A tibble: 6 x 3</caption>\n",
       "<thead>\n",
       "\t<tr><th scope=col>Sample</th><th scope=col>pattern</th><th scope=col>MeanFreq</th></tr>\n",
       "\t<tr><th scope=col>&lt;chr&gt;</th><th scope=col>&lt;chr&gt;</th><th scope=col>&lt;dbl&gt;</th></tr>\n",
       "</thead>\n",
       "<tbody>\n",
       "\t<tr><td>Leukemia:CHP_347_X01-PBMC</td><td>%GNTE  </td><td>25</td></tr>\n",
       "\t<tr><td>Leukemia:CHP_347_X01-PBMC</td><td>%GSTDT </td><td> 9</td></tr>\n",
       "\t<tr><td>Leukemia:CHP_347_X01-PBMC</td><td>%LADYE </td><td>20</td></tr>\n",
       "\t<tr><td>Leukemia:CHP_347_X01-PBMC</td><td>G%STDT </td><td> 9</td></tr>\n",
       "\t<tr><td>Leukemia:CHP_347_X01-PBMC</td><td>GG%TDT </td><td> 9</td></tr>\n",
       "\t<tr><td>Leukemia:CHP_347_X01-PBMC</td><td>GR%NTGE</td><td>77</td></tr>\n",
       "</tbody>\n",
       "</table>\n"
      ],
      "text/latex": [
       "A tibble: 6 x 3\n",
       "\\begin{tabular}{lll}\n",
       " Sample & pattern & MeanFreq\\\\\n",
       " <chr> & <chr> & <dbl>\\\\\n",
       "\\hline\n",
       "\t Leukemia:CHP\\_347\\_X01-PBMC & \\%GNTE   & 25\\\\\n",
       "\t Leukemia:CHP\\_347\\_X01-PBMC & \\%GSTDT  &  9\\\\\n",
       "\t Leukemia:CHP\\_347\\_X01-PBMC & \\%LADYE  & 20\\\\\n",
       "\t Leukemia:CHP\\_347\\_X01-PBMC & G\\%STDT  &  9\\\\\n",
       "\t Leukemia:CHP\\_347\\_X01-PBMC & GG\\%TDT  &  9\\\\\n",
       "\t Leukemia:CHP\\_347\\_X01-PBMC & GR\\%NTGE & 77\\\\\n",
       "\\end{tabular}\n"
      ],
      "text/markdown": [
       "\n",
       "A tibble: 6 x 3\n",
       "\n",
       "| Sample &lt;chr&gt; | pattern &lt;chr&gt; | MeanFreq &lt;dbl&gt; |\n",
       "|---|---|---|\n",
       "| Leukemia:CHP_347_X01-PBMC | %GNTE   | 25 |\n",
       "| Leukemia:CHP_347_X01-PBMC | %GSTDT  |  9 |\n",
       "| Leukemia:CHP_347_X01-PBMC | %LADYE  | 20 |\n",
       "| Leukemia:CHP_347_X01-PBMC | G%STDT  |  9 |\n",
       "| Leukemia:CHP_347_X01-PBMC | GG%TDT  |  9 |\n",
       "| Leukemia:CHP_347_X01-PBMC | GR%NTGE | 77 |\n",
       "\n"
      ],
      "text/plain": [
       "  Sample                    pattern MeanFreq\n",
       "1 Leukemia:CHP_347_X01-PBMC %GNTE   25      \n",
       "2 Leukemia:CHP_347_X01-PBMC %GSTDT   9      \n",
       "3 Leukemia:CHP_347_X01-PBMC %LADYE  20      \n",
       "4 Leukemia:CHP_347_X01-PBMC G%STDT   9      \n",
       "5 Leukemia:CHP_347_X01-PBMC GG%TDT   9      \n",
       "6 Leukemia:CHP_347_X01-PBMC GR%NTGE 77      "
      ]
     },
     "metadata": {},
     "output_type": "display_data"
    }
   ],
   "source": [
    "head(df1_pre_mean)"
   ]
  },
  {
   "cell_type": "code",
   "execution_count": 301,
   "metadata": {
    "vscode": {
     "languageId": "r"
    }
   },
   "outputs": [],
   "source": [
    "df1_pre_mean$Patient <- gsub(\".*CHP\", \"CHP\", df1_pre_mean$Sample)\n",
    "df1_pre_mean$Patient <- gsub(\"_X.*\", \"\", df1_pre_mean$Patient)\n",
    "\n",
    "df1_pre_mean$cycle <- gsub(\".*X\", \"X\", df1_pre_mean$Sample)\n",
    "df1_pre_mean$cycle <- gsub(\"-.*\", \"\", df1_pre_mean$cycle)"
   ]
  },
  {
   "cell_type": "code",
   "execution_count": 302,
   "metadata": {
    "vscode": {
     "languageId": "r"
    }
   },
   "outputs": [
    {
     "data": {
      "text/html": [
       "<table class=\"dataframe\">\n",
       "<caption>A tibble: 6 x 5</caption>\n",
       "<thead>\n",
       "\t<tr><th scope=col>Sample</th><th scope=col>pattern</th><th scope=col>MeanFreq</th><th scope=col>Patient</th><th scope=col>cycle</th></tr>\n",
       "\t<tr><th scope=col>&lt;chr&gt;</th><th scope=col>&lt;chr&gt;</th><th scope=col>&lt;dbl&gt;</th><th scope=col>&lt;chr&gt;</th><th scope=col>&lt;chr&gt;</th></tr>\n",
       "</thead>\n",
       "<tbody>\n",
       "\t<tr><td>Leukemia:CHP_347_X01-PBMC</td><td>%GNTE  </td><td>25</td><td>CHP_347</td><td>X01</td></tr>\n",
       "\t<tr><td>Leukemia:CHP_347_X01-PBMC</td><td>%GSTDT </td><td> 9</td><td>CHP_347</td><td>X01</td></tr>\n",
       "\t<tr><td>Leukemia:CHP_347_X01-PBMC</td><td>%LADYE </td><td>20</td><td>CHP_347</td><td>X01</td></tr>\n",
       "\t<tr><td>Leukemia:CHP_347_X01-PBMC</td><td>G%STDT </td><td> 9</td><td>CHP_347</td><td>X01</td></tr>\n",
       "\t<tr><td>Leukemia:CHP_347_X01-PBMC</td><td>GG%TDT </td><td> 9</td><td>CHP_347</td><td>X01</td></tr>\n",
       "\t<tr><td>Leukemia:CHP_347_X01-PBMC</td><td>GR%NTGE</td><td>77</td><td>CHP_347</td><td>X01</td></tr>\n",
       "</tbody>\n",
       "</table>\n"
      ],
      "text/latex": [
       "A tibble: 6 x 5\n",
       "\\begin{tabular}{lllll}\n",
       " Sample & pattern & MeanFreq & Patient & cycle\\\\\n",
       " <chr> & <chr> & <dbl> & <chr> & <chr>\\\\\n",
       "\\hline\n",
       "\t Leukemia:CHP\\_347\\_X01-PBMC & \\%GNTE   & 25 & CHP\\_347 & X01\\\\\n",
       "\t Leukemia:CHP\\_347\\_X01-PBMC & \\%GSTDT  &  9 & CHP\\_347 & X01\\\\\n",
       "\t Leukemia:CHP\\_347\\_X01-PBMC & \\%LADYE  & 20 & CHP\\_347 & X01\\\\\n",
       "\t Leukemia:CHP\\_347\\_X01-PBMC & G\\%STDT  &  9 & CHP\\_347 & X01\\\\\n",
       "\t Leukemia:CHP\\_347\\_X01-PBMC & GG\\%TDT  &  9 & CHP\\_347 & X01\\\\\n",
       "\t Leukemia:CHP\\_347\\_X01-PBMC & GR\\%NTGE & 77 & CHP\\_347 & X01\\\\\n",
       "\\end{tabular}\n"
      ],
      "text/markdown": [
       "\n",
       "A tibble: 6 x 5\n",
       "\n",
       "| Sample &lt;chr&gt; | pattern &lt;chr&gt; | MeanFreq &lt;dbl&gt; | Patient &lt;chr&gt; | cycle &lt;chr&gt; |\n",
       "|---|---|---|---|---|\n",
       "| Leukemia:CHP_347_X01-PBMC | %GNTE   | 25 | CHP_347 | X01 |\n",
       "| Leukemia:CHP_347_X01-PBMC | %GSTDT  |  9 | CHP_347 | X01 |\n",
       "| Leukemia:CHP_347_X01-PBMC | %LADYE  | 20 | CHP_347 | X01 |\n",
       "| Leukemia:CHP_347_X01-PBMC | G%STDT  |  9 | CHP_347 | X01 |\n",
       "| Leukemia:CHP_347_X01-PBMC | GG%TDT  |  9 | CHP_347 | X01 |\n",
       "| Leukemia:CHP_347_X01-PBMC | GR%NTGE | 77 | CHP_347 | X01 |\n",
       "\n"
      ],
      "text/plain": [
       "  Sample                    pattern MeanFreq Patient cycle\n",
       "1 Leukemia:CHP_347_X01-PBMC %GNTE   25       CHP_347 X01  \n",
       "2 Leukemia:CHP_347_X01-PBMC %GSTDT   9       CHP_347 X01  \n",
       "3 Leukemia:CHP_347_X01-PBMC %LADYE  20       CHP_347 X01  \n",
       "4 Leukemia:CHP_347_X01-PBMC G%STDT   9       CHP_347 X01  \n",
       "5 Leukemia:CHP_347_X01-PBMC GG%TDT   9       CHP_347 X01  \n",
       "6 Leukemia:CHP_347_X01-PBMC GR%NTGE 77       CHP_347 X01  "
      ]
     },
     "metadata": {},
     "output_type": "display_data"
    }
   ],
   "source": [
    "head(df1_pre_mean)"
   ]
  },
  {
   "cell_type": "code",
   "execution_count": 303,
   "metadata": {
    "vscode": {
     "languageId": "r"
    }
   },
   "outputs": [],
   "source": [
    "# matrix gliph x patient\n",
    "gliph_pat_mat <- matrix(NA,\n",
    "    nrow = length(unique(df1$pattern)), ncol = length(unique(df1$Patient)),\n",
    "    dimnames = list(unique(df1$pattern), unique(df1$Patient))\n",
    ")"
   ]
  },
  {
   "cell_type": "code",
   "execution_count": 304,
   "metadata": {
    "vscode": {
     "languageId": "r"
    }
   },
   "outputs": [
    {
     "data": {
      "text/html": [
       "<table class=\"dataframe\">\n",
       "<caption>A matrix: 6 x 33 of type lgl</caption>\n",
       "<thead>\n",
       "\t<tr><th></th><th scope=col>CHP_363</th><th scope=col>CHP_381</th><th scope=col>CHP_366</th><th scope=col>CHP_347</th><th scope=col>CHP_369</th><th scope=col>CHP_399</th><th scope=col>CHP_405</th><th scope=col>CHP_350</th><th scope=col>CHP_353</th><th scope=col>CHP_396</th><th scope=col>...</th><th scope=col>CHP_378</th><th scope=col>CHP_373</th><th scope=col>CHP_362</th><th scope=col>CHP_348</th><th scope=col>CHP_397</th><th scope=col>CHP_349</th><th scope=col>CHP_412</th><th scope=col>CHP_364</th><th scope=col>CHP_367</th><th scope=col>CHP_361</th></tr>\n",
       "</thead>\n",
       "<tbody>\n",
       "\t<tr><th scope=row>SLG%E</th><td>NA</td><td>NA</td><td>NA</td><td>NA</td><td>NA</td><td>NA</td><td>NA</td><td>NA</td><td>NA</td><td>NA</td><td>...</td><td>NA</td><td>NA</td><td>NA</td><td>NA</td><td>NA</td><td>NA</td><td>NA</td><td>NA</td><td>NA</td><td>NA</td></tr>\n",
       "\t<tr><th scope=row>S%GGNTE</th><td>NA</td><td>NA</td><td>NA</td><td>NA</td><td>NA</td><td>NA</td><td>NA</td><td>NA</td><td>NA</td><td>NA</td><td>...</td><td>NA</td><td>NA</td><td>NA</td><td>NA</td><td>NA</td><td>NA</td><td>NA</td><td>NA</td><td>NA</td><td>NA</td></tr>\n",
       "\t<tr><th scope=row>WVYE</th><td>NA</td><td>NA</td><td>NA</td><td>NA</td><td>NA</td><td>NA</td><td>NA</td><td>NA</td><td>NA</td><td>NA</td><td>...</td><td>NA</td><td>NA</td><td>NA</td><td>NA</td><td>NA</td><td>NA</td><td>NA</td><td>NA</td><td>NA</td><td>NA</td></tr>\n",
       "\t<tr><th scope=row>YDTG</th><td>NA</td><td>NA</td><td>NA</td><td>NA</td><td>NA</td><td>NA</td><td>NA</td><td>NA</td><td>NA</td><td>NA</td><td>...</td><td>NA</td><td>NA</td><td>NA</td><td>NA</td><td>NA</td><td>NA</td><td>NA</td><td>NA</td><td>NA</td><td>NA</td></tr>\n",
       "\t<tr><th scope=row>S%TGNTE</th><td>NA</td><td>NA</td><td>NA</td><td>NA</td><td>NA</td><td>NA</td><td>NA</td><td>NA</td><td>NA</td><td>NA</td><td>...</td><td>NA</td><td>NA</td><td>NA</td><td>NA</td><td>NA</td><td>NA</td><td>NA</td><td>NA</td><td>NA</td><td>NA</td></tr>\n",
       "\t<tr><th scope=row>S%SGANV</th><td>NA</td><td>NA</td><td>NA</td><td>NA</td><td>NA</td><td>NA</td><td>NA</td><td>NA</td><td>NA</td><td>NA</td><td>...</td><td>NA</td><td>NA</td><td>NA</td><td>NA</td><td>NA</td><td>NA</td><td>NA</td><td>NA</td><td>NA</td><td>NA</td></tr>\n",
       "</tbody>\n",
       "</table>\n"
      ],
      "text/latex": [
       "A matrix: 6 x 33 of type lgl\n",
       "\\begin{tabular}{r|lllllllllllllllllllll}\n",
       "  & CHP\\_363 & CHP\\_381 & CHP\\_366 & CHP\\_347 & CHP\\_369 & CHP\\_399 & CHP\\_405 & CHP\\_350 & CHP\\_353 & CHP\\_396 & ... & CHP\\_378 & CHP\\_373 & CHP\\_362 & CHP\\_348 & CHP\\_397 & CHP\\_349 & CHP\\_412 & CHP\\_364 & CHP\\_367 & CHP\\_361\\\\\n",
       "\\hline\n",
       "\tSLG\\%E & NA & NA & NA & NA & NA & NA & NA & NA & NA & NA & ... & NA & NA & NA & NA & NA & NA & NA & NA & NA & NA\\\\\n",
       "\tS\\%GGNTE & NA & NA & NA & NA & NA & NA & NA & NA & NA & NA & ... & NA & NA & NA & NA & NA & NA & NA & NA & NA & NA\\\\\n",
       "\tWVYE & NA & NA & NA & NA & NA & NA & NA & NA & NA & NA & ... & NA & NA & NA & NA & NA & NA & NA & NA & NA & NA\\\\\n",
       "\tYDTG & NA & NA & NA & NA & NA & NA & NA & NA & NA & NA & ... & NA & NA & NA & NA & NA & NA & NA & NA & NA & NA\\\\\n",
       "\tS\\%TGNTE & NA & NA & NA & NA & NA & NA & NA & NA & NA & NA & ... & NA & NA & NA & NA & NA & NA & NA & NA & NA & NA\\\\\n",
       "\tS\\%SGANV & NA & NA & NA & NA & NA & NA & NA & NA & NA & NA & ... & NA & NA & NA & NA & NA & NA & NA & NA & NA & NA\\\\\n",
       "\\end{tabular}\n"
      ],
      "text/markdown": [
       "\n",
       "A matrix: 6 x 33 of type lgl\n",
       "\n",
       "| <!--/--> | CHP_363 | CHP_381 | CHP_366 | CHP_347 | CHP_369 | CHP_399 | CHP_405 | CHP_350 | CHP_353 | CHP_396 | ... | CHP_378 | CHP_373 | CHP_362 | CHP_348 | CHP_397 | CHP_349 | CHP_412 | CHP_364 | CHP_367 | CHP_361 |\n",
       "|---|---|---|---|---|---|---|---|---|---|---|---|---|---|---|---|---|---|---|---|---|---|\n",
       "| SLG%E | NA | NA | NA | NA | NA | NA | NA | NA | NA | NA | ... | NA | NA | NA | NA | NA | NA | NA | NA | NA | NA |\n",
       "| S%GGNTE | NA | NA | NA | NA | NA | NA | NA | NA | NA | NA | ... | NA | NA | NA | NA | NA | NA | NA | NA | NA | NA |\n",
       "| WVYE | NA | NA | NA | NA | NA | NA | NA | NA | NA | NA | ... | NA | NA | NA | NA | NA | NA | NA | NA | NA | NA |\n",
       "| YDTG | NA | NA | NA | NA | NA | NA | NA | NA | NA | NA | ... | NA | NA | NA | NA | NA | NA | NA | NA | NA | NA |\n",
       "| S%TGNTE | NA | NA | NA | NA | NA | NA | NA | NA | NA | NA | ... | NA | NA | NA | NA | NA | NA | NA | NA | NA | NA |\n",
       "| S%SGANV | NA | NA | NA | NA | NA | NA | NA | NA | NA | NA | ... | NA | NA | NA | NA | NA | NA | NA | NA | NA | NA |\n",
       "\n"
      ],
      "text/plain": [
       "        CHP_363 CHP_381 CHP_366 CHP_347 CHP_369 CHP_399 CHP_405 CHP_350 CHP_353\n",
       "SLG%E   NA      NA      NA      NA      NA      NA      NA      NA      NA     \n",
       "S%GGNTE NA      NA      NA      NA      NA      NA      NA      NA      NA     \n",
       "WVYE    NA      NA      NA      NA      NA      NA      NA      NA      NA     \n",
       "YDTG    NA      NA      NA      NA      NA      NA      NA      NA      NA     \n",
       "S%TGNTE NA      NA      NA      NA      NA      NA      NA      NA      NA     \n",
       "S%SGANV NA      NA      NA      NA      NA      NA      NA      NA      NA     \n",
       "        CHP_396 ... CHP_378 CHP_373 CHP_362 CHP_348 CHP_397 CHP_349 CHP_412\n",
       "SLG%E   NA      ... NA      NA      NA      NA      NA      NA      NA     \n",
       "S%GGNTE NA      ... NA      NA      NA      NA      NA      NA      NA     \n",
       "WVYE    NA      ... NA      NA      NA      NA      NA      NA      NA     \n",
       "YDTG    NA      ... NA      NA      NA      NA      NA      NA      NA     \n",
       "S%TGNTE NA      ... NA      NA      NA      NA      NA      NA      NA     \n",
       "S%SGANV NA      ... NA      NA      NA      NA      NA      NA      NA     \n",
       "        CHP_364 CHP_367 CHP_361\n",
       "SLG%E   NA      NA      NA     \n",
       "S%GGNTE NA      NA      NA     \n",
       "WVYE    NA      NA      NA     \n",
       "YDTG    NA      NA      NA     \n",
       "S%TGNTE NA      NA      NA     \n",
       "S%SGANV NA      NA      NA     "
      ]
     },
     "metadata": {},
     "output_type": "display_data"
    }
   ],
   "source": [
    "head(gliph_pat_mat)"
   ]
  },
  {
   "cell_type": "code",
   "execution_count": 305,
   "metadata": {
    "vscode": {
     "languageId": "r"
    }
   },
   "outputs": [],
   "source": [
    "for (i in 1:nrow(gliph_pat_mat)) { # pattern loop\n",
    "    for (j in 1:ncol(gliph_pat_mat)) { # patient loop\n",
    "        mypattern <- rownames(gliph_pat_mat)[i]\n",
    "        mypt <- colnames(gliph_pat_mat)[j]\n",
    "        pt_pre <- df1_pre_mean[df1_pre_mean$Patient == mypt, ]\n",
    "        pt_post <- df1_post_mean[df1_post_mean$Patient == mypt, ]\n",
    "        if (length(pt_pre$MeanFreq[pt_pre$pattern == mypattern]) != 0 && length(pt_post$MeanFreq[pt_post$pattern == mypattern]) != 0) { # if pattern is present in both pre and post\n",
    "            gliph_pat_mat[i, j] <- pt_post$MeanFreq[pt_post$pattern == mypattern] - pt_pre$MeanFreq[pt_pre$pattern == mypattern] # post - pre\n",
    "        } # end of if\n",
    "    } # end of patient loop\n",
    "} # end of pattern loop"
   ]
  },
  {
   "cell_type": "code",
   "execution_count": 306,
   "metadata": {
    "vscode": {
     "languageId": "r"
    }
   },
   "outputs": [],
   "source": [
    "gliph_pat_mat <- as.data.frame(gliph_pat_mat)"
   ]
  },
  {
   "cell_type": "code",
   "execution_count": 307,
   "metadata": {
    "vscode": {
     "languageId": "r"
    }
   },
   "outputs": [],
   "source": [
    "# Add Fisher score to gliph_pat_mat\n",
    "gliph_pat_mat$fisher <- df1$Fisher_score[match(rownames(gliph_pat_mat), df1$pattern)]"
   ]
  },
  {
   "cell_type": "code",
   "execution_count": 308,
   "metadata": {
    "vscode": {
     "languageId": "r"
    }
   },
   "outputs": [],
   "source": [
    "gliph_pat_mat$gliph <- rownames(gliph_pat_mat)"
   ]
  },
  {
   "cell_type": "code",
   "execution_count": 309,
   "metadata": {
    "vscode": {
     "languageId": "r"
    }
   },
   "outputs": [
    {
     "data": {
      "text/html": [
       "<table class=\"dataframe\">\n",
       "<caption>A data.frame: 6 x 35</caption>\n",
       "<thead>\n",
       "\t<tr><th></th><th scope=col>CHP_363</th><th scope=col>CHP_381</th><th scope=col>CHP_366</th><th scope=col>CHP_347</th><th scope=col>CHP_369</th><th scope=col>CHP_399</th><th scope=col>CHP_405</th><th scope=col>CHP_350</th><th scope=col>CHP_353</th><th scope=col>CHP_396</th><th scope=col>...</th><th scope=col>CHP_362</th><th scope=col>CHP_348</th><th scope=col>CHP_397</th><th scope=col>CHP_349</th><th scope=col>CHP_412</th><th scope=col>CHP_364</th><th scope=col>CHP_367</th><th scope=col>CHP_361</th><th scope=col>fisher</th><th scope=col>gliph</th></tr>\n",
       "\t<tr><th></th><th scope=col>&lt;dbl&gt;</th><th scope=col>&lt;dbl&gt;</th><th scope=col>&lt;dbl&gt;</th><th scope=col>&lt;dbl&gt;</th><th scope=col>&lt;dbl&gt;</th><th scope=col>&lt;dbl&gt;</th><th scope=col>&lt;dbl&gt;</th><th scope=col>&lt;dbl&gt;</th><th scope=col>&lt;dbl&gt;</th><th scope=col>&lt;dbl&gt;</th><th scope=col>...</th><th scope=col>&lt;dbl&gt;</th><th scope=col>&lt;dbl&gt;</th><th scope=col>&lt;dbl&gt;</th><th scope=col>&lt;dbl&gt;</th><th scope=col>&lt;dbl&gt;</th><th scope=col>&lt;dbl&gt;</th><th scope=col>&lt;dbl&gt;</th><th scope=col>&lt;dbl&gt;</th><th scope=col>&lt;dbl&gt;</th><th scope=col>&lt;chr&gt;</th></tr>\n",
       "</thead>\n",
       "<tbody>\n",
       "\t<tr><th scope=row>SLG%E</th><td>NA</td><td>  NA</td><td>NA</td><td>NA</td><td>NA</td><td>NA</td><td>NA</td><td>NA</td><td>NA</td><td>NA</td><td>...</td><td>NA</td><td>NA</td><td>NA</td><td>NA</td><td>NA</td><td>NA</td><td>NA</td><td>NA</td><td>0.0e+00</td><td>SLG%E  </td></tr>\n",
       "\t<tr><th scope=row>S%GGNTE</th><td>NA</td><td>-109</td><td>NA</td><td>NA</td><td>NA</td><td>NA</td><td>NA</td><td>NA</td><td>NA</td><td>NA</td><td>...</td><td>NA</td><td>NA</td><td>NA</td><td>NA</td><td>NA</td><td>NA</td><td>NA</td><td>NA</td><td>0.0e+00</td><td>S%GGNTE</td></tr>\n",
       "\t<tr><th scope=row>WVYE</th><td>NA</td><td>  NA</td><td>NA</td><td>NA</td><td>NA</td><td>NA</td><td>NA</td><td>NA</td><td>NA</td><td>NA</td><td>...</td><td>NA</td><td>NA</td><td>NA</td><td>NA</td><td>NA</td><td>NA</td><td>NA</td><td>NA</td><td>0.0e+00</td><td>WVYE   </td></tr>\n",
       "\t<tr><th scope=row>YDTG</th><td>NA</td><td>  NA</td><td>NA</td><td>NA</td><td>NA</td><td>NA</td><td>NA</td><td>NA</td><td>NA</td><td>NA</td><td>...</td><td>NA</td><td>NA</td><td>NA</td><td>NA</td><td>NA</td><td>NA</td><td>NA</td><td>NA</td><td>0.0e+00</td><td>YDTG   </td></tr>\n",
       "\t<tr><th scope=row>S%TGNTE</th><td>NA</td><td>  NA</td><td>NA</td><td>NA</td><td>NA</td><td>NA</td><td>NA</td><td>NA</td><td>NA</td><td>NA</td><td>...</td><td>NA</td><td>NA</td><td>NA</td><td>NA</td><td>NA</td><td>NA</td><td>NA</td><td>NA</td><td>2.3e-41</td><td>S%TGNTE</td></tr>\n",
       "\t<tr><th scope=row>S%SGANV</th><td>NA</td><td>  NA</td><td>NA</td><td>NA</td><td>NA</td><td>NA</td><td>NA</td><td>NA</td><td>NA</td><td>NA</td><td>...</td><td>NA</td><td>NA</td><td>NA</td><td>NA</td><td>NA</td><td>NA</td><td>NA</td><td>NA</td><td>7.5e-41</td><td>S%SGANV</td></tr>\n",
       "</tbody>\n",
       "</table>\n"
      ],
      "text/latex": [
       "A data.frame: 6 x 35\n",
       "\\begin{tabular}{r|lllllllllllllllllllll}\n",
       "  & CHP\\_363 & CHP\\_381 & CHP\\_366 & CHP\\_347 & CHP\\_369 & CHP\\_399 & CHP\\_405 & CHP\\_350 & CHP\\_353 & CHP\\_396 & ... & CHP\\_362 & CHP\\_348 & CHP\\_397 & CHP\\_349 & CHP\\_412 & CHP\\_364 & CHP\\_367 & CHP\\_361 & fisher & gliph\\\\\n",
       "  & <dbl> & <dbl> & <dbl> & <dbl> & <dbl> & <dbl> & <dbl> & <dbl> & <dbl> & <dbl> & ... & <dbl> & <dbl> & <dbl> & <dbl> & <dbl> & <dbl> & <dbl> & <dbl> & <dbl> & <chr>\\\\\n",
       "\\hline\n",
       "\tSLG\\%E & NA &   NA & NA & NA & NA & NA & NA & NA & NA & NA & ... & NA & NA & NA & NA & NA & NA & NA & NA & 0.0e+00 & SLG\\%E  \\\\\n",
       "\tS\\%GGNTE & NA & -109 & NA & NA & NA & NA & NA & NA & NA & NA & ... & NA & NA & NA & NA & NA & NA & NA & NA & 0.0e+00 & S\\%GGNTE\\\\\n",
       "\tWVYE & NA &   NA & NA & NA & NA & NA & NA & NA & NA & NA & ... & NA & NA & NA & NA & NA & NA & NA & NA & 0.0e+00 & WVYE   \\\\\n",
       "\tYDTG & NA &   NA & NA & NA & NA & NA & NA & NA & NA & NA & ... & NA & NA & NA & NA & NA & NA & NA & NA & 0.0e+00 & YDTG   \\\\\n",
       "\tS\\%TGNTE & NA &   NA & NA & NA & NA & NA & NA & NA & NA & NA & ... & NA & NA & NA & NA & NA & NA & NA & NA & 2.3e-41 & S\\%TGNTE\\\\\n",
       "\tS\\%SGANV & NA &   NA & NA & NA & NA & NA & NA & NA & NA & NA & ... & NA & NA & NA & NA & NA & NA & NA & NA & 7.5e-41 & S\\%SGANV\\\\\n",
       "\\end{tabular}\n"
      ],
      "text/markdown": [
       "\n",
       "A data.frame: 6 x 35\n",
       "\n",
       "| <!--/--> | CHP_363 &lt;dbl&gt; | CHP_381 &lt;dbl&gt; | CHP_366 &lt;dbl&gt; | CHP_347 &lt;dbl&gt; | CHP_369 &lt;dbl&gt; | CHP_399 &lt;dbl&gt; | CHP_405 &lt;dbl&gt; | CHP_350 &lt;dbl&gt; | CHP_353 &lt;dbl&gt; | CHP_396 &lt;dbl&gt; | ... ... | CHP_362 &lt;dbl&gt; | CHP_348 &lt;dbl&gt; | CHP_397 &lt;dbl&gt; | CHP_349 &lt;dbl&gt; | CHP_412 &lt;dbl&gt; | CHP_364 &lt;dbl&gt; | CHP_367 &lt;dbl&gt; | CHP_361 &lt;dbl&gt; | fisher &lt;dbl&gt; | gliph &lt;chr&gt; |\n",
       "|---|---|---|---|---|---|---|---|---|---|---|---|---|---|---|---|---|---|---|---|---|---|\n",
       "| SLG%E | NA |   NA | NA | NA | NA | NA | NA | NA | NA | NA | ... | NA | NA | NA | NA | NA | NA | NA | NA | 0.0e+00 | SLG%E   |\n",
       "| S%GGNTE | NA | -109 | NA | NA | NA | NA | NA | NA | NA | NA | ... | NA | NA | NA | NA | NA | NA | NA | NA | 0.0e+00 | S%GGNTE |\n",
       "| WVYE | NA |   NA | NA | NA | NA | NA | NA | NA | NA | NA | ... | NA | NA | NA | NA | NA | NA | NA | NA | 0.0e+00 | WVYE    |\n",
       "| YDTG | NA |   NA | NA | NA | NA | NA | NA | NA | NA | NA | ... | NA | NA | NA | NA | NA | NA | NA | NA | 0.0e+00 | YDTG    |\n",
       "| S%TGNTE | NA |   NA | NA | NA | NA | NA | NA | NA | NA | NA | ... | NA | NA | NA | NA | NA | NA | NA | NA | 2.3e-41 | S%TGNTE |\n",
       "| S%SGANV | NA |   NA | NA | NA | NA | NA | NA | NA | NA | NA | ... | NA | NA | NA | NA | NA | NA | NA | NA | 7.5e-41 | S%SGANV |\n",
       "\n"
      ],
      "text/plain": [
       "        CHP_363 CHP_381 CHP_366 CHP_347 CHP_369 CHP_399 CHP_405 CHP_350 CHP_353\n",
       "SLG%E   NA        NA    NA      NA      NA      NA      NA      NA      NA     \n",
       "S%GGNTE NA      -109    NA      NA      NA      NA      NA      NA      NA     \n",
       "WVYE    NA        NA    NA      NA      NA      NA      NA      NA      NA     \n",
       "YDTG    NA        NA    NA      NA      NA      NA      NA      NA      NA     \n",
       "S%TGNTE NA        NA    NA      NA      NA      NA      NA      NA      NA     \n",
       "S%SGANV NA        NA    NA      NA      NA      NA      NA      NA      NA     \n",
       "        CHP_396 ... CHP_362 CHP_348 CHP_397 CHP_349 CHP_412 CHP_364 CHP_367\n",
       "SLG%E   NA      ... NA      NA      NA      NA      NA      NA      NA     \n",
       "S%GGNTE NA      ... NA      NA      NA      NA      NA      NA      NA     \n",
       "WVYE    NA      ... NA      NA      NA      NA      NA      NA      NA     \n",
       "YDTG    NA      ... NA      NA      NA      NA      NA      NA      NA     \n",
       "S%TGNTE NA      ... NA      NA      NA      NA      NA      NA      NA     \n",
       "S%SGANV NA      ... NA      NA      NA      NA      NA      NA      NA     \n",
       "        CHP_361 fisher  gliph  \n",
       "SLG%E   NA      0.0e+00 SLG%E  \n",
       "S%GGNTE NA      0.0e+00 S%GGNTE\n",
       "WVYE    NA      0.0e+00 WVYE   \n",
       "YDTG    NA      0.0e+00 YDTG   \n",
       "S%TGNTE NA      2.3e-41 S%TGNTE\n",
       "S%SGANV NA      7.5e-41 S%SGANV"
      ]
     },
     "metadata": {},
     "output_type": "display_data"
    }
   ],
   "source": [
    "head(gliph_pat_mat)"
   ]
  },
  {
   "cell_type": "code",
   "execution_count": 310,
   "metadata": {
    "vscode": {
     "languageId": "r"
    }
   },
   "outputs": [],
   "source": [
    "# long format keep fisher and gliph as columns\n",
    "gliph_pat_mat_long <- tidyr::pivot_longer(gliph_pat_mat, -c(\"fisher\", \"gliph\"), names_to = \"Patient\", values_to = \"Delta\")"
   ]
  },
  {
   "cell_type": "code",
   "execution_count": 311,
   "metadata": {
    "vscode": {
     "languageId": "r"
    }
   },
   "outputs": [],
   "source": [
    "# remove rows with NA\n",
    "gliph_pat_mat_long <- gliph_pat_mat_long[ !is.na(gliph_pat_mat_long$Delta), ]"
   ]
  },
  {
   "cell_type": "code",
   "execution_count": 312,
   "metadata": {
    "vscode": {
     "languageId": "r"
    }
   },
   "outputs": [
    {
     "data": {
      "text/html": [
       "<table class=\"dataframe\">\n",
       "<caption>A data.frame: 6 x 35</caption>\n",
       "<thead>\n",
       "\t<tr><th></th><th scope=col>CHP_363</th><th scope=col>CHP_381</th><th scope=col>CHP_366</th><th scope=col>CHP_347</th><th scope=col>CHP_369</th><th scope=col>CHP_399</th><th scope=col>CHP_405</th><th scope=col>CHP_350</th><th scope=col>CHP_353</th><th scope=col>CHP_396</th><th scope=col>...</th><th scope=col>CHP_362</th><th scope=col>CHP_348</th><th scope=col>CHP_397</th><th scope=col>CHP_349</th><th scope=col>CHP_412</th><th scope=col>CHP_364</th><th scope=col>CHP_367</th><th scope=col>CHP_361</th><th scope=col>fisher</th><th scope=col>gliph</th></tr>\n",
       "\t<tr><th></th><th scope=col>&lt;dbl&gt;</th><th scope=col>&lt;dbl&gt;</th><th scope=col>&lt;dbl&gt;</th><th scope=col>&lt;dbl&gt;</th><th scope=col>&lt;dbl&gt;</th><th scope=col>&lt;dbl&gt;</th><th scope=col>&lt;dbl&gt;</th><th scope=col>&lt;dbl&gt;</th><th scope=col>&lt;dbl&gt;</th><th scope=col>&lt;dbl&gt;</th><th scope=col>...</th><th scope=col>&lt;dbl&gt;</th><th scope=col>&lt;dbl&gt;</th><th scope=col>&lt;dbl&gt;</th><th scope=col>&lt;dbl&gt;</th><th scope=col>&lt;dbl&gt;</th><th scope=col>&lt;dbl&gt;</th><th scope=col>&lt;dbl&gt;</th><th scope=col>&lt;dbl&gt;</th><th scope=col>&lt;dbl&gt;</th><th scope=col>&lt;chr&gt;</th></tr>\n",
       "</thead>\n",
       "<tbody>\n",
       "\t<tr><th scope=row>SLG%E</th><td>NA</td><td>  NA</td><td>NA</td><td>NA</td><td>NA</td><td>NA</td><td>NA</td><td>NA</td><td>NA</td><td>NA</td><td>...</td><td>NA</td><td>NA</td><td>NA</td><td>NA</td><td>NA</td><td>NA</td><td>NA</td><td>NA</td><td>0.0e+00</td><td>SLG%E  </td></tr>\n",
       "\t<tr><th scope=row>S%GGNTE</th><td>NA</td><td>-109</td><td>NA</td><td>NA</td><td>NA</td><td>NA</td><td>NA</td><td>NA</td><td>NA</td><td>NA</td><td>...</td><td>NA</td><td>NA</td><td>NA</td><td>NA</td><td>NA</td><td>NA</td><td>NA</td><td>NA</td><td>0.0e+00</td><td>S%GGNTE</td></tr>\n",
       "\t<tr><th scope=row>WVYE</th><td>NA</td><td>  NA</td><td>NA</td><td>NA</td><td>NA</td><td>NA</td><td>NA</td><td>NA</td><td>NA</td><td>NA</td><td>...</td><td>NA</td><td>NA</td><td>NA</td><td>NA</td><td>NA</td><td>NA</td><td>NA</td><td>NA</td><td>0.0e+00</td><td>WVYE   </td></tr>\n",
       "\t<tr><th scope=row>YDTG</th><td>NA</td><td>  NA</td><td>NA</td><td>NA</td><td>NA</td><td>NA</td><td>NA</td><td>NA</td><td>NA</td><td>NA</td><td>...</td><td>NA</td><td>NA</td><td>NA</td><td>NA</td><td>NA</td><td>NA</td><td>NA</td><td>NA</td><td>0.0e+00</td><td>YDTG   </td></tr>\n",
       "\t<tr><th scope=row>S%TGNTE</th><td>NA</td><td>  NA</td><td>NA</td><td>NA</td><td>NA</td><td>NA</td><td>NA</td><td>NA</td><td>NA</td><td>NA</td><td>...</td><td>NA</td><td>NA</td><td>NA</td><td>NA</td><td>NA</td><td>NA</td><td>NA</td><td>NA</td><td>2.3e-41</td><td>S%TGNTE</td></tr>\n",
       "\t<tr><th scope=row>S%SGANV</th><td>NA</td><td>  NA</td><td>NA</td><td>NA</td><td>NA</td><td>NA</td><td>NA</td><td>NA</td><td>NA</td><td>NA</td><td>...</td><td>NA</td><td>NA</td><td>NA</td><td>NA</td><td>NA</td><td>NA</td><td>NA</td><td>NA</td><td>7.5e-41</td><td>S%SGANV</td></tr>\n",
       "</tbody>\n",
       "</table>\n"
      ],
      "text/latex": [
       "A data.frame: 6 x 35\n",
       "\\begin{tabular}{r|lllllllllllllllllllll}\n",
       "  & CHP\\_363 & CHP\\_381 & CHP\\_366 & CHP\\_347 & CHP\\_369 & CHP\\_399 & CHP\\_405 & CHP\\_350 & CHP\\_353 & CHP\\_396 & ... & CHP\\_362 & CHP\\_348 & CHP\\_397 & CHP\\_349 & CHP\\_412 & CHP\\_364 & CHP\\_367 & CHP\\_361 & fisher & gliph\\\\\n",
       "  & <dbl> & <dbl> & <dbl> & <dbl> & <dbl> & <dbl> & <dbl> & <dbl> & <dbl> & <dbl> & ... & <dbl> & <dbl> & <dbl> & <dbl> & <dbl> & <dbl> & <dbl> & <dbl> & <dbl> & <chr>\\\\\n",
       "\\hline\n",
       "\tSLG\\%E & NA &   NA & NA & NA & NA & NA & NA & NA & NA & NA & ... & NA & NA & NA & NA & NA & NA & NA & NA & 0.0e+00 & SLG\\%E  \\\\\n",
       "\tS\\%GGNTE & NA & -109 & NA & NA & NA & NA & NA & NA & NA & NA & ... & NA & NA & NA & NA & NA & NA & NA & NA & 0.0e+00 & S\\%GGNTE\\\\\n",
       "\tWVYE & NA &   NA & NA & NA & NA & NA & NA & NA & NA & NA & ... & NA & NA & NA & NA & NA & NA & NA & NA & 0.0e+00 & WVYE   \\\\\n",
       "\tYDTG & NA &   NA & NA & NA & NA & NA & NA & NA & NA & NA & ... & NA & NA & NA & NA & NA & NA & NA & NA & 0.0e+00 & YDTG   \\\\\n",
       "\tS\\%TGNTE & NA &   NA & NA & NA & NA & NA & NA & NA & NA & NA & ... & NA & NA & NA & NA & NA & NA & NA & NA & 2.3e-41 & S\\%TGNTE\\\\\n",
       "\tS\\%SGANV & NA &   NA & NA & NA & NA & NA & NA & NA & NA & NA & ... & NA & NA & NA & NA & NA & NA & NA & NA & 7.5e-41 & S\\%SGANV\\\\\n",
       "\\end{tabular}\n"
      ],
      "text/markdown": [
       "\n",
       "A data.frame: 6 x 35\n",
       "\n",
       "| <!--/--> | CHP_363 &lt;dbl&gt; | CHP_381 &lt;dbl&gt; | CHP_366 &lt;dbl&gt; | CHP_347 &lt;dbl&gt; | CHP_369 &lt;dbl&gt; | CHP_399 &lt;dbl&gt; | CHP_405 &lt;dbl&gt; | CHP_350 &lt;dbl&gt; | CHP_353 &lt;dbl&gt; | CHP_396 &lt;dbl&gt; | ... ... | CHP_362 &lt;dbl&gt; | CHP_348 &lt;dbl&gt; | CHP_397 &lt;dbl&gt; | CHP_349 &lt;dbl&gt; | CHP_412 &lt;dbl&gt; | CHP_364 &lt;dbl&gt; | CHP_367 &lt;dbl&gt; | CHP_361 &lt;dbl&gt; | fisher &lt;dbl&gt; | gliph &lt;chr&gt; |\n",
       "|---|---|---|---|---|---|---|---|---|---|---|---|---|---|---|---|---|---|---|---|---|---|\n",
       "| SLG%E | NA |   NA | NA | NA | NA | NA | NA | NA | NA | NA | ... | NA | NA | NA | NA | NA | NA | NA | NA | 0.0e+00 | SLG%E   |\n",
       "| S%GGNTE | NA | -109 | NA | NA | NA | NA | NA | NA | NA | NA | ... | NA | NA | NA | NA | NA | NA | NA | NA | 0.0e+00 | S%GGNTE |\n",
       "| WVYE | NA |   NA | NA | NA | NA | NA | NA | NA | NA | NA | ... | NA | NA | NA | NA | NA | NA | NA | NA | 0.0e+00 | WVYE    |\n",
       "| YDTG | NA |   NA | NA | NA | NA | NA | NA | NA | NA | NA | ... | NA | NA | NA | NA | NA | NA | NA | NA | 0.0e+00 | YDTG    |\n",
       "| S%TGNTE | NA |   NA | NA | NA | NA | NA | NA | NA | NA | NA | ... | NA | NA | NA | NA | NA | NA | NA | NA | 2.3e-41 | S%TGNTE |\n",
       "| S%SGANV | NA |   NA | NA | NA | NA | NA | NA | NA | NA | NA | ... | NA | NA | NA | NA | NA | NA | NA | NA | 7.5e-41 | S%SGANV |\n",
       "\n"
      ],
      "text/plain": [
       "        CHP_363 CHP_381 CHP_366 CHP_347 CHP_369 CHP_399 CHP_405 CHP_350 CHP_353\n",
       "SLG%E   NA        NA    NA      NA      NA      NA      NA      NA      NA     \n",
       "S%GGNTE NA      -109    NA      NA      NA      NA      NA      NA      NA     \n",
       "WVYE    NA        NA    NA      NA      NA      NA      NA      NA      NA     \n",
       "YDTG    NA        NA    NA      NA      NA      NA      NA      NA      NA     \n",
       "S%TGNTE NA        NA    NA      NA      NA      NA      NA      NA      NA     \n",
       "S%SGANV NA        NA    NA      NA      NA      NA      NA      NA      NA     \n",
       "        CHP_396 ... CHP_362 CHP_348 CHP_397 CHP_349 CHP_412 CHP_364 CHP_367\n",
       "SLG%E   NA      ... NA      NA      NA      NA      NA      NA      NA     \n",
       "S%GGNTE NA      ... NA      NA      NA      NA      NA      NA      NA     \n",
       "WVYE    NA      ... NA      NA      NA      NA      NA      NA      NA     \n",
       "YDTG    NA      ... NA      NA      NA      NA      NA      NA      NA     \n",
       "S%TGNTE NA      ... NA      NA      NA      NA      NA      NA      NA     \n",
       "S%SGANV NA      ... NA      NA      NA      NA      NA      NA      NA     \n",
       "        CHP_361 fisher  gliph  \n",
       "SLG%E   NA      0.0e+00 SLG%E  \n",
       "S%GGNTE NA      0.0e+00 S%GGNTE\n",
       "WVYE    NA      0.0e+00 WVYE   \n",
       "YDTG    NA      0.0e+00 YDTG   \n",
       "S%TGNTE NA      2.3e-41 S%TGNTE\n",
       "S%SGANV NA      7.5e-41 S%SGANV"
      ]
     },
     "metadata": {},
     "output_type": "display_data"
    }
   ],
   "source": [
    "head(gliph_pat_mat)"
   ]
  },
  {
   "cell_type": "code",
   "execution_count": 313,
   "metadata": {
    "vscode": {
     "languageId": "r"
    }
   },
   "outputs": [
    {
     "data": {
      "text/html": [
       "<table class=\"dataframe\">\n",
       "<caption>A tibble: 6 x 4</caption>\n",
       "<thead>\n",
       "\t<tr><th scope=col>fisher</th><th scope=col>gliph</th><th scope=col>Patient</th><th scope=col>Delta</th></tr>\n",
       "\t<tr><th scope=col>&lt;dbl&gt;</th><th scope=col>&lt;chr&gt;</th><th scope=col>&lt;chr&gt;</th><th scope=col>&lt;dbl&gt;</th></tr>\n",
       "</thead>\n",
       "<tbody>\n",
       "\t<tr><td>0.0e+00</td><td>S%GGNTE </td><td>CHP_381</td><td>-109.0</td></tr>\n",
       "\t<tr><td>2.3e-41</td><td>S%TGNTE </td><td>CHP_365</td><td> -23.0</td></tr>\n",
       "\t<tr><td>1.7e-36</td><td>SLQG%E  </td><td>CHP_378</td><td>  -2.0</td></tr>\n",
       "\t<tr><td>5.2e-25</td><td>SLG%NTE </td><td>CHP_381</td><td> -61.5</td></tr>\n",
       "\t<tr><td>5.2e-25</td><td>SLG%NTE </td><td>CHP_369</td><td>-486.0</td></tr>\n",
       "\t<tr><td>5.2e-25</td><td>S%GGSYNE</td><td>CHP_365</td><td>  48.0</td></tr>\n",
       "</tbody>\n",
       "</table>\n"
      ],
      "text/latex": [
       "A tibble: 6 x 4\n",
       "\\begin{tabular}{llll}\n",
       " fisher & gliph & Patient & Delta\\\\\n",
       " <dbl> & <chr> & <chr> & <dbl>\\\\\n",
       "\\hline\n",
       "\t 0.0e+00 & S\\%GGNTE  & CHP\\_381 & -109.0\\\\\n",
       "\t 2.3e-41 & S\\%TGNTE  & CHP\\_365 &  -23.0\\\\\n",
       "\t 1.7e-36 & SLQG\\%E   & CHP\\_378 &   -2.0\\\\\n",
       "\t 5.2e-25 & SLG\\%NTE  & CHP\\_381 &  -61.5\\\\\n",
       "\t 5.2e-25 & SLG\\%NTE  & CHP\\_369 & -486.0\\\\\n",
       "\t 5.2e-25 & S\\%GGSYNE & CHP\\_365 &   48.0\\\\\n",
       "\\end{tabular}\n"
      ],
      "text/markdown": [
       "\n",
       "A tibble: 6 x 4\n",
       "\n",
       "| fisher &lt;dbl&gt; | gliph &lt;chr&gt; | Patient &lt;chr&gt; | Delta &lt;dbl&gt; |\n",
       "|---|---|---|---|\n",
       "| 0.0e+00 | S%GGNTE  | CHP_381 | -109.0 |\n",
       "| 2.3e-41 | S%TGNTE  | CHP_365 |  -23.0 |\n",
       "| 1.7e-36 | SLQG%E   | CHP_378 |   -2.0 |\n",
       "| 5.2e-25 | SLG%NTE  | CHP_381 |  -61.5 |\n",
       "| 5.2e-25 | SLG%NTE  | CHP_369 | -486.0 |\n",
       "| 5.2e-25 | S%GGSYNE | CHP_365 |   48.0 |\n",
       "\n"
      ],
      "text/plain": [
       "  fisher  gliph    Patient Delta \n",
       "1 0.0e+00 S%GGNTE  CHP_381 -109.0\n",
       "2 2.3e-41 S%TGNTE  CHP_365  -23.0\n",
       "3 1.7e-36 SLQG%E   CHP_378   -2.0\n",
       "4 5.2e-25 SLG%NTE  CHP_381  -61.5\n",
       "5 5.2e-25 SLG%NTE  CHP_369 -486.0\n",
       "6 5.2e-25 S%GGSYNE CHP_365   48.0"
      ]
     },
     "metadata": {},
     "output_type": "display_data"
    }
   ],
   "source": [
    "head(gliph_pat_mat_long)"
   ]
  },
  {
   "cell_type": "code",
   "execution_count": 320,
   "metadata": {
    "vscode": {
     "languageId": "r"
    }
   },
   "outputs": [],
   "source": [
    "gliphdf_original <- gliphdf # save original gliphdf"
   ]
  },
  {
   "cell_type": "code",
   "execution_count": 321,
   "metadata": {
    "vscode": {
     "languageId": "r"
    }
   },
   "outputs": [],
   "source": [
    "# gliphdf[, 2:12][gliphdf[, 2:12] > 0] <- 1 # count each group only once"
   ]
  },
  {
   "cell_type": "code",
   "execution_count": 322,
   "metadata": {
    "vscode": {
     "languageId": "r"
    }
   },
   "outputs": [
    {
     "data": {
      "text/html": [
       "<table class=\"dataframe\">\n",
       "<caption>A data.frame: 6 x 13</caption>\n",
       "<thead>\n",
       "\t<tr><th></th><th scope=col>gliph</th><th scope=col>CMV</th><th scope=col>EBV</th><th scope=col>HCV</th><th scope=col>Influenza</th><th scope=col>HomoSapiens</th><th scope=col>MDavis</th><th scope=col>HPV</th><th scope=col>CEF</th><th scope=col>TB</th><th scope=col>MCPyV</th><th scope=col>S-pneumoniae</th><th scope=col>n_unique_cdr3</th></tr>\n",
       "\t<tr><th></th><th scope=col>&lt;chr&gt;</th><th scope=col>&lt;dbl&gt;</th><th scope=col>&lt;dbl&gt;</th><th scope=col>&lt;dbl&gt;</th><th scope=col>&lt;dbl&gt;</th><th scope=col>&lt;dbl&gt;</th><th scope=col>&lt;dbl&gt;</th><th scope=col>&lt;dbl&gt;</th><th scope=col>&lt;dbl&gt;</th><th scope=col>&lt;dbl&gt;</th><th scope=col>&lt;dbl&gt;</th><th scope=col>&lt;dbl&gt;</th><th scope=col>&lt;dbl&gt;</th></tr>\n",
       "</thead>\n",
       "<tbody>\n",
       "\t<tr><th scope=row>SLG%E</th><td>SLG%E  </td><td>0</td><td>0</td><td>0</td><td>0</td><td>0</td><td>1</td><td>0</td><td>0</td><td>0</td><td>0</td><td>0</td><td>50</td></tr>\n",
       "\t<tr><th scope=row>S%GGNTE</th><td>S%GGNTE</td><td>0</td><td>0</td><td>0</td><td>0</td><td>1</td><td>1</td><td>0</td><td>0</td><td>0</td><td>0</td><td>0</td><td>41</td></tr>\n",
       "\t<tr><th scope=row>GIWV</th><td>GIWV   </td><td>0</td><td>0</td><td>0</td><td>0</td><td>0</td><td>0</td><td>0</td><td>0</td><td>0</td><td>0</td><td>0</td><td>82</td></tr>\n",
       "\t<tr><th scope=row>IWV</th><td>IWV    </td><td>0</td><td>0</td><td>0</td><td>0</td><td>1</td><td>0</td><td>0</td><td>0</td><td>0</td><td>0</td><td>0</td><td>97</td></tr>\n",
       "\t<tr><th scope=row>WVYE</th><td>WVYE   </td><td>0</td><td>0</td><td>0</td><td>0</td><td>0</td><td>0</td><td>0</td><td>0</td><td>0</td><td>0</td><td>0</td><td>98</td></tr>\n",
       "\t<tr><th scope=row>IWVY</th><td>IWVY   </td><td>0</td><td>0</td><td>0</td><td>0</td><td>0</td><td>0</td><td>0</td><td>0</td><td>0</td><td>0</td><td>0</td><td>95</td></tr>\n",
       "</tbody>\n",
       "</table>\n"
      ],
      "text/latex": [
       "A data.frame: 6 x 13\n",
       "\\begin{tabular}{r|lllllllllllll}\n",
       "  & gliph & CMV & EBV & HCV & Influenza & HomoSapiens & MDavis & HPV & CEF & TB & MCPyV & S-pneumoniae & n\\_unique\\_cdr3\\\\\n",
       "  & <chr> & <dbl> & <dbl> & <dbl> & <dbl> & <dbl> & <dbl> & <dbl> & <dbl> & <dbl> & <dbl> & <dbl> & <dbl>\\\\\n",
       "\\hline\n",
       "\tSLG\\%E & SLG\\%E   & 0 & 0 & 0 & 0 & 0 & 1 & 0 & 0 & 0 & 0 & 0 & 50\\\\\n",
       "\tS\\%GGNTE & S\\%GGNTE & 0 & 0 & 0 & 0 & 1 & 1 & 0 & 0 & 0 & 0 & 0 & 41\\\\\n",
       "\tGIWV & GIWV    & 0 & 0 & 0 & 0 & 0 & 0 & 0 & 0 & 0 & 0 & 0 & 82\\\\\n",
       "\tIWV & IWV     & 0 & 0 & 0 & 0 & 1 & 0 & 0 & 0 & 0 & 0 & 0 & 97\\\\\n",
       "\tWVYE & WVYE    & 0 & 0 & 0 & 0 & 0 & 0 & 0 & 0 & 0 & 0 & 0 & 98\\\\\n",
       "\tIWVY & IWVY    & 0 & 0 & 0 & 0 & 0 & 0 & 0 & 0 & 0 & 0 & 0 & 95\\\\\n",
       "\\end{tabular}\n"
      ],
      "text/markdown": [
       "\n",
       "A data.frame: 6 x 13\n",
       "\n",
       "| <!--/--> | gliph &lt;chr&gt; | CMV &lt;dbl&gt; | EBV &lt;dbl&gt; | HCV &lt;dbl&gt; | Influenza &lt;dbl&gt; | HomoSapiens &lt;dbl&gt; | MDavis &lt;dbl&gt; | HPV &lt;dbl&gt; | CEF &lt;dbl&gt; | TB &lt;dbl&gt; | MCPyV &lt;dbl&gt; | S-pneumoniae &lt;dbl&gt; | n_unique_cdr3 &lt;dbl&gt; |\n",
       "|---|---|---|---|---|---|---|---|---|---|---|---|---|---|\n",
       "| SLG%E | SLG%E   | 0 | 0 | 0 | 0 | 0 | 1 | 0 | 0 | 0 | 0 | 0 | 50 |\n",
       "| S%GGNTE | S%GGNTE | 0 | 0 | 0 | 0 | 1 | 1 | 0 | 0 | 0 | 0 | 0 | 41 |\n",
       "| GIWV | GIWV    | 0 | 0 | 0 | 0 | 0 | 0 | 0 | 0 | 0 | 0 | 0 | 82 |\n",
       "| IWV | IWV     | 0 | 0 | 0 | 0 | 1 | 0 | 0 | 0 | 0 | 0 | 0 | 97 |\n",
       "| WVYE | WVYE    | 0 | 0 | 0 | 0 | 0 | 0 | 0 | 0 | 0 | 0 | 0 | 98 |\n",
       "| IWVY | IWVY    | 0 | 0 | 0 | 0 | 0 | 0 | 0 | 0 | 0 | 0 | 0 | 95 |\n",
       "\n"
      ],
      "text/plain": [
       "        gliph   CMV EBV HCV Influenza HomoSapiens MDavis HPV CEF TB MCPyV\n",
       "SLG%E   SLG%E   0   0   0   0         0           1      0   0   0  0    \n",
       "S%GGNTE S%GGNTE 0   0   0   0         1           1      0   0   0  0    \n",
       "GIWV    GIWV    0   0   0   0         0           0      0   0   0  0    \n",
       "IWV     IWV     0   0   0   0         1           0      0   0   0  0    \n",
       "WVYE    WVYE    0   0   0   0         0           0      0   0   0  0    \n",
       "IWVY    IWVY    0   0   0   0         0           0      0   0   0  0    \n",
       "        S-pneumoniae n_unique_cdr3\n",
       "SLG%E   0            50           \n",
       "S%GGNTE 0            41           \n",
       "GIWV    0            82           \n",
       "IWV     0            97           \n",
       "WVYE    0            98           \n",
       "IWVY    0            95           "
      ]
     },
     "metadata": {},
     "output_type": "display_data"
    }
   ],
   "source": [
    "head(gliphdf)"
   ]
  },
  {
   "cell_type": "code",
   "execution_count": 323,
   "metadata": {
    "vscode": {
     "languageId": "r"
    }
   },
   "outputs": [],
   "source": [
    "# Add annotations to gliph_pat_mat_long\n",
    "gliph_pat_mat_long$CMV <- gliphdf$CMV[match(gliph_pat_mat_long$gliph, gliphdf$gliph)]\n",
    "gliph_pat_mat_long$Flu <- gliphdf$Influenza[match(gliph_pat_mat_long$gliph, gliphdf$gliph)]\n",
    "gliph_pat_mat_long$HCV <- gliphdf$HCV[match(gliph_pat_mat_long$gliph, gliphdf$gliph)]\n",
    "gliph_pat_mat_long$EBV <- gliphdf$EBV[match(gliph_pat_mat_long$gliph, gliphdf$gliph)]\n",
    "gliph_pat_mat_long$HPV <- gliphdf$HPV[match(gliph_pat_mat_long$gliph, gliphdf$gliph)]\n",
    "gliph_pat_mat_long$HS <- gliphdf$HomoSapiens[match(gliph_pat_mat_long$gliph, gliphdf$gliph)]\n",
    "gliph_pat_mat_long$CEF <- gliphdf$CEF[match(gliph_pat_mat_long$gliph, gliphdf$gliph)]\n",
    "gliph_pat_mat_long$TB <- gliphdf$TB[match(gliph_pat_mat_long$gliph, gliphdf$gliph)]\n",
    "gliph_pat_mat_long$SP <- gliphdf$`S-pneumoniae`[match(gliph_pat_mat_long$gliph, gliphdf$gliph)]\n",
    "gliph_pat_mat_long$MCPyV <- gliphdf$MCPyV[match(gliph_pat_mat_long$gliph, gliphdf$gliph)]\n",
    "gliph_pat_mat_long$MDavis <- gliphdf$MDavis[match(gliph_pat_mat_long$gliph, gliphdf$gliph)]"
   ]
  },
  {
   "cell_type": "code",
   "execution_count": 324,
   "metadata": {
    "vscode": {
     "languageId": "r"
    }
   },
   "outputs": [],
   "source": [
    "gliph_pat_mat_long$n_unique_cdr3 <- gliphdf$n_unique_cdr3[match(gliph_pat_mat_long$gliph, gliphdf$gliph)]"
   ]
  },
  {
   "cell_type": "code",
   "execution_count": 325,
   "metadata": {
    "vscode": {
     "languageId": "r"
    }
   },
   "outputs": [],
   "source": [
    "gliph_pat_mat_long$cancergroup <- meta_div$cancergroup[match(gliph_pat_mat_long$Patient, meta_div$Patient)]\n",
    "gliph_pat_mat_long$Disease <- meta_div$Disease_type[match(gliph_pat_mat_long$Patient, meta_div$Patient)]"
   ]
  },
  {
   "cell_type": "code",
   "execution_count": 326,
   "metadata": {
    "vscode": {
     "languageId": "r"
    }
   },
   "outputs": [
    {
     "data": {
      "text/html": [
       "<table class=\"dataframe\">\n",
       "<caption>A tibble: 6 x 18</caption>\n",
       "<thead>\n",
       "\t<tr><th scope=col>fisher</th><th scope=col>gliph</th><th scope=col>Patient</th><th scope=col>Delta</th><th scope=col>CMV</th><th scope=col>Flu</th><th scope=col>HCV</th><th scope=col>EBV</th><th scope=col>HPV</th><th scope=col>HS</th><th scope=col>CEF</th><th scope=col>TB</th><th scope=col>SP</th><th scope=col>MCPyV</th><th scope=col>MDavis</th><th scope=col>n_unique_cdr3</th><th scope=col>cancergroup</th><th scope=col>Disease</th></tr>\n",
       "\t<tr><th scope=col>&lt;dbl&gt;</th><th scope=col>&lt;chr&gt;</th><th scope=col>&lt;chr&gt;</th><th scope=col>&lt;dbl&gt;</th><th scope=col>&lt;dbl&gt;</th><th scope=col>&lt;dbl&gt;</th><th scope=col>&lt;dbl&gt;</th><th scope=col>&lt;dbl&gt;</th><th scope=col>&lt;dbl&gt;</th><th scope=col>&lt;dbl&gt;</th><th scope=col>&lt;dbl&gt;</th><th scope=col>&lt;dbl&gt;</th><th scope=col>&lt;dbl&gt;</th><th scope=col>&lt;dbl&gt;</th><th scope=col>&lt;dbl&gt;</th><th scope=col>&lt;dbl&gt;</th><th scope=col>&lt;chr&gt;</th><th scope=col>&lt;chr&gt;</th></tr>\n",
       "</thead>\n",
       "<tbody>\n",
       "\t<tr><td>0.0e+00</td><td>S%GGNTE </td><td>CHP_381</td><td>-109.0</td><td>0</td><td>0</td><td>0</td><td>0</td><td>0</td><td>1</td><td>0</td><td>0</td><td>0</td><td>0</td><td>1</td><td>41</td><td>Solid tumors</td><td>EWS</td></tr>\n",
       "\t<tr><td>2.3e-41</td><td>S%TGNTE </td><td>CHP_365</td><td> -23.0</td><td>0</td><td>0</td><td>0</td><td>0</td><td>0</td><td>0</td><td>0</td><td>0</td><td>0</td><td>0</td><td>1</td><td>34</td><td>Leukemia    </td><td>ALL</td></tr>\n",
       "\t<tr><td>1.7e-36</td><td>SLQG%E  </td><td>CHP_378</td><td>  -2.0</td><td>0</td><td>0</td><td>0</td><td>0</td><td>1</td><td>0</td><td>0</td><td>0</td><td>0</td><td>0</td><td>1</td><td>32</td><td>Leukemia    </td><td>ALL</td></tr>\n",
       "\t<tr><td>5.2e-25</td><td>SLG%NTE </td><td>CHP_381</td><td> -61.5</td><td>0</td><td>0</td><td>0</td><td>0</td><td>0</td><td>0</td><td>0</td><td>0</td><td>0</td><td>0</td><td>1</td><td>22</td><td>Solid tumors</td><td>EWS</td></tr>\n",
       "\t<tr><td>5.2e-25</td><td>SLG%NTE </td><td>CHP_369</td><td>-486.0</td><td>0</td><td>0</td><td>0</td><td>0</td><td>0</td><td>0</td><td>0</td><td>0</td><td>0</td><td>0</td><td>1</td><td>22</td><td>Leukemia    </td><td>AML</td></tr>\n",
       "\t<tr><td>5.2e-25</td><td>S%GGSYNE</td><td>CHP_365</td><td>  48.0</td><td>0</td><td>0</td><td>0</td><td>0</td><td>0</td><td>0</td><td>0</td><td>0</td><td>0</td><td>0</td><td>1</td><td>22</td><td>Leukemia    </td><td>ALL</td></tr>\n",
       "</tbody>\n",
       "</table>\n"
      ],
      "text/latex": [
       "A tibble: 6 x 18\n",
       "\\begin{tabular}{llllllllllllllllll}\n",
       " fisher & gliph & Patient & Delta & CMV & Flu & HCV & EBV & HPV & HS & CEF & TB & SP & MCPyV & MDavis & n\\_unique\\_cdr3 & cancergroup & Disease\\\\\n",
       " <dbl> & <chr> & <chr> & <dbl> & <dbl> & <dbl> & <dbl> & <dbl> & <dbl> & <dbl> & <dbl> & <dbl> & <dbl> & <dbl> & <dbl> & <dbl> & <chr> & <chr>\\\\\n",
       "\\hline\n",
       "\t 0.0e+00 & S\\%GGNTE  & CHP\\_381 & -109.0 & 0 & 0 & 0 & 0 & 0 & 1 & 0 & 0 & 0 & 0 & 1 & 41 & Solid tumors & EWS\\\\\n",
       "\t 2.3e-41 & S\\%TGNTE  & CHP\\_365 &  -23.0 & 0 & 0 & 0 & 0 & 0 & 0 & 0 & 0 & 0 & 0 & 1 & 34 & Leukemia     & ALL\\\\\n",
       "\t 1.7e-36 & SLQG\\%E   & CHP\\_378 &   -2.0 & 0 & 0 & 0 & 0 & 1 & 0 & 0 & 0 & 0 & 0 & 1 & 32 & Leukemia     & ALL\\\\\n",
       "\t 5.2e-25 & SLG\\%NTE  & CHP\\_381 &  -61.5 & 0 & 0 & 0 & 0 & 0 & 0 & 0 & 0 & 0 & 0 & 1 & 22 & Solid tumors & EWS\\\\\n",
       "\t 5.2e-25 & SLG\\%NTE  & CHP\\_369 & -486.0 & 0 & 0 & 0 & 0 & 0 & 0 & 0 & 0 & 0 & 0 & 1 & 22 & Leukemia     & AML\\\\\n",
       "\t 5.2e-25 & S\\%GGSYNE & CHP\\_365 &   48.0 & 0 & 0 & 0 & 0 & 0 & 0 & 0 & 0 & 0 & 0 & 1 & 22 & Leukemia     & ALL\\\\\n",
       "\\end{tabular}\n"
      ],
      "text/markdown": [
       "\n",
       "A tibble: 6 x 18\n",
       "\n",
       "| fisher &lt;dbl&gt; | gliph &lt;chr&gt; | Patient &lt;chr&gt; | Delta &lt;dbl&gt; | CMV &lt;dbl&gt; | Flu &lt;dbl&gt; | HCV &lt;dbl&gt; | EBV &lt;dbl&gt; | HPV &lt;dbl&gt; | HS &lt;dbl&gt; | CEF &lt;dbl&gt; | TB &lt;dbl&gt; | SP &lt;dbl&gt; | MCPyV &lt;dbl&gt; | MDavis &lt;dbl&gt; | n_unique_cdr3 &lt;dbl&gt; | cancergroup &lt;chr&gt; | Disease &lt;chr&gt; |\n",
       "|---|---|---|---|---|---|---|---|---|---|---|---|---|---|---|---|---|---|\n",
       "| 0.0e+00 | S%GGNTE  | CHP_381 | -109.0 | 0 | 0 | 0 | 0 | 0 | 1 | 0 | 0 | 0 | 0 | 1 | 41 | Solid tumors | EWS |\n",
       "| 2.3e-41 | S%TGNTE  | CHP_365 |  -23.0 | 0 | 0 | 0 | 0 | 0 | 0 | 0 | 0 | 0 | 0 | 1 | 34 | Leukemia     | ALL |\n",
       "| 1.7e-36 | SLQG%E   | CHP_378 |   -2.0 | 0 | 0 | 0 | 0 | 1 | 0 | 0 | 0 | 0 | 0 | 1 | 32 | Leukemia     | ALL |\n",
       "| 5.2e-25 | SLG%NTE  | CHP_381 |  -61.5 | 0 | 0 | 0 | 0 | 0 | 0 | 0 | 0 | 0 | 0 | 1 | 22 | Solid tumors | EWS |\n",
       "| 5.2e-25 | SLG%NTE  | CHP_369 | -486.0 | 0 | 0 | 0 | 0 | 0 | 0 | 0 | 0 | 0 | 0 | 1 | 22 | Leukemia     | AML |\n",
       "| 5.2e-25 | S%GGSYNE | CHP_365 |   48.0 | 0 | 0 | 0 | 0 | 0 | 0 | 0 | 0 | 0 | 0 | 1 | 22 | Leukemia     | ALL |\n",
       "\n"
      ],
      "text/plain": [
       "  fisher  gliph    Patient Delta  CMV Flu HCV EBV HPV HS CEF TB SP MCPyV MDavis\n",
       "1 0.0e+00 S%GGNTE  CHP_381 -109.0 0   0   0   0   0   1  0   0  0  0     1     \n",
       "2 2.3e-41 S%TGNTE  CHP_365  -23.0 0   0   0   0   0   0  0   0  0  0     1     \n",
       "3 1.7e-36 SLQG%E   CHP_378   -2.0 0   0   0   0   1   0  0   0  0  0     1     \n",
       "4 5.2e-25 SLG%NTE  CHP_381  -61.5 0   0   0   0   0   0  0   0  0  0     1     \n",
       "5 5.2e-25 SLG%NTE  CHP_369 -486.0 0   0   0   0   0   0  0   0  0  0     1     \n",
       "6 5.2e-25 S%GGSYNE CHP_365   48.0 0   0   0   0   0   0  0   0  0  0     1     \n",
       "  n_unique_cdr3 cancergroup  Disease\n",
       "1 41            Solid tumors EWS    \n",
       "2 34            Leukemia     ALL    \n",
       "3 32            Leukemia     ALL    \n",
       "4 22            Solid tumors EWS    \n",
       "5 22            Leukemia     AML    \n",
       "6 22            Leukemia     ALL    "
      ]
     },
     "metadata": {},
     "output_type": "display_data"
    }
   ],
   "source": [
    "head(gliph_pat_mat_long)"
   ]
  },
  {
   "cell_type": "code",
   "execution_count": 327,
   "metadata": {
    "vscode": {
     "languageId": "r"
    }
   },
   "outputs": [
    {
     "data": {
      "text/html": [
       "28"
      ],
      "text/latex": [
       "28"
      ],
      "text/markdown": [
       "28"
      ],
      "text/plain": [
       "[1] 28"
      ]
     },
     "metadata": {},
     "output_type": "display_data"
    }
   ],
   "source": [
    "length(unique(gliph_pat_mat_long$Patient))"
   ]
  },
  {
   "cell_type": "code",
   "execution_count": 328,
   "metadata": {
    "vscode": {
     "languageId": "r"
    }
   },
   "outputs": [
    {
     "data": {
      "text/html": [
       "<style>\n",
       ".dl-inline {width: auto; margin:0; padding: 0}\n",
       ".dl-inline>dt, .dl-inline>dd {float: none; width: auto; display: inline-block}\n",
       ".dl-inline>dt::after {content: \":\\0020\"; padding-right: .5ex}\n",
       ".dl-inline>dt:not(:first-of-type) {padding-left: .5ex}\n",
       "</style><dl class=dl-inline><dt>10%</dt><dd>-204</dd><dt>90%</dt><dd>431</dd></dl>\n"
      ],
      "text/latex": [
       "\\begin{description*}\n",
       "\\item[10\\textbackslash{}\\%] -204\n",
       "\\item[90\\textbackslash{}\\%] 431\n",
       "\\end{description*}\n"
      ],
      "text/markdown": [
       "10%\n",
       ":   -20490%\n",
       ":   431\n",
       "\n"
      ],
      "text/plain": [
       " 10%  90% \n",
       "-204  431 "
      ]
     },
     "metadata": {},
     "output_type": "display_data"
    }
   ],
   "source": [
    "quantile(gliph_pat_mat_long$Delta, c(0.1, 0.9))"
   ]
  },
  {
   "cell_type": "code",
   "execution_count": 329,
   "metadata": {
    "vscode": {
     "languageId": "r"
    }
   },
   "outputs": [
    {
     "data": {
      "text/html": [
       "<table class=\"dataframe\">\n",
       "<caption>A tibble: 6 x 18</caption>\n",
       "<thead>\n",
       "\t<tr><th scope=col>fisher</th><th scope=col>gliph</th><th scope=col>Patient</th><th scope=col>Delta</th><th scope=col>CMV</th><th scope=col>Flu</th><th scope=col>HCV</th><th scope=col>EBV</th><th scope=col>HPV</th><th scope=col>HS</th><th scope=col>CEF</th><th scope=col>TB</th><th scope=col>SP</th><th scope=col>MCPyV</th><th scope=col>MDavis</th><th scope=col>n_unique_cdr3</th><th scope=col>cancergroup</th><th scope=col>Disease</th></tr>\n",
       "\t<tr><th scope=col>&lt;dbl&gt;</th><th scope=col>&lt;chr&gt;</th><th scope=col>&lt;chr&gt;</th><th scope=col>&lt;dbl&gt;</th><th scope=col>&lt;dbl&gt;</th><th scope=col>&lt;dbl&gt;</th><th scope=col>&lt;dbl&gt;</th><th scope=col>&lt;dbl&gt;</th><th scope=col>&lt;dbl&gt;</th><th scope=col>&lt;dbl&gt;</th><th scope=col>&lt;dbl&gt;</th><th scope=col>&lt;dbl&gt;</th><th scope=col>&lt;dbl&gt;</th><th scope=col>&lt;dbl&gt;</th><th scope=col>&lt;dbl&gt;</th><th scope=col>&lt;dbl&gt;</th><th scope=col>&lt;chr&gt;</th><th scope=col>&lt;chr&gt;</th></tr>\n",
       "</thead>\n",
       "<tbody>\n",
       "\t<tr><td>0.0e+00</td><td>S%GGNTE </td><td>CHP_381</td><td>-109.0</td><td>0</td><td>0</td><td>0</td><td>0</td><td>0</td><td>1</td><td>0</td><td>0</td><td>0</td><td>0</td><td>1</td><td>41</td><td>Solid tumors</td><td>EWS</td></tr>\n",
       "\t<tr><td>2.3e-41</td><td>S%TGNTE </td><td>CHP_365</td><td> -23.0</td><td>0</td><td>0</td><td>0</td><td>0</td><td>0</td><td>0</td><td>0</td><td>0</td><td>0</td><td>0</td><td>1</td><td>34</td><td>Leukemia    </td><td>ALL</td></tr>\n",
       "\t<tr><td>1.7e-36</td><td>SLQG%E  </td><td>CHP_378</td><td>  -2.0</td><td>0</td><td>0</td><td>0</td><td>0</td><td>1</td><td>0</td><td>0</td><td>0</td><td>0</td><td>0</td><td>1</td><td>32</td><td>Leukemia    </td><td>ALL</td></tr>\n",
       "\t<tr><td>5.2e-25</td><td>SLG%NTE </td><td>CHP_381</td><td> -61.5</td><td>0</td><td>0</td><td>0</td><td>0</td><td>0</td><td>0</td><td>0</td><td>0</td><td>0</td><td>0</td><td>1</td><td>22</td><td>Solid tumors</td><td>EWS</td></tr>\n",
       "\t<tr><td>5.2e-25</td><td>SLG%NTE </td><td>CHP_369</td><td>-486.0</td><td>0</td><td>0</td><td>0</td><td>0</td><td>0</td><td>0</td><td>0</td><td>0</td><td>0</td><td>0</td><td>1</td><td>22</td><td>Leukemia    </td><td>AML</td></tr>\n",
       "\t<tr><td>5.2e-25</td><td>S%GGSYNE</td><td>CHP_365</td><td>  48.0</td><td>0</td><td>0</td><td>0</td><td>0</td><td>0</td><td>0</td><td>0</td><td>0</td><td>0</td><td>0</td><td>1</td><td>22</td><td>Leukemia    </td><td>ALL</td></tr>\n",
       "</tbody>\n",
       "</table>\n"
      ],
      "text/latex": [
       "A tibble: 6 x 18\n",
       "\\begin{tabular}{llllllllllllllllll}\n",
       " fisher & gliph & Patient & Delta & CMV & Flu & HCV & EBV & HPV & HS & CEF & TB & SP & MCPyV & MDavis & n\\_unique\\_cdr3 & cancergroup & Disease\\\\\n",
       " <dbl> & <chr> & <chr> & <dbl> & <dbl> & <dbl> & <dbl> & <dbl> & <dbl> & <dbl> & <dbl> & <dbl> & <dbl> & <dbl> & <dbl> & <dbl> & <chr> & <chr>\\\\\n",
       "\\hline\n",
       "\t 0.0e+00 & S\\%GGNTE  & CHP\\_381 & -109.0 & 0 & 0 & 0 & 0 & 0 & 1 & 0 & 0 & 0 & 0 & 1 & 41 & Solid tumors & EWS\\\\\n",
       "\t 2.3e-41 & S\\%TGNTE  & CHP\\_365 &  -23.0 & 0 & 0 & 0 & 0 & 0 & 0 & 0 & 0 & 0 & 0 & 1 & 34 & Leukemia     & ALL\\\\\n",
       "\t 1.7e-36 & SLQG\\%E   & CHP\\_378 &   -2.0 & 0 & 0 & 0 & 0 & 1 & 0 & 0 & 0 & 0 & 0 & 1 & 32 & Leukemia     & ALL\\\\\n",
       "\t 5.2e-25 & SLG\\%NTE  & CHP\\_381 &  -61.5 & 0 & 0 & 0 & 0 & 0 & 0 & 0 & 0 & 0 & 0 & 1 & 22 & Solid tumors & EWS\\\\\n",
       "\t 5.2e-25 & SLG\\%NTE  & CHP\\_369 & -486.0 & 0 & 0 & 0 & 0 & 0 & 0 & 0 & 0 & 0 & 0 & 1 & 22 & Leukemia     & AML\\\\\n",
       "\t 5.2e-25 & S\\%GGSYNE & CHP\\_365 &   48.0 & 0 & 0 & 0 & 0 & 0 & 0 & 0 & 0 & 0 & 0 & 1 & 22 & Leukemia     & ALL\\\\\n",
       "\\end{tabular}\n"
      ],
      "text/markdown": [
       "\n",
       "A tibble: 6 x 18\n",
       "\n",
       "| fisher &lt;dbl&gt; | gliph &lt;chr&gt; | Patient &lt;chr&gt; | Delta &lt;dbl&gt; | CMV &lt;dbl&gt; | Flu &lt;dbl&gt; | HCV &lt;dbl&gt; | EBV &lt;dbl&gt; | HPV &lt;dbl&gt; | HS &lt;dbl&gt; | CEF &lt;dbl&gt; | TB &lt;dbl&gt; | SP &lt;dbl&gt; | MCPyV &lt;dbl&gt; | MDavis &lt;dbl&gt; | n_unique_cdr3 &lt;dbl&gt; | cancergroup &lt;chr&gt; | Disease &lt;chr&gt; |\n",
       "|---|---|---|---|---|---|---|---|---|---|---|---|---|---|---|---|---|---|\n",
       "| 0.0e+00 | S%GGNTE  | CHP_381 | -109.0 | 0 | 0 | 0 | 0 | 0 | 1 | 0 | 0 | 0 | 0 | 1 | 41 | Solid tumors | EWS |\n",
       "| 2.3e-41 | S%TGNTE  | CHP_365 |  -23.0 | 0 | 0 | 0 | 0 | 0 | 0 | 0 | 0 | 0 | 0 | 1 | 34 | Leukemia     | ALL |\n",
       "| 1.7e-36 | SLQG%E   | CHP_378 |   -2.0 | 0 | 0 | 0 | 0 | 1 | 0 | 0 | 0 | 0 | 0 | 1 | 32 | Leukemia     | ALL |\n",
       "| 5.2e-25 | SLG%NTE  | CHP_381 |  -61.5 | 0 | 0 | 0 | 0 | 0 | 0 | 0 | 0 | 0 | 0 | 1 | 22 | Solid tumors | EWS |\n",
       "| 5.2e-25 | SLG%NTE  | CHP_369 | -486.0 | 0 | 0 | 0 | 0 | 0 | 0 | 0 | 0 | 0 | 0 | 1 | 22 | Leukemia     | AML |\n",
       "| 5.2e-25 | S%GGSYNE | CHP_365 |   48.0 | 0 | 0 | 0 | 0 | 0 | 0 | 0 | 0 | 0 | 0 | 1 | 22 | Leukemia     | ALL |\n",
       "\n"
      ],
      "text/plain": [
       "  fisher  gliph    Patient Delta  CMV Flu HCV EBV HPV HS CEF TB SP MCPyV MDavis\n",
       "1 0.0e+00 S%GGNTE  CHP_381 -109.0 0   0   0   0   0   1  0   0  0  0     1     \n",
       "2 2.3e-41 S%TGNTE  CHP_365  -23.0 0   0   0   0   0   0  0   0  0  0     1     \n",
       "3 1.7e-36 SLQG%E   CHP_378   -2.0 0   0   0   0   1   0  0   0  0  0     1     \n",
       "4 5.2e-25 SLG%NTE  CHP_381  -61.5 0   0   0   0   0   0  0   0  0  0     1     \n",
       "5 5.2e-25 SLG%NTE  CHP_369 -486.0 0   0   0   0   0   0  0   0  0  0     1     \n",
       "6 5.2e-25 S%GGSYNE CHP_365   48.0 0   0   0   0   0   0  0   0  0  0     1     \n",
       "  n_unique_cdr3 cancergroup  Disease\n",
       "1 41            Solid tumors EWS    \n",
       "2 34            Leukemia     ALL    \n",
       "3 32            Leukemia     ALL    \n",
       "4 22            Solid tumors EWS    \n",
       "5 22            Leukemia     AML    \n",
       "6 22            Leukemia     ALL    "
      ]
     },
     "metadata": {},
     "output_type": "display_data"
    }
   ],
   "source": [
    "head(gliph_pat_mat_long)"
   ]
  },
  {
   "cell_type": "code",
   "execution_count": 254,
   "metadata": {
    "vscode": {
     "languageId": "r"
    }
   },
   "outputs": [
    {
     "data": {
      "text/html": [
       "<table class=\"dataframe\">\n",
       "<caption>A tibble: 3 x 18</caption>\n",
       "<thead>\n",
       "\t<tr><th scope=col>fisher</th><th scope=col>gliph</th><th scope=col>Patient</th><th scope=col>Delta</th><th scope=col>CMV</th><th scope=col>Flu</th><th scope=col>HCV</th><th scope=col>EBV</th><th scope=col>HPV</th><th scope=col>HS</th><th scope=col>CEF</th><th scope=col>TB</th><th scope=col>SP</th><th scope=col>MCPyV</th><th scope=col>MDavis</th><th scope=col>n_unique_cdr3</th><th scope=col>cancergroup</th><th scope=col>Disease</th></tr>\n",
       "\t<tr><th scope=col>&lt;dbl&gt;</th><th scope=col>&lt;chr&gt;</th><th scope=col>&lt;chr&gt;</th><th scope=col>&lt;dbl&gt;</th><th scope=col>&lt;dbl&gt;</th><th scope=col>&lt;dbl&gt;</th><th scope=col>&lt;dbl&gt;</th><th scope=col>&lt;dbl&gt;</th><th scope=col>&lt;dbl&gt;</th><th scope=col>&lt;dbl&gt;</th><th scope=col>&lt;dbl&gt;</th><th scope=col>&lt;dbl&gt;</th><th scope=col>&lt;dbl&gt;</th><th scope=col>&lt;dbl&gt;</th><th scope=col>&lt;dbl&gt;</th><th scope=col>&lt;dbl&gt;</th><th scope=col>&lt;chr&gt;</th><th scope=col>&lt;chr&gt;</th></tr>\n",
       "</thead>\n",
       "<tbody>\n",
       "\t<tr><td>5.2e-25</td><td>SLG%NTE</td><td>CHP_369</td><td> 486</td><td>0</td><td>0</td><td>0</td><td>0</td><td>0</td><td>0</td><td>0</td><td>0</td><td>0</td><td>0</td><td>1</td><td>22</td><td>Leukemia</td><td>AML</td></tr>\n",
       "\t<tr><td>3.9e-18</td><td>SL%GE  </td><td>CHP_410</td><td> -22</td><td>0</td><td>0</td><td>0</td><td>0</td><td>0</td><td>0</td><td>0</td><td>0</td><td>0</td><td>0</td><td>1</td><td>23</td><td>Leukemia</td><td>ALL</td></tr>\n",
       "\t<tr><td>9.5e-02</td><td>S%     </td><td>CHP_365</td><td>-125</td><td>0</td><td>0</td><td>0</td><td>0</td><td>0</td><td>0</td><td>0</td><td>0</td><td>0</td><td>0</td><td>0</td><td>12</td><td>Leukemia</td><td>ALL</td></tr>\n",
       "</tbody>\n",
       "</table>\n"
      ],
      "text/latex": [
       "A tibble: 3 x 18\n",
       "\\begin{tabular}{llllllllllllllllll}\n",
       " fisher & gliph & Patient & Delta & CMV & Flu & HCV & EBV & HPV & HS & CEF & TB & SP & MCPyV & MDavis & n\\_unique\\_cdr3 & cancergroup & Disease\\\\\n",
       " <dbl> & <chr> & <chr> & <dbl> & <dbl> & <dbl> & <dbl> & <dbl> & <dbl> & <dbl> & <dbl> & <dbl> & <dbl> & <dbl> & <dbl> & <dbl> & <chr> & <chr>\\\\\n",
       "\\hline\n",
       "\t 5.2e-25 & SLG\\%NTE & CHP\\_369 &  486 & 0 & 0 & 0 & 0 & 0 & 0 & 0 & 0 & 0 & 0 & 1 & 22 & Leukemia & AML\\\\\n",
       "\t 3.9e-18 & SL\\%GE   & CHP\\_410 &  -22 & 0 & 0 & 0 & 0 & 0 & 0 & 0 & 0 & 0 & 0 & 1 & 23 & Leukemia & ALL\\\\\n",
       "\t 9.5e-02 & S\\%      & CHP\\_365 & -125 & 0 & 0 & 0 & 0 & 0 & 0 & 0 & 0 & 0 & 0 & 0 & 12 & Leukemia & ALL\\\\\n",
       "\\end{tabular}\n"
      ],
      "text/markdown": [
       "\n",
       "A tibble: 3 x 18\n",
       "\n",
       "| fisher &lt;dbl&gt; | gliph &lt;chr&gt; | Patient &lt;chr&gt; | Delta &lt;dbl&gt; | CMV &lt;dbl&gt; | Flu &lt;dbl&gt; | HCV &lt;dbl&gt; | EBV &lt;dbl&gt; | HPV &lt;dbl&gt; | HS &lt;dbl&gt; | CEF &lt;dbl&gt; | TB &lt;dbl&gt; | SP &lt;dbl&gt; | MCPyV &lt;dbl&gt; | MDavis &lt;dbl&gt; | n_unique_cdr3 &lt;dbl&gt; | cancergroup &lt;chr&gt; | Disease &lt;chr&gt; |\n",
       "|---|---|---|---|---|---|---|---|---|---|---|---|---|---|---|---|---|---|\n",
       "| 5.2e-25 | SLG%NTE | CHP_369 |  486 | 0 | 0 | 0 | 0 | 0 | 0 | 0 | 0 | 0 | 0 | 1 | 22 | Leukemia | AML |\n",
       "| 3.9e-18 | SL%GE   | CHP_410 |  -22 | 0 | 0 | 0 | 0 | 0 | 0 | 0 | 0 | 0 | 0 | 1 | 23 | Leukemia | ALL |\n",
       "| 9.5e-02 | S%      | CHP_365 | -125 | 0 | 0 | 0 | 0 | 0 | 0 | 0 | 0 | 0 | 0 | 0 | 12 | Leukemia | ALL |\n",
       "\n"
      ],
      "text/plain": [
       "  fisher  gliph   Patient Delta CMV Flu HCV EBV HPV HS CEF TB SP MCPyV MDavis\n",
       "1 5.2e-25 SLG%NTE CHP_369  486  0   0   0   0   0   0  0   0  0  0     1     \n",
       "2 3.9e-18 SL%GE   CHP_410  -22  0   0   0   0   0   0  0   0  0  0     1     \n",
       "3 9.5e-02 S%      CHP_365 -125  0   0   0   0   0   0  0   0  0  0     0     \n",
       "  n_unique_cdr3 cancergroup Disease\n",
       "1 22            Leukemia    AML    \n",
       "2 23            Leukemia    ALL    \n",
       "3 12            Leukemia    ALL    "
      ]
     },
     "metadata": {},
     "output_type": "display_data"
    }
   ],
   "source": [
    "gliph_pat_mat_long[ duplicated(gliph_pat_mat_long$gliph),]"
   ]
  },
  {
   "cell_type": "code",
   "execution_count": 330,
   "metadata": {
    "vscode": {
     "languageId": "r"
    }
   },
   "outputs": [],
   "source": [
    "# 3 groups common among more than 1 patient"
   ]
  },
  {
   "cell_type": "code",
   "execution_count": 331,
   "metadata": {
    "vscode": {
     "languageId": "r"
    }
   },
   "outputs": [
    {
     "data": {
      "text/html": [
       "<table class=\"dataframe\">\n",
       "<caption>A tibble: 6 x 18</caption>\n",
       "<thead>\n",
       "\t<tr><th scope=col>fisher</th><th scope=col>gliph</th><th scope=col>Patient</th><th scope=col>Delta</th><th scope=col>CMV</th><th scope=col>Flu</th><th scope=col>HCV</th><th scope=col>EBV</th><th scope=col>HPV</th><th scope=col>HS</th><th scope=col>CEF</th><th scope=col>TB</th><th scope=col>SP</th><th scope=col>MCPyV</th><th scope=col>MDavis</th><th scope=col>n_unique_cdr3</th><th scope=col>cancergroup</th><th scope=col>Disease</th></tr>\n",
       "\t<tr><th scope=col>&lt;dbl&gt;</th><th scope=col>&lt;chr&gt;</th><th scope=col>&lt;chr&gt;</th><th scope=col>&lt;dbl&gt;</th><th scope=col>&lt;dbl&gt;</th><th scope=col>&lt;dbl&gt;</th><th scope=col>&lt;dbl&gt;</th><th scope=col>&lt;dbl&gt;</th><th scope=col>&lt;dbl&gt;</th><th scope=col>&lt;dbl&gt;</th><th scope=col>&lt;dbl&gt;</th><th scope=col>&lt;dbl&gt;</th><th scope=col>&lt;dbl&gt;</th><th scope=col>&lt;dbl&gt;</th><th scope=col>&lt;dbl&gt;</th><th scope=col>&lt;dbl&gt;</th><th scope=col>&lt;chr&gt;</th><th scope=col>&lt;chr&gt;</th></tr>\n",
       "</thead>\n",
       "<tbody>\n",
       "\t<tr><td>5.2e-25</td><td>SLG%NTE</td><td>CHP_381</td><td> -61.5</td><td>0</td><td>0</td><td>0</td><td>0</td><td>0</td><td>0</td><td>0</td><td>0</td><td>0</td><td>0</td><td>1</td><td>22</td><td>Solid tumors</td><td>EWS   </td></tr>\n",
       "\t<tr><td>5.2e-25</td><td>SLG%NTE</td><td>CHP_369</td><td>-486.0</td><td>0</td><td>0</td><td>0</td><td>0</td><td>0</td><td>0</td><td>0</td><td>0</td><td>0</td><td>0</td><td>1</td><td>22</td><td>Leukemia    </td><td>AML   </td></tr>\n",
       "\t<tr><td>3.9e-18</td><td>SL%GE  </td><td>CHP_381</td><td>  -1.0</td><td>0</td><td>0</td><td>0</td><td>0</td><td>0</td><td>0</td><td>0</td><td>0</td><td>0</td><td>0</td><td>1</td><td>23</td><td>Solid tumors</td><td>EWS   </td></tr>\n",
       "\t<tr><td>3.9e-18</td><td>SL%GE  </td><td>CHP_410</td><td>  22.0</td><td>0</td><td>0</td><td>0</td><td>0</td><td>0</td><td>0</td><td>0</td><td>0</td><td>0</td><td>0</td><td>1</td><td>23</td><td>Leukemia    </td><td>ALL   </td></tr>\n",
       "\t<tr><td>9.5e-02</td><td>S%     </td><td>CHP_396</td><td> -96.0</td><td>0</td><td>0</td><td>0</td><td>0</td><td>0</td><td>0</td><td>0</td><td>0</td><td>0</td><td>0</td><td>0</td><td>12</td><td>Leukemia    </td><td>HR ALL</td></tr>\n",
       "\t<tr><td>9.5e-02</td><td>S%     </td><td>CHP_365</td><td> 125.0</td><td>0</td><td>0</td><td>0</td><td>0</td><td>0</td><td>0</td><td>0</td><td>0</td><td>0</td><td>0</td><td>0</td><td>12</td><td>Leukemia    </td><td>ALL   </td></tr>\n",
       "</tbody>\n",
       "</table>\n"
      ],
      "text/latex": [
       "A tibble: 6 x 18\n",
       "\\begin{tabular}{llllllllllllllllll}\n",
       " fisher & gliph & Patient & Delta & CMV & Flu & HCV & EBV & HPV & HS & CEF & TB & SP & MCPyV & MDavis & n\\_unique\\_cdr3 & cancergroup & Disease\\\\\n",
       " <dbl> & <chr> & <chr> & <dbl> & <dbl> & <dbl> & <dbl> & <dbl> & <dbl> & <dbl> & <dbl> & <dbl> & <dbl> & <dbl> & <dbl> & <dbl> & <chr> & <chr>\\\\\n",
       "\\hline\n",
       "\t 5.2e-25 & SLG\\%NTE & CHP\\_381 &  -61.5 & 0 & 0 & 0 & 0 & 0 & 0 & 0 & 0 & 0 & 0 & 1 & 22 & Solid tumors & EWS   \\\\\n",
       "\t 5.2e-25 & SLG\\%NTE & CHP\\_369 & -486.0 & 0 & 0 & 0 & 0 & 0 & 0 & 0 & 0 & 0 & 0 & 1 & 22 & Leukemia     & AML   \\\\\n",
       "\t 3.9e-18 & SL\\%GE   & CHP\\_381 &   -1.0 & 0 & 0 & 0 & 0 & 0 & 0 & 0 & 0 & 0 & 0 & 1 & 23 & Solid tumors & EWS   \\\\\n",
       "\t 3.9e-18 & SL\\%GE   & CHP\\_410 &   22.0 & 0 & 0 & 0 & 0 & 0 & 0 & 0 & 0 & 0 & 0 & 1 & 23 & Leukemia     & ALL   \\\\\n",
       "\t 9.5e-02 & S\\%      & CHP\\_396 &  -96.0 & 0 & 0 & 0 & 0 & 0 & 0 & 0 & 0 & 0 & 0 & 0 & 12 & Leukemia     & HR ALL\\\\\n",
       "\t 9.5e-02 & S\\%      & CHP\\_365 &  125.0 & 0 & 0 & 0 & 0 & 0 & 0 & 0 & 0 & 0 & 0 & 0 & 12 & Leukemia     & ALL   \\\\\n",
       "\\end{tabular}\n"
      ],
      "text/markdown": [
       "\n",
       "A tibble: 6 x 18\n",
       "\n",
       "| fisher &lt;dbl&gt; | gliph &lt;chr&gt; | Patient &lt;chr&gt; | Delta &lt;dbl&gt; | CMV &lt;dbl&gt; | Flu &lt;dbl&gt; | HCV &lt;dbl&gt; | EBV &lt;dbl&gt; | HPV &lt;dbl&gt; | HS &lt;dbl&gt; | CEF &lt;dbl&gt; | TB &lt;dbl&gt; | SP &lt;dbl&gt; | MCPyV &lt;dbl&gt; | MDavis &lt;dbl&gt; | n_unique_cdr3 &lt;dbl&gt; | cancergroup &lt;chr&gt; | Disease &lt;chr&gt; |\n",
       "|---|---|---|---|---|---|---|---|---|---|---|---|---|---|---|---|---|---|\n",
       "| 5.2e-25 | SLG%NTE | CHP_381 |  -61.5 | 0 | 0 | 0 | 0 | 0 | 0 | 0 | 0 | 0 | 0 | 1 | 22 | Solid tumors | EWS    |\n",
       "| 5.2e-25 | SLG%NTE | CHP_369 | -486.0 | 0 | 0 | 0 | 0 | 0 | 0 | 0 | 0 | 0 | 0 | 1 | 22 | Leukemia     | AML    |\n",
       "| 3.9e-18 | SL%GE   | CHP_381 |   -1.0 | 0 | 0 | 0 | 0 | 0 | 0 | 0 | 0 | 0 | 0 | 1 | 23 | Solid tumors | EWS    |\n",
       "| 3.9e-18 | SL%GE   | CHP_410 |   22.0 | 0 | 0 | 0 | 0 | 0 | 0 | 0 | 0 | 0 | 0 | 1 | 23 | Leukemia     | ALL    |\n",
       "| 9.5e-02 | S%      | CHP_396 |  -96.0 | 0 | 0 | 0 | 0 | 0 | 0 | 0 | 0 | 0 | 0 | 0 | 12 | Leukemia     | HR ALL |\n",
       "| 9.5e-02 | S%      | CHP_365 |  125.0 | 0 | 0 | 0 | 0 | 0 | 0 | 0 | 0 | 0 | 0 | 0 | 12 | Leukemia     | ALL    |\n",
       "\n"
      ],
      "text/plain": [
       "  fisher  gliph   Patient Delta  CMV Flu HCV EBV HPV HS CEF TB SP MCPyV MDavis\n",
       "1 5.2e-25 SLG%NTE CHP_381  -61.5 0   0   0   0   0   0  0   0  0  0     1     \n",
       "2 5.2e-25 SLG%NTE CHP_369 -486.0 0   0   0   0   0   0  0   0  0  0     1     \n",
       "3 3.9e-18 SL%GE   CHP_381   -1.0 0   0   0   0   0   0  0   0  0  0     1     \n",
       "4 3.9e-18 SL%GE   CHP_410   22.0 0   0   0   0   0   0  0   0  0  0     1     \n",
       "5 9.5e-02 S%      CHP_396  -96.0 0   0   0   0   0   0  0   0  0  0     0     \n",
       "6 9.5e-02 S%      CHP_365  125.0 0   0   0   0   0   0  0   0  0  0     0     \n",
       "  n_unique_cdr3 cancergroup  Disease\n",
       "1 22            Solid tumors EWS    \n",
       "2 22            Leukemia     AML    \n",
       "3 23            Solid tumors EWS    \n",
       "4 23            Leukemia     ALL    \n",
       "5 12            Leukemia     HR ALL \n",
       "6 12            Leukemia     ALL    "
      ]
     },
     "metadata": {},
     "output_type": "display_data"
    }
   ],
   "source": [
    "gliph_pat_mat_long[ gliph_pat_mat_long$gliph %in% c(\"SLG%NTE\", \"SL%GE\", \"S%\"),]"
   ]
  },
  {
   "cell_type": "code",
   "execution_count": 336,
   "metadata": {
    "vscode": {
     "languageId": "r"
    }
   },
   "outputs": [],
   "source": [
    "# Group antigens into categories\n",
    "gliph_pat_mat_long$antigen <- NA\n",
    "for (i in 1:nrow(gliph_pat_mat_long)) {\n",
    "\n",
    "    if (rowSums(gliph_pat_mat_long[i, c(\"CMV\", \"Flu\", \"HCV\", \"EBV\", \"HPV\", \"MCPyV\")]) > 0) {\n",
    "        gliph_pat_mat_long$antigen[i] <- \"Viral\"\n",
    "    }\n",
    "    if (rowSums(gliph_pat_mat_long[i, \"HS\"]) > 0) {\n",
    "        gliph_pat_mat_long$antigen[i] <- \"HomoSapiens\"\n",
    "    }\n",
    "    if (rowSums(gliph_pat_mat_long[i, \"HS\"]) > 0 && rowSums(gliph_pat_mat_long[i, c(\"CMV\", \"Flu\", \"HCV\", \"EBV\", \"HPV\", \"MCPyV\")]) > 0) {\n",
    "        gliph_pat_mat_long$antigen[i] <- \"Cross-reactive\"\n",
    "    }\n",
    "}"
   ]
  },
  {
   "cell_type": "code",
   "execution_count": 337,
   "metadata": {
    "vscode": {
     "languageId": "r"
    }
   },
   "outputs": [],
   "source": [
    "gliph_pat_mat_long$antigen[ is.na(gliph_pat_mat_long$antigen)] <- \"Unknown\""
   ]
  },
  {
   "cell_type": "code",
   "execution_count": 369,
   "metadata": {
    "vscode": {
     "languageId": "r"
    }
   },
   "outputs": [],
   "source": [
    "gliph_pat_mat_long$log10fisher <- -log10(gliph_pat_mat_long$fisher)"
   ]
  },
  {
   "cell_type": "code",
   "execution_count": 372,
   "metadata": {
    "vscode": {
     "languageId": "r"
    }
   },
   "outputs": [
    {
     "data": {
      "text/html": [
       "<table class=\"dataframe\">\n",
       "<caption>A tibble: 2 x 20</caption>\n",
       "<thead>\n",
       "\t<tr><th scope=col>fisher</th><th scope=col>gliph</th><th scope=col>Patient</th><th scope=col>Delta</th><th scope=col>CMV</th><th scope=col>Flu</th><th scope=col>HCV</th><th scope=col>EBV</th><th scope=col>HPV</th><th scope=col>HS</th><th scope=col>CEF</th><th scope=col>TB</th><th scope=col>SP</th><th scope=col>MCPyV</th><th scope=col>MDavis</th><th scope=col>n_unique_cdr3</th><th scope=col>cancergroup</th><th scope=col>Disease</th><th scope=col>antigen</th><th scope=col>log10fisher</th></tr>\n",
       "\t<tr><th scope=col>&lt;dbl&gt;</th><th scope=col>&lt;chr&gt;</th><th scope=col>&lt;chr&gt;</th><th scope=col>&lt;dbl&gt;</th><th scope=col>&lt;dbl&gt;</th><th scope=col>&lt;dbl&gt;</th><th scope=col>&lt;dbl&gt;</th><th scope=col>&lt;dbl&gt;</th><th scope=col>&lt;dbl&gt;</th><th scope=col>&lt;dbl&gt;</th><th scope=col>&lt;dbl&gt;</th><th scope=col>&lt;dbl&gt;</th><th scope=col>&lt;dbl&gt;</th><th scope=col>&lt;dbl&gt;</th><th scope=col>&lt;dbl&gt;</th><th scope=col>&lt;dbl&gt;</th><th scope=col>&lt;chr&gt;</th><th scope=col>&lt;chr&gt;</th><th scope=col>&lt;chr&gt;</th><th scope=col>&lt;dbl&gt;</th></tr>\n",
       "</thead>\n",
       "<tbody>\n",
       "\t<tr><td>6.8e-14</td><td>S%GGE  </td><td>CHP_368</td><td>  4</td><td>0</td><td>0</td><td>1</td><td>0</td><td>0</td><td>1</td><td>0</td><td>0</td><td>1</td><td>0</td><td>1</td><td>23</td><td>Solid tumors</td><td>ARMS</td><td>Cross-reactive</td><td>13.167491</td></tr>\n",
       "\t<tr><td>4.5e-08</td><td>SL%GSYE</td><td>CHP_357</td><td>-35</td><td>0</td><td>0</td><td>1</td><td>1</td><td>0</td><td>1</td><td>0</td><td>0</td><td>0</td><td>0</td><td>0</td><td> 9</td><td>Leukemia    </td><td>AML </td><td>Cross-reactive</td><td> 7.346787</td></tr>\n",
       "</tbody>\n",
       "</table>\n"
      ],
      "text/latex": [
       "A tibble: 2 x 20\n",
       "\\begin{tabular}{llllllllllllllllllll}\n",
       " fisher & gliph & Patient & Delta & CMV & Flu & HCV & EBV & HPV & HS & CEF & TB & SP & MCPyV & MDavis & n\\_unique\\_cdr3 & cancergroup & Disease & antigen & log10fisher\\\\\n",
       " <dbl> & <chr> & <chr> & <dbl> & <dbl> & <dbl> & <dbl> & <dbl> & <dbl> & <dbl> & <dbl> & <dbl> & <dbl> & <dbl> & <dbl> & <dbl> & <chr> & <chr> & <chr> & <dbl>\\\\\n",
       "\\hline\n",
       "\t 6.8e-14 & S\\%GGE   & CHP\\_368 &   4 & 0 & 0 & 1 & 0 & 0 & 1 & 0 & 0 & 1 & 0 & 1 & 23 & Solid tumors & ARMS & Cross-reactive & 13.167491\\\\\n",
       "\t 4.5e-08 & SL\\%GSYE & CHP\\_357 & -35 & 0 & 0 & 1 & 1 & 0 & 1 & 0 & 0 & 0 & 0 & 0 &  9 & Leukemia     & AML  & Cross-reactive &  7.346787\\\\\n",
       "\\end{tabular}\n"
      ],
      "text/markdown": [
       "\n",
       "A tibble: 2 x 20\n",
       "\n",
       "| fisher &lt;dbl&gt; | gliph &lt;chr&gt; | Patient &lt;chr&gt; | Delta &lt;dbl&gt; | CMV &lt;dbl&gt; | Flu &lt;dbl&gt; | HCV &lt;dbl&gt; | EBV &lt;dbl&gt; | HPV &lt;dbl&gt; | HS &lt;dbl&gt; | CEF &lt;dbl&gt; | TB &lt;dbl&gt; | SP &lt;dbl&gt; | MCPyV &lt;dbl&gt; | MDavis &lt;dbl&gt; | n_unique_cdr3 &lt;dbl&gt; | cancergroup &lt;chr&gt; | Disease &lt;chr&gt; | antigen &lt;chr&gt; | log10fisher &lt;dbl&gt; |\n",
       "|---|---|---|---|---|---|---|---|---|---|---|---|---|---|---|---|---|---|---|---|\n",
       "| 6.8e-14 | S%GGE   | CHP_368 |   4 | 0 | 0 | 1 | 0 | 0 | 1 | 0 | 0 | 1 | 0 | 1 | 23 | Solid tumors | ARMS | Cross-reactive | 13.167491 |\n",
       "| 4.5e-08 | SL%GSYE | CHP_357 | -35 | 0 | 0 | 1 | 1 | 0 | 1 | 0 | 0 | 0 | 0 | 0 |  9 | Leukemia     | AML  | Cross-reactive |  7.346787 |\n",
       "\n"
      ],
      "text/plain": [
       "  fisher  gliph   Patient Delta CMV Flu HCV EBV HPV HS CEF TB SP MCPyV MDavis\n",
       "1 6.8e-14 S%GGE   CHP_368   4   0   0   1   0   0   1  0   0  1  0     1     \n",
       "2 4.5e-08 SL%GSYE CHP_357 -35   0   0   1   1   0   1  0   0  0  0     0     \n",
       "  n_unique_cdr3 cancergroup  Disease antigen        log10fisher\n",
       "1 23            Solid tumors ARMS    Cross-reactive 13.167491  \n",
       "2  9            Leukemia     AML     Cross-reactive  7.346787  "
      ]
     },
     "metadata": {},
     "output_type": "display_data"
    }
   ],
   "source": [
    "gliph_pat_mat_long[ gliph_pat_mat_long$antigen == \"Cross-reactive\" ,]"
   ]
  },
  {
   "cell_type": "code",
   "execution_count": 371,
   "metadata": {
    "vscode": {
     "languageId": "r"
    }
   },
   "outputs": [
    {
     "data": {
      "text/html": [
       "<table class=\"dataframe\">\n",
       "<caption>A tibble: 11 x 20</caption>\n",
       "<thead>\n",
       "\t<tr><th scope=col>fisher</th><th scope=col>gliph</th><th scope=col>Patient</th><th scope=col>Delta</th><th scope=col>CMV</th><th scope=col>Flu</th><th scope=col>HCV</th><th scope=col>EBV</th><th scope=col>HPV</th><th scope=col>HS</th><th scope=col>CEF</th><th scope=col>TB</th><th scope=col>SP</th><th scope=col>MCPyV</th><th scope=col>MDavis</th><th scope=col>n_unique_cdr3</th><th scope=col>cancergroup</th><th scope=col>Disease</th><th scope=col>antigen</th><th scope=col>log10fisher</th></tr>\n",
       "\t<tr><th scope=col>&lt;dbl&gt;</th><th scope=col>&lt;chr&gt;</th><th scope=col>&lt;chr&gt;</th><th scope=col>&lt;dbl&gt;</th><th scope=col>&lt;dbl&gt;</th><th scope=col>&lt;dbl&gt;</th><th scope=col>&lt;dbl&gt;</th><th scope=col>&lt;dbl&gt;</th><th scope=col>&lt;dbl&gt;</th><th scope=col>&lt;dbl&gt;</th><th scope=col>&lt;dbl&gt;</th><th scope=col>&lt;dbl&gt;</th><th scope=col>&lt;dbl&gt;</th><th scope=col>&lt;dbl&gt;</th><th scope=col>&lt;dbl&gt;</th><th scope=col>&lt;dbl&gt;</th><th scope=col>&lt;chr&gt;</th><th scope=col>&lt;chr&gt;</th><th scope=col>&lt;chr&gt;</th><th scope=col>&lt;dbl&gt;</th></tr>\n",
       "</thead>\n",
       "<tbody>\n",
       "\t<tr><td>1.7e-36</td><td>SLQG%E  </td><td>CHP_378</td><td>  -2.0</td><td>0</td><td>0</td><td>0</td><td>0</td><td>1</td><td>0</td><td>0</td><td>0</td><td>0</td><td>0</td><td>1</td><td>32</td><td>Leukemia           </td><td>ALL   </td><td>Viral</td><td>35.769551</td></tr>\n",
       "\t<tr><td>5.1e-19</td><td>SP%RNTE </td><td>CHP_396</td><td>1398.5</td><td>1</td><td>0</td><td>0</td><td>0</td><td>0</td><td>0</td><td>0</td><td>0</td><td>0</td><td>0</td><td>1</td><td>15</td><td>Leukemia           </td><td>HR ALL</td><td>Viral</td><td>18.292430</td></tr>\n",
       "\t<tr><td>3.6e-13</td><td>S%LNTE  </td><td>CHP_381</td><td> -31.0</td><td>0</td><td>0</td><td>0</td><td>1</td><td>0</td><td>0</td><td>0</td><td>0</td><td>0</td><td>0</td><td>1</td><td>14</td><td>Solid tumors       </td><td>EWS   </td><td>Viral</td><td>12.443697</td></tr>\n",
       "\t<tr><td>2.5e-12</td><td>SL%GYE  </td><td>CHP_353</td><td> -16.0</td><td>0</td><td>0</td><td>0</td><td>0</td><td>1</td><td>0</td><td>0</td><td>0</td><td>0</td><td>0</td><td>1</td><td>15</td><td>Leukemia           </td><td>AML   </td><td>Viral</td><td>11.602060</td></tr>\n",
       "\t<tr><td>9.1e-08</td><td>S%TGE   </td><td>CHP_410</td><td>   6.0</td><td>0</td><td>0</td><td>1</td><td>0</td><td>0</td><td>0</td><td>0</td><td>0</td><td>0</td><td>0</td><td>1</td><td>14</td><td>Leukemia           </td><td>ALL   </td><td>Viral</td><td> 7.040959</td></tr>\n",
       "\t<tr><td>1.2e-06</td><td>SLAG%YE </td><td>CHP_366</td><td> 340.5</td><td>1</td><td>0</td><td>0</td><td>0</td><td>0</td><td>0</td><td>0</td><td>0</td><td>0</td><td>0</td><td>1</td><td> 8</td><td>Lymphoma           </td><td>HD    </td><td>Viral</td><td> 5.920819</td></tr>\n",
       "\t<tr><td>5.7e-06</td><td>SL%GET  </td><td>CHP_368</td><td>   4.0</td><td>0</td><td>0</td><td>0</td><td>1</td><td>0</td><td>0</td><td>0</td><td>0</td><td>0</td><td>0</td><td>0</td><td> 7</td><td>Solid tumors       </td><td>ARMS  </td><td>Viral</td><td> 5.244125</td></tr>\n",
       "\t<tr><td>9.1e-06</td><td>SLG%GE  </td><td>CHP_368</td><td>   7.0</td><td>1</td><td>0</td><td>0</td><td>0</td><td>0</td><td>0</td><td>0</td><td>0</td><td>0</td><td>0</td><td>1</td><td> 9</td><td>Solid tumors       </td><td>ARMS  </td><td>Viral</td><td> 5.040959</td></tr>\n",
       "\t<tr><td>2.1e-05</td><td>SPSR%TE </td><td>CHP_396</td><td> 140.0</td><td>1</td><td>0</td><td>0</td><td>0</td><td>0</td><td>0</td><td>0</td><td>0</td><td>0</td><td>0</td><td>1</td><td> 4</td><td>Leukemia           </td><td>HR ALL</td><td>Viral</td><td> 4.677781</td></tr>\n",
       "\t<tr><td>1.5e-04</td><td>S%SSGANV</td><td>CHP_387</td><td>   2.0</td><td>0</td><td>0</td><td>0</td><td>1</td><td>0</td><td>0</td><td>0</td><td>0</td><td>0</td><td>0</td><td>0</td><td> 5</td><td>T-cell malignancies</td><td>T-ALL </td><td>Viral</td><td> 3.823909</td></tr>\n",
       "\t<tr><td>5.2e-03</td><td>S%SRNTE </td><td>CHP_396</td><td> 140.0</td><td>1</td><td>0</td><td>0</td><td>0</td><td>0</td><td>0</td><td>0</td><td>0</td><td>0</td><td>0</td><td>1</td><td> 3</td><td>Leukemia           </td><td>HR ALL</td><td>Viral</td><td> 2.283997</td></tr>\n",
       "</tbody>\n",
       "</table>\n"
      ],
      "text/latex": [
       "A tibble: 11 x 20\n",
       "\\begin{tabular}{llllllllllllllllllll}\n",
       " fisher & gliph & Patient & Delta & CMV & Flu & HCV & EBV & HPV & HS & CEF & TB & SP & MCPyV & MDavis & n\\_unique\\_cdr3 & cancergroup & Disease & antigen & log10fisher\\\\\n",
       " <dbl> & <chr> & <chr> & <dbl> & <dbl> & <dbl> & <dbl> & <dbl> & <dbl> & <dbl> & <dbl> & <dbl> & <dbl> & <dbl> & <dbl> & <dbl> & <chr> & <chr> & <chr> & <dbl>\\\\\n",
       "\\hline\n",
       "\t 1.7e-36 & SLQG\\%E   & CHP\\_378 &   -2.0 & 0 & 0 & 0 & 0 & 1 & 0 & 0 & 0 & 0 & 0 & 1 & 32 & Leukemia            & ALL    & Viral & 35.769551\\\\\n",
       "\t 5.1e-19 & SP\\%RNTE  & CHP\\_396 & 1398.5 & 1 & 0 & 0 & 0 & 0 & 0 & 0 & 0 & 0 & 0 & 1 & 15 & Leukemia            & HR ALL & Viral & 18.292430\\\\\n",
       "\t 3.6e-13 & S\\%LNTE   & CHP\\_381 &  -31.0 & 0 & 0 & 0 & 1 & 0 & 0 & 0 & 0 & 0 & 0 & 1 & 14 & Solid tumors        & EWS    & Viral & 12.443697\\\\\n",
       "\t 2.5e-12 & SL\\%GYE   & CHP\\_353 &  -16.0 & 0 & 0 & 0 & 0 & 1 & 0 & 0 & 0 & 0 & 0 & 1 & 15 & Leukemia            & AML    & Viral & 11.602060\\\\\n",
       "\t 9.1e-08 & S\\%TGE    & CHP\\_410 &    6.0 & 0 & 0 & 1 & 0 & 0 & 0 & 0 & 0 & 0 & 0 & 1 & 14 & Leukemia            & ALL    & Viral &  7.040959\\\\\n",
       "\t 1.2e-06 & SLAG\\%YE  & CHP\\_366 &  340.5 & 1 & 0 & 0 & 0 & 0 & 0 & 0 & 0 & 0 & 0 & 1 &  8 & Lymphoma            & HD     & Viral &  5.920819\\\\\n",
       "\t 5.7e-06 & SL\\%GET   & CHP\\_368 &    4.0 & 0 & 0 & 0 & 1 & 0 & 0 & 0 & 0 & 0 & 0 & 0 &  7 & Solid tumors        & ARMS   & Viral &  5.244125\\\\\n",
       "\t 9.1e-06 & SLG\\%GE   & CHP\\_368 &    7.0 & 1 & 0 & 0 & 0 & 0 & 0 & 0 & 0 & 0 & 0 & 1 &  9 & Solid tumors        & ARMS   & Viral &  5.040959\\\\\n",
       "\t 2.1e-05 & SPSR\\%TE  & CHP\\_396 &  140.0 & 1 & 0 & 0 & 0 & 0 & 0 & 0 & 0 & 0 & 0 & 1 &  4 & Leukemia            & HR ALL & Viral &  4.677781\\\\\n",
       "\t 1.5e-04 & S\\%SSGANV & CHP\\_387 &    2.0 & 0 & 0 & 0 & 1 & 0 & 0 & 0 & 0 & 0 & 0 & 0 &  5 & T-cell malignancies & T-ALL  & Viral &  3.823909\\\\\n",
       "\t 5.2e-03 & S\\%SRNTE  & CHP\\_396 &  140.0 & 1 & 0 & 0 & 0 & 0 & 0 & 0 & 0 & 0 & 0 & 1 &  3 & Leukemia            & HR ALL & Viral &  2.283997\\\\\n",
       "\\end{tabular}\n"
      ],
      "text/markdown": [
       "\n",
       "A tibble: 11 x 20\n",
       "\n",
       "| fisher &lt;dbl&gt; | gliph &lt;chr&gt; | Patient &lt;chr&gt; | Delta &lt;dbl&gt; | CMV &lt;dbl&gt; | Flu &lt;dbl&gt; | HCV &lt;dbl&gt; | EBV &lt;dbl&gt; | HPV &lt;dbl&gt; | HS &lt;dbl&gt; | CEF &lt;dbl&gt; | TB &lt;dbl&gt; | SP &lt;dbl&gt; | MCPyV &lt;dbl&gt; | MDavis &lt;dbl&gt; | n_unique_cdr3 &lt;dbl&gt; | cancergroup &lt;chr&gt; | Disease &lt;chr&gt; | antigen &lt;chr&gt; | log10fisher &lt;dbl&gt; |\n",
       "|---|---|---|---|---|---|---|---|---|---|---|---|---|---|---|---|---|---|---|---|\n",
       "| 1.7e-36 | SLQG%E   | CHP_378 |   -2.0 | 0 | 0 | 0 | 0 | 1 | 0 | 0 | 0 | 0 | 0 | 1 | 32 | Leukemia            | ALL    | Viral | 35.769551 |\n",
       "| 5.1e-19 | SP%RNTE  | CHP_396 | 1398.5 | 1 | 0 | 0 | 0 | 0 | 0 | 0 | 0 | 0 | 0 | 1 | 15 | Leukemia            | HR ALL | Viral | 18.292430 |\n",
       "| 3.6e-13 | S%LNTE   | CHP_381 |  -31.0 | 0 | 0 | 0 | 1 | 0 | 0 | 0 | 0 | 0 | 0 | 1 | 14 | Solid tumors        | EWS    | Viral | 12.443697 |\n",
       "| 2.5e-12 | SL%GYE   | CHP_353 |  -16.0 | 0 | 0 | 0 | 0 | 1 | 0 | 0 | 0 | 0 | 0 | 1 | 15 | Leukemia            | AML    | Viral | 11.602060 |\n",
       "| 9.1e-08 | S%TGE    | CHP_410 |    6.0 | 0 | 0 | 1 | 0 | 0 | 0 | 0 | 0 | 0 | 0 | 1 | 14 | Leukemia            | ALL    | Viral |  7.040959 |\n",
       "| 1.2e-06 | SLAG%YE  | CHP_366 |  340.5 | 1 | 0 | 0 | 0 | 0 | 0 | 0 | 0 | 0 | 0 | 1 |  8 | Lymphoma            | HD     | Viral |  5.920819 |\n",
       "| 5.7e-06 | SL%GET   | CHP_368 |    4.0 | 0 | 0 | 0 | 1 | 0 | 0 | 0 | 0 | 0 | 0 | 0 |  7 | Solid tumors        | ARMS   | Viral |  5.244125 |\n",
       "| 9.1e-06 | SLG%GE   | CHP_368 |    7.0 | 1 | 0 | 0 | 0 | 0 | 0 | 0 | 0 | 0 | 0 | 1 |  9 | Solid tumors        | ARMS   | Viral |  5.040959 |\n",
       "| 2.1e-05 | SPSR%TE  | CHP_396 |  140.0 | 1 | 0 | 0 | 0 | 0 | 0 | 0 | 0 | 0 | 0 | 1 |  4 | Leukemia            | HR ALL | Viral |  4.677781 |\n",
       "| 1.5e-04 | S%SSGANV | CHP_387 |    2.0 | 0 | 0 | 0 | 1 | 0 | 0 | 0 | 0 | 0 | 0 | 0 |  5 | T-cell malignancies | T-ALL  | Viral |  3.823909 |\n",
       "| 5.2e-03 | S%SRNTE  | CHP_396 |  140.0 | 1 | 0 | 0 | 0 | 0 | 0 | 0 | 0 | 0 | 0 | 1 |  3 | Leukemia            | HR ALL | Viral |  2.283997 |\n",
       "\n"
      ],
      "text/plain": [
       "   fisher  gliph    Patient Delta  CMV Flu HCV EBV HPV HS CEF TB SP MCPyV\n",
       "1  1.7e-36 SLQG%E   CHP_378   -2.0 0   0   0   0   1   0  0   0  0  0    \n",
       "2  5.1e-19 SP%RNTE  CHP_396 1398.5 1   0   0   0   0   0  0   0  0  0    \n",
       "3  3.6e-13 S%LNTE   CHP_381  -31.0 0   0   0   1   0   0  0   0  0  0    \n",
       "4  2.5e-12 SL%GYE   CHP_353  -16.0 0   0   0   0   1   0  0   0  0  0    \n",
       "5  9.1e-08 S%TGE    CHP_410    6.0 0   0   1   0   0   0  0   0  0  0    \n",
       "6  1.2e-06 SLAG%YE  CHP_366  340.5 1   0   0   0   0   0  0   0  0  0    \n",
       "7  5.7e-06 SL%GET   CHP_368    4.0 0   0   0   1   0   0  0   0  0  0    \n",
       "8  9.1e-06 SLG%GE   CHP_368    7.0 1   0   0   0   0   0  0   0  0  0    \n",
       "9  2.1e-05 SPSR%TE  CHP_396  140.0 1   0   0   0   0   0  0   0  0  0    \n",
       "10 1.5e-04 S%SSGANV CHP_387    2.0 0   0   0   1   0   0  0   0  0  0    \n",
       "11 5.2e-03 S%SRNTE  CHP_396  140.0 1   0   0   0   0   0  0   0  0  0    \n",
       "   MDavis n_unique_cdr3 cancergroup         Disease antigen log10fisher\n",
       "1  1      32            Leukemia            ALL     Viral   35.769551  \n",
       "2  1      15            Leukemia            HR ALL  Viral   18.292430  \n",
       "3  1      14            Solid tumors        EWS     Viral   12.443697  \n",
       "4  1      15            Leukemia            AML     Viral   11.602060  \n",
       "5  1      14            Leukemia            ALL     Viral    7.040959  \n",
       "6  1       8            Lymphoma            HD      Viral    5.920819  \n",
       "7  0       7            Solid tumors        ARMS    Viral    5.244125  \n",
       "8  1       9            Solid tumors        ARMS    Viral    5.040959  \n",
       "9  1       4            Leukemia            HR ALL  Viral    4.677781  \n",
       "10 0       5            T-cell malignancies T-ALL   Viral    3.823909  \n",
       "11 1       3            Leukemia            HR ALL  Viral    2.283997  "
      ]
     },
     "metadata": {},
     "output_type": "display_data"
    }
   ],
   "source": [
    "gliph_pat_mat_long[ gliph_pat_mat_long$antigen == \"Viral\" ,]"
   ]
  },
  {
   "cell_type": "code",
   "execution_count": null,
   "metadata": {
    "vscode": {
     "languageId": "r"
    }
   },
   "outputs": [],
   "source": []
  },
  {
   "cell_type": "code",
   "execution_count": 370,
   "metadata": {
    "vscode": {
     "languageId": "r"
    }
   },
   "outputs": [
    {
     "data": {
      "text/html": [
       "<table class=\"dataframe\">\n",
       "<caption>A tibble: 44 x 20</caption>\n",
       "<thead>\n",
       "\t<tr><th scope=col>fisher</th><th scope=col>gliph</th><th scope=col>Patient</th><th scope=col>Delta</th><th scope=col>CMV</th><th scope=col>Flu</th><th scope=col>HCV</th><th scope=col>EBV</th><th scope=col>HPV</th><th scope=col>HS</th><th scope=col>CEF</th><th scope=col>TB</th><th scope=col>SP</th><th scope=col>MCPyV</th><th scope=col>MDavis</th><th scope=col>n_unique_cdr3</th><th scope=col>cancergroup</th><th scope=col>Disease</th><th scope=col>antigen</th><th scope=col>log10fisher</th></tr>\n",
       "\t<tr><th scope=col>&lt;dbl&gt;</th><th scope=col>&lt;chr&gt;</th><th scope=col>&lt;chr&gt;</th><th scope=col>&lt;dbl&gt;</th><th scope=col>&lt;dbl&gt;</th><th scope=col>&lt;dbl&gt;</th><th scope=col>&lt;dbl&gt;</th><th scope=col>&lt;dbl&gt;</th><th scope=col>&lt;dbl&gt;</th><th scope=col>&lt;dbl&gt;</th><th scope=col>&lt;dbl&gt;</th><th scope=col>&lt;dbl&gt;</th><th scope=col>&lt;dbl&gt;</th><th scope=col>&lt;dbl&gt;</th><th scope=col>&lt;dbl&gt;</th><th scope=col>&lt;dbl&gt;</th><th scope=col>&lt;chr&gt;</th><th scope=col>&lt;chr&gt;</th><th scope=col>&lt;chr&gt;</th><th scope=col>&lt;dbl&gt;</th></tr>\n",
       "</thead>\n",
       "<tbody>\n",
       "\t<tr><td>0.0e+00</td><td>S%GGNTE  </td><td>CHP_381</td><td>-109.000000</td><td>0</td><td>0</td><td>0</td><td>0</td><td>0</td><td>1</td><td>0</td><td>0</td><td>0</td><td>0</td><td>1</td><td>41</td><td>Solid tumors</td><td>EWS   </td><td>HomoSapiens   </td><td>      Inf</td></tr>\n",
       "\t<tr><td>2.3e-41</td><td>S%TGNTE  </td><td>CHP_365</td><td> -23.000000</td><td>0</td><td>0</td><td>0</td><td>0</td><td>0</td><td>0</td><td>0</td><td>0</td><td>0</td><td>0</td><td>1</td><td>34</td><td>Leukemia    </td><td>ALL   </td><td>Unknown       </td><td>40.638272</td></tr>\n",
       "\t<tr><td>1.7e-36</td><td>SLQG%E   </td><td>CHP_378</td><td>  -2.000000</td><td>0</td><td>0</td><td>0</td><td>0</td><td>1</td><td>0</td><td>0</td><td>0</td><td>0</td><td>0</td><td>1</td><td>32</td><td>Leukemia    </td><td>ALL   </td><td>Viral         </td><td>35.769551</td></tr>\n",
       "\t<tr><td>5.2e-25</td><td>SLG%NTE  </td><td>CHP_381</td><td> -61.500000</td><td>0</td><td>0</td><td>0</td><td>0</td><td>0</td><td>0</td><td>0</td><td>0</td><td>0</td><td>0</td><td>1</td><td>22</td><td>Solid tumors</td><td>EWS   </td><td>Unknown       </td><td>24.283997</td></tr>\n",
       "\t<tr><td>5.2e-25</td><td>SLG%NTE  </td><td>CHP_369</td><td>-486.000000</td><td>0</td><td>0</td><td>0</td><td>0</td><td>0</td><td>0</td><td>0</td><td>0</td><td>0</td><td>0</td><td>1</td><td>22</td><td>Leukemia    </td><td>AML   </td><td>Unknown       </td><td>24.283997</td></tr>\n",
       "\t<tr><td>5.2e-25</td><td>S%GGSYNE </td><td>CHP_365</td><td>  48.000000</td><td>0</td><td>0</td><td>0</td><td>0</td><td>0</td><td>0</td><td>0</td><td>0</td><td>0</td><td>0</td><td>1</td><td>22</td><td>Leukemia    </td><td>ALL   </td><td>Unknown       </td><td>24.283997</td></tr>\n",
       "\t<tr><td>8.4e-22</td><td>S%GTSTDT </td><td>CHP_363</td><td>   5.000000</td><td>0</td><td>0</td><td>0</td><td>0</td><td>0</td><td>0</td><td>0</td><td>0</td><td>0</td><td>0</td><td>1</td><td>19</td><td>Solid tumors</td><td>EWS   </td><td>Unknown       </td><td>21.075721</td></tr>\n",
       "\t<tr><td>2.7e-21</td><td>RGQG%TE  </td><td>CHP_365</td><td>-507.000000</td><td>0</td><td>0</td><td>0</td><td>0</td><td>0</td><td>0</td><td>0</td><td>0</td><td>0</td><td>0</td><td>1</td><td>20</td><td>Leukemia    </td><td>ALL   </td><td>Unknown       </td><td>20.568636</td></tr>\n",
       "\t<tr><td>5.1e-19</td><td>SP%RNTE  </td><td>CHP_396</td><td>1398.500000</td><td>1</td><td>0</td><td>0</td><td>0</td><td>0</td><td>0</td><td>0</td><td>0</td><td>0</td><td>0</td><td>1</td><td>15</td><td>Leukemia    </td><td>HR ALL</td><td>Viral         </td><td>18.292430</td></tr>\n",
       "\t<tr><td>3.9e-18</td><td>SL%GE    </td><td>CHP_381</td><td>  -1.000000</td><td>0</td><td>0</td><td>0</td><td>0</td><td>0</td><td>0</td><td>0</td><td>0</td><td>0</td><td>0</td><td>1</td><td>23</td><td>Solid tumors</td><td>EWS   </td><td>Unknown       </td><td>17.408935</td></tr>\n",
       "\t<tr><td>3.9e-18</td><td>SL%GE    </td><td>CHP_410</td><td>  22.000000</td><td>0</td><td>0</td><td>0</td><td>0</td><td>0</td><td>0</td><td>0</td><td>0</td><td>0</td><td>0</td><td>1</td><td>23</td><td>Leukemia    </td><td>ALL   </td><td>Unknown       </td><td>17.408935</td></tr>\n",
       "\t<tr><td>1.5e-16</td><td>S%RGNTE  </td><td>CHP_365</td><td>-465.000000</td><td>0</td><td>0</td><td>0</td><td>0</td><td>0</td><td>0</td><td>0</td><td>0</td><td>0</td><td>0</td><td>1</td><td>16</td><td>Leukemia    </td><td>ALL   </td><td>Unknown       </td><td>15.823909</td></tr>\n",
       "\t<tr><td>1.9e-15</td><td>SR%NTE   </td><td>CHP_381</td><td> -31.000000</td><td>0</td><td>0</td><td>0</td><td>0</td><td>0</td><td>0</td><td>0</td><td>0</td><td>0</td><td>0</td><td>1</td><td>17</td><td>Solid tumors</td><td>EWS   </td><td>Unknown       </td><td>14.721246</td></tr>\n",
       "\t<tr><td>2.0e-15</td><td>S%NTE    </td><td>CHP_378</td><td>  -5.000000</td><td>0</td><td>0</td><td>0</td><td>0</td><td>0</td><td>0</td><td>0</td><td>0</td><td>0</td><td>0</td><td>1</td><td>19</td><td>Leukemia    </td><td>ALL   </td><td>Unknown       </td><td>14.698970</td></tr>\n",
       "\t<tr><td>1.3e-14</td><td>S%GGDTE  </td><td>CHP_412</td><td>  47.000000</td><td>0</td><td>0</td><td>0</td><td>0</td><td>0</td><td>0</td><td>0</td><td>0</td><td>0</td><td>0</td><td>1</td><td>14</td><td>Lymphoma    </td><td>BLL   </td><td>Unknown       </td><td>13.886057</td></tr>\n",
       "\t<tr><td>2.5e-14</td><td>S%GTE    </td><td>CHP_396</td><td>  58.000000</td><td>0</td><td>0</td><td>0</td><td>0</td><td>0</td><td>0</td><td>0</td><td>0</td><td>0</td><td>0</td><td>1</td><td>21</td><td>Leukemia    </td><td>HR ALL</td><td>Unknown       </td><td>13.602060</td></tr>\n",
       "\t<tr><td>6.3e-14</td><td>R%QGATE  </td><td>CHP_365</td><td>-507.000000</td><td>0</td><td>0</td><td>0</td><td>0</td><td>0</td><td>0</td><td>0</td><td>0</td><td>0</td><td>0</td><td>1</td><td>11</td><td>Leukemia    </td><td>ALL   </td><td>Unknown       </td><td>13.200659</td></tr>\n",
       "\t<tr><td>6.8e-14</td><td>S%GGE    </td><td>CHP_368</td><td>   4.000000</td><td>0</td><td>0</td><td>1</td><td>0</td><td>0</td><td>1</td><td>0</td><td>0</td><td>1</td><td>0</td><td>1</td><td>23</td><td>Solid tumors</td><td>ARMS  </td><td>Cross-reactive</td><td>13.167491</td></tr>\n",
       "\t<tr><td>3.6e-13</td><td>S%LNTE   </td><td>CHP_381</td><td> -31.000000</td><td>0</td><td>0</td><td>0</td><td>1</td><td>0</td><td>0</td><td>0</td><td>0</td><td>0</td><td>0</td><td>1</td><td>14</td><td>Solid tumors</td><td>EWS   </td><td>Viral         </td><td>12.443697</td></tr>\n",
       "\t<tr><td>5.2e-13</td><td>SVGQG%YE </td><td>CHP_396</td><td> 209.000000</td><td>0</td><td>0</td><td>0</td><td>0</td><td>0</td><td>0</td><td>0</td><td>0</td><td>0</td><td>0</td><td>1</td><td>12</td><td>Leukemia    </td><td>HR ALL</td><td>Unknown       </td><td>12.283997</td></tr>\n",
       "\t<tr><td>2.5e-12</td><td>SL%GYE   </td><td>CHP_353</td><td> -16.000000</td><td>0</td><td>0</td><td>0</td><td>0</td><td>1</td><td>0</td><td>0</td><td>0</td><td>0</td><td>0</td><td>1</td><td>15</td><td>Leukemia    </td><td>AML   </td><td>Viral         </td><td>11.602060</td></tr>\n",
       "\t<tr><td>7.9e-12</td><td>S%GDE    </td><td>CHP_357</td><td> -51.000000</td><td>0</td><td>0</td><td>0</td><td>0</td><td>0</td><td>0</td><td>0</td><td>0</td><td>0</td><td>0</td><td>1</td><td>16</td><td>Leukemia    </td><td>AML   </td><td>Unknown       </td><td>11.102373</td></tr>\n",
       "\t<tr><td>1.4e-11</td><td>SLGG%E   </td><td>CHP_397</td><td>  34.000000</td><td>0</td><td>0</td><td>0</td><td>0</td><td>0</td><td>1</td><td>0</td><td>0</td><td>0</td><td>0</td><td>1</td><td>15</td><td>Leukemia    </td><td>ALL   </td><td>HomoSapiens   </td><td>10.853872</td></tr>\n",
       "\t<tr><td>1.7e-11</td><td>SV%GYG   </td><td>CHP_414</td><td>  17.000000</td><td>0</td><td>0</td><td>0</td><td>0</td><td>0</td><td>0</td><td>0</td><td>0</td><td>0</td><td>0</td><td>1</td><td>10</td><td>Solid tumors</td><td>HB    </td><td>Unknown       </td><td>10.769551</td></tr>\n",
       "\t<tr><td>3.7e-11</td><td>SQGG%TE  </td><td>CHP_381</td><td>-129.000000</td><td>0</td><td>0</td><td>0</td><td>0</td><td>0</td><td>0</td><td>0</td><td>0</td><td>0</td><td>0</td><td>1</td><td>10</td><td>Solid tumors</td><td>EWS   </td><td>Unknown       </td><td>10.431798</td></tr>\n",
       "\t<tr><td>5.5e-11</td><td>SQG%E    </td><td>CHP_350</td><td>  -7.000000</td><td>0</td><td>0</td><td>0</td><td>0</td><td>0</td><td>0</td><td>0</td><td>0</td><td>0</td><td>0</td><td>1</td><td>16</td><td>Solid tumors</td><td>HB    </td><td>Unknown       </td><td>10.259637</td></tr>\n",
       "\t<tr><td>4.7e-10</td><td>SL%GGTE  </td><td>CHP_381</td><td> -42.500000</td><td>0</td><td>0</td><td>0</td><td>0</td><td>0</td><td>1</td><td>0</td><td>0</td><td>0</td><td>0</td><td>1</td><td>11</td><td>Solid tumors</td><td>EWS   </td><td>HomoSapiens   </td><td> 9.327902</td></tr>\n",
       "\t<tr><td>8.0e-10</td><td>SQ%GNTE  </td><td>CHP_381</td><td>-129.000000</td><td>0</td><td>0</td><td>0</td><td>0</td><td>0</td><td>0</td><td>0</td><td>0</td><td>0</td><td>0</td><td>1</td><td> 9</td><td>Solid tumors</td><td>EWS   </td><td>Unknown       </td><td> 9.096910</td></tr>\n",
       "\t<tr><td>8.4e-10</td><td>SLG%YE   </td><td>CHP_396</td><td>  78.000000</td><td>0</td><td>0</td><td>0</td><td>0</td><td>0</td><td>0</td><td>0</td><td>0</td><td>0</td><td>0</td><td>1</td><td>12</td><td>Leukemia    </td><td>HR ALL</td><td>Unknown       </td><td> 9.075721</td></tr>\n",
       "\t<tr><td>1.5e-09</td><td>SPN%E    </td><td>CHP_378</td><td>  -6.666667</td><td>0</td><td>0</td><td>0</td><td>0</td><td>0</td><td>0</td><td>0</td><td>0</td><td>0</td><td>0</td><td>1</td><td> 9</td><td>Leukemia    </td><td>ALL   </td><td>Unknown       </td><td> 8.823909</td></tr>\n",
       "\t<tr><td>2.9e-09</td><td>S%GVSYE  </td><td>CHP_366</td><td> 245.000000</td><td>0</td><td>0</td><td>0</td><td>0</td><td>0</td><td>0</td><td>0</td><td>0</td><td>0</td><td>0</td><td>1</td><td>10</td><td>Lymphoma    </td><td>HD    </td><td>Unknown       </td><td> 8.537602</td></tr>\n",
       "\t<tr><td>4.0e-09</td><td>SL%TDT   </td><td>CHP_357</td><td> -38.000000</td><td>0</td><td>0</td><td>0</td><td>0</td><td>0</td><td>0</td><td>0</td><td>0</td><td>0</td><td>0</td><td>1</td><td>10</td><td>Leukemia    </td><td>AML   </td><td>Unknown       </td><td> 8.397940</td></tr>\n",
       "\t<tr><td>4.9e-09</td><td>SQG%NTE  </td><td>CHP_381</td><td>-129.000000</td><td>0</td><td>0</td><td>0</td><td>0</td><td>0</td><td>0</td><td>0</td><td>0</td><td>0</td><td>0</td><td>1</td><td>10</td><td>Solid tumors</td><td>EWS   </td><td>Unknown       </td><td> 8.309804</td></tr>\n",
       "\t<tr><td>5.5e-09</td><td>SL%GGYE  </td><td>CHP_366</td><td> 340.500000</td><td>0</td><td>0</td><td>0</td><td>0</td><td>0</td><td>0</td><td>0</td><td>0</td><td>0</td><td>0</td><td>1</td><td>10</td><td>Lymphoma    </td><td>HD    </td><td>Unknown       </td><td> 8.259637</td></tr>\n",
       "\t<tr><td>7.4e-09</td><td>SL%ET    </td><td>CHP_397</td><td>  86.000000</td><td>0</td><td>0</td><td>0</td><td>0</td><td>0</td><td>0</td><td>0</td><td>0</td><td>0</td><td>0</td><td>0</td><td>10</td><td>Leukemia    </td><td>ALL   </td><td>Unknown       </td><td> 8.130768</td></tr>\n",
       "\t<tr><td>7.5e-09</td><td>SLG%GQP  </td><td>CHP_364</td><td>  24.000000</td><td>0</td><td>0</td><td>0</td><td>0</td><td>0</td><td>1</td><td>0</td><td>0</td><td>0</td><td>0</td><td>0</td><td> 8</td><td>Solid tumors</td><td>OS    </td><td>HomoSapiens   </td><td> 8.124939</td></tr>\n",
       "\t<tr><td>2.7e-08</td><td>S%GPNTE  </td><td>CHP_396</td><td> 431.000000</td><td>0</td><td>0</td><td>0</td><td>0</td><td>0</td><td>0</td><td>0</td><td>0</td><td>0</td><td>0</td><td>1</td><td> 9</td><td>Leukemia    </td><td>HR ALL</td><td>Unknown       </td><td> 7.568636</td></tr>\n",
       "\t<tr><td>3.0e-08</td><td>SL%GGSYNE</td><td>CHP_357</td><td>   8.000000</td><td>0</td><td>0</td><td>0</td><td>0</td><td>0</td><td>0</td><td>0</td><td>0</td><td>0</td><td>0</td><td>1</td><td> 7</td><td>Leukemia    </td><td>AML   </td><td>Unknown       </td><td> 7.522879</td></tr>\n",
       "\t<tr><td>3.7e-08</td><td>SD%GDT   </td><td>CHP_362</td><td> 171.000000</td><td>0</td><td>0</td><td>0</td><td>0</td><td>0</td><td>0</td><td>0</td><td>0</td><td>0</td><td>0</td><td>0</td><td> 8</td><td>Solid tumors</td><td>OS    </td><td>Unknown       </td><td> 7.431798</td></tr>\n",
       "\t<tr><td>4.2e-08</td><td>SIG%NTE  </td><td>CHP_396</td><td> 853.000000</td><td>0</td><td>0</td><td>0</td><td>0</td><td>0</td><td>0</td><td>0</td><td>0</td><td>0</td><td>0</td><td>1</td><td> 7</td><td>Leukemia    </td><td>HR ALL</td><td>Unknown       </td><td> 7.376751</td></tr>\n",
       "\t<tr><td>4.5e-08</td><td>S%GLNTE  </td><td>CHP_381</td><td> -68.000000</td><td>0</td><td>0</td><td>0</td><td>0</td><td>0</td><td>0</td><td>0</td><td>0</td><td>0</td><td>0</td><td>1</td><td>10</td><td>Solid tumors</td><td>EWS   </td><td>Unknown       </td><td> 7.346787</td></tr>\n",
       "\t<tr><td>4.5e-08</td><td>SL%GSYE  </td><td>CHP_357</td><td> -35.000000</td><td>0</td><td>0</td><td>1</td><td>1</td><td>0</td><td>1</td><td>0</td><td>0</td><td>0</td><td>0</td><td>0</td><td> 9</td><td>Leukemia    </td><td>AML   </td><td>Cross-reactive</td><td> 7.346787</td></tr>\n",
       "\t<tr><td>9.1e-08</td><td>S%TGE    </td><td>CHP_410</td><td>   6.000000</td><td>0</td><td>0</td><td>1</td><td>0</td><td>0</td><td>0</td><td>0</td><td>0</td><td>0</td><td>0</td><td>1</td><td>14</td><td>Leukemia    </td><td>ALL   </td><td>Viral         </td><td> 7.040959</td></tr>\n",
       "\t<tr><td>9.7e-08</td><td>SP%TE    </td><td>CHP_378</td><td> -18.000000</td><td>0</td><td>0</td><td>0</td><td>0</td><td>0</td><td>0</td><td>0</td><td>0</td><td>0</td><td>0</td><td>1</td><td>10</td><td>Leukemia    </td><td>ALL   </td><td>Unknown       </td><td> 7.013228</td></tr>\n",
       "</tbody>\n",
       "</table>\n"
      ],
      "text/latex": [
       "A tibble: 44 x 20\n",
       "\\begin{tabular}{llllllllllllllllllll}\n",
       " fisher & gliph & Patient & Delta & CMV & Flu & HCV & EBV & HPV & HS & CEF & TB & SP & MCPyV & MDavis & n\\_unique\\_cdr3 & cancergroup & Disease & antigen & log10fisher\\\\\n",
       " <dbl> & <chr> & <chr> & <dbl> & <dbl> & <dbl> & <dbl> & <dbl> & <dbl> & <dbl> & <dbl> & <dbl> & <dbl> & <dbl> & <dbl> & <dbl> & <chr> & <chr> & <chr> & <dbl>\\\\\n",
       "\\hline\n",
       "\t 0.0e+00 & S\\%GGNTE   & CHP\\_381 & -109.000000 & 0 & 0 & 0 & 0 & 0 & 1 & 0 & 0 & 0 & 0 & 1 & 41 & Solid tumors & EWS    & HomoSapiens    &       Inf\\\\\n",
       "\t 2.3e-41 & S\\%TGNTE   & CHP\\_365 &  -23.000000 & 0 & 0 & 0 & 0 & 0 & 0 & 0 & 0 & 0 & 0 & 1 & 34 & Leukemia     & ALL    & Unknown        & 40.638272\\\\\n",
       "\t 1.7e-36 & SLQG\\%E    & CHP\\_378 &   -2.000000 & 0 & 0 & 0 & 0 & 1 & 0 & 0 & 0 & 0 & 0 & 1 & 32 & Leukemia     & ALL    & Viral          & 35.769551\\\\\n",
       "\t 5.2e-25 & SLG\\%NTE   & CHP\\_381 &  -61.500000 & 0 & 0 & 0 & 0 & 0 & 0 & 0 & 0 & 0 & 0 & 1 & 22 & Solid tumors & EWS    & Unknown        & 24.283997\\\\\n",
       "\t 5.2e-25 & SLG\\%NTE   & CHP\\_369 & -486.000000 & 0 & 0 & 0 & 0 & 0 & 0 & 0 & 0 & 0 & 0 & 1 & 22 & Leukemia     & AML    & Unknown        & 24.283997\\\\\n",
       "\t 5.2e-25 & S\\%GGSYNE  & CHP\\_365 &   48.000000 & 0 & 0 & 0 & 0 & 0 & 0 & 0 & 0 & 0 & 0 & 1 & 22 & Leukemia     & ALL    & Unknown        & 24.283997\\\\\n",
       "\t 8.4e-22 & S\\%GTSTDT  & CHP\\_363 &    5.000000 & 0 & 0 & 0 & 0 & 0 & 0 & 0 & 0 & 0 & 0 & 1 & 19 & Solid tumors & EWS    & Unknown        & 21.075721\\\\\n",
       "\t 2.7e-21 & RGQG\\%TE   & CHP\\_365 & -507.000000 & 0 & 0 & 0 & 0 & 0 & 0 & 0 & 0 & 0 & 0 & 1 & 20 & Leukemia     & ALL    & Unknown        & 20.568636\\\\\n",
       "\t 5.1e-19 & SP\\%RNTE   & CHP\\_396 & 1398.500000 & 1 & 0 & 0 & 0 & 0 & 0 & 0 & 0 & 0 & 0 & 1 & 15 & Leukemia     & HR ALL & Viral          & 18.292430\\\\\n",
       "\t 3.9e-18 & SL\\%GE     & CHP\\_381 &   -1.000000 & 0 & 0 & 0 & 0 & 0 & 0 & 0 & 0 & 0 & 0 & 1 & 23 & Solid tumors & EWS    & Unknown        & 17.408935\\\\\n",
       "\t 3.9e-18 & SL\\%GE     & CHP\\_410 &   22.000000 & 0 & 0 & 0 & 0 & 0 & 0 & 0 & 0 & 0 & 0 & 1 & 23 & Leukemia     & ALL    & Unknown        & 17.408935\\\\\n",
       "\t 1.5e-16 & S\\%RGNTE   & CHP\\_365 & -465.000000 & 0 & 0 & 0 & 0 & 0 & 0 & 0 & 0 & 0 & 0 & 1 & 16 & Leukemia     & ALL    & Unknown        & 15.823909\\\\\n",
       "\t 1.9e-15 & SR\\%NTE    & CHP\\_381 &  -31.000000 & 0 & 0 & 0 & 0 & 0 & 0 & 0 & 0 & 0 & 0 & 1 & 17 & Solid tumors & EWS    & Unknown        & 14.721246\\\\\n",
       "\t 2.0e-15 & S\\%NTE     & CHP\\_378 &   -5.000000 & 0 & 0 & 0 & 0 & 0 & 0 & 0 & 0 & 0 & 0 & 1 & 19 & Leukemia     & ALL    & Unknown        & 14.698970\\\\\n",
       "\t 1.3e-14 & S\\%GGDTE   & CHP\\_412 &   47.000000 & 0 & 0 & 0 & 0 & 0 & 0 & 0 & 0 & 0 & 0 & 1 & 14 & Lymphoma     & BLL    & Unknown        & 13.886057\\\\\n",
       "\t 2.5e-14 & S\\%GTE     & CHP\\_396 &   58.000000 & 0 & 0 & 0 & 0 & 0 & 0 & 0 & 0 & 0 & 0 & 1 & 21 & Leukemia     & HR ALL & Unknown        & 13.602060\\\\\n",
       "\t 6.3e-14 & R\\%QGATE   & CHP\\_365 & -507.000000 & 0 & 0 & 0 & 0 & 0 & 0 & 0 & 0 & 0 & 0 & 1 & 11 & Leukemia     & ALL    & Unknown        & 13.200659\\\\\n",
       "\t 6.8e-14 & S\\%GGE     & CHP\\_368 &    4.000000 & 0 & 0 & 1 & 0 & 0 & 1 & 0 & 0 & 1 & 0 & 1 & 23 & Solid tumors & ARMS   & Cross-reactive & 13.167491\\\\\n",
       "\t 3.6e-13 & S\\%LNTE    & CHP\\_381 &  -31.000000 & 0 & 0 & 0 & 1 & 0 & 0 & 0 & 0 & 0 & 0 & 1 & 14 & Solid tumors & EWS    & Viral          & 12.443697\\\\\n",
       "\t 5.2e-13 & SVGQG\\%YE  & CHP\\_396 &  209.000000 & 0 & 0 & 0 & 0 & 0 & 0 & 0 & 0 & 0 & 0 & 1 & 12 & Leukemia     & HR ALL & Unknown        & 12.283997\\\\\n",
       "\t 2.5e-12 & SL\\%GYE    & CHP\\_353 &  -16.000000 & 0 & 0 & 0 & 0 & 1 & 0 & 0 & 0 & 0 & 0 & 1 & 15 & Leukemia     & AML    & Viral          & 11.602060\\\\\n",
       "\t 7.9e-12 & S\\%GDE     & CHP\\_357 &  -51.000000 & 0 & 0 & 0 & 0 & 0 & 0 & 0 & 0 & 0 & 0 & 1 & 16 & Leukemia     & AML    & Unknown        & 11.102373\\\\\n",
       "\t 1.4e-11 & SLGG\\%E    & CHP\\_397 &   34.000000 & 0 & 0 & 0 & 0 & 0 & 1 & 0 & 0 & 0 & 0 & 1 & 15 & Leukemia     & ALL    & HomoSapiens    & 10.853872\\\\\n",
       "\t 1.7e-11 & SV\\%GYG    & CHP\\_414 &   17.000000 & 0 & 0 & 0 & 0 & 0 & 0 & 0 & 0 & 0 & 0 & 1 & 10 & Solid tumors & HB     & Unknown        & 10.769551\\\\\n",
       "\t 3.7e-11 & SQGG\\%TE   & CHP\\_381 & -129.000000 & 0 & 0 & 0 & 0 & 0 & 0 & 0 & 0 & 0 & 0 & 1 & 10 & Solid tumors & EWS    & Unknown        & 10.431798\\\\\n",
       "\t 5.5e-11 & SQG\\%E     & CHP\\_350 &   -7.000000 & 0 & 0 & 0 & 0 & 0 & 0 & 0 & 0 & 0 & 0 & 1 & 16 & Solid tumors & HB     & Unknown        & 10.259637\\\\\n",
       "\t 4.7e-10 & SL\\%GGTE   & CHP\\_381 &  -42.500000 & 0 & 0 & 0 & 0 & 0 & 1 & 0 & 0 & 0 & 0 & 1 & 11 & Solid tumors & EWS    & HomoSapiens    &  9.327902\\\\\n",
       "\t 8.0e-10 & SQ\\%GNTE   & CHP\\_381 & -129.000000 & 0 & 0 & 0 & 0 & 0 & 0 & 0 & 0 & 0 & 0 & 1 &  9 & Solid tumors & EWS    & Unknown        &  9.096910\\\\\n",
       "\t 8.4e-10 & SLG\\%YE    & CHP\\_396 &   78.000000 & 0 & 0 & 0 & 0 & 0 & 0 & 0 & 0 & 0 & 0 & 1 & 12 & Leukemia     & HR ALL & Unknown        &  9.075721\\\\\n",
       "\t 1.5e-09 & SPN\\%E     & CHP\\_378 &   -6.666667 & 0 & 0 & 0 & 0 & 0 & 0 & 0 & 0 & 0 & 0 & 1 &  9 & Leukemia     & ALL    & Unknown        &  8.823909\\\\\n",
       "\t 2.9e-09 & S\\%GVSYE   & CHP\\_366 &  245.000000 & 0 & 0 & 0 & 0 & 0 & 0 & 0 & 0 & 0 & 0 & 1 & 10 & Lymphoma     & HD     & Unknown        &  8.537602\\\\\n",
       "\t 4.0e-09 & SL\\%TDT    & CHP\\_357 &  -38.000000 & 0 & 0 & 0 & 0 & 0 & 0 & 0 & 0 & 0 & 0 & 1 & 10 & Leukemia     & AML    & Unknown        &  8.397940\\\\\n",
       "\t 4.9e-09 & SQG\\%NTE   & CHP\\_381 & -129.000000 & 0 & 0 & 0 & 0 & 0 & 0 & 0 & 0 & 0 & 0 & 1 & 10 & Solid tumors & EWS    & Unknown        &  8.309804\\\\\n",
       "\t 5.5e-09 & SL\\%GGYE   & CHP\\_366 &  340.500000 & 0 & 0 & 0 & 0 & 0 & 0 & 0 & 0 & 0 & 0 & 1 & 10 & Lymphoma     & HD     & Unknown        &  8.259637\\\\\n",
       "\t 7.4e-09 & SL\\%ET     & CHP\\_397 &   86.000000 & 0 & 0 & 0 & 0 & 0 & 0 & 0 & 0 & 0 & 0 & 0 & 10 & Leukemia     & ALL    & Unknown        &  8.130768\\\\\n",
       "\t 7.5e-09 & SLG\\%GQP   & CHP\\_364 &   24.000000 & 0 & 0 & 0 & 0 & 0 & 1 & 0 & 0 & 0 & 0 & 0 &  8 & Solid tumors & OS     & HomoSapiens    &  8.124939\\\\\n",
       "\t 2.7e-08 & S\\%GPNTE   & CHP\\_396 &  431.000000 & 0 & 0 & 0 & 0 & 0 & 0 & 0 & 0 & 0 & 0 & 1 &  9 & Leukemia     & HR ALL & Unknown        &  7.568636\\\\\n",
       "\t 3.0e-08 & SL\\%GGSYNE & CHP\\_357 &    8.000000 & 0 & 0 & 0 & 0 & 0 & 0 & 0 & 0 & 0 & 0 & 1 &  7 & Leukemia     & AML    & Unknown        &  7.522879\\\\\n",
       "\t 3.7e-08 & SD\\%GDT    & CHP\\_362 &  171.000000 & 0 & 0 & 0 & 0 & 0 & 0 & 0 & 0 & 0 & 0 & 0 &  8 & Solid tumors & OS     & Unknown        &  7.431798\\\\\n",
       "\t 4.2e-08 & SIG\\%NTE   & CHP\\_396 &  853.000000 & 0 & 0 & 0 & 0 & 0 & 0 & 0 & 0 & 0 & 0 & 1 &  7 & Leukemia     & HR ALL & Unknown        &  7.376751\\\\\n",
       "\t 4.5e-08 & S\\%GLNTE   & CHP\\_381 &  -68.000000 & 0 & 0 & 0 & 0 & 0 & 0 & 0 & 0 & 0 & 0 & 1 & 10 & Solid tumors & EWS    & Unknown        &  7.346787\\\\\n",
       "\t 4.5e-08 & SL\\%GSYE   & CHP\\_357 &  -35.000000 & 0 & 0 & 1 & 1 & 0 & 1 & 0 & 0 & 0 & 0 & 0 &  9 & Leukemia     & AML    & Cross-reactive &  7.346787\\\\\n",
       "\t 9.1e-08 & S\\%TGE     & CHP\\_410 &    6.000000 & 0 & 0 & 1 & 0 & 0 & 0 & 0 & 0 & 0 & 0 & 1 & 14 & Leukemia     & ALL    & Viral          &  7.040959\\\\\n",
       "\t 9.7e-08 & SP\\%TE     & CHP\\_378 &  -18.000000 & 0 & 0 & 0 & 0 & 0 & 0 & 0 & 0 & 0 & 0 & 1 & 10 & Leukemia     & ALL    & Unknown        &  7.013228\\\\\n",
       "\\end{tabular}\n"
      ],
      "text/markdown": [
       "\n",
       "A tibble: 44 x 20\n",
       "\n",
       "| fisher &lt;dbl&gt; | gliph &lt;chr&gt; | Patient &lt;chr&gt; | Delta &lt;dbl&gt; | CMV &lt;dbl&gt; | Flu &lt;dbl&gt; | HCV &lt;dbl&gt; | EBV &lt;dbl&gt; | HPV &lt;dbl&gt; | HS &lt;dbl&gt; | CEF &lt;dbl&gt; | TB &lt;dbl&gt; | SP &lt;dbl&gt; | MCPyV &lt;dbl&gt; | MDavis &lt;dbl&gt; | n_unique_cdr3 &lt;dbl&gt; | cancergroup &lt;chr&gt; | Disease &lt;chr&gt; | antigen &lt;chr&gt; | log10fisher &lt;dbl&gt; |\n",
       "|---|---|---|---|---|---|---|---|---|---|---|---|---|---|---|---|---|---|---|---|\n",
       "| 0.0e+00 | S%GGNTE   | CHP_381 | -109.000000 | 0 | 0 | 0 | 0 | 0 | 1 | 0 | 0 | 0 | 0 | 1 | 41 | Solid tumors | EWS    | HomoSapiens    |       Inf |\n",
       "| 2.3e-41 | S%TGNTE   | CHP_365 |  -23.000000 | 0 | 0 | 0 | 0 | 0 | 0 | 0 | 0 | 0 | 0 | 1 | 34 | Leukemia     | ALL    | Unknown        | 40.638272 |\n",
       "| 1.7e-36 | SLQG%E    | CHP_378 |   -2.000000 | 0 | 0 | 0 | 0 | 1 | 0 | 0 | 0 | 0 | 0 | 1 | 32 | Leukemia     | ALL    | Viral          | 35.769551 |\n",
       "| 5.2e-25 | SLG%NTE   | CHP_381 |  -61.500000 | 0 | 0 | 0 | 0 | 0 | 0 | 0 | 0 | 0 | 0 | 1 | 22 | Solid tumors | EWS    | Unknown        | 24.283997 |\n",
       "| 5.2e-25 | SLG%NTE   | CHP_369 | -486.000000 | 0 | 0 | 0 | 0 | 0 | 0 | 0 | 0 | 0 | 0 | 1 | 22 | Leukemia     | AML    | Unknown        | 24.283997 |\n",
       "| 5.2e-25 | S%GGSYNE  | CHP_365 |   48.000000 | 0 | 0 | 0 | 0 | 0 | 0 | 0 | 0 | 0 | 0 | 1 | 22 | Leukemia     | ALL    | Unknown        | 24.283997 |\n",
       "| 8.4e-22 | S%GTSTDT  | CHP_363 |    5.000000 | 0 | 0 | 0 | 0 | 0 | 0 | 0 | 0 | 0 | 0 | 1 | 19 | Solid tumors | EWS    | Unknown        | 21.075721 |\n",
       "| 2.7e-21 | RGQG%TE   | CHP_365 | -507.000000 | 0 | 0 | 0 | 0 | 0 | 0 | 0 | 0 | 0 | 0 | 1 | 20 | Leukemia     | ALL    | Unknown        | 20.568636 |\n",
       "| 5.1e-19 | SP%RNTE   | CHP_396 | 1398.500000 | 1 | 0 | 0 | 0 | 0 | 0 | 0 | 0 | 0 | 0 | 1 | 15 | Leukemia     | HR ALL | Viral          | 18.292430 |\n",
       "| 3.9e-18 | SL%GE     | CHP_381 |   -1.000000 | 0 | 0 | 0 | 0 | 0 | 0 | 0 | 0 | 0 | 0 | 1 | 23 | Solid tumors | EWS    | Unknown        | 17.408935 |\n",
       "| 3.9e-18 | SL%GE     | CHP_410 |   22.000000 | 0 | 0 | 0 | 0 | 0 | 0 | 0 | 0 | 0 | 0 | 1 | 23 | Leukemia     | ALL    | Unknown        | 17.408935 |\n",
       "| 1.5e-16 | S%RGNTE   | CHP_365 | -465.000000 | 0 | 0 | 0 | 0 | 0 | 0 | 0 | 0 | 0 | 0 | 1 | 16 | Leukemia     | ALL    | Unknown        | 15.823909 |\n",
       "| 1.9e-15 | SR%NTE    | CHP_381 |  -31.000000 | 0 | 0 | 0 | 0 | 0 | 0 | 0 | 0 | 0 | 0 | 1 | 17 | Solid tumors | EWS    | Unknown        | 14.721246 |\n",
       "| 2.0e-15 | S%NTE     | CHP_378 |   -5.000000 | 0 | 0 | 0 | 0 | 0 | 0 | 0 | 0 | 0 | 0 | 1 | 19 | Leukemia     | ALL    | Unknown        | 14.698970 |\n",
       "| 1.3e-14 | S%GGDTE   | CHP_412 |   47.000000 | 0 | 0 | 0 | 0 | 0 | 0 | 0 | 0 | 0 | 0 | 1 | 14 | Lymphoma     | BLL    | Unknown        | 13.886057 |\n",
       "| 2.5e-14 | S%GTE     | CHP_396 |   58.000000 | 0 | 0 | 0 | 0 | 0 | 0 | 0 | 0 | 0 | 0 | 1 | 21 | Leukemia     | HR ALL | Unknown        | 13.602060 |\n",
       "| 6.3e-14 | R%QGATE   | CHP_365 | -507.000000 | 0 | 0 | 0 | 0 | 0 | 0 | 0 | 0 | 0 | 0 | 1 | 11 | Leukemia     | ALL    | Unknown        | 13.200659 |\n",
       "| 6.8e-14 | S%GGE     | CHP_368 |    4.000000 | 0 | 0 | 1 | 0 | 0 | 1 | 0 | 0 | 1 | 0 | 1 | 23 | Solid tumors | ARMS   | Cross-reactive | 13.167491 |\n",
       "| 3.6e-13 | S%LNTE    | CHP_381 |  -31.000000 | 0 | 0 | 0 | 1 | 0 | 0 | 0 | 0 | 0 | 0 | 1 | 14 | Solid tumors | EWS    | Viral          | 12.443697 |\n",
       "| 5.2e-13 | SVGQG%YE  | CHP_396 |  209.000000 | 0 | 0 | 0 | 0 | 0 | 0 | 0 | 0 | 0 | 0 | 1 | 12 | Leukemia     | HR ALL | Unknown        | 12.283997 |\n",
       "| 2.5e-12 | SL%GYE    | CHP_353 |  -16.000000 | 0 | 0 | 0 | 0 | 1 | 0 | 0 | 0 | 0 | 0 | 1 | 15 | Leukemia     | AML    | Viral          | 11.602060 |\n",
       "| 7.9e-12 | S%GDE     | CHP_357 |  -51.000000 | 0 | 0 | 0 | 0 | 0 | 0 | 0 | 0 | 0 | 0 | 1 | 16 | Leukemia     | AML    | Unknown        | 11.102373 |\n",
       "| 1.4e-11 | SLGG%E    | CHP_397 |   34.000000 | 0 | 0 | 0 | 0 | 0 | 1 | 0 | 0 | 0 | 0 | 1 | 15 | Leukemia     | ALL    | HomoSapiens    | 10.853872 |\n",
       "| 1.7e-11 | SV%GYG    | CHP_414 |   17.000000 | 0 | 0 | 0 | 0 | 0 | 0 | 0 | 0 | 0 | 0 | 1 | 10 | Solid tumors | HB     | Unknown        | 10.769551 |\n",
       "| 3.7e-11 | SQGG%TE   | CHP_381 | -129.000000 | 0 | 0 | 0 | 0 | 0 | 0 | 0 | 0 | 0 | 0 | 1 | 10 | Solid tumors | EWS    | Unknown        | 10.431798 |\n",
       "| 5.5e-11 | SQG%E     | CHP_350 |   -7.000000 | 0 | 0 | 0 | 0 | 0 | 0 | 0 | 0 | 0 | 0 | 1 | 16 | Solid tumors | HB     | Unknown        | 10.259637 |\n",
       "| 4.7e-10 | SL%GGTE   | CHP_381 |  -42.500000 | 0 | 0 | 0 | 0 | 0 | 1 | 0 | 0 | 0 | 0 | 1 | 11 | Solid tumors | EWS    | HomoSapiens    |  9.327902 |\n",
       "| 8.0e-10 | SQ%GNTE   | CHP_381 | -129.000000 | 0 | 0 | 0 | 0 | 0 | 0 | 0 | 0 | 0 | 0 | 1 |  9 | Solid tumors | EWS    | Unknown        |  9.096910 |\n",
       "| 8.4e-10 | SLG%YE    | CHP_396 |   78.000000 | 0 | 0 | 0 | 0 | 0 | 0 | 0 | 0 | 0 | 0 | 1 | 12 | Leukemia     | HR ALL | Unknown        |  9.075721 |\n",
       "| 1.5e-09 | SPN%E     | CHP_378 |   -6.666667 | 0 | 0 | 0 | 0 | 0 | 0 | 0 | 0 | 0 | 0 | 1 |  9 | Leukemia     | ALL    | Unknown        |  8.823909 |\n",
       "| 2.9e-09 | S%GVSYE   | CHP_366 |  245.000000 | 0 | 0 | 0 | 0 | 0 | 0 | 0 | 0 | 0 | 0 | 1 | 10 | Lymphoma     | HD     | Unknown        |  8.537602 |\n",
       "| 4.0e-09 | SL%TDT    | CHP_357 |  -38.000000 | 0 | 0 | 0 | 0 | 0 | 0 | 0 | 0 | 0 | 0 | 1 | 10 | Leukemia     | AML    | Unknown        |  8.397940 |\n",
       "| 4.9e-09 | SQG%NTE   | CHP_381 | -129.000000 | 0 | 0 | 0 | 0 | 0 | 0 | 0 | 0 | 0 | 0 | 1 | 10 | Solid tumors | EWS    | Unknown        |  8.309804 |\n",
       "| 5.5e-09 | SL%GGYE   | CHP_366 |  340.500000 | 0 | 0 | 0 | 0 | 0 | 0 | 0 | 0 | 0 | 0 | 1 | 10 | Lymphoma     | HD     | Unknown        |  8.259637 |\n",
       "| 7.4e-09 | SL%ET     | CHP_397 |   86.000000 | 0 | 0 | 0 | 0 | 0 | 0 | 0 | 0 | 0 | 0 | 0 | 10 | Leukemia     | ALL    | Unknown        |  8.130768 |\n",
       "| 7.5e-09 | SLG%GQP   | CHP_364 |   24.000000 | 0 | 0 | 0 | 0 | 0 | 1 | 0 | 0 | 0 | 0 | 0 |  8 | Solid tumors | OS     | HomoSapiens    |  8.124939 |\n",
       "| 2.7e-08 | S%GPNTE   | CHP_396 |  431.000000 | 0 | 0 | 0 | 0 | 0 | 0 | 0 | 0 | 0 | 0 | 1 |  9 | Leukemia     | HR ALL | Unknown        |  7.568636 |\n",
       "| 3.0e-08 | SL%GGSYNE | CHP_357 |    8.000000 | 0 | 0 | 0 | 0 | 0 | 0 | 0 | 0 | 0 | 0 | 1 |  7 | Leukemia     | AML    | Unknown        |  7.522879 |\n",
       "| 3.7e-08 | SD%GDT    | CHP_362 |  171.000000 | 0 | 0 | 0 | 0 | 0 | 0 | 0 | 0 | 0 | 0 | 0 |  8 | Solid tumors | OS     | Unknown        |  7.431798 |\n",
       "| 4.2e-08 | SIG%NTE   | CHP_396 |  853.000000 | 0 | 0 | 0 | 0 | 0 | 0 | 0 | 0 | 0 | 0 | 1 |  7 | Leukemia     | HR ALL | Unknown        |  7.376751 |\n",
       "| 4.5e-08 | S%GLNTE   | CHP_381 |  -68.000000 | 0 | 0 | 0 | 0 | 0 | 0 | 0 | 0 | 0 | 0 | 1 | 10 | Solid tumors | EWS    | Unknown        |  7.346787 |\n",
       "| 4.5e-08 | SL%GSYE   | CHP_357 |  -35.000000 | 0 | 0 | 1 | 1 | 0 | 1 | 0 | 0 | 0 | 0 | 0 |  9 | Leukemia     | AML    | Cross-reactive |  7.346787 |\n",
       "| 9.1e-08 | S%TGE     | CHP_410 |    6.000000 | 0 | 0 | 1 | 0 | 0 | 0 | 0 | 0 | 0 | 0 | 1 | 14 | Leukemia     | ALL    | Viral          |  7.040959 |\n",
       "| 9.7e-08 | SP%TE     | CHP_378 |  -18.000000 | 0 | 0 | 0 | 0 | 0 | 0 | 0 | 0 | 0 | 0 | 1 | 10 | Leukemia     | ALL    | Unknown        |  7.013228 |\n",
       "\n"
      ],
      "text/plain": [
       "   fisher  gliph     Patient Delta       CMV Flu HCV EBV HPV HS CEF TB SP MCPyV\n",
       "1  0.0e+00 S%GGNTE   CHP_381 -109.000000 0   0   0   0   0   1  0   0  0  0    \n",
       "2  2.3e-41 S%TGNTE   CHP_365  -23.000000 0   0   0   0   0   0  0   0  0  0    \n",
       "3  1.7e-36 SLQG%E    CHP_378   -2.000000 0   0   0   0   1   0  0   0  0  0    \n",
       "4  5.2e-25 SLG%NTE   CHP_381  -61.500000 0   0   0   0   0   0  0   0  0  0    \n",
       "5  5.2e-25 SLG%NTE   CHP_369 -486.000000 0   0   0   0   0   0  0   0  0  0    \n",
       "6  5.2e-25 S%GGSYNE  CHP_365   48.000000 0   0   0   0   0   0  0   0  0  0    \n",
       "7  8.4e-22 S%GTSTDT  CHP_363    5.000000 0   0   0   0   0   0  0   0  0  0    \n",
       "8  2.7e-21 RGQG%TE   CHP_365 -507.000000 0   0   0   0   0   0  0   0  0  0    \n",
       "9  5.1e-19 SP%RNTE   CHP_396 1398.500000 1   0   0   0   0   0  0   0  0  0    \n",
       "10 3.9e-18 SL%GE     CHP_381   -1.000000 0   0   0   0   0   0  0   0  0  0    \n",
       "11 3.9e-18 SL%GE     CHP_410   22.000000 0   0   0   0   0   0  0   0  0  0    \n",
       "12 1.5e-16 S%RGNTE   CHP_365 -465.000000 0   0   0   0   0   0  0   0  0  0    \n",
       "13 1.9e-15 SR%NTE    CHP_381  -31.000000 0   0   0   0   0   0  0   0  0  0    \n",
       "14 2.0e-15 S%NTE     CHP_378   -5.000000 0   0   0   0   0   0  0   0  0  0    \n",
       "15 1.3e-14 S%GGDTE   CHP_412   47.000000 0   0   0   0   0   0  0   0  0  0    \n",
       "16 2.5e-14 S%GTE     CHP_396   58.000000 0   0   0   0   0   0  0   0  0  0    \n",
       "17 6.3e-14 R%QGATE   CHP_365 -507.000000 0   0   0   0   0   0  0   0  0  0    \n",
       "18 6.8e-14 S%GGE     CHP_368    4.000000 0   0   1   0   0   1  0   0  1  0    \n",
       "19 3.6e-13 S%LNTE    CHP_381  -31.000000 0   0   0   1   0   0  0   0  0  0    \n",
       "20 5.2e-13 SVGQG%YE  CHP_396  209.000000 0   0   0   0   0   0  0   0  0  0    \n",
       "21 2.5e-12 SL%GYE    CHP_353  -16.000000 0   0   0   0   1   0  0   0  0  0    \n",
       "22 7.9e-12 S%GDE     CHP_357  -51.000000 0   0   0   0   0   0  0   0  0  0    \n",
       "23 1.4e-11 SLGG%E    CHP_397   34.000000 0   0   0   0   0   1  0   0  0  0    \n",
       "24 1.7e-11 SV%GYG    CHP_414   17.000000 0   0   0   0   0   0  0   0  0  0    \n",
       "25 3.7e-11 SQGG%TE   CHP_381 -129.000000 0   0   0   0   0   0  0   0  0  0    \n",
       "26 5.5e-11 SQG%E     CHP_350   -7.000000 0   0   0   0   0   0  0   0  0  0    \n",
       "27 4.7e-10 SL%GGTE   CHP_381  -42.500000 0   0   0   0   0   1  0   0  0  0    \n",
       "28 8.0e-10 SQ%GNTE   CHP_381 -129.000000 0   0   0   0   0   0  0   0  0  0    \n",
       "29 8.4e-10 SLG%YE    CHP_396   78.000000 0   0   0   0   0   0  0   0  0  0    \n",
       "30 1.5e-09 SPN%E     CHP_378   -6.666667 0   0   0   0   0   0  0   0  0  0    \n",
       "31 2.9e-09 S%GVSYE   CHP_366  245.000000 0   0   0   0   0   0  0   0  0  0    \n",
       "32 4.0e-09 SL%TDT    CHP_357  -38.000000 0   0   0   0   0   0  0   0  0  0    \n",
       "33 4.9e-09 SQG%NTE   CHP_381 -129.000000 0   0   0   0   0   0  0   0  0  0    \n",
       "34 5.5e-09 SL%GGYE   CHP_366  340.500000 0   0   0   0   0   0  0   0  0  0    \n",
       "35 7.4e-09 SL%ET     CHP_397   86.000000 0   0   0   0   0   0  0   0  0  0    \n",
       "36 7.5e-09 SLG%GQP   CHP_364   24.000000 0   0   0   0   0   1  0   0  0  0    \n",
       "37 2.7e-08 S%GPNTE   CHP_396  431.000000 0   0   0   0   0   0  0   0  0  0    \n",
       "38 3.0e-08 SL%GGSYNE CHP_357    8.000000 0   0   0   0   0   0  0   0  0  0    \n",
       "39 3.7e-08 SD%GDT    CHP_362  171.000000 0   0   0   0   0   0  0   0  0  0    \n",
       "40 4.2e-08 SIG%NTE   CHP_396  853.000000 0   0   0   0   0   0  0   0  0  0    \n",
       "41 4.5e-08 S%GLNTE   CHP_381  -68.000000 0   0   0   0   0   0  0   0  0  0    \n",
       "42 4.5e-08 SL%GSYE   CHP_357  -35.000000 0   0   1   1   0   1  0   0  0  0    \n",
       "43 9.1e-08 S%TGE     CHP_410    6.000000 0   0   1   0   0   0  0   0  0  0    \n",
       "44 9.7e-08 SP%TE     CHP_378  -18.000000 0   0   0   0   0   0  0   0  0  0    \n",
       "   MDavis n_unique_cdr3 cancergroup  Disease antigen        log10fisher\n",
       "1  1      41            Solid tumors EWS     HomoSapiens          Inf  \n",
       "2  1      34            Leukemia     ALL     Unknown        40.638272  \n",
       "3  1      32            Leukemia     ALL     Viral          35.769551  \n",
       "4  1      22            Solid tumors EWS     Unknown        24.283997  \n",
       "5  1      22            Leukemia     AML     Unknown        24.283997  \n",
       "6  1      22            Leukemia     ALL     Unknown        24.283997  \n",
       "7  1      19            Solid tumors EWS     Unknown        21.075721  \n",
       "8  1      20            Leukemia     ALL     Unknown        20.568636  \n",
       "9  1      15            Leukemia     HR ALL  Viral          18.292430  \n",
       "10 1      23            Solid tumors EWS     Unknown        17.408935  \n",
       "11 1      23            Leukemia     ALL     Unknown        17.408935  \n",
       "12 1      16            Leukemia     ALL     Unknown        15.823909  \n",
       "13 1      17            Solid tumors EWS     Unknown        14.721246  \n",
       "14 1      19            Leukemia     ALL     Unknown        14.698970  \n",
       "15 1      14            Lymphoma     BLL     Unknown        13.886057  \n",
       "16 1      21            Leukemia     HR ALL  Unknown        13.602060  \n",
       "17 1      11            Leukemia     ALL     Unknown        13.200659  \n",
       "18 1      23            Solid tumors ARMS    Cross-reactive 13.167491  \n",
       "19 1      14            Solid tumors EWS     Viral          12.443697  \n",
       "20 1      12            Leukemia     HR ALL  Unknown        12.283997  \n",
       "21 1      15            Leukemia     AML     Viral          11.602060  \n",
       "22 1      16            Leukemia     AML     Unknown        11.102373  \n",
       "23 1      15            Leukemia     ALL     HomoSapiens    10.853872  \n",
       "24 1      10            Solid tumors HB      Unknown        10.769551  \n",
       "25 1      10            Solid tumors EWS     Unknown        10.431798  \n",
       "26 1      16            Solid tumors HB      Unknown        10.259637  \n",
       "27 1      11            Solid tumors EWS     HomoSapiens     9.327902  \n",
       "28 1       9            Solid tumors EWS     Unknown         9.096910  \n",
       "29 1      12            Leukemia     HR ALL  Unknown         9.075721  \n",
       "30 1       9            Leukemia     ALL     Unknown         8.823909  \n",
       "31 1      10            Lymphoma     HD      Unknown         8.537602  \n",
       "32 1      10            Leukemia     AML     Unknown         8.397940  \n",
       "33 1      10            Solid tumors EWS     Unknown         8.309804  \n",
       "34 1      10            Lymphoma     HD      Unknown         8.259637  \n",
       "35 0      10            Leukemia     ALL     Unknown         8.130768  \n",
       "36 0       8            Solid tumors OS      HomoSapiens     8.124939  \n",
       "37 1       9            Leukemia     HR ALL  Unknown         7.568636  \n",
       "38 1       7            Leukemia     AML     Unknown         7.522879  \n",
       "39 0       8            Solid tumors OS      Unknown         7.431798  \n",
       "40 1       7            Leukemia     HR ALL  Unknown         7.376751  \n",
       "41 1      10            Solid tumors EWS     Unknown         7.346787  \n",
       "42 0       9            Leukemia     AML     Cross-reactive  7.346787  \n",
       "43 1      14            Leukemia     ALL     Viral           7.040959  \n",
       "44 1      10            Leukemia     ALL     Unknown         7.013228  "
      ]
     },
     "metadata": {},
     "output_type": "display_data"
    }
   ],
   "source": [
    "gliph_pat_mat_long[ gliph_pat_mat_long$fisher < 0.0000001,]"
   ]
  },
  {
   "cell_type": "code",
   "execution_count": 366,
   "metadata": {
    "vscode": {
     "languageId": "r"
    }
   },
   "outputs": [
    {
     "data": {
      "text/html": [
       "<table class=\"dataframe\">\n",
       "<caption>A tibble: 13 x 19</caption>\n",
       "<thead>\n",
       "\t<tr><th scope=col>fisher</th><th scope=col>gliph</th><th scope=col>Patient</th><th scope=col>Delta</th><th scope=col>CMV</th><th scope=col>Flu</th><th scope=col>HCV</th><th scope=col>EBV</th><th scope=col>HPV</th><th scope=col>HS</th><th scope=col>CEF</th><th scope=col>TB</th><th scope=col>SP</th><th scope=col>MCPyV</th><th scope=col>MDavis</th><th scope=col>n_unique_cdr3</th><th scope=col>cancergroup</th><th scope=col>Disease</th><th scope=col>antigen</th></tr>\n",
       "\t<tr><th scope=col>&lt;dbl&gt;</th><th scope=col>&lt;chr&gt;</th><th scope=col>&lt;chr&gt;</th><th scope=col>&lt;dbl&gt;</th><th scope=col>&lt;dbl&gt;</th><th scope=col>&lt;dbl&gt;</th><th scope=col>&lt;dbl&gt;</th><th scope=col>&lt;dbl&gt;</th><th scope=col>&lt;dbl&gt;</th><th scope=col>&lt;dbl&gt;</th><th scope=col>&lt;dbl&gt;</th><th scope=col>&lt;dbl&gt;</th><th scope=col>&lt;dbl&gt;</th><th scope=col>&lt;dbl&gt;</th><th scope=col>&lt;dbl&gt;</th><th scope=col>&lt;dbl&gt;</th><th scope=col>&lt;chr&gt;</th><th scope=col>&lt;chr&gt;</th><th scope=col>&lt;chr&gt;</th></tr>\n",
       "</thead>\n",
       "<tbody>\n",
       "\t<tr><td>5.1e-19</td><td>SP%RNTE  </td><td>CHP_396</td><td>1398.5</td><td>1</td><td>0</td><td>0</td><td>0</td><td>0</td><td>0</td><td>0</td><td>0</td><td>0</td><td>0</td><td>1</td><td>15</td><td>Leukemia    </td><td>HR ALL</td><td>Viral  </td></tr>\n",
       "\t<tr><td>2.7e-08</td><td>S%GPNTE  </td><td>CHP_396</td><td> 431.0</td><td>0</td><td>0</td><td>0</td><td>0</td><td>0</td><td>0</td><td>0</td><td>0</td><td>0</td><td>0</td><td>1</td><td> 9</td><td>Leukemia    </td><td>HR ALL</td><td>Unknown</td></tr>\n",
       "\t<tr><td>4.2e-08</td><td>SIG%NTE  </td><td>CHP_396</td><td> 853.0</td><td>0</td><td>0</td><td>0</td><td>0</td><td>0</td><td>0</td><td>0</td><td>0</td><td>0</td><td>0</td><td>1</td><td> 7</td><td>Leukemia    </td><td>HR ALL</td><td>Unknown</td></tr>\n",
       "\t<tr><td>3.3e-07</td><td>SY%GGDE  </td><td>CHP_366</td><td> 527.0</td><td>0</td><td>0</td><td>0</td><td>0</td><td>0</td><td>0</td><td>0</td><td>0</td><td>0</td><td>0</td><td>1</td><td> 6</td><td>Lymphoma    </td><td>HD    </td><td>Unknown</td></tr>\n",
       "\t<tr><td>4.7e-07</td><td>S%GGSGANV</td><td>CHP_404</td><td> 431.0</td><td>0</td><td>0</td><td>0</td><td>0</td><td>0</td><td>0</td><td>0</td><td>0</td><td>0</td><td>0</td><td>1</td><td> 7</td><td>Solid tumors</td><td>ERMS  </td><td>Unknown</td></tr>\n",
       "\t<tr><td>6.0e-07</td><td>S%SGGDE  </td><td>CHP_366</td><td> 527.0</td><td>0</td><td>0</td><td>0</td><td>0</td><td>0</td><td>0</td><td>0</td><td>0</td><td>0</td><td>0</td><td>1</td><td> 7</td><td>Lymphoma    </td><td>HD    </td><td>Unknown</td></tr>\n",
       "\t<tr><td>2.7e-06</td><td>SYSGGD%  </td><td>CHP_366</td><td> 527.0</td><td>0</td><td>0</td><td>0</td><td>0</td><td>0</td><td>0</td><td>0</td><td>0</td><td>0</td><td>0</td><td>1</td><td> 4</td><td>Lymphoma    </td><td>HD    </td><td>Unknown</td></tr>\n",
       "\t<tr><td>7.3e-06</td><td>SYSG%DE  </td><td>CHP_366</td><td> 527.0</td><td>0</td><td>0</td><td>0</td><td>0</td><td>0</td><td>0</td><td>0</td><td>0</td><td>0</td><td>0</td><td>1</td><td> 5</td><td>Lymphoma    </td><td>HD    </td><td>Unknown</td></tr>\n",
       "\t<tr><td>2.7e-05</td><td>SYS%GDE  </td><td>CHP_366</td><td> 527.0</td><td>0</td><td>0</td><td>0</td><td>0</td><td>0</td><td>0</td><td>0</td><td>0</td><td>0</td><td>0</td><td>1</td><td> 5</td><td>Lymphoma    </td><td>HD    </td><td>Unknown</td></tr>\n",
       "\t<tr><td>4.4e-05</td><td>SLGG%MNTE</td><td>CHP_396</td><td> 941.0</td><td>0</td><td>0</td><td>0</td><td>0</td><td>0</td><td>0</td><td>0</td><td>0</td><td>0</td><td>0</td><td>1</td><td> 4</td><td>Leukemia    </td><td>HR ALL</td><td>Unknown</td></tr>\n",
       "\t<tr><td>7.3e-05</td><td>SR%QET   </td><td>CHP_362</td><td> 730.0</td><td>0</td><td>0</td><td>0</td><td>0</td><td>0</td><td>0</td><td>0</td><td>0</td><td>0</td><td>0</td><td>1</td><td> 6</td><td>Solid tumors</td><td>OS    </td><td>Unknown</td></tr>\n",
       "\t<tr><td>8.1e-05</td><td>SI%PNTE  </td><td>CHP_396</td><td> 853.0</td><td>0</td><td>0</td><td>0</td><td>0</td><td>0</td><td>0</td><td>0</td><td>0</td><td>0</td><td>0</td><td>1</td><td> 4</td><td>Leukemia    </td><td>HR ALL</td><td>Unknown</td></tr>\n",
       "\t<tr><td>9.3e-05</td><td>SLS%NYG  </td><td>CHP_413</td><td> 619.0</td><td>0</td><td>0</td><td>0</td><td>0</td><td>0</td><td>0</td><td>0</td><td>0</td><td>0</td><td>0</td><td>0</td><td> 4</td><td>Leukemia    </td><td>AML   </td><td>Unknown</td></tr>\n",
       "</tbody>\n",
       "</table>\n"
      ],
      "text/latex": [
       "A tibble: 13 x 19\n",
       "\\begin{tabular}{lllllllllllllllllll}\n",
       " fisher & gliph & Patient & Delta & CMV & Flu & HCV & EBV & HPV & HS & CEF & TB & SP & MCPyV & MDavis & n\\_unique\\_cdr3 & cancergroup & Disease & antigen\\\\\n",
       " <dbl> & <chr> & <chr> & <dbl> & <dbl> & <dbl> & <dbl> & <dbl> & <dbl> & <dbl> & <dbl> & <dbl> & <dbl> & <dbl> & <dbl> & <dbl> & <chr> & <chr> & <chr>\\\\\n",
       "\\hline\n",
       "\t 5.1e-19 & SP\\%RNTE   & CHP\\_396 & 1398.5 & 1 & 0 & 0 & 0 & 0 & 0 & 0 & 0 & 0 & 0 & 1 & 15 & Leukemia     & HR ALL & Viral  \\\\\n",
       "\t 2.7e-08 & S\\%GPNTE   & CHP\\_396 &  431.0 & 0 & 0 & 0 & 0 & 0 & 0 & 0 & 0 & 0 & 0 & 1 &  9 & Leukemia     & HR ALL & Unknown\\\\\n",
       "\t 4.2e-08 & SIG\\%NTE   & CHP\\_396 &  853.0 & 0 & 0 & 0 & 0 & 0 & 0 & 0 & 0 & 0 & 0 & 1 &  7 & Leukemia     & HR ALL & Unknown\\\\\n",
       "\t 3.3e-07 & SY\\%GGDE   & CHP\\_366 &  527.0 & 0 & 0 & 0 & 0 & 0 & 0 & 0 & 0 & 0 & 0 & 1 &  6 & Lymphoma     & HD     & Unknown\\\\\n",
       "\t 4.7e-07 & S\\%GGSGANV & CHP\\_404 &  431.0 & 0 & 0 & 0 & 0 & 0 & 0 & 0 & 0 & 0 & 0 & 1 &  7 & Solid tumors & ERMS   & Unknown\\\\\n",
       "\t 6.0e-07 & S\\%SGGDE   & CHP\\_366 &  527.0 & 0 & 0 & 0 & 0 & 0 & 0 & 0 & 0 & 0 & 0 & 1 &  7 & Lymphoma     & HD     & Unknown\\\\\n",
       "\t 2.7e-06 & SYSGGD\\%   & CHP\\_366 &  527.0 & 0 & 0 & 0 & 0 & 0 & 0 & 0 & 0 & 0 & 0 & 1 &  4 & Lymphoma     & HD     & Unknown\\\\\n",
       "\t 7.3e-06 & SYSG\\%DE   & CHP\\_366 &  527.0 & 0 & 0 & 0 & 0 & 0 & 0 & 0 & 0 & 0 & 0 & 1 &  5 & Lymphoma     & HD     & Unknown\\\\\n",
       "\t 2.7e-05 & SYS\\%GDE   & CHP\\_366 &  527.0 & 0 & 0 & 0 & 0 & 0 & 0 & 0 & 0 & 0 & 0 & 1 &  5 & Lymphoma     & HD     & Unknown\\\\\n",
       "\t 4.4e-05 & SLGG\\%MNTE & CHP\\_396 &  941.0 & 0 & 0 & 0 & 0 & 0 & 0 & 0 & 0 & 0 & 0 & 1 &  4 & Leukemia     & HR ALL & Unknown\\\\\n",
       "\t 7.3e-05 & SR\\%QET    & CHP\\_362 &  730.0 & 0 & 0 & 0 & 0 & 0 & 0 & 0 & 0 & 0 & 0 & 1 &  6 & Solid tumors & OS     & Unknown\\\\\n",
       "\t 8.1e-05 & SI\\%PNTE   & CHP\\_396 &  853.0 & 0 & 0 & 0 & 0 & 0 & 0 & 0 & 0 & 0 & 0 & 1 &  4 & Leukemia     & HR ALL & Unknown\\\\\n",
       "\t 9.3e-05 & SLS\\%NYG   & CHP\\_413 &  619.0 & 0 & 0 & 0 & 0 & 0 & 0 & 0 & 0 & 0 & 0 & 0 &  4 & Leukemia     & AML    & Unknown\\\\\n",
       "\\end{tabular}\n"
      ],
      "text/markdown": [
       "\n",
       "A tibble: 13 x 19\n",
       "\n",
       "| fisher &lt;dbl&gt; | gliph &lt;chr&gt; | Patient &lt;chr&gt; | Delta &lt;dbl&gt; | CMV &lt;dbl&gt; | Flu &lt;dbl&gt; | HCV &lt;dbl&gt; | EBV &lt;dbl&gt; | HPV &lt;dbl&gt; | HS &lt;dbl&gt; | CEF &lt;dbl&gt; | TB &lt;dbl&gt; | SP &lt;dbl&gt; | MCPyV &lt;dbl&gt; | MDavis &lt;dbl&gt; | n_unique_cdr3 &lt;dbl&gt; | cancergroup &lt;chr&gt; | Disease &lt;chr&gt; | antigen &lt;chr&gt; |\n",
       "|---|---|---|---|---|---|---|---|---|---|---|---|---|---|---|---|---|---|---|\n",
       "| 5.1e-19 | SP%RNTE   | CHP_396 | 1398.5 | 1 | 0 | 0 | 0 | 0 | 0 | 0 | 0 | 0 | 0 | 1 | 15 | Leukemia     | HR ALL | Viral   |\n",
       "| 2.7e-08 | S%GPNTE   | CHP_396 |  431.0 | 0 | 0 | 0 | 0 | 0 | 0 | 0 | 0 | 0 | 0 | 1 |  9 | Leukemia     | HR ALL | Unknown |\n",
       "| 4.2e-08 | SIG%NTE   | CHP_396 |  853.0 | 0 | 0 | 0 | 0 | 0 | 0 | 0 | 0 | 0 | 0 | 1 |  7 | Leukemia     | HR ALL | Unknown |\n",
       "| 3.3e-07 | SY%GGDE   | CHP_366 |  527.0 | 0 | 0 | 0 | 0 | 0 | 0 | 0 | 0 | 0 | 0 | 1 |  6 | Lymphoma     | HD     | Unknown |\n",
       "| 4.7e-07 | S%GGSGANV | CHP_404 |  431.0 | 0 | 0 | 0 | 0 | 0 | 0 | 0 | 0 | 0 | 0 | 1 |  7 | Solid tumors | ERMS   | Unknown |\n",
       "| 6.0e-07 | S%SGGDE   | CHP_366 |  527.0 | 0 | 0 | 0 | 0 | 0 | 0 | 0 | 0 | 0 | 0 | 1 |  7 | Lymphoma     | HD     | Unknown |\n",
       "| 2.7e-06 | SYSGGD%   | CHP_366 |  527.0 | 0 | 0 | 0 | 0 | 0 | 0 | 0 | 0 | 0 | 0 | 1 |  4 | Lymphoma     | HD     | Unknown |\n",
       "| 7.3e-06 | SYSG%DE   | CHP_366 |  527.0 | 0 | 0 | 0 | 0 | 0 | 0 | 0 | 0 | 0 | 0 | 1 |  5 | Lymphoma     | HD     | Unknown |\n",
       "| 2.7e-05 | SYS%GDE   | CHP_366 |  527.0 | 0 | 0 | 0 | 0 | 0 | 0 | 0 | 0 | 0 | 0 | 1 |  5 | Lymphoma     | HD     | Unknown |\n",
       "| 4.4e-05 | SLGG%MNTE | CHP_396 |  941.0 | 0 | 0 | 0 | 0 | 0 | 0 | 0 | 0 | 0 | 0 | 1 |  4 | Leukemia     | HR ALL | Unknown |\n",
       "| 7.3e-05 | SR%QET    | CHP_362 |  730.0 | 0 | 0 | 0 | 0 | 0 | 0 | 0 | 0 | 0 | 0 | 1 |  6 | Solid tumors | OS     | Unknown |\n",
       "| 8.1e-05 | SI%PNTE   | CHP_396 |  853.0 | 0 | 0 | 0 | 0 | 0 | 0 | 0 | 0 | 0 | 0 | 1 |  4 | Leukemia     | HR ALL | Unknown |\n",
       "| 9.3e-05 | SLS%NYG   | CHP_413 |  619.0 | 0 | 0 | 0 | 0 | 0 | 0 | 0 | 0 | 0 | 0 | 0 |  4 | Leukemia     | AML    | Unknown |\n",
       "\n"
      ],
      "text/plain": [
       "   fisher  gliph     Patient Delta  CMV Flu HCV EBV HPV HS CEF TB SP MCPyV\n",
       "1  5.1e-19 SP%RNTE   CHP_396 1398.5 1   0   0   0   0   0  0   0  0  0    \n",
       "2  2.7e-08 S%GPNTE   CHP_396  431.0 0   0   0   0   0   0  0   0  0  0    \n",
       "3  4.2e-08 SIG%NTE   CHP_396  853.0 0   0   0   0   0   0  0   0  0  0    \n",
       "4  3.3e-07 SY%GGDE   CHP_366  527.0 0   0   0   0   0   0  0   0  0  0    \n",
       "5  4.7e-07 S%GGSGANV CHP_404  431.0 0   0   0   0   0   0  0   0  0  0    \n",
       "6  6.0e-07 S%SGGDE   CHP_366  527.0 0   0   0   0   0   0  0   0  0  0    \n",
       "7  2.7e-06 SYSGGD%   CHP_366  527.0 0   0   0   0   0   0  0   0  0  0    \n",
       "8  7.3e-06 SYSG%DE   CHP_366  527.0 0   0   0   0   0   0  0   0  0  0    \n",
       "9  2.7e-05 SYS%GDE   CHP_366  527.0 0   0   0   0   0   0  0   0  0  0    \n",
       "10 4.4e-05 SLGG%MNTE CHP_396  941.0 0   0   0   0   0   0  0   0  0  0    \n",
       "11 7.3e-05 SR%QET    CHP_362  730.0 0   0   0   0   0   0  0   0  0  0    \n",
       "12 8.1e-05 SI%PNTE   CHP_396  853.0 0   0   0   0   0   0  0   0  0  0    \n",
       "13 9.3e-05 SLS%NYG   CHP_413  619.0 0   0   0   0   0   0  0   0  0  0    \n",
       "   MDavis n_unique_cdr3 cancergroup  Disease antigen\n",
       "1  1      15            Leukemia     HR ALL  Viral  \n",
       "2  1       9            Leukemia     HR ALL  Unknown\n",
       "3  1       7            Leukemia     HR ALL  Unknown\n",
       "4  1       6            Lymphoma     HD      Unknown\n",
       "5  1       7            Solid tumors ERMS    Unknown\n",
       "6  1       7            Lymphoma     HD      Unknown\n",
       "7  1       4            Lymphoma     HD      Unknown\n",
       "8  1       5            Lymphoma     HD      Unknown\n",
       "9  1       5            Lymphoma     HD      Unknown\n",
       "10 1       4            Leukemia     HR ALL  Unknown\n",
       "11 1       6            Solid tumors OS      Unknown\n",
       "12 1       4            Leukemia     HR ALL  Unknown\n",
       "13 0       4            Leukemia     AML     Unknown"
      ]
     },
     "metadata": {},
     "output_type": "display_data"
    }
   ],
   "source": [
    "gliph_pat_mat_long[ gliph_pat_mat_long$Delta > 430 & gliph_pat_mat_long$fisher < 0.0001,]"
   ]
  },
  {
   "cell_type": "code",
   "execution_count": 350,
   "metadata": {
    "vscode": {
     "languageId": "r"
    }
   },
   "outputs": [],
   "source": [
    "# gliph_pat_mat_long[ gliph_pat_mat_long$cancergroup == \"Lymphoma\",]"
   ]
  },
  {
   "cell_type": "code",
   "execution_count": 382,
   "metadata": {
    "vscode": {
     "languageId": "r"
    }
   },
   "outputs": [],
   "source": [
    "p4 <- ggplot(gliph_pat_mat_long, aes(size = n_unique_cdr3, x = Delta, y = -log10(fisher), color = cancergroup, shape = antigen)) +\n",
    "    geom_point(alpha = 0.6) +\n",
    "    myplot +\n",
    "    myaxis +\n",
    "    geom_hline(yintercept = c(-log10(0.0001), 42), linetype = c(5, 1)) +\n",
    "    geom_vline(xintercept = c(431, -204), linetype = 3) +\n",
    "    theme(axis.text.x = element_text(angle = 0, hjust = 0.5), legend.title = element_text(size = 10)) +\n",
    "    labs(y = \"-log10(Fisher score)\", x = \"TCR specificity group clonal change \\n[post-therapy - pre-therapy]\") +\n",
    "    guides(color = guide_legend(title = \"Cancer groups\"), shape = guide_legend(title = \"Antigen\"), size = guide_legend(title = \"Unique CDR3s (count)\")) +\n",
    "    scale_color_manual(values = group_col)"
   ]
  },
  {
   "cell_type": "code",
   "execution_count": 383,
   "metadata": {
    "vscode": {
     "languageId": "r"
    }
   },
   "outputs": [
    {
     "data": {
      "image/png": "[encoded data removed]",
      "text/plain": [
       "plot without title"
      ]
     },
     "metadata": {
      "image/png": {
       "height": 420,
       "width": 420
      }
     },
     "output_type": "display_data"
    }
   ],
   "source": [
    "p4"
   ]
  },
  {
   "cell_type": "code",
   "execution_count": 384,
   "metadata": {
    "vscode": {
     "languageId": "r"
    }
   },
   "outputs": [
    {
     "data": {
      "text/html": [
       "<strong>pdf:</strong> 2"
      ],
      "text/latex": [
       "\\textbf{pdf:} 2"
      ],
      "text/markdown": [
       "**pdf:** 2"
      ],
      "text/plain": [
       "pdf \n",
       "  2 "
      ]
     },
     "metadata": {},
     "output_type": "display_data"
    }
   ],
   "source": [
    "pdf(paste0(plotpath, \"p_gliph_fisher_delta.pdf\"), width = 7, height = 6)\n",
    "p4\n",
    "dev.off()"
   ]
  },
  {
   "cell_type": "code",
   "execution_count": null,
   "metadata": {
    "vscode": {
     "languageId": "r"
    }
   },
   "outputs": [],
   "source": []
  },
  {
   "cell_type": "code",
   "execution_count": null,
   "metadata": {
    "vscode": {
     "languageId": "r"
    }
   },
   "outputs": [],
   "source": []
  },
  {
   "cell_type": "code",
   "execution_count": null,
   "metadata": {
    "vscode": {
     "languageId": "r"
    }
   },
   "outputs": [],
   "source": []
  },
  {
   "cell_type": "markdown",
   "metadata": {},
   "source": [
    "# Backup"
   ]
  },
  {
   "cell_type": "markdown",
   "metadata": {},
   "source": [
    "### PCA gliph"
   ]
  },
  {
   "cell_type": "code",
   "execution_count": null,
   "metadata": {
    "vscode": {
     "languageId": "r"
    }
   },
   "outputs": [],
   "source": [
    "head(tmp)"
   ]
  },
  {
   "cell_type": "code",
   "execution_count": null,
   "metadata": {
    "vscode": {
     "languageId": "r"
    }
   },
   "outputs": [],
   "source": [
    "chp_gliph <- tmp[ grepl(\"CHP\", tmp$Sample), ]"
   ]
  },
  {
   "cell_type": "code",
   "execution_count": null,
   "metadata": {
    "vscode": {
     "languageId": "r"
    }
   },
   "outputs": [],
   "source": [
    "chp_gliph_sum <- chp_gliph %>% \n",
    "  group_by(Sample, pattern) %>% \n",
    "  summarise(SumFreq = sum(Freq), .groups = 'drop')"
   ]
  },
  {
   "cell_type": "code",
   "execution_count": null,
   "metadata": {
    "vscode": {
     "languageId": "r"
    }
   },
   "outputs": [],
   "source": [
    "head(chp_gliph_sum)"
   ]
  },
  {
   "cell_type": "code",
   "execution_count": null,
   "metadata": {
    "vscode": {
     "languageId": "r"
    }
   },
   "outputs": [],
   "source": [
    "chp_gliph_wide <- tidyr::pivot_wider(chp_gliph_sum[, c(\"Sample\", \"pattern\", \"SumFreq\")], names_from = \"pattern\", values_from = \"SumFreq\")"
   ]
  },
  {
   "cell_type": "code",
   "execution_count": null,
   "metadata": {
    "vscode": {
     "languageId": "r"
    }
   },
   "outputs": [],
   "source": [
    "head(chp_gliph_wide)"
   ]
  },
  {
   "cell_type": "code",
   "execution_count": null,
   "metadata": {
    "vscode": {
     "languageId": "r"
    }
   },
   "outputs": [],
   "source": [
    "chp_gliph_wide <- as.data.frame(chp_gliph_wide)\n",
    "rownames(chp_gliph_wide) <- chp_gliph_wide$Sample\n",
    "chp_gliph_wide$Sample <- NULL"
   ]
  },
  {
   "cell_type": "code",
   "execution_count": null,
   "metadata": {
    "vscode": {
     "languageId": "r"
    }
   },
   "outputs": [],
   "source": [
    "chp_gliph_wide <- as.matrix(chp_gliph_wide)"
   ]
  },
  {
   "cell_type": "code",
   "execution_count": null,
   "metadata": {
    "vscode": {
     "languageId": "r"
    }
   },
   "outputs": [],
   "source": [
    "head(chp_gliph_wide)"
   ]
  },
  {
   "cell_type": "code",
   "execution_count": null,
   "metadata": {
    "vscode": {
     "languageId": "r"
    }
   },
   "outputs": [],
   "source": [
    "chp_gliph_wide[is.na(chp_gliph_wide)] <- 0"
   ]
  },
  {
   "cell_type": "code",
   "execution_count": null,
   "metadata": {
    "vscode": {
     "languageId": "r"
    }
   },
   "outputs": [],
   "source": [
    "head(chp_gliph_wide)"
   ]
  },
  {
   "cell_type": "code",
   "execution_count": null,
   "metadata": {
    "vscode": {
     "languageId": "r"
    }
   },
   "outputs": [],
   "source": [
    "pbmc <- chp_gliph_wide[grepl(\"PBMC\", rownames(chp_gliph_wide)),]\n",
    "pbmc <- pbmc[, colSums(pbmc > 0) > 0]"
   ]
  },
  {
   "cell_type": "code",
   "execution_count": null,
   "metadata": {
    "vscode": {
     "languageId": "r"
    }
   },
   "outputs": [],
   "source": [
    "mypca <- prcomp(pbmc, center = TRUE, scale. = TRUE)"
   ]
  },
  {
   "cell_type": "code",
   "execution_count": null,
   "metadata": {
    "vscode": {
     "languageId": "r"
    }
   },
   "outputs": [],
   "source": [
    "# plot PCA with factoextra\n",
    "viz_pca <- fviz_pca_ind(mypca,\n",
    "    col.ind = as.vector(gsub(\":.*\", \"\", rownames(pbmc))),\n",
    "    # gradient.cols = c(\"#00AFBB\", \"#E7B800\", \"#FC4E07\"),\n",
    "    # remove labels\n",
    "    label = \"none\",\n",
    "    repel = TRUE, addEllipses = FALSE\n",
    ")"
   ]
  },
  {
   "cell_type": "code",
   "execution_count": null,
   "metadata": {
    "vscode": {
     "languageId": "r"
    }
   },
   "outputs": [],
   "source": [
    "# scree plot\n",
    "fviz_eig(mypca)"
   ]
  },
  {
   "cell_type": "code",
   "execution_count": null,
   "metadata": {
    "vscode": {
     "languageId": "r"
    }
   },
   "outputs": [],
   "source": [
    "viz_pca + coord_cartesian(xlim=c(-2, 10), ylim=c(-2, 10) )"
   ]
  },
  {
   "cell_type": "markdown",
   "metadata": {},
   "source": [
    "# v1\n",
    "\n",
    "table patterns, group gliph based on external db, run ancombc for cfdna and pbmc at baseline"
   ]
  },
  {
   "cell_type": "markdown",
   "metadata": {},
   "source": []
  },
  {
   "cell_type": "code",
   "execution_count": null,
   "metadata": {
    "vscode": {
     "languageId": "r"
    }
   },
   "outputs": [],
   "source": [
    "meta_div <- readr::read_rds(paste0(datapath, \"capTCRseq/meta_div_goodsamples.rds\"))"
   ]
  },
  {
   "cell_type": "code",
   "execution_count": null,
   "metadata": {
    "vscode": {
     "languageId": "r"
    }
   },
   "outputs": [],
   "source": [
    "#remove those samples that we did not have the TCRseq data for\n",
    "meta_div <- meta_div[!is.na(meta_div$TRB),]"
   ]
  },
  {
   "cell_type": "code",
   "execution_count": null,
   "metadata": {
    "vscode": {
     "languageId": "r"
    }
   },
   "outputs": [],
   "source": [
    "gliph_out <- readr::read_csv(paste0(h4hpath, \"/v4/gliph_output/int_vdj_v4_cluster.csv\"), col_names = T) # default gliph reference dataset"
   ]
  },
  {
   "cell_type": "code",
   "execution_count": null,
   "metadata": {
    "vscode": {
     "languageId": "r"
    }
   },
   "outputs": [],
   "source": [
    "# remove columns starting with HLA\n",
    "gliph_out <- gliph_out[,!grepl(\"HLA\", colnames(gliph_out))]"
   ]
  },
  {
   "cell_type": "code",
   "execution_count": null,
   "metadata": {
    "vscode": {
     "languageId": "r"
    }
   },
   "outputs": [],
   "source": [
    "head(gliph_out)"
   ]
  },
  {
   "cell_type": "code",
   "execution_count": null,
   "metadata": {
    "vscode": {
     "languageId": "r"
    }
   },
   "outputs": [],
   "source": [
    "#  tmp <- gliph_out[gliph_out$number_subject >= 3,]\n",
    "#  tmp <- tmp[tmp$number_unique_cdr3 >= 3,]\n",
    "#   tmp <- tmp[tmp$Fisher_score < 0.001,]\n",
    "# tmp <- tmp[tmp$expansion_score < 0.01,]\n",
    "# tmp <- tmp[tmp$length_score < 0.002,]\n",
    "\n",
    "gliph_out_nosingle <- gliph_out[ gliph_out$pattern != \"single\",]"
   ]
  },
  {
   "cell_type": "code",
   "execution_count": null,
   "metadata": {
    "vscode": {
     "languageId": "r"
    }
   },
   "outputs": [],
   "source": [
    "dim(gliph_out)\n",
    "dim(gliph_out_nosingle)"
   ]
  },
  {
   "cell_type": "code",
   "execution_count": null,
   "metadata": {
    "vscode": {
     "languageId": "r"
    }
   },
   "outputs": [],
   "source": [
    "# only those gliph groups with >= 3 baseline subjects from CHP\n",
    "chp <- gliph_out_nosingle[ grepl(\"CHP\", gliph_out_nosingle$Sample),]\n",
    "chp_x01 <- chp[ grepl(\"X01\", chp$Sample),]\n",
    "chp_x01_sample <- chp_x01[ grepl(\"cfDNA\", chp_x01$Sample),]"
   ]
  },
  {
   "cell_type": "code",
   "execution_count": null,
   "metadata": {
    "vscode": {
     "languageId": "r"
    }
   },
   "outputs": [],
   "source": [
    "pattern_freq <- as.data.frame(table(chp_x01_sample$pattern) , stringsAsFactors = F)\n",
    "mypatterns <- pattern_freq$Var1[ pattern_freq$Freq >= 3 ]"
   ]
  },
  {
   "cell_type": "code",
   "execution_count": null,
   "metadata": {
    "vscode": {
     "languageId": "r"
    }
   },
   "outputs": [],
   "source": [
    "head(chp_x01_sample)"
   ]
  },
  {
   "cell_type": "code",
   "execution_count": null,
   "metadata": {
    "vscode": {
     "languageId": "r"
    }
   },
   "outputs": [],
   "source": [
    "(mypatterns)"
   ]
  },
  {
   "cell_type": "code",
   "execution_count": null,
   "metadata": {
    "vscode": {
     "languageId": "r"
    }
   },
   "outputs": [],
   "source": [
    "# subset the original gliph_out_nosingle to mypatterns to keep the external database\n",
    "gliph_out_nosingle_chppatterns <- gliph_out_nosingle[gliph_out_nosingle$pattern %in% mypatterns,]"
   ]
  },
  {
   "cell_type": "code",
   "execution_count": null,
   "metadata": {
    "vscode": {
     "languageId": "r"
    }
   },
   "outputs": [],
   "source": [
    "dim(gliph_out_nosingle)\n",
    "dim(gliph_out_nosingle_chppatterns)"
   ]
  },
  {
   "cell_type": "code",
   "execution_count": null,
   "metadata": {
    "vscode": {
     "languageId": "r"
    }
   },
   "outputs": [],
   "source": [
    "# get the matrix of GLIPH x samples\n",
    "pat_type <- as.data.frame.matrix(table(gliph_out_nosingle_chppatterns %>% select(pattern, Sample)))"
   ]
  },
  {
   "cell_type": "code",
   "execution_count": null,
   "metadata": {
    "vscode": {
     "languageId": "r"
    }
   },
   "outputs": [],
   "source": [
    "head(pat_type)"
   ]
  },
  {
   "cell_type": "code",
   "execution_count": null,
   "metadata": {
    "vscode": {
     "languageId": "r"
    }
   },
   "outputs": [],
   "source": [
    "pat_type <- pat_type[, grepl(\"CHP\", colnames(pat_type))]"
   ]
  },
  {
   "cell_type": "code",
   "execution_count": null,
   "metadata": {
    "vscode": {
     "languageId": "r"
    }
   },
   "outputs": [],
   "source": [
    "# make a samplename to match subject:condition of gliph_out\n",
    "meta_div$samplename <- paste0(meta_div$cancergroup, \":\", meta_div$Patient, \"_\", meta_div$cycle, \"-\", meta_div$sampletype)\n",
    "meta_div$samplename <- gsub(\" \", \"\", meta_div$samplename)"
   ]
  },
  {
   "cell_type": "code",
   "execution_count": null,
   "metadata": {
    "vscode": {
     "languageId": "r"
    }
   },
   "outputs": [],
   "source": [
    "table(meta_div$cancergroup)"
   ]
  },
  {
   "cell_type": "code",
   "execution_count": null,
   "metadata": {
    "vscode": {
     "languageId": "r"
    }
   },
   "outputs": [],
   "source": [
    "meta_div <- meta_div[ meta_div$cancergroup %in% c(\"Solid tumors\", \"Leukemia\", \"Lymphoma\", \"T-cell malignancies\"),]"
   ]
  },
  {
   "cell_type": "code",
   "execution_count": null,
   "metadata": {
    "vscode": {
     "languageId": "r"
    }
   },
   "outputs": [],
   "source": [
    "meta_div_sampletype <- meta_div[ meta_div$sampletype == \"cfDNA\",]\n",
    "\n",
    "meta_div_sampletype_x01 <- meta_div_sampletype[ meta_div_sampletype$cycle == \"X01\",]"
   ]
  },
  {
   "cell_type": "code",
   "execution_count": null,
   "metadata": {
    "vscode": {
     "languageId": "r"
    }
   },
   "outputs": [],
   "source": [
    "table(meta_div_sampletype_x01$cancergroup)"
   ]
  },
  {
   "cell_type": "code",
   "execution_count": null,
   "metadata": {
    "vscode": {
     "languageId": "r"
    }
   },
   "outputs": [],
   "source": [
    "# subset the matrix to match samples in the metadata\n",
    "pat_type <- pat_type[, colnames(pat_type) %in% meta_div_sampletype_x01$samplename ]\n",
    "# match metadata to the matrix\n",
    "metadata_matched <- meta_div_sampletype_x01[match(colnames(pat_type), meta_div_sampletype_x01$samplename), ]"
   ]
  },
  {
   "cell_type": "code",
   "execution_count": null,
   "metadata": {
    "vscode": {
     "languageId": "r"
    }
   },
   "outputs": [],
   "source": [
    "dim(metadata_matched)\n",
    "dim(pat_type)"
   ]
  },
  {
   "attachments": {},
   "cell_type": "markdown",
   "metadata": {},
   "source": [
    "Make rowData"
   ]
  },
  {
   "cell_type": "code",
   "execution_count": null,
   "metadata": {
    "vscode": {
     "languageId": "r"
    }
   },
   "outputs": [],
   "source": [
    "gliphdf <- data.frame(gliph = rownames(pat_type))\n",
    "rownames(gliphdf) <- gliphdf$gliph"
   ]
  },
  {
   "cell_type": "code",
   "execution_count": null,
   "metadata": {
    "vscode": {
     "languageId": "r"
    }
   },
   "outputs": [],
   "source": [
    "gliph_out_nosingle_chppatterns$subject <- gsub(\":.*\", \"\", gliph_out_nosingle_chppatterns$Sample)"
   ]
  },
  {
   "cell_type": "code",
   "execution_count": null,
   "metadata": {
    "vscode": {
     "languageId": "r"
    }
   },
   "outputs": [],
   "source": [
    "head(gliph_out_nosingle_chppatterns[, c(\"subject\", \"Sample\")])"
   ]
  },
  {
   "cell_type": "code",
   "execution_count": null,
   "metadata": {
    "vscode": {
     "languageId": "r"
    }
   },
   "outputs": [],
   "source": [
    "names(table(gliph_out_nosingle_chppatterns$subject[!grepl(\"CHP\", gliph_out_nosingle_chppatterns$Sample)]))"
   ]
  },
  {
   "cell_type": "code",
   "execution_count": null,
   "metadata": {
    "vscode": {
     "languageId": "r"
    }
   },
   "outputs": [],
   "source": [
    "#rmeove LFS cases\n",
    "gliph_out_nosingle_chppatterns <- gliph_out_nosingle_chppatterns[!grepl(\"LFS\", gliph_out_nosingle_chppatterns$subject),]"
   ]
  },
  {
   "cell_type": "code",
   "execution_count": null,
   "metadata": {
    "vscode": {
     "languageId": "r"
    }
   },
   "outputs": [],
   "source": [
    "names(table(gliph_out_nosingle_chppatterns$subject[!grepl(\"CHP\", gliph_out_nosingle_chppatterns$Sample)]))"
   ]
  },
  {
   "cell_type": "code",
   "execution_count": null,
   "metadata": {
    "vscode": {
     "languageId": "r"
    }
   },
   "outputs": [],
   "source": [
    "for(i in 1:nrow(gliphdf)){\n",
    "\n",
    "mygliph <- gliph_out_nosingle_chppatterns[gliph_out_nosingle_chppatterns$pattern == gliphdf$gliph[i],]\n",
    "# add 1 in gliphdf$CMV, if mygliph$subject ciontains CMV\n",
    "gliphdf$CMV[i] <- ifelse(sum(grepl(\"CMV\", mygliph$subject)) > 0, sum(grepl(\"CMV\", mygliph$subject)), 0)\n",
    "gliphdf$EBV[i] <- ifelse(sum(grepl(\"EBV\", mygliph$subject)) > 0, sum(grepl(\"EBV\", mygliph$subject)), 0)\n",
    "gliphdf$HCV[i] <- ifelse(sum(grepl(\"HCV\", mygliph$subject)) > 0, sum(grepl(\"HCV\", mygliph$subject)), 0)\n",
    "# gliphdf$Flu[i] <- ifelse(sum(grepl(\"Influenza\", mygliph$subject)) > 0, sum(grepl(\"Influenza\", mygliph$subject)), 0)\n",
    "\n",
    "gliphdf$hs[i] <- ifelse(sum(grepl(\"HomoSapiens\", mygliph$subject)) > 0, sum(grepl(\"HomoSapiens\", mygliph$subject)), 0)\n",
    "gliphdf$hs[i] <- ifelse(sum(grepl(\"MDavis\", mygliph$subject)) > 0, sum(grepl(\"MDavis\", mygliph$subject)), 0)\n",
    "\n",
    "gliphdf$HPV[i] <- ifelse(sum(grepl(\"HPV\", mygliph$subject)) > 0, sum(grepl(\"HPV\", mygliph$subject)), 0)\n",
    "# gliphdf$CEF[i] <- ifelse(sum(grepl(\"CEF\", mygliph$subject)) > 0, sum(grepl(\"CEF\", mygliph$subject)), 0)\n",
    "gliphdf$TB[i] <- ifelse(sum(grepl(\"M.tuberculosis\", mygliph$subject)) > 0, sum(grepl(\"M.tuberculosis\", mygliph$subject)), 0)\n",
    "gliphdf$MCPyV[i] <- ifelse(sum(grepl(\"MCPyV\", mygliph$subject)) > 0, sum(grepl(\"MCPyV\", mygliph$subject)), 0)\n",
    "gliphdf$SP[i] <- ifelse(sum(grepl(\"S-pneumoniae\", mygliph$subject)) > 0, sum(grepl(\"S-pneumoniae\", mygliph$subject)), 0)\n",
    "\n",
    "# gliphdf$SP[i] <- ifelse(sum(grepl(\"HTLV-1\", mygliph$subject)) > 0, sum(grepl(\"HTLV-1\", mygliph$subject)), 0)\n",
    "# gliphdf$SP[i] <- ifelse(sum(grepl(\"DENV\", mygliph$subject)) > 0, sum(grepl(\"DENV\", mygliph$subject)), 0)\n",
    "}"
   ]
  },
  {
   "cell_type": "code",
   "execution_count": null,
   "metadata": {
    "vscode": {
     "languageId": "r"
    }
   },
   "outputs": [],
   "source": [
    "head(gliphdf)"
   ]
  },
  {
   "cell_type": "code",
   "execution_count": null,
   "metadata": {
    "vscode": {
     "languageId": "r"
    }
   },
   "outputs": [],
   "source": [
    "gliphdf$Family <- NA\n",
    "\n",
    "for (i in 1:nrow(gliphdf)) {\n",
    "    mygliph <- gliph_out_nosingle_chppatterns[gliph_out_nosingle_chppatterns$pattern == gliphdf$gliph[i], ]\n",
    "    # add CMV to gliphdf$Family, if CMV is in mygliph$subject\n",
    "    gliphdf$Family[i] <- ifelse(sum(grepl(\"CMV\", mygliph$subject)) > 0, \"CMV\", \"\")\n",
    "    gliphdf$Family[i] <- ifelse(sum(grepl(\"EBV\", mygliph$subject)) > 0, paste0(\"EBV_\", gliphdf$Family[i]), gliphdf$Family[i])\n",
    "    gliphdf$Family[i] <- ifelse(sum(grepl(\"HCV\", mygliph$subject)) > 0, paste0(\"HCV_\", gliphdf$Family[i]), gliphdf$Family[i])\n",
    "    # gliphdf$Family[i] <- ifelse(sum(grepl(\"Influenza\", mygliph$subject)) > 0, paste0(\"Flu_\", gliphdf$Family[i]), gliphdf$Family[i])\n",
    "    gliphdf$Family[i] <- ifelse(sum(grepl(\"HomoSapiens\", mygliph$subject)) > 0, paste0(\"hs_\", gliphdf$Family[i]), gliphdf$Family[i])\n",
    "    gliphdf$Family[i] <- ifelse(sum(grepl(\"HPV\", mygliph$subject)) > 0, paste0(\"HPV_\", gliphdf$Family[i]), gliphdf$Family[i])\n",
    "    # gliphdf$Family[i] <- ifelse(sum(grepl(\"CEF\", mygliph$subject)) > 0, paste0(\"CEF_\", gliphdf$Family[i]), gliphdf$Family[i])\n",
    "    gliphdf$Family[i] <- ifelse(sum(grepl(\"M.tuberculosis\", mygliph$subject)) > 0, paste0(\"TB_\", gliphdf$Family[i]), gliphdf$Family[i])\n",
    "    gliphdf$Family[i] <- ifelse(sum(grepl(\"MCPyV\", mygliph$subject)) > 0, paste0(\"MCPyV_\", gliphdf$Family[i]), gliphdf$Family[i])\n",
    "    gliphdf$Family[i] <- ifelse(sum(grepl(\"MDavis\", mygliph$subject)) > 0, paste0(\"hs_\", gliphdf$Family[i]), gliphdf$Family[i])\n",
    "    gliphdf$Family[i] <- ifelse(sum(grepl(\"S-pneumoniae\", mygliph$subject)) > 0, paste0(\"SP_\", gliphdf$Family[i]), gliphdf$Family[i])\n",
    "    # gliphdf$Family[i] <- ifelse(sum(grepl(\"DENV\", mygliph$subject)) > 0, paste0(\"DENV_\", gliphdf$Family[i]), gliphdf$Family[i])\n",
    "    # gliphdf$Family[i] <- ifelse(sum(grepl(\"HTLV\", mygliph$subject)) > 0, paste0(\"HTLV_\", gliphdf$Family[i]), gliphdf$Family[i])\n",
    "\n",
    "}"
   ]
  },
  {
   "cell_type": "code",
   "execution_count": null,
   "metadata": {
    "vscode": {
     "languageId": "r"
    }
   },
   "outputs": [],
   "source": [
    "head(gliphdf)"
   ]
  },
  {
   "cell_type": "code",
   "execution_count": null,
   "metadata": {
    "vscode": {
     "languageId": "r"
    }
   },
   "outputs": [],
   "source": [
    "for (i in 1:nrow(gliphdf)) {\n",
    "    mygliph <- gliph_out_nosingle_chppatterns[gliph_out_nosingle_chppatterns$pattern == gliphdf$gliph[i], ]\n",
    "    gliphdf$n_cdr3[i] <- nrow(mygliph)\n",
    "}"
   ]
  },
  {
   "cell_type": "code",
   "execution_count": null,
   "metadata": {
    "vscode": {
     "languageId": "r"
    }
   },
   "outputs": [],
   "source": [
    "head(gliphdf[ gliphdf$Family != \"\",],10)"
   ]
  },
  {
   "cell_type": "code",
   "execution_count": null,
   "metadata": {
    "vscode": {
     "languageId": "r"
    }
   },
   "outputs": [],
   "source": [
    "gliphdf$Family[gliphdf$Family == \"\" ] <- \"NK\""
   ]
  },
  {
   "cell_type": "code",
   "execution_count": null,
   "metadata": {
    "vscode": {
     "languageId": "r"
    }
   },
   "outputs": [],
   "source": [
    "levels(as.factor(gliphdf$Family))"
   ]
  },
  {
   "cell_type": "code",
   "execution_count": null,
   "metadata": {
    "vscode": {
     "languageId": "r"
    }
   },
   "outputs": [],
   "source": [
    "# cleanup\n",
    "gliphdf$Family <- gsub(\"_$\", \"\", gliphdf$Family)\n",
    "gliphdf$Family[ gliphdf$Family == \"hs_hs\"] <- \"hs\"\n",
    "gliphdf$Family <- gsub(\"hs_hs\", \"hs\", gliphdf$Family)"
   ]
  },
  {
   "cell_type": "code",
   "execution_count": null,
   "metadata": {
    "vscode": {
     "languageId": "r"
    }
   },
   "outputs": [],
   "source": [
    "levels(as.factor(gliphdf$Family))"
   ]
  },
  {
   "cell_type": "code",
   "execution_count": null,
   "metadata": {
    "vscode": {
     "languageId": "r"
    }
   },
   "outputs": [],
   "source": [
    "# species = gliph, genus = original annotations, family = grouped annotations\n",
    "gliphdf$Genus <- gliphdf$Family"
   ]
  },
  {
   "cell_type": "code",
   "execution_count": null,
   "metadata": {
    "vscode": {
     "languageId": "r"
    }
   },
   "outputs": [],
   "source": [
    "gliphdf$Family[grepl(\"hs_\", gliphdf$Family)] <- \"cross-reactive\"\n",
    "gliphdf$Family[grepl(\"_hs\", gliphdf$Family)] <- \"cross-reactive\"\n",
    "gliphdf$Family[ gliphdf$Family %in% c(\"CMV\", \"EBV\", \"HPV\")] <- \"Viral\""
   ]
  },
  {
   "cell_type": "code",
   "execution_count": null,
   "metadata": {
    "vscode": {
     "languageId": "r"
    }
   },
   "outputs": [],
   "source": [
    "levels(as.factor(gliphdf$Genus))\n",
    "levels(as.factor(gliphdf$Family))"
   ]
  },
  {
   "attachments": {},
   "cell_type": "markdown",
   "metadata": {},
   "source": [
    "Create TreeSummarizedExperiment to input to ANCOMBC"
   ]
  },
  {
   "cell_type": "code",
   "execution_count": null,
   "metadata": {
    "vscode": {
     "languageId": "r"
    }
   },
   "outputs": [],
   "source": [
    "table(metadata_matched$cancergroup)"
   ]
  },
  {
   "cell_type": "code",
   "execution_count": null,
   "metadata": {
    "vscode": {
     "languageId": "r"
    }
   },
   "outputs": [],
   "source": [
    "rownames(metadata_matched) <- metadata_matched$samplename"
   ]
  },
  {
   "cell_type": "code",
   "execution_count": null,
   "metadata": {
    "vscode": {
     "languageId": "r"
    }
   },
   "outputs": [],
   "source": [
    "head(metadata_matched)"
   ]
  },
  {
   "cell_type": "code",
   "execution_count": null,
   "metadata": {
    "vscode": {
     "languageId": "r"
    }
   },
   "outputs": [],
   "source": [
    "table(gliphdf$Family)"
   ]
  },
  {
   "cell_type": "code",
   "execution_count": null,
   "metadata": {
    "vscode": {
     "languageId": "r"
    }
   },
   "outputs": [],
   "source": [
    "head(gliphdf)"
   ]
  },
  {
   "cell_type": "code",
   "execution_count": null,
   "metadata": {
    "vscode": {
     "languageId": "r"
    }
   },
   "outputs": [],
   "source": [
    "tse_X01 <- TreeSummarizedExperiment(\n",
    "    assays = list(Count = as.matrix(pat_type)),\n",
    "    rowData = gliphdf,\n",
    "    colData = metadata_matched\n",
    ")"
   ]
  },
  {
   "cell_type": "code",
   "execution_count": null,
   "metadata": {
    "vscode": {
     "languageId": "r"
    }
   },
   "outputs": [],
   "source": [
    "table(metadata_matched$cancergroup)"
   ]
  },
  {
   "cell_type": "code",
   "execution_count": null,
   "metadata": {
    "vscode": {
     "languageId": "r"
    }
   },
   "outputs": [],
   "source": [
    "# tse_X01 <- onetest_tse[, colnames(onetest_tse)[grepl(\"X01\", colnames(onetest_tse)) ] ]\n",
    "\n",
    "# tse_X01 <- tse_X01[, colnames(tse_X01)[!grepl(\"T-cellmalignancies\", colnames(tse_X01)) ] ]"
   ]
  },
  {
   "cell_type": "code",
   "execution_count": null,
   "metadata": {
    "vscode": {
     "languageId": "r"
    }
   },
   "outputs": [],
   "source": [
    "nks <- gliphdf$gliph[ gliphdf$Family %in% c(\"NK\", \"TB\")]"
   ]
  },
  {
   "cell_type": "code",
   "execution_count": null,
   "metadata": {
    "vscode": {
     "languageId": "r"
    }
   },
   "outputs": [],
   "source": [
    "length(nks)"
   ]
  },
  {
   "cell_type": "code",
   "execution_count": null,
   "metadata": {
    "vscode": {
     "languageId": "r"
    }
   },
   "outputs": [],
   "source": [
    "tse_X01 <- tse_X01[ !rownames(tse_X01) %in% nks, ]"
   ]
  },
  {
   "cell_type": "code",
   "execution_count": null,
   "metadata": {
    "vscode": {
     "languageId": "r"
    }
   },
   "outputs": [],
   "source": [
    "tse_X01"
   ]
  },
  {
   "cell_type": "code",
   "execution_count": null,
   "metadata": {
    "vscode": {
     "languageId": "r"
    }
   },
   "outputs": [],
   "source": [
    "table(rowData(tse_X01)$Family)"
   ]
  },
  {
   "cell_type": "code",
   "execution_count": null,
   "metadata": {
    "vscode": {
     "languageId": "r"
    }
   },
   "outputs": [],
   "source": [
    "# colData(tse_X01)$cancergroup <- as.character(colData(tse_X01)$cancergroup)\n",
    "\n",
    "# colData(tse_X01) <- colData(tse_X01)[ colData(tse_X01)$cancergroup != \"T-cell malignancies\"]"
   ]
  },
  {
   "cell_type": "code",
   "execution_count": null,
   "metadata": {
    "vscode": {
     "languageId": "r"
    }
   },
   "outputs": [],
   "source": [
    "colData(tse_X01)$cancergroup <- factor(colData(tse_X01)$cancergroup, levels = c(\"Leukemia\", \"Lymphoma\", \"Solid tumors\"))"
   ]
  },
  {
   "cell_type": "code",
   "execution_count": null,
   "metadata": {
    "vscode": {
     "languageId": "r"
    }
   },
   "outputs": [],
   "source": [
    "table(rowData(tse_X01)$gliph)"
   ]
  },
  {
   "cell_type": "code",
   "execution_count": null,
   "metadata": {
    "vscode": {
     "languageId": "r"
    }
   },
   "outputs": [],
   "source": [
    "# readr::write_rds(onetest_tse, \"/Users/anabbi/Desktop/H4H/INTERCEPT/analysis/GLIPH/ancombc/int_gliph_tse_X01_pbmc.rds\")"
   ]
  },
  {
   "cell_type": "code",
   "execution_count": null,
   "metadata": {
    "vscode": {
     "languageId": "r"
    }
   },
   "outputs": [],
   "source": [
    "# rowData(tse_X01)$Family <- rowData(tse_X01)$gliph"
   ]
  },
  {
   "cell_type": "code",
   "execution_count": null,
   "metadata": {
    "vscode": {
     "languageId": "r"
    }
   },
   "outputs": [],
   "source": [
    "set.seed(111)"
   ]
  },
  {
   "cell_type": "code",
   "execution_count": null,
   "metadata": {
    "vscode": {
     "languageId": "r"
    }
   },
   "outputs": [],
   "source": [
    "out <- ancombc2(\n",
    "    data = tse_X01, assay_name = \"Count\",\n",
    "    tax_level = NULL, \n",
    "    fix_formula = \"cancergroup\", rand_formula = NULL,#\"(1|Patient)\",\n",
    "    p_adj_method = \"fdr\", \n",
    "    pseudo = 0, pseudo_sens = TRUE, # add pseudocounts\n",
    "    prv_cut = 0.01, # prevalence cutoff\n",
    "    lib_cut = 0, # library size cutoff\n",
    "    s0_perc = 0.05, \n",
    "    group = \"cancergroup\", \n",
    "    struc_zero = FALSE, \n",
    "    neg_lb = FALSE, # check this again\n",
    "    alpha = 0.05, \n",
    "    n_cl = 10, # number of nodes\n",
    "    verbose = TRUE,\n",
    "    global = TRUE, pairwise = TRUE, dunnet = TRUE, trend = FALSE, # test types\n",
    "    iter_control = list(tol = 1e-2, max_iter = 20, verbose = TRUE),\n",
    "    em_control = list(tol = 1e-5, max_iter = 100),\n",
    "    lme_control = lme4::lmerControl(),\n",
    "    mdfdr_control = list(fwer_ctrl_method = \"fdr\", B = 100)\n",
    ")\n"
   ]
  },
  {
   "cell_type": "code",
   "execution_count": null,
   "metadata": {
    "vscode": {
     "languageId": "r"
    }
   },
   "outputs": [],
   "source": [
    "# out <- readr::read_rds(\"/Users/anabbi/Desktop/H4H/INTERCEPT/analysis/GLIPH/ancombc/int_gliph_tse_X01_pbmc_res.rds\")"
   ]
  },
  {
   "cell_type": "code",
   "execution_count": null,
   "metadata": {
    "vscode": {
     "languageId": "r"
    }
   },
   "outputs": [],
   "source": [
    "myres <- out$res_pair"
   ]
  },
  {
   "cell_type": "code",
   "execution_count": null,
   "metadata": {
    "vscode": {
     "languageId": "r"
    }
   },
   "outputs": [],
   "source": [
    "myres"
   ]
  },
  {
   "cell_type": "code",
   "execution_count": null,
   "metadata": {
    "vscode": {
     "languageId": "r"
    }
   },
   "outputs": [],
   "source": [
    "out$res"
   ]
  },
  {
   "cell_type": "markdown",
   "metadata": {},
   "source": [
    "# v2\n",
    "\n",
    "table patterns, group gliph based on external db, run ancombc for cfdna and pbmc comparing baseline to post-chemo in each cancergroup"
   ]
  },
  {
   "cell_type": "code",
   "execution_count": null,
   "metadata": {
    "vscode": {
     "languageId": "r"
    }
   },
   "outputs": [],
   "source": [
    "meta_div <- readr::read_rds(paste0(datapath, \"capTCRseq/meta_div_goodsamples.rds\"))"
   ]
  },
  {
   "cell_type": "code",
   "execution_count": null,
   "metadata": {
    "vscode": {
     "languageId": "r"
    }
   },
   "outputs": [],
   "source": [
    "#remove those samples that we did not have the TCRseq data for\n",
    "meta_div <- meta_div[!is.na(meta_div$TRB),]"
   ]
  },
  {
   "cell_type": "code",
   "execution_count": null,
   "metadata": {
    "vscode": {
     "languageId": "r"
    }
   },
   "outputs": [],
   "source": [
    "gliph_out <- readr::read_csv(paste0(h4hpath, \"/v4/gliph_output/int_vdj_v4_cluster.csv\"), col_names = T) # default gliph reference dataset"
   ]
  },
  {
   "cell_type": "code",
   "execution_count": null,
   "metadata": {
    "vscode": {
     "languageId": "r"
    }
   },
   "outputs": [],
   "source": [
    "# remove columns starting with HLA\n",
    "gliph_out <- gliph_out[,!grepl(\"HLA\", colnames(gliph_out))]"
   ]
  },
  {
   "cell_type": "code",
   "execution_count": null,
   "metadata": {
    "vscode": {
     "languageId": "r"
    }
   },
   "outputs": [],
   "source": [
    "head(gliph_out)"
   ]
  },
  {
   "cell_type": "code",
   "execution_count": null,
   "metadata": {
    "vscode": {
     "languageId": "r"
    }
   },
   "outputs": [],
   "source": [
    "#  tmp <- gliph_out[gliph_out$number_subject >= 3,]\n",
    "#  tmp <- tmp[tmp$number_unique_cdr3 >= 3,]\n",
    "#   tmp <- tmp[tmp$Fisher_score < 0.001,]\n",
    "# tmp <- tmp[tmp$expansion_score < 0.01,]\n",
    "# tmp <- tmp[tmp$length_score < 0.002,]\n",
    "\n",
    "gliph_out_nosingle <- gliph_out[ gliph_out$pattern != \"single\",]"
   ]
  },
  {
   "cell_type": "code",
   "execution_count": null,
   "metadata": {
    "vscode": {
     "languageId": "r"
    }
   },
   "outputs": [],
   "source": [
    "dim(gliph_out)\n",
    "dim(gliph_out_nosingle)"
   ]
  },
  {
   "cell_type": "code",
   "execution_count": null,
   "metadata": {
    "vscode": {
     "languageId": "r"
    }
   },
   "outputs": [],
   "source": [
    "# only those gliph groups with >= 3 subjects from CHP\n",
    "chp <- gliph_out_nosingle[ grepl(\"Leukemia\", gliph_out_nosingle$Sample),]\n",
    "chp_sample <- chp[ grepl(\"cfDNA\", chp$Sample),]"
   ]
  },
  {
   "cell_type": "code",
   "execution_count": null,
   "metadata": {
    "vscode": {
     "languageId": "r"
    }
   },
   "outputs": [],
   "source": [
    "# pattern_pre_freq <- as.data.frame(table(chp_pre$pattern) , stringsAsFactors = F)\n",
    "# pattern_post_freq <- as.data.frame(table(chp_post$pattern) , stringsAsFactors = F)\n",
    "\n",
    "# myprepatterns <- pattern_pre_freq$Var1[ pattern_pre_freq$Freq >= 3 ]\n",
    "# mypostpatterns <- pattern_post_freq$Var1[ pattern_post_freq$Freq >= 3 ]"
   ]
  },
  {
   "cell_type": "code",
   "execution_count": null,
   "metadata": {
    "vscode": {
     "languageId": "r"
    }
   },
   "outputs": [],
   "source": [
    "# length(myprepatterns)\n",
    "# length(mypostpatterns)"
   ]
  },
  {
   "cell_type": "code",
   "execution_count": null,
   "metadata": {
    "vscode": {
     "languageId": "r"
    }
   },
   "outputs": [],
   "source": [
    "# mypatterns <- intersect(myprepatterns, mypostpatterns)"
   ]
  },
  {
   "cell_type": "code",
   "execution_count": null,
   "metadata": {
    "vscode": {
     "languageId": "r"
    }
   },
   "outputs": [],
   "source": [
    "# subset the original gliph_out_nosingle to mypatterns to keep the external database\n",
    "# gliph_out_nosingle_chppatterns <- gliph_out_nosingle#[gliph_out_nosingle$pattern %in% mypatterns,]"
   ]
  },
  {
   "cell_type": "code",
   "execution_count": null,
   "metadata": {
    "vscode": {
     "languageId": "r"
    }
   },
   "outputs": [],
   "source": [
    "dim(gliph_out_nosingle)\n",
    "# dim(gliph_out_nosingle_chppatterns)"
   ]
  },
  {
   "cell_type": "code",
   "execution_count": null,
   "metadata": {
    "vscode": {
     "languageId": "r"
    }
   },
   "outputs": [],
   "source": [
    "# get the matrix of GLIPH x samples\n",
    "pat_type <- as.data.frame.matrix(table(gliph_out_nosingle %>% select(pattern, Sample)))"
   ]
  },
  {
   "cell_type": "code",
   "execution_count": null,
   "metadata": {
    "vscode": {
     "languageId": "r"
    }
   },
   "outputs": [],
   "source": [
    "head(pat_type)"
   ]
  },
  {
   "cell_type": "code",
   "execution_count": null,
   "metadata": {
    "vscode": {
     "languageId": "r"
    }
   },
   "outputs": [],
   "source": [
    "pat_type <- pat_type[, grepl(\"CHP\", colnames(pat_type))]"
   ]
  },
  {
   "cell_type": "code",
   "execution_count": null,
   "metadata": {
    "vscode": {
     "languageId": "r"
    }
   },
   "outputs": [],
   "source": [
    "# make a samplename to match subject:condition of gliph_out\n",
    "meta_div$samplename <- paste0(meta_div$cancergroup, \":\", meta_div$Patient, \"_\", meta_div$cycle, \"-\", meta_div$sampletype)\n",
    "meta_div$samplename <- gsub(\" \", \"\", meta_div$samplename)"
   ]
  },
  {
   "cell_type": "code",
   "execution_count": null,
   "metadata": {
    "vscode": {
     "languageId": "r"
    }
   },
   "outputs": [],
   "source": [
    "table(meta_div$cancergroup)"
   ]
  },
  {
   "cell_type": "code",
   "execution_count": null,
   "metadata": {
    "vscode": {
     "languageId": "r"
    }
   },
   "outputs": [],
   "source": [
    "meta_div <- meta_div[ meta_div$cancergroup %in% c(\"Solid tumors\", \"Leukemia\", \"Lymphoma\", \"T-cell malignancies\"),]"
   ]
  },
  {
   "cell_type": "code",
   "execution_count": null,
   "metadata": {
    "vscode": {
     "languageId": "r"
    }
   },
   "outputs": [],
   "source": [
    "meta_div_sampletype <- meta_div[ meta_div$sampletype == \"cfDNA\",]\n",
    "\n",
    "meta_div_sampletype_cancer <- meta_div_sampletype[ meta_div_sampletype$cancergroup == \"Leukemia\",]"
   ]
  },
  {
   "cell_type": "code",
   "execution_count": null,
   "metadata": {
    "vscode": {
     "languageId": "r"
    }
   },
   "outputs": [],
   "source": [
    "table(meta_div_sampletype_cancer$cycle)"
   ]
  },
  {
   "cell_type": "code",
   "execution_count": null,
   "metadata": {
    "vscode": {
     "languageId": "r"
    }
   },
   "outputs": [],
   "source": [
    "myfreq <- as.data.frame(table(meta_div_sampletype_cancer$Patient) )"
   ]
  },
  {
   "cell_type": "code",
   "execution_count": null,
   "metadata": {
    "vscode": {
     "languageId": "r"
    }
   },
   "outputs": [],
   "source": [
    "mypts <- myfreq$Var1[ myfreq$Freq > 1]"
   ]
  },
  {
   "cell_type": "code",
   "execution_count": null,
   "metadata": {
    "vscode": {
     "languageId": "r"
    }
   },
   "outputs": [],
   "source": [
    "meta_div_sampletype_cancer <- meta_div_sampletype_cancer[ meta_div_sampletype_cancer$Patient %in% mypts,]"
   ]
  },
  {
   "cell_type": "code",
   "execution_count": null,
   "metadata": {
    "vscode": {
     "languageId": "r"
    }
   },
   "outputs": [],
   "source": [
    "# subset the matrix to match samples in the metadata\n",
    "pat_type <- pat_type[ rowSums(pat_type) > 2, colnames(pat_type) %in% meta_div_sampletype_cancer$samplename ]\n",
    "# match metadata to the matrix\n",
    "metadata_matched <- meta_div_sampletype_cancer[match(colnames(pat_type), meta_div_sampletype_cancer$samplename), ]"
   ]
  },
  {
   "cell_type": "code",
   "execution_count": null,
   "metadata": {
    "vscode": {
     "languageId": "r"
    }
   },
   "outputs": [],
   "source": [
    "dim(metadata_matched)\n",
    "dim(pat_type)"
   ]
  },
  {
   "cell_type": "markdown",
   "metadata": {},
   "source": [
    "Make rowData"
   ]
  },
  {
   "cell_type": "code",
   "execution_count": null,
   "metadata": {
    "vscode": {
     "languageId": "r"
    }
   },
   "outputs": [],
   "source": [
    "gliphdf <- data.frame(gliph = rownames(pat_type))\n",
    "rownames(gliphdf) <- gliphdf$gliph"
   ]
  },
  {
   "cell_type": "code",
   "execution_count": null,
   "metadata": {
    "vscode": {
     "languageId": "r"
    }
   },
   "outputs": [],
   "source": [
    "gliph_out_nosingle$subject <- gsub(\":.*\", \"\", gliph_out_nosingle$Sample)"
   ]
  },
  {
   "cell_type": "code",
   "execution_count": null,
   "metadata": {
    "vscode": {
     "languageId": "r"
    }
   },
   "outputs": [],
   "source": [
    "head(gliph_out_nosingle[, c(\"subject\", \"Sample\")])"
   ]
  },
  {
   "cell_type": "code",
   "execution_count": null,
   "metadata": {
    "vscode": {
     "languageId": "r"
    }
   },
   "outputs": [],
   "source": [
    "names(table(gliph_out_nosingle$subject[!grepl(\"CHP\", gliph_out_nosingle$Sample)]))"
   ]
  },
  {
   "cell_type": "code",
   "execution_count": null,
   "metadata": {
    "vscode": {
     "languageId": "r"
    }
   },
   "outputs": [],
   "source": [
    "#rmeove LFS cases\n",
    "gliph_out_nosingle <- gliph_out_nosingle[!grepl(\"LFS\", gliph_out_nosingle$subject),]"
   ]
  },
  {
   "cell_type": "code",
   "execution_count": null,
   "metadata": {
    "vscode": {
     "languageId": "r"
    }
   },
   "outputs": [],
   "source": [
    "names(table(gliph_out_nosingle$subject[!grepl(\"CHP\", gliph_out_nosingle$Sample)]))"
   ]
  },
  {
   "cell_type": "code",
   "execution_count": null,
   "metadata": {
    "vscode": {
     "languageId": "r"
    }
   },
   "outputs": [],
   "source": [
    "for(i in 1:nrow(gliphdf)){\n",
    "\n",
    "mygliph <- gliph_out_nosingle[gliph_out_nosingle$pattern == gliphdf$gliph[i],]\n",
    "# add 1 in gliphdf$CMV, if mygliph$subject ciontains CMV\n",
    "gliphdf$CMV[i] <- ifelse(sum(grepl(\"CMV\", mygliph$subject)) > 0, sum(grepl(\"CMV\", mygliph$subject)), 0)\n",
    "gliphdf$EBV[i] <- ifelse(sum(grepl(\"EBV\", mygliph$subject)) > 0, sum(grepl(\"EBV\", mygliph$subject)), 0)\n",
    "gliphdf$HCV[i] <- ifelse(sum(grepl(\"HCV\", mygliph$subject)) > 0, sum(grepl(\"HCV\", mygliph$subject)), 0)\n",
    "gliphdf$Flu[i] <- ifelse(sum(grepl(\"Influenza\", mygliph$subject)) > 0, sum(grepl(\"Influenza\", mygliph$subject)), 0)\n",
    "\n",
    "gliphdf$hs[i] <- ifelse(sum(grepl(\"HomoSapiens\", mygliph$subject)) > 0, sum(grepl(\"HomoSapiens\", mygliph$subject)), 0)\n",
    "gliphdf$hs[i] <- ifelse(sum(grepl(\"MDavis\", mygliph$subject)) > 0, sum(grepl(\"MDavis\", mygliph$subject)), 0)\n",
    "\n",
    "gliphdf$HPV[i] <- ifelse(sum(grepl(\"HPV\", mygliph$subject)) > 0, sum(grepl(\"HPV\", mygliph$subject)), 0)\n",
    "gliphdf$CEF[i] <- ifelse(sum(grepl(\"CEF\", mygliph$subject)) > 0, sum(grepl(\"CEF\", mygliph$subject)), 0)\n",
    "gliphdf$TB[i] <- ifelse(sum(grepl(\"M.tuberculosis\", mygliph$subject)) > 0, sum(grepl(\"M.tuberculosis\", mygliph$subject)), 0)\n",
    "gliphdf$MCPyV[i] <- ifelse(sum(grepl(\"MCPyV\", mygliph$subject)) > 0, sum(grepl(\"MCPyV\", mygliph$subject)), 0)\n",
    "gliphdf$SP[i] <- ifelse(sum(grepl(\"S-pneumoniae\", mygliph$subject)) > 0, sum(grepl(\"S-pneumoniae\", mygliph$subject)), 0)\n",
    "\n",
    "gliphdf$SP[i] <- ifelse(sum(grepl(\"HTLV-1\", mygliph$subject)) > 0, sum(grepl(\"HTLV-1\", mygliph$subject)), 0)\n",
    "gliphdf$SP[i] <- ifelse(sum(grepl(\"DENV\", mygliph$subject)) > 0, sum(grepl(\"DENV\", mygliph$subject)), 0)\n",
    "}"
   ]
  },
  {
   "cell_type": "code",
   "execution_count": null,
   "metadata": {
    "vscode": {
     "languageId": "r"
    }
   },
   "outputs": [],
   "source": [
    "head(gliphdf)"
   ]
  },
  {
   "cell_type": "code",
   "execution_count": null,
   "metadata": {
    "vscode": {
     "languageId": "r"
    }
   },
   "outputs": [],
   "source": [
    "gliphdf$Family <- NA\n",
    "\n",
    "for (i in 1:nrow(gliphdf)) {\n",
    "    mygliph <- gliph_out_nosingle[gliph_out_nosingle$pattern == gliphdf$gliph[i], ]\n",
    "    # add CMV to gliphdf$Family, if CMV is in mygliph$subject\n",
    "    gliphdf$Family[i] <- ifelse(sum(grepl(\"CMV\", mygliph$subject)) > 0, \"CMV\", \"\")\n",
    "    gliphdf$Family[i] <- ifelse(sum(grepl(\"EBV\", mygliph$subject)) > 0, paste0(\"EBV_\", gliphdf$Family[i]), gliphdf$Family[i])\n",
    "    gliphdf$Family[i] <- ifelse(sum(grepl(\"HCV\", mygliph$subject)) > 0, paste0(\"HCV_\", gliphdf$Family[i]), gliphdf$Family[i])\n",
    "    gliphdf$Family[i] <- ifelse(sum(grepl(\"Influenza\", mygliph$subject)) > 0, paste0(\"Flu_\", gliphdf$Family[i]), gliphdf$Family[i])\n",
    "    gliphdf$Family[i] <- ifelse(sum(grepl(\"HomoSapiens\", mygliph$subject)) > 0, paste0(\"hs_\", gliphdf$Family[i]), gliphdf$Family[i])\n",
    "    gliphdf$Family[i] <- ifelse(sum(grepl(\"HPV\", mygliph$subject)) > 0, paste0(\"HPV_\", gliphdf$Family[i]), gliphdf$Family[i])\n",
    "    gliphdf$Family[i] <- ifelse(sum(grepl(\"CEF\", mygliph$subject)) > 0, paste0(\"CEF_\", gliphdf$Family[i]), gliphdf$Family[i])\n",
    "    gliphdf$Family[i] <- ifelse(sum(grepl(\"M.tuberculosis\", mygliph$subject)) > 0, paste0(\"TB_\", gliphdf$Family[i]), gliphdf$Family[i])\n",
    "    gliphdf$Family[i] <- ifelse(sum(grepl(\"MCPyV\", mygliph$subject)) > 0, paste0(\"MCPyV_\", gliphdf$Family[i]), gliphdf$Family[i])\n",
    "    gliphdf$Family[i] <- ifelse(sum(grepl(\"MDavis\", mygliph$subject)) > 0, paste0(\"hs_\", gliphdf$Family[i]), gliphdf$Family[i])\n",
    "    gliphdf$Family[i] <- ifelse(sum(grepl(\"S-pneumoniae\", mygliph$subject)) > 0, paste0(\"SP_\", gliphdf$Family[i]), gliphdf$Family[i])\n",
    "    gliphdf$Family[i] <- ifelse(sum(grepl(\"DENV\", mygliph$subject)) > 0, paste0(\"DENV_\", gliphdf$Family[i]), gliphdf$Family[i])\n",
    "    gliphdf$Family[i] <- ifelse(sum(grepl(\"HTLV\", mygliph$subject)) > 0, paste0(\"HTLV_\", gliphdf$Family[i]), gliphdf$Family[i])\n",
    "\n",
    "}"
   ]
  },
  {
   "cell_type": "code",
   "execution_count": null,
   "metadata": {
    "vscode": {
     "languageId": "r"
    }
   },
   "outputs": [],
   "source": [
    "head(gliphdf)"
   ]
  },
  {
   "cell_type": "code",
   "execution_count": null,
   "metadata": {
    "vscode": {
     "languageId": "r"
    }
   },
   "outputs": [],
   "source": [
    "for (i in 1:nrow(gliphdf)) {\n",
    "    mygliph <- gliph_out_nosingle[gliph_out_nosingle$pattern == gliphdf$gliph[i], ]\n",
    "    gliphdf$n_cdr3[i] <- nrow(mygliph)\n",
    "}"
   ]
  },
  {
   "cell_type": "code",
   "execution_count": null,
   "metadata": {
    "vscode": {
     "languageId": "r"
    }
   },
   "outputs": [],
   "source": [
    "head(gliphdf[ gliphdf$Family != \"\",],10)"
   ]
  },
  {
   "cell_type": "code",
   "execution_count": null,
   "metadata": {
    "vscode": {
     "languageId": "r"
    }
   },
   "outputs": [],
   "source": [
    "gliphdf$Family[gliphdf$Family == \"\" ] <- \"NK\""
   ]
  },
  {
   "cell_type": "code",
   "execution_count": null,
   "metadata": {
    "vscode": {
     "languageId": "r"
    }
   },
   "outputs": [],
   "source": [
    "levels(as.factor(gliphdf$Family))"
   ]
  },
  {
   "cell_type": "code",
   "execution_count": null,
   "metadata": {
    "vscode": {
     "languageId": "r"
    }
   },
   "outputs": [],
   "source": [
    "# cleanup\n",
    "gliphdf$Family <- gsub(\"_$\", \"\", gliphdf$Family)\n",
    "gliphdf$Family[ gliphdf$Family == \"hs_hs\"] <- \"hs\"\n",
    "gliphdf$Family <- gsub(\"hs_hs\", \"hs\", gliphdf$Family)"
   ]
  },
  {
   "cell_type": "code",
   "execution_count": null,
   "metadata": {
    "vscode": {
     "languageId": "r"
    }
   },
   "outputs": [],
   "source": [
    "levels(as.factor(gliphdf$Family))"
   ]
  },
  {
   "cell_type": "code",
   "execution_count": null,
   "metadata": {
    "vscode": {
     "languageId": "r"
    }
   },
   "outputs": [],
   "source": [
    "# species = gliph, genus = original annotations, family = grouped annotations\n",
    "gliphdf$Genus <- gliphdf$Family"
   ]
  },
  {
   "cell_type": "code",
   "execution_count": null,
   "metadata": {
    "vscode": {
     "languageId": "r"
    }
   },
   "outputs": [],
   "source": [
    "gliphdf$Family[grepl(\"hs_\", gliphdf$Family)] <- \"cross-reactive\"\n",
    "gliphdf$Family[grepl(\"_hs\", gliphdf$Family)] <- \"cross-reactive\"\n",
    "gliphdf$Family[ gliphdf$Family %in% c(\"CMV\", \"EBV\", \"HPV\", \"HCV\", \"MCPyV\", \"HTLV\", \"Flu\", \"DENV\", \"CEF\")] <- \"Viral\"\n",
    "gliphdf$Family[grepl(\"_\", gliphdf$Family)] <- \"Viral\""
   ]
  },
  {
   "cell_type": "code",
   "execution_count": null,
   "metadata": {
    "vscode": {
     "languageId": "r"
    }
   },
   "outputs": [],
   "source": [
    "levels(as.factor(gliphdf$Genus))\n",
    "levels(as.factor(gliphdf$Family))"
   ]
  },
  {
   "cell_type": "markdown",
   "metadata": {},
   "source": [
    "Create TreeSummarizedExperiment to input to ANCOMBC"
   ]
  },
  {
   "cell_type": "code",
   "execution_count": null,
   "metadata": {
    "vscode": {
     "languageId": "r"
    }
   },
   "outputs": [],
   "source": [
    "table(metadata_matched$cancergroup)"
   ]
  },
  {
   "cell_type": "code",
   "execution_count": null,
   "metadata": {
    "vscode": {
     "languageId": "r"
    }
   },
   "outputs": [],
   "source": [
    "rownames(metadata_matched) <- metadata_matched$samplename"
   ]
  },
  {
   "cell_type": "code",
   "execution_count": null,
   "metadata": {
    "vscode": {
     "languageId": "r"
    }
   },
   "outputs": [],
   "source": [
    "head(metadata_matched)"
   ]
  },
  {
   "cell_type": "code",
   "execution_count": null,
   "metadata": {
    "vscode": {
     "languageId": "r"
    }
   },
   "outputs": [],
   "source": [
    "table(gliphdf$Family)"
   ]
  },
  {
   "cell_type": "code",
   "execution_count": null,
   "metadata": {
    "vscode": {
     "languageId": "r"
    }
   },
   "outputs": [],
   "source": [
    "head(gliphdf)"
   ]
  },
  {
   "cell_type": "code",
   "execution_count": null,
   "metadata": {
    "vscode": {
     "languageId": "r"
    }
   },
   "outputs": [],
   "source": [
    "metadata_matched$mygroup <- NA\n",
    "metadata_matched$mygroup[metadata_matched$cycle == \"X01\"] <- \"Pre\"\n",
    "metadata_matched$mygroup[metadata_matched$cycle != \"X01\"] <- \"Post\""
   ]
  },
  {
   "cell_type": "code",
   "execution_count": null,
   "metadata": {
    "vscode": {
     "languageId": "r"
    }
   },
   "outputs": [],
   "source": [
    "table(metadata_matched$mygroup)"
   ]
  },
  {
   "cell_type": "code",
   "execution_count": null,
   "metadata": {
    "vscode": {
     "languageId": "r"
    }
   },
   "outputs": [],
   "source": [
    "tse_cycle <- TreeSummarizedExperiment(\n",
    "    assays = list(Count = as.matrix(pat_type)),\n",
    "    rowData = gliphdf,\n",
    "    colData = metadata_matched\n",
    ")"
   ]
  },
  {
   "cell_type": "code",
   "execution_count": null,
   "metadata": {
    "vscode": {
     "languageId": "r"
    }
   },
   "outputs": [],
   "source": [
    "tse_cycle"
   ]
  },
  {
   "cell_type": "code",
   "execution_count": null,
   "metadata": {
    "vscode": {
     "languageId": "r"
    }
   },
   "outputs": [],
   "source": [
    "table(metadata_matched$mygroup)"
   ]
  },
  {
   "cell_type": "code",
   "execution_count": null,
   "metadata": {
    "vscode": {
     "languageId": "r"
    }
   },
   "outputs": [],
   "source": [
    "# tse_X01 <- onetest_tse[, colnames(onetest_tse)[grepl(\"X01\", colnames(onetest_tse)) ] ]\n",
    "\n",
    "# tse_X01 <- tse_X01[, colnames(tse_X01)[!grepl(\"T-cellmalignancies\", colnames(tse_X01)) ] ]"
   ]
  },
  {
   "cell_type": "code",
   "execution_count": null,
   "metadata": {
    "vscode": {
     "languageId": "r"
    }
   },
   "outputs": [],
   "source": [
    "nks <- gliphdf$gliph[ gliphdf$Family %in% c(\"NK\")]"
   ]
  },
  {
   "cell_type": "code",
   "execution_count": null,
   "metadata": {
    "vscode": {
     "languageId": "r"
    }
   },
   "outputs": [],
   "source": [
    "length(nks)"
   ]
  },
  {
   "cell_type": "code",
   "execution_count": null,
   "metadata": {
    "vscode": {
     "languageId": "r"
    }
   },
   "outputs": [],
   "source": [
    "tse_cycle <- tse_cycle[ !rownames(tse_cycle) %in% nks, ]"
   ]
  },
  {
   "cell_type": "code",
   "execution_count": null,
   "metadata": {
    "vscode": {
     "languageId": "r"
    }
   },
   "outputs": [],
   "source": [
    "tse_cycle"
   ]
  },
  {
   "cell_type": "code",
   "execution_count": null,
   "metadata": {
    "vscode": {
     "languageId": "r"
    }
   },
   "outputs": [],
   "source": [
    "table(colData(tse_cycle)$mygroup, useNA = \"ifany\")"
   ]
  },
  {
   "cell_type": "code",
   "execution_count": null,
   "metadata": {
    "vscode": {
     "languageId": "r"
    }
   },
   "outputs": [],
   "source": [
    "head(rowSums(assay(tse_cycle)))"
   ]
  },
  {
   "cell_type": "code",
   "execution_count": null,
   "metadata": {
    "vscode": {
     "languageId": "r"
    }
   },
   "outputs": [],
   "source": [
    "# readr::write_rds(tse_cycle, \"/Users/anabbi/Desktop/H4H/INTERCEPT/analysis/GLIPH/ancombc/int_gliph_tse_leu_pre_post_cfdna.rds\")"
   ]
  },
  {
   "cell_type": "code",
   "execution_count": null,
   "metadata": {
    "vscode": {
     "languageId": "r"
    }
   },
   "outputs": [],
   "source": [
    "# rowData(tse_X01)$Family <- rowData(tse_X01)$gliph"
   ]
  },
  {
   "cell_type": "code",
   "execution_count": null,
   "metadata": {
    "vscode": {
     "languageId": "r"
    }
   },
   "outputs": [],
   "source": [
    "set.seed(111)"
   ]
  },
  {
   "cell_type": "code",
   "execution_count": null,
   "metadata": {
    "vscode": {
     "languageId": "r"
    }
   },
   "outputs": [],
   "source": [
    "out <- ancombc2(\n",
    "    data = tse_cycle, assay_name = \"counts\",\n",
    "    tax_level = \"Family\", \n",
    "    fix_formula = \"mygroup\", rand_formula = \"(1|Patient)\",\n",
    "    p_adj_method = \"fdr\", \n",
    "    pseudo = 0, pseudo_sens = TRUE, # add pseudocounts\n",
    "    prv_cut = 0.02, # prevalence cutoff\n",
    "    lib_cut = 0, # library size cutoff\n",
    "    s0_perc = 0.05, \n",
    "    group = \"mygroup\", \n",
    "    struc_zero = FALSE, \n",
    "    neg_lb = FALSE, # check this again\n",
    "    alpha = 0.05, \n",
    "    n_cl = 10, # number of nodes\n",
    "    verbose = TRUE,\n",
    "    global = FALSE, pairwise = FALSE, dunnet = FALSE, trend = FALSE, # test types\n",
    "    iter_control = list(tol = 1e-2, max_iter = 20, verbose = TRUE),\n",
    "    em_control = list(tol = 1e-5, max_iter = 100),\n",
    "    lme_control = lme4::lmerControl(),\n",
    "    mdfdr_control = list(fwer_ctrl_method = \"fdr\", B = 100)\n",
    ")\n"
   ]
  },
  {
   "cell_type": "code",
   "execution_count": null,
   "metadata": {
    "vscode": {
     "languageId": "r"
    }
   },
   "outputs": [],
   "source": [
    "out <- readr::read_rds(\"/Users/anabbi/Desktop/H4H/INTERCEPT/analysis/GLIPH/ancombc/int_gliph_leu_pre_post_cfdna_taxares.rds\")"
   ]
  },
  {
   "cell_type": "code",
   "execution_count": null,
   "metadata": {
    "vscode": {
     "languageId": "r"
    }
   },
   "outputs": [],
   "source": [
    "out$res"
   ]
  },
  {
   "cell_type": "markdown",
   "metadata": {},
   "source": [
    "# v3\n",
    "include clonecounts in gliph groups"
   ]
  },
  {
   "cell_type": "code",
   "execution_count": null,
   "metadata": {
    "vscode": {
     "languageId": "r"
    }
   },
   "outputs": [],
   "source": [
    "meta_div <- readr::read_rds(paste0(datapath, \"capTCRseq/meta_div_goodsamples.rds\"))"
   ]
  },
  {
   "cell_type": "code",
   "execution_count": null,
   "metadata": {
    "vscode": {
     "languageId": "r"
    }
   },
   "outputs": [],
   "source": [
    "#remove those samples that we did not have the TCRseq data for\n",
    "meta_div <- meta_div[!is.na(meta_div$TRB),]"
   ]
  },
  {
   "cell_type": "code",
   "execution_count": null,
   "metadata": {
    "vscode": {
     "languageId": "r"
    }
   },
   "outputs": [],
   "source": [
    "gliph_out <- readr::read_csv(paste0(h4hpath, \"/v4/gliph_output/int_vdj_v4_cluster.csv\"), col_names = T) # default gliph reference dataset"
   ]
  },
  {
   "cell_type": "code",
   "execution_count": null,
   "metadata": {
    "vscode": {
     "languageId": "r"
    }
   },
   "outputs": [],
   "source": [
    "# remove columns starting with HLA\n",
    "gliph_out <- gliph_out[,!grepl(\"HLA\", colnames(gliph_out))]"
   ]
  },
  {
   "cell_type": "code",
   "execution_count": null,
   "metadata": {
    "vscode": {
     "languageId": "r"
    }
   },
   "outputs": [],
   "source": [
    "head(gliph_out)"
   ]
  },
  {
   "cell_type": "code",
   "execution_count": null,
   "metadata": {
    "vscode": {
     "languageId": "r"
    }
   },
   "outputs": [],
   "source": [
    "#  tmp <- gliph_out[gliph_out$number_subject >= 3,]\n",
    "#  tmp <- tmp[tmp$number_unique_cdr3 >= 3,]\n",
    "#   tmp <- tmp[tmp$Fisher_score < 0.001,]\n",
    "# tmp <- tmp[tmp$expansion_score < 0.01,]\n",
    "# tmp <- tmp[tmp$length_score < 0.002,]\n",
    "\n",
    "gliph_out_nosingle <- gliph_out[ gliph_out$pattern != \"single\",]"
   ]
  },
  {
   "cell_type": "code",
   "execution_count": null,
   "metadata": {
    "vscode": {
     "languageId": "r"
    }
   },
   "outputs": [],
   "source": [
    "dim(gliph_out)\n",
    "dim(gliph_out_nosingle)"
   ]
  },
  {
   "cell_type": "code",
   "execution_count": null,
   "metadata": {
    "vscode": {
     "languageId": "r"
    }
   },
   "outputs": [],
   "source": [
    "# only those gliph groups with >= 3 baseline subjects from CHP\n",
    "chp <- gliph_out_nosingle[ grepl(\"CHP\", gliph_out_nosingle$Sample),]\n",
    "chp_x01 <- chp[ grepl(\"X01\", chp$Sample),]\n",
    "chp_x01_sample <- chp_x01[ grepl(\"PBMC\", chp_x01$Sample),]"
   ]
  },
  {
   "cell_type": "code",
   "execution_count": null,
   "metadata": {
    "vscode": {
     "languageId": "r"
    }
   },
   "outputs": [],
   "source": [
    "pattern_freq <- as.data.frame(table(chp_x01_sample$pattern) , stringsAsFactors = F)\n",
    "mypatterns <- pattern_freq$Var1[ pattern_freq$Freq >= 3 ]"
   ]
  },
  {
   "cell_type": "code",
   "execution_count": null,
   "metadata": {
    "vscode": {
     "languageId": "r"
    }
   },
   "outputs": [],
   "source": [
    "# pattern_pre_freq <- as.data.frame(table(chp_pre$pattern) , stringsAsFactors = F)\n",
    "# pattern_post_freq <- as.data.frame(table(chp_post$pattern) , stringsAsFactors = F)\n",
    "\n",
    "# myprepatterns <- pattern_pre_freq$Var1[ pattern_pre_freq$Freq >= 3 ]\n",
    "# mypostpatterns <- pattern_post_freq$Var1[ pattern_post_freq$Freq >= 3 ]"
   ]
  },
  {
   "cell_type": "code",
   "execution_count": null,
   "metadata": {
    "vscode": {
     "languageId": "r"
    }
   },
   "outputs": [],
   "source": [
    "# length(myprepatterns)\n",
    "# length(mypostpatterns)"
   ]
  },
  {
   "cell_type": "code",
   "execution_count": null,
   "metadata": {
    "vscode": {
     "languageId": "r"
    }
   },
   "outputs": [],
   "source": [
    "# mypatterns <- intersect(myprepatterns, mypostpatterns)"
   ]
  },
  {
   "cell_type": "code",
   "execution_count": null,
   "metadata": {
    "vscode": {
     "languageId": "r"
    }
   },
   "outputs": [],
   "source": [
    "# subset the original gliph_out_nosingle to mypatterns to keep the external database\n",
    "gliph_out_nosingle_chppatterns <- gliph_out_nosingle[gliph_out_nosingle$pattern %in% mypatterns,]"
   ]
  },
  {
   "cell_type": "code",
   "execution_count": null,
   "metadata": {
    "vscode": {
     "languageId": "r"
    }
   },
   "outputs": [],
   "source": [
    "dim(gliph_out_nosingle)\n",
    "dim(gliph_out_nosingle_chppatterns)"
   ]
  },
  {
   "cell_type": "code",
   "execution_count": null,
   "metadata": {
    "vscode": {
     "languageId": "r"
    }
   },
   "outputs": [],
   "source": [
    "head(gliph_out_nosingle_chppatterns)"
   ]
  },
  {
   "cell_type": "code",
   "execution_count": null,
   "metadata": {
    "vscode": {
     "languageId": "r"
    }
   },
   "outputs": [],
   "source": [
    "pat_type <- gliph_out_nosingle_chppatterns[, c(\"pattern\", \"Sample\", \"Freq\")] %>%\n",
    "  tidyr::pivot_wider(names_from = Sample, values_from = Freq, values_fn = sum, values_fill = 0)"
   ]
  },
  {
   "cell_type": "code",
   "execution_count": null,
   "metadata": {
    "vscode": {
     "languageId": "r"
    }
   },
   "outputs": [],
   "source": [
    "pat_type <- as.data.frame(pat_type)\n",
    "rownames(pat_type) <- pat_type$pattern\n",
    "pat_type$pattern <- NULL"
   ]
  },
  {
   "cell_type": "code",
   "execution_count": null,
   "metadata": {
    "vscode": {
     "languageId": "r"
    }
   },
   "outputs": [],
   "source": [
    "head(pat_type)"
   ]
  },
  {
   "cell_type": "code",
   "execution_count": null,
   "metadata": {
    "vscode": {
     "languageId": "r"
    }
   },
   "outputs": [],
   "source": [
    "# # get the matrix of GLIPH x samples\n",
    "# pat_type <- as.data.frame.matrix(table(gliph_out_nosingle_chppatterns %>% select(pattern, Sample)))"
   ]
  },
  {
   "cell_type": "code",
   "execution_count": null,
   "metadata": {
    "vscode": {
     "languageId": "r"
    }
   },
   "outputs": [],
   "source": [
    "pat_type <- pat_type[, grepl(\"CHP\", colnames(pat_type))]"
   ]
  },
  {
   "cell_type": "code",
   "execution_count": null,
   "metadata": {
    "vscode": {
     "languageId": "r"
    }
   },
   "outputs": [],
   "source": [
    "# make a samplename to match subject:condition of gliph_out\n",
    "meta_div$samplename <- paste0(meta_div$cancergroup, \":\", meta_div$Patient, \"_\", meta_div$cycle, \"-\", meta_div$sampletype)\n",
    "meta_div$samplename <- gsub(\" \", \"\", meta_div$samplename)"
   ]
  },
  {
   "cell_type": "code",
   "execution_count": null,
   "metadata": {
    "vscode": {
     "languageId": "r"
    }
   },
   "outputs": [],
   "source": [
    "table(meta_div$cancergroup)"
   ]
  },
  {
   "cell_type": "code",
   "execution_count": null,
   "metadata": {
    "vscode": {
     "languageId": "r"
    }
   },
   "outputs": [],
   "source": [
    "meta_div <- meta_div[ meta_div$cancergroup %in% c(\"Solid tumors\", \"Leukemia\", \"Lymphoma\"),]"
   ]
  },
  {
   "cell_type": "code",
   "execution_count": null,
   "metadata": {
    "vscode": {
     "languageId": "r"
    }
   },
   "outputs": [],
   "source": [
    "meta_div_sampletype <- meta_div[ meta_div$sampletype == \"PBMC\",]\n",
    "\n",
    "meta_div_sampletype_x01 <- meta_div_sampletype[ meta_div_sampletype$cycle == \"X01\",]"
   ]
  },
  {
   "cell_type": "code",
   "execution_count": null,
   "metadata": {
    "vscode": {
     "languageId": "r"
    }
   },
   "outputs": [],
   "source": [
    "table(meta_div_sampletype_x01$cancergroup)"
   ]
  },
  {
   "cell_type": "code",
   "execution_count": null,
   "metadata": {
    "vscode": {
     "languageId": "r"
    }
   },
   "outputs": [],
   "source": [
    "myfreq <- as.data.frame(table(meta_div_sampletype_x01$Patient) )"
   ]
  },
  {
   "cell_type": "code",
   "execution_count": null,
   "metadata": {
    "vscode": {
     "languageId": "r"
    }
   },
   "outputs": [],
   "source": [
    "# mypts <- myfreq$Var1[ myfreq$Freq > 1]"
   ]
  },
  {
   "cell_type": "code",
   "execution_count": null,
   "metadata": {
    "vscode": {
     "languageId": "r"
    }
   },
   "outputs": [],
   "source": [
    "# meta_div_sampletype_cancer <- meta_div_sampletype_cancer[ meta_div_sampletype_cancer$Patient %in% mypts,]"
   ]
  },
  {
   "cell_type": "code",
   "execution_count": null,
   "metadata": {
    "vscode": {
     "languageId": "r"
    }
   },
   "outputs": [],
   "source": [
    "# subset the matrix to match samples in the metadata\n",
    "pat_type <- pat_type[ , colnames(pat_type) %in% meta_div_sampletype_x01$samplename ]\n",
    "# match metadata to the matrix\n",
    "metadata_matched <- meta_div_sampletype_x01[match(colnames(pat_type), meta_div_sampletype_x01$samplename), ]"
   ]
  },
  {
   "cell_type": "code",
   "execution_count": null,
   "metadata": {
    "vscode": {
     "languageId": "r"
    }
   },
   "outputs": [],
   "source": [
    "dim(metadata_matched)\n",
    "dim(pat_type)"
   ]
  },
  {
   "cell_type": "markdown",
   "metadata": {},
   "source": [
    "Make rowData"
   ]
  },
  {
   "cell_type": "code",
   "execution_count": null,
   "metadata": {
    "vscode": {
     "languageId": "r"
    }
   },
   "outputs": [],
   "source": [
    "head(pat_type)"
   ]
  },
  {
   "cell_type": "code",
   "execution_count": null,
   "metadata": {
    "vscode": {
     "languageId": "r"
    }
   },
   "outputs": [],
   "source": [
    "gliphdf <- data.frame(gliph = rownames(pat_type))\n",
    "rownames(gliphdf) <- gliphdf$gliph"
   ]
  },
  {
   "cell_type": "code",
   "execution_count": null,
   "metadata": {
    "vscode": {
     "languageId": "r"
    }
   },
   "outputs": [],
   "source": [
    "head(gliphdf)"
   ]
  },
  {
   "cell_type": "code",
   "execution_count": null,
   "metadata": {
    "vscode": {
     "languageId": "r"
    }
   },
   "outputs": [],
   "source": [
    "gliph_out_nosingle$subject <- gsub(\":.*\", \"\", gliph_out_nosingle$Sample)"
   ]
  },
  {
   "cell_type": "code",
   "execution_count": null,
   "metadata": {
    "vscode": {
     "languageId": "r"
    }
   },
   "outputs": [],
   "source": [
    "head(gliph_out_nosingle[, c(\"subject\", \"Sample\")])"
   ]
  },
  {
   "cell_type": "code",
   "execution_count": null,
   "metadata": {
    "vscode": {
     "languageId": "r"
    }
   },
   "outputs": [],
   "source": [
    "names(table(gliph_out_nosingle$subject[!grepl(\"CHP\", gliph_out_nosingle$Sample)]))"
   ]
  },
  {
   "cell_type": "code",
   "execution_count": null,
   "metadata": {
    "vscode": {
     "languageId": "r"
    }
   },
   "outputs": [],
   "source": [
    "#rmeove LFS cases\n",
    "gliph_out_nosingle <- gliph_out_nosingle[!grepl(\"LFS\", gliph_out_nosingle$subject),]"
   ]
  },
  {
   "cell_type": "code",
   "execution_count": null,
   "metadata": {
    "vscode": {
     "languageId": "r"
    }
   },
   "outputs": [],
   "source": [
    "names(table(gliph_out_nosingle$subject[!grepl(\"CHP\", gliph_out_nosingle$Sample)]))"
   ]
  },
  {
   "cell_type": "code",
   "execution_count": null,
   "metadata": {
    "vscode": {
     "languageId": "r"
    }
   },
   "outputs": [],
   "source": [
    "for(i in 1:nrow(gliphdf)){\n",
    "\n",
    "mygliph <- gliph_out_nosingle[gliph_out_nosingle$pattern == gliphdf$gliph[i],]\n",
    "# add 1 in gliphdf$CMV, if mygliph$subject ciontains CMV\n",
    "gliphdf$CMV[i] <- ifelse(sum(grepl(\"CMV\", mygliph$subject)) > 0, sum(grepl(\"CMV\", mygliph$subject)), 0)\n",
    "gliphdf$EBV[i] <- ifelse(sum(grepl(\"EBV\", mygliph$subject)) > 0, sum(grepl(\"EBV\", mygliph$subject)), 0)\n",
    "gliphdf$HCV[i] <- ifelse(sum(grepl(\"HCV\", mygliph$subject)) > 0, sum(grepl(\"HCV\", mygliph$subject)), 0)\n",
    "gliphdf$Flu[i] <- ifelse(sum(grepl(\"Influenza\", mygliph$subject)) > 0, sum(grepl(\"Influenza\", mygliph$subject)), 0)\n",
    "\n",
    "gliphdf$hs[i] <- ifelse(sum(grepl(\"HomoSapiens\", mygliph$subject)) > 0, sum(grepl(\"HomoSapiens\", mygliph$subject)), 0)\n",
    "gliphdf$hs[i] <- ifelse(sum(grepl(\"MDavis\", mygliph$subject)) > 0, sum(grepl(\"MDavis\", mygliph$subject)), 0)\n",
    "\n",
    "gliphdf$HPV[i] <- ifelse(sum(grepl(\"HPV\", mygliph$subject)) > 0, sum(grepl(\"HPV\", mygliph$subject)), 0)\n",
    "gliphdf$CEF[i] <- ifelse(sum(grepl(\"CEF\", mygliph$subject)) > 0, sum(grepl(\"CEF\", mygliph$subject)), 0)\n",
    "gliphdf$TB[i] <- ifelse(sum(grepl(\"M.tuberculosis\", mygliph$subject)) > 0, sum(grepl(\"M.tuberculosis\", mygliph$subject)), 0)\n",
    "gliphdf$MCPyV[i] <- ifelse(sum(grepl(\"MCPyV\", mygliph$subject)) > 0, sum(grepl(\"MCPyV\", mygliph$subject)), 0)\n",
    "gliphdf$SP[i] <- ifelse(sum(grepl(\"S-pneumoniae\", mygliph$subject)) > 0, sum(grepl(\"S-pneumoniae\", mygliph$subject)), 0)\n",
    "\n",
    "gliphdf$HTLV[i] <- ifelse(sum(grepl(\"HTLV-1\", mygliph$subject)) > 0, sum(grepl(\"HTLV-1\", mygliph$subject)), 0)\n",
    "gliphdf$DENV[i] <- ifelse(sum(grepl(\"DENV\", mygliph$subject)) > 0, sum(grepl(\"DENV\", mygliph$subject)), 0)\n",
    "}"
   ]
  },
  {
   "cell_type": "code",
   "execution_count": null,
   "metadata": {
    "vscode": {
     "languageId": "r"
    }
   },
   "outputs": [],
   "source": [
    "head(gliphdf)"
   ]
  },
  {
   "cell_type": "code",
   "execution_count": null,
   "metadata": {
    "vscode": {
     "languageId": "r"
    }
   },
   "outputs": [],
   "source": [
    "gliphdf$Family <- NA\n",
    "\n",
    "for (i in 1:nrow(gliphdf)) {\n",
    "    mygliph <- gliph_out_nosingle[gliph_out_nosingle$pattern == gliphdf$gliph[i], ]\n",
    "    # add CMV to gliphdf$Family, if CMV is in mygliph$subject\n",
    "    gliphdf$Family[i] <- ifelse(sum(grepl(\"CMV\", mygliph$subject)) > 0, \"CMV\", \"\")\n",
    "    gliphdf$Family[i] <- ifelse(sum(grepl(\"EBV\", mygliph$subject)) > 0, paste0(\"EBV_\", gliphdf$Family[i]), gliphdf$Family[i])\n",
    "    gliphdf$Family[i] <- ifelse(sum(grepl(\"HCV\", mygliph$subject)) > 0, paste0(\"HCV_\", gliphdf$Family[i]), gliphdf$Family[i])\n",
    "    gliphdf$Family[i] <- ifelse(sum(grepl(\"Influenza\", mygliph$subject)) > 0, paste0(\"Flu_\", gliphdf$Family[i]), gliphdf$Family[i])\n",
    "    gliphdf$Family[i] <- ifelse(sum(grepl(\"HomoSapiens\", mygliph$subject)) > 0, paste0(\"hs_\", gliphdf$Family[i]), gliphdf$Family[i])\n",
    "    gliphdf$Family[i] <- ifelse(sum(grepl(\"HPV\", mygliph$subject)) > 0, paste0(\"HPV_\", gliphdf$Family[i]), gliphdf$Family[i])\n",
    "    gliphdf$Family[i] <- ifelse(sum(grepl(\"CEF\", mygliph$subject)) > 0, paste0(\"CEF_\", gliphdf$Family[i]), gliphdf$Family[i])\n",
    "    gliphdf$Family[i] <- ifelse(sum(grepl(\"M.tuberculosis\", mygliph$subject)) > 0, paste0(\"TB_\", gliphdf$Family[i]), gliphdf$Family[i])\n",
    "    gliphdf$Family[i] <- ifelse(sum(grepl(\"MCPyV\", mygliph$subject)) > 0, paste0(\"MCPyV_\", gliphdf$Family[i]), gliphdf$Family[i])\n",
    "    gliphdf$Family[i] <- ifelse(sum(grepl(\"MDavis\", mygliph$subject)) > 0, paste0(\"hs_\", gliphdf$Family[i]), gliphdf$Family[i])\n",
    "    gliphdf$Family[i] <- ifelse(sum(grepl(\"S-pneumoniae\", mygliph$subject)) > 0, paste0(\"SP_\", gliphdf$Family[i]), gliphdf$Family[i])\n",
    "    gliphdf$Family[i] <- ifelse(sum(grepl(\"DENV\", mygliph$subject)) > 0, paste0(\"DENV_\", gliphdf$Family[i]), gliphdf$Family[i])\n",
    "    gliphdf$Family[i] <- ifelse(sum(grepl(\"HTLV\", mygliph$subject)) > 0, paste0(\"HTLV_\", gliphdf$Family[i]), gliphdf$Family[i])\n",
    "\n",
    "}"
   ]
  },
  {
   "cell_type": "code",
   "execution_count": null,
   "metadata": {
    "vscode": {
     "languageId": "r"
    }
   },
   "outputs": [],
   "source": [
    "head(gliphdf)"
   ]
  },
  {
   "cell_type": "code",
   "execution_count": null,
   "metadata": {
    "vscode": {
     "languageId": "r"
    }
   },
   "outputs": [],
   "source": [
    "for (i in 1:nrow(gliphdf)) {\n",
    "    mygliph <- gliph_out_nosingle[gliph_out_nosingle$pattern == gliphdf$gliph[i], ]\n",
    "    gliphdf$n_cdr3[i] <- nrow(mygliph)\n",
    "}"
   ]
  },
  {
   "cell_type": "code",
   "execution_count": null,
   "metadata": {
    "vscode": {
     "languageId": "r"
    }
   },
   "outputs": [],
   "source": [
    "head(gliphdf[ gliphdf$Family != \"\",],10)"
   ]
  },
  {
   "cell_type": "code",
   "execution_count": null,
   "metadata": {
    "vscode": {
     "languageId": "r"
    }
   },
   "outputs": [],
   "source": [
    "gliphdf$Family[gliphdf$Family == \"\" ] <- \"NK\""
   ]
  },
  {
   "cell_type": "code",
   "execution_count": null,
   "metadata": {
    "vscode": {
     "languageId": "r"
    }
   },
   "outputs": [],
   "source": [
    "levels(as.factor(gliphdf$Family))"
   ]
  },
  {
   "cell_type": "code",
   "execution_count": null,
   "metadata": {
    "vscode": {
     "languageId": "r"
    }
   },
   "outputs": [],
   "source": [
    "# cleanup\n",
    "gliphdf$Family <- gsub(\"_$\", \"\", gliphdf$Family)\n",
    "gliphdf$Family[ gliphdf$Family == \"hs_hs\"] <- \"hs\"\n",
    "gliphdf$Family <- gsub(\"hs_hs\", \"hs\", gliphdf$Family)"
   ]
  },
  {
   "cell_type": "code",
   "execution_count": null,
   "metadata": {
    "vscode": {
     "languageId": "r"
    }
   },
   "outputs": [],
   "source": [
    "levels(as.factor(gliphdf$Family))"
   ]
  },
  {
   "cell_type": "code",
   "execution_count": null,
   "metadata": {
    "vscode": {
     "languageId": "r"
    }
   },
   "outputs": [],
   "source": [
    "# species = gliph, genus = original annotations, family = grouped annotations\n",
    "gliphdf$Genus <- gliphdf$Family"
   ]
  },
  {
   "cell_type": "code",
   "execution_count": null,
   "metadata": {
    "vscode": {
     "languageId": "r"
    }
   },
   "outputs": [],
   "source": [
    "gliphdf$Family[grepl(\"hs_\", gliphdf$Family)] <- \"cross-reactive\"\n",
    "gliphdf$Family[grepl(\"_hs\", gliphdf$Family)] <- \"cross-reactive\"\n",
    "gliphdf$Family[ gliphdf$Family %in% c(\"CMV\", \"EBV\", \"HPV\", \"HCV\", \"MCPyV\", \"HTLV\", \"Flu\", \"DENV\", \"CEF\")] <- \"Viral\"\n",
    "gliphdf$Family[grepl(\"_\", gliphdf$Family)] <- \"Viral\""
   ]
  },
  {
   "cell_type": "code",
   "execution_count": null,
   "metadata": {
    "vscode": {
     "languageId": "r"
    }
   },
   "outputs": [],
   "source": [
    "levels(as.factor(gliphdf$Genus))\n",
    "levels(as.factor(gliphdf$Family))"
   ]
  },
  {
   "cell_type": "markdown",
   "metadata": {},
   "source": [
    "Create TreeSummarizedExperiment to input to ANCOMBC"
   ]
  },
  {
   "cell_type": "code",
   "execution_count": null,
   "metadata": {
    "vscode": {
     "languageId": "r"
    }
   },
   "outputs": [],
   "source": [
    "table(metadata_matched$cancergroup)"
   ]
  },
  {
   "cell_type": "code",
   "execution_count": null,
   "metadata": {
    "vscode": {
     "languageId": "r"
    }
   },
   "outputs": [],
   "source": [
    "rownames(metadata_matched) <- metadata_matched$samplename"
   ]
  },
  {
   "cell_type": "code",
   "execution_count": null,
   "metadata": {
    "vscode": {
     "languageId": "r"
    }
   },
   "outputs": [],
   "source": [
    "head(metadata_matched)"
   ]
  },
  {
   "cell_type": "code",
   "execution_count": null,
   "metadata": {
    "vscode": {
     "languageId": "r"
    }
   },
   "outputs": [],
   "source": [
    "table(gliphdf$Family)"
   ]
  },
  {
   "cell_type": "code",
   "execution_count": null,
   "metadata": {
    "vscode": {
     "languageId": "r"
    }
   },
   "outputs": [],
   "source": [
    "head(gliphdf)"
   ]
  },
  {
   "cell_type": "code",
   "execution_count": null,
   "metadata": {
    "vscode": {
     "languageId": "r"
    }
   },
   "outputs": [],
   "source": [
    "# metadata_matched$mygroup <- NA\n",
    "# metadata_matched$mygroup[metadata_matched$cycle == \"X01\"] <- \"Pre\"\n",
    "# metadata_matched$mygroup[metadata_matched$cycle != \"X01\"] <- \"Post\""
   ]
  },
  {
   "cell_type": "code",
   "execution_count": null,
   "metadata": {
    "vscode": {
     "languageId": "r"
    }
   },
   "outputs": [],
   "source": [
    "# table(metadata_matched$mygroup)"
   ]
  },
  {
   "cell_type": "code",
   "execution_count": null,
   "metadata": {
    "vscode": {
     "languageId": "r"
    }
   },
   "outputs": [],
   "source": [
    "pat_type <- as.matrix(pat_type) "
   ]
  },
  {
   "cell_type": "code",
   "execution_count": null,
   "metadata": {
    "vscode": {
     "languageId": "r"
    }
   },
   "outputs": [],
   "source": []
  },
  {
   "cell_type": "code",
   "execution_count": null,
   "metadata": {
    "vscode": {
     "languageId": "r"
    }
   },
   "outputs": [],
   "source": [
    "tse_cycle <- TreeSummarizedExperiment(\n",
    "    assays = list(Count = as.matrix(pat_type)),\n",
    "    rowData = gliphdf,\n",
    "    colData = metadata_matched\n",
    ")"
   ]
  },
  {
   "cell_type": "code",
   "execution_count": null,
   "metadata": {
    "vscode": {
     "languageId": "r"
    }
   },
   "outputs": [],
   "source": [
    "tse_cycle"
   ]
  },
  {
   "cell_type": "code",
   "execution_count": null,
   "metadata": {
    "vscode": {
     "languageId": "r"
    }
   },
   "outputs": [],
   "source": [
    "# table(metadata_matched$mygroup)"
   ]
  },
  {
   "cell_type": "code",
   "execution_count": null,
   "metadata": {
    "vscode": {
     "languageId": "r"
    }
   },
   "outputs": [],
   "source": [
    "# tse_X01 <- onetest_tse[, colnames(onetest_tse)[grepl(\"X01\", colnames(onetest_tse)) ] ]\n",
    "\n",
    "# tse_X01 <- tse_X01[, colnames(tse_X01)[!grepl(\"T-cellmalignancies\", colnames(tse_X01)) ] ]"
   ]
  },
  {
   "cell_type": "code",
   "execution_count": null,
   "metadata": {
    "vscode": {
     "languageId": "r"
    }
   },
   "outputs": [],
   "source": [
    "# nks <- gliphdf$gliph[ gliphdf$Family %in% c(\"NK\")]"
   ]
  },
  {
   "cell_type": "code",
   "execution_count": null,
   "metadata": {
    "vscode": {
     "languageId": "r"
    }
   },
   "outputs": [],
   "source": [
    "# length(nks)"
   ]
  },
  {
   "cell_type": "code",
   "execution_count": null,
   "metadata": {
    "vscode": {
     "languageId": "r"
    }
   },
   "outputs": [],
   "source": [
    "# tse_cycle <- tse_cycle[ !rownames(tse_cycle) %in% nks, ]"
   ]
  },
  {
   "cell_type": "code",
   "execution_count": null,
   "metadata": {
    "vscode": {
     "languageId": "r"
    }
   },
   "outputs": [],
   "source": [
    "tse_cycle"
   ]
  },
  {
   "cell_type": "code",
   "execution_count": null,
   "metadata": {
    "vscode": {
     "languageId": "r"
    }
   },
   "outputs": [],
   "source": [
    "# table(colData(tse_cycle)$mygroup, useNA = \"ifany\")"
   ]
  },
  {
   "cell_type": "code",
   "execution_count": null,
   "metadata": {
    "vscode": {
     "languageId": "r"
    }
   },
   "outputs": [],
   "source": [
    "head(rowSums(assay(tse_cycle)))"
   ]
  },
  {
   "cell_type": "code",
   "execution_count": null,
   "metadata": {
    "vscode": {
     "languageId": "r"
    }
   },
   "outputs": [],
   "source": [
    "# readr::write_rds(tse_cycle, \"/Users/anabbi/Desktop/H4H/INTERCEPT/analysis/GLIPH/ancombc/int_gliph_tse_leu_pre_post_cfdna.rds\")"
   ]
  },
  {
   "cell_type": "code",
   "execution_count": null,
   "metadata": {
    "vscode": {
     "languageId": "r"
    }
   },
   "outputs": [],
   "source": [
    "# rowData(tse_cycle)$Family <- rowData(tse_cycle)$gliph"
   ]
  },
  {
   "cell_type": "code",
   "execution_count": null,
   "metadata": {
    "vscode": {
     "languageId": "r"
    }
   },
   "outputs": [],
   "source": [
    "set.seed(111)"
   ]
  },
  {
   "cell_type": "code",
   "execution_count": null,
   "metadata": {
    "vscode": {
     "languageId": "r"
    }
   },
   "outputs": [],
   "source": [
    "out <- ancombc2(\n",
    "    data = tse_cycle, assay_name = \"Count\",\n",
    "    tax_level = \"Genus\", \n",
    "    fix_formula = \"cancergroup\", rand_formula = NULL,\n",
    "    p_adj_method = \"fdr\", \n",
    "    pseudo = 0, pseudo_sens = TRUE, # add pseudocounts\n",
    "    prv_cut = 0.02, # prevalence cutoff\n",
    "    lib_cut = 0, # library size cutoff\n",
    "    s0_perc = 0.05, \n",
    "    group = \"cancergroup\", \n",
    "    struc_zero = FALSE, \n",
    "    neg_lb = FALSE, # check this again\n",
    "    alpha = 0.05, \n",
    "    n_cl = 1, # number of nodes\n",
    "    verbose = TRUE,\n",
    "    global = FALSE, pairwise = FALSE, dunnet = FALSE, trend = FALSE, # test types\n",
    "    iter_control = list(tol = 1e-2, max_iter = 20, verbose = TRUE),\n",
    "    em_control = list(tol = 1e-5, max_iter = 100),\n",
    "    lme_control = lme4::lmerControl(),\n",
    "    mdfdr_control = list(fwer_ctrl_method = \"fdr\", B = 100)\n",
    ")\n"
   ]
  },
  {
   "cell_type": "code",
   "execution_count": null,
   "metadata": {
    "vscode": {
     "languageId": "r"
    }
   },
   "outputs": [],
   "source": [
    "# out <- readr::read_rds(\"/Users/anabbi/Desktop/H4H/INTERCEPT/analysis/GLIPH/ancombc/int_gliph_leu_pre_post_cfdna_taxares.rds\")"
   ]
  },
  {
   "cell_type": "code",
   "execution_count": null,
   "metadata": {
    "vscode": {
     "languageId": "r"
    }
   },
   "outputs": [],
   "source": [
    "out$res"
   ]
  },
  {
   "cell_type": "code",
   "execution_count": null,
   "metadata": {
    "vscode": {
     "languageId": "r"
    }
   },
   "outputs": [],
   "source": []
  },
  {
   "cell_type": "code",
   "execution_count": null,
   "metadata": {
    "vscode": {
     "languageId": "r"
    }
   },
   "outputs": [],
   "source": []
  },
  {
   "cell_type": "code",
   "execution_count": null,
   "metadata": {
    "vscode": {
     "languageId": "r"
    }
   },
   "outputs": [],
   "source": []
  },
  {
   "attachments": {},
   "cell_type": "markdown",
   "metadata": {},
   "source": [
    "# Backup"
   ]
  },
  {
   "cell_type": "code",
   "execution_count": null,
   "metadata": {
    "vscode": {
     "languageId": "r"
    }
   },
   "outputs": [],
   "source": [
    "discovery_metadata <- readr::read_rds(file = paste0(datapath, \"discovery_metadata_01.rds\"))\n",
    "discovery_metadata$disease[ is.na(discovery_metadata$disease)] <- \"Emerson_unknown\""
   ]
  },
  {
   "cell_type": "code",
   "execution_count": null,
   "metadata": {
    "vscode": {
     "languageId": "r"
    }
   },
   "outputs": [],
   "source": [
    "dim(discovery_metadata)"
   ]
  },
  {
   "cell_type": "code",
   "execution_count": null,
   "metadata": {
    "vscode": {
     "languageId": "r"
    }
   },
   "outputs": [],
   "source": [
    "table(discovery_metadata$disease)"
   ]
  },
  {
   "cell_type": "code",
   "execution_count": null,
   "metadata": {
    "vscode": {
     "languageId": "r"
    }
   },
   "outputs": [],
   "source": [
    "# remove non normal non cancer samples\n",
    "discovery_metadata <- discovery_metadata[!discovery_metadata$disease %in%\n",
    "    c(\n",
    "        \"KD\", \"MAS\", \"LFS\", \"Emerson_unknown\",\n",
    "        \"MIS-C SARSCoV2Neg\", \"sJIA\"\n",
    "    ), ]\n"
   ]
  },
  {
   "cell_type": "code",
   "execution_count": null,
   "metadata": {
    "vscode": {
     "languageId": "r"
    }
   },
   "outputs": [],
   "source": [
    "table(discovery_metadata$disease)"
   ]
  },
  {
   "cell_type": "code",
   "execution_count": null,
   "metadata": {
    "vscode": {
     "languageId": "r"
    }
   },
   "outputs": [],
   "source": [
    "# make a new variable for the disease\n",
    "# Group Leukemia, Lymphoma and Solid together as Cancer\n",
    "discovery_metadata$disease_group <- discovery_metadata$disease\n",
    "\n",
    "discovery_metadata$disease_group[discovery_metadata$disease %in% c(\"Leukemia\", \"Lymphoma\", \"Solid\")] <- \"Cancer\"\n",
    "\n",
    "discovery_metadata$disease_group[discovery_metadata$disease %in% c(\"Ctrl\", # from Mitchell\n",
    "                                                                    \"Peds healthy Control\", # from Henderson\n",
    "                                                                    \"Peds febrile Control\", # from Henderson\n",
    "                                                                    \"Cytomegalovirus -\", # from Emerson\n",
    "                                                                    \"Normal\" # from INTERCEPT\n",
    "                                                                    )] <- \"Healthy\"\n",
    "\n",
    "discovery_metadata$disease_group[discovery_metadata$disease %in% c(\"MIS-C SARSCoV2Pos\", # from Henderson\n",
    "                                                                    \"Peds COVID19\", # from Henderson\n",
    "                                                                    \"Cytomegalovirus +\" # from Emerson\n",
    "                                                                    )] <- \"Viral\"\n",
    "\n",
    "discovery_metadata$disease_group[discovery_metadata$disease %in% c(\"T1D\")] <- \"T1D\" # from Mitchell"
   ]
  },
  {
   "cell_type": "code",
   "execution_count": null,
   "metadata": {
    "vscode": {
     "languageId": "r"
    }
   },
   "outputs": [],
   "source": [
    "table(discovery_metadata$disease)"
   ]
  },
  {
   "cell_type": "code",
   "execution_count": null,
   "metadata": {
    "vscode": {
     "languageId": "r"
    }
   },
   "outputs": [],
   "source": [
    "discovery_metadata$Sex[ is.na(discovery_metadata$Sex)] <- \"Unknown\"\n",
    "discovery_metadata$Agegroup[ is.na(discovery_metadata$Agegroup)] <- \"Unknown\""
   ]
  },
  {
   "cell_type": "code",
   "execution_count": null,
   "metadata": {
    "vscode": {
     "languageId": "r"
    }
   },
   "outputs": [],
   "source": [
    "table(discovery_metadata$disease_group, useNA = \"ifany\")"
   ]
  },
  {
   "cell_type": "code",
   "execution_count": null,
   "metadata": {
    "vscode": {
     "languageId": "r"
    }
   },
   "outputs": [],
   "source": [
    "discovery_metadata$Sex <- factor(discovery_metadata$Sex, levels = c(\"Female\", \"Male\", \"Unknown\"))\n",
    "discovery_metadata$Agegroup <- factor(discovery_metadata$Agegroup, levels = c(\"Neonate\", \"Child\", \"Adolescent\", \"Young Adult\", \"Adult\", \"Senior\", \"Unknown\") )\n",
    "#discovery_metadata$study <- factor(discovery_metadata$study, levels = c(\"Emerson\", \"Henderson\", \"INTERCEPT\", \"Mitchell\"))\n",
    "#discovery_metadata$disease_group <- factor(discovery_metadata$disease_group, levels = c(\"Healthy\", \"Viral\", \"Cancer\", \"T1D\"))"
   ]
  },
  {
   "cell_type": "code",
   "execution_count": null,
   "metadata": {
    "vscode": {
     "languageId": "r"
    }
   },
   "outputs": [],
   "source": [
    "head(discovery_metadata)"
   ]
  },
  {
   "cell_type": "code",
   "execution_count": null,
   "metadata": {
    "vscode": {
     "languageId": "r"
    }
   },
   "outputs": [],
   "source": [
    "rownames(discovery_metadata) <- discovery_metadata$sample_name"
   ]
  },
  {
   "cell_type": "code",
   "execution_count": null,
   "metadata": {
    "vscode": {
     "languageId": "r"
    }
   },
   "outputs": [],
   "source": [
    "head(myres)"
   ]
  },
  {
   "cell_type": "code",
   "execution_count": null,
   "metadata": {
    "vscode": {
     "languageId": "r"
    }
   },
   "outputs": [],
   "source": [
    "myres[ myres$diff_disease_groupCancer == \"TRUE\",]"
   ]
  },
  {
   "cell_type": "code",
   "execution_count": null,
   "metadata": {
    "vscode": {
     "languageId": "r"
    }
   },
   "outputs": [],
   "source": [
    "readr::write_rds(myres, file = paste0(datapath, \"ANCOMBC2_results_test.rds\"))"
   ]
  },
  {
   "attachments": {},
   "cell_type": "markdown",
   "metadata": {},
   "source": [
    "#### graph significant gliph groups in cancer vs healthy"
   ]
  },
  {
   "cell_type": "code",
   "execution_count": null,
   "metadata": {
    "vscode": {
     "languageId": "r"
    }
   },
   "outputs": [],
   "source": [
    "sig_groups <- myres$taxon[ myres$diff_disease_groupCancer == \"TRUE\"]"
   ]
  },
  {
   "cell_type": "code",
   "execution_count": null,
   "metadata": {
    "vscode": {
     "languageId": "r"
    }
   },
   "outputs": [],
   "source": [
    "sig_groups"
   ]
  },
  {
   "cell_type": "code",
   "execution_count": null,
   "metadata": {
    "vscode": {
     "languageId": "r"
    }
   },
   "outputs": [],
   "source": [
    "# subset onetest to include only those samples in the metadata\n",
    "onetest_matched <- onetest[onetest$subject %in% discovery_metadata$sample_name, ]"
   ]
  },
  {
   "cell_type": "code",
   "execution_count": null,
   "metadata": {
    "vscode": {
     "languageId": "r"
    }
   },
   "outputs": [],
   "source": [
    "head(onetest_matched)"
   ]
  },
  {
   "attachments": {},
   "cell_type": "markdown",
   "metadata": {},
   "source": [
    "graph patient type"
   ]
  },
  {
   "cell_type": "code",
   "execution_count": null,
   "metadata": {
    "vscode": {
     "languageId": "r"
    }
   },
   "outputs": [],
   "source": [
    "head(pat_type)"
   ]
  },
  {
   "cell_type": "code",
   "execution_count": null,
   "metadata": {
    "vscode": {
     "languageId": "r"
    }
   },
   "outputs": [],
   "source": [
    "gliph_data_igrf <- igraph::graph_from_incidence_matrix(pat_type, weighted = T )"
   ]
  },
  {
   "cell_type": "code",
   "execution_count": null,
   "metadata": {
    "vscode": {
     "languageId": "r"
    }
   },
   "outputs": [],
   "source": [
    "gliph_data_igrf"
   ]
  },
  {
   "cell_type": "code",
   "execution_count": null,
   "metadata": {
    "vscode": {
     "languageId": "r"
    }
   },
   "outputs": [],
   "source": [
    "V(gliph_data_igrf)$disease_group <- sapply(V(gliph_data_igrf)$name, function(x){\n",
    "    discovery_metadata$disease_group[match(x, discovery_metadata$sample_name)]})"
   ]
  },
  {
   "cell_type": "code",
   "execution_count": null,
   "metadata": {
    "vscode": {
     "languageId": "r"
    }
   },
   "outputs": [],
   "source": [
    "V(gliph_data_igrf)$sig_color <- \"black\"\n",
    "V(gliph_data_igrf)$sig_color[ which(V(gliph_data_igrf)$name %in% sig_groups) ] <- \"red\""
   ]
  },
  {
   "cell_type": "code",
   "execution_count": null,
   "metadata": {
    "vscode": {
     "languageId": "r"
    }
   },
   "outputs": [],
   "source": [
    "myg2 <- bipartite.projection(gliph_data_igrf)$proj1"
   ]
  },
  {
   "cell_type": "code",
   "execution_count": null,
   "metadata": {
    "vscode": {
     "languageId": "r"
    }
   },
   "outputs": [],
   "source": [
    "summary(degree(myg2))"
   ]
  },
  {
   "cell_type": "code",
   "execution_count": null,
   "metadata": {
    "vscode": {
     "languageId": "r"
    }
   },
   "outputs": [],
   "source": [
    "myg2 <- delete.vertices( myg2, which(degree(myg2) <= 300) )"
   ]
  },
  {
   "cell_type": "code",
   "execution_count": null,
   "metadata": {
    "vscode": {
     "languageId": "r"
    }
   },
   "outputs": [],
   "source": [
    "set.seed(111)\n",
    "pdf(paste0(plotpath, \"GLIPH_network.pdf\"), width = 10, height = 10)\n",
    "ggraph(myg2 , \"fr\") +\n",
    "geom_edge_link(edge_width = 0.1, edge_colour = \"#000000\") + \n",
    "geom_node_point(aes(color = sig_color, shape = disease_group, alpha = sig_color), size = 2)+ \n",
    "scale_color_manual(values = c(\"black\", \"red\")) + \n",
    "scale_alpha_manual(values = c(0.2, 1))\n",
    "dev.off()"
   ]
  },
  {
   "attachments": {},
   "cell_type": "markdown",
   "metadata": {},
   "source": [
    "graph type tcr"
   ]
  },
  {
   "cell_type": "code",
   "execution_count": null,
   "metadata": {
    "vscode": {
     "languageId": "r"
    }
   },
   "outputs": [],
   "source": [
    "gliph_data_matrix_df <- as.data.frame.matrix(table(onetest_matched %>% select(type , TcRb)))"
   ]
  },
  {
   "cell_type": "code",
   "execution_count": null,
   "metadata": {
    "vscode": {
     "languageId": "r"
    }
   },
   "outputs": [],
   "source": [
    "head(gliph_data_matrix_df)"
   ]
  },
  {
   "cell_type": "code",
   "execution_count": null,
   "metadata": {
    "vscode": {
     "languageId": "r"
    }
   },
   "outputs": [],
   "source": [
    "gliph_data_igrf <- igraph::graph_from_incidence_matrix(gliph_data_matrix_df, weighted = T )"
   ]
  },
  {
   "cell_type": "code",
   "execution_count": null,
   "metadata": {
    "vscode": {
     "languageId": "r"
    }
   },
   "outputs": [],
   "source": [
    "gliph_data_igrf"
   ]
  },
  {
   "cell_type": "code",
   "execution_count": null,
   "metadata": {
    "vscode": {
     "languageId": "r"
    }
   },
   "outputs": [],
   "source": [
    "head(V(gliph_data_igrf)$name)"
   ]
  },
  {
   "cell_type": "code",
   "execution_count": null,
   "metadata": {
    "vscode": {
     "languageId": "r"
    }
   },
   "outputs": [],
   "source": [
    "# match the subject to the TcRb\n",
    "V(gliph_data_igrf)$subject <- sapply(V(gliph_data_igrf)$name, function(x){\n",
    "    onetest_matched$subject[match(x, onetest_matched$TcRb)]})"
   ]
  },
  {
   "cell_type": "code",
   "execution_count": null,
   "metadata": {
    "vscode": {
     "languageId": "r"
    }
   },
   "outputs": [],
   "source": [
    "# match the subject to the GLIPH type\n",
    "V(gliph_data_igrf)$subject[is.na(V(gliph_data_igrf)$subject)] <- sapply(V(gliph_data_igrf)$name[is.na(V(gliph_data_igrf)$subject)], function(x){\n",
    "    mysubj <- onetest_matched$subject[ onetest_matched$type == x  ]\n",
    "    mysubj[ grepl(\"CHP\", mysubj)][1]\n",
    "})"
   ]
  },
  {
   "cell_type": "code",
   "execution_count": null,
   "metadata": {
    "vscode": {
     "languageId": "r"
    }
   },
   "outputs": [],
   "source": [
    "onetest_matched$subject[ onetest_matched$type == \"global-%AG\"  ]"
   ]
  },
  {
   "cell_type": "code",
   "execution_count": null,
   "metadata": {
    "vscode": {
     "languageId": "r"
    }
   },
   "outputs": [],
   "source": [
    "onetest_matched[ onetest_matched$type == \"global-%AG\",]"
   ]
  },
  {
   "cell_type": "code",
   "execution_count": null,
   "metadata": {
    "vscode": {
     "languageId": "r"
    }
   },
   "outputs": [],
   "source": [
    "head(V(gliph_data_igrf)$subject)"
   ]
  },
  {
   "cell_type": "code",
   "execution_count": null,
   "metadata": {
    "vscode": {
     "languageId": "r"
    }
   },
   "outputs": [],
   "source": [
    "V(gliph_data_igrf)$disease <- sapply(V(gliph_data_igrf)$subject, function(x){\n",
    "    discovery_metadata$disease[match(x, discovery_metadata$sample_name)]})\n"
   ]
  },
  {
   "cell_type": "code",
   "execution_count": null,
   "metadata": {
    "vscode": {
     "languageId": "r"
    }
   },
   "outputs": [],
   "source": [
    "V(gliph_data_igrf)$disease_group <- sapply(V(gliph_data_igrf)$subject, function(x){\n",
    "    discovery_metadata$disease_group[match(x, discovery_metadata$sample_name)]})"
   ]
  },
  {
   "cell_type": "code",
   "execution_count": null,
   "metadata": {
    "vscode": {
     "languageId": "r"
    }
   },
   "outputs": [],
   "source": [
    "V(gliph_data_igrf)$disease_group[ is.na(V(gliph_data_igrf)$disease_group) ] <- \"Healthy\""
   ]
  },
  {
   "cell_type": "code",
   "execution_count": null,
   "metadata": {
    "vscode": {
     "languageId": "r"
    }
   },
   "outputs": [],
   "source": [
    "\n",
    "V(gliph_data_igrf)$Xpattern <- sapply(V(gliph_data_igrf)$name, function(x){\n",
    "    onetest_matched$Xpattern[match(x, onetest_matched$type)]})"
   ]
  },
  {
   "cell_type": "code",
   "execution_count": null,
   "metadata": {
    "vscode": {
     "languageId": "r"
    }
   },
   "outputs": [],
   "source": [
    "sig_tcrs <- onetest_matched$TcRb[onetest_matched$Xpattern %in% sig_groups]"
   ]
  },
  {
   "cell_type": "code",
   "execution_count": null,
   "metadata": {
    "vscode": {
     "languageId": "r"
    }
   },
   "outputs": [],
   "source": [
    "V(gliph_data_igrf)$Xpattern <- sapply(V(gliph_data_igrf)$name, function(x){\n",
    "    onetest_matched$Xpattern[match(x, onetest_matched$type)]})"
   ]
  },
  {
   "cell_type": "code",
   "execution_count": null,
   "metadata": {
    "vscode": {
     "languageId": "r"
    }
   },
   "outputs": [],
   "source": [
    "\n",
    "#V(gliph_data_igrf)$Xpattern[is.na(V(gliph_data_igrf)$Xpattern)] <- sapply(V(gliph_data_igrf)$name[is.na(V(gliph_data_igrf)$Xpattern)], function(x){\n",
    "#    onetest_matched$Xpattern[match(x, onetest_matched$TcRb)]\n",
    "#})"
   ]
  },
  {
   "cell_type": "code",
   "execution_count": null,
   "metadata": {
    "vscode": {
     "languageId": "r"
    }
   },
   "outputs": [],
   "source": [
    "head(V(gliph_data_igrf)$Xpattern)"
   ]
  },
  {
   "cell_type": "code",
   "execution_count": null,
   "metadata": {
    "vscode": {
     "languageId": "r"
    }
   },
   "outputs": [],
   "source": [
    "V(gliph_data_igrf)$sig_color <- \"black\"\n",
    "V(gliph_data_igrf)$sig_color[ which(V(gliph_data_igrf)$Xpattern %in% sig_groups) ] <- \"red\""
   ]
  },
  {
   "cell_type": "code",
   "execution_count": null,
   "metadata": {
    "vscode": {
     "languageId": "r"
    }
   },
   "outputs": [],
   "source": [
    "myg2 <- (bipartite.projection(gliph_data_igrf)$proj1)"
   ]
  },
  {
   "cell_type": "code",
   "execution_count": null,
   "metadata": {
    "vscode": {
     "languageId": "r"
    }
   },
   "outputs": [],
   "source": [
    "myg2"
   ]
  },
  {
   "cell_type": "code",
   "execution_count": null,
   "metadata": {
    "vscode": {
     "languageId": "r"
    }
   },
   "outputs": [],
   "source": [
    "summary(degree(myg2))"
   ]
  },
  {
   "cell_type": "code",
   "execution_count": null,
   "metadata": {
    "vscode": {
     "languageId": "r"
    }
   },
   "outputs": [],
   "source": [
    "myg2 <- delete.vertices( myg2, which(degree(myg2) <= 3) )\n",
    "#myg2 <- delete.vertices( myg2, which(degree(myg2) == 95) )"
   ]
  },
  {
   "cell_type": "code",
   "execution_count": null,
   "metadata": {
    "vscode": {
     "languageId": "r"
    }
   },
   "outputs": [],
   "source": [
    "set.seed(111)\n",
    "pdf(paste0(plotpath, \"GLIPH_network.pdf\"), width = 5, height = 5)\n",
    "ggraph(myg2 , \"fr\") +\n",
    "geom_edge_link(edge_width = 0.04, edge_colour = \"#000000\") + \n",
    "geom_node_point(aes(color = sig_color, shape = disease_group, alpha = sig_color), size = 2)+ \n",
    "scale_color_manual(values = c(\"black\", \"red\")) + \n",
    "scale_alpha_manual(values = c(0.4, 1)) +\n",
    "geom_node_text(aes(filter = (sig_color == \"red\"), label = name), size = 2, repel = T, force = 100) +\n",
    "theme(legend.position = \"bottom\")\n",
    "\n",
    "dev.off()"
   ]
  },
  {
   "cell_type": "code",
   "execution_count": null,
   "metadata": {
    "vscode": {
     "languageId": "r"
    }
   },
   "outputs": [],
   "source": [
    "bb <- layout_as_backbone(myg2, keep = 0.4)\n",
    "E(myg2)$col <- FALSE\n",
    "E(myg2)$col[bb$backbone] <- TRUE"
   ]
  },
  {
   "cell_type": "code",
   "execution_count": null,
   "metadata": {
    "vscode": {
     "languageId": "r"
    }
   },
   "outputs": [],
   "source": [
    "#set.seed(111)\n",
    "#pdf(paste0(plotpath, \"GLIPH_network.pdf\"), width = 10, height = 10)\n",
    "ggraph(myg2 , layout = \"manual\", x = bb$xy[, 1], y = bb$xy[, 2]) +\n",
    "geom_edge_link(edge_width = 0.1, aes(edge_colour = col)) + \n",
    "geom_node_point(aes(color = sig_color, shape = disease_group, alpha = sig_color), size = 4)+ \n",
    "scale_color_manual(values = c(\"black\", \"red\")) + \n",
    "scale_alpha_manual(values = c(0.4, 1)) +\n",
    "geom_node_text(aes(filter = (sig_color == \"red\"), label = name), size = 4, repel = T, force = 100) \n",
    "\n",
    "#dev.off()"
   ]
  },
  {
   "cell_type": "code",
   "execution_count": null,
   "metadata": {
    "vscode": {
     "languageId": "r"
    }
   },
   "outputs": [],
   "source": []
  },
  {
   "cell_type": "code",
   "execution_count": null,
   "metadata": {
    "vscode": {
     "languageId": "r"
    }
   },
   "outputs": [],
   "source": [
    "myg <- (bipartite.projection(gliph_data_igrf)$proj1)"
   ]
  },
  {
   "cell_type": "code",
   "execution_count": null,
   "metadata": {
    "vscode": {
     "languageId": "r"
    }
   },
   "outputs": [],
   "source": [
    "myg"
   ]
  },
  {
   "cell_type": "code",
   "execution_count": null,
   "metadata": {
    "vscode": {
     "languageId": "r"
    }
   },
   "outputs": [],
   "source": [
    "myg1 <- delete_vertices( myg, degree(myg) == 0)\n",
    "myk <- cluster_louvain(myg1, resolution = 1, weights = NULL)"
   ]
  },
  {
   "cell_type": "code",
   "execution_count": null,
   "metadata": {
    "vscode": {
     "languageId": "r"
    }
   },
   "outputs": [],
   "source": [
    "plot(myk, myg1, vertex.label=NA, vertex.frame.color=\"white\", vertex.size=5)"
   ]
  },
  {
   "cell_type": "code",
   "execution_count": null,
   "metadata": {
    "vscode": {
     "languageId": "r"
    }
   },
   "outputs": [],
   "source": [
    "V(myg1)$community <- as.character(myk$membership)"
   ]
  },
  {
   "cell_type": "code",
   "execution_count": null,
   "metadata": {
    "vscode": {
     "languageId": "r"
    }
   },
   "outputs": [],
   "source": [
    "ggraph(myg1 , \"fr\", weights = NULL ) +\n",
    "geom_edge_link(edge_width = 0.1, edge_colour = \"#000000\") + \n",
    "geom_node_point(aes(color = disease_group), size = 2)"
   ]
  },
  {
   "cell_type": "code",
   "execution_count": null,
   "metadata": {
    "vscode": {
     "languageId": "r"
    }
   },
   "outputs": [],
   "source": []
  },
  {
   "cell_type": "code",
   "execution_count": null,
   "metadata": {
    "vscode": {
     "languageId": "r"
    }
   },
   "outputs": [],
   "source": [
    "head(discovery_metadata)"
   ]
  },
  {
   "cell_type": "code",
   "execution_count": null,
   "metadata": {
    "vscode": {
     "languageId": "r"
    }
   },
   "outputs": [],
   "source": [
    "head(discovery_metadata[ discovery_metadata$study == \"Mitchell\", ])"
   ]
  },
  {
   "cell_type": "code",
   "execution_count": null,
   "metadata": {
    "vscode": {
     "languageId": "r"
    }
   },
   "outputs": [],
   "source": [
    "discovery_metadata[ grepl(\"31013\", discovery_metadata$Patient),]"
   ]
  },
  {
   "cell_type": "code",
   "execution_count": null,
   "metadata": {
    "vscode": {
     "languageId": "r"
    }
   },
   "outputs": [],
   "source": [
    "tail(V(gliph_data_igrf)$disease)"
   ]
  },
  {
   "cell_type": "code",
   "execution_count": null,
   "metadata": {
    "vscode": {
     "languageId": "r"
    }
   },
   "outputs": [],
   "source": [
    "head(metadata_matched)"
   ]
  },
  {
   "cell_type": "code",
   "execution_count": null,
   "metadata": {
    "vscode": {
     "languageId": "r"
    }
   },
   "outputs": [],
   "source": []
  },
  {
   "cell_type": "code",
   "execution_count": null,
   "metadata": {
    "vscode": {
     "languageId": "r"
    }
   },
   "outputs": [],
   "source": []
  },
  {
   "cell_type": "code",
   "execution_count": null,
   "metadata": {
    "vscode": {
     "languageId": "r"
    }
   },
   "outputs": [],
   "source": []
  },
  {
   "cell_type": "code",
   "execution_count": null,
   "metadata": {
    "vscode": {
     "languageId": "r"
    }
   },
   "outputs": [],
   "source": []
  },
  {
   "attachments": {},
   "cell_type": "markdown",
   "metadata": {},
   "source": [
    "## INT standalone"
   ]
  },
  {
   "cell_type": "code",
   "execution_count": null,
   "metadata": {
    "vscode": {
     "languageId": "r"
    }
   },
   "outputs": [],
   "source": [
    "table(discovery_metadata$disease_group, useNA = \"ifany\")"
   ]
  },
  {
   "cell_type": "code",
   "execution_count": null,
   "metadata": {
    "vscode": {
     "languageId": "r"
    }
   },
   "outputs": [],
   "source": [
    "discovery_metadata <- discovery_metadata[ discovery_metadata$disease_group == \"Cancer\", ]"
   ]
  },
  {
   "cell_type": "code",
   "execution_count": null,
   "metadata": {
    "vscode": {
     "languageId": "r"
    }
   },
   "outputs": [],
   "source": [
    "table(discovery_metadata$disease_group, useNA = \"ifany\")"
   ]
  },
  {
   "cell_type": "code",
   "execution_count": null,
   "metadata": {
    "vscode": {
     "languageId": "r"
    }
   },
   "outputs": [],
   "source": [
    "discovery_metadata$disease_group[ discovery_metadata$disease == \"Solid\"] <- \"Solid\"\n",
    "discovery_metadata$disease_group[ discovery_metadata$disease == \"Leukemia\"] <- \"Leukemia\"\n",
    "discovery_metadata$disease_group[ discovery_metadata$disease == \"Lymphoma\"] <- \"Lymphoma\""
   ]
  },
  {
   "cell_type": "code",
   "execution_count": null,
   "metadata": {
    "vscode": {
     "languageId": "r"
    }
   },
   "outputs": [],
   "source": [
    "table(discovery_metadata$disease_group, useNA = \"ifany\")"
   ]
  },
  {
   "cell_type": "code",
   "execution_count": null,
   "metadata": {
    "vscode": {
     "languageId": "r"
    }
   },
   "outputs": [],
   "source": [
    "discovery_metadata$disease_group <- factor(discovery_metadata$disease_group, levels = c(\"Leukemia\", \"Solid\", \"Lymphoma\"))"
   ]
  },
  {
   "cell_type": "code",
   "execution_count": null,
   "metadata": {
    "vscode": {
     "languageId": "r"
    }
   },
   "outputs": [],
   "source": [
    "filelist <- list.files(path = paste0(h4hpath, \"analysis/GLIPH/\"), pattern = \"_cluster_gliph_rm_na_singlerm.rds_hklust.rds\", full.names = FALSE)"
   ]
  },
  {
   "cell_type": "code",
   "execution_count": null,
   "metadata": {
    "vscode": {
     "languageId": "r"
    }
   },
   "outputs": [],
   "source": [
    "onetest <- readr::read_rds(file = paste0(h4hpath, \"analysis/GLIPH/\", filelist[5]))"
   ]
  },
  {
   "cell_type": "code",
   "execution_count": null,
   "metadata": {
    "vscode": {
     "languageId": "r"
    }
   },
   "outputs": [],
   "source": [
    "#separate rwos by comma in subject column to capture all subjects with the same cluster\n",
    "onetest <- tidyr::separate_rows(onetest, subject, sep = \",\")\n",
    "# trimws\n",
    "onetest$subject <- trimws(onetest$subject)"
   ]
  },
  {
   "cell_type": "code",
   "execution_count": null,
   "metadata": {
    "vscode": {
     "languageId": "r"
    }
   },
   "outputs": [],
   "source": [
    "head(onetest)"
   ]
  },
  {
   "cell_type": "code",
   "execution_count": null,
   "metadata": {
    "vscode": {
     "languageId": "r"
    }
   },
   "outputs": [],
   "source": [
    "# get the matrix of GLIPH x samples\n",
    "pat_type <- as.data.frame.matrix(table(onetest %>% select(Xpattern, subject)))"
   ]
  },
  {
   "cell_type": "code",
   "execution_count": null,
   "metadata": {
    "vscode": {
     "languageId": "r"
    }
   },
   "outputs": [],
   "source": [
    "summary(discovery_metadata$Age)"
   ]
  },
  {
   "cell_type": "code",
   "execution_count": null,
   "metadata": {
    "vscode": {
     "languageId": "r"
    }
   },
   "outputs": [],
   "source": [
    "#discovery_metadata <- discovery_metadata[!is.na(discovery_metadata$Age), ]"
   ]
  },
  {
   "cell_type": "code",
   "execution_count": null,
   "metadata": {
    "vscode": {
     "languageId": "r"
    }
   },
   "outputs": [],
   "source": [
    "# subset the matrix to match samples in the metadata\n",
    "pat_type <- pat_type[, colnames(pat_type) %in% discovery_metadata$sample_name ]\n",
    "# match metadata to the matrix\n",
    "metadata_matched <- discovery_metadata[colnames(pat_type), ]"
   ]
  },
  {
   "cell_type": "code",
   "execution_count": null,
   "metadata": {
    "vscode": {
     "languageId": "r"
    }
   },
   "outputs": [],
   "source": [
    "table(metadata_matched$disease)"
   ]
  },
  {
   "cell_type": "code",
   "execution_count": null,
   "metadata": {
    "vscode": {
     "languageId": "r"
    }
   },
   "outputs": [],
   "source": [
    "summary(metadata_matched$Age)"
   ]
  },
  {
   "attachments": {},
   "cell_type": "markdown",
   "metadata": {},
   "source": [
    "Make rowData"
   ]
  },
  {
   "cell_type": "code",
   "execution_count": null,
   "metadata": {
    "vscode": {
     "languageId": "r"
    }
   },
   "outputs": [],
   "source": [
    "gliphdf <- data.frame(gliph = rownames(pat_type))\n",
    "rownames(gliphdf) <- gliphdf$gliph\n",
    "gliphdf$Class <- onetest$hklust[match(rownames(gliphdf), onetest$Xpattern)]"
   ]
  },
  {
   "cell_type": "code",
   "execution_count": null,
   "metadata": {
    "vscode": {
     "languageId": "r"
    }
   },
   "outputs": [],
   "source": [
    "head(gliphdf)"
   ]
  },
  {
   "cell_type": "code",
   "execution_count": null,
   "metadata": {
    "vscode": {
     "languageId": "r"
    }
   },
   "outputs": [],
   "source": [
    "gliphdf$Firstpattern <- NA\n",
    "gliphdf$cluster_size <- NA\n",
    "gliphdf$Patterns <- NA\n",
    "\n",
    "for (i in 1:nrow(gliphdf)) {\n",
    "    gliphdf$Firstpattern[i] <- onetest$Xpattern[onetest$hklust == gliphdf$Class[i]][1] # just the first pattern\n",
    "    gliphdf$cluster_size[i] <- length(unique(onetest$Xpattern[onetest$hklust == gliphdf$Class[i]]) ) # cluster size\n",
    "    gliphdf$Patterns[i] <- paste(unique(onetest$Xpattern[onetest$hklust == gliphdf$Class[i]] ) , collapse = \",\")  # append all patterns for later inspection\n",
    "}\n"
   ]
  },
  {
   "cell_type": "code",
   "execution_count": null,
   "metadata": {
    "vscode": {
     "languageId": "r"
    }
   },
   "outputs": [],
   "source": [
    "dim(gliphdf)"
   ]
  },
  {
   "attachments": {},
   "cell_type": "markdown",
   "metadata": {},
   "source": [
    "Create TreeSummarizedExperiment to input to ANCOMBC"
   ]
  },
  {
   "cell_type": "code",
   "execution_count": null,
   "metadata": {
    "vscode": {
     "languageId": "r"
    }
   },
   "outputs": [],
   "source": [
    "onetest_tse <- TreeSummarizedExperiment(\n",
    "    assays = list(Count = as.matrix(pat_type)),\n",
    "    rowData = gliphdf,\n",
    "    colData = metadata_matched\n",
    ")"
   ]
  },
  {
   "cell_type": "code",
   "execution_count": null,
   "metadata": {
    "vscode": {
     "languageId": "r"
    }
   },
   "outputs": [],
   "source": [
    "set.seed(111)"
   ]
  },
  {
   "cell_type": "code",
   "execution_count": null,
   "metadata": {
    "vscode": {
     "languageId": "r"
    }
   },
   "outputs": [],
   "source": [
    "table(metadata_matched$disease_group, useNA = \"ifany\")"
   ]
  },
  {
   "cell_type": "code",
   "execution_count": null,
   "metadata": {
    "vscode": {
     "languageId": "r"
    }
   },
   "outputs": [],
   "source": [
    "out <- ancombc2(\n",
    "    data = onetest_tse, assay_name = \"Count\",\n",
    "    tax_level = NULL, \n",
    "    fix_formula = \"disease_group + Age\", rand_formula = NULL,\n",
    "    p_adj_method = \"fdr\", \n",
    "    pseudo = 0, pseudo_sens = TRUE, # add pseudocounts\n",
    "    prv_cut = 0.01, # prevalence cutoff\n",
    "    lib_cut = 0, # library size cutoff\n",
    "    s0_perc = 0.05, \n",
    "    group = \"disease_group\", \n",
    "    struc_zero = TRUE, \n",
    "    neg_lb = FALSE, # check this again\n",
    "    alpha = 0.05, \n",
    "    n_cl = 2, # number of nodes\n",
    "    verbose = TRUE,\n",
    "    global = TRUE, pairwise = TRUE, dunnet = TRUE, trend = FALSE, # test types\n",
    "    iter_control = list(tol = 1e-2, max_iter = 20, verbose = TRUE),\n",
    "    em_control = list(tol = 1e-5, max_iter = 100),\n",
    "    lme_control = lme4::lmerControl(),\n",
    "    mdfdr_control = list(fwer_ctrl_method = \"fdr\", B = 100)\n",
    ")\n"
   ]
  },
  {
   "cell_type": "code",
   "execution_count": null,
   "metadata": {
    "vscode": {
     "languageId": "r"
    }
   },
   "outputs": [],
   "source": [
    "myres <- out$res"
   ]
  },
  {
   "cell_type": "code",
   "execution_count": null,
   "metadata": {
    "vscode": {
     "languageId": "r"
    }
   },
   "outputs": [],
   "source": [
    "colnames(myres)"
   ]
  },
  {
   "cell_type": "code",
   "execution_count": null,
   "metadata": {
    "vscode": {
     "languageId": "r"
    }
   },
   "outputs": [],
   "source": [
    "(myres)"
   ]
  },
  {
   "cell_type": "code",
   "execution_count": null,
   "metadata": {
    "vscode": {
     "languageId": "r"
    }
   },
   "outputs": [],
   "source": [
    "myres[ myres$diff_disease_groupCancer == \"TRUE\",]"
   ]
  },
  {
   "cell_type": "code",
   "execution_count": null,
   "metadata": {
    "vscode": {
     "languageId": "r"
    }
   },
   "outputs": [],
   "source": []
  },
  {
   "attachments": {},
   "cell_type": "markdown",
   "metadata": {},
   "source": [
    "## hklust"
   ]
  },
  {
   "cell_type": "code",
   "execution_count": null,
   "metadata": {
    "vscode": {
     "languageId": "r"
    }
   },
   "outputs": [],
   "source": [
    "filelist <- list.files(path = paste0(h4hpath, \"analysis/GLIPH/\"), pattern = \"_cluster_gliph_rm_na_singlerm.rds_hklust.rds\", full.names = FALSE)"
   ]
  },
  {
   "cell_type": "code",
   "execution_count": null,
   "metadata": {
    "vscode": {
     "languageId": "r"
    }
   },
   "outputs": [],
   "source": [
    "filelist"
   ]
  },
  {
   "cell_type": "code",
   "execution_count": null,
   "metadata": {
    "vscode": {
     "languageId": "r"
    }
   },
   "outputs": [],
   "source": [
    "onetest <- readr::read_rds(file = paste0(h4hpath, \"analysis/GLIPH/\", filelist[4]))"
   ]
  },
  {
   "cell_type": "code",
   "execution_count": null,
   "metadata": {
    "vscode": {
     "languageId": "r"
    }
   },
   "outputs": [],
   "source": [
    "head(onetest)"
   ]
  },
  {
   "cell_type": "code",
   "execution_count": null,
   "metadata": {
    "vscode": {
     "languageId": "r"
    }
   },
   "outputs": [],
   "source": [
    "#separate rwos by comma in subject column to capture all subjects with the same cluster\n",
    "onetest <- tidyr::separate_rows(onetest, subject, sep = \",\")\n",
    "# trimws\n",
    "onetest$subject <- trimws(onetest$subject)"
   ]
  },
  {
   "cell_type": "code",
   "execution_count": null,
   "metadata": {
    "vscode": {
     "languageId": "r"
    }
   },
   "outputs": [],
   "source": [
    "onetest$hklust <- paste0(\"Cluster_\", onetest$hklust)"
   ]
  },
  {
   "cell_type": "code",
   "execution_count": null,
   "metadata": {
    "vscode": {
     "languageId": "r"
    }
   },
   "outputs": [],
   "source": [
    "head(onetest)"
   ]
  },
  {
   "cell_type": "code",
   "execution_count": null,
   "metadata": {
    "vscode": {
     "languageId": "r"
    }
   },
   "outputs": [],
   "source": [
    "# get the matrix of GLIPH x samples\n",
    "pat_type <- as.data.frame.matrix(table(onetest %>% select(Xpattern, subject)))"
   ]
  },
  {
   "cell_type": "code",
   "execution_count": null,
   "metadata": {
    "vscode": {
     "languageId": "r"
    }
   },
   "outputs": [],
   "source": [
    "# subset the matrix to match samples in the metadata\n",
    "pat_type <- pat_type[, colnames(pat_type) %in% discovery_metadata$sample_name ]\n",
    "# match metadata to the matrix\n",
    "metadata_matched <- discovery_metadata[colnames(pat_type), ]"
   ]
  },
  {
   "cell_type": "code",
   "execution_count": null,
   "metadata": {
    "vscode": {
     "languageId": "r"
    }
   },
   "outputs": [],
   "source": [
    "head(pat_type)"
   ]
  },
  {
   "cell_type": "code",
   "execution_count": null,
   "metadata": {
    "vscode": {
     "languageId": "r"
    }
   },
   "outputs": [],
   "source": [
    "head(metadata_matched)"
   ]
  },
  {
   "attachments": {},
   "cell_type": "markdown",
   "metadata": {},
   "source": [
    "Make rowData"
   ]
  },
  {
   "cell_type": "code",
   "execution_count": null,
   "metadata": {
    "vscode": {
     "languageId": "r"
    }
   },
   "outputs": [],
   "source": [
    "gliphdf <- data.frame(gliph = rownames(pat_type))\n",
    "rownames(gliphdf) <- gliphdf$gliph\n",
    "gliphdf$Class <- onetest$hklust[match(rownames(gliphdf), onetest$Xpattern)]"
   ]
  },
  {
   "cell_type": "code",
   "execution_count": null,
   "metadata": {
    "vscode": {
     "languageId": "r"
    }
   },
   "outputs": [],
   "source": [
    "head(gliphdf)"
   ]
  },
  {
   "cell_type": "code",
   "execution_count": null,
   "metadata": {
    "vscode": {
     "languageId": "r"
    }
   },
   "outputs": [],
   "source": [
    "gliphdf$Firstpattern <- NA\n",
    "gliphdf$cluster_size <- NA\n",
    "gliphdf$Patterns <- NA\n",
    "\n",
    "for (i in 1:nrow(gliphdf)) {\n",
    "    gliphdf$Firstpattern[i] <- onetest$Xpattern[onetest$hklust == gliphdf$Class[i]][1] # just the first pattern\n",
    "    gliphdf$cluster_size[i] <- length(unique(onetest$Xpattern[onetest$hklust == gliphdf$Class[i]]) ) # cluster size\n",
    "    gliphdf$Patterns[i] <- paste(unique(onetest$Xpattern[onetest$hklust == gliphdf$Class[i]] ) , collapse = \",\")  # append all patterns for later inspection\n",
    "}\n"
   ]
  },
  {
   "cell_type": "code",
   "execution_count": null,
   "metadata": {
    "vscode": {
     "languageId": "r"
    }
   },
   "outputs": [],
   "source": [
    "head(gliphdf)"
   ]
  },
  {
   "attachments": {},
   "cell_type": "markdown",
   "metadata": {},
   "source": [
    "Create TreeSummarizedExperiment to input to ANCOMBC"
   ]
  },
  {
   "cell_type": "code",
   "execution_count": null,
   "metadata": {
    "vscode": {
     "languageId": "r"
    }
   },
   "outputs": [],
   "source": [
    "onetest_tse <- TreeSummarizedExperiment(\n",
    "    assays = list(Count = as.matrix(pat_type)),\n",
    "    rowData = gliphdf,\n",
    "    colData = metadata_matched\n",
    ")"
   ]
  },
  {
   "cell_type": "code",
   "execution_count": null,
   "metadata": {
    "vscode": {
     "languageId": "r"
    }
   },
   "outputs": [],
   "source": [
    "set.seed(111)"
   ]
  },
  {
   "cell_type": "code",
   "execution_count": null,
   "metadata": {
    "vscode": {
     "languageId": "r"
    }
   },
   "outputs": [],
   "source": [
    "out <- ancombc2(\n",
    "    data = onetest_tse, assay_name = \"Count\",\n",
    "    tax_level = NULL, \n",
    "    fix_formula = \"Agegroup + Sex + disease_group\", rand_formula = NULL,\n",
    "    p_adj_method = \"fdr\", \n",
    "    pseudo = 0, pseudo_sens = TRUE, # add pseudocounts\n",
    "    prv_cut = 0.01, # prevalence cutoff\n",
    "    lib_cut = 0, # library size cutoff\n",
    "    s0_perc = 0.05, \n",
    "    group = \"disease_group\", \n",
    "    struc_zero = TRUE, \n",
    "    neg_lb = FALSE, # check this again\n",
    "    alpha = 0.05, \n",
    "    n_cl = 2, # number of nodes\n",
    "    verbose = TRUE,\n",
    "    global = TRUE, pairwise = TRUE, dunnet = TRUE, trend = FALSE, # test types\n",
    "    iter_control = list(tol = 1e-2, max_iter = 20, verbose = TRUE),\n",
    "    em_control = list(tol = 1e-5, max_iter = 100),\n",
    "    lme_control = lme4::lmerControl(),\n",
    "    mdfdr_control = list(fwer_ctrl_method = \"fdr\", B = 100)\n",
    ")\n"
   ]
  },
  {
   "cell_type": "code",
   "execution_count": null,
   "metadata": {
    "vscode": {
     "languageId": "r"
    }
   },
   "outputs": [],
   "source": [
    "res = out$res"
   ]
  },
  {
   "cell_type": "code",
   "execution_count": null,
   "metadata": {
    "vscode": {
     "languageId": "r"
    }
   },
   "outputs": [],
   "source": [
    "names(out)"
   ]
  },
  {
   "cell_type": "code",
   "execution_count": null,
   "metadata": {
    "vscode": {
     "languageId": "r"
    }
   },
   "outputs": [],
   "source": [
    "names(res)"
   ]
  },
  {
   "cell_type": "code",
   "execution_count": null,
   "metadata": {
    "vscode": {
     "languageId": "r"
    }
   },
   "outputs": [],
   "source": [
    "rownames(res) <- res$taxon"
   ]
  },
  {
   "cell_type": "code",
   "execution_count": null,
   "metadata": {
    "vscode": {
     "languageId": "r"
    }
   },
   "outputs": [],
   "source": [
    "res[,c(\"taxon\", names(res)[grep(\"diff_\", names(res))])]"
   ]
  },
  {
   "cell_type": "code",
   "execution_count": null,
   "metadata": {
    "vscode": {
     "languageId": "r"
    }
   },
   "outputs": [],
   "source": [
    "ls()"
   ]
  },
  {
   "cell_type": "code",
   "execution_count": null,
   "metadata": {
    "vscode": {
     "languageId": "r"
    }
   },
   "outputs": [],
   "source": [
    "table(gliphdf$Class)"
   ]
  },
  {
   "cell_type": "code",
   "execution_count": null,
   "metadata": {
    "vscode": {
     "languageId": "r"
    }
   },
   "outputs": [],
   "source": [
    "gliphdf[ gliphdf$Class == \"Cluster_5\", ]"
   ]
  },
  {
   "cell_type": "code",
   "execution_count": null,
   "metadata": {
    "vscode": {
     "languageId": "r"
    }
   },
   "outputs": [],
   "source": [
    "gliphdf$Patterns[1]"
   ]
  },
  {
   "attachments": {},
   "cell_type": "markdown",
   "metadata": {},
   "source": [
    "# Group similar TCR groups"
   ]
  },
  {
   "cell_type": "code",
   "execution_count": null,
   "metadata": {
    "vscode": {
     "languageId": "r"
    }
   },
   "outputs": [],
   "source": [
    "filelist <- list.files(path = paste0(h4hpath, \"analysis/GLIPH/\"), pattern = \"_cluster_gliph_rm_na_singlerm.rds_hklust.rds\", full.names = FALSE)"
   ]
  },
  {
   "cell_type": "code",
   "execution_count": null,
   "metadata": {
    "vscode": {
     "languageId": "r"
    }
   },
   "outputs": [],
   "source": [
    "filelist"
   ]
  },
  {
   "cell_type": "code",
   "execution_count": null,
   "metadata": {
    "vscode": {
     "languageId": "r"
    }
   },
   "outputs": [],
   "source": [
    "onetest <- readr::read_rds(file = paste0(h4hpath, \"analysis/GLIPH/\", filelist[1]))"
   ]
  },
  {
   "cell_type": "code",
   "execution_count": null,
   "metadata": {
    "vscode": {
     "languageId": "r"
    }
   },
   "outputs": [],
   "source": [
    "dim(onetest)"
   ]
  },
  {
   "cell_type": "code",
   "execution_count": null,
   "metadata": {
    "vscode": {
     "languageId": "r"
    }
   },
   "outputs": [],
   "source": [
    "#separate rwos by comma in subject column to capture all subjects with the same cluster\n",
    "onetest <- tidyr::separate_rows(onetest, subject, sep = \",\")\n",
    "# trimws\n",
    "onetest$subject <- trimws(onetest$subject)"
   ]
  },
  {
   "cell_type": "code",
   "execution_count": null,
   "metadata": {
    "vscode": {
     "languageId": "r"
    }
   },
   "outputs": [],
   "source": [
    "dim(onetest)"
   ]
  },
  {
   "cell_type": "code",
   "execution_count": null,
   "metadata": {
    "vscode": {
     "languageId": "r"
    }
   },
   "outputs": [],
   "source": [
    "head(discovery_metadata)"
   ]
  },
  {
   "cell_type": "code",
   "execution_count": null,
   "metadata": {
    "vscode": {
     "languageId": "r"
    }
   },
   "outputs": [],
   "source": []
  },
  {
   "cell_type": "code",
   "execution_count": null,
   "metadata": {
    "vscode": {
     "languageId": "r"
    }
   },
   "outputs": [],
   "source": [
    "onetest <- onetest[ onetest$subject %in% discovery_metadata$sample_name, ]"
   ]
  },
  {
   "cell_type": "code",
   "execution_count": null,
   "metadata": {
    "vscode": {
     "languageId": "r"
    }
   },
   "outputs": [],
   "source": [
    "onetest$hklust <- paste0(\"Cluster_\", onetest$hklust)"
   ]
  },
  {
   "cell_type": "code",
   "execution_count": null,
   "metadata": {
    "vscode": {
     "languageId": "r"
    }
   },
   "outputs": [],
   "source": [
    "pat_type <- as.data.frame.matrix(table(onetest %>% select(hklust, subject)))"
   ]
  },
  {
   "cell_type": "code",
   "execution_count": null,
   "metadata": {
    "vscode": {
     "languageId": "r"
    }
   },
   "outputs": [],
   "source": [
    "head(pat_type)"
   ]
  },
  {
   "cell_type": "code",
   "execution_count": null,
   "metadata": {
    "vscode": {
     "languageId": "r"
    }
   },
   "outputs": [],
   "source": [
    "table(discovery_metadata$study, useNA = \"ifany\")"
   ]
  },
  {
   "cell_type": "code",
   "execution_count": null,
   "metadata": {
    "vscode": {
     "languageId": "r"
    }
   },
   "outputs": [],
   "source": [
    "table(discovery_metadata$disease)"
   ]
  },
  {
   "cell_type": "code",
   "execution_count": null,
   "metadata": {
    "vscode": {
     "languageId": "r"
    }
   },
   "outputs": [],
   "source": [
    "discovery_metadata[ discovery_metadata$Agegroup == \"Years\" ,]"
   ]
  },
  {
   "cell_type": "code",
   "execution_count": null,
   "metadata": {
    "vscode": {
     "languageId": "r"
    }
   },
   "outputs": [],
   "source": [
    "table(discovery_metadata$Agegroup, useNA = \"ifany\")\n"
   ]
  },
  {
   "cell_type": "code",
   "execution_count": null,
   "metadata": {
    "vscode": {
     "languageId": "r"
    }
   },
   "outputs": [],
   "source": [
    "rownames(discovery_metadata) <- discovery_metadata$sample_name"
   ]
  },
  {
   "cell_type": "code",
   "execution_count": null,
   "metadata": {
    "vscode": {
     "languageId": "r"
    }
   },
   "outputs": [],
   "source": [
    "head(discovery_metadata)"
   ]
  },
  {
   "attachments": {},
   "cell_type": "markdown",
   "metadata": {},
   "source": [
    "Zicoseq"
   ]
  },
  {
   "cell_type": "code",
   "execution_count": null,
   "metadata": {
    "vscode": {
     "languageId": "r"
    }
   },
   "outputs": [],
   "source": [
    "   #pat_type <- pat_type[, colnames(pat_type) %in% discovery_metadata$sample_name ]\n",
    "   metadata_matched <- discovery_metadata[colnames(pat_type), ]"
   ]
  },
  {
   "cell_type": "code",
   "execution_count": null,
   "metadata": {
    "vscode": {
     "languageId": "r"
    }
   },
   "outputs": [],
   "source": [
    "mytest <- ZicoSeq(\n",
    "    meta.dat = metadata_matched, feature.dat = as.matrix(pat_type),\n",
    "    grp.name = \"disease_group\", adj.name = c(\"Agegroup\", \"study\", \"Sex\"), feature.dat.type = \"count\",\n",
    "    # Filter to remove rare taxa\n",
    "    prev.filter = 0.01, mean.abund.filter = 0,\n",
    "    max.abund.filter = 0, min.prop = 0,\n",
    "    # Winsorization to replace outliers\n",
    "    is.winsor = FALSE, # outlier.pct = 0.03, winsor.end = 'top',\n",
    "    # Posterior sampling\n",
    "    is.post.sample = TRUE, post.sample.no = 25,\n",
    "    # Use the square-root transformation\n",
    "    link.func = list(function(x) x^0.5), stats.combine.func = max,\n",
    "    # Permutation-based multiple testing correction\n",
    "    perm.no = 99, strata = NULL,\n",
    "    # Reference-based multiple stage normalization\n",
    "    ref.pct = 0.5, stage.no = 6, excl.pct = 0.2,\n",
    "    # Family-wise error rate control\n",
    "    is.fwer = TRUE, verbose = TRUE, return.feature.dat = TRUE\n",
    ")\n"
   ]
  },
  {
   "cell_type": "code",
   "execution_count": null,
   "metadata": {
    "vscode": {
     "languageId": "r"
    }
   },
   "outputs": [],
   "source": [
    "r2_fdr <- as.data.frame(mytest$R2)\n",
    "r2_fdr$padj <- mytest$p.adj.fdr[match(rownames(r2_fdr), names(mytest$p.adj.fdr))]\n",
    "r2_fdr$p <- mytest$p.raw[match(rownames(r2_fdr), names(mytest$p.raw))]"
   ]
  },
  {
   "cell_type": "code",
   "execution_count": null,
   "metadata": {
    "vscode": {
     "languageId": "r"
    }
   },
   "outputs": [],
   "source": [
    "r2_fdr"
   ]
  },
  {
   "cell_type": "code",
   "execution_count": null,
   "metadata": {
    "vscode": {
     "languageId": "r"
    }
   },
   "outputs": [],
   "source": [
    "onetest[ onetest$hklust %in% c(\"Cluster_4\",\"Cluster_5\"), c(\"Xpattern\", \"subject\", \"hklust\")]"
   ]
  },
  {
   "attachments": {},
   "cell_type": "markdown",
   "metadata": {},
   "source": [
    "# GLIPH groups"
   ]
  },
  {
   "cell_type": "code",
   "execution_count": null,
   "metadata": {
    "vscode": {
     "languageId": "r"
    }
   },
   "outputs": [],
   "source": [
    "filelist <- list.files(path = paste0(h4hpath, \"analysis/GLIPH/\"), pattern = \"_cluster_gliph_rm_na_singlerm.rds\", full.names = FALSE)\n",
    "# remove *.sh\n",
    "filelist <- filelist[!grepl(\"sh\", filelist)]\n",
    "# remove *.out\n",
    "filelist <- filelist[!grepl(\"out\", filelist)]\n",
    "# remove *hklust.rds\n",
    "filelist <- filelist[!grepl(\"hklust\", filelist)]"
   ]
  },
  {
   "cell_type": "code",
   "execution_count": null,
   "metadata": {
    "vscode": {
     "languageId": "r"
    }
   },
   "outputs": [],
   "source": [
    "filelist"
   ]
  },
  {
   "cell_type": "code",
   "execution_count": null,
   "metadata": {
    "vscode": {
     "languageId": "r"
    }
   },
   "outputs": [],
   "source": [
    "mylist <- lapply(filelist, function(x){ gliph_div.fx(datapath, h4hpath, x )})"
   ]
  },
  {
   "cell_type": "code",
   "execution_count": null,
   "metadata": {
    "vscode": {
     "languageId": "r"
    }
   },
   "outputs": [],
   "source": [
    "head(mylist[[1]])"
   ]
  },
  {
   "cell_type": "code",
   "execution_count": null,
   "metadata": {
    "vscode": {
     "languageId": "r"
    }
   },
   "outputs": [],
   "source": [
    "#mylist <- lapply(mylist, function(x) as.data.frame(x))"
   ]
  },
  {
   "attachments": {},
   "cell_type": "markdown",
   "metadata": {},
   "source": [
    "ZicoSeq"
   ]
  },
  {
   "cell_type": "code",
   "execution_count": null,
   "metadata": {
    "vscode": {
     "languageId": "r"
    }
   },
   "outputs": [],
   "source": [
    "rownames(discovery_metadata) <- discovery_metadata$sample_name"
   ]
  },
  {
   "cell_type": "code",
   "execution_count": null,
   "metadata": {
    "vscode": {
     "languageId": "r"
    }
   },
   "outputs": [],
   "source": [
    "lapply(mylist, function(x) dim(x))"
   ]
  },
  {
   "cell_type": "code",
   "execution_count": null,
   "metadata": {
    "vscode": {
     "languageId": "r"
    }
   },
   "outputs": [],
   "source": [
    "# get number of zero for each row in each matrix\n",
    "mylist_5 <- lapply(mylist, \\(x) { x[rowSums(x != 0) > 9  , ] })\n",
    "mylist_5 <- lapply(mylist_5, \\(x) { x[ ,colSums(x != 0) > 1   ] })\n"
   ]
  },
  {
   "cell_type": "code",
   "execution_count": null,
   "metadata": {
    "vscode": {
     "languageId": "r"
    }
   },
   "outputs": [],
   "source": [
    "zicolist  <- lapply(mylist_5, \\(x) {zicoseq.fx(as.matrix(x), discovery_metadata, \"disease_group\")} )"
   ]
  },
  {
   "cell_type": "code",
   "execution_count": null,
   "metadata": {
    "vscode": {
     "languageId": "r"
    }
   },
   "outputs": [],
   "source": [
    "length(zicolist)"
   ]
  },
  {
   "cell_type": "code",
   "execution_count": null,
   "metadata": {
    "vscode": {
     "languageId": "r"
    }
   },
   "outputs": [],
   "source": [
    "dfColList <- lapply(zicolist ,rownames)\n",
    "commonCols <- Reduce(intersect,dfColList)"
   ]
  },
  {
   "cell_type": "code",
   "execution_count": null,
   "metadata": {
    "vscode": {
     "languageId": "r"
    }
   },
   "outputs": [],
   "source": [
    "commonCols"
   ]
  },
  {
   "cell_type": "code",
   "execution_count": null,
   "metadata": {
    "vscode": {
     "languageId": "r"
    }
   },
   "outputs": [],
   "source": [
    "zicolist <- lapply(zicolist ,\\(x) x[  order(x$padj, decreasing = F),])"
   ]
  },
  {
   "cell_type": "code",
   "execution_count": null,
   "metadata": {
    "vscode": {
     "languageId": "r"
    }
   },
   "outputs": [],
   "source": [
    "lapply(zicolist , head)"
   ]
  },
  {
   "attachments": {},
   "cell_type": "markdown",
   "metadata": {},
   "source": [
    "A lot of these TCR groups are highly similar, for example global-SE%RNTE, global-SET%NTE. Let's group them together based on PID on H4H and rerun zicoseq"
   ]
  },
  {
   "cell_type": "code",
   "execution_count": null,
   "metadata": {
    "vscode": {
     "languageId": "r"
    }
   },
   "outputs": [],
   "source": [
    "which(mytest$p.raw < 0.1)"
   ]
  },
  {
   "cell_type": "code",
   "execution_count": null,
   "metadata": {
    "vscode": {
     "languageId": "r"
    }
   },
   "outputs": [],
   "source": [
    "head(metadata_matched)"
   ]
  },
  {
   "cell_type": "code",
   "execution_count": null,
   "metadata": {
    "vscode": {
     "languageId": "r"
    }
   },
   "outputs": [],
   "source": [
    "names(mytest)"
   ]
  },
  {
   "cell_type": "code",
   "execution_count": null,
   "metadata": {
    "vscode": {
     "languageId": "r"
    }
   },
   "outputs": [],
   "source": [
    "mytest$p.adj.fdr"
   ]
  },
  {
   "cell_type": "code",
   "execution_count": null,
   "metadata": {
    "vscode": {
     "languageId": "r"
    }
   },
   "outputs": [],
   "source": [
    "(r2_fdr)"
   ]
  },
  {
   "cell_type": "code",
   "execution_count": null,
   "metadata": {
    "vscode": {
     "languageId": "r"
    }
   },
   "outputs": [],
   "source": [
    "p <- ggplot(r2_fdr, aes(x=Func1, y=-log10(padj))) +\n",
    "    geom_point(size=2.5) +\n",
    "    #scale_colour_manual(values = c(\"Down-regulated\"= \"blue\", \"Up-regulated\"=\"red\",  \"not significant\"= \"black\")) +    \n",
    "\n",
    "    myplot + myaxis +\n",
    "    theme(axis.text.x = element_text(size = 30, angle = 0, hjust = 0.5),\n",
    "          axis.title = element_text(size = 30), axis.text.y = element_text(size = 30),\n",
    "          plot.title = element_text(size = 30, hjust = 0.5), legend.position = \"none\") + \n",
    "    labs(x = \"R2\" ,y = \"p-value (-Log10)\") "
   ]
  },
  {
   "cell_type": "code",
   "execution_count": null,
   "metadata": {
    "vscode": {
     "languageId": "r"
    }
   },
   "outputs": [],
   "source": [
    "p"
   ]
  },
  {
   "attachments": {},
   "cell_type": "markdown",
   "metadata": {},
   "source": [
    "# Backup"
   ]
  },
  {
   "cell_type": "code",
   "execution_count": null,
   "metadata": {
    "vscode": {
     "languageId": "r"
    }
   },
   "outputs": [],
   "source": [
    "metadata_matched <- discovery_metadata[colnames(pat_type), ]"
   ]
  },
  {
   "cell_type": "code",
   "execution_count": null,
   "metadata": {
    "vscode": {
     "languageId": "r"
    }
   },
   "outputs": [],
   "source": [
    "head(metadata_matched)"
   ]
  },
  {
   "cell_type": "code",
   "execution_count": null,
   "metadata": {
    "vscode": {
     "languageId": "r"
    }
   },
   "outputs": [],
   "source": [
    "dds <- DESeqDataSetFromMatrix( as.matrix(pat_type) + 1, colData = metadata_matched, \n",
    "                                design = ~ study + Sex + disease_group)"
   ]
  },
  {
   "cell_type": "code",
   "execution_count": null,
   "metadata": {
    "vscode": {
     "languageId": "r"
    }
   },
   "outputs": [],
   "source": [
    "dds <- DESeq(dds, parallel = TRUE)"
   ]
  },
  {
   "cell_type": "code",
   "execution_count": null,
   "metadata": {
    "vscode": {
     "languageId": "r"
    }
   },
   "outputs": [],
   "source": [
    "res <- as.data.frame(results(dds, contrast= c(\"disease_group\", \"Cancer\", \"Non-Cancer\")))"
   ]
  },
  {
   "cell_type": "code",
   "execution_count": null,
   "metadata": {
    "vscode": {
     "languageId": "r"
    }
   },
   "outputs": [],
   "source": [
    "res"
   ]
  },
  {
   "cell_type": "code",
   "execution_count": null,
   "metadata": {
    "vscode": {
     "languageId": "r"
    }
   },
   "outputs": [],
   "source": [
    "head(onetest)"
   ]
  },
  {
   "cell_type": "code",
   "execution_count": null,
   "metadata": {
    "vscode": {
     "languageId": "r"
    }
   },
   "outputs": [],
   "source": []
  },
  {
   "cell_type": "code",
   "execution_count": null,
   "metadata": {
    "vscode": {
     "languageId": "r"
    }
   },
   "outputs": [],
   "source": [
    "aln.fx <- function(x) {\n",
    "\n",
    "    mygroups <- gsub(\"%\", \"X\", unique(x$pattern))\n",
    "    mymat <- matrix(0,\n",
    "        nrow = length(mygroups), ncol = length(mygroups),\n",
    "        dimnames = list(mygroups, mygroups)\n",
    "    )\n",
    "    D <- combn(length(mygroups), 2)\n",
    "\n",
    "    for (i in 1:ncol(D)) {\n",
    "        aln <- pairwiseAlignment(\n",
    "            rownames(mymat)[D[1, i]],\n",
    "            rownames(mymat)[D[2, i]],\n",
    "            substitutionMatrix = BLOSUM62, gapOpening = -2, gapExtension = -10)\n",
    "        # print(aln)\n",
    "        mymat[D[1, i], D[2, i]] <- score(aln)\n",
    "        mymat[D[2, i], D[1, i]] <- score(aln)\n",
    "    }\n",
    "    return(mymat)\n",
    "}\n"
   ]
  },
  {
   "cell_type": "code",
   "execution_count": null,
   "metadata": {
    "vscode": {
     "languageId": "r"
    }
   },
   "outputs": [],
   "source": [
    "mm <- aln.fx(onetest[1:50,])"
   ]
  },
  {
   "cell_type": "code",
   "execution_count": null,
   "metadata": {
    "vscode": {
     "languageId": "r"
    }
   },
   "outputs": [],
   "source": [
    "dist_mat <- dist(mymat, method = 'euclidean')\n",
    "hclust_avg <- hclust(dist_mat, method = 'average')\n",
    "cut_avg <- cutree(hclust_avg, h = quantile(dist_mat,0.25))\n"
   ]
  },
  {
   "cell_type": "code",
   "execution_count": null,
   "metadata": {
    "vscode": {
     "languageId": "r"
    }
   },
   "outputs": [],
   "source": [
    "onetest1 <- onetest[1:50,]"
   ]
  },
  {
   "cell_type": "code",
   "execution_count": null,
   "metadata": {
    "vscode": {
     "languageId": "r"
    }
   },
   "outputs": [],
   "source": [
    "mygroups <- gsub(\"%\", \"X\", unique(onetest1$pattern))\n",
    "    mymat <- matrix(0,\n",
    "        nrow = length(mygroups), ncol = length(mygroups),\n",
    "        dimnames = list(mygroups, mygroups))"
   ]
  },
  {
   "cell_type": "code",
   "execution_count": null,
   "metadata": {
    "vscode": {
     "languageId": "r"
    }
   },
   "outputs": [],
   "source": [
    "D <- combn(length(mygroups), 2)\n",
    "\n",
    "    for (i in 1:ncol(D)) {\n",
    "        aln <- pairwiseAlignment(\n",
    "            rownames(mymat)[D[1, i]],\n",
    "            rownames(mymat)[D[2, i]],\n",
    "            substitutionMatrix = BLOSUM62, gapOpening = -2, gapExtension = -10)\n",
    "        # print(aln)\n",
    "        mymat[D[1, i], D[2, i]] <- score(aln)\n",
    "        mymat[D[2, i], D[1, i]] <- score(aln)\n",
    "    }"
   ]
  },
  {
   "cell_type": "code",
   "execution_count": null,
   "metadata": {
    "vscode": {
     "languageId": "r"
    }
   },
   "outputs": [],
   "source": [
    "dist_mat <- dist(mymat, method = 'euclidean')\n",
    "hclust_avg <- hclust(dist_mat, method = 'average')\n",
    "cut_avg <- dendextend::cutree(hclust_avg, h = quantile(dist_mat,0.1))"
   ]
  },
  {
   "cell_type": "code",
   "execution_count": null,
   "metadata": {
    "vscode": {
     "languageId": "r"
    }
   },
   "outputs": [],
   "source": [
    "names(hclust_avg)"
   ]
  },
  {
   "cell_type": "code",
   "execution_count": null,
   "metadata": {
    "vscode": {
     "languageId": "r"
    }
   },
   "outputs": [],
   "source": [
    "names(cut_avg)"
   ]
  },
  {
   "cell_type": "code",
   "execution_count": null,
   "metadata": {
    "vscode": {
     "languageId": "r"
    }
   },
   "outputs": [],
   "source": [
    "onetest1$pattern1 <- gsub(\"%\", \"X\", onetest1$pattern)"
   ]
  },
  {
   "cell_type": "code",
   "execution_count": null,
   "metadata": {
    "vscode": {
     "languageId": "r"
    }
   },
   "outputs": [],
   "source": [
    "onetest1$hk <- cut_avg[match(onetest1$pattern1, names(cut_avg))]"
   ]
  },
  {
   "cell_type": "code",
   "execution_count": null,
   "metadata": {
    "vscode": {
     "languageId": "r"
    }
   },
   "outputs": [],
   "source": [
    "(table(cut_avg))"
   ]
  },
  {
   "cell_type": "code",
   "execution_count": null,
   "metadata": {
    "vscode": {
     "languageId": "r"
    }
   },
   "outputs": [],
   "source": [
    "library(dendextend)\n",
    "row_dend = as.dendrogram(hclust_avg)\n",
    "row_dend = color_branches(row_dend, k = length((table(cut_avg)))) \n",
    "hm <- ComplexHeatmap::Heatmap(mymat, name = \"mat\", \n",
    "cluster_rows = row_dend, row_dend_width = unit(4, \"cm\"))"
   ]
  },
  {
   "cell_type": "code",
   "execution_count": null,
   "metadata": {
    "vscode": {
     "languageId": "r"
    }
   },
   "outputs": [],
   "source": [
    "pdf(paste0(plotpath, \"test.pdf\"), width = 10, height = 10)\n",
    "hm\n",
    "dev.off()"
   ]
  },
  {
   "cell_type": "code",
   "execution_count": null,
   "metadata": {
    "vscode": {
     "languageId": "r"
    }
   },
   "outputs": [],
   "source": [
    "ComplexHeatmap::Heatmap(mymat)"
   ]
  },
  {
   "cell_type": "code",
   "execution_count": null,
   "metadata": {
    "vscode": {
     "languageId": "r"
    }
   },
   "outputs": [],
   "source": [
    "head(onetest)"
   ]
  },
  {
   "cell_type": "code",
   "execution_count": null,
   "metadata": {
    "vscode": {
     "languageId": "r"
    }
   },
   "outputs": [],
   "source": []
  },
  {
   "cell_type": "code",
   "execution_count": null,
   "metadata": {
    "vscode": {
     "languageId": "r"
    }
   },
   "outputs": [],
   "source": []
  },
  {
   "cell_type": "code",
   "execution_count": null,
   "metadata": {
    "vscode": {
     "languageId": "r"
    }
   },
   "outputs": [],
   "source": []
  },
  {
   "cell_type": "code",
   "execution_count": null,
   "metadata": {
    "vscode": {
     "languageId": "r"
    }
   },
   "outputs": [],
   "source": []
  },
  {
   "cell_type": "code",
   "execution_count": null,
   "metadata": {
    "vscode": {
     "languageId": "r"
    }
   },
   "outputs": [],
   "source": []
  },
  {
   "cell_type": "code",
   "execution_count": null,
   "metadata": {
    "vscode": {
     "languageId": "r"
    }
   },
   "outputs": [],
   "source": []
  },
  {
   "cell_type": "code",
   "execution_count": null,
   "metadata": {
    "vscode": {
     "languageId": "r"
    }
   },
   "outputs": [],
   "source": []
  },
  {
   "cell_type": "code",
   "execution_count": null,
   "metadata": {
    "vscode": {
     "languageId": "r"
    }
   },
   "outputs": [],
   "source": [
    "volcano.fx <- function(resdf, fc, padj, ttl){\n",
    "    \n",
    "    # remove padj = NA\n",
    "    \n",
    "    resdf <- resdf[ !is.na(resdf$padj),]\n",
    "    \n",
    "    resdf$threshold <- NA\n",
    "    resdf$threshold[ resdf$log2FoldChange > fc & resdf$padj < padj] <- \"Up-regulated\"\n",
    "    resdf$threshold[ resdf$log2FoldChange < -fc & resdf$padj < padj] <- \"Down-regulated\"\n",
    "    resdf$threshold[ is.na(resdf$threshold)] <- \"not significant\"\n",
    "    \n",
    "res_upreg <- resdf[ resdf$threshold == \"Up-regulated\",]    \n",
    "res_upreg <- res_upreg[order(res_upreg$log2FoldChange, decreasing = T),]    \n",
    "res_downreg <- resdf[ resdf$threshold == \"Down-regulated\",]    \n",
    "res_downreg <- res_downreg[order(res_downreg$log2FoldChange, decreasing = F),]  \n",
    "\n",
    "if(nrow(res_upreg) < 10){\n",
    "    resdf$genelabels[ rownames(resdf) %in% rownames(res_upreg)] <- \"UP\"}\n",
    "if(nrow(res_downreg) < 10){\n",
    "    resdf$genelabels[rownames(resdf) %in% rownames(res_downreg)] <- \"DOWN\"}    \n",
    "\n",
    "if(nrow(res_upreg) >= 10){\n",
    "    resdf$genelabels[rownames(resdf) %in% rownames(res_upreg)[1:10]] <- \"UP\"   }\n",
    "if(nrow(res_downreg) >= 10){\n",
    "    resdf$genelabels[rownames(resdf) %in% rownames(res_downreg)[1:10]] <- \"DOWN\" } \n",
    "    \n",
    "    p <- ggplot(resdf, aes(x=log2FoldChange, y=-log10(pvalue))) +\n",
    "    geom_point(aes(color = threshold), size=2.5) +\n",
    "    scale_colour_manual(values = c(\"Down-regulated\"= \"blue\", \"Up-regulated\"=\"red\",  \"not significant\"= \"black\")) +    \n",
    "    geom_text_repel(data = subset(resdf, genelabels == \"UP\"),\n",
    "                    label = subset(resdf, genelabels == \"UP\")$Gene_gencode,\n",
    "                    size = 8, box.padding = 1, max.overlaps = Inf,  min.segment.length = 0,\n",
    "                    direction = \"both\", nudge_x = 3, nudge_y = 0.5, vjust = 0.5, hjust = 0.5) + \n",
    "    geom_text_repel(data = subset(resdf, genelabels == \"DOWN\"),\n",
    "                    label = subset(resdf, genelabels == \"DOWN\")$Gene_gencode,\n",
    "                    size = 8, box.padding = 1, max.overlaps = Inf, direction = \"both\", \n",
    "                    nudge_x = -3, nudge_y = 0.5,\n",
    "                    vjust = 0.5, hjust = 0.5, min.segment.length = 0) + \n",
    "    myplot + myaxis +\n",
    "    theme(axis.text.x = element_text(size = 30, angle = 0, hjust = 0.5),\n",
    "          axis.title = element_text(size = 30), axis.text.y = element_text(size = 30),\n",
    "          plot.title = element_text(size = 30, hjust = 0.5), legend.position = \"none\") + \n",
    "    labs(x = \"Fold change (Log2)\" ,y = \"p-value (-Log10)\", title = ttl)     \n",
    "    \n",
    "    return(p)\n",
    "}"
   ]
  },
  {
   "cell_type": "code",
   "execution_count": null,
   "metadata": {
    "vscode": {
     "languageId": "r"
    }
   },
   "outputs": [],
   "source": []
  },
  {
   "cell_type": "code",
   "execution_count": null,
   "metadata": {
    "vscode": {
     "languageId": "r"
    }
   },
   "outputs": [],
   "source": []
  },
  {
   "cell_type": "code",
   "execution_count": null,
   "metadata": {
    "vscode": {
     "languageId": "r"
    }
   },
   "outputs": [],
   "source": []
  }
 ],
 "metadata": {
  "kernelspec": {
   "display_name": "R 4.0",
   "language": "R",
   "name": "ir40"
  },
  "language_info": {
   "codemirror_mode": "r",
   "file_extension": ".r",
   "mimetype": "text/x-r-source",
   "name": "R",
   "pygments_lexer": "r",
   "version": "4.2.2"
  },
  "toc": {
   "base_numbering": 1,
   "nav_menu": {},
   "number_sections": false,
   "sideBar": true,
   "skip_h1_title": false,
   "title_cell": "Table of Contents",
   "title_sidebar": "Contents",
   "toc_cell": true,
   "toc_position": {
    "height": "calc(100% - 180px)",
    "left": "10px",
    "top": "150px",
    "width": "186.15px"
   },
   "toc_section_display": true,
   "toc_window_display": true
  }
 },
 "nbformat": 4,
 "nbformat_minor": 2
}
